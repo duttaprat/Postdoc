{
 "cells": [
  {
   "cell_type": "code",
   "execution_count": 2,
   "id": "10330830-230d-4a8c-91f3-34fda2db24fe",
   "metadata": {},
   "outputs": [],
   "source": [
    "import pandas as pd\n",
    "import numpy as np\n",
    "import pickle\n",
    "import io"
   ]
  },
  {
   "cell_type": "code",
   "execution_count": 10,
   "id": "002161e1-0228-4bdd-a412-933d5b61bac5",
   "metadata": {},
   "outputs": [],
   "source": [
    "npz_file = np.load(\"/data/projects/Enhancer/Finetuned_data/Consensus_filter_1/cached_train_6-new-12w-0_200_dnaprom\")"
   ]
  },
  {
   "cell_type": "code",
   "execution_count": 11,
   "id": "94d1ce24-7262-49d5-93cb-01f7655bd395",
   "metadata": {},
   "outputs": [
    {
     "data": {
      "text/plain": [
       "['cached_train_6-new-12w-0_200_dnaprom/data.pkl',\n",
       " 'cached_train_6-new-12w-0_200_dnaprom/version']"
      ]
     },
     "execution_count": 11,
     "metadata": {},
     "output_type": "execute_result"
    }
   ],
   "source": [
    "npz_file.files"
   ]
  },
  {
   "cell_type": "code",
   "execution_count": 12,
   "id": "f323d937-5d4a-4439-a853-f6697d61cf10",
   "metadata": {},
   "outputs": [],
   "source": [
    "# Extract the content of data.pkl\n",
    "data_pkl_content = npz_file['cached_train_6-new-12w-0_200_dnaprom/data.pkl']"
   ]
  },
  {
   "cell_type": "code",
   "execution_count": 15,
   "id": "62b37b46-0379-4974-bdbb-d4de5ba2bafa",
   "metadata": {},
   "outputs": [],
   "source": [
    "# Convert bytes to a BytesIO stream so we can unpickle it\n",
    "data_pkl_stream = io.BytesIO(data_pkl_content)\n",
    "data = pickle.load(data_pkl_stream)"
   ]
  },
  {
   "cell_type": "code",
   "execution_count": 37,
   "id": "f0538bf8-21a4-4b98-8919-3592ddabf1b0",
   "metadata": {},
   "outputs": [],
   "source": [
    "input_ids_list = [item.input_ids[1:-4] for item in data]\n",
    "labels_list = [item.label for item in data]\n",
    "\n",
    "\n",
    "# Convert the list to a numpy array\n",
    "input_ids_array = np.array(input_ids_list)\n",
    "labels_array = np.array(labels_list)"
   ]
  },
  {
   "cell_type": "code",
   "execution_count": 38,
   "id": "84f27e01-0371-47ae-ac7d-ede3147d4cdf",
   "metadata": {},
   "outputs": [
    {
     "data": {
      "text/plain": [
       "(12760, 195)"
      ]
     },
     "execution_count": 38,
     "metadata": {},
     "output_type": "execute_result"
    }
   ],
   "source": [
    "input_ids_array.shape"
   ]
  },
  {
   "cell_type": "code",
   "execution_count": 39,
   "id": "a9429601-ea71-42a0-a904-f0d61d8bf029",
   "metadata": {},
   "outputs": [
    {
     "data": {
      "text/plain": [
       "array([[1112,  338, 1340, ..., 1003, 3998, 3689],\n",
       "       [ 529, 2102,  203, ..., 1058,  123,  479],\n",
       "       [1379, 1407, 1518, ..., 1847, 3278,  812],\n",
       "       ...,\n",
       "       [2521, 1878, 3401, ..., 3221,  582, 2313],\n",
       "       [ 974, 3883, 3229, ..., 3978, 3610, 2138],\n",
       "       [2017, 3960, 3537, ..., 1748, 2883, 3327]])"
      ]
     },
     "execution_count": 39,
     "metadata": {},
     "output_type": "execute_result"
    }
   ],
   "source": [
    "input_ids_array"
   ]
  },
  {
   "cell_type": "code",
   "execution_count": 40,
   "id": "1c3bc24c-3ddc-443b-b994-14cde157cab9",
   "metadata": {},
   "outputs": [],
   "source": [
    "np.save('/data/projects/Enhancer/RECOMB_2024/comparative_study/train.npy', input_ids_array)\n",
    "np.save('/data/projects/Enhancer/RECOMB_2024/comparative_study/train_labels.npy', labels_array)"
   ]
  },
  {
   "cell_type": "code",
   "execution_count": 41,
   "id": "da0d38c4-2d8b-43d9-9713-464a8068b01c",
   "metadata": {},
   "outputs": [],
   "source": [
    "test_npz_file = np.load(\"/data/projects/Enhancer/Finetuned_data/Consensus_filter_1/cached_dev_6-new-12w-0_200_dnaprom\")"
   ]
  },
  {
   "cell_type": "code",
   "execution_count": 42,
   "id": "24df6a1d-3cea-4826-8499-780e3e1346e9",
   "metadata": {},
   "outputs": [
    {
     "data": {
      "text/plain": [
       "['cached_dev_6-new-12w-0_200_dnaprom/data.pkl',\n",
       " 'cached_dev_6-new-12w-0_200_dnaprom/version']"
      ]
     },
     "execution_count": 42,
     "metadata": {},
     "output_type": "execute_result"
    }
   ],
   "source": [
    "test_npz_file.files"
   ]
  },
  {
   "cell_type": "code",
   "execution_count": 44,
   "id": "98cbda5e-e5de-4e87-af53-d91668b7de68",
   "metadata": {},
   "outputs": [],
   "source": [
    "test_data_pkl_content = test_npz_file['cached_dev_6-new-12w-0_200_dnaprom/data.pkl']"
   ]
  },
  {
   "cell_type": "code",
   "execution_count": 45,
   "id": "38632bf7-e618-4af3-b968-999ef1ac5147",
   "metadata": {},
   "outputs": [],
   "source": [
    "# Convert bytes to a BytesIO stream so we can unpickle it\n",
    "test_data_pkl_stream = io.BytesIO(test_data_pkl_content)\n",
    "test_data = pickle.load(test_data_pkl_stream)"
   ]
  },
  {
   "cell_type": "code",
   "execution_count": 46,
   "id": "24f50bab-d907-425d-b41d-93eb6a8a4dbb",
   "metadata": {},
   "outputs": [],
   "source": [
    "input_ids_list = [item.input_ids[1:-4] for item in test_data]\n",
    "labels_list = [item.label for item in test_data]\n",
    "\n",
    "\n",
    "# Convert the list to a numpy array\n",
    "input_ids_array = np.array(input_ids_list)\n",
    "labels_array = np.array(labels_list)"
   ]
  },
  {
   "cell_type": "code",
   "execution_count": 47,
   "id": "e9fa9aea-3347-453e-bf83-353fd3f90f0d",
   "metadata": {},
   "outputs": [
    {
     "data": {
      "text/plain": [
       "(3191, 195)"
      ]
     },
     "execution_count": 47,
     "metadata": {},
     "output_type": "execute_result"
    }
   ],
   "source": [
    "input_ids_array.shape"
   ]
  },
  {
   "cell_type": "code",
   "execution_count": 48,
   "id": "236f9d44-b17c-4337-8cde-df32e3f09281",
   "metadata": {},
   "outputs": [],
   "source": [
    "np.save('/data/projects/Enhancer/RECOMB_2024/comparative_study/test.npy', input_ids_array)\n",
    "np.save('/data/projects/Enhancer/RECOMB_2024/comparative_study/test_labels.npy', labels_array)"
   ]
  },
  {
   "cell_type": "code",
   "execution_count": 4,
   "id": "6e0e4457-6688-4293-a956-b0c3dc06ea67",
   "metadata": {},
   "outputs": [],
   "source": [
    "standalone_npz_file = np.load(\"/data/projects/Enhancer/Finetuned_data/Consensus_filter_1/Evaluation_data/cached_dev_200_dnaprom\")"
   ]
  },
  {
   "cell_type": "code",
   "execution_count": 7,
   "id": "07aa2fa8-4278-4443-aaca-1331f44dceed",
   "metadata": {},
   "outputs": [
    {
     "data": {
      "text/plain": [
       "['cached_dev_200_dnaprom/data.pkl', 'cached_dev_200_dnaprom/version']"
      ]
     },
     "execution_count": 7,
     "metadata": {},
     "output_type": "execute_result"
    }
   ],
   "source": [
    "standalone_npz_file.files"
   ]
  },
  {
   "cell_type": "code",
   "execution_count": 9,
   "id": "5147391a-8ad1-467f-99ac-1dbe7b31c8f6",
   "metadata": {},
   "outputs": [],
   "source": [
    "data_pkl_content = standalone_npz_file['cached_dev_200_dnaprom/data.pkl']"
   ]
  },
  {
   "cell_type": "code",
   "execution_count": 10,
   "id": "78ab5911-4ada-4fc4-8899-6961936efeea",
   "metadata": {},
   "outputs": [],
   "source": [
    "# Convert bytes to a BytesIO stream so we can unpickle it\n",
    "data_pkl_stream = io.BytesIO(data_pkl_content)\n",
    "data = pickle.load(data_pkl_stream)\n",
    "input_ids_list = [item.input_ids[1:-4] for item in data]\n",
    "labels_list = [item.label for item in data]\n",
    "\n",
    "\n",
    "# Convert the list to a numpy array\n",
    "input_ids_array = np.array(input_ids_list)\n",
    "labels_array = np.array(labels_list)"
   ]
  },
  {
   "cell_type": "code",
   "execution_count": 11,
   "id": "ead6e616-042f-430c-9754-871e2d146fb2",
   "metadata": {},
   "outputs": [
    {
     "data": {
      "text/plain": [
       "(145650, 195)"
      ]
     },
     "execution_count": 11,
     "metadata": {},
     "output_type": "execute_result"
    }
   ],
   "source": [
    "input_ids_array.shape"
   ]
  },
  {
   "cell_type": "code",
   "execution_count": 12,
   "id": "f3216bfa-6337-4bc6-9664-b1308903d225",
   "metadata": {},
   "outputs": [],
   "source": [
    "np.save('/data/projects/Enhancer/RECOMB_2024/comparative_study/standalone_test.npy', input_ids_array)\n",
    "np.save('/data/projects/Enhancer/RECOMB_2024/comparative_study/standalone_labels.npy', labels_array)"
   ]
  },
  {
   "cell_type": "code",
   "execution_count": null,
   "id": "c2a586ca-8933-48cf-a4e6-0b846a5d1a7a",
   "metadata": {},
   "outputs": [],
   "source": []
  }
 ],
 "metadata": {
  "kernelspec": {
   "display_name": "Python 3 (ipykernel)",
   "language": "python",
   "name": "python3"
  },
  "language_info": {
   "codemirror_mode": {
    "name": "ipython",
    "version": 3
   },
   "file_extension": ".py",
   "mimetype": "text/x-python",
   "name": "python",
   "nbconvert_exporter": "python",
   "pygments_lexer": "ipython3",
   "version": "3.10.11"
  }
 },
 "nbformat": 4,
 "nbformat_minor": 5
}
