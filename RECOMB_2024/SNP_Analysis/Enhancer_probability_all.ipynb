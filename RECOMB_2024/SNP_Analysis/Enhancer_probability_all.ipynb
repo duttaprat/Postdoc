{
 "cells": [
  {
   "cell_type": "code",
   "execution_count": 6,
   "id": "63f40c7b-4e9b-4626-a876-38edcd6b2686",
   "metadata": {},
   "outputs": [],
   "source": [
    "import os, glob\n",
    "import numpy as np\n",
    "import pandas as pd\n",
    "import math\n",
    "import plotly.graph_objects as go\n",
    "import plotly.express as px\n",
    "import plotly.figure_factory as ff\n",
    "import seaborn as sns\n",
    "import matplotlib.pyplot as plt\n",
    "from scipy.stats import norm\n",
    "from scipy import stats\n",
    "from statsmodels.stats.weightstats import ztest"
   ]
  },
  {
   "cell_type": "code",
   "execution_count": 7,
   "id": "7e1bf78f-c95e-40e7-a553-4ed206291da8",
   "metadata": {},
   "outputs": [],
   "source": [
    "base_dir = \"/data/projects/Enhancer/RECOMB_2024/SNP_data/Consensus_data/\""
   ]
  },
  {
   "cell_type": "code",
   "execution_count": 8,
   "id": "7f51a017-a684-4935-9920-bf80a213876e",
   "metadata": {},
   "outputs": [],
   "source": [
    "output_path = \"/data/projects/Enhancer/RECOMB_2024/Variant_Analysis/Consensus_data\"\n",
    "if not os.path.exists(output_path):\n",
    "    os.makedirs(output_path)"
   ]
  },
  {
   "cell_type": "code",
   "execution_count": 9,
   "id": "d0c512c7-f77d-4f25-9659-866eb47116c9",
   "metadata": {},
   "outputs": [],
   "source": [
    "def log_oods_ratio(p1,p2):\n",
    "    term1 = math.log2(p1/(1-p1))\n",
    "    term2 = math.log2(p2/(1-p2))\n",
    "    return (term1-term2)\n",
    "def calculate_diff_probab(p1,p2):\n",
    "    return((p2-p1)*max(p1,p2))"
   ]
  },
  {
   "cell_type": "code",
   "execution_count": 10,
   "id": "927633b9-cb8e-4d5c-b0ee-d5afd2814508",
   "metadata": {},
   "outputs": [
    {
     "name": "stdout",
     "output_type": "stream",
     "text": [
      "15477584\n",
      "(7738792, 10)\n"
     ]
    }
   ],
   "source": [
    "df_dict = {}\n",
    "df_list = []\n",
    "pred_probab = np.load(base_dir+\"Prediction_result/pred_results.npy\")\n",
    "print(len(pred_probab))\n",
    "df = pd.read_csv(base_dir+\"/all_data_new.tsv\", sep= \"\\t\")\n",
    "print(df.shape)\n",
    "Reference_probab = pred_probab[::2]\n",
    "Alternative_probab = pred_probab[1::2]\n",
    "df['Ref_probab']=Reference_probab\n",
    "df['Alt_probab']=Alternative_probab\n",
    "df['ScoreChange'] = df.apply(lambda row: calculate_diff_probab(row['Ref_probab'], row['Alt_probab']), axis=1)\n",
    "df['LogOddRatio'] = df.apply(lambda row: log_oods_ratio(row['Ref_probab'], row['Alt_probab']), axis=1)"
   ]
  },
  {
   "cell_type": "code",
   "execution_count": 38,
   "id": "3463e015-6276-4113-801d-9d713d9726b2",
   "metadata": {},
   "outputs": [
    {
     "data": {
      "text/html": [
       "<div>\n",
       "<style scoped>\n",
       "    .dataframe tbody tr th:only-of-type {\n",
       "        vertical-align: middle;\n",
       "    }\n",
       "\n",
       "    .dataframe tbody tr th {\n",
       "        vertical-align: top;\n",
       "    }\n",
       "\n",
       "    .dataframe thead th {\n",
       "        text-align: right;\n",
       "    }\n",
       "</style>\n",
       "<table border=\"1\" class=\"dataframe\">\n",
       "  <thead>\n",
       "    <tr style=\"text-align: right;\">\n",
       "      <th></th>\n",
       "      <th>index</th>\n",
       "      <th>chr</th>\n",
       "      <th>Enhancer_coordinates</th>\n",
       "      <th>dbsnp_id</th>\n",
       "      <th>varinat_start</th>\n",
       "      <th>variant_end</th>\n",
       "      <th>ref_neucleotide</th>\n",
       "      <th>alternative_neucleotide</th>\n",
       "      <th>reference_seq</th>\n",
       "      <th>alt_seq</th>\n",
       "      <th>Ref_probab</th>\n",
       "      <th>Alt_probab</th>\n",
       "      <th>ScoreChange</th>\n",
       "      <th>LogOddRatio</th>\n",
       "    </tr>\n",
       "  </thead>\n",
       "  <tbody>\n",
       "    <tr>\n",
       "      <th>0</th>\n",
       "      <td>0</td>\n",
       "      <td>chr2</td>\n",
       "      <td>236984140-236984339</td>\n",
       "      <td>rs1423429845</td>\n",
       "      <td>236984140</td>\n",
       "      <td>236984141</td>\n",
       "      <td>C</td>\n",
       "      <td>A</td>\n",
       "      <td>CTTCTATTCATGGGCTTTTGTCAAGCTTCCAATTTAGGACTATTAC...</td>\n",
       "      <td>ATTCTATTCATGGGCTTTTGTCAAGCTTCCAATTTAGGACTATTAC...</td>\n",
       "      <td>0.511143</td>\n",
       "      <td>0.480811</td>\n",
       "      <td>-0.015504</td>\n",
       "      <td>0.175103</td>\n",
       "    </tr>\n",
       "    <tr>\n",
       "      <th>1</th>\n",
       "      <td>1</td>\n",
       "      <td>chr2</td>\n",
       "      <td>236984140-236984339</td>\n",
       "      <td>rs1192060657</td>\n",
       "      <td>236984152</td>\n",
       "      <td>236984153</td>\n",
       "      <td>G</td>\n",
       "      <td>C</td>\n",
       "      <td>CTTCTATTCATGGGCTTTTGTCAAGCTTCCAATTTAGGACTATTAC...</td>\n",
       "      <td>CTTCTATTCATGCGCTTTTGTCAAGCTTCCAATTTAGGACTATTAC...</td>\n",
       "      <td>0.511143</td>\n",
       "      <td>0.517404</td>\n",
       "      <td>0.003239</td>\n",
       "      <td>-0.036160</td>\n",
       "    </tr>\n",
       "    <tr>\n",
       "      <th>2</th>\n",
       "      <td>2</td>\n",
       "      <td>chr2</td>\n",
       "      <td>236984140-236984339</td>\n",
       "      <td>rs1040350809</td>\n",
       "      <td>236984153</td>\n",
       "      <td>236984154</td>\n",
       "      <td>G</td>\n",
       "      <td>A</td>\n",
       "      <td>CTTCTATTCATGGGCTTTTGTCAAGCTTCCAATTTAGGACTATTAC...</td>\n",
       "      <td>CTTCTATTCATGGACTTTTGTCAAGCTTCCAATTTAGGACTATTAC...</td>\n",
       "      <td>0.511143</td>\n",
       "      <td>0.484794</td>\n",
       "      <td>-0.013468</td>\n",
       "      <td>0.152094</td>\n",
       "    </tr>\n",
       "    <tr>\n",
       "      <th>3</th>\n",
       "      <td>3</td>\n",
       "      <td>chr2</td>\n",
       "      <td>236984140-236984339</td>\n",
       "      <td>rs1238087442</td>\n",
       "      <td>236984154</td>\n",
       "      <td>236984155</td>\n",
       "      <td>C</td>\n",
       "      <td>T</td>\n",
       "      <td>CTTCTATTCATGGGCTTTTGTCAAGCTTCCAATTTAGGACTATTAC...</td>\n",
       "      <td>CTTCTATTCATGGGTTTTTGTCAAGCTTCCAATTTAGGACTATTAC...</td>\n",
       "      <td>0.511143</td>\n",
       "      <td>0.500728</td>\n",
       "      <td>-0.005323</td>\n",
       "      <td>0.060112</td>\n",
       "    </tr>\n",
       "    <tr>\n",
       "      <th>4</th>\n",
       "      <td>4</td>\n",
       "      <td>chr2</td>\n",
       "      <td>236984140-236984339</td>\n",
       "      <td>rs1574804327</td>\n",
       "      <td>236984158</td>\n",
       "      <td>236984159</td>\n",
       "      <td>T</td>\n",
       "      <td>A</td>\n",
       "      <td>CTTCTATTCATGGGCTTTTGTCAAGCTTCCAATTTAGGACTATTAC...</td>\n",
       "      <td>CTTCTATTCATGGGCTTTAGTCAAGCTTCCAATTTAGGACTATTAC...</td>\n",
       "      <td>0.511143</td>\n",
       "      <td>0.491591</td>\n",
       "      <td>-0.009994</td>\n",
       "      <td>0.112843</td>\n",
       "    </tr>\n",
       "    <tr>\n",
       "      <th>...</th>\n",
       "      <td>...</td>\n",
       "      <td>...</td>\n",
       "      <td>...</td>\n",
       "      <td>...</td>\n",
       "      <td>...</td>\n",
       "      <td>...</td>\n",
       "      <td>...</td>\n",
       "      <td>...</td>\n",
       "      <td>...</td>\n",
       "      <td>...</td>\n",
       "      <td>...</td>\n",
       "      <td>...</td>\n",
       "      <td>...</td>\n",
       "      <td>...</td>\n",
       "    </tr>\n",
       "    <tr>\n",
       "      <th>7738787</th>\n",
       "      <td>7738787</td>\n",
       "      <td>chr5</td>\n",
       "      <td>172241923-172242122</td>\n",
       "      <td>rs1772142686</td>\n",
       "      <td>172242112</td>\n",
       "      <td>172242113</td>\n",
       "      <td>C</td>\n",
       "      <td>A</td>\n",
       "      <td>GGGAGGATCACTAGAGCCTGGGAGATGTAGGCTGCAGTGAGCTGCG...</td>\n",
       "      <td>GGGAGGATCACTAGAGCCTGGGAGATGTAGGCTGCAGTGAGCTGCG...</td>\n",
       "      <td>0.888705</td>\n",
       "      <td>0.862992</td>\n",
       "      <td>-0.022851</td>\n",
       "      <td>0.342229</td>\n",
       "    </tr>\n",
       "    <tr>\n",
       "      <th>7738788</th>\n",
       "      <td>7738788</td>\n",
       "      <td>chr5</td>\n",
       "      <td>172241923-172242122</td>\n",
       "      <td>rs1772142740</td>\n",
       "      <td>172242113</td>\n",
       "      <td>172242114</td>\n",
       "      <td>T</td>\n",
       "      <td>A</td>\n",
       "      <td>GGGAGGATCACTAGAGCCTGGGAGATGTAGGCTGCAGTGAGCTGCG...</td>\n",
       "      <td>GGGAGGATCACTAGAGCCTGGGAGATGTAGGCTGCAGTGAGCTGCG...</td>\n",
       "      <td>0.888705</td>\n",
       "      <td>0.880838</td>\n",
       "      <td>-0.006992</td>\n",
       "      <td>0.111371</td>\n",
       "    </tr>\n",
       "    <tr>\n",
       "      <th>7738789</th>\n",
       "      <td>7738789</td>\n",
       "      <td>chr5</td>\n",
       "      <td>172241923-172242122</td>\n",
       "      <td>rs140804318</td>\n",
       "      <td>172242118</td>\n",
       "      <td>172242119</td>\n",
       "      <td>C</td>\n",
       "      <td>A</td>\n",
       "      <td>GGGAGGATCACTAGAGCCTGGGAGATGTAGGCTGCAGTGAGCTGCG...</td>\n",
       "      <td>GGGAGGATCACTAGAGCCTGGGAGATGTAGGCTGCAGTGAGCTGCG...</td>\n",
       "      <td>0.888705</td>\n",
       "      <td>0.876987</td>\n",
       "      <td>-0.010414</td>\n",
       "      <td>0.163580</td>\n",
       "    </tr>\n",
       "    <tr>\n",
       "      <th>7738790</th>\n",
       "      <td>7738790</td>\n",
       "      <td>chr5</td>\n",
       "      <td>172241923-172242122</td>\n",
       "      <td>rs140804318</td>\n",
       "      <td>172242118</td>\n",
       "      <td>172242119</td>\n",
       "      <td>C</td>\n",
       "      <td>T</td>\n",
       "      <td>GGGAGGATCACTAGAGCCTGGGAGATGTAGGCTGCAGTGAGCTGCG...</td>\n",
       "      <td>GGGAGGATCACTAGAGCCTGGGAGATGTAGGCTGCAGTGAGCTGCG...</td>\n",
       "      <td>0.888705</td>\n",
       "      <td>0.877829</td>\n",
       "      <td>-0.009666</td>\n",
       "      <td>0.152281</td>\n",
       "    </tr>\n",
       "    <tr>\n",
       "      <th>7738791</th>\n",
       "      <td>7738791</td>\n",
       "      <td>chr5</td>\n",
       "      <td>172241923-172242122</td>\n",
       "      <td>rs1020631860</td>\n",
       "      <td>172242121</td>\n",
       "      <td>172242122</td>\n",
       "      <td>C</td>\n",
       "      <td>A</td>\n",
       "      <td>GGGAGGATCACTAGAGCCTGGGAGATGTAGGCTGCAGTGAGCTGCG...</td>\n",
       "      <td>GGGAGGATCACTAGAGCCTGGGAGATGTAGGCTGCAGTGAGCTGCG...</td>\n",
       "      <td>0.888705</td>\n",
       "      <td>0.873469</td>\n",
       "      <td>-0.013541</td>\n",
       "      <td>0.210057</td>\n",
       "    </tr>\n",
       "  </tbody>\n",
       "</table>\n",
       "<p>7738792 rows × 14 columns</p>\n",
       "</div>"
      ],
      "text/plain": [
       "           index   chr Enhancer_coordinates      dbsnp_id  varinat_start  \\\n",
       "0              0  chr2  236984140-236984339  rs1423429845      236984140   \n",
       "1              1  chr2  236984140-236984339  rs1192060657      236984152   \n",
       "2              2  chr2  236984140-236984339  rs1040350809      236984153   \n",
       "3              3  chr2  236984140-236984339  rs1238087442      236984154   \n",
       "4              4  chr2  236984140-236984339  rs1574804327      236984158   \n",
       "...          ...   ...                  ...           ...            ...   \n",
       "7738787  7738787  chr5  172241923-172242122  rs1772142686      172242112   \n",
       "7738788  7738788  chr5  172241923-172242122  rs1772142740      172242113   \n",
       "7738789  7738789  chr5  172241923-172242122   rs140804318      172242118   \n",
       "7738790  7738790  chr5  172241923-172242122   rs140804318      172242118   \n",
       "7738791  7738791  chr5  172241923-172242122  rs1020631860      172242121   \n",
       "\n",
       "         variant_end ref_neucleotide alternative_neucleotide  \\\n",
       "0          236984141               C                       A   \n",
       "1          236984153               G                       C   \n",
       "2          236984154               G                       A   \n",
       "3          236984155               C                       T   \n",
       "4          236984159               T                       A   \n",
       "...              ...             ...                     ...   \n",
       "7738787    172242113               C                       A   \n",
       "7738788    172242114               T                       A   \n",
       "7738789    172242119               C                       A   \n",
       "7738790    172242119               C                       T   \n",
       "7738791    172242122               C                       A   \n",
       "\n",
       "                                             reference_seq  \\\n",
       "0        CTTCTATTCATGGGCTTTTGTCAAGCTTCCAATTTAGGACTATTAC...   \n",
       "1        CTTCTATTCATGGGCTTTTGTCAAGCTTCCAATTTAGGACTATTAC...   \n",
       "2        CTTCTATTCATGGGCTTTTGTCAAGCTTCCAATTTAGGACTATTAC...   \n",
       "3        CTTCTATTCATGGGCTTTTGTCAAGCTTCCAATTTAGGACTATTAC...   \n",
       "4        CTTCTATTCATGGGCTTTTGTCAAGCTTCCAATTTAGGACTATTAC...   \n",
       "...                                                    ...   \n",
       "7738787  GGGAGGATCACTAGAGCCTGGGAGATGTAGGCTGCAGTGAGCTGCG...   \n",
       "7738788  GGGAGGATCACTAGAGCCTGGGAGATGTAGGCTGCAGTGAGCTGCG...   \n",
       "7738789  GGGAGGATCACTAGAGCCTGGGAGATGTAGGCTGCAGTGAGCTGCG...   \n",
       "7738790  GGGAGGATCACTAGAGCCTGGGAGATGTAGGCTGCAGTGAGCTGCG...   \n",
       "7738791  GGGAGGATCACTAGAGCCTGGGAGATGTAGGCTGCAGTGAGCTGCG...   \n",
       "\n",
       "                                                   alt_seq  Ref_probab  \\\n",
       "0        ATTCTATTCATGGGCTTTTGTCAAGCTTCCAATTTAGGACTATTAC...    0.511143   \n",
       "1        CTTCTATTCATGCGCTTTTGTCAAGCTTCCAATTTAGGACTATTAC...    0.511143   \n",
       "2        CTTCTATTCATGGACTTTTGTCAAGCTTCCAATTTAGGACTATTAC...    0.511143   \n",
       "3        CTTCTATTCATGGGTTTTTGTCAAGCTTCCAATTTAGGACTATTAC...    0.511143   \n",
       "4        CTTCTATTCATGGGCTTTAGTCAAGCTTCCAATTTAGGACTATTAC...    0.511143   \n",
       "...                                                    ...         ...   \n",
       "7738787  GGGAGGATCACTAGAGCCTGGGAGATGTAGGCTGCAGTGAGCTGCG...    0.888705   \n",
       "7738788  GGGAGGATCACTAGAGCCTGGGAGATGTAGGCTGCAGTGAGCTGCG...    0.888705   \n",
       "7738789  GGGAGGATCACTAGAGCCTGGGAGATGTAGGCTGCAGTGAGCTGCG...    0.888705   \n",
       "7738790  GGGAGGATCACTAGAGCCTGGGAGATGTAGGCTGCAGTGAGCTGCG...    0.888705   \n",
       "7738791  GGGAGGATCACTAGAGCCTGGGAGATGTAGGCTGCAGTGAGCTGCG...    0.888705   \n",
       "\n",
       "         Alt_probab  ScoreChange  LogOddRatio  \n",
       "0          0.480811    -0.015504     0.175103  \n",
       "1          0.517404     0.003239    -0.036160  \n",
       "2          0.484794    -0.013468     0.152094  \n",
       "3          0.500728    -0.005323     0.060112  \n",
       "4          0.491591    -0.009994     0.112843  \n",
       "...             ...          ...          ...  \n",
       "7738787    0.862992    -0.022851     0.342229  \n",
       "7738788    0.880838    -0.006992     0.111371  \n",
       "7738789    0.876987    -0.010414     0.163580  \n",
       "7738790    0.877829    -0.009666     0.152281  \n",
       "7738791    0.873469    -0.013541     0.210057  \n",
       "\n",
       "[7738792 rows x 14 columns]"
      ]
     },
     "execution_count": 38,
     "metadata": {},
     "output_type": "execute_result"
    }
   ],
   "source": [
    "df"
   ]
  },
  {
   "cell_type": "code",
   "execution_count": 43,
   "id": "ee694163-4c7b-4913-a954-506d3efddcb6",
   "metadata": {},
   "outputs": [
    {
     "data": {
      "text/html": [
       "<div>\n",
       "<style scoped>\n",
       "    .dataframe tbody tr th:only-of-type {\n",
       "        vertical-align: middle;\n",
       "    }\n",
       "\n",
       "    .dataframe tbody tr th {\n",
       "        vertical-align: top;\n",
       "    }\n",
       "\n",
       "    .dataframe thead th {\n",
       "        text-align: right;\n",
       "    }\n",
       "</style>\n",
       "<table border=\"1\" class=\"dataframe\">\n",
       "  <thead>\n",
       "    <tr style=\"text-align: right;\">\n",
       "      <th></th>\n",
       "      <th>index</th>\n",
       "      <th>chr</th>\n",
       "      <th>Enhancer_coordinates</th>\n",
       "      <th>dbsnp_id</th>\n",
       "      <th>varinat_start</th>\n",
       "      <th>variant_end</th>\n",
       "      <th>ref_neucleotide</th>\n",
       "      <th>alternative_neucleotide</th>\n",
       "      <th>reference_seq</th>\n",
       "      <th>alt_seq</th>\n",
       "      <th>Ref_probab</th>\n",
       "      <th>Alt_probab</th>\n",
       "      <th>ScoreChange</th>\n",
       "      <th>LogOddRatio</th>\n",
       "    </tr>\n",
       "  </thead>\n",
       "  <tbody>\n",
       "    <tr>\n",
       "      <th>0</th>\n",
       "      <td>0</td>\n",
       "      <td>chr2</td>\n",
       "      <td>236984140-236984339</td>\n",
       "      <td>rs1423429845</td>\n",
       "      <td>236984140</td>\n",
       "      <td>236984141</td>\n",
       "      <td>C</td>\n",
       "      <td>A</td>\n",
       "      <td>CTTCTATTCATGGGCTTTTGTCAAGCTTCCAATTTAGGACTATTAC...</td>\n",
       "      <td>ATTCTATTCATGGGCTTTTGTCAAGCTTCCAATTTAGGACTATTAC...</td>\n",
       "      <td>0.511143</td>\n",
       "      <td>0.480811</td>\n",
       "      <td>-0.015504</td>\n",
       "      <td>0.175103</td>\n",
       "    </tr>\n",
       "    <tr>\n",
       "      <th>2</th>\n",
       "      <td>2</td>\n",
       "      <td>chr2</td>\n",
       "      <td>236984140-236984339</td>\n",
       "      <td>rs1040350809</td>\n",
       "      <td>236984153</td>\n",
       "      <td>236984154</td>\n",
       "      <td>G</td>\n",
       "      <td>A</td>\n",
       "      <td>CTTCTATTCATGGGCTTTTGTCAAGCTTCCAATTTAGGACTATTAC...</td>\n",
       "      <td>CTTCTATTCATGGACTTTTGTCAAGCTTCCAATTTAGGACTATTAC...</td>\n",
       "      <td>0.511143</td>\n",
       "      <td>0.484794</td>\n",
       "      <td>-0.013468</td>\n",
       "      <td>0.152094</td>\n",
       "    </tr>\n",
       "    <tr>\n",
       "      <th>4</th>\n",
       "      <td>4</td>\n",
       "      <td>chr2</td>\n",
       "      <td>236984140-236984339</td>\n",
       "      <td>rs1574804327</td>\n",
       "      <td>236984158</td>\n",
       "      <td>236984159</td>\n",
       "      <td>T</td>\n",
       "      <td>A</td>\n",
       "      <td>CTTCTATTCATGGGCTTTTGTCAAGCTTCCAATTTAGGACTATTAC...</td>\n",
       "      <td>CTTCTATTCATGGGCTTTAGTCAAGCTTCCAATTTAGGACTATTAC...</td>\n",
       "      <td>0.511143</td>\n",
       "      <td>0.491591</td>\n",
       "      <td>-0.009994</td>\n",
       "      <td>0.112843</td>\n",
       "    </tr>\n",
       "    <tr>\n",
       "      <th>5</th>\n",
       "      <td>5</td>\n",
       "      <td>chr2</td>\n",
       "      <td>236984140-236984339</td>\n",
       "      <td>rs1209533926</td>\n",
       "      <td>236984164</td>\n",
       "      <td>236984165</td>\n",
       "      <td>G</td>\n",
       "      <td>A</td>\n",
       "      <td>CTTCTATTCATGGGCTTTTGTCAAGCTTCCAATTTAGGACTATTAC...</td>\n",
       "      <td>CTTCTATTCATGGGCTTTTGTCAAACTTCCAATTTAGGACTATTAC...</td>\n",
       "      <td>0.511143</td>\n",
       "      <td>0.484547</td>\n",
       "      <td>-0.013594</td>\n",
       "      <td>0.153520</td>\n",
       "    </tr>\n",
       "    <tr>\n",
       "      <th>7</th>\n",
       "      <td>7</td>\n",
       "      <td>chr2</td>\n",
       "      <td>236984140-236984339</td>\n",
       "      <td>rs1440819583</td>\n",
       "      <td>236984165</td>\n",
       "      <td>236984166</td>\n",
       "      <td>C</td>\n",
       "      <td>T</td>\n",
       "      <td>CTTCTATTCATGGGCTTTTGTCAAGCTTCCAATTTAGGACTATTAC...</td>\n",
       "      <td>CTTCTATTCATGGGCTTTTGTCAAGTTTCCAATTTAGGACTATTAC...</td>\n",
       "      <td>0.511143</td>\n",
       "      <td>0.489347</td>\n",
       "      <td>-0.011141</td>\n",
       "      <td>0.125799</td>\n",
       "    </tr>\n",
       "    <tr>\n",
       "      <th>...</th>\n",
       "      <td>...</td>\n",
       "      <td>...</td>\n",
       "      <td>...</td>\n",
       "      <td>...</td>\n",
       "      <td>...</td>\n",
       "      <td>...</td>\n",
       "      <td>...</td>\n",
       "      <td>...</td>\n",
       "      <td>...</td>\n",
       "      <td>...</td>\n",
       "      <td>...</td>\n",
       "      <td>...</td>\n",
       "      <td>...</td>\n",
       "      <td>...</td>\n",
       "    </tr>\n",
       "    <tr>\n",
       "      <th>7738202</th>\n",
       "      <td>7738202</td>\n",
       "      <td>chr5</td>\n",
       "      <td>180271303-180271502</td>\n",
       "      <td>rs561544327</td>\n",
       "      <td>180271430</td>\n",
       "      <td>180271431</td>\n",
       "      <td>C</td>\n",
       "      <td>T</td>\n",
       "      <td>GTGGTTATTGCGGTCACTCAAAGAATACATTGTTATCACTATCTCT...</td>\n",
       "      <td>GTGGTTATTGCGGTCACTCAAAGAATACATTGTTATCACTATCTCT...</td>\n",
       "      <td>0.559976</td>\n",
       "      <td>0.480912</td>\n",
       "      <td>-0.044274</td>\n",
       "      <td>0.457986</td>\n",
       "    </tr>\n",
       "    <tr>\n",
       "      <th>7738203</th>\n",
       "      <td>7738203</td>\n",
       "      <td>chr5</td>\n",
       "      <td>180271303-180271502</td>\n",
       "      <td>rs1270125526</td>\n",
       "      <td>180271431</td>\n",
       "      <td>180271432</td>\n",
       "      <td>G</td>\n",
       "      <td>A</td>\n",
       "      <td>GTGGTTATTGCGGTCACTCAAAGAATACATTGTTATCACTATCTCT...</td>\n",
       "      <td>GTGGTTATTGCGGTCACTCAAAGAATACATTGTTATCACTATCTCT...</td>\n",
       "      <td>0.559976</td>\n",
       "      <td>0.460070</td>\n",
       "      <td>-0.055945</td>\n",
       "      <td>0.578699</td>\n",
       "    </tr>\n",
       "    <tr>\n",
       "      <th>7738224</th>\n",
       "      <td>7738224</td>\n",
       "      <td>chr5</td>\n",
       "      <td>180271303-180271502</td>\n",
       "      <td>rs961403409</td>\n",
       "      <td>180271484</td>\n",
       "      <td>180271485</td>\n",
       "      <td>C</td>\n",
       "      <td>A</td>\n",
       "      <td>GTGGTTATTGCGGTCACTCAAAGAATACATTGTTATCACTATCTCT...</td>\n",
       "      <td>GTGGTTATTGCGGTCACTCAAAGAATACATTGTTATCACTATCTCT...</td>\n",
       "      <td>0.559976</td>\n",
       "      <td>0.492076</td>\n",
       "      <td>-0.038023</td>\n",
       "      <td>0.393517</td>\n",
       "    </tr>\n",
       "    <tr>\n",
       "      <th>7738225</th>\n",
       "      <td>7738225</td>\n",
       "      <td>chr5</td>\n",
       "      <td>180271303-180271502</td>\n",
       "      <td>rs961403409</td>\n",
       "      <td>180271484</td>\n",
       "      <td>180271485</td>\n",
       "      <td>C</td>\n",
       "      <td>T</td>\n",
       "      <td>GTGGTTATTGCGGTCACTCAAAGAATACATTGTTATCACTATCTCT...</td>\n",
       "      <td>GTGGTTATTGCGGTCACTCAAAGAATACATTGTTATCACTATCTCT...</td>\n",
       "      <td>0.559976</td>\n",
       "      <td>0.479685</td>\n",
       "      <td>-0.044961</td>\n",
       "      <td>0.465081</td>\n",
       "    </tr>\n",
       "    <tr>\n",
       "      <th>7738226</th>\n",
       "      <td>7738226</td>\n",
       "      <td>chr5</td>\n",
       "      <td>180271303-180271502</td>\n",
       "      <td>rs971962202</td>\n",
       "      <td>180271485</td>\n",
       "      <td>180271486</td>\n",
       "      <td>G</td>\n",
       "      <td>A</td>\n",
       "      <td>GTGGTTATTGCGGTCACTCAAAGAATACATTGTTATCACTATCTCT...</td>\n",
       "      <td>GTGGTTATTGCGGTCACTCAAAGAATACATTGTTATCACTATCTCT...</td>\n",
       "      <td>0.559976</td>\n",
       "      <td>0.470458</td>\n",
       "      <td>-0.050128</td>\n",
       "      <td>0.518461</td>\n",
       "    </tr>\n",
       "  </tbody>\n",
       "</table>\n",
       "<p>60966 rows × 14 columns</p>\n",
       "</div>"
      ],
      "text/plain": [
       "           index   chr Enhancer_coordinates      dbsnp_id  varinat_start  \\\n",
       "0              0  chr2  236984140-236984339  rs1423429845      236984140   \n",
       "2              2  chr2  236984140-236984339  rs1040350809      236984153   \n",
       "4              4  chr2  236984140-236984339  rs1574804327      236984158   \n",
       "5              5  chr2  236984140-236984339  rs1209533926      236984164   \n",
       "7              7  chr2  236984140-236984339  rs1440819583      236984165   \n",
       "...          ...   ...                  ...           ...            ...   \n",
       "7738202  7738202  chr5  180271303-180271502   rs561544327      180271430   \n",
       "7738203  7738203  chr5  180271303-180271502  rs1270125526      180271431   \n",
       "7738224  7738224  chr5  180271303-180271502   rs961403409      180271484   \n",
       "7738225  7738225  chr5  180271303-180271502   rs961403409      180271484   \n",
       "7738226  7738226  chr5  180271303-180271502   rs971962202      180271485   \n",
       "\n",
       "         variant_end ref_neucleotide alternative_neucleotide  \\\n",
       "0          236984141               C                       A   \n",
       "2          236984154               G                       A   \n",
       "4          236984159               T                       A   \n",
       "5          236984165               G                       A   \n",
       "7          236984166               C                       T   \n",
       "...              ...             ...                     ...   \n",
       "7738202    180271431               C                       T   \n",
       "7738203    180271432               G                       A   \n",
       "7738224    180271485               C                       A   \n",
       "7738225    180271485               C                       T   \n",
       "7738226    180271486               G                       A   \n",
       "\n",
       "                                             reference_seq  \\\n",
       "0        CTTCTATTCATGGGCTTTTGTCAAGCTTCCAATTTAGGACTATTAC...   \n",
       "2        CTTCTATTCATGGGCTTTTGTCAAGCTTCCAATTTAGGACTATTAC...   \n",
       "4        CTTCTATTCATGGGCTTTTGTCAAGCTTCCAATTTAGGACTATTAC...   \n",
       "5        CTTCTATTCATGGGCTTTTGTCAAGCTTCCAATTTAGGACTATTAC...   \n",
       "7        CTTCTATTCATGGGCTTTTGTCAAGCTTCCAATTTAGGACTATTAC...   \n",
       "...                                                    ...   \n",
       "7738202  GTGGTTATTGCGGTCACTCAAAGAATACATTGTTATCACTATCTCT...   \n",
       "7738203  GTGGTTATTGCGGTCACTCAAAGAATACATTGTTATCACTATCTCT...   \n",
       "7738224  GTGGTTATTGCGGTCACTCAAAGAATACATTGTTATCACTATCTCT...   \n",
       "7738225  GTGGTTATTGCGGTCACTCAAAGAATACATTGTTATCACTATCTCT...   \n",
       "7738226  GTGGTTATTGCGGTCACTCAAAGAATACATTGTTATCACTATCTCT...   \n",
       "\n",
       "                                                   alt_seq  Ref_probab  \\\n",
       "0        ATTCTATTCATGGGCTTTTGTCAAGCTTCCAATTTAGGACTATTAC...    0.511143   \n",
       "2        CTTCTATTCATGGACTTTTGTCAAGCTTCCAATTTAGGACTATTAC...    0.511143   \n",
       "4        CTTCTATTCATGGGCTTTAGTCAAGCTTCCAATTTAGGACTATTAC...    0.511143   \n",
       "5        CTTCTATTCATGGGCTTTTGTCAAACTTCCAATTTAGGACTATTAC...    0.511143   \n",
       "7        CTTCTATTCATGGGCTTTTGTCAAGTTTCCAATTTAGGACTATTAC...    0.511143   \n",
       "...                                                    ...         ...   \n",
       "7738202  GTGGTTATTGCGGTCACTCAAAGAATACATTGTTATCACTATCTCT...    0.559976   \n",
       "7738203  GTGGTTATTGCGGTCACTCAAAGAATACATTGTTATCACTATCTCT...    0.559976   \n",
       "7738224  GTGGTTATTGCGGTCACTCAAAGAATACATTGTTATCACTATCTCT...    0.559976   \n",
       "7738225  GTGGTTATTGCGGTCACTCAAAGAATACATTGTTATCACTATCTCT...    0.559976   \n",
       "7738226  GTGGTTATTGCGGTCACTCAAAGAATACATTGTTATCACTATCTCT...    0.559976   \n",
       "\n",
       "         Alt_probab  ScoreChange  LogOddRatio  \n",
       "0          0.480811    -0.015504     0.175103  \n",
       "2          0.484794    -0.013468     0.152094  \n",
       "4          0.491591    -0.009994     0.112843  \n",
       "5          0.484547    -0.013594     0.153520  \n",
       "7          0.489347    -0.011141     0.125799  \n",
       "...             ...          ...          ...  \n",
       "7738202    0.480912    -0.044274     0.457986  \n",
       "7738203    0.460070    -0.055945     0.578699  \n",
       "7738224    0.492076    -0.038023     0.393517  \n",
       "7738225    0.479685    -0.044961     0.465081  \n",
       "7738226    0.470458    -0.050128     0.518461  \n",
       "\n",
       "[60966 rows x 14 columns]"
      ]
     },
     "execution_count": 43,
     "metadata": {},
     "output_type": "execute_result"
    }
   ],
   "source": [
    "#df_interest = df_interest[((df_interest['Ref_probab']>0.5) & (df_interest['Alt_probab']<0.5))|((df_interest['Ref_probab']<0.5) & (df_interest['Alt_probab']>0.5))]\n",
    "# df_interest = concatenated_df[(concatenated_df['Ref_probab']>0.5)|(concatenated_df['Alt_probab']>0.5)]\n",
    "# df_interest\n",
    "filtered_df1 = df[(df['Ref_probab'] >= 0.5) & (df['Alt_probab'] < 0.5)]\n",
    "#filtered_df2 = df[(df['Ref_probab'] < 0.5) & (df['Alt_probab'] > 0.5)]\n",
    "df_interest = filtered_df1\n",
    "df_interest "
   ]
  },
  {
   "cell_type": "code",
   "execution_count": 44,
   "id": "c19ccc9b-46f1-4983-9b96-af4fd6cc6bdc",
   "metadata": {},
   "outputs": [
    {
     "data": {
      "application/vnd.plotly.v1+json": {
       "config": {
        "plotlyServerURL": "https://plot.ly"
       },
       "data": [
        {
         "name": "Histogram",
         "type": "bar",
         "width": [
          0.21002399310751865,
          0.21002399310751863,
          0.21002399310751868,
          0.21002399310751863,
          0.21002399310751874,
          0.21002399310751874,
          0.21002399310751851,
          0.21002399310751874,
          0.21002399310751874,
          0.21002399310751851,
          0.21002399310751851,
          0.21002399310751896,
          0.21002399310751851,
          0.21002399310751851,
          0.21002399310751896,
          0.21002399310751851,
          0.21002399310751851,
          0.21002399310751896,
          0.21002399310751851,
          0.21002399310751807,
          0.21002399310751851,
          0.21002399310751851,
          0.2100239931075194,
          0.21002399310751851,
          0.21002399310751851,
          0.21002399310751851,
          0.21002399310751851,
          0.21002399310751851,
          0.2100239931075194,
          0.21002399310751851,
          0.21002399310751851,
          0.21002399310751851,
          0.21002399310751851,
          0.21002399310751851,
          0.21002399310751851,
          0.2100239931075194,
          0.21002399310751851,
          0.21002399310751851,
          0.2100239931075194,
          0.21002399310751763
         ],
         "x": [
          0.10689830233833139,
          0.31692229544585004,
          0.5269462885533687,
          0.7369702816608874,
          0.946994274768406,
          1.1570182678759249,
          1.3670422609834434,
          1.577066254090962,
          1.7870902471984809,
          1.9971142403059994,
          2.207138233413518,
          2.417162226521037,
          2.6271862196285554,
          2.837210212736074,
          3.0472342058435924,
          3.2572581989511113,
          3.46728219205863,
          3.677306185166149,
          3.8873301782736673,
          4.097354171381186,
          4.3073781644887035,
          4.517402157596223,
          4.727426150703741,
          4.93745014381126,
          5.147474136918779,
          5.357498130026297,
          5.567522123133816,
          5.777546116241334,
          5.987570109348853,
          6.197594102456373,
          6.40761809556389,
          6.61764208867141,
          6.827666081778927,
          7.037690074886447,
          7.2477140679939644,
          7.457738061101484,
          7.667762054209003,
          7.877786047316521,
          8.08781004042404,
          8.297834033531558
         ],
         "y": [
          32581,
          21241,
          4049,
          1288,
          651,
          352,
          227,
          157,
          109,
          91,
          47,
          47,
          28,
          21,
          16,
          9,
          11,
          5,
          4,
          6,
          6,
          4,
          3,
          3,
          4,
          2,
          1,
          1,
          0,
          0,
          0,
          0,
          0,
          0,
          0,
          1,
          0,
          0,
          0,
          1
         ]
        },
        {
         "mode": "text",
         "text": [
          "32581"
         ],
         "type": "scatter",
         "x": [
          0.10689830233833139
         ],
         "y": [
          32581
         ]
        },
        {
         "mode": "text",
         "text": [
          "21241"
         ],
         "type": "scatter",
         "x": [
          0.31692229544585004
         ],
         "y": [
          21241
         ]
        },
        {
         "mode": "text",
         "text": [
          "4049"
         ],
         "type": "scatter",
         "x": [
          0.5269462885533687
         ],
         "y": [
          4049
         ]
        },
        {
         "mode": "text",
         "text": [
          "1288"
         ],
         "type": "scatter",
         "x": [
          0.7369702816608874
         ],
         "y": [
          1288
         ]
        },
        {
         "mode": "text",
         "text": [
          "651"
         ],
         "type": "scatter",
         "x": [
          0.946994274768406
         ],
         "y": [
          651
         ]
        },
        {
         "mode": "text",
         "text": [
          "352"
         ],
         "type": "scatter",
         "x": [
          1.1570182678759249
         ],
         "y": [
          352
         ]
        },
        {
         "mode": "text",
         "text": [
          "227"
         ],
         "type": "scatter",
         "x": [
          1.3670422609834434
         ],
         "y": [
          227
         ]
        },
        {
         "mode": "text",
         "text": [
          "157"
         ],
         "type": "scatter",
         "x": [
          1.577066254090962
         ],
         "y": [
          157
         ]
        },
        {
         "mode": "text",
         "text": [
          "109"
         ],
         "type": "scatter",
         "x": [
          1.7870902471984809
         ],
         "y": [
          109
         ]
        },
        {
         "mode": "text",
         "text": [
          "91"
         ],
         "type": "scatter",
         "x": [
          1.9971142403059994
         ],
         "y": [
          91
         ]
        },
        {
         "mode": "text",
         "text": [
          "47"
         ],
         "type": "scatter",
         "x": [
          2.207138233413518
         ],
         "y": [
          47
         ]
        },
        {
         "mode": "text",
         "text": [
          "47"
         ],
         "type": "scatter",
         "x": [
          2.417162226521037
         ],
         "y": [
          47
         ]
        },
        {
         "mode": "text",
         "text": [
          "28"
         ],
         "type": "scatter",
         "x": [
          2.6271862196285554
         ],
         "y": [
          28
         ]
        },
        {
         "mode": "text",
         "text": [
          "21"
         ],
         "type": "scatter",
         "x": [
          2.837210212736074
         ],
         "y": [
          21
         ]
        },
        {
         "mode": "text",
         "text": [
          "16"
         ],
         "type": "scatter",
         "x": [
          3.0472342058435924
         ],
         "y": [
          16
         ]
        },
        {
         "mode": "text",
         "text": [
          "9"
         ],
         "type": "scatter",
         "x": [
          3.2572581989511113
         ],
         "y": [
          9
         ]
        },
        {
         "mode": "text",
         "text": [
          "11"
         ],
         "type": "scatter",
         "x": [
          3.46728219205863
         ],
         "y": [
          11
         ]
        },
        {
         "mode": "text",
         "text": [
          "5"
         ],
         "type": "scatter",
         "x": [
          3.677306185166149
         ],
         "y": [
          5
         ]
        },
        {
         "mode": "text",
         "text": [
          "4"
         ],
         "type": "scatter",
         "x": [
          3.8873301782736673
         ],
         "y": [
          4
         ]
        },
        {
         "mode": "text",
         "text": [
          "6"
         ],
         "type": "scatter",
         "x": [
          4.097354171381186
         ],
         "y": [
          6
         ]
        },
        {
         "mode": "text",
         "text": [
          "6"
         ],
         "type": "scatter",
         "x": [
          4.3073781644887035
         ],
         "y": [
          6
         ]
        },
        {
         "mode": "text",
         "text": [
          "4"
         ],
         "type": "scatter",
         "x": [
          4.517402157596223
         ],
         "y": [
          4
         ]
        },
        {
         "mode": "text",
         "text": [
          "3"
         ],
         "type": "scatter",
         "x": [
          4.727426150703741
         ],
         "y": [
          3
         ]
        },
        {
         "mode": "text",
         "text": [
          "3"
         ],
         "type": "scatter",
         "x": [
          4.93745014381126
         ],
         "y": [
          3
         ]
        },
        {
         "mode": "text",
         "text": [
          "4"
         ],
         "type": "scatter",
         "x": [
          5.147474136918779
         ],
         "y": [
          4
         ]
        },
        {
         "mode": "text",
         "text": [
          "2"
         ],
         "type": "scatter",
         "x": [
          5.357498130026297
         ],
         "y": [
          2
         ]
        },
        {
         "mode": "text",
         "text": [
          "1"
         ],
         "type": "scatter",
         "x": [
          5.567522123133816
         ],
         "y": [
          1
         ]
        },
        {
         "mode": "text",
         "text": [
          "1"
         ],
         "type": "scatter",
         "x": [
          5.777546116241334
         ],
         "y": [
          1
         ]
        },
        {
         "mode": "text",
         "text": [
          "0"
         ],
         "type": "scatter",
         "x": [
          5.987570109348853
         ],
         "y": [
          0
         ]
        },
        {
         "mode": "text",
         "text": [
          "0"
         ],
         "type": "scatter",
         "x": [
          6.197594102456373
         ],
         "y": [
          0
         ]
        },
        {
         "mode": "text",
         "text": [
          "0"
         ],
         "type": "scatter",
         "x": [
          6.40761809556389
         ],
         "y": [
          0
         ]
        },
        {
         "mode": "text",
         "text": [
          "0"
         ],
         "type": "scatter",
         "x": [
          6.61764208867141
         ],
         "y": [
          0
         ]
        },
        {
         "mode": "text",
         "text": [
          "0"
         ],
         "type": "scatter",
         "x": [
          6.827666081778927
         ],
         "y": [
          0
         ]
        },
        {
         "mode": "text",
         "text": [
          "0"
         ],
         "type": "scatter",
         "x": [
          7.037690074886447
         ],
         "y": [
          0
         ]
        },
        {
         "mode": "text",
         "text": [
          "0"
         ],
         "type": "scatter",
         "x": [
          7.2477140679939644
         ],
         "y": [
          0
         ]
        },
        {
         "mode": "text",
         "text": [
          "1"
         ],
         "type": "scatter",
         "x": [
          7.457738061101484
         ],
         "y": [
          1
         ]
        },
        {
         "mode": "text",
         "text": [
          "0"
         ],
         "type": "scatter",
         "x": [
          7.667762054209003
         ],
         "y": [
          0
         ]
        },
        {
         "mode": "text",
         "text": [
          "0"
         ],
         "type": "scatter",
         "x": [
          7.877786047316521
         ],
         "y": [
          0
         ]
        },
        {
         "mode": "text",
         "text": [
          "0"
         ],
         "type": "scatter",
         "x": [
          8.08781004042404
         ],
         "y": [
          0
         ]
        },
        {
         "mode": "text",
         "text": [
          "1"
         ],
         "type": "scatter",
         "x": [
          8.297834033531558
         ],
         "y": [
          1
         ]
        }
       ],
       "layout": {
        "autosize": true,
        "template": {
         "data": {
          "bar": [
           {
            "error_x": {
             "color": "#2a3f5f"
            },
            "error_y": {
             "color": "#2a3f5f"
            },
            "marker": {
             "line": {
              "color": "#E5ECF6",
              "width": 0.5
             },
             "pattern": {
              "fillmode": "overlay",
              "size": 10,
              "solidity": 0.2
             }
            },
            "type": "bar"
           }
          ],
          "barpolar": [
           {
            "marker": {
             "line": {
              "color": "#E5ECF6",
              "width": 0.5
             },
             "pattern": {
              "fillmode": "overlay",
              "size": 10,
              "solidity": 0.2
             }
            },
            "type": "barpolar"
           }
          ],
          "carpet": [
           {
            "aaxis": {
             "endlinecolor": "#2a3f5f",
             "gridcolor": "white",
             "linecolor": "white",
             "minorgridcolor": "white",
             "startlinecolor": "#2a3f5f"
            },
            "baxis": {
             "endlinecolor": "#2a3f5f",
             "gridcolor": "white",
             "linecolor": "white",
             "minorgridcolor": "white",
             "startlinecolor": "#2a3f5f"
            },
            "type": "carpet"
           }
          ],
          "choropleth": [
           {
            "colorbar": {
             "outlinewidth": 0,
             "ticks": ""
            },
            "type": "choropleth"
           }
          ],
          "contour": [
           {
            "colorbar": {
             "outlinewidth": 0,
             "ticks": ""
            },
            "colorscale": [
             [
              0,
              "#0d0887"
             ],
             [
              0.1111111111111111,
              "#46039f"
             ],
             [
              0.2222222222222222,
              "#7201a8"
             ],
             [
              0.3333333333333333,
              "#9c179e"
             ],
             [
              0.4444444444444444,
              "#bd3786"
             ],
             [
              0.5555555555555556,
              "#d8576b"
             ],
             [
              0.6666666666666666,
              "#ed7953"
             ],
             [
              0.7777777777777778,
              "#fb9f3a"
             ],
             [
              0.8888888888888888,
              "#fdca26"
             ],
             [
              1,
              "#f0f921"
             ]
            ],
            "type": "contour"
           }
          ],
          "contourcarpet": [
           {
            "colorbar": {
             "outlinewidth": 0,
             "ticks": ""
            },
            "type": "contourcarpet"
           }
          ],
          "heatmap": [
           {
            "colorbar": {
             "outlinewidth": 0,
             "ticks": ""
            },
            "colorscale": [
             [
              0,
              "#0d0887"
             ],
             [
              0.1111111111111111,
              "#46039f"
             ],
             [
              0.2222222222222222,
              "#7201a8"
             ],
             [
              0.3333333333333333,
              "#9c179e"
             ],
             [
              0.4444444444444444,
              "#bd3786"
             ],
             [
              0.5555555555555556,
              "#d8576b"
             ],
             [
              0.6666666666666666,
              "#ed7953"
             ],
             [
              0.7777777777777778,
              "#fb9f3a"
             ],
             [
              0.8888888888888888,
              "#fdca26"
             ],
             [
              1,
              "#f0f921"
             ]
            ],
            "type": "heatmap"
           }
          ],
          "heatmapgl": [
           {
            "colorbar": {
             "outlinewidth": 0,
             "ticks": ""
            },
            "colorscale": [
             [
              0,
              "#0d0887"
             ],
             [
              0.1111111111111111,
              "#46039f"
             ],
             [
              0.2222222222222222,
              "#7201a8"
             ],
             [
              0.3333333333333333,
              "#9c179e"
             ],
             [
              0.4444444444444444,
              "#bd3786"
             ],
             [
              0.5555555555555556,
              "#d8576b"
             ],
             [
              0.6666666666666666,
              "#ed7953"
             ],
             [
              0.7777777777777778,
              "#fb9f3a"
             ],
             [
              0.8888888888888888,
              "#fdca26"
             ],
             [
              1,
              "#f0f921"
             ]
            ],
            "type": "heatmapgl"
           }
          ],
          "histogram": [
           {
            "marker": {
             "pattern": {
              "fillmode": "overlay",
              "size": 10,
              "solidity": 0.2
             }
            },
            "type": "histogram"
           }
          ],
          "histogram2d": [
           {
            "colorbar": {
             "outlinewidth": 0,
             "ticks": ""
            },
            "colorscale": [
             [
              0,
              "#0d0887"
             ],
             [
              0.1111111111111111,
              "#46039f"
             ],
             [
              0.2222222222222222,
              "#7201a8"
             ],
             [
              0.3333333333333333,
              "#9c179e"
             ],
             [
              0.4444444444444444,
              "#bd3786"
             ],
             [
              0.5555555555555556,
              "#d8576b"
             ],
             [
              0.6666666666666666,
              "#ed7953"
             ],
             [
              0.7777777777777778,
              "#fb9f3a"
             ],
             [
              0.8888888888888888,
              "#fdca26"
             ],
             [
              1,
              "#f0f921"
             ]
            ],
            "type": "histogram2d"
           }
          ],
          "histogram2dcontour": [
           {
            "colorbar": {
             "outlinewidth": 0,
             "ticks": ""
            },
            "colorscale": [
             [
              0,
              "#0d0887"
             ],
             [
              0.1111111111111111,
              "#46039f"
             ],
             [
              0.2222222222222222,
              "#7201a8"
             ],
             [
              0.3333333333333333,
              "#9c179e"
             ],
             [
              0.4444444444444444,
              "#bd3786"
             ],
             [
              0.5555555555555556,
              "#d8576b"
             ],
             [
              0.6666666666666666,
              "#ed7953"
             ],
             [
              0.7777777777777778,
              "#fb9f3a"
             ],
             [
              0.8888888888888888,
              "#fdca26"
             ],
             [
              1,
              "#f0f921"
             ]
            ],
            "type": "histogram2dcontour"
           }
          ],
          "mesh3d": [
           {
            "colorbar": {
             "outlinewidth": 0,
             "ticks": ""
            },
            "type": "mesh3d"
           }
          ],
          "parcoords": [
           {
            "line": {
             "colorbar": {
              "outlinewidth": 0,
              "ticks": ""
             }
            },
            "type": "parcoords"
           }
          ],
          "pie": [
           {
            "automargin": true,
            "type": "pie"
           }
          ],
          "scatter": [
           {
            "fillpattern": {
             "fillmode": "overlay",
             "size": 10,
             "solidity": 0.2
            },
            "type": "scatter"
           }
          ],
          "scatter3d": [
           {
            "line": {
             "colorbar": {
              "outlinewidth": 0,
              "ticks": ""
             }
            },
            "marker": {
             "colorbar": {
              "outlinewidth": 0,
              "ticks": ""
             }
            },
            "type": "scatter3d"
           }
          ],
          "scattercarpet": [
           {
            "marker": {
             "colorbar": {
              "outlinewidth": 0,
              "ticks": ""
             }
            },
            "type": "scattercarpet"
           }
          ],
          "scattergeo": [
           {
            "marker": {
             "colorbar": {
              "outlinewidth": 0,
              "ticks": ""
             }
            },
            "type": "scattergeo"
           }
          ],
          "scattergl": [
           {
            "marker": {
             "colorbar": {
              "outlinewidth": 0,
              "ticks": ""
             }
            },
            "type": "scattergl"
           }
          ],
          "scattermapbox": [
           {
            "marker": {
             "colorbar": {
              "outlinewidth": 0,
              "ticks": ""
             }
            },
            "type": "scattermapbox"
           }
          ],
          "scatterpolar": [
           {
            "marker": {
             "colorbar": {
              "outlinewidth": 0,
              "ticks": ""
             }
            },
            "type": "scatterpolar"
           }
          ],
          "scatterpolargl": [
           {
            "marker": {
             "colorbar": {
              "outlinewidth": 0,
              "ticks": ""
             }
            },
            "type": "scatterpolargl"
           }
          ],
          "scatterternary": [
           {
            "marker": {
             "colorbar": {
              "outlinewidth": 0,
              "ticks": ""
             }
            },
            "type": "scatterternary"
           }
          ],
          "surface": [
           {
            "colorbar": {
             "outlinewidth": 0,
             "ticks": ""
            },
            "colorscale": [
             [
              0,
              "#0d0887"
             ],
             [
              0.1111111111111111,
              "#46039f"
             ],
             [
              0.2222222222222222,
              "#7201a8"
             ],
             [
              0.3333333333333333,
              "#9c179e"
             ],
             [
              0.4444444444444444,
              "#bd3786"
             ],
             [
              0.5555555555555556,
              "#d8576b"
             ],
             [
              0.6666666666666666,
              "#ed7953"
             ],
             [
              0.7777777777777778,
              "#fb9f3a"
             ],
             [
              0.8888888888888888,
              "#fdca26"
             ],
             [
              1,
              "#f0f921"
             ]
            ],
            "type": "surface"
           }
          ],
          "table": [
           {
            "cells": {
             "fill": {
              "color": "#EBF0F8"
             },
             "line": {
              "color": "white"
             }
            },
            "header": {
             "fill": {
              "color": "#C8D4E3"
             },
             "line": {
              "color": "white"
             }
            },
            "type": "table"
           }
          ]
         },
         "layout": {
          "annotationdefaults": {
           "arrowcolor": "#2a3f5f",
           "arrowhead": 0,
           "arrowwidth": 1
          },
          "autotypenumbers": "strict",
          "coloraxis": {
           "colorbar": {
            "outlinewidth": 0,
            "ticks": ""
           }
          },
          "colorscale": {
           "diverging": [
            [
             0,
             "#8e0152"
            ],
            [
             0.1,
             "#c51b7d"
            ],
            [
             0.2,
             "#de77ae"
            ],
            [
             0.3,
             "#f1b6da"
            ],
            [
             0.4,
             "#fde0ef"
            ],
            [
             0.5,
             "#f7f7f7"
            ],
            [
             0.6,
             "#e6f5d0"
            ],
            [
             0.7,
             "#b8e186"
            ],
            [
             0.8,
             "#7fbc41"
            ],
            [
             0.9,
             "#4d9221"
            ],
            [
             1,
             "#276419"
            ]
           ],
           "sequential": [
            [
             0,
             "#0d0887"
            ],
            [
             0.1111111111111111,
             "#46039f"
            ],
            [
             0.2222222222222222,
             "#7201a8"
            ],
            [
             0.3333333333333333,
             "#9c179e"
            ],
            [
             0.4444444444444444,
             "#bd3786"
            ],
            [
             0.5555555555555556,
             "#d8576b"
            ],
            [
             0.6666666666666666,
             "#ed7953"
            ],
            [
             0.7777777777777778,
             "#fb9f3a"
            ],
            [
             0.8888888888888888,
             "#fdca26"
            ],
            [
             1,
             "#f0f921"
            ]
           ],
           "sequentialminus": [
            [
             0,
             "#0d0887"
            ],
            [
             0.1111111111111111,
             "#46039f"
            ],
            [
             0.2222222222222222,
             "#7201a8"
            ],
            [
             0.3333333333333333,
             "#9c179e"
            ],
            [
             0.4444444444444444,
             "#bd3786"
            ],
            [
             0.5555555555555556,
             "#d8576b"
            ],
            [
             0.6666666666666666,
             "#ed7953"
            ],
            [
             0.7777777777777778,
             "#fb9f3a"
            ],
            [
             0.8888888888888888,
             "#fdca26"
            ],
            [
             1,
             "#f0f921"
            ]
           ]
          },
          "colorway": [
           "#636efa",
           "#EF553B",
           "#00cc96",
           "#ab63fa",
           "#FFA15A",
           "#19d3f3",
           "#FF6692",
           "#B6E880",
           "#FF97FF",
           "#FECB52"
          ],
          "font": {
           "color": "#2a3f5f"
          },
          "geo": {
           "bgcolor": "white",
           "lakecolor": "white",
           "landcolor": "#E5ECF6",
           "showlakes": true,
           "showland": true,
           "subunitcolor": "white"
          },
          "hoverlabel": {
           "align": "left"
          },
          "hovermode": "closest",
          "mapbox": {
           "style": "light"
          },
          "paper_bgcolor": "white",
          "plot_bgcolor": "#E5ECF6",
          "polar": {
           "angularaxis": {
            "gridcolor": "white",
            "linecolor": "white",
            "ticks": ""
           },
           "bgcolor": "#E5ECF6",
           "radialaxis": {
            "gridcolor": "white",
            "linecolor": "white",
            "ticks": ""
           }
          },
          "scene": {
           "xaxis": {
            "backgroundcolor": "#E5ECF6",
            "gridcolor": "white",
            "gridwidth": 2,
            "linecolor": "white",
            "showbackground": true,
            "ticks": "",
            "zerolinecolor": "white"
           },
           "yaxis": {
            "backgroundcolor": "#E5ECF6",
            "gridcolor": "white",
            "gridwidth": 2,
            "linecolor": "white",
            "showbackground": true,
            "ticks": "",
            "zerolinecolor": "white"
           },
           "zaxis": {
            "backgroundcolor": "#E5ECF6",
            "gridcolor": "white",
            "gridwidth": 2,
            "linecolor": "white",
            "showbackground": true,
            "ticks": "",
            "zerolinecolor": "white"
           }
          },
          "shapedefaults": {
           "line": {
            "color": "#2a3f5f"
           }
          },
          "ternary": {
           "aaxis": {
            "gridcolor": "white",
            "linecolor": "white",
            "ticks": ""
           },
           "baxis": {
            "gridcolor": "white",
            "linecolor": "white",
            "ticks": ""
           },
           "bgcolor": "#E5ECF6",
           "caxis": {
            "gridcolor": "white",
            "linecolor": "white",
            "ticks": ""
           }
          },
          "title": {
           "x": 0.05
          },
          "xaxis": {
           "automargin": true,
           "gridcolor": "white",
           "linecolor": "white",
           "ticks": "",
           "title": {
            "standoff": 15
           },
           "zerolinecolor": "white",
           "zerolinewidth": 2
          },
          "yaxis": {
           "automargin": true,
           "gridcolor": "white",
           "linecolor": "white",
           "ticks": "",
           "title": {
            "standoff": 15
           },
           "zerolinecolor": "white",
           "zerolinewidth": 2
          }
         }
        },
        "xaxis": {
         "autorange": true,
         "range": [
          -0.348153682727959,
          8.752886018597849
         ],
         "type": "linear"
        },
        "yaxis": {
         "autorange": true,
         "range": [
          -1810.0555555555557,
          34391.055555555555
         ],
         "type": "linear"
        }
       }
      },
      "image/png": "[encoded data removed]",
      "text/html": [
       "<div>                            <div id=\"8778c1e4-efa8-410f-a333-c7b9c3ce984d\" class=\"plotly-graph-div\" style=\"height:525px; width:100%;\"></div>            <script type=\"text/javascript\">                require([\"plotly\"], function(Plotly) {                    window.PLOTLYENV=window.PLOTLYENV || {};                                    if (document.getElementById(\"8778c1e4-efa8-410f-a333-c7b9c3ce984d\")) {                    Plotly.newPlot(                        \"8778c1e4-efa8-410f-a333-c7b9c3ce984d\",                        [{\"name\":\"Histogram\",\"width\":[0.21002399310751865,0.21002399310751863,0.21002399310751868,0.21002399310751863,0.21002399310751874,0.21002399310751874,0.21002399310751851,0.21002399310751874,0.21002399310751874,0.21002399310751851,0.21002399310751851,0.21002399310751896,0.21002399310751851,0.21002399310751851,0.21002399310751896,0.21002399310751851,0.21002399310751851,0.21002399310751896,0.21002399310751851,0.21002399310751807,0.21002399310751851,0.21002399310751851,0.2100239931075194,0.21002399310751851,0.21002399310751851,0.21002399310751851,0.21002399310751851,0.21002399310751851,0.2100239931075194,0.21002399310751851,0.21002399310751851,0.21002399310751851,0.21002399310751851,0.21002399310751851,0.21002399310751851,0.2100239931075194,0.21002399310751851,0.21002399310751851,0.2100239931075194,0.21002399310751763],\"x\":[0.10689830233833139,0.31692229544585004,0.5269462885533687,0.7369702816608874,0.946994274768406,1.1570182678759249,1.3670422609834434,1.577066254090962,1.7870902471984809,1.9971142403059994,2.207138233413518,2.417162226521037,2.6271862196285554,2.837210212736074,3.0472342058435924,3.2572581989511113,3.46728219205863,3.677306185166149,3.8873301782736673,4.097354171381186,4.3073781644887035,4.517402157596223,4.727426150703741,4.93745014381126,5.147474136918779,5.357498130026297,5.567522123133816,5.777546116241334,5.987570109348853,6.197594102456373,6.40761809556389,6.61764208867141,6.827666081778927,7.037690074886447,7.2477140679939644,7.457738061101484,7.667762054209003,7.877786047316521,8.08781004042404,8.297834033531558],\"y\":[32581,21241,4049,1288,651,352,227,157,109,91,47,47,28,21,16,9,11,5,4,6,6,4,3,3,4,2,1,1,0,0,0,0,0,0,0,1,0,0,0,1],\"type\":\"bar\"},{\"mode\":\"text\",\"text\":[\"32581\"],\"x\":[0.10689830233833139],\"y\":[32581],\"type\":\"scatter\"},{\"mode\":\"text\",\"text\":[\"21241\"],\"x\":[0.31692229544585004],\"y\":[21241],\"type\":\"scatter\"},{\"mode\":\"text\",\"text\":[\"4049\"],\"x\":[0.5269462885533687],\"y\":[4049],\"type\":\"scatter\"},{\"mode\":\"text\",\"text\":[\"1288\"],\"x\":[0.7369702816608874],\"y\":[1288],\"type\":\"scatter\"},{\"mode\":\"text\",\"text\":[\"651\"],\"x\":[0.946994274768406],\"y\":[651],\"type\":\"scatter\"},{\"mode\":\"text\",\"text\":[\"352\"],\"x\":[1.1570182678759249],\"y\":[352],\"type\":\"scatter\"},{\"mode\":\"text\",\"text\":[\"227\"],\"x\":[1.3670422609834434],\"y\":[227],\"type\":\"scatter\"},{\"mode\":\"text\",\"text\":[\"157\"],\"x\":[1.577066254090962],\"y\":[157],\"type\":\"scatter\"},{\"mode\":\"text\",\"text\":[\"109\"],\"x\":[1.7870902471984809],\"y\":[109],\"type\":\"scatter\"},{\"mode\":\"text\",\"text\":[\"91\"],\"x\":[1.9971142403059994],\"y\":[91],\"type\":\"scatter\"},{\"mode\":\"text\",\"text\":[\"47\"],\"x\":[2.207138233413518],\"y\":[47],\"type\":\"scatter\"},{\"mode\":\"text\",\"text\":[\"47\"],\"x\":[2.417162226521037],\"y\":[47],\"type\":\"scatter\"},{\"mode\":\"text\",\"text\":[\"28\"],\"x\":[2.6271862196285554],\"y\":[28],\"type\":\"scatter\"},{\"mode\":\"text\",\"text\":[\"21\"],\"x\":[2.837210212736074],\"y\":[21],\"type\":\"scatter\"},{\"mode\":\"text\",\"text\":[\"16\"],\"x\":[3.0472342058435924],\"y\":[16],\"type\":\"scatter\"},{\"mode\":\"text\",\"text\":[\"9\"],\"x\":[3.2572581989511113],\"y\":[9],\"type\":\"scatter\"},{\"mode\":\"text\",\"text\":[\"11\"],\"x\":[3.46728219205863],\"y\":[11],\"type\":\"scatter\"},{\"mode\":\"text\",\"text\":[\"5\"],\"x\":[3.677306185166149],\"y\":[5],\"type\":\"scatter\"},{\"mode\":\"text\",\"text\":[\"4\"],\"x\":[3.8873301782736673],\"y\":[4],\"type\":\"scatter\"},{\"mode\":\"text\",\"text\":[\"6\"],\"x\":[4.097354171381186],\"y\":[6],\"type\":\"scatter\"},{\"mode\":\"text\",\"text\":[\"6\"],\"x\":[4.3073781644887035],\"y\":[6],\"type\":\"scatter\"},{\"mode\":\"text\",\"text\":[\"4\"],\"x\":[4.517402157596223],\"y\":[4],\"type\":\"scatter\"},{\"mode\":\"text\",\"text\":[\"3\"],\"x\":[4.727426150703741],\"y\":[3],\"type\":\"scatter\"},{\"mode\":\"text\",\"text\":[\"3\"],\"x\":[4.93745014381126],\"y\":[3],\"type\":\"scatter\"},{\"mode\":\"text\",\"text\":[\"4\"],\"x\":[5.147474136918779],\"y\":[4],\"type\":\"scatter\"},{\"mode\":\"text\",\"text\":[\"2\"],\"x\":[5.357498130026297],\"y\":[2],\"type\":\"scatter\"},{\"mode\":\"text\",\"text\":[\"1\"],\"x\":[5.567522123133816],\"y\":[1],\"type\":\"scatter\"},{\"mode\":\"text\",\"text\":[\"1\"],\"x\":[5.777546116241334],\"y\":[1],\"type\":\"scatter\"},{\"mode\":\"text\",\"text\":[\"0\"],\"x\":[5.987570109348853],\"y\":[0],\"type\":\"scatter\"},{\"mode\":\"text\",\"text\":[\"0\"],\"x\":[6.197594102456373],\"y\":[0],\"type\":\"scatter\"},{\"mode\":\"text\",\"text\":[\"0\"],\"x\":[6.40761809556389],\"y\":[0],\"type\":\"scatter\"},{\"mode\":\"text\",\"text\":[\"0\"],\"x\":[6.61764208867141],\"y\":[0],\"type\":\"scatter\"},{\"mode\":\"text\",\"text\":[\"0\"],\"x\":[6.827666081778927],\"y\":[0],\"type\":\"scatter\"},{\"mode\":\"text\",\"text\":[\"0\"],\"x\":[7.037690074886447],\"y\":[0],\"type\":\"scatter\"},{\"mode\":\"text\",\"text\":[\"0\"],\"x\":[7.2477140679939644],\"y\":[0],\"type\":\"scatter\"},{\"mode\":\"text\",\"text\":[\"1\"],\"x\":[7.457738061101484],\"y\":[1],\"type\":\"scatter\"},{\"mode\":\"text\",\"text\":[\"0\"],\"x\":[7.667762054209003],\"y\":[0],\"type\":\"scatter\"},{\"mode\":\"text\",\"text\":[\"0\"],\"x\":[7.877786047316521],\"y\":[0],\"type\":\"scatter\"},{\"mode\":\"text\",\"text\":[\"0\"],\"x\":[8.08781004042404],\"y\":[0],\"type\":\"scatter\"},{\"mode\":\"text\",\"text\":[\"1\"],\"x\":[8.297834033531558],\"y\":[1],\"type\":\"scatter\"}],                        {\"template\":{\"data\":{\"histogram2dcontour\":[{\"type\":\"histogram2dcontour\",\"colorbar\":{\"outlinewidth\":0,\"ticks\":\"\"},\"colorscale\":[[0.0,\"#0d0887\"],[0.1111111111111111,\"#46039f\"],[0.2222222222222222,\"#7201a8\"],[0.3333333333333333,\"#9c179e\"],[0.4444444444444444,\"#bd3786\"],[0.5555555555555556,\"#d8576b\"],[0.6666666666666666,\"#ed7953\"],[0.7777777777777778,\"#fb9f3a\"],[0.8888888888888888,\"#fdca26\"],[1.0,\"#f0f921\"]]}],\"choropleth\":[{\"type\":\"choropleth\",\"colorbar\":{\"outlinewidth\":0,\"ticks\":\"\"}}],\"histogram2d\":[{\"type\":\"histogram2d\",\"colorbar\":{\"outlinewidth\":0,\"ticks\":\"\"},\"colorscale\":[[0.0,\"#0d0887\"],[0.1111111111111111,\"#46039f\"],[0.2222222222222222,\"#7201a8\"],[0.3333333333333333,\"#9c179e\"],[0.4444444444444444,\"#bd3786\"],[0.5555555555555556,\"#d8576b\"],[0.6666666666666666,\"#ed7953\"],[0.7777777777777778,\"#fb9f3a\"],[0.8888888888888888,\"#fdca26\"],[1.0,\"#f0f921\"]]}],\"heatmap\":[{\"type\":\"heatmap\",\"colorbar\":{\"outlinewidth\":0,\"ticks\":\"\"},\"colorscale\":[[0.0,\"#0d0887\"],[0.1111111111111111,\"#46039f\"],[0.2222222222222222,\"#7201a8\"],[0.3333333333333333,\"#9c179e\"],[0.4444444444444444,\"#bd3786\"],[0.5555555555555556,\"#d8576b\"],[0.6666666666666666,\"#ed7953\"],[0.7777777777777778,\"#fb9f3a\"],[0.8888888888888888,\"#fdca26\"],[1.0,\"#f0f921\"]]}],\"heatmapgl\":[{\"type\":\"heatmapgl\",\"colorbar\":{\"outlinewidth\":0,\"ticks\":\"\"},\"colorscale\":[[0.0,\"#0d0887\"],[0.1111111111111111,\"#46039f\"],[0.2222222222222222,\"#7201a8\"],[0.3333333333333333,\"#9c179e\"],[0.4444444444444444,\"#bd3786\"],[0.5555555555555556,\"#d8576b\"],[0.6666666666666666,\"#ed7953\"],[0.7777777777777778,\"#fb9f3a\"],[0.8888888888888888,\"#fdca26\"],[1.0,\"#f0f921\"]]}],\"contourcarpet\":[{\"type\":\"contourcarpet\",\"colorbar\":{\"outlinewidth\":0,\"ticks\":\"\"}}],\"contour\":[{\"type\":\"contour\",\"colorbar\":{\"outlinewidth\":0,\"ticks\":\"\"},\"colorscale\":[[0.0,\"#0d0887\"],[0.1111111111111111,\"#46039f\"],[0.2222222222222222,\"#7201a8\"],[0.3333333333333333,\"#9c179e\"],[0.4444444444444444,\"#bd3786\"],[0.5555555555555556,\"#d8576b\"],[0.6666666666666666,\"#ed7953\"],[0.7777777777777778,\"#fb9f3a\"],[0.8888888888888888,\"#fdca26\"],[1.0,\"#f0f921\"]]}],\"surface\":[{\"type\":\"surface\",\"colorbar\":{\"outlinewidth\":0,\"ticks\":\"\"},\"colorscale\":[[0.0,\"#0d0887\"],[0.1111111111111111,\"#46039f\"],[0.2222222222222222,\"#7201a8\"],[0.3333333333333333,\"#9c179e\"],[0.4444444444444444,\"#bd3786\"],[0.5555555555555556,\"#d8576b\"],[0.6666666666666666,\"#ed7953\"],[0.7777777777777778,\"#fb9f3a\"],[0.8888888888888888,\"#fdca26\"],[1.0,\"#f0f921\"]]}],\"mesh3d\":[{\"type\":\"mesh3d\",\"colorbar\":{\"outlinewidth\":0,\"ticks\":\"\"}}],\"scatter\":[{\"fillpattern\":{\"fillmode\":\"overlay\",\"size\":10,\"solidity\":0.2},\"type\":\"scatter\"}],\"parcoords\":[{\"type\":\"parcoords\",\"line\":{\"colorbar\":{\"outlinewidth\":0,\"ticks\":\"\"}}}],\"scatterpolargl\":[{\"type\":\"scatterpolargl\",\"marker\":{\"colorbar\":{\"outlinewidth\":0,\"ticks\":\"\"}}}],\"bar\":[{\"error_x\":{\"color\":\"#2a3f5f\"},\"error_y\":{\"color\":\"#2a3f5f\"},\"marker\":{\"line\":{\"color\":\"#E5ECF6\",\"width\":0.5},\"pattern\":{\"fillmode\":\"overlay\",\"size\":10,\"solidity\":0.2}},\"type\":\"bar\"}],\"scattergeo\":[{\"type\":\"scattergeo\",\"marker\":{\"colorbar\":{\"outlinewidth\":0,\"ticks\":\"\"}}}],\"scatterpolar\":[{\"type\":\"scatterpolar\",\"marker\":{\"colorbar\":{\"outlinewidth\":0,\"ticks\":\"\"}}}],\"histogram\":[{\"marker\":{\"pattern\":{\"fillmode\":\"overlay\",\"size\":10,\"solidity\":0.2}},\"type\":\"histogram\"}],\"scattergl\":[{\"type\":\"scattergl\",\"marker\":{\"colorbar\":{\"outlinewidth\":0,\"ticks\":\"\"}}}],\"scatter3d\":[{\"type\":\"scatter3d\",\"line\":{\"colorbar\":{\"outlinewidth\":0,\"ticks\":\"\"}},\"marker\":{\"colorbar\":{\"outlinewidth\":0,\"ticks\":\"\"}}}],\"scattermapbox\":[{\"type\":\"scattermapbox\",\"marker\":{\"colorbar\":{\"outlinewidth\":0,\"ticks\":\"\"}}}],\"scatterternary\":[{\"type\":\"scatterternary\",\"marker\":{\"colorbar\":{\"outlinewidth\":0,\"ticks\":\"\"}}}],\"scattercarpet\":[{\"type\":\"scattercarpet\",\"marker\":{\"colorbar\":{\"outlinewidth\":0,\"ticks\":\"\"}}}],\"carpet\":[{\"aaxis\":{\"endlinecolor\":\"#2a3f5f\",\"gridcolor\":\"white\",\"linecolor\":\"white\",\"minorgridcolor\":\"white\",\"startlinecolor\":\"#2a3f5f\"},\"baxis\":{\"endlinecolor\":\"#2a3f5f\",\"gridcolor\":\"white\",\"linecolor\":\"white\",\"minorgridcolor\":\"white\",\"startlinecolor\":\"#2a3f5f\"},\"type\":\"carpet\"}],\"table\":[{\"cells\":{\"fill\":{\"color\":\"#EBF0F8\"},\"line\":{\"color\":\"white\"}},\"header\":{\"fill\":{\"color\":\"#C8D4E3\"},\"line\":{\"color\":\"white\"}},\"type\":\"table\"}],\"barpolar\":[{\"marker\":{\"line\":{\"color\":\"#E5ECF6\",\"width\":0.5},\"pattern\":{\"fillmode\":\"overlay\",\"size\":10,\"solidity\":0.2}},\"type\":\"barpolar\"}],\"pie\":[{\"automargin\":true,\"type\":\"pie\"}]},\"layout\":{\"autotypenumbers\":\"strict\",\"colorway\":[\"#636efa\",\"#EF553B\",\"#00cc96\",\"#ab63fa\",\"#FFA15A\",\"#19d3f3\",\"#FF6692\",\"#B6E880\",\"#FF97FF\",\"#FECB52\"],\"font\":{\"color\":\"#2a3f5f\"},\"hovermode\":\"closest\",\"hoverlabel\":{\"align\":\"left\"},\"paper_bgcolor\":\"white\",\"plot_bgcolor\":\"#E5ECF6\",\"polar\":{\"bgcolor\":\"#E5ECF6\",\"angularaxis\":{\"gridcolor\":\"white\",\"linecolor\":\"white\",\"ticks\":\"\"},\"radialaxis\":{\"gridcolor\":\"white\",\"linecolor\":\"white\",\"ticks\":\"\"}},\"ternary\":{\"bgcolor\":\"#E5ECF6\",\"aaxis\":{\"gridcolor\":\"white\",\"linecolor\":\"white\",\"ticks\":\"\"},\"baxis\":{\"gridcolor\":\"white\",\"linecolor\":\"white\",\"ticks\":\"\"},\"caxis\":{\"gridcolor\":\"white\",\"linecolor\":\"white\",\"ticks\":\"\"}},\"coloraxis\":{\"colorbar\":{\"outlinewidth\":0,\"ticks\":\"\"}},\"colorscale\":{\"sequential\":[[0.0,\"#0d0887\"],[0.1111111111111111,\"#46039f\"],[0.2222222222222222,\"#7201a8\"],[0.3333333333333333,\"#9c179e\"],[0.4444444444444444,\"#bd3786\"],[0.5555555555555556,\"#d8576b\"],[0.6666666666666666,\"#ed7953\"],[0.7777777777777778,\"#fb9f3a\"],[0.8888888888888888,\"#fdca26\"],[1.0,\"#f0f921\"]],\"sequentialminus\":[[0.0,\"#0d0887\"],[0.1111111111111111,\"#46039f\"],[0.2222222222222222,\"#7201a8\"],[0.3333333333333333,\"#9c179e\"],[0.4444444444444444,\"#bd3786\"],[0.5555555555555556,\"#d8576b\"],[0.6666666666666666,\"#ed7953\"],[0.7777777777777778,\"#fb9f3a\"],[0.8888888888888888,\"#fdca26\"],[1.0,\"#f0f921\"]],\"diverging\":[[0,\"#8e0152\"],[0.1,\"#c51b7d\"],[0.2,\"#de77ae\"],[0.3,\"#f1b6da\"],[0.4,\"#fde0ef\"],[0.5,\"#f7f7f7\"],[0.6,\"#e6f5d0\"],[0.7,\"#b8e186\"],[0.8,\"#7fbc41\"],[0.9,\"#4d9221\"],[1,\"#276419\"]]},\"xaxis\":{\"gridcolor\":\"white\",\"linecolor\":\"white\",\"ticks\":\"\",\"title\":{\"standoff\":15},\"zerolinecolor\":\"white\",\"automargin\":true,\"zerolinewidth\":2},\"yaxis\":{\"gridcolor\":\"white\",\"linecolor\":\"white\",\"ticks\":\"\",\"title\":{\"standoff\":15},\"zerolinecolor\":\"white\",\"automargin\":true,\"zerolinewidth\":2},\"scene\":{\"xaxis\":{\"backgroundcolor\":\"#E5ECF6\",\"gridcolor\":\"white\",\"linecolor\":\"white\",\"showbackground\":true,\"ticks\":\"\",\"zerolinecolor\":\"white\",\"gridwidth\":2},\"yaxis\":{\"backgroundcolor\":\"#E5ECF6\",\"gridcolor\":\"white\",\"linecolor\":\"white\",\"showbackground\":true,\"ticks\":\"\",\"zerolinecolor\":\"white\",\"gridwidth\":2},\"zaxis\":{\"backgroundcolor\":\"#E5ECF6\",\"gridcolor\":\"white\",\"linecolor\":\"white\",\"showbackground\":true,\"ticks\":\"\",\"zerolinecolor\":\"white\",\"gridwidth\":2}},\"shapedefaults\":{\"line\":{\"color\":\"#2a3f5f\"}},\"annotationdefaults\":{\"arrowcolor\":\"#2a3f5f\",\"arrowhead\":0,\"arrowwidth\":1},\"geo\":{\"bgcolor\":\"white\",\"landcolor\":\"#E5ECF6\",\"subunitcolor\":\"white\",\"showland\":true,\"showlakes\":true,\"lakecolor\":\"white\"},\"title\":{\"x\":0.05},\"mapbox\":{\"style\":\"light\"}}}},                        {\"responsive\": true}                    ).then(function(){\n",
       "                            \n",
       "var gd = document.getElementById('8778c1e4-efa8-410f-a333-c7b9c3ce984d');\n",
       "var x = new MutationObserver(function (mutations, observer) {{\n",
       "        var display = window.getComputedStyle(gd).display;\n",
       "        if (!display || display === 'none') {{\n",
       "            console.log([gd, 'removed!']);\n",
       "            Plotly.purge(gd);\n",
       "            observer.disconnect();\n",
       "        }}\n",
       "}});\n",
       "\n",
       "// Listen for the removal of the full notebook cells\n",
       "var notebookContainer = gd.closest('#notebook-container');\n",
       "if (notebookContainer) {{\n",
       "    x.observe(notebookContainer, {childList: true});\n",
       "}}\n",
       "\n",
       "// Listen for the clearing of the current output cell\n",
       "var outputEl = gd.closest('.output');\n",
       "if (outputEl) {{\n",
       "    x.observe(outputEl, {childList: true});\n",
       "}}\n",
       "\n",
       "                        })                };                });            </script>        </div>"
      ]
     },
     "metadata": {},
     "output_type": "display_data"
    }
   ],
   "source": [
    "# Plot the figure\n",
    "counts, bins = np.histogram(df_interest['LogOddRatio'], bins=40)\n",
    "bin_midpoints = bins[:-1] + np.diff(bins)/2\n",
    "\n",
    "fig = go.Figure()\n",
    "\n",
    "fig.add_trace(go.Bar(\n",
    "    x=bin_midpoints,\n",
    "    y=counts,\n",
    "    width=np.diff(bins), # makes bars have correct widths\n",
    "    name='Histogram'\n",
    "))\n",
    "# add text labels for counts\n",
    "for i in range(len(counts)):\n",
    "    fig.add_trace(go.Scatter(\n",
    "        x=[bin_midpoints[i]],\n",
    "        y=[counts[i]],\n",
    "        text=[str(counts[i])],\n",
    "        mode='text',\n",
    "    ))\n",
    "\n",
    "fig.show()"
   ]
  },
  {
   "cell_type": "code",
   "execution_count": 45,
   "id": "02542935-31fe-4e73-b1e4-8abcbfdacc86",
   "metadata": {},
   "outputs": [
    {
     "data": {
      "application/vnd.plotly.v1+json": {
       "config": {
        "plotlyServerURL": "https://plot.ly"
       },
       "data": [
        {
         "name": "Histogram",
         "type": "bar",
         "width": [
          0.02135636648924233,
          0.02135636648924233,
          0.02135636648924233,
          0.02135636648924233,
          0.02135636648924233,
          0.02135636648924233,
          0.02135636648924233,
          0.02135636648924233,
          0.02135636648924233,
          0.02135636648924233,
          0.02135636648924233,
          0.02135636648924233,
          0.02135636648924233,
          0.02135636648924233,
          0.02135636648924233,
          0.02135636648924233,
          0.02135636648924233,
          0.02135636648924233,
          0.02135636648924233,
          0.02135636648924233,
          0.02135636648924233,
          0.02135636648924233,
          0.02135636648924233,
          0.02135636648924233,
          0.02135636648924233,
          0.02135636648924233,
          0.02135636648924233,
          0.02135636648924233,
          0.02135636648924233,
          0.02135636648924233,
          0.02135636648924233,
          0.02135636648924233,
          0.02135636648924233,
          0.02135636648924233,
          0.02135636648924233,
          0.02135636648924233,
          0.02135636648924233,
          0.02135636648924233,
          0.02135636648924233,
          0.02135636648924233
         ],
         "x": [
          -0.8437399718987595,
          -0.8223836054095173,
          -0.8010272389202748,
          -0.7796708724310326,
          -0.7583145059417902,
          -0.736958139452548,
          -0.7156017729633055,
          -0.6942454064740633,
          -0.6728890399848209,
          -0.6515326734955786,
          -0.6301763070063362,
          -0.608819940517094,
          -0.5874635740278515,
          -0.5661072075386093,
          -0.5447508410493669,
          -0.5233944745601247,
          -0.5020381080708822,
          -0.48068174158163995,
          -0.4593253750923976,
          -0.4379690086031553,
          -0.41661264211391297,
          -0.39525627562467064,
          -0.3738999091354283,
          -0.352543542646186,
          -0.33118717615694365,
          -0.3098308096677013,
          -0.288474443178459,
          -0.26711807668921667,
          -0.24576171019997434,
          -0.224405343710732,
          -0.20304897722148968,
          -0.18169261073224735,
          -0.16033624424300502,
          -0.1389798777537627,
          -0.11762351126452036,
          -0.09626714477527804,
          -0.0749107782860357,
          -0.05355441179679338,
          -0.03219804530755105,
          -0.01084167881830872
         ],
         "y": [
          1,
          0,
          0,
          1,
          0,
          0,
          0,
          0,
          1,
          2,
          1,
          1,
          2,
          3,
          4,
          2,
          1,
          6,
          5,
          12,
          10,
          5,
          10,
          14,
          26,
          20,
          27,
          28,
          42,
          66,
          78,
          132,
          149,
          186,
          294,
          547,
          1109,
          3110,
          17514,
          37557
         ]
        },
        {
         "mode": "text",
         "text": [
          "1"
         ],
         "type": "scatter",
         "x": [
          -0.8437399718987595
         ],
         "y": [
          1
         ]
        },
        {
         "mode": "text",
         "text": [
          "0"
         ],
         "type": "scatter",
         "x": [
          -0.8223836054095173
         ],
         "y": [
          0
         ]
        },
        {
         "mode": "text",
         "text": [
          "0"
         ],
         "type": "scatter",
         "x": [
          -0.8010272389202748
         ],
         "y": [
          0
         ]
        },
        {
         "mode": "text",
         "text": [
          "1"
         ],
         "type": "scatter",
         "x": [
          -0.7796708724310326
         ],
         "y": [
          1
         ]
        },
        {
         "mode": "text",
         "text": [
          "0"
         ],
         "type": "scatter",
         "x": [
          -0.7583145059417902
         ],
         "y": [
          0
         ]
        },
        {
         "mode": "text",
         "text": [
          "0"
         ],
         "type": "scatter",
         "x": [
          -0.736958139452548
         ],
         "y": [
          0
         ]
        },
        {
         "mode": "text",
         "text": [
          "0"
         ],
         "type": "scatter",
         "x": [
          -0.7156017729633055
         ],
         "y": [
          0
         ]
        },
        {
         "mode": "text",
         "text": [
          "0"
         ],
         "type": "scatter",
         "x": [
          -0.6942454064740633
         ],
         "y": [
          0
         ]
        },
        {
         "mode": "text",
         "text": [
          "1"
         ],
         "type": "scatter",
         "x": [
          -0.6728890399848209
         ],
         "y": [
          1
         ]
        },
        {
         "mode": "text",
         "text": [
          "2"
         ],
         "type": "scatter",
         "x": [
          -0.6515326734955786
         ],
         "y": [
          2
         ]
        },
        {
         "mode": "text",
         "text": [
          "1"
         ],
         "type": "scatter",
         "x": [
          -0.6301763070063362
         ],
         "y": [
          1
         ]
        },
        {
         "mode": "text",
         "text": [
          "1"
         ],
         "type": "scatter",
         "x": [
          -0.608819940517094
         ],
         "y": [
          1
         ]
        },
        {
         "mode": "text",
         "text": [
          "2"
         ],
         "type": "scatter",
         "x": [
          -0.5874635740278515
         ],
         "y": [
          2
         ]
        },
        {
         "mode": "text",
         "text": [
          "3"
         ],
         "type": "scatter",
         "x": [
          -0.5661072075386093
         ],
         "y": [
          3
         ]
        },
        {
         "mode": "text",
         "text": [
          "4"
         ],
         "type": "scatter",
         "x": [
          -0.5447508410493669
         ],
         "y": [
          4
         ]
        },
        {
         "mode": "text",
         "text": [
          "2"
         ],
         "type": "scatter",
         "x": [
          -0.5233944745601247
         ],
         "y": [
          2
         ]
        },
        {
         "mode": "text",
         "text": [
          "1"
         ],
         "type": "scatter",
         "x": [
          -0.5020381080708822
         ],
         "y": [
          1
         ]
        },
        {
         "mode": "text",
         "text": [
          "6"
         ],
         "type": "scatter",
         "x": [
          -0.48068174158163995
         ],
         "y": [
          6
         ]
        },
        {
         "mode": "text",
         "text": [
          "5"
         ],
         "type": "scatter",
         "x": [
          -0.4593253750923976
         ],
         "y": [
          5
         ]
        },
        {
         "mode": "text",
         "text": [
          "12"
         ],
         "type": "scatter",
         "x": [
          -0.4379690086031553
         ],
         "y": [
          12
         ]
        },
        {
         "mode": "text",
         "text": [
          "10"
         ],
         "type": "scatter",
         "x": [
          -0.41661264211391297
         ],
         "y": [
          10
         ]
        },
        {
         "mode": "text",
         "text": [
          "5"
         ],
         "type": "scatter",
         "x": [
          -0.39525627562467064
         ],
         "y": [
          5
         ]
        },
        {
         "mode": "text",
         "text": [
          "10"
         ],
         "type": "scatter",
         "x": [
          -0.3738999091354283
         ],
         "y": [
          10
         ]
        },
        {
         "mode": "text",
         "text": [
          "14"
         ],
         "type": "scatter",
         "x": [
          -0.352543542646186
         ],
         "y": [
          14
         ]
        },
        {
         "mode": "text",
         "text": [
          "26"
         ],
         "type": "scatter",
         "x": [
          -0.33118717615694365
         ],
         "y": [
          26
         ]
        },
        {
         "mode": "text",
         "text": [
          "20"
         ],
         "type": "scatter",
         "x": [
          -0.3098308096677013
         ],
         "y": [
          20
         ]
        },
        {
         "mode": "text",
         "text": [
          "27"
         ],
         "type": "scatter",
         "x": [
          -0.288474443178459
         ],
         "y": [
          27
         ]
        },
        {
         "mode": "text",
         "text": [
          "28"
         ],
         "type": "scatter",
         "x": [
          -0.26711807668921667
         ],
         "y": [
          28
         ]
        },
        {
         "mode": "text",
         "text": [
          "42"
         ],
         "type": "scatter",
         "x": [
          -0.24576171019997434
         ],
         "y": [
          42
         ]
        },
        {
         "mode": "text",
         "text": [
          "66"
         ],
         "type": "scatter",
         "x": [
          -0.224405343710732
         ],
         "y": [
          66
         ]
        },
        {
         "mode": "text",
         "text": [
          "78"
         ],
         "type": "scatter",
         "x": [
          -0.20304897722148968
         ],
         "y": [
          78
         ]
        },
        {
         "mode": "text",
         "text": [
          "132"
         ],
         "type": "scatter",
         "x": [
          -0.18169261073224735
         ],
         "y": [
          132
         ]
        },
        {
         "mode": "text",
         "text": [
          "149"
         ],
         "type": "scatter",
         "x": [
          -0.16033624424300502
         ],
         "y": [
          149
         ]
        },
        {
         "mode": "text",
         "text": [
          "186"
         ],
         "type": "scatter",
         "x": [
          -0.1389798777537627
         ],
         "y": [
          186
         ]
        },
        {
         "mode": "text",
         "text": [
          "294"
         ],
         "type": "scatter",
         "x": [
          -0.11762351126452036
         ],
         "y": [
          294
         ]
        },
        {
         "mode": "text",
         "text": [
          "547"
         ],
         "type": "scatter",
         "x": [
          -0.09626714477527804
         ],
         "y": [
          547
         ]
        },
        {
         "mode": "text",
         "text": [
          "1109"
         ],
         "type": "scatter",
         "x": [
          -0.0749107782860357
         ],
         "y": [
          1109
         ]
        },
        {
         "mode": "text",
         "text": [
          "3110"
         ],
         "type": "scatter",
         "x": [
          -0.05355441179679338
         ],
         "y": [
          3110
         ]
        },
        {
         "mode": "text",
         "text": [
          "17514"
         ],
         "type": "scatter",
         "x": [
          -0.03219804530755105
         ],
         "y": [
          17514
         ]
        },
        {
         "mode": "text",
         "text": [
          "37557"
         ],
         "type": "scatter",
         "x": [
          -0.01084167881830872
         ],
         "y": [
          37557
         ]
        }
       ],
       "layout": {
        "autosize": true,
        "template": {
         "data": {
          "bar": [
           {
            "error_x": {
             "color": "#2a3f5f"
            },
            "error_y": {
             "color": "#2a3f5f"
            },
            "marker": {
             "line": {
              "color": "#E5ECF6",
              "width": 0.5
             },
             "pattern": {
              "fillmode": "overlay",
              "size": 10,
              "solidity": 0.2
             }
            },
            "type": "bar"
           }
          ],
          "barpolar": [
           {
            "marker": {
             "line": {
              "color": "#E5ECF6",
              "width": 0.5
             },
             "pattern": {
              "fillmode": "overlay",
              "size": 10,
              "solidity": 0.2
             }
            },
            "type": "barpolar"
           }
          ],
          "carpet": [
           {
            "aaxis": {
             "endlinecolor": "#2a3f5f",
             "gridcolor": "white",
             "linecolor": "white",
             "minorgridcolor": "white",
             "startlinecolor": "#2a3f5f"
            },
            "baxis": {
             "endlinecolor": "#2a3f5f",
             "gridcolor": "white",
             "linecolor": "white",
             "minorgridcolor": "white",
             "startlinecolor": "#2a3f5f"
            },
            "type": "carpet"
           }
          ],
          "choropleth": [
           {
            "colorbar": {
             "outlinewidth": 0,
             "ticks": ""
            },
            "type": "choropleth"
           }
          ],
          "contour": [
           {
            "colorbar": {
             "outlinewidth": 0,
             "ticks": ""
            },
            "colorscale": [
             [
              0,
              "#0d0887"
             ],
             [
              0.1111111111111111,
              "#46039f"
             ],
             [
              0.2222222222222222,
              "#7201a8"
             ],
             [
              0.3333333333333333,
              "#9c179e"
             ],
             [
              0.4444444444444444,
              "#bd3786"
             ],
             [
              0.5555555555555556,
              "#d8576b"
             ],
             [
              0.6666666666666666,
              "#ed7953"
             ],
             [
              0.7777777777777778,
              "#fb9f3a"
             ],
             [
              0.8888888888888888,
              "#fdca26"
             ],
             [
              1,
              "#f0f921"
             ]
            ],
            "type": "contour"
           }
          ],
          "contourcarpet": [
           {
            "colorbar": {
             "outlinewidth": 0,
             "ticks": ""
            },
            "type": "contourcarpet"
           }
          ],
          "heatmap": [
           {
            "colorbar": {
             "outlinewidth": 0,
             "ticks": ""
            },
            "colorscale": [
             [
              0,
              "#0d0887"
             ],
             [
              0.1111111111111111,
              "#46039f"
             ],
             [
              0.2222222222222222,
              "#7201a8"
             ],
             [
              0.3333333333333333,
              "#9c179e"
             ],
             [
              0.4444444444444444,
              "#bd3786"
             ],
             [
              0.5555555555555556,
              "#d8576b"
             ],
             [
              0.6666666666666666,
              "#ed7953"
             ],
             [
              0.7777777777777778,
              "#fb9f3a"
             ],
             [
              0.8888888888888888,
              "#fdca26"
             ],
             [
              1,
              "#f0f921"
             ]
            ],
            "type": "heatmap"
           }
          ],
          "heatmapgl": [
           {
            "colorbar": {
             "outlinewidth": 0,
             "ticks": ""
            },
            "colorscale": [
             [
              0,
              "#0d0887"
             ],
             [
              0.1111111111111111,
              "#46039f"
             ],
             [
              0.2222222222222222,
              "#7201a8"
             ],
             [
              0.3333333333333333,
              "#9c179e"
             ],
             [
              0.4444444444444444,
              "#bd3786"
             ],
             [
              0.5555555555555556,
              "#d8576b"
             ],
             [
              0.6666666666666666,
              "#ed7953"
             ],
             [
              0.7777777777777778,
              "#fb9f3a"
             ],
             [
              0.8888888888888888,
              "#fdca26"
             ],
             [
              1,
              "#f0f921"
             ]
            ],
            "type": "heatmapgl"
           }
          ],
          "histogram": [
           {
            "marker": {
             "pattern": {
              "fillmode": "overlay",
              "size": 10,
              "solidity": 0.2
             }
            },
            "type": "histogram"
           }
          ],
          "histogram2d": [
           {
            "colorbar": {
             "outlinewidth": 0,
             "ticks": ""
            },
            "colorscale": [
             [
              0,
              "#0d0887"
             ],
             [
              0.1111111111111111,
              "#46039f"
             ],
             [
              0.2222222222222222,
              "#7201a8"
             ],
             [
              0.3333333333333333,
              "#9c179e"
             ],
             [
              0.4444444444444444,
              "#bd3786"
             ],
             [
              0.5555555555555556,
              "#d8576b"
             ],
             [
              0.6666666666666666,
              "#ed7953"
             ],
             [
              0.7777777777777778,
              "#fb9f3a"
             ],
             [
              0.8888888888888888,
              "#fdca26"
             ],
             [
              1,
              "#f0f921"
             ]
            ],
            "type": "histogram2d"
           }
          ],
          "histogram2dcontour": [
           {
            "colorbar": {
             "outlinewidth": 0,
             "ticks": ""
            },
            "colorscale": [
             [
              0,
              "#0d0887"
             ],
             [
              0.1111111111111111,
              "#46039f"
             ],
             [
              0.2222222222222222,
              "#7201a8"
             ],
             [
              0.3333333333333333,
              "#9c179e"
             ],
             [
              0.4444444444444444,
              "#bd3786"
             ],
             [
              0.5555555555555556,
              "#d8576b"
             ],
             [
              0.6666666666666666,
              "#ed7953"
             ],
             [
              0.7777777777777778,
              "#fb9f3a"
             ],
             [
              0.8888888888888888,
              "#fdca26"
             ],
             [
              1,
              "#f0f921"
             ]
            ],
            "type": "histogram2dcontour"
           }
          ],
          "mesh3d": [
           {
            "colorbar": {
             "outlinewidth": 0,
             "ticks": ""
            },
            "type": "mesh3d"
           }
          ],
          "parcoords": [
           {
            "line": {
             "colorbar": {
              "outlinewidth": 0,
              "ticks": ""
             }
            },
            "type": "parcoords"
           }
          ],
          "pie": [
           {
            "automargin": true,
            "type": "pie"
           }
          ],
          "scatter": [
           {
            "fillpattern": {
             "fillmode": "overlay",
             "size": 10,
             "solidity": 0.2
            },
            "type": "scatter"
           }
          ],
          "scatter3d": [
           {
            "line": {
             "colorbar": {
              "outlinewidth": 0,
              "ticks": ""
             }
            },
            "marker": {
             "colorbar": {
              "outlinewidth": 0,
              "ticks": ""
             }
            },
            "type": "scatter3d"
           }
          ],
          "scattercarpet": [
           {
            "marker": {
             "colorbar": {
              "outlinewidth": 0,
              "ticks": ""
             }
            },
            "type": "scattercarpet"
           }
          ],
          "scattergeo": [
           {
            "marker": {
             "colorbar": {
              "outlinewidth": 0,
              "ticks": ""
             }
            },
            "type": "scattergeo"
           }
          ],
          "scattergl": [
           {
            "marker": {
             "colorbar": {
              "outlinewidth": 0,
              "ticks": ""
             }
            },
            "type": "scattergl"
           }
          ],
          "scattermapbox": [
           {
            "marker": {
             "colorbar": {
              "outlinewidth": 0,
              "ticks": ""
             }
            },
            "type": "scattermapbox"
           }
          ],
          "scatterpolar": [
           {
            "marker": {
             "colorbar": {
              "outlinewidth": 0,
              "ticks": ""
             }
            },
            "type": "scatterpolar"
           }
          ],
          "scatterpolargl": [
           {
            "marker": {
             "colorbar": {
              "outlinewidth": 0,
              "ticks": ""
             }
            },
            "type": "scatterpolargl"
           }
          ],
          "scatterternary": [
           {
            "marker": {
             "colorbar": {
              "outlinewidth": 0,
              "ticks": ""
             }
            },
            "type": "scatterternary"
           }
          ],
          "surface": [
           {
            "colorbar": {
             "outlinewidth": 0,
             "ticks": ""
            },
            "colorscale": [
             [
              0,
              "#0d0887"
             ],
             [
              0.1111111111111111,
              "#46039f"
             ],
             [
              0.2222222222222222,
              "#7201a8"
             ],
             [
              0.3333333333333333,
              "#9c179e"
             ],
             [
              0.4444444444444444,
              "#bd3786"
             ],
             [
              0.5555555555555556,
              "#d8576b"
             ],
             [
              0.6666666666666666,
              "#ed7953"
             ],
             [
              0.7777777777777778,
              "#fb9f3a"
             ],
             [
              0.8888888888888888,
              "#fdca26"
             ],
             [
              1,
              "#f0f921"
             ]
            ],
            "type": "surface"
           }
          ],
          "table": [
           {
            "cells": {
             "fill": {
              "color": "#EBF0F8"
             },
             "line": {
              "color": "white"
             }
            },
            "header": {
             "fill": {
              "color": "#C8D4E3"
             },
             "line": {
              "color": "white"
             }
            },
            "type": "table"
           }
          ]
         },
         "layout": {
          "annotationdefaults": {
           "arrowcolor": "#2a3f5f",
           "arrowhead": 0,
           "arrowwidth": 1
          },
          "autotypenumbers": "strict",
          "coloraxis": {
           "colorbar": {
            "outlinewidth": 0,
            "ticks": ""
           }
          },
          "colorscale": {
           "diverging": [
            [
             0,
             "#8e0152"
            ],
            [
             0.1,
             "#c51b7d"
            ],
            [
             0.2,
             "#de77ae"
            ],
            [
             0.3,
             "#f1b6da"
            ],
            [
             0.4,
             "#fde0ef"
            ],
            [
             0.5,
             "#f7f7f7"
            ],
            [
             0.6,
             "#e6f5d0"
            ],
            [
             0.7,
             "#b8e186"
            ],
            [
             0.8,
             "#7fbc41"
            ],
            [
             0.9,
             "#4d9221"
            ],
            [
             1,
             "#276419"
            ]
           ],
           "sequential": [
            [
             0,
             "#0d0887"
            ],
            [
             0.1111111111111111,
             "#46039f"
            ],
            [
             0.2222222222222222,
             "#7201a8"
            ],
            [
             0.3333333333333333,
             "#9c179e"
            ],
            [
             0.4444444444444444,
             "#bd3786"
            ],
            [
             0.5555555555555556,
             "#d8576b"
            ],
            [
             0.6666666666666666,
             "#ed7953"
            ],
            [
             0.7777777777777778,
             "#fb9f3a"
            ],
            [
             0.8888888888888888,
             "#fdca26"
            ],
            [
             1,
             "#f0f921"
            ]
           ],
           "sequentialminus": [
            [
             0,
             "#0d0887"
            ],
            [
             0.1111111111111111,
             "#46039f"
            ],
            [
             0.2222222222222222,
             "#7201a8"
            ],
            [
             0.3333333333333333,
             "#9c179e"
            ],
            [
             0.4444444444444444,
             "#bd3786"
            ],
            [
             0.5555555555555556,
             "#d8576b"
            ],
            [
             0.6666666666666666,
             "#ed7953"
            ],
            [
             0.7777777777777778,
             "#fb9f3a"
            ],
            [
             0.8888888888888888,
             "#fdca26"
            ],
            [
             1,
             "#f0f921"
            ]
           ]
          },
          "colorway": [
           "#636efa",
           "#EF553B",
           "#00cc96",
           "#ab63fa",
           "#FFA15A",
           "#19d3f3",
           "#FF6692",
           "#B6E880",
           "#FF97FF",
           "#FECB52"
          ],
          "font": {
           "color": "#2a3f5f"
          },
          "geo": {
           "bgcolor": "white",
           "lakecolor": "white",
           "landcolor": "#E5ECF6",
           "showlakes": true,
           "showland": true,
           "subunitcolor": "white"
          },
          "hoverlabel": {
           "align": "left"
          },
          "hovermode": "closest",
          "mapbox": {
           "style": "light"
          },
          "paper_bgcolor": "white",
          "plot_bgcolor": "#E5ECF6",
          "polar": {
           "angularaxis": {
            "gridcolor": "white",
            "linecolor": "white",
            "ticks": ""
           },
           "bgcolor": "#E5ECF6",
           "radialaxis": {
            "gridcolor": "white",
            "linecolor": "white",
            "ticks": ""
           }
          },
          "scene": {
           "xaxis": {
            "backgroundcolor": "#E5ECF6",
            "gridcolor": "white",
            "gridwidth": 2,
            "linecolor": "white",
            "showbackground": true,
            "ticks": "",
            "zerolinecolor": "white"
           },
           "yaxis": {
            "backgroundcolor": "#E5ECF6",
            "gridcolor": "white",
            "gridwidth": 2,
            "linecolor": "white",
            "showbackground": true,
            "ticks": "",
            "zerolinecolor": "white"
           },
           "zaxis": {
            "backgroundcolor": "#E5ECF6",
            "gridcolor": "white",
            "gridwidth": 2,
            "linecolor": "white",
            "showbackground": true,
            "ticks": "",
            "zerolinecolor": "white"
           }
          },
          "shapedefaults": {
           "line": {
            "color": "#2a3f5f"
           }
          },
          "ternary": {
           "aaxis": {
            "gridcolor": "white",
            "linecolor": "white",
            "ticks": ""
           },
           "baxis": {
            "gridcolor": "white",
            "linecolor": "white",
            "ticks": ""
           },
           "bgcolor": "#E5ECF6",
           "caxis": {
            "gridcolor": "white",
            "linecolor": "white",
            "ticks": ""
           }
          },
          "title": {
           "x": 0.05
          },
          "xaxis": {
           "automargin": true,
           "gridcolor": "white",
           "linecolor": "white",
           "ticks": "",
           "title": {
            "standoff": 15
           },
           "zerolinecolor": "white",
           "zerolinewidth": 2
          },
          "yaxis": {
           "automargin": true,
           "gridcolor": "white",
           "linecolor": "white",
           "ticks": "",
           "title": {
            "standoff": 15
           },
           "zerolinecolor": "white",
           "zerolinewidth": 2
          }
         }
        },
        "xaxis": {
         "autorange": true,
         "range": [
          -0.8900120992921179,
          0.03543044857504965
         ],
         "type": "linear"
        },
        "yaxis": {
         "autorange": true,
         "range": [
          -2086.5,
          39643.5
         ],
         "type": "linear"
        }
       }
      },
      "image/png": "[encoded data removed]",
      "text/html": [
       "<div>                            <div id=\"6b943931-43d1-4b8b-9d0c-1fdb92834fd8\" class=\"plotly-graph-div\" style=\"height:525px; width:100%;\"></div>            <script type=\"text/javascript\">                require([\"plotly\"], function(Plotly) {                    window.PLOTLYENV=window.PLOTLYENV || {};                                    if (document.getElementById(\"6b943931-43d1-4b8b-9d0c-1fdb92834fd8\")) {                    Plotly.newPlot(                        \"6b943931-43d1-4b8b-9d0c-1fdb92834fd8\",                        [{\"name\":\"Histogram\",\"width\":[0.02135636648924233,0.02135636648924233,0.02135636648924233,0.02135636648924233,0.02135636648924233,0.02135636648924233,0.02135636648924233,0.02135636648924233,0.02135636648924233,0.02135636648924233,0.02135636648924233,0.02135636648924233,0.02135636648924233,0.02135636648924233,0.02135636648924233,0.02135636648924233,0.02135636648924233,0.02135636648924233,0.02135636648924233,0.02135636648924233,0.02135636648924233,0.02135636648924233,0.02135636648924233,0.02135636648924233,0.02135636648924233,0.02135636648924233,0.02135636648924233,0.02135636648924233,0.02135636648924233,0.02135636648924233,0.02135636648924233,0.02135636648924233,0.02135636648924233,0.02135636648924233,0.02135636648924233,0.02135636648924233,0.02135636648924233,0.02135636648924233,0.02135636648924233,0.02135636648924233],\"x\":[-0.8437399718987595,-0.8223836054095173,-0.8010272389202748,-0.7796708724310326,-0.7583145059417902,-0.736958139452548,-0.7156017729633055,-0.6942454064740633,-0.6728890399848209,-0.6515326734955786,-0.6301763070063362,-0.608819940517094,-0.5874635740278515,-0.5661072075386093,-0.5447508410493669,-0.5233944745601247,-0.5020381080708822,-0.48068174158163995,-0.4593253750923976,-0.4379690086031553,-0.41661264211391297,-0.39525627562467064,-0.3738999091354283,-0.352543542646186,-0.33118717615694365,-0.3098308096677013,-0.288474443178459,-0.26711807668921667,-0.24576171019997434,-0.224405343710732,-0.20304897722148968,-0.18169261073224735,-0.16033624424300502,-0.1389798777537627,-0.11762351126452036,-0.09626714477527804,-0.0749107782860357,-0.05355441179679338,-0.03219804530755105,-0.01084167881830872],\"y\":[1,0,0,1,0,0,0,0,1,2,1,1,2,3,4,2,1,6,5,12,10,5,10,14,26,20,27,28,42,66,78,132,149,186,294,547,1109,3110,17514,37557],\"type\":\"bar\"},{\"mode\":\"text\",\"text\":[\"1\"],\"x\":[-0.8437399718987595],\"y\":[1],\"type\":\"scatter\"},{\"mode\":\"text\",\"text\":[\"0\"],\"x\":[-0.8223836054095173],\"y\":[0],\"type\":\"scatter\"},{\"mode\":\"text\",\"text\":[\"0\"],\"x\":[-0.8010272389202748],\"y\":[0],\"type\":\"scatter\"},{\"mode\":\"text\",\"text\":[\"1\"],\"x\":[-0.7796708724310326],\"y\":[1],\"type\":\"scatter\"},{\"mode\":\"text\",\"text\":[\"0\"],\"x\":[-0.7583145059417902],\"y\":[0],\"type\":\"scatter\"},{\"mode\":\"text\",\"text\":[\"0\"],\"x\":[-0.736958139452548],\"y\":[0],\"type\":\"scatter\"},{\"mode\":\"text\",\"text\":[\"0\"],\"x\":[-0.7156017729633055],\"y\":[0],\"type\":\"scatter\"},{\"mode\":\"text\",\"text\":[\"0\"],\"x\":[-0.6942454064740633],\"y\":[0],\"type\":\"scatter\"},{\"mode\":\"text\",\"text\":[\"1\"],\"x\":[-0.6728890399848209],\"y\":[1],\"type\":\"scatter\"},{\"mode\":\"text\",\"text\":[\"2\"],\"x\":[-0.6515326734955786],\"y\":[2],\"type\":\"scatter\"},{\"mode\":\"text\",\"text\":[\"1\"],\"x\":[-0.6301763070063362],\"y\":[1],\"type\":\"scatter\"},{\"mode\":\"text\",\"text\":[\"1\"],\"x\":[-0.608819940517094],\"y\":[1],\"type\":\"scatter\"},{\"mode\":\"text\",\"text\":[\"2\"],\"x\":[-0.5874635740278515],\"y\":[2],\"type\":\"scatter\"},{\"mode\":\"text\",\"text\":[\"3\"],\"x\":[-0.5661072075386093],\"y\":[3],\"type\":\"scatter\"},{\"mode\":\"text\",\"text\":[\"4\"],\"x\":[-0.5447508410493669],\"y\":[4],\"type\":\"scatter\"},{\"mode\":\"text\",\"text\":[\"2\"],\"x\":[-0.5233944745601247],\"y\":[2],\"type\":\"scatter\"},{\"mode\":\"text\",\"text\":[\"1\"],\"x\":[-0.5020381080708822],\"y\":[1],\"type\":\"scatter\"},{\"mode\":\"text\",\"text\":[\"6\"],\"x\":[-0.48068174158163995],\"y\":[6],\"type\":\"scatter\"},{\"mode\":\"text\",\"text\":[\"5\"],\"x\":[-0.4593253750923976],\"y\":[5],\"type\":\"scatter\"},{\"mode\":\"text\",\"text\":[\"12\"],\"x\":[-0.4379690086031553],\"y\":[12],\"type\":\"scatter\"},{\"mode\":\"text\",\"text\":[\"10\"],\"x\":[-0.41661264211391297],\"y\":[10],\"type\":\"scatter\"},{\"mode\":\"text\",\"text\":[\"5\"],\"x\":[-0.39525627562467064],\"y\":[5],\"type\":\"scatter\"},{\"mode\":\"text\",\"text\":[\"10\"],\"x\":[-0.3738999091354283],\"y\":[10],\"type\":\"scatter\"},{\"mode\":\"text\",\"text\":[\"14\"],\"x\":[-0.352543542646186],\"y\":[14],\"type\":\"scatter\"},{\"mode\":\"text\",\"text\":[\"26\"],\"x\":[-0.33118717615694365],\"y\":[26],\"type\":\"scatter\"},{\"mode\":\"text\",\"text\":[\"20\"],\"x\":[-0.3098308096677013],\"y\":[20],\"type\":\"scatter\"},{\"mode\":\"text\",\"text\":[\"27\"],\"x\":[-0.288474443178459],\"y\":[27],\"type\":\"scatter\"},{\"mode\":\"text\",\"text\":[\"28\"],\"x\":[-0.26711807668921667],\"y\":[28],\"type\":\"scatter\"},{\"mode\":\"text\",\"text\":[\"42\"],\"x\":[-0.24576171019997434],\"y\":[42],\"type\":\"scatter\"},{\"mode\":\"text\",\"text\":[\"66\"],\"x\":[-0.224405343710732],\"y\":[66],\"type\":\"scatter\"},{\"mode\":\"text\",\"text\":[\"78\"],\"x\":[-0.20304897722148968],\"y\":[78],\"type\":\"scatter\"},{\"mode\":\"text\",\"text\":[\"132\"],\"x\":[-0.18169261073224735],\"y\":[132],\"type\":\"scatter\"},{\"mode\":\"text\",\"text\":[\"149\"],\"x\":[-0.16033624424300502],\"y\":[149],\"type\":\"scatter\"},{\"mode\":\"text\",\"text\":[\"186\"],\"x\":[-0.1389798777537627],\"y\":[186],\"type\":\"scatter\"},{\"mode\":\"text\",\"text\":[\"294\"],\"x\":[-0.11762351126452036],\"y\":[294],\"type\":\"scatter\"},{\"mode\":\"text\",\"text\":[\"547\"],\"x\":[-0.09626714477527804],\"y\":[547],\"type\":\"scatter\"},{\"mode\":\"text\",\"text\":[\"1109\"],\"x\":[-0.0749107782860357],\"y\":[1109],\"type\":\"scatter\"},{\"mode\":\"text\",\"text\":[\"3110\"],\"x\":[-0.05355441179679338],\"y\":[3110],\"type\":\"scatter\"},{\"mode\":\"text\",\"text\":[\"17514\"],\"x\":[-0.03219804530755105],\"y\":[17514],\"type\":\"scatter\"},{\"mode\":\"text\",\"text\":[\"37557\"],\"x\":[-0.01084167881830872],\"y\":[37557],\"type\":\"scatter\"}],                        {\"template\":{\"data\":{\"histogram2dcontour\":[{\"type\":\"histogram2dcontour\",\"colorbar\":{\"outlinewidth\":0,\"ticks\":\"\"},\"colorscale\":[[0.0,\"#0d0887\"],[0.1111111111111111,\"#46039f\"],[0.2222222222222222,\"#7201a8\"],[0.3333333333333333,\"#9c179e\"],[0.4444444444444444,\"#bd3786\"],[0.5555555555555556,\"#d8576b\"],[0.6666666666666666,\"#ed7953\"],[0.7777777777777778,\"#fb9f3a\"],[0.8888888888888888,\"#fdca26\"],[1.0,\"#f0f921\"]]}],\"choropleth\":[{\"type\":\"choropleth\",\"colorbar\":{\"outlinewidth\":0,\"ticks\":\"\"}}],\"histogram2d\":[{\"type\":\"histogram2d\",\"colorbar\":{\"outlinewidth\":0,\"ticks\":\"\"},\"colorscale\":[[0.0,\"#0d0887\"],[0.1111111111111111,\"#46039f\"],[0.2222222222222222,\"#7201a8\"],[0.3333333333333333,\"#9c179e\"],[0.4444444444444444,\"#bd3786\"],[0.5555555555555556,\"#d8576b\"],[0.6666666666666666,\"#ed7953\"],[0.7777777777777778,\"#fb9f3a\"],[0.8888888888888888,\"#fdca26\"],[1.0,\"#f0f921\"]]}],\"heatmap\":[{\"type\":\"heatmap\",\"colorbar\":{\"outlinewidth\":0,\"ticks\":\"\"},\"colorscale\":[[0.0,\"#0d0887\"],[0.1111111111111111,\"#46039f\"],[0.2222222222222222,\"#7201a8\"],[0.3333333333333333,\"#9c179e\"],[0.4444444444444444,\"#bd3786\"],[0.5555555555555556,\"#d8576b\"],[0.6666666666666666,\"#ed7953\"],[0.7777777777777778,\"#fb9f3a\"],[0.8888888888888888,\"#fdca26\"],[1.0,\"#f0f921\"]]}],\"heatmapgl\":[{\"type\":\"heatmapgl\",\"colorbar\":{\"outlinewidth\":0,\"ticks\":\"\"},\"colorscale\":[[0.0,\"#0d0887\"],[0.1111111111111111,\"#46039f\"],[0.2222222222222222,\"#7201a8\"],[0.3333333333333333,\"#9c179e\"],[0.4444444444444444,\"#bd3786\"],[0.5555555555555556,\"#d8576b\"],[0.6666666666666666,\"#ed7953\"],[0.7777777777777778,\"#fb9f3a\"],[0.8888888888888888,\"#fdca26\"],[1.0,\"#f0f921\"]]}],\"contourcarpet\":[{\"type\":\"contourcarpet\",\"colorbar\":{\"outlinewidth\":0,\"ticks\":\"\"}}],\"contour\":[{\"type\":\"contour\",\"colorbar\":{\"outlinewidth\":0,\"ticks\":\"\"},\"colorscale\":[[0.0,\"#0d0887\"],[0.1111111111111111,\"#46039f\"],[0.2222222222222222,\"#7201a8\"],[0.3333333333333333,\"#9c179e\"],[0.4444444444444444,\"#bd3786\"],[0.5555555555555556,\"#d8576b\"],[0.6666666666666666,\"#ed7953\"],[0.7777777777777778,\"#fb9f3a\"],[0.8888888888888888,\"#fdca26\"],[1.0,\"#f0f921\"]]}],\"surface\":[{\"type\":\"surface\",\"colorbar\":{\"outlinewidth\":0,\"ticks\":\"\"},\"colorscale\":[[0.0,\"#0d0887\"],[0.1111111111111111,\"#46039f\"],[0.2222222222222222,\"#7201a8\"],[0.3333333333333333,\"#9c179e\"],[0.4444444444444444,\"#bd3786\"],[0.5555555555555556,\"#d8576b\"],[0.6666666666666666,\"#ed7953\"],[0.7777777777777778,\"#fb9f3a\"],[0.8888888888888888,\"#fdca26\"],[1.0,\"#f0f921\"]]}],\"mesh3d\":[{\"type\":\"mesh3d\",\"colorbar\":{\"outlinewidth\":0,\"ticks\":\"\"}}],\"scatter\":[{\"fillpattern\":{\"fillmode\":\"overlay\",\"size\":10,\"solidity\":0.2},\"type\":\"scatter\"}],\"parcoords\":[{\"type\":\"parcoords\",\"line\":{\"colorbar\":{\"outlinewidth\":0,\"ticks\":\"\"}}}],\"scatterpolargl\":[{\"type\":\"scatterpolargl\",\"marker\":{\"colorbar\":{\"outlinewidth\":0,\"ticks\":\"\"}}}],\"bar\":[{\"error_x\":{\"color\":\"#2a3f5f\"},\"error_y\":{\"color\":\"#2a3f5f\"},\"marker\":{\"line\":{\"color\":\"#E5ECF6\",\"width\":0.5},\"pattern\":{\"fillmode\":\"overlay\",\"size\":10,\"solidity\":0.2}},\"type\":\"bar\"}],\"scattergeo\":[{\"type\":\"scattergeo\",\"marker\":{\"colorbar\":{\"outlinewidth\":0,\"ticks\":\"\"}}}],\"scatterpolar\":[{\"type\":\"scatterpolar\",\"marker\":{\"colorbar\":{\"outlinewidth\":0,\"ticks\":\"\"}}}],\"histogram\":[{\"marker\":{\"pattern\":{\"fillmode\":\"overlay\",\"size\":10,\"solidity\":0.2}},\"type\":\"histogram\"}],\"scattergl\":[{\"type\":\"scattergl\",\"marker\":{\"colorbar\":{\"outlinewidth\":0,\"ticks\":\"\"}}}],\"scatter3d\":[{\"type\":\"scatter3d\",\"line\":{\"colorbar\":{\"outlinewidth\":0,\"ticks\":\"\"}},\"marker\":{\"colorbar\":{\"outlinewidth\":0,\"ticks\":\"\"}}}],\"scattermapbox\":[{\"type\":\"scattermapbox\",\"marker\":{\"colorbar\":{\"outlinewidth\":0,\"ticks\":\"\"}}}],\"scatterternary\":[{\"type\":\"scatterternary\",\"marker\":{\"colorbar\":{\"outlinewidth\":0,\"ticks\":\"\"}}}],\"scattercarpet\":[{\"type\":\"scattercarpet\",\"marker\":{\"colorbar\":{\"outlinewidth\":0,\"ticks\":\"\"}}}],\"carpet\":[{\"aaxis\":{\"endlinecolor\":\"#2a3f5f\",\"gridcolor\":\"white\",\"linecolor\":\"white\",\"minorgridcolor\":\"white\",\"startlinecolor\":\"#2a3f5f\"},\"baxis\":{\"endlinecolor\":\"#2a3f5f\",\"gridcolor\":\"white\",\"linecolor\":\"white\",\"minorgridcolor\":\"white\",\"startlinecolor\":\"#2a3f5f\"},\"type\":\"carpet\"}],\"table\":[{\"cells\":{\"fill\":{\"color\":\"#EBF0F8\"},\"line\":{\"color\":\"white\"}},\"header\":{\"fill\":{\"color\":\"#C8D4E3\"},\"line\":{\"color\":\"white\"}},\"type\":\"table\"}],\"barpolar\":[{\"marker\":{\"line\":{\"color\":\"#E5ECF6\",\"width\":0.5},\"pattern\":{\"fillmode\":\"overlay\",\"size\":10,\"solidity\":0.2}},\"type\":\"barpolar\"}],\"pie\":[{\"automargin\":true,\"type\":\"pie\"}]},\"layout\":{\"autotypenumbers\":\"strict\",\"colorway\":[\"#636efa\",\"#EF553B\",\"#00cc96\",\"#ab63fa\",\"#FFA15A\",\"#19d3f3\",\"#FF6692\",\"#B6E880\",\"#FF97FF\",\"#FECB52\"],\"font\":{\"color\":\"#2a3f5f\"},\"hovermode\":\"closest\",\"hoverlabel\":{\"align\":\"left\"},\"paper_bgcolor\":\"white\",\"plot_bgcolor\":\"#E5ECF6\",\"polar\":{\"bgcolor\":\"#E5ECF6\",\"angularaxis\":{\"gridcolor\":\"white\",\"linecolor\":\"white\",\"ticks\":\"\"},\"radialaxis\":{\"gridcolor\":\"white\",\"linecolor\":\"white\",\"ticks\":\"\"}},\"ternary\":{\"bgcolor\":\"#E5ECF6\",\"aaxis\":{\"gridcolor\":\"white\",\"linecolor\":\"white\",\"ticks\":\"\"},\"baxis\":{\"gridcolor\":\"white\",\"linecolor\":\"white\",\"ticks\":\"\"},\"caxis\":{\"gridcolor\":\"white\",\"linecolor\":\"white\",\"ticks\":\"\"}},\"coloraxis\":{\"colorbar\":{\"outlinewidth\":0,\"ticks\":\"\"}},\"colorscale\":{\"sequential\":[[0.0,\"#0d0887\"],[0.1111111111111111,\"#46039f\"],[0.2222222222222222,\"#7201a8\"],[0.3333333333333333,\"#9c179e\"],[0.4444444444444444,\"#bd3786\"],[0.5555555555555556,\"#d8576b\"],[0.6666666666666666,\"#ed7953\"],[0.7777777777777778,\"#fb9f3a\"],[0.8888888888888888,\"#fdca26\"],[1.0,\"#f0f921\"]],\"sequentialminus\":[[0.0,\"#0d0887\"],[0.1111111111111111,\"#46039f\"],[0.2222222222222222,\"#7201a8\"],[0.3333333333333333,\"#9c179e\"],[0.4444444444444444,\"#bd3786\"],[0.5555555555555556,\"#d8576b\"],[0.6666666666666666,\"#ed7953\"],[0.7777777777777778,\"#fb9f3a\"],[0.8888888888888888,\"#fdca26\"],[1.0,\"#f0f921\"]],\"diverging\":[[0,\"#8e0152\"],[0.1,\"#c51b7d\"],[0.2,\"#de77ae\"],[0.3,\"#f1b6da\"],[0.4,\"#fde0ef\"],[0.5,\"#f7f7f7\"],[0.6,\"#e6f5d0\"],[0.7,\"#b8e186\"],[0.8,\"#7fbc41\"],[0.9,\"#4d9221\"],[1,\"#276419\"]]},\"xaxis\":{\"gridcolor\":\"white\",\"linecolor\":\"white\",\"ticks\":\"\",\"title\":{\"standoff\":15},\"zerolinecolor\":\"white\",\"automargin\":true,\"zerolinewidth\":2},\"yaxis\":{\"gridcolor\":\"white\",\"linecolor\":\"white\",\"ticks\":\"\",\"title\":{\"standoff\":15},\"zerolinecolor\":\"white\",\"automargin\":true,\"zerolinewidth\":2},\"scene\":{\"xaxis\":{\"backgroundcolor\":\"#E5ECF6\",\"gridcolor\":\"white\",\"linecolor\":\"white\",\"showbackground\":true,\"ticks\":\"\",\"zerolinecolor\":\"white\",\"gridwidth\":2},\"yaxis\":{\"backgroundcolor\":\"#E5ECF6\",\"gridcolor\":\"white\",\"linecolor\":\"white\",\"showbackground\":true,\"ticks\":\"\",\"zerolinecolor\":\"white\",\"gridwidth\":2},\"zaxis\":{\"backgroundcolor\":\"#E5ECF6\",\"gridcolor\":\"white\",\"linecolor\":\"white\",\"showbackground\":true,\"ticks\":\"\",\"zerolinecolor\":\"white\",\"gridwidth\":2}},\"shapedefaults\":{\"line\":{\"color\":\"#2a3f5f\"}},\"annotationdefaults\":{\"arrowcolor\":\"#2a3f5f\",\"arrowhead\":0,\"arrowwidth\":1},\"geo\":{\"bgcolor\":\"white\",\"landcolor\":\"#E5ECF6\",\"subunitcolor\":\"white\",\"showland\":true,\"showlakes\":true,\"lakecolor\":\"white\"},\"title\":{\"x\":0.05},\"mapbox\":{\"style\":\"light\"}}}},                        {\"responsive\": true}                    ).then(function(){\n",
       "                            \n",
       "var gd = document.getElementById('6b943931-43d1-4b8b-9d0c-1fdb92834fd8');\n",
       "var x = new MutationObserver(function (mutations, observer) {{\n",
       "        var display = window.getComputedStyle(gd).display;\n",
       "        if (!display || display === 'none') {{\n",
       "            console.log([gd, 'removed!']);\n",
       "            Plotly.purge(gd);\n",
       "            observer.disconnect();\n",
       "        }}\n",
       "}});\n",
       "\n",
       "// Listen for the removal of the full notebook cells\n",
       "var notebookContainer = gd.closest('#notebook-container');\n",
       "if (notebookContainer) {{\n",
       "    x.observe(notebookContainer, {childList: true});\n",
       "}}\n",
       "\n",
       "// Listen for the clearing of the current output cell\n",
       "var outputEl = gd.closest('.output');\n",
       "if (outputEl) {{\n",
       "    x.observe(outputEl, {childList: true});\n",
       "}}\n",
       "\n",
       "                        })                };                });            </script>        </div>"
      ]
     },
     "metadata": {},
     "output_type": "display_data"
    }
   ],
   "source": [
    "# Plot the figure\n",
    "counts, bins = np.histogram(df_interest['ScoreChange'], bins=40)\n",
    "bin_midpoints = bins[:-1] + np.diff(bins)/2\n",
    "\n",
    "fig = go.Figure()\n",
    "\n",
    "fig.add_trace(go.Bar(\n",
    "    x=bin_midpoints,\n",
    "    y=counts,\n",
    "    width=np.diff(bins), # makes bars have correct widths\n",
    "    name='Histogram'\n",
    "))\n",
    "# add text labels for counts\n",
    "for i in range(len(counts)):\n",
    "    fig.add_trace(go.Scatter(\n",
    "        x=[bin_midpoints[i]],\n",
    "        y=[counts[i]],\n",
    "        text=[str(counts[i])],\n",
    "        mode='text',\n",
    "    ))\n",
    "\n",
    "fig.show()"
   ]
  },
  {
   "cell_type": "code",
   "execution_count": 46,
   "id": "142ab62a-5334-4c9c-862d-ff999319191b",
   "metadata": {},
   "outputs": [
    {
     "data": {
      "text/html": [
       "<div>\n",
       "<style scoped>\n",
       "    .dataframe tbody tr th:only-of-type {\n",
       "        vertical-align: middle;\n",
       "    }\n",
       "\n",
       "    .dataframe tbody tr th {\n",
       "        vertical-align: top;\n",
       "    }\n",
       "\n",
       "    .dataframe thead th {\n",
       "        text-align: right;\n",
       "    }\n",
       "</style>\n",
       "<table border=\"1\" class=\"dataframe\">\n",
       "  <thead>\n",
       "    <tr style=\"text-align: right;\">\n",
       "      <th></th>\n",
       "      <th>index</th>\n",
       "      <th>chr</th>\n",
       "      <th>Enhancer_coordinates</th>\n",
       "      <th>dbsnp_id</th>\n",
       "      <th>varinat_start</th>\n",
       "      <th>variant_end</th>\n",
       "      <th>ref_neucleotide</th>\n",
       "      <th>alternative_neucleotide</th>\n",
       "      <th>reference_seq</th>\n",
       "      <th>alt_seq</th>\n",
       "      <th>Ref_probab</th>\n",
       "      <th>Alt_probab</th>\n",
       "      <th>ScoreChange</th>\n",
       "      <th>LogOddRatio</th>\n",
       "    </tr>\n",
       "  </thead>\n",
       "  <tbody>\n",
       "    <tr>\n",
       "      <th>6412</th>\n",
       "      <td>6412</td>\n",
       "      <td>chr2</td>\n",
       "      <td>220450184-220450383</td>\n",
       "      <td>rs1218056977</td>\n",
       "      <td>220450305</td>\n",
       "      <td>220450306</td>\n",
       "      <td>G</td>\n",
       "      <td>GTAATTTTTCTTCTACAGATAGTTTTCTTCTACAGATAG</td>\n",
       "      <td>ATCTCAATCTCCTGACCTCGTGATTCACCTGCTTTGGCCTCCCAAA...</td>\n",
       "      <td>ATCTCAATCTCCTGACCTCGTGATTCACCTGCTTTGGCCTCCCAAA...</td>\n",
       "      <td>0.699034</td>\n",
       "      <td>0.354988</td>\n",
       "      <td>-0.240500</td>\n",
       "      <td>2.077320</td>\n",
       "    </tr>\n",
       "    <tr>\n",
       "      <th>17455</th>\n",
       "      <td>17455</td>\n",
       "      <td>chr2</td>\n",
       "      <td>39926648-39926847</td>\n",
       "      <td>rs1667197696</td>\n",
       "      <td>39926824</td>\n",
       "      <td>39926847</td>\n",
       "      <td>ATCCCTAGGCTCAAGAAAGCAGA</td>\n",
       "      <td>A</td>\n",
       "      <td>TTTCTTGATGCTTCAGGAAGTCCCAGAAGCTCCACTGACCCTGTGA...</td>\n",
       "      <td>TTTCTTGATGCTTCAGGAAGTCCCAGAAGCTCCACTGACCCTGTGA...</td>\n",
       "      <td>0.656260</td>\n",
       "      <td>0.497273</td>\n",
       "      <td>-0.104337</td>\n",
       "      <td>0.948687</td>\n",
       "    </tr>\n",
       "    <tr>\n",
       "      <th>26104</th>\n",
       "      <td>26104</td>\n",
       "      <td>chr2</td>\n",
       "      <td>16133874-16134073</td>\n",
       "      <td>rs1665992858</td>\n",
       "      <td>16133983</td>\n",
       "      <td>16133986</td>\n",
       "      <td>GCG</td>\n",
       "      <td>NaN</td>\n",
       "      <td>AACCTGGGAGGCGGAGCTTGCAGTGAGTCGAGATCGCGCCACTGCA...</td>\n",
       "      <td>AACCTGGGAGGCGGAGCTTGCAGTGAGTCGAGATCGCGCCACTGCA...</td>\n",
       "      <td>0.525980</td>\n",
       "      <td>0.318206</td>\n",
       "      <td>-0.109285</td>\n",
       "      <td>1.249432</td>\n",
       "    </tr>\n",
       "    <tr>\n",
       "      <th>33557</th>\n",
       "      <td>33557</td>\n",
       "      <td>chr2</td>\n",
       "      <td>12019294-12019493</td>\n",
       "      <td>rs777818265</td>\n",
       "      <td>12019391</td>\n",
       "      <td>12019391</td>\n",
       "      <td>.</td>\n",
       "      <td>CTTGATATATTC</td>\n",
       "      <td>GCCCTTTAAATTCCACCTTACCCCACCCAACAAGATTTTAAGCTTT...</td>\n",
       "      <td>GCCCTTTAAATTCCACCTTACCCCACCCAACAAGATTTTAAGCTTT...</td>\n",
       "      <td>0.573466</td>\n",
       "      <td>0.396035</td>\n",
       "      <td>-0.101750</td>\n",
       "      <td>1.035883</td>\n",
       "    </tr>\n",
       "    <tr>\n",
       "      <th>36914</th>\n",
       "      <td>36914</td>\n",
       "      <td>chr2</td>\n",
       "      <td>39080969-39081168</td>\n",
       "      <td>rs911714771</td>\n",
       "      <td>39081064</td>\n",
       "      <td>39081080</td>\n",
       "      <td>CAGCTACTCAGGAAGC</td>\n",
       "      <td>C</td>\n",
       "      <td>GAGCCTAGGAGTTCAAGACCTGCCTGGGCAACAAAGTGAGACCTTG...</td>\n",
       "      <td>GAGCCTAGGAGTTCAAGACCTGCCTGGGCAACAAAGTGAGACCTTG...</td>\n",
       "      <td>0.758128</td>\n",
       "      <td>0.395945</td>\n",
       "      <td>-0.274581</td>\n",
       "      <td>2.257577</td>\n",
       "    </tr>\n",
       "    <tr>\n",
       "      <th>...</th>\n",
       "      <td>...</td>\n",
       "      <td>...</td>\n",
       "      <td>...</td>\n",
       "      <td>...</td>\n",
       "      <td>...</td>\n",
       "      <td>...</td>\n",
       "      <td>...</td>\n",
       "      <td>...</td>\n",
       "      <td>...</td>\n",
       "      <td>...</td>\n",
       "      <td>...</td>\n",
       "      <td>...</td>\n",
       "      <td>...</td>\n",
       "      <td>...</td>\n",
       "    </tr>\n",
       "    <tr>\n",
       "      <th>7697884</th>\n",
       "      <td>7697884</td>\n",
       "      <td>chr5</td>\n",
       "      <td>179300091-179300290</td>\n",
       "      <td>rs1756477261</td>\n",
       "      <td>179300146</td>\n",
       "      <td>179300147</td>\n",
       "      <td>G</td>\n",
       "      <td>A</td>\n",
       "      <td>CTCAAAAAAAAAAAAAAAAAAAGAAGAATCCTTGCCATTACACTGT...</td>\n",
       "      <td>CTCAAAAAAAAAAAAAAAAAAAGAAGAATCCTTGCCATTACACTGT...</td>\n",
       "      <td>0.623221</td>\n",
       "      <td>0.414875</td>\n",
       "      <td>-0.129846</td>\n",
       "      <td>1.222097</td>\n",
       "    </tr>\n",
       "    <tr>\n",
       "      <th>7697938</th>\n",
       "      <td>7697938</td>\n",
       "      <td>chr5</td>\n",
       "      <td>179300091-179300290</td>\n",
       "      <td>rs1268176179</td>\n",
       "      <td>179300288</td>\n",
       "      <td>179300289</td>\n",
       "      <td>C</td>\n",
       "      <td>T</td>\n",
       "      <td>CTCAAAAAAAAAAAAAAAAAAAGAAGAATCCTTGCCATTACACTGT...</td>\n",
       "      <td>CTCAAAAAAAAAAAAAAAAAAAGAAGAATCCTTGCCATTACACTGT...</td>\n",
       "      <td>0.623221</td>\n",
       "      <td>0.444788</td>\n",
       "      <td>-0.111204</td>\n",
       "      <td>1.045952</td>\n",
       "    </tr>\n",
       "    <tr>\n",
       "      <th>7710756</th>\n",
       "      <td>7710756</td>\n",
       "      <td>chr5</td>\n",
       "      <td>179909950-179910149</td>\n",
       "      <td>rs1761442698</td>\n",
       "      <td>179909980</td>\n",
       "      <td>179909987</td>\n",
       "      <td>TTCATTC</td>\n",
       "      <td>TTC</td>\n",
       "      <td>GTTCACCCACGTTGTAGCACGTATTGATGCTTCATTCCTCCTTATG...</td>\n",
       "      <td>GTTCACCCACGTTGTAGCACGTATTGATGCTTCCTCCTTATGGCTG...</td>\n",
       "      <td>0.686426</td>\n",
       "      <td>0.484514</td>\n",
       "      <td>-0.138598</td>\n",
       "      <td>1.219693</td>\n",
       "    </tr>\n",
       "    <tr>\n",
       "      <th>7716025</th>\n",
       "      <td>7716025</td>\n",
       "      <td>chr5</td>\n",
       "      <td>180500967-180501166</td>\n",
       "      <td>rs1756845043</td>\n",
       "      <td>180500994</td>\n",
       "      <td>180500995</td>\n",
       "      <td>G</td>\n",
       "      <td>A</td>\n",
       "      <td>AGGAACAGCATATTGGGAACAACATGGGCTGTGGAGCATAAGACAC...</td>\n",
       "      <td>AGGAACAGCATATTGGGAACAACATGGACTGTGGAGCATAAGACAC...</td>\n",
       "      <td>0.537740</td>\n",
       "      <td>0.339463</td>\n",
       "      <td>-0.106622</td>\n",
       "      <td>1.178590</td>\n",
       "    </tr>\n",
       "    <tr>\n",
       "      <th>7735221</th>\n",
       "      <td>7735221</td>\n",
       "      <td>chr5</td>\n",
       "      <td>43014898-43015097</td>\n",
       "      <td>rs1741566557</td>\n",
       "      <td>43015032</td>\n",
       "      <td>43015070</td>\n",
       "      <td>GGTGCTTGTTGGTTCAAATTAGCATCATGACGTTCACG</td>\n",
       "      <td>G</td>\n",
       "      <td>TCAGCATCCCCCCTTCCCAGGAGAAATTGCATCTTCCCTTTCACTT...</td>\n",
       "      <td>TCAGCATCCCCCCTTCCCAGGAGAAATTGCATCTTCCCTTTCACTT...</td>\n",
       "      <td>0.656091</td>\n",
       "      <td>0.492970</td>\n",
       "      <td>-0.107022</td>\n",
       "      <td>0.972438</td>\n",
       "    </tr>\n",
       "  </tbody>\n",
       "</table>\n",
       "<p>1264 rows × 14 columns</p>\n",
       "</div>"
      ],
      "text/plain": [
       "           index   chr Enhancer_coordinates      dbsnp_id  varinat_start  \\\n",
       "6412        6412  chr2  220450184-220450383  rs1218056977      220450305   \n",
       "17455      17455  chr2    39926648-39926847  rs1667197696       39926824   \n",
       "26104      26104  chr2    16133874-16134073  rs1665992858       16133983   \n",
       "33557      33557  chr2    12019294-12019493   rs777818265       12019391   \n",
       "36914      36914  chr2    39080969-39081168   rs911714771       39081064   \n",
       "...          ...   ...                  ...           ...            ...   \n",
       "7697884  7697884  chr5  179300091-179300290  rs1756477261      179300146   \n",
       "7697938  7697938  chr5  179300091-179300290  rs1268176179      179300288   \n",
       "7710756  7710756  chr5  179909950-179910149  rs1761442698      179909980   \n",
       "7716025  7716025  chr5  180500967-180501166  rs1756845043      180500994   \n",
       "7735221  7735221  chr5    43014898-43015097  rs1741566557       43015032   \n",
       "\n",
       "         variant_end                         ref_neucleotide  \\\n",
       "6412       220450306                                       G   \n",
       "17455       39926847                 ATCCCTAGGCTCAAGAAAGCAGA   \n",
       "26104       16133986                                     GCG   \n",
       "33557       12019391                                       .   \n",
       "36914       39081080                        CAGCTACTCAGGAAGC   \n",
       "...              ...                                     ...   \n",
       "7697884    179300147                                       G   \n",
       "7697938    179300289                                       C   \n",
       "7710756    179909987                                 TTCATTC   \n",
       "7716025    180500995                                       G   \n",
       "7735221     43015070  GGTGCTTGTTGGTTCAAATTAGCATCATGACGTTCACG   \n",
       "\n",
       "                         alternative_neucleotide  \\\n",
       "6412     GTAATTTTTCTTCTACAGATAGTTTTCTTCTACAGATAG   \n",
       "17455                                          A   \n",
       "26104                                        NaN   \n",
       "33557                               CTTGATATATTC   \n",
       "36914                                          C   \n",
       "...                                          ...   \n",
       "7697884                                        A   \n",
       "7697938                                        T   \n",
       "7710756                                      TTC   \n",
       "7716025                                        A   \n",
       "7735221                                        G   \n",
       "\n",
       "                                             reference_seq  \\\n",
       "6412     ATCTCAATCTCCTGACCTCGTGATTCACCTGCTTTGGCCTCCCAAA...   \n",
       "17455    TTTCTTGATGCTTCAGGAAGTCCCAGAAGCTCCACTGACCCTGTGA...   \n",
       "26104    AACCTGGGAGGCGGAGCTTGCAGTGAGTCGAGATCGCGCCACTGCA...   \n",
       "33557    GCCCTTTAAATTCCACCTTACCCCACCCAACAAGATTTTAAGCTTT...   \n",
       "36914    GAGCCTAGGAGTTCAAGACCTGCCTGGGCAACAAAGTGAGACCTTG...   \n",
       "...                                                    ...   \n",
       "7697884  CTCAAAAAAAAAAAAAAAAAAAGAAGAATCCTTGCCATTACACTGT...   \n",
       "7697938  CTCAAAAAAAAAAAAAAAAAAAGAAGAATCCTTGCCATTACACTGT...   \n",
       "7710756  GTTCACCCACGTTGTAGCACGTATTGATGCTTCATTCCTCCTTATG...   \n",
       "7716025  AGGAACAGCATATTGGGAACAACATGGGCTGTGGAGCATAAGACAC...   \n",
       "7735221  TCAGCATCCCCCCTTCCCAGGAGAAATTGCATCTTCCCTTTCACTT...   \n",
       "\n",
       "                                                   alt_seq  Ref_probab  \\\n",
       "6412     ATCTCAATCTCCTGACCTCGTGATTCACCTGCTTTGGCCTCCCAAA...    0.699034   \n",
       "17455    TTTCTTGATGCTTCAGGAAGTCCCAGAAGCTCCACTGACCCTGTGA...    0.656260   \n",
       "26104    AACCTGGGAGGCGGAGCTTGCAGTGAGTCGAGATCGCGCCACTGCA...    0.525980   \n",
       "33557    GCCCTTTAAATTCCACCTTACCCCACCCAACAAGATTTTAAGCTTT...    0.573466   \n",
       "36914    GAGCCTAGGAGTTCAAGACCTGCCTGGGCAACAAAGTGAGACCTTG...    0.758128   \n",
       "...                                                    ...         ...   \n",
       "7697884  CTCAAAAAAAAAAAAAAAAAAAGAAGAATCCTTGCCATTACACTGT...    0.623221   \n",
       "7697938  CTCAAAAAAAAAAAAAAAAAAAGAAGAATCCTTGCCATTACACTGT...    0.623221   \n",
       "7710756  GTTCACCCACGTTGTAGCACGTATTGATGCTTCCTCCTTATGGCTG...    0.686426   \n",
       "7716025  AGGAACAGCATATTGGGAACAACATGGACTGTGGAGCATAAGACAC...    0.537740   \n",
       "7735221  TCAGCATCCCCCCTTCCCAGGAGAAATTGCATCTTCCCTTTCACTT...    0.656091   \n",
       "\n",
       "         Alt_probab  ScoreChange  LogOddRatio  \n",
       "6412       0.354988    -0.240500     2.077320  \n",
       "17455      0.497273    -0.104337     0.948687  \n",
       "26104      0.318206    -0.109285     1.249432  \n",
       "33557      0.396035    -0.101750     1.035883  \n",
       "36914      0.395945    -0.274581     2.257577  \n",
       "...             ...          ...          ...  \n",
       "7697884    0.414875    -0.129846     1.222097  \n",
       "7697938    0.444788    -0.111204     1.045952  \n",
       "7710756    0.484514    -0.138598     1.219693  \n",
       "7716025    0.339463    -0.106622     1.178590  \n",
       "7735221    0.492970    -0.107022     0.972438  \n",
       "\n",
       "[1264 rows x 14 columns]"
      ]
     },
     "execution_count": 46,
     "metadata": {},
     "output_type": "execute_result"
    }
   ],
   "source": [
    "df_interest = df_interest[(df_interest['ScoreChange']>0.10)|(df_interest['ScoreChange']<-0.10)]\n",
    "df_interest"
   ]
  },
  {
   "cell_type": "code",
   "execution_count": null,
   "id": "f39df713-cd6c-449d-9ab5-eaf737339e63",
   "metadata": {},
   "outputs": [],
   "source": []
  },
  {
   "cell_type": "code",
   "execution_count": 47,
   "id": "093f7729-4425-4f0f-8733-0f0d7a090f36",
   "metadata": {},
   "outputs": [],
   "source": [
    "#df_interest['Z_Score'] = stats.zscore(df['LogOddRatio'])\n",
    "# df_interest['variant_length'] = df_interest['variant_end']-df_interest['varinat_start']\n",
    "# df_interest"
   ]
  },
  {
   "cell_type": "code",
   "execution_count": 48,
   "id": "bceb589c-c238-4ff7-ac3f-2d4924d0013e",
   "metadata": {},
   "outputs": [],
   "source": [
    "# df_interest = df_interest[df_interest['variant_length']==1]\n",
    "# df_interest"
   ]
  },
  {
   "cell_type": "code",
   "execution_count": 49,
   "id": "c23b28a0-db15-486d-9bfc-2d270bb0a01b",
   "metadata": {},
   "outputs": [
    {
     "name": "stdout",
     "output_type": "stream",
     "text": [
      "1.6550582775335296 0.7803370565857327\n"
     ]
    }
   ],
   "source": [
    "mean = df_interest['LogOddRatio'].mean()\n",
    "std = df_interest['LogOddRatio'].std()\n",
    "print(mean, std)"
   ]
  },
  {
   "cell_type": "code",
   "execution_count": 50,
   "id": "e3d80ca2-c6de-4fbf-837b-d16d8a6c97fa",
   "metadata": {},
   "outputs": [
    {
     "data": {
      "text/plain": [
       "8.402846030085318"
      ]
     },
     "execution_count": 50,
     "metadata": {},
     "output_type": "execute_result"
    }
   ],
   "source": [
    "max(df_interest['LogOddRatio'])"
   ]
  },
  {
   "cell_type": "code",
   "execution_count": 51,
   "id": "342a3012-00ea-4dcc-b436-d1a0ca9cc928",
   "metadata": {},
   "outputs": [
    {
     "data": {
      "text/plain": [
       "0.9207733536819215"
      ]
     },
     "execution_count": 51,
     "metadata": {},
     "output_type": "execute_result"
    }
   ],
   "source": [
    "min(df_interest['LogOddRatio'])"
   ]
  },
  {
   "cell_type": "code",
   "execution_count": 52,
   "id": "ce700e5c-708b-4214-9cab-695a2f53a80b",
   "metadata": {},
   "outputs": [
    {
     "name": "stdout",
     "output_type": "stream",
     "text": [
      "0.8747212209477969 2.4353953341192622\n"
     ]
    },
    {
     "data": {
      "image/png": "[encoded data removed]",
      "text/plain": [
       "<Figure size 640x480 with 1 Axes>"
      ]
     },
     "metadata": {},
     "output_type": "display_data"
    }
   ],
   "source": [
    "#print(z_score, p_value)\n",
    "# Plot the distribution of 'LogOddRatio'\n",
    "\n",
    "sns.kdeplot(df_interest['LogOddRatio'], fill=True, linewidth=1)\n",
    "\n",
    "# # # Get the extreme values for a two tailed test at alpha = 0.05\n",
    "# z_critical = norm.ppf(1 - 0.05/2) # two-tailed test at alpha = 0.05\n",
    "\n",
    "\n",
    "# print(z_critical)\n",
    "x1, x2 = mean + std, mean - std\n",
    "# x1= 3.3219280948873626\n",
    "# x2 =-3.3219280948873626\n",
    "print(x2, x1)\n",
    "\n",
    "# Shade the area for the two tailed test\n",
    "plt.axvspan(min(df_interest['LogOddRatio']), x2, alpha=0.3, color='red')\n",
    "plt.axvspan(x1, max(df_interest['LogOddRatio']), alpha=0.3, color='red')\n",
    "\n",
    "# Add the observed z-score\n",
    "# plt.text(-17, 0.5, f'Left-tail value = {x2:.2f}', color='blue', ha='left', va='center')\n",
    "# plt.text(-3, 0.54, f'Right-tail value = {x1:.2f}', color='blue', ha='right', va='center')\n",
    "\n",
    "plt.title(f'Distribution of Relative Log Fold changes of Odds for Enhancer Model \\n Left-tail value = {x2:.2f};  Right-tail value = {x1:.2f}')\n",
    "plt.savefig(output_path+ '/Enhancer_LogOddRatio_Distribution.png')\n",
    "plt.show()"
   ]
  },
  {
   "cell_type": "code",
   "execution_count": 53,
   "id": "84f0d768-0f1c-4849-b351-7c833586c8d6",
   "metadata": {},
   "outputs": [],
   "source": [
    "df_selected = df_interest[(df_interest['LogOddRatio']> x1)|(df_interest['LogOddRatio']<  x2)]"
   ]
  },
  {
   "cell_type": "code",
   "execution_count": 54,
   "id": "04057128-4ea0-4ec6-a6ad-c4ec91076780",
   "metadata": {},
   "outputs": [
    {
     "data": {
      "text/html": [
       "<div>\n",
       "<style scoped>\n",
       "    .dataframe tbody tr th:only-of-type {\n",
       "        vertical-align: middle;\n",
       "    }\n",
       "\n",
       "    .dataframe tbody tr th {\n",
       "        vertical-align: top;\n",
       "    }\n",
       "\n",
       "    .dataframe thead th {\n",
       "        text-align: right;\n",
       "    }\n",
       "</style>\n",
       "<table border=\"1\" class=\"dataframe\">\n",
       "  <thead>\n",
       "    <tr style=\"text-align: right;\">\n",
       "      <th></th>\n",
       "      <th>index</th>\n",
       "      <th>chr</th>\n",
       "      <th>Enhancer_coordinates</th>\n",
       "      <th>dbsnp_id</th>\n",
       "      <th>varinat_start</th>\n",
       "      <th>variant_end</th>\n",
       "      <th>ref_neucleotide</th>\n",
       "      <th>alternative_neucleotide</th>\n",
       "      <th>reference_seq</th>\n",
       "      <th>alt_seq</th>\n",
       "      <th>Ref_probab</th>\n",
       "      <th>Alt_probab</th>\n",
       "      <th>ScoreChange</th>\n",
       "      <th>LogOddRatio</th>\n",
       "    </tr>\n",
       "  </thead>\n",
       "  <tbody>\n",
       "    <tr>\n",
       "      <th>114637</th>\n",
       "      <td>114637</td>\n",
       "      <td>chr2</td>\n",
       "      <td>199386624-199386823</td>\n",
       "      <td>rs1228159397</td>\n",
       "      <td>199386690</td>\n",
       "      <td>199386735</td>\n",
       "      <td>CGCAAGCGCGCGCGCGCGCGCGCGCGCACACACACACACACACAC</td>\n",
       "      <td>C</td>\n",
       "      <td>GTAACCCCAATTTGAAAAATGAGAAAAACTAGTGATGATTAAATTA...</td>\n",
       "      <td>GTAACCCCAATTTGAAAAATGAGAAAAACTAGTGATGATTAAATTA...</td>\n",
       "      <td>0.685392</td>\n",
       "      <td>0.283927</td>\n",
       "      <td>-0.275161</td>\n",
       "      <td>2.457963</td>\n",
       "    </tr>\n",
       "    <tr>\n",
       "      <th>225239</th>\n",
       "      <td>225239</td>\n",
       "      <td>chr2</td>\n",
       "      <td>46155743-46155942</td>\n",
       "      <td>rs141863156</td>\n",
       "      <td>46155812</td>\n",
       "      <td>46155819</td>\n",
       "      <td>ATTGGAG</td>\n",
       "      <td>NaN</td>\n",
       "      <td>CAAGTCCGTTCCCCCTGCTAACCTTTTCCATTTGAGTTACCTTTCT...</td>\n",
       "      <td>CAAGTCCGTTCCCCCTGCTAACCTTTTCCATTTGAGTTACCTTTCT...</td>\n",
       "      <td>0.944804</td>\n",
       "      <td>0.345473</td>\n",
       "      <td>-0.566249</td>\n",
       "      <td>5.019245</td>\n",
       "    </tr>\n",
       "    <tr>\n",
       "      <th>363580</th>\n",
       "      <td>363580</td>\n",
       "      <td>chr2</td>\n",
       "      <td>105316335-105316534</td>\n",
       "      <td>rs1407530549</td>\n",
       "      <td>105316438</td>\n",
       "      <td>105316467</td>\n",
       "      <td>GTGTGTGTGTGTGTGTGTGTGTGTGCGCG</td>\n",
       "      <td>G</td>\n",
       "      <td>TTTACAAAAAAAAAAAAAATTCCCCTACCTGATCCAGAGGAAAAAA...</td>\n",
       "      <td>TTTACAAAAAAAAAAAAAATTCCCCTACCTGATCCAGAGGAAAAAA...</td>\n",
       "      <td>0.864718</td>\n",
       "      <td>0.496976</td>\n",
       "      <td>-0.317993</td>\n",
       "      <td>2.693713</td>\n",
       "    </tr>\n",
       "    <tr>\n",
       "      <th>363581</th>\n",
       "      <td>363581</td>\n",
       "      <td>chr2</td>\n",
       "      <td>105316335-105316534</td>\n",
       "      <td>rs1346853910</td>\n",
       "      <td>105316440</td>\n",
       "      <td>105316471</td>\n",
       "      <td>GTGTGTGTGTGTGTGTGTGTGTGCGCGCGCG</td>\n",
       "      <td>G</td>\n",
       "      <td>TTTACAAAAAAAAAAAAAATTCCCCTACCTGATCCAGAGGAAAAAA...</td>\n",
       "      <td>TTTACAAAAAAAAAAAAAATTCCCCTACCTGATCCAGAGGAAAAAA...</td>\n",
       "      <td>0.864718</td>\n",
       "      <td>0.492185</td>\n",
       "      <td>-0.322137</td>\n",
       "      <td>2.721367</td>\n",
       "    </tr>\n",
       "    <tr>\n",
       "      <th>363582</th>\n",
       "      <td>363582</td>\n",
       "      <td>chr2</td>\n",
       "      <td>105316335-105316534</td>\n",
       "      <td>rs1303171089</td>\n",
       "      <td>105316440</td>\n",
       "      <td>105316473</td>\n",
       "      <td>GTGTGTGTGTGTGTGTGTGTGTGCGCGCGCGCG</td>\n",
       "      <td>G</td>\n",
       "      <td>TTTACAAAAAAAAAAAAAATTCCCCTACCTGATCCAGAGGAAAAAA...</td>\n",
       "      <td>TTTACAAAAAAAAAAAAAATTCCCCTACCTGATCCAGAGGAAAAAA...</td>\n",
       "      <td>0.864718</td>\n",
       "      <td>0.482145</td>\n",
       "      <td>-0.330818</td>\n",
       "      <td>2.779345</td>\n",
       "    </tr>\n",
       "    <tr>\n",
       "      <th>...</th>\n",
       "      <td>...</td>\n",
       "      <td>...</td>\n",
       "      <td>...</td>\n",
       "      <td>...</td>\n",
       "      <td>...</td>\n",
       "      <td>...</td>\n",
       "      <td>...</td>\n",
       "      <td>...</td>\n",
       "      <td>...</td>\n",
       "      <td>...</td>\n",
       "      <td>...</td>\n",
       "      <td>...</td>\n",
       "      <td>...</td>\n",
       "      <td>...</td>\n",
       "    </tr>\n",
       "    <tr>\n",
       "      <th>7439695</th>\n",
       "      <td>7439695</td>\n",
       "      <td>chr5</td>\n",
       "      <td>167991773-167991972</td>\n",
       "      <td>rs1783692307</td>\n",
       "      <td>167991843</td>\n",
       "      <td>167991933</td>\n",
       "      <td>TTTATCGAAAGACAGAGCTCTGGGTTTCAGTCCTCAGACAGTTGCT...</td>\n",
       "      <td>TT</td>\n",
       "      <td>AGGATTTCACGGGAGGTGAAAACGGAACAAGGGTCAGAGACAGTGT...</td>\n",
       "      <td>AGGATTTCACGGGAGGTGAAAACGGAACAAGGGTCAGAGACAGTGT...</td>\n",
       "      <td>0.556265</td>\n",
       "      <td>0.185175</td>\n",
       "      <td>-0.206424</td>\n",
       "      <td>2.463672</td>\n",
       "    </tr>\n",
       "    <tr>\n",
       "      <th>7519103</th>\n",
       "      <td>7519103</td>\n",
       "      <td>chr5</td>\n",
       "      <td>33451544-33451743</td>\n",
       "      <td>rs1741737899</td>\n",
       "      <td>33451594</td>\n",
       "      <td>33451625</td>\n",
       "      <td>GATCTCCTGACCTCGTGATCCACCCGCCTCG</td>\n",
       "      <td>G</td>\n",
       "      <td>TTGTATTTTTAGTAGAGACGGGGTTTCACTGTGTTAGCCAGGATGG...</td>\n",
       "      <td>TTGTATTTTTAGTAGAGACGGGGTTTCACTGTGTTAGCCAGGATGG...</td>\n",
       "      <td>0.887349</td>\n",
       "      <td>0.454877</td>\n",
       "      <td>-0.383754</td>\n",
       "      <td>3.238754</td>\n",
       "    </tr>\n",
       "    <tr>\n",
       "      <th>7523449</th>\n",
       "      <td>7523449</td>\n",
       "      <td>chr5</td>\n",
       "      <td>31960073-31960272</td>\n",
       "      <td>rs368844591</td>\n",
       "      <td>31960169</td>\n",
       "      <td>31960204</td>\n",
       "      <td>CTTTTCTTTCCTTCCTTCCTTTTCTTTCCTTCCTT</td>\n",
       "      <td>CTTTTCTTTCCTTCCTTCCTTTTCTTTCCTTCCTTCCTTTTCTTTC...</td>\n",
       "      <td>CAAAGACCCTGTTTCCAAACAAGGTCACATTCTGAGGTTTCAGGTG...</td>\n",
       "      <td>CAAAGACCCTGTTTCCAAACAAGGTCACATTCTGAGGTTTCAGGTG...</td>\n",
       "      <td>0.824073</td>\n",
       "      <td>0.349751</td>\n",
       "      <td>-0.390877</td>\n",
       "      <td>3.122464</td>\n",
       "    </tr>\n",
       "    <tr>\n",
       "      <th>7523476</th>\n",
       "      <td>7523476</td>\n",
       "      <td>chr5</td>\n",
       "      <td>31960073-31960272</td>\n",
       "      <td>rs1022872669</td>\n",
       "      <td>31960201</td>\n",
       "      <td>31960230</td>\n",
       "      <td>CTTTCCTTCCTTCTTTCCTTCCTTCTTTC</td>\n",
       "      <td>CTTTCCTTCCTTCTTTCCTTCCTTCTTTCCTTCCTTCTTTC</td>\n",
       "      <td>CAAAGACCCTGTTTCCAAACAAGGTCACATTCTGAGGTTTCAGGTG...</td>\n",
       "      <td>CAAAGACCCTGTTTCCAAACAAGGTCACATTCTGAGGTTTCAGGTG...</td>\n",
       "      <td>0.824073</td>\n",
       "      <td>0.409181</td>\n",
       "      <td>-0.341902</td>\n",
       "      <td>2.757778</td>\n",
       "    </tr>\n",
       "    <tr>\n",
       "      <th>7624185</th>\n",
       "      <td>7624185</td>\n",
       "      <td>chr5</td>\n",
       "      <td>58137712-58137911</td>\n",
       "      <td>rs1750257854</td>\n",
       "      <td>58137799</td>\n",
       "      <td>58137844</td>\n",
       "      <td>CTCAGAGCCCTCGAAAGTAACCAATCCCACCAGCAACTTGATTTT</td>\n",
       "      <td>NaN</td>\n",
       "      <td>GACAGACACGCAGAGGGACAATGAAGAAACACAAAGAGAAGATGGC...</td>\n",
       "      <td>GACAGACACGCAGAGGGACAATGAAGAAACACAAAGAGAAGATGGC...</td>\n",
       "      <td>0.778278</td>\n",
       "      <td>0.312012</td>\n",
       "      <td>-0.362885</td>\n",
       "      <td>2.952317</td>\n",
       "    </tr>\n",
       "  </tbody>\n",
       "</table>\n",
       "<p>145 rows × 14 columns</p>\n",
       "</div>"
      ],
      "text/plain": [
       "           index   chr Enhancer_coordinates      dbsnp_id  varinat_start  \\\n",
       "114637    114637  chr2  199386624-199386823  rs1228159397      199386690   \n",
       "225239    225239  chr2    46155743-46155942   rs141863156       46155812   \n",
       "363580    363580  chr2  105316335-105316534  rs1407530549      105316438   \n",
       "363581    363581  chr2  105316335-105316534  rs1346853910      105316440   \n",
       "363582    363582  chr2  105316335-105316534  rs1303171089      105316440   \n",
       "...          ...   ...                  ...           ...            ...   \n",
       "7439695  7439695  chr5  167991773-167991972  rs1783692307      167991843   \n",
       "7519103  7519103  chr5    33451544-33451743  rs1741737899       33451594   \n",
       "7523449  7523449  chr5    31960073-31960272   rs368844591       31960169   \n",
       "7523476  7523476  chr5    31960073-31960272  rs1022872669       31960201   \n",
       "7624185  7624185  chr5    58137712-58137911  rs1750257854       58137799   \n",
       "\n",
       "         variant_end                                    ref_neucleotide  \\\n",
       "114637     199386735      CGCAAGCGCGCGCGCGCGCGCGCGCGCACACACACACACACACAC   \n",
       "225239      46155819                                            ATTGGAG   \n",
       "363580     105316467                      GTGTGTGTGTGTGTGTGTGTGTGTGCGCG   \n",
       "363581     105316471                    GTGTGTGTGTGTGTGTGTGTGTGCGCGCGCG   \n",
       "363582     105316473                  GTGTGTGTGTGTGTGTGTGTGTGCGCGCGCGCG   \n",
       "...              ...                                                ...   \n",
       "7439695    167991933  TTTATCGAAAGACAGAGCTCTGGGTTTCAGTCCTCAGACAGTTGCT...   \n",
       "7519103     33451625                    GATCTCCTGACCTCGTGATCCACCCGCCTCG   \n",
       "7523449     31960204                CTTTTCTTTCCTTCCTTCCTTTTCTTTCCTTCCTT   \n",
       "7523476     31960230                      CTTTCCTTCCTTCTTTCCTTCCTTCTTTC   \n",
       "7624185     58137844      CTCAGAGCCCTCGAAAGTAACCAATCCCACCAGCAACTTGATTTT   \n",
       "\n",
       "                                   alternative_neucleotide  \\\n",
       "114637                                                   C   \n",
       "225239                                                 NaN   \n",
       "363580                                                   G   \n",
       "363581                                                   G   \n",
       "363582                                                   G   \n",
       "...                                                    ...   \n",
       "7439695                                                 TT   \n",
       "7519103                                                  G   \n",
       "7523449  CTTTTCTTTCCTTCCTTCCTTTTCTTTCCTTCCTTCCTTTTCTTTC...   \n",
       "7523476          CTTTCCTTCCTTCTTTCCTTCCTTCTTTCCTTCCTTCTTTC   \n",
       "7624185                                                NaN   \n",
       "\n",
       "                                             reference_seq  \\\n",
       "114637   GTAACCCCAATTTGAAAAATGAGAAAAACTAGTGATGATTAAATTA...   \n",
       "225239   CAAGTCCGTTCCCCCTGCTAACCTTTTCCATTTGAGTTACCTTTCT...   \n",
       "363580   TTTACAAAAAAAAAAAAAATTCCCCTACCTGATCCAGAGGAAAAAA...   \n",
       "363581   TTTACAAAAAAAAAAAAAATTCCCCTACCTGATCCAGAGGAAAAAA...   \n",
       "363582   TTTACAAAAAAAAAAAAAATTCCCCTACCTGATCCAGAGGAAAAAA...   \n",
       "...                                                    ...   \n",
       "7439695  AGGATTTCACGGGAGGTGAAAACGGAACAAGGGTCAGAGACAGTGT...   \n",
       "7519103  TTGTATTTTTAGTAGAGACGGGGTTTCACTGTGTTAGCCAGGATGG...   \n",
       "7523449  CAAAGACCCTGTTTCCAAACAAGGTCACATTCTGAGGTTTCAGGTG...   \n",
       "7523476  CAAAGACCCTGTTTCCAAACAAGGTCACATTCTGAGGTTTCAGGTG...   \n",
       "7624185  GACAGACACGCAGAGGGACAATGAAGAAACACAAAGAGAAGATGGC...   \n",
       "\n",
       "                                                   alt_seq  Ref_probab  \\\n",
       "114637   GTAACCCCAATTTGAAAAATGAGAAAAACTAGTGATGATTAAATTA...    0.685392   \n",
       "225239   CAAGTCCGTTCCCCCTGCTAACCTTTTCCATTTGAGTTACCTTTCT...    0.944804   \n",
       "363580   TTTACAAAAAAAAAAAAAATTCCCCTACCTGATCCAGAGGAAAAAA...    0.864718   \n",
       "363581   TTTACAAAAAAAAAAAAAATTCCCCTACCTGATCCAGAGGAAAAAA...    0.864718   \n",
       "363582   TTTACAAAAAAAAAAAAAATTCCCCTACCTGATCCAGAGGAAAAAA...    0.864718   \n",
       "...                                                    ...         ...   \n",
       "7439695  AGGATTTCACGGGAGGTGAAAACGGAACAAGGGTCAGAGACAGTGT...    0.556265   \n",
       "7519103  TTGTATTTTTAGTAGAGACGGGGTTTCACTGTGTTAGCCAGGATGG...    0.887349   \n",
       "7523449  CAAAGACCCTGTTTCCAAACAAGGTCACATTCTGAGGTTTCAGGTG...    0.824073   \n",
       "7523476  CAAAGACCCTGTTTCCAAACAAGGTCACATTCTGAGGTTTCAGGTG...    0.824073   \n",
       "7624185  GACAGACACGCAGAGGGACAATGAAGAAACACAAAGAGAAGATGGC...    0.778278   \n",
       "\n",
       "         Alt_probab  ScoreChange  LogOddRatio  \n",
       "114637     0.283927    -0.275161     2.457963  \n",
       "225239     0.345473    -0.566249     5.019245  \n",
       "363580     0.496976    -0.317993     2.693713  \n",
       "363581     0.492185    -0.322137     2.721367  \n",
       "363582     0.482145    -0.330818     2.779345  \n",
       "...             ...          ...          ...  \n",
       "7439695    0.185175    -0.206424     2.463672  \n",
       "7519103    0.454877    -0.383754     3.238754  \n",
       "7523449    0.349751    -0.390877     3.122464  \n",
       "7523476    0.409181    -0.341902     2.757778  \n",
       "7624185    0.312012    -0.362885     2.952317  \n",
       "\n",
       "[145 rows x 14 columns]"
      ]
     },
     "execution_count": 54,
     "metadata": {},
     "output_type": "execute_result"
    }
   ],
   "source": [
    "df_selected"
   ]
  },
  {
   "cell_type": "code",
   "execution_count": 55,
   "id": "f5638ad2-5638-4276-aa2e-8a104bdf1792",
   "metadata": {},
   "outputs": [
    {
     "data": {
      "text/plain": [
       "142"
      ]
     },
     "execution_count": 55,
     "metadata": {},
     "output_type": "execute_result"
    }
   ],
   "source": [
    "len(df_selected['dbsnp_id'].unique())"
   ]
  },
  {
   "cell_type": "code",
   "execution_count": 56,
   "id": "e347cd8c-47b1-4ab0-a219-fadfcf5c4388",
   "metadata": {},
   "outputs": [
    {
     "data": {
      "text/plain": [
       "97"
      ]
     },
     "execution_count": 56,
     "metadata": {},
     "output_type": "execute_result"
    }
   ],
   "source": [
    "len(df_selected['Enhancer_coordinates'].unique())"
   ]
  },
  {
   "cell_type": "code",
   "execution_count": 57,
   "id": "cc4e33a4-68c7-445f-b62e-bd43dfaae5e8",
   "metadata": {},
   "outputs": [],
   "source": [
    "df_filtered = df_selected[(df_selected['ref_neucleotide'].str.len() < 20) & \n",
    "                          (df_selected['alternative_neucleotide'].str.len() < 20)]"
   ]
  },
  {
   "cell_type": "code",
   "execution_count": 58,
   "id": "aa9a2fec-0652-4222-b6b3-09b209494b0d",
   "metadata": {},
   "outputs": [
    {
     "data": {
      "text/html": [
       "<div>\n",
       "<style scoped>\n",
       "    .dataframe tbody tr th:only-of-type {\n",
       "        vertical-align: middle;\n",
       "    }\n",
       "\n",
       "    .dataframe tbody tr th {\n",
       "        vertical-align: top;\n",
       "    }\n",
       "\n",
       "    .dataframe thead th {\n",
       "        text-align: right;\n",
       "    }\n",
       "</style>\n",
       "<table border=\"1\" class=\"dataframe\">\n",
       "  <thead>\n",
       "    <tr style=\"text-align: right;\">\n",
       "      <th></th>\n",
       "      <th>index</th>\n",
       "      <th>chr</th>\n",
       "      <th>Enhancer_coordinates</th>\n",
       "      <th>dbsnp_id</th>\n",
       "      <th>varinat_start</th>\n",
       "      <th>variant_end</th>\n",
       "      <th>ref_neucleotide</th>\n",
       "      <th>alternative_neucleotide</th>\n",
       "      <th>reference_seq</th>\n",
       "      <th>alt_seq</th>\n",
       "      <th>Ref_probab</th>\n",
       "      <th>Alt_probab</th>\n",
       "      <th>ScoreChange</th>\n",
       "      <th>LogOddRatio</th>\n",
       "    </tr>\n",
       "  </thead>\n",
       "  <tbody>\n",
       "    <tr>\n",
       "      <th>913816</th>\n",
       "      <td>913816</td>\n",
       "      <td>chr19</td>\n",
       "      <td>50287269-50287468</td>\n",
       "      <td>rs2035928674</td>\n",
       "      <td>50287419</td>\n",
       "      <td>50287419</td>\n",
       "      <td>.</td>\n",
       "      <td>TTAATTATACTTTAA</td>\n",
       "      <td>CATTCACAGAACGTGAGGAGAATCTTCCATCCAGCACATGTGTTCA...</td>\n",
       "      <td>CATTCACAGAACGTGAGGAGAATCTTCCATCCAGCACATGTGTTCA...</td>\n",
       "      <td>0.849482</td>\n",
       "      <td>0.292088</td>\n",
       "      <td>-0.473497</td>\n",
       "      <td>3.773820</td>\n",
       "    </tr>\n",
       "    <tr>\n",
       "      <th>1056945</th>\n",
       "      <td>1056945</td>\n",
       "      <td>chr21</td>\n",
       "      <td>33493659-33493858</td>\n",
       "      <td>rs11298783</td>\n",
       "      <td>33493834</td>\n",
       "      <td>33493837</td>\n",
       "      <td>GGG</td>\n",
       "      <td>GG</td>\n",
       "      <td>CTTCCAGGCCCAGTAAGGTGCCTTATATCTCTCAATCTCATCCTTC...</td>\n",
       "      <td>CTTCCAGGCCCAGTAAGGTGCCTTATATCTCTCAATCTCATCCTTC...</td>\n",
       "      <td>0.831185</td>\n",
       "      <td>0.413594</td>\n",
       "      <td>-0.347096</td>\n",
       "      <td>2.803413</td>\n",
       "    </tr>\n",
       "    <tr>\n",
       "      <th>1365290</th>\n",
       "      <td>1365290</td>\n",
       "      <td>chr7</td>\n",
       "      <td>21708705-21708904</td>\n",
       "      <td>rs1318963939</td>\n",
       "      <td>21708871</td>\n",
       "      <td>21708872</td>\n",
       "      <td>A</td>\n",
       "      <td>T</td>\n",
       "      <td>TTCCTTGAACTTGCTCCCATCACGGGGCCTCAGCACCTCATGTTCC...</td>\n",
       "      <td>TTCCTTGAACTTGCTCCCATCACGGGGCCTCAGCACCTCATGTTCC...</td>\n",
       "      <td>0.803674</td>\n",
       "      <td>0.411779</td>\n",
       "      <td>-0.314957</td>\n",
       "      <td>2.547853</td>\n",
       "    </tr>\n",
       "    <tr>\n",
       "      <th>1431873</th>\n",
       "      <td>1431873</td>\n",
       "      <td>chr7</td>\n",
       "      <td>24061505-24061704</td>\n",
       "      <td>rs1782854324</td>\n",
       "      <td>24061653</td>\n",
       "      <td>24061664</td>\n",
       "      <td>AGCCCAAAAGC</td>\n",
       "      <td>AGC</td>\n",
       "      <td>ACCATGCCCGGCTAACTTTTTGTATTTTTAGTAGAGATGGGGTTTT...</td>\n",
       "      <td>ACCATGCCCGGCTAACTTTTTGTATTTTTAGTAGAGATGGGGTTTT...</td>\n",
       "      <td>0.914311</td>\n",
       "      <td>0.276027</td>\n",
       "      <td>-0.583589</td>\n",
       "      <td>4.806619</td>\n",
       "    </tr>\n",
       "    <tr>\n",
       "      <th>1658544</th>\n",
       "      <td>1658544</td>\n",
       "      <td>chr12</td>\n",
       "      <td>53399976-53400175</td>\n",
       "      <td>rs1938579082</td>\n",
       "      <td>53400164</td>\n",
       "      <td>53400165</td>\n",
       "      <td>G</td>\n",
       "      <td>T</td>\n",
       "      <td>GATGGTCTCAATCTCCTGACCTAGTGATCCACCTCCTGGGCCTCCC...</td>\n",
       "      <td>GATGGTCTCAATCTCCTGACCTAGTGATCCACCTCCTGGGCCTCCC...</td>\n",
       "      <td>0.813088</td>\n",
       "      <td>0.431580</td>\n",
       "      <td>-0.310199</td>\n",
       "      <td>2.518381</td>\n",
       "    </tr>\n",
       "    <tr>\n",
       "      <th>1764188</th>\n",
       "      <td>1764188</td>\n",
       "      <td>chr12</td>\n",
       "      <td>114002447-114002646</td>\n",
       "      <td>rs1873869549</td>\n",
       "      <td>114002542</td>\n",
       "      <td>114002543</td>\n",
       "      <td>C</td>\n",
       "      <td>A</td>\n",
       "      <td>CTCTTGGCTTGTTGATGGCCTCCTCCCTGTATCTTCACATGGTCAT...</td>\n",
       "      <td>CTCTTGGCTTGTTGATGGCCTCCTCCCTGTATCTTCACATGGTCAT...</td>\n",
       "      <td>0.821232</td>\n",
       "      <td>0.457204</td>\n",
       "      <td>-0.298952</td>\n",
       "      <td>2.447279</td>\n",
       "    </tr>\n",
       "    <tr>\n",
       "      <th>2247116</th>\n",
       "      <td>2247116</td>\n",
       "      <td>chr9</td>\n",
       "      <td>89159368-89159567</td>\n",
       "      <td>rs1826673935</td>\n",
       "      <td>89159538</td>\n",
       "      <td>89159544</td>\n",
       "      <td>AGTCAG</td>\n",
       "      <td>AG</td>\n",
       "      <td>ACAGTGGGATCACAACTGTTGAGGAAGTGAGAAATGTTTGGCTTGG...</td>\n",
       "      <td>ACAGTGGGATCACAACTGTTGAGGAAGTGAGAAATGTTTGGCTTGG...</td>\n",
       "      <td>0.829863</td>\n",
       "      <td>0.424518</td>\n",
       "      <td>-0.336381</td>\n",
       "      <td>2.725122</td>\n",
       "    </tr>\n",
       "    <tr>\n",
       "      <th>2747508</th>\n",
       "      <td>2747508</td>\n",
       "      <td>chr3</td>\n",
       "      <td>83580932-83581131</td>\n",
       "      <td>rs1371331343</td>\n",
       "      <td>83581047</td>\n",
       "      <td>83581063</td>\n",
       "      <td>GCCACTGCGCCCGGCC</td>\n",
       "      <td>GCC</td>\n",
       "      <td>TTTTTGTATTTTTAGTAGATTCGGGGTTTCGCCGTGTTAGCCAGGA...</td>\n",
       "      <td>TTTTTGTATTTTTAGTAGATTCGGGGTTTCGCCGTGTTAGCCAGGA...</td>\n",
       "      <td>0.777998</td>\n",
       "      <td>0.289075</td>\n",
       "      <td>-0.380382</td>\n",
       "      <td>3.107452</td>\n",
       "    </tr>\n",
       "    <tr>\n",
       "      <th>4323306</th>\n",
       "      <td>4323306</td>\n",
       "      <td>chr22</td>\n",
       "      <td>47552931-47553130</td>\n",
       "      <td>rs1601981311</td>\n",
       "      <td>47552973</td>\n",
       "      <td>47552976</td>\n",
       "      <td>CCC</td>\n",
       "      <td>CC</td>\n",
       "      <td>CACTGTGACCTGGAGAGGGCACAGGTCGTGCCTCCTCCGCATCCCT...</td>\n",
       "      <td>CACTGTGACCTGGAGAGGGCACAGGTCGTGCCTCCTCCGCATCCTC...</td>\n",
       "      <td>0.867178</td>\n",
       "      <td>0.428081</td>\n",
       "      <td>-0.380775</td>\n",
       "      <td>3.124761</td>\n",
       "    </tr>\n",
       "    <tr>\n",
       "      <th>4375886</th>\n",
       "      <td>4375886</td>\n",
       "      <td>chr22</td>\n",
       "      <td>21979879-21980078</td>\n",
       "      <td>rs540667407</td>\n",
       "      <td>21979941</td>\n",
       "      <td>21979943</td>\n",
       "      <td>AA</td>\n",
       "      <td>AACAAA</td>\n",
       "      <td>GCAGTGAGCCGAGATTGCGCCACTGCACTCCAGCCTGGGCGACAGA...</td>\n",
       "      <td>GCAGTGAGCCGAGATTGCGCCACTGCACTCCAGCCTGGGCGACAGA...</td>\n",
       "      <td>0.879388</td>\n",
       "      <td>0.478919</td>\n",
       "      <td>-0.352168</td>\n",
       "      <td>2.987859</td>\n",
       "    </tr>\n",
       "    <tr>\n",
       "      <th>4441114</th>\n",
       "      <td>4441114</td>\n",
       "      <td>chr18</td>\n",
       "      <td>26884119-26884318</td>\n",
       "      <td>rs1480418911</td>\n",
       "      <td>26884293</td>\n",
       "      <td>26884299</td>\n",
       "      <td>GGGGGG</td>\n",
       "      <td>GGGGG</td>\n",
       "      <td>ATATTACTCCCCATATGGCGGAGGGTGTCCAGCCTCCTGCGATGTG...</td>\n",
       "      <td>ATATTACTCCCCATATGGCGGAGGGTGTCCAGCCTCCTGCGATGTG...</td>\n",
       "      <td>0.685628</td>\n",
       "      <td>0.277465</td>\n",
       "      <td>-0.279848</td>\n",
       "      <td>2.505716</td>\n",
       "    </tr>\n",
       "    <tr>\n",
       "      <th>4552139</th>\n",
       "      <td>4552139</td>\n",
       "      <td>chr18</td>\n",
       "      <td>12664137-12664336</td>\n",
       "      <td>rs1555640166</td>\n",
       "      <td>12664175</td>\n",
       "      <td>12664175</td>\n",
       "      <td>.</td>\n",
       "      <td>NNG</td>\n",
       "      <td>CTGGGCAACCAGAGCGAAACTCCATCTCAAAAGAAAAAAGAGTCCT...</td>\n",
       "      <td>CTGGGCAACCAGAGCGAAACTCCATCTCAAAAGAAAAANNGAGAGT...</td>\n",
       "      <td>0.943871</td>\n",
       "      <td>0.480070</td>\n",
       "      <td>-0.437768</td>\n",
       "      <td>4.186836</td>\n",
       "    </tr>\n",
       "    <tr>\n",
       "      <th>4686204</th>\n",
       "      <td>4686204</td>\n",
       "      <td>chr16</td>\n",
       "      <td>29141895-29142094</td>\n",
       "      <td>rs1960123964</td>\n",
       "      <td>29141929</td>\n",
       "      <td>29141934</td>\n",
       "      <td>GGGTG</td>\n",
       "      <td>G</td>\n",
       "      <td>AGCGGTGGAATAATCCTCTGTGGCACGCGGGGGGGGGTGTGGAATA...</td>\n",
       "      <td>AGCGGTGGAATAATCCTCTGTGGCACGCGGGGGGGTGGAATAATCC...</td>\n",
       "      <td>0.940080</td>\n",
       "      <td>0.340033</td>\n",
       "      <td>-0.564092</td>\n",
       "      <td>4.928388</td>\n",
       "    </tr>\n",
       "    <tr>\n",
       "      <th>4686272</th>\n",
       "      <td>4686272</td>\n",
       "      <td>chr16</td>\n",
       "      <td>29141895-29142094</td>\n",
       "      <td>rs1555531952</td>\n",
       "      <td>29141986</td>\n",
       "      <td>29141992</td>\n",
       "      <td>GGGGGG</td>\n",
       "      <td>GGGGG</td>\n",
       "      <td>AGCGGTGGAATAATCCTCTGTGGCACGCGGGGGGGGGTGTGGAATA...</td>\n",
       "      <td>AGCGGTGGAATAATCCTCTGTGGCACGCGGGGGGGGGTGTGGAATA...</td>\n",
       "      <td>0.940080</td>\n",
       "      <td>0.488078</td>\n",
       "      <td>-0.424918</td>\n",
       "      <td>4.040480</td>\n",
       "    </tr>\n",
       "    <tr>\n",
       "      <th>4709601</th>\n",
       "      <td>4709601</td>\n",
       "      <td>chr16</td>\n",
       "      <td>22940127-22940326</td>\n",
       "      <td>rs1359649057</td>\n",
       "      <td>22940127</td>\n",
       "      <td>22940144</td>\n",
       "      <td>ATTGGAGACTCGGAAGA</td>\n",
       "      <td>A</td>\n",
       "      <td>ATTGGAGACTCGGAAGAGTGGGAATGTGGGAGGGGCTAAGGGATGA...</td>\n",
       "      <td>AGTGGGAATGTGGGAGGGGCTAAGGGATGATAGACACTGGAGACTT...</td>\n",
       "      <td>0.742491</td>\n",
       "      <td>0.336321</td>\n",
       "      <td>-0.301578</td>\n",
       "      <td>2.508400</td>\n",
       "    </tr>\n",
       "    <tr>\n",
       "      <th>5213106</th>\n",
       "      <td>5213106</td>\n",
       "      <td>chr10</td>\n",
       "      <td>131363472-131363671</td>\n",
       "      <td>rs1454415434</td>\n",
       "      <td>131363628</td>\n",
       "      <td>131363629</td>\n",
       "      <td>T</td>\n",
       "      <td>A</td>\n",
       "      <td>GGGAGCCAGGCTGTGATGATTGCCGTTTCCACCCAGCCTCCAGGAT...</td>\n",
       "      <td>GGGAGCCAGGCTGTGATGATTGCCGTTTCCACCCAGCCTCCAGGAT...</td>\n",
       "      <td>0.781136</td>\n",
       "      <td>0.361353</td>\n",
       "      <td>-0.327908</td>\n",
       "      <td>2.657149</td>\n",
       "    </tr>\n",
       "    <tr>\n",
       "      <th>5856956</th>\n",
       "      <td>5856956</td>\n",
       "      <td>chr1</td>\n",
       "      <td>100181664-100181863</td>\n",
       "      <td>rs527701141</td>\n",
       "      <td>100181780</td>\n",
       "      <td>100181781</td>\n",
       "      <td>T</td>\n",
       "      <td>G</td>\n",
       "      <td>ACTGCGCCCGGCTAATTTTTTGTATTTTTAGTAGAGACGGGGTTTC...</td>\n",
       "      <td>ACTGCGCCCGGCTAATTTTTTGTATTTTTAGTAGAGACGGGGTTTC...</td>\n",
       "      <td>0.861567</td>\n",
       "      <td>0.476635</td>\n",
       "      <td>-0.331644</td>\n",
       "      <td>2.772704</td>\n",
       "    </tr>\n",
       "    <tr>\n",
       "      <th>5856957</th>\n",
       "      <td>5856957</td>\n",
       "      <td>chr1</td>\n",
       "      <td>100181664-100181863</td>\n",
       "      <td>rs912492183</td>\n",
       "      <td>100181787</td>\n",
       "      <td>100181788</td>\n",
       "      <td>C</td>\n",
       "      <td>T</td>\n",
       "      <td>ACTGCGCCCGGCTAATTTTTTGTATTTTTAGTAGAGACGGGGTTTC...</td>\n",
       "      <td>ACTGCGCCCGGCTAATTTTTTGTATTTTTAGTAGAGACGGGGTTTC...</td>\n",
       "      <td>0.861567</td>\n",
       "      <td>0.488898</td>\n",
       "      <td>-0.321079</td>\n",
       "      <td>2.701849</td>\n",
       "    </tr>\n",
       "    <tr>\n",
       "      <th>5856961</th>\n",
       "      <td>5856961</td>\n",
       "      <td>chr1</td>\n",
       "      <td>100181664-100181863</td>\n",
       "      <td>rs567567889</td>\n",
       "      <td>100181791</td>\n",
       "      <td>100181792</td>\n",
       "      <td>G</td>\n",
       "      <td>T</td>\n",
       "      <td>ACTGCGCCCGGCTAATTTTTTGTATTTTTAGTAGAGACGGGGTTTC...</td>\n",
       "      <td>ACTGCGCCCGGCTAATTTTTTGTATTTTTAGTAGAGACGGGGTTTC...</td>\n",
       "      <td>0.861567</td>\n",
       "      <td>0.441689</td>\n",
       "      <td>-0.361753</td>\n",
       "      <td>2.975811</td>\n",
       "    </tr>\n",
       "    <tr>\n",
       "      <th>5856979</th>\n",
       "      <td>5856979</td>\n",
       "      <td>chr1</td>\n",
       "      <td>100181664-100181863</td>\n",
       "      <td>rs1214009578</td>\n",
       "      <td>100181853</td>\n",
       "      <td>100181854</td>\n",
       "      <td>C</td>\n",
       "      <td>A</td>\n",
       "      <td>ACTGCGCCCGGCTAATTTTTTGTATTTTTAGTAGAGACGGGGTTTC...</td>\n",
       "      <td>ACTGCGCCCGGCTAATTTTTTGTATTTTTAGTAGAGACGGGGTTTC...</td>\n",
       "      <td>0.861567</td>\n",
       "      <td>0.341839</td>\n",
       "      <td>-0.447780</td>\n",
       "      <td>3.582895</td>\n",
       "    </tr>\n",
       "    <tr>\n",
       "      <th>5866013</th>\n",
       "      <td>5866013</td>\n",
       "      <td>chr1</td>\n",
       "      <td>163240773-163240972</td>\n",
       "      <td>rs1647772160</td>\n",
       "      <td>163240832</td>\n",
       "      <td>163240833</td>\n",
       "      <td>G</td>\n",
       "      <td>A</td>\n",
       "      <td>TTCAAAGTGCTGAGGTTACAGGTGTGAGCCACTGCACCAGGCCAAA...</td>\n",
       "      <td>TTCAAAGTGCTGAGGTTACAGGTGTGAGCCACTGCACCAGGCCAAA...</td>\n",
       "      <td>0.846980</td>\n",
       "      <td>0.498168</td>\n",
       "      <td>-0.295437</td>\n",
       "      <td>2.479182</td>\n",
       "    </tr>\n",
       "    <tr>\n",
       "      <th>6460968</th>\n",
       "      <td>6460968</td>\n",
       "      <td>chr17</td>\n",
       "      <td>1859121-1859320</td>\n",
       "      <td>rs1306702458</td>\n",
       "      <td>1859308</td>\n",
       "      <td>1859316</td>\n",
       "      <td>AGGTCGAG</td>\n",
       "      <td>AG</td>\n",
       "      <td>CAAACTCCTGACCTCGGATGATCTGCCTGCCTTGGCCTCCCAAAGT...</td>\n",
       "      <td>CAAACTCCTGACCTCGGATGATCTGCCTGCCTTGGCCTCCCAAAGT...</td>\n",
       "      <td>0.583817</td>\n",
       "      <td>0.197494</td>\n",
       "      <td>-0.225542</td>\n",
       "      <td>2.511008</td>\n",
       "    </tr>\n",
       "    <tr>\n",
       "      <th>6626697</th>\n",
       "      <td>6626697</td>\n",
       "      <td>chr17</td>\n",
       "      <td>7811514-7811713</td>\n",
       "      <td>rs2077520022</td>\n",
       "      <td>7811631</td>\n",
       "      <td>7811638</td>\n",
       "      <td>TGTGTGT</td>\n",
       "      <td>TGTGT</td>\n",
       "      <td>GGTAATTTATAAATAACAGAAATTGATATCTTACAGTTCCGAAGGC...</td>\n",
       "      <td>GGTAATTTATAAATAACAGAAATTGATATCTTACAGTTCCGAAGGC...</td>\n",
       "      <td>0.745693</td>\n",
       "      <td>0.345809</td>\n",
       "      <td>-0.298191</td>\n",
       "      <td>2.471748</td>\n",
       "    </tr>\n",
       "    <tr>\n",
       "      <th>7000835</th>\n",
       "      <td>7000835</td>\n",
       "      <td>chr8</td>\n",
       "      <td>22518856-22519055</td>\n",
       "      <td>rs1839328092</td>\n",
       "      <td>22518873</td>\n",
       "      <td>22518885</td>\n",
       "      <td>ACGGAGTTTCAC</td>\n",
       "      <td>AC</td>\n",
       "      <td>TTGTATTTTTAGTAGAGACGGAGTTTCACCATGTTGGCCAGGCTGG...</td>\n",
       "      <td>TTGTATTTTTAGTAGAGACCATGTTGGCCAGGCTGGTTTCGAACTC...</td>\n",
       "      <td>0.788224</td>\n",
       "      <td>0.361235</td>\n",
       "      <td>-0.336564</td>\n",
       "      <td>2.718418</td>\n",
       "    </tr>\n",
       "    <tr>\n",
       "      <th>7043100</th>\n",
       "      <td>7043100</td>\n",
       "      <td>chr8</td>\n",
       "      <td>37280141-37280340</td>\n",
       "      <td>rs1812524275</td>\n",
       "      <td>37280209</td>\n",
       "      <td>37280209</td>\n",
       "      <td>.</td>\n",
       "      <td>ACAATGGCAATGAATT</td>\n",
       "      <td>AGGACCTGACTATTGAAAGAAGAACAAACAAGCAGGAAGCAACAAC...</td>\n",
       "      <td>AGGACCTGACTATTGAAAGAAGAACAAACAAGCAGGAAGCAACAAC...</td>\n",
       "      <td>0.561659</td>\n",
       "      <td>0.101252</td>\n",
       "      <td>-0.258592</td>\n",
       "      <td>3.507607</td>\n",
       "    </tr>\n",
       "    <tr>\n",
       "      <th>7066179</th>\n",
       "      <td>7066179</td>\n",
       "      <td>chr8</td>\n",
       "      <td>123202931-123203130</td>\n",
       "      <td>rs1193022659</td>\n",
       "      <td>123202958</td>\n",
       "      <td>123202959</td>\n",
       "      <td>C</td>\n",
       "      <td>G</td>\n",
       "      <td>CAGAACTTGTCATGAAACTGCAGTAATCAAGACAATGTGTCATTGG...</td>\n",
       "      <td>CAGAACTTGTCATGAAACTGCAGTAATGAAGACAATGTGTCATTGG...</td>\n",
       "      <td>0.808177</td>\n",
       "      <td>0.400233</td>\n",
       "      <td>-0.329690</td>\n",
       "      <td>2.658452</td>\n",
       "    </tr>\n",
       "  </tbody>\n",
       "</table>\n",
       "</div>"
      ],
      "text/plain": [
       "           index    chr Enhancer_coordinates      dbsnp_id  varinat_start  \\\n",
       "913816    913816  chr19    50287269-50287468  rs2035928674       50287419   \n",
       "1056945  1056945  chr21    33493659-33493858    rs11298783       33493834   \n",
       "1365290  1365290   chr7    21708705-21708904  rs1318963939       21708871   \n",
       "1431873  1431873   chr7    24061505-24061704  rs1782854324       24061653   \n",
       "1658544  1658544  chr12    53399976-53400175  rs1938579082       53400164   \n",
       "1764188  1764188  chr12  114002447-114002646  rs1873869549      114002542   \n",
       "2247116  2247116   chr9    89159368-89159567  rs1826673935       89159538   \n",
       "2747508  2747508   chr3    83580932-83581131  rs1371331343       83581047   \n",
       "4323306  4323306  chr22    47552931-47553130  rs1601981311       47552973   \n",
       "4375886  4375886  chr22    21979879-21980078   rs540667407       21979941   \n",
       "4441114  4441114  chr18    26884119-26884318  rs1480418911       26884293   \n",
       "4552139  4552139  chr18    12664137-12664336  rs1555640166       12664175   \n",
       "4686204  4686204  chr16    29141895-29142094  rs1960123964       29141929   \n",
       "4686272  4686272  chr16    29141895-29142094  rs1555531952       29141986   \n",
       "4709601  4709601  chr16    22940127-22940326  rs1359649057       22940127   \n",
       "5213106  5213106  chr10  131363472-131363671  rs1454415434      131363628   \n",
       "5856956  5856956   chr1  100181664-100181863   rs527701141      100181780   \n",
       "5856957  5856957   chr1  100181664-100181863   rs912492183      100181787   \n",
       "5856961  5856961   chr1  100181664-100181863   rs567567889      100181791   \n",
       "5856979  5856979   chr1  100181664-100181863  rs1214009578      100181853   \n",
       "5866013  5866013   chr1  163240773-163240972  rs1647772160      163240832   \n",
       "6460968  6460968  chr17      1859121-1859320  rs1306702458        1859308   \n",
       "6626697  6626697  chr17      7811514-7811713  rs2077520022        7811631   \n",
       "7000835  7000835   chr8    22518856-22519055  rs1839328092       22518873   \n",
       "7043100  7043100   chr8    37280141-37280340  rs1812524275       37280209   \n",
       "7066179  7066179   chr8  123202931-123203130  rs1193022659      123202958   \n",
       "\n",
       "         variant_end    ref_neucleotide alternative_neucleotide  \\\n",
       "913816      50287419                  .         TTAATTATACTTTAA   \n",
       "1056945     33493837                GGG                      GG   \n",
       "1365290     21708872                  A                       T   \n",
       "1431873     24061664        AGCCCAAAAGC                     AGC   \n",
       "1658544     53400165                  G                       T   \n",
       "1764188    114002543                  C                       A   \n",
       "2247116     89159544             AGTCAG                      AG   \n",
       "2747508     83581063   GCCACTGCGCCCGGCC                     GCC   \n",
       "4323306     47552976                CCC                      CC   \n",
       "4375886     21979943                 AA                  AACAAA   \n",
       "4441114     26884299             GGGGGG                   GGGGG   \n",
       "4552139     12664175                  .                     NNG   \n",
       "4686204     29141934              GGGTG                       G   \n",
       "4686272     29141992             GGGGGG                   GGGGG   \n",
       "4709601     22940144  ATTGGAGACTCGGAAGA                       A   \n",
       "5213106    131363629                  T                       A   \n",
       "5856956    100181781                  T                       G   \n",
       "5856957    100181788                  C                       T   \n",
       "5856961    100181792                  G                       T   \n",
       "5856979    100181854                  C                       A   \n",
       "5866013    163240833                  G                       A   \n",
       "6460968      1859316           AGGTCGAG                      AG   \n",
       "6626697      7811638            TGTGTGT                   TGTGT   \n",
       "7000835     22518885       ACGGAGTTTCAC                      AC   \n",
       "7043100     37280209                  .        ACAATGGCAATGAATT   \n",
       "7066179    123202959                  C                       G   \n",
       "\n",
       "                                             reference_seq  \\\n",
       "913816   CATTCACAGAACGTGAGGAGAATCTTCCATCCAGCACATGTGTTCA...   \n",
       "1056945  CTTCCAGGCCCAGTAAGGTGCCTTATATCTCTCAATCTCATCCTTC...   \n",
       "1365290  TTCCTTGAACTTGCTCCCATCACGGGGCCTCAGCACCTCATGTTCC...   \n",
       "1431873  ACCATGCCCGGCTAACTTTTTGTATTTTTAGTAGAGATGGGGTTTT...   \n",
       "1658544  GATGGTCTCAATCTCCTGACCTAGTGATCCACCTCCTGGGCCTCCC...   \n",
       "1764188  CTCTTGGCTTGTTGATGGCCTCCTCCCTGTATCTTCACATGGTCAT...   \n",
       "2247116  ACAGTGGGATCACAACTGTTGAGGAAGTGAGAAATGTTTGGCTTGG...   \n",
       "2747508  TTTTTGTATTTTTAGTAGATTCGGGGTTTCGCCGTGTTAGCCAGGA...   \n",
       "4323306  CACTGTGACCTGGAGAGGGCACAGGTCGTGCCTCCTCCGCATCCCT...   \n",
       "4375886  GCAGTGAGCCGAGATTGCGCCACTGCACTCCAGCCTGGGCGACAGA...   \n",
       "4441114  ATATTACTCCCCATATGGCGGAGGGTGTCCAGCCTCCTGCGATGTG...   \n",
       "4552139  CTGGGCAACCAGAGCGAAACTCCATCTCAAAAGAAAAAAGAGTCCT...   \n",
       "4686204  AGCGGTGGAATAATCCTCTGTGGCACGCGGGGGGGGGTGTGGAATA...   \n",
       "4686272  AGCGGTGGAATAATCCTCTGTGGCACGCGGGGGGGGGTGTGGAATA...   \n",
       "4709601  ATTGGAGACTCGGAAGAGTGGGAATGTGGGAGGGGCTAAGGGATGA...   \n",
       "5213106  GGGAGCCAGGCTGTGATGATTGCCGTTTCCACCCAGCCTCCAGGAT...   \n",
       "5856956  ACTGCGCCCGGCTAATTTTTTGTATTTTTAGTAGAGACGGGGTTTC...   \n",
       "5856957  ACTGCGCCCGGCTAATTTTTTGTATTTTTAGTAGAGACGGGGTTTC...   \n",
       "5856961  ACTGCGCCCGGCTAATTTTTTGTATTTTTAGTAGAGACGGGGTTTC...   \n",
       "5856979  ACTGCGCCCGGCTAATTTTTTGTATTTTTAGTAGAGACGGGGTTTC...   \n",
       "5866013  TTCAAAGTGCTGAGGTTACAGGTGTGAGCCACTGCACCAGGCCAAA...   \n",
       "6460968  CAAACTCCTGACCTCGGATGATCTGCCTGCCTTGGCCTCCCAAAGT...   \n",
       "6626697  GGTAATTTATAAATAACAGAAATTGATATCTTACAGTTCCGAAGGC...   \n",
       "7000835  TTGTATTTTTAGTAGAGACGGAGTTTCACCATGTTGGCCAGGCTGG...   \n",
       "7043100  AGGACCTGACTATTGAAAGAAGAACAAACAAGCAGGAAGCAACAAC...   \n",
       "7066179  CAGAACTTGTCATGAAACTGCAGTAATCAAGACAATGTGTCATTGG...   \n",
       "\n",
       "                                                   alt_seq  Ref_probab  \\\n",
       "913816   CATTCACAGAACGTGAGGAGAATCTTCCATCCAGCACATGTGTTCA...    0.849482   \n",
       "1056945  CTTCCAGGCCCAGTAAGGTGCCTTATATCTCTCAATCTCATCCTTC...    0.831185   \n",
       "1365290  TTCCTTGAACTTGCTCCCATCACGGGGCCTCAGCACCTCATGTTCC...    0.803674   \n",
       "1431873  ACCATGCCCGGCTAACTTTTTGTATTTTTAGTAGAGATGGGGTTTT...    0.914311   \n",
       "1658544  GATGGTCTCAATCTCCTGACCTAGTGATCCACCTCCTGGGCCTCCC...    0.813088   \n",
       "1764188  CTCTTGGCTTGTTGATGGCCTCCTCCCTGTATCTTCACATGGTCAT...    0.821232   \n",
       "2247116  ACAGTGGGATCACAACTGTTGAGGAAGTGAGAAATGTTTGGCTTGG...    0.829863   \n",
       "2747508  TTTTTGTATTTTTAGTAGATTCGGGGTTTCGCCGTGTTAGCCAGGA...    0.777998   \n",
       "4323306  CACTGTGACCTGGAGAGGGCACAGGTCGTGCCTCCTCCGCATCCTC...    0.867178   \n",
       "4375886  GCAGTGAGCCGAGATTGCGCCACTGCACTCCAGCCTGGGCGACAGA...    0.879388   \n",
       "4441114  ATATTACTCCCCATATGGCGGAGGGTGTCCAGCCTCCTGCGATGTG...    0.685628   \n",
       "4552139  CTGGGCAACCAGAGCGAAACTCCATCTCAAAAGAAAAANNGAGAGT...    0.943871   \n",
       "4686204  AGCGGTGGAATAATCCTCTGTGGCACGCGGGGGGGTGGAATAATCC...    0.940080   \n",
       "4686272  AGCGGTGGAATAATCCTCTGTGGCACGCGGGGGGGGGTGTGGAATA...    0.940080   \n",
       "4709601  AGTGGGAATGTGGGAGGGGCTAAGGGATGATAGACACTGGAGACTT...    0.742491   \n",
       "5213106  GGGAGCCAGGCTGTGATGATTGCCGTTTCCACCCAGCCTCCAGGAT...    0.781136   \n",
       "5856956  ACTGCGCCCGGCTAATTTTTTGTATTTTTAGTAGAGACGGGGTTTC...    0.861567   \n",
       "5856957  ACTGCGCCCGGCTAATTTTTTGTATTTTTAGTAGAGACGGGGTTTC...    0.861567   \n",
       "5856961  ACTGCGCCCGGCTAATTTTTTGTATTTTTAGTAGAGACGGGGTTTC...    0.861567   \n",
       "5856979  ACTGCGCCCGGCTAATTTTTTGTATTTTTAGTAGAGACGGGGTTTC...    0.861567   \n",
       "5866013  TTCAAAGTGCTGAGGTTACAGGTGTGAGCCACTGCACCAGGCCAAA...    0.846980   \n",
       "6460968  CAAACTCCTGACCTCGGATGATCTGCCTGCCTTGGCCTCCCAAAGT...    0.583817   \n",
       "6626697  GGTAATTTATAAATAACAGAAATTGATATCTTACAGTTCCGAAGGC...    0.745693   \n",
       "7000835  TTGTATTTTTAGTAGAGACCATGTTGGCCAGGCTGGTTTCGAACTC...    0.788224   \n",
       "7043100  AGGACCTGACTATTGAAAGAAGAACAAACAAGCAGGAAGCAACAAC...    0.561659   \n",
       "7066179  CAGAACTTGTCATGAAACTGCAGTAATGAAGACAATGTGTCATTGG...    0.808177   \n",
       "\n",
       "         Alt_probab  ScoreChange  LogOddRatio  \n",
       "913816     0.292088    -0.473497     3.773820  \n",
       "1056945    0.413594    -0.347096     2.803413  \n",
       "1365290    0.411779    -0.314957     2.547853  \n",
       "1431873    0.276027    -0.583589     4.806619  \n",
       "1658544    0.431580    -0.310199     2.518381  \n",
       "1764188    0.457204    -0.298952     2.447279  \n",
       "2247116    0.424518    -0.336381     2.725122  \n",
       "2747508    0.289075    -0.380382     3.107452  \n",
       "4323306    0.428081    -0.380775     3.124761  \n",
       "4375886    0.478919    -0.352168     2.987859  \n",
       "4441114    0.277465    -0.279848     2.505716  \n",
       "4552139    0.480070    -0.437768     4.186836  \n",
       "4686204    0.340033    -0.564092     4.928388  \n",
       "4686272    0.488078    -0.424918     4.040480  \n",
       "4709601    0.336321    -0.301578     2.508400  \n",
       "5213106    0.361353    -0.327908     2.657149  \n",
       "5856956    0.476635    -0.331644     2.772704  \n",
       "5856957    0.488898    -0.321079     2.701849  \n",
       "5856961    0.441689    -0.361753     2.975811  \n",
       "5856979    0.341839    -0.447780     3.582895  \n",
       "5866013    0.498168    -0.295437     2.479182  \n",
       "6460968    0.197494    -0.225542     2.511008  \n",
       "6626697    0.345809    -0.298191     2.471748  \n",
       "7000835    0.361235    -0.336564     2.718418  \n",
       "7043100    0.101252    -0.258592     3.507607  \n",
       "7066179    0.400233    -0.329690     2.658452  "
      ]
     },
     "execution_count": 58,
     "metadata": {},
     "output_type": "execute_result"
    }
   ],
   "source": [
    "df_filtered"
   ]
  },
  {
   "cell_type": "code",
   "execution_count": 62,
   "id": "cfefa5a5-bc6e-4def-83cb-8889cc93ea13",
   "metadata": {},
   "outputs": [],
   "source": [
    "df_filtered.to_csv(output_path+\"/Enhancer_candidates_new.tsv\", sep= \"\\t\", index=False)\n",
    "# Save to a .tsv file\n",
    "np.savetxt(output_path+\"/Unique_DBSNP_new.tsv\", df_filtered['dbsnp_id'].unique(), delimiter=\"\\t\", fmt='%s')\n",
    "#np.savetxt(output_path+\"/Unique_Enhancers_new.tsv\", df_filtered[['chr','Enhancer_coordinates']].unique(), delimiter=\"\\t\", fmt='%s')\n",
    "df_filtered[['chr','Enhancer_coordinates']].drop_duplicates().to_csv(output_path + \"/Unique_Enhancers_new.tsv\", sep=\"\\t\", index=False)"
   ]
  },
  {
   "cell_type": "code",
   "execution_count": 42,
   "id": "e4b45748-5c56-46e3-a839-658bfea9d241",
   "metadata": {},
   "outputs": [
    {
     "ename": "KeyError",
     "evalue": "('chr', 'Enhancer_coordinates')",
     "output_type": "error",
     "traceback": [
      "\u001b[0;31m---------------------------------------------------------------------------\u001b[0m",
      "\u001b[0;31mKeyError\u001b[0m                                  Traceback (most recent call last)",
      "File \u001b[0;32m/shared/software/anaconda/anaconda3/lib/python3.10/site-packages/pandas/core/indexes/base.py:3802\u001b[0m, in \u001b[0;36mIndex.get_loc\u001b[0;34m(self, key, method, tolerance)\u001b[0m\n\u001b[1;32m   3801\u001b[0m \u001b[38;5;28;01mtry\u001b[39;00m:\n\u001b[0;32m-> 3802\u001b[0m     \u001b[38;5;28;01mreturn\u001b[39;00m \u001b[38;5;28;43mself\u001b[39;49m\u001b[38;5;241;43m.\u001b[39;49m\u001b[43m_engine\u001b[49m\u001b[38;5;241;43m.\u001b[39;49m\u001b[43mget_loc\u001b[49m\u001b[43m(\u001b[49m\u001b[43mcasted_key\u001b[49m\u001b[43m)\u001b[49m\n\u001b[1;32m   3803\u001b[0m \u001b[38;5;28;01mexcept\u001b[39;00m \u001b[38;5;167;01mKeyError\u001b[39;00m \u001b[38;5;28;01mas\u001b[39;00m err:\n",
      "File \u001b[0;32m/shared/software/anaconda/anaconda3/lib/python3.10/site-packages/pandas/_libs/index.pyx:138\u001b[0m, in \u001b[0;36mpandas._libs.index.IndexEngine.get_loc\u001b[0;34m()\u001b[0m\n",
      "File \u001b[0;32m/shared/software/anaconda/anaconda3/lib/python3.10/site-packages/pandas/_libs/index.pyx:165\u001b[0m, in \u001b[0;36mpandas._libs.index.IndexEngine.get_loc\u001b[0;34m()\u001b[0m\n",
      "File \u001b[0;32mpandas/_libs/hashtable_class_helper.pxi:5745\u001b[0m, in \u001b[0;36mpandas._libs.hashtable.PyObjectHashTable.get_item\u001b[0;34m()\u001b[0m\n",
      "File \u001b[0;32mpandas/_libs/hashtable_class_helper.pxi:5753\u001b[0m, in \u001b[0;36mpandas._libs.hashtable.PyObjectHashTable.get_item\u001b[0;34m()\u001b[0m\n",
      "\u001b[0;31mKeyError\u001b[0m: ('chr', 'Enhancer_coordinates')",
      "\nThe above exception was the direct cause of the following exception:\n",
      "\u001b[0;31mKeyError\u001b[0m                                  Traceback (most recent call last)",
      "Cell \u001b[0;32mIn[42], line 4\u001b[0m\n\u001b[1;32m      2\u001b[0m \u001b[38;5;66;03m# Save to a .tsv file\u001b[39;00m\n\u001b[1;32m      3\u001b[0m np\u001b[38;5;241m.\u001b[39msavetxt(output_path\u001b[38;5;241m+\u001b[39m\u001b[38;5;124m\"\u001b[39m\u001b[38;5;124m/Unique_DBSNP.tsv\u001b[39m\u001b[38;5;124m\"\u001b[39m, df_selected[\u001b[38;5;124m'\u001b[39m\u001b[38;5;124mdbsnp_id\u001b[39m\u001b[38;5;124m'\u001b[39m]\u001b[38;5;241m.\u001b[39munique(), delimiter\u001b[38;5;241m=\u001b[39m\u001b[38;5;124m\"\u001b[39m\u001b[38;5;130;01m\\t\u001b[39;00m\u001b[38;5;124m\"\u001b[39m, fmt\u001b[38;5;241m=\u001b[39m\u001b[38;5;124m'\u001b[39m\u001b[38;5;132;01m%s\u001b[39;00m\u001b[38;5;124m'\u001b[39m)\n\u001b[0;32m----> 4\u001b[0m np\u001b[38;5;241m.\u001b[39msavetxt(output_path\u001b[38;5;241m+\u001b[39m\u001b[38;5;124m\"\u001b[39m\u001b[38;5;124m/Unique_Enhancers.tsv\u001b[39m\u001b[38;5;124m\"\u001b[39m, \u001b[43mdf_selected\u001b[49m\u001b[43m[\u001b[49m\u001b[38;5;124;43m'\u001b[39;49m\u001b[38;5;124;43mchr\u001b[39;49m\u001b[38;5;124;43m'\u001b[39;49m\u001b[43m,\u001b[49m\u001b[38;5;124;43m'\u001b[39;49m\u001b[38;5;124;43mEnhancer_coordinates\u001b[39;49m\u001b[38;5;124;43m'\u001b[39;49m\u001b[43m]\u001b[49m\u001b[38;5;241m.\u001b[39munique(), delimiter\u001b[38;5;241m=\u001b[39m\u001b[38;5;124m\"\u001b[39m\u001b[38;5;130;01m\\t\u001b[39;00m\u001b[38;5;124m\"\u001b[39m, fmt\u001b[38;5;241m=\u001b[39m\u001b[38;5;124m'\u001b[39m\u001b[38;5;132;01m%s\u001b[39;00m\u001b[38;5;124m'\u001b[39m)\n",
      "File \u001b[0;32m/shared/software/anaconda/anaconda3/lib/python3.10/site-packages/pandas/core/frame.py:3807\u001b[0m, in \u001b[0;36mDataFrame.__getitem__\u001b[0;34m(self, key)\u001b[0m\n\u001b[1;32m   3805\u001b[0m \u001b[38;5;28;01mif\u001b[39;00m \u001b[38;5;28mself\u001b[39m\u001b[38;5;241m.\u001b[39mcolumns\u001b[38;5;241m.\u001b[39mnlevels \u001b[38;5;241m>\u001b[39m \u001b[38;5;241m1\u001b[39m:\n\u001b[1;32m   3806\u001b[0m     \u001b[38;5;28;01mreturn\u001b[39;00m \u001b[38;5;28mself\u001b[39m\u001b[38;5;241m.\u001b[39m_getitem_multilevel(key)\n\u001b[0;32m-> 3807\u001b[0m indexer \u001b[38;5;241m=\u001b[39m \u001b[38;5;28;43mself\u001b[39;49m\u001b[38;5;241;43m.\u001b[39;49m\u001b[43mcolumns\u001b[49m\u001b[38;5;241;43m.\u001b[39;49m\u001b[43mget_loc\u001b[49m\u001b[43m(\u001b[49m\u001b[43mkey\u001b[49m\u001b[43m)\u001b[49m\n\u001b[1;32m   3808\u001b[0m \u001b[38;5;28;01mif\u001b[39;00m is_integer(indexer):\n\u001b[1;32m   3809\u001b[0m     indexer \u001b[38;5;241m=\u001b[39m [indexer]\n",
      "File \u001b[0;32m/shared/software/anaconda/anaconda3/lib/python3.10/site-packages/pandas/core/indexes/base.py:3804\u001b[0m, in \u001b[0;36mIndex.get_loc\u001b[0;34m(self, key, method, tolerance)\u001b[0m\n\u001b[1;32m   3802\u001b[0m     \u001b[38;5;28;01mreturn\u001b[39;00m \u001b[38;5;28mself\u001b[39m\u001b[38;5;241m.\u001b[39m_engine\u001b[38;5;241m.\u001b[39mget_loc(casted_key)\n\u001b[1;32m   3803\u001b[0m \u001b[38;5;28;01mexcept\u001b[39;00m \u001b[38;5;167;01mKeyError\u001b[39;00m \u001b[38;5;28;01mas\u001b[39;00m err:\n\u001b[0;32m-> 3804\u001b[0m     \u001b[38;5;28;01mraise\u001b[39;00m \u001b[38;5;167;01mKeyError\u001b[39;00m(key) \u001b[38;5;28;01mfrom\u001b[39;00m \u001b[38;5;21;01merr\u001b[39;00m\n\u001b[1;32m   3805\u001b[0m \u001b[38;5;28;01mexcept\u001b[39;00m \u001b[38;5;167;01mTypeError\u001b[39;00m:\n\u001b[1;32m   3806\u001b[0m     \u001b[38;5;66;03m# If we have a listlike key, _check_indexing_error will raise\u001b[39;00m\n\u001b[1;32m   3807\u001b[0m     \u001b[38;5;66;03m#  InvalidIndexError. Otherwise we fall through and re-raise\u001b[39;00m\n\u001b[1;32m   3808\u001b[0m     \u001b[38;5;66;03m#  the TypeError.\u001b[39;00m\n\u001b[1;32m   3809\u001b[0m     \u001b[38;5;28mself\u001b[39m\u001b[38;5;241m.\u001b[39m_check_indexing_error(key)\n",
      "\u001b[0;31mKeyError\u001b[0m: ('chr', 'Enhancer_coordinates')"
     ]
    }
   ],
   "source": [
    "df_selected.to_csv(output_path+\"/Enhancer_candidates.tsv\", sep= \"\\t\", index=False)\n",
    "# Save to a .tsv file\n",
    "np.savetxt(output_path+\"/Unique_DBSNP.tsv\", df_selected['dbsnp_id'].unique(), delimiter=\"\\t\", fmt='%s')\n",
    "np.savetxt(output_path+\"/Unique_Enhancers.tsv\", df_selected['Enhancer_coordinates'].unique(), delimiter=\"\\t\", fmt='%s')"
   ]
  },
  {
   "cell_type": "code",
   "execution_count": 80,
   "id": "5461d610-b764-4995-8965-458d1ebbdef5",
   "metadata": {},
   "outputs": [
    {
     "data": {
      "image/png": "[encoded data removed]",
      "text/plain": [
       "<Figure size 640x480 with 1 Axes>"
      ]
     },
     "metadata": {},
     "output_type": "display_data"
    }
   ],
   "source": [
    "sns.kdeplot(df_interest['LogOddRatio'])\n",
    "plt.show()\n"
   ]
  },
  {
   "cell_type": "code",
   "execution_count": 26,
   "id": "caf100d5-1b3f-4070-86aa-d871db834870",
   "metadata": {},
   "outputs": [
    {
     "data": {
      "text/plain": [
       "array(['GAGTGGAGCACTGTACATACCTGGCTGGATTGAGAATGGTAAGTAATTTGTAATAACATACCTGGCTTGTGCAAAAGCA',\n",
       "       'AGATTTCACCTCTGCAAATATGAGAGATTCTGCAGAAGGTAAGCTTGTGATATTGGCTTGGTCTGAATTGGGTGTGTAT',\n",
       "       'CTGGGTAATGCTGGTCACCAGCCTTGTGGCCCTTCAAGGTATGTCCAAAAGAGCCGTAAGCACCCCAAGCAATGAGGGT',\n",
       "       'CTACTACTACTATTCTGCAAACGAGGAATTCAGACCAGGTAAGTACCCATGCGTCTCATTTTGGAGGAATAGGTTTAAA',\n",
       "       'TCTCTCAGTGGTCGCTATCTGGAGGAGCTTAGCCAAAGGTAAGCTTTATTATGAATTAGCACAGTCAGCTTCACACAGT',\n",
       "       'TCTGACCAGTGCTGCTGTGACGAATCTTTCAGTTACAGGTAAGCAGCTGCCAGGCCATGCACCTGCTGAGCACATGGGA',\n",
       "       'GCTGAAAAATATTATGGCAACAAATGCATTATTCCATGGTAAGATACGTCTCATTATTGGAGTGTGTCTGAACATATAT',\n",
       "       'CAGTATCTGATTTCCACCCAGTCAAAAAAATTGTCCAGGTAAGCACAATATCCCTATTTATTTTCAGTCCTACCTCAAG',\n",
       "       'TTTGAAAACTTGTCTCCAGGAAGTGTTATTATATTCAGGTATGTTAATTGAGCTCAAACTGTTGACTTTACTTATATTT',\n",
       "       'TCACATCCATCAGAGGATTGCTGATCACTCTTACCAAGGTATGTTTTATCACAGTGTTAAAAAGTACTGCTTATCATTT',\n",
       "       'AACCAAATTTATATCTGCTTGGAACAACATGAAATATAGTAAGTATCATGTTTTAAAAATTGTATAAATCCAAAGAAAT',\n",
       "       'ACTTGTTCATGAATTATTTGGAAACAGTTCACAAGTAGGTAAGTTCTGTGGGAAAAATCATAACTATACTTATTTTAAA',\n",
       "       'TCTCGGTATCATCTGCAGAATATGGTACTAATGCAAAGGTAAGCCACATGTAGGGATTACCAGTTCAACAGATGCAAGC',\n",
       "       'AAAAGTCTTCTATGCAAACAGGTGCTGGTTTAAATCAGGTATGTATTTTATACACTGTAAACTGTAATAATTTGTTTCC',\n",
       "       'CACCTCTCTCAACTCTCTCCCTTAAGCACTGGGATCAGGTAAGTTTCCCTTATTGTTTATTTTATTGCACATGCCTTTG',\n",
       "       'AGATCCAAAGGAAGGAGGAGCTACCACCAAAGAGTCAGGTATGTTTTTAACTTAAGCTATGGAGCAACGTAAAAGATAC',\n",
       "       'TAGTAGGACTCTTTAAACCTTTTGTGGAAAGCTATCAGGTATGTAAATTTGGCAAGTTCTCCTTCATGCCCCCCATATC',\n",
       "       'GATCCAAAAGCATCCTTTGAGAATTGTATGAGTTATAGGTAAGTCAACAATTTAAATCAGGACATGACTTAATTCTTGT',\n",
       "       'TCACAGCTAAAGGAGCAGAGGAGACTCTTGGACCTCAGGTAAGCTTCAGGAAGAGGAGCAGGCTTCAAGTCTCACAGTG',\n",
       "       'AAAGCTAAAACCCTGCCACCTCAAAGCAATAATAAGAGGTAAGTCTTGTGGAACTACAGTATGACATTTAAAGCTTTGA',\n",
       "       'ATATTCACCAAGTCTTGACTCAGTCACCTTTTGTGCAGGTAAGCATTGGTGTCTGTTCAGTTGGCCCACAAATCTAGGT',\n",
       "       'GGCATACAGCAGGTGTATTAGCAGGATCTAGAATACGGGTAAGTTATACTTTTTAAAAAAAAAACTTTAAAattattat',\n",
       "       'CTGCGCTTGAACCTGTGCCTGAATACTACCCTAGAcaggttgagtattccctatctgaaatggctaggaccataagtgt',\n",
       "       'ACATCGGCAAACGTCAAAGTCCCAGCTTTCAAATACAGGTCTCTTCCAAAACTTACTCTCACATGATTCATAGGCTCCA',\n",
       "       'CATAATAGACGTGAGGATAAGAGAAGGAGGAAGGCCTACTAGCAATGTCGGCTTCATTTCCCAAACTGTGCTGAGGATA',\n",
       "       'CTAACCATCATATTTAGAACCAGCTGTTTACCAGAGTGGTAAGTTGGATTGTGTTTTATTTTGGTTTTTATTCTTCATT',\n",
       "       'ATATTCAGCTGGAGACCATTCCCTTGAAACTCTCTCAGGTATGCCCTTTCTTCTCAGTGGCATCTACTTACTGTCAAAC',\n",
       "       'ACACATTTTGGTTTTATacacacacacacacacacacacacacacacGAAAGACAAGTGGCAGCTGCAGGGATTGTGCT',\n",
       "       'ATACCATCTGTTGCAGACTGGGGTGCATGACATTTTAGGTAAGTAGCAGATGAAGATTTATGAAGCTGGGCCCTGAGGT',\n",
       "       'aatgtgcttcctactattcaTTGTTGCCCCGTCTCTAGGTAAGTCTTCTGTAATTTACATGCTTGTTGAAAGGATCTGT',\n",
       "       'CCCCCACCTTCTGGGATGTTAGCAGAGCCTTTTAACTGGTAAGTCTCTCCCAGGATGACTCGTAGGAGCCTCTCAGGAT',\n",
       "       'AAAGACTTGTCATTTGATCCATGTTCAAGACCCTTGAGGTATTGTTTCATCATTTCTGTATTGTCTTTCAATAAAGAAA',\n",
       "       'ATCTTTGCTTCAGTGGTTTTCTTTAAAGGCAAGCAAAGGTAAGTAAGCCATAACAAGTGTGCTTGGTTCAGATTTCTTC',\n",
       "       'TATTCAGATCATCGTGTTTGGGGAAGATACTGTGTAAGGTAAGTTTGCAGTCTTGATGCTGATCAATCGCAGGATGCTT',\n",
       "       'AGGAAACCACAATCTCACTGAAAATATACACTATTCAGGTAAGTACTAAGAGGTAAGTTAACCAAGCGCAAGCATGACT'],\n",
       "      dtype=object)"
      ]
     },
     "execution_count": 26,
     "metadata": {},
     "output_type": "execute_result"
    }
   ],
   "source": [
    "df_interest['reference_seq'].unique()"
   ]
  },
  {
   "cell_type": "code",
   "execution_count": 27,
   "id": "0e41685e-4af4-4f14-aeed-efcafdc1d0b7",
   "metadata": {},
   "outputs": [
    {
     "data": {
      "text/plain": [
       "dbsnp_id      ref_neucleotide                 alternative_neucleotide     reference_seq                                                                  \n",
       "rs1057516984  TT                              TTT                         TTTGAAAACTTGTCTCCAGGAAGTGTTATTATATTCAGGTATGTTAATTGAGCTCAAACTGTTGACTTTACTTATATTT     7\n",
       "rs10626387    T                               TCT                         AAAGACTTGTCATTTGATCCATGTTCAAGACCCTTGAGGTATTGTTTCATCATTTCTGTATTGTCTTTCAATAAAGAAA    15\n",
       "rs10668386    .                               TC                          AAAGACTTGTCATTTGATCCATGTTCAAGACCCTTGAGGTATTGTTTCATCATTTCTGTATTGTCTTTCAATAAAGAAA    15\n",
       "rs1158710364  TA                              TATA                        CTAACCATCATATTTAGAACCAGCTGTTTACCAGAGTGGTAAGTTGGATTGTGTTTTATTTTGGTTTTTATTCTTCATT     2\n",
       "rs1172687424  G                               T                           CTACTACTACTATTCTGCAAACGAGGAATTCAGACCAGGTAAGTACCCATGCGTCTCATTTTGGAGGAATAGGTTTAAA     5\n",
       "rs1197477113  .                               AG                          TCTCGGTATCATCTGCAGAATATGGTACTAATGCAAAGGTAAGCCACATGTAGGGATTACCAGTTCAACAGATGCAAGC     6\n",
       "rs1202559184  .                               CG                          TCTCTCAGTGGTCGCTATCTGGAGGAGCTTAGCCAAAGGTAAGCTTTATTATGAATTAGCACAGTCAGCTTCACACAGT     5\n",
       "rs1209017757  .                               A                           AGGAAACCACAATCTCACTGAAAATATACACTATTCAGGTAAGTACTAAGAGGTAAGTTAACCAAGCGCAAGCATGACT     1\n",
       "rs1212185079  TATTAT                          TAT                         GCTGAAAAATATTATGGCAACAAATGCATTATTCCATGGTAAGATACGTCTCATTATTGGAGTGTGTCTGAACATATAT     2\n",
       "rs1230423427  AA                              AAA                         TATTCAGATCATCGTGTTTGGGGAAGATACTGTGTAAGGTAAGTTTGCAGTCTTGATGCTGATCAATCGCAGGATGCTT     1\n",
       "rs1289052837  .                               C                           TCTGACCAGTGCTGCTGTGACGAATCTTTCAGTTACAGGTAAGCAGCTGCCAGGCCATGCACCTGCTGAGCACATGGGA     9\n",
       "rs1297116846  A                               AA                          CACCTCTCTCAACTCTCTCCCTTAAGCACTGGGATCAGGTAAGTTTCCCTTATTGTTTATTTTATTGCACATGCCTTTG    31\n",
       "rs1327345775  CC                              CCC                         GAGTGGAGCACTGTACATACCTGGCTGGATTGAGAATGGTAAGTAATTTGTAATAACATACCTGGCTTGTGCAAAAGCA     2\n",
       "rs1335012081  T                               C                           ATACCATCTGTTGCAGACTGGGGTGCATGACATTTTAGGTAAGTAGCAGATGAAGATTTATGAAGCTGGGCCCTGAGGT     7\n",
       "rs1367360018  .                               TA                          ATATTCAGCTGGAGACCATTCCCTTGAAACTCTCTCAGGTATGCCCTTTCTTCTCAGTGGCATCTACTTACTGTCAAAC     3\n",
       "rs1371540093  A                               AA                          ATATTCACCAAGTCTTGACTCAGTCACCTTTTGTGCAGGTAAGCATTGGTGTCTGTTCAGTTGGCCCACAAATCTAGGT     5\n",
       "rs1373911853  ACA                             ACACA                       GGCATACAGCAGGTGTATTAGCAGGATCTAGAATACGGGTAAGTTATACTTTTTAAAAAAAAAACTTTAAAattattat    12\n",
       "rs1375038646  .                               AA                          ACTTGTTCATGAATTATTTGGAAACAGTTCACAAGTAGGTAAGTTCTGTGGGAAAAATCATAACTATACTTATTTTAAA     6\n",
       "rs1390513841  AAA                             AAAA                        AGATCCAAAGGAAGGAGGAGCTACCACCAAAGAGTCAGGTATGTTTTTAACTTAAGCTATGGAGCAACGTAAAAGATAC     3\n",
       "rs141985486   ACACACACACACACACACACACACACACAC  ACACACACACACACACAC          ACACATTTTGGTTTTATacacacacacacacacacacacacacacacGAAAGACAAGTGGCAGCTGCAGGGATTGTGCT     3\n",
       "rs1436578674  T                               TT                          TAGTAGGACTCTTTAAACCTTTTGTGGAAAGCTATCAGGTATGTAAATTTGGCAAGTTCTCCTTCATGCCCCCCATATC     3\n",
       "rs1438467080  TACTACCCTA                      TA                          CTGCGCTTGAACCTGTGCCTGAATACTACCCTAGAcaggttgagtattccctatctgaaatggctaggaccataagtgt     6\n",
       "rs1445932658  .                               AA                          TCACATCCATCAGAGGATTGCTGATCACTCTTACCAAGGTATGTTTTATCACAGTGTTAAAAAGTACTGCTTATCATTT     5\n",
       "rs1490651176  .                               C                           CAGTATCTGATTTCCACCCAGTCAAAAAAATTGTCCAGGTAAGCACAATATCCCTATTTATTTTCAGTCCTACCTCAAG     5\n",
       "rs1553201305  C                               AA                          aatgtgcttcctactattcaTTGTTGCCCCGTCTCTAGGTAAGTCTTCTGTAATTTACATGCTTGTTGAAAGGATCTGT     2\n",
       "rs1640878857  .                               AA                          ATCTTTGCTTCAGTGGTTTTCTTTAAAGGCAAGCAAAGGTAAGTAAGCCATAACAAGTGTGCTTGGTTCAGATTTCTTC     1\n",
       "rs1640878887  .                               GCC                         ATCTTTGCTTCAGTGGTTTTCTTTAAAGGCAAGCAAAGGTAAGTAAGCCATAACAAGTGTGCTTGGTTCAGATTTCTTC     1\n",
       "rs1640951535  TTTT                            TTTTTT                      CCCCCACCTTCTGGGATGTTAGCAGAGCCTTTTAACTGGTAAGTCTCTCCCAGGATGACTCGTAGGAGCCTCTCAGGAT     2\n",
       "rs1643977254  .                               TTA                         ATATTCACCAAGTCTTGACTCAGTCACCTTTTGTGCAGGTAAGCATTGGTGTCTGTTCAGTTGGCCCACAAATCTAGGT     5\n",
       "rs1645467242  C                               A                           ATACCATCTGTTGCAGACTGGGGTGCATGACATTTTAGGTAAGTAGCAGATGAAGATTTATGAAGCTGGGCCCTGAGGT     7\n",
       "rs1648706534  .                               CT                          TCACAGCTAAAGGAGCAGAGGAGACTCTTGGACCTCAGGTAAGCTTCAGGAAGAGGAGCAGGCTTCAAGTCTCACAGTG     6\n",
       "rs1650105865  .                               TGAGGATGAGTGTGCTGGAAATGGCA  ACATCGGCAAACGTCAAAGTCCCAGCTTTCAAATACAGGTCTCTTCCAAAACTTACTCTCACATGATTCATAGGCTCCA     1\n",
       "rs202034790   TT                              TTTT                        AAAGACTTGTCATTTGATCCATGTTCAAGACCCTTGAGGTATTGTTTCATCATTTCTGTATTGTCTTTCAATAAAGAAA    15\n",
       "rs34979388    TT                              TTT                         aatgtgcttcctactattcaTTGTTGCCCCGTCTCTAGGTAAGTCTTCTGTAATTTACATGCTTGTTGAAAGGATCTGT     2\n",
       "rs35774161    .                               C                           AGATTTCACCTCTGCAAATATGAGAGATTCTGCAGAAGGTAAGCTTGTGATATTGGCTTGGTCTGAATTGGGTGTGTAT    12\n",
       "rs756626403   CCAGGTAAGTACCCA                 CCA                         CTACTACTACTATTCTGCAAACGAGGAATTCAGACCAGGTAAGTACCCATGCGTCTCATTTTGGAGGAATAGGTTTAAA     5\n",
       "rs757433704   T                               A                           CTACTACTACTATTCTGCAAACGAGGAATTCAGACCAGGTAAGTACCCATGCGTCTCATTTTGGAGGAATAGGTTTAAA     5\n",
       "rs759266909   .                               TT                          AAAAGTCTTCTATGCAAACAGGTGCTGGTTTAAATCAGGTATGTATTTTATACACTGTAAACTGTAATAATTTGTTTCC    21\n",
       "rs761296575   T                               TT                          AACCAAATTTATATCTGCTTGGAACAACATGAAATATAGTAAGTATCATGTTTTAAAAATTGTATAAATCCAAAGAAAT     4\n",
       "rs763481129   C                               T                           CTACTACTACTATTCTGCAAACGAGGAATTCAGACCAGGTAAGTACCCATGCGTCTCATTTTGGAGGAATAGGTTTAAA     5\n",
       "rs776835974   A                               AA                          GATCCAAAAGCATCCTTTGAGAATTGTATGAGTTATAGGTAAGTCAACAATTTAAATCAGGACATGACTTAATTCTTGT     4\n",
       "rs781957035   CACCA                           CACCACCA                    CTGGGTAATGCTGGTCACCAGCCTTGTGGCCCTTCAAGGTATGTCCAAAAGAGCCGTAAGCACCCCAAGCAATGAGGGT     5\n",
       "rs887819469   CCACC                           CCACCACC                    AAAGCTAAAACCCTGCCACCTCAAAGCAATAATAAGAGGTAAGTCTTGTGGAACTACAGTATGACATTTAAAGCTTTGA     6\n",
       "dtype: int64"
      ]
     },
     "execution_count": 27,
     "metadata": {},
     "output_type": "execute_result"
    }
   ],
   "source": [
    "df_interest.groupby(['dbsnp_id', 'ref_neucleotide','alternative_neucleotide',  'reference_seq']).size()"
   ]
  },
  {
   "cell_type": "code",
   "execution_count": 28,
   "id": "2c79d417-48ca-4e35-85a2-826b99911098",
   "metadata": {},
   "outputs": [
    {
     "data": {
      "text/plain": [
       "dbsnp_id      ref_neucleotide                 alternative_neucleotide   \n",
       "rs1057516984  TT                              TTT                            7\n",
       "rs10626387    T                               TCT                           15\n",
       "rs10668386    .                               TC                            15\n",
       "rs1158710364  TA                              TATA                           2\n",
       "rs1172687424  G                               T                              5\n",
       "rs1197477113  .                               AG                             6\n",
       "rs1202559184  .                               CG                             5\n",
       "rs1209017757  .                               A                              1\n",
       "rs1212185079  TATTAT                          TAT                            2\n",
       "rs1230423427  AA                              AAA                            1\n",
       "rs1289052837  .                               C                              9\n",
       "rs1297116846  A                               AA                            31\n",
       "rs1327345775  CC                              CCC                            2\n",
       "rs1335012081  T                               C                              7\n",
       "rs1367360018  .                               TA                             3\n",
       "rs1371540093  A                               AA                             5\n",
       "rs1373911853  ACA                             ACACA                         12\n",
       "rs1375038646  .                               AA                             6\n",
       "rs1390513841  AAA                             AAAA                           3\n",
       "rs141985486   ACACACACACACACACACACACACACACAC  ACACACACACACACACAC             3\n",
       "rs1436578674  T                               TT                             3\n",
       "rs1438467080  TACTACCCTA                      TA                             6\n",
       "rs1445932658  .                               AA                             5\n",
       "rs1490651176  .                               C                              5\n",
       "rs1553201305  C                               AA                             2\n",
       "rs1640878857  .                               AA                             1\n",
       "rs1640878887  .                               GCC                            1\n",
       "rs1640951535  TTTT                            TTTTTT                         2\n",
       "rs1643977254  .                               TTA                            5\n",
       "rs1645467242  C                               A                              7\n",
       "rs1648706534  .                               CT                             6\n",
       "rs1650105865  .                               TGAGGATGAGTGTGCTGGAAATGGCA     1\n",
       "rs202034790   TT                              TTTT                          15\n",
       "rs34979388    TT                              TTT                            2\n",
       "rs35774161    .                               C                             12\n",
       "rs756626403   CCAGGTAAGTACCCA                 CCA                            5\n",
       "rs757433704   T                               A                              5\n",
       "rs759266909   .                               TT                            21\n",
       "rs761296575   T                               TT                             4\n",
       "rs763481129   C                               T                              5\n",
       "rs776835974   A                               AA                             4\n",
       "rs781957035   CACCA                           CACCACCA                       5\n",
       "rs887819469   CCACC                           CCACCACC                       6\n",
       "dtype: int64"
      ]
     },
     "execution_count": 28,
     "metadata": {},
     "output_type": "execute_result"
    }
   ],
   "source": [
    "df_interest.groupby(['dbsnp_id', 'ref_neucleotide','alternative_neucleotide']).size()"
   ]
  },
  {
   "cell_type": "code",
   "execution_count": 157,
   "id": "0921c226-e30c-4bef-82f7-79fd59c47676",
   "metadata": {},
   "outputs": [
    {
     "name": "stdout",
     "output_type": "stream",
     "text": [
      "-0.267426781822307 0.7891405811788812\n"
     ]
    },
    {
     "data": {
      "image/png": "[encoded data removed]",
      "text/plain": [
       "<Figure size 640x480 with 1 Axes>"
      ]
     },
     "metadata": {},
     "output_type": "display_data"
    }
   ],
   "source": [
    "import numpy as np\n",
    "import matplotlib.pyplot as plt\n",
    "from scipy.stats import norm\n",
    "from statsmodels.stats.weightstats import ztest\n",
    "\n",
    "# Generate 1000 normally distributed data points\n",
    "mu, sigma = 0, 1 # mean and standard deviation\n",
    "s = np.random.normal(mu, sigma, 1000)\n",
    "\n",
    "# Perform the z test\n",
    "z_score, p_value = ztest(x1= s, value = mu)\n",
    "\n",
    "print(z_score, p_value)\n",
    "\n",
    "# # Generate data and plot the normal distribution\n",
    "x = np.linspace(-4, 4, 1000)\n",
    "y = norm.pdf(x, 0, 1)\n",
    "plt.plot(x, y)\n",
    "\n",
    "# Shade the two-tail regions\n",
    "plt.fill_between(x, 0, y, where=(x <= -abs(z_score)) | (x >= abs(z_score)), color='red', alpha=0.3)\n",
    "\n",
    "# # Mark the observed value\n",
    "plt.axvline(z_score, color='blue', linestyle='--', label=f'Observed z-score = {z_score:.2f}')\n",
    "plt.axvline(-z_score, color='blue', linestyle='--')\n",
    "\n",
    "plt.legend()\n",
    "plt.title('Two-tailed Z-test')\n",
    "plt.xlabel('Z-score')\n",
    "plt.ylabel('Probability density')\n",
    "plt.show()"
   ]
  },
  {
   "cell_type": "code",
   "execution_count": 168,
   "id": "b4d3d1fd-ec42-44fb-8577-8a9114330cd7",
   "metadata": {},
   "outputs": [
    {
     "name": "stdout",
     "output_type": "stream",
     "text": [
      "0.0 1.0\n",
      "1.959963984540054\n",
      "-1.9201628731122704 1.8585445470122721\n"
     ]
    },
    {
     "name": "stderr",
     "output_type": "stream",
     "text": [
      "/tmp/ipykernel_237056/578947367.py:17: UserWarning:\n",
      "\n",
      "\n",
      "\n",
      "`distplot` is a deprecated function and will be removed in seaborn v0.14.0.\n",
      "\n",
      "Please adapt your code to use either `displot` (a figure-level function with\n",
      "similar flexibility) or `kdeplot` (an axes-level function for kernel density plots).\n",
      "\n",
      "For a guide to updating your code to use the new functions, please see\n",
      "https://gist.github.com/mwaskom/de44147ed2974457ad6372750bbe5751\n",
      "\n",
      "\n",
      "/shared/software/anaconda/anaconda3/lib/python3.10/site-packages/seaborn/distributions.py:2511: FutureWarning:\n",
      "\n",
      "\n",
      "\n",
      "`shade` is now deprecated in favor of `fill`; setting `fill=True`.\n",
      "This will become an error in seaborn v0.14.0; please update your code.\n",
      "\n",
      "\n"
     ]
    },
    {
     "data": {
      "image/png": "[encoded data removed]",
      "text/plain": [
       "<Figure size 640x480 with 1 Axes>"
      ]
     },
     "metadata": {},
     "output_type": "display_data"
    }
   ],
   "source": [
    "import pandas as pd\n",
    "import numpy as np\n",
    "import matplotlib.pyplot as plt\n",
    "import seaborn as sns\n",
    "from scipy.stats import norm\n",
    "from statsmodels.stats.weightstats import ztest\n",
    "\n",
    "# Assume we have the following DataFrame\n",
    "df = pd.DataFrame({\n",
    "   'LogOddRatio': np.random.normal(0, 1, 1000)\n",
    "})\n",
    "\n",
    "# Perform the z test\n",
    "z_score, p_value = ztest(x1= df['LogOddRatio'], value =  df['LogOddRatio'].mean())\n",
    "print(z_score, p_value)\n",
    "# Plot the distribution of 'LogOddRatio'\n",
    "sns.distplot(df['LogOddRatio'], hist = False, kde = True, \n",
    "             kde_kws = {'shade': True, 'linewidth': 3})\n",
    "\n",
    "# Get the extreme values for a two tailed test at alpha = 0.05\n",
    "z_critical = norm.ppf(1 - 0.05/2) # two-tailed test at alpha = 0.05\n",
    "\n",
    "\n",
    "print(z_critical)\n",
    "x1, x2 = df['LogOddRatio'].mean() + z_critical*df['LogOddRatio'].std(), df['LogOddRatio'].mean() - z_critical*df['LogOddRatio'].std()\n",
    "print(x2, x1)\n",
    "# Shade the area for the two tailed test\n",
    "plt.axvspan(min(df['LogOddRatio']), x2, alpha=0.3, color='red')\n",
    "plt.axvspan(x1, max(df['LogOddRatio']), alpha=0.3, color='red')\n",
    "\n",
    "plt.title('Distribution of LogOddRatio')\n",
    "plt.show()\n"
   ]
  },
  {
   "cell_type": "code",
   "execution_count": null,
   "id": "ad11ff94-0a0a-4528-88d5-15a2d7aaac16",
   "metadata": {},
   "outputs": [],
   "source": []
  }
 ],
 "metadata": {
  "kernelspec": {
   "display_name": "Python 3 (ipykernel)",
   "language": "python",
   "name": "python3"
  },
  "language_info": {
   "codemirror_mode": {
    "name": "ipython",
    "version": 3
   },
   "file_extension": ".py",
   "mimetype": "text/x-python",
   "name": "python",
   "nbconvert_exporter": "python",
   "pygments_lexer": "ipython3",
   "version": "3.10.11"
  }
 },
 "nbformat": 4,
 "nbformat_minor": 5
}
