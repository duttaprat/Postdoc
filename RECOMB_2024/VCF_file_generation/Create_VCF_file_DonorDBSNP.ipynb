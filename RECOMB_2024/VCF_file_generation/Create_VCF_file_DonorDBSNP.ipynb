{
 "cells": [
  {
   "cell_type": "code",
   "execution_count": 1,
   "id": "6a8d39b1-357f-4f76-b564-72795875ec54",
   "metadata": {},
   "outputs": [],
   "source": [
    "import os, glob\n",
    "import pandas as pd\n",
    "from io import StringIO\n",
    "import pyBigWig\n",
    "import subprocess\n",
    "import pybedtools \n",
    "pybedtools.helpers.set_tempdir(\"/data/projects/temp\")"
   ]
  },
  {
   "cell_type": "code",
   "execution_count": 2,
   "id": "a76b2b24-06d0-406b-8247-cd359f252342",
   "metadata": {},
   "outputs": [],
   "source": [
    "enhancer_file_path = \"/data/projects/Enhancer/RECOMB_2024/Enhancer_BED.tsv\""
   ]
  },
  {
   "cell_type": "code",
   "execution_count": 3,
   "id": "09d5f2e4-6845-4398-b273-692882cf970d",
   "metadata": {},
   "outputs": [
    {
     "data": {
      "text/html": [
       "<div>\n",
       "<style scoped>\n",
       "    .dataframe tbody tr th:only-of-type {\n",
       "        vertical-align: middle;\n",
       "    }\n",
       "\n",
       "    .dataframe tbody tr th {\n",
       "        vertical-align: top;\n",
       "    }\n",
       "\n",
       "    .dataframe thead th {\n",
       "        text-align: right;\n",
       "    }\n",
       "</style>\n",
       "<table border=\"1\" class=\"dataframe\">\n",
       "  <thead>\n",
       "    <tr style=\"text-align: right;\">\n",
       "      <th></th>\n",
       "      <th>chromosome_name</th>\n",
       "      <th>enhancer_start</th>\n",
       "      <th>enhancer_end</th>\n",
       "    </tr>\n",
       "  </thead>\n",
       "  <tbody>\n",
       "    <tr>\n",
       "      <th>0</th>\n",
       "      <td>chr6</td>\n",
       "      <td>167157937</td>\n",
       "      <td>167158136</td>\n",
       "    </tr>\n",
       "    <tr>\n",
       "      <th>1</th>\n",
       "      <td>chr8</td>\n",
       "      <td>140206853</td>\n",
       "      <td>140207052</td>\n",
       "    </tr>\n",
       "    <tr>\n",
       "      <th>2</th>\n",
       "      <td>chr5</td>\n",
       "      <td>170638695</td>\n",
       "      <td>170638894</td>\n",
       "    </tr>\n",
       "    <tr>\n",
       "      <th>3</th>\n",
       "      <td>chr1</td>\n",
       "      <td>63043547</td>\n",
       "      <td>63043746</td>\n",
       "    </tr>\n",
       "    <tr>\n",
       "      <th>4</th>\n",
       "      <td>chr19</td>\n",
       "      <td>19238266</td>\n",
       "      <td>19238465</td>\n",
       "    </tr>\n",
       "    <tr>\n",
       "      <th>...</th>\n",
       "      <td>...</td>\n",
       "      <td>...</td>\n",
       "      <td>...</td>\n",
       "    </tr>\n",
       "    <tr>\n",
       "      <th>7774</th>\n",
       "      <td>chr1</td>\n",
       "      <td>204552002</td>\n",
       "      <td>204552201</td>\n",
       "    </tr>\n",
       "    <tr>\n",
       "      <th>7775</th>\n",
       "      <td>chr9</td>\n",
       "      <td>38725772</td>\n",
       "      <td>38725971</td>\n",
       "    </tr>\n",
       "    <tr>\n",
       "      <th>7776</th>\n",
       "      <td>chr7</td>\n",
       "      <td>27950006</td>\n",
       "      <td>27950205</td>\n",
       "    </tr>\n",
       "    <tr>\n",
       "      <th>7777</th>\n",
       "      <td>chr2</td>\n",
       "      <td>171047833</td>\n",
       "      <td>171048032</td>\n",
       "    </tr>\n",
       "    <tr>\n",
       "      <th>7778</th>\n",
       "      <td>chr15</td>\n",
       "      <td>41720338</td>\n",
       "      <td>41720537</td>\n",
       "    </tr>\n",
       "  </tbody>\n",
       "</table>\n",
       "<p>7779 rows × 3 columns</p>\n",
       "</div>"
      ],
      "text/plain": [
       "     chromosome_name  enhancer_start  enhancer_end\n",
       "0               chr6       167157937     167158136\n",
       "1               chr8       140206853     140207052\n",
       "2               chr5       170638695     170638894\n",
       "3               chr1        63043547      63043746\n",
       "4              chr19        19238266      19238465\n",
       "...              ...             ...           ...\n",
       "7774            chr1       204552002     204552201\n",
       "7775            chr9        38725772      38725971\n",
       "7776            chr7        27950006      27950205\n",
       "7777            chr2       171047833     171048032\n",
       "7778           chr15        41720338      41720537\n",
       "\n",
       "[7779 rows x 3 columns]"
      ]
     },
     "execution_count": 3,
     "metadata": {},
     "output_type": "execute_result"
    }
   ],
   "source": [
    "df_enhancer = pd.read_csv(enhancer_file_path, sep=\"\\t\")\n",
    "df_enhancer"
   ]
  },
  {
   "cell_type": "markdown",
   "id": "4328e006-2baf-4f0f-aaf9-4d488be6a25a",
   "metadata": {},
   "source": [
    "## For Donor region"
   ]
  },
  {
   "cell_type": "code",
   "execution_count": 5,
   "id": "a8207a85-cd2b-4538-986d-ad237d9066a6",
   "metadata": {},
   "outputs": [],
   "source": [
    "df_donor = pd.read_csv(\"/data/private/pdutta/DNABERT_data/Splice_sites/Donor_raw_files/Donor_80BP_bed.tsv\", sep=\"\\t\")"
   ]
  },
  {
   "cell_type": "code",
   "execution_count": 6,
   "id": "47b165ee-3113-4af0-bbd1-34fd2c53b3dd",
   "metadata": {},
   "outputs": [
    {
     "data": {
      "text/html": [
       "<div>\n",
       "<style scoped>\n",
       "    .dataframe tbody tr th:only-of-type {\n",
       "        vertical-align: middle;\n",
       "    }\n",
       "\n",
       "    .dataframe tbody tr th {\n",
       "        vertical-align: top;\n",
       "    }\n",
       "\n",
       "    .dataframe thead th {\n",
       "        text-align: right;\n",
       "    }\n",
       "</style>\n",
       "<table border=\"1\" class=\"dataframe\">\n",
       "  <thead>\n",
       "    <tr style=\"text-align: right;\">\n",
       "      <th></th>\n",
       "      <th>transcript_id</th>\n",
       "      <th>exon_id</th>\n",
       "      <th>transcript_type</th>\n",
       "      <th>strand</th>\n",
       "      <th>chr_name</th>\n",
       "      <th>Donor_80BP</th>\n",
       "      <th>start</th>\n",
       "      <th>end</th>\n",
       "    </tr>\n",
       "  </thead>\n",
       "  <tbody>\n",
       "    <tr>\n",
       "      <th>0</th>\n",
       "      <td>ENST00000003583.12</td>\n",
       "      <td>ENSE00001879255.1</td>\n",
       "      <td>protein_coding</td>\n",
       "      <td>-</td>\n",
       "      <td>chr1</td>\n",
       "      <td>AGGTTGGGCTGGCCAGATTCAGCTGCCGGGACCGGACCAGGTAGGA...</td>\n",
       "      <td>24413634</td>\n",
       "      <td>24413713</td>\n",
       "    </tr>\n",
       "    <tr>\n",
       "      <th>1</th>\n",
       "      <td>ENST00000003583.12</td>\n",
       "      <td>ENSE00003692979.1</td>\n",
       "      <td>protein_coding</td>\n",
       "      <td>-</td>\n",
       "      <td>chr1</td>\n",
       "      <td>ACTGGCAAACATCCCAGACGTGCCAGTGAAGTACAGAAAGGTACAT...</td>\n",
       "      <td>24401279</td>\n",
       "      <td>24401358</td>\n",
       "    </tr>\n",
       "    <tr>\n",
       "      <th>2</th>\n",
       "      <td>ENST00000003583.12</td>\n",
       "      <td>ENSE00003638911.1</td>\n",
       "      <td>protein_coding</td>\n",
       "      <td>-</td>\n",
       "      <td>chr1</td>\n",
       "      <td>CTCATTGTCCAAGAAAGGAACTTGCATGTTTCCCTCAATGGTGAGA...</td>\n",
       "      <td>24383862</td>\n",
       "      <td>24383941</td>\n",
       "    </tr>\n",
       "    <tr>\n",
       "      <th>3</th>\n",
       "      <td>ENST00000003583.12</td>\n",
       "      <td>ENSE00003688858.1</td>\n",
       "      <td>protein_coding</td>\n",
       "      <td>-</td>\n",
       "      <td>chr1</td>\n",
       "      <td>AGCTCTCAAGTTTGAAACTCCTGCACCAAACTATTACAATGTAAGA...</td>\n",
       "      <td>24379613</td>\n",
       "      <td>24379692</td>\n",
       "    </tr>\n",
       "    <tr>\n",
       "      <th>4</th>\n",
       "      <td>ENST00000003583.12</td>\n",
       "      <td>ENSE00003631141.1</td>\n",
       "      <td>protein_coding</td>\n",
       "      <td>-</td>\n",
       "      <td>chr1</td>\n",
       "      <td>AGAGGATCTTTCGCTTTTGCTGATAAAGGACCTCCCCCAGGTAAGC...</td>\n",
       "      <td>24373662</td>\n",
       "      <td>24373741</td>\n",
       "    </tr>\n",
       "    <tr>\n",
       "      <th>...</th>\n",
       "      <td>...</td>\n",
       "      <td>...</td>\n",
       "      <td>...</td>\n",
       "      <td>...</td>\n",
       "      <td>...</td>\n",
       "      <td>...</td>\n",
       "      <td>...</td>\n",
       "      <td>...</td>\n",
       "    </tr>\n",
       "    <tr>\n",
       "      <th>1242776</th>\n",
       "      <td>ENST00000684226.1</td>\n",
       "      <td>ENSE00003771339.1</td>\n",
       "      <td>non_stop_decay</td>\n",
       "      <td>-</td>\n",
       "      <td>chrY</td>\n",
       "      <td>TGGTGCAATAACATTGCCTGGAATGTTGGTCCACTTACAGGTATTC...</td>\n",
       "      <td>13298917</td>\n",
       "      <td>13298996</td>\n",
       "    </tr>\n",
       "    <tr>\n",
       "      <th>1242777</th>\n",
       "      <td>ENST00000684226.1</td>\n",
       "      <td>ENSE00003767626.1</td>\n",
       "      <td>non_stop_decay</td>\n",
       "      <td>-</td>\n",
       "      <td>chrY</td>\n",
       "      <td>ATATCAAAGTCTCAGATCCAAAGCTTTTTGAAATGATTAAGTAAGT...</td>\n",
       "      <td>13297667</td>\n",
       "      <td>13297746</td>\n",
       "    </tr>\n",
       "    <tr>\n",
       "      <th>1242778</th>\n",
       "      <td>ENST00000684226.1</td>\n",
       "      <td>ENSE00003761778.1</td>\n",
       "      <td>non_stop_decay</td>\n",
       "      <td>-</td>\n",
       "      <td>chrY</td>\n",
       "      <td>GACAAATGATGAACCAGCTCATTACTGTAGCATTTGTGAGGTGAGT...</td>\n",
       "      <td>13260238</td>\n",
       "      <td>13260317</td>\n",
       "    </tr>\n",
       "    <tr>\n",
       "      <th>1242779</th>\n",
       "      <td>ENST00000684226.1</td>\n",
       "      <td>ENSE00001713248.1</td>\n",
       "      <td>non_stop_decay</td>\n",
       "      <td>-</td>\n",
       "      <td>chrY</td>\n",
       "      <td>AATGGAGGACCTAATCCAAGTTTATGATCAATTTACACTAGTAAGT...</td>\n",
       "      <td>13250977</td>\n",
       "      <td>13251056</td>\n",
       "    </tr>\n",
       "    <tr>\n",
       "      <th>1242780</th>\n",
       "      <td>ENST00000684326.1</td>\n",
       "      <td>ENSE00003921366.1</td>\n",
       "      <td>processed_transcript</td>\n",
       "      <td>-</td>\n",
       "      <td>chrY</td>\n",
       "      <td>GTTGCTGTGATGTTAACCTGAGCAGCTTCAGTGAAATAAGGTACTT...</td>\n",
       "      <td>13245175</td>\n",
       "      <td>13245254</td>\n",
       "    </tr>\n",
       "  </tbody>\n",
       "</table>\n",
       "<p>1242781 rows × 8 columns</p>\n",
       "</div>"
      ],
      "text/plain": [
       "              transcript_id            exon_id       transcript_type strand  \\\n",
       "0        ENST00000003583.12  ENSE00001879255.1        protein_coding      -   \n",
       "1        ENST00000003583.12  ENSE00003692979.1        protein_coding      -   \n",
       "2        ENST00000003583.12  ENSE00003638911.1        protein_coding      -   \n",
       "3        ENST00000003583.12  ENSE00003688858.1        protein_coding      -   \n",
       "4        ENST00000003583.12  ENSE00003631141.1        protein_coding      -   \n",
       "...                     ...                ...                   ...    ...   \n",
       "1242776   ENST00000684226.1  ENSE00003771339.1        non_stop_decay      -   \n",
       "1242777   ENST00000684226.1  ENSE00003767626.1        non_stop_decay      -   \n",
       "1242778   ENST00000684226.1  ENSE00003761778.1        non_stop_decay      -   \n",
       "1242779   ENST00000684226.1  ENSE00001713248.1        non_stop_decay      -   \n",
       "1242780   ENST00000684326.1  ENSE00003921366.1  processed_transcript      -   \n",
       "\n",
       "        chr_name                                         Donor_80BP     start  \\\n",
       "0           chr1  AGGTTGGGCTGGCCAGATTCAGCTGCCGGGACCGGACCAGGTAGGA...  24413634   \n",
       "1           chr1  ACTGGCAAACATCCCAGACGTGCCAGTGAAGTACAGAAAGGTACAT...  24401279   \n",
       "2           chr1  CTCATTGTCCAAGAAAGGAACTTGCATGTTTCCCTCAATGGTGAGA...  24383862   \n",
       "3           chr1  AGCTCTCAAGTTTGAAACTCCTGCACCAAACTATTACAATGTAAGA...  24379613   \n",
       "4           chr1  AGAGGATCTTTCGCTTTTGCTGATAAAGGACCTCCCCCAGGTAAGC...  24373662   \n",
       "...          ...                                                ...       ...   \n",
       "1242776     chrY  TGGTGCAATAACATTGCCTGGAATGTTGGTCCACTTACAGGTATTC...  13298917   \n",
       "1242777     chrY  ATATCAAAGTCTCAGATCCAAAGCTTTTTGAAATGATTAAGTAAGT...  13297667   \n",
       "1242778     chrY  GACAAATGATGAACCAGCTCATTACTGTAGCATTTGTGAGGTGAGT...  13260238   \n",
       "1242779     chrY  AATGGAGGACCTAATCCAAGTTTATGATCAATTTACACTAGTAAGT...  13250977   \n",
       "1242780     chrY  GTTGCTGTGATGTTAACCTGAGCAGCTTCAGTGAAATAAGGTACTT...  13245175   \n",
       "\n",
       "              end  \n",
       "0        24413713  \n",
       "1        24401358  \n",
       "2        24383941  \n",
       "3        24379692  \n",
       "4        24373741  \n",
       "...           ...  \n",
       "1242776  13298996  \n",
       "1242777  13297746  \n",
       "1242778  13260317  \n",
       "1242779  13251056  \n",
       "1242780  13245254  \n",
       "\n",
       "[1242781 rows x 8 columns]"
      ]
     },
     "execution_count": 6,
     "metadata": {},
     "output_type": "execute_result"
    }
   ],
   "source": [
    "df_donor"
   ]
  },
  {
   "cell_type": "code",
   "execution_count": 7,
   "id": "bc69fc78-1890-4b06-86a2-f71351ae79a9",
   "metadata": {},
   "outputs": [],
   "source": [
    "str_io_donor = StringIO()\n",
    "df_donor[['chr_name','start','end','transcript_id','strand']].to_csv(str_io_donor, sep='\\t', index=False, header=False)\n",
    "str_io_donor.seek(0)\n",
    "donor_bed = pybedtools.BedTool(str_io_donor.read(), from_string=True)"
   ]
  },
  {
   "cell_type": "code",
   "execution_count": 8,
   "id": "109848c6-a7cb-4d9c-8f8f-200af8e09903",
   "metadata": {},
   "outputs": [],
   "source": [
    "str_io_enhancer = StringIO()\n",
    "df_enhancer[['chromosome_name','enhancer_start','enhancer_end']].to_csv(str_io_enhancer, sep='\\t', index=False, header=False)\n",
    "str_io_enhancer.seek(0)\n",
    "enhancer_bed = pybedtools.BedTool(str_io_enhancer.read(), from_string=True)"
   ]
  },
  {
   "cell_type": "code",
   "execution_count": 9,
   "id": "36b2b0e0-1bbd-42d6-9bb0-06b246425960",
   "metadata": {},
   "outputs": [],
   "source": [
    "# intersect the files\n",
    "intersect_bed = donor_bed.intersect(enhancer_bed, wa=True, wb=True)"
   ]
  },
  {
   "cell_type": "code",
   "execution_count": 10,
   "id": "6aad9956-4fd8-42f5-a6eb-c0347b087139",
   "metadata": {},
   "outputs": [
    {
     "name": "stdout",
     "output_type": "stream",
     "text": [
      "chr1\t33726507\t33726586\tENST00000241312.8\t-\tchr1\t33726337\t33726536\n",
      "\n",
      "chr1\t215579961\t215580040\tENST00000259154.9\t+\tchr1\t215579785\t215579984\n",
      "\n",
      "chr1\t3756852\t3756931\tENST00000294600.7\t+\tchr1\t3756901\t3757100\n",
      "\n",
      "chr1\t160349632\t160349711\tENST00000294785.10\t+\tchr1\t160349523\t160349722\n",
      "\n",
      "chr1\t178513189\t178513268\tENST00000319416.7\t+\tchr1\t178513034\t178513233\n",
      "\n"
     ]
    }
   ],
   "source": [
    "for i, interval in enumerate(intersect_bed):\n",
    "    if i < 5:\n",
    "        print(interval)\n",
    "    else:\n",
    "        break"
   ]
  },
  {
   "cell_type": "code",
   "execution_count": 11,
   "id": "2cf26c0e-fa27-4924-8252-917ac84381c9",
   "metadata": {},
   "outputs": [],
   "source": [
    "intersect_df = intersect_bed.to_dataframe()"
   ]
  },
  {
   "cell_type": "code",
   "execution_count": 12,
   "id": "352de618-77d4-4153-b941-088fce482403",
   "metadata": {},
   "outputs": [
    {
     "data": {
      "text/html": [
       "<div>\n",
       "<style scoped>\n",
       "    .dataframe tbody tr th:only-of-type {\n",
       "        vertical-align: middle;\n",
       "    }\n",
       "\n",
       "    .dataframe tbody tr th {\n",
       "        vertical-align: top;\n",
       "    }\n",
       "\n",
       "    .dataframe thead th {\n",
       "        text-align: right;\n",
       "    }\n",
       "</style>\n",
       "<table border=\"1\" class=\"dataframe\">\n",
       "  <thead>\n",
       "    <tr style=\"text-align: right;\">\n",
       "      <th></th>\n",
       "      <th>chrom</th>\n",
       "      <th>start</th>\n",
       "      <th>end</th>\n",
       "      <th>name</th>\n",
       "      <th>score</th>\n",
       "      <th>strand</th>\n",
       "      <th>thickStart</th>\n",
       "      <th>thickEnd</th>\n",
       "    </tr>\n",
       "  </thead>\n",
       "  <tbody>\n",
       "    <tr>\n",
       "      <th>0</th>\n",
       "      <td>chr1</td>\n",
       "      <td>33726507</td>\n",
       "      <td>33726586</td>\n",
       "      <td>ENST00000241312.8</td>\n",
       "      <td>-</td>\n",
       "      <td>chr1</td>\n",
       "      <td>33726337</td>\n",
       "      <td>33726536</td>\n",
       "    </tr>\n",
       "    <tr>\n",
       "      <th>1</th>\n",
       "      <td>chr1</td>\n",
       "      <td>215579961</td>\n",
       "      <td>215580040</td>\n",
       "      <td>ENST00000259154.9</td>\n",
       "      <td>+</td>\n",
       "      <td>chr1</td>\n",
       "      <td>215579785</td>\n",
       "      <td>215579984</td>\n",
       "    </tr>\n",
       "    <tr>\n",
       "      <th>2</th>\n",
       "      <td>chr1</td>\n",
       "      <td>3756852</td>\n",
       "      <td>3756931</td>\n",
       "      <td>ENST00000294600.7</td>\n",
       "      <td>+</td>\n",
       "      <td>chr1</td>\n",
       "      <td>3756901</td>\n",
       "      <td>3757100</td>\n",
       "    </tr>\n",
       "    <tr>\n",
       "      <th>3</th>\n",
       "      <td>chr1</td>\n",
       "      <td>160349632</td>\n",
       "      <td>160349711</td>\n",
       "      <td>ENST00000294785.10</td>\n",
       "      <td>+</td>\n",
       "      <td>chr1</td>\n",
       "      <td>160349523</td>\n",
       "      <td>160349722</td>\n",
       "    </tr>\n",
       "    <tr>\n",
       "      <th>4</th>\n",
       "      <td>chr1</td>\n",
       "      <td>178513189</td>\n",
       "      <td>178513268</td>\n",
       "      <td>ENST00000319416.7</td>\n",
       "      <td>+</td>\n",
       "      <td>chr1</td>\n",
       "      <td>178513034</td>\n",
       "      <td>178513233</td>\n",
       "    </tr>\n",
       "    <tr>\n",
       "      <th>...</th>\n",
       "      <td>...</td>\n",
       "      <td>...</td>\n",
       "      <td>...</td>\n",
       "      <td>...</td>\n",
       "      <td>...</td>\n",
       "      <td>...</td>\n",
       "      <td>...</td>\n",
       "      <td>...</td>\n",
       "    </tr>\n",
       "    <tr>\n",
       "      <th>1137</th>\n",
       "      <td>chrX</td>\n",
       "      <td>103722112</td>\n",
       "      <td>103722191</td>\n",
       "      <td>ENST00000674363.1</td>\n",
       "      <td>-</td>\n",
       "      <td>chrX</td>\n",
       "      <td>103722176</td>\n",
       "      <td>103722375</td>\n",
       "    </tr>\n",
       "    <tr>\n",
       "      <th>1138</th>\n",
       "      <td>chrX</td>\n",
       "      <td>103722112</td>\n",
       "      <td>103722191</td>\n",
       "      <td>ENST00000674469.1</td>\n",
       "      <td>-</td>\n",
       "      <td>chrX</td>\n",
       "      <td>103722176</td>\n",
       "      <td>103722375</td>\n",
       "    </tr>\n",
       "    <tr>\n",
       "      <th>1139</th>\n",
       "      <td>chrX</td>\n",
       "      <td>103722112</td>\n",
       "      <td>103722191</td>\n",
       "      <td>ENST00000674488.1</td>\n",
       "      <td>-</td>\n",
       "      <td>chrX</td>\n",
       "      <td>103722176</td>\n",
       "      <td>103722375</td>\n",
       "    </tr>\n",
       "    <tr>\n",
       "      <th>1140</th>\n",
       "      <td>chrX</td>\n",
       "      <td>153543130</td>\n",
       "      <td>153543209</td>\n",
       "      <td>ENST00000683064.1</td>\n",
       "      <td>+</td>\n",
       "      <td>chrX</td>\n",
       "      <td>153543012</td>\n",
       "      <td>153543211</td>\n",
       "    </tr>\n",
       "    <tr>\n",
       "      <th>1141</th>\n",
       "      <td>chrX</td>\n",
       "      <td>153543130</td>\n",
       "      <td>153543209</td>\n",
       "      <td>ENST00000684004.1</td>\n",
       "      <td>+</td>\n",
       "      <td>chrX</td>\n",
       "      <td>153543012</td>\n",
       "      <td>153543211</td>\n",
       "    </tr>\n",
       "  </tbody>\n",
       "</table>\n",
       "<p>1142 rows × 8 columns</p>\n",
       "</div>"
      ],
      "text/plain": [
       "     chrom      start        end                name score strand  thickStart  \\\n",
       "0     chr1   33726507   33726586   ENST00000241312.8     -   chr1    33726337   \n",
       "1     chr1  215579961  215580040   ENST00000259154.9     +   chr1   215579785   \n",
       "2     chr1    3756852    3756931   ENST00000294600.7     +   chr1     3756901   \n",
       "3     chr1  160349632  160349711  ENST00000294785.10     +   chr1   160349523   \n",
       "4     chr1  178513189  178513268   ENST00000319416.7     +   chr1   178513034   \n",
       "...    ...        ...        ...                 ...   ...    ...         ...   \n",
       "1137  chrX  103722112  103722191   ENST00000674363.1     -   chrX   103722176   \n",
       "1138  chrX  103722112  103722191   ENST00000674469.1     -   chrX   103722176   \n",
       "1139  chrX  103722112  103722191   ENST00000674488.1     -   chrX   103722176   \n",
       "1140  chrX  153543130  153543209   ENST00000683064.1     +   chrX   153543012   \n",
       "1141  chrX  153543130  153543209   ENST00000684004.1     +   chrX   153543012   \n",
       "\n",
       "       thickEnd  \n",
       "0      33726536  \n",
       "1     215579984  \n",
       "2       3757100  \n",
       "3     160349722  \n",
       "4     178513233  \n",
       "...         ...  \n",
       "1137  103722375  \n",
       "1138  103722375  \n",
       "1139  103722375  \n",
       "1140  153543211  \n",
       "1141  153543211  \n",
       "\n",
       "[1142 rows x 8 columns]"
      ]
     },
     "execution_count": 12,
     "metadata": {},
     "output_type": "execute_result"
    }
   ],
   "source": [
    "intersect_df"
   ]
  },
  {
   "cell_type": "code",
   "execution_count": 13,
   "id": "6fb86814-5210-4192-a307-2ac5d8011f2f",
   "metadata": {},
   "outputs": [],
   "source": [
    "intersect_df.to_csv(\"/data/projects/Enhancer/RECOMB_2024/Intersected_data/Donor_Enhancer_intersect.tsv\", sep='\\t', index=False)"
   ]
  },
  {
   "cell_type": "code",
   "execution_count": 14,
   "id": "c49d372d-31da-484a-bc1e-06d2a9cbbc8a",
   "metadata": {},
   "outputs": [],
   "source": [
    "chr_wise_DBSNP_files = glob.glob('/data/projects/VCF_files/DBSNP/ChrWise_Data/*.csv')"
   ]
  },
  {
   "cell_type": "code",
   "execution_count": 15,
   "id": "5fbeb40a-4ce5-412b-9e3a-4659d0d4cab9",
   "metadata": {},
   "outputs": [
    {
     "name": "stdout",
     "output_type": "stream",
     "text": [
      "/data/projects/VCF_files/DBSNP/ChrWise_Data/chr7_data.csv\n"
     ]
    },
    {
     "name": "stderr",
     "output_type": "stream",
     "text": [
      "/data/projects/temp/ipykernel_1146979/975069523.py:4: DtypeWarning: Columns (1,2,5) have mixed types. Specify dtype option on import or set low_memory=False.\n",
      "  df = pd.read_csv(dbsnp_file, header=None, sep= ',', usecols=[0, 1, 2, 3, 4, 5,6])\n"
     ]
    },
    {
     "name": "stdout",
     "output_type": "stream",
     "text": [
      "      0      1      2             3  4  5   6\n",
      "1  chr7  10001  10002  rs1583156258  T  1  C,\n",
      "2  chr7  10002  10003  rs1583156262  A  1  G,\n",
      "3  chr7  10003  10004  rs1583156265  A  1  C,\n",
      "4  chr7  10004  10005  rs1583156268  C  1  A,\n",
      "5  chr7  10006  10007  rs1781584841  C  1  T,\n",
      "/data/projects/VCF_files/DBSNP/ChrWise_Data/chr13_data.csv\n"
     ]
    },
    {
     "name": "stderr",
     "output_type": "stream",
     "text": [
      "/data/projects/temp/ipykernel_1146979/975069523.py:4: DtypeWarning: Columns (1,2,5) have mixed types. Specify dtype option on import or set low_memory=False.\n",
      "  df = pd.read_csv(dbsnp_file, header=None, sep= ',', usecols=[0, 1, 2, 3, 4, 5,6])\n"
     ]
    },
    {
     "name": "stdout",
     "output_type": "stream",
     "text": [
      "       0         1         2             3  4  5   6\n",
      "1  chr13  16000025  16000026  rs1175737345  T  1  A,\n",
      "2  chr13  16000063  16000064  rs1957610123  G  1  A,\n",
      "3  chr13  16000079  16000080  rs1957610132  G  1  T,\n",
      "4  chr13  16000081  16000082  rs1957610136  A  1  C,\n",
      "5  chr13  16000100  16000101  rs1957610144  T  1  C,\n",
      "/data/projects/VCF_files/DBSNP/ChrWise_Data/chrY_data.csv\n"
     ]
    },
    {
     "name": "stderr",
     "output_type": "stream",
     "text": [
      "/data/projects/temp/ipykernel_1146979/975069523.py:4: DtypeWarning: Columns (1,2,5) have mixed types. Specify dtype option on import or set low_memory=False.\n",
      "  df = pd.read_csv(dbsnp_file, header=None, sep= ',', usecols=[0, 1, 2, 3, 4, 5,6])\n"
     ]
    },
    {
     "name": "stdout",
     "output_type": "stream",
     "text": [
      "      0      1      2             3  4  5     6\n",
      "1  chrY  10001  10002  rs1226858834  T  1    A,\n",
      "2  chrY  10002  10003   rs375039031  A  2  C,G,\n",
      "3  chrY  10006  10007  rs1422184628  C  1    G,\n",
      "4  chrY  10007  10008  rs1179917603  T  1    G,\n",
      "5  chrY  10008  10009   rs565284081  A  2  C,G,\n",
      "/data/projects/VCF_files/DBSNP/ChrWise_Data/chrX_data.csv\n"
     ]
    },
    {
     "name": "stderr",
     "output_type": "stream",
     "text": [
      "/data/projects/temp/ipykernel_1146979/975069523.py:4: DtypeWarning: Columns (1,2,5) have mixed types. Specify dtype option on import or set low_memory=False.\n",
      "  df = pd.read_csv(dbsnp_file, header=None, sep= ',', usecols=[0, 1, 2, 3, 4, 5,6])\n"
     ]
    },
    {
     "name": "stdout",
     "output_type": "stream",
     "text": [
      "      0      1      2             3  4  5     6\n",
      "1  chrX  10001  10002  rs1226858834  T  1    A,\n",
      "2  chrX  10002  10003   rs375039031  A  2  C,G,\n",
      "3  chrX  10006  10007  rs1422184628  C  1    G,\n",
      "4  chrX  10007  10008  rs1179917603  T  1    G,\n",
      "5  chrX  10008  10009   rs565284081  A  2  C,G,\n",
      "/data/projects/VCF_files/DBSNP/ChrWise_Data/chr15_data.csv\n"
     ]
    },
    {
     "name": "stderr",
     "output_type": "stream",
     "text": [
      "/data/projects/temp/ipykernel_1146979/975069523.py:4: DtypeWarning: Columns (1,2,5) have mixed types. Specify dtype option on import or set low_memory=False.\n",
      "  df = pd.read_csv(dbsnp_file, header=None, sep= ',', usecols=[0, 1, 2, 3, 4, 5,6])\n"
     ]
    },
    {
     "name": "stdout",
     "output_type": "stream",
     "text": [
      "       0         1         2             3  4  5     6\n",
      "1  chr15  17000014  17000015  rs1566750235  A  1   AA,\n",
      "2  chr15  17000025  17000026  rs2044609058  T  1    G,\n",
      "3  chr15  17000028  17000029  rs1464642334  G  1    T,\n",
      "4  chr15  17000037  17000038  rs1427739243  T  2  A,C,\n",
      "5  chr15  17000048  17000049  rs2044609081  T  1    C,\n",
      "/data/projects/VCF_files/DBSNP/ChrWise_Data/chr6_data.csv\n"
     ]
    },
    {
     "name": "stderr",
     "output_type": "stream",
     "text": [
      "/data/projects/temp/ipykernel_1146979/975069523.py:4: DtypeWarning: Columns (1,2,5) have mixed types. Specify dtype option on import or set low_memory=False.\n",
      "  df = pd.read_csv(dbsnp_file, header=None, sep= ',', usecols=[0, 1, 2, 3, 4, 5,6])\n"
     ]
    },
    {
     "name": "stdout",
     "output_type": "stream",
     "text": [
      "      0      1      2             3  4  5   6\n",
      "1  chr6  61733  61734  rs1761792635  C  1  T,\n",
      "2  chr6  61734  61735  rs1357314184  T  1  A,\n",
      "3  chr6  61753  61754  rs1761792694  G  1  A,\n",
      "4  chr6  61754  61755  rs1269839351  G  1  T,\n",
      "5  chr6  61761  61762  rs1761792734  T  1  A,\n",
      "/data/projects/VCF_files/DBSNP/ChrWise_Data/chr19_data.csv\n"
     ]
    },
    {
     "name": "stderr",
     "output_type": "stream",
     "text": [
      "/data/projects/temp/ipykernel_1146979/975069523.py:4: DtypeWarning: Columns (1,2,5) have mixed types. Specify dtype option on import or set low_memory=False.\n",
      "  df = pd.read_csv(dbsnp_file, header=None, sep= ',', usecols=[0, 1, 2, 3, 4, 5,6])\n"
     ]
    },
    {
     "name": "stdout",
     "output_type": "stream",
     "text": [
      "       0      1      2             3  4  5   6\n",
      "1  chr19  60061  60062  rs1555674440  G  1  C,\n",
      "2  chr19  60172  60173  rs1371922052  G  1  A,\n",
      "3  chr19  60222  60223  rs1187548881  A  1  G,\n",
      "4  chr19  60250  60251  rs1310995734  G  1  A,\n",
      "5  chr19  60318  60319  rs1244952011  C  1  T,\n",
      "/data/projects/VCF_files/DBSNP/ChrWise_Data/chr1_data.csv\n"
     ]
    },
    {
     "name": "stderr",
     "output_type": "stream",
     "text": [
      "/data/projects/temp/ipykernel_1146979/975069523.py:4: DtypeWarning: Columns (1,2,5) have mixed types. Specify dtype option on import or set low_memory=False.\n",
      "  df = pd.read_csv(dbsnp_file, header=None, sep= ',', usecols=[0, 1, 2, 3, 4, 5,6])\n"
     ]
    },
    {
     "name": "stdout",
     "output_type": "stream",
     "text": [
      "      0      1      2             3  4  5       6\n",
      "1  chr1  10000  10001  rs1570391677  T  2    A,C,\n",
      "2  chr1  10001  10002  rs1570391692  A  1      C,\n",
      "3  chr1  10002  10003  rs1570391694  A  1      C,\n",
      "4  chr1  10006  10007  rs1639538116  T  2    C,G,\n",
      "5  chr1  10007  10008  rs1570391698  A  3  C,G,T,\n",
      "/data/projects/VCF_files/DBSNP/ChrWise_Data/chr5_data.csv\n"
     ]
    },
    {
     "name": "stderr",
     "output_type": "stream",
     "text": [
      "/data/projects/temp/ipykernel_1146979/975069523.py:4: DtypeWarning: Columns (1,2,5) have mixed types. Specify dtype option on import or set low_memory=False.\n",
      "  df = pd.read_csv(dbsnp_file, header=None, sep= ',', usecols=[0, 1, 2, 3, 4, 5,6])\n"
     ]
    },
    {
     "name": "stdout",
     "output_type": "stream",
     "text": [
      "      0      1      2             3  4  5     6\n",
      "1  chr5  10017  10018  rs1658455299  C  1    A,\n",
      "2  chr5  10020  10021  rs1742866267  A  1    G,\n",
      "3  chr5  10021  10022  rs1742866288  C  1    A,\n",
      "4  chr5  10022  10023  rs1742866315  C  2  A,G,\n",
      "5  chr5  10023  10024  rs1742866334  C  1    A,\n",
      "/data/projects/VCF_files/DBSNP/ChrWise_Data/chr12_data.csv\n"
     ]
    },
    {
     "name": "stderr",
     "output_type": "stream",
     "text": [
      "/data/projects/temp/ipykernel_1146979/975069523.py:4: DtypeWarning: Columns (1,2,5) have mixed types. Specify dtype option on import or set low_memory=False.\n",
      "  df = pd.read_csv(dbsnp_file, header=None, sep= ',', usecols=[0, 1, 2, 3, 4, 5,6])\n"
     ]
    },
    {
     "name": "stdout",
     "output_type": "stream",
     "text": [
      "       0      1      2             3  4  5   6\n",
      "1  chr12  10009  10010  rs1591589648  A  1  G,\n",
      "2  chr12  10015  10016  rs1862308353  A  1  G,\n",
      "3  chr12  10016  10017  rs1591589651  C  1  A,\n",
      "4  chr12  10019  10020  rs1591589652  T  1  G,\n",
      "5  chr12  10020  10021  rs1591589654  A  1  C,\n",
      "/data/projects/VCF_files/DBSNP/ChrWise_Data/chr10_data.csv\n"
     ]
    },
    {
     "name": "stderr",
     "output_type": "stream",
     "text": [
      "/data/projects/temp/ipykernel_1146979/975069523.py:4: DtypeWarning: Columns (1,2,5) have mixed types. Specify dtype option on import or set low_memory=False.\n",
      "  df = pd.read_csv(dbsnp_file, header=None, sep= ',', usecols=[0, 1, 2, 3, 4, 5,6])\n"
     ]
    },
    {
     "name": "stdout",
     "output_type": "stream",
     "text": [
      "       0      1      2             3  4  5     6\n",
      "1  chr10  10022  10023  rs1243990134  C  1    A,\n",
      "2  chr10  10030  10031  rs1834135687  C  2  A,G,\n",
      "3  chr10  10033  10034  rs1834135707  A  1    G,\n",
      "4  chr10  10035  10036  rs1834135720  C  2  A,T,\n",
      "5  chr10  10040  10041  rs1834135754  C  1    A,\n",
      "/data/projects/VCF_files/DBSNP/ChrWise_Data/chr9_data.csv\n"
     ]
    },
    {
     "name": "stderr",
     "output_type": "stream",
     "text": [
      "/data/projects/temp/ipykernel_1146979/975069523.py:4: DtypeWarning: Columns (1,2,5) have mixed types. Specify dtype option on import or set low_memory=False.\n",
      "  df = pd.read_csv(dbsnp_file, header=None, sep= ',', usecols=[0, 1, 2, 3, 4, 5,6])\n"
     ]
    },
    {
     "name": "stdout",
     "output_type": "stream",
     "text": [
      "      0      1      2             3  4  5     6\n",
      "1  chr9  10006  10007  rs1449034754  T  1    C,\n",
      "2  chr9  10006  10007  rs1815666481  T  1     ,\n",
      "3  chr9  10008  10009  rs1587255763  A  2  C,G,\n",
      "4  chr9  10012  10013  rs1265381183  T  2  C,G,\n",
      "5  chr9  10013  10014  rs1587255772  A  1    C,\n",
      "/data/projects/VCF_files/DBSNP/ChrWise_Data/chrM_data.csv\n",
      "      0   1   2             3  4  5   6\n",
      "1  chrM   9  10   rs879233578  T  1  C,\n",
      "2  chrM  15  16  rs1556422363  A  1  T,\n",
      "3  chrM  25  26   rs879071945  C  1  T,\n",
      "4  chrM  40  41   rs879100564  C  1  T,\n",
      "5  chrM  41  42  rs1603218266  T  1  C,\n",
      "/data/projects/VCF_files/DBSNP/ChrWise_Data/chr8_data.csv\n"
     ]
    },
    {
     "name": "stderr",
     "output_type": "stream",
     "text": [
      "/data/projects/temp/ipykernel_1146979/975069523.py:4: DtypeWarning: Columns (1,2,5) have mixed types. Specify dtype option on import or set low_memory=False.\n",
      "  df = pd.read_csv(dbsnp_file, header=None, sep= ',', usecols=[0, 1, 2, 3, 4, 5,6])\n"
     ]
    },
    {
     "name": "stdout",
     "output_type": "stream",
     "text": [
      "      0      1      2             3  4  5   6\n",
      "1  chr8  60008  60009  rs1584847528  G  1  T,\n",
      "2  chr8  60021  60022  rs1800303754  A  1  C,\n",
      "3  chr8  60023  60024  rs1584847530  A  1  C,\n",
      "4  chr8  60024  60025  rs1584847532  C  1  A,\n",
      "5  chr8  60048  60049  rs1800303798  A  1  G,\n",
      "/data/projects/VCF_files/DBSNP/ChrWise_Data/chr21_data.csv\n"
     ]
    },
    {
     "name": "stderr",
     "output_type": "stream",
     "text": [
      "/data/projects/temp/ipykernel_1146979/975069523.py:4: DtypeWarning: Columns (1,2,5) have mixed types. Specify dtype option on import or set low_memory=False.\n",
      "  df = pd.read_csv(dbsnp_file, header=None, sep= ',', usecols=[0, 1, 2, 3, 4, 5,6])\n"
     ]
    },
    {
     "name": "stdout",
     "output_type": "stream",
     "text": [
      "       0        1        2             3  4  5   6\n",
      "1  chr21  5025531  5025532  rs1879593094  G  1  C,\n",
      "2  chr21  5030087  5030088  rs1455320509  C  1  T,\n",
      "3  chr21  5030104  5030105  rs1173141359  C  1  A,\n",
      "4  chr21  5030150  5030151  rs1601770018  T  1  G,\n",
      "5  chr21  5030153  5030154  rs1461284410  T  1  C,\n",
      "/data/projects/VCF_files/DBSNP/ChrWise_Data/chr20_data.csv\n"
     ]
    },
    {
     "name": "stderr",
     "output_type": "stream",
     "text": [
      "/data/projects/temp/ipykernel_1146979/975069523.py:4: DtypeWarning: Columns (1,2,5) have mixed types. Specify dtype option on import or set low_memory=False.\n",
      "  df = pd.read_csv(dbsnp_file, header=None, sep= ',', usecols=[0, 1, 2, 3, 4, 5,6])\n"
     ]
    },
    {
     "name": "stdout",
     "output_type": "stream",
     "text": [
      "       0      1      2             3  4  5   6\n",
      "1  chr20  60001  60002   rs555848207  G  1  C,\n",
      "2  chr20  60008  60009  rs1600128456  C  1  A,\n",
      "3  chr20  60009  60010  rs1340966003  G  1  A,\n",
      "4  chr20  60017  60018  rs2054408755  A  1  C,\n",
      "5  chr20  60021  60022  rs1178632636  G  1  A,\n",
      "/data/projects/VCF_files/DBSNP/ChrWise_Data/chr11_data.csv\n"
     ]
    },
    {
     "name": "stderr",
     "output_type": "stream",
     "text": [
      "/data/projects/temp/ipykernel_1146979/975069523.py:4: DtypeWarning: Columns (1,2,5) have mixed types. Specify dtype option on import or set low_memory=False.\n",
      "  df = pd.read_csv(dbsnp_file, header=None, sep= ',', usecols=[0, 1, 2, 3, 4, 5,6])\n"
     ]
    },
    {
     "name": "stdout",
     "output_type": "stream",
     "text": [
      "       0      1      2             3  4  5   6\n",
      "1  chr11  60849  60850  rs1590036156  C  1  T,\n",
      "2  chr11  60993  60994  rs1452162522  T  1  C,\n",
      "3  chr11  61117  61118   rs867959887  A  1  C,\n",
      "4  chr11  61118  61119  rs1187622598  A  1  G,\n",
      "5  chr11  61154  61155   rs899119276  A  1  G,\n",
      "/data/projects/VCF_files/DBSNP/ChrWise_Data/chr22_data.csv\n"
     ]
    },
    {
     "name": "stderr",
     "output_type": "stream",
     "text": [
      "/data/projects/temp/ipykernel_1146979/975069523.py:4: DtypeWarning: Columns (1,2,5) have mixed types. Specify dtype option on import or set low_memory=False.\n",
      "  df = pd.read_csv(dbsnp_file, header=None, sep= ',', usecols=[0, 1, 2, 3, 4, 5,6])\n"
     ]
    },
    {
     "name": "stdout",
     "output_type": "stream",
     "text": [
      "       0         1         2             3  4  5   6\n",
      "1  chr22  10510050  10510051  rs2061858963  T  1  C,\n",
      "2  chr22  10510054  10510055  rs2061858972  A  1  G,\n",
      "3  chr22  10510076  10510077  rs1290354662  C  1  A,\n",
      "4  chr22  10510090  10510091  rs2061858975  T  1  A,\n",
      "5  chr22  10510104  10510105  rs1325858619  T  1  A,\n",
      "/data/projects/VCF_files/DBSNP/ChrWise_Data/chr18_data.csv\n"
     ]
    },
    {
     "name": "stderr",
     "output_type": "stream",
     "text": [
      "/data/projects/temp/ipykernel_1146979/975069523.py:4: DtypeWarning: Columns (1,2,5) have mixed types. Specify dtype option on import or set low_memory=False.\n",
      "  df = pd.read_csv(dbsnp_file, header=None, sep= ',', usecols=[0, 1, 2, 3, 4, 5,6])\n"
     ]
    },
    {
     "name": "stdout",
     "output_type": "stream",
     "text": [
      "       0      1      2             3  4  5     6\n",
      "1  chr18  10001  10002  rs1600555225  C  1    T,\n",
      "2  chr18  10002  10003  rs1905036575  C  1    T,\n",
      "3  chr18  10003  10004  rs1600555228  T  1    C,\n",
      "4  chr18  10004  10005   rs111219353  A  2  C,T,\n",
      "5  chr18  10005  10006  rs1600555234  A  2  C,G,\n",
      "/data/projects/VCF_files/DBSNP/ChrWise_Data/chr14_data.csv\n"
     ]
    },
    {
     "name": "stderr",
     "output_type": "stream",
     "text": [
      "/data/projects/temp/ipykernel_1146979/975069523.py:4: DtypeWarning: Columns (1,2,5) have mixed types. Specify dtype option on import or set low_memory=False.\n",
      "  df = pd.read_csv(dbsnp_file, header=None, sep= ',', usecols=[0, 1, 2, 3, 4, 5,6])\n"
     ]
    },
    {
     "name": "stdout",
     "output_type": "stream",
     "text": [
      "       0         1         2             3          4  5    6\n",
      "1  chr14  16022653  16022654  rs2089043555          T  1   C,\n",
      "2  chr14  16022660  16022661  rs1391007058          C  1   T,\n",
      "3  chr14  16022660  16022663  rs1273995405        CCC  1  CC,\n",
      "4  chr14  16022662  16022671  rs2089043582  CGTGTGTGT  1    ,\n",
      "5  chr14  16022663  16022664  rs2089043587          G  1   A,\n",
      "/data/projects/VCF_files/DBSNP/ChrWise_Data/chr16_data.csv\n"
     ]
    },
    {
     "name": "stderr",
     "output_type": "stream",
     "text": [
      "/data/projects/temp/ipykernel_1146979/975069523.py:4: DtypeWarning: Columns (1,2,5) have mixed types. Specify dtype option on import or set low_memory=False.\n",
      "  df = pd.read_csv(dbsnp_file, header=None, sep= ',', usecols=[0, 1, 2, 3, 4, 5,6])\n"
     ]
    },
    {
     "name": "stdout",
     "output_type": "stream",
     "text": [
      "       0      1      2             3  4  5     6\n",
      "1  chr16  10000  10001  rs1896969576  T  1    C,\n",
      "2  chr16  10001  10002  rs1596443048  A  1    T,\n",
      "3  chr16  10003  10004  rs1596443052  C  1    A,\n",
      "4  chr16  10005  10006  rs1167029723  C  1    G,\n",
      "5  chr16  10006  10007  rs1416464287  T  2  A,C,\n",
      "/data/projects/VCF_files/DBSNP/ChrWise_Data/chr4_data.csv\n"
     ]
    },
    {
     "name": "stderr",
     "output_type": "stream",
     "text": [
      "/data/projects/temp/ipykernel_1146979/975069523.py:4: DtypeWarning: Columns (1,2,5) have mixed types. Specify dtype option on import or set low_memory=False.\n",
      "  df = pd.read_csv(dbsnp_file, header=None, sep= ',', usecols=[0, 1, 2, 3, 4, 5,6])\n"
     ]
    },
    {
     "name": "stdout",
     "output_type": "stream",
     "text": [
      "      0      1      2             3    4  5      6\n",
      "1  chr4  10000  10001  rs1581341342    A  1     C,\n",
      "2  chr4  10001  10001  rs1560073237  NaN  1     G,\n",
      "3  chr4  10001  10002  rs1581341346    C  1     A,\n",
      "4  chr4  10001  10004  rs1560073246  CCC  1  CCCC,\n",
      "5  chr4  10003  10004  rs1581341351    C  1     T,\n",
      "/data/projects/VCF_files/DBSNP/ChrWise_Data/chr3_data.csv\n"
     ]
    },
    {
     "name": "stderr",
     "output_type": "stream",
     "text": [
      "/data/projects/temp/ipykernel_1146979/975069523.py:4: DtypeWarning: Columns (1,2,5) have mixed types. Specify dtype option on import or set low_memory=False.\n",
      "  df = pd.read_csv(dbsnp_file, header=None, sep= ',', usecols=[0, 1, 2, 3, 4, 5,6])\n"
     ]
    },
    {
     "name": "stdout",
     "output_type": "stream",
     "text": [
      "      0      1      2             3   4  5       6\n",
      "1  chr3  10008  10009  rs1339898020   A  3  C,G,T,\n",
      "2  chr3  10009  10010  rs1695495101   A  1      C,\n",
      "3  chr3  10010  10011  rs1695495136   C  1      A,\n",
      "4  chr3  10014  10015  rs1206436362   A  1      C,\n",
      "5  chr3  10014  10016  rs1695495167  AA  1    AAA,\n",
      "/data/projects/VCF_files/DBSNP/ChrWise_Data/chr17_data.csv\n"
     ]
    },
    {
     "name": "stderr",
     "output_type": "stream",
     "text": [
      "/data/projects/temp/ipykernel_1146979/975069523.py:4: DtypeWarning: Columns (1,2,5) have mixed types. Specify dtype option on import or set low_memory=False.\n",
      "  df = pd.read_csv(dbsnp_file, header=None, sep= ',', usecols=[0, 1, 2, 3, 4, 5,6])\n"
     ]
    },
    {
     "name": "stdout",
     "output_type": "stream",
     "text": [
      "       0      1      2             3  4  5   6\n",
      "1  chr17  60054  60055  rs2039333033  G  1  A,\n",
      "2  chr17  60086  60087  rs2039333047  C  1  T,\n",
      "3  chr17  60102  60103  rs1399099657  G  1  A,\n",
      "4  chr17  60103  60104  rs1363626035  C  1  T,\n",
      "5  chr17  60149  60150  rs2039333080  C  1  A,\n",
      "/data/projects/VCF_files/DBSNP/ChrWise_Data/chr2_data.csv\n"
     ]
    },
    {
     "name": "stderr",
     "output_type": "stream",
     "text": [
      "/data/projects/temp/ipykernel_1146979/975069523.py:4: DtypeWarning: Columns (1,2,5) have mixed types. Specify dtype option on import or set low_memory=False.\n",
      "  df = pd.read_csv(dbsnp_file, header=None, sep= ',', usecols=[0, 1, 2, 3, 4, 5,6])\n"
     ]
    },
    {
     "name": "stdout",
     "output_type": "stream",
     "text": [
      "      0      1      2             3        4  5         6\n",
      "1  chr2  10006  10007  rs1572047073        C  1        A,\n",
      "2  chr2  10015  10015  rs1558169263      NaN  1        G,\n",
      "3  chr2  10016  10023  rs1558169385  CACCCAC  1      CAC,\n",
      "4  chr2  10018  10021  rs1558169386      CCC  1       CC,\n",
      "5  chr2  10019  10019  rs1558169388      NaN  2  ACA,ACG,\n"
     ]
    }
   ],
   "source": [
    "for dbsnp_file in chr_wise_DBSNP_files:\n",
    "    # Read the csv file into a DataFrame\n",
    "    print(dbsnp_file)\n",
    "    df = pd.read_csv(dbsnp_file, header=None, sep= ',', usecols=[0, 1, 2, 3, 4, 5,6])\n",
    "    df = df.iloc[1:]\n",
    "    print(df.head())\n",
    "    \n",
    "    # Convert the DataFrame to a BedTool\n",
    "    dbsnp = pybedtools.BedTool.from_dataframe(df)\n",
    "    \n",
    "    # Intersect the BedTool with the transcript file\n",
    "    intersected = intersect_bed.intersect(dbsnp, wa=True, wb=True)\n",
    "    \n",
    "    # Save the intersected BedTool to a bed file\n",
    "    output_file = \"/data/projects/Enhancer/RECOMB_2024/Intersected_data/Donor/Chrwise/intersected_DBSNP_transcript_\" + dbsnp_file.split('/')[-1].replace('.csv', '.tsv')\n",
    "    intersected.saveas(output_file)"
   ]
  },
  {
   "cell_type": "code",
   "execution_count": 16,
   "id": "53bb1a47-0faa-4d39-8190-192cbc549d91",
   "metadata": {},
   "outputs": [],
   "source": [
    "tsv_files = [f for f in os.listdir(\"/data/projects/Enhancer/RECOMB_2024/Intersected_data/Donor/Chrwise\") if f.endswith('.tsv') and \"chrM\" not in f]"
   ]
  },
  {
   "cell_type": "code",
   "execution_count": 17,
   "id": "cd1b63d3-dc0e-4c3f-982c-96c4e01fc7ac",
   "metadata": {},
   "outputs": [
    {
     "data": {
      "text/plain": [
       "['intersected_DBSNP_transcript_chr2_data.tsv',\n",
       " 'intersected_DBSNP_transcript_chr13_data.tsv',\n",
       " 'intersected_DBSNP_transcript_chrY_data.tsv',\n",
       " 'intersected_DBSNP_transcript_chr19_data.tsv',\n",
       " 'intersected_DBSNP_transcript_chr21_data.tsv',\n",
       " 'intersected_DBSNP_transcript_chr7_data.tsv',\n",
       " 'intersected_DBSNP_transcript_chr12_data.tsv',\n",
       " 'intersected_DBSNP_transcript_chr9_data.tsv',\n",
       " 'intersected_DBSNP_transcript_chr6_data.tsv',\n",
       " 'intersected_DBSNP_transcript_chr3_data.tsv',\n",
       " 'intersected_DBSNP_transcript_chr4_data.tsv',\n",
       " 'intersected_DBSNP_transcript_chr11_data.tsv',\n",
       " 'intersected_DBSNP_transcript_chr15_data.tsv',\n",
       " 'intersected_DBSNP_transcript_chr22_data.tsv',\n",
       " 'intersected_DBSNP_transcript_chr18_data.tsv',\n",
       " 'intersected_DBSNP_transcript_chr16_data.tsv',\n",
       " 'intersected_DBSNP_transcript_chr10_data.tsv',\n",
       " 'intersected_DBSNP_transcript_chr1_data.tsv',\n",
       " 'intersected_DBSNP_transcript_chrX_data.tsv',\n",
       " 'intersected_DBSNP_transcript_chr14_data.tsv',\n",
       " 'intersected_DBSNP_transcript_chr17_data.tsv',\n",
       " 'intersected_DBSNP_transcript_chr8_data.tsv',\n",
       " 'intersected_DBSNP_transcript_chr20_data.tsv',\n",
       " 'intersected_DBSNP_transcript_chr5_data.tsv']"
      ]
     },
     "execution_count": 17,
     "metadata": {},
     "output_type": "execute_result"
    }
   ],
   "source": [
    "tsv_files"
   ]
  },
  {
   "cell_type": "code",
   "execution_count": 19,
   "id": "2eece3c2-ae02-48f1-87cb-5aa2dff7d043",
   "metadata": {},
   "outputs": [
    {
     "name": "stdout",
     "output_type": "stream",
     "text": [
      "(2939, 15)\n",
      "(644, 15)\n",
      "Warning: /data/projects/Enhancer/RECOMB_2024/Intersected_data/Donor/Chrwise/intersected_DBSNP_transcript_chrY_data.tsv is empty and will be skipped.\n",
      "(1986, 15)\n",
      "(320, 15)\n",
      "(2428, 15)\n",
      "(2224, 15)\n",
      "(1492, 15)\n",
      "(1671, 15)\n",
      "(2543, 15)\n",
      "(1694, 15)\n",
      "(839, 15)\n",
      "(1114, 15)\n",
      "(642, 15)\n",
      "(929, 15)\n",
      "(3333, 15)\n",
      "(1847, 15)\n",
      "(1575, 15)\n",
      "(831, 15)\n",
      "(1332, 15)\n",
      "(1649, 15)\n",
      "(1343, 15)\n",
      "(1053, 15)\n",
      "(2405, 15)\n"
     ]
    }
   ],
   "source": [
    "# Read each .tsv file into a pandas DataFrame and store them in a list\n",
    "list_of_dfs = []\n",
    "\n",
    "for file in tsv_files:\n",
    "    file_path = os.path.join(\"/data/projects/Enhancer/RECOMB_2024/Intersected_data/Donor/Chrwise\", file)\n",
    "    try:\n",
    "        # Attempt to read the .tsv file\n",
    "        df = pd.read_csv(file_path, sep='\\t', header=None)\n",
    "        print(df.shape)\n",
    "        list_of_dfs.append(df)\n",
    "    except pd.errors.EmptyDataError:\n",
    "        print(f\"Warning: {file_path} is empty and will be skipped.\")"
   ]
  },
  {
   "cell_type": "code",
   "execution_count": 20,
   "id": "832a8840-09bf-49e9-babb-46bfc0144c12",
   "metadata": {},
   "outputs": [
    {
     "data": {
      "text/html": [
       "<div>\n",
       "<style scoped>\n",
       "    .dataframe tbody tr th:only-of-type {\n",
       "        vertical-align: middle;\n",
       "    }\n",
       "\n",
       "    .dataframe tbody tr th {\n",
       "        vertical-align: top;\n",
       "    }\n",
       "\n",
       "    .dataframe thead th {\n",
       "        text-align: right;\n",
       "    }\n",
       "</style>\n",
       "<table border=\"1\" class=\"dataframe\">\n",
       "  <thead>\n",
       "    <tr style=\"text-align: right;\">\n",
       "      <th></th>\n",
       "      <th>chr_name</th>\n",
       "      <th>Donor_start</th>\n",
       "      <th>Donor_end</th>\n",
       "      <th>Transcript_id</th>\n",
       "      <th>Strand</th>\n",
       "      <th>Enhancer_start</th>\n",
       "      <th>Enhancer_end</th>\n",
       "      <th>Variant_start</th>\n",
       "      <th>Variant_end</th>\n",
       "      <th>RS_ID</th>\n",
       "      <th>Reference_Nucleotide</th>\n",
       "      <th>No_of_variations</th>\n",
       "      <th>Alternative_Nucleotides</th>\n",
       "    </tr>\n",
       "  </thead>\n",
       "  <tbody>\n",
       "    <tr>\n",
       "      <th>0</th>\n",
       "      <td>chr2</td>\n",
       "      <td>43796757</td>\n",
       "      <td>43796836</td>\n",
       "      <td>ENST00000260605.12</td>\n",
       "      <td>+</td>\n",
       "      <td>43796770</td>\n",
       "      <td>43796969</td>\n",
       "      <td>43796758</td>\n",
       "      <td>43796759</td>\n",
       "      <td>rs1006428748</td>\n",
       "      <td>T</td>\n",
       "      <td>1</td>\n",
       "      <td>C,</td>\n",
       "    </tr>\n",
       "    <tr>\n",
       "      <th>1</th>\n",
       "      <td>chr2</td>\n",
       "      <td>43796757</td>\n",
       "      <td>43796836</td>\n",
       "      <td>ENST00000260605.12</td>\n",
       "      <td>+</td>\n",
       "      <td>43796770</td>\n",
       "      <td>43796969</td>\n",
       "      <td>43796759</td>\n",
       "      <td>43796760</td>\n",
       "      <td>rs745930390</td>\n",
       "      <td>C</td>\n",
       "      <td>2</td>\n",
       "      <td>G,T,</td>\n",
       "    </tr>\n",
       "    <tr>\n",
       "      <th>2</th>\n",
       "      <td>chr2</td>\n",
       "      <td>43796757</td>\n",
       "      <td>43796836</td>\n",
       "      <td>ENST00000260605.12</td>\n",
       "      <td>+</td>\n",
       "      <td>43796770</td>\n",
       "      <td>43796969</td>\n",
       "      <td>43796760</td>\n",
       "      <td>43796761</td>\n",
       "      <td>rs754242258</td>\n",
       "      <td>G</td>\n",
       "      <td>2</td>\n",
       "      <td>A,T,</td>\n",
       "    </tr>\n",
       "    <tr>\n",
       "      <th>3</th>\n",
       "      <td>chr2</td>\n",
       "      <td>43796757</td>\n",
       "      <td>43796836</td>\n",
       "      <td>ENST00000260605.12</td>\n",
       "      <td>+</td>\n",
       "      <td>43796770</td>\n",
       "      <td>43796969</td>\n",
       "      <td>43796761</td>\n",
       "      <td>43796762</td>\n",
       "      <td>rs1191078266</td>\n",
       "      <td>A</td>\n",
       "      <td>1</td>\n",
       "      <td>T,</td>\n",
       "    </tr>\n",
       "    <tr>\n",
       "      <th>4</th>\n",
       "      <td>chr2</td>\n",
       "      <td>43796757</td>\n",
       "      <td>43796836</td>\n",
       "      <td>ENST00000260605.12</td>\n",
       "      <td>+</td>\n",
       "      <td>43796770</td>\n",
       "      <td>43796969</td>\n",
       "      <td>43796762</td>\n",
       "      <td>43796763</td>\n",
       "      <td>rs1558687905</td>\n",
       "      <td>T</td>\n",
       "      <td>1</td>\n",
       "      <td>C,</td>\n",
       "    </tr>\n",
       "    <tr>\n",
       "      <th>...</th>\n",
       "      <td>...</td>\n",
       "      <td>...</td>\n",
       "      <td>...</td>\n",
       "      <td>...</td>\n",
       "      <td>...</td>\n",
       "      <td>...</td>\n",
       "      <td>...</td>\n",
       "      <td>...</td>\n",
       "      <td>...</td>\n",
       "      <td>...</td>\n",
       "      <td>...</td>\n",
       "      <td>...</td>\n",
       "      <td>...</td>\n",
       "    </tr>\n",
       "    <tr>\n",
       "      <th>36828</th>\n",
       "      <td>chr5</td>\n",
       "      <td>179708342</td>\n",
       "      <td>179708421</td>\n",
       "      <td>ENST00000681903.1</td>\n",
       "      <td>+</td>\n",
       "      <td>179708271</td>\n",
       "      <td>179708470</td>\n",
       "      <td>179708412</td>\n",
       "      <td>179708413</td>\n",
       "      <td>rs754651715</td>\n",
       "      <td>T</td>\n",
       "      <td>1</td>\n",
       "      <td>A,</td>\n",
       "    </tr>\n",
       "    <tr>\n",
       "      <th>36829</th>\n",
       "      <td>chr5</td>\n",
       "      <td>179708342</td>\n",
       "      <td>179708421</td>\n",
       "      <td>ENST00000681903.1</td>\n",
       "      <td>+</td>\n",
       "      <td>179708271</td>\n",
       "      <td>179708470</td>\n",
       "      <td>179708415</td>\n",
       "      <td>179708418</td>\n",
       "      <td>rs1777306004</td>\n",
       "      <td>AAA</td>\n",
       "      <td>1</td>\n",
       "      <td>AA,</td>\n",
       "    </tr>\n",
       "    <tr>\n",
       "      <th>36830</th>\n",
       "      <td>chr5</td>\n",
       "      <td>179708342</td>\n",
       "      <td>179708421</td>\n",
       "      <td>ENST00000681903.1</td>\n",
       "      <td>+</td>\n",
       "      <td>179708271</td>\n",
       "      <td>179708470</td>\n",
       "      <td>179708416</td>\n",
       "      <td>179708417</td>\n",
       "      <td>rs778300796</td>\n",
       "      <td>A</td>\n",
       "      <td>1</td>\n",
       "      <td>T,</td>\n",
       "    </tr>\n",
       "    <tr>\n",
       "      <th>36831</th>\n",
       "      <td>chr5</td>\n",
       "      <td>179708342</td>\n",
       "      <td>179708421</td>\n",
       "      <td>ENST00000681903.1</td>\n",
       "      <td>+</td>\n",
       "      <td>179708271</td>\n",
       "      <td>179708470</td>\n",
       "      <td>179708418</td>\n",
       "      <td>179708419</td>\n",
       "      <td>rs1777306414</td>\n",
       "      <td>G</td>\n",
       "      <td>1</td>\n",
       "      <td>C,</td>\n",
       "    </tr>\n",
       "    <tr>\n",
       "      <th>36832</th>\n",
       "      <td>chr5</td>\n",
       "      <td>179708342</td>\n",
       "      <td>179708421</td>\n",
       "      <td>ENST00000681903.1</td>\n",
       "      <td>+</td>\n",
       "      <td>179708271</td>\n",
       "      <td>179708470</td>\n",
       "      <td>179708420</td>\n",
       "      <td>179708421</td>\n",
       "      <td>rs749633041</td>\n",
       "      <td>G</td>\n",
       "      <td>1</td>\n",
       "      <td>C,</td>\n",
       "    </tr>\n",
       "  </tbody>\n",
       "</table>\n",
       "<p>36833 rows × 13 columns</p>\n",
       "</div>"
      ],
      "text/plain": [
       "      chr_name  Donor_start  Donor_end       Transcript_id Strand  \\\n",
       "0         chr2     43796757   43796836  ENST00000260605.12      +   \n",
       "1         chr2     43796757   43796836  ENST00000260605.12      +   \n",
       "2         chr2     43796757   43796836  ENST00000260605.12      +   \n",
       "3         chr2     43796757   43796836  ENST00000260605.12      +   \n",
       "4         chr2     43796757   43796836  ENST00000260605.12      +   \n",
       "...        ...          ...        ...                 ...    ...   \n",
       "36828     chr5    179708342  179708421   ENST00000681903.1      +   \n",
       "36829     chr5    179708342  179708421   ENST00000681903.1      +   \n",
       "36830     chr5    179708342  179708421   ENST00000681903.1      +   \n",
       "36831     chr5    179708342  179708421   ENST00000681903.1      +   \n",
       "36832     chr5    179708342  179708421   ENST00000681903.1      +   \n",
       "\n",
       "       Enhancer_start  Enhancer_end  Variant_start  Variant_end         RS_ID  \\\n",
       "0            43796770      43796969       43796758     43796759  rs1006428748   \n",
       "1            43796770      43796969       43796759     43796760   rs745930390   \n",
       "2            43796770      43796969       43796760     43796761   rs754242258   \n",
       "3            43796770      43796969       43796761     43796762  rs1191078266   \n",
       "4            43796770      43796969       43796762     43796763  rs1558687905   \n",
       "...               ...           ...            ...          ...           ...   \n",
       "36828       179708271     179708470      179708412    179708413   rs754651715   \n",
       "36829       179708271     179708470      179708415    179708418  rs1777306004   \n",
       "36830       179708271     179708470      179708416    179708417   rs778300796   \n",
       "36831       179708271     179708470      179708418    179708419  rs1777306414   \n",
       "36832       179708271     179708470      179708420    179708421   rs749633041   \n",
       "\n",
       "      Reference_Nucleotide  No_of_variations Alternative_Nucleotides  \n",
       "0                        T                 1                      C,  \n",
       "1                        C                 2                    G,T,  \n",
       "2                        G                 2                    A,T,  \n",
       "3                        A                 1                      T,  \n",
       "4                        T                 1                      C,  \n",
       "...                    ...               ...                     ...  \n",
       "36828                    T                 1                      A,  \n",
       "36829                  AAA                 1                     AA,  \n",
       "36830                    A                 1                      T,  \n",
       "36831                    G                 1                      C,  \n",
       "36832                    G                 1                      C,  \n",
       "\n",
       "[36833 rows x 13 columns]"
      ]
     },
     "execution_count": 20,
     "metadata": {},
     "output_type": "execute_result"
    }
   ],
   "source": [
    "# Concatenate all the DataFrames in the list into a single DataFrame\n",
    "final_df = pd.concat(list_of_dfs, ignore_index=True) if list_of_dfs else pd.DataFrame()\n",
    "final_df=final_df.drop(columns=[5, 8])\n",
    "new_columns = ['chr_name', 'Donor_start', 'Donor_end', 'Transcript_id', 'Strand', 'Enhancer_start', 'Enhancer_end', 'Variant_start', 'Variant_end', 'RS_ID', 'Reference_Nucleotide', 'No_of_variations', 'Alternative_Nucleotides']\n",
    "final_df.columns = new_columns\n",
    "final_df"
   ]
  },
  {
   "cell_type": "code",
   "execution_count": 21,
   "id": "9b17f3fb-82b1-481b-af5a-7c6c6643d664",
   "metadata": {},
   "outputs": [
    {
     "name": "stdout",
     "output_type": "stream",
     "text": [
      "All .tsv files (excluding chrM) concatenated into /data/projects/Enhancer/RECOMB_2024/Intersected_data/Donor/all_data.tsv\n"
     ]
    }
   ],
   "source": [
    "# Write the final DataFrame to a new .tsv file (only if there's data)\n",
    "if not final_df.empty:\n",
    "    output_file_path = \"/data/projects/Enhancer/RECOMB_2024/Intersected_data/Donor/all_data.tsv\"\n",
    "    final_df.to_csv(output_file_path, sep='\\t', index=False)\n",
    "    print(f\"All .tsv files (excluding chrM) concatenated into {output_file_path}\")\n",
    "else:\n",
    "    print(\"No data to save after excluding empty files and chrM.\")"
   ]
  },
  {
   "cell_type": "code",
   "execution_count": null,
   "id": "8f193314-5f87-48bb-b91a-6e3ec8ca3e88",
   "metadata": {},
   "outputs": [],
   "source": []
  }
 ],
 "metadata": {
  "kernelspec": {
   "display_name": "Python 3 (ipykernel)",
   "language": "python",
   "name": "python3"
  },
  "language_info": {
   "codemirror_mode": {
    "name": "ipython",
    "version": 3
   },
   "file_extension": ".py",
   "mimetype": "text/x-python",
   "name": "python",
   "nbconvert_exporter": "python",
   "pygments_lexer": "ipython3",
   "version": "3.10.11"
  }
 },
 "nbformat": 4,
 "nbformat_minor": 5
}
