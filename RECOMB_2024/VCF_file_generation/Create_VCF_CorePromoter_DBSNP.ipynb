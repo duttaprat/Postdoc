{
 "cells": [
  {
   "cell_type": "code",
   "execution_count": 2,
   "id": "6a8d39b1-357f-4f76-b564-72795875ec54",
   "metadata": {},
   "outputs": [],
   "source": [
    "import os, glob\n",
    "import pandas as pd\n",
    "from io import StringIO\n",
    "import pyBigWig\n",
    "import subprocess\n",
    "import pybedtools \n",
    "pybedtools.helpers.set_tempdir('/data/projects/temp')"
   ]
  },
  {
   "cell_type": "code",
   "execution_count": 3,
   "id": "a76b2b24-06d0-406b-8247-cd359f252342",
   "metadata": {},
   "outputs": [],
   "source": [
    "enhancer_file_path = \"/data/projects/Enhancer/RECOMB_2024/Enhancer_BED.tsv\""
   ]
  },
  {
   "cell_type": "code",
   "execution_count": 4,
   "id": "09d5f2e4-6845-4398-b273-692882cf970d",
   "metadata": {},
   "outputs": [
    {
     "data": {
      "text/html": [
       "<div>\n",
       "<style scoped>\n",
       "    .dataframe tbody tr th:only-of-type {\n",
       "        vertical-align: middle;\n",
       "    }\n",
       "\n",
       "    .dataframe tbody tr th {\n",
       "        vertical-align: top;\n",
       "    }\n",
       "\n",
       "    .dataframe thead th {\n",
       "        text-align: right;\n",
       "    }\n",
       "</style>\n",
       "<table border=\"1\" class=\"dataframe\">\n",
       "  <thead>\n",
       "    <tr style=\"text-align: right;\">\n",
       "      <th></th>\n",
       "      <th>chromosome_name</th>\n",
       "      <th>enhancer_start</th>\n",
       "      <th>enhancer_end</th>\n",
       "    </tr>\n",
       "  </thead>\n",
       "  <tbody>\n",
       "    <tr>\n",
       "      <th>0</th>\n",
       "      <td>chr6</td>\n",
       "      <td>167157937</td>\n",
       "      <td>167158136</td>\n",
       "    </tr>\n",
       "    <tr>\n",
       "      <th>1</th>\n",
       "      <td>chr8</td>\n",
       "      <td>140206853</td>\n",
       "      <td>140207052</td>\n",
       "    </tr>\n",
       "    <tr>\n",
       "      <th>2</th>\n",
       "      <td>chr5</td>\n",
       "      <td>170638695</td>\n",
       "      <td>170638894</td>\n",
       "    </tr>\n",
       "    <tr>\n",
       "      <th>3</th>\n",
       "      <td>chr1</td>\n",
       "      <td>63043547</td>\n",
       "      <td>63043746</td>\n",
       "    </tr>\n",
       "    <tr>\n",
       "      <th>4</th>\n",
       "      <td>chr19</td>\n",
       "      <td>19238266</td>\n",
       "      <td>19238465</td>\n",
       "    </tr>\n",
       "    <tr>\n",
       "      <th>...</th>\n",
       "      <td>...</td>\n",
       "      <td>...</td>\n",
       "      <td>...</td>\n",
       "    </tr>\n",
       "    <tr>\n",
       "      <th>7774</th>\n",
       "      <td>chr1</td>\n",
       "      <td>204552002</td>\n",
       "      <td>204552201</td>\n",
       "    </tr>\n",
       "    <tr>\n",
       "      <th>7775</th>\n",
       "      <td>chr9</td>\n",
       "      <td>38725772</td>\n",
       "      <td>38725971</td>\n",
       "    </tr>\n",
       "    <tr>\n",
       "      <th>7776</th>\n",
       "      <td>chr7</td>\n",
       "      <td>27950006</td>\n",
       "      <td>27950205</td>\n",
       "    </tr>\n",
       "    <tr>\n",
       "      <th>7777</th>\n",
       "      <td>chr2</td>\n",
       "      <td>171047833</td>\n",
       "      <td>171048032</td>\n",
       "    </tr>\n",
       "    <tr>\n",
       "      <th>7778</th>\n",
       "      <td>chr15</td>\n",
       "      <td>41720338</td>\n",
       "      <td>41720537</td>\n",
       "    </tr>\n",
       "  </tbody>\n",
       "</table>\n",
       "<p>7779 rows × 3 columns</p>\n",
       "</div>"
      ],
      "text/plain": [
       "     chromosome_name  enhancer_start  enhancer_end\n",
       "0               chr6       167157937     167158136\n",
       "1               chr8       140206853     140207052\n",
       "2               chr5       170638695     170638894\n",
       "3               chr1        63043547      63043746\n",
       "4              chr19        19238266      19238465\n",
       "...              ...             ...           ...\n",
       "7774            chr1       204552002     204552201\n",
       "7775            chr9        38725772      38725971\n",
       "7776            chr7        27950006      27950205\n",
       "7777            chr2       171047833     171048032\n",
       "7778           chr15        41720338      41720537\n",
       "\n",
       "[7779 rows x 3 columns]"
      ]
     },
     "execution_count": 4,
     "metadata": {},
     "output_type": "execute_result"
    }
   ],
   "source": [
    "df_enhancer = pd.read_csv(enhancer_file_path, sep=\"\\t\")\n",
    "df_enhancer"
   ]
  },
  {
   "cell_type": "markdown",
   "id": "4328e006-2baf-4f0f-aaf9-4d488be6a25a",
   "metadata": {},
   "source": [
    "## For Core Promoter Region"
   ]
  },
  {
   "cell_type": "code",
   "execution_count": 5,
   "id": "a8207a85-cd2b-4538-986d-ad237d9066a6",
   "metadata": {},
   "outputs": [],
   "source": [
    "df_CoreProm = pd.read_csv(\"/data/private/pdutta/DNABERT_data/Core_promoters/Core_Prom_bed.tsv\", sep=\"\\t\")"
   ]
  },
  {
   "cell_type": "code",
   "execution_count": 6,
   "id": "47b165ee-3113-4af0-bbd1-34fd2c53b3dd",
   "metadata": {},
   "outputs": [
    {
     "data": {
      "text/html": [
       "<div>\n",
       "<style scoped>\n",
       "    .dataframe tbody tr th:only-of-type {\n",
       "        vertical-align: middle;\n",
       "    }\n",
       "\n",
       "    .dataframe tbody tr th {\n",
       "        vertical-align: top;\n",
       "    }\n",
       "\n",
       "    .dataframe thead th {\n",
       "        text-align: right;\n",
       "    }\n",
       "</style>\n",
       "<table border=\"1\" class=\"dataframe\">\n",
       "  <thead>\n",
       "    <tr style=\"text-align: right;\">\n",
       "      <th></th>\n",
       "      <th>Chr</th>\n",
       "      <th>gene_id</th>\n",
       "      <th>transcript_id</th>\n",
       "      <th>exon_id</th>\n",
       "      <th>strand</th>\n",
       "      <th>TSS</th>\n",
       "      <th>start</th>\n",
       "      <th>end</th>\n",
       "    </tr>\n",
       "  </thead>\n",
       "  <tbody>\n",
       "    <tr>\n",
       "      <th>0</th>\n",
       "      <td>chr7</td>\n",
       "      <td>ENSG00000004059.11</td>\n",
       "      <td>ENST00000000233.10</td>\n",
       "      <td>ENSE00001872691.2</td>\n",
       "      <td>+</td>\n",
       "      <td>127588411</td>\n",
       "      <td>127588366</td>\n",
       "      <td>127588455</td>\n",
       "    </tr>\n",
       "    <tr>\n",
       "      <th>1</th>\n",
       "      <td>chr7</td>\n",
       "      <td>ENSG00000001626.16</td>\n",
       "      <td>ENST00000003084.11</td>\n",
       "      <td>ENSE00001343851.2</td>\n",
       "      <td>+</td>\n",
       "      <td>117480025</td>\n",
       "      <td>117479980</td>\n",
       "      <td>117480069</td>\n",
       "    </tr>\n",
       "    <tr>\n",
       "      <th>2</th>\n",
       "      <td>chr7</td>\n",
       "      <td>ENSG00000001630.17</td>\n",
       "      <td>ENST00000003100.13</td>\n",
       "      <td>ENSE00001216550.10</td>\n",
       "      <td>-</td>\n",
       "      <td>92134477</td>\n",
       "      <td>92134433</td>\n",
       "      <td>92134522</td>\n",
       "    </tr>\n",
       "    <tr>\n",
       "      <th>3</th>\n",
       "      <td>chr7</td>\n",
       "      <td>ENSG00000002933.9</td>\n",
       "      <td>ENST00000004103.8</td>\n",
       "      <td>ENSE00001827596.2</td>\n",
       "      <td>+</td>\n",
       "      <td>150800769</td>\n",
       "      <td>150800724</td>\n",
       "      <td>150800813</td>\n",
       "    </tr>\n",
       "    <tr>\n",
       "      <th>4</th>\n",
       "      <td>chr7</td>\n",
       "      <td>ENSG00000004799.8</td>\n",
       "      <td>ENST00000005178.6</td>\n",
       "      <td>ENSE00001133344.6</td>\n",
       "      <td>-</td>\n",
       "      <td>95596516</td>\n",
       "      <td>95596472</td>\n",
       "      <td>95596561</td>\n",
       "    </tr>\n",
       "    <tr>\n",
       "      <th>...</th>\n",
       "      <td>...</td>\n",
       "      <td>...</td>\n",
       "      <td>...</td>\n",
       "      <td>...</td>\n",
       "      <td>...</td>\n",
       "      <td>...</td>\n",
       "      <td>...</td>\n",
       "      <td>...</td>\n",
       "    </tr>\n",
       "    <tr>\n",
       "      <th>236970</th>\n",
       "      <td>chr15</td>\n",
       "      <td>ENSG00000103876.14</td>\n",
       "      <td>ENST00000684569.1</td>\n",
       "      <td>ENSE00003921718.1</td>\n",
       "      <td>+</td>\n",
       "      <td>80153010</td>\n",
       "      <td>80152965</td>\n",
       "      <td>80153054</td>\n",
       "    </tr>\n",
       "    <tr>\n",
       "      <th>236971</th>\n",
       "      <td>chr15</td>\n",
       "      <td>ENSG00000213614.11</td>\n",
       "      <td>ENST00000684602.1</td>\n",
       "      <td>ENSE00002620879.1</td>\n",
       "      <td>-</td>\n",
       "      <td>72375989</td>\n",
       "      <td>72375945</td>\n",
       "      <td>72376034</td>\n",
       "    </tr>\n",
       "    <tr>\n",
       "      <th>236972</th>\n",
       "      <td>chr15</td>\n",
       "      <td>ENSG00000213614.11</td>\n",
       "      <td>ENST00000684667.1</td>\n",
       "      <td>ENSE00002584031.1</td>\n",
       "      <td>-</td>\n",
       "      <td>72375972</td>\n",
       "      <td>72375928</td>\n",
       "      <td>72376017</td>\n",
       "    </tr>\n",
       "    <tr>\n",
       "      <th>236973</th>\n",
       "      <td>chr15</td>\n",
       "      <td>ENSG00000104133.16</td>\n",
       "      <td>ENST00000684676.1</td>\n",
       "      <td>ENSE00003922470.1</td>\n",
       "      <td>-</td>\n",
       "      <td>44663688</td>\n",
       "      <td>44663644</td>\n",
       "      <td>44663733</td>\n",
       "    </tr>\n",
       "    <tr>\n",
       "      <th>236974</th>\n",
       "      <td>chr15</td>\n",
       "      <td>ENSG00000183060.16</td>\n",
       "      <td>ENST00000684762.1</td>\n",
       "      <td>ENSE00001781053.1</td>\n",
       "      <td>-</td>\n",
       "      <td>99733437</td>\n",
       "      <td>99733393</td>\n",
       "      <td>99733482</td>\n",
       "    </tr>\n",
       "  </tbody>\n",
       "</table>\n",
       "<p>236975 rows × 8 columns</p>\n",
       "</div>"
      ],
      "text/plain": [
       "          Chr             gene_id       transcript_id             exon_id  \\\n",
       "0        chr7  ENSG00000004059.11  ENST00000000233.10   ENSE00001872691.2   \n",
       "1        chr7  ENSG00000001626.16  ENST00000003084.11   ENSE00001343851.2   \n",
       "2        chr7  ENSG00000001630.17  ENST00000003100.13  ENSE00001216550.10   \n",
       "3        chr7   ENSG00000002933.9   ENST00000004103.8   ENSE00001827596.2   \n",
       "4        chr7   ENSG00000004799.8   ENST00000005178.6   ENSE00001133344.6   \n",
       "...       ...                 ...                 ...                 ...   \n",
       "236970  chr15  ENSG00000103876.14   ENST00000684569.1   ENSE00003921718.1   \n",
       "236971  chr15  ENSG00000213614.11   ENST00000684602.1   ENSE00002620879.1   \n",
       "236972  chr15  ENSG00000213614.11   ENST00000684667.1   ENSE00002584031.1   \n",
       "236973  chr15  ENSG00000104133.16   ENST00000684676.1   ENSE00003922470.1   \n",
       "236974  chr15  ENSG00000183060.16   ENST00000684762.1   ENSE00001781053.1   \n",
       "\n",
       "       strand        TSS      start        end  \n",
       "0           +  127588411  127588366  127588455  \n",
       "1           +  117480025  117479980  117480069  \n",
       "2           -   92134477   92134433   92134522  \n",
       "3           +  150800769  150800724  150800813  \n",
       "4           -   95596516   95596472   95596561  \n",
       "...       ...        ...        ...        ...  \n",
       "236970      +   80153010   80152965   80153054  \n",
       "236971      -   72375989   72375945   72376034  \n",
       "236972      -   72375972   72375928   72376017  \n",
       "236973      -   44663688   44663644   44663733  \n",
       "236974      -   99733437   99733393   99733482  \n",
       "\n",
       "[236975 rows x 8 columns]"
      ]
     },
     "execution_count": 6,
     "metadata": {},
     "output_type": "execute_result"
    }
   ],
   "source": [
    "df_CoreProm"
   ]
  },
  {
   "cell_type": "code",
   "execution_count": 12,
   "id": "6d7b899c-4b10-468b-ac87-6fc24225b624",
   "metadata": {},
   "outputs": [],
   "source": []
  },
  {
   "cell_type": "code",
   "execution_count": 8,
   "id": "bc69fc78-1890-4b06-86a2-f71351ae79a9",
   "metadata": {},
   "outputs": [],
   "source": [
    "str_io_CoreProm = StringIO()\n",
    "df_CoreProm[['Chr','start','end','transcript_id','strand']].to_csv(str_io_CoreProm, sep='\\t', index=False, header=False)\n",
    "str_io_CoreProm.seek(0)\n",
    "CoreProm_bed = pybedtools.BedTool(str_io_CoreProm.read(), from_string=True)"
   ]
  },
  {
   "cell_type": "code",
   "execution_count": 9,
   "id": "109848c6-a7cb-4d9c-8f8f-200af8e09903",
   "metadata": {},
   "outputs": [],
   "source": [
    "str_io_enhancer = StringIO()\n",
    "df_enhancer[['chromosome_name','enhancer_start','enhancer_end']].to_csv(str_io_enhancer, sep='\\t', index=False, header=False)\n",
    "str_io_enhancer.seek(0)\n",
    "enhancer_bed = pybedtools.BedTool(str_io_enhancer.read(), from_string=True)"
   ]
  },
  {
   "cell_type": "code",
   "execution_count": 10,
   "id": "36b2b0e0-1bbd-42d6-9bb0-06b246425960",
   "metadata": {},
   "outputs": [],
   "source": [
    "# intersect the files\n",
    "intersect_bed = CoreProm_bed.intersect(enhancer_bed, wa=True, wb=True)"
   ]
  },
  {
   "cell_type": "code",
   "execution_count": 11,
   "id": "6aad9956-4fd8-42f5-a6eb-c0347b087139",
   "metadata": {},
   "outputs": [
    {
     "name": "stdout",
     "output_type": "stream",
     "text": [
      "chr7\t6004341\t6004430\tENST00000365120.1\t-\tchr7\t6004337\t6004536\n",
      "\n",
      "chr7\t77545707\t77545796\tENST00000418110.5\t+\tchr7\t77545645\t77545844\n",
      "\n",
      "chr7\t42113320\t42113409\tENST00000423237.1\t+\tchr7\t42113334\t42113533\n",
      "\n",
      "chr7\t18949718\t18949807\tENST00000452663.1\t-\tchr7\t18949599\t18949798\n",
      "\n",
      "chr7\t73543849\t73543938\tENST00000481667.1\t-\tchr7\t73543761\t73543960\n",
      "\n"
     ]
    }
   ],
   "source": [
    "for i, interval in enumerate(intersect_bed):\n",
    "    if i < 5:\n",
    "        print(interval)\n",
    "    else:\n",
    "        break"
   ]
  },
  {
   "cell_type": "code",
   "execution_count": 12,
   "id": "2cf26c0e-fa27-4924-8252-917ac84381c9",
   "metadata": {},
   "outputs": [],
   "source": [
    "intersect_df = intersect_bed.to_dataframe()"
   ]
  },
  {
   "cell_type": "code",
   "execution_count": 14,
   "id": "352de618-77d4-4153-b941-088fce482403",
   "metadata": {},
   "outputs": [
    {
     "data": {
      "text/html": [
       "<div>\n",
       "<style scoped>\n",
       "    .dataframe tbody tr th:only-of-type {\n",
       "        vertical-align: middle;\n",
       "    }\n",
       "\n",
       "    .dataframe tbody tr th {\n",
       "        vertical-align: top;\n",
       "    }\n",
       "\n",
       "    .dataframe thead th {\n",
       "        text-align: right;\n",
       "    }\n",
       "</style>\n",
       "<table border=\"1\" class=\"dataframe\">\n",
       "  <thead>\n",
       "    <tr style=\"text-align: right;\">\n",
       "      <th></th>\n",
       "      <th>chrom</th>\n",
       "      <th>start</th>\n",
       "      <th>end</th>\n",
       "      <th>name</th>\n",
       "      <th>score</th>\n",
       "      <th>strand</th>\n",
       "      <th>thickStart</th>\n",
       "      <th>thickEnd</th>\n",
       "    </tr>\n",
       "  </thead>\n",
       "  <tbody>\n",
       "    <tr>\n",
       "      <th>0</th>\n",
       "      <td>chr7</td>\n",
       "      <td>6004341</td>\n",
       "      <td>6004430</td>\n",
       "      <td>ENST00000365120.1</td>\n",
       "      <td>-</td>\n",
       "      <td>chr7</td>\n",
       "      <td>6004337</td>\n",
       "      <td>6004536</td>\n",
       "    </tr>\n",
       "    <tr>\n",
       "      <th>1</th>\n",
       "      <td>chr7</td>\n",
       "      <td>77545707</td>\n",
       "      <td>77545796</td>\n",
       "      <td>ENST00000418110.5</td>\n",
       "      <td>+</td>\n",
       "      <td>chr7</td>\n",
       "      <td>77545645</td>\n",
       "      <td>77545844</td>\n",
       "    </tr>\n",
       "    <tr>\n",
       "      <th>2</th>\n",
       "      <td>chr7</td>\n",
       "      <td>42113320</td>\n",
       "      <td>42113409</td>\n",
       "      <td>ENST00000423237.1</td>\n",
       "      <td>+</td>\n",
       "      <td>chr7</td>\n",
       "      <td>42113334</td>\n",
       "      <td>42113533</td>\n",
       "    </tr>\n",
       "    <tr>\n",
       "      <th>3</th>\n",
       "      <td>chr7</td>\n",
       "      <td>18949718</td>\n",
       "      <td>18949807</td>\n",
       "      <td>ENST00000452663.1</td>\n",
       "      <td>-</td>\n",
       "      <td>chr7</td>\n",
       "      <td>18949599</td>\n",
       "      <td>18949798</td>\n",
       "    </tr>\n",
       "    <tr>\n",
       "      <th>4</th>\n",
       "      <td>chr7</td>\n",
       "      <td>73543849</td>\n",
       "      <td>73543938</td>\n",
       "      <td>ENST00000481667.1</td>\n",
       "      <td>-</td>\n",
       "      <td>chr7</td>\n",
       "      <td>73543761</td>\n",
       "      <td>73543960</td>\n",
       "    </tr>\n",
       "    <tr>\n",
       "      <th>...</th>\n",
       "      <td>...</td>\n",
       "      <td>...</td>\n",
       "      <td>...</td>\n",
       "      <td>...</td>\n",
       "      <td>...</td>\n",
       "      <td>...</td>\n",
       "      <td>...</td>\n",
       "      <td>...</td>\n",
       "    </tr>\n",
       "    <tr>\n",
       "      <th>143</th>\n",
       "      <td>chr18</td>\n",
       "      <td>10681684</td>\n",
       "      <td>10681773</td>\n",
       "      <td>ENST00000579151.1</td>\n",
       "      <td>-</td>\n",
       "      <td>chr18</td>\n",
       "      <td>10681696</td>\n",
       "      <td>10681895</td>\n",
       "    </tr>\n",
       "    <tr>\n",
       "      <th>144</th>\n",
       "      <td>chr15</td>\n",
       "      <td>36895258</td>\n",
       "      <td>36895347</td>\n",
       "      <td>ENST00000557992.1</td>\n",
       "      <td>-</td>\n",
       "      <td>chr15</td>\n",
       "      <td>36895234</td>\n",
       "      <td>36895433</td>\n",
       "    </tr>\n",
       "    <tr>\n",
       "      <th>145</th>\n",
       "      <td>chr15</td>\n",
       "      <td>44575228</td>\n",
       "      <td>44575317</td>\n",
       "      <td>ENST00000558080.1</td>\n",
       "      <td>-</td>\n",
       "      <td>chr15</td>\n",
       "      <td>44575245</td>\n",
       "      <td>44575444</td>\n",
       "    </tr>\n",
       "    <tr>\n",
       "      <th>146</th>\n",
       "      <td>chr15</td>\n",
       "      <td>36895243</td>\n",
       "      <td>36895332</td>\n",
       "      <td>ENST00000559972.1</td>\n",
       "      <td>-</td>\n",
       "      <td>chr15</td>\n",
       "      <td>36895234</td>\n",
       "      <td>36895433</td>\n",
       "    </tr>\n",
       "    <tr>\n",
       "      <th>147</th>\n",
       "      <td>chr15</td>\n",
       "      <td>36895234</td>\n",
       "      <td>36895323</td>\n",
       "      <td>ENST00000561264.6</td>\n",
       "      <td>-</td>\n",
       "      <td>chr15</td>\n",
       "      <td>36895234</td>\n",
       "      <td>36895433</td>\n",
       "    </tr>\n",
       "  </tbody>\n",
       "</table>\n",
       "<p>148 rows × 8 columns</p>\n",
       "</div>"
      ],
      "text/plain": [
       "     chrom     start       end               name score strand  thickStart  \\\n",
       "0     chr7   6004341   6004430  ENST00000365120.1     -   chr7     6004337   \n",
       "1     chr7  77545707  77545796  ENST00000418110.5     +   chr7    77545645   \n",
       "2     chr7  42113320  42113409  ENST00000423237.1     +   chr7    42113334   \n",
       "3     chr7  18949718  18949807  ENST00000452663.1     -   chr7    18949599   \n",
       "4     chr7  73543849  73543938  ENST00000481667.1     -   chr7    73543761   \n",
       "..     ...       ...       ...                ...   ...    ...         ...   \n",
       "143  chr18  10681684  10681773  ENST00000579151.1     -  chr18    10681696   \n",
       "144  chr15  36895258  36895347  ENST00000557992.1     -  chr15    36895234   \n",
       "145  chr15  44575228  44575317  ENST00000558080.1     -  chr15    44575245   \n",
       "146  chr15  36895243  36895332  ENST00000559972.1     -  chr15    36895234   \n",
       "147  chr15  36895234  36895323  ENST00000561264.6     -  chr15    36895234   \n",
       "\n",
       "     thickEnd  \n",
       "0     6004536  \n",
       "1    77545844  \n",
       "2    42113533  \n",
       "3    18949798  \n",
       "4    73543960  \n",
       "..        ...  \n",
       "143  10681895  \n",
       "144  36895433  \n",
       "145  44575444  \n",
       "146  36895433  \n",
       "147  36895433  \n",
       "\n",
       "[148 rows x 8 columns]"
      ]
     },
     "execution_count": 14,
     "metadata": {},
     "output_type": "execute_result"
    }
   ],
   "source": [
    "intersect_df"
   ]
  },
  {
   "cell_type": "code",
   "execution_count": 15,
   "id": "6fb86814-5210-4192-a307-2ac5d8011f2f",
   "metadata": {},
   "outputs": [],
   "source": [
    "intersect_df.to_csv(\"/data/projects/Enhancer/RECOMB_2024/Intersected_data/CoreProm_Enhancer_intersect.tsv\", sep='\\t', index=False)\n",
    "#output_df.to_csv(\"/data/private/pdutta/DNABERT_data/Splice_sites/Acceptor_raw_files/PART_Acceptor_Transcript_intersect_details.tsv\", sep='\\t', index=False)"
   ]
  },
  {
   "cell_type": "code",
   "execution_count": 16,
   "id": "c49d372d-31da-484a-bc1e-06d2a9cbbc8a",
   "metadata": {},
   "outputs": [],
   "source": [
    "chr_wise_DBSNP_files = glob.glob('/data/projects/VCF_files/DBSNP/ChrWise_Data/*.csv')"
   ]
  },
  {
   "cell_type": "code",
   "execution_count": 17,
   "id": "5fbeb40a-4ce5-412b-9e3a-4659d0d4cab9",
   "metadata": {},
   "outputs": [
    {
     "name": "stdout",
     "output_type": "stream",
     "text": [
      "/data/projects/VCF_files/DBSNP/ChrWise_Data/chr7_data.csv\n"
     ]
    },
    {
     "name": "stderr",
     "output_type": "stream",
     "text": [
      "/data/projects/temp/ipykernel_1148936/2691389721.py:4: DtypeWarning: Columns (1,2,5) have mixed types. Specify dtype option on import or set low_memory=False.\n",
      "  df = pd.read_csv(dbsnp_file, header=None, sep= ',', usecols=[0, 1, 2, 3, 4, 5,6])\n"
     ]
    },
    {
     "name": "stdout",
     "output_type": "stream",
     "text": [
      "      0      1      2             3  4  5   6\n",
      "1  chr7  10001  10002  rs1583156258  T  1  C,\n",
      "2  chr7  10002  10003  rs1583156262  A  1  G,\n",
      "3  chr7  10003  10004  rs1583156265  A  1  C,\n",
      "4  chr7  10004  10005  rs1583156268  C  1  A,\n",
      "5  chr7  10006  10007  rs1781584841  C  1  T,\n",
      "/data/projects/VCF_files/DBSNP/ChrWise_Data/chr13_data.csv\n"
     ]
    },
    {
     "name": "stderr",
     "output_type": "stream",
     "text": [
      "/data/projects/temp/ipykernel_1148936/2691389721.py:4: DtypeWarning: Columns (1,2,5) have mixed types. Specify dtype option on import or set low_memory=False.\n",
      "  df = pd.read_csv(dbsnp_file, header=None, sep= ',', usecols=[0, 1, 2, 3, 4, 5,6])\n"
     ]
    },
    {
     "name": "stdout",
     "output_type": "stream",
     "text": [
      "       0         1         2             3  4  5   6\n",
      "1  chr13  16000025  16000026  rs1175737345  T  1  A,\n",
      "2  chr13  16000063  16000064  rs1957610123  G  1  A,\n",
      "3  chr13  16000079  16000080  rs1957610132  G  1  T,\n",
      "4  chr13  16000081  16000082  rs1957610136  A  1  C,\n",
      "5  chr13  16000100  16000101  rs1957610144  T  1  C,\n",
      "/data/projects/VCF_files/DBSNP/ChrWise_Data/chrY_data.csv\n"
     ]
    },
    {
     "name": "stderr",
     "output_type": "stream",
     "text": [
      "/data/projects/temp/ipykernel_1148936/2691389721.py:4: DtypeWarning: Columns (1,2,5) have mixed types. Specify dtype option on import or set low_memory=False.\n",
      "  df = pd.read_csv(dbsnp_file, header=None, sep= ',', usecols=[0, 1, 2, 3, 4, 5,6])\n"
     ]
    },
    {
     "name": "stdout",
     "output_type": "stream",
     "text": [
      "      0      1      2             3  4  5     6\n",
      "1  chrY  10001  10002  rs1226858834  T  1    A,\n",
      "2  chrY  10002  10003   rs375039031  A  2  C,G,\n",
      "3  chrY  10006  10007  rs1422184628  C  1    G,\n",
      "4  chrY  10007  10008  rs1179917603  T  1    G,\n",
      "5  chrY  10008  10009   rs565284081  A  2  C,G,\n",
      "/data/projects/VCF_files/DBSNP/ChrWise_Data/chrX_data.csv\n"
     ]
    },
    {
     "name": "stderr",
     "output_type": "stream",
     "text": [
      "/data/projects/temp/ipykernel_1148936/2691389721.py:4: DtypeWarning: Columns (1,2,5) have mixed types. Specify dtype option on import or set low_memory=False.\n",
      "  df = pd.read_csv(dbsnp_file, header=None, sep= ',', usecols=[0, 1, 2, 3, 4, 5,6])\n"
     ]
    },
    {
     "name": "stdout",
     "output_type": "stream",
     "text": [
      "      0      1      2             3  4  5     6\n",
      "1  chrX  10001  10002  rs1226858834  T  1    A,\n",
      "2  chrX  10002  10003   rs375039031  A  2  C,G,\n",
      "3  chrX  10006  10007  rs1422184628  C  1    G,\n",
      "4  chrX  10007  10008  rs1179917603  T  1    G,\n",
      "5  chrX  10008  10009   rs565284081  A  2  C,G,\n",
      "/data/projects/VCF_files/DBSNP/ChrWise_Data/chr15_data.csv\n"
     ]
    },
    {
     "name": "stderr",
     "output_type": "stream",
     "text": [
      "/data/projects/temp/ipykernel_1148936/2691389721.py:4: DtypeWarning: Columns (1,2,5) have mixed types. Specify dtype option on import or set low_memory=False.\n",
      "  df = pd.read_csv(dbsnp_file, header=None, sep= ',', usecols=[0, 1, 2, 3, 4, 5,6])\n"
     ]
    },
    {
     "name": "stdout",
     "output_type": "stream",
     "text": [
      "       0         1         2             3  4  5     6\n",
      "1  chr15  17000014  17000015  rs1566750235  A  1   AA,\n",
      "2  chr15  17000025  17000026  rs2044609058  T  1    G,\n",
      "3  chr15  17000028  17000029  rs1464642334  G  1    T,\n",
      "4  chr15  17000037  17000038  rs1427739243  T  2  A,C,\n",
      "5  chr15  17000048  17000049  rs2044609081  T  1    C,\n",
      "/data/projects/VCF_files/DBSNP/ChrWise_Data/chr6_data.csv\n"
     ]
    },
    {
     "name": "stderr",
     "output_type": "stream",
     "text": [
      "/data/projects/temp/ipykernel_1148936/2691389721.py:4: DtypeWarning: Columns (1,2,5) have mixed types. Specify dtype option on import or set low_memory=False.\n",
      "  df = pd.read_csv(dbsnp_file, header=None, sep= ',', usecols=[0, 1, 2, 3, 4, 5,6])\n"
     ]
    },
    {
     "name": "stdout",
     "output_type": "stream",
     "text": [
      "      0      1      2             3  4  5   6\n",
      "1  chr6  61733  61734  rs1761792635  C  1  T,\n",
      "2  chr6  61734  61735  rs1357314184  T  1  A,\n",
      "3  chr6  61753  61754  rs1761792694  G  1  A,\n",
      "4  chr6  61754  61755  rs1269839351  G  1  T,\n",
      "5  chr6  61761  61762  rs1761792734  T  1  A,\n",
      "/data/projects/VCF_files/DBSNP/ChrWise_Data/chr19_data.csv\n"
     ]
    },
    {
     "name": "stderr",
     "output_type": "stream",
     "text": [
      "/data/projects/temp/ipykernel_1148936/2691389721.py:4: DtypeWarning: Columns (1,2,5) have mixed types. Specify dtype option on import or set low_memory=False.\n",
      "  df = pd.read_csv(dbsnp_file, header=None, sep= ',', usecols=[0, 1, 2, 3, 4, 5,6])\n"
     ]
    },
    {
     "name": "stdout",
     "output_type": "stream",
     "text": [
      "       0      1      2             3  4  5   6\n",
      "1  chr19  60061  60062  rs1555674440  G  1  C,\n",
      "2  chr19  60172  60173  rs1371922052  G  1  A,\n",
      "3  chr19  60222  60223  rs1187548881  A  1  G,\n",
      "4  chr19  60250  60251  rs1310995734  G  1  A,\n",
      "5  chr19  60318  60319  rs1244952011  C  1  T,\n",
      "/data/projects/VCF_files/DBSNP/ChrWise_Data/chr1_data.csv\n"
     ]
    },
    {
     "name": "stderr",
     "output_type": "stream",
     "text": [
      "/data/projects/temp/ipykernel_1148936/2691389721.py:4: DtypeWarning: Columns (1,2,5) have mixed types. Specify dtype option on import or set low_memory=False.\n",
      "  df = pd.read_csv(dbsnp_file, header=None, sep= ',', usecols=[0, 1, 2, 3, 4, 5,6])\n"
     ]
    },
    {
     "name": "stdout",
     "output_type": "stream",
     "text": [
      "      0      1      2             3  4  5       6\n",
      "1  chr1  10000  10001  rs1570391677  T  2    A,C,\n",
      "2  chr1  10001  10002  rs1570391692  A  1      C,\n",
      "3  chr1  10002  10003  rs1570391694  A  1      C,\n",
      "4  chr1  10006  10007  rs1639538116  T  2    C,G,\n",
      "5  chr1  10007  10008  rs1570391698  A  3  C,G,T,\n",
      "/data/projects/VCF_files/DBSNP/ChrWise_Data/chr5_data.csv\n"
     ]
    },
    {
     "name": "stderr",
     "output_type": "stream",
     "text": [
      "/data/projects/temp/ipykernel_1148936/2691389721.py:4: DtypeWarning: Columns (1,2,5) have mixed types. Specify dtype option on import or set low_memory=False.\n",
      "  df = pd.read_csv(dbsnp_file, header=None, sep= ',', usecols=[0, 1, 2, 3, 4, 5,6])\n"
     ]
    },
    {
     "name": "stdout",
     "output_type": "stream",
     "text": [
      "      0      1      2             3  4  5     6\n",
      "1  chr5  10017  10018  rs1658455299  C  1    A,\n",
      "2  chr5  10020  10021  rs1742866267  A  1    G,\n",
      "3  chr5  10021  10022  rs1742866288  C  1    A,\n",
      "4  chr5  10022  10023  rs1742866315  C  2  A,G,\n",
      "5  chr5  10023  10024  rs1742866334  C  1    A,\n",
      "/data/projects/VCF_files/DBSNP/ChrWise_Data/chr12_data.csv\n"
     ]
    },
    {
     "name": "stderr",
     "output_type": "stream",
     "text": [
      "/data/projects/temp/ipykernel_1148936/2691389721.py:4: DtypeWarning: Columns (1,2,5) have mixed types. Specify dtype option on import or set low_memory=False.\n",
      "  df = pd.read_csv(dbsnp_file, header=None, sep= ',', usecols=[0, 1, 2, 3, 4, 5,6])\n"
     ]
    },
    {
     "name": "stdout",
     "output_type": "stream",
     "text": [
      "       0      1      2             3  4  5   6\n",
      "1  chr12  10009  10010  rs1591589648  A  1  G,\n",
      "2  chr12  10015  10016  rs1862308353  A  1  G,\n",
      "3  chr12  10016  10017  rs1591589651  C  1  A,\n",
      "4  chr12  10019  10020  rs1591589652  T  1  G,\n",
      "5  chr12  10020  10021  rs1591589654  A  1  C,\n",
      "/data/projects/VCF_files/DBSNP/ChrWise_Data/chr10_data.csv\n"
     ]
    },
    {
     "name": "stderr",
     "output_type": "stream",
     "text": [
      "/data/projects/temp/ipykernel_1148936/2691389721.py:4: DtypeWarning: Columns (1,2,5) have mixed types. Specify dtype option on import or set low_memory=False.\n",
      "  df = pd.read_csv(dbsnp_file, header=None, sep= ',', usecols=[0, 1, 2, 3, 4, 5,6])\n"
     ]
    },
    {
     "name": "stdout",
     "output_type": "stream",
     "text": [
      "       0      1      2             3  4  5     6\n",
      "1  chr10  10022  10023  rs1243990134  C  1    A,\n",
      "2  chr10  10030  10031  rs1834135687  C  2  A,G,\n",
      "3  chr10  10033  10034  rs1834135707  A  1    G,\n",
      "4  chr10  10035  10036  rs1834135720  C  2  A,T,\n",
      "5  chr10  10040  10041  rs1834135754  C  1    A,\n",
      "/data/projects/VCF_files/DBSNP/ChrWise_Data/chr9_data.csv\n"
     ]
    },
    {
     "name": "stderr",
     "output_type": "stream",
     "text": [
      "/data/projects/temp/ipykernel_1148936/2691389721.py:4: DtypeWarning: Columns (1,2,5) have mixed types. Specify dtype option on import or set low_memory=False.\n",
      "  df = pd.read_csv(dbsnp_file, header=None, sep= ',', usecols=[0, 1, 2, 3, 4, 5,6])\n"
     ]
    },
    {
     "name": "stdout",
     "output_type": "stream",
     "text": [
      "      0      1      2             3  4  5     6\n",
      "1  chr9  10006  10007  rs1449034754  T  1    C,\n",
      "2  chr9  10006  10007  rs1815666481  T  1     ,\n",
      "3  chr9  10008  10009  rs1587255763  A  2  C,G,\n",
      "4  chr9  10012  10013  rs1265381183  T  2  C,G,\n",
      "5  chr9  10013  10014  rs1587255772  A  1    C,\n",
      "/data/projects/VCF_files/DBSNP/ChrWise_Data/chrM_data.csv\n",
      "      0   1   2             3  4  5   6\n",
      "1  chrM   9  10   rs879233578  T  1  C,\n",
      "2  chrM  15  16  rs1556422363  A  1  T,\n",
      "3  chrM  25  26   rs879071945  C  1  T,\n",
      "4  chrM  40  41   rs879100564  C  1  T,\n",
      "5  chrM  41  42  rs1603218266  T  1  C,\n",
      "/data/projects/VCF_files/DBSNP/ChrWise_Data/chr8_data.csv\n"
     ]
    },
    {
     "name": "stderr",
     "output_type": "stream",
     "text": [
      "/data/projects/temp/ipykernel_1148936/2691389721.py:4: DtypeWarning: Columns (1,2,5) have mixed types. Specify dtype option on import or set low_memory=False.\n",
      "  df = pd.read_csv(dbsnp_file, header=None, sep= ',', usecols=[0, 1, 2, 3, 4, 5,6])\n"
     ]
    },
    {
     "name": "stdout",
     "output_type": "stream",
     "text": [
      "      0      1      2             3  4  5   6\n",
      "1  chr8  60008  60009  rs1584847528  G  1  T,\n",
      "2  chr8  60021  60022  rs1800303754  A  1  C,\n",
      "3  chr8  60023  60024  rs1584847530  A  1  C,\n",
      "4  chr8  60024  60025  rs1584847532  C  1  A,\n",
      "5  chr8  60048  60049  rs1800303798  A  1  G,\n",
      "/data/projects/VCF_files/DBSNP/ChrWise_Data/chr21_data.csv\n"
     ]
    },
    {
     "name": "stderr",
     "output_type": "stream",
     "text": [
      "/data/projects/temp/ipykernel_1148936/2691389721.py:4: DtypeWarning: Columns (1,2,5) have mixed types. Specify dtype option on import or set low_memory=False.\n",
      "  df = pd.read_csv(dbsnp_file, header=None, sep= ',', usecols=[0, 1, 2, 3, 4, 5,6])\n"
     ]
    },
    {
     "name": "stdout",
     "output_type": "stream",
     "text": [
      "       0        1        2             3  4  5   6\n",
      "1  chr21  5025531  5025532  rs1879593094  G  1  C,\n",
      "2  chr21  5030087  5030088  rs1455320509  C  1  T,\n",
      "3  chr21  5030104  5030105  rs1173141359  C  1  A,\n",
      "4  chr21  5030150  5030151  rs1601770018  T  1  G,\n",
      "5  chr21  5030153  5030154  rs1461284410  T  1  C,\n",
      "/data/projects/VCF_files/DBSNP/ChrWise_Data/chr20_data.csv\n"
     ]
    },
    {
     "name": "stderr",
     "output_type": "stream",
     "text": [
      "/data/projects/temp/ipykernel_1148936/2691389721.py:4: DtypeWarning: Columns (1,2,5) have mixed types. Specify dtype option on import or set low_memory=False.\n",
      "  df = pd.read_csv(dbsnp_file, header=None, sep= ',', usecols=[0, 1, 2, 3, 4, 5,6])\n"
     ]
    },
    {
     "name": "stdout",
     "output_type": "stream",
     "text": [
      "       0      1      2             3  4  5   6\n",
      "1  chr20  60001  60002   rs555848207  G  1  C,\n",
      "2  chr20  60008  60009  rs1600128456  C  1  A,\n",
      "3  chr20  60009  60010  rs1340966003  G  1  A,\n",
      "4  chr20  60017  60018  rs2054408755  A  1  C,\n",
      "5  chr20  60021  60022  rs1178632636  G  1  A,\n",
      "/data/projects/VCF_files/DBSNP/ChrWise_Data/chr11_data.csv\n"
     ]
    },
    {
     "name": "stderr",
     "output_type": "stream",
     "text": [
      "/data/projects/temp/ipykernel_1148936/2691389721.py:4: DtypeWarning: Columns (1,2,5) have mixed types. Specify dtype option on import or set low_memory=False.\n",
      "  df = pd.read_csv(dbsnp_file, header=None, sep= ',', usecols=[0, 1, 2, 3, 4, 5,6])\n"
     ]
    },
    {
     "name": "stdout",
     "output_type": "stream",
     "text": [
      "       0      1      2             3  4  5   6\n",
      "1  chr11  60849  60850  rs1590036156  C  1  T,\n",
      "2  chr11  60993  60994  rs1452162522  T  1  C,\n",
      "3  chr11  61117  61118   rs867959887  A  1  C,\n",
      "4  chr11  61118  61119  rs1187622598  A  1  G,\n",
      "5  chr11  61154  61155   rs899119276  A  1  G,\n",
      "/data/projects/VCF_files/DBSNP/ChrWise_Data/chr22_data.csv\n"
     ]
    },
    {
     "name": "stderr",
     "output_type": "stream",
     "text": [
      "/data/projects/temp/ipykernel_1148936/2691389721.py:4: DtypeWarning: Columns (1,2,5) have mixed types. Specify dtype option on import or set low_memory=False.\n",
      "  df = pd.read_csv(dbsnp_file, header=None, sep= ',', usecols=[0, 1, 2, 3, 4, 5,6])\n"
     ]
    },
    {
     "name": "stdout",
     "output_type": "stream",
     "text": [
      "       0         1         2             3  4  5   6\n",
      "1  chr22  10510050  10510051  rs2061858963  T  1  C,\n",
      "2  chr22  10510054  10510055  rs2061858972  A  1  G,\n",
      "3  chr22  10510076  10510077  rs1290354662  C  1  A,\n",
      "4  chr22  10510090  10510091  rs2061858975  T  1  A,\n",
      "5  chr22  10510104  10510105  rs1325858619  T  1  A,\n",
      "/data/projects/VCF_files/DBSNP/ChrWise_Data/chr18_data.csv\n"
     ]
    },
    {
     "name": "stderr",
     "output_type": "stream",
     "text": [
      "/data/projects/temp/ipykernel_1148936/2691389721.py:4: DtypeWarning: Columns (1,2,5) have mixed types. Specify dtype option on import or set low_memory=False.\n",
      "  df = pd.read_csv(dbsnp_file, header=None, sep= ',', usecols=[0, 1, 2, 3, 4, 5,6])\n"
     ]
    },
    {
     "name": "stdout",
     "output_type": "stream",
     "text": [
      "       0      1      2             3  4  5     6\n",
      "1  chr18  10001  10002  rs1600555225  C  1    T,\n",
      "2  chr18  10002  10003  rs1905036575  C  1    T,\n",
      "3  chr18  10003  10004  rs1600555228  T  1    C,\n",
      "4  chr18  10004  10005   rs111219353  A  2  C,T,\n",
      "5  chr18  10005  10006  rs1600555234  A  2  C,G,\n",
      "/data/projects/VCF_files/DBSNP/ChrWise_Data/chr14_data.csv\n"
     ]
    },
    {
     "name": "stderr",
     "output_type": "stream",
     "text": [
      "/data/projects/temp/ipykernel_1148936/2691389721.py:4: DtypeWarning: Columns (1,2,5) have mixed types. Specify dtype option on import or set low_memory=False.\n",
      "  df = pd.read_csv(dbsnp_file, header=None, sep= ',', usecols=[0, 1, 2, 3, 4, 5,6])\n"
     ]
    },
    {
     "name": "stdout",
     "output_type": "stream",
     "text": [
      "       0         1         2             3          4  5    6\n",
      "1  chr14  16022653  16022654  rs2089043555          T  1   C,\n",
      "2  chr14  16022660  16022661  rs1391007058          C  1   T,\n",
      "3  chr14  16022660  16022663  rs1273995405        CCC  1  CC,\n",
      "4  chr14  16022662  16022671  rs2089043582  CGTGTGTGT  1    ,\n",
      "5  chr14  16022663  16022664  rs2089043587          G  1   A,\n",
      "/data/projects/VCF_files/DBSNP/ChrWise_Data/chr16_data.csv\n"
     ]
    },
    {
     "name": "stderr",
     "output_type": "stream",
     "text": [
      "/data/projects/temp/ipykernel_1148936/2691389721.py:4: DtypeWarning: Columns (1,2,5) have mixed types. Specify dtype option on import or set low_memory=False.\n",
      "  df = pd.read_csv(dbsnp_file, header=None, sep= ',', usecols=[0, 1, 2, 3, 4, 5,6])\n"
     ]
    },
    {
     "name": "stdout",
     "output_type": "stream",
     "text": [
      "       0      1      2             3  4  5     6\n",
      "1  chr16  10000  10001  rs1896969576  T  1    C,\n",
      "2  chr16  10001  10002  rs1596443048  A  1    T,\n",
      "3  chr16  10003  10004  rs1596443052  C  1    A,\n",
      "4  chr16  10005  10006  rs1167029723  C  1    G,\n",
      "5  chr16  10006  10007  rs1416464287  T  2  A,C,\n",
      "/data/projects/VCF_files/DBSNP/ChrWise_Data/chr4_data.csv\n"
     ]
    },
    {
     "name": "stderr",
     "output_type": "stream",
     "text": [
      "/data/projects/temp/ipykernel_1148936/2691389721.py:4: DtypeWarning: Columns (1,2,5) have mixed types. Specify dtype option on import or set low_memory=False.\n",
      "  df = pd.read_csv(dbsnp_file, header=None, sep= ',', usecols=[0, 1, 2, 3, 4, 5,6])\n"
     ]
    },
    {
     "name": "stdout",
     "output_type": "stream",
     "text": [
      "      0      1      2             3    4  5      6\n",
      "1  chr4  10000  10001  rs1581341342    A  1     C,\n",
      "2  chr4  10001  10001  rs1560073237  NaN  1     G,\n",
      "3  chr4  10001  10002  rs1581341346    C  1     A,\n",
      "4  chr4  10001  10004  rs1560073246  CCC  1  CCCC,\n",
      "5  chr4  10003  10004  rs1581341351    C  1     T,\n",
      "/data/projects/VCF_files/DBSNP/ChrWise_Data/chr3_data.csv\n"
     ]
    },
    {
     "name": "stderr",
     "output_type": "stream",
     "text": [
      "/data/projects/temp/ipykernel_1148936/2691389721.py:4: DtypeWarning: Columns (1,2,5) have mixed types. Specify dtype option on import or set low_memory=False.\n",
      "  df = pd.read_csv(dbsnp_file, header=None, sep= ',', usecols=[0, 1, 2, 3, 4, 5,6])\n"
     ]
    },
    {
     "name": "stdout",
     "output_type": "stream",
     "text": [
      "      0      1      2             3   4  5       6\n",
      "1  chr3  10008  10009  rs1339898020   A  3  C,G,T,\n",
      "2  chr3  10009  10010  rs1695495101   A  1      C,\n",
      "3  chr3  10010  10011  rs1695495136   C  1      A,\n",
      "4  chr3  10014  10015  rs1206436362   A  1      C,\n",
      "5  chr3  10014  10016  rs1695495167  AA  1    AAA,\n",
      "/data/projects/VCF_files/DBSNP/ChrWise_Data/chr17_data.csv\n"
     ]
    },
    {
     "name": "stderr",
     "output_type": "stream",
     "text": [
      "/data/projects/temp/ipykernel_1148936/2691389721.py:4: DtypeWarning: Columns (1,2,5) have mixed types. Specify dtype option on import or set low_memory=False.\n",
      "  df = pd.read_csv(dbsnp_file, header=None, sep= ',', usecols=[0, 1, 2, 3, 4, 5,6])\n"
     ]
    },
    {
     "name": "stdout",
     "output_type": "stream",
     "text": [
      "       0      1      2             3  4  5   6\n",
      "1  chr17  60054  60055  rs2039333033  G  1  A,\n",
      "2  chr17  60086  60087  rs2039333047  C  1  T,\n",
      "3  chr17  60102  60103  rs1399099657  G  1  A,\n",
      "4  chr17  60103  60104  rs1363626035  C  1  T,\n",
      "5  chr17  60149  60150  rs2039333080  C  1  A,\n",
      "/data/projects/VCF_files/DBSNP/ChrWise_Data/chr2_data.csv\n"
     ]
    },
    {
     "name": "stderr",
     "output_type": "stream",
     "text": [
      "/data/projects/temp/ipykernel_1148936/2691389721.py:4: DtypeWarning: Columns (1,2,5) have mixed types. Specify dtype option on import or set low_memory=False.\n",
      "  df = pd.read_csv(dbsnp_file, header=None, sep= ',', usecols=[0, 1, 2, 3, 4, 5,6])\n"
     ]
    },
    {
     "name": "stdout",
     "output_type": "stream",
     "text": [
      "      0      1      2             3        4  5         6\n",
      "1  chr2  10006  10007  rs1572047073        C  1        A,\n",
      "2  chr2  10015  10015  rs1558169263      NaN  1        G,\n",
      "3  chr2  10016  10023  rs1558169385  CACCCAC  1      CAC,\n",
      "4  chr2  10018  10021  rs1558169386      CCC  1       CC,\n",
      "5  chr2  10019  10019  rs1558169388      NaN  2  ACA,ACG,\n"
     ]
    }
   ],
   "source": [
    "for dbsnp_file in chr_wise_DBSNP_files:\n",
    "    # Read the csv file into a DataFrame\n",
    "    print(dbsnp_file)\n",
    "    df = pd.read_csv(dbsnp_file, header=None, sep= ',', usecols=[0, 1, 2, 3, 4, 5,6])\n",
    "    df = df.iloc[1:]\n",
    "    print(df.head())\n",
    "    \n",
    "    # Convert the DataFrame to a BedTool\n",
    "    dbsnp = pybedtools.BedTool.from_dataframe(df)\n",
    "    \n",
    "    # Intersect the BedTool with the transcript file\n",
    "    intersected = intersect_bed.intersect(dbsnp, wa=True, wb=True)\n",
    "    \n",
    "    # Save the intersected BedTool to a bed file\n",
    "    output_file = \"/data/projects/Enhancer/RECOMB_2024/Intersected_data/CoreProm/Chrwise/intersected_DBSNP_transcript_\" + dbsnp_file.split('/')[-1].replace('.csv', '.tsv')\n",
    "    intersected.saveas(output_file)"
   ]
  },
  {
   "cell_type": "code",
   "execution_count": 18,
   "id": "53bb1a47-0faa-4d39-8190-192cbc549d91",
   "metadata": {},
   "outputs": [],
   "source": [
    "tsv_files = [f for f in os.listdir(\"/data/projects/Enhancer/RECOMB_2024/Intersected_data/CoreProm/Chrwise\") if f.endswith('.tsv') and \"chrM\" not in f]"
   ]
  },
  {
   "cell_type": "code",
   "execution_count": 19,
   "id": "d51feace-e44a-470c-94fd-892c1e5d1266",
   "metadata": {},
   "outputs": [
    {
     "data": {
      "text/plain": [
       "['intersected_DBSNP_transcript_chr2_data.tsv',\n",
       " 'intersected_DBSNP_transcript_chr13_data.tsv',\n",
       " 'intersected_DBSNP_transcript_chrY_data.tsv',\n",
       " 'intersected_DBSNP_transcript_chr19_data.tsv',\n",
       " 'intersected_DBSNP_transcript_chr21_data.tsv',\n",
       " 'intersected_DBSNP_transcript_chr7_data.tsv',\n",
       " 'intersected_DBSNP_transcript_chr12_data.tsv',\n",
       " 'intersected_DBSNP_transcript_chr9_data.tsv',\n",
       " 'intersected_DBSNP_transcript_chr6_data.tsv',\n",
       " 'intersected_DBSNP_transcript_chr3_data.tsv',\n",
       " 'intersected_DBSNP_transcript_chr4_data.tsv',\n",
       " 'intersected_DBSNP_transcript_chr11_data.tsv',\n",
       " 'intersected_DBSNP_transcript_chr15_data.tsv',\n",
       " 'intersected_DBSNP_transcript_chr22_data.tsv',\n",
       " 'intersected_DBSNP_transcript_chr18_data.tsv',\n",
       " 'intersected_DBSNP_transcript_chr16_data.tsv',\n",
       " 'intersected_DBSNP_transcript_chr10_data.tsv',\n",
       " 'intersected_DBSNP_transcript_chr1_data.tsv',\n",
       " 'intersected_DBSNP_transcript_chrX_data.tsv',\n",
       " 'intersected_DBSNP_transcript_chr14_data.tsv',\n",
       " 'intersected_DBSNP_transcript_chr17_data.tsv',\n",
       " 'intersected_DBSNP_transcript_chr8_data.tsv',\n",
       " 'intersected_DBSNP_transcript_chr20_data.tsv',\n",
       " 'intersected_DBSNP_transcript_chr5_data.tsv']"
      ]
     },
     "execution_count": 19,
     "metadata": {},
     "output_type": "execute_result"
    }
   ],
   "source": [
    "tsv_files"
   ]
  },
  {
   "cell_type": "code",
   "execution_count": 20,
   "id": "2c591269-6fe3-413f-9e4c-d84ecf8470bf",
   "metadata": {},
   "outputs": [
    {
     "name": "stdout",
     "output_type": "stream",
     "text": [
      "(171, 15)\n",
      "(106, 15)\n",
      "Warning: /data/projects/Enhancer/RECOMB_2024/Intersected_data/CoreProm/Chrwise/intersected_DBSNP_transcript_chrY_data.tsv is empty and will be skipped.\n",
      "(325, 15)\n",
      "Warning: /data/projects/Enhancer/RECOMB_2024/Intersected_data/CoreProm/Chrwise/intersected_DBSNP_transcript_chr21_data.tsv is empty and will be skipped.\n",
      "(366, 15)\n",
      "(120, 15)\n",
      "(238, 15)\n",
      "(195, 15)\n",
      "(30, 15)\n",
      "(440, 15)\n",
      "(604, 15)\n",
      "(123, 15)\n",
      "(139, 15)\n",
      "(45, 15)\n",
      "(128, 15)\n",
      "(38, 15)\n",
      "(519, 15)\n",
      "(108, 15)\n",
      "(286, 15)\n",
      "(246, 15)\n",
      "(541, 15)\n",
      "(35, 15)\n",
      "(366, 15)\n"
     ]
    }
   ],
   "source": [
    "# Read each .tsv file into a pandas DataFrame and store them in a list\n",
    "list_of_dfs = []\n",
    "\n",
    "for file in tsv_files:\n",
    "    file_path = os.path.join(\"/data/projects/Enhancer/RECOMB_2024/Intersected_data/CoreProm/Chrwise\", file)\n",
    "    try:\n",
    "        # Attempt to read the .tsv file\n",
    "        df = pd.read_csv(file_path, sep='\\t', header=None)\n",
    "        print(df.shape)\n",
    "        list_of_dfs.append(df)\n",
    "    except pd.errors.EmptyDataError:\n",
    "        print(f\"Warning: {file_path} is empty and will be skipped.\")"
   ]
  },
  {
   "cell_type": "code",
   "execution_count": 21,
   "id": "cd1b63d3-dc0e-4c3f-982c-96c4e01fc7ac",
   "metadata": {},
   "outputs": [
    {
     "data": {
      "text/html": [
       "<div>\n",
       "<style scoped>\n",
       "    .dataframe tbody tr th:only-of-type {\n",
       "        vertical-align: middle;\n",
       "    }\n",
       "\n",
       "    .dataframe tbody tr th {\n",
       "        vertical-align: top;\n",
       "    }\n",
       "\n",
       "    .dataframe thead th {\n",
       "        text-align: right;\n",
       "    }\n",
       "</style>\n",
       "<table border=\"1\" class=\"dataframe\">\n",
       "  <thead>\n",
       "    <tr style=\"text-align: right;\">\n",
       "      <th></th>\n",
       "      <th>chr_name</th>\n",
       "      <th>CoreProm_start</th>\n",
       "      <th>CoreProm_end</th>\n",
       "      <th>Transcript_id</th>\n",
       "      <th>Strand</th>\n",
       "      <th>Enhancer_start</th>\n",
       "      <th>Enhancer_end</th>\n",
       "      <th>Variant_start</th>\n",
       "      <th>Variant_end</th>\n",
       "      <th>RS_ID</th>\n",
       "      <th>Reference_Nucleotide</th>\n",
       "      <th>No_of_variations</th>\n",
       "      <th>Alternative_Nucleotides</th>\n",
       "    </tr>\n",
       "  </thead>\n",
       "  <tbody>\n",
       "    <tr>\n",
       "      <th>0</th>\n",
       "      <td>chr2</td>\n",
       "      <td>178702476</td>\n",
       "      <td>178702565</td>\n",
       "      <td>ENST00000414766.5</td>\n",
       "      <td>-</td>\n",
       "      <td>178702385</td>\n",
       "      <td>178702584</td>\n",
       "      <td>178702478</td>\n",
       "      <td>178702479</td>\n",
       "      <td>rs878862911</td>\n",
       "      <td>G</td>\n",
       "      <td>2</td>\n",
       "      <td>A,T,</td>\n",
       "    </tr>\n",
       "    <tr>\n",
       "      <th>1</th>\n",
       "      <td>chr2</td>\n",
       "      <td>178702476</td>\n",
       "      <td>178702565</td>\n",
       "      <td>ENST00000414766.5</td>\n",
       "      <td>-</td>\n",
       "      <td>178702385</td>\n",
       "      <td>178702584</td>\n",
       "      <td>178702482</td>\n",
       "      <td>178702483</td>\n",
       "      <td>rs138493804</td>\n",
       "      <td>G</td>\n",
       "      <td>1</td>\n",
       "      <td>A,</td>\n",
       "    </tr>\n",
       "    <tr>\n",
       "      <th>2</th>\n",
       "      <td>chr2</td>\n",
       "      <td>178702476</td>\n",
       "      <td>178702565</td>\n",
       "      <td>ENST00000414766.5</td>\n",
       "      <td>-</td>\n",
       "      <td>178702385</td>\n",
       "      <td>178702584</td>\n",
       "      <td>178702483</td>\n",
       "      <td>178702484</td>\n",
       "      <td>rs1189632210</td>\n",
       "      <td>T</td>\n",
       "      <td>1</td>\n",
       "      <td>G,</td>\n",
       "    </tr>\n",
       "    <tr>\n",
       "      <th>3</th>\n",
       "      <td>chr2</td>\n",
       "      <td>178702476</td>\n",
       "      <td>178702565</td>\n",
       "      <td>ENST00000414766.5</td>\n",
       "      <td>-</td>\n",
       "      <td>178702385</td>\n",
       "      <td>178702584</td>\n",
       "      <td>178702485</td>\n",
       "      <td>178702486</td>\n",
       "      <td>rs755668668</td>\n",
       "      <td>A</td>\n",
       "      <td>1</td>\n",
       "      <td>G,</td>\n",
       "    </tr>\n",
       "    <tr>\n",
       "      <th>4</th>\n",
       "      <td>chr2</td>\n",
       "      <td>178702476</td>\n",
       "      <td>178702565</td>\n",
       "      <td>ENST00000414766.5</td>\n",
       "      <td>-</td>\n",
       "      <td>178702385</td>\n",
       "      <td>178702584</td>\n",
       "      <td>178702487</td>\n",
       "      <td>178702488</td>\n",
       "      <td>rs1052276714</td>\n",
       "      <td>A</td>\n",
       "      <td>1</td>\n",
       "      <td>C,</td>\n",
       "    </tr>\n",
       "    <tr>\n",
       "      <th>...</th>\n",
       "      <td>...</td>\n",
       "      <td>...</td>\n",
       "      <td>...</td>\n",
       "      <td>...</td>\n",
       "      <td>...</td>\n",
       "      <td>...</td>\n",
       "      <td>...</td>\n",
       "      <td>...</td>\n",
       "      <td>...</td>\n",
       "      <td>...</td>\n",
       "      <td>...</td>\n",
       "      <td>...</td>\n",
       "      <td>...</td>\n",
       "    </tr>\n",
       "    <tr>\n",
       "      <th>5164</th>\n",
       "      <td>chr5</td>\n",
       "      <td>45226241</td>\n",
       "      <td>45226330</td>\n",
       "      <td>ENST00000671050.1</td>\n",
       "      <td>+</td>\n",
       "      <td>45226090</td>\n",
       "      <td>45226289</td>\n",
       "      <td>45226322</td>\n",
       "      <td>45226323</td>\n",
       "      <td>rs1209221494</td>\n",
       "      <td>T</td>\n",
       "      <td>1</td>\n",
       "      <td>G,</td>\n",
       "    </tr>\n",
       "    <tr>\n",
       "      <th>5165</th>\n",
       "      <td>chr5</td>\n",
       "      <td>45226241</td>\n",
       "      <td>45226330</td>\n",
       "      <td>ENST00000671050.1</td>\n",
       "      <td>+</td>\n",
       "      <td>45226090</td>\n",
       "      <td>45226289</td>\n",
       "      <td>45226324</td>\n",
       "      <td>45226325</td>\n",
       "      <td>rs1339528998</td>\n",
       "      <td>G</td>\n",
       "      <td>1</td>\n",
       "      <td>C,</td>\n",
       "    </tr>\n",
       "    <tr>\n",
       "      <th>5166</th>\n",
       "      <td>chr5</td>\n",
       "      <td>45226241</td>\n",
       "      <td>45226330</td>\n",
       "      <td>ENST00000671050.1</td>\n",
       "      <td>+</td>\n",
       "      <td>45226090</td>\n",
       "      <td>45226289</td>\n",
       "      <td>45226325</td>\n",
       "      <td>45226326</td>\n",
       "      <td>rs1743986238</td>\n",
       "      <td>T</td>\n",
       "      <td>1</td>\n",
       "      <td>C,</td>\n",
       "    </tr>\n",
       "    <tr>\n",
       "      <th>5167</th>\n",
       "      <td>chr5</td>\n",
       "      <td>45226241</td>\n",
       "      <td>45226330</td>\n",
       "      <td>ENST00000671050.1</td>\n",
       "      <td>+</td>\n",
       "      <td>45226090</td>\n",
       "      <td>45226289</td>\n",
       "      <td>45226327</td>\n",
       "      <td>45226328</td>\n",
       "      <td>rs1743986258</td>\n",
       "      <td>C</td>\n",
       "      <td>2</td>\n",
       "      <td>A,G,</td>\n",
       "    </tr>\n",
       "    <tr>\n",
       "      <th>5168</th>\n",
       "      <td>chr5</td>\n",
       "      <td>45226241</td>\n",
       "      <td>45226330</td>\n",
       "      <td>ENST00000671050.1</td>\n",
       "      <td>+</td>\n",
       "      <td>45226090</td>\n",
       "      <td>45226289</td>\n",
       "      <td>45226329</td>\n",
       "      <td>45226330</td>\n",
       "      <td>rs1743986279</td>\n",
       "      <td>T</td>\n",
       "      <td>1</td>\n",
       "      <td>G,</td>\n",
       "    </tr>\n",
       "  </tbody>\n",
       "</table>\n",
       "<p>5169 rows × 13 columns</p>\n",
       "</div>"
      ],
      "text/plain": [
       "     chr_name  CoreProm_start  CoreProm_end      Transcript_id Strand  \\\n",
       "0        chr2       178702476     178702565  ENST00000414766.5      -   \n",
       "1        chr2       178702476     178702565  ENST00000414766.5      -   \n",
       "2        chr2       178702476     178702565  ENST00000414766.5      -   \n",
       "3        chr2       178702476     178702565  ENST00000414766.5      -   \n",
       "4        chr2       178702476     178702565  ENST00000414766.5      -   \n",
       "...       ...             ...           ...                ...    ...   \n",
       "5164     chr5        45226241      45226330  ENST00000671050.1      +   \n",
       "5165     chr5        45226241      45226330  ENST00000671050.1      +   \n",
       "5166     chr5        45226241      45226330  ENST00000671050.1      +   \n",
       "5167     chr5        45226241      45226330  ENST00000671050.1      +   \n",
       "5168     chr5        45226241      45226330  ENST00000671050.1      +   \n",
       "\n",
       "      Enhancer_start  Enhancer_end  Variant_start  Variant_end         RS_ID  \\\n",
       "0          178702385     178702584      178702478    178702479   rs878862911   \n",
       "1          178702385     178702584      178702482    178702483   rs138493804   \n",
       "2          178702385     178702584      178702483    178702484  rs1189632210   \n",
       "3          178702385     178702584      178702485    178702486   rs755668668   \n",
       "4          178702385     178702584      178702487    178702488  rs1052276714   \n",
       "...              ...           ...            ...          ...           ...   \n",
       "5164        45226090      45226289       45226322     45226323  rs1209221494   \n",
       "5165        45226090      45226289       45226324     45226325  rs1339528998   \n",
       "5166        45226090      45226289       45226325     45226326  rs1743986238   \n",
       "5167        45226090      45226289       45226327     45226328  rs1743986258   \n",
       "5168        45226090      45226289       45226329     45226330  rs1743986279   \n",
       "\n",
       "     Reference_Nucleotide  No_of_variations Alternative_Nucleotides  \n",
       "0                       G                 2                    A,T,  \n",
       "1                       G                 1                      A,  \n",
       "2                       T                 1                      G,  \n",
       "3                       A                 1                      G,  \n",
       "4                       A                 1                      C,  \n",
       "...                   ...               ...                     ...  \n",
       "5164                    T                 1                      G,  \n",
       "5165                    G                 1                      C,  \n",
       "5166                    T                 1                      C,  \n",
       "5167                    C                 2                    A,G,  \n",
       "5168                    T                 1                      G,  \n",
       "\n",
       "[5169 rows x 13 columns]"
      ]
     },
     "execution_count": 21,
     "metadata": {},
     "output_type": "execute_result"
    }
   ],
   "source": [
    "# Concatenate all the DataFrames in the list into a single DataFrame\n",
    "final_df = pd.concat(list_of_dfs, ignore_index=True) if list_of_dfs else pd.DataFrame()\n",
    "final_df=final_df.drop(columns=[5, 8])\n",
    "new_columns = ['chr_name', 'CoreProm_start', 'CoreProm_end', 'Transcript_id', 'Strand', 'Enhancer_start', 'Enhancer_end', 'Variant_start', 'Variant_end', 'RS_ID', 'Reference_Nucleotide', 'No_of_variations', 'Alternative_Nucleotides']\n",
    "final_df.columns = new_columns\n",
    "final_df"
   ]
  },
  {
   "cell_type": "code",
   "execution_count": 23,
   "id": "832a8840-09bf-49e9-babb-46bfc0144c12",
   "metadata": {},
   "outputs": [
    {
     "name": "stdout",
     "output_type": "stream",
     "text": [
      "All .tsv files (excluding chrM) concatenated into /data/projects/Enhancer/RECOMB_2024/Intersected_data/CoreProm/all_data.tsv\n"
     ]
    }
   ],
   "source": [
    "# Write the final DataFrame to a new .tsv file (only if there's data)\n",
    "if not final_df.empty:\n",
    "    output_file_path = \"/data/projects/Enhancer/RECOMB_2024/Intersected_data/CoreProm/all_data.tsv\"\n",
    "    final_df.to_csv(output_file_path, sep='\\t', index=False)\n",
    "    print(f\"All .tsv files (excluding chrM) concatenated into {output_file_path}\")\n",
    "else:\n",
    "    print(\"No data to save after excluding empty files and chrM.\")"
   ]
  },
  {
   "cell_type": "code",
   "execution_count": null,
   "id": "66a392f1-f69e-42ce-9a03-ad122d356ad9",
   "metadata": {},
   "outputs": [],
   "source": []
  }
 ],
 "metadata": {
  "kernelspec": {
   "display_name": "Python 3 (ipykernel)",
   "language": "python",
   "name": "python3"
  },
  "language_info": {
   "codemirror_mode": {
    "name": "ipython",
    "version": 3
   },
   "file_extension": ".py",
   "mimetype": "text/x-python",
   "name": "python",
   "nbconvert_exporter": "python",
   "pygments_lexer": "ipython3",
   "version": "3.10.11"
  }
 },
 "nbformat": 4,
 "nbformat_minor": 5
}
