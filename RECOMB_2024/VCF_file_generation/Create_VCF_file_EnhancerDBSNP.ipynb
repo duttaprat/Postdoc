{
 "cells": [
  {
   "cell_type": "code",
   "execution_count": 7,
   "id": "6a8d39b1-357f-4f76-b564-72795875ec54",
   "metadata": {},
   "outputs": [],
   "source": [
    "import os, glob\n",
    "import pandas as pd\n",
    "from io import StringIO\n",
    "import pyBigWig\n",
    "import subprocess\n",
    "import pybedtools \n",
    "pybedtools.helpers.set_tempdir(\"/data/projects/temp\")"
   ]
  },
  {
   "cell_type": "code",
   "execution_count": 8,
   "id": "a76b2b24-06d0-406b-8247-cd359f252342",
   "metadata": {},
   "outputs": [],
   "source": [
    "enhancer_file_path = \"/data/projects/Enhancer/RECOMB_2024/Consensus_enhancer_coordinates.bed\""
   ]
  },
  {
   "cell_type": "code",
   "execution_count": 11,
   "id": "09d5f2e4-6845-4398-b273-692882cf970d",
   "metadata": {},
   "outputs": [
    {
     "data": {
      "text/html": [
       "<div>\n",
       "<style scoped>\n",
       "    .dataframe tbody tr th:only-of-type {\n",
       "        vertical-align: middle;\n",
       "    }\n",
       "\n",
       "    .dataframe tbody tr th {\n",
       "        vertical-align: top;\n",
       "    }\n",
       "\n",
       "    .dataframe thead th {\n",
       "        text-align: right;\n",
       "    }\n",
       "</style>\n",
       "<table border=\"1\" class=\"dataframe\">\n",
       "  <thead>\n",
       "    <tr style=\"text-align: right;\">\n",
       "      <th></th>\n",
       "      <th>chromosome_name</th>\n",
       "      <th>enhancer_start</th>\n",
       "      <th>enhancer_end</th>\n",
       "    </tr>\n",
       "  </thead>\n",
       "  <tbody>\n",
       "    <tr>\n",
       "      <th>0</th>\n",
       "      <td>chr4</td>\n",
       "      <td>60396362</td>\n",
       "      <td>60396561</td>\n",
       "    </tr>\n",
       "    <tr>\n",
       "      <th>1</th>\n",
       "      <td>chr12</td>\n",
       "      <td>62210443</td>\n",
       "      <td>62210642</td>\n",
       "    </tr>\n",
       "    <tr>\n",
       "      <th>2</th>\n",
       "      <td>chr13</td>\n",
       "      <td>48787316</td>\n",
       "      <td>48787515</td>\n",
       "    </tr>\n",
       "    <tr>\n",
       "      <th>3</th>\n",
       "      <td>chr12</td>\n",
       "      <td>92492896</td>\n",
       "      <td>92493095</td>\n",
       "    </tr>\n",
       "    <tr>\n",
       "      <th>4</th>\n",
       "      <td>chr17</td>\n",
       "      <td>42156974</td>\n",
       "      <td>42157173</td>\n",
       "    </tr>\n",
       "    <tr>\n",
       "      <th>...</th>\n",
       "      <td>...</td>\n",
       "      <td>...</td>\n",
       "      <td>...</td>\n",
       "    </tr>\n",
       "    <tr>\n",
       "      <th>98063</th>\n",
       "      <td>chr10</td>\n",
       "      <td>68963892</td>\n",
       "      <td>68964091</td>\n",
       "    </tr>\n",
       "    <tr>\n",
       "      <th>98064</th>\n",
       "      <td>chr12</td>\n",
       "      <td>62122443</td>\n",
       "      <td>62122642</td>\n",
       "    </tr>\n",
       "    <tr>\n",
       "      <th>98065</th>\n",
       "      <td>chr10</td>\n",
       "      <td>86525813</td>\n",
       "      <td>86526012</td>\n",
       "    </tr>\n",
       "    <tr>\n",
       "      <th>98066</th>\n",
       "      <td>chr11</td>\n",
       "      <td>6263678</td>\n",
       "      <td>6263877</td>\n",
       "    </tr>\n",
       "    <tr>\n",
       "      <th>98067</th>\n",
       "      <td>chr22</td>\n",
       "      <td>30135184</td>\n",
       "      <td>30135383</td>\n",
       "    </tr>\n",
       "  </tbody>\n",
       "</table>\n",
       "<p>98068 rows × 3 columns</p>\n",
       "</div>"
      ],
      "text/plain": [
       "      chromosome_name  enhancer_start  enhancer_end\n",
       "0                chr4        60396362      60396561\n",
       "1               chr12        62210443      62210642\n",
       "2               chr13        48787316      48787515\n",
       "3               chr12        92492896      92493095\n",
       "4               chr17        42156974      42157173\n",
       "...               ...             ...           ...\n",
       "98063           chr10        68963892      68964091\n",
       "98064           chr12        62122443      62122642\n",
       "98065           chr10        86525813      86526012\n",
       "98066           chr11         6263678       6263877\n",
       "98067           chr22        30135184      30135383\n",
       "\n",
       "[98068 rows x 3 columns]"
      ]
     },
     "execution_count": 11,
     "metadata": {},
     "output_type": "execute_result"
    }
   ],
   "source": [
    "df_enhancer = pd.read_csv(enhancer_file_path, sep=\"\\t\", names=['chromosome_name','enhancer_start','enhancer_end'])\n",
    "df_enhancer"
   ]
  },
  {
   "cell_type": "code",
   "execution_count": 12,
   "id": "109848c6-a7cb-4d9c-8f8f-200af8e09903",
   "metadata": {},
   "outputs": [],
   "source": [
    "str_io_enhancer = StringIO()\n",
    "df_enhancer[['chromosome_name','enhancer_start','enhancer_end']].to_csv(str_io_enhancer, sep='\\t', index=False, header=False)\n",
    "str_io_enhancer.seek(0)\n",
    "enhancer_bed = pybedtools.BedTool(str_io_enhancer.read(), from_string=True)"
   ]
  },
  {
   "cell_type": "code",
   "execution_count": 14,
   "id": "c49d372d-31da-484a-bc1e-06d2a9cbbc8a",
   "metadata": {},
   "outputs": [],
   "source": [
    "chr_wise_DBSNP_files = glob.glob('/data/projects/VCF_files/DBSNP/ChrWise_Data/*.csv')"
   ]
  },
  {
   "cell_type": "code",
   "execution_count": 15,
   "id": "5fbeb40a-4ce5-412b-9e3a-4659d0d4cab9",
   "metadata": {},
   "outputs": [
    {
     "name": "stdout",
     "output_type": "stream",
     "text": [
      "/data/projects/VCF_files/DBSNP/ChrWise_Data/chr7_data.csv\n"
     ]
    },
    {
     "name": "stderr",
     "output_type": "stream",
     "text": [
      "/data/projects/temp/ipykernel_1454982/2595262954.py:4: DtypeWarning: Columns (1,2,5) have mixed types. Specify dtype option on import or set low_memory=False.\n",
      "  df = pd.read_csv(dbsnp_file, header=None, sep= ',', usecols=[0, 1, 2, 3, 4, 5,6])\n"
     ]
    },
    {
     "name": "stdout",
     "output_type": "stream",
     "text": [
      "      0      1      2             3  4  5   6\n",
      "1  chr7  10001  10002  rs1583156258  T  1  C,\n",
      "2  chr7  10002  10003  rs1583156262  A  1  G,\n",
      "3  chr7  10003  10004  rs1583156265  A  1  C,\n",
      "4  chr7  10004  10005  rs1583156268  C  1  A,\n",
      "5  chr7  10006  10007  rs1781584841  C  1  T,\n",
      "/data/projects/VCF_files/DBSNP/ChrWise_Data/chr13_data.csv\n"
     ]
    },
    {
     "name": "stderr",
     "output_type": "stream",
     "text": [
      "/data/projects/temp/ipykernel_1454982/2595262954.py:4: DtypeWarning: Columns (1,2,5) have mixed types. Specify dtype option on import or set low_memory=False.\n",
      "  df = pd.read_csv(dbsnp_file, header=None, sep= ',', usecols=[0, 1, 2, 3, 4, 5,6])\n"
     ]
    },
    {
     "name": "stdout",
     "output_type": "stream",
     "text": [
      "       0         1         2             3  4  5   6\n",
      "1  chr13  16000025  16000026  rs1175737345  T  1  A,\n",
      "2  chr13  16000063  16000064  rs1957610123  G  1  A,\n",
      "3  chr13  16000079  16000080  rs1957610132  G  1  T,\n",
      "4  chr13  16000081  16000082  rs1957610136  A  1  C,\n",
      "5  chr13  16000100  16000101  rs1957610144  T  1  C,\n",
      "/data/projects/VCF_files/DBSNP/ChrWise_Data/chrY_data.csv\n"
     ]
    },
    {
     "name": "stderr",
     "output_type": "stream",
     "text": [
      "/data/projects/temp/ipykernel_1454982/2595262954.py:4: DtypeWarning: Columns (1,2,5) have mixed types. Specify dtype option on import or set low_memory=False.\n",
      "  df = pd.read_csv(dbsnp_file, header=None, sep= ',', usecols=[0, 1, 2, 3, 4, 5,6])\n"
     ]
    },
    {
     "name": "stdout",
     "output_type": "stream",
     "text": [
      "      0      1      2             3  4  5     6\n",
      "1  chrY  10001  10002  rs1226858834  T  1    A,\n",
      "2  chrY  10002  10003   rs375039031  A  2  C,G,\n",
      "3  chrY  10006  10007  rs1422184628  C  1    G,\n",
      "4  chrY  10007  10008  rs1179917603  T  1    G,\n",
      "5  chrY  10008  10009   rs565284081  A  2  C,G,\n",
      "/data/projects/VCF_files/DBSNP/ChrWise_Data/chrX_data.csv\n"
     ]
    },
    {
     "name": "stderr",
     "output_type": "stream",
     "text": [
      "/data/projects/temp/ipykernel_1454982/2595262954.py:4: DtypeWarning: Columns (1,2,5) have mixed types. Specify dtype option on import or set low_memory=False.\n",
      "  df = pd.read_csv(dbsnp_file, header=None, sep= ',', usecols=[0, 1, 2, 3, 4, 5,6])\n"
     ]
    },
    {
     "name": "stdout",
     "output_type": "stream",
     "text": [
      "      0      1      2             3  4  5     6\n",
      "1  chrX  10001  10002  rs1226858834  T  1    A,\n",
      "2  chrX  10002  10003   rs375039031  A  2  C,G,\n",
      "3  chrX  10006  10007  rs1422184628  C  1    G,\n",
      "4  chrX  10007  10008  rs1179917603  T  1    G,\n",
      "5  chrX  10008  10009   rs565284081  A  2  C,G,\n",
      "/data/projects/VCF_files/DBSNP/ChrWise_Data/chr15_data.csv\n"
     ]
    },
    {
     "name": "stderr",
     "output_type": "stream",
     "text": [
      "/data/projects/temp/ipykernel_1454982/2595262954.py:4: DtypeWarning: Columns (1,2,5) have mixed types. Specify dtype option on import or set low_memory=False.\n",
      "  df = pd.read_csv(dbsnp_file, header=None, sep= ',', usecols=[0, 1, 2, 3, 4, 5,6])\n"
     ]
    },
    {
     "name": "stdout",
     "output_type": "stream",
     "text": [
      "       0         1         2             3  4  5     6\n",
      "1  chr15  17000014  17000015  rs1566750235  A  1   AA,\n",
      "2  chr15  17000025  17000026  rs2044609058  T  1    G,\n",
      "3  chr15  17000028  17000029  rs1464642334  G  1    T,\n",
      "4  chr15  17000037  17000038  rs1427739243  T  2  A,C,\n",
      "5  chr15  17000048  17000049  rs2044609081  T  1    C,\n",
      "/data/projects/VCF_files/DBSNP/ChrWise_Data/chr6_data.csv\n"
     ]
    },
    {
     "name": "stderr",
     "output_type": "stream",
     "text": [
      "/data/projects/temp/ipykernel_1454982/2595262954.py:4: DtypeWarning: Columns (1,2,5) have mixed types. Specify dtype option on import or set low_memory=False.\n",
      "  df = pd.read_csv(dbsnp_file, header=None, sep= ',', usecols=[0, 1, 2, 3, 4, 5,6])\n"
     ]
    },
    {
     "name": "stdout",
     "output_type": "stream",
     "text": [
      "      0      1      2             3  4  5   6\n",
      "1  chr6  61733  61734  rs1761792635  C  1  T,\n",
      "2  chr6  61734  61735  rs1357314184  T  1  A,\n",
      "3  chr6  61753  61754  rs1761792694  G  1  A,\n",
      "4  chr6  61754  61755  rs1269839351  G  1  T,\n",
      "5  chr6  61761  61762  rs1761792734  T  1  A,\n",
      "/data/projects/VCF_files/DBSNP/ChrWise_Data/chr19_data.csv\n"
     ]
    },
    {
     "name": "stderr",
     "output_type": "stream",
     "text": [
      "/data/projects/temp/ipykernel_1454982/2595262954.py:4: DtypeWarning: Columns (1,2,5) have mixed types. Specify dtype option on import or set low_memory=False.\n",
      "  df = pd.read_csv(dbsnp_file, header=None, sep= ',', usecols=[0, 1, 2, 3, 4, 5,6])\n"
     ]
    },
    {
     "name": "stdout",
     "output_type": "stream",
     "text": [
      "       0      1      2             3  4  5   6\n",
      "1  chr19  60061  60062  rs1555674440  G  1  C,\n",
      "2  chr19  60172  60173  rs1371922052  G  1  A,\n",
      "3  chr19  60222  60223  rs1187548881  A  1  G,\n",
      "4  chr19  60250  60251  rs1310995734  G  1  A,\n",
      "5  chr19  60318  60319  rs1244952011  C  1  T,\n",
      "/data/projects/VCF_files/DBSNP/ChrWise_Data/chr1_data.csv\n"
     ]
    },
    {
     "name": "stderr",
     "output_type": "stream",
     "text": [
      "/data/projects/temp/ipykernel_1454982/2595262954.py:4: DtypeWarning: Columns (1,2,5) have mixed types. Specify dtype option on import or set low_memory=False.\n",
      "  df = pd.read_csv(dbsnp_file, header=None, sep= ',', usecols=[0, 1, 2, 3, 4, 5,6])\n"
     ]
    },
    {
     "name": "stdout",
     "output_type": "stream",
     "text": [
      "      0      1      2             3  4  5       6\n",
      "1  chr1  10000  10001  rs1570391677  T  2    A,C,\n",
      "2  chr1  10001  10002  rs1570391692  A  1      C,\n",
      "3  chr1  10002  10003  rs1570391694  A  1      C,\n",
      "4  chr1  10006  10007  rs1639538116  T  2    C,G,\n",
      "5  chr1  10007  10008  rs1570391698  A  3  C,G,T,\n",
      "/data/projects/VCF_files/DBSNP/ChrWise_Data/chr5_data.csv\n"
     ]
    },
    {
     "name": "stderr",
     "output_type": "stream",
     "text": [
      "/data/projects/temp/ipykernel_1454982/2595262954.py:4: DtypeWarning: Columns (1,2,5) have mixed types. Specify dtype option on import or set low_memory=False.\n",
      "  df = pd.read_csv(dbsnp_file, header=None, sep= ',', usecols=[0, 1, 2, 3, 4, 5,6])\n"
     ]
    },
    {
     "name": "stdout",
     "output_type": "stream",
     "text": [
      "      0      1      2             3  4  5     6\n",
      "1  chr5  10017  10018  rs1658455299  C  1    A,\n",
      "2  chr5  10020  10021  rs1742866267  A  1    G,\n",
      "3  chr5  10021  10022  rs1742866288  C  1    A,\n",
      "4  chr5  10022  10023  rs1742866315  C  2  A,G,\n",
      "5  chr5  10023  10024  rs1742866334  C  1    A,\n",
      "/data/projects/VCF_files/DBSNP/ChrWise_Data/chr12_data.csv\n"
     ]
    },
    {
     "name": "stderr",
     "output_type": "stream",
     "text": [
      "/data/projects/temp/ipykernel_1454982/2595262954.py:4: DtypeWarning: Columns (1,2,5) have mixed types. Specify dtype option on import or set low_memory=False.\n",
      "  df = pd.read_csv(dbsnp_file, header=None, sep= ',', usecols=[0, 1, 2, 3, 4, 5,6])\n"
     ]
    },
    {
     "name": "stdout",
     "output_type": "stream",
     "text": [
      "       0      1      2             3  4  5   6\n",
      "1  chr12  10009  10010  rs1591589648  A  1  G,\n",
      "2  chr12  10015  10016  rs1862308353  A  1  G,\n",
      "3  chr12  10016  10017  rs1591589651  C  1  A,\n",
      "4  chr12  10019  10020  rs1591589652  T  1  G,\n",
      "5  chr12  10020  10021  rs1591589654  A  1  C,\n",
      "/data/projects/VCF_files/DBSNP/ChrWise_Data/chr10_data.csv\n"
     ]
    },
    {
     "name": "stderr",
     "output_type": "stream",
     "text": [
      "/data/projects/temp/ipykernel_1454982/2595262954.py:4: DtypeWarning: Columns (1,2,5) have mixed types. Specify dtype option on import or set low_memory=False.\n",
      "  df = pd.read_csv(dbsnp_file, header=None, sep= ',', usecols=[0, 1, 2, 3, 4, 5,6])\n"
     ]
    },
    {
     "name": "stdout",
     "output_type": "stream",
     "text": [
      "       0      1      2             3  4  5     6\n",
      "1  chr10  10022  10023  rs1243990134  C  1    A,\n",
      "2  chr10  10030  10031  rs1834135687  C  2  A,G,\n",
      "3  chr10  10033  10034  rs1834135707  A  1    G,\n",
      "4  chr10  10035  10036  rs1834135720  C  2  A,T,\n",
      "5  chr10  10040  10041  rs1834135754  C  1    A,\n",
      "/data/projects/VCF_files/DBSNP/ChrWise_Data/chr9_data.csv\n"
     ]
    },
    {
     "name": "stderr",
     "output_type": "stream",
     "text": [
      "/data/projects/temp/ipykernel_1454982/2595262954.py:4: DtypeWarning: Columns (1,2,5) have mixed types. Specify dtype option on import or set low_memory=False.\n",
      "  df = pd.read_csv(dbsnp_file, header=None, sep= ',', usecols=[0, 1, 2, 3, 4, 5,6])\n"
     ]
    },
    {
     "name": "stdout",
     "output_type": "stream",
     "text": [
      "      0      1      2             3  4  5     6\n",
      "1  chr9  10006  10007  rs1449034754  T  1    C,\n",
      "2  chr9  10006  10007  rs1815666481  T  1     ,\n",
      "3  chr9  10008  10009  rs1587255763  A  2  C,G,\n",
      "4  chr9  10012  10013  rs1265381183  T  2  C,G,\n",
      "5  chr9  10013  10014  rs1587255772  A  1    C,\n",
      "/data/projects/VCF_files/DBSNP/ChrWise_Data/chrM_data.csv\n",
      "      0   1   2             3  4  5   6\n",
      "1  chrM   9  10   rs879233578  T  1  C,\n",
      "2  chrM  15  16  rs1556422363  A  1  T,\n",
      "3  chrM  25  26   rs879071945  C  1  T,\n",
      "4  chrM  40  41   rs879100564  C  1  T,\n",
      "5  chrM  41  42  rs1603218266  T  1  C,\n",
      "/data/projects/VCF_files/DBSNP/ChrWise_Data/chr8_data.csv\n"
     ]
    },
    {
     "name": "stderr",
     "output_type": "stream",
     "text": [
      "/data/projects/temp/ipykernel_1454982/2595262954.py:4: DtypeWarning: Columns (1,2,5) have mixed types. Specify dtype option on import or set low_memory=False.\n",
      "  df = pd.read_csv(dbsnp_file, header=None, sep= ',', usecols=[0, 1, 2, 3, 4, 5,6])\n"
     ]
    },
    {
     "name": "stdout",
     "output_type": "stream",
     "text": [
      "      0      1      2             3  4  5   6\n",
      "1  chr8  60008  60009  rs1584847528  G  1  T,\n",
      "2  chr8  60021  60022  rs1800303754  A  1  C,\n",
      "3  chr8  60023  60024  rs1584847530  A  1  C,\n",
      "4  chr8  60024  60025  rs1584847532  C  1  A,\n",
      "5  chr8  60048  60049  rs1800303798  A  1  G,\n",
      "/data/projects/VCF_files/DBSNP/ChrWise_Data/chr21_data.csv\n"
     ]
    },
    {
     "name": "stderr",
     "output_type": "stream",
     "text": [
      "/data/projects/temp/ipykernel_1454982/2595262954.py:4: DtypeWarning: Columns (1,2,5) have mixed types. Specify dtype option on import or set low_memory=False.\n",
      "  df = pd.read_csv(dbsnp_file, header=None, sep= ',', usecols=[0, 1, 2, 3, 4, 5,6])\n"
     ]
    },
    {
     "name": "stdout",
     "output_type": "stream",
     "text": [
      "       0        1        2             3  4  5   6\n",
      "1  chr21  5025531  5025532  rs1879593094  G  1  C,\n",
      "2  chr21  5030087  5030088  rs1455320509  C  1  T,\n",
      "3  chr21  5030104  5030105  rs1173141359  C  1  A,\n",
      "4  chr21  5030150  5030151  rs1601770018  T  1  G,\n",
      "5  chr21  5030153  5030154  rs1461284410  T  1  C,\n",
      "/data/projects/VCF_files/DBSNP/ChrWise_Data/chr20_data.csv\n"
     ]
    },
    {
     "name": "stderr",
     "output_type": "stream",
     "text": [
      "/data/projects/temp/ipykernel_1454982/2595262954.py:4: DtypeWarning: Columns (1,2,5) have mixed types. Specify dtype option on import or set low_memory=False.\n",
      "  df = pd.read_csv(dbsnp_file, header=None, sep= ',', usecols=[0, 1, 2, 3, 4, 5,6])\n"
     ]
    },
    {
     "name": "stdout",
     "output_type": "stream",
     "text": [
      "       0      1      2             3  4  5   6\n",
      "1  chr20  60001  60002   rs555848207  G  1  C,\n",
      "2  chr20  60008  60009  rs1600128456  C  1  A,\n",
      "3  chr20  60009  60010  rs1340966003  G  1  A,\n",
      "4  chr20  60017  60018  rs2054408755  A  1  C,\n",
      "5  chr20  60021  60022  rs1178632636  G  1  A,\n",
      "/data/projects/VCF_files/DBSNP/ChrWise_Data/chr11_data.csv\n"
     ]
    },
    {
     "name": "stderr",
     "output_type": "stream",
     "text": [
      "/data/projects/temp/ipykernel_1454982/2595262954.py:4: DtypeWarning: Columns (1,2,5) have mixed types. Specify dtype option on import or set low_memory=False.\n",
      "  df = pd.read_csv(dbsnp_file, header=None, sep= ',', usecols=[0, 1, 2, 3, 4, 5,6])\n"
     ]
    },
    {
     "name": "stdout",
     "output_type": "stream",
     "text": [
      "       0      1      2             3  4  5   6\n",
      "1  chr11  60849  60850  rs1590036156  C  1  T,\n",
      "2  chr11  60993  60994  rs1452162522  T  1  C,\n",
      "3  chr11  61117  61118   rs867959887  A  1  C,\n",
      "4  chr11  61118  61119  rs1187622598  A  1  G,\n",
      "5  chr11  61154  61155   rs899119276  A  1  G,\n",
      "/data/projects/VCF_files/DBSNP/ChrWise_Data/chr22_data.csv\n"
     ]
    },
    {
     "name": "stderr",
     "output_type": "stream",
     "text": [
      "/data/projects/temp/ipykernel_1454982/2595262954.py:4: DtypeWarning: Columns (1,2,5) have mixed types. Specify dtype option on import or set low_memory=False.\n",
      "  df = pd.read_csv(dbsnp_file, header=None, sep= ',', usecols=[0, 1, 2, 3, 4, 5,6])\n"
     ]
    },
    {
     "name": "stdout",
     "output_type": "stream",
     "text": [
      "       0         1         2             3  4  5   6\n",
      "1  chr22  10510050  10510051  rs2061858963  T  1  C,\n",
      "2  chr22  10510054  10510055  rs2061858972  A  1  G,\n",
      "3  chr22  10510076  10510077  rs1290354662  C  1  A,\n",
      "4  chr22  10510090  10510091  rs2061858975  T  1  A,\n",
      "5  chr22  10510104  10510105  rs1325858619  T  1  A,\n",
      "/data/projects/VCF_files/DBSNP/ChrWise_Data/chr18_data.csv\n"
     ]
    },
    {
     "name": "stderr",
     "output_type": "stream",
     "text": [
      "/data/projects/temp/ipykernel_1454982/2595262954.py:4: DtypeWarning: Columns (1,2,5) have mixed types. Specify dtype option on import or set low_memory=False.\n",
      "  df = pd.read_csv(dbsnp_file, header=None, sep= ',', usecols=[0, 1, 2, 3, 4, 5,6])\n"
     ]
    },
    {
     "name": "stdout",
     "output_type": "stream",
     "text": [
      "       0      1      2             3  4  5     6\n",
      "1  chr18  10001  10002  rs1600555225  C  1    T,\n",
      "2  chr18  10002  10003  rs1905036575  C  1    T,\n",
      "3  chr18  10003  10004  rs1600555228  T  1    C,\n",
      "4  chr18  10004  10005   rs111219353  A  2  C,T,\n",
      "5  chr18  10005  10006  rs1600555234  A  2  C,G,\n",
      "/data/projects/VCF_files/DBSNP/ChrWise_Data/chr14_data.csv\n"
     ]
    },
    {
     "name": "stderr",
     "output_type": "stream",
     "text": [
      "/data/projects/temp/ipykernel_1454982/2595262954.py:4: DtypeWarning: Columns (1,2,5) have mixed types. Specify dtype option on import or set low_memory=False.\n",
      "  df = pd.read_csv(dbsnp_file, header=None, sep= ',', usecols=[0, 1, 2, 3, 4, 5,6])\n"
     ]
    },
    {
     "name": "stdout",
     "output_type": "stream",
     "text": [
      "       0         1         2             3          4  5    6\n",
      "1  chr14  16022653  16022654  rs2089043555          T  1   C,\n",
      "2  chr14  16022660  16022661  rs1391007058          C  1   T,\n",
      "3  chr14  16022660  16022663  rs1273995405        CCC  1  CC,\n",
      "4  chr14  16022662  16022671  rs2089043582  CGTGTGTGT  1    ,\n",
      "5  chr14  16022663  16022664  rs2089043587          G  1   A,\n",
      "/data/projects/VCF_files/DBSNP/ChrWise_Data/chr16_data.csv\n"
     ]
    },
    {
     "name": "stderr",
     "output_type": "stream",
     "text": [
      "/data/projects/temp/ipykernel_1454982/2595262954.py:4: DtypeWarning: Columns (1,2,5) have mixed types. Specify dtype option on import or set low_memory=False.\n",
      "  df = pd.read_csv(dbsnp_file, header=None, sep= ',', usecols=[0, 1, 2, 3, 4, 5,6])\n"
     ]
    },
    {
     "name": "stdout",
     "output_type": "stream",
     "text": [
      "       0      1      2             3  4  5     6\n",
      "1  chr16  10000  10001  rs1896969576  T  1    C,\n",
      "2  chr16  10001  10002  rs1596443048  A  1    T,\n",
      "3  chr16  10003  10004  rs1596443052  C  1    A,\n",
      "4  chr16  10005  10006  rs1167029723  C  1    G,\n",
      "5  chr16  10006  10007  rs1416464287  T  2  A,C,\n",
      "/data/projects/VCF_files/DBSNP/ChrWise_Data/chr4_data.csv\n"
     ]
    },
    {
     "name": "stderr",
     "output_type": "stream",
     "text": [
      "/data/projects/temp/ipykernel_1454982/2595262954.py:4: DtypeWarning: Columns (1,2,5) have mixed types. Specify dtype option on import or set low_memory=False.\n",
      "  df = pd.read_csv(dbsnp_file, header=None, sep= ',', usecols=[0, 1, 2, 3, 4, 5,6])\n"
     ]
    },
    {
     "name": "stdout",
     "output_type": "stream",
     "text": [
      "      0      1      2             3    4  5      6\n",
      "1  chr4  10000  10001  rs1581341342    A  1     C,\n",
      "2  chr4  10001  10001  rs1560073237  NaN  1     G,\n",
      "3  chr4  10001  10002  rs1581341346    C  1     A,\n",
      "4  chr4  10001  10004  rs1560073246  CCC  1  CCCC,\n",
      "5  chr4  10003  10004  rs1581341351    C  1     T,\n",
      "/data/projects/VCF_files/DBSNP/ChrWise_Data/chr3_data.csv\n"
     ]
    },
    {
     "name": "stderr",
     "output_type": "stream",
     "text": [
      "/data/projects/temp/ipykernel_1454982/2595262954.py:4: DtypeWarning: Columns (1,2,5) have mixed types. Specify dtype option on import or set low_memory=False.\n",
      "  df = pd.read_csv(dbsnp_file, header=None, sep= ',', usecols=[0, 1, 2, 3, 4, 5,6])\n"
     ]
    },
    {
     "name": "stdout",
     "output_type": "stream",
     "text": [
      "      0      1      2             3   4  5       6\n",
      "1  chr3  10008  10009  rs1339898020   A  3  C,G,T,\n",
      "2  chr3  10009  10010  rs1695495101   A  1      C,\n",
      "3  chr3  10010  10011  rs1695495136   C  1      A,\n",
      "4  chr3  10014  10015  rs1206436362   A  1      C,\n",
      "5  chr3  10014  10016  rs1695495167  AA  1    AAA,\n",
      "/data/projects/VCF_files/DBSNP/ChrWise_Data/chr17_data.csv\n"
     ]
    },
    {
     "name": "stderr",
     "output_type": "stream",
     "text": [
      "/data/projects/temp/ipykernel_1454982/2595262954.py:4: DtypeWarning: Columns (1,2,5) have mixed types. Specify dtype option on import or set low_memory=False.\n",
      "  df = pd.read_csv(dbsnp_file, header=None, sep= ',', usecols=[0, 1, 2, 3, 4, 5,6])\n"
     ]
    },
    {
     "name": "stdout",
     "output_type": "stream",
     "text": [
      "       0      1      2             3  4  5   6\n",
      "1  chr17  60054  60055  rs2039333033  G  1  A,\n",
      "2  chr17  60086  60087  rs2039333047  C  1  T,\n",
      "3  chr17  60102  60103  rs1399099657  G  1  A,\n",
      "4  chr17  60103  60104  rs1363626035  C  1  T,\n",
      "5  chr17  60149  60150  rs2039333080  C  1  A,\n",
      "/data/projects/VCF_files/DBSNP/ChrWise_Data/chr2_data.csv\n"
     ]
    },
    {
     "name": "stderr",
     "output_type": "stream",
     "text": [
      "/data/projects/temp/ipykernel_1454982/2595262954.py:4: DtypeWarning: Columns (1,2,5) have mixed types. Specify dtype option on import or set low_memory=False.\n",
      "  df = pd.read_csv(dbsnp_file, header=None, sep= ',', usecols=[0, 1, 2, 3, 4, 5,6])\n"
     ]
    },
    {
     "name": "stdout",
     "output_type": "stream",
     "text": [
      "      0      1      2             3        4  5         6\n",
      "1  chr2  10006  10007  rs1572047073        C  1        A,\n",
      "2  chr2  10015  10015  rs1558169263      NaN  1        G,\n",
      "3  chr2  10016  10023  rs1558169385  CACCCAC  1      CAC,\n",
      "4  chr2  10018  10021  rs1558169386      CCC  1       CC,\n",
      "5  chr2  10019  10019  rs1558169388      NaN  2  ACA,ACG,\n"
     ]
    }
   ],
   "source": [
    "for dbsnp_file in chr_wise_DBSNP_files:\n",
    "    # Read the csv file into a DataFrame\n",
    "    print(dbsnp_file)\n",
    "    df = pd.read_csv(dbsnp_file, header=None, sep= ',', usecols=[0, 1, 2, 3, 4, 5,6])\n",
    "    df = df.iloc[1:]\n",
    "    print(df.head())\n",
    "    \n",
    "    # Convert the DataFrame to a BedTool\n",
    "    dbsnp = pybedtools.BedTool.from_dataframe(df)\n",
    "    \n",
    "    # Intersect the BedTool with the transcript file\n",
    "    intersected = enhancer_bed.intersect(dbsnp, wa=True, wb=True)\n",
    "    \n",
    "    # Save the intersected BedTool to a bed file\n",
    "    output_file = \"/data/projects/Enhancer/RECOMB_2024/Intersected_data/Chrwise/Concensus_data/intersected_DBSNP_transcript_\" + dbsnp_file.split('/')[-1].replace('.csv', '.tsv')\n",
    "    intersected.saveas(output_file)"
   ]
  },
  {
   "cell_type": "code",
   "execution_count": 16,
   "id": "53bb1a47-0faa-4d39-8190-192cbc549d91",
   "metadata": {},
   "outputs": [],
   "source": [
    "tsv_files = [f for f in os.listdir(\"/data/projects/Enhancer/RECOMB_2024/Intersected_data/Chrwise/Concensus_data\") if f.endswith('.tsv') and \"chrM\" not in f]"
   ]
  },
  {
   "cell_type": "code",
   "execution_count": 17,
   "id": "2c591269-6fe3-413f-9e4c-d84ecf8470bf",
   "metadata": {},
   "outputs": [
    {
     "data": {
      "text/plain": [
       "['intersected_DBSNP_transcript_chr2_data.tsv',\n",
       " 'intersected_DBSNP_transcript_chr13_data.tsv',\n",
       " 'intersected_DBSNP_transcript_chrY_data.tsv',\n",
       " 'intersected_DBSNP_transcript_chr19_data.tsv',\n",
       " 'intersected_DBSNP_transcript_chr21_data.tsv',\n",
       " 'intersected_DBSNP_transcript_chr7_data.tsv',\n",
       " 'intersected_DBSNP_transcript_chr12_data.tsv',\n",
       " 'intersected_DBSNP_transcript_chr9_data.tsv',\n",
       " 'intersected_DBSNP_transcript_chr6_data.tsv',\n",
       " 'intersected_DBSNP_transcript_chr3_data.tsv',\n",
       " 'intersected_DBSNP_transcript_chr4_data.tsv',\n",
       " 'intersected_DBSNP_transcript_chr11_data.tsv',\n",
       " 'intersected_DBSNP_transcript_chr15_data.tsv',\n",
       " 'intersected_DBSNP_transcript_chr22_data.tsv',\n",
       " 'intersected_DBSNP_transcript_chr18_data.tsv',\n",
       " 'intersected_DBSNP_transcript_chr16_data.tsv',\n",
       " 'intersected_DBSNP_transcript_chr10_data.tsv',\n",
       " 'intersected_DBSNP_transcript_chr1_data.tsv',\n",
       " 'intersected_DBSNP_transcript_chrX_data.tsv',\n",
       " 'intersected_DBSNP_transcript_chr14_data.tsv',\n",
       " 'intersected_DBSNP_transcript_chr17_data.tsv',\n",
       " 'intersected_DBSNP_transcript_chr8_data.tsv',\n",
       " 'intersected_DBSNP_transcript_chr20_data.tsv',\n",
       " 'intersected_DBSNP_transcript_chr5_data.tsv']"
      ]
     },
     "execution_count": 17,
     "metadata": {},
     "output_type": "execute_result"
    }
   ],
   "source": [
    "tsv_files"
   ]
  },
  {
   "cell_type": "code",
   "execution_count": 18,
   "id": "cd1b63d3-dc0e-4c3f-982c-96c4e01fc7ac",
   "metadata": {},
   "outputs": [
    {
     "name": "stdout",
     "output_type": "stream",
     "text": [
      "(440544, 10)\n",
      "(212104, 10)\n",
      "(3496, 10)\n",
      "(228139, 10)\n",
      "(89510, 10)\n",
      "(426757, 10)\n",
      "(354603, 10)\n",
      "(317361, 10)\n",
      "(389888, 10)\n",
      "(427288, 10)\n",
      "(356878, 10)\n",
      "(344866, 10)\n",
      "(230839, 10)\n",
      "(140876, 10)\n",
      "(196535, 10)\n",
      "(289748, 10)\n",
      "(379548, 10)\n",
      "(507216, 10)\n",
      "(152889, 10)\n",
      "(242013, 10)\n",
      "(270823, 10)\n",
      "(375459, 10)\n",
      "(175349, 10)\n",
      "(396808, 10)\n"
     ]
    }
   ],
   "source": [
    "# Read each .tsv file into a pandas DataFrame and store them in a list\n",
    "list_of_dfs = []\n",
    "\n",
    "for file in tsv_files:\n",
    "    file_path = os.path.join(\"/data/projects/Enhancer/RECOMB_2024/Intersected_data/Chrwise/Concensus_data\", file)\n",
    "    try:\n",
    "        # Attempt to read the .tsv file\n",
    "        df = pd.read_csv(file_path, sep='\\t', header=None)\n",
    "        print(df.shape)\n",
    "        list_of_dfs.append(df)\n",
    "    except pd.errors.EmptyDataError:\n",
    "        print(f\"Warning: {file_path} is empty and will be skipped.\")"
   ]
  },
  {
   "cell_type": "code",
   "execution_count": 19,
   "id": "2eece3c2-ae02-48f1-87cb-5aa2dff7d043",
   "metadata": {},
   "outputs": [
    {
     "data": {
      "text/html": [
       "<div>\n",
       "<style scoped>\n",
       "    .dataframe tbody tr th:only-of-type {\n",
       "        vertical-align: middle;\n",
       "    }\n",
       "\n",
       "    .dataframe tbody tr th {\n",
       "        vertical-align: top;\n",
       "    }\n",
       "\n",
       "    .dataframe thead th {\n",
       "        text-align: right;\n",
       "    }\n",
       "</style>\n",
       "<table border=\"1\" class=\"dataframe\">\n",
       "  <thead>\n",
       "    <tr style=\"text-align: right;\">\n",
       "      <th></th>\n",
       "      <th>chr_name</th>\n",
       "      <th>Enhancer_start</th>\n",
       "      <th>Enhancer_end</th>\n",
       "      <th>Variant_start</th>\n",
       "      <th>Variant_end</th>\n",
       "      <th>RS_ID</th>\n",
       "      <th>Reference_Nucleotide</th>\n",
       "      <th>No_of_variations</th>\n",
       "      <th>Alternative_Nucleotides</th>\n",
       "    </tr>\n",
       "  </thead>\n",
       "  <tbody>\n",
       "    <tr>\n",
       "      <th>0</th>\n",
       "      <td>chr2</td>\n",
       "      <td>236984140</td>\n",
       "      <td>236984339</td>\n",
       "      <td>236984140</td>\n",
       "      <td>236984141</td>\n",
       "      <td>rs1423429845</td>\n",
       "      <td>C</td>\n",
       "      <td>1</td>\n",
       "      <td>A,</td>\n",
       "    </tr>\n",
       "    <tr>\n",
       "      <th>1</th>\n",
       "      <td>chr2</td>\n",
       "      <td>236984140</td>\n",
       "      <td>236984339</td>\n",
       "      <td>236984152</td>\n",
       "      <td>236984153</td>\n",
       "      <td>rs1192060657</td>\n",
       "      <td>G</td>\n",
       "      <td>1</td>\n",
       "      <td>C,</td>\n",
       "    </tr>\n",
       "    <tr>\n",
       "      <th>2</th>\n",
       "      <td>chr2</td>\n",
       "      <td>236984140</td>\n",
       "      <td>236984339</td>\n",
       "      <td>236984153</td>\n",
       "      <td>236984154</td>\n",
       "      <td>rs1040350809</td>\n",
       "      <td>G</td>\n",
       "      <td>1</td>\n",
       "      <td>A,</td>\n",
       "    </tr>\n",
       "    <tr>\n",
       "      <th>3</th>\n",
       "      <td>chr2</td>\n",
       "      <td>236984140</td>\n",
       "      <td>236984339</td>\n",
       "      <td>236984154</td>\n",
       "      <td>236984155</td>\n",
       "      <td>rs1238087442</td>\n",
       "      <td>C</td>\n",
       "      <td>1</td>\n",
       "      <td>T,</td>\n",
       "    </tr>\n",
       "    <tr>\n",
       "      <th>4</th>\n",
       "      <td>chr2</td>\n",
       "      <td>236984140</td>\n",
       "      <td>236984339</td>\n",
       "      <td>236984158</td>\n",
       "      <td>236984159</td>\n",
       "      <td>rs1574804327</td>\n",
       "      <td>T</td>\n",
       "      <td>1</td>\n",
       "      <td>A,</td>\n",
       "    </tr>\n",
       "    <tr>\n",
       "      <th>...</th>\n",
       "      <td>...</td>\n",
       "      <td>...</td>\n",
       "      <td>...</td>\n",
       "      <td>...</td>\n",
       "      <td>...</td>\n",
       "      <td>...</td>\n",
       "      <td>...</td>\n",
       "      <td>...</td>\n",
       "      <td>...</td>\n",
       "    </tr>\n",
       "    <tr>\n",
       "      <th>6949532</th>\n",
       "      <td>chr5</td>\n",
       "      <td>172241923</td>\n",
       "      <td>172242122</td>\n",
       "      <td>172242111</td>\n",
       "      <td>172242112</td>\n",
       "      <td>rs1343067098</td>\n",
       "      <td>C</td>\n",
       "      <td>1</td>\n",
       "      <td>T,</td>\n",
       "    </tr>\n",
       "    <tr>\n",
       "      <th>6949533</th>\n",
       "      <td>chr5</td>\n",
       "      <td>172241923</td>\n",
       "      <td>172242122</td>\n",
       "      <td>172242112</td>\n",
       "      <td>172242113</td>\n",
       "      <td>rs1772142686</td>\n",
       "      <td>C</td>\n",
       "      <td>1</td>\n",
       "      <td>A,</td>\n",
       "    </tr>\n",
       "    <tr>\n",
       "      <th>6949534</th>\n",
       "      <td>chr5</td>\n",
       "      <td>172241923</td>\n",
       "      <td>172242122</td>\n",
       "      <td>172242113</td>\n",
       "      <td>172242114</td>\n",
       "      <td>rs1772142740</td>\n",
       "      <td>T</td>\n",
       "      <td>1</td>\n",
       "      <td>A,</td>\n",
       "    </tr>\n",
       "    <tr>\n",
       "      <th>6949535</th>\n",
       "      <td>chr5</td>\n",
       "      <td>172241923</td>\n",
       "      <td>172242122</td>\n",
       "      <td>172242118</td>\n",
       "      <td>172242119</td>\n",
       "      <td>rs140804318</td>\n",
       "      <td>C</td>\n",
       "      <td>2</td>\n",
       "      <td>A,T,</td>\n",
       "    </tr>\n",
       "    <tr>\n",
       "      <th>6949536</th>\n",
       "      <td>chr5</td>\n",
       "      <td>172241923</td>\n",
       "      <td>172242122</td>\n",
       "      <td>172242121</td>\n",
       "      <td>172242122</td>\n",
       "      <td>rs1020631860</td>\n",
       "      <td>C</td>\n",
       "      <td>1</td>\n",
       "      <td>A,</td>\n",
       "    </tr>\n",
       "  </tbody>\n",
       "</table>\n",
       "<p>6949537 rows × 9 columns</p>\n",
       "</div>"
      ],
      "text/plain": [
       "        chr_name  Enhancer_start  Enhancer_end  Variant_start  Variant_end  \\\n",
       "0           chr2       236984140     236984339      236984140    236984141   \n",
       "1           chr2       236984140     236984339      236984152    236984153   \n",
       "2           chr2       236984140     236984339      236984153    236984154   \n",
       "3           chr2       236984140     236984339      236984154    236984155   \n",
       "4           chr2       236984140     236984339      236984158    236984159   \n",
       "...          ...             ...           ...            ...          ...   \n",
       "6949532     chr5       172241923     172242122      172242111    172242112   \n",
       "6949533     chr5       172241923     172242122      172242112    172242113   \n",
       "6949534     chr5       172241923     172242122      172242113    172242114   \n",
       "6949535     chr5       172241923     172242122      172242118    172242119   \n",
       "6949536     chr5       172241923     172242122      172242121    172242122   \n",
       "\n",
       "                RS_ID Reference_Nucleotide  No_of_variations  \\\n",
       "0        rs1423429845                    C                 1   \n",
       "1        rs1192060657                    G                 1   \n",
       "2        rs1040350809                    G                 1   \n",
       "3        rs1238087442                    C                 1   \n",
       "4        rs1574804327                    T                 1   \n",
       "...               ...                  ...               ...   \n",
       "6949532  rs1343067098                    C                 1   \n",
       "6949533  rs1772142686                    C                 1   \n",
       "6949534  rs1772142740                    T                 1   \n",
       "6949535   rs140804318                    C                 2   \n",
       "6949536  rs1020631860                    C                 1   \n",
       "\n",
       "        Alternative_Nucleotides  \n",
       "0                            A,  \n",
       "1                            C,  \n",
       "2                            A,  \n",
       "3                            T,  \n",
       "4                            A,  \n",
       "...                         ...  \n",
       "6949532                      T,  \n",
       "6949533                      A,  \n",
       "6949534                      A,  \n",
       "6949535                    A,T,  \n",
       "6949536                      A,  \n",
       "\n",
       "[6949537 rows x 9 columns]"
      ]
     },
     "execution_count": 19,
     "metadata": {},
     "output_type": "execute_result"
    }
   ],
   "source": [
    "# Concatenate all the DataFrames in the list into a single DataFrame\n",
    "final_df = pd.concat(list_of_dfs, ignore_index=True) if list_of_dfs else pd.DataFrame()\n",
    "final_df=final_df.drop(columns=[3])\n",
    "new_columns = ['chr_name', 'Enhancer_start', 'Enhancer_end', 'Variant_start', 'Variant_end', 'RS_ID', 'Reference_Nucleotide', 'No_of_variations', 'Alternative_Nucleotides']\n",
    "final_df.columns = new_columns\n",
    "final_df"
   ]
  },
  {
   "cell_type": "code",
   "execution_count": 20,
   "id": "832a8840-09bf-49e9-babb-46bfc0144c12",
   "metadata": {},
   "outputs": [
    {
     "name": "stdout",
     "output_type": "stream",
     "text": [
      "All .tsv files (excluding chrM) concatenated into /data/projects/Enhancer/RECOMB_2024/Intersected_data/all_Enhancer_data_Consensus.tsv\n"
     ]
    }
   ],
   "source": [
    "# Write the final DataFrame to a new .tsv file (only if there's data)\n",
    "if not final_df.empty:\n",
    "    output_file_path = \"/data/projects/Enhancer/RECOMB_2024/Intersected_data/all_Enhancer_data_Consensus.tsv\"\n",
    "    final_df.to_csv(output_file_path, sep='\\t', index=False)\n",
    "    print(f\"All .tsv files (excluding chrM) concatenated into {output_file_path}\")\n",
    "else:\n",
    "    print(\"No data to save after excluding empty files and chrM.\")"
   ]
  },
  {
   "cell_type": "code",
   "execution_count": 1,
   "id": "9b17f3fb-82b1-481b-af5a-7c6c6643d664",
   "metadata": {},
   "outputs": [
    {
     "ename": "NameError",
     "evalue": "name 'final_df' is not defined",
     "output_type": "error",
     "traceback": [
      "\u001b[0;31m---------------------------------------------------------------------------\u001b[0m",
      "\u001b[0;31mNameError\u001b[0m                                 Traceback (most recent call last)",
      "Cell \u001b[0;32mIn[1], line 1\u001b[0m\n\u001b[0;32m----> 1\u001b[0m \u001b[43mfinal_df\u001b[49m\n",
      "\u001b[0;31mNameError\u001b[0m: name 'final_df' is not defined"
     ]
    }
   ],
   "source": [
    "final_df"
   ]
  },
  {
   "cell_type": "code",
   "execution_count": null,
   "id": "70a43dd5-a410-40f2-9785-179149e83af9",
   "metadata": {},
   "outputs": [],
   "source": []
  }
 ],
 "metadata": {
  "kernelspec": {
   "display_name": "Python 3 (ipykernel)",
   "language": "python",
   "name": "python3"
  },
  "language_info": {
   "codemirror_mode": {
    "name": "ipython",
    "version": 3
   },
   "file_extension": ".py",
   "mimetype": "text/x-python",
   "name": "python",
   "nbconvert_exporter": "python",
   "pygments_lexer": "ipython3",
   "version": "3.10.14"
  }
 },
 "nbformat": 4,
 "nbformat_minor": 5
}
