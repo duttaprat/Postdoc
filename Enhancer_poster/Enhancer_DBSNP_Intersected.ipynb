{
 "cells": [
  {
   "cell_type": "code",
   "execution_count": 10,
   "id": "064a64df-6d7b-494a-bb8f-6119aa6b2ee6",
   "metadata": {},
   "outputs": [
    {
     "name": "stdout",
     "output_type": "stream",
     "text": [
      "/home/pdutta/anaconda3/envs/GDC_VCF/lib/python3.10/site-packages/pybedtools/__init__.py\n"
     ]
    }
   ],
   "source": [
    "import os, glob\n",
    "import pandas as pd\n",
    "from io import StringIO\n",
    "import pybedtools\n",
    "print(pybedtools.__file__)\n",
    "pybedtools.helpers.set_tempdir('/home/pdutta/temp')"
   ]
  },
  {
   "cell_type": "code",
   "execution_count": 2,
   "id": "a00b682c-a7eb-4024-885c-5b3deb4e65d6",
   "metadata": {},
   "outputs": [],
   "source": [
    "base_path = \"/home/pdutta/Rekha_LabWork/Enhancer_Prediction_Project/2023/Work/Biosample_wise_models/Processing_for_DNABERT/DNABERT_fine-tune_data/cell_line/K562/NEW_data/All_CART-with-ZBTB33-enh/\""
   ]
  },
  {
   "cell_type": "code",
   "execution_count": 3,
   "id": "cc335cfb-90d7-480c-8b52-2afb942519bf",
   "metadata": {},
   "outputs": [],
   "source": [
    "df_train =pd.read_csv(base_path+\"K562_All_CART-with-ZBTB33-enh_train.tsv\", sep=\"\\t\")\n",
    "df_test =pd.read_csv(base_path+\"K562_All_CART-with-ZBTB33-enh_dev.tsv\", sep=\"\\t\")"
   ]
  },
  {
   "cell_type": "code",
   "execution_count": 4,
   "id": "230a5beb-57b4-4bbc-b2b6-cf52010dae30",
   "metadata": {},
   "outputs": [
    {
     "data": {
      "text/html": [
       "<div>\n",
       "<style scoped>\n",
       "    .dataframe tbody tr th:only-of-type {\n",
       "        vertical-align: middle;\n",
       "    }\n",
       "\n",
       "    .dataframe tbody tr th {\n",
       "        vertical-align: top;\n",
       "    }\n",
       "\n",
       "    .dataframe thead th {\n",
       "        text-align: right;\n",
       "    }\n",
       "</style>\n",
       "<table border=\"1\" class=\"dataframe\">\n",
       "  <thead>\n",
       "    <tr style=\"text-align: right;\">\n",
       "      <th></th>\n",
       "      <th>coord</th>\n",
       "    </tr>\n",
       "  </thead>\n",
       "  <tbody>\n",
       "    <tr>\n",
       "      <th>0</th>\n",
       "      <td>chr12:120523107-120523306</td>\n",
       "    </tr>\n",
       "    <tr>\n",
       "      <th>1</th>\n",
       "      <td>chr12:68390558-68390757</td>\n",
       "    </tr>\n",
       "    <tr>\n",
       "      <th>3</th>\n",
       "      <td>chr15:65604351-65604550</td>\n",
       "    </tr>\n",
       "    <tr>\n",
       "      <th>6</th>\n",
       "      <td>chr19:561375-561574</td>\n",
       "    </tr>\n",
       "    <tr>\n",
       "      <th>9</th>\n",
       "      <td>chr7:99046680-99046879</td>\n",
       "    </tr>\n",
       "    <tr>\n",
       "      <th>...</th>\n",
       "      <td>...</td>\n",
       "    </tr>\n",
       "    <tr>\n",
       "      <th>2153</th>\n",
       "      <td>chr18:2944504-2944703</td>\n",
       "    </tr>\n",
       "    <tr>\n",
       "      <th>2154</th>\n",
       "      <td>chr7:8267692-8267891</td>\n",
       "    </tr>\n",
       "    <tr>\n",
       "      <th>2156</th>\n",
       "      <td>chr6:35247125-35247324</td>\n",
       "    </tr>\n",
       "    <tr>\n",
       "      <th>2157</th>\n",
       "      <td>chr15:75093906-75094105</td>\n",
       "    </tr>\n",
       "    <tr>\n",
       "      <th>2158</th>\n",
       "      <td>chr12:6741836-6742035</td>\n",
       "    </tr>\n",
       "  </tbody>\n",
       "</table>\n",
       "<p>5396 rows × 1 columns</p>\n",
       "</div>"
      ],
      "text/plain": [
       "                          coord\n",
       "0     chr12:120523107-120523306\n",
       "1       chr12:68390558-68390757\n",
       "3       chr15:65604351-65604550\n",
       "6           chr19:561375-561574\n",
       "9        chr7:99046680-99046879\n",
       "...                         ...\n",
       "2153      chr18:2944504-2944703\n",
       "2154       chr7:8267692-8267891\n",
       "2156     chr6:35247125-35247324\n",
       "2157    chr15:75093906-75094105\n",
       "2158      chr12:6741836-6742035\n",
       "\n",
       "[5396 rows x 1 columns]"
      ]
     },
     "execution_count": 4,
     "metadata": {},
     "output_type": "execute_result"
    }
   ],
   "source": [
    "df = pd.concat([df_train, df_test])\n",
    "df_enhancer = df[df['label']==1][['coord']] \n",
    "df_enhancer"
   ]
  },
  {
   "cell_type": "code",
   "execution_count": 5,
   "id": "3b87d73a-b915-4f24-9203-fcaeeab801f7",
   "metadata": {},
   "outputs": [
    {
     "data": {
      "text/html": [
       "<div>\n",
       "<style scoped>\n",
       "    .dataframe tbody tr th:only-of-type {\n",
       "        vertical-align: middle;\n",
       "    }\n",
       "\n",
       "    .dataframe tbody tr th {\n",
       "        vertical-align: top;\n",
       "    }\n",
       "\n",
       "    .dataframe thead th {\n",
       "        text-align: right;\n",
       "    }\n",
       "</style>\n",
       "<table border=\"1\" class=\"dataframe\">\n",
       "  <thead>\n",
       "    <tr style=\"text-align: right;\">\n",
       "      <th></th>\n",
       "      <th>chromosome_name</th>\n",
       "      <th>enhancer_start</th>\n",
       "      <th>enhancer_end</th>\n",
       "    </tr>\n",
       "  </thead>\n",
       "  <tbody>\n",
       "    <tr>\n",
       "      <th>0</th>\n",
       "      <td>chr12</td>\n",
       "      <td>120523107</td>\n",
       "      <td>120523306</td>\n",
       "    </tr>\n",
       "    <tr>\n",
       "      <th>1</th>\n",
       "      <td>chr12</td>\n",
       "      <td>68390558</td>\n",
       "      <td>68390757</td>\n",
       "    </tr>\n",
       "    <tr>\n",
       "      <th>3</th>\n",
       "      <td>chr15</td>\n",
       "      <td>65604351</td>\n",
       "      <td>65604550</td>\n",
       "    </tr>\n",
       "    <tr>\n",
       "      <th>6</th>\n",
       "      <td>chr19</td>\n",
       "      <td>561375</td>\n",
       "      <td>561574</td>\n",
       "    </tr>\n",
       "    <tr>\n",
       "      <th>9</th>\n",
       "      <td>chr7</td>\n",
       "      <td>99046680</td>\n",
       "      <td>99046879</td>\n",
       "    </tr>\n",
       "    <tr>\n",
       "      <th>...</th>\n",
       "      <td>...</td>\n",
       "      <td>...</td>\n",
       "      <td>...</td>\n",
       "    </tr>\n",
       "    <tr>\n",
       "      <th>2153</th>\n",
       "      <td>chr18</td>\n",
       "      <td>2944504</td>\n",
       "      <td>2944703</td>\n",
       "    </tr>\n",
       "    <tr>\n",
       "      <th>2154</th>\n",
       "      <td>chr7</td>\n",
       "      <td>8267692</td>\n",
       "      <td>8267891</td>\n",
       "    </tr>\n",
       "    <tr>\n",
       "      <th>2156</th>\n",
       "      <td>chr6</td>\n",
       "      <td>35247125</td>\n",
       "      <td>35247324</td>\n",
       "    </tr>\n",
       "    <tr>\n",
       "      <th>2157</th>\n",
       "      <td>chr15</td>\n",
       "      <td>75093906</td>\n",
       "      <td>75094105</td>\n",
       "    </tr>\n",
       "    <tr>\n",
       "      <th>2158</th>\n",
       "      <td>chr12</td>\n",
       "      <td>6741836</td>\n",
       "      <td>6742035</td>\n",
       "    </tr>\n",
       "  </tbody>\n",
       "</table>\n",
       "<p>5396 rows × 3 columns</p>\n",
       "</div>"
      ],
      "text/plain": [
       "     chromosome_name  enhancer_start  enhancer_end\n",
       "0              chr12       120523107     120523306\n",
       "1              chr12        68390558      68390757\n",
       "3              chr15        65604351      65604550\n",
       "6              chr19          561375        561574\n",
       "9               chr7        99046680      99046879\n",
       "...              ...             ...           ...\n",
       "2153           chr18         2944504       2944703\n",
       "2154            chr7         8267692       8267891\n",
       "2156            chr6        35247125      35247324\n",
       "2157           chr15        75093906      75094105\n",
       "2158           chr12         6741836       6742035\n",
       "\n",
       "[5396 rows x 3 columns]"
      ]
     },
     "execution_count": 5,
     "metadata": {},
     "output_type": "execute_result"
    }
   ],
   "source": [
    "# Split the string at the colon (':')\n",
    "df_enhancer['chromosome_name'] = df_enhancer['coord'].str.split(':').str[0]\n",
    "df_enhancer['range'] = df_enhancer['coord'].str.split(':').str[1]\n",
    "\n",
    "# Split the range at the hyphen ('-')\n",
    "df_enhancer['enhancer_start'] = df_enhancer['range'].str.split('-').str[0].astype(int)\n",
    "df_enhancer['enhancer_end'] = df_enhancer['range'].str.split('-').str[1].astype(int)\n",
    "df_enhancer = df_enhancer.drop(columns=['coord', 'range'])\n",
    "df_enhancer"
   ]
  },
  {
   "cell_type": "code",
   "execution_count": 8,
   "id": "3d546455-2c79-4ddd-ba6e-2210ba95a742",
   "metadata": {},
   "outputs": [],
   "source": [
    "str_io_enhancer = StringIO()\n",
    "df_enhancer[['chromosome_name','enhancer_start','enhancer_end']].to_csv(str_io_enhancer, sep='\\t', index=False, header=False)\n",
    "str_io_enhancer.seek(0)\n",
    "enhancer_bed = pybedtools.BedTool(str_io_enhancer.read(), from_string=True)"
   ]
  },
  {
   "cell_type": "code",
   "execution_count": 11,
   "id": "611b4e18-b813-437a-8cd2-596fd1b446a8",
   "metadata": {},
   "outputs": [],
   "source": [
    "chr_wise_DBSNP_files = glob.glob('/home/pdutta/DBSNP_Chrwise/*.csv')"
   ]
  },
  {
   "cell_type": "code",
   "execution_count": 12,
   "id": "eb8c9a26-bb29-4ac5-8a44-10c2c249731b",
   "metadata": {},
   "outputs": [
    {
     "name": "stdout",
     "output_type": "stream",
     "text": [
      "/home/pdutta/DBSNP_Chrwise/chr17_data.csv\n"
     ]
    },
    {
     "name": "stderr",
     "output_type": "stream",
     "text": [
      "/home/pdutta/temp/ipykernel_196946/1816505842.py:4: DtypeWarning: Columns (1,2,5) have mixed types. Specify dtype option on import or set low_memory=False.\n",
      "  df = pd.read_csv(dbsnp_file, header=None, sep= ',', usecols=[0, 1, 2, 3, 4, 5,6])\n"
     ]
    },
    {
     "name": "stdout",
     "output_type": "stream",
     "text": [
      "       0      1      2             3  4  5   6\n",
      "1  chr17  60054  60055  rs2039333033  G  1  A,\n",
      "2  chr17  60086  60087  rs2039333047  C  1  T,\n",
      "3  chr17  60102  60103  rs1399099657  G  1  A,\n",
      "4  chr17  60103  60104  rs1363626035  C  1  T,\n",
      "5  chr17  60149  60150  rs2039333080  C  1  A,\n",
      "/home/pdutta/DBSNP_Chrwise/chrY_data.csv\n"
     ]
    },
    {
     "name": "stderr",
     "output_type": "stream",
     "text": [
      "/home/pdutta/temp/ipykernel_196946/1816505842.py:4: DtypeWarning: Columns (1,2,5) have mixed types. Specify dtype option on import or set low_memory=False.\n",
      "  df = pd.read_csv(dbsnp_file, header=None, sep= ',', usecols=[0, 1, 2, 3, 4, 5,6])\n"
     ]
    },
    {
     "name": "stdout",
     "output_type": "stream",
     "text": [
      "      0      1      2             3  4  5     6\n",
      "1  chrY  10001  10002  rs1226858834  T  1    A,\n",
      "2  chrY  10002  10003   rs375039031  A  2  C,G,\n",
      "3  chrY  10006  10007  rs1422184628  C  1    G,\n",
      "4  chrY  10007  10008  rs1179917603  T  1    G,\n",
      "5  chrY  10008  10009   rs565284081  A  2  C,G,\n",
      "/home/pdutta/DBSNP_Chrwise/chr14_data.csv\n"
     ]
    },
    {
     "name": "stderr",
     "output_type": "stream",
     "text": [
      "/home/pdutta/temp/ipykernel_196946/1816505842.py:4: DtypeWarning: Columns (1,2,5) have mixed types. Specify dtype option on import or set low_memory=False.\n",
      "  df = pd.read_csv(dbsnp_file, header=None, sep= ',', usecols=[0, 1, 2, 3, 4, 5,6])\n"
     ]
    },
    {
     "name": "stdout",
     "output_type": "stream",
     "text": [
      "       0         1         2             3          4  5    6\n",
      "1  chr14  16022653  16022654  rs2089043555          T  1   C,\n",
      "2  chr14  16022660  16022661  rs1391007058          C  1   T,\n",
      "3  chr14  16022660  16022663  rs1273995405        CCC  1  CC,\n",
      "4  chr14  16022662  16022671  rs2089043582  CGTGTGTGT  1    ,\n",
      "5  chr14  16022663  16022664  rs2089043587          G  1   A,\n",
      "/home/pdutta/DBSNP_Chrwise/chr2_data.csv\n"
     ]
    },
    {
     "name": "stderr",
     "output_type": "stream",
     "text": [
      "/home/pdutta/temp/ipykernel_196946/1816505842.py:4: DtypeWarning: Columns (1,2,5) have mixed types. Specify dtype option on import or set low_memory=False.\n",
      "  df = pd.read_csv(dbsnp_file, header=None, sep= ',', usecols=[0, 1, 2, 3, 4, 5,6])\n"
     ]
    },
    {
     "name": "stdout",
     "output_type": "stream",
     "text": [
      "      0      1      2             3        4  5         6\n",
      "1  chr2  10006  10007  rs1572047073        C  1        A,\n",
      "2  chr2  10015  10015  rs1558169263      NaN  1        G,\n",
      "3  chr2  10016  10023  rs1558169385  CACCCAC  1      CAC,\n",
      "4  chr2  10018  10021  rs1558169386      CCC  1       CC,\n",
      "5  chr2  10019  10019  rs1558169388      NaN  2  ACA,ACG,\n",
      "/home/pdutta/DBSNP_Chrwise/chr3_data.csv\n"
     ]
    },
    {
     "name": "stderr",
     "output_type": "stream",
     "text": [
      "/home/pdutta/temp/ipykernel_196946/1816505842.py:4: DtypeWarning: Columns (1,2,5) have mixed types. Specify dtype option on import or set low_memory=False.\n",
      "  df = pd.read_csv(dbsnp_file, header=None, sep= ',', usecols=[0, 1, 2, 3, 4, 5,6])\n"
     ]
    },
    {
     "name": "stdout",
     "output_type": "stream",
     "text": [
      "      0      1      2             3   4  5       6\n",
      "1  chr3  10008  10009  rs1339898020   A  3  C,G,T,\n",
      "2  chr3  10009  10010  rs1695495101   A  1      C,\n",
      "3  chr3  10010  10011  rs1695495136   C  1      A,\n",
      "4  chr3  10014  10015  rs1206436362   A  1      C,\n",
      "5  chr3  10014  10016  rs1695495167  AA  1    AAA,\n",
      "/home/pdutta/DBSNP_Chrwise/chr5_data.csv\n"
     ]
    },
    {
     "name": "stderr",
     "output_type": "stream",
     "text": [
      "/home/pdutta/temp/ipykernel_196946/1816505842.py:4: DtypeWarning: Columns (1,2,5) have mixed types. Specify dtype option on import or set low_memory=False.\n",
      "  df = pd.read_csv(dbsnp_file, header=None, sep= ',', usecols=[0, 1, 2, 3, 4, 5,6])\n"
     ]
    },
    {
     "name": "stdout",
     "output_type": "stream",
     "text": [
      "      0      1      2             3  4  5     6\n",
      "1  chr5  10017  10018  rs1658455299  C  1    A,\n",
      "2  chr5  10020  10021  rs1742866267  A  1    G,\n",
      "3  chr5  10021  10022  rs1742866288  C  1    A,\n",
      "4  chr5  10022  10023  rs1742866315  C  2  A,G,\n",
      "5  chr5  10023  10024  rs1742866334  C  1    A,\n",
      "/home/pdutta/DBSNP_Chrwise/chr4_data.csv\n"
     ]
    },
    {
     "name": "stderr",
     "output_type": "stream",
     "text": [
      "/home/pdutta/temp/ipykernel_196946/1816505842.py:4: DtypeWarning: Columns (1,2,5) have mixed types. Specify dtype option on import or set low_memory=False.\n",
      "  df = pd.read_csv(dbsnp_file, header=None, sep= ',', usecols=[0, 1, 2, 3, 4, 5,6])\n"
     ]
    },
    {
     "name": "stdout",
     "output_type": "stream",
     "text": [
      "      0      1      2             3    4  5      6\n",
      "1  chr4  10000  10001  rs1581341342    A  1     C,\n",
      "2  chr4  10001  10001  rs1560073237  NaN  1     G,\n",
      "3  chr4  10001  10002  rs1581341346    C  1     A,\n",
      "4  chr4  10001  10004  rs1560073246  CCC  1  CCCC,\n",
      "5  chr4  10003  10004  rs1581341351    C  1     T,\n",
      "/home/pdutta/DBSNP_Chrwise/chr19_data.csv\n"
     ]
    },
    {
     "name": "stderr",
     "output_type": "stream",
     "text": [
      "/home/pdutta/temp/ipykernel_196946/1816505842.py:4: DtypeWarning: Columns (1,2,5) have mixed types. Specify dtype option on import or set low_memory=False.\n",
      "  df = pd.read_csv(dbsnp_file, header=None, sep= ',', usecols=[0, 1, 2, 3, 4, 5,6])\n"
     ]
    },
    {
     "name": "stdout",
     "output_type": "stream",
     "text": [
      "       0      1      2             3  4  5   6\n",
      "1  chr19  60061  60062  rs1555674440  G  1  C,\n",
      "2  chr19  60172  60173  rs1371922052  G  1  A,\n",
      "3  chr19  60222  60223  rs1187548881  A  1  G,\n",
      "4  chr19  60250  60251  rs1310995734  G  1  A,\n",
      "5  chr19  60318  60319  rs1244952011  C  1  T,\n",
      "/home/pdutta/DBSNP_Chrwise/chr18_data.csv\n"
     ]
    },
    {
     "name": "stderr",
     "output_type": "stream",
     "text": [
      "/home/pdutta/temp/ipykernel_196946/1816505842.py:4: DtypeWarning: Columns (1,2,5) have mixed types. Specify dtype option on import or set low_memory=False.\n",
      "  df = pd.read_csv(dbsnp_file, header=None, sep= ',', usecols=[0, 1, 2, 3, 4, 5,6])\n"
     ]
    },
    {
     "name": "stdout",
     "output_type": "stream",
     "text": [
      "       0      1      2             3  4  5     6\n",
      "1  chr18  10001  10002  rs1600555225  C  1    T,\n",
      "2  chr18  10002  10003  rs1905036575  C  1    T,\n",
      "3  chr18  10003  10004  rs1600555228  T  1    C,\n",
      "4  chr18  10004  10005   rs111219353  A  2  C,T,\n",
      "5  chr18  10005  10006  rs1600555234  A  2  C,G,\n",
      "/home/pdutta/DBSNP_Chrwise/chrX_data.csv\n"
     ]
    },
    {
     "name": "stderr",
     "output_type": "stream",
     "text": [
      "/home/pdutta/temp/ipykernel_196946/1816505842.py:4: DtypeWarning: Columns (1,2,5) have mixed types. Specify dtype option on import or set low_memory=False.\n",
      "  df = pd.read_csv(dbsnp_file, header=None, sep= ',', usecols=[0, 1, 2, 3, 4, 5,6])\n"
     ]
    },
    {
     "name": "stdout",
     "output_type": "stream",
     "text": [
      "      0      1      2             3  4  5     6\n",
      "1  chrX  10001  10002  rs1226858834  T  1    A,\n",
      "2  chrX  10002  10003   rs375039031  A  2  C,G,\n",
      "3  chrX  10006  10007  rs1422184628  C  1    G,\n",
      "4  chrX  10007  10008  rs1179917603  T  1    G,\n",
      "5  chrX  10008  10009   rs565284081  A  2  C,G,\n",
      "/home/pdutta/DBSNP_Chrwise/chrM_data.csv\n",
      "      0   1   2             3  4  5   6\n",
      "1  chrM   9  10   rs879233578  T  1  C,\n",
      "2  chrM  15  16  rs1556422363  A  1  T,\n",
      "3  chrM  25  26   rs879071945  C  1  T,\n",
      "4  chrM  40  41   rs879100564  C  1  T,\n",
      "5  chrM  41  42  rs1603218266  T  1  C,\n",
      "/home/pdutta/DBSNP_Chrwise/chr16_data.csv\n"
     ]
    },
    {
     "name": "stderr",
     "output_type": "stream",
     "text": [
      "/home/pdutta/temp/ipykernel_196946/1816505842.py:4: DtypeWarning: Columns (1,2,5) have mixed types. Specify dtype option on import or set low_memory=False.\n",
      "  df = pd.read_csv(dbsnp_file, header=None, sep= ',', usecols=[0, 1, 2, 3, 4, 5,6])\n"
     ]
    },
    {
     "name": "stdout",
     "output_type": "stream",
     "text": [
      "       0      1      2             3  4  5     6\n",
      "1  chr16  10000  10001  rs1896969576  T  1    C,\n",
      "2  chr16  10001  10002  rs1596443048  A  1    T,\n",
      "3  chr16  10003  10004  rs1596443052  C  1    A,\n",
      "4  chr16  10005  10006  rs1167029723  C  1    G,\n",
      "5  chr16  10006  10007  rs1416464287  T  2  A,C,\n",
      "/home/pdutta/DBSNP_Chrwise/chr21_data.csv\n"
     ]
    },
    {
     "name": "stderr",
     "output_type": "stream",
     "text": [
      "/home/pdutta/temp/ipykernel_196946/1816505842.py:4: DtypeWarning: Columns (1,2,5) have mixed types. Specify dtype option on import or set low_memory=False.\n",
      "  df = pd.read_csv(dbsnp_file, header=None, sep= ',', usecols=[0, 1, 2, 3, 4, 5,6])\n"
     ]
    },
    {
     "name": "stdout",
     "output_type": "stream",
     "text": [
      "       0        1        2             3  4  5   6\n",
      "1  chr21  5025531  5025532  rs1879593094  G  1  C,\n",
      "2  chr21  5030087  5030088  rs1455320509  C  1  T,\n",
      "3  chr21  5030104  5030105  rs1173141359  C  1  A,\n",
      "4  chr21  5030150  5030151  rs1601770018  T  1  G,\n",
      "5  chr21  5030153  5030154  rs1461284410  T  1  C,\n",
      "/home/pdutta/DBSNP_Chrwise/chr11_data.csv\n"
     ]
    },
    {
     "name": "stderr",
     "output_type": "stream",
     "text": [
      "/home/pdutta/temp/ipykernel_196946/1816505842.py:4: DtypeWarning: Columns (1,2,5) have mixed types. Specify dtype option on import or set low_memory=False.\n",
      "  df = pd.read_csv(dbsnp_file, header=None, sep= ',', usecols=[0, 1, 2, 3, 4, 5,6])\n"
     ]
    },
    {
     "name": "stdout",
     "output_type": "stream",
     "text": [
      "       0      1      2             3  4  5   6\n",
      "1  chr11  60849  60850  rs1590036156  C  1  T,\n",
      "2  chr11  60993  60994  rs1452162522  T  1  C,\n",
      "3  chr11  61117  61118   rs867959887  A  1  C,\n",
      "4  chr11  61118  61119  rs1187622598  A  1  G,\n",
      "5  chr11  61154  61155   rs899119276  A  1  G,\n",
      "/home/pdutta/DBSNP_Chrwise/chr9_data.csv\n"
     ]
    },
    {
     "name": "stderr",
     "output_type": "stream",
     "text": [
      "/home/pdutta/temp/ipykernel_196946/1816505842.py:4: DtypeWarning: Columns (1,2,5) have mixed types. Specify dtype option on import or set low_memory=False.\n",
      "  df = pd.read_csv(dbsnp_file, header=None, sep= ',', usecols=[0, 1, 2, 3, 4, 5,6])\n"
     ]
    },
    {
     "name": "stdout",
     "output_type": "stream",
     "text": [
      "      0      1      2             3  4  5     6\n",
      "1  chr9  10006  10007  rs1449034754  T  1    C,\n",
      "2  chr9  10006  10007  rs1815666481  T  1     ,\n",
      "3  chr9  10008  10009  rs1587255763  A  2  C,G,\n",
      "4  chr9  10012  10013  rs1265381183  T  2  C,G,\n",
      "5  chr9  10013  10014  rs1587255772  A  1    C,\n",
      "/home/pdutta/DBSNP_Chrwise/chr20_data.csv\n"
     ]
    },
    {
     "name": "stderr",
     "output_type": "stream",
     "text": [
      "/home/pdutta/temp/ipykernel_196946/1816505842.py:4: DtypeWarning: Columns (1,2,5) have mixed types. Specify dtype option on import or set low_memory=False.\n",
      "  df = pd.read_csv(dbsnp_file, header=None, sep= ',', usecols=[0, 1, 2, 3, 4, 5,6])\n"
     ]
    },
    {
     "name": "stdout",
     "output_type": "stream",
     "text": [
      "       0      1      2             3  4  5   6\n",
      "1  chr20  60001  60002   rs555848207  G  1  C,\n",
      "2  chr20  60008  60009  rs1600128456  C  1  A,\n",
      "3  chr20  60009  60010  rs1340966003  G  1  A,\n",
      "4  chr20  60017  60018  rs2054408755  A  1  C,\n",
      "5  chr20  60021  60022  rs1178632636  G  1  A,\n",
      "/home/pdutta/DBSNP_Chrwise/chr1_data.csv\n"
     ]
    },
    {
     "name": "stderr",
     "output_type": "stream",
     "text": [
      "/home/pdutta/temp/ipykernel_196946/1816505842.py:4: DtypeWarning: Columns (1,2,5) have mixed types. Specify dtype option on import or set low_memory=False.\n",
      "  df = pd.read_csv(dbsnp_file, header=None, sep= ',', usecols=[0, 1, 2, 3, 4, 5,6])\n"
     ]
    },
    {
     "name": "stdout",
     "output_type": "stream",
     "text": [
      "      0      1      2             3  4  5       6\n",
      "1  chr1  10000  10001  rs1570391677  T  2    A,C,\n",
      "2  chr1  10001  10002  rs1570391692  A  1      C,\n",
      "3  chr1  10002  10003  rs1570391694  A  1      C,\n",
      "4  chr1  10006  10007  rs1639538116  T  2    C,G,\n",
      "5  chr1  10007  10008  rs1570391698  A  3  C,G,T,\n",
      "/home/pdutta/DBSNP_Chrwise/chr12_data.csv\n"
     ]
    },
    {
     "name": "stderr",
     "output_type": "stream",
     "text": [
      "/home/pdutta/temp/ipykernel_196946/1816505842.py:4: DtypeWarning: Columns (1,2,5) have mixed types. Specify dtype option on import or set low_memory=False.\n",
      "  df = pd.read_csv(dbsnp_file, header=None, sep= ',', usecols=[0, 1, 2, 3, 4, 5,6])\n"
     ]
    },
    {
     "name": "stdout",
     "output_type": "stream",
     "text": [
      "       0      1      2             3  4  5   6\n",
      "1  chr12  10009  10010  rs1591589648  A  1  G,\n",
      "2  chr12  10015  10016  rs1862308353  A  1  G,\n",
      "3  chr12  10016  10017  rs1591589651  C  1  A,\n",
      "4  chr12  10019  10020  rs1591589652  T  1  G,\n",
      "5  chr12  10020  10021  rs1591589654  A  1  C,\n",
      "/home/pdutta/DBSNP_Chrwise/chr10_data.csv\n"
     ]
    },
    {
     "name": "stderr",
     "output_type": "stream",
     "text": [
      "/home/pdutta/temp/ipykernel_196946/1816505842.py:4: DtypeWarning: Columns (1,2,5) have mixed types. Specify dtype option on import or set low_memory=False.\n",
      "  df = pd.read_csv(dbsnp_file, header=None, sep= ',', usecols=[0, 1, 2, 3, 4, 5,6])\n"
     ]
    },
    {
     "name": "stdout",
     "output_type": "stream",
     "text": [
      "       0      1      2             3  4  5     6\n",
      "1  chr10  10022  10023  rs1243990134  C  1    A,\n",
      "2  chr10  10030  10031  rs1834135687  C  2  A,G,\n",
      "3  chr10  10033  10034  rs1834135707  A  1    G,\n",
      "4  chr10  10035  10036  rs1834135720  C  2  A,T,\n",
      "5  chr10  10040  10041  rs1834135754  C  1    A,\n",
      "/home/pdutta/DBSNP_Chrwise/chr15_data.csv\n"
     ]
    },
    {
     "name": "stderr",
     "output_type": "stream",
     "text": [
      "/home/pdutta/temp/ipykernel_196946/1816505842.py:4: DtypeWarning: Columns (1,2,5) have mixed types. Specify dtype option on import or set low_memory=False.\n",
      "  df = pd.read_csv(dbsnp_file, header=None, sep= ',', usecols=[0, 1, 2, 3, 4, 5,6])\n"
     ]
    },
    {
     "name": "stdout",
     "output_type": "stream",
     "text": [
      "       0         1         2             3  4  5     6\n",
      "1  chr15  17000014  17000015  rs1566750235  A  1   AA,\n",
      "2  chr15  17000025  17000026  rs2044609058  T  1    G,\n",
      "3  chr15  17000028  17000029  rs1464642334  G  1    T,\n",
      "4  chr15  17000037  17000038  rs1427739243  T  2  A,C,\n",
      "5  chr15  17000048  17000049  rs2044609081  T  1    C,\n",
      "/home/pdutta/DBSNP_Chrwise/chr8_data.csv\n"
     ]
    },
    {
     "name": "stderr",
     "output_type": "stream",
     "text": [
      "/home/pdutta/temp/ipykernel_196946/1816505842.py:4: DtypeWarning: Columns (1,2,5) have mixed types. Specify dtype option on import or set low_memory=False.\n",
      "  df = pd.read_csv(dbsnp_file, header=None, sep= ',', usecols=[0, 1, 2, 3, 4, 5,6])\n"
     ]
    },
    {
     "name": "stdout",
     "output_type": "stream",
     "text": [
      "      0      1      2             3  4  5   6\n",
      "1  chr8  60008  60009  rs1584847528  G  1  T,\n",
      "2  chr8  60021  60022  rs1800303754  A  1  C,\n",
      "3  chr8  60023  60024  rs1584847530  A  1  C,\n",
      "4  chr8  60024  60025  rs1584847532  C  1  A,\n",
      "5  chr8  60048  60049  rs1800303798  A  1  G,\n",
      "/home/pdutta/DBSNP_Chrwise/chr6_data.csv\n"
     ]
    },
    {
     "name": "stderr",
     "output_type": "stream",
     "text": [
      "/home/pdutta/temp/ipykernel_196946/1816505842.py:4: DtypeWarning: Columns (1,2,5) have mixed types. Specify dtype option on import or set low_memory=False.\n",
      "  df = pd.read_csv(dbsnp_file, header=None, sep= ',', usecols=[0, 1, 2, 3, 4, 5,6])\n"
     ]
    },
    {
     "name": "stdout",
     "output_type": "stream",
     "text": [
      "      0      1      2             3  4  5   6\n",
      "1  chr6  61733  61734  rs1761792635  C  1  T,\n",
      "2  chr6  61734  61735  rs1357314184  T  1  A,\n",
      "3  chr6  61753  61754  rs1761792694  G  1  A,\n",
      "4  chr6  61754  61755  rs1269839351  G  1  T,\n",
      "5  chr6  61761  61762  rs1761792734  T  1  A,\n",
      "/home/pdutta/DBSNP_Chrwise/chr22_data.csv\n"
     ]
    },
    {
     "name": "stderr",
     "output_type": "stream",
     "text": [
      "/home/pdutta/temp/ipykernel_196946/1816505842.py:4: DtypeWarning: Columns (1,2,5) have mixed types. Specify dtype option on import or set low_memory=False.\n",
      "  df = pd.read_csv(dbsnp_file, header=None, sep= ',', usecols=[0, 1, 2, 3, 4, 5,6])\n"
     ]
    },
    {
     "name": "stdout",
     "output_type": "stream",
     "text": [
      "       0         1         2             3  4  5   6\n",
      "1  chr22  10510050  10510051  rs2061858963  T  1  C,\n",
      "2  chr22  10510054  10510055  rs2061858972  A  1  G,\n",
      "3  chr22  10510076  10510077  rs1290354662  C  1  A,\n",
      "4  chr22  10510090  10510091  rs2061858975  T  1  A,\n",
      "5  chr22  10510104  10510105  rs1325858619  T  1  A,\n",
      "/home/pdutta/DBSNP_Chrwise/chr7_data.csv\n"
     ]
    },
    {
     "name": "stderr",
     "output_type": "stream",
     "text": [
      "/home/pdutta/temp/ipykernel_196946/1816505842.py:4: DtypeWarning: Columns (1,2,5) have mixed types. Specify dtype option on import or set low_memory=False.\n",
      "  df = pd.read_csv(dbsnp_file, header=None, sep= ',', usecols=[0, 1, 2, 3, 4, 5,6])\n"
     ]
    },
    {
     "name": "stdout",
     "output_type": "stream",
     "text": [
      "      0      1      2             3  4  5   6\n",
      "1  chr7  10001  10002  rs1583156258  T  1  C,\n",
      "2  chr7  10002  10003  rs1583156262  A  1  G,\n",
      "3  chr7  10003  10004  rs1583156265  A  1  C,\n",
      "4  chr7  10004  10005  rs1583156268  C  1  A,\n",
      "5  chr7  10006  10007  rs1781584841  C  1  T,\n",
      "/home/pdutta/DBSNP_Chrwise/chr13_data.csv\n"
     ]
    },
    {
     "name": "stderr",
     "output_type": "stream",
     "text": [
      "/home/pdutta/temp/ipykernel_196946/1816505842.py:4: DtypeWarning: Columns (1,2,5) have mixed types. Specify dtype option on import or set low_memory=False.\n",
      "  df = pd.read_csv(dbsnp_file, header=None, sep= ',', usecols=[0, 1, 2, 3, 4, 5,6])\n"
     ]
    },
    {
     "name": "stdout",
     "output_type": "stream",
     "text": [
      "       0         1         2             3  4  5   6\n",
      "1  chr13  16000025  16000026  rs1175737345  T  1  A,\n",
      "2  chr13  16000063  16000064  rs1957610123  G  1  A,\n",
      "3  chr13  16000079  16000080  rs1957610132  G  1  T,\n",
      "4  chr13  16000081  16000082  rs1957610136  A  1  C,\n",
      "5  chr13  16000100  16000101  rs1957610144  T  1  C,\n"
     ]
    }
   ],
   "source": [
    "for dbsnp_file in chr_wise_DBSNP_files:\n",
    "    # Read the csv file into a DataFrame\n",
    "    print(dbsnp_file)\n",
    "    df = pd.read_csv(dbsnp_file, header=None, sep= ',', usecols=[0, 1, 2, 3, 4, 5,6])\n",
    "    df = df.iloc[1:]\n",
    "    print(df.head())\n",
    "    \n",
    "    # Convert the DataFrame to a BedTool\n",
    "    dbsnp = pybedtools.BedTool.from_dataframe(df)\n",
    "    \n",
    "    # Intersect the BedTool with the transcript file\n",
    "    intersected = enhancer_bed.intersect(dbsnp, wa=True, wb=True)\n",
    "    \n",
    "    # Save the intersected BedTool to a bed file\n",
    "    output_file = \"/home/pdutta/Data/EnhancerPoster/ZBTB33/Intersected_files/intersected_DBSNP_transcript_\" + dbsnp_file.split('/')[-1].replace('.csv', '.tsv')\n",
    "    intersected.saveas(output_file)"
   ]
  },
  {
   "cell_type": "code",
   "execution_count": 13,
   "id": "1f9f4153-0ad7-46d0-a0cb-a82226d2e169",
   "metadata": {},
   "outputs": [],
   "source": [
    "tsv_files = [f for f in os.listdir(\"/home/pdutta/Data/EnhancerPoster/ZBTB33/Intersected_files/\") if f.endswith('.tsv') and \"chrM\" not in f]"
   ]
  },
  {
   "cell_type": "code",
   "execution_count": 14,
   "id": "ffab3162-d3c8-48d6-9421-ea0cd4729a87",
   "metadata": {},
   "outputs": [
    {
     "name": "stdout",
     "output_type": "stream",
     "text": [
      "(22603, 10)\n",
      "(17487, 10)\n",
      "(16111, 10)\n",
      "(6998, 10)\n",
      "(35455, 10)\n",
      "Warning: /home/pdutta/Data/EnhancerPoster/ZBTB33/Intersected_files/intersected_DBSNP_transcript_chrY_data.tsv is empty and will be skipped.\n",
      "(24862, 10)\n",
      "(9009, 10)\n",
      "(13710, 10)\n",
      "(22710, 10)\n",
      "(17876, 10)\n",
      "(15024, 10)\n",
      "(5074, 10)\n",
      "(36457, 10)\n",
      "(21090, 10)\n",
      "(17298, 10)\n",
      "(23317, 10)\n",
      "(6270, 10)\n",
      "(9148, 10)\n",
      "(32897, 10)\n",
      "(53578, 10)\n",
      "(18191, 10)\n",
      "(6371, 10)\n",
      "(8256, 10)\n"
     ]
    }
   ],
   "source": [
    "# Read each .tsv file into a pandas DataFrame and store them in a list\n",
    "list_of_dfs = []\n",
    "\n",
    "for file in tsv_files:\n",
    "    file_path = os.path.join(\"/home/pdutta/Data/EnhancerPoster/ZBTB33/Intersected_files\", file)\n",
    "    try:\n",
    "        # Attempt to read the .tsv file\n",
    "        df = pd.read_csv(file_path, sep='\\t', header=None)\n",
    "        print(df.shape)\n",
    "        list_of_dfs.append(df)\n",
    "    except pd.errors.EmptyDataError:\n",
    "        print(f\"Warning: {file_path} is empty and will be skipped.\")"
   ]
  },
  {
   "cell_type": "code",
   "execution_count": 15,
   "id": "b7a3a24f-3f54-497b-bdbd-7f3a75a7d1e1",
   "metadata": {},
   "outputs": [
    {
     "data": {
      "text/html": [
       "<div>\n",
       "<style scoped>\n",
       "    .dataframe tbody tr th:only-of-type {\n",
       "        vertical-align: middle;\n",
       "    }\n",
       "\n",
       "    .dataframe tbody tr th {\n",
       "        vertical-align: top;\n",
       "    }\n",
       "\n",
       "    .dataframe thead th {\n",
       "        text-align: right;\n",
       "    }\n",
       "</style>\n",
       "<table border=\"1\" class=\"dataframe\">\n",
       "  <thead>\n",
       "    <tr style=\"text-align: right;\">\n",
       "      <th></th>\n",
       "      <th>chr_name</th>\n",
       "      <th>Enhancer_start</th>\n",
       "      <th>Enhancer_end</th>\n",
       "      <th>Variant_start</th>\n",
       "      <th>Variant_end</th>\n",
       "      <th>RS_ID</th>\n",
       "      <th>Reference_Nucleotide</th>\n",
       "      <th>No_of_variations</th>\n",
       "      <th>Alternative_Nucleotides</th>\n",
       "    </tr>\n",
       "  </thead>\n",
       "  <tbody>\n",
       "    <tr>\n",
       "      <th>0</th>\n",
       "      <td>chr19</td>\n",
       "      <td>561375</td>\n",
       "      <td>561574</td>\n",
       "      <td>561375</td>\n",
       "      <td>561376</td>\n",
       "      <td>rs1345678776</td>\n",
       "      <td>C</td>\n",
       "      <td>1</td>\n",
       "      <td>T,</td>\n",
       "    </tr>\n",
       "    <tr>\n",
       "      <th>1</th>\n",
       "      <td>chr19</td>\n",
       "      <td>561375</td>\n",
       "      <td>561574</td>\n",
       "      <td>561377</td>\n",
       "      <td>561378</td>\n",
       "      <td>rs570139519</td>\n",
       "      <td>C</td>\n",
       "      <td>2</td>\n",
       "      <td>G,T,</td>\n",
       "    </tr>\n",
       "    <tr>\n",
       "      <th>2</th>\n",
       "      <td>chr19</td>\n",
       "      <td>561375</td>\n",
       "      <td>561574</td>\n",
       "      <td>561378</td>\n",
       "      <td>561379</td>\n",
       "      <td>rs1022722361</td>\n",
       "      <td>G</td>\n",
       "      <td>1</td>\n",
       "      <td>A,</td>\n",
       "    </tr>\n",
       "    <tr>\n",
       "      <th>3</th>\n",
       "      <td>chr19</td>\n",
       "      <td>561375</td>\n",
       "      <td>561574</td>\n",
       "      <td>561380</td>\n",
       "      <td>561381</td>\n",
       "      <td>rs1980794075</td>\n",
       "      <td>C</td>\n",
       "      <td>1</td>\n",
       "      <td>T,</td>\n",
       "    </tr>\n",
       "    <tr>\n",
       "      <th>4</th>\n",
       "      <td>chr19</td>\n",
       "      <td>561375</td>\n",
       "      <td>561574</td>\n",
       "      <td>561382</td>\n",
       "      <td>561383</td>\n",
       "      <td>rs1980794126</td>\n",
       "      <td>G</td>\n",
       "      <td>2</td>\n",
       "      <td>A,C,</td>\n",
       "    </tr>\n",
       "    <tr>\n",
       "      <th>...</th>\n",
       "      <td>...</td>\n",
       "      <td>...</td>\n",
       "      <td>...</td>\n",
       "      <td>...</td>\n",
       "      <td>...</td>\n",
       "      <td>...</td>\n",
       "      <td>...</td>\n",
       "      <td>...</td>\n",
       "      <td>...</td>\n",
       "    </tr>\n",
       "    <tr>\n",
       "      <th>439787</th>\n",
       "      <td>chr18</td>\n",
       "      <td>2944504</td>\n",
       "      <td>2944703</td>\n",
       "      <td>2944683</td>\n",
       "      <td>2944687</td>\n",
       "      <td>rs2077422449</td>\n",
       "      <td>TTTT</td>\n",
       "      <td>1</td>\n",
       "      <td>TTTTT,</td>\n",
       "    </tr>\n",
       "    <tr>\n",
       "      <th>439788</th>\n",
       "      <td>chr18</td>\n",
       "      <td>2944504</td>\n",
       "      <td>2944703</td>\n",
       "      <td>2944688</td>\n",
       "      <td>2944689</td>\n",
       "      <td>rs2077422509</td>\n",
       "      <td>C</td>\n",
       "      <td>1</td>\n",
       "      <td>T,</td>\n",
       "    </tr>\n",
       "    <tr>\n",
       "      <th>439789</th>\n",
       "      <td>chr18</td>\n",
       "      <td>2944504</td>\n",
       "      <td>2944703</td>\n",
       "      <td>2944689</td>\n",
       "      <td>2944690</td>\n",
       "      <td>rs1271925579</td>\n",
       "      <td>A</td>\n",
       "      <td>1</td>\n",
       "      <td>T,</td>\n",
       "    </tr>\n",
       "    <tr>\n",
       "      <th>439790</th>\n",
       "      <td>chr18</td>\n",
       "      <td>2944504</td>\n",
       "      <td>2944703</td>\n",
       "      <td>2944695</td>\n",
       "      <td>2944696</td>\n",
       "      <td>rs1334793346</td>\n",
       "      <td>G</td>\n",
       "      <td>1</td>\n",
       "      <td>A,</td>\n",
       "    </tr>\n",
       "    <tr>\n",
       "      <th>439791</th>\n",
       "      <td>chr18</td>\n",
       "      <td>2944504</td>\n",
       "      <td>2944703</td>\n",
       "      <td>2944702</td>\n",
       "      <td>2944703</td>\n",
       "      <td>rs1214821368</td>\n",
       "      <td>G</td>\n",
       "      <td>1</td>\n",
       "      <td>T,</td>\n",
       "    </tr>\n",
       "  </tbody>\n",
       "</table>\n",
       "<p>439792 rows × 9 columns</p>\n",
       "</div>"
      ],
      "text/plain": [
       "       chr_name  Enhancer_start  Enhancer_end  Variant_start  Variant_end  \\\n",
       "0         chr19          561375        561574         561375       561376   \n",
       "1         chr19          561375        561574         561377       561378   \n",
       "2         chr19          561375        561574         561378       561379   \n",
       "3         chr19          561375        561574         561380       561381   \n",
       "4         chr19          561375        561574         561382       561383   \n",
       "...         ...             ...           ...            ...          ...   \n",
       "439787    chr18         2944504       2944703        2944683      2944687   \n",
       "439788    chr18         2944504       2944703        2944688      2944689   \n",
       "439789    chr18         2944504       2944703        2944689      2944690   \n",
       "439790    chr18         2944504       2944703        2944695      2944696   \n",
       "439791    chr18         2944504       2944703        2944702      2944703   \n",
       "\n",
       "               RS_ID Reference_Nucleotide  No_of_variations  \\\n",
       "0       rs1345678776                    C                 1   \n",
       "1        rs570139519                    C                 2   \n",
       "2       rs1022722361                    G                 1   \n",
       "3       rs1980794075                    C                 1   \n",
       "4       rs1980794126                    G                 2   \n",
       "...              ...                  ...               ...   \n",
       "439787  rs2077422449                 TTTT                 1   \n",
       "439788  rs2077422509                    C                 1   \n",
       "439789  rs1271925579                    A                 1   \n",
       "439790  rs1334793346                    G                 1   \n",
       "439791  rs1214821368                    G                 1   \n",
       "\n",
       "       Alternative_Nucleotides  \n",
       "0                           T,  \n",
       "1                         G,T,  \n",
       "2                           A,  \n",
       "3                           T,  \n",
       "4                         A,C,  \n",
       "...                        ...  \n",
       "439787                  TTTTT,  \n",
       "439788                      T,  \n",
       "439789                      T,  \n",
       "439790                      A,  \n",
       "439791                      T,  \n",
       "\n",
       "[439792 rows x 9 columns]"
      ]
     },
     "execution_count": 15,
     "metadata": {},
     "output_type": "execute_result"
    }
   ],
   "source": [
    "# Concatenate all the DataFrames in the list into a single DataFrame\n",
    "final_df = pd.concat(list_of_dfs, ignore_index=True) if list_of_dfs else pd.DataFrame()\n",
    "final_df=final_df.drop(columns=[3])\n",
    "new_columns = ['chr_name', 'Enhancer_start', 'Enhancer_end', 'Variant_start', 'Variant_end', 'RS_ID', 'Reference_Nucleotide', 'No_of_variations', 'Alternative_Nucleotides']\n",
    "final_df.columns = new_columns\n",
    "final_df"
   ]
  },
  {
   "cell_type": "code",
   "execution_count": 16,
   "id": "b6872c27-dbe5-4e89-b883-f5eddd368e7e",
   "metadata": {},
   "outputs": [
    {
     "name": "stdout",
     "output_type": "stream",
     "text": [
      "All .tsv files (excluding chrM) concatenated into /home/pdutta/Data/EnhancerPoster/ZBTB33/Intersected_files/all_Enhancer_data_Consensus.tsv\n"
     ]
    }
   ],
   "source": [
    "# Write the final DataFrame to a new .tsv file (only if there's data)\n",
    "if not final_df.empty:\n",
    "    output_file_path = \"/home/pdutta/Data/EnhancerPoster/ZBTB33/Intersected_files/all_Enhancer_data_Consensus.tsv\"\n",
    "    final_df.to_csv(output_file_path, sep='\\t', index=False)\n",
    "    print(f\"All .tsv files (excluding chrM) concatenated into {output_file_path}\")\n",
    "else:\n",
    "    print(\"No data to save after excluding empty files and chrM.\")"
   ]
  },
  {
   "cell_type": "code",
   "execution_count": null,
   "id": "6b0f5855-ea61-488d-ac70-83393cd881d7",
   "metadata": {},
   "outputs": [],
   "source": []
  }
 ],
 "metadata": {
  "kernelspec": {
   "display_name": "Python 3 (ipykernel)",
   "language": "python",
   "name": "python3"
  },
  "language_info": {
   "codemirror_mode": {
    "name": "ipython",
    "version": 3
   },
   "file_extension": ".py",
   "mimetype": "text/x-python",
   "name": "python",
   "nbconvert_exporter": "python",
   "pygments_lexer": "ipython3",
   "version": "3.10.14"
  }
 },
 "nbformat": 4,
 "nbformat_minor": 5
}
