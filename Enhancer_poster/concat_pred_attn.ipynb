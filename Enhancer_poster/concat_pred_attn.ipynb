{
 "cells": [
  {
   "cell_type": "code",
   "execution_count": 21,
   "id": "e09e3710-93f3-4c38-bfbd-c523ee0d04b5",
   "metadata": {},
   "outputs": [],
   "source": [
    "import numpy as np\n",
    "import os"
   ]
  },
  {
   "cell_type": "code",
   "execution_count": 22,
   "id": "8cf964a4-1b97-40a6-8265-ec7369f29826",
   "metadata": {},
   "outputs": [],
   "source": [
    "base_data_path = \"/home/pdutta/Data/EnhancerPoster/ZBTB33/DNABERT_data\"\n",
    "subfolders = [f\"subfolder{i}\" for i in range(1, 6)]  # Adjust the range if you have more subfolders"
   ]
  },
  {
   "cell_type": "code",
   "execution_count": 23,
   "id": "35d5a5f6-9732-41a8-8d84-23203b783957",
   "metadata": {},
   "outputs": [],
   "source": [
    "# Initialize empty lists to store the arrays\n",
    "concat_pred_results = []\n",
    "concat_attn = []"
   ]
  },
  {
   "cell_type": "code",
   "execution_count": 24,
   "id": "1d2c7fc3-7b11-4394-81a1-9a75d35f43bb",
   "metadata": {},
   "outputs": [],
   "source": [
    "# Iterate over each subfolder and append the arrays\n",
    "for subfolder in subfolders:\n",
    "    pred_path = os.path.join(base_data_path, subfolder, \"Prediction_result\", \"pred_results.npy\")\n",
    "    attn_path = os.path.join(base_data_path, subfolder, \"Prediction_result\", \"atten_score200.npy\")\n",
    "    \n",
    "    # Check if the files exist before loading\n",
    "    if os.path.exists(pred_path) and os.path.exists(attn_path):\n",
    "        pred_results = np.load(pred_path)\n",
    "        attn = np.load(attn_path)\n",
    "\n",
    "        concat_pred_results.append(pred_results)\n",
    "        concat_attn.append(attn)\n",
    "    else:\n",
    "        print(f\"Files not found in {subfolder}, skipping...\")"
   ]
  },
  {
   "cell_type": "code",
   "execution_count": 25,
   "id": "5d03f416-7f06-4bb5-95c4-daa576f2ea98",
   "metadata": {},
   "outputs": [],
   "source": [
    "# Concatenate all the arrays from each subfolder\n",
    "concat_pred_results = np.concatenate(concat_pred_results, axis=0)\n",
    "concat_attn = np.concatenate(concat_attn, axis=0)"
   ]
  },
  {
   "cell_type": "code",
   "execution_count": 26,
   "id": "3aa3f6c9-2cc7-4be2-b2f7-2dad2e674f0b",
   "metadata": {},
   "outputs": [],
   "source": [
    "# Save the concatenated arrays\n",
    "np.save(os.path.join(base_data_path, \"concat_pred_results.npy\"), concat_pred_results)\n",
    "np.save(os.path.join(base_data_path, \"concat_attn.npy\"), concat_attn)"
   ]
  },
  {
   "cell_type": "code",
   "execution_count": 27,
   "id": "8dd71896-c6f8-4fdc-a9db-bf61328844ce",
   "metadata": {},
   "outputs": [
    {
     "data": {
      "text/plain": [
       "995296"
      ]
     },
     "execution_count": 27,
     "metadata": {},
     "output_type": "execute_result"
    }
   ],
   "source": [
    "len(concat_pred_results)"
   ]
  },
  {
   "cell_type": "code",
   "execution_count": null,
   "id": "421b1570-80c9-44cb-b11d-9a0114811f28",
   "metadata": {},
   "outputs": [],
   "source": []
  }
 ],
 "metadata": {
  "kernelspec": {
   "display_name": "Python 3 (ipykernel)",
   "language": "python",
   "name": "python3"
  },
  "language_info": {
   "codemirror_mode": {
    "name": "ipython",
    "version": 3
   },
   "file_extension": ".py",
   "mimetype": "text/x-python",
   "name": "python",
   "nbconvert_exporter": "python",
   "pygments_lexer": "ipython3",
   "version": "3.10.14"
  }
 },
 "nbformat": 4,
 "nbformat_minor": 5
}
