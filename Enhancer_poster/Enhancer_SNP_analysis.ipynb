{
 "cells": [
  {
   "cell_type": "code",
   "execution_count": 1,
   "id": "63f40c7b-4e9b-4626-a876-38edcd6b2686",
   "metadata": {},
   "outputs": [],
   "source": [
    "import os, glob\n",
    "import numpy as np\n",
    "import pandas as pd\n",
    "import math\n",
    "import matplotlib.pyplot as plt\n",
    "import seaborn as sns\n",
    "import plotly.graph_objects as go\n",
    "import plotly.express as px\n",
    "#import plotly.figure_factory as ff\n",
    "# import seaborn as sns\n",
    "# import matplotlib.pyplot as plt\"\n",
    "# from scipy.stats import norm\n",
    "# from scipy import stats\n",
    "# from statsmodels.stats.weightstats import ztest"
   ]
  },
  {
   "cell_type": "code",
   "execution_count": 24,
   "id": "7e1bf78f-c95e-40e7-a553-4ed206291da8",
   "metadata": {},
   "outputs": [],
   "source": [
    "base_dir = \"/home/pdutta/Data/EnhancerPoster/ZBTB33/DNABERT_data/\""
   ]
  },
  {
   "cell_type": "code",
   "execution_count": 25,
   "id": "345b0117-64f3-47b0-9157-276b220525ae",
   "metadata": {},
   "outputs": [],
   "source": [
    "np_atten = np.load(\"/home/pdutta/Data/EnhancerPoster/ZBTB33/DNABERT_data/concat_attn.npy\")"
   ]
  },
  {
   "cell_type": "code",
   "execution_count": 26,
   "id": "cf350441-e653-4e09-bee4-0f300e4c31c1",
   "metadata": {},
   "outputs": [
    {
     "data": {
      "text/plain": [
       "995296"
      ]
     },
     "execution_count": 26,
     "metadata": {},
     "output_type": "execute_result"
    }
   ],
   "source": [
    "len(np_atten)"
   ]
  },
  {
   "cell_type": "code",
   "execution_count": 27,
   "id": "f8fb5e6b-f58e-416d-8e9f-6192ef3552a2",
   "metadata": {},
   "outputs": [
    {
     "data": {
      "text/plain": [
       "200"
      ]
     },
     "execution_count": 27,
     "metadata": {},
     "output_type": "execute_result"
    }
   ],
   "source": [
    "len(np_atten[0])"
   ]
  },
  {
   "cell_type": "code",
   "execution_count": 28,
   "id": "366d4cb7-e70b-42b3-ba60-55531579dc46",
   "metadata": {},
   "outputs": [],
   "source": [
    "output_path= \"/home/pdutta/Data/EnhancerPoster/ZBTB33/Output/\"\n",
    "if not os.path.exists(output_path):\n",
    "    os.makedirs(output_path)"
   ]
  },
  {
   "cell_type": "code",
   "execution_count": 29,
   "id": "d0c512c7-f77d-4f25-9659-866eb47116c9",
   "metadata": {},
   "outputs": [],
   "source": [
    "def log_oods_ratio(p1,p2):\n",
    "    term1 = math.log2(p1/(1-p1))\n",
    "    term2 = math.log2(p2/(1-p2))\n",
    "    return (term1-term2)\n",
    "def calculate_diff_probab(p1,p2):\n",
    "    return((p2-p1)*max(p1,p2))"
   ]
  },
  {
   "cell_type": "code",
   "execution_count": 30,
   "id": "927633b9-cb8e-4d5c-b0ee-d5afd2814508",
   "metadata": {},
   "outputs": [
    {
     "name": "stdout",
     "output_type": "stream",
     "text": [
      "995296\n",
      "(497648, 10)\n",
      "(2870, 14)\n",
      "(2555, 14)\n"
     ]
    }
   ],
   "source": [
    "df_dict = {}\n",
    "df_list = []\n",
    "pred_probab = np.load(base_dir+\"concat_pred_results.npy\")\n",
    "print(len(pred_probab))\n",
    "df = pd.read_csv(base_dir+\"/all_data_new.tsv\", sep= \"\\t\")\n",
    "print(df.shape)\n",
    "Reference_probab = pred_probab[::2]\n",
    "Alternative_probab = pred_probab[1::2]\n",
    "Reference_attn = list(np_atten[::2])\n",
    "Alternative_attn = list(np_atten[1::2])\n",
    "df['Ref_probab']=Reference_probab\n",
    "df['Alt_probab']=Alternative_probab\n",
    "df['Ref_attn']=Reference_attn\n",
    "df['Alt_attn']=Alternative_attn\n",
    "df =  df[(df['Ref_probab'] >= 0.5) & (df['Alt_probab'] < 0.5)]\n",
    "print(df.shape)\n",
    "df = df[(df['ref_neucleotide'].str.len() < 5) & (df['alternative_neucleotide'].str.len() < 5)]\n",
    "print(df.shape)\n",
    "df['ScoreChange'] = df.apply(lambda row: calculate_diff_probab(row['Ref_probab'], row['Alt_probab']), axis=1)\n",
    "df['LogOddRatio'] = df.apply(lambda row: log_oods_ratio(row['Ref_probab'], row['Alt_probab']), axis=1)"
   ]
  },
  {
   "cell_type": "code",
   "execution_count": 31,
   "id": "3463e015-6276-4113-801d-9d713d9726b2",
   "metadata": {},
   "outputs": [
    {
     "data": {
      "text/html": [
       "<div>\n",
       "<style scoped>\n",
       "    .dataframe tbody tr th:only-of-type {\n",
       "        vertical-align: middle;\n",
       "    }\n",
       "\n",
       "    .dataframe tbody tr th {\n",
       "        vertical-align: top;\n",
       "    }\n",
       "\n",
       "    .dataframe thead th {\n",
       "        text-align: right;\n",
       "    }\n",
       "</style>\n",
       "<table border=\"1\" class=\"dataframe\">\n",
       "  <thead>\n",
       "    <tr style=\"text-align: right;\">\n",
       "      <th></th>\n",
       "      <th>index</th>\n",
       "      <th>chr</th>\n",
       "      <th>Enhancer_coordinates</th>\n",
       "      <th>dbsnp_id</th>\n",
       "      <th>varinat_start</th>\n",
       "      <th>variant_end</th>\n",
       "      <th>ref_neucleotide</th>\n",
       "      <th>alternative_neucleotide</th>\n",
       "      <th>reference_seq</th>\n",
       "      <th>alt_seq</th>\n",
       "      <th>Ref_probab</th>\n",
       "      <th>Alt_probab</th>\n",
       "      <th>Ref_attn</th>\n",
       "      <th>Alt_attn</th>\n",
       "      <th>ScoreChange</th>\n",
       "      <th>LogOddRatio</th>\n",
       "    </tr>\n",
       "  </thead>\n",
       "  <tbody>\n",
       "    <tr>\n",
       "      <th>848</th>\n",
       "      <td>848</td>\n",
       "      <td>chr19</td>\n",
       "      <td>38740790-38740989</td>\n",
       "      <td>rs1970501697</td>\n",
       "      <td>38740793</td>\n",
       "      <td>38740794</td>\n",
       "      <td>C</td>\n",
       "      <td>G</td>\n",
       "      <td>ACTCCATCTCAAAAAAAAAAAAAAAATTCAGACTCTTGACGGGGGG...</td>\n",
       "      <td>ACTGCATCTCAAAAAAAAAAAAAAAATTCAGACTCTTGACGGGGGG...</td>\n",
       "      <td>0.593560</td>\n",
       "      <td>0.494330</td>\n",
       "      <td>[0.2715375423587127, 0.2968454763772309, 0.307...</td>\n",
       "      <td>[0.29288270342271117, 0.29455928169873963, 0.3...</td>\n",
       "      <td>-0.058899</td>\n",
       "      <td>0.579073</td>\n",
       "    </tr>\n",
       "    <tr>\n",
       "      <th>928</th>\n",
       "      <td>928</td>\n",
       "      <td>chr19</td>\n",
       "      <td>38740790-38740989</td>\n",
       "      <td>rs552011867</td>\n",
       "      <td>38740984</td>\n",
       "      <td>38740985</td>\n",
       "      <td>C</td>\n",
       "      <td>T</td>\n",
       "      <td>ACTCCATCTCAAAAAAAAAAAAAAAATTCAGACTCTTGACGGGGGG...</td>\n",
       "      <td>ACTCCATCTCAAAAAAAAAAAAAAAATTCAGACTCTTGACGGGGGG...</td>\n",
       "      <td>0.593560</td>\n",
       "      <td>0.467070</td>\n",
       "      <td>[0.2715375423587127, 0.2968454763772309, 0.307...</td>\n",
       "      <td>[0.274552567994427, 0.2943961719723375, 0.3125...</td>\n",
       "      <td>-0.075079</td>\n",
       "      <td>0.736658</td>\n",
       "    </tr>\n",
       "    <tr>\n",
       "      <th>929</th>\n",
       "      <td>929</td>\n",
       "      <td>chr19</td>\n",
       "      <td>38740790-38740989</td>\n",
       "      <td>rs1055983971</td>\n",
       "      <td>38740985</td>\n",
       "      <td>38740986</td>\n",
       "      <td>G</td>\n",
       "      <td>A</td>\n",
       "      <td>ACTCCATCTCAAAAAAAAAAAAAAAATTCAGACTCTTGACGGGGGG...</td>\n",
       "      <td>ACTCCATCTCAAAAAAAAAAAAAAAATTCAGACTCTTGACGGGGGG...</td>\n",
       "      <td>0.593560</td>\n",
       "      <td>0.465423</td>\n",
       "      <td>[0.2715375423587127, 0.2968454763772309, 0.307...</td>\n",
       "      <td>[0.27546272098208235, 0.3011425617751689, 0.31...</td>\n",
       "      <td>-0.076057</td>\n",
       "      <td>0.746209</td>\n",
       "    </tr>\n",
       "    <tr>\n",
       "      <th>2088</th>\n",
       "      <td>2088</td>\n",
       "      <td>chr19</td>\n",
       "      <td>39442467-39442666</td>\n",
       "      <td>rs375517308</td>\n",
       "      <td>39442478</td>\n",
       "      <td>39442479</td>\n",
       "      <td>C</td>\n",
       "      <td>T</td>\n",
       "      <td>TGATCAAAACTCATTGCAGGCTCGATCTTTCAGGCTCAAGTGACTC...</td>\n",
       "      <td>TGATCAAAACTTATTGCAGGCTCGATCTTTCAGGCTCAAGTGACTC...</td>\n",
       "      <td>0.527952</td>\n",
       "      <td>0.383912</td>\n",
       "      <td>[0.11171538769964043, 0.10026279554907874, 0.0...</td>\n",
       "      <td>[0.09744746708927564, 0.08952049196436804, 0.0...</td>\n",
       "      <td>-0.076046</td>\n",
       "      <td>0.843830</td>\n",
       "    </tr>\n",
       "    <tr>\n",
       "      <th>2090</th>\n",
       "      <td>2090</td>\n",
       "      <td>chr19</td>\n",
       "      <td>39442467-39442666</td>\n",
       "      <td>rs2078888120</td>\n",
       "      <td>39442482</td>\n",
       "      <td>39442483</td>\n",
       "      <td>G</td>\n",
       "      <td>A</td>\n",
       "      <td>TGATCAAAACTCATTGCAGGCTCGATCTTTCAGGCTCAAGTGACTC...</td>\n",
       "      <td>TGATCAAAACTCATTACAGGCTCGATCTTTCAGGCTCAAGTGACTC...</td>\n",
       "      <td>0.527952</td>\n",
       "      <td>0.468678</td>\n",
       "      <td>[0.11171538769964043, 0.10026279554907874, 0.0...</td>\n",
       "      <td>[0.10678775550090669, 0.10131091741111195, 0.0...</td>\n",
       "      <td>-0.031294</td>\n",
       "      <td>0.342463</td>\n",
       "    </tr>\n",
       "    <tr>\n",
       "      <th>...</th>\n",
       "      <td>...</td>\n",
       "      <td>...</td>\n",
       "      <td>...</td>\n",
       "      <td>...</td>\n",
       "      <td>...</td>\n",
       "      <td>...</td>\n",
       "      <td>...</td>\n",
       "      <td>...</td>\n",
       "      <td>...</td>\n",
       "      <td>...</td>\n",
       "      <td>...</td>\n",
       "      <td>...</td>\n",
       "      <td>...</td>\n",
       "      <td>...</td>\n",
       "      <td>...</td>\n",
       "      <td>...</td>\n",
       "    </tr>\n",
       "    <tr>\n",
       "      <th>496257</th>\n",
       "      <td>496257</td>\n",
       "      <td>chr18</td>\n",
       "      <td>12324415-12324614</td>\n",
       "      <td>rs1381814697</td>\n",
       "      <td>12324598</td>\n",
       "      <td>12324599</td>\n",
       "      <td>C</td>\n",
       "      <td>T</td>\n",
       "      <td>ATAAGATTCAGAAAGCCCAAAGGAGAGAACTTTTTTTTTTTTTTTG...</td>\n",
       "      <td>ATAAGATTCAGAAAGCCCAAAGGAGAGAACTTTTTTTTTTTTTTTG...</td>\n",
       "      <td>0.534582</td>\n",
       "      <td>0.484149</td>\n",
       "      <td>[0.12906825488199591, 0.14419442528252052, 0.1...</td>\n",
       "      <td>[0.12884676860122113, 0.14346656705173313, 0.1...</td>\n",
       "      <td>-0.026961</td>\n",
       "      <td>0.291388</td>\n",
       "    </tr>\n",
       "    <tr>\n",
       "      <th>496259</th>\n",
       "      <td>496259</td>\n",
       "      <td>chr18</td>\n",
       "      <td>12324415-12324614</td>\n",
       "      <td>rs1454528487</td>\n",
       "      <td>12324606</td>\n",
       "      <td>12324607</td>\n",
       "      <td>C</td>\n",
       "      <td>G</td>\n",
       "      <td>ATAAGATTCAGAAAGCCCAAAGGAGAGAACTTTTTTTTTTTTTTTG...</td>\n",
       "      <td>ATAAGATTCAGAAAGCCCAAAGGAGAGAACTTTTTTTTTTTTTTTG...</td>\n",
       "      <td>0.534582</td>\n",
       "      <td>0.493793</td>\n",
       "      <td>[0.12906825488199591, 0.14419442528252052, 0.1...</td>\n",
       "      <td>[0.12745855827403377, 0.14446356766667984, 0.1...</td>\n",
       "      <td>-0.021805</td>\n",
       "      <td>0.235705</td>\n",
       "    </tr>\n",
       "    <tr>\n",
       "      <th>496260</th>\n",
       "      <td>496260</td>\n",
       "      <td>chr18</td>\n",
       "      <td>12324415-12324614</td>\n",
       "      <td>rs538832408</td>\n",
       "      <td>12324607</td>\n",
       "      <td>12324608</td>\n",
       "      <td>G</td>\n",
       "      <td>A</td>\n",
       "      <td>ATAAGATTCAGAAAGCCCAAAGGAGAGAACTTTTTTTTTTTTTTTG...</td>\n",
       "      <td>ATAAGATTCAGAAAGCCCAAAGGAGAGAACTTTTTTTTTTTTTTTG...</td>\n",
       "      <td>0.534582</td>\n",
       "      <td>0.404960</td>\n",
       "      <td>[0.12906825488199591, 0.14419442528252052, 0.1...</td>\n",
       "      <td>[0.1291400347643924, 0.14439643229333013, 0.14...</td>\n",
       "      <td>-0.069294</td>\n",
       "      <td>0.755092</td>\n",
       "    </tr>\n",
       "    <tr>\n",
       "      <th>496263</th>\n",
       "      <td>496263</td>\n",
       "      <td>chr18</td>\n",
       "      <td>12324415-12324614</td>\n",
       "      <td>rs1907171652</td>\n",
       "      <td>12324610</td>\n",
       "      <td>12324611</td>\n",
       "      <td>C</td>\n",
       "      <td>T</td>\n",
       "      <td>ATAAGATTCAGAAAGCCCAAAGGAGAGAACTTTTTTTTTTTTTTTG...</td>\n",
       "      <td>ATAAGATTCAGAAAGCCCAAAGGAGAGAACTTTTTTTTTTTTTTTG...</td>\n",
       "      <td>0.534582</td>\n",
       "      <td>0.425885</td>\n",
       "      <td>[0.12906825488199591, 0.14419442528252052, 0.1...</td>\n",
       "      <td>[0.12979868829171767, 0.14521174897148748, 0.1...</td>\n",
       "      <td>-0.058107</td>\n",
       "      <td>0.630760</td>\n",
       "    </tr>\n",
       "    <tr>\n",
       "      <th>496264</th>\n",
       "      <td>496264</td>\n",
       "      <td>chr18</td>\n",
       "      <td>12324415-12324614</td>\n",
       "      <td>rs1337550101</td>\n",
       "      <td>12324611</td>\n",
       "      <td>12324612</td>\n",
       "      <td>G</td>\n",
       "      <td>A</td>\n",
       "      <td>ATAAGATTCAGAAAGCCCAAAGGAGAGAACTTTTTTTTTTTTTTTG...</td>\n",
       "      <td>ATAAGATTCAGAAAGCCCAAAGGAGAGAACTTTTTTTTTTTTTTTG...</td>\n",
       "      <td>0.534582</td>\n",
       "      <td>0.422753</td>\n",
       "      <td>[0.12906825488199591, 0.14419442528252052, 0.1...</td>\n",
       "      <td>[0.12904783977251158, 0.14370755508118435, 0.1...</td>\n",
       "      <td>-0.059782</td>\n",
       "      <td>0.649257</td>\n",
       "    </tr>\n",
       "  </tbody>\n",
       "</table>\n",
       "<p>2555 rows × 16 columns</p>\n",
       "</div>"
      ],
      "text/plain": [
       "         index    chr Enhancer_coordinates      dbsnp_id  varinat_start  \\\n",
       "848        848  chr19    38740790-38740989  rs1970501697       38740793   \n",
       "928        928  chr19    38740790-38740989   rs552011867       38740984   \n",
       "929        929  chr19    38740790-38740989  rs1055983971       38740985   \n",
       "2088      2088  chr19    39442467-39442666   rs375517308       39442478   \n",
       "2090      2090  chr19    39442467-39442666  rs2078888120       39442482   \n",
       "...        ...    ...                  ...           ...            ...   \n",
       "496257  496257  chr18    12324415-12324614  rs1381814697       12324598   \n",
       "496259  496259  chr18    12324415-12324614  rs1454528487       12324606   \n",
       "496260  496260  chr18    12324415-12324614   rs538832408       12324607   \n",
       "496263  496263  chr18    12324415-12324614  rs1907171652       12324610   \n",
       "496264  496264  chr18    12324415-12324614  rs1337550101       12324611   \n",
       "\n",
       "        variant_end ref_neucleotide alternative_neucleotide  \\\n",
       "848        38740794               C                       G   \n",
       "928        38740985               C                       T   \n",
       "929        38740986               G                       A   \n",
       "2088       39442479               C                       T   \n",
       "2090       39442483               G                       A   \n",
       "...             ...             ...                     ...   \n",
       "496257     12324599               C                       T   \n",
       "496259     12324607               C                       G   \n",
       "496260     12324608               G                       A   \n",
       "496263     12324611               C                       T   \n",
       "496264     12324612               G                       A   \n",
       "\n",
       "                                            reference_seq  \\\n",
       "848     ACTCCATCTCAAAAAAAAAAAAAAAATTCAGACTCTTGACGGGGGG...   \n",
       "928     ACTCCATCTCAAAAAAAAAAAAAAAATTCAGACTCTTGACGGGGGG...   \n",
       "929     ACTCCATCTCAAAAAAAAAAAAAAAATTCAGACTCTTGACGGGGGG...   \n",
       "2088    TGATCAAAACTCATTGCAGGCTCGATCTTTCAGGCTCAAGTGACTC...   \n",
       "2090    TGATCAAAACTCATTGCAGGCTCGATCTTTCAGGCTCAAGTGACTC...   \n",
       "...                                                   ...   \n",
       "496257  ATAAGATTCAGAAAGCCCAAAGGAGAGAACTTTTTTTTTTTTTTTG...   \n",
       "496259  ATAAGATTCAGAAAGCCCAAAGGAGAGAACTTTTTTTTTTTTTTTG...   \n",
       "496260  ATAAGATTCAGAAAGCCCAAAGGAGAGAACTTTTTTTTTTTTTTTG...   \n",
       "496263  ATAAGATTCAGAAAGCCCAAAGGAGAGAACTTTTTTTTTTTTTTTG...   \n",
       "496264  ATAAGATTCAGAAAGCCCAAAGGAGAGAACTTTTTTTTTTTTTTTG...   \n",
       "\n",
       "                                                  alt_seq  Ref_probab  \\\n",
       "848     ACTGCATCTCAAAAAAAAAAAAAAAATTCAGACTCTTGACGGGGGG...    0.593560   \n",
       "928     ACTCCATCTCAAAAAAAAAAAAAAAATTCAGACTCTTGACGGGGGG...    0.593560   \n",
       "929     ACTCCATCTCAAAAAAAAAAAAAAAATTCAGACTCTTGACGGGGGG...    0.593560   \n",
       "2088    TGATCAAAACTTATTGCAGGCTCGATCTTTCAGGCTCAAGTGACTC...    0.527952   \n",
       "2090    TGATCAAAACTCATTACAGGCTCGATCTTTCAGGCTCAAGTGACTC...    0.527952   \n",
       "...                                                   ...         ...   \n",
       "496257  ATAAGATTCAGAAAGCCCAAAGGAGAGAACTTTTTTTTTTTTTTTG...    0.534582   \n",
       "496259  ATAAGATTCAGAAAGCCCAAAGGAGAGAACTTTTTTTTTTTTTTTG...    0.534582   \n",
       "496260  ATAAGATTCAGAAAGCCCAAAGGAGAGAACTTTTTTTTTTTTTTTG...    0.534582   \n",
       "496263  ATAAGATTCAGAAAGCCCAAAGGAGAGAACTTTTTTTTTTTTTTTG...    0.534582   \n",
       "496264  ATAAGATTCAGAAAGCCCAAAGGAGAGAACTTTTTTTTTTTTTTTG...    0.534582   \n",
       "\n",
       "        Alt_probab                                           Ref_attn  \\\n",
       "848       0.494330  [0.2715375423587127, 0.2968454763772309, 0.307...   \n",
       "928       0.467070  [0.2715375423587127, 0.2968454763772309, 0.307...   \n",
       "929       0.465423  [0.2715375423587127, 0.2968454763772309, 0.307...   \n",
       "2088      0.383912  [0.11171538769964043, 0.10026279554907874, 0.0...   \n",
       "2090      0.468678  [0.11171538769964043, 0.10026279554907874, 0.0...   \n",
       "...            ...                                                ...   \n",
       "496257    0.484149  [0.12906825488199591, 0.14419442528252052, 0.1...   \n",
       "496259    0.493793  [0.12906825488199591, 0.14419442528252052, 0.1...   \n",
       "496260    0.404960  [0.12906825488199591, 0.14419442528252052, 0.1...   \n",
       "496263    0.425885  [0.12906825488199591, 0.14419442528252052, 0.1...   \n",
       "496264    0.422753  [0.12906825488199591, 0.14419442528252052, 0.1...   \n",
       "\n",
       "                                                 Alt_attn  ScoreChange  \\\n",
       "848     [0.29288270342271117, 0.29455928169873963, 0.3...    -0.058899   \n",
       "928     [0.274552567994427, 0.2943961719723375, 0.3125...    -0.075079   \n",
       "929     [0.27546272098208235, 0.3011425617751689, 0.31...    -0.076057   \n",
       "2088    [0.09744746708927564, 0.08952049196436804, 0.0...    -0.076046   \n",
       "2090    [0.10678775550090669, 0.10131091741111195, 0.0...    -0.031294   \n",
       "...                                                   ...          ...   \n",
       "496257  [0.12884676860122113, 0.14346656705173313, 0.1...    -0.026961   \n",
       "496259  [0.12745855827403377, 0.14446356766667984, 0.1...    -0.021805   \n",
       "496260  [0.1291400347643924, 0.14439643229333013, 0.14...    -0.069294   \n",
       "496263  [0.12979868829171767, 0.14521174897148748, 0.1...    -0.058107   \n",
       "496264  [0.12904783977251158, 0.14370755508118435, 0.1...    -0.059782   \n",
       "\n",
       "        LogOddRatio  \n",
       "848        0.579073  \n",
       "928        0.736658  \n",
       "929        0.746209  \n",
       "2088       0.843830  \n",
       "2090       0.342463  \n",
       "...             ...  \n",
       "496257     0.291388  \n",
       "496259     0.235705  \n",
       "496260     0.755092  \n",
       "496263     0.630760  \n",
       "496264     0.649257  \n",
       "\n",
       "[2555 rows x 16 columns]"
      ]
     },
     "execution_count": 31,
     "metadata": {},
     "output_type": "execute_result"
    }
   ],
   "source": [
    "df"
   ]
  },
  {
   "cell_type": "code",
   "execution_count": 32,
   "id": "ee694163-4c7b-4913-a954-506d3efddcb6",
   "metadata": {},
   "outputs": [
    {
     "data": {
      "text/html": [
       "<div>\n",
       "<style scoped>\n",
       "    .dataframe tbody tr th:only-of-type {\n",
       "        vertical-align: middle;\n",
       "    }\n",
       "\n",
       "    .dataframe tbody tr th {\n",
       "        vertical-align: top;\n",
       "    }\n",
       "\n",
       "    .dataframe thead th {\n",
       "        text-align: right;\n",
       "    }\n",
       "</style>\n",
       "<table border=\"1\" class=\"dataframe\">\n",
       "  <thead>\n",
       "    <tr style=\"text-align: right;\">\n",
       "      <th></th>\n",
       "      <th>chr</th>\n",
       "      <th>Enhancer_coordinates</th>\n",
       "      <th>dbsnp_id</th>\n",
       "      <th>varinat_start</th>\n",
       "      <th>variant_end</th>\n",
       "      <th>ref_neucleotide</th>\n",
       "      <th>alternative_neucleotide</th>\n",
       "      <th>reference_seq</th>\n",
       "      <th>alt_seq</th>\n",
       "      <th>Ref_probab</th>\n",
       "      <th>Alt_probab</th>\n",
       "      <th>Ref_attn</th>\n",
       "      <th>Alt_attn</th>\n",
       "      <th>ScoreChange</th>\n",
       "      <th>LogOddRatio</th>\n",
       "    </tr>\n",
       "  </thead>\n",
       "  <tbody>\n",
       "    <tr>\n",
       "      <th>848</th>\n",
       "      <td>chr19</td>\n",
       "      <td>38740790-38740989</td>\n",
       "      <td>rs1970501697</td>\n",
       "      <td>38740793</td>\n",
       "      <td>38740794</td>\n",
       "      <td>C</td>\n",
       "      <td>G</td>\n",
       "      <td>ACTCCATCTCAAAAAAAAAAAAAAAATTCAGACTCTTGACGGGGGG...</td>\n",
       "      <td>ACTGCATCTCAAAAAAAAAAAAAAAATTCAGACTCTTGACGGGGGG...</td>\n",
       "      <td>0.593560</td>\n",
       "      <td>0.494330</td>\n",
       "      <td>[0.2715375423587127, 0.2968454763772309, 0.307...</td>\n",
       "      <td>[0.29288270342271117, 0.29455928169873963, 0.3...</td>\n",
       "      <td>-0.058899</td>\n",
       "      <td>0.579073</td>\n",
       "    </tr>\n",
       "    <tr>\n",
       "      <th>928</th>\n",
       "      <td>chr19</td>\n",
       "      <td>38740790-38740989</td>\n",
       "      <td>rs552011867</td>\n",
       "      <td>38740984</td>\n",
       "      <td>38740985</td>\n",
       "      <td>C</td>\n",
       "      <td>T</td>\n",
       "      <td>ACTCCATCTCAAAAAAAAAAAAAAAATTCAGACTCTTGACGGGGGG...</td>\n",
       "      <td>ACTCCATCTCAAAAAAAAAAAAAAAATTCAGACTCTTGACGGGGGG...</td>\n",
       "      <td>0.593560</td>\n",
       "      <td>0.467070</td>\n",
       "      <td>[0.2715375423587127, 0.2968454763772309, 0.307...</td>\n",
       "      <td>[0.274552567994427, 0.2943961719723375, 0.3125...</td>\n",
       "      <td>-0.075079</td>\n",
       "      <td>0.736658</td>\n",
       "    </tr>\n",
       "    <tr>\n",
       "      <th>929</th>\n",
       "      <td>chr19</td>\n",
       "      <td>38740790-38740989</td>\n",
       "      <td>rs1055983971</td>\n",
       "      <td>38740985</td>\n",
       "      <td>38740986</td>\n",
       "      <td>G</td>\n",
       "      <td>A</td>\n",
       "      <td>ACTCCATCTCAAAAAAAAAAAAAAAATTCAGACTCTTGACGGGGGG...</td>\n",
       "      <td>ACTCCATCTCAAAAAAAAAAAAAAAATTCAGACTCTTGACGGGGGG...</td>\n",
       "      <td>0.593560</td>\n",
       "      <td>0.465423</td>\n",
       "      <td>[0.2715375423587127, 0.2968454763772309, 0.307...</td>\n",
       "      <td>[0.27546272098208235, 0.3011425617751689, 0.31...</td>\n",
       "      <td>-0.076057</td>\n",
       "      <td>0.746209</td>\n",
       "    </tr>\n",
       "    <tr>\n",
       "      <th>2088</th>\n",
       "      <td>chr19</td>\n",
       "      <td>39442467-39442666</td>\n",
       "      <td>rs375517308</td>\n",
       "      <td>39442478</td>\n",
       "      <td>39442479</td>\n",
       "      <td>C</td>\n",
       "      <td>T</td>\n",
       "      <td>TGATCAAAACTCATTGCAGGCTCGATCTTTCAGGCTCAAGTGACTC...</td>\n",
       "      <td>TGATCAAAACTTATTGCAGGCTCGATCTTTCAGGCTCAAGTGACTC...</td>\n",
       "      <td>0.527952</td>\n",
       "      <td>0.383912</td>\n",
       "      <td>[0.11171538769964043, 0.10026279554907874, 0.0...</td>\n",
       "      <td>[0.09744746708927564, 0.08952049196436804, 0.0...</td>\n",
       "      <td>-0.076046</td>\n",
       "      <td>0.843830</td>\n",
       "    </tr>\n",
       "    <tr>\n",
       "      <th>2090</th>\n",
       "      <td>chr19</td>\n",
       "      <td>39442467-39442666</td>\n",
       "      <td>rs2078888120</td>\n",
       "      <td>39442482</td>\n",
       "      <td>39442483</td>\n",
       "      <td>G</td>\n",
       "      <td>A</td>\n",
       "      <td>TGATCAAAACTCATTGCAGGCTCGATCTTTCAGGCTCAAGTGACTC...</td>\n",
       "      <td>TGATCAAAACTCATTACAGGCTCGATCTTTCAGGCTCAAGTGACTC...</td>\n",
       "      <td>0.527952</td>\n",
       "      <td>0.468678</td>\n",
       "      <td>[0.11171538769964043, 0.10026279554907874, 0.0...</td>\n",
       "      <td>[0.10678775550090669, 0.10131091741111195, 0.0...</td>\n",
       "      <td>-0.031294</td>\n",
       "      <td>0.342463</td>\n",
       "    </tr>\n",
       "    <tr>\n",
       "      <th>...</th>\n",
       "      <td>...</td>\n",
       "      <td>...</td>\n",
       "      <td>...</td>\n",
       "      <td>...</td>\n",
       "      <td>...</td>\n",
       "      <td>...</td>\n",
       "      <td>...</td>\n",
       "      <td>...</td>\n",
       "      <td>...</td>\n",
       "      <td>...</td>\n",
       "      <td>...</td>\n",
       "      <td>...</td>\n",
       "      <td>...</td>\n",
       "      <td>...</td>\n",
       "      <td>...</td>\n",
       "    </tr>\n",
       "    <tr>\n",
       "      <th>496257</th>\n",
       "      <td>chr18</td>\n",
       "      <td>12324415-12324614</td>\n",
       "      <td>rs1381814697</td>\n",
       "      <td>12324598</td>\n",
       "      <td>12324599</td>\n",
       "      <td>C</td>\n",
       "      <td>T</td>\n",
       "      <td>ATAAGATTCAGAAAGCCCAAAGGAGAGAACTTTTTTTTTTTTTTTG...</td>\n",
       "      <td>ATAAGATTCAGAAAGCCCAAAGGAGAGAACTTTTTTTTTTTTTTTG...</td>\n",
       "      <td>0.534582</td>\n",
       "      <td>0.484149</td>\n",
       "      <td>[0.12906825488199591, 0.14419442528252052, 0.1...</td>\n",
       "      <td>[0.12884676860122113, 0.14346656705173313, 0.1...</td>\n",
       "      <td>-0.026961</td>\n",
       "      <td>0.291388</td>\n",
       "    </tr>\n",
       "    <tr>\n",
       "      <th>496259</th>\n",
       "      <td>chr18</td>\n",
       "      <td>12324415-12324614</td>\n",
       "      <td>rs1454528487</td>\n",
       "      <td>12324606</td>\n",
       "      <td>12324607</td>\n",
       "      <td>C</td>\n",
       "      <td>G</td>\n",
       "      <td>ATAAGATTCAGAAAGCCCAAAGGAGAGAACTTTTTTTTTTTTTTTG...</td>\n",
       "      <td>ATAAGATTCAGAAAGCCCAAAGGAGAGAACTTTTTTTTTTTTTTTG...</td>\n",
       "      <td>0.534582</td>\n",
       "      <td>0.493793</td>\n",
       "      <td>[0.12906825488199591, 0.14419442528252052, 0.1...</td>\n",
       "      <td>[0.12745855827403377, 0.14446356766667984, 0.1...</td>\n",
       "      <td>-0.021805</td>\n",
       "      <td>0.235705</td>\n",
       "    </tr>\n",
       "    <tr>\n",
       "      <th>496260</th>\n",
       "      <td>chr18</td>\n",
       "      <td>12324415-12324614</td>\n",
       "      <td>rs538832408</td>\n",
       "      <td>12324607</td>\n",
       "      <td>12324608</td>\n",
       "      <td>G</td>\n",
       "      <td>A</td>\n",
       "      <td>ATAAGATTCAGAAAGCCCAAAGGAGAGAACTTTTTTTTTTTTTTTG...</td>\n",
       "      <td>ATAAGATTCAGAAAGCCCAAAGGAGAGAACTTTTTTTTTTTTTTTG...</td>\n",
       "      <td>0.534582</td>\n",
       "      <td>0.404960</td>\n",
       "      <td>[0.12906825488199591, 0.14419442528252052, 0.1...</td>\n",
       "      <td>[0.1291400347643924, 0.14439643229333013, 0.14...</td>\n",
       "      <td>-0.069294</td>\n",
       "      <td>0.755092</td>\n",
       "    </tr>\n",
       "    <tr>\n",
       "      <th>496263</th>\n",
       "      <td>chr18</td>\n",
       "      <td>12324415-12324614</td>\n",
       "      <td>rs1907171652</td>\n",
       "      <td>12324610</td>\n",
       "      <td>12324611</td>\n",
       "      <td>C</td>\n",
       "      <td>T</td>\n",
       "      <td>ATAAGATTCAGAAAGCCCAAAGGAGAGAACTTTTTTTTTTTTTTTG...</td>\n",
       "      <td>ATAAGATTCAGAAAGCCCAAAGGAGAGAACTTTTTTTTTTTTTTTG...</td>\n",
       "      <td>0.534582</td>\n",
       "      <td>0.425885</td>\n",
       "      <td>[0.12906825488199591, 0.14419442528252052, 0.1...</td>\n",
       "      <td>[0.12979868829171767, 0.14521174897148748, 0.1...</td>\n",
       "      <td>-0.058107</td>\n",
       "      <td>0.630760</td>\n",
       "    </tr>\n",
       "    <tr>\n",
       "      <th>496264</th>\n",
       "      <td>chr18</td>\n",
       "      <td>12324415-12324614</td>\n",
       "      <td>rs1337550101</td>\n",
       "      <td>12324611</td>\n",
       "      <td>12324612</td>\n",
       "      <td>G</td>\n",
       "      <td>A</td>\n",
       "      <td>ATAAGATTCAGAAAGCCCAAAGGAGAGAACTTTTTTTTTTTTTTTG...</td>\n",
       "      <td>ATAAGATTCAGAAAGCCCAAAGGAGAGAACTTTTTTTTTTTTTTTG...</td>\n",
       "      <td>0.534582</td>\n",
       "      <td>0.422753</td>\n",
       "      <td>[0.12906825488199591, 0.14419442528252052, 0.1...</td>\n",
       "      <td>[0.12904783977251158, 0.14370755508118435, 0.1...</td>\n",
       "      <td>-0.059782</td>\n",
       "      <td>0.649257</td>\n",
       "    </tr>\n",
       "  </tbody>\n",
       "</table>\n",
       "<p>2555 rows × 15 columns</p>\n",
       "</div>"
      ],
      "text/plain": [
       "          chr Enhancer_coordinates      dbsnp_id  varinat_start  variant_end  \\\n",
       "848     chr19    38740790-38740989  rs1970501697       38740793     38740794   \n",
       "928     chr19    38740790-38740989   rs552011867       38740984     38740985   \n",
       "929     chr19    38740790-38740989  rs1055983971       38740985     38740986   \n",
       "2088    chr19    39442467-39442666   rs375517308       39442478     39442479   \n",
       "2090    chr19    39442467-39442666  rs2078888120       39442482     39442483   \n",
       "...       ...                  ...           ...            ...          ...   \n",
       "496257  chr18    12324415-12324614  rs1381814697       12324598     12324599   \n",
       "496259  chr18    12324415-12324614  rs1454528487       12324606     12324607   \n",
       "496260  chr18    12324415-12324614   rs538832408       12324607     12324608   \n",
       "496263  chr18    12324415-12324614  rs1907171652       12324610     12324611   \n",
       "496264  chr18    12324415-12324614  rs1337550101       12324611     12324612   \n",
       "\n",
       "       ref_neucleotide alternative_neucleotide  \\\n",
       "848                  C                       G   \n",
       "928                  C                       T   \n",
       "929                  G                       A   \n",
       "2088                 C                       T   \n",
       "2090                 G                       A   \n",
       "...                ...                     ...   \n",
       "496257               C                       T   \n",
       "496259               C                       G   \n",
       "496260               G                       A   \n",
       "496263               C                       T   \n",
       "496264               G                       A   \n",
       "\n",
       "                                            reference_seq  \\\n",
       "848     ACTCCATCTCAAAAAAAAAAAAAAAATTCAGACTCTTGACGGGGGG...   \n",
       "928     ACTCCATCTCAAAAAAAAAAAAAAAATTCAGACTCTTGACGGGGGG...   \n",
       "929     ACTCCATCTCAAAAAAAAAAAAAAAATTCAGACTCTTGACGGGGGG...   \n",
       "2088    TGATCAAAACTCATTGCAGGCTCGATCTTTCAGGCTCAAGTGACTC...   \n",
       "2090    TGATCAAAACTCATTGCAGGCTCGATCTTTCAGGCTCAAGTGACTC...   \n",
       "...                                                   ...   \n",
       "496257  ATAAGATTCAGAAAGCCCAAAGGAGAGAACTTTTTTTTTTTTTTTG...   \n",
       "496259  ATAAGATTCAGAAAGCCCAAAGGAGAGAACTTTTTTTTTTTTTTTG...   \n",
       "496260  ATAAGATTCAGAAAGCCCAAAGGAGAGAACTTTTTTTTTTTTTTTG...   \n",
       "496263  ATAAGATTCAGAAAGCCCAAAGGAGAGAACTTTTTTTTTTTTTTTG...   \n",
       "496264  ATAAGATTCAGAAAGCCCAAAGGAGAGAACTTTTTTTTTTTTTTTG...   \n",
       "\n",
       "                                                  alt_seq  Ref_probab  \\\n",
       "848     ACTGCATCTCAAAAAAAAAAAAAAAATTCAGACTCTTGACGGGGGG...    0.593560   \n",
       "928     ACTCCATCTCAAAAAAAAAAAAAAAATTCAGACTCTTGACGGGGGG...    0.593560   \n",
       "929     ACTCCATCTCAAAAAAAAAAAAAAAATTCAGACTCTTGACGGGGGG...    0.593560   \n",
       "2088    TGATCAAAACTTATTGCAGGCTCGATCTTTCAGGCTCAAGTGACTC...    0.527952   \n",
       "2090    TGATCAAAACTCATTACAGGCTCGATCTTTCAGGCTCAAGTGACTC...    0.527952   \n",
       "...                                                   ...         ...   \n",
       "496257  ATAAGATTCAGAAAGCCCAAAGGAGAGAACTTTTTTTTTTTTTTTG...    0.534582   \n",
       "496259  ATAAGATTCAGAAAGCCCAAAGGAGAGAACTTTTTTTTTTTTTTTG...    0.534582   \n",
       "496260  ATAAGATTCAGAAAGCCCAAAGGAGAGAACTTTTTTTTTTTTTTTG...    0.534582   \n",
       "496263  ATAAGATTCAGAAAGCCCAAAGGAGAGAACTTTTTTTTTTTTTTTG...    0.534582   \n",
       "496264  ATAAGATTCAGAAAGCCCAAAGGAGAGAACTTTTTTTTTTTTTTTG...    0.534582   \n",
       "\n",
       "        Alt_probab                                           Ref_attn  \\\n",
       "848       0.494330  [0.2715375423587127, 0.2968454763772309, 0.307...   \n",
       "928       0.467070  [0.2715375423587127, 0.2968454763772309, 0.307...   \n",
       "929       0.465423  [0.2715375423587127, 0.2968454763772309, 0.307...   \n",
       "2088      0.383912  [0.11171538769964043, 0.10026279554907874, 0.0...   \n",
       "2090      0.468678  [0.11171538769964043, 0.10026279554907874, 0.0...   \n",
       "...            ...                                                ...   \n",
       "496257    0.484149  [0.12906825488199591, 0.14419442528252052, 0.1...   \n",
       "496259    0.493793  [0.12906825488199591, 0.14419442528252052, 0.1...   \n",
       "496260    0.404960  [0.12906825488199591, 0.14419442528252052, 0.1...   \n",
       "496263    0.425885  [0.12906825488199591, 0.14419442528252052, 0.1...   \n",
       "496264    0.422753  [0.12906825488199591, 0.14419442528252052, 0.1...   \n",
       "\n",
       "                                                 Alt_attn  ScoreChange  \\\n",
       "848     [0.29288270342271117, 0.29455928169873963, 0.3...    -0.058899   \n",
       "928     [0.274552567994427, 0.2943961719723375, 0.3125...    -0.075079   \n",
       "929     [0.27546272098208235, 0.3011425617751689, 0.31...    -0.076057   \n",
       "2088    [0.09744746708927564, 0.08952049196436804, 0.0...    -0.076046   \n",
       "2090    [0.10678775550090669, 0.10131091741111195, 0.0...    -0.031294   \n",
       "...                                                   ...          ...   \n",
       "496257  [0.12884676860122113, 0.14346656705173313, 0.1...    -0.026961   \n",
       "496259  [0.12745855827403377, 0.14446356766667984, 0.1...    -0.021805   \n",
       "496260  [0.1291400347643924, 0.14439643229333013, 0.14...    -0.069294   \n",
       "496263  [0.12979868829171767, 0.14521174897148748, 0.1...    -0.058107   \n",
       "496264  [0.12904783977251158, 0.14370755508118435, 0.1...    -0.059782   \n",
       "\n",
       "        LogOddRatio  \n",
       "848        0.579073  \n",
       "928        0.736658  \n",
       "929        0.746209  \n",
       "2088       0.843830  \n",
       "2090       0.342463  \n",
       "...             ...  \n",
       "496257     0.291388  \n",
       "496259     0.235705  \n",
       "496260     0.755092  \n",
       "496263     0.630760  \n",
       "496264     0.649257  \n",
       "\n",
       "[2555 rows x 15 columns]"
      ]
     },
     "execution_count": 32,
     "metadata": {},
     "output_type": "execute_result"
    }
   ],
   "source": [
    "#df_interest = df_interest[((df_interest['Ref_probab']>0.5) & (df_interest['Alt_probab']<0.5))|((df_interest['Ref_probab']<0.5) & (df_interest['Alt_probab']>0.5))]\n",
    "# df_interest = concatenated_df[(concatenated_df['Ref_probab']>0.5)|(concatenated_df['Alt_probab']>0.5)]\n",
    "# df_interest\n",
    "#filtered_df1 = df[(df['Ref_probab'] >= 0.5) & (df['Alt_probab'] < 0.5)]\n",
    "#filtered_df2 = df[(df['Ref_probab'] < 0.5) & (df['Alt_probab'] > 0.5)]\n",
    "df_interest = df.drop(columns=['index'])\n",
    "df_interest "
   ]
  },
  {
   "cell_type": "code",
   "execution_count": 33,
   "id": "13582d2a-f78e-4186-9b00-80e4b71105d0",
   "metadata": {},
   "outputs": [
    {
     "data": {
      "text/html": [
       "<div>\n",
       "<style scoped>\n",
       "    .dataframe tbody tr th:only-of-type {\n",
       "        vertical-align: middle;\n",
       "    }\n",
       "\n",
       "    .dataframe tbody tr th {\n",
       "        vertical-align: top;\n",
       "    }\n",
       "\n",
       "    .dataframe thead th {\n",
       "        text-align: right;\n",
       "    }\n",
       "</style>\n",
       "<table border=\"1\" class=\"dataframe\">\n",
       "  <thead>\n",
       "    <tr style=\"text-align: right;\">\n",
       "      <th></th>\n",
       "      <th>dbsnp_id</th>\n",
       "      <th>varinat_start</th>\n",
       "      <th>variant_end</th>\n",
       "    </tr>\n",
       "  </thead>\n",
       "  <tbody>\n",
       "    <tr>\n",
       "      <th>848</th>\n",
       "      <td>rs1970501697</td>\n",
       "      <td>38740793</td>\n",
       "      <td>38740794</td>\n",
       "    </tr>\n",
       "    <tr>\n",
       "      <th>928</th>\n",
       "      <td>rs552011867</td>\n",
       "      <td>38740984</td>\n",
       "      <td>38740985</td>\n",
       "    </tr>\n",
       "    <tr>\n",
       "      <th>929</th>\n",
       "      <td>rs1055983971</td>\n",
       "      <td>38740985</td>\n",
       "      <td>38740986</td>\n",
       "    </tr>\n",
       "    <tr>\n",
       "      <th>2088</th>\n",
       "      <td>rs375517308</td>\n",
       "      <td>39442478</td>\n",
       "      <td>39442479</td>\n",
       "    </tr>\n",
       "    <tr>\n",
       "      <th>2090</th>\n",
       "      <td>rs2078888120</td>\n",
       "      <td>39442482</td>\n",
       "      <td>39442483</td>\n",
       "    </tr>\n",
       "    <tr>\n",
       "      <th>...</th>\n",
       "      <td>...</td>\n",
       "      <td>...</td>\n",
       "      <td>...</td>\n",
       "    </tr>\n",
       "    <tr>\n",
       "      <th>496257</th>\n",
       "      <td>rs1381814697</td>\n",
       "      <td>12324598</td>\n",
       "      <td>12324599</td>\n",
       "    </tr>\n",
       "    <tr>\n",
       "      <th>496259</th>\n",
       "      <td>rs1454528487</td>\n",
       "      <td>12324606</td>\n",
       "      <td>12324607</td>\n",
       "    </tr>\n",
       "    <tr>\n",
       "      <th>496260</th>\n",
       "      <td>rs538832408</td>\n",
       "      <td>12324607</td>\n",
       "      <td>12324608</td>\n",
       "    </tr>\n",
       "    <tr>\n",
       "      <th>496263</th>\n",
       "      <td>rs1907171652</td>\n",
       "      <td>12324610</td>\n",
       "      <td>12324611</td>\n",
       "    </tr>\n",
       "    <tr>\n",
       "      <th>496264</th>\n",
       "      <td>rs1337550101</td>\n",
       "      <td>12324611</td>\n",
       "      <td>12324612</td>\n",
       "    </tr>\n",
       "  </tbody>\n",
       "</table>\n",
       "<p>2249 rows × 3 columns</p>\n",
       "</div>"
      ],
      "text/plain": [
       "            dbsnp_id  varinat_start  variant_end\n",
       "848     rs1970501697       38740793     38740794\n",
       "928      rs552011867       38740984     38740985\n",
       "929     rs1055983971       38740985     38740986\n",
       "2088     rs375517308       39442478     39442479\n",
       "2090    rs2078888120       39442482     39442483\n",
       "...              ...            ...          ...\n",
       "496257  rs1381814697       12324598     12324599\n",
       "496259  rs1454528487       12324606     12324607\n",
       "496260   rs538832408       12324607     12324608\n",
       "496263  rs1907171652       12324610     12324611\n",
       "496264  rs1337550101       12324611     12324612\n",
       "\n",
       "[2249 rows x 3 columns]"
      ]
     },
     "execution_count": 33,
     "metadata": {},
     "output_type": "execute_result"
    }
   ],
   "source": [
    "df_interest [['dbsnp_id', 'varinat_start',\t'variant_end']].drop_duplicates()"
   ]
  },
  {
   "cell_type": "code",
   "execution_count": 34,
   "id": "78d284dc-7954-4b20-8520-7739a17a8032",
   "metadata": {},
   "outputs": [
    {
     "data": {
      "text/html": [
       "<div>\n",
       "<style scoped>\n",
       "    .dataframe tbody tr th:only-of-type {\n",
       "        vertical-align: middle;\n",
       "    }\n",
       "\n",
       "    .dataframe tbody tr th {\n",
       "        vertical-align: top;\n",
       "    }\n",
       "\n",
       "    .dataframe thead th {\n",
       "        text-align: right;\n",
       "    }\n",
       "</style>\n",
       "<table border=\"1\" class=\"dataframe\">\n",
       "  <thead>\n",
       "    <tr style=\"text-align: right;\">\n",
       "      <th></th>\n",
       "      <th>chr</th>\n",
       "      <th>Enhancer_coordinates</th>\n",
       "    </tr>\n",
       "  </thead>\n",
       "  <tbody>\n",
       "    <tr>\n",
       "      <th>848</th>\n",
       "      <td>chr19</td>\n",
       "      <td>38740790-38740989</td>\n",
       "    </tr>\n",
       "    <tr>\n",
       "      <th>2088</th>\n",
       "      <td>chr19</td>\n",
       "      <td>39442467-39442666</td>\n",
       "    </tr>\n",
       "    <tr>\n",
       "      <th>3056</th>\n",
       "      <td>chr19</td>\n",
       "      <td>3437545-3437744</td>\n",
       "    </tr>\n",
       "    <tr>\n",
       "      <th>4690</th>\n",
       "      <td>chr19</td>\n",
       "      <td>19142420-19142619</td>\n",
       "    </tr>\n",
       "    <tr>\n",
       "      <th>5033</th>\n",
       "      <td>chr19</td>\n",
       "      <td>44582373-44582572</td>\n",
       "    </tr>\n",
       "    <tr>\n",
       "      <th>...</th>\n",
       "      <td>...</td>\n",
       "      <td>...</td>\n",
       "    </tr>\n",
       "    <tr>\n",
       "      <th>493571</th>\n",
       "      <td>chr18</td>\n",
       "      <td>79498777-79498976</td>\n",
       "    </tr>\n",
       "    <tr>\n",
       "      <th>494063</th>\n",
       "      <td>chr18</td>\n",
       "      <td>9490359-9490558</td>\n",
       "    </tr>\n",
       "    <tr>\n",
       "      <th>494718</th>\n",
       "      <td>chr18</td>\n",
       "      <td>8934291-8934490</td>\n",
       "    </tr>\n",
       "    <tr>\n",
       "      <th>495770</th>\n",
       "      <td>chr18</td>\n",
       "      <td>23444327-23444526</td>\n",
       "    </tr>\n",
       "    <tr>\n",
       "      <th>496169</th>\n",
       "      <td>chr18</td>\n",
       "      <td>12324415-12324614</td>\n",
       "    </tr>\n",
       "  </tbody>\n",
       "</table>\n",
       "<p>272 rows × 2 columns</p>\n",
       "</div>"
      ],
      "text/plain": [
       "          chr Enhancer_coordinates\n",
       "848     chr19    38740790-38740989\n",
       "2088    chr19    39442467-39442666\n",
       "3056    chr19      3437545-3437744\n",
       "4690    chr19    19142420-19142619\n",
       "5033    chr19    44582373-44582572\n",
       "...       ...                  ...\n",
       "493571  chr18    79498777-79498976\n",
       "494063  chr18      9490359-9490558\n",
       "494718  chr18      8934291-8934490\n",
       "495770  chr18    23444327-23444526\n",
       "496169  chr18    12324415-12324614\n",
       "\n",
       "[272 rows x 2 columns]"
      ]
     },
     "execution_count": 34,
     "metadata": {},
     "output_type": "execute_result"
    }
   ],
   "source": [
    "df_interest[['chr','Enhancer_coordinates']].drop_duplicates()"
   ]
  },
  {
   "cell_type": "code",
   "execution_count": 35,
   "id": "c19ccc9b-46f1-4983-9b96-af4fd6cc6bdc",
   "metadata": {},
   "outputs": [
    {
     "data": {
      "application/vnd.plotly.v1+json": {
       "config": {
        "plotlyServerURL": "https://plot.ly"
       },
       "data": [
        {
         "name": "Histogram",
         "type": "bar",
         "width": [
          0.2049852483258417,
          0.2049852483258417,
          0.20498524832584175,
          0.20498524832584164,
          0.20498524832584164,
          0.20498524832584186,
          0.20498524832584164,
          0.20498524832584164,
          0.20498524832584164,
          0.20498524832584186,
          0.20498524832584142,
          0.2049852483258423,
          0.20498524832584142,
          0.20498524832584142,
          0.20498524832584142,
          0.2049852483258423,
          0.20498524832584142,
          0.20498524832584142,
          0.2049852483258423,
          0.20498524832584142,
          0.2049852483258423,
          0.20498524832584142,
          0.20498524832584142,
          0.2049852483258423,
          0.20498524832584142,
          0.20498524832584142,
          0.20498524832584142,
          0.2049852483258423,
          0.20498524832584142,
          0.20498524832584142,
          0.2049852483258423,
          0.20498524832584142,
          0.20498524832584142,
          0.2049852483258423,
          0.20498524832584142,
          0.20498524832584142,
          0.2049852483258423,
          0.20498524832584142,
          0.20498524832584053,
          0.2049852483258423
         ],
         "x": [
          0.12523624856852003,
          0.33022149689436175,
          0.5352067452202034,
          0.7401919935460451,
          0.9451772418718868,
          1.1501624901977285,
          1.3551477385235704,
          1.5601329868494118,
          1.7651182351752537,
          1.9701034835010953,
          2.175088731826937,
          2.380073980152779,
          2.5850592284786207,
          2.790044476804462,
          2.9950297251303035,
          3.2000149734561454,
          3.4050002217819872,
          3.6099854701078287,
          3.8149707184336705,
          4.019955966759513,
          4.224941215085354,
          4.429926463411196,
          4.634911711737038,
          4.839896960062879,
          5.044882208388721,
          5.249867456714563,
          5.454852705040404,
          5.659837953366246,
          5.864823201692088,
          6.069808450017929,
          6.274793698343771,
          6.479778946669613,
          6.684764194995454,
          6.889749443321296,
          7.0947346916471385,
          7.299719939972979,
          7.504705188298821,
          7.709690436624664,
          7.914675684950504,
          8.119660933276347
         ],
         "y": [
          517,
          605,
          408,
          263,
          189,
          111,
          103,
          82,
          66,
          43,
          35,
          24,
          18,
          12,
          14,
          7,
          6,
          5,
          12,
          10,
          7,
          4,
          2,
          1,
          0,
          4,
          1,
          0,
          2,
          1,
          0,
          0,
          1,
          0,
          0,
          0,
          0,
          0,
          0,
          2
         ]
        },
        {
         "mode": "text",
         "text": [
          "517"
         ],
         "type": "scatter",
         "x": [
          0.12523624856852003
         ],
         "y": [
          517
         ]
        },
        {
         "mode": "text",
         "text": [
          "605"
         ],
         "type": "scatter",
         "x": [
          0.33022149689436175
         ],
         "y": [
          605
         ]
        },
        {
         "mode": "text",
         "text": [
          "408"
         ],
         "type": "scatter",
         "x": [
          0.5352067452202034
         ],
         "y": [
          408
         ]
        },
        {
         "mode": "text",
         "text": [
          "263"
         ],
         "type": "scatter",
         "x": [
          0.7401919935460451
         ],
         "y": [
          263
         ]
        },
        {
         "mode": "text",
         "text": [
          "189"
         ],
         "type": "scatter",
         "x": [
          0.9451772418718868
         ],
         "y": [
          189
         ]
        },
        {
         "mode": "text",
         "text": [
          "111"
         ],
         "type": "scatter",
         "x": [
          1.1501624901977285
         ],
         "y": [
          111
         ]
        },
        {
         "mode": "text",
         "text": [
          "103"
         ],
         "type": "scatter",
         "x": [
          1.3551477385235704
         ],
         "y": [
          103
         ]
        },
        {
         "mode": "text",
         "text": [
          "82"
         ],
         "type": "scatter",
         "x": [
          1.5601329868494118
         ],
         "y": [
          82
         ]
        },
        {
         "mode": "text",
         "text": [
          "66"
         ],
         "type": "scatter",
         "x": [
          1.7651182351752537
         ],
         "y": [
          66
         ]
        },
        {
         "mode": "text",
         "text": [
          "43"
         ],
         "type": "scatter",
         "x": [
          1.9701034835010953
         ],
         "y": [
          43
         ]
        },
        {
         "mode": "text",
         "text": [
          "35"
         ],
         "type": "scatter",
         "x": [
          2.175088731826937
         ],
         "y": [
          35
         ]
        },
        {
         "mode": "text",
         "text": [
          "24"
         ],
         "type": "scatter",
         "x": [
          2.380073980152779
         ],
         "y": [
          24
         ]
        },
        {
         "mode": "text",
         "text": [
          "18"
         ],
         "type": "scatter",
         "x": [
          2.5850592284786207
         ],
         "y": [
          18
         ]
        },
        {
         "mode": "text",
         "text": [
          "12"
         ],
         "type": "scatter",
         "x": [
          2.790044476804462
         ],
         "y": [
          12
         ]
        },
        {
         "mode": "text",
         "text": [
          "14"
         ],
         "type": "scatter",
         "x": [
          2.9950297251303035
         ],
         "y": [
          14
         ]
        },
        {
         "mode": "text",
         "text": [
          "7"
         ],
         "type": "scatter",
         "x": [
          3.2000149734561454
         ],
         "y": [
          7
         ]
        },
        {
         "mode": "text",
         "text": [
          "6"
         ],
         "type": "scatter",
         "x": [
          3.4050002217819872
         ],
         "y": [
          6
         ]
        },
        {
         "mode": "text",
         "text": [
          "5"
         ],
         "type": "scatter",
         "x": [
          3.6099854701078287
         ],
         "y": [
          5
         ]
        },
        {
         "mode": "text",
         "text": [
          "12"
         ],
         "type": "scatter",
         "x": [
          3.8149707184336705
         ],
         "y": [
          12
         ]
        },
        {
         "mode": "text",
         "text": [
          "10"
         ],
         "type": "scatter",
         "x": [
          4.019955966759513
         ],
         "y": [
          10
         ]
        },
        {
         "mode": "text",
         "text": [
          "7"
         ],
         "type": "scatter",
         "x": [
          4.224941215085354
         ],
         "y": [
          7
         ]
        },
        {
         "mode": "text",
         "text": [
          "4"
         ],
         "type": "scatter",
         "x": [
          4.429926463411196
         ],
         "y": [
          4
         ]
        },
        {
         "mode": "text",
         "text": [
          "2"
         ],
         "type": "scatter",
         "x": [
          4.634911711737038
         ],
         "y": [
          2
         ]
        },
        {
         "mode": "text",
         "text": [
          "1"
         ],
         "type": "scatter",
         "x": [
          4.839896960062879
         ],
         "y": [
          1
         ]
        },
        {
         "mode": "text",
         "text": [
          "0"
         ],
         "type": "scatter",
         "x": [
          5.044882208388721
         ],
         "y": [
          0
         ]
        },
        {
         "mode": "text",
         "text": [
          "4"
         ],
         "type": "scatter",
         "x": [
          5.249867456714563
         ],
         "y": [
          4
         ]
        },
        {
         "mode": "text",
         "text": [
          "1"
         ],
         "type": "scatter",
         "x": [
          5.454852705040404
         ],
         "y": [
          1
         ]
        },
        {
         "mode": "text",
         "text": [
          "0"
         ],
         "type": "scatter",
         "x": [
          5.659837953366246
         ],
         "y": [
          0
         ]
        },
        {
         "mode": "text",
         "text": [
          "2"
         ],
         "type": "scatter",
         "x": [
          5.864823201692088
         ],
         "y": [
          2
         ]
        },
        {
         "mode": "text",
         "text": [
          "1"
         ],
         "type": "scatter",
         "x": [
          6.069808450017929
         ],
         "y": [
          1
         ]
        },
        {
         "mode": "text",
         "text": [
          "0"
         ],
         "type": "scatter",
         "x": [
          6.274793698343771
         ],
         "y": [
          0
         ]
        },
        {
         "mode": "text",
         "text": [
          "0"
         ],
         "type": "scatter",
         "x": [
          6.479778946669613
         ],
         "y": [
          0
         ]
        },
        {
         "mode": "text",
         "text": [
          "1"
         ],
         "type": "scatter",
         "x": [
          6.684764194995454
         ],
         "y": [
          1
         ]
        },
        {
         "mode": "text",
         "text": [
          "0"
         ],
         "type": "scatter",
         "x": [
          6.889749443321296
         ],
         "y": [
          0
         ]
        },
        {
         "mode": "text",
         "text": [
          "0"
         ],
         "type": "scatter",
         "x": [
          7.0947346916471385
         ],
         "y": [
          0
         ]
        },
        {
         "mode": "text",
         "text": [
          "0"
         ],
         "type": "scatter",
         "x": [
          7.299719939972979
         ],
         "y": [
          0
         ]
        },
        {
         "mode": "text",
         "text": [
          "0"
         ],
         "type": "scatter",
         "x": [
          7.504705188298821
         ],
         "y": [
          0
         ]
        },
        {
         "mode": "text",
         "text": [
          "0"
         ],
         "type": "scatter",
         "x": [
          7.709690436624664
         ],
         "y": [
          0
         ]
        },
        {
         "mode": "text",
         "text": [
          "0"
         ],
         "type": "scatter",
         "x": [
          7.914675684950504
         ],
         "y": [
          0
         ]
        },
        {
         "mode": "text",
         "text": [
          "2"
         ],
         "type": "scatter",
         "x": [
          8.119660933276347
         ],
         "y": [
          2
         ]
        }
       ],
       "layout": {
        "autosize": true,
        "template": {
         "data": {
          "bar": [
           {
            "error_x": {
             "color": "#2a3f5f"
            },
            "error_y": {
             "color": "#2a3f5f"
            },
            "marker": {
             "line": {
              "color": "#E5ECF6",
              "width": 0.5
             },
             "pattern": {
              "fillmode": "overlay",
              "size": 10,
              "solidity": 0.2
             }
            },
            "type": "bar"
           }
          ],
          "barpolar": [
           {
            "marker": {
             "line": {
              "color": "#E5ECF6",
              "width": 0.5
             },
             "pattern": {
              "fillmode": "overlay",
              "size": 10,
              "solidity": 0.2
             }
            },
            "type": "barpolar"
           }
          ],
          "carpet": [
           {
            "aaxis": {
             "endlinecolor": "#2a3f5f",
             "gridcolor": "white",
             "linecolor": "white",
             "minorgridcolor": "white",
             "startlinecolor": "#2a3f5f"
            },
            "baxis": {
             "endlinecolor": "#2a3f5f",
             "gridcolor": "white",
             "linecolor": "white",
             "minorgridcolor": "white",
             "startlinecolor": "#2a3f5f"
            },
            "type": "carpet"
           }
          ],
          "choropleth": [
           {
            "colorbar": {
             "outlinewidth": 0,
             "ticks": ""
            },
            "type": "choropleth"
           }
          ],
          "contour": [
           {
            "colorbar": {
             "outlinewidth": 0,
             "ticks": ""
            },
            "colorscale": [
             [
              0,
              "#0d0887"
             ],
             [
              0.1111111111111111,
              "#46039f"
             ],
             [
              0.2222222222222222,
              "#7201a8"
             ],
             [
              0.3333333333333333,
              "#9c179e"
             ],
             [
              0.4444444444444444,
              "#bd3786"
             ],
             [
              0.5555555555555556,
              "#d8576b"
             ],
             [
              0.6666666666666666,
              "#ed7953"
             ],
             [
              0.7777777777777778,
              "#fb9f3a"
             ],
             [
              0.8888888888888888,
              "#fdca26"
             ],
             [
              1,
              "#f0f921"
             ]
            ],
            "type": "contour"
           }
          ],
          "contourcarpet": [
           {
            "colorbar": {
             "outlinewidth": 0,
             "ticks": ""
            },
            "type": "contourcarpet"
           }
          ],
          "heatmap": [
           {
            "colorbar": {
             "outlinewidth": 0,
             "ticks": ""
            },
            "colorscale": [
             [
              0,
              "#0d0887"
             ],
             [
              0.1111111111111111,
              "#46039f"
             ],
             [
              0.2222222222222222,
              "#7201a8"
             ],
             [
              0.3333333333333333,
              "#9c179e"
             ],
             [
              0.4444444444444444,
              "#bd3786"
             ],
             [
              0.5555555555555556,
              "#d8576b"
             ],
             [
              0.6666666666666666,
              "#ed7953"
             ],
             [
              0.7777777777777778,
              "#fb9f3a"
             ],
             [
              0.8888888888888888,
              "#fdca26"
             ],
             [
              1,
              "#f0f921"
             ]
            ],
            "type": "heatmap"
           }
          ],
          "heatmapgl": [
           {
            "colorbar": {
             "outlinewidth": 0,
             "ticks": ""
            },
            "colorscale": [
             [
              0,
              "#0d0887"
             ],
             [
              0.1111111111111111,
              "#46039f"
             ],
             [
              0.2222222222222222,
              "#7201a8"
             ],
             [
              0.3333333333333333,
              "#9c179e"
             ],
             [
              0.4444444444444444,
              "#bd3786"
             ],
             [
              0.5555555555555556,
              "#d8576b"
             ],
             [
              0.6666666666666666,
              "#ed7953"
             ],
             [
              0.7777777777777778,
              "#fb9f3a"
             ],
             [
              0.8888888888888888,
              "#fdca26"
             ],
             [
              1,
              "#f0f921"
             ]
            ],
            "type": "heatmapgl"
           }
          ],
          "histogram": [
           {
            "marker": {
             "pattern": {
              "fillmode": "overlay",
              "size": 10,
              "solidity": 0.2
             }
            },
            "type": "histogram"
           }
          ],
          "histogram2d": [
           {
            "colorbar": {
             "outlinewidth": 0,
             "ticks": ""
            },
            "colorscale": [
             [
              0,
              "#0d0887"
             ],
             [
              0.1111111111111111,
              "#46039f"
             ],
             [
              0.2222222222222222,
              "#7201a8"
             ],
             [
              0.3333333333333333,
              "#9c179e"
             ],
             [
              0.4444444444444444,
              "#bd3786"
             ],
             [
              0.5555555555555556,
              "#d8576b"
             ],
             [
              0.6666666666666666,
              "#ed7953"
             ],
             [
              0.7777777777777778,
              "#fb9f3a"
             ],
             [
              0.8888888888888888,
              "#fdca26"
             ],
             [
              1,
              "#f0f921"
             ]
            ],
            "type": "histogram2d"
           }
          ],
          "histogram2dcontour": [
           {
            "colorbar": {
             "outlinewidth": 0,
             "ticks": ""
            },
            "colorscale": [
             [
              0,
              "#0d0887"
             ],
             [
              0.1111111111111111,
              "#46039f"
             ],
             [
              0.2222222222222222,
              "#7201a8"
             ],
             [
              0.3333333333333333,
              "#9c179e"
             ],
             [
              0.4444444444444444,
              "#bd3786"
             ],
             [
              0.5555555555555556,
              "#d8576b"
             ],
             [
              0.6666666666666666,
              "#ed7953"
             ],
             [
              0.7777777777777778,
              "#fb9f3a"
             ],
             [
              0.8888888888888888,
              "#fdca26"
             ],
             [
              1,
              "#f0f921"
             ]
            ],
            "type": "histogram2dcontour"
           }
          ],
          "mesh3d": [
           {
            "colorbar": {
             "outlinewidth": 0,
             "ticks": ""
            },
            "type": "mesh3d"
           }
          ],
          "parcoords": [
           {
            "line": {
             "colorbar": {
              "outlinewidth": 0,
              "ticks": ""
             }
            },
            "type": "parcoords"
           }
          ],
          "pie": [
           {
            "automargin": true,
            "type": "pie"
           }
          ],
          "scatter": [
           {
            "fillpattern": {
             "fillmode": "overlay",
             "size": 10,
             "solidity": 0.2
            },
            "type": "scatter"
           }
          ],
          "scatter3d": [
           {
            "line": {
             "colorbar": {
              "outlinewidth": 0,
              "ticks": ""
             }
            },
            "marker": {
             "colorbar": {
              "outlinewidth": 0,
              "ticks": ""
             }
            },
            "type": "scatter3d"
           }
          ],
          "scattercarpet": [
           {
            "marker": {
             "colorbar": {
              "outlinewidth": 0,
              "ticks": ""
             }
            },
            "type": "scattercarpet"
           }
          ],
          "scattergeo": [
           {
            "marker": {
             "colorbar": {
              "outlinewidth": 0,
              "ticks": ""
             }
            },
            "type": "scattergeo"
           }
          ],
          "scattergl": [
           {
            "marker": {
             "colorbar": {
              "outlinewidth": 0,
              "ticks": ""
             }
            },
            "type": "scattergl"
           }
          ],
          "scattermapbox": [
           {
            "marker": {
             "colorbar": {
              "outlinewidth": 0,
              "ticks": ""
             }
            },
            "type": "scattermapbox"
           }
          ],
          "scatterpolar": [
           {
            "marker": {
             "colorbar": {
              "outlinewidth": 0,
              "ticks": ""
             }
            },
            "type": "scatterpolar"
           }
          ],
          "scatterpolargl": [
           {
            "marker": {
             "colorbar": {
              "outlinewidth": 0,
              "ticks": ""
             }
            },
            "type": "scatterpolargl"
           }
          ],
          "scatterternary": [
           {
            "marker": {
             "colorbar": {
              "outlinewidth": 0,
              "ticks": ""
             }
            },
            "type": "scatterternary"
           }
          ],
          "surface": [
           {
            "colorbar": {
             "outlinewidth": 0,
             "ticks": ""
            },
            "colorscale": [
             [
              0,
              "#0d0887"
             ],
             [
              0.1111111111111111,
              "#46039f"
             ],
             [
              0.2222222222222222,
              "#7201a8"
             ],
             [
              0.3333333333333333,
              "#9c179e"
             ],
             [
              0.4444444444444444,
              "#bd3786"
             ],
             [
              0.5555555555555556,
              "#d8576b"
             ],
             [
              0.6666666666666666,
              "#ed7953"
             ],
             [
              0.7777777777777778,
              "#fb9f3a"
             ],
             [
              0.8888888888888888,
              "#fdca26"
             ],
             [
              1,
              "#f0f921"
             ]
            ],
            "type": "surface"
           }
          ],
          "table": [
           {
            "cells": {
             "fill": {
              "color": "#EBF0F8"
             },
             "line": {
              "color": "white"
             }
            },
            "header": {
             "fill": {
              "color": "#C8D4E3"
             },
             "line": {
              "color": "white"
             }
            },
            "type": "table"
           }
          ]
         },
         "layout": {
          "annotationdefaults": {
           "arrowcolor": "#2a3f5f",
           "arrowhead": 0,
           "arrowwidth": 1
          },
          "autotypenumbers": "strict",
          "coloraxis": {
           "colorbar": {
            "outlinewidth": 0,
            "ticks": ""
           }
          },
          "colorscale": {
           "diverging": [
            [
             0,
             "#8e0152"
            ],
            [
             0.1,
             "#c51b7d"
            ],
            [
             0.2,
             "#de77ae"
            ],
            [
             0.3,
             "#f1b6da"
            ],
            [
             0.4,
             "#fde0ef"
            ],
            [
             0.5,
             "#f7f7f7"
            ],
            [
             0.6,
             "#e6f5d0"
            ],
            [
             0.7,
             "#b8e186"
            ],
            [
             0.8,
             "#7fbc41"
            ],
            [
             0.9,
             "#4d9221"
            ],
            [
             1,
             "#276419"
            ]
           ],
           "sequential": [
            [
             0,
             "#0d0887"
            ],
            [
             0.1111111111111111,
             "#46039f"
            ],
            [
             0.2222222222222222,
             "#7201a8"
            ],
            [
             0.3333333333333333,
             "#9c179e"
            ],
            [
             0.4444444444444444,
             "#bd3786"
            ],
            [
             0.5555555555555556,
             "#d8576b"
            ],
            [
             0.6666666666666666,
             "#ed7953"
            ],
            [
             0.7777777777777778,
             "#fb9f3a"
            ],
            [
             0.8888888888888888,
             "#fdca26"
            ],
            [
             1,
             "#f0f921"
            ]
           ],
           "sequentialminus": [
            [
             0,
             "#0d0887"
            ],
            [
             0.1111111111111111,
             "#46039f"
            ],
            [
             0.2222222222222222,
             "#7201a8"
            ],
            [
             0.3333333333333333,
             "#9c179e"
            ],
            [
             0.4444444444444444,
             "#bd3786"
            ],
            [
             0.5555555555555556,
             "#d8576b"
            ],
            [
             0.6666666666666666,
             "#ed7953"
            ],
            [
             0.7777777777777778,
             "#fb9f3a"
            ],
            [
             0.8888888888888888,
             "#fdca26"
            ],
            [
             1,
             "#f0f921"
            ]
           ]
          },
          "colorway": [
           "#636efa",
           "#EF553B",
           "#00cc96",
           "#ab63fa",
           "#FFA15A",
           "#19d3f3",
           "#FF6692",
           "#B6E880",
           "#FF97FF",
           "#FECB52"
          ],
          "font": {
           "color": "#2a3f5f"
          },
          "geo": {
           "bgcolor": "white",
           "lakecolor": "white",
           "landcolor": "#E5ECF6",
           "showlakes": true,
           "showland": true,
           "subunitcolor": "white"
          },
          "hoverlabel": {
           "align": "left"
          },
          "hovermode": "closest",
          "mapbox": {
           "style": "light"
          },
          "paper_bgcolor": "white",
          "plot_bgcolor": "#E5ECF6",
          "polar": {
           "angularaxis": {
            "gridcolor": "white",
            "linecolor": "white",
            "ticks": ""
           },
           "bgcolor": "#E5ECF6",
           "radialaxis": {
            "gridcolor": "white",
            "linecolor": "white",
            "ticks": ""
           }
          },
          "scene": {
           "xaxis": {
            "backgroundcolor": "#E5ECF6",
            "gridcolor": "white",
            "gridwidth": 2,
            "linecolor": "white",
            "showbackground": true,
            "ticks": "",
            "zerolinecolor": "white"
           },
           "yaxis": {
            "backgroundcolor": "#E5ECF6",
            "gridcolor": "white",
            "gridwidth": 2,
            "linecolor": "white",
            "showbackground": true,
            "ticks": "",
            "zerolinecolor": "white"
           },
           "zaxis": {
            "backgroundcolor": "#E5ECF6",
            "gridcolor": "white",
            "gridwidth": 2,
            "linecolor": "white",
            "showbackground": true,
            "ticks": "",
            "zerolinecolor": "white"
           }
          },
          "shapedefaults": {
           "line": {
            "color": "#2a3f5f"
           }
          },
          "ternary": {
           "aaxis": {
            "gridcolor": "white",
            "linecolor": "white",
            "ticks": ""
           },
           "baxis": {
            "gridcolor": "white",
            "linecolor": "white",
            "ticks": ""
           },
           "bgcolor": "#E5ECF6",
           "caxis": {
            "gridcolor": "white",
            "linecolor": "white",
            "ticks": ""
           }
          },
          "title": {
           "x": 0.05
          },
          "xaxis": {
           "automargin": true,
           "gridcolor": "white",
           "linecolor": "white",
           "ticks": "",
           "title": {
            "standoff": 15
           },
           "zerolinecolor": "white",
           "zerolinewidth": 2
          },
          "yaxis": {
           "automargin": true,
           "gridcolor": "white",
           "linecolor": "white",
           "ticks": "",
           "title": {
            "standoff": 15
           },
           "zerolinecolor": "white",
           "zerolinewidth": 2
          }
         }
        },
        "xaxis": {
         "autorange": true,
         "range": [
          -0.3188984561374705,
          8.563795637982338
         ],
         "type": "linear"
        },
        "yaxis": {
         "autorange": true,
         "range": [
          -33.611111111111114,
          638.6111111111111
         ],
         "type": "linear"
        }
       }
      },
      "image/png": "[encoded data removed]",
      "text/html": [
       "<div>                            <div id=\"1dfb84d3-ed39-4acf-ada6-efb94948388b\" class=\"plotly-graph-div\" style=\"height:525px; width:100%;\"></div>            <script type=\"text/javascript\">                require([\"plotly\"], function(Plotly) {                    window.PLOTLYENV=window.PLOTLYENV || {};                                    if (document.getElementById(\"1dfb84d3-ed39-4acf-ada6-efb94948388b\")) {                    Plotly.newPlot(                        \"1dfb84d3-ed39-4acf-ada6-efb94948388b\",                        [{\"name\":\"Histogram\",\"width\":[0.2049852483258417,0.2049852483258417,0.20498524832584175,0.20498524832584164,0.20498524832584164,0.20498524832584186,0.20498524832584164,0.20498524832584164,0.20498524832584164,0.20498524832584186,0.20498524832584142,0.2049852483258423,0.20498524832584142,0.20498524832584142,0.20498524832584142,0.2049852483258423,0.20498524832584142,0.20498524832584142,0.2049852483258423,0.20498524832584142,0.2049852483258423,0.20498524832584142,0.20498524832584142,0.2049852483258423,0.20498524832584142,0.20498524832584142,0.20498524832584142,0.2049852483258423,0.20498524832584142,0.20498524832584142,0.2049852483258423,0.20498524832584142,0.20498524832584142,0.2049852483258423,0.20498524832584142,0.20498524832584142,0.2049852483258423,0.20498524832584142,0.20498524832584053,0.2049852483258423],\"x\":[0.12523624856852003,0.33022149689436175,0.5352067452202034,0.7401919935460451,0.9451772418718868,1.1501624901977285,1.3551477385235704,1.5601329868494118,1.7651182351752537,1.9701034835010953,2.175088731826937,2.380073980152779,2.5850592284786207,2.790044476804462,2.9950297251303035,3.2000149734561454,3.4050002217819872,3.6099854701078287,3.8149707184336705,4.019955966759513,4.224941215085354,4.429926463411196,4.634911711737038,4.839896960062879,5.044882208388721,5.249867456714563,5.454852705040404,5.659837953366246,5.864823201692088,6.069808450017929,6.274793698343771,6.479778946669613,6.684764194995454,6.889749443321296,7.0947346916471385,7.299719939972979,7.504705188298821,7.709690436624664,7.914675684950504,8.119660933276347],\"y\":[517,605,408,263,189,111,103,82,66,43,35,24,18,12,14,7,6,5,12,10,7,4,2,1,0,4,1,0,2,1,0,0,1,0,0,0,0,0,0,2],\"type\":\"bar\"},{\"mode\":\"text\",\"text\":[\"517\"],\"x\":[0.12523624856852003],\"y\":[517],\"type\":\"scatter\"},{\"mode\":\"text\",\"text\":[\"605\"],\"x\":[0.33022149689436175],\"y\":[605],\"type\":\"scatter\"},{\"mode\":\"text\",\"text\":[\"408\"],\"x\":[0.5352067452202034],\"y\":[408],\"type\":\"scatter\"},{\"mode\":\"text\",\"text\":[\"263\"],\"x\":[0.7401919935460451],\"y\":[263],\"type\":\"scatter\"},{\"mode\":\"text\",\"text\":[\"189\"],\"x\":[0.9451772418718868],\"y\":[189],\"type\":\"scatter\"},{\"mode\":\"text\",\"text\":[\"111\"],\"x\":[1.1501624901977285],\"y\":[111],\"type\":\"scatter\"},{\"mode\":\"text\",\"text\":[\"103\"],\"x\":[1.3551477385235704],\"y\":[103],\"type\":\"scatter\"},{\"mode\":\"text\",\"text\":[\"82\"],\"x\":[1.5601329868494118],\"y\":[82],\"type\":\"scatter\"},{\"mode\":\"text\",\"text\":[\"66\"],\"x\":[1.7651182351752537],\"y\":[66],\"type\":\"scatter\"},{\"mode\":\"text\",\"text\":[\"43\"],\"x\":[1.9701034835010953],\"y\":[43],\"type\":\"scatter\"},{\"mode\":\"text\",\"text\":[\"35\"],\"x\":[2.175088731826937],\"y\":[35],\"type\":\"scatter\"},{\"mode\":\"text\",\"text\":[\"24\"],\"x\":[2.380073980152779],\"y\":[24],\"type\":\"scatter\"},{\"mode\":\"text\",\"text\":[\"18\"],\"x\":[2.5850592284786207],\"y\":[18],\"type\":\"scatter\"},{\"mode\":\"text\",\"text\":[\"12\"],\"x\":[2.790044476804462],\"y\":[12],\"type\":\"scatter\"},{\"mode\":\"text\",\"text\":[\"14\"],\"x\":[2.9950297251303035],\"y\":[14],\"type\":\"scatter\"},{\"mode\":\"text\",\"text\":[\"7\"],\"x\":[3.2000149734561454],\"y\":[7],\"type\":\"scatter\"},{\"mode\":\"text\",\"text\":[\"6\"],\"x\":[3.4050002217819872],\"y\":[6],\"type\":\"scatter\"},{\"mode\":\"text\",\"text\":[\"5\"],\"x\":[3.6099854701078287],\"y\":[5],\"type\":\"scatter\"},{\"mode\":\"text\",\"text\":[\"12\"],\"x\":[3.8149707184336705],\"y\":[12],\"type\":\"scatter\"},{\"mode\":\"text\",\"text\":[\"10\"],\"x\":[4.019955966759513],\"y\":[10],\"type\":\"scatter\"},{\"mode\":\"text\",\"text\":[\"7\"],\"x\":[4.224941215085354],\"y\":[7],\"type\":\"scatter\"},{\"mode\":\"text\",\"text\":[\"4\"],\"x\":[4.429926463411196],\"y\":[4],\"type\":\"scatter\"},{\"mode\":\"text\",\"text\":[\"2\"],\"x\":[4.634911711737038],\"y\":[2],\"type\":\"scatter\"},{\"mode\":\"text\",\"text\":[\"1\"],\"x\":[4.839896960062879],\"y\":[1],\"type\":\"scatter\"},{\"mode\":\"text\",\"text\":[\"0\"],\"x\":[5.044882208388721],\"y\":[0],\"type\":\"scatter\"},{\"mode\":\"text\",\"text\":[\"4\"],\"x\":[5.249867456714563],\"y\":[4],\"type\":\"scatter\"},{\"mode\":\"text\",\"text\":[\"1\"],\"x\":[5.454852705040404],\"y\":[1],\"type\":\"scatter\"},{\"mode\":\"text\",\"text\":[\"0\"],\"x\":[5.659837953366246],\"y\":[0],\"type\":\"scatter\"},{\"mode\":\"text\",\"text\":[\"2\"],\"x\":[5.864823201692088],\"y\":[2],\"type\":\"scatter\"},{\"mode\":\"text\",\"text\":[\"1\"],\"x\":[6.069808450017929],\"y\":[1],\"type\":\"scatter\"},{\"mode\":\"text\",\"text\":[\"0\"],\"x\":[6.274793698343771],\"y\":[0],\"type\":\"scatter\"},{\"mode\":\"text\",\"text\":[\"0\"],\"x\":[6.479778946669613],\"y\":[0],\"type\":\"scatter\"},{\"mode\":\"text\",\"text\":[\"1\"],\"x\":[6.684764194995454],\"y\":[1],\"type\":\"scatter\"},{\"mode\":\"text\",\"text\":[\"0\"],\"x\":[6.889749443321296],\"y\":[0],\"type\":\"scatter\"},{\"mode\":\"text\",\"text\":[\"0\"],\"x\":[7.0947346916471385],\"y\":[0],\"type\":\"scatter\"},{\"mode\":\"text\",\"text\":[\"0\"],\"x\":[7.299719939972979],\"y\":[0],\"type\":\"scatter\"},{\"mode\":\"text\",\"text\":[\"0\"],\"x\":[7.504705188298821],\"y\":[0],\"type\":\"scatter\"},{\"mode\":\"text\",\"text\":[\"0\"],\"x\":[7.709690436624664],\"y\":[0],\"type\":\"scatter\"},{\"mode\":\"text\",\"text\":[\"0\"],\"x\":[7.914675684950504],\"y\":[0],\"type\":\"scatter\"},{\"mode\":\"text\",\"text\":[\"2\"],\"x\":[8.119660933276347],\"y\":[2],\"type\":\"scatter\"}],                        {\"template\":{\"data\":{\"histogram2dcontour\":[{\"type\":\"histogram2dcontour\",\"colorbar\":{\"outlinewidth\":0,\"ticks\":\"\"},\"colorscale\":[[0.0,\"#0d0887\"],[0.1111111111111111,\"#46039f\"],[0.2222222222222222,\"#7201a8\"],[0.3333333333333333,\"#9c179e\"],[0.4444444444444444,\"#bd3786\"],[0.5555555555555556,\"#d8576b\"],[0.6666666666666666,\"#ed7953\"],[0.7777777777777778,\"#fb9f3a\"],[0.8888888888888888,\"#fdca26\"],[1.0,\"#f0f921\"]]}],\"choropleth\":[{\"type\":\"choropleth\",\"colorbar\":{\"outlinewidth\":0,\"ticks\":\"\"}}],\"histogram2d\":[{\"type\":\"histogram2d\",\"colorbar\":{\"outlinewidth\":0,\"ticks\":\"\"},\"colorscale\":[[0.0,\"#0d0887\"],[0.1111111111111111,\"#46039f\"],[0.2222222222222222,\"#7201a8\"],[0.3333333333333333,\"#9c179e\"],[0.4444444444444444,\"#bd3786\"],[0.5555555555555556,\"#d8576b\"],[0.6666666666666666,\"#ed7953\"],[0.7777777777777778,\"#fb9f3a\"],[0.8888888888888888,\"#fdca26\"],[1.0,\"#f0f921\"]]}],\"heatmap\":[{\"type\":\"heatmap\",\"colorbar\":{\"outlinewidth\":0,\"ticks\":\"\"},\"colorscale\":[[0.0,\"#0d0887\"],[0.1111111111111111,\"#46039f\"],[0.2222222222222222,\"#7201a8\"],[0.3333333333333333,\"#9c179e\"],[0.4444444444444444,\"#bd3786\"],[0.5555555555555556,\"#d8576b\"],[0.6666666666666666,\"#ed7953\"],[0.7777777777777778,\"#fb9f3a\"],[0.8888888888888888,\"#fdca26\"],[1.0,\"#f0f921\"]]}],\"heatmapgl\":[{\"type\":\"heatmapgl\",\"colorbar\":{\"outlinewidth\":0,\"ticks\":\"\"},\"colorscale\":[[0.0,\"#0d0887\"],[0.1111111111111111,\"#46039f\"],[0.2222222222222222,\"#7201a8\"],[0.3333333333333333,\"#9c179e\"],[0.4444444444444444,\"#bd3786\"],[0.5555555555555556,\"#d8576b\"],[0.6666666666666666,\"#ed7953\"],[0.7777777777777778,\"#fb9f3a\"],[0.8888888888888888,\"#fdca26\"],[1.0,\"#f0f921\"]]}],\"contourcarpet\":[{\"type\":\"contourcarpet\",\"colorbar\":{\"outlinewidth\":0,\"ticks\":\"\"}}],\"contour\":[{\"type\":\"contour\",\"colorbar\":{\"outlinewidth\":0,\"ticks\":\"\"},\"colorscale\":[[0.0,\"#0d0887\"],[0.1111111111111111,\"#46039f\"],[0.2222222222222222,\"#7201a8\"],[0.3333333333333333,\"#9c179e\"],[0.4444444444444444,\"#bd3786\"],[0.5555555555555556,\"#d8576b\"],[0.6666666666666666,\"#ed7953\"],[0.7777777777777778,\"#fb9f3a\"],[0.8888888888888888,\"#fdca26\"],[1.0,\"#f0f921\"]]}],\"surface\":[{\"type\":\"surface\",\"colorbar\":{\"outlinewidth\":0,\"ticks\":\"\"},\"colorscale\":[[0.0,\"#0d0887\"],[0.1111111111111111,\"#46039f\"],[0.2222222222222222,\"#7201a8\"],[0.3333333333333333,\"#9c179e\"],[0.4444444444444444,\"#bd3786\"],[0.5555555555555556,\"#d8576b\"],[0.6666666666666666,\"#ed7953\"],[0.7777777777777778,\"#fb9f3a\"],[0.8888888888888888,\"#fdca26\"],[1.0,\"#f0f921\"]]}],\"mesh3d\":[{\"type\":\"mesh3d\",\"colorbar\":{\"outlinewidth\":0,\"ticks\":\"\"}}],\"scatter\":[{\"fillpattern\":{\"fillmode\":\"overlay\",\"size\":10,\"solidity\":0.2},\"type\":\"scatter\"}],\"parcoords\":[{\"type\":\"parcoords\",\"line\":{\"colorbar\":{\"outlinewidth\":0,\"ticks\":\"\"}}}],\"scatterpolargl\":[{\"type\":\"scatterpolargl\",\"marker\":{\"colorbar\":{\"outlinewidth\":0,\"ticks\":\"\"}}}],\"bar\":[{\"error_x\":{\"color\":\"#2a3f5f\"},\"error_y\":{\"color\":\"#2a3f5f\"},\"marker\":{\"line\":{\"color\":\"#E5ECF6\",\"width\":0.5},\"pattern\":{\"fillmode\":\"overlay\",\"size\":10,\"solidity\":0.2}},\"type\":\"bar\"}],\"scattergeo\":[{\"type\":\"scattergeo\",\"marker\":{\"colorbar\":{\"outlinewidth\":0,\"ticks\":\"\"}}}],\"scatterpolar\":[{\"type\":\"scatterpolar\",\"marker\":{\"colorbar\":{\"outlinewidth\":0,\"ticks\":\"\"}}}],\"histogram\":[{\"marker\":{\"pattern\":{\"fillmode\":\"overlay\",\"size\":10,\"solidity\":0.2}},\"type\":\"histogram\"}],\"scattergl\":[{\"type\":\"scattergl\",\"marker\":{\"colorbar\":{\"outlinewidth\":0,\"ticks\":\"\"}}}],\"scatter3d\":[{\"type\":\"scatter3d\",\"line\":{\"colorbar\":{\"outlinewidth\":0,\"ticks\":\"\"}},\"marker\":{\"colorbar\":{\"outlinewidth\":0,\"ticks\":\"\"}}}],\"scattermapbox\":[{\"type\":\"scattermapbox\",\"marker\":{\"colorbar\":{\"outlinewidth\":0,\"ticks\":\"\"}}}],\"scatterternary\":[{\"type\":\"scatterternary\",\"marker\":{\"colorbar\":{\"outlinewidth\":0,\"ticks\":\"\"}}}],\"scattercarpet\":[{\"type\":\"scattercarpet\",\"marker\":{\"colorbar\":{\"outlinewidth\":0,\"ticks\":\"\"}}}],\"carpet\":[{\"aaxis\":{\"endlinecolor\":\"#2a3f5f\",\"gridcolor\":\"white\",\"linecolor\":\"white\",\"minorgridcolor\":\"white\",\"startlinecolor\":\"#2a3f5f\"},\"baxis\":{\"endlinecolor\":\"#2a3f5f\",\"gridcolor\":\"white\",\"linecolor\":\"white\",\"minorgridcolor\":\"white\",\"startlinecolor\":\"#2a3f5f\"},\"type\":\"carpet\"}],\"table\":[{\"cells\":{\"fill\":{\"color\":\"#EBF0F8\"},\"line\":{\"color\":\"white\"}},\"header\":{\"fill\":{\"color\":\"#C8D4E3\"},\"line\":{\"color\":\"white\"}},\"type\":\"table\"}],\"barpolar\":[{\"marker\":{\"line\":{\"color\":\"#E5ECF6\",\"width\":0.5},\"pattern\":{\"fillmode\":\"overlay\",\"size\":10,\"solidity\":0.2}},\"type\":\"barpolar\"}],\"pie\":[{\"automargin\":true,\"type\":\"pie\"}]},\"layout\":{\"autotypenumbers\":\"strict\",\"colorway\":[\"#636efa\",\"#EF553B\",\"#00cc96\",\"#ab63fa\",\"#FFA15A\",\"#19d3f3\",\"#FF6692\",\"#B6E880\",\"#FF97FF\",\"#FECB52\"],\"font\":{\"color\":\"#2a3f5f\"},\"hovermode\":\"closest\",\"hoverlabel\":{\"align\":\"left\"},\"paper_bgcolor\":\"white\",\"plot_bgcolor\":\"#E5ECF6\",\"polar\":{\"bgcolor\":\"#E5ECF6\",\"angularaxis\":{\"gridcolor\":\"white\",\"linecolor\":\"white\",\"ticks\":\"\"},\"radialaxis\":{\"gridcolor\":\"white\",\"linecolor\":\"white\",\"ticks\":\"\"}},\"ternary\":{\"bgcolor\":\"#E5ECF6\",\"aaxis\":{\"gridcolor\":\"white\",\"linecolor\":\"white\",\"ticks\":\"\"},\"baxis\":{\"gridcolor\":\"white\",\"linecolor\":\"white\",\"ticks\":\"\"},\"caxis\":{\"gridcolor\":\"white\",\"linecolor\":\"white\",\"ticks\":\"\"}},\"coloraxis\":{\"colorbar\":{\"outlinewidth\":0,\"ticks\":\"\"}},\"colorscale\":{\"sequential\":[[0.0,\"#0d0887\"],[0.1111111111111111,\"#46039f\"],[0.2222222222222222,\"#7201a8\"],[0.3333333333333333,\"#9c179e\"],[0.4444444444444444,\"#bd3786\"],[0.5555555555555556,\"#d8576b\"],[0.6666666666666666,\"#ed7953\"],[0.7777777777777778,\"#fb9f3a\"],[0.8888888888888888,\"#fdca26\"],[1.0,\"#f0f921\"]],\"sequentialminus\":[[0.0,\"#0d0887\"],[0.1111111111111111,\"#46039f\"],[0.2222222222222222,\"#7201a8\"],[0.3333333333333333,\"#9c179e\"],[0.4444444444444444,\"#bd3786\"],[0.5555555555555556,\"#d8576b\"],[0.6666666666666666,\"#ed7953\"],[0.7777777777777778,\"#fb9f3a\"],[0.8888888888888888,\"#fdca26\"],[1.0,\"#f0f921\"]],\"diverging\":[[0,\"#8e0152\"],[0.1,\"#c51b7d\"],[0.2,\"#de77ae\"],[0.3,\"#f1b6da\"],[0.4,\"#fde0ef\"],[0.5,\"#f7f7f7\"],[0.6,\"#e6f5d0\"],[0.7,\"#b8e186\"],[0.8,\"#7fbc41\"],[0.9,\"#4d9221\"],[1,\"#276419\"]]},\"xaxis\":{\"gridcolor\":\"white\",\"linecolor\":\"white\",\"ticks\":\"\",\"title\":{\"standoff\":15},\"zerolinecolor\":\"white\",\"automargin\":true,\"zerolinewidth\":2},\"yaxis\":{\"gridcolor\":\"white\",\"linecolor\":\"white\",\"ticks\":\"\",\"title\":{\"standoff\":15},\"zerolinecolor\":\"white\",\"automargin\":true,\"zerolinewidth\":2},\"scene\":{\"xaxis\":{\"backgroundcolor\":\"#E5ECF6\",\"gridcolor\":\"white\",\"linecolor\":\"white\",\"showbackground\":true,\"ticks\":\"\",\"zerolinecolor\":\"white\",\"gridwidth\":2},\"yaxis\":{\"backgroundcolor\":\"#E5ECF6\",\"gridcolor\":\"white\",\"linecolor\":\"white\",\"showbackground\":true,\"ticks\":\"\",\"zerolinecolor\":\"white\",\"gridwidth\":2},\"zaxis\":{\"backgroundcolor\":\"#E5ECF6\",\"gridcolor\":\"white\",\"linecolor\":\"white\",\"showbackground\":true,\"ticks\":\"\",\"zerolinecolor\":\"white\",\"gridwidth\":2}},\"shapedefaults\":{\"line\":{\"color\":\"#2a3f5f\"}},\"annotationdefaults\":{\"arrowcolor\":\"#2a3f5f\",\"arrowhead\":0,\"arrowwidth\":1},\"geo\":{\"bgcolor\":\"white\",\"landcolor\":\"#E5ECF6\",\"subunitcolor\":\"white\",\"showland\":true,\"showlakes\":true,\"lakecolor\":\"white\"},\"title\":{\"x\":0.05},\"mapbox\":{\"style\":\"light\"}}}},                        {\"responsive\": true}                    ).then(function(){\n",
       "                            \n",
       "var gd = document.getElementById('1dfb84d3-ed39-4acf-ada6-efb94948388b');\n",
       "var x = new MutationObserver(function (mutations, observer) {{\n",
       "        var display = window.getComputedStyle(gd).display;\n",
       "        if (!display || display === 'none') {{\n",
       "            console.log([gd, 'removed!']);\n",
       "            Plotly.purge(gd);\n",
       "            observer.disconnect();\n",
       "        }}\n",
       "}});\n",
       "\n",
       "// Listen for the removal of the full notebook cells\n",
       "var notebookContainer = gd.closest('#notebook-container');\n",
       "if (notebookContainer) {{\n",
       "    x.observe(notebookContainer, {childList: true});\n",
       "}}\n",
       "\n",
       "// Listen for the clearing of the current output cell\n",
       "var outputEl = gd.closest('.output');\n",
       "if (outputEl) {{\n",
       "    x.observe(outputEl, {childList: true});\n",
       "}}\n",
       "\n",
       "                        })                };                });            </script>        </div>"
      ]
     },
     "metadata": {},
     "output_type": "display_data"
    }
   ],
   "source": [
    "# Plot the figure\n",
    "counts, bins = np.histogram(df_interest['LogOddRatio'], bins=40)\n",
    "bin_midpoints = bins[:-1] + np.diff(bins)/2\n",
    "\n",
    "fig = go.Figure()\n",
    "\n",
    "fig.add_trace(go.Bar(\n",
    "    x=bin_midpoints,\n",
    "    y=counts,\n",
    "    width=np.diff(bins), # makes bars have correct widths\n",
    "    name='Histogram'\n",
    "))\n",
    "# add text labels for counts\n",
    "for i in range(len(counts)):\n",
    "    fig.add_trace(go.Scatter(\n",
    "        x=[bin_midpoints[i]],\n",
    "        y=[counts[i]],\n",
    "        text=[str(counts[i])],\n",
    "        mode='text',\n",
    "    ))\n",
    "\n",
    "fig.show()"
   ]
  },
  {
   "cell_type": "code",
   "execution_count": 36,
   "id": "02542935-31fe-4e73-b1e4-8abcbfdacc86",
   "metadata": {},
   "outputs": [
    {
     "data": {
      "application/vnd.plotly.v1+json": {
       "config": {
        "plotlyServerURL": "https://plot.ly"
       },
       "data": [
        {
         "name": "Histogram",
         "type": "bar",
         "width": [
          0.02054076477415223,
          0.02054076477415212,
          0.02054076477415212,
          0.02054076477415223,
          0.02054076477415223,
          0.02054076477415212,
          0.02054076477415212,
          0.02054076477415223,
          0.02054076477415223,
          0.02054076477415212,
          0.02054076477415212,
          0.02054076477415223,
          0.02054076477415223,
          0.02054076477415212,
          0.02054076477415212,
          0.02054076477415223,
          0.020540764774152176,
          0.020540764774152176,
          0.020540764774152176,
          0.020540764774152176,
          0.020540764774152176,
          0.020540764774152176,
          0.020540764774152176,
          0.020540764774152176,
          0.02054076477415223,
          0.02054076477415212,
          0.02054076477415212,
          0.02054076477415223,
          0.02054076477415223,
          0.02054076477415212,
          0.02054076477415212,
          0.02054076477415223,
          0.02054076477415223,
          0.02054076477415212,
          0.02054076477415212,
          0.02054076477415223,
          0.02054076477415223,
          0.02054076477415212,
          0.02054076477415212,
          0.02054076477415223
         ],
         "x": [
          -0.8133376297826181,
          -0.792796865008466,
          -0.7722561002343138,
          -0.7517153354601617,
          -0.7311745706860094,
          -0.7106338059118573,
          -0.6900930411377051,
          -0.669552276363553,
          -0.6490115115894007,
          -0.6284707468152486,
          -0.6079299820410964,
          -0.5873892172669443,
          -0.566848452492792,
          -0.5463076877186399,
          -0.5257669229444877,
          -0.5052261581703356,
          -0.48468539339618333,
          -0.4641446286220312,
          -0.443603863847879,
          -0.42306309907372686,
          -0.4025223342995746,
          -0.3819815695254225,
          -0.3614408047512703,
          -0.34090003997711815,
          -0.3203592752029659,
          -0.29981851042881374,
          -0.2792777456546616,
          -0.25873698088050945,
          -0.23819621610635722,
          -0.21765545133220504,
          -0.19711468655805292,
          -0.17657392178390074,
          -0.1560331570097485,
          -0.13549239223559634,
          -0.11495162746144422,
          -0.09441086268729204,
          -0.07387009791313981,
          -0.053329333138987634,
          -0.03278856836483551,
          -0.012247803590683337
         ],
         "y": [
          2,
          0,
          0,
          0,
          1,
          2,
          0,
          0,
          3,
          1,
          1,
          0,
          1,
          2,
          1,
          4,
          4,
          7,
          14,
          7,
          4,
          2,
          6,
          10,
          9,
          17,
          21,
          22,
          26,
          32,
          41,
          73,
          80,
          65,
          111,
          185,
          231,
          379,
          599,
          592
         ]
        },
        {
         "mode": "text",
         "text": [
          "2"
         ],
         "type": "scatter",
         "x": [
          -0.8133376297826181
         ],
         "y": [
          2
         ]
        },
        {
         "mode": "text",
         "text": [
          "0"
         ],
         "type": "scatter",
         "x": [
          -0.792796865008466
         ],
         "y": [
          0
         ]
        },
        {
         "mode": "text",
         "text": [
          "0"
         ],
         "type": "scatter",
         "x": [
          -0.7722561002343138
         ],
         "y": [
          0
         ]
        },
        {
         "mode": "text",
         "text": [
          "0"
         ],
         "type": "scatter",
         "x": [
          -0.7517153354601617
         ],
         "y": [
          0
         ]
        },
        {
         "mode": "text",
         "text": [
          "1"
         ],
         "type": "scatter",
         "x": [
          -0.7311745706860094
         ],
         "y": [
          1
         ]
        },
        {
         "mode": "text",
         "text": [
          "2"
         ],
         "type": "scatter",
         "x": [
          -0.7106338059118573
         ],
         "y": [
          2
         ]
        },
        {
         "mode": "text",
         "text": [
          "0"
         ],
         "type": "scatter",
         "x": [
          -0.6900930411377051
         ],
         "y": [
          0
         ]
        },
        {
         "mode": "text",
         "text": [
          "0"
         ],
         "type": "scatter",
         "x": [
          -0.669552276363553
         ],
         "y": [
          0
         ]
        },
        {
         "mode": "text",
         "text": [
          "3"
         ],
         "type": "scatter",
         "x": [
          -0.6490115115894007
         ],
         "y": [
          3
         ]
        },
        {
         "mode": "text",
         "text": [
          "1"
         ],
         "type": "scatter",
         "x": [
          -0.6284707468152486
         ],
         "y": [
          1
         ]
        },
        {
         "mode": "text",
         "text": [
          "1"
         ],
         "type": "scatter",
         "x": [
          -0.6079299820410964
         ],
         "y": [
          1
         ]
        },
        {
         "mode": "text",
         "text": [
          "0"
         ],
         "type": "scatter",
         "x": [
          -0.5873892172669443
         ],
         "y": [
          0
         ]
        },
        {
         "mode": "text",
         "text": [
          "1"
         ],
         "type": "scatter",
         "x": [
          -0.566848452492792
         ],
         "y": [
          1
         ]
        },
        {
         "mode": "text",
         "text": [
          "2"
         ],
         "type": "scatter",
         "x": [
          -0.5463076877186399
         ],
         "y": [
          2
         ]
        },
        {
         "mode": "text",
         "text": [
          "1"
         ],
         "type": "scatter",
         "x": [
          -0.5257669229444877
         ],
         "y": [
          1
         ]
        },
        {
         "mode": "text",
         "text": [
          "4"
         ],
         "type": "scatter",
         "x": [
          -0.5052261581703356
         ],
         "y": [
          4
         ]
        },
        {
         "mode": "text",
         "text": [
          "4"
         ],
         "type": "scatter",
         "x": [
          -0.48468539339618333
         ],
         "y": [
          4
         ]
        },
        {
         "mode": "text",
         "text": [
          "7"
         ],
         "type": "scatter",
         "x": [
          -0.4641446286220312
         ],
         "y": [
          7
         ]
        },
        {
         "mode": "text",
         "text": [
          "14"
         ],
         "type": "scatter",
         "x": [
          -0.443603863847879
         ],
         "y": [
          14
         ]
        },
        {
         "mode": "text",
         "text": [
          "7"
         ],
         "type": "scatter",
         "x": [
          -0.42306309907372686
         ],
         "y": [
          7
         ]
        },
        {
         "mode": "text",
         "text": [
          "4"
         ],
         "type": "scatter",
         "x": [
          -0.4025223342995746
         ],
         "y": [
          4
         ]
        },
        {
         "mode": "text",
         "text": [
          "2"
         ],
         "type": "scatter",
         "x": [
          -0.3819815695254225
         ],
         "y": [
          2
         ]
        },
        {
         "mode": "text",
         "text": [
          "6"
         ],
         "type": "scatter",
         "x": [
          -0.3614408047512703
         ],
         "y": [
          6
         ]
        },
        {
         "mode": "text",
         "text": [
          "10"
         ],
         "type": "scatter",
         "x": [
          -0.34090003997711815
         ],
         "y": [
          10
         ]
        },
        {
         "mode": "text",
         "text": [
          "9"
         ],
         "type": "scatter",
         "x": [
          -0.3203592752029659
         ],
         "y": [
          9
         ]
        },
        {
         "mode": "text",
         "text": [
          "17"
         ],
         "type": "scatter",
         "x": [
          -0.29981851042881374
         ],
         "y": [
          17
         ]
        },
        {
         "mode": "text",
         "text": [
          "21"
         ],
         "type": "scatter",
         "x": [
          -0.2792777456546616
         ],
         "y": [
          21
         ]
        },
        {
         "mode": "text",
         "text": [
          "22"
         ],
         "type": "scatter",
         "x": [
          -0.25873698088050945
         ],
         "y": [
          22
         ]
        },
        {
         "mode": "text",
         "text": [
          "26"
         ],
         "type": "scatter",
         "x": [
          -0.23819621610635722
         ],
         "y": [
          26
         ]
        },
        {
         "mode": "text",
         "text": [
          "32"
         ],
         "type": "scatter",
         "x": [
          -0.21765545133220504
         ],
         "y": [
          32
         ]
        },
        {
         "mode": "text",
         "text": [
          "41"
         ],
         "type": "scatter",
         "x": [
          -0.19711468655805292
         ],
         "y": [
          41
         ]
        },
        {
         "mode": "text",
         "text": [
          "73"
         ],
         "type": "scatter",
         "x": [
          -0.17657392178390074
         ],
         "y": [
          73
         ]
        },
        {
         "mode": "text",
         "text": [
          "80"
         ],
         "type": "scatter",
         "x": [
          -0.1560331570097485
         ],
         "y": [
          80
         ]
        },
        {
         "mode": "text",
         "text": [
          "65"
         ],
         "type": "scatter",
         "x": [
          -0.13549239223559634
         ],
         "y": [
          65
         ]
        },
        {
         "mode": "text",
         "text": [
          "111"
         ],
         "type": "scatter",
         "x": [
          -0.11495162746144422
         ],
         "y": [
          111
         ]
        },
        {
         "mode": "text",
         "text": [
          "185"
         ],
         "type": "scatter",
         "x": [
          -0.09441086268729204
         ],
         "y": [
          185
         ]
        },
        {
         "mode": "text",
         "text": [
          "231"
         ],
         "type": "scatter",
         "x": [
          -0.07387009791313981
         ],
         "y": [
          231
         ]
        },
        {
         "mode": "text",
         "text": [
          "379"
         ],
         "type": "scatter",
         "x": [
          -0.053329333138987634
         ],
         "y": [
          379
         ]
        },
        {
         "mode": "text",
         "text": [
          "599"
         ],
         "type": "scatter",
         "x": [
          -0.03278856836483551
         ],
         "y": [
          599
         ]
        },
        {
         "mode": "text",
         "text": [
          "592"
         ],
         "type": "scatter",
         "x": [
          -0.012247803590683337
         ],
         "y": [
          592
         ]
        }
       ],
       "layout": {
        "autosize": true,
        "template": {
         "data": {
          "bar": [
           {
            "error_x": {
             "color": "#2a3f5f"
            },
            "error_y": {
             "color": "#2a3f5f"
            },
            "marker": {
             "line": {
              "color": "#E5ECF6",
              "width": 0.5
             },
             "pattern": {
              "fillmode": "overlay",
              "size": 10,
              "solidity": 0.2
             }
            },
            "type": "bar"
           }
          ],
          "barpolar": [
           {
            "marker": {
             "line": {
              "color": "#E5ECF6",
              "width": 0.5
             },
             "pattern": {
              "fillmode": "overlay",
              "size": 10,
              "solidity": 0.2
             }
            },
            "type": "barpolar"
           }
          ],
          "carpet": [
           {
            "aaxis": {
             "endlinecolor": "#2a3f5f",
             "gridcolor": "white",
             "linecolor": "white",
             "minorgridcolor": "white",
             "startlinecolor": "#2a3f5f"
            },
            "baxis": {
             "endlinecolor": "#2a3f5f",
             "gridcolor": "white",
             "linecolor": "white",
             "minorgridcolor": "white",
             "startlinecolor": "#2a3f5f"
            },
            "type": "carpet"
           }
          ],
          "choropleth": [
           {
            "colorbar": {
             "outlinewidth": 0,
             "ticks": ""
            },
            "type": "choropleth"
           }
          ],
          "contour": [
           {
            "colorbar": {
             "outlinewidth": 0,
             "ticks": ""
            },
            "colorscale": [
             [
              0,
              "#0d0887"
             ],
             [
              0.1111111111111111,
              "#46039f"
             ],
             [
              0.2222222222222222,
              "#7201a8"
             ],
             [
              0.3333333333333333,
              "#9c179e"
             ],
             [
              0.4444444444444444,
              "#bd3786"
             ],
             [
              0.5555555555555556,
              "#d8576b"
             ],
             [
              0.6666666666666666,
              "#ed7953"
             ],
             [
              0.7777777777777778,
              "#fb9f3a"
             ],
             [
              0.8888888888888888,
              "#fdca26"
             ],
             [
              1,
              "#f0f921"
             ]
            ],
            "type": "contour"
           }
          ],
          "contourcarpet": [
           {
            "colorbar": {
             "outlinewidth": 0,
             "ticks": ""
            },
            "type": "contourcarpet"
           }
          ],
          "heatmap": [
           {
            "colorbar": {
             "outlinewidth": 0,
             "ticks": ""
            },
            "colorscale": [
             [
              0,
              "#0d0887"
             ],
             [
              0.1111111111111111,
              "#46039f"
             ],
             [
              0.2222222222222222,
              "#7201a8"
             ],
             [
              0.3333333333333333,
              "#9c179e"
             ],
             [
              0.4444444444444444,
              "#bd3786"
             ],
             [
              0.5555555555555556,
              "#d8576b"
             ],
             [
              0.6666666666666666,
              "#ed7953"
             ],
             [
              0.7777777777777778,
              "#fb9f3a"
             ],
             [
              0.8888888888888888,
              "#fdca26"
             ],
             [
              1,
              "#f0f921"
             ]
            ],
            "type": "heatmap"
           }
          ],
          "heatmapgl": [
           {
            "colorbar": {
             "outlinewidth": 0,
             "ticks": ""
            },
            "colorscale": [
             [
              0,
              "#0d0887"
             ],
             [
              0.1111111111111111,
              "#46039f"
             ],
             [
              0.2222222222222222,
              "#7201a8"
             ],
             [
              0.3333333333333333,
              "#9c179e"
             ],
             [
              0.4444444444444444,
              "#bd3786"
             ],
             [
              0.5555555555555556,
              "#d8576b"
             ],
             [
              0.6666666666666666,
              "#ed7953"
             ],
             [
              0.7777777777777778,
              "#fb9f3a"
             ],
             [
              0.8888888888888888,
              "#fdca26"
             ],
             [
              1,
              "#f0f921"
             ]
            ],
            "type": "heatmapgl"
           }
          ],
          "histogram": [
           {
            "marker": {
             "pattern": {
              "fillmode": "overlay",
              "size": 10,
              "solidity": 0.2
             }
            },
            "type": "histogram"
           }
          ],
          "histogram2d": [
           {
            "colorbar": {
             "outlinewidth": 0,
             "ticks": ""
            },
            "colorscale": [
             [
              0,
              "#0d0887"
             ],
             [
              0.1111111111111111,
              "#46039f"
             ],
             [
              0.2222222222222222,
              "#7201a8"
             ],
             [
              0.3333333333333333,
              "#9c179e"
             ],
             [
              0.4444444444444444,
              "#bd3786"
             ],
             [
              0.5555555555555556,
              "#d8576b"
             ],
             [
              0.6666666666666666,
              "#ed7953"
             ],
             [
              0.7777777777777778,
              "#fb9f3a"
             ],
             [
              0.8888888888888888,
              "#fdca26"
             ],
             [
              1,
              "#f0f921"
             ]
            ],
            "type": "histogram2d"
           }
          ],
          "histogram2dcontour": [
           {
            "colorbar": {
             "outlinewidth": 0,
             "ticks": ""
            },
            "colorscale": [
             [
              0,
              "#0d0887"
             ],
             [
              0.1111111111111111,
              "#46039f"
             ],
             [
              0.2222222222222222,
              "#7201a8"
             ],
             [
              0.3333333333333333,
              "#9c179e"
             ],
             [
              0.4444444444444444,
              "#bd3786"
             ],
             [
              0.5555555555555556,
              "#d8576b"
             ],
             [
              0.6666666666666666,
              "#ed7953"
             ],
             [
              0.7777777777777778,
              "#fb9f3a"
             ],
             [
              0.8888888888888888,
              "#fdca26"
             ],
             [
              1,
              "#f0f921"
             ]
            ],
            "type": "histogram2dcontour"
           }
          ],
          "mesh3d": [
           {
            "colorbar": {
             "outlinewidth": 0,
             "ticks": ""
            },
            "type": "mesh3d"
           }
          ],
          "parcoords": [
           {
            "line": {
             "colorbar": {
              "outlinewidth": 0,
              "ticks": ""
             }
            },
            "type": "parcoords"
           }
          ],
          "pie": [
           {
            "automargin": true,
            "type": "pie"
           }
          ],
          "scatter": [
           {
            "fillpattern": {
             "fillmode": "overlay",
             "size": 10,
             "solidity": 0.2
            },
            "type": "scatter"
           }
          ],
          "scatter3d": [
           {
            "line": {
             "colorbar": {
              "outlinewidth": 0,
              "ticks": ""
             }
            },
            "marker": {
             "colorbar": {
              "outlinewidth": 0,
              "ticks": ""
             }
            },
            "type": "scatter3d"
           }
          ],
          "scattercarpet": [
           {
            "marker": {
             "colorbar": {
              "outlinewidth": 0,
              "ticks": ""
             }
            },
            "type": "scattercarpet"
           }
          ],
          "scattergeo": [
           {
            "marker": {
             "colorbar": {
              "outlinewidth": 0,
              "ticks": ""
             }
            },
            "type": "scattergeo"
           }
          ],
          "scattergl": [
           {
            "marker": {
             "colorbar": {
              "outlinewidth": 0,
              "ticks": ""
             }
            },
            "type": "scattergl"
           }
          ],
          "scattermapbox": [
           {
            "marker": {
             "colorbar": {
              "outlinewidth": 0,
              "ticks": ""
             }
            },
            "type": "scattermapbox"
           }
          ],
          "scatterpolar": [
           {
            "marker": {
             "colorbar": {
              "outlinewidth": 0,
              "ticks": ""
             }
            },
            "type": "scatterpolar"
           }
          ],
          "scatterpolargl": [
           {
            "marker": {
             "colorbar": {
              "outlinewidth": 0,
              "ticks": ""
             }
            },
            "type": "scatterpolargl"
           }
          ],
          "scatterternary": [
           {
            "marker": {
             "colorbar": {
              "outlinewidth": 0,
              "ticks": ""
             }
            },
            "type": "scatterternary"
           }
          ],
          "surface": [
           {
            "colorbar": {
             "outlinewidth": 0,
             "ticks": ""
            },
            "colorscale": [
             [
              0,
              "#0d0887"
             ],
             [
              0.1111111111111111,
              "#46039f"
             ],
             [
              0.2222222222222222,
              "#7201a8"
             ],
             [
              0.3333333333333333,
              "#9c179e"
             ],
             [
              0.4444444444444444,
              "#bd3786"
             ],
             [
              0.5555555555555556,
              "#d8576b"
             ],
             [
              0.6666666666666666,
              "#ed7953"
             ],
             [
              0.7777777777777778,
              "#fb9f3a"
             ],
             [
              0.8888888888888888,
              "#fdca26"
             ],
             [
              1,
              "#f0f921"
             ]
            ],
            "type": "surface"
           }
          ],
          "table": [
           {
            "cells": {
             "fill": {
              "color": "#EBF0F8"
             },
             "line": {
              "color": "white"
             }
            },
            "header": {
             "fill": {
              "color": "#C8D4E3"
             },
             "line": {
              "color": "white"
             }
            },
            "type": "table"
           }
          ]
         },
         "layout": {
          "annotationdefaults": {
           "arrowcolor": "#2a3f5f",
           "arrowhead": 0,
           "arrowwidth": 1
          },
          "autotypenumbers": "strict",
          "coloraxis": {
           "colorbar": {
            "outlinewidth": 0,
            "ticks": ""
           }
          },
          "colorscale": {
           "diverging": [
            [
             0,
             "#8e0152"
            ],
            [
             0.1,
             "#c51b7d"
            ],
            [
             0.2,
             "#de77ae"
            ],
            [
             0.3,
             "#f1b6da"
            ],
            [
             0.4,
             "#fde0ef"
            ],
            [
             0.5,
             "#f7f7f7"
            ],
            [
             0.6,
             "#e6f5d0"
            ],
            [
             0.7,
             "#b8e186"
            ],
            [
             0.8,
             "#7fbc41"
            ],
            [
             0.9,
             "#4d9221"
            ],
            [
             1,
             "#276419"
            ]
           ],
           "sequential": [
            [
             0,
             "#0d0887"
            ],
            [
             0.1111111111111111,
             "#46039f"
            ],
            [
             0.2222222222222222,
             "#7201a8"
            ],
            [
             0.3333333333333333,
             "#9c179e"
            ],
            [
             0.4444444444444444,
             "#bd3786"
            ],
            [
             0.5555555555555556,
             "#d8576b"
            ],
            [
             0.6666666666666666,
             "#ed7953"
            ],
            [
             0.7777777777777778,
             "#fb9f3a"
            ],
            [
             0.8888888888888888,
             "#fdca26"
            ],
            [
             1,
             "#f0f921"
            ]
           ],
           "sequentialminus": [
            [
             0,
             "#0d0887"
            ],
            [
             0.1111111111111111,
             "#46039f"
            ],
            [
             0.2222222222222222,
             "#7201a8"
            ],
            [
             0.3333333333333333,
             "#9c179e"
            ],
            [
             0.4444444444444444,
             "#bd3786"
            ],
            [
             0.5555555555555556,
             "#d8576b"
            ],
            [
             0.6666666666666666,
             "#ed7953"
            ],
            [
             0.7777777777777778,
             "#fb9f3a"
            ],
            [
             0.8888888888888888,
             "#fdca26"
            ],
            [
             1,
             "#f0f921"
            ]
           ]
          },
          "colorway": [
           "#636efa",
           "#EF553B",
           "#00cc96",
           "#ab63fa",
           "#FFA15A",
           "#19d3f3",
           "#FF6692",
           "#B6E880",
           "#FF97FF",
           "#FECB52"
          ],
          "font": {
           "color": "#2a3f5f"
          },
          "geo": {
           "bgcolor": "white",
           "lakecolor": "white",
           "landcolor": "#E5ECF6",
           "showlakes": true,
           "showland": true,
           "subunitcolor": "white"
          },
          "hoverlabel": {
           "align": "left"
          },
          "hovermode": "closest",
          "mapbox": {
           "style": "light"
          },
          "paper_bgcolor": "white",
          "plot_bgcolor": "#E5ECF6",
          "polar": {
           "angularaxis": {
            "gridcolor": "white",
            "linecolor": "white",
            "ticks": ""
           },
           "bgcolor": "#E5ECF6",
           "radialaxis": {
            "gridcolor": "white",
            "linecolor": "white",
            "ticks": ""
           }
          },
          "scene": {
           "xaxis": {
            "backgroundcolor": "#E5ECF6",
            "gridcolor": "white",
            "gridwidth": 2,
            "linecolor": "white",
            "showbackground": true,
            "ticks": "",
            "zerolinecolor": "white"
           },
           "yaxis": {
            "backgroundcolor": "#E5ECF6",
            "gridcolor": "white",
            "gridwidth": 2,
            "linecolor": "white",
            "showbackground": true,
            "ticks": "",
            "zerolinecolor": "white"
           },
           "zaxis": {
            "backgroundcolor": "#E5ECF6",
            "gridcolor": "white",
            "gridwidth": 2,
            "linecolor": "white",
            "showbackground": true,
            "ticks": "",
            "zerolinecolor": "white"
           }
          },
          "shapedefaults": {
           "line": {
            "color": "#2a3f5f"
           }
          },
          "ternary": {
           "aaxis": {
            "gridcolor": "white",
            "linecolor": "white",
            "ticks": ""
           },
           "baxis": {
            "gridcolor": "white",
            "linecolor": "white",
            "ticks": ""
           },
           "bgcolor": "#E5ECF6",
           "caxis": {
            "gridcolor": "white",
            "linecolor": "white",
            "ticks": ""
           }
          },
          "title": {
           "x": 0.05
          },
          "xaxis": {
           "automargin": true,
           "gridcolor": "white",
           "linecolor": "white",
           "ticks": "",
           "title": {
            "standoff": 15
           },
           "zerolinecolor": "white",
           "zerolinewidth": 2
          },
          "yaxis": {
           "automargin": true,
           "gridcolor": "white",
           "linecolor": "white",
           "ticks": "",
           "title": {
            "standoff": 15
           },
           "zerolinecolor": "white",
           "zerolinewidth": 2
          }
         }
        },
        "xaxis": {
         "autorange": true,
         "range": [
          -0.8578426201266145,
          0.03225718675331306
         ],
         "type": "linear"
        },
        "yaxis": {
         "autorange": true,
         "range": [
          -33.27777777777778,
          632.2777777777778
         ],
         "type": "linear"
        }
       }
      },
      "image/png": "[encoded data removed]",
      "text/html": [
       "<div>                            <div id=\"978f8a33-ee12-4d60-9806-52039664965b\" class=\"plotly-graph-div\" style=\"height:525px; width:100%;\"></div>            <script type=\"text/javascript\">                require([\"plotly\"], function(Plotly) {                    window.PLOTLYENV=window.PLOTLYENV || {};                                    if (document.getElementById(\"978f8a33-ee12-4d60-9806-52039664965b\")) {                    Plotly.newPlot(                        \"978f8a33-ee12-4d60-9806-52039664965b\",                        [{\"name\":\"Histogram\",\"width\":[0.02054076477415223,0.02054076477415212,0.02054076477415212,0.02054076477415223,0.02054076477415223,0.02054076477415212,0.02054076477415212,0.02054076477415223,0.02054076477415223,0.02054076477415212,0.02054076477415212,0.02054076477415223,0.02054076477415223,0.02054076477415212,0.02054076477415212,0.02054076477415223,0.020540764774152176,0.020540764774152176,0.020540764774152176,0.020540764774152176,0.020540764774152176,0.020540764774152176,0.020540764774152176,0.020540764774152176,0.02054076477415223,0.02054076477415212,0.02054076477415212,0.02054076477415223,0.02054076477415223,0.02054076477415212,0.02054076477415212,0.02054076477415223,0.02054076477415223,0.02054076477415212,0.02054076477415212,0.02054076477415223,0.02054076477415223,0.02054076477415212,0.02054076477415212,0.02054076477415223],\"x\":[-0.8133376297826181,-0.792796865008466,-0.7722561002343138,-0.7517153354601617,-0.7311745706860094,-0.7106338059118573,-0.6900930411377051,-0.669552276363553,-0.6490115115894007,-0.6284707468152486,-0.6079299820410964,-0.5873892172669443,-0.566848452492792,-0.5463076877186399,-0.5257669229444877,-0.5052261581703356,-0.48468539339618333,-0.4641446286220312,-0.443603863847879,-0.42306309907372686,-0.4025223342995746,-0.3819815695254225,-0.3614408047512703,-0.34090003997711815,-0.3203592752029659,-0.29981851042881374,-0.2792777456546616,-0.25873698088050945,-0.23819621610635722,-0.21765545133220504,-0.19711468655805292,-0.17657392178390074,-0.1560331570097485,-0.13549239223559634,-0.11495162746144422,-0.09441086268729204,-0.07387009791313981,-0.053329333138987634,-0.03278856836483551,-0.012247803590683337],\"y\":[2,0,0,0,1,2,0,0,3,1,1,0,1,2,1,4,4,7,14,7,4,2,6,10,9,17,21,22,26,32,41,73,80,65,111,185,231,379,599,592],\"type\":\"bar\"},{\"mode\":\"text\",\"text\":[\"2\"],\"x\":[-0.8133376297826181],\"y\":[2],\"type\":\"scatter\"},{\"mode\":\"text\",\"text\":[\"0\"],\"x\":[-0.792796865008466],\"y\":[0],\"type\":\"scatter\"},{\"mode\":\"text\",\"text\":[\"0\"],\"x\":[-0.7722561002343138],\"y\":[0],\"type\":\"scatter\"},{\"mode\":\"text\",\"text\":[\"0\"],\"x\":[-0.7517153354601617],\"y\":[0],\"type\":\"scatter\"},{\"mode\":\"text\",\"text\":[\"1\"],\"x\":[-0.7311745706860094],\"y\":[1],\"type\":\"scatter\"},{\"mode\":\"text\",\"text\":[\"2\"],\"x\":[-0.7106338059118573],\"y\":[2],\"type\":\"scatter\"},{\"mode\":\"text\",\"text\":[\"0\"],\"x\":[-0.6900930411377051],\"y\":[0],\"type\":\"scatter\"},{\"mode\":\"text\",\"text\":[\"0\"],\"x\":[-0.669552276363553],\"y\":[0],\"type\":\"scatter\"},{\"mode\":\"text\",\"text\":[\"3\"],\"x\":[-0.6490115115894007],\"y\":[3],\"type\":\"scatter\"},{\"mode\":\"text\",\"text\":[\"1\"],\"x\":[-0.6284707468152486],\"y\":[1],\"type\":\"scatter\"},{\"mode\":\"text\",\"text\":[\"1\"],\"x\":[-0.6079299820410964],\"y\":[1],\"type\":\"scatter\"},{\"mode\":\"text\",\"text\":[\"0\"],\"x\":[-0.5873892172669443],\"y\":[0],\"type\":\"scatter\"},{\"mode\":\"text\",\"text\":[\"1\"],\"x\":[-0.566848452492792],\"y\":[1],\"type\":\"scatter\"},{\"mode\":\"text\",\"text\":[\"2\"],\"x\":[-0.5463076877186399],\"y\":[2],\"type\":\"scatter\"},{\"mode\":\"text\",\"text\":[\"1\"],\"x\":[-0.5257669229444877],\"y\":[1],\"type\":\"scatter\"},{\"mode\":\"text\",\"text\":[\"4\"],\"x\":[-0.5052261581703356],\"y\":[4],\"type\":\"scatter\"},{\"mode\":\"text\",\"text\":[\"4\"],\"x\":[-0.48468539339618333],\"y\":[4],\"type\":\"scatter\"},{\"mode\":\"text\",\"text\":[\"7\"],\"x\":[-0.4641446286220312],\"y\":[7],\"type\":\"scatter\"},{\"mode\":\"text\",\"text\":[\"14\"],\"x\":[-0.443603863847879],\"y\":[14],\"type\":\"scatter\"},{\"mode\":\"text\",\"text\":[\"7\"],\"x\":[-0.42306309907372686],\"y\":[7],\"type\":\"scatter\"},{\"mode\":\"text\",\"text\":[\"4\"],\"x\":[-0.4025223342995746],\"y\":[4],\"type\":\"scatter\"},{\"mode\":\"text\",\"text\":[\"2\"],\"x\":[-0.3819815695254225],\"y\":[2],\"type\":\"scatter\"},{\"mode\":\"text\",\"text\":[\"6\"],\"x\":[-0.3614408047512703],\"y\":[6],\"type\":\"scatter\"},{\"mode\":\"text\",\"text\":[\"10\"],\"x\":[-0.34090003997711815],\"y\":[10],\"type\":\"scatter\"},{\"mode\":\"text\",\"text\":[\"9\"],\"x\":[-0.3203592752029659],\"y\":[9],\"type\":\"scatter\"},{\"mode\":\"text\",\"text\":[\"17\"],\"x\":[-0.29981851042881374],\"y\":[17],\"type\":\"scatter\"},{\"mode\":\"text\",\"text\":[\"21\"],\"x\":[-0.2792777456546616],\"y\":[21],\"type\":\"scatter\"},{\"mode\":\"text\",\"text\":[\"22\"],\"x\":[-0.25873698088050945],\"y\":[22],\"type\":\"scatter\"},{\"mode\":\"text\",\"text\":[\"26\"],\"x\":[-0.23819621610635722],\"y\":[26],\"type\":\"scatter\"},{\"mode\":\"text\",\"text\":[\"32\"],\"x\":[-0.21765545133220504],\"y\":[32],\"type\":\"scatter\"},{\"mode\":\"text\",\"text\":[\"41\"],\"x\":[-0.19711468655805292],\"y\":[41],\"type\":\"scatter\"},{\"mode\":\"text\",\"text\":[\"73\"],\"x\":[-0.17657392178390074],\"y\":[73],\"type\":\"scatter\"},{\"mode\":\"text\",\"text\":[\"80\"],\"x\":[-0.1560331570097485],\"y\":[80],\"type\":\"scatter\"},{\"mode\":\"text\",\"text\":[\"65\"],\"x\":[-0.13549239223559634],\"y\":[65],\"type\":\"scatter\"},{\"mode\":\"text\",\"text\":[\"111\"],\"x\":[-0.11495162746144422],\"y\":[111],\"type\":\"scatter\"},{\"mode\":\"text\",\"text\":[\"185\"],\"x\":[-0.09441086268729204],\"y\":[185],\"type\":\"scatter\"},{\"mode\":\"text\",\"text\":[\"231\"],\"x\":[-0.07387009791313981],\"y\":[231],\"type\":\"scatter\"},{\"mode\":\"text\",\"text\":[\"379\"],\"x\":[-0.053329333138987634],\"y\":[379],\"type\":\"scatter\"},{\"mode\":\"text\",\"text\":[\"599\"],\"x\":[-0.03278856836483551],\"y\":[599],\"type\":\"scatter\"},{\"mode\":\"text\",\"text\":[\"592\"],\"x\":[-0.012247803590683337],\"y\":[592],\"type\":\"scatter\"}],                        {\"template\":{\"data\":{\"histogram2dcontour\":[{\"type\":\"histogram2dcontour\",\"colorbar\":{\"outlinewidth\":0,\"ticks\":\"\"},\"colorscale\":[[0.0,\"#0d0887\"],[0.1111111111111111,\"#46039f\"],[0.2222222222222222,\"#7201a8\"],[0.3333333333333333,\"#9c179e\"],[0.4444444444444444,\"#bd3786\"],[0.5555555555555556,\"#d8576b\"],[0.6666666666666666,\"#ed7953\"],[0.7777777777777778,\"#fb9f3a\"],[0.8888888888888888,\"#fdca26\"],[1.0,\"#f0f921\"]]}],\"choropleth\":[{\"type\":\"choropleth\",\"colorbar\":{\"outlinewidth\":0,\"ticks\":\"\"}}],\"histogram2d\":[{\"type\":\"histogram2d\",\"colorbar\":{\"outlinewidth\":0,\"ticks\":\"\"},\"colorscale\":[[0.0,\"#0d0887\"],[0.1111111111111111,\"#46039f\"],[0.2222222222222222,\"#7201a8\"],[0.3333333333333333,\"#9c179e\"],[0.4444444444444444,\"#bd3786\"],[0.5555555555555556,\"#d8576b\"],[0.6666666666666666,\"#ed7953\"],[0.7777777777777778,\"#fb9f3a\"],[0.8888888888888888,\"#fdca26\"],[1.0,\"#f0f921\"]]}],\"heatmap\":[{\"type\":\"heatmap\",\"colorbar\":{\"outlinewidth\":0,\"ticks\":\"\"},\"colorscale\":[[0.0,\"#0d0887\"],[0.1111111111111111,\"#46039f\"],[0.2222222222222222,\"#7201a8\"],[0.3333333333333333,\"#9c179e\"],[0.4444444444444444,\"#bd3786\"],[0.5555555555555556,\"#d8576b\"],[0.6666666666666666,\"#ed7953\"],[0.7777777777777778,\"#fb9f3a\"],[0.8888888888888888,\"#fdca26\"],[1.0,\"#f0f921\"]]}],\"heatmapgl\":[{\"type\":\"heatmapgl\",\"colorbar\":{\"outlinewidth\":0,\"ticks\":\"\"},\"colorscale\":[[0.0,\"#0d0887\"],[0.1111111111111111,\"#46039f\"],[0.2222222222222222,\"#7201a8\"],[0.3333333333333333,\"#9c179e\"],[0.4444444444444444,\"#bd3786\"],[0.5555555555555556,\"#d8576b\"],[0.6666666666666666,\"#ed7953\"],[0.7777777777777778,\"#fb9f3a\"],[0.8888888888888888,\"#fdca26\"],[1.0,\"#f0f921\"]]}],\"contourcarpet\":[{\"type\":\"contourcarpet\",\"colorbar\":{\"outlinewidth\":0,\"ticks\":\"\"}}],\"contour\":[{\"type\":\"contour\",\"colorbar\":{\"outlinewidth\":0,\"ticks\":\"\"},\"colorscale\":[[0.0,\"#0d0887\"],[0.1111111111111111,\"#46039f\"],[0.2222222222222222,\"#7201a8\"],[0.3333333333333333,\"#9c179e\"],[0.4444444444444444,\"#bd3786\"],[0.5555555555555556,\"#d8576b\"],[0.6666666666666666,\"#ed7953\"],[0.7777777777777778,\"#fb9f3a\"],[0.8888888888888888,\"#fdca26\"],[1.0,\"#f0f921\"]]}],\"surface\":[{\"type\":\"surface\",\"colorbar\":{\"outlinewidth\":0,\"ticks\":\"\"},\"colorscale\":[[0.0,\"#0d0887\"],[0.1111111111111111,\"#46039f\"],[0.2222222222222222,\"#7201a8\"],[0.3333333333333333,\"#9c179e\"],[0.4444444444444444,\"#bd3786\"],[0.5555555555555556,\"#d8576b\"],[0.6666666666666666,\"#ed7953\"],[0.7777777777777778,\"#fb9f3a\"],[0.8888888888888888,\"#fdca26\"],[1.0,\"#f0f921\"]]}],\"mesh3d\":[{\"type\":\"mesh3d\",\"colorbar\":{\"outlinewidth\":0,\"ticks\":\"\"}}],\"scatter\":[{\"fillpattern\":{\"fillmode\":\"overlay\",\"size\":10,\"solidity\":0.2},\"type\":\"scatter\"}],\"parcoords\":[{\"type\":\"parcoords\",\"line\":{\"colorbar\":{\"outlinewidth\":0,\"ticks\":\"\"}}}],\"scatterpolargl\":[{\"type\":\"scatterpolargl\",\"marker\":{\"colorbar\":{\"outlinewidth\":0,\"ticks\":\"\"}}}],\"bar\":[{\"error_x\":{\"color\":\"#2a3f5f\"},\"error_y\":{\"color\":\"#2a3f5f\"},\"marker\":{\"line\":{\"color\":\"#E5ECF6\",\"width\":0.5},\"pattern\":{\"fillmode\":\"overlay\",\"size\":10,\"solidity\":0.2}},\"type\":\"bar\"}],\"scattergeo\":[{\"type\":\"scattergeo\",\"marker\":{\"colorbar\":{\"outlinewidth\":0,\"ticks\":\"\"}}}],\"scatterpolar\":[{\"type\":\"scatterpolar\",\"marker\":{\"colorbar\":{\"outlinewidth\":0,\"ticks\":\"\"}}}],\"histogram\":[{\"marker\":{\"pattern\":{\"fillmode\":\"overlay\",\"size\":10,\"solidity\":0.2}},\"type\":\"histogram\"}],\"scattergl\":[{\"type\":\"scattergl\",\"marker\":{\"colorbar\":{\"outlinewidth\":0,\"ticks\":\"\"}}}],\"scatter3d\":[{\"type\":\"scatter3d\",\"line\":{\"colorbar\":{\"outlinewidth\":0,\"ticks\":\"\"}},\"marker\":{\"colorbar\":{\"outlinewidth\":0,\"ticks\":\"\"}}}],\"scattermapbox\":[{\"type\":\"scattermapbox\",\"marker\":{\"colorbar\":{\"outlinewidth\":0,\"ticks\":\"\"}}}],\"scatterternary\":[{\"type\":\"scatterternary\",\"marker\":{\"colorbar\":{\"outlinewidth\":0,\"ticks\":\"\"}}}],\"scattercarpet\":[{\"type\":\"scattercarpet\",\"marker\":{\"colorbar\":{\"outlinewidth\":0,\"ticks\":\"\"}}}],\"carpet\":[{\"aaxis\":{\"endlinecolor\":\"#2a3f5f\",\"gridcolor\":\"white\",\"linecolor\":\"white\",\"minorgridcolor\":\"white\",\"startlinecolor\":\"#2a3f5f\"},\"baxis\":{\"endlinecolor\":\"#2a3f5f\",\"gridcolor\":\"white\",\"linecolor\":\"white\",\"minorgridcolor\":\"white\",\"startlinecolor\":\"#2a3f5f\"},\"type\":\"carpet\"}],\"table\":[{\"cells\":{\"fill\":{\"color\":\"#EBF0F8\"},\"line\":{\"color\":\"white\"}},\"header\":{\"fill\":{\"color\":\"#C8D4E3\"},\"line\":{\"color\":\"white\"}},\"type\":\"table\"}],\"barpolar\":[{\"marker\":{\"line\":{\"color\":\"#E5ECF6\",\"width\":0.5},\"pattern\":{\"fillmode\":\"overlay\",\"size\":10,\"solidity\":0.2}},\"type\":\"barpolar\"}],\"pie\":[{\"automargin\":true,\"type\":\"pie\"}]},\"layout\":{\"autotypenumbers\":\"strict\",\"colorway\":[\"#636efa\",\"#EF553B\",\"#00cc96\",\"#ab63fa\",\"#FFA15A\",\"#19d3f3\",\"#FF6692\",\"#B6E880\",\"#FF97FF\",\"#FECB52\"],\"font\":{\"color\":\"#2a3f5f\"},\"hovermode\":\"closest\",\"hoverlabel\":{\"align\":\"left\"},\"paper_bgcolor\":\"white\",\"plot_bgcolor\":\"#E5ECF6\",\"polar\":{\"bgcolor\":\"#E5ECF6\",\"angularaxis\":{\"gridcolor\":\"white\",\"linecolor\":\"white\",\"ticks\":\"\"},\"radialaxis\":{\"gridcolor\":\"white\",\"linecolor\":\"white\",\"ticks\":\"\"}},\"ternary\":{\"bgcolor\":\"#E5ECF6\",\"aaxis\":{\"gridcolor\":\"white\",\"linecolor\":\"white\",\"ticks\":\"\"},\"baxis\":{\"gridcolor\":\"white\",\"linecolor\":\"white\",\"ticks\":\"\"},\"caxis\":{\"gridcolor\":\"white\",\"linecolor\":\"white\",\"ticks\":\"\"}},\"coloraxis\":{\"colorbar\":{\"outlinewidth\":0,\"ticks\":\"\"}},\"colorscale\":{\"sequential\":[[0.0,\"#0d0887\"],[0.1111111111111111,\"#46039f\"],[0.2222222222222222,\"#7201a8\"],[0.3333333333333333,\"#9c179e\"],[0.4444444444444444,\"#bd3786\"],[0.5555555555555556,\"#d8576b\"],[0.6666666666666666,\"#ed7953\"],[0.7777777777777778,\"#fb9f3a\"],[0.8888888888888888,\"#fdca26\"],[1.0,\"#f0f921\"]],\"sequentialminus\":[[0.0,\"#0d0887\"],[0.1111111111111111,\"#46039f\"],[0.2222222222222222,\"#7201a8\"],[0.3333333333333333,\"#9c179e\"],[0.4444444444444444,\"#bd3786\"],[0.5555555555555556,\"#d8576b\"],[0.6666666666666666,\"#ed7953\"],[0.7777777777777778,\"#fb9f3a\"],[0.8888888888888888,\"#fdca26\"],[1.0,\"#f0f921\"]],\"diverging\":[[0,\"#8e0152\"],[0.1,\"#c51b7d\"],[0.2,\"#de77ae\"],[0.3,\"#f1b6da\"],[0.4,\"#fde0ef\"],[0.5,\"#f7f7f7\"],[0.6,\"#e6f5d0\"],[0.7,\"#b8e186\"],[0.8,\"#7fbc41\"],[0.9,\"#4d9221\"],[1,\"#276419\"]]},\"xaxis\":{\"gridcolor\":\"white\",\"linecolor\":\"white\",\"ticks\":\"\",\"title\":{\"standoff\":15},\"zerolinecolor\":\"white\",\"automargin\":true,\"zerolinewidth\":2},\"yaxis\":{\"gridcolor\":\"white\",\"linecolor\":\"white\",\"ticks\":\"\",\"title\":{\"standoff\":15},\"zerolinecolor\":\"white\",\"automargin\":true,\"zerolinewidth\":2},\"scene\":{\"xaxis\":{\"backgroundcolor\":\"#E5ECF6\",\"gridcolor\":\"white\",\"linecolor\":\"white\",\"showbackground\":true,\"ticks\":\"\",\"zerolinecolor\":\"white\",\"gridwidth\":2},\"yaxis\":{\"backgroundcolor\":\"#E5ECF6\",\"gridcolor\":\"white\",\"linecolor\":\"white\",\"showbackground\":true,\"ticks\":\"\",\"zerolinecolor\":\"white\",\"gridwidth\":2},\"zaxis\":{\"backgroundcolor\":\"#E5ECF6\",\"gridcolor\":\"white\",\"linecolor\":\"white\",\"showbackground\":true,\"ticks\":\"\",\"zerolinecolor\":\"white\",\"gridwidth\":2}},\"shapedefaults\":{\"line\":{\"color\":\"#2a3f5f\"}},\"annotationdefaults\":{\"arrowcolor\":\"#2a3f5f\",\"arrowhead\":0,\"arrowwidth\":1},\"geo\":{\"bgcolor\":\"white\",\"landcolor\":\"#E5ECF6\",\"subunitcolor\":\"white\",\"showland\":true,\"showlakes\":true,\"lakecolor\":\"white\"},\"title\":{\"x\":0.05},\"mapbox\":{\"style\":\"light\"}}}},                        {\"responsive\": true}                    ).then(function(){\n",
       "                            \n",
       "var gd = document.getElementById('978f8a33-ee12-4d60-9806-52039664965b');\n",
       "var x = new MutationObserver(function (mutations, observer) {{\n",
       "        var display = window.getComputedStyle(gd).display;\n",
       "        if (!display || display === 'none') {{\n",
       "            console.log([gd, 'removed!']);\n",
       "            Plotly.purge(gd);\n",
       "            observer.disconnect();\n",
       "        }}\n",
       "}});\n",
       "\n",
       "// Listen for the removal of the full notebook cells\n",
       "var notebookContainer = gd.closest('#notebook-container');\n",
       "if (notebookContainer) {{\n",
       "    x.observe(notebookContainer, {childList: true});\n",
       "}}\n",
       "\n",
       "// Listen for the clearing of the current output cell\n",
       "var outputEl = gd.closest('.output');\n",
       "if (outputEl) {{\n",
       "    x.observe(outputEl, {childList: true});\n",
       "}}\n",
       "\n",
       "                        })                };                });            </script>        </div>"
      ]
     },
     "metadata": {},
     "output_type": "display_data"
    }
   ],
   "source": [
    "# Plot the figure\n",
    "counts, bins = np.histogram(df_interest['ScoreChange'], bins=40)\n",
    "bin_midpoints = bins[:-1] + np.diff(bins)/2\n",
    "\n",
    "fig = go.Figure()\n",
    "\n",
    "fig.add_trace(go.Bar(\n",
    "    x=bin_midpoints,\n",
    "    y=counts,\n",
    "    width=np.diff(bins), # makes bars have correct widths\n",
    "    name='Histogram'\n",
    "))\n",
    "# add text labels for counts\n",
    "for i in range(len(counts)):\n",
    "    fig.add_trace(go.Scatter(\n",
    "        x=[bin_midpoints[i]],\n",
    "        y=[counts[i]],\n",
    "        text=[str(counts[i])],\n",
    "        mode='text',\n",
    "    ))\n",
    "\n",
    "fig.show()"
   ]
  },
  {
   "cell_type": "code",
   "execution_count": 37,
   "id": "142ab62a-5334-4c9c-862d-ff999319191b",
   "metadata": {},
   "outputs": [
    {
     "data": {
      "text/html": [
       "<div>\n",
       "<style scoped>\n",
       "    .dataframe tbody tr th:only-of-type {\n",
       "        vertical-align: middle;\n",
       "    }\n",
       "\n",
       "    .dataframe tbody tr th {\n",
       "        vertical-align: top;\n",
       "    }\n",
       "\n",
       "    .dataframe thead th {\n",
       "        text-align: right;\n",
       "    }\n",
       "</style>\n",
       "<table border=\"1\" class=\"dataframe\">\n",
       "  <thead>\n",
       "    <tr style=\"text-align: right;\">\n",
       "      <th></th>\n",
       "      <th>chr</th>\n",
       "      <th>Enhancer_coordinates</th>\n",
       "      <th>dbsnp_id</th>\n",
       "      <th>varinat_start</th>\n",
       "      <th>variant_end</th>\n",
       "      <th>ref_neucleotide</th>\n",
       "      <th>alternative_neucleotide</th>\n",
       "      <th>reference_seq</th>\n",
       "      <th>alt_seq</th>\n",
       "      <th>Ref_probab</th>\n",
       "      <th>Alt_probab</th>\n",
       "      <th>Ref_attn</th>\n",
       "      <th>Alt_attn</th>\n",
       "      <th>ScoreChange</th>\n",
       "      <th>LogOddRatio</th>\n",
       "    </tr>\n",
       "  </thead>\n",
       "  <tbody>\n",
       "    <tr>\n",
       "      <th>0</th>\n",
       "      <td>chr19</td>\n",
       "      <td>58043370-58043569</td>\n",
       "      <td>rs1568603525</td>\n",
       "      <td>58043374</td>\n",
       "      <td>58043375</td>\n",
       "      <td>G</td>\n",
       "      <td>A</td>\n",
       "      <td>AACGGTAACACAATGTTGTTTGTGGATTTAAACATAGAAAAGGTAC...</td>\n",
       "      <td>AACGATAACACAATGTTGTTTGTGGATTTAAACATAGAAAAGGTAC...</td>\n",
       "      <td>0.615052</td>\n",
       "      <td>0.098938</td>\n",
       "      <td>[0.46762298154545595, 0.3226003983980696, 0.42...</td>\n",
       "      <td>[0.08386260851627693, 0.09312741951431469, 0.0...</td>\n",
       "      <td>-0.317437</td>\n",
       "      <td>3.863067</td>\n",
       "    </tr>\n",
       "    <tr>\n",
       "      <th>1</th>\n",
       "      <td>chr19</td>\n",
       "      <td>14430273-14430472</td>\n",
       "      <td>rs1445282456</td>\n",
       "      <td>14430273</td>\n",
       "      <td>14430274</td>\n",
       "      <td>C</td>\n",
       "      <td>T</td>\n",
       "      <td>CCTCGTGATCTGCTCGTCTGGGCCTCCCAAAGTGCTGGGGTGACAG...</td>\n",
       "      <td>TCTCGTGATCTGCTCGTCTGGGCCTCCCAAAGTGCTGGGGTGACAG...</td>\n",
       "      <td>0.934020</td>\n",
       "      <td>0.473624</td>\n",
       "      <td>[0.21987619398132582, 0.1829454213510791, 0.14...</td>\n",
       "      <td>[0.09995102977748882, 0.10022353426954661, 0.0...</td>\n",
       "      <td>-0.430018</td>\n",
       "      <td>3.975693</td>\n",
       "    </tr>\n",
       "    <tr>\n",
       "      <th>2</th>\n",
       "      <td>chr11</td>\n",
       "      <td>36665374-36665573</td>\n",
       "      <td>rs1272809446</td>\n",
       "      <td>36665483</td>\n",
       "      <td>36665484</td>\n",
       "      <td>C</td>\n",
       "      <td>A</td>\n",
       "      <td>AAAGCCAGGTCCACCCAATATGGCATCTCCCACCCTCTTTTCCTTG...</td>\n",
       "      <td>AAAGCCAGGTCCACCCAATATGGCATCTCCCACCCTCTTTTCCTTG...</td>\n",
       "      <td>0.901120</td>\n",
       "      <td>0.191165</td>\n",
       "      <td>[0.12591830751003694, 0.11490679744331603, 0.1...</td>\n",
       "      <td>[0.1510396271373201, 0.12922091919160034, 0.11...</td>\n",
       "      <td>-0.639755</td>\n",
       "      <td>5.269003</td>\n",
       "    </tr>\n",
       "    <tr>\n",
       "      <th>3</th>\n",
       "      <td>chr11</td>\n",
       "      <td>36665374-36665573</td>\n",
       "      <td>rs1272809446</td>\n",
       "      <td>36665483</td>\n",
       "      <td>36665484</td>\n",
       "      <td>C</td>\n",
       "      <td>T</td>\n",
       "      <td>AAAGCCAGGTCCACCCAATATGGCATCTCCCACCCTCTTTTCCTTG...</td>\n",
       "      <td>AAAGCCAGGTCCACCCAATATGGCATCTCCCACCCTCTTTTCCTTG...</td>\n",
       "      <td>0.901120</td>\n",
       "      <td>0.188648</td>\n",
       "      <td>[0.12591830751003694, 0.11490679744331603, 0.1...</td>\n",
       "      <td>[0.14882453286384564, 0.12815024698064503, 0.1...</td>\n",
       "      <td>-0.642023</td>\n",
       "      <td>5.292603</td>\n",
       "    </tr>\n",
       "    <tr>\n",
       "      <th>4</th>\n",
       "      <td>chr11</td>\n",
       "      <td>36665374-36665573</td>\n",
       "      <td>rs374010920</td>\n",
       "      <td>36665484</td>\n",
       "      <td>36665485</td>\n",
       "      <td>G</td>\n",
       "      <td>A</td>\n",
       "      <td>AAAGCCAGGTCCACCCAATATGGCATCTCCCACCCTCTTTTCCTTG...</td>\n",
       "      <td>AAAGCCAGGTCCACCCAATATGGCATCTCCCACCCTCTTTTCCTTG...</td>\n",
       "      <td>0.901120</td>\n",
       "      <td>0.190248</td>\n",
       "      <td>[0.12591830751003694, 0.11490679744331603, 0.1...</td>\n",
       "      <td>[0.15191935782823754, 0.13122048651258428, 0.1...</td>\n",
       "      <td>-0.640581</td>\n",
       "      <td>5.277569</td>\n",
       "    </tr>\n",
       "    <tr>\n",
       "      <th>...</th>\n",
       "      <td>...</td>\n",
       "      <td>...</td>\n",
       "      <td>...</td>\n",
       "      <td>...</td>\n",
       "      <td>...</td>\n",
       "      <td>...</td>\n",
       "      <td>...</td>\n",
       "      <td>...</td>\n",
       "      <td>...</td>\n",
       "      <td>...</td>\n",
       "      <td>...</td>\n",
       "      <td>...</td>\n",
       "      <td>...</td>\n",
       "      <td>...</td>\n",
       "      <td>...</td>\n",
       "    </tr>\n",
       "    <tr>\n",
       "      <th>85</th>\n",
       "      <td>chr5</td>\n",
       "      <td>173063117-173063316</td>\n",
       "      <td>rs1467363988</td>\n",
       "      <td>173063117</td>\n",
       "      <td>173063118</td>\n",
       "      <td>G</td>\n",
       "      <td>T</td>\n",
       "      <td>GCAGGGTGCGGCAGTAGTATCACCAGCCAAGCCTTATATGCATTTC...</td>\n",
       "      <td>TCAGGGTGCGGCAGTAGTATCACCAGCCAAGCCTTATATGCATTTC...</td>\n",
       "      <td>0.774162</td>\n",
       "      <td>0.302691</td>\n",
       "      <td>[0.26669833562061396, 0.3322201304143422, 0.36...</td>\n",
       "      <td>[0.18501197260956828, 0.3197601588845609, 0.32...</td>\n",
       "      <td>-0.364994</td>\n",
       "      <td>2.981295</td>\n",
       "    </tr>\n",
       "    <tr>\n",
       "      <th>86</th>\n",
       "      <td>chr5</td>\n",
       "      <td>173063117-173063316</td>\n",
       "      <td>rs1006969018</td>\n",
       "      <td>173063122</td>\n",
       "      <td>173063123</td>\n",
       "      <td>G</td>\n",
       "      <td>A</td>\n",
       "      <td>GCAGGGTGCGGCAGTAGTATCACCAGCCAAGCCTTATATGCATTTC...</td>\n",
       "      <td>GCAGGATGCGGCAGTAGTATCACCAGCCAAGCCTTATATGCATTTC...</td>\n",
       "      <td>0.774162</td>\n",
       "      <td>0.358016</td>\n",
       "      <td>[0.26669833562061396, 0.3322201304143422, 0.36...</td>\n",
       "      <td>[0.20553516546397146, 0.33832258853968306, 0.3...</td>\n",
       "      <td>-0.322164</td>\n",
       "      <td>2.619857</td>\n",
       "    </tr>\n",
       "    <tr>\n",
       "      <th>87</th>\n",
       "      <td>chr5</td>\n",
       "      <td>173063117-173063316</td>\n",
       "      <td>rs1393698610</td>\n",
       "      <td>173063124</td>\n",
       "      <td>173063125</td>\n",
       "      <td>G</td>\n",
       "      <td>A</td>\n",
       "      <td>GCAGGGTGCGGCAGTAGTATCACCAGCCAAGCCTTATATGCATTTC...</td>\n",
       "      <td>GCAGGGTACGGCAGTAGTATCACCAGCCAAGCCTTATATGCATTTC...</td>\n",
       "      <td>0.774162</td>\n",
       "      <td>0.291388</td>\n",
       "      <td>[0.26669833562061396, 0.3322201304143422, 0.36...</td>\n",
       "      <td>[0.18406347812477086, 0.3173320194920988, 0.29...</td>\n",
       "      <td>-0.373745</td>\n",
       "      <td>3.059402</td>\n",
       "    </tr>\n",
       "    <tr>\n",
       "      <th>88</th>\n",
       "      <td>chr5</td>\n",
       "      <td>173063117-173063316</td>\n",
       "      <td>rs142865666</td>\n",
       "      <td>173063125</td>\n",
       "      <td>173063126</td>\n",
       "      <td>C</td>\n",
       "      <td>T</td>\n",
       "      <td>GCAGGGTGCGGCAGTAGTATCACCAGCCAAGCCTTATATGCATTTC...</td>\n",
       "      <td>GCAGGGTGTGGCAGTAGTATCACCAGCCAAGCCTTATATGCATTTC...</td>\n",
       "      <td>0.774162</td>\n",
       "      <td>0.153588</td>\n",
       "      <td>[0.26669833562061396, 0.3322201304143422, 0.36...</td>\n",
       "      <td>[0.2752677007451412, 0.32930852219864487, 0.33...</td>\n",
       "      <td>-0.480424</td>\n",
       "      <td>4.239634</td>\n",
       "    </tr>\n",
       "    <tr>\n",
       "      <th>89</th>\n",
       "      <td>chr5</td>\n",
       "      <td>173063117-173063316</td>\n",
       "      <td>rs576541340</td>\n",
       "      <td>173063126</td>\n",
       "      <td>173063127</td>\n",
       "      <td>G</td>\n",
       "      <td>A</td>\n",
       "      <td>GCAGGGTGCGGCAGTAGTATCACCAGCCAAGCCTTATATGCATTTC...</td>\n",
       "      <td>GCAGGGTGCAGCAGTAGTATCACCAGCCAAGCCTTATATGCATTTC...</td>\n",
       "      <td>0.774162</td>\n",
       "      <td>0.189937</td>\n",
       "      <td>[0.26669833562061396, 0.3322201304143422, 0.36...</td>\n",
       "      <td>[0.22017774516147234, 0.25796705527277247, 0.3...</td>\n",
       "      <td>-0.452285</td>\n",
       "      <td>3.869860</td>\n",
       "    </tr>\n",
       "  </tbody>\n",
       "</table>\n",
       "<p>90 rows × 15 columns</p>\n",
       "</div>"
      ],
      "text/plain": [
       "      chr Enhancer_coordinates      dbsnp_id  varinat_start  variant_end  \\\n",
       "0   chr19    58043370-58043569  rs1568603525       58043374     58043375   \n",
       "1   chr19    14430273-14430472  rs1445282456       14430273     14430274   \n",
       "2   chr11    36665374-36665573  rs1272809446       36665483     36665484   \n",
       "3   chr11    36665374-36665573  rs1272809446       36665483     36665484   \n",
       "4   chr11    36665374-36665573   rs374010920       36665484     36665485   \n",
       "..    ...                  ...           ...            ...          ...   \n",
       "85   chr5  173063117-173063316  rs1467363988      173063117    173063118   \n",
       "86   chr5  173063117-173063316  rs1006969018      173063122    173063123   \n",
       "87   chr5  173063117-173063316  rs1393698610      173063124    173063125   \n",
       "88   chr5  173063117-173063316   rs142865666      173063125    173063126   \n",
       "89   chr5  173063117-173063316   rs576541340      173063126    173063127   \n",
       "\n",
       "   ref_neucleotide alternative_neucleotide  \\\n",
       "0                G                       A   \n",
       "1                C                       T   \n",
       "2                C                       A   \n",
       "3                C                       T   \n",
       "4                G                       A   \n",
       "..             ...                     ...   \n",
       "85               G                       T   \n",
       "86               G                       A   \n",
       "87               G                       A   \n",
       "88               C                       T   \n",
       "89               G                       A   \n",
       "\n",
       "                                        reference_seq  \\\n",
       "0   AACGGTAACACAATGTTGTTTGTGGATTTAAACATAGAAAAGGTAC...   \n",
       "1   CCTCGTGATCTGCTCGTCTGGGCCTCCCAAAGTGCTGGGGTGACAG...   \n",
       "2   AAAGCCAGGTCCACCCAATATGGCATCTCCCACCCTCTTTTCCTTG...   \n",
       "3   AAAGCCAGGTCCACCCAATATGGCATCTCCCACCCTCTTTTCCTTG...   \n",
       "4   AAAGCCAGGTCCACCCAATATGGCATCTCCCACCCTCTTTTCCTTG...   \n",
       "..                                                ...   \n",
       "85  GCAGGGTGCGGCAGTAGTATCACCAGCCAAGCCTTATATGCATTTC...   \n",
       "86  GCAGGGTGCGGCAGTAGTATCACCAGCCAAGCCTTATATGCATTTC...   \n",
       "87  GCAGGGTGCGGCAGTAGTATCACCAGCCAAGCCTTATATGCATTTC...   \n",
       "88  GCAGGGTGCGGCAGTAGTATCACCAGCCAAGCCTTATATGCATTTC...   \n",
       "89  GCAGGGTGCGGCAGTAGTATCACCAGCCAAGCCTTATATGCATTTC...   \n",
       "\n",
       "                                              alt_seq  Ref_probab  Alt_probab  \\\n",
       "0   AACGATAACACAATGTTGTTTGTGGATTTAAACATAGAAAAGGTAC...    0.615052    0.098938   \n",
       "1   TCTCGTGATCTGCTCGTCTGGGCCTCCCAAAGTGCTGGGGTGACAG...    0.934020    0.473624   \n",
       "2   AAAGCCAGGTCCACCCAATATGGCATCTCCCACCCTCTTTTCCTTG...    0.901120    0.191165   \n",
       "3   AAAGCCAGGTCCACCCAATATGGCATCTCCCACCCTCTTTTCCTTG...    0.901120    0.188648   \n",
       "4   AAAGCCAGGTCCACCCAATATGGCATCTCCCACCCTCTTTTCCTTG...    0.901120    0.190248   \n",
       "..                                                ...         ...         ...   \n",
       "85  TCAGGGTGCGGCAGTAGTATCACCAGCCAAGCCTTATATGCATTTC...    0.774162    0.302691   \n",
       "86  GCAGGATGCGGCAGTAGTATCACCAGCCAAGCCTTATATGCATTTC...    0.774162    0.358016   \n",
       "87  GCAGGGTACGGCAGTAGTATCACCAGCCAAGCCTTATATGCATTTC...    0.774162    0.291388   \n",
       "88  GCAGGGTGTGGCAGTAGTATCACCAGCCAAGCCTTATATGCATTTC...    0.774162    0.153588   \n",
       "89  GCAGGGTGCAGCAGTAGTATCACCAGCCAAGCCTTATATGCATTTC...    0.774162    0.189937   \n",
       "\n",
       "                                             Ref_attn  \\\n",
       "0   [0.46762298154545595, 0.3226003983980696, 0.42...   \n",
       "1   [0.21987619398132582, 0.1829454213510791, 0.14...   \n",
       "2   [0.12591830751003694, 0.11490679744331603, 0.1...   \n",
       "3   [0.12591830751003694, 0.11490679744331603, 0.1...   \n",
       "4   [0.12591830751003694, 0.11490679744331603, 0.1...   \n",
       "..                                                ...   \n",
       "85  [0.26669833562061396, 0.3322201304143422, 0.36...   \n",
       "86  [0.26669833562061396, 0.3322201304143422, 0.36...   \n",
       "87  [0.26669833562061396, 0.3322201304143422, 0.36...   \n",
       "88  [0.26669833562061396, 0.3322201304143422, 0.36...   \n",
       "89  [0.26669833562061396, 0.3322201304143422, 0.36...   \n",
       "\n",
       "                                             Alt_attn  ScoreChange  \\\n",
       "0   [0.08386260851627693, 0.09312741951431469, 0.0...    -0.317437   \n",
       "1   [0.09995102977748882, 0.10022353426954661, 0.0...    -0.430018   \n",
       "2   [0.1510396271373201, 0.12922091919160034, 0.11...    -0.639755   \n",
       "3   [0.14882453286384564, 0.12815024698064503, 0.1...    -0.642023   \n",
       "4   [0.15191935782823754, 0.13122048651258428, 0.1...    -0.640581   \n",
       "..                                                ...          ...   \n",
       "85  [0.18501197260956828, 0.3197601588845609, 0.32...    -0.364994   \n",
       "86  [0.20553516546397146, 0.33832258853968306, 0.3...    -0.322164   \n",
       "87  [0.18406347812477086, 0.3173320194920988, 0.29...    -0.373745   \n",
       "88  [0.2752677007451412, 0.32930852219864487, 0.33...    -0.480424   \n",
       "89  [0.22017774516147234, 0.25796705527277247, 0.3...    -0.452285   \n",
       "\n",
       "    LogOddRatio  \n",
       "0      3.863067  \n",
       "1      3.975693  \n",
       "2      5.269003  \n",
       "3      5.292603  \n",
       "4      5.277569  \n",
       "..          ...  \n",
       "85     2.981295  \n",
       "86     2.619857  \n",
       "87     3.059402  \n",
       "88     4.239634  \n",
       "89     3.869860  \n",
       "\n",
       "[90 rows x 15 columns]"
      ]
     },
     "execution_count": 37,
     "metadata": {},
     "output_type": "execute_result"
    }
   ],
   "source": [
    "df_interest = df_interest[(df_interest['ScoreChange']>0.10)|(df_interest['ScoreChange']<-0.30)].reset_index(drop=True)\n",
    "df_interest"
   ]
  },
  {
   "cell_type": "code",
   "execution_count": null,
   "id": "f39df713-cd6c-449d-9ab5-eaf737339e63",
   "metadata": {},
   "outputs": [],
   "source": []
  },
  {
   "cell_type": "code",
   "execution_count": 38,
   "id": "093f7729-4425-4f0f-8733-0f0d7a090f36",
   "metadata": {},
   "outputs": [],
   "source": [
    "#df_interest['Z_Score'] = stats.zscore(df['LogOddRatio'])\n",
    "# df_interest['variant_length'] = df_interest['variant_end']-df_interest['varinat_start']\n",
    "# df_interest"
   ]
  },
  {
   "cell_type": "code",
   "execution_count": 39,
   "id": "bceb589c-c238-4ff7-ac3f-2d4924d0013e",
   "metadata": {},
   "outputs": [],
   "source": [
    "# df_interest = df_interest[df_interest['variant_length']==1]\n",
    "# df_interest"
   ]
  },
  {
   "cell_type": "code",
   "execution_count": 40,
   "id": "c23b28a0-db15-486d-9bfc-2d270bb0a01b",
   "metadata": {},
   "outputs": [
    {
     "name": "stdout",
     "output_type": "stream",
     "text": [
      "3.7488327772382415 1.1136768342898755\n"
     ]
    }
   ],
   "source": [
    "mean = df_interest['LogOddRatio'].mean()\n",
    "std = df_interest['LogOddRatio'].std()\n",
    "print(mean, std)"
   ]
  },
  {
   "cell_type": "code",
   "execution_count": 41,
   "id": "e3d80ca2-c6de-4fbf-837b-d16d8a6c97fa",
   "metadata": {},
   "outputs": [
    {
     "data": {
      "text/plain": [
       "8.222153557439267"
      ]
     },
     "execution_count": 41,
     "metadata": {},
     "output_type": "execute_result"
    }
   ],
   "source": [
    "max(df_interest['LogOddRatio'])"
   ]
  },
  {
   "cell_type": "code",
   "execution_count": 42,
   "id": "342a3012-00ea-4dcc-b436-d1a0ca9cc928",
   "metadata": {},
   "outputs": [
    {
     "data": {
      "text/plain": [
       "2.442752839039507"
      ]
     },
     "execution_count": 42,
     "metadata": {},
     "output_type": "execute_result"
    }
   ],
   "source": [
    "min(df_interest['LogOddRatio'])"
   ]
  },
  {
   "cell_type": "code",
   "execution_count": 43,
   "id": "ce700e5c-708b-4214-9cab-695a2f53a80b",
   "metadata": {},
   "outputs": [
    {
     "name": "stdout",
     "output_type": "stream",
     "text": [
      "2.6351559429483657 4.862509611528117\n"
     ]
    },
    {
     "data": {
      "image/png": "[encoded data removed]",
      "text/plain": [
       "<Figure size 640x480 with 1 Axes>"
      ]
     },
     "metadata": {},
     "output_type": "display_data"
    }
   ],
   "source": [
    "#print(z_score, p_value)\n",
    "# Plot the distribution of 'LogOddRatio'\n",
    "\n",
    "sns.kdeplot(df_interest['LogOddRatio'], fill=True, linewidth=1)\n",
    "\n",
    "# # # Get the extreme values for a two tailed test at alpha = 0.05\n",
    "# z_critical = norm.ppf(1 - 0.05/2) # two-tailed test at alpha = 0.05\n",
    "\n",
    "\n",
    "# print(z_critical)\n",
    "x1, x2 = mean +  std, mean - std\n",
    "# x1= 3.3219280948873626\n",
    "# x2 =-3.3219280948873626\n",
    "print(x2, x1)\n",
    "\n",
    "# Shade the area for the two tailed test\n",
    "plt.axvspan(min(df_interest['LogOddRatio']), x2, alpha=0.3, color='red')\n",
    "plt.axvspan(x1, max(df_interest['LogOddRatio']), alpha=0.3, color='red')\n",
    "\n",
    "# Add the observed z-score\n",
    "# plt.text(-17, 0.5, f'Left-tail value = {x2:.2f}', color='blue', ha='left', va='center')\n",
    "# plt.text(-3, 0.54, f'Right-tail value = {x1:.2f}', color='blue', ha='right', va='center')\n",
    "\n",
    "plt.title(f'Distribution of Relative Log Fold changes of Odds for Enhancer Model \\n Left-tail value = {x2:.2f};  Right-tail value = {x1:.2f}')\n",
    "plt.savefig(output_path+ '/Enhancer_LogOddRatio_Distribution.png')\n",
    "plt.show()"
   ]
  },
  {
   "cell_type": "code",
   "execution_count": 44,
   "id": "84f0d768-0f1c-4849-b351-7c833586c8d6",
   "metadata": {},
   "outputs": [],
   "source": [
    "df_selected = df_interest[(df_interest['LogOddRatio']> x1)|(df_interest['LogOddRatio']<  x2)].reset_index(drop=True)"
   ]
  },
  {
   "cell_type": "code",
   "execution_count": 45,
   "id": "04057128-4ea0-4ec6-a6ad-c4ec91076780",
   "metadata": {},
   "outputs": [
    {
     "data": {
      "text/html": [
       "<div>\n",
       "<style scoped>\n",
       "    .dataframe tbody tr th:only-of-type {\n",
       "        vertical-align: middle;\n",
       "    }\n",
       "\n",
       "    .dataframe tbody tr th {\n",
       "        vertical-align: top;\n",
       "    }\n",
       "\n",
       "    .dataframe thead th {\n",
       "        text-align: right;\n",
       "    }\n",
       "</style>\n",
       "<table border=\"1\" class=\"dataframe\">\n",
       "  <thead>\n",
       "    <tr style=\"text-align: right;\">\n",
       "      <th></th>\n",
       "      <th>chr</th>\n",
       "      <th>Enhancer_coordinates</th>\n",
       "      <th>dbsnp_id</th>\n",
       "      <th>varinat_start</th>\n",
       "      <th>variant_end</th>\n",
       "      <th>ref_neucleotide</th>\n",
       "      <th>alternative_neucleotide</th>\n",
       "      <th>reference_seq</th>\n",
       "      <th>alt_seq</th>\n",
       "      <th>Ref_probab</th>\n",
       "      <th>Alt_probab</th>\n",
       "      <th>Ref_attn</th>\n",
       "      <th>Alt_attn</th>\n",
       "      <th>ScoreChange</th>\n",
       "      <th>LogOddRatio</th>\n",
       "    </tr>\n",
       "  </thead>\n",
       "  <tbody>\n",
       "    <tr>\n",
       "      <th>0</th>\n",
       "      <td>chr11</td>\n",
       "      <td>36665374-36665573</td>\n",
       "      <td>rs1272809446</td>\n",
       "      <td>36665483</td>\n",
       "      <td>36665484</td>\n",
       "      <td>C</td>\n",
       "      <td>A</td>\n",
       "      <td>AAAGCCAGGTCCACCCAATATGGCATCTCCCACCCTCTTTTCCTTG...</td>\n",
       "      <td>AAAGCCAGGTCCACCCAATATGGCATCTCCCACCCTCTTTTCCTTG...</td>\n",
       "      <td>0.901120</td>\n",
       "      <td>0.191165</td>\n",
       "      <td>[0.12591830751003694, 0.11490679744331603, 0.1...</td>\n",
       "      <td>[0.1510396271373201, 0.12922091919160034, 0.11...</td>\n",
       "      <td>-0.639755</td>\n",
       "      <td>5.269003</td>\n",
       "    </tr>\n",
       "    <tr>\n",
       "      <th>1</th>\n",
       "      <td>chr11</td>\n",
       "      <td>36665374-36665573</td>\n",
       "      <td>rs1272809446</td>\n",
       "      <td>36665483</td>\n",
       "      <td>36665484</td>\n",
       "      <td>C</td>\n",
       "      <td>T</td>\n",
       "      <td>AAAGCCAGGTCCACCCAATATGGCATCTCCCACCCTCTTTTCCTTG...</td>\n",
       "      <td>AAAGCCAGGTCCACCCAATATGGCATCTCCCACCCTCTTTTCCTTG...</td>\n",
       "      <td>0.901120</td>\n",
       "      <td>0.188648</td>\n",
       "      <td>[0.12591830751003694, 0.11490679744331603, 0.1...</td>\n",
       "      <td>[0.14882453286384564, 0.12815024698064503, 0.1...</td>\n",
       "      <td>-0.642023</td>\n",
       "      <td>5.292603</td>\n",
       "    </tr>\n",
       "    <tr>\n",
       "      <th>2</th>\n",
       "      <td>chr11</td>\n",
       "      <td>36665374-36665573</td>\n",
       "      <td>rs374010920</td>\n",
       "      <td>36665484</td>\n",
       "      <td>36665485</td>\n",
       "      <td>G</td>\n",
       "      <td>A</td>\n",
       "      <td>AAAGCCAGGTCCACCCAATATGGCATCTCCCACCCTCTTTTCCTTG...</td>\n",
       "      <td>AAAGCCAGGTCCACCCAATATGGCATCTCCCACCCTCTTTTCCTTG...</td>\n",
       "      <td>0.901120</td>\n",
       "      <td>0.190248</td>\n",
       "      <td>[0.12591830751003694, 0.11490679744331603, 0.1...</td>\n",
       "      <td>[0.15191935782823754, 0.13122048651258428, 0.1...</td>\n",
       "      <td>-0.640581</td>\n",
       "      <td>5.277569</td>\n",
       "    </tr>\n",
       "    <tr>\n",
       "      <th>3</th>\n",
       "      <td>chr9</td>\n",
       "      <td>116480840-116481039</td>\n",
       "      <td>rs1849145440</td>\n",
       "      <td>116480856</td>\n",
       "      <td>116480857</td>\n",
       "      <td>C</td>\n",
       "      <td>T</td>\n",
       "      <td>GTGTGGGAGAAGAACGCCAACCTGCTGGAAGGCTGTGAACATATGG...</td>\n",
       "      <td>GTGTGGGAGAAGAACGTCAACCTGCTGGAAGGCTGTGAACATATGG...</td>\n",
       "      <td>0.799859</td>\n",
       "      <td>0.413545</td>\n",
       "      <td>[0.04789442576528577, 0.052447286137084305, 0....</td>\n",
       "      <td>[0.04783075774648674, 0.05416605494331119, 0.0...</td>\n",
       "      <td>-0.308996</td>\n",
       "      <td>2.502700</td>\n",
       "    </tr>\n",
       "    <tr>\n",
       "      <th>4</th>\n",
       "      <td>chrX</td>\n",
       "      <td>53274755-53274954</td>\n",
       "      <td>rs1307860155</td>\n",
       "      <td>53274755</td>\n",
       "      <td>53274756</td>\n",
       "      <td>C</td>\n",
       "      <td>T</td>\n",
       "      <td>CGGCCTGCTTTAGCTGCATTTCTTTAACTATTAGTAAGCTTGGGCA...</td>\n",
       "      <td>TGGCCTGCTTTAGCTGCATTTCTTTAACTATTAGTAAGCTTGGGCA...</td>\n",
       "      <td>0.928652</td>\n",
       "      <td>0.044870</td>\n",
       "      <td>[0.5338239438467532, 0.42635074129796147, 0.34...</td>\n",
       "      <td>[0.21639029212305627, 0.4097562359761626, 0.30...</td>\n",
       "      <td>-0.820726</td>\n",
       "      <td>8.114067</td>\n",
       "    </tr>\n",
       "    <tr>\n",
       "      <th>5</th>\n",
       "      <td>chrX</td>\n",
       "      <td>53274755-53274954</td>\n",
       "      <td>rs1428346052</td>\n",
       "      <td>53274756</td>\n",
       "      <td>53274757</td>\n",
       "      <td>G</td>\n",
       "      <td>A</td>\n",
       "      <td>CGGCCTGCTTTAGCTGCATTTCTTTAACTATTAGTAAGCTTGGGCA...</td>\n",
       "      <td>CAGCCTGCTTTAGCTGCATTTCTTTAACTATTAGTAAGCTTGGGCA...</td>\n",
       "      <td>0.928652</td>\n",
       "      <td>0.041766</td>\n",
       "      <td>[0.5338239438467532, 0.42635074129796147, 0.34...</td>\n",
       "      <td>[0.3178155701151633, 0.3521197786774463, 0.267...</td>\n",
       "      <td>-0.823608</td>\n",
       "      <td>8.222154</td>\n",
       "    </tr>\n",
       "    <tr>\n",
       "      <th>6</th>\n",
       "      <td>chrX</td>\n",
       "      <td>53274755-53274954</td>\n",
       "      <td>rs1556869190</td>\n",
       "      <td>53274757</td>\n",
       "      <td>53274758</td>\n",
       "      <td>G</td>\n",
       "      <td>A</td>\n",
       "      <td>CGGCCTGCTTTAGCTGCATTTCTTTAACTATTAGTAAGCTTGGGCA...</td>\n",
       "      <td>CGACCTGCTTTAGCTGCATTTCTTTAACTATTAGTAAGCTTGGGCA...</td>\n",
       "      <td>0.928652</td>\n",
       "      <td>0.174463</td>\n",
       "      <td>[0.5338239438467532, 0.42635074129796147, 0.34...</td>\n",
       "      <td>[0.3520173070382338, 0.3900381822882202, 0.313...</td>\n",
       "      <td>-0.700379</td>\n",
       "      <td>5.944605</td>\n",
       "    </tr>\n",
       "    <tr>\n",
       "      <th>7</th>\n",
       "      <td>chrX</td>\n",
       "      <td>53274755-53274954</td>\n",
       "      <td>rs2074801574</td>\n",
       "      <td>53274759</td>\n",
       "      <td>53274760</td>\n",
       "      <td>C</td>\n",
       "      <td>A</td>\n",
       "      <td>CGGCCTGCTTTAGCTGCATTTCTTTAACTATTAGTAAGCTTGGGCA...</td>\n",
       "      <td>CGGCATGCTTTAGCTGCATTTCTTTAACTATTAGTAAGCTTGGGCA...</td>\n",
       "      <td>0.928652</td>\n",
       "      <td>0.161977</td>\n",
       "      <td>[0.5338239438467532, 0.42635074129796147, 0.34...</td>\n",
       "      <td>[0.4576392671363028, 0.2983736556654264, 0.235...</td>\n",
       "      <td>-0.711975</td>\n",
       "      <td>6.073397</td>\n",
       "    </tr>\n",
       "    <tr>\n",
       "      <th>8</th>\n",
       "      <td>chr12</td>\n",
       "      <td>31814186-31814385</td>\n",
       "      <td>rs980108068</td>\n",
       "      <td>31814368</td>\n",
       "      <td>31814369</td>\n",
       "      <td>C</td>\n",
       "      <td>T</td>\n",
       "      <td>CAAGAAAAGTAAGAAAAATGATGTGGGGAATCTTTTAACAAATGAT...</td>\n",
       "      <td>CAAGAAAAGTAAGAAAAATGATGTGGGGAATCTTTTAACAAATGAT...</td>\n",
       "      <td>0.801413</td>\n",
       "      <td>0.426038</td>\n",
       "      <td>[0.05685886473591326, 0.060311671021813465, 0....</td>\n",
       "      <td>[0.06414055779615309, 0.06904155121945584, 0.0...</td>\n",
       "      <td>-0.300831</td>\n",
       "      <td>2.442753</td>\n",
       "    </tr>\n",
       "    <tr>\n",
       "      <th>9</th>\n",
       "      <td>chr6</td>\n",
       "      <td>34263900-34264099</td>\n",
       "      <td>rs1763098867</td>\n",
       "      <td>34263908</td>\n",
       "      <td>34263909</td>\n",
       "      <td>G</td>\n",
       "      <td>T</td>\n",
       "      <td>CAGCCTTCGCGGCCTGGGCTCATGTGATCCTCCCATCTTCACTTCC...</td>\n",
       "      <td>CAGCCTTCTCGGCCTGGGCTCATGTGATCCTCCCATCTTCACTTCC...</td>\n",
       "      <td>0.844904</td>\n",
       "      <td>0.105673</td>\n",
       "      <td>[0.11029014487149927, 0.10267235115036707, 0.0...</td>\n",
       "      <td>[0.1385389610039522, 0.12783433111242556, 0.11...</td>\n",
       "      <td>-0.624579</td>\n",
       "      <td>5.526817</td>\n",
       "    </tr>\n",
       "    <tr>\n",
       "      <th>10</th>\n",
       "      <td>chr6</td>\n",
       "      <td>34263900-34264099</td>\n",
       "      <td>rs1763098895</td>\n",
       "      <td>34263909</td>\n",
       "      <td>34263910</td>\n",
       "      <td>C</td>\n",
       "      <td>T</td>\n",
       "      <td>CAGCCTTCGCGGCCTGGGCTCATGTGATCCTCCCATCTTCACTTCC...</td>\n",
       "      <td>CAGCCTTCGTGGCCTGGGCTCATGTGATCCTCCCATCTTCACTTCC...</td>\n",
       "      <td>0.844904</td>\n",
       "      <td>0.122615</td>\n",
       "      <td>[0.11029014487149927, 0.10267235115036707, 0.0...</td>\n",
       "      <td>[0.12419394804677882, 0.11680225181936306, 0.1...</td>\n",
       "      <td>-0.610265</td>\n",
       "      <td>5.284697</td>\n",
       "    </tr>\n",
       "    <tr>\n",
       "      <th>11</th>\n",
       "      <td>chr6</td>\n",
       "      <td>135362297-135362496</td>\n",
       "      <td>rs115568319</td>\n",
       "      <td>135362312</td>\n",
       "      <td>135362313</td>\n",
       "      <td>G</td>\n",
       "      <td>A</td>\n",
       "      <td>TGGGTAGATGGTAGCGGGATTGCTGGAGCAAAAGCGCTACTTTTCT...</td>\n",
       "      <td>TGGGTAGATGGTAGCAGGATTGCTGGAGCAAAAGCGCTACTTTTCT...</td>\n",
       "      <td>0.723986</td>\n",
       "      <td>0.304990</td>\n",
       "      <td>[0.12500766927958776, 0.10141396702184463, 0.1...</td>\n",
       "      <td>[0.1163557482118133, 0.0889919777587903, 0.104...</td>\n",
       "      <td>-0.303347</td>\n",
       "      <td>2.579490</td>\n",
       "    </tr>\n",
       "    <tr>\n",
       "      <th>12</th>\n",
       "      <td>chr6</td>\n",
       "      <td>13658492-13658691</td>\n",
       "      <td>rs6459003</td>\n",
       "      <td>13658565</td>\n",
       "      <td>13658566</td>\n",
       "      <td>C</td>\n",
       "      <td>T</td>\n",
       "      <td>CAGCTACTTGGGAGGCTGAGGGCAGGAAAACCGCTTGATCCCAGGA...</td>\n",
       "      <td>CAGCTACTTGGGAGGCTGAGGGCAGGAAAACCGCTTGATCCCAGGA...</td>\n",
       "      <td>0.843663</td>\n",
       "      <td>0.472555</td>\n",
       "      <td>[0.15307513846686444, 0.15561469571701153, 0.1...</td>\n",
       "      <td>[0.1521550200115844, 0.16058070557009327, 0.14...</td>\n",
       "      <td>-0.313090</td>\n",
       "      <td>2.590546</td>\n",
       "    </tr>\n",
       "    <tr>\n",
       "      <th>13</th>\n",
       "      <td>chr10</td>\n",
       "      <td>71675286-71675485</td>\n",
       "      <td>rs1319478614</td>\n",
       "      <td>71675483</td>\n",
       "      <td>71675484</td>\n",
       "      <td>G</td>\n",
       "      <td>T</td>\n",
       "      <td>TGTGGCTAGAGCACTGGACTGGAAGTTGGAACCCATGGGCACTGTG...</td>\n",
       "      <td>TGTGGCTAGAGCACTGGACTGGAAGTTGGAACCCATGGGCACTGTG...</td>\n",
       "      <td>0.793625</td>\n",
       "      <td>0.401722</td>\n",
       "      <td>[0.09291152498608525, 0.13021961132062665, 0.1...</td>\n",
       "      <td>[0.09686706811259263, 0.1417091794772123, 0.17...</td>\n",
       "      <td>-0.311024</td>\n",
       "      <td>2.517810</td>\n",
       "    </tr>\n",
       "    <tr>\n",
       "      <th>14</th>\n",
       "      <td>chr13</td>\n",
       "      <td>112590269-112590468</td>\n",
       "      <td>rs1038109103</td>\n",
       "      <td>112590270</td>\n",
       "      <td>112590271</td>\n",
       "      <td>C</td>\n",
       "      <td>T</td>\n",
       "      <td>CCGGTCCAGCCATCTTTCTTAACGTGCATACACGATGTGACTCACT...</td>\n",
       "      <td>CTGGTCCAGCCATCTTTCTTAACGTGCATACACGATGTGACTCACT...</td>\n",
       "      <td>0.963333</td>\n",
       "      <td>0.199359</td>\n",
       "      <td>[0.5611634687698202, 0.45428244751184443, 0.37...</td>\n",
       "      <td>[0.4220699592112491, 0.3225600958793094, 0.289...</td>\n",
       "      <td>-0.735960</td>\n",
       "      <td>6.721245</td>\n",
       "    </tr>\n",
       "    <tr>\n",
       "      <th>15</th>\n",
       "      <td>chr3</td>\n",
       "      <td>141570174-141570373</td>\n",
       "      <td>rs984124735</td>\n",
       "      <td>141570281</td>\n",
       "      <td>141570282</td>\n",
       "      <td>C</td>\n",
       "      <td>T</td>\n",
       "      <td>TTTAAAACAAGGTTACTTACGCATTCTGATATGTCTTATCTACTTT...</td>\n",
       "      <td>TTTAAAACAAGGTTACTTACGCATTCTGATATGTCTTATCTACTTT...</td>\n",
       "      <td>0.827724</td>\n",
       "      <td>0.440807</td>\n",
       "      <td>[0.17459669735429162, 0.1714683356120349, 0.15...</td>\n",
       "      <td>[0.18650829924434034, 0.17845113845648852, 0.1...</td>\n",
       "      <td>-0.320260</td>\n",
       "      <td>2.607622</td>\n",
       "    </tr>\n",
       "    <tr>\n",
       "      <th>16</th>\n",
       "      <td>chr1</td>\n",
       "      <td>193107297-193107496</td>\n",
       "      <td>rs1312413082</td>\n",
       "      <td>193107490</td>\n",
       "      <td>193107491</td>\n",
       "      <td>C</td>\n",
       "      <td>T</td>\n",
       "      <td>AAATGGGGAGATGTTGGTCAAAGGGTACAGAGTTTCAATTATGCGA...</td>\n",
       "      <td>AAATGGGGAGATGTTGGTCAAAGGGTACAGAGTTTCAATTATGCGA...</td>\n",
       "      <td>0.732004</td>\n",
       "      <td>0.318712</td>\n",
       "      <td>[0.14084597353914313, 0.1397520873090819, 0.12...</td>\n",
       "      <td>[0.14406067149373494, 0.14439072077276668, 0.1...</td>\n",
       "      <td>-0.302532</td>\n",
       "      <td>2.545657</td>\n",
       "    </tr>\n",
       "    <tr>\n",
       "      <th>17</th>\n",
       "      <td>chr1</td>\n",
       "      <td>40497077-40497276</td>\n",
       "      <td>rs867976892</td>\n",
       "      <td>40497088</td>\n",
       "      <td>40497089</td>\n",
       "      <td>C</td>\n",
       "      <td>T</td>\n",
       "      <td>GCAGTGGCTCACGCCTGTAATCCCAGGCGTCTCTACAAAAAAGAAT...</td>\n",
       "      <td>GCAGTGGCTCATGCCTGTAATCCCAGGCGTCTCTACAAAAAAGAAT...</td>\n",
       "      <td>0.768904</td>\n",
       "      <td>0.368927</td>\n",
       "      <td>[0.20342390493811655, 0.1752884938906392, 0.17...</td>\n",
       "      <td>[0.15612444951807933, 0.14922288193828465, 0.1...</td>\n",
       "      <td>-0.307544</td>\n",
       "      <td>2.508783</td>\n",
       "    </tr>\n",
       "    <tr>\n",
       "      <th>18</th>\n",
       "      <td>chr1</td>\n",
       "      <td>40497077-40497276</td>\n",
       "      <td>rs575207992</td>\n",
       "      <td>40497089</td>\n",
       "      <td>40497090</td>\n",
       "      <td>G</td>\n",
       "      <td>A</td>\n",
       "      <td>GCAGTGGCTCACGCCTGTAATCCCAGGCGTCTCTACAAAAAAGAAT...</td>\n",
       "      <td>GCAGTGGCTCACACCTGTAATCCCAGGCGTCTCTACAAAAAAGAAT...</td>\n",
       "      <td>0.768904</td>\n",
       "      <td>0.370324</td>\n",
       "      <td>[0.20342390493811655, 0.1752884938906392, 0.17...</td>\n",
       "      <td>[0.1476784907248364, 0.14204113179463984, 0.14...</td>\n",
       "      <td>-0.306470</td>\n",
       "      <td>2.500136</td>\n",
       "    </tr>\n",
       "    <tr>\n",
       "      <th>19</th>\n",
       "      <td>chr5</td>\n",
       "      <td>173063117-173063316</td>\n",
       "      <td>rs1006969018</td>\n",
       "      <td>173063122</td>\n",
       "      <td>173063123</td>\n",
       "      <td>G</td>\n",
       "      <td>A</td>\n",
       "      <td>GCAGGGTGCGGCAGTAGTATCACCAGCCAAGCCTTATATGCATTTC...</td>\n",
       "      <td>GCAGGATGCGGCAGTAGTATCACCAGCCAAGCCTTATATGCATTTC...</td>\n",
       "      <td>0.774162</td>\n",
       "      <td>0.358016</td>\n",
       "      <td>[0.26669833562061396, 0.3322201304143422, 0.36...</td>\n",
       "      <td>[0.20553516546397146, 0.33832258853968306, 0.3...</td>\n",
       "      <td>-0.322164</td>\n",
       "      <td>2.619857</td>\n",
       "    </tr>\n",
       "  </tbody>\n",
       "</table>\n",
       "</div>"
      ],
      "text/plain": [
       "      chr Enhancer_coordinates      dbsnp_id  varinat_start  variant_end  \\\n",
       "0   chr11    36665374-36665573  rs1272809446       36665483     36665484   \n",
       "1   chr11    36665374-36665573  rs1272809446       36665483     36665484   \n",
       "2   chr11    36665374-36665573   rs374010920       36665484     36665485   \n",
       "3    chr9  116480840-116481039  rs1849145440      116480856    116480857   \n",
       "4    chrX    53274755-53274954  rs1307860155       53274755     53274756   \n",
       "5    chrX    53274755-53274954  rs1428346052       53274756     53274757   \n",
       "6    chrX    53274755-53274954  rs1556869190       53274757     53274758   \n",
       "7    chrX    53274755-53274954  rs2074801574       53274759     53274760   \n",
       "8   chr12    31814186-31814385   rs980108068       31814368     31814369   \n",
       "9    chr6    34263900-34264099  rs1763098867       34263908     34263909   \n",
       "10   chr6    34263900-34264099  rs1763098895       34263909     34263910   \n",
       "11   chr6  135362297-135362496   rs115568319      135362312    135362313   \n",
       "12   chr6    13658492-13658691     rs6459003       13658565     13658566   \n",
       "13  chr10    71675286-71675485  rs1319478614       71675483     71675484   \n",
       "14  chr13  112590269-112590468  rs1038109103      112590270    112590271   \n",
       "15   chr3  141570174-141570373   rs984124735      141570281    141570282   \n",
       "16   chr1  193107297-193107496  rs1312413082      193107490    193107491   \n",
       "17   chr1    40497077-40497276   rs867976892       40497088     40497089   \n",
       "18   chr1    40497077-40497276   rs575207992       40497089     40497090   \n",
       "19   chr5  173063117-173063316  rs1006969018      173063122    173063123   \n",
       "\n",
       "   ref_neucleotide alternative_neucleotide  \\\n",
       "0                C                       A   \n",
       "1                C                       T   \n",
       "2                G                       A   \n",
       "3                C                       T   \n",
       "4                C                       T   \n",
       "5                G                       A   \n",
       "6                G                       A   \n",
       "7                C                       A   \n",
       "8                C                       T   \n",
       "9                G                       T   \n",
       "10               C                       T   \n",
       "11               G                       A   \n",
       "12               C                       T   \n",
       "13               G                       T   \n",
       "14               C                       T   \n",
       "15               C                       T   \n",
       "16               C                       T   \n",
       "17               C                       T   \n",
       "18               G                       A   \n",
       "19               G                       A   \n",
       "\n",
       "                                        reference_seq  \\\n",
       "0   AAAGCCAGGTCCACCCAATATGGCATCTCCCACCCTCTTTTCCTTG...   \n",
       "1   AAAGCCAGGTCCACCCAATATGGCATCTCCCACCCTCTTTTCCTTG...   \n",
       "2   AAAGCCAGGTCCACCCAATATGGCATCTCCCACCCTCTTTTCCTTG...   \n",
       "3   GTGTGGGAGAAGAACGCCAACCTGCTGGAAGGCTGTGAACATATGG...   \n",
       "4   CGGCCTGCTTTAGCTGCATTTCTTTAACTATTAGTAAGCTTGGGCA...   \n",
       "5   CGGCCTGCTTTAGCTGCATTTCTTTAACTATTAGTAAGCTTGGGCA...   \n",
       "6   CGGCCTGCTTTAGCTGCATTTCTTTAACTATTAGTAAGCTTGGGCA...   \n",
       "7   CGGCCTGCTTTAGCTGCATTTCTTTAACTATTAGTAAGCTTGGGCA...   \n",
       "8   CAAGAAAAGTAAGAAAAATGATGTGGGGAATCTTTTAACAAATGAT...   \n",
       "9   CAGCCTTCGCGGCCTGGGCTCATGTGATCCTCCCATCTTCACTTCC...   \n",
       "10  CAGCCTTCGCGGCCTGGGCTCATGTGATCCTCCCATCTTCACTTCC...   \n",
       "11  TGGGTAGATGGTAGCGGGATTGCTGGAGCAAAAGCGCTACTTTTCT...   \n",
       "12  CAGCTACTTGGGAGGCTGAGGGCAGGAAAACCGCTTGATCCCAGGA...   \n",
       "13  TGTGGCTAGAGCACTGGACTGGAAGTTGGAACCCATGGGCACTGTG...   \n",
       "14  CCGGTCCAGCCATCTTTCTTAACGTGCATACACGATGTGACTCACT...   \n",
       "15  TTTAAAACAAGGTTACTTACGCATTCTGATATGTCTTATCTACTTT...   \n",
       "16  AAATGGGGAGATGTTGGTCAAAGGGTACAGAGTTTCAATTATGCGA...   \n",
       "17  GCAGTGGCTCACGCCTGTAATCCCAGGCGTCTCTACAAAAAAGAAT...   \n",
       "18  GCAGTGGCTCACGCCTGTAATCCCAGGCGTCTCTACAAAAAAGAAT...   \n",
       "19  GCAGGGTGCGGCAGTAGTATCACCAGCCAAGCCTTATATGCATTTC...   \n",
       "\n",
       "                                              alt_seq  Ref_probab  Alt_probab  \\\n",
       "0   AAAGCCAGGTCCACCCAATATGGCATCTCCCACCCTCTTTTCCTTG...    0.901120    0.191165   \n",
       "1   AAAGCCAGGTCCACCCAATATGGCATCTCCCACCCTCTTTTCCTTG...    0.901120    0.188648   \n",
       "2   AAAGCCAGGTCCACCCAATATGGCATCTCCCACCCTCTTTTCCTTG...    0.901120    0.190248   \n",
       "3   GTGTGGGAGAAGAACGTCAACCTGCTGGAAGGCTGTGAACATATGG...    0.799859    0.413545   \n",
       "4   TGGCCTGCTTTAGCTGCATTTCTTTAACTATTAGTAAGCTTGGGCA...    0.928652    0.044870   \n",
       "5   CAGCCTGCTTTAGCTGCATTTCTTTAACTATTAGTAAGCTTGGGCA...    0.928652    0.041766   \n",
       "6   CGACCTGCTTTAGCTGCATTTCTTTAACTATTAGTAAGCTTGGGCA...    0.928652    0.174463   \n",
       "7   CGGCATGCTTTAGCTGCATTTCTTTAACTATTAGTAAGCTTGGGCA...    0.928652    0.161977   \n",
       "8   CAAGAAAAGTAAGAAAAATGATGTGGGGAATCTTTTAACAAATGAT...    0.801413    0.426038   \n",
       "9   CAGCCTTCTCGGCCTGGGCTCATGTGATCCTCCCATCTTCACTTCC...    0.844904    0.105673   \n",
       "10  CAGCCTTCGTGGCCTGGGCTCATGTGATCCTCCCATCTTCACTTCC...    0.844904    0.122615   \n",
       "11  TGGGTAGATGGTAGCAGGATTGCTGGAGCAAAAGCGCTACTTTTCT...    0.723986    0.304990   \n",
       "12  CAGCTACTTGGGAGGCTGAGGGCAGGAAAACCGCTTGATCCCAGGA...    0.843663    0.472555   \n",
       "13  TGTGGCTAGAGCACTGGACTGGAAGTTGGAACCCATGGGCACTGTG...    0.793625    0.401722   \n",
       "14  CTGGTCCAGCCATCTTTCTTAACGTGCATACACGATGTGACTCACT...    0.963333    0.199359   \n",
       "15  TTTAAAACAAGGTTACTTACGCATTCTGATATGTCTTATCTACTTT...    0.827724    0.440807   \n",
       "16  AAATGGGGAGATGTTGGTCAAAGGGTACAGAGTTTCAATTATGCGA...    0.732004    0.318712   \n",
       "17  GCAGTGGCTCATGCCTGTAATCCCAGGCGTCTCTACAAAAAAGAAT...    0.768904    0.368927   \n",
       "18  GCAGTGGCTCACACCTGTAATCCCAGGCGTCTCTACAAAAAAGAAT...    0.768904    0.370324   \n",
       "19  GCAGGATGCGGCAGTAGTATCACCAGCCAAGCCTTATATGCATTTC...    0.774162    0.358016   \n",
       "\n",
       "                                             Ref_attn  \\\n",
       "0   [0.12591830751003694, 0.11490679744331603, 0.1...   \n",
       "1   [0.12591830751003694, 0.11490679744331603, 0.1...   \n",
       "2   [0.12591830751003694, 0.11490679744331603, 0.1...   \n",
       "3   [0.04789442576528577, 0.052447286137084305, 0....   \n",
       "4   [0.5338239438467532, 0.42635074129796147, 0.34...   \n",
       "5   [0.5338239438467532, 0.42635074129796147, 0.34...   \n",
       "6   [0.5338239438467532, 0.42635074129796147, 0.34...   \n",
       "7   [0.5338239438467532, 0.42635074129796147, 0.34...   \n",
       "8   [0.05685886473591326, 0.060311671021813465, 0....   \n",
       "9   [0.11029014487149927, 0.10267235115036707, 0.0...   \n",
       "10  [0.11029014487149927, 0.10267235115036707, 0.0...   \n",
       "11  [0.12500766927958776, 0.10141396702184463, 0.1...   \n",
       "12  [0.15307513846686444, 0.15561469571701153, 0.1...   \n",
       "13  [0.09291152498608525, 0.13021961132062665, 0.1...   \n",
       "14  [0.5611634687698202, 0.45428244751184443, 0.37...   \n",
       "15  [0.17459669735429162, 0.1714683356120349, 0.15...   \n",
       "16  [0.14084597353914313, 0.1397520873090819, 0.12...   \n",
       "17  [0.20342390493811655, 0.1752884938906392, 0.17...   \n",
       "18  [0.20342390493811655, 0.1752884938906392, 0.17...   \n",
       "19  [0.26669833562061396, 0.3322201304143422, 0.36...   \n",
       "\n",
       "                                             Alt_attn  ScoreChange  \\\n",
       "0   [0.1510396271373201, 0.12922091919160034, 0.11...    -0.639755   \n",
       "1   [0.14882453286384564, 0.12815024698064503, 0.1...    -0.642023   \n",
       "2   [0.15191935782823754, 0.13122048651258428, 0.1...    -0.640581   \n",
       "3   [0.04783075774648674, 0.05416605494331119, 0.0...    -0.308996   \n",
       "4   [0.21639029212305627, 0.4097562359761626, 0.30...    -0.820726   \n",
       "5   [0.3178155701151633, 0.3521197786774463, 0.267...    -0.823608   \n",
       "6   [0.3520173070382338, 0.3900381822882202, 0.313...    -0.700379   \n",
       "7   [0.4576392671363028, 0.2983736556654264, 0.235...    -0.711975   \n",
       "8   [0.06414055779615309, 0.06904155121945584, 0.0...    -0.300831   \n",
       "9   [0.1385389610039522, 0.12783433111242556, 0.11...    -0.624579   \n",
       "10  [0.12419394804677882, 0.11680225181936306, 0.1...    -0.610265   \n",
       "11  [0.1163557482118133, 0.0889919777587903, 0.104...    -0.303347   \n",
       "12  [0.1521550200115844, 0.16058070557009327, 0.14...    -0.313090   \n",
       "13  [0.09686706811259263, 0.1417091794772123, 0.17...    -0.311024   \n",
       "14  [0.4220699592112491, 0.3225600958793094, 0.289...    -0.735960   \n",
       "15  [0.18650829924434034, 0.17845113845648852, 0.1...    -0.320260   \n",
       "16  [0.14406067149373494, 0.14439072077276668, 0.1...    -0.302532   \n",
       "17  [0.15612444951807933, 0.14922288193828465, 0.1...    -0.307544   \n",
       "18  [0.1476784907248364, 0.14204113179463984, 0.14...    -0.306470   \n",
       "19  [0.20553516546397146, 0.33832258853968306, 0.3...    -0.322164   \n",
       "\n",
       "    LogOddRatio  \n",
       "0      5.269003  \n",
       "1      5.292603  \n",
       "2      5.277569  \n",
       "3      2.502700  \n",
       "4      8.114067  \n",
       "5      8.222154  \n",
       "6      5.944605  \n",
       "7      6.073397  \n",
       "8      2.442753  \n",
       "9      5.526817  \n",
       "10     5.284697  \n",
       "11     2.579490  \n",
       "12     2.590546  \n",
       "13     2.517810  \n",
       "14     6.721245  \n",
       "15     2.607622  \n",
       "16     2.545657  \n",
       "17     2.508783  \n",
       "18     2.500136  \n",
       "19     2.619857  "
      ]
     },
     "execution_count": 45,
     "metadata": {},
     "output_type": "execute_result"
    }
   ],
   "source": [
    "df_selected"
   ]
  },
  {
   "cell_type": "code",
   "execution_count": 46,
   "id": "f5638ad2-5638-4276-aa2e-8a104bdf1792",
   "metadata": {},
   "outputs": [
    {
     "data": {
      "text/plain": [
       "19"
      ]
     },
     "execution_count": 46,
     "metadata": {},
     "output_type": "execute_result"
    }
   ],
   "source": [
    "len(df_selected['dbsnp_id'].unique())"
   ]
  },
  {
   "cell_type": "code",
   "execution_count": 47,
   "id": "e347cd8c-47b1-4ab0-a219-fadfcf5c4388",
   "metadata": {},
   "outputs": [
    {
     "data": {
      "text/plain": [
       "13"
      ]
     },
     "execution_count": 47,
     "metadata": {},
     "output_type": "execute_result"
    }
   ],
   "source": [
    "len(df_selected['Enhancer_coordinates'].unique())"
   ]
  },
  {
   "cell_type": "code",
   "execution_count": 48,
   "id": "e4b45748-5c56-46e3-a839-658bfea9d241",
   "metadata": {},
   "outputs": [],
   "source": [
    "df_selected.to_csv(output_path+\"/Enhancer_candidates_stringent_new.tsv\", sep= \"\\t\", index=False)\n",
    "# Save to a .tsv file\n",
    "df_selected[['dbsnp_id', 'varinat_start','variant_end']].drop_duplicates().to_csv(output_path+\"/Unique_DBSNP_stringent_new.tsv\", sep=\"\\t\",  index=False)\n",
    "df_selected[['chr','Enhancer_coordinates']].drop_duplicates().to_csv(output_path+\"/Unique_Enhancers_stringent_new.tsv\", sep=\"\\t\", index=False)"
   ]
  },
  {
   "cell_type": "markdown",
   "id": "f9062858-b484-4db7-9104-ca52d51e6dea",
   "metadata": {},
   "source": [
    "# Visualization"
   ]
  },
  {
   "cell_type": "code",
   "execution_count": 49,
   "id": "88a1c77f-8766-4d40-b593-4359b2d34c7f",
   "metadata": {},
   "outputs": [],
   "source": [
    "# Splitting the 'Enhancer_coordinates' column into 'Enhancer_start' and 'Enhancer_end'\n",
    "df_selected[['Enhancer_start', 'Enhancer_end']] = df_selected['Enhancer_coordinates'].str.split('-', expand=True)\n",
    "\n",
    "# Dropping the 'index' and 'Enhancer_coordinates' columns\n",
    "df_selected.drop(columns=['Enhancer_coordinates'], inplace=True)\n",
    "# Reordering columns to make 'Enhancer_start' and 'Enhancer_end' the 2nd and 3rd columns\n",
    "cols = df_selected.columns.tolist()\n",
    "# Position where you want to insert the new columns\n",
    "position = 1\n",
    "# Rearranging the column order\n",
    "new_cols = cols[:position] + ['Enhancer_start', 'Enhancer_end'] + cols[position:-2]\n",
    "df_selected = df_selected[new_cols]"
   ]
  },
  {
   "cell_type": "code",
   "execution_count": 50,
   "id": "1c5cbbd0-a10f-4801-af26-5f18041f06aa",
   "metadata": {},
   "outputs": [],
   "source": [
    "df_selected['Enhancer_start'] = df_selected['Enhancer_start'].astype(int)\n",
    "df_selected['Enhancer_end'] = df_selected['Enhancer_end'].astype(int)"
   ]
  },
  {
   "cell_type": "code",
   "execution_count": 51,
   "id": "f2ba8eee-4d4d-4c10-8597-c587ccb9b8e2",
   "metadata": {},
   "outputs": [
    {
     "data": {
      "text/html": [
       "<div>\n",
       "<style scoped>\n",
       "    .dataframe tbody tr th:only-of-type {\n",
       "        vertical-align: middle;\n",
       "    }\n",
       "\n",
       "    .dataframe tbody tr th {\n",
       "        vertical-align: top;\n",
       "    }\n",
       "\n",
       "    .dataframe thead th {\n",
       "        text-align: right;\n",
       "    }\n",
       "</style>\n",
       "<table border=\"1\" class=\"dataframe\">\n",
       "  <thead>\n",
       "    <tr style=\"text-align: right;\">\n",
       "      <th></th>\n",
       "      <th>chr</th>\n",
       "      <th>Enhancer_start</th>\n",
       "      <th>Enhancer_end</th>\n",
       "      <th>dbsnp_id</th>\n",
       "      <th>varinat_start</th>\n",
       "      <th>variant_end</th>\n",
       "      <th>ref_neucleotide</th>\n",
       "      <th>alternative_neucleotide</th>\n",
       "      <th>reference_seq</th>\n",
       "      <th>alt_seq</th>\n",
       "      <th>Ref_probab</th>\n",
       "      <th>Alt_probab</th>\n",
       "      <th>Ref_attn</th>\n",
       "      <th>Alt_attn</th>\n",
       "      <th>ScoreChange</th>\n",
       "      <th>LogOddRatio</th>\n",
       "    </tr>\n",
       "  </thead>\n",
       "  <tbody>\n",
       "    <tr>\n",
       "      <th>0</th>\n",
       "      <td>chr11</td>\n",
       "      <td>36665374</td>\n",
       "      <td>36665573</td>\n",
       "      <td>rs1272809446</td>\n",
       "      <td>36665483</td>\n",
       "      <td>36665484</td>\n",
       "      <td>C</td>\n",
       "      <td>A</td>\n",
       "      <td>AAAGCCAGGTCCACCCAATATGGCATCTCCCACCCTCTTTTCCTTG...</td>\n",
       "      <td>AAAGCCAGGTCCACCCAATATGGCATCTCCCACCCTCTTTTCCTTG...</td>\n",
       "      <td>0.901120</td>\n",
       "      <td>0.191165</td>\n",
       "      <td>[0.12591830751003694, 0.11490679744331603, 0.1...</td>\n",
       "      <td>[0.1510396271373201, 0.12922091919160034, 0.11...</td>\n",
       "      <td>-0.639755</td>\n",
       "      <td>5.269003</td>\n",
       "    </tr>\n",
       "    <tr>\n",
       "      <th>1</th>\n",
       "      <td>chr11</td>\n",
       "      <td>36665374</td>\n",
       "      <td>36665573</td>\n",
       "      <td>rs1272809446</td>\n",
       "      <td>36665483</td>\n",
       "      <td>36665484</td>\n",
       "      <td>C</td>\n",
       "      <td>T</td>\n",
       "      <td>AAAGCCAGGTCCACCCAATATGGCATCTCCCACCCTCTTTTCCTTG...</td>\n",
       "      <td>AAAGCCAGGTCCACCCAATATGGCATCTCCCACCCTCTTTTCCTTG...</td>\n",
       "      <td>0.901120</td>\n",
       "      <td>0.188648</td>\n",
       "      <td>[0.12591830751003694, 0.11490679744331603, 0.1...</td>\n",
       "      <td>[0.14882453286384564, 0.12815024698064503, 0.1...</td>\n",
       "      <td>-0.642023</td>\n",
       "      <td>5.292603</td>\n",
       "    </tr>\n",
       "    <tr>\n",
       "      <th>2</th>\n",
       "      <td>chr11</td>\n",
       "      <td>36665374</td>\n",
       "      <td>36665573</td>\n",
       "      <td>rs374010920</td>\n",
       "      <td>36665484</td>\n",
       "      <td>36665485</td>\n",
       "      <td>G</td>\n",
       "      <td>A</td>\n",
       "      <td>AAAGCCAGGTCCACCCAATATGGCATCTCCCACCCTCTTTTCCTTG...</td>\n",
       "      <td>AAAGCCAGGTCCACCCAATATGGCATCTCCCACCCTCTTTTCCTTG...</td>\n",
       "      <td>0.901120</td>\n",
       "      <td>0.190248</td>\n",
       "      <td>[0.12591830751003694, 0.11490679744331603, 0.1...</td>\n",
       "      <td>[0.15191935782823754, 0.13122048651258428, 0.1...</td>\n",
       "      <td>-0.640581</td>\n",
       "      <td>5.277569</td>\n",
       "    </tr>\n",
       "    <tr>\n",
       "      <th>3</th>\n",
       "      <td>chr9</td>\n",
       "      <td>116480840</td>\n",
       "      <td>116481039</td>\n",
       "      <td>rs1849145440</td>\n",
       "      <td>116480856</td>\n",
       "      <td>116480857</td>\n",
       "      <td>C</td>\n",
       "      <td>T</td>\n",
       "      <td>GTGTGGGAGAAGAACGCCAACCTGCTGGAAGGCTGTGAACATATGG...</td>\n",
       "      <td>GTGTGGGAGAAGAACGTCAACCTGCTGGAAGGCTGTGAACATATGG...</td>\n",
       "      <td>0.799859</td>\n",
       "      <td>0.413545</td>\n",
       "      <td>[0.04789442576528577, 0.052447286137084305, 0....</td>\n",
       "      <td>[0.04783075774648674, 0.05416605494331119, 0.0...</td>\n",
       "      <td>-0.308996</td>\n",
       "      <td>2.502700</td>\n",
       "    </tr>\n",
       "    <tr>\n",
       "      <th>4</th>\n",
       "      <td>chrX</td>\n",
       "      <td>53274755</td>\n",
       "      <td>53274954</td>\n",
       "      <td>rs1307860155</td>\n",
       "      <td>53274755</td>\n",
       "      <td>53274756</td>\n",
       "      <td>C</td>\n",
       "      <td>T</td>\n",
       "      <td>CGGCCTGCTTTAGCTGCATTTCTTTAACTATTAGTAAGCTTGGGCA...</td>\n",
       "      <td>TGGCCTGCTTTAGCTGCATTTCTTTAACTATTAGTAAGCTTGGGCA...</td>\n",
       "      <td>0.928652</td>\n",
       "      <td>0.044870</td>\n",
       "      <td>[0.5338239438467532, 0.42635074129796147, 0.34...</td>\n",
       "      <td>[0.21639029212305627, 0.4097562359761626, 0.30...</td>\n",
       "      <td>-0.820726</td>\n",
       "      <td>8.114067</td>\n",
       "    </tr>\n",
       "    <tr>\n",
       "      <th>5</th>\n",
       "      <td>chrX</td>\n",
       "      <td>53274755</td>\n",
       "      <td>53274954</td>\n",
       "      <td>rs1428346052</td>\n",
       "      <td>53274756</td>\n",
       "      <td>53274757</td>\n",
       "      <td>G</td>\n",
       "      <td>A</td>\n",
       "      <td>CGGCCTGCTTTAGCTGCATTTCTTTAACTATTAGTAAGCTTGGGCA...</td>\n",
       "      <td>CAGCCTGCTTTAGCTGCATTTCTTTAACTATTAGTAAGCTTGGGCA...</td>\n",
       "      <td>0.928652</td>\n",
       "      <td>0.041766</td>\n",
       "      <td>[0.5338239438467532, 0.42635074129796147, 0.34...</td>\n",
       "      <td>[0.3178155701151633, 0.3521197786774463, 0.267...</td>\n",
       "      <td>-0.823608</td>\n",
       "      <td>8.222154</td>\n",
       "    </tr>\n",
       "    <tr>\n",
       "      <th>6</th>\n",
       "      <td>chrX</td>\n",
       "      <td>53274755</td>\n",
       "      <td>53274954</td>\n",
       "      <td>rs1556869190</td>\n",
       "      <td>53274757</td>\n",
       "      <td>53274758</td>\n",
       "      <td>G</td>\n",
       "      <td>A</td>\n",
       "      <td>CGGCCTGCTTTAGCTGCATTTCTTTAACTATTAGTAAGCTTGGGCA...</td>\n",
       "      <td>CGACCTGCTTTAGCTGCATTTCTTTAACTATTAGTAAGCTTGGGCA...</td>\n",
       "      <td>0.928652</td>\n",
       "      <td>0.174463</td>\n",
       "      <td>[0.5338239438467532, 0.42635074129796147, 0.34...</td>\n",
       "      <td>[0.3520173070382338, 0.3900381822882202, 0.313...</td>\n",
       "      <td>-0.700379</td>\n",
       "      <td>5.944605</td>\n",
       "    </tr>\n",
       "    <tr>\n",
       "      <th>7</th>\n",
       "      <td>chrX</td>\n",
       "      <td>53274755</td>\n",
       "      <td>53274954</td>\n",
       "      <td>rs2074801574</td>\n",
       "      <td>53274759</td>\n",
       "      <td>53274760</td>\n",
       "      <td>C</td>\n",
       "      <td>A</td>\n",
       "      <td>CGGCCTGCTTTAGCTGCATTTCTTTAACTATTAGTAAGCTTGGGCA...</td>\n",
       "      <td>CGGCATGCTTTAGCTGCATTTCTTTAACTATTAGTAAGCTTGGGCA...</td>\n",
       "      <td>0.928652</td>\n",
       "      <td>0.161977</td>\n",
       "      <td>[0.5338239438467532, 0.42635074129796147, 0.34...</td>\n",
       "      <td>[0.4576392671363028, 0.2983736556654264, 0.235...</td>\n",
       "      <td>-0.711975</td>\n",
       "      <td>6.073397</td>\n",
       "    </tr>\n",
       "    <tr>\n",
       "      <th>8</th>\n",
       "      <td>chr12</td>\n",
       "      <td>31814186</td>\n",
       "      <td>31814385</td>\n",
       "      <td>rs980108068</td>\n",
       "      <td>31814368</td>\n",
       "      <td>31814369</td>\n",
       "      <td>C</td>\n",
       "      <td>T</td>\n",
       "      <td>CAAGAAAAGTAAGAAAAATGATGTGGGGAATCTTTTAACAAATGAT...</td>\n",
       "      <td>CAAGAAAAGTAAGAAAAATGATGTGGGGAATCTTTTAACAAATGAT...</td>\n",
       "      <td>0.801413</td>\n",
       "      <td>0.426038</td>\n",
       "      <td>[0.05685886473591326, 0.060311671021813465, 0....</td>\n",
       "      <td>[0.06414055779615309, 0.06904155121945584, 0.0...</td>\n",
       "      <td>-0.300831</td>\n",
       "      <td>2.442753</td>\n",
       "    </tr>\n",
       "    <tr>\n",
       "      <th>9</th>\n",
       "      <td>chr6</td>\n",
       "      <td>34263900</td>\n",
       "      <td>34264099</td>\n",
       "      <td>rs1763098867</td>\n",
       "      <td>34263908</td>\n",
       "      <td>34263909</td>\n",
       "      <td>G</td>\n",
       "      <td>T</td>\n",
       "      <td>CAGCCTTCGCGGCCTGGGCTCATGTGATCCTCCCATCTTCACTTCC...</td>\n",
       "      <td>CAGCCTTCTCGGCCTGGGCTCATGTGATCCTCCCATCTTCACTTCC...</td>\n",
       "      <td>0.844904</td>\n",
       "      <td>0.105673</td>\n",
       "      <td>[0.11029014487149927, 0.10267235115036707, 0.0...</td>\n",
       "      <td>[0.1385389610039522, 0.12783433111242556, 0.11...</td>\n",
       "      <td>-0.624579</td>\n",
       "      <td>5.526817</td>\n",
       "    </tr>\n",
       "    <tr>\n",
       "      <th>10</th>\n",
       "      <td>chr6</td>\n",
       "      <td>34263900</td>\n",
       "      <td>34264099</td>\n",
       "      <td>rs1763098895</td>\n",
       "      <td>34263909</td>\n",
       "      <td>34263910</td>\n",
       "      <td>C</td>\n",
       "      <td>T</td>\n",
       "      <td>CAGCCTTCGCGGCCTGGGCTCATGTGATCCTCCCATCTTCACTTCC...</td>\n",
       "      <td>CAGCCTTCGTGGCCTGGGCTCATGTGATCCTCCCATCTTCACTTCC...</td>\n",
       "      <td>0.844904</td>\n",
       "      <td>0.122615</td>\n",
       "      <td>[0.11029014487149927, 0.10267235115036707, 0.0...</td>\n",
       "      <td>[0.12419394804677882, 0.11680225181936306, 0.1...</td>\n",
       "      <td>-0.610265</td>\n",
       "      <td>5.284697</td>\n",
       "    </tr>\n",
       "    <tr>\n",
       "      <th>11</th>\n",
       "      <td>chr6</td>\n",
       "      <td>135362297</td>\n",
       "      <td>135362496</td>\n",
       "      <td>rs115568319</td>\n",
       "      <td>135362312</td>\n",
       "      <td>135362313</td>\n",
       "      <td>G</td>\n",
       "      <td>A</td>\n",
       "      <td>TGGGTAGATGGTAGCGGGATTGCTGGAGCAAAAGCGCTACTTTTCT...</td>\n",
       "      <td>TGGGTAGATGGTAGCAGGATTGCTGGAGCAAAAGCGCTACTTTTCT...</td>\n",
       "      <td>0.723986</td>\n",
       "      <td>0.304990</td>\n",
       "      <td>[0.12500766927958776, 0.10141396702184463, 0.1...</td>\n",
       "      <td>[0.1163557482118133, 0.0889919777587903, 0.104...</td>\n",
       "      <td>-0.303347</td>\n",
       "      <td>2.579490</td>\n",
       "    </tr>\n",
       "    <tr>\n",
       "      <th>12</th>\n",
       "      <td>chr6</td>\n",
       "      <td>13658492</td>\n",
       "      <td>13658691</td>\n",
       "      <td>rs6459003</td>\n",
       "      <td>13658565</td>\n",
       "      <td>13658566</td>\n",
       "      <td>C</td>\n",
       "      <td>T</td>\n",
       "      <td>CAGCTACTTGGGAGGCTGAGGGCAGGAAAACCGCTTGATCCCAGGA...</td>\n",
       "      <td>CAGCTACTTGGGAGGCTGAGGGCAGGAAAACCGCTTGATCCCAGGA...</td>\n",
       "      <td>0.843663</td>\n",
       "      <td>0.472555</td>\n",
       "      <td>[0.15307513846686444, 0.15561469571701153, 0.1...</td>\n",
       "      <td>[0.1521550200115844, 0.16058070557009327, 0.14...</td>\n",
       "      <td>-0.313090</td>\n",
       "      <td>2.590546</td>\n",
       "    </tr>\n",
       "    <tr>\n",
       "      <th>13</th>\n",
       "      <td>chr10</td>\n",
       "      <td>71675286</td>\n",
       "      <td>71675485</td>\n",
       "      <td>rs1319478614</td>\n",
       "      <td>71675483</td>\n",
       "      <td>71675484</td>\n",
       "      <td>G</td>\n",
       "      <td>T</td>\n",
       "      <td>TGTGGCTAGAGCACTGGACTGGAAGTTGGAACCCATGGGCACTGTG...</td>\n",
       "      <td>TGTGGCTAGAGCACTGGACTGGAAGTTGGAACCCATGGGCACTGTG...</td>\n",
       "      <td>0.793625</td>\n",
       "      <td>0.401722</td>\n",
       "      <td>[0.09291152498608525, 0.13021961132062665, 0.1...</td>\n",
       "      <td>[0.09686706811259263, 0.1417091794772123, 0.17...</td>\n",
       "      <td>-0.311024</td>\n",
       "      <td>2.517810</td>\n",
       "    </tr>\n",
       "    <tr>\n",
       "      <th>14</th>\n",
       "      <td>chr13</td>\n",
       "      <td>112590269</td>\n",
       "      <td>112590468</td>\n",
       "      <td>rs1038109103</td>\n",
       "      <td>112590270</td>\n",
       "      <td>112590271</td>\n",
       "      <td>C</td>\n",
       "      <td>T</td>\n",
       "      <td>CCGGTCCAGCCATCTTTCTTAACGTGCATACACGATGTGACTCACT...</td>\n",
       "      <td>CTGGTCCAGCCATCTTTCTTAACGTGCATACACGATGTGACTCACT...</td>\n",
       "      <td>0.963333</td>\n",
       "      <td>0.199359</td>\n",
       "      <td>[0.5611634687698202, 0.45428244751184443, 0.37...</td>\n",
       "      <td>[0.4220699592112491, 0.3225600958793094, 0.289...</td>\n",
       "      <td>-0.735960</td>\n",
       "      <td>6.721245</td>\n",
       "    </tr>\n",
       "    <tr>\n",
       "      <th>15</th>\n",
       "      <td>chr3</td>\n",
       "      <td>141570174</td>\n",
       "      <td>141570373</td>\n",
       "      <td>rs984124735</td>\n",
       "      <td>141570281</td>\n",
       "      <td>141570282</td>\n",
       "      <td>C</td>\n",
       "      <td>T</td>\n",
       "      <td>TTTAAAACAAGGTTACTTACGCATTCTGATATGTCTTATCTACTTT...</td>\n",
       "      <td>TTTAAAACAAGGTTACTTACGCATTCTGATATGTCTTATCTACTTT...</td>\n",
       "      <td>0.827724</td>\n",
       "      <td>0.440807</td>\n",
       "      <td>[0.17459669735429162, 0.1714683356120349, 0.15...</td>\n",
       "      <td>[0.18650829924434034, 0.17845113845648852, 0.1...</td>\n",
       "      <td>-0.320260</td>\n",
       "      <td>2.607622</td>\n",
       "    </tr>\n",
       "    <tr>\n",
       "      <th>16</th>\n",
       "      <td>chr1</td>\n",
       "      <td>193107297</td>\n",
       "      <td>193107496</td>\n",
       "      <td>rs1312413082</td>\n",
       "      <td>193107490</td>\n",
       "      <td>193107491</td>\n",
       "      <td>C</td>\n",
       "      <td>T</td>\n",
       "      <td>AAATGGGGAGATGTTGGTCAAAGGGTACAGAGTTTCAATTATGCGA...</td>\n",
       "      <td>AAATGGGGAGATGTTGGTCAAAGGGTACAGAGTTTCAATTATGCGA...</td>\n",
       "      <td>0.732004</td>\n",
       "      <td>0.318712</td>\n",
       "      <td>[0.14084597353914313, 0.1397520873090819, 0.12...</td>\n",
       "      <td>[0.14406067149373494, 0.14439072077276668, 0.1...</td>\n",
       "      <td>-0.302532</td>\n",
       "      <td>2.545657</td>\n",
       "    </tr>\n",
       "    <tr>\n",
       "      <th>17</th>\n",
       "      <td>chr1</td>\n",
       "      <td>40497077</td>\n",
       "      <td>40497276</td>\n",
       "      <td>rs867976892</td>\n",
       "      <td>40497088</td>\n",
       "      <td>40497089</td>\n",
       "      <td>C</td>\n",
       "      <td>T</td>\n",
       "      <td>GCAGTGGCTCACGCCTGTAATCCCAGGCGTCTCTACAAAAAAGAAT...</td>\n",
       "      <td>GCAGTGGCTCATGCCTGTAATCCCAGGCGTCTCTACAAAAAAGAAT...</td>\n",
       "      <td>0.768904</td>\n",
       "      <td>0.368927</td>\n",
       "      <td>[0.20342390493811655, 0.1752884938906392, 0.17...</td>\n",
       "      <td>[0.15612444951807933, 0.14922288193828465, 0.1...</td>\n",
       "      <td>-0.307544</td>\n",
       "      <td>2.508783</td>\n",
       "    </tr>\n",
       "    <tr>\n",
       "      <th>18</th>\n",
       "      <td>chr1</td>\n",
       "      <td>40497077</td>\n",
       "      <td>40497276</td>\n",
       "      <td>rs575207992</td>\n",
       "      <td>40497089</td>\n",
       "      <td>40497090</td>\n",
       "      <td>G</td>\n",
       "      <td>A</td>\n",
       "      <td>GCAGTGGCTCACGCCTGTAATCCCAGGCGTCTCTACAAAAAAGAAT...</td>\n",
       "      <td>GCAGTGGCTCACACCTGTAATCCCAGGCGTCTCTACAAAAAAGAAT...</td>\n",
       "      <td>0.768904</td>\n",
       "      <td>0.370324</td>\n",
       "      <td>[0.20342390493811655, 0.1752884938906392, 0.17...</td>\n",
       "      <td>[0.1476784907248364, 0.14204113179463984, 0.14...</td>\n",
       "      <td>-0.306470</td>\n",
       "      <td>2.500136</td>\n",
       "    </tr>\n",
       "    <tr>\n",
       "      <th>19</th>\n",
       "      <td>chr5</td>\n",
       "      <td>173063117</td>\n",
       "      <td>173063316</td>\n",
       "      <td>rs1006969018</td>\n",
       "      <td>173063122</td>\n",
       "      <td>173063123</td>\n",
       "      <td>G</td>\n",
       "      <td>A</td>\n",
       "      <td>GCAGGGTGCGGCAGTAGTATCACCAGCCAAGCCTTATATGCATTTC...</td>\n",
       "      <td>GCAGGATGCGGCAGTAGTATCACCAGCCAAGCCTTATATGCATTTC...</td>\n",
       "      <td>0.774162</td>\n",
       "      <td>0.358016</td>\n",
       "      <td>[0.26669833562061396, 0.3322201304143422, 0.36...</td>\n",
       "      <td>[0.20553516546397146, 0.33832258853968306, 0.3...</td>\n",
       "      <td>-0.322164</td>\n",
       "      <td>2.619857</td>\n",
       "    </tr>\n",
       "  </tbody>\n",
       "</table>\n",
       "</div>"
      ],
      "text/plain": [
       "      chr  Enhancer_start  Enhancer_end      dbsnp_id  varinat_start  \\\n",
       "0   chr11        36665374      36665573  rs1272809446       36665483   \n",
       "1   chr11        36665374      36665573  rs1272809446       36665483   \n",
       "2   chr11        36665374      36665573   rs374010920       36665484   \n",
       "3    chr9       116480840     116481039  rs1849145440      116480856   \n",
       "4    chrX        53274755      53274954  rs1307860155       53274755   \n",
       "5    chrX        53274755      53274954  rs1428346052       53274756   \n",
       "6    chrX        53274755      53274954  rs1556869190       53274757   \n",
       "7    chrX        53274755      53274954  rs2074801574       53274759   \n",
       "8   chr12        31814186      31814385   rs980108068       31814368   \n",
       "9    chr6        34263900      34264099  rs1763098867       34263908   \n",
       "10   chr6        34263900      34264099  rs1763098895       34263909   \n",
       "11   chr6       135362297     135362496   rs115568319      135362312   \n",
       "12   chr6        13658492      13658691     rs6459003       13658565   \n",
       "13  chr10        71675286      71675485  rs1319478614       71675483   \n",
       "14  chr13       112590269     112590468  rs1038109103      112590270   \n",
       "15   chr3       141570174     141570373   rs984124735      141570281   \n",
       "16   chr1       193107297     193107496  rs1312413082      193107490   \n",
       "17   chr1        40497077      40497276   rs867976892       40497088   \n",
       "18   chr1        40497077      40497276   rs575207992       40497089   \n",
       "19   chr5       173063117     173063316  rs1006969018      173063122   \n",
       "\n",
       "    variant_end ref_neucleotide alternative_neucleotide  \\\n",
       "0      36665484               C                       A   \n",
       "1      36665484               C                       T   \n",
       "2      36665485               G                       A   \n",
       "3     116480857               C                       T   \n",
       "4      53274756               C                       T   \n",
       "5      53274757               G                       A   \n",
       "6      53274758               G                       A   \n",
       "7      53274760               C                       A   \n",
       "8      31814369               C                       T   \n",
       "9      34263909               G                       T   \n",
       "10     34263910               C                       T   \n",
       "11    135362313               G                       A   \n",
       "12     13658566               C                       T   \n",
       "13     71675484               G                       T   \n",
       "14    112590271               C                       T   \n",
       "15    141570282               C                       T   \n",
       "16    193107491               C                       T   \n",
       "17     40497089               C                       T   \n",
       "18     40497090               G                       A   \n",
       "19    173063123               G                       A   \n",
       "\n",
       "                                        reference_seq  \\\n",
       "0   AAAGCCAGGTCCACCCAATATGGCATCTCCCACCCTCTTTTCCTTG...   \n",
       "1   AAAGCCAGGTCCACCCAATATGGCATCTCCCACCCTCTTTTCCTTG...   \n",
       "2   AAAGCCAGGTCCACCCAATATGGCATCTCCCACCCTCTTTTCCTTG...   \n",
       "3   GTGTGGGAGAAGAACGCCAACCTGCTGGAAGGCTGTGAACATATGG...   \n",
       "4   CGGCCTGCTTTAGCTGCATTTCTTTAACTATTAGTAAGCTTGGGCA...   \n",
       "5   CGGCCTGCTTTAGCTGCATTTCTTTAACTATTAGTAAGCTTGGGCA...   \n",
       "6   CGGCCTGCTTTAGCTGCATTTCTTTAACTATTAGTAAGCTTGGGCA...   \n",
       "7   CGGCCTGCTTTAGCTGCATTTCTTTAACTATTAGTAAGCTTGGGCA...   \n",
       "8   CAAGAAAAGTAAGAAAAATGATGTGGGGAATCTTTTAACAAATGAT...   \n",
       "9   CAGCCTTCGCGGCCTGGGCTCATGTGATCCTCCCATCTTCACTTCC...   \n",
       "10  CAGCCTTCGCGGCCTGGGCTCATGTGATCCTCCCATCTTCACTTCC...   \n",
       "11  TGGGTAGATGGTAGCGGGATTGCTGGAGCAAAAGCGCTACTTTTCT...   \n",
       "12  CAGCTACTTGGGAGGCTGAGGGCAGGAAAACCGCTTGATCCCAGGA...   \n",
       "13  TGTGGCTAGAGCACTGGACTGGAAGTTGGAACCCATGGGCACTGTG...   \n",
       "14  CCGGTCCAGCCATCTTTCTTAACGTGCATACACGATGTGACTCACT...   \n",
       "15  TTTAAAACAAGGTTACTTACGCATTCTGATATGTCTTATCTACTTT...   \n",
       "16  AAATGGGGAGATGTTGGTCAAAGGGTACAGAGTTTCAATTATGCGA...   \n",
       "17  GCAGTGGCTCACGCCTGTAATCCCAGGCGTCTCTACAAAAAAGAAT...   \n",
       "18  GCAGTGGCTCACGCCTGTAATCCCAGGCGTCTCTACAAAAAAGAAT...   \n",
       "19  GCAGGGTGCGGCAGTAGTATCACCAGCCAAGCCTTATATGCATTTC...   \n",
       "\n",
       "                                              alt_seq  Ref_probab  Alt_probab  \\\n",
       "0   AAAGCCAGGTCCACCCAATATGGCATCTCCCACCCTCTTTTCCTTG...    0.901120    0.191165   \n",
       "1   AAAGCCAGGTCCACCCAATATGGCATCTCCCACCCTCTTTTCCTTG...    0.901120    0.188648   \n",
       "2   AAAGCCAGGTCCACCCAATATGGCATCTCCCACCCTCTTTTCCTTG...    0.901120    0.190248   \n",
       "3   GTGTGGGAGAAGAACGTCAACCTGCTGGAAGGCTGTGAACATATGG...    0.799859    0.413545   \n",
       "4   TGGCCTGCTTTAGCTGCATTTCTTTAACTATTAGTAAGCTTGGGCA...    0.928652    0.044870   \n",
       "5   CAGCCTGCTTTAGCTGCATTTCTTTAACTATTAGTAAGCTTGGGCA...    0.928652    0.041766   \n",
       "6   CGACCTGCTTTAGCTGCATTTCTTTAACTATTAGTAAGCTTGGGCA...    0.928652    0.174463   \n",
       "7   CGGCATGCTTTAGCTGCATTTCTTTAACTATTAGTAAGCTTGGGCA...    0.928652    0.161977   \n",
       "8   CAAGAAAAGTAAGAAAAATGATGTGGGGAATCTTTTAACAAATGAT...    0.801413    0.426038   \n",
       "9   CAGCCTTCTCGGCCTGGGCTCATGTGATCCTCCCATCTTCACTTCC...    0.844904    0.105673   \n",
       "10  CAGCCTTCGTGGCCTGGGCTCATGTGATCCTCCCATCTTCACTTCC...    0.844904    0.122615   \n",
       "11  TGGGTAGATGGTAGCAGGATTGCTGGAGCAAAAGCGCTACTTTTCT...    0.723986    0.304990   \n",
       "12  CAGCTACTTGGGAGGCTGAGGGCAGGAAAACCGCTTGATCCCAGGA...    0.843663    0.472555   \n",
       "13  TGTGGCTAGAGCACTGGACTGGAAGTTGGAACCCATGGGCACTGTG...    0.793625    0.401722   \n",
       "14  CTGGTCCAGCCATCTTTCTTAACGTGCATACACGATGTGACTCACT...    0.963333    0.199359   \n",
       "15  TTTAAAACAAGGTTACTTACGCATTCTGATATGTCTTATCTACTTT...    0.827724    0.440807   \n",
       "16  AAATGGGGAGATGTTGGTCAAAGGGTACAGAGTTTCAATTATGCGA...    0.732004    0.318712   \n",
       "17  GCAGTGGCTCATGCCTGTAATCCCAGGCGTCTCTACAAAAAAGAAT...    0.768904    0.368927   \n",
       "18  GCAGTGGCTCACACCTGTAATCCCAGGCGTCTCTACAAAAAAGAAT...    0.768904    0.370324   \n",
       "19  GCAGGATGCGGCAGTAGTATCACCAGCCAAGCCTTATATGCATTTC...    0.774162    0.358016   \n",
       "\n",
       "                                             Ref_attn  \\\n",
       "0   [0.12591830751003694, 0.11490679744331603, 0.1...   \n",
       "1   [0.12591830751003694, 0.11490679744331603, 0.1...   \n",
       "2   [0.12591830751003694, 0.11490679744331603, 0.1...   \n",
       "3   [0.04789442576528577, 0.052447286137084305, 0....   \n",
       "4   [0.5338239438467532, 0.42635074129796147, 0.34...   \n",
       "5   [0.5338239438467532, 0.42635074129796147, 0.34...   \n",
       "6   [0.5338239438467532, 0.42635074129796147, 0.34...   \n",
       "7   [0.5338239438467532, 0.42635074129796147, 0.34...   \n",
       "8   [0.05685886473591326, 0.060311671021813465, 0....   \n",
       "9   [0.11029014487149927, 0.10267235115036707, 0.0...   \n",
       "10  [0.11029014487149927, 0.10267235115036707, 0.0...   \n",
       "11  [0.12500766927958776, 0.10141396702184463, 0.1...   \n",
       "12  [0.15307513846686444, 0.15561469571701153, 0.1...   \n",
       "13  [0.09291152498608525, 0.13021961132062665, 0.1...   \n",
       "14  [0.5611634687698202, 0.45428244751184443, 0.37...   \n",
       "15  [0.17459669735429162, 0.1714683356120349, 0.15...   \n",
       "16  [0.14084597353914313, 0.1397520873090819, 0.12...   \n",
       "17  [0.20342390493811655, 0.1752884938906392, 0.17...   \n",
       "18  [0.20342390493811655, 0.1752884938906392, 0.17...   \n",
       "19  [0.26669833562061396, 0.3322201304143422, 0.36...   \n",
       "\n",
       "                                             Alt_attn  ScoreChange  \\\n",
       "0   [0.1510396271373201, 0.12922091919160034, 0.11...    -0.639755   \n",
       "1   [0.14882453286384564, 0.12815024698064503, 0.1...    -0.642023   \n",
       "2   [0.15191935782823754, 0.13122048651258428, 0.1...    -0.640581   \n",
       "3   [0.04783075774648674, 0.05416605494331119, 0.0...    -0.308996   \n",
       "4   [0.21639029212305627, 0.4097562359761626, 0.30...    -0.820726   \n",
       "5   [0.3178155701151633, 0.3521197786774463, 0.267...    -0.823608   \n",
       "6   [0.3520173070382338, 0.3900381822882202, 0.313...    -0.700379   \n",
       "7   [0.4576392671363028, 0.2983736556654264, 0.235...    -0.711975   \n",
       "8   [0.06414055779615309, 0.06904155121945584, 0.0...    -0.300831   \n",
       "9   [0.1385389610039522, 0.12783433111242556, 0.11...    -0.624579   \n",
       "10  [0.12419394804677882, 0.11680225181936306, 0.1...    -0.610265   \n",
       "11  [0.1163557482118133, 0.0889919777587903, 0.104...    -0.303347   \n",
       "12  [0.1521550200115844, 0.16058070557009327, 0.14...    -0.313090   \n",
       "13  [0.09686706811259263, 0.1417091794772123, 0.17...    -0.311024   \n",
       "14  [0.4220699592112491, 0.3225600958793094, 0.289...    -0.735960   \n",
       "15  [0.18650829924434034, 0.17845113845648852, 0.1...    -0.320260   \n",
       "16  [0.14406067149373494, 0.14439072077276668, 0.1...    -0.302532   \n",
       "17  [0.15612444951807933, 0.14922288193828465, 0.1...    -0.307544   \n",
       "18  [0.1476784907248364, 0.14204113179463984, 0.14...    -0.306470   \n",
       "19  [0.20553516546397146, 0.33832258853968306, 0.3...    -0.322164   \n",
       "\n",
       "    LogOddRatio  \n",
       "0      5.269003  \n",
       "1      5.292603  \n",
       "2      5.277569  \n",
       "3      2.502700  \n",
       "4      8.114067  \n",
       "5      8.222154  \n",
       "6      5.944605  \n",
       "7      6.073397  \n",
       "8      2.442753  \n",
       "9      5.526817  \n",
       "10     5.284697  \n",
       "11     2.579490  \n",
       "12     2.590546  \n",
       "13     2.517810  \n",
       "14     6.721245  \n",
       "15     2.607622  \n",
       "16     2.545657  \n",
       "17     2.508783  \n",
       "18     2.500136  \n",
       "19     2.619857  "
      ]
     },
     "execution_count": 51,
     "metadata": {},
     "output_type": "execute_result"
    }
   ],
   "source": [
    "df_selected"
   ]
  },
  {
   "cell_type": "code",
   "execution_count": 52,
   "id": "48ea3820-6d2d-4cfa-b169-09a8b975c356",
   "metadata": {},
   "outputs": [],
   "source": [
    "merged_list = list(zip(df_selected['reference_seq'], df_selected['alt_seq']))\n",
    "all_seq = [item.upper() for tup in merged_list for item in tup ]\n",
    "kmers = [list(seq) for seq in all_seq]"
   ]
  },
  {
   "cell_type": "code",
   "execution_count": 53,
   "id": "b1fa3e05-56a0-44ad-9994-874e3b3aef9b",
   "metadata": {},
   "outputs": [
    {
     "data": {
      "text/plain": [
       "40"
      ]
     },
     "execution_count": 53,
     "metadata": {},
     "output_type": "execute_result"
    }
   ],
   "source": [
    "len(kmers)"
   ]
  },
  {
   "cell_type": "code",
   "execution_count": 54,
   "id": "b4d3d1fd-ec42-44fb-8577-8a9114330cd7",
   "metadata": {},
   "outputs": [],
   "source": [
    "visualization_path = output_path + \"/Visualization\"\n",
    "if not os.path.exists(visualization_path):\n",
    "    os.makedirs(visualization_path)"
   ]
  },
  {
   "cell_type": "code",
   "execution_count": 55,
   "id": "ad11ff94-0a0a-4528-88d5-15a2d7aaac16",
   "metadata": {},
   "outputs": [],
   "source": [
    "def add_variant_annotations(ax, sequence, attention_scores, start_index, variant_start, variant_end, cmap, variant_length):\n",
    "    # Normalize the attention_scores to the range of the colormap\n",
    "    norm = plt.Normalize(vmin=np.min(attention_scores), vmax=np.max(attention_scores))\n",
    "    \n",
    "    # Get the RGBA colors from the normalized attention score\n",
    "    rgba_colors = [cmap(norm(score)) for score in attention_scores]\n",
    "    \n",
    "    # Determine the positions to color red\n",
    "    variant_positions = range(variant_start-start_index, variant_start + variant_length-start_index)\n",
    "    #print(variant_positions, start_index)\n",
    "    \n",
    "    # Assuming each character in sequence is one nucleotide and their attention score is at the same index\n",
    "    for idx, (nucleotide, rgba) in enumerate(zip(sequence, rgba_colors)):\n",
    "        # Calculate luminance of the RGBA color\n",
    "        luminance = (0.299 * rgba[0] + 0.587 * rgba[1] + 0.114 * rgba[2])\n",
    "        # Determine text color based on luminance\n",
    "        text_color = 'white' if luminance < 0.7 else 'black'  # Adjust threshold as needed\n",
    "        # Override text color for variant positions\n",
    "        if idx in variant_positions:\n",
    "            text_color = 'red'\n",
    "        # Add text annotation with the determined color\n",
    "        ax.text(idx + 0.5, 0.5, nucleotide, horizontalalignment='center', verticalalignment='center', color=text_color, fontsize=8)"
   ]
  },
  {
   "cell_type": "code",
   "execution_count": 58,
   "id": "400a808e-2188-4fdf-b5bc-40d0959616b2",
   "metadata": {},
   "outputs": [
    {
     "name": "stdout",
     "output_type": "stream",
     "text": [
      "0\n",
      "20\n"
     ]
    }
   ],
   "source": [
    "buffer_length = 15  # Define buffer length\n",
    "\n",
    "# Iterate over pairs of sequences (reference and alternative) and attention scores\n",
    "for i in range(0, len(kmers), 2):\n",
    "    if(i%20==0):\n",
    "        print(i)\n",
    "    sequence_ref = kmers[i]\n",
    "    sequence_alt = kmers[i + 1]\n",
    "    \n",
    "    \n",
    "    #print(filtered_df1['Reference_Nucleotide'].iloc[i // 2], filtered_df1['Alternative_Nucleotides'].iloc[i//2])\n",
    "    # Calculate relative positions of variant start and end within the sequence\n",
    "    relative_variant_start = df_selected['varinat_start'].iloc[i // 2] - df_selected['Enhancer_start'].iloc[i // 2]\n",
    "    relative_variant_end = df_selected['variant_end'].iloc[i // 2] - df_selected['Enhancer_start'].iloc[i // 2]\n",
    "\n",
    "    # Adjust indices for buffer length, ensuring they are within sequence boundaries\n",
    "    start_index = max(0, relative_variant_start - buffer_length)\n",
    "    end_index = min(len(sequence_ref), relative_variant_end + buffer_length)\n",
    "    #print(relative_variant_start, relative_variant_end, start_index, end_index)\n",
    "\n",
    "    # Check if slicing range is valid\n",
    "    if start_index >= end_index:\n",
    "        print(\"Invalid slice range, skipping...\")\n",
    "        continue\n",
    "\n",
    "    # Slice the sequences and ` data\n",
    "    sliced_sequence_ref = sequence_ref[start_index:end_index]\n",
    "    sliced_sequence_alt = sequence_alt[start_index:end_index]\n",
    "    sliced_attention_ref = df_selected['Ref_attn'].iloc[i // 2][start_index:end_index]\n",
    "    sliced_attention_alt = df_selected['Alt_attn'].iloc[i // 2][start_index:end_index]\n",
    "    # print(sliced_sequence_ref , sliced_sequence_alt)\n",
    "    # print(sliced_attention_ref)\n",
    "    # print(sliced_attention_alt)\n",
    "    # input()\n",
    "    # print(f\"Reference Neucleotide: {filtered_df1['Reference_Nucleotide'].iloc[i // 2]}; Alternative Neucleotide: {filtered_df1['Alternative_Nucleotides'].iloc[i // 2]}\")\n",
    "    \n",
    "    original_start_index=  max(df_selected['Enhancer_start'].iloc[i//2], df_selected['varinat_start'].iloc[i//2] - buffer_length)\n",
    "    original_end_index=  min(df_selected['Enhancer_end'].iloc[i//2], df_selected['variant_end'].iloc[i//2] + buffer_length)\n",
    "    #print(original_start_index, original_end_index)\n",
    "    \n",
    "\n",
    "    \n",
    "    # Determine the number of ticks needed, with a tick for every 5 nucleotides\n",
    "    num_ticks = (original_end_index - original_start_index) // 5 + 1  # Ensure we include the end index\n",
    "\n",
    "    # Generate the tick positions and labels\n",
    "    tick_positions = [i * 5 for i in range(num_ticks)]  # Positions in the sequence\n",
    "    tick_labels = [original_start_index + pos for pos in tick_positions]  # Map to actual nucleotide positions\n",
    "\n",
    "    # Ensure tick positions and labels do not exceed the length of the sequence or the end index\n",
    "    tick_positions = [pos for pos, label in zip(tick_positions, tick_labels) if label <= original_end_index]\n",
    "    tick_labels = [label for label in tick_labels if label <= original_end_index]\n",
    "    # print(plot_range)\n",
    "    # print(tick_positions)\n",
    "    # print(tick_labels)\n",
    "    \n",
    "    # Calculate variant_length_change based on your actual data\n",
    "    # Calculate variant_length based on the nucleotides in the variant\n",
    "    ref_nucleotides = df_selected['ref_neucleotide'].iloc[i // 2]\n",
    "    alt_nucleotides = df_selected['alternative_neucleotide'].iloc[i // 2]\n",
    "    variant_length = max(len(ref_nucleotides), len(alt_nucleotides))\n",
    "    #print(variant_length)\n",
    "    \n",
    "    # Create a new figure for each iteration\n",
    "    fig, axs = plt.subplots(2, 1, figsize=(18, 3))\n",
    "    plt.subplots_adjust(hspace=1)  # Adjust spacing between subplots\n",
    "    \n",
    "    #y_position = 1.08\n",
    "    \n",
    "        # Add text for the Acceptor Region\n",
    "    plt.text(\n",
    "        x=0.5, \n",
    "        y=1.30, \n",
    "        s=f\"Enhancer Region: {df_selected['Enhancer_start'].iloc[i // 2]}-{df_selected['Enhancer_end'].iloc[i // 2]}\", \n",
    "        horizontalalignment='center', \n",
    "        verticalalignment='center', \n",
    "        transform=plt.gcf().transFigure\n",
    "    )\n",
    "    #y_position -= 0.04  # Adjust the y position for the next line\n",
    "\n",
    "    # Add text for the Variant Region\n",
    "    # Replace variant_region_info with the appropriate variable or value\n",
    "    plt.text(\n",
    "        x=0.5, \n",
    "        y=1.24, \n",
    "        s=f\"Variant Region: {df_selected['varinat_start'].iloc[i // 2]}-{df_selected['variant_end'].iloc[i // 2]}\", \n",
    "        horizontalalignment='center', \n",
    "        verticalalignment='center', \n",
    "        transform=plt.gcf().transFigure\n",
    "    )\n",
    "\n",
    "    # Replace plotted_region_info with the appropriate variable or value\n",
    "    plt.text(\n",
    "        x=0.5, \n",
    "        y=1.18, \n",
    "        s=f\"Region Plotted: {original_start_index}-{original_end_index}\", \n",
    "        horizontalalignment='center', \n",
    "        verticalalignment='center', \n",
    "        transform=plt.gcf().transFigure\n",
    "    )   # Create subplots\n",
    "    \n",
    "    # Replace plotted_region_info with the appropriate variable or value\n",
    "    plt.text(\n",
    "        x=0.5, \n",
    "        y=1.12, \n",
    "        s=f\"Reference Neucleotide: {df_selected['ref_neucleotide'].iloc[i // 2]}; Alternative Neucleotide: {df_selected['alternative_neucleotide'].iloc[i // 2]}\" , \n",
    "        horizontalalignment='center', \n",
    "        verticalalignment='center', \n",
    "        transform=plt.gcf().transFigure\n",
    "    )   # Create subplots\n",
    "    \n",
    "    plt.text(\n",
    "        x=0.5, \n",
    "        y=1.06, \n",
    "        s=f\"Reference probablity: {df_selected['Ref_probab'].iloc[i // 2]:.4f}; Alternative probablity: {df_selected['Alt_probab'].iloc[i // 2]:.4f}\" , \n",
    "        horizontalalignment='center', \n",
    "        verticalalignment='center', \n",
    "        transform=plt.gcf().transFigure\n",
    "    )   # Create subplots\n",
    "    \n",
    "    plt.text(\n",
    "        x=0.5, \n",
    "        y=1.00, \n",
    "        s=f\"DBSNP_IDs: {df_selected['dbsnp_id'].iloc[i // 2]}\" , \n",
    "        horizontalalignment='center', \n",
    "        verticalalignment='center', \n",
    "        transform=plt.gcf().transFigure\n",
    "    )   # Create subplots\n",
    "    \n",
    "    \n",
    "    # Define the colormap you are using for your heatmap\n",
    "    cmap = sns.color_palette(\"YlGnBu\", as_cmap=True)\n",
    "\n",
    "     # Plot heatmap for reference sequence\n",
    "    sns.heatmap([sliced_attention_ref], cmap=cmap, cbar=True, annot=False, ax=axs[0])\n",
    "    add_variant_annotations(axs[0], sliced_sequence_ref, sliced_attention_ref, start_index, relative_variant_start, relative_variant_end, cmap, len(ref_nucleotides))\n",
    "    axs[0].set_title(\"Reference Sequence\", pad=10)\n",
    "    axs[0].set_xticks(tick_positions)\n",
    "    axs[0].set_xticklabels(tick_labels)\n",
    "\n",
    "    # Plot heatmap for alternative sequence\n",
    "    sns.heatmap([sliced_attention_alt], cmap=cmap, cbar=True, annot=False, ax=axs[1])\n",
    "    add_variant_annotations(axs[1], sliced_sequence_alt, sliced_attention_alt, start_index, relative_variant_start, relative_variant_end, cmap, len(alt_nucleotides))\n",
    "    axs[1].set_title(\"Alternative Sequence\", pad=10)\n",
    "    axs[1].set_xticks(tick_positions)\n",
    "    axs[1].set_xticklabels(tick_labels)\n",
    "    \n",
    "    # Set the general title for the figure\n",
    "    fig.text(0.5, -0.2, f\"Plotted Region across variant region {df_selected['chr'].iloc[i // 2]}:{original_start_index}-{original_end_index}\", ha='center', fontsize=16, fontweight='bold')\n",
    "    \n",
    "    # Save the plot\n",
    "    plt.savefig(visualization_path + \"/\" + f\"Paired_sequence_{df_selected['chr'].iloc[i // 2]}_{original_start_index}_{original_end_index}.png\", bbox_inches='tight')\n",
    "    plt.close()"
   ]
  },
  {
   "cell_type": "code",
   "execution_count": null,
   "id": "b92ef8c3-0e41-44a8-aeb6-b4a43f5f68e2",
   "metadata": {},
   "outputs": [],
   "source": []
  }
 ],
 "metadata": {
  "kernelspec": {
   "display_name": "Python 3 (ipykernel)",
   "language": "python",
   "name": "python3"
  },
  "language_info": {
   "codemirror_mode": {
    "name": "ipython",
    "version": 3
   },
   "file_extension": ".py",
   "mimetype": "text/x-python",
   "name": "python",
   "nbconvert_exporter": "python",
   "pygments_lexer": "ipython3",
   "version": "3.10.4"
  }
 },
 "nbformat": 4,
 "nbformat_minor": 5
}
