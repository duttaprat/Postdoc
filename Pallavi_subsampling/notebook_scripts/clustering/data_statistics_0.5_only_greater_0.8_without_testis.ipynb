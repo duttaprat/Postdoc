{
 "cells": [
  {
   "cell_type": "code",
   "execution_count": 1,
   "id": "e9795e1b-4f7e-4f73-8e6e-d4587de71373",
   "metadata": {},
   "outputs": [],
   "source": [
    "import os\n",
    "from sklearn.cluster import KMeans, AgglomerativeClustering\n",
    "from sklearn.metrics import silhouette_score\n",
    "from scipy.cluster.hierarchy import dendrogram, linkage\n",
    "from sklearn import metrics\n",
    "from sklearn.decomposition import PCA\n",
    "import plotly.figure_factory as ff"
   ]
  },
  {
   "cell_type": "code",
   "execution_count": 2,
   "id": "e380469e-4b1d-4d0f-93dc-de55e75d4ba8",
   "metadata": {},
   "outputs": [],
   "source": [
    "import pandas as pd\n",
    "import plotly.express as px\n",
    "import plotly.graph_objects as go\n",
    "import numpy as np\n",
    "import pickle"
   ]
  },
  {
   "cell_type": "code",
   "execution_count": 3,
   "id": "5b41ef18-7e21-4867-baa8-594edaebb5ae",
   "metadata": {},
   "outputs": [],
   "source": [
    "output_path = \"/data/projects/Tissue_specific_data/clustering/results/0.5/only_greater/0.8_without_testis\"\n",
    "processed_path = \"/data/projects/Tissue_specific_data/clustering/processed_data/\"\n",
    "file_name  = \"0.5_only_greater_0.8_without_testis\""
   ]
  },
  {
   "cell_type": "code",
   "execution_count": 4,
   "id": "dd3859bf-480d-4a72-ba1f-0c78f123f29d",
   "metadata": {},
   "outputs": [],
   "source": [
    "if not os.path.exists(output_path):\n",
    "    os.makedirs(output_path)"
   ]
  },
  {
   "cell_type": "code",
   "execution_count": 5,
   "id": "20fc42f0-0227-4d7d-992e-8c48105a87cd",
   "metadata": {},
   "outputs": [],
   "source": [
    "df = pd.read_csv(\"/data/projects/Tissue_specific_data/clustering/inputs/0.5/only_greater/0.8/0.5.csv\")\n",
    "df = df.set_index('tissue')\n",
    "df = df.drop(['Testis'])"
   ]
  },
  {
   "cell_type": "code",
   "execution_count": 6,
   "id": "89e87195-594e-421c-ba1e-bee169dfe400",
   "metadata": {},
   "outputs": [
    {
     "data": {
      "text/html": [
       "<div>\n",
       "<style scoped>\n",
       "    .dataframe tbody tr th:only-of-type {\n",
       "        vertical-align: middle;\n",
       "    }\n",
       "\n",
       "    .dataframe tbody tr th {\n",
       "        vertical-align: top;\n",
       "    }\n",
       "\n",
       "    .dataframe thead th {\n",
       "        text-align: right;\n",
       "    }\n",
       "</style>\n",
       "<table border=\"1\" class=\"dataframe\">\n",
       "  <thead>\n",
       "    <tr style=\"text-align: right;\">\n",
       "      <th></th>\n",
       "      <th>ENST00000373020.8</th>\n",
       "      <th>ENST00000494424.1</th>\n",
       "      <th>ENST00000496771.5</th>\n",
       "      <th>ENST00000612152.4</th>\n",
       "      <th>ENST00000614008.4</th>\n",
       "      <th>ENST00000373031.4</th>\n",
       "      <th>ENST00000485971.1</th>\n",
       "      <th>ENST00000371582.8</th>\n",
       "      <th>ENST00000371584.8</th>\n",
       "      <th>ENST00000371588.9</th>\n",
       "      <th>...</th>\n",
       "      <th>ENST00000640733.1</th>\n",
       "      <th>ENST00000640778.1</th>\n",
       "      <th>ENST00000640881.1</th>\n",
       "      <th>ENST00000640932.1</th>\n",
       "      <th>ENST00000523332.5</th>\n",
       "      <th>ENST00000615007.4</th>\n",
       "      <th>ENST00000638789.1</th>\n",
       "      <th>ENST00000640006.1</th>\n",
       "      <th>ENST00000639687.1</th>\n",
       "      <th>ENST00000622217.1</th>\n",
       "    </tr>\n",
       "    <tr>\n",
       "      <th>tissue</th>\n",
       "      <th></th>\n",
       "      <th></th>\n",
       "      <th></th>\n",
       "      <th></th>\n",
       "      <th></th>\n",
       "      <th></th>\n",
       "      <th></th>\n",
       "      <th></th>\n",
       "      <th></th>\n",
       "      <th></th>\n",
       "      <th></th>\n",
       "      <th></th>\n",
       "      <th></th>\n",
       "      <th></th>\n",
       "      <th></th>\n",
       "      <th></th>\n",
       "      <th></th>\n",
       "      <th></th>\n",
       "      <th></th>\n",
       "      <th></th>\n",
       "      <th></th>\n",
       "    </tr>\n",
       "  </thead>\n",
       "  <tbody>\n",
       "    <tr>\n",
       "      <th>Adipose_Tissue</th>\n",
       "      <td>1.00</td>\n",
       "      <td>0.00</td>\n",
       "      <td>0.98</td>\n",
       "      <td>0.92</td>\n",
       "      <td>0.64</td>\n",
       "      <td>0.99</td>\n",
       "      <td>0.95</td>\n",
       "      <td>0.92</td>\n",
       "      <td>0.79</td>\n",
       "      <td>1.00</td>\n",
       "      <td>...</td>\n",
       "      <td>0.00</td>\n",
       "      <td>0.00</td>\n",
       "      <td>0.00</td>\n",
       "      <td>0.0</td>\n",
       "      <td>0.03</td>\n",
       "      <td>0.30</td>\n",
       "      <td>0.00</td>\n",
       "      <td>0.58</td>\n",
       "      <td>0.0</td>\n",
       "      <td>0.29</td>\n",
       "    </tr>\n",
       "    <tr>\n",
       "      <th>Adrenal_Gland</th>\n",
       "      <td>1.00</td>\n",
       "      <td>0.00</td>\n",
       "      <td>0.47</td>\n",
       "      <td>0.46</td>\n",
       "      <td>0.22</td>\n",
       "      <td>0.02</td>\n",
       "      <td>0.01</td>\n",
       "      <td>0.91</td>\n",
       "      <td>0.83</td>\n",
       "      <td>1.00</td>\n",
       "      <td>...</td>\n",
       "      <td>0.00</td>\n",
       "      <td>0.00</td>\n",
       "      <td>0.00</td>\n",
       "      <td>0.0</td>\n",
       "      <td>0.00</td>\n",
       "      <td>0.86</td>\n",
       "      <td>0.00</td>\n",
       "      <td>0.37</td>\n",
       "      <td>0.0</td>\n",
       "      <td>0.18</td>\n",
       "    </tr>\n",
       "    <tr>\n",
       "      <th>Bladder</th>\n",
       "      <td>1.00</td>\n",
       "      <td>0.00</td>\n",
       "      <td>0.90</td>\n",
       "      <td>0.57</td>\n",
       "      <td>0.33</td>\n",
       "      <td>0.14</td>\n",
       "      <td>0.00</td>\n",
       "      <td>1.00</td>\n",
       "      <td>0.90</td>\n",
       "      <td>1.00</td>\n",
       "      <td>...</td>\n",
       "      <td>0.00</td>\n",
       "      <td>0.00</td>\n",
       "      <td>0.00</td>\n",
       "      <td>0.0</td>\n",
       "      <td>0.48</td>\n",
       "      <td>0.71</td>\n",
       "      <td>0.00</td>\n",
       "      <td>0.86</td>\n",
       "      <td>0.0</td>\n",
       "      <td>0.33</td>\n",
       "    </tr>\n",
       "    <tr>\n",
       "      <th>Blood</th>\n",
       "      <td>0.02</td>\n",
       "      <td>0.00</td>\n",
       "      <td>0.00</td>\n",
       "      <td>0.00</td>\n",
       "      <td>0.00</td>\n",
       "      <td>0.00</td>\n",
       "      <td>0.00</td>\n",
       "      <td>0.47</td>\n",
       "      <td>0.42</td>\n",
       "      <td>0.96</td>\n",
       "      <td>...</td>\n",
       "      <td>0.00</td>\n",
       "      <td>0.00</td>\n",
       "      <td>0.00</td>\n",
       "      <td>0.0</td>\n",
       "      <td>0.00</td>\n",
       "      <td>0.00</td>\n",
       "      <td>0.00</td>\n",
       "      <td>0.52</td>\n",
       "      <td>0.0</td>\n",
       "      <td>0.33</td>\n",
       "    </tr>\n",
       "    <tr>\n",
       "      <th>Blood_Vessel</th>\n",
       "      <td>1.00</td>\n",
       "      <td>0.00</td>\n",
       "      <td>0.72</td>\n",
       "      <td>0.27</td>\n",
       "      <td>0.28</td>\n",
       "      <td>0.29</td>\n",
       "      <td>0.06</td>\n",
       "      <td>0.89</td>\n",
       "      <td>0.78</td>\n",
       "      <td>1.00</td>\n",
       "      <td>...</td>\n",
       "      <td>0.00</td>\n",
       "      <td>0.00</td>\n",
       "      <td>0.00</td>\n",
       "      <td>0.0</td>\n",
       "      <td>0.84</td>\n",
       "      <td>0.98</td>\n",
       "      <td>0.01</td>\n",
       "      <td>0.08</td>\n",
       "      <td>0.0</td>\n",
       "      <td>0.17</td>\n",
       "    </tr>\n",
       "    <tr>\n",
       "      <th>Brain</th>\n",
       "      <td>1.00</td>\n",
       "      <td>0.00</td>\n",
       "      <td>0.45</td>\n",
       "      <td>0.24</td>\n",
       "      <td>0.06</td>\n",
       "      <td>0.02</td>\n",
       "      <td>0.00</td>\n",
       "      <td>0.65</td>\n",
       "      <td>0.46</td>\n",
       "      <td>1.00</td>\n",
       "      <td>...</td>\n",
       "      <td>0.00</td>\n",
       "      <td>0.00</td>\n",
       "      <td>0.00</td>\n",
       "      <td>0.0</td>\n",
       "      <td>0.00</td>\n",
       "      <td>0.85</td>\n",
       "      <td>0.00</td>\n",
       "      <td>0.09</td>\n",
       "      <td>0.0</td>\n",
       "      <td>0.01</td>\n",
       "    </tr>\n",
       "    <tr>\n",
       "      <th>Breast</th>\n",
       "      <td>1.00</td>\n",
       "      <td>0.01</td>\n",
       "      <td>0.98</td>\n",
       "      <td>0.98</td>\n",
       "      <td>0.51</td>\n",
       "      <td>0.97</td>\n",
       "      <td>0.89</td>\n",
       "      <td>0.91</td>\n",
       "      <td>0.82</td>\n",
       "      <td>1.00</td>\n",
       "      <td>...</td>\n",
       "      <td>0.00</td>\n",
       "      <td>0.01</td>\n",
       "      <td>0.00</td>\n",
       "      <td>0.0</td>\n",
       "      <td>0.00</td>\n",
       "      <td>0.43</td>\n",
       "      <td>0.00</td>\n",
       "      <td>0.76</td>\n",
       "      <td>0.0</td>\n",
       "      <td>0.28</td>\n",
       "    </tr>\n",
       "    <tr>\n",
       "      <th>Cervix_Uteri</th>\n",
       "      <td>1.00</td>\n",
       "      <td>0.00</td>\n",
       "      <td>1.00</td>\n",
       "      <td>0.95</td>\n",
       "      <td>0.47</td>\n",
       "      <td>0.05</td>\n",
       "      <td>0.00</td>\n",
       "      <td>0.89</td>\n",
       "      <td>0.95</td>\n",
       "      <td>1.00</td>\n",
       "      <td>...</td>\n",
       "      <td>0.00</td>\n",
       "      <td>0.00</td>\n",
       "      <td>0.00</td>\n",
       "      <td>0.0</td>\n",
       "      <td>0.21</td>\n",
       "      <td>0.89</td>\n",
       "      <td>0.05</td>\n",
       "      <td>0.95</td>\n",
       "      <td>0.0</td>\n",
       "      <td>0.42</td>\n",
       "    </tr>\n",
       "    <tr>\n",
       "      <th>Colon</th>\n",
       "      <td>1.00</td>\n",
       "      <td>0.00</td>\n",
       "      <td>0.97</td>\n",
       "      <td>0.67</td>\n",
       "      <td>0.47</td>\n",
       "      <td>0.27</td>\n",
       "      <td>0.06</td>\n",
       "      <td>0.91</td>\n",
       "      <td>0.79</td>\n",
       "      <td>1.00</td>\n",
       "      <td>...</td>\n",
       "      <td>0.00</td>\n",
       "      <td>0.00</td>\n",
       "      <td>0.00</td>\n",
       "      <td>0.0</td>\n",
       "      <td>0.73</td>\n",
       "      <td>0.78</td>\n",
       "      <td>0.00</td>\n",
       "      <td>0.85</td>\n",
       "      <td>0.0</td>\n",
       "      <td>0.33</td>\n",
       "    </tr>\n",
       "    <tr>\n",
       "      <th>Esophagus</th>\n",
       "      <td>1.00</td>\n",
       "      <td>0.01</td>\n",
       "      <td>0.87</td>\n",
       "      <td>0.32</td>\n",
       "      <td>0.45</td>\n",
       "      <td>0.05</td>\n",
       "      <td>0.01</td>\n",
       "      <td>0.93</td>\n",
       "      <td>0.79</td>\n",
       "      <td>1.00</td>\n",
       "      <td>...</td>\n",
       "      <td>0.00</td>\n",
       "      <td>0.00</td>\n",
       "      <td>0.00</td>\n",
       "      <td>0.0</td>\n",
       "      <td>0.94</td>\n",
       "      <td>0.96</td>\n",
       "      <td>0.00</td>\n",
       "      <td>0.92</td>\n",
       "      <td>0.0</td>\n",
       "      <td>0.20</td>\n",
       "    </tr>\n",
       "    <tr>\n",
       "      <th>Fallopian_Tube</th>\n",
       "      <td>1.00</td>\n",
       "      <td>0.00</td>\n",
       "      <td>1.00</td>\n",
       "      <td>0.78</td>\n",
       "      <td>0.44</td>\n",
       "      <td>0.33</td>\n",
       "      <td>0.11</td>\n",
       "      <td>1.00</td>\n",
       "      <td>1.00</td>\n",
       "      <td>1.00</td>\n",
       "      <td>...</td>\n",
       "      <td>0.00</td>\n",
       "      <td>0.00</td>\n",
       "      <td>0.00</td>\n",
       "      <td>0.0</td>\n",
       "      <td>0.11</td>\n",
       "      <td>1.00</td>\n",
       "      <td>0.00</td>\n",
       "      <td>0.78</td>\n",
       "      <td>0.0</td>\n",
       "      <td>0.56</td>\n",
       "    </tr>\n",
       "    <tr>\n",
       "      <th>Heart</th>\n",
       "      <td>0.99</td>\n",
       "      <td>0.00</td>\n",
       "      <td>0.27</td>\n",
       "      <td>0.00</td>\n",
       "      <td>0.05</td>\n",
       "      <td>0.05</td>\n",
       "      <td>0.00</td>\n",
       "      <td>0.78</td>\n",
       "      <td>0.67</td>\n",
       "      <td>1.00</td>\n",
       "      <td>...</td>\n",
       "      <td>0.00</td>\n",
       "      <td>0.00</td>\n",
       "      <td>0.00</td>\n",
       "      <td>0.0</td>\n",
       "      <td>0.01</td>\n",
       "      <td>0.49</td>\n",
       "      <td>0.00</td>\n",
       "      <td>0.26</td>\n",
       "      <td>0.0</td>\n",
       "      <td>0.07</td>\n",
       "    </tr>\n",
       "    <tr>\n",
       "      <th>Kidney</th>\n",
       "      <td>1.00</td>\n",
       "      <td>0.00</td>\n",
       "      <td>0.63</td>\n",
       "      <td>0.57</td>\n",
       "      <td>0.09</td>\n",
       "      <td>0.27</td>\n",
       "      <td>0.10</td>\n",
       "      <td>0.78</td>\n",
       "      <td>0.47</td>\n",
       "      <td>1.00</td>\n",
       "      <td>...</td>\n",
       "      <td>0.00</td>\n",
       "      <td>0.00</td>\n",
       "      <td>0.00</td>\n",
       "      <td>0.0</td>\n",
       "      <td>0.00</td>\n",
       "      <td>0.10</td>\n",
       "      <td>0.00</td>\n",
       "      <td>0.62</td>\n",
       "      <td>0.0</td>\n",
       "      <td>0.15</td>\n",
       "    </tr>\n",
       "    <tr>\n",
       "      <th>Liver</th>\n",
       "      <td>1.00</td>\n",
       "      <td>0.00</td>\n",
       "      <td>0.41</td>\n",
       "      <td>0.65</td>\n",
       "      <td>0.14</td>\n",
       "      <td>0.00</td>\n",
       "      <td>0.00</td>\n",
       "      <td>0.60</td>\n",
       "      <td>0.42</td>\n",
       "      <td>1.00</td>\n",
       "      <td>...</td>\n",
       "      <td>0.00</td>\n",
       "      <td>0.00</td>\n",
       "      <td>0.00</td>\n",
       "      <td>0.0</td>\n",
       "      <td>0.00</td>\n",
       "      <td>0.23</td>\n",
       "      <td>0.00</td>\n",
       "      <td>0.09</td>\n",
       "      <td>0.0</td>\n",
       "      <td>0.06</td>\n",
       "    </tr>\n",
       "    <tr>\n",
       "      <th>Lung</th>\n",
       "      <td>1.00</td>\n",
       "      <td>0.00</td>\n",
       "      <td>0.89</td>\n",
       "      <td>0.57</td>\n",
       "      <td>0.39</td>\n",
       "      <td>0.00</td>\n",
       "      <td>0.00</td>\n",
       "      <td>0.80</td>\n",
       "      <td>0.72</td>\n",
       "      <td>1.00</td>\n",
       "      <td>...</td>\n",
       "      <td>0.00</td>\n",
       "      <td>0.00</td>\n",
       "      <td>0.00</td>\n",
       "      <td>0.0</td>\n",
       "      <td>0.02</td>\n",
       "      <td>0.35</td>\n",
       "      <td>0.02</td>\n",
       "      <td>0.99</td>\n",
       "      <td>0.0</td>\n",
       "      <td>0.41</td>\n",
       "    </tr>\n",
       "    <tr>\n",
       "      <th>Muscle</th>\n",
       "      <td>1.00</td>\n",
       "      <td>0.00</td>\n",
       "      <td>0.16</td>\n",
       "      <td>0.00</td>\n",
       "      <td>0.02</td>\n",
       "      <td>0.28</td>\n",
       "      <td>0.01</td>\n",
       "      <td>0.84</td>\n",
       "      <td>0.72</td>\n",
       "      <td>1.00</td>\n",
       "      <td>...</td>\n",
       "      <td>0.00</td>\n",
       "      <td>0.00</td>\n",
       "      <td>0.00</td>\n",
       "      <td>0.0</td>\n",
       "      <td>0.00</td>\n",
       "      <td>0.21</td>\n",
       "      <td>0.00</td>\n",
       "      <td>0.50</td>\n",
       "      <td>0.0</td>\n",
       "      <td>0.01</td>\n",
       "    </tr>\n",
       "    <tr>\n",
       "      <th>Nerve</th>\n",
       "      <td>1.00</td>\n",
       "      <td>0.04</td>\n",
       "      <td>1.00</td>\n",
       "      <td>0.99</td>\n",
       "      <td>0.62</td>\n",
       "      <td>0.93</td>\n",
       "      <td>0.31</td>\n",
       "      <td>0.94</td>\n",
       "      <td>0.85</td>\n",
       "      <td>1.00</td>\n",
       "      <td>...</td>\n",
       "      <td>0.00</td>\n",
       "      <td>0.00</td>\n",
       "      <td>0.00</td>\n",
       "      <td>0.0</td>\n",
       "      <td>0.02</td>\n",
       "      <td>0.75</td>\n",
       "      <td>0.02</td>\n",
       "      <td>1.00</td>\n",
       "      <td>0.0</td>\n",
       "      <td>0.39</td>\n",
       "    </tr>\n",
       "    <tr>\n",
       "      <th>Ovary</th>\n",
       "      <td>1.00</td>\n",
       "      <td>0.04</td>\n",
       "      <td>1.00</td>\n",
       "      <td>1.00</td>\n",
       "      <td>0.78</td>\n",
       "      <td>0.79</td>\n",
       "      <td>0.35</td>\n",
       "      <td>0.97</td>\n",
       "      <td>0.88</td>\n",
       "      <td>1.00</td>\n",
       "      <td>...</td>\n",
       "      <td>0.00</td>\n",
       "      <td>0.00</td>\n",
       "      <td>0.01</td>\n",
       "      <td>0.0</td>\n",
       "      <td>0.03</td>\n",
       "      <td>0.55</td>\n",
       "      <td>0.01</td>\n",
       "      <td>0.23</td>\n",
       "      <td>0.0</td>\n",
       "      <td>0.43</td>\n",
       "    </tr>\n",
       "    <tr>\n",
       "      <th>Pancreas</th>\n",
       "      <td>1.00</td>\n",
       "      <td>0.00</td>\n",
       "      <td>0.21</td>\n",
       "      <td>0.09</td>\n",
       "      <td>0.01</td>\n",
       "      <td>0.00</td>\n",
       "      <td>0.00</td>\n",
       "      <td>0.80</td>\n",
       "      <td>0.53</td>\n",
       "      <td>1.00</td>\n",
       "      <td>...</td>\n",
       "      <td>0.00</td>\n",
       "      <td>0.00</td>\n",
       "      <td>0.00</td>\n",
       "      <td>0.0</td>\n",
       "      <td>0.00</td>\n",
       "      <td>0.00</td>\n",
       "      <td>0.00</td>\n",
       "      <td>0.69</td>\n",
       "      <td>0.0</td>\n",
       "      <td>0.01</td>\n",
       "    </tr>\n",
       "    <tr>\n",
       "      <th>Pituitary</th>\n",
       "      <td>1.00</td>\n",
       "      <td>0.07</td>\n",
       "      <td>1.00</td>\n",
       "      <td>1.00</td>\n",
       "      <td>0.88</td>\n",
       "      <td>0.00</td>\n",
       "      <td>0.00</td>\n",
       "      <td>0.92</td>\n",
       "      <td>0.83</td>\n",
       "      <td>1.00</td>\n",
       "      <td>...</td>\n",
       "      <td>0.00</td>\n",
       "      <td>0.00</td>\n",
       "      <td>0.00</td>\n",
       "      <td>0.0</td>\n",
       "      <td>0.00</td>\n",
       "      <td>0.97</td>\n",
       "      <td>0.00</td>\n",
       "      <td>0.53</td>\n",
       "      <td>0.0</td>\n",
       "      <td>0.16</td>\n",
       "    </tr>\n",
       "    <tr>\n",
       "      <th>Prostate</th>\n",
       "      <td>1.00</td>\n",
       "      <td>0.01</td>\n",
       "      <td>0.96</td>\n",
       "      <td>0.87</td>\n",
       "      <td>0.34</td>\n",
       "      <td>0.21</td>\n",
       "      <td>0.00</td>\n",
       "      <td>0.87</td>\n",
       "      <td>0.73</td>\n",
       "      <td>1.00</td>\n",
       "      <td>...</td>\n",
       "      <td>0.01</td>\n",
       "      <td>0.01</td>\n",
       "      <td>0.01</td>\n",
       "      <td>0.0</td>\n",
       "      <td>0.38</td>\n",
       "      <td>0.85</td>\n",
       "      <td>0.01</td>\n",
       "      <td>0.98</td>\n",
       "      <td>0.0</td>\n",
       "      <td>0.39</td>\n",
       "    </tr>\n",
       "    <tr>\n",
       "      <th>Salivary_Gland</th>\n",
       "      <td>1.00</td>\n",
       "      <td>0.00</td>\n",
       "      <td>0.95</td>\n",
       "      <td>0.91</td>\n",
       "      <td>0.44</td>\n",
       "      <td>0.29</td>\n",
       "      <td>0.03</td>\n",
       "      <td>0.91</td>\n",
       "      <td>0.78</td>\n",
       "      <td>1.00</td>\n",
       "      <td>...</td>\n",
       "      <td>0.00</td>\n",
       "      <td>0.01</td>\n",
       "      <td>0.00</td>\n",
       "      <td>0.0</td>\n",
       "      <td>0.17</td>\n",
       "      <td>0.22</td>\n",
       "      <td>0.00</td>\n",
       "      <td>0.99</td>\n",
       "      <td>0.0</td>\n",
       "      <td>0.25</td>\n",
       "    </tr>\n",
       "    <tr>\n",
       "      <th>Skin</th>\n",
       "      <td>1.00</td>\n",
       "      <td>0.00</td>\n",
       "      <td>0.47</td>\n",
       "      <td>0.23</td>\n",
       "      <td>0.19</td>\n",
       "      <td>0.58</td>\n",
       "      <td>0.12</td>\n",
       "      <td>0.88</td>\n",
       "      <td>0.74</td>\n",
       "      <td>1.00</td>\n",
       "      <td>...</td>\n",
       "      <td>0.00</td>\n",
       "      <td>0.00</td>\n",
       "      <td>0.00</td>\n",
       "      <td>0.0</td>\n",
       "      <td>0.57</td>\n",
       "      <td>0.69</td>\n",
       "      <td>0.01</td>\n",
       "      <td>0.72</td>\n",
       "      <td>0.0</td>\n",
       "      <td>0.17</td>\n",
       "    </tr>\n",
       "    <tr>\n",
       "      <th>Small_Intestine</th>\n",
       "      <td>1.00</td>\n",
       "      <td>0.00</td>\n",
       "      <td>0.90</td>\n",
       "      <td>0.65</td>\n",
       "      <td>0.49</td>\n",
       "      <td>0.21</td>\n",
       "      <td>0.05</td>\n",
       "      <td>0.91</td>\n",
       "      <td>0.82</td>\n",
       "      <td>1.00</td>\n",
       "      <td>...</td>\n",
       "      <td>0.00</td>\n",
       "      <td>0.01</td>\n",
       "      <td>0.00</td>\n",
       "      <td>0.0</td>\n",
       "      <td>0.19</td>\n",
       "      <td>0.26</td>\n",
       "      <td>0.01</td>\n",
       "      <td>0.39</td>\n",
       "      <td>0.0</td>\n",
       "      <td>0.55</td>\n",
       "    </tr>\n",
       "    <tr>\n",
       "      <th>Spleen</th>\n",
       "      <td>1.00</td>\n",
       "      <td>0.00</td>\n",
       "      <td>0.62</td>\n",
       "      <td>0.24</td>\n",
       "      <td>0.23</td>\n",
       "      <td>0.00</td>\n",
       "      <td>0.01</td>\n",
       "      <td>0.98</td>\n",
       "      <td>0.87</td>\n",
       "      <td>1.00</td>\n",
       "      <td>...</td>\n",
       "      <td>0.00</td>\n",
       "      <td>0.00</td>\n",
       "      <td>0.00</td>\n",
       "      <td>0.0</td>\n",
       "      <td>0.00</td>\n",
       "      <td>0.10</td>\n",
       "      <td>0.02</td>\n",
       "      <td>0.97</td>\n",
       "      <td>0.0</td>\n",
       "      <td>0.90</td>\n",
       "    </tr>\n",
       "    <tr>\n",
       "      <th>Stomach</th>\n",
       "      <td>1.00</td>\n",
       "      <td>0.01</td>\n",
       "      <td>0.56</td>\n",
       "      <td>0.29</td>\n",
       "      <td>0.20</td>\n",
       "      <td>0.02</td>\n",
       "      <td>0.00</td>\n",
       "      <td>0.83</td>\n",
       "      <td>0.63</td>\n",
       "      <td>1.00</td>\n",
       "      <td>...</td>\n",
       "      <td>0.00</td>\n",
       "      <td>0.00</td>\n",
       "      <td>0.00</td>\n",
       "      <td>0.0</td>\n",
       "      <td>0.30</td>\n",
       "      <td>0.38</td>\n",
       "      <td>0.00</td>\n",
       "      <td>0.86</td>\n",
       "      <td>0.0</td>\n",
       "      <td>0.27</td>\n",
       "    </tr>\n",
       "    <tr>\n",
       "      <th>Thyroid</th>\n",
       "      <td>1.00</td>\n",
       "      <td>0.00</td>\n",
       "      <td>0.90</td>\n",
       "      <td>0.78</td>\n",
       "      <td>0.21</td>\n",
       "      <td>0.11</td>\n",
       "      <td>0.01</td>\n",
       "      <td>0.93</td>\n",
       "      <td>0.82</td>\n",
       "      <td>1.00</td>\n",
       "      <td>...</td>\n",
       "      <td>0.00</td>\n",
       "      <td>0.00</td>\n",
       "      <td>0.00</td>\n",
       "      <td>0.0</td>\n",
       "      <td>0.01</td>\n",
       "      <td>0.40</td>\n",
       "      <td>0.00</td>\n",
       "      <td>1.00</td>\n",
       "      <td>0.0</td>\n",
       "      <td>0.29</td>\n",
       "    </tr>\n",
       "    <tr>\n",
       "      <th>Uterus</th>\n",
       "      <td>1.00</td>\n",
       "      <td>0.01</td>\n",
       "      <td>1.00</td>\n",
       "      <td>0.98</td>\n",
       "      <td>0.80</td>\n",
       "      <td>0.11</td>\n",
       "      <td>0.04</td>\n",
       "      <td>0.97</td>\n",
       "      <td>0.88</td>\n",
       "      <td>1.00</td>\n",
       "      <td>...</td>\n",
       "      <td>0.00</td>\n",
       "      <td>0.00</td>\n",
       "      <td>0.00</td>\n",
       "      <td>0.0</td>\n",
       "      <td>0.33</td>\n",
       "      <td>0.93</td>\n",
       "      <td>0.00</td>\n",
       "      <td>0.49</td>\n",
       "      <td>0.0</td>\n",
       "      <td>0.33</td>\n",
       "    </tr>\n",
       "    <tr>\n",
       "      <th>Vagina</th>\n",
       "      <td>1.00</td>\n",
       "      <td>0.00</td>\n",
       "      <td>0.98</td>\n",
       "      <td>0.90</td>\n",
       "      <td>0.51</td>\n",
       "      <td>0.12</td>\n",
       "      <td>0.05</td>\n",
       "      <td>0.94</td>\n",
       "      <td>0.82</td>\n",
       "      <td>1.00</td>\n",
       "      <td>...</td>\n",
       "      <td>0.00</td>\n",
       "      <td>0.00</td>\n",
       "      <td>0.00</td>\n",
       "      <td>0.0</td>\n",
       "      <td>0.74</td>\n",
       "      <td>0.87</td>\n",
       "      <td>0.00</td>\n",
       "      <td>0.99</td>\n",
       "      <td>0.0</td>\n",
       "      <td>0.51</td>\n",
       "    </tr>\n",
       "  </tbody>\n",
       "</table>\n",
       "<p>29 rows × 90626 columns</p>\n",
       "</div>"
      ],
      "text/plain": [
       "                 ENST00000373020.8  ENST00000494424.1  ENST00000496771.5   \n",
       "tissue                                                                     \n",
       "Adipose_Tissue                1.00               0.00               0.98  \\\n",
       "Adrenal_Gland                 1.00               0.00               0.47   \n",
       "Bladder                       1.00               0.00               0.90   \n",
       "Blood                         0.02               0.00               0.00   \n",
       "Blood_Vessel                  1.00               0.00               0.72   \n",
       "Brain                         1.00               0.00               0.45   \n",
       "Breast                        1.00               0.01               0.98   \n",
       "Cervix_Uteri                  1.00               0.00               1.00   \n",
       "Colon                         1.00               0.00               0.97   \n",
       "Esophagus                     1.00               0.01               0.87   \n",
       "Fallopian_Tube                1.00               0.00               1.00   \n",
       "Heart                         0.99               0.00               0.27   \n",
       "Kidney                        1.00               0.00               0.63   \n",
       "Liver                         1.00               0.00               0.41   \n",
       "Lung                          1.00               0.00               0.89   \n",
       "Muscle                        1.00               0.00               0.16   \n",
       "Nerve                         1.00               0.04               1.00   \n",
       "Ovary                         1.00               0.04               1.00   \n",
       "Pancreas                      1.00               0.00               0.21   \n",
       "Pituitary                     1.00               0.07               1.00   \n",
       "Prostate                      1.00               0.01               0.96   \n",
       "Salivary_Gland                1.00               0.00               0.95   \n",
       "Skin                          1.00               0.00               0.47   \n",
       "Small_Intestine               1.00               0.00               0.90   \n",
       "Spleen                        1.00               0.00               0.62   \n",
       "Stomach                       1.00               0.01               0.56   \n",
       "Thyroid                       1.00               0.00               0.90   \n",
       "Uterus                        1.00               0.01               1.00   \n",
       "Vagina                        1.00               0.00               0.98   \n",
       "\n",
       "                 ENST00000612152.4  ENST00000614008.4  ENST00000373031.4   \n",
       "tissue                                                                     \n",
       "Adipose_Tissue                0.92               0.64               0.99  \\\n",
       "Adrenal_Gland                 0.46               0.22               0.02   \n",
       "Bladder                       0.57               0.33               0.14   \n",
       "Blood                         0.00               0.00               0.00   \n",
       "Blood_Vessel                  0.27               0.28               0.29   \n",
       "Brain                         0.24               0.06               0.02   \n",
       "Breast                        0.98               0.51               0.97   \n",
       "Cervix_Uteri                  0.95               0.47               0.05   \n",
       "Colon                         0.67               0.47               0.27   \n",
       "Esophagus                     0.32               0.45               0.05   \n",
       "Fallopian_Tube                0.78               0.44               0.33   \n",
       "Heart                         0.00               0.05               0.05   \n",
       "Kidney                        0.57               0.09               0.27   \n",
       "Liver                         0.65               0.14               0.00   \n",
       "Lung                          0.57               0.39               0.00   \n",
       "Muscle                        0.00               0.02               0.28   \n",
       "Nerve                         0.99               0.62               0.93   \n",
       "Ovary                         1.00               0.78               0.79   \n",
       "Pancreas                      0.09               0.01               0.00   \n",
       "Pituitary                     1.00               0.88               0.00   \n",
       "Prostate                      0.87               0.34               0.21   \n",
       "Salivary_Gland                0.91               0.44               0.29   \n",
       "Skin                          0.23               0.19               0.58   \n",
       "Small_Intestine               0.65               0.49               0.21   \n",
       "Spleen                        0.24               0.23               0.00   \n",
       "Stomach                       0.29               0.20               0.02   \n",
       "Thyroid                       0.78               0.21               0.11   \n",
       "Uterus                        0.98               0.80               0.11   \n",
       "Vagina                        0.90               0.51               0.12   \n",
       "\n",
       "                 ENST00000485971.1  ENST00000371582.8  ENST00000371584.8   \n",
       "tissue                                                                     \n",
       "Adipose_Tissue                0.95               0.92               0.79  \\\n",
       "Adrenal_Gland                 0.01               0.91               0.83   \n",
       "Bladder                       0.00               1.00               0.90   \n",
       "Blood                         0.00               0.47               0.42   \n",
       "Blood_Vessel                  0.06               0.89               0.78   \n",
       "Brain                         0.00               0.65               0.46   \n",
       "Breast                        0.89               0.91               0.82   \n",
       "Cervix_Uteri                  0.00               0.89               0.95   \n",
       "Colon                         0.06               0.91               0.79   \n",
       "Esophagus                     0.01               0.93               0.79   \n",
       "Fallopian_Tube                0.11               1.00               1.00   \n",
       "Heart                         0.00               0.78               0.67   \n",
       "Kidney                        0.10               0.78               0.47   \n",
       "Liver                         0.00               0.60               0.42   \n",
       "Lung                          0.00               0.80               0.72   \n",
       "Muscle                        0.01               0.84               0.72   \n",
       "Nerve                         0.31               0.94               0.85   \n",
       "Ovary                         0.35               0.97               0.88   \n",
       "Pancreas                      0.00               0.80               0.53   \n",
       "Pituitary                     0.00               0.92               0.83   \n",
       "Prostate                      0.00               0.87               0.73   \n",
       "Salivary_Gland                0.03               0.91               0.78   \n",
       "Skin                          0.12               0.88               0.74   \n",
       "Small_Intestine               0.05               0.91               0.82   \n",
       "Spleen                        0.01               0.98               0.87   \n",
       "Stomach                       0.00               0.83               0.63   \n",
       "Thyroid                       0.01               0.93               0.82   \n",
       "Uterus                        0.04               0.97               0.88   \n",
       "Vagina                        0.05               0.94               0.82   \n",
       "\n",
       "                 ENST00000371588.9  ...  ENST00000640733.1  ENST00000640778.1   \n",
       "tissue                              ...                                         \n",
       "Adipose_Tissue                1.00  ...               0.00               0.00  \\\n",
       "Adrenal_Gland                 1.00  ...               0.00               0.00   \n",
       "Bladder                       1.00  ...               0.00               0.00   \n",
       "Blood                         0.96  ...               0.00               0.00   \n",
       "Blood_Vessel                  1.00  ...               0.00               0.00   \n",
       "Brain                         1.00  ...               0.00               0.00   \n",
       "Breast                        1.00  ...               0.00               0.01   \n",
       "Cervix_Uteri                  1.00  ...               0.00               0.00   \n",
       "Colon                         1.00  ...               0.00               0.00   \n",
       "Esophagus                     1.00  ...               0.00               0.00   \n",
       "Fallopian_Tube                1.00  ...               0.00               0.00   \n",
       "Heart                         1.00  ...               0.00               0.00   \n",
       "Kidney                        1.00  ...               0.00               0.00   \n",
       "Liver                         1.00  ...               0.00               0.00   \n",
       "Lung                          1.00  ...               0.00               0.00   \n",
       "Muscle                        1.00  ...               0.00               0.00   \n",
       "Nerve                         1.00  ...               0.00               0.00   \n",
       "Ovary                         1.00  ...               0.00               0.00   \n",
       "Pancreas                      1.00  ...               0.00               0.00   \n",
       "Pituitary                     1.00  ...               0.00               0.00   \n",
       "Prostate                      1.00  ...               0.01               0.01   \n",
       "Salivary_Gland                1.00  ...               0.00               0.01   \n",
       "Skin                          1.00  ...               0.00               0.00   \n",
       "Small_Intestine               1.00  ...               0.00               0.01   \n",
       "Spleen                        1.00  ...               0.00               0.00   \n",
       "Stomach                       1.00  ...               0.00               0.00   \n",
       "Thyroid                       1.00  ...               0.00               0.00   \n",
       "Uterus                        1.00  ...               0.00               0.00   \n",
       "Vagina                        1.00  ...               0.00               0.00   \n",
       "\n",
       "                 ENST00000640881.1  ENST00000640932.1  ENST00000523332.5   \n",
       "tissue                                                                     \n",
       "Adipose_Tissue                0.00                0.0               0.03  \\\n",
       "Adrenal_Gland                 0.00                0.0               0.00   \n",
       "Bladder                       0.00                0.0               0.48   \n",
       "Blood                         0.00                0.0               0.00   \n",
       "Blood_Vessel                  0.00                0.0               0.84   \n",
       "Brain                         0.00                0.0               0.00   \n",
       "Breast                        0.00                0.0               0.00   \n",
       "Cervix_Uteri                  0.00                0.0               0.21   \n",
       "Colon                         0.00                0.0               0.73   \n",
       "Esophagus                     0.00                0.0               0.94   \n",
       "Fallopian_Tube                0.00                0.0               0.11   \n",
       "Heart                         0.00                0.0               0.01   \n",
       "Kidney                        0.00                0.0               0.00   \n",
       "Liver                         0.00                0.0               0.00   \n",
       "Lung                          0.00                0.0               0.02   \n",
       "Muscle                        0.00                0.0               0.00   \n",
       "Nerve                         0.00                0.0               0.02   \n",
       "Ovary                         0.01                0.0               0.03   \n",
       "Pancreas                      0.00                0.0               0.00   \n",
       "Pituitary                     0.00                0.0               0.00   \n",
       "Prostate                      0.01                0.0               0.38   \n",
       "Salivary_Gland                0.00                0.0               0.17   \n",
       "Skin                          0.00                0.0               0.57   \n",
       "Small_Intestine               0.00                0.0               0.19   \n",
       "Spleen                        0.00                0.0               0.00   \n",
       "Stomach                       0.00                0.0               0.30   \n",
       "Thyroid                       0.00                0.0               0.01   \n",
       "Uterus                        0.00                0.0               0.33   \n",
       "Vagina                        0.00                0.0               0.74   \n",
       "\n",
       "                 ENST00000615007.4  ENST00000638789.1  ENST00000640006.1   \n",
       "tissue                                                                     \n",
       "Adipose_Tissue                0.30               0.00               0.58  \\\n",
       "Adrenal_Gland                 0.86               0.00               0.37   \n",
       "Bladder                       0.71               0.00               0.86   \n",
       "Blood                         0.00               0.00               0.52   \n",
       "Blood_Vessel                  0.98               0.01               0.08   \n",
       "Brain                         0.85               0.00               0.09   \n",
       "Breast                        0.43               0.00               0.76   \n",
       "Cervix_Uteri                  0.89               0.05               0.95   \n",
       "Colon                         0.78               0.00               0.85   \n",
       "Esophagus                     0.96               0.00               0.92   \n",
       "Fallopian_Tube                1.00               0.00               0.78   \n",
       "Heart                         0.49               0.00               0.26   \n",
       "Kidney                        0.10               0.00               0.62   \n",
       "Liver                         0.23               0.00               0.09   \n",
       "Lung                          0.35               0.02               0.99   \n",
       "Muscle                        0.21               0.00               0.50   \n",
       "Nerve                         0.75               0.02               1.00   \n",
       "Ovary                         0.55               0.01               0.23   \n",
       "Pancreas                      0.00               0.00               0.69   \n",
       "Pituitary                     0.97               0.00               0.53   \n",
       "Prostate                      0.85               0.01               0.98   \n",
       "Salivary_Gland                0.22               0.00               0.99   \n",
       "Skin                          0.69               0.01               0.72   \n",
       "Small_Intestine               0.26               0.01               0.39   \n",
       "Spleen                        0.10               0.02               0.97   \n",
       "Stomach                       0.38               0.00               0.86   \n",
       "Thyroid                       0.40               0.00               1.00   \n",
       "Uterus                        0.93               0.00               0.49   \n",
       "Vagina                        0.87               0.00               0.99   \n",
       "\n",
       "                 ENST00000639687.1  ENST00000622217.1  \n",
       "tissue                                                 \n",
       "Adipose_Tissue                 0.0               0.29  \n",
       "Adrenal_Gland                  0.0               0.18  \n",
       "Bladder                        0.0               0.33  \n",
       "Blood                          0.0               0.33  \n",
       "Blood_Vessel                   0.0               0.17  \n",
       "Brain                          0.0               0.01  \n",
       "Breast                         0.0               0.28  \n",
       "Cervix_Uteri                   0.0               0.42  \n",
       "Colon                          0.0               0.33  \n",
       "Esophagus                      0.0               0.20  \n",
       "Fallopian_Tube                 0.0               0.56  \n",
       "Heart                          0.0               0.07  \n",
       "Kidney                         0.0               0.15  \n",
       "Liver                          0.0               0.06  \n",
       "Lung                           0.0               0.41  \n",
       "Muscle                         0.0               0.01  \n",
       "Nerve                          0.0               0.39  \n",
       "Ovary                          0.0               0.43  \n",
       "Pancreas                       0.0               0.01  \n",
       "Pituitary                      0.0               0.16  \n",
       "Prostate                       0.0               0.39  \n",
       "Salivary_Gland                 0.0               0.25  \n",
       "Skin                           0.0               0.17  \n",
       "Small_Intestine                0.0               0.55  \n",
       "Spleen                         0.0               0.90  \n",
       "Stomach                        0.0               0.27  \n",
       "Thyroid                        0.0               0.29  \n",
       "Uterus                         0.0               0.33  \n",
       "Vagina                         0.0               0.51  \n",
       "\n",
       "[29 rows x 90626 columns]"
      ]
     },
     "execution_count": 6,
     "metadata": {},
     "output_type": "execute_result"
    }
   ],
   "source": [
    "df"
   ]
  },
  {
   "cell_type": "code",
   "execution_count": 7,
   "id": "f202e9b9-ad87-45a2-b174-2c9a14025c29",
   "metadata": {},
   "outputs": [],
   "source": [
    "cv = lambda x: np.std(x, ddof=1) / np.mean(x) * 100 "
   ]
  },
  {
   "cell_type": "code",
   "execution_count": 8,
   "id": "0a2f2b24-76b9-4538-a37f-79e6e40d7714",
   "metadata": {},
   "outputs": [
    {
     "name": "stderr",
     "output_type": "stream",
     "text": [
      "/tmp/ipykernel_749401/9528921.py:1: RuntimeWarning: invalid value encountered in scalar divide\n",
      "  cv = lambda x: np.std(x, ddof=1) / np.mean(x) * 100\n"
     ]
    },
    {
     "data": {
      "text/html": [
       "<div>\n",
       "<style scoped>\n",
       "    .dataframe tbody tr th:only-of-type {\n",
       "        vertical-align: middle;\n",
       "    }\n",
       "\n",
       "    .dataframe tbody tr th {\n",
       "        vertical-align: top;\n",
       "    }\n",
       "\n",
       "    .dataframe thead th {\n",
       "        text-align: right;\n",
       "    }\n",
       "</style>\n",
       "<table border=\"1\" class=\"dataframe\">\n",
       "  <thead>\n",
       "    <tr style=\"text-align: right;\">\n",
       "      <th></th>\n",
       "      <th>Transcript</th>\n",
       "      <th>Coefficien Variaence</th>\n",
       "    </tr>\n",
       "  </thead>\n",
       "  <tbody>\n",
       "    <tr>\n",
       "      <th>24064</th>\n",
       "      <td>ENST00000441382.1</td>\n",
       "      <td>538.516481</td>\n",
       "    </tr>\n",
       "    <tr>\n",
       "      <th>87681</th>\n",
       "      <td>ENST00000604757.1</td>\n",
       "      <td>538.516481</td>\n",
       "    </tr>\n",
       "    <tr>\n",
       "      <th>26599</th>\n",
       "      <td>ENST00000484428.5</td>\n",
       "      <td>538.516481</td>\n",
       "    </tr>\n",
       "    <tr>\n",
       "      <th>78788</th>\n",
       "      <td>ENST00000424250.2</td>\n",
       "      <td>538.516481</td>\n",
       "    </tr>\n",
       "    <tr>\n",
       "      <th>26003</th>\n",
       "      <td>ENST00000372741.7</td>\n",
       "      <td>538.516481</td>\n",
       "    </tr>\n",
       "    <tr>\n",
       "      <th>...</th>\n",
       "      <td>...</td>\n",
       "      <td>...</td>\n",
       "    </tr>\n",
       "    <tr>\n",
       "      <th>90612</th>\n",
       "      <td>ENST00000638243.1</td>\n",
       "      <td>NaN</td>\n",
       "    </tr>\n",
       "    <tr>\n",
       "      <th>90613</th>\n",
       "      <td>ENST00000638815.1</td>\n",
       "      <td>NaN</td>\n",
       "    </tr>\n",
       "    <tr>\n",
       "      <th>90615</th>\n",
       "      <td>ENST00000638997.1</td>\n",
       "      <td>NaN</td>\n",
       "    </tr>\n",
       "    <tr>\n",
       "      <th>90619</th>\n",
       "      <td>ENST00000640932.1</td>\n",
       "      <td>NaN</td>\n",
       "    </tr>\n",
       "    <tr>\n",
       "      <th>90624</th>\n",
       "      <td>ENST00000639687.1</td>\n",
       "      <td>NaN</td>\n",
       "    </tr>\n",
       "  </tbody>\n",
       "</table>\n",
       "<p>90626 rows × 2 columns</p>\n",
       "</div>"
      ],
      "text/plain": [
       "              Transcript  Coefficien Variaence\n",
       "24064  ENST00000441382.1            538.516481\n",
       "87681  ENST00000604757.1            538.516481\n",
       "26599  ENST00000484428.5            538.516481\n",
       "78788  ENST00000424250.2            538.516481\n",
       "26003  ENST00000372741.7            538.516481\n",
       "...                  ...                   ...\n",
       "90612  ENST00000638243.1                   NaN\n",
       "90613  ENST00000638815.1                   NaN\n",
       "90615  ENST00000638997.1                   NaN\n",
       "90619  ENST00000640932.1                   NaN\n",
       "90624  ENST00000639687.1                   NaN\n",
       "\n",
       "[90626 rows x 2 columns]"
      ]
     },
     "execution_count": 8,
     "metadata": {},
     "output_type": "execute_result"
    }
   ],
   "source": [
    "df_temp = pd.DataFrame(df.apply(cv), columns=['Coefficien Variaence']).reset_index()\n",
    "df_temp = df_temp.sort_values(by='Coefficien Variaence', ascending=False)\n",
    "df_temp.rename(columns = {'index':'Transcript'}, inplace = True)\n",
    "df_temp"
   ]
  },
  {
   "cell_type": "code",
   "execution_count": 9,
   "id": "ba5fe85e-0341-492b-80dd-f5e34dbff818",
   "metadata": {},
   "outputs": [
    {
     "data": {
      "text/html": [
       "<div>\n",
       "<style scoped>\n",
       "    .dataframe tbody tr th:only-of-type {\n",
       "        vertical-align: middle;\n",
       "    }\n",
       "\n",
       "    .dataframe tbody tr th {\n",
       "        vertical-align: top;\n",
       "    }\n",
       "\n",
       "    .dataframe thead th {\n",
       "        text-align: right;\n",
       "    }\n",
       "</style>\n",
       "<table border=\"1\" class=\"dataframe\">\n",
       "  <thead>\n",
       "    <tr style=\"text-align: right;\">\n",
       "      <th></th>\n",
       "      <th>Transcript</th>\n",
       "      <th>Coefficien Variaence</th>\n",
       "    </tr>\n",
       "  </thead>\n",
       "  <tbody>\n",
       "    <tr>\n",
       "      <th>24064</th>\n",
       "      <td>ENST00000441382.1</td>\n",
       "      <td>538.516481</td>\n",
       "    </tr>\n",
       "    <tr>\n",
       "      <th>87681</th>\n",
       "      <td>ENST00000604757.1</td>\n",
       "      <td>538.516481</td>\n",
       "    </tr>\n",
       "    <tr>\n",
       "      <th>26599</th>\n",
       "      <td>ENST00000484428.5</td>\n",
       "      <td>538.516481</td>\n",
       "    </tr>\n",
       "    <tr>\n",
       "      <th>78788</th>\n",
       "      <td>ENST00000424250.2</td>\n",
       "      <td>538.516481</td>\n",
       "    </tr>\n",
       "    <tr>\n",
       "      <th>26003</th>\n",
       "      <td>ENST00000372741.7</td>\n",
       "      <td>538.516481</td>\n",
       "    </tr>\n",
       "    <tr>\n",
       "      <th>...</th>\n",
       "      <td>...</td>\n",
       "      <td>...</td>\n",
       "    </tr>\n",
       "    <tr>\n",
       "      <th>3121</th>\n",
       "      <td>ENST00000522823.5</td>\n",
       "      <td>85.026097</td>\n",
       "    </tr>\n",
       "    <tr>\n",
       "      <th>54051</th>\n",
       "      <td>ENST00000576537.1</td>\n",
       "      <td>85.022633</td>\n",
       "    </tr>\n",
       "    <tr>\n",
       "      <th>45465</th>\n",
       "      <td>ENST00000498033.5</td>\n",
       "      <td>85.019875</td>\n",
       "    </tr>\n",
       "    <tr>\n",
       "      <th>72842</th>\n",
       "      <td>ENST00000560102.1</td>\n",
       "      <td>85.002816</td>\n",
       "    </tr>\n",
       "    <tr>\n",
       "      <th>78369</th>\n",
       "      <td>ENST00000433660.1</td>\n",
       "      <td>84.994342</td>\n",
       "    </tr>\n",
       "  </tbody>\n",
       "</table>\n",
       "<p>22656 rows × 2 columns</p>\n",
       "</div>"
      ],
      "text/plain": [
       "              Transcript  Coefficien Variaence\n",
       "24064  ENST00000441382.1            538.516481\n",
       "87681  ENST00000604757.1            538.516481\n",
       "26599  ENST00000484428.5            538.516481\n",
       "78788  ENST00000424250.2            538.516481\n",
       "26003  ENST00000372741.7            538.516481\n",
       "...                  ...                   ...\n",
       "3121   ENST00000522823.5             85.026097\n",
       "54051  ENST00000576537.1             85.022633\n",
       "45465  ENST00000498033.5             85.019875\n",
       "72842  ENST00000560102.1             85.002816\n",
       "78369  ENST00000433660.1             84.994342\n",
       "\n",
       "[22656 rows x 2 columns]"
      ]
     },
     "execution_count": 9,
     "metadata": {},
     "output_type": "execute_result"
    }
   ],
   "source": [
    "n = 25\n",
    "df_25 = df_temp.head(int(len(df_temp)*(n/100)))\n",
    "df_25"
   ]
  },
  {
   "cell_type": "markdown",
   "id": "bd07303e-e0b6-4141-8c9c-3d61de6f161f",
   "metadata": {},
   "source": [
    "## Important Transcripts for Clustering"
   ]
  },
  {
   "cell_type": "code",
   "execution_count": 10,
   "id": "277edd95-d495-4f68-975f-a867165fa3a9",
   "metadata": {},
   "outputs": [],
   "source": [
    "transcript_list = df_25['Transcript'].to_list()"
   ]
  },
  {
   "cell_type": "code",
   "execution_count": 11,
   "id": "8128389e-68fa-41c7-ba0d-a273b3ffcfab",
   "metadata": {},
   "outputs": [
    {
     "data": {
      "text/plain": [
       "22656"
      ]
     },
     "execution_count": 11,
     "metadata": {},
     "output_type": "execute_result"
    }
   ],
   "source": [
    "len(transcript_list)"
   ]
  },
  {
   "cell_type": "code",
   "execution_count": 12,
   "id": "a10b83bd-3363-479b-af29-91fec2ab4a23",
   "metadata": {},
   "outputs": [
    {
     "data": {
      "text/html": [
       "<div>\n",
       "<style scoped>\n",
       "    .dataframe tbody tr th:only-of-type {\n",
       "        vertical-align: middle;\n",
       "    }\n",
       "\n",
       "    .dataframe tbody tr th {\n",
       "        vertical-align: top;\n",
       "    }\n",
       "\n",
       "    .dataframe thead th {\n",
       "        text-align: right;\n",
       "    }\n",
       "</style>\n",
       "<table border=\"1\" class=\"dataframe\">\n",
       "  <thead>\n",
       "    <tr style=\"text-align: right;\">\n",
       "      <th></th>\n",
       "      <th>ENST00000441382.1</th>\n",
       "      <th>ENST00000604757.1</th>\n",
       "      <th>ENST00000484428.5</th>\n",
       "      <th>ENST00000424250.2</th>\n",
       "      <th>ENST00000372741.7</th>\n",
       "      <th>ENST00000456728.1</th>\n",
       "      <th>ENST00000621682.4</th>\n",
       "      <th>ENST00000413632.6</th>\n",
       "      <th>ENST00000441065.2</th>\n",
       "      <th>ENST00000470251.1</th>\n",
       "      <th>...</th>\n",
       "      <th>ENST00000510535.1</th>\n",
       "      <th>ENST00000609870.5</th>\n",
       "      <th>ENST00000339024.8</th>\n",
       "      <th>ENST00000517914.1</th>\n",
       "      <th>ENST00000505748.5</th>\n",
       "      <th>ENST00000522823.5</th>\n",
       "      <th>ENST00000576537.1</th>\n",
       "      <th>ENST00000498033.5</th>\n",
       "      <th>ENST00000560102.1</th>\n",
       "      <th>ENST00000433660.1</th>\n",
       "    </tr>\n",
       "    <tr>\n",
       "      <th>tissue</th>\n",
       "      <th></th>\n",
       "      <th></th>\n",
       "      <th></th>\n",
       "      <th></th>\n",
       "      <th></th>\n",
       "      <th></th>\n",
       "      <th></th>\n",
       "      <th></th>\n",
       "      <th></th>\n",
       "      <th></th>\n",
       "      <th></th>\n",
       "      <th></th>\n",
       "      <th></th>\n",
       "      <th></th>\n",
       "      <th></th>\n",
       "      <th></th>\n",
       "      <th></th>\n",
       "      <th></th>\n",
       "      <th></th>\n",
       "      <th></th>\n",
       "      <th></th>\n",
       "    </tr>\n",
       "  </thead>\n",
       "  <tbody>\n",
       "    <tr>\n",
       "      <th>Adipose_Tissue</th>\n",
       "      <td>0.00</td>\n",
       "      <td>0.00</td>\n",
       "      <td>0.00</td>\n",
       "      <td>0.00</td>\n",
       "      <td>0.00</td>\n",
       "      <td>0.00</td>\n",
       "      <td>0.00</td>\n",
       "      <td>0.00</td>\n",
       "      <td>0.00</td>\n",
       "      <td>0.00</td>\n",
       "      <td>...</td>\n",
       "      <td>0.06</td>\n",
       "      <td>0.44</td>\n",
       "      <td>0.23</td>\n",
       "      <td>0.26</td>\n",
       "      <td>0.18</td>\n",
       "      <td>0.55</td>\n",
       "      <td>0.22</td>\n",
       "      <td>0.05</td>\n",
       "      <td>0.36</td>\n",
       "      <td>0.02</td>\n",
       "    </tr>\n",
       "    <tr>\n",
       "      <th>Adrenal_Gland</th>\n",
       "      <td>0.00</td>\n",
       "      <td>0.00</td>\n",
       "      <td>0.00</td>\n",
       "      <td>0.00</td>\n",
       "      <td>0.00</td>\n",
       "      <td>0.03</td>\n",
       "      <td>0.00</td>\n",
       "      <td>0.00</td>\n",
       "      <td>0.00</td>\n",
       "      <td>0.00</td>\n",
       "      <td>...</td>\n",
       "      <td>0.23</td>\n",
       "      <td>0.13</td>\n",
       "      <td>0.81</td>\n",
       "      <td>0.03</td>\n",
       "      <td>0.30</td>\n",
       "      <td>0.04</td>\n",
       "      <td>0.15</td>\n",
       "      <td>0.11</td>\n",
       "      <td>0.16</td>\n",
       "      <td>0.01</td>\n",
       "    </tr>\n",
       "    <tr>\n",
       "      <th>Bladder</th>\n",
       "      <td>0.00</td>\n",
       "      <td>0.00</td>\n",
       "      <td>0.00</td>\n",
       "      <td>0.00</td>\n",
       "      <td>0.00</td>\n",
       "      <td>0.00</td>\n",
       "      <td>0.00</td>\n",
       "      <td>0.00</td>\n",
       "      <td>0.00</td>\n",
       "      <td>0.00</td>\n",
       "      <td>...</td>\n",
       "      <td>0.62</td>\n",
       "      <td>0.67</td>\n",
       "      <td>0.19</td>\n",
       "      <td>0.19</td>\n",
       "      <td>0.57</td>\n",
       "      <td>0.38</td>\n",
       "      <td>0.57</td>\n",
       "      <td>0.05</td>\n",
       "      <td>0.38</td>\n",
       "      <td>0.00</td>\n",
       "    </tr>\n",
       "    <tr>\n",
       "      <th>Blood</th>\n",
       "      <td>0.00</td>\n",
       "      <td>0.00</td>\n",
       "      <td>0.00</td>\n",
       "      <td>0.00</td>\n",
       "      <td>0.00</td>\n",
       "      <td>0.00</td>\n",
       "      <td>0.00</td>\n",
       "      <td>0.00</td>\n",
       "      <td>0.00</td>\n",
       "      <td>0.00</td>\n",
       "      <td>...</td>\n",
       "      <td>0.05</td>\n",
       "      <td>0.98</td>\n",
       "      <td>0.09</td>\n",
       "      <td>0.12</td>\n",
       "      <td>0.00</td>\n",
       "      <td>0.76</td>\n",
       "      <td>0.66</td>\n",
       "      <td>0.00</td>\n",
       "      <td>0.00</td>\n",
       "      <td>0.01</td>\n",
       "    </tr>\n",
       "    <tr>\n",
       "      <th>Blood_Vessel</th>\n",
       "      <td>0.00</td>\n",
       "      <td>0.00</td>\n",
       "      <td>0.00</td>\n",
       "      <td>0.00</td>\n",
       "      <td>0.00</td>\n",
       "      <td>0.00</td>\n",
       "      <td>0.00</td>\n",
       "      <td>0.00</td>\n",
       "      <td>0.00</td>\n",
       "      <td>0.00</td>\n",
       "      <td>...</td>\n",
       "      <td>0.19</td>\n",
       "      <td>0.26</td>\n",
       "      <td>0.58</td>\n",
       "      <td>0.45</td>\n",
       "      <td>0.19</td>\n",
       "      <td>0.26</td>\n",
       "      <td>0.15</td>\n",
       "      <td>0.19</td>\n",
       "      <td>0.09</td>\n",
       "      <td>0.09</td>\n",
       "    </tr>\n",
       "    <tr>\n",
       "      <th>Brain</th>\n",
       "      <td>0.00</td>\n",
       "      <td>0.00</td>\n",
       "      <td>0.83</td>\n",
       "      <td>0.00</td>\n",
       "      <td>0.00</td>\n",
       "      <td>0.00</td>\n",
       "      <td>0.00</td>\n",
       "      <td>0.00</td>\n",
       "      <td>0.00</td>\n",
       "      <td>0.00</td>\n",
       "      <td>...</td>\n",
       "      <td>0.27</td>\n",
       "      <td>0.08</td>\n",
       "      <td>0.02</td>\n",
       "      <td>0.01</td>\n",
       "      <td>0.36</td>\n",
       "      <td>0.03</td>\n",
       "      <td>0.45</td>\n",
       "      <td>0.01</td>\n",
       "      <td>0.00</td>\n",
       "      <td>0.06</td>\n",
       "    </tr>\n",
       "    <tr>\n",
       "      <th>Breast</th>\n",
       "      <td>0.00</td>\n",
       "      <td>0.00</td>\n",
       "      <td>0.00</td>\n",
       "      <td>0.00</td>\n",
       "      <td>0.00</td>\n",
       "      <td>0.00</td>\n",
       "      <td>0.00</td>\n",
       "      <td>0.00</td>\n",
       "      <td>0.00</td>\n",
       "      <td>0.00</td>\n",
       "      <td>...</td>\n",
       "      <td>0.25</td>\n",
       "      <td>0.21</td>\n",
       "      <td>0.20</td>\n",
       "      <td>0.36</td>\n",
       "      <td>0.13</td>\n",
       "      <td>0.40</td>\n",
       "      <td>0.15</td>\n",
       "      <td>0.17</td>\n",
       "      <td>0.12</td>\n",
       "      <td>0.07</td>\n",
       "    </tr>\n",
       "    <tr>\n",
       "      <th>Cervix_Uteri</th>\n",
       "      <td>0.00</td>\n",
       "      <td>0.00</td>\n",
       "      <td>0.00</td>\n",
       "      <td>0.00</td>\n",
       "      <td>0.00</td>\n",
       "      <td>0.00</td>\n",
       "      <td>0.00</td>\n",
       "      <td>0.00</td>\n",
       "      <td>0.00</td>\n",
       "      <td>0.00</td>\n",
       "      <td>...</td>\n",
       "      <td>0.37</td>\n",
       "      <td>0.16</td>\n",
       "      <td>0.37</td>\n",
       "      <td>0.32</td>\n",
       "      <td>0.68</td>\n",
       "      <td>0.11</td>\n",
       "      <td>0.00</td>\n",
       "      <td>0.00</td>\n",
       "      <td>0.58</td>\n",
       "      <td>0.05</td>\n",
       "    </tr>\n",
       "    <tr>\n",
       "      <th>Colon</th>\n",
       "      <td>0.00</td>\n",
       "      <td>0.00</td>\n",
       "      <td>0.00</td>\n",
       "      <td>0.00</td>\n",
       "      <td>0.00</td>\n",
       "      <td>0.00</td>\n",
       "      <td>0.00</td>\n",
       "      <td>0.00</td>\n",
       "      <td>0.00</td>\n",
       "      <td>0.00</td>\n",
       "      <td>...</td>\n",
       "      <td>0.26</td>\n",
       "      <td>0.44</td>\n",
       "      <td>0.15</td>\n",
       "      <td>0.25</td>\n",
       "      <td>0.37</td>\n",
       "      <td>0.18</td>\n",
       "      <td>0.11</td>\n",
       "      <td>0.04</td>\n",
       "      <td>0.67</td>\n",
       "      <td>0.07</td>\n",
       "    </tr>\n",
       "    <tr>\n",
       "      <th>Esophagus</th>\n",
       "      <td>0.00</td>\n",
       "      <td>0.00</td>\n",
       "      <td>0.00</td>\n",
       "      <td>0.00</td>\n",
       "      <td>0.00</td>\n",
       "      <td>0.00</td>\n",
       "      <td>0.00</td>\n",
       "      <td>0.00</td>\n",
       "      <td>0.00</td>\n",
       "      <td>0.00</td>\n",
       "      <td>...</td>\n",
       "      <td>0.51</td>\n",
       "      <td>0.48</td>\n",
       "      <td>0.09</td>\n",
       "      <td>0.25</td>\n",
       "      <td>0.19</td>\n",
       "      <td>0.11</td>\n",
       "      <td>0.08</td>\n",
       "      <td>0.04</td>\n",
       "      <td>0.40</td>\n",
       "      <td>0.02</td>\n",
       "    </tr>\n",
       "    <tr>\n",
       "      <th>Fallopian_Tube</th>\n",
       "      <td>0.00</td>\n",
       "      <td>0.00</td>\n",
       "      <td>0.00</td>\n",
       "      <td>0.00</td>\n",
       "      <td>0.00</td>\n",
       "      <td>0.00</td>\n",
       "      <td>0.00</td>\n",
       "      <td>0.11</td>\n",
       "      <td>0.00</td>\n",
       "      <td>0.00</td>\n",
       "      <td>...</td>\n",
       "      <td>0.44</td>\n",
       "      <td>0.44</td>\n",
       "      <td>0.78</td>\n",
       "      <td>0.33</td>\n",
       "      <td>0.89</td>\n",
       "      <td>0.44</td>\n",
       "      <td>0.56</td>\n",
       "      <td>0.11</td>\n",
       "      <td>0.56</td>\n",
       "      <td>0.00</td>\n",
       "    </tr>\n",
       "    <tr>\n",
       "      <th>Heart</th>\n",
       "      <td>0.00</td>\n",
       "      <td>0.00</td>\n",
       "      <td>0.00</td>\n",
       "      <td>0.00</td>\n",
       "      <td>0.00</td>\n",
       "      <td>0.00</td>\n",
       "      <td>0.00</td>\n",
       "      <td>0.00</td>\n",
       "      <td>0.00</td>\n",
       "      <td>0.00</td>\n",
       "      <td>...</td>\n",
       "      <td>0.02</td>\n",
       "      <td>0.07</td>\n",
       "      <td>0.00</td>\n",
       "      <td>0.07</td>\n",
       "      <td>0.06</td>\n",
       "      <td>0.11</td>\n",
       "      <td>0.10</td>\n",
       "      <td>0.02</td>\n",
       "      <td>0.13</td>\n",
       "      <td>0.00</td>\n",
       "    </tr>\n",
       "    <tr>\n",
       "      <th>Kidney</th>\n",
       "      <td>0.00</td>\n",
       "      <td>0.00</td>\n",
       "      <td>0.00</td>\n",
       "      <td>0.00</td>\n",
       "      <td>0.00</td>\n",
       "      <td>0.00</td>\n",
       "      <td>0.00</td>\n",
       "      <td>0.00</td>\n",
       "      <td>0.03</td>\n",
       "      <td>0.00</td>\n",
       "      <td>...</td>\n",
       "      <td>0.01</td>\n",
       "      <td>0.12</td>\n",
       "      <td>0.11</td>\n",
       "      <td>0.08</td>\n",
       "      <td>0.13</td>\n",
       "      <td>0.11</td>\n",
       "      <td>0.74</td>\n",
       "      <td>0.10</td>\n",
       "      <td>0.96</td>\n",
       "      <td>0.01</td>\n",
       "    </tr>\n",
       "    <tr>\n",
       "      <th>Liver</th>\n",
       "      <td>0.83</td>\n",
       "      <td>0.83</td>\n",
       "      <td>0.00</td>\n",
       "      <td>0.83</td>\n",
       "      <td>0.00</td>\n",
       "      <td>0.00</td>\n",
       "      <td>0.00</td>\n",
       "      <td>0.00</td>\n",
       "      <td>0.00</td>\n",
       "      <td>0.00</td>\n",
       "      <td>...</td>\n",
       "      <td>0.00</td>\n",
       "      <td>0.34</td>\n",
       "      <td>0.19</td>\n",
       "      <td>0.00</td>\n",
       "      <td>0.27</td>\n",
       "      <td>0.11</td>\n",
       "      <td>0.02</td>\n",
       "      <td>0.04</td>\n",
       "      <td>0.99</td>\n",
       "      <td>0.00</td>\n",
       "    </tr>\n",
       "    <tr>\n",
       "      <th>Lung</th>\n",
       "      <td>0.00</td>\n",
       "      <td>0.00</td>\n",
       "      <td>0.00</td>\n",
       "      <td>0.00</td>\n",
       "      <td>0.00</td>\n",
       "      <td>0.00</td>\n",
       "      <td>0.00</td>\n",
       "      <td>0.00</td>\n",
       "      <td>0.00</td>\n",
       "      <td>0.03</td>\n",
       "      <td>...</td>\n",
       "      <td>0.03</td>\n",
       "      <td>0.92</td>\n",
       "      <td>0.26</td>\n",
       "      <td>0.24</td>\n",
       "      <td>0.09</td>\n",
       "      <td>0.88</td>\n",
       "      <td>0.83</td>\n",
       "      <td>0.10</td>\n",
       "      <td>0.88</td>\n",
       "      <td>0.04</td>\n",
       "    </tr>\n",
       "    <tr>\n",
       "      <th>Muscle</th>\n",
       "      <td>0.00</td>\n",
       "      <td>0.00</td>\n",
       "      <td>0.00</td>\n",
       "      <td>0.00</td>\n",
       "      <td>0.00</td>\n",
       "      <td>0.00</td>\n",
       "      <td>0.00</td>\n",
       "      <td>0.00</td>\n",
       "      <td>0.00</td>\n",
       "      <td>0.00</td>\n",
       "      <td>...</td>\n",
       "      <td>0.01</td>\n",
       "      <td>0.08</td>\n",
       "      <td>0.01</td>\n",
       "      <td>0.02</td>\n",
       "      <td>0.27</td>\n",
       "      <td>0.07</td>\n",
       "      <td>0.43</td>\n",
       "      <td>0.01</td>\n",
       "      <td>0.01</td>\n",
       "      <td>0.06</td>\n",
       "    </tr>\n",
       "    <tr>\n",
       "      <th>Nerve</th>\n",
       "      <td>0.00</td>\n",
       "      <td>0.00</td>\n",
       "      <td>0.00</td>\n",
       "      <td>0.00</td>\n",
       "      <td>0.00</td>\n",
       "      <td>0.00</td>\n",
       "      <td>0.00</td>\n",
       "      <td>0.00</td>\n",
       "      <td>0.00</td>\n",
       "      <td>0.00</td>\n",
       "      <td>...</td>\n",
       "      <td>0.78</td>\n",
       "      <td>0.22</td>\n",
       "      <td>0.23</td>\n",
       "      <td>0.90</td>\n",
       "      <td>0.82</td>\n",
       "      <td>0.38</td>\n",
       "      <td>0.39</td>\n",
       "      <td>0.09</td>\n",
       "      <td>0.37</td>\n",
       "      <td>0.05</td>\n",
       "    </tr>\n",
       "    <tr>\n",
       "      <th>Ovary</th>\n",
       "      <td>0.00</td>\n",
       "      <td>0.00</td>\n",
       "      <td>0.00</td>\n",
       "      <td>0.00</td>\n",
       "      <td>0.00</td>\n",
       "      <td>0.00</td>\n",
       "      <td>0.00</td>\n",
       "      <td>0.00</td>\n",
       "      <td>0.00</td>\n",
       "      <td>0.00</td>\n",
       "      <td>...</td>\n",
       "      <td>0.78</td>\n",
       "      <td>0.13</td>\n",
       "      <td>0.49</td>\n",
       "      <td>0.65</td>\n",
       "      <td>0.69</td>\n",
       "      <td>0.10</td>\n",
       "      <td>0.09</td>\n",
       "      <td>0.12</td>\n",
       "      <td>0.21</td>\n",
       "      <td>0.01</td>\n",
       "    </tr>\n",
       "    <tr>\n",
       "      <th>Pancreas</th>\n",
       "      <td>0.00</td>\n",
       "      <td>0.00</td>\n",
       "      <td>0.00</td>\n",
       "      <td>0.00</td>\n",
       "      <td>0.84</td>\n",
       "      <td>0.00</td>\n",
       "      <td>0.88</td>\n",
       "      <td>0.00</td>\n",
       "      <td>0.00</td>\n",
       "      <td>0.00</td>\n",
       "      <td>...</td>\n",
       "      <td>0.00</td>\n",
       "      <td>0.01</td>\n",
       "      <td>0.03</td>\n",
       "      <td>0.03</td>\n",
       "      <td>0.00</td>\n",
       "      <td>0.01</td>\n",
       "      <td>0.02</td>\n",
       "      <td>0.01</td>\n",
       "      <td>0.13</td>\n",
       "      <td>0.00</td>\n",
       "    </tr>\n",
       "    <tr>\n",
       "      <th>Pituitary</th>\n",
       "      <td>0.00</td>\n",
       "      <td>0.00</td>\n",
       "      <td>0.00</td>\n",
       "      <td>0.00</td>\n",
       "      <td>0.00</td>\n",
       "      <td>0.00</td>\n",
       "      <td>0.00</td>\n",
       "      <td>0.00</td>\n",
       "      <td>0.00</td>\n",
       "      <td>0.00</td>\n",
       "      <td>...</td>\n",
       "      <td>0.38</td>\n",
       "      <td>0.08</td>\n",
       "      <td>0.29</td>\n",
       "      <td>0.12</td>\n",
       "      <td>0.53</td>\n",
       "      <td>0.14</td>\n",
       "      <td>0.88</td>\n",
       "      <td>0.26</td>\n",
       "      <td>0.19</td>\n",
       "      <td>0.08</td>\n",
       "    </tr>\n",
       "    <tr>\n",
       "      <th>Prostate</th>\n",
       "      <td>0.00</td>\n",
       "      <td>0.00</td>\n",
       "      <td>0.00</td>\n",
       "      <td>0.00</td>\n",
       "      <td>0.00</td>\n",
       "      <td>0.00</td>\n",
       "      <td>0.00</td>\n",
       "      <td>0.00</td>\n",
       "      <td>0.00</td>\n",
       "      <td>0.00</td>\n",
       "      <td>...</td>\n",
       "      <td>0.18</td>\n",
       "      <td>0.38</td>\n",
       "      <td>0.24</td>\n",
       "      <td>0.15</td>\n",
       "      <td>0.64</td>\n",
       "      <td>0.18</td>\n",
       "      <td>0.50</td>\n",
       "      <td>0.09</td>\n",
       "      <td>0.73</td>\n",
       "      <td>0.08</td>\n",
       "    </tr>\n",
       "    <tr>\n",
       "      <th>Salivary_Gland</th>\n",
       "      <td>0.00</td>\n",
       "      <td>0.00</td>\n",
       "      <td>0.00</td>\n",
       "      <td>0.00</td>\n",
       "      <td>0.00</td>\n",
       "      <td>0.00</td>\n",
       "      <td>0.00</td>\n",
       "      <td>0.00</td>\n",
       "      <td>0.00</td>\n",
       "      <td>0.00</td>\n",
       "      <td>...</td>\n",
       "      <td>0.14</td>\n",
       "      <td>0.29</td>\n",
       "      <td>0.04</td>\n",
       "      <td>0.35</td>\n",
       "      <td>0.04</td>\n",
       "      <td>0.24</td>\n",
       "      <td>0.35</td>\n",
       "      <td>0.18</td>\n",
       "      <td>0.06</td>\n",
       "      <td>0.02</td>\n",
       "    </tr>\n",
       "    <tr>\n",
       "      <th>Skin</th>\n",
       "      <td>0.00</td>\n",
       "      <td>0.00</td>\n",
       "      <td>0.00</td>\n",
       "      <td>0.00</td>\n",
       "      <td>0.00</td>\n",
       "      <td>0.00</td>\n",
       "      <td>0.00</td>\n",
       "      <td>0.00</td>\n",
       "      <td>0.00</td>\n",
       "      <td>0.00</td>\n",
       "      <td>...</td>\n",
       "      <td>0.54</td>\n",
       "      <td>0.05</td>\n",
       "      <td>0.21</td>\n",
       "      <td>0.48</td>\n",
       "      <td>0.09</td>\n",
       "      <td>0.06</td>\n",
       "      <td>0.02</td>\n",
       "      <td>0.07</td>\n",
       "      <td>0.04</td>\n",
       "      <td>0.08</td>\n",
       "    </tr>\n",
       "    <tr>\n",
       "      <th>Small_Intestine</th>\n",
       "      <td>0.00</td>\n",
       "      <td>0.00</td>\n",
       "      <td>0.00</td>\n",
       "      <td>0.00</td>\n",
       "      <td>0.00</td>\n",
       "      <td>0.00</td>\n",
       "      <td>0.00</td>\n",
       "      <td>0.00</td>\n",
       "      <td>0.00</td>\n",
       "      <td>0.00</td>\n",
       "      <td>...</td>\n",
       "      <td>0.27</td>\n",
       "      <td>0.79</td>\n",
       "      <td>0.25</td>\n",
       "      <td>0.22</td>\n",
       "      <td>0.21</td>\n",
       "      <td>0.34</td>\n",
       "      <td>0.30</td>\n",
       "      <td>0.03</td>\n",
       "      <td>0.95</td>\n",
       "      <td>0.03</td>\n",
       "    </tr>\n",
       "    <tr>\n",
       "      <th>Spleen</th>\n",
       "      <td>0.00</td>\n",
       "      <td>0.00</td>\n",
       "      <td>0.00</td>\n",
       "      <td>0.00</td>\n",
       "      <td>0.00</td>\n",
       "      <td>0.00</td>\n",
       "      <td>0.00</td>\n",
       "      <td>0.00</td>\n",
       "      <td>0.00</td>\n",
       "      <td>0.00</td>\n",
       "      <td>...</td>\n",
       "      <td>0.04</td>\n",
       "      <td>1.00</td>\n",
       "      <td>0.17</td>\n",
       "      <td>0.05</td>\n",
       "      <td>0.01</td>\n",
       "      <td>0.59</td>\n",
       "      <td>0.80</td>\n",
       "      <td>0.01</td>\n",
       "      <td>0.99</td>\n",
       "      <td>0.11</td>\n",
       "    </tr>\n",
       "    <tr>\n",
       "      <th>Stomach</th>\n",
       "      <td>0.00</td>\n",
       "      <td>0.00</td>\n",
       "      <td>0.00</td>\n",
       "      <td>0.00</td>\n",
       "      <td>0.00</td>\n",
       "      <td>0.00</td>\n",
       "      <td>0.00</td>\n",
       "      <td>0.00</td>\n",
       "      <td>0.00</td>\n",
       "      <td>0.00</td>\n",
       "      <td>...</td>\n",
       "      <td>0.19</td>\n",
       "      <td>0.29</td>\n",
       "      <td>0.09</td>\n",
       "      <td>0.11</td>\n",
       "      <td>0.11</td>\n",
       "      <td>0.14</td>\n",
       "      <td>0.08</td>\n",
       "      <td>0.04</td>\n",
       "      <td>0.85</td>\n",
       "      <td>0.01</td>\n",
       "    </tr>\n",
       "    <tr>\n",
       "      <th>Thyroid</th>\n",
       "      <td>0.00</td>\n",
       "      <td>0.00</td>\n",
       "      <td>0.00</td>\n",
       "      <td>0.00</td>\n",
       "      <td>0.00</td>\n",
       "      <td>0.00</td>\n",
       "      <td>0.00</td>\n",
       "      <td>0.00</td>\n",
       "      <td>0.00</td>\n",
       "      <td>0.00</td>\n",
       "      <td>...</td>\n",
       "      <td>0.50</td>\n",
       "      <td>0.25</td>\n",
       "      <td>0.28</td>\n",
       "      <td>0.21</td>\n",
       "      <td>0.12</td>\n",
       "      <td>0.46</td>\n",
       "      <td>0.49</td>\n",
       "      <td>0.09</td>\n",
       "      <td>0.21</td>\n",
       "      <td>0.04</td>\n",
       "    </tr>\n",
       "    <tr>\n",
       "      <th>Uterus</th>\n",
       "      <td>0.00</td>\n",
       "      <td>0.00</td>\n",
       "      <td>0.00</td>\n",
       "      <td>0.00</td>\n",
       "      <td>0.00</td>\n",
       "      <td>0.00</td>\n",
       "      <td>0.00</td>\n",
       "      <td>0.00</td>\n",
       "      <td>0.00</td>\n",
       "      <td>0.00</td>\n",
       "      <td>...</td>\n",
       "      <td>0.56</td>\n",
       "      <td>0.15</td>\n",
       "      <td>0.35</td>\n",
       "      <td>0.46</td>\n",
       "      <td>0.49</td>\n",
       "      <td>0.12</td>\n",
       "      <td>0.08</td>\n",
       "      <td>0.07</td>\n",
       "      <td>0.18</td>\n",
       "      <td>0.11</td>\n",
       "    </tr>\n",
       "    <tr>\n",
       "      <th>Vagina</th>\n",
       "      <td>0.00</td>\n",
       "      <td>0.00</td>\n",
       "      <td>0.00</td>\n",
       "      <td>0.00</td>\n",
       "      <td>0.00</td>\n",
       "      <td>0.00</td>\n",
       "      <td>0.00</td>\n",
       "      <td>0.00</td>\n",
       "      <td>0.00</td>\n",
       "      <td>0.00</td>\n",
       "      <td>...</td>\n",
       "      <td>0.35</td>\n",
       "      <td>0.26</td>\n",
       "      <td>0.24</td>\n",
       "      <td>0.46</td>\n",
       "      <td>0.35</td>\n",
       "      <td>0.32</td>\n",
       "      <td>0.17</td>\n",
       "      <td>0.07</td>\n",
       "      <td>0.42</td>\n",
       "      <td>0.08</td>\n",
       "    </tr>\n",
       "  </tbody>\n",
       "</table>\n",
       "<p>29 rows × 22656 columns</p>\n",
       "</div>"
      ],
      "text/plain": [
       "                 ENST00000441382.1  ENST00000604757.1  ENST00000484428.5   \n",
       "tissue                                                                     \n",
       "Adipose_Tissue                0.00               0.00               0.00  \\\n",
       "Adrenal_Gland                 0.00               0.00               0.00   \n",
       "Bladder                       0.00               0.00               0.00   \n",
       "Blood                         0.00               0.00               0.00   \n",
       "Blood_Vessel                  0.00               0.00               0.00   \n",
       "Brain                         0.00               0.00               0.83   \n",
       "Breast                        0.00               0.00               0.00   \n",
       "Cervix_Uteri                  0.00               0.00               0.00   \n",
       "Colon                         0.00               0.00               0.00   \n",
       "Esophagus                     0.00               0.00               0.00   \n",
       "Fallopian_Tube                0.00               0.00               0.00   \n",
       "Heart                         0.00               0.00               0.00   \n",
       "Kidney                        0.00               0.00               0.00   \n",
       "Liver                         0.83               0.83               0.00   \n",
       "Lung                          0.00               0.00               0.00   \n",
       "Muscle                        0.00               0.00               0.00   \n",
       "Nerve                         0.00               0.00               0.00   \n",
       "Ovary                         0.00               0.00               0.00   \n",
       "Pancreas                      0.00               0.00               0.00   \n",
       "Pituitary                     0.00               0.00               0.00   \n",
       "Prostate                      0.00               0.00               0.00   \n",
       "Salivary_Gland                0.00               0.00               0.00   \n",
       "Skin                          0.00               0.00               0.00   \n",
       "Small_Intestine               0.00               0.00               0.00   \n",
       "Spleen                        0.00               0.00               0.00   \n",
       "Stomach                       0.00               0.00               0.00   \n",
       "Thyroid                       0.00               0.00               0.00   \n",
       "Uterus                        0.00               0.00               0.00   \n",
       "Vagina                        0.00               0.00               0.00   \n",
       "\n",
       "                 ENST00000424250.2  ENST00000372741.7  ENST00000456728.1   \n",
       "tissue                                                                     \n",
       "Adipose_Tissue                0.00               0.00               0.00  \\\n",
       "Adrenal_Gland                 0.00               0.00               0.03   \n",
       "Bladder                       0.00               0.00               0.00   \n",
       "Blood                         0.00               0.00               0.00   \n",
       "Blood_Vessel                  0.00               0.00               0.00   \n",
       "Brain                         0.00               0.00               0.00   \n",
       "Breast                        0.00               0.00               0.00   \n",
       "Cervix_Uteri                  0.00               0.00               0.00   \n",
       "Colon                         0.00               0.00               0.00   \n",
       "Esophagus                     0.00               0.00               0.00   \n",
       "Fallopian_Tube                0.00               0.00               0.00   \n",
       "Heart                         0.00               0.00               0.00   \n",
       "Kidney                        0.00               0.00               0.00   \n",
       "Liver                         0.83               0.00               0.00   \n",
       "Lung                          0.00               0.00               0.00   \n",
       "Muscle                        0.00               0.00               0.00   \n",
       "Nerve                         0.00               0.00               0.00   \n",
       "Ovary                         0.00               0.00               0.00   \n",
       "Pancreas                      0.00               0.84               0.00   \n",
       "Pituitary                     0.00               0.00               0.00   \n",
       "Prostate                      0.00               0.00               0.00   \n",
       "Salivary_Gland                0.00               0.00               0.00   \n",
       "Skin                          0.00               0.00               0.00   \n",
       "Small_Intestine               0.00               0.00               0.00   \n",
       "Spleen                        0.00               0.00               0.00   \n",
       "Stomach                       0.00               0.00               0.00   \n",
       "Thyroid                       0.00               0.00               0.00   \n",
       "Uterus                        0.00               0.00               0.00   \n",
       "Vagina                        0.00               0.00               0.00   \n",
       "\n",
       "                 ENST00000621682.4  ENST00000413632.6  ENST00000441065.2   \n",
       "tissue                                                                     \n",
       "Adipose_Tissue                0.00               0.00               0.00  \\\n",
       "Adrenal_Gland                 0.00               0.00               0.00   \n",
       "Bladder                       0.00               0.00               0.00   \n",
       "Blood                         0.00               0.00               0.00   \n",
       "Blood_Vessel                  0.00               0.00               0.00   \n",
       "Brain                         0.00               0.00               0.00   \n",
       "Breast                        0.00               0.00               0.00   \n",
       "Cervix_Uteri                  0.00               0.00               0.00   \n",
       "Colon                         0.00               0.00               0.00   \n",
       "Esophagus                     0.00               0.00               0.00   \n",
       "Fallopian_Tube                0.00               0.11               0.00   \n",
       "Heart                         0.00               0.00               0.00   \n",
       "Kidney                        0.00               0.00               0.03   \n",
       "Liver                         0.00               0.00               0.00   \n",
       "Lung                          0.00               0.00               0.00   \n",
       "Muscle                        0.00               0.00               0.00   \n",
       "Nerve                         0.00               0.00               0.00   \n",
       "Ovary                         0.00               0.00               0.00   \n",
       "Pancreas                      0.88               0.00               0.00   \n",
       "Pituitary                     0.00               0.00               0.00   \n",
       "Prostate                      0.00               0.00               0.00   \n",
       "Salivary_Gland                0.00               0.00               0.00   \n",
       "Skin                          0.00               0.00               0.00   \n",
       "Small_Intestine               0.00               0.00               0.00   \n",
       "Spleen                        0.00               0.00               0.00   \n",
       "Stomach                       0.00               0.00               0.00   \n",
       "Thyroid                       0.00               0.00               0.00   \n",
       "Uterus                        0.00               0.00               0.00   \n",
       "Vagina                        0.00               0.00               0.00   \n",
       "\n",
       "                 ENST00000470251.1  ...  ENST00000510535.1  ENST00000609870.5   \n",
       "tissue                              ...                                         \n",
       "Adipose_Tissue                0.00  ...               0.06               0.44  \\\n",
       "Adrenal_Gland                 0.00  ...               0.23               0.13   \n",
       "Bladder                       0.00  ...               0.62               0.67   \n",
       "Blood                         0.00  ...               0.05               0.98   \n",
       "Blood_Vessel                  0.00  ...               0.19               0.26   \n",
       "Brain                         0.00  ...               0.27               0.08   \n",
       "Breast                        0.00  ...               0.25               0.21   \n",
       "Cervix_Uteri                  0.00  ...               0.37               0.16   \n",
       "Colon                         0.00  ...               0.26               0.44   \n",
       "Esophagus                     0.00  ...               0.51               0.48   \n",
       "Fallopian_Tube                0.00  ...               0.44               0.44   \n",
       "Heart                         0.00  ...               0.02               0.07   \n",
       "Kidney                        0.00  ...               0.01               0.12   \n",
       "Liver                         0.00  ...               0.00               0.34   \n",
       "Lung                          0.03  ...               0.03               0.92   \n",
       "Muscle                        0.00  ...               0.01               0.08   \n",
       "Nerve                         0.00  ...               0.78               0.22   \n",
       "Ovary                         0.00  ...               0.78               0.13   \n",
       "Pancreas                      0.00  ...               0.00               0.01   \n",
       "Pituitary                     0.00  ...               0.38               0.08   \n",
       "Prostate                      0.00  ...               0.18               0.38   \n",
       "Salivary_Gland                0.00  ...               0.14               0.29   \n",
       "Skin                          0.00  ...               0.54               0.05   \n",
       "Small_Intestine               0.00  ...               0.27               0.79   \n",
       "Spleen                        0.00  ...               0.04               1.00   \n",
       "Stomach                       0.00  ...               0.19               0.29   \n",
       "Thyroid                       0.00  ...               0.50               0.25   \n",
       "Uterus                        0.00  ...               0.56               0.15   \n",
       "Vagina                        0.00  ...               0.35               0.26   \n",
       "\n",
       "                 ENST00000339024.8  ENST00000517914.1  ENST00000505748.5   \n",
       "tissue                                                                     \n",
       "Adipose_Tissue                0.23               0.26               0.18  \\\n",
       "Adrenal_Gland                 0.81               0.03               0.30   \n",
       "Bladder                       0.19               0.19               0.57   \n",
       "Blood                         0.09               0.12               0.00   \n",
       "Blood_Vessel                  0.58               0.45               0.19   \n",
       "Brain                         0.02               0.01               0.36   \n",
       "Breast                        0.20               0.36               0.13   \n",
       "Cervix_Uteri                  0.37               0.32               0.68   \n",
       "Colon                         0.15               0.25               0.37   \n",
       "Esophagus                     0.09               0.25               0.19   \n",
       "Fallopian_Tube                0.78               0.33               0.89   \n",
       "Heart                         0.00               0.07               0.06   \n",
       "Kidney                        0.11               0.08               0.13   \n",
       "Liver                         0.19               0.00               0.27   \n",
       "Lung                          0.26               0.24               0.09   \n",
       "Muscle                        0.01               0.02               0.27   \n",
       "Nerve                         0.23               0.90               0.82   \n",
       "Ovary                         0.49               0.65               0.69   \n",
       "Pancreas                      0.03               0.03               0.00   \n",
       "Pituitary                     0.29               0.12               0.53   \n",
       "Prostate                      0.24               0.15               0.64   \n",
       "Salivary_Gland                0.04               0.35               0.04   \n",
       "Skin                          0.21               0.48               0.09   \n",
       "Small_Intestine               0.25               0.22               0.21   \n",
       "Spleen                        0.17               0.05               0.01   \n",
       "Stomach                       0.09               0.11               0.11   \n",
       "Thyroid                       0.28               0.21               0.12   \n",
       "Uterus                        0.35               0.46               0.49   \n",
       "Vagina                        0.24               0.46               0.35   \n",
       "\n",
       "                 ENST00000522823.5  ENST00000576537.1  ENST00000498033.5   \n",
       "tissue                                                                     \n",
       "Adipose_Tissue                0.55               0.22               0.05  \\\n",
       "Adrenal_Gland                 0.04               0.15               0.11   \n",
       "Bladder                       0.38               0.57               0.05   \n",
       "Blood                         0.76               0.66               0.00   \n",
       "Blood_Vessel                  0.26               0.15               0.19   \n",
       "Brain                         0.03               0.45               0.01   \n",
       "Breast                        0.40               0.15               0.17   \n",
       "Cervix_Uteri                  0.11               0.00               0.00   \n",
       "Colon                         0.18               0.11               0.04   \n",
       "Esophagus                     0.11               0.08               0.04   \n",
       "Fallopian_Tube                0.44               0.56               0.11   \n",
       "Heart                         0.11               0.10               0.02   \n",
       "Kidney                        0.11               0.74               0.10   \n",
       "Liver                         0.11               0.02               0.04   \n",
       "Lung                          0.88               0.83               0.10   \n",
       "Muscle                        0.07               0.43               0.01   \n",
       "Nerve                         0.38               0.39               0.09   \n",
       "Ovary                         0.10               0.09               0.12   \n",
       "Pancreas                      0.01               0.02               0.01   \n",
       "Pituitary                     0.14               0.88               0.26   \n",
       "Prostate                      0.18               0.50               0.09   \n",
       "Salivary_Gland                0.24               0.35               0.18   \n",
       "Skin                          0.06               0.02               0.07   \n",
       "Small_Intestine               0.34               0.30               0.03   \n",
       "Spleen                        0.59               0.80               0.01   \n",
       "Stomach                       0.14               0.08               0.04   \n",
       "Thyroid                       0.46               0.49               0.09   \n",
       "Uterus                        0.12               0.08               0.07   \n",
       "Vagina                        0.32               0.17               0.07   \n",
       "\n",
       "                 ENST00000560102.1  ENST00000433660.1  \n",
       "tissue                                                 \n",
       "Adipose_Tissue                0.36               0.02  \n",
       "Adrenal_Gland                 0.16               0.01  \n",
       "Bladder                       0.38               0.00  \n",
       "Blood                         0.00               0.01  \n",
       "Blood_Vessel                  0.09               0.09  \n",
       "Brain                         0.00               0.06  \n",
       "Breast                        0.12               0.07  \n",
       "Cervix_Uteri                  0.58               0.05  \n",
       "Colon                         0.67               0.07  \n",
       "Esophagus                     0.40               0.02  \n",
       "Fallopian_Tube                0.56               0.00  \n",
       "Heart                         0.13               0.00  \n",
       "Kidney                        0.96               0.01  \n",
       "Liver                         0.99               0.00  \n",
       "Lung                          0.88               0.04  \n",
       "Muscle                        0.01               0.06  \n",
       "Nerve                         0.37               0.05  \n",
       "Ovary                         0.21               0.01  \n",
       "Pancreas                      0.13               0.00  \n",
       "Pituitary                     0.19               0.08  \n",
       "Prostate                      0.73               0.08  \n",
       "Salivary_Gland                0.06               0.02  \n",
       "Skin                          0.04               0.08  \n",
       "Small_Intestine               0.95               0.03  \n",
       "Spleen                        0.99               0.11  \n",
       "Stomach                       0.85               0.01  \n",
       "Thyroid                       0.21               0.04  \n",
       "Uterus                        0.18               0.11  \n",
       "Vagina                        0.42               0.08  \n",
       "\n",
       "[29 rows x 22656 columns]"
      ]
     },
     "execution_count": 12,
     "metadata": {},
     "output_type": "execute_result"
    }
   ],
   "source": [
    "df_clustering = df[transcript_list]\n",
    "df_clustering"
   ]
  },
  {
   "cell_type": "code",
   "execution_count": 13,
   "id": "f655ab33-a727-465b-be65-dda1618d35d9",
   "metadata": {},
   "outputs": [],
   "source": [
    "df_clustering.to_csv(processed_path+\"/df_clustering_\"+file_name+\".csv\", index=False)\n",
    "with open(processed_path+\"/important_transcripts_\"+file_name+\".txt\", \"w\") as output:\n",
    "    output.write(str(transcript_list))"
   ]
  },
  {
   "cell_type": "markdown",
   "id": "2f386731-aca2-4799-bb83-357f7ea00d95",
   "metadata": {},
   "source": [
    "## Kmeans clustering "
   ]
  },
  {
   "cell_type": "code",
   "execution_count": 14,
   "id": "73e5f8fd-6e53-41ec-909e-e0bc67a3de22",
   "metadata": {},
   "outputs": [
    {
     "name": "stdout",
     "output_type": "stream",
     "text": [
      "2\n"
     ]
    },
    {
     "name": "stderr",
     "output_type": "stream",
     "text": [
      "/shared/software/anaconda/anaconda3/envs/basic_processing/lib/python3.11/site-packages/sklearn/cluster/_kmeans.py:870: FutureWarning: The default value of `n_init` will change from 10 to 'auto' in 1.4. Set the value of `n_init` explicitly to suppress the warning\n",
      "  warnings.warn(\n"
     ]
    },
    {
     "name": "stdout",
     "output_type": "stream",
     "text": [
      "Silhoutte Score:  0.2647594655321009\n",
      "Tissues in cluster_0: ['Brain', 'Pituitary']\n",
      "Tissues in cluster_1: ['Adipose_Tissue', 'Adrenal_Gland', 'Bladder', 'Blood', 'Blood_Vessel', 'Breast', 'Cervix_Uteri', 'Colon', 'Esophagus', 'Fallopian_Tube', 'Heart', 'Kidney', 'Liver', 'Lung', 'Muscle', 'Nerve', 'Ovary', 'Pancreas', 'Prostate', 'Salivary_Gland', 'Skin', 'Small_Intestine', 'Spleen', 'Stomach', 'Thyroid', 'Uterus', 'Vagina']\n",
      "\n",
      "\n",
      "\n",
      "3\n"
     ]
    },
    {
     "name": "stderr",
     "output_type": "stream",
     "text": [
      "/shared/software/anaconda/anaconda3/envs/basic_processing/lib/python3.11/site-packages/sklearn/cluster/_kmeans.py:870: FutureWarning: The default value of `n_init` will change from 10 to 'auto' in 1.4. Set the value of `n_init` explicitly to suppress the warning\n",
      "  warnings.warn(\n"
     ]
    },
    {
     "name": "stdout",
     "output_type": "stream",
     "text": [
      "Silhoutte Score:  0.14373861182826617\n",
      "Tissues in cluster_0: ['Adipose_Tissue', 'Adrenal_Gland', 'Bladder', 'Blood_Vessel', 'Breast', 'Cervix_Uteri', 'Colon', 'Esophagus', 'Fallopian_Tube', 'Heart', 'Kidney', 'Liver', 'Muscle', 'Nerve', 'Ovary', 'Pancreas', 'Prostate', 'Salivary_Gland', 'Skin', 'Small_Intestine', 'Stomach', 'Thyroid', 'Uterus', 'Vagina']\n",
      "Tissues in cluster_1: ['Brain', 'Pituitary']\n",
      "Tissues in cluster_2: ['Blood', 'Lung', 'Spleen']\n",
      "\n",
      "\n",
      "\n",
      "4\n"
     ]
    },
    {
     "name": "stderr",
     "output_type": "stream",
     "text": [
      "/shared/software/anaconda/anaconda3/envs/basic_processing/lib/python3.11/site-packages/sklearn/cluster/_kmeans.py:870: FutureWarning: The default value of `n_init` will change from 10 to 'auto' in 1.4. Set the value of `n_init` explicitly to suppress the warning\n",
      "  warnings.warn(\n"
     ]
    },
    {
     "name": "stdout",
     "output_type": "stream",
     "text": [
      "Silhoutte Score:  0.048307509033426156\n",
      "Tissues in cluster_0: ['Brain', 'Pituitary']\n",
      "Tissues in cluster_1: ['Adrenal_Gland', 'Blood', 'Colon', 'Heart', 'Kidney', 'Liver', 'Muscle', 'Pancreas', 'Small_Intestine', 'Stomach']\n",
      "Tissues in cluster_2: ['Adipose_Tissue', 'Bladder', 'Blood_Vessel', 'Breast', 'Esophagus', 'Lung', 'Nerve', 'Prostate', 'Salivary_Gland', 'Skin', 'Spleen', 'Thyroid', 'Vagina']\n",
      "Tissues in cluster_3: ['Cervix_Uteri', 'Fallopian_Tube', 'Ovary', 'Uterus']\n",
      "\n",
      "\n",
      "\n",
      "5\n"
     ]
    },
    {
     "name": "stderr",
     "output_type": "stream",
     "text": [
      "/shared/software/anaconda/anaconda3/envs/basic_processing/lib/python3.11/site-packages/sklearn/cluster/_kmeans.py:870: FutureWarning: The default value of `n_init` will change from 10 to 'auto' in 1.4. Set the value of `n_init` explicitly to suppress the warning\n",
      "  warnings.warn(\n"
     ]
    },
    {
     "name": "stdout",
     "output_type": "stream",
     "text": [
      "Silhoutte Score:  0.07830503432294135\n",
      "Tissues in cluster_0: ['Adipose_Tissue', 'Adrenal_Gland', 'Bladder', 'Blood_Vessel', 'Breast', 'Colon', 'Esophagus', 'Kidney', 'Liver', 'Lung', 'Nerve', 'Pancreas', 'Prostate', 'Salivary_Gland', 'Skin', 'Small_Intestine', 'Stomach', 'Thyroid', 'Vagina']\n",
      "Tissues in cluster_1: ['Cervix_Uteri', 'Fallopian_Tube', 'Ovary', 'Uterus']\n",
      "Tissues in cluster_2: ['Heart', 'Muscle']\n",
      "Tissues in cluster_3: ['Brain', 'Pituitary']\n",
      "Tissues in cluster_4: ['Blood', 'Spleen']\n",
      "\n",
      "\n",
      "\n",
      "6\n"
     ]
    },
    {
     "name": "stderr",
     "output_type": "stream",
     "text": [
      "/shared/software/anaconda/anaconda3/envs/basic_processing/lib/python3.11/site-packages/sklearn/cluster/_kmeans.py:870: FutureWarning: The default value of `n_init` will change from 10 to 'auto' in 1.4. Set the value of `n_init` explicitly to suppress the warning\n",
      "  warnings.warn(\n"
     ]
    },
    {
     "name": "stdout",
     "output_type": "stream",
     "text": [
      "Silhoutte Score:  0.08242714496077605\n",
      "Tissues in cluster_0: ['Brain', 'Pituitary']\n",
      "Tissues in cluster_1: ['Adipose_Tissue', 'Adrenal_Gland', 'Bladder', 'Blood', 'Blood_Vessel', 'Breast', 'Colon', 'Esophagus', 'Kidney', 'Lung', 'Pancreas', 'Prostate', 'Salivary_Gland', 'Skin', 'Small_Intestine', 'Stomach', 'Thyroid', 'Vagina']\n",
      "Tissues in cluster_2: ['Cervix_Uteri', 'Fallopian_Tube', 'Nerve', 'Ovary', 'Uterus']\n",
      "Tissues in cluster_3: ['Liver']\n",
      "Tissues in cluster_4: ['Heart', 'Muscle']\n",
      "Tissues in cluster_5: ['Spleen']\n",
      "\n",
      "\n",
      "\n"
     ]
    }
   ],
   "source": [
    "sil_list = []\n",
    "for k in range(2,7):\n",
    "    print(k)\n",
    "    cluster = KMeans(n_clusters=k).fit(df_clustering)\n",
    "    labels = cluster.labels_\n",
    "    sil_score = metrics.silhouette_score(df_clustering, labels)\n",
    "    sil_list.append(sil_score)\n",
    "    print(\"Silhoutte Score: \",sil_score)\n",
    "    for i in range(k):\n",
    "        index_cluster=np.where(labels==i) # get indexes of points in cluster 0 \n",
    "        print(\"Tissues in cluster_{}:\".format(i), df_clustering.index[index_cluster].tolist())\n",
    "    \n",
    "    print(\"\\n\\n\")"
   ]
  },
  {
   "cell_type": "markdown",
   "id": "950efe81-a18d-4895-ae55-5f0c30d85979",
   "metadata": {},
   "source": [
    "## Hierarchical Clustering"
   ]
  },
  {
   "cell_type": "code",
   "execution_count": 19,
   "id": "758b8729-fc83-4e6c-b2a3-ed240bd7f6ee",
   "metadata": {},
   "outputs": [
    {
     "name": "stderr",
     "output_type": "stream",
     "text": [
      "/shared/software/anaconda/anaconda3/envs/basic_processing/lib/python3.11/site-packages/sklearn/cluster/_agglomerative.py:983: FutureWarning:\n",
      "\n",
      "Attribute `affinity` was deprecated in version 1.2 and will be removed in 1.4. Use `metric` instead\n",
      "\n",
      "/shared/software/anaconda/anaconda3/envs/basic_processing/lib/python3.11/site-packages/sklearn/cluster/_agglomerative.py:983: FutureWarning:\n",
      "\n",
      "Attribute `affinity` was deprecated in version 1.2 and will be removed in 1.4. Use `metric` instead\n",
      "\n"
     ]
    },
    {
     "name": "stdout",
     "output_type": "stream",
     "text": [
      "Silhouette Score 0.2647594655321009\n",
      "Tissues in cluster_0: ['Adipose_Tissue', 'Adrenal_Gland', 'Bladder', 'Blood', 'Blood_Vessel', 'Breast', 'Cervix_Uteri', 'Colon', 'Esophagus', 'Fallopian_Tube', 'Heart', 'Kidney', 'Liver', 'Lung', 'Muscle', 'Nerve', 'Ovary', 'Pancreas', 'Prostate', 'Salivary_Gland', 'Skin', 'Small_Intestine', 'Spleen', 'Stomach', 'Thyroid', 'Uterus', 'Vagina']\n",
      "Tissues in cluster_1: ['Brain', 'Pituitary']\n",
      "\n",
      "\n",
      "\n",
      "Silhouette Score 0.17679826510718807\n",
      "Tissues in cluster_0: ['Brain', 'Pituitary']\n",
      "Tissues in cluster_1: ['Adipose_Tissue', 'Adrenal_Gland', 'Bladder', 'Blood', 'Blood_Vessel', 'Breast', 'Cervix_Uteri', 'Colon', 'Esophagus', 'Fallopian_Tube', 'Heart', 'Kidney', 'Lung', 'Muscle', 'Nerve', 'Ovary', 'Pancreas', 'Prostate', 'Salivary_Gland', 'Skin', 'Small_Intestine', 'Spleen', 'Stomach', 'Thyroid', 'Uterus', 'Vagina']\n",
      "Tissues in cluster_2: ['Liver']\n",
      "\n",
      "\n",
      "\n"
     ]
    },
    {
     "name": "stderr",
     "output_type": "stream",
     "text": [
      "/shared/software/anaconda/anaconda3/envs/basic_processing/lib/python3.11/site-packages/sklearn/cluster/_agglomerative.py:983: FutureWarning:\n",
      "\n",
      "Attribute `affinity` was deprecated in version 1.2 and will be removed in 1.4. Use `metric` instead\n",
      "\n",
      "/shared/software/anaconda/anaconda3/envs/basic_processing/lib/python3.11/site-packages/sklearn/cluster/_agglomerative.py:983: FutureWarning:\n",
      "\n",
      "Attribute `affinity` was deprecated in version 1.2 and will be removed in 1.4. Use `metric` instead\n",
      "\n"
     ]
    },
    {
     "name": "stdout",
     "output_type": "stream",
     "text": [
      "Silhouette Score 0.16130912605809578\n",
      "Tissues in cluster_0: ['Adipose_Tissue', 'Adrenal_Gland', 'Bladder', 'Blood', 'Blood_Vessel', 'Breast', 'Cervix_Uteri', 'Colon', 'Esophagus', 'Fallopian_Tube', 'Heart', 'Kidney', 'Lung', 'Muscle', 'Nerve', 'Ovary', 'Pancreas', 'Prostate', 'Salivary_Gland', 'Skin', 'Small_Intestine', 'Spleen', 'Stomach', 'Thyroid', 'Uterus', 'Vagina']\n",
      "Tissues in cluster_1: ['Pituitary']\n",
      "Tissues in cluster_2: ['Liver']\n",
      "Tissues in cluster_3: ['Brain']\n",
      "\n",
      "\n",
      "\n",
      "Silhouette Score 0.12145728039508763\n",
      "Tissues in cluster_0: ['Adipose_Tissue', 'Adrenal_Gland', 'Bladder', 'Blood', 'Blood_Vessel', 'Breast', 'Cervix_Uteri', 'Colon', 'Esophagus', 'Fallopian_Tube', 'Heart', 'Kidney', 'Lung', 'Muscle', 'Nerve', 'Ovary', 'Pancreas', 'Prostate', 'Salivary_Gland', 'Skin', 'Small_Intestine', 'Spleen', 'Stomach', 'Uterus', 'Vagina']\n",
      "Tissues in cluster_1: ['Thyroid']\n",
      "Tissues in cluster_2: ['Liver']\n",
      "Tissues in cluster_3: ['Brain']\n",
      "Tissues in cluster_4: ['Pituitary']\n",
      "\n",
      "\n",
      "\n",
      "Silhouette Score 0.09560223057702069\n",
      "Tissues in cluster_0: ['Adipose_Tissue', 'Adrenal_Gland', 'Bladder', 'Blood', 'Blood_Vessel', 'Breast', 'Cervix_Uteri', 'Colon', 'Esophagus', 'Fallopian_Tube', 'Heart', 'Kidney', 'Lung', 'Muscle', 'Ovary', 'Pancreas', 'Prostate', 'Salivary_Gland', 'Skin', 'Small_Intestine', 'Spleen', 'Stomach', 'Uterus', 'Vagina']\n",
      "Tissues in cluster_1: ['Thyroid']\n",
      "Tissues in cluster_2: ['Nerve']\n",
      "Tissues in cluster_3: ['Brain']\n",
      "Tissues in cluster_4: ['Pituitary']\n",
      "Tissues in cluster_5: ['Liver']\n",
      "\n",
      "\n",
      "\n"
     ]
    },
    {
     "name": "stderr",
     "output_type": "stream",
     "text": [
      "/shared/software/anaconda/anaconda3/envs/basic_processing/lib/python3.11/site-packages/sklearn/cluster/_agglomerative.py:983: FutureWarning:\n",
      "\n",
      "Attribute `affinity` was deprecated in version 1.2 and will be removed in 1.4. Use `metric` instead\n",
      "\n"
     ]
    }
   ],
   "source": [
    "linkage_style= \"average\"\n",
    "\n",
    "for k in range(2,7):\n",
    "    agglomerative = AgglomerativeClustering(n_clusters=k, linkage=linkage_style, affinity='euclidean')\n",
    "    hier_cluster = agglomerative.fit(df_clustering)\n",
    "    hlabels = hier_cluster.labels_ \n",
    "    #print(k, hlabels, hier_cluster)\n",
    "    score = metrics.silhouette_score(df_clustering,hlabels)\n",
    "    print (\"Silhouette Score\", score)\n",
    "    for i in range(k):\n",
    "        index_cluster=np.where(hlabels==i) # get indexes of points in cluster 0 \n",
    "        print(\"Tissues in cluster_{}:\".format(i), df_clustering.index[index_cluster].tolist())\n",
    "    \n",
    "    print(\"\\n\\n\")"
   ]
  },
  {
   "cell_type": "code",
   "execution_count": 20,
   "id": "f3727bef-db7a-49b0-aff9-4bc173192228",
   "metadata": {},
   "outputs": [
    {
     "data": {
      "application/vnd.plotly.v1+json": {
       "config": {
        "plotlyServerURL": "https://plot.ly"
       },
       "data": [
        {
         "hoverinfo": "text",
         "marker": {
          "color": "rgb(61,153,112)"
         },
         "mode": "lines",
         "type": "scatter",
         "x": [
          0,
          45.84866846485265,
          45.84866846485265,
          0
         ],
         "xaxis": "x",
         "y": [
          -5,
          -5,
          -15,
          -15
         ],
         "yaxis": "y"
        },
        {
         "hoverinfo": "text",
         "marker": {
          "color": "rgb(255,65,54)"
         },
         "mode": "lines",
         "type": "scatter",
         "x": [
          0,
          33.807636711252194,
          33.807636711252194,
          0
         ],
         "xaxis": "x",
         "y": [
          -25,
          -25,
          -35,
          -35
         ],
         "yaxis": "y"
        },
        {
         "hoverinfo": "text",
         "marker": {
          "color": "rgb(255,65,54)"
         },
         "mode": "lines",
         "type": "scatter",
         "x": [
          0,
          37.96016464664002,
          37.96016464664002,
          0
         ],
         "xaxis": "x",
         "y": [
          -45,
          -45,
          -55,
          -55
         ],
         "yaxis": "y"
        },
        {
         "hoverinfo": "text",
         "marker": {
          "color": "rgb(255,65,54)"
         },
         "mode": "lines",
         "type": "scatter",
         "x": [
          33.807636711252194,
          41.63283559883956,
          41.63283559883956,
          37.96016464664002
         ],
         "xaxis": "x",
         "y": [
          -30,
          -30,
          -50,
          -50
         ],
         "yaxis": "y"
        },
        {
         "hoverinfo": "text",
         "marker": {
          "color": "rgb(35,205,205)"
         },
         "mode": "lines",
         "type": "scatter",
         "x": [
          0,
          19.74163620371946,
          19.74163620371946,
          0
         ],
         "xaxis": "x",
         "y": [
          -105,
          -105,
          -115,
          -115
         ],
         "yaxis": "y"
        },
        {
         "hoverinfo": "text",
         "marker": {
          "color": "rgb(35,205,205)"
         },
         "mode": "lines",
         "type": "scatter",
         "x": [
          0,
          25.902561649381596,
          25.902561649381596,
          19.74163620371946
         ],
         "xaxis": "x",
         "y": [
          -95,
          -95,
          -110,
          -110
         ],
         "yaxis": "y"
        },
        {
         "hoverinfo": "text",
         "marker": {
          "color": "rgb(35,205,205)"
         },
         "mode": "lines",
         "type": "scatter",
         "x": [
          0,
          32.87121993476993,
          32.87121993476993,
          25.902561649381596
         ],
         "xaxis": "x",
         "y": [
          -85,
          -85,
          -102.5,
          -102.5
         ],
         "yaxis": "y"
        },
        {
         "hoverinfo": "text",
         "marker": {
          "color": "rgb(35,205,205)"
         },
         "mode": "lines",
         "type": "scatter",
         "x": [
          0,
          41.998938081813456,
          41.998938081813456,
          32.87121993476993
         ],
         "xaxis": "x",
         "y": [
          -75,
          -75,
          -93.75,
          -93.75
         ],
         "yaxis": "y"
        },
        {
         "hoverinfo": "text",
         "marker": {
          "color": "rgb(0,116,217)"
         },
         "mode": "lines",
         "type": "scatter",
         "x": [
          0,
          48.88478699963839,
          48.88478699963839,
          41.998938081813456
         ],
         "xaxis": "x",
         "y": [
          -65,
          -65,
          -84.375,
          -84.375
         ],
         "yaxis": "y"
        },
        {
         "hoverinfo": "text",
         "marker": {
          "color": "rgb(133,20,75)"
         },
         "mode": "lines",
         "type": "scatter",
         "x": [
          0,
          24.906039428219486,
          24.906039428219486,
          0
         ],
         "xaxis": "x",
         "y": [
          -155,
          -155,
          -165,
          -165
         ],
         "yaxis": "y"
        },
        {
         "hoverinfo": "text",
         "marker": {
          "color": "rgb(133,20,75)"
         },
         "mode": "lines",
         "type": "scatter",
         "x": [
          0,
          32.69105688104973,
          32.69105688104973,
          24.906039428219486
         ],
         "xaxis": "x",
         "y": [
          -145,
          -145,
          -160,
          -160
         ],
         "yaxis": "y"
        },
        {
         "hoverinfo": "text",
         "marker": {
          "color": "rgb(133,20,75)"
         },
         "mode": "lines",
         "type": "scatter",
         "x": [
          0,
          35.680483460850574,
          35.680483460850574,
          32.69105688104973
         ],
         "xaxis": "x",
         "y": [
          -135,
          -135,
          -152.5,
          -152.5
         ],
         "yaxis": "y"
        },
        {
         "hoverinfo": "text",
         "marker": {
          "color": "rgb(133,20,75)"
         },
         "mode": "lines",
         "type": "scatter",
         "x": [
          0,
          40.257870038042576,
          40.257870038042576,
          0
         ],
         "xaxis": "x",
         "y": [
          -175,
          -175,
          -185,
          -185
         ],
         "yaxis": "y"
        },
        {
         "hoverinfo": "text",
         "marker": {
          "color": "rgb(133,20,75)"
         },
         "mode": "lines",
         "type": "scatter",
         "x": [
          35.680483460850574,
          43.45815113416534,
          43.45815113416534,
          40.257870038042576
         ],
         "xaxis": "x",
         "y": [
          -143.75,
          -143.75,
          -180,
          -180
         ],
         "yaxis": "y"
        },
        {
         "hoverinfo": "text",
         "marker": {
          "color": "rgb(255,220,0)"
         },
         "mode": "lines",
         "type": "scatter",
         "x": [
          0,
          30.392272044057485,
          30.392272044057485,
          0
         ],
         "xaxis": "x",
         "y": [
          -195,
          -195,
          -205,
          -205
         ],
         "yaxis": "y"
        },
        {
         "hoverinfo": "text",
         "marker": {
          "color": "rgb(255,220,0)"
         },
         "mode": "lines",
         "type": "scatter",
         "x": [
          0,
          20.479450676226758,
          20.479450676226758,
          0
         ],
         "xaxis": "x",
         "y": [
          -245,
          -245,
          -255,
          -255
         ],
         "yaxis": "y"
        },
        {
         "hoverinfo": "text",
         "marker": {
          "color": "rgb(255,220,0)"
         },
         "mode": "lines",
         "type": "scatter",
         "x": [
          0,
          23.55270260500934,
          23.55270260500934,
          20.479450676226758
         ],
         "xaxis": "x",
         "y": [
          -235,
          -235,
          -250,
          -250
         ],
         "yaxis": "y"
        },
        {
         "hoverinfo": "text",
         "marker": {
          "color": "rgb(255,220,0)"
         },
         "mode": "lines",
         "type": "scatter",
         "x": [
          0,
          27.61916544720376,
          27.61916544720376,
          23.55270260500934
         ],
         "xaxis": "x",
         "y": [
          -225,
          -225,
          -242.5,
          -242.5
         ],
         "yaxis": "y"
        },
        {
         "hoverinfo": "text",
         "marker": {
          "color": "rgb(255,220,0)"
         },
         "mode": "lines",
         "type": "scatter",
         "x": [
          0,
          17.83708216048831,
          17.83708216048831,
          0
         ],
         "xaxis": "x",
         "y": [
          -275,
          -275,
          -285,
          -285
         ],
         "yaxis": "y"
        },
        {
         "hoverinfo": "text",
         "marker": {
          "color": "rgb(255,220,0)"
         },
         "mode": "lines",
         "type": "scatter",
         "x": [
          0,
          29.017541246632508,
          29.017541246632508,
          17.83708216048831
         ],
         "xaxis": "x",
         "y": [
          -265,
          -265,
          -280,
          -280
         ],
         "yaxis": "y"
        },
        {
         "hoverinfo": "text",
         "marker": {
          "color": "rgb(255,220,0)"
         },
         "mode": "lines",
         "type": "scatter",
         "x": [
          27.61916544720376,
          32.62862240426374,
          32.62862240426374,
          29.017541246632508
         ],
         "xaxis": "x",
         "y": [
          -233.75,
          -233.75,
          -272.5,
          -272.5
         ],
         "yaxis": "y"
        },
        {
         "hoverinfo": "text",
         "marker": {
          "color": "rgb(255,220,0)"
         },
         "mode": "lines",
         "type": "scatter",
         "x": [
          0,
          37.179772726578236,
          37.179772726578236,
          32.62862240426374
         ],
         "xaxis": "x",
         "y": [
          -215,
          -215,
          -253.125,
          -253.125
         ],
         "yaxis": "y"
        },
        {
         "hoverinfo": "text",
         "marker": {
          "color": "rgb(255,220,0)"
         },
         "mode": "lines",
         "type": "scatter",
         "x": [
          30.392272044057485,
          43.97278362805705,
          43.97278362805705,
          37.179772726578236
         ],
         "xaxis": "x",
         "y": [
          -200,
          -200,
          -234.0625,
          -234.0625
         ],
         "yaxis": "y"
        },
        {
         "hoverinfo": "text",
         "marker": {
          "color": "rgb(0,116,217)"
         },
         "mode": "lines",
         "type": "scatter",
         "x": [
          43.45815113416534,
          50.00093299129505,
          50.00093299129505,
          43.97278362805705
         ],
         "xaxis": "x",
         "y": [
          -161.875,
          -161.875,
          -217.03125,
          -217.03125
         ],
         "yaxis": "y"
        },
        {
         "hoverinfo": "text",
         "marker": {
          "color": "rgb(0,116,217)"
         },
         "mode": "lines",
         "type": "scatter",
         "x": [
          0,
          51.135225627742116,
          51.135225627742116,
          50.00093299129505
         ],
         "xaxis": "x",
         "y": [
          -125,
          -125,
          -189.453125,
          -189.453125
         ],
         "yaxis": "y"
        },
        {
         "hoverinfo": "text",
         "marker": {
          "color": "rgb(0,116,217)"
         },
         "mode": "lines",
         "type": "scatter",
         "x": [
          48.88478699963839,
          55.82113130347736,
          55.82113130347736,
          51.135225627742116
         ],
         "xaxis": "x",
         "y": [
          -74.6875,
          -74.6875,
          -157.2265625,
          -157.2265625
         ],
         "yaxis": "y"
        },
        {
         "hoverinfo": "text",
         "marker": {
          "color": "rgb(0,116,217)"
         },
         "mode": "lines",
         "type": "scatter",
         "x": [
          41.63283559883956,
          58.222163305739045,
          58.222163305739045,
          55.82113130347736
         ],
         "xaxis": "x",
         "y": [
          -40,
          -40,
          -115.95703125,
          -115.95703125
         ],
         "yaxis": "y"
        },
        {
         "hoverinfo": "text",
         "marker": {
          "color": "rgb(0,116,217)"
         },
         "mode": "lines",
         "type": "scatter",
         "x": [
          45.84866846485265,
          66.51935056808772,
          66.51935056808772,
          58.222163305739045
         ],
         "xaxis": "x",
         "y": [
          -10,
          -10,
          -77.978515625,
          -77.978515625
         ],
         "yaxis": "y"
        }
       ],
       "layout": {
        "autosize": false,
        "height": 800,
        "hovermode": "closest",
        "showlegend": false,
        "template": {
         "data": {
          "bar": [
           {
            "error_x": {
             "color": "#2a3f5f"
            },
            "error_y": {
             "color": "#2a3f5f"
            },
            "marker": {
             "line": {
              "color": "#E5ECF6",
              "width": 0.5
             },
             "pattern": {
              "fillmode": "overlay",
              "size": 10,
              "solidity": 0.2
             }
            },
            "type": "bar"
           }
          ],
          "barpolar": [
           {
            "marker": {
             "line": {
              "color": "#E5ECF6",
              "width": 0.5
             },
             "pattern": {
              "fillmode": "overlay",
              "size": 10,
              "solidity": 0.2
             }
            },
            "type": "barpolar"
           }
          ],
          "carpet": [
           {
            "aaxis": {
             "endlinecolor": "#2a3f5f",
             "gridcolor": "white",
             "linecolor": "white",
             "minorgridcolor": "white",
             "startlinecolor": "#2a3f5f"
            },
            "baxis": {
             "endlinecolor": "#2a3f5f",
             "gridcolor": "white",
             "linecolor": "white",
             "minorgridcolor": "white",
             "startlinecolor": "#2a3f5f"
            },
            "type": "carpet"
           }
          ],
          "choropleth": [
           {
            "colorbar": {
             "outlinewidth": 0,
             "ticks": ""
            },
            "type": "choropleth"
           }
          ],
          "contour": [
           {
            "colorbar": {
             "outlinewidth": 0,
             "ticks": ""
            },
            "colorscale": [
             [
              0,
              "#0d0887"
             ],
             [
              0.1111111111111111,
              "#46039f"
             ],
             [
              0.2222222222222222,
              "#7201a8"
             ],
             [
              0.3333333333333333,
              "#9c179e"
             ],
             [
              0.4444444444444444,
              "#bd3786"
             ],
             [
              0.5555555555555556,
              "#d8576b"
             ],
             [
              0.6666666666666666,
              "#ed7953"
             ],
             [
              0.7777777777777778,
              "#fb9f3a"
             ],
             [
              0.8888888888888888,
              "#fdca26"
             ],
             [
              1,
              "#f0f921"
             ]
            ],
            "type": "contour"
           }
          ],
          "contourcarpet": [
           {
            "colorbar": {
             "outlinewidth": 0,
             "ticks": ""
            },
            "type": "contourcarpet"
           }
          ],
          "heatmap": [
           {
            "colorbar": {
             "outlinewidth": 0,
             "ticks": ""
            },
            "colorscale": [
             [
              0,
              "#0d0887"
             ],
             [
              0.1111111111111111,
              "#46039f"
             ],
             [
              0.2222222222222222,
              "#7201a8"
             ],
             [
              0.3333333333333333,
              "#9c179e"
             ],
             [
              0.4444444444444444,
              "#bd3786"
             ],
             [
              0.5555555555555556,
              "#d8576b"
             ],
             [
              0.6666666666666666,
              "#ed7953"
             ],
             [
              0.7777777777777778,
              "#fb9f3a"
             ],
             [
              0.8888888888888888,
              "#fdca26"
             ],
             [
              1,
              "#f0f921"
             ]
            ],
            "type": "heatmap"
           }
          ],
          "heatmapgl": [
           {
            "colorbar": {
             "outlinewidth": 0,
             "ticks": ""
            },
            "colorscale": [
             [
              0,
              "#0d0887"
             ],
             [
              0.1111111111111111,
              "#46039f"
             ],
             [
              0.2222222222222222,
              "#7201a8"
             ],
             [
              0.3333333333333333,
              "#9c179e"
             ],
             [
              0.4444444444444444,
              "#bd3786"
             ],
             [
              0.5555555555555556,
              "#d8576b"
             ],
             [
              0.6666666666666666,
              "#ed7953"
             ],
             [
              0.7777777777777778,
              "#fb9f3a"
             ],
             [
              0.8888888888888888,
              "#fdca26"
             ],
             [
              1,
              "#f0f921"
             ]
            ],
            "type": "heatmapgl"
           }
          ],
          "histogram": [
           {
            "marker": {
             "pattern": {
              "fillmode": "overlay",
              "size": 10,
              "solidity": 0.2
             }
            },
            "type": "histogram"
           }
          ],
          "histogram2d": [
           {
            "colorbar": {
             "outlinewidth": 0,
             "ticks": ""
            },
            "colorscale": [
             [
              0,
              "#0d0887"
             ],
             [
              0.1111111111111111,
              "#46039f"
             ],
             [
              0.2222222222222222,
              "#7201a8"
             ],
             [
              0.3333333333333333,
              "#9c179e"
             ],
             [
              0.4444444444444444,
              "#bd3786"
             ],
             [
              0.5555555555555556,
              "#d8576b"
             ],
             [
              0.6666666666666666,
              "#ed7953"
             ],
             [
              0.7777777777777778,
              "#fb9f3a"
             ],
             [
              0.8888888888888888,
              "#fdca26"
             ],
             [
              1,
              "#f0f921"
             ]
            ],
            "type": "histogram2d"
           }
          ],
          "histogram2dcontour": [
           {
            "colorbar": {
             "outlinewidth": 0,
             "ticks": ""
            },
            "colorscale": [
             [
              0,
              "#0d0887"
             ],
             [
              0.1111111111111111,
              "#46039f"
             ],
             [
              0.2222222222222222,
              "#7201a8"
             ],
             [
              0.3333333333333333,
              "#9c179e"
             ],
             [
              0.4444444444444444,
              "#bd3786"
             ],
             [
              0.5555555555555556,
              "#d8576b"
             ],
             [
              0.6666666666666666,
              "#ed7953"
             ],
             [
              0.7777777777777778,
              "#fb9f3a"
             ],
             [
              0.8888888888888888,
              "#fdca26"
             ],
             [
              1,
              "#f0f921"
             ]
            ],
            "type": "histogram2dcontour"
           }
          ],
          "mesh3d": [
           {
            "colorbar": {
             "outlinewidth": 0,
             "ticks": ""
            },
            "type": "mesh3d"
           }
          ],
          "parcoords": [
           {
            "line": {
             "colorbar": {
              "outlinewidth": 0,
              "ticks": ""
             }
            },
            "type": "parcoords"
           }
          ],
          "pie": [
           {
            "automargin": true,
            "type": "pie"
           }
          ],
          "scatter": [
           {
            "fillpattern": {
             "fillmode": "overlay",
             "size": 10,
             "solidity": 0.2
            },
            "type": "scatter"
           }
          ],
          "scatter3d": [
           {
            "line": {
             "colorbar": {
              "outlinewidth": 0,
              "ticks": ""
             }
            },
            "marker": {
             "colorbar": {
              "outlinewidth": 0,
              "ticks": ""
             }
            },
            "type": "scatter3d"
           }
          ],
          "scattercarpet": [
           {
            "marker": {
             "colorbar": {
              "outlinewidth": 0,
              "ticks": ""
             }
            },
            "type": "scattercarpet"
           }
          ],
          "scattergeo": [
           {
            "marker": {
             "colorbar": {
              "outlinewidth": 0,
              "ticks": ""
             }
            },
            "type": "scattergeo"
           }
          ],
          "scattergl": [
           {
            "marker": {
             "colorbar": {
              "outlinewidth": 0,
              "ticks": ""
             }
            },
            "type": "scattergl"
           }
          ],
          "scattermapbox": [
           {
            "marker": {
             "colorbar": {
              "outlinewidth": 0,
              "ticks": ""
             }
            },
            "type": "scattermapbox"
           }
          ],
          "scatterpolar": [
           {
            "marker": {
             "colorbar": {
              "outlinewidth": 0,
              "ticks": ""
             }
            },
            "type": "scatterpolar"
           }
          ],
          "scatterpolargl": [
           {
            "marker": {
             "colorbar": {
              "outlinewidth": 0,
              "ticks": ""
             }
            },
            "type": "scatterpolargl"
           }
          ],
          "scatterternary": [
           {
            "marker": {
             "colorbar": {
              "outlinewidth": 0,
              "ticks": ""
             }
            },
            "type": "scatterternary"
           }
          ],
          "surface": [
           {
            "colorbar": {
             "outlinewidth": 0,
             "ticks": ""
            },
            "colorscale": [
             [
              0,
              "#0d0887"
             ],
             [
              0.1111111111111111,
              "#46039f"
             ],
             [
              0.2222222222222222,
              "#7201a8"
             ],
             [
              0.3333333333333333,
              "#9c179e"
             ],
             [
              0.4444444444444444,
              "#bd3786"
             ],
             [
              0.5555555555555556,
              "#d8576b"
             ],
             [
              0.6666666666666666,
              "#ed7953"
             ],
             [
              0.7777777777777778,
              "#fb9f3a"
             ],
             [
              0.8888888888888888,
              "#fdca26"
             ],
             [
              1,
              "#f0f921"
             ]
            ],
            "type": "surface"
           }
          ],
          "table": [
           {
            "cells": {
             "fill": {
              "color": "#EBF0F8"
             },
             "line": {
              "color": "white"
             }
            },
            "header": {
             "fill": {
              "color": "#C8D4E3"
             },
             "line": {
              "color": "white"
             }
            },
            "type": "table"
           }
          ]
         },
         "layout": {
          "annotationdefaults": {
           "arrowcolor": "#2a3f5f",
           "arrowhead": 0,
           "arrowwidth": 1
          },
          "autotypenumbers": "strict",
          "coloraxis": {
           "colorbar": {
            "outlinewidth": 0,
            "ticks": ""
           }
          },
          "colorscale": {
           "diverging": [
            [
             0,
             "#8e0152"
            ],
            [
             0.1,
             "#c51b7d"
            ],
            [
             0.2,
             "#de77ae"
            ],
            [
             0.3,
             "#f1b6da"
            ],
            [
             0.4,
             "#fde0ef"
            ],
            [
             0.5,
             "#f7f7f7"
            ],
            [
             0.6,
             "#e6f5d0"
            ],
            [
             0.7,
             "#b8e186"
            ],
            [
             0.8,
             "#7fbc41"
            ],
            [
             0.9,
             "#4d9221"
            ],
            [
             1,
             "#276419"
            ]
           ],
           "sequential": [
            [
             0,
             "#0d0887"
            ],
            [
             0.1111111111111111,
             "#46039f"
            ],
            [
             0.2222222222222222,
             "#7201a8"
            ],
            [
             0.3333333333333333,
             "#9c179e"
            ],
            [
             0.4444444444444444,
             "#bd3786"
            ],
            [
             0.5555555555555556,
             "#d8576b"
            ],
            [
             0.6666666666666666,
             "#ed7953"
            ],
            [
             0.7777777777777778,
             "#fb9f3a"
            ],
            [
             0.8888888888888888,
             "#fdca26"
            ],
            [
             1,
             "#f0f921"
            ]
           ],
           "sequentialminus": [
            [
             0,
             "#0d0887"
            ],
            [
             0.1111111111111111,
             "#46039f"
            ],
            [
             0.2222222222222222,
             "#7201a8"
            ],
            [
             0.3333333333333333,
             "#9c179e"
            ],
            [
             0.4444444444444444,
             "#bd3786"
            ],
            [
             0.5555555555555556,
             "#d8576b"
            ],
            [
             0.6666666666666666,
             "#ed7953"
            ],
            [
             0.7777777777777778,
             "#fb9f3a"
            ],
            [
             0.8888888888888888,
             "#fdca26"
            ],
            [
             1,
             "#f0f921"
            ]
           ]
          },
          "colorway": [
           "#636efa",
           "#EF553B",
           "#00cc96",
           "#ab63fa",
           "#FFA15A",
           "#19d3f3",
           "#FF6692",
           "#B6E880",
           "#FF97FF",
           "#FECB52"
          ],
          "font": {
           "color": "#2a3f5f"
          },
          "geo": {
           "bgcolor": "white",
           "lakecolor": "white",
           "landcolor": "#E5ECF6",
           "showlakes": true,
           "showland": true,
           "subunitcolor": "white"
          },
          "hoverlabel": {
           "align": "left"
          },
          "hovermode": "closest",
          "mapbox": {
           "style": "light"
          },
          "paper_bgcolor": "white",
          "plot_bgcolor": "#E5ECF6",
          "polar": {
           "angularaxis": {
            "gridcolor": "white",
            "linecolor": "white",
            "ticks": ""
           },
           "bgcolor": "#E5ECF6",
           "radialaxis": {
            "gridcolor": "white",
            "linecolor": "white",
            "ticks": ""
           }
          },
          "scene": {
           "xaxis": {
            "backgroundcolor": "#E5ECF6",
            "gridcolor": "white",
            "gridwidth": 2,
            "linecolor": "white",
            "showbackground": true,
            "ticks": "",
            "zerolinecolor": "white"
           },
           "yaxis": {
            "backgroundcolor": "#E5ECF6",
            "gridcolor": "white",
            "gridwidth": 2,
            "linecolor": "white",
            "showbackground": true,
            "ticks": "",
            "zerolinecolor": "white"
           },
           "zaxis": {
            "backgroundcolor": "#E5ECF6",
            "gridcolor": "white",
            "gridwidth": 2,
            "linecolor": "white",
            "showbackground": true,
            "ticks": "",
            "zerolinecolor": "white"
           }
          },
          "shapedefaults": {
           "line": {
            "color": "#2a3f5f"
           }
          },
          "ternary": {
           "aaxis": {
            "gridcolor": "white",
            "linecolor": "white",
            "ticks": ""
           },
           "baxis": {
            "gridcolor": "white",
            "linecolor": "white",
            "ticks": ""
           },
           "bgcolor": "#E5ECF6",
           "caxis": {
            "gridcolor": "white",
            "linecolor": "white",
            "ticks": ""
           }
          },
          "title": {
           "x": 0.05
          },
          "xaxis": {
           "automargin": true,
           "gridcolor": "white",
           "linecolor": "white",
           "ticks": "",
           "title": {
            "standoff": 15
           },
           "zerolinecolor": "white",
           "zerolinewidth": 2
          },
          "yaxis": {
           "automargin": true,
           "gridcolor": "white",
           "linecolor": "white",
           "ticks": "",
           "title": {
            "standoff": 15
           },
           "zerolinecolor": "white",
           "zerolinewidth": 2
          }
         }
        },
        "width": 800,
        "xaxis": {
         "autorange": true,
         "mirror": "allticks",
         "range": [
          0,
          66.51935056808772
         ],
         "rangemode": "tozero",
         "showgrid": false,
         "showline": true,
         "showticklabels": true,
         "ticks": "outside",
         "type": "linear",
         "zeroline": false
        },
        "yaxis": {
         "autorange": true,
         "mirror": "allticks",
         "range": [
          -300,
          0
         ],
         "rangemode": "tozero",
         "showgrid": false,
         "showline": true,
         "showticklabels": true,
         "tickmode": "array",
         "ticks": "outside",
         "ticktext": [
          "Brain",
          "Pituitary",
          "Blood",
          "Spleen",
          "Lung",
          "Small_Intestine",
          "Thyroid",
          "Nerve",
          "Ovary",
          "Fallopian_Tube",
          "Cervix_Uteri",
          "Uterus",
          "Liver",
          "Prostate",
          "Salivary_Gland",
          "Skin",
          "Vagina",
          "Kidney",
          "Pancreas",
          "Heart",
          "Muscle",
          "Adrenal_Gland",
          "Stomach",
          "Bladder",
          "Colon",
          "Esophagus",
          "Blood_Vessel",
          "Adipose_Tissue",
          "Breast"
         ],
         "tickvals": [
          -5,
          -15,
          -25,
          -35,
          -45,
          -55,
          -65,
          -75,
          -85,
          -95,
          -105,
          -115,
          -125,
          -135,
          -145,
          -155,
          -165,
          -175,
          -185,
          -195,
          -205,
          -215,
          -225,
          -235,
          -245,
          -255,
          -265,
          -275,
          -285
         ],
         "type": "linear",
         "zeroline": false
        }
       }
      },
      "image/png": "[encoded data removed]",
      "text/html": [
       "<div>                            <div id=\"fa1e911e-9e77-4cc2-afcc-23989a54212c\" class=\"plotly-graph-div\" style=\"height:800px; width:800px;\"></div>            <script type=\"text/javascript\">                require([\"plotly\"], function(Plotly) {                    window.PLOTLYENV=window.PLOTLYENV || {};                                    if (document.getElementById(\"fa1e911e-9e77-4cc2-afcc-23989a54212c\")) {                    Plotly.newPlot(                        \"fa1e911e-9e77-4cc2-afcc-23989a54212c\",                        [{\"hoverinfo\":\"text\",\"marker\":{\"color\":\"rgb(61,153,112)\"},\"mode\":\"lines\",\"x\":[0.0,45.84866846485265,45.84866846485265,0.0],\"xaxis\":\"x\",\"y\":[-5.0,-5.0,-15.0,-15.0],\"yaxis\":\"y\",\"type\":\"scatter\"},{\"hoverinfo\":\"text\",\"marker\":{\"color\":\"rgb(255,65,54)\"},\"mode\":\"lines\",\"x\":[0.0,33.807636711252194,33.807636711252194,0.0],\"xaxis\":\"x\",\"y\":[-25.0,-25.0,-35.0,-35.0],\"yaxis\":\"y\",\"type\":\"scatter\"},{\"hoverinfo\":\"text\",\"marker\":{\"color\":\"rgb(255,65,54)\"},\"mode\":\"lines\",\"x\":[0.0,37.96016464664002,37.96016464664002,0.0],\"xaxis\":\"x\",\"y\":[-45.0,-45.0,-55.0,-55.0],\"yaxis\":\"y\",\"type\":\"scatter\"},{\"hoverinfo\":\"text\",\"marker\":{\"color\":\"rgb(255,65,54)\"},\"mode\":\"lines\",\"x\":[33.807636711252194,41.63283559883956,41.63283559883956,37.96016464664002],\"xaxis\":\"x\",\"y\":[-30.0,-30.0,-50.0,-50.0],\"yaxis\":\"y\",\"type\":\"scatter\"},{\"hoverinfo\":\"text\",\"marker\":{\"color\":\"rgb(35,205,205)\"},\"mode\":\"lines\",\"x\":[0.0,19.74163620371946,19.74163620371946,0.0],\"xaxis\":\"x\",\"y\":[-105.0,-105.0,-115.0,-115.0],\"yaxis\":\"y\",\"type\":\"scatter\"},{\"hoverinfo\":\"text\",\"marker\":{\"color\":\"rgb(35,205,205)\"},\"mode\":\"lines\",\"x\":[0.0,25.902561649381596,25.902561649381596,19.74163620371946],\"xaxis\":\"x\",\"y\":[-95.0,-95.0,-110.0,-110.0],\"yaxis\":\"y\",\"type\":\"scatter\"},{\"hoverinfo\":\"text\",\"marker\":{\"color\":\"rgb(35,205,205)\"},\"mode\":\"lines\",\"x\":[0.0,32.87121993476993,32.87121993476993,25.902561649381596],\"xaxis\":\"x\",\"y\":[-85.0,-85.0,-102.5,-102.5],\"yaxis\":\"y\",\"type\":\"scatter\"},{\"hoverinfo\":\"text\",\"marker\":{\"color\":\"rgb(35,205,205)\"},\"mode\":\"lines\",\"x\":[0.0,41.998938081813456,41.998938081813456,32.87121993476993],\"xaxis\":\"x\",\"y\":[-75.0,-75.0,-93.75,-93.75],\"yaxis\":\"y\",\"type\":\"scatter\"},{\"hoverinfo\":\"text\",\"marker\":{\"color\":\"rgb(0,116,217)\"},\"mode\":\"lines\",\"x\":[0.0,48.88478699963839,48.88478699963839,41.998938081813456],\"xaxis\":\"x\",\"y\":[-65.0,-65.0,-84.375,-84.375],\"yaxis\":\"y\",\"type\":\"scatter\"},{\"hoverinfo\":\"text\",\"marker\":{\"color\":\"rgb(133,20,75)\"},\"mode\":\"lines\",\"x\":[0.0,24.906039428219486,24.906039428219486,0.0],\"xaxis\":\"x\",\"y\":[-155.0,-155.0,-165.0,-165.0],\"yaxis\":\"y\",\"type\":\"scatter\"},{\"hoverinfo\":\"text\",\"marker\":{\"color\":\"rgb(133,20,75)\"},\"mode\":\"lines\",\"x\":[0.0,32.69105688104973,32.69105688104973,24.906039428219486],\"xaxis\":\"x\",\"y\":[-145.0,-145.0,-160.0,-160.0],\"yaxis\":\"y\",\"type\":\"scatter\"},{\"hoverinfo\":\"text\",\"marker\":{\"color\":\"rgb(133,20,75)\"},\"mode\":\"lines\",\"x\":[0.0,35.680483460850574,35.680483460850574,32.69105688104973],\"xaxis\":\"x\",\"y\":[-135.0,-135.0,-152.5,-152.5],\"yaxis\":\"y\",\"type\":\"scatter\"},{\"hoverinfo\":\"text\",\"marker\":{\"color\":\"rgb(133,20,75)\"},\"mode\":\"lines\",\"x\":[0.0,40.257870038042576,40.257870038042576,0.0],\"xaxis\":\"x\",\"y\":[-175.0,-175.0,-185.0,-185.0],\"yaxis\":\"y\",\"type\":\"scatter\"},{\"hoverinfo\":\"text\",\"marker\":{\"color\":\"rgb(133,20,75)\"},\"mode\":\"lines\",\"x\":[35.680483460850574,43.45815113416534,43.45815113416534,40.257870038042576],\"xaxis\":\"x\",\"y\":[-143.75,-143.75,-180.0,-180.0],\"yaxis\":\"y\",\"type\":\"scatter\"},{\"hoverinfo\":\"text\",\"marker\":{\"color\":\"rgb(255,220,0)\"},\"mode\":\"lines\",\"x\":[0.0,30.392272044057485,30.392272044057485,0.0],\"xaxis\":\"x\",\"y\":[-195.0,-195.0,-205.0,-205.0],\"yaxis\":\"y\",\"type\":\"scatter\"},{\"hoverinfo\":\"text\",\"marker\":{\"color\":\"rgb(255,220,0)\"},\"mode\":\"lines\",\"x\":[0.0,20.479450676226758,20.479450676226758,0.0],\"xaxis\":\"x\",\"y\":[-245.0,-245.0,-255.0,-255.0],\"yaxis\":\"y\",\"type\":\"scatter\"},{\"hoverinfo\":\"text\",\"marker\":{\"color\":\"rgb(255,220,0)\"},\"mode\":\"lines\",\"x\":[0.0,23.55270260500934,23.55270260500934,20.479450676226758],\"xaxis\":\"x\",\"y\":[-235.0,-235.0,-250.0,-250.0],\"yaxis\":\"y\",\"type\":\"scatter\"},{\"hoverinfo\":\"text\",\"marker\":{\"color\":\"rgb(255,220,0)\"},\"mode\":\"lines\",\"x\":[0.0,27.61916544720376,27.61916544720376,23.55270260500934],\"xaxis\":\"x\",\"y\":[-225.0,-225.0,-242.5,-242.5],\"yaxis\":\"y\",\"type\":\"scatter\"},{\"hoverinfo\":\"text\",\"marker\":{\"color\":\"rgb(255,220,0)\"},\"mode\":\"lines\",\"x\":[0.0,17.83708216048831,17.83708216048831,0.0],\"xaxis\":\"x\",\"y\":[-275.0,-275.0,-285.0,-285.0],\"yaxis\":\"y\",\"type\":\"scatter\"},{\"hoverinfo\":\"text\",\"marker\":{\"color\":\"rgb(255,220,0)\"},\"mode\":\"lines\",\"x\":[0.0,29.017541246632508,29.017541246632508,17.83708216048831],\"xaxis\":\"x\",\"y\":[-265.0,-265.0,-280.0,-280.0],\"yaxis\":\"y\",\"type\":\"scatter\"},{\"hoverinfo\":\"text\",\"marker\":{\"color\":\"rgb(255,220,0)\"},\"mode\":\"lines\",\"x\":[27.61916544720376,32.62862240426374,32.62862240426374,29.017541246632508],\"xaxis\":\"x\",\"y\":[-233.75,-233.75,-272.5,-272.5],\"yaxis\":\"y\",\"type\":\"scatter\"},{\"hoverinfo\":\"text\",\"marker\":{\"color\":\"rgb(255,220,0)\"},\"mode\":\"lines\",\"x\":[0.0,37.179772726578236,37.179772726578236,32.62862240426374],\"xaxis\":\"x\",\"y\":[-215.0,-215.0,-253.125,-253.125],\"yaxis\":\"y\",\"type\":\"scatter\"},{\"hoverinfo\":\"text\",\"marker\":{\"color\":\"rgb(255,220,0)\"},\"mode\":\"lines\",\"x\":[30.392272044057485,43.97278362805705,43.97278362805705,37.179772726578236],\"xaxis\":\"x\",\"y\":[-200.0,-200.0,-234.0625,-234.0625],\"yaxis\":\"y\",\"type\":\"scatter\"},{\"hoverinfo\":\"text\",\"marker\":{\"color\":\"rgb(0,116,217)\"},\"mode\":\"lines\",\"x\":[43.45815113416534,50.00093299129505,50.00093299129505,43.97278362805705],\"xaxis\":\"x\",\"y\":[-161.875,-161.875,-217.03125,-217.03125],\"yaxis\":\"y\",\"type\":\"scatter\"},{\"hoverinfo\":\"text\",\"marker\":{\"color\":\"rgb(0,116,217)\"},\"mode\":\"lines\",\"x\":[0.0,51.135225627742116,51.135225627742116,50.00093299129505],\"xaxis\":\"x\",\"y\":[-125.0,-125.0,-189.453125,-189.453125],\"yaxis\":\"y\",\"type\":\"scatter\"},{\"hoverinfo\":\"text\",\"marker\":{\"color\":\"rgb(0,116,217)\"},\"mode\":\"lines\",\"x\":[48.88478699963839,55.82113130347736,55.82113130347736,51.135225627742116],\"xaxis\":\"x\",\"y\":[-74.6875,-74.6875,-157.2265625,-157.2265625],\"yaxis\":\"y\",\"type\":\"scatter\"},{\"hoverinfo\":\"text\",\"marker\":{\"color\":\"rgb(0,116,217)\"},\"mode\":\"lines\",\"x\":[41.63283559883956,58.222163305739045,58.222163305739045,55.82113130347736],\"xaxis\":\"x\",\"y\":[-40.0,-40.0,-115.95703125,-115.95703125],\"yaxis\":\"y\",\"type\":\"scatter\"},{\"hoverinfo\":\"text\",\"marker\":{\"color\":\"rgb(0,116,217)\"},\"mode\":\"lines\",\"x\":[45.84866846485265,66.51935056808772,66.51935056808772,58.222163305739045],\"xaxis\":\"x\",\"y\":[-10.0,-10.0,-77.978515625,-77.978515625],\"yaxis\":\"y\",\"type\":\"scatter\"}],                        {\"autosize\":false,\"height\":800,\"hovermode\":\"closest\",\"showlegend\":false,\"width\":800,\"xaxis\":{\"mirror\":\"allticks\",\"rangemode\":\"tozero\",\"showgrid\":false,\"showline\":true,\"showticklabels\":true,\"ticks\":\"outside\",\"type\":\"linear\",\"zeroline\":false},\"yaxis\":{\"mirror\":\"allticks\",\"rangemode\":\"tozero\",\"showgrid\":false,\"showline\":true,\"showticklabels\":true,\"tickmode\":\"array\",\"ticks\":\"outside\",\"ticktext\":[\"Brain\",\"Pituitary\",\"Blood\",\"Spleen\",\"Lung\",\"Small_Intestine\",\"Thyroid\",\"Nerve\",\"Ovary\",\"Fallopian_Tube\",\"Cervix_Uteri\",\"Uterus\",\"Liver\",\"Prostate\",\"Salivary_Gland\",\"Skin\",\"Vagina\",\"Kidney\",\"Pancreas\",\"Heart\",\"Muscle\",\"Adrenal_Gland\",\"Stomach\",\"Bladder\",\"Colon\",\"Esophagus\",\"Blood_Vessel\",\"Adipose_Tissue\",\"Breast\"],\"tickvals\":[-5.0,-15.0,-25.0,-35.0,-45.0,-55.0,-65.0,-75.0,-85.0,-95.0,-105.0,-115.0,-125.0,-135.0,-145.0,-155.0,-165.0,-175.0,-185.0,-195.0,-205.0,-215.0,-225.0,-235.0,-245.0,-255.0,-265.0,-275.0,-285.0],\"type\":\"linear\",\"zeroline\":false},\"template\":{\"data\":{\"histogram2dcontour\":[{\"type\":\"histogram2dcontour\",\"colorbar\":{\"outlinewidth\":0,\"ticks\":\"\"},\"colorscale\":[[0.0,\"#0d0887\"],[0.1111111111111111,\"#46039f\"],[0.2222222222222222,\"#7201a8\"],[0.3333333333333333,\"#9c179e\"],[0.4444444444444444,\"#bd3786\"],[0.5555555555555556,\"#d8576b\"],[0.6666666666666666,\"#ed7953\"],[0.7777777777777778,\"#fb9f3a\"],[0.8888888888888888,\"#fdca26\"],[1.0,\"#f0f921\"]]}],\"choropleth\":[{\"type\":\"choropleth\",\"colorbar\":{\"outlinewidth\":0,\"ticks\":\"\"}}],\"histogram2d\":[{\"type\":\"histogram2d\",\"colorbar\":{\"outlinewidth\":0,\"ticks\":\"\"},\"colorscale\":[[0.0,\"#0d0887\"],[0.1111111111111111,\"#46039f\"],[0.2222222222222222,\"#7201a8\"],[0.3333333333333333,\"#9c179e\"],[0.4444444444444444,\"#bd3786\"],[0.5555555555555556,\"#d8576b\"],[0.6666666666666666,\"#ed7953\"],[0.7777777777777778,\"#fb9f3a\"],[0.8888888888888888,\"#fdca26\"],[1.0,\"#f0f921\"]]}],\"heatmap\":[{\"type\":\"heatmap\",\"colorbar\":{\"outlinewidth\":0,\"ticks\":\"\"},\"colorscale\":[[0.0,\"#0d0887\"],[0.1111111111111111,\"#46039f\"],[0.2222222222222222,\"#7201a8\"],[0.3333333333333333,\"#9c179e\"],[0.4444444444444444,\"#bd3786\"],[0.5555555555555556,\"#d8576b\"],[0.6666666666666666,\"#ed7953\"],[0.7777777777777778,\"#fb9f3a\"],[0.8888888888888888,\"#fdca26\"],[1.0,\"#f0f921\"]]}],\"heatmapgl\":[{\"type\":\"heatmapgl\",\"colorbar\":{\"outlinewidth\":0,\"ticks\":\"\"},\"colorscale\":[[0.0,\"#0d0887\"],[0.1111111111111111,\"#46039f\"],[0.2222222222222222,\"#7201a8\"],[0.3333333333333333,\"#9c179e\"],[0.4444444444444444,\"#bd3786\"],[0.5555555555555556,\"#d8576b\"],[0.6666666666666666,\"#ed7953\"],[0.7777777777777778,\"#fb9f3a\"],[0.8888888888888888,\"#fdca26\"],[1.0,\"#f0f921\"]]}],\"contourcarpet\":[{\"type\":\"contourcarpet\",\"colorbar\":{\"outlinewidth\":0,\"ticks\":\"\"}}],\"contour\":[{\"type\":\"contour\",\"colorbar\":{\"outlinewidth\":0,\"ticks\":\"\"},\"colorscale\":[[0.0,\"#0d0887\"],[0.1111111111111111,\"#46039f\"],[0.2222222222222222,\"#7201a8\"],[0.3333333333333333,\"#9c179e\"],[0.4444444444444444,\"#bd3786\"],[0.5555555555555556,\"#d8576b\"],[0.6666666666666666,\"#ed7953\"],[0.7777777777777778,\"#fb9f3a\"],[0.8888888888888888,\"#fdca26\"],[1.0,\"#f0f921\"]]}],\"surface\":[{\"type\":\"surface\",\"colorbar\":{\"outlinewidth\":0,\"ticks\":\"\"},\"colorscale\":[[0.0,\"#0d0887\"],[0.1111111111111111,\"#46039f\"],[0.2222222222222222,\"#7201a8\"],[0.3333333333333333,\"#9c179e\"],[0.4444444444444444,\"#bd3786\"],[0.5555555555555556,\"#d8576b\"],[0.6666666666666666,\"#ed7953\"],[0.7777777777777778,\"#fb9f3a\"],[0.8888888888888888,\"#fdca26\"],[1.0,\"#f0f921\"]]}],\"mesh3d\":[{\"type\":\"mesh3d\",\"colorbar\":{\"outlinewidth\":0,\"ticks\":\"\"}}],\"scatter\":[{\"fillpattern\":{\"fillmode\":\"overlay\",\"size\":10,\"solidity\":0.2},\"type\":\"scatter\"}],\"parcoords\":[{\"type\":\"parcoords\",\"line\":{\"colorbar\":{\"outlinewidth\":0,\"ticks\":\"\"}}}],\"scatterpolargl\":[{\"type\":\"scatterpolargl\",\"marker\":{\"colorbar\":{\"outlinewidth\":0,\"ticks\":\"\"}}}],\"bar\":[{\"error_x\":{\"color\":\"#2a3f5f\"},\"error_y\":{\"color\":\"#2a3f5f\"},\"marker\":{\"line\":{\"color\":\"#E5ECF6\",\"width\":0.5},\"pattern\":{\"fillmode\":\"overlay\",\"size\":10,\"solidity\":0.2}},\"type\":\"bar\"}],\"scattergeo\":[{\"type\":\"scattergeo\",\"marker\":{\"colorbar\":{\"outlinewidth\":0,\"ticks\":\"\"}}}],\"scatterpolar\":[{\"type\":\"scatterpolar\",\"marker\":{\"colorbar\":{\"outlinewidth\":0,\"ticks\":\"\"}}}],\"histogram\":[{\"marker\":{\"pattern\":{\"fillmode\":\"overlay\",\"size\":10,\"solidity\":0.2}},\"type\":\"histogram\"}],\"scattergl\":[{\"type\":\"scattergl\",\"marker\":{\"colorbar\":{\"outlinewidth\":0,\"ticks\":\"\"}}}],\"scatter3d\":[{\"type\":\"scatter3d\",\"line\":{\"colorbar\":{\"outlinewidth\":0,\"ticks\":\"\"}},\"marker\":{\"colorbar\":{\"outlinewidth\":0,\"ticks\":\"\"}}}],\"scattermapbox\":[{\"type\":\"scattermapbox\",\"marker\":{\"colorbar\":{\"outlinewidth\":0,\"ticks\":\"\"}}}],\"scatterternary\":[{\"type\":\"scatterternary\",\"marker\":{\"colorbar\":{\"outlinewidth\":0,\"ticks\":\"\"}}}],\"scattercarpet\":[{\"type\":\"scattercarpet\",\"marker\":{\"colorbar\":{\"outlinewidth\":0,\"ticks\":\"\"}}}],\"carpet\":[{\"aaxis\":{\"endlinecolor\":\"#2a3f5f\",\"gridcolor\":\"white\",\"linecolor\":\"white\",\"minorgridcolor\":\"white\",\"startlinecolor\":\"#2a3f5f\"},\"baxis\":{\"endlinecolor\":\"#2a3f5f\",\"gridcolor\":\"white\",\"linecolor\":\"white\",\"minorgridcolor\":\"white\",\"startlinecolor\":\"#2a3f5f\"},\"type\":\"carpet\"}],\"table\":[{\"cells\":{\"fill\":{\"color\":\"#EBF0F8\"},\"line\":{\"color\":\"white\"}},\"header\":{\"fill\":{\"color\":\"#C8D4E3\"},\"line\":{\"color\":\"white\"}},\"type\":\"table\"}],\"barpolar\":[{\"marker\":{\"line\":{\"color\":\"#E5ECF6\",\"width\":0.5},\"pattern\":{\"fillmode\":\"overlay\",\"size\":10,\"solidity\":0.2}},\"type\":\"barpolar\"}],\"pie\":[{\"automargin\":true,\"type\":\"pie\"}]},\"layout\":{\"autotypenumbers\":\"strict\",\"colorway\":[\"#636efa\",\"#EF553B\",\"#00cc96\",\"#ab63fa\",\"#FFA15A\",\"#19d3f3\",\"#FF6692\",\"#B6E880\",\"#FF97FF\",\"#FECB52\"],\"font\":{\"color\":\"#2a3f5f\"},\"hovermode\":\"closest\",\"hoverlabel\":{\"align\":\"left\"},\"paper_bgcolor\":\"white\",\"plot_bgcolor\":\"#E5ECF6\",\"polar\":{\"bgcolor\":\"#E5ECF6\",\"angularaxis\":{\"gridcolor\":\"white\",\"linecolor\":\"white\",\"ticks\":\"\"},\"radialaxis\":{\"gridcolor\":\"white\",\"linecolor\":\"white\",\"ticks\":\"\"}},\"ternary\":{\"bgcolor\":\"#E5ECF6\",\"aaxis\":{\"gridcolor\":\"white\",\"linecolor\":\"white\",\"ticks\":\"\"},\"baxis\":{\"gridcolor\":\"white\",\"linecolor\":\"white\",\"ticks\":\"\"},\"caxis\":{\"gridcolor\":\"white\",\"linecolor\":\"white\",\"ticks\":\"\"}},\"coloraxis\":{\"colorbar\":{\"outlinewidth\":0,\"ticks\":\"\"}},\"colorscale\":{\"sequential\":[[0.0,\"#0d0887\"],[0.1111111111111111,\"#46039f\"],[0.2222222222222222,\"#7201a8\"],[0.3333333333333333,\"#9c179e\"],[0.4444444444444444,\"#bd3786\"],[0.5555555555555556,\"#d8576b\"],[0.6666666666666666,\"#ed7953\"],[0.7777777777777778,\"#fb9f3a\"],[0.8888888888888888,\"#fdca26\"],[1.0,\"#f0f921\"]],\"sequentialminus\":[[0.0,\"#0d0887\"],[0.1111111111111111,\"#46039f\"],[0.2222222222222222,\"#7201a8\"],[0.3333333333333333,\"#9c179e\"],[0.4444444444444444,\"#bd3786\"],[0.5555555555555556,\"#d8576b\"],[0.6666666666666666,\"#ed7953\"],[0.7777777777777778,\"#fb9f3a\"],[0.8888888888888888,\"#fdca26\"],[1.0,\"#f0f921\"]],\"diverging\":[[0,\"#8e0152\"],[0.1,\"#c51b7d\"],[0.2,\"#de77ae\"],[0.3,\"#f1b6da\"],[0.4,\"#fde0ef\"],[0.5,\"#f7f7f7\"],[0.6,\"#e6f5d0\"],[0.7,\"#b8e186\"],[0.8,\"#7fbc41\"],[0.9,\"#4d9221\"],[1,\"#276419\"]]},\"xaxis\":{\"gridcolor\":\"white\",\"linecolor\":\"white\",\"ticks\":\"\",\"title\":{\"standoff\":15},\"zerolinecolor\":\"white\",\"automargin\":true,\"zerolinewidth\":2},\"yaxis\":{\"gridcolor\":\"white\",\"linecolor\":\"white\",\"ticks\":\"\",\"title\":{\"standoff\":15},\"zerolinecolor\":\"white\",\"automargin\":true,\"zerolinewidth\":2},\"scene\":{\"xaxis\":{\"backgroundcolor\":\"#E5ECF6\",\"gridcolor\":\"white\",\"linecolor\":\"white\",\"showbackground\":true,\"ticks\":\"\",\"zerolinecolor\":\"white\",\"gridwidth\":2},\"yaxis\":{\"backgroundcolor\":\"#E5ECF6\",\"gridcolor\":\"white\",\"linecolor\":\"white\",\"showbackground\":true,\"ticks\":\"\",\"zerolinecolor\":\"white\",\"gridwidth\":2},\"zaxis\":{\"backgroundcolor\":\"#E5ECF6\",\"gridcolor\":\"white\",\"linecolor\":\"white\",\"showbackground\":true,\"ticks\":\"\",\"zerolinecolor\":\"white\",\"gridwidth\":2}},\"shapedefaults\":{\"line\":{\"color\":\"#2a3f5f\"}},\"annotationdefaults\":{\"arrowcolor\":\"#2a3f5f\",\"arrowhead\":0,\"arrowwidth\":1},\"geo\":{\"bgcolor\":\"white\",\"landcolor\":\"#E5ECF6\",\"subunitcolor\":\"white\",\"showland\":true,\"showlakes\":true,\"lakecolor\":\"white\"},\"title\":{\"x\":0.05},\"mapbox\":{\"style\":\"light\"}}}},                        {\"responsive\": true}                    ).then(function(){\n",
       "                            \n",
       "var gd = document.getElementById('fa1e911e-9e77-4cc2-afcc-23989a54212c');\n",
       "var x = new MutationObserver(function (mutations, observer) {{\n",
       "        var display = window.getComputedStyle(gd).display;\n",
       "        if (!display || display === 'none') {{\n",
       "            console.log([gd, 'removed!']);\n",
       "            Plotly.purge(gd);\n",
       "            observer.disconnect();\n",
       "        }}\n",
       "}});\n",
       "\n",
       "// Listen for the removal of the full notebook cells\n",
       "var notebookContainer = gd.closest('#notebook-container');\n",
       "if (notebookContainer) {{\n",
       "    x.observe(notebookContainer, {childList: true});\n",
       "}}\n",
       "\n",
       "// Listen for the clearing of the current output cell\n",
       "var outputEl = gd.closest('.output');\n",
       "if (outputEl) {{\n",
       "    x.observe(outputEl, {childList: true});\n",
       "}}\n",
       "\n",
       "                        })                };                });            </script>        </div>"
      ]
     },
     "metadata": {},
     "output_type": "display_data"
    }
   ],
   "source": [
    "names = df_clustering.index.tolist()\n",
    "fig = ff.create_dendrogram(df_clustering, orientation='left', labels=names)\n",
    "fig.update_layout(width=800, height=800)\n",
    "fig.show()"
   ]
  },
  {
   "cell_type": "code",
   "execution_count": null,
   "id": "901a346a-c682-42b8-93cc-61234a2e99e7",
   "metadata": {},
   "outputs": [],
   "source": []
  },
  {
   "cell_type": "code",
   "execution_count": null,
   "id": "1bf04b1e-7668-4a78-bd9d-a521c2ffd5a7",
   "metadata": {},
   "outputs": [],
   "source": []
  }
 ],
 "metadata": {
  "kernelspec": {
   "display_name": "Python 3 (ipykernel)",
   "language": "python",
   "name": "python3"
  },
  "language_info": {
   "codemirror_mode": {
    "name": "ipython",
    "version": 3
   },
   "file_extension": ".py",
   "mimetype": "text/x-python",
   "name": "python",
   "nbconvert_exporter": "python",
   "pygments_lexer": "ipython3",
   "version": "3.11.3"
  }
 },
 "nbformat": 4,
 "nbformat_minor": 5
}
