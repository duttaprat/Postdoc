{
 "cells": [
  {
   "cell_type": "code",
   "execution_count": 1,
   "id": "0f893188",
   "metadata": {},
   "outputs": [],
   "source": [
    "import os"
   ]
  },
  {
   "cell_type": "code",
   "execution_count": 2,
   "id": "641d9eae",
   "metadata": {},
   "outputs": [
    {
     "name": "stdout",
     "output_type": "stream",
     "text": [
      "/Users/pratik/Documents/GitHub/Postdoc\n"
     ]
    }
   ],
   "source": [
    "cwd=os.getcwd()\n",
    "print(cwd)"
   ]
  },
  {
   "cell_type": "code",
   "execution_count": 3,
   "id": "fa38c957",
   "metadata": {},
   "outputs": [
    {
     "name": "stdout",
     "output_type": "stream",
     "text": [
      "100000\n",
      "200000\n",
      "300000\n",
      "400000\n",
      "500000\n",
      "600000\n",
      "700000\n",
      "800000\n",
      "900000\n",
      "Total number 903334\n"
     ]
    }
   ],
   "source": [
    "count =0\n",
    "with open('/Users/pratik/Box/Datasets/20210712_SARS_COV_2_genome/sequences.fasta', 'r') as f:\n",
    "    for line in f:\n",
    "        if(line[0]=='>'):\n",
    "            count = count+1\n",
    "            if(count%100000==0):\n",
    "                print(count)\n",
    "print(\"Total number\", count)"
   ]
  },
  {
   "cell_type": "code",
   "execution_count": null,
   "id": "58702e2b-0275-4f1d-b1ac-e28490061071",
   "metadata": {},
   "outputs": [],
   "source": []
  }
 ],
 "metadata": {
  "kernelspec": {
   "display_name": "Python 3 (ipykernel)",
   "language": "python",
   "name": "python3"
  },
  "language_info": {
   "codemirror_mode": {
    "name": "ipython",
    "version": 3
   },
   "file_extension": ".py",
   "mimetype": "text/x-python",
   "name": "python",
   "nbconvert_exporter": "python",
   "pygments_lexer": "ipython3",
   "version": "3.7.11"
  }
 },
 "nbformat": 4,
 "nbformat_minor": 5
}
