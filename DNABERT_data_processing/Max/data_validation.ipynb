{
 "cells": [
  {
   "cell_type": "code",
   "execution_count": 10,
   "id": "f668508c-496f-4834-b988-b24c7b0a99cc",
   "metadata": {},
   "outputs": [],
   "source": [
    "import os\n",
    "import pandas as pd\n",
    "import numpy as np\n",
    "from sklearn.metrics import confusion_matrix\n",
    "from sklearn.metrics import accuracy_score\n"
   ]
  },
  {
   "cell_type": "code",
   "execution_count": 11,
   "id": "f4085505-04d7-401c-ae30-aa52e6e007e0",
   "metadata": {},
   "outputs": [],
   "source": [
    "non_coding_region_list= [\"acceptors\",\"donors\"]"
   ]
  },
  {
   "cell_type": "code",
   "execution_count": 13,
   "id": "d6cbd270-6d3b-4f84-9e57-66117bd2c3d7",
   "metadata": {},
   "outputs": [
    {
     "name": "stdout",
     "output_type": "stream",
     "text": [
      "Mouse_acceptors\n",
      "Confusion Matrix:\n",
      "[[     0      0]\n",
      " [ 68931 647682]]\n",
      "Accuracy : 0.9038100062376764\n",
      "####################\n",
      "\n",
      "Mouse_donors\n",
      "Confusion Matrix:\n",
      "[[     0      0]\n",
      " [ 18642 690805]]\n",
      "Accuracy : 0.9737231956721221\n",
      "####################\n",
      "\n"
     ]
    }
   ],
   "source": [
    "for non_coding_region in non_coding_region_list:\n",
    "    print(f\"Mouse_{non_coding_region}\")\n",
    "    df = pd.read_csv(f\"/data/projects/JimData/DNABERTfiles/splicesites/MOUSE_canonical_{non_coding_region}.tsv\", sep=\"\\t\", names=[f'{non_coding_region}_sequence'])\n",
    "    df['Actual_label']=1\n",
    "    predicted_label = np.load(f\"/data/private/pdutta_new/Max/{non_coding_region}/Prediction_result/pred_results.npy\")\n",
    "    df['Prediction'] = predicted_label\n",
    "    df['Prediction'] = np.where(df['Prediction'] >= 0.5, 1, 0)\n",
    "    df.to_csv(f\"/data/private/pdutta_new/Max/{non_coding_region}/{non_coding_region}_prediction_results.tsv\", sep=\"\\t\", index=False)\n",
    "    cm = confusion_matrix(df['Actual_label'], df['Prediction'])\n",
    "    accuracy = accuracy_score(df['Actual_label'], df['Prediction'])\n",
    "    # Print the confusion matrix\n",
    "    print(\"Confusion Matrix:\")\n",
    "    print(cm)\n",
    "    print(\"Accuracy :\", accuracy)\n",
    "    print(\"####################\\n\")\n",
    "    #display(df)"
   ]
  },
  {
   "cell_type": "code",
   "execution_count": null,
   "id": "b8b8eb3f-5b3d-4dd1-b8b7-0b551ec8ed5d",
   "metadata": {},
   "outputs": [],
   "source": []
  }
 ],
 "metadata": {
  "kernelspec": {
   "display_name": "Python 3 (ipykernel)",
   "language": "python",
   "name": "python3"
  },
  "language_info": {
   "codemirror_mode": {
    "name": "ipython",
    "version": 3
   },
   "file_extension": ".py",
   "mimetype": "text/x-python",
   "name": "python",
   "nbconvert_exporter": "python",
   "pygments_lexer": "ipython3",
   "version": "3.10.11"
  }
 },
 "nbformat": 4,
 "nbformat_minor": 5
}
