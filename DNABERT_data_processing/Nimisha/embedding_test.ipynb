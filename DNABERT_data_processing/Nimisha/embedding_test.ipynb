{
 "cells": [
  {
   "cell_type": "code",
   "execution_count": 1,
   "id": "bad33d56-15f8-45a8-9082-9746079a9ca9",
   "metadata": {},
   "outputs": [],
   "source": [
    "import pandas as pd\n",
    "import numpy as np\n",
    "import torch"
   ]
  },
  {
   "cell_type": "markdown",
   "id": "944ab22c-2119-4abd-8c2e-1625f93573eb",
   "metadata": {},
   "source": [
    "## Get the code from /home/campus.stonybrook.edu/pdutta/DNABERT/examples/DNABERT_feature.py"
   ]
  },
  {
   "cell_type": "code",
   "execution_count": 9,
   "id": "4c8888c0-8112-4748-9b87-2b3ad872037b",
   "metadata": {},
   "outputs": [],
   "source": [
    "test_x = np.load(\"/home/campus.stonybrook.edu/pdutta/Github/Postdoc/DNABERT_data_processing/Nimisha/TATA_test_x.npy\")\n",
    "test_df =pd.read_csv(\"/data/private/pdutta/DNABERT_data/Core_Prom_new/TATA/dev.tsv\", sep= \"\\t\")"
   ]
  },
  {
   "cell_type": "code",
   "execution_count": 11,
   "id": "3c6364ce-6cda-431c-9bb6-25aadeaccb34",
   "metadata": {},
   "outputs": [
    {
     "data": {
      "text/plain": [
       "(3396, 768)"
      ]
     },
     "execution_count": 11,
     "metadata": {},
     "output_type": "execute_result"
    }
   ],
   "source": [
    "test_x.shape"
   ]
  },
  {
   "cell_type": "code",
   "execution_count": 12,
   "id": "01401d93-4f79-4c63-93c6-c06a90fad874",
   "metadata": {},
   "outputs": [
    {
     "data": {
      "text/html": [
       "<div>\n",
       "<style scoped>\n",
       "    .dataframe tbody tr th:only-of-type {\n",
       "        vertical-align: middle;\n",
       "    }\n",
       "\n",
       "    .dataframe tbody tr th {\n",
       "        vertical-align: top;\n",
       "    }\n",
       "\n",
       "    .dataframe thead th {\n",
       "        text-align: right;\n",
       "    }\n",
       "</style>\n",
       "<table border=\"1\" class=\"dataframe\">\n",
       "  <thead>\n",
       "    <tr style=\"text-align: right;\">\n",
       "      <th></th>\n",
       "      <th>Sequence</th>\n",
       "      <th>Label</th>\n",
       "    </tr>\n",
       "  </thead>\n",
       "  <tbody>\n",
       "    <tr>\n",
       "      <th>0</th>\n",
       "      <td>TCTTAA CTTAAC TTAACA TAACAA AACAAT ACAATA CAAT...</td>\n",
       "      <td>1</td>\n",
       "    </tr>\n",
       "    <tr>\n",
       "      <th>1</th>\n",
       "      <td>TTTCAA TTCAAG TCAAGA CAAGAA AAGAAT AGAATG GAAT...</td>\n",
       "      <td>0</td>\n",
       "    </tr>\n",
       "    <tr>\n",
       "      <th>2</th>\n",
       "      <td>TGCTGT GCTGTC CTGTCT TGTCTT GTCTTT TCTTTA CTTT...</td>\n",
       "      <td>1</td>\n",
       "    </tr>\n",
       "    <tr>\n",
       "      <th>3</th>\n",
       "      <td>TTGCTT TGCTTT GCTTTC CTTTCT TTTCTT TTCTTT TCTT...</td>\n",
       "      <td>1</td>\n",
       "    </tr>\n",
       "    <tr>\n",
       "      <th>4</th>\n",
       "      <td>TGTGTA GTGTAA TGTAAA GTAAAT TAAATA AAATAG AATA...</td>\n",
       "      <td>1</td>\n",
       "    </tr>\n",
       "    <tr>\n",
       "      <th>...</th>\n",
       "      <td>...</td>\n",
       "      <td>...</td>\n",
       "    </tr>\n",
       "    <tr>\n",
       "      <th>3391</th>\n",
       "      <td>CATGAA ATGAAG TGAAGA GAAGAT AAGATA AGATAA GATA...</td>\n",
       "      <td>0</td>\n",
       "    </tr>\n",
       "    <tr>\n",
       "      <th>3392</th>\n",
       "      <td>AGAGGT GAGGTG AGGTGC GGTGCA GTGCAC TGCACT GCAC...</td>\n",
       "      <td>1</td>\n",
       "    </tr>\n",
       "    <tr>\n",
       "      <th>3393</th>\n",
       "      <td>CGCCCG GCCCGC CCCGCG CCGCGG CGCGGC GCGGCC CGGC...</td>\n",
       "      <td>1</td>\n",
       "    </tr>\n",
       "    <tr>\n",
       "      <th>3394</th>\n",
       "      <td>TTCCAA TCCAAG CCAAGG CAAGGT AAGGTT AGGTTC GGTT...</td>\n",
       "      <td>0</td>\n",
       "    </tr>\n",
       "    <tr>\n",
       "      <th>3395</th>\n",
       "      <td>GACCAC ACCACT CCACTC CACTCC ACTCCA CTCCAT TCCA...</td>\n",
       "      <td>0</td>\n",
       "    </tr>\n",
       "  </tbody>\n",
       "</table>\n",
       "<p>3396 rows × 2 columns</p>\n",
       "</div>"
      ],
      "text/plain": [
       "                                               Sequence  Label\n",
       "0     TCTTAA CTTAAC TTAACA TAACAA AACAAT ACAATA CAAT...      1\n",
       "1     TTTCAA TTCAAG TCAAGA CAAGAA AAGAAT AGAATG GAAT...      0\n",
       "2     TGCTGT GCTGTC CTGTCT TGTCTT GTCTTT TCTTTA CTTT...      1\n",
       "3     TTGCTT TGCTTT GCTTTC CTTTCT TTTCTT TTCTTT TCTT...      1\n",
       "4     TGTGTA GTGTAA TGTAAA GTAAAT TAAATA AAATAG AATA...      1\n",
       "...                                                 ...    ...\n",
       "3391  CATGAA ATGAAG TGAAGA GAAGAT AAGATA AGATAA GATA...      0\n",
       "3392  AGAGGT GAGGTG AGGTGC GGTGCA GTGCAC TGCACT GCAC...      1\n",
       "3393  CGCCCG GCCCGC CCCGCG CCGCGG CGCGGC GCGGCC CGGC...      1\n",
       "3394  TTCCAA TCCAAG CCAAGG CAAGGT AAGGTT AGGTTC GGTT...      0\n",
       "3395  GACCAC ACCACT CCACTC CACTCC ACTCCA CTCCAT TCCA...      0\n",
       "\n",
       "[3396 rows x 2 columns]"
      ]
     },
     "execution_count": 12,
     "metadata": {},
     "output_type": "execute_result"
    }
   ],
   "source": [
    "test_df"
   ]
  },
  {
   "cell_type": "code",
   "execution_count": 13,
   "id": "3c5b4611-e382-4c27-8efb-2ba86667f130",
   "metadata": {},
   "outputs": [
    {
     "data": {
      "text/html": [
       "<div>\n",
       "<style scoped>\n",
       "    .dataframe tbody tr th:only-of-type {\n",
       "        vertical-align: middle;\n",
       "    }\n",
       "\n",
       "    .dataframe tbody tr th {\n",
       "        vertical-align: top;\n",
       "    }\n",
       "\n",
       "    .dataframe thead th {\n",
       "        text-align: right;\n",
       "    }\n",
       "</style>\n",
       "<table border=\"1\" class=\"dataframe\">\n",
       "  <thead>\n",
       "    <tr style=\"text-align: right;\">\n",
       "      <th></th>\n",
       "      <th>Sequence</th>\n",
       "      <th>Label</th>\n",
       "      <th>DNABERT_Embedding</th>\n",
       "    </tr>\n",
       "  </thead>\n",
       "  <tbody>\n",
       "    <tr>\n",
       "      <th>0</th>\n",
       "      <td>TCTTAA CTTAAC TTAACA TAACAA AACAAT ACAATA CAAT...</td>\n",
       "      <td>1</td>\n",
       "      <td>[-0.2985387, -0.0448725, 0.83895385, -0.523473...</td>\n",
       "    </tr>\n",
       "    <tr>\n",
       "      <th>1</th>\n",
       "      <td>TTTCAA TTCAAG TCAAGA CAAGAA AAGAAT AGAATG GAAT...</td>\n",
       "      <td>0</td>\n",
       "      <td>[-0.37829328, 0.20705411, 0.048178975, -0.1981...</td>\n",
       "    </tr>\n",
       "    <tr>\n",
       "      <th>2</th>\n",
       "      <td>TGCTGT GCTGTC CTGTCT TGTCTT GTCTTT TCTTTA CTTT...</td>\n",
       "      <td>1</td>\n",
       "      <td>[0.066112004, 0.37781042, 0.43758187, -0.03651...</td>\n",
       "    </tr>\n",
       "    <tr>\n",
       "      <th>3</th>\n",
       "      <td>TTGCTT TGCTTT GCTTTC CTTTCT TTTCTT TTCTTT TCTT...</td>\n",
       "      <td>1</td>\n",
       "      <td>[0.24752909, 0.38937947, 0.27991483, -0.029562...</td>\n",
       "    </tr>\n",
       "    <tr>\n",
       "      <th>4</th>\n",
       "      <td>TGTGTA GTGTAA TGTAAA GTAAAT TAAATA AAATAG AATA...</td>\n",
       "      <td>1</td>\n",
       "      <td>[-0.19787626, -0.16571209, 0.3797077, -0.20557...</td>\n",
       "    </tr>\n",
       "    <tr>\n",
       "      <th>...</th>\n",
       "      <td>...</td>\n",
       "      <td>...</td>\n",
       "      <td>...</td>\n",
       "    </tr>\n",
       "    <tr>\n",
       "      <th>3391</th>\n",
       "      <td>CATGAA ATGAAG TGAAGA GAAGAT AAGATA AGATAA GATA...</td>\n",
       "      <td>0</td>\n",
       "      <td>[0.43133646, -0.27712324, -0.114310585, -0.167...</td>\n",
       "    </tr>\n",
       "    <tr>\n",
       "      <th>3392</th>\n",
       "      <td>AGAGGT GAGGTG AGGTGC GGTGCA GTGCAC TGCACT GCAC...</td>\n",
       "      <td>1</td>\n",
       "      <td>[0.31561905, -0.23046921, -0.036973827, 0.2485...</td>\n",
       "    </tr>\n",
       "    <tr>\n",
       "      <th>3393</th>\n",
       "      <td>CGCCCG GCCCGC CCCGCG CCGCGG CGCGGC GCGGCC CGGC...</td>\n",
       "      <td>1</td>\n",
       "      <td>[0.27925873, 0.77301246, 0.70580256, -0.319614...</td>\n",
       "    </tr>\n",
       "    <tr>\n",
       "      <th>3394</th>\n",
       "      <td>TTCCAA TCCAAG CCAAGG CAAGGT AAGGTT AGGTTC GGTT...</td>\n",
       "      <td>0</td>\n",
       "      <td>[-0.08215874, 0.05830405, 0.30023566, -0.31320...</td>\n",
       "    </tr>\n",
       "    <tr>\n",
       "      <th>3395</th>\n",
       "      <td>GACCAC ACCACT CCACTC CACTCC ACTCCA CTCCAT TCCA...</td>\n",
       "      <td>0</td>\n",
       "      <td>[0.13627449, 0.07477433, 0.2967832, 0.4172747,...</td>\n",
       "    </tr>\n",
       "  </tbody>\n",
       "</table>\n",
       "<p>3396 rows × 3 columns</p>\n",
       "</div>"
      ],
      "text/plain": [
       "                                               Sequence  Label  \\\n",
       "0     TCTTAA CTTAAC TTAACA TAACAA AACAAT ACAATA CAAT...      1   \n",
       "1     TTTCAA TTCAAG TCAAGA CAAGAA AAGAAT AGAATG GAAT...      0   \n",
       "2     TGCTGT GCTGTC CTGTCT TGTCTT GTCTTT TCTTTA CTTT...      1   \n",
       "3     TTGCTT TGCTTT GCTTTC CTTTCT TTTCTT TTCTTT TCTT...      1   \n",
       "4     TGTGTA GTGTAA TGTAAA GTAAAT TAAATA AAATAG AATA...      1   \n",
       "...                                                 ...    ...   \n",
       "3391  CATGAA ATGAAG TGAAGA GAAGAT AAGATA AGATAA GATA...      0   \n",
       "3392  AGAGGT GAGGTG AGGTGC GGTGCA GTGCAC TGCACT GCAC...      1   \n",
       "3393  CGCCCG GCCCGC CCCGCG CCGCGG CGCGGC GCGGCC CGGC...      1   \n",
       "3394  TTCCAA TCCAAG CCAAGG CAAGGT AAGGTT AGGTTC GGTT...      0   \n",
       "3395  GACCAC ACCACT CCACTC CACTCC ACTCCA CTCCAT TCCA...      0   \n",
       "\n",
       "                                      DNABERT_Embedding  \n",
       "0     [-0.2985387, -0.0448725, 0.83895385, -0.523473...  \n",
       "1     [-0.37829328, 0.20705411, 0.048178975, -0.1981...  \n",
       "2     [0.066112004, 0.37781042, 0.43758187, -0.03651...  \n",
       "3     [0.24752909, 0.38937947, 0.27991483, -0.029562...  \n",
       "4     [-0.19787626, -0.16571209, 0.3797077, -0.20557...  \n",
       "...                                                 ...  \n",
       "3391  [0.43133646, -0.27712324, -0.114310585, -0.167...  \n",
       "3392  [0.31561905, -0.23046921, -0.036973827, 0.2485...  \n",
       "3393  [0.27925873, 0.77301246, 0.70580256, -0.319614...  \n",
       "3394  [-0.08215874, 0.05830405, 0.30023566, -0.31320...  \n",
       "3395  [0.13627449, 0.07477433, 0.2967832, 0.4172747,...  \n",
       "\n",
       "[3396 rows x 3 columns]"
      ]
     },
     "execution_count": 13,
     "metadata": {},
     "output_type": "execute_result"
    }
   ],
   "source": [
    "test_df['DNABERT_Embedding'] = list(test_x)\n",
    "test_df"
   ]
  },
  {
   "cell_type": "code",
   "execution_count": 14,
   "id": "bbc4db09-4955-4461-8495-99fa82bd347e",
   "metadata": {},
   "outputs": [],
   "source": [
    "test_df.to_csv(\"TATA_Embedding_test.tsv\", sep=\"\\t\")"
   ]
  },
  {
   "cell_type": "code",
   "execution_count": null,
   "id": "3cd95a75-0115-4b41-89ad-d53e53fc8d69",
   "metadata": {},
   "outputs": [],
   "source": []
  }
 ],
 "metadata": {
  "kernelspec": {
   "display_name": "Python 3 (ipykernel)",
   "language": "python",
   "name": "python3"
  },
  "language_info": {
   "codemirror_mode": {
    "name": "ipython",
    "version": 3
   },
   "file_extension": ".py",
   "mimetype": "text/x-python",
   "name": "python",
   "nbconvert_exporter": "python",
   "pygments_lexer": "ipython3",
   "version": "3.10.11"
  }
 },
 "nbformat": 4,
 "nbformat_minor": 5
}
