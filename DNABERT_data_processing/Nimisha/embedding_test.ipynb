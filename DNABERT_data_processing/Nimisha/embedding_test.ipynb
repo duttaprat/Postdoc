{
 "cells": [
  {
   "cell_type": "code",
   "execution_count": 1,
   "id": "bad33d56-15f8-45a8-9082-9746079a9ca9",
   "metadata": {},
   "outputs": [],
   "source": [
    "import pandas as pd\n",
    "import numpy as np\n",
    "import torch"
   ]
  },
  {
   "cell_type": "markdown",
   "id": "944ab22c-2119-4abd-8c2e-1625f93573eb",
   "metadata": {},
   "source": [
    "## Get the code from /home/campus.stonybrook.edu/pdutta/DNABERT/examples/DNABERT_feature.py"
   ]
  },
  {
   "cell_type": "code",
   "execution_count": 7,
   "id": "4c8888c0-8112-4748-9b87-2b3ad872037b",
   "metadata": {},
   "outputs": [],
   "source": [
    "test_x = np.load(\"/data/projects/Nimisha/small_dataset/small_train_x.npy\")\n",
    "test_df =pd.read_csv(\"/data/private/pdutta/DNABERT_data/Core_Prom_new/TATA/small_dataset/train.tsv\", sep= \"\\t\")"
   ]
  },
  {
   "cell_type": "code",
   "execution_count": 8,
   "id": "3c6364ce-6cda-431c-9bb6-25aadeaccb34",
   "metadata": {},
   "outputs": [
    {
     "data": {
      "text/plain": [
       "(160, 768)"
      ]
     },
     "execution_count": 8,
     "metadata": {},
     "output_type": "execute_result"
    }
   ],
   "source": [
    "test_x.shape"
   ]
  },
  {
   "cell_type": "code",
   "execution_count": 9,
   "id": "01401d93-4f79-4c63-93c6-c06a90fad874",
   "metadata": {},
   "outputs": [
    {
     "data": {
      "text/html": [
       "<div>\n",
       "<style scoped>\n",
       "    .dataframe tbody tr th:only-of-type {\n",
       "        vertical-align: middle;\n",
       "    }\n",
       "\n",
       "    .dataframe tbody tr th {\n",
       "        vertical-align: top;\n",
       "    }\n",
       "\n",
       "    .dataframe thead th {\n",
       "        text-align: right;\n",
       "    }\n",
       "</style>\n",
       "<table border=\"1\" class=\"dataframe\">\n",
       "  <thead>\n",
       "    <tr style=\"text-align: right;\">\n",
       "      <th></th>\n",
       "      <th>Sequence</th>\n",
       "      <th>Label</th>\n",
       "    </tr>\n",
       "  </thead>\n",
       "  <tbody>\n",
       "    <tr>\n",
       "      <th>0</th>\n",
       "      <td>TTCTAA TCTAAG CTAAGT TAAGTC AAGTCG AGTCGC GTCG...</td>\n",
       "      <td>1</td>\n",
       "    </tr>\n",
       "    <tr>\n",
       "      <th>1</th>\n",
       "      <td>ATAAAT TAAATT AAATTA AATTAG ATTAGT TTAGTA TAGT...</td>\n",
       "      <td>0</td>\n",
       "    </tr>\n",
       "    <tr>\n",
       "      <th>2</th>\n",
       "      <td>TGTAAG GTAAGT TAAGTA AAGTAG AGTAGG GTAGGC TAGG...</td>\n",
       "      <td>1</td>\n",
       "    </tr>\n",
       "    <tr>\n",
       "      <th>3</th>\n",
       "      <td>CCACCG CACCGT ACCGTA CCGTAT CGTATC GTATCC TATC...</td>\n",
       "      <td>0</td>\n",
       "    </tr>\n",
       "    <tr>\n",
       "      <th>4</th>\n",
       "      <td>TGAAAG GAAAGA AAAGAG AAGAGA AGAGAC GAGACA AGAC...</td>\n",
       "      <td>0</td>\n",
       "    </tr>\n",
       "    <tr>\n",
       "      <th>...</th>\n",
       "      <td>...</td>\n",
       "      <td>...</td>\n",
       "    </tr>\n",
       "    <tr>\n",
       "      <th>155</th>\n",
       "      <td>GCGCCG CGCCGA GCCGAG CCGAGG CGAGGG GAGGGG AGGG...</td>\n",
       "      <td>1</td>\n",
       "    </tr>\n",
       "    <tr>\n",
       "      <th>156</th>\n",
       "      <td>GCCAGC CCAGCA CAGCAG AGCAGA GCAGAG CAGAGA AGAG...</td>\n",
       "      <td>0</td>\n",
       "    </tr>\n",
       "    <tr>\n",
       "      <th>157</th>\n",
       "      <td>GATTCC ATTCCT TTCCTT TCCTTG CCTTGT CTTGTC TTGT...</td>\n",
       "      <td>0</td>\n",
       "    </tr>\n",
       "    <tr>\n",
       "      <th>158</th>\n",
       "      <td>AATACT ATACTG TACTGC ACTGCT CTGCTG TGCTGC GCTG...</td>\n",
       "      <td>1</td>\n",
       "    </tr>\n",
       "    <tr>\n",
       "      <th>159</th>\n",
       "      <td>GTGATT TGATTC GATTCT ATTCTG TTCTGG TCTGGG CTGG...</td>\n",
       "      <td>1</td>\n",
       "    </tr>\n",
       "  </tbody>\n",
       "</table>\n",
       "<p>160 rows × 2 columns</p>\n",
       "</div>"
      ],
      "text/plain": [
       "                                              Sequence  Label\n",
       "0    TTCTAA TCTAAG CTAAGT TAAGTC AAGTCG AGTCGC GTCG...      1\n",
       "1    ATAAAT TAAATT AAATTA AATTAG ATTAGT TTAGTA TAGT...      0\n",
       "2    TGTAAG GTAAGT TAAGTA AAGTAG AGTAGG GTAGGC TAGG...      1\n",
       "3    CCACCG CACCGT ACCGTA CCGTAT CGTATC GTATCC TATC...      0\n",
       "4    TGAAAG GAAAGA AAAGAG AAGAGA AGAGAC GAGACA AGAC...      0\n",
       "..                                                 ...    ...\n",
       "155  GCGCCG CGCCGA GCCGAG CCGAGG CGAGGG GAGGGG AGGG...      1\n",
       "156  GCCAGC CCAGCA CAGCAG AGCAGA GCAGAG CAGAGA AGAG...      0\n",
       "157  GATTCC ATTCCT TTCCTT TCCTTG CCTTGT CTTGTC TTGT...      0\n",
       "158  AATACT ATACTG TACTGC ACTGCT CTGCTG TGCTGC GCTG...      1\n",
       "159  GTGATT TGATTC GATTCT ATTCTG TTCTGG TCTGGG CTGG...      1\n",
       "\n",
       "[160 rows x 2 columns]"
      ]
     },
     "execution_count": 9,
     "metadata": {},
     "output_type": "execute_result"
    }
   ],
   "source": [
    "test_df"
   ]
  },
  {
   "cell_type": "code",
   "execution_count": 10,
   "id": "3c5b4611-e382-4c27-8efb-2ba86667f130",
   "metadata": {},
   "outputs": [
    {
     "data": {
      "text/html": [
       "<div>\n",
       "<style scoped>\n",
       "    .dataframe tbody tr th:only-of-type {\n",
       "        vertical-align: middle;\n",
       "    }\n",
       "\n",
       "    .dataframe tbody tr th {\n",
       "        vertical-align: top;\n",
       "    }\n",
       "\n",
       "    .dataframe thead th {\n",
       "        text-align: right;\n",
       "    }\n",
       "</style>\n",
       "<table border=\"1\" class=\"dataframe\">\n",
       "  <thead>\n",
       "    <tr style=\"text-align: right;\">\n",
       "      <th></th>\n",
       "      <th>Sequence</th>\n",
       "      <th>Label</th>\n",
       "      <th>DNABERT_Embedding</th>\n",
       "    </tr>\n",
       "  </thead>\n",
       "  <tbody>\n",
       "    <tr>\n",
       "      <th>0</th>\n",
       "      <td>TTCTAA TCTAAG CTAAGT TAAGTC AAGTCG AGTCGC GTCG...</td>\n",
       "      <td>1</td>\n",
       "      <td>[0.2517712, 0.07104056, 0.32164788, 0.17206165...</td>\n",
       "    </tr>\n",
       "    <tr>\n",
       "      <th>1</th>\n",
       "      <td>ATAAAT TAAATT AAATTA AATTAG ATTAGT TTAGTA TAGT...</td>\n",
       "      <td>0</td>\n",
       "      <td>[0.22393468, 0.2434363, -0.11532202, -0.488481...</td>\n",
       "    </tr>\n",
       "    <tr>\n",
       "      <th>2</th>\n",
       "      <td>TGTAAG GTAAGT TAAGTA AAGTAG AGTAGG GTAGGC TAGG...</td>\n",
       "      <td>1</td>\n",
       "      <td>[0.7632314, 0.47539252, 0.77235454, -0.4611468...</td>\n",
       "    </tr>\n",
       "    <tr>\n",
       "      <th>3</th>\n",
       "      <td>CCACCG CACCGT ACCGTA CCGTAT CGTATC GTATCC TATC...</td>\n",
       "      <td>0</td>\n",
       "      <td>[-0.25621158, 0.19415535, 0.2364465, -0.585288...</td>\n",
       "    </tr>\n",
       "    <tr>\n",
       "      <th>4</th>\n",
       "      <td>TGAAAG GAAAGA AAAGAG AAGAGA AGAGAC GAGACA AGAC...</td>\n",
       "      <td>0</td>\n",
       "      <td>[-0.30839136, -0.0455763, 0.008738385, -0.5840...</td>\n",
       "    </tr>\n",
       "    <tr>\n",
       "      <th>...</th>\n",
       "      <td>...</td>\n",
       "      <td>...</td>\n",
       "      <td>...</td>\n",
       "    </tr>\n",
       "    <tr>\n",
       "      <th>155</th>\n",
       "      <td>GCGCCG CGCCGA GCCGAG CCGAGG CGAGGG GAGGGG AGGG...</td>\n",
       "      <td>1</td>\n",
       "      <td>[0.39488098, -0.4839846, -0.052416254, -0.0600...</td>\n",
       "    </tr>\n",
       "    <tr>\n",
       "      <th>156</th>\n",
       "      <td>GCCAGC CCAGCA CAGCAG AGCAGA GCAGAG CAGAGA AGAG...</td>\n",
       "      <td>0</td>\n",
       "      <td>[0.18357548, 0.008765518, 0.42721453, 0.196485...</td>\n",
       "    </tr>\n",
       "    <tr>\n",
       "      <th>157</th>\n",
       "      <td>GATTCC ATTCCT TTCCTT TCCTTG CCTTGT CTTGTC TTGT...</td>\n",
       "      <td>0</td>\n",
       "      <td>[0.5957316, -0.049518213, 0.05002333, -0.36414...</td>\n",
       "    </tr>\n",
       "    <tr>\n",
       "      <th>158</th>\n",
       "      <td>AATACT ATACTG TACTGC ACTGCT CTGCTG TGCTGC GCTG...</td>\n",
       "      <td>1</td>\n",
       "      <td>[0.03193341, 0.5581094, 0.2785576, 0.44276842,...</td>\n",
       "    </tr>\n",
       "    <tr>\n",
       "      <th>159</th>\n",
       "      <td>GTGATT TGATTC GATTCT ATTCTG TTCTGG TCTGGG CTGG...</td>\n",
       "      <td>1</td>\n",
       "      <td>[-0.44221818, 0.0026558724, 0.46018842, -0.148...</td>\n",
       "    </tr>\n",
       "  </tbody>\n",
       "</table>\n",
       "<p>160 rows × 3 columns</p>\n",
       "</div>"
      ],
      "text/plain": [
       "                                              Sequence  Label  \\\n",
       "0    TTCTAA TCTAAG CTAAGT TAAGTC AAGTCG AGTCGC GTCG...      1   \n",
       "1    ATAAAT TAAATT AAATTA AATTAG ATTAGT TTAGTA TAGT...      0   \n",
       "2    TGTAAG GTAAGT TAAGTA AAGTAG AGTAGG GTAGGC TAGG...      1   \n",
       "3    CCACCG CACCGT ACCGTA CCGTAT CGTATC GTATCC TATC...      0   \n",
       "4    TGAAAG GAAAGA AAAGAG AAGAGA AGAGAC GAGACA AGAC...      0   \n",
       "..                                                 ...    ...   \n",
       "155  GCGCCG CGCCGA GCCGAG CCGAGG CGAGGG GAGGGG AGGG...      1   \n",
       "156  GCCAGC CCAGCA CAGCAG AGCAGA GCAGAG CAGAGA AGAG...      0   \n",
       "157  GATTCC ATTCCT TTCCTT TCCTTG CCTTGT CTTGTC TTGT...      0   \n",
       "158  AATACT ATACTG TACTGC ACTGCT CTGCTG TGCTGC GCTG...      1   \n",
       "159  GTGATT TGATTC GATTCT ATTCTG TTCTGG TCTGGG CTGG...      1   \n",
       "\n",
       "                                     DNABERT_Embedding  \n",
       "0    [0.2517712, 0.07104056, 0.32164788, 0.17206165...  \n",
       "1    [0.22393468, 0.2434363, -0.11532202, -0.488481...  \n",
       "2    [0.7632314, 0.47539252, 0.77235454, -0.4611468...  \n",
       "3    [-0.25621158, 0.19415535, 0.2364465, -0.585288...  \n",
       "4    [-0.30839136, -0.0455763, 0.008738385, -0.5840...  \n",
       "..                                                 ...  \n",
       "155  [0.39488098, -0.4839846, -0.052416254, -0.0600...  \n",
       "156  [0.18357548, 0.008765518, 0.42721453, 0.196485...  \n",
       "157  [0.5957316, -0.049518213, 0.05002333, -0.36414...  \n",
       "158  [0.03193341, 0.5581094, 0.2785576, 0.44276842,...  \n",
       "159  [-0.44221818, 0.0026558724, 0.46018842, -0.148...  \n",
       "\n",
       "[160 rows x 3 columns]"
      ]
     },
     "execution_count": 10,
     "metadata": {},
     "output_type": "execute_result"
    }
   ],
   "source": [
    "test_df['DNABERT_Embedding'] = list(test_x)\n",
    "test_df"
   ]
  },
  {
   "cell_type": "code",
   "execution_count": 11,
   "id": "bbc4db09-4955-4461-8495-99fa82bd347e",
   "metadata": {},
   "outputs": [],
   "source": [
    "test_df.to_csv(\"/data/projects/Nimisha/small_dataset/Small_TATA_Embedding_train.tsv\", sep=\"\\t\")"
   ]
  },
  {
   "cell_type": "code",
   "execution_count": null,
   "id": "3cd95a75-0115-4b41-89ad-d53e53fc8d69",
   "metadata": {},
   "outputs": [],
   "source": []
  }
 ],
 "metadata": {
  "kernelspec": {
   "display_name": "Python 3 (ipykernel)",
   "language": "python",
   "name": "python3"
  },
  "language_info": {
   "codemirror_mode": {
    "name": "ipython",
    "version": 3
   },
   "file_extension": ".py",
   "mimetype": "text/x-python",
   "name": "python",
   "nbconvert_exporter": "python",
   "pygments_lexer": "ipython3",
   "version": "3.10.11"
  }
 },
 "nbformat": 4,
 "nbformat_minor": 5
}
