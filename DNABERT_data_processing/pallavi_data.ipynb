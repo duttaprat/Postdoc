{
 "cells": [
  {
   "cell_type": "code",
   "execution_count": 1,
   "id": "cdd0a298-de34-4915-8bae-192d11cb06ca",
   "metadata": {},
   "outputs": [],
   "source": [
    "import os, tarfile\n",
    "import re\n",
    "import pandas as pd\n",
    "import numpy as np\n",
    "import zipfile, gzip\n",
    "import pandas as pd\n",
    "from sklearn.model_selection import train_test_split"
   ]
  },
  {
   "cell_type": "code",
   "execution_count": 7,
   "id": "da105da3-29e7-4fce-b9d1-9da69096fdb0",
   "metadata": {},
   "outputs": [],
   "source": [
    "UP_FOLDER_PATH = \"/mnt/data05/shared/pdutta_data/DNABERT_data/Pallavi_data/UP/\"\n",
    "DWN_FOLDER_PATH = \"/mnt/data05/shared/pdutta_data/DNABERT_data/Pallavi_data/DWN/\"\n",
    "CONTROL_PATH = \"/mnt/data05/shared/pdutta_data/DNABERT_data/Pallavi_data/Control_housekeeping_p0.1_Tc20tissues_noDEA.txt\""
   ]
  },
  {
   "cell_type": "code",
   "execution_count": 18,
   "id": "b7c2d81a-8a3d-4d75-b37b-48d637490837",
   "metadata": {},
   "outputs": [
    {
     "name": "stdout",
     "output_type": "stream",
     "text": [
      "(180341, 2) (31826, 2)\n",
      "(179310, 2) (31644, 2)\n",
      "(431152, 2) (76086, 2)\n",
      "(178964, 2) (31583, 2)\n",
      "(243452, 2) (42963, 2)\n",
      "(178196, 2) (31447, 2)\n"
     ]
    }
   ],
   "source": [
    "for f in os.listdir(UP_FOLDER_PATH):\n",
    "    tissue_up_csv  =  pd.read_csv(UP_FOLDER_PATH+f,  sep=',')\n",
    "    experiment_csv  =pd.read_csv(CONTROL_PATH ,sep=\",\")\n",
    "    all_data = pd.concat([tissue_up_csv, experiment_csv], ignore_index=True)\n",
    "    train, test = train_test_split(all_data, test_size=0.15)\n",
    "    print (train.shape, test.shape)\n",
    "    folder_path = \"/mnt/data05/shared/pdutta_data/DNABERT_data/Pallavi_data/\"+f.split('.')[0]\n",
    "    if not os.path.exists(folder_path):\n",
    "        os.makedirs(folder_path)\n",
    "    #train.reset_index(drop=True, inplace=True)\n",
    "    train.to_csv(folder_path+\"/train.tsv\", sep=\"\\t\", index=False)\n",
    "    test.to_csv(folder_path+\"/dev.tsv\", sep=\"\\t\", index=False)"
   ]
  },
  {
   "cell_type": "code",
   "execution_count": null,
   "id": "3bb530c5-70ab-41ab-b788-871b3f46b913",
   "metadata": {},
   "outputs": [],
   "source": []
  },
  {
   "cell_type": "code",
   "execution_count": null,
   "id": "459b4cca-565c-4eee-b745-a873f459f8c0",
   "metadata": {},
   "outputs": [],
   "source": []
  },
  {
   "cell_type": "code",
   "execution_count": 16,
   "id": "3c989ddc-8475-4ef8-8c5c-401d23c3a530",
   "metadata": {},
   "outputs": [
    {
     "data": {
      "text/plain": [
       "3814"
      ]
     },
     "execution_count": 16,
     "metadata": {},
     "output_type": "execute_result"
    }
   ],
   "source": [
    "len(concat_up_csv.iloc[3]['Sequence'])"
   ]
  },
  {
   "cell_type": "code",
   "execution_count": 14,
   "id": "8ccfb81a-a437-4921-aeca-91102b609421",
   "metadata": {},
   "outputs": [],
   "source": [
    "experiment  =pd.read_csv(CONTROL_PATH ,sep=\",\")"
   ]
  },
  {
   "cell_type": "code",
   "execution_count": 15,
   "id": "8d540eae-b159-4e7a-8350-01bfb57c6926",
   "metadata": {},
   "outputs": [
    {
     "data": {
      "text/html": [
       "<div>\n",
       "<style scoped>\n",
       "    .dataframe tbody tr th:only-of-type {\n",
       "        vertical-align: middle;\n",
       "    }\n",
       "\n",
       "    .dataframe tbody tr th {\n",
       "        vertical-align: top;\n",
       "    }\n",
       "\n",
       "    .dataframe thead th {\n",
       "        text-align: right;\n",
       "    }\n",
       "</style>\n",
       "<table border=\"1\" class=\"dataframe\">\n",
       "  <thead>\n",
       "    <tr style=\"text-align: right;\">\n",
       "      <th></th>\n",
       "      <th>Sequence</th>\n",
       "      <th>label</th>\n",
       "    </tr>\n",
       "  </thead>\n",
       "  <tbody>\n",
       "    <tr>\n",
       "      <th>0</th>\n",
       "      <td>TTTTCT TTTCTG TTCTGG TCTGGG CTGGGA TGGGAG GGGA...</td>\n",
       "      <td>0</td>\n",
       "    </tr>\n",
       "    <tr>\n",
       "      <th>1</th>\n",
       "      <td>TTTTCT TTTCTG TTCTGG TCTGGG CTGGGA TGGGAG GGGA...</td>\n",
       "      <td>0</td>\n",
       "    </tr>\n",
       "    <tr>\n",
       "      <th>2</th>\n",
       "      <td>AAAAAT AAAATA AAATAA AATAAA ATAAAA TAAAAA AAAA...</td>\n",
       "      <td>0</td>\n",
       "    </tr>\n",
       "    <tr>\n",
       "      <th>3</th>\n",
       "      <td>GGCGGT GCGGTT CGGTTT GGTTTG GTTTGC TTTGCC TTGC...</td>\n",
       "      <td>0</td>\n",
       "    </tr>\n",
       "    <tr>\n",
       "      <th>4</th>\n",
       "      <td>ACATCA CATCAT ATCATT TCATTG CATTGA ATTGAT TTGA...</td>\n",
       "      <td>0</td>\n",
       "    </tr>\n",
       "    <tr>\n",
       "      <th>...</th>\n",
       "      <td>...</td>\n",
       "      <td>...</td>\n",
       "    </tr>\n",
       "    <tr>\n",
       "      <th>187419</th>\n",
       "      <td>CCACTG CACTGA ACTGAC CTGACT TGACTG GACTGA ACTG...</td>\n",
       "      <td>0</td>\n",
       "    </tr>\n",
       "    <tr>\n",
       "      <th>187420</th>\n",
       "      <td>GAAAGA AAAGAC AAGACA AGACAG GACAGC ACAGCT CAGC...</td>\n",
       "      <td>0</td>\n",
       "    </tr>\n",
       "    <tr>\n",
       "      <th>187421</th>\n",
       "      <td>ACTGCT CTGCTG TGCTGA GCTGAG CTGAGA TGAGAG GAGA...</td>\n",
       "      <td>0</td>\n",
       "    </tr>\n",
       "    <tr>\n",
       "      <th>187422</th>\n",
       "      <td>ATCGGT TCGGTC CGGTCG GGTCGC GTCGCT TCGCTC CGCT...</td>\n",
       "      <td>0</td>\n",
       "    </tr>\n",
       "    <tr>\n",
       "      <th>187423</th>\n",
       "      <td>CACCAC ACCACC CCACCC CACCCC ACCCCC CCCCCT CCCC...</td>\n",
       "      <td>0</td>\n",
       "    </tr>\n",
       "  </tbody>\n",
       "</table>\n",
       "<p>187424 rows × 2 columns</p>\n",
       "</div>"
      ],
      "text/plain": [
       "                                                 Sequence  label\n",
       "0       TTTTCT TTTCTG TTCTGG TCTGGG CTGGGA TGGGAG GGGA...      0\n",
       "1       TTTTCT TTTCTG TTCTGG TCTGGG CTGGGA TGGGAG GGGA...      0\n",
       "2       AAAAAT AAAATA AAATAA AATAAA ATAAAA TAAAAA AAAA...      0\n",
       "3       GGCGGT GCGGTT CGGTTT GGTTTG GTTTGC TTTGCC TTGC...      0\n",
       "4       ACATCA CATCAT ATCATT TCATTG CATTGA ATTGAT TTGA...      0\n",
       "...                                                   ...    ...\n",
       "187419  CCACTG CACTGA ACTGAC CTGACT TGACTG GACTGA ACTG...      0\n",
       "187420  GAAAGA AAAGAC AAGACA AGACAG GACAGC ACAGCT CAGC...      0\n",
       "187421  ACTGCT CTGCTG TGCTGA GCTGAG CTGAGA TGAGAG GAGA...      0\n",
       "187422  ATCGGT TCGGTC CGGTCG GGTCGC GTCGCT TCGCTC CGCT...      0\n",
       "187423  CACCAC ACCACC CCACCC CACCCC ACCCCC CCCCCT CCCC...      0\n",
       "\n",
       "[187424 rows x 2 columns]"
      ]
     },
     "execution_count": 15,
     "metadata": {},
     "output_type": "execute_result"
    }
   ],
   "source": [
    "experiment"
   ]
  },
  {
   "cell_type": "code",
   "execution_count": null,
   "id": "f401c549-e8de-448f-b731-d7c5e72c45f3",
   "metadata": {},
   "outputs": [],
   "source": []
  }
 ],
 "metadata": {
  "kernelspec": {
   "display_name": "Python 3",
   "language": "python",
   "name": "python3"
  },
  "language_info": {
   "codemirror_mode": {
    "name": "ipython",
    "version": 3
   },
   "file_extension": ".py",
   "mimetype": "text/x-python",
   "name": "python",
   "nbconvert_exporter": "python",
   "pygments_lexer": "ipython3",
   "version": "3.6.13"
  }
 },
 "nbformat": 4,
 "nbformat_minor": 5
}
