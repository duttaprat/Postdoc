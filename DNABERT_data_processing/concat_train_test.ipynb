{
 "cells": [
  {
   "cell_type": "code",
   "execution_count": 1,
   "id": "f26ea31e-7398-49bd-9053-ffe3f7833ff1",
   "metadata": {},
   "outputs": [],
   "source": [
    "import os\n",
    "import glob\n",
    "import pandas as pd\n",
    "# os.chdir(\"/directory\")"
   ]
  },
  {
   "cell_type": "code",
   "execution_count": 10,
   "id": "2181226a-1029-41d4-82fb-09c512d3099a",
   "metadata": {},
   "outputs": [],
   "source": [
    "data_path= \"/mnt/data05/shared/pdutta_data/DNABERT_data/Promoter_prediction/\""
   ]
  },
  {
   "cell_type": "code",
   "execution_count": 5,
   "id": "ac8c76c0-7a81-4dbb-8423-f880a43bd1b3",
   "metadata": {},
   "outputs": [],
   "source": [
    "file_extension = '.tsv'\n",
    "all_filenames = [i for i in glob.glob(f\"*{file_extension}\")]"
   ]
  },
  {
   "cell_type": "code",
   "execution_count": 6,
   "id": "2536e218-f706-49d7-8300-500c7732e5d8",
   "metadata": {},
   "outputs": [
    {
     "data": {
      "text/plain": [
       "[]"
      ]
     },
     "execution_count": 6,
     "metadata": {},
     "output_type": "execute_result"
    }
   ],
   "source": [
    "all_filenames"
   ]
  },
  {
   "cell_type": "code",
   "execution_count": 13,
   "id": "e6c51bb5-b5d3-4321-ac4a-82f09168060f",
   "metadata": {},
   "outputs": [],
   "source": [
    "csv_files = []\n",
    "for file in os.listdir(data_path):\n",
    "    if file.endswith(\".tsv\") and file.startswith(\"t\"):\n",
    "        csv_files.append(file)"
   ]
  },
  {
   "cell_type": "code",
   "execution_count": 15,
   "id": "303f1204-c12d-4c32-b39a-1d7a30a8a817",
   "metadata": {},
   "outputs": [
    {
     "data": {
      "text/plain": [
       "['train.tsv', 'test.tsv']"
      ]
     },
     "execution_count": 15,
     "metadata": {},
     "output_type": "execute_result"
    }
   ],
   "source": [
    "csv_files"
   ]
  },
  {
   "cell_type": "code",
   "execution_count": 17,
   "id": "9b62f4a7-7ff7-46f9-ab29-bced933e32ac",
   "metadata": {},
   "outputs": [
    {
     "data": {
      "text/html": [
       "<div>\n",
       "<style scoped>\n",
       "    .dataframe tbody tr th:only-of-type {\n",
       "        vertical-align: middle;\n",
       "    }\n",
       "\n",
       "    .dataframe tbody tr th {\n",
       "        vertical-align: top;\n",
       "    }\n",
       "\n",
       "    .dataframe thead th {\n",
       "        text-align: right;\n",
       "    }\n",
       "</style>\n",
       "<table border=\"1\" class=\"dataframe\">\n",
       "  <thead>\n",
       "    <tr style=\"text-align: right;\">\n",
       "      <th></th>\n",
       "      <th>sequence</th>\n",
       "      <th>label</th>\n",
       "    </tr>\n",
       "  </thead>\n",
       "  <tbody>\n",
       "    <tr>\n",
       "      <th>0</th>\n",
       "      <td>GCAGGT CAGGTG AGGTGG GGTGGT GTGGTA TGGTAT GGTA...</td>\n",
       "      <td>0</td>\n",
       "    </tr>\n",
       "    <tr>\n",
       "      <th>1</th>\n",
       "      <td>CCTTTC CTTTCT TTTCTG TTCTGG TCTGGT CTGGTC TGGT...</td>\n",
       "      <td>1</td>\n",
       "    </tr>\n",
       "    <tr>\n",
       "      <th>2</th>\n",
       "      <td>caagca aagcac agcaca gcacag cacagg acagga cagg...</td>\n",
       "      <td>0</td>\n",
       "    </tr>\n",
       "    <tr>\n",
       "      <th>3</th>\n",
       "      <td>tagtta agttaa gttaaa ttaaaa taaaag aaaagt aaag...</td>\n",
       "      <td>0</td>\n",
       "    </tr>\n",
       "    <tr>\n",
       "      <th>4</th>\n",
       "      <td>aacaga acagaa cagaaa agaaac gaaaca aaacaa aaca...</td>\n",
       "      <td>0</td>\n",
       "    </tr>\n",
       "    <tr>\n",
       "      <th>...</th>\n",
       "      <td>...</td>\n",
       "      <td>...</td>\n",
       "    </tr>\n",
       "    <tr>\n",
       "      <th>381589</th>\n",
       "      <td>GGCCGG GCCGGA CCGGAC CGGACT GGACTG GACTGG ACTG...</td>\n",
       "      <td>1</td>\n",
       "    </tr>\n",
       "    <tr>\n",
       "      <th>381590</th>\n",
       "      <td>ATAAAG TAAAGC AAAGCC AAGCCA AGCCAG GCCAGG CCAG...</td>\n",
       "      <td>0</td>\n",
       "    </tr>\n",
       "    <tr>\n",
       "      <th>381591</th>\n",
       "      <td>atttta ttttac tttaca ttacat tacatt acattt catt...</td>\n",
       "      <td>0</td>\n",
       "    </tr>\n",
       "    <tr>\n",
       "      <th>381592</th>\n",
       "      <td>cctagc ctagct tagcta agctac gctact ctactt tact...</td>\n",
       "      <td>0</td>\n",
       "    </tr>\n",
       "    <tr>\n",
       "      <th>381593</th>\n",
       "      <td>GTATAA TATAAA ATAAAT TAAATA AAATAA AATAAA ATAA...</td>\n",
       "      <td>0</td>\n",
       "    </tr>\n",
       "  </tbody>\n",
       "</table>\n",
       "<p>381594 rows × 2 columns</p>\n",
       "</div>"
      ],
      "text/plain": [
       "                                                 sequence  label\n",
       "0       GCAGGT CAGGTG AGGTGG GGTGGT GTGGTA TGGTAT GGTA...      0\n",
       "1       CCTTTC CTTTCT TTTCTG TTCTGG TCTGGT CTGGTC TGGT...      1\n",
       "2       caagca aagcac agcaca gcacag cacagg acagga cagg...      0\n",
       "3       tagtta agttaa gttaaa ttaaaa taaaag aaaagt aaag...      0\n",
       "4       aacaga acagaa cagaaa agaaac gaaaca aaacaa aaca...      0\n",
       "...                                                   ...    ...\n",
       "381589  GGCCGG GCCGGA CCGGAC CGGACT GGACTG GACTGG ACTG...      1\n",
       "381590  ATAAAG TAAAGC AAAGCC AAGCCA AGCCAG GCCAGG CCAG...      0\n",
       "381591  atttta ttttac tttaca ttacat tacatt acattt catt...      0\n",
       "381592  cctagc ctagct tagcta agctac gctact ctactt tact...      0\n",
       "381593  GTATAA TATAAA ATAAAT TAAATA AAATAA AATAAA ATAA...      0\n",
       "\n",
       "[381594 rows x 2 columns]"
      ]
     },
     "execution_count": 17,
     "metadata": {},
     "output_type": "execute_result"
    }
   ],
   "source": [
    "combined_csv_data = pd.concat([pd.read_csv(data_path+f,  sep='\\t') for f in csv_files])\n",
    "combined_csv_data.drop_duplicates().reset_index(drop=True)"
   ]
  },
  {
   "cell_type": "code",
   "execution_count": 18,
   "id": "d9308b35-7c2f-4b9b-9212-86eeb4ab06ec",
   "metadata": {},
   "outputs": [],
   "source": [
    "combined_csv_data.to_csv(data_path+str(\"train_new.tsv\"), index=False,  sep='\\t')"
   ]
  },
  {
   "cell_type": "code",
   "execution_count": null,
   "id": "5f4f97b7-2fce-4edc-b109-a031ca6ad1eb",
   "metadata": {},
   "outputs": [],
   "source": []
  }
 ],
 "metadata": {
  "kernelspec": {
   "display_name": "Python 3 (ipykernel)",
   "language": "python",
   "name": "python3"
  },
  "language_info": {
   "codemirror_mode": {
    "name": "ipython",
    "version": 3
   },
   "file_extension": ".py",
   "mimetype": "text/x-python",
   "name": "python",
   "nbconvert_exporter": "python",
   "pygments_lexer": "ipython3",
   "version": "3.10.4"
  }
 },
 "nbformat": 4,
 "nbformat_minor": 5
}
