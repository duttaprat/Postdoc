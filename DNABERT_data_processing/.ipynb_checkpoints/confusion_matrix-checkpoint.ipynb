{
 "cells": [
  {
   "cell_type": "code",
   "execution_count": 1,
   "id": "0beea35f-093d-478f-bcbc-fe2fce2c9949",
   "metadata": {},
   "outputs": [],
   "source": [
    "from sklearn.metrics import confusion_matrix\n",
    "import torch\n",
    "import numpy as np\n",
    "import pandas as pd\n",
    "import matplotlib.pyplot as plt\n",
    "import seaborn as sn"
   ]
  },
  {
   "cell_type": "code",
   "execution_count": 43,
   "id": "787be627-e74d-47f4-ab74-3d4137a042d4",
   "metadata": {},
   "outputs": [],
   "source": [
    "file1_path = \"/mnt/data05/shared/pdutta_data/DNABERT_data/ft/1100BP_Prom_5:1/2021-12-29_13:04:33_result/pred_results.npy\""
   ]
  },
  {
   "cell_type": "code",
   "execution_count": 44,
   "id": "81bcf4f4-e34e-469b-a8b1-899f0793be40",
   "metadata": {},
   "outputs": [],
   "source": [
    "pred_torch= torch.from_numpy(np.load(file1_path))"
   ]
  },
  {
   "cell_type": "code",
   "execution_count": 45,
   "id": "5a5fad97-b338-4e13-9d07-82fed667b342",
   "metadata": {},
   "outputs": [
    {
     "data": {
      "text/plain": [
       "tensor([0.0164, 0.0043, 0.9955,  ..., 0.1429, 0.0332, 0.0052])"
      ]
     },
     "execution_count": 45,
     "metadata": {},
     "output_type": "execute_result"
    }
   ],
   "source": [
    "pred_torch"
   ]
  },
  {
   "cell_type": "code",
   "execution_count": 46,
   "id": "de5cb862-0f4b-4a7c-bcd0-cad981939546",
   "metadata": {},
   "outputs": [],
   "source": [
    "t = torch.Tensor([0.5])"
   ]
  },
  {
   "cell_type": "code",
   "execution_count": 47,
   "id": "55506235-cc0b-4399-90b4-5c45c5d3ef72",
   "metadata": {},
   "outputs": [],
   "source": [
    "pred_out = (pred_torch > t).float() * 1"
   ]
  },
  {
   "cell_type": "code",
   "execution_count": 48,
   "id": "cade9550-73ed-48ea-89fe-7b6c0b214337",
   "metadata": {},
   "outputs": [
    {
     "data": {
      "text/plain": [
       "tensor([0., 0., 1.,  ..., 0., 0., 0.])"
      ]
     },
     "execution_count": 48,
     "metadata": {},
     "output_type": "execute_result"
    }
   ],
   "source": [
    "pred_out"
   ]
  },
  {
   "cell_type": "code",
   "execution_count": 49,
   "id": "fbca57b8-b82a-44e5-941b-f94aa92a54f3",
   "metadata": {},
   "outputs": [
    {
     "data": {
      "text/plain": [
       "torch.Size([40107])"
      ]
     },
     "execution_count": 49,
     "metadata": {},
     "output_type": "execute_result"
    }
   ],
   "source": [
    "pred_out.shape"
   ]
  },
  {
   "cell_type": "code",
   "execution_count": 50,
   "id": "79bc6de1-9a0e-4f68-85b0-a4863f63fed7",
   "metadata": {},
   "outputs": [
    {
     "data": {
      "text/plain": [
       "array([0., 0., 1., ..., 0., 0., 0.], dtype=float32)"
      ]
     },
     "execution_count": 50,
     "metadata": {},
     "output_type": "execute_result"
    }
   ],
   "source": [
    "pred_out.numpy()"
   ]
  },
  {
   "cell_type": "code",
   "execution_count": 51,
   "id": "b26cc999-01a1-47d3-b27f-c57e3625016a",
   "metadata": {},
   "outputs": [],
   "source": [
    "dev_tsv = pd.read_csv(\"/mnt/data05/shared/pdutta_data/DNABERT_data/Promoter_prediction/1100BP_promoter_prediction_data/5:1/dev.tsv\",sep= \"\\t\")"
   ]
  },
  {
   "cell_type": "code",
   "execution_count": 52,
   "id": "b3b8337b-c8c5-42d4-9af9-8b1f9f76196b",
   "metadata": {},
   "outputs": [
    {
     "data": {
      "text/plain": [
       "label\n",
       "0    33809\n",
       "1     6298\n",
       "dtype: int64"
      ]
     },
     "execution_count": 52,
     "metadata": {},
     "output_type": "execute_result"
    }
   ],
   "source": [
    "dev_tsv.groupby(['label']).size()"
   ]
  },
  {
   "cell_type": "code",
   "execution_count": 53,
   "id": "acacfc30-a35b-4396-9155-76ea2a5ef1f6",
   "metadata": {},
   "outputs": [],
   "source": [
    "actual_pred = dev_tsv['label'].to_numpy()"
   ]
  },
  {
   "cell_type": "code",
   "execution_count": 54,
   "id": "02daf96c-d761-4f28-b202-1ae01a41e96d",
   "metadata": {},
   "outputs": [
    {
     "data": {
      "text/plain": [
       "array([0, 0, 1, ..., 0, 0, 0])"
      ]
     },
     "execution_count": 54,
     "metadata": {},
     "output_type": "execute_result"
    }
   ],
   "source": [
    "actual_pred"
   ]
  },
  {
   "cell_type": "code",
   "execution_count": 55,
   "id": "76d3f4c0-7c87-428d-a22b-421c4029a84d",
   "metadata": {},
   "outputs": [],
   "source": [
    "cf_matrix = confusion_matrix(actual_pred, pred_out.numpy())"
   ]
  },
  {
   "cell_type": "code",
   "execution_count": 56,
   "id": "5a7202e9-2c8d-48e0-b242-bb6bff0e8f35",
   "metadata": {},
   "outputs": [
    {
     "data": {
      "text/plain": [
       "array([[32330,  1479],\n",
       "       [ 2258,  4040]])"
      ]
     },
     "execution_count": 56,
     "metadata": {},
     "output_type": "execute_result"
    }
   ],
   "source": [
    "cf_matrix"
   ]
  },
  {
   "cell_type": "code",
   "execution_count": 64,
   "id": "93dc0498-c641-492e-a57c-684459d2c7d4",
   "metadata": {},
   "outputs": [
    {
     "data": {
      "image/png": "[encoded data removed]",
      "text/plain": [
       "<Figure size 864x504 with 2 Axes>"
      ]
     },
     "metadata": {
      "needs_background": "light"
     },
     "output_type": "display_data"
    }
   ],
   "source": [
    "df_cm = pd.DataFrame(cf_matrix, index = [i for i in range(2)],\n",
    "                     columns = [i for i in range(2)])\n",
    "plt.figure(figsize = (12,7))\n",
    "ax = sn.heatmap(df_cm, annot=True)\n",
    "ax.xaxis.set_ticklabels(['False','True'])\n",
    "ax.yaxis.set_ticklabels(['False','True'])\n",
    "class_accuracy=str(\"Accuracy for each class [class 0, class 1]\")+str(100*cf_matrix.diagonal()/cf_matrix.sum(1))\n",
    "plt.figtext(0.5, 0.01, class_accuracy, wrap=True, horizontalalignment='center', fontsize=12)\n",
    "plt.savefig('output_1100bp_5:1.png')"
   ]
  },
  {
   "cell_type": "code",
   "execution_count": 37,
   "id": "1730aedc-d139-4e0f-a82d-18282db3ff14",
   "metadata": {},
   "outputs": [
    {
     "name": "stdout",
     "output_type": "stream",
     "text": [
      "[95.08318799 58.21698113]\n"
     ]
    }
   ],
   "source": [
    "class_accuracy=100*cf_matrix.diagonal()/cf_matrix.sum(1)\n",
    "print(class_accuracy)"
   ]
  },
  {
   "cell_type": "code",
   "execution_count": 58,
   "id": "97db3c08-7063-410a-a3d0-45ccdab3a5af",
   "metadata": {},
   "outputs": [
    {
     "data": {
      "text/html": [
       "<div>\n",
       "<style scoped>\n",
       "    .dataframe tbody tr th:only-of-type {\n",
       "        vertical-align: middle;\n",
       "    }\n",
       "\n",
       "    .dataframe tbody tr th {\n",
       "        vertical-align: top;\n",
       "    }\n",
       "\n",
       "    .dataframe thead th {\n",
       "        text-align: right;\n",
       "    }\n",
       "</style>\n",
       "<table border=\"1\" class=\"dataframe\">\n",
       "  <thead>\n",
       "    <tr style=\"text-align: right;\">\n",
       "      <th></th>\n",
       "      <th>0</th>\n",
       "      <th>1</th>\n",
       "    </tr>\n",
       "  </thead>\n",
       "  <tbody>\n",
       "    <tr>\n",
       "      <th>0</th>\n",
       "      <td>8.060937</td>\n",
       "      <td>0.368764</td>\n",
       "    </tr>\n",
       "    <tr>\n",
       "      <th>1</th>\n",
       "      <td>0.562994</td>\n",
       "      <td>1.007305</td>\n",
       "    </tr>\n",
       "  </tbody>\n",
       "</table>\n",
       "</div>"
      ],
      "text/plain": [
       "          0         1\n",
       "0  8.060937  0.368764\n",
       "1  0.562994  1.007305"
      ]
     },
     "execution_count": 58,
     "metadata": {},
     "output_type": "execute_result"
    }
   ],
   "source": [
    "df_cm"
   ]
  },
  {
   "cell_type": "code",
   "execution_count": 59,
   "id": "0ab8c48a-07ea-484c-852e-d08f17fbdb00",
   "metadata": {},
   "outputs": [],
   "source": [
    "df_cm = pd.DataFrame(cf_matrix, index = [i for i in range(2)],\n",
    "                     columns = [i for i in range(2)])"
   ]
  },
  {
   "cell_type": "code",
   "execution_count": 60,
   "id": "a1f6dd53-523c-4fca-8f92-ccb4ade725b9",
   "metadata": {},
   "outputs": [
    {
     "data": {
      "text/html": [
       "<div>\n",
       "<style scoped>\n",
       "    .dataframe tbody tr th:only-of-type {\n",
       "        vertical-align: middle;\n",
       "    }\n",
       "\n",
       "    .dataframe tbody tr th {\n",
       "        vertical-align: top;\n",
       "    }\n",
       "\n",
       "    .dataframe thead th {\n",
       "        text-align: right;\n",
       "    }\n",
       "</style>\n",
       "<table border=\"1\" class=\"dataframe\">\n",
       "  <thead>\n",
       "    <tr style=\"text-align: right;\">\n",
       "      <th></th>\n",
       "      <th>0</th>\n",
       "      <th>1</th>\n",
       "    </tr>\n",
       "  </thead>\n",
       "  <tbody>\n",
       "    <tr>\n",
       "      <th>0</th>\n",
       "      <td>32330</td>\n",
       "      <td>1479</td>\n",
       "    </tr>\n",
       "    <tr>\n",
       "      <th>1</th>\n",
       "      <td>2258</td>\n",
       "      <td>4040</td>\n",
       "    </tr>\n",
       "  </tbody>\n",
       "</table>\n",
       "</div>"
      ],
      "text/plain": [
       "       0     1\n",
       "0  32330  1479\n",
       "1   2258  4040"
      ]
     },
     "execution_count": 60,
     "metadata": {},
     "output_type": "execute_result"
    }
   ],
   "source": [
    "df_cm"
   ]
  },
  {
   "cell_type": "code",
   "execution_count": 68,
   "id": "d1315228-ac17-4fc4-9303-9cac5e1b6bb3",
   "metadata": {},
   "outputs": [
    {
     "data": {
      "image/png": "[encoded data removed]",
      "text/plain": [
       "<Figure size 864x504 with 2 Axes>"
      ]
     },
     "metadata": {
      "needs_background": "light"
     },
     "output_type": "display_data"
    }
   ],
   "source": [
    "group_names = ['True Neg','False Pos','False Neg','True Pos']\n",
    "\n",
    "group_counts = [\"{0:0.0f}\".format(value) for value in\n",
    "                cf_matrix.flatten()]\n",
    "\n",
    "# group_percentages = [\"{0:.2%}\".format(value) for value in\n",
    "#                      cf_matrix.flatten()/np.sum(cf_matrix)]\n",
    "\n",
    "labels = [f\"{v1}\\n{v2}\" for v1, v2 in\n",
    "          zip(group_names,group_counts)]\n",
    "\n",
    "labels = np.asarray(labels).reshape(2,2)\n",
    "plt.figure(figsize = (12,7))\n",
    "ax = sn.heatmap(cf_matrix, annot=labels, fmt='', cmap='Blues')\n",
    "class_accuracy=str(\"Accuracy for each class [class 0, class 1]\")+str(100*cf_matrix.diagonal()/cf_matrix.sum(1))\n",
    "ax.set_title(class_accuracy);\n",
    "ax.set_xlabel('\\nPredicted Values')\n",
    "ax.set_ylabel('Actual Values ');\n",
    "\n",
    "## Ticket labels - List must be in alphabetical order\n",
    "ax.xaxis.set_ticklabels(['False','True'])\n",
    "ax.yaxis.set_ticklabels(['False','True'])\n",
    "\n",
    "## Display the visualization of the Confusion Matrix.\n",
    "plt.show()"
   ]
  },
  {
   "cell_type": "code",
   "execution_count": null,
   "id": "23d222fb-1e38-4b50-bd01-5eb8956f0eef",
   "metadata": {},
   "outputs": [],
   "source": []
  }
 ],
 "metadata": {
  "kernelspec": {
   "display_name": "Python 3",
   "language": "python",
   "name": "python3"
  },
  "language_info": {
   "codemirror_mode": {
    "name": "ipython",
    "version": 3
   },
   "file_extension": ".py",
   "mimetype": "text/x-python",
   "name": "python",
   "nbconvert_exporter": "python",
   "pygments_lexer": "ipython3",
   "version": "3.6.13"
  }
 },
 "nbformat": 4,
 "nbformat_minor": 5
}
