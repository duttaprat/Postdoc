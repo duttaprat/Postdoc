{
 "cells": [
  {
   "cell_type": "code",
   "execution_count": 2,
   "id": "cdd0a298-de34-4915-8bae-192d11cb06ca",
   "metadata": {},
   "outputs": [],
   "source": [
    "import os, tarfile\n",
    "import re\n",
    "import pandas as pd\n",
    "import numpy as np\n",
    "import zipfile, gzip\n",
    "import pandas as pd\n",
    "from sklearn.model_selection import train_test_split"
   ]
  },
  {
   "cell_type": "code",
   "execution_count": 15,
   "id": "da105da3-29e7-4fce-b9d1-9da69096fdb0",
   "metadata": {},
   "outputs": [],
   "source": [
    "ENHANCER_PATH = \"/home/pdutta/Rekha_LabWork/Enhancer_Prediction_Project/01102021/DataForkmer/kmer_Files/Enhancers_kmer.csv\"\n",
    "NON_ENHANCER_PATH = \"/home/pdutta/Rekha_LabWork/Enhancer_Prediction_Project/01102021/DataForkmer/kmer_Files/Non-Enhancer_Ratio5.csv\"\n",
    "OUTPUT_FOLDER= \"/home/pdutta/Data/Rekha_data/Enhancer/1:5\""
   ]
  },
  {
   "cell_type": "code",
   "execution_count": 16,
   "id": "8269260f-ccba-4d08-aa85-ce0ec59f9dd2",
   "metadata": {},
   "outputs": [
    {
     "name": "stdout",
     "output_type": "stream",
     "text": [
      "(35043, 2)\n",
      "(175215, 2)\n",
      "                                            Sequence  Label\n",
      "0  TTACCT TACCTC ACCTCT CCTCTT CTCTTG TCTTGA CTTG...      0\n",
      "1  AGGAAG GGAAGA GAAGAG AAGAGA AGAGAT GAGATT AGAT...      0\n",
      "2  CAGTGA AGTGAG GTGAGC TGAGCC GAGCCA AGCCAT GCCA...      0\n",
      "3  ATAAGA TAAGAG AAGAGA AGAGAC GAGACA AGACAG GACA...      0\n",
      "4  TTTAAA TTAAAA TAAAAA AAAAAA AAAAAA AAAAAG AAAA...      0\n",
      "                                            Sequence  Label\n",
      "0  TAGGAA AGGAAA GGAAAA GAAAAA AAAAAA AAAAAA AAAA...      1\n",
      "1  ATGCTT TGCTTA GCTTAA CTTAAT TTAATT TAATTT AATT...      1\n",
      "2  CGGCGG GGCGGC GCGGCT CGGCTC GGCTCC GCTCCC CTCC...      1\n",
      "3  AGAATC GAATCA AATCAG ATCAGA TCAGAA CAGAAA AGAA...      1\n",
      "4  GGATCA GATCAC ATCACA TCACAG CACAGC ACAGCT CAGC...      1\n"
     ]
    }
   ],
   "source": [
    "enhancer_csv  =  pd.read_csv(ENHANCER_PATH,  sep=',')\n",
    "print(enhancer_csv.shape)\n",
    "non_enhancer_csv  =  pd.read_csv(NON_ENHANCER_PATH,  sep=',')\n",
    "print (non_enhancer_csv.shape)\n",
    "print( enhancer_csv.head())\n",
    "print( non_enhancer_csv.head())"
   ]
  },
  {
   "cell_type": "code",
   "execution_count": 17,
   "id": "6d21d321-a58c-493f-8d54-0de0fa4a6db5",
   "metadata": {},
   "outputs": [
    {
     "name": "stdout",
     "output_type": "stream",
     "text": [
      "(210258, 2)\n"
     ]
    }
   ],
   "source": [
    "all_data = pd.concat([enhancer_csv, non_enhancer_csv], ignore_index=True)\n",
    "print(all_data.shape)"
   ]
  },
  {
   "cell_type": "markdown",
   "id": "b1e854ea-2556-48e9-a8fe-eb9b508c7d26",
   "metadata": {},
   "source": [
    "# Creating train and testing dataset"
   ]
  },
  {
   "cell_type": "code",
   "execution_count": 18,
   "id": "0fd94088-8542-4675-850a-5850e95cb0ae",
   "metadata": {},
   "outputs": [
    {
     "name": "stdout",
     "output_type": "stream",
     "text": [
      "(189232, 2) (21026, 2)\n",
      "                                                 Sequence  Label\n",
      "66911   AAAACA AAACAG AACAGA ACAGAT CAGATG AGATGT GATG...      1\n",
      "171970  ATAATG TAATGT AATGTA ATGTAC TGTACA GTACAT TACA...      1\n",
      "125955  GATGAG ATGAGT TGAGTG GAGTGT AGTGTA GTGTAT TGTA...      1\n",
      "189089  ATATTT TATTTT ATTTTA TTTTAG TTTAGC TTAGCA TAGC...      1\n",
      "108794  ACATCC CATCCA ATCCAC TCCACT CCACTT CACTTC ACTT...      1\n",
      "                                                 Sequence  Label\n",
      "144685  ATAACA TAACAA AACAAA ACAAAC CAAACA AAACAG AACA...      1\n",
      "125122  GTCTTT TCTTTG CTTTGC TTTGCA TTGCAG TGCAGA GCAG...      1\n",
      "64617   TTCCTA TCCTAC CCTACC CTACCA TACCAT ACCATG CCAT...      1\n",
      "119157  TTAGAG TAGAGG AGAGGT GAGGTA AGGTAC GGTACA GTAC...      1\n",
      "87717   AGAGGC GAGGCC AGGCCT GGCCTC GCCTCT CCTCTG CTCT...      1\n"
     ]
    }
   ],
   "source": [
    "train, test = train_test_split(all_data, test_size=0.10)\n",
    "print (train.shape, test.shape)\n",
    "print(train.head())\n",
    "print(test.head())\n",
    "output_folder_path = OUTPUT_FOLDER \n",
    "if not os.path.exists(output_folder_path):\n",
    "    os.makedirs(output_folder_path)\n",
    "    #train.reset_index(drop=True, inplace=True)\n",
    "train.to_csv(output_folder_path+\"/train.tsv\", sep=\"\\t\", index=False)\n",
    "test.to_csv(output_folder_path+\"/dev.tsv\", sep=\"\\t\", index=False)"
   ]
  },
  {
   "cell_type": "markdown",
   "id": "38c46b65-52a0-4bc8-8042-653d27e58ab0",
   "metadata": {},
   "source": []
  }
 ],
 "metadata": {
  "kernelspec": {
   "display_name": "Python 3",
   "language": "python",
   "name": "python3"
  },
  "language_info": {
   "codemirror_mode": {
    "name": "ipython",
    "version": 3
   },
   "file_extension": ".py",
   "mimetype": "text/x-python",
   "name": "python",
   "nbconvert_exporter": "python",
   "pygments_lexer": "ipython3",
   "version": "3.7.11"
  }
 },
 "nbformat": 4,
 "nbformat_minor": 5
}
