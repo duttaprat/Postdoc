{
 "cells": [
  {
   "cell_type": "code",
   "execution_count": 1,
   "id": "29a5bc77-87de-4b7f-85ec-fe45e6bc10f7",
   "metadata": {},
   "outputs": [],
   "source": [
    "import os, tarfile\n",
    "import re\n",
    "import pandas as pd\n",
    "import numpy as np\n",
    "import zipfile, gzip\n",
    "import pandas as pd\n",
    "from sklearn.model_selection import train_test_split"
   ]
  },
  {
   "cell_type": "code",
   "execution_count": 36,
   "id": "87b34985-00cb-44af-a83e-76c10390fd4d",
   "metadata": {},
   "outputs": [],
   "source": [
    "promoter_data_path = \"/mnt/data05/shared/pdutta_data/DNABERT_data/Promoter_prediction/Promoter_regions_new/\"\n",
    "non_promoter_data_path = \"/mnt/data05/shared/pdutta_data/DNABERT_data/Promoter_prediction/Non_promoter_regions/\"\n",
    "data_path= \"/mnt/data05/shared/pdutta_data/DNABERT_data/Promoter_prediction/300BP_data_5:1/\""
   ]
  },
  {
   "cell_type": "code",
   "execution_count": 3,
   "id": "24e42eb5-e5c9-4f45-ac8d-9d2366ca966f",
   "metadata": {},
   "outputs": [],
   "source": [
    "def seq2kmer(seq, k):\n",
    "    kmer = [seq[x:x+k] for x in range(len(seq)+1-k)]\n",
    "    #print (kmer)\n",
    "    kmers = \" \".join(kmer)\n",
    "    #print (kmers)\n",
    "    return kmers"
   ]
  },
  {
   "cell_type": "code",
   "execution_count": 4,
   "id": "40045d30-f517-461e-a5c0-907771abd319",
   "metadata": {},
   "outputs": [],
   "source": [
    "temp_seq = seq2kmer(\"NNUHIUEFHKAHDHEAJANEDHLAAFH\", 6 )"
   ]
  },
  {
   "cell_type": "code",
   "execution_count": 37,
   "id": "b467f9b6-815a-48e5-b67c-d3a3e20b75b0",
   "metadata": {},
   "outputs": [],
   "source": [
    "def df2kmer(dataframe, name):\n",
    "    temp_df= pd.DataFrame(columns= ['sequence','label' ])\n",
    "    for index, row in dataframe.iterrows():\n",
    "        temp_df.loc[index,['sequence']]= seq2kmer(row['sequence'], 6)\n",
    "        temp_df.loc[index,['label']]= row['label']\n",
    "        #print(temp)\n",
    "        # if(index==10):\n",
    "        #     break\n",
    "    temp_df.to_csv(data_path+name, index=False,  sep='\\t')\n",
    "    #return temp_df"
   ]
  },
  {
   "cell_type": "code",
   "execution_count": 6,
   "id": "aaf90ecd-1f38-4bf4-8d90-d11e140389d4",
   "metadata": {},
   "outputs": [],
   "source": [
    "def create_csv(path):\n",
    "    file_names = os.listdir(path)\n",
    "    for i in file_names:\n",
    "        print (i)\n",
    "    combined_csv_data = pd.concat([pd.read_csv(str(path)+str(f)) for f in file_names])\n",
    "    combined_csv_data.drop_duplicates().reset_index(drop=True)\n",
    "    print (combined_csv_data.shape)\n",
    "    return combined_csv_data"
   ]
  },
  {
   "cell_type": "code",
   "execution_count": 7,
   "id": "b3dda7c9-534c-44e1-bf8d-692d7bcb2a0f",
   "metadata": {},
   "outputs": [
    {
     "name": "stdout",
     "output_type": "stream",
     "text": [
      "chr1_promoter.csv\n",
      "chr2_promoter.csv\n",
      "chr3_promoter.csv\n",
      "chr4_promoter.csv\n",
      "chr5_promoter.csv\n",
      "chr6_promoter.csv\n",
      "chr7_promoter.csv\n",
      "chr8_promoter.csv\n",
      "chr9_promoter.csv\n",
      "chr10_promoter.csv\n",
      "chr11_promoter.csv\n",
      "chr12_promoter.csv\n",
      "chr13_promoter.csv\n",
      "chr14_promoter.csv\n",
      "chr15_promoter.csv\n",
      "chr16_promoter.csv\n",
      "chr17_promoter.csv\n",
      "chr18_promoter.csv\n",
      "chr19_promoter.csv\n",
      "chr20_promoter.csv\n",
      "chr21_promoter.csv\n",
      "chr22_promoter.csv\n",
      "chrX_promoter.csv\n",
      "chrY_promoter.csv\n",
      "(106030, 7)\n",
      "chr10_non_promoter.csv\n",
      "chr11_non_promoter.csv\n",
      "chr12_non_promoter.csv\n",
      "chr13_non_promoter.csv\n",
      "chr15_non_promoter.csv\n",
      "chr16_non_promoter.csv\n",
      "chr17_non_promoter.csv\n",
      "chr18_non_promoter.csv\n",
      "chr19_non_promoter.csv\n",
      "chr1_non_promoter.csv\n",
      "chr20_non_promoter.csv\n",
      "chr21_non_promoter.csv\n",
      "chr22_non_promoter.csv\n",
      "chr3_non_promoter.csv\n",
      "chr4_non_promoter.csv\n",
      "chr5_non_promoter.csv\n",
      "chr6_non_promoter.csv\n",
      "chr7_non_promoter.csv\n",
      "chr8_non_promoter.csv\n",
      "chr9_non_promoter.csv\n",
      "chrX_non_promoter.csv\n",
      "chrY_non_promoter.csv\n",
      "(8505343, 2)\n"
     ]
    }
   ],
   "source": [
    "promoter_csv = create_csv(promoter_data_path)\n",
    "non_promoter_csv = create_csv(non_promoter_data_path)"
   ]
  },
  {
   "cell_type": "code",
   "execution_count": 8,
   "id": "8680a854-c0c7-4b13-ac76-4d60c5dbb646",
   "metadata": {},
   "outputs": [],
   "source": [
    "promoter_negative = promoter_csv[promoter_csv['strand']=='-']\n",
    "promoter_positive = promoter_csv[promoter_csv['strand']=='+']"
   ]
  },
  {
   "cell_type": "code",
   "execution_count": 9,
   "id": "a4dd0f2a-7f6f-4b74-af61-bcaef46104b1",
   "metadata": {},
   "outputs": [],
   "source": [
    "promoter_negative.head(40).to_csv(data_path+\"promoter_negative.csv\", index=False)\n",
    "promoter_positive.head(40).to_csv(data_path+\"promoter_positive.csv\", index=False)"
   ]
  },
  {
   "cell_type": "code",
   "execution_count": 10,
   "id": "f5e18238-d58d-4bac-a0b9-e563401b1196",
   "metadata": {},
   "outputs": [
    {
     "data": {
      "text/html": [
       "<div>\n",
       "<style scoped>\n",
       "    .dataframe tbody tr th:only-of-type {\n",
       "        vertical-align: middle;\n",
       "    }\n",
       "\n",
       "    .dataframe tbody tr th {\n",
       "        vertical-align: top;\n",
       "    }\n",
       "\n",
       "    .dataframe thead th {\n",
       "        text-align: right;\n",
       "    }\n",
       "</style>\n",
       "<table border=\"1\" class=\"dataframe\">\n",
       "  <thead>\n",
       "    <tr style=\"text-align: right;\">\n",
       "      <th></th>\n",
       "      <th>Unnamed: 0</th>\n",
       "      <th>0</th>\n",
       "    </tr>\n",
       "  </thead>\n",
       "  <tbody>\n",
       "    <tr>\n",
       "      <th>0</th>\n",
       "      <td>0</td>\n",
       "      <td>NNNNNNNNNNNNNNNNNNNNNNNNNNNNNNNNNNNNNNNNNNNNNN...</td>\n",
       "    </tr>\n",
       "    <tr>\n",
       "      <th>1</th>\n",
       "      <td>1</td>\n",
       "      <td>cctaaccctaaccctaaccctaaccctaaccctaaccctaacccta...</td>\n",
       "    </tr>\n",
       "    <tr>\n",
       "      <th>2</th>\n",
       "      <td>2</td>\n",
       "      <td>ctgcaaagaggaagaattttatttaccgtcgctgtggccccgagtt...</td>\n",
       "    </tr>\n",
       "    <tr>\n",
       "      <th>3</th>\n",
       "      <td>3</td>\n",
       "      <td>cgccggcgcaggcgcggaggggcgcgCCCGAACCCGAACCCTAATG...</td>\n",
       "    </tr>\n",
       "    <tr>\n",
       "      <th>4</th>\n",
       "      <td>4</td>\n",
       "      <td>TCCAGCCTTCCCGCTTCAACACCTGGACACATTCTGGAAAGTTTCC...</td>\n",
       "    </tr>\n",
       "  </tbody>\n",
       "</table>\n",
       "</div>"
      ],
      "text/plain": [
       "   Unnamed: 0                                                  0\n",
       "0           0  NNNNNNNNNNNNNNNNNNNNNNNNNNNNNNNNNNNNNNNNNNNNNN...\n",
       "1           1  cctaaccctaaccctaaccctaaccctaaccctaaccctaacccta...\n",
       "2           2  ctgcaaagaggaagaattttatttaccgtcgctgtggccccgagtt...\n",
       "3           3  cgccggcgcaggcgcggaggggcgcgCCCGAACCCGAACCCTAATG...\n",
       "4           4  TCCAGCCTTCCCGCTTCAACACCTGGACACATTCTGGAAAGTTTCC..."
      ]
     },
     "execution_count": 10,
     "metadata": {},
     "output_type": "execute_result"
    }
   ],
   "source": [
    "non_promoter_csv.head()"
   ]
  },
  {
   "cell_type": "code",
   "execution_count": 11,
   "id": "2d9211e0-7ae9-444f-8954-ef5ced8901b6",
   "metadata": {},
   "outputs": [],
   "source": [
    "#non_promoter_csv.head(40).to_csv(data_path+\"/non_promoter_negative.csv\", index= False) "
   ]
  },
  {
   "cell_type": "code",
   "execution_count": 12,
   "id": "b42054ce-6825-409c-b3f6-361597ca9de1",
   "metadata": {},
   "outputs": [
    {
     "data": {
      "text/plain": [
       "Index(['Unnamed: 0', '0'], dtype='object')"
      ]
     },
     "execution_count": 12,
     "metadata": {},
     "output_type": "execute_result"
    }
   ],
   "source": [
    "non_promoter_csv.columns"
   ]
  },
  {
   "cell_type": "code",
   "execution_count": null,
   "id": "42fde376-cd5f-4c19-a9d2-d6fa25add298",
   "metadata": {},
   "outputs": [],
   "source": []
  },
  {
   "cell_type": "code",
   "execution_count": 13,
   "id": "0d953c22-7ce2-476e-99ea-82b3a54b40ca",
   "metadata": {},
   "outputs": [
    {
     "name": "stdout",
     "output_type": "stream",
     "text": [
      "                                            sequence  label\n",
      "0  CGAGAGAAATTTCGGTACTGCGCATGAACCGAGCGTGACGTTGAGG...      1\n",
      "1  ATTTAGACAGTACTCTTCAGGTGATTTCCCTACAGGTGAATAATTT...      1\n",
      "2  GGCACGCCTGATTTAGGGTCCTGGGCAGACCAACCTCCAATCAGGA...      1\n",
      "3  GCTGCTTTGAGAAAGCTGCAGCCTCGGAGTTTCTGCAAGGCCTGAA...      1\n",
      "4  CCAGCGCGGACGGCGGTGCGGACAGGGAGCTGTATTGACCTGCGTT...      1\n"
     ]
    },
    {
     "name": "stderr",
     "output_type": "stream",
     "text": [
      "/home/pdutta/anaconda3/envs/preprocessing/lib/python3.7/site-packages/ipykernel_launcher.py:2: SettingWithCopyWarning: \n",
      "A value is trying to be set on a copy of a slice from a DataFrame.\n",
      "Try using .loc[row_indexer,col_indexer] = value instead\n",
      "\n",
      "See the caveats in the documentation: https://pandas.pydata.org/pandas-docs/stable/user_guide/indexing.html#returning-a-view-versus-a-copy\n",
      "  \n"
     ]
    },
    {
     "name": "stdout",
     "output_type": "stream",
     "text": [
      "                                            sequence  label\n",
      "0  NNNNNNNNNNNNNNNNNNNNNNNNNNNNNNNNNNNNNNNNNNNNNN...      0\n",
      "1  cctaaccctaaccctaaccctaaccctaaccctaaccctaacccta...      0\n",
      "2  ctgcaaagaggaagaattttatttaccgtcgctgtggccccgagtt...      0\n",
      "3  cgccggcgcaggcgcggaggggcgcgCCCGAACCCGAACCCTAATG...      0\n",
      "4  TCCAGCCTTCCCGCTTCAACACCTGGACACATTCTGGAAAGTTTCC...      0\n"
     ]
    }
   ],
   "source": [
    "promoter_sequence = promoter_csv[['sequence']]\n",
    "promoter_sequence['label']= 1\n",
    "print (promoter_sequence.head())\n",
    "non_promoter_sequence = non_promoter_csv[['0']]\n",
    "non_promoter_sequence = non_promoter_sequence.rename(columns={'0': 'sequence'})\n",
    "non_promoter_sequence['label']= 0\n",
    "print (non_promoter_sequence.head())"
   ]
  },
  {
   "cell_type": "code",
   "execution_count": 14,
   "id": "edb912f5-307a-4e12-8d05-b2cd68eeb051",
   "metadata": {},
   "outputs": [],
   "source": [
    "promoter_sequence = promoter_sequence[~promoter_sequence.sequence.str.contains(\"N\")]\n",
    "promoter_sequence['sequence'] = promoter_sequence['sequence'].str.upper()\n",
    "non_promoter_sequence = non_promoter_sequence[~non_promoter_sequence.sequence.str.contains(\"N\")]\n",
    "non_promoter_sequence['sequence'] = non_promoter_sequence['sequence'].str.upper()"
   ]
  },
  {
   "cell_type": "code",
   "execution_count": 15,
   "id": "7a5490ce-3b67-4b54-aab9-3a565258bae8",
   "metadata": {},
   "outputs": [
    {
     "name": "stdout",
     "output_type": "stream",
     "text": [
      "(106027, 2) (8504362, 2)\n"
     ]
    }
   ],
   "source": [
    "print (promoter_sequence.shape, non_promoter_sequence.shape)"
   ]
  },
  {
   "cell_type": "code",
   "execution_count": 16,
   "id": "ce074989-2a57-4202-879f-8f62b1212240",
   "metadata": {},
   "outputs": [
    {
     "data": {
      "text/html": [
       "<div>\n",
       "<style scoped>\n",
       "    .dataframe tbody tr th:only-of-type {\n",
       "        vertical-align: middle;\n",
       "    }\n",
       "\n",
       "    .dataframe tbody tr th {\n",
       "        vertical-align: top;\n",
       "    }\n",
       "\n",
       "    .dataframe thead th {\n",
       "        text-align: right;\n",
       "    }\n",
       "</style>\n",
       "<table border=\"1\" class=\"dataframe\">\n",
       "  <thead>\n",
       "    <tr style=\"text-align: right;\">\n",
       "      <th></th>\n",
       "      <th>sequence</th>\n",
       "      <th>label</th>\n",
       "    </tr>\n",
       "  </thead>\n",
       "  <tbody>\n",
       "    <tr>\n",
       "      <th>1</th>\n",
       "      <td>CCTAACCCTAACCCTAACCCTAACCCTAACCCTAACCCTAACCCTA...</td>\n",
       "      <td>0</td>\n",
       "    </tr>\n",
       "    <tr>\n",
       "      <th>2</th>\n",
       "      <td>CTGCAAAGAGGAAGAATTTTATTTACCGTCGCTGTGGCCCCGAGTT...</td>\n",
       "      <td>0</td>\n",
       "    </tr>\n",
       "    <tr>\n",
       "      <th>3</th>\n",
       "      <td>CGCCGGCGCAGGCGCGGAGGGGCGCGCCCGAACCCGAACCCTAATG...</td>\n",
       "      <td>0</td>\n",
       "    </tr>\n",
       "    <tr>\n",
       "      <th>4</th>\n",
       "      <td>TCCAGCCTTCCCGCTTCAACACCTGGACACATTCTGGAAAGTTTCC...</td>\n",
       "      <td>0</td>\n",
       "    </tr>\n",
       "    <tr>\n",
       "      <th>5</th>\n",
       "      <td>CCACGCCCACTCCCCCAAGCGGGGAAGGAGCTTCGCGCTGCCGCTT...</td>\n",
       "      <td>0</td>\n",
       "    </tr>\n",
       "  </tbody>\n",
       "</table>\n",
       "</div>"
      ],
      "text/plain": [
       "                                            sequence  label\n",
       "1  CCTAACCCTAACCCTAACCCTAACCCTAACCCTAACCCTAACCCTA...      0\n",
       "2  CTGCAAAGAGGAAGAATTTTATTTACCGTCGCTGTGGCCCCGAGTT...      0\n",
       "3  CGCCGGCGCAGGCGCGGAGGGGCGCGCCCGAACCCGAACCCTAATG...      0\n",
       "4  TCCAGCCTTCCCGCTTCAACACCTGGACACATTCTGGAAAGTTTCC...      0\n",
       "5  CCACGCCCACTCCCCCAAGCGGGGAAGGAGCTTCGCGCTGCCGCTT...      0"
      ]
     },
     "execution_count": 16,
     "metadata": {},
     "output_type": "execute_result"
    }
   ],
   "source": [
    "non_promoter_sequence.head()"
   ]
  },
  {
   "cell_type": "code",
   "execution_count": 31,
   "id": "0d602d6b-3de6-4568-b1e8-ff6d50e05592",
   "metadata": {},
   "outputs": [],
   "source": [
    "# non_promoter_sequence_frac = non_promoter_sequence.sample(frac=0.060)\n",
    "# non_promoter_sequence_frac_rest = non_promoter_sequence.loc[~non_promoter_sequence.index.isin(non_promoter_sequence_frac.index)]\n",
    "# #df_rest = df.loc[df.index.difference(df_0_7.index)]\n",
    "# #non_promoter_sequence_frac_rest= non_promoter_sequence.loc[non_promoter_sequence.index.difference(non_promoter_sequence_frac.index)]\n",
    "# #non_promoter_sequence_frac = non_promoter_sequence_frac.reset_index(drop=True)\n",
    "# #non_promoter_sequence_frac_rest = non_promoter_sequence_frac_rest.reset_index(drop=True)\n",
    "# print (non_promoter_sequence_frac.shape, non_promoter_sequence_frac_rest.shape)\n",
    "\n",
    "# # df_percent = df.sample(frac=0.7)\n",
    "# # df_rest = df.loc[df.index.difference(df_0_7.index)]\n",
    "# # df_rest = df.loc[~df.index.isin(df_percent.index)]"
   ]
  },
  {
   "cell_type": "code",
   "execution_count": 30,
   "id": "6b26026f-6d6e-46da-83db-2b4424a7d0f2",
   "metadata": {},
   "outputs": [
    {
     "name": "stdout",
     "output_type": "stream",
     "text": [
      "(7994100, 2) (510262, 2)\n"
     ]
    }
   ],
   "source": [
    "non_promoter_rest, non_promoter_data = train_test_split(non_promoter_sequence, test_size=0.060)\n",
    "non_promoter_rest.reset_index(drop=True, inplace=True)\n",
    "non_promoter_data.reset_index(drop=True, inplace=True)\n",
    "print (non_promoter_rest.shape , non_promoter_data.shape)"
   ]
  },
  {
   "cell_type": "code",
   "execution_count": 32,
   "id": "13792626-510a-4775-a9de-4029b8140e64",
   "metadata": {},
   "outputs": [
    {
     "data": {
      "text/html": [
       "<div>\n",
       "<style scoped>\n",
       "    .dataframe tbody tr th:only-of-type {\n",
       "        vertical-align: middle;\n",
       "    }\n",
       "\n",
       "    .dataframe tbody tr th {\n",
       "        vertical-align: top;\n",
       "    }\n",
       "\n",
       "    .dataframe thead th {\n",
       "        text-align: right;\n",
       "    }\n",
       "</style>\n",
       "<table border=\"1\" class=\"dataframe\">\n",
       "  <thead>\n",
       "    <tr style=\"text-align: right;\">\n",
       "      <th></th>\n",
       "      <th>sequence</th>\n",
       "      <th>label</th>\n",
       "    </tr>\n",
       "  </thead>\n",
       "  <tbody>\n",
       "    <tr>\n",
       "      <th>0</th>\n",
       "      <td>CTGGGGTCTTTGTAACCTTTGCCAGAGCTACACATTTATGGCCCAA...</td>\n",
       "      <td>0</td>\n",
       "    </tr>\n",
       "    <tr>\n",
       "      <th>1</th>\n",
       "      <td>GGCGTGGTGGCATAGGCCGGTTGTCTCAGCTACACGGGAGGCTGAG...</td>\n",
       "      <td>0</td>\n",
       "    </tr>\n",
       "    <tr>\n",
       "      <th>2</th>\n",
       "      <td>AAAATAAAATAATATAAAAATTCATAAAAGTTTATGAATTTACATT...</td>\n",
       "      <td>0</td>\n",
       "    </tr>\n",
       "    <tr>\n",
       "      <th>3</th>\n",
       "      <td>CATTGTTTTACAATGGGGTGTGCTGATGTGAGGTTGCCTTCTGGTG...</td>\n",
       "      <td>0</td>\n",
       "    </tr>\n",
       "    <tr>\n",
       "      <th>4</th>\n",
       "      <td>TAACTTCTTCGGATGTGTGCATTCGACTCACAGAATGGAACATTCC...</td>\n",
       "      <td>0</td>\n",
       "    </tr>\n",
       "  </tbody>\n",
       "</table>\n",
       "</div>"
      ],
      "text/plain": [
       "                                            sequence  label\n",
       "0  CTGGGGTCTTTGTAACCTTTGCCAGAGCTACACATTTATGGCCCAA...      0\n",
       "1  GGCGTGGTGGCATAGGCCGGTTGTCTCAGCTACACGGGAGGCTGAG...      0\n",
       "2  AAAATAAAATAATATAAAAATTCATAAAAGTTTATGAATTTACATT...      0\n",
       "3  CATTGTTTTACAATGGGGTGTGCTGATGTGAGGTTGCCTTCTGGTG...      0\n",
       "4  TAACTTCTTCGGATGTGTGCATTCGACTCACAGAATGGAACATTCC...      0"
      ]
     },
     "execution_count": 32,
     "metadata": {},
     "output_type": "execute_result"
    }
   ],
   "source": [
    "non_promoter_rest.head()"
   ]
  },
  {
   "cell_type": "code",
   "execution_count": 33,
   "id": "1dbb7de3-9fc1-4fe9-a4bf-43368a3a1fca",
   "metadata": {},
   "outputs": [],
   "source": [
    "all_data = pd.concat([promoter_sequence, non_promoter_data], ignore_index=True)\n",
    "train, test = train_test_split(all_data, test_size=0.10)\n",
    "#dev, test= train_test_split(test, test_size=0.5)\n",
    "train.reset_index(drop=True, inplace=True)\n",
    "test.reset_index(drop=True, inplace=True)\n",
    "#dev.reset_index(drop=True, inplace=True)"
   ]
  },
  {
   "cell_type": "code",
   "execution_count": 34,
   "id": "284a6c2c-3bd5-475f-b687-c77ada604637",
   "metadata": {},
   "outputs": [
    {
     "name": "stdout",
     "output_type": "stream",
     "text": [
      "(554660, 2) (61629, 2)\n"
     ]
    }
   ],
   "source": [
    "print (train.shape, test.shape)"
   ]
  },
  {
   "cell_type": "code",
   "execution_count": 35,
   "id": "8eb9d670-79b0-463c-9217-1529ebb41ed1",
   "metadata": {},
   "outputs": [
    {
     "data": {
      "text/html": [
       "<div>\n",
       "<style scoped>\n",
       "    .dataframe tbody tr th:only-of-type {\n",
       "        vertical-align: middle;\n",
       "    }\n",
       "\n",
       "    .dataframe tbody tr th {\n",
       "        vertical-align: top;\n",
       "    }\n",
       "\n",
       "    .dataframe thead th {\n",
       "        text-align: right;\n",
       "    }\n",
       "</style>\n",
       "<table border=\"1\" class=\"dataframe\">\n",
       "  <thead>\n",
       "    <tr style=\"text-align: right;\">\n",
       "      <th></th>\n",
       "      <th>sequence</th>\n",
       "      <th>label</th>\n",
       "    </tr>\n",
       "  </thead>\n",
       "  <tbody>\n",
       "    <tr>\n",
       "      <th>0</th>\n",
       "      <td>TCTATATATATTTATATATATTTATCTATATATATTTATATATATA...</td>\n",
       "      <td>1</td>\n",
       "    </tr>\n",
       "    <tr>\n",
       "      <th>1</th>\n",
       "      <td>GATTACTACAATTCAAGGTGAGATTTGAGTGGGAACACAGCCAATC...</td>\n",
       "      <td>0</td>\n",
       "    </tr>\n",
       "    <tr>\n",
       "      <th>2</th>\n",
       "      <td>ATTAGTACACAAGGTTTAGGTAGTCTCTTTCATAAAAATTTGAAGC...</td>\n",
       "      <td>0</td>\n",
       "    </tr>\n",
       "    <tr>\n",
       "      <th>3</th>\n",
       "      <td>AGAATCATTCCCACAAACTGCGTTGTGATGTGTTCCTTCAACTCAC...</td>\n",
       "      <td>0</td>\n",
       "    </tr>\n",
       "    <tr>\n",
       "      <th>4</th>\n",
       "      <td>AGACGCCAGAGCCCTTCTTCCAGCGCCTGCAGCGAGTTAAGGCCGA...</td>\n",
       "      <td>1</td>\n",
       "    </tr>\n",
       "  </tbody>\n",
       "</table>\n",
       "</div>"
      ],
      "text/plain": [
       "                                            sequence  label\n",
       "0  TCTATATATATTTATATATATTTATCTATATATATTTATATATATA...      1\n",
       "1  GATTACTACAATTCAAGGTGAGATTTGAGTGGGAACACAGCCAATC...      0\n",
       "2  ATTAGTACACAAGGTTTAGGTAGTCTCTTTCATAAAAATTTGAAGC...      0\n",
       "3  AGAATCATTCCCACAAACTGCGTTGTGATGTGTTCCTTCAACTCAC...      0\n",
       "4  AGACGCCAGAGCCCTTCTTCCAGCGCCTGCAGCGAGTTAAGGCCGA...      1"
      ]
     },
     "execution_count": 35,
     "metadata": {},
     "output_type": "execute_result"
    }
   ],
   "source": [
    "train.head()"
   ]
  },
  {
   "cell_type": "code",
   "execution_count": null,
   "id": "9c41e020-98e5-4c13-8d79-e5a9ce989c8f",
   "metadata": {},
   "outputs": [],
   "source": [
    "df2kmer(test, \"dev.tsv\")\n",
    "df2kmer(train, \"train.tsv\")\n",
    "#df2kmer(dev,\"dev.tsv\")"
   ]
  },
  {
   "cell_type": "code",
   "execution_count": null,
   "id": "2a5cb8d2-8319-48e0-bb7c-d49f518d9f89",
   "metadata": {},
   "outputs": [],
   "source": []
  }
 ],
 "metadata": {
  "kernelspec": {
   "display_name": "Python 3 (ipykernel)",
   "language": "python",
   "name": "python3"
  },
  "language_info": {
   "codemirror_mode": {
    "name": "ipython",
    "version": 3
   },
   "file_extension": ".py",
   "mimetype": "text/x-python",
   "name": "python",
   "nbconvert_exporter": "python",
   "pygments_lexer": "ipython3",
   "version": "3.7.11"
  }
 },
 "nbformat": 4,
 "nbformat_minor": 5
}
