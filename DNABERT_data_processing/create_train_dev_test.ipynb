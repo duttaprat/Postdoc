{
 "cells": [
  {
   "cell_type": "code",
   "execution_count": 1,
   "id": "cdd0a298-de34-4915-8bae-192d11cb06ca",
   "metadata": {},
   "outputs": [],
   "source": [
    "import os, tarfile\n",
    "import re\n",
    "import pandas as pd\n",
    "import numpy as np\n",
    "import zipfile, gzip\n",
    "import pandas as pd\n",
    "from sklearn.model_selection import train_test_split\n",
    "from sklearn.utils import shuffle"
   ]
  },
  {
   "cell_type": "code",
   "execution_count": 4,
   "id": "da105da3-29e7-4fce-b9d1-9da69096fdb0",
   "metadata": {},
   "outputs": [],
   "source": [
    "TRAIN_PATH = \"/home/pdutta/Data/Rekha_data/Enhancer/1:5/train.tsv\"\n",
    "TEST_PATH = \"/home/pdutta/Data/Rekha_data/Enhancer/1:5/dev.tsv\""
   ]
  },
  {
   "cell_type": "code",
   "execution_count": 11,
   "id": "8269260f-ccba-4d08-aa85-ce0ec59f9dd2",
   "metadata": {},
   "outputs": [
    {
     "name": "stdout",
     "output_type": "stream",
     "text": [
      "(189232, 2)\n",
      "(21026, 2)\n"
     ]
    }
   ],
   "source": [
    "train_csv  =  pd.read_csv(TRAIN_PATH,  sep='\\t')\n",
    "print(train_csv.shape)\n",
    "test_csv  =  pd.read_csv(TEST_PATH,  sep='\\t')\n",
    "print (test_csv.shape)\n"
   ]
  },
  {
   "cell_type": "code",
   "execution_count": 12,
   "id": "6d21d321-a58c-493f-8d54-0de0fa4a6db5",
   "metadata": {},
   "outputs": [
    {
     "name": "stdout",
     "output_type": "stream",
     "text": [
      "(210258, 2)\n",
      "                                            Sequence  Label\n",
      "0  AAAACA AAACAG AACAGA ACAGAT CAGATG AGATGT GATG...      1\n",
      "1  ATAATG TAATGT AATGTA ATGTAC TGTACA GTACAT TACA...      1\n",
      "2  GATGAG ATGAGT TGAGTG GAGTGT AGTGTA GTGTAT TGTA...      1\n",
      "3  ATATTT TATTTT ATTTTA TTTTAG TTTAGC TTAGCA TAGC...      1\n",
      "4  ACATCC CATCCA ATCCAC TCCACT CCACTT CACTTC ACTT...      1\n",
      "Label\n",
      "0     35043\n",
      "1    175215\n",
      "dtype: int64\n"
     ]
    }
   ],
   "source": [
    "all_data = pd.concat([train_csv, test_csv], ignore_index=True)\n",
    "print(all_data.shape)\n",
    "print (all_data.head())\n",
    "print(all_data.groupby(['Label']).size())"
   ]
  },
  {
   "cell_type": "code",
   "execution_count": 27,
   "id": "86981274-16dc-4444-ae56-df2b19be889c",
   "metadata": {},
   "outputs": [
    {
     "data": {
      "text/html": [
       "<div>\n",
       "<style scoped>\n",
       "    .dataframe tbody tr th:only-of-type {\n",
       "        vertical-align: middle;\n",
       "    }\n",
       "\n",
       "    .dataframe tbody tr th {\n",
       "        vertical-align: top;\n",
       "    }\n",
       "\n",
       "    .dataframe thead th {\n",
       "        text-align: right;\n",
       "    }\n",
       "</style>\n",
       "<table border=\"1\" class=\"dataframe\">\n",
       "  <thead>\n",
       "    <tr style=\"text-align: right;\">\n",
       "      <th></th>\n",
       "      <th>Sequence</th>\n",
       "      <th>Label</th>\n",
       "    </tr>\n",
       "  </thead>\n",
       "  <tbody>\n",
       "    <tr>\n",
       "      <th>0</th>\n",
       "      <td>ATTAAC TTAACT TAACTA AACTAA ACTAAC CTAACA TAAC...</td>\n",
       "      <td>1</td>\n",
       "    </tr>\n",
       "    <tr>\n",
       "      <th>1</th>\n",
       "      <td>TAATTA AATTAC ATTACC TTACCA TACCAA ACCAAT CCAA...</td>\n",
       "      <td>1</td>\n",
       "    </tr>\n",
       "    <tr>\n",
       "      <th>2</th>\n",
       "      <td>TTGGAG TGGAGG GGAGGG GAGGGA AGGGAA GGGAAA GGAA...</td>\n",
       "      <td>1</td>\n",
       "    </tr>\n",
       "    <tr>\n",
       "      <th>3</th>\n",
       "      <td>TAAAAT AAAATT AAATTT AATTTC ATTTCC TTTCCC TTCC...</td>\n",
       "      <td>1</td>\n",
       "    </tr>\n",
       "    <tr>\n",
       "      <th>4</th>\n",
       "      <td>CAGTTG AGTTGG GTTGGT TTGGTG TGGTGC GGTGCT GTGC...</td>\n",
       "      <td>1</td>\n",
       "    </tr>\n",
       "    <tr>\n",
       "      <th>5</th>\n",
       "      <td>TCTTCG CTTCGG TTCGGC TCGGCT CGGCTG GGCTGT GCTG...</td>\n",
       "      <td>1</td>\n",
       "    </tr>\n",
       "    <tr>\n",
       "      <th>6</th>\n",
       "      <td>ACAAAC CAAACG AAACGC AACGCC ACGCCT CGCCTT GCCT...</td>\n",
       "      <td>1</td>\n",
       "    </tr>\n",
       "    <tr>\n",
       "      <th>7</th>\n",
       "      <td>CATTGA ATTGAC TTGACT TGACTC GACTCC ACTCCA CTCC...</td>\n",
       "      <td>0</td>\n",
       "    </tr>\n",
       "    <tr>\n",
       "      <th>8</th>\n",
       "      <td>ATTGGG TTGGGG TGGGGC GGGGCA GGGCAG GGCAGC GCAG...</td>\n",
       "      <td>1</td>\n",
       "    </tr>\n",
       "    <tr>\n",
       "      <th>9</th>\n",
       "      <td>TCAAGA CAAGAC AAGACA AGACAG GACAGC ACAGCT CAGC...</td>\n",
       "      <td>0</td>\n",
       "    </tr>\n",
       "  </tbody>\n",
       "</table>\n",
       "</div>"
      ],
      "text/plain": [
       "                                            Sequence  Label\n",
       "0  ATTAAC TTAACT TAACTA AACTAA ACTAAC CTAACA TAAC...      1\n",
       "1  TAATTA AATTAC ATTACC TTACCA TACCAA ACCAAT CCAA...      1\n",
       "2  TTGGAG TGGAGG GGAGGG GAGGGA AGGGAA GGGAAA GGAA...      1\n",
       "3  TAAAAT AAAATT AAATTT AATTTC ATTTCC TTTCCC TTCC...      1\n",
       "4  CAGTTG AGTTGG GTTGGT TTGGTG TGGTGC GGTGCT GTGC...      1\n",
       "5  TCTTCG CTTCGG TTCGGC TCGGCT CGGCTG GGCTGT GCTG...      1\n",
       "6  ACAAAC CAAACG AAACGC AACGCC ACGCCT CGCCTT GCCT...      1\n",
       "7  CATTGA ATTGAC TTGACT TGACTC GACTCC ACTCCA CTCC...      0\n",
       "8  ATTGGG TTGGGG TGGGGC GGGGCA GGGCAG GGCAGC GCAG...      1\n",
       "9  TCAAGA CAAGAC AAGACA AGACAG GACAGC ACAGCT CAGC...      0"
      ]
     },
     "execution_count": 27,
     "metadata": {},
     "output_type": "execute_result"
    }
   ],
   "source": [
    "all_data = shuffle(all_data).reset_index(drop=True)\n",
    "all_data.head(10)"
   ]
  },
  {
   "cell_type": "markdown",
   "id": "b1e854ea-2556-48e9-a8fe-eb9b508c7d26",
   "metadata": {},
   "source": [
    "# Creating train and testing dataset"
   ]
  },
  {
   "cell_type": "code",
   "execution_count": 28,
   "id": "0fd94088-8542-4675-850a-5850e95cb0ae",
   "metadata": {},
   "outputs": [
    {
     "name": "stdout",
     "output_type": "stream",
     "text": [
      "(142975, 2) (31539, 2) (35744, 2)\n",
      "Label\n",
      "0     23856\n",
      "1    119119\n",
      "dtype: int64 Label\n",
      "0     5256\n",
      "1    26283\n",
      "dtype: int64 Label\n",
      "0     5931\n",
      "1    29813\n",
      "dtype: int64\n"
     ]
    }
   ],
   "source": [
    "train, test = train_test_split(all_data, test_size=0.15)\n",
    "train, val = train_test_split(train, test_size=0.20)\n",
    "print (train.shape, test.shape, val.shape)\n",
    "print(train.groupby(['Label']).size(), test.groupby(['Label']).size() , val.groupby(['Label']).size())"
   ]
  },
  {
   "cell_type": "code",
   "execution_count": 29,
   "id": "3c073550-550d-4db9-a474-8bdf50ab0850",
   "metadata": {},
   "outputs": [],
   "source": [
    "train.to_csv(\"/home/pdutta/Data/Rekha_data/Enhancer/1:5_new/train.tsv\", sep=\"\\t\", index=False)\n",
    "test.to_csv(\"/home/pdutta/Data/Rekha_data/Enhancer/1:5_new/dev.tsv\", sep=\"\\t\", index=False)\n",
    "val.to_csv(\"/home/pdutta/Data/Rekha_data/Enhancer/1:5_new/Evaluation_data/dev.tsv\", sep=\"\\t\", index=False)"
   ]
  },
  {
   "cell_type": "code",
   "execution_count": null,
   "id": "d27f37d9-a1b9-45ab-a2f4-637f59be2453",
   "metadata": {},
   "outputs": [],
   "source": []
  }
 ],
 "metadata": {
  "kernelspec": {
   "display_name": "Python 3 (ipykernel)",
   "language": "python",
   "name": "python3"
  },
  "language_info": {
   "codemirror_mode": {
    "name": "ipython",
    "version": 3
   },
   "file_extension": ".py",
   "mimetype": "text/x-python",
   "name": "python",
   "nbconvert_exporter": "python",
   "pygments_lexer": "ipython3",
   "version": "3.10.4"
  }
 },
 "nbformat": 4,
 "nbformat_minor": 5
}
