{
 "cells": [
  {
   "cell_type": "code",
   "execution_count": 1,
   "id": "ff027c76-60f3-4e1c-ba76-087e57aa5452",
   "metadata": {},
   "outputs": [],
   "source": [
    "import pandas as pd"
   ]
  },
  {
   "cell_type": "code",
   "execution_count": 18,
   "id": "d24773a5-a8c2-4fbc-95a1-c3919bd400f3",
   "metadata": {},
   "outputs": [
    {
     "data": {
      "text/html": [
       "<div>\n",
       "<style scoped>\n",
       "    .dataframe tbody tr th:only-of-type {\n",
       "        vertical-align: middle;\n",
       "    }\n",
       "\n",
       "    .dataframe tbody tr th {\n",
       "        vertical-align: top;\n",
       "    }\n",
       "\n",
       "    .dataframe thead th {\n",
       "        text-align: right;\n",
       "    }\n",
       "</style>\n",
       "<table border=\"1\" class=\"dataframe\">\n",
       "  <thead>\n",
       "    <tr style=\"text-align: right;\">\n",
       "      <th></th>\n",
       "      <th>Sequence</th>\n",
       "      <th>Label</th>\n",
       "    </tr>\n",
       "  </thead>\n",
       "  <tbody>\n",
       "    <tr>\n",
       "      <th>0</th>\n",
       "      <td>ATGACT TGACTT GACTTC ACTTCC CTTCCT TTCCTA TCCT...</td>\n",
       "      <td>0</td>\n",
       "    </tr>\n",
       "    <tr>\n",
       "      <th>1</th>\n",
       "      <td>GCCTCC CCTCCC CTCCCG TCCCGG CCCGGC CCGGCC CGGC...</td>\n",
       "      <td>1</td>\n",
       "    </tr>\n",
       "    <tr>\n",
       "      <th>2</th>\n",
       "      <td>AAGACG AGACGC GACGCC ACGCCG CGCCGA GCCGAA CCGA...</td>\n",
       "      <td>1</td>\n",
       "    </tr>\n",
       "    <tr>\n",
       "      <th>3</th>\n",
       "      <td>CCCACC CCACCT CACCTC ACCTCC CCTCCC CTCCCA TCCC...</td>\n",
       "      <td>1</td>\n",
       "    </tr>\n",
       "    <tr>\n",
       "      <th>4</th>\n",
       "      <td>GGGTAG GGTAGA GTAGAA TAGAAG AGAAGA GAAGAA AAGA...</td>\n",
       "      <td>1</td>\n",
       "    </tr>\n",
       "    <tr>\n",
       "      <th>...</th>\n",
       "      <td>...</td>\n",
       "      <td>...</td>\n",
       "    </tr>\n",
       "    <tr>\n",
       "      <th>354</th>\n",
       "      <td>GCAGGC CAGGCA AGGCAC GGCACT GCACTT CACTTC ACTT...</td>\n",
       "      <td>1</td>\n",
       "    </tr>\n",
       "    <tr>\n",
       "      <th>355</th>\n",
       "      <td>TGCAGG GCAGGT CAGGTA AGGTAA GGTAAA GTAAAG TAAA...</td>\n",
       "      <td>0</td>\n",
       "    </tr>\n",
       "    <tr>\n",
       "      <th>356</th>\n",
       "      <td>ATCCTT TCCTTT CCTTTT CTTTTC TTTTCA TTTCAT TTCA...</td>\n",
       "      <td>1</td>\n",
       "    </tr>\n",
       "    <tr>\n",
       "      <th>357</th>\n",
       "      <td>GTTACT TTACTC TACTCA ACTCAA CTCAAA TCAAAG CAAA...</td>\n",
       "      <td>0</td>\n",
       "    </tr>\n",
       "    <tr>\n",
       "      <th>358</th>\n",
       "      <td>AATAAC ATAACA TAACAA AACAAA ACAAAT CAAATT AAAT...</td>\n",
       "      <td>0</td>\n",
       "    </tr>\n",
       "  </tbody>\n",
       "</table>\n",
       "<p>359 rows × 2 columns</p>\n",
       "</div>"
      ],
      "text/plain": [
       "                                              Sequence  Label\n",
       "0    ATGACT TGACTT GACTTC ACTTCC CTTCCT TTCCTA TCCT...      0\n",
       "1    GCCTCC CCTCCC CTCCCG TCCCGG CCCGGC CCGGCC CGGC...      1\n",
       "2    AAGACG AGACGC GACGCC ACGCCG CGCCGA GCCGAA CCGA...      1\n",
       "3    CCCACC CCACCT CACCTC ACCTCC CCTCCC CTCCCA TCCC...      1\n",
       "4    GGGTAG GGTAGA GTAGAA TAGAAG AGAAGA GAAGAA AAGA...      1\n",
       "..                                                 ...    ...\n",
       "354  GCAGGC CAGGCA AGGCAC GGCACT GCACTT CACTTC ACTT...      1\n",
       "355  TGCAGG GCAGGT CAGGTA AGGTAA GGTAAA GTAAAG TAAA...      0\n",
       "356  ATCCTT TCCTTT CCTTTT CTTTTC TTTTCA TTTCAT TTCA...      1\n",
       "357  GTTACT TTACTC TACTCA ACTCAA CTCAAA TCAAAG CAAA...      0\n",
       "358  AATAAC ATAACA TAACAA AACAAA ACAAAT CAAATT AAAT...      0\n",
       "\n",
       "[359 rows x 2 columns]"
      ]
     },
     "execution_count": 18,
     "metadata": {},
     "output_type": "execute_result"
    }
   ],
   "source": [
    "df = pd.read_csv('/data/projects/Tissue_specific_data/TissueEnhanced/DNABERT_Finetuned_Data/brain/1_1/dev.tsv', sep='\\t')\n",
    "df"
   ]
  },
  {
   "cell_type": "code",
   "execution_count": 19,
   "id": "09c21cdc-b5bd-4eba-9325-bd3ff65de607",
   "metadata": {},
   "outputs": [
    {
     "data": {
      "text/plain": [
       "2495"
      ]
     },
     "execution_count": 19,
     "metadata": {},
     "output_type": "execute_result"
    }
   ],
   "source": [
    "len(df['Sequence'][1].split(' '))"
   ]
  },
  {
   "cell_type": "code",
   "execution_count": 20,
   "id": "4475eec9-977f-4759-a89c-b1e0ab8592ce",
   "metadata": {},
   "outputs": [
    {
     "data": {
      "text/plain": [
       "2495"
      ]
     },
     "execution_count": 20,
     "metadata": {},
     "output_type": "execute_result"
    }
   ],
   "source": [
    "len(df['Sequence'][1].split(' '))"
   ]
  },
  {
   "cell_type": "code",
   "execution_count": 30,
   "id": "fb290346-067b-4553-9568-ccd6454079bd",
   "metadata": {},
   "outputs": [],
   "source": [
    "# Function to split sequences into chunks of a specified size\n",
    "def split_sequence(row, chunk_size=20):\n",
    "    kmers = row['Sequence'].split()\n",
    "    n = len(kmers)\n",
    "    \n",
    "    chunks = [' '.join(kmers[i:i+chunk_size]) for i in range(0, n, chunk_size)]\n",
    "    return chunks"
   ]
  },
  {
   "cell_type": "code",
   "execution_count": 31,
   "id": "2026bedd-8f80-467d-b3d2-6e5257c3a767",
   "metadata": {},
   "outputs": [],
   "source": [
    "# Apply the split_sequence function to the dataframe\n",
    "split_data = []\n",
    "for _, row in df.iterrows():\n",
    "    chunks = split_sequence(row)\n",
    "    for chunk in chunks:\n",
    "        split_data.append({'Sequence': chunk, 'Label': row['Label']})"
   ]
  },
  {
   "cell_type": "code",
   "execution_count": 32,
   "id": "f8fcbd54-0943-4b9f-a56c-ec41717981a3",
   "metadata": {},
   "outputs": [],
   "source": [
    "# Convert the list of dictionaries into a dataframe\n",
    "new_df = pd.DataFrame(split_data)"
   ]
  },
  {
   "cell_type": "code",
   "execution_count": 33,
   "id": "f411fbf4-411e-4e5f-af32-d3abb6101b40",
   "metadata": {},
   "outputs": [
    {
     "data": {
      "text/html": [
       "<div>\n",
       "<style scoped>\n",
       "    .dataframe tbody tr th:only-of-type {\n",
       "        vertical-align: middle;\n",
       "    }\n",
       "\n",
       "    .dataframe tbody tr th {\n",
       "        vertical-align: top;\n",
       "    }\n",
       "\n",
       "    .dataframe thead th {\n",
       "        text-align: right;\n",
       "    }\n",
       "</style>\n",
       "<table border=\"1\" class=\"dataframe\">\n",
       "  <thead>\n",
       "    <tr style=\"text-align: right;\">\n",
       "      <th></th>\n",
       "      <th>Sequence</th>\n",
       "      <th>Label</th>\n",
       "    </tr>\n",
       "  </thead>\n",
       "  <tbody>\n",
       "    <tr>\n",
       "      <th>0</th>\n",
       "      <td>ATGACT TGACTT GACTTC ACTTCC CTTCCT TTCCTA TCCT...</td>\n",
       "      <td>0</td>\n",
       "    </tr>\n",
       "    <tr>\n",
       "      <th>1</th>\n",
       "      <td>AACCCC ACCCCA CCCCAA CCCAAG CCAAGG CAAGGG AAGG...</td>\n",
       "      <td>0</td>\n",
       "    </tr>\n",
       "    <tr>\n",
       "      <th>2</th>\n",
       "      <td>CACAAA ACAAAA CAAAAC AAAACC AAACCT AACCTC ACCT...</td>\n",
       "      <td>0</td>\n",
       "    </tr>\n",
       "    <tr>\n",
       "      <th>3</th>\n",
       "      <td>CCCCAG CCCAGT CCAGTC CAGTCT AGTCTC GTCTCC TCTC...</td>\n",
       "      <td>0</td>\n",
       "    </tr>\n",
       "    <tr>\n",
       "      <th>4</th>\n",
       "      <td>TTAGAT TAGATG AGATGA GATGAG ATGAGG TGAGGA GAGG...</td>\n",
       "      <td>0</td>\n",
       "    </tr>\n",
       "    <tr>\n",
       "      <th>...</th>\n",
       "      <td>...</td>\n",
       "      <td>...</td>\n",
       "    </tr>\n",
       "    <tr>\n",
       "      <th>44870</th>\n",
       "      <td>TTTTGC TTTGCA TTGCAC TGCACC GCACCC CACCCT ACCC...</td>\n",
       "      <td>0</td>\n",
       "    </tr>\n",
       "    <tr>\n",
       "      <th>44871</th>\n",
       "      <td>AGTGGT GTGGTA TGGTAT GGTATT GTATTG TATTGG ATTG...</td>\n",
       "      <td>0</td>\n",
       "    </tr>\n",
       "    <tr>\n",
       "      <th>44872</th>\n",
       "      <td>TTGTGT TGTGTC GTGTCT TGTCTT GTCTTT TCTTTG CTTT...</td>\n",
       "      <td>0</td>\n",
       "    </tr>\n",
       "    <tr>\n",
       "      <th>44873</th>\n",
       "      <td>AAAGAG AAGAGA AGAGAC GAGACC AGACCT GACCTA ACCT...</td>\n",
       "      <td>0</td>\n",
       "    </tr>\n",
       "    <tr>\n",
       "      <th>44874</th>\n",
       "      <td>CTCATT TCATTC CATTCC ATTCCA TTCCAC TCCACC CCAC...</td>\n",
       "      <td>0</td>\n",
       "    </tr>\n",
       "  </tbody>\n",
       "</table>\n",
       "<p>44875 rows × 2 columns</p>\n",
       "</div>"
      ],
      "text/plain": [
       "                                                Sequence  Label\n",
       "0      ATGACT TGACTT GACTTC ACTTCC CTTCCT TTCCTA TCCT...      0\n",
       "1      AACCCC ACCCCA CCCCAA CCCAAG CCAAGG CAAGGG AAGG...      0\n",
       "2      CACAAA ACAAAA CAAAAC AAAACC AAACCT AACCTC ACCT...      0\n",
       "3      CCCCAG CCCAGT CCAGTC CAGTCT AGTCTC GTCTCC TCTC...      0\n",
       "4      TTAGAT TAGATG AGATGA GATGAG ATGAGG TGAGGA GAGG...      0\n",
       "...                                                  ...    ...\n",
       "44870  TTTTGC TTTGCA TTGCAC TGCACC GCACCC CACCCT ACCC...      0\n",
       "44871  AGTGGT GTGGTA TGGTAT GGTATT GTATTG TATTGG ATTG...      0\n",
       "44872  TTGTGT TGTGTC GTGTCT TGTCTT GTCTTT TCTTTG CTTT...      0\n",
       "44873  AAAGAG AAGAGA AGAGAC GAGACC AGACCT GACCTA ACCT...      0\n",
       "44874  CTCATT TCATTC CATTCC ATTCCA TTCCAC TCCACC CCAC...      0\n",
       "\n",
       "[44875 rows x 2 columns]"
      ]
     },
     "execution_count": 33,
     "metadata": {},
     "output_type": "execute_result"
    }
   ],
   "source": [
    "new_df"
   ]
  },
  {
   "cell_type": "code",
   "execution_count": 34,
   "id": "8ab809a5-6530-410c-b561-9de3fdc0f114",
   "metadata": {},
   "outputs": [],
   "source": [
    "new_df.to_csv(\"/data/projects/Tissue_specific_data/TissueEnhanced/DNABERT_Finetuned_Data/brain/1_1/Visualization/dev.tsv\", sep=\"\\t\", index=False)"
   ]
  },
  {
   "cell_type": "code",
   "execution_count": null,
   "id": "7a725dfd-4cd8-4a62-bd9a-c494c029ba94",
   "metadata": {},
   "outputs": [],
   "source": []
  }
 ],
 "metadata": {
  "kernelspec": {
   "display_name": "Python 3 (ipykernel)",
   "language": "python",
   "name": "python3"
  },
  "language_info": {
   "codemirror_mode": {
    "name": "ipython",
    "version": 3
   },
   "file_extension": ".py",
   "mimetype": "text/x-python",
   "name": "python",
   "nbconvert_exporter": "python",
   "pygments_lexer": "ipython3",
   "version": "3.10.11"
  }
 },
 "nbformat": 4,
 "nbformat_minor": 5
}
