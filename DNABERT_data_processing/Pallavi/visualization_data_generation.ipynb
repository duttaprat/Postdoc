{
 "cells": [
  {
   "cell_type": "code",
   "execution_count": 1,
   "id": "ff027c76-60f3-4e1c-ba76-087e57aa5452",
   "metadata": {},
   "outputs": [],
   "source": [
    "import pandas as pd"
   ]
  },
  {
   "cell_type": "code",
   "execution_count": 2,
   "id": "d24773a5-a8c2-4fbc-95a1-c3919bd400f3",
   "metadata": {},
   "outputs": [
    {
     "data": {
      "text/html": [
       "<div>\n",
       "<style scoped>\n",
       "    .dataframe tbody tr th:only-of-type {\n",
       "        vertical-align: middle;\n",
       "    }\n",
       "\n",
       "    .dataframe tbody tr th {\n",
       "        vertical-align: top;\n",
       "    }\n",
       "\n",
       "    .dataframe thead th {\n",
       "        text-align: right;\n",
       "    }\n",
       "</style>\n",
       "<table border=\"1\" class=\"dataframe\">\n",
       "  <thead>\n",
       "    <tr style=\"text-align: right;\">\n",
       "      <th></th>\n",
       "      <th>Sequence</th>\n",
       "      <th>Label</th>\n",
       "    </tr>\n",
       "  </thead>\n",
       "  <tbody>\n",
       "    <tr>\n",
       "      <th>0</th>\n",
       "      <td>ATGACT TGACTT GACTTC ACTTCC CTTCCT TTCCTA TCCT...</td>\n",
       "      <td>0</td>\n",
       "    </tr>\n",
       "    <tr>\n",
       "      <th>1</th>\n",
       "      <td>GCCTCC CCTCCC CTCCCG TCCCGG CCCGGC CCGGCC CGGC...</td>\n",
       "      <td>1</td>\n",
       "    </tr>\n",
       "    <tr>\n",
       "      <th>2</th>\n",
       "      <td>AAGACG AGACGC GACGCC ACGCCG CGCCGA GCCGAA CCGA...</td>\n",
       "      <td>1</td>\n",
       "    </tr>\n",
       "    <tr>\n",
       "      <th>3</th>\n",
       "      <td>CCCACC CCACCT CACCTC ACCTCC CCTCCC CTCCCA TCCC...</td>\n",
       "      <td>1</td>\n",
       "    </tr>\n",
       "    <tr>\n",
       "      <th>4</th>\n",
       "      <td>GGGTAG GGTAGA GTAGAA TAGAAG AGAAGA GAAGAA AAGA...</td>\n",
       "      <td>1</td>\n",
       "    </tr>\n",
       "    <tr>\n",
       "      <th>...</th>\n",
       "      <td>...</td>\n",
       "      <td>...</td>\n",
       "    </tr>\n",
       "    <tr>\n",
       "      <th>354</th>\n",
       "      <td>GCAGGC CAGGCA AGGCAC GGCACT GCACTT CACTTC ACTT...</td>\n",
       "      <td>1</td>\n",
       "    </tr>\n",
       "    <tr>\n",
       "      <th>355</th>\n",
       "      <td>TGCAGG GCAGGT CAGGTA AGGTAA GGTAAA GTAAAG TAAA...</td>\n",
       "      <td>0</td>\n",
       "    </tr>\n",
       "    <tr>\n",
       "      <th>356</th>\n",
       "      <td>ATCCTT TCCTTT CCTTTT CTTTTC TTTTCA TTTCAT TTCA...</td>\n",
       "      <td>1</td>\n",
       "    </tr>\n",
       "    <tr>\n",
       "      <th>357</th>\n",
       "      <td>GTTACT TTACTC TACTCA ACTCAA CTCAAA TCAAAG CAAA...</td>\n",
       "      <td>0</td>\n",
       "    </tr>\n",
       "    <tr>\n",
       "      <th>358</th>\n",
       "      <td>AATAAC ATAACA TAACAA AACAAA ACAAAT CAAATT AAAT...</td>\n",
       "      <td>0</td>\n",
       "    </tr>\n",
       "  </tbody>\n",
       "</table>\n",
       "<p>359 rows × 2 columns</p>\n",
       "</div>"
      ],
      "text/plain": [
       "                                              Sequence  Label\n",
       "0    ATGACT TGACTT GACTTC ACTTCC CTTCCT TTCCTA TCCT...      0\n",
       "1    GCCTCC CCTCCC CTCCCG TCCCGG CCCGGC CCGGCC CGGC...      1\n",
       "2    AAGACG AGACGC GACGCC ACGCCG CGCCGA GCCGAA CCGA...      1\n",
       "3    CCCACC CCACCT CACCTC ACCTCC CCTCCC CTCCCA TCCC...      1\n",
       "4    GGGTAG GGTAGA GTAGAA TAGAAG AGAAGA GAAGAA AAGA...      1\n",
       "..                                                 ...    ...\n",
       "354  GCAGGC CAGGCA AGGCAC GGCACT GCACTT CACTTC ACTT...      1\n",
       "355  TGCAGG GCAGGT CAGGTA AGGTAA GGTAAA GTAAAG TAAA...      0\n",
       "356  ATCCTT TCCTTT CCTTTT CTTTTC TTTTCA TTTCAT TTCA...      1\n",
       "357  GTTACT TTACTC TACTCA ACTCAA CTCAAA TCAAAG CAAA...      0\n",
       "358  AATAAC ATAACA TAACAA AACAAA ACAAAT CAAATT AAAT...      0\n",
       "\n",
       "[359 rows x 2 columns]"
      ]
     },
     "execution_count": 2,
     "metadata": {},
     "output_type": "execute_result"
    }
   ],
   "source": [
    "df = pd.read_csv('/data/projects/Tissue_specific_data/TissueEnhanced/DNABERT_Finetuned_Data/brain/1_1/dev.tsv', sep='\\t')\n",
    "df"
   ]
  },
  {
   "cell_type": "code",
   "execution_count": 3,
   "id": "09c21cdc-b5bd-4eba-9325-bd3ff65de607",
   "metadata": {},
   "outputs": [
    {
     "data": {
      "text/plain": [
       "2495"
      ]
     },
     "execution_count": 3,
     "metadata": {},
     "output_type": "execute_result"
    }
   ],
   "source": [
    "len(df['Sequence'][1].split(' '))"
   ]
  },
  {
   "cell_type": "code",
   "execution_count": 20,
   "id": "4475eec9-977f-4759-a89c-b1e0ab8592ce",
   "metadata": {},
   "outputs": [
    {
     "data": {
      "text/plain": [
       "2495"
      ]
     },
     "execution_count": 20,
     "metadata": {},
     "output_type": "execute_result"
    }
   ],
   "source": [
    "len(df['Sequence'][1].split(' '))"
   ]
  },
  {
   "cell_type": "code",
   "execution_count": 4,
   "id": "fb290346-067b-4553-9568-ccd6454079bd",
   "metadata": {},
   "outputs": [],
   "source": [
    "# Function to split sequences into chunks of a specified size\n",
    "def split_sequence(row, chunk_size=512):\n",
    "    kmers = row['Sequence'].split()\n",
    "    n = len(kmers)\n",
    "    \n",
    "    chunks = [' '.join(kmers[i:i+chunk_size]) for i in range(0, n, chunk_size)]\n",
    "    return chunks"
   ]
  },
  {
   "cell_type": "code",
   "execution_count": 5,
   "id": "2026bedd-8f80-467d-b3d2-6e5257c3a767",
   "metadata": {},
   "outputs": [],
   "source": [
    "# Apply the split_sequence function to the dataframe\n",
    "split_data = []\n",
    "for _, row in df.iterrows():\n",
    "    chunks = split_sequence(row)\n",
    "    for chunk in chunks:\n",
    "        split_data.append({'Sequence': chunk, 'Label': row['Label']})"
   ]
  },
  {
   "cell_type": "code",
   "execution_count": 6,
   "id": "f8fcbd54-0943-4b9f-a56c-ec41717981a3",
   "metadata": {},
   "outputs": [],
   "source": [
    "# Convert the list of dictionaries into a dataframe\n",
    "new_df = pd.DataFrame(split_data)"
   ]
  },
  {
   "cell_type": "code",
   "execution_count": 7,
   "id": "f411fbf4-411e-4e5f-af32-d3abb6101b40",
   "metadata": {},
   "outputs": [
    {
     "data": {
      "text/html": [
       "<div>\n",
       "<style scoped>\n",
       "    .dataframe tbody tr th:only-of-type {\n",
       "        vertical-align: middle;\n",
       "    }\n",
       "\n",
       "    .dataframe tbody tr th {\n",
       "        vertical-align: top;\n",
       "    }\n",
       "\n",
       "    .dataframe thead th {\n",
       "        text-align: right;\n",
       "    }\n",
       "</style>\n",
       "<table border=\"1\" class=\"dataframe\">\n",
       "  <thead>\n",
       "    <tr style=\"text-align: right;\">\n",
       "      <th></th>\n",
       "      <th>Sequence</th>\n",
       "      <th>Label</th>\n",
       "    </tr>\n",
       "  </thead>\n",
       "  <tbody>\n",
       "    <tr>\n",
       "      <th>0</th>\n",
       "      <td>ATGACT TGACTT GACTTC ACTTCC CTTCCT TTCCTA TCCT...</td>\n",
       "      <td>0</td>\n",
       "    </tr>\n",
       "    <tr>\n",
       "      <th>1</th>\n",
       "      <td>CCCCAG CCCAGA CCAGAC CAGACG AGACGC GACGCC ACGC...</td>\n",
       "      <td>0</td>\n",
       "    </tr>\n",
       "    <tr>\n",
       "      <th>2</th>\n",
       "      <td>GGGCCG GGCCGA GCCGAG CCGAGG CGAGGG GAGGGC AGGG...</td>\n",
       "      <td>0</td>\n",
       "    </tr>\n",
       "    <tr>\n",
       "      <th>3</th>\n",
       "      <td>GTATGA TATGAT ATGATC TGATCA GATCAG ATCAGA TCAG...</td>\n",
       "      <td>0</td>\n",
       "    </tr>\n",
       "    <tr>\n",
       "      <th>4</th>\n",
       "      <td>TGAAGC GAAGCC AAGCCC AGCCCA GCCCAG CCCAGA CCAG...</td>\n",
       "      <td>0</td>\n",
       "    </tr>\n",
       "    <tr>\n",
       "      <th>...</th>\n",
       "      <td>...</td>\n",
       "      <td>...</td>\n",
       "    </tr>\n",
       "    <tr>\n",
       "      <th>1790</th>\n",
       "      <td>AATAAC ATAACA TAACAA AACAAA ACAAAT CAAATT AAAT...</td>\n",
       "      <td>0</td>\n",
       "    </tr>\n",
       "    <tr>\n",
       "      <th>1791</th>\n",
       "      <td>CTCTGG TCTGGC CTGGCA TGGCAA GGCAAC GCAACT CAAC...</td>\n",
       "      <td>0</td>\n",
       "    </tr>\n",
       "    <tr>\n",
       "      <th>1792</th>\n",
       "      <td>CGCGAG GCGAGT CGAGTG GAGTGG AGTGGG GTGGGG TGGG...</td>\n",
       "      <td>0</td>\n",
       "    </tr>\n",
       "    <tr>\n",
       "      <th>1793</th>\n",
       "      <td>CTATCG TATCGT ATCGTA TCGTAA CGTAAA GTAAAC TAAA...</td>\n",
       "      <td>0</td>\n",
       "    </tr>\n",
       "    <tr>\n",
       "      <th>1794</th>\n",
       "      <td>CAACTT AACTTC ACTTCT CTTCTG TTCTGT TCTGTA CTGT...</td>\n",
       "      <td>0</td>\n",
       "    </tr>\n",
       "  </tbody>\n",
       "</table>\n",
       "<p>1795 rows × 2 columns</p>\n",
       "</div>"
      ],
      "text/plain": [
       "                                               Sequence  Label\n",
       "0     ATGACT TGACTT GACTTC ACTTCC CTTCCT TTCCTA TCCT...      0\n",
       "1     CCCCAG CCCAGA CCAGAC CAGACG AGACGC GACGCC ACGC...      0\n",
       "2     GGGCCG GGCCGA GCCGAG CCGAGG CGAGGG GAGGGC AGGG...      0\n",
       "3     GTATGA TATGAT ATGATC TGATCA GATCAG ATCAGA TCAG...      0\n",
       "4     TGAAGC GAAGCC AAGCCC AGCCCA GCCCAG CCCAGA CCAG...      0\n",
       "...                                                 ...    ...\n",
       "1790  AATAAC ATAACA TAACAA AACAAA ACAAAT CAAATT AAAT...      0\n",
       "1791  CTCTGG TCTGGC CTGGCA TGGCAA GGCAAC GCAACT CAAC...      0\n",
       "1792  CGCGAG GCGAGT CGAGTG GAGTGG AGTGGG GTGGGG TGGG...      0\n",
       "1793  CTATCG TATCGT ATCGTA TCGTAA CGTAAA GTAAAC TAAA...      0\n",
       "1794  CAACTT AACTTC ACTTCT CTTCTG TTCTGT TCTGTA CTGT...      0\n",
       "\n",
       "[1795 rows x 2 columns]"
      ]
     },
     "execution_count": 7,
     "metadata": {},
     "output_type": "execute_result"
    }
   ],
   "source": [
    "new_df"
   ]
  },
  {
   "cell_type": "code",
   "execution_count": 8,
   "id": "8ab809a5-6530-410c-b561-9de3fdc0f114",
   "metadata": {},
   "outputs": [],
   "source": [
    "new_df.to_csv(\"/data/projects/Tissue_specific_data/TissueEnhanced/DNABERT_Finetuned_Data/brain/1_1/Visualization/dev.tsv\", sep=\"\\t\", index=False)"
   ]
  },
  {
   "cell_type": "code",
   "execution_count": null,
   "id": "7a725dfd-4cd8-4a62-bd9a-c494c029ba94",
   "metadata": {},
   "outputs": [],
   "source": []
  }
 ],
 "metadata": {
  "kernelspec": {
   "display_name": "Python 3 (ipykernel)",
   "language": "python",
   "name": "python3"
  },
  "language_info": {
   "codemirror_mode": {
    "name": "ipython",
    "version": 3
   },
   "file_extension": ".py",
   "mimetype": "text/x-python",
   "name": "python",
   "nbconvert_exporter": "python",
   "pygments_lexer": "ipython3",
   "version": "3.10.11"
  }
 },
 "nbformat": 4,
 "nbformat_minor": 5
}
