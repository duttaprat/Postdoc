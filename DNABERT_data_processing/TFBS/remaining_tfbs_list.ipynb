{
 "cells": [
  {
   "cell_type": "code",
   "execution_count": 1,
   "id": "42cfb08d-6c54-41c3-99fa-05e01f7d170a",
   "metadata": {},
   "outputs": [],
   "source": [
    "import os\n",
    "import pandas as pd\n",
    "from sklearn.model_selection import train_test_split\n",
    "from sklearn.utils import shuffle"
   ]
  },
  {
   "cell_type": "code",
   "execution_count": 2,
   "id": "c80aed44-a3c7-4277-999c-f51369d5c1b4",
   "metadata": {},
   "outputs": [],
   "source": [
    "# Load the important TFBS files list\n",
    "with open('important_tfbs.txt', 'r') as file:\n",
    "    important_tfbs= file.read().splitlines()"
   ]
  },
  {
   "cell_type": "code",
   "execution_count": 3,
   "id": "d0bad966-3c2e-4b42-b00e-baf961a8e9c9",
   "metadata": {},
   "outputs": [
    {
     "data": {
      "text/plain": [
       "['FOS',\n",
       " 'H2AFZ',\n",
       " 'H2AK5ac',\n",
       " 'H2BK12ac',\n",
       " 'H2BK5ac',\n",
       " 'H3F3A',\n",
       " 'H3K14ac',\n",
       " 'H3K27ac',\n",
       " 'H3K27me3',\n",
       " 'H3K36me3',\n",
       " 'H3K4me1',\n",
       " 'H3K4me2',\n",
       " 'H3K79me1',\n",
       " 'H3K79me2',\n",
       " 'H3K9ac',\n",
       " 'H3K9me1',\n",
       " 'H3K9me3',\n",
       " 'H4K20me1',\n",
       " 'H4K5ac',\n",
       " 'H4K8ac',\n",
       " 'IKZF1',\n",
       " 'RAD21',\n",
       " 'RBM22',\n",
       " 'RUNX3',\n",
       " 'TRIM22',\n",
       " 'ZBTB33',\n",
       " 'ZNF143',\n",
       " 'NFE2',\n",
       " 'PRDM1',\n",
       " 'SCRT2',\n",
       " 'ZFHX2',\n",
       " 'ZNF121',\n",
       " 'ZNF366',\n",
       " 'ZNF770']"
      ]
     },
     "execution_count": 3,
     "metadata": {},
     "output_type": "execute_result"
    }
   ],
   "source": [
    "important_tfbs"
   ]
  },
  {
   "cell_type": "code",
   "execution_count": 4,
   "id": "ffdfb2df-8a78-47d6-ba30-df298d86e13b",
   "metadata": {},
   "outputs": [],
   "source": [
    "folder_path= \"/home/shared/rdavuluri/TFBS_Pallavi/ramana.cewit/1_1_pos_neg\"\n",
    "# List all subdirectories in the base path, excluding .ipynb_checkpoints\n",
    "all_tfbs = [f.name for f in os.scandir(folder_path) if f.is_dir() and f.name != '.ipynb_checkpoints']"
   ]
  },
  {
   "cell_type": "code",
   "execution_count": 6,
   "id": "2112248d-0d45-4fa4-9b6e-8ab94f1b60ba",
   "metadata": {},
   "outputs": [
    {
     "data": {
      "text/plain": [
       "701"
      ]
     },
     "execution_count": 6,
     "metadata": {},
     "output_type": "execute_result"
    }
   ],
   "source": [
    "len(all_tfbs)"
   ]
  },
  {
   "cell_type": "code",
   "execution_count": 7,
   "id": "78d75c21-8648-47c3-be73-8a61766d2755",
   "metadata": {},
   "outputs": [
    {
     "data": {
      "text/plain": [
       "34"
      ]
     },
     "execution_count": 7,
     "metadata": {},
     "output_type": "execute_result"
    }
   ],
   "source": [
    "len(important_tfbs)"
   ]
  },
  {
   "cell_type": "code",
   "execution_count": 10,
   "id": "38b1acc1-3feb-40c2-8129-9b13e4ef4b0d",
   "metadata": {},
   "outputs": [
    {
     "data": {
      "text/plain": [
       "667"
      ]
     },
     "execution_count": 10,
     "metadata": {},
     "output_type": "execute_result"
    }
   ],
   "source": [
    "remaining_tfbs_list =  [item for item in all_tfbs if item not in important_tfbs]\n",
    "len(remaining_tfbs_list)"
   ]
  },
  {
   "cell_type": "code",
   "execution_count": 11,
   "id": "8c541e58-3a8c-4c84-8cc3-9715ae529918",
   "metadata": {},
   "outputs": [],
   "source": [
    "def save_chunks_in_files(elements_list, chunk_size, output_dir, base_filename):\n",
    "    \n",
    "    # Ensure the directory for output exists\n",
    "    if not os.path.exists(output_dir):\n",
    "        os.makedirs(output_dir)\n",
    "    \n",
    "    # Calculate number of chunks\n",
    "    num_chunks = (len(elements_list) + chunk_size - 1) // chunk_size\n",
    "    \n",
    "    # Write each chunk to a separate file\n",
    "    for i in range(num_chunks):\n",
    "        start_index = i * chunk_size\n",
    "        end_index = min(start_index + chunk_size, len(elements_list))\n",
    "        chunk = elements_list[start_index:end_index]\n",
    "        \n",
    "        # Define the filename for each chunk\n",
    "        filename = os.path.join(output_dir, f\"{base_filename}_{i+1}.txt\")\n",
    "        \n",
    "        # Write the elements of the chunk to the file\n",
    "        with open(filename, 'w') as file:\n",
    "            for element in chunk:\n",
    "                file.write(f\"{element}\\n\")\n",
    "    \n",
    "    print(f\"Files saved in {output_dir}/\")"
   ]
  },
  {
   "cell_type": "code",
   "execution_count": 12,
   "id": "5204ceec-3441-4c59-8229-b97d81c48e11",
   "metadata": {},
   "outputs": [
    {
     "name": "stdout",
     "output_type": "stream",
     "text": [
      "Files saved in tfbs_list_folder/\n"
     ]
    }
   ],
   "source": [
    "save_chunks_in_files(remaining_tfbs_list, 50, 'tfbs_list_folder', 'tfbs_chunk')"
   ]
  },
  {
   "cell_type": "code",
   "execution_count": null,
   "id": "de10517a-a7a8-4c16-832d-7d5c01dba1fd",
   "metadata": {},
   "outputs": [],
   "source": []
  }
 ],
 "metadata": {
  "kernelspec": {
   "display_name": "Python 3 (ipykernel)",
   "language": "python",
   "name": "python3"
  },
  "language_info": {
   "codemirror_mode": {
    "name": "ipython",
    "version": 3
   },
   "file_extension": ".py",
   "mimetype": "text/x-python",
   "name": "python",
   "nbconvert_exporter": "python",
   "pygments_lexer": "ipython3",
   "version": "3.10.14"
  }
 },
 "nbformat": 4,
 "nbformat_minor": 5
}
