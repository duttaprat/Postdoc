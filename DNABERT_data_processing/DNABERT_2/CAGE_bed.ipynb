{
 "cells": [
  {
   "cell_type": "code",
   "execution_count": 23,
   "id": "222fcd0a-3cfd-4859-b9c8-994a74f022b4",
   "metadata": {},
   "outputs": [],
   "source": [
    "import requests\n",
    "import gzip\n",
    "import shutil"
   ]
  },
  {
   "cell_type": "code",
   "execution_count": 24,
   "id": "9f81929d-12ec-411e-a6c5-59c531538fcc",
   "metadata": {},
   "outputs": [],
   "source": [
    "url = 'https://fantom.gsc.riken.jp/5/datafiles/latest/extra/CAGE_peaks/hg19.cage_peak_phase1and2combined_coord.bed.gz'  # Replace with the exact URL of the file you want to download\n",
    "output_path = '/data/private/pdutta/DNABERT_2/CAGE_seq/CAGE_Seq_hg19.bed.gz'  # Specify the path where you want to save the file\n",
    "output_bed_file = \"/data/private/pdutta/DNABERT_2/CAGE_seq/CAGE_Seq_hg19.bed\""
   ]
  },
  {
   "cell_type": "code",
   "execution_count": 25,
   "id": "5f36a63a-d2e9-4b5d-965d-93dcb1aee3dd",
   "metadata": {},
   "outputs": [],
   "source": [
    "response = requests.get(url, stream=True)\n",
    "if response.status_code == 200:\n",
    "    with open(output_path, 'wb') as file:\n",
    "        for chunk in response.iter_content(chunk_size=128):\n",
    "            file.write(chunk)"
   ]
  },
  {
   "cell_type": "code",
   "execution_count": 26,
   "id": "58a3176c-fc1e-4289-909e-56e3096d5996",
   "metadata": {},
   "outputs": [],
   "source": [
    "# Decompress the .gz file\n",
    "with gzip.open(output_path, 'rb') as f_in:\n",
    "    with open(output_bed_file, 'wb') as f_out:\n",
    "        shutil.copyfileobj(f_in, f_out)"
   ]
  },
  {
   "cell_type": "code",
   "execution_count": null,
   "id": "d547352f-36b1-437f-a16e-9b011599fb52",
   "metadata": {},
   "outputs": [],
   "source": []
  }
 ],
 "metadata": {
  "kernelspec": {
   "display_name": "Python 3 (ipykernel)",
   "language": "python",
   "name": "python3"
  },
  "language_info": {
   "codemirror_mode": {
    "name": "ipython",
    "version": 3
   },
   "file_extension": ".py",
   "mimetype": "text/x-python",
   "name": "python",
   "nbconvert_exporter": "python",
   "pygments_lexer": "ipython3",
   "version": "3.10.11"
  }
 },
 "nbformat": 4,
 "nbformat_minor": 5
}
