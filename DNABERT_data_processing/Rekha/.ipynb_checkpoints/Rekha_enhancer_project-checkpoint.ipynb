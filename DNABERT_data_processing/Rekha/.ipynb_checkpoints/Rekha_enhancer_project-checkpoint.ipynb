{
 "cells": [
  {
   "cell_type": "code",
   "execution_count": 16,
   "id": "2440260a",
   "metadata": {},
   "outputs": [],
   "source": [
    "import os, tarfile\n",
    "import re\n",
    "import pandas as pd\n",
    "import numpy as np\n",
    "import zipfile, gzip\n",
    "import pandas as pd\n",
    "from sklearn.model_selection import train_test_split"
   ]
  },
  {
   "cell_type": "code",
   "execution_count": 22,
   "id": "c4da9525",
   "metadata": {},
   "outputs": [],
   "source": [
    "DATA_PATH = \"/home/pdutta/Rekha_LabWork/Enhancer_Prediction_Project/EnhancerAtlas_07082022/kmerFiles_HACER-EnhancerAtlas_Dataset/HACER-EnhancerAtlas-Benchmark_Ratio-5.tsv\"\n",
    "OUTPUT_FOLDER = \"/home/pdutta/Data/Rekha_data/Enhancer/Finetuning_updated_data/1_5_enhacer_atlas_benchmark\""
   ]
  },
  {
   "cell_type": "code",
   "execution_count": 23,
   "id": "ac759538",
   "metadata": {},
   "outputs": [
    {
     "name": "stdout",
     "output_type": "stream",
     "text": [
      "(287581, 2)\n",
      "                                            Sequence  Label\n",
      "0  TTACCT TACCTC ACCTCT CCTCTT CTCTTG TCTTGA CTTG...      1\n",
      "1  AGGAAG GGAAGA GAAGAG AAGAGA AGAGAT GAGATT AGAT...      1\n",
      "2  CAGTGA AGTGAG GTGAGC TGAGCC GAGCCA AGCCAT GCCA...      1\n",
      "3  ATAAGA TAAGAG AAGAGA AGAGAC GAGACA AGACAG GACA...      1\n",
      "4  TTTAAA TTAAAA TAAAAA AAAAAA AAAAAA AAAAAG AAAA...      1\n"
     ]
    }
   ],
   "source": [
    "all_data  =  pd.read_csv(DATA_PATH,  sep='\\t')\n",
    "print(all_data.shape)\n",
    "print(all_data.head())"
   ]
  },
  {
   "cell_type": "code",
   "execution_count": 24,
   "id": "202c61df",
   "metadata": {},
   "outputs": [
    {
     "data": {
      "text/plain": [
       "Label\n",
       "0    238663\n",
       "1     48918\n",
       "dtype: int64"
      ]
     },
     "execution_count": 24,
     "metadata": {},
     "output_type": "execute_result"
    }
   ],
   "source": [
    "all_data.groupby('Label').size()"
   ]
  },
  {
   "cell_type": "markdown",
   "id": "6d8209ec",
   "metadata": {},
   "source": [
    "# Creating train and testing dataset"
   ]
  },
  {
   "cell_type": "code",
   "execution_count": 25,
   "id": "c72b3f3e-2520-40a1-be38-2aeef49c69fa",
   "metadata": {},
   "outputs": [
    {
     "name": "stdout",
     "output_type": "stream",
     "text": [
      "(207776, 2) (43138, 2) (36667, 2)\n",
      "Label\n",
      "0    172509\n",
      "1     35267\n",
      "dtype: int64 Label\n",
      "0    35685\n",
      "1     7453\n",
      "dtype: int64 Label\n",
      "0    30469\n",
      "1     6198\n",
      "dtype: int64\n"
     ]
    }
   ],
   "source": [
    "train, test = train_test_split(all_data, test_size=0.15)\n",
    "train, val = train_test_split(train, test_size=0.15)\n",
    "print (train.shape, test.shape, val.shape)\n",
    "print(train.groupby(['Label']).size(), test.groupby(['Label']).size() , val.groupby(['Label']).size())"
   ]
  },
  {
   "cell_type": "code",
   "execution_count": 26,
   "id": "3cea7678",
   "metadata": {},
   "outputs": [],
   "source": [
    "output_folder_path = OUTPUT_FOLDER \n",
    "prediction_folder_path = output_folder_path + \"/Evaluation_data\" \n",
    "if not os.path.exists(output_folder_path):\n",
    "    os.makedirs(output_folder_path)\n",
    "if not os.path.exists(prediction_folder_path):\n",
    "    os.makedirs(prediction_folder_path)\n",
    "    #train.reset_index(drop=True, inplace=True)\n",
    "train.to_csv(OUTPUT_FOLDER+\"/train.tsv\", sep=\"\\t\", index=False)\n",
    "test.to_csv(OUTPUT_FOLDER+\"/dev.tsv\", sep=\"\\t\", index=False)\n",
    "val.to_csv(prediction_folder_path+\"/dev.tsv\", sep=\"\\t\", index=False)"
   ]
  },
  {
   "cell_type": "markdown",
   "id": "80e3a818",
   "metadata": {},
   "source": []
  },
  {
   "cell_type": "code",
   "execution_count": null,
   "id": "2be29185-abf0-4142-b11d-326ec5a782bf",
   "metadata": {},
   "outputs": [],
   "source": []
  }
 ],
 "metadata": {
  "kernelspec": {
   "display_name": "Python 3 (ipykernel)",
   "language": "python",
   "name": "python3"
  },
  "language_info": {
   "codemirror_mode": {
    "name": "ipython",
    "version": 3
   },
   "file_extension": ".py",
   "mimetype": "text/x-python",
   "name": "python",
   "nbconvert_exporter": "python",
   "pygments_lexer": "ipython3",
   "version": "3.10.4"
  }
 },
 "nbformat": 4,
 "nbformat_minor": 5
}
