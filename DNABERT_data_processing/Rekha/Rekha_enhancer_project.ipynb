{
 "cells": [
  {
   "cell_type": "code",
   "execution_count": 1,
   "id": "caf5b6de",
   "metadata": {},
   "outputs": [],
   "source": [
    "import os, tarfile\n",
    "import re\n",
    "import pandas as pd\n",
    "import numpy as np\n",
    "import zipfile, gzip\n",
    "import pandas as pd\n",
    "from sklearn.model_selection import train_test_split"
   ]
  },
  {
   "cell_type": "code",
   "execution_count": 4,
   "id": "f38e27f4",
   "metadata": {},
   "outputs": [],
   "source": [
    "DATA_PATH = \"/home/pdutta/Rekha_LabWork/Enhancer_Prediction_Project/02222022/iEnhancer_Benchmark_dataset_for_DNABERT.tsv\"\n",
    "OUTPUT_FOLDER = \"/home/pdutta/Data/Rekha_data/Enhancer/benchmark_work\""
   ]
  },
  {
   "cell_type": "code",
   "execution_count": 3,
   "id": "03c8fbc1",
   "metadata": {},
   "outputs": [
    {
     "name": "stdout",
     "output_type": "stream",
     "text": [
      "(2965, 2)\n",
      "                                               kmers  tag\n",
      "0  GCCCTC CCCTCA CCTCAC CTCACA TCACAT CACATT ACAT...    1\n",
      "1  GAGCAG AGCAGG GCAGGA CAGGAG AGGAGG GGAGGC GAGG...    1\n",
      "2  CCTCTG CTCTGC TCTGCT CTGCTG TGCTGA GCTGAG CTGA...    1\n",
      "3  ACAGCC CAGCCT AGCCTT GCCTTA CCTTAA CTTAAA TTAA...    1\n",
      "4  TGCAGT GCAGTG CAGTGC AGTGCC GTGCCT TGCCTA GCCT...    1\n"
     ]
    }
   ],
   "source": [
    "all_data  =  pd.read_csv(DATA_PATH,  sep='\\t')\n",
    "print(all_data.shape)\n",
    "print(all_data.head())"
   ]
  },
  {
   "cell_type": "code",
   "execution_count": null,
   "id": "74c3d7a4",
   "metadata": {},
   "outputs": [],
   "source": []
  },
  {
   "cell_type": "markdown",
   "id": "792b75ba",
   "metadata": {},
   "source": [
    "# Creating train and testing dataset"
   ]
  },
  {
   "cell_type": "code",
   "execution_count": 5,
   "id": "78af9640",
   "metadata": {},
   "outputs": [
    {
     "name": "stdout",
     "output_type": "stream",
     "text": [
      "(2668, 2) (297, 2)\n",
      "                                                  kmers  tag\n",
      "1612  CTTCCG TTCCGT TCCGTC CCGTCT CGTCTA GTCTAT TCTA...    0\n",
      "482   AAAATA AAATAG AATAGT ATAGTA TAGTAA AGTAAG GTAA...    1\n",
      "1484  TGGGAG GGGAGC GGAGCT GAGCTG AGCTGT GCTGTA CTGT...    0\n",
      "2767  TGGCAT GGCATT GCATTG CATTGC ATTGCT TTGCTA TGCT...    0\n",
      "2272  ATTATG TTATGA TATGAC ATGACT TGACTA GACTAA ACTA...    0\n",
      "                                                  kmers  tag\n",
      "1295  CCTTGG CTTGGG TTGGGA TGGGAA GGGAAG GGAAGG GAAG...    1\n",
      "103   GGCTGC GCTGCC CTGCCA TGCCAC GCCACC CCACCG CACC...    1\n",
      "1628  AGTTTA GTTTAA TTTAAC TTAACA TAACAA AACAAG ACAA...    0\n",
      "1819  CAGGAA AGGAAG GGAAGA GAAGAG AAGAGC AGAGCT GAGC...    0\n",
      "2019  GATGTG ATGTGA TGTGAT GTGATC TGATCA GATCAA ATCA...    0\n"
     ]
    }
   ],
   "source": [
    "train, test = train_test_split(all_data, test_size=0.10)\n",
    "print (train.shape, test.shape)\n",
    "print(train.head())\n",
    "print(test.head())\n",
    "output_folder_path = OUTPUT_FOLDER \n",
    "if not os.path.exists(output_folder_path):\n",
    "    os.makedirs(output_folder_path)\n",
    "    #train.reset_index(drop=True, inplace=True)\n",
    "train.to_csv(output_folder_path+\"/train.tsv\", sep=\"\\t\", index=False)\n",
    "test.to_csv(output_folder_path+\"/dev.tsv\", sep=\"\\t\", index=False)"
   ]
  },
  {
   "cell_type": "markdown",
   "id": "3a88c966",
   "metadata": {},
   "source": []
  }
 ],
 "metadata": {
  "kernelspec": {
   "display_name": "Python 3 (ipykernel)",
   "language": "python",
   "name": "python3"
  },
  "language_info": {
   "codemirror_mode": {
    "name": "ipython",
    "version": 3
   },
   "file_extension": ".py",
   "mimetype": "text/x-python",
   "name": "python",
   "nbconvert_exporter": "python",
   "pygments_lexer": "ipython3",
   "version": "3.7.11"
  }
 },
 "nbformat": 4,
 "nbformat_minor": 5
}
