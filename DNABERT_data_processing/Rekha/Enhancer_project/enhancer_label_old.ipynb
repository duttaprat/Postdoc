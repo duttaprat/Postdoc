{
 "cells": [
  {
   "cell_type": "code",
   "execution_count": 1,
   "id": "cdd0a298-de34-4915-8bae-192d11cb06ca",
   "metadata": {},
   "outputs": [],
   "source": [
    "import os\n",
    "import re\n",
    "import pandas as pd\n",
    "import numpy as np\n",
    "import zipfile, gzip\n",
    "import pandas as pd\n",
    "from sklearn.model_selection import train_test_split"
   ]
  },
  {
   "cell_type": "code",
   "execution_count": 2,
   "id": "da105da3-29e7-4fce-b9d1-9da69096fdb0",
   "metadata": {},
   "outputs": [],
   "source": [
    "ENHANCER_PATH = \"/home/pdutta/Rekha_LabWork/Enhancer_Prediction_Project/01102021/DataForkmer/Enhancer_kmers/Enhancers_kmer.csv\"\n",
    "NON_ENHANCER_PATH = \"/home/pdutta/Rekha_LabWork/Enhancer_Prediction_Project/01102021/DataForkmer/kmer_Files/Non-Enhancer_Ratio5.csv\"\n",
    "OUTPUT_FOLDER= \"/home/pdutta/Data/Rekha_data/Enhancer/Finetuning_updated_data\""
   ]
  },
  {
   "cell_type": "code",
   "execution_count": 13,
   "id": "8269260f-ccba-4d08-aa85-ce0ec59f9dd2",
   "metadata": {},
   "outputs": [
    {
     "name": "stdout",
     "output_type": "stream",
     "text": [
      "(35043, 2)\n",
      "(175215, 2)\n",
      "                                            Sequence  Label\n",
      "0  TTACCT TACCTC ACCTCT CCTCTT CTCTTG TCTTGA CTTG...      0\n",
      "1  AGGAAG GGAAGA GAAGAG AAGAGA AGAGAT GAGATT AGAT...      0\n",
      "2  CAGTGA AGTGAG GTGAGC TGAGCC GAGCCA AGCCAT GCCA...      0\n",
      "3  ATAAGA TAAGAG AAGAGA AGAGAC GAGACA AGACAG GACA...      0\n",
      "4  TTTAAA TTAAAA TAAAAA AAAAAA AAAAAA AAAAAG AAAA...      0\n",
      "                                            Sequence  Label\n",
      "0  TAGGAA AGGAAA GGAAAA GAAAAA AAAAAA AAAAAA AAAA...      1\n",
      "1  ATGCTT TGCTTA GCTTAA CTTAAT TTAATT TAATTT AATT...      1\n",
      "2  CGGCGG GGCGGC GCGGCT CGGCTC GGCTCC GCTCCC CTCC...      1\n",
      "3  AGAATC GAATCA AATCAG ATCAGA TCAGAA CAGAAA AGAA...      1\n",
      "4  GGATCA GATCAC ATCACA TCACAG CACAGC ACAGCT CAGC...      1\n"
     ]
    }
   ],
   "source": [
    "enhancer_csv  =  pd.read_csv(ENHANCER_PATH,  sep=',')\n",
    "print(enhancer_csv.shape)\n",
    "non_enhancer_csv  =  pd.read_csv(NON_ENHANCER_PATH,  sep=',')\n",
    "print (non_enhancer_csv.shape)\n",
    "print( enhancer_csv.head())\n",
    "print( non_enhancer_csv.head())"
   ]
  },
  {
   "cell_type": "code",
   "execution_count": 14,
   "id": "34d397a8-8306-49a4-819e-9082b0f07161",
   "metadata": {},
   "outputs": [],
   "source": [
    "enhancer_csv['Label'] = enhancer_csv['Label'].replace(0, 1)\n",
    "non_enhancer_csv['Label'] = non_enhancer_csv['Label'].replace(1,0)"
   ]
  },
  {
   "cell_type": "code",
   "execution_count": 15,
   "id": "68e7cadf-27d6-4b01-b4f3-6788c994621d",
   "metadata": {},
   "outputs": [
    {
     "name": "stdout",
     "output_type": "stream",
     "text": [
      "                                                Sequence  Label\n",
      "0      TTACCT TACCTC ACCTCT CCTCTT CTCTTG TCTTGA CTTG...      1\n",
      "1      AGGAAG GGAAGA GAAGAG AAGAGA AGAGAT GAGATT AGAT...      1\n",
      "2      CAGTGA AGTGAG GTGAGC TGAGCC GAGCCA AGCCAT GCCA...      1\n",
      "3      ATAAGA TAAGAG AAGAGA AGAGAC GAGACA AGACAG GACA...      1\n",
      "4      TTTAAA TTAAAA TAAAAA AAAAAA AAAAAA AAAAAG AAAA...      1\n",
      "...                                                  ...    ...\n",
      "35038  AGAGAG GAGAGA AGAGAC GAGACT AGACTA GACTAA ACTA...      1\n",
      "35039  GTGAAT TGAATC GAATCC AATCCC ATCCCC TCCCCT CCCC...      1\n",
      "35040  ACTACA CTACAG TACAGC ACAGCC CAGCCT AGCCTG GCCT...      1\n",
      "35041  GTGGCT TGGCTA GGCTAA GCTAAG CTAAGA TAAGAC AAGA...      1\n",
      "35042  CAATTG AATTGA ATTGAG TTGAGT TGAGTC GAGTCA AGTC...      1\n",
      "\n",
      "[35043 rows x 2 columns]\n",
      "                                                 Sequence  Label\n",
      "0       TAGGAA AGGAAA GGAAAA GAAAAA AAAAAA AAAAAA AAAA...      0\n",
      "1       ATGCTT TGCTTA GCTTAA CTTAAT TTAATT TAATTT AATT...      0\n",
      "2       CGGCGG GGCGGC GCGGCT CGGCTC GGCTCC GCTCCC CTCC...      0\n",
      "3       AGAATC GAATCA AATCAG ATCAGA TCAGAA CAGAAA AGAA...      0\n",
      "4       GGATCA GATCAC ATCACA TCACAG CACAGC ACAGCT CAGC...      0\n",
      "...                                                   ...    ...\n",
      "175210  TTTCCC TTCCCC TCCCCT CCCCTG CCCTGC CCTGCA CTGC...      0\n",
      "175211  GTTGGT TTGGTT TGGTTT GGTTTT GTTTTC TTTTCC TTTC...      0\n",
      "175212  TAAAGG AAAGGG AAGGGT AGGGTG GGGTGA GGTGAC GTGA...      0\n",
      "175213  TTCATA TCATAA CATAAG ATAAGA TAAGAA AAGAAT AGAA...      0\n",
      "175214  GCCATC CCATCT CATCTT ATCTTG TCTTGT CTTGTC TTGT...      0\n",
      "\n",
      "[175215 rows x 2 columns]\n"
     ]
    }
   ],
   "source": [
    "print(enhancer_csv)\n",
    "print(non_enhancer_csv)"
   ]
  },
  {
   "cell_type": "code",
   "execution_count": 16,
   "id": "6d21d321-a58c-493f-8d54-0de0fa4a6db5",
   "metadata": {},
   "outputs": [
    {
     "name": "stdout",
     "output_type": "stream",
     "text": [
      "(210258, 2)\n"
     ]
    }
   ],
   "source": [
    "all_data = pd.concat([enhancer_csv, non_enhancer_csv], ignore_index=True)\n",
    "print(all_data.shape)"
   ]
  },
  {
   "cell_type": "markdown",
   "id": "b1e854ea-2556-48e9-a8fe-eb9b508c7d26",
   "metadata": {},
   "source": [
    "# Creating train and testing dataset"
   ]
  },
  {
   "cell_type": "code",
   "execution_count": 17,
   "id": "0fd94088-8542-4675-850a-5850e95cb0ae",
   "metadata": {},
   "outputs": [
    {
     "name": "stdout",
     "output_type": "stream",
     "text": [
      "(142975, 2) (31539, 2) (35744, 2)\n",
      "Label\n",
      "0    119133\n",
      "1     23842\n",
      "dtype: int64 Label\n",
      "0    26180\n",
      "1     5359\n",
      "dtype: int64 Label\n",
      "0    29902\n",
      "1     5842\n",
      "dtype: int64\n"
     ]
    }
   ],
   "source": [
    "train, test = train_test_split(all_data, test_size=0.15)\n",
    "train, val = train_test_split(train, test_size=0.20)\n",
    "print (train.shape, test.shape, val.shape)\n",
    "print(train.groupby(['Label']).size(), test.groupby(['Label']).size() , val.groupby(['Label']).size())"
   ]
  },
  {
   "cell_type": "code",
   "execution_count": 19,
   "id": "16635fa6-ed15-4fb0-9544-7838243810f8",
   "metadata": {},
   "outputs": [],
   "source": [
    "train.to_csv(\"/home/pdutta/Data/Rekha_data/Enhancer/1:5_new_label/train.tsv\", sep=\"\\t\", index=False)\n",
    "test.to_csv(\"/home/pdutta/Data/Rekha_data/Enhancer/1:5_new_label/dev.tsv\", sep=\"\\t\", index=False)\n",
    "val.to_csv(\"/home/pdutta/Data/Rekha_data/Enhancer/1:5_new_label/Evaluation_data/dev.tsv\", sep=\"\\t\", index=False)"
   ]
  },
  {
   "cell_type": "code",
   "execution_count": null,
   "id": "92871a84-bffd-4d41-b302-c679b7b955ce",
   "metadata": {},
   "outputs": [],
   "source": []
  }
 ],
 "metadata": {
  "kernelspec": {
   "display_name": "Python 3 (ipykernel)",
   "language": "python",
   "name": "python3"
  },
  "language_info": {
   "codemirror_mode": {
    "name": "ipython",
    "version": 3
   },
   "file_extension": ".py",
   "mimetype": "text/x-python",
   "name": "python",
   "nbconvert_exporter": "python",
   "pygments_lexer": "ipython3",
   "version": "3.10.11"
  },
  "vscode": {
   "interpreter": {
    "hash": "a51f9f9e9f723a5c937617a53d5974e2f10b8ea7e83636b3d8df69abd2ef39cf"
   }
  }
 },
 "nbformat": 4,
 "nbformat_minor": 5
}
