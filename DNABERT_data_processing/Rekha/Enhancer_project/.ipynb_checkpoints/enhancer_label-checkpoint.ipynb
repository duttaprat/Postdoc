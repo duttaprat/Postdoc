{
 "cells": [
  {
   "cell_type": "code",
   "execution_count": 1,
   "id": "cdd0a298-de34-4915-8bae-192d11cb06ca",
   "metadata": {},
   "outputs": [],
   "source": [
    "import os, tarfile\n",
    "import re\n",
    "import pandas as pd\n",
    "import numpy as np\n",
    "import zipfile, gzip\n",
    "import pandas as pd\n",
    "from sklearn.model_selection import train_test_split"
   ]
  },
  {
   "cell_type": "code",
   "execution_count": 8,
   "id": "da105da3-29e7-4fce-b9d1-9da69096fdb0",
   "metadata": {},
   "outputs": [],
   "source": [
    "ENHANCER_PATH = \"/home/pdutta/Data/Rekha_data/Enhancer/Finetuning_updated_data/1_5_enhancer_atlas/raw/HACER-EnhancerAtlas_Enhancer_kmers.tsv\"\n",
    "NON_ENHANCER_PATH = \"/home/pdutta/Data/Rekha_data/Enhancer/Finetuning_updated_data/1_5_enhancer_atlas/raw/HACER-EnhancerAtlas_Non-Enhancer_Ratio_5.csv\"\n",
    "OUTPUT_FOLDER= \"/home/pdutta/Data/Rekha_data/Enhancer/Finetuning_updated_data/1_5_enhancer_atlas\""
   ]
  },
  {
   "cell_type": "code",
   "execution_count": 9,
   "id": "8269260f-ccba-4d08-aa85-ce0ec59f9dd2",
   "metadata": {},
   "outputs": [
    {
     "name": "stdout",
     "output_type": "stream",
     "text": [
      "(47436, 2)\n",
      "(237180, 2)\n",
      "                                            Sequence  Label\n",
      "0  TTACCT TACCTC ACCTCT CCTCTT CTCTTG TCTTGA CTTG...      1\n",
      "1  AGGAAG GGAAGA GAAGAG AAGAGA AGAGAT GAGATT AGAT...      1\n",
      "2  CAGTGA AGTGAG GTGAGC TGAGCC GAGCCA AGCCAT GCCA...      1\n",
      "3  ATAAGA TAAGAG AAGAGA AGAGAC GAGACA AGACAG GACA...      1\n",
      "4  TTTAAA TTAAAA TAAAAA AAAAAA AAAAAA AAAAAG AAAA...      1\n",
      "                                            Sequence  Label\n",
      "0  GTAAAA TAAAAC AAAACT AAACTG AACTGA ACTGAC CTGA...      0\n",
      "1  AGTTAT GTTATA TTATAG TATAGT ATAGTC TAGTCC AGTC...      0\n",
      "2  ATTCTT TTCTTA TCTTAT CTTATG TTATGT TATGTA ATGT...      0\n",
      "3  CCTGTT CTGTTC TGTTCA GTTCAG TTCAGT TCAGTC CAGT...      0\n",
      "4  TCTTTC CTTTCG TTTCGA TTCGAT TCGATT CGATTT GATT...      0\n"
     ]
    }
   ],
   "source": [
    "enhancer_csv  =  pd.read_csv(ENHANCER_PATH,  sep='\\t')\n",
    "print(enhancer_csv.shape)\n",
    "non_enhancer_csv  =  pd.read_csv(NON_ENHANCER_PATH,  sep=',')\n",
    "print (non_enhancer_csv.shape)\n",
    "print( enhancer_csv.head())\n",
    "print( non_enhancer_csv.head())"
   ]
  },
  {
   "cell_type": "code",
   "execution_count": 4,
   "id": "34d397a8-8306-49a4-819e-9082b0f07161",
   "metadata": {},
   "outputs": [],
   "source": [
    "enhancer_csv['Label'] = enhancer_csv['Label'].replace(0, 1)\n",
    "#non_enhancer_csv['Label'] = non_enhancer_csv['Label'].replace(1,0)"
   ]
  },
  {
   "cell_type": "code",
   "execution_count": 10,
   "id": "68e7cadf-27d6-4b01-b4f3-6788c994621d",
   "metadata": {},
   "outputs": [
    {
     "name": "stdout",
     "output_type": "stream",
     "text": [
      "                                                Sequence  Label\n",
      "0      TTACCT TACCTC ACCTCT CCTCTT CTCTTG TCTTGA CTTG...      1\n",
      "1      AGGAAG GGAAGA GAAGAG AAGAGA AGAGAT GAGATT AGAT...      1\n",
      "2      CAGTGA AGTGAG GTGAGC TGAGCC GAGCCA AGCCAT GCCA...      1\n",
      "3      ATAAGA TAAGAG AAGAGA AGAGAC GAGACA AGACAG GACA...      1\n",
      "4      TTTAAA TTAAAA TAAAAA AAAAAA AAAAAA AAAAAG AAAA...      1\n",
      "...                                                  ...    ...\n",
      "47431  TTTTTC TTTTCA TTTCAT TTCATT TCATTG CATTGG ATTG...      1\n",
      "47432  GTAAAG TAAAGA AAAGAC AAGACA AGACAG GACAGG ACAG...      1\n",
      "47433  TGAGTC GAGTCA AGTCAT GTCATG TCATGT CATGTG ATGT...      1\n",
      "47434  AACCTG ACCTGT CCTGTA CTGTAG TGTAGT GTAGTT TAGT...      1\n",
      "47435  ACACAC CACACC ACACCT CACCTG ACCTGG CCTGGG CTGG...      1\n",
      "\n",
      "[47436 rows x 2 columns]\n",
      "                                                 Sequence  Label\n",
      "0       GTAAAA TAAAAC AAAACT AAACTG AACTGA ACTGAC CTGA...      0\n",
      "1       AGTTAT GTTATA TTATAG TATAGT ATAGTC TAGTCC AGTC...      0\n",
      "2       ATTCTT TTCTTA TCTTAT CTTATG TTATGT TATGTA ATGT...      0\n",
      "3       CCTGTT CTGTTC TGTTCA GTTCAG TTCAGT TCAGTC CAGT...      0\n",
      "4       TCTTTC CTTTCG TTTCGA TTCGAT TCGATT CGATTT GATT...      0\n",
      "...                                                   ...    ...\n",
      "237175  GCTGGG CTGGGA TGGGAA GGGAAG GGAAGT GAAGTC AAGT...      0\n",
      "237176  AAAGAT AAGATT AGATTG GATTGG ATTGGT TTGGTA TGGT...      0\n",
      "237177  AATAAA ATAAAG TAAAGA AAAGAA AAGAAA AGAAAG GAAA...      0\n",
      "237178  TTATGT TATGTA ATGTAC TGTACC GTACCC TACCCA ACCC...      0\n",
      "237179  TTTAAT TTAATT TAATTA AATTAC ATTACA TTACAT TACA...      0\n",
      "\n",
      "[237180 rows x 2 columns]\n"
     ]
    }
   ],
   "source": [
    "print(enhancer_csv)\n",
    "print(non_enhancer_csv)"
   ]
  },
  {
   "cell_type": "code",
   "execution_count": 11,
   "id": "6d21d321-a58c-493f-8d54-0de0fa4a6db5",
   "metadata": {},
   "outputs": [
    {
     "name": "stdout",
     "output_type": "stream",
     "text": [
      "(284616, 2)\n"
     ]
    }
   ],
   "source": [
    "all_data = pd.concat([enhancer_csv, non_enhancer_csv], ignore_index=True)\n",
    "print(all_data.shape)"
   ]
  },
  {
   "cell_type": "markdown",
   "id": "b1e854ea-2556-48e9-a8fe-eb9b508c7d26",
   "metadata": {},
   "source": [
    "# Creating train and testing dataset"
   ]
  },
  {
   "cell_type": "code",
   "execution_count": 12,
   "id": "0fd94088-8542-4675-850a-5850e95cb0ae",
   "metadata": {},
   "outputs": [
    {
     "name": "stdout",
     "output_type": "stream",
     "text": [
      "(205634, 2) (42693, 2) (36289, 2)\n",
      "Label\n",
      "0    171320\n",
      "1     34314\n",
      "dtype: int64 Label\n",
      "0    35552\n",
      "1     7141\n",
      "dtype: int64 Label\n",
      "0    30308\n",
      "1     5981\n",
      "dtype: int64\n"
     ]
    }
   ],
   "source": [
    "train, test = train_test_split(all_data, test_size=0.15)\n",
    "train, val = train_test_split(train, test_size=0.15)\n",
    "print (train.shape, test.shape, val.shape)\n",
    "print(train.groupby(['Label']).size(), test.groupby(['Label']).size() , val.groupby(['Label']).size())"
   ]
  },
  {
   "cell_type": "code",
   "execution_count": 14,
   "id": "16635fa6-ed15-4fb0-9544-7838243810f8",
   "metadata": {},
   "outputs": [],
   "source": [
    "train.to_csv(OUTPUT_FOLDER+\"/train.tsv\", sep=\"\\t\", index=False)\n",
    "test.to_csv(OUTPUT_FOLDER+\"/dev.tsv\", sep=\"\\t\", index=False)\n",
    "val.to_csv(OUTPUT_FOLDER+\"/Evaluation_data/dev.tsv\", sep=\"\\t\", index=False)"
   ]
  },
  {
   "cell_type": "code",
   "execution_count": null,
   "id": "92871a84-bffd-4d41-b302-c679b7b955ce",
   "metadata": {},
   "outputs": [],
   "source": []
  }
 ],
 "metadata": {
  "kernelspec": {
   "display_name": "Python 3 (ipykernel)",
   "language": "python",
   "name": "python3"
  },
  "language_info": {
   "codemirror_mode": {
    "name": "ipython",
    "version": 3
   },
   "file_extension": ".py",
   "mimetype": "text/x-python",
   "name": "python",
   "nbconvert_exporter": "python",
   "pygments_lexer": "ipython3",
   "version": "3.10.11"
  }
 },
 "nbformat": 4,
 "nbformat_minor": 5
}
