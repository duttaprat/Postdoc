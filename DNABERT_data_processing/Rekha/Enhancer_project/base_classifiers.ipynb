{
 "cells": [
  {
   "cell_type": "code",
   "execution_count": 1,
   "id": "09effc4c-351e-4fad-9014-c04e5b8b2a58",
   "metadata": {},
   "outputs": [],
   "source": [
    "import numpy as np\n",
    "import pandas as pd \n",
    "#np.set_printoptions(suppress=True, formatter={'float_kind':'{:f}'.format})"
   ]
  },
  {
   "cell_type": "code",
   "execution_count": 2,
   "id": "ab9b119d-c9d8-4b75-a59d-5a398587f434",
   "metadata": {},
   "outputs": [],
   "source": [
    "from sklearn.preprocessing import StandardScaler\n",
    "sc = StandardScaler()"
   ]
  },
  {
   "cell_type": "code",
   "execution_count": 3,
   "id": "c4cb7f0c-4042-4c76-a898-92e96beea02d",
   "metadata": {},
   "outputs": [],
   "source": [
    "from sklearn.pipeline import make_pipeline\n",
    "from sklearn.linear_model import LogisticRegression\n",
    "from sklearn.discriminant_analysis import LinearDiscriminantAnalysis\n",
    "from sklearn.neighbors import KNeighborsClassifier\n",
    "from sklearn.naive_bayes import GaussianNB\n",
    "from sklearn.tree import DecisionTreeClassifier\n",
    "from sklearn.ensemble import RandomForestClassifier, AdaBoostClassifier\n",
    "from sklearn.svm import SVC\n",
    "from sklearn.gaussian_process import GaussianProcessClassifier\n",
    "from sklearn.gaussian_process.kernels import RBF\n",
    "from sklearn.discriminant_analysis import QuadraticDiscriminantAnalysis\n",
    "from sklearn.neural_network import MLPClassifier"
   ]
  },
  {
   "cell_type": "code",
   "execution_count": 4,
   "id": "05beb804-df23-4c29-a6d7-05327b2dc5a9",
   "metadata": {},
   "outputs": [],
   "source": [
    "from sklearn.metrics import confusion_matrix, accuracy_score, f1_score, precision_score, recall_score"
   ]
  },
  {
   "cell_type": "code",
   "execution_count": 5,
   "id": "5df0d166-c6e0-46f6-a97a-98f95ca32a37",
   "metadata": {},
   "outputs": [],
   "source": [
    "clf_list = []\n",
    "logreg_clf = LogisticRegression()\n",
    "knn_clf = KNeighborsClassifier(n_neighbors = 5, metric = 'minkowski', p = 2)\n",
    "svc_clf = SVC(kernel = 'linear', random_state = 0)"
   ]
  },
  {
   "cell_type": "code",
   "execution_count": 6,
   "id": "8e15d51e-b48d-4cd8-bcd8-828098db979c",
   "metadata": {},
   "outputs": [],
   "source": [
    "clf_names = [\n",
    "    \"Nearest_Neighbors_clf\",\n",
    "    \"Linear_SVM_clf\",\n",
    "    \"RBF_SVM_clf\",\n",
    "    \"Gaussian_Process_clf\",\n",
    "    \"Decision_Tree_clf\",\n",
    "    \"Random_Forest_clf\",\n",
    "    \"Neural_Net_clf\",\n",
    "    \"AdaBoost_clf\",\n",
    "    \"Naive_Bayes_clf\",\n",
    "    \"QDA\",\n",
    "]"
   ]
  },
  {
   "cell_type": "code",
   "execution_count": 7,
   "id": "35750e03-9659-405a-bdc3-79453e9fe13c",
   "metadata": {},
   "outputs": [],
   "source": [
    "classifiers = [\n",
    "    KNeighborsClassifier(n_neighbors = 3),\n",
    "    SVC(kernel=\"linear\", C=0.025),\n",
    "    SVC(gamma=2, C=1),\n",
    "    GaussianProcessClassifier(1.0 * RBF(1.0)),\n",
    "    DecisionTreeClassifier(max_depth=5),\n",
    "    RandomForestClassifier(max_depth=5, n_estimators=10, max_features=1),\n",
    "    MLPClassifier(alpha=1, max_iter=1000),\n",
    "    AdaBoostClassifier(),\n",
    "    GaussianNB(),\n",
    "    QuadraticDiscriminantAnalysis(),\n",
    "]"
   ]
  },
  {
   "cell_type": "markdown",
   "id": "29ca5d4c-1c77-4102-bb2c-eb39ec285e3c",
   "metadata": {},
   "source": [
    "## Dataset (Train & Testing) Loading "
   ]
  },
  {
   "cell_type": "code",
   "execution_count": 8,
   "id": "0d02ac54-f4f2-4d43-8441-36191262e188",
   "metadata": {},
   "outputs": [],
   "source": [
    "data_folder_path = \"/home/pdutta/Rekha_LabWork/Enhancer_Prediction_Project/2023/Dataset/80_cut-off/Fixed_length/200/1-1/80-20/Feature_vectors/\"\n",
    "X_train = np.load(data_folder_path+\"train_x.npy\")\n",
    "X_test= np.load(data_folder_path+\"test_x.npy\")\n",
    "Y_train = np.load(data_folder_path+\"train_y.npy\")\n",
    "Y_test =  np.load(data_folder_path+\"test_y.npy\")"
   ]
  },
  {
   "cell_type": "code",
   "execution_count": 9,
   "id": "5bcefb26-224f-4b0d-8289-adcb4ed9a710",
   "metadata": {},
   "outputs": [
    {
     "name": "stdout",
     "output_type": "stream",
     "text": [
      "(794416, 768) (99302, 768) (794416,) (99302,)\n"
     ]
    }
   ],
   "source": [
    "print(X_train.shape , X_test.shape, Y_train.shape , Y_test.shape)"
   ]
  },
  {
   "cell_type": "code",
   "execution_count": 10,
   "id": "7cdd89ad-5213-4be5-bc14-5b9fade618b0",
   "metadata": {},
   "outputs": [],
   "source": [
    "X_train = X_train.astype(float)\n",
    "Y_train = Y_train.astype(int)"
   ]
  },
  {
   "cell_type": "code",
   "execution_count": 11,
   "id": "d2e9ac59-c69d-4d4f-884e-e0fc19c21fa1",
   "metadata": {},
   "outputs": [
    {
     "data": {
      "text/plain": [
       "KNeighborsClassifier()"
      ]
     },
     "execution_count": 11,
     "metadata": {},
     "output_type": "execute_result"
    }
   ],
   "source": [
    "clf = KNeighborsClassifier(n_neighbors = 5, metric = 'minkowski', p = 2)\n",
    "clf.fit(X_train[0:500], Y_train[0:500])"
   ]
  },
  {
   "cell_type": "code",
   "execution_count": 17,
   "id": "78dd0a17-46ea-4dee-b7f2-b71eab80c8a6",
   "metadata": {},
   "outputs": [
    {
     "name": "stdout",
     "output_type": "stream",
     "text": [
      "[[141 113]\n",
      " [101 145]]\n",
      "['141', '113', '101', '145']\n",
      "[['141' '113']\n",
      " ['101' '145']]\n",
      "[55.51181102 58.94308943]\n",
      "Accuracy for class 1: 58.943\n",
      "Accuracy for class 0: 55.512\n",
      "Overall accuracy: 57.200\n",
      "Precision: 0.562\n",
      "Recall: 0.589\n",
      "F-score:  0.575\n",
      "\n"
     ]
    }
   ],
   "source": [
    "Y_pred = clf.predict(X_test[0:500])\n",
    "cf_matrix = confusion_matrix(Y_test[0:500], Y_pred)\n",
    "print(cf_matrix)\n",
    "group_names = ['True Neg','False Pos','False Neg','True Pos']\n",
    "class_accuracy = 100*cf_matrix.diagonal()/cf_matrix.sum(1)\n",
    "print(class_accuracy)\n",
    "print(\"Accuracy for class 1: {:.3f}\".format(class_accuracy[1])+\"\\n\" \\\n",
    "        \"Accuracy for class 0: {:.3f}\".format(class_accuracy[0])+\"\\n\" \\\n",
    "        \"Overall accuracy: {:.3f}\".format(accuracy_score(Y_test[0:500], Y_pred[0:500])*100)+\"\\n\" \\\n",
    "        \"Precision: {:.3f}\".format(precision_score(Y_test[0:500], Y_pred[0:500]))+\"\\n\" \\\n",
    "        \"Recall: {:.3f}\".format(recall_score(Y_test[0:500], Y_pred[0:500]))+\"\\n\" \\\n",
    "        \"F-score:  {:.3f}\".format(f1_score(Y_test[0:500], Y_pred[0:500]))+\"\\n\")"
   ]
  },
  {
   "cell_type": "markdown",
   "id": "c4ff1db8-f56b-4def-af0f-b1eeca57640e",
   "metadata": {},
   "source": [
    "## Run the classifiers "
   ]
  },
  {
   "cell_type": "code",
   "execution_count": null,
   "id": "9d9f34e0-15f1-47fc-9c8d-c8f6cbb335a2",
   "metadata": {},
   "outputs": [
    {
     "name": "stdout",
     "output_type": "stream",
     "text": [
      "Scalling done\n",
      "Classifier fitted done\n"
     ]
    }
   ],
   "source": [
    "for clf_name, classifier in zip(clf_names, classifiers):\n",
    "    clf = make_pipeline(StandardScaler(), classifier)\n",
    "    print(\"Scalling done\")\n",
    "    clf.fit(X_train, Y_train)\n",
    "    print(\"Classifier fitted done\")\n",
    "    Y_pred = clf.predict(X_test)\n",
    "    cf_matrix = confusion_matrix(Y_test, Y_pred)\n",
    "    print(cf_matrix)\n",
    "    group_names = ['True Neg','False Pos','False Neg','True Pos']\n",
    "    class_accuracy = 100*cf_matrix.diagonal()/cf_matrix.sum(1)\n",
    "    print(class_accuracy)\n",
    "    print(\"Accuracy for class 1: {:.3f}\".format(class_accuracy[1])+\"\\n\" \\\n",
    "            \"Accuracy for class 0: {:.3f}\".format(class_accuracy[0])+\"\\n\" \\\n",
    "            \"Overall accuracy: {:.3f}\".format(accuracy_score(Y_test[0:500], Y_pred[0:500])*100)+\"\\n\" \\\n",
    "            \"Precision: {:.3f}\".format(precision_score(Y_test[0:500], Y_pred[0:500]))+\"\\n\" \\\n",
    "            \"Recall: {:.3f}\".format(recall_score(Y_test[0:500], Y_pred[0:500]))+\"\\n\" \\\n",
    "            \"F-score:  {:.3f}\".format(f1_score(Y_test[0:500], Y_pred[0:500]))+\"\\n\")"
   ]
  },
  {
   "cell_type": "code",
   "execution_count": null,
   "id": "79a5b658-164a-4a77-93b9-8428d18b005c",
   "metadata": {},
   "outputs": [],
   "source": []
  }
 ],
 "metadata": {
  "kernelspec": {
   "display_name": "Python 3",
   "language": "python",
   "name": "python3"
  },
  "language_info": {
   "codemirror_mode": {
    "name": "ipython",
    "version": 3
   },
   "file_extension": ".py",
   "mimetype": "text/x-python",
   "name": "python",
   "nbconvert_exporter": "python",
   "pygments_lexer": "ipython3",
   "version": "3.7.11"
  }
 },
 "nbformat": 4,
 "nbformat_minor": 5
}
