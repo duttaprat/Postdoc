{
 "cells": [
  {
   "cell_type": "code",
   "execution_count": 83,
   "id": "cae134f6-644d-4dad-a08c-75fc72523c76",
   "metadata": {},
   "outputs": [],
   "source": [
    "import pandas as pd\n",
    "from sklearn.model_selection import train_test_split\n",
    "from sklearn.utils import shuffle\n",
    "import os, tarfile\n",
    "import re\n",
    "import pandas as pd\n",
    "import numpy as np"
   ]
  },
  {
   "cell_type": "code",
   "execution_count": 125,
   "id": "2942a4aa-8859-499e-9b80-20fabe442f24",
   "metadata": {},
   "outputs": [],
   "source": [
    "folder_path = \"/data/projects/Enhancer/Data_processing/Finetuning_data/80_new/200-400/1-5\"\n",
    "data_file_path = \"/data/projects/Enhancer/Data_processing/Finetuning_data/80_new/200-400/1-1/Finetune_Dataset_cutoff-80_bin-200-400_1-1.tsv\""
   ]
  },
  {
   "cell_type": "code",
   "execution_count": 126,
   "id": "7ce12a4c-4cb2-4bd4-aa70-adad849792a1",
   "metadata": {},
   "outputs": [],
   "source": [
    "if not os.path.exists(folder_path + '/Evaluation_data'):\n",
    "    os.makedirs(folder_path + '/Evaluation_data')"
   ]
  },
  {
   "cell_type": "code",
   "execution_count": 127,
   "id": "1248af1a-4cf1-4b2d-aba2-d28b94c864b0",
   "metadata": {},
   "outputs": [],
   "source": [
    "df = pd.read_csv(data_file_path, sep=\"\\t\")"
   ]
  },
  {
   "cell_type": "code",
   "execution_count": 128,
   "id": "dd504550-7362-4c95-ba50-832e3030d76b",
   "metadata": {},
   "outputs": [
    {
     "data": {
      "text/html": [
       "<div>\n",
       "<style scoped>\n",
       "    .dataframe tbody tr th:only-of-type {\n",
       "        vertical-align: middle;\n",
       "    }\n",
       "\n",
       "    .dataframe tbody tr th {\n",
       "        vertical-align: top;\n",
       "    }\n",
       "\n",
       "    .dataframe thead th {\n",
       "        text-align: right;\n",
       "    }\n",
       "</style>\n",
       "<table border=\"1\" class=\"dataframe\">\n",
       "  <thead>\n",
       "    <tr style=\"text-align: right;\">\n",
       "      <th></th>\n",
       "      <th>Sequence</th>\n",
       "      <th>Label</th>\n",
       "    </tr>\n",
       "  </thead>\n",
       "  <tbody>\n",
       "    <tr>\n",
       "      <th>0</th>\n",
       "      <td>CCTTTG CTTTGC TTTGCC TTGCCC TGCCCA GCCCAA CCCA...</td>\n",
       "      <td>1</td>\n",
       "    </tr>\n",
       "    <tr>\n",
       "      <th>1</th>\n",
       "      <td>ATGGTC TGGTCT GGTCTG GTCTGA TCTGAT CTGATT TGAT...</td>\n",
       "      <td>1</td>\n",
       "    </tr>\n",
       "    <tr>\n",
       "      <th>2</th>\n",
       "      <td>GTCGGG TCGGGG CGGGGA GGGGAG GGGAGC GGAGCG GAGC...</td>\n",
       "      <td>1</td>\n",
       "    </tr>\n",
       "    <tr>\n",
       "      <th>3</th>\n",
       "      <td>GCGCTC CGCTCC GCTCCA CTCCAT TCCATA CCATAT CATA...</td>\n",
       "      <td>1</td>\n",
       "    </tr>\n",
       "    <tr>\n",
       "      <th>4</th>\n",
       "      <td>AAACAT AACATT ACATTA CATTAA ATTAAT TTAATC TAAT...</td>\n",
       "      <td>1</td>\n",
       "    </tr>\n",
       "  </tbody>\n",
       "</table>\n",
       "</div>"
      ],
      "text/plain": [
       "                                            Sequence  Label\n",
       "0  CCTTTG CTTTGC TTTGCC TTGCCC TGCCCA GCCCAA CCCA...      1\n",
       "1  ATGGTC TGGTCT GGTCTG GTCTGA TCTGAT CTGATT TGAT...      1\n",
       "2  GTCGGG TCGGGG CGGGGA GGGGAG GGGAGC GGAGCG GAGC...      1\n",
       "3  GCGCTC CGCTCC GCTCCA CTCCAT TCCATA CCATAT CATA...      1\n",
       "4  AAACAT AACATT ACATTA CATTAA ATTAAT TTAATC TAAT...      1"
      ]
     },
     "execution_count": 128,
     "metadata": {},
     "output_type": "execute_result"
    }
   ],
   "source": [
    "df.head()"
   ]
  },
  {
   "cell_type": "code",
   "execution_count": 129,
   "id": "5020fab0-98ef-40c0-a29e-76baa2329976",
   "metadata": {},
   "outputs": [
    {
     "data": {
      "text/plain": [
       "Label\n",
       "0    248970\n",
       "1    248970\n",
       "dtype: int64"
      ]
     },
     "execution_count": 129,
     "metadata": {},
     "output_type": "execute_result"
    }
   ],
   "source": [
    "df.groupby(['Label']).size()"
   ]
  },
  {
   "cell_type": "code",
   "execution_count": 130,
   "id": "7c92842c-6a02-4554-b5d2-18678241a0b0",
   "metadata": {},
   "outputs": [],
   "source": [
    "all_data = shuffle(df).reset_index(drop=True)"
   ]
  },
  {
   "cell_type": "code",
   "execution_count": 132,
   "id": "e3df1c15-7e18-4313-bf16-1a000dac2646",
   "metadata": {},
   "outputs": [
    {
     "name": "stdout",
     "output_type": "stream",
     "text": [
      "(434701, 2) (49794, 2) (13445, 2)\n",
      "Label\n",
      "0    217530\n",
      "1    217171\n",
      "dtype: int64 Label\n",
      "0    24706\n",
      "1    25088\n",
      "dtype: int64 Label\n",
      "0    6734\n",
      "1    6711\n",
      "dtype: int64\n"
     ]
    }
   ],
   "source": [
    "train, test = train_test_split(all_data, test_size=0.10)\n",
    "train, val = train_test_split(train, test_size=0.03)\n",
    "print (train.shape, test.shape, val.shape)\n",
    "print(train.groupby(['Label']).size(), test.groupby(['Label']).size() , val.groupby(['Label']).size())"
   ]
  },
  {
   "cell_type": "code",
   "execution_count": 124,
   "id": "0b338181-6b9d-4834-9c57-2b551b4542f9",
   "metadata": {},
   "outputs": [],
   "source": [
    "train.to_csv(folder_path+\"/train.tsv\", sep=\"\\t\", index=False)\n",
    "test.to_csv(folder_path+\"/dev.tsv\", sep=\"\\t\", index=False)\n",
    "val.to_csv(folder_path+\"/Evaluation_data/dev.tsv\", sep=\"\\t\", index=False)"
   ]
  },
  {
   "cell_type": "code",
   "execution_count": null,
   "id": "014eac55-3cfb-4862-acf6-bcdced857d3a",
   "metadata": {},
   "outputs": [],
   "source": []
  },
  {
   "cell_type": "code",
   "execution_count": null,
   "id": "0eb89b00-20f8-45b4-892d-37ab2168beb1",
   "metadata": {},
   "outputs": [],
   "source": []
  }
 ],
 "metadata": {
  "kernelspec": {
   "display_name": "Python 3 (ipykernel)",
   "language": "python",
   "name": "python3"
  },
  "language_info": {
   "codemirror_mode": {
    "name": "ipython",
    "version": 3
   },
   "file_extension": ".py",
   "mimetype": "text/x-python",
   "name": "python",
   "nbconvert_exporter": "python",
   "pygments_lexer": "ipython3",
   "version": "3.9.13"
  }
 },
 "nbformat": 4,
 "nbformat_minor": 5
}
