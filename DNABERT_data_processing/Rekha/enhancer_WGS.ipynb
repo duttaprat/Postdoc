{
 "cells": [
  {
   "cell_type": "code",
   "execution_count": 1,
   "metadata": {},
   "outputs": [],
   "source": [
    "import os, tarfile\n",
    "import re\n",
    "import pandas as pd\n",
    "import numpy as np\n",
    "import zipfile, gzip\n",
    "import pandas as pd\n",
    "from sklearn.model_selection import train_test_split"
   ]
  },
  {
   "cell_type": "code",
   "execution_count": 78,
   "metadata": {},
   "outputs": [],
   "source": [
    "chr_name = \"chr9\""
   ]
  },
  {
   "cell_type": "code",
   "execution_count": 79,
   "metadata": {},
   "outputs": [],
   "source": [
    "data_file = \"/home/pdutta/Rekha_LabWork/Enhancer_Prediction_Project/Whole_genome_07142022/5.kmer_files/{}/{}.txt\".format(chr_name, chr_name)\n",
    "data_save_tsv = \"/home/pdutta/Rekha_LabWork/Enhancer_Prediction_Project/Whole_genome_07142022/5.kmer_files/{}/dev.tsv\".format(chr_name)"
   ]
  },
  {
   "cell_type": "code",
   "execution_count": null,
   "metadata": {},
   "outputs": [],
   "source": []
  },
  {
   "cell_type": "code",
   "execution_count": 80,
   "metadata": {},
   "outputs": [],
   "source": [
    "df_temp = pd.read_csv(data_file, names=['Sequence'] )"
   ]
  },
  {
   "cell_type": "code",
   "execution_count": 81,
   "metadata": {},
   "outputs": [
    {
     "data": {
      "text/html": [
       "<div>\n",
       "<style scoped>\n",
       "    .dataframe tbody tr th:only-of-type {\n",
       "        vertical-align: middle;\n",
       "    }\n",
       "\n",
       "    .dataframe tbody tr th {\n",
       "        vertical-align: top;\n",
       "    }\n",
       "\n",
       "    .dataframe thead th {\n",
       "        text-align: right;\n",
       "    }\n",
       "</style>\n",
       "<table border=\"1\" class=\"dataframe\">\n",
       "  <thead>\n",
       "    <tr style=\"text-align: right;\">\n",
       "      <th></th>\n",
       "      <th>Sequence</th>\n",
       "    </tr>\n",
       "  </thead>\n",
       "  <tbody>\n",
       "    <tr>\n",
       "      <th>0</th>\n",
       "      <td>TAACCC AACCCT ACCCTA CCCTAA CCTAAC CTAACC TAAC...</td>\n",
       "    </tr>\n",
       "    <tr>\n",
       "      <th>1</th>\n",
       "      <td>TGGGTA GGGTAT GGTATC GTATCA TATCAT ATCATG TCAT...</td>\n",
       "    </tr>\n",
       "    <tr>\n",
       "      <th>2</th>\n",
       "      <td>CCGCGC CGCGCC GCGCCG CGCCGG GCCGGC CCGGCG CGGC...</td>\n",
       "    </tr>\n",
       "    <tr>\n",
       "      <th>3</th>\n",
       "      <td>AGGTGT GGTGTA GTGTAC TGTACT GTACTG TACTGG ACTG...</td>\n",
       "    </tr>\n",
       "    <tr>\n",
       "      <th>4</th>\n",
       "      <td>TTTCTT TTCTTT TCTTTG CTTTGA TTTGAC TTGACC TGAC...</td>\n",
       "    </tr>\n",
       "  </tbody>\n",
       "</table>\n",
       "</div>"
      ],
      "text/plain": [
       "                                            Sequence\n",
       "0  TAACCC AACCCT ACCCTA CCCTAA CCTAAC CTAACC TAAC...\n",
       "1  TGGGTA GGGTAT GGTATC GTATCA TATCAT ATCATG TCAT...\n",
       "2  CCGCGC CGCGCC GCGCCG CGCCGG GCCGGC CCGGCG CGGC...\n",
       "3  AGGTGT GGTGTA GTGTAC TGTACT GTACTG TACTGG ACTG...\n",
       "4  TTTCTT TTCTTT TCTTTG CTTTGA TTTGAC TTGACC TGAC..."
      ]
     },
     "execution_count": 81,
     "metadata": {},
     "output_type": "execute_result"
    }
   ],
   "source": [
    "df_temp.head()"
   ]
  },
  {
   "cell_type": "code",
   "execution_count": 82,
   "metadata": {},
   "outputs": [],
   "source": [
    "df_temp['Label']=0"
   ]
  },
  {
   "cell_type": "code",
   "execution_count": 83,
   "metadata": {},
   "outputs": [
    {
     "data": {
      "text/plain": [
       "(730744, 2)"
      ]
     },
     "execution_count": 83,
     "metadata": {},
     "output_type": "execute_result"
    }
   ],
   "source": [
    "df_temp.shape"
   ]
  },
  {
   "cell_type": "code",
   "execution_count": 84,
   "metadata": {},
   "outputs": [
    {
     "data": {
      "text/html": [
       "<div>\n",
       "<style scoped>\n",
       "    .dataframe tbody tr th:only-of-type {\n",
       "        vertical-align: middle;\n",
       "    }\n",
       "\n",
       "    .dataframe tbody tr th {\n",
       "        vertical-align: top;\n",
       "    }\n",
       "\n",
       "    .dataframe thead th {\n",
       "        text-align: right;\n",
       "    }\n",
       "</style>\n",
       "<table border=\"1\" class=\"dataframe\">\n",
       "  <thead>\n",
       "    <tr style=\"text-align: right;\">\n",
       "      <th></th>\n",
       "      <th>Sequence</th>\n",
       "      <th>Label</th>\n",
       "    </tr>\n",
       "  </thead>\n",
       "  <tbody>\n",
       "    <tr>\n",
       "      <th>0</th>\n",
       "      <td>TAACCC AACCCT ACCCTA CCCTAA CCTAAC CTAACC TAAC...</td>\n",
       "      <td>0</td>\n",
       "    </tr>\n",
       "    <tr>\n",
       "      <th>1</th>\n",
       "      <td>TGGGTA GGGTAT GGTATC GTATCA TATCAT ATCATG TCAT...</td>\n",
       "      <td>0</td>\n",
       "    </tr>\n",
       "    <tr>\n",
       "      <th>2</th>\n",
       "      <td>CCGCGC CGCGCC GCGCCG CGCCGG GCCGGC CCGGCG CGGC...</td>\n",
       "      <td>0</td>\n",
       "    </tr>\n",
       "    <tr>\n",
       "      <th>3</th>\n",
       "      <td>AGGTGT GGTGTA GTGTAC TGTACT GTACTG TACTGG ACTG...</td>\n",
       "      <td>0</td>\n",
       "    </tr>\n",
       "    <tr>\n",
       "      <th>4</th>\n",
       "      <td>TTTCTT TTCTTT TCTTTG CTTTGA TTTGAC TTGACC TGAC...</td>\n",
       "      <td>0</td>\n",
       "    </tr>\n",
       "    <tr>\n",
       "      <th>...</th>\n",
       "      <td>...</td>\n",
       "      <td>...</td>\n",
       "    </tr>\n",
       "    <tr>\n",
       "      <th>730739</th>\n",
       "      <td>TATCAT ATCATT TCATTT CATTTC ATTTCT TTTCTA TTCT...</td>\n",
       "      <td>0</td>\n",
       "    </tr>\n",
       "    <tr>\n",
       "      <th>730740</th>\n",
       "      <td>CTAGTA TAGTAC AGTACT GTACTT TACTTT ACTTTT CTTT...</td>\n",
       "      <td>0</td>\n",
       "    </tr>\n",
       "    <tr>\n",
       "      <th>730741</th>\n",
       "      <td>GCCATC CCATCA CATCAT ATCATT TCATTA CATTAA ATTA...</td>\n",
       "      <td>0</td>\n",
       "    </tr>\n",
       "    <tr>\n",
       "      <th>730742</th>\n",
       "      <td>GAACAT AACATC ACATCA CATCAC ATCACT TCACTT CACT...</td>\n",
       "      <td>0</td>\n",
       "    </tr>\n",
       "    <tr>\n",
       "      <th>730743</th>\n",
       "      <td>CTTTTT TTTTTT TTTTTG TTTTGT TTTGTA TTGTAT TGTA...</td>\n",
       "      <td>0</td>\n",
       "    </tr>\n",
       "  </tbody>\n",
       "</table>\n",
       "<p>730744 rows × 2 columns</p>\n",
       "</div>"
      ],
      "text/plain": [
       "                                                 Sequence  Label\n",
       "0       TAACCC AACCCT ACCCTA CCCTAA CCTAAC CTAACC TAAC...      0\n",
       "1       TGGGTA GGGTAT GGTATC GTATCA TATCAT ATCATG TCAT...      0\n",
       "2       CCGCGC CGCGCC GCGCCG CGCCGG GCCGGC CCGGCG CGGC...      0\n",
       "3       AGGTGT GGTGTA GTGTAC TGTACT GTACTG TACTGG ACTG...      0\n",
       "4       TTTCTT TTCTTT TCTTTG CTTTGA TTTGAC TTGACC TGAC...      0\n",
       "...                                                   ...    ...\n",
       "730739  TATCAT ATCATT TCATTT CATTTC ATTTCT TTTCTA TTCT...      0\n",
       "730740  CTAGTA TAGTAC AGTACT GTACTT TACTTT ACTTTT CTTT...      0\n",
       "730741  GCCATC CCATCA CATCAT ATCATT TCATTA CATTAA ATTA...      0\n",
       "730742  GAACAT AACATC ACATCA CATCAC ATCACT TCACTT CACT...      0\n",
       "730743  CTTTTT TTTTTT TTTTTG TTTTGT TTTGTA TTGTAT TGTA...      0\n",
       "\n",
       "[730744 rows x 2 columns]"
      ]
     },
     "execution_count": 84,
     "metadata": {},
     "output_type": "execute_result"
    }
   ],
   "source": [
    "df_temp"
   ]
  },
  {
   "cell_type": "code",
   "execution_count": 85,
   "metadata": {},
   "outputs": [],
   "source": [
    "df_temp.to_csv(data_save_tsv, sep='\\t', index=False)"
   ]
  },
  {
   "cell_type": "code",
   "execution_count": 2,
   "metadata": {},
   "outputs": [
    {
     "name": "stdout",
     "output_type": "stream",
     "text": [
      "chr10\n",
      "chr10 (799581, 2)\n",
      "chr11\n",
      "chr11 (807203, 2)\n",
      "chr12\n",
      "chr12 (798831, 2)\n",
      "chr13\n",
      "chr13 (587901, 2)\n",
      "chr14\n",
      "chr14 (543413, 2)\n",
      "chr15\n",
      "chr15 (507849, 2)\n",
      "chr16\n",
      "chr16 (490838, 2)\n",
      "chr17\n",
      "chr17 (497523, 2)\n",
      "chr18\n",
      "chr18 (480535, 2)\n",
      "chr19\n",
      "chr19 (350645, 2)\n",
      "chr20\n",
      "chr20 (383671, 2)\n",
      "chr22\n",
      "chr22 (234964, 2)\n",
      "chrX\n",
      "chrX (929360, 2)\n",
      "chrY\n",
      "chrY (158489, 2)\n"
     ]
    }
   ],
   "source": [
    "chr_names = ['chr10', 'chr11','chr12', 'chr13', 'chr14', 'chr15', 'chr16', 'chr17', 'chr18', 'chr19', 'chr20', 'chr22', 'chrX', 'chrY']\n",
    "\n",
    "for chr_name in chr_names:\n",
    "    print(chr_name)\n",
    "    data_file = \"/home/pdutta/Rekha_LabWork/Enhancer_Prediction_Project/Whole_genome_07142022/5.kmer_files/{}/{}.txt\".format(chr_name, chr_name)\n",
    "    data_save_tsv = \"/home/pdutta/Rekha_LabWork/Enhancer_Prediction_Project/Whole_genome_07142022/5.kmer_files/{}/dev.tsv\".format(chr_name)\n",
    "    df_temp = pd.read_csv(data_file, names=['Sequence'] )\n",
    "    df_temp['Label']=0\n",
    "    print(chr_name, df_temp.shape)\n",
    "    df_temp.to_csv(data_save_tsv, sep='\\t', index=False)"
   ]
  },
  {
   "cell_type": "code",
   "execution_count": null,
   "metadata": {},
   "outputs": [],
   "source": []
  },
  {
   "cell_type": "code",
   "execution_count": null,
   "metadata": {},
   "outputs": [],
   "source": []
  }
 ],
 "metadata": {
  "kernelspec": {
   "display_name": "Python 3 (ipykernel)",
   "language": "python",
   "name": "python3"
  },
  "language_info": {
   "codemirror_mode": {
    "name": "ipython",
    "version": 3
   },
   "file_extension": ".py",
   "mimetype": "text/x-python",
   "name": "python",
   "nbconvert_exporter": "python",
   "pygments_lexer": "ipython3",
   "version": "3.7.11"
  }
 },
 "nbformat": 4,
 "nbformat_minor": 4
}
