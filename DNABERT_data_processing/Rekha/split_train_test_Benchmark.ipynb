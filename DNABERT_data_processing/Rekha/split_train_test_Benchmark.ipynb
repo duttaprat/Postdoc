{
 "cells": [
  {
   "cell_type": "code",
   "execution_count": 30,
   "id": "cae134f6-644d-4dad-a08c-75fc72523c76",
   "metadata": {},
   "outputs": [],
   "source": [
    "import pandas as pd\n",
    "import sklearn\n",
    "from sklearn.utils import shuffle\n",
    "import os, tarfile\n",
    "import re\n",
    "import pandas as pd\n",
    "import numpy as np"
   ]
  },
  {
   "cell_type": "code",
   "execution_count": 2,
   "id": "c8c6079b-5ef3-4504-9f98-c15366f4a578",
   "metadata": {},
   "outputs": [],
   "source": [
    "enhancer_non_enhancer_ratio='1-1'\n",
    "sequence_length ='200'\n",
    "train_test_split = '80_20'"
   ]
  },
  {
   "cell_type": "code",
   "execution_count": 12,
   "id": "2942a4aa-8859-499e-9b80-20fabe442f24",
   "metadata": {},
   "outputs": [],
   "source": [
    "output_folder_path = \"/data/projects/Enhancer/Data_for_comparison/Benchmark_data\"\n",
    "data_file_path = \"/data/projects/Enhancer/Data_for_comparison/Benchmark_data/Merged_data/iEnhancer_Benchmark_dataset_merged.csv\""
   ]
  },
  {
   "cell_type": "code",
   "execution_count": 13,
   "id": "081b2dde-8ed5-42be-99e7-ed85223ba700",
   "metadata": {},
   "outputs": [
    {
     "data": {
      "text/plain": [
       "'/data/projects/Enhancer/Data_for_comparison/Benchmark_data'"
      ]
     },
     "execution_count": 13,
     "metadata": {},
     "output_type": "execute_result"
    }
   ],
   "source": [
    "output_folder_path"
   ]
  },
  {
   "cell_type": "code",
   "execution_count": 14,
   "id": "1248af1a-4cf1-4b2d-aba2-d28b94c864b0",
   "metadata": {},
   "outputs": [],
   "source": [
    "df = pd.read_csv(data_file_path, sep=\",\")"
   ]
  },
  {
   "cell_type": "code",
   "execution_count": 22,
   "id": "dd504550-7362-4c95-ba50-832e3030d76b",
   "metadata": {},
   "outputs": [
    {
     "data": {
      "text/html": [
       "<div>\n",
       "<style scoped>\n",
       "    .dataframe tbody tr th:only-of-type {\n",
       "        vertical-align: middle;\n",
       "    }\n",
       "\n",
       "    .dataframe tbody tr th {\n",
       "        vertical-align: top;\n",
       "    }\n",
       "\n",
       "    .dataframe thead th {\n",
       "        text-align: right;\n",
       "    }\n",
       "</style>\n",
       "<table border=\"1\" class=\"dataframe\">\n",
       "  <thead>\n",
       "    <tr style=\"text-align: right;\">\n",
       "      <th></th>\n",
       "      <th>kmers</th>\n",
       "      <th>Label</th>\n",
       "    </tr>\n",
       "  </thead>\n",
       "  <tbody>\n",
       "    <tr>\n",
       "      <th>0</th>\n",
       "      <td>GCCCTC CCCTCA CCTCAC CTCACA TCACAT CACATT ACAT...</td>\n",
       "      <td>1</td>\n",
       "    </tr>\n",
       "    <tr>\n",
       "      <th>1</th>\n",
       "      <td>GAGCAG AGCAGG GCAGGA CAGGAG AGGAGG GGAGGC GAGG...</td>\n",
       "      <td>1</td>\n",
       "    </tr>\n",
       "    <tr>\n",
       "      <th>2</th>\n",
       "      <td>CCTCTG CTCTGC TCTGCT CTGCTG TGCTGA GCTGAG CTGA...</td>\n",
       "      <td>1</td>\n",
       "    </tr>\n",
       "    <tr>\n",
       "      <th>3</th>\n",
       "      <td>ACAGCC CAGCCT AGCCTT GCCTTA CCTTAA CTTAAA TTAA...</td>\n",
       "      <td>1</td>\n",
       "    </tr>\n",
       "    <tr>\n",
       "      <th>4</th>\n",
       "      <td>TGCAGT GCAGTG CAGTGC AGTGCC GTGCCT TGCCTA GCCT...</td>\n",
       "      <td>1</td>\n",
       "    </tr>\n",
       "    <tr>\n",
       "      <th>...</th>\n",
       "      <td>...</td>\n",
       "      <td>...</td>\n",
       "    </tr>\n",
       "    <tr>\n",
       "      <th>2960</th>\n",
       "      <td>TGAGGA GAGGAC AGGACC GGACCT GACCTA ACCTAC CCTA...</td>\n",
       "      <td>0</td>\n",
       "    </tr>\n",
       "    <tr>\n",
       "      <th>2961</th>\n",
       "      <td>ACTATA CTATAC TATACT ATACTT TACTTT ACTTTA CTTT...</td>\n",
       "      <td>0</td>\n",
       "    </tr>\n",
       "    <tr>\n",
       "      <th>2962</th>\n",
       "      <td>CATGTA ATGTAT TGTATG GTATGC TATGCA ATGCAT TGCA...</td>\n",
       "      <td>0</td>\n",
       "    </tr>\n",
       "    <tr>\n",
       "      <th>2963</th>\n",
       "      <td>AACTCT ACTCTC CTCTCA TCTCAT CTCATA TCATAT CATA...</td>\n",
       "      <td>0</td>\n",
       "    </tr>\n",
       "    <tr>\n",
       "      <th>2964</th>\n",
       "      <td>AAGGAC AGGACA GGACAA GACAAG ACAAGC CAAGCT AAGC...</td>\n",
       "      <td>0</td>\n",
       "    </tr>\n",
       "  </tbody>\n",
       "</table>\n",
       "<p>2965 rows × 2 columns</p>\n",
       "</div>"
      ],
      "text/plain": [
       "                                                  kmers  Label\n",
       "0     GCCCTC CCCTCA CCTCAC CTCACA TCACAT CACATT ACAT...      1\n",
       "1     GAGCAG AGCAGG GCAGGA CAGGAG AGGAGG GGAGGC GAGG...      1\n",
       "2     CCTCTG CTCTGC TCTGCT CTGCTG TGCTGA GCTGAG CTGA...      1\n",
       "3     ACAGCC CAGCCT AGCCTT GCCTTA CCTTAA CTTAAA TTAA...      1\n",
       "4     TGCAGT GCAGTG CAGTGC AGTGCC GTGCCT TGCCTA GCCT...      1\n",
       "...                                                 ...    ...\n",
       "2960  TGAGGA GAGGAC AGGACC GGACCT GACCTA ACCTAC CCTA...      0\n",
       "2961  ACTATA CTATAC TATACT ATACTT TACTTT ACTTTA CTTT...      0\n",
       "2962  CATGTA ATGTAT TGTATG GTATGC TATGCA ATGCAT TGCA...      0\n",
       "2963  AACTCT ACTCTC CTCTCA TCTCAT CTCATA TCATAT CATA...      0\n",
       "2964  AAGGAC AGGACA GGACAA GACAAG ACAAGC CAAGCT AAGC...      0\n",
       "\n",
       "[2965 rows x 2 columns]"
      ]
     },
     "execution_count": 22,
     "metadata": {},
     "output_type": "execute_result"
    }
   ],
   "source": [
    "df"
   ]
  },
  {
   "cell_type": "code",
   "execution_count": 16,
   "id": "5020fab0-98ef-40c0-a29e-76baa2329976",
   "metadata": {},
   "outputs": [
    {
     "data": {
      "text/plain": [
       "Label\n",
       "0    1483\n",
       "1    1482\n",
       "dtype: int64"
      ]
     },
     "execution_count": 16,
     "metadata": {},
     "output_type": "execute_result"
    }
   ],
   "source": [
    "df.groupby(['Label']).size()"
   ]
  },
  {
   "cell_type": "code",
   "execution_count": 17,
   "id": "7c92842c-6a02-4554-b5d2-18678241a0b0",
   "metadata": {},
   "outputs": [],
   "source": [
    "all_data = shuffle(df).reset_index(drop=True)"
   ]
  },
  {
   "cell_type": "code",
   "execution_count": 23,
   "id": "a783fa2e-e117-4fcc-a094-904bc0b6aa64",
   "metadata": {},
   "outputs": [
    {
     "data": {
      "text/html": [
       "<div>\n",
       "<style scoped>\n",
       "    .dataframe tbody tr th:only-of-type {\n",
       "        vertical-align: middle;\n",
       "    }\n",
       "\n",
       "    .dataframe tbody tr th {\n",
       "        vertical-align: top;\n",
       "    }\n",
       "\n",
       "    .dataframe thead th {\n",
       "        text-align: right;\n",
       "    }\n",
       "</style>\n",
       "<table border=\"1\" class=\"dataframe\">\n",
       "  <thead>\n",
       "    <tr style=\"text-align: right;\">\n",
       "      <th></th>\n",
       "      <th>kmers</th>\n",
       "      <th>Label</th>\n",
       "    </tr>\n",
       "  </thead>\n",
       "  <tbody>\n",
       "    <tr>\n",
       "      <th>0</th>\n",
       "      <td>AGAAAC GAAACC AAACCT AACCTG ACCTGG CCTGGA CTGG...</td>\n",
       "      <td>1</td>\n",
       "    </tr>\n",
       "    <tr>\n",
       "      <th>1</th>\n",
       "      <td>TCTCTG CTCTGT TCTGTT CTGTTC TGTTCA GTTCAC TTCA...</td>\n",
       "      <td>0</td>\n",
       "    </tr>\n",
       "    <tr>\n",
       "      <th>2</th>\n",
       "      <td>AGTGAC GTGACG TGACGT GACGTT ACGTTC CGTTCA GTTC...</td>\n",
       "      <td>0</td>\n",
       "    </tr>\n",
       "    <tr>\n",
       "      <th>3</th>\n",
       "      <td>AGAAAA GAAAAG AAAAGT AAAGTG AAGTGT AGTGTA GTGT...</td>\n",
       "      <td>0</td>\n",
       "    </tr>\n",
       "    <tr>\n",
       "      <th>4</th>\n",
       "      <td>AATTTA ATTTAG TTTAGA TTAGAA TAGAAT AGAATA GAAT...</td>\n",
       "      <td>0</td>\n",
       "    </tr>\n",
       "    <tr>\n",
       "      <th>...</th>\n",
       "      <td>...</td>\n",
       "      <td>...</td>\n",
       "    </tr>\n",
       "    <tr>\n",
       "      <th>2960</th>\n",
       "      <td>GATCCA ATCCAG TCCAGT CCAGTG CAGTGG AGTGGG GTGG...</td>\n",
       "      <td>0</td>\n",
       "    </tr>\n",
       "    <tr>\n",
       "      <th>2961</th>\n",
       "      <td>CTTTTC TTTTCT TTTCTC TTCTCC TCTCCA CTCCAC TCCA...</td>\n",
       "      <td>1</td>\n",
       "    </tr>\n",
       "    <tr>\n",
       "      <th>2962</th>\n",
       "      <td>TGAGCC GAGCCA AGCCAT GCCATA CCATAC CATACA ATAC...</td>\n",
       "      <td>0</td>\n",
       "    </tr>\n",
       "    <tr>\n",
       "      <th>2963</th>\n",
       "      <td>GAACTC AACTCT ACTCTC CTCTCT TCTCTC CTCTCG TCTC...</td>\n",
       "      <td>1</td>\n",
       "    </tr>\n",
       "    <tr>\n",
       "      <th>2964</th>\n",
       "      <td>TCTCTA CTCTAC TCTACT CTACTG TACTGT ACTGTT CTGT...</td>\n",
       "      <td>0</td>\n",
       "    </tr>\n",
       "  </tbody>\n",
       "</table>\n",
       "<p>2965 rows × 2 columns</p>\n",
       "</div>"
      ],
      "text/plain": [
       "                                                  kmers  Label\n",
       "0     AGAAAC GAAACC AAACCT AACCTG ACCTGG CCTGGA CTGG...      1\n",
       "1     TCTCTG CTCTGT TCTGTT CTGTTC TGTTCA GTTCAC TTCA...      0\n",
       "2     AGTGAC GTGACG TGACGT GACGTT ACGTTC CGTTCA GTTC...      0\n",
       "3     AGAAAA GAAAAG AAAAGT AAAGTG AAGTGT AGTGTA GTGT...      0\n",
       "4     AATTTA ATTTAG TTTAGA TTAGAA TAGAAT AGAATA GAAT...      0\n",
       "...                                                 ...    ...\n",
       "2960  GATCCA ATCCAG TCCAGT CCAGTG CAGTGG AGTGGG GTGG...      0\n",
       "2961  CTTTTC TTTTCT TTTCTC TTCTCC TCTCCA CTCCAC TCCA...      1\n",
       "2962  TGAGCC GAGCCA AGCCAT GCCATA CCATAC CATACA ATAC...      0\n",
       "2963  GAACTC AACTCT ACTCTC CTCTCT TCTCTC CTCTCG TCTC...      1\n",
       "2964  TCTCTA CTCTAC TCTACT CTACTG TACTGT ACTGTT CTGT...      0\n",
       "\n",
       "[2965 rows x 2 columns]"
      ]
     },
     "execution_count": 23,
     "metadata": {},
     "output_type": "execute_result"
    }
   ],
   "source": [
    "all_data"
   ]
  },
  {
   "cell_type": "code",
   "execution_count": 33,
   "id": "e3df1c15-7e18-4313-bf16-1a000dac2646",
   "metadata": {},
   "outputs": [
    {
     "name": "stdout",
     "output_type": "stream",
     "text": [
      "(2520, 2) (445, 2)\n",
      "Label\n",
      "0    1270\n",
      "1    1250\n",
      "dtype: int64 Label\n",
      "0    213\n",
      "1    232\n",
      "dtype: int64\n"
     ]
    }
   ],
   "source": [
    "train, test = sklearn.model_selection.train_test_split(all_data, test_size=0.15)\n",
    "print (train.shape, test.shape)\n",
    "print(train.groupby(['Label']).size(), test.groupby(['Label']).size() )"
   ]
  },
  {
   "cell_type": "code",
   "execution_count": 35,
   "id": "0b338181-6b9d-4834-9c57-2b551b4542f9",
   "metadata": {},
   "outputs": [],
   "source": [
    "train.to_csv(output_folder_path+\"/train.tsv\", sep=\"\\t\", index=False)\n",
    "test.to_csv(output_folder_path+\"/dev.tsv\", sep=\"\\t\", index=False)"
   ]
  },
  {
   "cell_type": "code",
   "execution_count": null,
   "id": "014eac55-3cfb-4862-acf6-bcdced857d3a",
   "metadata": {},
   "outputs": [],
   "source": []
  },
  {
   "cell_type": "code",
   "execution_count": null,
   "id": "0eb89b00-20f8-45b4-892d-37ab2168beb1",
   "metadata": {},
   "outputs": [],
   "source": []
  }
 ],
 "metadata": {
  "kernelspec": {
   "display_name": "Python 3 (ipykernel)",
   "language": "python",
   "name": "python3"
  },
  "language_info": {
   "codemirror_mode": {
    "name": "ipython",
    "version": 3
   },
   "file_extension": ".py",
   "mimetype": "text/x-python",
   "name": "python",
   "nbconvert_exporter": "python",
   "pygments_lexer": "ipython3",
   "version": "3.10.9"
  }
 },
 "nbformat": 4,
 "nbformat_minor": 5
}
