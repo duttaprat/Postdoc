{
 "cells": [
  {
   "cell_type": "code",
   "execution_count": 1,
   "id": "cae134f6-644d-4dad-a08c-75fc72523c76",
   "metadata": {},
   "outputs": [],
   "source": [
    "import pandas as pd\n",
    "from sklearn.model_selection import train_test_split\n",
    "from sklearn.utils import shuffle\n",
    "import os, tarfile\n",
    "import re\n",
    "import pandas as pd\n",
    "import numpy as np"
   ]
  },
  {
   "cell_type": "code",
   "execution_count": 16,
   "id": "83487463-5f14-4ece-865f-e20464ea53ca",
   "metadata": {},
   "outputs": [],
   "source": [
    "data_path = \"/data/projects/Enhancer/New_Finetune_data_with_seqFeature-encodeFeature_raw_data/DNABERT_finetune_data_Dataset2.csv\""
   ]
  },
  {
   "cell_type": "code",
   "execution_count": 17,
   "id": "b007f6e0-6207-473f-ace7-9b49c012f833",
   "metadata": {},
   "outputs": [],
   "source": [
    "df = pd.read_csv(data_path , sep=\",\")"
   ]
  },
  {
   "cell_type": "code",
   "execution_count": 18,
   "id": "65a9d582-c60a-485d-b3cc-8d2886886044",
   "metadata": {},
   "outputs": [
    {
     "data": {
      "text/html": [
       "<div>\n",
       "<style scoped>\n",
       "    .dataframe tbody tr th:only-of-type {\n",
       "        vertical-align: middle;\n",
       "    }\n",
       "\n",
       "    .dataframe tbody tr th {\n",
       "        vertical-align: top;\n",
       "    }\n",
       "\n",
       "    .dataframe thead th {\n",
       "        text-align: right;\n",
       "    }\n",
       "</style>\n",
       "<table border=\"1\" class=\"dataframe\">\n",
       "  <thead>\n",
       "    <tr style=\"text-align: right;\">\n",
       "      <th></th>\n",
       "      <th>Sequence</th>\n",
       "      <th>Label</th>\n",
       "    </tr>\n",
       "  </thead>\n",
       "  <tbody>\n",
       "    <tr>\n",
       "      <th>0</th>\n",
       "      <td>TATGGA ATGGAG TGGAGA GGAGAG GAGAGG AGAGGA GAGG...</td>\n",
       "      <td>1</td>\n",
       "    </tr>\n",
       "    <tr>\n",
       "      <th>1</th>\n",
       "      <td>CAGCCT AGCCTC GCCTCT CCTCTA CTCTAG TCTAGG CTAG...</td>\n",
       "      <td>1</td>\n",
       "    </tr>\n",
       "    <tr>\n",
       "      <th>2</th>\n",
       "      <td>ACCCAC CCCACA CCACAC CACACT ACACTC CACTCA ACTC...</td>\n",
       "      <td>1</td>\n",
       "    </tr>\n",
       "    <tr>\n",
       "      <th>3</th>\n",
       "      <td>TCACTT CACTTC ACTTCA CTTCAG TTCAGT TCAGTG CAGT...</td>\n",
       "      <td>1</td>\n",
       "    </tr>\n",
       "    <tr>\n",
       "      <th>4</th>\n",
       "      <td>GCTGCA CTGCAA TGCAAA GCAAAG CAAAGT AAAGTG AAGT...</td>\n",
       "      <td>1</td>\n",
       "    </tr>\n",
       "  </tbody>\n",
       "</table>\n",
       "</div>"
      ],
      "text/plain": [
       "                                            Sequence  Label\n",
       "0  TATGGA ATGGAG TGGAGA GGAGAG GAGAGG AGAGGA GAGG...      1\n",
       "1  CAGCCT AGCCTC GCCTCT CCTCTA CTCTAG TCTAGG CTAG...      1\n",
       "2  ACCCAC CCCACA CCACAC CACACT ACACTC CACTCA ACTC...      1\n",
       "3  TCACTT CACTTC ACTTCA CTTCAG TTCAGT TCAGTG CAGT...      1\n",
       "4  GCTGCA CTGCAA TGCAAA GCAAAG CAAAGT AAAGTG AAGT...      1"
      ]
     },
     "execution_count": 18,
     "metadata": {},
     "output_type": "execute_result"
    }
   ],
   "source": [
    "df.head()"
   ]
  },
  {
   "cell_type": "code",
   "execution_count": 20,
   "id": "2942a4aa-8859-499e-9b80-20fabe442f24",
   "metadata": {},
   "outputs": [],
   "source": [
    "output_folder_path = \"/data/projects/Enhancer/Finetuned_data/CPG2_KMer_all\""
   ]
  },
  {
   "cell_type": "code",
   "execution_count": 21,
   "id": "081b2dde-8ed5-42be-99e7-ed85223ba700",
   "metadata": {},
   "outputs": [
    {
     "data": {
      "text/plain": [
       "'/data/projects/Enhancer/Finetuned_data/CPG2_KMer_all'"
      ]
     },
     "execution_count": 21,
     "metadata": {},
     "output_type": "execute_result"
    }
   ],
   "source": [
    "output_folder_path"
   ]
  },
  {
   "cell_type": "code",
   "execution_count": 22,
   "id": "7ce12a4c-4cb2-4bd4-aa70-adad849792a1",
   "metadata": {},
   "outputs": [],
   "source": [
    "if not os.path.exists(output_folder_path + '/Evaluation_data'):\n",
    "    os.makedirs(output_folder_path + '/Evaluation_data')"
   ]
  },
  {
   "cell_type": "code",
   "execution_count": 23,
   "id": "dd504550-7362-4c95-ba50-832e3030d76b",
   "metadata": {},
   "outputs": [
    {
     "data": {
      "text/html": [
       "<div>\n",
       "<style scoped>\n",
       "    .dataframe tbody tr th:only-of-type {\n",
       "        vertical-align: middle;\n",
       "    }\n",
       "\n",
       "    .dataframe tbody tr th {\n",
       "        vertical-align: top;\n",
       "    }\n",
       "\n",
       "    .dataframe thead th {\n",
       "        text-align: right;\n",
       "    }\n",
       "</style>\n",
       "<table border=\"1\" class=\"dataframe\">\n",
       "  <thead>\n",
       "    <tr style=\"text-align: right;\">\n",
       "      <th></th>\n",
       "      <th>Sequence</th>\n",
       "      <th>Label</th>\n",
       "    </tr>\n",
       "  </thead>\n",
       "  <tbody>\n",
       "    <tr>\n",
       "      <th>0</th>\n",
       "      <td>TATGGA ATGGAG TGGAGA GGAGAG GAGAGG AGAGGA GAGG...</td>\n",
       "      <td>1</td>\n",
       "    </tr>\n",
       "    <tr>\n",
       "      <th>1</th>\n",
       "      <td>CAGCCT AGCCTC GCCTCT CCTCTA CTCTAG TCTAGG CTAG...</td>\n",
       "      <td>1</td>\n",
       "    </tr>\n",
       "    <tr>\n",
       "      <th>2</th>\n",
       "      <td>ACCCAC CCCACA CCACAC CACACT ACACTC CACTCA ACTC...</td>\n",
       "      <td>1</td>\n",
       "    </tr>\n",
       "    <tr>\n",
       "      <th>3</th>\n",
       "      <td>TCACTT CACTTC ACTTCA CTTCAG TTCAGT TCAGTG CAGT...</td>\n",
       "      <td>1</td>\n",
       "    </tr>\n",
       "    <tr>\n",
       "      <th>4</th>\n",
       "      <td>GCTGCA CTGCAA TGCAAA GCAAAG CAAAGT AAAGTG AAGT...</td>\n",
       "      <td>1</td>\n",
       "    </tr>\n",
       "  </tbody>\n",
       "</table>\n",
       "</div>"
      ],
      "text/plain": [
       "                                            Sequence  Label\n",
       "0  TATGGA ATGGAG TGGAGA GGAGAG GAGAGG AGAGGA GAGG...      1\n",
       "1  CAGCCT AGCCTC GCCTCT CCTCTA CTCTAG TCTAGG CTAG...      1\n",
       "2  ACCCAC CCCACA CCACAC CACACT ACACTC CACTCA ACTC...      1\n",
       "3  TCACTT CACTTC ACTTCA CTTCAG TTCAGT TCAGTG CAGT...      1\n",
       "4  GCTGCA CTGCAA TGCAAA GCAAAG CAAAGT AAAGTG AAGT...      1"
      ]
     },
     "execution_count": 23,
     "metadata": {},
     "output_type": "execute_result"
    }
   ],
   "source": [
    "df.head()"
   ]
  },
  {
   "cell_type": "code",
   "execution_count": 24,
   "id": "5020fab0-98ef-40c0-a29e-76baa2329976",
   "metadata": {},
   "outputs": [
    {
     "data": {
      "text/plain": [
       "Label\n",
       "0     54156\n",
       "1    208372\n",
       "dtype: int64"
      ]
     },
     "execution_count": 24,
     "metadata": {},
     "output_type": "execute_result"
    }
   ],
   "source": [
    "df.groupby(['Label']).size()"
   ]
  },
  {
   "cell_type": "code",
   "execution_count": 25,
   "id": "7c92842c-6a02-4554-b5d2-18678241a0b0",
   "metadata": {},
   "outputs": [],
   "source": [
    "all_data = shuffle(df).reset_index(drop=True)"
   ]
  },
  {
   "cell_type": "code",
   "execution_count": 56,
   "id": "a783fa2e-e117-4fcc-a094-904bc0b6aa64",
   "metadata": {},
   "outputs": [
    {
     "data": {
      "text/plain": [
       "pandas.core.frame.DataFrame"
      ]
     },
     "execution_count": 56,
     "metadata": {},
     "output_type": "execute_result"
    }
   ],
   "source": [
    "type(all_data)"
   ]
  },
  {
   "cell_type": "code",
   "execution_count": 26,
   "id": "e3df1c15-7e18-4313-bf16-1a000dac2646",
   "metadata": {},
   "outputs": [
    {
     "name": "stdout",
     "output_type": "stream",
     "text": [
      "(210022, 2) (26253, 2) (26253, 2)\n",
      "Label\n",
      "0     43390\n",
      "1    166632\n",
      "dtype: int64 Label\n",
      "0     5399\n",
      "1    20854\n",
      "dtype: int64 Label\n",
      "0     5367\n",
      "1    20886\n",
      "dtype: int64\n"
     ]
    }
   ],
   "source": [
    "train, test = train_test_split(all_data, test_size=0.20)\n",
    "test, val = train_test_split(test, test_size=0.5)\n",
    "print (train.shape, test.shape, val.shape)\n",
    "print(train.groupby(['Label']).size(), test.groupby(['Label']).size() , val.groupby(['Label']).size())"
   ]
  },
  {
   "cell_type": "code",
   "execution_count": 27,
   "id": "0b338181-6b9d-4834-9c57-2b551b4542f9",
   "metadata": {},
   "outputs": [],
   "source": [
    "train.to_csv(output_folder_path+\"/train.tsv\", sep=\"\\t\", index=False)\n",
    "test.to_csv(output_folder_path+\"/dev.tsv\", sep=\"\\t\", index=False)\n",
    "val.to_csv(output_folder_path+\"/Evaluation_data/dev.tsv\", sep=\"\\t\", index=False)"
   ]
  },
  {
   "cell_type": "code",
   "execution_count": null,
   "id": "014eac55-3cfb-4862-acf6-bcdced857d3a",
   "metadata": {},
   "outputs": [],
   "source": []
  },
  {
   "cell_type": "code",
   "execution_count": null,
   "id": "0eb89b00-20f8-45b4-892d-37ab2168beb1",
   "metadata": {},
   "outputs": [],
   "source": []
  }
 ],
 "metadata": {
  "kernelspec": {
   "display_name": "Python 3 (ipykernel)",
   "language": "python",
   "name": "python3"
  },
  "language_info": {
   "codemirror_mode": {
    "name": "ipython",
    "version": 3
   },
   "file_extension": ".py",
   "mimetype": "text/x-python",
   "name": "python",
   "nbconvert_exporter": "python",
   "pygments_lexer": "ipython3",
   "version": "3.10.11"
  }
 },
 "nbformat": 4,
 "nbformat_minor": 5
}
