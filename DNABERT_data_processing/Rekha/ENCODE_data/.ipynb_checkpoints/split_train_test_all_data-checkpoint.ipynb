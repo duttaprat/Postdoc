{
 "cells": [
  {
   "cell_type": "code",
   "execution_count": 1,
   "id": "cae134f6-644d-4dad-a08c-75fc72523c76",
   "metadata": {},
   "outputs": [],
   "source": [
    "import pandas as pd\n",
    "from sklearn.model_selection import train_test_split\n",
    "from sklearn.utils import shuffle\n",
    "import os, tarfile\n",
    "import re\n",
    "import pandas as pd\n",
    "import numpy as np"
   ]
  },
  {
   "cell_type": "code",
   "execution_count": 2,
   "id": "83487463-5f14-4ece-865f-e20464ea53ca",
   "metadata": {},
   "outputs": [],
   "source": [
    "test_data_path = \"/data/projects/Enhancer/Data_for_prediction_with_top_features/Test_data_for_prediction_30.csv\"\n",
    "train_data_path = \"/data/projects/Enhancer/Data_for_prediction_with_top_features/Train_data_for_prediction_70.csv\""
   ]
  },
  {
   "cell_type": "code",
   "execution_count": null,
   "id": "b007f6e0-6207-473f-ace7-9b49c012f833",
   "metadata": {},
   "outputs": [],
   "source": [
    "df = pd.read_csv(train_data_path , sep=\",\")\n",
    "#df['Label'] = df['Label'].astype('int')"
   ]
  },
  {
   "cell_type": "code",
   "execution_count": null,
   "id": "65a9d582-c60a-485d-b3cc-8d2886886044",
   "metadata": {},
   "outputs": [],
   "source": [
    "df.head()"
   ]
  },
  {
   "cell_type": "code",
   "execution_count": null,
   "id": "2942a4aa-8859-499e-9b80-20fabe442f24",
   "metadata": {},
   "outputs": [],
   "source": [
    "output_folder_path = \"/data/projects/Enhancer/All_data\""
   ]
  },
  {
   "cell_type": "code",
   "execution_count": null,
   "id": "120cd3eb-ece3-4d50-a593-868afa79f673",
   "metadata": {},
   "outputs": [],
   "source": [
    "df_interest = df[['sequence', 'region']]\n",
    "df_interest"
   ]
  },
  {
   "cell_type": "code",
   "execution_count": null,
   "id": "846ee23e-fb3f-43d9-8e7e-6c68d2f8e5f2",
   "metadata": {},
   "outputs": [],
   "source": [
    "df_interest['Label'] = np.where(df_interest['region'] == 'enhancer', 1, 0)\n",
    "df_interest"
   ]
  },
  {
   "cell_type": "code",
   "execution_count": null,
   "id": "d26f472d-2568-454c-876d-cabb80eab08d",
   "metadata": {},
   "outputs": [],
   "source": [
    "df_interest.rename(columns={'sequence': 'Sequence'}, inplace=True)\n",
    "df_interest.drop('region', axis=1, inplace=True)\n",
    "df_interest"
   ]
  },
  {
   "cell_type": "code",
   "execution_count": null,
   "id": "a044a32e-4623-420e-a43c-97fb24d54a84",
   "metadata": {},
   "outputs": [],
   "source": [
    "df_interest.to_csv(output_folder_path+\"/train.tsv\", sep=\"\\t\", index=False)"
   ]
  },
  {
   "cell_type": "code",
   "execution_count": null,
   "id": "0eb89b00-20f8-45b4-892d-37ab2168beb1",
   "metadata": {},
   "outputs": [],
   "source": []
  }
 ],
 "metadata": {
  "kernelspec": {
   "display_name": "Python 3 (ipykernel)",
   "language": "python",
   "name": "python3"
  },
  "language_info": {
   "codemirror_mode": {
    "name": "ipython",
    "version": 3
   },
   "file_extension": ".py",
   "mimetype": "text/x-python",
   "name": "python",
   "nbconvert_exporter": "python",
   "pygments_lexer": "ipython3",
   "version": "3.10.11"
  }
 },
 "nbformat": 4,
 "nbformat_minor": 5
}
