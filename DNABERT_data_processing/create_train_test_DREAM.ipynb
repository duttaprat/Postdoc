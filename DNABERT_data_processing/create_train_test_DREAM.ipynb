{
 "cells": [
  {
   "cell_type": "code",
   "execution_count": 10,
   "id": "cdd0a298-de34-4915-8bae-192d11cb06ca",
   "metadata": {},
   "outputs": [],
   "source": [
    "import os, tarfile\n",
    "import re\n",
    "import pandas as pd\n",
    "import numpy as np\n",
    "import zipfile, gzip\n",
    "import pandas as pd\n",
    "from sklearn.model_selection import train_test_split\n",
    "from sklearn.utils import shuffle"
   ]
  },
  {
   "cell_type": "code",
   "execution_count": 11,
   "id": "8b692130-c4d2-4248-b0d8-43649e615755",
   "metadata": {},
   "outputs": [],
   "source": [
    "pd.set_option('display.max_columns', None)\n",
    "pd.options.display.max_colwidth =50"
   ]
  },
  {
   "cell_type": "code",
   "execution_count": 21,
   "id": "da105da3-29e7-4fce-b9d1-9da69096fdb0",
   "metadata": {},
   "outputs": [],
   "source": [
    "DATA_PATH = \"/home/pdutta/Data/DREAM_challenge/Training_folder/train_Q1_Q3.csv\"\n",
    "TEST_PATH = \"/home/pdutta/Data/Rekha_data/Enhancer/1:5/dev.tsv\""
   ]
  },
  {
   "cell_type": "code",
   "execution_count": 22,
   "id": "8269260f-ccba-4d08-aa85-ce0ec59f9dd2",
   "metadata": {},
   "outputs": [],
   "source": [
    "train_csv  =  pd.read_csv(DATA_PATH , index_col=[0])"
   ]
  },
  {
   "cell_type": "code",
   "execution_count": 23,
   "id": "633fc2c3-17d1-404e-990a-e7c4c893614c",
   "metadata": {},
   "outputs": [
    {
     "data": {
      "text/html": [
       "<div>\n",
       "<style scoped>\n",
       "    .dataframe tbody tr th:only-of-type {\n",
       "        vertical-align: middle;\n",
       "    }\n",
       "\n",
       "    .dataframe tbody tr th {\n",
       "        vertical-align: top;\n",
       "    }\n",
       "\n",
       "    .dataframe thead th {\n",
       "        text-align: right;\n",
       "    }\n",
       "</style>\n",
       "<table border=\"1\" class=\"dataframe\">\n",
       "  <thead>\n",
       "    <tr style=\"text-align: right;\">\n",
       "      <th></th>\n",
       "      <th>sequence</th>\n",
       "      <th>label</th>\n",
       "    </tr>\n",
       "  </thead>\n",
       "  <tbody>\n",
       "    <tr>\n",
       "      <th>0</th>\n",
       "      <td>TGCATT GCATTT CATTTT ATTTTT TTTTTT TTTTTT TTTT...</td>\n",
       "      <td>8.000000</td>\n",
       "    </tr>\n",
       "    <tr>\n",
       "      <th>1</th>\n",
       "      <td>TGCATT GCATTT CATTTT ATTTTT TTTTTT TTTTTT TTTT...</td>\n",
       "      <td>12.000000</td>\n",
       "    </tr>\n",
       "    <tr>\n",
       "      <th>2</th>\n",
       "      <td>TGCATT GCATTT CATTTT ATTTTT TTTTTT TTTTTT TTTT...</td>\n",
       "      <td>11.000000</td>\n",
       "    </tr>\n",
       "    <tr>\n",
       "      <th>3</th>\n",
       "      <td>TGCATT GCATTT CATTTT ATTTTT TTTTTT TTTTTT TTTT...</td>\n",
       "      <td>8.087311</td>\n",
       "    </tr>\n",
       "    <tr>\n",
       "      <th>4</th>\n",
       "      <td>TGCATT GCATTT CATTTT ATTTTT TTTTTT TTTTTT TTTT...</td>\n",
       "      <td>9.000000</td>\n",
       "    </tr>\n",
       "    <tr>\n",
       "      <th>...</th>\n",
       "      <td>...</td>\n",
       "      <td>...</td>\n",
       "    </tr>\n",
       "    <tr>\n",
       "      <th>3283720</th>\n",
       "      <td>TGCATT GCATTT CATTTT ATTTTT TTTTTT TTTTTT TTTT...</td>\n",
       "      <td>12.000000</td>\n",
       "    </tr>\n",
       "    <tr>\n",
       "      <th>3283721</th>\n",
       "      <td>TGCATT GCATTT CATTTT ATTTTT TTTTTT TTTTTT TTTT...</td>\n",
       "      <td>8.513264</td>\n",
       "    </tr>\n",
       "    <tr>\n",
       "      <th>3283722</th>\n",
       "      <td>TGCATT GCATTT CATTTT ATTTTT TTTTTT TTTTTT TTTT...</td>\n",
       "      <td>10.000000</td>\n",
       "    </tr>\n",
       "    <tr>\n",
       "      <th>3283723</th>\n",
       "      <td>TGCATT GCATTT CATTTT ATTTTT TTTTTT TTTTTT TTTT...</td>\n",
       "      <td>11.000000</td>\n",
       "    </tr>\n",
       "    <tr>\n",
       "      <th>3283724</th>\n",
       "      <td>TGCATT GCATTT CATTTT ATTTTT TTTTTT TTTTTT TTTT...</td>\n",
       "      <td>12.000000</td>\n",
       "    </tr>\n",
       "  </tbody>\n",
       "</table>\n",
       "<p>3283725 rows × 2 columns</p>\n",
       "</div>"
      ],
      "text/plain": [
       "                                                  sequence      label\n",
       "0        TGCATT GCATTT CATTTT ATTTTT TTTTTT TTTTTT TTTT...   8.000000\n",
       "1        TGCATT GCATTT CATTTT ATTTTT TTTTTT TTTTTT TTTT...  12.000000\n",
       "2        TGCATT GCATTT CATTTT ATTTTT TTTTTT TTTTTT TTTT...  11.000000\n",
       "3        TGCATT GCATTT CATTTT ATTTTT TTTTTT TTTTTT TTTT...   8.087311\n",
       "4        TGCATT GCATTT CATTTT ATTTTT TTTTTT TTTTTT TTTT...   9.000000\n",
       "...                                                    ...        ...\n",
       "3283720  TGCATT GCATTT CATTTT ATTTTT TTTTTT TTTTTT TTTT...  12.000000\n",
       "3283721  TGCATT GCATTT CATTTT ATTTTT TTTTTT TTTTTT TTTT...   8.513264\n",
       "3283722  TGCATT GCATTT CATTTT ATTTTT TTTTTT TTTTTT TTTT...  10.000000\n",
       "3283723  TGCATT GCATTT CATTTT ATTTTT TTTTTT TTTTTT TTTT...  11.000000\n",
       "3283724  TGCATT GCATTT CATTTT ATTTTT TTTTTT TTTTTT TTTT...  12.000000\n",
       "\n",
       "[3283725 rows x 2 columns]"
      ]
     },
     "execution_count": 23,
     "metadata": {},
     "output_type": "execute_result"
    }
   ],
   "source": [
    "train_csv"
   ]
  },
  {
   "cell_type": "code",
   "execution_count": 26,
   "id": "6d21d321-a58c-493f-8d54-0de0fa4a6db5",
   "metadata": {},
   "outputs": [
    {
     "name": "stdout",
     "output_type": "stream",
     "text": [
      "label\n",
      "0.000000      286\n",
      "0.000387        1\n",
      "0.000734        1\n",
      "0.000890        1\n",
      "0.000910        1\n",
      "             ... \n",
      "16.999201       1\n",
      "16.999210       1\n",
      "16.999245       1\n",
      "16.999523       1\n",
      "17.000000    5909\n",
      "Length: 571333, dtype: int64\n"
     ]
    }
   ],
   "source": [
    "print(train_csv.groupby(['label']).size())"
   ]
  },
  {
   "cell_type": "code",
   "execution_count": 25,
   "id": "86981274-16dc-4444-ae56-df2b19be889c",
   "metadata": {},
   "outputs": [
    {
     "data": {
      "text/html": [
       "<div>\n",
       "<style scoped>\n",
       "    .dataframe tbody tr th:only-of-type {\n",
       "        vertical-align: middle;\n",
       "    }\n",
       "\n",
       "    .dataframe tbody tr th {\n",
       "        vertical-align: top;\n",
       "    }\n",
       "\n",
       "    .dataframe thead th {\n",
       "        text-align: right;\n",
       "    }\n",
       "</style>\n",
       "<table border=\"1\" class=\"dataframe\">\n",
       "  <thead>\n",
       "    <tr style=\"text-align: right;\">\n",
       "      <th></th>\n",
       "      <th>sequence</th>\n",
       "      <th>label</th>\n",
       "    </tr>\n",
       "  </thead>\n",
       "  <tbody>\n",
       "    <tr>\n",
       "      <th>0</th>\n",
       "      <td>TGCATT GCATTT CATTTT ATTTTT TTTTTT TTTTTT TTTT...</td>\n",
       "      <td>10.949941</td>\n",
       "    </tr>\n",
       "    <tr>\n",
       "      <th>1</th>\n",
       "      <td>TGCATT GCATTT CATTTT ATTTTT TTTTTT TTTTTT TTTT...</td>\n",
       "      <td>11.000000</td>\n",
       "    </tr>\n",
       "    <tr>\n",
       "      <th>2</th>\n",
       "      <td>TGCATT GCATTT CATTTT ATTTTT TTTTTT TTTTTT TTTT...</td>\n",
       "      <td>13.000000</td>\n",
       "    </tr>\n",
       "    <tr>\n",
       "      <th>3</th>\n",
       "      <td>TGCATT GCATTT CATTTT ATTTTT TTTTTT TTTTTT TTTT...</td>\n",
       "      <td>10.710841</td>\n",
       "    </tr>\n",
       "    <tr>\n",
       "      <th>4</th>\n",
       "      <td>TGCATT GCATTT CATTTT ATTTTT TTTTTT TTTTTT TTTT...</td>\n",
       "      <td>9.244822</td>\n",
       "    </tr>\n",
       "    <tr>\n",
       "      <th>5</th>\n",
       "      <td>TGCATT GCATTT CATTTT ATTTTT TTTTTT TTTTTT TTTT...</td>\n",
       "      <td>11.000000</td>\n",
       "    </tr>\n",
       "    <tr>\n",
       "      <th>6</th>\n",
       "      <td>TGCATT GCATTT CATTTT ATTTTT TTTTTT TTTTTT TTTT...</td>\n",
       "      <td>15.000000</td>\n",
       "    </tr>\n",
       "    <tr>\n",
       "      <th>7</th>\n",
       "      <td>TGCATT GCATTT CATTTT ATTTTT TTTTTT TTTTTT TTTT...</td>\n",
       "      <td>9.613097</td>\n",
       "    </tr>\n",
       "    <tr>\n",
       "      <th>8</th>\n",
       "      <td>TGCATT GCATTT CATTTT ATTTTT TTTTTT TTTTTT TTTT...</td>\n",
       "      <td>14.000000</td>\n",
       "    </tr>\n",
       "    <tr>\n",
       "      <th>9</th>\n",
       "      <td>TGCATT GCATTT CATTTT ATTTTT TTTTTT TTTTTT TTTT...</td>\n",
       "      <td>9.000000</td>\n",
       "    </tr>\n",
       "  </tbody>\n",
       "</table>\n",
       "</div>"
      ],
      "text/plain": [
       "                                            sequence      label\n",
       "0  TGCATT GCATTT CATTTT ATTTTT TTTTTT TTTTTT TTTT...  10.949941\n",
       "1  TGCATT GCATTT CATTTT ATTTTT TTTTTT TTTTTT TTTT...  11.000000\n",
       "2  TGCATT GCATTT CATTTT ATTTTT TTTTTT TTTTTT TTTT...  13.000000\n",
       "3  TGCATT GCATTT CATTTT ATTTTT TTTTTT TTTTTT TTTT...  10.710841\n",
       "4  TGCATT GCATTT CATTTT ATTTTT TTTTTT TTTTTT TTTT...   9.244822\n",
       "5  TGCATT GCATTT CATTTT ATTTTT TTTTTT TTTTTT TTTT...  11.000000\n",
       "6  TGCATT GCATTT CATTTT ATTTTT TTTTTT TTTTTT TTTT...  15.000000\n",
       "7  TGCATT GCATTT CATTTT ATTTTT TTTTTT TTTTTT TTTT...   9.613097\n",
       "8  TGCATT GCATTT CATTTT ATTTTT TTTTTT TTTTTT TTTT...  14.000000\n",
       "9  TGCATT GCATTT CATTTT ATTTTT TTTTTT TTTTTT TTTT...   9.000000"
      ]
     },
     "execution_count": 25,
     "metadata": {},
     "output_type": "execute_result"
    }
   ],
   "source": [
    "all_data = shuffle(train_csv).reset_index(drop=True)\n",
    "all_data.head(10)"
   ]
  },
  {
   "cell_type": "markdown",
   "id": "b1e854ea-2556-48e9-a8fe-eb9b508c7d26",
   "metadata": {},
   "source": [
    "# Creating train and testing dataset"
   ]
  },
  {
   "cell_type": "code",
   "execution_count": 27,
   "id": "0fd94088-8542-4675-850a-5850e95cb0ae",
   "metadata": {},
   "outputs": [
    {
     "name": "stdout",
     "output_type": "stream",
     "text": [
      "(2626980, 2) (656745, 2)\n"
     ]
    }
   ],
   "source": [
    "train, test = train_test_split(all_data, test_size=0.20)\n",
    "print (train.shape, test.shape)"
   ]
  },
  {
   "cell_type": "code",
   "execution_count": 28,
   "id": "3c073550-550d-4db9-a474-8bdf50ab0850",
   "metadata": {},
   "outputs": [],
   "source": [
    "train.to_csv(\"/home/pdutta/Data/DREAM_challenge/Training_folder/Train_Q1_Q3/train.tsv\", sep=\"\\t\", index=False)\n",
    "test.to_csv(\"/home/pdutta/Data/DREAM_challenge/Training_folder/Train_Q1_Q3/dev.tsv\", sep=\"\\t\", index=False)"
   ]
  },
  {
   "cell_type": "code",
   "execution_count": 9,
   "id": "d27f37d9-a1b9-45ab-a2f4-637f59be2453",
   "metadata": {},
   "outputs": [],
   "source": [
    "train.head(100).to_csv(\"/home/pdutta/Data/DREAM_challenge/Training_folder/temp/train.tsv\", sep=\"\\t\", index=False)\n",
    "test.head(100).to_csv(\"/home/pdutta/Data/DREAM_challenge/Training_folder/temp/dev.tsv\", sep=\"\\t\", index=False)"
   ]
  },
  {
   "cell_type": "code",
   "execution_count": null,
   "id": "df9ff7bf-d1af-4058-a6d1-4662b26e1d42",
   "metadata": {},
   "outputs": [],
   "source": []
  }
 ],
 "metadata": {
  "kernelspec": {
   "display_name": "Python 3",
   "language": "python",
   "name": "python3"
  },
  "language_info": {
   "codemirror_mode": {
    "name": "ipython",
    "version": 3
   },
   "file_extension": ".py",
   "mimetype": "text/x-python",
   "name": "python",
   "nbconvert_exporter": "python",
   "pygments_lexer": "ipython3",
   "version": "3.7.11"
  }
 },
 "nbformat": 4,
 "nbformat_minor": 5
}
