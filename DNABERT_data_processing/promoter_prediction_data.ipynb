{
 "cells": [
  {
   "cell_type": "code",
   "execution_count": 1,
   "id": "29a5bc77-87de-4b7f-85ec-fe45e6bc10f7",
   "metadata": {},
   "outputs": [],
   "source": [
    "import os, tarfile\n",
    "import re\n",
    "import pandas as pd\n",
    "import numpy as np\n",
    "import zipfile, gzip\n",
    "import pandas as pd\n",
    "from sklearn.model_selection import train_test_split"
   ]
  },
  {
   "cell_type": "code",
   "execution_count": 2,
   "id": "87b34985-00cb-44af-a83e-76c10390fd4d",
   "metadata": {},
   "outputs": [],
   "source": [
    "promoter_data_path = \"/mnt/data05/shared/pdutta_data/DNABERT_data/Promoter_prediction/Promoter_regions/\"\n",
    "non_promoter_data_path = \"/mnt/data05/shared/pdutta_data/DNABERT_data/Promoter_prediction/Non_promoter_regions/\"\n",
    "data_path= \"/mnt/data05/shared/pdutta_data/DNABERT_data/Promoter_prediction/\""
   ]
  },
  {
   "cell_type": "code",
   "execution_count": 106,
   "id": "24e42eb5-e5c9-4f45-ac8d-9d2366ca966f",
   "metadata": {},
   "outputs": [],
   "source": [
    "def seq2kmer(seq, k):\n",
    "    kmer = [seq[x:x+k] for x in range(len(seq)+1-k)]\n",
    "    #print (kmer)\n",
    "    kmers = \" \".join(kmer)\n",
    "    #print (kmers)\n",
    "    return kmers"
   ]
  },
  {
   "cell_type": "code",
   "execution_count": 61,
   "id": "40045d30-f517-461e-a5c0-907771abd319",
   "metadata": {},
   "outputs": [],
   "source": [
    "temp_seq = seq2kmer(\"NNUHIUEFHKAHDHEAJANEDHLAAFH\", 6 )"
   ]
  },
  {
   "cell_type": "code",
   "execution_count": 105,
   "id": "b467f9b6-815a-48e5-b67c-d3a3e20b75b0",
   "metadata": {},
   "outputs": [],
   "source": [
    "def df2kmer(dataframe, name):\n",
    "    temp_df= pd.DataFrame(columns= ['sequence','label' ])\n",
    "    for index, row in dataframe.iterrows():\n",
    "        temp_df.loc[index,['sequence']]= seq2kmer(row['sequence'], 6)\n",
    "        temp_df.loc[index,['label']]= row['label']\n",
    "        #print(temp)\n",
    "        # if(index==10):\n",
    "        #     break\n",
    "    temp_df.to_csv(data_path+name, index=False,  sep='\\t')\n",
    "    #return temp_df"
   ]
  },
  {
   "cell_type": "code",
   "execution_count": 95,
   "id": "aaf90ecd-1f38-4bf4-8d90-d11e140389d4",
   "metadata": {},
   "outputs": [],
   "source": [
    "def create_csv(path):\n",
    "    file_names = os.listdir(path)\n",
    "    for i in file_names:\n",
    "        print (i)\n",
    "    combined_csv_data = pd.concat([pd.read_csv(str(path)+str(f)) for f in file_names])\n",
    "    combined_csv_data.drop_duplicates().reset_index(drop=True)\n",
    "    print (combined_csv_data.shape)\n",
    "    return combined_csv_data"
   ]
  },
  {
   "cell_type": "code",
   "execution_count": 96,
   "id": "b3dda7c9-534c-44e1-bf8d-692d7bcb2a0f",
   "metadata": {},
   "outputs": [
    {
     "name": "stdout",
     "output_type": "stream",
     "text": [
      "chr10_promoter.csv\n",
      "chr11_promoter.csv\n",
      "chr12_promoter.csv\n",
      "chr13_promoter.csv\n",
      "chr14_promoter.csv\n",
      "chr15_promoter.csv\n",
      "chr16_promoter.csv\n",
      "chr17_promoter.csv\n",
      "chr18_promoter.csv\n",
      "chr19_promoter.csv\n",
      "chr1_promoter.csv\n",
      "chr20_promoter.csv\n",
      "chr21_promoter.csv\n",
      "chr22_promoter.csv\n",
      "chr2_promoter.csv\n",
      "chr3_promoter.csv\n",
      "chr4_promoter.csv\n",
      "chr5_promoter.csv\n",
      "chr6_promoter.csv\n",
      "chr7_promoter.csv\n",
      "chr8_promoter.csv\n",
      "chr9_promoter.csv\n",
      "chrX_promoter.csv\n",
      "chrY_promoter.csv\n",
      "(236975, 7)\n",
      "chr10_non_promoter.csv\n",
      "chr11_non_promoter.csv\n",
      "chr12_non_promoter.csv\n",
      "chr13_non_promoter.csv\n",
      "chr15_non_promoter.csv\n",
      "chr16_non_promoter.csv\n",
      "chr17_non_promoter.csv\n",
      "chr18_non_promoter.csv\n",
      "chr19_non_promoter.csv\n",
      "chr1_non_promoter.csv\n",
      "chr20_non_promoter.csv\n",
      "chr21_non_promoter.csv\n",
      "chr22_non_promoter.csv\n",
      "chr3_non_promoter.csv\n",
      "chr4_non_promoter.csv\n",
      "chr5_non_promoter.csv\n",
      "chr6_non_promoter.csv\n",
      "chr7_non_promoter.csv\n",
      "chr8_non_promoter.csv\n",
      "chr9_non_promoter.csv\n",
      "chrX_non_promoter.csv\n",
      "chrY_non_promoter.csv\n",
      "(8505343, 2)\n"
     ]
    }
   ],
   "source": [
    "promoter_csv = create_csv(promoter_data_path)\n",
    "non_promoter_csv = create_csv(non_promoter_data_path)"
   ]
  },
  {
   "cell_type": "code",
   "execution_count": 97,
   "id": "b42054ce-6825-409c-b3f6-361597ca9de1",
   "metadata": {},
   "outputs": [
    {
     "data": {
      "text/plain": [
       "Index(['Unnamed: 0', '0'], dtype='object')"
      ]
     },
     "execution_count": 97,
     "metadata": {},
     "output_type": "execute_result"
    }
   ],
   "source": [
    "non_promoter_csv.columns"
   ]
  },
  {
   "cell_type": "code",
   "execution_count": 98,
   "id": "0d953c22-7ce2-476e-99ea-82b3a54b40ca",
   "metadata": {},
   "outputs": [
    {
     "name": "stderr",
     "output_type": "stream",
     "text": [
      "/home/pdutta/anaconda3/envs/dnabert/lib/python3.6/site-packages/ipykernel_launcher.py:2: SettingWithCopyWarning: \n",
      "A value is trying to be set on a copy of a slice from a DataFrame.\n",
      "Try using .loc[row_indexer,col_indexer] = value instead\n",
      "\n",
      "See the caveats in the documentation: https://pandas.pydata.org/pandas-docs/stable/user_guide/indexing.html#returning-a-view-versus-a-copy\n",
      "  \n"
     ]
    },
    {
     "name": "stdout",
     "output_type": "stream",
     "text": [
      "                                            sequence  label\n",
      "0  GCTCAGAGGAGGCCCCCTGCCTTTTCATGCTCCACGCGTTCCTCCC...      1\n",
      "1  CGTGGACACAAGTGGGGTGGGGCACGTGAGGGTCTGGGGAATAGAA...      1\n",
      "2  ATTCTTGCATGTTTTTGGAAATTGCTTTTGCTTTTACTTTTGGTCG...      1\n",
      "3  GGGAATAAATATTTGAAGGGGGGTAACCAAAGAAGGTTTTGCTGCT...      1\n",
      "4  GCCAGCCTCCTCCCGGCCGTGAAAGACCCTCCTGTTCCCTGCCCTG...      1\n",
      "                                            sequence  label\n",
      "0  NNNNNNNNNNNNNNNNNNNNNNNNNNNNNNNNNNNNNNNNNNNNNN...      0\n",
      "1  cctaaccctaaccctaaccctaaccctaaccctaaccctaacccta...      0\n",
      "2  ctgcaaagaggaagaattttatttaccgtcgctgtggccccgagtt...      0\n",
      "3  cgccggcgcaggcgcggaggggcgcgCCCGAACCCGAACCCTAATG...      0\n",
      "4  TCCAGCCTTCCCGCTTCAACACCTGGACACATTCTGGAAAGTTTCC...      0\n"
     ]
    }
   ],
   "source": [
    "promoter_sequence = promoter_csv[['sequence']]\n",
    "promoter_sequence['label']= 1\n",
    "print (promoter_sequence.head())\n",
    "non_promoter_sequence = non_promoter_csv[['0']]\n",
    "non_promoter_sequence = non_promoter_sequence.rename(columns={'0': 'sequence'})\n",
    "non_promoter_sequence['label']= 0\n",
    "print (non_promoter_sequence.head())"
   ]
  },
  {
   "cell_type": "code",
   "execution_count": 99,
   "id": "7a5490ce-3b67-4b54-aab9-3a565258bae8",
   "metadata": {},
   "outputs": [
    {
     "name": "stdout",
     "output_type": "stream",
     "text": [
      "(236975, 2) (8505343, 2)\n"
     ]
    }
   ],
   "source": [
    "print (promoter_sequence.shape, non_promoter_sequence.shape)"
   ]
  },
  {
   "cell_type": "code",
   "execution_count": 101,
   "id": "0d602d6b-3de6-4568-b1e8-ff6d50e05592",
   "metadata": {},
   "outputs": [
    {
     "data": {
      "text/plain": [
       "(238150, 2)"
      ]
     },
     "execution_count": 101,
     "metadata": {},
     "output_type": "execute_result"
    }
   ],
   "source": [
    "non_promoter_sequence_frac = non_promoter_sequence.sample(frac=0.028).reset_index(drop=True)\n",
    "non_promoter_sequence_frac.shape"
   ]
  },
  {
   "cell_type": "code",
   "execution_count": null,
   "id": "13792626-510a-4775-a9de-4029b8140e64",
   "metadata": {},
   "outputs": [],
   "source": []
  },
  {
   "cell_type": "code",
   "execution_count": 102,
   "id": "1dbb7de3-9fc1-4fe9-a4bf-43368a3a1fca",
   "metadata": {},
   "outputs": [],
   "source": [
    "all_data = pd.concat([promoter_sequence, non_promoter_sequence_frac], ignore_index=True)\n",
    "train, test = train_test_split(all_data, test_size=0.3)\n",
    "dev, test= train_test_split(test, test_size=0.5)\n",
    "train.reset_index(drop=True, inplace=True)\n",
    "test.reset_index(drop=True, inplace=True)\n",
    "dev.reset_index(drop=True, inplace=True)"
   ]
  },
  {
   "cell_type": "code",
   "execution_count": 103,
   "id": "284a6c2c-3bd5-475f-b687-c77ada604637",
   "metadata": {},
   "outputs": [
    {
     "name": "stdout",
     "output_type": "stream",
     "text": [
      "(332587, 2) (71269, 2) (71269, 2)\n"
     ]
    }
   ],
   "source": [
    "print (train.shape, test.shape, dev.shape)"
   ]
  },
  {
   "cell_type": "code",
   "execution_count": 79,
   "id": "8eb9d670-79b0-463c-9217-1529ebb41ed1",
   "metadata": {},
   "outputs": [
    {
     "data": {
      "text/html": [
       "<div>\n",
       "<style scoped>\n",
       "    .dataframe tbody tr th:only-of-type {\n",
       "        vertical-align: middle;\n",
       "    }\n",
       "\n",
       "    .dataframe tbody tr th {\n",
       "        vertical-align: top;\n",
       "    }\n",
       "\n",
       "    .dataframe thead th {\n",
       "        text-align: right;\n",
       "    }\n",
       "</style>\n",
       "<table border=\"1\" class=\"dataframe\">\n",
       "  <thead>\n",
       "    <tr style=\"text-align: right;\">\n",
       "      <th></th>\n",
       "      <th>sequence</th>\n",
       "      <th>label</th>\n",
       "    </tr>\n",
       "  </thead>\n",
       "  <tbody>\n",
       "    <tr>\n",
       "      <th>0</th>\n",
       "      <td>atggcagctgtaagcatagggtatggaaatacagaggaggggcatc...</td>\n",
       "      <td>1</td>\n",
       "    </tr>\n",
       "    <tr>\n",
       "      <th>1</th>\n",
       "      <td>tttcctggagggaatggtttatacactaaatttcagagtatgactg...</td>\n",
       "      <td>0</td>\n",
       "    </tr>\n",
       "    <tr>\n",
       "      <th>2</th>\n",
       "      <td>gctcaaaggggcccaggtacagctcaatctgccactctagagggct...</td>\n",
       "      <td>0</td>\n",
       "    </tr>\n",
       "    <tr>\n",
       "      <th>3</th>\n",
       "      <td>AAATAAGTGAACCACCTGGAAGCTATTAAGAATTTAAACAAAAATT...</td>\n",
       "      <td>0</td>\n",
       "    </tr>\n",
       "    <tr>\n",
       "      <th>4</th>\n",
       "      <td>TCTCTGCCTTCCTTCCTTGTATGTGACAGCCCTTGGTGGCCAGGCC...</td>\n",
       "      <td>1</td>\n",
       "    </tr>\n",
       "  </tbody>\n",
       "</table>\n",
       "</div>"
      ],
      "text/plain": [
       "                                            sequence  label\n",
       "0  atggcagctgtaagcatagggtatggaaatacagaggaggggcatc...      1\n",
       "1  tttcctggagggaatggtttatacactaaatttcagagtatgactg...      0\n",
       "2  gctcaaaggggcccaggtacagctcaatctgccactctagagggct...      0\n",
       "3  AAATAAGTGAACCACCTGGAAGCTATTAAGAATTTAAACAAAAATT...      0\n",
       "4  TCTCTGCCTTCCTTCCTTGTATGTGACAGCCCTTGGTGGCCAGGCC...      1"
      ]
     },
     "execution_count": 79,
     "metadata": {},
     "output_type": "execute_result"
    }
   ],
   "source": [
    "train.head()"
   ]
  },
  {
   "cell_type": "code",
   "execution_count": 107,
   "id": "9c41e020-98e5-4c13-8d79-e5a9ce989c8f",
   "metadata": {},
   "outputs": [],
   "source": [
    "df2kmer(train, \"train.tsv\")\n",
    "df2kmer(test, \"test.tsv\")\n",
    "df2kmer(dev,\"dev.tsv\")"
   ]
  },
  {
   "cell_type": "code",
   "execution_count": null,
   "id": "2a5cb8d2-8319-48e0-bb7c-d49f518d9f89",
   "metadata": {},
   "outputs": [],
   "source": []
  }
 ],
 "metadata": {
  "kernelspec": {
   "display_name": "Python 3 (ipykernel)",
   "language": "python",
   "name": "python3"
  },
  "language_info": {
   "codemirror_mode": {
    "name": "ipython",
    "version": 3
   },
   "file_extension": ".py",
   "mimetype": "text/x-python",
   "name": "python",
   "nbconvert_exporter": "python",
   "pygments_lexer": "ipython3",
   "version": "3.7.11"
  }
 },
 "nbformat": 4,
 "nbformat_minor": 5
}
