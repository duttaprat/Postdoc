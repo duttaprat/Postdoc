{
 "cells": [
  {
   "cell_type": "code",
   "execution_count": 1,
   "id": "74f5c17d-902f-4b84-9ddb-4e2580947eb7",
   "metadata": {},
   "outputs": [],
   "source": [
    "import os\n",
    "import numpy as np\n",
    "import pandas as pd\n",
    "import matplotlib.pyplot as plt\n",
    "import plotly.graph_objects as go\n",
    "import seaborn as sns"
   ]
  },
  {
   "cell_type": "code",
   "execution_count": 2,
   "id": "97d63d8c-364e-4af6-8875-2cd22c27dfec",
   "metadata": {},
   "outputs": [],
   "source": [
    "attention_score_path = \"/data/projects/Enhancer/DNABERT_Output/Visualization_Enhancer_Encode/Predictions/atten_score200.npy\"\n",
    "prediction_path = \"/data/projects/Enhancer/DNABERT_Output/Visualization_Enhancer_Encode/Predictions/pred_results.npy\"\n",
    "data_path = \"/data/projects/Enhancer/Finetuned_data/Consensus_filter_1/Visualization/dev.tsv\"\n",
    "raw_data_path = \"/data/projects/Enhancer/Finetuned_data/Consensus_filter_1/RF_dev.tsv\""
   ]
  },
  {
   "cell_type": "code",
   "execution_count": 3,
   "id": "e14bdd65-dc30-4c5a-adfc-b7092c77725e",
   "metadata": {},
   "outputs": [],
   "source": [
    "attention_data = np.load(attention_score_path)\n",
    "pred_result = np.load(prediction_path)\n",
    "data = pd.read_csv(data_path, sep=\"\\t\") \n",
    "raw_data = pd.read_csv(raw_data_path, sep=\"\\t\")"
   ]
  },
  {
   "cell_type": "code",
   "execution_count": 4,
   "id": "602053e1-573a-4caf-a1f7-385580992365",
   "metadata": {},
   "outputs": [
    {
     "data": {
      "text/plain": [
       "array([0.80196536, 0.00386043, 0.1981992 , ..., 0.21390572, 0.39133212,\n",
       "       0.8598932 ], dtype=float32)"
      ]
     },
     "execution_count": 4,
     "metadata": {},
     "output_type": "execute_result"
    }
   ],
   "source": [
    "pred_result"
   ]
  },
  {
   "cell_type": "code",
   "execution_count": 5,
   "id": "608e9922-eb4a-4431-a959-790419629f0f",
   "metadata": {},
   "outputs": [
    {
     "data": {
      "text/plain": [
       "array([[0.15736438, 0.12613323, 0.12205527, ..., 0.08286749, 0.09156235,\n",
       "        0.1009498 ],\n",
       "       [0.0706074 , 0.06797632, 0.07054477, ..., 0.04955077, 0.04924984,\n",
       "        0.05282408],\n",
       "       [0.12788138, 0.13338041, 0.12745156, ..., 0.05847935, 0.06300342,\n",
       "        0.08041372],\n",
       "       ...,\n",
       "       [0.13845803, 0.12782378, 0.12814937, ..., 0.08183175, 0.08405915,\n",
       "        0.07355097],\n",
       "       [0.06446469, 0.09207337, 0.08236827, ..., 0.0796929 , 0.08804073,\n",
       "        0.11264496],\n",
       "       [0.0781696 , 0.08220336, 0.08146374, ..., 0.06815664, 0.07253033,\n",
       "        0.09001699]])"
      ]
     },
     "execution_count": 5,
     "metadata": {},
     "output_type": "execute_result"
    }
   ],
   "source": [
    "attention_data"
   ]
  },
  {
   "cell_type": "code",
   "execution_count": 6,
   "id": "899b29d5-4745-4879-bc0a-817be3e65aa4",
   "metadata": {},
   "outputs": [
    {
     "data": {
      "text/html": [
       "<div>\n",
       "<style scoped>\n",
       "    .dataframe tbody tr th:only-of-type {\n",
       "        vertical-align: middle;\n",
       "    }\n",
       "\n",
       "    .dataframe tbody tr th {\n",
       "        vertical-align: top;\n",
       "    }\n",
       "\n",
       "    .dataframe thead th {\n",
       "        text-align: right;\n",
       "    }\n",
       "</style>\n",
       "<table border=\"1\" class=\"dataframe\">\n",
       "  <thead>\n",
       "    <tr style=\"text-align: right;\">\n",
       "      <th></th>\n",
       "      <th>Sequence</th>\n",
       "      <th>Label</th>\n",
       "    </tr>\n",
       "  </thead>\n",
       "  <tbody>\n",
       "    <tr>\n",
       "      <th>0</th>\n",
       "      <td>TCCTTT CCTTTC CTTTCT TTTCTG TTCTGC TCTGCA CTGC...</td>\n",
       "      <td>1</td>\n",
       "    </tr>\n",
       "    <tr>\n",
       "      <th>1</th>\n",
       "      <td>TCAAAT CAAATA AAATAA AATAAA ATAAAA TAAAAA AAAA...</td>\n",
       "      <td>0</td>\n",
       "    </tr>\n",
       "    <tr>\n",
       "      <th>2</th>\n",
       "      <td>CCACCA CACCAA ACCAAG CCAAGG CAAGGA AAGGAG AGGA...</td>\n",
       "      <td>0</td>\n",
       "    </tr>\n",
       "    <tr>\n",
       "      <th>3</th>\n",
       "      <td>CATTTA ATTTAA TTTAAA TTAAAT TAAATT AAATTT AATT...</td>\n",
       "      <td>0</td>\n",
       "    </tr>\n",
       "    <tr>\n",
       "      <th>4</th>\n",
       "      <td>AAGTTG AGTTGA GTTGAA TTGAAA TGAAAT GAAATT AAAT...</td>\n",
       "      <td>0</td>\n",
       "    </tr>\n",
       "    <tr>\n",
       "      <th>...</th>\n",
       "      <td>...</td>\n",
       "      <td>...</td>\n",
       "    </tr>\n",
       "    <tr>\n",
       "      <th>3186</th>\n",
       "      <td>CCCACC CCACCA CACCAC ACCACC CCACCA CACCAC ACCA...</td>\n",
       "      <td>1</td>\n",
       "    </tr>\n",
       "    <tr>\n",
       "      <th>3187</th>\n",
       "      <td>TATTTT ATTTTA TTTTAT TTTATT TTATTT TATTTT ATTT...</td>\n",
       "      <td>0</td>\n",
       "    </tr>\n",
       "    <tr>\n",
       "      <th>3188</th>\n",
       "      <td>GAGATA AGATAA GATAAC ATAACT TAACTT AACTTA ACTT...</td>\n",
       "      <td>1</td>\n",
       "    </tr>\n",
       "    <tr>\n",
       "      <th>3189</th>\n",
       "      <td>TCATCT CATCTT ATCTTC TCTTCT CTTCTA TTCTAA TCTA...</td>\n",
       "      <td>1</td>\n",
       "    </tr>\n",
       "    <tr>\n",
       "      <th>3190</th>\n",
       "      <td>CCTGCC CTGCCT TGCCTG GCCTGA CCTGAG CTGAGC TGAG...</td>\n",
       "      <td>1</td>\n",
       "    </tr>\n",
       "  </tbody>\n",
       "</table>\n",
       "<p>3191 rows × 2 columns</p>\n",
       "</div>"
      ],
      "text/plain": [
       "                                               Sequence  Label\n",
       "0     TCCTTT CCTTTC CTTTCT TTTCTG TTCTGC TCTGCA CTGC...      1\n",
       "1     TCAAAT CAAATA AAATAA AATAAA ATAAAA TAAAAA AAAA...      0\n",
       "2     CCACCA CACCAA ACCAAG CCAAGG CAAGGA AAGGAG AGGA...      0\n",
       "3     CATTTA ATTTAA TTTAAA TTAAAT TAAATT AAATTT AATT...      0\n",
       "4     AAGTTG AGTTGA GTTGAA TTGAAA TGAAAT GAAATT AAAT...      0\n",
       "...                                                 ...    ...\n",
       "3186  CCCACC CCACCA CACCAC ACCACC CCACCA CACCAC ACCA...      1\n",
       "3187  TATTTT ATTTTA TTTTAT TTTATT TTATTT TATTTT ATTT...      0\n",
       "3188  GAGATA AGATAA GATAAC ATAACT TAACTT AACTTA ACTT...      1\n",
       "3189  TCATCT CATCTT ATCTTC TCTTCT CTTCTA TTCTAA TCTA...      1\n",
       "3190  CCTGCC CTGCCT TGCCTG GCCTGA CCTGAG CTGAGC TGAG...      1\n",
       "\n",
       "[3191 rows x 2 columns]"
      ]
     },
     "execution_count": 6,
     "metadata": {},
     "output_type": "execute_result"
    }
   ],
   "source": [
    "data"
   ]
  },
  {
   "cell_type": "code",
   "execution_count": 7,
   "id": "dd59264a-49f9-48cb-83c4-43960e1f598c",
   "metadata": {},
   "outputs": [
    {
     "data": {
      "text/html": [
       "<div>\n",
       "<style scoped>\n",
       "    .dataframe tbody tr th:only-of-type {\n",
       "        vertical-align: middle;\n",
       "    }\n",
       "\n",
       "    .dataframe tbody tr th {\n",
       "        vertical-align: top;\n",
       "    }\n",
       "\n",
       "    .dataframe thead th {\n",
       "        text-align: right;\n",
       "    }\n",
       "</style>\n",
       "<table border=\"1\" class=\"dataframe\">\n",
       "  <thead>\n",
       "    <tr style=\"text-align: right;\">\n",
       "      <th></th>\n",
       "      <th>Sequence</th>\n",
       "      <th>Label</th>\n",
       "    </tr>\n",
       "  </thead>\n",
       "  <tbody>\n",
       "    <tr>\n",
       "      <th>0</th>\n",
       "      <td>TCCTTT CCTTTC CTTTCT TTTCTG TTCTGC TCTGCA CTGC...</td>\n",
       "      <td>1</td>\n",
       "    </tr>\n",
       "    <tr>\n",
       "      <th>10</th>\n",
       "      <td>CGCTAG GCTAGG CTAGGC TAGGCA AGGCAT GGCATG GCAT...</td>\n",
       "      <td>1</td>\n",
       "    </tr>\n",
       "    <tr>\n",
       "      <th>11</th>\n",
       "      <td>GAGGTG AGGTGG GGTGGA GTGGAA TGGAAT GGAATC GAAT...</td>\n",
       "      <td>1</td>\n",
       "    </tr>\n",
       "    <tr>\n",
       "      <th>12</th>\n",
       "      <td>TAGGTT AGGTTT GGTTTT GTTTTA TTTTAC TTTACA TTAC...</td>\n",
       "      <td>1</td>\n",
       "    </tr>\n",
       "    <tr>\n",
       "      <th>13</th>\n",
       "      <td>TCTTGC CTTGCA TTGCAC TGCACA GCACAC CACACA ACAC...</td>\n",
       "      <td>1</td>\n",
       "    </tr>\n",
       "    <tr>\n",
       "      <th>...</th>\n",
       "      <td>...</td>\n",
       "      <td>...</td>\n",
       "    </tr>\n",
       "    <tr>\n",
       "      <th>3184</th>\n",
       "      <td>GTGGAC TGGACC GGACCG GACCGG ACCGGG CCGGGC CGGG...</td>\n",
       "      <td>1</td>\n",
       "    </tr>\n",
       "    <tr>\n",
       "      <th>3186</th>\n",
       "      <td>CCCACC CCACCA CACCAC ACCACC CCACCA CACCAC ACCA...</td>\n",
       "      <td>1</td>\n",
       "    </tr>\n",
       "    <tr>\n",
       "      <th>3188</th>\n",
       "      <td>GAGATA AGATAA GATAAC ATAACT TAACTT AACTTA ACTT...</td>\n",
       "      <td>1</td>\n",
       "    </tr>\n",
       "    <tr>\n",
       "      <th>3189</th>\n",
       "      <td>TCATCT CATCTT ATCTTC TCTTCT CTTCTA TTCTAA TCTA...</td>\n",
       "      <td>1</td>\n",
       "    </tr>\n",
       "    <tr>\n",
       "      <th>3190</th>\n",
       "      <td>CCTGCC CTGCCT TGCCTG GCCTGA CCTGAG CTGAGC TGAG...</td>\n",
       "      <td>1</td>\n",
       "    </tr>\n",
       "  </tbody>\n",
       "</table>\n",
       "<p>1508 rows × 2 columns</p>\n",
       "</div>"
      ],
      "text/plain": [
       "                                               Sequence  Label\n",
       "0     TCCTTT CCTTTC CTTTCT TTTCTG TTCTGC TCTGCA CTGC...      1\n",
       "10    CGCTAG GCTAGG CTAGGC TAGGCA AGGCAT GGCATG GCAT...      1\n",
       "11    GAGGTG AGGTGG GGTGGA GTGGAA TGGAAT GGAATC GAAT...      1\n",
       "12    TAGGTT AGGTTT GGTTTT GTTTTA TTTTAC TTTACA TTAC...      1\n",
       "13    TCTTGC CTTGCA TTGCAC TGCACA GCACAC CACACA ACAC...      1\n",
       "...                                                 ...    ...\n",
       "3184  GTGGAC TGGACC GGACCG GACCGG ACCGGG CCGGGC CGGG...      1\n",
       "3186  CCCACC CCACCA CACCAC ACCACC CCACCA CACCAC ACCA...      1\n",
       "3188  GAGATA AGATAA GATAAC ATAACT TAACTT AACTTA ACTT...      1\n",
       "3189  TCATCT CATCTT ATCTTC TCTTCT CTTCTA TTCTAA TCTA...      1\n",
       "3190  CCTGCC CTGCCT TGCCTG GCCTGA CCTGAG CTGAGC TGAG...      1\n",
       "\n",
       "[1508 rows x 2 columns]"
      ]
     },
     "execution_count": 7,
     "metadata": {},
     "output_type": "execute_result"
    }
   ],
   "source": [
    "data[data['Label']==1]"
   ]
  },
  {
   "cell_type": "code",
   "execution_count": 8,
   "id": "c8bd1694-faf4-4e84-9ffd-6bf12880abb5",
   "metadata": {},
   "outputs": [
    {
     "data": {
      "text/html": [
       "<div>\n",
       "<style scoped>\n",
       "    .dataframe tbody tr th:only-of-type {\n",
       "        vertical-align: middle;\n",
       "    }\n",
       "\n",
       "    .dataframe tbody tr th {\n",
       "        vertical-align: top;\n",
       "    }\n",
       "\n",
       "    .dataframe thead th {\n",
       "        text-align: right;\n",
       "    }\n",
       "</style>\n",
       "<table border=\"1\" class=\"dataframe\">\n",
       "  <thead>\n",
       "    <tr style=\"text-align: right;\">\n",
       "      <th></th>\n",
       "      <th>coord</th>\n",
       "      <th>sequence</th>\n",
       "      <th>label</th>\n",
       "    </tr>\n",
       "  </thead>\n",
       "  <tbody>\n",
       "    <tr>\n",
       "      <th>0</th>\n",
       "      <td>chr13:23652031-23652230</td>\n",
       "      <td>TCCTTTCTGCACAGGGTTATTACAGCGCCCAGAAAGTGGGTATGTA...</td>\n",
       "      <td>1</td>\n",
       "    </tr>\n",
       "    <tr>\n",
       "      <th>1</th>\n",
       "      <td>chr14:17061576-17061775</td>\n",
       "      <td>TCAAATAAAAACTAGACAGAAGCATTCTCATAAGCTTGTTTGTGAT...</td>\n",
       "      <td>0</td>\n",
       "    </tr>\n",
       "    <tr>\n",
       "      <th>2</th>\n",
       "      <td>chr9:24999931-25000130</td>\n",
       "      <td>CCACCAAGGAGACCTCATTTGTAGATTTGGCAAAGTATGGCACAAT...</td>\n",
       "      <td>0</td>\n",
       "    </tr>\n",
       "    <tr>\n",
       "      <th>3</th>\n",
       "      <td>chr18:52169445-52169644</td>\n",
       "      <td>CATTTAAATTTTAAATGTATTTAACATTTAGAGAATAGTATAAATA...</td>\n",
       "      <td>0</td>\n",
       "    </tr>\n",
       "    <tr>\n",
       "      <th>4</th>\n",
       "      <td>chr9:32366053-32366252</td>\n",
       "      <td>AAGTTGAAATTAAATAAATCCTAAATTTGAATCAGGTGTGTTGGTA...</td>\n",
       "      <td>0</td>\n",
       "    </tr>\n",
       "    <tr>\n",
       "      <th>...</th>\n",
       "      <td>...</td>\n",
       "      <td>...</td>\n",
       "      <td>...</td>\n",
       "    </tr>\n",
       "    <tr>\n",
       "      <th>3186</th>\n",
       "      <td>chr9:38725772-38725971</td>\n",
       "      <td>CCCACCACCACGCCTGGCTAATTTTTCTGTATTTTCAGTAGAGATG...</td>\n",
       "      <td>1</td>\n",
       "    </tr>\n",
       "    <tr>\n",
       "      <th>3187</th>\n",
       "      <td>chr1:105315643-105315842</td>\n",
       "      <td>TATTTTATTTTTACTGTTTTGTCCCACATGAGCTTGCTTATATATT...</td>\n",
       "      <td>0</td>\n",
       "    </tr>\n",
       "    <tr>\n",
       "      <th>3188</th>\n",
       "      <td>chr7:27950006-27950205</td>\n",
       "      <td>GAGATAACTTACCTGCTTTTCACGATACTTTTGATACAATCTCATT...</td>\n",
       "      <td>1</td>\n",
       "    </tr>\n",
       "    <tr>\n",
       "      <th>3189</th>\n",
       "      <td>chr2:171047833-171048032</td>\n",
       "      <td>TCATCTTCTAACCACTCTGGATTATATCACCAATTATAAACGGCTT...</td>\n",
       "      <td>1</td>\n",
       "    </tr>\n",
       "    <tr>\n",
       "      <th>3190</th>\n",
       "      <td>chr15:41720338-41720537</td>\n",
       "      <td>CCTGCCTGAGCAACATAGCAATACTTCCATCTCTACTAAAAATAAA...</td>\n",
       "      <td>1</td>\n",
       "    </tr>\n",
       "  </tbody>\n",
       "</table>\n",
       "<p>3191 rows × 3 columns</p>\n",
       "</div>"
      ],
      "text/plain": [
       "                         coord  \\\n",
       "0      chr13:23652031-23652230   \n",
       "1      chr14:17061576-17061775   \n",
       "2       chr9:24999931-25000130   \n",
       "3      chr18:52169445-52169644   \n",
       "4       chr9:32366053-32366252   \n",
       "...                        ...   \n",
       "3186    chr9:38725772-38725971   \n",
       "3187  chr1:105315643-105315842   \n",
       "3188    chr7:27950006-27950205   \n",
       "3189  chr2:171047833-171048032   \n",
       "3190   chr15:41720338-41720537   \n",
       "\n",
       "                                               sequence  label  \n",
       "0     TCCTTTCTGCACAGGGTTATTACAGCGCCCAGAAAGTGGGTATGTA...      1  \n",
       "1     TCAAATAAAAACTAGACAGAAGCATTCTCATAAGCTTGTTTGTGAT...      0  \n",
       "2     CCACCAAGGAGACCTCATTTGTAGATTTGGCAAAGTATGGCACAAT...      0  \n",
       "3     CATTTAAATTTTAAATGTATTTAACATTTAGAGAATAGTATAAATA...      0  \n",
       "4     AAGTTGAAATTAAATAAATCCTAAATTTGAATCAGGTGTGTTGGTA...      0  \n",
       "...                                                 ...    ...  \n",
       "3186  CCCACCACCACGCCTGGCTAATTTTTCTGTATTTTCAGTAGAGATG...      1  \n",
       "3187  TATTTTATTTTTACTGTTTTGTCCCACATGAGCTTGCTTATATATT...      0  \n",
       "3188  GAGATAACTTACCTGCTTTTCACGATACTTTTGATACAATCTCATT...      1  \n",
       "3189  TCATCTTCTAACCACTCTGGATTATATCACCAATTATAAACGGCTT...      1  \n",
       "3190  CCTGCCTGAGCAACATAGCAATACTTCCATCTCTACTAAAAATAAA...      1  \n",
       "\n",
       "[3191 rows x 3 columns]"
      ]
     },
     "execution_count": 8,
     "metadata": {},
     "output_type": "execute_result"
    }
   ],
   "source": [
    "true_data = raw_data[['coord',\"sequence\",\"label\"]]\n",
    "true_data"
   ]
  },
  {
   "cell_type": "code",
   "execution_count": 9,
   "id": "7d0c9405-f5b9-4a29-a7a0-9e6b07b9f69e",
   "metadata": {},
   "outputs": [
    {
     "name": "stderr",
     "output_type": "stream",
     "text": [
      "/tmp/ipykernel_542008/3111908572.py:2: SettingWithCopyWarning: \n",
      "A value is trying to be set on a copy of a slice from a DataFrame.\n",
      "Try using .loc[row_indexer,col_indexer] = value instead\n",
      "\n",
      "See the caveats in the documentation: https://pandas.pydata.org/pandas-docs/stable/user_guide/indexing.html#returning-a-view-versus-a-copy\n",
      "  true_data['Prediction_result'] = categorical_predictions\n"
     ]
    },
    {
     "data": {
      "text/html": [
       "<div>\n",
       "<style scoped>\n",
       "    .dataframe tbody tr th:only-of-type {\n",
       "        vertical-align: middle;\n",
       "    }\n",
       "\n",
       "    .dataframe tbody tr th {\n",
       "        vertical-align: top;\n",
       "    }\n",
       "\n",
       "    .dataframe thead th {\n",
       "        text-align: right;\n",
       "    }\n",
       "</style>\n",
       "<table border=\"1\" class=\"dataframe\">\n",
       "  <thead>\n",
       "    <tr style=\"text-align: right;\">\n",
       "      <th></th>\n",
       "      <th>coord</th>\n",
       "      <th>sequence</th>\n",
       "      <th>label</th>\n",
       "      <th>Prediction_result</th>\n",
       "    </tr>\n",
       "  </thead>\n",
       "  <tbody>\n",
       "    <tr>\n",
       "      <th>0</th>\n",
       "      <td>chr13:23652031-23652230</td>\n",
       "      <td>TCCTTTCTGCACAGGGTTATTACAGCGCCCAGAAAGTGGGTATGTA...</td>\n",
       "      <td>1</td>\n",
       "      <td>1</td>\n",
       "    </tr>\n",
       "    <tr>\n",
       "      <th>11</th>\n",
       "      <td>chr10:45519836-45520035</td>\n",
       "      <td>GAGGTGGAATCAGTAAAACTTATTGATGAGTGGCGCATTAAGAGCA...</td>\n",
       "      <td>1</td>\n",
       "      <td>1</td>\n",
       "    </tr>\n",
       "    <tr>\n",
       "      <th>12</th>\n",
       "      <td>chr3:193057772-193057971</td>\n",
       "      <td>TAGGTTTTACAATTCCTTTCAACACCAAATTAAGATCAGAAGGTAT...</td>\n",
       "      <td>1</td>\n",
       "      <td>1</td>\n",
       "    </tr>\n",
       "    <tr>\n",
       "      <th>13</th>\n",
       "      <td>chr3:77507468-77507667</td>\n",
       "      <td>TCTTGCACACAGAAGACTGCAAGAATGGGCTCTGCCTATCTAAAAA...</td>\n",
       "      <td>1</td>\n",
       "      <td>1</td>\n",
       "    </tr>\n",
       "    <tr>\n",
       "      <th>18</th>\n",
       "      <td>chr1:187980069-187980268</td>\n",
       "      <td>GCACTGTGGCTCATGCCTGTAATCCCAGCACTTTGGGAGGCTGAGG...</td>\n",
       "      <td>1</td>\n",
       "      <td>1</td>\n",
       "    </tr>\n",
       "    <tr>\n",
       "      <th>...</th>\n",
       "      <td>...</td>\n",
       "      <td>...</td>\n",
       "      <td>...</td>\n",
       "      <td>...</td>\n",
       "    </tr>\n",
       "    <tr>\n",
       "      <th>3181</th>\n",
       "      <td>chr5:64261727-64261926</td>\n",
       "      <td>ATATCAGGTGGAAAGAAACAAAGCTGCTCAAGTGAGAACAACCAAA...</td>\n",
       "      <td>1</td>\n",
       "      <td>1</td>\n",
       "    </tr>\n",
       "    <tr>\n",
       "      <th>3183</th>\n",
       "      <td>chr12:43813667-43813866</td>\n",
       "      <td>TCTACACTCTCAAAGAAGCTCATTTCAAGGCCCTTCCTTACTCAGT...</td>\n",
       "      <td>1</td>\n",
       "      <td>1</td>\n",
       "    </tr>\n",
       "    <tr>\n",
       "      <th>3184</th>\n",
       "      <td>chr1:204552002-204552201</td>\n",
       "      <td>GTGGACCGGGCGTAGTGGCTCACGCCTGTAATCCCAACACTTTGGG...</td>\n",
       "      <td>1</td>\n",
       "      <td>1</td>\n",
       "    </tr>\n",
       "    <tr>\n",
       "      <th>3186</th>\n",
       "      <td>chr9:38725772-38725971</td>\n",
       "      <td>CCCACCACCACGCCTGGCTAATTTTTCTGTATTTTCAGTAGAGATG...</td>\n",
       "      <td>1</td>\n",
       "      <td>1</td>\n",
       "    </tr>\n",
       "    <tr>\n",
       "      <th>3190</th>\n",
       "      <td>chr15:41720338-41720537</td>\n",
       "      <td>CCTGCCTGAGCAACATAGCAATACTTCCATCTCTACTAAAAATAAA...</td>\n",
       "      <td>1</td>\n",
       "      <td>1</td>\n",
       "    </tr>\n",
       "  </tbody>\n",
       "</table>\n",
       "<p>1200 rows × 4 columns</p>\n",
       "</div>"
      ],
      "text/plain": [
       "                         coord  \\\n",
       "0      chr13:23652031-23652230   \n",
       "11     chr10:45519836-45520035   \n",
       "12    chr3:193057772-193057971   \n",
       "13      chr3:77507468-77507667   \n",
       "18    chr1:187980069-187980268   \n",
       "...                        ...   \n",
       "3181    chr5:64261727-64261926   \n",
       "3183   chr12:43813667-43813866   \n",
       "3184  chr1:204552002-204552201   \n",
       "3186    chr9:38725772-38725971   \n",
       "3190   chr15:41720338-41720537   \n",
       "\n",
       "                                               sequence  label  \\\n",
       "0     TCCTTTCTGCACAGGGTTATTACAGCGCCCAGAAAGTGGGTATGTA...      1   \n",
       "11    GAGGTGGAATCAGTAAAACTTATTGATGAGTGGCGCATTAAGAGCA...      1   \n",
       "12    TAGGTTTTACAATTCCTTTCAACACCAAATTAAGATCAGAAGGTAT...      1   \n",
       "13    TCTTGCACACAGAAGACTGCAAGAATGGGCTCTGCCTATCTAAAAA...      1   \n",
       "18    GCACTGTGGCTCATGCCTGTAATCCCAGCACTTTGGGAGGCTGAGG...      1   \n",
       "...                                                 ...    ...   \n",
       "3181  ATATCAGGTGGAAAGAAACAAAGCTGCTCAAGTGAGAACAACCAAA...      1   \n",
       "3183  TCTACACTCTCAAAGAAGCTCATTTCAAGGCCCTTCCTTACTCAGT...      1   \n",
       "3184  GTGGACCGGGCGTAGTGGCTCACGCCTGTAATCCCAACACTTTGGG...      1   \n",
       "3186  CCCACCACCACGCCTGGCTAATTTTTCTGTATTTTCAGTAGAGATG...      1   \n",
       "3190  CCTGCCTGAGCAACATAGCAATACTTCCATCTCTACTAAAAATAAA...      1   \n",
       "\n",
       "      Prediction_result  \n",
       "0                     1  \n",
       "11                    1  \n",
       "12                    1  \n",
       "13                    1  \n",
       "18                    1  \n",
       "...                 ...  \n",
       "3181                  1  \n",
       "3183                  1  \n",
       "3184                  1  \n",
       "3186                  1  \n",
       "3190                  1  \n",
       "\n",
       "[1200 rows x 4 columns]"
      ]
     },
     "execution_count": 9,
     "metadata": {},
     "output_type": "execute_result"
    }
   ],
   "source": [
    "categorical_predictions = (pred_result > 0.5).astype(int)\n",
    "true_data['Prediction_result'] = categorical_predictions \n",
    "true_data\n",
    "\n",
    "df_visualize = true_data[(true_data['label'] == 1) & (true_data['Prediction_result'] == 1)]\n",
    "# df_visualize_all = df_visualize.merge(true_data, left_index=True, right_index=True, how='inner')\n",
    "df_visualize"
   ]
  },
  {
   "cell_type": "code",
   "execution_count": 10,
   "id": "06d03f80-96e3-4c4a-b4a1-b0614cdedc9b",
   "metadata": {},
   "outputs": [
    {
     "data": {
      "text/plain": [
       "array([[0.15736438, 0.12613323, 0.12205527, ..., 0.08286749, 0.09156235,\n",
       "        0.1009498 ],\n",
       "       [0.14155952, 0.11704731, 0.10161122, ..., 0.08688743, 0.08341995,\n",
       "        0.08914666],\n",
       "       [0.1592955 , 0.13399013, 0.1245085 , ..., 0.06538571, 0.06437823,\n",
       "        0.0754427 ],\n",
       "       ...,\n",
       "       [0.09295924, 0.08530137, 0.08252531, ..., 0.05208671, 0.04840521,\n",
       "        0.05569853],\n",
       "       [0.08796743, 0.09712145, 0.10442137, ..., 0.0893162 , 0.10288811,\n",
       "        0.11376228],\n",
       "       [0.0781696 , 0.08220336, 0.08146374, ..., 0.06815664, 0.07253033,\n",
       "        0.09001699]])"
      ]
     },
     "execution_count": 10,
     "metadata": {},
     "output_type": "execute_result"
    }
   ],
   "source": [
    "positive_attention_score = attention_data[df_visualize.index.values]\n",
    "positive_attention_score"
   ]
  },
  {
   "cell_type": "code",
   "execution_count": 11,
   "id": "929d2daf-07e6-4497-aa1b-536b11a4c6d3",
   "metadata": {},
   "outputs": [
    {
     "data": {
      "text/plain": [
       "1"
      ]
     },
     "execution_count": 11,
     "metadata": {},
     "output_type": "execute_result"
    }
   ],
   "source": [
    "len(true_data[\"sequence\"][0].split())"
   ]
  },
  {
   "cell_type": "code",
   "execution_count": 12,
   "id": "860e2709-8ce6-449f-8164-84feb2e26fac",
   "metadata": {},
   "outputs": [],
   "source": [
    "# Limit the rows to top 5\n",
    "data = df_visualize\n",
    "attention_data = positive_attention_score"
   ]
  },
  {
   "cell_type": "code",
   "execution_count": 13,
   "id": "8b2ef6ce-921b-49e4-847b-5825fb169566",
   "metadata": {},
   "outputs": [
    {
     "data": {
      "text/plain": [
       "(1200, 200)"
      ]
     },
     "execution_count": 13,
     "metadata": {},
     "output_type": "execute_result"
    }
   ],
   "source": [
    "positive_attention_score.shape"
   ]
  },
  {
   "cell_type": "code",
   "execution_count": 14,
   "id": "bb33905b-f583-449a-b9e9-229821dfa5a0",
   "metadata": {},
   "outputs": [],
   "source": [
    "#seq_wise_vis_dir = \"/data/projects/Enhancer/DNABERT_Output/Visualization_Enhancer_Encode/Predictions/V\"\n",
    "seqwise_attention_path = os.path.dirname(attention_score_path)+\"/Visualization/Nucleotide_wise_attention_map\"\n",
    "if not os.path.exists(seqwise_attention_path):\n",
    "    os.makedirs(seqwise_attention_path)"
   ]
  },
  {
   "cell_type": "code",
   "execution_count": 21,
   "id": "d06dfea8-e4c5-4b0b-908d-48a2c7ecf09f",
   "metadata": {},
   "outputs": [
    {
     "name": "stdout",
     "output_type": "stream",
     "text": [
      "200\n",
      "0 chr13:23652031-23652230\n"
     ]
    },
    {
     "ename": "KeyboardInterrupt",
     "evalue": "Interrupted by user",
     "output_type": "error",
     "traceback": [
      "\u001b[0;31m---------------------------------------------------------------------------\u001b[0m",
      "\u001b[0;31mKeyboardInterrupt\u001b[0m                         Traceback (most recent call last)",
      "Cell \u001b[0;32mIn[21], line 19\u001b[0m\n\u001b[1;32m     17\u001b[0m plt\u001b[38;5;241m.\u001b[39msavefig(seqwise_attention_path\u001b[38;5;241m+\u001b[39m\u001b[38;5;124m\"\u001b[39m\u001b[38;5;124m/\u001b[39m\u001b[38;5;124m\"\u001b[39m\u001b[38;5;241m+\u001b[39m\u001b[38;5;124mf\u001b[39m\u001b[38;5;124m\"\u001b[39m\u001b[38;5;132;01m{\u001b[39;00mtitle\u001b[38;5;132;01m}\u001b[39;00m\u001b[38;5;124m.png\u001b[39m\u001b[38;5;124m\"\u001b[39m)\n\u001b[1;32m     18\u001b[0m plt\u001b[38;5;241m.\u001b[39mclose()\n\u001b[0;32m---> 19\u001b[0m \u001b[38;5;28;43minput\u001b[39;49m\u001b[43m(\u001b[49m\u001b[43m)\u001b[49m\n",
      "File \u001b[0;32m/shared/software/anaconda/anaconda3/lib/python3.10/site-packages/ipykernel/kernelbase.py:1175\u001b[0m, in \u001b[0;36mKernel.raw_input\u001b[0;34m(self, prompt)\u001b[0m\n\u001b[1;32m   1171\u001b[0m \u001b[38;5;28;01mif\u001b[39;00m \u001b[38;5;129;01mnot\u001b[39;00m \u001b[38;5;28mself\u001b[39m\u001b[38;5;241m.\u001b[39m_allow_stdin:\n\u001b[1;32m   1172\u001b[0m     \u001b[38;5;28;01mraise\u001b[39;00m StdinNotImplementedError(\n\u001b[1;32m   1173\u001b[0m         \u001b[38;5;124m\"\u001b[39m\u001b[38;5;124mraw_input was called, but this frontend does not support input requests.\u001b[39m\u001b[38;5;124m\"\u001b[39m\n\u001b[1;32m   1174\u001b[0m     )\n\u001b[0;32m-> 1175\u001b[0m \u001b[38;5;28;01mreturn\u001b[39;00m \u001b[38;5;28;43mself\u001b[39;49m\u001b[38;5;241;43m.\u001b[39;49m\u001b[43m_input_request\u001b[49m\u001b[43m(\u001b[49m\n\u001b[1;32m   1176\u001b[0m \u001b[43m    \u001b[49m\u001b[38;5;28;43mstr\u001b[39;49m\u001b[43m(\u001b[49m\u001b[43mprompt\u001b[49m\u001b[43m)\u001b[49m\u001b[43m,\u001b[49m\n\u001b[1;32m   1177\u001b[0m \u001b[43m    \u001b[49m\u001b[38;5;28;43mself\u001b[39;49m\u001b[38;5;241;43m.\u001b[39;49m\u001b[43m_parent_ident\u001b[49m\u001b[43m[\u001b[49m\u001b[38;5;124;43m\"\u001b[39;49m\u001b[38;5;124;43mshell\u001b[39;49m\u001b[38;5;124;43m\"\u001b[39;49m\u001b[43m]\u001b[49m\u001b[43m,\u001b[49m\n\u001b[1;32m   1178\u001b[0m \u001b[43m    \u001b[49m\u001b[38;5;28;43mself\u001b[39;49m\u001b[38;5;241;43m.\u001b[39;49m\u001b[43mget_parent\u001b[49m\u001b[43m(\u001b[49m\u001b[38;5;124;43m\"\u001b[39;49m\u001b[38;5;124;43mshell\u001b[39;49m\u001b[38;5;124;43m\"\u001b[39;49m\u001b[43m)\u001b[49m\u001b[43m,\u001b[49m\n\u001b[1;32m   1179\u001b[0m \u001b[43m    \u001b[49m\u001b[43mpassword\u001b[49m\u001b[38;5;241;43m=\u001b[39;49m\u001b[38;5;28;43;01mFalse\u001b[39;49;00m\u001b[43m,\u001b[49m\n\u001b[1;32m   1180\u001b[0m \u001b[43m\u001b[49m\u001b[43m)\u001b[49m\n",
      "File \u001b[0;32m/shared/software/anaconda/anaconda3/lib/python3.10/site-packages/ipykernel/kernelbase.py:1217\u001b[0m, in \u001b[0;36mKernel._input_request\u001b[0;34m(self, prompt, ident, parent, password)\u001b[0m\n\u001b[1;32m   1214\u001b[0m             \u001b[38;5;28;01mbreak\u001b[39;00m\n\u001b[1;32m   1215\u001b[0m \u001b[38;5;28;01mexcept\u001b[39;00m \u001b[38;5;167;01mKeyboardInterrupt\u001b[39;00m:\n\u001b[1;32m   1216\u001b[0m     \u001b[38;5;66;03m# re-raise KeyboardInterrupt, to truncate traceback\u001b[39;00m\n\u001b[0;32m-> 1217\u001b[0m     \u001b[38;5;28;01mraise\u001b[39;00m \u001b[38;5;167;01mKeyboardInterrupt\u001b[39;00m(\u001b[38;5;124m\"\u001b[39m\u001b[38;5;124mInterrupted by user\u001b[39m\u001b[38;5;124m\"\u001b[39m) \u001b[38;5;28;01mfrom\u001b[39;00m \u001b[38;5;28mNone\u001b[39m\n\u001b[1;32m   1218\u001b[0m \u001b[38;5;28;01mexcept\u001b[39;00m \u001b[38;5;167;01mException\u001b[39;00m:\n\u001b[1;32m   1219\u001b[0m     \u001b[38;5;28mself\u001b[39m\u001b[38;5;241m.\u001b[39mlog\u001b[38;5;241m.\u001b[39mwarning(\u001b[38;5;124m\"\u001b[39m\u001b[38;5;124mInvalid Message:\u001b[39m\u001b[38;5;124m\"\u001b[39m, exc_info\u001b[38;5;241m=\u001b[39m\u001b[38;5;28;01mTrue\u001b[39;00m)\n",
      "\u001b[0;31mKeyboardInterrupt\u001b[0m: Interrupted by user"
     ]
    }
   ],
   "source": [
    "kmers =data['sequence'].apply(list).tolist()\n",
    "num_columns = attention_data.shape[1]\n",
    "print(num_columns)\n",
    "\n",
    "        \n",
    "# For each sequence, create and save a heatmap\n",
    "for i, sequence in enumerate(kmers):\n",
    "    reshaped_data = attention_data[i].reshape(4, 50)\n",
    "    reshaped_kmers = np.array(sequence).reshape(4, 50)\n",
    "    \n",
    "    plt.figure(figsize=(18, 3))\n",
    "    sns.heatmap(reshaped_data, cmap='YlGnBu', cbar=True, annot=reshaped_kmers, fmt='', annot_kws={\"size\": 8})\n",
    "    title = data['coord'].iloc[i]\n",
    "    if((i%100)==0):\n",
    "        print(i , title)\n",
    "    plt.title(title)\n",
    "    plt.savefig(seqwise_attention_path+\"/\"+f\"{title}.png\")\n",
    "    plt.close()\n",
    "    input()"
   ]
  },
  {
   "cell_type": "code",
   "execution_count": null,
   "id": "54bea73b-09dd-48f6-91ff-3261bdd5c92d",
   "metadata": {},
   "outputs": [],
   "source": [
    "# Get the list of k-mers\n",
    "kmers = data['Sequence'].str.split().tolist()"
   ]
  },
  {
   "cell_type": "code",
   "execution_count": null,
   "id": "c08630ab-07df-4989-94c7-4a696c987ddf",
   "metadata": {},
   "outputs": [
    {
     "data": {
      "text/plain": [
       "195"
      ]
     },
     "execution_count": 48,
     "metadata": {},
     "output_type": "execute_result"
    }
   ],
   "source": [
    "len(kmers[1])"
   ]
  },
  {
   "cell_type": "code",
   "execution_count": null,
   "id": "7855192f-8a5b-4b4e-a83c-571ceba4f265",
   "metadata": {},
   "outputs": [],
   "source": []
  }
 ],
 "metadata": {
  "kernelspec": {
   "display_name": "Python 3 (ipykernel)",
   "language": "python",
   "name": "python3"
  },
  "language_info": {
   "codemirror_mode": {
    "name": "ipython",
    "version": 3
   },
   "file_extension": ".py",
   "mimetype": "text/x-python",
   "name": "python",
   "nbconvert_exporter": "python",
   "pygments_lexer": "ipython3",
   "version": "3.10.11"
  }
 },
 "nbformat": 4,
 "nbformat_minor": 5
}
