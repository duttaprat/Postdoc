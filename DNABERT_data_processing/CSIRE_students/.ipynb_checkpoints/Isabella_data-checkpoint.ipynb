{
 "cells": [
  {
   "cell_type": "code",
   "execution_count": 39,
   "metadata": {},
   "outputs": [],
   "source": [
    "import os, tarfile\n",
    "import re\n",
    "import pandas as pd\n",
    "import numpy as np\n",
    "import zipfile, gzip\n",
    "import pandas as pd\n",
    "from sklearn.model_selection import train_test_split\n",
    "from sklearn.utils import shuffle"
   ]
  },
  {
   "cell_type": "code",
   "execution_count": 47,
   "metadata": {},
   "outputs": [],
   "source": [
    "df_data = pd.read_csv(\"/home/pdutta/Data/CSIRE_students/Anooshka/raw_data/anooshka_dnabert_finetuning.csv\", sep=\",\")"
   ]
  },
  {
   "cell_type": "code",
   "execution_count": 48,
   "metadata": {},
   "outputs": [
    {
     "data": {
      "text/html": [
       "<div>\n",
       "<style scoped>\n",
       "    .dataframe tbody tr th:only-of-type {\n",
       "        vertical-align: middle;\n",
       "    }\n",
       "\n",
       "    .dataframe tbody tr th {\n",
       "        vertical-align: top;\n",
       "    }\n",
       "\n",
       "    .dataframe thead th {\n",
       "        text-align: right;\n",
       "    }\n",
       "</style>\n",
       "<table border=\"1\" class=\"dataframe\">\n",
       "  <thead>\n",
       "    <tr style=\"text-align: right;\">\n",
       "      <th></th>\n",
       "      <th>sequence</th>\n",
       "      <th>label</th>\n",
       "    </tr>\n",
       "  </thead>\n",
       "  <tbody>\n",
       "    <tr>\n",
       "      <th>0</th>\n",
       "      <td>CATATG ATATGT TATGTG ATGTGA TGTGAA GTGAAA TGAA...</td>\n",
       "      <td>0</td>\n",
       "    </tr>\n",
       "    <tr>\n",
       "      <th>1</th>\n",
       "      <td>CAGTGG AGTGGC GTGGCT TGGCTC GGCTCA GCTCAT CTCA...</td>\n",
       "      <td>0</td>\n",
       "    </tr>\n",
       "    <tr>\n",
       "      <th>2</th>\n",
       "      <td>GAAATT AAATTT AATTTC ATTTCC TTTCCC TTCCCC TCCC...</td>\n",
       "      <td>0</td>\n",
       "    </tr>\n",
       "    <tr>\n",
       "      <th>3</th>\n",
       "      <td>TGGTTG GGTTGG GTTGGG TTGGGG TGGGGA GGGGAA GGGA...</td>\n",
       "      <td>1</td>\n",
       "    </tr>\n",
       "    <tr>\n",
       "      <th>4</th>\n",
       "      <td>GTCTGG TCTGGC CTGGCT TGGCTG GGCTGG GCTGGG CTGG...</td>\n",
       "      <td>1</td>\n",
       "    </tr>\n",
       "  </tbody>\n",
       "</table>\n",
       "</div>"
      ],
      "text/plain": [
       "                                            sequence  label\n",
       "0  CATATG ATATGT TATGTG ATGTGA TGTGAA GTGAAA TGAA...      0\n",
       "1  CAGTGG AGTGGC GTGGCT TGGCTC GGCTCA GCTCAT CTCA...      0\n",
       "2  GAAATT AAATTT AATTTC ATTTCC TTTCCC TTCCCC TCCC...      0\n",
       "3  TGGTTG GGTTGG GTTGGG TTGGGG TGGGGA GGGGAA GGGA...      1\n",
       "4  GTCTGG TCTGGC CTGGCT TGGCTG GGCTGG GCTGGG CTGG...      1"
      ]
     },
     "execution_count": 48,
     "metadata": {},
     "output_type": "execute_result"
    }
   ],
   "source": [
    "df_data.head()"
   ]
  },
  {
   "cell_type": "code",
   "execution_count": 49,
   "metadata": {},
   "outputs": [
    {
     "name": "stdout",
     "output_type": "stream",
     "text": [
      "(19807, 2)\n"
     ]
    }
   ],
   "source": [
    "print(df_data.shape)"
   ]
  },
  {
   "cell_type": "code",
   "execution_count": 50,
   "metadata": {},
   "outputs": [
    {
     "data": {
      "text/plain": [
       "sequence    object\n",
       "label        int64\n",
       "dtype: object"
      ]
     },
     "execution_count": 50,
     "metadata": {},
     "output_type": "execute_result"
    }
   ],
   "source": [
    "df_data.dtypes"
   ]
  },
  {
   "cell_type": "code",
   "execution_count": 40,
   "metadata": {},
   "outputs": [
    {
     "data": {
      "text/html": [
       "<div>\n",
       "<style scoped>\n",
       "    .dataframe tbody tr th:only-of-type {\n",
       "        vertical-align: middle;\n",
       "    }\n",
       "\n",
       "    .dataframe tbody tr th {\n",
       "        vertical-align: top;\n",
       "    }\n",
       "\n",
       "    .dataframe thead th {\n",
       "        text-align: right;\n",
       "    }\n",
       "</style>\n",
       "<table border=\"1\" class=\"dataframe\">\n",
       "  <thead>\n",
       "    <tr style=\"text-align: right;\">\n",
       "      <th></th>\n",
       "      <th>sequence</th>\n",
       "      <th>label</th>\n",
       "    </tr>\n",
       "  </thead>\n",
       "  <tbody>\n",
       "    <tr>\n",
       "      <th>0</th>\n",
       "      <td>GGCTCG GCTCGC CTCGCC TCGCCC CGCCCG GCCCGC CCCG...</td>\n",
       "      <td>1</td>\n",
       "    </tr>\n",
       "    <tr>\n",
       "      <th>1</th>\n",
       "      <td>TGGTGG GGTGGA GTGGAG TGGAGA GGAGAC GAGACG AGAC...</td>\n",
       "      <td>0</td>\n",
       "    </tr>\n",
       "    <tr>\n",
       "      <th>2</th>\n",
       "      <td>GCGCCG CGCCGG GCCGGG CCGGGC CGGGCC GGGCCC GGCC...</td>\n",
       "      <td>1</td>\n",
       "    </tr>\n",
       "    <tr>\n",
       "      <th>3</th>\n",
       "      <td>AACCCC ACCCCC CCCCCA CCCCAG CCCAGC CCAGCC CAGC...</td>\n",
       "      <td>0</td>\n",
       "    </tr>\n",
       "    <tr>\n",
       "      <th>4</th>\n",
       "      <td>TTCATT TCATTC CATTCC ATTCCC TTCCCT TCCCTT CCCT...</td>\n",
       "      <td>0</td>\n",
       "    </tr>\n",
       "    <tr>\n",
       "      <th>...</th>\n",
       "      <td>...</td>\n",
       "      <td>...</td>\n",
       "    </tr>\n",
       "    <tr>\n",
       "      <th>19802</th>\n",
       "      <td>TCACAA CACAAA ACAAAG CAAAGA AAAGAC AAGACC AGAC...</td>\n",
       "      <td>0</td>\n",
       "    </tr>\n",
       "    <tr>\n",
       "      <th>19803</th>\n",
       "      <td>GTCATC TCATCA CATCAT ATCATG TCATGA CATGAG ATGA...</td>\n",
       "      <td>0</td>\n",
       "    </tr>\n",
       "    <tr>\n",
       "      <th>19804</th>\n",
       "      <td>ACAGTT CAGTTT AGTTTT GTTTTA TTTTAT TTTATA TTAT...</td>\n",
       "      <td>0</td>\n",
       "    </tr>\n",
       "    <tr>\n",
       "      <th>19805</th>\n",
       "      <td>TGAGCC GAGCCC AGCCCA GCCCAG CCCAGG CCAGGA CAGG...</td>\n",
       "      <td>0</td>\n",
       "    </tr>\n",
       "    <tr>\n",
       "      <th>19806</th>\n",
       "      <td>GCGGTA CGGTAG GGTAGT GTAGTG TAGTGG AGTGGC GTGG...</td>\n",
       "      <td>1</td>\n",
       "    </tr>\n",
       "  </tbody>\n",
       "</table>\n",
       "<p>19807 rows × 2 columns</p>\n",
       "</div>"
      ],
      "text/plain": [
       "                                                sequence  label\n",
       "0      GGCTCG GCTCGC CTCGCC TCGCCC CGCCCG GCCCGC CCCG...      1\n",
       "1      TGGTGG GGTGGA GTGGAG TGGAGA GGAGAC GAGACG AGAC...      0\n",
       "2      GCGCCG CGCCGG GCCGGG CCGGGC CGGGCC GGGCCC GGCC...      1\n",
       "3      AACCCC ACCCCC CCCCCA CCCCAG CCCAGC CCAGCC CAGC...      0\n",
       "4      TTCATT TCATTC CATTCC ATTCCC TTCCCT TCCCTT CCCT...      0\n",
       "...                                                  ...    ...\n",
       "19802  TCACAA CACAAA ACAAAG CAAAGA AAAGAC AAGACC AGAC...      0\n",
       "19803  GTCATC TCATCA CATCAT ATCATG TCATGA CATGAG ATGA...      0\n",
       "19804  ACAGTT CAGTTT AGTTTT GTTTTA TTTTAT TTTATA TTAT...      0\n",
       "19805  TGAGCC GAGCCC AGCCCA GCCCAG CCCAGG CCAGGA CAGG...      0\n",
       "19806  GCGGTA CGGTAG GGTAGT GTAGTG TAGTGG AGTGGC GTGG...      1\n",
       "\n",
       "[19807 rows x 2 columns]"
      ]
     },
     "execution_count": 40,
     "metadata": {},
     "output_type": "execute_result"
    }
   ],
   "source": [
    "df_data = shuffle(df_data).reset_index(drop=True)\n",
    "df_data"
   ]
  },
  {
   "cell_type": "code",
   "execution_count": null,
   "metadata": {},
   "outputs": [],
   "source": []
  },
  {
   "cell_type": "code",
   "execution_count": 32,
   "metadata": {},
   "outputs": [
    {
     "data": {
      "text/plain": [
       "sequence    CAGTGG AGTGGC GTGGCT TGGCTC GGCTCA GCTCAT CTCA...\n",
       "label                                                       0\n",
       "Name: 1, dtype: object"
      ]
     },
     "execution_count": 32,
     "metadata": {},
     "output_type": "execute_result"
    }
   ],
   "source": [
    "df_data.iloc[1]"
   ]
  },
  {
   "cell_type": "code",
   "execution_count": 23,
   "metadata": {},
   "outputs": [
    {
     "data": {
      "text/plain": [
       "label\n",
       "0    12942\n",
       "1     6865\n",
       "dtype: int64"
      ]
     },
     "execution_count": 23,
     "metadata": {},
     "output_type": "execute_result"
    }
   ],
   "source": [
    "df_data.groupby(['label']).size()"
   ]
  },
  {
   "cell_type": "code",
   "execution_count": 41,
   "metadata": {},
   "outputs": [
    {
     "name": "stdout",
     "output_type": "stream",
     "text": [
      "(17826, 2) (1981, 2)\n",
      "label\n",
      "0    11653\n",
      "1     6173\n",
      "dtype: int64 label\n",
      "0    1289\n",
      "1     692\n",
      "dtype: int64\n"
     ]
    }
   ],
   "source": []
  },
  {
   "cell_type": "code",
   "execution_count": 42,
   "metadata": {},
   "outputs": [],
   "source": []
  },
  {
   "cell_type": "code",
   "execution_count": 58,
   "metadata": {},
   "outputs": [],
   "source": [
    "df_check = pd.read_csv(\"/home/pdutta/Data/CSIRE_students/Anooshka/DNABERT_data/90_10/train.tsv\", sep= \"\\t\")"
   ]
  },
  {
   "cell_type": "code",
   "execution_count": 59,
   "metadata": {},
   "outputs": [
    {
     "data": {
      "text/html": [
       "<div>\n",
       "<style scoped>\n",
       "    .dataframe tbody tr th:only-of-type {\n",
       "        vertical-align: middle;\n",
       "    }\n",
       "\n",
       "    .dataframe tbody tr th {\n",
       "        vertical-align: top;\n",
       "    }\n",
       "\n",
       "    .dataframe thead th {\n",
       "        text-align: right;\n",
       "    }\n",
       "</style>\n",
       "<table border=\"1\" class=\"dataframe\">\n",
       "  <thead>\n",
       "    <tr style=\"text-align: right;\">\n",
       "      <th></th>\n",
       "      <th>sequence</th>\n",
       "      <th>label</th>\n",
       "    </tr>\n",
       "  </thead>\n",
       "  <tbody>\n",
       "    <tr>\n",
       "      <th>0</th>\n",
       "      <td>AGCGCT GCGCTC CGCTCT GCTCTC CTCTCA TCTCAA CTCA...</td>\n",
       "      <td>1</td>\n",
       "    </tr>\n",
       "    <tr>\n",
       "      <th>1</th>\n",
       "      <td>GAGTGG AGTGGA GTGGAG TGGAGG GGAGGA GAGGAA AGGA...</td>\n",
       "      <td>1</td>\n",
       "    </tr>\n",
       "    <tr>\n",
       "      <th>2</th>\n",
       "      <td>AGACCC GACCCC ACCCCC CCCCCA CCCCAA CCCAAA CCAA...</td>\n",
       "      <td>0</td>\n",
       "    </tr>\n",
       "    <tr>\n",
       "      <th>3</th>\n",
       "      <td>CTCCTT TCCTTG CCTTGA CTTGAG TTGAGT TGAGTT GAGT...</td>\n",
       "      <td>0</td>\n",
       "    </tr>\n",
       "    <tr>\n",
       "      <th>4</th>\n",
       "      <td>CTCCCT TCCCTC CCCTCT CCTCTT CTCTTC TCTTCT CTTC...</td>\n",
       "      <td>0</td>\n",
       "    </tr>\n",
       "    <tr>\n",
       "      <th>...</th>\n",
       "      <td>...</td>\n",
       "      <td>...</td>\n",
       "    </tr>\n",
       "    <tr>\n",
       "      <th>17821</th>\n",
       "      <td>AGAGGT GAGGTG AGGTGG GGTGGA GTGGAA TGGAAT GGAA...</td>\n",
       "      <td>0</td>\n",
       "    </tr>\n",
       "    <tr>\n",
       "      <th>17822</th>\n",
       "      <td>GGGGCA GGGCAA GGCAAA GCAAAC CAAACA AAACAG AACA...</td>\n",
       "      <td>0</td>\n",
       "    </tr>\n",
       "    <tr>\n",
       "      <th>17823</th>\n",
       "      <td>GAATGC AATGCA ATGCAC TGCACA GCACAC CACACC ACAC...</td>\n",
       "      <td>0</td>\n",
       "    </tr>\n",
       "    <tr>\n",
       "      <th>17824</th>\n",
       "      <td>CTGATT TGATTC GATTCT ATTCTT TTCTTT TCTTTG CTTT...</td>\n",
       "      <td>1</td>\n",
       "    </tr>\n",
       "    <tr>\n",
       "      <th>17825</th>\n",
       "      <td>CAGAAA AGAAAT GAAATA AAATAA AATAAA ATAAAA TAAA...</td>\n",
       "      <td>1</td>\n",
       "    </tr>\n",
       "  </tbody>\n",
       "</table>\n",
       "<p>17826 rows × 2 columns</p>\n",
       "</div>"
      ],
      "text/plain": [
       "                                                sequence  label\n",
       "0      AGCGCT GCGCTC CGCTCT GCTCTC CTCTCA TCTCAA CTCA...      1\n",
       "1      GAGTGG AGTGGA GTGGAG TGGAGG GGAGGA GAGGAA AGGA...      1\n",
       "2      AGACCC GACCCC ACCCCC CCCCCA CCCCAA CCCAAA CCAA...      0\n",
       "3      CTCCTT TCCTTG CCTTGA CTTGAG TTGAGT TGAGTT GAGT...      0\n",
       "4      CTCCCT TCCCTC CCCTCT CCTCTT CTCTTC TCTTCT CTTC...      0\n",
       "...                                                  ...    ...\n",
       "17821  AGAGGT GAGGTG AGGTGG GGTGGA GTGGAA TGGAAT GGAA...      0\n",
       "17822  GGGGCA GGGCAA GGCAAA GCAAAC CAAACA AAACAG AACA...      0\n",
       "17823  GAATGC AATGCA ATGCAC TGCACA GCACAC CACACC ACAC...      0\n",
       "17824  CTGATT TGATTC GATTCT ATTCTT TTCTTT TCTTTG CTTT...      1\n",
       "17825  CAGAAA AGAAAT GAAATA AAATAA AATAAA ATAAAA TAAA...      1\n",
       "\n",
       "[17826 rows x 2 columns]"
      ]
     },
     "execution_count": 59,
     "metadata": {},
     "output_type": "execute_result"
    }
   ],
   "source": [
    "df_check"
   ]
  },
  {
   "cell_type": "code",
   "execution_count": 56,
   "metadata": {},
   "outputs": [
    {
     "data": {
      "text/plain": [
       "Sequence    ATAATG TAATGT AATGTA ATGTAC TGTACA GTACAT TACA...\n",
       "Label                                                       1\n",
       "Name: 1, dtype: object"
      ]
     },
     "execution_count": 56,
     "metadata": {},
     "output_type": "execute_result"
    }
   ],
   "source": [
    "df_check.iloc[1]"
   ]
  },
  {
   "cell_type": "code",
   "execution_count": 57,
   "metadata": {},
   "outputs": [
    {
     "data": {
      "text/plain": [
       "Sequence    object\n",
       "Label        int64\n",
       "dtype: object"
      ]
     },
     "execution_count": 57,
     "metadata": {},
     "output_type": "execute_result"
    }
   ],
   "source": [
    "df_check.dtypes"
   ]
  },
  {
   "cell_type": "code",
   "execution_count": 149,
   "metadata": {},
   "outputs": [],
   "source": [
    "df_data1 = pd.read_csv(\"/home/pdutta/Data/CSIRE_students/Anooshka/raw_data/anooshka_dnabert_finetuning1.txt\")"
   ]
  },
  {
   "cell_type": "code",
   "execution_count": 150,
   "metadata": {},
   "outputs": [
    {
     "data": {
      "text/html": [
       "<div>\n",
       "<style scoped>\n",
       "    .dataframe tbody tr th:only-of-type {\n",
       "        vertical-align: middle;\n",
       "    }\n",
       "\n",
       "    .dataframe tbody tr th {\n",
       "        vertical-align: top;\n",
       "    }\n",
       "\n",
       "    .dataframe thead th {\n",
       "        text-align: right;\n",
       "    }\n",
       "</style>\n",
       "<table border=\"1\" class=\"dataframe\">\n",
       "  <thead>\n",
       "    <tr style=\"text-align: right;\">\n",
       "      <th></th>\n",
       "      <th>sequencelabel</th>\n",
       "    </tr>\n",
       "  </thead>\n",
       "  <tbody>\n",
       "    <tr>\n",
       "      <th>0</th>\n",
       "      <td>CATATG ATATGT TATGTG ATGTGA TGTGAA GTGAAA TGAA...</td>\n",
       "    </tr>\n",
       "    <tr>\n",
       "      <th>1</th>\n",
       "      <td>0</td>\n",
       "    </tr>\n",
       "    <tr>\n",
       "      <th>2</th>\n",
       "      <td>CAGTGG AGTGGC GTGGCT TGGCTC GGCTCA GCTCAT CTCA...</td>\n",
       "    </tr>\n",
       "    <tr>\n",
       "      <th>3</th>\n",
       "      <td>0</td>\n",
       "    </tr>\n",
       "    <tr>\n",
       "      <th>4</th>\n",
       "      <td>GAAATT AAATTT AATTTC ATTTCC TTTCCC TTCCCC TCCC...</td>\n",
       "    </tr>\n",
       "    <tr>\n",
       "      <th>...</th>\n",
       "      <td>...</td>\n",
       "    </tr>\n",
       "    <tr>\n",
       "      <th>39609</th>\n",
       "      <td>0</td>\n",
       "    </tr>\n",
       "    <tr>\n",
       "      <th>39610</th>\n",
       "      <td>CCCAAG CCAAGC CAAGCT AAGCTT AGCTTT GCTTTA CTTT...</td>\n",
       "    </tr>\n",
       "    <tr>\n",
       "      <th>39611</th>\n",
       "      <td>1</td>\n",
       "    </tr>\n",
       "    <tr>\n",
       "      <th>39612</th>\n",
       "      <td>TGATGC GATGCC ATGCCA TGCCAG GCCAGA CCAGAA CAGA...</td>\n",
       "    </tr>\n",
       "    <tr>\n",
       "      <th>39613</th>\n",
       "      <td>0</td>\n",
       "    </tr>\n",
       "  </tbody>\n",
       "</table>\n",
       "<p>39614 rows × 1 columns</p>\n",
       "</div>"
      ],
      "text/plain": [
       "                                           sequencelabel\n",
       "0      CATATG ATATGT TATGTG ATGTGA TGTGAA GTGAAA TGAA...\n",
       "1                                                      0\n",
       "2      CAGTGG AGTGGC GTGGCT TGGCTC GGCTCA GCTCAT CTCA...\n",
       "3                                                      0\n",
       "4      GAAATT AAATTT AATTTC ATTTCC TTTCCC TTCCCC TCCC...\n",
       "...                                                  ...\n",
       "39609                                                  0\n",
       "39610  CCCAAG CCAAGC CAAGCT AAGCTT AGCTTT GCTTTA CTTT...\n",
       "39611                                                  1\n",
       "39612  TGATGC GATGCC ATGCCA TGCCAG GCCAGA CCAGAA CAGA...\n",
       "39613                                                  0\n",
       "\n",
       "[39614 rows x 1 columns]"
      ]
     },
     "execution_count": 150,
     "metadata": {},
     "output_type": "execute_result"
    }
   ],
   "source": [
    "df_data1"
   ]
  },
  {
   "cell_type": "code",
   "execution_count": 151,
   "metadata": {},
   "outputs": [
    {
     "data": {
      "text/html": [
       "<div>\n",
       "<style scoped>\n",
       "    .dataframe tbody tr th:only-of-type {\n",
       "        vertical-align: middle;\n",
       "    }\n",
       "\n",
       "    .dataframe tbody tr th {\n",
       "        vertical-align: top;\n",
       "    }\n",
       "\n",
       "    .dataframe thead th {\n",
       "        text-align: right;\n",
       "    }\n",
       "</style>\n",
       "<table border=\"1\" class=\"dataframe\">\n",
       "  <thead>\n",
       "    <tr style=\"text-align: right;\">\n",
       "      <th></th>\n",
       "      <th>label</th>\n",
       "    </tr>\n",
       "  </thead>\n",
       "  <tbody>\n",
       "    <tr>\n",
       "      <th>0</th>\n",
       "      <td>0</td>\n",
       "    </tr>\n",
       "    <tr>\n",
       "      <th>1</th>\n",
       "      <td>0</td>\n",
       "    </tr>\n",
       "    <tr>\n",
       "      <th>2</th>\n",
       "      <td>0</td>\n",
       "    </tr>\n",
       "    <tr>\n",
       "      <th>3</th>\n",
       "      <td>1</td>\n",
       "    </tr>\n",
       "    <tr>\n",
       "      <th>4</th>\n",
       "      <td>1</td>\n",
       "    </tr>\n",
       "    <tr>\n",
       "      <th>...</th>\n",
       "      <td>...</td>\n",
       "    </tr>\n",
       "    <tr>\n",
       "      <th>19802</th>\n",
       "      <td>0</td>\n",
       "    </tr>\n",
       "    <tr>\n",
       "      <th>19803</th>\n",
       "      <td>0</td>\n",
       "    </tr>\n",
       "    <tr>\n",
       "      <th>19804</th>\n",
       "      <td>0</td>\n",
       "    </tr>\n",
       "    <tr>\n",
       "      <th>19805</th>\n",
       "      <td>1</td>\n",
       "    </tr>\n",
       "    <tr>\n",
       "      <th>19806</th>\n",
       "      <td>0</td>\n",
       "    </tr>\n",
       "  </tbody>\n",
       "</table>\n",
       "<p>19807 rows × 1 columns</p>\n",
       "</div>"
      ],
      "text/plain": [
       "      label\n",
       "0         0\n",
       "1         0\n",
       "2         0\n",
       "3         1\n",
       "4         1\n",
       "...     ...\n",
       "19802     0\n",
       "19803     0\n",
       "19804     0\n",
       "19805     1\n",
       "19806     0\n",
       "\n",
       "[19807 rows x 1 columns]"
      ]
     },
     "execution_count": 151,
     "metadata": {},
     "output_type": "execute_result"
    }
   ],
   "source": [
    "df_label = df_data1[df_data1.index%2==1].rename(columns={'sequencelabel':'label'}).reset_index(drop=True)\n",
    "df_label"
   ]
  },
  {
   "cell_type": "code",
   "execution_count": 152,
   "metadata": {},
   "outputs": [
    {
     "data": {
      "text/html": [
       "<div>\n",
       "<style scoped>\n",
       "    .dataframe tbody tr th:only-of-type {\n",
       "        vertical-align: middle;\n",
       "    }\n",
       "\n",
       "    .dataframe tbody tr th {\n",
       "        vertical-align: top;\n",
       "    }\n",
       "\n",
       "    .dataframe thead th {\n",
       "        text-align: right;\n",
       "    }\n",
       "</style>\n",
       "<table border=\"1\" class=\"dataframe\">\n",
       "  <thead>\n",
       "    <tr style=\"text-align: right;\">\n",
       "      <th></th>\n",
       "      <th>Sequence</th>\n",
       "    </tr>\n",
       "  </thead>\n",
       "  <tbody>\n",
       "    <tr>\n",
       "      <th>0</th>\n",
       "      <td>CATATG ATATGT TATGTG ATGTGA TGTGAA GTGAAA TGAA...</td>\n",
       "    </tr>\n",
       "    <tr>\n",
       "      <th>1</th>\n",
       "      <td>CAGTGG AGTGGC GTGGCT TGGCTC GGCTCA GCTCAT CTCA...</td>\n",
       "    </tr>\n",
       "    <tr>\n",
       "      <th>2</th>\n",
       "      <td>GAAATT AAATTT AATTTC ATTTCC TTTCCC TTCCCC TCCC...</td>\n",
       "    </tr>\n",
       "    <tr>\n",
       "      <th>3</th>\n",
       "      <td>TGGTTG GGTTGG GTTGGG TTGGGG TGGGGA GGGGAA GGGA...</td>\n",
       "    </tr>\n",
       "    <tr>\n",
       "      <th>4</th>\n",
       "      <td>GTCTGG TCTGGC CTGGCT TGGCTG GGCTGG GCTGGG CTGG...</td>\n",
       "    </tr>\n",
       "    <tr>\n",
       "      <th>...</th>\n",
       "      <td>...</td>\n",
       "    </tr>\n",
       "    <tr>\n",
       "      <th>19802</th>\n",
       "      <td>AGGCCA GGCCAA GCCAAT CCAATT CAATTG AATTGC ATTG...</td>\n",
       "    </tr>\n",
       "    <tr>\n",
       "      <th>19803</th>\n",
       "      <td>CGCAAT GCAATC CAATCG AATCGC ATCGCC TCGCCC CGCC...</td>\n",
       "    </tr>\n",
       "    <tr>\n",
       "      <th>19804</th>\n",
       "      <td>CCCGTG CCGTGG CGTGGC GTGGCC TGGCCC GGCCCA GCCC...</td>\n",
       "    </tr>\n",
       "    <tr>\n",
       "      <th>19805</th>\n",
       "      <td>CCCAAG CCAAGC CAAGCT AAGCTT AGCTTT GCTTTA CTTT...</td>\n",
       "    </tr>\n",
       "    <tr>\n",
       "      <th>19806</th>\n",
       "      <td>TGATGC GATGCC ATGCCA TGCCAG GCCAGA CCAGAA CAGA...</td>\n",
       "    </tr>\n",
       "  </tbody>\n",
       "</table>\n",
       "<p>19807 rows × 1 columns</p>\n",
       "</div>"
      ],
      "text/plain": [
       "                                                Sequence\n",
       "0      CATATG ATATGT TATGTG ATGTGA TGTGAA GTGAAA TGAA...\n",
       "1      CAGTGG AGTGGC GTGGCT TGGCTC GGCTCA GCTCAT CTCA...\n",
       "2      GAAATT AAATTT AATTTC ATTTCC TTTCCC TTCCCC TCCC...\n",
       "3      TGGTTG GGTTGG GTTGGG TTGGGG TGGGGA GGGGAA GGGA...\n",
       "4      GTCTGG TCTGGC CTGGCT TGGCTG GGCTGG GCTGGG CTGG...\n",
       "...                                                  ...\n",
       "19802  AGGCCA GGCCAA GCCAAT CCAATT CAATTG AATTGC ATTG...\n",
       "19803  CGCAAT GCAATC CAATCG AATCGC ATCGCC TCGCCC CGCC...\n",
       "19804  CCCGTG CCGTGG CGTGGC GTGGCC TGGCCC GGCCCA GCCC...\n",
       "19805  CCCAAG CCAAGC CAAGCT AAGCTT AGCTTT GCTTTA CTTT...\n",
       "19806  TGATGC GATGCC ATGCCA TGCCAG GCCAGA CCAGAA CAGA...\n",
       "\n",
       "[19807 rows x 1 columns]"
      ]
     },
     "execution_count": 152,
     "metadata": {},
     "output_type": "execute_result"
    }
   ],
   "source": [
    "df_sequence = df_data1[df_data1.index%2==0].rename(columns={'sequencelabel':'Sequence'}).reset_index(drop=True)\n",
    "df_sequence"
   ]
  },
  {
   "cell_type": "code",
   "execution_count": 154,
   "metadata": {},
   "outputs": [
    {
     "data": {
      "text/html": [
       "<div>\n",
       "<style scoped>\n",
       "    .dataframe tbody tr th:only-of-type {\n",
       "        vertical-align: middle;\n",
       "    }\n",
       "\n",
       "    .dataframe tbody tr th {\n",
       "        vertical-align: top;\n",
       "    }\n",
       "\n",
       "    .dataframe thead th {\n",
       "        text-align: right;\n",
       "    }\n",
       "</style>\n",
       "<table border=\"1\" class=\"dataframe\">\n",
       "  <thead>\n",
       "    <tr style=\"text-align: right;\">\n",
       "      <th></th>\n",
       "      <th>Sequence</th>\n",
       "      <th>label</th>\n",
       "    </tr>\n",
       "  </thead>\n",
       "  <tbody>\n",
       "    <tr>\n",
       "      <th>0</th>\n",
       "      <td>CATATG ATATGT TATGTG ATGTGA TGTGAA GTGAAA TGAA...</td>\n",
       "      <td>0</td>\n",
       "    </tr>\n",
       "    <tr>\n",
       "      <th>1</th>\n",
       "      <td>CAGTGG AGTGGC GTGGCT TGGCTC GGCTCA GCTCAT CTCA...</td>\n",
       "      <td>0</td>\n",
       "    </tr>\n",
       "    <tr>\n",
       "      <th>2</th>\n",
       "      <td>GAAATT AAATTT AATTTC ATTTCC TTTCCC TTCCCC TCCC...</td>\n",
       "      <td>0</td>\n",
       "    </tr>\n",
       "    <tr>\n",
       "      <th>3</th>\n",
       "      <td>TGGTTG GGTTGG GTTGGG TTGGGG TGGGGA GGGGAA GGGA...</td>\n",
       "      <td>1</td>\n",
       "    </tr>\n",
       "    <tr>\n",
       "      <th>4</th>\n",
       "      <td>GTCTGG TCTGGC CTGGCT TGGCTG GGCTGG GCTGGG CTGG...</td>\n",
       "      <td>1</td>\n",
       "    </tr>\n",
       "    <tr>\n",
       "      <th>...</th>\n",
       "      <td>...</td>\n",
       "      <td>...</td>\n",
       "    </tr>\n",
       "    <tr>\n",
       "      <th>19802</th>\n",
       "      <td>AGGCCA GGCCAA GCCAAT CCAATT CAATTG AATTGC ATTG...</td>\n",
       "      <td>0</td>\n",
       "    </tr>\n",
       "    <tr>\n",
       "      <th>19803</th>\n",
       "      <td>CGCAAT GCAATC CAATCG AATCGC ATCGCC TCGCCC CGCC...</td>\n",
       "      <td>0</td>\n",
       "    </tr>\n",
       "    <tr>\n",
       "      <th>19804</th>\n",
       "      <td>CCCGTG CCGTGG CGTGGC GTGGCC TGGCCC GGCCCA GCCC...</td>\n",
       "      <td>0</td>\n",
       "    </tr>\n",
       "    <tr>\n",
       "      <th>19805</th>\n",
       "      <td>CCCAAG CCAAGC CAAGCT AAGCTT AGCTTT GCTTTA CTTT...</td>\n",
       "      <td>1</td>\n",
       "    </tr>\n",
       "    <tr>\n",
       "      <th>19806</th>\n",
       "      <td>TGATGC GATGCC ATGCCA TGCCAG GCCAGA CCAGAA CAGA...</td>\n",
       "      <td>0</td>\n",
       "    </tr>\n",
       "  </tbody>\n",
       "</table>\n",
       "<p>19807 rows × 2 columns</p>\n",
       "</div>"
      ],
      "text/plain": [
       "                                                Sequence label\n",
       "0      CATATG ATATGT TATGTG ATGTGA TGTGAA GTGAAA TGAA...     0\n",
       "1      CAGTGG AGTGGC GTGGCT TGGCTC GGCTCA GCTCAT CTCA...     0\n",
       "2      GAAATT AAATTT AATTTC ATTTCC TTTCCC TTCCCC TCCC...     0\n",
       "3      TGGTTG GGTTGG GTTGGG TTGGGG TGGGGA GGGGAA GGGA...     1\n",
       "4      GTCTGG TCTGGC CTGGCT TGGCTG GGCTGG GCTGGG CTGG...     1\n",
       "...                                                  ...   ...\n",
       "19802  AGGCCA GGCCAA GCCAAT CCAATT CAATTG AATTGC ATTG...     0\n",
       "19803  CGCAAT GCAATC CAATCG AATCGC ATCGCC TCGCCC CGCC...     0\n",
       "19804  CCCGTG CCGTGG CGTGGC GTGGCC TGGCCC GGCCCA GCCC...     0\n",
       "19805  CCCAAG CCAAGC CAAGCT AAGCTT AGCTTT GCTTTA CTTT...     1\n",
       "19806  TGATGC GATGCC ATGCCA TGCCAG GCCAGA CCAGAA CAGA...     0\n",
       "\n",
       "[19807 rows x 2 columns]"
      ]
     },
     "execution_count": 154,
     "metadata": {},
     "output_type": "execute_result"
    }
   ],
   "source": [
    "result = pd.concat([df_sequence, df_label], axis=1, join='inner')\n",
    "result"
   ]
  },
  {
   "cell_type": "code",
   "execution_count": 156,
   "metadata": {},
   "outputs": [
    {
     "data": {
      "text/plain": [
       "label\n",
       "0    12942\n",
       "1     6865\n",
       "dtype: int64"
      ]
     },
     "execution_count": 156,
     "metadata": {},
     "output_type": "execute_result"
    }
   ],
   "source": [
    "result.groupby(['label']).size()"
   ]
  },
  {
   "cell_type": "code",
   "execution_count": 159,
   "metadata": {},
   "outputs": [
    {
     "name": "stdout",
     "output_type": "stream",
     "text": [
      "label\n",
      "0    11640\n",
      "1     6186\n",
      "dtype: int64 label\n",
      "0    1302\n",
      "1     679\n",
      "dtype: int64\n"
     ]
    }
   ],
   "source": [
    "train, test = train_test_split(result, test_size=0.10)\n",
    "#print (train.shape, test.shape)\n",
    "print(train.groupby(['label']).size(),  test.groupby(['label']).size())"
   ]
  },
  {
   "cell_type": "code",
   "execution_count": 160,
   "metadata": {},
   "outputs": [],
   "source": [
    "train.to_csv(\"/home/pdutta/Data/CSIRE_students/Anooshka/DNABERT_data/90_10/train.tsv\", sep=\"\\t\", index=False)\n",
    "test.to_csv(\"/home/pdutta/Data/CSIRE_students/Anooshka/DNABERT_data/90_10/dev.tsv\", sep=\"\\t\", index=False)"
   ]
  },
  {
   "cell_type": "code",
   "execution_count": null,
   "metadata": {},
   "outputs": [],
   "source": []
  }
 ],
 "metadata": {
  "kernelspec": {
   "display_name": "Python 3 (ipykernel)",
   "language": "python",
   "name": "python3"
  },
  "language_info": {
   "codemirror_mode": {
    "name": "ipython",
    "version": 3
   },
   "file_extension": ".py",
   "mimetype": "text/x-python",
   "name": "python",
   "nbconvert_exporter": "python",
   "pygments_lexer": "ipython3",
   "version": "3.10.4"
  }
 },
 "nbformat": 4,
 "nbformat_minor": 4
}
