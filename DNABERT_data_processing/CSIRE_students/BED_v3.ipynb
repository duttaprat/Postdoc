{
 "cells": [
  {
   "cell_type": "markdown",
   "metadata": {
    "id": "6N4x3Eyp0mL0"
   },
   "source": [
    "#Step 0: Import Packages and Set the Environment"
   ]
  },
  {
   "cell_type": "code",
   "execution_count": null,
   "metadata": {
    "colab": {
     "base_uri": "https://localhost:8080/"
    },
    "executionInfo": {
     "elapsed": 17998,
     "status": "ok",
     "timestamp": 1691014279134,
     "user": {
      "displayName": "Andy Lu",
      "userId": "13417629587562116810"
     },
     "user_tz": 240
    },
    "id": "EV20INJf6nDS",
    "outputId": "253ac3b8-3a78-4aaf-c17c-b4dfd1b0c553"
   },
   "outputs": [
    {
     "name": "stdout",
     "output_type": "stream",
     "text": [
      "Reading package lists... Done\n",
      "Building dependency tree... Done\n",
      "Reading state information... Done\n",
      "bedtools is already the newest version (2.30.0+dfsg-2ubuntu0.1).\n",
      "0 upgraded, 0 newly installed, 0 to remove and 15 not upgraded.\n",
      "Requirement already satisfied: phylopandas in /usr/local/lib/python3.10/dist-packages (0.8.0)\n",
      "Requirement already satisfied: pandas>=0.22.0 in /usr/local/lib/python3.10/dist-packages (from phylopandas) (1.5.3)\n",
      "Requirement already satisfied: pandas-flavor>=0.1.0 in /usr/local/lib/python3.10/dist-packages (from phylopandas) (0.6.0)\n",
      "Requirement already satisfied: biopython in /usr/local/lib/python3.10/dist-packages (from phylopandas) (1.81)\n",
      "Requirement already satisfied: dendropy in /usr/local/lib/python3.10/dist-packages (from phylopandas) (4.6.1)\n",
      "Requirement already satisfied: python-dateutil>=2.8.1 in /usr/local/lib/python3.10/dist-packages (from pandas>=0.22.0->phylopandas) (2.8.2)\n",
      "Requirement already satisfied: pytz>=2020.1 in /usr/local/lib/python3.10/dist-packages (from pandas>=0.22.0->phylopandas) (2022.7.1)\n",
      "Requirement already satisfied: numpy>=1.21.0 in /usr/local/lib/python3.10/dist-packages (from pandas>=0.22.0->phylopandas) (1.22.4)\n",
      "Requirement already satisfied: xarray in /usr/local/lib/python3.10/dist-packages (from pandas-flavor>=0.1.0->phylopandas) (2022.12.0)\n",
      "Requirement already satisfied: setuptools in /usr/local/lib/python3.10/dist-packages (from dendropy->phylopandas) (67.7.2)\n",
      "Requirement already satisfied: six>=1.5 in /usr/local/lib/python3.10/dist-packages (from python-dateutil>=2.8.1->pandas>=0.22.0->phylopandas) (1.16.0)\n",
      "Requirement already satisfied: packaging>=21.3 in /usr/local/lib/python3.10/dist-packages (from xarray->pandas-flavor>=0.1.0->phylopandas) (23.1)\n",
      "Requirement already satisfied: pybedtools in /usr/local/lib/python3.10/dist-packages (0.9.0)\n",
      "Requirement already satisfied: six in /usr/local/lib/python3.10/dist-packages (from pybedtools) (1.16.0)\n",
      "Requirement already satisfied: pysam in /usr/local/lib/python3.10/dist-packages (from pybedtools) (0.21.0)\n",
      "Requirement already satisfied: cython in /usr/local/lib/python3.10/dist-packages (from pysam->pybedtools) (0.29.36)\n",
      "Requirement already satisfied: bio in /usr/local/lib/python3.10/dist-packages (1.5.9)\n",
      "Requirement already satisfied: biopython>=1.80 in /usr/local/lib/python3.10/dist-packages (from bio) (1.81)\n",
      "Requirement already satisfied: requests in /usr/local/lib/python3.10/dist-packages (from bio) (2.27.1)\n",
      "Requirement already satisfied: tqdm in /usr/local/lib/python3.10/dist-packages (from bio) (4.65.0)\n",
      "Requirement already satisfied: mygene in /usr/local/lib/python3.10/dist-packages (from bio) (3.2.2)\n",
      "Requirement already satisfied: pandas in /usr/local/lib/python3.10/dist-packages (from bio) (1.5.3)\n",
      "Requirement already satisfied: pooch in /usr/local/lib/python3.10/dist-packages (from bio) (1.6.0)\n",
      "Requirement already satisfied: gprofiler-official in /usr/local/lib/python3.10/dist-packages (from bio) (1.0.0)\n",
      "Requirement already satisfied: numpy in /usr/local/lib/python3.10/dist-packages (from biopython>=1.80->bio) (1.22.4)\n",
      "Requirement already satisfied: biothings-client>=0.2.6 in /usr/local/lib/python3.10/dist-packages (from mygene->bio) (0.3.0)\n",
      "Requirement already satisfied: python-dateutil>=2.8.1 in /usr/local/lib/python3.10/dist-packages (from pandas->bio) (2.8.2)\n",
      "Requirement already satisfied: pytz>=2020.1 in /usr/local/lib/python3.10/dist-packages (from pandas->bio) (2022.7.1)\n",
      "Requirement already satisfied: appdirs>=1.3.0 in /usr/local/lib/python3.10/dist-packages (from pooch->bio) (1.4.4)\n",
      "Requirement already satisfied: packaging>=20.0 in /usr/local/lib/python3.10/dist-packages (from pooch->bio) (23.1)\n",
      "Requirement already satisfied: urllib3<1.27,>=1.21.1 in /usr/local/lib/python3.10/dist-packages (from requests->bio) (1.26.16)\n",
      "Requirement already satisfied: certifi>=2017.4.17 in /usr/local/lib/python3.10/dist-packages (from requests->bio) (2023.7.22)\n",
      "Requirement already satisfied: charset-normalizer~=2.0.0 in /usr/local/lib/python3.10/dist-packages (from requests->bio) (2.0.12)\n",
      "Requirement already satisfied: idna<4,>=2.5 in /usr/local/lib/python3.10/dist-packages (from requests->bio) (3.4)\n",
      "Requirement already satisfied: six>=1.5 in /usr/local/lib/python3.10/dist-packages (from python-dateutil>=2.8.1->pandas->bio) (1.16.0)\n"
     ]
    }
   ],
   "source": [
    "!apt-get install bedtools\n",
    "!pip install phylopandas\n",
    "!pip install pybedtools\n",
    "!pip install bio"
   ]
  },
  {
   "cell_type": "code",
   "execution_count": null,
   "metadata": {
    "colab": {
     "base_uri": "https://localhost:8080/"
    },
    "executionInfo": {
     "elapsed": 3800,
     "status": "ok",
     "timestamp": 1691014282932,
     "user": {
      "displayName": "Andy Lu",
      "userId": "13417629587562116810"
     },
     "user_tz": 240
    },
    "id": "y_7N47BUVzYb",
    "outputId": "03f86b00-2c6f-469e-b7cb-b8932261e6fd"
   },
   "outputs": [
    {
     "name": "stdout",
     "output_type": "stream",
     "text": [
      "Drive already mounted at /content/drive; to attempt to forcibly remount, call drive.mount(\"/content/drive\", force_remount=True).\n"
     ]
    }
   ],
   "source": [
    "import pybedtools\n",
    "from pybedtools import BedTool\n",
    "import glob\n",
    "import os\n",
    "import Bio\n",
    "from Bio import SeqIO\n",
    "from Bio.SeqRecord import SeqRecord\n",
    "from Bio.Seq import Seq\n",
    "from collections import defaultdict\n",
    "import pandas as pd\n",
    "import subprocess\n",
    "import pysam\n",
    "from pysam import VariantFile\n",
    "import matplotlib.pyplot as plt\n",
    "import numpy as np\n",
    "from google.colab import drive\n",
    "drive.mount('/content/drive')"
   ]
  },
  {
   "cell_type": "code",
   "execution_count": null,
   "metadata": {
    "id": "nU6EzNHY-Wz9"
   },
   "outputs": [],
   "source": [
    "def bed_to_df(bed_tsv):\n",
    "  df=pd.read_csv(bed_tsv,sep='\\t',header=None)\n",
    "  df.columns=['chrom','start','end']\n",
    "  return(df)\n",
    "\n",
    "def vcf_to_df(vcf_file):\n",
    "  vcf_in = VariantFile(vcf_file)\n",
    "  counter=0\n",
    "  data=[]\n",
    "  for entry in vcf_in:\n",
    "    counter=counter+1\n",
    "    data.append([entry.chrom,entry.pos,entry.id,entry.ref,entry.alts,entry.qual,entry.filter,entry.info,entry.format,entry.samples])\n",
    "  print(\"Total number of entries=%d\"%counter)\n",
    "  vcf_in.close()\n",
    "  df = pd.DataFrame(data, columns=['chrom','pos','id','ref','alts','qual','filter','info','format','samples'])\n",
    "  return(df)\n",
    "\n",
    "def fasta_to_df(fasta_file):\n",
    "  identifiers=[]\n",
    "  lengths=[]\n",
    "  for seq_record in SeqIO.parse(fasta_file, 'fasta'):\n",
    "    identifiers.append(str(seq_record.seq))\n",
    "    lengths.append(len(seq_record.seq))\n",
    "  d={'Sequence':identifiers,'Len':lengths}\n",
    "  df=pd.DataFrame(d)\n",
    "  return(df)\n",
    "\n",
    "def Generate_Sequences(bed_user,fasta_user):\n",
    "  fasta_file = BedTool(fasta_user)\n",
    "  bed_file=BedTool(bed_user)\n",
    "  bed_with_seq = bed_file.sequence(fi=fasta_file)\n",
    "  outputfile=path+'out.fasta'\n",
    "  bed_with_seq.save_seqs(outputfile)\n",
    "  df=fasta_to_df(outputfile)\n",
    "  return(df)"
   ]
  },
  {
   "cell_type": "code",
   "execution_count": null,
   "metadata": {
    "id": "0xhPjVd_dVqF"
   },
   "outputs": [],
   "source": [
    "path='/content/drive/MyDrive/CSIRE/Sequencing/'"
   ]
  },
  {
   "cell_type": "markdown",
   "metadata": {
    "id": "lioS14yb0t42"
   },
   "source": [
    "##Test: Using Pandas to Visualize the Reference Genome"
   ]
  },
  {
   "cell_type": "code",
   "execution_count": null,
   "metadata": {
    "id": "MFSPyZwLI0hu"
   },
   "outputs": [],
   "source": [
    "with open(path+'GRCh38.primary_assembly.genome.fa') as fasta_file:\n",
    "  identifiers=[]\n",
    "  lengths=[]\n",
    "  for seq_record in SeqIO.parse(fasta_file, 'fasta'):\n",
    "    identifiers.append(str(seq_record.seq))\n",
    "    lengths.append(len(seq_record.seq))"
   ]
  },
  {
   "cell_type": "code",
   "execution_count": null,
   "metadata": {
    "colab": {
     "base_uri": "https://localhost:8080/",
     "height": 424
    },
    "executionInfo": {
     "elapsed": 10121,
     "status": "ok",
     "timestamp": 1691014350629,
     "user": {
      "displayName": "Andy Lu",
      "userId": "13417629587562116810"
     },
     "user_tz": 240
    },
    "id": "M-OKIwwJAzMw",
    "outputId": "9a75a57d-4956-4ddf-b136-335a9824f49e"
   },
   "outputs": [
    {
     "data": {
      "text/html": [
       "\n",
       "\n",
       "  <div id=\"df-c2357338-951f-45d0-a2cb-baf0d2f301ba\">\n",
       "    <div class=\"colab-df-container\">\n",
       "      <div>\n",
       "<style scoped>\n",
       "    .dataframe tbody tr th:only-of-type {\n",
       "        vertical-align: middle;\n",
       "    }\n",
       "\n",
       "    .dataframe tbody tr th {\n",
       "        vertical-align: top;\n",
       "    }\n",
       "\n",
       "    .dataframe thead th {\n",
       "        text-align: right;\n",
       "    }\n",
       "</style>\n",
       "<table border=\"1\" class=\"dataframe\">\n",
       "  <thead>\n",
       "    <tr style=\"text-align: right;\">\n",
       "      <th></th>\n",
       "      <th>Sequence</th>\n",
       "      <th>Len</th>\n",
       "    </tr>\n",
       "  </thead>\n",
       "  <tbody>\n",
       "    <tr>\n",
       "      <th>0</th>\n",
       "      <td>NNNNNNNNNNNNNNNNNNNNNNNNNNNNNNNNNNNNNNNNNNNNNN...</td>\n",
       "      <td>248956422</td>\n",
       "    </tr>\n",
       "    <tr>\n",
       "      <th>1</th>\n",
       "      <td>NNNNNNNNNNNNNNNNNNNNNNNNNNNNNNNNNNNNNNNNNNNNNN...</td>\n",
       "      <td>242193529</td>\n",
       "    </tr>\n",
       "    <tr>\n",
       "      <th>2</th>\n",
       "      <td>NNNNNNNNNNNNNNNNNNNNNNNNNNNNNNNNNNNNNNNNNNNNNN...</td>\n",
       "      <td>198295559</td>\n",
       "    </tr>\n",
       "    <tr>\n",
       "      <th>3</th>\n",
       "      <td>NNNNNNNNNNNNNNNNNNNNNNNNNNNNNNNNNNNNNNNNNNNNNN...</td>\n",
       "      <td>190214555</td>\n",
       "    </tr>\n",
       "    <tr>\n",
       "      <th>4</th>\n",
       "      <td>NNNNNNNNNNNNNNNNNNNNNNNNNNNNNNNNNNNNNNNNNNNNNN...</td>\n",
       "      <td>181538259</td>\n",
       "    </tr>\n",
       "    <tr>\n",
       "      <th>...</th>\n",
       "      <td>...</td>\n",
       "      <td>...</td>\n",
       "    </tr>\n",
       "    <tr>\n",
       "      <th>189</th>\n",
       "      <td>GAACACCTAAACGCCCTAAATTCTTTCTTTACTCCATTCTGCTCCT...</td>\n",
       "      <td>62944</td>\n",
       "    </tr>\n",
       "    <tr>\n",
       "      <th>190</th>\n",
       "      <td>GCATAGTCAAGTTTGCAAACCACTGCTCTCGAGTTTTAATTGACAT...</td>\n",
       "      <td>40191</td>\n",
       "    </tr>\n",
       "    <tr>\n",
       "      <th>191</th>\n",
       "      <td>TTAAACGGTTGTTTCACTGCGGGGAAAAGAGTATCCCAAGCTCCTC...</td>\n",
       "      <td>36723</td>\n",
       "    </tr>\n",
       "    <tr>\n",
       "      <th>192</th>\n",
       "      <td>ACGATCTCACTGTGTCACCCAGGTTGGAGTGCGGTGCACAATCTGA...</td>\n",
       "      <td>79590</td>\n",
       "    </tr>\n",
       "    <tr>\n",
       "      <th>193</th>\n",
       "      <td>GTTTTTGAACTGCTAAATAAAAAGAAAGGTTCATCTCTGTGAGACG...</td>\n",
       "      <td>71251</td>\n",
       "    </tr>\n",
       "  </tbody>\n",
       "</table>\n",
       "<p>194 rows × 2 columns</p>\n",
       "</div>\n",
       "      <button class=\"colab-df-convert\" onclick=\"convertToInteractive('df-c2357338-951f-45d0-a2cb-baf0d2f301ba')\"\n",
       "              title=\"Convert this dataframe to an interactive table.\"\n",
       "              style=\"display:none;\">\n",
       "\n",
       "  <svg xmlns=\"http://www.w3.org/2000/svg\" height=\"24px\"viewBox=\"0 0 24 24\"\n",
       "       width=\"24px\">\n",
       "    <path d=\"M0 0h24v24H0V0z\" fill=\"none\"/>\n",
       "    <path d=\"M18.56 5.44l.94 2.06.94-2.06 2.06-.94-2.06-.94-.94-2.06-.94 2.06-2.06.94zm-11 1L8.5 8.5l.94-2.06 2.06-.94-2.06-.94L8.5 2.5l-.94 2.06-2.06.94zm10 10l.94 2.06.94-2.06 2.06-.94-2.06-.94-.94-2.06-.94 2.06-2.06.94z\"/><path d=\"M17.41 7.96l-1.37-1.37c-.4-.4-.92-.59-1.43-.59-.52 0-1.04.2-1.43.59L10.3 9.45l-7.72 7.72c-.78.78-.78 2.05 0 2.83L4 21.41c.39.39.9.59 1.41.59.51 0 1.02-.2 1.41-.59l7.78-7.78 2.81-2.81c.8-.78.8-2.07 0-2.86zM5.41 20L4 18.59l7.72-7.72 1.47 1.35L5.41 20z\"/>\n",
       "  </svg>\n",
       "      </button>\n",
       "\n",
       "\n",
       "\n",
       "    <div id=\"df-e8e6c15f-3569-4dfc-858d-2a36d26ddcf4\">\n",
       "      <button class=\"colab-df-quickchart\" onclick=\"quickchart('df-e8e6c15f-3569-4dfc-858d-2a36d26ddcf4')\"\n",
       "              title=\"Suggest charts.\"\n",
       "              style=\"display:none;\">\n",
       "\n",
       "<svg xmlns=\"http://www.w3.org/2000/svg\" height=\"24px\"viewBox=\"0 0 24 24\"\n",
       "     width=\"24px\">\n",
       "    <g>\n",
       "        <path d=\"M19 3H5c-1.1 0-2 .9-2 2v14c0 1.1.9 2 2 2h14c1.1 0 2-.9 2-2V5c0-1.1-.9-2-2-2zM9 17H7v-7h2v7zm4 0h-2V7h2v10zm4 0h-2v-4h2v4z\"/>\n",
       "    </g>\n",
       "</svg>\n",
       "      </button>\n",
       "    </div>\n",
       "\n",
       "<style>\n",
       "  .colab-df-quickchart {\n",
       "    background-color: #E8F0FE;\n",
       "    border: none;\n",
       "    border-radius: 50%;\n",
       "    cursor: pointer;\n",
       "    display: none;\n",
       "    fill: #1967D2;\n",
       "    height: 32px;\n",
       "    padding: 0 0 0 0;\n",
       "    width: 32px;\n",
       "  }\n",
       "\n",
       "  .colab-df-quickchart:hover {\n",
       "    background-color: #E2EBFA;\n",
       "    box-shadow: 0px 1px 2px rgba(60, 64, 67, 0.3), 0px 1px 3px 1px rgba(60, 64, 67, 0.15);\n",
       "    fill: #174EA6;\n",
       "  }\n",
       "\n",
       "  [theme=dark] .colab-df-quickchart {\n",
       "    background-color: #3B4455;\n",
       "    fill: #D2E3FC;\n",
       "  }\n",
       "\n",
       "  [theme=dark] .colab-df-quickchart:hover {\n",
       "    background-color: #434B5C;\n",
       "    box-shadow: 0px 1px 3px 1px rgba(0, 0, 0, 0.15);\n",
       "    filter: drop-shadow(0px 1px 2px rgba(0, 0, 0, 0.3));\n",
       "    fill: #FFFFFF;\n",
       "  }\n",
       "</style>\n",
       "\n",
       "    <script>\n",
       "      async function quickchart(key) {\n",
       "        const containerElement = document.querySelector('#' + key);\n",
       "        const charts = await google.colab.kernel.invokeFunction(\n",
       "            'suggestCharts', [key], {});\n",
       "      }\n",
       "    </script>\n",
       "\n",
       "      <script>\n",
       "\n",
       "function displayQuickchartButton(domScope) {\n",
       "  let quickchartButtonEl =\n",
       "    domScope.querySelector('#df-e8e6c15f-3569-4dfc-858d-2a36d26ddcf4 button.colab-df-quickchart');\n",
       "  quickchartButtonEl.style.display =\n",
       "    google.colab.kernel.accessAllowed ? 'block' : 'none';\n",
       "}\n",
       "\n",
       "        displayQuickchartButton(document);\n",
       "      </script>\n",
       "      <style>\n",
       "    .colab-df-container {\n",
       "      display:flex;\n",
       "      flex-wrap:wrap;\n",
       "      gap: 12px;\n",
       "    }\n",
       "\n",
       "    .colab-df-convert {\n",
       "      background-color: #E8F0FE;\n",
       "      border: none;\n",
       "      border-radius: 50%;\n",
       "      cursor: pointer;\n",
       "      display: none;\n",
       "      fill: #1967D2;\n",
       "      height: 32px;\n",
       "      padding: 0 0 0 0;\n",
       "      width: 32px;\n",
       "    }\n",
       "\n",
       "    .colab-df-convert:hover {\n",
       "      background-color: #E2EBFA;\n",
       "      box-shadow: 0px 1px 2px rgba(60, 64, 67, 0.3), 0px 1px 3px 1px rgba(60, 64, 67, 0.15);\n",
       "      fill: #174EA6;\n",
       "    }\n",
       "\n",
       "    [theme=dark] .colab-df-convert {\n",
       "      background-color: #3B4455;\n",
       "      fill: #D2E3FC;\n",
       "    }\n",
       "\n",
       "    [theme=dark] .colab-df-convert:hover {\n",
       "      background-color: #434B5C;\n",
       "      box-shadow: 0px 1px 3px 1px rgba(0, 0, 0, 0.15);\n",
       "      filter: drop-shadow(0px 1px 2px rgba(0, 0, 0, 0.3));\n",
       "      fill: #FFFFFF;\n",
       "    }\n",
       "  </style>\n",
       "\n",
       "      <script>\n",
       "        const buttonEl =\n",
       "          document.querySelector('#df-c2357338-951f-45d0-a2cb-baf0d2f301ba button.colab-df-convert');\n",
       "        buttonEl.style.display =\n",
       "          google.colab.kernel.accessAllowed ? 'block' : 'none';\n",
       "\n",
       "        async function convertToInteractive(key) {\n",
       "          const element = document.querySelector('#df-c2357338-951f-45d0-a2cb-baf0d2f301ba');\n",
       "          const dataTable =\n",
       "            await google.colab.kernel.invokeFunction('convertToInteractive',\n",
       "                                                     [key], {});\n",
       "          if (!dataTable) return;\n",
       "\n",
       "          const docLinkHtml = 'Like what you see? Visit the ' +\n",
       "            '<a target=\"_blank\" href=https://colab.research.google.com/notebooks/data_table.ipynb>data table notebook</a>'\n",
       "            + ' to learn more about interactive tables.';\n",
       "          element.innerHTML = '';\n",
       "          dataTable['output_type'] = 'display_data';\n",
       "          await google.colab.output.renderOutput(dataTable, element);\n",
       "          const docLink = document.createElement('div');\n",
       "          docLink.innerHTML = docLinkHtml;\n",
       "          element.appendChild(docLink);\n",
       "        }\n",
       "      </script>\n",
       "    </div>\n",
       "  </div>\n"
      ],
      "text/plain": [
       "                                              Sequence        Len\n",
       "0    NNNNNNNNNNNNNNNNNNNNNNNNNNNNNNNNNNNNNNNNNNNNNN...  248956422\n",
       "1    NNNNNNNNNNNNNNNNNNNNNNNNNNNNNNNNNNNNNNNNNNNNNN...  242193529\n",
       "2    NNNNNNNNNNNNNNNNNNNNNNNNNNNNNNNNNNNNNNNNNNNNNN...  198295559\n",
       "3    NNNNNNNNNNNNNNNNNNNNNNNNNNNNNNNNNNNNNNNNNNNNNN...  190214555\n",
       "4    NNNNNNNNNNNNNNNNNNNNNNNNNNNNNNNNNNNNNNNNNNNNNN...  181538259\n",
       "..                                                 ...        ...\n",
       "189  GAACACCTAAACGCCCTAAATTCTTTCTTTACTCCATTCTGCTCCT...      62944\n",
       "190  GCATAGTCAAGTTTGCAAACCACTGCTCTCGAGTTTTAATTGACAT...      40191\n",
       "191  TTAAACGGTTGTTTCACTGCGGGGAAAAGAGTATCCCAAGCTCCTC...      36723\n",
       "192  ACGATCTCACTGTGTCACCCAGGTTGGAGTGCGGTGCACAATCTGA...      79590\n",
       "193  GTTTTTGAACTGCTAAATAAAAAGAAAGGTTCATCTCTGTGAGACG...      71251\n",
       "\n",
       "[194 rows x 2 columns]"
      ]
     },
     "execution_count": 6,
     "metadata": {},
     "output_type": "execute_result"
    }
   ],
   "source": [
    "d={'Sequence':identifiers,'Len':lengths}\n",
    "data=pd.DataFrame(d)\n",
    "data"
   ]
  },
  {
   "cell_type": "code",
   "execution_count": null,
   "metadata": {
    "colab": {
     "base_uri": "https://localhost:8080/"
    },
    "executionInfo": {
     "elapsed": 1620,
     "status": "ok",
     "timestamp": 1691014352246,
     "user": {
      "displayName": "Andy Lu",
      "userId": "13417629587562116810"
     },
     "user_tz": 240
    },
    "id": "03eRoRozyZ5D",
    "outputId": "8280f850-2026-4580-f6b8-6906fd96e3b4"
   },
   "outputs": [
    {
     "data": {
      "text/plain": [
       "3"
      ]
     },
     "execution_count": 7,
     "metadata": {},
     "output_type": "execute_result"
    }
   ],
   "source": [
    "data.Sequence[1:4].nunique()"
   ]
  },
  {
   "cell_type": "markdown",
   "metadata": {
    "id": "4ecAiuZO2sQg"
   },
   "source": [
    "##Test: Using Pandas to Visualize Core Promoter Regions"
   ]
  },
  {
   "cell_type": "code",
   "execution_count": null,
   "metadata": {
    "colab": {
     "base_uri": "https://localhost:8080/",
     "height": 169
    },
    "executionInfo": {
     "elapsed": 144,
     "status": "error",
     "timestamp": 1691014352386,
     "user": {
      "displayName": "Andy Lu",
      "userId": "13417629587562116810"
     },
     "user_tz": 240
    },
    "id": "xzQf6q0e2qrN",
    "outputId": "7c17af31-f622-4583-8759-4da9a325ed22"
   },
   "outputs": [
    {
     "ename": "NameError",
     "evalue": "ignored",
     "output_type": "error",
     "traceback": [
      "\u001b[0;31m---------------------------------------------------------------------------\u001b[0m",
      "\u001b[0;31mNameError\u001b[0m                                 Traceback (most recent call last)",
      "\u001b[0;32m<ipython-input-8-7eebe3770cea>\u001b[0m in \u001b[0;36m<cell line: 1>\u001b[0;34m()\u001b[0m\n\u001b[0;32m----> 1\u001b[0;31m \u001b[0mdf_bed\u001b[0m\u001b[0;34m\u001b[0m\u001b[0;34m\u001b[0m\u001b[0m\n\u001b[0m",
      "\u001b[0;31mNameError\u001b[0m: name 'df_bed' is not defined"
     ]
    }
   ],
   "source": [
    "df_bed"
   ]
  },
  {
   "cell_type": "markdown",
   "metadata": {
    "id": "XOFhN3Sa00k6"
   },
   "source": [
    "# Step 1: Using Pybedtools to Analyze the Reference Genome"
   ]
  },
  {
   "cell_type": "code",
   "execution_count": null,
   "metadata": {
    "colab": {
     "base_uri": "https://localhost:8080/",
     "height": 206
    },
    "executionInfo": {
     "elapsed": 2074,
     "status": "ok",
     "timestamp": 1691014963211,
     "user": {
      "displayName": "Andy Lu",
      "userId": "13417629587562116810"
     },
     "user_tz": 240
    },
    "id": "l2gc16tZcaoU",
    "outputId": "3d553412-ed32-453d-eb2c-6f5c3e9bda16"
   },
   "outputs": [
    {
     "data": {
      "text/html": [
       "\n",
       "\n",
       "  <div id=\"df-6c8b5c8c-654c-4f51-b6a4-4f90f655d4ad\">\n",
       "    <div class=\"colab-df-container\">\n",
       "      <div>\n",
       "<style scoped>\n",
       "    .dataframe tbody tr th:only-of-type {\n",
       "        vertical-align: middle;\n",
       "    }\n",
       "\n",
       "    .dataframe tbody tr th {\n",
       "        vertical-align: top;\n",
       "    }\n",
       "\n",
       "    .dataframe thead th {\n",
       "        text-align: right;\n",
       "    }\n",
       "</style>\n",
       "<table border=\"1\" class=\"dataframe\">\n",
       "  <thead>\n",
       "    <tr style=\"text-align: right;\">\n",
       "      <th></th>\n",
       "      <th>chrom</th>\n",
       "      <th>start</th>\n",
       "      <th>end</th>\n",
       "    </tr>\n",
       "  </thead>\n",
       "  <tbody>\n",
       "    <tr>\n",
       "      <th>0</th>\n",
       "      <td>chr1</td>\n",
       "      <td>24401417</td>\n",
       "      <td>24401497</td>\n",
       "    </tr>\n",
       "    <tr>\n",
       "      <th>1</th>\n",
       "      <td>chr1</td>\n",
       "      <td>24383964</td>\n",
       "      <td>24384044</td>\n",
       "    </tr>\n",
       "    <tr>\n",
       "      <th>2</th>\n",
       "      <td>chr1</td>\n",
       "      <td>24379784</td>\n",
       "      <td>24379864</td>\n",
       "    </tr>\n",
       "    <tr>\n",
       "      <th>3</th>\n",
       "      <td>chr1</td>\n",
       "      <td>24373771</td>\n",
       "      <td>24373851</td>\n",
       "    </tr>\n",
       "    <tr>\n",
       "      <th>4</th>\n",
       "      <td>chr1</td>\n",
       "      <td>24369800</td>\n",
       "      <td>24369880</td>\n",
       "    </tr>\n",
       "  </tbody>\n",
       "</table>\n",
       "</div>\n",
       "      <button class=\"colab-df-convert\" onclick=\"convertToInteractive('df-6c8b5c8c-654c-4f51-b6a4-4f90f655d4ad')\"\n",
       "              title=\"Convert this dataframe to an interactive table.\"\n",
       "              style=\"display:none;\">\n",
       "\n",
       "  <svg xmlns=\"http://www.w3.org/2000/svg\" height=\"24px\"viewBox=\"0 0 24 24\"\n",
       "       width=\"24px\">\n",
       "    <path d=\"M0 0h24v24H0V0z\" fill=\"none\"/>\n",
       "    <path d=\"M18.56 5.44l.94 2.06.94-2.06 2.06-.94-2.06-.94-.94-2.06-.94 2.06-2.06.94zm-11 1L8.5 8.5l.94-2.06 2.06-.94-2.06-.94L8.5 2.5l-.94 2.06-2.06.94zm10 10l.94 2.06.94-2.06 2.06-.94-2.06-.94-.94-2.06-.94 2.06-2.06.94z\"/><path d=\"M17.41 7.96l-1.37-1.37c-.4-.4-.92-.59-1.43-.59-.52 0-1.04.2-1.43.59L10.3 9.45l-7.72 7.72c-.78.78-.78 2.05 0 2.83L4 21.41c.39.39.9.59 1.41.59.51 0 1.02-.2 1.41-.59l7.78-7.78 2.81-2.81c.8-.78.8-2.07 0-2.86zM5.41 20L4 18.59l7.72-7.72 1.47 1.35L5.41 20z\"/>\n",
       "  </svg>\n",
       "      </button>\n",
       "\n",
       "\n",
       "\n",
       "    <div id=\"df-955768a4-0303-40f5-a013-bbf360afcaea\">\n",
       "      <button class=\"colab-df-quickchart\" onclick=\"quickchart('df-955768a4-0303-40f5-a013-bbf360afcaea')\"\n",
       "              title=\"Suggest charts.\"\n",
       "              style=\"display:none;\">\n",
       "\n",
       "<svg xmlns=\"http://www.w3.org/2000/svg\" height=\"24px\"viewBox=\"0 0 24 24\"\n",
       "     width=\"24px\">\n",
       "    <g>\n",
       "        <path d=\"M19 3H5c-1.1 0-2 .9-2 2v14c0 1.1.9 2 2 2h14c1.1 0 2-.9 2-2V5c0-1.1-.9-2-2-2zM9 17H7v-7h2v7zm4 0h-2V7h2v10zm4 0h-2v-4h2v4z\"/>\n",
       "    </g>\n",
       "</svg>\n",
       "      </button>\n",
       "    </div>\n",
       "\n",
       "<style>\n",
       "  .colab-df-quickchart {\n",
       "    background-color: #E8F0FE;\n",
       "    border: none;\n",
       "    border-radius: 50%;\n",
       "    cursor: pointer;\n",
       "    display: none;\n",
       "    fill: #1967D2;\n",
       "    height: 32px;\n",
       "    padding: 0 0 0 0;\n",
       "    width: 32px;\n",
       "  }\n",
       "\n",
       "  .colab-df-quickchart:hover {\n",
       "    background-color: #E2EBFA;\n",
       "    box-shadow: 0px 1px 2px rgba(60, 64, 67, 0.3), 0px 1px 3px 1px rgba(60, 64, 67, 0.15);\n",
       "    fill: #174EA6;\n",
       "  }\n",
       "\n",
       "  [theme=dark] .colab-df-quickchart {\n",
       "    background-color: #3B4455;\n",
       "    fill: #D2E3FC;\n",
       "  }\n",
       "\n",
       "  [theme=dark] .colab-df-quickchart:hover {\n",
       "    background-color: #434B5C;\n",
       "    box-shadow: 0px 1px 3px 1px rgba(0, 0, 0, 0.15);\n",
       "    filter: drop-shadow(0px 1px 2px rgba(0, 0, 0, 0.3));\n",
       "    fill: #FFFFFF;\n",
       "  }\n",
       "</style>\n",
       "\n",
       "    <script>\n",
       "      async function quickchart(key) {\n",
       "        const containerElement = document.querySelector('#' + key);\n",
       "        const charts = await google.colab.kernel.invokeFunction(\n",
       "            'suggestCharts', [key], {});\n",
       "      }\n",
       "    </script>\n",
       "\n",
       "      <script>\n",
       "\n",
       "function displayQuickchartButton(domScope) {\n",
       "  let quickchartButtonEl =\n",
       "    domScope.querySelector('#df-955768a4-0303-40f5-a013-bbf360afcaea button.colab-df-quickchart');\n",
       "  quickchartButtonEl.style.display =\n",
       "    google.colab.kernel.accessAllowed ? 'block' : 'none';\n",
       "}\n",
       "\n",
       "        displayQuickchartButton(document);\n",
       "      </script>\n",
       "      <style>\n",
       "    .colab-df-container {\n",
       "      display:flex;\n",
       "      flex-wrap:wrap;\n",
       "      gap: 12px;\n",
       "    }\n",
       "\n",
       "    .colab-df-convert {\n",
       "      background-color: #E8F0FE;\n",
       "      border: none;\n",
       "      border-radius: 50%;\n",
       "      cursor: pointer;\n",
       "      display: none;\n",
       "      fill: #1967D2;\n",
       "      height: 32px;\n",
       "      padding: 0 0 0 0;\n",
       "      width: 32px;\n",
       "    }\n",
       "\n",
       "    .colab-df-convert:hover {\n",
       "      background-color: #E2EBFA;\n",
       "      box-shadow: 0px 1px 2px rgba(60, 64, 67, 0.3), 0px 1px 3px 1px rgba(60, 64, 67, 0.15);\n",
       "      fill: #174EA6;\n",
       "    }\n",
       "\n",
       "    [theme=dark] .colab-df-convert {\n",
       "      background-color: #3B4455;\n",
       "      fill: #D2E3FC;\n",
       "    }\n",
       "\n",
       "    [theme=dark] .colab-df-convert:hover {\n",
       "      background-color: #434B5C;\n",
       "      box-shadow: 0px 1px 3px 1px rgba(0, 0, 0, 0.15);\n",
       "      filter: drop-shadow(0px 1px 2px rgba(0, 0, 0, 0.3));\n",
       "      fill: #FFFFFF;\n",
       "    }\n",
       "  </style>\n",
       "\n",
       "      <script>\n",
       "        const buttonEl =\n",
       "          document.querySelector('#df-6c8b5c8c-654c-4f51-b6a4-4f90f655d4ad button.colab-df-convert');\n",
       "        buttonEl.style.display =\n",
       "          google.colab.kernel.accessAllowed ? 'block' : 'none';\n",
       "\n",
       "        async function convertToInteractive(key) {\n",
       "          const element = document.querySelector('#df-6c8b5c8c-654c-4f51-b6a4-4f90f655d4ad');\n",
       "          const dataTable =\n",
       "            await google.colab.kernel.invokeFunction('convertToInteractive',\n",
       "                                                     [key], {});\n",
       "          if (!dataTable) return;\n",
       "\n",
       "          const docLinkHtml = 'Like what you see? Visit the ' +\n",
       "            '<a target=\"_blank\" href=https://colab.research.google.com/notebooks/data_table.ipynb>data table notebook</a>'\n",
       "            + ' to learn more about interactive tables.';\n",
       "          element.innerHTML = '';\n",
       "          dataTable['output_type'] = 'display_data';\n",
       "          await google.colab.output.renderOutput(dataTable, element);\n",
       "          const docLink = document.createElement('div');\n",
       "          docLink.innerHTML = docLinkHtml;\n",
       "          element.appendChild(docLink);\n",
       "        }\n",
       "      </script>\n",
       "    </div>\n",
       "  </div>\n"
      ],
      "text/plain": [
       "  chrom     start       end\n",
       "0  chr1  24401417  24401497\n",
       "1  chr1  24383964  24384044\n",
       "2  chr1  24379784  24379864\n",
       "3  chr1  24373771  24373851\n",
       "4  chr1  24369800  24369880"
      ]
     },
     "metadata": {},
     "output_type": "display_data"
    }
   ],
   "source": [
    "fasta_file = BedTool(path+'GRCh38.primary_assembly.genome.fa')\n",
    "df=pd.read_csv(path+'chr1_bed.tsv',sep='\\t',header=None,names=['chrom','start','end'])\n",
    "df.end+=1\n",
    "display(df.head())\n",
    "df.to_csv(path+'chr1_bed.rev.tsv',sep=\"\\t\", header=False,index=False)\n",
    "bed_file=BedTool(path+'chr1_bed.rev.tsv')\n",
    "bed_with_seq = bed_file.sequence(fi=fasta_file)"
   ]
  },
  {
   "cell_type": "markdown",
   "metadata": {
    "id": "ZNU-GTMAi5zz"
   },
   "source": [
    "#Step 2: Convert a .BED File to a .CSV File"
   ]
  },
  {
   "cell_type": "code",
   "execution_count": null,
   "metadata": {
    "colab": {
     "base_uri": "https://localhost:8080/"
    },
    "executionInfo": {
     "elapsed": 449,
     "status": "ok",
     "timestamp": 1691014992515,
     "user": {
      "displayName": "Andy Lu",
      "userId": "13417629587562116810"
     },
     "user_tz": 240
    },
    "id": "ssUIjjt3hH6n",
    "outputId": "07ed87e2-caef-4f1a-cda8-bdf757543c16"
   },
   "outputs": [
    {
     "data": {
      "text/plain": [
       "<BedTool(/content/drive/MyDrive/CSIRE/Sequencing/chr1_bed.rev.tsv)>"
      ]
     },
     "execution_count": 12,
     "metadata": {},
     "output_type": "execute_result"
    }
   ],
   "source": [
    "outputfile=path+'output_July17.csv'\n",
    "bed_with_seq.save_seqs(outputfile)"
   ]
  },
  {
   "cell_type": "code",
   "execution_count": null,
   "metadata": {
    "id": "Ntenj7Ji5u53"
   },
   "outputs": [],
   "source": [
    "df=pd.read_csv(outputfile)\n",
    "len(df.iloc[0].values[0])"
   ]
  },
  {
   "cell_type": "markdown",
   "metadata": {
    "id": "X1tS4a0qTolq"
   },
   "source": [
    "#Step 3: Use Pandas to Create a Dataframe Using a .BED File and a Reference Genome"
   ]
  },
  {
   "cell_type": "code",
   "execution_count": null,
   "metadata": {
    "id": "w4twL9tOPCK6"
   },
   "outputs": [],
   "source": [
    "tsvfile=path+'sample_10.tsv'\n",
    "bedfile=path+'Core_Prom.bed.gsheet'\n",
    "df=pd.read_csv(tsvfile,sep='\\t')\n",
    "df"
   ]
  },
  {
   "cell_type": "code",
   "execution_count": null,
   "metadata": {
    "id": "S_4W8FDbQPRI"
   },
   "outputs": [],
   "source": [
    "with open(path+'GRCh38.primary_assembly.genome.fa') as fasta_file:\n",
    "  identifiers=[]\n",
    "  lengths=[]\n",
    "  for seq_record in SeqIO.parse(fasta_file, 'fasta'):\n",
    "    identifiers.append(str(seq_record.seq))\n",
    "    lengths.append(len(seq_record.seq))"
   ]
  },
  {
   "cell_type": "code",
   "execution_count": null,
   "metadata": {
    "colab": {
     "base_uri": "https://localhost:8080/",
     "height": 336
    },
    "executionInfo": {
     "elapsed": 17375,
     "status": "error",
     "timestamp": 1691014987562,
     "user": {
      "displayName": "Andy Lu",
      "userId": "13417629587562116810"
     },
     "user_tz": 240
    },
    "id": "mn2IqNqFfdMf",
    "outputId": "551460db-9766-4de9-f35f-2ad580fb08ab"
   },
   "outputs": [
    {
     "ename": "KeyboardInterrupt",
     "evalue": "ignored",
     "output_type": "error",
     "traceback": [
      "\u001b[0;31m---------------------------------------------------------------------------\u001b[0m",
      "\u001b[0;31mKeyboardInterrupt\u001b[0m                         Traceback (most recent call last)",
      "\u001b[0;32m<ipython-input-11-9d796aa16848>\u001b[0m in \u001b[0;36m<cell line: 1>\u001b[0;34m()\u001b[0m\n\u001b[0;32m----> 1\u001b[0;31m \u001b[0mdf_seq\u001b[0m\u001b[0;34m=\u001b[0m\u001b[0mGenerate_Sequences\u001b[0m\u001b[0;34m(\u001b[0m\u001b[0mpath\u001b[0m\u001b[0;34m+\u001b[0m\u001b[0;34m'Core_Prom_bed.tsv'\u001b[0m\u001b[0;34m,\u001b[0m\u001b[0mpath\u001b[0m\u001b[0;34m+\u001b[0m\u001b[0;34m'GRCh38.primary_assembly.genome.fa'\u001b[0m\u001b[0;34m)\u001b[0m\u001b[0;34m\u001b[0m\u001b[0;34m\u001b[0m\u001b[0m\n\u001b[0m\u001b[1;32m      2\u001b[0m \u001b[0mdf_seq\u001b[0m\u001b[0;34m.\u001b[0m\u001b[0mhead\u001b[0m\u001b[0;34m(\u001b[0m\u001b[0;36m10\u001b[0m\u001b[0;34m)\u001b[0m\u001b[0;34m\u001b[0m\u001b[0;34m\u001b[0m\u001b[0m\n",
      "\u001b[0;32m<ipython-input-3-0612593210b4>\u001b[0m in \u001b[0;36mGenerate_Sequences\u001b[0;34m(bed_user, fasta_user)\u001b[0m\n\u001b[1;32m     29\u001b[0m   \u001b[0mfasta_file\u001b[0m \u001b[0;34m=\u001b[0m \u001b[0mBedTool\u001b[0m\u001b[0;34m(\u001b[0m\u001b[0mfasta_user\u001b[0m\u001b[0;34m)\u001b[0m\u001b[0;34m\u001b[0m\u001b[0;34m\u001b[0m\u001b[0m\n\u001b[1;32m     30\u001b[0m   \u001b[0mbed_file\u001b[0m\u001b[0;34m=\u001b[0m\u001b[0mBedTool\u001b[0m\u001b[0;34m(\u001b[0m\u001b[0mbed_user\u001b[0m\u001b[0;34m)\u001b[0m\u001b[0;34m\u001b[0m\u001b[0;34m\u001b[0m\u001b[0m\n\u001b[0;32m---> 31\u001b[0;31m   \u001b[0mbed_with_seq\u001b[0m \u001b[0;34m=\u001b[0m \u001b[0mbed_file\u001b[0m\u001b[0;34m.\u001b[0m\u001b[0msequence\u001b[0m\u001b[0;34m(\u001b[0m\u001b[0mfi\u001b[0m\u001b[0;34m=\u001b[0m\u001b[0mfasta_file\u001b[0m\u001b[0;34m)\u001b[0m\u001b[0;34m\u001b[0m\u001b[0;34m\u001b[0m\u001b[0m\n\u001b[0m\u001b[1;32m     32\u001b[0m   \u001b[0moutputfile\u001b[0m\u001b[0;34m=\u001b[0m\u001b[0mpath\u001b[0m\u001b[0;34m+\u001b[0m\u001b[0;34m'out.fasta'\u001b[0m\u001b[0;34m\u001b[0m\u001b[0;34m\u001b[0m\u001b[0m\n\u001b[1;32m     33\u001b[0m   \u001b[0mbed_with_seq\u001b[0m\u001b[0;34m.\u001b[0m\u001b[0msave_seqs\u001b[0m\u001b[0;34m(\u001b[0m\u001b[0moutputfile\u001b[0m\u001b[0;34m)\u001b[0m\u001b[0;34m\u001b[0m\u001b[0;34m\u001b[0m\u001b[0m\n",
      "\u001b[0;32m/usr/local/lib/python3.10/dist-packages/pybedtools/bedtool.py\u001b[0m in \u001b[0;36mdecorated\u001b[0;34m(self, *args, **kwargs)\u001b[0m\n\u001b[1;32m    921\u001b[0m             \u001b[0;31m# this calls the actual method in the first place; *result* is\u001b[0m\u001b[0;34m\u001b[0m\u001b[0;34m\u001b[0m\u001b[0m\n\u001b[1;32m    922\u001b[0m             \u001b[0;31m# whatever you get back\u001b[0m\u001b[0;34m\u001b[0m\u001b[0;34m\u001b[0m\u001b[0m\n\u001b[0;32m--> 923\u001b[0;31m             \u001b[0mresult\u001b[0m \u001b[0;34m=\u001b[0m \u001b[0mmethod\u001b[0m\u001b[0;34m(\u001b[0m\u001b[0mself\u001b[0m\u001b[0;34m,\u001b[0m \u001b[0;34m*\u001b[0m\u001b[0margs\u001b[0m\u001b[0;34m,\u001b[0m \u001b[0;34m**\u001b[0m\u001b[0mkwargs\u001b[0m\u001b[0;34m)\u001b[0m\u001b[0;34m\u001b[0m\u001b[0;34m\u001b[0m\u001b[0m\n\u001b[0m\u001b[1;32m    924\u001b[0m \u001b[0;34m\u001b[0m\u001b[0m\n\u001b[1;32m    925\u001b[0m             \u001b[0;31m# add appropriate tags\u001b[0m\u001b[0;34m\u001b[0m\u001b[0;34m\u001b[0m\u001b[0m\n",
      "\u001b[0;32m/usr/local/lib/python3.10/dist-packages/pybedtools/bedtool.py\u001b[0m in \u001b[0;36mwrapped\u001b[0;34m(self, *args, **kwargs)\u001b[0m\n\u001b[1;32m    400\u001b[0m \u001b[0;34m\u001b[0m\u001b[0m\n\u001b[1;32m    401\u001b[0m             \u001b[0;31m# Do the actual call\u001b[0m\u001b[0;34m\u001b[0m\u001b[0;34m\u001b[0m\u001b[0m\n\u001b[0;32m--> 402\u001b[0;31m             stream = call_bedtools(\n\u001b[0m\u001b[1;32m    403\u001b[0m                 \u001b[0mcmds\u001b[0m\u001b[0;34m,\u001b[0m\u001b[0;34m\u001b[0m\u001b[0;34m\u001b[0m\u001b[0m\n\u001b[1;32m    404\u001b[0m                 \u001b[0mtmp\u001b[0m\u001b[0;34m,\u001b[0m\u001b[0;34m\u001b[0m\u001b[0;34m\u001b[0m\u001b[0m\n",
      "\u001b[0;32m/usr/local/lib/python3.10/dist-packages/pybedtools/helpers.py\u001b[0m in \u001b[0;36mcall_bedtools\u001b[0;34m(cmds, tmpfn, stdin, check_stderr, decode_output, encode_input)\u001b[0m\n\u001b[1;32m    432\u001b[0m                 \u001b[0mcmds\u001b[0m\u001b[0;34m,\u001b[0m \u001b[0mstdout\u001b[0m\u001b[0;34m=\u001b[0m\u001b[0moutfile\u001b[0m\u001b[0;34m,\u001b[0m \u001b[0mstderr\u001b[0m\u001b[0;34m=\u001b[0m\u001b[0msubprocess\u001b[0m\u001b[0;34m.\u001b[0m\u001b[0mPIPE\u001b[0m\u001b[0;34m,\u001b[0m \u001b[0mbufsize\u001b[0m\u001b[0;34m=\u001b[0m\u001b[0mBUFSIZE\u001b[0m\u001b[0;34m\u001b[0m\u001b[0;34m\u001b[0m\u001b[0m\n\u001b[1;32m    433\u001b[0m             )\n\u001b[0;32m--> 434\u001b[0;31m             \u001b[0mstdout\u001b[0m\u001b[0;34m,\u001b[0m \u001b[0mstderr\u001b[0m \u001b[0;34m=\u001b[0m \u001b[0mp\u001b[0m\u001b[0;34m.\u001b[0m\u001b[0mcommunicate\u001b[0m\u001b[0;34m(\u001b[0m\u001b[0;34m)\u001b[0m\u001b[0;34m\u001b[0m\u001b[0;34m\u001b[0m\u001b[0m\n\u001b[0m\u001b[1;32m    435\u001b[0m             \u001b[0moutput\u001b[0m \u001b[0;34m=\u001b[0m \u001b[0mtmpfn\u001b[0m\u001b[0;34m\u001b[0m\u001b[0;34m\u001b[0m\u001b[0m\n\u001b[1;32m    436\u001b[0m             \u001b[0moutfile\u001b[0m\u001b[0;34m.\u001b[0m\u001b[0mclose\u001b[0m\u001b[0;34m(\u001b[0m\u001b[0;34m)\u001b[0m\u001b[0;34m\u001b[0m\u001b[0;34m\u001b[0m\u001b[0m\n",
      "\u001b[0;32m/usr/lib/python3.10/subprocess.py\u001b[0m in \u001b[0;36mcommunicate\u001b[0;34m(self, input, timeout)\u001b[0m\n\u001b[1;32m   1142\u001b[0m                 \u001b[0mself\u001b[0m\u001b[0;34m.\u001b[0m\u001b[0mstdout\u001b[0m\u001b[0;34m.\u001b[0m\u001b[0mclose\u001b[0m\u001b[0;34m(\u001b[0m\u001b[0;34m)\u001b[0m\u001b[0;34m\u001b[0m\u001b[0;34m\u001b[0m\u001b[0m\n\u001b[1;32m   1143\u001b[0m             \u001b[0;32melif\u001b[0m \u001b[0mself\u001b[0m\u001b[0;34m.\u001b[0m\u001b[0mstderr\u001b[0m\u001b[0;34m:\u001b[0m\u001b[0;34m\u001b[0m\u001b[0;34m\u001b[0m\u001b[0m\n\u001b[0;32m-> 1144\u001b[0;31m                 \u001b[0mstderr\u001b[0m \u001b[0;34m=\u001b[0m \u001b[0mself\u001b[0m\u001b[0;34m.\u001b[0m\u001b[0mstderr\u001b[0m\u001b[0;34m.\u001b[0m\u001b[0mread\u001b[0m\u001b[0;34m(\u001b[0m\u001b[0;34m)\u001b[0m\u001b[0;34m\u001b[0m\u001b[0;34m\u001b[0m\u001b[0m\n\u001b[0m\u001b[1;32m   1145\u001b[0m                 \u001b[0mself\u001b[0m\u001b[0;34m.\u001b[0m\u001b[0mstderr\u001b[0m\u001b[0;34m.\u001b[0m\u001b[0mclose\u001b[0m\u001b[0;34m(\u001b[0m\u001b[0;34m)\u001b[0m\u001b[0;34m\u001b[0m\u001b[0;34m\u001b[0m\u001b[0m\n\u001b[1;32m   1146\u001b[0m             \u001b[0mself\u001b[0m\u001b[0;34m.\u001b[0m\u001b[0mwait\u001b[0m\u001b[0;34m(\u001b[0m\u001b[0;34m)\u001b[0m\u001b[0;34m\u001b[0m\u001b[0;34m\u001b[0m\u001b[0m\n",
      "\u001b[0;31mKeyboardInterrupt\u001b[0m: "
     ]
    }
   ],
   "source": [
    "df_seq=Generate_Sequences(path+'Core_Prom_bed.tsv',path+'GRCh38.primary_assembly.genome.fa')\n",
    "df_seq.head(10)"
   ]
  },
  {
   "cell_type": "markdown",
   "metadata": {
    "id": "IYgefaqSoPs9"
   },
   "source": [
    "#Step 4: Find the Prescence of Mutations in Core Promoter Regions"
   ]
  },
  {
   "cell_type": "code",
   "execution_count": null,
   "metadata": {
    "colab": {
     "base_uri": "https://localhost:8080/"
    },
    "executionInfo": {
     "elapsed": 813,
     "status": "ok",
     "timestamp": 1691014968595,
     "user": {
      "displayName": "Andy Lu",
      "userId": "13417629587562116810"
     },
     "user_tz": 240
    },
    "id": "trSPx2KwnA9v",
    "outputId": "4a0cf69f-2549-48ce-c1e1-80d60625b679"
   },
   "outputs": [
    {
     "name": "stdout",
     "output_type": "stream",
     "text": [
      "Total number of entries=8960\n"
     ]
    }
   ],
   "source": [
    "df_bed=bed_to_df(path+'Core_Prom_bed.tsv')\n",
    "df_vcf=vcf_to_df(\"/content/drive/MyDrive/CSIRE/VCF/VCFFiles/VCF2/TCGA_BRCA.e7bc7eaa-5912-47c3-8396-23ee0b4cd20a.wxs.MuTect2.somatic_annotation.vcf\")"
   ]
  },
  {
   "cell_type": "code",
   "execution_count": null,
   "metadata": {
    "id": "lIYrSFCebAgi"
   },
   "outputs": [],
   "source": []
  },
  {
   "cell_type": "code",
   "execution_count": null,
   "metadata": {
    "id": "V5hPxAqZ2h3q"
   },
   "outputs": [],
   "source": [
    "df_vcf['included_in_interval'] = df_vcf.apply(lambda row: any((df_bed['chrom'] == row['chrom']) &\n",
    "                                                                 (df_bed['start'] <= row['pos']) &\n",
    "                                                                 (df_bed['end'] >= row['pos'])), axis=1)"
   ]
  },
  {
   "cell_type": "code",
   "execution_count": null,
   "metadata": {
    "id": "0k5lfOlvNX1O"
   },
   "outputs": [],
   "source": [
    "df_vcf.head()"
   ]
  },
  {
   "cell_type": "code",
   "execution_count": null,
   "metadata": {
    "id": "6w-ayty0mcPp"
   },
   "outputs": [],
   "source": [
    "df_vcf[df_vcf.included_in_interval==True]"
   ]
  },
  {
   "cell_type": "code",
   "execution_count": null,
   "metadata": {
    "id": "5IgLMOSbmqZl"
   },
   "outputs": [],
   "source": [
    "df_bed['included_in_interval'] = df_bed.apply(lambda row: any((df_vcf['chrom'] == row['chrom']) &\n",
    "                                                                 (df_vcf['pos'] >= row['start']) &\n",
    "                                                                 (df_vcf['pos'] <= row['end'])), axis=1)\n",
    "df_bed.head()"
   ]
  },
  {
   "cell_type": "code",
   "execution_count": null,
   "metadata": {
    "id": "UMbv13-En2cb"
   },
   "outputs": [],
   "source": [
    "df_bed=df_bed.drop_duplicates()\n",
    "print(len(df_bed[df_bed.included_in_interval==True]),len(df_bed[df_bed.included_in_interval==False]),len(df_bed))\n",
    "print(len(df_vcf[df_vcf.included_in_interval==True]),len(df_vcf[df_vcf.included_in_interval==False]),len(df_vcf))"
   ]
  },
  {
   "cell_type": "code",
   "execution_count": null,
   "metadata": {
    "id": "ODNKuLFpv70m"
   },
   "outputs": [],
   "source": [
    "df_bed([df_bed.included_in_interval==True])"
   ]
  },
  {
   "cell_type": "markdown",
   "metadata": {
    "id": "zaclFRw0ksr2"
   },
   "source": [
    "# Plotting"
   ]
  },
  {
   "cell_type": "code",
   "execution_count": null,
   "metadata": {
    "id": "PPglCGITKsa8"
   },
   "outputs": [],
   "source": [
    "# y = np.array([8840,120])\n",
    "# plt.pie(y)\n",
    "# myexplode = [0,0.3]\n",
    "# plt.pie(y, labels = ['not_included','included'],colors=[\"DimGrey\",'CadetBlue'],explode=myexplode)\n",
    "# plt.show()"
   ]
  },
  {
   "cell_type": "code",
   "execution_count": null,
   "metadata": {
    "id": "7E9hFq74kyxL"
   },
   "outputs": [],
   "source": [
    "labels = ['n_variants','n_in promoter_region']\n",
    "fig, ax=plt.subplots(1,1,figsize=(4,4))\n",
    "ax.bar(labels,[8960,120])\n",
    "ax.set_yscale('log')\n",
    "ax.set_ylim(10,1e5)\n",
    "plt.show()"
   ]
  },
  {
   "cell_type": "code",
   "execution_count": null,
   "metadata": {
    "id": "mIEaEO9cmWtC"
   },
   "outputs": [],
   "source": [
    "labels = ['n_regions','n_containing_variant']\n",
    "fig, ax=plt.subplots(1,1,figsize=(4,4))\n",
    "ax.bar(labels,[209239,132],color='orange')\n",
    "ax.set_yscale('log')\n",
    "ax.set_ylim(10,1e6)\n",
    "plt.show()"
   ]
  },
  {
   "cell_type": "code",
   "execution_count": null,
   "metadata": {
    "id": "QAIfIXBVWw77"
   },
   "outputs": [],
   "source": [
    "len(df_vcf)"
   ]
  },
  {
   "cell_type": "code",
   "execution_count": null,
   "metadata": {
    "id": "4SHWZHS0Wx6t"
   },
   "outputs": [],
   "source": [
    "len(df_bed)"
   ]
  },
  {
   "cell_type": "code",
   "execution_count": null,
   "metadata": {
    "id": "KAx7RXS9r794"
   },
   "outputs": [],
   "source": [
    "#Use pybedtools.bedtool.BedTool.overlap or BedTool.overlap?"
   ]
  }
 ],
 "metadata": {
  "colab": {
   "provenance": []
  },
  "kernelspec": {
   "display_name": "Python 3 (ipykernel)",
   "language": "python",
   "name": "python3"
  },
  "language_info": {
   "codemirror_mode": {
    "name": "ipython",
    "version": 3
   },
   "file_extension": ".py",
   "mimetype": "text/x-python",
   "name": "python",
   "nbconvert_exporter": "python",
   "pygments_lexer": "ipython3",
   "version": "3.10.11"
  }
 },
 "nbformat": 4,
 "nbformat_minor": 4
}
