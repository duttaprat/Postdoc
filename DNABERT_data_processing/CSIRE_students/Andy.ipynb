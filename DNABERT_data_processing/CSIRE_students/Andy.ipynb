{
 "cells": [
  {
   "cell_type": "code",
   "execution_count": 1,
   "id": "305844ad-1b0f-41c2-8858-69978150df74",
   "metadata": {},
   "outputs": [],
   "source": [
    "import pybedtools"
   ]
  },
  {
   "cell_type": "code",
   "execution_count": 2,
   "id": "7a2577c8-6e7b-4755-9180-08828d922fd5",
   "metadata": {},
   "outputs": [],
   "source": [
    "reference_file_path = \"/data/projects/Resources/Gencode_genome_annotation/GRCh38.primary_assembly.genome.fa\""
   ]
  },
  {
   "cell_type": "code",
   "execution_count": 6,
   "id": "6b1b1273-3a1f-4964-9e91-ef82174a435f",
   "metadata": {},
   "outputs": [
    {
     "data": {
      "text/plain": [
       "'GGTGGAGCGCGCCGCCACGGACCACGGGCG'"
      ]
     },
     "execution_count": 6,
     "metadata": {},
     "output_type": "execute_result"
    }
   ],
   "source": [
    "pybedtools.BedTool.seq('chr1:1000000-1000029', reference_file_path)"
   ]
  },
  {
   "cell_type": "code",
   "execution_count": null,
   "id": "accbd9f4-ba9d-4083-abf9-6ad4ec67aff0",
   "metadata": {},
   "outputs": [],
   "source": []
  }
 ],
 "metadata": {
  "kernelspec": {
   "display_name": "Python 3 (ipykernel)",
   "language": "python",
   "name": "python3"
  },
  "language_info": {
   "codemirror_mode": {
    "name": "ipython",
    "version": 3
   },
   "file_extension": ".py",
   "mimetype": "text/x-python",
   "name": "python",
   "nbconvert_exporter": "python",
   "pygments_lexer": "ipython3",
   "version": "3.10.11"
  }
 },
 "nbformat": 4,
 "nbformat_minor": 5
}
