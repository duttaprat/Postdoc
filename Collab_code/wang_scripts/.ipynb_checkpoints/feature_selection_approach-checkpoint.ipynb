{
 "cells": [
  {
   "cell_type": "code",
   "execution_count": 171,
   "id": "8711dab5-18a6-443d-82f9-b8aa048126a4",
   "metadata": {},
   "outputs": [],
   "source": [
    "from sklearn.cluster import KMeans\n",
    "from sklearn.ensemble import RandomForestClassifier\n",
    "from sklearn.model_selection import train_test_split\n",
    "from sklearn import metrics"
   ]
  },
  {
   "cell_type": "code",
   "execution_count": 172,
   "id": "dc06a98a-25ad-4d63-b543-aa461b0054f2",
   "metadata": {},
   "outputs": [],
   "source": [
    "from sklearn.decomposition import PCA\n",
    "from sklearn.linear_model import LogisticRegression\n",
    "from sklearn.neighbors import KNeighborsClassifier\n",
    "from sklearn.svm import SVC\n",
    "from sklearn.naive_bayes import GaussianNB\n",
    "from sklearn.ensemble import AdaBoostClassifier\n",
    "from sklearn.discriminant_analysis import QuadraticDiscriminantAnalysis\n",
    "from sklearn.neural_network import MLPClassifier"
   ]
  },
  {
   "cell_type": "code",
   "execution_count": 173,
   "id": "c9c2edf8-63b5-4830-9158-4ee459b47655",
   "metadata": {},
   "outputs": [],
   "source": [
    "import pandas as pd\n",
    "import numpy as np\n",
    "import plotly.graph_objects as go\n",
    "import pickle\n",
    "from sklearn.preprocessing import StandardScaler"
   ]
  },
  {
   "cell_type": "code",
   "execution_count": 174,
   "id": "eb33892f-5849-4fd3-8630-dfe4eb45ddf4",
   "metadata": {},
   "outputs": [],
   "source": [
    "output_file_path = \"/data/private/pdutta/Wang_collaborator/PCA_result\""
   ]
  },
  {
   "cell_type": "code",
   "execution_count": 175,
   "id": "08bf873d-7f10-4913-bc3f-6231d9fa64bb",
   "metadata": {},
   "outputs": [
    {
     "data": {
      "text/plain": [
       "(10788, 49)"
      ]
     },
     "execution_count": 175,
     "metadata": {},
     "output_type": "execute_result"
    }
   ],
   "source": [
    "df = pd.read_excel(\"/data/private/pdutta/Wang_collaborator/Survival_vs_death_first_day.xlsx\")\n",
    "df.shape"
   ]
  },
  {
   "cell_type": "code",
   "execution_count": 176,
   "id": "d5244e3a-20c4-40f0-ba67-dae83e35ce48",
   "metadata": {},
   "outputs": [
    {
     "data": {
      "text/html": [
       "<div>\n",
       "<style scoped>\n",
       "    .dataframe tbody tr th:only-of-type {\n",
       "        vertical-align: middle;\n",
       "    }\n",
       "\n",
       "    .dataframe tbody tr th {\n",
       "        vertical-align: top;\n",
       "    }\n",
       "\n",
       "    .dataframe thead th {\n",
       "        text-align: right;\n",
       "    }\n",
       "</style>\n",
       "<table border=\"1\" class=\"dataframe\">\n",
       "  <thead>\n",
       "    <tr style=\"text-align: right;\">\n",
       "      <th></th>\n",
       "      <th>MouseNo</th>\n",
       "      <th>Severity</th>\n",
       "      <th>Death_0 /Survival_1</th>\n",
       "      <th>CD4</th>\n",
       "      <th>CD8a</th>\n",
       "      <th>CD25</th>\n",
       "      <th>IFN-γ</th>\n",
       "      <th>GM-CSF</th>\n",
       "      <th>IL-4</th>\n",
       "      <th>IL-5</th>\n",
       "      <th>...</th>\n",
       "      <th>Granzyme B</th>\n",
       "      <th>CCL4</th>\n",
       "      <th>CD15</th>\n",
       "      <th>CD182</th>\n",
       "      <th>CD197</th>\n",
       "      <th>IL-21</th>\n",
       "      <th>HLA-DR</th>\n",
       "      <th>CD181</th>\n",
       "      <th>β-Actin</th>\n",
       "      <th>IL-22</th>\n",
       "    </tr>\n",
       "  </thead>\n",
       "  <tbody>\n",
       "    <tr>\n",
       "      <th>0</th>\n",
       "      <td>1</td>\n",
       "      <td>1</td>\n",
       "      <td>1</td>\n",
       "      <td>864.202653</td>\n",
       "      <td>653.388036</td>\n",
       "      <td>533.532407</td>\n",
       "      <td>622.283386</td>\n",
       "      <td>601.880699</td>\n",
       "      <td>523.256709</td>\n",
       "      <td>610.188377</td>\n",
       "      <td>...</td>\n",
       "      <td>648.804947</td>\n",
       "      <td>585.191381</td>\n",
       "      <td>622.984062</td>\n",
       "      <td>507.160020</td>\n",
       "      <td>521.665598</td>\n",
       "      <td>745.204173</td>\n",
       "      <td>625.576933</td>\n",
       "      <td>890.473356</td>\n",
       "      <td>730.239695</td>\n",
       "      <td>606.385944</td>\n",
       "    </tr>\n",
       "    <tr>\n",
       "      <th>1</th>\n",
       "      <td>1</td>\n",
       "      <td>1</td>\n",
       "      <td>1</td>\n",
       "      <td>502.256482</td>\n",
       "      <td>568.373980</td>\n",
       "      <td>988.122802</td>\n",
       "      <td>598.716245</td>\n",
       "      <td>645.511790</td>\n",
       "      <td>551.418641</td>\n",
       "      <td>560.904324</td>\n",
       "      <td>...</td>\n",
       "      <td>566.797908</td>\n",
       "      <td>902.976225</td>\n",
       "      <td>541.336585</td>\n",
       "      <td>509.972729</td>\n",
       "      <td>532.145073</td>\n",
       "      <td>513.079211</td>\n",
       "      <td>579.316823</td>\n",
       "      <td>536.086193</td>\n",
       "      <td>690.569707</td>\n",
       "      <td>538.364672</td>\n",
       "    </tr>\n",
       "    <tr>\n",
       "      <th>2</th>\n",
       "      <td>1</td>\n",
       "      <td>1</td>\n",
       "      <td>1</td>\n",
       "      <td>463.854773</td>\n",
       "      <td>543.952941</td>\n",
       "      <td>1117.471229</td>\n",
       "      <td>1105.009940</td>\n",
       "      <td>715.989935</td>\n",
       "      <td>541.132319</td>\n",
       "      <td>540.647678</td>\n",
       "      <td>...</td>\n",
       "      <td>587.347451</td>\n",
       "      <td>737.662682</td>\n",
       "      <td>515.291416</td>\n",
       "      <td>780.231103</td>\n",
       "      <td>606.187356</td>\n",
       "      <td>715.505628</td>\n",
       "      <td>569.176593</td>\n",
       "      <td>647.409062</td>\n",
       "      <td>584.242162</td>\n",
       "      <td>537.659564</td>\n",
       "    </tr>\n",
       "    <tr>\n",
       "      <th>3</th>\n",
       "      <td>1</td>\n",
       "      <td>1</td>\n",
       "      <td>1</td>\n",
       "      <td>2302.596767</td>\n",
       "      <td>1930.261640</td>\n",
       "      <td>588.094329</td>\n",
       "      <td>2349.308486</td>\n",
       "      <td>1805.575452</td>\n",
       "      <td>751.555302</td>\n",
       "      <td>2199.713286</td>\n",
       "      <td>...</td>\n",
       "      <td>972.315900</td>\n",
       "      <td>534.148282</td>\n",
       "      <td>679.868074</td>\n",
       "      <td>517.515480</td>\n",
       "      <td>490.278047</td>\n",
       "      <td>688.949714</td>\n",
       "      <td>524.763762</td>\n",
       "      <td>517.817829</td>\n",
       "      <td>763.693559</td>\n",
       "      <td>657.198799</td>\n",
       "    </tr>\n",
       "    <tr>\n",
       "      <th>4</th>\n",
       "      <td>1</td>\n",
       "      <td>1</td>\n",
       "      <td>1</td>\n",
       "      <td>1058.718278</td>\n",
       "      <td>3091.961426</td>\n",
       "      <td>523.016158</td>\n",
       "      <td>1387.892393</td>\n",
       "      <td>961.391537</td>\n",
       "      <td>963.863794</td>\n",
       "      <td>1837.281826</td>\n",
       "      <td>...</td>\n",
       "      <td>756.944868</td>\n",
       "      <td>1041.256293</td>\n",
       "      <td>543.882557</td>\n",
       "      <td>504.251373</td>\n",
       "      <td>510.271727</td>\n",
       "      <td>610.724690</td>\n",
       "      <td>582.022937</td>\n",
       "      <td>601.456194</td>\n",
       "      <td>720.723971</td>\n",
       "      <td>662.802631</td>\n",
       "    </tr>\n",
       "    <tr>\n",
       "      <th>5</th>\n",
       "      <td>1</td>\n",
       "      <td>1</td>\n",
       "      <td>1</td>\n",
       "      <td>2418.428574</td>\n",
       "      <td>845.549889</td>\n",
       "      <td>504.169945</td>\n",
       "      <td>714.724978</td>\n",
       "      <td>1473.802184</td>\n",
       "      <td>1024.840705</td>\n",
       "      <td>1823.074582</td>\n",
       "      <td>...</td>\n",
       "      <td>833.234533</td>\n",
       "      <td>983.239167</td>\n",
       "      <td>620.761161</td>\n",
       "      <td>568.014233</td>\n",
       "      <td>517.090090</td>\n",
       "      <td>626.185674</td>\n",
       "      <td>514.810013</td>\n",
       "      <td>546.470574</td>\n",
       "      <td>703.633271</td>\n",
       "      <td>557.380318</td>\n",
       "    </tr>\n",
       "    <tr>\n",
       "      <th>6</th>\n",
       "      <td>1</td>\n",
       "      <td>1</td>\n",
       "      <td>1</td>\n",
       "      <td>2010.637201</td>\n",
       "      <td>2838.474841</td>\n",
       "      <td>529.289258</td>\n",
       "      <td>742.795405</td>\n",
       "      <td>1366.229126</td>\n",
       "      <td>892.249453</td>\n",
       "      <td>983.676275</td>\n",
       "      <td>...</td>\n",
       "      <td>663.685095</td>\n",
       "      <td>1468.113192</td>\n",
       "      <td>637.723136</td>\n",
       "      <td>542.737009</td>\n",
       "      <td>575.964986</td>\n",
       "      <td>636.125353</td>\n",
       "      <td>502.147592</td>\n",
       "      <td>556.446473</td>\n",
       "      <td>878.825424</td>\n",
       "      <td>541.504603</td>\n",
       "    </tr>\n",
       "    <tr>\n",
       "      <th>7</th>\n",
       "      <td>1</td>\n",
       "      <td>1</td>\n",
       "      <td>1</td>\n",
       "      <td>1423.890754</td>\n",
       "      <td>954.820268</td>\n",
       "      <td>513.026226</td>\n",
       "      <td>2177.669702</td>\n",
       "      <td>1360.817371</td>\n",
       "      <td>813.376838</td>\n",
       "      <td>2209.773142</td>\n",
       "      <td>...</td>\n",
       "      <td>557.106513</td>\n",
       "      <td>569.331972</td>\n",
       "      <td>576.766093</td>\n",
       "      <td>499.874387</td>\n",
       "      <td>543.436410</td>\n",
       "      <td>574.512953</td>\n",
       "      <td>516.323004</td>\n",
       "      <td>505.780581</td>\n",
       "      <td>634.883564</td>\n",
       "      <td>578.725316</td>\n",
       "    </tr>\n",
       "    <tr>\n",
       "      <th>8</th>\n",
       "      <td>1</td>\n",
       "      <td>1</td>\n",
       "      <td>1</td>\n",
       "      <td>1768.039773</td>\n",
       "      <td>841.160408</td>\n",
       "      <td>552.858108</td>\n",
       "      <td>2433.787251</td>\n",
       "      <td>1451.730380</td>\n",
       "      <td>995.562072</td>\n",
       "      <td>1947.466785</td>\n",
       "      <td>...</td>\n",
       "      <td>685.863976</td>\n",
       "      <td>1040.576883</td>\n",
       "      <td>629.455859</td>\n",
       "      <td>524.466321</td>\n",
       "      <td>509.876372</td>\n",
       "      <td>577.984592</td>\n",
       "      <td>550.098389</td>\n",
       "      <td>514.365746</td>\n",
       "      <td>618.125529</td>\n",
       "      <td>512.396249</td>\n",
       "    </tr>\n",
       "    <tr>\n",
       "      <th>9</th>\n",
       "      <td>1</td>\n",
       "      <td>1</td>\n",
       "      <td>1</td>\n",
       "      <td>737.596065</td>\n",
       "      <td>945.982474</td>\n",
       "      <td>584.048760</td>\n",
       "      <td>2424.724093</td>\n",
       "      <td>1376.149390</td>\n",
       "      <td>848.858780</td>\n",
       "      <td>1784.940630</td>\n",
       "      <td>...</td>\n",
       "      <td>792.719267</td>\n",
       "      <td>905.189311</td>\n",
       "      <td>642.509867</td>\n",
       "      <td>496.837116</td>\n",
       "      <td>501.755556</td>\n",
       "      <td>601.063696</td>\n",
       "      <td>534.524566</td>\n",
       "      <td>560.327773</td>\n",
       "      <td>633.589630</td>\n",
       "      <td>583.589784</td>\n",
       "    </tr>\n",
       "    <tr>\n",
       "      <th>10</th>\n",
       "      <td>1</td>\n",
       "      <td>1</td>\n",
       "      <td>1</td>\n",
       "      <td>2011.998464</td>\n",
       "      <td>936.842861</td>\n",
       "      <td>521.849273</td>\n",
       "      <td>2400.143529</td>\n",
       "      <td>1294.542330</td>\n",
       "      <td>1143.476670</td>\n",
       "      <td>2467.245704</td>\n",
       "      <td>...</td>\n",
       "      <td>830.600053</td>\n",
       "      <td>791.504574</td>\n",
       "      <td>570.143957</td>\n",
       "      <td>538.888149</td>\n",
       "      <td>539.026451</td>\n",
       "      <td>621.338210</td>\n",
       "      <td>520.526470</td>\n",
       "      <td>524.786611</td>\n",
       "      <td>633.625583</td>\n",
       "      <td>554.806374</td>\n",
       "    </tr>\n",
       "    <tr>\n",
       "      <th>11</th>\n",
       "      <td>1</td>\n",
       "      <td>1</td>\n",
       "      <td>1</td>\n",
       "      <td>1064.335882</td>\n",
       "      <td>3856.099979</td>\n",
       "      <td>515.487157</td>\n",
       "      <td>814.541197</td>\n",
       "      <td>2007.102265</td>\n",
       "      <td>1474.216900</td>\n",
       "      <td>2707.598972</td>\n",
       "      <td>...</td>\n",
       "      <td>1070.436834</td>\n",
       "      <td>676.938606</td>\n",
       "      <td>592.008196</td>\n",
       "      <td>508.327055</td>\n",
       "      <td>524.918203</td>\n",
       "      <td>508.413424</td>\n",
       "      <td>507.151100</td>\n",
       "      <td>522.360794</td>\n",
       "      <td>669.785791</td>\n",
       "      <td>565.220468</td>\n",
       "    </tr>\n",
       "    <tr>\n",
       "      <th>12</th>\n",
       "      <td>1</td>\n",
       "      <td>1</td>\n",
       "      <td>1</td>\n",
       "      <td>1102.194407</td>\n",
       "      <td>1086.485543</td>\n",
       "      <td>596.934728</td>\n",
       "      <td>2845.512300</td>\n",
       "      <td>1864.717624</td>\n",
       "      <td>865.769215</td>\n",
       "      <td>2499.841840</td>\n",
       "      <td>...</td>\n",
       "      <td>809.485887</td>\n",
       "      <td>1005.504360</td>\n",
       "      <td>573.044147</td>\n",
       "      <td>602.867451</td>\n",
       "      <td>533.511711</td>\n",
       "      <td>616.125945</td>\n",
       "      <td>550.786377</td>\n",
       "      <td>539.974526</td>\n",
       "      <td>904.281086</td>\n",
       "      <td>621.063334</td>\n",
       "    </tr>\n",
       "    <tr>\n",
       "      <th>13</th>\n",
       "      <td>1</td>\n",
       "      <td>1</td>\n",
       "      <td>1</td>\n",
       "      <td>1015.549711</td>\n",
       "      <td>953.295367</td>\n",
       "      <td>530.894516</td>\n",
       "      <td>2335.227456</td>\n",
       "      <td>1842.050674</td>\n",
       "      <td>946.629418</td>\n",
       "      <td>1513.978596</td>\n",
       "      <td>...</td>\n",
       "      <td>704.609600</td>\n",
       "      <td>1052.713082</td>\n",
       "      <td>661.172279</td>\n",
       "      <td>520.507866</td>\n",
       "      <td>580.049294</td>\n",
       "      <td>536.878502</td>\n",
       "      <td>496.081829</td>\n",
       "      <td>494.630149</td>\n",
       "      <td>709.010432</td>\n",
       "      <td>528.937964</td>\n",
       "    </tr>\n",
       "    <tr>\n",
       "      <th>14</th>\n",
       "      <td>1</td>\n",
       "      <td>1</td>\n",
       "      <td>1</td>\n",
       "      <td>749.868638</td>\n",
       "      <td>4244.576408</td>\n",
       "      <td>852.015002</td>\n",
       "      <td>1399.521945</td>\n",
       "      <td>486.134210</td>\n",
       "      <td>1562.646607</td>\n",
       "      <td>3332.007478</td>\n",
       "      <td>...</td>\n",
       "      <td>1108.784250</td>\n",
       "      <td>1142.572726</td>\n",
       "      <td>593.099650</td>\n",
       "      <td>542.940099</td>\n",
       "      <td>543.280730</td>\n",
       "      <td>628.701063</td>\n",
       "      <td>532.498492</td>\n",
       "      <td>549.001487</td>\n",
       "      <td>755.475073</td>\n",
       "      <td>584.113748</td>\n",
       "    </tr>\n",
       "    <tr>\n",
       "      <th>15</th>\n",
       "      <td>1</td>\n",
       "      <td>1</td>\n",
       "      <td>1</td>\n",
       "      <td>1196.291468</td>\n",
       "      <td>2161.110956</td>\n",
       "      <td>553.027127</td>\n",
       "      <td>1423.893242</td>\n",
       "      <td>1839.888646</td>\n",
       "      <td>1197.081366</td>\n",
       "      <td>2988.531238</td>\n",
       "      <td>...</td>\n",
       "      <td>660.172995</td>\n",
       "      <td>1320.737985</td>\n",
       "      <td>596.502823</td>\n",
       "      <td>480.784042</td>\n",
       "      <td>525.257665</td>\n",
       "      <td>562.577726</td>\n",
       "      <td>519.731313</td>\n",
       "      <td>601.792887</td>\n",
       "      <td>875.375193</td>\n",
       "      <td>581.514773</td>\n",
       "    </tr>\n",
       "    <tr>\n",
       "      <th>16</th>\n",
       "      <td>1</td>\n",
       "      <td>1</td>\n",
       "      <td>1</td>\n",
       "      <td>853.014100</td>\n",
       "      <td>893.906732</td>\n",
       "      <td>509.206599</td>\n",
       "      <td>1029.824868</td>\n",
       "      <td>1886.249725</td>\n",
       "      <td>1157.705792</td>\n",
       "      <td>2303.607546</td>\n",
       "      <td>...</td>\n",
       "      <td>695.191395</td>\n",
       "      <td>562.045043</td>\n",
       "      <td>512.924895</td>\n",
       "      <td>493.645222</td>\n",
       "      <td>556.020458</td>\n",
       "      <td>568.580131</td>\n",
       "      <td>526.425062</td>\n",
       "      <td>538.931699</td>\n",
       "      <td>1115.807762</td>\n",
       "      <td>545.162016</td>\n",
       "    </tr>\n",
       "    <tr>\n",
       "      <th>17</th>\n",
       "      <td>1</td>\n",
       "      <td>1</td>\n",
       "      <td>1</td>\n",
       "      <td>1872.821306</td>\n",
       "      <td>3089.504893</td>\n",
       "      <td>891.778334</td>\n",
       "      <td>883.792265</td>\n",
       "      <td>902.851493</td>\n",
       "      <td>695.423006</td>\n",
       "      <td>924.808383</td>\n",
       "      <td>...</td>\n",
       "      <td>1063.558528</td>\n",
       "      <td>769.010740</td>\n",
       "      <td>576.055988</td>\n",
       "      <td>487.163721</td>\n",
       "      <td>523.187875</td>\n",
       "      <td>968.996538</td>\n",
       "      <td>506.308200</td>\n",
       "      <td>634.535495</td>\n",
       "      <td>642.424813</td>\n",
       "      <td>685.544380</td>\n",
       "    </tr>\n",
       "    <tr>\n",
       "      <th>18</th>\n",
       "      <td>1</td>\n",
       "      <td>1</td>\n",
       "      <td>1</td>\n",
       "      <td>2404.970797</td>\n",
       "      <td>2655.679754</td>\n",
       "      <td>640.651935</td>\n",
       "      <td>4183.064206</td>\n",
       "      <td>1557.058121</td>\n",
       "      <td>911.275762</td>\n",
       "      <td>2558.520827</td>\n",
       "      <td>...</td>\n",
       "      <td>903.654923</td>\n",
       "      <td>850.607811</td>\n",
       "      <td>653.246395</td>\n",
       "      <td>585.351561</td>\n",
       "      <td>519.781296</td>\n",
       "      <td>721.416476</td>\n",
       "      <td>525.722063</td>\n",
       "      <td>607.486484</td>\n",
       "      <td>856.483931</td>\n",
       "      <td>586.192633</td>\n",
       "    </tr>\n",
       "    <tr>\n",
       "      <th>19</th>\n",
       "      <td>1</td>\n",
       "      <td>1</td>\n",
       "      <td>1</td>\n",
       "      <td>1717.936067</td>\n",
       "      <td>3146.932899</td>\n",
       "      <td>533.440677</td>\n",
       "      <td>1020.776132</td>\n",
       "      <td>1765.682242</td>\n",
       "      <td>604.703071</td>\n",
       "      <td>3975.994094</td>\n",
       "      <td>...</td>\n",
       "      <td>704.087702</td>\n",
       "      <td>1181.665694</td>\n",
       "      <td>601.003932</td>\n",
       "      <td>504.435802</td>\n",
       "      <td>508.487726</td>\n",
       "      <td>691.314995</td>\n",
       "      <td>541.744831</td>\n",
       "      <td>634.296803</td>\n",
       "      <td>712.935137</td>\n",
       "      <td>700.463597</td>\n",
       "    </tr>\n",
       "  </tbody>\n",
       "</table>\n",
       "<p>20 rows × 49 columns</p>\n",
       "</div>"
      ],
      "text/plain": [
       "    MouseNo  Severity  Death_0 /Survival_1          CD4         CD8a  \\\n",
       "0         1         1                    1   864.202653   653.388036   \n",
       "1         1         1                    1   502.256482   568.373980   \n",
       "2         1         1                    1   463.854773   543.952941   \n",
       "3         1         1                    1  2302.596767  1930.261640   \n",
       "4         1         1                    1  1058.718278  3091.961426   \n",
       "5         1         1                    1  2418.428574   845.549889   \n",
       "6         1         1                    1  2010.637201  2838.474841   \n",
       "7         1         1                    1  1423.890754   954.820268   \n",
       "8         1         1                    1  1768.039773   841.160408   \n",
       "9         1         1                    1   737.596065   945.982474   \n",
       "10        1         1                    1  2011.998464   936.842861   \n",
       "11        1         1                    1  1064.335882  3856.099979   \n",
       "12        1         1                    1  1102.194407  1086.485543   \n",
       "13        1         1                    1  1015.549711   953.295367   \n",
       "14        1         1                    1   749.868638  4244.576408   \n",
       "15        1         1                    1  1196.291468  2161.110956   \n",
       "16        1         1                    1   853.014100   893.906732   \n",
       "17        1         1                    1  1872.821306  3089.504893   \n",
       "18        1         1                    1  2404.970797  2655.679754   \n",
       "19        1         1                    1  1717.936067  3146.932899   \n",
       "\n",
       "           CD25        IFN-γ       GM-CSF         IL-4         IL-5  ...  \\\n",
       "0    533.532407   622.283386   601.880699   523.256709   610.188377  ...   \n",
       "1    988.122802   598.716245   645.511790   551.418641   560.904324  ...   \n",
       "2   1117.471229  1105.009940   715.989935   541.132319   540.647678  ...   \n",
       "3    588.094329  2349.308486  1805.575452   751.555302  2199.713286  ...   \n",
       "4    523.016158  1387.892393   961.391537   963.863794  1837.281826  ...   \n",
       "5    504.169945   714.724978  1473.802184  1024.840705  1823.074582  ...   \n",
       "6    529.289258   742.795405  1366.229126   892.249453   983.676275  ...   \n",
       "7    513.026226  2177.669702  1360.817371   813.376838  2209.773142  ...   \n",
       "8    552.858108  2433.787251  1451.730380   995.562072  1947.466785  ...   \n",
       "9    584.048760  2424.724093  1376.149390   848.858780  1784.940630  ...   \n",
       "10   521.849273  2400.143529  1294.542330  1143.476670  2467.245704  ...   \n",
       "11   515.487157   814.541197  2007.102265  1474.216900  2707.598972  ...   \n",
       "12   596.934728  2845.512300  1864.717624   865.769215  2499.841840  ...   \n",
       "13   530.894516  2335.227456  1842.050674   946.629418  1513.978596  ...   \n",
       "14   852.015002  1399.521945   486.134210  1562.646607  3332.007478  ...   \n",
       "15   553.027127  1423.893242  1839.888646  1197.081366  2988.531238  ...   \n",
       "16   509.206599  1029.824868  1886.249725  1157.705792  2303.607546  ...   \n",
       "17   891.778334   883.792265   902.851493   695.423006   924.808383  ...   \n",
       "18   640.651935  4183.064206  1557.058121   911.275762  2558.520827  ...   \n",
       "19   533.440677  1020.776132  1765.682242   604.703071  3975.994094  ...   \n",
       "\n",
       "     Granzyme B         CCL4        CD15       CD182       CD197       IL-21  \\\n",
       "0    648.804947   585.191381  622.984062  507.160020  521.665598  745.204173   \n",
       "1    566.797908   902.976225  541.336585  509.972729  532.145073  513.079211   \n",
       "2    587.347451   737.662682  515.291416  780.231103  606.187356  715.505628   \n",
       "3    972.315900   534.148282  679.868074  517.515480  490.278047  688.949714   \n",
       "4    756.944868  1041.256293  543.882557  504.251373  510.271727  610.724690   \n",
       "5    833.234533   983.239167  620.761161  568.014233  517.090090  626.185674   \n",
       "6    663.685095  1468.113192  637.723136  542.737009  575.964986  636.125353   \n",
       "7    557.106513   569.331972  576.766093  499.874387  543.436410  574.512953   \n",
       "8    685.863976  1040.576883  629.455859  524.466321  509.876372  577.984592   \n",
       "9    792.719267   905.189311  642.509867  496.837116  501.755556  601.063696   \n",
       "10   830.600053   791.504574  570.143957  538.888149  539.026451  621.338210   \n",
       "11  1070.436834   676.938606  592.008196  508.327055  524.918203  508.413424   \n",
       "12   809.485887  1005.504360  573.044147  602.867451  533.511711  616.125945   \n",
       "13   704.609600  1052.713082  661.172279  520.507866  580.049294  536.878502   \n",
       "14  1108.784250  1142.572726  593.099650  542.940099  543.280730  628.701063   \n",
       "15   660.172995  1320.737985  596.502823  480.784042  525.257665  562.577726   \n",
       "16   695.191395   562.045043  512.924895  493.645222  556.020458  568.580131   \n",
       "17  1063.558528   769.010740  576.055988  487.163721  523.187875  968.996538   \n",
       "18   903.654923   850.607811  653.246395  585.351561  519.781296  721.416476   \n",
       "19   704.087702  1181.665694  601.003932  504.435802  508.487726  691.314995   \n",
       "\n",
       "        HLA-DR       CD181      β-Actin       IL-22  \n",
       "0   625.576933  890.473356   730.239695  606.385944  \n",
       "1   579.316823  536.086193   690.569707  538.364672  \n",
       "2   569.176593  647.409062   584.242162  537.659564  \n",
       "3   524.763762  517.817829   763.693559  657.198799  \n",
       "4   582.022937  601.456194   720.723971  662.802631  \n",
       "5   514.810013  546.470574   703.633271  557.380318  \n",
       "6   502.147592  556.446473   878.825424  541.504603  \n",
       "7   516.323004  505.780581   634.883564  578.725316  \n",
       "8   550.098389  514.365746   618.125529  512.396249  \n",
       "9   534.524566  560.327773   633.589630  583.589784  \n",
       "10  520.526470  524.786611   633.625583  554.806374  \n",
       "11  507.151100  522.360794   669.785791  565.220468  \n",
       "12  550.786377  539.974526   904.281086  621.063334  \n",
       "13  496.081829  494.630149   709.010432  528.937964  \n",
       "14  532.498492  549.001487   755.475073  584.113748  \n",
       "15  519.731313  601.792887   875.375193  581.514773  \n",
       "16  526.425062  538.931699  1115.807762  545.162016  \n",
       "17  506.308200  634.535495   642.424813  685.544380  \n",
       "18  525.722063  607.486484   856.483931  586.192633  \n",
       "19  541.744831  634.296803   712.935137  700.463597  \n",
       "\n",
       "[20 rows x 49 columns]"
      ]
     },
     "execution_count": 176,
     "metadata": {},
     "output_type": "execute_result"
    }
   ],
   "source": [
    "df.head(20)"
   ]
  },
  {
   "cell_type": "code",
   "execution_count": 177,
   "id": "72ee2cbd-5213-4413-a49a-694721e6041f",
   "metadata": {},
   "outputs": [
    {
     "data": {
      "text/plain": [
       "Severity\n",
       "1    2056\n",
       "2    3023\n",
       "3    2806\n",
       "4    2903\n",
       "dtype: int64"
      ]
     },
     "execution_count": 177,
     "metadata": {},
     "output_type": "execute_result"
    }
   ],
   "source": [
    "df.groupby('Severity').size()"
   ]
  },
  {
   "cell_type": "code",
   "execution_count": 88,
   "id": "9def898a-b157-4e35-8176-e7d3778ee750",
   "metadata": {},
   "outputs": [
    {
     "data": {
      "text/plain": [
       "Index(['MouseNo', 'Severity', 'Death_0 /Survival_1', 'CD4', 'CD8a', 'CD25',\n",
       "       'IFN-γ', 'GM-CSF', 'IL-4', 'IL-5', 'IL-6', 'CD18', 'CD28', 'CD62L',\n",
       "       'CD279', 'IL-1β', 'IL-2', 'IL-9', 'IL-10', 'TNF-α', 'CD69', 'IL-12',\n",
       "       'IL-17A', 'Perforin', 'CD32', 'CD191', 'CD193', 'VEGF', 'CD11b', 'CD14',\n",
       "       'CD55', 'CD183', 'CD284', 'TGF-β', 'CD66a', 'CD184', 'CD185', 'CD194',\n",
       "       'CD196', 'Granzyme B', 'CCL4', 'CD15', 'CD182', 'CD197', 'IL-21',\n",
       "       'HLA-DR', 'CD181', 'β-Actin', 'IL-22'],\n",
       "      dtype='object')"
      ]
     },
     "execution_count": 88,
     "metadata": {},
     "output_type": "execute_result"
    }
   ],
   "source": [
    "df.columns"
   ]
  },
  {
   "cell_type": "code",
   "execution_count": 127,
   "id": "09db40c0-5b43-4689-a9c1-adca0c40dd03",
   "metadata": {},
   "outputs": [],
   "source": [
    "X_train, X_test, Y_train, Y_test = train_test_split(df.iloc[:,3:], df['Severity'].to_list(), test_size=0.2, random_state=0)"
   ]
  },
  {
   "cell_type": "code",
   "execution_count": 131,
   "id": "1110510f-e1c3-4022-aeb8-d9609d47a201",
   "metadata": {},
   "outputs": [
    {
     "name": "stdout",
     "output_type": "stream",
     "text": [
      "Random forest 0.8188137164040779\n"
     ]
    }
   ],
   "source": [
    "clf = RandomForestClassifier(n_estimators = 1000) \n",
    "clf.fit(X_train, Y_train)\n",
    "Y_pred = clf.predict(X_test)\n",
    "print(\"Random forest\", metrics.accuracy_score(Y_pred, Y_test))"
   ]
  },
  {
   "cell_type": "code",
   "execution_count": 164,
   "id": "f4460073-fbe1-4086-8aa0-8e9938821366",
   "metadata": {},
   "outputs": [],
   "source": [
    "def all_classifier(data, label, accuracy_list):\n",
    "    X_train, X_test, Y_train, Y_test = train_test_split(data, label, test_size=0.2, random_state=0)\n",
    "    sc = StandardScaler()\n",
    "    X_train = sc.fit_transform(X_train)\n",
    "    X_test = sc.transform(X_test)\n",
    "    \n",
    "    ## Random Forest Classifier\n",
    "    clf = RandomForestClassifier(n_estimators = 100) \n",
    "    clf.fit(X_train, Y_train)\n",
    "    Y_pred = clf.predict(X_test)\n",
    "    print(\"Random forest\", metrics.accuracy_score(Y_pred, Y_test))\n",
    "    accuracy_list.append(metrics.accuracy_score(Y_pred, Y_test))\n",
    "    \n",
    "    # ## Logistic regresiion \n",
    "    # lr = LogisticRegression(random_state = 0)\n",
    "    # lr.fit(X_train, Y_train)\n",
    "    # y_pred_lr = lr.predict(X_test)\n",
    "    # print(\"LR\", metrics.accuracy_score(y_pred_lr, Y_test))\n",
    "    \n",
    "    ## K-nearest neighbour classifier\n",
    "    knn = KNeighborsClassifier(n_neighbors = 3, metric = 'minkowski', p = 2)\n",
    "    knn.fit(X_train, Y_train)\n",
    "    Y_pred_knn = knn.predict(X_test)\n",
    "    print(\"KNN\", metrics.accuracy_score(Y_pred_knn, Y_test))\n",
    "    accuracy_list.append(metrics.accuracy_score(Y_pred_knn, Y_test))\n",
    "    \n",
    "    \n",
    "    ##  SVC (Support Vector Classifier) with Linear Kernel\n",
    "    svc = SVC(kernel = 'linear', random_state = 0)\n",
    "    svc.fit(X_train, Y_train)\n",
    "    Y_pred_svc = svc.predict(X_test)\n",
    "    print(\"SVC_linear\", metrics.accuracy_score(Y_pred_svc, Y_test))\n",
    "    accuracy_list.append(metrics.accuracy_score(Y_pred_svc, Y_test))\n",
    "    \n",
    "    ## SVM\n",
    "    svc_rbf = SVC(kernel = 'rbf', random_state = 0)\n",
    "    svc_rbf.fit(X_train, Y_train)\n",
    "    Y_pred_svm = svc_rbf.predict(X_test)\n",
    "    print(\"SVC_svm\", metrics.accuracy_score(Y_pred_svm, Y_test))\n",
    "    accuracy_list.append(metrics.accuracy_score(Y_pred_svm, Y_test))\n",
    "    \n",
    "    \n",
    "    ##Naïve Bayes(Gaussian)\n",
    "\n",
    "    nb = GaussianNB()\n",
    "    nb.fit(X_train, Y_train)\n",
    "    Y_pred_nb = nb.predict(X_test)\n",
    "    print(\"Naïve Bayes(Gaussian)\", metrics.accuracy_score(Y_pred_nb, Y_test))\n",
    "    accuracy_list.append(metrics.accuracy_score(Y_pred_nb, Y_test))\n",
    "    \n",
    "    \n",
    "\n",
    "    ## AdaBoostClassifier\n",
    "    abc = AdaBoostClassifier()\n",
    "    abc.fit(X_train, Y_train)\n",
    "    Y_pred_abc = abc.predict(X_test)\n",
    "    print(\"AdaBoostClassifier\", metrics.accuracy_score(Y_pred_abc, Y_test))\n",
    "    accuracy_list.append(metrics.accuracy_score(Y_pred_abc, Y_test))\n",
    "    \n",
    "\n",
    "    # ## Quadratic Discriminant Analysis\n",
    "    # qda = QuadraticDiscriminantAnalysis()\n",
    "    # qda.fit(X_train, Y_train)\n",
    "    # Y_pred_qda = qda.predict(X_test)\n",
    "    # print(\"Quadratic Discriminant Analysis\", metrics.accuracy_score(Y_pred_qda, Y_test))\n",
    "    \n",
    "    ## Multilayer perceptron\n",
    "    mlp = MLPClassifier(alpha=1, max_iter=1000, activation='relu', hidden_layer_sizes = (100, 50, ))\n",
    "    mlp.fit(X_train, Y_train)\n",
    "    Y_pred_mlp = mlp.predict(X_test)\n",
    "    print(\"MLP Classifier\", metrics.accuracy_score(Y_pred_mlp, Y_test))\n",
    "    accuracy_list.append(metrics.accuracy_score(Y_pred_mlp, Y_test))\n",
    "    \n",
    "    \n",
    "    print(\"\\n\")\n",
    "    return(accuracy_list) "
   ]
  },
  {
   "cell_type": "markdown",
   "id": "32c741f2-3e9f-431c-8e5e-82a93f2dd20e",
   "metadata": {},
   "source": [
    "# Principal Component Analysis"
   ]
  },
  {
   "cell_type": "code",
   "execution_count": 165,
   "id": "8dee8724-34d1-4324-8cf0-bea54642fc95",
   "metadata": {},
   "outputs": [
    {
     "name": "stdout",
     "output_type": "stream",
     "text": [
      "Random forest 0.375\n",
      "KNN 0.125\n",
      "SVC_linear 0.875\n",
      "SVC_svm 0.125\n",
      "Naïve Bayes(Gaussian) 0.375\n",
      "AdaBoostClassifier 0.25\n",
      "MLP Classifier 0.875\n",
      "\n",
      "\n",
      "Random forest 0.3333333333333333\n",
      "KNN 0.5\n",
      "SVC_linear 0.75\n",
      "SVC_svm 0.16666666666666666\n",
      "Naïve Bayes(Gaussian) 0.3333333333333333\n",
      "AdaBoostClassifier 0.3333333333333333\n",
      "MLP Classifier 0.5833333333333334\n",
      "\n",
      "\n",
      "Random forest 0.5\n",
      "KNN 0.3125\n",
      "SVC_linear 0.5\n",
      "SVC_svm 0.4375\n",
      "Naïve Bayes(Gaussian) 0.5\n",
      "AdaBoostClassifier 0.5\n",
      "MLP Classifier 0.5\n",
      "\n",
      "\n",
      "Random forest 0.2631578947368421\n",
      "KNN 0.2631578947368421\n",
      "SVC_linear 0.631578947368421\n",
      "SVC_svm 0.10526315789473684\n",
      "Naïve Bayes(Gaussian) 0.2631578947368421\n",
      "AdaBoostClassifier 0.3684210526315789\n",
      "MLP Classifier 0.47368421052631576\n",
      "\n",
      "\n",
      "Random forest 0.34782608695652173\n",
      "KNN 0.391304347826087\n",
      "SVC_linear 0.4782608695652174\n",
      "SVC_svm 0.17391304347826086\n",
      "Naïve Bayes(Gaussian) 0.2608695652173913\n",
      "AdaBoostClassifier 0.43478260869565216\n",
      "MLP Classifier 0.34782608695652173\n",
      "\n",
      "\n",
      "Random forest 0.48148148148148145\n",
      "KNN 0.4444444444444444\n",
      "SVC_linear 0.4444444444444444\n",
      "SVC_svm 0.25925925925925924\n",
      "Naïve Bayes(Gaussian) 0.25925925925925924\n",
      "AdaBoostClassifier 0.4444444444444444\n",
      "MLP Classifier 0.48148148148148145\n",
      "\n",
      "\n",
      "Random forest 0.6129032258064516\n",
      "KNN 0.3548387096774194\n",
      "SVC_linear 0.5483870967741935\n",
      "SVC_svm 0.3225806451612903\n",
      "Naïve Bayes(Gaussian) 0.3225806451612903\n",
      "AdaBoostClassifier 0.4838709677419355\n",
      "MLP Classifier 0.5806451612903226\n",
      "\n",
      "\n",
      "Random forest 0.2857142857142857\n",
      "KNN 0.3142857142857143\n",
      "SVC_linear 0.6\n",
      "SVC_svm 0.2571428571428571\n",
      "Naïve Bayes(Gaussian) 0.2\n",
      "AdaBoostClassifier 0.4\n",
      "MLP Classifier 0.5714285714285714\n",
      "\n",
      "\n",
      "Random forest 0.5\n",
      "KNN 0.42105263157894735\n",
      "SVC_linear 0.4473684210526316\n",
      "SVC_svm 0.3157894736842105\n",
      "Naïve Bayes(Gaussian) 0.2631578947368421\n",
      "AdaBoostClassifier 0.23684210526315788\n",
      "MLP Classifier 0.6578947368421053\n",
      "\n",
      "\n",
      "Random forest 0.5\n",
      "KNN 0.42857142857142855\n",
      "SVC_linear 0.42857142857142855\n",
      "SVC_svm 0.30952380952380953\n",
      "Naïve Bayes(Gaussian) 0.23809523809523808\n",
      "AdaBoostClassifier 0.40476190476190477\n",
      "MLP Classifier 0.5952380952380952\n",
      "\n",
      "\n",
      "Random forest 0.43478260869565216\n",
      "KNN 0.2608695652173913\n",
      "SVC_linear 0.2826086956521739\n",
      "SVC_svm 0.34782608695652173\n",
      "Naïve Bayes(Gaussian) 0.32608695652173914\n",
      "AdaBoostClassifier 0.43478260869565216\n",
      "MLP Classifier 0.5\n",
      "\n",
      "\n",
      "Random forest 0.48\n",
      "KNN 0.34\n",
      "SVC_linear 0.34\n",
      "SVC_svm 0.34\n",
      "Naïve Bayes(Gaussian) 0.28\n",
      "AdaBoostClassifier 0.38\n",
      "MLP Classifier 0.54\n",
      "\n",
      "\n",
      "Random forest 0.5370370370370371\n",
      "KNN 0.2962962962962963\n",
      "SVC_linear 0.3888888888888889\n",
      "SVC_svm 0.3333333333333333\n",
      "Naïve Bayes(Gaussian) 0.2962962962962963\n",
      "AdaBoostClassifier 0.3888888888888889\n",
      "MLP Classifier 0.46296296296296297\n",
      "\n",
      "\n",
      "Random forest 0.45614035087719296\n",
      "KNN 0.40350877192982454\n",
      "SVC_linear 0.3684210526315789\n",
      "SVC_svm 0.3333333333333333\n",
      "Naïve Bayes(Gaussian) 0.2982456140350877\n",
      "AdaBoostClassifier 0.38596491228070173\n",
      "MLP Classifier 0.5087719298245614\n",
      "\n",
      "\n",
      "Random forest 0.4098360655737705\n",
      "KNN 0.47540983606557374\n",
      "SVC_linear 0.3114754098360656\n",
      "SVC_svm 0.3114754098360656\n",
      "Naïve Bayes(Gaussian) 0.29508196721311475\n",
      "AdaBoostClassifier 0.26229508196721313\n",
      "MLP Classifier 0.39344262295081966\n",
      "\n",
      "\n",
      "Random forest 0.38461538461538464\n",
      "KNN 0.35384615384615387\n",
      "SVC_linear 0.36923076923076925\n",
      "SVC_svm 0.23076923076923078\n",
      "Naïve Bayes(Gaussian) 0.16923076923076924\n",
      "AdaBoostClassifier 0.4\n",
      "MLP Classifier 0.47692307692307695\n",
      "\n",
      "\n",
      "Random forest 0.5362318840579711\n",
      "KNN 0.42028985507246375\n",
      "SVC_linear 0.36231884057971014\n",
      "SVC_svm 0.3188405797101449\n",
      "Naïve Bayes(Gaussian) 0.2463768115942029\n",
      "AdaBoostClassifier 0.391304347826087\n",
      "MLP Classifier 0.4782608695652174\n",
      "\n",
      "\n",
      "Random forest 0.3835616438356164\n",
      "KNN 0.4246575342465753\n",
      "SVC_linear 0.2876712328767123\n",
      "SVC_svm 0.2054794520547945\n",
      "Naïve Bayes(Gaussian) 0.1643835616438356\n",
      "AdaBoostClassifier 0.3424657534246575\n",
      "MLP Classifier 0.3835616438356164\n",
      "\n",
      "\n",
      "Random forest 0.42105263157894735\n",
      "KNN 0.35526315789473684\n",
      "SVC_linear 0.3026315789473684\n",
      "SVC_svm 0.2236842105263158\n",
      "Naïve Bayes(Gaussian) 0.2894736842105263\n",
      "AdaBoostClassifier 0.3684210526315789\n",
      "MLP Classifier 0.3815789473684211\n",
      "\n",
      "\n"
     ]
    }
   ],
   "source": [
    "PCA_components = [ 2, 3,4,5,6,7,8,9,10, 11,12, 13, 14, 15, 16, 17, 18, 19 ,20]\n",
    "grouped_df =  df.groupby(['MouseNo'])\n",
    "all_accuracy_list = []\n",
    "for component in PCA_components:\n",
    "    reduce_final_df = [] \n",
    "    labels = []\n",
    "    temp_accuracy_list = []\n",
    "    for key, item in grouped_df:\n",
    "        severity = item['Severity'].to_list()[0]\n",
    "        temp_df = grouped_df.get_group(key).reset_index(drop=True).iloc[:,3:].to_numpy()\n",
    "        temp_data_tran = temp_df.transpose()\n",
    "        #print(temp_data_tran.shape)\n",
    "        pca = PCA(n_components=component)\n",
    "        principalComponents = pca.fit_transform(temp_data_tran)\n",
    "        reduce_features = principalComponents.transpose()\n",
    "        #print(reduce_features)\n",
    "        reduce_final_df.append(reduce_features)\n",
    "        labels.append(component * [severity])\n",
    "    final_df = np.concatenate(reduce_final_df)\n",
    "    final_labels = [item for sublist in labels for item in sublist]\n",
    "    #print(final_df.shape)\n",
    "    #print(final_labels)\n",
    "    accuracy_list = all_classifier(final_df , final_labels, temp_accuracy_list)\n",
    "    all_accuracy_list.append(accuracy_list)\n",
    "accuracy_numpy = np.array(all_accuracy_list)\n",
    "#print(accuracy_numpy)\n",
    "# cluster_numbers = [2, 3,4, 5, 6,7,8,9,10,20, 30, 40, 50]\n",
    "# for i in cluster_numbers:\n",
    "#     print(i)\n",
    "#     cluster = KMeans(n_clusters=i).fit(entire_data)\n",
    "#     pickle.dump(cluster, open(output_file_path + '/kmeans_{}.pkl'.format(i), 'wb'))"
   ]
  },
  {
   "cell_type": "code",
   "execution_count": 166,
   "id": "32f5dbbb-4dfb-4506-8975-010c8bef69a8",
   "metadata": {},
   "outputs": [
    {
     "data": {
      "text/plain": [
       "array([[0.375     , 0.33333333, 0.5       , 0.26315789, 0.34782609,\n",
       "        0.48148148, 0.61290323, 0.28571429, 0.5       , 0.5       ,\n",
       "        0.43478261, 0.48      , 0.53703704, 0.45614035, 0.40983607,\n",
       "        0.38461538, 0.53623188, 0.38356164, 0.42105263],\n",
       "       [0.125     , 0.5       , 0.3125    , 0.26315789, 0.39130435,\n",
       "        0.44444444, 0.35483871, 0.31428571, 0.42105263, 0.42857143,\n",
       "        0.26086957, 0.34      , 0.2962963 , 0.40350877, 0.47540984,\n",
       "        0.35384615, 0.42028986, 0.42465753, 0.35526316],\n",
       "       [0.875     , 0.75      , 0.5       , 0.63157895, 0.47826087,\n",
       "        0.44444444, 0.5483871 , 0.6       , 0.44736842, 0.42857143,\n",
       "        0.2826087 , 0.34      , 0.38888889, 0.36842105, 0.31147541,\n",
       "        0.36923077, 0.36231884, 0.28767123, 0.30263158],\n",
       "       [0.125     , 0.16666667, 0.4375    , 0.10526316, 0.17391304,\n",
       "        0.25925926, 0.32258065, 0.25714286, 0.31578947, 0.30952381,\n",
       "        0.34782609, 0.34      , 0.33333333, 0.33333333, 0.31147541,\n",
       "        0.23076923, 0.31884058, 0.20547945, 0.22368421],\n",
       "       [0.375     , 0.33333333, 0.5       , 0.26315789, 0.26086957,\n",
       "        0.25925926, 0.32258065, 0.2       , 0.26315789, 0.23809524,\n",
       "        0.32608696, 0.28      , 0.2962963 , 0.29824561, 0.29508197,\n",
       "        0.16923077, 0.24637681, 0.16438356, 0.28947368],\n",
       "       [0.25      , 0.33333333, 0.5       , 0.36842105, 0.43478261,\n",
       "        0.44444444, 0.48387097, 0.4       , 0.23684211, 0.4047619 ,\n",
       "        0.43478261, 0.38      , 0.38888889, 0.38596491, 0.26229508,\n",
       "        0.4       , 0.39130435, 0.34246575, 0.36842105],\n",
       "       [0.875     , 0.58333333, 0.5       , 0.47368421, 0.34782609,\n",
       "        0.48148148, 0.58064516, 0.57142857, 0.65789474, 0.5952381 ,\n",
       "        0.5       , 0.54      , 0.46296296, 0.50877193, 0.39344262,\n",
       "        0.47692308, 0.47826087, 0.38356164, 0.38157895]])"
      ]
     },
     "execution_count": 166,
     "metadata": {},
     "output_type": "execute_result"
    }
   ],
   "source": [
    "y_data = np.transpose(accuracy_numpy)\n",
    "y_data"
   ]
  },
  {
   "cell_type": "code",
   "execution_count": 167,
   "id": "ada1e9a9-32b4-4d97-bda6-1c5f21b07c87",
   "metadata": {},
   "outputs": [],
   "source": [
    "x_data = np.vstack((np.arange(2, 21),)*7)"
   ]
  },
  {
   "cell_type": "code",
   "execution_count": 168,
   "id": "53e23af9-5992-401c-abc0-e2478e137783",
   "metadata": {},
   "outputs": [
    {
     "data": {
      "text/plain": [
       "array([[ 2,  3,  4,  5,  6,  7,  8,  9, 10, 11, 12, 13, 14, 15, 16, 17,\n",
       "        18, 19, 20],\n",
       "       [ 2,  3,  4,  5,  6,  7,  8,  9, 10, 11, 12, 13, 14, 15, 16, 17,\n",
       "        18, 19, 20],\n",
       "       [ 2,  3,  4,  5,  6,  7,  8,  9, 10, 11, 12, 13, 14, 15, 16, 17,\n",
       "        18, 19, 20],\n",
       "       [ 2,  3,  4,  5,  6,  7,  8,  9, 10, 11, 12, 13, 14, 15, 16, 17,\n",
       "        18, 19, 20],\n",
       "       [ 2,  3,  4,  5,  6,  7,  8,  9, 10, 11, 12, 13, 14, 15, 16, 17,\n",
       "        18, 19, 20],\n",
       "       [ 2,  3,  4,  5,  6,  7,  8,  9, 10, 11, 12, 13, 14, 15, 16, 17,\n",
       "        18, 19, 20],\n",
       "       [ 2,  3,  4,  5,  6,  7,  8,  9, 10, 11, 12, 13, 14, 15, 16, 17,\n",
       "        18, 19, 20]])"
      ]
     },
     "execution_count": 168,
     "metadata": {},
     "output_type": "execute_result"
    }
   ],
   "source": [
    "x_data"
   ]
  },
  {
   "cell_type": "code",
   "execution_count": 169,
   "id": "39eac677-4fc8-4345-b428-d606855aa947",
   "metadata": {},
   "outputs": [],
   "source": [
    "labels = ['Random forest','KNN', 'SVC_linear','SVC_svm', 'Naïve Bayes(Gaussian)','AdaBoostClassifier','MLP Classifier']"
   ]
  },
  {
   "cell_type": "code",
   "execution_count": 170,
   "id": "3c021e90-dd03-49ea-89d8-d56510102cb9",
   "metadata": {},
   "outputs": [
    {
     "data": {
      "application/vnd.plotly.v1+json": {
       "config": {
        "plotlyServerURL": "https://plot.ly"
       },
       "data": [
        {
         "connectgaps": true,
         "mode": "lines+markers",
         "name": "Random forest",
         "type": "scatter",
         "x": [
          2,
          3,
          4,
          5,
          6,
          7,
          8,
          9,
          10,
          11,
          12,
          13,
          14,
          15,
          16,
          17,
          18,
          19,
          20
         ],
         "y": [
          0.375,
          0.3333333333333333,
          0.5,
          0.2631578947368421,
          0.34782608695652173,
          0.48148148148148145,
          0.6129032258064516,
          0.2857142857142857,
          0.5,
          0.5,
          0.43478260869565216,
          0.48,
          0.5370370370370371,
          0.45614035087719296,
          0.4098360655737705,
          0.38461538461538464,
          0.5362318840579711,
          0.3835616438356164,
          0.42105263157894735
         ]
        },
        {
         "connectgaps": true,
         "mode": "lines+markers",
         "name": "KNN",
         "type": "scatter",
         "x": [
          2,
          3,
          4,
          5,
          6,
          7,
          8,
          9,
          10,
          11,
          12,
          13,
          14,
          15,
          16,
          17,
          18,
          19,
          20
         ],
         "y": [
          0.125,
          0.5,
          0.3125,
          0.2631578947368421,
          0.391304347826087,
          0.4444444444444444,
          0.3548387096774194,
          0.3142857142857143,
          0.42105263157894735,
          0.42857142857142855,
          0.2608695652173913,
          0.34,
          0.2962962962962963,
          0.40350877192982454,
          0.47540983606557374,
          0.35384615384615387,
          0.42028985507246375,
          0.4246575342465753,
          0.35526315789473684
         ]
        },
        {
         "connectgaps": true,
         "mode": "lines+markers",
         "name": "SVC_linear",
         "type": "scatter",
         "x": [
          2,
          3,
          4,
          5,
          6,
          7,
          8,
          9,
          10,
          11,
          12,
          13,
          14,
          15,
          16,
          17,
          18,
          19,
          20
         ],
         "y": [
          0.875,
          0.75,
          0.5,
          0.631578947368421,
          0.4782608695652174,
          0.4444444444444444,
          0.5483870967741935,
          0.6,
          0.4473684210526316,
          0.42857142857142855,
          0.2826086956521739,
          0.34,
          0.3888888888888889,
          0.3684210526315789,
          0.3114754098360656,
          0.36923076923076925,
          0.36231884057971014,
          0.2876712328767123,
          0.3026315789473684
         ]
        },
        {
         "connectgaps": true,
         "mode": "lines+markers",
         "name": "SVC_svm",
         "type": "scatter",
         "x": [
          2,
          3,
          4,
          5,
          6,
          7,
          8,
          9,
          10,
          11,
          12,
          13,
          14,
          15,
          16,
          17,
          18,
          19,
          20
         ],
         "y": [
          0.125,
          0.16666666666666666,
          0.4375,
          0.10526315789473684,
          0.17391304347826086,
          0.25925925925925924,
          0.3225806451612903,
          0.2571428571428571,
          0.3157894736842105,
          0.30952380952380953,
          0.34782608695652173,
          0.34,
          0.3333333333333333,
          0.3333333333333333,
          0.3114754098360656,
          0.23076923076923078,
          0.3188405797101449,
          0.2054794520547945,
          0.2236842105263158
         ]
        },
        {
         "connectgaps": true,
         "mode": "lines+markers",
         "name": "Naïve Bayes(Gaussian)",
         "type": "scatter",
         "x": [
          2,
          3,
          4,
          5,
          6,
          7,
          8,
          9,
          10,
          11,
          12,
          13,
          14,
          15,
          16,
          17,
          18,
          19,
          20
         ],
         "y": [
          0.375,
          0.3333333333333333,
          0.5,
          0.2631578947368421,
          0.2608695652173913,
          0.25925925925925924,
          0.3225806451612903,
          0.2,
          0.2631578947368421,
          0.23809523809523808,
          0.32608695652173914,
          0.28,
          0.2962962962962963,
          0.2982456140350877,
          0.29508196721311475,
          0.16923076923076924,
          0.2463768115942029,
          0.1643835616438356,
          0.2894736842105263
         ]
        },
        {
         "connectgaps": true,
         "mode": "lines+markers",
         "name": "AdaBoostClassifier",
         "type": "scatter",
         "x": [
          2,
          3,
          4,
          5,
          6,
          7,
          8,
          9,
          10,
          11,
          12,
          13,
          14,
          15,
          16,
          17,
          18,
          19,
          20
         ],
         "y": [
          0.25,
          0.3333333333333333,
          0.5,
          0.3684210526315789,
          0.43478260869565216,
          0.4444444444444444,
          0.4838709677419355,
          0.4,
          0.23684210526315788,
          0.40476190476190477,
          0.43478260869565216,
          0.38,
          0.3888888888888889,
          0.38596491228070173,
          0.26229508196721313,
          0.4,
          0.391304347826087,
          0.3424657534246575,
          0.3684210526315789
         ]
        },
        {
         "connectgaps": true,
         "mode": "lines+markers",
         "name": "MLP Classifier",
         "type": "scatter",
         "x": [
          2,
          3,
          4,
          5,
          6,
          7,
          8,
          9,
          10,
          11,
          12,
          13,
          14,
          15,
          16,
          17,
          18,
          19,
          20
         ],
         "y": [
          0.875,
          0.5833333333333334,
          0.5,
          0.47368421052631576,
          0.34782608695652173,
          0.48148148148148145,
          0.5806451612903226,
          0.5714285714285714,
          0.6578947368421053,
          0.5952380952380952,
          0.5,
          0.54,
          0.46296296296296297,
          0.5087719298245614,
          0.39344262295081966,
          0.47692307692307695,
          0.4782608695652174,
          0.3835616438356164,
          0.3815789473684211
         ]
        }
       ],
       "layout": {
        "autosize": true,
        "template": {
         "data": {
          "bar": [
           {
            "error_x": {
             "color": "#2a3f5f"
            },
            "error_y": {
             "color": "#2a3f5f"
            },
            "marker": {
             "line": {
              "color": "#E5ECF6",
              "width": 0.5
             },
             "pattern": {
              "fillmode": "overlay",
              "size": 10,
              "solidity": 0.2
             }
            },
            "type": "bar"
           }
          ],
          "barpolar": [
           {
            "marker": {
             "line": {
              "color": "#E5ECF6",
              "width": 0.5
             },
             "pattern": {
              "fillmode": "overlay",
              "size": 10,
              "solidity": 0.2
             }
            },
            "type": "barpolar"
           }
          ],
          "carpet": [
           {
            "aaxis": {
             "endlinecolor": "#2a3f5f",
             "gridcolor": "white",
             "linecolor": "white",
             "minorgridcolor": "white",
             "startlinecolor": "#2a3f5f"
            },
            "baxis": {
             "endlinecolor": "#2a3f5f",
             "gridcolor": "white",
             "linecolor": "white",
             "minorgridcolor": "white",
             "startlinecolor": "#2a3f5f"
            },
            "type": "carpet"
           }
          ],
          "choropleth": [
           {
            "colorbar": {
             "outlinewidth": 0,
             "ticks": ""
            },
            "type": "choropleth"
           }
          ],
          "contour": [
           {
            "colorbar": {
             "outlinewidth": 0,
             "ticks": ""
            },
            "colorscale": [
             [
              0,
              "#0d0887"
             ],
             [
              0.1111111111111111,
              "#46039f"
             ],
             [
              0.2222222222222222,
              "#7201a8"
             ],
             [
              0.3333333333333333,
              "#9c179e"
             ],
             [
              0.4444444444444444,
              "#bd3786"
             ],
             [
              0.5555555555555556,
              "#d8576b"
             ],
             [
              0.6666666666666666,
              "#ed7953"
             ],
             [
              0.7777777777777778,
              "#fb9f3a"
             ],
             [
              0.8888888888888888,
              "#fdca26"
             ],
             [
              1,
              "#f0f921"
             ]
            ],
            "type": "contour"
           }
          ],
          "contourcarpet": [
           {
            "colorbar": {
             "outlinewidth": 0,
             "ticks": ""
            },
            "type": "contourcarpet"
           }
          ],
          "heatmap": [
           {
            "colorbar": {
             "outlinewidth": 0,
             "ticks": ""
            },
            "colorscale": [
             [
              0,
              "#0d0887"
             ],
             [
              0.1111111111111111,
              "#46039f"
             ],
             [
              0.2222222222222222,
              "#7201a8"
             ],
             [
              0.3333333333333333,
              "#9c179e"
             ],
             [
              0.4444444444444444,
              "#bd3786"
             ],
             [
              0.5555555555555556,
              "#d8576b"
             ],
             [
              0.6666666666666666,
              "#ed7953"
             ],
             [
              0.7777777777777778,
              "#fb9f3a"
             ],
             [
              0.8888888888888888,
              "#fdca26"
             ],
             [
              1,
              "#f0f921"
             ]
            ],
            "type": "heatmap"
           }
          ],
          "heatmapgl": [
           {
            "colorbar": {
             "outlinewidth": 0,
             "ticks": ""
            },
            "colorscale": [
             [
              0,
              "#0d0887"
             ],
             [
              0.1111111111111111,
              "#46039f"
             ],
             [
              0.2222222222222222,
              "#7201a8"
             ],
             [
              0.3333333333333333,
              "#9c179e"
             ],
             [
              0.4444444444444444,
              "#bd3786"
             ],
             [
              0.5555555555555556,
              "#d8576b"
             ],
             [
              0.6666666666666666,
              "#ed7953"
             ],
             [
              0.7777777777777778,
              "#fb9f3a"
             ],
             [
              0.8888888888888888,
              "#fdca26"
             ],
             [
              1,
              "#f0f921"
             ]
            ],
            "type": "heatmapgl"
           }
          ],
          "histogram": [
           {
            "marker": {
             "pattern": {
              "fillmode": "overlay",
              "size": 10,
              "solidity": 0.2
             }
            },
            "type": "histogram"
           }
          ],
          "histogram2d": [
           {
            "colorbar": {
             "outlinewidth": 0,
             "ticks": ""
            },
            "colorscale": [
             [
              0,
              "#0d0887"
             ],
             [
              0.1111111111111111,
              "#46039f"
             ],
             [
              0.2222222222222222,
              "#7201a8"
             ],
             [
              0.3333333333333333,
              "#9c179e"
             ],
             [
              0.4444444444444444,
              "#bd3786"
             ],
             [
              0.5555555555555556,
              "#d8576b"
             ],
             [
              0.6666666666666666,
              "#ed7953"
             ],
             [
              0.7777777777777778,
              "#fb9f3a"
             ],
             [
              0.8888888888888888,
              "#fdca26"
             ],
             [
              1,
              "#f0f921"
             ]
            ],
            "type": "histogram2d"
           }
          ],
          "histogram2dcontour": [
           {
            "colorbar": {
             "outlinewidth": 0,
             "ticks": ""
            },
            "colorscale": [
             [
              0,
              "#0d0887"
             ],
             [
              0.1111111111111111,
              "#46039f"
             ],
             [
              0.2222222222222222,
              "#7201a8"
             ],
             [
              0.3333333333333333,
              "#9c179e"
             ],
             [
              0.4444444444444444,
              "#bd3786"
             ],
             [
              0.5555555555555556,
              "#d8576b"
             ],
             [
              0.6666666666666666,
              "#ed7953"
             ],
             [
              0.7777777777777778,
              "#fb9f3a"
             ],
             [
              0.8888888888888888,
              "#fdca26"
             ],
             [
              1,
              "#f0f921"
             ]
            ],
            "type": "histogram2dcontour"
           }
          ],
          "mesh3d": [
           {
            "colorbar": {
             "outlinewidth": 0,
             "ticks": ""
            },
            "type": "mesh3d"
           }
          ],
          "parcoords": [
           {
            "line": {
             "colorbar": {
              "outlinewidth": 0,
              "ticks": ""
             }
            },
            "type": "parcoords"
           }
          ],
          "pie": [
           {
            "automargin": true,
            "type": "pie"
           }
          ],
          "scatter": [
           {
            "fillpattern": {
             "fillmode": "overlay",
             "size": 10,
             "solidity": 0.2
            },
            "type": "scatter"
           }
          ],
          "scatter3d": [
           {
            "line": {
             "colorbar": {
              "outlinewidth": 0,
              "ticks": ""
             }
            },
            "marker": {
             "colorbar": {
              "outlinewidth": 0,
              "ticks": ""
             }
            },
            "type": "scatter3d"
           }
          ],
          "scattercarpet": [
           {
            "marker": {
             "colorbar": {
              "outlinewidth": 0,
              "ticks": ""
             }
            },
            "type": "scattercarpet"
           }
          ],
          "scattergeo": [
           {
            "marker": {
             "colorbar": {
              "outlinewidth": 0,
              "ticks": ""
             }
            },
            "type": "scattergeo"
           }
          ],
          "scattergl": [
           {
            "marker": {
             "colorbar": {
              "outlinewidth": 0,
              "ticks": ""
             }
            },
            "type": "scattergl"
           }
          ],
          "scattermapbox": [
           {
            "marker": {
             "colorbar": {
              "outlinewidth": 0,
              "ticks": ""
             }
            },
            "type": "scattermapbox"
           }
          ],
          "scatterpolar": [
           {
            "marker": {
             "colorbar": {
              "outlinewidth": 0,
              "ticks": ""
             }
            },
            "type": "scatterpolar"
           }
          ],
          "scatterpolargl": [
           {
            "marker": {
             "colorbar": {
              "outlinewidth": 0,
              "ticks": ""
             }
            },
            "type": "scatterpolargl"
           }
          ],
          "scatterternary": [
           {
            "marker": {
             "colorbar": {
              "outlinewidth": 0,
              "ticks": ""
             }
            },
            "type": "scatterternary"
           }
          ],
          "surface": [
           {
            "colorbar": {
             "outlinewidth": 0,
             "ticks": ""
            },
            "colorscale": [
             [
              0,
              "#0d0887"
             ],
             [
              0.1111111111111111,
              "#46039f"
             ],
             [
              0.2222222222222222,
              "#7201a8"
             ],
             [
              0.3333333333333333,
              "#9c179e"
             ],
             [
              0.4444444444444444,
              "#bd3786"
             ],
             [
              0.5555555555555556,
              "#d8576b"
             ],
             [
              0.6666666666666666,
              "#ed7953"
             ],
             [
              0.7777777777777778,
              "#fb9f3a"
             ],
             [
              0.8888888888888888,
              "#fdca26"
             ],
             [
              1,
              "#f0f921"
             ]
            ],
            "type": "surface"
           }
          ],
          "table": [
           {
            "cells": {
             "fill": {
              "color": "#EBF0F8"
             },
             "line": {
              "color": "white"
             }
            },
            "header": {
             "fill": {
              "color": "#C8D4E3"
             },
             "line": {
              "color": "white"
             }
            },
            "type": "table"
           }
          ]
         },
         "layout": {
          "annotationdefaults": {
           "arrowcolor": "#2a3f5f",
           "arrowhead": 0,
           "arrowwidth": 1
          },
          "autotypenumbers": "strict",
          "coloraxis": {
           "colorbar": {
            "outlinewidth": 0,
            "ticks": ""
           }
          },
          "colorscale": {
           "diverging": [
            [
             0,
             "#8e0152"
            ],
            [
             0.1,
             "#c51b7d"
            ],
            [
             0.2,
             "#de77ae"
            ],
            [
             0.3,
             "#f1b6da"
            ],
            [
             0.4,
             "#fde0ef"
            ],
            [
             0.5,
             "#f7f7f7"
            ],
            [
             0.6,
             "#e6f5d0"
            ],
            [
             0.7,
             "#b8e186"
            ],
            [
             0.8,
             "#7fbc41"
            ],
            [
             0.9,
             "#4d9221"
            ],
            [
             1,
             "#276419"
            ]
           ],
           "sequential": [
            [
             0,
             "#0d0887"
            ],
            [
             0.1111111111111111,
             "#46039f"
            ],
            [
             0.2222222222222222,
             "#7201a8"
            ],
            [
             0.3333333333333333,
             "#9c179e"
            ],
            [
             0.4444444444444444,
             "#bd3786"
            ],
            [
             0.5555555555555556,
             "#d8576b"
            ],
            [
             0.6666666666666666,
             "#ed7953"
            ],
            [
             0.7777777777777778,
             "#fb9f3a"
            ],
            [
             0.8888888888888888,
             "#fdca26"
            ],
            [
             1,
             "#f0f921"
            ]
           ],
           "sequentialminus": [
            [
             0,
             "#0d0887"
            ],
            [
             0.1111111111111111,
             "#46039f"
            ],
            [
             0.2222222222222222,
             "#7201a8"
            ],
            [
             0.3333333333333333,
             "#9c179e"
            ],
            [
             0.4444444444444444,
             "#bd3786"
            ],
            [
             0.5555555555555556,
             "#d8576b"
            ],
            [
             0.6666666666666666,
             "#ed7953"
            ],
            [
             0.7777777777777778,
             "#fb9f3a"
            ],
            [
             0.8888888888888888,
             "#fdca26"
            ],
            [
             1,
             "#f0f921"
            ]
           ]
          },
          "colorway": [
           "#636efa",
           "#EF553B",
           "#00cc96",
           "#ab63fa",
           "#FFA15A",
           "#19d3f3",
           "#FF6692",
           "#B6E880",
           "#FF97FF",
           "#FECB52"
          ],
          "font": {
           "color": "#2a3f5f"
          },
          "geo": {
           "bgcolor": "white",
           "lakecolor": "white",
           "landcolor": "#E5ECF6",
           "showlakes": true,
           "showland": true,
           "subunitcolor": "white"
          },
          "hoverlabel": {
           "align": "left"
          },
          "hovermode": "closest",
          "mapbox": {
           "style": "light"
          },
          "paper_bgcolor": "white",
          "plot_bgcolor": "#E5ECF6",
          "polar": {
           "angularaxis": {
            "gridcolor": "white",
            "linecolor": "white",
            "ticks": ""
           },
           "bgcolor": "#E5ECF6",
           "radialaxis": {
            "gridcolor": "white",
            "linecolor": "white",
            "ticks": ""
           }
          },
          "scene": {
           "xaxis": {
            "backgroundcolor": "#E5ECF6",
            "gridcolor": "white",
            "gridwidth": 2,
            "linecolor": "white",
            "showbackground": true,
            "ticks": "",
            "zerolinecolor": "white"
           },
           "yaxis": {
            "backgroundcolor": "#E5ECF6",
            "gridcolor": "white",
            "gridwidth": 2,
            "linecolor": "white",
            "showbackground": true,
            "ticks": "",
            "zerolinecolor": "white"
           },
           "zaxis": {
            "backgroundcolor": "#E5ECF6",
            "gridcolor": "white",
            "gridwidth": 2,
            "linecolor": "white",
            "showbackground": true,
            "ticks": "",
            "zerolinecolor": "white"
           }
          },
          "shapedefaults": {
           "line": {
            "color": "#2a3f5f"
           }
          },
          "ternary": {
           "aaxis": {
            "gridcolor": "white",
            "linecolor": "white",
            "ticks": ""
           },
           "baxis": {
            "gridcolor": "white",
            "linecolor": "white",
            "ticks": ""
           },
           "bgcolor": "#E5ECF6",
           "caxis": {
            "gridcolor": "white",
            "linecolor": "white",
            "ticks": ""
           }
          },
          "title": {
           "x": 0.05
          },
          "xaxis": {
           "automargin": true,
           "gridcolor": "white",
           "linecolor": "white",
           "ticks": "",
           "title": {
            "standoff": 15
           },
           "zerolinecolor": "white",
           "zerolinewidth": 2
          },
          "yaxis": {
           "automargin": true,
           "gridcolor": "white",
           "linecolor": "white",
           "ticks": "",
           "title": {
            "standoff": 15
           },
           "zerolinecolor": "white",
           "zerolinewidth": 2
          }
         }
        },
        "xaxis": {
         "autorange": true,
         "range": [
          0.9137931034482758,
          21.086206896551722
         ],
         "type": "linear"
        },
        "yaxis": {
         "autorange": true,
         "range": [
          0.041741185487991814,
          0.9385219724067451
         ],
         "type": "linear"
        }
       }
      },
      "image/png": "[encoded data removed]",
      "text/html": [
       "<div>                            <div id=\"503c7dbf-c3f9-4a9c-a658-9319f4104403\" class=\"plotly-graph-div\" style=\"height:525px; width:100%;\"></div>            <script type=\"text/javascript\">                require([\"plotly\"], function(Plotly) {                    window.PLOTLYENV=window.PLOTLYENV || {};                                    if (document.getElementById(\"503c7dbf-c3f9-4a9c-a658-9319f4104403\")) {                    Plotly.newPlot(                        \"503c7dbf-c3f9-4a9c-a658-9319f4104403\",                        [{\"connectgaps\":true,\"mode\":\"lines+markers\",\"name\":\"Random forest\",\"x\":[2,3,4,5,6,7,8,9,10,11,12,13,14,15,16,17,18,19,20],\"y\":[0.375,0.3333333333333333,0.5,0.2631578947368421,0.34782608695652173,0.48148148148148145,0.6129032258064516,0.2857142857142857,0.5,0.5,0.43478260869565216,0.48,0.5370370370370371,0.45614035087719296,0.4098360655737705,0.38461538461538464,0.5362318840579711,0.3835616438356164,0.42105263157894735],\"type\":\"scatter\"},{\"connectgaps\":true,\"mode\":\"lines+markers\",\"name\":\"KNN\",\"x\":[2,3,4,5,6,7,8,9,10,11,12,13,14,15,16,17,18,19,20],\"y\":[0.125,0.5,0.3125,0.2631578947368421,0.391304347826087,0.4444444444444444,0.3548387096774194,0.3142857142857143,0.42105263157894735,0.42857142857142855,0.2608695652173913,0.34,0.2962962962962963,0.40350877192982454,0.47540983606557374,0.35384615384615387,0.42028985507246375,0.4246575342465753,0.35526315789473684],\"type\":\"scatter\"},{\"connectgaps\":true,\"mode\":\"lines+markers\",\"name\":\"SVC_linear\",\"x\":[2,3,4,5,6,7,8,9,10,11,12,13,14,15,16,17,18,19,20],\"y\":[0.875,0.75,0.5,0.631578947368421,0.4782608695652174,0.4444444444444444,0.5483870967741935,0.6,0.4473684210526316,0.42857142857142855,0.2826086956521739,0.34,0.3888888888888889,0.3684210526315789,0.3114754098360656,0.36923076923076925,0.36231884057971014,0.2876712328767123,0.3026315789473684],\"type\":\"scatter\"},{\"connectgaps\":true,\"mode\":\"lines+markers\",\"name\":\"SVC_svm\",\"x\":[2,3,4,5,6,7,8,9,10,11,12,13,14,15,16,17,18,19,20],\"y\":[0.125,0.16666666666666666,0.4375,0.10526315789473684,0.17391304347826086,0.25925925925925924,0.3225806451612903,0.2571428571428571,0.3157894736842105,0.30952380952380953,0.34782608695652173,0.34,0.3333333333333333,0.3333333333333333,0.3114754098360656,0.23076923076923078,0.3188405797101449,0.2054794520547945,0.2236842105263158],\"type\":\"scatter\"},{\"connectgaps\":true,\"mode\":\"lines+markers\",\"name\":\"Na\\u00efve Bayes(Gaussian)\",\"x\":[2,3,4,5,6,7,8,9,10,11,12,13,14,15,16,17,18,19,20],\"y\":[0.375,0.3333333333333333,0.5,0.2631578947368421,0.2608695652173913,0.25925925925925924,0.3225806451612903,0.2,0.2631578947368421,0.23809523809523808,0.32608695652173914,0.28,0.2962962962962963,0.2982456140350877,0.29508196721311475,0.16923076923076924,0.2463768115942029,0.1643835616438356,0.2894736842105263],\"type\":\"scatter\"},{\"connectgaps\":true,\"mode\":\"lines+markers\",\"name\":\"AdaBoostClassifier\",\"x\":[2,3,4,5,6,7,8,9,10,11,12,13,14,15,16,17,18,19,20],\"y\":[0.25,0.3333333333333333,0.5,0.3684210526315789,0.43478260869565216,0.4444444444444444,0.4838709677419355,0.4,0.23684210526315788,0.40476190476190477,0.43478260869565216,0.38,0.3888888888888889,0.38596491228070173,0.26229508196721313,0.4,0.391304347826087,0.3424657534246575,0.3684210526315789],\"type\":\"scatter\"},{\"connectgaps\":true,\"mode\":\"lines+markers\",\"name\":\"MLP Classifier\",\"x\":[2,3,4,5,6,7,8,9,10,11,12,13,14,15,16,17,18,19,20],\"y\":[0.875,0.5833333333333334,0.5,0.47368421052631576,0.34782608695652173,0.48148148148148145,0.5806451612903226,0.5714285714285714,0.6578947368421053,0.5952380952380952,0.5,0.54,0.46296296296296297,0.5087719298245614,0.39344262295081966,0.47692307692307695,0.4782608695652174,0.3835616438356164,0.3815789473684211],\"type\":\"scatter\"}],                        {\"template\":{\"data\":{\"histogram2dcontour\":[{\"type\":\"histogram2dcontour\",\"colorbar\":{\"outlinewidth\":0,\"ticks\":\"\"},\"colorscale\":[[0.0,\"#0d0887\"],[0.1111111111111111,\"#46039f\"],[0.2222222222222222,\"#7201a8\"],[0.3333333333333333,\"#9c179e\"],[0.4444444444444444,\"#bd3786\"],[0.5555555555555556,\"#d8576b\"],[0.6666666666666666,\"#ed7953\"],[0.7777777777777778,\"#fb9f3a\"],[0.8888888888888888,\"#fdca26\"],[1.0,\"#f0f921\"]]}],\"choropleth\":[{\"type\":\"choropleth\",\"colorbar\":{\"outlinewidth\":0,\"ticks\":\"\"}}],\"histogram2d\":[{\"type\":\"histogram2d\",\"colorbar\":{\"outlinewidth\":0,\"ticks\":\"\"},\"colorscale\":[[0.0,\"#0d0887\"],[0.1111111111111111,\"#46039f\"],[0.2222222222222222,\"#7201a8\"],[0.3333333333333333,\"#9c179e\"],[0.4444444444444444,\"#bd3786\"],[0.5555555555555556,\"#d8576b\"],[0.6666666666666666,\"#ed7953\"],[0.7777777777777778,\"#fb9f3a\"],[0.8888888888888888,\"#fdca26\"],[1.0,\"#f0f921\"]]}],\"heatmap\":[{\"type\":\"heatmap\",\"colorbar\":{\"outlinewidth\":0,\"ticks\":\"\"},\"colorscale\":[[0.0,\"#0d0887\"],[0.1111111111111111,\"#46039f\"],[0.2222222222222222,\"#7201a8\"],[0.3333333333333333,\"#9c179e\"],[0.4444444444444444,\"#bd3786\"],[0.5555555555555556,\"#d8576b\"],[0.6666666666666666,\"#ed7953\"],[0.7777777777777778,\"#fb9f3a\"],[0.8888888888888888,\"#fdca26\"],[1.0,\"#f0f921\"]]}],\"heatmapgl\":[{\"type\":\"heatmapgl\",\"colorbar\":{\"outlinewidth\":0,\"ticks\":\"\"},\"colorscale\":[[0.0,\"#0d0887\"],[0.1111111111111111,\"#46039f\"],[0.2222222222222222,\"#7201a8\"],[0.3333333333333333,\"#9c179e\"],[0.4444444444444444,\"#bd3786\"],[0.5555555555555556,\"#d8576b\"],[0.6666666666666666,\"#ed7953\"],[0.7777777777777778,\"#fb9f3a\"],[0.8888888888888888,\"#fdca26\"],[1.0,\"#f0f921\"]]}],\"contourcarpet\":[{\"type\":\"contourcarpet\",\"colorbar\":{\"outlinewidth\":0,\"ticks\":\"\"}}],\"contour\":[{\"type\":\"contour\",\"colorbar\":{\"outlinewidth\":0,\"ticks\":\"\"},\"colorscale\":[[0.0,\"#0d0887\"],[0.1111111111111111,\"#46039f\"],[0.2222222222222222,\"#7201a8\"],[0.3333333333333333,\"#9c179e\"],[0.4444444444444444,\"#bd3786\"],[0.5555555555555556,\"#d8576b\"],[0.6666666666666666,\"#ed7953\"],[0.7777777777777778,\"#fb9f3a\"],[0.8888888888888888,\"#fdca26\"],[1.0,\"#f0f921\"]]}],\"surface\":[{\"type\":\"surface\",\"colorbar\":{\"outlinewidth\":0,\"ticks\":\"\"},\"colorscale\":[[0.0,\"#0d0887\"],[0.1111111111111111,\"#46039f\"],[0.2222222222222222,\"#7201a8\"],[0.3333333333333333,\"#9c179e\"],[0.4444444444444444,\"#bd3786\"],[0.5555555555555556,\"#d8576b\"],[0.6666666666666666,\"#ed7953\"],[0.7777777777777778,\"#fb9f3a\"],[0.8888888888888888,\"#fdca26\"],[1.0,\"#f0f921\"]]}],\"mesh3d\":[{\"type\":\"mesh3d\",\"colorbar\":{\"outlinewidth\":0,\"ticks\":\"\"}}],\"scatter\":[{\"fillpattern\":{\"fillmode\":\"overlay\",\"size\":10,\"solidity\":0.2},\"type\":\"scatter\"}],\"parcoords\":[{\"type\":\"parcoords\",\"line\":{\"colorbar\":{\"outlinewidth\":0,\"ticks\":\"\"}}}],\"scatterpolargl\":[{\"type\":\"scatterpolargl\",\"marker\":{\"colorbar\":{\"outlinewidth\":0,\"ticks\":\"\"}}}],\"bar\":[{\"error_x\":{\"color\":\"#2a3f5f\"},\"error_y\":{\"color\":\"#2a3f5f\"},\"marker\":{\"line\":{\"color\":\"#E5ECF6\",\"width\":0.5},\"pattern\":{\"fillmode\":\"overlay\",\"size\":10,\"solidity\":0.2}},\"type\":\"bar\"}],\"scattergeo\":[{\"type\":\"scattergeo\",\"marker\":{\"colorbar\":{\"outlinewidth\":0,\"ticks\":\"\"}}}],\"scatterpolar\":[{\"type\":\"scatterpolar\",\"marker\":{\"colorbar\":{\"outlinewidth\":0,\"ticks\":\"\"}}}],\"histogram\":[{\"marker\":{\"pattern\":{\"fillmode\":\"overlay\",\"size\":10,\"solidity\":0.2}},\"type\":\"histogram\"}],\"scattergl\":[{\"type\":\"scattergl\",\"marker\":{\"colorbar\":{\"outlinewidth\":0,\"ticks\":\"\"}}}],\"scatter3d\":[{\"type\":\"scatter3d\",\"line\":{\"colorbar\":{\"outlinewidth\":0,\"ticks\":\"\"}},\"marker\":{\"colorbar\":{\"outlinewidth\":0,\"ticks\":\"\"}}}],\"scattermapbox\":[{\"type\":\"scattermapbox\",\"marker\":{\"colorbar\":{\"outlinewidth\":0,\"ticks\":\"\"}}}],\"scatterternary\":[{\"type\":\"scatterternary\",\"marker\":{\"colorbar\":{\"outlinewidth\":0,\"ticks\":\"\"}}}],\"scattercarpet\":[{\"type\":\"scattercarpet\",\"marker\":{\"colorbar\":{\"outlinewidth\":0,\"ticks\":\"\"}}}],\"carpet\":[{\"aaxis\":{\"endlinecolor\":\"#2a3f5f\",\"gridcolor\":\"white\",\"linecolor\":\"white\",\"minorgridcolor\":\"white\",\"startlinecolor\":\"#2a3f5f\"},\"baxis\":{\"endlinecolor\":\"#2a3f5f\",\"gridcolor\":\"white\",\"linecolor\":\"white\",\"minorgridcolor\":\"white\",\"startlinecolor\":\"#2a3f5f\"},\"type\":\"carpet\"}],\"table\":[{\"cells\":{\"fill\":{\"color\":\"#EBF0F8\"},\"line\":{\"color\":\"white\"}},\"header\":{\"fill\":{\"color\":\"#C8D4E3\"},\"line\":{\"color\":\"white\"}},\"type\":\"table\"}],\"barpolar\":[{\"marker\":{\"line\":{\"color\":\"#E5ECF6\",\"width\":0.5},\"pattern\":{\"fillmode\":\"overlay\",\"size\":10,\"solidity\":0.2}},\"type\":\"barpolar\"}],\"pie\":[{\"automargin\":true,\"type\":\"pie\"}]},\"layout\":{\"autotypenumbers\":\"strict\",\"colorway\":[\"#636efa\",\"#EF553B\",\"#00cc96\",\"#ab63fa\",\"#FFA15A\",\"#19d3f3\",\"#FF6692\",\"#B6E880\",\"#FF97FF\",\"#FECB52\"],\"font\":{\"color\":\"#2a3f5f\"},\"hovermode\":\"closest\",\"hoverlabel\":{\"align\":\"left\"},\"paper_bgcolor\":\"white\",\"plot_bgcolor\":\"#E5ECF6\",\"polar\":{\"bgcolor\":\"#E5ECF6\",\"angularaxis\":{\"gridcolor\":\"white\",\"linecolor\":\"white\",\"ticks\":\"\"},\"radialaxis\":{\"gridcolor\":\"white\",\"linecolor\":\"white\",\"ticks\":\"\"}},\"ternary\":{\"bgcolor\":\"#E5ECF6\",\"aaxis\":{\"gridcolor\":\"white\",\"linecolor\":\"white\",\"ticks\":\"\"},\"baxis\":{\"gridcolor\":\"white\",\"linecolor\":\"white\",\"ticks\":\"\"},\"caxis\":{\"gridcolor\":\"white\",\"linecolor\":\"white\",\"ticks\":\"\"}},\"coloraxis\":{\"colorbar\":{\"outlinewidth\":0,\"ticks\":\"\"}},\"colorscale\":{\"sequential\":[[0.0,\"#0d0887\"],[0.1111111111111111,\"#46039f\"],[0.2222222222222222,\"#7201a8\"],[0.3333333333333333,\"#9c179e\"],[0.4444444444444444,\"#bd3786\"],[0.5555555555555556,\"#d8576b\"],[0.6666666666666666,\"#ed7953\"],[0.7777777777777778,\"#fb9f3a\"],[0.8888888888888888,\"#fdca26\"],[1.0,\"#f0f921\"]],\"sequentialminus\":[[0.0,\"#0d0887\"],[0.1111111111111111,\"#46039f\"],[0.2222222222222222,\"#7201a8\"],[0.3333333333333333,\"#9c179e\"],[0.4444444444444444,\"#bd3786\"],[0.5555555555555556,\"#d8576b\"],[0.6666666666666666,\"#ed7953\"],[0.7777777777777778,\"#fb9f3a\"],[0.8888888888888888,\"#fdca26\"],[1.0,\"#f0f921\"]],\"diverging\":[[0,\"#8e0152\"],[0.1,\"#c51b7d\"],[0.2,\"#de77ae\"],[0.3,\"#f1b6da\"],[0.4,\"#fde0ef\"],[0.5,\"#f7f7f7\"],[0.6,\"#e6f5d0\"],[0.7,\"#b8e186\"],[0.8,\"#7fbc41\"],[0.9,\"#4d9221\"],[1,\"#276419\"]]},\"xaxis\":{\"gridcolor\":\"white\",\"linecolor\":\"white\",\"ticks\":\"\",\"title\":{\"standoff\":15},\"zerolinecolor\":\"white\",\"automargin\":true,\"zerolinewidth\":2},\"yaxis\":{\"gridcolor\":\"white\",\"linecolor\":\"white\",\"ticks\":\"\",\"title\":{\"standoff\":15},\"zerolinecolor\":\"white\",\"automargin\":true,\"zerolinewidth\":2},\"scene\":{\"xaxis\":{\"backgroundcolor\":\"#E5ECF6\",\"gridcolor\":\"white\",\"linecolor\":\"white\",\"showbackground\":true,\"ticks\":\"\",\"zerolinecolor\":\"white\",\"gridwidth\":2},\"yaxis\":{\"backgroundcolor\":\"#E5ECF6\",\"gridcolor\":\"white\",\"linecolor\":\"white\",\"showbackground\":true,\"ticks\":\"\",\"zerolinecolor\":\"white\",\"gridwidth\":2},\"zaxis\":{\"backgroundcolor\":\"#E5ECF6\",\"gridcolor\":\"white\",\"linecolor\":\"white\",\"showbackground\":true,\"ticks\":\"\",\"zerolinecolor\":\"white\",\"gridwidth\":2}},\"shapedefaults\":{\"line\":{\"color\":\"#2a3f5f\"}},\"annotationdefaults\":{\"arrowcolor\":\"#2a3f5f\",\"arrowhead\":0,\"arrowwidth\":1},\"geo\":{\"bgcolor\":\"white\",\"landcolor\":\"#E5ECF6\",\"subunitcolor\":\"white\",\"showland\":true,\"showlakes\":true,\"lakecolor\":\"white\"},\"title\":{\"x\":0.05},\"mapbox\":{\"style\":\"light\"}}}},                        {\"responsive\": true}                    ).then(function(){\n",
       "                            \n",
       "var gd = document.getElementById('503c7dbf-c3f9-4a9c-a658-9319f4104403');\n",
       "var x = new MutationObserver(function (mutations, observer) {{\n",
       "        var display = window.getComputedStyle(gd).display;\n",
       "        if (!display || display === 'none') {{\n",
       "            console.log([gd, 'removed!']);\n",
       "            Plotly.purge(gd);\n",
       "            observer.disconnect();\n",
       "        }}\n",
       "}});\n",
       "\n",
       "// Listen for the removal of the full notebook cells\n",
       "var notebookContainer = gd.closest('#notebook-container');\n",
       "if (notebookContainer) {{\n",
       "    x.observe(notebookContainer, {childList: true});\n",
       "}}\n",
       "\n",
       "// Listen for the clearing of the current output cell\n",
       "var outputEl = gd.closest('.output');\n",
       "if (outputEl) {{\n",
       "    x.observe(outputEl, {childList: true});\n",
       "}}\n",
       "\n",
       "                        })                };                });            </script>        </div>"
      ]
     },
     "metadata": {},
     "output_type": "display_data"
    }
   ],
   "source": [
    "fig = go.Figure()\n",
    "\n",
    "for i in range(0, 7):\n",
    "    fig.add_trace(go.Scatter(x=x_data[i], y=y_data[i], mode='lines+markers',\n",
    "        name=labels[i],\n",
    "        connectgaps=True,\n",
    "    ))\n",
    "fig.show()\n"
   ]
  },
  {
   "cell_type": "code",
   "execution_count": null,
   "id": "31e21889-6e2d-4a80-9bca-0f4104028518",
   "metadata": {},
   "outputs": [],
   "source": []
  },
  {
   "cell_type": "code",
   "execution_count": null,
   "id": "60ecaee7-7444-4765-bf25-724f03afc29e",
   "metadata": {},
   "outputs": [],
   "source": []
  },
  {
   "cell_type": "code",
   "execution_count": null,
   "id": "ebbab6f3-67f2-4ce4-914a-382c779bfbe0",
   "metadata": {},
   "outputs": [],
   "source": []
  }
 ],
 "metadata": {
  "kernelspec": {
   "display_name": "Python 3 (ipykernel)",
   "language": "python",
   "name": "python3"
  },
  "language_info": {
   "codemirror_mode": {
    "name": "ipython",
    "version": 3
   },
   "file_extension": ".py",
   "mimetype": "text/x-python",
   "name": "python",
   "nbconvert_exporter": "python",
   "pygments_lexer": "ipython3",
   "version": "3.9.13"
  }
 },
 "nbformat": 4,
 "nbformat_minor": 5
}
