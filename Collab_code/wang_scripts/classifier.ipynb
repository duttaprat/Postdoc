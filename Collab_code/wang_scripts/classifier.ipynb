{
 "cells": [
  {
   "cell_type": "code",
   "execution_count": 1,
   "id": "8711dab5-18a6-443d-82f9-b8aa048126a4",
   "metadata": {},
   "outputs": [],
   "source": [
    "import torch\n",
    "import torch.nn as nn\n",
    "import torch\n",
    "from torch.autograd import Variable\n",
    "from torch.nn import Linear, ReLU, CrossEntropyLoss, Sequential, Conv2d, MaxPool2d, Module, Softmax, BatchNorm2d, Dropout\n",
    "from torch.optim import Adam, SGD\n",
    "import matplotlib.pyplot as plt\n",
    "from sklearn.metrics import accuracy_score"
   ]
  },
  {
   "cell_type": "code",
   "execution_count": 2,
   "id": "c9c2edf8-63b5-4830-9158-4ee459b47655",
   "metadata": {},
   "outputs": [],
   "source": [
    "import pandas as pd\n",
    "import numpy as np\n",
    "import plotly.graph_objects as go"
   ]
  },
  {
   "cell_type": "code",
   "execution_count": 3,
   "id": "eb33892f-5849-4fd3-8630-dfe4eb45ddf4",
   "metadata": {},
   "outputs": [],
   "source": [
    "from sklearn.model_selection import train_test_split\n",
    "from sklearn.metrics import confusion_matrix, classification_report"
   ]
  },
  {
   "cell_type": "code",
   "execution_count": 4,
   "id": "08bf873d-7f10-4913-bc3f-6231d9fa64bb",
   "metadata": {},
   "outputs": [],
   "source": [
    "df = pd.read_excel(\"/data/private/pdutta/Wang_collaborator/Survival_vs_death_first_day.xlsx\")\n",
    "df_mean = df.groupby('MouseNo').mean()"
   ]
  },
  {
   "cell_type": "code",
   "execution_count": 5,
   "id": "9def898a-b157-4e35-8176-e7d3778ee750",
   "metadata": {},
   "outputs": [
    {
     "data": {
      "text/plain": [
       "Index(['Severity', 'Death_0 /Survival_1', 'CD4', 'CD8a', 'CD25', 'IFN-γ',\n",
       "       'GM-CSF', 'IL-4', 'IL-5', 'IL-6', 'CD18', 'CD28', 'CD62L', 'CD279',\n",
       "       'IL-1β', 'IL-2', 'IL-9', 'IL-10', 'TNF-α', 'CD69', 'IL-12', 'IL-17A',\n",
       "       'Perforin', 'CD32', 'CD191', 'CD193', 'VEGF', 'CD11b', 'CD14', 'CD55',\n",
       "       'CD183', 'CD284', 'TGF-β', 'CD66a', 'CD184', 'CD185', 'CD194', 'CD196',\n",
       "       'Granzyme B', 'CCL4', 'CD15', 'CD182', 'CD197', 'IL-21', 'HLA-DR',\n",
       "       'CD181', 'β-Actin', 'IL-22'],\n",
       "      dtype='object')"
      ]
     },
     "execution_count": 5,
     "metadata": {},
     "output_type": "execute_result"
    }
   ],
   "source": [
    "df_mean.columns"
   ]
  },
  {
   "cell_type": "code",
   "execution_count": 6,
   "id": "44f8580a-928f-4b36-b960-39b3afdf4462",
   "metadata": {},
   "outputs": [
    {
     "name": "stdout",
     "output_type": "stream",
     "text": [
      "(724, 46)\n",
      "(724, 46)\n",
      "(724, 46)\n",
      "(724, 46)\n",
      "(724, 46)\n",
      "(724, 46)\n",
      "(724, 46)\n",
      "(724, 46)\n",
      "(724, 46)\n",
      "(724, 46)\n",
      "(724, 46)\n",
      "(724, 46)\n",
      "(724, 46)\n",
      "(724, 46)\n",
      "(724, 46)\n",
      "(724, 46)\n",
      "(724, 46)\n",
      "(724, 46)\n",
      "(724, 46)\n",
      "19\n",
      "[1. 1. 1. 1. 3. 3. 3. 3. 3. 2. 2. 2. 2. 2. 4. 4. 4. 4. 4.] <class 'numpy.ndarray'>\n"
     ]
    }
   ],
   "source": [
    "X_train = []\n",
    "Y_train =[]\n",
    "grouped_df =  df.groupby(['MouseNo'])\n",
    "for key, item in grouped_df:\n",
    "    temp_df = grouped_df.get_group(key).reset_index(drop=True).iloc[:,3:].to_numpy()\n",
    "    #print(temp_df.shape)\n",
    "    pad_length =  724 - temp_df.shape[0]\n",
    "    temp_df = np.pad(temp_df, pad_width=((0, pad_length), (0, 0)))\n",
    "    print(temp_df.shape)\n",
    "    X_train.append(temp_df)\n",
    "    Y_train.append(grouped_df.get_group(key).reset_index(drop=True).iloc[0]['Severity'])\n",
    "print(len(X_train))\n",
    "X_train = np.array(X_train)\n",
    "Y_train = np.array(Y_train)\n",
    "# defining the target\n",
    "print(Y_train, type(Y_train))"
   ]
  },
  {
   "cell_type": "code",
   "execution_count": 7,
   "id": "ad43d23b-ba28-4ac3-85ce-da7409a23ab0",
   "metadata": {},
   "outputs": [
    {
     "data": {
      "text/plain": [
       "(19,)"
      ]
     },
     "execution_count": 7,
     "metadata": {},
     "output_type": "execute_result"
    }
   ],
   "source": [
    "Y_train.shape"
   ]
  },
  {
   "cell_type": "code",
   "execution_count": 8,
   "id": "fce8a414-f955-4053-86b9-7f46c7e93529",
   "metadata": {},
   "outputs": [
    {
     "name": "stdout",
     "output_type": "stream",
     "text": [
      "(17, 724, 46) (2, 724, 46)\n"
     ]
    }
   ],
   "source": [
    "X_train, X_val, Y_train, Y_val = train_test_split(X_train, Y_train, test_size = 0.1)\n",
    "print(X_train.shape, X_val.shape)"
   ]
  },
  {
   "cell_type": "code",
   "execution_count": 9,
   "id": "e1e2daf2-a6f6-4b27-868c-65c88bf8a27f",
   "metadata": {},
   "outputs": [
    {
     "name": "stdout",
     "output_type": "stream",
     "text": [
      "torch.Size([17, 1, 724, 46]) torch.Size([17])\n"
     ]
    }
   ],
   "source": [
    "X_train = X_train.reshape(17, 1, 724, 46)\n",
    "X_train  = torch.from_numpy(X_train)\n",
    "\n",
    "# converting the target into torch format\n",
    "Y_train = Y_train.astype(int)\n",
    "Y_train = torch.from_numpy(Y_train)\n",
    "\n",
    "# shape of training data\n",
    "print(X_train.shape, Y_train.shape)"
   ]
  },
  {
   "cell_type": "code",
   "execution_count": 10,
   "id": "a837db93-d6be-4eee-aff8-4675f262779a",
   "metadata": {},
   "outputs": [
    {
     "name": "stdout",
     "output_type": "stream",
     "text": [
      "torch.Size([2, 1, 724, 46]) torch.Size([2])\n"
     ]
    }
   ],
   "source": [
    "# converting validation images into torch format\n",
    "X_val = X_val.reshape(2, 1, 724, 46)\n",
    "X_val  = torch.from_numpy(X_val)\n",
    "\n",
    "# converting the target into torch format\n",
    "Y_val = Y_val.astype(int);\n",
    "Y_val = torch.from_numpy(Y_val)\n",
    "\n",
    "# shape of validation data\n",
    "print(X_val.shape, Y_val.shape)"
   ]
  },
  {
   "cell_type": "code",
   "execution_count": 11,
   "id": "57c6215e-f2ad-46b9-b6d9-4ce6369fc064",
   "metadata": {},
   "outputs": [],
   "source": [
    "class ConvNet(nn.Module):\n",
    "\n",
    "    def __init__(self):\n",
    "        super(Net, self).__init__()\n",
    "        # 1 input image channel, 6 output channels, 5x5 square convolution\n",
    "        # kernel\n",
    "        self.conv1 = nn.Conv2d(1, 6, 5)\n",
    "        self.conv2 = nn.Conv2d(6, 16, 5)\n",
    "        # an affine operation: y = Wx + b\n",
    "        self.fc1 = nn.Linear(16 * 5 * 5, 120)  # 5*5 from image dimension\n",
    "        self.fc2 = nn.Linear(120, 84)\n",
    "        self.fc3 = nn.Linear(84, 10)\n",
    "\n",
    "    def forward(self, x):\n",
    "        # Max pooling over a (2, 2) window\n",
    "        x = F.max_pool2d(F.relu(self.conv1(x)), (2, 2))\n",
    "        # If the size is a square, you can specify with a single number\n",
    "        x = F.max_pool2d(F.relu(self.conv2(x)), 2)\n",
    "        x = torch.flatten(x, 1) # flatten all dimensions except the batch dimension\n",
    "        x = F.relu(self.fc1(x))\n",
    "        x = F.relu(self.fc2(x))\n",
    "        x = self.fc3(x)\n",
    "        return x"
   ]
  },
  {
   "cell_type": "code",
   "execution_count": 12,
   "id": "cac3205e-903a-4797-b3e7-fbc741da2cb3",
   "metadata": {},
   "outputs": [],
   "source": [
    "class ConvNet1(nn.Module):   \n",
    "    def __init__(self):\n",
    "        super(ConvNet1, self).__init__()\n",
    "\n",
    "        self.cnn_layers = Sequential(\n",
    "            # Defining a 2D convolution layer\n",
    "            Conv2d(1, 4, kernel_size=3, stride=1, padding=1),\n",
    "            BatchNorm2d(4),\n",
    "            ReLU(inplace=True),\n",
    "            MaxPool2d(kernel_size=2, stride=2),\n",
    "            # Defining another 2D convolution layer\n",
    "            Conv2d(4, 4, kernel_size=3, stride=1, padding=1),\n",
    "            BatchNorm2d(4),\n",
    "            ReLU(inplace=True),\n",
    "            MaxPool2d(kernel_size=2, stride=2),\n",
    "            Conv2d(4, 4, kernel_size=3, stride=1, padding=1),\n",
    "            BatchNorm2d(4),\n",
    "            ReLU(inplace=True),\n",
    "            MaxPool2d(kernel_size=2, stride=2),\n",
    "        )\n",
    "\n",
    "        self.linear_layers = Sequential(\n",
    "            Linear(4 * 90 * 5, 4)\n",
    "        )\n",
    "\n",
    "    # Defining the forward pass    \n",
    "    def forward(self, x):\n",
    "        #print(x.shape)\n",
    "        x = self.cnn_layers(x)\n",
    "        #print(x.shape)\n",
    "        x = x.view(x.size(0), -1)\n",
    "        #print(x.shape)\n",
    "        x = self.linear_layers(x)\n",
    "        #print(x.shape)\n",
    "        return x"
   ]
  },
  {
   "cell_type": "code",
   "execution_count": 13,
   "id": "9d57223d-5b51-4438-b4ac-55c5e42e6ed4",
   "metadata": {},
   "outputs": [
    {
     "name": "stdout",
     "output_type": "stream",
     "text": [
      "ConvNet1(\n",
      "  (cnn_layers): Sequential(\n",
      "    (0): Conv2d(1, 4, kernel_size=(3, 3), stride=(1, 1), padding=(1, 1))\n",
      "    (1): BatchNorm2d(4, eps=1e-05, momentum=0.1, affine=True, track_running_stats=True)\n",
      "    (2): ReLU(inplace=True)\n",
      "    (3): MaxPool2d(kernel_size=2, stride=2, padding=0, dilation=1, ceil_mode=False)\n",
      "    (4): Conv2d(4, 4, kernel_size=(3, 3), stride=(1, 1), padding=(1, 1))\n",
      "    (5): BatchNorm2d(4, eps=1e-05, momentum=0.1, affine=True, track_running_stats=True)\n",
      "    (6): ReLU(inplace=True)\n",
      "    (7): MaxPool2d(kernel_size=2, stride=2, padding=0, dilation=1, ceil_mode=False)\n",
      "    (8): Conv2d(4, 4, kernel_size=(3, 3), stride=(1, 1), padding=(1, 1))\n",
      "    (9): BatchNorm2d(4, eps=1e-05, momentum=0.1, affine=True, track_running_stats=True)\n",
      "    (10): ReLU(inplace=True)\n",
      "    (11): MaxPool2d(kernel_size=2, stride=2, padding=0, dilation=1, ceil_mode=False)\n",
      "  )\n",
      "  (linear_layers): Sequential(\n",
      "    (0): Linear(in_features=1800, out_features=4, bias=True)\n",
      "  )\n",
      ")\n"
     ]
    }
   ],
   "source": [
    "model = ConvNet1().double()\n",
    "# defining the optimizer\n",
    "optimizer = Adam(model.parameters(), lr=0.07)\n",
    "# defining the loss function\n",
    "criterion = CrossEntropyLoss()\n",
    "# checking if GPU is available\n",
    "if torch.cuda.is_available():\n",
    "    model = model.cuda()\n",
    "    criterion = criterion.cuda()\n",
    "    \n",
    "print(model)"
   ]
  },
  {
   "cell_type": "code",
   "execution_count": 14,
   "id": "4f5d263e-697f-4950-8bbf-e17fffd52f73",
   "metadata": {},
   "outputs": [],
   "source": [
    "def train(epoch):\n",
    "    model.train()\n",
    "    tr_loss = 0\n",
    "    # getting the training set\n",
    "    x_train, y_train = Variable(X_train), Variable(Y_train)\n",
    "    # print(y_train)\n",
    "    y_train = y_train - 1\n",
    "    # getting the validation set\n",
    "    x_val, y_val = Variable(X_val), Variable(Y_val)\n",
    "    # converting the data into GPU format\n",
    "    y_val = y_val - 1\n",
    "    if torch.cuda.is_available():\n",
    "        x_train = x_train.cuda()\n",
    "        y_train = y_train.cuda()\n",
    "        x_val = x_val.cuda()\n",
    "        y_val = y_val.cuda()\n",
    "\n",
    "    # clearing the Gradients of the model parameters\n",
    "    optimizer.zero_grad()\n",
    "    \n",
    "    # prediction for training and validation set\n",
    "    output_train = model(x_train)\n",
    "    output_val = model(x_val)\n",
    "\n",
    "    # computing the training and validation loss\n",
    "    loss_train = criterion(output_train, y_train)\n",
    "    loss_val = criterion(output_val, y_val)\n",
    "    train_losses.append(loss_train)\n",
    "    val_losses.append(loss_val)\n",
    "\n",
    "    # computing the updated weights of all the model parameters\n",
    "    loss_train.backward()\n",
    "    optimizer.step()\n",
    "    tr_loss = loss_train.item()\n",
    "    if epoch%2 == 0:\n",
    "        # printing the validation loss\n",
    "        print('Epoch : ',epoch+1, '\\t', 'loss :', loss_val)"
   ]
  },
  {
   "cell_type": "code",
   "execution_count": 15,
   "id": "2fa4c064-2cb2-4a92-991a-4048ac0f9678",
   "metadata": {},
   "outputs": [
    {
     "name": "stdout",
     "output_type": "stream",
     "text": [
      "Epoch :  1 \t loss : tensor(1.0432, device='cuda:0', dtype=torch.float64,\n",
      "       grad_fn=<NllLossBackward0>)\n",
      "Epoch :  3 \t loss : tensor(42.1569, device='cuda:0', dtype=torch.float64,\n",
      "       grad_fn=<NllLossBackward0>)\n",
      "Epoch :  5 \t loss : tensor(10.5938, device='cuda:0', dtype=torch.float64,\n",
      "       grad_fn=<NllLossBackward0>)\n",
      "Epoch :  7 \t loss : tensor(11.5198, device='cuda:0', dtype=torch.float64,\n",
      "       grad_fn=<NllLossBackward0>)\n",
      "Epoch :  9 \t loss : tensor(6.9367, device='cuda:0', dtype=torch.float64,\n",
      "       grad_fn=<NllLossBackward0>)\n",
      "Epoch :  11 \t loss : tensor(5.0515, device='cuda:0', dtype=torch.float64,\n",
      "       grad_fn=<NllLossBackward0>)\n",
      "Epoch :  13 \t loss : tensor(3.6408, device='cuda:0', dtype=torch.float64,\n",
      "       grad_fn=<NllLossBackward0>)\n",
      "Epoch :  15 \t loss : tensor(2.2904, device='cuda:0', dtype=torch.float64,\n",
      "       grad_fn=<NllLossBackward0>)\n",
      "Epoch :  17 \t loss : tensor(1.6099, device='cuda:0', dtype=torch.float64,\n",
      "       grad_fn=<NllLossBackward0>)\n",
      "Epoch :  19 \t loss : tensor(1.3378, device='cuda:0', dtype=torch.float64,\n",
      "       grad_fn=<NllLossBackward0>)\n",
      "Epoch :  21 \t loss : tensor(1.2689, device='cuda:0', dtype=torch.float64,\n",
      "       grad_fn=<NllLossBackward0>)\n",
      "Epoch :  23 \t loss : tensor(1.2918, device='cuda:0', dtype=torch.float64,\n",
      "       grad_fn=<NllLossBackward0>)\n",
      "Epoch :  25 \t loss : tensor(1.3083, device='cuda:0', dtype=torch.float64,\n",
      "       grad_fn=<NllLossBackward0>)\n",
      "Epoch :  27 \t loss : tensor(1.3112, device='cuda:0', dtype=torch.float64,\n",
      "       grad_fn=<NllLossBackward0>)\n",
      "Epoch :  29 \t loss : tensor(1.3794, device='cuda:0', dtype=torch.float64,\n",
      "       grad_fn=<NllLossBackward0>)\n",
      "Epoch :  31 \t loss : tensor(1.5709, device='cuda:0', dtype=torch.float64,\n",
      "       grad_fn=<NllLossBackward0>)\n",
      "Epoch :  33 \t loss : tensor(1.8580, device='cuda:0', dtype=torch.float64,\n",
      "       grad_fn=<NllLossBackward0>)\n",
      "Epoch :  35 \t loss : tensor(2.1147, device='cuda:0', dtype=torch.float64,\n",
      "       grad_fn=<NllLossBackward0>)\n",
      "Epoch :  37 \t loss : tensor(2.3217, device='cuda:0', dtype=torch.float64,\n",
      "       grad_fn=<NllLossBackward0>)\n",
      "Epoch :  39 \t loss : tensor(2.5187, device='cuda:0', dtype=torch.float64,\n",
      "       grad_fn=<NllLossBackward0>)\n",
      "Epoch :  41 \t loss : tensor(2.7022, device='cuda:0', dtype=torch.float64,\n",
      "       grad_fn=<NllLossBackward0>)\n",
      "Epoch :  43 \t loss : tensor(2.8707, device='cuda:0', dtype=torch.float64,\n",
      "       grad_fn=<NllLossBackward0>)\n",
      "Epoch :  45 \t loss : tensor(3.0138, device='cuda:0', dtype=torch.float64,\n",
      "       grad_fn=<NllLossBackward0>)\n",
      "Epoch :  47 \t loss : tensor(3.1309, device='cuda:0', dtype=torch.float64,\n",
      "       grad_fn=<NllLossBackward0>)\n",
      "Epoch :  49 \t loss : tensor(3.2391, device='cuda:0', dtype=torch.float64,\n",
      "       grad_fn=<NllLossBackward0>)\n"
     ]
    }
   ],
   "source": [
    "n_epochs = 50\n",
    "# empty list to store training losses\n",
    "train_losses = []\n",
    "# empty list to store validation losses\n",
    "val_losses = []\n",
    "# training the model\n",
    "for epoch in range(n_epochs):\n",
    "    train(epoch)"
   ]
  },
  {
   "cell_type": "code",
   "execution_count": 16,
   "id": "34f2f297-5089-4d1d-b57d-03162a62d233",
   "metadata": {},
   "outputs": [],
   "source": [
    "train_losses1 = [tensor.item() for tensor in train_losses]\n",
    "val_losses1 = [tensor.item() for tensor in val_losses]"
   ]
  },
  {
   "cell_type": "code",
   "execution_count": 17,
   "id": "c73c1be2-7d17-431a-9e2c-021a9c4232f5",
   "metadata": {},
   "outputs": [
    {
     "data": {
      "image/png": "[encoded data removed]",
      "text/plain": [
       "<Figure size 640x480 with 1 Axes>"
      ]
     },
     "metadata": {},
     "output_type": "display_data"
    }
   ],
   "source": [
    "plt.plot(train_losses1, label='Training loss')\n",
    "plt.plot(val_losses1, label='Validation loss')\n",
    "plt.legend()\n",
    "plt.show()"
   ]
  },
  {
   "cell_type": "code",
   "execution_count": 18,
   "id": "cc6a0059-9665-49f1-a39f-650b699de0df",
   "metadata": {},
   "outputs": [
    {
     "name": "stdout",
     "output_type": "stream",
     "text": [
      "[array([ 1.64306279,  0.49553452,  2.25727883, 22.15658687]), array([ 0.87844634,  1.58929225,  2.88823423, 11.3431499 ]), array([3.44554015, 1.12161356, 9.20954573, 1.23244263]), array([ 29.58943461, 394.52848588,  39.53103102,   2.05013864]), array([   5.54722789, 1780.61063075,  109.874921  ,    5.76742026]), array([0.98035989, 0.5269808 , 1.04767078, 3.25201298]), array([1.21233353, 0.48498224, 1.59138711, 3.14214888]), array([8.32725032, 0.82937924, 8.6008522 , 5.794541  ]), array([5.01802117e+13, 1.04951428e+07, 4.55787537e+00, 5.01201892e-02]), array([ 3.12162045,  3.01615879, 15.69406812, 59.73009143]), array([  3.54330225, 738.73405397,  35.67231921,   2.29705978]), array([0.85141132, 0.63956031, 5.95918772, 4.37555646]), array([  2.40271078,  19.83337585, 121.47124661,   2.02708166]), array([1.43390691e+06, 5.72526706e+07, 1.19475750e+02, 5.01399963e-01]), array([3.14869980e+02, 5.93695288e+02, 9.58325042e+03, 3.11928763e+00]), array([1.93821091e+07, 2.03975657e+00, 1.69687454e+01, 2.85635837e-01]), array([ 32.43303913,  10.2759088 , 443.84303545,   3.02719637])]\n",
      "XX\n",
      "[3 3 2 1 1 3 3 2 0 3 1 2 2 1 2 0 2]\n"
     ]
    },
    {
     "data": {
      "text/plain": [
       "0.0"
      ]
     },
     "execution_count": 18,
     "metadata": {},
     "output_type": "execute_result"
    }
   ],
   "source": [
    "with torch.no_grad():\n",
    "    output = model(X_train.cuda())\n",
    "    \n",
    "softmax = torch.exp(output).cpu()\n",
    "prob = list(softmax.numpy())\n",
    "print(prob)\n",
    "predictions = np.argmax(prob, axis=1)\n",
    "print(\"XX\")\n",
    "print(predictions)\n",
    "\n",
    "# accuracy on training set\n",
    "accuracy_score(Y_train, predictions)"
   ]
  },
  {
   "cell_type": "code",
   "execution_count": null,
   "id": "32f5dbbb-4dfb-4506-8975-010c8bef69a8",
   "metadata": {},
   "outputs": [],
   "source": []
  },
  {
   "cell_type": "code",
   "execution_count": null,
   "id": "f2158058-ce1f-4020-b4ef-7b41ffab6953",
   "metadata": {},
   "outputs": [],
   "source": []
  }
 ],
 "metadata": {
  "kernelspec": {
   "display_name": "Python 3 (ipykernel)",
   "language": "python",
   "name": "python3"
  },
  "language_info": {
   "codemirror_mode": {
    "name": "ipython",
    "version": 3
   },
   "file_extension": ".py",
   "mimetype": "text/x-python",
   "name": "python",
   "nbconvert_exporter": "python",
   "pygments_lexer": "ipython3",
   "version": "3.9.13"
  }
 },
 "nbformat": 4,
 "nbformat_minor": 5
}
