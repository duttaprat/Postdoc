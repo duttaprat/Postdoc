{
 "cells": [
  {
   "cell_type": "code",
   "execution_count": 1,
   "id": "8711dab5-18a6-443d-82f9-b8aa048126a4",
   "metadata": {},
   "outputs": [],
   "source": [
    "from sklearn.cluster import KMeans\n",
    "from sklearn.ensemble import RandomForestClassifier\n",
    "from sklearn.model_selection import train_test_split\n",
    "from sklearn import metrics\n",
    "from sklearn.metrics import confusion_matrix, classification_report\n",
    "import seaborn as sns"
   ]
  },
  {
   "cell_type": "code",
   "execution_count": 2,
   "id": "dc06a98a-25ad-4d63-b543-aa461b0054f2",
   "metadata": {},
   "outputs": [],
   "source": [
    "from sklearn.decomposition import PCA\n",
    "from sklearn.linear_model import LogisticRegression\n",
    "from sklearn.neighbors import KNeighborsClassifier\n",
    "from sklearn.svm import SVC\n",
    "from sklearn.naive_bayes import GaussianNB\n",
    "from sklearn.ensemble import AdaBoostClassifier\n",
    "from sklearn.discriminant_analysis import QuadraticDiscriminantAnalysis\n",
    "from sklearn.neural_network import MLPClassifier"
   ]
  },
  {
   "cell_type": "code",
   "execution_count": 3,
   "id": "c9c2edf8-63b5-4830-9158-4ee459b47655",
   "metadata": {},
   "outputs": [],
   "source": [
    "import pandas as pd\n",
    "import numpy as np\n",
    "import plotly.graph_objects as go\n",
    "import pickle\n",
    "from sklearn.preprocessing import StandardScaler\n",
    "import matplotlib.pyplot as plt"
   ]
  },
  {
   "cell_type": "code",
   "execution_count": 4,
   "id": "eb33892f-5849-4fd3-8630-dfe4eb45ddf4",
   "metadata": {},
   "outputs": [],
   "source": [
    "output_file_path = \"/data/private/pdutta/Wang_collaborator/PCA_result\""
   ]
  },
  {
   "cell_type": "code",
   "execution_count": 6,
   "id": "08bf873d-7f10-4913-bc3f-6231d9fa64bb",
   "metadata": {},
   "outputs": [
    {
     "data": {
      "text/plain": [
       "(10788, 49)"
      ]
     },
     "execution_count": 6,
     "metadata": {},
     "output_type": "execute_result"
    }
   ],
   "source": [
    "df = pd.read_excel(\"/data/private/pdutta/Collab_data/Wang_collaborator/Survival_vs_death_first_day.xlsx\")\n",
    "df.shape"
   ]
  },
  {
   "cell_type": "code",
   "execution_count": 7,
   "id": "d5244e3a-20c4-40f0-ba67-dae83e35ce48",
   "metadata": {},
   "outputs": [
    {
     "data": {
      "text/html": [
       "<div>\n",
       "<style scoped>\n",
       "    .dataframe tbody tr th:only-of-type {\n",
       "        vertical-align: middle;\n",
       "    }\n",
       "\n",
       "    .dataframe tbody tr th {\n",
       "        vertical-align: top;\n",
       "    }\n",
       "\n",
       "    .dataframe thead th {\n",
       "        text-align: right;\n",
       "    }\n",
       "</style>\n",
       "<table border=\"1\" class=\"dataframe\">\n",
       "  <thead>\n",
       "    <tr style=\"text-align: right;\">\n",
       "      <th></th>\n",
       "      <th>MouseNo</th>\n",
       "      <th>Severity</th>\n",
       "      <th>Death_0 /Survival_1</th>\n",
       "      <th>CD4</th>\n",
       "      <th>CD8a</th>\n",
       "      <th>CD25</th>\n",
       "      <th>IFN-γ</th>\n",
       "      <th>GM-CSF</th>\n",
       "      <th>IL-4</th>\n",
       "      <th>IL-5</th>\n",
       "      <th>...</th>\n",
       "      <th>Granzyme B</th>\n",
       "      <th>CCL4</th>\n",
       "      <th>CD15</th>\n",
       "      <th>CD182</th>\n",
       "      <th>CD197</th>\n",
       "      <th>IL-21</th>\n",
       "      <th>HLA-DR</th>\n",
       "      <th>CD181</th>\n",
       "      <th>β-Actin</th>\n",
       "      <th>IL-22</th>\n",
       "    </tr>\n",
       "  </thead>\n",
       "  <tbody>\n",
       "    <tr>\n",
       "      <th>0</th>\n",
       "      <td>1</td>\n",
       "      <td>1</td>\n",
       "      <td>1</td>\n",
       "      <td>864.202653</td>\n",
       "      <td>653.388036</td>\n",
       "      <td>533.532407</td>\n",
       "      <td>622.283386</td>\n",
       "      <td>601.880699</td>\n",
       "      <td>523.256709</td>\n",
       "      <td>610.188377</td>\n",
       "      <td>...</td>\n",
       "      <td>648.804947</td>\n",
       "      <td>585.191381</td>\n",
       "      <td>622.984062</td>\n",
       "      <td>507.160020</td>\n",
       "      <td>521.665598</td>\n",
       "      <td>745.204173</td>\n",
       "      <td>625.576933</td>\n",
       "      <td>890.473356</td>\n",
       "      <td>730.239695</td>\n",
       "      <td>606.385944</td>\n",
       "    </tr>\n",
       "    <tr>\n",
       "      <th>1</th>\n",
       "      <td>1</td>\n",
       "      <td>1</td>\n",
       "      <td>1</td>\n",
       "      <td>502.256482</td>\n",
       "      <td>568.373980</td>\n",
       "      <td>988.122802</td>\n",
       "      <td>598.716245</td>\n",
       "      <td>645.511790</td>\n",
       "      <td>551.418641</td>\n",
       "      <td>560.904324</td>\n",
       "      <td>...</td>\n",
       "      <td>566.797908</td>\n",
       "      <td>902.976225</td>\n",
       "      <td>541.336585</td>\n",
       "      <td>509.972729</td>\n",
       "      <td>532.145073</td>\n",
       "      <td>513.079211</td>\n",
       "      <td>579.316823</td>\n",
       "      <td>536.086193</td>\n",
       "      <td>690.569707</td>\n",
       "      <td>538.364672</td>\n",
       "    </tr>\n",
       "    <tr>\n",
       "      <th>2</th>\n",
       "      <td>1</td>\n",
       "      <td>1</td>\n",
       "      <td>1</td>\n",
       "      <td>463.854773</td>\n",
       "      <td>543.952941</td>\n",
       "      <td>1117.471229</td>\n",
       "      <td>1105.009940</td>\n",
       "      <td>715.989935</td>\n",
       "      <td>541.132319</td>\n",
       "      <td>540.647678</td>\n",
       "      <td>...</td>\n",
       "      <td>587.347451</td>\n",
       "      <td>737.662682</td>\n",
       "      <td>515.291416</td>\n",
       "      <td>780.231103</td>\n",
       "      <td>606.187356</td>\n",
       "      <td>715.505628</td>\n",
       "      <td>569.176593</td>\n",
       "      <td>647.409062</td>\n",
       "      <td>584.242162</td>\n",
       "      <td>537.659564</td>\n",
       "    </tr>\n",
       "    <tr>\n",
       "      <th>3</th>\n",
       "      <td>1</td>\n",
       "      <td>1</td>\n",
       "      <td>1</td>\n",
       "      <td>2302.596767</td>\n",
       "      <td>1930.261640</td>\n",
       "      <td>588.094329</td>\n",
       "      <td>2349.308486</td>\n",
       "      <td>1805.575452</td>\n",
       "      <td>751.555302</td>\n",
       "      <td>2199.713286</td>\n",
       "      <td>...</td>\n",
       "      <td>972.315900</td>\n",
       "      <td>534.148282</td>\n",
       "      <td>679.868074</td>\n",
       "      <td>517.515480</td>\n",
       "      <td>490.278047</td>\n",
       "      <td>688.949714</td>\n",
       "      <td>524.763762</td>\n",
       "      <td>517.817829</td>\n",
       "      <td>763.693559</td>\n",
       "      <td>657.198799</td>\n",
       "    </tr>\n",
       "    <tr>\n",
       "      <th>4</th>\n",
       "      <td>1</td>\n",
       "      <td>1</td>\n",
       "      <td>1</td>\n",
       "      <td>1058.718278</td>\n",
       "      <td>3091.961426</td>\n",
       "      <td>523.016158</td>\n",
       "      <td>1387.892393</td>\n",
       "      <td>961.391537</td>\n",
       "      <td>963.863794</td>\n",
       "      <td>1837.281826</td>\n",
       "      <td>...</td>\n",
       "      <td>756.944868</td>\n",
       "      <td>1041.256293</td>\n",
       "      <td>543.882557</td>\n",
       "      <td>504.251373</td>\n",
       "      <td>510.271727</td>\n",
       "      <td>610.724690</td>\n",
       "      <td>582.022937</td>\n",
       "      <td>601.456194</td>\n",
       "      <td>720.723971</td>\n",
       "      <td>662.802631</td>\n",
       "    </tr>\n",
       "    <tr>\n",
       "      <th>5</th>\n",
       "      <td>1</td>\n",
       "      <td>1</td>\n",
       "      <td>1</td>\n",
       "      <td>2418.428574</td>\n",
       "      <td>845.549889</td>\n",
       "      <td>504.169945</td>\n",
       "      <td>714.724978</td>\n",
       "      <td>1473.802184</td>\n",
       "      <td>1024.840705</td>\n",
       "      <td>1823.074582</td>\n",
       "      <td>...</td>\n",
       "      <td>833.234533</td>\n",
       "      <td>983.239167</td>\n",
       "      <td>620.761161</td>\n",
       "      <td>568.014233</td>\n",
       "      <td>517.090090</td>\n",
       "      <td>626.185674</td>\n",
       "      <td>514.810013</td>\n",
       "      <td>546.470574</td>\n",
       "      <td>703.633271</td>\n",
       "      <td>557.380318</td>\n",
       "    </tr>\n",
       "    <tr>\n",
       "      <th>6</th>\n",
       "      <td>1</td>\n",
       "      <td>1</td>\n",
       "      <td>1</td>\n",
       "      <td>2010.637201</td>\n",
       "      <td>2838.474841</td>\n",
       "      <td>529.289258</td>\n",
       "      <td>742.795405</td>\n",
       "      <td>1366.229126</td>\n",
       "      <td>892.249453</td>\n",
       "      <td>983.676275</td>\n",
       "      <td>...</td>\n",
       "      <td>663.685095</td>\n",
       "      <td>1468.113192</td>\n",
       "      <td>637.723136</td>\n",
       "      <td>542.737009</td>\n",
       "      <td>575.964986</td>\n",
       "      <td>636.125353</td>\n",
       "      <td>502.147592</td>\n",
       "      <td>556.446473</td>\n",
       "      <td>878.825424</td>\n",
       "      <td>541.504603</td>\n",
       "    </tr>\n",
       "    <tr>\n",
       "      <th>7</th>\n",
       "      <td>1</td>\n",
       "      <td>1</td>\n",
       "      <td>1</td>\n",
       "      <td>1423.890754</td>\n",
       "      <td>954.820268</td>\n",
       "      <td>513.026226</td>\n",
       "      <td>2177.669702</td>\n",
       "      <td>1360.817371</td>\n",
       "      <td>813.376838</td>\n",
       "      <td>2209.773142</td>\n",
       "      <td>...</td>\n",
       "      <td>557.106513</td>\n",
       "      <td>569.331972</td>\n",
       "      <td>576.766093</td>\n",
       "      <td>499.874387</td>\n",
       "      <td>543.436410</td>\n",
       "      <td>574.512953</td>\n",
       "      <td>516.323004</td>\n",
       "      <td>505.780581</td>\n",
       "      <td>634.883564</td>\n",
       "      <td>578.725316</td>\n",
       "    </tr>\n",
       "    <tr>\n",
       "      <th>8</th>\n",
       "      <td>1</td>\n",
       "      <td>1</td>\n",
       "      <td>1</td>\n",
       "      <td>1768.039773</td>\n",
       "      <td>841.160408</td>\n",
       "      <td>552.858108</td>\n",
       "      <td>2433.787251</td>\n",
       "      <td>1451.730380</td>\n",
       "      <td>995.562072</td>\n",
       "      <td>1947.466785</td>\n",
       "      <td>...</td>\n",
       "      <td>685.863976</td>\n",
       "      <td>1040.576883</td>\n",
       "      <td>629.455859</td>\n",
       "      <td>524.466321</td>\n",
       "      <td>509.876372</td>\n",
       "      <td>577.984592</td>\n",
       "      <td>550.098389</td>\n",
       "      <td>514.365746</td>\n",
       "      <td>618.125529</td>\n",
       "      <td>512.396249</td>\n",
       "    </tr>\n",
       "    <tr>\n",
       "      <th>9</th>\n",
       "      <td>1</td>\n",
       "      <td>1</td>\n",
       "      <td>1</td>\n",
       "      <td>737.596065</td>\n",
       "      <td>945.982474</td>\n",
       "      <td>584.048760</td>\n",
       "      <td>2424.724093</td>\n",
       "      <td>1376.149390</td>\n",
       "      <td>848.858780</td>\n",
       "      <td>1784.940630</td>\n",
       "      <td>...</td>\n",
       "      <td>792.719267</td>\n",
       "      <td>905.189311</td>\n",
       "      <td>642.509867</td>\n",
       "      <td>496.837116</td>\n",
       "      <td>501.755556</td>\n",
       "      <td>601.063696</td>\n",
       "      <td>534.524566</td>\n",
       "      <td>560.327773</td>\n",
       "      <td>633.589630</td>\n",
       "      <td>583.589784</td>\n",
       "    </tr>\n",
       "    <tr>\n",
       "      <th>10</th>\n",
       "      <td>1</td>\n",
       "      <td>1</td>\n",
       "      <td>1</td>\n",
       "      <td>2011.998464</td>\n",
       "      <td>936.842861</td>\n",
       "      <td>521.849273</td>\n",
       "      <td>2400.143529</td>\n",
       "      <td>1294.542330</td>\n",
       "      <td>1143.476670</td>\n",
       "      <td>2467.245704</td>\n",
       "      <td>...</td>\n",
       "      <td>830.600053</td>\n",
       "      <td>791.504574</td>\n",
       "      <td>570.143957</td>\n",
       "      <td>538.888149</td>\n",
       "      <td>539.026451</td>\n",
       "      <td>621.338210</td>\n",
       "      <td>520.526470</td>\n",
       "      <td>524.786611</td>\n",
       "      <td>633.625583</td>\n",
       "      <td>554.806374</td>\n",
       "    </tr>\n",
       "    <tr>\n",
       "      <th>11</th>\n",
       "      <td>1</td>\n",
       "      <td>1</td>\n",
       "      <td>1</td>\n",
       "      <td>1064.335882</td>\n",
       "      <td>3856.099979</td>\n",
       "      <td>515.487157</td>\n",
       "      <td>814.541197</td>\n",
       "      <td>2007.102265</td>\n",
       "      <td>1474.216900</td>\n",
       "      <td>2707.598972</td>\n",
       "      <td>...</td>\n",
       "      <td>1070.436834</td>\n",
       "      <td>676.938606</td>\n",
       "      <td>592.008196</td>\n",
       "      <td>508.327055</td>\n",
       "      <td>524.918203</td>\n",
       "      <td>508.413424</td>\n",
       "      <td>507.151100</td>\n",
       "      <td>522.360794</td>\n",
       "      <td>669.785791</td>\n",
       "      <td>565.220468</td>\n",
       "    </tr>\n",
       "    <tr>\n",
       "      <th>12</th>\n",
       "      <td>1</td>\n",
       "      <td>1</td>\n",
       "      <td>1</td>\n",
       "      <td>1102.194407</td>\n",
       "      <td>1086.485543</td>\n",
       "      <td>596.934728</td>\n",
       "      <td>2845.512300</td>\n",
       "      <td>1864.717624</td>\n",
       "      <td>865.769215</td>\n",
       "      <td>2499.841840</td>\n",
       "      <td>...</td>\n",
       "      <td>809.485887</td>\n",
       "      <td>1005.504360</td>\n",
       "      <td>573.044147</td>\n",
       "      <td>602.867451</td>\n",
       "      <td>533.511711</td>\n",
       "      <td>616.125945</td>\n",
       "      <td>550.786377</td>\n",
       "      <td>539.974526</td>\n",
       "      <td>904.281086</td>\n",
       "      <td>621.063334</td>\n",
       "    </tr>\n",
       "    <tr>\n",
       "      <th>13</th>\n",
       "      <td>1</td>\n",
       "      <td>1</td>\n",
       "      <td>1</td>\n",
       "      <td>1015.549711</td>\n",
       "      <td>953.295367</td>\n",
       "      <td>530.894516</td>\n",
       "      <td>2335.227456</td>\n",
       "      <td>1842.050674</td>\n",
       "      <td>946.629418</td>\n",
       "      <td>1513.978596</td>\n",
       "      <td>...</td>\n",
       "      <td>704.609600</td>\n",
       "      <td>1052.713082</td>\n",
       "      <td>661.172279</td>\n",
       "      <td>520.507866</td>\n",
       "      <td>580.049294</td>\n",
       "      <td>536.878502</td>\n",
       "      <td>496.081829</td>\n",
       "      <td>494.630149</td>\n",
       "      <td>709.010432</td>\n",
       "      <td>528.937964</td>\n",
       "    </tr>\n",
       "    <tr>\n",
       "      <th>14</th>\n",
       "      <td>1</td>\n",
       "      <td>1</td>\n",
       "      <td>1</td>\n",
       "      <td>749.868638</td>\n",
       "      <td>4244.576408</td>\n",
       "      <td>852.015002</td>\n",
       "      <td>1399.521945</td>\n",
       "      <td>486.134210</td>\n",
       "      <td>1562.646607</td>\n",
       "      <td>3332.007478</td>\n",
       "      <td>...</td>\n",
       "      <td>1108.784250</td>\n",
       "      <td>1142.572726</td>\n",
       "      <td>593.099650</td>\n",
       "      <td>542.940099</td>\n",
       "      <td>543.280730</td>\n",
       "      <td>628.701063</td>\n",
       "      <td>532.498492</td>\n",
       "      <td>549.001487</td>\n",
       "      <td>755.475073</td>\n",
       "      <td>584.113748</td>\n",
       "    </tr>\n",
       "    <tr>\n",
       "      <th>15</th>\n",
       "      <td>1</td>\n",
       "      <td>1</td>\n",
       "      <td>1</td>\n",
       "      <td>1196.291468</td>\n",
       "      <td>2161.110956</td>\n",
       "      <td>553.027127</td>\n",
       "      <td>1423.893242</td>\n",
       "      <td>1839.888646</td>\n",
       "      <td>1197.081366</td>\n",
       "      <td>2988.531238</td>\n",
       "      <td>...</td>\n",
       "      <td>660.172995</td>\n",
       "      <td>1320.737985</td>\n",
       "      <td>596.502823</td>\n",
       "      <td>480.784042</td>\n",
       "      <td>525.257665</td>\n",
       "      <td>562.577726</td>\n",
       "      <td>519.731313</td>\n",
       "      <td>601.792887</td>\n",
       "      <td>875.375193</td>\n",
       "      <td>581.514773</td>\n",
       "    </tr>\n",
       "    <tr>\n",
       "      <th>16</th>\n",
       "      <td>1</td>\n",
       "      <td>1</td>\n",
       "      <td>1</td>\n",
       "      <td>853.014100</td>\n",
       "      <td>893.906732</td>\n",
       "      <td>509.206599</td>\n",
       "      <td>1029.824868</td>\n",
       "      <td>1886.249725</td>\n",
       "      <td>1157.705792</td>\n",
       "      <td>2303.607546</td>\n",
       "      <td>...</td>\n",
       "      <td>695.191395</td>\n",
       "      <td>562.045043</td>\n",
       "      <td>512.924895</td>\n",
       "      <td>493.645222</td>\n",
       "      <td>556.020458</td>\n",
       "      <td>568.580131</td>\n",
       "      <td>526.425062</td>\n",
       "      <td>538.931699</td>\n",
       "      <td>1115.807762</td>\n",
       "      <td>545.162016</td>\n",
       "    </tr>\n",
       "    <tr>\n",
       "      <th>17</th>\n",
       "      <td>1</td>\n",
       "      <td>1</td>\n",
       "      <td>1</td>\n",
       "      <td>1872.821306</td>\n",
       "      <td>3089.504893</td>\n",
       "      <td>891.778334</td>\n",
       "      <td>883.792265</td>\n",
       "      <td>902.851493</td>\n",
       "      <td>695.423006</td>\n",
       "      <td>924.808383</td>\n",
       "      <td>...</td>\n",
       "      <td>1063.558528</td>\n",
       "      <td>769.010740</td>\n",
       "      <td>576.055988</td>\n",
       "      <td>487.163721</td>\n",
       "      <td>523.187875</td>\n",
       "      <td>968.996538</td>\n",
       "      <td>506.308200</td>\n",
       "      <td>634.535495</td>\n",
       "      <td>642.424813</td>\n",
       "      <td>685.544380</td>\n",
       "    </tr>\n",
       "    <tr>\n",
       "      <th>18</th>\n",
       "      <td>1</td>\n",
       "      <td>1</td>\n",
       "      <td>1</td>\n",
       "      <td>2404.970797</td>\n",
       "      <td>2655.679754</td>\n",
       "      <td>640.651935</td>\n",
       "      <td>4183.064206</td>\n",
       "      <td>1557.058121</td>\n",
       "      <td>911.275762</td>\n",
       "      <td>2558.520827</td>\n",
       "      <td>...</td>\n",
       "      <td>903.654923</td>\n",
       "      <td>850.607811</td>\n",
       "      <td>653.246395</td>\n",
       "      <td>585.351561</td>\n",
       "      <td>519.781296</td>\n",
       "      <td>721.416476</td>\n",
       "      <td>525.722063</td>\n",
       "      <td>607.486484</td>\n",
       "      <td>856.483931</td>\n",
       "      <td>586.192633</td>\n",
       "    </tr>\n",
       "    <tr>\n",
       "      <th>19</th>\n",
       "      <td>1</td>\n",
       "      <td>1</td>\n",
       "      <td>1</td>\n",
       "      <td>1717.936067</td>\n",
       "      <td>3146.932899</td>\n",
       "      <td>533.440677</td>\n",
       "      <td>1020.776132</td>\n",
       "      <td>1765.682242</td>\n",
       "      <td>604.703071</td>\n",
       "      <td>3975.994094</td>\n",
       "      <td>...</td>\n",
       "      <td>704.087702</td>\n",
       "      <td>1181.665694</td>\n",
       "      <td>601.003932</td>\n",
       "      <td>504.435802</td>\n",
       "      <td>508.487726</td>\n",
       "      <td>691.314995</td>\n",
       "      <td>541.744831</td>\n",
       "      <td>634.296803</td>\n",
       "      <td>712.935137</td>\n",
       "      <td>700.463597</td>\n",
       "    </tr>\n",
       "  </tbody>\n",
       "</table>\n",
       "<p>20 rows × 49 columns</p>\n",
       "</div>"
      ],
      "text/plain": [
       "    MouseNo  Severity  Death_0 /Survival_1          CD4         CD8a  \\\n",
       "0         1         1                    1   864.202653   653.388036   \n",
       "1         1         1                    1   502.256482   568.373980   \n",
       "2         1         1                    1   463.854773   543.952941   \n",
       "3         1         1                    1  2302.596767  1930.261640   \n",
       "4         1         1                    1  1058.718278  3091.961426   \n",
       "5         1         1                    1  2418.428574   845.549889   \n",
       "6         1         1                    1  2010.637201  2838.474841   \n",
       "7         1         1                    1  1423.890754   954.820268   \n",
       "8         1         1                    1  1768.039773   841.160408   \n",
       "9         1         1                    1   737.596065   945.982474   \n",
       "10        1         1                    1  2011.998464   936.842861   \n",
       "11        1         1                    1  1064.335882  3856.099979   \n",
       "12        1         1                    1  1102.194407  1086.485543   \n",
       "13        1         1                    1  1015.549711   953.295367   \n",
       "14        1         1                    1   749.868638  4244.576408   \n",
       "15        1         1                    1  1196.291468  2161.110956   \n",
       "16        1         1                    1   853.014100   893.906732   \n",
       "17        1         1                    1  1872.821306  3089.504893   \n",
       "18        1         1                    1  2404.970797  2655.679754   \n",
       "19        1         1                    1  1717.936067  3146.932899   \n",
       "\n",
       "           CD25        IFN-γ       GM-CSF         IL-4         IL-5  ...  \\\n",
       "0    533.532407   622.283386   601.880699   523.256709   610.188377  ...   \n",
       "1    988.122802   598.716245   645.511790   551.418641   560.904324  ...   \n",
       "2   1117.471229  1105.009940   715.989935   541.132319   540.647678  ...   \n",
       "3    588.094329  2349.308486  1805.575452   751.555302  2199.713286  ...   \n",
       "4    523.016158  1387.892393   961.391537   963.863794  1837.281826  ...   \n",
       "5    504.169945   714.724978  1473.802184  1024.840705  1823.074582  ...   \n",
       "6    529.289258   742.795405  1366.229126   892.249453   983.676275  ...   \n",
       "7    513.026226  2177.669702  1360.817371   813.376838  2209.773142  ...   \n",
       "8    552.858108  2433.787251  1451.730380   995.562072  1947.466785  ...   \n",
       "9    584.048760  2424.724093  1376.149390   848.858780  1784.940630  ...   \n",
       "10   521.849273  2400.143529  1294.542330  1143.476670  2467.245704  ...   \n",
       "11   515.487157   814.541197  2007.102265  1474.216900  2707.598972  ...   \n",
       "12   596.934728  2845.512300  1864.717624   865.769215  2499.841840  ...   \n",
       "13   530.894516  2335.227456  1842.050674   946.629418  1513.978596  ...   \n",
       "14   852.015002  1399.521945   486.134210  1562.646607  3332.007478  ...   \n",
       "15   553.027127  1423.893242  1839.888646  1197.081366  2988.531238  ...   \n",
       "16   509.206599  1029.824868  1886.249725  1157.705792  2303.607546  ...   \n",
       "17   891.778334   883.792265   902.851493   695.423006   924.808383  ...   \n",
       "18   640.651935  4183.064206  1557.058121   911.275762  2558.520827  ...   \n",
       "19   533.440677  1020.776132  1765.682242   604.703071  3975.994094  ...   \n",
       "\n",
       "     Granzyme B         CCL4        CD15       CD182       CD197       IL-21  \\\n",
       "0    648.804947   585.191381  622.984062  507.160020  521.665598  745.204173   \n",
       "1    566.797908   902.976225  541.336585  509.972729  532.145073  513.079211   \n",
       "2    587.347451   737.662682  515.291416  780.231103  606.187356  715.505628   \n",
       "3    972.315900   534.148282  679.868074  517.515480  490.278047  688.949714   \n",
       "4    756.944868  1041.256293  543.882557  504.251373  510.271727  610.724690   \n",
       "5    833.234533   983.239167  620.761161  568.014233  517.090090  626.185674   \n",
       "6    663.685095  1468.113192  637.723136  542.737009  575.964986  636.125353   \n",
       "7    557.106513   569.331972  576.766093  499.874387  543.436410  574.512953   \n",
       "8    685.863976  1040.576883  629.455859  524.466321  509.876372  577.984592   \n",
       "9    792.719267   905.189311  642.509867  496.837116  501.755556  601.063696   \n",
       "10   830.600053   791.504574  570.143957  538.888149  539.026451  621.338210   \n",
       "11  1070.436834   676.938606  592.008196  508.327055  524.918203  508.413424   \n",
       "12   809.485887  1005.504360  573.044147  602.867451  533.511711  616.125945   \n",
       "13   704.609600  1052.713082  661.172279  520.507866  580.049294  536.878502   \n",
       "14  1108.784250  1142.572726  593.099650  542.940099  543.280730  628.701063   \n",
       "15   660.172995  1320.737985  596.502823  480.784042  525.257665  562.577726   \n",
       "16   695.191395   562.045043  512.924895  493.645222  556.020458  568.580131   \n",
       "17  1063.558528   769.010740  576.055988  487.163721  523.187875  968.996538   \n",
       "18   903.654923   850.607811  653.246395  585.351561  519.781296  721.416476   \n",
       "19   704.087702  1181.665694  601.003932  504.435802  508.487726  691.314995   \n",
       "\n",
       "        HLA-DR       CD181      β-Actin       IL-22  \n",
       "0   625.576933  890.473356   730.239695  606.385944  \n",
       "1   579.316823  536.086193   690.569707  538.364672  \n",
       "2   569.176593  647.409062   584.242162  537.659564  \n",
       "3   524.763762  517.817829   763.693559  657.198799  \n",
       "4   582.022937  601.456194   720.723971  662.802631  \n",
       "5   514.810013  546.470574   703.633271  557.380318  \n",
       "6   502.147592  556.446473   878.825424  541.504603  \n",
       "7   516.323004  505.780581   634.883564  578.725316  \n",
       "8   550.098389  514.365746   618.125529  512.396249  \n",
       "9   534.524566  560.327773   633.589630  583.589784  \n",
       "10  520.526470  524.786611   633.625583  554.806374  \n",
       "11  507.151100  522.360794   669.785791  565.220468  \n",
       "12  550.786377  539.974526   904.281086  621.063334  \n",
       "13  496.081829  494.630149   709.010432  528.937964  \n",
       "14  532.498492  549.001487   755.475073  584.113748  \n",
       "15  519.731313  601.792887   875.375193  581.514773  \n",
       "16  526.425062  538.931699  1115.807762  545.162016  \n",
       "17  506.308200  634.535495   642.424813  685.544380  \n",
       "18  525.722063  607.486484   856.483931  586.192633  \n",
       "19  541.744831  634.296803   712.935137  700.463597  \n",
       "\n",
       "[20 rows x 49 columns]"
      ]
     },
     "execution_count": 7,
     "metadata": {},
     "output_type": "execute_result"
    }
   ],
   "source": [
    "df.head(20)"
   ]
  },
  {
   "cell_type": "markdown",
   "id": "ef04d776-f82e-4269-a6cf-a44b12c97ec2",
   "metadata": {},
   "source": [
    "# Feature selection while we are doing classification on Severity"
   ]
  },
  {
   "cell_type": "code",
   "execution_count": 8,
   "id": "72ee2cbd-5213-4413-a49a-694721e6041f",
   "metadata": {},
   "outputs": [
    {
     "data": {
      "text/plain": [
       "Severity\n",
       "1    2056\n",
       "2    3023\n",
       "3    2806\n",
       "4    2903\n",
       "dtype: int64"
      ]
     },
     "execution_count": 8,
     "metadata": {},
     "output_type": "execute_result"
    }
   ],
   "source": [
    "df.groupby('Severity').size()"
   ]
  },
  {
   "cell_type": "code",
   "execution_count": 9,
   "id": "9def898a-b157-4e35-8176-e7d3778ee750",
   "metadata": {},
   "outputs": [
    {
     "data": {
      "text/plain": [
       "Index(['CD4', 'CD8a', 'CD25', 'IFN-γ', 'GM-CSF', 'IL-4', 'IL-5', 'IL-6',\n",
       "       'CD18', 'CD28', 'CD62L', 'CD279', 'IL-1β', 'IL-2', 'IL-9', 'IL-10',\n",
       "       'TNF-α', 'CD69', 'IL-12', 'IL-17A', 'Perforin', 'CD32', 'CD191',\n",
       "       'CD193', 'VEGF', 'CD11b', 'CD14', 'CD55', 'CD183', 'CD284', 'TGF-β',\n",
       "       'CD66a', 'CD184', 'CD185', 'CD194', 'CD196', 'Granzyme B', 'CCL4',\n",
       "       'CD15', 'CD182', 'CD197', 'IL-21', 'HLA-DR', 'CD181', 'β-Actin',\n",
       "       'IL-22'],\n",
       "      dtype='object')"
      ]
     },
     "execution_count": 9,
     "metadata": {},
     "output_type": "execute_result"
    }
   ],
   "source": [
    "df.columns[3:]"
   ]
  },
  {
   "cell_type": "code",
   "execution_count": 10,
   "id": "09db40c0-5b43-4689-a9c1-adca0c40dd03",
   "metadata": {},
   "outputs": [],
   "source": [
    "X_train, X_test, Y_train, Y_test = train_test_split(df.iloc[:,3:], df['Severity'].to_list(), test_size=0.2, random_state=0)"
   ]
  },
  {
   "cell_type": "code",
   "execution_count": 11,
   "id": "5c3b7513-3dca-4630-beb3-48a6c91e952b",
   "metadata": {},
   "outputs": [
    {
     "name": "stdout",
     "output_type": "stream",
     "text": [
      "(8630, 46)\n",
      "(2158, 46)\n"
     ]
    }
   ],
   "source": [
    "print(X_train.shape)\n",
    "print(X_test.shape)"
   ]
  },
  {
   "cell_type": "code",
   "execution_count": 12,
   "id": "af6e6632-6de4-4e00-9055-a2ae166d0ad4",
   "metadata": {},
   "outputs": [
    {
     "data": {
      "text/plain": [
       "{4: 604, 2: 601, 3: 564, 1: 389}"
      ]
     },
     "execution_count": 12,
     "metadata": {},
     "output_type": "execute_result"
    }
   ],
   "source": [
    "{i:Y_test.count(i) for i in Y_test}"
   ]
  },
  {
   "cell_type": "code",
   "execution_count": 13,
   "id": "1110510f-e1c3-4022-aeb8-d9609d47a201",
   "metadata": {},
   "outputs": [
    {
     "name": "stdout",
     "output_type": "stream",
     "text": [
      "Random forest 0.8294717330861909\n"
     ]
    }
   ],
   "source": [
    "clf = RandomForestClassifier(n_estimators = 1000, bootstrap=False) \n",
    "clf.fit(X_train, Y_train)\n",
    "Y_pred = clf.predict(X_test)\n",
    "print(\"Random forest\", metrics.accuracy_score(Y_pred, Y_test))"
   ]
  },
  {
   "cell_type": "code",
   "execution_count": 14,
   "id": "edfcdfde-d2a8-4bd8-9c58-ee69a4a1f793",
   "metadata": {},
   "outputs": [
    {
     "data": {
      "text/plain": [
       "array([0.0155518 , 0.01830451, 0.01114295, 0.01129175, 0.02106179,\n",
       "       0.02234653, 0.01481006, 0.01474442, 0.01280901, 0.02081072,\n",
       "       0.07970069, 0.02251825, 0.01423206, 0.01273039, 0.01744461,\n",
       "       0.0210683 , 0.01289481, 0.02587704, 0.03601097, 0.01066517,\n",
       "       0.01548221, 0.01113173, 0.038529  , 0.03142846, 0.01255266,\n",
       "       0.02570719, 0.0150049 , 0.02890312, 0.01495476, 0.02165895,\n",
       "       0.01184375, 0.01478098, 0.0281606 , 0.01239832, 0.01983139,\n",
       "       0.01951791, 0.03688943, 0.01914696, 0.02029201, 0.01379105,\n",
       "       0.02292234, 0.0381304 , 0.01127395, 0.01077222, 0.07800687,\n",
       "       0.01087303])"
      ]
     },
     "execution_count": 14,
     "metadata": {},
     "output_type": "execute_result"
    }
   ],
   "source": [
    "clf.feature_importances_"
   ]
  },
  {
   "cell_type": "code",
   "execution_count": 15,
   "id": "f9e14cdd-0cd5-4c72-ad12-4ebb97800e1e",
   "metadata": {},
   "outputs": [
    {
     "data": {
      "image/png": "[encoded data removed]",
      "text/plain": [
       "<Figure size 1500x1200 with 1 Axes>"
      ]
     },
     "metadata": {},
     "output_type": "display_data"
    }
   ],
   "source": [
    "plt.figure(figsize=(15, 12))  \n",
    "f_i = list(zip(df.columns[3:],clf.feature_importances_))\n",
    "f_i.sort(key = lambda x : x[1])\n",
    "plt.barh([x[0] for x in f_i],[x[1] for x in f_i])\n",
    "plt.show()"
   ]
  },
  {
   "cell_type": "code",
   "execution_count": 16,
   "id": "7ff9e2b6-1bf3-4a34-85dc-6dece2ba3fea",
   "metadata": {},
   "outputs": [
    {
     "data": {
      "text/plain": [
       "[('IL-17A', 0.010665165137706527),\n",
       " ('CD181', 0.010772218540352214),\n",
       " ('IL-22', 0.010873032065924847),\n",
       " ('CD32', 0.01113172754744689),\n",
       " ('CD25', 0.011142950101785969),\n",
       " ('HLA-DR', 0.011273951908019659),\n",
       " ('IFN-γ', 0.01129174652356916),\n",
       " ('TGF-β', 0.011843752342473531),\n",
       " ('CD185', 0.012398321639608263),\n",
       " ('VEGF', 0.012552660463317917),\n",
       " ('IL-2', 0.012730387258016184),\n",
       " ('CD18', 0.01280901498972036),\n",
       " ('TNF-α', 0.012894809293421072),\n",
       " ('CD182', 0.013791052013173377),\n",
       " ('IL-1β', 0.01423205980539931),\n",
       " ('IL-6', 0.014744415682862437),\n",
       " ('CD66a', 0.0147809826568711),\n",
       " ('IL-5', 0.01481005811122987),\n",
       " ('CD183', 0.014954757927854837),\n",
       " ('CD14', 0.015004895010043196),\n",
       " ('Perforin', 0.015482209980714126),\n",
       " ('CD4', 0.015551799541317239),\n",
       " ('IL-9', 0.017444605707333128),\n",
       " ('CD8a', 0.01830450949037507),\n",
       " ('CCL4', 0.019146963440841484),\n",
       " ('CD196', 0.019517910425911073),\n",
       " ('CD194', 0.019831387674132398),\n",
       " ('CD15', 0.020292012736861473),\n",
       " ('CD28', 0.020810723281467887),\n",
       " ('GM-CSF', 0.021061787595701355),\n",
       " ('IL-10', 0.021068299987028288),\n",
       " ('CD284', 0.02165894616482359),\n",
       " ('IL-4', 0.022346528187188158),\n",
       " ('CD279', 0.02251825068160261),\n",
       " ('CD197', 0.022922338372208133),\n",
       " ('CD11b', 0.025707188907196022),\n",
       " ('CD69', 0.025877039986665754),\n",
       " ('CD184', 0.028160603457720645),\n",
       " ('CD55', 0.0289031153651263),\n",
       " ('CD193', 0.03142845929479201),\n",
       " ('IL-12', 0.036010971397977605),\n",
       " ('Granzyme B', 0.03688942540280721),\n",
       " ('IL-21', 0.038130401739639386),\n",
       " ('CD191', 0.038529002519623774),\n",
       " ('β-Actin', 0.07800687029451032),\n",
       " ('CD62L', 0.07970068934763802)]"
      ]
     },
     "execution_count": 16,
     "metadata": {},
     "output_type": "execute_result"
    }
   ],
   "source": [
    "f_i"
   ]
  },
  {
   "cell_type": "code",
   "execution_count": 15,
   "id": "f4460073-fbe1-4086-8aa0-8e9938821366",
   "metadata": {},
   "outputs": [
    {
     "name": "stdout",
     "output_type": "stream",
     "text": [
      "[[299  40  35  15]\n",
      " [ 27 531  31  12]\n",
      " [ 12  25 470  57]\n",
      " [ 11  29  74 490]]\n"
     ]
    }
   ],
   "source": [
    "Y_pred = clf.predict(X_test)\n",
    "#print(\"Random forest\", metrics.accuracy_score(Y_test, Y_pred))\n",
    "\n",
    "conf_mat = confusion_matrix(Y_test, Y_pred)\n",
    "print(conf_mat)"
   ]
  },
  {
   "cell_type": "code",
   "execution_count": 16,
   "id": "3b19b3d7-c709-44b2-b218-bcec57cb613c",
   "metadata": {},
   "outputs": [
    {
     "name": "stdout",
     "output_type": "stream",
     "text": [
      "Accuracy: 0.8294717330861909\n"
     ]
    }
   ],
   "source": [
    "print(\"Accuracy:\",metrics.accuracy_score(Y_test, Y_pred))"
   ]
  },
  {
   "cell_type": "code",
   "execution_count": 17,
   "id": "c0c0ca67-063c-436d-b14e-054f05b7b8fd",
   "metadata": {},
   "outputs": [
    {
     "name": "stdout",
     "output_type": "stream",
     "text": [
      "              precision    recall  f1-score   support\n",
      "\n",
      "           1       0.86      0.77      0.81       389\n",
      "           2       0.85      0.88      0.87       601\n",
      "           3       0.77      0.83      0.80       564\n",
      "           4       0.85      0.81      0.83       604\n",
      "\n",
      "    accuracy                           0.83      2158\n",
      "   macro avg       0.83      0.82      0.83      2158\n",
      "weighted avg       0.83      0.83      0.83      2158\n",
      "\n"
     ]
    }
   ],
   "source": [
    "print(classification_report(Y_test, Y_pred))"
   ]
  },
  {
   "cell_type": "code",
   "execution_count": 18,
   "id": "a63dfd5d-ec7b-4c24-a436-267a96d237bb",
   "metadata": {},
   "outputs": [
    {
     "data": {
      "image/png": "[encoded data removed]",
      "text/plain": [
       "<Figure size 1000x600 with 2 Axes>"
      ]
     },
     "metadata": {},
     "output_type": "display_data"
    }
   ],
   "source": [
    "# Get and reshape confusion matrix data\n",
    "matrix = confusion_matrix(Y_test, Y_pred)\n",
    "matrix = matrix.astype('float') / matrix.sum(axis=1)[:, np.newaxis]\n",
    "\n",
    "# Build the plot\n",
    "plt.figure(figsize=(10,6))\n",
    "#sns.set(font_scale=2.4)\n",
    "sns.heatmap(matrix, annot=True, annot_kws={'size':9},\n",
    "            cmap=plt.cm.Greens, linewidths=0.2)\n",
    "\n",
    "# Add labels to the plot\n",
    "class_names = ['Severity_1', 'Severity_2', 'Severity_3', 'Severity_4']\n",
    "tick_marks = np.arange(len(class_names))\n",
    "tick_marks2 = tick_marks + 0.5\n",
    "plt.xticks(tick_marks, class_names, rotation=25)\n",
    "plt.yticks(tick_marks2, class_names, rotation=0)\n",
    "plt.xlabel('Predicted label')\n",
    "plt.ylabel('True label')\n",
    "plt.title('Confusion Matrix for Random Forest Model')\n",
    "plt.show()"
   ]
  },
  {
   "cell_type": "markdown",
   "id": "ed2b82cb-0d57-41b7-ac5c-f5d610c4674d",
   "metadata": {},
   "source": [
    "## Picking up top features and do the classification"
   ]
  },
  {
   "cell_type": "code",
   "execution_count": 23,
   "id": "99ea9937-8c6e-4df2-87df-8043f16ff324",
   "metadata": {},
   "outputs": [
    {
     "name": "stdout",
     "output_type": "stream",
     "text": [
      "(8630, 5) (2158, 5) 8630 2158\n",
      "('CD191', 0.03743664953038353) 5 Accuracy: 0.6214087117701576\n",
      "[[185 107  66  31]\n",
      " [ 97 394  83  27]\n",
      " [ 25  67 334 138]\n",
      " [ 17  36 123 428]]\n",
      "(8630, 6) (2158, 6) 8630 2158\n",
      "('IL-12', 0.03596668215604164) 6 Accuracy: 0.6631139944392956\n",
      "[[225  95  54  15]\n",
      " [ 84 418  81  18]\n",
      " [ 23  62 352 127]\n",
      " [ 18  32 118 436]]\n",
      "(8630, 7) (2158, 7) 8630 2158\n",
      "('CD193', 0.03160936824986872) 7 Accuracy: 0.6714550509731233\n",
      "[[247  81  47  14]\n",
      " [ 79 424  80  18]\n",
      " [ 27  64 350 123]\n",
      " [ 21  32 123 428]]\n",
      "(8630, 8) (2158, 8) 8630 2158\n",
      "('CD55', 0.029193863284424183) 8 Accuracy: 0.6895273401297498\n",
      "[[244  79  50  16]\n",
      " [ 75 429  75  22]\n",
      " [ 22  63 367 112]\n",
      " [ 14  36 106 448]]\n",
      "(8630, 9) (2158, 9) 8630 2158\n",
      "('CD184', 0.028480534652876383) 9 Accuracy: 0.705746061167748\n",
      "[[259  66  50  14]\n",
      " [ 61 448  73  19]\n",
      " [ 25  57 365 117]\n",
      " [ 17  30 106 451]]\n",
      "(8630, 10) (2158, 10) 8630 2158\n",
      "('CD69', 0.026003237911737278) 10 Accuracy: 0.7233549582947173\n",
      "[[269  53  51  16]\n",
      " [ 50 482  57  12]\n",
      " [ 25  48 363 128]\n",
      " [ 16  31 110 447]]\n",
      "(8630, 11) (2158, 11) 8630 2158\n",
      "('CD11b', 0.02579861840269463) 11 Accuracy: 0.747451343836886\n",
      "[[278  54  41  16]\n",
      " [ 46 489  53  13]\n",
      " [ 20  34 396 114]\n",
      " [ 15  31 108 450]]\n",
      "(8630, 12) (2158, 12) 8630 2158\n",
      "('CD197', 0.022787334407785586) 12 Accuracy: 0.757645968489342\n",
      "[[281  50  44  14]\n",
      " [ 47 490  52  12]\n",
      " [ 17  34 405 108]\n",
      " [ 14  29 102 459]]\n",
      "(8630, 13) (2158, 13) 8630 2158\n",
      "('IL-4', 0.02238454429237191) 13 Accuracy: 0.7599629286376274\n",
      "[[283  50  42  14]\n",
      " [ 49 488  50  14]\n",
      " [ 16  34 410 104]\n",
      " [ 16  29 100 459]]\n",
      "(8630, 14) (2158, 14) 8630 2158\n",
      "('CD279', 0.02229439203292796) 14 Accuracy: 0.7650602409638554\n",
      "[[279  48  47  15]\n",
      " [ 46 495  44  16]\n",
      " [ 17  33 410 104]\n",
      " [ 14  32  91 467]]\n",
      "(8630, 15) (2158, 15) 8630 2158\n",
      "('IL-10', 0.021805707971406855) 15 Accuracy: 0.7692307692307693\n",
      "[[283  45  46  15]\n",
      " [ 47 496  41  17]\n",
      " [ 13  35 413 103]\n",
      " [ 12  32  92 468]]\n",
      "(8630, 16) (2158, 16) 8630 2158\n",
      "('GM-CSF', 0.02122437808152876) 16 Accuracy: 0.7743280815569972\n",
      "[[284  48  44  13]\n",
      " [ 46 500  39  16]\n",
      " [ 12  31 419 102]\n",
      " [ 14  28  94 468]]\n",
      "(8630, 17) (2158, 17) 8630 2158\n",
      "('CD284', 0.02121286989001792) 17 Accuracy: 0.7826691380908248\n",
      "[[281  50  45  13]\n",
      " [ 37 514  35  15]\n",
      " [ 15  28 425  96]\n",
      " [ 10  27  98 469]]\n",
      "(8630, 18) (2158, 18) 8630 2158\n",
      "('CD28', 0.020590248439454867) 18 Accuracy: 0.7826691380908248\n",
      "[[285  47  42  15]\n",
      " [ 38 515  34  14]\n",
      " [ 15  31 422  96]\n",
      " [ 12  24 101 467]]\n",
      "(8630, 19) (2158, 19) 8630 2158\n",
      "('CD15', 0.020225494069041908) 19 Accuracy: 0.8016682113067656\n",
      "[[290  47  39  13]\n",
      " [ 36 515  39  11]\n",
      " [ 13  31 444  76]\n",
      " [ 14  24  85 481]]\n",
      "(8630, 20) (2158, 20) 8630 2158\n",
      "('CD196', 0.02013965808032273) 20 Accuracy: 0.798887859128823\n",
      "[[285  46  43  15]\n",
      " [ 34 514  41  12]\n",
      " [ 12  28 449  75]\n",
      " [ 12  26  90 476]]\n",
      "(8630, 21) (2158, 21) 8630 2158\n",
      "('CD194', 0.019847038514649237) 21 Accuracy: 0.8025949953660797\n",
      "[[283  48  45  13]\n",
      " [ 34 515  37  15]\n",
      " [ 12  26 455  71]\n",
      " [ 14  26  85 479]]\n",
      "(8630, 22) (2158, 22) 8630 2158\n",
      "('CCL4', 0.018940169153951546) 22 Accuracy: 0.8007414272474513\n",
      "[[282  51  43  13]\n",
      " [ 32 520  39  10]\n",
      " [ 11  27 451  75]\n",
      " [ 16  24  89 475]]\n",
      "(8630, 23) (2158, 23) 8630 2158\n",
      "('CD8a', 0.01817911826758772) 23 Accuracy: 0.8076923076923077\n",
      "[[283  51  40  15]\n",
      " [ 32 523  34  12]\n",
      " [ 12  30 451  71]\n",
      " [ 13  27  78 486]]\n",
      "(8630, 24) (2158, 24) 8630 2158\n",
      "('IL-9', 0.017703621265575998) 24 Accuracy: 0.8053753475440223\n",
      "[[288  49  40  12]\n",
      " [ 32 520  36  13]\n",
      " [ 12  28 444  80]\n",
      " [ 13  25  80 486]]\n",
      "(8630, 25) (2158, 25) 8630 2158\n",
      "('Perforin', 0.0153945568783207) 25 Accuracy: 0.8067655236329935\n",
      "[[287  49  41  12]\n",
      " [ 29 524  36  12]\n",
      " [ 12  29 448  75]\n",
      " [ 11  28  83 482]]\n",
      "(8630, 26) (2158, 26) 8630 2158\n",
      "('CD4', 0.0153888476139232) 26 Accuracy: 0.8109360518999074\n",
      "[[287  49  39  14]\n",
      " [ 30 521  38  12]\n",
      " [ 13  26 456  69]\n",
      " [ 12  28  78 486]]\n",
      "(8630, 27) (2158, 27) 8630 2158\n",
      "('CD14', 0.014935384764862926) 27 Accuracy: 0.8146431881371641\n",
      "[[292  47  35  15]\n",
      " [ 31 523  35  12]\n",
      " [ 13  28 455  68]\n",
      " [ 12  30  74 488]]\n",
      "(8630, 28) (2158, 28) 8630 2158\n",
      "('IL-6', 0.01489928092467104) 28 Accuracy: 0.8137164040778498\n",
      "[[292  47  38  12]\n",
      " [ 29 524  37  11]\n",
      " [ 13  28 455  68]\n",
      " [ 15  26  78 485]]\n",
      "(8630, 29) (2158, 29) 8630 2158\n",
      "('CD183', 0.014896034978188297) 29 Accuracy: 0.8113994439295644\n",
      "[[292  47  35  15]\n",
      " [ 34 521  34  12]\n",
      " [ 12  29 451  72]\n",
      " [ 12  31  74 487]]\n",
      "(8630, 30) (2158, 30) 8630 2158\n",
      "('IL-5', 0.014805398251875265) 30 Accuracy: 0.8109360518999074\n",
      "[[293  45  36  15]\n",
      " [ 32 522  35  12]\n",
      " [ 13  33 447  71]\n",
      " [ 13  30  73 488]]\n",
      "(8630, 31) (2158, 31) 8630 2158\n",
      "('CD66a', 0.014664453308422075) 31 Accuracy: 0.8146431881371641\n",
      "[[296  42  37  14]\n",
      " [ 28 529  31  13]\n",
      " [ 13  31 449  71]\n",
      " [ 13  27  80 484]]\n",
      "(8630, 32) (2158, 32) 8630 2158\n",
      "('IL-1β', 0.014238182484803116) 32 Accuracy: 0.8178869323447636\n",
      "[[293  42  37  17]\n",
      " [ 25 529  35  12]\n",
      " [ 13  31 454  66]\n",
      " [ 13  28  74 489]]\n",
      "(8630, 33) (2158, 33) 8630 2158\n",
      "('CD182', 0.013676054416460895) 33 Accuracy: 0.8174235403151066\n",
      "[[294  41  38  16]\n",
      " [ 31 524  34  12]\n",
      " [ 12  28 458  66]\n",
      " [ 12  30  74 488]]\n",
      "(8630, 34) (2158, 34) 8630 2158\n",
      "('TNF-α', 0.012886137915271668) 34 Accuracy: 0.8220574606116775\n",
      "[[293  40  38  18]\n",
      " [ 27 527  35  12]\n",
      " [ 14  28 456  66]\n",
      " [ 10  29  67 498]]\n",
      "(8630, 35) (2158, 35) 8630 2158\n",
      "('CD18', 0.012844518036227534) 35 Accuracy: 0.8211306765523633\n",
      "[[293  42  37  17]\n",
      " [ 28 528  32  13]\n",
      " [ 11  26 462  65]\n",
      " [  9  27  79 489]]\n",
      "(8630, 36) (2158, 36) 8630 2158\n",
      "('VEGF', 0.012546514045184939) 36 Accuracy: 0.8164967562557924\n",
      "[[292  42  39  16]\n",
      " [ 27 521  37  16]\n",
      " [ 14  29 458  63]\n",
      " [ 11  29  73 491]]\n",
      "(8630, 37) (2158, 37) 8630 2158\n",
      "('CD185', 0.012480368977134563) 37 Accuracy: 0.819740500463392\n",
      "[[295  39  40  15]\n",
      " [ 28 523  35  15]\n",
      " [ 13  28 462  61]\n",
      " [ 10  28  77 489]]\n",
      "(8630, 38) (2158, 38) 8630 2158\n",
      "('IL-2', 0.012456344329443116) 38 Accuracy: 0.8188137164040779\n",
      "[[290  41  42  16]\n",
      " [ 27 526  36  12]\n",
      " [ 11  30 459  64]\n",
      " [  9  32  71 492]]\n",
      "(8630, 39) (2158, 39) 8630 2158\n",
      "('TGF-β', 0.011933966606928522) 39 Accuracy: 0.8192771084337349\n",
      "[[294  43  36  16]\n",
      " [ 27 523  36  15]\n",
      " [ 13  31 461  59]\n",
      " [ 10  29  75 490]]\n",
      "(8630, 40) (2158, 40) 8630 2158\n",
      "('IFN-γ', 0.011394519205013819) 40 Accuracy: 0.8243744207599629\n",
      "[[295  41  36  17]\n",
      " [ 28 527  34  12]\n",
      " [ 12  30 464  58]\n",
      " [ 10  28  73 493]]\n",
      "(8630, 41) (2158, 41) 8630 2158\n",
      "('CD32', 0.011192190452063235) 41 Accuracy: 0.82483781278962\n",
      "[[294  40  41  14]\n",
      " [ 27 529  34  11]\n",
      " [ 13  31 464  56]\n",
      " [  9  29  73 493]]\n",
      "(8630, 42) (2158, 42) 8630 2158\n",
      "('HLA-DR', 0.011156040294451441) 42 Accuracy: 0.8206672845227062\n",
      "[[293  40  41  15]\n",
      " [ 30 524  35  12]\n",
      " [ 12  32 463  57]\n",
      " [ 11  30  72 491]]\n",
      "(8630, 43) (2158, 43) 8630 2158\n",
      "('CD25', 0.011046157368759935) 43 Accuracy: 0.8225208526413346\n",
      "[[296  38  41  14]\n",
      " [ 26 526  34  15]\n",
      " [ 12  30 463  59]\n",
      " [ 10  30  74 490]]\n",
      "(8630, 44) (2158, 44) 8630 2158\n",
      "('IL-22', 0.010978420145337571) 44 Accuracy: 0.8202038924930491\n",
      "[[291  39  42  17]\n",
      " [ 27 528  35  11]\n",
      " [ 13  29 463  59]\n",
      " [ 11  27  78 488]]\n",
      "(8630, 45) (2158, 45) 8630 2158\n",
      "('CD181', 0.010672955488777796) 45 Accuracy: 0.8174235403151066\n",
      "[[291  39  43  16]\n",
      " [ 28 524  37  12]\n",
      " [ 13  29 461  61]\n",
      " [  8  28  80 488]]\n",
      "(8630, 46) (2158, 46) 8630 2158\n",
      "('IL-17A', 0.010501522747432938) 46 Accuracy: 0.8192771084337349\n",
      "[[295  39  40  15]\n",
      " [ 27 523  37  14]\n",
      " [ 13  32 463  56]\n",
      " [ 10  28  79 487]]\n"
     ]
    }
   ],
   "source": [
    "accuracy_list = []\n",
    "for j in range(5,47):\n",
    "    important_features = [ 'Severity',\t'Death_0 /Survival_1']\n",
    "    for i in reversed(f_i[-j:]):\n",
    "        important_features.append(i[0])\n",
    "    df_temp = df[important_features]\n",
    "    X_train, X_test, Y_train, Y_test = train_test_split(df_temp.iloc[:,2:], df['Severity'].to_list(), test_size=0.2, random_state=0)\n",
    "    print(X_train.shape, X_test.shape, len(Y_train), len(Y_test))\n",
    "          \n",
    "    clf = RandomForestClassifier(n_estimators = 1000) \n",
    "    clf.fit(X_train, Y_train)\n",
    "    Y_pred = clf.predict(X_test)\n",
    "    print(i,j, \"Accuracy:\",metrics.accuracy_score(Y_test, Y_pred))\n",
    "    accuracy_list.append(metrics.accuracy_score(Y_test, Y_pred))\n",
    "    print(confusion_matrix(Y_test, Y_pred))"
   ]
  },
  {
   "cell_type": "code",
   "execution_count": 24,
   "id": "2892228a-f038-4442-b7d2-3d95e97d17b5",
   "metadata": {},
   "outputs": [
    {
     "name": "stdout",
     "output_type": "stream",
     "text": [
      "[0.621, 0.663, 0.671, 0.69, 0.706, 0.723, 0.747, 0.758, 0.76, 0.765, 0.769, 0.774, 0.783, 0.783, 0.802, 0.799, 0.803, 0.801, 0.808, 0.805, 0.807, 0.811, 0.815, 0.814, 0.811, 0.811, 0.815, 0.818, 0.817, 0.822, 0.821, 0.816, 0.82, 0.819, 0.819, 0.824, 0.825, 0.821, 0.823, 0.82, 0.817, 0.819]\n"
     ]
    }
   ],
   "source": [
    "#label_text = list(zip(range(5,20),accuracy_list))\n",
    "x_range = list(range(5,47))\n",
    "acc_list = [round(item, 3) for item in accuracy_list]\n",
    "print(acc_list)"
   ]
  },
  {
   "cell_type": "code",
   "execution_count": 53,
   "id": "d5e77c5e-59f1-4fc0-bc6a-2e8603a2e53a",
   "metadata": {},
   "outputs": [
    {
     "data": {
      "application/vnd.plotly.v1+json": {
       "config": {
        "plotlyServerURL": "https://plot.ly"
       },
       "data": [
        {
         "connectgaps": true,
         "mode": "lines+markers+text",
         "textposition": "top center",
         "type": "scatter",
         "x": [
          5,
          6,
          7,
          8,
          9,
          10,
          11,
          12,
          13,
          14,
          15,
          16,
          17,
          18,
          19,
          20,
          21,
          22,
          23,
          24,
          25,
          26,
          27,
          28,
          29,
          30,
          31,
          32,
          33,
          34,
          35,
          36,
          37,
          38,
          39,
          40,
          41,
          42,
          43,
          44,
          45,
          46
         ],
         "y": [
          0.7947173308619092,
          0.7961075069508804,
          0.8049119555143651,
          0.8164967562557924,
          0.8253012048192772,
          0.8443002780352178,
          0.8456904541241891,
          0.8521779425393883,
          0.8568118628359592,
          0.8632993512511585,
          0.8688600556070436,
          0.8721037998146431,
          0.8790546802594995,
          0.8804448563484708,
          0.8809082483781279,
          0.8804448563484708,
          0.8785912882298424,
          0.8832252085264134,
          0.8832252085264134,
          0.8804448563484708,
          0.8836886005560705,
          0.8795180722891566,
          0.8827618164967562,
          0.8864689527340129,
          0.8892493049119555,
          0.8878591288229842,
          0.8892493049119555,
          0.8887859128822985,
          0.8929564411492122,
          0.891566265060241,
          0.8878591288229842,
          0.8906394810009268,
          0.8855421686746988,
          0.8836886005560705,
          0.8860055607043559,
          0.8869323447636701,
          0.8924930491195552,
          0.8873957367933272,
          0.8892493049119555,
          0.8901760889712697,
          0.8887859128822985,
          0.8901760889712697
         ]
        }
       ],
       "layout": {
        "annotations": [
         {
          "align": "center",
          "showarrow": false,
          "text": "0.795",
          "textangle": -90,
          "x": 5,
          "y": 0.7997173308619092,
          "yanchor": "bottom"
         },
         {
          "align": "center",
          "showarrow": false,
          "text": "0.796",
          "textangle": -90,
          "x": 6,
          "y": 0.8011075069508804,
          "yanchor": "bottom"
         },
         {
          "align": "center",
          "showarrow": false,
          "text": "0.805",
          "textangle": -90,
          "x": 7,
          "y": 0.8099119555143651,
          "yanchor": "bottom"
         },
         {
          "align": "center",
          "showarrow": false,
          "text": "0.816",
          "textangle": -90,
          "x": 8,
          "y": 0.8214967562557924,
          "yanchor": "bottom"
         },
         {
          "align": "center",
          "showarrow": false,
          "text": "0.825",
          "textangle": -90,
          "x": 9,
          "y": 0.8303012048192772,
          "yanchor": "bottom"
         },
         {
          "align": "center",
          "showarrow": false,
          "text": "0.844",
          "textangle": -90,
          "x": 10,
          "y": 0.8493002780352178,
          "yanchor": "bottom"
         },
         {
          "align": "center",
          "showarrow": false,
          "text": "0.846",
          "textangle": -90,
          "x": 11,
          "y": 0.8506904541241891,
          "yanchor": "bottom"
         },
         {
          "align": "center",
          "showarrow": false,
          "text": "0.852",
          "textangle": -90,
          "x": 12,
          "y": 0.8571779425393883,
          "yanchor": "bottom"
         },
         {
          "align": "center",
          "showarrow": false,
          "text": "0.857",
          "textangle": -90,
          "x": 13,
          "y": 0.8618118628359592,
          "yanchor": "bottom"
         },
         {
          "align": "center",
          "showarrow": false,
          "text": "0.863",
          "textangle": -90,
          "x": 14,
          "y": 0.8682993512511585,
          "yanchor": "bottom"
         },
         {
          "align": "center",
          "showarrow": false,
          "text": "0.869",
          "textangle": -90,
          "x": 15,
          "y": 0.8738600556070436,
          "yanchor": "bottom"
         },
         {
          "align": "center",
          "showarrow": false,
          "text": "0.872",
          "textangle": -90,
          "x": 16,
          "y": 0.8771037998146431,
          "yanchor": "bottom"
         },
         {
          "align": "center",
          "showarrow": false,
          "text": "0.879",
          "textangle": -90,
          "x": 17,
          "y": 0.8840546802594995,
          "yanchor": "bottom"
         },
         {
          "align": "center",
          "showarrow": false,
          "text": "0.88",
          "textangle": -90,
          "x": 18,
          "y": 0.8854448563484708,
          "yanchor": "bottom"
         },
         {
          "align": "center",
          "showarrow": false,
          "text": "0.881",
          "textangle": -90,
          "x": 19,
          "y": 0.8859082483781279,
          "yanchor": "bottom"
         },
         {
          "align": "center",
          "showarrow": false,
          "text": "0.88",
          "textangle": -90,
          "x": 20,
          "y": 0.8854448563484708,
          "yanchor": "bottom"
         },
         {
          "align": "center",
          "showarrow": false,
          "text": "0.879",
          "textangle": -90,
          "x": 21,
          "y": 0.8835912882298425,
          "yanchor": "bottom"
         },
         {
          "align": "center",
          "showarrow": false,
          "text": "0.883",
          "textangle": -90,
          "x": 22,
          "y": 0.8882252085264134,
          "yanchor": "bottom"
         },
         {
          "align": "center",
          "showarrow": false,
          "text": "0.883",
          "textangle": -90,
          "x": 23,
          "y": 0.8882252085264134,
          "yanchor": "bottom"
         },
         {
          "align": "center",
          "showarrow": false,
          "text": "0.88",
          "textangle": -90,
          "x": 24,
          "y": 0.8854448563484708,
          "yanchor": "bottom"
         },
         {
          "align": "center",
          "showarrow": false,
          "text": "0.884",
          "textangle": -90,
          "x": 25,
          "y": 0.8886886005560705,
          "yanchor": "bottom"
         },
         {
          "align": "center",
          "showarrow": false,
          "text": "0.88",
          "textangle": -90,
          "x": 26,
          "y": 0.8845180722891566,
          "yanchor": "bottom"
         },
         {
          "align": "center",
          "showarrow": false,
          "text": "0.883",
          "textangle": -90,
          "x": 27,
          "y": 0.8877618164967562,
          "yanchor": "bottom"
         },
         {
          "align": "center",
          "showarrow": false,
          "text": "0.886",
          "textangle": -90,
          "x": 28,
          "y": 0.8914689527340129,
          "yanchor": "bottom"
         },
         {
          "align": "center",
          "showarrow": false,
          "text": "0.889",
          "textangle": -90,
          "x": 29,
          "y": 0.8942493049119555,
          "yanchor": "bottom"
         },
         {
          "align": "center",
          "showarrow": false,
          "text": "0.888",
          "textangle": -90,
          "x": 30,
          "y": 0.8928591288229842,
          "yanchor": "bottom"
         },
         {
          "align": "center",
          "showarrow": false,
          "text": "0.889",
          "textangle": -90,
          "x": 31,
          "y": 0.8942493049119555,
          "yanchor": "bottom"
         },
         {
          "align": "center",
          "showarrow": false,
          "text": "0.889",
          "textangle": -90,
          "x": 32,
          "y": 0.8937859128822985,
          "yanchor": "bottom"
         },
         {
          "align": "center",
          "showarrow": false,
          "text": "0.893",
          "textangle": -90,
          "x": 33,
          "y": 0.8979564411492122,
          "yanchor": "bottom"
         },
         {
          "align": "center",
          "showarrow": false,
          "text": "0.892",
          "textangle": -90,
          "x": 34,
          "y": 0.896566265060241,
          "yanchor": "bottom"
         },
         {
          "align": "center",
          "showarrow": false,
          "text": "0.888",
          "textangle": -90,
          "x": 35,
          "y": 0.8928591288229842,
          "yanchor": "bottom"
         },
         {
          "align": "center",
          "showarrow": false,
          "text": "0.891",
          "textangle": -90,
          "x": 36,
          "y": 0.8956394810009268,
          "yanchor": "bottom"
         },
         {
          "align": "center",
          "showarrow": false,
          "text": "0.886",
          "textangle": -90,
          "x": 37,
          "y": 0.8905421686746988,
          "yanchor": "bottom"
         },
         {
          "align": "center",
          "showarrow": false,
          "text": "0.884",
          "textangle": -90,
          "x": 38,
          "y": 0.8886886005560705,
          "yanchor": "bottom"
         },
         {
          "align": "center",
          "showarrow": false,
          "text": "0.886",
          "textangle": -90,
          "x": 39,
          "y": 0.8910055607043559,
          "yanchor": "bottom"
         },
         {
          "align": "center",
          "showarrow": false,
          "text": "0.887",
          "textangle": -90,
          "x": 40,
          "y": 0.8919323447636701,
          "yanchor": "bottom"
         },
         {
          "align": "center",
          "showarrow": false,
          "text": "0.892",
          "textangle": -90,
          "x": 41,
          "y": 0.8974930491195552,
          "yanchor": "bottom"
         },
         {
          "align": "center",
          "showarrow": false,
          "text": "0.887",
          "textangle": -90,
          "x": 42,
          "y": 0.8923957367933272,
          "yanchor": "bottom"
         },
         {
          "align": "center",
          "showarrow": false,
          "text": "0.889",
          "textangle": -90,
          "x": 43,
          "y": 0.8942493049119555,
          "yanchor": "bottom"
         },
         {
          "align": "center",
          "showarrow": false,
          "text": "0.89",
          "textangle": -90,
          "x": 44,
          "y": 0.8951760889712697,
          "yanchor": "bottom"
         },
         {
          "align": "center",
          "showarrow": false,
          "text": "0.889",
          "textangle": -90,
          "x": 45,
          "y": 0.8937859128822985,
          "yanchor": "bottom"
         },
         {
          "align": "center",
          "showarrow": false,
          "text": "0.89",
          "textangle": -90,
          "x": 46,
          "y": 0.8951760889712697,
          "yanchor": "bottom"
         }
        ],
        "autosize": false,
        "height": 500,
        "template": {
         "data": {
          "bar": [
           {
            "error_x": {
             "color": "#2a3f5f"
            },
            "error_y": {
             "color": "#2a3f5f"
            },
            "marker": {
             "line": {
              "color": "#E5ECF6",
              "width": 0.5
             },
             "pattern": {
              "fillmode": "overlay",
              "size": 10,
              "solidity": 0.2
             }
            },
            "type": "bar"
           }
          ],
          "barpolar": [
           {
            "marker": {
             "line": {
              "color": "#E5ECF6",
              "width": 0.5
             },
             "pattern": {
              "fillmode": "overlay",
              "size": 10,
              "solidity": 0.2
             }
            },
            "type": "barpolar"
           }
          ],
          "carpet": [
           {
            "aaxis": {
             "endlinecolor": "#2a3f5f",
             "gridcolor": "white",
             "linecolor": "white",
             "minorgridcolor": "white",
             "startlinecolor": "#2a3f5f"
            },
            "baxis": {
             "endlinecolor": "#2a3f5f",
             "gridcolor": "white",
             "linecolor": "white",
             "minorgridcolor": "white",
             "startlinecolor": "#2a3f5f"
            },
            "type": "carpet"
           }
          ],
          "choropleth": [
           {
            "colorbar": {
             "outlinewidth": 0,
             "ticks": ""
            },
            "type": "choropleth"
           }
          ],
          "contour": [
           {
            "colorbar": {
             "outlinewidth": 0,
             "ticks": ""
            },
            "colorscale": [
             [
              0,
              "#0d0887"
             ],
             [
              0.1111111111111111,
              "#46039f"
             ],
             [
              0.2222222222222222,
              "#7201a8"
             ],
             [
              0.3333333333333333,
              "#9c179e"
             ],
             [
              0.4444444444444444,
              "#bd3786"
             ],
             [
              0.5555555555555556,
              "#d8576b"
             ],
             [
              0.6666666666666666,
              "#ed7953"
             ],
             [
              0.7777777777777778,
              "#fb9f3a"
             ],
             [
              0.8888888888888888,
              "#fdca26"
             ],
             [
              1,
              "#f0f921"
             ]
            ],
            "type": "contour"
           }
          ],
          "contourcarpet": [
           {
            "colorbar": {
             "outlinewidth": 0,
             "ticks": ""
            },
            "type": "contourcarpet"
           }
          ],
          "heatmap": [
           {
            "colorbar": {
             "outlinewidth": 0,
             "ticks": ""
            },
            "colorscale": [
             [
              0,
              "#0d0887"
             ],
             [
              0.1111111111111111,
              "#46039f"
             ],
             [
              0.2222222222222222,
              "#7201a8"
             ],
             [
              0.3333333333333333,
              "#9c179e"
             ],
             [
              0.4444444444444444,
              "#bd3786"
             ],
             [
              0.5555555555555556,
              "#d8576b"
             ],
             [
              0.6666666666666666,
              "#ed7953"
             ],
             [
              0.7777777777777778,
              "#fb9f3a"
             ],
             [
              0.8888888888888888,
              "#fdca26"
             ],
             [
              1,
              "#f0f921"
             ]
            ],
            "type": "heatmap"
           }
          ],
          "heatmapgl": [
           {
            "colorbar": {
             "outlinewidth": 0,
             "ticks": ""
            },
            "colorscale": [
             [
              0,
              "#0d0887"
             ],
             [
              0.1111111111111111,
              "#46039f"
             ],
             [
              0.2222222222222222,
              "#7201a8"
             ],
             [
              0.3333333333333333,
              "#9c179e"
             ],
             [
              0.4444444444444444,
              "#bd3786"
             ],
             [
              0.5555555555555556,
              "#d8576b"
             ],
             [
              0.6666666666666666,
              "#ed7953"
             ],
             [
              0.7777777777777778,
              "#fb9f3a"
             ],
             [
              0.8888888888888888,
              "#fdca26"
             ],
             [
              1,
              "#f0f921"
             ]
            ],
            "type": "heatmapgl"
           }
          ],
          "histogram": [
           {
            "marker": {
             "pattern": {
              "fillmode": "overlay",
              "size": 10,
              "solidity": 0.2
             }
            },
            "type": "histogram"
           }
          ],
          "histogram2d": [
           {
            "colorbar": {
             "outlinewidth": 0,
             "ticks": ""
            },
            "colorscale": [
             [
              0,
              "#0d0887"
             ],
             [
              0.1111111111111111,
              "#46039f"
             ],
             [
              0.2222222222222222,
              "#7201a8"
             ],
             [
              0.3333333333333333,
              "#9c179e"
             ],
             [
              0.4444444444444444,
              "#bd3786"
             ],
             [
              0.5555555555555556,
              "#d8576b"
             ],
             [
              0.6666666666666666,
              "#ed7953"
             ],
             [
              0.7777777777777778,
              "#fb9f3a"
             ],
             [
              0.8888888888888888,
              "#fdca26"
             ],
             [
              1,
              "#f0f921"
             ]
            ],
            "type": "histogram2d"
           }
          ],
          "histogram2dcontour": [
           {
            "colorbar": {
             "outlinewidth": 0,
             "ticks": ""
            },
            "colorscale": [
             [
              0,
              "#0d0887"
             ],
             [
              0.1111111111111111,
              "#46039f"
             ],
             [
              0.2222222222222222,
              "#7201a8"
             ],
             [
              0.3333333333333333,
              "#9c179e"
             ],
             [
              0.4444444444444444,
              "#bd3786"
             ],
             [
              0.5555555555555556,
              "#d8576b"
             ],
             [
              0.6666666666666666,
              "#ed7953"
             ],
             [
              0.7777777777777778,
              "#fb9f3a"
             ],
             [
              0.8888888888888888,
              "#fdca26"
             ],
             [
              1,
              "#f0f921"
             ]
            ],
            "type": "histogram2dcontour"
           }
          ],
          "mesh3d": [
           {
            "colorbar": {
             "outlinewidth": 0,
             "ticks": ""
            },
            "type": "mesh3d"
           }
          ],
          "parcoords": [
           {
            "line": {
             "colorbar": {
              "outlinewidth": 0,
              "ticks": ""
             }
            },
            "type": "parcoords"
           }
          ],
          "pie": [
           {
            "automargin": true,
            "type": "pie"
           }
          ],
          "scatter": [
           {
            "fillpattern": {
             "fillmode": "overlay",
             "size": 10,
             "solidity": 0.2
            },
            "type": "scatter"
           }
          ],
          "scatter3d": [
           {
            "line": {
             "colorbar": {
              "outlinewidth": 0,
              "ticks": ""
             }
            },
            "marker": {
             "colorbar": {
              "outlinewidth": 0,
              "ticks": ""
             }
            },
            "type": "scatter3d"
           }
          ],
          "scattercarpet": [
           {
            "marker": {
             "colorbar": {
              "outlinewidth": 0,
              "ticks": ""
             }
            },
            "type": "scattercarpet"
           }
          ],
          "scattergeo": [
           {
            "marker": {
             "colorbar": {
              "outlinewidth": 0,
              "ticks": ""
             }
            },
            "type": "scattergeo"
           }
          ],
          "scattergl": [
           {
            "marker": {
             "colorbar": {
              "outlinewidth": 0,
              "ticks": ""
             }
            },
            "type": "scattergl"
           }
          ],
          "scattermapbox": [
           {
            "marker": {
             "colorbar": {
              "outlinewidth": 0,
              "ticks": ""
             }
            },
            "type": "scattermapbox"
           }
          ],
          "scatterpolar": [
           {
            "marker": {
             "colorbar": {
              "outlinewidth": 0,
              "ticks": ""
             }
            },
            "type": "scatterpolar"
           }
          ],
          "scatterpolargl": [
           {
            "marker": {
             "colorbar": {
              "outlinewidth": 0,
              "ticks": ""
             }
            },
            "type": "scatterpolargl"
           }
          ],
          "scatterternary": [
           {
            "marker": {
             "colorbar": {
              "outlinewidth": 0,
              "ticks": ""
             }
            },
            "type": "scatterternary"
           }
          ],
          "surface": [
           {
            "colorbar": {
             "outlinewidth": 0,
             "ticks": ""
            },
            "colorscale": [
             [
              0,
              "#0d0887"
             ],
             [
              0.1111111111111111,
              "#46039f"
             ],
             [
              0.2222222222222222,
              "#7201a8"
             ],
             [
              0.3333333333333333,
              "#9c179e"
             ],
             [
              0.4444444444444444,
              "#bd3786"
             ],
             [
              0.5555555555555556,
              "#d8576b"
             ],
             [
              0.6666666666666666,
              "#ed7953"
             ],
             [
              0.7777777777777778,
              "#fb9f3a"
             ],
             [
              0.8888888888888888,
              "#fdca26"
             ],
             [
              1,
              "#f0f921"
             ]
            ],
            "type": "surface"
           }
          ],
          "table": [
           {
            "cells": {
             "fill": {
              "color": "#EBF0F8"
             },
             "line": {
              "color": "white"
             }
            },
            "header": {
             "fill": {
              "color": "#C8D4E3"
             },
             "line": {
              "color": "white"
             }
            },
            "type": "table"
           }
          ]
         },
         "layout": {
          "annotationdefaults": {
           "arrowcolor": "#2a3f5f",
           "arrowhead": 0,
           "arrowwidth": 1
          },
          "autotypenumbers": "strict",
          "coloraxis": {
           "colorbar": {
            "outlinewidth": 0,
            "ticks": ""
           }
          },
          "colorscale": {
           "diverging": [
            [
             0,
             "#8e0152"
            ],
            [
             0.1,
             "#c51b7d"
            ],
            [
             0.2,
             "#de77ae"
            ],
            [
             0.3,
             "#f1b6da"
            ],
            [
             0.4,
             "#fde0ef"
            ],
            [
             0.5,
             "#f7f7f7"
            ],
            [
             0.6,
             "#e6f5d0"
            ],
            [
             0.7,
             "#b8e186"
            ],
            [
             0.8,
             "#7fbc41"
            ],
            [
             0.9,
             "#4d9221"
            ],
            [
             1,
             "#276419"
            ]
           ],
           "sequential": [
            [
             0,
             "#0d0887"
            ],
            [
             0.1111111111111111,
             "#46039f"
            ],
            [
             0.2222222222222222,
             "#7201a8"
            ],
            [
             0.3333333333333333,
             "#9c179e"
            ],
            [
             0.4444444444444444,
             "#bd3786"
            ],
            [
             0.5555555555555556,
             "#d8576b"
            ],
            [
             0.6666666666666666,
             "#ed7953"
            ],
            [
             0.7777777777777778,
             "#fb9f3a"
            ],
            [
             0.8888888888888888,
             "#fdca26"
            ],
            [
             1,
             "#f0f921"
            ]
           ],
           "sequentialminus": [
            [
             0,
             "#0d0887"
            ],
            [
             0.1111111111111111,
             "#46039f"
            ],
            [
             0.2222222222222222,
             "#7201a8"
            ],
            [
             0.3333333333333333,
             "#9c179e"
            ],
            [
             0.4444444444444444,
             "#bd3786"
            ],
            [
             0.5555555555555556,
             "#d8576b"
            ],
            [
             0.6666666666666666,
             "#ed7953"
            ],
            [
             0.7777777777777778,
             "#fb9f3a"
            ],
            [
             0.8888888888888888,
             "#fdca26"
            ],
            [
             1,
             "#f0f921"
            ]
           ]
          },
          "colorway": [
           "#636efa",
           "#EF553B",
           "#00cc96",
           "#ab63fa",
           "#FFA15A",
           "#19d3f3",
           "#FF6692",
           "#B6E880",
           "#FF97FF",
           "#FECB52"
          ],
          "font": {
           "color": "#2a3f5f"
          },
          "geo": {
           "bgcolor": "white",
           "lakecolor": "white",
           "landcolor": "#E5ECF6",
           "showlakes": true,
           "showland": true,
           "subunitcolor": "white"
          },
          "hoverlabel": {
           "align": "left"
          },
          "hovermode": "closest",
          "mapbox": {
           "style": "light"
          },
          "paper_bgcolor": "white",
          "plot_bgcolor": "#E5ECF6",
          "polar": {
           "angularaxis": {
            "gridcolor": "white",
            "linecolor": "white",
            "ticks": ""
           },
           "bgcolor": "#E5ECF6",
           "radialaxis": {
            "gridcolor": "white",
            "linecolor": "white",
            "ticks": ""
           }
          },
          "scene": {
           "xaxis": {
            "backgroundcolor": "#E5ECF6",
            "gridcolor": "white",
            "gridwidth": 2,
            "linecolor": "white",
            "showbackground": true,
            "ticks": "",
            "zerolinecolor": "white"
           },
           "yaxis": {
            "backgroundcolor": "#E5ECF6",
            "gridcolor": "white",
            "gridwidth": 2,
            "linecolor": "white",
            "showbackground": true,
            "ticks": "",
            "zerolinecolor": "white"
           },
           "zaxis": {
            "backgroundcolor": "#E5ECF6",
            "gridcolor": "white",
            "gridwidth": 2,
            "linecolor": "white",
            "showbackground": true,
            "ticks": "",
            "zerolinecolor": "white"
           }
          },
          "shapedefaults": {
           "line": {
            "color": "#2a3f5f"
           }
          },
          "ternary": {
           "aaxis": {
            "gridcolor": "white",
            "linecolor": "white",
            "ticks": ""
           },
           "baxis": {
            "gridcolor": "white",
            "linecolor": "white",
            "ticks": ""
           },
           "bgcolor": "#E5ECF6",
           "caxis": {
            "gridcolor": "white",
            "linecolor": "white",
            "ticks": ""
           }
          },
          "title": {
           "x": 0.05
          },
          "xaxis": {
           "automargin": true,
           "gridcolor": "white",
           "linecolor": "white",
           "ticks": "",
           "title": {
            "standoff": 15
           },
           "zerolinecolor": "white",
           "zerolinewidth": 2
          },
          "yaxis": {
           "automargin": true,
           "gridcolor": "white",
           "linecolor": "white",
           "ticks": "",
           "title": {
            "standoff": 15
           },
           "zerolinecolor": "white",
           "zerolinewidth": 2
          }
         }
        },
        "width": 1400,
        "xaxis": {
         "autorange": true,
         "range": [
          2.5681100586377985,
          48.4318899413622
         ],
         "type": "linear"
        },
        "yaxis": {
         "autorange": true,
         "range": [
          0.786912651711003,
          0.9133682126370776
         ],
         "type": "linear"
        }
       }
      },
      "image/png": "[encoded data removed]",
      "text/html": [
       "<div>                            <div id=\"3a67e106-d061-4ee3-b2b3-ed8dd62a47ca\" class=\"plotly-graph-div\" style=\"height:500px; width:1400px;\"></div>            <script type=\"text/javascript\">                require([\"plotly\"], function(Plotly) {                    window.PLOTLYENV=window.PLOTLYENV || {};                                    if (document.getElementById(\"3a67e106-d061-4ee3-b2b3-ed8dd62a47ca\")) {                    Plotly.newPlot(                        \"3a67e106-d061-4ee3-b2b3-ed8dd62a47ca\",                        [{\"connectgaps\":true,\"mode\":\"lines+markers+text\",\"x\":[5,6,7,8,9,10,11,12,13,14,15,16,17,18,19,20,21,22,23,24,25,26,27,28,29,30,31,32,33,34,35,36,37,38,39,40,41,42,43,44,45,46],\"y\":[0.7947173308619092,0.7961075069508804,0.8049119555143651,0.8164967562557924,0.8253012048192772,0.8443002780352178,0.8456904541241891,0.8521779425393883,0.8568118628359592,0.8632993512511585,0.8688600556070436,0.8721037998146431,0.8790546802594995,0.8804448563484708,0.8809082483781279,0.8804448563484708,0.8785912882298424,0.8832252085264134,0.8832252085264134,0.8804448563484708,0.8836886005560705,0.8795180722891566,0.8827618164967562,0.8864689527340129,0.8892493049119555,0.8878591288229842,0.8892493049119555,0.8887859128822985,0.8929564411492122,0.891566265060241,0.8878591288229842,0.8906394810009268,0.8855421686746988,0.8836886005560705,0.8860055607043559,0.8869323447636701,0.8924930491195552,0.8873957367933272,0.8892493049119555,0.8901760889712697,0.8887859128822985,0.8901760889712697],\"type\":\"scatter\",\"textposition\":\"top center\"}],                        {\"template\":{\"data\":{\"histogram2dcontour\":[{\"type\":\"histogram2dcontour\",\"colorbar\":{\"outlinewidth\":0,\"ticks\":\"\"},\"colorscale\":[[0.0,\"#0d0887\"],[0.1111111111111111,\"#46039f\"],[0.2222222222222222,\"#7201a8\"],[0.3333333333333333,\"#9c179e\"],[0.4444444444444444,\"#bd3786\"],[0.5555555555555556,\"#d8576b\"],[0.6666666666666666,\"#ed7953\"],[0.7777777777777778,\"#fb9f3a\"],[0.8888888888888888,\"#fdca26\"],[1.0,\"#f0f921\"]]}],\"choropleth\":[{\"type\":\"choropleth\",\"colorbar\":{\"outlinewidth\":0,\"ticks\":\"\"}}],\"histogram2d\":[{\"type\":\"histogram2d\",\"colorbar\":{\"outlinewidth\":0,\"ticks\":\"\"},\"colorscale\":[[0.0,\"#0d0887\"],[0.1111111111111111,\"#46039f\"],[0.2222222222222222,\"#7201a8\"],[0.3333333333333333,\"#9c179e\"],[0.4444444444444444,\"#bd3786\"],[0.5555555555555556,\"#d8576b\"],[0.6666666666666666,\"#ed7953\"],[0.7777777777777778,\"#fb9f3a\"],[0.8888888888888888,\"#fdca26\"],[1.0,\"#f0f921\"]]}],\"heatmap\":[{\"type\":\"heatmap\",\"colorbar\":{\"outlinewidth\":0,\"ticks\":\"\"},\"colorscale\":[[0.0,\"#0d0887\"],[0.1111111111111111,\"#46039f\"],[0.2222222222222222,\"#7201a8\"],[0.3333333333333333,\"#9c179e\"],[0.4444444444444444,\"#bd3786\"],[0.5555555555555556,\"#d8576b\"],[0.6666666666666666,\"#ed7953\"],[0.7777777777777778,\"#fb9f3a\"],[0.8888888888888888,\"#fdca26\"],[1.0,\"#f0f921\"]]}],\"heatmapgl\":[{\"type\":\"heatmapgl\",\"colorbar\":{\"outlinewidth\":0,\"ticks\":\"\"},\"colorscale\":[[0.0,\"#0d0887\"],[0.1111111111111111,\"#46039f\"],[0.2222222222222222,\"#7201a8\"],[0.3333333333333333,\"#9c179e\"],[0.4444444444444444,\"#bd3786\"],[0.5555555555555556,\"#d8576b\"],[0.6666666666666666,\"#ed7953\"],[0.7777777777777778,\"#fb9f3a\"],[0.8888888888888888,\"#fdca26\"],[1.0,\"#f0f921\"]]}],\"contourcarpet\":[{\"type\":\"contourcarpet\",\"colorbar\":{\"outlinewidth\":0,\"ticks\":\"\"}}],\"contour\":[{\"type\":\"contour\",\"colorbar\":{\"outlinewidth\":0,\"ticks\":\"\"},\"colorscale\":[[0.0,\"#0d0887\"],[0.1111111111111111,\"#46039f\"],[0.2222222222222222,\"#7201a8\"],[0.3333333333333333,\"#9c179e\"],[0.4444444444444444,\"#bd3786\"],[0.5555555555555556,\"#d8576b\"],[0.6666666666666666,\"#ed7953\"],[0.7777777777777778,\"#fb9f3a\"],[0.8888888888888888,\"#fdca26\"],[1.0,\"#f0f921\"]]}],\"surface\":[{\"type\":\"surface\",\"colorbar\":{\"outlinewidth\":0,\"ticks\":\"\"},\"colorscale\":[[0.0,\"#0d0887\"],[0.1111111111111111,\"#46039f\"],[0.2222222222222222,\"#7201a8\"],[0.3333333333333333,\"#9c179e\"],[0.4444444444444444,\"#bd3786\"],[0.5555555555555556,\"#d8576b\"],[0.6666666666666666,\"#ed7953\"],[0.7777777777777778,\"#fb9f3a\"],[0.8888888888888888,\"#fdca26\"],[1.0,\"#f0f921\"]]}],\"mesh3d\":[{\"type\":\"mesh3d\",\"colorbar\":{\"outlinewidth\":0,\"ticks\":\"\"}}],\"scatter\":[{\"fillpattern\":{\"fillmode\":\"overlay\",\"size\":10,\"solidity\":0.2},\"type\":\"scatter\"}],\"parcoords\":[{\"type\":\"parcoords\",\"line\":{\"colorbar\":{\"outlinewidth\":0,\"ticks\":\"\"}}}],\"scatterpolargl\":[{\"type\":\"scatterpolargl\",\"marker\":{\"colorbar\":{\"outlinewidth\":0,\"ticks\":\"\"}}}],\"bar\":[{\"error_x\":{\"color\":\"#2a3f5f\"},\"error_y\":{\"color\":\"#2a3f5f\"},\"marker\":{\"line\":{\"color\":\"#E5ECF6\",\"width\":0.5},\"pattern\":{\"fillmode\":\"overlay\",\"size\":10,\"solidity\":0.2}},\"type\":\"bar\"}],\"scattergeo\":[{\"type\":\"scattergeo\",\"marker\":{\"colorbar\":{\"outlinewidth\":0,\"ticks\":\"\"}}}],\"scatterpolar\":[{\"type\":\"scatterpolar\",\"marker\":{\"colorbar\":{\"outlinewidth\":0,\"ticks\":\"\"}}}],\"histogram\":[{\"marker\":{\"pattern\":{\"fillmode\":\"overlay\",\"size\":10,\"solidity\":0.2}},\"type\":\"histogram\"}],\"scattergl\":[{\"type\":\"scattergl\",\"marker\":{\"colorbar\":{\"outlinewidth\":0,\"ticks\":\"\"}}}],\"scatter3d\":[{\"type\":\"scatter3d\",\"line\":{\"colorbar\":{\"outlinewidth\":0,\"ticks\":\"\"}},\"marker\":{\"colorbar\":{\"outlinewidth\":0,\"ticks\":\"\"}}}],\"scattermapbox\":[{\"type\":\"scattermapbox\",\"marker\":{\"colorbar\":{\"outlinewidth\":0,\"ticks\":\"\"}}}],\"scatterternary\":[{\"type\":\"scatterternary\",\"marker\":{\"colorbar\":{\"outlinewidth\":0,\"ticks\":\"\"}}}],\"scattercarpet\":[{\"type\":\"scattercarpet\",\"marker\":{\"colorbar\":{\"outlinewidth\":0,\"ticks\":\"\"}}}],\"carpet\":[{\"aaxis\":{\"endlinecolor\":\"#2a3f5f\",\"gridcolor\":\"white\",\"linecolor\":\"white\",\"minorgridcolor\":\"white\",\"startlinecolor\":\"#2a3f5f\"},\"baxis\":{\"endlinecolor\":\"#2a3f5f\",\"gridcolor\":\"white\",\"linecolor\":\"white\",\"minorgridcolor\":\"white\",\"startlinecolor\":\"#2a3f5f\"},\"type\":\"carpet\"}],\"table\":[{\"cells\":{\"fill\":{\"color\":\"#EBF0F8\"},\"line\":{\"color\":\"white\"}},\"header\":{\"fill\":{\"color\":\"#C8D4E3\"},\"line\":{\"color\":\"white\"}},\"type\":\"table\"}],\"barpolar\":[{\"marker\":{\"line\":{\"color\":\"#E5ECF6\",\"width\":0.5},\"pattern\":{\"fillmode\":\"overlay\",\"size\":10,\"solidity\":0.2}},\"type\":\"barpolar\"}],\"pie\":[{\"automargin\":true,\"type\":\"pie\"}]},\"layout\":{\"autotypenumbers\":\"strict\",\"colorway\":[\"#636efa\",\"#EF553B\",\"#00cc96\",\"#ab63fa\",\"#FFA15A\",\"#19d3f3\",\"#FF6692\",\"#B6E880\",\"#FF97FF\",\"#FECB52\"],\"font\":{\"color\":\"#2a3f5f\"},\"hovermode\":\"closest\",\"hoverlabel\":{\"align\":\"left\"},\"paper_bgcolor\":\"white\",\"plot_bgcolor\":\"#E5ECF6\",\"polar\":{\"bgcolor\":\"#E5ECF6\",\"angularaxis\":{\"gridcolor\":\"white\",\"linecolor\":\"white\",\"ticks\":\"\"},\"radialaxis\":{\"gridcolor\":\"white\",\"linecolor\":\"white\",\"ticks\":\"\"}},\"ternary\":{\"bgcolor\":\"#E5ECF6\",\"aaxis\":{\"gridcolor\":\"white\",\"linecolor\":\"white\",\"ticks\":\"\"},\"baxis\":{\"gridcolor\":\"white\",\"linecolor\":\"white\",\"ticks\":\"\"},\"caxis\":{\"gridcolor\":\"white\",\"linecolor\":\"white\",\"ticks\":\"\"}},\"coloraxis\":{\"colorbar\":{\"outlinewidth\":0,\"ticks\":\"\"}},\"colorscale\":{\"sequential\":[[0.0,\"#0d0887\"],[0.1111111111111111,\"#46039f\"],[0.2222222222222222,\"#7201a8\"],[0.3333333333333333,\"#9c179e\"],[0.4444444444444444,\"#bd3786\"],[0.5555555555555556,\"#d8576b\"],[0.6666666666666666,\"#ed7953\"],[0.7777777777777778,\"#fb9f3a\"],[0.8888888888888888,\"#fdca26\"],[1.0,\"#f0f921\"]],\"sequentialminus\":[[0.0,\"#0d0887\"],[0.1111111111111111,\"#46039f\"],[0.2222222222222222,\"#7201a8\"],[0.3333333333333333,\"#9c179e\"],[0.4444444444444444,\"#bd3786\"],[0.5555555555555556,\"#d8576b\"],[0.6666666666666666,\"#ed7953\"],[0.7777777777777778,\"#fb9f3a\"],[0.8888888888888888,\"#fdca26\"],[1.0,\"#f0f921\"]],\"diverging\":[[0,\"#8e0152\"],[0.1,\"#c51b7d\"],[0.2,\"#de77ae\"],[0.3,\"#f1b6da\"],[0.4,\"#fde0ef\"],[0.5,\"#f7f7f7\"],[0.6,\"#e6f5d0\"],[0.7,\"#b8e186\"],[0.8,\"#7fbc41\"],[0.9,\"#4d9221\"],[1,\"#276419\"]]},\"xaxis\":{\"gridcolor\":\"white\",\"linecolor\":\"white\",\"ticks\":\"\",\"title\":{\"standoff\":15},\"zerolinecolor\":\"white\",\"automargin\":true,\"zerolinewidth\":2},\"yaxis\":{\"gridcolor\":\"white\",\"linecolor\":\"white\",\"ticks\":\"\",\"title\":{\"standoff\":15},\"zerolinecolor\":\"white\",\"automargin\":true,\"zerolinewidth\":2},\"scene\":{\"xaxis\":{\"backgroundcolor\":\"#E5ECF6\",\"gridcolor\":\"white\",\"linecolor\":\"white\",\"showbackground\":true,\"ticks\":\"\",\"zerolinecolor\":\"white\",\"gridwidth\":2},\"yaxis\":{\"backgroundcolor\":\"#E5ECF6\",\"gridcolor\":\"white\",\"linecolor\":\"white\",\"showbackground\":true,\"ticks\":\"\",\"zerolinecolor\":\"white\",\"gridwidth\":2},\"zaxis\":{\"backgroundcolor\":\"#E5ECF6\",\"gridcolor\":\"white\",\"linecolor\":\"white\",\"showbackground\":true,\"ticks\":\"\",\"zerolinecolor\":\"white\",\"gridwidth\":2}},\"shapedefaults\":{\"line\":{\"color\":\"#2a3f5f\"}},\"annotationdefaults\":{\"arrowcolor\":\"#2a3f5f\",\"arrowhead\":0,\"arrowwidth\":1},\"geo\":{\"bgcolor\":\"white\",\"landcolor\":\"#E5ECF6\",\"subunitcolor\":\"white\",\"showland\":true,\"showlakes\":true,\"lakecolor\":\"white\"},\"title\":{\"x\":0.05},\"mapbox\":{\"style\":\"light\"}}},\"autosize\":false,\"width\":1400,\"height\":500,\"annotations\":[{\"align\":\"center\",\"showarrow\":false,\"text\":\"0.795\",\"textangle\":-90,\"x\":5,\"y\":0.7997173308619092,\"yanchor\":\"bottom\"},{\"align\":\"center\",\"showarrow\":false,\"text\":\"0.796\",\"textangle\":-90,\"x\":6,\"y\":0.8011075069508804,\"yanchor\":\"bottom\"},{\"align\":\"center\",\"showarrow\":false,\"text\":\"0.805\",\"textangle\":-90,\"x\":7,\"y\":0.8099119555143651,\"yanchor\":\"bottom\"},{\"align\":\"center\",\"showarrow\":false,\"text\":\"0.816\",\"textangle\":-90,\"x\":8,\"y\":0.8214967562557924,\"yanchor\":\"bottom\"},{\"align\":\"center\",\"showarrow\":false,\"text\":\"0.825\",\"textangle\":-90,\"x\":9,\"y\":0.8303012048192772,\"yanchor\":\"bottom\"},{\"align\":\"center\",\"showarrow\":false,\"text\":\"0.844\",\"textangle\":-90,\"x\":10,\"y\":0.8493002780352178,\"yanchor\":\"bottom\"},{\"align\":\"center\",\"showarrow\":false,\"text\":\"0.846\",\"textangle\":-90,\"x\":11,\"y\":0.8506904541241891,\"yanchor\":\"bottom\"},{\"align\":\"center\",\"showarrow\":false,\"text\":\"0.852\",\"textangle\":-90,\"x\":12,\"y\":0.8571779425393883,\"yanchor\":\"bottom\"},{\"align\":\"center\",\"showarrow\":false,\"text\":\"0.857\",\"textangle\":-90,\"x\":13,\"y\":0.8618118628359592,\"yanchor\":\"bottom\"},{\"align\":\"center\",\"showarrow\":false,\"text\":\"0.863\",\"textangle\":-90,\"x\":14,\"y\":0.8682993512511585,\"yanchor\":\"bottom\"},{\"align\":\"center\",\"showarrow\":false,\"text\":\"0.869\",\"textangle\":-90,\"x\":15,\"y\":0.8738600556070436,\"yanchor\":\"bottom\"},{\"align\":\"center\",\"showarrow\":false,\"text\":\"0.872\",\"textangle\":-90,\"x\":16,\"y\":0.8771037998146431,\"yanchor\":\"bottom\"},{\"align\":\"center\",\"showarrow\":false,\"text\":\"0.879\",\"textangle\":-90,\"x\":17,\"y\":0.8840546802594995,\"yanchor\":\"bottom\"},{\"align\":\"center\",\"showarrow\":false,\"text\":\"0.88\",\"textangle\":-90,\"x\":18,\"y\":0.8854448563484708,\"yanchor\":\"bottom\"},{\"align\":\"center\",\"showarrow\":false,\"text\":\"0.881\",\"textangle\":-90,\"x\":19,\"y\":0.8859082483781279,\"yanchor\":\"bottom\"},{\"align\":\"center\",\"showarrow\":false,\"text\":\"0.88\",\"textangle\":-90,\"x\":20,\"y\":0.8854448563484708,\"yanchor\":\"bottom\"},{\"align\":\"center\",\"showarrow\":false,\"text\":\"0.879\",\"textangle\":-90,\"x\":21,\"y\":0.8835912882298425,\"yanchor\":\"bottom\"},{\"align\":\"center\",\"showarrow\":false,\"text\":\"0.883\",\"textangle\":-90,\"x\":22,\"y\":0.8882252085264134,\"yanchor\":\"bottom\"},{\"align\":\"center\",\"showarrow\":false,\"text\":\"0.883\",\"textangle\":-90,\"x\":23,\"y\":0.8882252085264134,\"yanchor\":\"bottom\"},{\"align\":\"center\",\"showarrow\":false,\"text\":\"0.88\",\"textangle\":-90,\"x\":24,\"y\":0.8854448563484708,\"yanchor\":\"bottom\"},{\"align\":\"center\",\"showarrow\":false,\"text\":\"0.884\",\"textangle\":-90,\"x\":25,\"y\":0.8886886005560705,\"yanchor\":\"bottom\"},{\"align\":\"center\",\"showarrow\":false,\"text\":\"0.88\",\"textangle\":-90,\"x\":26,\"y\":0.8845180722891566,\"yanchor\":\"bottom\"},{\"align\":\"center\",\"showarrow\":false,\"text\":\"0.883\",\"textangle\":-90,\"x\":27,\"y\":0.8877618164967562,\"yanchor\":\"bottom\"},{\"align\":\"center\",\"showarrow\":false,\"text\":\"0.886\",\"textangle\":-90,\"x\":28,\"y\":0.8914689527340129,\"yanchor\":\"bottom\"},{\"align\":\"center\",\"showarrow\":false,\"text\":\"0.889\",\"textangle\":-90,\"x\":29,\"y\":0.8942493049119555,\"yanchor\":\"bottom\"},{\"align\":\"center\",\"showarrow\":false,\"text\":\"0.888\",\"textangle\":-90,\"x\":30,\"y\":0.8928591288229842,\"yanchor\":\"bottom\"},{\"align\":\"center\",\"showarrow\":false,\"text\":\"0.889\",\"textangle\":-90,\"x\":31,\"y\":0.8942493049119555,\"yanchor\":\"bottom\"},{\"align\":\"center\",\"showarrow\":false,\"text\":\"0.889\",\"textangle\":-90,\"x\":32,\"y\":0.8937859128822985,\"yanchor\":\"bottom\"},{\"align\":\"center\",\"showarrow\":false,\"text\":\"0.893\",\"textangle\":-90,\"x\":33,\"y\":0.8979564411492122,\"yanchor\":\"bottom\"},{\"align\":\"center\",\"showarrow\":false,\"text\":\"0.892\",\"textangle\":-90,\"x\":34,\"y\":0.896566265060241,\"yanchor\":\"bottom\"},{\"align\":\"center\",\"showarrow\":false,\"text\":\"0.888\",\"textangle\":-90,\"x\":35,\"y\":0.8928591288229842,\"yanchor\":\"bottom\"},{\"align\":\"center\",\"showarrow\":false,\"text\":\"0.891\",\"textangle\":-90,\"x\":36,\"y\":0.8956394810009268,\"yanchor\":\"bottom\"},{\"align\":\"center\",\"showarrow\":false,\"text\":\"0.886\",\"textangle\":-90,\"x\":37,\"y\":0.8905421686746988,\"yanchor\":\"bottom\"},{\"align\":\"center\",\"showarrow\":false,\"text\":\"0.884\",\"textangle\":-90,\"x\":38,\"y\":0.8886886005560705,\"yanchor\":\"bottom\"},{\"align\":\"center\",\"showarrow\":false,\"text\":\"0.886\",\"textangle\":-90,\"x\":39,\"y\":0.8910055607043559,\"yanchor\":\"bottom\"},{\"align\":\"center\",\"showarrow\":false,\"text\":\"0.887\",\"textangle\":-90,\"x\":40,\"y\":0.8919323447636701,\"yanchor\":\"bottom\"},{\"align\":\"center\",\"showarrow\":false,\"text\":\"0.892\",\"textangle\":-90,\"x\":41,\"y\":0.8974930491195552,\"yanchor\":\"bottom\"},{\"align\":\"center\",\"showarrow\":false,\"text\":\"0.887\",\"textangle\":-90,\"x\":42,\"y\":0.8923957367933272,\"yanchor\":\"bottom\"},{\"align\":\"center\",\"showarrow\":false,\"text\":\"0.889\",\"textangle\":-90,\"x\":43,\"y\":0.8942493049119555,\"yanchor\":\"bottom\"},{\"align\":\"center\",\"showarrow\":false,\"text\":\"0.89\",\"textangle\":-90,\"x\":44,\"y\":0.8951760889712697,\"yanchor\":\"bottom\"},{\"align\":\"center\",\"showarrow\":false,\"text\":\"0.889\",\"textangle\":-90,\"x\":45,\"y\":0.8937859128822985,\"yanchor\":\"bottom\"},{\"align\":\"center\",\"showarrow\":false,\"text\":\"0.89\",\"textangle\":-90,\"x\":46,\"y\":0.8951760889712697,\"yanchor\":\"bottom\"}]},                        {\"responsive\": true}                    ).then(function(){\n",
       "                            \n",
       "var gd = document.getElementById('3a67e106-d061-4ee3-b2b3-ed8dd62a47ca');\n",
       "var x = new MutationObserver(function (mutations, observer) {{\n",
       "        var display = window.getComputedStyle(gd).display;\n",
       "        if (!display || display === 'none') {{\n",
       "            console.log([gd, 'removed!']);\n",
       "            Plotly.purge(gd);\n",
       "            observer.disconnect();\n",
       "        }}\n",
       "}});\n",
       "\n",
       "// Listen for the removal of the full notebook cells\n",
       "var notebookContainer = gd.closest('#notebook-container');\n",
       "if (notebookContainer) {{\n",
       "    x.observe(notebookContainer, {childList: true});\n",
       "}}\n",
       "\n",
       "// Listen for the clearing of the current output cell\n",
       "var outputEl = gd.closest('.output');\n",
       "if (outputEl) {{\n",
       "    x.observe(outputEl, {childList: true});\n",
       "}}\n",
       "\n",
       "                        })                };                });            </script>        </div>"
      ]
     },
     "metadata": {},
     "output_type": "display_data"
    }
   ],
   "source": [
    "fig = go.Figure()\n",
    "fig.update_layout(\n",
    "    autosize=False,\n",
    "    width=1400,\n",
    "    height=500,\n",
    ")\n",
    "fig.add_trace(go.Scatter(x=x_range, y=accuracy_list, mode='lines+markers+text', connectgaps=True))\n",
    "fig.update_traces(textposition=\"top center\")\n",
    "# fig.update_layout(\n",
    "#     xaxis = dict(\n",
    "#         tickmode = 'linear',\n",
    "#         tickvals =x_range,\n",
    "#     )\n",
    "# fig.update_layout(annotations=[\n",
    "#             go.layout.Annotation(x=x_range,\n",
    "#             y=accuracy_list,\n",
    "#             text=acc_list,\n",
    "#             align='center',\n",
    "#             showarrow=False,\n",
    "#             yanchor='bottom',\n",
    "#             textangle=90) for point in accuracy_list])\n",
    "# # )\n",
    "\n",
    "\n",
    "for i, m, l in zip(x_range, accuracy_list, acc_list):\n",
    "    fig.add_annotation(go.layout.Annotation(\n",
    "    x = i,\n",
    "    y = m+ 0.005,\n",
    "    text = l,\n",
    "    align='center',\n",
    "    showarrow=False,\n",
    "    yanchor='bottom',\n",
    "    textangle=-90))\n",
    "\n",
    "fig.show()"
   ]
  },
  {
   "cell_type": "markdown",
   "id": "cf7443c2-7649-4eaf-96a5-4434c8b87902",
   "metadata": {},
   "source": [
    "## Feature selection while we are doing classification on survival "
   ]
  },
  {
   "cell_type": "code",
   "execution_count": 17,
   "id": "8dee8724-34d1-4324-8cf0-bea54642fc95",
   "metadata": {},
   "outputs": [],
   "source": [
    "X_train, X_test, Y_train, Y_test = train_test_split(df.iloc[:,3:], df['Death_0 /Survival_1'].to_list(), test_size=0.2, random_state=0)"
   ]
  },
  {
   "cell_type": "code",
   "execution_count": 18,
   "id": "32f5dbbb-4dfb-4506-8975-010c8bef69a8",
   "metadata": {},
   "outputs": [
    {
     "name": "stdout",
     "output_type": "stream",
     "text": [
      "(8630, 46)\n",
      "(2158, 46)\n"
     ]
    }
   ],
   "source": [
    "print(X_train.shape)\n",
    "print(X_test.shape)"
   ]
  },
  {
   "cell_type": "code",
   "execution_count": 19,
   "id": "ada1e9a9-32b4-4d97-bda6-1c5f21b07c87",
   "metadata": {},
   "outputs": [
    {
     "data": {
      "text/plain": [
       "{0: 1275, 1: 883}"
      ]
     },
     "execution_count": 19,
     "metadata": {},
     "output_type": "execute_result"
    }
   ],
   "source": [
    "{i:Y_test.count(i) for i in Y_test}"
   ]
  },
  {
   "cell_type": "code",
   "execution_count": 20,
   "id": "53e23af9-5992-401c-abc0-e2478e137783",
   "metadata": {},
   "outputs": [],
   "source": [
    "rf_survival = RandomForestClassifier(bootstrap=False, n_estimators = 1000) \n",
    "rf_survival.fit(X_train, Y_train)\n",
    "Y_pred = rf_survival.predict(X_test)"
   ]
  },
  {
   "cell_type": "code",
   "execution_count": 21,
   "id": "39eac677-4fc8-4345-b428-d606855aa947",
   "metadata": {},
   "outputs": [
    {
     "data": {
      "image/png": "[encoded data removed]",
      "text/plain": [
       "<Figure size 1500x1200 with 1 Axes>"
      ]
     },
     "metadata": {},
     "output_type": "display_data"
    }
   ],
   "source": [
    "plt.figure(figsize=(15, 12))  \n",
    "f_i = list(zip(df.columns[3:],rf_survival.feature_importances_))\n",
    "f_i.sort(key = lambda x : x[1])\n",
    "plt.barh([x[0] for x in f_i],[x[1] for x in f_i])\n",
    "plt.show()"
   ]
  },
  {
   "cell_type": "code",
   "execution_count": 22,
   "id": "e541c760-9513-44df-a05f-ef027141a1e2",
   "metadata": {},
   "outputs": [
    {
     "data": {
      "text/plain": [
       "[('IL-17A', 0.010295154269712031),\n",
       " ('HLA-DR', 0.010326191164786495),\n",
       " ('CD32', 0.010426666989691552),\n",
       " ('CD25', 0.010531486607747713),\n",
       " ('CD181', 0.010556190785955257),\n",
       " ('TGF-β', 0.011083689310039696),\n",
       " ('CD185', 0.011336154768047085),\n",
       " ('IFN-γ', 0.011441778459261488),\n",
       " ('VEGF', 0.011637097123740328),\n",
       " ('TNF-α', 0.01167497697745896),\n",
       " ('Perforin', 0.012248361526646498),\n",
       " ('CD14', 0.012266845980158318),\n",
       " ('IL-1β', 0.012393314207458258),\n",
       " ('CD8a', 0.012717822136923598),\n",
       " ('CD18', 0.012732546611213294),\n",
       " ('IL-6', 0.0127778498345992),\n",
       " ('CD182', 0.012907323772017336),\n",
       " ('IL-22', 0.01312094824168755),\n",
       " ('IL-5', 0.014165991785382992),\n",
       " ('CD183', 0.015043956318326652),\n",
       " ('CD284', 0.01592834296928377),\n",
       " ('CD28', 0.015977580918299424),\n",
       " ('CD196', 0.016663412233823553),\n",
       " ('IL-2', 0.01675984283969179),\n",
       " ('CD279', 0.016820926358268123),\n",
       " ('CD193', 0.01705274593622199),\n",
       " ('CD15', 0.01791939885045676),\n",
       " ('CD4', 0.018054012810308745),\n",
       " ('IL-4', 0.018582317488293768),\n",
       " ('CD66a', 0.019187500613227056),\n",
       " ('CCL4', 0.0196429929528602),\n",
       " ('IL-9', 0.020415521320318004),\n",
       " ('IL-10', 0.022120670197642335),\n",
       " ('IL-21', 0.022399507928666167),\n",
       " ('GM-CSF', 0.024810959449012196),\n",
       " ('CD197', 0.025556202778075496),\n",
       " ('CD194', 0.025894225435252154),\n",
       " ('CD69', 0.026182839066745),\n",
       " ('CD11b', 0.026961502697080145),\n",
       " ('Granzyme B', 0.03129034131572281),\n",
       " ('CD55', 0.03586791721676674),\n",
       " ('CD184', 0.03997600509216407),\n",
       " ('CD191', 0.045354866811687884),\n",
       " ('IL-12', 0.050508326232085586),\n",
       " ('β-Actin', 0.07288953795741605),\n",
       " ('CD62L', 0.09749815565977589)]"
      ]
     },
     "execution_count": 22,
     "metadata": {},
     "output_type": "execute_result"
    }
   ],
   "source": [
    "f_i"
   ]
  },
  {
   "cell_type": "code",
   "execution_count": 31,
   "id": "3c021e90-dd03-49ea-89d8-d56510102cb9",
   "metadata": {},
   "outputs": [
    {
     "name": "stdout",
     "output_type": "stream",
     "text": [
      "Random forest 0.8943466172381835\n",
      "[[1196   79]\n",
      " [ 149  734]]\n"
     ]
    }
   ],
   "source": [
    "Y_pred = rf_survival.predict(X_test)\n",
    "print(\"Random forest\", metrics.accuracy_score(Y_test, Y_pred))\n",
    "\n",
    "conf_mat = confusion_matrix(Y_test, Y_pred)\n",
    "print(conf_mat)"
   ]
  },
  {
   "cell_type": "code",
   "execution_count": 32,
   "id": "31e21889-6e2d-4a80-9bca-0f4104028518",
   "metadata": {},
   "outputs": [
    {
     "name": "stdout",
     "output_type": "stream",
     "text": [
      "              precision    recall  f1-score   support\n",
      "\n",
      "           0       0.89      0.94      0.91      1275\n",
      "           1       0.90      0.83      0.87       883\n",
      "\n",
      "    accuracy                           0.89      2158\n",
      "   macro avg       0.90      0.88      0.89      2158\n",
      "weighted avg       0.89      0.89      0.89      2158\n",
      "\n"
     ]
    }
   ],
   "source": [
    "print(classification_report(Y_test, Y_pred))"
   ]
  },
  {
   "cell_type": "code",
   "execution_count": 33,
   "id": "60ecaee7-7444-4765-bf25-724f03afc29e",
   "metadata": {},
   "outputs": [
    {
     "data": {
      "image/png": "[encoded data removed]",
      "text/plain": [
       "<Figure size 1000x600 with 2 Axes>"
      ]
     },
     "metadata": {},
     "output_type": "display_data"
    }
   ],
   "source": [
    "# Get and reshape confusion matrix data\n",
    "matrix = confusion_matrix(Y_test, Y_pred)\n",
    "matrix = matrix.astype('float') / matrix.sum(axis=1)[:, np.newaxis]\n",
    "\n",
    "# Build the plot\n",
    "plt.figure(figsize=(10,6))\n",
    "sns.set(font_scale=1.4)\n",
    "sns.heatmap(matrix, annot=True, annot_kws={'size':9},\n",
    "            cmap=plt.cm.Greens, linewidths=0.2)\n",
    "\n",
    "# Add labels to the plot\n",
    "class_names = ['0', '1']\n",
    "tick_marks = np.arange(len(class_names))\n",
    "tick_marks2 = tick_marks + 0.5\n",
    "plt.xticks(tick_marks, class_names, rotation=25)\n",
    "plt.yticks(tick_marks2, class_names, rotation=0)\n",
    "plt.xlabel('Predicted label')\n",
    "plt.ylabel('True label')\n",
    "plt.title('Confusion Matrix for Random Forest Model')\n",
    "plt.show()"
   ]
  },
  {
   "cell_type": "code",
   "execution_count": null,
   "id": "638f5e57-5504-4eaf-b8b3-ba09c79b5097",
   "metadata": {},
   "outputs": [],
   "source": []
  },
  {
   "cell_type": "markdown",
   "id": "d39bfec0-fce1-4d67-8347-49291f8ff336",
   "metadata": {},
   "source": [
    "## Picking up top features and do the classification"
   ]
  },
  {
   "cell_type": "code",
   "execution_count": 34,
   "id": "896f8b68-41fa-4164-bd37-e8af9f34a94f",
   "metadata": {},
   "outputs": [
    {
     "name": "stdout",
     "output_type": "stream",
     "text": [
      "(8630, 5) (2158, 5) 8630 2158\n",
      "('CD184', 0.038859405819042306) 5 Accuracy: 0.7947173308619092\n",
      "[[1072  203]\n",
      " [ 240  643]]\n",
      "(8630, 6) (2158, 6) 8630 2158\n",
      "('CD55', 0.035563224418748485) 6 Accuracy: 0.7961075069508804\n",
      "[[1077  198]\n",
      " [ 242  641]]\n",
      "(8630, 7) (2158, 7) 8630 2158\n",
      "('Granzyme B', 0.030830428029535138) 7 Accuracy: 0.8049119555143651\n",
      "[[1081  194]\n",
      " [ 227  656]]\n",
      "(8630, 8) (2158, 8) 8630 2158\n",
      "('CD11b', 0.02736812169939583) 8 Accuracy: 0.8164967562557924\n",
      "[[1105  170]\n",
      " [ 226  657]]\n",
      "(8630, 9) (2158, 9) 8630 2158\n",
      "('CD194', 0.026176834994108895) 9 Accuracy: 0.8253012048192772\n",
      "[[1111  164]\n",
      " [ 213  670]]\n",
      "(8630, 10) (2158, 10) 8630 2158\n",
      "('CD69', 0.026069003111570392) 10 Accuracy: 0.8443002780352178\n",
      "[[1139  136]\n",
      " [ 200  683]]\n",
      "(8630, 11) (2158, 11) 8630 2158\n",
      "('CD197', 0.0257553763073859) 11 Accuracy: 0.8456904541241891\n",
      "[[1141  134]\n",
      " [ 199  684]]\n",
      "(8630, 12) (2158, 12) 8630 2158\n",
      "('GM-CSF', 0.024350372800694704) 12 Accuracy: 0.8521779425393883\n",
      "[[1154  121]\n",
      " [ 198  685]]\n",
      "(8630, 13) (2158, 13) 8630 2158\n",
      "('IL-21', 0.022936551536160744) 13 Accuracy: 0.8568118628359592\n",
      "[[1151  124]\n",
      " [ 185  698]]\n",
      "(8630, 14) (2158, 14) 8630 2158\n",
      "('IL-10', 0.021639559264082803) 14 Accuracy: 0.8632993512511585\n",
      "[[1158  117]\n",
      " [ 178  705]]\n",
      "(8630, 15) (2158, 15) 8630 2158\n",
      "('IL-9', 0.020462638383149843) 15 Accuracy: 0.8688600556070436\n",
      "[[1167  108]\n",
      " [ 175  708]]\n",
      "(8630, 16) (2158, 16) 8630 2158\n",
      "('CCL4', 0.01991006209507706) 16 Accuracy: 0.8721037998146431\n",
      "[[1171  104]\n",
      " [ 172  711]]\n",
      "(8630, 17) (2158, 17) 8630 2158\n",
      "('CD66a', 0.019413777886979487) 17 Accuracy: 0.8790546802594995\n",
      "[[1180   95]\n",
      " [ 166  717]]\n",
      "(8630, 18) (2158, 18) 8630 2158\n",
      "('IL-4', 0.019240431622712953) 18 Accuracy: 0.8804448563484708\n",
      "[[1180   95]\n",
      " [ 163  720]]\n",
      "(8630, 19) (2158, 19) 8630 2158\n",
      "('CD4', 0.017718580179998646) 19 Accuracy: 0.8809082483781279\n",
      "[[1180   95]\n",
      " [ 162  721]]\n",
      "(8630, 20) (2158, 20) 8630 2158\n",
      "('CD15', 0.017614538688705907) 20 Accuracy: 0.8804448563484708\n",
      "[[1183   92]\n",
      " [ 166  717]]\n",
      "(8630, 21) (2158, 21) 8630 2158\n",
      "('CD193', 0.01713819680556916) 21 Accuracy: 0.8785912882298424\n",
      "[[1179   96]\n",
      " [ 166  717]]\n",
      "(8630, 22) (2158, 22) 8630 2158\n",
      "('CD279', 0.01658660976313151) 22 Accuracy: 0.8832252085264134\n",
      "[[1178   97]\n",
      " [ 155  728]]\n",
      "(8630, 23) (2158, 23) 8630 2158\n",
      "('CD196', 0.016555338940486032) 23 Accuracy: 0.8832252085264134\n",
      "[[1179   96]\n",
      " [ 156  727]]\n",
      "(8630, 24) (2158, 24) 8630 2158\n",
      "('IL-2', 0.016403300774135553) 24 Accuracy: 0.8804448563484708\n",
      "[[1174  101]\n",
      " [ 157  726]]\n",
      "(8630, 25) (2158, 25) 8630 2158\n",
      "('CD284', 0.01627010679426388) 25 Accuracy: 0.8836886005560705\n",
      "[[1179   96]\n",
      " [ 155  728]]\n",
      "(8630, 26) (2158, 26) 8630 2158\n",
      "('CD28', 0.016222109664045987) 26 Accuracy: 0.8795180722891566\n",
      "[[1178   97]\n",
      " [ 163  720]]\n",
      "(8630, 27) (2158, 27) 8630 2158\n",
      "('CD183', 0.015268272954470074) 27 Accuracy: 0.8827618164967562\n",
      "[[1179   96]\n",
      " [ 157  726]]\n",
      "(8630, 28) (2158, 28) 8630 2158\n",
      "('IL-5', 0.01399993751170863) 28 Accuracy: 0.8864689527340129\n",
      "[[1187   88]\n",
      " [ 157  726]]\n",
      "(8630, 29) (2158, 29) 8630 2158\n",
      "('IL-22', 0.01293645621083442) 29 Accuracy: 0.8892493049119555\n",
      "[[1194   81]\n",
      " [ 158  725]]\n",
      "(8630, 30) (2158, 30) 8630 2158\n",
      "('CD182', 0.012887577341207716) 30 Accuracy: 0.8878591288229842\n",
      "[[1194   81]\n",
      " [ 161  722]]\n",
      "(8630, 31) (2158, 31) 8630 2158\n",
      "('CD8a', 0.012845652786243977) 31 Accuracy: 0.8892493049119555\n",
      "[[1192   83]\n",
      " [ 156  727]]\n",
      "(8630, 32) (2158, 32) 8630 2158\n",
      "('IL-6', 0.01277743359942278) 32 Accuracy: 0.8887859128822985\n",
      "[[1193   82]\n",
      " [ 158  725]]\n",
      "(8630, 33) (2158, 33) 8630 2158\n",
      "('CD18', 0.01268045316550785) 33 Accuracy: 0.8929564411492122\n",
      "[[1199   76]\n",
      " [ 155  728]]\n",
      "(8630, 34) (2158, 34) 8630 2158\n",
      "('Perforin', 0.012328699738867322) 34 Accuracy: 0.891566265060241\n",
      "[[1199   76]\n",
      " [ 158  725]]\n",
      "(8630, 35) (2158, 35) 8630 2158\n",
      "('CD14', 0.012257704958791898) 35 Accuracy: 0.8878591288229842\n",
      "[[1195   80]\n",
      " [ 162  721]]\n",
      "(8630, 36) (2158, 36) 8630 2158\n",
      "('IL-1β', 0.01206904724071013) 36 Accuracy: 0.8906394810009268\n",
      "[[1194   81]\n",
      " [ 155  728]]\n",
      "(8630, 37) (2158, 37) 8630 2158\n",
      "('VEGF', 0.011914848736602108) 37 Accuracy: 0.8855421686746988\n",
      "[[1189   86]\n",
      " [ 161  722]]\n",
      "(8630, 38) (2158, 38) 8630 2158\n",
      "('TNF-α', 0.01171307468766038) 38 Accuracy: 0.8836886005560705\n",
      "[[1186   89]\n",
      " [ 162  721]]\n",
      "(8630, 39) (2158, 39) 8630 2158\n",
      "('CD185', 0.011414687630591247) 39 Accuracy: 0.8860055607043559\n",
      "[[1190   85]\n",
      " [ 161  722]]\n",
      "(8630, 40) (2158, 40) 8630 2158\n",
      "('IFN-γ', 0.0113010087141297) 40 Accuracy: 0.8869323447636701\n",
      "[[1191   84]\n",
      " [ 160  723]]\n",
      "(8630, 41) (2158, 41) 8630 2158\n",
      "('TGF-β', 0.011213704822273586) 41 Accuracy: 0.8924930491195552\n",
      "[[1200   75]\n",
      " [ 157  726]]\n",
      "(8630, 42) (2158, 42) 8630 2158\n",
      "('CD181', 0.010600009087921093) 42 Accuracy: 0.8873957367933272\n",
      "[[1193   82]\n",
      " [ 161  722]]\n",
      "(8630, 43) (2158, 43) 8630 2158\n",
      "('CD25', 0.010487452954575292) 43 Accuracy: 0.8892493049119555\n",
      "[[1201   74]\n",
      " [ 165  718]]\n",
      "(8630, 44) (2158, 44) 8630 2158\n",
      "('IL-17A', 0.010290842872903255) 44 Accuracy: 0.8901760889712697\n",
      "[[1196   79]\n",
      " [ 158  725]]\n",
      "(8630, 45) (2158, 45) 8630 2158\n",
      "('CD32', 0.0102584446776894) 45 Accuracy: 0.8887859128822985\n",
      "[[1197   78]\n",
      " [ 162  721]]\n",
      "(8630, 46) (2158, 46) 8630 2158\n",
      "('HLA-DR', 0.010144700223711669) 46 Accuracy: 0.8901760889712697\n",
      "[[1198   77]\n",
      " [ 160  723]]\n"
     ]
    }
   ],
   "source": [
    "#label_text = list(zip(range(5,20),accuracy_list))\n",
    "x_range = list(range(5,47))\n",
    "accuracy_list = []\n",
    "for j in range(5,47):\n",
    "    important_features = [ 'Severity',\t'Death_0 /Survival_1']\n",
    "    for i in reversed(f_i[-j:]):\n",
    "        important_features.append(i[0])\n",
    "    df_temp = df[important_features]\n",
    "    X_train, X_test, Y_train, Y_test = train_test_split(df_temp.iloc[:,2:], df['Death_0 /Survival_1'].to_list(), test_size=0.2, random_state=0)\n",
    "    print(X_train.shape, X_test.shape, len(Y_train), len(Y_test))\n",
    "          \n",
    "    clf = RandomForestClassifier(n_estimators = 1000) \n",
    "    clf.fit(X_train, Y_train)\n",
    "    Y_pred = clf.predict(X_test)\n",
    "    print(i,j, \"Accuracy:\",metrics.accuracy_score(Y_test, Y_pred))\n",
    "    accuracy_list.append(metrics.accuracy_score(Y_test, Y_pred))\n",
    "    print(confusion_matrix(Y_test, Y_pred))"
   ]
  },
  {
   "cell_type": "code",
   "execution_count": 35,
   "id": "eccdda5a",
   "metadata": {},
   "outputs": [
    {
     "name": "stdout",
     "output_type": "stream",
     "text": [
      "[0.795, 0.796, 0.805, 0.816, 0.825, 0.844, 0.846, 0.852, 0.857, 0.863, 0.869, 0.872, 0.879, 0.88, 0.881, 0.88, 0.879, 0.883, 0.883, 0.88, 0.884, 0.88, 0.883, 0.886, 0.889, 0.888, 0.889, 0.889, 0.893, 0.892, 0.888, 0.891, 0.886, 0.884, 0.886, 0.887, 0.892, 0.887, 0.889, 0.89, 0.889, 0.89]\n"
     ]
    }
   ],
   "source": [
    "#label_text = list(zip(range(5,20),accuracy_list))\n",
    "x_range = list(range(5,47))\n",
    "acc_list = [round(item, 3) for item in accuracy_list]\n",
    "print(acc_list)"
   ]
  },
  {
   "cell_type": "code",
   "execution_count": 41,
   "id": "d786f0c5-f0c6-4ada-8f53-64e228ce9e63",
   "metadata": {},
   "outputs": [
    {
     "data": {
      "application/vnd.plotly.v1+json": {
       "config": {
        "plotlyServerURL": "https://plot.ly"
       },
       "data": [
        {
         "connectgaps": true,
         "mode": "lines+markers+text",
         "text": [
          "0.795",
          "0.796",
          "0.805",
          "0.816",
          "0.825",
          "0.844",
          "0.846",
          "0.852",
          "0.857",
          "0.863",
          "0.869",
          "0.872",
          "0.879",
          "0.88",
          "0.881",
          "0.88",
          "0.879",
          "0.883",
          "0.883",
          "0.88",
          "0.884",
          "0.88",
          "0.883",
          "0.886",
          "0.889",
          "0.888",
          "0.889",
          "0.889",
          "0.893",
          "0.892",
          "0.888",
          "0.891",
          "0.886",
          "0.884",
          "0.886",
          "0.887",
          "0.892",
          "0.887",
          "0.889",
          "0.89",
          "0.889",
          "0.89"
         ],
         "textposition": "top center",
         "type": "scatter",
         "x": [
          5,
          6,
          7,
          8,
          9,
          10,
          11,
          12,
          13,
          14,
          15,
          16,
          17,
          18,
          19,
          20,
          21,
          22,
          23,
          24,
          25,
          26,
          27,
          28,
          29,
          30,
          31,
          32,
          33,
          34,
          35,
          36,
          37,
          38,
          39,
          40,
          41,
          42,
          43,
          44,
          45,
          46
         ],
         "y": [
          0.7947173308619092,
          0.7961075069508804,
          0.8049119555143651,
          0.8164967562557924,
          0.8253012048192772,
          0.8443002780352178,
          0.8456904541241891,
          0.8521779425393883,
          0.8568118628359592,
          0.8632993512511585,
          0.8688600556070436,
          0.8721037998146431,
          0.8790546802594995,
          0.8804448563484708,
          0.8809082483781279,
          0.8804448563484708,
          0.8785912882298424,
          0.8832252085264134,
          0.8832252085264134,
          0.8804448563484708,
          0.8836886005560705,
          0.8795180722891566,
          0.8827618164967562,
          0.8864689527340129,
          0.8892493049119555,
          0.8878591288229842,
          0.8892493049119555,
          0.8887859128822985,
          0.8929564411492122,
          0.891566265060241,
          0.8878591288229842,
          0.8906394810009268,
          0.8855421686746988,
          0.8836886005560705,
          0.8860055607043559,
          0.8869323447636701,
          0.8924930491195552,
          0.8873957367933272,
          0.8892493049119555,
          0.8901760889712697,
          0.8887859128822985,
          0.8901760889712697
         ]
        }
       ],
       "layout": {
        "autosize": false,
        "height": 500,
        "template": {
         "data": {
          "bar": [
           {
            "error_x": {
             "color": "#2a3f5f"
            },
            "error_y": {
             "color": "#2a3f5f"
            },
            "marker": {
             "line": {
              "color": "#E5ECF6",
              "width": 0.5
             },
             "pattern": {
              "fillmode": "overlay",
              "size": 10,
              "solidity": 0.2
             }
            },
            "type": "bar"
           }
          ],
          "barpolar": [
           {
            "marker": {
             "line": {
              "color": "#E5ECF6",
              "width": 0.5
             },
             "pattern": {
              "fillmode": "overlay",
              "size": 10,
              "solidity": 0.2
             }
            },
            "type": "barpolar"
           }
          ],
          "carpet": [
           {
            "aaxis": {
             "endlinecolor": "#2a3f5f",
             "gridcolor": "white",
             "linecolor": "white",
             "minorgridcolor": "white",
             "startlinecolor": "#2a3f5f"
            },
            "baxis": {
             "endlinecolor": "#2a3f5f",
             "gridcolor": "white",
             "linecolor": "white",
             "minorgridcolor": "white",
             "startlinecolor": "#2a3f5f"
            },
            "type": "carpet"
           }
          ],
          "choropleth": [
           {
            "colorbar": {
             "outlinewidth": 0,
             "ticks": ""
            },
            "type": "choropleth"
           }
          ],
          "contour": [
           {
            "colorbar": {
             "outlinewidth": 0,
             "ticks": ""
            },
            "colorscale": [
             [
              0,
              "#0d0887"
             ],
             [
              0.1111111111111111,
              "#46039f"
             ],
             [
              0.2222222222222222,
              "#7201a8"
             ],
             [
              0.3333333333333333,
              "#9c179e"
             ],
             [
              0.4444444444444444,
              "#bd3786"
             ],
             [
              0.5555555555555556,
              "#d8576b"
             ],
             [
              0.6666666666666666,
              "#ed7953"
             ],
             [
              0.7777777777777778,
              "#fb9f3a"
             ],
             [
              0.8888888888888888,
              "#fdca26"
             ],
             [
              1,
              "#f0f921"
             ]
            ],
            "type": "contour"
           }
          ],
          "contourcarpet": [
           {
            "colorbar": {
             "outlinewidth": 0,
             "ticks": ""
            },
            "type": "contourcarpet"
           }
          ],
          "heatmap": [
           {
            "colorbar": {
             "outlinewidth": 0,
             "ticks": ""
            },
            "colorscale": [
             [
              0,
              "#0d0887"
             ],
             [
              0.1111111111111111,
              "#46039f"
             ],
             [
              0.2222222222222222,
              "#7201a8"
             ],
             [
              0.3333333333333333,
              "#9c179e"
             ],
             [
              0.4444444444444444,
              "#bd3786"
             ],
             [
              0.5555555555555556,
              "#d8576b"
             ],
             [
              0.6666666666666666,
              "#ed7953"
             ],
             [
              0.7777777777777778,
              "#fb9f3a"
             ],
             [
              0.8888888888888888,
              "#fdca26"
             ],
             [
              1,
              "#f0f921"
             ]
            ],
            "type": "heatmap"
           }
          ],
          "heatmapgl": [
           {
            "colorbar": {
             "outlinewidth": 0,
             "ticks": ""
            },
            "colorscale": [
             [
              0,
              "#0d0887"
             ],
             [
              0.1111111111111111,
              "#46039f"
             ],
             [
              0.2222222222222222,
              "#7201a8"
             ],
             [
              0.3333333333333333,
              "#9c179e"
             ],
             [
              0.4444444444444444,
              "#bd3786"
             ],
             [
              0.5555555555555556,
              "#d8576b"
             ],
             [
              0.6666666666666666,
              "#ed7953"
             ],
             [
              0.7777777777777778,
              "#fb9f3a"
             ],
             [
              0.8888888888888888,
              "#fdca26"
             ],
             [
              1,
              "#f0f921"
             ]
            ],
            "type": "heatmapgl"
           }
          ],
          "histogram": [
           {
            "marker": {
             "pattern": {
              "fillmode": "overlay",
              "size": 10,
              "solidity": 0.2
             }
            },
            "type": "histogram"
           }
          ],
          "histogram2d": [
           {
            "colorbar": {
             "outlinewidth": 0,
             "ticks": ""
            },
            "colorscale": [
             [
              0,
              "#0d0887"
             ],
             [
              0.1111111111111111,
              "#46039f"
             ],
             [
              0.2222222222222222,
              "#7201a8"
             ],
             [
              0.3333333333333333,
              "#9c179e"
             ],
             [
              0.4444444444444444,
              "#bd3786"
             ],
             [
              0.5555555555555556,
              "#d8576b"
             ],
             [
              0.6666666666666666,
              "#ed7953"
             ],
             [
              0.7777777777777778,
              "#fb9f3a"
             ],
             [
              0.8888888888888888,
              "#fdca26"
             ],
             [
              1,
              "#f0f921"
             ]
            ],
            "type": "histogram2d"
           }
          ],
          "histogram2dcontour": [
           {
            "colorbar": {
             "outlinewidth": 0,
             "ticks": ""
            },
            "colorscale": [
             [
              0,
              "#0d0887"
             ],
             [
              0.1111111111111111,
              "#46039f"
             ],
             [
              0.2222222222222222,
              "#7201a8"
             ],
             [
              0.3333333333333333,
              "#9c179e"
             ],
             [
              0.4444444444444444,
              "#bd3786"
             ],
             [
              0.5555555555555556,
              "#d8576b"
             ],
             [
              0.6666666666666666,
              "#ed7953"
             ],
             [
              0.7777777777777778,
              "#fb9f3a"
             ],
             [
              0.8888888888888888,
              "#fdca26"
             ],
             [
              1,
              "#f0f921"
             ]
            ],
            "type": "histogram2dcontour"
           }
          ],
          "mesh3d": [
           {
            "colorbar": {
             "outlinewidth": 0,
             "ticks": ""
            },
            "type": "mesh3d"
           }
          ],
          "parcoords": [
           {
            "line": {
             "colorbar": {
              "outlinewidth": 0,
              "ticks": ""
             }
            },
            "type": "parcoords"
           }
          ],
          "pie": [
           {
            "automargin": true,
            "type": "pie"
           }
          ],
          "scatter": [
           {
            "fillpattern": {
             "fillmode": "overlay",
             "size": 10,
             "solidity": 0.2
            },
            "type": "scatter"
           }
          ],
          "scatter3d": [
           {
            "line": {
             "colorbar": {
              "outlinewidth": 0,
              "ticks": ""
             }
            },
            "marker": {
             "colorbar": {
              "outlinewidth": 0,
              "ticks": ""
             }
            },
            "type": "scatter3d"
           }
          ],
          "scattercarpet": [
           {
            "marker": {
             "colorbar": {
              "outlinewidth": 0,
              "ticks": ""
             }
            },
            "type": "scattercarpet"
           }
          ],
          "scattergeo": [
           {
            "marker": {
             "colorbar": {
              "outlinewidth": 0,
              "ticks": ""
             }
            },
            "type": "scattergeo"
           }
          ],
          "scattergl": [
           {
            "marker": {
             "colorbar": {
              "outlinewidth": 0,
              "ticks": ""
             }
            },
            "type": "scattergl"
           }
          ],
          "scattermapbox": [
           {
            "marker": {
             "colorbar": {
              "outlinewidth": 0,
              "ticks": ""
             }
            },
            "type": "scattermapbox"
           }
          ],
          "scatterpolar": [
           {
            "marker": {
             "colorbar": {
              "outlinewidth": 0,
              "ticks": ""
             }
            },
            "type": "scatterpolar"
           }
          ],
          "scatterpolargl": [
           {
            "marker": {
             "colorbar": {
              "outlinewidth": 0,
              "ticks": ""
             }
            },
            "type": "scatterpolargl"
           }
          ],
          "scatterternary": [
           {
            "marker": {
             "colorbar": {
              "outlinewidth": 0,
              "ticks": ""
             }
            },
            "type": "scatterternary"
           }
          ],
          "surface": [
           {
            "colorbar": {
             "outlinewidth": 0,
             "ticks": ""
            },
            "colorscale": [
             [
              0,
              "#0d0887"
             ],
             [
              0.1111111111111111,
              "#46039f"
             ],
             [
              0.2222222222222222,
              "#7201a8"
             ],
             [
              0.3333333333333333,
              "#9c179e"
             ],
             [
              0.4444444444444444,
              "#bd3786"
             ],
             [
              0.5555555555555556,
              "#d8576b"
             ],
             [
              0.6666666666666666,
              "#ed7953"
             ],
             [
              0.7777777777777778,
              "#fb9f3a"
             ],
             [
              0.8888888888888888,
              "#fdca26"
             ],
             [
              1,
              "#f0f921"
             ]
            ],
            "type": "surface"
           }
          ],
          "table": [
           {
            "cells": {
             "fill": {
              "color": "#EBF0F8"
             },
             "line": {
              "color": "white"
             }
            },
            "header": {
             "fill": {
              "color": "#C8D4E3"
             },
             "line": {
              "color": "white"
             }
            },
            "type": "table"
           }
          ]
         },
         "layout": {
          "annotationdefaults": {
           "arrowcolor": "#2a3f5f",
           "arrowhead": 0,
           "arrowwidth": 1
          },
          "autotypenumbers": "strict",
          "coloraxis": {
           "colorbar": {
            "outlinewidth": 0,
            "ticks": ""
           }
          },
          "colorscale": {
           "diverging": [
            [
             0,
             "#8e0152"
            ],
            [
             0.1,
             "#c51b7d"
            ],
            [
             0.2,
             "#de77ae"
            ],
            [
             0.3,
             "#f1b6da"
            ],
            [
             0.4,
             "#fde0ef"
            ],
            [
             0.5,
             "#f7f7f7"
            ],
            [
             0.6,
             "#e6f5d0"
            ],
            [
             0.7,
             "#b8e186"
            ],
            [
             0.8,
             "#7fbc41"
            ],
            [
             0.9,
             "#4d9221"
            ],
            [
             1,
             "#276419"
            ]
           ],
           "sequential": [
            [
             0,
             "#0d0887"
            ],
            [
             0.1111111111111111,
             "#46039f"
            ],
            [
             0.2222222222222222,
             "#7201a8"
            ],
            [
             0.3333333333333333,
             "#9c179e"
            ],
            [
             0.4444444444444444,
             "#bd3786"
            ],
            [
             0.5555555555555556,
             "#d8576b"
            ],
            [
             0.6666666666666666,
             "#ed7953"
            ],
            [
             0.7777777777777778,
             "#fb9f3a"
            ],
            [
             0.8888888888888888,
             "#fdca26"
            ],
            [
             1,
             "#f0f921"
            ]
           ],
           "sequentialminus": [
            [
             0,
             "#0d0887"
            ],
            [
             0.1111111111111111,
             "#46039f"
            ],
            [
             0.2222222222222222,
             "#7201a8"
            ],
            [
             0.3333333333333333,
             "#9c179e"
            ],
            [
             0.4444444444444444,
             "#bd3786"
            ],
            [
             0.5555555555555556,
             "#d8576b"
            ],
            [
             0.6666666666666666,
             "#ed7953"
            ],
            [
             0.7777777777777778,
             "#fb9f3a"
            ],
            [
             0.8888888888888888,
             "#fdca26"
            ],
            [
             1,
             "#f0f921"
            ]
           ]
          },
          "colorway": [
           "#636efa",
           "#EF553B",
           "#00cc96",
           "#ab63fa",
           "#FFA15A",
           "#19d3f3",
           "#FF6692",
           "#B6E880",
           "#FF97FF",
           "#FECB52"
          ],
          "font": {
           "color": "#2a3f5f"
          },
          "geo": {
           "bgcolor": "white",
           "lakecolor": "white",
           "landcolor": "#E5ECF6",
           "showlakes": true,
           "showland": true,
           "subunitcolor": "white"
          },
          "hoverlabel": {
           "align": "left"
          },
          "hovermode": "closest",
          "mapbox": {
           "style": "light"
          },
          "paper_bgcolor": "white",
          "plot_bgcolor": "#E5ECF6",
          "polar": {
           "angularaxis": {
            "gridcolor": "white",
            "linecolor": "white",
            "ticks": ""
           },
           "bgcolor": "#E5ECF6",
           "radialaxis": {
            "gridcolor": "white",
            "linecolor": "white",
            "ticks": ""
           }
          },
          "scene": {
           "xaxis": {
            "backgroundcolor": "#E5ECF6",
            "gridcolor": "white",
            "gridwidth": 2,
            "linecolor": "white",
            "showbackground": true,
            "ticks": "",
            "zerolinecolor": "white"
           },
           "yaxis": {
            "backgroundcolor": "#E5ECF6",
            "gridcolor": "white",
            "gridwidth": 2,
            "linecolor": "white",
            "showbackground": true,
            "ticks": "",
            "zerolinecolor": "white"
           },
           "zaxis": {
            "backgroundcolor": "#E5ECF6",
            "gridcolor": "white",
            "gridwidth": 2,
            "linecolor": "white",
            "showbackground": true,
            "ticks": "",
            "zerolinecolor": "white"
           }
          },
          "shapedefaults": {
           "line": {
            "color": "#2a3f5f"
           }
          },
          "ternary": {
           "aaxis": {
            "gridcolor": "white",
            "linecolor": "white",
            "ticks": ""
           },
           "baxis": {
            "gridcolor": "white",
            "linecolor": "white",
            "ticks": ""
           },
           "bgcolor": "#E5ECF6",
           "caxis": {
            "gridcolor": "white",
            "linecolor": "white",
            "ticks": ""
           }
          },
          "title": {
           "x": 0.05
          },
          "xaxis": {
           "automargin": true,
           "gridcolor": "white",
           "linecolor": "white",
           "ticks": "",
           "title": {
            "standoff": 15
           },
           "zerolinecolor": "white",
           "zerolinewidth": 2
          },
          "yaxis": {
           "automargin": true,
           "gridcolor": "white",
           "linecolor": "white",
           "ticks": "",
           "title": {
            "standoff": 15
           },
           "zerolinecolor": "white",
           "zerolinewidth": 2
          }
         }
        },
        "width": 1400,
        "xaxis": {
         "autorange": true,
         "range": [
          2.5681100586377985,
          48.4318899413622
         ],
         "tickmode": "linear",
         "tickvals": [
          5,
          6,
          7,
          8,
          9,
          10,
          11,
          12,
          13,
          14,
          15,
          16,
          17,
          18,
          19,
          20,
          21,
          22,
          23,
          24,
          25,
          26,
          27,
          28,
          29,
          30,
          31,
          32,
          33,
          34,
          35,
          36,
          37,
          38,
          39,
          40,
          41,
          42,
          43,
          44,
          45,
          46
         ],
         "type": "linear"
        },
        "yaxis": {
         "autorange": true,
         "range": [
          0.787800316857723,
          0.8998734551533984
         ],
         "type": "linear"
        }
       }
      },
      "image/png": "[encoded data removed]",
      "text/html": [
       "<div>                            <div id=\"171aee76-1377-43c5-9414-5c2885885334\" class=\"plotly-graph-div\" style=\"height:500px; width:1400px;\"></div>            <script type=\"text/javascript\">                require([\"plotly\"], function(Plotly) {                    window.PLOTLYENV=window.PLOTLYENV || {};                                    if (document.getElementById(\"171aee76-1377-43c5-9414-5c2885885334\")) {                    Plotly.newPlot(                        \"171aee76-1377-43c5-9414-5c2885885334\",                        [{\"connectgaps\":true,\"mode\":\"lines+markers+text\",\"text\":[\"0.795\",\"0.796\",\"0.805\",\"0.816\",\"0.825\",\"0.844\",\"0.846\",\"0.852\",\"0.857\",\"0.863\",\"0.869\",\"0.872\",\"0.879\",\"0.88\",\"0.881\",\"0.88\",\"0.879\",\"0.883\",\"0.883\",\"0.88\",\"0.884\",\"0.88\",\"0.883\",\"0.886\",\"0.889\",\"0.888\",\"0.889\",\"0.889\",\"0.893\",\"0.892\",\"0.888\",\"0.891\",\"0.886\",\"0.884\",\"0.886\",\"0.887\",\"0.892\",\"0.887\",\"0.889\",\"0.89\",\"0.889\",\"0.89\"],\"x\":[5,6,7,8,9,10,11,12,13,14,15,16,17,18,19,20,21,22,23,24,25,26,27,28,29,30,31,32,33,34,35,36,37,38,39,40,41,42,43,44,45,46],\"y\":[0.7947173308619092,0.7961075069508804,0.8049119555143651,0.8164967562557924,0.8253012048192772,0.8443002780352178,0.8456904541241891,0.8521779425393883,0.8568118628359592,0.8632993512511585,0.8688600556070436,0.8721037998146431,0.8790546802594995,0.8804448563484708,0.8809082483781279,0.8804448563484708,0.8785912882298424,0.8832252085264134,0.8832252085264134,0.8804448563484708,0.8836886005560705,0.8795180722891566,0.8827618164967562,0.8864689527340129,0.8892493049119555,0.8878591288229842,0.8892493049119555,0.8887859128822985,0.8929564411492122,0.891566265060241,0.8878591288229842,0.8906394810009268,0.8855421686746988,0.8836886005560705,0.8860055607043559,0.8869323447636701,0.8924930491195552,0.8873957367933272,0.8892493049119555,0.8901760889712697,0.8887859128822985,0.8901760889712697],\"type\":\"scatter\",\"textposition\":\"top center\"}],                        {\"template\":{\"data\":{\"histogram2dcontour\":[{\"type\":\"histogram2dcontour\",\"colorbar\":{\"outlinewidth\":0,\"ticks\":\"\"},\"colorscale\":[[0.0,\"#0d0887\"],[0.1111111111111111,\"#46039f\"],[0.2222222222222222,\"#7201a8\"],[0.3333333333333333,\"#9c179e\"],[0.4444444444444444,\"#bd3786\"],[0.5555555555555556,\"#d8576b\"],[0.6666666666666666,\"#ed7953\"],[0.7777777777777778,\"#fb9f3a\"],[0.8888888888888888,\"#fdca26\"],[1.0,\"#f0f921\"]]}],\"choropleth\":[{\"type\":\"choropleth\",\"colorbar\":{\"outlinewidth\":0,\"ticks\":\"\"}}],\"histogram2d\":[{\"type\":\"histogram2d\",\"colorbar\":{\"outlinewidth\":0,\"ticks\":\"\"},\"colorscale\":[[0.0,\"#0d0887\"],[0.1111111111111111,\"#46039f\"],[0.2222222222222222,\"#7201a8\"],[0.3333333333333333,\"#9c179e\"],[0.4444444444444444,\"#bd3786\"],[0.5555555555555556,\"#d8576b\"],[0.6666666666666666,\"#ed7953\"],[0.7777777777777778,\"#fb9f3a\"],[0.8888888888888888,\"#fdca26\"],[1.0,\"#f0f921\"]]}],\"heatmap\":[{\"type\":\"heatmap\",\"colorbar\":{\"outlinewidth\":0,\"ticks\":\"\"},\"colorscale\":[[0.0,\"#0d0887\"],[0.1111111111111111,\"#46039f\"],[0.2222222222222222,\"#7201a8\"],[0.3333333333333333,\"#9c179e\"],[0.4444444444444444,\"#bd3786\"],[0.5555555555555556,\"#d8576b\"],[0.6666666666666666,\"#ed7953\"],[0.7777777777777778,\"#fb9f3a\"],[0.8888888888888888,\"#fdca26\"],[1.0,\"#f0f921\"]]}],\"heatmapgl\":[{\"type\":\"heatmapgl\",\"colorbar\":{\"outlinewidth\":0,\"ticks\":\"\"},\"colorscale\":[[0.0,\"#0d0887\"],[0.1111111111111111,\"#46039f\"],[0.2222222222222222,\"#7201a8\"],[0.3333333333333333,\"#9c179e\"],[0.4444444444444444,\"#bd3786\"],[0.5555555555555556,\"#d8576b\"],[0.6666666666666666,\"#ed7953\"],[0.7777777777777778,\"#fb9f3a\"],[0.8888888888888888,\"#fdca26\"],[1.0,\"#f0f921\"]]}],\"contourcarpet\":[{\"type\":\"contourcarpet\",\"colorbar\":{\"outlinewidth\":0,\"ticks\":\"\"}}],\"contour\":[{\"type\":\"contour\",\"colorbar\":{\"outlinewidth\":0,\"ticks\":\"\"},\"colorscale\":[[0.0,\"#0d0887\"],[0.1111111111111111,\"#46039f\"],[0.2222222222222222,\"#7201a8\"],[0.3333333333333333,\"#9c179e\"],[0.4444444444444444,\"#bd3786\"],[0.5555555555555556,\"#d8576b\"],[0.6666666666666666,\"#ed7953\"],[0.7777777777777778,\"#fb9f3a\"],[0.8888888888888888,\"#fdca26\"],[1.0,\"#f0f921\"]]}],\"surface\":[{\"type\":\"surface\",\"colorbar\":{\"outlinewidth\":0,\"ticks\":\"\"},\"colorscale\":[[0.0,\"#0d0887\"],[0.1111111111111111,\"#46039f\"],[0.2222222222222222,\"#7201a8\"],[0.3333333333333333,\"#9c179e\"],[0.4444444444444444,\"#bd3786\"],[0.5555555555555556,\"#d8576b\"],[0.6666666666666666,\"#ed7953\"],[0.7777777777777778,\"#fb9f3a\"],[0.8888888888888888,\"#fdca26\"],[1.0,\"#f0f921\"]]}],\"mesh3d\":[{\"type\":\"mesh3d\",\"colorbar\":{\"outlinewidth\":0,\"ticks\":\"\"}}],\"scatter\":[{\"fillpattern\":{\"fillmode\":\"overlay\",\"size\":10,\"solidity\":0.2},\"type\":\"scatter\"}],\"parcoords\":[{\"type\":\"parcoords\",\"line\":{\"colorbar\":{\"outlinewidth\":0,\"ticks\":\"\"}}}],\"scatterpolargl\":[{\"type\":\"scatterpolargl\",\"marker\":{\"colorbar\":{\"outlinewidth\":0,\"ticks\":\"\"}}}],\"bar\":[{\"error_x\":{\"color\":\"#2a3f5f\"},\"error_y\":{\"color\":\"#2a3f5f\"},\"marker\":{\"line\":{\"color\":\"#E5ECF6\",\"width\":0.5},\"pattern\":{\"fillmode\":\"overlay\",\"size\":10,\"solidity\":0.2}},\"type\":\"bar\"}],\"scattergeo\":[{\"type\":\"scattergeo\",\"marker\":{\"colorbar\":{\"outlinewidth\":0,\"ticks\":\"\"}}}],\"scatterpolar\":[{\"type\":\"scatterpolar\",\"marker\":{\"colorbar\":{\"outlinewidth\":0,\"ticks\":\"\"}}}],\"histogram\":[{\"marker\":{\"pattern\":{\"fillmode\":\"overlay\",\"size\":10,\"solidity\":0.2}},\"type\":\"histogram\"}],\"scattergl\":[{\"type\":\"scattergl\",\"marker\":{\"colorbar\":{\"outlinewidth\":0,\"ticks\":\"\"}}}],\"scatter3d\":[{\"type\":\"scatter3d\",\"line\":{\"colorbar\":{\"outlinewidth\":0,\"ticks\":\"\"}},\"marker\":{\"colorbar\":{\"outlinewidth\":0,\"ticks\":\"\"}}}],\"scattermapbox\":[{\"type\":\"scattermapbox\",\"marker\":{\"colorbar\":{\"outlinewidth\":0,\"ticks\":\"\"}}}],\"scatterternary\":[{\"type\":\"scatterternary\",\"marker\":{\"colorbar\":{\"outlinewidth\":0,\"ticks\":\"\"}}}],\"scattercarpet\":[{\"type\":\"scattercarpet\",\"marker\":{\"colorbar\":{\"outlinewidth\":0,\"ticks\":\"\"}}}],\"carpet\":[{\"aaxis\":{\"endlinecolor\":\"#2a3f5f\",\"gridcolor\":\"white\",\"linecolor\":\"white\",\"minorgridcolor\":\"white\",\"startlinecolor\":\"#2a3f5f\"},\"baxis\":{\"endlinecolor\":\"#2a3f5f\",\"gridcolor\":\"white\",\"linecolor\":\"white\",\"minorgridcolor\":\"white\",\"startlinecolor\":\"#2a3f5f\"},\"type\":\"carpet\"}],\"table\":[{\"cells\":{\"fill\":{\"color\":\"#EBF0F8\"},\"line\":{\"color\":\"white\"}},\"header\":{\"fill\":{\"color\":\"#C8D4E3\"},\"line\":{\"color\":\"white\"}},\"type\":\"table\"}],\"barpolar\":[{\"marker\":{\"line\":{\"color\":\"#E5ECF6\",\"width\":0.5},\"pattern\":{\"fillmode\":\"overlay\",\"size\":10,\"solidity\":0.2}},\"type\":\"barpolar\"}],\"pie\":[{\"automargin\":true,\"type\":\"pie\"}]},\"layout\":{\"autotypenumbers\":\"strict\",\"colorway\":[\"#636efa\",\"#EF553B\",\"#00cc96\",\"#ab63fa\",\"#FFA15A\",\"#19d3f3\",\"#FF6692\",\"#B6E880\",\"#FF97FF\",\"#FECB52\"],\"font\":{\"color\":\"#2a3f5f\"},\"hovermode\":\"closest\",\"hoverlabel\":{\"align\":\"left\"},\"paper_bgcolor\":\"white\",\"plot_bgcolor\":\"#E5ECF6\",\"polar\":{\"bgcolor\":\"#E5ECF6\",\"angularaxis\":{\"gridcolor\":\"white\",\"linecolor\":\"white\",\"ticks\":\"\"},\"radialaxis\":{\"gridcolor\":\"white\",\"linecolor\":\"white\",\"ticks\":\"\"}},\"ternary\":{\"bgcolor\":\"#E5ECF6\",\"aaxis\":{\"gridcolor\":\"white\",\"linecolor\":\"white\",\"ticks\":\"\"},\"baxis\":{\"gridcolor\":\"white\",\"linecolor\":\"white\",\"ticks\":\"\"},\"caxis\":{\"gridcolor\":\"white\",\"linecolor\":\"white\",\"ticks\":\"\"}},\"coloraxis\":{\"colorbar\":{\"outlinewidth\":0,\"ticks\":\"\"}},\"colorscale\":{\"sequential\":[[0.0,\"#0d0887\"],[0.1111111111111111,\"#46039f\"],[0.2222222222222222,\"#7201a8\"],[0.3333333333333333,\"#9c179e\"],[0.4444444444444444,\"#bd3786\"],[0.5555555555555556,\"#d8576b\"],[0.6666666666666666,\"#ed7953\"],[0.7777777777777778,\"#fb9f3a\"],[0.8888888888888888,\"#fdca26\"],[1.0,\"#f0f921\"]],\"sequentialminus\":[[0.0,\"#0d0887\"],[0.1111111111111111,\"#46039f\"],[0.2222222222222222,\"#7201a8\"],[0.3333333333333333,\"#9c179e\"],[0.4444444444444444,\"#bd3786\"],[0.5555555555555556,\"#d8576b\"],[0.6666666666666666,\"#ed7953\"],[0.7777777777777778,\"#fb9f3a\"],[0.8888888888888888,\"#fdca26\"],[1.0,\"#f0f921\"]],\"diverging\":[[0,\"#8e0152\"],[0.1,\"#c51b7d\"],[0.2,\"#de77ae\"],[0.3,\"#f1b6da\"],[0.4,\"#fde0ef\"],[0.5,\"#f7f7f7\"],[0.6,\"#e6f5d0\"],[0.7,\"#b8e186\"],[0.8,\"#7fbc41\"],[0.9,\"#4d9221\"],[1,\"#276419\"]]},\"xaxis\":{\"gridcolor\":\"white\",\"linecolor\":\"white\",\"ticks\":\"\",\"title\":{\"standoff\":15},\"zerolinecolor\":\"white\",\"automargin\":true,\"zerolinewidth\":2},\"yaxis\":{\"gridcolor\":\"white\",\"linecolor\":\"white\",\"ticks\":\"\",\"title\":{\"standoff\":15},\"zerolinecolor\":\"white\",\"automargin\":true,\"zerolinewidth\":2},\"scene\":{\"xaxis\":{\"backgroundcolor\":\"#E5ECF6\",\"gridcolor\":\"white\",\"linecolor\":\"white\",\"showbackground\":true,\"ticks\":\"\",\"zerolinecolor\":\"white\",\"gridwidth\":2},\"yaxis\":{\"backgroundcolor\":\"#E5ECF6\",\"gridcolor\":\"white\",\"linecolor\":\"white\",\"showbackground\":true,\"ticks\":\"\",\"zerolinecolor\":\"white\",\"gridwidth\":2},\"zaxis\":{\"backgroundcolor\":\"#E5ECF6\",\"gridcolor\":\"white\",\"linecolor\":\"white\",\"showbackground\":true,\"ticks\":\"\",\"zerolinecolor\":\"white\",\"gridwidth\":2}},\"shapedefaults\":{\"line\":{\"color\":\"#2a3f5f\"}},\"annotationdefaults\":{\"arrowcolor\":\"#2a3f5f\",\"arrowhead\":0,\"arrowwidth\":1},\"geo\":{\"bgcolor\":\"white\",\"landcolor\":\"#E5ECF6\",\"subunitcolor\":\"white\",\"showland\":true,\"showlakes\":true,\"lakecolor\":\"white\"},\"title\":{\"x\":0.05},\"mapbox\":{\"style\":\"light\"}}},\"autosize\":false,\"width\":1400,\"height\":500,\"xaxis\":{\"tickmode\":\"linear\",\"tickvals\":[5,6,7,8,9,10,11,12,13,14,15,16,17,18,19,20,21,22,23,24,25,26,27,28,29,30,31,32,33,34,35,36,37,38,39,40,41,42,43,44,45,46]}},                        {\"responsive\": true}                    ).then(function(){\n",
       "                            \n",
       "var gd = document.getElementById('171aee76-1377-43c5-9414-5c2885885334');\n",
       "var x = new MutationObserver(function (mutations, observer) {{\n",
       "        var display = window.getComputedStyle(gd).display;\n",
       "        if (!display || display === 'none') {{\n",
       "            console.log([gd, 'removed!']);\n",
       "            Plotly.purge(gd);\n",
       "            observer.disconnect();\n",
       "        }}\n",
       "}});\n",
       "\n",
       "// Listen for the removal of the full notebook cells\n",
       "var notebookContainer = gd.closest('#notebook-container');\n",
       "if (notebookContainer) {{\n",
       "    x.observe(notebookContainer, {childList: true});\n",
       "}}\n",
       "\n",
       "// Listen for the clearing of the current output cell\n",
       "var outputEl = gd.closest('.output');\n",
       "if (outputEl) {{\n",
       "    x.observe(outputEl, {childList: true});\n",
       "}}\n",
       "\n",
       "                        })                };                });            </script>        </div>"
      ]
     },
     "metadata": {},
     "output_type": "display_data"
    }
   ],
   "source": [
    "fig = go.Figure()\n",
    "fig.update_layout(\n",
    "    autosize=False,\n",
    "    width=1400,\n",
    "    height=500,\n",
    ")\n",
    "fig.add_trace(go.Scatter(x=x_range, y=accuracy_list, mode='lines+markers+text', connectgaps=True, text=acc_list))\n",
    "fig.update_traces(textposition=\"top center\")\n",
    "fig.update_layout(\n",
    "    xaxis = dict(\n",
    "        tickmode = 'linear',\n",
    "        tickvals =x_range\n",
    "    )\n",
    ")\n",
    "fig.show()"
   ]
  },
  {
   "cell_type": "code",
   "execution_count": null,
   "id": "86dbaab7-2ee0-4d3b-998a-34346fc8d451",
   "metadata": {},
   "outputs": [],
   "source": []
  }
 ],
 "metadata": {
  "kernelspec": {
   "display_name": "Python 3 (ipykernel)",
   "language": "python",
   "name": "python3"
  },
  "language_info": {
   "codemirror_mode": {
    "name": "ipython",
    "version": 3
   },
   "file_extension": ".py",
   "mimetype": "text/x-python",
   "name": "python",
   "nbconvert_exporter": "python",
   "pygments_lexer": "ipython3",
   "version": "3.9.13"
  }
 },
 "nbformat": 4,
 "nbformat_minor": 5
}
