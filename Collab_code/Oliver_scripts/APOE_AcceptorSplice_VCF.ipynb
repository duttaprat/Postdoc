{
 "cells": [
  {
   "cell_type": "code",
   "execution_count": 19,
   "id": "cdd0a298-de34-4915-8bae-192d11cb06ca",
   "metadata": {},
   "outputs": [],
   "source": [
    "import os, tarfile\n",
    "import re, glob\n",
    "import pandas as pd\n",
    "import numpy as np\n",
    "import zipfile, gzip\n",
    "import pandas as pd\n",
    "from sklearn.model_selection import train_test_split\n",
    "from sklearn.utils import shuffle\n",
    "import plotly.graph_objects as go\n",
    "from natsort import natsorted\n",
    "import pysam\n",
    "import itertools"
   ]
  },
  {
   "cell_type": "code",
   "execution_count": 57,
   "id": "c6f90d5f-d0af-47a7-8d89-fa101ffeecb8",
   "metadata": {},
   "outputs": [],
   "source": [
    "vcf_file_path = \"/data/private/pdutta/Collab_data/Oliver_data/APOE_TREM2/APOE_new.vcf\"\n",
    "reference_file_path = \"/data/projects/Resources/HumanReferenceGenome/chr19.fa\"\n",
    "output_path = \"/data/private/pdutta/Collab_data/Oliver_data/DNABERT_data/APOE_Acceptor_Splice_sites\""
   ]
  },
  {
   "cell_type": "code",
   "execution_count": 21,
   "id": "d5d06849-9c30-4a94-9a8f-5f7fca5a095e",
   "metadata": {},
   "outputs": [],
   "source": [
    "os.chdir(\"/data/private/pdutta/DNABERT_data/Splice_sites/Acceptor_splice_sites\")"
   ]
  },
  {
   "cell_type": "code",
   "execution_count": 22,
   "id": "2095363a-bbbc-4f74-b624-527b561d5b83",
   "metadata": {},
   "outputs": [],
   "source": [
    "file_extension = '.csv'\n",
    "all_filenames = [i for i in glob.glob(f\"*{file_extension}\")]"
   ]
  },
  {
   "cell_type": "code",
   "execution_count": 23,
   "id": "388800e6-4dbe-40dc-9b28-471320d65130",
   "metadata": {},
   "outputs": [
    {
     "data": {
      "text/plain": [
       "['chr18_acceptor_splice_set_sequence.csv',\n",
       " 'chr3_acceptor_splice_set_sequence.csv',\n",
       " 'chr15_acceptor_splice_set_sequence.csv',\n",
       " 'chr7_acceptor_splice_set_sequence.csv',\n",
       " 'chr19_acceptor_splice_set_sequence.csv',\n",
       " 'chr6_acceptor_splice_set_sequence.csv',\n",
       " 'chr20_acceptor_splice_set_sequence.csv',\n",
       " 'chr4_acceptor_splice_set_sequence.csv',\n",
       " 'chr12_acceptor_splice_set_sequence.csv',\n",
       " 'chr2_acceptor_splice_set_sequence.csv',\n",
       " 'chr14_acceptor_splice_set_sequence.csv',\n",
       " 'chrX_acceptor_splice_set_sequence.csv',\n",
       " 'chrY_acceptor_splice_set_sequence.csv',\n",
       " 'chr8_acceptor_splice_set_sequence.csv',\n",
       " 'chr1_acceptor_splice_set_sequence.csv',\n",
       " 'chr9_acceptor_splice_set_sequence.csv',\n",
       " 'chr11_acceptor_splice_set_sequence.csv',\n",
       " 'chr17_acceptor_splice_set_sequence.csv',\n",
       " 'chr13_acceptor_splice_set_sequence.csv',\n",
       " 'chr16_acceptor_splice_set_sequence.csv',\n",
       " 'chr22_acceptor_splice_set_sequence.csv',\n",
       " 'chr5_acceptor_splice_set_sequence.csv',\n",
       " 'chr21_acceptor_splice_set_sequence.csv',\n",
       " 'chr10_acceptor_splice_set_sequence.csv']"
      ]
     },
     "execution_count": 23,
     "metadata": {},
     "output_type": "execute_result"
    }
   ],
   "source": [
    "all_filenames"
   ]
  },
  {
   "cell_type": "code",
   "execution_count": 24,
   "id": "07b2f2ca-a797-40e9-b69a-ff624f6e8926",
   "metadata": {},
   "outputs": [
    {
     "data": {
      "text/plain": [
       "['chr1_acceptor_splice_set_sequence.csv',\n",
       " 'chr2_acceptor_splice_set_sequence.csv',\n",
       " 'chr3_acceptor_splice_set_sequence.csv',\n",
       " 'chr4_acceptor_splice_set_sequence.csv',\n",
       " 'chr5_acceptor_splice_set_sequence.csv',\n",
       " 'chr6_acceptor_splice_set_sequence.csv',\n",
       " 'chr7_acceptor_splice_set_sequence.csv',\n",
       " 'chr8_acceptor_splice_set_sequence.csv',\n",
       " 'chr9_acceptor_splice_set_sequence.csv',\n",
       " 'chr10_acceptor_splice_set_sequence.csv',\n",
       " 'chr11_acceptor_splice_set_sequence.csv',\n",
       " 'chr12_acceptor_splice_set_sequence.csv',\n",
       " 'chr13_acceptor_splice_set_sequence.csv',\n",
       " 'chr14_acceptor_splice_set_sequence.csv',\n",
       " 'chr15_acceptor_splice_set_sequence.csv',\n",
       " 'chr16_acceptor_splice_set_sequence.csv',\n",
       " 'chr17_acceptor_splice_set_sequence.csv',\n",
       " 'chr18_acceptor_splice_set_sequence.csv',\n",
       " 'chr19_acceptor_splice_set_sequence.csv',\n",
       " 'chr20_acceptor_splice_set_sequence.csv',\n",
       " 'chr21_acceptor_splice_set_sequence.csv',\n",
       " 'chr22_acceptor_splice_set_sequence.csv',\n",
       " 'chrX_acceptor_splice_set_sequence.csv',\n",
       " 'chrY_acceptor_splice_set_sequence.csv']"
      ]
     },
     "execution_count": 24,
     "metadata": {},
     "output_type": "execute_result"
    }
   ],
   "source": [
    "all_sorted_filenames = natsorted(all_filenames)\n",
    "all_sorted_filenames"
   ]
  },
  {
   "cell_type": "code",
   "execution_count": 25,
   "id": "f34ca5a6-d3d1-4ff1-ac39-e601b88d8a04",
   "metadata": {},
   "outputs": [],
   "source": [
    "dfs = []\n",
    "# Loop over file paths\n",
    "for file_path in all_sorted_filenames:\n",
    "    df = pd.read_csv(file_path)\n",
    "    file_name = file_path.split('_')[0]\n",
    "    df = df.assign(chr_name=file_name)\n",
    "    dfs.append(df)"
   ]
  },
  {
   "cell_type": "code",
   "execution_count": 26,
   "id": "1171226a-f952-4f56-b138-a3385dcab246",
   "metadata": {},
   "outputs": [
    {
     "data": {
      "text/html": [
       "<div>\n",
       "<style scoped>\n",
       "    .dataframe tbody tr th:only-of-type {\n",
       "        vertical-align: middle;\n",
       "    }\n",
       "\n",
       "    .dataframe tbody tr th {\n",
       "        vertical-align: top;\n",
       "    }\n",
       "\n",
       "    .dataframe thead th {\n",
       "        text-align: right;\n",
       "    }\n",
       "</style>\n",
       "<table border=\"1\" class=\"dataframe\">\n",
       "  <thead>\n",
       "    <tr style=\"text-align: right;\">\n",
       "      <th></th>\n",
       "      <th>transcript_id</th>\n",
       "      <th>exon_id</th>\n",
       "      <th>transcript_type</th>\n",
       "      <th>strand</th>\n",
       "      <th>coordinates</th>\n",
       "      <th>sequence</th>\n",
       "      <th>chr_name</th>\n",
       "    </tr>\n",
       "  </thead>\n",
       "  <tbody>\n",
       "    <tr>\n",
       "      <th>0</th>\n",
       "      <td>ENST00000003583.12</td>\n",
       "      <td>ENSE00003692979.1</td>\n",
       "      <td>protein_coding</td>\n",
       "      <td>-</td>\n",
       "      <td>24401457</td>\n",
       "      <td>TCAACAGTGACTTCTTACGCAGTTCCTACTGCAGGCAGCACCAGCA...</td>\n",
       "      <td>chr1</td>\n",
       "    </tr>\n",
       "    <tr>\n",
       "      <th>1</th>\n",
       "      <td>ENST00000003583.12</td>\n",
       "      <td>ENSE00003638911.1</td>\n",
       "      <td>protein_coding</td>\n",
       "      <td>-</td>\n",
       "      <td>24384004</td>\n",
       "      <td>TTCCAGCCCCACCACTTGGTAACTGAGACGAAGATCGGGCAAGTCA...</td>\n",
       "      <td>chr1</td>\n",
       "    </tr>\n",
       "    <tr>\n",
       "      <th>2</th>\n",
       "      <td>ENST00000003583.12</td>\n",
       "      <td>ENSE00003688858.1</td>\n",
       "      <td>protein_coding</td>\n",
       "      <td>-</td>\n",
       "      <td>24379824</td>\n",
       "      <td>AAGCGAGTACAGGTCTGAACTTGCGTTTTCCAAGGGAAGATCCTCA...</td>\n",
       "      <td>chr1</td>\n",
       "    </tr>\n",
       "    <tr>\n",
       "      <th>3</th>\n",
       "      <td>ENST00000003583.12</td>\n",
       "      <td>ENSE00003631141.1</td>\n",
       "      <td>protein_coding</td>\n",
       "      <td>-</td>\n",
       "      <td>24373811</td>\n",
       "      <td>AAACTCATAGACCACTTGAGCTGGGATGACAGGGAAGCCACAGCCA...</td>\n",
       "      <td>chr1</td>\n",
       "    </tr>\n",
       "    <tr>\n",
       "      <th>4</th>\n",
       "      <td>ENST00000003583.12</td>\n",
       "      <td>ENSE00003516207.1</td>\n",
       "      <td>protein_coding</td>\n",
       "      <td>-</td>\n",
       "      <td>24369840</td>\n",
       "      <td>AGCTAAGTGTGTGCTTCCCGTGCCATCTGTTCTCTGCATGGTGAGG...</td>\n",
       "      <td>chr1</td>\n",
       "    </tr>\n",
       "    <tr>\n",
       "      <th>...</th>\n",
       "      <td>...</td>\n",
       "      <td>...</td>\n",
       "      <td>...</td>\n",
       "      <td>...</td>\n",
       "      <td>...</td>\n",
       "      <td>...</td>\n",
       "      <td>...</td>\n",
       "    </tr>\n",
       "    <tr>\n",
       "      <th>1261995</th>\n",
       "      <td>ENST00000684226.1</td>\n",
       "      <td>ENSE00003767626.1</td>\n",
       "      <td>non_stop_decay</td>\n",
       "      <td>-</td>\n",
       "      <td>13297849</td>\n",
       "      <td>AATGTCTCGCATATTGTGACTGCTCTTTACGTTAGGTTTTTTTTTA...</td>\n",
       "      <td>chrY</td>\n",
       "    </tr>\n",
       "    <tr>\n",
       "      <th>1261996</th>\n",
       "      <td>ENST00000684226.1</td>\n",
       "      <td>ENSE00003761778.1</td>\n",
       "      <td>non_stop_decay</td>\n",
       "      <td>-</td>\n",
       "      <td>13260405</td>\n",
       "      <td>GTCAAATGTCAGTTATTCTCAACTTTAAATATTTTAATATTGTCAT...</td>\n",
       "      <td>chrY</td>\n",
       "    </tr>\n",
       "    <tr>\n",
       "      <th>1261997</th>\n",
       "      <td>ENST00000684226.1</td>\n",
       "      <td>ENSE00001713248.1</td>\n",
       "      <td>non_stop_decay</td>\n",
       "      <td>-</td>\n",
       "      <td>13251188</td>\n",
       "      <td>TTTCTCTGGGTGTGCTACAAAACAAAACCTAGTGTCTCAAACTCAC...</td>\n",
       "      <td>chrY</td>\n",
       "    </tr>\n",
       "    <tr>\n",
       "      <th>1261998</th>\n",
       "      <td>ENST00000684226.1</td>\n",
       "      <td>ENSE00003917271.1</td>\n",
       "      <td>non_stop_decay</td>\n",
       "      <td>-</td>\n",
       "      <td>13234827</td>\n",
       "      <td>AGCTTGCACTGACCTGCAGGTGTTCCTTGATATATACATCCTGGGT...</td>\n",
       "      <td>chrY</td>\n",
       "    </tr>\n",
       "    <tr>\n",
       "      <th>1261999</th>\n",
       "      <td>ENST00000684326.1</td>\n",
       "      <td>ENSE00003920852.1</td>\n",
       "      <td>processed_transcript</td>\n",
       "      <td>-</td>\n",
       "      <td>13234827</td>\n",
       "      <td>AGCTTGCACTGACCTGCAGGTGTTCCTTGATATATACATCCTGGGT...</td>\n",
       "      <td>chrY</td>\n",
       "    </tr>\n",
       "  </tbody>\n",
       "</table>\n",
       "<p>1262000 rows × 7 columns</p>\n",
       "</div>"
      ],
      "text/plain": [
       "              transcript_id            exon_id       transcript_type strand  \\\n",
       "0        ENST00000003583.12  ENSE00003692979.1        protein_coding      -   \n",
       "1        ENST00000003583.12  ENSE00003638911.1        protein_coding      -   \n",
       "2        ENST00000003583.12  ENSE00003688858.1        protein_coding      -   \n",
       "3        ENST00000003583.12  ENSE00003631141.1        protein_coding      -   \n",
       "4        ENST00000003583.12  ENSE00003516207.1        protein_coding      -   \n",
       "...                     ...                ...                   ...    ...   \n",
       "1261995   ENST00000684226.1  ENSE00003767626.1        non_stop_decay      -   \n",
       "1261996   ENST00000684226.1  ENSE00003761778.1        non_stop_decay      -   \n",
       "1261997   ENST00000684226.1  ENSE00001713248.1        non_stop_decay      -   \n",
       "1261998   ENST00000684226.1  ENSE00003917271.1        non_stop_decay      -   \n",
       "1261999   ENST00000684326.1  ENSE00003920852.1  processed_transcript      -   \n",
       "\n",
       "         coordinates                                           sequence  \\\n",
       "0           24401457  TCAACAGTGACTTCTTACGCAGTTCCTACTGCAGGCAGCACCAGCA...   \n",
       "1           24384004  TTCCAGCCCCACCACTTGGTAACTGAGACGAAGATCGGGCAAGTCA...   \n",
       "2           24379824  AAGCGAGTACAGGTCTGAACTTGCGTTTTCCAAGGGAAGATCCTCA...   \n",
       "3           24373811  AAACTCATAGACCACTTGAGCTGGGATGACAGGGAAGCCACAGCCA...   \n",
       "4           24369840  AGCTAAGTGTGTGCTTCCCGTGCCATCTGTTCTCTGCATGGTGAGG...   \n",
       "...              ...                                                ...   \n",
       "1261995     13297849  AATGTCTCGCATATTGTGACTGCTCTTTACGTTAGGTTTTTTTTTA...   \n",
       "1261996     13260405  GTCAAATGTCAGTTATTCTCAACTTTAAATATTTTAATATTGTCAT...   \n",
       "1261997     13251188  TTTCTCTGGGTGTGCTACAAAACAAAACCTAGTGTCTCAAACTCAC...   \n",
       "1261998     13234827  AGCTTGCACTGACCTGCAGGTGTTCCTTGATATATACATCCTGGGT...   \n",
       "1261999     13234827  AGCTTGCACTGACCTGCAGGTGTTCCTTGATATATACATCCTGGGT...   \n",
       "\n",
       "        chr_name  \n",
       "0           chr1  \n",
       "1           chr1  \n",
       "2           chr1  \n",
       "3           chr1  \n",
       "4           chr1  \n",
       "...          ...  \n",
       "1261995     chrY  \n",
       "1261996     chrY  \n",
       "1261997     chrY  \n",
       "1261998     chrY  \n",
       "1261999     chrY  \n",
       "\n",
       "[1262000 rows x 7 columns]"
      ]
     },
     "execution_count": 26,
     "metadata": {},
     "output_type": "execute_result"
    }
   ],
   "source": [
    "combined_df = pd.concat(dfs, ignore_index=True)\n",
    "combined_df['sequence'] = combined_df['sequence'].str.upper()\n",
    "combined_df"
   ]
  },
  {
   "cell_type": "code",
   "execution_count": 27,
   "id": "56fc9ae1-6fdf-47f4-9d9a-25961aeea9e7",
   "metadata": {},
   "outputs": [
    {
     "data": {
      "text/plain": [
       "400"
      ]
     },
     "execution_count": 27,
     "metadata": {},
     "output_type": "execute_result"
    }
   ],
   "source": [
    "len(combined_df['sequence'].iloc[0])"
   ]
  },
  {
   "cell_type": "code",
   "execution_count": 28,
   "id": "7c098fb3-9f1a-46d0-b141-de21980b1868",
   "metadata": {},
   "outputs": [],
   "source": [
    "df_temp= pd.DataFrame()\n",
    "df_temp['check'] = combined_df['sequence'].str[197:199]"
   ]
  },
  {
   "cell_type": "code",
   "execution_count": 29,
   "id": "0c7d4341-3389-42ed-919f-0df77f38fbce",
   "metadata": {},
   "outputs": [
    {
     "data": {
      "application/vnd.plotly.v1+json": {
       "config": {
        "plotlyServerURL": "https://plot.ly"
       },
       "data": [
        {
         "type": "bar",
         "x": [
          "AA",
          "AC",
          "AG",
          "AT",
          "CA",
          "CC",
          "CG",
          "CT",
          "GA",
          "GC",
          "GG",
          "GT",
          "TA",
          "TC",
          "TG",
          "TT"
         ],
         "y": [
          614,
          1541,
          1255766,
          451,
          365,
          299,
          136,
          284,
          297,
          195,
          474,
          191,
          248,
          220,
          612,
          307
         ]
        }
       ],
       "layout": {
        "annotations": [
         {
          "showarrow": false,
          "text": "614",
          "textangle": -90,
          "x": "AA",
          "y": 614,
          "yshift": 30
         },
         {
          "showarrow": false,
          "text": "1541",
          "textangle": -90,
          "x": "AC",
          "y": 1541,
          "yshift": 30
         },
         {
          "showarrow": false,
          "text": "1255766",
          "textangle": -90,
          "x": "AG",
          "y": 1255766,
          "yshift": 30
         },
         {
          "showarrow": false,
          "text": "451",
          "textangle": -90,
          "x": "AT",
          "y": 451,
          "yshift": 30
         },
         {
          "showarrow": false,
          "text": "365",
          "textangle": -90,
          "x": "CA",
          "y": 365,
          "yshift": 30
         },
         {
          "showarrow": false,
          "text": "299",
          "textangle": -90,
          "x": "CC",
          "y": 299,
          "yshift": 30
         },
         {
          "showarrow": false,
          "text": "136",
          "textangle": -90,
          "x": "CG",
          "y": 136,
          "yshift": 30
         },
         {
          "showarrow": false,
          "text": "284",
          "textangle": -90,
          "x": "CT",
          "y": 284,
          "yshift": 30
         },
         {
          "showarrow": false,
          "text": "297",
          "textangle": -90,
          "x": "GA",
          "y": 297,
          "yshift": 30
         },
         {
          "showarrow": false,
          "text": "195",
          "textangle": -90,
          "x": "GC",
          "y": 195,
          "yshift": 30
         },
         {
          "showarrow": false,
          "text": "474",
          "textangle": -90,
          "x": "GG",
          "y": 474,
          "yshift": 30
         },
         {
          "showarrow": false,
          "text": "191",
          "textangle": -90,
          "x": "GT",
          "y": 191,
          "yshift": 30
         },
         {
          "showarrow": false,
          "text": "248",
          "textangle": -90,
          "x": "TA",
          "y": 248,
          "yshift": 30
         },
         {
          "showarrow": false,
          "text": "220",
          "textangle": -90,
          "x": "TC",
          "y": 220,
          "yshift": 30
         },
         {
          "showarrow": false,
          "text": "612",
          "textangle": -90,
          "x": "TG",
          "y": 612,
          "yshift": 30
         },
         {
          "showarrow": false,
          "text": "307",
          "textangle": -90,
          "x": "TT",
          "y": 307,
          "yshift": 30
         }
        ],
        "autosize": true,
        "template": {
         "data": {
          "bar": [
           {
            "error_x": {
             "color": "#2a3f5f"
            },
            "error_y": {
             "color": "#2a3f5f"
            },
            "marker": {
             "line": {
              "color": "#E5ECF6",
              "width": 0.5
             },
             "pattern": {
              "fillmode": "overlay",
              "size": 10,
              "solidity": 0.2
             }
            },
            "type": "bar"
           }
          ],
          "barpolar": [
           {
            "marker": {
             "line": {
              "color": "#E5ECF6",
              "width": 0.5
             },
             "pattern": {
              "fillmode": "overlay",
              "size": 10,
              "solidity": 0.2
             }
            },
            "type": "barpolar"
           }
          ],
          "carpet": [
           {
            "aaxis": {
             "endlinecolor": "#2a3f5f",
             "gridcolor": "white",
             "linecolor": "white",
             "minorgridcolor": "white",
             "startlinecolor": "#2a3f5f"
            },
            "baxis": {
             "endlinecolor": "#2a3f5f",
             "gridcolor": "white",
             "linecolor": "white",
             "minorgridcolor": "white",
             "startlinecolor": "#2a3f5f"
            },
            "type": "carpet"
           }
          ],
          "choropleth": [
           {
            "colorbar": {
             "outlinewidth": 0,
             "ticks": ""
            },
            "type": "choropleth"
           }
          ],
          "contour": [
           {
            "colorbar": {
             "outlinewidth": 0,
             "ticks": ""
            },
            "colorscale": [
             [
              0,
              "#0d0887"
             ],
             [
              0.1111111111111111,
              "#46039f"
             ],
             [
              0.2222222222222222,
              "#7201a8"
             ],
             [
              0.3333333333333333,
              "#9c179e"
             ],
             [
              0.4444444444444444,
              "#bd3786"
             ],
             [
              0.5555555555555556,
              "#d8576b"
             ],
             [
              0.6666666666666666,
              "#ed7953"
             ],
             [
              0.7777777777777778,
              "#fb9f3a"
             ],
             [
              0.8888888888888888,
              "#fdca26"
             ],
             [
              1,
              "#f0f921"
             ]
            ],
            "type": "contour"
           }
          ],
          "contourcarpet": [
           {
            "colorbar": {
             "outlinewidth": 0,
             "ticks": ""
            },
            "type": "contourcarpet"
           }
          ],
          "heatmap": [
           {
            "colorbar": {
             "outlinewidth": 0,
             "ticks": ""
            },
            "colorscale": [
             [
              0,
              "#0d0887"
             ],
             [
              0.1111111111111111,
              "#46039f"
             ],
             [
              0.2222222222222222,
              "#7201a8"
             ],
             [
              0.3333333333333333,
              "#9c179e"
             ],
             [
              0.4444444444444444,
              "#bd3786"
             ],
             [
              0.5555555555555556,
              "#d8576b"
             ],
             [
              0.6666666666666666,
              "#ed7953"
             ],
             [
              0.7777777777777778,
              "#fb9f3a"
             ],
             [
              0.8888888888888888,
              "#fdca26"
             ],
             [
              1,
              "#f0f921"
             ]
            ],
            "type": "heatmap"
           }
          ],
          "heatmapgl": [
           {
            "colorbar": {
             "outlinewidth": 0,
             "ticks": ""
            },
            "colorscale": [
             [
              0,
              "#0d0887"
             ],
             [
              0.1111111111111111,
              "#46039f"
             ],
             [
              0.2222222222222222,
              "#7201a8"
             ],
             [
              0.3333333333333333,
              "#9c179e"
             ],
             [
              0.4444444444444444,
              "#bd3786"
             ],
             [
              0.5555555555555556,
              "#d8576b"
             ],
             [
              0.6666666666666666,
              "#ed7953"
             ],
             [
              0.7777777777777778,
              "#fb9f3a"
             ],
             [
              0.8888888888888888,
              "#fdca26"
             ],
             [
              1,
              "#f0f921"
             ]
            ],
            "type": "heatmapgl"
           }
          ],
          "histogram": [
           {
            "marker": {
             "pattern": {
              "fillmode": "overlay",
              "size": 10,
              "solidity": 0.2
             }
            },
            "type": "histogram"
           }
          ],
          "histogram2d": [
           {
            "colorbar": {
             "outlinewidth": 0,
             "ticks": ""
            },
            "colorscale": [
             [
              0,
              "#0d0887"
             ],
             [
              0.1111111111111111,
              "#46039f"
             ],
             [
              0.2222222222222222,
              "#7201a8"
             ],
             [
              0.3333333333333333,
              "#9c179e"
             ],
             [
              0.4444444444444444,
              "#bd3786"
             ],
             [
              0.5555555555555556,
              "#d8576b"
             ],
             [
              0.6666666666666666,
              "#ed7953"
             ],
             [
              0.7777777777777778,
              "#fb9f3a"
             ],
             [
              0.8888888888888888,
              "#fdca26"
             ],
             [
              1,
              "#f0f921"
             ]
            ],
            "type": "histogram2d"
           }
          ],
          "histogram2dcontour": [
           {
            "colorbar": {
             "outlinewidth": 0,
             "ticks": ""
            },
            "colorscale": [
             [
              0,
              "#0d0887"
             ],
             [
              0.1111111111111111,
              "#46039f"
             ],
             [
              0.2222222222222222,
              "#7201a8"
             ],
             [
              0.3333333333333333,
              "#9c179e"
             ],
             [
              0.4444444444444444,
              "#bd3786"
             ],
             [
              0.5555555555555556,
              "#d8576b"
             ],
             [
              0.6666666666666666,
              "#ed7953"
             ],
             [
              0.7777777777777778,
              "#fb9f3a"
             ],
             [
              0.8888888888888888,
              "#fdca26"
             ],
             [
              1,
              "#f0f921"
             ]
            ],
            "type": "histogram2dcontour"
           }
          ],
          "mesh3d": [
           {
            "colorbar": {
             "outlinewidth": 0,
             "ticks": ""
            },
            "type": "mesh3d"
           }
          ],
          "parcoords": [
           {
            "line": {
             "colorbar": {
              "outlinewidth": 0,
              "ticks": ""
             }
            },
            "type": "parcoords"
           }
          ],
          "pie": [
           {
            "automargin": true,
            "type": "pie"
           }
          ],
          "scatter": [
           {
            "fillpattern": {
             "fillmode": "overlay",
             "size": 10,
             "solidity": 0.2
            },
            "type": "scatter"
           }
          ],
          "scatter3d": [
           {
            "line": {
             "colorbar": {
              "outlinewidth": 0,
              "ticks": ""
             }
            },
            "marker": {
             "colorbar": {
              "outlinewidth": 0,
              "ticks": ""
             }
            },
            "type": "scatter3d"
           }
          ],
          "scattercarpet": [
           {
            "marker": {
             "colorbar": {
              "outlinewidth": 0,
              "ticks": ""
             }
            },
            "type": "scattercarpet"
           }
          ],
          "scattergeo": [
           {
            "marker": {
             "colorbar": {
              "outlinewidth": 0,
              "ticks": ""
             }
            },
            "type": "scattergeo"
           }
          ],
          "scattergl": [
           {
            "marker": {
             "colorbar": {
              "outlinewidth": 0,
              "ticks": ""
             }
            },
            "type": "scattergl"
           }
          ],
          "scattermapbox": [
           {
            "marker": {
             "colorbar": {
              "outlinewidth": 0,
              "ticks": ""
             }
            },
            "type": "scattermapbox"
           }
          ],
          "scatterpolar": [
           {
            "marker": {
             "colorbar": {
              "outlinewidth": 0,
              "ticks": ""
             }
            },
            "type": "scatterpolar"
           }
          ],
          "scatterpolargl": [
           {
            "marker": {
             "colorbar": {
              "outlinewidth": 0,
              "ticks": ""
             }
            },
            "type": "scatterpolargl"
           }
          ],
          "scatterternary": [
           {
            "marker": {
             "colorbar": {
              "outlinewidth": 0,
              "ticks": ""
             }
            },
            "type": "scatterternary"
           }
          ],
          "surface": [
           {
            "colorbar": {
             "outlinewidth": 0,
             "ticks": ""
            },
            "colorscale": [
             [
              0,
              "#0d0887"
             ],
             [
              0.1111111111111111,
              "#46039f"
             ],
             [
              0.2222222222222222,
              "#7201a8"
             ],
             [
              0.3333333333333333,
              "#9c179e"
             ],
             [
              0.4444444444444444,
              "#bd3786"
             ],
             [
              0.5555555555555556,
              "#d8576b"
             ],
             [
              0.6666666666666666,
              "#ed7953"
             ],
             [
              0.7777777777777778,
              "#fb9f3a"
             ],
             [
              0.8888888888888888,
              "#fdca26"
             ],
             [
              1,
              "#f0f921"
             ]
            ],
            "type": "surface"
           }
          ],
          "table": [
           {
            "cells": {
             "fill": {
              "color": "#EBF0F8"
             },
             "line": {
              "color": "white"
             }
            },
            "header": {
             "fill": {
              "color": "#C8D4E3"
             },
             "line": {
              "color": "white"
             }
            },
            "type": "table"
           }
          ]
         },
         "layout": {
          "annotationdefaults": {
           "arrowcolor": "#2a3f5f",
           "arrowhead": 0,
           "arrowwidth": 1
          },
          "autotypenumbers": "strict",
          "coloraxis": {
           "colorbar": {
            "outlinewidth": 0,
            "ticks": ""
           }
          },
          "colorscale": {
           "diverging": [
            [
             0,
             "#8e0152"
            ],
            [
             0.1,
             "#c51b7d"
            ],
            [
             0.2,
             "#de77ae"
            ],
            [
             0.3,
             "#f1b6da"
            ],
            [
             0.4,
             "#fde0ef"
            ],
            [
             0.5,
             "#f7f7f7"
            ],
            [
             0.6,
             "#e6f5d0"
            ],
            [
             0.7,
             "#b8e186"
            ],
            [
             0.8,
             "#7fbc41"
            ],
            [
             0.9,
             "#4d9221"
            ],
            [
             1,
             "#276419"
            ]
           ],
           "sequential": [
            [
             0,
             "#0d0887"
            ],
            [
             0.1111111111111111,
             "#46039f"
            ],
            [
             0.2222222222222222,
             "#7201a8"
            ],
            [
             0.3333333333333333,
             "#9c179e"
            ],
            [
             0.4444444444444444,
             "#bd3786"
            ],
            [
             0.5555555555555556,
             "#d8576b"
            ],
            [
             0.6666666666666666,
             "#ed7953"
            ],
            [
             0.7777777777777778,
             "#fb9f3a"
            ],
            [
             0.8888888888888888,
             "#fdca26"
            ],
            [
             1,
             "#f0f921"
            ]
           ],
           "sequentialminus": [
            [
             0,
             "#0d0887"
            ],
            [
             0.1111111111111111,
             "#46039f"
            ],
            [
             0.2222222222222222,
             "#7201a8"
            ],
            [
             0.3333333333333333,
             "#9c179e"
            ],
            [
             0.4444444444444444,
             "#bd3786"
            ],
            [
             0.5555555555555556,
             "#d8576b"
            ],
            [
             0.6666666666666666,
             "#ed7953"
            ],
            [
             0.7777777777777778,
             "#fb9f3a"
            ],
            [
             0.8888888888888888,
             "#fdca26"
            ],
            [
             1,
             "#f0f921"
            ]
           ]
          },
          "colorway": [
           "#636efa",
           "#EF553B",
           "#00cc96",
           "#ab63fa",
           "#FFA15A",
           "#19d3f3",
           "#FF6692",
           "#B6E880",
           "#FF97FF",
           "#FECB52"
          ],
          "font": {
           "color": "#2a3f5f"
          },
          "geo": {
           "bgcolor": "white",
           "lakecolor": "white",
           "landcolor": "#E5ECF6",
           "showlakes": true,
           "showland": true,
           "subunitcolor": "white"
          },
          "hoverlabel": {
           "align": "left"
          },
          "hovermode": "closest",
          "mapbox": {
           "style": "light"
          },
          "paper_bgcolor": "white",
          "plot_bgcolor": "#E5ECF6",
          "polar": {
           "angularaxis": {
            "gridcolor": "white",
            "linecolor": "white",
            "ticks": ""
           },
           "bgcolor": "#E5ECF6",
           "radialaxis": {
            "gridcolor": "white",
            "linecolor": "white",
            "ticks": ""
           }
          },
          "scene": {
           "xaxis": {
            "backgroundcolor": "#E5ECF6",
            "gridcolor": "white",
            "gridwidth": 2,
            "linecolor": "white",
            "showbackground": true,
            "ticks": "",
            "zerolinecolor": "white"
           },
           "yaxis": {
            "backgroundcolor": "#E5ECF6",
            "gridcolor": "white",
            "gridwidth": 2,
            "linecolor": "white",
            "showbackground": true,
            "ticks": "",
            "zerolinecolor": "white"
           },
           "zaxis": {
            "backgroundcolor": "#E5ECF6",
            "gridcolor": "white",
            "gridwidth": 2,
            "linecolor": "white",
            "showbackground": true,
            "ticks": "",
            "zerolinecolor": "white"
           }
          },
          "shapedefaults": {
           "line": {
            "color": "#2a3f5f"
           }
          },
          "ternary": {
           "aaxis": {
            "gridcolor": "white",
            "linecolor": "white",
            "ticks": ""
           },
           "baxis": {
            "gridcolor": "white",
            "linecolor": "white",
            "ticks": ""
           },
           "bgcolor": "#E5ECF6",
           "caxis": {
            "gridcolor": "white",
            "linecolor": "white",
            "ticks": ""
           }
          },
          "title": {
           "x": 0.05
          },
          "xaxis": {
           "automargin": true,
           "gridcolor": "white",
           "linecolor": "white",
           "ticks": "",
           "title": {
            "standoff": 15
           },
           "zerolinecolor": "white",
           "zerolinewidth": 2
          },
          "yaxis": {
           "automargin": true,
           "gridcolor": "white",
           "linecolor": "white",
           "ticks": "",
           "title": {
            "standoff": 15
           },
           "zerolinecolor": "white",
           "zerolinewidth": 2
          }
         }
        },
        "xaxis": {
         "autorange": true,
         "range": [
          -0.5,
          15.5
         ],
         "type": "category"
        },
        "yaxis": {
         "autorange": true,
         "range": [
          0,
          1860394.0740740742
         ],
         "type": "linear"
        }
       }
      },
      "image/png": "[encoded data removed]",
      "text/html": [
       "<div>                            <div id=\"3c9b216b-a75c-49bd-9732-f1c68d86f61b\" class=\"plotly-graph-div\" style=\"height:525px; width:100%;\"></div>            <script type=\"text/javascript\">                require([\"plotly\"], function(Plotly) {                    window.PLOTLYENV=window.PLOTLYENV || {};                                    if (document.getElementById(\"3c9b216b-a75c-49bd-9732-f1c68d86f61b\")) {                    Plotly.newPlot(                        \"3c9b216b-a75c-49bd-9732-f1c68d86f61b\",                        [{\"x\":[\"AA\",\"AC\",\"AG\",\"AT\",\"CA\",\"CC\",\"CG\",\"CT\",\"GA\",\"GC\",\"GG\",\"GT\",\"TA\",\"TC\",\"TG\",\"TT\"],\"y\":[614,1541,1255766,451,365,299,136,284,297,195,474,191,248,220,612,307],\"type\":\"bar\"}],                        {\"template\":{\"data\":{\"histogram2dcontour\":[{\"type\":\"histogram2dcontour\",\"colorbar\":{\"outlinewidth\":0,\"ticks\":\"\"},\"colorscale\":[[0.0,\"#0d0887\"],[0.1111111111111111,\"#46039f\"],[0.2222222222222222,\"#7201a8\"],[0.3333333333333333,\"#9c179e\"],[0.4444444444444444,\"#bd3786\"],[0.5555555555555556,\"#d8576b\"],[0.6666666666666666,\"#ed7953\"],[0.7777777777777778,\"#fb9f3a\"],[0.8888888888888888,\"#fdca26\"],[1.0,\"#f0f921\"]]}],\"choropleth\":[{\"type\":\"choropleth\",\"colorbar\":{\"outlinewidth\":0,\"ticks\":\"\"}}],\"histogram2d\":[{\"type\":\"histogram2d\",\"colorbar\":{\"outlinewidth\":0,\"ticks\":\"\"},\"colorscale\":[[0.0,\"#0d0887\"],[0.1111111111111111,\"#46039f\"],[0.2222222222222222,\"#7201a8\"],[0.3333333333333333,\"#9c179e\"],[0.4444444444444444,\"#bd3786\"],[0.5555555555555556,\"#d8576b\"],[0.6666666666666666,\"#ed7953\"],[0.7777777777777778,\"#fb9f3a\"],[0.8888888888888888,\"#fdca26\"],[1.0,\"#f0f921\"]]}],\"heatmap\":[{\"type\":\"heatmap\",\"colorbar\":{\"outlinewidth\":0,\"ticks\":\"\"},\"colorscale\":[[0.0,\"#0d0887\"],[0.1111111111111111,\"#46039f\"],[0.2222222222222222,\"#7201a8\"],[0.3333333333333333,\"#9c179e\"],[0.4444444444444444,\"#bd3786\"],[0.5555555555555556,\"#d8576b\"],[0.6666666666666666,\"#ed7953\"],[0.7777777777777778,\"#fb9f3a\"],[0.8888888888888888,\"#fdca26\"],[1.0,\"#f0f921\"]]}],\"heatmapgl\":[{\"type\":\"heatmapgl\",\"colorbar\":{\"outlinewidth\":0,\"ticks\":\"\"},\"colorscale\":[[0.0,\"#0d0887\"],[0.1111111111111111,\"#46039f\"],[0.2222222222222222,\"#7201a8\"],[0.3333333333333333,\"#9c179e\"],[0.4444444444444444,\"#bd3786\"],[0.5555555555555556,\"#d8576b\"],[0.6666666666666666,\"#ed7953\"],[0.7777777777777778,\"#fb9f3a\"],[0.8888888888888888,\"#fdca26\"],[1.0,\"#f0f921\"]]}],\"contourcarpet\":[{\"type\":\"contourcarpet\",\"colorbar\":{\"outlinewidth\":0,\"ticks\":\"\"}}],\"contour\":[{\"type\":\"contour\",\"colorbar\":{\"outlinewidth\":0,\"ticks\":\"\"},\"colorscale\":[[0.0,\"#0d0887\"],[0.1111111111111111,\"#46039f\"],[0.2222222222222222,\"#7201a8\"],[0.3333333333333333,\"#9c179e\"],[0.4444444444444444,\"#bd3786\"],[0.5555555555555556,\"#d8576b\"],[0.6666666666666666,\"#ed7953\"],[0.7777777777777778,\"#fb9f3a\"],[0.8888888888888888,\"#fdca26\"],[1.0,\"#f0f921\"]]}],\"surface\":[{\"type\":\"surface\",\"colorbar\":{\"outlinewidth\":0,\"ticks\":\"\"},\"colorscale\":[[0.0,\"#0d0887\"],[0.1111111111111111,\"#46039f\"],[0.2222222222222222,\"#7201a8\"],[0.3333333333333333,\"#9c179e\"],[0.4444444444444444,\"#bd3786\"],[0.5555555555555556,\"#d8576b\"],[0.6666666666666666,\"#ed7953\"],[0.7777777777777778,\"#fb9f3a\"],[0.8888888888888888,\"#fdca26\"],[1.0,\"#f0f921\"]]}],\"mesh3d\":[{\"type\":\"mesh3d\",\"colorbar\":{\"outlinewidth\":0,\"ticks\":\"\"}}],\"scatter\":[{\"fillpattern\":{\"fillmode\":\"overlay\",\"size\":10,\"solidity\":0.2},\"type\":\"scatter\"}],\"parcoords\":[{\"type\":\"parcoords\",\"line\":{\"colorbar\":{\"outlinewidth\":0,\"ticks\":\"\"}}}],\"scatterpolargl\":[{\"type\":\"scatterpolargl\",\"marker\":{\"colorbar\":{\"outlinewidth\":0,\"ticks\":\"\"}}}],\"bar\":[{\"error_x\":{\"color\":\"#2a3f5f\"},\"error_y\":{\"color\":\"#2a3f5f\"},\"marker\":{\"line\":{\"color\":\"#E5ECF6\",\"width\":0.5},\"pattern\":{\"fillmode\":\"overlay\",\"size\":10,\"solidity\":0.2}},\"type\":\"bar\"}],\"scattergeo\":[{\"type\":\"scattergeo\",\"marker\":{\"colorbar\":{\"outlinewidth\":0,\"ticks\":\"\"}}}],\"scatterpolar\":[{\"type\":\"scatterpolar\",\"marker\":{\"colorbar\":{\"outlinewidth\":0,\"ticks\":\"\"}}}],\"histogram\":[{\"marker\":{\"pattern\":{\"fillmode\":\"overlay\",\"size\":10,\"solidity\":0.2}},\"type\":\"histogram\"}],\"scattergl\":[{\"type\":\"scattergl\",\"marker\":{\"colorbar\":{\"outlinewidth\":0,\"ticks\":\"\"}}}],\"scatter3d\":[{\"type\":\"scatter3d\",\"line\":{\"colorbar\":{\"outlinewidth\":0,\"ticks\":\"\"}},\"marker\":{\"colorbar\":{\"outlinewidth\":0,\"ticks\":\"\"}}}],\"scattermapbox\":[{\"type\":\"scattermapbox\",\"marker\":{\"colorbar\":{\"outlinewidth\":0,\"ticks\":\"\"}}}],\"scatterternary\":[{\"type\":\"scatterternary\",\"marker\":{\"colorbar\":{\"outlinewidth\":0,\"ticks\":\"\"}}}],\"scattercarpet\":[{\"type\":\"scattercarpet\",\"marker\":{\"colorbar\":{\"outlinewidth\":0,\"ticks\":\"\"}}}],\"carpet\":[{\"aaxis\":{\"endlinecolor\":\"#2a3f5f\",\"gridcolor\":\"white\",\"linecolor\":\"white\",\"minorgridcolor\":\"white\",\"startlinecolor\":\"#2a3f5f\"},\"baxis\":{\"endlinecolor\":\"#2a3f5f\",\"gridcolor\":\"white\",\"linecolor\":\"white\",\"minorgridcolor\":\"white\",\"startlinecolor\":\"#2a3f5f\"},\"type\":\"carpet\"}],\"table\":[{\"cells\":{\"fill\":{\"color\":\"#EBF0F8\"},\"line\":{\"color\":\"white\"}},\"header\":{\"fill\":{\"color\":\"#C8D4E3\"},\"line\":{\"color\":\"white\"}},\"type\":\"table\"}],\"barpolar\":[{\"marker\":{\"line\":{\"color\":\"#E5ECF6\",\"width\":0.5},\"pattern\":{\"fillmode\":\"overlay\",\"size\":10,\"solidity\":0.2}},\"type\":\"barpolar\"}],\"pie\":[{\"automargin\":true,\"type\":\"pie\"}]},\"layout\":{\"autotypenumbers\":\"strict\",\"colorway\":[\"#636efa\",\"#EF553B\",\"#00cc96\",\"#ab63fa\",\"#FFA15A\",\"#19d3f3\",\"#FF6692\",\"#B6E880\",\"#FF97FF\",\"#FECB52\"],\"font\":{\"color\":\"#2a3f5f\"},\"hovermode\":\"closest\",\"hoverlabel\":{\"align\":\"left\"},\"paper_bgcolor\":\"white\",\"plot_bgcolor\":\"#E5ECF6\",\"polar\":{\"bgcolor\":\"#E5ECF6\",\"angularaxis\":{\"gridcolor\":\"white\",\"linecolor\":\"white\",\"ticks\":\"\"},\"radialaxis\":{\"gridcolor\":\"white\",\"linecolor\":\"white\",\"ticks\":\"\"}},\"ternary\":{\"bgcolor\":\"#E5ECF6\",\"aaxis\":{\"gridcolor\":\"white\",\"linecolor\":\"white\",\"ticks\":\"\"},\"baxis\":{\"gridcolor\":\"white\",\"linecolor\":\"white\",\"ticks\":\"\"},\"caxis\":{\"gridcolor\":\"white\",\"linecolor\":\"white\",\"ticks\":\"\"}},\"coloraxis\":{\"colorbar\":{\"outlinewidth\":0,\"ticks\":\"\"}},\"colorscale\":{\"sequential\":[[0.0,\"#0d0887\"],[0.1111111111111111,\"#46039f\"],[0.2222222222222222,\"#7201a8\"],[0.3333333333333333,\"#9c179e\"],[0.4444444444444444,\"#bd3786\"],[0.5555555555555556,\"#d8576b\"],[0.6666666666666666,\"#ed7953\"],[0.7777777777777778,\"#fb9f3a\"],[0.8888888888888888,\"#fdca26\"],[1.0,\"#f0f921\"]],\"sequentialminus\":[[0.0,\"#0d0887\"],[0.1111111111111111,\"#46039f\"],[0.2222222222222222,\"#7201a8\"],[0.3333333333333333,\"#9c179e\"],[0.4444444444444444,\"#bd3786\"],[0.5555555555555556,\"#d8576b\"],[0.6666666666666666,\"#ed7953\"],[0.7777777777777778,\"#fb9f3a\"],[0.8888888888888888,\"#fdca26\"],[1.0,\"#f0f921\"]],\"diverging\":[[0,\"#8e0152\"],[0.1,\"#c51b7d\"],[0.2,\"#de77ae\"],[0.3,\"#f1b6da\"],[0.4,\"#fde0ef\"],[0.5,\"#f7f7f7\"],[0.6,\"#e6f5d0\"],[0.7,\"#b8e186\"],[0.8,\"#7fbc41\"],[0.9,\"#4d9221\"],[1,\"#276419\"]]},\"xaxis\":{\"gridcolor\":\"white\",\"linecolor\":\"white\",\"ticks\":\"\",\"title\":{\"standoff\":15},\"zerolinecolor\":\"white\",\"automargin\":true,\"zerolinewidth\":2},\"yaxis\":{\"gridcolor\":\"white\",\"linecolor\":\"white\",\"ticks\":\"\",\"title\":{\"standoff\":15},\"zerolinecolor\":\"white\",\"automargin\":true,\"zerolinewidth\":2},\"scene\":{\"xaxis\":{\"backgroundcolor\":\"#E5ECF6\",\"gridcolor\":\"white\",\"linecolor\":\"white\",\"showbackground\":true,\"ticks\":\"\",\"zerolinecolor\":\"white\",\"gridwidth\":2},\"yaxis\":{\"backgroundcolor\":\"#E5ECF6\",\"gridcolor\":\"white\",\"linecolor\":\"white\",\"showbackground\":true,\"ticks\":\"\",\"zerolinecolor\":\"white\",\"gridwidth\":2},\"zaxis\":{\"backgroundcolor\":\"#E5ECF6\",\"gridcolor\":\"white\",\"linecolor\":\"white\",\"showbackground\":true,\"ticks\":\"\",\"zerolinecolor\":\"white\",\"gridwidth\":2}},\"shapedefaults\":{\"line\":{\"color\":\"#2a3f5f\"}},\"annotationdefaults\":{\"arrowcolor\":\"#2a3f5f\",\"arrowhead\":0,\"arrowwidth\":1},\"geo\":{\"bgcolor\":\"white\",\"landcolor\":\"#E5ECF6\",\"subunitcolor\":\"white\",\"showland\":true,\"showlakes\":true,\"lakecolor\":\"white\"},\"title\":{\"x\":0.05},\"mapbox\":{\"style\":\"light\"}}},\"annotations\":[{\"showarrow\":false,\"text\":\"614\",\"textangle\":-90,\"x\":\"AA\",\"y\":614,\"yshift\":30},{\"showarrow\":false,\"text\":\"1541\",\"textangle\":-90,\"x\":\"AC\",\"y\":1541,\"yshift\":30},{\"showarrow\":false,\"text\":\"1255766\",\"textangle\":-90,\"x\":\"AG\",\"y\":1255766,\"yshift\":30},{\"showarrow\":false,\"text\":\"451\",\"textangle\":-90,\"x\":\"AT\",\"y\":451,\"yshift\":30},{\"showarrow\":false,\"text\":\"365\",\"textangle\":-90,\"x\":\"CA\",\"y\":365,\"yshift\":30},{\"showarrow\":false,\"text\":\"299\",\"textangle\":-90,\"x\":\"CC\",\"y\":299,\"yshift\":30},{\"showarrow\":false,\"text\":\"136\",\"textangle\":-90,\"x\":\"CG\",\"y\":136,\"yshift\":30},{\"showarrow\":false,\"text\":\"284\",\"textangle\":-90,\"x\":\"CT\",\"y\":284,\"yshift\":30},{\"showarrow\":false,\"text\":\"297\",\"textangle\":-90,\"x\":\"GA\",\"y\":297,\"yshift\":30},{\"showarrow\":false,\"text\":\"195\",\"textangle\":-90,\"x\":\"GC\",\"y\":195,\"yshift\":30},{\"showarrow\":false,\"text\":\"474\",\"textangle\":-90,\"x\":\"GG\",\"y\":474,\"yshift\":30},{\"showarrow\":false,\"text\":\"191\",\"textangle\":-90,\"x\":\"GT\",\"y\":191,\"yshift\":30},{\"showarrow\":false,\"text\":\"248\",\"textangle\":-90,\"x\":\"TA\",\"y\":248,\"yshift\":30},{\"showarrow\":false,\"text\":\"220\",\"textangle\":-90,\"x\":\"TC\",\"y\":220,\"yshift\":30},{\"showarrow\":false,\"text\":\"612\",\"textangle\":-90,\"x\":\"TG\",\"y\":612,\"yshift\":30},{\"showarrow\":false,\"text\":\"307\",\"textangle\":-90,\"x\":\"TT\",\"y\":307,\"yshift\":30}]},                        {\"responsive\": true}                    ).then(function(){\n",
       "                            \n",
       "var gd = document.getElementById('3c9b216b-a75c-49bd-9732-f1c68d86f61b');\n",
       "var x = new MutationObserver(function (mutations, observer) {{\n",
       "        var display = window.getComputedStyle(gd).display;\n",
       "        if (!display || display === 'none') {{\n",
       "            console.log([gd, 'removed!']);\n",
       "            Plotly.purge(gd);\n",
       "            observer.disconnect();\n",
       "        }}\n",
       "}});\n",
       "\n",
       "// Listen for the removal of the full notebook cells\n",
       "var notebookContainer = gd.closest('#notebook-container');\n",
       "if (notebookContainer) {{\n",
       "    x.observe(notebookContainer, {childList: true});\n",
       "}}\n",
       "\n",
       "// Listen for the clearing of the current output cell\n",
       "var outputEl = gd.closest('.output');\n",
       "if (outputEl) {{\n",
       "    x.observe(outputEl, {childList: true});\n",
       "}}\n",
       "\n",
       "                        })                };                });            </script>        </div>"
      ]
     },
     "metadata": {},
     "output_type": "display_data"
    }
   ],
   "source": [
    "# Count the frequency of each unique value\n",
    "counts = df_temp['check'].value_counts().sort_index()\n",
    "\n",
    "# Create a bar chart (which visually is a histogram) using Plotly\n",
    "fig = go.Figure(data=[go.Bar(\n",
    "    x=counts.index,\n",
    "    y=counts.values,\n",
    ")])\n",
    "\n",
    "# Add annotations with a vertical angle\n",
    "for i in range(len(counts)):\n",
    "    fig.add_annotation(\n",
    "        x=counts.index[i],\n",
    "        y=counts.values[i],\n",
    "        text=str(counts.values[i]),\n",
    "        showarrow=False,\n",
    "        yshift=30,\n",
    "        textangle=-90  # This will rotate the text vertically\n",
    "    )\n",
    "\n",
    "# Show the plot\n",
    "fig.show()"
   ]
  },
  {
   "cell_type": "code",
   "execution_count": 30,
   "id": "5c3554ca-0822-41b3-9996-a2e075dbacdf",
   "metadata": {},
   "outputs": [
    {
     "data": {
      "text/html": [
       "<div>\n",
       "<style scoped>\n",
       "    .dataframe tbody tr th:only-of-type {\n",
       "        vertical-align: middle;\n",
       "    }\n",
       "\n",
       "    .dataframe tbody tr th {\n",
       "        vertical-align: top;\n",
       "    }\n",
       "\n",
       "    .dataframe thead th {\n",
       "        text-align: right;\n",
       "    }\n",
       "</style>\n",
       "<table border=\"1\" class=\"dataframe\">\n",
       "  <thead>\n",
       "    <tr style=\"text-align: right;\">\n",
       "      <th></th>\n",
       "      <th>transcript_id</th>\n",
       "      <th>exon_id</th>\n",
       "      <th>transcript_type</th>\n",
       "      <th>strand</th>\n",
       "      <th>coordinates</th>\n",
       "      <th>sequence</th>\n",
       "      <th>chr_name</th>\n",
       "    </tr>\n",
       "  </thead>\n",
       "  <tbody>\n",
       "    <tr>\n",
       "      <th>0</th>\n",
       "      <td>ENST00000003583.12</td>\n",
       "      <td>ENSE00003692979.1</td>\n",
       "      <td>protein_coding</td>\n",
       "      <td>-</td>\n",
       "      <td>24401457</td>\n",
       "      <td>TCAACAGTGACTTCTTACGCAGTTCCTACTGCAGGCAGCACCAGCA...</td>\n",
       "      <td>chr1</td>\n",
       "    </tr>\n",
       "    <tr>\n",
       "      <th>1</th>\n",
       "      <td>ENST00000003583.12</td>\n",
       "      <td>ENSE00003638911.1</td>\n",
       "      <td>protein_coding</td>\n",
       "      <td>-</td>\n",
       "      <td>24384004</td>\n",
       "      <td>TTCCAGCCCCACCACTTGGTAACTGAGACGAAGATCGGGCAAGTCA...</td>\n",
       "      <td>chr1</td>\n",
       "    </tr>\n",
       "    <tr>\n",
       "      <th>2</th>\n",
       "      <td>ENST00000003583.12</td>\n",
       "      <td>ENSE00003688858.1</td>\n",
       "      <td>protein_coding</td>\n",
       "      <td>-</td>\n",
       "      <td>24379824</td>\n",
       "      <td>AAGCGAGTACAGGTCTGAACTTGCGTTTTCCAAGGGAAGATCCTCA...</td>\n",
       "      <td>chr1</td>\n",
       "    </tr>\n",
       "    <tr>\n",
       "      <th>3</th>\n",
       "      <td>ENST00000003583.12</td>\n",
       "      <td>ENSE00003631141.1</td>\n",
       "      <td>protein_coding</td>\n",
       "      <td>-</td>\n",
       "      <td>24373811</td>\n",
       "      <td>AAACTCATAGACCACTTGAGCTGGGATGACAGGGAAGCCACAGCCA...</td>\n",
       "      <td>chr1</td>\n",
       "    </tr>\n",
       "    <tr>\n",
       "      <th>4</th>\n",
       "      <td>ENST00000003583.12</td>\n",
       "      <td>ENSE00003516207.1</td>\n",
       "      <td>protein_coding</td>\n",
       "      <td>-</td>\n",
       "      <td>24369840</td>\n",
       "      <td>AGCTAAGTGTGTGCTTCCCGTGCCATCTGTTCTCTGCATGGTGAGG...</td>\n",
       "      <td>chr1</td>\n",
       "    </tr>\n",
       "    <tr>\n",
       "      <th>...</th>\n",
       "      <td>...</td>\n",
       "      <td>...</td>\n",
       "      <td>...</td>\n",
       "      <td>...</td>\n",
       "      <td>...</td>\n",
       "      <td>...</td>\n",
       "      <td>...</td>\n",
       "    </tr>\n",
       "    <tr>\n",
       "      <th>1261995</th>\n",
       "      <td>ENST00000684226.1</td>\n",
       "      <td>ENSE00003767626.1</td>\n",
       "      <td>non_stop_decay</td>\n",
       "      <td>-</td>\n",
       "      <td>13297849</td>\n",
       "      <td>AATGTCTCGCATATTGTGACTGCTCTTTACGTTAGGTTTTTTTTTA...</td>\n",
       "      <td>chrY</td>\n",
       "    </tr>\n",
       "    <tr>\n",
       "      <th>1261996</th>\n",
       "      <td>ENST00000684226.1</td>\n",
       "      <td>ENSE00003761778.1</td>\n",
       "      <td>non_stop_decay</td>\n",
       "      <td>-</td>\n",
       "      <td>13260405</td>\n",
       "      <td>GTCAAATGTCAGTTATTCTCAACTTTAAATATTTTAATATTGTCAT...</td>\n",
       "      <td>chrY</td>\n",
       "    </tr>\n",
       "    <tr>\n",
       "      <th>1261997</th>\n",
       "      <td>ENST00000684226.1</td>\n",
       "      <td>ENSE00001713248.1</td>\n",
       "      <td>non_stop_decay</td>\n",
       "      <td>-</td>\n",
       "      <td>13251188</td>\n",
       "      <td>TTTCTCTGGGTGTGCTACAAAACAAAACCTAGTGTCTCAAACTCAC...</td>\n",
       "      <td>chrY</td>\n",
       "    </tr>\n",
       "    <tr>\n",
       "      <th>1261998</th>\n",
       "      <td>ENST00000684226.1</td>\n",
       "      <td>ENSE00003917271.1</td>\n",
       "      <td>non_stop_decay</td>\n",
       "      <td>-</td>\n",
       "      <td>13234827</td>\n",
       "      <td>AGCTTGCACTGACCTGCAGGTGTTCCTTGATATATACATCCTGGGT...</td>\n",
       "      <td>chrY</td>\n",
       "    </tr>\n",
       "    <tr>\n",
       "      <th>1261999</th>\n",
       "      <td>ENST00000684326.1</td>\n",
       "      <td>ENSE00003920852.1</td>\n",
       "      <td>processed_transcript</td>\n",
       "      <td>-</td>\n",
       "      <td>13234827</td>\n",
       "      <td>AGCTTGCACTGACCTGCAGGTGTTCCTTGATATATACATCCTGGGT...</td>\n",
       "      <td>chrY</td>\n",
       "    </tr>\n",
       "  </tbody>\n",
       "</table>\n",
       "<p>1255766 rows × 7 columns</p>\n",
       "</div>"
      ],
      "text/plain": [
       "              transcript_id            exon_id       transcript_type strand  \\\n",
       "0        ENST00000003583.12  ENSE00003692979.1        protein_coding      -   \n",
       "1        ENST00000003583.12  ENSE00003638911.1        protein_coding      -   \n",
       "2        ENST00000003583.12  ENSE00003688858.1        protein_coding      -   \n",
       "3        ENST00000003583.12  ENSE00003631141.1        protein_coding      -   \n",
       "4        ENST00000003583.12  ENSE00003516207.1        protein_coding      -   \n",
       "...                     ...                ...                   ...    ...   \n",
       "1261995   ENST00000684226.1  ENSE00003767626.1        non_stop_decay      -   \n",
       "1261996   ENST00000684226.1  ENSE00003761778.1        non_stop_decay      -   \n",
       "1261997   ENST00000684226.1  ENSE00001713248.1        non_stop_decay      -   \n",
       "1261998   ENST00000684226.1  ENSE00003917271.1        non_stop_decay      -   \n",
       "1261999   ENST00000684326.1  ENSE00003920852.1  processed_transcript      -   \n",
       "\n",
       "         coordinates                                           sequence  \\\n",
       "0           24401457  TCAACAGTGACTTCTTACGCAGTTCCTACTGCAGGCAGCACCAGCA...   \n",
       "1           24384004  TTCCAGCCCCACCACTTGGTAACTGAGACGAAGATCGGGCAAGTCA...   \n",
       "2           24379824  AAGCGAGTACAGGTCTGAACTTGCGTTTTCCAAGGGAAGATCCTCA...   \n",
       "3           24373811  AAACTCATAGACCACTTGAGCTGGGATGACAGGGAAGCCACAGCCA...   \n",
       "4           24369840  AGCTAAGTGTGTGCTTCCCGTGCCATCTGTTCTCTGCATGGTGAGG...   \n",
       "...              ...                                                ...   \n",
       "1261995     13297849  AATGTCTCGCATATTGTGACTGCTCTTTACGTTAGGTTTTTTTTTA...   \n",
       "1261996     13260405  GTCAAATGTCAGTTATTCTCAACTTTAAATATTTTAATATTGTCAT...   \n",
       "1261997     13251188  TTTCTCTGGGTGTGCTACAAAACAAAACCTAGTGTCTCAAACTCAC...   \n",
       "1261998     13234827  AGCTTGCACTGACCTGCAGGTGTTCCTTGATATATACATCCTGGGT...   \n",
       "1261999     13234827  AGCTTGCACTGACCTGCAGGTGTTCCTTGATATATACATCCTGGGT...   \n",
       "\n",
       "        chr_name  \n",
       "0           chr1  \n",
       "1           chr1  \n",
       "2           chr1  \n",
       "3           chr1  \n",
       "4           chr1  \n",
       "...          ...  \n",
       "1261995     chrY  \n",
       "1261996     chrY  \n",
       "1261997     chrY  \n",
       "1261998     chrY  \n",
       "1261999     chrY  \n",
       "\n",
       "[1255766 rows x 7 columns]"
      ]
     },
     "execution_count": 30,
     "metadata": {},
     "output_type": "execute_result"
    }
   ],
   "source": [
    "df_AG = combined_df[combined_df['sequence'].str[197:199]=='AG']\n",
    "df_AG"
   ]
  },
  {
   "cell_type": "code",
   "execution_count": 31,
   "id": "aa87ab19-68ea-4391-ae39-b3c52940c190",
   "metadata": {},
   "outputs": [],
   "source": [
    "def acceptor_39to40(text):\n",
    "    return text[159:239]"
   ]
  },
  {
   "cell_type": "code",
   "execution_count": 32,
   "id": "255123da-b4c3-4162-a788-1544ff494564",
   "metadata": {},
   "outputs": [
    {
     "name": "stderr",
     "output_type": "stream",
     "text": [
      "/tmp/ipykernel_2705657/1692111506.py:1: SettingWithCopyWarning:\n",
      "\n",
      "\n",
      "A value is trying to be set on a copy of a slice from a DataFrame.\n",
      "Try using .loc[row_indexer,col_indexer] = value instead\n",
      "\n",
      "See the caveats in the documentation: https://pandas.pydata.org/pandas-docs/stable/user_guide/indexing.html#returning-a-view-versus-a-copy\n",
      "\n"
     ]
    }
   ],
   "source": [
    "df_AG['acceptor_40BP'] = df_AG['sequence'].apply(acceptor_39to40)"
   ]
  },
  {
   "cell_type": "code",
   "execution_count": 33,
   "id": "32527f24-3e9d-4ca2-9208-253ac2d8b236",
   "metadata": {},
   "outputs": [
    {
     "data": {
      "text/html": [
       "<div>\n",
       "<style scoped>\n",
       "    .dataframe tbody tr th:only-of-type {\n",
       "        vertical-align: middle;\n",
       "    }\n",
       "\n",
       "    .dataframe tbody tr th {\n",
       "        vertical-align: top;\n",
       "    }\n",
       "\n",
       "    .dataframe thead th {\n",
       "        text-align: right;\n",
       "    }\n",
       "</style>\n",
       "<table border=\"1\" class=\"dataframe\">\n",
       "  <thead>\n",
       "    <tr style=\"text-align: right;\">\n",
       "      <th></th>\n",
       "      <th>transcript_id</th>\n",
       "      <th>exon_id</th>\n",
       "      <th>transcript_type</th>\n",
       "      <th>strand</th>\n",
       "      <th>coordinates</th>\n",
       "      <th>sequence</th>\n",
       "      <th>chr_name</th>\n",
       "      <th>acceptor_40BP</th>\n",
       "    </tr>\n",
       "  </thead>\n",
       "  <tbody>\n",
       "    <tr>\n",
       "      <th>0</th>\n",
       "      <td>ENST00000003583.12</td>\n",
       "      <td>ENSE00003692979.1</td>\n",
       "      <td>protein_coding</td>\n",
       "      <td>-</td>\n",
       "      <td>24401457</td>\n",
       "      <td>TCAACAGTGACTTCTTACGCAGTTCCTACTGCAGGCAGCACCAGCA...</td>\n",
       "      <td>chr1</td>\n",
       "      <td>GTGAAATGATCTCTACAAATGCTGTGTTTTGCTGTTTCAGGTGCTT...</td>\n",
       "    </tr>\n",
       "    <tr>\n",
       "      <th>1</th>\n",
       "      <td>ENST00000003583.12</td>\n",
       "      <td>ENSE00003638911.1</td>\n",
       "      <td>protein_coding</td>\n",
       "      <td>-</td>\n",
       "      <td>24384004</td>\n",
       "      <td>TTCCAGCCCCACCACTTGGTAACTGAGACGAAGATCGGGCAAGTCA...</td>\n",
       "      <td>chr1</td>\n",
       "      <td>TTGAAGTATCTCGATGACACCACCTTCTCTTCCCTTTCAGAATGAT...</td>\n",
       "    </tr>\n",
       "    <tr>\n",
       "      <th>2</th>\n",
       "      <td>ENST00000003583.12</td>\n",
       "      <td>ENSE00003688858.1</td>\n",
       "      <td>protein_coding</td>\n",
       "      <td>-</td>\n",
       "      <td>24379824</td>\n",
       "      <td>AAGCGAGTACAGGTCTGAACTTGCGTTTTCCAAGGGAAGATCCTCA...</td>\n",
       "      <td>chr1</td>\n",
       "      <td>TTATGTGACAATGCTGATTCCTTTGGTTGTCTCCTTACAGTGCGCC...</td>\n",
       "    </tr>\n",
       "    <tr>\n",
       "      <th>3</th>\n",
       "      <td>ENST00000003583.12</td>\n",
       "      <td>ENSE00003631141.1</td>\n",
       "      <td>protein_coding</td>\n",
       "      <td>-</td>\n",
       "      <td>24373811</td>\n",
       "      <td>AAACTCATAGACCACTTGAGCTGGGATGACAGGGAAGCCACAGCCA...</td>\n",
       "      <td>chr1</td>\n",
       "      <td>GAAAGGTACTGAGTACATTGGGTGTATTTTCTCCCCCTAGGCCTCT...</td>\n",
       "    </tr>\n",
       "    <tr>\n",
       "      <th>4</th>\n",
       "      <td>ENST00000003583.12</td>\n",
       "      <td>ENSE00003516207.1</td>\n",
       "      <td>protein_coding</td>\n",
       "      <td>-</td>\n",
       "      <td>24369840</td>\n",
       "      <td>AGCTAAGTGTGTGCTTCCCGTGCCATCTGTTCTCTGCATGGTGAGG...</td>\n",
       "      <td>chr1</td>\n",
       "      <td>AAGAGTTCCTTATTCTGTCCTAAAATTTCTTTCTCCTTAGGGCATT...</td>\n",
       "    </tr>\n",
       "    <tr>\n",
       "      <th>...</th>\n",
       "      <td>...</td>\n",
       "      <td>...</td>\n",
       "      <td>...</td>\n",
       "      <td>...</td>\n",
       "      <td>...</td>\n",
       "      <td>...</td>\n",
       "      <td>...</td>\n",
       "      <td>...</td>\n",
       "    </tr>\n",
       "    <tr>\n",
       "      <th>1261995</th>\n",
       "      <td>ENST00000684226.1</td>\n",
       "      <td>ENSE00003767626.1</td>\n",
       "      <td>non_stop_decay</td>\n",
       "      <td>-</td>\n",
       "      <td>13297849</td>\n",
       "      <td>AATGTCTCGCATATTGTGACTGCTCTTTACGTTAGGTTTTTTTTTA...</td>\n",
       "      <td>chrY</td>\n",
       "      <td>ACTTTGGGTTACTTTATGACTGTTGCTTTTTTCCTTCTAGCCTGCC...</td>\n",
       "    </tr>\n",
       "    <tr>\n",
       "      <th>1261996</th>\n",
       "      <td>ENST00000684226.1</td>\n",
       "      <td>ENSE00003761778.1</td>\n",
       "      <td>non_stop_decay</td>\n",
       "      <td>-</td>\n",
       "      <td>13260405</td>\n",
       "      <td>GTCAAATGTCAGTTATTCTCAACTTTAAATATTTTAATATTGTCAT...</td>\n",
       "      <td>chrY</td>\n",
       "      <td>TTCAGTAGTTACTCTCACAAATAGTTTTTTCCCACAATAGGTATTG...</td>\n",
       "    </tr>\n",
       "    <tr>\n",
       "      <th>1261997</th>\n",
       "      <td>ENST00000684226.1</td>\n",
       "      <td>ENSE00001713248.1</td>\n",
       "      <td>non_stop_decay</td>\n",
       "      <td>-</td>\n",
       "      <td>13251188</td>\n",
       "      <td>TTTCTCTGGGTGTGCTACAAAACAAAACCTAGTGTCTCAAACTCAC...</td>\n",
       "      <td>chrY</td>\n",
       "      <td>ACTGTCCAATACTTTTTGTTTATTTATTTATTTAATATAGGTGGAG...</td>\n",
       "    </tr>\n",
       "    <tr>\n",
       "      <th>1261998</th>\n",
       "      <td>ENST00000684226.1</td>\n",
       "      <td>ENSE00003917271.1</td>\n",
       "      <td>non_stop_decay</td>\n",
       "      <td>-</td>\n",
       "      <td>13234827</td>\n",
       "      <td>AGCTTGCACTGACCTGCAGGTGTTCCTTGATATATACATCCTGGGT...</td>\n",
       "      <td>chrY</td>\n",
       "      <td>TCCTGCAAACCCCAATGTGAACTTGTGGTGCCTTTTCCAGGCCTCC...</td>\n",
       "    </tr>\n",
       "    <tr>\n",
       "      <th>1261999</th>\n",
       "      <td>ENST00000684326.1</td>\n",
       "      <td>ENSE00003920852.1</td>\n",
       "      <td>processed_transcript</td>\n",
       "      <td>-</td>\n",
       "      <td>13234827</td>\n",
       "      <td>AGCTTGCACTGACCTGCAGGTGTTCCTTGATATATACATCCTGGGT...</td>\n",
       "      <td>chrY</td>\n",
       "      <td>TCCTGCAAACCCCAATGTGAACTTGTGGTGCCTTTTCCAGGCCTCC...</td>\n",
       "    </tr>\n",
       "  </tbody>\n",
       "</table>\n",
       "<p>1255766 rows × 8 columns</p>\n",
       "</div>"
      ],
      "text/plain": [
       "              transcript_id            exon_id       transcript_type strand  \\\n",
       "0        ENST00000003583.12  ENSE00003692979.1        protein_coding      -   \n",
       "1        ENST00000003583.12  ENSE00003638911.1        protein_coding      -   \n",
       "2        ENST00000003583.12  ENSE00003688858.1        protein_coding      -   \n",
       "3        ENST00000003583.12  ENSE00003631141.1        protein_coding      -   \n",
       "4        ENST00000003583.12  ENSE00003516207.1        protein_coding      -   \n",
       "...                     ...                ...                   ...    ...   \n",
       "1261995   ENST00000684226.1  ENSE00003767626.1        non_stop_decay      -   \n",
       "1261996   ENST00000684226.1  ENSE00003761778.1        non_stop_decay      -   \n",
       "1261997   ENST00000684226.1  ENSE00001713248.1        non_stop_decay      -   \n",
       "1261998   ENST00000684226.1  ENSE00003917271.1        non_stop_decay      -   \n",
       "1261999   ENST00000684326.1  ENSE00003920852.1  processed_transcript      -   \n",
       "\n",
       "         coordinates                                           sequence  \\\n",
       "0           24401457  TCAACAGTGACTTCTTACGCAGTTCCTACTGCAGGCAGCACCAGCA...   \n",
       "1           24384004  TTCCAGCCCCACCACTTGGTAACTGAGACGAAGATCGGGCAAGTCA...   \n",
       "2           24379824  AAGCGAGTACAGGTCTGAACTTGCGTTTTCCAAGGGAAGATCCTCA...   \n",
       "3           24373811  AAACTCATAGACCACTTGAGCTGGGATGACAGGGAAGCCACAGCCA...   \n",
       "4           24369840  AGCTAAGTGTGTGCTTCCCGTGCCATCTGTTCTCTGCATGGTGAGG...   \n",
       "...              ...                                                ...   \n",
       "1261995     13297849  AATGTCTCGCATATTGTGACTGCTCTTTACGTTAGGTTTTTTTTTA...   \n",
       "1261996     13260405  GTCAAATGTCAGTTATTCTCAACTTTAAATATTTTAATATTGTCAT...   \n",
       "1261997     13251188  TTTCTCTGGGTGTGCTACAAAACAAAACCTAGTGTCTCAAACTCAC...   \n",
       "1261998     13234827  AGCTTGCACTGACCTGCAGGTGTTCCTTGATATATACATCCTGGGT...   \n",
       "1261999     13234827  AGCTTGCACTGACCTGCAGGTGTTCCTTGATATATACATCCTGGGT...   \n",
       "\n",
       "        chr_name                                      acceptor_40BP  \n",
       "0           chr1  GTGAAATGATCTCTACAAATGCTGTGTTTTGCTGTTTCAGGTGCTT...  \n",
       "1           chr1  TTGAAGTATCTCGATGACACCACCTTCTCTTCCCTTTCAGAATGAT...  \n",
       "2           chr1  TTATGTGACAATGCTGATTCCTTTGGTTGTCTCCTTACAGTGCGCC...  \n",
       "3           chr1  GAAAGGTACTGAGTACATTGGGTGTATTTTCTCCCCCTAGGCCTCT...  \n",
       "4           chr1  AAGAGTTCCTTATTCTGTCCTAAAATTTCTTTCTCCTTAGGGCATT...  \n",
       "...          ...                                                ...  \n",
       "1261995     chrY  ACTTTGGGTTACTTTATGACTGTTGCTTTTTTCCTTCTAGCCTGCC...  \n",
       "1261996     chrY  TTCAGTAGTTACTCTCACAAATAGTTTTTTCCCACAATAGGTATTG...  \n",
       "1261997     chrY  ACTGTCCAATACTTTTTGTTTATTTATTTATTTAATATAGGTGGAG...  \n",
       "1261998     chrY  TCCTGCAAACCCCAATGTGAACTTGTGGTGCCTTTTCCAGGCCTCC...  \n",
       "1261999     chrY  TCCTGCAAACCCCAATGTGAACTTGTGGTGCCTTTTCCAGGCCTCC...  \n",
       "\n",
       "[1255766 rows x 8 columns]"
      ]
     },
     "execution_count": 33,
     "metadata": {},
     "output_type": "execute_result"
    }
   ],
   "source": [
    "df_AG"
   ]
  },
  {
   "cell_type": "code",
   "execution_count": 34,
   "id": "98f7f3a0-a6fd-499e-9c90-87d92ee374e6",
   "metadata": {},
   "outputs": [
    {
     "data": {
      "text/html": [
       "<div>\n",
       "<style scoped>\n",
       "    .dataframe tbody tr th:only-of-type {\n",
       "        vertical-align: middle;\n",
       "    }\n",
       "\n",
       "    .dataframe tbody tr th {\n",
       "        vertical-align: top;\n",
       "    }\n",
       "\n",
       "    .dataframe thead th {\n",
       "        text-align: right;\n",
       "    }\n",
       "</style>\n",
       "<table border=\"1\" class=\"dataframe\">\n",
       "  <thead>\n",
       "    <tr style=\"text-align: right;\">\n",
       "      <th></th>\n",
       "      <th>transcript_id</th>\n",
       "      <th>exon_id</th>\n",
       "      <th>transcript_type</th>\n",
       "      <th>strand</th>\n",
       "      <th>coordinates</th>\n",
       "      <th>sequence</th>\n",
       "      <th>chr_name</th>\n",
       "      <th>acceptor_40BP</th>\n",
       "    </tr>\n",
       "  </thead>\n",
       "  <tbody>\n",
       "    <tr>\n",
       "      <th>1081155</th>\n",
       "      <td>ENST00000004982.6</td>\n",
       "      <td>ENSE00000699587.1</td>\n",
       "      <td>protein_coding</td>\n",
       "      <td>-</td>\n",
       "      <td>35755895</td>\n",
       "      <td>AGATATTACAGGGGGAGGGCGTATCCCTGTTGTTCAGGGTGAAGAG...</td>\n",
       "      <td>chr19</td>\n",
       "      <td>CCAGCCCAATGACAGTCCCGCCCGCGCCCGCTGCGCTCAGGTGCCG...</td>\n",
       "    </tr>\n",
       "    <tr>\n",
       "      <th>1081156</th>\n",
       "      <td>ENST00000004982.6</td>\n",
       "      <td>ENSE00002780484.3</td>\n",
       "      <td>protein_coding</td>\n",
       "      <td>-</td>\n",
       "      <td>35755684</td>\n",
       "      <td>CCCGGCCACTTTTCGGTGCTGCTAGACGTGAAGCACTTCTCGCCGG...</td>\n",
       "      <td>chr19</td>\n",
       "      <td>GCCGGAGGGGCGGGGCCGCTCAAGCCTCCCTCCCCTCCAGGATGAG...</td>\n",
       "    </tr>\n",
       "    <tr>\n",
       "      <th>1081157</th>\n",
       "      <td>ENST00000006275.8</td>\n",
       "      <td>ENSE00003500714.1</td>\n",
       "      <td>protein_coding</td>\n",
       "      <td>-</td>\n",
       "      <td>45165195</td>\n",
       "      <td>AGAGGTGGGTGAGGGAGCCCCAGCACCCTAGAGGCCTGCCCCTGCC...</td>\n",
       "      <td>chr19</td>\n",
       "      <td>TGGCTAAGGGCCCCTGAGCATCTCTCCCCTGGCCTTCTAGGGACAG...</td>\n",
       "    </tr>\n",
       "    <tr>\n",
       "      <th>1081158</th>\n",
       "      <td>ENST00000006275.8</td>\n",
       "      <td>ENSE00003491197.1</td>\n",
       "      <td>protein_coding</td>\n",
       "      <td>-</td>\n",
       "      <td>45164971</td>\n",
       "      <td>TGGAGGGTATGGGGTTCCGTGTGGGCCAGGCTCTAGGCGAGAGGTG...</td>\n",
       "      <td>chr19</td>\n",
       "      <td>GGCCTGGCCCCACGGCCTCAGCTTGGTACTGCCCCACCAGGCTGCC...</td>\n",
       "    </tr>\n",
       "    <tr>\n",
       "      <th>1081159</th>\n",
       "      <td>ENST00000006275.8</td>\n",
       "      <td>ENSE00003512065.1</td>\n",
       "      <td>protein_coding</td>\n",
       "      <td>-</td>\n",
       "      <td>45164248</td>\n",
       "      <td>AGGGCACAGGCACCCACTCCAAGTTTGGAAGCCCTGGGCCCTACCA...</td>\n",
       "      <td>chr19</td>\n",
       "      <td>CAGGCCCCGACCCCACCCACCAGCCTCTCCTCTCCCCCAGGGGACC...</td>\n",
       "    </tr>\n",
       "    <tr>\n",
       "      <th>...</th>\n",
       "      <td>...</td>\n",
       "      <td>...</td>\n",
       "      <td>...</td>\n",
       "      <td>...</td>\n",
       "      <td>...</td>\n",
       "      <td>...</td>\n",
       "      <td>...</td>\n",
       "      <td>...</td>\n",
       "    </tr>\n",
       "    <tr>\n",
       "      <th>1147717</th>\n",
       "      <td>ENST00000684775.1</td>\n",
       "      <td>ENSE00003493213.1</td>\n",
       "      <td>protein_coding</td>\n",
       "      <td>+</td>\n",
       "      <td>17988414</td>\n",
       "      <td>AGCTAATGTGTGGGACATGGTTCCCTCTGACATTTGATGAATAGGA...</td>\n",
       "      <td>chr19</td>\n",
       "      <td>AAGACAGGACGCTGATGTGCCCCCTCTGCCCTGCACACAGGGAGCT...</td>\n",
       "    </tr>\n",
       "    <tr>\n",
       "      <th>1147718</th>\n",
       "      <td>ENST00000684775.1</td>\n",
       "      <td>ENSE00003581156.1</td>\n",
       "      <td>protein_coding</td>\n",
       "      <td>+</td>\n",
       "      <td>17989715</td>\n",
       "      <td>GGCCCATCATGAGTGATGTGTGTTAGGTATACACACACTGCACAGA...</td>\n",
       "      <td>chr19</td>\n",
       "      <td>TCGCGCCAACCCTGAGGAATTGTTCTTTTTCTGGCCCCAGGTAAAA...</td>\n",
       "    </tr>\n",
       "    <tr>\n",
       "      <th>1147719</th>\n",
       "      <td>ENST00000684775.1</td>\n",
       "      <td>ENSE00003711217.1</td>\n",
       "      <td>protein_coding</td>\n",
       "      <td>+</td>\n",
       "      <td>17993053</td>\n",
       "      <td>CCCTGAGGGGCTGGCACAGAACCCTCAGAGGCTGGGCACCTCCCCA...</td>\n",
       "      <td>chr19</td>\n",
       "      <td>TGCCTTGTGATTTTTCTCCTGCTCTGCCCGGTCCTGCCAGGGCTCA...</td>\n",
       "    </tr>\n",
       "    <tr>\n",
       "      <th>1147720</th>\n",
       "      <td>ENST00000684775.1</td>\n",
       "      <td>ENSE00003604341.1</td>\n",
       "      <td>protein_coding</td>\n",
       "      <td>+</td>\n",
       "      <td>17993489</td>\n",
       "      <td>CAGGCTGACTTCTGGCCCTGGCGCACCGGCTGTGTACTGGGAGGGA...</td>\n",
       "      <td>chr19</td>\n",
       "      <td>AACCTGCCTAACCCCCTCCCCCAACCCCGTGTCCCCACAGGCTCCG...</td>\n",
       "    </tr>\n",
       "    <tr>\n",
       "      <th>1147721</th>\n",
       "      <td>ENST00000684775.1</td>\n",
       "      <td>ENSE00003721165.2</td>\n",
       "      <td>protein_coding</td>\n",
       "      <td>+</td>\n",
       "      <td>17998151</td>\n",
       "      <td>CTCCAATCCTTCCCTGGGCCCAGCAAGGGACCTCTGGGGCTGGGGG...</td>\n",
       "      <td>chr19</td>\n",
       "      <td>TCAGCGGCGCCTCTCTCCTGCCCCTCTCTGTCTCCCGCAGACCCAG...</td>\n",
       "    </tr>\n",
       "  </tbody>\n",
       "</table>\n",
       "<p>66169 rows × 8 columns</p>\n",
       "</div>"
      ],
      "text/plain": [
       "             transcript_id            exon_id transcript_type strand  \\\n",
       "1081155  ENST00000004982.6  ENSE00000699587.1  protein_coding      -   \n",
       "1081156  ENST00000004982.6  ENSE00002780484.3  protein_coding      -   \n",
       "1081157  ENST00000006275.8  ENSE00003500714.1  protein_coding      -   \n",
       "1081158  ENST00000006275.8  ENSE00003491197.1  protein_coding      -   \n",
       "1081159  ENST00000006275.8  ENSE00003512065.1  protein_coding      -   \n",
       "...                    ...                ...             ...    ...   \n",
       "1147717  ENST00000684775.1  ENSE00003493213.1  protein_coding      +   \n",
       "1147718  ENST00000684775.1  ENSE00003581156.1  protein_coding      +   \n",
       "1147719  ENST00000684775.1  ENSE00003711217.1  protein_coding      +   \n",
       "1147720  ENST00000684775.1  ENSE00003604341.1  protein_coding      +   \n",
       "1147721  ENST00000684775.1  ENSE00003721165.2  protein_coding      +   \n",
       "\n",
       "         coordinates                                           sequence  \\\n",
       "1081155     35755895  AGATATTACAGGGGGAGGGCGTATCCCTGTTGTTCAGGGTGAAGAG...   \n",
       "1081156     35755684  CCCGGCCACTTTTCGGTGCTGCTAGACGTGAAGCACTTCTCGCCGG...   \n",
       "1081157     45165195  AGAGGTGGGTGAGGGAGCCCCAGCACCCTAGAGGCCTGCCCCTGCC...   \n",
       "1081158     45164971  TGGAGGGTATGGGGTTCCGTGTGGGCCAGGCTCTAGGCGAGAGGTG...   \n",
       "1081159     45164248  AGGGCACAGGCACCCACTCCAAGTTTGGAAGCCCTGGGCCCTACCA...   \n",
       "...              ...                                                ...   \n",
       "1147717     17988414  AGCTAATGTGTGGGACATGGTTCCCTCTGACATTTGATGAATAGGA...   \n",
       "1147718     17989715  GGCCCATCATGAGTGATGTGTGTTAGGTATACACACACTGCACAGA...   \n",
       "1147719     17993053  CCCTGAGGGGCTGGCACAGAACCCTCAGAGGCTGGGCACCTCCCCA...   \n",
       "1147720     17993489  CAGGCTGACTTCTGGCCCTGGCGCACCGGCTGTGTACTGGGAGGGA...   \n",
       "1147721     17998151  CTCCAATCCTTCCCTGGGCCCAGCAAGGGACCTCTGGGGCTGGGGG...   \n",
       "\n",
       "        chr_name                                      acceptor_40BP  \n",
       "1081155    chr19  CCAGCCCAATGACAGTCCCGCCCGCGCCCGCTGCGCTCAGGTGCCG...  \n",
       "1081156    chr19  GCCGGAGGGGCGGGGCCGCTCAAGCCTCCCTCCCCTCCAGGATGAG...  \n",
       "1081157    chr19  TGGCTAAGGGCCCCTGAGCATCTCTCCCCTGGCCTTCTAGGGACAG...  \n",
       "1081158    chr19  GGCCTGGCCCCACGGCCTCAGCTTGGTACTGCCCCACCAGGCTGCC...  \n",
       "1081159    chr19  CAGGCCCCGACCCCACCCACCAGCCTCTCCTCTCCCCCAGGGGACC...  \n",
       "...          ...                                                ...  \n",
       "1147717    chr19  AAGACAGGACGCTGATGTGCCCCCTCTGCCCTGCACACAGGGAGCT...  \n",
       "1147718    chr19  TCGCGCCAACCCTGAGGAATTGTTCTTTTTCTGGCCCCAGGTAAAA...  \n",
       "1147719    chr19  TGCCTTGTGATTTTTCTCCTGCTCTGCCCGGTCCTGCCAGGGCTCA...  \n",
       "1147720    chr19  AACCTGCCTAACCCCCTCCCCCAACCCCGTGTCCCCACAGGCTCCG...  \n",
       "1147721    chr19  TCAGCGGCGCCTCTCTCCTGCCCCTCTCTGTCTCCCGCAGACCCAG...  \n",
       "\n",
       "[66169 rows x 8 columns]"
      ]
     },
     "execution_count": 34,
     "metadata": {},
     "output_type": "execute_result"
    }
   ],
   "source": [
    "df_AG_19 = df_AG[df_AG['chr_name']=='chr19']\n",
    "df_AG_19"
   ]
  },
  {
   "cell_type": "code",
   "execution_count": 35,
   "id": "4ab8325e-8ed9-4d4d-8ee3-5945180e7c58",
   "metadata": {},
   "outputs": [],
   "source": [
    "lower_bound = 44905879\n",
    "upper_bound = 44908751\n",
    "selected_rows = df_AG_19[(df_AG_19['coordinates'] >= lower_bound) & (df_AG_19['coordinates'] <= upper_bound)]"
   ]
  },
  {
   "cell_type": "code",
   "execution_count": 36,
   "id": "187bc9b0-080e-4035-813d-ef120a23ae18",
   "metadata": {},
   "outputs": [
    {
     "data": {
      "text/html": [
       "<div>\n",
       "<style scoped>\n",
       "    .dataframe tbody tr th:only-of-type {\n",
       "        vertical-align: middle;\n",
       "    }\n",
       "\n",
       "    .dataframe tbody tr th {\n",
       "        vertical-align: top;\n",
       "    }\n",
       "\n",
       "    .dataframe thead th {\n",
       "        text-align: right;\n",
       "    }\n",
       "</style>\n",
       "<table border=\"1\" class=\"dataframe\">\n",
       "  <thead>\n",
       "    <tr style=\"text-align: right;\">\n",
       "      <th></th>\n",
       "      <th>transcript_id</th>\n",
       "      <th>exon_id</th>\n",
       "      <th>transcript_type</th>\n",
       "      <th>strand</th>\n",
       "      <th>coordinates</th>\n",
       "      <th>sequence</th>\n",
       "      <th>chr_name</th>\n",
       "      <th>acceptor_40BP</th>\n",
       "    </tr>\n",
       "  </thead>\n",
       "  <tbody>\n",
       "    <tr>\n",
       "      <th>1083622</th>\n",
       "      <td>ENST00000252486.9</td>\n",
       "      <td>ENSE00003577086.1</td>\n",
       "      <td>protein_coding</td>\n",
       "      <td>+</td>\n",
       "      <td>44906601</td>\n",
       "      <td>ATGGGGAGATAAGAGAAGACCAGGAGGGAGTTAAATAGGGAATGGG...</td>\n",
       "      <td>chr19</td>\n",
       "      <td>GTCCTCACTGGCGGTTGATTGACAGTTTCTCCTTCCCCAGACTGGC...</td>\n",
       "    </tr>\n",
       "    <tr>\n",
       "      <th>1083623</th>\n",
       "      <td>ENST00000252486.9</td>\n",
       "      <td>ENSE00000893952.1</td>\n",
       "      <td>protein_coding</td>\n",
       "      <td>+</td>\n",
       "      <td>44907759</td>\n",
       "      <td>CACTCCAGCCTGGGTGACAGAGCAAGACCCTGTTTATAAATACATA...</td>\n",
       "      <td>chr19</td>\n",
       "      <td>TCAGAAGGACCCTGACCCACCTTGAACTTGTTCCACACAGGATGCC...</td>\n",
       "    </tr>\n",
       "    <tr>\n",
       "      <th>1083624</th>\n",
       "      <td>ENST00000252486.9</td>\n",
       "      <td>ENSE00000893954.3</td>\n",
       "      <td>protein_coding</td>\n",
       "      <td>+</td>\n",
       "      <td>44908532</td>\n",
       "      <td>CCTCCTAGCTCCTTCTTCGTCTCTGCCTCTGCCCTCTGCATCTGCT...</td>\n",
       "      <td>chr19</td>\n",
       "      <td>CCTCCCACTGTGCGACACCCTCCCGCCCTCTCGGCCGCAGGGCGCT...</td>\n",
       "    </tr>\n",
       "    <tr>\n",
       "      <th>1096764</th>\n",
       "      <td>ENST00000425718.1</td>\n",
       "      <td>ENSE00000893952.1</td>\n",
       "      <td>protein_coding</td>\n",
       "      <td>+</td>\n",
       "      <td>44907759</td>\n",
       "      <td>CACTCCAGCCTGGGTGACAGAGCAAGACCCTGTTTATAAATACATA...</td>\n",
       "      <td>chr19</td>\n",
       "      <td>TCAGAAGGACCCTGACCCACCTTGAACTTGTTCCACACAGGATGCC...</td>\n",
       "    </tr>\n",
       "    <tr>\n",
       "      <th>1096765</th>\n",
       "      <td>ENST00000425718.1</td>\n",
       "      <td>ENSE00001599675.1</td>\n",
       "      <td>protein_coding</td>\n",
       "      <td>+</td>\n",
       "      <td>44908532</td>\n",
       "      <td>CCTCCTAGCTCCTTCTTCGTCTCTGCCTCTGCCCTCTGCATCTGCT...</td>\n",
       "      <td>chr19</td>\n",
       "      <td>CCTCCCACTGTGCGACACCCTCCCGCCCTCTCGGCCGCAGGGCGCT...</td>\n",
       "    </tr>\n",
       "    <tr>\n",
       "      <th>1097565</th>\n",
       "      <td>ENST00000434152.5</td>\n",
       "      <td>ENSE00003463686.1</td>\n",
       "      <td>protein_coding</td>\n",
       "      <td>+</td>\n",
       "      <td>44906601</td>\n",
       "      <td>ATGGGGAGATAAGAGAAGACCAGGAGGGAGTTAAATAGGGAATGGG...</td>\n",
       "      <td>chr19</td>\n",
       "      <td>GTCCTCACTGGCGGTTGATTGACAGTTTCTCCTTCCCCAGACTGGC...</td>\n",
       "    </tr>\n",
       "    <tr>\n",
       "      <th>1097566</th>\n",
       "      <td>ENST00000434152.5</td>\n",
       "      <td>ENSE00000893952.1</td>\n",
       "      <td>protein_coding</td>\n",
       "      <td>+</td>\n",
       "      <td>44907759</td>\n",
       "      <td>CACTCCAGCCTGGGTGACAGAGCAAGACCCTGTTTATAAATACATA...</td>\n",
       "      <td>chr19</td>\n",
       "      <td>TCAGAAGGACCCTGACCCACCTTGAACTTGTTCCACACAGGATGCC...</td>\n",
       "    </tr>\n",
       "    <tr>\n",
       "      <th>1097567</th>\n",
       "      <td>ENST00000434152.5</td>\n",
       "      <td>ENSE00001700162.1</td>\n",
       "      <td>protein_coding</td>\n",
       "      <td>+</td>\n",
       "      <td>44908532</td>\n",
       "      <td>CCTCCTAGCTCCTTCTTCGTCTCTGCCTCTGCCCTCTGCATCTGCT...</td>\n",
       "      <td>chr19</td>\n",
       "      <td>CCTCCCACTGTGCGACACCCTCCCGCCCTCTCGGCCGCAGGGCGCT...</td>\n",
       "    </tr>\n",
       "    <tr>\n",
       "      <th>1098815</th>\n",
       "      <td>ENST00000446996.5</td>\n",
       "      <td>ENSE00001667751.1</td>\n",
       "      <td>protein_coding</td>\n",
       "      <td>+</td>\n",
       "      <td>44906586</td>\n",
       "      <td>GAGGCCGACCTGGGGATGGGGAGATAAGAGAAGACCAGGAGGGAGT...</td>\n",
       "      <td>chr19</td>\n",
       "      <td>CTGGGGGTGGGAGGAGTCCTCACTGGCGGTTGATTGACAGTTTCTC...</td>\n",
       "    </tr>\n",
       "    <tr>\n",
       "      <th>1098816</th>\n",
       "      <td>ENST00000446996.5</td>\n",
       "      <td>ENSE00000893952.1</td>\n",
       "      <td>protein_coding</td>\n",
       "      <td>+</td>\n",
       "      <td>44907759</td>\n",
       "      <td>CACTCCAGCCTGGGTGACAGAGCAAGACCCTGTTTATAAATACATA...</td>\n",
       "      <td>chr19</td>\n",
       "      <td>TCAGAAGGACCCTGACCCACCTTGAACTTGTTCCACACAGGATGCC...</td>\n",
       "    </tr>\n",
       "    <tr>\n",
       "      <th>1098817</th>\n",
       "      <td>ENST00000446996.5</td>\n",
       "      <td>ENSE00001664168.1</td>\n",
       "      <td>protein_coding</td>\n",
       "      <td>+</td>\n",
       "      <td>44908532</td>\n",
       "      <td>CCTCCTAGCTCCTTCTTCGTCTCTGCCTCTGCCCTCTGCATCTGCT...</td>\n",
       "      <td>chr19</td>\n",
       "      <td>CCTCCCACTGTGCGACACCCTCCCGCCCTCTCGGCCGCAGGGCGCT...</td>\n",
       "    </tr>\n",
       "    <tr>\n",
       "      <th>1101247</th>\n",
       "      <td>ENST00000485628.2</td>\n",
       "      <td>ENSE00001943579.2</td>\n",
       "      <td>retained_intron</td>\n",
       "      <td>+</td>\n",
       "      <td>44906601</td>\n",
       "      <td>ATGGGGAGATAAGAGAAGACCAGGAGGGAGTTAAATAGGGAATGGG...</td>\n",
       "      <td>chr19</td>\n",
       "      <td>GTCCTCACTGGCGGTTGATTGACAGTTTCTCCTTCCCCAGACTGGC...</td>\n",
       "    </tr>\n",
       "  </tbody>\n",
       "</table>\n",
       "</div>"
      ],
      "text/plain": [
       "             transcript_id            exon_id  transcript_type strand  \\\n",
       "1083622  ENST00000252486.9  ENSE00003577086.1   protein_coding      +   \n",
       "1083623  ENST00000252486.9  ENSE00000893952.1   protein_coding      +   \n",
       "1083624  ENST00000252486.9  ENSE00000893954.3   protein_coding      +   \n",
       "1096764  ENST00000425718.1  ENSE00000893952.1   protein_coding      +   \n",
       "1096765  ENST00000425718.1  ENSE00001599675.1   protein_coding      +   \n",
       "1097565  ENST00000434152.5  ENSE00003463686.1   protein_coding      +   \n",
       "1097566  ENST00000434152.5  ENSE00000893952.1   protein_coding      +   \n",
       "1097567  ENST00000434152.5  ENSE00001700162.1   protein_coding      +   \n",
       "1098815  ENST00000446996.5  ENSE00001667751.1   protein_coding      +   \n",
       "1098816  ENST00000446996.5  ENSE00000893952.1   protein_coding      +   \n",
       "1098817  ENST00000446996.5  ENSE00001664168.1   protein_coding      +   \n",
       "1101247  ENST00000485628.2  ENSE00001943579.2  retained_intron      +   \n",
       "\n",
       "         coordinates                                           sequence  \\\n",
       "1083622     44906601  ATGGGGAGATAAGAGAAGACCAGGAGGGAGTTAAATAGGGAATGGG...   \n",
       "1083623     44907759  CACTCCAGCCTGGGTGACAGAGCAAGACCCTGTTTATAAATACATA...   \n",
       "1083624     44908532  CCTCCTAGCTCCTTCTTCGTCTCTGCCTCTGCCCTCTGCATCTGCT...   \n",
       "1096764     44907759  CACTCCAGCCTGGGTGACAGAGCAAGACCCTGTTTATAAATACATA...   \n",
       "1096765     44908532  CCTCCTAGCTCCTTCTTCGTCTCTGCCTCTGCCCTCTGCATCTGCT...   \n",
       "1097565     44906601  ATGGGGAGATAAGAGAAGACCAGGAGGGAGTTAAATAGGGAATGGG...   \n",
       "1097566     44907759  CACTCCAGCCTGGGTGACAGAGCAAGACCCTGTTTATAAATACATA...   \n",
       "1097567     44908532  CCTCCTAGCTCCTTCTTCGTCTCTGCCTCTGCCCTCTGCATCTGCT...   \n",
       "1098815     44906586  GAGGCCGACCTGGGGATGGGGAGATAAGAGAAGACCAGGAGGGAGT...   \n",
       "1098816     44907759  CACTCCAGCCTGGGTGACAGAGCAAGACCCTGTTTATAAATACATA...   \n",
       "1098817     44908532  CCTCCTAGCTCCTTCTTCGTCTCTGCCTCTGCCCTCTGCATCTGCT...   \n",
       "1101247     44906601  ATGGGGAGATAAGAGAAGACCAGGAGGGAGTTAAATAGGGAATGGG...   \n",
       "\n",
       "        chr_name                                      acceptor_40BP  \n",
       "1083622    chr19  GTCCTCACTGGCGGTTGATTGACAGTTTCTCCTTCCCCAGACTGGC...  \n",
       "1083623    chr19  TCAGAAGGACCCTGACCCACCTTGAACTTGTTCCACACAGGATGCC...  \n",
       "1083624    chr19  CCTCCCACTGTGCGACACCCTCCCGCCCTCTCGGCCGCAGGGCGCT...  \n",
       "1096764    chr19  TCAGAAGGACCCTGACCCACCTTGAACTTGTTCCACACAGGATGCC...  \n",
       "1096765    chr19  CCTCCCACTGTGCGACACCCTCCCGCCCTCTCGGCCGCAGGGCGCT...  \n",
       "1097565    chr19  GTCCTCACTGGCGGTTGATTGACAGTTTCTCCTTCCCCAGACTGGC...  \n",
       "1097566    chr19  TCAGAAGGACCCTGACCCACCTTGAACTTGTTCCACACAGGATGCC...  \n",
       "1097567    chr19  CCTCCCACTGTGCGACACCCTCCCGCCCTCTCGGCCGCAGGGCGCT...  \n",
       "1098815    chr19  CTGGGGGTGGGAGGAGTCCTCACTGGCGGTTGATTGACAGTTTCTC...  \n",
       "1098816    chr19  TCAGAAGGACCCTGACCCACCTTGAACTTGTTCCACACAGGATGCC...  \n",
       "1098817    chr19  CCTCCCACTGTGCGACACCCTCCCGCCCTCTCGGCCGCAGGGCGCT...  \n",
       "1101247    chr19  GTCCTCACTGGCGGTTGATTGACAGTTTCTCCTTCCCCAGACTGGC...  "
      ]
     },
     "execution_count": 36,
     "metadata": {},
     "output_type": "execute_result"
    }
   ],
   "source": [
    "selected_rows"
   ]
  },
  {
   "cell_type": "code",
   "execution_count": 37,
   "id": "a3b65672-ff7e-4866-a2d8-f1b909c8d1b8",
   "metadata": {},
   "outputs": [
    {
     "data": {
      "text/plain": [
       "'CCTCCCACTGTGCGACACCCTCCCGCCCTCTCGGCCGCAGGGCGCTGATGGACGAGACCATGAAGGAGTTGAAGGCCTAC'"
      ]
     },
     "execution_count": 37,
     "metadata": {},
     "output_type": "execute_result"
    }
   ],
   "source": [
    "selected_rows['acceptor_40BP'].iloc[2]"
   ]
  },
  {
   "cell_type": "code",
   "execution_count": 38,
   "id": "6e0776af-7543-46d0-bb00-538e709f2ffe",
   "metadata": {},
   "outputs": [
    {
     "name": "stderr",
     "output_type": "stream",
     "text": [
      "/tmp/ipykernel_2705657/2261296790.py:2: SettingWithCopyWarning:\n",
      "\n",
      "\n",
      "A value is trying to be set on a copy of a slice from a DataFrame.\n",
      "Try using .loc[row_indexer,col_indexer] = value instead\n",
      "\n",
      "See the caveats in the documentation: https://pandas.pydata.org/pandas-docs/stable/user_guide/indexing.html#returning-a-view-versus-a-copy\n",
      "\n"
     ]
    },
    {
     "data": {
      "text/html": [
       "<div>\n",
       "<style scoped>\n",
       "    .dataframe tbody tr th:only-of-type {\n",
       "        vertical-align: middle;\n",
       "    }\n",
       "\n",
       "    .dataframe tbody tr th {\n",
       "        vertical-align: top;\n",
       "    }\n",
       "\n",
       "    .dataframe thead th {\n",
       "        text-align: right;\n",
       "    }\n",
       "</style>\n",
       "<table border=\"1\" class=\"dataframe\">\n",
       "  <thead>\n",
       "    <tr style=\"text-align: right;\">\n",
       "      <th></th>\n",
       "      <th>chr_name</th>\n",
       "      <th>transcript_id</th>\n",
       "      <th>exon_id</th>\n",
       "      <th>transcript_type</th>\n",
       "      <th>strand</th>\n",
       "      <th>coordinates</th>\n",
       "      <th>Acceptor_start</th>\n",
       "      <th>Acceptor_end</th>\n",
       "      <th>Acceptor_sequence</th>\n",
       "    </tr>\n",
       "  </thead>\n",
       "  <tbody>\n",
       "    <tr>\n",
       "      <th>1083622</th>\n",
       "      <td>chr19</td>\n",
       "      <td>ENST00000252486.9</td>\n",
       "      <td>ENSE00003577086.1</td>\n",
       "      <td>protein_coding</td>\n",
       "      <td>+</td>\n",
       "      <td>44906601</td>\n",
       "      <td>44906562</td>\n",
       "      <td>44906641</td>\n",
       "      <td>GTCCTCACTGGCGGTTGATTGACAGTTTCTCCTTCCCCAGACTGGC...</td>\n",
       "    </tr>\n",
       "    <tr>\n",
       "      <th>1083623</th>\n",
       "      <td>chr19</td>\n",
       "      <td>ENST00000252486.9</td>\n",
       "      <td>ENSE00000893952.1</td>\n",
       "      <td>protein_coding</td>\n",
       "      <td>+</td>\n",
       "      <td>44907759</td>\n",
       "      <td>44907720</td>\n",
       "      <td>44907799</td>\n",
       "      <td>TCAGAAGGACCCTGACCCACCTTGAACTTGTTCCACACAGGATGCC...</td>\n",
       "    </tr>\n",
       "    <tr>\n",
       "      <th>1083624</th>\n",
       "      <td>chr19</td>\n",
       "      <td>ENST00000252486.9</td>\n",
       "      <td>ENSE00000893954.3</td>\n",
       "      <td>protein_coding</td>\n",
       "      <td>+</td>\n",
       "      <td>44908532</td>\n",
       "      <td>44908493</td>\n",
       "      <td>44908572</td>\n",
       "      <td>CCTCCCACTGTGCGACACCCTCCCGCCCTCTCGGCCGCAGGGCGCT...</td>\n",
       "    </tr>\n",
       "    <tr>\n",
       "      <th>1096764</th>\n",
       "      <td>chr19</td>\n",
       "      <td>ENST00000425718.1</td>\n",
       "      <td>ENSE00000893952.1</td>\n",
       "      <td>protein_coding</td>\n",
       "      <td>+</td>\n",
       "      <td>44907759</td>\n",
       "      <td>44907720</td>\n",
       "      <td>44907799</td>\n",
       "      <td>TCAGAAGGACCCTGACCCACCTTGAACTTGTTCCACACAGGATGCC...</td>\n",
       "    </tr>\n",
       "    <tr>\n",
       "      <th>1096765</th>\n",
       "      <td>chr19</td>\n",
       "      <td>ENST00000425718.1</td>\n",
       "      <td>ENSE00001599675.1</td>\n",
       "      <td>protein_coding</td>\n",
       "      <td>+</td>\n",
       "      <td>44908532</td>\n",
       "      <td>44908493</td>\n",
       "      <td>44908572</td>\n",
       "      <td>CCTCCCACTGTGCGACACCCTCCCGCCCTCTCGGCCGCAGGGCGCT...</td>\n",
       "    </tr>\n",
       "    <tr>\n",
       "      <th>1097565</th>\n",
       "      <td>chr19</td>\n",
       "      <td>ENST00000434152.5</td>\n",
       "      <td>ENSE00003463686.1</td>\n",
       "      <td>protein_coding</td>\n",
       "      <td>+</td>\n",
       "      <td>44906601</td>\n",
       "      <td>44906562</td>\n",
       "      <td>44906641</td>\n",
       "      <td>GTCCTCACTGGCGGTTGATTGACAGTTTCTCCTTCCCCAGACTGGC...</td>\n",
       "    </tr>\n",
       "    <tr>\n",
       "      <th>1097566</th>\n",
       "      <td>chr19</td>\n",
       "      <td>ENST00000434152.5</td>\n",
       "      <td>ENSE00000893952.1</td>\n",
       "      <td>protein_coding</td>\n",
       "      <td>+</td>\n",
       "      <td>44907759</td>\n",
       "      <td>44907720</td>\n",
       "      <td>44907799</td>\n",
       "      <td>TCAGAAGGACCCTGACCCACCTTGAACTTGTTCCACACAGGATGCC...</td>\n",
       "    </tr>\n",
       "    <tr>\n",
       "      <th>1097567</th>\n",
       "      <td>chr19</td>\n",
       "      <td>ENST00000434152.5</td>\n",
       "      <td>ENSE00001700162.1</td>\n",
       "      <td>protein_coding</td>\n",
       "      <td>+</td>\n",
       "      <td>44908532</td>\n",
       "      <td>44908493</td>\n",
       "      <td>44908572</td>\n",
       "      <td>CCTCCCACTGTGCGACACCCTCCCGCCCTCTCGGCCGCAGGGCGCT...</td>\n",
       "    </tr>\n",
       "    <tr>\n",
       "      <th>1098815</th>\n",
       "      <td>chr19</td>\n",
       "      <td>ENST00000446996.5</td>\n",
       "      <td>ENSE00001667751.1</td>\n",
       "      <td>protein_coding</td>\n",
       "      <td>+</td>\n",
       "      <td>44906586</td>\n",
       "      <td>44906547</td>\n",
       "      <td>44906626</td>\n",
       "      <td>CTGGGGGTGGGAGGAGTCCTCACTGGCGGTTGATTGACAGTTTCTC...</td>\n",
       "    </tr>\n",
       "    <tr>\n",
       "      <th>1098816</th>\n",
       "      <td>chr19</td>\n",
       "      <td>ENST00000446996.5</td>\n",
       "      <td>ENSE00000893952.1</td>\n",
       "      <td>protein_coding</td>\n",
       "      <td>+</td>\n",
       "      <td>44907759</td>\n",
       "      <td>44907720</td>\n",
       "      <td>44907799</td>\n",
       "      <td>TCAGAAGGACCCTGACCCACCTTGAACTTGTTCCACACAGGATGCC...</td>\n",
       "    </tr>\n",
       "    <tr>\n",
       "      <th>1098817</th>\n",
       "      <td>chr19</td>\n",
       "      <td>ENST00000446996.5</td>\n",
       "      <td>ENSE00001664168.1</td>\n",
       "      <td>protein_coding</td>\n",
       "      <td>+</td>\n",
       "      <td>44908532</td>\n",
       "      <td>44908493</td>\n",
       "      <td>44908572</td>\n",
       "      <td>CCTCCCACTGTGCGACACCCTCCCGCCCTCTCGGCCGCAGGGCGCT...</td>\n",
       "    </tr>\n",
       "    <tr>\n",
       "      <th>1101247</th>\n",
       "      <td>chr19</td>\n",
       "      <td>ENST00000485628.2</td>\n",
       "      <td>ENSE00001943579.2</td>\n",
       "      <td>retained_intron</td>\n",
       "      <td>+</td>\n",
       "      <td>44906601</td>\n",
       "      <td>44906562</td>\n",
       "      <td>44906641</td>\n",
       "      <td>GTCCTCACTGGCGGTTGATTGACAGTTTCTCCTTCCCCAGACTGGC...</td>\n",
       "    </tr>\n",
       "  </tbody>\n",
       "</table>\n",
       "</div>"
      ],
      "text/plain": [
       "        chr_name      transcript_id            exon_id  transcript_type  \\\n",
       "1083622    chr19  ENST00000252486.9  ENSE00003577086.1   protein_coding   \n",
       "1083623    chr19  ENST00000252486.9  ENSE00000893952.1   protein_coding   \n",
       "1083624    chr19  ENST00000252486.9  ENSE00000893954.3   protein_coding   \n",
       "1096764    chr19  ENST00000425718.1  ENSE00000893952.1   protein_coding   \n",
       "1096765    chr19  ENST00000425718.1  ENSE00001599675.1   protein_coding   \n",
       "1097565    chr19  ENST00000434152.5  ENSE00003463686.1   protein_coding   \n",
       "1097566    chr19  ENST00000434152.5  ENSE00000893952.1   protein_coding   \n",
       "1097567    chr19  ENST00000434152.5  ENSE00001700162.1   protein_coding   \n",
       "1098815    chr19  ENST00000446996.5  ENSE00001667751.1   protein_coding   \n",
       "1098816    chr19  ENST00000446996.5  ENSE00000893952.1   protein_coding   \n",
       "1098817    chr19  ENST00000446996.5  ENSE00001664168.1   protein_coding   \n",
       "1101247    chr19  ENST00000485628.2  ENSE00001943579.2  retained_intron   \n",
       "\n",
       "        strand  coordinates  Acceptor_start  Acceptor_end  \\\n",
       "1083622      +     44906601        44906562      44906641   \n",
       "1083623      +     44907759        44907720      44907799   \n",
       "1083624      +     44908532        44908493      44908572   \n",
       "1096764      +     44907759        44907720      44907799   \n",
       "1096765      +     44908532        44908493      44908572   \n",
       "1097565      +     44906601        44906562      44906641   \n",
       "1097566      +     44907759        44907720      44907799   \n",
       "1097567      +     44908532        44908493      44908572   \n",
       "1098815      +     44906586        44906547      44906626   \n",
       "1098816      +     44907759        44907720      44907799   \n",
       "1098817      +     44908532        44908493      44908572   \n",
       "1101247      +     44906601        44906562      44906641   \n",
       "\n",
       "                                         Acceptor_sequence  \n",
       "1083622  GTCCTCACTGGCGGTTGATTGACAGTTTCTCCTTCCCCAGACTGGC...  \n",
       "1083623  TCAGAAGGACCCTGACCCACCTTGAACTTGTTCCACACAGGATGCC...  \n",
       "1083624  CCTCCCACTGTGCGACACCCTCCCGCCCTCTCGGCCGCAGGGCGCT...  \n",
       "1096764  TCAGAAGGACCCTGACCCACCTTGAACTTGTTCCACACAGGATGCC...  \n",
       "1096765  CCTCCCACTGTGCGACACCCTCCCGCCCTCTCGGCCGCAGGGCGCT...  \n",
       "1097565  GTCCTCACTGGCGGTTGATTGACAGTTTCTCCTTCCCCAGACTGGC...  \n",
       "1097566  TCAGAAGGACCCTGACCCACCTTGAACTTGTTCCACACAGGATGCC...  \n",
       "1097567  CCTCCCACTGTGCGACACCCTCCCGCCCTCTCGGCCGCAGGGCGCT...  \n",
       "1098815  CTGGGGGTGGGAGGAGTCCTCACTGGCGGTTGATTGACAGTTTCTC...  \n",
       "1098816  TCAGAAGGACCCTGACCCACCTTGAACTTGTTCCACACAGGATGCC...  \n",
       "1098817  CCTCCCACTGTGCGACACCCTCCCGCCCTCTCGGCCGCAGGGCGCT...  \n",
       "1101247  GTCCTCACTGGCGGTTGATTGACAGTTTCTCCTTCCCCAGACTGGC...  "
      ]
     },
     "execution_count": 38,
     "metadata": {},
     "output_type": "execute_result"
    }
   ],
   "source": [
    "df_selected = selected_rows[['chr_name','transcript_id','exon_id','transcript_type','strand',\t'coordinates']]\n",
    "df_selected['Acceptor_start'] = df_selected['coordinates']-39\n",
    "df_selected['Acceptor_end'] = df_selected['coordinates']+40\n",
    "df_selected['Acceptor_sequence'] = selected_rows['acceptor_40BP']\n",
    "df_selected"
   ]
  },
  {
   "cell_type": "code",
   "execution_count": 39,
   "id": "1259d1c9-7528-4d42-b818-849129750b1a",
   "metadata": {},
   "outputs": [
    {
     "data": {
      "text/plain": [
       "'GTCCTCACTGGCGGTTGATTGACAGTTTCTCCTTCCCCAGACTGGCCAATCACAGGCAGGAAGATGAAGGTTCTGTGGGC'"
      ]
     },
     "execution_count": 39,
     "metadata": {},
     "output_type": "execute_result"
    }
   ],
   "source": [
    "selected_rows['acceptor_40BP'].iloc[0]"
   ]
  },
  {
   "cell_type": "code",
   "execution_count": 40,
   "id": "eb11de29-bd63-4c8b-a640-f2e5c30781b4",
   "metadata": {},
   "outputs": [],
   "source": [
    "vcf_file = pysam.VariantFile(vcf_file_path)\n",
    "reference_fasta = pysam.FastaFile(reference_file_path)"
   ]
  },
  {
   "cell_type": "code",
   "execution_count": 41,
   "id": "f8cf0b5f-e0cb-4ac6-b6d0-aee02c4966a2",
   "metadata": {},
   "outputs": [
    {
     "name": "stdout",
     "output_type": "stream",
     "text": [
      "Alternative Allele ('A',)\n",
      "Alternative Allele ('T',)\n",
      "Alternative Allele ('C',)\n",
      "Alternative Allele ('G',)\n",
      "Alternative Allele ('A',)\n",
      "Alternative Allele ('A',)\n",
      "Alternative Allele ('C',)\n",
      "Alternative Allele ('A',)\n",
      "Alternative Allele ('A',)\n",
      "Alternative Allele ('A',)\n",
      "Alternative Allele ('G',)\n",
      "Alternative Allele ('T',)\n",
      "Alternative Allele ('A',)\n",
      "Alternative Allele ('C',)\n",
      "Alternative Allele ('T',)\n",
      "Alternative Allele ('C',)\n",
      "Alternative Allele ('G',)\n",
      "Alternative Allele ('C',)\n",
      "Alternative Allele ('A',)\n",
      "Alternative Allele ('G',)\n",
      "Alternative Allele ('T',)\n",
      "Alternative Allele ('A',)\n",
      "Alternative Allele ('A',)\n",
      "Alternative Allele ('T',)\n",
      "Alternative Allele ('C',)\n",
      "Alternative Allele ('A',)\n",
      "Alternative Allele ('A',)\n",
      "Alternative Allele ('A',)\n"
     ]
    }
   ],
   "source": [
    "position_list = []\n",
    "alternative_allele_list = []\n",
    "for rec in vcf_file.fetch():\n",
    "    # You can access all data about the variant like this:\n",
    "    print('Alternative Allele',  rec.alts)\n",
    "    position_list.append(rec.pos)\n",
    "    alternative_allele_list.append(rec.alts[0])"
   ]
  },
  {
   "cell_type": "code",
   "execution_count": 42,
   "id": "2f124c7e-09ee-4008-a4c0-dc2e6bf6d171",
   "metadata": {},
   "outputs": [
    {
     "name": "stdout",
     "output_type": "stream",
     "text": [
      "44905879 44908751\n"
     ]
    }
   ],
   "source": [
    "print(min(position_list), max(position_list))"
   ]
  },
  {
   "cell_type": "code",
   "execution_count": 43,
   "id": "49e468bc-600b-4012-9bce-0736378131f8",
   "metadata": {},
   "outputs": [
    {
     "data": {
      "text/plain": [
       "['A',\n",
       " 'T',\n",
       " 'C',\n",
       " 'G',\n",
       " 'A',\n",
       " 'A',\n",
       " 'C',\n",
       " 'A',\n",
       " 'A',\n",
       " 'A',\n",
       " 'G',\n",
       " 'T',\n",
       " 'A',\n",
       " 'C',\n",
       " 'T',\n",
       " 'C',\n",
       " 'G',\n",
       " 'C',\n",
       " 'A',\n",
       " 'G',\n",
       " 'T',\n",
       " 'A',\n",
       " 'A',\n",
       " 'T',\n",
       " 'C',\n",
       " 'A',\n",
       " 'A',\n",
       " 'A']"
      ]
     },
     "execution_count": 43,
     "metadata": {},
     "output_type": "execute_result"
    }
   ],
   "source": [
    "alternative_allele_list"
   ]
  },
  {
   "cell_type": "code",
   "execution_count": 44,
   "id": "d04acf8a-76f4-434d-8aed-6f74869db4e9",
   "metadata": {},
   "outputs": [],
   "source": [
    "position_list= np.array(position_list)\n",
    "alternative_allele_list = np.array(alternative_allele_list)"
   ]
  },
  {
   "cell_type": "code",
   "execution_count": 45,
   "id": "457c85b5-32ba-48a8-b802-0898043c82cc",
   "metadata": {},
   "outputs": [
    {
     "name": "stdout",
     "output_type": "stream",
     "text": [
      "        chr_name      transcript_id            exon_id  transcript_type  \\\n",
      "1083622    chr19  ENST00000252486.9  ENSE00003577086.1   protein_coding   \n",
      "1083623    chr19  ENST00000252486.9  ENSE00000893952.1   protein_coding   \n",
      "1083623    chr19  ENST00000252486.9  ENSE00000893952.1   protein_coding   \n",
      "1096764    chr19  ENST00000425718.1  ENSE00000893952.1   protein_coding   \n",
      "1096764    chr19  ENST00000425718.1  ENSE00000893952.1   protein_coding   \n",
      "1097565    chr19  ENST00000434152.5  ENSE00003463686.1   protein_coding   \n",
      "1097566    chr19  ENST00000434152.5  ENSE00000893952.1   protein_coding   \n",
      "1097566    chr19  ENST00000434152.5  ENSE00000893952.1   protein_coding   \n",
      "1098816    chr19  ENST00000446996.5  ENSE00000893952.1   protein_coding   \n",
      "1098816    chr19  ENST00000446996.5  ENSE00000893952.1   protein_coding   \n",
      "1101247    chr19  ENST00000485628.2  ENSE00001943579.2  retained_intron   \n",
      "\n",
      "        strand  coordinates  Acceptor_start  Acceptor_end  \\\n",
      "1083622      +     44906601        44906562      44906641   \n",
      "1083623      +     44907759        44907720      44907799   \n",
      "1083623      +     44907759        44907720      44907799   \n",
      "1096764      +     44907759        44907720      44907799   \n",
      "1096764      +     44907759        44907720      44907799   \n",
      "1097565      +     44906601        44906562      44906641   \n",
      "1097566      +     44907759        44907720      44907799   \n",
      "1097566      +     44907759        44907720      44907799   \n",
      "1098816      +     44907759        44907720      44907799   \n",
      "1098816      +     44907759        44907720      44907799   \n",
      "1101247      +     44906601        44906562      44906641   \n",
      "\n",
      "                                         Acceptor_sequence  VCF_position  \\\n",
      "1083622  GTCCTCACTGGCGGTTGATTGACAGTTTCTCCTTCCCCAGACTGGC...    44906639.0   \n",
      "1083623  TCAGAAGGACCCTGACCCACCTTGAACTTGTTCCACACAGGATGCC...    44907785.0   \n",
      "1083623  TCAGAAGGACCCTGACCCACCTTGAACTTGTTCCACACAGGATGCC...    44907788.0   \n",
      "1096764  TCAGAAGGACCCTGACCCACCTTGAACTTGTTCCACACAGGATGCC...    44907785.0   \n",
      "1096764  TCAGAAGGACCCTGACCCACCTTGAACTTGTTCCACACAGGATGCC...    44907788.0   \n",
      "1097565  GTCCTCACTGGCGGTTGATTGACAGTTTCTCCTTCCCCAGACTGGC...    44906639.0   \n",
      "1097566  TCAGAAGGACCCTGACCCACCTTGAACTTGTTCCACACAGGATGCC...    44907785.0   \n",
      "1097566  TCAGAAGGACCCTGACCCACCTTGAACTTGTTCCACACAGGATGCC...    44907788.0   \n",
      "1098816  TCAGAAGGACCCTGACCCACCTTGAACTTGTTCCACACAGGATGCC...    44907785.0   \n",
      "1098816  TCAGAAGGACCCTGACCCACCTTGAACTTGTTCCACACAGGATGCC...    44907788.0   \n",
      "1101247  GTCCTCACTGGCGGTTGATTGACAGTTTCTCCTTCCCCAGACTGGC...    44906639.0   \n",
      "\n",
      "                                      Alternative_sequence  \n",
      "1083622  GTCCTCACTGGCGGTTGATTGACAGTTTCTCCTTCCCCAGACTGGC...  \n",
      "1083623  TCAGAAGGACCCTGACCCACCTTGAACTTGTTCCACACAGGATGCC...  \n",
      "1083623  TCAGAAGGACCCTGACCCACCTTGAACTTGTTCCACACAGGATGCC...  \n",
      "1096764  TCAGAAGGACCCTGACCCACCTTGAACTTGTTCCACACAGGATGCC...  \n",
      "1096764  TCAGAAGGACCCTGACCCACCTTGAACTTGTTCCACACAGGATGCC...  \n",
      "1097565  GTCCTCACTGGCGGTTGATTGACAGTTTCTCCTTCCCCAGACTGGC...  \n",
      "1097566  TCAGAAGGACCCTGACCCACCTTGAACTTGTTCCACACAGGATGCC...  \n",
      "1097566  TCAGAAGGACCCTGACCCACCTTGAACTTGTTCCACACAGGATGCC...  \n",
      "1098816  TCAGAAGGACCCTGACCCACCTTGAACTTGTTCCACACAGGATGCC...  \n",
      "1098816  TCAGAAGGACCCTGACCCACCTTGAACTTGTTCCACACAGGATGCC...  \n",
      "1101247  GTCCTCACTGGCGGTTGATTGACAGTTTCTCCTTCCCCAGACTGGC...  \n"
     ]
    },
    {
     "name": "stderr",
     "output_type": "stream",
     "text": [
      "/tmp/ipykernel_2705657/2872829011.py:32: FutureWarning:\n",
      "\n",
      "The frame.append method is deprecated and will be removed from pandas in a future version. Use pandas.concat instead.\n",
      "\n",
      "/tmp/ipykernel_2705657/2872829011.py:32: FutureWarning:\n",
      "\n",
      "The frame.append method is deprecated and will be removed from pandas in a future version. Use pandas.concat instead.\n",
      "\n",
      "/tmp/ipykernel_2705657/2872829011.py:32: FutureWarning:\n",
      "\n",
      "The frame.append method is deprecated and will be removed from pandas in a future version. Use pandas.concat instead.\n",
      "\n",
      "/tmp/ipykernel_2705657/2872829011.py:32: FutureWarning:\n",
      "\n",
      "The frame.append method is deprecated and will be removed from pandas in a future version. Use pandas.concat instead.\n",
      "\n",
      "/tmp/ipykernel_2705657/2872829011.py:32: FutureWarning:\n",
      "\n",
      "The frame.append method is deprecated and will be removed from pandas in a future version. Use pandas.concat instead.\n",
      "\n",
      "/tmp/ipykernel_2705657/2872829011.py:32: FutureWarning:\n",
      "\n",
      "The frame.append method is deprecated and will be removed from pandas in a future version. Use pandas.concat instead.\n",
      "\n",
      "/tmp/ipykernel_2705657/2872829011.py:32: FutureWarning:\n",
      "\n",
      "The frame.append method is deprecated and will be removed from pandas in a future version. Use pandas.concat instead.\n",
      "\n",
      "/tmp/ipykernel_2705657/2872829011.py:32: FutureWarning:\n",
      "\n",
      "The frame.append method is deprecated and will be removed from pandas in a future version. Use pandas.concat instead.\n",
      "\n",
      "/tmp/ipykernel_2705657/2872829011.py:32: FutureWarning:\n",
      "\n",
      "The frame.append method is deprecated and will be removed from pandas in a future version. Use pandas.concat instead.\n",
      "\n",
      "/tmp/ipykernel_2705657/2872829011.py:32: FutureWarning:\n",
      "\n",
      "The frame.append method is deprecated and will be removed from pandas in a future version. Use pandas.concat instead.\n",
      "\n",
      "/tmp/ipykernel_2705657/2872829011.py:32: FutureWarning:\n",
      "\n",
      "The frame.append method is deprecated and will be removed from pandas in a future version. Use pandas.concat instead.\n",
      "\n"
     ]
    }
   ],
   "source": [
    "new_df = pd.DataFrame(columns=df_selected.columns)\n",
    "\n",
    "\n",
    "\n",
    "new_df = df_selected.copy()\n",
    "new_df = new_df.iloc[0:0]  # Empty the DataFrame\n",
    "\n",
    "\n",
    "# Iterate over each row of the DataFrame\n",
    "for idx, row in df_selected.iterrows():\n",
    "    sequence_array = np.array(list(row['Acceptor_sequence']))\n",
    "    start = row['Acceptor_start']\n",
    "    end = row['Acceptor_end']\n",
    "\n",
    "    # Get the mask for the positions falling in the current sequence\n",
    "    mask = (position_list >= start) & (position_list <= end)\n",
    "\n",
    "    # Get the positions and nucleotides falling in the current sequence\n",
    "    sequence_positions = position_list[mask] - start\n",
    "    sequence_nucleotides = alternative_allele_list[mask]\n",
    "\n",
    "    # Create a list of pairs (position, nucleotide)\n",
    "    changes = list(zip(sequence_positions, sequence_nucleotides))\n",
    "\n",
    "    # Generate all combinations of changes and apply each to the sequence\n",
    "    for position, nucleotide in zip(sequence_positions, sequence_nucleotides):\n",
    "        sequence_array_mod = sequence_array.copy()\n",
    "        sequence_array_mod[position] = nucleotide\n",
    "        new_row = row.copy()\n",
    "        new_row['VCF_position'] = position + start\n",
    "        new_row['Alternative_sequence'] = ''.join(sequence_array_mod)\n",
    "        new_df = new_df.append(new_row)\n",
    "print(new_df) "
   ]
  },
  {
   "cell_type": "code",
   "execution_count": 46,
   "id": "a8d9a0d4-abc3-4eb7-837b-53a6e0964d1f",
   "metadata": {},
   "outputs": [
    {
     "data": {
      "text/html": [
       "<div>\n",
       "<style scoped>\n",
       "    .dataframe tbody tr th:only-of-type {\n",
       "        vertical-align: middle;\n",
       "    }\n",
       "\n",
       "    .dataframe tbody tr th {\n",
       "        vertical-align: top;\n",
       "    }\n",
       "\n",
       "    .dataframe thead th {\n",
       "        text-align: right;\n",
       "    }\n",
       "</style>\n",
       "<table border=\"1\" class=\"dataframe\">\n",
       "  <thead>\n",
       "    <tr style=\"text-align: right;\">\n",
       "      <th></th>\n",
       "      <th>chr_name</th>\n",
       "      <th>transcript_id</th>\n",
       "      <th>exon_id</th>\n",
       "      <th>transcript_type</th>\n",
       "      <th>strand</th>\n",
       "      <th>coordinates</th>\n",
       "      <th>Acceptor_start</th>\n",
       "      <th>Acceptor_end</th>\n",
       "      <th>Acceptor_sequence</th>\n",
       "      <th>VCF_position</th>\n",
       "      <th>Alternative_sequence</th>\n",
       "    </tr>\n",
       "  </thead>\n",
       "  <tbody>\n",
       "    <tr>\n",
       "      <th>1083622</th>\n",
       "      <td>chr19</td>\n",
       "      <td>ENST00000252486.9</td>\n",
       "      <td>ENSE00003577086.1</td>\n",
       "      <td>protein_coding</td>\n",
       "      <td>+</td>\n",
       "      <td>44906601</td>\n",
       "      <td>44906562</td>\n",
       "      <td>44906641</td>\n",
       "      <td>GTCCTCACTGGCGGTTGATTGACAGTTTCTCCTTCCCCAGACTGGC...</td>\n",
       "      <td>44906639.0</td>\n",
       "      <td>GTCCTCACTGGCGGTTGATTGACAGTTTCTCCTTCCCCAGACTGGC...</td>\n",
       "    </tr>\n",
       "    <tr>\n",
       "      <th>1083623</th>\n",
       "      <td>chr19</td>\n",
       "      <td>ENST00000252486.9</td>\n",
       "      <td>ENSE00000893952.1</td>\n",
       "      <td>protein_coding</td>\n",
       "      <td>+</td>\n",
       "      <td>44907759</td>\n",
       "      <td>44907720</td>\n",
       "      <td>44907799</td>\n",
       "      <td>TCAGAAGGACCCTGACCCACCTTGAACTTGTTCCACACAGGATGCC...</td>\n",
       "      <td>44907785.0</td>\n",
       "      <td>TCAGAAGGACCCTGACCCACCTTGAACTTGTTCCACACAGGATGCC...</td>\n",
       "    </tr>\n",
       "    <tr>\n",
       "      <th>1083623</th>\n",
       "      <td>chr19</td>\n",
       "      <td>ENST00000252486.9</td>\n",
       "      <td>ENSE00000893952.1</td>\n",
       "      <td>protein_coding</td>\n",
       "      <td>+</td>\n",
       "      <td>44907759</td>\n",
       "      <td>44907720</td>\n",
       "      <td>44907799</td>\n",
       "      <td>TCAGAAGGACCCTGACCCACCTTGAACTTGTTCCACACAGGATGCC...</td>\n",
       "      <td>44907788.0</td>\n",
       "      <td>TCAGAAGGACCCTGACCCACCTTGAACTTGTTCCACACAGGATGCC...</td>\n",
       "    </tr>\n",
       "    <tr>\n",
       "      <th>1096764</th>\n",
       "      <td>chr19</td>\n",
       "      <td>ENST00000425718.1</td>\n",
       "      <td>ENSE00000893952.1</td>\n",
       "      <td>protein_coding</td>\n",
       "      <td>+</td>\n",
       "      <td>44907759</td>\n",
       "      <td>44907720</td>\n",
       "      <td>44907799</td>\n",
       "      <td>TCAGAAGGACCCTGACCCACCTTGAACTTGTTCCACACAGGATGCC...</td>\n",
       "      <td>44907785.0</td>\n",
       "      <td>TCAGAAGGACCCTGACCCACCTTGAACTTGTTCCACACAGGATGCC...</td>\n",
       "    </tr>\n",
       "    <tr>\n",
       "      <th>1096764</th>\n",
       "      <td>chr19</td>\n",
       "      <td>ENST00000425718.1</td>\n",
       "      <td>ENSE00000893952.1</td>\n",
       "      <td>protein_coding</td>\n",
       "      <td>+</td>\n",
       "      <td>44907759</td>\n",
       "      <td>44907720</td>\n",
       "      <td>44907799</td>\n",
       "      <td>TCAGAAGGACCCTGACCCACCTTGAACTTGTTCCACACAGGATGCC...</td>\n",
       "      <td>44907788.0</td>\n",
       "      <td>TCAGAAGGACCCTGACCCACCTTGAACTTGTTCCACACAGGATGCC...</td>\n",
       "    </tr>\n",
       "    <tr>\n",
       "      <th>1097565</th>\n",
       "      <td>chr19</td>\n",
       "      <td>ENST00000434152.5</td>\n",
       "      <td>ENSE00003463686.1</td>\n",
       "      <td>protein_coding</td>\n",
       "      <td>+</td>\n",
       "      <td>44906601</td>\n",
       "      <td>44906562</td>\n",
       "      <td>44906641</td>\n",
       "      <td>GTCCTCACTGGCGGTTGATTGACAGTTTCTCCTTCCCCAGACTGGC...</td>\n",
       "      <td>44906639.0</td>\n",
       "      <td>GTCCTCACTGGCGGTTGATTGACAGTTTCTCCTTCCCCAGACTGGC...</td>\n",
       "    </tr>\n",
       "    <tr>\n",
       "      <th>1097566</th>\n",
       "      <td>chr19</td>\n",
       "      <td>ENST00000434152.5</td>\n",
       "      <td>ENSE00000893952.1</td>\n",
       "      <td>protein_coding</td>\n",
       "      <td>+</td>\n",
       "      <td>44907759</td>\n",
       "      <td>44907720</td>\n",
       "      <td>44907799</td>\n",
       "      <td>TCAGAAGGACCCTGACCCACCTTGAACTTGTTCCACACAGGATGCC...</td>\n",
       "      <td>44907785.0</td>\n",
       "      <td>TCAGAAGGACCCTGACCCACCTTGAACTTGTTCCACACAGGATGCC...</td>\n",
       "    </tr>\n",
       "    <tr>\n",
       "      <th>1097566</th>\n",
       "      <td>chr19</td>\n",
       "      <td>ENST00000434152.5</td>\n",
       "      <td>ENSE00000893952.1</td>\n",
       "      <td>protein_coding</td>\n",
       "      <td>+</td>\n",
       "      <td>44907759</td>\n",
       "      <td>44907720</td>\n",
       "      <td>44907799</td>\n",
       "      <td>TCAGAAGGACCCTGACCCACCTTGAACTTGTTCCACACAGGATGCC...</td>\n",
       "      <td>44907788.0</td>\n",
       "      <td>TCAGAAGGACCCTGACCCACCTTGAACTTGTTCCACACAGGATGCC...</td>\n",
       "    </tr>\n",
       "    <tr>\n",
       "      <th>1098816</th>\n",
       "      <td>chr19</td>\n",
       "      <td>ENST00000446996.5</td>\n",
       "      <td>ENSE00000893952.1</td>\n",
       "      <td>protein_coding</td>\n",
       "      <td>+</td>\n",
       "      <td>44907759</td>\n",
       "      <td>44907720</td>\n",
       "      <td>44907799</td>\n",
       "      <td>TCAGAAGGACCCTGACCCACCTTGAACTTGTTCCACACAGGATGCC...</td>\n",
       "      <td>44907785.0</td>\n",
       "      <td>TCAGAAGGACCCTGACCCACCTTGAACTTGTTCCACACAGGATGCC...</td>\n",
       "    </tr>\n",
       "    <tr>\n",
       "      <th>1098816</th>\n",
       "      <td>chr19</td>\n",
       "      <td>ENST00000446996.5</td>\n",
       "      <td>ENSE00000893952.1</td>\n",
       "      <td>protein_coding</td>\n",
       "      <td>+</td>\n",
       "      <td>44907759</td>\n",
       "      <td>44907720</td>\n",
       "      <td>44907799</td>\n",
       "      <td>TCAGAAGGACCCTGACCCACCTTGAACTTGTTCCACACAGGATGCC...</td>\n",
       "      <td>44907788.0</td>\n",
       "      <td>TCAGAAGGACCCTGACCCACCTTGAACTTGTTCCACACAGGATGCC...</td>\n",
       "    </tr>\n",
       "    <tr>\n",
       "      <th>1101247</th>\n",
       "      <td>chr19</td>\n",
       "      <td>ENST00000485628.2</td>\n",
       "      <td>ENSE00001943579.2</td>\n",
       "      <td>retained_intron</td>\n",
       "      <td>+</td>\n",
       "      <td>44906601</td>\n",
       "      <td>44906562</td>\n",
       "      <td>44906641</td>\n",
       "      <td>GTCCTCACTGGCGGTTGATTGACAGTTTCTCCTTCCCCAGACTGGC...</td>\n",
       "      <td>44906639.0</td>\n",
       "      <td>GTCCTCACTGGCGGTTGATTGACAGTTTCTCCTTCCCCAGACTGGC...</td>\n",
       "    </tr>\n",
       "  </tbody>\n",
       "</table>\n",
       "</div>"
      ],
      "text/plain": [
       "        chr_name      transcript_id            exon_id  transcript_type  \\\n",
       "1083622    chr19  ENST00000252486.9  ENSE00003577086.1   protein_coding   \n",
       "1083623    chr19  ENST00000252486.9  ENSE00000893952.1   protein_coding   \n",
       "1083623    chr19  ENST00000252486.9  ENSE00000893952.1   protein_coding   \n",
       "1096764    chr19  ENST00000425718.1  ENSE00000893952.1   protein_coding   \n",
       "1096764    chr19  ENST00000425718.1  ENSE00000893952.1   protein_coding   \n",
       "1097565    chr19  ENST00000434152.5  ENSE00003463686.1   protein_coding   \n",
       "1097566    chr19  ENST00000434152.5  ENSE00000893952.1   protein_coding   \n",
       "1097566    chr19  ENST00000434152.5  ENSE00000893952.1   protein_coding   \n",
       "1098816    chr19  ENST00000446996.5  ENSE00000893952.1   protein_coding   \n",
       "1098816    chr19  ENST00000446996.5  ENSE00000893952.1   protein_coding   \n",
       "1101247    chr19  ENST00000485628.2  ENSE00001943579.2  retained_intron   \n",
       "\n",
       "        strand  coordinates  Acceptor_start  Acceptor_end  \\\n",
       "1083622      +     44906601        44906562      44906641   \n",
       "1083623      +     44907759        44907720      44907799   \n",
       "1083623      +     44907759        44907720      44907799   \n",
       "1096764      +     44907759        44907720      44907799   \n",
       "1096764      +     44907759        44907720      44907799   \n",
       "1097565      +     44906601        44906562      44906641   \n",
       "1097566      +     44907759        44907720      44907799   \n",
       "1097566      +     44907759        44907720      44907799   \n",
       "1098816      +     44907759        44907720      44907799   \n",
       "1098816      +     44907759        44907720      44907799   \n",
       "1101247      +     44906601        44906562      44906641   \n",
       "\n",
       "                                         Acceptor_sequence  VCF_position  \\\n",
       "1083622  GTCCTCACTGGCGGTTGATTGACAGTTTCTCCTTCCCCAGACTGGC...    44906639.0   \n",
       "1083623  TCAGAAGGACCCTGACCCACCTTGAACTTGTTCCACACAGGATGCC...    44907785.0   \n",
       "1083623  TCAGAAGGACCCTGACCCACCTTGAACTTGTTCCACACAGGATGCC...    44907788.0   \n",
       "1096764  TCAGAAGGACCCTGACCCACCTTGAACTTGTTCCACACAGGATGCC...    44907785.0   \n",
       "1096764  TCAGAAGGACCCTGACCCACCTTGAACTTGTTCCACACAGGATGCC...    44907788.0   \n",
       "1097565  GTCCTCACTGGCGGTTGATTGACAGTTTCTCCTTCCCCAGACTGGC...    44906639.0   \n",
       "1097566  TCAGAAGGACCCTGACCCACCTTGAACTTGTTCCACACAGGATGCC...    44907785.0   \n",
       "1097566  TCAGAAGGACCCTGACCCACCTTGAACTTGTTCCACACAGGATGCC...    44907788.0   \n",
       "1098816  TCAGAAGGACCCTGACCCACCTTGAACTTGTTCCACACAGGATGCC...    44907785.0   \n",
       "1098816  TCAGAAGGACCCTGACCCACCTTGAACTTGTTCCACACAGGATGCC...    44907788.0   \n",
       "1101247  GTCCTCACTGGCGGTTGATTGACAGTTTCTCCTTCCCCAGACTGGC...    44906639.0   \n",
       "\n",
       "                                      Alternative_sequence  \n",
       "1083622  GTCCTCACTGGCGGTTGATTGACAGTTTCTCCTTCCCCAGACTGGC...  \n",
       "1083623  TCAGAAGGACCCTGACCCACCTTGAACTTGTTCCACACAGGATGCC...  \n",
       "1083623  TCAGAAGGACCCTGACCCACCTTGAACTTGTTCCACACAGGATGCC...  \n",
       "1096764  TCAGAAGGACCCTGACCCACCTTGAACTTGTTCCACACAGGATGCC...  \n",
       "1096764  TCAGAAGGACCCTGACCCACCTTGAACTTGTTCCACACAGGATGCC...  \n",
       "1097565  GTCCTCACTGGCGGTTGATTGACAGTTTCTCCTTCCCCAGACTGGC...  \n",
       "1097566  TCAGAAGGACCCTGACCCACCTTGAACTTGTTCCACACAGGATGCC...  \n",
       "1097566  TCAGAAGGACCCTGACCCACCTTGAACTTGTTCCACACAGGATGCC...  \n",
       "1098816  TCAGAAGGACCCTGACCCACCTTGAACTTGTTCCACACAGGATGCC...  \n",
       "1098816  TCAGAAGGACCCTGACCCACCTTGAACTTGTTCCACACAGGATGCC...  \n",
       "1101247  GTCCTCACTGGCGGTTGATTGACAGTTTCTCCTTCCCCAGACTGGC...  "
      ]
     },
     "execution_count": 46,
     "metadata": {},
     "output_type": "execute_result"
    }
   ],
   "source": [
    "new_df"
   ]
  },
  {
   "cell_type": "code",
   "execution_count": 51,
   "id": "66d64131-d819-42d1-bd0f-bd7f55bc25f6",
   "metadata": {},
   "outputs": [
    {
     "name": "stdout",
     "output_type": "stream",
     "text": [
      "44906639.0\n",
      "44907785.0\n",
      "44907788.0\n",
      "44907785.0\n",
      "44907788.0\n",
      "44906639.0\n",
      "44907785.0\n",
      "44907788.0\n",
      "44907785.0\n",
      "44907788.0\n",
      "44906639.0\n"
     ]
    },
    {
     "name": "stderr",
     "output_type": "stream",
     "text": [
      "/tmp/ipykernel_2705657/3997670475.py:5: FutureWarning:\n",
      "\n",
      "The frame.append method is deprecated and will be removed from pandas in a future version. Use pandas.concat instead.\n",
      "\n",
      "/tmp/ipykernel_2705657/3997670475.py:6: FutureWarning:\n",
      "\n",
      "The frame.append method is deprecated and will be removed from pandas in a future version. Use pandas.concat instead.\n",
      "\n",
      "/tmp/ipykernel_2705657/3997670475.py:5: FutureWarning:\n",
      "\n",
      "The frame.append method is deprecated and will be removed from pandas in a future version. Use pandas.concat instead.\n",
      "\n",
      "/tmp/ipykernel_2705657/3997670475.py:6: FutureWarning:\n",
      "\n",
      "The frame.append method is deprecated and will be removed from pandas in a future version. Use pandas.concat instead.\n",
      "\n",
      "/tmp/ipykernel_2705657/3997670475.py:5: FutureWarning:\n",
      "\n",
      "The frame.append method is deprecated and will be removed from pandas in a future version. Use pandas.concat instead.\n",
      "\n",
      "/tmp/ipykernel_2705657/3997670475.py:6: FutureWarning:\n",
      "\n",
      "The frame.append method is deprecated and will be removed from pandas in a future version. Use pandas.concat instead.\n",
      "\n",
      "/tmp/ipykernel_2705657/3997670475.py:5: FutureWarning:\n",
      "\n",
      "The frame.append method is deprecated and will be removed from pandas in a future version. Use pandas.concat instead.\n",
      "\n",
      "/tmp/ipykernel_2705657/3997670475.py:6: FutureWarning:\n",
      "\n",
      "The frame.append method is deprecated and will be removed from pandas in a future version. Use pandas.concat instead.\n",
      "\n",
      "/tmp/ipykernel_2705657/3997670475.py:5: FutureWarning:\n",
      "\n",
      "The frame.append method is deprecated and will be removed from pandas in a future version. Use pandas.concat instead.\n",
      "\n",
      "/tmp/ipykernel_2705657/3997670475.py:6: FutureWarning:\n",
      "\n",
      "The frame.append method is deprecated and will be removed from pandas in a future version. Use pandas.concat instead.\n",
      "\n",
      "/tmp/ipykernel_2705657/3997670475.py:5: FutureWarning:\n",
      "\n",
      "The frame.append method is deprecated and will be removed from pandas in a future version. Use pandas.concat instead.\n",
      "\n",
      "/tmp/ipykernel_2705657/3997670475.py:6: FutureWarning:\n",
      "\n",
      "The frame.append method is deprecated and will be removed from pandas in a future version. Use pandas.concat instead.\n",
      "\n",
      "/tmp/ipykernel_2705657/3997670475.py:5: FutureWarning:\n",
      "\n",
      "The frame.append method is deprecated and will be removed from pandas in a future version. Use pandas.concat instead.\n",
      "\n",
      "/tmp/ipykernel_2705657/3997670475.py:6: FutureWarning:\n",
      "\n",
      "The frame.append method is deprecated and will be removed from pandas in a future version. Use pandas.concat instead.\n",
      "\n",
      "/tmp/ipykernel_2705657/3997670475.py:5: FutureWarning:\n",
      "\n",
      "The frame.append method is deprecated and will be removed from pandas in a future version. Use pandas.concat instead.\n",
      "\n",
      "/tmp/ipykernel_2705657/3997670475.py:6: FutureWarning:\n",
      "\n",
      "The frame.append method is deprecated and will be removed from pandas in a future version. Use pandas.concat instead.\n",
      "\n",
      "/tmp/ipykernel_2705657/3997670475.py:5: FutureWarning:\n",
      "\n",
      "The frame.append method is deprecated and will be removed from pandas in a future version. Use pandas.concat instead.\n",
      "\n",
      "/tmp/ipykernel_2705657/3997670475.py:6: FutureWarning:\n",
      "\n",
      "The frame.append method is deprecated and will be removed from pandas in a future version. Use pandas.concat instead.\n",
      "\n",
      "/tmp/ipykernel_2705657/3997670475.py:5: FutureWarning:\n",
      "\n",
      "The frame.append method is deprecated and will be removed from pandas in a future version. Use pandas.concat instead.\n",
      "\n",
      "/tmp/ipykernel_2705657/3997670475.py:6: FutureWarning:\n",
      "\n",
      "The frame.append method is deprecated and will be removed from pandas in a future version. Use pandas.concat instead.\n",
      "\n",
      "/tmp/ipykernel_2705657/3997670475.py:5: FutureWarning:\n",
      "\n",
      "The frame.append method is deprecated and will be removed from pandas in a future version. Use pandas.concat instead.\n",
      "\n",
      "/tmp/ipykernel_2705657/3997670475.py:6: FutureWarning:\n",
      "\n",
      "The frame.append method is deprecated and will be removed from pandas in a future version. Use pandas.concat instead.\n",
      "\n"
     ]
    }
   ],
   "source": [
    "# Melt the DataFrame to a long format\n",
    "df_data = pd.DataFrame(columns=['transcript_id', 'exon_id','Acceptor_start', 'Acceptor_end', \"Data\",  \"VCF_position\", \"Label\"])\n",
    "for i in range(len(new_df)):\n",
    "    print(new_df.iloc[i]['VCF_position'])\n",
    "    df_data = df_data.append({'transcript_id': new_df.iloc[i]['transcript_id'], 'exon_id': new_df.iloc[i]['exon_id'], 'Acceptor_start': new_df.iloc[i]['Acceptor_start'], 'Acceptor_end': new_df.iloc[i]['Acceptor_end'],'VCF_position': new_df.iloc[i]['VCF_position'], \"Data\": new_df.iloc[i]['Acceptor_sequence'], 'Label': 1}, ignore_index=True)\n",
    "    df_data = df_data.append({'transcript_id': new_df.iloc[i]['transcript_id'], 'exon_id': new_df.iloc[i]['exon_id'], 'Acceptor_start': new_df.iloc[i]['Acceptor_start'], 'Acceptor_end': new_df.iloc[i]['Acceptor_end'], 'VCF_position': new_df.iloc[i]['VCF_position'], \"Data\": new_df.iloc[i]['Alternative_sequence'],  'Label': 0}, ignore_index=True)"
   ]
  },
  {
   "cell_type": "code",
   "execution_count": 52,
   "id": "fae78f85-2c0d-46d8-a405-41cea3226768",
   "metadata": {},
   "outputs": [
    {
     "data": {
      "text/html": [
       "<div>\n",
       "<style scoped>\n",
       "    .dataframe tbody tr th:only-of-type {\n",
       "        vertical-align: middle;\n",
       "    }\n",
       "\n",
       "    .dataframe tbody tr th {\n",
       "        vertical-align: top;\n",
       "    }\n",
       "\n",
       "    .dataframe thead th {\n",
       "        text-align: right;\n",
       "    }\n",
       "</style>\n",
       "<table border=\"1\" class=\"dataframe\">\n",
       "  <thead>\n",
       "    <tr style=\"text-align: right;\">\n",
       "      <th></th>\n",
       "      <th>transcript_id</th>\n",
       "      <th>exon_id</th>\n",
       "      <th>Acceptor_start</th>\n",
       "      <th>Acceptor_end</th>\n",
       "      <th>Data</th>\n",
       "      <th>VCF_position</th>\n",
       "      <th>Label</th>\n",
       "    </tr>\n",
       "  </thead>\n",
       "  <tbody>\n",
       "    <tr>\n",
       "      <th>0</th>\n",
       "      <td>ENST00000252486.9</td>\n",
       "      <td>ENSE00003577086.1</td>\n",
       "      <td>44906562</td>\n",
       "      <td>44906641</td>\n",
       "      <td>GTCCTCACTGGCGGTTGATTGACAGTTTCTCCTTCCCCAGACTGGC...</td>\n",
       "      <td>44906639.0</td>\n",
       "      <td>1</td>\n",
       "    </tr>\n",
       "    <tr>\n",
       "      <th>1</th>\n",
       "      <td>ENST00000252486.9</td>\n",
       "      <td>ENSE00003577086.1</td>\n",
       "      <td>44906562</td>\n",
       "      <td>44906641</td>\n",
       "      <td>GTCCTCACTGGCGGTTGATTGACAGTTTCTCCTTCCCCAGACTGGC...</td>\n",
       "      <td>44906639.0</td>\n",
       "      <td>0</td>\n",
       "    </tr>\n",
       "    <tr>\n",
       "      <th>2</th>\n",
       "      <td>ENST00000252486.9</td>\n",
       "      <td>ENSE00000893952.1</td>\n",
       "      <td>44907720</td>\n",
       "      <td>44907799</td>\n",
       "      <td>TCAGAAGGACCCTGACCCACCTTGAACTTGTTCCACACAGGATGCC...</td>\n",
       "      <td>44907785.0</td>\n",
       "      <td>1</td>\n",
       "    </tr>\n",
       "    <tr>\n",
       "      <th>3</th>\n",
       "      <td>ENST00000252486.9</td>\n",
       "      <td>ENSE00000893952.1</td>\n",
       "      <td>44907720</td>\n",
       "      <td>44907799</td>\n",
       "      <td>TCAGAAGGACCCTGACCCACCTTGAACTTGTTCCACACAGGATGCC...</td>\n",
       "      <td>44907785.0</td>\n",
       "      <td>0</td>\n",
       "    </tr>\n",
       "    <tr>\n",
       "      <th>4</th>\n",
       "      <td>ENST00000252486.9</td>\n",
       "      <td>ENSE00000893952.1</td>\n",
       "      <td>44907720</td>\n",
       "      <td>44907799</td>\n",
       "      <td>TCAGAAGGACCCTGACCCACCTTGAACTTGTTCCACACAGGATGCC...</td>\n",
       "      <td>44907788.0</td>\n",
       "      <td>1</td>\n",
       "    </tr>\n",
       "    <tr>\n",
       "      <th>5</th>\n",
       "      <td>ENST00000252486.9</td>\n",
       "      <td>ENSE00000893952.1</td>\n",
       "      <td>44907720</td>\n",
       "      <td>44907799</td>\n",
       "      <td>TCAGAAGGACCCTGACCCACCTTGAACTTGTTCCACACAGGATGCC...</td>\n",
       "      <td>44907788.0</td>\n",
       "      <td>0</td>\n",
       "    </tr>\n",
       "    <tr>\n",
       "      <th>6</th>\n",
       "      <td>ENST00000425718.1</td>\n",
       "      <td>ENSE00000893952.1</td>\n",
       "      <td>44907720</td>\n",
       "      <td>44907799</td>\n",
       "      <td>TCAGAAGGACCCTGACCCACCTTGAACTTGTTCCACACAGGATGCC...</td>\n",
       "      <td>44907785.0</td>\n",
       "      <td>1</td>\n",
       "    </tr>\n",
       "    <tr>\n",
       "      <th>7</th>\n",
       "      <td>ENST00000425718.1</td>\n",
       "      <td>ENSE00000893952.1</td>\n",
       "      <td>44907720</td>\n",
       "      <td>44907799</td>\n",
       "      <td>TCAGAAGGACCCTGACCCACCTTGAACTTGTTCCACACAGGATGCC...</td>\n",
       "      <td>44907785.0</td>\n",
       "      <td>0</td>\n",
       "    </tr>\n",
       "    <tr>\n",
       "      <th>8</th>\n",
       "      <td>ENST00000425718.1</td>\n",
       "      <td>ENSE00000893952.1</td>\n",
       "      <td>44907720</td>\n",
       "      <td>44907799</td>\n",
       "      <td>TCAGAAGGACCCTGACCCACCTTGAACTTGTTCCACACAGGATGCC...</td>\n",
       "      <td>44907788.0</td>\n",
       "      <td>1</td>\n",
       "    </tr>\n",
       "    <tr>\n",
       "      <th>9</th>\n",
       "      <td>ENST00000425718.1</td>\n",
       "      <td>ENSE00000893952.1</td>\n",
       "      <td>44907720</td>\n",
       "      <td>44907799</td>\n",
       "      <td>TCAGAAGGACCCTGACCCACCTTGAACTTGTTCCACACAGGATGCC...</td>\n",
       "      <td>44907788.0</td>\n",
       "      <td>0</td>\n",
       "    </tr>\n",
       "    <tr>\n",
       "      <th>10</th>\n",
       "      <td>ENST00000434152.5</td>\n",
       "      <td>ENSE00003463686.1</td>\n",
       "      <td>44906562</td>\n",
       "      <td>44906641</td>\n",
       "      <td>GTCCTCACTGGCGGTTGATTGACAGTTTCTCCTTCCCCAGACTGGC...</td>\n",
       "      <td>44906639.0</td>\n",
       "      <td>1</td>\n",
       "    </tr>\n",
       "    <tr>\n",
       "      <th>11</th>\n",
       "      <td>ENST00000434152.5</td>\n",
       "      <td>ENSE00003463686.1</td>\n",
       "      <td>44906562</td>\n",
       "      <td>44906641</td>\n",
       "      <td>GTCCTCACTGGCGGTTGATTGACAGTTTCTCCTTCCCCAGACTGGC...</td>\n",
       "      <td>44906639.0</td>\n",
       "      <td>0</td>\n",
       "    </tr>\n",
       "    <tr>\n",
       "      <th>12</th>\n",
       "      <td>ENST00000434152.5</td>\n",
       "      <td>ENSE00000893952.1</td>\n",
       "      <td>44907720</td>\n",
       "      <td>44907799</td>\n",
       "      <td>TCAGAAGGACCCTGACCCACCTTGAACTTGTTCCACACAGGATGCC...</td>\n",
       "      <td>44907785.0</td>\n",
       "      <td>1</td>\n",
       "    </tr>\n",
       "    <tr>\n",
       "      <th>13</th>\n",
       "      <td>ENST00000434152.5</td>\n",
       "      <td>ENSE00000893952.1</td>\n",
       "      <td>44907720</td>\n",
       "      <td>44907799</td>\n",
       "      <td>TCAGAAGGACCCTGACCCACCTTGAACTTGTTCCACACAGGATGCC...</td>\n",
       "      <td>44907785.0</td>\n",
       "      <td>0</td>\n",
       "    </tr>\n",
       "    <tr>\n",
       "      <th>14</th>\n",
       "      <td>ENST00000434152.5</td>\n",
       "      <td>ENSE00000893952.1</td>\n",
       "      <td>44907720</td>\n",
       "      <td>44907799</td>\n",
       "      <td>TCAGAAGGACCCTGACCCACCTTGAACTTGTTCCACACAGGATGCC...</td>\n",
       "      <td>44907788.0</td>\n",
       "      <td>1</td>\n",
       "    </tr>\n",
       "    <tr>\n",
       "      <th>15</th>\n",
       "      <td>ENST00000434152.5</td>\n",
       "      <td>ENSE00000893952.1</td>\n",
       "      <td>44907720</td>\n",
       "      <td>44907799</td>\n",
       "      <td>TCAGAAGGACCCTGACCCACCTTGAACTTGTTCCACACAGGATGCC...</td>\n",
       "      <td>44907788.0</td>\n",
       "      <td>0</td>\n",
       "    </tr>\n",
       "    <tr>\n",
       "      <th>16</th>\n",
       "      <td>ENST00000446996.5</td>\n",
       "      <td>ENSE00000893952.1</td>\n",
       "      <td>44907720</td>\n",
       "      <td>44907799</td>\n",
       "      <td>TCAGAAGGACCCTGACCCACCTTGAACTTGTTCCACACAGGATGCC...</td>\n",
       "      <td>44907785.0</td>\n",
       "      <td>1</td>\n",
       "    </tr>\n",
       "    <tr>\n",
       "      <th>17</th>\n",
       "      <td>ENST00000446996.5</td>\n",
       "      <td>ENSE00000893952.1</td>\n",
       "      <td>44907720</td>\n",
       "      <td>44907799</td>\n",
       "      <td>TCAGAAGGACCCTGACCCACCTTGAACTTGTTCCACACAGGATGCC...</td>\n",
       "      <td>44907785.0</td>\n",
       "      <td>0</td>\n",
       "    </tr>\n",
       "    <tr>\n",
       "      <th>18</th>\n",
       "      <td>ENST00000446996.5</td>\n",
       "      <td>ENSE00000893952.1</td>\n",
       "      <td>44907720</td>\n",
       "      <td>44907799</td>\n",
       "      <td>TCAGAAGGACCCTGACCCACCTTGAACTTGTTCCACACAGGATGCC...</td>\n",
       "      <td>44907788.0</td>\n",
       "      <td>1</td>\n",
       "    </tr>\n",
       "    <tr>\n",
       "      <th>19</th>\n",
       "      <td>ENST00000446996.5</td>\n",
       "      <td>ENSE00000893952.1</td>\n",
       "      <td>44907720</td>\n",
       "      <td>44907799</td>\n",
       "      <td>TCAGAAGGACCCTGACCCACCTTGAACTTGTTCCACACAGGATGCC...</td>\n",
       "      <td>44907788.0</td>\n",
       "      <td>0</td>\n",
       "    </tr>\n",
       "    <tr>\n",
       "      <th>20</th>\n",
       "      <td>ENST00000485628.2</td>\n",
       "      <td>ENSE00001943579.2</td>\n",
       "      <td>44906562</td>\n",
       "      <td>44906641</td>\n",
       "      <td>GTCCTCACTGGCGGTTGATTGACAGTTTCTCCTTCCCCAGACTGGC...</td>\n",
       "      <td>44906639.0</td>\n",
       "      <td>1</td>\n",
       "    </tr>\n",
       "    <tr>\n",
       "      <th>21</th>\n",
       "      <td>ENST00000485628.2</td>\n",
       "      <td>ENSE00001943579.2</td>\n",
       "      <td>44906562</td>\n",
       "      <td>44906641</td>\n",
       "      <td>GTCCTCACTGGCGGTTGATTGACAGTTTCTCCTTCCCCAGACTGGC...</td>\n",
       "      <td>44906639.0</td>\n",
       "      <td>0</td>\n",
       "    </tr>\n",
       "  </tbody>\n",
       "</table>\n",
       "</div>"
      ],
      "text/plain": [
       "        transcript_id            exon_id Acceptor_start Acceptor_end  \\\n",
       "0   ENST00000252486.9  ENSE00003577086.1       44906562     44906641   \n",
       "1   ENST00000252486.9  ENSE00003577086.1       44906562     44906641   \n",
       "2   ENST00000252486.9  ENSE00000893952.1       44907720     44907799   \n",
       "3   ENST00000252486.9  ENSE00000893952.1       44907720     44907799   \n",
       "4   ENST00000252486.9  ENSE00000893952.1       44907720     44907799   \n",
       "5   ENST00000252486.9  ENSE00000893952.1       44907720     44907799   \n",
       "6   ENST00000425718.1  ENSE00000893952.1       44907720     44907799   \n",
       "7   ENST00000425718.1  ENSE00000893952.1       44907720     44907799   \n",
       "8   ENST00000425718.1  ENSE00000893952.1       44907720     44907799   \n",
       "9   ENST00000425718.1  ENSE00000893952.1       44907720     44907799   \n",
       "10  ENST00000434152.5  ENSE00003463686.1       44906562     44906641   \n",
       "11  ENST00000434152.5  ENSE00003463686.1       44906562     44906641   \n",
       "12  ENST00000434152.5  ENSE00000893952.1       44907720     44907799   \n",
       "13  ENST00000434152.5  ENSE00000893952.1       44907720     44907799   \n",
       "14  ENST00000434152.5  ENSE00000893952.1       44907720     44907799   \n",
       "15  ENST00000434152.5  ENSE00000893952.1       44907720     44907799   \n",
       "16  ENST00000446996.5  ENSE00000893952.1       44907720     44907799   \n",
       "17  ENST00000446996.5  ENSE00000893952.1       44907720     44907799   \n",
       "18  ENST00000446996.5  ENSE00000893952.1       44907720     44907799   \n",
       "19  ENST00000446996.5  ENSE00000893952.1       44907720     44907799   \n",
       "20  ENST00000485628.2  ENSE00001943579.2       44906562     44906641   \n",
       "21  ENST00000485628.2  ENSE00001943579.2       44906562     44906641   \n",
       "\n",
       "                                                 Data  VCF_position Label  \n",
       "0   GTCCTCACTGGCGGTTGATTGACAGTTTCTCCTTCCCCAGACTGGC...    44906639.0     1  \n",
       "1   GTCCTCACTGGCGGTTGATTGACAGTTTCTCCTTCCCCAGACTGGC...    44906639.0     0  \n",
       "2   TCAGAAGGACCCTGACCCACCTTGAACTTGTTCCACACAGGATGCC...    44907785.0     1  \n",
       "3   TCAGAAGGACCCTGACCCACCTTGAACTTGTTCCACACAGGATGCC...    44907785.0     0  \n",
       "4   TCAGAAGGACCCTGACCCACCTTGAACTTGTTCCACACAGGATGCC...    44907788.0     1  \n",
       "5   TCAGAAGGACCCTGACCCACCTTGAACTTGTTCCACACAGGATGCC...    44907788.0     0  \n",
       "6   TCAGAAGGACCCTGACCCACCTTGAACTTGTTCCACACAGGATGCC...    44907785.0     1  \n",
       "7   TCAGAAGGACCCTGACCCACCTTGAACTTGTTCCACACAGGATGCC...    44907785.0     0  \n",
       "8   TCAGAAGGACCCTGACCCACCTTGAACTTGTTCCACACAGGATGCC...    44907788.0     1  \n",
       "9   TCAGAAGGACCCTGACCCACCTTGAACTTGTTCCACACAGGATGCC...    44907788.0     0  \n",
       "10  GTCCTCACTGGCGGTTGATTGACAGTTTCTCCTTCCCCAGACTGGC...    44906639.0     1  \n",
       "11  GTCCTCACTGGCGGTTGATTGACAGTTTCTCCTTCCCCAGACTGGC...    44906639.0     0  \n",
       "12  TCAGAAGGACCCTGACCCACCTTGAACTTGTTCCACACAGGATGCC...    44907785.0     1  \n",
       "13  TCAGAAGGACCCTGACCCACCTTGAACTTGTTCCACACAGGATGCC...    44907785.0     0  \n",
       "14  TCAGAAGGACCCTGACCCACCTTGAACTTGTTCCACACAGGATGCC...    44907788.0     1  \n",
       "15  TCAGAAGGACCCTGACCCACCTTGAACTTGTTCCACACAGGATGCC...    44907788.0     0  \n",
       "16  TCAGAAGGACCCTGACCCACCTTGAACTTGTTCCACACAGGATGCC...    44907785.0     1  \n",
       "17  TCAGAAGGACCCTGACCCACCTTGAACTTGTTCCACACAGGATGCC...    44907785.0     0  \n",
       "18  TCAGAAGGACCCTGACCCACCTTGAACTTGTTCCACACAGGATGCC...    44907788.0     1  \n",
       "19  TCAGAAGGACCCTGACCCACCTTGAACTTGTTCCACACAGGATGCC...    44907788.0     0  \n",
       "20  GTCCTCACTGGCGGTTGATTGACAGTTTCTCCTTCCCCAGACTGGC...    44906639.0     1  \n",
       "21  GTCCTCACTGGCGGTTGATTGACAGTTTCTCCTTCCCCAGACTGGC...    44906639.0     0  "
      ]
     },
     "execution_count": 52,
     "metadata": {},
     "output_type": "execute_result"
    }
   ],
   "source": [
    "df_data"
   ]
  },
  {
   "cell_type": "code",
   "execution_count": 53,
   "id": "b29e86f7-2c67-417d-9bdf-ecb1c9630fef",
   "metadata": {},
   "outputs": [],
   "source": [
    "def seq2kmer(seq, k):\n",
    "    \"\"\"\n",
    "    Convert original sequence to kmers\n",
    "    \n",
    "    Arguments:\n",
    "    seq -- str, original sequence.\n",
    "    k -- int, kmer of length k specified.\n",
    "    \n",
    "    Returns:\n",
    "    kmers -- str, kmers separated by space\n",
    "    \"\"\"\n",
    "    kmer = [seq[x:x+k] for x in range(len(seq)+1-k)]\n",
    "    kmers = \" \".join(kmer)\n",
    "    return kmers"
   ]
  },
  {
   "cell_type": "code",
   "execution_count": 54,
   "id": "80b42112-3d32-4fce-86b4-8c63b936dba0",
   "metadata": {},
   "outputs": [
    {
     "data": {
      "text/html": [
       "<div>\n",
       "<style scoped>\n",
       "    .dataframe tbody tr th:only-of-type {\n",
       "        vertical-align: middle;\n",
       "    }\n",
       "\n",
       "    .dataframe tbody tr th {\n",
       "        vertical-align: top;\n",
       "    }\n",
       "\n",
       "    .dataframe thead th {\n",
       "        text-align: right;\n",
       "    }\n",
       "</style>\n",
       "<table border=\"1\" class=\"dataframe\">\n",
       "  <thead>\n",
       "    <tr style=\"text-align: right;\">\n",
       "      <th></th>\n",
       "      <th>transcript_id</th>\n",
       "      <th>exon_id</th>\n",
       "      <th>Acceptor_start</th>\n",
       "      <th>Acceptor_end</th>\n",
       "      <th>Data</th>\n",
       "      <th>VCF_position</th>\n",
       "      <th>Label</th>\n",
       "      <th>Sequence</th>\n",
       "    </tr>\n",
       "  </thead>\n",
       "  <tbody>\n",
       "    <tr>\n",
       "      <th>0</th>\n",
       "      <td>ENST00000252486.9</td>\n",
       "      <td>ENSE00003577086.1</td>\n",
       "      <td>44906562</td>\n",
       "      <td>44906641</td>\n",
       "      <td>GTCCTCACTGGCGGTTGATTGACAGTTTCTCCTTCCCCAGACTGGC...</td>\n",
       "      <td>44906639.0</td>\n",
       "      <td>1</td>\n",
       "      <td>GTCCTC TCCTCA CCTCAC CTCACT TCACTG CACTGG ACTG...</td>\n",
       "    </tr>\n",
       "    <tr>\n",
       "      <th>1</th>\n",
       "      <td>ENST00000252486.9</td>\n",
       "      <td>ENSE00003577086.1</td>\n",
       "      <td>44906562</td>\n",
       "      <td>44906641</td>\n",
       "      <td>GTCCTCACTGGCGGTTGATTGACAGTTTCTCCTTCCCCAGACTGGC...</td>\n",
       "      <td>44906639.0</td>\n",
       "      <td>0</td>\n",
       "      <td>GTCCTC TCCTCA CCTCAC CTCACT TCACTG CACTGG ACTG...</td>\n",
       "    </tr>\n",
       "    <tr>\n",
       "      <th>2</th>\n",
       "      <td>ENST00000252486.9</td>\n",
       "      <td>ENSE00000893952.1</td>\n",
       "      <td>44907720</td>\n",
       "      <td>44907799</td>\n",
       "      <td>TCAGAAGGACCCTGACCCACCTTGAACTTGTTCCACACAGGATGCC...</td>\n",
       "      <td>44907785.0</td>\n",
       "      <td>1</td>\n",
       "      <td>TCAGAA CAGAAG AGAAGG GAAGGA AAGGAC AGGACC GGAC...</td>\n",
       "    </tr>\n",
       "    <tr>\n",
       "      <th>3</th>\n",
       "      <td>ENST00000252486.9</td>\n",
       "      <td>ENSE00000893952.1</td>\n",
       "      <td>44907720</td>\n",
       "      <td>44907799</td>\n",
       "      <td>TCAGAAGGACCCTGACCCACCTTGAACTTGTTCCACACAGGATGCC...</td>\n",
       "      <td>44907785.0</td>\n",
       "      <td>0</td>\n",
       "      <td>TCAGAA CAGAAG AGAAGG GAAGGA AAGGAC AGGACC GGAC...</td>\n",
       "    </tr>\n",
       "    <tr>\n",
       "      <th>4</th>\n",
       "      <td>ENST00000252486.9</td>\n",
       "      <td>ENSE00000893952.1</td>\n",
       "      <td>44907720</td>\n",
       "      <td>44907799</td>\n",
       "      <td>TCAGAAGGACCCTGACCCACCTTGAACTTGTTCCACACAGGATGCC...</td>\n",
       "      <td>44907788.0</td>\n",
       "      <td>1</td>\n",
       "      <td>TCAGAA CAGAAG AGAAGG GAAGGA AAGGAC AGGACC GGAC...</td>\n",
       "    </tr>\n",
       "    <tr>\n",
       "      <th>5</th>\n",
       "      <td>ENST00000252486.9</td>\n",
       "      <td>ENSE00000893952.1</td>\n",
       "      <td>44907720</td>\n",
       "      <td>44907799</td>\n",
       "      <td>TCAGAAGGACCCTGACCCACCTTGAACTTGTTCCACACAGGATGCC...</td>\n",
       "      <td>44907788.0</td>\n",
       "      <td>0</td>\n",
       "      <td>TCAGAA CAGAAG AGAAGG GAAGGA AAGGAC AGGACC GGAC...</td>\n",
       "    </tr>\n",
       "    <tr>\n",
       "      <th>6</th>\n",
       "      <td>ENST00000425718.1</td>\n",
       "      <td>ENSE00000893952.1</td>\n",
       "      <td>44907720</td>\n",
       "      <td>44907799</td>\n",
       "      <td>TCAGAAGGACCCTGACCCACCTTGAACTTGTTCCACACAGGATGCC...</td>\n",
       "      <td>44907785.0</td>\n",
       "      <td>1</td>\n",
       "      <td>TCAGAA CAGAAG AGAAGG GAAGGA AAGGAC AGGACC GGAC...</td>\n",
       "    </tr>\n",
       "    <tr>\n",
       "      <th>7</th>\n",
       "      <td>ENST00000425718.1</td>\n",
       "      <td>ENSE00000893952.1</td>\n",
       "      <td>44907720</td>\n",
       "      <td>44907799</td>\n",
       "      <td>TCAGAAGGACCCTGACCCACCTTGAACTTGTTCCACACAGGATGCC...</td>\n",
       "      <td>44907785.0</td>\n",
       "      <td>0</td>\n",
       "      <td>TCAGAA CAGAAG AGAAGG GAAGGA AAGGAC AGGACC GGAC...</td>\n",
       "    </tr>\n",
       "    <tr>\n",
       "      <th>8</th>\n",
       "      <td>ENST00000425718.1</td>\n",
       "      <td>ENSE00000893952.1</td>\n",
       "      <td>44907720</td>\n",
       "      <td>44907799</td>\n",
       "      <td>TCAGAAGGACCCTGACCCACCTTGAACTTGTTCCACACAGGATGCC...</td>\n",
       "      <td>44907788.0</td>\n",
       "      <td>1</td>\n",
       "      <td>TCAGAA CAGAAG AGAAGG GAAGGA AAGGAC AGGACC GGAC...</td>\n",
       "    </tr>\n",
       "    <tr>\n",
       "      <th>9</th>\n",
       "      <td>ENST00000425718.1</td>\n",
       "      <td>ENSE00000893952.1</td>\n",
       "      <td>44907720</td>\n",
       "      <td>44907799</td>\n",
       "      <td>TCAGAAGGACCCTGACCCACCTTGAACTTGTTCCACACAGGATGCC...</td>\n",
       "      <td>44907788.0</td>\n",
       "      <td>0</td>\n",
       "      <td>TCAGAA CAGAAG AGAAGG GAAGGA AAGGAC AGGACC GGAC...</td>\n",
       "    </tr>\n",
       "    <tr>\n",
       "      <th>10</th>\n",
       "      <td>ENST00000434152.5</td>\n",
       "      <td>ENSE00003463686.1</td>\n",
       "      <td>44906562</td>\n",
       "      <td>44906641</td>\n",
       "      <td>GTCCTCACTGGCGGTTGATTGACAGTTTCTCCTTCCCCAGACTGGC...</td>\n",
       "      <td>44906639.0</td>\n",
       "      <td>1</td>\n",
       "      <td>GTCCTC TCCTCA CCTCAC CTCACT TCACTG CACTGG ACTG...</td>\n",
       "    </tr>\n",
       "    <tr>\n",
       "      <th>11</th>\n",
       "      <td>ENST00000434152.5</td>\n",
       "      <td>ENSE00003463686.1</td>\n",
       "      <td>44906562</td>\n",
       "      <td>44906641</td>\n",
       "      <td>GTCCTCACTGGCGGTTGATTGACAGTTTCTCCTTCCCCAGACTGGC...</td>\n",
       "      <td>44906639.0</td>\n",
       "      <td>0</td>\n",
       "      <td>GTCCTC TCCTCA CCTCAC CTCACT TCACTG CACTGG ACTG...</td>\n",
       "    </tr>\n",
       "    <tr>\n",
       "      <th>12</th>\n",
       "      <td>ENST00000434152.5</td>\n",
       "      <td>ENSE00000893952.1</td>\n",
       "      <td>44907720</td>\n",
       "      <td>44907799</td>\n",
       "      <td>TCAGAAGGACCCTGACCCACCTTGAACTTGTTCCACACAGGATGCC...</td>\n",
       "      <td>44907785.0</td>\n",
       "      <td>1</td>\n",
       "      <td>TCAGAA CAGAAG AGAAGG GAAGGA AAGGAC AGGACC GGAC...</td>\n",
       "    </tr>\n",
       "    <tr>\n",
       "      <th>13</th>\n",
       "      <td>ENST00000434152.5</td>\n",
       "      <td>ENSE00000893952.1</td>\n",
       "      <td>44907720</td>\n",
       "      <td>44907799</td>\n",
       "      <td>TCAGAAGGACCCTGACCCACCTTGAACTTGTTCCACACAGGATGCC...</td>\n",
       "      <td>44907785.0</td>\n",
       "      <td>0</td>\n",
       "      <td>TCAGAA CAGAAG AGAAGG GAAGGA AAGGAC AGGACC GGAC...</td>\n",
       "    </tr>\n",
       "    <tr>\n",
       "      <th>14</th>\n",
       "      <td>ENST00000434152.5</td>\n",
       "      <td>ENSE00000893952.1</td>\n",
       "      <td>44907720</td>\n",
       "      <td>44907799</td>\n",
       "      <td>TCAGAAGGACCCTGACCCACCTTGAACTTGTTCCACACAGGATGCC...</td>\n",
       "      <td>44907788.0</td>\n",
       "      <td>1</td>\n",
       "      <td>TCAGAA CAGAAG AGAAGG GAAGGA AAGGAC AGGACC GGAC...</td>\n",
       "    </tr>\n",
       "    <tr>\n",
       "      <th>15</th>\n",
       "      <td>ENST00000434152.5</td>\n",
       "      <td>ENSE00000893952.1</td>\n",
       "      <td>44907720</td>\n",
       "      <td>44907799</td>\n",
       "      <td>TCAGAAGGACCCTGACCCACCTTGAACTTGTTCCACACAGGATGCC...</td>\n",
       "      <td>44907788.0</td>\n",
       "      <td>0</td>\n",
       "      <td>TCAGAA CAGAAG AGAAGG GAAGGA AAGGAC AGGACC GGAC...</td>\n",
       "    </tr>\n",
       "    <tr>\n",
       "      <th>16</th>\n",
       "      <td>ENST00000446996.5</td>\n",
       "      <td>ENSE00000893952.1</td>\n",
       "      <td>44907720</td>\n",
       "      <td>44907799</td>\n",
       "      <td>TCAGAAGGACCCTGACCCACCTTGAACTTGTTCCACACAGGATGCC...</td>\n",
       "      <td>44907785.0</td>\n",
       "      <td>1</td>\n",
       "      <td>TCAGAA CAGAAG AGAAGG GAAGGA AAGGAC AGGACC GGAC...</td>\n",
       "    </tr>\n",
       "    <tr>\n",
       "      <th>17</th>\n",
       "      <td>ENST00000446996.5</td>\n",
       "      <td>ENSE00000893952.1</td>\n",
       "      <td>44907720</td>\n",
       "      <td>44907799</td>\n",
       "      <td>TCAGAAGGACCCTGACCCACCTTGAACTTGTTCCACACAGGATGCC...</td>\n",
       "      <td>44907785.0</td>\n",
       "      <td>0</td>\n",
       "      <td>TCAGAA CAGAAG AGAAGG GAAGGA AAGGAC AGGACC GGAC...</td>\n",
       "    </tr>\n",
       "    <tr>\n",
       "      <th>18</th>\n",
       "      <td>ENST00000446996.5</td>\n",
       "      <td>ENSE00000893952.1</td>\n",
       "      <td>44907720</td>\n",
       "      <td>44907799</td>\n",
       "      <td>TCAGAAGGACCCTGACCCACCTTGAACTTGTTCCACACAGGATGCC...</td>\n",
       "      <td>44907788.0</td>\n",
       "      <td>1</td>\n",
       "      <td>TCAGAA CAGAAG AGAAGG GAAGGA AAGGAC AGGACC GGAC...</td>\n",
       "    </tr>\n",
       "    <tr>\n",
       "      <th>19</th>\n",
       "      <td>ENST00000446996.5</td>\n",
       "      <td>ENSE00000893952.1</td>\n",
       "      <td>44907720</td>\n",
       "      <td>44907799</td>\n",
       "      <td>TCAGAAGGACCCTGACCCACCTTGAACTTGTTCCACACAGGATGCC...</td>\n",
       "      <td>44907788.0</td>\n",
       "      <td>0</td>\n",
       "      <td>TCAGAA CAGAAG AGAAGG GAAGGA AAGGAC AGGACC GGAC...</td>\n",
       "    </tr>\n",
       "    <tr>\n",
       "      <th>20</th>\n",
       "      <td>ENST00000485628.2</td>\n",
       "      <td>ENSE00001943579.2</td>\n",
       "      <td>44906562</td>\n",
       "      <td>44906641</td>\n",
       "      <td>GTCCTCACTGGCGGTTGATTGACAGTTTCTCCTTCCCCAGACTGGC...</td>\n",
       "      <td>44906639.0</td>\n",
       "      <td>1</td>\n",
       "      <td>GTCCTC TCCTCA CCTCAC CTCACT TCACTG CACTGG ACTG...</td>\n",
       "    </tr>\n",
       "    <tr>\n",
       "      <th>21</th>\n",
       "      <td>ENST00000485628.2</td>\n",
       "      <td>ENSE00001943579.2</td>\n",
       "      <td>44906562</td>\n",
       "      <td>44906641</td>\n",
       "      <td>GTCCTCACTGGCGGTTGATTGACAGTTTCTCCTTCCCCAGACTGGC...</td>\n",
       "      <td>44906639.0</td>\n",
       "      <td>0</td>\n",
       "      <td>GTCCTC TCCTCA CCTCAC CTCACT TCACTG CACTGG ACTG...</td>\n",
       "    </tr>\n",
       "  </tbody>\n",
       "</table>\n",
       "</div>"
      ],
      "text/plain": [
       "        transcript_id            exon_id Acceptor_start Acceptor_end  \\\n",
       "0   ENST00000252486.9  ENSE00003577086.1       44906562     44906641   \n",
       "1   ENST00000252486.9  ENSE00003577086.1       44906562     44906641   \n",
       "2   ENST00000252486.9  ENSE00000893952.1       44907720     44907799   \n",
       "3   ENST00000252486.9  ENSE00000893952.1       44907720     44907799   \n",
       "4   ENST00000252486.9  ENSE00000893952.1       44907720     44907799   \n",
       "5   ENST00000252486.9  ENSE00000893952.1       44907720     44907799   \n",
       "6   ENST00000425718.1  ENSE00000893952.1       44907720     44907799   \n",
       "7   ENST00000425718.1  ENSE00000893952.1       44907720     44907799   \n",
       "8   ENST00000425718.1  ENSE00000893952.1       44907720     44907799   \n",
       "9   ENST00000425718.1  ENSE00000893952.1       44907720     44907799   \n",
       "10  ENST00000434152.5  ENSE00003463686.1       44906562     44906641   \n",
       "11  ENST00000434152.5  ENSE00003463686.1       44906562     44906641   \n",
       "12  ENST00000434152.5  ENSE00000893952.1       44907720     44907799   \n",
       "13  ENST00000434152.5  ENSE00000893952.1       44907720     44907799   \n",
       "14  ENST00000434152.5  ENSE00000893952.1       44907720     44907799   \n",
       "15  ENST00000434152.5  ENSE00000893952.1       44907720     44907799   \n",
       "16  ENST00000446996.5  ENSE00000893952.1       44907720     44907799   \n",
       "17  ENST00000446996.5  ENSE00000893952.1       44907720     44907799   \n",
       "18  ENST00000446996.5  ENSE00000893952.1       44907720     44907799   \n",
       "19  ENST00000446996.5  ENSE00000893952.1       44907720     44907799   \n",
       "20  ENST00000485628.2  ENSE00001943579.2       44906562     44906641   \n",
       "21  ENST00000485628.2  ENSE00001943579.2       44906562     44906641   \n",
       "\n",
       "                                                 Data  VCF_position Label  \\\n",
       "0   GTCCTCACTGGCGGTTGATTGACAGTTTCTCCTTCCCCAGACTGGC...    44906639.0     1   \n",
       "1   GTCCTCACTGGCGGTTGATTGACAGTTTCTCCTTCCCCAGACTGGC...    44906639.0     0   \n",
       "2   TCAGAAGGACCCTGACCCACCTTGAACTTGTTCCACACAGGATGCC...    44907785.0     1   \n",
       "3   TCAGAAGGACCCTGACCCACCTTGAACTTGTTCCACACAGGATGCC...    44907785.0     0   \n",
       "4   TCAGAAGGACCCTGACCCACCTTGAACTTGTTCCACACAGGATGCC...    44907788.0     1   \n",
       "5   TCAGAAGGACCCTGACCCACCTTGAACTTGTTCCACACAGGATGCC...    44907788.0     0   \n",
       "6   TCAGAAGGACCCTGACCCACCTTGAACTTGTTCCACACAGGATGCC...    44907785.0     1   \n",
       "7   TCAGAAGGACCCTGACCCACCTTGAACTTGTTCCACACAGGATGCC...    44907785.0     0   \n",
       "8   TCAGAAGGACCCTGACCCACCTTGAACTTGTTCCACACAGGATGCC...    44907788.0     1   \n",
       "9   TCAGAAGGACCCTGACCCACCTTGAACTTGTTCCACACAGGATGCC...    44907788.0     0   \n",
       "10  GTCCTCACTGGCGGTTGATTGACAGTTTCTCCTTCCCCAGACTGGC...    44906639.0     1   \n",
       "11  GTCCTCACTGGCGGTTGATTGACAGTTTCTCCTTCCCCAGACTGGC...    44906639.0     0   \n",
       "12  TCAGAAGGACCCTGACCCACCTTGAACTTGTTCCACACAGGATGCC...    44907785.0     1   \n",
       "13  TCAGAAGGACCCTGACCCACCTTGAACTTGTTCCACACAGGATGCC...    44907785.0     0   \n",
       "14  TCAGAAGGACCCTGACCCACCTTGAACTTGTTCCACACAGGATGCC...    44907788.0     1   \n",
       "15  TCAGAAGGACCCTGACCCACCTTGAACTTGTTCCACACAGGATGCC...    44907788.0     0   \n",
       "16  TCAGAAGGACCCTGACCCACCTTGAACTTGTTCCACACAGGATGCC...    44907785.0     1   \n",
       "17  TCAGAAGGACCCTGACCCACCTTGAACTTGTTCCACACAGGATGCC...    44907785.0     0   \n",
       "18  TCAGAAGGACCCTGACCCACCTTGAACTTGTTCCACACAGGATGCC...    44907788.0     1   \n",
       "19  TCAGAAGGACCCTGACCCACCTTGAACTTGTTCCACACAGGATGCC...    44907788.0     0   \n",
       "20  GTCCTCACTGGCGGTTGATTGACAGTTTCTCCTTCCCCAGACTGGC...    44906639.0     1   \n",
       "21  GTCCTCACTGGCGGTTGATTGACAGTTTCTCCTTCCCCAGACTGGC...    44906639.0     0   \n",
       "\n",
       "                                             Sequence  \n",
       "0   GTCCTC TCCTCA CCTCAC CTCACT TCACTG CACTGG ACTG...  \n",
       "1   GTCCTC TCCTCA CCTCAC CTCACT TCACTG CACTGG ACTG...  \n",
       "2   TCAGAA CAGAAG AGAAGG GAAGGA AAGGAC AGGACC GGAC...  \n",
       "3   TCAGAA CAGAAG AGAAGG GAAGGA AAGGAC AGGACC GGAC...  \n",
       "4   TCAGAA CAGAAG AGAAGG GAAGGA AAGGAC AGGACC GGAC...  \n",
       "5   TCAGAA CAGAAG AGAAGG GAAGGA AAGGAC AGGACC GGAC...  \n",
       "6   TCAGAA CAGAAG AGAAGG GAAGGA AAGGAC AGGACC GGAC...  \n",
       "7   TCAGAA CAGAAG AGAAGG GAAGGA AAGGAC AGGACC GGAC...  \n",
       "8   TCAGAA CAGAAG AGAAGG GAAGGA AAGGAC AGGACC GGAC...  \n",
       "9   TCAGAA CAGAAG AGAAGG GAAGGA AAGGAC AGGACC GGAC...  \n",
       "10  GTCCTC TCCTCA CCTCAC CTCACT TCACTG CACTGG ACTG...  \n",
       "11  GTCCTC TCCTCA CCTCAC CTCACT TCACTG CACTGG ACTG...  \n",
       "12  TCAGAA CAGAAG AGAAGG GAAGGA AAGGAC AGGACC GGAC...  \n",
       "13  TCAGAA CAGAAG AGAAGG GAAGGA AAGGAC AGGACC GGAC...  \n",
       "14  TCAGAA CAGAAG AGAAGG GAAGGA AAGGAC AGGACC GGAC...  \n",
       "15  TCAGAA CAGAAG AGAAGG GAAGGA AAGGAC AGGACC GGAC...  \n",
       "16  TCAGAA CAGAAG AGAAGG GAAGGA AAGGAC AGGACC GGAC...  \n",
       "17  TCAGAA CAGAAG AGAAGG GAAGGA AAGGAC AGGACC GGAC...  \n",
       "18  TCAGAA CAGAAG AGAAGG GAAGGA AAGGAC AGGACC GGAC...  \n",
       "19  TCAGAA CAGAAG AGAAGG GAAGGA AAGGAC AGGACC GGAC...  \n",
       "20  GTCCTC TCCTCA CCTCAC CTCACT TCACTG CACTGG ACTG...  \n",
       "21  GTCCTC TCCTCA CCTCAC CTCACT TCACTG CACTGG ACTG...  "
      ]
     },
     "execution_count": 54,
     "metadata": {},
     "output_type": "execute_result"
    }
   ],
   "source": [
    "df_data['Sequence'] = df_data['Data'].apply(seq2kmer, args=(6,))\n",
    "df_data"
   ]
  },
  {
   "cell_type": "code",
   "execution_count": 55,
   "id": "7d090b65-29a9-4d04-9b1e-b47181da8245",
   "metadata": {},
   "outputs": [
    {
     "data": {
      "text/html": [
       "<div>\n",
       "<style scoped>\n",
       "    .dataframe tbody tr th:only-of-type {\n",
       "        vertical-align: middle;\n",
       "    }\n",
       "\n",
       "    .dataframe tbody tr th {\n",
       "        vertical-align: top;\n",
       "    }\n",
       "\n",
       "    .dataframe thead th {\n",
       "        text-align: right;\n",
       "    }\n",
       "</style>\n",
       "<table border=\"1\" class=\"dataframe\">\n",
       "  <thead>\n",
       "    <tr style=\"text-align: right;\">\n",
       "      <th></th>\n",
       "      <th>Sequence</th>\n",
       "      <th>Label</th>\n",
       "    </tr>\n",
       "  </thead>\n",
       "  <tbody>\n",
       "    <tr>\n",
       "      <th>0</th>\n",
       "      <td>GTCCTC TCCTCA CCTCAC CTCACT TCACTG CACTGG ACTG...</td>\n",
       "      <td>1</td>\n",
       "    </tr>\n",
       "    <tr>\n",
       "      <th>1</th>\n",
       "      <td>GTCCTC TCCTCA CCTCAC CTCACT TCACTG CACTGG ACTG...</td>\n",
       "      <td>0</td>\n",
       "    </tr>\n",
       "    <tr>\n",
       "      <th>2</th>\n",
       "      <td>TCAGAA CAGAAG AGAAGG GAAGGA AAGGAC AGGACC GGAC...</td>\n",
       "      <td>1</td>\n",
       "    </tr>\n",
       "    <tr>\n",
       "      <th>3</th>\n",
       "      <td>TCAGAA CAGAAG AGAAGG GAAGGA AAGGAC AGGACC GGAC...</td>\n",
       "      <td>0</td>\n",
       "    </tr>\n",
       "    <tr>\n",
       "      <th>4</th>\n",
       "      <td>TCAGAA CAGAAG AGAAGG GAAGGA AAGGAC AGGACC GGAC...</td>\n",
       "      <td>1</td>\n",
       "    </tr>\n",
       "    <tr>\n",
       "      <th>5</th>\n",
       "      <td>TCAGAA CAGAAG AGAAGG GAAGGA AAGGAC AGGACC GGAC...</td>\n",
       "      <td>0</td>\n",
       "    </tr>\n",
       "    <tr>\n",
       "      <th>6</th>\n",
       "      <td>TCAGAA CAGAAG AGAAGG GAAGGA AAGGAC AGGACC GGAC...</td>\n",
       "      <td>1</td>\n",
       "    </tr>\n",
       "    <tr>\n",
       "      <th>7</th>\n",
       "      <td>TCAGAA CAGAAG AGAAGG GAAGGA AAGGAC AGGACC GGAC...</td>\n",
       "      <td>0</td>\n",
       "    </tr>\n",
       "    <tr>\n",
       "      <th>8</th>\n",
       "      <td>TCAGAA CAGAAG AGAAGG GAAGGA AAGGAC AGGACC GGAC...</td>\n",
       "      <td>1</td>\n",
       "    </tr>\n",
       "    <tr>\n",
       "      <th>9</th>\n",
       "      <td>TCAGAA CAGAAG AGAAGG GAAGGA AAGGAC AGGACC GGAC...</td>\n",
       "      <td>0</td>\n",
       "    </tr>\n",
       "    <tr>\n",
       "      <th>10</th>\n",
       "      <td>GTCCTC TCCTCA CCTCAC CTCACT TCACTG CACTGG ACTG...</td>\n",
       "      <td>1</td>\n",
       "    </tr>\n",
       "    <tr>\n",
       "      <th>11</th>\n",
       "      <td>GTCCTC TCCTCA CCTCAC CTCACT TCACTG CACTGG ACTG...</td>\n",
       "      <td>0</td>\n",
       "    </tr>\n",
       "    <tr>\n",
       "      <th>12</th>\n",
       "      <td>TCAGAA CAGAAG AGAAGG GAAGGA AAGGAC AGGACC GGAC...</td>\n",
       "      <td>1</td>\n",
       "    </tr>\n",
       "    <tr>\n",
       "      <th>13</th>\n",
       "      <td>TCAGAA CAGAAG AGAAGG GAAGGA AAGGAC AGGACC GGAC...</td>\n",
       "      <td>0</td>\n",
       "    </tr>\n",
       "    <tr>\n",
       "      <th>14</th>\n",
       "      <td>TCAGAA CAGAAG AGAAGG GAAGGA AAGGAC AGGACC GGAC...</td>\n",
       "      <td>1</td>\n",
       "    </tr>\n",
       "    <tr>\n",
       "      <th>15</th>\n",
       "      <td>TCAGAA CAGAAG AGAAGG GAAGGA AAGGAC AGGACC GGAC...</td>\n",
       "      <td>0</td>\n",
       "    </tr>\n",
       "    <tr>\n",
       "      <th>16</th>\n",
       "      <td>TCAGAA CAGAAG AGAAGG GAAGGA AAGGAC AGGACC GGAC...</td>\n",
       "      <td>1</td>\n",
       "    </tr>\n",
       "    <tr>\n",
       "      <th>17</th>\n",
       "      <td>TCAGAA CAGAAG AGAAGG GAAGGA AAGGAC AGGACC GGAC...</td>\n",
       "      <td>0</td>\n",
       "    </tr>\n",
       "    <tr>\n",
       "      <th>18</th>\n",
       "      <td>TCAGAA CAGAAG AGAAGG GAAGGA AAGGAC AGGACC GGAC...</td>\n",
       "      <td>1</td>\n",
       "    </tr>\n",
       "    <tr>\n",
       "      <th>19</th>\n",
       "      <td>TCAGAA CAGAAG AGAAGG GAAGGA AAGGAC AGGACC GGAC...</td>\n",
       "      <td>0</td>\n",
       "    </tr>\n",
       "    <tr>\n",
       "      <th>20</th>\n",
       "      <td>GTCCTC TCCTCA CCTCAC CTCACT TCACTG CACTGG ACTG...</td>\n",
       "      <td>1</td>\n",
       "    </tr>\n",
       "    <tr>\n",
       "      <th>21</th>\n",
       "      <td>GTCCTC TCCTCA CCTCAC CTCACT TCACTG CACTGG ACTG...</td>\n",
       "      <td>0</td>\n",
       "    </tr>\n",
       "  </tbody>\n",
       "</table>\n",
       "</div>"
      ],
      "text/plain": [
       "                                             Sequence Label\n",
       "0   GTCCTC TCCTCA CCTCAC CTCACT TCACTG CACTGG ACTG...     1\n",
       "1   GTCCTC TCCTCA CCTCAC CTCACT TCACTG CACTGG ACTG...     0\n",
       "2   TCAGAA CAGAAG AGAAGG GAAGGA AAGGAC AGGACC GGAC...     1\n",
       "3   TCAGAA CAGAAG AGAAGG GAAGGA AAGGAC AGGACC GGAC...     0\n",
       "4   TCAGAA CAGAAG AGAAGG GAAGGA AAGGAC AGGACC GGAC...     1\n",
       "5   TCAGAA CAGAAG AGAAGG GAAGGA AAGGAC AGGACC GGAC...     0\n",
       "6   TCAGAA CAGAAG AGAAGG GAAGGA AAGGAC AGGACC GGAC...     1\n",
       "7   TCAGAA CAGAAG AGAAGG GAAGGA AAGGAC AGGACC GGAC...     0\n",
       "8   TCAGAA CAGAAG AGAAGG GAAGGA AAGGAC AGGACC GGAC...     1\n",
       "9   TCAGAA CAGAAG AGAAGG GAAGGA AAGGAC AGGACC GGAC...     0\n",
       "10  GTCCTC TCCTCA CCTCAC CTCACT TCACTG CACTGG ACTG...     1\n",
       "11  GTCCTC TCCTCA CCTCAC CTCACT TCACTG CACTGG ACTG...     0\n",
       "12  TCAGAA CAGAAG AGAAGG GAAGGA AAGGAC AGGACC GGAC...     1\n",
       "13  TCAGAA CAGAAG AGAAGG GAAGGA AAGGAC AGGACC GGAC...     0\n",
       "14  TCAGAA CAGAAG AGAAGG GAAGGA AAGGAC AGGACC GGAC...     1\n",
       "15  TCAGAA CAGAAG AGAAGG GAAGGA AAGGAC AGGACC GGAC...     0\n",
       "16  TCAGAA CAGAAG AGAAGG GAAGGA AAGGAC AGGACC GGAC...     1\n",
       "17  TCAGAA CAGAAG AGAAGG GAAGGA AAGGAC AGGACC GGAC...     0\n",
       "18  TCAGAA CAGAAG AGAAGG GAAGGA AAGGAC AGGACC GGAC...     1\n",
       "19  TCAGAA CAGAAG AGAAGG GAAGGA AAGGAC AGGACC GGAC...     0\n",
       "20  GTCCTC TCCTCA CCTCAC CTCACT TCACTG CACTGG ACTG...     1\n",
       "21  GTCCTC TCCTCA CCTCAC CTCACT TCACTG CACTGG ACTG...     0"
      ]
     },
     "execution_count": 55,
     "metadata": {},
     "output_type": "execute_result"
    }
   ],
   "source": [
    "df_data[['Sequence','Label']]"
   ]
  },
  {
   "cell_type": "code",
   "execution_count": 58,
   "id": "833bf6ba-17b3-48c7-9cd7-bf8ddfaba086",
   "metadata": {},
   "outputs": [],
   "source": [
    "df_selected.to_csv(output_path+\"/selected_acceptor_splice_sites.tsv\", sep=\"\\t\", index=False)\n",
    "new_df.to_csv(output_path+\"/intermediate.tsv\",  sep=\"\\t\", index=False)\n",
    "df_data[['Sequence','Label']].to_csv(output_path+\"/dev.tsv\" , sep=\"\\t\", index=False)"
   ]
  },
  {
   "cell_type": "code",
   "execution_count": null,
   "id": "69f69d2e-e235-444f-87cb-9848d06dc2f8",
   "metadata": {},
   "outputs": [],
   "source": []
  }
 ],
 "metadata": {
  "kernelspec": {
   "display_name": "Python 3 (ipykernel)",
   "language": "python",
   "name": "python3"
  },
  "language_info": {
   "codemirror_mode": {
    "name": "ipython",
    "version": 3
   },
   "file_extension": ".py",
   "mimetype": "text/x-python",
   "name": "python",
   "nbconvert_exporter": "python",
   "pygments_lexer": "ipython3",
   "version": "3.10.11"
  }
 },
 "nbformat": 4,
 "nbformat_minor": 5
}
