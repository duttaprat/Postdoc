{
 "cells": [
  {
   "cell_type": "code",
   "execution_count": 32,
   "id": "75bc2bd5-a05c-45ce-9c8e-12f98988b919",
   "metadata": {},
   "outputs": [],
   "source": [
    "import numpy as np\n",
    "import pandas as pd\n",
    "import math"
   ]
  },
  {
   "cell_type": "code",
   "execution_count": 33,
   "id": "9df9531d-728e-4f83-bce5-2bd685dcce2a",
   "metadata": {},
   "outputs": [],
   "source": [
    "input_file_path = \"/data/private/pdutta/Collab_data/Oliver_data/DNABERT_data/TREM2_CrProm/intermediate.tsv\""
   ]
  },
  {
   "cell_type": "code",
   "execution_count": 34,
   "id": "dae30b0c-7a4a-447a-a0fb-4739b847484e",
   "metadata": {},
   "outputs": [],
   "source": [
    "TATA_probab_file_path  = \"/data/private/pdutta/DNABERT_output/TATA_CorePromoter/TREM2_CrProm/pred_results.npy\"\n",
    "nonTATA_probab_file_path  = \"/data/private/pdutta/DNABERT_output/nonTATA_CorePromoter/Prediction_result/TREM2_CrProm/pred_results.npy\""
   ]
  },
  {
   "cell_type": "code",
   "execution_count": 35,
   "id": "6242a4f6-7317-4d7d-bedb-a2da7aaae519",
   "metadata": {},
   "outputs": [
    {
     "data": {
      "text/html": [
       "<div>\n",
       "<style scoped>\n",
       "    .dataframe tbody tr th:only-of-type {\n",
       "        vertical-align: middle;\n",
       "    }\n",
       "\n",
       "    .dataframe tbody tr th {\n",
       "        vertical-align: top;\n",
       "    }\n",
       "\n",
       "    .dataframe thead th {\n",
       "        text-align: right;\n",
       "    }\n",
       "</style>\n",
       "<table border=\"1\" class=\"dataframe\">\n",
       "  <thead>\n",
       "    <tr style=\"text-align: right;\">\n",
       "      <th></th>\n",
       "      <th>chr</th>\n",
       "      <th>strand</th>\n",
       "      <th>Core_Prom_start</th>\n",
       "      <th>Core_Prom_end</th>\n",
       "      <th>VCF_position</th>\n",
       "      <th>ref_neucleotide</th>\n",
       "      <th>alt_neucleotide</th>\n",
       "      <th>reference_seq</th>\n",
       "      <th>alt_seq</th>\n",
       "    </tr>\n",
       "  </thead>\n",
       "  <tbody>\n",
       "    <tr>\n",
       "      <th>0</th>\n",
       "      <td>chr6</td>\n",
       "      <td>-</td>\n",
       "      <td>41163072</td>\n",
       "      <td>41163161</td>\n",
       "      <td>41163086</td>\n",
       "      <td>A</td>\n",
       "      <td>G</td>\n",
       "      <td>GAGGCTCCATGCCACCCTTCCCCAGCCAAGGGCAGAAGCAGAGTGC...</td>\n",
       "      <td>GAGGCTCCATGCCGCCCTTCCCCAGCCAAGGGCAGAAGCAGAGTGC...</td>\n",
       "    </tr>\n",
       "    <tr>\n",
       "      <th>1</th>\n",
       "      <td>chr6</td>\n",
       "      <td>-</td>\n",
       "      <td>41163072</td>\n",
       "      <td>41163161</td>\n",
       "      <td>41163134</td>\n",
       "      <td>G</td>\n",
       "      <td>T</td>\n",
       "      <td>GAGGCTCCATGCCACCCTTCCCCAGCCAAGGGCAGAAGCAGAGTGC...</td>\n",
       "      <td>GAGGCTCCATGCCACCCTTCCCCAGCCAAGGGCAGAAGCAGAGTGC...</td>\n",
       "    </tr>\n",
       "    <tr>\n",
       "      <th>2</th>\n",
       "      <td>chr6</td>\n",
       "      <td>-</td>\n",
       "      <td>41163059</td>\n",
       "      <td>41163148</td>\n",
       "      <td>41163086</td>\n",
       "      <td>A</td>\n",
       "      <td>G</td>\n",
       "      <td>ATGAGCAGCCGGAGAGGCTCCATGCCACCCTTCCCCAGCCAAGGGC...</td>\n",
       "      <td>ATGAGCAGCCGGAGAGGCTCCATGCCGCCCTTCCCCAGCCAAGGGC...</td>\n",
       "    </tr>\n",
       "    <tr>\n",
       "      <th>3</th>\n",
       "      <td>chr6</td>\n",
       "      <td>-</td>\n",
       "      <td>41163059</td>\n",
       "      <td>41163148</td>\n",
       "      <td>41163134</td>\n",
       "      <td>G</td>\n",
       "      <td>T</td>\n",
       "      <td>ATGAGCAGCCGGAGAGGCTCCATGCCACCCTTCCCCAGCCAAGGGC...</td>\n",
       "      <td>ATGAGCAGCCGGAGAGGCTCCATGCCACCCTTCCCCAGCCAAGGGC...</td>\n",
       "    </tr>\n",
       "  </tbody>\n",
       "</table>\n",
       "</div>"
      ],
      "text/plain": [
       "    chr strand  Core_Prom_start  Core_Prom_end  VCF_position ref_neucleotide  \\\n",
       "0  chr6      -         41163072       41163161      41163086               A   \n",
       "1  chr6      -         41163072       41163161      41163134               G   \n",
       "2  chr6      -         41163059       41163148      41163086               A   \n",
       "3  chr6      -         41163059       41163148      41163134               G   \n",
       "\n",
       "  alt_neucleotide                                      reference_seq  \\\n",
       "0               G  GAGGCTCCATGCCACCCTTCCCCAGCCAAGGGCAGAAGCAGAGTGC...   \n",
       "1               T  GAGGCTCCATGCCACCCTTCCCCAGCCAAGGGCAGAAGCAGAGTGC...   \n",
       "2               G  ATGAGCAGCCGGAGAGGCTCCATGCCACCCTTCCCCAGCCAAGGGC...   \n",
       "3               T  ATGAGCAGCCGGAGAGGCTCCATGCCACCCTTCCCCAGCCAAGGGC...   \n",
       "\n",
       "                                             alt_seq  \n",
       "0  GAGGCTCCATGCCGCCCTTCCCCAGCCAAGGGCAGAAGCAGAGTGC...  \n",
       "1  GAGGCTCCATGCCACCCTTCCCCAGCCAAGGGCAGAAGCAGAGTGC...  \n",
       "2  ATGAGCAGCCGGAGAGGCTCCATGCCGCCCTTCCCCAGCCAAGGGC...  \n",
       "3  ATGAGCAGCCGGAGAGGCTCCATGCCACCCTTCCCCAGCCAAGGGC...  "
      ]
     },
     "execution_count": 35,
     "metadata": {},
     "output_type": "execute_result"
    }
   ],
   "source": [
    "all_data = pd.read_csv(input_file_path, sep= \"\\t\")\n",
    "all_data"
   ]
  },
  {
   "cell_type": "code",
   "execution_count": 31,
   "id": "0f203b27-49f0-454c-8ef9-80625defb111",
   "metadata": {},
   "outputs": [
    {
     "data": {
      "text/html": [
       "<div>\n",
       "<style scoped>\n",
       "    .dataframe tbody tr th:only-of-type {\n",
       "        vertical-align: middle;\n",
       "    }\n",
       "\n",
       "    .dataframe tbody tr th {\n",
       "        vertical-align: top;\n",
       "    }\n",
       "\n",
       "    .dataframe thead th {\n",
       "        text-align: right;\n",
       "    }\n",
       "</style>\n",
       "<table border=\"1\" class=\"dataframe\">\n",
       "  <thead>\n",
       "    <tr style=\"text-align: right;\">\n",
       "      <th></th>\n",
       "      <th>chr</th>\n",
       "      <th>strand</th>\n",
       "      <th>Core_Prom_start</th>\n",
       "      <th>Core_Prom_end</th>\n",
       "      <th>VCF_position</th>\n",
       "      <th>ref_neucleotide</th>\n",
       "      <th>alt_neucleotide</th>\n",
       "      <th>reference_seq</th>\n",
       "      <th>alt_seq</th>\n",
       "    </tr>\n",
       "  </thead>\n",
       "  <tbody>\n",
       "    <tr>\n",
       "      <th>0</th>\n",
       "      <td>chr6</td>\n",
       "      <td>-</td>\n",
       "      <td>41163072</td>\n",
       "      <td>41163161</td>\n",
       "      <td>41163086</td>\n",
       "      <td>A</td>\n",
       "      <td>G</td>\n",
       "      <td>GAGGCTCCATGCCACCCTTCCCCAGCCAAGGGCAGAAGCAGAGTGC...</td>\n",
       "      <td>GAGGCTCCATGCCGCCCTTCCCCAGCCAAGGGCAGAAGCAGAGTGC...</td>\n",
       "    </tr>\n",
       "    <tr>\n",
       "      <th>1</th>\n",
       "      <td>chr6</td>\n",
       "      <td>-</td>\n",
       "      <td>41163059</td>\n",
       "      <td>41163148</td>\n",
       "      <td>41163086</td>\n",
       "      <td>A</td>\n",
       "      <td>G</td>\n",
       "      <td>ATGAGCAGCCGGAGAGGCTCCATGCCACCCTTCCCCAGCCAAGGGC...</td>\n",
       "      <td>ATGAGCAGCCGGAGAGGCTCCATGCCGCCCTTCCCCAGCCAAGGGC...</td>\n",
       "    </tr>\n",
       "  </tbody>\n",
       "</table>\n",
       "</div>"
      ],
      "text/plain": [
       "    chr strand  Core_Prom_start  Core_Prom_end  VCF_position ref_neucleotide  \\\n",
       "0  chr6      -         41163072       41163161      41163086               A   \n",
       "1  chr6      -         41163059       41163148      41163086               A   \n",
       "\n",
       "  alt_neucleotide                                      reference_seq  \\\n",
       "0               G  GAGGCTCCATGCCACCCTTCCCCAGCCAAGGGCAGAAGCAGAGTGC...   \n",
       "1               G  ATGAGCAGCCGGAGAGGCTCCATGCCACCCTTCCCCAGCCAAGGGC...   \n",
       "\n",
       "                                             alt_seq  \n",
       "0  GAGGCTCCATGCCGCCCTTCCCCAGCCAAGGGCAGAAGCAGAGTGC...  \n",
       "1  ATGAGCAGCCGGAGAGGCTCCATGCCGCCCTTCCCCAGCCAAGGGC...  "
      ]
     },
     "execution_count": 31,
     "metadata": {},
     "output_type": "execute_result"
    }
   ],
   "source": [
    "df_TREM2 = all_data.iloc[::2].reset_index(drop=True)\n",
    "df_TREM2"
   ]
  },
  {
   "cell_type": "code",
   "execution_count": 36,
   "id": "8cc5a217-649d-4f44-bce3-ae0ed7386d30",
   "metadata": {},
   "outputs": [],
   "source": [
    "df_TREM2 =all_data"
   ]
  },
  {
   "cell_type": "code",
   "execution_count": 37,
   "id": "d5e1359b-fc0b-4227-9560-8fcf09063543",
   "metadata": {},
   "outputs": [],
   "source": [
    "TATA_probablity = np.load(TATA_probab_file_path)\n",
    "nonTATA_probablity = np.load(nonTATA_probab_file_path)"
   ]
  },
  {
   "cell_type": "code",
   "execution_count": 38,
   "id": "3bd67a82-5c4a-46cd-b551-c290800db08d",
   "metadata": {},
   "outputs": [
    {
     "data": {
      "text/plain": [
       "array([0.07619458, 0.19129333, 0.07619458, 0.62953633, 0.96762735,\n",
       "       0.99914205, 0.96762735, 0.89898974], dtype=float32)"
      ]
     },
     "execution_count": 38,
     "metadata": {},
     "output_type": "execute_result"
    }
   ],
   "source": [
    "TATA_probablity"
   ]
  },
  {
   "cell_type": "code",
   "execution_count": 39,
   "id": "1d4b0f12-7d73-4158-8177-4b610b34487c",
   "metadata": {},
   "outputs": [],
   "source": [
    "Reference_TATA_list = TATA_probablity[::2]\n",
    "Alternative_TATA_list = TATA_probablity[1::2]\n",
    "Refernce_nonTATA_list = nonTATA_probablity[::2]\n",
    "Alternative_nonTATA_list = nonTATA_probablity[1::2]"
   ]
  },
  {
   "cell_type": "code",
   "execution_count": 40,
   "id": "7f5ca928-f243-44ae-a03f-2d0fff856fed",
   "metadata": {},
   "outputs": [
    {
     "data": {
      "text/plain": [
       "array([0.07619458, 0.07619458, 0.96762735, 0.96762735], dtype=float32)"
      ]
     },
     "execution_count": 40,
     "metadata": {},
     "output_type": "execute_result"
    }
   ],
   "source": [
    "Reference_TATA_list"
   ]
  },
  {
   "cell_type": "code",
   "execution_count": 41,
   "id": "ba3b39e7-f19d-4991-be62-c83d735725cc",
   "metadata": {},
   "outputs": [],
   "source": [
    "df_TREM2['TATA_ref']=Reference_TATA_list\n",
    "df_TREM2['TATA_alt']=Alternative_TATA_list\n",
    "df_TREM2['nonTATA_ref']=Refernce_nonTATA_list\n",
    "df_TREM2['nonTATA_alt']=Alternative_nonTATA_list"
   ]
  },
  {
   "cell_type": "code",
   "execution_count": 42,
   "id": "c4f3ec3c-c170-4d82-bb58-af5889ad62ff",
   "metadata": {},
   "outputs": [
    {
     "data": {
      "text/html": [
       "<div>\n",
       "<style scoped>\n",
       "    .dataframe tbody tr th:only-of-type {\n",
       "        vertical-align: middle;\n",
       "    }\n",
       "\n",
       "    .dataframe tbody tr th {\n",
       "        vertical-align: top;\n",
       "    }\n",
       "\n",
       "    .dataframe thead th {\n",
       "        text-align: right;\n",
       "    }\n",
       "</style>\n",
       "<table border=\"1\" class=\"dataframe\">\n",
       "  <thead>\n",
       "    <tr style=\"text-align: right;\">\n",
       "      <th></th>\n",
       "      <th>chr</th>\n",
       "      <th>strand</th>\n",
       "      <th>Core_Prom_start</th>\n",
       "      <th>Core_Prom_end</th>\n",
       "      <th>VCF_position</th>\n",
       "      <th>ref_neucleotide</th>\n",
       "      <th>alt_neucleotide</th>\n",
       "      <th>reference_seq</th>\n",
       "      <th>alt_seq</th>\n",
       "      <th>TATA_ref</th>\n",
       "      <th>TATA_alt</th>\n",
       "      <th>nonTATA_ref</th>\n",
       "      <th>nonTATA_alt</th>\n",
       "    </tr>\n",
       "  </thead>\n",
       "  <tbody>\n",
       "    <tr>\n",
       "      <th>0</th>\n",
       "      <td>chr6</td>\n",
       "      <td>-</td>\n",
       "      <td>41163072</td>\n",
       "      <td>41163161</td>\n",
       "      <td>41163086</td>\n",
       "      <td>A</td>\n",
       "      <td>G</td>\n",
       "      <td>GAGGCTCCATGCCACCCTTCCCCAGCCAAGGGCAGAAGCAGAGTGC...</td>\n",
       "      <td>GAGGCTCCATGCCGCCCTTCCCCAGCCAAGGGCAGAAGCAGAGTGC...</td>\n",
       "      <td>0.076195</td>\n",
       "      <td>0.191293</td>\n",
       "      <td>0.972287</td>\n",
       "      <td>0.960271</td>\n",
       "    </tr>\n",
       "    <tr>\n",
       "      <th>1</th>\n",
       "      <td>chr6</td>\n",
       "      <td>-</td>\n",
       "      <td>41163072</td>\n",
       "      <td>41163161</td>\n",
       "      <td>41163134</td>\n",
       "      <td>G</td>\n",
       "      <td>T</td>\n",
       "      <td>GAGGCTCCATGCCACCCTTCCCCAGCCAAGGGCAGAAGCAGAGTGC...</td>\n",
       "      <td>GAGGCTCCATGCCACCCTTCCCCAGCCAAGGGCAGAAGCAGAGTGC...</td>\n",
       "      <td>0.076195</td>\n",
       "      <td>0.629536</td>\n",
       "      <td>0.972287</td>\n",
       "      <td>0.981193</td>\n",
       "    </tr>\n",
       "    <tr>\n",
       "      <th>2</th>\n",
       "      <td>chr6</td>\n",
       "      <td>-</td>\n",
       "      <td>41163059</td>\n",
       "      <td>41163148</td>\n",
       "      <td>41163086</td>\n",
       "      <td>A</td>\n",
       "      <td>G</td>\n",
       "      <td>ATGAGCAGCCGGAGAGGCTCCATGCCACCCTTCCCCAGCCAAGGGC...</td>\n",
       "      <td>ATGAGCAGCCGGAGAGGCTCCATGCCGCCCTTCCCCAGCCAAGGGC...</td>\n",
       "      <td>0.967627</td>\n",
       "      <td>0.999142</td>\n",
       "      <td>0.972410</td>\n",
       "      <td>0.969255</td>\n",
       "    </tr>\n",
       "    <tr>\n",
       "      <th>3</th>\n",
       "      <td>chr6</td>\n",
       "      <td>-</td>\n",
       "      <td>41163059</td>\n",
       "      <td>41163148</td>\n",
       "      <td>41163134</td>\n",
       "      <td>G</td>\n",
       "      <td>T</td>\n",
       "      <td>ATGAGCAGCCGGAGAGGCTCCATGCCACCCTTCCCCAGCCAAGGGC...</td>\n",
       "      <td>ATGAGCAGCCGGAGAGGCTCCATGCCACCCTTCCCCAGCCAAGGGC...</td>\n",
       "      <td>0.967627</td>\n",
       "      <td>0.898990</td>\n",
       "      <td>0.972410</td>\n",
       "      <td>0.980187</td>\n",
       "    </tr>\n",
       "  </tbody>\n",
       "</table>\n",
       "</div>"
      ],
      "text/plain": [
       "    chr strand  Core_Prom_start  Core_Prom_end  VCF_position ref_neucleotide  \\\n",
       "0  chr6      -         41163072       41163161      41163086               A   \n",
       "1  chr6      -         41163072       41163161      41163134               G   \n",
       "2  chr6      -         41163059       41163148      41163086               A   \n",
       "3  chr6      -         41163059       41163148      41163134               G   \n",
       "\n",
       "  alt_neucleotide                                      reference_seq  \\\n",
       "0               G  GAGGCTCCATGCCACCCTTCCCCAGCCAAGGGCAGAAGCAGAGTGC...   \n",
       "1               T  GAGGCTCCATGCCACCCTTCCCCAGCCAAGGGCAGAAGCAGAGTGC...   \n",
       "2               G  ATGAGCAGCCGGAGAGGCTCCATGCCACCCTTCCCCAGCCAAGGGC...   \n",
       "3               T  ATGAGCAGCCGGAGAGGCTCCATGCCACCCTTCCCCAGCCAAGGGC...   \n",
       "\n",
       "                                             alt_seq  TATA_ref  TATA_alt  \\\n",
       "0  GAGGCTCCATGCCGCCCTTCCCCAGCCAAGGGCAGAAGCAGAGTGC...  0.076195  0.191293   \n",
       "1  GAGGCTCCATGCCACCCTTCCCCAGCCAAGGGCAGAAGCAGAGTGC...  0.076195  0.629536   \n",
       "2  ATGAGCAGCCGGAGAGGCTCCATGCCGCCCTTCCCCAGCCAAGGGC...  0.967627  0.999142   \n",
       "3  ATGAGCAGCCGGAGAGGCTCCATGCCACCCTTCCCCAGCCAAGGGC...  0.967627  0.898990   \n",
       "\n",
       "   nonTATA_ref  nonTATA_alt  \n",
       "0     0.972287     0.960271  \n",
       "1     0.972287     0.981193  \n",
       "2     0.972410     0.969255  \n",
       "3     0.972410     0.980187  "
      ]
     },
     "execution_count": 42,
     "metadata": {},
     "output_type": "execute_result"
    }
   ],
   "source": [
    "df_TREM2"
   ]
  },
  {
   "cell_type": "code",
   "execution_count": 43,
   "id": "280236b9-383f-4e4e-82ec-5244aeeb8620",
   "metadata": {},
   "outputs": [],
   "source": [
    "def calculate_diff_probab(p1,p2):\n",
    "    return((p2-p1)*max(p1,p2))"
   ]
  },
  {
   "cell_type": "code",
   "execution_count": 44,
   "id": "0cb3c298-b86a-4f8e-ae3e-c098f6bb9273",
   "metadata": {},
   "outputs": [],
   "source": [
    "def log_oods_ratio(p1,p2):\n",
    "    term1 = math.log2(p1/(1-p1))\n",
    "    term2 = math.log2(p2/(1-p2))\n",
    "    return (term1-term2)"
   ]
  },
  {
   "cell_type": "code",
   "execution_count": 45,
   "id": "018ce1f7-64b0-4cb8-9a64-c0dad8cf9d8f",
   "metadata": {},
   "outputs": [
    {
     "data": {
      "text/plain": [
       "-0.889851467294375"
      ]
     },
     "execution_count": 45,
     "metadata": {},
     "output_type": "execute_result"
    }
   ],
   "source": [
    "calculate_diff_probab(0.944215, 1.790375e-03)"
   ]
  },
  {
   "cell_type": "code",
   "execution_count": 46,
   "id": "54228f69-29f5-4fb6-b982-bad0fdc8595a",
   "metadata": {},
   "outputs": [
    {
     "data": {
      "text/plain": [
       "13.204103456410776"
      ]
     },
     "execution_count": 46,
     "metadata": {},
     "output_type": "execute_result"
    }
   ],
   "source": [
    "log_oods_ratio(0.944215, 1.790375e-03)"
   ]
  },
  {
   "cell_type": "code",
   "execution_count": 47,
   "id": "d2d94a17-ac1c-4d4a-946a-c35399fd2969",
   "metadata": {},
   "outputs": [],
   "source": [
    "df_TREM2['TATAScoreChange'] = df_TREM2.apply(lambda row: calculate_diff_probab(row['TATA_ref'], row['TATA_alt']), axis=1)\n",
    "df_TREM2['TATALogOddRatio'] = df_TREM2.apply(lambda row: log_oods_ratio(row['TATA_ref'], row['TATA_alt']), axis=1)\n",
    "df_TREM2['nonTATAScoreChange'] = df_TREM2.apply(lambda row: calculate_diff_probab(row['nonTATA_ref'], row['nonTATA_alt']), axis=1)\n",
    "df_TREM2['nonTATALogOddRatio'] = df_TREM2.apply(lambda row: log_oods_ratio(row['nonTATA_ref'], row['nonTATA_alt']), axis=1)"
   ]
  },
  {
   "cell_type": "code",
   "execution_count": 48,
   "id": "588d8bd3-4d71-45a9-9f05-72ee040e3a03",
   "metadata": {},
   "outputs": [
    {
     "data": {
      "text/html": [
       "<div>\n",
       "<style scoped>\n",
       "    .dataframe tbody tr th:only-of-type {\n",
       "        vertical-align: middle;\n",
       "    }\n",
       "\n",
       "    .dataframe tbody tr th {\n",
       "        vertical-align: top;\n",
       "    }\n",
       "\n",
       "    .dataframe thead th {\n",
       "        text-align: right;\n",
       "    }\n",
       "</style>\n",
       "<table border=\"1\" class=\"dataframe\">\n",
       "  <thead>\n",
       "    <tr style=\"text-align: right;\">\n",
       "      <th></th>\n",
       "      <th>chr</th>\n",
       "      <th>strand</th>\n",
       "      <th>Core_Prom_start</th>\n",
       "      <th>Core_Prom_end</th>\n",
       "      <th>VCF_position</th>\n",
       "      <th>ref_neucleotide</th>\n",
       "      <th>alt_neucleotide</th>\n",
       "      <th>reference_seq</th>\n",
       "      <th>alt_seq</th>\n",
       "      <th>TATA_ref</th>\n",
       "      <th>TATA_alt</th>\n",
       "      <th>nonTATA_ref</th>\n",
       "      <th>nonTATA_alt</th>\n",
       "      <th>TATAScoreChange</th>\n",
       "      <th>TATALogOddRatio</th>\n",
       "      <th>nonTATAScoreChange</th>\n",
       "      <th>nonTATALogOddRatio</th>\n",
       "    </tr>\n",
       "  </thead>\n",
       "  <tbody>\n",
       "    <tr>\n",
       "      <th>0</th>\n",
       "      <td>chr6</td>\n",
       "      <td>-</td>\n",
       "      <td>41163072</td>\n",
       "      <td>41163161</td>\n",
       "      <td>41163086</td>\n",
       "      <td>A</td>\n",
       "      <td>G</td>\n",
       "      <td>GAGGCTCCATGCCACCCTTCCCCAGCCAAGGGCAGAAGCAGAGTGC...</td>\n",
       "      <td>GAGGCTCCATGCCGCCCTTCCCCAGCCAAGGGCAGAAGCAGAGTGC...</td>\n",
       "      <td>0.076195</td>\n",
       "      <td>0.191293</td>\n",
       "      <td>0.972287</td>\n",
       "      <td>0.960271</td>\n",
       "      <td>0.022018</td>\n",
       "      <td>-1.519999</td>\n",
       "      <td>-0.011683</td>\n",
       "      <td>0.537580</td>\n",
       "    </tr>\n",
       "    <tr>\n",
       "      <th>1</th>\n",
       "      <td>chr6</td>\n",
       "      <td>-</td>\n",
       "      <td>41163072</td>\n",
       "      <td>41163161</td>\n",
       "      <td>41163134</td>\n",
       "      <td>G</td>\n",
       "      <td>T</td>\n",
       "      <td>GAGGCTCCATGCCACCCTTCCCCAGCCAAGGGCAGAAGCAGAGTGC...</td>\n",
       "      <td>GAGGCTCCATGCCACCCTTCCCCAGCCAAGGGCAGAAGCAGAGTGC...</td>\n",
       "      <td>0.076195</td>\n",
       "      <td>0.629536</td>\n",
       "      <td>0.972287</td>\n",
       "      <td>0.981193</td>\n",
       "      <td>0.348349</td>\n",
       "      <td>-4.364786</td>\n",
       "      <td>0.008738</td>\n",
       "      <td>-0.572441</td>\n",
       "    </tr>\n",
       "    <tr>\n",
       "      <th>2</th>\n",
       "      <td>chr6</td>\n",
       "      <td>-</td>\n",
       "      <td>41163059</td>\n",
       "      <td>41163148</td>\n",
       "      <td>41163086</td>\n",
       "      <td>A</td>\n",
       "      <td>G</td>\n",
       "      <td>ATGAGCAGCCGGAGAGGCTCCATGCCACCCTTCCCCAGCCAAGGGC...</td>\n",
       "      <td>ATGAGCAGCCGGAGAGGCTCCATGCCGCCCTTCCCCAGCCAAGGGC...</td>\n",
       "      <td>0.967627</td>\n",
       "      <td>0.999142</td>\n",
       "      <td>0.972410</td>\n",
       "      <td>0.969255</td>\n",
       "      <td>0.031488</td>\n",
       "      <td>-5.283978</td>\n",
       "      <td>-0.003068</td>\n",
       "      <td>0.160879</td>\n",
       "    </tr>\n",
       "    <tr>\n",
       "      <th>3</th>\n",
       "      <td>chr6</td>\n",
       "      <td>-</td>\n",
       "      <td>41163059</td>\n",
       "      <td>41163148</td>\n",
       "      <td>41163134</td>\n",
       "      <td>G</td>\n",
       "      <td>T</td>\n",
       "      <td>ATGAGCAGCCGGAGAGGCTCCATGCCACCCTTCCCCAGCCAAGGGC...</td>\n",
       "      <td>ATGAGCAGCCGGAGAGGCTCCATGCCACCCTTCCCCAGCCAAGGGC...</td>\n",
       "      <td>0.967627</td>\n",
       "      <td>0.898990</td>\n",
       "      <td>0.972410</td>\n",
       "      <td>0.980187</td>\n",
       "      <td>-0.066416</td>\n",
       "      <td>1.747801</td>\n",
       "      <td>0.007623</td>\n",
       "      <td>-0.489193</td>\n",
       "    </tr>\n",
       "  </tbody>\n",
       "</table>\n",
       "</div>"
      ],
      "text/plain": [
       "    chr strand  Core_Prom_start  Core_Prom_end  VCF_position ref_neucleotide  \\\n",
       "0  chr6      -         41163072       41163161      41163086               A   \n",
       "1  chr6      -         41163072       41163161      41163134               G   \n",
       "2  chr6      -         41163059       41163148      41163086               A   \n",
       "3  chr6      -         41163059       41163148      41163134               G   \n",
       "\n",
       "  alt_neucleotide                                      reference_seq  \\\n",
       "0               G  GAGGCTCCATGCCACCCTTCCCCAGCCAAGGGCAGAAGCAGAGTGC...   \n",
       "1               T  GAGGCTCCATGCCACCCTTCCCCAGCCAAGGGCAGAAGCAGAGTGC...   \n",
       "2               G  ATGAGCAGCCGGAGAGGCTCCATGCCACCCTTCCCCAGCCAAGGGC...   \n",
       "3               T  ATGAGCAGCCGGAGAGGCTCCATGCCACCCTTCCCCAGCCAAGGGC...   \n",
       "\n",
       "                                             alt_seq  TATA_ref  TATA_alt  \\\n",
       "0  GAGGCTCCATGCCGCCCTTCCCCAGCCAAGGGCAGAAGCAGAGTGC...  0.076195  0.191293   \n",
       "1  GAGGCTCCATGCCACCCTTCCCCAGCCAAGGGCAGAAGCAGAGTGC...  0.076195  0.629536   \n",
       "2  ATGAGCAGCCGGAGAGGCTCCATGCCGCCCTTCCCCAGCCAAGGGC...  0.967627  0.999142   \n",
       "3  ATGAGCAGCCGGAGAGGCTCCATGCCACCCTTCCCCAGCCAAGGGC...  0.967627  0.898990   \n",
       "\n",
       "   nonTATA_ref  nonTATA_alt  TATAScoreChange  TATALogOddRatio  \\\n",
       "0     0.972287     0.960271         0.022018        -1.519999   \n",
       "1     0.972287     0.981193         0.348349        -4.364786   \n",
       "2     0.972410     0.969255         0.031488        -5.283978   \n",
       "3     0.972410     0.980187        -0.066416         1.747801   \n",
       "\n",
       "   nonTATAScoreChange  nonTATALogOddRatio  \n",
       "0           -0.011683            0.537580  \n",
       "1            0.008738           -0.572441  \n",
       "2           -0.003068            0.160879  \n",
       "3            0.007623           -0.489193  "
      ]
     },
     "execution_count": 48,
     "metadata": {},
     "output_type": "execute_result"
    }
   ],
   "source": [
    "df_TREM2"
   ]
  },
  {
   "cell_type": "code",
   "execution_count": 49,
   "id": "300d8ab6-b17d-4c61-90f5-a28253918c55",
   "metadata": {},
   "outputs": [],
   "source": [
    "df_TREM2.to_csv(\"/data/private/pdutta/Collab_data/Oliver_data/Output/TREM2_CoreProm.csv\", sep=\",\",index=False)"
   ]
  },
  {
   "cell_type": "code",
   "execution_count": null,
   "id": "6962dcfa-f13a-440f-a3b0-978e6131f644",
   "metadata": {},
   "outputs": [],
   "source": []
  }
 ],
 "metadata": {
  "kernelspec": {
   "display_name": "Python 3 (ipykernel)",
   "language": "python",
   "name": "python3"
  },
  "language_info": {
   "codemirror_mode": {
    "name": "ipython",
    "version": 3
   },
   "file_extension": ".py",
   "mimetype": "text/x-python",
   "name": "python",
   "nbconvert_exporter": "python",
   "pygments_lexer": "ipython3",
   "version": "3.10.11"
  }
 },
 "nbformat": 4,
 "nbformat_minor": 5
}
