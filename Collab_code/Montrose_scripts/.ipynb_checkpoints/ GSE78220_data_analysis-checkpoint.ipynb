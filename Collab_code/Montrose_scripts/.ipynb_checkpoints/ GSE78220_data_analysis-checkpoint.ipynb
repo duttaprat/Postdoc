{
 "cells": [
  {
   "cell_type": "code",
   "execution_count": 8,
   "id": "eddf4a34-a66e-407e-87bb-1205d279a375",
   "metadata": {},
   "outputs": [],
   "source": [
    "import os\n",
    "import numpy as np\n",
    "import pandas as pd\n",
    "import sklearn\n",
    "from io import StringIO"
   ]
  },
  {
   "cell_type": "code",
   "execution_count": 47,
   "id": "a59cdb98-e193-47bb-8d3f-ca6bcb5dee62",
   "metadata": {},
   "outputs": [],
   "source": [
    "data_path = \"/data/private/pdutta/Collab_data/David_data/Serine_gene_Z_score_per_TCGA_sample.xlsx\""
   ]
  },
  {
   "cell_type": "code",
   "execution_count": 51,
   "id": "dc863007-94b5-49ea-bf5e-dc4d8e6e7876",
   "metadata": {},
   "outputs": [
    {
     "name": "stderr",
     "output_type": "stream",
     "text": [
      "/tmp/ipykernel_2155553/3779487040.py:2: FutureWarning: The default value of regex will change from True to False in a future version. In addition, single character regular expressions will *not* be treated as literal strings when regex=True.\n",
      "  df['Unnamed: 0'] = df['Unnamed: 0'].str.replace('.','-')\n"
     ]
    }
   ],
   "source": [
    "df  = pd.read_excel(data_path)\n",
    "df['Unnamed: 0'] = df['Unnamed: 0'].str.replace('.','-')\n",
    "df = df.set_index('Unnamed: 0')\n",
    "df.index.name = None"
   ]
  },
  {
   "cell_type": "code",
   "execution_count": 52,
   "id": "7af2dbdf-7f79-4631-affb-49efb5830af8",
   "metadata": {},
   "outputs": [
    {
     "data": {
      "text/html": [
       "<div>\n",
       "<style scoped>\n",
       "    .dataframe tbody tr th:only-of-type {\n",
       "        vertical-align: middle;\n",
       "    }\n",
       "\n",
       "    .dataframe tbody tr th {\n",
       "        vertical-align: top;\n",
       "    }\n",
       "\n",
       "    .dataframe thead th {\n",
       "        text-align: right;\n",
       "    }\n",
       "</style>\n",
       "<table border=\"1\" class=\"dataframe\">\n",
       "  <thead>\n",
       "    <tr style=\"text-align: right;\">\n",
       "      <th></th>\n",
       "      <th>PHGDH</th>\n",
       "      <th>SFXN1</th>\n",
       "      <th>SLC1A5</th>\n",
       "      <th>Z score</th>\n",
       "    </tr>\n",
       "  </thead>\n",
       "  <tbody>\n",
       "    <tr>\n",
       "      <th>TCGA-AG-3726-01</th>\n",
       "      <td>3.326811</td>\n",
       "      <td>-0.021047</td>\n",
       "      <td>2.016050</td>\n",
       "      <td>1.773938</td>\n",
       "    </tr>\n",
       "    <tr>\n",
       "      <th>TCGA-AG-3727-01</th>\n",
       "      <td>3.135933</td>\n",
       "      <td>-0.515977</td>\n",
       "      <td>1.599620</td>\n",
       "      <td>1.406525</td>\n",
       "    </tr>\n",
       "    <tr>\n",
       "      <th>TCGA-CK-4952-01</th>\n",
       "      <td>2.388606</td>\n",
       "      <td>0.592290</td>\n",
       "      <td>1.103608</td>\n",
       "      <td>1.361501</td>\n",
       "    </tr>\n",
       "    <tr>\n",
       "      <th>TCGA-CL-4957-01</th>\n",
       "      <td>2.442352</td>\n",
       "      <td>0.751154</td>\n",
       "      <td>0.889201</td>\n",
       "      <td>1.360902</td>\n",
       "    </tr>\n",
       "    <tr>\n",
       "      <th>TCGA-EF-5830-01</th>\n",
       "      <td>3.142027</td>\n",
       "      <td>-0.400663</td>\n",
       "      <td>1.274505</td>\n",
       "      <td>1.338623</td>\n",
       "    </tr>\n",
       "  </tbody>\n",
       "</table>\n",
       "</div>"
      ],
      "text/plain": [
       "                    PHGDH     SFXN1    SLC1A5   Z score\n",
       "TCGA-AG-3726-01  3.326811 -0.021047  2.016050  1.773938\n",
       "TCGA-AG-3727-01  3.135933 -0.515977  1.599620  1.406525\n",
       "TCGA-CK-4952-01  2.388606  0.592290  1.103608  1.361501\n",
       "TCGA-CL-4957-01  2.442352  0.751154  0.889201  1.360902\n",
       "TCGA-EF-5830-01  3.142027 -0.400663  1.274505  1.338623"
      ]
     },
     "execution_count": 52,
     "metadata": {},
     "output_type": "execute_result"
    }
   ],
   "source": [
    "df.head()"
   ]
  },
  {
   "cell_type": "code",
   "execution_count": 42,
   "id": "d31715d8-f30d-4d92-b9ab-e4ee05d822b1",
   "metadata": {},
   "outputs": [
    {
     "name": "stderr",
     "output_type": "stream",
     "text": [
      "/tmp/ipykernel_2155553/2306355096.py:1: FutureWarning: The default value of regex will change from True to False in a future version. In addition, single character regular expressions will *not* be treated as literal strings when regex=True.\n",
      "  df['Unnamed: 0'] = df['Unnamed: 0'].str.replace('.','-')\n"
     ]
    }
   ],
   "source": []
  },
  {
   "cell_type": "code",
   "execution_count": 43,
   "id": "6922f470-3dd3-4f3f-9449-c0cde408d053",
   "metadata": {},
   "outputs": [
    {
     "data": {
      "text/html": [
       "<div>\n",
       "<style scoped>\n",
       "    .dataframe tbody tr th:only-of-type {\n",
       "        vertical-align: middle;\n",
       "    }\n",
       "\n",
       "    .dataframe tbody tr th {\n",
       "        vertical-align: top;\n",
       "    }\n",
       "\n",
       "    .dataframe thead th {\n",
       "        text-align: right;\n",
       "    }\n",
       "</style>\n",
       "<table border=\"1\" class=\"dataframe\">\n",
       "  <thead>\n",
       "    <tr style=\"text-align: right;\">\n",
       "      <th></th>\n",
       "      <th>Unnamed: 0</th>\n",
       "      <th>PHGDH</th>\n",
       "      <th>SFXN1</th>\n",
       "      <th>SLC1A5</th>\n",
       "      <th>Z score</th>\n",
       "    </tr>\n",
       "  </thead>\n",
       "  <tbody>\n",
       "    <tr>\n",
       "      <th>0</th>\n",
       "      <td>TCGA-AG-3726-01</td>\n",
       "      <td>3.326811</td>\n",
       "      <td>-0.021047</td>\n",
       "      <td>2.016050</td>\n",
       "      <td>1.773938</td>\n",
       "    </tr>\n",
       "    <tr>\n",
       "      <th>1</th>\n",
       "      <td>TCGA-AG-3727-01</td>\n",
       "      <td>3.135933</td>\n",
       "      <td>-0.515977</td>\n",
       "      <td>1.599620</td>\n",
       "      <td>1.406525</td>\n",
       "    </tr>\n",
       "    <tr>\n",
       "      <th>2</th>\n",
       "      <td>TCGA-CK-4952-01</td>\n",
       "      <td>2.388606</td>\n",
       "      <td>0.592290</td>\n",
       "      <td>1.103608</td>\n",
       "      <td>1.361501</td>\n",
       "    </tr>\n",
       "    <tr>\n",
       "      <th>3</th>\n",
       "      <td>TCGA-CL-4957-01</td>\n",
       "      <td>2.442352</td>\n",
       "      <td>0.751154</td>\n",
       "      <td>0.889201</td>\n",
       "      <td>1.360902</td>\n",
       "    </tr>\n",
       "    <tr>\n",
       "      <th>4</th>\n",
       "      <td>TCGA-EF-5830-01</td>\n",
       "      <td>3.142027</td>\n",
       "      <td>-0.400663</td>\n",
       "      <td>1.274505</td>\n",
       "      <td>1.338623</td>\n",
       "    </tr>\n",
       "    <tr>\n",
       "      <th>...</th>\n",
       "      <td>...</td>\n",
       "      <td>...</td>\n",
       "      <td>...</td>\n",
       "      <td>...</td>\n",
       "      <td>...</td>\n",
       "    </tr>\n",
       "    <tr>\n",
       "      <th>520</th>\n",
       "      <td>TCGA-AA-A01Q-01</td>\n",
       "      <td>-4.042396</td>\n",
       "      <td>-0.192062</td>\n",
       "      <td>-0.773237</td>\n",
       "      <td>-1.669232</td>\n",
       "    </tr>\n",
       "    <tr>\n",
       "      <th>521</th>\n",
       "      <td>TCGA-AG-3732-01</td>\n",
       "      <td>-2.953977</td>\n",
       "      <td>-1.504648</td>\n",
       "      <td>-0.742928</td>\n",
       "      <td>-1.733851</td>\n",
       "    </tr>\n",
       "    <tr>\n",
       "      <th>522</th>\n",
       "      <td>TCGA-AG-3725-01</td>\n",
       "      <td>-3.759599</td>\n",
       "      <td>-1.165187</td>\n",
       "      <td>-0.406955</td>\n",
       "      <td>-1.777247</td>\n",
       "    </tr>\n",
       "    <tr>\n",
       "      <th>523</th>\n",
       "      <td>TCGA-G4-6320-01</td>\n",
       "      <td>-4.529502</td>\n",
       "      <td>-0.364425</td>\n",
       "      <td>-0.486842</td>\n",
       "      <td>-1.793589</td>\n",
       "    </tr>\n",
       "    <tr>\n",
       "      <th>524</th>\n",
       "      <td>TCGA-A6-A56B-01</td>\n",
       "      <td>-4.175233</td>\n",
       "      <td>-0.588596</td>\n",
       "      <td>-0.637401</td>\n",
       "      <td>-1.800410</td>\n",
       "    </tr>\n",
       "  </tbody>\n",
       "</table>\n",
       "<p>525 rows × 5 columns</p>\n",
       "</div>"
      ],
      "text/plain": [
       "          Unnamed: 0     PHGDH     SFXN1    SLC1A5   Z score\n",
       "0    TCGA-AG-3726-01  3.326811 -0.021047  2.016050  1.773938\n",
       "1    TCGA-AG-3727-01  3.135933 -0.515977  1.599620  1.406525\n",
       "2    TCGA-CK-4952-01  2.388606  0.592290  1.103608  1.361501\n",
       "3    TCGA-CL-4957-01  2.442352  0.751154  0.889201  1.360902\n",
       "4    TCGA-EF-5830-01  3.142027 -0.400663  1.274505  1.338623\n",
       "..               ...       ...       ...       ...       ...\n",
       "520  TCGA-AA-A01Q-01 -4.042396 -0.192062 -0.773237 -1.669232\n",
       "521  TCGA-AG-3732-01 -2.953977 -1.504648 -0.742928 -1.733851\n",
       "522  TCGA-AG-3725-01 -3.759599 -1.165187 -0.406955 -1.777247\n",
       "523  TCGA-G4-6320-01 -4.529502 -0.364425 -0.486842 -1.793589\n",
       "524  TCGA-A6-A56B-01 -4.175233 -0.588596 -0.637401 -1.800410\n",
       "\n",
       "[525 rows x 5 columns]"
      ]
     },
     "execution_count": 43,
     "metadata": {},
     "output_type": "execute_result"
    }
   ],
   "source": [
    "df"
   ]
  },
  {
   "cell_type": "code",
   "execution_count": 17,
   "id": "91716738-ad85-45cc-bf2e-08f5d7c33e42",
   "metadata": {},
   "outputs": [],
   "source": [
    "s = df['Z score']\n",
    "val_list_3= s.quantile([.33, .66]).values.tolist()\n",
    "val_list_2= s.quantile([.5]).values.tolist()"
   ]
  },
  {
   "cell_type": "code",
   "execution_count": 19,
   "id": "ac0c7f11-efcd-4498-8c06-2fbf3ace679f",
   "metadata": {},
   "outputs": [
    {
     "data": {
      "text/plain": [
       "[-0.28318940187381686, 0.28537173582846925]"
      ]
     },
     "execution_count": 19,
     "metadata": {},
     "output_type": "execute_result"
    }
   ],
   "source": [
    "val_list_3"
   ]
  },
  {
   "cell_type": "code",
   "execution_count": 20,
   "id": "b6b987c1-89bb-4750-8869-7d32106c26b9",
   "metadata": {},
   "outputs": [],
   "source": [
    "def group_3(row, val_list):\n",
    "    if row['ENST00000322723.8'] < val_list[0]:\n",
    "        return 0\n",
    "    elif val_list[0] <= row['ENST00000322723.8'] < val_list[1]:\n",
    "        return 1\n",
    "    elif val_list[1] <= row['ENST00000322723.8']:\n",
    "        return 2\n",
    "def group_2(row, val_list):\n",
    "    if row['ENST00000322723.8'] < val_list[0]:\n",
    "        return 0\n",
    "    else:\n",
    "        return 1"
   ]
  },
  {
   "cell_type": "code",
   "execution_count": null,
   "id": "f8617ee7-0ec4-45ea-a550-ea08b6d76e48",
   "metadata": {},
   "outputs": [],
   "source": []
  }
 ],
 "metadata": {
  "kernelspec": {
   "display_name": "Python 3 (ipykernel)",
   "language": "python",
   "name": "python3"
  },
  "language_info": {
   "codemirror_mode": {
    "name": "ipython",
    "version": 3
   },
   "file_extension": ".py",
   "mimetype": "text/x-python",
   "name": "python",
   "nbconvert_exporter": "python",
   "pygments_lexer": "ipython3",
   "version": "3.9.13"
  }
 },
 "nbformat": 4,
 "nbformat_minor": 5
}
