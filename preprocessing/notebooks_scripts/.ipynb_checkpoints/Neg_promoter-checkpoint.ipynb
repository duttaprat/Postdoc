{
 "cells": [
  {
   "cell_type": "code",
   "execution_count": 1,
   "id": "48bb6eb5-6de0-4d27-848d-5c2e2eb29faf",
   "metadata": {},
   "outputs": [],
   "source": [
    "import os, tarfile\n",
    "import re\n",
    "import multiprocessing\n",
    "import pandas as pd\n",
    "import pyBigWig\n",
    "import pybedtools\n",
    "import zipfile, gzip\n",
    "from gtfparse import read_gtf\n",
    "import pandas as pd\n",
    "pd.set_option('display.max_columns', None)\n",
    "from Bio.Seq import Seq"
   ]
  },
  {
   "cell_type": "code",
   "execution_count": 2,
   "id": "f4f24891-9cb6-4b3d-b75a-13c312c4bcf2",
   "metadata": {},
   "outputs": [],
   "source": [
    "reference_genome_path = \"/mnt/data05/shared/pdutta_data/Human_Genome_Data/UCSC/genome_by_sequence/\"\n",
    "data_path= \"/mnt/data05/shared/pdutta_data/Human_Genome_Data/UCSC/gencode_annotation/\"\n",
    "promoter_path = \"/mnt/data05/shared/pdutta_data/Human_Genome_Data/Promoter_regions/\"\n",
    "non_promoter_path = \"/mnt/data05/shared/pdutta_data/Human_Genome_Data/Non_promoter_regions/\"\n",
    "file_name=\"gencodeV38.bb\"\n",
    "gencode_path= \"/mnt/data05/shared/pdutta_data/Human_Genome_Data/gencode_annotation/\"\n",
    "gtf_annotation_filename= \"gencode.v38.annotation.gtf\"\n",
    "gff_annotation_filename= \"gencode.v38.annotation.gff3\"\n",
    "file_path= data_path+file_name\n",
    "gencode_gtf_file_path= gencode_path + gtf_annotation_filename\n",
    "gencode_gff_file_path= gencode_path + gff_annotation_filename\n",
    "#reference_genome_file_path = reference_genome_path + reference_genome_name\n",
    "data_save_path= \"/mnt/data05/shared/pdutta_data/Human_Genome_Data/region_wise_sequence/\""
   ]
  },
  {
   "cell_type": "code",
   "execution_count": 3,
   "id": "71349309-5c66-42b7-94e1-7846185b70c6",
   "metadata": {},
   "outputs": [],
   "source": [
    "bb= pyBigWig.open(file_path)"
   ]
  },
  {
   "cell_type": "code",
   "execution_count": null,
   "id": "8e286976-54a1-4993-99d4-30f7b4c4880e",
   "metadata": {},
   "outputs": [],
   "source": []
  },
  {
   "cell_type": "code",
   "execution_count": null,
   "id": "bf9498db-5711-4b53-99c0-d8b8de788bcd",
   "metadata": {},
   "outputs": [],
   "source": []
  },
  {
   "cell_type": "code",
   "execution_count": null,
   "id": "f3c7bf4f-d8cc-475d-84fa-77ca8da25178",
   "metadata": {},
   "outputs": [],
   "source": []
  },
  {
   "cell_type": "code",
   "execution_count": 4,
   "id": "d082499d-929b-4dfd-b132-2e8b2ddc5cf6",
   "metadata": {},
   "outputs": [],
   "source": [
    "promoter_coordinates = [-249, 50]\n",
    "core_promoter_coordinates= [-34, 35]\n",
    "donor_coordinates= [-199, 200]\n",
    "acceptor_coordinates= [-199, 200]"
   ]
  },
  {
   "cell_type": "code",
   "execution_count": 5,
   "id": "58399999-d0ae-4742-929d-9d8e6ca49c7c",
   "metadata": {},
   "outputs": [],
   "source": [
    "def remove_data(elements, distance):\n",
    "    #elements = sorted(elements) # sorting the user input\n",
    "    new_elements = [elements[0]] # make a new list for output\n",
    "    for element in elements[1:]: # Iterate over the remaining elements...\n",
    "        if element - new_elements[-1] >= distance: \n",
    "            # this is the condition you described above\n",
    "            new_elements.append(element)\n",
    "    return new_elements"
   ]
  },
  {
   "cell_type": "code",
   "execution_count": 6,
   "id": "a3fbfc78-90c8-4931-8393-4a248c461354",
   "metadata": {},
   "outputs": [],
   "source": [
    "def string_subs(row, temp_seq):\n",
    "    if(row['strand']=='+'):\n",
    "        start = row['coordinates'] -249\n",
    "        end = row['coordinates'] + 34\n",
    "    elif:\n",
    "        start = row['coordinates'] -50\n",
    "        end = row['coordinates'] + 249\n",
    "    \n",
    "    print (start, end)\n",
    "    sub_string = temp_seq[start:end]\n",
    "    #print(sub_string)\n",
    "    temp_seq = temp_seq.replace(sub_string, 70*'$')\n",
    "    return temp_seq"
   ]
  },
  {
   "cell_type": "code",
   "execution_count": null,
   "id": "1b6be116-480b-412b-af09-991983f72b4f",
   "metadata": {},
   "outputs": [],
   "source": []
  },
  {
   "cell_type": "code",
   "execution_count": 8,
   "id": "1cd5bea5-1a81-4f50-925e-48deae690c73",
   "metadata": {},
   "outputs": [
    {
     "name": "stdout",
     "output_type": "stream",
     "text": [
      "chr1\n",
      "248956422\n",
      "length: 248956422\n",
      "              gene_id       transcript_id strand            exon_id  \\\n",
      "0  ENSG00000001460.18  ENST00000003583.12      -  ENSE00001879255.1   \n",
      "1  ENSG00000001461.17   ENST00000003912.7      +  ENSE00001463427.1   \n",
      "2  ENSG00000010072.16   ENST00000008440.9      +  ENSE00001917770.1   \n",
      "3  ENSG00000008118.10   ENST00000009105.5      +  ENSE00001259594.1   \n",
      "4  ENSG00000009780.16  ENST00000010299.10      +  ENSE00001909353.1   \n",
      "\n",
      "  transcript_type        TSS  \\\n",
      "0  protein_coding   24413725   \n",
      "1  protein_coding   24415803   \n",
      "2  protein_coding  231338256   \n",
      "3  protein_coding  209583717   \n",
      "4  protein_coding   27726057   \n",
      "\n",
      "                                            sequence  \n",
      "0  GGCTTTTGGTTTATCACAAGATTTTTGAAGCATGGCCTAGATAAAC...  \n",
      "1  CACCATTCTTCCTGTGGCCGCTAGGGGGTCCCCGCTCCAGGTGAGC...  \n",
      "2  CGAGAGAAATTTCGGTACTGCGCATGAACCGAGCGTGACGTTGAGG...  \n",
      "3  acacatgcacacagactcacacacacacacacCAGGCAAAAATGCA...  \n",
      "4  CGTCACAGTGGCGTACTCCAGGCCAGACCGAATCAGAGTGGGCGAA...  \n",
      "(20716, 7)\n"
     ]
    },
    {
     "ename": "NameError",
     "evalue": "name 'df_donor' is not defined",
     "output_type": "error",
     "traceback": [
      "\u001b[0;31m---------------------------------------------------------------------------\u001b[0m",
      "\u001b[0;31mNameError\u001b[0m                                 Traceback (most recent call last)",
      "\u001b[0;32m/tmp/ipykernel_3569744/140786161.py\u001b[0m in \u001b[0;36m<module>\u001b[0;34m\u001b[0m\n\u001b[1;32m     23\u001b[0m \u001b[0;34m\u001b[0m\u001b[0m\n\u001b[1;32m     24\u001b[0m \u001b[0;34m\u001b[0m\u001b[0m\n\u001b[0;32m---> 25\u001b[0;31m \u001b[0;32mfor\u001b[0m \u001b[0mindex\u001b[0m\u001b[0;34m,\u001b[0m \u001b[0mrow\u001b[0m \u001b[0;32min\u001b[0m \u001b[0mdf_donor\u001b[0m\u001b[0;34m.\u001b[0m\u001b[0mloc\u001b[0m\u001b[0;34m[\u001b[0m\u001b[0;36m20500\u001b[0m\u001b[0;34m:\u001b[0m\u001b[0;36m21500\u001b[0m\u001b[0;34m]\u001b[0m\u001b[0;34m.\u001b[0m\u001b[0miterrows\u001b[0m\u001b[0;34m(\u001b[0m\u001b[0;34m)\u001b[0m\u001b[0;34m:\u001b[0m\u001b[0;34m\u001b[0m\u001b[0;34m\u001b[0m\u001b[0m\n\u001b[0m\u001b[1;32m     26\u001b[0m     \u001b[0;32mif\u001b[0m \u001b[0;34m(\u001b[0m\u001b[0mindex\u001b[0m\u001b[0;34m%\u001b[0m\u001b[0;36m5\u001b[0m\u001b[0;34m==\u001b[0m\u001b[0;36m0\u001b[0m\u001b[0;34m)\u001b[0m\u001b[0;34m:\u001b[0m\u001b[0;34m\u001b[0m\u001b[0;34m\u001b[0m\u001b[0m\n\u001b[1;32m     27\u001b[0m         \u001b[0mprint\u001b[0m \u001b[0;34m(\u001b[0m\u001b[0mindex\u001b[0m\u001b[0;34m)\u001b[0m\u001b[0;34m\u001b[0m\u001b[0;34m\u001b[0m\u001b[0m\n",
      "\u001b[0;31mNameError\u001b[0m: name 'df_donor' is not defined"
     ]
    }
   ],
   "source": [
    "chr_file= \"chr1.fa\"\n",
    "reference_genome_file_path = reference_genome_path + chr_file\n",
    "chr_name = chr_file.split('.')[0]\n",
    "print (chr_name)\n",
    "# df_chr= df[df['seqname']==chr_name]\n",
    "# df_new = df_chr[df_chr['feature']=='exon'].reset_index(drop=True)\n",
    "# print (df_new.shape)\n",
    "# #print (reference_genome_file_path)\n",
    "length= bb.chroms(chr_name)\n",
    "print (length)\n",
    "fasta = pybedtools.example_filename(reference_genome_file_path)\n",
    "temp_seq= pybedtools.BedTool.seq(chr_name+':1-'+str(length), fasta)\n",
    "print (\"length:\", len(temp_seq))\n",
    "\n",
    "\n",
    "\n",
    "df_promoter = pd.read_csv(promoter_path+chr_name+\"_promoter.csv\")\n",
    "\n",
    "print (df_promoter.head())\n",
    "\n",
    "print(df_promoter.shape)\n",
    "\n",
    "\n",
    "\n",
    "for index, row in df_donor.loc[0:15].iterrows():\n",
    "    if (index%5==0):\n",
    "        print (index)\n",
    "    start = row['coordinates'] -35\n",
    "    end = row['coordinates'] + 34\n",
    "    #print (start, end)\n",
    "    sub_string = temp_seq[start:end]\n",
    "    #print(sub_string)\n",
    "    temp_seq = temp_seq.replace(sub_string, 70*'$')\n",
    "\n",
    "\n",
    "Non_donor_sequence = re.sub('[$]', '', temp_seq)\n",
    "print (\"@@##$$\", len(Non_donor_sequence))\n",
    "non_donor_indices = []\n",
    "for j in pattern_acceptor:\n",
    "    non_donor_indices.append([match.start() for match in re.finditer(j, Non_donor_sequence)])\n",
    "\n",
    "print (len(non_donor_indices[0]))\n",
    "flat_list = [item for sublist in non_donor_indices for item in sublist]\n",
    "print (\"test\")\n",
    "flat_list.sort()\n",
    "print (\"test1\")\n",
    "print (\"@#@\",len(flat_list))\n",
    "removed_flat_list = remove_data(flat_list, 70)\n",
    "print (\"$$$\", len(removed_flat_list))\n",
    "print (removed_flat_list[0:15])\n",
    "\n",
    "list_non_donor = []\n",
    "for i in removed_flat_list[0:10]:\n",
    "    temps =  Non_donor_sequence[i-35:i+34]\n",
    "    list_non_donor.append(temps)\n",
    "pd_df = pd.DataFrame(list_non_donor)\n",
    "print (pd_df)\n",
    "#pd_df.to_csv(non_acceptor_path+\"/\"+chr_name+\"_non_acceptor.csv\")\n"
   ]
  },
  {
   "cell_type": "code",
   "execution_count": null,
   "id": "7d021926-57a5-42b4-98bf-759df94575d2",
   "metadata": {},
   "outputs": [],
   "source": []
  }
 ],
 "metadata": {
  "kernelspec": {
   "display_name": "Python 3 (ipykernel)",
   "language": "python",
   "name": "python3"
  },
  "language_info": {
   "codemirror_mode": {
    "name": "ipython",
    "version": 3
   },
   "file_extension": ".py",
   "mimetype": "text/x-python",
   "name": "python",
   "nbconvert_exporter": "python",
   "pygments_lexer": "ipython3",
   "version": "3.7.11"
  }
 },
 "nbformat": 4,
 "nbformat_minor": 5
}
