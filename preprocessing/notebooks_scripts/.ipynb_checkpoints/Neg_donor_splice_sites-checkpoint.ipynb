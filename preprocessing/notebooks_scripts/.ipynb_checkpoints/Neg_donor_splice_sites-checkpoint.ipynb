{
 "cells": [
  {
   "cell_type": "code",
   "execution_count": 1,
   "id": "48bb6eb5-6de0-4d27-848d-5c2e2eb29faf",
   "metadata": {},
   "outputs": [],
   "source": [
    "import os, tarfile\n",
    "import re\n",
    "import multiprocessing\n",
    "import pandas as pd\n",
    "import pyBigWig\n",
    "import pybedtools\n",
    "import zipfile, gzip\n",
    "from gtfparse import read_gtf\n",
    "import pandas as pd\n",
    "pd.set_option('display.max_columns', None)\n",
    "from Bio.Seq import Seq"
   ]
  },
  {
   "cell_type": "code",
   "execution_count": 2,
   "id": "f4f24891-9cb6-4b3d-b75a-13c312c4bcf2",
   "metadata": {},
   "outputs": [],
   "source": [
    "reference_genome_path = \"/mnt/data05/shared/pdutta_data/Human_Genome_Data/UCSC/genome_by_sequence/\"\n",
    "data_path= \"/mnt/data05/shared/pdutta_data/Human_Genome_Data/UCSC/gencode_annotation/\"\n",
    "donor_path = \"/mnt/data05/shared/pdutta_data/Human_Genome_Data/Donor_splice_sites/\"\n",
    "non_donor_path = \"/mnt/data05/shared/pdutta_data/Human_Genome_Data/Non_donnor_splice_sites/\"\n",
    "file_name=\"gencodeV38.bb\"\n",
    "gencode_path= \"/mnt/data05/shared/pdutta_data/Human_Genome_Data/gencode_annotation/\"\n",
    "gtf_annotation_filename= \"gencode.v38.annotation.gtf\"\n",
    "gff_annotation_filename= \"gencode.v38.annotation.gff3\"\n",
    "file_path= data_path+file_name\n",
    "gencode_gtf_file_path= gencode_path + gtf_annotation_filename\n",
    "gencode_gff_file_path= gencode_path + gff_annotation_filename\n",
    "#reference_genome_file_path = reference_genome_path + reference_genome_name\n",
    "data_save_path= \"/mnt/data05/shared/pdutta_data/Human_Genome_Data/region_wise_sequence/\""
   ]
  },
  {
   "cell_type": "code",
   "execution_count": 3,
   "id": "71349309-5c66-42b7-94e1-7846185b70c6",
   "metadata": {},
   "outputs": [],
   "source": [
    "bb= pyBigWig.open(file_path)"
   ]
  },
  {
   "cell_type": "code",
   "execution_count": 4,
   "id": "8e286976-54a1-4993-99d4-30f7b4c4880e",
   "metadata": {},
   "outputs": [
    {
     "name": "stderr",
     "output_type": "stream",
     "text": [
      "INFO:root:Extracted GTF attributes: ['gene_id', 'gene_type', 'gene_name', 'level', 'hgnc_id', 'havana_gene', 'transcript_id', 'transcript_type', 'transcript_name', 'transcript_support_level', 'tag', 'havana_transcript', 'exon_number', 'exon_id', 'ont', 'protein_id', 'ccdsid']\n"
     ]
    }
   ],
   "source": [
    "df = read_gtf(gencode_gtf_file_path)"
   ]
  },
  {
   "cell_type": "code",
   "execution_count": 5,
   "id": "bf9498db-5711-4b53-99c0-d8b8de788bcd",
   "metadata": {},
   "outputs": [
    {
     "name": "stdout",
     "output_type": "stream",
     "text": [
      "Index(['seqname', 'source', 'feature', 'start', 'end', 'score', 'strand',\n",
      "       'frame', 'gene_id', 'gene_type', 'gene_name', 'level', 'hgnc_id',\n",
      "       'havana_gene', 'transcript_id', 'transcript_type', 'transcript_name',\n",
      "       'transcript_support_level', 'tag', 'havana_transcript', 'exon_number',\n",
      "       'exon_id', 'ont', 'protein_id', 'ccdsid'],\n",
      "      dtype='object')\n",
      "(3150424, 25)\n"
     ]
    }
   ],
   "source": [
    "print(df.columns)\n",
    "print(df.shape)"
   ]
  },
  {
   "cell_type": "code",
   "execution_count": 6,
   "id": "f3c7bf4f-d8cc-475d-84fa-77ca8da25178",
   "metadata": {},
   "outputs": [
    {
     "data": {
      "text/html": [
       "<div>\n",
       "<style scoped>\n",
       "    .dataframe tbody tr th:only-of-type {\n",
       "        vertical-align: middle;\n",
       "    }\n",
       "\n",
       "    .dataframe tbody tr th {\n",
       "        vertical-align: top;\n",
       "    }\n",
       "\n",
       "    .dataframe thead th {\n",
       "        text-align: right;\n",
       "    }\n",
       "</style>\n",
       "<table border=\"1\" class=\"dataframe\">\n",
       "  <thead>\n",
       "    <tr style=\"text-align: right;\">\n",
       "      <th></th>\n",
       "      <th>seqname</th>\n",
       "      <th>source</th>\n",
       "      <th>feature</th>\n",
       "      <th>start</th>\n",
       "      <th>end</th>\n",
       "      <th>score</th>\n",
       "      <th>strand</th>\n",
       "      <th>frame</th>\n",
       "      <th>gene_id</th>\n",
       "      <th>gene_type</th>\n",
       "      <th>gene_name</th>\n",
       "      <th>level</th>\n",
       "      <th>hgnc_id</th>\n",
       "      <th>havana_gene</th>\n",
       "      <th>transcript_id</th>\n",
       "      <th>transcript_type</th>\n",
       "      <th>transcript_name</th>\n",
       "      <th>transcript_support_level</th>\n",
       "      <th>tag</th>\n",
       "      <th>havana_transcript</th>\n",
       "      <th>exon_number</th>\n",
       "      <th>exon_id</th>\n",
       "      <th>ont</th>\n",
       "      <th>protein_id</th>\n",
       "      <th>ccdsid</th>\n",
       "    </tr>\n",
       "  </thead>\n",
       "  <tbody>\n",
       "    <tr>\n",
       "      <th>0</th>\n",
       "      <td>chr1</td>\n",
       "      <td>HAVANA</td>\n",
       "      <td>gene</td>\n",
       "      <td>11869</td>\n",
       "      <td>14409</td>\n",
       "      <td>NaN</td>\n",
       "      <td>+</td>\n",
       "      <td>0</td>\n",
       "      <td>ENSG00000223972.5</td>\n",
       "      <td>transcribed_unprocessed_pseudogene</td>\n",
       "      <td>DDX11L1</td>\n",
       "      <td>2</td>\n",
       "      <td>HGNC:37102</td>\n",
       "      <td>OTTHUMG00000000961.2</td>\n",
       "      <td></td>\n",
       "      <td></td>\n",
       "      <td></td>\n",
       "      <td></td>\n",
       "      <td></td>\n",
       "      <td></td>\n",
       "      <td></td>\n",
       "      <td></td>\n",
       "      <td></td>\n",
       "      <td></td>\n",
       "      <td></td>\n",
       "    </tr>\n",
       "    <tr>\n",
       "      <th>1</th>\n",
       "      <td>chr1</td>\n",
       "      <td>HAVANA</td>\n",
       "      <td>transcript</td>\n",
       "      <td>11869</td>\n",
       "      <td>14409</td>\n",
       "      <td>NaN</td>\n",
       "      <td>+</td>\n",
       "      <td>0</td>\n",
       "      <td>ENSG00000223972.5</td>\n",
       "      <td>transcribed_unprocessed_pseudogene</td>\n",
       "      <td>DDX11L1</td>\n",
       "      <td>2</td>\n",
       "      <td>HGNC:37102</td>\n",
       "      <td>OTTHUMG00000000961.2</td>\n",
       "      <td>ENST00000456328.2</td>\n",
       "      <td>processed_transcript</td>\n",
       "      <td>DDX11L1-202</td>\n",
       "      <td>1</td>\n",
       "      <td>basic</td>\n",
       "      <td>OTTHUMT00000362751.1</td>\n",
       "      <td></td>\n",
       "      <td></td>\n",
       "      <td></td>\n",
       "      <td></td>\n",
       "      <td></td>\n",
       "    </tr>\n",
       "    <tr>\n",
       "      <th>2</th>\n",
       "      <td>chr1</td>\n",
       "      <td>HAVANA</td>\n",
       "      <td>exon</td>\n",
       "      <td>11869</td>\n",
       "      <td>12227</td>\n",
       "      <td>NaN</td>\n",
       "      <td>+</td>\n",
       "      <td>0</td>\n",
       "      <td>ENSG00000223972.5</td>\n",
       "      <td>transcribed_unprocessed_pseudogene</td>\n",
       "      <td>DDX11L1</td>\n",
       "      <td>2</td>\n",
       "      <td>HGNC:37102</td>\n",
       "      <td>OTTHUMG00000000961.2</td>\n",
       "      <td>ENST00000456328.2</td>\n",
       "      <td>processed_transcript</td>\n",
       "      <td>DDX11L1-202</td>\n",
       "      <td>1</td>\n",
       "      <td>basic</td>\n",
       "      <td>OTTHUMT00000362751.1</td>\n",
       "      <td>1</td>\n",
       "      <td>ENSE00002234944.1</td>\n",
       "      <td></td>\n",
       "      <td></td>\n",
       "      <td></td>\n",
       "    </tr>\n",
       "    <tr>\n",
       "      <th>3</th>\n",
       "      <td>chr1</td>\n",
       "      <td>HAVANA</td>\n",
       "      <td>exon</td>\n",
       "      <td>12613</td>\n",
       "      <td>12721</td>\n",
       "      <td>NaN</td>\n",
       "      <td>+</td>\n",
       "      <td>0</td>\n",
       "      <td>ENSG00000223972.5</td>\n",
       "      <td>transcribed_unprocessed_pseudogene</td>\n",
       "      <td>DDX11L1</td>\n",
       "      <td>2</td>\n",
       "      <td>HGNC:37102</td>\n",
       "      <td>OTTHUMG00000000961.2</td>\n",
       "      <td>ENST00000456328.2</td>\n",
       "      <td>processed_transcript</td>\n",
       "      <td>DDX11L1-202</td>\n",
       "      <td>1</td>\n",
       "      <td>basic</td>\n",
       "      <td>OTTHUMT00000362751.1</td>\n",
       "      <td>2</td>\n",
       "      <td>ENSE00003582793.1</td>\n",
       "      <td></td>\n",
       "      <td></td>\n",
       "      <td></td>\n",
       "    </tr>\n",
       "    <tr>\n",
       "      <th>4</th>\n",
       "      <td>chr1</td>\n",
       "      <td>HAVANA</td>\n",
       "      <td>exon</td>\n",
       "      <td>13221</td>\n",
       "      <td>14409</td>\n",
       "      <td>NaN</td>\n",
       "      <td>+</td>\n",
       "      <td>0</td>\n",
       "      <td>ENSG00000223972.5</td>\n",
       "      <td>transcribed_unprocessed_pseudogene</td>\n",
       "      <td>DDX11L1</td>\n",
       "      <td>2</td>\n",
       "      <td>HGNC:37102</td>\n",
       "      <td>OTTHUMG00000000961.2</td>\n",
       "      <td>ENST00000456328.2</td>\n",
       "      <td>processed_transcript</td>\n",
       "      <td>DDX11L1-202</td>\n",
       "      <td>1</td>\n",
       "      <td>basic</td>\n",
       "      <td>OTTHUMT00000362751.1</td>\n",
       "      <td>3</td>\n",
       "      <td>ENSE00002312635.1</td>\n",
       "      <td></td>\n",
       "      <td></td>\n",
       "      <td></td>\n",
       "    </tr>\n",
       "  </tbody>\n",
       "</table>\n",
       "</div>"
      ],
      "text/plain": [
       "  seqname  source     feature  start    end  score strand frame  \\\n",
       "0    chr1  HAVANA        gene  11869  14409    NaN      +     0   \n",
       "1    chr1  HAVANA  transcript  11869  14409    NaN      +     0   \n",
       "2    chr1  HAVANA        exon  11869  12227    NaN      +     0   \n",
       "3    chr1  HAVANA        exon  12613  12721    NaN      +     0   \n",
       "4    chr1  HAVANA        exon  13221  14409    NaN      +     0   \n",
       "\n",
       "             gene_id                           gene_type gene_name level  \\\n",
       "0  ENSG00000223972.5  transcribed_unprocessed_pseudogene   DDX11L1     2   \n",
       "1  ENSG00000223972.5  transcribed_unprocessed_pseudogene   DDX11L1     2   \n",
       "2  ENSG00000223972.5  transcribed_unprocessed_pseudogene   DDX11L1     2   \n",
       "3  ENSG00000223972.5  transcribed_unprocessed_pseudogene   DDX11L1     2   \n",
       "4  ENSG00000223972.5  transcribed_unprocessed_pseudogene   DDX11L1     2   \n",
       "\n",
       "      hgnc_id           havana_gene      transcript_id       transcript_type  \\\n",
       "0  HGNC:37102  OTTHUMG00000000961.2                                            \n",
       "1  HGNC:37102  OTTHUMG00000000961.2  ENST00000456328.2  processed_transcript   \n",
       "2  HGNC:37102  OTTHUMG00000000961.2  ENST00000456328.2  processed_transcript   \n",
       "3  HGNC:37102  OTTHUMG00000000961.2  ENST00000456328.2  processed_transcript   \n",
       "4  HGNC:37102  OTTHUMG00000000961.2  ENST00000456328.2  processed_transcript   \n",
       "\n",
       "  transcript_name transcript_support_level    tag     havana_transcript  \\\n",
       "0                                                                         \n",
       "1     DDX11L1-202                        1  basic  OTTHUMT00000362751.1   \n",
       "2     DDX11L1-202                        1  basic  OTTHUMT00000362751.1   \n",
       "3     DDX11L1-202                        1  basic  OTTHUMT00000362751.1   \n",
       "4     DDX11L1-202                        1  basic  OTTHUMT00000362751.1   \n",
       "\n",
       "  exon_number            exon_id ont protein_id ccdsid  \n",
       "0                                                       \n",
       "1                                                       \n",
       "2           1  ENSE00002234944.1                        \n",
       "3           2  ENSE00003582793.1                        \n",
       "4           3  ENSE00002312635.1                        "
      ]
     },
     "execution_count": 6,
     "metadata": {},
     "output_type": "execute_result"
    }
   ],
   "source": [
    "df.head()"
   ]
  },
  {
   "cell_type": "code",
   "execution_count": 8,
   "id": "d082499d-929b-4dfd-b132-2e8b2ddc5cf6",
   "metadata": {},
   "outputs": [],
   "source": [
    "promoter_coordinates = [-249, 50]\n",
    "core_promoter_coordinates= [-34, 35]\n",
    "donor_coordinates= [-199, 200]\n",
    "acceptor_coordinates= [-199, 200]"
   ]
  },
  {
   "cell_type": "code",
   "execution_count": 13,
   "id": "58399999-d0ae-4742-929d-9d8e6ca49c7c",
   "metadata": {},
   "outputs": [],
   "source": [
    "def remove_data(elements, distance):\n",
    "    #elements = sorted(elements) # sorting the user input\n",
    "    new_elements = [elements[0]] # make a new list for output\n",
    "    for element in elements[1:]: # Iterate over the remaining elements...\n",
    "        if element - new_elements[-1] >= distance: \n",
    "            # this is the condition you described above\n",
    "            new_elements.append(element)\n",
    "    return new_elements"
   ]
  },
  {
   "cell_type": "code",
   "execution_count": 14,
   "id": "a3fbfc78-90c8-4931-8393-4a248c461354",
   "metadata": {},
   "outputs": [],
   "source": [
    "def string_subs(row, temp_seq):\n",
    "    start = row['coordinates'] -35\n",
    "    end = row['coordinates'] + 34\n",
    "    #print (start, end)\n",
    "    sub_string = temp_seq[start:end]\n",
    "    #print(sub_string)\n",
    "    temp_seq = temp_seq.replace(sub_string, 70*'$')\n",
    "    return temp_seq"
   ]
  },
  {
   "cell_type": "code",
   "execution_count": 9,
   "id": "1b6be116-480b-412b-af09-991983f72b4f",
   "metadata": {},
   "outputs": [],
   "source": [
    "chr_file= \"chr1.fa\""
   ]
  },
  {
   "cell_type": "code",
   "execution_count": 15,
   "id": "1cd5bea5-1a81-4f50-925e-48deae690c73",
   "metadata": {},
   "outputs": [
    {
     "name": "stdout",
     "output_type": "stream",
     "text": [
      "chr1\n",
      "(136680, 25)\n",
      "248956422\n",
      "length: 248956422\n",
      "(118068, 6)\n",
      "0\n",
      "5\n",
      "@@##$$ 248955732\n",
      "5479633\n",
      "test\n",
      "test1\n",
      "@#@ 11589462\n",
      "$$$ 2577716\n",
      "[10472, 10549, 10620, 10813, 10887, 10963, 11045, 11131, 11211, 11328, 11453, 11530, 11611, 11695, 11766]\n"
     ]
    },
    {
     "ename": "NameError",
     "evalue": "name 'Non_doonor_sequence' is not defined",
     "output_type": "error",
     "traceback": [
      "\u001b[0;31m---------------------------------------------------------------------------\u001b[0m",
      "\u001b[0;31mNameError\u001b[0m                                 Traceback (most recent call last)",
      "\u001b[0;32m/tmp/ipykernel_3220485/975839666.py\u001b[0m in \u001b[0;36m<module>\u001b[0;34m\u001b[0m\n\u001b[1;32m     50\u001b[0m \u001b[0mlist_non_donor\u001b[0m \u001b[0;34m=\u001b[0m \u001b[0;34m[\u001b[0m\u001b[0;34m]\u001b[0m\u001b[0;34m\u001b[0m\u001b[0;34m\u001b[0m\u001b[0m\n\u001b[1;32m     51\u001b[0m \u001b[0;32mfor\u001b[0m \u001b[0mi\u001b[0m \u001b[0;32min\u001b[0m \u001b[0mremoved_flat_list\u001b[0m\u001b[0;34m[\u001b[0m\u001b[0;36m0\u001b[0m\u001b[0;34m:\u001b[0m\u001b[0;36m15\u001b[0m\u001b[0;34m]\u001b[0m\u001b[0;34m:\u001b[0m\u001b[0;34m\u001b[0m\u001b[0;34m\u001b[0m\u001b[0m\n\u001b[0;32m---> 52\u001b[0;31m     \u001b[0mtemps\u001b[0m \u001b[0;34m=\u001b[0m  \u001b[0mNon_doonor_sequence\u001b[0m\u001b[0;34m[\u001b[0m\u001b[0mi\u001b[0m\u001b[0;34m-\u001b[0m\u001b[0;36m35\u001b[0m\u001b[0;34m:\u001b[0m\u001b[0mi\u001b[0m\u001b[0;34m+\u001b[0m\u001b[0;36m34\u001b[0m\u001b[0;34m]\u001b[0m\u001b[0;34m\u001b[0m\u001b[0;34m\u001b[0m\u001b[0m\n\u001b[0m\u001b[1;32m     53\u001b[0m     \u001b[0mlist_non_donor\u001b[0m\u001b[0;34m.\u001b[0m\u001b[0mappend\u001b[0m\u001b[0;34m(\u001b[0m\u001b[0mtemps\u001b[0m\u001b[0;34m)\u001b[0m\u001b[0;34m\u001b[0m\u001b[0;34m\u001b[0m\u001b[0m\n\u001b[1;32m     54\u001b[0m \u001b[0mpd_df\u001b[0m \u001b[0;34m=\u001b[0m \u001b[0mpd\u001b[0m\u001b[0;34m.\u001b[0m\u001b[0mDataFrame\u001b[0m\u001b[0;34m(\u001b[0m\u001b[0mlist_non_donor\u001b[0m\u001b[0;34m)\u001b[0m\u001b[0;34m\u001b[0m\u001b[0;34m\u001b[0m\u001b[0m\n",
      "\u001b[0;31mNameError\u001b[0m: name 'Non_doonor_sequence' is not defined"
     ]
    }
   ],
   "source": [
    "reference_genome_file_path = reference_genome_path + chr_file\n",
    "chr_name = chr_file.split('.')[0]\n",
    "print (chr_name)\n",
    "df_chr= df[df['seqname']==chr_name]\n",
    "df_new = df_chr[df_chr['feature']=='exon'].reset_index(drop=True)\n",
    "print (df_new.shape)\n",
    "#print (reference_genome_file_path)\n",
    "length= bb.chroms(chr_name)\n",
    "print (length)\n",
    "fasta = pybedtools.example_filename(reference_genome_file_path)\n",
    "temp_seq= pybedtools.BedTool.seq(chr_name+':1-'+str(length), fasta)\n",
    "print (\"length:\", len(temp_seq))\n",
    "\n",
    "pattern_donor= ['GT', 'gt']\n",
    "\n",
    "df_donor = pd.read_csv(donor_path+chr_name+\"_donor_splice_set.csv\")\n",
    "\n",
    "\n",
    "print(df_donor.shape)\n",
    "\n",
    "\n",
    "\n",
    "for index, row in df_donor.head(10).iterrows():\n",
    "    if (index%5==0):\n",
    "        print (index)\n",
    "    start = row['coordinates'] -35\n",
    "    end = row['coordinates'] + 34\n",
    "    #print (start, end)\n",
    "    sub_string = temp_seq[start:end]\n",
    "    #print(sub_string)\n",
    "    temp_seq = temp_seq.replace(sub_string, 70*'$')\n",
    "\n",
    "\n",
    "Non_donor_sequence = re.sub('[$]', '', temp_seq)\n",
    "print (\"@@##$$\", len(Non_donor_sequence))\n",
    "non_donor_indices = []\n",
    "for j in pattern_acceptor:\n",
    "    non_donor_indices.append([match.start() for match in re.finditer(j, Non_donor_sequence)])\n",
    "\n",
    "print (len(non_donor_indices[0]))\n",
    "flat_list = [item for sublist in non_donor_indices for item in sublist]\n",
    "print (\"test\")\n",
    "flat_list.sort()\n",
    "print (\"test1\")\n",
    "print (\"@#@\",len(flat_list))\n",
    "removed_flat_list = remove_data(flat_list, 70)\n",
    "print (\"$$$\", len(removed_flat_list))\n",
    "print (removed_flat_list[0:15])\n",
    "\n",
    "list_non_donor = []\n",
    "for i in removed_flat_list[0:15]:\n",
    "    temps =  Non_donor_sequence[i-35:i+34]\n",
    "    list_non_donor.append(temps)\n",
    "pd_df = pd.DataFrame(list_non_donor)\n",
    "print (pd_df)\n",
    "#pd_df.to_csv(non_acceptor_path+\"/\"+chr_name+\"_non_acceptor.csv\")\n"
   ]
  },
  {
   "cell_type": "code",
   "execution_count": 46,
   "id": "8e5827cd-0942-4812-a7de-5a880a371c34",
   "metadata": {},
   "outputs": [
    {
     "data": {
      "text/plain": [
       "'ttctccacaaagtgtttacttttggatttttgccagtctaacaggtgaAGccctggagattcttattagtgatttgggctggggcctggccatgtgtatttttttaaatttccactgatgattttgctgcatggccggtgttgagaatgactgCGCAAATTTGCCGGATTTCCTTTGCTGTTCCTGCATGTAGTTTAAACGAGATTGCCAGCACCGGGTATCATTCACCATTTTTCTTTTCGTTAACTTGCCGTCAGCCTTTTCTTTGACCTCTTCTTTCTGTTCATGTGTATTTGCTGT'"
      ]
     },
     "execution_count": 46,
     "metadata": {},
     "output_type": "execute_result"
    }
   ],
   "source": [
    "test_seq = pybedtools.BedTool.seq('chr1:11628-11927', fasta)\n",
    "test_seq"
   ]
  },
  {
   "cell_type": "code",
   "execution_count": 47,
   "id": "a72c986b-6260-435e-92d2-495a2c5bbd4b",
   "metadata": {},
   "outputs": [
    {
     "name": "stdout",
     "output_type": "stream",
     "text": [
      "ACAGCAAATACACATGAACAGAAAGAAGAGGTCAAAGAAAAGGCTGACGGCAAGTTAACGAAAAGAAAAATGGTGAATGATACCCGGTGCTGGCAATCTCGTTTAAACTACATGCAGGAACAGCAAAGGAAATCCGGCAAATTTGCGcagtcattctcaacaccggccatgcagcaaaatcatcagtggaaatttaaaaaaatacacatggccaggccccagcccaaatcactaataagaatctccagggCTtcacctgttagactggcaaaaatccaaaagtaaacactttgtggagaa\n"
     ]
    }
   ],
   "source": [
    "seq = Seq(test_seq)\n",
    "\n",
    "print (seq.reverse_complement())"
   ]
  },
  {
   "cell_type": "code",
   "execution_count": 14,
   "id": "8dcec4ae-0d9a-49af-b046-04c107e2a0a0",
   "metadata": {},
   "outputs": [],
   "source": [
    "reference_genome_file_path = '/mnt/data05/shared/pdutta_data/Human_Genome_Data/UCSC/genome_by_sequence/chr1.fa'\n",
    "fasta = pybedtools.example_filename(reference_genome_file_path)"
   ]
  },
  {
   "cell_type": "code",
   "execution_count": 125,
   "id": "f3583206-5580-4674-86a4-6f733647f83f",
   "metadata": {},
   "outputs": [
    {
     "ename": "NameError",
     "evalue": "name 'a' is not defined",
     "output_type": "error",
     "traceback": [
      "\u001b[0;31m---------------------------------------------------------------------------\u001b[0m",
      "\u001b[0;31mNameError\u001b[0m                                 Traceback (most recent call last)",
      "\u001b[0;32m/tmp/ipykernel_355239/1613895021.py\u001b[0m in \u001b[0;36m<module>\u001b[0;34m\u001b[0m\n\u001b[0;32m----> 1\u001b[0;31m \u001b[0ma\u001b[0m \u001b[0;34m=\u001b[0m \u001b[0ma\u001b[0m\u001b[0;34m.\u001b[0m\u001b[0msequence\u001b[0m\u001b[0;34m(\u001b[0m\u001b[0mfi\u001b[0m\u001b[0;34m=\u001b[0m\u001b[0mfasta\u001b[0m\u001b[0;34m)\u001b[0m\u001b[0;34m\u001b[0m\u001b[0;34m\u001b[0m\u001b[0m\n\u001b[0m",
      "\u001b[0;31mNameError\u001b[0m: name 'a' is not defined"
     ]
    }
   ],
   "source": [
    "a = a.sequence(fi=fasta)"
   ]
  },
  {
   "cell_type": "code",
   "execution_count": 33,
   "id": "5bebd1ed-1188-4d7f-b7b8-6de3e80dbec9",
   "metadata": {},
   "outputs": [],
   "source": [
    "temp_seq = pybedtools.BedTool.seq('chr1:1-248956422', fasta)"
   ]
  },
  {
   "cell_type": "code",
   "execution_count": 34,
   "id": "306e063e-f1fa-466d-8421-fd0862e86a76",
   "metadata": {},
   "outputs": [
    {
     "data": {
      "text/plain": [
       "248956422"
      ]
     },
     "execution_count": 34,
     "metadata": {},
     "output_type": "execute_result"
    }
   ],
   "source": [
    "len(temp_seq)"
   ]
  },
  {
   "cell_type": "code",
   "execution_count": 68,
   "id": "0584843b-d173-43ae-a790-da4b29558b72",
   "metadata": {},
   "outputs": [
    {
     "data": {
      "text/plain": [
       "248956471"
      ]
     },
     "execution_count": 68,
     "metadata": {},
     "output_type": "execute_result"
    }
   ],
   "source": [
    "import sys\n",
    "sys.getsizeof(temp_seq,'U6') "
   ]
  },
  {
   "cell_type": "code",
   "execution_count": 70,
   "id": "1bda15e6-d171-44b1-91d1-66dc5632ff14",
   "metadata": {},
   "outputs": [],
   "source": [
    "np_test_seq  = np.array(list(temp_seq))"
   ]
  },
  {
   "cell_type": "code",
   "execution_count": 72,
   "id": "6e633014-9719-488e-a35c-9a8d2f14e758",
   "metadata": {},
   "outputs": [
    {
     "data": {
      "text/plain": [
       "995825792"
      ]
     },
     "execution_count": 72,
     "metadata": {},
     "output_type": "execute_result"
    }
   ],
   "source": [
    "sys.getsizeof(np_test_seq,'U6') "
   ]
  },
  {
   "cell_type": "code",
   "execution_count": 115,
   "id": "d6567b85-bbf4-4245-906b-be1af53a30ab",
   "metadata": {},
   "outputs": [],
   "source": [
    "test_str= \"HGGVHGJBKJGNBJHBNBHJBNHGJHBHB\""
   ]
  },
  {
   "cell_type": "code",
   "execution_count": 69,
   "id": "e78746dd-cce0-4c48-980e-02b47147971b",
   "metadata": {},
   "outputs": [],
   "source": [
    "import numpy as np\n",
    "test_str_new = np.array(test_str)\n"
   ]
  },
  {
   "cell_type": "code",
   "execution_count": 61,
   "id": "3acc7ead-6d8d-4bbb-bd90-9126542f34c0",
   "metadata": {},
   "outputs": [
    {
     "data": {
      "text/plain": [
       "array('HGGVHGJBKJGNBJHBNBHJBNHGJHBHB', dtype='<U29')"
      ]
     },
     "execution_count": 61,
     "metadata": {},
     "output_type": "execute_result"
    }
   ],
   "source": [
    "test_str_new"
   ]
  },
  {
   "cell_type": "code",
   "execution_count": 36,
   "id": "28b13586-5eae-4aec-b002-d54f0c97ba5b",
   "metadata": {},
   "outputs": [],
   "source": [
    "position = [[10,12], [16,20]]"
   ]
  },
  {
   "cell_type": "code",
   "execution_count": null,
   "id": "dc2e4e0d-39f5-488c-a648-094c4e4753bd",
   "metadata": {},
   "outputs": [],
   "source": []
  },
  {
   "cell_type": "code",
   "execution_count": 119,
   "id": "a90ca177-7bf9-4f00-bf3f-3729831d50ce",
   "metadata": {},
   "outputs": [
    {
     "name": "stdout",
     "output_type": "stream",
     "text": [
      "[10, 12]\n",
      "$$$\n",
      "$$$\n",
      "HGGVHGJBKJ$$$JHB$$$$$NHGJHBHB\n",
      "[16, 20]\n",
      "$$$$$\n",
      "$$$$$\n",
      "HGGVHGJBKJ$$$JHB$$$$$NHGJHBHB\n",
      "HGGVHGJBKJJHBNHGJHBHB\n"
     ]
    }
   ],
   "source": [
    "for i in position:\n",
    "    print (i)\n",
    "    sub_string = test_str[i[0]:i[1]+1]\n",
    "    print(sub_string)\n",
    "    substitute_str = \"$\"* int(i[1]+1-i[0])\n",
    "    print (substitute_str)\n",
    "    test_str = test_str.replace(sub_string, substitute_str)\n",
    "    print (test_str)\n",
    "line = re.sub('[$]', '', test_str)\n",
    "print (line)"
   ]
  },
  {
   "cell_type": "code",
   "execution_count": 51,
   "id": "9aee7d57-f924-4f95-a9dd-c5ffded3d5b2",
   "metadata": {},
   "outputs": [
    {
     "ename": "IndexError",
     "evalue": "too many indices for array: array is 0-dimensional, but 1 were indexed",
     "output_type": "error",
     "traceback": [
      "\u001b[0;31m---------------------------------------------------------------------------\u001b[0m",
      "\u001b[0;31mIndexError\u001b[0m                                Traceback (most recent call last)",
      "\u001b[0;32m/tmp/ipykernel_355239/2495947432.py\u001b[0m in \u001b[0;36m<module>\u001b[0;34m\u001b[0m\n\u001b[1;32m      1\u001b[0m \u001b[0;31m# test_str_new[position[0][0]:position[0][1]] = 'NN'\u001b[0m\u001b[0;34m\u001b[0m\u001b[0;34m\u001b[0m\u001b[0;34m\u001b[0m\u001b[0m\n\u001b[0;32m----> 2\u001b[0;31m \u001b[0mtest_str_new\u001b[0m\u001b[0;34m[\u001b[0m\u001b[0;36m0\u001b[0m\u001b[0;34m]\u001b[0m\u001b[0;34m[\u001b[0m\u001b[0;36m0\u001b[0m\u001b[0;34m]\u001b[0m\u001b[0;34m\u001b[0m\u001b[0;34m\u001b[0m\u001b[0m\n\u001b[0m",
      "\u001b[0;31mIndexError\u001b[0m: too many indices for array: array is 0-dimensional, but 1 were indexed"
     ]
    }
   ],
   "source": [
    "# test_str_new[position[0][0]:position[0][1]] = 'NN'\n",
    "test_str_new[0][0]"
   ]
  },
  {
   "cell_type": "code",
   "execution_count": 12,
   "id": "558c0161-5b2a-40f7-ab3e-f59f19032130",
   "metadata": {},
   "outputs": [],
   "source": [
    "test_str = test_str[0:position[0]]+ test_str[position[1]:]"
   ]
  },
  {
   "cell_type": "code",
   "execution_count": 94,
   "id": "050601b6-fa71-4bd3-9143-fffb5e5f2a02",
   "metadata": {},
   "outputs": [
    {
     "data": {
      "text/plain": [
       "'$GGV$GJBKJGNBJ$BNB$JBN$GJ$B$B'"
      ]
     },
     "execution_count": 94,
     "metadata": {},
     "output_type": "execute_result"
    }
   ],
   "source": [
    "test_str = test_str.replace(test_str[0], '$')\n",
    "test_str"
   ]
  },
  {
   "cell_type": "code",
   "execution_count": null,
   "id": "b806e74a-5aad-49d2-8b84-8fb7a22e004c",
   "metadata": {},
   "outputs": [],
   "source": [
    "for "
   ]
  },
  {
   "cell_type": "code",
   "execution_count": 54,
   "id": "8ee74b1e-3398-4f74-8270-960f068cf624",
   "metadata": {},
   "outputs": [],
   "source": [
    "check_sr= \"\"\n",
    "for i in range(10):\n",
    "    check_sr= check_sr+ '0'"
   ]
  },
  {
   "cell_type": "code",
   "execution_count": 55,
   "id": "929ff8f0-8eb2-4e07-bd0b-6b8f52a4f85c",
   "metadata": {},
   "outputs": [
    {
     "data": {
      "text/plain": [
       "'0000000000'"
      ]
     },
     "execution_count": 55,
     "metadata": {},
     "output_type": "execute_result"
    }
   ],
   "source": [
    "check_sr"
   ]
  },
  {
   "cell_type": "code",
   "execution_count": 56,
   "id": "0c9f1896-5273-4810-93cc-8331ec182ba6",
   "metadata": {},
   "outputs": [],
   "source": [
    "check_sr1= \"\"\n",
    "check_sr1 = [\"0\" for i in range(10)  ]"
   ]
  },
  {
   "cell_type": "code",
   "execution_count": 57,
   "id": "56d58a23-92cb-431f-897e-fec30c98a14a",
   "metadata": {},
   "outputs": [
    {
     "data": {
      "text/plain": [
       "['0', '0', '0', '0', '0', '0', '0', '0', '0', '0']"
      ]
     },
     "execution_count": 57,
     "metadata": {},
     "output_type": "execute_result"
    }
   ],
   "source": [
    "check_sr1"
   ]
  },
  {
   "cell_type": "code",
   "execution_count": 58,
   "id": "33b01025-6519-41d5-93e1-3209677b2336",
   "metadata": {},
   "outputs": [],
   "source": [
    "checksr2= ''.join([\"0\" for i in range(10)])"
   ]
  },
  {
   "cell_type": "code",
   "execution_count": 59,
   "id": "816c3882-a88e-495e-9acb-89e700ddae3f",
   "metadata": {},
   "outputs": [
    {
     "data": {
      "text/plain": [
       "'0000000000'"
      ]
     },
     "execution_count": 59,
     "metadata": {},
     "output_type": "execute_result"
    }
   ],
   "source": [
    "checksr2"
   ]
  },
  {
   "cell_type": "code",
   "execution_count": 63,
   "id": "8aecce6c-df92-45b2-a58b-af178829484a",
   "metadata": {},
   "outputs": [],
   "source": [
    "A = np.array([0,1,2,3,4,5,6])"
   ]
  },
  {
   "cell_type": "code",
   "execution_count": 64,
   "id": "924c3c2d-f2e8-43c3-ba60-aa57eae053e7",
   "metadata": {},
   "outputs": [
    {
     "data": {
      "text/plain": [
       "array([0, 1, 2, 3, 4, 5, 6])"
      ]
     },
     "execution_count": 64,
     "metadata": {},
     "output_type": "execute_result"
    }
   ],
   "source": [
    "A"
   ]
  },
  {
   "cell_type": "code",
   "execution_count": 66,
   "id": "de823636-ec0a-4078-b643-b34983997ccd",
   "metadata": {},
   "outputs": [
    {
     "ename": "ValueError",
     "evalue": "invalid literal for int() with base 10: 'N'",
     "output_type": "error",
     "traceback": [
      "\u001b[0;31m---------------------------------------------------------------------------\u001b[0m",
      "\u001b[0;31mValueError\u001b[0m                                Traceback (most recent call last)",
      "\u001b[0;32m/tmp/ipykernel_355239/2028919401.py\u001b[0m in \u001b[0;36m<module>\u001b[0;34m\u001b[0m\n\u001b[0;32m----> 1\u001b[0;31m \u001b[0mA\u001b[0m\u001b[0;34m[\u001b[0m\u001b[0;36m0\u001b[0m\u001b[0;34m:\u001b[0m\u001b[0;36m2\u001b[0m\u001b[0;34m]\u001b[0m \u001b[0;34m=\u001b[0m \u001b[0;34m\"N\"\u001b[0m\u001b[0;34m\u001b[0m\u001b[0;34m\u001b[0m\u001b[0m\n\u001b[0m",
      "\u001b[0;31mValueError\u001b[0m: invalid literal for int() with base 10: 'N'"
     ]
    }
   ],
   "source": [
    "A[0:2] = \"N\""
   ]
  },
  {
   "cell_type": "code",
   "execution_count": 77,
   "id": "f7f274a6-d2c9-449b-b47d-f43638f23556",
   "metadata": {},
   "outputs": [
    {
     "ename": "SyntaxError",
     "evalue": "invalid syntax (2966232614.py, line 1)",
     "output_type": "error",
     "traceback": [
      "\u001b[0;36m  File \u001b[0;32m\"/tmp/ipykernel_355239/2966232614.py\"\u001b[0;36m, line \u001b[0;32m1\u001b[0m\n\u001b[0;31m    for  i in range([10:12]):\u001b[0m\n\u001b[0m                       ^\u001b[0m\n\u001b[0;31mSyntaxError\u001b[0m\u001b[0;31m:\u001b[0m invalid syntax\n"
     ]
    }
   ],
   "source": [
    "for  i in range([10:12]):\n",
    "    print(i)"
   ]
  },
  {
   "cell_type": "code",
   "execution_count": 78,
   "id": "42b1f67b-b360-4843-8b29-3a1de7320837",
   "metadata": {},
   "outputs": [],
   "source": [
    "str1 = \"0\"*5"
   ]
  },
  {
   "cell_type": "code",
   "execution_count": 79,
   "id": "2adea436-c0cc-44af-8ccf-b31b23ee5e3b",
   "metadata": {},
   "outputs": [
    {
     "data": {
      "text/plain": [
       "'00000'"
      ]
     },
     "execution_count": 79,
     "metadata": {},
     "output_type": "execute_result"
    }
   ],
   "source": [
    "str1"
   ]
  },
  {
   "cell_type": "code",
   "execution_count": 84,
   "id": "66020428-81da-44c9-9a83-d4d928c50168",
   "metadata": {},
   "outputs": [],
   "source": [
    "p = range(1,4)"
   ]
  },
  {
   "cell_type": "code",
   "execution_count": 85,
   "id": "d5aae4aa-a22a-439c-8900-23e97b633c3c",
   "metadata": {},
   "outputs": [
    {
     "data": {
      "text/plain": [
       "range(1, 4)"
      ]
     },
     "execution_count": 85,
     "metadata": {},
     "output_type": "execute_result"
    }
   ],
   "source": [
    "p"
   ]
  },
  {
   "cell_type": "code",
   "execution_count": 86,
   "id": "ec2e5f24-dd94-4de3-aa14-4a30a32da357",
   "metadata": {},
   "outputs": [
    {
     "data": {
      "text/plain": [
       "1"
      ]
     },
     "execution_count": 86,
     "metadata": {},
     "output_type": "execute_result"
    }
   ],
   "source": [
    "p[0]"
   ]
  },
  {
   "cell_type": "code",
   "execution_count": 98,
   "id": "000f4669-b885-4407-9ea0-3693eac5defb",
   "metadata": {},
   "outputs": [
    {
     "name": "stdout",
     "output_type": "stream",
     "text": [
      "-1\n"
     ]
    }
   ],
   "source": [
    "a_string = \"Welme to Kite! CO\"\n",
    "\n",
    "index = a_string.find(\"co\")\n",
    "\n",
    "print(index)"
   ]
  },
  {
   "cell_type": "code",
   "execution_count": 100,
   "id": "6a8569ad-62c3-477e-b822-86dee6eee201",
   "metadata": {},
   "outputs": [
    {
     "name": "stdout",
     "output_type": "stream",
     "text": [
      "[8, 13, 18, 23, 55]\n"
     ]
    }
   ],
   "source": [
    "import re\n",
    "\n",
    "string = 'i think that that that that student wrote there is not that right'\n",
    "pattern = 'that'\n",
    "\n",
    "print([match.start() for match in re.finditer(pattern, string)])"
   ]
  },
  {
   "cell_type": "code",
   "execution_count": 104,
   "id": "261c6de7-4d1a-439c-b61d-4493884aaa13",
   "metadata": {},
   "outputs": [],
   "source": [
    "pattern1= 'GT'"
   ]
  },
  {
   "cell_type": "code",
   "execution_count": 106,
   "id": "33e030f8-1697-4887-867f-dea07e9daafc",
   "metadata": {},
   "outputs": [
    {
     "data": {
      "text/plain": [
       "5479664"
      ]
     },
     "execution_count": 106,
     "metadata": {},
     "output_type": "execute_result"
    }
   ],
   "source": [
    "Non_GT_donor = [match.start() for match in re.finditer(pattern1, temp_seq)]\n",
    "len(Non_GT_donor)"
   ]
  },
  {
   "cell_type": "code",
   "execution_count": 112,
   "id": "6f10325a-0f7c-46f0-9d95-9d6126aefbea",
   "metadata": {},
   "outputs": [
    {
     "data": {
      "text/plain": [
       "[11453, 11492, 11497, 11806, 11816, 11819, 11844, 11868, 11879, 11908]"
      ]
     },
     "execution_count": 112,
     "metadata": {},
     "output_type": "execute_result"
    }
   ],
   "source": [
    "Non_GT_donor[0:10]"
   ]
  },
  {
   "cell_type": "code",
   "execution_count": 8,
   "id": "664c470b-f818-4716-80f4-8aa1eae5b3a2",
   "metadata": {},
   "outputs": [],
   "source": [
    "list1= [10472, 10499, 10518, 10534, 10549, 10580, 10591, 10595, 10620, 10813, 10819, 10827, 10887, 10895, 10903]"
   ]
  },
  {
   "cell_type": "code",
   "execution_count": 51,
   "id": "d3385de7-1d46-466f-a226-0575d87d9001",
   "metadata": {},
   "outputs": [
    {
     "name": "stdout",
     "output_type": "stream",
     "text": [
      "[10472, 10499, 10518, 10534, 10549, 10580, 10591, 10595, 10620, 10813, 10819, 10827, 10887, 10895, 10903]\n"
     ]
    }
   ],
   "source": [
    "list1.sort()\n",
    "print(list1)"
   ]
  },
  {
   "cell_type": "code",
   "execution_count": 48,
   "id": "a0b6d2e5-94b9-473d-a496-35927c413180",
   "metadata": {},
   "outputs": [
    {
     "name": "stdout",
     "output_type": "stream",
     "text": [
      "comparing 10472 with 10499 nums list [10472, 10499, 10518, 10534, 10549, 10580, 10591, 10595, 10620, 10813, 10819, 10827, 10887, 10895, 10903]\n",
      "comparing 10472 with 10518 nums list [10472, 10518, 10534, 10549, 10580, 10591, 10595, 10620, 10813, 10819, 10827, 10887, 10895, 10903]\n",
      "comparing 10472 with 10534 nums list [10472, 10534, 10549, 10580, 10591, 10595, 10620, 10813, 10819, 10827, 10887, 10895, 10903]\n",
      "comparing 10472 with 10549 nums list [10472, 10549, 10580, 10591, 10595, 10620, 10813, 10819, 10827, 10887, 10895, 10903]\n",
      "comparing 10549 with 10580 nums list [10472, 10549, 10580, 10591, 10595, 10620, 10813, 10819, 10827, 10887, 10895, 10903]\n",
      "comparing 10549 with 10591 nums list [10472, 10549, 10591, 10595, 10620, 10813, 10819, 10827, 10887, 10895, 10903]\n",
      "comparing 10549 with 10595 nums list [10472, 10549, 10595, 10620, 10813, 10819, 10827, 10887, 10895, 10903]\n",
      "comparing 10549 with 10620 nums list [10472, 10549, 10620, 10813, 10819, 10827, 10887, 10895, 10903]\n",
      "comparing 10620 with 10813 nums list [10472, 10549, 10620, 10813, 10819, 10827, 10887, 10895, 10903]\n",
      "comparing 10813 with 10819 nums list [10472, 10549, 10620, 10813, 10819, 10827, 10887, 10895, 10903]\n",
      "comparing 10813 with 10827 nums list [10472, 10549, 10620, 10813, 10827, 10887, 10895, 10903]\n",
      "comparing 10813 with 10887 nums list [10472, 10549, 10620, 10813, 10887, 10895, 10903]\n",
      "comparing 10887 with 10895 nums list [10472, 10549, 10620, 10813, 10887, 10895, 10903]\n",
      "comparing 10887 with 10903 nums list [10472, 10549, 10620, 10813, 10887, 10903]\n",
      "[10472, 10549, 10620, 10813, 10887]\n"
     ]
    }
   ],
   "source": [
    "index = 1\n",
    "while index < len(list1):\n",
    "    print(f\"comparing {list1[index-1]} with {list1[index]} nums list {list1}\")\n",
    "    if list1[index] - list1[index - 1] < 70:\n",
    "        del list1[index]\n",
    "    else:\n",
    "        index += 1\n",
    "\n",
    "print(list1)"
   ]
  },
  {
   "cell_type": "code",
   "execution_count": 49,
   "id": "88d76a25-c136-49da-af41-8dbc0ff5ebce",
   "metadata": {},
   "outputs": [],
   "source": [
    "def remove_data(sorted_list, span):\n",
    "    index = 1\n",
    "    while index < len(sorted_list):\n",
    "        #print(f\"comparing {sorted_list[index-1]} with {sorted_list[index]} nums list {sorted_list}\")\n",
    "        if sorted_list[index] - sorted_list[index - 1] < span:\n",
    "            del list1[index]\n",
    "        else:\n",
    "            index += 1\n",
    "    \n",
    "    print(list1)"
   ]
  },
  {
   "cell_type": "code",
   "execution_count": 9,
   "id": "8fe68a98-884e-49e8-9fb9-4bc8371ebba0",
   "metadata": {},
   "outputs": [
    {
     "name": "stdout",
     "output_type": "stream",
     "text": [
      "1\n",
      "comparing 10472 with 10499 nums list [10472, 10499, 10518, 10534, 10549, 10580, 10591, 10595, 10620, 10813, 10819, 10827, 10887, 10895, 10903]\n",
      "1\n",
      "comparing 10472 with 10518 nums list [10472, 10518, 10534, 10549, 10580, 10591, 10595, 10620, 10813, 10819, 10827, 10887, 10895, 10903]\n",
      "1\n",
      "comparing 10472 with 10534 nums list [10472, 10534, 10549, 10580, 10591, 10595, 10620, 10813, 10819, 10827, 10887, 10895, 10903]\n",
      "1\n",
      "comparing 10472 with 10549 nums list [10472, 10549, 10580, 10591, 10595, 10620, 10813, 10819, 10827, 10887, 10895, 10903]\n",
      "2\n",
      "comparing 10549 with 10580 nums list [10472, 10549, 10580, 10591, 10595, 10620, 10813, 10819, 10827, 10887, 10895, 10903]\n",
      "2\n",
      "comparing 10549 with 10591 nums list [10472, 10549, 10591, 10595, 10620, 10813, 10819, 10827, 10887, 10895, 10903]\n",
      "2\n",
      "comparing 10549 with 10595 nums list [10472, 10549, 10595, 10620, 10813, 10819, 10827, 10887, 10895, 10903]\n",
      "2\n",
      "comparing 10549 with 10620 nums list [10472, 10549, 10620, 10813, 10819, 10827, 10887, 10895, 10903]\n",
      "3\n",
      "comparing 10620 with 10813 nums list [10472, 10549, 10620, 10813, 10819, 10827, 10887, 10895, 10903]\n",
      "4\n",
      "comparing 10813 with 10819 nums list [10472, 10549, 10620, 10813, 10819, 10827, 10887, 10895, 10903]\n",
      "4\n",
      "comparing 10813 with 10827 nums list [10472, 10549, 10620, 10813, 10827, 10887, 10895, 10903]\n",
      "4\n",
      "comparing 10813 with 10887 nums list [10472, 10549, 10620, 10813, 10887, 10895, 10903]\n",
      "5\n",
      "comparing 10887 with 10895 nums list [10472, 10549, 10620, 10813, 10887, 10895, 10903]\n",
      "5\n",
      "comparing 10887 with 10903 nums list [10472, 10549, 10620, 10813, 10887, 10903]\n"
     ]
    },
    {
     "data": {
      "text/plain": [
       "[10472, 10549, 10620, 10813, 10887]"
      ]
     },
     "execution_count": 9,
     "metadata": {},
     "output_type": "execute_result"
    }
   ],
   "source": [
    "remove_data(list1, 70)"
   ]
  },
  {
   "cell_type": "code",
   "execution_count": 10,
   "id": "ee0a4619-01f5-413f-90eb-e92520f1cda3",
   "metadata": {},
   "outputs": [],
   "source": [
    "def foo(elements, distance):\n",
    "    #elements = sorted(elements) # sorting the user input\n",
    "    new_elements = [elements[0]] # make a new list for output\n",
    "    for element in elements[1:]: # Iterate over the remaining elements...\n",
    "        if element - new_elements[-1] >= distance: \n",
    "            # this is the condition you described above\n",
    "            new_elements.append(element)\n",
    "            \n",
    "    return new_elements"
   ]
  },
  {
   "cell_type": "code",
   "execution_count": 11,
   "id": "26e93e23-560e-458d-800b-163bead68be1",
   "metadata": {},
   "outputs": [],
   "source": [
    "chek_list = foo(list1, 70)"
   ]
  },
  {
   "cell_type": "code",
   "execution_count": 12,
   "id": "5928a760-0551-4172-ba64-c2e626428bde",
   "metadata": {},
   "outputs": [
    {
     "data": {
      "text/plain": [
       "[10472, 10549, 10620, 10813, 10887]"
      ]
     },
     "execution_count": 12,
     "metadata": {},
     "output_type": "execute_result"
    }
   ],
   "source": [
    "chek_list"
   ]
  },
  {
   "cell_type": "code",
   "execution_count": null,
   "id": "6d696bad-c53b-45cc-b41b-50912d748b87",
   "metadata": {},
   "outputs": [],
   "source": []
  }
 ],
 "metadata": {
  "kernelspec": {
   "display_name": "Python 3 (ipykernel)",
   "language": "python",
   "name": "python3"
  },
  "language_info": {
   "codemirror_mode": {
    "name": "ipython",
    "version": 3
   },
   "file_extension": ".py",
   "mimetype": "text/x-python",
   "name": "python",
   "nbconvert_exporter": "python",
   "pygments_lexer": "ipython3",
   "version": "3.7.11"
  }
 },
 "nbformat": 4,
 "nbformat_minor": 5
}
