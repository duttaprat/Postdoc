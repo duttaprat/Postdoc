{
 "cells": [
  {
   "cell_type": "code",
   "execution_count": 1,
   "id": "48bb6eb5-6de0-4d27-848d-5c2e2eb29faf",
   "metadata": {},
   "outputs": [],
   "source": [
    "import os, tarfile\n",
    "import re\n",
    "import multiprocessing\n",
    "import pandas as pd\n",
    "import pyBigWig\n",
    "import pybedtools\n",
    "import zipfile, gzip\n",
    "from gtfparse import read_gtf\n",
    "import pandas as pd\n",
    "pd.set_option('display.max_columns', None)\n",
    "from Bio.Seq import Seq"
   ]
  },
  {
   "cell_type": "code",
   "execution_count": 2,
   "id": "f4f24891-9cb6-4b3d-b75a-13c312c4bcf2",
   "metadata": {},
   "outputs": [],
   "source": [
    "reference_genome_path = \"/mnt/data05/shared/pdutta_data/Human_Genome_Data/UCSC/genome_by_sequence/\"\n",
    "data_path= \"/mnt/data05/shared/pdutta_data/Human_Genome_Data/UCSC/gencode_annotation/\"\n",
    "promoter_path = \"/mnt/data05/shared/pdutta_data/Human_Genome_Data/Promoter_regions/\"\n",
    "non_promoter_path = \"/mnt/data05/shared/pdutta_data/Human_Genome_Data/Non_promoter_regions/\"\n",
    "file_name=\"gencodeV38.bb\"\n",
    "gencode_path= \"/mnt/data05/shared/pdutta_data/Human_Genome_Data/gencode_annotation/\"\n",
    "gtf_annotation_filename= \"gencode.v38.annotation.gtf\"\n",
    "gff_annotation_filename= \"gencode.v38.annotation.gff3\"\n",
    "file_path= data_path+file_name\n",
    "gencode_gtf_file_path= gencode_path + gtf_annotation_filename\n",
    "gencode_gff_file_path= gencode_path + gff_annotation_filename\n",
    "#reference_genome_file_path = reference_genome_path + reference_genome_name\n",
    "data_save_path= \"/mnt/data05/shared/pdutta_data/Human_Genome_Data/region_wise_sequence/\""
   ]
  },
  {
   "cell_type": "code",
   "execution_count": 3,
   "id": "71349309-5c66-42b7-94e1-7846185b70c6",
   "metadata": {},
   "outputs": [],
   "source": [
    "bb= pyBigWig.open(file_path)"
   ]
  },
  {
   "cell_type": "code",
   "execution_count": null,
   "id": "8e286976-54a1-4993-99d4-30f7b4c4880e",
   "metadata": {},
   "outputs": [],
   "source": []
  },
  {
   "cell_type": "code",
   "execution_count": null,
   "id": "bf9498db-5711-4b53-99c0-d8b8de788bcd",
   "metadata": {},
   "outputs": [],
   "source": []
  },
  {
   "cell_type": "code",
   "execution_count": null,
   "id": "f3c7bf4f-d8cc-475d-84fa-77ca8da25178",
   "metadata": {},
   "outputs": [],
   "source": []
  },
  {
   "cell_type": "code",
   "execution_count": 4,
   "id": "d082499d-929b-4dfd-b132-2e8b2ddc5cf6",
   "metadata": {},
   "outputs": [],
   "source": [
    "promoter_coordinates = [-249, 50]\n",
    "core_promoter_coordinates= [-34, 35]\n",
    "donor_coordinates= [-199, 200]\n",
    "acceptor_coordinates= [-199, 200]"
   ]
  },
  {
   "cell_type": "code",
   "execution_count": 5,
   "id": "58399999-d0ae-4742-929d-9d8e6ca49c7c",
   "metadata": {},
   "outputs": [],
   "source": [
    "def remove_data(elements, distance):\n",
    "    #elements = sorted(elements) # sorting the user input\n",
    "    new_elements = [elements[0]] # make a new list for output\n",
    "    for element in elements[1:]: # Iterate over the remaining elements...\n",
    "        if element - new_elements[-1] >= distance: \n",
    "            # this is the condition you described above\n",
    "            new_elements.append(element)\n",
    "    return new_elements"
   ]
  },
  {
   "cell_type": "code",
   "execution_count": null,
   "id": "a3fbfc78-90c8-4931-8393-4a248c461354",
   "metadata": {},
   "outputs": [],
   "source": []
  },
  {
   "cell_type": "code",
   "execution_count": null,
   "id": "1b6be116-480b-412b-af09-991983f72b4f",
   "metadata": {},
   "outputs": [],
   "source": []
  },
  {
   "cell_type": "code",
   "execution_count": 26,
   "id": "1cd5bea5-1a81-4f50-925e-48deae690c73",
   "metadata": {},
   "outputs": [
    {
     "name": "stdout",
     "output_type": "stream",
     "text": [
      "chr1\n",
      "248956422\n",
      "length: 248956422\n",
      "              gene_id       transcript_id strand            exon_id  \\\n",
      "0  ENSG00000001460.18  ENST00000003583.12      -  ENSE00001879255.1   \n",
      "1  ENSG00000001461.17   ENST00000003912.7      +  ENSE00001463427.1   \n",
      "2  ENSG00000010072.16   ENST00000008440.9      +  ENSE00001917770.1   \n",
      "3  ENSG00000008118.10   ENST00000009105.5      +  ENSE00001259594.1   \n",
      "4  ENSG00000009780.16  ENST00000010299.10      +  ENSE00001909353.1   \n",
      "\n",
      "  transcript_type        TSS  \\\n",
      "0  protein_coding   24413725   \n",
      "1  protein_coding   24415803   \n",
      "2  protein_coding  231338256   \n",
      "3  protein_coding  209583717   \n",
      "4  protein_coding   27726057   \n",
      "\n",
      "                                            sequence  \n",
      "0  GGCTTTTGGTTTATCACAAGATTTTTGAAGCATGGCCTAGATAAAC...  \n",
      "1  CACCATTCTTCCTGTGGCCGCTAGGGGGTCCCCGCTCCAGGTGAGC...  \n",
      "2  CGAGAGAAATTTCGGTACTGCGCATGAACCGAGCGTGACGTTGAGG...  \n",
      "3  acacatgcacacagactcacacacacacacacCAGGCAAAAATGCA...  \n",
      "4  CGTCACAGTGGCGTACTCCAGGCCAGACCGAATCAGAGTGGGCGAA...  \n",
      "(20716, 7)\n",
      "0\n",
      "5\n",
      "10\n",
      "@@##$$ 248953133\n",
      "                                                        0\n",
      "0       NNNNNNNNNNNNNNNNNNNNNNNNNNNNNNNNNNNNNNNNNNNNNN...\n",
      "1       NNNNNNNNNNNNNNNNNNNNNNNNNNNNNNNNNNNNNNNNNNNNNN...\n",
      "2       NNNNNNNNNNNNNNNNNNNNNNNNNNNNNNNNNNNNNNNNNNNNNN...\n",
      "3       NNNNNNNNNNNNNNNNNNNNNNNNNNNNNNNNNNNNNNNNNNNNNN...\n",
      "4       NNNNNNNNNNNNNNNNNNNNNNNNNNNNNNNNNNNNNNNNNNNNNN...\n",
      "...                                                   ...\n",
      "829839  NNNNNNNNNNNNNNNNNNNNNNNNNNNNNNNNNNNNNNNNNNNNNN...\n",
      "829840  NNNNNNNNNNNNNNNNNNNNNNNNNNNNNNNNNNNNNNNNNNNNNN...\n",
      "829841  NNNNNNNNNNNNNNNNNNNNNNNNNNNNNNNNNNNNNNNNNNNNNN...\n",
      "829842  NNNNNNNNNNNNNNNNNNNNNNNNNNNNNNNNNNNNNNNNNNNNNN...\n",
      "829843  NNNNNNNNNNNNNNNNNNNNNNNNNNNNNNNNNNNNNNNNNNNNNN...\n",
      "\n",
      "[829844 rows x 1 columns]\n",
      "(829844, 1)\n"
     ]
    }
   ],
   "source": [
    "chr_file= \"chr1.fa\"\n",
    "reference_genome_file_path = reference_genome_path + chr_file\n",
    "chr_name = chr_file.split('.')[0]\n",
    "print (chr_name)\n",
    "# df_chr= df[df['seqname']==chr_name]\n",
    "# df_new = df_chr[df_chr['feature']=='exon'].reset_index(drop=True)\n",
    "# print (df_new.shape)\n",
    "# #print (reference_genome_file_path)\n",
    "length= bb.chroms(chr_name)\n",
    "print (length)\n",
    "fasta = pybedtools.example_filename(reference_genome_file_path)\n",
    "temp_seq= pybedtools.BedTool.seq(chr_name+':1-'+str(length), fasta)\n",
    "print (\"length:\", len(temp_seq))\n",
    "\n",
    "\n",
    "\n",
    "df_promoter = pd.read_csv(promoter_path+chr_name+\"_promoter.csv\")\n",
    "\n",
    "print (df_promoter.head())\n",
    "\n",
    "print(df_promoter.shape)\n",
    "\n",
    "\n",
    "\n",
    "for index, row in df_promoter.loc[0:10].iterrows():\n",
    "    if (index%5==0):\n",
    "        print (index)\n",
    "    if(row['strand']=='+'):\n",
    "        start = row['TSS'] -249\n",
    "        end = row['TSS'] + 50\n",
    "    else:\n",
    "        start = row['TSS'] -50\n",
    "        end = row['TSS'] + 249\n",
    "    \n",
    "    #print (start, end)\n",
    "    sub_string = temp_seq[start:end]\n",
    "    temp_seq = temp_seq.replace(sub_string, 300*'$')\n",
    "\n",
    "\n",
    "Non_promoter_sequence = re.sub('[$]', '', temp_seq)\n",
    "print (\"@@##$$\", len(Non_promoter_sequence))\n",
    "\n",
    "    \n",
    "list_non_promoter = [Non_promoter_sequence[i:i+300] for i in range(0, len(Non_promoter_sequence), 300)]\n",
    "pd_df = pd.DataFrame(list_non_promoter)\n",
    "\n",
    "\n",
    "\n",
    "print (pd_df)\n",
    "\n",
    "\n",
    "print(pd_df.shape)\n",
    "#pd_df.to_csv(non_acceptor_path+\"/\"+chr_name+\"_non_acceptor.csv\")\n"
   ]
  },
  {
   "cell_type": "code",
   "execution_count": 30,
   "id": "979f627b-25f7-435a-acc1-eceb20f18d6e",
   "metadata": {},
   "outputs": [
    {
     "data": {
      "text/html": [
       "<div>\n",
       "<style scoped>\n",
       "    .dataframe tbody tr th:only-of-type {\n",
       "        vertical-align: middle;\n",
       "    }\n",
       "\n",
       "    .dataframe tbody tr th {\n",
       "        vertical-align: top;\n",
       "    }\n",
       "\n",
       "    .dataframe thead th {\n",
       "        text-align: right;\n",
       "    }\n",
       "</style>\n",
       "<table border=\"1\" class=\"dataframe\">\n",
       "  <thead>\n",
       "    <tr style=\"text-align: right;\">\n",
       "      <th></th>\n",
       "      <th>0</th>\n",
       "    </tr>\n",
       "  </thead>\n",
       "  <tbody>\n",
       "    <tr>\n",
       "      <th>0</th>\n",
       "      <td>NNNNNNNNNNNNNNNNNNNNNNNNNNNNNNNNNNNNNNNNNNNNNN...</td>\n",
       "    </tr>\n",
       "    <tr>\n",
       "      <th>1</th>\n",
       "      <td>NNNNNNNNNNNNNNNNNNNNNNNNNNNNNNNNNNNNNNNNNNNNNN...</td>\n",
       "    </tr>\n",
       "    <tr>\n",
       "      <th>2</th>\n",
       "      <td>ccctaaccctaaccctaaccctaaccctaacccctaaccctaaccc...</td>\n",
       "    </tr>\n",
       "    <tr>\n",
       "      <th>3</th>\n",
       "      <td>tctgacctgaggagaactgtgctccgccttcagagtaccaccgaaa...</td>\n",
       "    </tr>\n",
       "    <tr>\n",
       "      <th>4</th>\n",
       "      <td>cacatgctagcgcgtcggggtggaggcgtggcgcaggcgcagagag...</td>\n",
       "    </tr>\n",
       "    <tr>\n",
       "      <th>...</th>\n",
       "      <td>...</td>\n",
       "    </tr>\n",
       "    <tr>\n",
       "      <th>768273</th>\n",
       "      <td>agcgggaaacgaaaagcctctctgaatcctgcgcaccgagattctc...</td>\n",
       "    </tr>\n",
       "    <tr>\n",
       "      <th>768274</th>\n",
       "      <td>gttaggggtaggggtagggttagggttagggttagggttagggtta...</td>\n",
       "    </tr>\n",
       "    <tr>\n",
       "      <th>768275</th>\n",
       "      <td>tagggttagggttagggttagggttagggtagggttagggttaggg...</td>\n",
       "    </tr>\n",
       "    <tr>\n",
       "      <th>768276</th>\n",
       "      <td>ggttagggttagggttagggttagggttagggttagggttagggtt...</td>\n",
       "    </tr>\n",
       "    <tr>\n",
       "      <th>768277</th>\n",
       "      <td>NNNNNNNNNNNNNNNNNNNNNNNNNNNNNNNNNNNNNNNNNNNNNN...</td>\n",
       "    </tr>\n",
       "  </tbody>\n",
       "</table>\n",
       "<p>768278 rows × 1 columns</p>\n",
       "</div>"
      ],
      "text/plain": [
       "                                                        0\n",
       "0       NNNNNNNNNNNNNNNNNNNNNNNNNNNNNNNNNNNNNNNNNNNNNN...\n",
       "1       NNNNNNNNNNNNNNNNNNNNNNNNNNNNNNNNNNNNNNNNNNNNNN...\n",
       "2       ccctaaccctaaccctaaccctaaccctaacccctaaccctaaccc...\n",
       "3       tctgacctgaggagaactgtgctccgccttcagagtaccaccgaaa...\n",
       "4       cacatgctagcgcgtcggggtggaggcgtggcgcaggcgcagagag...\n",
       "...                                                   ...\n",
       "768273  agcgggaaacgaaaagcctctctgaatcctgcgcaccgagattctc...\n",
       "768274  gttaggggtaggggtagggttagggttagggttagggttagggtta...\n",
       "768275  tagggttagggttagggttagggttagggtagggttagggttaggg...\n",
       "768276  ggttagggttagggttagggttagggttagggttagggttagggtt...\n",
       "768277  NNNNNNNNNNNNNNNNNNNNNNNNNNNNNNNNNNNNNNNNNNNNNN...\n",
       "\n",
       "[768278 rows x 1 columns]"
      ]
     },
     "execution_count": 30,
     "metadata": {},
     "output_type": "execute_result"
    }
   ],
   "source": [
    "pd_promoter = pd_df.drop_duplicates().reset_index(drop=True)\n",
    "pd_promoter"
   ]
  },
  {
   "cell_type": "code",
   "execution_count": 17,
   "id": "7d021926-57a5-42b4-98bf-759df94575d2",
   "metadata": {},
   "outputs": [],
   "source": [
    "fasta=\"DVNLDKNBBSDLVJB\"\n",
    "chunk_size= 3"
   ]
  },
  {
   "cell_type": "code",
   "execution_count": 18,
   "id": "cd84f7f0-971e-4d2a-a702-7232aa84b52e",
   "metadata": {},
   "outputs": [
    {
     "data": {
      "text/plain": [
       "['DVN', 'LDK', 'NBB', 'SDL', 'VJB']"
      ]
     },
     "execution_count": 18,
     "metadata": {},
     "output_type": "execute_result"
    }
   ],
   "source": [
    " c"
   ]
  },
  {
   "cell_type": "code",
   "execution_count": null,
   "id": "03444d47-695b-45ce-a6c7-a7f78b5b783d",
   "metadata": {},
   "outputs": [],
   "source": []
  }
 ],
 "metadata": {
  "kernelspec": {
   "display_name": "Python 3",
   "language": "python",
   "name": "python3"
  },
  "language_info": {
   "codemirror_mode": {
    "name": "ipython",
    "version": 3
   },
   "file_extension": ".py",
   "mimetype": "text/x-python",
   "name": "python",
   "nbconvert_exporter": "python",
   "pygments_lexer": "ipython3",
   "version": "3.6.13"
  }
 },
 "nbformat": 4,
 "nbformat_minor": 5
}
