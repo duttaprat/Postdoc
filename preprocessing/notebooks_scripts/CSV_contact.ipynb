{
 "cells": [
  {
   "cell_type": "code",
   "execution_count": 9,
   "id": "448baa3a",
   "metadata": {},
   "outputs": [],
   "source": [
    "import os\n",
    "import glob\n",
    "import pandas as pd\n",
    "# os.chdir(\"/directory\")"
   ]
  },
  {
   "cell_type": "code",
   "execution_count": 10,
   "id": "be8c2a38",
   "metadata": {},
   "outputs": [],
   "source": [
    "os.chdir(\"/Users/pratik/Box/Datasets/3000_chunk_size\")"
   ]
  },
  {
   "cell_type": "code",
   "execution_count": 11,
   "id": "b09ce719",
   "metadata": {},
   "outputs": [],
   "source": [
    "file_extension = '.csv'\n",
    "all_filenames = [i for i in glob.glob(f\"*{file_extension}\")]"
   ]
  },
  {
   "cell_type": "code",
   "execution_count": 12,
   "id": "007fd224",
   "metadata": {},
   "outputs": [
    {
     "data": {
      "text/plain": [
       "['Finetuned_SARS_Africa.csv',\n",
       " 'Finetuned_SARS_Asia.csv',\n",
       " 'Finetuned_SARS_Europe.csv',\n",
       " 'Finetuned_SARS_North America.csv',\n",
       " 'Finetuned_SARS_Oceania.csv',\n",
       " 'Finetuned_SARS_South America.csv']"
      ]
     },
     "execution_count": 12,
     "metadata": {},
     "output_type": "execute_result"
    }
   ],
   "source": [
    "all_filenames"
   ]
  },
  {
   "cell_type": "code",
   "execution_count": 13,
   "id": "9a95bad3",
   "metadata": {},
   "outputs": [
    {
     "data": {
      "text/plain": [
       "['Finetuned_SARS_Africa.csv',\n",
       " 'Finetuned_SARS_Asia.csv',\n",
       " 'Finetuned_SARS_Europe.csv',\n",
       " 'Finetuned_SARS_North America.csv',\n",
       " 'Finetuned_SARS_Oceania.csv',\n",
       " 'Finetuned_SARS_South America.csv']"
      ]
     },
     "execution_count": 13,
     "metadata": {},
     "output_type": "execute_result"
    }
   ],
   "source": [
    "all_filenames.sort()\n",
    "all_filenames"
   ]
  },
  {
   "cell_type": "code",
   "execution_count": 14,
   "id": "928f4582",
   "metadata": {},
   "outputs": [
    {
     "data": {
      "text/html": [
       "<div>\n",
       "<style scoped>\n",
       "    .dataframe tbody tr th:only-of-type {\n",
       "        vertical-align: middle;\n",
       "    }\n",
       "\n",
       "    .dataframe tbody tr th {\n",
       "        vertical-align: top;\n",
       "    }\n",
       "\n",
       "    .dataframe thead th {\n",
       "        text-align: right;\n",
       "    }\n",
       "</style>\n",
       "<table border=\"1\" class=\"dataframe\">\n",
       "  <thead>\n",
       "    <tr style=\"text-align: right;\">\n",
       "      <th></th>\n",
       "      <th>Index</th>\n",
       "      <th>Sequence</th>\n",
       "      <th>Label</th>\n",
       "    </tr>\n",
       "  </thead>\n",
       "  <tbody>\n",
       "    <tr>\n",
       "      <th>0</th>\n",
       "      <td>AF_1629314973953_0_0</td>\n",
       "      <td>AGATCTGTTCTCTAAACGAACTTTAAAATCTGTGTGGCTGTCACTC...</td>\n",
       "      <td>0</td>\n",
       "    </tr>\n",
       "    <tr>\n",
       "      <th>1</th>\n",
       "      <td>AF_1629314973953_0_3000</td>\n",
       "      <td>TGAAGAAGAAGGTGATTGTGAAGAAGAAGAGTTTGAGCCATCAACT...</td>\n",
       "      <td>0</td>\n",
       "    </tr>\n",
       "    <tr>\n",
       "      <th>2</th>\n",
       "      <td>AF_1629314973953_0_6000</td>\n",
       "      <td>TGTATGTGATAATATCAAATTTGCTGATGATTTAAACCAGTTAACT...</td>\n",
       "      <td>0</td>\n",
       "    </tr>\n",
       "    <tr>\n",
       "      <th>3</th>\n",
       "      <td>AF_1629314973953_0_9000</td>\n",
       "      <td>ACCATATTGTTATGATACCAATGTACTAGAAGGTTCTGTTGCTTAT...</td>\n",
       "      <td>0</td>\n",
       "    </tr>\n",
       "    <tr>\n",
       "      <th>4</th>\n",
       "      <td>AF_1629314973953_0_15000</td>\n",
       "      <td>ATGAATCTTAAGTATGCCATTAGTGCAAAGAACAGAGCTCGCACCG...</td>\n",
       "      <td>0</td>\n",
       "    </tr>\n",
       "    <tr>\n",
       "      <th>...</th>\n",
       "      <td>...</td>\n",
       "      <td>...</td>\n",
       "      <td>...</td>\n",
       "    </tr>\n",
       "    <tr>\n",
       "      <th>294901</th>\n",
       "      <td>SA_1629389399049_2476_3000</td>\n",
       "      <td>GAGTTTAAATTGGCTTCACATATGTATTGTTCTTTTTACCCTCCAG...</td>\n",
       "      <td>8</td>\n",
       "    </tr>\n",
       "    <tr>\n",
       "      <th>294902</th>\n",
       "      <td>SA_1629389399049_2476_12000</td>\n",
       "      <td>TCACTACTTTCTGTTTTGCTTTCCATGCAGGGTGCTGTAGACATAA...</td>\n",
       "      <td>8</td>\n",
       "    </tr>\n",
       "    <tr>\n",
       "      <th>294903</th>\n",
       "      <td>SA_1629389399049_2476_1000</td>\n",
       "      <td>AAAAGAGCTATGAATTGCAGACACCTTTTGAAATTAAATTGGCAAA...</td>\n",
       "      <td>8</td>\n",
       "    </tr>\n",
       "    <tr>\n",
       "      <th>294904</th>\n",
       "      <td>SA_1629389399049_2476_4000</td>\n",
       "      <td>CTAAGTTCCTCACAGAAAACTTGTTACTTTATATTGACATTAATGG...</td>\n",
       "      <td>8</td>\n",
       "    </tr>\n",
       "    <tr>\n",
       "      <th>294905</th>\n",
       "      <td>SA_1629389399049_2476_5000</td>\n",
       "      <td>CCACACGCAAGTTGTGGACATGTCAATGACATATGGACAACAGTTT...</td>\n",
       "      <td>8</td>\n",
       "    </tr>\n",
       "  </tbody>\n",
       "</table>\n",
       "<p>294906 rows × 3 columns</p>\n",
       "</div>"
      ],
      "text/plain": [
       "                              Index  \\\n",
       "0              AF_1629314973953_0_0   \n",
       "1           AF_1629314973953_0_3000   \n",
       "2           AF_1629314973953_0_6000   \n",
       "3           AF_1629314973953_0_9000   \n",
       "4          AF_1629314973953_0_15000   \n",
       "...                             ...   \n",
       "294901   SA_1629389399049_2476_3000   \n",
       "294902  SA_1629389399049_2476_12000   \n",
       "294903   SA_1629389399049_2476_1000   \n",
       "294904   SA_1629389399049_2476_4000   \n",
       "294905   SA_1629389399049_2476_5000   \n",
       "\n",
       "                                                 Sequence  Label  \n",
       "0       AGATCTGTTCTCTAAACGAACTTTAAAATCTGTGTGGCTGTCACTC...      0  \n",
       "1       TGAAGAAGAAGGTGATTGTGAAGAAGAAGAGTTTGAGCCATCAACT...      0  \n",
       "2       TGTATGTGATAATATCAAATTTGCTGATGATTTAAACCAGTTAACT...      0  \n",
       "3       ACCATATTGTTATGATACCAATGTACTAGAAGGTTCTGTTGCTTAT...      0  \n",
       "4       ATGAATCTTAAGTATGCCATTAGTGCAAAGAACAGAGCTCGCACCG...      0  \n",
       "...                                                   ...    ...  \n",
       "294901  GAGTTTAAATTGGCTTCACATATGTATTGTTCTTTTTACCCTCCAG...      8  \n",
       "294902  TCACTACTTTCTGTTTTGCTTTCCATGCAGGGTGCTGTAGACATAA...      8  \n",
       "294903  AAAAGAGCTATGAATTGCAGACACCTTTTGAAATTAAATTGGCAAA...      8  \n",
       "294904  CTAAGTTCCTCACAGAAAACTTGTTACTTTATATTGACATTAATGG...      8  \n",
       "294905  CCACACGCAAGTTGTGGACATGTCAATGACATATGGACAACAGTTT...      8  \n",
       "\n",
       "[294906 rows x 3 columns]"
      ]
     },
     "execution_count": 14,
     "metadata": {},
     "output_type": "execute_result"
    }
   ],
   "source": [
    "combined_csv_data = pd.concat([pd.read_csv(f) for f in all_filenames])\n",
    "combined_csv_data.drop_duplicates().reset_index(drop=True)"
   ]
  },
  {
   "cell_type": "code",
   "execution_count": 15,
   "id": "51ff0df6-7242-4d36-bd3e-0c46a5b92b82",
   "metadata": {},
   "outputs": [
    {
     "name": "stdout",
     "output_type": "stream",
     "text": [
      "       Index  Sequence\n",
      "Label                 \n",
      "0      45278     45278\n",
      "1      78631     78631\n",
      "2      19219     19219\n",
      "3      29590     29590\n",
      "4      12991     12991\n",
      "5       5589      5589\n",
      "6      40838     40838\n",
      "7       6116      6116\n",
      "8      56654     56654\n"
     ]
    }
   ],
   "source": [
    "print (combined_csv_data.groupby('Label').count())"
   ]
  },
  {
   "cell_type": "code",
   "execution_count": 16,
   "id": "e7fc4b13",
   "metadata": {},
   "outputs": [],
   "source": [
    "combined_csv_data.to_csv(\"../SARS_variant_classification_finetune_data_3000.csv\", index= False)"
   ]
  },
  {
   "cell_type": "code",
   "execution_count": null,
   "id": "e9bbcb03",
   "metadata": {},
   "outputs": [],
   "source": []
  }
 ],
 "metadata": {
  "kernelspec": {
   "display_name": "Python 3",
   "language": "python",
   "name": "python3"
  },
  "language_info": {
   "codemirror_mode": {
    "name": "ipython",
    "version": 3
   },
   "file_extension": ".py",
   "mimetype": "text/x-python",
   "name": "python",
   "nbconvert_exporter": "python",
   "pygments_lexer": "ipython3",
   "version": "3.6.13"
  }
 },
 "nbformat": 4,
 "nbformat_minor": 5
}
