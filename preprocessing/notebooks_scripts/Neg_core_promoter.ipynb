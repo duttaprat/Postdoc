{
 "cells": [
  {
   "cell_type": "code",
   "execution_count": 1,
   "id": "48bb6eb5-6de0-4d27-848d-5c2e2eb29faf",
   "metadata": {},
   "outputs": [],
   "source": [
    "import os, tarfile\n",
    "import re\n",
    "import multiprocessing\n",
    "import pandas as pd\n",
    "import pyBigWig\n",
    "import pybedtools\n",
    "import zipfile, gzip\n",
    "from gtfparse import read_gtf\n",
    "import pandas as pd\n",
    "pd.set_option('display.max_columns', None)\n",
    "from Bio.Seq import Seq"
   ]
  },
  {
   "cell_type": "code",
   "execution_count": 4,
   "id": "f4f24891-9cb6-4b3d-b75a-13c312c4bcf2",
   "metadata": {},
   "outputs": [],
   "source": [
    "reference_genome_path = \"/mnt/data05/shared/pdutta_data/Human_Genome_Data/UCSC/genome_by_sequence/\"\n",
    "data_path= \"/mnt/data05/shared/pdutta_data/Human_Genome_Data/UCSC/gencode_annotation/\"\n",
    "core_promoter_path = \"/mnt/data05/shared/pdutta_data/Human_Genome_Data/Core_promoter_regions/\"\n",
    "non_core_promoter_path = \"/mnt/data05/shared/pdutta_data/Human_Genome_Data/Non_core_promoter_regions/\"\n",
    "file_name=\"gencodeV38.bb\"\n",
    "gencode_path= \"/mnt/data05/shared/pdutta_data/Human_Genome_Data/gencode_annotation/\"\n",
    "gtf_annotation_filename= \"gencode.v38.annotation.gtf\"\n",
    "gff_annotation_filename= \"gencode.v38.annotation.gff3\"\n",
    "file_path= data_path+file_name\n",
    "gencode_gtf_file_path= gencode_path + gtf_annotation_filename\n",
    "gencode_gff_file_path= gencode_path + gff_annotation_filename\n",
    "#reference_genome_file_path = reference_genome_path + reference_genome_name\n",
    "data_save_path= \"/mnt/data05/shared/pdutta_data/Human_Genome_Data/region_wise_sequence/\""
   ]
  },
  {
   "cell_type": "code",
   "execution_count": 5,
   "id": "71349309-5c66-42b7-94e1-7846185b70c6",
   "metadata": {},
   "outputs": [],
   "source": [
    "bb= pyBigWig.open(file_path)"
   ]
  },
  {
   "cell_type": "code",
   "execution_count": 6,
   "id": "d082499d-929b-4dfd-b132-2e8b2ddc5cf6",
   "metadata": {},
   "outputs": [],
   "source": [
    "promoter_coordinates = [-249, 50]\n",
    "core_promoter_coordinates= [-34, 35]\n",
    "donor_coordinates= [-199, 200]\n",
    "acceptor_coordinates= [-199, 200]"
   ]
  },
  {
   "cell_type": "code",
   "execution_count": 7,
   "id": "58399999-d0ae-4742-929d-9d8e6ca49c7c",
   "metadata": {},
   "outputs": [],
   "source": [
    "def remove_data(elements, distance):\n",
    "    #elements = sorted(elements) # sorting the user input\n",
    "    new_elements = [elements[0]] # make a new list for output\n",
    "    for element in elements[1:]: # Iterate over the remaining elements...\n",
    "        if element - new_elements[-1] >= distance: \n",
    "            # this is the condition you described above\n",
    "            new_elements.append(element)\n",
    "    return new_elements"
   ]
  },
  {
   "cell_type": "code",
   "execution_count": null,
   "id": "a3fbfc78-90c8-4931-8393-4a248c461354",
   "metadata": {},
   "outputs": [],
   "source": []
  },
  {
   "cell_type": "code",
   "execution_count": null,
   "id": "1b6be116-480b-412b-af09-991983f72b4f",
   "metadata": {},
   "outputs": [],
   "source": []
  },
  {
   "cell_type": "code",
   "execution_count": 11,
   "id": "1cd5bea5-1a81-4f50-925e-48deae690c73",
   "metadata": {},
   "outputs": [
    {
     "name": "stdout",
     "output_type": "stream",
     "text": [
      "chr1\n",
      "248956422\n",
      "length: 248956422\n",
      "(20716, 7)\n",
      "0\n",
      "5\n",
      "10\n",
      "@@##$$ 248955663\n",
      "                                                         0\n",
      "0        NNNNNNNNNNNNNNNNNNNNNNNNNNNNNNNNNNNNNNNNNNNNNN...\n",
      "1        NNNNNNNNNNNNNNNNNNNNNNNNNNNNNNNNNNNNNNNNNNNNNN...\n",
      "2        NNNNNNNNNNNNNNNNNNNNNNNNNNNNNNNNNNNNNNNNNNNNNN...\n",
      "3        NNNNNNNNNNNNNNNNNNNNNNNNNNNNNNNNNNNNNNNNNNNNNN...\n",
      "4        NNNNNNNNNNNNNNNNNNNNNNNNNNNNNNNNNNNNNNNNNNNNNN...\n",
      "...                                                    ...\n",
      "3556505  NNNNNNNNNNNNNNNNNNNNNNNNNNNNNNNNNNNNNNNNNNNNNN...\n",
      "3556506  NNNNNNNNNNNNNNNNNNNNNNNNNNNNNNNNNNNNNNNNNNNNNN...\n",
      "3556507  NNNNNNNNNNNNNNNNNNNNNNNNNNNNNNNNNNNNNNNNNNNNNN...\n",
      "3556508  NNNNNNNNNNNNNNNNNNNNNNNNNNNNNNNNNNNNNNNNNNNNNN...\n",
      "3556509                  NNNNNNNNNNNNNNNNNNNNNNNNNNNNNNNNN\n",
      "\n",
      "[3556510 rows x 1 columns]\n",
      "(3556510, 1)\n"
     ]
    }
   ],
   "source": [
    "chr_file= \"chr1.fa\"\n",
    "reference_genome_file_path = reference_genome_path + chr_file\n",
    "chr_name = chr_file.split('.')[0]\n",
    "print (chr_name)\n",
    "# df_chr= df[df['seqname']==chr_name]\n",
    "# df_new = df_chr[df_chr['feature']=='exon'].reset_index(drop=True)\n",
    "# print (df_new.shape)\n",
    "# #print (reference_genome_file_path)\n",
    "length= bb.chroms(chr_name)\n",
    "print (length)\n",
    "fasta = pybedtools.example_filename(reference_genome_file_path)\n",
    "temp_seq= pybedtools.BedTool.seq(chr_name+':1-'+str(length), fasta)\n",
    "print (\"length:\", len(temp_seq))\n",
    "\n",
    "\n",
    "\n",
    "df_core_promoter = pd.read_csv(core_promoter_path+chr_name+\"_core_promoter_sequence.csv\")\n",
    "\n",
    "#print (df_core_promoter.head())\n",
    "\n",
    "print(df_core_promoter.shape)\n",
    "\n",
    "\n",
    "\n",
    "for index, row in df_core_promoter.loc[0:10].iterrows():\n",
    "    if (index%5==0):\n",
    "        print (index)\n",
    "\n",
    "    start = row['TSS'] -34\n",
    "    end = row['TSS'] + 35\n",
    "    \n",
    "    #print (start, end)\n",
    "    sub_string = temp_seq[start:end]\n",
    "    temp_seq = temp_seq.replace(sub_string, 70*'$')\n",
    "\n",
    "\n",
    "Non_promoter_sequence = re.sub('[$]', '', temp_seq)\n",
    "print (\"@@##$$\", len(Non_promoter_sequence))\n",
    "\n",
    "    \n",
    "list_non_promoter = [Non_promoter_sequence[i:i+70] for i in range(0, len(Non_promoter_sequence), 70)]\n",
    "pd_df = pd.DataFrame(list_non_promoter)\n",
    "\n",
    "\n",
    "\n",
    "print (pd_df)\n",
    "\n",
    "\n",
    "print(pd_df.shape)\n",
    "#pd_df.to_csv(non_acceptor_path+\"/\"+chr_name+\"_non_acceptor.csv\")\n"
   ]
  },
  {
   "cell_type": "code",
   "execution_count": 12,
   "id": "979f627b-25f7-435a-acc1-eceb20f18d6e",
   "metadata": {},
   "outputs": [
    {
     "data": {
      "text/html": [
       "<div>\n",
       "<style scoped>\n",
       "    .dataframe tbody tr th:only-of-type {\n",
       "        vertical-align: middle;\n",
       "    }\n",
       "\n",
       "    .dataframe tbody tr th {\n",
       "        vertical-align: top;\n",
       "    }\n",
       "\n",
       "    .dataframe thead th {\n",
       "        text-align: right;\n",
       "    }\n",
       "</style>\n",
       "<table border=\"1\" class=\"dataframe\">\n",
       "  <thead>\n",
       "    <tr style=\"text-align: right;\">\n",
       "      <th></th>\n",
       "      <th>0</th>\n",
       "    </tr>\n",
       "  </thead>\n",
       "  <tbody>\n",
       "    <tr>\n",
       "      <th>0</th>\n",
       "      <td>NNNNNNNNNNNNNNNNNNNNNNNNNNNNNNNNNNNNNNNNNNNNNN...</td>\n",
       "    </tr>\n",
       "    <tr>\n",
       "      <th>1</th>\n",
       "      <td>NNNNNNNNNNNNNNNNNNNNNNNNNNNNNNNNNNNNNNNNNNNNNN...</td>\n",
       "    </tr>\n",
       "    <tr>\n",
       "      <th>2</th>\n",
       "      <td>cctaaccctaaccctaaccctaaccctaaccctaaccctaacccta...</td>\n",
       "    </tr>\n",
       "    <tr>\n",
       "      <th>3</th>\n",
       "      <td>accctaaccctaaccctaaccctaacccaaccctaaccctaaccct...</td>\n",
       "    </tr>\n",
       "    <tr>\n",
       "      <th>4</th>\n",
       "      <td>taaccctaaccctaaccctaaccctaacctaaccctaaccctaacc...</td>\n",
       "    </tr>\n",
       "    <tr>\n",
       "      <th>...</th>\n",
       "      <td>...</td>\n",
       "    </tr>\n",
       "    <tr>\n",
       "      <th>3275001</th>\n",
       "      <td>ttggggttggggttggggttggggttggggttagggttagggttag...</td>\n",
       "    </tr>\n",
       "    <tr>\n",
       "      <th>3275002</th>\n",
       "      <td>ggttagggttagggtgttagggtgttagggtgttagggggttaggg...</td>\n",
       "    </tr>\n",
       "    <tr>\n",
       "      <th>3275003</th>\n",
       "      <td>ttagggttagggttagggttagggttagggtgttagggggttaggg...</td>\n",
       "    </tr>\n",
       "    <tr>\n",
       "      <th>3275004</th>\n",
       "      <td>ttagggttagggttagggttagggttaagggttagggttagggNNN...</td>\n",
       "    </tr>\n",
       "    <tr>\n",
       "      <th>3275005</th>\n",
       "      <td>NNNNNNNNNNNNNNNNNNNNNNNNNNNNNNNNN</td>\n",
       "    </tr>\n",
       "  </tbody>\n",
       "</table>\n",
       "<p>3275006 rows × 1 columns</p>\n",
       "</div>"
      ],
      "text/plain": [
       "                                                         0\n",
       "0        NNNNNNNNNNNNNNNNNNNNNNNNNNNNNNNNNNNNNNNNNNNNNN...\n",
       "1        NNNNNNNNNNNNNNNNNNNNNNNNNNNNNNNNNNNNNNNNNNNNNN...\n",
       "2        cctaaccctaaccctaaccctaaccctaaccctaaccctaacccta...\n",
       "3        accctaaccctaaccctaaccctaacccaaccctaaccctaaccct...\n",
       "4        taaccctaaccctaaccctaaccctaacctaaccctaaccctaacc...\n",
       "...                                                    ...\n",
       "3275001  ttggggttggggttggggttggggttggggttagggttagggttag...\n",
       "3275002  ggttagggttagggtgttagggtgttagggtgttagggggttaggg...\n",
       "3275003  ttagggttagggttagggttagggttagggtgttagggggttaggg...\n",
       "3275004  ttagggttagggttagggttagggttaagggttagggttagggNNN...\n",
       "3275005                  NNNNNNNNNNNNNNNNNNNNNNNNNNNNNNNNN\n",
       "\n",
       "[3275006 rows x 1 columns]"
      ]
     },
     "execution_count": 12,
     "metadata": {},
     "output_type": "execute_result"
    }
   ],
   "source": [
    "pd_core_promoter = pd_df.drop_duplicates().reset_index(drop=True)\n",
    "pd_core_promoter"
   ]
  },
  {
   "cell_type": "code",
   "execution_count": 17,
   "id": "7d021926-57a5-42b4-98bf-759df94575d2",
   "metadata": {},
   "outputs": [],
   "source": [
    "fasta=\"DVNLDKNBBSDLVJB\"\n",
    "chunk_size= 3"
   ]
  },
  {
   "cell_type": "code",
   "execution_count": 18,
   "id": "cd84f7f0-971e-4d2a-a702-7232aa84b52e",
   "metadata": {},
   "outputs": [
    {
     "data": {
      "text/plain": [
       "['DVN', 'LDK', 'NBB', 'SDL', 'VJB']"
      ]
     },
     "execution_count": 18,
     "metadata": {},
     "output_type": "execute_result"
    }
   ],
   "source": [
    " c"
   ]
  },
  {
   "cell_type": "code",
   "execution_count": null,
   "id": "03444d47-695b-45ce-a6c7-a7f78b5b783d",
   "metadata": {},
   "outputs": [],
   "source": []
  }
 ],
 "metadata": {
  "kernelspec": {
   "display_name": "Python 3",
   "language": "python",
   "name": "python3"
  },
  "language_info": {
   "codemirror_mode": {
    "name": "ipython",
    "version": 3
   },
   "file_extension": ".py",
   "mimetype": "text/x-python",
   "name": "python",
   "nbconvert_exporter": "python",
   "pygments_lexer": "ipython3",
   "version": "3.6.13"
  }
 },
 "nbformat": 4,
 "nbformat_minor": 5
}
