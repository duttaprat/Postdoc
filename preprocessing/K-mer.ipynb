{
 "cells": [
  {
   "cell_type": "code",
   "execution_count": 25,
   "id": "ebb4b3b7-7a43-4d5b-8e2b-fcbf54c80882",
   "metadata": {},
   "outputs": [],
   "source": [
    "import os, zipfile\n",
    "import glob\n",
    "import time\n",
    "import gzip, shutil"
   ]
  },
  {
   "cell_type": "code",
   "execution_count": 6,
   "id": "291bf0cb-1642-4683-932a-393144c67e93",
   "metadata": {},
   "outputs": [],
   "source": [
    "os.chdir(\"/Users/pratik/Box/Datasets/Test\")\n",
    "#os.mkdir(\"FASTA_files\")"
   ]
  },
  {
   "cell_type": "code",
   "execution_count": 20,
   "id": "5f6fd146-c7c4-4de9-b049-b37829317b31",
   "metadata": {},
   "outputs": [
    {
     "name": "stdout",
     "output_type": "stream",
     "text": [
      "/Users/pratik/Box/Datasets/Test\n"
     ]
    }
   ],
   "source": [
    "abs_path = os.getcwd()\n",
    "print(abs_path)"
   ]
  },
  {
   "cell_type": "code",
   "execution_count": 8,
   "id": "9dc0733e-6d6a-48f1-b17b-93f213875903",
   "metadata": {},
   "outputs": [
    {
     "name": "stdout",
     "output_type": "stream",
     "text": [
      "['GCF_000427115.1', 'GCF_000427135.1']\n"
     ]
    }
   ],
   "source": [
    "print(os.listdir(os.getcwd()))"
   ]
  },
  {
   "cell_type": "code",
   "execution_count": 41,
   "id": "cb8487ff-43a6-4391-b43f-b1f29c0f3547",
   "metadata": {},
   "outputs": [
    {
     "name": "stdout",
     "output_type": "stream",
     "text": [
      "CPU times: user 3 µs, sys: 0 ns, total: 3 µs\n",
      "Wall time: 6.91 µs\n",
      "\n",
      " GCF_000427115.1\n",
      "##@@ GCF_000427115.1_CBEV_1_genomic.fna.gz\n",
      "/Users/pratik/Box/Datasets/Test/GCF_000427115.1/GCF_000427115.1_CBEV_1_genomic.fna.gz\n",
      "$$ b\">NC_021248.1 Choristoneura biennis entomopoxvirus 'L', complete genome\\nTATAATCAATCATTTTAATATTTTCAAAAAAAAAGGAAGGCCTAAAAAAAGATAGCTCTCATAAAATATGTAAAAAAATT\\nATAGTTTTAAAAATACGACTTTAAACATTAAAAATGCTATTTATATTTTATAAATAAAATTTATTTAATTAGGAAAGAAA\\nAATAGTACTTTTAATACTTTTATCTTGATTTTTACATTATATATAATAGGTAATATTTTAATAGAAAATGTCGCATAATT\\nTGTAAAATAAAATAGAAATATAACTATTTTTATAGTTTTATGTTTAATAAAAGAAAAATACTAATATTATATTAATTGTT\\nATCATTTTTAAGAATATTAGTTGAATAATTATAATATTTTGATTTTATAAAAATACAATTAAATAATCATAATATTGTTA\\nTCATTTTTAAGAATATTAGTTGAATAATTATAATATTTTGATTTTATAAAAATACAATTAAATAATCATAATATTGTTAT\\nCATTTTTAAGAATATTAGTTGAATAATTATAATATTTTGATTTTATAAAAATACAATTAAATAATCATAATATTGTTATC\\nATTTTTAAGAATATTAGTTGAATAATTATAATATTTTGATTTTATAAAAATACAAATTAAATAATCATAATATTGTTATC\\nATTTTTAAGAATATTAGTTGAATAATTATAATATTTTGATTTTATAAGGTAAAAGAAAAATACAATTAAATAATCATAAT\\nATTGTTATCATTTTTAAGAATATTAGTTGAATAATTATAATATTTTGATTTTATAAGGTAAAAGAAAAATACAATTAAAT\\nAATCATATTATTGTTATCGTTTTTAAGAATATTATAATATATAGATTAACATATTTTATTGCATAATATTCTAAAAAATA\\nTAAGCAAATTTTTATATTCTGAAAATAAAATACTATTTATTTTTATCTTTTTAGAATAGGAATATTTTGGTTATGTCTAT\\nTTTTTTATTATAGGAAATAAAATTTGATCTACGTATCCTTTTCCTATTATTTTATGCTTTATATATAAAATCTACTGTTG\\nCATTTTATTGTTTTATGCATTATAAGGACCAATACAAGGTTTAGTATATAATATGTCTGCCTTATATGATAAAAATATCA\\nTAGAATCTATCAATTTCGATATTATAATTTTAGATCCGTCGTGAGTCAAGTCATTTTTTAACATTTCTAATATTTTACGG\\nCATTCTCCAAAATAAGAATATAAATCATGGTATTCGTGTTTTTTATCTTTAGAATCTTTAATGATGGTATTTATTTCTTC\\nTCTAAGATTATCGTTCACGTTTTCTATTTTTTTAATACACGAAAAAATATAATCTAAACGTTCGTTTGGTTTTATAATTA\\nTTTCTTCACCAGAATCGCTGTCTGAATTACTCATTTTATATTTATTTTTATT\"\n"
     ]
    },
    {
     "ename": "TypeError",
     "evalue": "a bytes-like object is required, not 'str'",
     "output_type": "error",
     "traceback": [
      "\u001b[0;31m---------------------------------------------------------------------------\u001b[0m",
      "\u001b[0;31mTypeError\u001b[0m                                 Traceback (most recent call last)",
      "\u001b[0;32m<ipython-input-41-99ea3e5e0fb4>\u001b[0m in \u001b[0;36m<module>\u001b[0;34m\u001b[0m\n\u001b[1;32m     10\u001b[0m                 \u001b[0mfile_content\u001b[0m \u001b[0;34m=\u001b[0m \u001b[0mitem\u001b[0m\u001b[0;34m.\u001b[0m\u001b[0mread\u001b[0m\u001b[0;34m(\u001b[0m\u001b[0;34m)\u001b[0m\u001b[0;34m\u001b[0m\u001b[0;34m\u001b[0m\u001b[0m\n\u001b[1;32m     11\u001b[0m                 \u001b[0mprint\u001b[0m\u001b[0;34m(\u001b[0m\u001b[0;34m\"$$\"\u001b[0m\u001b[0;34m,\u001b[0m\u001b[0mfile_content\u001b[0m\u001b[0;34m[\u001b[0m\u001b[0;36m0\u001b[0m\u001b[0;34m:\u001b[0m\u001b[0;36m1500\u001b[0m\u001b[0;34m]\u001b[0m\u001b[0;34m)\u001b[0m\u001b[0;34m\u001b[0m\u001b[0;34m\u001b[0m\u001b[0m\n\u001b[0;32m---> 12\u001b[0;31m                 \u001b[0msplit_items\u001b[0m \u001b[0;34m=\u001b[0m \u001b[0mfile_content\u001b[0m\u001b[0;34m.\u001b[0m\u001b[0msplit\u001b[0m\u001b[0;34m(\u001b[0m\u001b[0;34m\"\\n\"\u001b[0m\u001b[0;34m)\u001b[0m\u001b[0;34m\u001b[0m\u001b[0;34m\u001b[0m\u001b[0m\n\u001b[0m\u001b[1;32m     13\u001b[0m                 \u001b[0mprint\u001b[0m \u001b[0;34m(\u001b[0m\u001b[0msplit_items\u001b[0m\u001b[0;34m[\u001b[0m\u001b[0;36m0\u001b[0m\u001b[0;34m:\u001b[0m\u001b[0;36m2\u001b[0m\u001b[0;34m]\u001b[0m\u001b[0;34m)\u001b[0m\u001b[0;34m\u001b[0m\u001b[0;34m\u001b[0m\u001b[0m\n",
      "\u001b[0;31mTypeError\u001b[0m: a bytes-like object is required, not 'str'"
     ]
    }
   ],
   "source": [
    "%time\n",
    "for folder in os.listdir():\n",
    "    print(\"\\n\",folder)\n",
    "    for files in os.listdir(folder):\n",
    "        if files.endswith(\".gz\"):\n",
    "            print(\"##@@\", files)\n",
    "            zip_file_path = os.path.join(abs_path, folder, files) \n",
    "            print(zip_file_path)\n",
    "            with gzip.open(zip_file_path) as item:\n",
    "                file_content = item.read()\n",
    "                print(\"$$\",file_content[0:1500])\n",
    "                split_items = file_content.split(\"\\n\")\n",
    "                print (split_items[0:2])"
   ]
  },
  {
   "cell_type": "code",
   "execution_count": 1,
   "id": "b5eb0b9d-2bb4-45b2-9c71-9031eb89eb07",
   "metadata": {},
   "outputs": [],
   "source": [
    "def seq2kmer(seq, k):\n",
    "    \"\"\"\n",
    "    Convert original sequence to kmers\n",
    "    \n",
    "    Arguments:\n",
    "    seq -- str, original sequence.\n",
    "    k -- int, kmer of length k specified.\n",
    "    \n",
    "    Returns:\n",
    "    kmers -- str, kmers separated by space\n",
    "    \"\"\"\n",
    "    kmer = [seq[x:x+k] for x in range(len(seq)+1-k)]\n",
    "    kmers = \" \".join(kmer)\n",
    "    return kmers"
   ]
  },
  {
   "cell_type": "code",
   "execution_count": 2,
   "id": "a796a6e2-5ae4-4c6a-a90f-200aa6fde972",
   "metadata": {},
   "outputs": [
    {
     "data": {
      "text/plain": [
       "'AAC ACC CCG CGH GHY HYT YTR TRE RED'"
      ]
     },
     "execution_count": 2,
     "metadata": {},
     "output_type": "execute_result"
    }
   ],
   "source": [
    "seq2kmer(\"AACCGHYTRED\",3)"
   ]
  },
  {
   "cell_type": "code",
   "execution_count": null,
   "id": "e06d264e-38f5-4b01-be86-e6c617504971",
   "metadata": {},
   "outputs": [],
   "source": [
    "if not os.path.exists('my_folder'):\n",
    "    os.makedirs('my_folder')"
   ]
  },
  {
   "cell_type": "code",
   "execution_count": null,
   "id": "f5d62992-ed08-4a21-900f-d969a57d3d70",
   "metadata": {},
   "outputs": [],
   "source": [
    "print(os.listdir(os.getcwd()))"
   ]
  },
  {
   "cell_type": "code",
   "execution_count": 39,
   "id": "b5a6bf8f-1af7-4bd8-9962-efa840e85ecb",
   "metadata": {},
   "outputs": [
    {
     "name": "stdout",
     "output_type": "stream",
     "text": [
      "An error occured.\n",
      "ValueError: Please install Node.js and npm before continuing installation. You may be able to install Node.js from your package manager, from conda, or directly from the Node.js website (https://nodejs.org).\n",
      "See the log file for details:  /var/folders/gl/mbbbqzwj2ps7vm50hfsq8yn80000gn/T/jupyterlab-debug-bs76e0oy.log\n"
     ]
    }
   ],
   "source": []
  },
  {
   "cell_type": "code",
   "execution_count": null,
   "id": "c014686d-43bb-44c1-bf79-deb6a2ac4cbe",
   "metadata": {},
   "outputs": [],
   "source": []
  }
 ],
 "metadata": {
  "kernelspec": {
   "display_name": "Python 3",
   "language": "python",
   "name": "python3"
  },
  "language_info": {
   "codemirror_mode": {
    "name": "ipython",
    "version": 3
   },
   "file_extension": ".py",
   "mimetype": "text/x-python",
   "name": "python",
   "nbconvert_exporter": "python",
   "pygments_lexer": "ipython3",
   "version": "3.8.8"
  }
 },
 "nbformat": 4,
 "nbformat_minor": 5
}
