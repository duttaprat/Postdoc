{
 "cells": [
  {
   "cell_type": "code",
   "execution_count": 1,
   "id": "ebb4b3b7-7a43-4d5b-8e2b-fcbf54c80882",
   "metadata": {},
   "outputs": [],
   "source": [
    "import os, zipfile\n",
    "import glob\n",
    "import time\n",
    "import gzip, shutil"
   ]
  },
  {
   "cell_type": "code",
   "execution_count": null,
   "id": "dd31d82d-8001-4c0c-ba84-2b4ee03cf73b",
   "metadata": {},
   "outputs": [],
   "source": []
  },
  {
   "cell_type": "code",
   "execution_count": 2,
   "id": "291bf0cb-1642-4683-932a-393144c67e93",
   "metadata": {},
   "outputs": [],
   "source": [
    "os.chdir(\"/Users/pratik/Box/Datasets/Test\")\n",
    "#os.mkdir(\"FASTA_files\")"
   ]
  },
  {
   "cell_type": "code",
   "execution_count": 3,
   "id": "5f6fd146-c7c4-4de9-b049-b37829317b31",
   "metadata": {},
   "outputs": [
    {
     "name": "stdout",
     "output_type": "stream",
     "text": [
      "/Users/pratik/Box/Datasets/Test\n"
     ]
    }
   ],
   "source": [
    "abs_path = os.getcwd()\n",
    "print(abs_path)"
   ]
  },
  {
   "cell_type": "code",
   "execution_count": 4,
   "id": "9dc0733e-6d6a-48f1-b17b-93f213875903",
   "metadata": {},
   "outputs": [
    {
     "name": "stdout",
     "output_type": "stream",
     "text": [
      "['GCF_000427115.1', 'GCF_000427115.1_500_6-mer.txt', 'GCF_000427135.1', 'GCF_000427135.1_500_6-mer.txt']\n"
     ]
    }
   ],
   "source": [
    "print(os.listdir(os.getcwd()))"
   ]
  },
  {
   "cell_type": "code",
   "execution_count": 10,
   "id": "cb8487ff-43a6-4391-b43f-b1f29c0f3547",
   "metadata": {},
   "outputs": [
    {
     "name": "stdout",
     "output_type": "stream",
     "text": [
      "CPU times: user 2 µs, sys: 1 µs, total: 3 µs\n",
      "Wall time: 4.77 µs\n",
      "\n",
      " GCF_000427115.1\n",
      "@@ 3849\n",
      "307691\n",
      "/Users/pratik/Box/Datasets/Test\n",
      "@@ /Users/pratik/Box/Datasets\n",
      "QQWE /Users/pratik/Box/Datasets/output\n",
      "/Users/pratik/Box/Datasets/output/GCF_000427115.1_500_6-mer.txt\n",
      "/Users/pratik/Box/Datasets/Test\n",
      "\n",
      " GCF_000427135.1\n",
      "@@ 2862\n",
      "228750\n",
      "/Users/pratik/Box/Datasets/Test\n",
      "@@ /Users/pratik/Box/Datasets\n",
      "QQWE /Users/pratik/Box/Datasets/output\n",
      "/Users/pratik/Box/Datasets/output/GCF_000427135.1_500_6-mer.txt\n",
      "/Users/pratik/Box/Datasets/Test\n"
     ]
    }
   ],
   "source": [
    "%time\n",
    "for folder in os.listdir():\n",
    "    print(\"\\n\",folder)\n",
    "    for files in os.listdir(folder):\n",
    "        if files.endswith(\".gz\"):\n",
    "            zip_file_path = os.path.join(abs_path, folder, files) \n",
    "            with gzip.open(zip_file_path, 'rb') as item:\n",
    "                file_content = item.read()\n",
    "                split_items = file_content.decode().split('\\n')\n",
    "                print (\"@@\",len(split_items))\n",
    "                entire_fasta_sequence = ''.join(map(str, split_items[1:]))\n",
    "                print(len(entire_fasta_sequence))\n",
    "                chunk_size= 500 \n",
    "                fasta_sequnce_chunks= [entire_fasta_sequence[i:i+chunk_size] for i in range(0, len(entire_fasta_sequence), chunk_size)]\n",
    "                k= 6\n",
    "                file_name = folder+ '_'+str(chunk_size)+'_' +str(k)+ '-mer.txt'\n",
    "                print (os.getcwd())\n",
    "                parent_directory = os.path.split(abs_path)[0]\n",
    "                print(\"@@\", parent_directory)\n",
    "                sibling_folder = os.path.join(parent_directory, 'output')\n",
    "                print(\"QQWE\", sibling_folder)\n",
    "                if not os.path.exists(sibling_folder):\n",
    "                    os.mkdir(sibling_folder)\n",
    "                output_file_path = os.path.join(sibling_folder, file_name)\n",
    "                \n",
    "                print(output_file_path)\n",
    "                f= open(output_file_path,\"w+\")\n",
    "                for chunk in fasta_sequnce_chunks:\n",
    "                    k_mer = seq2kmer(chunk,k)\n",
    "                    f.write(k_mer)\n",
    "                    f.write('\\n')\n",
    "                f.close()\n",
    "                print(os.getcwd())\n",
    "                \n",
    "                \n",
    "#                 current_directory = os.path.dirname(__file__)\n",
    "\n",
    "# Determine the parent directory using os.path.split:\n",
    "\n",
    "#  # Repeat as needed\n",
    "\n",
    "# Join parent_directory with any sub-directories:\n",
    "\n",
    "# file_path = os.path.join(parent_directory, 'path', 'to', 'file')\n",
    "\n",
    "# Open the file:\n",
    "\n",
    "# open(file_path)"
   ]
  },
  {
   "cell_type": "code",
   "execution_count": 6,
   "id": "b5eb0b9d-2bb4-45b2-9c71-9031eb89eb07",
   "metadata": {},
   "outputs": [],
   "source": [
    "def seq2kmer(seq, k):\n",
    "    \"\"\"\n",
    "    Convert original sequence to kmers\n",
    "    \n",
    "    Arguments:\n",
    "    seq -- str, original sequence.\n",
    "    k -- int, kmer of length k specified.\n",
    "    \n",
    "    Returns:\n",
    "    kmers -- str, kmers separated by space\n",
    "    \"\"\"\n",
    "    kmer = [seq[x:x+k] for x in range(len(seq)+1-k)]\n",
    "    kmers = \" \".join(kmer)\n",
    "    return kmers"
   ]
  },
  {
   "cell_type": "code",
   "execution_count": 2,
   "id": "a796a6e2-5ae4-4c6a-a90f-200aa6fde972",
   "metadata": {},
   "outputs": [
    {
     "data": {
      "text/plain": [
       "'AAC ACC CCG CGH GHY HYT YTR TRE RED'"
      ]
     },
     "execution_count": 2,
     "metadata": {},
     "output_type": "execute_result"
    }
   ],
   "source": [
    "seq2kmer(\"AACCGHYTRED\",3)"
   ]
  },
  {
   "cell_type": "code",
   "execution_count": null,
   "id": "e06d264e-38f5-4b01-be86-e6c617504971",
   "metadata": {},
   "outputs": [],
   "source": [
    "if not os.path.exists('my_folder'):\n",
    "    os.makedirs('my_folder')"
   ]
  },
  {
   "cell_type": "code",
   "execution_count": null,
   "id": "f5d62992-ed08-4a21-900f-d969a57d3d70",
   "metadata": {},
   "outputs": [],
   "source": [
    "print(os.listdir(os.getcwd()))"
   ]
  },
  {
   "cell_type": "code",
   "execution_count": 7,
   "id": "b5a6bf8f-1af7-4bd8-9962-efa840e85ecb",
   "metadata": {},
   "outputs": [
    {
     "name": "stdout",
     "output_type": "stream",
     "text": [
      "15\n"
     ]
    }
   ],
   "source": [
    "string = 'VEVVJHEBJVHEJHV'\n",
    "print(len(string))"
   ]
  },
  {
   "cell_type": "code",
   "execution_count": 14,
   "id": "c014686d-43bb-44c1-bf79-deb6a2ac4cbe",
   "metadata": {},
   "outputs": [
    {
     "name": "stdout",
     "output_type": "stream",
     "text": [
      "['VEVV', 'JHEB', 'JVHE', 'JHV']\n"
     ]
    }
   ],
   "source": [
    "substr=list()\n",
    "a=4\n",
    "substr = [string[i:i+a] for i in range(0, len(string), a)]\n",
    "# for i in range(len(string)):\n",
    "#     substr.append(string[i:i+a])\n",
    "print(substr)"
   ]
  },
  {
   "cell_type": "code",
   "execution_count": null,
   "id": "90536b2b-4136-43f6-81d7-eeff7e9ce35d",
   "metadata": {},
   "outputs": [],
   "source": []
  }
 ],
 "metadata": {
  "kernelspec": {
   "display_name": "Python 3",
   "language": "python",
   "name": "python3"
  },
  "language_info": {
   "codemirror_mode": {
    "name": "ipython",
    "version": 3
   },
   "file_extension": ".py",
   "mimetype": "text/x-python",
   "name": "python",
   "nbconvert_exporter": "python",
   "pygments_lexer": "ipython3",
   "version": "3.8.8"
  }
 },
 "nbformat": 4,
 "nbformat_minor": 5
}
