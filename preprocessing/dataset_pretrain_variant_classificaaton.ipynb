{
 "cells": [
  {
   "cell_type": "code",
   "execution_count": 1,
   "id": "c5a68ae0-c012-4194-b4ba-a75311942a43",
   "metadata": {},
   "outputs": [],
   "source": [
    "import os\n",
    "import glob\n",
    "import pandas as pd"
   ]
  },
  {
   "cell_type": "code",
   "execution_count": 2,
   "id": "af835130-df35-4f64-821e-7fe7c252f38f",
   "metadata": {},
   "outputs": [
    {
     "data": {
      "text/plain": [
       "'/Users/pratik/Documents/GitHub/Postdoc/preprocessing'"
      ]
     },
     "execution_count": 2,
     "metadata": {},
     "output_type": "execute_result"
    }
   ],
   "source": [
    "os.getcwd()"
   ]
  },
  {
   "cell_type": "code",
   "execution_count": 3,
   "id": "d7bde0c9-f7ae-4e5d-bef9-4982491606d2",
   "metadata": {
    "scrolled": true,
    "tags": []
   },
   "outputs": [
    {
     "name": "stdout",
     "output_type": "stream",
     "text": [
      "100000\n",
      "200000\n",
      "300000\n",
      "400000\n",
      "500000\n",
      "600000\n",
      "700000\n",
      "800000\n",
      "900000\n",
      "Total number 903334\n"
     ]
    }
   ],
   "source": [
    "count =0\n",
    "with open('/Users/pratik/Box/Datasets/20210712_SARS_COV_2_genome/sequences.fasta', 'r') as f:\n",
    "    for line in f:\n",
    "        if(line[0]=='>'):\n",
    "            count = count+1\n",
    "            if(count%100000==0):\n",
    "                print(count)\n",
    "print(\"Total number\", count)"
   ]
  },
  {
   "cell_type": "code",
   "execution_count": 4,
   "id": "c9ca4a12-dbef-49df-a6a4-6ca9c7714edd",
   "metadata": {},
   "outputs": [],
   "source": [
    "import itertools as it\n",
    "import time\n",
    "import csv"
   ]
  },
  {
   "cell_type": "code",
   "execution_count": 20,
   "id": "c53f3d6f-5c27-48e1-8878-788500c90d6f",
   "metadata": {},
   "outputs": [],
   "source": [
    "def list_to_multiple_csv(l):\n",
    "    span = int(len(l)/4)+1\n",
    "    list_of_sublist= [l[x:x+span] for x in range(0, len(l), span)]\n",
    "    #print (list_of_sublist)\n",
    "    for i in range(len(list_of_sublist)):\n",
    "        csv_file= \"pretrain_SARS_COV_variant_\"+str(i)+\".csv\"\n",
    "        with open(csv_file, \"w\") as outfile:\n",
    "            list_of_sublist[i].insert(0,\"Sequence\")\n",
    "            outfile.write(\"\\n\".join(list_of_sublist[i]))"
   ]
  },
  {
   "cell_type": "markdown",
   "id": "5d91cbec-e158-4508-9cfa-b4f604211ebe",
   "metadata": {},
   "source": [
    "## Creation of pretarined dataset with the window staring position 0 and the chunk is non-overlapping."
   ]
  },
  {
   "cell_type": "code",
   "execution_count": 18,
   "id": "cee4395f-e823-4865-8748-7181f407cb29",
   "metadata": {},
   "outputs": [],
   "source": [
    "def create_non_overlap_genome(sequence, chunk_size):\n",
    "    chunks = [sequence[i:i+chunk_size] for i in range(0, len(sequence), chunk_size)]\n",
    "    last_chunk = sequence[-chunk_size:]\n",
    "    del chunks[-1]\n",
    "    chunks.append(last_chunk)\n",
    "    return(chunks)"
   ]
  },
  {
   "cell_type": "code",
   "execution_count": 21,
   "id": "a8a7a537-7f5e-4637-b391-7815630aa21b",
   "metadata": {
    "tags": []
   },
   "outputs": [
    {
     "name": "stdout",
     "output_type": "stream",
     "text": [
      "36665\n",
      "56016\n",
      "90507\n",
      "116877\n",
      "128655\n",
      "136648\n",
      "147423\n",
      "153586\n",
      "158578\n",
      "193555\n",
      "211961\n",
      "231721\n",
      "249196\n",
      "258855\n",
      "276514\n",
      "289155\n",
      "310571\n",
      "341910\n",
      "355159\n",
      "383204\n",
      "412742\n",
      "444323\n",
      "472960\n",
      "493231\n",
      "518784\n",
      "544952\n",
      "582448\n",
      "618225\n",
      "650673\n",
      "677880\n",
      "705345\n",
      "726227\n",
      "753506\n",
      "786348\n",
      "800905\n",
      "814391\n",
      "855700\n",
      "876909\n",
      "907350\n",
      "936960\n",
      "960436\n",
      "993029\n",
      "1010748\n",
      "1038518\n",
      "1051289\n",
      "1080463\n",
      "1108195\n",
      "1130526\n",
      "1156382\n",
      "1166705\n",
      "1192790\n",
      "1216440\n",
      "1237074\n",
      "1255403\n",
      "1264865\n",
      "1272144\n",
      "1289405\n",
      "1299776\n",
      "1307497\n",
      "1314397\n",
      "1329566\n",
      "1352437\n",
      "1377730\n",
      "1389723\n",
      "1399380\n",
      "1423027\n",
      "1448588\n",
      "1472332\n",
      "1481515\n",
      "1489472\n",
      "1503161\n",
      "1532986\n",
      "1553478\n",
      "1571872\n",
      "1587667\n",
      "1615560\n",
      "1645121\n",
      "1675317\n",
      "1708496\n",
      "1743205\n",
      "1773206\n",
      "1809331\n",
      "1839106\n",
      "1868498\n",
      "1910204\n",
      "1946211\n",
      "1975620\n",
      "1999976\n",
      "2019645\n",
      "2043967\n",
      "CPU times: user 3min 24s, sys: 36.9 s, total: 4min 1s\n",
      "Wall time: 4min 48s\n"
     ]
    }
   ],
   "source": [
    "%%time\n",
    "chunk_size =3000\n",
    "count= 0\n",
    "temp = 1\n",
    "genome_set= set()\n",
    "with open('/Users/pratik/Box/Datasets/20210712_SARS_COV_2_genome/sequences.fasta', 'r') as f:\n",
    "    for key,group in it.groupby(f,lambda line: line.startswith('>')):\n",
    "        if not key:\n",
    "            count= count+1\n",
    "            group = list(group)\n",
    "            stripped_group = list(map(lambda s: s.strip(), group))\n",
    "            concat_group = ' '.join(stripped_group) \n",
    "            #print (concat_group)\n",
    "            temp_list = create_non_overlap_genome(concat_group, chunk_size)\n",
    "            genome_set.update(temp_list)\n",
    "            if (count%10000==0):\n",
    "                print(len(genome_set))\n",
    "list_genome= list(genome_set)\n",
    "list_to_multiple_csv(list_genome)"
   ]
  },
  {
   "cell_type": "markdown",
   "id": "adaee20b-b38a-4c38-b3a1-58751c60cd8b",
   "metadata": {},
   "source": [
    "## Create the non-overlapped chunks with random staring position"
   ]
  },
  {
   "cell_type": "code",
   "execution_count": 22,
   "id": "3d6fbadd-0aa7-4a0b-8ae3-04aaab01da04",
   "metadata": {},
   "outputs": [],
   "source": [
    "def create_non_overlap_genome1(sequence, chunk_size, starting_position):\n",
    "    chunks = [sequence[i:i+chunk_size] for i in range(starting_position, len(sequence), chunk_size)]\n",
    "    last_chunk = sequence[-chunk_size:]\n",
    "    del chunks[-1]\n",
    "    return(chunks)"
   ]
  },
  {
   "cell_type": "code",
   "execution_count": null,
   "id": "939820a8-175e-4233-aeba-4647a7faa4bc",
   "metadata": {},
   "outputs": [],
   "source": []
  },
  {
   "cell_type": "code",
   "execution_count": 17,
   "id": "56bfb182-029e-40ca-b8b7-fbe508b9753b",
   "metadata": {},
   "outputs": [
    {
     "data": {
      "text/plain": [
       "['KNC', 'LKE', 'NCE', 'MCN', 'VEF', 'KLN', 'HVS', 'LKF', 'NWL']"
      ]
     },
     "execution_count": 17,
     "metadata": {},
     "output_type": "execute_result"
    }
   ],
   "source": [
    "create_non_overlap_genome1('ASKNCLKENCEMCNVEFKLNHVSLKFNWLKF', 3, 2)"
   ]
  },
  {
   "cell_type": "code",
   "execution_count": 13,
   "id": "1bdc1408-e850-4ca8-b89a-348ee1e3aa41",
   "metadata": {},
   "outputs": [
    {
     "data": {
      "text/plain": [
       "3000"
      ]
     },
     "execution_count": 13,
     "metadata": {},
     "output_type": "execute_result"
    }
   ],
   "source": [
    "len(list_genome[0])"
   ]
  },
  {
   "cell_type": "code",
   "execution_count": null,
   "id": "3c4f94c3-6257-4a36-8b99-5f59b560f58d",
   "metadata": {},
   "outputs": [],
   "source": [
    "genome_set= {'AA','TTAT','AAT'}"
   ]
  },
  {
   "cell_type": "code",
   "execution_count": null,
   "id": "a2b753a6-cb0c-4adc-ad26-0be6001ccc5f",
   "metadata": {},
   "outputs": [],
   "source": [
    "genome_set"
   ]
  },
  {
   "cell_type": "code",
   "execution_count": null,
   "id": "fec5aee9-9530-4e2c-9145-7b25f60cec30",
   "metadata": {},
   "outputs": [],
   "source": [
    "genome_set.add('AATT')"
   ]
  },
  {
   "cell_type": "code",
   "execution_count": null,
   "id": "2874129c-0c55-4767-958d-8dc7be48cb1d",
   "metadata": {},
   "outputs": [],
   "source": [
    "genome_set"
   ]
  },
  {
   "cell_type": "code",
   "execution_count": null,
   "id": "26fe8d4e-b15c-4dae-ae1b-f2ac15d6ad85",
   "metadata": {},
   "outputs": [],
   "source": [
    "string= 'ASKNCLKENCEMCNVEFKLNHVSLKFNWLKF'\n",
    "print(len(string))\n",
    "chunk = 3"
   ]
  },
  {
   "cell_type": "code",
   "execution_count": null,
   "id": "398a1671-6819-47c5-a2bd-5f1609dcb9fd",
   "metadata": {},
   "outputs": [],
   "source": [
    "l = [string[i:i+3] for i in range(0, len(string), 3)]\n",
    "print (l)"
   ]
  },
  {
   "cell_type": "code",
   "execution_count": null,
   "id": "99049250-a8b2-4557-a0c3-f10448b21c12",
   "metadata": {},
   "outputs": [],
   "source": [
    "if (len(l[-1])<3):\n",
    "    last_element = string[-3:]\n",
    "    del l[-1]\n",
    "    l.append(last_element)\n",
    "print(l)"
   ]
  },
  {
   "cell_type": "code",
   "execution_count": null,
   "id": "7cc77014-4878-4ae3-afa4-41e39f52bd8a",
   "metadata": {},
   "outputs": [],
   "source": [
    "l"
   ]
  },
  {
   "cell_type": "code",
   "execution_count": null,
   "id": "08cf5337-9c90-4688-b091-577ec3681156",
   "metadata": {},
   "outputs": [],
   "source": [
    "s= set()\n",
    "s"
   ]
  },
  {
   "cell_type": "code",
   "execution_count": null,
   "id": "bce7c4fc-3318-4308-8309-cfc717b69da8",
   "metadata": {},
   "outputs": [],
   "source": [
    "s.update(l)"
   ]
  },
  {
   "cell_type": "code",
   "execution_count": null,
   "id": "6e640c8b-7922-4b5d-ba7c-8db7f5a9c07a",
   "metadata": {},
   "outputs": [],
   "source": [
    "s"
   ]
  },
  {
   "cell_type": "code",
   "execution_count": null,
   "id": "f5e822c4-b536-4756-b7e4-d62643f6feb9",
   "metadata": {},
   "outputs": [],
   "source": [
    "l1= ['ASK', 'BBC']"
   ]
  },
  {
   "cell_type": "code",
   "execution_count": null,
   "id": "de461799-2f65-4eee-8d6d-2e64c88db685",
   "metadata": {},
   "outputs": [],
   "source": [
    "s.update(l1)"
   ]
  },
  {
   "cell_type": "code",
   "execution_count": null,
   "id": "9908a3ee-c985-48b2-ac23-d1fdbe26f6ce",
   "metadata": {},
   "outputs": [],
   "source": [
    "s"
   ]
  },
  {
   "cell_type": "code",
   "execution_count": null,
   "id": "edc8b2df-4b52-4d5e-8108-a93e9d979347",
   "metadata": {},
   "outputs": [],
   "source": [
    "l"
   ]
  },
  {
   "cell_type": "code",
   "execution_count": null,
   "id": "9bbe8f59-4841-459f-8921-4e94c4ced93b",
   "metadata": {},
   "outputs": [],
   "source": [
    "def list_to_multiple_csv(l):\n",
    "    span = int(len(l)/3)+1\n",
    "    list_of_sublist= [l[x:x+span] for x in range(0, len(l), span)]\n",
    "    print (list_of_sublist)\n",
    "    for i in range(len(list_of_sublist)):\n",
    "        csv_file= \"pretrain_SARS_COV_variant_\"+str(i+1)+\".txt\"\n",
    "        with open(csv_file, \"w\") as outfile:\n",
    "            outfile.write(\"\\n\".join(list_of_sublist[i]))"
   ]
  },
  {
   "cell_type": "code",
   "execution_count": null,
   "id": "df404da1-c522-473d-9d73-606b475f14c2",
   "metadata": {},
   "outputs": [],
   "source": [
    "list_to_multiple_csv(l)"
   ]
  },
  {
   "cell_type": "code",
   "execution_count": null,
   "id": "f4a76407-b018-43b4-8633-aed1c2bd4ce3",
   "metadata": {},
   "outputs": [],
   "source": []
  }
 ],
 "metadata": {
  "kernelspec": {
   "display_name": "Python 3 (ipykernel)",
   "language": "python",
   "name": "python3"
  },
  "language_info": {
   "codemirror_mode": {
    "name": "ipython",
    "version": 3
   },
   "file_extension": ".py",
   "mimetype": "text/x-python",
   "name": "python",
   "nbconvert_exporter": "python",
   "pygments_lexer": "ipython3",
   "version": "3.7.11"
  }
 },
 "nbformat": 4,
 "nbformat_minor": 5
}
