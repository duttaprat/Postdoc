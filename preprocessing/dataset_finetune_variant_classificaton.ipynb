{
 "cells": [
  {
   "cell_type": "markdown",
   "id": "eaf5cea3-c22b-4ab0-8c7b-75bf7aec2e50",
   "metadata": {},
   "source": [
    "## This script is used for the prepraring dataset for the finetuning DNABERT for SARS-CoV-2 virant clasiification "
   ]
  },
  {
   "cell_type": "code",
   "execution_count": 1,
   "id": "1d9f5448-fc3f-460e-a2ea-510525b02764",
   "metadata": {},
   "outputs": [],
   "source": [
    "import os, tarfile\n",
    "import glob, time, csv, zipfile, gzip\n",
    "import pandas as pd\n",
    "import itertools as it\n",
    "import sys"
   ]
  },
  {
   "cell_type": "code",
   "execution_count": 2,
   "id": "af835130-df35-4f64-821e-7fe7c252f38f",
   "metadata": {},
   "outputs": [
    {
     "data": {
      "text/plain": [
       "'/mnt/d/GitHub/Postdoc/preprocessing'"
      ]
     },
     "execution_count": 2,
     "metadata": {},
     "output_type": "execute_result"
    }
   ],
   "source": [
    "os.getcwd()"
   ]
  },
  {
   "cell_type": "code",
   "execution_count": 3,
   "id": "10c45f59-b125-44c2-a048-579c7684d535",
   "metadata": {},
   "outputs": [],
   "source": [
    "variant_dict = {\n",
    "    \"alpha\": 0,\n",
    "    \"beta\": 1,\n",
    "    \"delta\": 2,\n",
    "    \"gamma\": 3,\n",
    "    \"eta\":4,\n",
    "    \"iota\":5,\n",
    "    \"kappa\":6,\n",
    "    \"lambda\":7,\n",
    "    \"zeta\":8\n",
    "}"
   ]
  },
  {
   "cell_type": "code",
   "execution_count": 4,
   "id": "2290add3-c7e0-4349-a06b-90dbcd593c20",
   "metadata": {},
   "outputs": [
    {
     "data": {
      "text/plain": [
       "0"
      ]
     },
     "execution_count": 4,
     "metadata": {},
     "output_type": "execute_result"
    }
   ],
   "source": [
    "variant_dict['alpha']"
   ]
  },
  {
   "cell_type": "code",
   "execution_count": 5,
   "id": "c9ca4a12-dbef-49df-a6a4-6ca9c7714edd",
   "metadata": {},
   "outputs": [],
   "source": [
    "#For Mac\n",
    "#parent_dir_path = \"/Users/pratik/Box/Datasets/work_dir/SARS_finetuned/\"\n",
    "#For Windows\n",
    "parent_dir_path = \"/home/pratik/Work_directory/SARS_finetuned/GISAID\"\n",
    "os.chdir(parent_dir_path)"
   ]
  },
  {
   "cell_type": "markdown",
   "id": "a5ac1e8e-e06e-4594-b8c9-118965eb7fbb",
   "metadata": {},
   "source": [
    "### Function for creating non-overlappingg chunks with starting position zero and other mentioned starting position"
   ]
  },
  {
   "cell_type": "code",
   "execution_count": 6,
   "id": "56fa4840-0463-44f2-abcf-f71c850d9f81",
   "metadata": {},
   "outputs": [],
   "source": [
    "def create_non_overlap_genome(sequence, chunk_size):\n",
    "    chunks = []\n",
    "    starting_position_list = [0, 1000, 2000]\n",
    "    for position in starting_position_list:\n",
    "        temp_chunks = [sequence[i:i+chunk_size] for i in range(position, len(sequence), chunk_size)]\n",
    "        if(len(temp_chunks[-1])<chunk_size):\n",
    "            del temp_chunks[-1]\n",
    "        chunks.extend(temp_chunks)\n",
    "    last_chunk = sequence[-chunk_size:]\n",
    "    chunks.append(last_chunk)\n",
    "    return(chunks)"
   ]
  },
  {
   "cell_type": "markdown",
   "id": "6a3a8ea6-df4e-45a5-bea2-74d1bab64d78",
   "metadata": {},
   "source": [
    "### Finetuning data preparation"
   ]
  },
  {
   "cell_type": "code",
   "execution_count": 7,
   "id": "57d403b7-a70c-4d05-87d6-b30563711379",
   "metadata": {},
   "outputs": [],
   "source": [
    "def finetune_data_preparation(file_lines, label):\n",
    "    final_list = []\n",
    "    for key,group in it.groupby(file_lines,lambda line: line.startswith('>')):\n",
    "        if not key:\n",
    "            #count= count+1\n",
    "            group = list(group)\n",
    "            stripped_group = list(map(lambda s: s.strip(), group))\n",
    "            concat_group = ' '.join(stripped_group) \n",
    "            concat_group = concat_group.replace(\" \",\"\")\n",
    "            temp_list= create_non_overlap_genome(concat_group, 3000)\n",
    "            final_list.extend(temp_list)\n",
    "    temp_df= pd.DataFrame(final_list, columns= ['Sequence'])\n",
    "    print (\"temp\", temp_df.shape)\n",
    "    temp_df = temp_df.drop_duplicates().reset_index(drop=True)\n",
    "    temp_df['Label']= label\n",
    "    return (temp_df)"
   ]
  },
  {
   "cell_type": "markdown",
   "id": "1e3a37f5-2b97-487a-a29d-34fd808355a8",
   "metadata": {},
   "source": [
    "## Remove contradict entries and save in a `.csv` file"
   ]
  },
  {
   "cell_type": "code",
   "execution_count": 8,
   "id": "5153b63f-ac67-4135-b01a-8b529b87c5e1",
   "metadata": {},
   "outputs": [],
   "source": [
    "def remv_contradict_entries(g, directory):\n",
    "    print (g.shape)\n",
    "    df1= g.groupby('Sequence')\n",
    "    df2= df1.filter(lambda x: len(x) == 1).reset_index(drop=True)\n",
    "    print (df2.groupby('Label').count())\n",
    "    df2.to_csv(\"../Finetuned_SARS_\"+directory+\".csv\", index=False)"
   ]
  },
  {
   "cell_type": "code",
   "execution_count": 10,
   "id": "786625c9-e9e6-4940-b584-c969b7ca3121",
   "metadata": {},
   "outputs": [
    {
     "name": "stdout",
     "output_type": "stream",
     "text": [
      "Africa\n"
     ]
    },
    {
     "name": "stdin",
     "output_type": "stream",
     "text": [
      " \n"
     ]
    },
    {
     "name": "stdout",
     "output_type": "stream",
     "text": [
      "/home/pratik/Work_directory/SARS_finetuned/GISAID/Africa/beta\n",
      "1629316238802.sequences.fasta\n",
      "temp (138012, 1)\n",
      "Final (40785, 2)\n",
      "/home/pratik/Work_directory/SARS_finetuned/GISAID/Africa/zeta\n",
      "1629316826903.sequences.fasta\n",
      "temp (280, 1)\n",
      "Final (40905, 2)\n",
      "/home/pratik/Work_directory/SARS_finetuned/GISAID/Africa/eta\n",
      "1629317297200.sequences.fasta\n",
      "temp (6412, 1)\n",
      "Final (44371, 2)\n",
      "/home/pratik/Work_directory/SARS_finetuned/GISAID/Africa/lambda\n",
      "/home/pratik/Work_directory/SARS_finetuned/GISAID/Africa/iota\n",
      "/home/pratik/Work_directory/SARS_finetuned/GISAID/Africa/delta\n",
      "1629316615035.sequences.fasta\n",
      "temp (29512, 1)\n",
      "Final (55442, 2)\n",
      "/home/pratik/Work_directory/SARS_finetuned/GISAID/Africa/kappa\n",
      "1629317487078.sequences.fasta\n",
      "temp (252, 1)\n",
      "Final (55667, 2)\n",
      "/home/pratik/Work_directory/SARS_finetuned/GISAID/Africa/alpha\n",
      "1629314973953.sequences.fasta\n",
      "temp (32004, 1)\n",
      "Final (66372, 2)\n",
      "(66372, 2)\n",
      "       Sequence\n",
      "Label          \n",
      "0         10414\n",
      "1         40358\n",
      "2         10895\n",
      "4          3347\n",
      "6           206\n",
      "8           101\n",
      "Europe\n"
     ]
    },
    {
     "name": "stdin",
     "output_type": "stream",
     "text": [
      " \n"
     ]
    },
    {
     "name": "stdout",
     "output_type": "stream",
     "text": [
      "/home/pratik/Work_directory/SARS_finetuned/GISAID/Europe/beta\n",
      "/home/pratik/Work_directory/SARS_finetuned/GISAID/Europe/zeta\n",
      "1629323030691.sequences.fasta\n",
      "temp (45192, 1)\n",
      "Final (11036, 2)\n",
      "1629322790999.sequences.fasta\n",
      "temp (7280, 1)\n",
      "Final (14221, 2)\n",
      "/home/pratik/Work_directory/SARS_finetuned/GISAID/Europe/eta\n",
      "/home/pratik/Work_directory/SARS_finetuned/GISAID/Europe/lambda\n",
      "1629322196621.sequences.fasta\n",
      "temp (1708, 1)\n",
      "Final (15271, 2)\n",
      "/home/pratik/Work_directory/SARS_finetuned/GISAID/Europe/iota\n",
      "1629323180991.sequences.fasta\n",
      "temp (5712, 1)\n",
      "Final (17564, 2)\n",
      "/home/pratik/Work_directory/SARS_finetuned/GISAID/Europe/delta\n",
      "/home/pratik/Work_directory/SARS_finetuned/GISAID/Europe/gamma\n",
      "1629321882420.sequences.fasta\n",
      "temp (137312, 1)\n",
      "Final (45723, 2)\n",
      "/home/pratik/Work_directory/SARS_finetuned/GISAID/Europe/kappa\n",
      "1629323292487.sequences.fasta\n",
      "temp (20216, 1)\n",
      "Final (51836, 2)\n",
      "/home/pratik/Work_directory/SARS_finetuned/GISAID/Europe/alpha\n",
      "(51836, 2)\n",
      "       Sequence\n",
      "Label          \n",
      "3         27891\n",
      "5          2088\n",
      "6          5915\n",
      "7           951\n",
      "8         13740\n",
      "Oceania\n"
     ]
    },
    {
     "name": "stdin",
     "output_type": "stream",
     "text": [
      " \n"
     ]
    },
    {
     "name": "stdout",
     "output_type": "stream",
     "text": [
      "/home/pratik/Work_directory/SARS_finetuned/GISAID/Oceania/beta\n",
      "1629323731996.sequences.fasta\n",
      "temp (1960, 1)\n",
      "Final (1010, 2)\n",
      "/home/pratik/Work_directory/SARS_finetuned/GISAID/Oceania/zeta\n",
      "1629323703456.sequences.fasta\n",
      "temp (140, 1)\n",
      "Final (1128, 2)\n",
      "/home/pratik/Work_directory/SARS_finetuned/GISAID/Oceania/eta\n",
      "1629324106221.sequences.fasta\n",
      "temp (196, 1)\n",
      "Final (1268, 2)\n",
      "/home/pratik/Work_directory/SARS_finetuned/GISAID/Oceania/lambda\n",
      "1629324181209.sequences.fasta\n",
      "temp (28, 1)\n",
      "Final (1296, 2)\n",
      "/home/pratik/Work_directory/SARS_finetuned/GISAID/Oceania/iota\n",
      "1629324129472.sequences.fasta\n",
      "temp (56, 1)\n",
      "Final (1324, 2)\n",
      "/home/pratik/Work_directory/SARS_finetuned/GISAID/Oceania/delta\n",
      "1629323796416.sequences.fasta\n",
      "temp (16100, 1)\n",
      "Final (6334, 2)\n",
      "/home/pratik/Work_directory/SARS_finetuned/GISAID/Oceania/gamma\n",
      "1629323757740.sequences.fasta\n",
      "temp (196, 1)\n",
      "Final (6442, 2)\n",
      "/home/pratik/Work_directory/SARS_finetuned/GISAID/Oceania/kappa\n",
      "1629324155720.sequences.fasta\n",
      "temp (2240, 1)\n",
      "Final (7108, 2)\n",
      "/home/pratik/Work_directory/SARS_finetuned/GISAID/Oceania/alpha\n",
      "1629323574578.sequences.fasta\n",
      "temp (15876, 1)\n",
      "Final (12776, 2)\n",
      "(12776, 2)\n",
      "       Sequence\n",
      "Label          \n",
      "0          5612\n",
      "1           957\n",
      "2          4970\n",
      "3           103\n",
      "4           132\n",
      "5            19\n",
      "6           641\n",
      "7            24\n",
      "8           104\n",
      "South America\n"
     ]
    },
    {
     "name": "stdin",
     "output_type": "stream",
     "text": [
      " \n"
     ]
    },
    {
     "name": "stdout",
     "output_type": "stream",
     "text": [
      "/home/pratik/Work_directory/SARS_finetuned/GISAID/South America/beta\n",
      "1629389299611.sequences.fasta\n",
      "temp (504, 1)\n",
      "Final (312, 2)\n",
      "/home/pratik/Work_directory/SARS_finetuned/GISAID/South America/zeta\n",
      "1629389399049.sequences.fasta\n",
      "temp (69356, 1)\n",
      "Final (26893, 2)\n",
      "/home/pratik/Work_directory/SARS_finetuned/GISAID/South America/eta\n",
      "1629389807077.sequences.fasta\n",
      "temp (28, 1)\n",
      "Final (26921, 2)\n",
      "/home/pratik/Work_directory/SARS_finetuned/GISAID/South America/lambda\n",
      "1629389882085.sequences.fasta\n",
      "temp (6132, 1)\n",
      "Final (30425, 2)\n",
      "/home/pratik/Work_directory/SARS_finetuned/GISAID/South America/iota\n",
      "1629389834686.sequences.fasta\n",
      "temp (10108, 1)\n",
      "Final (33735, 2)\n",
      "/home/pratik/Work_directory/SARS_finetuned/GISAID/South America/delta\n",
      "1629389326073.sequences.fasta\n",
      "temp (9604, 1)\n",
      "Final (37163, 2)\n",
      "/home/pratik/Work_directory/SARS_finetuned/GISAID/South America/kappa\n",
      "1629389859687.sequences.fasta\n",
      "temp (28, 1)\n",
      "Final (37191, 2)\n",
      "/home/pratik/Work_directory/SARS_finetuned/GISAID/South America/alpha\n",
      "1629389233623.sequences.fasta\n",
      "temp (67844, 1)\n",
      "Final (57362, 2)\n",
      "(57362, 2)\n",
      "       Sequence\n",
      "Label          \n",
      "0         19908\n",
      "1           263\n",
      "2          3354\n",
      "4            24\n",
      "5          3140\n",
      "6            24\n",
      "7          3265\n",
      "8         26112\n",
      "North America\n"
     ]
    },
    {
     "name": "stdin",
     "output_type": "stream",
     "text": [
      " \n"
     ]
    },
    {
     "name": "stdout",
     "output_type": "stream",
     "text": [
      "/home/pratik/Work_directory/SARS_finetuned/GISAID/North America/beta\n",
      "1629319610891.sequences.fasta\n",
      "temp (63840, 1)\n",
      "Final (18583, 2)\n",
      "/home/pratik/Work_directory/SARS_finetuned/GISAID/North America/zeta\n",
      "1629319354850.sequences.fasta\n",
      "temp (44043, 1)\n",
      "Final (35308, 2)\n",
      "/home/pratik/Work_directory/SARS_finetuned/GISAID/North America/eta\n",
      "1629319246862.sequences.fasta\n",
      "temp (14028, 1)\n",
      "Final (39246, 2)\n",
      "/home/pratik/Work_directory/SARS_finetuned/GISAID/North America/lambda\n",
      "1629318739604.sequences.fasta\n",
      "temp (3528, 1)\n",
      "Final (41277, 2)\n",
      "/home/pratik/Work_directory/SARS_finetuned/GISAID/North America/iota\n",
      "/home/pratik/Work_directory/SARS_finetuned/GISAID/North America/delta\n",
      "/home/pratik/Work_directory/SARS_finetuned/GISAID/North America/kappa\n",
      "1629319061098.sequences.fasta\n",
      "temp (11872, 1)\n",
      "Final (45623, 2)\n",
      "/home/pratik/Work_directory/SARS_finetuned/GISAID/North America/alpha\n",
      "1630017471230.sequences.fasta\n",
      "temp (21196, 1)\n",
      "Final (55194, 2)\n",
      "(55194, 2)\n",
      "       Sequence\n",
      "Label          \n",
      "0          9344\n",
      "1         18027\n",
      "4          3780\n",
      "6          4137\n",
      "7          1876\n",
      "8         16243\n",
      "Asia\n"
     ]
    },
    {
     "name": "stdin",
     "output_type": "stream",
     "text": [
      " \n"
     ]
    },
    {
     "name": "stdout",
     "output_type": "stream",
     "text": [
      "/home/pratik/Work_directory/SARS_finetuned/GISAID/Asia/beta\n",
      "1629321017543.sequences.fasta\n",
      "temp (56617, 1)\n",
      "Final (19469, 2)\n",
      "/home/pratik/Work_directory/SARS_finetuned/GISAID/Asia/zeta\n",
      "1629320920540.sequences.fasta\n",
      "temp (504, 1)\n",
      "Final (19901, 2)\n",
      "/home/pratik/Work_directory/SARS_finetuned/GISAID/Asia/eta\n",
      "1629321116083.sequences.fasta\n",
      "temp (8848, 1)\n",
      "Final (25713, 2)\n",
      "/home/pratik/Work_directory/SARS_finetuned/GISAID/Asia/lambda\n",
      "/home/pratik/Work_directory/SARS_finetuned/GISAID/Asia/iota\n",
      "1629321359081.sequences.fasta\n",
      "temp (476, 1)\n",
      "Final (26138, 2)\n",
      "/home/pratik/Work_directory/SARS_finetuned/GISAID/Asia/delta\n",
      "/home/pratik/Work_directory/SARS_finetuned/GISAID/Asia/gamma\n",
      "1629320543386.sequences.fasta\n",
      "temp (4844, 1)\n",
      "Final (27813, 2)\n",
      "/home/pratik/Work_directory/SARS_finetuned/GISAID/Asia/kappa\n",
      "1629321299449.sequences.fasta\n",
      "temp (73556, 1)\n",
      "Final (58077, 2)\n",
      "/home/pratik/Work_directory/SARS_finetuned/GISAID/Asia/alpha\n",
      "(58077, 2)\n",
      "       Sequence\n",
      "Label          \n",
      "1         19026\n",
      "3          1596\n",
      "4          5708\n",
      "5           342\n",
      "6         29915\n",
      "8           354\n"
     ]
    }
   ],
   "source": [
    "for directory in os.listdir():\n",
    "    count =0\n",
    "    print (directory)\n",
    "    input()\n",
    "    final_df= pd.DataFrame(columns= ['Sequence','Label' ])\n",
    "    current_path= os.path.join(parent_dir_path,directory)\n",
    "    #print (current_path)\n",
    "    folders = os.listdir(directory)\n",
    "    for subfolder in folders:\n",
    "        path = os.path.join(current_path, subfolder)\n",
    "        print (path)\n",
    "        files= os.listdir(path)\n",
    "        for file in files:\n",
    "            if file.endswith(\"tar\"):\n",
    "                file_path= os.path.join(path, file)\n",
    "                contents = tarfile.open(file_path)\n",
    "                #print(contents.getnames())\n",
    "                for file_name, file_object in zip(contents.getnames(), contents.getmembers()):\n",
    "                    if file_name.endswith('fasta'):\n",
    "                        print(file_name)\n",
    "                        f=contents.extractfile(file_object)\n",
    "                        file_content=f.readlines()\n",
    "                        file_content_str = [x.decode() for x in file_content]\n",
    "                        label = variant_dict[subfolder]\n",
    "                        temp_df = finetune_data_preparation(file_content_str, label)\n",
    "                        final_df = final_df.append(temp_df, ignore_index=True)\n",
    "                        print (\"Final\",final_df.shape)\n",
    "    remv_contradict_entries(final_df, directory)"
   ]
  },
  {
   "cell_type": "code",
   "execution_count": null,
   "id": "50bd21ef-49b9-4064-b764-a1b3786c019f",
   "metadata": {},
   "outputs": [],
   "source": []
  }
 ],
 "metadata": {
  "kernelspec": {
   "display_name": "Python 3 (ipykernel)",
   "language": "python",
   "name": "python3"
  },
  "language_info": {
   "codemirror_mode": {
    "name": "ipython",
    "version": 3
   },
   "file_extension": ".py",
   "mimetype": "text/x-python",
   "name": "python",
   "nbconvert_exporter": "python",
   "pygments_lexer": "ipython3",
   "version": "3.7.11"
  }
 },
 "nbformat": 4,
 "nbformat_minor": 5
}
