{
 "cells": [
  {
   "cell_type": "markdown",
   "id": "eaf5cea3-c22b-4ab0-8c7b-75bf7aec2e50",
   "metadata": {},
   "source": [
    "## This script is used for the prepraring dataset for the finetuning DNABERT for SARS-CoV-2 virant clasiification "
   ]
  },
  {
   "cell_type": "code",
   "execution_count": 53,
   "id": "1d9f5448-fc3f-460e-a2ea-510525b02764",
   "metadata": {},
   "outputs": [],
   "source": [
    "import os, tarfile\n",
    "import glob, time, csv, zipfile, gzip\n",
    "import pandas as pd\n",
    "import itertools as it\n",
    "import sys"
   ]
  },
  {
   "cell_type": "code",
   "execution_count": 54,
   "id": "af835130-df35-4f64-821e-7fe7c252f38f",
   "metadata": {},
   "outputs": [
    {
     "data": {
      "text/plain": [
       "'/home/pratik/Work_directory/SARS_finetuned'"
      ]
     },
     "execution_count": 54,
     "metadata": {},
     "output_type": "execute_result"
    }
   ],
   "source": [
    "os.getcwd()"
   ]
  },
  {
   "cell_type": "code",
   "execution_count": 96,
   "id": "10c45f59-b125-44c2-a048-579c7684d535",
   "metadata": {},
   "outputs": [],
   "source": [
    "variant_dict = {\n",
    "    \"alpha\": 0,\n",
    "    \"beta\": 1,\n",
    "    \"delta\": 2,\n",
    "    \"gamma\": 3,\n",
    "    \"eta\":4,\n",
    "    \"iota\":5,\n",
    "    \"kappa\":6,\n",
    "    \"lambda\":7,\n",
    "    \"zeta\":8\n",
    "}"
   ]
  },
  {
   "cell_type": "code",
   "execution_count": 94,
   "id": "2290add3-c7e0-4349-a06b-90dbcd593c20",
   "metadata": {},
   "outputs": [
    {
     "data": {
      "text/plain": [
       "0"
      ]
     },
     "execution_count": 94,
     "metadata": {},
     "output_type": "execute_result"
    }
   ],
   "source": [
    "variant_dict['alpha']"
   ]
  },
  {
   "cell_type": "code",
   "execution_count": 55,
   "id": "c9ca4a12-dbef-49df-a6a4-6ca9c7714edd",
   "metadata": {},
   "outputs": [],
   "source": [
    "#For Mac\n",
    "#parent_dir_path = \"/Users/pratik/Box/Datasets/work_dir/SARS_finetuned/\"\n",
    "#For Windows\n",
    "parent_dir_path = \"/home/pratik/Work_directory/SARS_finetuned/\"\n",
    "os.chdir(parent_dir_path)"
   ]
  },
  {
   "cell_type": "markdown",
   "id": "a5ac1e8e-e06e-4594-b8c9-118965eb7fbb",
   "metadata": {},
   "source": [
    "### Function for creating non-overlappingg chunks with starting position zero and other mentioned starting position"
   ]
  },
  {
   "cell_type": "code",
   "execution_count": 177,
   "id": "56fa4840-0463-44f2-abcf-f71c850d9f81",
   "metadata": {},
   "outputs": [],
   "source": [
    "def create_non_overlap_genome(sequence, chunk_size):\n",
    "    chunks = []\n",
    "    starting_position_list = [0, 1000, 2000]\n",
    "    for position in starting_position_list:\n",
    "        temp_chunks = [sequence[i:i+chunk_size] for i in range(position, len(sequence), chunk_size)]\n",
    "        if(len(temp_chunks[-1])<chunk_size):\n",
    "            del temp_chunks[-1]\n",
    "        chunks.extend(temp_chunks)\n",
    "    last_chunk = sequence[-chunk_size:]\n",
    "    chunks.append(last_chunk)\n",
    "    return(chunks)"
   ]
  },
  {
   "cell_type": "markdown",
   "id": "6a3a8ea6-df4e-45a5-bea2-74d1bab64d78",
   "metadata": {},
   "source": [
    "### Finetuning data preparation"
   ]
  },
  {
   "cell_type": "code",
   "execution_count": 194,
   "id": "57d403b7-a70c-4d05-87d6-b30563711379",
   "metadata": {},
   "outputs": [],
   "source": [
    "def finetune_data_preparation(file_lines, label):\n",
    "    final_list = []\n",
    "    for key,group in it.groupby(file_lines,lambda line: line.startswith('>')):\n",
    "        if not key:\n",
    "            #count= count+1\n",
    "            group = list(group)\n",
    "            stripped_group = list(map(lambda s: s.strip(), group))\n",
    "            concat_group = ' '.join(stripped_group) \n",
    "            concat_group = concat_group.replace(\" \",\"\")\n",
    "            temp_list= create_non_overlap_genome(concat_group, 3000)\n",
    "            final_list.extend(temp_list)\n",
    "    temp_df= pd.DataFrame(final_list, columns= ['Sequence'])\n",
    "    print (\"temp\", temp_df.shape)\n",
    "    temp_df = temp_df.drop_duplicates().reset_index(drop=True)\n",
    "    temp_df['Label']= label\n",
    "    return (temp_df)"
   ]
  },
  {
   "cell_type": "markdown",
   "id": "1e3a37f5-2b97-487a-a29d-34fd808355a8",
   "metadata": {},
   "source": [
    "## Remove contradict entries and save in a `.csv` file"
   ]
  },
  {
   "cell_type": "code",
   "execution_count": 213,
   "id": "5153b63f-ac67-4135-b01a-8b529b87c5e1",
   "metadata": {},
   "outputs": [],
   "source": [
    "def remv_contradict_entries(g, directory):\n",
    "    print (g.shape)\n",
    "    df1= g.groupby('Sequence')\n",
    "    df2= df1.filter(lambda x: len(x) == 1).reset_index(drop=True)\n",
    "    print (df2.groupby('Label').count())\n",
    "    df2.to_csv(\"Finetuned_SARS_\"+directory+\".csv\", index=False)"
   ]
  },
  {
   "cell_type": "code",
   "execution_count": 214,
   "id": "786625c9-e9e6-4940-b584-c969b7ca3121",
   "metadata": {},
   "outputs": [
    {
     "name": "stdout",
     "output_type": "stream",
     "text": [
      "Oceania\n",
      "/home/pratik/Work_directory/SARS_finetuned/Oceania/beta\n",
      "1629323731996.sequences.fasta\n",
      "temp (1960, 1)\n",
      "Final (1010, 2)\n",
      "/home/pratik/Work_directory/SARS_finetuned/Oceania/zeta\n",
      "1629323703456.sequences.fasta\n",
      "temp (140, 1)\n",
      "Final (1128, 2)\n",
      "/home/pratik/Work_directory/SARS_finetuned/Oceania/eta\n",
      "1629324106221.sequences.fasta\n",
      "temp (196, 1)\n",
      "Final (1268, 2)\n",
      "/home/pratik/Work_directory/SARS_finetuned/Oceania/lambda\n",
      "1629324181209.sequences.fasta\n",
      "temp (28, 1)\n",
      "Final (1296, 2)\n",
      "/home/pratik/Work_directory/SARS_finetuned/Oceania/iota\n",
      "1629324129472.sequences.fasta\n",
      "temp (56, 1)\n",
      "Final (1324, 2)\n",
      "/home/pratik/Work_directory/SARS_finetuned/Oceania/delta\n",
      "1629323796416.sequences.fasta\n",
      "temp (16100, 1)\n",
      "Final (6334, 2)\n",
      "/home/pratik/Work_directory/SARS_finetuned/Oceania/gamma\n",
      "1629323757740.sequences.fasta\n",
      "temp (196, 1)\n",
      "Final (6442, 2)\n",
      "/home/pratik/Work_directory/SARS_finetuned/Oceania/kappa\n",
      "1629324155720.sequences.fasta\n",
      "temp (2240, 1)\n",
      "Final (7108, 2)\n",
      "/home/pratik/Work_directory/SARS_finetuned/Oceania/alpha\n",
      "1629323574578.sequences.fasta\n",
      "temp (15876, 1)\n",
      "Final (12776, 2)\n",
      "(12776, 2)\n",
      "       Sequence\n",
      "Label          \n",
      "0          5612\n",
      "1           957\n",
      "2          4970\n",
      "3           103\n",
      "4           132\n",
      "5            19\n",
      "6           641\n",
      "7            24\n",
      "8           104\n"
     ]
    }
   ],
   "source": [
    "for directory in os.listdir():\n",
    "    count =0\n",
    "    print (directory)\n",
    "    final_df= pd.DataFrame(columns= ['Sequence','Label' ])\n",
    "    current_path= os.path.join(parent_dir_path,directory)\n",
    "    #print (current_path)\n",
    "    folders = os.listdir(directory)\n",
    "    for subfolder in folders:\n",
    "        path = os.path.join(current_path, subfolder)\n",
    "        print (path)\n",
    "        files= os.listdir(path)\n",
    "        for file in files:\n",
    "            if file.endswith(\"tar\"):\n",
    "                file_path= os.path.join(path, file)\n",
    "                contents = tarfile.open(file_path)\n",
    "                #print(contents.getnames())\n",
    "                for file_name, file_object in zip(contents.getnames(), contents.getmembers()):\n",
    "                    if file_name.endswith('fasta'):\n",
    "                        print(file_name)\n",
    "                        f=contents.extractfile(file_object)\n",
    "                        file_content=f.readlines()\n",
    "                        file_content_str = [x.decode() for x in file_content]\n",
    "                        label = variant_dict[subfolder]\n",
    "                        temp_df = finetune_data_preparation(file_content_str, label)\n",
    "                        final_df = final_df.append(temp_df, ignore_index=True)\n",
    "                        print (\"Final\",final_df.shape)\n",
    "    remv_contradict_entries(final_df, directory)"
   ]
  },
  {
   "cell_type": "code",
   "execution_count": 206,
   "id": "c9beb834-e1bd-4f7e-8289-1a71b8cf69a6",
   "metadata": {},
   "outputs": [
    {
     "data": {
      "text/plain": [
       "12656"
      ]
     },
     "execution_count": 206,
     "metadata": {},
     "output_type": "execute_result"
    }
   ],
   "source": [
    "test = final_df['Sequence']\n",
    "len(test.drop_duplicates())"
   ]
  },
  {
   "cell_type": "code",
   "execution_count": null,
   "id": "939820a8-175e-4233-aeba-4647a7faa4bc",
   "metadata": {},
   "outputs": [],
   "source": [
    "count =0\n",
    "with open('/Users/pratik/Box/Datasets/20210712_SARS_COV_2_genome/sequences.fasta', 'r') as f:\n",
    "    for line in f:\n",
    "        if(line[0]=='>'):\n",
    "            count = count+1\n",
    "            if(count%100000==0):\n",
    "                print(count)\n",
    "print(\"Total number\", count)"
   ]
  },
  {
   "cell_type": "code",
   "execution_count": 17,
   "id": "56bfb182-029e-40ca-b8b7-fbe508b9753b",
   "metadata": {},
   "outputs": [
    {
     "data": {
      "text/plain": [
       "['KNC', 'LKE', 'NCE', 'MCN', 'VEF', 'KLN', 'HVS', 'LKF', 'NWL']"
      ]
     },
     "execution_count": 17,
     "metadata": {},
     "output_type": "execute_result"
    }
   ],
   "source": [
    "create_non_overlap_genome1('ASKNCLKENCEMCNVEFKLNHVSLKFNWLKF', 3, 2)"
   ]
  },
  {
   "cell_type": "code",
   "execution_count": 13,
   "id": "1bdc1408-e850-4ca8-b89a-348ee1e3aa41",
   "metadata": {},
   "outputs": [
    {
     "data": {
      "text/plain": [
       "3000"
      ]
     },
     "execution_count": 13,
     "metadata": {},
     "output_type": "execute_result"
    }
   ],
   "source": [
    "len(list_genome[0])"
   ]
  },
  {
   "cell_type": "code",
   "execution_count": null,
   "id": "3c4f94c3-6257-4a36-8b99-5f59b560f58d",
   "metadata": {},
   "outputs": [],
   "source": [
    "genome_set= {'AA','TTAT','AAT'}"
   ]
  },
  {
   "cell_type": "code",
   "execution_count": null,
   "id": "a2b753a6-cb0c-4adc-ad26-0be6001ccc5f",
   "metadata": {},
   "outputs": [],
   "source": [
    "genome_set"
   ]
  },
  {
   "cell_type": "code",
   "execution_count": null,
   "id": "fec5aee9-9530-4e2c-9145-7b25f60cec30",
   "metadata": {},
   "outputs": [],
   "source": [
    "genome_set.add('AATT')"
   ]
  },
  {
   "cell_type": "code",
   "execution_count": null,
   "id": "2874129c-0c55-4767-958d-8dc7be48cb1d",
   "metadata": {},
   "outputs": [],
   "source": [
    "genome_set"
   ]
  },
  {
   "cell_type": "code",
   "execution_count": 23,
   "id": "26fe8d4e-b15c-4dae-ae1b-f2ac15d6ad85",
   "metadata": {},
   "outputs": [
    {
     "name": "stdout",
     "output_type": "stream",
     "text": [
      "31\n"
     ]
    }
   ],
   "source": [
    "string= 'ASKNCLKENCEMCNVEFKLNHVSLKFNWLKF'\n",
    "print(len(string))\n",
    "chunk = 3"
   ]
  },
  {
   "cell_type": "code",
   "execution_count": 32,
   "id": "398a1671-6819-47c5-a2bd-5f1609dcb9fd",
   "metadata": {},
   "outputs": [
    {
     "name": "stdout",
     "output_type": "stream",
     "text": [
      "['ASK', 'NCL', 'KEN', 'CEM', 'CNV', 'EFK', 'LNH', 'VSL', 'KFN', 'WLK', 'F']\n"
     ]
    }
   ],
   "source": [
    "l = [string[i:i+3] for i in range(0, len(string), 3)]\n",
    "print (l)"
   ]
  },
  {
   "cell_type": "code",
   "execution_count": 33,
   "id": "2e10819f-79d5-4045-94cd-04228715d6a7",
   "metadata": {},
   "outputs": [
    {
     "data": {
      "text/plain": [
       "['ASK', 'NCL', 'KEN', 'CEM', 'CNV', 'EFK', 'LNH', 'VSL', 'KFN', 'WLK']"
      ]
     },
     "execution_count": 33,
     "metadata": {},
     "output_type": "execute_result"
    }
   ],
   "source": [
    "del l[-1]\n",
    "l"
   ]
  },
  {
   "cell_type": "code",
   "execution_count": 25,
   "id": "99049250-a8b2-4557-a0c3-f10448b21c12",
   "metadata": {},
   "outputs": [
    {
     "name": "stdout",
     "output_type": "stream",
     "text": [
      "['ASK', 'NCL', 'KEN', 'CEM', 'CNV', 'EFK', 'LNH', 'VSL', 'KFN', 'WLK', 'LKF']\n"
     ]
    }
   ],
   "source": [
    "if (len(l[-1])<3):\n",
    "    last_element = string[-3:]\n",
    "    del l[-1]\n",
    "    l.append(last_element)\n",
    "print(l)"
   ]
  },
  {
   "cell_type": "code",
   "execution_count": 26,
   "id": "7cc77014-4878-4ae3-afa4-41e39f52bd8a",
   "metadata": {},
   "outputs": [
    {
     "data": {
      "text/plain": [
       "['ASK', 'NCL', 'KEN', 'CEM', 'CNV', 'EFK', 'LNH', 'VSL', 'KFN', 'WLK', 'LKF']"
      ]
     },
     "execution_count": 26,
     "metadata": {},
     "output_type": "execute_result"
    }
   ],
   "source": [
    "l"
   ]
  },
  {
   "cell_type": "code",
   "execution_count": null,
   "id": "08cf5337-9c90-4688-b091-577ec3681156",
   "metadata": {},
   "outputs": [],
   "source": [
    "s= set()\n",
    "s"
   ]
  },
  {
   "cell_type": "code",
   "execution_count": null,
   "id": "bce7c4fc-3318-4308-8309-cfc717b69da8",
   "metadata": {},
   "outputs": [],
   "source": [
    "s.update(l)"
   ]
  },
  {
   "cell_type": "code",
   "execution_count": null,
   "id": "6e640c8b-7922-4b5d-ba7c-8db7f5a9c07a",
   "metadata": {},
   "outputs": [],
   "source": [
    "s"
   ]
  },
  {
   "cell_type": "code",
   "execution_count": null,
   "id": "f5e822c4-b536-4756-b7e4-d62643f6feb9",
   "metadata": {},
   "outputs": [],
   "source": [
    "l1= ['ASK', 'BBC']"
   ]
  },
  {
   "cell_type": "code",
   "execution_count": null,
   "id": "de461799-2f65-4eee-8d6d-2e64c88db685",
   "metadata": {},
   "outputs": [],
   "source": [
    "s.update(l1)"
   ]
  },
  {
   "cell_type": "code",
   "execution_count": null,
   "id": "9908a3ee-c985-48b2-ac23-d1fdbe26f6ce",
   "metadata": {},
   "outputs": [],
   "source": [
    "s"
   ]
  },
  {
   "cell_type": "code",
   "execution_count": null,
   "id": "edc8b2df-4b52-4d5e-8108-a93e9d979347",
   "metadata": {},
   "outputs": [],
   "source": [
    "l"
   ]
  },
  {
   "cell_type": "code",
   "execution_count": 103,
   "id": "6c8e6675-130a-4fb2-86f1-a9082276a792",
   "metadata": {},
   "outputs": [],
   "source": [
    "df = pd.DataFrame({'Animal': ['Falcon', 'Falcon',\n",
    "                              'Parrot', 'Falcon', 'Parrot','Human'],\n",
    "                   'Max Speed': [380., 370., 24.,370, 26., 1]})"
   ]
  },
  {
   "cell_type": "code",
   "execution_count": 104,
   "id": "504e8dae-7fa2-4fc0-a7d8-e40af4695bd8",
   "metadata": {},
   "outputs": [
    {
     "data": {
      "text/html": [
       "<div>\n",
       "<style scoped>\n",
       "    .dataframe tbody tr th:only-of-type {\n",
       "        vertical-align: middle;\n",
       "    }\n",
       "\n",
       "    .dataframe tbody tr th {\n",
       "        vertical-align: top;\n",
       "    }\n",
       "\n",
       "    .dataframe thead th {\n",
       "        text-align: right;\n",
       "    }\n",
       "</style>\n",
       "<table border=\"1\" class=\"dataframe\">\n",
       "  <thead>\n",
       "    <tr style=\"text-align: right;\">\n",
       "      <th></th>\n",
       "      <th>Animal</th>\n",
       "      <th>Max Speed</th>\n",
       "    </tr>\n",
       "  </thead>\n",
       "  <tbody>\n",
       "    <tr>\n",
       "      <th>0</th>\n",
       "      <td>Falcon</td>\n",
       "      <td>380.0</td>\n",
       "    </tr>\n",
       "    <tr>\n",
       "      <th>1</th>\n",
       "      <td>Falcon</td>\n",
       "      <td>370.0</td>\n",
       "    </tr>\n",
       "    <tr>\n",
       "      <th>2</th>\n",
       "      <td>Parrot</td>\n",
       "      <td>24.0</td>\n",
       "    </tr>\n",
       "    <tr>\n",
       "      <th>3</th>\n",
       "      <td>Falcon</td>\n",
       "      <td>370.0</td>\n",
       "    </tr>\n",
       "    <tr>\n",
       "      <th>4</th>\n",
       "      <td>Parrot</td>\n",
       "      <td>26.0</td>\n",
       "    </tr>\n",
       "    <tr>\n",
       "      <th>5</th>\n",
       "      <td>Human</td>\n",
       "      <td>1.0</td>\n",
       "    </tr>\n",
       "  </tbody>\n",
       "</table>\n",
       "</div>"
      ],
      "text/plain": [
       "   Animal  Max Speed\n",
       "0  Falcon      380.0\n",
       "1  Falcon      370.0\n",
       "2  Parrot       24.0\n",
       "3  Falcon      370.0\n",
       "4  Parrot       26.0\n",
       "5   Human        1.0"
      ]
     },
     "execution_count": 104,
     "metadata": {},
     "output_type": "execute_result"
    }
   ],
   "source": [
    "df"
   ]
  },
  {
   "cell_type": "code",
   "execution_count": 112,
   "id": "752750fe-819a-48ae-bc80-faca5e139ac5",
   "metadata": {},
   "outputs": [
    {
     "data": {
      "text/html": [
       "<div>\n",
       "<style scoped>\n",
       "    .dataframe tbody tr th:only-of-type {\n",
       "        vertical-align: middle;\n",
       "    }\n",
       "\n",
       "    .dataframe tbody tr th {\n",
       "        vertical-align: top;\n",
       "    }\n",
       "\n",
       "    .dataframe thead th {\n",
       "        text-align: right;\n",
       "    }\n",
       "</style>\n",
       "<table border=\"1\" class=\"dataframe\">\n",
       "  <thead>\n",
       "    <tr style=\"text-align: right;\">\n",
       "      <th></th>\n",
       "      <th>Animal</th>\n",
       "      <th>Max Speed</th>\n",
       "    </tr>\n",
       "  </thead>\n",
       "  <tbody>\n",
       "    <tr>\n",
       "      <th>0</th>\n",
       "      <td>Falcon</td>\n",
       "      <td>380.0</td>\n",
       "    </tr>\n",
       "    <tr>\n",
       "      <th>1</th>\n",
       "      <td>Falcon</td>\n",
       "      <td>370.0</td>\n",
       "    </tr>\n",
       "    <tr>\n",
       "      <th>2</th>\n",
       "      <td>Parrot</td>\n",
       "      <td>24.0</td>\n",
       "    </tr>\n",
       "    <tr>\n",
       "      <th>3</th>\n",
       "      <td>Parrot</td>\n",
       "      <td>26.0</td>\n",
       "    </tr>\n",
       "    <tr>\n",
       "      <th>4</th>\n",
       "      <td>Human</td>\n",
       "      <td>1.0</td>\n",
       "    </tr>\n",
       "  </tbody>\n",
       "</table>\n",
       "</div>"
      ],
      "text/plain": [
       "   Animal  Max Speed\n",
       "0  Falcon      380.0\n",
       "1  Falcon      370.0\n",
       "2  Parrot       24.0\n",
       "3  Parrot       26.0\n",
       "4   Human        1.0"
      ]
     },
     "execution_count": 112,
     "metadata": {},
     "output_type": "execute_result"
    }
   ],
   "source": [
    "df.drop_duplicates().reset_index(drop=True)"
   ]
  },
  {
   "cell_type": "code",
   "execution_count": 119,
   "id": "8740a8cc-c6ed-4e9d-b9ba-3a96d3c169fc",
   "metadata": {},
   "outputs": [
    {
     "data": {
      "text/html": [
       "<div>\n",
       "<style scoped>\n",
       "    .dataframe tbody tr th:only-of-type {\n",
       "        vertical-align: middle;\n",
       "    }\n",
       "\n",
       "    .dataframe tbody tr th {\n",
       "        vertical-align: top;\n",
       "    }\n",
       "\n",
       "    .dataframe thead th {\n",
       "        text-align: right;\n",
       "    }\n",
       "</style>\n",
       "<table border=\"1\" class=\"dataframe\">\n",
       "  <thead>\n",
       "    <tr style=\"text-align: right;\">\n",
       "      <th></th>\n",
       "      <th>Animal</th>\n",
       "      <th>Max Speed</th>\n",
       "    </tr>\n",
       "  </thead>\n",
       "  <tbody>\n",
       "    <tr>\n",
       "      <th>0</th>\n",
       "      <td>Human</td>\n",
       "      <td>1.0</td>\n",
       "    </tr>\n",
       "  </tbody>\n",
       "</table>\n",
       "</div>"
      ],
      "text/plain": [
       "  Animal  Max Speed\n",
       "0  Human        1.0"
      ]
     },
     "execution_count": 119,
     "metadata": {},
     "output_type": "execute_result"
    }
   ],
   "source": [
    "g = df.groupby('Animal')\n",
    "g.filter(lambda x: len(x) == 1).reset_index(drop=True)"
   ]
  },
  {
   "cell_type": "code",
   "execution_count": 122,
   "id": "1634ecd0-2b53-42f8-807c-5a536fb94f21",
   "metadata": {},
   "outputs": [
    {
     "data": {
      "text/html": [
       "<div>\n",
       "<style scoped>\n",
       "    .dataframe tbody tr th:only-of-type {\n",
       "        vertical-align: middle;\n",
       "    }\n",
       "\n",
       "    .dataframe tbody tr th {\n",
       "        vertical-align: top;\n",
       "    }\n",
       "\n",
       "    .dataframe thead th {\n",
       "        text-align: right;\n",
       "    }\n",
       "</style>\n",
       "<table border=\"1\" class=\"dataframe\">\n",
       "  <thead>\n",
       "    <tr style=\"text-align: right;\">\n",
       "      <th></th>\n",
       "      <th>Test</th>\n",
       "      <th>label</th>\n",
       "    </tr>\n",
       "  </thead>\n",
       "  <tbody>\n",
       "    <tr>\n",
       "      <th>0</th>\n",
       "      <td>1</td>\n",
       "      <td>0</td>\n",
       "    </tr>\n",
       "    <tr>\n",
       "      <th>1</th>\n",
       "      <td>2</td>\n",
       "      <td>0</td>\n",
       "    </tr>\n",
       "    <tr>\n",
       "      <th>2</th>\n",
       "      <td>3</td>\n",
       "      <td>0</td>\n",
       "    </tr>\n",
       "    <tr>\n",
       "      <th>3</th>\n",
       "      <td>4</td>\n",
       "      <td>0</td>\n",
       "    </tr>\n",
       "    <tr>\n",
       "      <th>4</th>\n",
       "      <td>5</td>\n",
       "      <td>0</td>\n",
       "    </tr>\n",
       "    <tr>\n",
       "      <th>5</th>\n",
       "      <td>6</td>\n",
       "      <td>0</td>\n",
       "    </tr>\n",
       "  </tbody>\n",
       "</table>\n",
       "</div>"
      ],
      "text/plain": [
       "   Test  label\n",
       "0     1      0\n",
       "1     2      0\n",
       "2     3      0\n",
       "3     4      0\n",
       "4     5      0\n",
       "5     6      0"
      ]
     },
     "execution_count": 122,
     "metadata": {},
     "output_type": "execute_result"
    }
   ],
   "source": [
    "l = [1,2,3,4,5,6]\n",
    "df1= pd.DataFrame(l, columns=['Test'])\n",
    "df1\n",
    "df1['label']=0\n",
    "df1"
   ]
  },
  {
   "cell_type": "code",
   "execution_count": null,
   "id": "9bbe8f59-4841-459f-8921-4e94c4ced93b",
   "metadata": {},
   "outputs": [],
   "source": [
    "def list_to_multiple_csv(l):\n",
    "    span = int(len(l)/3)+1\n",
    "    list_of_sublist= [l[x:x+span] for x in range(0, len(l), span)]\n",
    "    print (list_of_sublist)\n",
    "    for i in range(len(list_of_sublist)):\n",
    "        csv_file= \"pretrain_SARS_COV_variant_\"+str(i+1)+\".txt\"\n",
    "        with open(csv_file, \"w\") as outfile:\n",
    "            outfile.write(\"\\n\".join(list_of_sublist[i]))"
   ]
  },
  {
   "cell_type": "code",
   "execution_count": null,
   "id": "df404da1-c522-473d-9d73-606b475f14c2",
   "metadata": {},
   "outputs": [],
   "source": [
    "list_to_multiple_csv(l)"
   ]
  },
  {
   "cell_type": "code",
   "execution_count": null,
   "id": "f4a76407-b018-43b4-8633-aed1c2bd4ce3",
   "metadata": {},
   "outputs": [],
   "source": [
    "                for member in contents.getmembers():\n",
    "                    print (member)\n",
    "                    f=contents.extractfile(member)\n",
    "                    #print (f)\n",
    "                    content=f.readlines()\n",
    "                    #print (content)\n",
    "                    print (\"%s has %d newlines\" %(member, content.count(\"\\n\")))\n",
    "                    print (\"%s has %d spaces\" % (member,content.count(\" \")))\n",
    "                    print (\"%s has %d characters\" % (member, len(content)))\n",
    "                input()\n",
    "                index = {i.name: i for i in contents.getmembers()}\n",
    "                print(index.keys())\n",
    "                for element in index.keys():\n",
    "                    if element.endswith(\"fasta\"):\n",
    "                        print(element)\n",
    "                        fasta_file_path= os.path.join(file_path, element)\n",
    "                        finetune_data_preparation(fasta_file_path)\n",
    "                count =count+1"
   ]
  }
 ],
 "metadata": {
  "kernelspec": {
   "display_name": "Python 3 (ipykernel)",
   "language": "python",
   "name": "python3"
  },
  "language_info": {
   "codemirror_mode": {
    "name": "ipython",
    "version": 3
   },
   "file_extension": ".py",
   "mimetype": "text/x-python",
   "name": "python",
   "nbconvert_exporter": "python",
   "pygments_lexer": "ipython3",
   "version": "3.7.11"
  }
 },
 "nbformat": 4,
 "nbformat_minor": 5
}
