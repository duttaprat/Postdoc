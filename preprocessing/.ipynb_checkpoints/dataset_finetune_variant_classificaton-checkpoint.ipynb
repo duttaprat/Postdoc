{
 "cells": [
  {
   "cell_type": "code",
   "execution_count": 1,
   "id": "c5a68ae0-c012-4194-b4ba-a75311942a43",
   "metadata": {},
   "outputs": [],
   "source": [
    "import os\n",
    "import glob\n",
    "import pandas as pd"
   ]
  },
  {
   "cell_type": "code",
   "execution_count": 2,
   "id": "af835130-df35-4f64-821e-7fe7c252f38f",
   "metadata": {},
   "outputs": [
    {
     "data": {
      "text/plain": [
       "'/Users/pratik/Documents/GitHub/Postdoc/preprocessing'"
      ]
     },
     "execution_count": 2,
     "metadata": {},
     "output_type": "execute_result"
    }
   ],
   "source": [
    "os.getcwd()"
   ]
  },
  {
   "cell_type": "code",
   "execution_count": 3,
   "id": "c9ca4a12-dbef-49df-a6a4-6ca9c7714edd",
   "metadata": {},
   "outputs": [],
   "source": [
    "import itertools as it\n",
    "import time\n",
    "import csv"
   ]
  },
  {
   "cell_type": "code",
   "execution_count": 4,
   "id": "c53f3d6f-5c27-48e1-8878-788500c90d6f",
   "metadata": {},
   "outputs": [],
   "source": [
    "def list_to_multiple_csv(l):\n",
    "    span = int(len(l)/4)+1\n",
    "    list_of_sublist= [l[x:x+span] for x in range(0, len(l), span)]\n",
    "    #print (list_of_sublist)\n",
    "    for i in range(len(list_of_sublist)):\n",
    "        csv_file= \"/Users/pratik/Box/Datasets_shared/Datasets_Zhihan/SARS_CoV2_varaiant_classification/Preatrained/pretrain_SARS_COV_variant_\"+str(i)+\".csv\"\n",
    "        with open(csv_file, \"w\") as outfile:\n",
    "            list_of_sublist[i].insert(0,\"Sequence\")\n",
    "            outfile.write(\"\\n\".join(list_of_sublist[i]))"
   ]
  },
  {
   "cell_type": "code",
   "execution_count": 5,
   "id": "69bf75e9-1de1-4313-b1e4-373babe8b04d",
   "metadata": {},
   "outputs": [],
   "source": [
    "def list_to_multiple_csv1(l):\n",
    "    span = int(len(l)/4)+1\n",
    "    list_of_sublist= [l[x:x+span] for x in range(0, len(l), span)]\n",
    "    #print (list_of_sublist)\n",
    "    for i in range(len(list_of_sublist)):\n",
    "        csv_file= \"/Users/pratik/Box/Datasets_shared/Datasets_Zhihan/SARS_CoV2_varaiant_classification/Preatrained/pretrain_SARS_COV_variant_random_\"+str(i)+\".csv\"\n",
    "        with open(csv_file, \"w\") as outfile:\n",
    "            list_of_sublist[i].insert(0,\"Sequence\")\n",
    "            outfile.write(\"\\n\".join(list_of_sublist[i]))"
   ]
  },
  {
   "cell_type": "markdown",
   "id": "5d91cbec-e158-4508-9cfa-b4f604211ebe",
   "metadata": {},
   "source": [
    "## Creation of pretarined dataset with the window staring position 0 and the chunk is non-overlapping."
   ]
  },
  {
   "cell_type": "code",
   "execution_count": 6,
   "id": "cee4395f-e823-4865-8748-7181f407cb29",
   "metadata": {},
   "outputs": [],
   "source": [
    "def create_non_overlap_genome(sequence, chunk_size):\n",
    "    chunks = [sequence[i:i+chunk_size] for i in range(0, len(sequence), chunk_size)]\n",
    "    last_chunk = sequence[-chunk_size:]\n",
    "    del chunks[-1]\n",
    "    chunks.append(last_chunk)\n",
    "    return(chunks)"
   ]
  },
  {
   "cell_type": "code",
   "execution_count": 41,
   "id": "a8a7a537-7f5e-4637-b391-7815630aa21b",
   "metadata": {
    "tags": []
   },
   "outputs": [
    {
     "name": "stdout",
     "output_type": "stream",
     "text": [
      "32332\n",
      "49245\n",
      "78749\n",
      "101473\n",
      "111832\n",
      "118925\n",
      "128493\n",
      "133942\n",
      "138413\n",
      "168780\n",
      "185035\n",
      "202383\n",
      "217728\n",
      "226101\n",
      "241484\n",
      "252314\n",
      "270873\n",
      "297700\n",
      "309136\n",
      "333085\n",
      "358257\n",
      "385205\n",
      "409684\n",
      "426951\n",
      "448913\n",
      "470812\n",
      "502605\n",
      "533334\n",
      "560152\n",
      "582453\n",
      "605575\n",
      "623439\n",
      "646464\n",
      "674764\n",
      "687174\n",
      "698748\n",
      "734223\n",
      "752529\n",
      "778408\n",
      "803640\n",
      "823869\n",
      "851827\n",
      "867137\n",
      "890776\n",
      "901638\n",
      "926280\n",
      "949657\n",
      "968797\n",
      "990912\n",
      "999890\n",
      "1022466\n",
      "1042635\n",
      "1059917\n",
      "1075571\n",
      "1083813\n",
      "1090192\n",
      "1104615\n",
      "1113477\n",
      "1120153\n",
      "1126147\n",
      "1138996\n",
      "1158358\n",
      "1179608\n",
      "1189953\n",
      "1198108\n",
      "1218306\n",
      "1240280\n",
      "1260787\n",
      "1268763\n",
      "1275786\n",
      "1287638\n",
      "1313305\n",
      "1330985\n",
      "1346843\n",
      "1360472\n",
      "1383973\n",
      "1409772\n",
      "1435865\n",
      "1464435\n",
      "1494499\n",
      "1520668\n",
      "1551698\n",
      "1577690\n",
      "1603284\n",
      "1639144\n",
      "1669627\n",
      "1694720\n",
      "1715492\n",
      "1731871\n",
      "1752687\n",
      "CPU times: user 3min 41s, sys: 27.9 s, total: 4min 9s\n",
      "Wall time: 4min 46s\n"
     ]
    }
   ],
   "source": [
    "%%time\n",
    "chunk_size =3000\n",
    "count= 0\n",
    "temp = 1\n",
    "genome_set= set()\n",
    "with open('/Users/pratik/Box/Datasets/20210712_SARS_COV_2_genome/sequences.fasta', 'r') as f:\n",
    "    for key,group in it.groupby(f,lambda line: line.startswith('>')):\n",
    "        if not key:\n",
    "            count= count+1\n",
    "            group = list(group)\n",
    "            stripped_group = list(map(lambda s: s.strip(), group))\n",
    "            concat_group = ' '.join(stripped_group) \n",
    "            concat_group = concat_group.replace(\" \",\"\")\n",
    "            #print (concat_group)\n",
    "            temp_list = create_non_overlap_genome(concat_group, chunk_size)\n",
    "            genome_set.update(temp_list)\n",
    "            if (count%10000==0):\n",
    "                print(len(genome_set))\n",
    "list_genome= list(genome_set)\n",
    "list_to_multiple_csv(list_genome)"
   ]
  },
  {
   "cell_type": "markdown",
   "id": "adaee20b-b38a-4c38-b3a1-58751c60cd8b",
   "metadata": {},
   "source": [
    "## Create the non-overlapped chunks with random staring position"
   ]
  },
  {
   "cell_type": "code",
   "execution_count": 7,
   "id": "3d6fbadd-0aa7-4a0b-8ae3-04aaab01da04",
   "metadata": {},
   "outputs": [],
   "source": [
    "def create_non_overlap_genome1(sequence, chunk_size, starting_position):\n",
    "    chunks = [sequence[i:i+chunk_size] for i in range(starting_position, len(sequence), chunk_size)]\n",
    "    if(len(chunks)>1):\n",
    "        del chunks[-1]\n",
    "    return(chunks)"
   ]
  },
  {
   "cell_type": "code",
   "execution_count": null,
   "id": "d23eadaf-308d-4fa9-987b-da22f5c03fe9",
   "metadata": {},
   "outputs": [
    {
     "name": "stdout",
     "output_type": "stream",
     "text": [
      "195302\n",
      "296297\n",
      "470346\n",
      "604815\n",
      "665438\n",
      "708260\n",
      "763489\n",
      "795971\n",
      "822931\n",
      "1001891\n",
      "1095484\n",
      "1189332\n",
      "1279021\n",
      "1327251\n",
      "1416395\n",
      "1479784\n",
      "1588203\n",
      "1742893\n",
      "1808641\n",
      "1946277\n",
      "2093267\n",
      "2248811\n",
      "2391182\n",
      "2490498\n",
      "2617470\n",
      "2739917\n",
      "2922409\n",
      "3094554\n",
      "3246077\n",
      "3373128\n",
      "3504078\n",
      "3605384\n",
      "3737364\n",
      "3901893\n",
      "3972052\n",
      "4038912\n",
      "4243533\n",
      "4346948\n",
      "4493645\n",
      "4637891\n",
      "4753650\n",
      "4914502\n",
      "5000410\n",
      "5135310\n",
      "5199231\n",
      "5338757\n",
      "5469749\n",
      "5577710\n",
      "5707438\n",
      "5757243\n",
      "5891580\n",
      "6005984\n",
      "6102828\n",
      "6189279\n",
      "6237455\n",
      "6273755\n",
      "6353455\n",
      "6401825\n",
      "6439570\n",
      "6473105\n",
      "6546441\n",
      "6654483\n",
      "6770922\n",
      "6828840\n",
      "6872991\n",
      "6988744\n",
      "7111534\n",
      "7229988\n",
      "7275397\n",
      "7315473\n",
      "7380914\n",
      "7527670\n",
      "7630061\n",
      "7720073\n",
      "7797561\n",
      "7934981\n",
      "8085062\n",
      "8235339\n",
      "8398930\n",
      "8572598\n",
      "8722276\n",
      "8902452\n",
      "9050871\n",
      "9195342\n",
      "9401592\n",
      "9575462\n",
      "9720081\n",
      "9838273\n",
      "9931207\n",
      "10048064\n"
     ]
    }
   ],
   "source": [
    "%%time\n",
    "chunk_size =3000\n",
    "count= 0\n",
    "temp = 1\n",
    "genome_set= set()\n",
    "with open('/Users/pratik/Box/Datasets/20210712_SARS_COV_2_genome/sequences.fasta', 'r') as f:\n",
    "    for key,group in it.groupby(f,lambda line: line.startswith('>')):\n",
    "        if not key:\n",
    "            count= count+1\n",
    "            group = list(group)\n",
    "            stripped_group = list(map(lambda s: s.strip(), group))\n",
    "            concat_group = ' '.join(stripped_group) \n",
    "            concat_group = concat_group.replace(\" \",\"\")\n",
    "            #print (concat_group)\n",
    "            sp_list= [100, 200, 300, 400, 500, 600, 700]\n",
    "            for sp in sp_list:\n",
    "                temp_list = create_non_overlap_genome1(concat_group, chunk_size, sp)\n",
    "                genome_set.update(temp_list)\n",
    "            if (count%10000==0):\n",
    "                print(len(genome_set))\n",
    "list_genome1= list(genome_set)\n",
    "list_to_multiple_csv1(list_genome1)"
   ]
  },
  {
   "cell_type": "code",
   "execution_count": null,
   "id": "c9beb834-e1bd-4f7e-8289-1a71b8cf69a6",
   "metadata": {},
   "outputs": [],
   "source": []
  },
  {
   "cell_type": "code",
   "execution_count": null,
   "id": "939820a8-175e-4233-aeba-4647a7faa4bc",
   "metadata": {},
   "outputs": [],
   "source": [
    "count =0\n",
    "with open('/Users/pratik/Box/Datasets/20210712_SARS_COV_2_genome/sequences.fasta', 'r') as f:\n",
    "    for line in f:\n",
    "        if(line[0]=='>'):\n",
    "            count = count+1\n",
    "            if(count%100000==0):\n",
    "                print(count)\n",
    "print(\"Total number\", count)"
   ]
  },
  {
   "cell_type": "code",
   "execution_count": 17,
   "id": "56bfb182-029e-40ca-b8b7-fbe508b9753b",
   "metadata": {},
   "outputs": [
    {
     "data": {
      "text/plain": [
       "['KNC', 'LKE', 'NCE', 'MCN', 'VEF', 'KLN', 'HVS', 'LKF', 'NWL']"
      ]
     },
     "execution_count": 17,
     "metadata": {},
     "output_type": "execute_result"
    }
   ],
   "source": [
    "create_non_overlap_genome1('ASKNCLKENCEMCNVEFKLNHVSLKFNWLKF', 3, 2)"
   ]
  },
  {
   "cell_type": "code",
   "execution_count": 13,
   "id": "1bdc1408-e850-4ca8-b89a-348ee1e3aa41",
   "metadata": {},
   "outputs": [
    {
     "data": {
      "text/plain": [
       "3000"
      ]
     },
     "execution_count": 13,
     "metadata": {},
     "output_type": "execute_result"
    }
   ],
   "source": [
    "len(list_genome[0])"
   ]
  },
  {
   "cell_type": "code",
   "execution_count": null,
   "id": "3c4f94c3-6257-4a36-8b99-5f59b560f58d",
   "metadata": {},
   "outputs": [],
   "source": [
    "genome_set= {'AA','TTAT','AAT'}"
   ]
  },
  {
   "cell_type": "code",
   "execution_count": null,
   "id": "a2b753a6-cb0c-4adc-ad26-0be6001ccc5f",
   "metadata": {},
   "outputs": [],
   "source": [
    "genome_set"
   ]
  },
  {
   "cell_type": "code",
   "execution_count": null,
   "id": "fec5aee9-9530-4e2c-9145-7b25f60cec30",
   "metadata": {},
   "outputs": [],
   "source": [
    "genome_set.add('AATT')"
   ]
  },
  {
   "cell_type": "code",
   "execution_count": null,
   "id": "2874129c-0c55-4767-958d-8dc7be48cb1d",
   "metadata": {},
   "outputs": [],
   "source": [
    "genome_set"
   ]
  },
  {
   "cell_type": "code",
   "execution_count": 23,
   "id": "26fe8d4e-b15c-4dae-ae1b-f2ac15d6ad85",
   "metadata": {},
   "outputs": [
    {
     "name": "stdout",
     "output_type": "stream",
     "text": [
      "31\n"
     ]
    }
   ],
   "source": [
    "string= 'ASKNCLKENCEMCNVEFKLNHVSLKFNWLKF'\n",
    "print(len(string))\n",
    "chunk = 3"
   ]
  },
  {
   "cell_type": "code",
   "execution_count": 32,
   "id": "398a1671-6819-47c5-a2bd-5f1609dcb9fd",
   "metadata": {},
   "outputs": [
    {
     "name": "stdout",
     "output_type": "stream",
     "text": [
      "['ASK', 'NCL', 'KEN', 'CEM', 'CNV', 'EFK', 'LNH', 'VSL', 'KFN', 'WLK', 'F']\n"
     ]
    }
   ],
   "source": [
    "l = [string[i:i+3] for i in range(0, len(string), 3)]\n",
    "print (l)"
   ]
  },
  {
   "cell_type": "code",
   "execution_count": 33,
   "id": "2e10819f-79d5-4045-94cd-04228715d6a7",
   "metadata": {},
   "outputs": [
    {
     "data": {
      "text/plain": [
       "['ASK', 'NCL', 'KEN', 'CEM', 'CNV', 'EFK', 'LNH', 'VSL', 'KFN', 'WLK']"
      ]
     },
     "execution_count": 33,
     "metadata": {},
     "output_type": "execute_result"
    }
   ],
   "source": [
    "del l[-1]\n",
    "l"
   ]
  },
  {
   "cell_type": "code",
   "execution_count": 25,
   "id": "99049250-a8b2-4557-a0c3-f10448b21c12",
   "metadata": {},
   "outputs": [
    {
     "name": "stdout",
     "output_type": "stream",
     "text": [
      "['ASK', 'NCL', 'KEN', 'CEM', 'CNV', 'EFK', 'LNH', 'VSL', 'KFN', 'WLK', 'LKF']\n"
     ]
    }
   ],
   "source": [
    "if (len(l[-1])<3):\n",
    "    last_element = string[-3:]\n",
    "    del l[-1]\n",
    "    l.append(last_element)\n",
    "print(l)"
   ]
  },
  {
   "cell_type": "code",
   "execution_count": 26,
   "id": "7cc77014-4878-4ae3-afa4-41e39f52bd8a",
   "metadata": {},
   "outputs": [
    {
     "data": {
      "text/plain": [
       "['ASK', 'NCL', 'KEN', 'CEM', 'CNV', 'EFK', 'LNH', 'VSL', 'KFN', 'WLK', 'LKF']"
      ]
     },
     "execution_count": 26,
     "metadata": {},
     "output_type": "execute_result"
    }
   ],
   "source": [
    "l"
   ]
  },
  {
   "cell_type": "code",
   "execution_count": null,
   "id": "08cf5337-9c90-4688-b091-577ec3681156",
   "metadata": {},
   "outputs": [],
   "source": [
    "s= set()\n",
    "s"
   ]
  },
  {
   "cell_type": "code",
   "execution_count": null,
   "id": "bce7c4fc-3318-4308-8309-cfc717b69da8",
   "metadata": {},
   "outputs": [],
   "source": [
    "s.update(l)"
   ]
  },
  {
   "cell_type": "code",
   "execution_count": null,
   "id": "6e640c8b-7922-4b5d-ba7c-8db7f5a9c07a",
   "metadata": {},
   "outputs": [],
   "source": [
    "s"
   ]
  },
  {
   "cell_type": "code",
   "execution_count": null,
   "id": "f5e822c4-b536-4756-b7e4-d62643f6feb9",
   "metadata": {},
   "outputs": [],
   "source": [
    "l1= ['ASK', 'BBC']"
   ]
  },
  {
   "cell_type": "code",
   "execution_count": null,
   "id": "de461799-2f65-4eee-8d6d-2e64c88db685",
   "metadata": {},
   "outputs": [],
   "source": [
    "s.update(l1)"
   ]
  },
  {
   "cell_type": "code",
   "execution_count": null,
   "id": "9908a3ee-c985-48b2-ac23-d1fdbe26f6ce",
   "metadata": {},
   "outputs": [],
   "source": [
    "s"
   ]
  },
  {
   "cell_type": "code",
   "execution_count": null,
   "id": "edc8b2df-4b52-4d5e-8108-a93e9d979347",
   "metadata": {},
   "outputs": [],
   "source": [
    "l"
   ]
  },
  {
   "cell_type": "code",
   "execution_count": null,
   "id": "9bbe8f59-4841-459f-8921-4e94c4ced93b",
   "metadata": {},
   "outputs": [],
   "source": [
    "def list_to_multiple_csv(l):\n",
    "    span = int(len(l)/3)+1\n",
    "    list_of_sublist= [l[x:x+span] for x in range(0, len(l), span)]\n",
    "    print (list_of_sublist)\n",
    "    for i in range(len(list_of_sublist)):\n",
    "        csv_file= \"pretrain_SARS_COV_variant_\"+str(i+1)+\".txt\"\n",
    "        with open(csv_file, \"w\") as outfile:\n",
    "            outfile.write(\"\\n\".join(list_of_sublist[i]))"
   ]
  },
  {
   "cell_type": "code",
   "execution_count": null,
   "id": "df404da1-c522-473d-9d73-606b475f14c2",
   "metadata": {},
   "outputs": [],
   "source": [
    "list_to_multiple_csv(l)"
   ]
  },
  {
   "cell_type": "code",
   "execution_count": null,
   "id": "f4a76407-b018-43b4-8633-aed1c2bd4ce3",
   "metadata": {},
   "outputs": [],
   "source": []
  }
 ],
 "metadata": {
  "kernelspec": {
   "display_name": "Python 3 (ipykernel)",
   "language": "python",
   "name": "python3"
  },
  "language_info": {
   "codemirror_mode": {
    "name": "ipython",
    "version": 3
   },
   "file_extension": ".py",
   "mimetype": "text/x-python",
   "name": "python",
   "nbconvert_exporter": "python",
   "pygments_lexer": "ipython3",
   "version": "3.7.11"
  }
 },
 "nbformat": 4,
 "nbformat_minor": 5
}
