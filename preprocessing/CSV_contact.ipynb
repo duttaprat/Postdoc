{
 "cells": [
  {
   "cell_type": "code",
   "execution_count": 1,
   "id": "448baa3a",
   "metadata": {},
   "outputs": [],
   "source": [
    "import os\n",
    "import glob\n",
    "import pandas as pd\n",
    "# os.chdir(\"/directory\")"
   ]
  },
  {
   "cell_type": "code",
   "execution_count": 2,
   "id": "be8c2a38",
   "metadata": {},
   "outputs": [],
   "source": [
    "os.chdir(\"viral_genomes\")"
   ]
  },
  {
   "cell_type": "code",
   "execution_count": 3,
   "id": "b09ce719",
   "metadata": {},
   "outputs": [],
   "source": [
    "file_extension = '.csv'\n",
    "all_filenames = [i for i in glob.glob(f\"*{file_extension}\")]"
   ]
  },
  {
   "cell_type": "code",
   "execution_count": 4,
   "id": "007fd224",
   "metadata": {},
   "outputs": [
    {
     "data": {
      "text/plain": [
       "['Virus_classification_entire_data_4.csv',\n",
       " 'Virus_classification_entire_data_5.csv',\n",
       " 'Virus_classification_entire_data_6.csv',\n",
       " 'Virus_classification_entire_data_2.csv',\n",
       " 'Virus_classification_entire_data_3.csv',\n",
       " 'Virus_classification_entire_data_1.csv',\n",
       " 'Virus_classification_entire_data_0.csv']"
      ]
     },
     "execution_count": 4,
     "metadata": {},
     "output_type": "execute_result"
    }
   ],
   "source": [
    "all_filenames"
   ]
  },
  {
   "cell_type": "code",
   "execution_count": 5,
   "id": "9a95bad3",
   "metadata": {},
   "outputs": [
    {
     "data": {
      "text/plain": [
       "['Virus_classification_entire_data_0.csv',\n",
       " 'Virus_classification_entire_data_1.csv',\n",
       " 'Virus_classification_entire_data_2.csv',\n",
       " 'Virus_classification_entire_data_3.csv',\n",
       " 'Virus_classification_entire_data_4.csv',\n",
       " 'Virus_classification_entire_data_5.csv',\n",
       " 'Virus_classification_entire_data_6.csv']"
      ]
     },
     "execution_count": 5,
     "metadata": {},
     "output_type": "execute_result"
    }
   ],
   "source": [
    "all_filenames.sort()\n",
    "all_filenames"
   ]
  },
  {
   "cell_type": "code",
   "execution_count": null,
   "id": "928f4582",
   "metadata": {},
   "outputs": [],
   "source": [
    "combined_csv_data = pd.concat([pd.read_csv(f) for f in all_filenames])\n",
    "combined_csv_data.drop_duplicates()"
   ]
  },
  {
   "cell_type": "code",
   "execution_count": null,
   "id": "e7fc4b13",
   "metadata": {},
   "outputs": [],
   "source": [
    "combined_csv_data.to_csv(\"../Virus_classification_data.csv\", index= False)"
   ]
  },
  {
   "cell_type": "code",
   "execution_count": null,
   "id": "e9bbcb03",
   "metadata": {},
   "outputs": [],
   "source": []
  }
 ],
 "metadata": {
  "kernelspec": {
   "display_name": "Python 3",
   "language": "python",
   "name": "python3"
  },
  "language_info": {
   "codemirror_mode": {
    "name": "ipython",
    "version": 3
   },
   "file_extension": ".py",
   "mimetype": "text/x-python",
   "name": "python",
   "nbconvert_exporter": "python",
   "pygments_lexer": "ipython3",
   "version": "3.8.8"
  }
 },
 "nbformat": 4,
 "nbformat_minor": 5
}
