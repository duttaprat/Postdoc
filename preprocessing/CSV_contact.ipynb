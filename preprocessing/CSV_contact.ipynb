{
 "cells": [
  {
   "cell_type": "code",
   "execution_count": 1,
   "id": "448baa3a",
   "metadata": {},
   "outputs": [],
   "source": [
    "import os\n",
    "import glob\n",
    "import pandas as pd\n",
    "# os.chdir(\"/directory\")"
   ]
  },
  {
   "cell_type": "code",
   "execution_count": 8,
   "id": "be8c2a38",
   "metadata": {},
   "outputs": [],
   "source": [
    "os.chdir(\"/home/pratik/Work_directory/SARS_finetuned/\")"
   ]
  },
  {
   "cell_type": "code",
   "execution_count": 9,
   "id": "b09ce719",
   "metadata": {},
   "outputs": [],
   "source": [
    "file_extension = '.csv'\n",
    "all_filenames = [i for i in glob.glob(f\"*{file_extension}\")]"
   ]
  },
  {
   "cell_type": "code",
   "execution_count": 10,
   "id": "007fd224",
   "metadata": {},
   "outputs": [
    {
     "data": {
      "text/plain": [
       "['Finetuned_SARS_Oceania.csv',\n",
       " 'Finetuned_SARS_Europe.csv',\n",
       " 'Finetuned_SARS_Asia.csv',\n",
       " 'Finetuned_SARS_South America.csv',\n",
       " 'Finetuned_SARS_Africa.csv',\n",
       " 'Finetuned_SARS_North America.csv']"
      ]
     },
     "execution_count": 10,
     "metadata": {},
     "output_type": "execute_result"
    }
   ],
   "source": [
    "all_filenames"
   ]
  },
  {
   "cell_type": "code",
   "execution_count": 11,
   "id": "9a95bad3",
   "metadata": {},
   "outputs": [
    {
     "data": {
      "text/plain": [
       "['Finetuned_SARS_Africa.csv',\n",
       " 'Finetuned_SARS_Asia.csv',\n",
       " 'Finetuned_SARS_Europe.csv',\n",
       " 'Finetuned_SARS_North America.csv',\n",
       " 'Finetuned_SARS_Oceania.csv',\n",
       " 'Finetuned_SARS_South America.csv']"
      ]
     },
     "execution_count": 11,
     "metadata": {},
     "output_type": "execute_result"
    }
   ],
   "source": [
    "all_filenames.sort()\n",
    "all_filenames"
   ]
  },
  {
   "cell_type": "code",
   "execution_count": 13,
   "id": "928f4582",
   "metadata": {},
   "outputs": [
    {
     "data": {
      "text/html": [
       "<div>\n",
       "<style scoped>\n",
       "    .dataframe tbody tr th:only-of-type {\n",
       "        vertical-align: middle;\n",
       "    }\n",
       "\n",
       "    .dataframe tbody tr th {\n",
       "        vertical-align: top;\n",
       "    }\n",
       "\n",
       "    .dataframe thead th {\n",
       "        text-align: right;\n",
       "    }\n",
       "</style>\n",
       "<table border=\"1\" class=\"dataframe\">\n",
       "  <thead>\n",
       "    <tr style=\"text-align: right;\">\n",
       "      <th></th>\n",
       "      <th>Sequence</th>\n",
       "      <th>Label</th>\n",
       "    </tr>\n",
       "  </thead>\n",
       "  <tbody>\n",
       "    <tr>\n",
       "      <th>0</th>\n",
       "      <td>TAAACGAACTTTAAAATCTGTGTGGCTGTCACTCGGCTGCATGCTT...</td>\n",
       "      <td>1</td>\n",
       "    </tr>\n",
       "    <tr>\n",
       "      <th>1</th>\n",
       "      <td>TGATTGTGAAGAAGAAGAGTTTGAGCCATCAACTCAATATGAGTAT...</td>\n",
       "      <td>1</td>\n",
       "    </tr>\n",
       "    <tr>\n",
       "      <th>2</th>\n",
       "      <td>TATCAAATTTGCTGATGATTTAAACCAGTTAACTGGTTATAAGAAA...</td>\n",
       "      <td>1</td>\n",
       "    </tr>\n",
       "    <tr>\n",
       "      <th>3</th>\n",
       "      <td>TGATACCAATGTACTAGAAGGTTCTGTTGCTTATGAAAGTTTACGC...</td>\n",
       "      <td>1</td>\n",
       "    </tr>\n",
       "    <tr>\n",
       "      <th>4</th>\n",
       "      <td>CAGGGCAACCTTACAAGCTATAGCCTCAGAGTTTAGTTCCCTTCCA...</td>\n",
       "      <td>1</td>\n",
       "    </tr>\n",
       "    <tr>\n",
       "      <th>...</th>\n",
       "      <td>...</td>\n",
       "      <td>...</td>\n",
       "    </tr>\n",
       "    <tr>\n",
       "      <th>277313</th>\n",
       "      <td>GTATTCTACACTCCAGGGACCACCTGGTACTGGTAAGAGTCATTTT...</td>\n",
       "      <td>0</td>\n",
       "    </tr>\n",
       "    <tr>\n",
       "      <th>277314</th>\n",
       "      <td>TAAAGGTTTACAACCATCTGTAGGTCCCAAACAAGCTAGTCTTAAT...</td>\n",
       "      <td>0</td>\n",
       "    </tr>\n",
       "    <tr>\n",
       "      <th>277315</th>\n",
       "      <td>GTTACCAACCATACAGAGTAGTAGTACTTTCTTTTGAACTTCTACA...</td>\n",
       "      <td>0</td>\n",
       "    </tr>\n",
       "    <tr>\n",
       "      <th>277316</th>\n",
       "      <td>TGTTACCTTCTTCATCTACAATAAAATTGTTGATGAGCCTGAAGAA...</td>\n",
       "      <td>0</td>\n",
       "    </tr>\n",
       "    <tr>\n",
       "      <th>277317</th>\n",
       "      <td>NNNNNNNNNNNNNNNNNNNNNNNNNTCCAGAAACTAACATTCTTCT...</td>\n",
       "      <td>0</td>\n",
       "    </tr>\n",
       "  </tbody>\n",
       "</table>\n",
       "<p>277318 rows × 2 columns</p>\n",
       "</div>"
      ],
      "text/plain": [
       "                                                 Sequence  Label\n",
       "0       TAAACGAACTTTAAAATCTGTGTGGCTGTCACTCGGCTGCATGCTT...      1\n",
       "1       TGATTGTGAAGAAGAAGAGTTTGAGCCATCAACTCAATATGAGTAT...      1\n",
       "2       TATCAAATTTGCTGATGATTTAAACCAGTTAACTGGTTATAAGAAA...      1\n",
       "3       TGATACCAATGTACTAGAAGGTTCTGTTGCTTATGAAAGTTTACGC...      1\n",
       "4       CAGGGCAACCTTACAAGCTATAGCCTCAGAGTTTAGTTCCCTTCCA...      1\n",
       "...                                                   ...    ...\n",
       "277313  GTATTCTACACTCCAGGGACCACCTGGTACTGGTAAGAGTCATTTT...      0\n",
       "277314  TAAAGGTTTACAACCATCTGTAGGTCCCAAACAAGCTAGTCTTAAT...      0\n",
       "277315  GTTACCAACCATACAGAGTAGTAGTACTTTCTTTTGAACTTCTACA...      0\n",
       "277316  TGTTACCTTCTTCATCTACAATAAAATTGTTGATGAGCCTGAAGAA...      0\n",
       "277317  NNNNNNNNNNNNNNNNNNNNNNNNNTCCAGAAACTAACATTCTTCT...      0\n",
       "\n",
       "[277318 rows x 2 columns]"
      ]
     },
     "execution_count": 13,
     "metadata": {},
     "output_type": "execute_result"
    }
   ],
   "source": [
    "combined_csv_data = pd.concat([pd.read_csv(f) for f in all_filenames])\n",
    "combined_csv_data.drop_duplicates().reset_index(drop=True)"
   ]
  },
  {
   "cell_type": "code",
   "execution_count": 14,
   "id": "51ff0df6-7242-4d36-bd3e-0c46a5b92b82",
   "metadata": {},
   "outputs": [
    {
     "name": "stdout",
     "output_type": "stream",
     "text": [
      "       Sequence\n",
      "Label          \n",
      "0         45278\n",
      "1         78631\n",
      "2         19219\n",
      "3         29590\n",
      "4         12991\n",
      "5          5589\n",
      "6         40838\n",
      "7          6116\n",
      "8         56654\n"
     ]
    }
   ],
   "source": [
    "print (combined_csv_data.groupby('Label').count())"
   ]
  },
  {
   "cell_type": "code",
   "execution_count": 15,
   "id": "e7fc4b13",
   "metadata": {},
   "outputs": [],
   "source": [
    "combined_csv_data.to_csv(\"../SARS_variant_classification_finetune_data.csv\", index= False)"
   ]
  },
  {
   "cell_type": "code",
   "execution_count": null,
   "id": "e9bbcb03",
   "metadata": {},
   "outputs": [],
   "source": []
  }
 ],
 "metadata": {
  "kernelspec": {
   "display_name": "Python 3 (ipykernel)",
   "language": "python",
   "name": "python3"
  },
  "language_info": {
   "codemirror_mode": {
    "name": "ipython",
    "version": 3
   },
   "file_extension": ".py",
   "mimetype": "text/x-python",
   "name": "python",
   "nbconvert_exporter": "python",
   "pygments_lexer": "ipython3",
   "version": "3.7.11"
  }
 },
 "nbformat": 4,
 "nbformat_minor": 5
}
