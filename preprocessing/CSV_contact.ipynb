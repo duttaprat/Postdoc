{
 "cells": [
  {
   "cell_type": "code",
   "execution_count": 16,
   "id": "448baa3a",
   "metadata": {},
   "outputs": [],
   "source": [
    "import os\n",
    "import glob\n",
    "import pandas as pd\n",
    "# os.chdir(\"/directory\")"
   ]
  },
  {
   "cell_type": "code",
   "execution_count": 17,
   "id": "be8c2a38",
   "metadata": {},
   "outputs": [],
   "source": [
    "os.chdir(\"/home/pratik/Work_directory/SARS_finetuned/1000_chunk_size\")"
   ]
  },
  {
   "cell_type": "code",
   "execution_count": 18,
   "id": "b09ce719",
   "metadata": {},
   "outputs": [],
   "source": [
    "file_extension = '.csv'\n",
    "all_filenames = [i for i in glob.glob(f\"*{file_extension}\")]"
   ]
  },
  {
   "cell_type": "code",
   "execution_count": 19,
   "id": "007fd224",
   "metadata": {},
   "outputs": [
    {
     "data": {
      "text/plain": [
       "['Finetuned_SARS_Oceania.csv',\n",
       " 'Finetuned_SARS_Europe.csv',\n",
       " 'Finetuned_SARS_Asia.csv',\n",
       " 'Finetuned_SARS_South America.csv',\n",
       " 'Finetuned_SARS_Africa.csv',\n",
       " 'Finetuned_SARS_North America.csv']"
      ]
     },
     "execution_count": 19,
     "metadata": {},
     "output_type": "execute_result"
    }
   ],
   "source": [
    "all_filenames"
   ]
  },
  {
   "cell_type": "code",
   "execution_count": 20,
   "id": "9a95bad3",
   "metadata": {},
   "outputs": [
    {
     "data": {
      "text/plain": [
       "['Finetuned_SARS_Africa.csv',\n",
       " 'Finetuned_SARS_Asia.csv',\n",
       " 'Finetuned_SARS_Europe.csv',\n",
       " 'Finetuned_SARS_North America.csv',\n",
       " 'Finetuned_SARS_Oceania.csv',\n",
       " 'Finetuned_SARS_South America.csv']"
      ]
     },
     "execution_count": 20,
     "metadata": {},
     "output_type": "execute_result"
    }
   ],
   "source": [
    "all_filenames.sort()\n",
    "all_filenames"
   ]
  },
  {
   "cell_type": "code",
   "execution_count": 21,
   "id": "928f4582",
   "metadata": {},
   "outputs": [
    {
     "data": {
      "text/html": [
       "<div>\n",
       "<style scoped>\n",
       "    .dataframe tbody tr th:only-of-type {\n",
       "        vertical-align: middle;\n",
       "    }\n",
       "\n",
       "    .dataframe tbody tr th {\n",
       "        vertical-align: top;\n",
       "    }\n",
       "\n",
       "    .dataframe thead th {\n",
       "        text-align: right;\n",
       "    }\n",
       "</style>\n",
       "<table border=\"1\" class=\"dataframe\">\n",
       "  <thead>\n",
       "    <tr style=\"text-align: right;\">\n",
       "      <th></th>\n",
       "      <th>Sequence</th>\n",
       "      <th>Label</th>\n",
       "    </tr>\n",
       "  </thead>\n",
       "  <tbody>\n",
       "    <tr>\n",
       "      <th>0</th>\n",
       "      <td>TAAACGAACTTTAAAATCTGTGTGGCTGTCACTCGGCTGCATGCTT...</td>\n",
       "      <td>1</td>\n",
       "    </tr>\n",
       "    <tr>\n",
       "      <th>1</th>\n",
       "      <td>TTACAGGTGGTGTTGTTCAGTTGACTTCGCAGTGGCTAACTAACAT...</td>\n",
       "      <td>1</td>\n",
       "    </tr>\n",
       "    <tr>\n",
       "      <th>2</th>\n",
       "      <td>GAGCTGATGTTACTAAAATAAAACCTCATAATTCACATGAAGGTAA...</td>\n",
       "      <td>1</td>\n",
       "    </tr>\n",
       "    <tr>\n",
       "      <th>3</th>\n",
       "      <td>GAAGGCTATTTGAACTCTACTAATGTCACTATTGCAACCTACTGTA...</td>\n",
       "      <td>1</td>\n",
       "    </tr>\n",
       "    <tr>\n",
       "      <th>4</th>\n",
       "      <td>TGATACCAATGTACTAGAAGGTTCTGTTGCTTATGAAAGTTTACGC...</td>\n",
       "      <td>1</td>\n",
       "    </tr>\n",
       "    <tr>\n",
       "      <th>...</th>\n",
       "      <td>...</td>\n",
       "      <td>...</td>\n",
       "    </tr>\n",
       "    <tr>\n",
       "      <th>360395</th>\n",
       "      <td>GTTGTCCTGCTGAAATTGTTGACACTGTGAGTGCTTTGGTTTATGA...</td>\n",
       "      <td>0</td>\n",
       "    </tr>\n",
       "    <tr>\n",
       "      <th>360396</th>\n",
       "      <td>TGCGCTAGTTATCAGACTCAGACTAATTCTCATCGGCGGGCACGTA...</td>\n",
       "      <td>0</td>\n",
       "    </tr>\n",
       "    <tr>\n",
       "      <th>360397</th>\n",
       "      <td>ATTAAAAGAATTACTGCAAAATGGTATGAATGGACGTACCATATTG...</td>\n",
       "      <td>0</td>\n",
       "    </tr>\n",
       "    <tr>\n",
       "      <th>360398</th>\n",
       "      <td>GTTTACCGAGGTACAACAACTTACAAATTAAATGTTGGTGATTATT...</td>\n",
       "      <td>0</td>\n",
       "    </tr>\n",
       "    <tr>\n",
       "      <th>360399</th>\n",
       "      <td>GCTGTTGAACAAGACAAAAACACCCAAGAAGTTTTCGCACAAGTCA...</td>\n",
       "      <td>0</td>\n",
       "    </tr>\n",
       "  </tbody>\n",
       "</table>\n",
       "<p>360400 rows × 2 columns</p>\n",
       "</div>"
      ],
      "text/plain": [
       "                                                 Sequence  Label\n",
       "0       TAAACGAACTTTAAAATCTGTGTGGCTGTCACTCGGCTGCATGCTT...      1\n",
       "1       TTACAGGTGGTGTTGTTCAGTTGACTTCGCAGTGGCTAACTAACAT...      1\n",
       "2       GAGCTGATGTTACTAAAATAAAACCTCATAATTCACATGAAGGTAA...      1\n",
       "3       GAAGGCTATTTGAACTCTACTAATGTCACTATTGCAACCTACTGTA...      1\n",
       "4       TGATACCAATGTACTAGAAGGTTCTGTTGCTTATGAAAGTTTACGC...      1\n",
       "...                                                   ...    ...\n",
       "360395  GTTGTCCTGCTGAAATTGTTGACACTGTGAGTGCTTTGGTTTATGA...      0\n",
       "360396  TGCGCTAGTTATCAGACTCAGACTAATTCTCATCGGCGGGCACGTA...      0\n",
       "360397  ATTAAAAGAATTACTGCAAAATGGTATGAATGGACGTACCATATTG...      0\n",
       "360398  GTTTACCGAGGTACAACAACTTACAAATTAAATGTTGGTGATTATT...      0\n",
       "360399  GCTGTTGAACAAGACAAAAACACCCAAGAAGTTTTCGCACAAGTCA...      0\n",
       "\n",
       "[360400 rows x 2 columns]"
      ]
     },
     "execution_count": 21,
     "metadata": {},
     "output_type": "execute_result"
    }
   ],
   "source": [
    "combined_csv_data = pd.concat([pd.read_csv(f) for f in all_filenames])\n",
    "combined_csv_data.drop_duplicates().reset_index(drop=True)"
   ]
  },
  {
   "cell_type": "code",
   "execution_count": 22,
   "id": "51ff0df6-7242-4d36-bd3e-0c46a5b92b82",
   "metadata": {},
   "outputs": [
    {
     "name": "stdout",
     "output_type": "stream",
     "text": [
      "       Sequence\n",
      "Label          \n",
      "0         60894\n",
      "1        101661\n",
      "2         30246\n",
      "3         38129\n",
      "4         21431\n",
      "5          7515\n",
      "6         53154\n",
      "7          9312\n",
      "8         75979\n"
     ]
    }
   ],
   "source": [
    "print (combined_csv_data.groupby('Label').count())"
   ]
  },
  {
   "cell_type": "code",
   "execution_count": 23,
   "id": "e7fc4b13",
   "metadata": {},
   "outputs": [],
   "source": [
    "combined_csv_data.to_csv(\"../SARS_variant_classification_finetune_data_1000.csv\", index= False)"
   ]
  },
  {
   "cell_type": "code",
   "execution_count": null,
   "id": "e9bbcb03",
   "metadata": {},
   "outputs": [],
   "source": []
  }
 ],
 "metadata": {
  "kernelspec": {
   "display_name": "Python 3 (ipykernel)",
   "language": "python",
   "name": "python3"
  },
  "language_info": {
   "codemirror_mode": {
    "name": "ipython",
    "version": 3
   },
   "file_extension": ".py",
   "mimetype": "text/x-python",
   "name": "python",
   "nbconvert_exporter": "python",
   "pygments_lexer": "ipython3",
   "version": "3.7.11"
  }
 },
 "nbformat": 4,
 "nbformat_minor": 5
}
