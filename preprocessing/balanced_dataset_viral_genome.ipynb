{
 "cells": [
  {
   "cell_type": "code",
   "execution_count": 1,
   "id": "169f1556-2f43-4588-a640-c494e5577d21",
   "metadata": {},
   "outputs": [],
   "source": [
    "import os\n",
    "import pandas as pd\n",
    "import random"
   ]
  },
  {
   "cell_type": "code",
   "execution_count": 2,
   "id": "d1eeb854-bf9b-44aa-8cde-7c11d73d7493",
   "metadata": {},
   "outputs": [],
   "source": [
    "df= pd.read_csv(\"/Users/pratik/Box/Datasets_shared/Datasets_Zhihan/Virus_classification_data.csv\")"
   ]
  },
  {
   "cell_type": "code",
   "execution_count": 3,
   "id": "a7900e19-d12f-403e-bb6c-d56eacceb7ce",
   "metadata": {},
   "outputs": [
    {
     "data": {
      "text/plain": [
       "(14443, 5)"
      ]
     },
     "execution_count": 3,
     "metadata": {},
     "output_type": "execute_result"
    }
   ],
   "source": [
    "df.shape"
   ]
  },
  {
   "cell_type": "code",
   "execution_count": 4,
   "id": "39749b2b-3a1f-4e58-9136-c7ce19c9a843",
   "metadata": {},
   "outputs": [],
   "source": [
    "df.head()\n",
    "new_df= df.head(300)"
   ]
  },
  {
   "cell_type": "code",
   "execution_count": 23,
   "id": "67c6523a-f1c6-4132-a1de-ab549915ad32",
   "metadata": {},
   "outputs": [
    {
     "data": {
      "text/html": [
       "<div>\n",
       "<style scoped>\n",
       "    .dataframe tbody tr th:only-of-type {\n",
       "        vertical-align: middle;\n",
       "    }\n",
       "\n",
       "    .dataframe tbody tr th {\n",
       "        vertical-align: top;\n",
       "    }\n",
       "\n",
       "    .dataframe thead th {\n",
       "        text-align: right;\n",
       "    }\n",
       "</style>\n",
       "<table border=\"1\" class=\"dataframe\">\n",
       "  <thead>\n",
       "    <tr style=\"text-align: right;\">\n",
       "      <th></th>\n",
       "      <th>Taxonomy</th>\n",
       "      <th>Virus</th>\n",
       "      <th>Accession_number</th>\n",
       "      <th>Class_label</th>\n",
       "      <th>FASTA</th>\n",
       "    </tr>\n",
       "  </thead>\n",
       "  <tbody>\n",
       "    <tr>\n",
       "      <th>250</th>\n",
       "      <td>Avsunviroidae</td>\n",
       "      <td>Avocado sunblotch viroid</td>\n",
       "      <td>NC_001410</td>\n",
       "      <td>5</td>\n",
       "      <td>TTTATTAGAACAAGAAGTGAGGATATGATTAAACTTTGTTTGACGA...</td>\n",
       "    </tr>\n",
       "    <tr>\n",
       "      <th>251</th>\n",
       "      <td>Avsunviroidae</td>\n",
       "      <td>Chrysanthemum chlorotic mottle viroid</td>\n",
       "      <td>NC_003540</td>\n",
       "      <td>5</td>\n",
       "      <td>GGCACCTGACGTCGGTGTCCTGATGAAGATCCATGACAGGATCGAA...</td>\n",
       "    </tr>\n",
       "    <tr>\n",
       "      <th>252</th>\n",
       "      <td>Avsunviroidae</td>\n",
       "      <td>Eggplant latent viroid</td>\n",
       "      <td>NC_039241</td>\n",
       "      <td>5</td>\n",
       "      <td>GGGTGGTGTGTGCCACCCCTGATGAGACCGAAAGGTCGAAATGGGG...</td>\n",
       "    </tr>\n",
       "    <tr>\n",
       "      <th>253</th>\n",
       "      <td>Avsunviroidae</td>\n",
       "      <td>Peach latent mosaic viroid</td>\n",
       "      <td>NC_003636</td>\n",
       "      <td>5</td>\n",
       "      <td>GTCATAAGTTTCGTCGCATTTCAGCGACTCATCAGTGGGCTTAGCC...</td>\n",
       "    </tr>\n",
       "  </tbody>\n",
       "</table>\n",
       "</div>"
      ],
      "text/plain": [
       "          Taxonomy                                  Virus Accession_number  \\\n",
       "250  Avsunviroidae               Avocado sunblotch viroid        NC_001410   \n",
       "251  Avsunviroidae  Chrysanthemum chlorotic mottle viroid        NC_003540   \n",
       "252  Avsunviroidae                 Eggplant latent viroid        NC_039241   \n",
       "253  Avsunviroidae             Peach latent mosaic viroid        NC_003636   \n",
       "\n",
       "     Class_label                                              FASTA  \n",
       "250            5  TTTATTAGAACAAGAAGTGAGGATATGATTAAACTTTGTTTGACGA...  \n",
       "251            5  GGCACCTGACGTCGGTGTCCTGATGAAGATCCATGACAGGATCGAA...  \n",
       "252            5  GGGTGGTGTGTGCCACCCCTGATGAGACCGAAAGGTCGAAATGGGG...  \n",
       "253            5  GTCATAAGTTTCGTCGCATTTCAGCGACTCATCAGTGGGCTTAGCC...  "
      ]
     },
     "execution_count": 23,
     "metadata": {},
     "output_type": "execute_result"
    }
   ],
   "source": [
    "gb = df.groupby(['Class_label'])\n",
    "gb.get_group(5)"
   ]
  },
  {
   "cell_type": "code",
   "execution_count": 24,
   "id": "e8a285a3-2b69-474f-b30f-216c44bec644",
   "metadata": {},
   "outputs": [
    {
     "name": "stdout",
     "output_type": "stream",
     "text": [
      "247\n",
      "399\n",
      "333\n",
      "337\n"
     ]
    }
   ],
   "source": [
    "for j, values in gb.get_group(5).iterrows():\n",
    "    print(len(values['FASTA']))"
   ]
  },
  {
   "cell_type": "code",
   "execution_count": 6,
   "id": "72c58337-184e-4305-b418-c287f1696774",
   "metadata": {},
   "outputs": [
    {
     "data": {
      "text/plain": [
       "Class_label\n",
       "1     28\n",
       "2    111\n",
       "3      3\n",
       "4    108\n",
       "5      4\n",
       "6      8\n",
       "7      1\n",
       "8      1\n",
       "9     36\n",
       "dtype: int64"
      ]
     },
     "execution_count": 6,
     "metadata": {},
     "output_type": "execute_result"
    }
   ],
   "source": [
    "new_df.groupby(['Class_label']).size()"
   ]
  },
  {
   "cell_type": "code",
   "execution_count": 7,
   "id": "e406a3e5-fbb6-4327-8849-b0d8d9367632",
   "metadata": {},
   "outputs": [
    {
     "name": "stdout",
     "output_type": "stream",
     "text": [
      "5278 Clavaviridae\n",
      "5800 Dinodnavirus\n",
      "9174 Finnlakeviridae\n",
      "13769 Guttaviridae\n",
      "14462 Halspiviridae\n",
      "23219 Ovaliviridae\n",
      "11965 Plasmaviridae\n",
      "24893 Spiraviridae\n"
     ]
    }
   ],
   "source": [
    "for index, i in df.groupby(['Class_label']).size().items():\n",
    "    if (i==1):\n",
    "        for j, values in gb.get_group(index).iterrows():\n",
    "            print(len(values['FASTA']), values['Taxonomy'])"
   ]
  },
  {
   "cell_type": "code",
   "execution_count": 8,
   "id": "a8ea36f8-d7a6-4f20-992e-16ade17d8908",
   "metadata": {},
   "outputs": [
    {
     "data": {
      "text/html": [
       "<div>\n",
       "<style scoped>\n",
       "    .dataframe tbody tr th:only-of-type {\n",
       "        vertical-align: middle;\n",
       "    }\n",
       "\n",
       "    .dataframe tbody tr th {\n",
       "        vertical-align: top;\n",
       "    }\n",
       "\n",
       "    .dataframe thead th {\n",
       "        text-align: right;\n",
       "    }\n",
       "</style>\n",
       "<table border=\"1\" class=\"dataframe\">\n",
       "  <thead>\n",
       "    <tr style=\"text-align: right;\">\n",
       "      <th></th>\n",
       "      <th>Taxonomy</th>\n",
       "      <th>Virus</th>\n",
       "      <th>Accession_number</th>\n",
       "      <th>Class_label</th>\n",
       "      <th>FASTA</th>\n",
       "    </tr>\n",
       "  </thead>\n",
       "  <tbody>\n",
       "    <tr>\n",
       "      <th>262</th>\n",
       "      <td>Clavaviridae</td>\n",
       "      <td>Aeropyrum pernix bacilliform virus 1</td>\n",
       "      <td>NC_043030</td>\n",
       "      <td>7</td>\n",
       "      <td>GTGTGGGCCGTGATTCGGAAATCCCTTGAGGTTGAACTCCCCGAGG...</td>\n",
       "    </tr>\n",
       "  </tbody>\n",
       "</table>\n",
       "</div>"
      ],
      "text/plain": [
       "         Taxonomy                                 Virus Accession_number  \\\n",
       "262  Clavaviridae  Aeropyrum pernix bacilliform virus 1        NC_043030   \n",
       "\n",
       "     Class_label                                              FASTA  \n",
       "262            7  GTGTGGGCCGTGATTCGGAAATCCCTTGAGGTTGAACTCCCCGAGG...  "
      ]
     },
     "execution_count": 8,
     "metadata": {},
     "output_type": "execute_result"
    }
   ],
   "source": [
    "df_test= gb.get_group(7)\n",
    "df_test"
   ]
  },
  {
   "cell_type": "code",
   "execution_count": 38,
   "id": "06614afe-466a-4bd5-884e-1d0c9a5a61a5",
   "metadata": {},
   "outputs": [],
   "source": [
    "sample_num= 5000\n",
    "chunk_size= 1200\n",
    "folder_path= \"/Users/pratik/Box/Datasets_shared/Datasets_Zhihan/\"\n",
    "folder_name= 'Balansed_dataset_' + str(sample_num) +'sample_'+str(chunk_size)+ 'bp'\n",
    "entire_folder_path= folder_path+folder_name \n",
    "entire_folder_path\n",
    "if not os.path.exists(entire_folder_path):\n",
    "    os.mkdir(entire_folder_path)"
   ]
  },
  {
   "cell_type": "code",
   "execution_count": 39,
   "id": "c47a5c82-6c86-42d5-8743-82dcba110758",
   "metadata": {},
   "outputs": [
    {
     "name": "stdout",
     "output_type": "stream",
     "text": [
      "1 Adnaviria\n",
      "2 Alphasatellitidae\n",
      "3 Ampullaviridae\n",
      "4 Anelloviridae\n",
      "5 Avsunviroidae\n",
      "6 Bicaudaviridae\n",
      "7 Clavaviridae\n",
      "8 Dinodnavirus\n",
      "9 Duplodnaviria\n",
      "10 Finnlakeviridae\n",
      "11 Fuselloviridae\n",
      "12 Globuloviridae\n",
      "13 Guttaviridae\n",
      "14 Halspiviridae\n",
      "15 Monodnaviria\n",
      "16 Naldaviricetes\n",
      "17 Ovaliviridae\n",
      "18 Plasmaviridae\n",
      "19 Polydnaviridae\n",
      "20 Portogloboviridae\n",
      "21 Pospiviroidae\n",
      "22 Riboviria\n",
      "23 Ribozyviria\n",
      "24 Satellites\n",
      "25 Spiraviridae\n",
      "26 Tolecusatellitidae\n",
      "27 Varidnaviria\n",
      "28 environmental samples\n",
      "29 unclassified archaeal viruses\n",
      "30 unclassified bacterial viruses\n",
      "31 unclassified viruses\n"
     ]
    }
   ],
   "source": [
    "for index, small_df in df.groupby(['Class_label']):\n",
    "    temp_data = pd.DataFrame(columns=['FASTA', 'Class_label'])\n",
    "    taxonomy= small_df.iloc[0]['Taxonomy']\n",
    "    print(index, taxonomy)\n",
    "    if(len(small_df)<=sample_num):\n",
    "        rand_index= [random.randint(0,len(small_df)-1) for i in range(sample_num)]\n",
    "    else:\n",
    "        rand_index = random.sample(range(0,len(small_df)-1), sample_num)\n",
    "    #print(rand_index)\n",
    "    #print(len(small_df['FASTA']))\n",
    "    if(all(element == rand_index[0] for element in rand_index)):\n",
    "        str_FASTA= small_df.iloc[0]['FASTA']\n",
    "        i=0\n",
    "        while(i<len(rand_index)):\n",
    "            #print(str_FASTA[i:i+chunk_size])\n",
    "            temp_data.loc[i, ['FASTA']] = str_FASTA[i:i+chunk_size]\n",
    "            i=i+1\n",
    "        temp_data['Class_label']= index\n",
    "        #print(temp_data)\n",
    "        file_name= entire_folder_path+\"/\"+str(taxonomy)+\"_\"+str(index)+\".csv\"\n",
    "        temp_data.to_csv(file_name, index= False)\n",
    "    else:\n",
    "        i=0\n",
    "        for element in rand_index:\n",
    "            str_FASTA= small_df.iloc[element]['FASTA']\n",
    "            max_end= len(str_FASTA)-chunk_size-1\n",
    "            if(max_end<0):\n",
    "                continue\n",
    "            rand_start= random.randint(0,max_end)\n",
    "            #print(small_df.iloc[element]['Virus'], rand_start, element)\n",
    "            sub_FASTA = str_FASTA[rand_start: rand_start+chunk_size]\n",
    "            temp_data.loc[i, ['FASTA']] = sub_FASTA\n",
    "            i=i+1\n",
    "            #print(sub_FASTA, index)\n",
    "        if (i>1):\n",
    "            temp_data['Class_label']= index\n",
    "            #print(temp_data)\n",
    "            file_name= entire_folder_path+\"/\"+str(taxonomy)+\"_\"+str(index)+\".csv\"\n",
    "            temp_data.to_csv(file_name, index= False)\n",
    "#     for element in rand_index:\n",
    "#         print(small_df.iloc[element]['Accession_number'])"
   ]
  },
  {
   "cell_type": "code",
   "execution_count": null,
   "id": "8c1cdf25-4576-420a-b175-e348e3dd5366",
   "metadata": {},
   "outputs": [],
   "source": [
    "chunk_size= 100\n",
    "string= small_df.iloc[element]['FASTA']\n",
    "# print(string[0:10])\n",
    "# print (len(string))\n",
    "for element in rand_index:\n",
    "    print(small_df.iloc[element]['Accession_number'])\n",
    "    str_FASTA= small_df.iloc[element]['FASTA']\n",
    "    max_end= len(str_FASTA)-chunk_size-1\n",
    "    print(len(str_FASTA),max_end)\n",
    "    rand_start= random.randint(0,max_end)\n",
    "    print(small_df.iloc[element]['Virus'], rand_start, element)\n",
    "    sub_FASTA = str_FASTA[rand_start: rand_start+chunk_size]\n",
    "    print(sub_FASTA)"
   ]
  },
  {
   "cell_type": "code",
   "execution_count": null,
   "id": "5a09ea8c-b446-430b-9f8d-58561ac4734e",
   "metadata": {},
   "outputs": [],
   "source": [
    "small_df"
   ]
  },
  {
   "cell_type": "code",
   "execution_count": null,
   "id": "68e662d6-5b54-4679-9080-5c4c42ac84bd",
   "metadata": {},
   "outputs": [],
   "source": [
    "rand_index"
   ]
  },
  {
   "cell_type": "code",
   "execution_count": null,
   "id": "776bd12d-37f5-402d-9a39-b0b6ff27586d",
   "metadata": {},
   "outputs": [],
   "source": [
    "print (df_test)\n",
    "rand_index1= [random.randint(0,len(df_test)-1) for i in range(sample_num)]\n",
    "rand_index1"
   ]
  },
  {
   "cell_type": "code",
   "execution_count": null,
   "id": "d2d8011e-9b11-4717-9712-0d03bd6b4d55",
   "metadata": {},
   "outputs": [],
   "source": [
    "chunk_size= 100\n",
    "# print(string[0:10])\n",
    "# print (len(string))\n",
    "\n",
    "if(all(element == rand_index1[0] for element in rand_index1)):\n",
    "    str_FASTA= df_test.iloc[0]['FASTA']\n",
    "    class1= df_test.iloc[0]['Class_label']\n",
    "    i=0\n",
    "    while(i<len(rand_index1)):\n",
    "        print(str_FASTA[i:i+chunk_size], class1)\n",
    "        i=i+1\n"
   ]
  },
  {
   "cell_type": "code",
   "execution_count": null,
   "id": "70f681d7-557f-4ca7-bde6-2f513daba49b",
   "metadata": {},
   "outputs": [],
   "source": []
  }
 ],
 "metadata": {
  "kernelspec": {
   "display_name": "Python 3",
   "language": "python",
   "name": "python3"
  },
  "language_info": {
   "codemirror_mode": {
    "name": "ipython",
    "version": 3
   },
   "file_extension": ".py",
   "mimetype": "text/x-python",
   "name": "python",
   "nbconvert_exporter": "python",
   "pygments_lexer": "ipython3",
   "version": "3.8.8"
  }
 },
 "nbformat": 4,
 "nbformat_minor": 5
}
