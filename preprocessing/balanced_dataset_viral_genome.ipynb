{
 "cells": [
  {
   "cell_type": "code",
   "execution_count": 1,
   "id": "169f1556-2f43-4588-a640-c494e5577d21",
   "metadata": {},
   "outputs": [],
   "source": [
    "import pandas as pd"
   ]
  },
  {
   "cell_type": "code",
   "execution_count": 2,
   "id": "d1eeb854-bf9b-44aa-8cde-7c11d73d7493",
   "metadata": {},
   "outputs": [],
   "source": [
    "df= pd.read_csv(\"/Users/pratik/Box/Datasets_shared/Datasets_Zhihan/Virus_classification_data.csv\")"
   ]
  },
  {
   "cell_type": "code",
   "execution_count": 3,
   "id": "39749b2b-3a1f-4e58-9136-c7ce19c9a843",
   "metadata": {},
   "outputs": [
    {
     "data": {
      "text/html": [
       "<div>\n",
       "<style scoped>\n",
       "    .dataframe tbody tr th:only-of-type {\n",
       "        vertical-align: middle;\n",
       "    }\n",
       "\n",
       "    .dataframe tbody tr th {\n",
       "        vertical-align: top;\n",
       "    }\n",
       "\n",
       "    .dataframe thead th {\n",
       "        text-align: right;\n",
       "    }\n",
       "</style>\n",
       "<table border=\"1\" class=\"dataframe\">\n",
       "  <thead>\n",
       "    <tr style=\"text-align: right;\">\n",
       "      <th></th>\n",
       "      <th>Taxonomy</th>\n",
       "      <th>Virus</th>\n",
       "      <th>Accession_number</th>\n",
       "      <th>Class_label</th>\n",
       "      <th>FASTA</th>\n",
       "    </tr>\n",
       "  </thead>\n",
       "  <tbody>\n",
       "    <tr>\n",
       "      <th>0</th>\n",
       "      <td>Adnaviria</td>\n",
       "      <td>Acidianus filamentous virus 1</td>\n",
       "      <td>NC_005830</td>\n",
       "      <td>1</td>\n",
       "      <td>CGGGGGGGAGCATGTGGTTTGCGGTTTGAGGTTCGCACTTGTGATT...</td>\n",
       "    </tr>\n",
       "    <tr>\n",
       "      <th>1</th>\n",
       "      <td>Adnaviria</td>\n",
       "      <td>Acidianus filamentous virus 2</td>\n",
       "      <td>NC_009884</td>\n",
       "      <td>1</td>\n",
       "      <td>GTATATATACGGTAAAATACCCAGACGATATTCTCCGTCAGTTTGA...</td>\n",
       "    </tr>\n",
       "    <tr>\n",
       "      <th>2</th>\n",
       "      <td>Adnaviria</td>\n",
       "      <td>Acidianus filamentous virus 3</td>\n",
       "      <td>NC_010155</td>\n",
       "      <td>1</td>\n",
       "      <td>TAACATCAAGTATGAGGATACTACACACAACATAAAGTATCTACAC...</td>\n",
       "    </tr>\n",
       "    <tr>\n",
       "      <th>3</th>\n",
       "      <td>Adnaviria</td>\n",
       "      <td>Acidianus filamentous virus 6</td>\n",
       "      <td>NC_010152</td>\n",
       "      <td>1</td>\n",
       "      <td>AGCTTTTTTCTCTAGATAGAGAATGTAGTATCAAGTATCAAGATAC...</td>\n",
       "    </tr>\n",
       "    <tr>\n",
       "      <th>4</th>\n",
       "      <td>Adnaviria</td>\n",
       "      <td>Acidianus filamentous virus 7</td>\n",
       "      <td>NC_010153</td>\n",
       "      <td>1</td>\n",
       "      <td>TAAGTCATTTCCCCCTTTTATATATAAAGATACATATCACACACCC...</td>\n",
       "    </tr>\n",
       "  </tbody>\n",
       "</table>\n",
       "</div>"
      ],
      "text/plain": [
       "    Taxonomy                          Virus Accession_number  Class_label  \\\n",
       "0  Adnaviria  Acidianus filamentous virus 1        NC_005830            1   \n",
       "1  Adnaviria  Acidianus filamentous virus 2        NC_009884            1   \n",
       "2  Adnaviria  Acidianus filamentous virus 3        NC_010155            1   \n",
       "3  Adnaviria  Acidianus filamentous virus 6        NC_010152            1   \n",
       "4  Adnaviria  Acidianus filamentous virus 7        NC_010153            1   \n",
       "\n",
       "                                               FASTA  \n",
       "0  CGGGGGGGAGCATGTGGTTTGCGGTTTGAGGTTCGCACTTGTGATT...  \n",
       "1  GTATATATACGGTAAAATACCCAGACGATATTCTCCGTCAGTTTGA...  \n",
       "2  TAACATCAAGTATGAGGATACTACACACAACATAAAGTATCTACAC...  \n",
       "3  AGCTTTTTTCTCTAGATAGAGAATGTAGTATCAAGTATCAAGATAC...  \n",
       "4  TAAGTCATTTCCCCCTTTTATATATAAAGATACATATCACACACCC...  "
      ]
     },
     "execution_count": 3,
     "metadata": {},
     "output_type": "execute_result"
    }
   ],
   "source": [
    "df.head()"
   ]
  },
  {
   "cell_type": "code",
   "execution_count": 4,
   "id": "67c6523a-f1c6-4132-a1de-ab549915ad32",
   "metadata": {},
   "outputs": [
    {
     "data": {
      "text/html": [
       "<div>\n",
       "<style scoped>\n",
       "    .dataframe tbody tr th:only-of-type {\n",
       "        vertical-align: middle;\n",
       "    }\n",
       "\n",
       "    .dataframe tbody tr th {\n",
       "        vertical-align: top;\n",
       "    }\n",
       "\n",
       "    .dataframe thead th {\n",
       "        text-align: right;\n",
       "    }\n",
       "</style>\n",
       "<table border=\"1\" class=\"dataframe\">\n",
       "  <thead>\n",
       "    <tr style=\"text-align: right;\">\n",
       "      <th></th>\n",
       "      <th>Taxonomy</th>\n",
       "      <th>Virus</th>\n",
       "      <th>Accession_number</th>\n",
       "      <th>Class_label</th>\n",
       "      <th>FASTA</th>\n",
       "    </tr>\n",
       "  </thead>\n",
       "  <tbody>\n",
       "    <tr>\n",
       "      <th>250</th>\n",
       "      <td>Avsunviroidae</td>\n",
       "      <td>Avocado sunblotch viroid</td>\n",
       "      <td>NC_001410</td>\n",
       "      <td>5</td>\n",
       "      <td>TTTATTAGAACAAGAAGTGAGGATATGATTAAACTTTGTTTGACGA...</td>\n",
       "    </tr>\n",
       "    <tr>\n",
       "      <th>251</th>\n",
       "      <td>Avsunviroidae</td>\n",
       "      <td>Chrysanthemum chlorotic mottle viroid</td>\n",
       "      <td>NC_003540</td>\n",
       "      <td>5</td>\n",
       "      <td>GGCACCTGACGTCGGTGTCCTGATGAAGATCCATGACAGGATCGAA...</td>\n",
       "    </tr>\n",
       "    <tr>\n",
       "      <th>252</th>\n",
       "      <td>Avsunviroidae</td>\n",
       "      <td>Eggplant latent viroid</td>\n",
       "      <td>NC_039241</td>\n",
       "      <td>5</td>\n",
       "      <td>GGGTGGTGTGTGCCACCCCTGATGAGACCGAAAGGTCGAAATGGGG...</td>\n",
       "    </tr>\n",
       "    <tr>\n",
       "      <th>253</th>\n",
       "      <td>Avsunviroidae</td>\n",
       "      <td>Peach latent mosaic viroid</td>\n",
       "      <td>NC_003636</td>\n",
       "      <td>5</td>\n",
       "      <td>GTCATAAGTTTCGTCGCATTTCAGCGACTCATCAGTGGGCTTAGCC...</td>\n",
       "    </tr>\n",
       "  </tbody>\n",
       "</table>\n",
       "</div>"
      ],
      "text/plain": [
       "          Taxonomy                                  Virus Accession_number  \\\n",
       "250  Avsunviroidae               Avocado sunblotch viroid        NC_001410   \n",
       "251  Avsunviroidae  Chrysanthemum chlorotic mottle viroid        NC_003540   \n",
       "252  Avsunviroidae                 Eggplant latent viroid        NC_039241   \n",
       "253  Avsunviroidae             Peach latent mosaic viroid        NC_003636   \n",
       "\n",
       "     Class_label                                              FASTA  \n",
       "250            5  TTTATTAGAACAAGAAGTGAGGATATGATTAAACTTTGTTTGACGA...  \n",
       "251            5  GGCACCTGACGTCGGTGTCCTGATGAAGATCCATGACAGGATCGAA...  \n",
       "252            5  GGGTGGTGTGTGCCACCCCTGATGAGACCGAAAGGTCGAAATGGGG...  \n",
       "253            5  GTCATAAGTTTCGTCGCATTTCAGCGACTCATCAGTGGGCTTAGCC...  "
      ]
     },
     "execution_count": 4,
     "metadata": {},
     "output_type": "execute_result"
    }
   ],
   "source": [
    "gb = df.groupby(['Class_label'])\n",
    "gb.get_group(5)"
   ]
  },
  {
   "cell_type": "code",
   "execution_count": 5,
   "id": "72c58337-184e-4305-b418-c287f1696774",
   "metadata": {},
   "outputs": [
    {
     "data": {
      "text/plain": [
       "Class_label\n",
       "1       28\n",
       "2      111\n",
       "3        3\n",
       "4      108\n",
       "5        4\n",
       "6        8\n",
       "7        1\n",
       "8        1\n",
       "9     4462\n",
       "10       1\n",
       "11      11\n",
       "12       2\n",
       "13       1\n",
       "14       1\n",
       "15    1896\n",
       "16     103\n",
       "17       1\n",
       "18       1\n",
       "19     232\n",
       "20       2\n",
       "21      35\n",
       "22    6602\n",
       "23       3\n",
       "24      51\n",
       "25       1\n",
       "26     141\n",
       "27     277\n",
       "28       3\n",
       "29       5\n",
       "30       2\n",
       "31     346\n",
       "dtype: int64"
      ]
     },
     "execution_count": 5,
     "metadata": {},
     "output_type": "execute_result"
    }
   ],
   "source": [
    "df.groupby(['Class_label']).size()"
   ]
  },
  {
   "cell_type": "code",
   "execution_count": 6,
   "id": "e406a3e5-fbb6-4327-8849-b0d8d9367632",
   "metadata": {},
   "outputs": [
    {
     "name": "stdout",
     "output_type": "stream",
     "text": [
      "5278\n",
      "5800\n",
      "9174\n",
      "13769\n",
      "14462\n",
      "23219\n",
      "11965\n",
      "24893\n"
     ]
    }
   ],
   "source": [
    "for index, i in df.groupby(['Class_label']).size().items():\n",
    "    if (i==1):\n",
    "        for j, values in gb.get_group(index).iterrows():\n",
    "            print(len(values['FASTA']))"
   ]
  },
  {
   "cell_type": "code",
   "execution_count": null,
   "id": "c47a5c82-6c86-42d5-8743-82dcba110758",
   "metadata": {},
   "outputs": [],
   "source": []
  }
 ],
 "metadata": {
  "kernelspec": {
   "display_name": "Python 3",
   "language": "python",
   "name": "python3"
  },
  "language_info": {
   "codemirror_mode": {
    "name": "ipython",
    "version": 3
   },
   "file_extension": ".py",
   "mimetype": "text/x-python",
   "name": "python",
   "nbconvert_exporter": "python",
   "pygments_lexer": "ipython3",
   "version": "3.8.8"
  }
 },
 "nbformat": 4,
 "nbformat_minor": 5
}
