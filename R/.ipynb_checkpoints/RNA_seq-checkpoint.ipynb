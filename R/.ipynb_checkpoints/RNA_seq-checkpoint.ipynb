{
 "cells": [
  {
   "cell_type": "code",
   "execution_count": 2,
   "id": "f2b1ff16-b484-441c-a820-9bdaef36f00c",
   "metadata": {},
   "outputs": [],
   "source": [
    "%load_ext rpy2.ipython"
   ]
  },
  {
   "cell_type": "code",
   "execution_count": 3,
   "id": "99a9b7c1-58ec-4a97-8b82-c5077a5db5d3",
   "metadata": {},
   "outputs": [
    {
     "name": "stderr",
     "output_type": "stream",
     "text": [
      "R[write to console]: Loading required package: limma\n",
      "\n"
     ]
    }
   ],
   "source": [
    "%%R\n",
    "library(edgeR)\n",
    "library(RColorBrewer)\n",
    "#library(pheatmap)\n",
    "#library(EnhancedVolcano)\n",
    "# library(goseq)\n",
    "# library(ggplot2)\n",
    "# library(dplyr)\n",
    "# library(biomaRt)\n",
    "# library(goseq)\n",
    "#library(sratoolkit)"
   ]
  },
  {
   "cell_type": "code",
   "execution_count": 4,
   "id": "f7d8b4dc-4bef-4cc4-afc4-52087a4e9074",
   "metadata": {},
   "outputs": [
    {
     "data": {
      "text/plain": [
       "['/bin/bash: prefetch SRR5448863 SRR768910,: command not found']"
      ]
     },
     "execution_count": 4,
     "metadata": {},
     "output_type": "execute_result"
    }
   ],
   "source": [
    "system(\"prefetch SRR5448863 SRR768910\", intern = TRUE)"
   ]
  },
  {
   "cell_type": "markdown",
   "id": "9c1917cd-e2ca-420a-8315-501f7ae35149",
   "metadata": {},
   "source": [
    "#### `fastq-dump` is a tool for downloading sequencing reads from NCBI’s Sequence Read Archive (SRA). These sequence reads will be downloaded as `FASTQ` files."
   ]
  },
  {
   "cell_type": "code",
   "execution_count": 9,
   "id": "0bef8d93-d8f7-4a80-8de6-5dd765b24311",
   "metadata": {},
   "outputs": [
    {
     "data": {
      "text/html": [
       "<style>\n",
       ".list-inline {list-style: none; margin:0; padding: 0}\n",
       ".list-inline>li {display: inline-block}\n",
       ".list-inline>li:not(:last-child)::after {content: \"\\00b7\"; padding: 0 .5ex}\n",
       "</style>\n",
       "<ol class=list-inline><li>'Read 33558497 spots for SRR5448863'</li><li>'Written 33558497 spots for SRR5448863'</li></ol>\n"
      ],
      "text/latex": [
       "\\begin{enumerate*}\n",
       "\\item 'Read 33558497 spots for SRR5448863'\n",
       "\\item 'Written 33558497 spots for SRR5448863'\n",
       "\\end{enumerate*}\n"
      ],
      "text/markdown": [
       "1. 'Read 33558497 spots for SRR5448863'\n",
       "2. 'Written 33558497 spots for SRR5448863'\n",
       "\n",
       "\n"
      ],
      "text/plain": [
       "[1] \"Read 33558497 spots for SRR5448863\"   \n",
       "[2] \"Written 33558497 spots for SRR5448863\""
      ]
     },
     "metadata": {},
     "output_type": "display_data"
    }
   ],
   "source": [
    "system(\"fastq-dump --skip-technical --readids --read-filter pass --dumpbase --outdir /home/pdutta/ncbi/fastq/ --split-files SRR5448863\", intern = TRUE)"
   ]
  },
  {
   "cell_type": "markdown",
   "id": "107e5cba-2855-4862-94a7-df421e497b5a",
   "metadata": {},
   "source": [
    "#### `FastQC` provides a simple way to do some quality control checks on raw sequence data coming from high throughput sequencing pipelines. "
   ]
  },
  {
   "cell_type": "code",
   "execution_count": 15,
   "id": "f2f552ca-2f50-4f20-8333-24a50d632142",
   "metadata": {},
   "outputs": [
    {
     "data": {
      "text/html": [
       "<style>\n",
       ".list-inline {list-style: none; margin:0; padding: 0}\n",
       ".list-inline>li {display: inline-block}\n",
       ".list-inline>li:not(:last-child)::after {content: \"\\00b7\"; padding: 0 .5ex}\n",
       "</style>\n",
       "<ol class=list-inline><li>'Analysis complete for SRR5448863_1.fastq'</li><li>'Analysis complete for SRR5448863_2.fastq'</li></ol>\n"
      ],
      "text/latex": [
       "\\begin{enumerate*}\n",
       "\\item 'Analysis complete for SRR5448863\\_1.fastq'\n",
       "\\item 'Analysis complete for SRR5448863\\_2.fastq'\n",
       "\\end{enumerate*}\n"
      ],
      "text/markdown": [
       "1. 'Analysis complete for SRR5448863_1.fastq'\n",
       "2. 'Analysis complete for SRR5448863_2.fastq'\n",
       "\n",
       "\n"
      ],
      "text/plain": [
       "[1] \"Analysis complete for SRR5448863_1.fastq\"\n",
       "[2] \"Analysis complete for SRR5448863_2.fastq\""
      ]
     },
     "metadata": {},
     "output_type": "display_data"
    }
   ],
   "source": [
    "system(\"fastqc -t 30 --outdir /home/pdutta/ncbi/fastqc /home/pdutta/ncbi/fastq/*.fastq\", intern = TRUE)"
   ]
  },
  {
   "cell_type": "markdown",
   "id": "31a517f0-0acd-4338-bee4-4882993f729b",
   "metadata": {},
   "source": [
    "#### Alignment using `bowtie2`"
   ]
  },
  {
   "cell_type": "code",
   "execution_count": 38,
   "id": "89b2bf01-47a4-48a3-8145-19f2eabcc368",
   "metadata": {},
   "outputs": [
    {
     "ename": "ERROR",
     "evalue": "Error in system(\"$genomeIndexName = '/home/pdutta/ncbi/reference/GRCh38_noalt_as'\", : error in running command\n",
     "output_type": "error",
     "traceback": [
      "Error in system(\"$genomeIndexName = '/home/pdutta/ncbi/reference/GRCh38_noalt_as'\", : error in running command\nTraceback:\n",
      "1. system(\"$genomeIndexName = '/home/pdutta/ncbi/reference/GRCh38_noalt_as'\", \n .     intern = TRUE)"
     ]
    }
   ],
   "source": [
    "system(\"$genomeIndexName = '/home/pdutta/ncbi/reference/GRCh38_noalt_as'\", intern= TRUE)\n",
    "system(\"bowtie2  --very-sensitive  -k 10  -x <genomeIndexName>  -1 <name>_1.fastq.gz  -2 <name>_2.fastq.gz\",  intern = TRUE)"
   ]
  },
  {
   "cell_type": "code",
   "execution_count": null,
   "id": "b617a666-0ef5-489e-9083-f13378792858",
   "metadata": {},
   "outputs": [],
   "source": [
    "system(\"gunzip GCF_000146045.2_R64_genomic.fna.gz\",  intern=TRUE)"
   ]
  },
  {
   "cell_type": "code",
   "execution_count": 5,
   "id": "3132bdee-b072-4fe2-884d-3a036a2c80a5",
   "metadata": {},
   "outputs": [
    {
     "data": {
      "text/plain": [
       "['/bin/bash: export genomeIndexName=/home/pdutta/ncbi/reference/GRCh38_noalt_as,: No such file or directory']"
      ]
     },
     "execution_count": 5,
     "metadata": {},
     "output_type": "execute_result"
    }
   ],
   "source": [
    "system(\"export genomeIndexName=/home/pdutta/ncbi/reference/GRCh38_noalt_as\", intern=TRUE)"
   ]
  },
  {
   "cell_type": "code",
   "execution_count": 6,
   "id": "33b5740f-41c1-4182-8cf0-759ef5276f0a",
   "metadata": {},
   "outputs": [
    {
     "data": {
      "text/plain": [
       "['/bin/bash: ,: command not found']"
      ]
     },
     "execution_count": 6,
     "metadata": {},
     "output_type": "execute_result"
    }
   ],
   "source": [
    "system(\"$genomeIndexName\", intern=TRUE)"
   ]
  },
  {
   "cell_type": "code",
   "execution_count": null,
   "id": "359d04a5-80e4-4358-b037-cd9449cad092",
   "metadata": {},
   "outputs": [],
   "source": []
  }
 ],
 "metadata": {
  "kernelspec": {
   "display_name": "Python 3 (ipykernel)",
   "language": "python",
   "name": "python3"
  },
  "language_info": {
   "codemirror_mode": {
    "name": "ipython",
    "version": 3
   },
   "file_extension": ".py",
   "mimetype": "text/x-python",
   "name": "python",
   "nbconvert_exporter": "python",
   "pygments_lexer": "ipython3",
   "version": "3.10.4"
  }
 },
 "nbformat": 4,
 "nbformat_minor": 5
}
