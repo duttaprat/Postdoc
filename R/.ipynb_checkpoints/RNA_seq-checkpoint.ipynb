{
 "cells": [
  {
   "cell_type": "code",
   "execution_count": 8,
   "id": "f2b1ff16-b484-441c-a820-9bdaef36f00c",
   "metadata": {},
   "outputs": [
    {
     "name": "stdout",
     "output_type": "stream",
     "text": [
      "The rpy2.ipython extension is already loaded. To reload it, use:\n",
      "  %reload_ext rpy2.ipython\n"
     ]
    }
   ],
   "source": [
    "%load_ext rpy2.ipython"
   ]
  },
  {
   "cell_type": "code",
   "execution_count": 9,
   "id": "99a9b7c1-58ec-4a97-8b82-c5077a5db5d3",
   "metadata": {},
   "outputs": [
    {
     "name": "stderr",
     "output_type": "stream",
     "text": [
      "R[write to console]: Loading required package: limma\n",
      "\n"
     ]
    }
   ],
   "source": [
    "%%R\n",
    "library(edgeR)\n",
    "library(RColorBrewer)\n",
    "#library(pheatmap)\n",
    "#library(EnhancedVolcano)\n",
    "# library(goseq)\n",
    "# library(ggplot2)\n",
    "# library(dplyr)\n",
    "# library(biomaRt)\n",
    "# library(goseq)\n",
    "#library(sratoolkit)"
   ]
  },
  {
   "cell_type": "code",
   "execution_count": 4,
   "id": "f7d8b4dc-4bef-4cc4-afc4-52087a4e9074",
   "metadata": {},
   "outputs": [
    {
     "name": "stdout",
     "output_type": "stream",
     "text": [
      "\n",
      "2022-04-05T13:00:55 prefetch.2.8.0: 1) 'SRR5448863' is found locally\n",
      "\n",
      "2022-04-05T13:00:55 prefetch.2.8.0: 2) 'SRR768910' is found locally\n"
     ]
    }
   ],
   "source": [
    "%%bash\n",
    "prefetch SRR5448863 SRR768910"
   ]
  },
  {
   "cell_type": "markdown",
   "id": "9c1917cd-e2ca-420a-8315-501f7ae35149",
   "metadata": {},
   "source": [
    "#### `fastq-dump` is a tool for downloading sequencing reads from NCBI’s Sequence Read Archive (SRA). These sequence reads will be downloaded as `FASTQ` files."
   ]
  },
  {
   "cell_type": "code",
   "execution_count": 5,
   "id": "0bef8d93-d8f7-4a80-8de6-5dd765b24311",
   "metadata": {},
   "outputs": [
    {
     "name": "stdout",
     "output_type": "stream",
     "text": [
      "Read 33558497 spots for SRR5448863\n",
      "Written 33558497 spots for SRR5448863\n"
     ]
    }
   ],
   "source": [
    "%%bash\n",
    "fastq-dump --skip-technical --readids --read-filter pass --dumpbase --outdir /home/pdutta/ncbi/fastq/ --split-files SRR5448863"
   ]
  },
  {
   "cell_type": "markdown",
   "id": "107e5cba-2855-4862-94a7-df421e497b5a",
   "metadata": {},
   "source": [
    "#### `FastQC` provides a simple way to do some quality control checks on raw sequence data coming from high throughput sequencing pipelines. "
   ]
  },
  {
   "cell_type": "code",
   "execution_count": 6,
   "id": "f2f552ca-2f50-4f20-8333-24a50d632142",
   "metadata": {},
   "outputs": [
    {
     "name": "stderr",
     "output_type": "stream",
     "text": [
      "Started analysis of SRR5448863_1.fastq\n",
      "Started analysis of SRR5448863_2.fastq\n",
      "Started analysis of SRR5448863_pass_1.fastq\n",
      "Started analysis of SRR5448863_pass_2.fastq\n",
      "Approx 5% complete for SRR5448863_1.fastq\n",
      "Approx 5% complete for SRR5448863_2.fastq\n",
      "Approx 5% complete for SRR5448863_pass_1.fastq\n",
      "Approx 5% complete for SRR5448863_pass_2.fastq\n",
      "Approx 10% complete for SRR5448863_1.fastq\n",
      "Approx 10% complete for SRR5448863_2.fastq\n",
      "Approx 10% complete for SRR5448863_pass_1.fastq\n",
      "Approx 10% complete for SRR5448863_pass_2.fastq\n",
      "Approx 15% complete for SRR5448863_2.fastq\n",
      "Approx 15% complete for SRR5448863_1.fastq\n",
      "Approx 15% complete for SRR5448863_pass_1.fastq\n",
      "Approx 15% complete for SRR5448863_pass_2.fastq\n",
      "Approx 20% complete for SRR5448863_2.fastq\n",
      "Approx 20% complete for SRR5448863_1.fastq\n",
      "Approx 20% complete for SRR5448863_pass_1.fastq\n",
      "Approx 20% complete for SRR5448863_pass_2.fastq\n",
      "Approx 25% complete for SRR5448863_2.fastq\n",
      "Approx 25% complete for SRR5448863_1.fastq\n",
      "Approx 25% complete for SRR5448863_pass_1.fastq\n",
      "Approx 25% complete for SRR5448863_pass_2.fastq\n",
      "Approx 30% complete for SRR5448863_2.fastq\n",
      "Approx 30% complete for SRR5448863_1.fastq\n",
      "Approx 30% complete for SRR5448863_pass_1.fastq\n",
      "Approx 30% complete for SRR5448863_pass_2.fastq\n",
      "Approx 35% complete for SRR5448863_2.fastq\n",
      "Approx 35% complete for SRR5448863_1.fastq\n",
      "Approx 35% complete for SRR5448863_pass_1.fastq\n",
      "Approx 35% complete for SRR5448863_pass_2.fastq\n",
      "Approx 40% complete for SRR5448863_2.fastq\n",
      "Approx 40% complete for SRR5448863_1.fastq\n",
      "Approx 40% complete for SRR5448863_pass_2.fastq\n",
      "Approx 40% complete for SRR5448863_pass_1.fastq\n",
      "Approx 45% complete for SRR5448863_2.fastq\n",
      "Approx 45% complete for SRR5448863_1.fastq\n",
      "Approx 45% complete for SRR5448863_pass_2.fastq\n",
      "Approx 45% complete for SRR5448863_pass_1.fastq\n",
      "Approx 50% complete for SRR5448863_2.fastq\n",
      "Approx 50% complete for SRR5448863_1.fastq\n",
      "Approx 50% complete for SRR5448863_pass_2.fastq\n",
      "Approx 50% complete for SRR5448863_pass_1.fastq\n",
      "Approx 55% complete for SRR5448863_2.fastq\n",
      "Approx 55% complete for SRR5448863_1.fastq\n",
      "Approx 55% complete for SRR5448863_pass_2.fastq\n",
      "Approx 55% complete for SRR5448863_pass_1.fastq\n",
      "Approx 60% complete for SRR5448863_2.fastq\n",
      "Approx 60% complete for SRR5448863_1.fastq\n",
      "Approx 60% complete for SRR5448863_pass_2.fastq\n",
      "Approx 60% complete for SRR5448863_pass_1.fastq\n",
      "Approx 65% complete for SRR5448863_2.fastq\n",
      "Approx 65% complete for SRR5448863_1.fastq\n",
      "Approx 65% complete for SRR5448863_pass_2.fastq\n",
      "Approx 65% complete for SRR5448863_pass_1.fastq\n",
      "Approx 70% complete for SRR5448863_2.fastq\n",
      "Approx 70% complete for SRR5448863_1.fastq\n",
      "Approx 70% complete for SRR5448863_pass_2.fastq\n",
      "Approx 70% complete for SRR5448863_pass_1.fastq\n",
      "Approx 75% complete for SRR5448863_2.fastq\n",
      "Approx 75% complete for SRR5448863_1.fastq\n",
      "Approx 75% complete for SRR5448863_pass_2.fastq\n",
      "Approx 75% complete for SRR5448863_pass_1.fastq\n",
      "Approx 80% complete for SRR5448863_2.fastq\n",
      "Approx 80% complete for SRR5448863_1.fastq\n",
      "Approx 80% complete for SRR5448863_pass_2.fastq\n",
      "Approx 80% complete for SRR5448863_pass_1.fastq\n",
      "Approx 85% complete for SRR5448863_2.fastq\n",
      "Approx 85% complete for SRR5448863_1.fastq\n",
      "Approx 85% complete for SRR5448863_pass_2.fastq\n",
      "Approx 85% complete for SRR5448863_pass_1.fastq\n",
      "Approx 90% complete for SRR5448863_2.fastq\n",
      "Approx 90% complete for SRR5448863_1.fastq\n",
      "Approx 90% complete for SRR5448863_pass_1.fastq\n",
      "Approx 90% complete for SRR5448863_pass_2.fastq\n",
      "Approx 95% complete for SRR5448863_2.fastq\n",
      "Approx 95% complete for SRR5448863_1.fastq\n",
      "Approx 95% complete for SRR5448863_pass_1.fastq\n",
      "Approx 95% complete for SRR5448863_pass_2.fastq\n"
     ]
    },
    {
     "name": "stdout",
     "output_type": "stream",
     "text": [
      "Analysis complete for SRR5448863_2.fastq\n",
      "Analysis complete for SRR5448863_1.fastq\n",
      "Analysis complete for SRR5448863_pass_1.fastq\n",
      "Analysis complete for SRR5448863_pass_2.fastq\n"
     ]
    }
   ],
   "source": [
    "%%bash\n",
    "fastqc -t 30 --outdir /home/pdutta/ncbi/fastqc /home/pdutta/ncbi/fastq/*.fastq"
   ]
  },
  {
   "cell_type": "markdown",
   "id": "31a517f0-0acd-4338-bee4-4882993f729b",
   "metadata": {},
   "source": [
    "## Alignment using `bowtie2`.\n",
    "* https://rnnh.github.io/bioinfo-notebook/docs/bowtie2.html\n",
    "## To install `bowtie2` you can use any of two approaches\n",
    " * For installing using conda, try ```conda install -c bioconda/label/broken bowtie2```\n",
    " * For manual installation, please follow the link https://www.metagenomics.wiki/tools/bowtie2/install "
   ]
  },
  {
   "cell_type": "markdown",
   "id": "e788c27c-e7cd-4a64-b2e1-36ee3a19544e",
   "metadata": {},
   "source": [
    "### Run the `script` file named `bowtie2.sh`. The file generats `.SAM` file.  "
   ]
  },
  {
   "cell_type": "code",
   "execution_count": null,
   "id": "3132bdee-b072-4fe2-884d-3a036a2c80a5",
   "metadata": {},
   "outputs": [],
   "source": []
  },
  {
   "cell_type": "code",
   "execution_count": null,
   "id": "33b5740f-41c1-4182-8cf0-759ef5276f0a",
   "metadata": {},
   "outputs": [],
   "source": []
  },
  {
   "cell_type": "code",
   "execution_count": null,
   "id": "359d04a5-80e4-4358-b037-cd9449cad092",
   "metadata": {},
   "outputs": [],
   "source": []
  }
 ],
 "metadata": {
  "kernelspec": {
   "display_name": "Python 3 (ipykernel)",
   "language": "python",
   "name": "python3"
  },
  "language_info": {
   "codemirror_mode": {
    "name": "ipython",
    "version": 3
   },
   "file_extension": ".py",
   "mimetype": "text/x-python",
   "name": "python",
   "nbconvert_exporter": "python",
   "pygments_lexer": "ipython3",
   "version": "3.10.4"
  }
 },
 "nbformat": 4,
 "nbformat_minor": 5
}
