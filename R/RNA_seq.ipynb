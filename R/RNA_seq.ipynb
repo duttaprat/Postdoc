{
 "cells": [
  {
   "cell_type": "code",
   "execution_count": 7,
   "id": "f2b1ff16-b484-441c-a820-9bdaef36f00c",
   "metadata": {},
   "outputs": [],
   "source": [
    "library(edgeR)\n",
    "library(RColorBrewer)\n",
    "#library(pheatmap)\n",
    "#library(EnhancedVolcano)\n",
    "# library(goseq)\n",
    "# library(ggplot2)\n",
    "# library(dplyr)\n",
    "# library(biomaRt)\n",
    "# library(goseq)\n",
    "#library(sratoolkit)"
   ]
  },
  {
   "cell_type": "code",
   "execution_count": 8,
   "id": "f7d8b4dc-4bef-4cc4-afc4-52087a4e9074",
   "metadata": {},
   "outputs": [
    {
     "data": {
      "text/html": [
       "<style>\n",
       ".list-inline {list-style: none; margin:0; padding: 0}\n",
       ".list-inline>li {display: inline-block}\n",
       ".list-inline>li:not(:last-child)::after {content: \"\\00b7\"; padding: 0 .5ex}\n",
       "</style>\n",
       "<ol class=list-inline><li>''</li><li>'2022-04-04T20:39:37 prefetch.2.8.0: 1) \\'SRR5448863\\' is found locally'</li><li>''</li><li>'2022-04-04T20:39:37 prefetch.2.8.0: 2) \\'SRR768910\\' is found locally'</li></ol>\n"
      ],
      "text/latex": [
       "\\begin{enumerate*}\n",
       "\\item ''\n",
       "\\item '2022-04-04T20:39:37 prefetch.2.8.0: 1) \\textbackslash{}'SRR5448863\\textbackslash{}' is found locally'\n",
       "\\item ''\n",
       "\\item '2022-04-04T20:39:37 prefetch.2.8.0: 2) \\textbackslash{}'SRR768910\\textbackslash{}' is found locally'\n",
       "\\end{enumerate*}\n"
      ],
      "text/markdown": [
       "1. ''\n",
       "2. '2022-04-04T20:39:37 prefetch.2.8.0: 1) \\'SRR5448863\\' is found locally'\n",
       "3. ''\n",
       "4. '2022-04-04T20:39:37 prefetch.2.8.0: 2) \\'SRR768910\\' is found locally'\n",
       "\n",
       "\n"
      ],
      "text/plain": [
       "[1] \"\"                                                                    \n",
       "[2] \"2022-04-04T20:39:37 prefetch.2.8.0: 1) 'SRR5448863' is found locally\"\n",
       "[3] \"\"                                                                    \n",
       "[4] \"2022-04-04T20:39:37 prefetch.2.8.0: 2) 'SRR768910' is found locally\" "
      ]
     },
     "metadata": {},
     "output_type": "display_data"
    }
   ],
   "source": [
    "system(\"prefetch SRR5448863 SRR768910\", intern = TRUE)"
   ]
  },
  {
   "cell_type": "markdown",
   "id": "9c1917cd-e2ca-420a-8315-501f7ae35149",
   "metadata": {},
   "source": [
    "#### `fastq-dump` is a tool for downloading sequencing reads from NCBI’s Sequence Read Archive (SRA). These sequence reads will be downloaded as `FASTQ` files."
   ]
  },
  {
   "cell_type": "code",
   "execution_count": 9,
   "id": "0bef8d93-d8f7-4a80-8de6-5dd765b24311",
   "metadata": {},
   "outputs": [
    {
     "data": {
      "text/html": [
       "<style>\n",
       ".list-inline {list-style: none; margin:0; padding: 0}\n",
       ".list-inline>li {display: inline-block}\n",
       ".list-inline>li:not(:last-child)::after {content: \"\\00b7\"; padding: 0 .5ex}\n",
       "</style>\n",
       "<ol class=list-inline><li>'Read 33558497 spots for SRR5448863'</li><li>'Written 33558497 spots for SRR5448863'</li></ol>\n"
      ],
      "text/latex": [
       "\\begin{enumerate*}\n",
       "\\item 'Read 33558497 spots for SRR5448863'\n",
       "\\item 'Written 33558497 spots for SRR5448863'\n",
       "\\end{enumerate*}\n"
      ],
      "text/markdown": [
       "1. 'Read 33558497 spots for SRR5448863'\n",
       "2. 'Written 33558497 spots for SRR5448863'\n",
       "\n",
       "\n"
      ],
      "text/plain": [
       "[1] \"Read 33558497 spots for SRR5448863\"   \n",
       "[2] \"Written 33558497 spots for SRR5448863\""
      ]
     },
     "metadata": {},
     "output_type": "display_data"
    }
   ],
   "source": [
    "system(\"fastq-dump --skip-technical --readids --read-filter pass --dumpbase --outdir /home/pdutta/ncbi/fastq/ --split-files SRR5448863\", intern = TRUE)"
   ]
  },
  {
   "cell_type": "markdown",
   "id": "107e5cba-2855-4862-94a7-df421e497b5a",
   "metadata": {},
   "source": [
    "#### `FastQC` provides a simple way to do some quality control checks on raw sequence data coming from high throughput sequencing pipelines. "
   ]
  },
  {
   "cell_type": "code",
   "execution_count": 15,
   "id": "f2f552ca-2f50-4f20-8333-24a50d632142",
   "metadata": {},
   "outputs": [
    {
     "data": {
      "text/html": [
       "<style>\n",
       ".list-inline {list-style: none; margin:0; padding: 0}\n",
       ".list-inline>li {display: inline-block}\n",
       ".list-inline>li:not(:last-child)::after {content: \"\\00b7\"; padding: 0 .5ex}\n",
       "</style>\n",
       "<ol class=list-inline><li>'Analysis complete for SRR5448863_1.fastq'</li><li>'Analysis complete for SRR5448863_2.fastq'</li></ol>\n"
      ],
      "text/latex": [
       "\\begin{enumerate*}\n",
       "\\item 'Analysis complete for SRR5448863\\_1.fastq'\n",
       "\\item 'Analysis complete for SRR5448863\\_2.fastq'\n",
       "\\end{enumerate*}\n"
      ],
      "text/markdown": [
       "1. 'Analysis complete for SRR5448863_1.fastq'\n",
       "2. 'Analysis complete for SRR5448863_2.fastq'\n",
       "\n",
       "\n"
      ],
      "text/plain": [
       "[1] \"Analysis complete for SRR5448863_1.fastq\"\n",
       "[2] \"Analysis complete for SRR5448863_2.fastq\""
      ]
     },
     "metadata": {},
     "output_type": "display_data"
    }
   ],
   "source": [
    "system(\"fastqc -t 30 --outdir /home/pdutta/ncbi/fastqc /home/pdutta/ncbi/fastq/*.fastq\", intern = TRUE)"
   ]
  },
  {
   "cell_type": "code",
   "execution_count": 16,
   "id": "7fe05958-3c49-41a1-bd99-e11cded4a2af",
   "metadata": {},
   "outputs": [],
   "source": [
    "#### Alignment using `bowtie2`"
   ]
  },
  {
   "cell_type": "code",
   "execution_count": null,
   "id": "89b2bf01-47a4-48a3-8145-19f2eabcc368",
   "metadata": {},
   "outputs": [],
   "source": [
    "system(\"\",  intern = TRUE)"
   ]
  },
  {
   "cell_type": "code",
   "execution_count": null,
   "id": "b617a666-0ef5-489e-9083-f13378792858",
   "metadata": {},
   "outputs": [],
   "source": [
    "system(\"gunzip GCF_000146045.2_R64_genomic.fna.gz\",  intern = TRUE)"
   ]
  },
  {
   "cell_type": "code",
   "execution_count": null,
   "id": "3132bdee-b072-4fe2-884d-3a036a2c80a5",
   "metadata": {},
   "outputs": [],
   "source": []
  }
 ],
 "metadata": {
  "kernelspec": {
   "display_name": "R",
   "language": "R",
   "name": "ir"
  },
  "language_info": {
   "codemirror_mode": "r",
   "file_extension": ".r",
   "mimetype": "text/x-r-source",
   "name": "R",
   "pygments_lexer": "r",
   "version": "4.1.3"
  }
 },
 "nbformat": 4,
 "nbformat_minor": 5
}
