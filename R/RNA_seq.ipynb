{
 "cells": [
  {
   "cell_type": "code",
   "execution_count": 1,
   "id": "f2b1ff16-b484-441c-a820-9bdaef36f00c",
   "metadata": {},
   "outputs": [
    {
     "name": "stderr",
     "output_type": "stream",
     "text": [
      "Loading required package: limma\n",
      "\n",
      "Loading required package: ggplot2\n",
      "\n",
      "Loading required package: ggrepel\n",
      "\n",
      "Registered S3 methods overwritten by 'ggalt':\n",
      "  method                  from   \n",
      "  grid.draw.absoluteGrob  ggplot2\n",
      "  grobHeight.absoluteGrob ggplot2\n",
      "  grobWidth.absoluteGrob  ggplot2\n",
      "  grobX.absoluteGrob      ggplot2\n",
      "  grobY.absoluteGrob      ggplot2\n",
      "\n",
      "Loading required package: BiasedUrn\n",
      "\n",
      "Loading required package: geneLenDataBase\n",
      "\n",
      "\n",
      "\n",
      "\n",
      "Attaching package: ‘dplyr’\n",
      "\n",
      "\n",
      "The following objects are masked from ‘package:stats’:\n",
      "\n",
      "    filter, lag\n",
      "\n",
      "\n",
      "The following objects are masked from ‘package:base’:\n",
      "\n",
      "    intersect, setdiff, setequal, union\n",
      "\n",
      "\n"
     ]
    }
   ],
   "source": [
    "library(edgeR)\n",
    "library(RColorBrewer)\n",
    "library(pheatmap)\n",
    "library(EnhancedVolcano)\n",
    "library(goseq)\n",
    "library(ggplot2)\n",
    "library(dplyr)\n",
    "library(biomaRt)\n",
    "library(goseq)\n",
    "#library(sratoolkit)"
   ]
  },
  {
   "cell_type": "code",
   "execution_count": 11,
   "id": "f7d8b4dc-4bef-4cc4-afc4-52087a4e9074",
   "metadata": {},
   "outputs": [
    {
     "data": {
      "text/html": [
       "'/home/pdutta/Github/Postdoc/R'"
      ],
      "text/latex": [
       "'/home/pdutta/Github/Postdoc/R'"
      ],
      "text/markdown": [
       "'/home/pdutta/Github/Postdoc/R'"
      ],
      "text/plain": [
       "[1] \"/home/pdutta/Github/Postdoc/R\""
      ]
     },
     "metadata": {},
     "output_type": "display_data"
    }
   ],
   "source": [
    "system(\"pwd\", intern = TRUE)"
   ]
  },
  {
   "cell_type": "code",
   "execution_count": null,
   "id": "0bef8d93-d8f7-4a80-8de6-5dd765b24311",
   "metadata": {},
   "outputs": [],
   "source": []
  }
 ],
 "metadata": {
  "kernelspec": {
   "display_name": "R",
   "language": "R",
   "name": "ir"
  },
  "language_info": {
   "codemirror_mode": "r",
   "file_extension": ".r",
   "mimetype": "text/x-r-source",
   "name": "R",
   "pygments_lexer": "r",
   "version": "4.1.3"
  }
 },
 "nbformat": 4,
 "nbformat_minor": 5
}
