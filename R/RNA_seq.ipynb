{
 "cells": [
  {
   "cell_type": "code",
   "execution_count": 3,
   "id": "f2b1ff16-b484-441c-a820-9bdaef36f00c",
   "metadata": {},
   "outputs": [],
   "source": [
    "%load_ext rpy2.ipython"
   ]
  },
  {
   "cell_type": "code",
   "execution_count": 4,
   "id": "20cac2f6-ea82-4d75-9a11-2b67b4dad2fd",
   "metadata": {},
   "outputs": [
    {
     "ename": "ModuleNotFoundError",
     "evalue": "No module named 'bowtie2'",
     "output_type": "error",
     "traceback": [
      "\u001b[0;31m---------------------------------------------------------------------------\u001b[0m",
      "\u001b[0;31mModuleNotFoundError\u001b[0m                       Traceback (most recent call last)",
      "Input \u001b[0;32mIn [4]\u001b[0m, in \u001b[0;36m<cell line: 1>\u001b[0;34m()\u001b[0m\n\u001b[0;32m----> 1\u001b[0m \u001b[43mget_ipython\u001b[49m\u001b[43m(\u001b[49m\u001b[43m)\u001b[49m\u001b[38;5;241;43m.\u001b[39;49m\u001b[43mrun_line_magic\u001b[49m\u001b[43m(\u001b[49m\u001b[38;5;124;43m'\u001b[39;49m\u001b[38;5;124;43mload_ext\u001b[39;49m\u001b[38;5;124;43m'\u001b[39;49m\u001b[43m,\u001b[49m\u001b[43m \u001b[49m\u001b[38;5;124;43m'\u001b[39;49m\u001b[38;5;124;43mbowtie2\u001b[39;49m\u001b[38;5;124;43m'\u001b[39;49m\u001b[43m)\u001b[49m\n",
      "File \u001b[0;32m~/anaconda3/envs/r_env/lib/python3.10/site-packages/IPython/core/interactiveshell.py:2294\u001b[0m, in \u001b[0;36mInteractiveShell.run_line_magic\u001b[0;34m(self, magic_name, line, _stack_depth)\u001b[0m\n\u001b[1;32m   2292\u001b[0m     kwargs[\u001b[38;5;124m'\u001b[39m\u001b[38;5;124mlocal_ns\u001b[39m\u001b[38;5;124m'\u001b[39m] \u001b[38;5;241m=\u001b[39m \u001b[38;5;28mself\u001b[39m\u001b[38;5;241m.\u001b[39mget_local_scope(stack_depth)\n\u001b[1;32m   2293\u001b[0m \u001b[38;5;28;01mwith\u001b[39;00m \u001b[38;5;28mself\u001b[39m\u001b[38;5;241m.\u001b[39mbuiltin_trap:\n\u001b[0;32m-> 2294\u001b[0m     result \u001b[38;5;241m=\u001b[39m \u001b[43mfn\u001b[49m\u001b[43m(\u001b[49m\u001b[38;5;241;43m*\u001b[39;49m\u001b[43margs\u001b[49m\u001b[43m,\u001b[49m\u001b[43m \u001b[49m\u001b[38;5;241;43m*\u001b[39;49m\u001b[38;5;241;43m*\u001b[39;49m\u001b[43mkwargs\u001b[49m\u001b[43m)\u001b[49m\n\u001b[1;32m   2295\u001b[0m \u001b[38;5;28;01mreturn\u001b[39;00m result\n",
      "File \u001b[0;32m~/anaconda3/envs/r_env/lib/python3.10/site-packages/IPython/core/magics/extension.py:33\u001b[0m, in \u001b[0;36mExtensionMagics.load_ext\u001b[0;34m(self, module_str)\u001b[0m\n\u001b[1;32m     31\u001b[0m \u001b[38;5;28;01mif\u001b[39;00m \u001b[38;5;129;01mnot\u001b[39;00m module_str:\n\u001b[1;32m     32\u001b[0m     \u001b[38;5;28;01mraise\u001b[39;00m UsageError(\u001b[38;5;124m'\u001b[39m\u001b[38;5;124mMissing module name.\u001b[39m\u001b[38;5;124m'\u001b[39m)\n\u001b[0;32m---> 33\u001b[0m res \u001b[38;5;241m=\u001b[39m \u001b[38;5;28;43mself\u001b[39;49m\u001b[38;5;241;43m.\u001b[39;49m\u001b[43mshell\u001b[49m\u001b[38;5;241;43m.\u001b[39;49m\u001b[43mextension_manager\u001b[49m\u001b[38;5;241;43m.\u001b[39;49m\u001b[43mload_extension\u001b[49m\u001b[43m(\u001b[49m\u001b[43mmodule_str\u001b[49m\u001b[43m)\u001b[49m\n\u001b[1;32m     35\u001b[0m \u001b[38;5;28;01mif\u001b[39;00m res \u001b[38;5;241m==\u001b[39m \u001b[38;5;124m'\u001b[39m\u001b[38;5;124malready loaded\u001b[39m\u001b[38;5;124m'\u001b[39m:\n\u001b[1;32m     36\u001b[0m     \u001b[38;5;28mprint\u001b[39m(\u001b[38;5;124m\"\u001b[39m\u001b[38;5;124mThe \u001b[39m\u001b[38;5;132;01m%s\u001b[39;00m\u001b[38;5;124m extension is already loaded. To reload it, use:\u001b[39m\u001b[38;5;124m\"\u001b[39m \u001b[38;5;241m%\u001b[39m module_str)\n",
      "File \u001b[0;32m~/anaconda3/envs/r_env/lib/python3.10/site-packages/IPython/core/extensions.py:76\u001b[0m, in \u001b[0;36mExtensionManager.load_extension\u001b[0;34m(self, module_str)\u001b[0m\n\u001b[1;32m     69\u001b[0m \u001b[38;5;124;03m\"\"\"Load an IPython extension by its module name.\u001b[39;00m\n\u001b[1;32m     70\u001b[0m \n\u001b[1;32m     71\u001b[0m \u001b[38;5;124;03mReturns the string \"already loaded\" if the extension is already loaded,\u001b[39;00m\n\u001b[1;32m     72\u001b[0m \u001b[38;5;124;03m\"no load function\" if the module doesn't have a load_ipython_extension\u001b[39;00m\n\u001b[1;32m     73\u001b[0m \u001b[38;5;124;03mfunction, or None if it succeeded.\u001b[39;00m\n\u001b[1;32m     74\u001b[0m \u001b[38;5;124;03m\"\"\"\u001b[39;00m\n\u001b[1;32m     75\u001b[0m \u001b[38;5;28;01mtry\u001b[39;00m:\n\u001b[0;32m---> 76\u001b[0m     \u001b[38;5;28;01mreturn\u001b[39;00m \u001b[38;5;28;43mself\u001b[39;49m\u001b[38;5;241;43m.\u001b[39;49m\u001b[43m_load_extension\u001b[49m\u001b[43m(\u001b[49m\u001b[43mmodule_str\u001b[49m\u001b[43m)\u001b[49m\n\u001b[1;32m     77\u001b[0m \u001b[38;5;28;01mexcept\u001b[39;00m \u001b[38;5;167;01mModuleNotFoundError\u001b[39;00m:\n\u001b[1;32m     78\u001b[0m     \u001b[38;5;28;01mif\u001b[39;00m module_str \u001b[38;5;129;01min\u001b[39;00m BUILTINS_EXTS:\n",
      "File \u001b[0;32m~/anaconda3/envs/r_env/lib/python3.10/site-packages/IPython/core/extensions.py:92\u001b[0m, in \u001b[0;36mExtensionManager._load_extension\u001b[0;34m(self, module_str)\u001b[0m\n\u001b[1;32m     90\u001b[0m \u001b[38;5;28;01mif\u001b[39;00m module_str \u001b[38;5;129;01mnot\u001b[39;00m \u001b[38;5;129;01min\u001b[39;00m sys\u001b[38;5;241m.\u001b[39mmodules:\n\u001b[1;32m     91\u001b[0m     \u001b[38;5;28;01mwith\u001b[39;00m prepended_to_syspath(\u001b[38;5;28mself\u001b[39m\u001b[38;5;241m.\u001b[39mipython_extension_dir):\n\u001b[0;32m---> 92\u001b[0m         mod \u001b[38;5;241m=\u001b[39m \u001b[43mimport_module\u001b[49m\u001b[43m(\u001b[49m\u001b[43mmodule_str\u001b[49m\u001b[43m)\u001b[49m\n\u001b[1;32m     93\u001b[0m         \u001b[38;5;28;01mif\u001b[39;00m mod\u001b[38;5;241m.\u001b[39m\u001b[38;5;18m__file__\u001b[39m\u001b[38;5;241m.\u001b[39mstartswith(\u001b[38;5;28mself\u001b[39m\u001b[38;5;241m.\u001b[39mipython_extension_dir):\n\u001b[1;32m     94\u001b[0m             \u001b[38;5;28mprint\u001b[39m((\u001b[38;5;124m\"\u001b[39m\u001b[38;5;124mLoading extensions from \u001b[39m\u001b[38;5;132;01m{dir}\u001b[39;00m\u001b[38;5;124m is deprecated. \u001b[39m\u001b[38;5;124m\"\u001b[39m\n\u001b[1;32m     95\u001b[0m                    \u001b[38;5;124m\"\u001b[39m\u001b[38;5;124mWe recommend managing extensions like any \u001b[39m\u001b[38;5;124m\"\u001b[39m\n\u001b[1;32m     96\u001b[0m                    \u001b[38;5;124m\"\u001b[39m\u001b[38;5;124mother Python packages, in site-packages.\u001b[39m\u001b[38;5;124m\"\u001b[39m)\u001b[38;5;241m.\u001b[39mformat(\n\u001b[1;32m     97\u001b[0m                   \u001b[38;5;28mdir\u001b[39m\u001b[38;5;241m=\u001b[39mcompress_user(\u001b[38;5;28mself\u001b[39m\u001b[38;5;241m.\u001b[39mipython_extension_dir)))\n",
      "File \u001b[0;32m~/anaconda3/envs/r_env/lib/python3.10/importlib/__init__.py:126\u001b[0m, in \u001b[0;36mimport_module\u001b[0;34m(name, package)\u001b[0m\n\u001b[1;32m    124\u001b[0m             \u001b[38;5;28;01mbreak\u001b[39;00m\n\u001b[1;32m    125\u001b[0m         level \u001b[38;5;241m+\u001b[39m\u001b[38;5;241m=\u001b[39m \u001b[38;5;241m1\u001b[39m\n\u001b[0;32m--> 126\u001b[0m \u001b[38;5;28;01mreturn\u001b[39;00m \u001b[43m_bootstrap\u001b[49m\u001b[38;5;241;43m.\u001b[39;49m\u001b[43m_gcd_import\u001b[49m\u001b[43m(\u001b[49m\u001b[43mname\u001b[49m\u001b[43m[\u001b[49m\u001b[43mlevel\u001b[49m\u001b[43m:\u001b[49m\u001b[43m]\u001b[49m\u001b[43m,\u001b[49m\u001b[43m \u001b[49m\u001b[43mpackage\u001b[49m\u001b[43m,\u001b[49m\u001b[43m \u001b[49m\u001b[43mlevel\u001b[49m\u001b[43m)\u001b[49m\n",
      "File \u001b[0;32m<frozen importlib._bootstrap>:1050\u001b[0m, in \u001b[0;36m_gcd_import\u001b[0;34m(name, package, level)\u001b[0m\n",
      "File \u001b[0;32m<frozen importlib._bootstrap>:1027\u001b[0m, in \u001b[0;36m_find_and_load\u001b[0;34m(name, import_)\u001b[0m\n",
      "File \u001b[0;32m<frozen importlib._bootstrap>:1004\u001b[0m, in \u001b[0;36m_find_and_load_unlocked\u001b[0;34m(name, import_)\u001b[0m\n",
      "\u001b[0;31mModuleNotFoundError\u001b[0m: No module named 'bowtie2'"
     ]
    }
   ],
   "source": [
    "%load_ext bowtie2"
   ]
  },
  {
   "cell_type": "code",
   "execution_count": 2,
   "id": "99a9b7c1-58ec-4a97-8b82-c5077a5db5d3",
   "metadata": {},
   "outputs": [
    {
     "name": "stderr",
     "output_type": "stream",
     "text": [
      "R[write to console]: Loading required package: limma\n",
      "\n"
     ]
    }
   ],
   "source": [
    "%%R\n",
    "library(edgeR)\n",
    "library(RColorBrewer)\n",
    "#library(pheatmap)\n",
    "#library(EnhancedVolcano)\n",
    "# library(goseq)\n",
    "# library(ggplot2)\n",
    "# library(dplyr)\n",
    "# library(biomaRt)\n",
    "# library(goseq)\n",
    "#library(sratoolkit)"
   ]
  },
  {
   "cell_type": "code",
   "execution_count": 4,
   "id": "f7d8b4dc-4bef-4cc4-afc4-52087a4e9074",
   "metadata": {},
   "outputs": [
    {
     "name": "stdout",
     "output_type": "stream",
     "text": [
      "\n",
      "2022-04-05T13:00:55 prefetch.2.8.0: 1) 'SRR5448863' is found locally\n",
      "\n",
      "2022-04-05T13:00:55 prefetch.2.8.0: 2) 'SRR768910' is found locally\n"
     ]
    }
   ],
   "source": [
    "%%bash\n",
    "prefetch SRR5448863 SRR768910"
   ]
  },
  {
   "cell_type": "markdown",
   "id": "9c1917cd-e2ca-420a-8315-501f7ae35149",
   "metadata": {},
   "source": [
    "#### `fastq-dump` is a tool for downloading sequencing reads from NCBI’s Sequence Read Archive (SRA). These sequence reads will be downloaded as `FASTQ` files."
   ]
  },
  {
   "cell_type": "code",
   "execution_count": 5,
   "id": "0bef8d93-d8f7-4a80-8de6-5dd765b24311",
   "metadata": {},
   "outputs": [
    {
     "name": "stdout",
     "output_type": "stream",
     "text": [
      "Read 33558497 spots for SRR5448863\n",
      "Written 33558497 spots for SRR5448863\n"
     ]
    }
   ],
   "source": [
    "%%bash\n",
    "fastq-dump --skip-technical --readids --read-filter pass --dumpbase --outdir /home/pdutta/ncbi/fastq/ --split-files SRR5448863"
   ]
  },
  {
   "cell_type": "markdown",
   "id": "107e5cba-2855-4862-94a7-df421e497b5a",
   "metadata": {},
   "source": [
    "#### `FastQC` provides a simple way to do some quality control checks on raw sequence data coming from high throughput sequencing pipelines. "
   ]
  },
  {
   "cell_type": "code",
   "execution_count": 6,
   "id": "f2f552ca-2f50-4f20-8333-24a50d632142",
   "metadata": {},
   "outputs": [
    {
     "name": "stderr",
     "output_type": "stream",
     "text": [
      "Started analysis of SRR5448863_1.fastq\n",
      "Started analysis of SRR5448863_2.fastq\n",
      "Started analysis of SRR5448863_pass_1.fastq\n",
      "Started analysis of SRR5448863_pass_2.fastq\n",
      "Approx 5% complete for SRR5448863_1.fastq\n",
      "Approx 5% complete for SRR5448863_2.fastq\n",
      "Approx 5% complete for SRR5448863_pass_1.fastq\n",
      "Approx 5% complete for SRR5448863_pass_2.fastq\n",
      "Approx 10% complete for SRR5448863_1.fastq\n",
      "Approx 10% complete for SRR5448863_2.fastq\n",
      "Approx 10% complete for SRR5448863_pass_1.fastq\n",
      "Approx 10% complete for SRR5448863_pass_2.fastq\n",
      "Approx 15% complete for SRR5448863_2.fastq\n",
      "Approx 15% complete for SRR5448863_1.fastq\n",
      "Approx 15% complete for SRR5448863_pass_1.fastq\n",
      "Approx 15% complete for SRR5448863_pass_2.fastq\n",
      "Approx 20% complete for SRR5448863_2.fastq\n",
      "Approx 20% complete for SRR5448863_1.fastq\n",
      "Approx 20% complete for SRR5448863_pass_1.fastq\n",
      "Approx 20% complete for SRR5448863_pass_2.fastq\n",
      "Approx 25% complete for SRR5448863_2.fastq\n",
      "Approx 25% complete for SRR5448863_1.fastq\n",
      "Approx 25% complete for SRR5448863_pass_1.fastq\n",
      "Approx 25% complete for SRR5448863_pass_2.fastq\n",
      "Approx 30% complete for SRR5448863_2.fastq\n",
      "Approx 30% complete for SRR5448863_1.fastq\n",
      "Approx 30% complete for SRR5448863_pass_1.fastq\n",
      "Approx 30% complete for SRR5448863_pass_2.fastq\n",
      "Approx 35% complete for SRR5448863_2.fastq\n",
      "Approx 35% complete for SRR5448863_1.fastq\n",
      "Approx 35% complete for SRR5448863_pass_1.fastq\n",
      "Approx 35% complete for SRR5448863_pass_2.fastq\n",
      "Approx 40% complete for SRR5448863_2.fastq\n",
      "Approx 40% complete for SRR5448863_1.fastq\n",
      "Approx 40% complete for SRR5448863_pass_2.fastq\n",
      "Approx 40% complete for SRR5448863_pass_1.fastq\n",
      "Approx 45% complete for SRR5448863_2.fastq\n",
      "Approx 45% complete for SRR5448863_1.fastq\n",
      "Approx 45% complete for SRR5448863_pass_2.fastq\n",
      "Approx 45% complete for SRR5448863_pass_1.fastq\n",
      "Approx 50% complete for SRR5448863_2.fastq\n",
      "Approx 50% complete for SRR5448863_1.fastq\n",
      "Approx 50% complete for SRR5448863_pass_2.fastq\n",
      "Approx 50% complete for SRR5448863_pass_1.fastq\n",
      "Approx 55% complete for SRR5448863_2.fastq\n",
      "Approx 55% complete for SRR5448863_1.fastq\n",
      "Approx 55% complete for SRR5448863_pass_2.fastq\n",
      "Approx 55% complete for SRR5448863_pass_1.fastq\n",
      "Approx 60% complete for SRR5448863_2.fastq\n",
      "Approx 60% complete for SRR5448863_1.fastq\n",
      "Approx 60% complete for SRR5448863_pass_2.fastq\n",
      "Approx 60% complete for SRR5448863_pass_1.fastq\n",
      "Approx 65% complete for SRR5448863_2.fastq\n",
      "Approx 65% complete for SRR5448863_1.fastq\n",
      "Approx 65% complete for SRR5448863_pass_2.fastq\n",
      "Approx 65% complete for SRR5448863_pass_1.fastq\n",
      "Approx 70% complete for SRR5448863_2.fastq\n",
      "Approx 70% complete for SRR5448863_1.fastq\n",
      "Approx 70% complete for SRR5448863_pass_2.fastq\n",
      "Approx 70% complete for SRR5448863_pass_1.fastq\n",
      "Approx 75% complete for SRR5448863_2.fastq\n",
      "Approx 75% complete for SRR5448863_1.fastq\n",
      "Approx 75% complete for SRR5448863_pass_2.fastq\n",
      "Approx 75% complete for SRR5448863_pass_1.fastq\n",
      "Approx 80% complete for SRR5448863_2.fastq\n",
      "Approx 80% complete for SRR5448863_1.fastq\n",
      "Approx 80% complete for SRR5448863_pass_2.fastq\n",
      "Approx 80% complete for SRR5448863_pass_1.fastq\n",
      "Approx 85% complete for SRR5448863_2.fastq\n",
      "Approx 85% complete for SRR5448863_1.fastq\n",
      "Approx 85% complete for SRR5448863_pass_2.fastq\n",
      "Approx 85% complete for SRR5448863_pass_1.fastq\n",
      "Approx 90% complete for SRR5448863_2.fastq\n",
      "Approx 90% complete for SRR5448863_1.fastq\n",
      "Approx 90% complete for SRR5448863_pass_1.fastq\n",
      "Approx 90% complete for SRR5448863_pass_2.fastq\n",
      "Approx 95% complete for SRR5448863_2.fastq\n",
      "Approx 95% complete for SRR5448863_1.fastq\n",
      "Approx 95% complete for SRR5448863_pass_1.fastq\n",
      "Approx 95% complete for SRR5448863_pass_2.fastq\n"
     ]
    },
    {
     "name": "stdout",
     "output_type": "stream",
     "text": [
      "Analysis complete for SRR5448863_2.fastq\n",
      "Analysis complete for SRR5448863_1.fastq\n",
      "Analysis complete for SRR5448863_pass_1.fastq\n",
      "Analysis complete for SRR5448863_pass_2.fastq\n"
     ]
    }
   ],
   "source": [
    "%%bash\n",
    "fastqc -t 30 --outdir /home/pdutta/ncbi/fastqc /home/pdutta/ncbi/fastq/*.fastq"
   ]
  },
  {
   "cell_type": "markdown",
   "id": "31a517f0-0acd-4338-bee4-4882993f729b",
   "metadata": {},
   "source": [
    "## Alignment using `bowtie2`.\n",
    "* https://rnnh.github.io/bioinfo-notebook/docs/bowtie2.html\n",
    "## To install `bowtie2` you can use any of two approaches\n",
    " * For installing using conda, try ```conda install -c bioconda/label/broken bowtie2```\n",
    " * For manual installation, please follow the link https://www.metagenomics.wiki/tools/bowtie2/install "
   ]
  },
  {
   "cell_type": "markdown",
   "id": "e788c27c-e7cd-4a64-b2e1-36ee3a19544e",
   "metadata": {},
   "source": [
    "### Run the `script` file named `bowtie2.sh`. The file generats `.SAM` file.  "
   ]
  },
  {
   "cell_type": "code",
   "execution_count": null,
   "id": "fdd3560e-ac61-4237-baea-b6d043713f32",
   "metadata": {},
   "outputs": [],
   "source": []
  },
  {
   "cell_type": "code",
   "execution_count": null,
   "id": "b617a666-0ef5-489e-9083-f13378792858",
   "metadata": {},
   "outputs": [],
   "source": []
  },
  {
   "cell_type": "code",
   "execution_count": null,
   "id": "3132bdee-b072-4fe2-884d-3a036a2c80a5",
   "metadata": {},
   "outputs": [],
   "source": []
  },
  {
   "cell_type": "code",
   "execution_count": null,
   "id": "33b5740f-41c1-4182-8cf0-759ef5276f0a",
   "metadata": {},
   "outputs": [],
   "source": []
  },
  {
   "cell_type": "code",
   "execution_count": null,
   "id": "359d04a5-80e4-4358-b037-cd9449cad092",
   "metadata": {},
   "outputs": [],
   "source": []
  }
 ],
 "metadata": {
  "kernelspec": {
   "display_name": "Python 3 (ipykernel)",
   "language": "python",
   "name": "python3"
  },
  "language_info": {
   "codemirror_mode": {
    "name": "ipython",
    "version": 3
   },
   "file_extension": ".py",
   "mimetype": "text/x-python",
   "name": "python",
   "nbconvert_exporter": "python",
   "pygments_lexer": "ipython3",
   "version": "3.10.4"
  }
 },
 "nbformat": 4,
 "nbformat_minor": 5
}
