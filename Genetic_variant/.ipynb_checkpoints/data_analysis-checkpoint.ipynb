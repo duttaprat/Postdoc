{
 "cells": [
  {
   "cell_type": "code",
   "execution_count": 1,
   "id": "c452e3b1-5099-4439-bf02-d82776ca8b31",
   "metadata": {},
   "outputs": [],
   "source": [
    "import os, io\n",
    "from collections import defaultdict\n",
    "import dash\n",
    "from dash import dcc, html\n",
    "from dash.dependencies import Input, Output\n",
    "import plotly.express as px\n",
    "import pandas as pd\n",
    "from jupyter_dash import JupyterDash\n",
    "import dash"
   ]
  },
  {
   "cell_type": "code",
   "execution_count": 2,
   "id": "06ec807e-47b3-4582-a319-ee7b78460085",
   "metadata": {},
   "outputs": [],
   "source": [
    "parent_folder_path  = \"/data/projects/VCF_files/BRCA/Download_files\""
   ]
  },
  {
   "cell_type": "code",
   "execution_count": 3,
   "id": "c02ff17c-9d2a-4759-96d2-6fac82f17313",
   "metadata": {},
   "outputs": [],
   "source": [
    "def get_vcf_gz_files_except_logs(root_folder):\n",
    "    all_files = []\n",
    "\n",
    "    # Walk through the directory tree\n",
    "    for dirpath, dirnames, filenames in os.walk(root_folder):\n",
    "        # If \"logs\" is in dirnames, remove it to avoid traversing it\n",
    "        if 'logs' in dirnames:\n",
    "            dirnames.remove('logs')\n",
    "\n",
    "        # Add only the filenames with the extension .vcf.gz in the current directory to the all_files list\n",
    "        for filename in filenames:\n",
    "            if filename.endswith('.vcf.gz'):\n",
    "                all_files.append(os.path.join(dirpath, filename))\n",
    "    return all_files"
   ]
  },
  {
   "cell_type": "code",
   "execution_count": 4,
   "id": "2aab0909-f63f-4a9b-8eff-f535bbc99982",
   "metadata": {},
   "outputs": [],
   "source": [
    "files = get_vcf_gz_files_except_logs(parent_folder_path)\n",
    "tag_counts = {\n",
    "    'genome sequencing': defaultdict(int),\n",
    "    'tools': defaultdict(int),\n",
    "    'variant type': defaultdict(int)\n",
    "}\n",
    "for file in files:\n",
    "    parts = file.split('.')\n",
    "    if len(parts) >= 5:\n",
    "        genome_seq, tool, variant_type =  parts[-5], parts[-4], parts[-3]\n",
    "        if genome_seq and tool and variant_type:\n",
    "            tag_counts['genome sequencing'][genome_seq] += 1\n",
    "            tag_counts['tools'][tool] += 1\n",
    "            tag_counts['variant type'][variant_type] += 1"
   ]
  },
  {
   "cell_type": "code",
   "execution_count": 5,
   "id": "423c7b6d-d92c-453d-865f-61ff03f097f0",
   "metadata": {},
   "outputs": [
    {
     "name": "stdout",
     "output_type": "stream",
     "text": [
      "\n",
      "Genome sequencing:\n",
      "wxs: 2533\n",
      "\n",
      "Tools:\n",
      "mutect2: 318\n",
      "muse: 318\n",
      "pindel: 330\n",
      "MuTect2: 331\n",
      "Pindel: 311\n",
      "varscan2: 307\n",
      "MuSE: 290\n",
      "VarScan2: 328\n",
      "\n",
      "Variant type:\n",
      "raw_somatic_mutation: 1273\n",
      "somatic_annotation: 1260\n"
     ]
    }
   ],
   "source": [
    "for category, tags in tag_counts.items():\n",
    "    print(f\"\\n{category.capitalize()}:\")\n",
    "    for tag, count in tags.items():\n",
    "        print(f\"{tag}: {count}\")"
   ]
  },
  {
   "cell_type": "code",
   "execution_count": 6,
   "id": "088b6947-c4c9-438a-8cd4-930b9bfc2aaf",
   "metadata": {},
   "outputs": [],
   "source": [
    "# Dummy data: replace this with your actual file names and tags extraction\n",
    "data = [\n",
    "    {\"file\": \"file1.vcf.gz\", \"genome sequencing\": \"wxs\", \"tools\": \"mutect2\", \"variant type\": \"raw_somatic_mutation\"},\n",
    "    {\"file\": \"file2.vcf.gz\", \"genome sequencing\": \"wxs\", \"tools\": \"muse\", \"variant type\": \"raw_somatic_mutation\"},\n",
    "    # Add more data as required...\n",
    "]\n",
    "\n",
    "df = pd.DataFrame(data)"
   ]
  },
  {
   "cell_type": "code",
   "execution_count": 7,
   "id": "0d57ed57-8bf9-485d-a877-860df2a69bdb",
   "metadata": {},
   "outputs": [
    {
     "data": {
      "text/html": [
       "<div>\n",
       "<style scoped>\n",
       "    .dataframe tbody tr th:only-of-type {\n",
       "        vertical-align: middle;\n",
       "    }\n",
       "\n",
       "    .dataframe tbody tr th {\n",
       "        vertical-align: top;\n",
       "    }\n",
       "\n",
       "    .dataframe thead th {\n",
       "        text-align: right;\n",
       "    }\n",
       "</style>\n",
       "<table border=\"1\" class=\"dataframe\">\n",
       "  <thead>\n",
       "    <tr style=\"text-align: right;\">\n",
       "      <th></th>\n",
       "      <th>file</th>\n",
       "      <th>genome sequencing</th>\n",
       "      <th>tools</th>\n",
       "      <th>variant type</th>\n",
       "    </tr>\n",
       "  </thead>\n",
       "  <tbody>\n",
       "    <tr>\n",
       "      <th>0</th>\n",
       "      <td>file1.vcf.gz</td>\n",
       "      <td>wxs</td>\n",
       "      <td>mutect2</td>\n",
       "      <td>raw_somatic_mutation</td>\n",
       "    </tr>\n",
       "    <tr>\n",
       "      <th>1</th>\n",
       "      <td>file2.vcf.gz</td>\n",
       "      <td>wxs</td>\n",
       "      <td>muse</td>\n",
       "      <td>raw_somatic_mutation</td>\n",
       "    </tr>\n",
       "  </tbody>\n",
       "</table>\n",
       "</div>"
      ],
      "text/plain": [
       "           file genome sequencing    tools          variant type\n",
       "0  file1.vcf.gz               wxs  mutect2  raw_somatic_mutation\n",
       "1  file2.vcf.gz               wxs     muse  raw_somatic_mutation"
      ]
     },
     "execution_count": 7,
     "metadata": {},
     "output_type": "execute_result"
    }
   ],
   "source": [
    "df"
   ]
  },
  {
   "cell_type": "code",
   "execution_count": 9,
   "id": "b3347a63-4841-4209-bfd6-3c4c0859e1e7",
   "metadata": {},
   "outputs": [
    {
     "data": {
      "text/html": [
       "\n",
       "        <iframe\n",
       "            width=\"100%\"\n",
       "            height=\"650\"\n",
       "            src=\"http://0.0.0.0:6194/\"\n",
       "            frameborder=\"0\"\n",
       "            allowfullscreen\n",
       "            \n",
       "        ></iframe>\n",
       "        "
      ],
      "text/plain": [
       "<IPython.lib.display.IFrame at 0x7f4930385c30>"
      ]
     },
     "metadata": {},
     "output_type": "display_data"
    },
    {
     "data": {
      "text/html": [
       "\n",
       "        <iframe\n",
       "            width=\"100%\"\n",
       "            height=\"650\"\n",
       "            src=\"http://0.0.0.0:6194/\"\n",
       "            frameborder=\"0\"\n",
       "            allowfullscreen\n",
       "            \n",
       "        ></iframe>\n",
       "        "
      ],
      "text/plain": [
       "<IPython.lib.display.IFrame at 0x7f4930385060>"
      ]
     },
     "metadata": {},
     "output_type": "display_data"
    }
   ],
   "source": [
    "#app = dash.Dash(__name__, external_stylesheets=[\"https://maxcdn.bootstrapcdn.com/bootstrap/4.0.0/css/bootstrap.min.css\"])\n",
    "app = JupyterDash(__name__, external_stylesheets=[\"https://maxcdn.bootstrapcdn.com/bootstrap/4.0.0/css/bootstrap.min.css\"])\n",
    "\n",
    "app.layout = html.Div([\n",
    "    html.H2(\"Venn Diagram Dashboard\"),\n",
    "    html.Div([\n",
    "        dcc.Checklist(\n",
    "            id=\"genome-sequencing-checklist\",\n",
    "            options=[{\"label\": tag, \"value\": tag} for tag in df[\"genome sequencing\"].unique()],\n",
    "            inline=True,\n",
    "            labelStyle={\"margin-right\": \"20px\"}\n",
    "        ),\n",
    "        dcc.Checklist(\n",
    "            id=\"tools-checklist\",\n",
    "            options=[{\"label\": tag, \"value\": tag} for tag in df[\"tools\"].unique()],\n",
    "            inline=True,\n",
    "            labelStyle={\"margin-right\": \"20px\"}\n",
    "        ),\n",
    "        dcc.Checklist(\n",
    "            id=\"variant-type-checklist\",\n",
    "            options=[{\"label\": tag, \"value\": tag} for tag in df[\"variant type\"].unique()],\n",
    "            inline=True,\n",
    "            labelStyle={\"margin-right\": \"20px\"}\n",
    "        ),\n",
    "    ], style={\"margin-bottom\": \"20px\"}),\n",
    "    html.Div(id=\"file-output\")\n",
    "])\n",
    "\n",
    "@app.callback(\n",
    "    Output(\"file-output\", \"children\"),\n",
    "    Input(\"genome-sequencing-checklist\", \"value\"),\n",
    "    Input(\"tools-checklist\", \"value\"),\n",
    "    Input(\"variant-type-checklist\", \"value\")\n",
    ")\n",
    "def update_output(genome_vals, tools_vals, variant_vals):\n",
    "    filtered_df = df[\n",
    "        df[\"genome sequencing\"].isin(genome_vals) &\n",
    "        df[\"tools\"].isin(tools_vals) &\n",
    "        df[\"variant type\"].isin(variant_vals)\n",
    "    ]\n",
    "\n",
    "    children = []\n",
    "    for idx, row in filtered_df.iterrows():\n",
    "        children.append(html.Div(f\"{row['file']}\"))\n",
    "    return children\n",
    "\n",
    "if __name__ == \"__main__\":\n",
    "    app.run_server(debug=True, mode='inline', host='0.0.0.0', port=6194)"
   ]
  },
  {
   "cell_type": "code",
   "execution_count": 23,
   "id": "11288c53-8465-4c41-9ec7-51805ad4fcec",
   "metadata": {},
   "outputs": [
    {
     "name": "stdout",
     "output_type": "stream",
     "text": [
      "Requirement already satisfied: dash in /shared/software/anaconda/anaconda3/lib/python3.10/site-packages (2.12.1)\n",
      "Requirement already satisfied: dash-bootstrap-components in /shared/software/anaconda/anaconda3/lib/python3.10/site-packages (1.4.2)\n",
      "Requirement already satisfied: plotly in /shared/software/anaconda/anaconda3/lib/python3.10/site-packages (5.9.0)\n",
      "Requirement already satisfied: pandas in /shared/software/anaconda/anaconda3/lib/python3.10/site-packages (1.5.3)\n",
      "Collecting jupyter-dash\n",
      "  Downloading jupyter_dash-0.4.2-py3-none-any.whl (23 kB)\n",
      "Requirement already satisfied: typing-extensions>=4.1.1 in /shared/software/anaconda/anaconda3/lib/python3.10/site-packages (from dash) (4.4.0)\n",
      "Requirement already satisfied: Werkzeug<2.3.0 in /shared/software/anaconda/anaconda3/lib/python3.10/site-packages (from dash) (2.2.2)\n",
      "Requirement already satisfied: nest-asyncio in /shared/software/anaconda/anaconda3/lib/python3.10/site-packages (from dash) (1.5.6)\n",
      "Requirement already satisfied: ansi2html in /shared/software/anaconda/anaconda3/lib/python3.10/site-packages (from dash) (1.8.0)\n",
      "Requirement already satisfied: Flask<2.3.0,>=1.0.4 in /shared/software/anaconda/anaconda3/lib/python3.10/site-packages (from dash) (2.2.2)\n",
      "Requirement already satisfied: dash-table==5.0.0 in /shared/software/anaconda/anaconda3/lib/python3.10/site-packages (from dash) (5.0.0)\n",
      "Requirement already satisfied: requests in /shared/software/anaconda/anaconda3/lib/python3.10/site-packages (from dash) (2.28.1)\n",
      "Requirement already satisfied: retrying in /shared/software/anaconda/anaconda3/lib/python3.10/site-packages (from dash) (1.3.4)\n",
      "Requirement already satisfied: setuptools in /shared/software/anaconda/anaconda3/lib/python3.10/site-packages (from dash) (65.6.3)\n",
      "Requirement already satisfied: dash-html-components==2.0.0 in /shared/software/anaconda/anaconda3/lib/python3.10/site-packages (from dash) (2.0.0)\n",
      "Requirement already satisfied: dash-core-components==2.0.0 in /shared/software/anaconda/anaconda3/lib/python3.10/site-packages (from dash) (2.0.0)\n",
      "Requirement already satisfied: tenacity>=6.2.0 in /shared/software/anaconda/anaconda3/lib/python3.10/site-packages (from plotly) (8.0.1)\n",
      "Requirement already satisfied: python-dateutil>=2.8.1 in /shared/software/anaconda/anaconda3/lib/python3.10/site-packages (from pandas) (2.8.2)\n",
      "Requirement already satisfied: pytz>=2020.1 in /shared/software/anaconda/anaconda3/lib/python3.10/site-packages (from pandas) (2022.7)\n",
      "Requirement already satisfied: numpy>=1.21.0 in /shared/software/anaconda/anaconda3/lib/python3.10/site-packages (from pandas) (1.23.5)\n",
      "Requirement already satisfied: ipython in /shared/software/anaconda/anaconda3/lib/python3.10/site-packages (from jupyter-dash) (8.10.0)\n",
      "Requirement already satisfied: ipykernel in /shared/software/anaconda/anaconda3/lib/python3.10/site-packages (from jupyter-dash) (6.19.2)\n",
      "Requirement already satisfied: itsdangerous>=2.0 in /shared/software/anaconda/anaconda3/lib/python3.10/site-packages (from Flask<2.3.0,>=1.0.4->dash) (2.0.1)\n",
      "Requirement already satisfied: Jinja2>=3.0 in /shared/software/anaconda/anaconda3/lib/python3.10/site-packages (from Flask<2.3.0,>=1.0.4->dash) (3.1.2)\n",
      "Requirement already satisfied: click>=8.0 in /shared/software/anaconda/anaconda3/lib/python3.10/site-packages (from Flask<2.3.0,>=1.0.4->dash) (8.0.4)\n",
      "Requirement already satisfied: six>=1.5 in /shared/software/anaconda/anaconda3/lib/python3.10/site-packages (from python-dateutil>=2.8.1->pandas) (1.16.0)\n",
      "Requirement already satisfied: MarkupSafe>=2.1.1 in /shared/software/anaconda/anaconda3/lib/python3.10/site-packages (from Werkzeug<2.3.0->dash) (2.1.1)\n",
      "Requirement already satisfied: packaging in /shared/software/anaconda/anaconda3/lib/python3.10/site-packages (from ipykernel->jupyter-dash) (22.0)\n",
      "Requirement already satisfied: psutil in /shared/software/anaconda/anaconda3/lib/python3.10/site-packages (from ipykernel->jupyter-dash) (5.9.0)\n",
      "Requirement already satisfied: jupyter-client>=6.1.12 in /shared/software/anaconda/anaconda3/lib/python3.10/site-packages (from ipykernel->jupyter-dash) (7.3.4)\n",
      "Requirement already satisfied: traitlets>=5.4.0 in /shared/software/anaconda/anaconda3/lib/python3.10/site-packages (from ipykernel->jupyter-dash) (5.7.1)\n",
      "Requirement already satisfied: comm>=0.1.1 in /shared/software/anaconda/anaconda3/lib/python3.10/site-packages (from ipykernel->jupyter-dash) (0.1.2)\n",
      "Requirement already satisfied: pyzmq>=17 in /shared/software/anaconda/anaconda3/lib/python3.10/site-packages (from ipykernel->jupyter-dash) (23.2.0)\n",
      "Requirement already satisfied: debugpy>=1.0 in /shared/software/anaconda/anaconda3/lib/python3.10/site-packages (from ipykernel->jupyter-dash) (1.5.1)\n",
      "Requirement already satisfied: tornado>=6.1 in /shared/software/anaconda/anaconda3/lib/python3.10/site-packages (from ipykernel->jupyter-dash) (6.1)\n",
      "Requirement already satisfied: matplotlib-inline>=0.1 in /shared/software/anaconda/anaconda3/lib/python3.10/site-packages (from ipykernel->jupyter-dash) (0.1.6)\n",
      "Requirement already satisfied: pygments>=2.4.0 in /shared/software/anaconda/anaconda3/lib/python3.10/site-packages (from ipython->jupyter-dash) (2.11.2)\n",
      "Requirement already satisfied: decorator in /shared/software/anaconda/anaconda3/lib/python3.10/site-packages (from ipython->jupyter-dash) (5.1.1)\n",
      "Requirement already satisfied: pickleshare in /shared/software/anaconda/anaconda3/lib/python3.10/site-packages (from ipython->jupyter-dash) (0.7.5)\n",
      "Requirement already satisfied: prompt-toolkit<3.1.0,>=3.0.30 in /shared/software/anaconda/anaconda3/lib/python3.10/site-packages (from ipython->jupyter-dash) (3.0.36)\n",
      "Requirement already satisfied: stack-data in /shared/software/anaconda/anaconda3/lib/python3.10/site-packages (from ipython->jupyter-dash) (0.2.0)\n",
      "Requirement already satisfied: backcall in /shared/software/anaconda/anaconda3/lib/python3.10/site-packages (from ipython->jupyter-dash) (0.2.0)\n",
      "Requirement already satisfied: pexpect>4.3 in /shared/software/anaconda/anaconda3/lib/python3.10/site-packages (from ipython->jupyter-dash) (4.8.0)\n",
      "Requirement already satisfied: jedi>=0.16 in /shared/software/anaconda/anaconda3/lib/python3.10/site-packages (from ipython->jupyter-dash) (0.18.1)\n",
      "Requirement already satisfied: charset-normalizer<3,>=2 in /shared/software/anaconda/anaconda3/lib/python3.10/site-packages (from requests->dash) (2.0.4)\n",
      "Requirement already satisfied: idna<4,>=2.5 in /shared/software/anaconda/anaconda3/lib/python3.10/site-packages (from requests->dash) (3.4)\n",
      "Requirement already satisfied: urllib3<1.27,>=1.21.1 in /shared/software/anaconda/anaconda3/lib/python3.10/site-packages (from requests->dash) (1.26.14)\n",
      "Requirement already satisfied: certifi>=2017.4.17 in /shared/software/anaconda/anaconda3/lib/python3.10/site-packages (from requests->dash) (2022.12.7)\n",
      "Requirement already satisfied: parso<0.9.0,>=0.8.0 in /shared/software/anaconda/anaconda3/lib/python3.10/site-packages (from jedi>=0.16->ipython->jupyter-dash) (0.8.3)\n",
      "Requirement already satisfied: jupyter-core>=4.9.2 in /shared/software/anaconda/anaconda3/lib/python3.10/site-packages (from jupyter-client>=6.1.12->ipykernel->jupyter-dash) (5.2.0)\n",
      "Requirement already satisfied: entrypoints in /shared/software/anaconda/anaconda3/lib/python3.10/site-packages (from jupyter-client>=6.1.12->ipykernel->jupyter-dash) (0.4)\n",
      "Requirement already satisfied: ptyprocess>=0.5 in /shared/software/anaconda/anaconda3/lib/python3.10/site-packages (from pexpect>4.3->ipython->jupyter-dash) (0.7.0)\n",
      "Requirement already satisfied: wcwidth in /shared/software/anaconda/anaconda3/lib/python3.10/site-packages (from prompt-toolkit<3.1.0,>=3.0.30->ipython->jupyter-dash) (0.2.5)\n",
      "Requirement already satisfied: executing in /shared/software/anaconda/anaconda3/lib/python3.10/site-packages (from stack-data->ipython->jupyter-dash) (0.8.3)\n",
      "Requirement already satisfied: pure-eval in /shared/software/anaconda/anaconda3/lib/python3.10/site-packages (from stack-data->ipython->jupyter-dash) (0.2.2)\n",
      "Requirement already satisfied: asttokens in /shared/software/anaconda/anaconda3/lib/python3.10/site-packages (from stack-data->ipython->jupyter-dash) (2.0.5)\n",
      "Requirement already satisfied: platformdirs>=2.5 in /shared/software/anaconda/anaconda3/lib/python3.10/site-packages (from jupyter-core>=4.9.2->jupyter-client>=6.1.12->ipykernel->jupyter-dash) (2.5.2)\n",
      "Installing collected packages: jupyter-dash\n",
      "Successfully installed jupyter-dash-0.4.2\n"
     ]
    }
   ],
   "source": [
    "!pip install dash dash-bootstrap-components plotly pandas jupyter-dash"
   ]
  },
  {
   "cell_type": "code",
   "execution_count": null,
   "id": "31aca549-38e4-42dd-a7db-83456ae94140",
   "metadata": {},
   "outputs": [],
   "source": []
  }
 ],
 "metadata": {
  "kernelspec": {
   "display_name": "Python 3 (ipykernel)",
   "language": "python",
   "name": "python3"
  },
  "language_info": {
   "codemirror_mode": {
    "name": "ipython",
    "version": 3
   },
   "file_extension": ".py",
   "mimetype": "text/x-python",
   "name": "python",
   "nbconvert_exporter": "python",
   "pygments_lexer": "ipython3",
   "version": "3.10.11"
  }
 },
 "nbformat": 4,
 "nbformat_minor": 5
}
