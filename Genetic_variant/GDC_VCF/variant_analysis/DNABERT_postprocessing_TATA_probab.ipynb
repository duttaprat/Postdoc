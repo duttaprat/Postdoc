{
 "cells": [
  {
   "cell_type": "code",
   "execution_count": null,
   "id": "63f40c7b-4e9b-4626-a876-38edcd6b2686",
   "metadata": {},
   "outputs": [],
   "source": [
    "import os, glob\n",
    "import numpy as np\n",
    "import pandas as pd\n",
    "import math\n",
    "import pickle\n",
    "import matplotlib.pyplot as plt\n",
    "#from scipy.stats import norm\n",
    "# from scipy import stats\n",
    "# from statsmodels.stats.weightstats import ztest\n",
    "from IPython.display import display, HTML"
   ]
  },
  {
   "cell_type": "code",
   "execution_count": null,
   "id": "77b8b2be-d263-4d22-a3e5-9206177d4f3a",
   "metadata": {},
   "outputs": [],
   "source": [
    "non_coding_region=\"core_prom\"\n",
    "core_prom_type= \"TATA\""
   ]
  },
  {
   "cell_type": "code",
   "execution_count": null,
   "id": "f632880e-7e99-4b7c-bccf-987abb8e8fdf",
   "metadata": {},
   "outputs": [],
   "source": [
    "base_dir = \"/home/pdutta/Data/Cancer_wiseGDC/Data/Brain/Generated_files/DNABERT_Data/{}/Patient_wise\".format(non_coding_region)\n",
    "output_dir= \"/home/pdutta/Data/Cancer_wiseGDC/Data/Brain/Generated_files/Variant_Analysis/{}\".format(core_prom_type)\n",
    "if not os.path.exists(output_dir):\n",
    "    os.makedirs(output_dir)"
   ]
  },
  {
   "cell_type": "code",
   "execution_count": null,
   "id": "52d8cbd8-7606-4e43-9720-745ab43b44d2",
   "metadata": {},
   "outputs": [],
   "source": [
    "df_core_prom = pd.read_csv(\"/home/pdutta/Data/Noncoding_region/core_prom_bed.tsv\", sep=\"\\t\")\n",
    "df_core_prom"
   ]
  },
  {
   "cell_type": "code",
   "execution_count": null,
   "id": "7f51a017-a684-4935-9920-bf80a213876e",
   "metadata": {},
   "outputs": [],
   "source": [
    "with open(\"/home/pdutta/Data/Cancer_wiseGDC/Data/Brain/Generated_files/Intersected_Data/intersected_vcf_{}_data.pkl\".format(non_coding_region), \"rb\") as file:\n",
    "    loaded_dictionary = pickle.load(file)"
   ]
  },
  {
   "cell_type": "code",
   "execution_count": null,
   "id": "a6ec4aad-3fbc-4f34-a02c-84c3f464518a",
   "metadata": {},
   "outputs": [],
   "source": [
    "len(loaded_dictionary)"
   ]
  },
  {
   "cell_type": "code",
   "execution_count": null,
   "id": "d0c512c7-f77d-4f25-9659-866eb47116c9",
   "metadata": {},
   "outputs": [],
   "source": [
    "def log_oods_ratio(p1,p2):\n",
    "    term1 = math.log2(p1/(1-p1))\n",
    "    term2 = math.log2(p2/(1-p2))\n",
    "    return (term1-term2)\n",
    "def calculate_diff_probab(p1,p2):\n",
    "    return((p2-p1)*max(p1,p2))"
   ]
  },
  {
   "cell_type": "code",
   "execution_count": null,
   "id": "93212864-39d2-4815-92d8-98d6659cd155",
   "metadata": {},
   "outputs": [],
   "source": [
    "patient_dfs= []\n",
    "patient_id = []\n",
    "for dirpath, dirnames, filenames in os.walk(base_dir):\n",
    "    print(dirpath, dirnames, filenames)\n",
    "    for dir_name in dirnames:\n",
    "        dir_path = dirpath +\"/\" + dir_name\n",
    "        print(dir_path)\n",
    "        patient_id.append(dir_name)\n",
    "        print(dir_name)\n",
    "        #input()\n",
    "        df_temp = loaded_dictionary[dir_name]\n",
    "        print(len(df_temp))\n",
    "        df_temp = df_temp.drop_duplicates(subset=['chr_name', 'start', 'end', 'transcript_id','START_POS', 'END_POS', 'REF','ALT']).reset_index()\n",
    "        concat_probab = np.load(dir_path+\"/{}/Prediction_result/pred_results.npy\".format(core_prom_type))\n",
    "        print(len(concat_probab))\n",
    "        print(len(df_temp))\n",
    "        if(2*len(df_temp)==len(concat_probab)):\n",
    "            #input()\n",
    "            Reference_probab = concat_probab[::2]\n",
    "            Alternative_probab = concat_probab[1::2]\n",
    "            df_temp['Ref_probab']=Reference_probab\n",
    "            df_temp['Alt_probab']=Alternative_probab\n",
    "            df_temp['ScoreChange'] = df_temp.apply(lambda row: calculate_diff_probab(row['Ref_probab'], row['Alt_probab']), axis=1)\n",
    "            df_temp['LogOddRatio'] = df_temp.apply(lambda row: log_oods_ratio(row['Ref_probab'], row['Alt_probab']), axis=1)\n",
    "            #display(df_temp)\n",
    "            #input()\n",
    "            # Apply the filter conditions\n",
    "            df_temp = df_temp[((df_temp['Ref_probab'] > 0.5) & (df_temp['Alt_probab'] <= 0.5)) | \n",
    "                      ((df_temp['Ref_probab'] <= 0.5) & (df_temp['Alt_probab'] > 0.5))]\n",
    "            #display(df_temp)\n",
    "            #input()\n",
    "            patient_dfs.append(df_temp)\n",
    "        else:\n",
    "            print(dir_name)\n",
    "            input()\n",
    "        #input()\n",
    "    break"
   ]
  },
  {
   "cell_type": "code",
   "execution_count": null,
   "id": "d4193a35-c7b6-4d5c-ba76-46b042dcb365",
   "metadata": {},
   "outputs": [],
   "source": [
    "patient_dfs[0]"
   ]
  },
  {
   "cell_type": "code",
   "execution_count": null,
   "id": "a3fe4d14-0263-4120-b251-ff0b09e547ca",
   "metadata": {},
   "outputs": [],
   "source": []
  },
  {
   "cell_type": "code",
   "execution_count": null,
   "id": "7ed5490d-c264-4530-b235-1b0912ca1f8c",
   "metadata": {},
   "outputs": [],
   "source": []
  },
  {
   "cell_type": "code",
   "execution_count": null,
   "id": "3463e015-6276-4113-801d-9d713d9726b2",
   "metadata": {},
   "outputs": [],
   "source": [
    "# Concatenate the patient dataframes and drop duplicates to get all unique regions across the patients\n",
    "unique_patient_regions = pd.concat(patient_dfs).drop_duplicates(subset=['chr_name', 'transcript_id', 'start', 'end', 'START_POS', 'END_POS', 'REF', 'ALT'])\n",
    "unique_patient_regions"
   ]
  },
  {
   "cell_type": "code",
   "execution_count": null,
   "id": "f1a650cf-3f09-4aa4-b252-9847f6bcb339",
   "metadata": {},
   "outputs": [],
   "source": [
    "filtered_regions = unique_patient_regions.groupby(['chr_name', 'transcript_id', 'start', 'end']).filter(lambda x: len(x) > 1 and not all(x['START_POS'].eq(x['START_POS'].iloc[0]) & x['END_POS'].eq(x['END_POS'].iloc[0]) & x['REF'].eq(x['REF'].iloc[0]) & x['ALT'].eq(x['ALT'].iloc[0])))\n",
    "filtered_regions"
   ]
  },
  {
   "cell_type": "code",
   "execution_count": null,
   "id": "ef242535-ecd9-4ef3-9acb-1dfb4ef4ac2c",
   "metadata": {},
   "outputs": [],
   "source": [
    "pd.set_option('display.max_columns', None)\n",
    "filtered_regions[filtered_regions['start']==47977248]"
   ]
  },
  {
   "cell_type": "code",
   "execution_count": null,
   "id": "98a5ed29-2aa4-47b6-932c-1177faa9e3e3",
   "metadata": {},
   "outputs": [],
   "source": [
    "# Reset the option to its default (typically 20)\n",
    "pd.reset_option('display.max_columns')"
   ]
  },
  {
   "cell_type": "code",
   "execution_count": null,
   "id": "372a6c44-abc2-4431-b2d8-ff7221d2a118",
   "metadata": {},
   "outputs": [],
   "source": [
    "unique_patient_regions[unique_patient_regions['start']==47977248]"
   ]
  },
  {
   "cell_type": "code",
   "execution_count": null,
   "id": "53751282-86a3-4886-aaa0-19770cf2bed5",
   "metadata": {},
   "outputs": [],
   "source": [
    "# Step 3: Create a new dataframe with three rows for each patient, with columns as the acceptor coordinates\n",
    "# Initialize the dictionaries\n",
    "data_ref, data_alt, data_log_odd, data_score_change = {}, {}, {}, {}\n",
    "\n",
    "# Loop over each region in the unique_patient_regions\n",
    "for _, region in unique_patient_regions.iterrows():\n",
    "    key = f'{region.chr_name}_{region.start}_{region.end}_{region.START_POS}_{region.END_POS}_{region.REF}_{region.ALT}'\n",
    "    data_ref[key] = []\n",
    "    data_alt[key] = []\n",
    "    data_log_odd[key] = []\n",
    "    data_score_change[key] = []\n",
    "\n",
    "# Loop through each patient and for each region, get the Alt_probab score for that region for that patient\n",
    "for df in patient_dfs:\n",
    "    print(df.shape)\n",
    "    #print(df)\n",
    "    for _, region in unique_patient_regions.iterrows():\n",
    "        #print(region)\n",
    "        #input()\n",
    "        for data, score_column in zip([data_ref, data_alt, data_log_odd, data_score_change], ['Ref_probab', 'Alt_probab', 'LogOddRatio', 'ScoreChange']):\n",
    "            score_series = df.loc[(df['chr_name'] == region.chr_name) & (df['start'] == region.start)& (df['end'] == region.end) & (df['START_POS'] == region.START_POS) & (df['END_POS'] == region.END_POS) & (df['REF'] == region.REF) & (df['ALT'] == region.ALT) , score_column]\n",
    "            #print(score_series)\n",
    "            if score_series.empty:\n",
    "                score = np.nan\n",
    "            else:\n",
    "                score = score_series.max()\n",
    "                #print(score_series , score)\n",
    "                #input()\n",
    "            data[f'{region.chr_name}_{region.start}_{region.end}_{region.START_POS}_{region.END_POS}_{region.REF}_{region.ALT}'].append(score)"
   ]
  },
  {
   "cell_type": "code",
   "execution_count": null,
   "id": "56ac2680-5c35-43b7-8100-0967074e78d6",
   "metadata": {},
   "outputs": [],
   "source": []
  },
  {
   "cell_type": "code",
   "execution_count": null,
   "id": "95aa5ae6-b7d2-4072-bc73-d5a192339aa9",
   "metadata": {},
   "outputs": [],
   "source": [
    "result_df_ref = pd.DataFrame(data_ref)\n",
    "result_df_ref.insert(0, \"Patient_ID\", patient_id)\n",
    "result_df_ref"
   ]
  },
  {
   "cell_type": "code",
   "execution_count": null,
   "id": "fa95f309-e8f5-4d60-b14b-b8ddaf1c35a2",
   "metadata": {},
   "outputs": [],
   "source": [
    "result_df_alt = pd.DataFrame(data_alt)\n",
    "result_df_alt.insert(0, \"Patient_ID\", patient_id)\n",
    "result_df_alt"
   ]
  },
  {
   "cell_type": "code",
   "execution_count": null,
   "id": "b343afcd-021d-442f-bf3d-a926a6b88dd3",
   "metadata": {},
   "outputs": [],
   "source": [
    "result_df_score_change = pd.DataFrame(data_score_change)\n",
    "result_df_score_change.insert(0, \"Patient_ID\", patient_id)\n",
    "result_df_score_change"
   ]
  },
  {
   "cell_type": "code",
   "execution_count": null,
   "id": "d7da1b60-5c4e-4a40-96db-eb9bca36b119",
   "metadata": {},
   "outputs": [],
   "source": [
    "result_df_log_odd = pd.DataFrame(data_log_odd)\n",
    "result_df_log_odd.insert(0, \"Patient_ID\", patient_id)\n",
    "result_df_log_odd"
   ]
  },
  {
   "cell_type": "code",
   "execution_count": null,
   "id": "ee694163-4c7b-4913-a954-506d3efddcb6",
   "metadata": {},
   "outputs": [],
   "source": [
    "result_df_ref.to_csv(output_dir+\"df_ref_score.tsv\", sep=\"\\t\", index=False)\n",
    "result_df_alt.to_csv(output_dir+\"df_alt_score.tsv\", sep=\"\\t\", index=False)\n",
    "result_df_log_odd.to_csv(output_dir+\"df_log_odd_score.tsv\", sep=\"\\t\", index=False)\n",
    "result_df_score_change.to_csv(output_dir+\"df_score_change.tsv\", sep=\"\\t\", index=False)"
   ]
  },
  {
   "cell_type": "code",
   "execution_count": null,
   "id": "c19ccc9b-46f1-4983-9b96-af4fd6cc6bdc",
   "metadata": {},
   "outputs": [],
   "source": []
  },
  {
   "cell_type": "code",
   "execution_count": null,
   "id": "02542935-31fe-4e73-b1e4-8abcbfdacc86",
   "metadata": {},
   "outputs": [],
   "source": []
  },
  {
   "cell_type": "code",
   "execution_count": null,
   "id": "d2c49f04-a5e8-4150-bbba-4462b94dd990",
   "metadata": {},
   "outputs": [],
   "source": []
  },
  {
   "cell_type": "code",
   "execution_count": null,
   "id": "aa2ba793-07ea-4370-b3cb-97b5bb14c7b4",
   "metadata": {},
   "outputs": [],
   "source": []
  }
 ],
 "metadata": {
  "kernelspec": {
   "display_name": "Python 3 (ipykernel)",
   "language": "python",
   "name": "python3"
  },
  "language_info": {
   "codemirror_mode": {
    "name": "ipython",
    "version": 3
   },
   "file_extension": ".py",
   "mimetype": "text/x-python",
   "name": "python",
   "nbconvert_exporter": "python",
   "pygments_lexer": "ipython3",
   "version": "3.10.4"
  }
 },
 "nbformat": 4,
 "nbformat_minor": 5
}
