{
 "cells": [
  {
   "cell_type": "code",
   "execution_count": 1,
   "id": "13e86a2e-92b3-4644-a96d-547bf513e828",
   "metadata": {},
   "outputs": [],
   "source": [
    "import os, glob\n",
    "import pandas as pd\n",
    "import pysam\n",
    "import numpy as np\n",
    "import pickle"
   ]
  },
  {
   "cell_type": "code",
   "execution_count": 2,
   "id": "c2380204-9847-4c6f-b152-114f02e0139d",
   "metadata": {},
   "outputs": [],
   "source": [
    "cancer_type = \"Brain\"\n",
    "intersected_base_path = \"/data/private/pdutta_new/GDC_cancer_wise/{}/Generated_files/Intersected_files/100bp_TFBS/TFBS_test\".format(cancer_type)\n",
    "reference_genome_path=\"/data/projects/Resources/Gencode_genome_annotation/GRCh38.primary_assembly.genome.fa\""
   ]
  },
  {
   "cell_type": "code",
   "execution_count": 3,
   "id": "5a4aa801-312d-4380-adb6-0c0ebcd9ba78",
   "metadata": {},
   "outputs": [],
   "source": [
    "output_path = \"/data/projects/GDC_Cancer_Wise/New_data/{}/Generated_files/DNABERT_Data/Somatic/TFBS_300bp\".format(cancer_type)\n",
    "if not os.path.exists(output_path):\n",
    "    os.makedirs(output_path)"
   ]
  },
  {
   "cell_type": "code",
   "execution_count": 4,
   "id": "1e9c0e52-cf4d-48b1-9173-cd32e57d8d95",
   "metadata": {},
   "outputs": [
    {
     "data": {
      "text/html": [
       "<div>\n",
       "<style scoped>\n",
       "    .dataframe tbody tr th:only-of-type {\n",
       "        vertical-align: middle;\n",
       "    }\n",
       "\n",
       "    .dataframe tbody tr th {\n",
       "        vertical-align: top;\n",
       "    }\n",
       "\n",
       "    .dataframe thead th {\n",
       "        text-align: right;\n",
       "    }\n",
       "</style>\n",
       "<table border=\"1\" class=\"dataframe\">\n",
       "  <thead>\n",
       "    <tr style=\"text-align: right;\">\n",
       "      <th></th>\n",
       "      <th>0</th>\n",
       "    </tr>\n",
       "  </thead>\n",
       "  <tbody>\n",
       "    <tr>\n",
       "      <th>0</th>\n",
       "      <td>FOS</td>\n",
       "    </tr>\n",
       "    <tr>\n",
       "      <th>1</th>\n",
       "      <td>H2AFZ</td>\n",
       "    </tr>\n",
       "    <tr>\n",
       "      <th>2</th>\n",
       "      <td>H2AK5ac</td>\n",
       "    </tr>\n",
       "    <tr>\n",
       "      <th>3</th>\n",
       "      <td>H2BK12ac</td>\n",
       "    </tr>\n",
       "    <tr>\n",
       "      <th>4</th>\n",
       "      <td>H2BK5ac</td>\n",
       "    </tr>\n",
       "    <tr>\n",
       "      <th>5</th>\n",
       "      <td>H3F3A</td>\n",
       "    </tr>\n",
       "    <tr>\n",
       "      <th>6</th>\n",
       "      <td>H3K14ac</td>\n",
       "    </tr>\n",
       "    <tr>\n",
       "      <th>7</th>\n",
       "      <td>H3K27ac</td>\n",
       "    </tr>\n",
       "    <tr>\n",
       "      <th>8</th>\n",
       "      <td>H3K27me3</td>\n",
       "    </tr>\n",
       "    <tr>\n",
       "      <th>9</th>\n",
       "      <td>H3K36me3</td>\n",
       "    </tr>\n",
       "    <tr>\n",
       "      <th>10</th>\n",
       "      <td>H3K4me1</td>\n",
       "    </tr>\n",
       "    <tr>\n",
       "      <th>11</th>\n",
       "      <td>H3K4me2</td>\n",
       "    </tr>\n",
       "    <tr>\n",
       "      <th>12</th>\n",
       "      <td>H3K79me1</td>\n",
       "    </tr>\n",
       "    <tr>\n",
       "      <th>13</th>\n",
       "      <td>H3K79me2</td>\n",
       "    </tr>\n",
       "    <tr>\n",
       "      <th>14</th>\n",
       "      <td>H3K9ac</td>\n",
       "    </tr>\n",
       "    <tr>\n",
       "      <th>15</th>\n",
       "      <td>H3K9me1</td>\n",
       "    </tr>\n",
       "    <tr>\n",
       "      <th>16</th>\n",
       "      <td>H3K9me3</td>\n",
       "    </tr>\n",
       "    <tr>\n",
       "      <th>17</th>\n",
       "      <td>H4K20me1</td>\n",
       "    </tr>\n",
       "    <tr>\n",
       "      <th>18</th>\n",
       "      <td>H4K5ac</td>\n",
       "    </tr>\n",
       "    <tr>\n",
       "      <th>19</th>\n",
       "      <td>H4K8ac</td>\n",
       "    </tr>\n",
       "    <tr>\n",
       "      <th>20</th>\n",
       "      <td>IKZF1</td>\n",
       "    </tr>\n",
       "    <tr>\n",
       "      <th>21</th>\n",
       "      <td>RAD21</td>\n",
       "    </tr>\n",
       "    <tr>\n",
       "      <th>22</th>\n",
       "      <td>RBM22</td>\n",
       "    </tr>\n",
       "    <tr>\n",
       "      <th>23</th>\n",
       "      <td>RUNX3</td>\n",
       "    </tr>\n",
       "    <tr>\n",
       "      <th>24</th>\n",
       "      <td>TRIM22</td>\n",
       "    </tr>\n",
       "    <tr>\n",
       "      <th>25</th>\n",
       "      <td>ZBTB33</td>\n",
       "    </tr>\n",
       "    <tr>\n",
       "      <th>26</th>\n",
       "      <td>ZNF143</td>\n",
       "    </tr>\n",
       "    <tr>\n",
       "      <th>27</th>\n",
       "      <td>NFE2</td>\n",
       "    </tr>\n",
       "    <tr>\n",
       "      <th>28</th>\n",
       "      <td>PRDM1</td>\n",
       "    </tr>\n",
       "    <tr>\n",
       "      <th>29</th>\n",
       "      <td>SCRT2</td>\n",
       "    </tr>\n",
       "    <tr>\n",
       "      <th>30</th>\n",
       "      <td>ZFHX2</td>\n",
       "    </tr>\n",
       "    <tr>\n",
       "      <th>31</th>\n",
       "      <td>ZNF121</td>\n",
       "    </tr>\n",
       "    <tr>\n",
       "      <th>32</th>\n",
       "      <td>ZNF366</td>\n",
       "    </tr>\n",
       "    <tr>\n",
       "      <th>33</th>\n",
       "      <td>ZNF770</td>\n",
       "    </tr>\n",
       "  </tbody>\n",
       "</table>\n",
       "</div>"
      ],
      "text/plain": [
       "           0\n",
       "0        FOS\n",
       "1      H2AFZ\n",
       "2    H2AK5ac\n",
       "3   H2BK12ac\n",
       "4    H2BK5ac\n",
       "5      H3F3A\n",
       "6    H3K14ac\n",
       "7    H3K27ac\n",
       "8   H3K27me3\n",
       "9   H3K36me3\n",
       "10   H3K4me1\n",
       "11   H3K4me2\n",
       "12  H3K79me1\n",
       "13  H3K79me2\n",
       "14    H3K9ac\n",
       "15   H3K9me1\n",
       "16   H3K9me3\n",
       "17  H4K20me1\n",
       "18    H4K5ac\n",
       "19    H4K8ac\n",
       "20     IKZF1\n",
       "21     RAD21\n",
       "22     RBM22\n",
       "23     RUNX3\n",
       "24    TRIM22\n",
       "25    ZBTB33\n",
       "26    ZNF143\n",
       "27      NFE2\n",
       "28     PRDM1\n",
       "29     SCRT2\n",
       "30     ZFHX2\n",
       "31    ZNF121\n",
       "32    ZNF366\n",
       "33    ZNF770"
      ]
     },
     "execution_count": 4,
     "metadata": {},
     "output_type": "execute_result"
    }
   ],
   "source": [
    "top_models_df= pd.read_csv(\"/home/campus.stonybrook.edu/pdutta/Github/Postdoc/DNABERT_data_processing/TFBS/important_tfbs.txt\", sep=\"\\t\", header=None)\n",
    "top_models_df"
   ]
  },
  {
   "cell_type": "code",
   "execution_count": 5,
   "id": "57c9bf9b-a33c-4650-a467-a83dbc19b7e0",
   "metadata": {},
   "outputs": [
    {
     "data": {
      "text/html": [
       "<div>\n",
       "<style scoped>\n",
       "    .dataframe tbody tr th:only-of-type {\n",
       "        vertical-align: middle;\n",
       "    }\n",
       "\n",
       "    .dataframe tbody tr th {\n",
       "        vertical-align: top;\n",
       "    }\n",
       "\n",
       "    .dataframe thead th {\n",
       "        text-align: right;\n",
       "    }\n",
       "</style>\n",
       "<table border=\"1\" class=\"dataframe\">\n",
       "  <thead>\n",
       "    <tr style=\"text-align: right;\">\n",
       "      <th></th>\n",
       "      <th>0</th>\n",
       "    </tr>\n",
       "  </thead>\n",
       "  <tbody>\n",
       "    <tr>\n",
       "      <th>0</th>\n",
       "      <td>CBFA2T3</td>\n",
       "    </tr>\n",
       "    <tr>\n",
       "      <th>1</th>\n",
       "      <td>POLR2A</td>\n",
       "    </tr>\n",
       "  </tbody>\n",
       "</table>\n",
       "</div>"
      ],
      "text/plain": [
       "         0\n",
       "0  CBFA2T3\n",
       "1   POLR2A"
      ]
     },
     "execution_count": 5,
     "metadata": {},
     "output_type": "execute_result"
    }
   ],
   "source": [
    "top_models_df = pd.DataFrame({0: ['CBFA2T3', 'POLR2A']})\n",
    "\n",
    "top_models_df"
   ]
  },
  {
   "cell_type": "code",
   "execution_count": 6,
   "id": "c05f597d-17d5-4ea2-9dae-2903b1c0fe98",
   "metadata": {},
   "outputs": [],
   "source": [
    "def seq2kmer(seq):\n",
    "    \"\"\"\n",
    "    Convert original sequence to kmers\n",
    "    \n",
    "    Arguments:\n",
    "    seq -- str, original sequence.\n",
    "    k -- int, kmer of length k specified.\n",
    "    \n",
    "    Returns:\n",
    "    kmers -- str, kmers separated by space\n",
    "    \"\"\"\n",
    "    k=6\n",
    "    kmer = [seq[x:x+k] for x in range(len(seq)+1-k)]\n",
    "    kmers = \" \".join(kmer)\n",
    "    return kmers"
   ]
  },
  {
   "cell_type": "code",
   "execution_count": 7,
   "id": "a30b3260-fbcf-4037-9916-961c31c8c4f3",
   "metadata": {},
   "outputs": [],
   "source": [
    "def get_sequences(df, reference_fasta):\n",
    "    data = []\n",
    "    for idx, row in df.iterrows():\n",
    "        #print(row)\n",
    "        chrom = row[0]\n",
    "        ref_start = row[1]\n",
    "        ref_end = row[2]\n",
    "        variant_start = row['START_POS']\n",
    "        variant_end = row['END_POS']\n",
    "        ref_nucleotide = row['REF']\n",
    "        alt = row[\"ALT\"]\n",
    "        \n",
    "        # Adjust for 0-based indexing in python\n",
    "        variant_pos_start = variant_start - ref_start\n",
    "        variant_pos_end = variant_end - ref_start\n",
    "        #print(ref_nucleotide , alt, variant_pos_start, variant_pos_end)\n",
    "        \n",
    "        \n",
    "        # Get reference sequence\n",
    "        #print(chrom)\n",
    "        ref_seq = reference_fasta.fetch(chrom, ref_start, ref_end)\n",
    "        #print(ref_seq)\n",
    "        \n",
    "        # Handle insertion and deletion to get the correct alt sequence\n",
    "        # Identify if the variant is an insertion or deletion\n",
    "        if len(ref_nucleotide) < len(alt):  # Insertion\n",
    "            delete_size =  len(alt) - len(ref_nucleotide)\n",
    "            #print(variant_pos_start, variant_pos_end ,delete_size)\n",
    "            alt_seq = ref_seq[:variant_pos_start] + alt + ref_seq[variant_pos_end:len(ref_seq) - delete_size]\n",
    "\n",
    "        elif len(ref_nucleotide) > len(alt):  # Deletion\n",
    "            insert_size = len(ref_nucleotide) - len(alt)\n",
    "            #print(insert_size)\n",
    "            extra_bases = reference_fasta.fetch(chrom, ref_end, ref_end + insert_size)\n",
    "            #print(extra_bases)\n",
    "            alt_seq = ref_seq[:variant_pos_start] + alt + ref_seq[variant_pos_end:] + extra_bases\n",
    "\n",
    "        else:  # SNV\n",
    "            alt_seq = ref_seq[:variant_pos_start] + alt + ref_seq[variant_pos_end:]\n",
    "        # print(ref_seq)\n",
    "        # print(alt_seq)\n",
    "        # input()\n",
    "\n",
    "\n",
    "        data.append({\n",
    "            'chr': chrom,\n",
    "            #'strand': row['strand'],\n",
    "            #'Transcript_ID': row['transcript_id'],\n",
    "            'Chip_Seq_start': row[1],\n",
    "            'Chip_Seq_end': row[2],\n",
    "            'varinat_start': variant_start,\n",
    "            'variant_end': variant_end,\n",
    "            'ref_neucleotide': ref_nucleotide,\n",
    "            'alternative_neucleotide': alt,\n",
    "            'reference_seq': ref_seq,\n",
    "            'alt_seq': alt_seq\n",
    "        })\n",
    "            \n",
    "    \n",
    "    # Convert the list of dictionaries to a DataFrame\n",
    "    new_df = pd.DataFrame(data)\n",
    "    # print(new_df.shape)\n",
    "    # print(new_df)\n",
    "    new_df = new_df.drop_duplicates().reset_index()\n",
    "    #print(new_df.shape)\n",
    "    #print(\"&*\")\n",
    "    data = []\n",
    "    merged_list = list(zip(new_df['reference_seq'], new_df['alt_seq']))\n",
    "    merged_list = [item.upper() for tup in merged_list for item in tup]\n",
    "    #print(merged_list)\n",
    "    kmer_lst = list(map(seq2kmer, merged_list))\n",
    "    df_kmer = pd.DataFrame(kmer_lst, columns=['Sequence'])\n",
    "    df_kmer['Label'] = np.random.choice([0, 1], size=len(df_kmer))\n",
    "    #print(df_kmer.shape)\n",
    "    return new_df, df_kmer"
   ]
  },
  {
   "cell_type": "code",
   "execution_count": 20,
   "id": "2aba05c4-0239-41fb-a73f-9da05ade230f",
   "metadata": {},
   "outputs": [],
   "source": [
    "# def apply_mutations_sorted(ref_seq, starts, ends, refs, alts):\n",
    "#     mutations = sorted(zip(starts, ends, refs, alts), key=lambda x: x[0])  # Sort by start position\n",
    "#     seq_list = list(ref_seq)\n",
    "#     print(mutations)\n",
    "#     print(seq_list)\n",
    "#     # Apply each mutation\n",
    "#     for start, end, ref, alt in mutations:\n",
    "#         pos = start - 1  # Adjust for 0-based index\n",
    "#         print(seq_list[pos:pos+len(ref)])\n",
    "#         print(pos)\n",
    "#         if ''.join(seq_list[pos:pos+len(ref)]) == ref:  # Check if the reference matches\n",
    "#             seq_list[pos:pos+len(ref)] = list(alt)  # Replace with the alternative\n",
    "#         else:\n",
    "#             # If the reference doesn't match, log an error or handle it accordingly\n",
    "#             print(f\"Expected ref '{ref}' at position {start}, but found '{''.join(seq_list[pos:pos+len(ref)])}'\")\n",
    "    \n",
    "#     print(''.join(seq_list))\n",
    "#     input()\n",
    "#     return ''.join(seq_list)  # Convert list back to string\n",
    "\n",
    "def apply_mutations_absolute(ref_seq, chip_start, starts, ends, refs, alts):\n",
    "    mutations = sorted(zip(starts, ends, refs, alts), key=lambda x: x[0])  # Sort by start position\n",
    "    seq_list = list(ref_seq)\n",
    "    offset = chip_start  # This is the absolute starting position of the sequence on the chromosome\n",
    "    print(mutations, seq_list, offset)\n",
    "    input()\n",
    "\n",
    "    # Apply each mutation\n",
    "    for start, end, ref, alt in mutations:\n",
    "        rel_pos = start - offset  # Calculate the relative position in the sequence\n",
    "        print(rel_pos)\n",
    "        if ''.join(seq_list[rel_pos:rel_pos+len(ref)]) == ref:  # Check if the reference matches\n",
    "            seq_list[rel_pos:rel_pos+len(ref)] = list(alt)  # Replace with the alternative\n",
    "        else:\n",
    "            # If the reference doesn't match, log an error or handle it accordingly\n",
    "            print(f\"Expected ref '{ref}' at position {rel_pos}, but found '{''.join(seq_list[rel_pos:rel_pos+len(ref)])}'\")\n",
    "    print(''.join(seq_list))\n",
    "    input()\n",
    "\n",
    "    return ''.join(seq_list)  # Convert list back to string"
   ]
  },
  {
   "cell_type": "code",
   "execution_count": 21,
   "id": "ef4c248a-8b67-4dd9-8992-23b3d81450f4",
   "metadata": {},
   "outputs": [
    {
     "name": "stdout",
     "output_type": "stream",
     "text": [
      "#####The reference file is loaded######\n"
     ]
    }
   ],
   "source": [
    "## Load the reference file\n",
    "reference_fasta = pysam.FastaFile(reference_genome_path)\n",
    "print(\"#####The reference file is loaded######\")"
   ]
  },
  {
   "cell_type": "code",
   "execution_count": null,
   "id": "933aa443-d84e-48a9-b824-e5df3470e39b",
   "metadata": {},
   "outputs": [
    {
     "name": "stdout",
     "output_type": "stream",
     "text": [
      "/data/private/pdutta_new/GDC_cancer_wise/Brain/Generated_files/Intersected_files/100bp_TFBS/TFBS_test/CBFA2T3/intersected_vcf_data.pkl\n",
      "****All the VCF files are loaded for CBFA2T3***\n"
     ]
    },
    {
     "data": {
      "text/html": [
       "<div>\n",
       "<style scoped>\n",
       "    .dataframe tbody tr th:only-of-type {\n",
       "        vertical-align: middle;\n",
       "    }\n",
       "\n",
       "    .dataframe tbody tr th {\n",
       "        vertical-align: top;\n",
       "    }\n",
       "\n",
       "    .dataframe thead th {\n",
       "        text-align: right;\n",
       "    }\n",
       "</style>\n",
       "<table border=\"1\" class=\"dataframe\">\n",
       "  <thead>\n",
       "    <tr style=\"text-align: right;\">\n",
       "      <th></th>\n",
       "      <th>Sequence</th>\n",
       "      <th>Label</th>\n",
       "    </tr>\n",
       "  </thead>\n",
       "  <tbody>\n",
       "    <tr>\n",
       "      <th>0</th>\n",
       "      <td>TGCATC GCATCC CATCCT ATCCTC TCCTCA CCTCAG CTCA...</td>\n",
       "      <td>0</td>\n",
       "    </tr>\n",
       "    <tr>\n",
       "      <th>1</th>\n",
       "      <td>TGCATT GCATTC CATTCT ATTCTC TTCTCA TCTCAG CTCA...</td>\n",
       "      <td>0</td>\n",
       "    </tr>\n",
       "    <tr>\n",
       "      <th>2</th>\n",
       "      <td>GGCCGA GCCGAG CCGAGT CGAGTC GAGTCT AGTCTC GTCT...</td>\n",
       "      <td>0</td>\n",
       "    </tr>\n",
       "    <tr>\n",
       "      <th>3</th>\n",
       "      <td>GGCCGA GCCGAG CCGAGT CGAGTC GAGTCT AGTCTC GTCT...</td>\n",
       "      <td>1</td>\n",
       "    </tr>\n",
       "    <tr>\n",
       "      <th>4</th>\n",
       "      <td>GGCCGA GCCGAG CCGAGT CGAGTC GAGTCT AGTCTC GTCT...</td>\n",
       "      <td>0</td>\n",
       "    </tr>\n",
       "    <tr>\n",
       "      <th>...</th>\n",
       "      <td>...</td>\n",
       "      <td>...</td>\n",
       "    </tr>\n",
       "    <tr>\n",
       "      <th>215</th>\n",
       "      <td>CTAATC TAATCT AATCTT ATCTTG TCTTGA CTTGAG TTGA...</td>\n",
       "      <td>1</td>\n",
       "    </tr>\n",
       "    <tr>\n",
       "      <th>216</th>\n",
       "      <td>CTAATC TAATCT AATCTT ATCTTG TCTTGA CTTGAG TTGA...</td>\n",
       "      <td>0</td>\n",
       "    </tr>\n",
       "    <tr>\n",
       "      <th>217</th>\n",
       "      <td>CTAATC TAATCT AATCTT ATCTTG TCTTGA CTTGAG TTGA...</td>\n",
       "      <td>0</td>\n",
       "    </tr>\n",
       "    <tr>\n",
       "      <th>218</th>\n",
       "      <td>GGCGAT GCGATG CGATGG GATGGT ATGGTA TGGTAG GGTA...</td>\n",
       "      <td>1</td>\n",
       "    </tr>\n",
       "    <tr>\n",
       "      <th>219</th>\n",
       "      <td>GGCGAT GCGATG CGATGG GATGGT ATGGTA TGGTAG GGTA...</td>\n",
       "      <td>0</td>\n",
       "    </tr>\n",
       "  </tbody>\n",
       "</table>\n",
       "<p>220 rows × 2 columns</p>\n",
       "</div>"
      ],
      "text/plain": [
       "                                              Sequence  Label\n",
       "0    TGCATC GCATCC CATCCT ATCCTC TCCTCA CCTCAG CTCA...      0\n",
       "1    TGCATT GCATTC CATTCT ATTCTC TTCTCA TCTCAG CTCA...      0\n",
       "2    GGCCGA GCCGAG CCGAGT CGAGTC GAGTCT AGTCTC GTCT...      0\n",
       "3    GGCCGA GCCGAG CCGAGT CGAGTC GAGTCT AGTCTC GTCT...      1\n",
       "4    GGCCGA GCCGAG CCGAGT CGAGTC GAGTCT AGTCTC GTCT...      0\n",
       "..                                                 ...    ...\n",
       "215  CTAATC TAATCT AATCTT ATCTTG TCTTGA CTTGAG TTGA...      1\n",
       "216  CTAATC TAATCT AATCTT ATCTTG TCTTGA CTTGAG TTGA...      0\n",
       "217  CTAATC TAATCT AATCTT ATCTTG TCTTGA CTTGAG TTGA...      0\n",
       "218  GGCGAT GCGATG CGATGG GATGGT ATGGTA TGGTAG GGTA...      1\n",
       "219  GGCGAT GCGATG CGATGG GATGGT ATGGTA TGGTAG GGTA...      0\n",
       "\n",
       "[220 rows x 2 columns]"
      ]
     },
     "metadata": {},
     "output_type": "display_data"
    },
    {
     "data": {
      "text/html": [
       "<div>\n",
       "<style scoped>\n",
       "    .dataframe tbody tr th:only-of-type {\n",
       "        vertical-align: middle;\n",
       "    }\n",
       "\n",
       "    .dataframe tbody tr th {\n",
       "        vertical-align: top;\n",
       "    }\n",
       "\n",
       "    .dataframe thead th {\n",
       "        text-align: right;\n",
       "    }\n",
       "</style>\n",
       "<table border=\"1\" class=\"dataframe\">\n",
       "  <thead>\n",
       "    <tr style=\"text-align: right;\">\n",
       "      <th></th>\n",
       "      <th>index</th>\n",
       "      <th>chr</th>\n",
       "      <th>Chip_Seq_start</th>\n",
       "      <th>Chip_Seq_end</th>\n",
       "      <th>varinat_start</th>\n",
       "      <th>variant_end</th>\n",
       "      <th>ref_neucleotide</th>\n",
       "      <th>alternative_neucleotide</th>\n",
       "      <th>reference_seq</th>\n",
       "      <th>alt_seq</th>\n",
       "    </tr>\n",
       "  </thead>\n",
       "  <tbody>\n",
       "    <tr>\n",
       "      <th>0</th>\n",
       "      <td>0</td>\n",
       "      <td>chr1</td>\n",
       "      <td>54707858</td>\n",
       "      <td>54707958</td>\n",
       "      <td>54707863</td>\n",
       "      <td>54707864</td>\n",
       "      <td>C</td>\n",
       "      <td>T</td>\n",
       "      <td>TGCATCCTCAGATGGATCCTCAGATCCTTGCCCTCCCACTGTCACC...</td>\n",
       "      <td>TGCATTCTCAGATGGATCCTCAGATCCTTGCCCTCCCACTGTCACC...</td>\n",
       "    </tr>\n",
       "    <tr>\n",
       "      <th>1</th>\n",
       "      <td>1</td>\n",
       "      <td>chr5</td>\n",
       "      <td>415490</td>\n",
       "      <td>415590</td>\n",
       "      <td>415508</td>\n",
       "      <td>415509</td>\n",
       "      <td>G</td>\n",
       "      <td>T</td>\n",
       "      <td>GGCCGAGTCTCCCTGGTCGGGTGGGAGGCCTAGGGGCCGAGTCTGC...</td>\n",
       "      <td>GGCCGAGTCTCCCTGGTCTGGTGGGAGGCCTAGGGGCCGAGTCTGC...</td>\n",
       "    </tr>\n",
       "    <tr>\n",
       "      <th>2</th>\n",
       "      <td>2</td>\n",
       "      <td>chr5</td>\n",
       "      <td>415490</td>\n",
       "      <td>415590</td>\n",
       "      <td>415510</td>\n",
       "      <td>415511</td>\n",
       "      <td>G</td>\n",
       "      <td>C</td>\n",
       "      <td>GGCCGAGTCTCCCTGGTCGGGTGGGAGGCCTAGGGGCCGAGTCTGC...</td>\n",
       "      <td>GGCCGAGTCTCCCTGGTCGGCTGGGAGGCCTAGGGGCCGAGTCTGC...</td>\n",
       "    </tr>\n",
       "    <tr>\n",
       "      <th>3</th>\n",
       "      <td>3</td>\n",
       "      <td>chr5</td>\n",
       "      <td>415490</td>\n",
       "      <td>415590</td>\n",
       "      <td>415564</td>\n",
       "      <td>415565</td>\n",
       "      <td>A</td>\n",
       "      <td>G</td>\n",
       "      <td>GGCCGAGTCTCCCTGGTCGGGTGGGAGGCCTAGGGGCCGAGTCTGC...</td>\n",
       "      <td>GGCCGAGTCTCCCTGGTCGGGTGGGAGGCCTAGGGGCCGAGTCTGC...</td>\n",
       "    </tr>\n",
       "    <tr>\n",
       "      <th>4</th>\n",
       "      <td>4</td>\n",
       "      <td>chr16</td>\n",
       "      <td>89068861</td>\n",
       "      <td>89068961</td>\n",
       "      <td>89068902</td>\n",
       "      <td>89068903</td>\n",
       "      <td>A</td>\n",
       "      <td>G</td>\n",
       "      <td>TGGTGATGATGATGGTGGTGATGATGATGGTGGTGATGGTGATGAT...</td>\n",
       "      <td>TGGTGATGATGATGGTGGTGATGATGATGGTGGTGATGGTGGTGAT...</td>\n",
       "    </tr>\n",
       "    <tr>\n",
       "      <th>...</th>\n",
       "      <td>...</td>\n",
       "      <td>...</td>\n",
       "      <td>...</td>\n",
       "      <td>...</td>\n",
       "      <td>...</td>\n",
       "      <td>...</td>\n",
       "      <td>...</td>\n",
       "      <td>...</td>\n",
       "      <td>...</td>\n",
       "      <td>...</td>\n",
       "    </tr>\n",
       "    <tr>\n",
       "      <th>105</th>\n",
       "      <td>105</td>\n",
       "      <td>chr19</td>\n",
       "      <td>41789861</td>\n",
       "      <td>41789962</td>\n",
       "      <td>41789887</td>\n",
       "      <td>41789888</td>\n",
       "      <td>G</td>\n",
       "      <td>A</td>\n",
       "      <td>AGAAAGAAAGAAAGAAAGAAAGAAAAGAAAGAAAGAAAGAAAGAAA...</td>\n",
       "      <td>AGAAAGAAAGAAAGAAAGAAAGAAAAAAAAGAAAGAAAGAAAGAAA...</td>\n",
       "    </tr>\n",
       "    <tr>\n",
       "      <th>106</th>\n",
       "      <td>106</td>\n",
       "      <td>chr13</td>\n",
       "      <td>57431125</td>\n",
       "      <td>57431226</td>\n",
       "      <td>57431173</td>\n",
       "      <td>57431174</td>\n",
       "      <td>C</td>\n",
       "      <td>T</td>\n",
       "      <td>CTGAAGGAACATACCGTAAGATAAGAAGAATCATATATGTCAGACC...</td>\n",
       "      <td>CTGAAGGAACATACCGTAAGATAAGAAGAATCATATATGTCAGACC...</td>\n",
       "    </tr>\n",
       "    <tr>\n",
       "      <th>107</th>\n",
       "      <td>107</td>\n",
       "      <td>chr20</td>\n",
       "      <td>29508463</td>\n",
       "      <td>29508564</td>\n",
       "      <td>29508498</td>\n",
       "      <td>29508499</td>\n",
       "      <td>G</td>\n",
       "      <td>A</td>\n",
       "      <td>CTAATCTTGAGCTCCTGGCCTCTAGTGATTCTCCTGCCTTGGGCTC...</td>\n",
       "      <td>CTAATCTTGAGCTCCTGGCCTCTAGTGATTCTCCTACCTTGGGCTC...</td>\n",
       "    </tr>\n",
       "    <tr>\n",
       "      <th>108</th>\n",
       "      <td>108</td>\n",
       "      <td>chr20</td>\n",
       "      <td>29508463</td>\n",
       "      <td>29508564</td>\n",
       "      <td>29508500</td>\n",
       "      <td>29508501</td>\n",
       "      <td>C</td>\n",
       "      <td>G</td>\n",
       "      <td>CTAATCTTGAGCTCCTGGCCTCTAGTGATTCTCCTGCCTTGGGCTC...</td>\n",
       "      <td>CTAATCTTGAGCTCCTGGCCTCTAGTGATTCTCCTGCGTTGGGCTC...</td>\n",
       "    </tr>\n",
       "    <tr>\n",
       "      <th>109</th>\n",
       "      <td>109</td>\n",
       "      <td>chr17</td>\n",
       "      <td>21663288</td>\n",
       "      <td>21663389</td>\n",
       "      <td>21663365</td>\n",
       "      <td>21663366</td>\n",
       "      <td>A</td>\n",
       "      <td>C</td>\n",
       "      <td>GGCGATGGTAGCAGGAGAAGATGCTACATGTTTCCAATAACATGAA...</td>\n",
       "      <td>GGCGATGGTAGCAGGAGAAGATGCTACATGTTTCCAATAACATGAA...</td>\n",
       "    </tr>\n",
       "  </tbody>\n",
       "</table>\n",
       "<p>110 rows × 10 columns</p>\n",
       "</div>"
      ],
      "text/plain": [
       "     index    chr  Chip_Seq_start  Chip_Seq_end  varinat_start  variant_end  \\\n",
       "0        0   chr1        54707858      54707958       54707863     54707864   \n",
       "1        1   chr5          415490        415590         415508       415509   \n",
       "2        2   chr5          415490        415590         415510       415511   \n",
       "3        3   chr5          415490        415590         415564       415565   \n",
       "4        4  chr16        89068861      89068961       89068902     89068903   \n",
       "..     ...    ...             ...           ...            ...          ...   \n",
       "105    105  chr19        41789861      41789962       41789887     41789888   \n",
       "106    106  chr13        57431125      57431226       57431173     57431174   \n",
       "107    107  chr20        29508463      29508564       29508498     29508499   \n",
       "108    108  chr20        29508463      29508564       29508500     29508501   \n",
       "109    109  chr17        21663288      21663389       21663365     21663366   \n",
       "\n",
       "    ref_neucleotide alternative_neucleotide  \\\n",
       "0                 C                       T   \n",
       "1                 G                       T   \n",
       "2                 G                       C   \n",
       "3                 A                       G   \n",
       "4                 A                       G   \n",
       "..              ...                     ...   \n",
       "105               G                       A   \n",
       "106               C                       T   \n",
       "107               G                       A   \n",
       "108               C                       G   \n",
       "109               A                       C   \n",
       "\n",
       "                                         reference_seq  \\\n",
       "0    TGCATCCTCAGATGGATCCTCAGATCCTTGCCCTCCCACTGTCACC...   \n",
       "1    GGCCGAGTCTCCCTGGTCGGGTGGGAGGCCTAGGGGCCGAGTCTGC...   \n",
       "2    GGCCGAGTCTCCCTGGTCGGGTGGGAGGCCTAGGGGCCGAGTCTGC...   \n",
       "3    GGCCGAGTCTCCCTGGTCGGGTGGGAGGCCTAGGGGCCGAGTCTGC...   \n",
       "4    TGGTGATGATGATGGTGGTGATGATGATGGTGGTGATGGTGATGAT...   \n",
       "..                                                 ...   \n",
       "105  AGAAAGAAAGAAAGAAAGAAAGAAAAGAAAGAAAGAAAGAAAGAAA...   \n",
       "106  CTGAAGGAACATACCGTAAGATAAGAAGAATCATATATGTCAGACC...   \n",
       "107  CTAATCTTGAGCTCCTGGCCTCTAGTGATTCTCCTGCCTTGGGCTC...   \n",
       "108  CTAATCTTGAGCTCCTGGCCTCTAGTGATTCTCCTGCCTTGGGCTC...   \n",
       "109  GGCGATGGTAGCAGGAGAAGATGCTACATGTTTCCAATAACATGAA...   \n",
       "\n",
       "                                               alt_seq  \n",
       "0    TGCATTCTCAGATGGATCCTCAGATCCTTGCCCTCCCACTGTCACC...  \n",
       "1    GGCCGAGTCTCCCTGGTCTGGTGGGAGGCCTAGGGGCCGAGTCTGC...  \n",
       "2    GGCCGAGTCTCCCTGGTCGGCTGGGAGGCCTAGGGGCCGAGTCTGC...  \n",
       "3    GGCCGAGTCTCCCTGGTCGGGTGGGAGGCCTAGGGGCCGAGTCTGC...  \n",
       "4    TGGTGATGATGATGGTGGTGATGATGATGGTGGTGATGGTGGTGAT...  \n",
       "..                                                 ...  \n",
       "105  AGAAAGAAAGAAAGAAAGAAAGAAAAAAAAGAAAGAAAGAAAGAAA...  \n",
       "106  CTGAAGGAACATACCGTAAGATAAGAAGAATCATATATGTCAGACC...  \n",
       "107  CTAATCTTGAGCTCCTGGCCTCTAGTGATTCTCCTACCTTGGGCTC...  \n",
       "108  CTAATCTTGAGCTCCTGGCCTCTAGTGATTCTCCTGCGTTGGGCTC...  \n",
       "109  GGCGATGGTAGCAGGAGAAGATGCTACATGTTTCCAATAACATGAA...  \n",
       "\n",
       "[110 rows x 10 columns]"
      ]
     },
     "metadata": {},
     "output_type": "display_data"
    },
    {
     "data": {
      "text/html": [
       "<div>\n",
       "<style scoped>\n",
       "    .dataframe tbody tr th:only-of-type {\n",
       "        vertical-align: middle;\n",
       "    }\n",
       "\n",
       "    .dataframe tbody tr th {\n",
       "        vertical-align: top;\n",
       "    }\n",
       "\n",
       "    .dataframe thead th {\n",
       "        text-align: right;\n",
       "    }\n",
       "</style>\n",
       "<table border=\"1\" class=\"dataframe\">\n",
       "  <thead>\n",
       "    <tr style=\"text-align: right;\">\n",
       "      <th></th>\n",
       "      <th>chr</th>\n",
       "      <th>Chip_Seq_start</th>\n",
       "      <th>Chip_Seq_end</th>\n",
       "      <th>varinat_start</th>\n",
       "      <th>variant_end</th>\n",
       "      <th>ref_neucleotide</th>\n",
       "      <th>alternative_neucleotide</th>\n",
       "      <th>reference_seq</th>\n",
       "      <th>alt_seq</th>\n",
       "    </tr>\n",
       "  </thead>\n",
       "  <tbody>\n",
       "    <tr>\n",
       "      <th>0</th>\n",
       "      <td>chr1</td>\n",
       "      <td>16732666</td>\n",
       "      <td>16732766</td>\n",
       "      <td>[16732746]</td>\n",
       "      <td>[16732747]</td>\n",
       "      <td>[G]</td>\n",
       "      <td>[T]</td>\n",
       "      <td>GGAAGAAGAAAAAAACCTGTGGCAATTGGAACATAGTTTATTCTTT...</td>\n",
       "      <td>[GGAAGAAGAAAAAAACCTGTGGCAATTGGAACATAGTTTATTCTT...</td>\n",
       "    </tr>\n",
       "    <tr>\n",
       "      <th>1</th>\n",
       "      <td>chr1</td>\n",
       "      <td>54707858</td>\n",
       "      <td>54707958</td>\n",
       "      <td>[54707863]</td>\n",
       "      <td>[54707864]</td>\n",
       "      <td>[C]</td>\n",
       "      <td>[T]</td>\n",
       "      <td>TGCATCCTCAGATGGATCCTCAGATCCTTGCCCTCCCACTGTCACC...</td>\n",
       "      <td>[TGCATTCTCAGATGGATCCTCAGATCCTTGCCCTCCCACTGTCAC...</td>\n",
       "    </tr>\n",
       "    <tr>\n",
       "      <th>2</th>\n",
       "      <td>chr1</td>\n",
       "      <td>111040309</td>\n",
       "      <td>111040410</td>\n",
       "      <td>[111040379]</td>\n",
       "      <td>[111040380]</td>\n",
       "      <td>[C]</td>\n",
       "      <td>[T]</td>\n",
       "      <td>TTGGGAGGCCAAGGCGGGCGGATCACGAGGTCAGGAGATCGAGACC...</td>\n",
       "      <td>[TTGGGAGGCCAAGGCGGGCGGATCACGAGGTCAGGAGATCGAGAC...</td>\n",
       "    </tr>\n",
       "    <tr>\n",
       "      <th>3</th>\n",
       "      <td>chr1</td>\n",
       "      <td>121657530</td>\n",
       "      <td>121657631</td>\n",
       "      <td>[121657570]</td>\n",
       "      <td>[121657571]</td>\n",
       "      <td>[G]</td>\n",
       "      <td>[C]</td>\n",
       "      <td>AGAGAGGTCCAAATATCCACCTGCAGAGTCTACAAAAAGTGTGTTT...</td>\n",
       "      <td>[AGAGAGGTCCAAATATCCACCTGCAGAGTCTACAAAAAGTCTGTT...</td>\n",
       "    </tr>\n",
       "    <tr>\n",
       "      <th>4</th>\n",
       "      <td>chr1</td>\n",
       "      <td>123086175</td>\n",
       "      <td>123086276</td>\n",
       "      <td>[123086218, 123086260, 123086246]</td>\n",
       "      <td>[123086219, 123086261, 123086247]</td>\n",
       "      <td>[T, A]</td>\n",
       "      <td>[G, C, A]</td>\n",
       "      <td>ACAGAGAGCAGACTTGAAACACTCTTTTTGTGGAATTTGCAAGTGG...</td>\n",
       "      <td>[ACAGAGAGCAGACTTGAAACACTCTTTTTGTGGAATTTGCAAGTG...</td>\n",
       "    </tr>\n",
       "    <tr>\n",
       "      <th>...</th>\n",
       "      <td>...</td>\n",
       "      <td>...</td>\n",
       "      <td>...</td>\n",
       "      <td>...</td>\n",
       "      <td>...</td>\n",
       "      <td>...</td>\n",
       "      <td>...</td>\n",
       "      <td>...</td>\n",
       "      <td>...</td>\n",
       "    </tr>\n",
       "    <tr>\n",
       "      <th>79</th>\n",
       "      <td>chr9</td>\n",
       "      <td>106762858</td>\n",
       "      <td>106762959</td>\n",
       "      <td>[106762872]</td>\n",
       "      <td>[106762873]</td>\n",
       "      <td>[T]</td>\n",
       "      <td>[C]</td>\n",
       "      <td>TTAGGAGAAAGAAGTAGGGGGAAGCTTAGTACTTGGAGGGAGCAGT...</td>\n",
       "      <td>[TTAGGAGAAAGAAGCAGGGGGAAGCTTAGTACTTGGAGGGAGCAG...</td>\n",
       "    </tr>\n",
       "    <tr>\n",
       "      <th>80</th>\n",
       "      <td>chr9</td>\n",
       "      <td>130633198</td>\n",
       "      <td>130633299</td>\n",
       "      <td>[130633242]</td>\n",
       "      <td>[130633243]</td>\n",
       "      <td>[T]</td>\n",
       "      <td>[C]</td>\n",
       "      <td>CTTGCATGCTCTGAAATTGTATAGTTGTGTTTCTTCCCTTTTTTTC...</td>\n",
       "      <td>[CTTGCATGCTCTGAAATTGTATAGTTGTGTTTCTTCCCTTTTTTC...</td>\n",
       "    </tr>\n",
       "    <tr>\n",
       "      <th>81</th>\n",
       "      <td>chrX</td>\n",
       "      <td>1348653</td>\n",
       "      <td>1348754</td>\n",
       "      <td>[1348693]</td>\n",
       "      <td>[1348694]</td>\n",
       "      <td>[T]</td>\n",
       "      <td>[C]</td>\n",
       "      <td>CTTTCTTTCTTTCTTTCTTTCTTTCTTTCTTTCTTTCTTTTTCTTT...</td>\n",
       "      <td>[CTTTCTTTCTTTCTTTCTTTCTTTCTTTCTTTCTTTCTTTCTCTT...</td>\n",
       "    </tr>\n",
       "    <tr>\n",
       "      <th>82</th>\n",
       "      <td>chrX</td>\n",
       "      <td>1570146</td>\n",
       "      <td>1570247</td>\n",
       "      <td>[1570207]</td>\n",
       "      <td>[1570208]</td>\n",
       "      <td>[C]</td>\n",
       "      <td>[A]</td>\n",
       "      <td>TGCAGTGAGCCAAGTTTGCACTGATGCACTCCAGCCTGGGTGACAG...</td>\n",
       "      <td>[TGCAGTGAGCCAAGTTTGCACTGATGCACTCCAGCCTGGGTGACA...</td>\n",
       "    </tr>\n",
       "    <tr>\n",
       "      <th>83</th>\n",
       "      <td>chrX</td>\n",
       "      <td>90540339</td>\n",
       "      <td>90540440</td>\n",
       "      <td>[90540412]</td>\n",
       "      <td>[90540413]</td>\n",
       "      <td>[A]</td>\n",
       "      <td>[T]</td>\n",
       "      <td>ATAAAATAAAAATGAAAAAATAAAAAACTAGAGCCGAAATATGAGT...</td>\n",
       "      <td>[ATAAAATAAAAATGAAAAAATAAAAAACTAGAGCCGAAATATGAG...</td>\n",
       "    </tr>\n",
       "  </tbody>\n",
       "</table>\n",
       "<p>84 rows × 9 columns</p>\n",
       "</div>"
      ],
      "text/plain": [
       "     chr  Chip_Seq_start  Chip_Seq_end                      varinat_start  \\\n",
       "0   chr1        16732666      16732766                         [16732746]   \n",
       "1   chr1        54707858      54707958                         [54707863]   \n",
       "2   chr1       111040309     111040410                        [111040379]   \n",
       "3   chr1       121657530     121657631                        [121657570]   \n",
       "4   chr1       123086175     123086276  [123086218, 123086260, 123086246]   \n",
       "..   ...             ...           ...                                ...   \n",
       "79  chr9       106762858     106762959                        [106762872]   \n",
       "80  chr9       130633198     130633299                        [130633242]   \n",
       "81  chrX         1348653       1348754                          [1348693]   \n",
       "82  chrX         1570146       1570247                          [1570207]   \n",
       "83  chrX        90540339      90540440                         [90540412]   \n",
       "\n",
       "                          variant_end ref_neucleotide alternative_neucleotide  \\\n",
       "0                          [16732747]             [G]                     [T]   \n",
       "1                          [54707864]             [C]                     [T]   \n",
       "2                         [111040380]             [C]                     [T]   \n",
       "3                         [121657571]             [G]                     [C]   \n",
       "4   [123086219, 123086261, 123086247]          [T, A]               [G, C, A]   \n",
       "..                                ...             ...                     ...   \n",
       "79                        [106762873]             [T]                     [C]   \n",
       "80                        [130633243]             [T]                     [C]   \n",
       "81                          [1348694]             [T]                     [C]   \n",
       "82                          [1570208]             [C]                     [A]   \n",
       "83                         [90540413]             [A]                     [T]   \n",
       "\n",
       "                                        reference_seq  \\\n",
       "0   GGAAGAAGAAAAAAACCTGTGGCAATTGGAACATAGTTTATTCTTT...   \n",
       "1   TGCATCCTCAGATGGATCCTCAGATCCTTGCCCTCCCACTGTCACC...   \n",
       "2   TTGGGAGGCCAAGGCGGGCGGATCACGAGGTCAGGAGATCGAGACC...   \n",
       "3   AGAGAGGTCCAAATATCCACCTGCAGAGTCTACAAAAAGTGTGTTT...   \n",
       "4   ACAGAGAGCAGACTTGAAACACTCTTTTTGTGGAATTTGCAAGTGG...   \n",
       "..                                                ...   \n",
       "79  TTAGGAGAAAGAAGTAGGGGGAAGCTTAGTACTTGGAGGGAGCAGT...   \n",
       "80  CTTGCATGCTCTGAAATTGTATAGTTGTGTTTCTTCCCTTTTTTTC...   \n",
       "81  CTTTCTTTCTTTCTTTCTTTCTTTCTTTCTTTCTTTCTTTTTCTTT...   \n",
       "82  TGCAGTGAGCCAAGTTTGCACTGATGCACTCCAGCCTGGGTGACAG...   \n",
       "83  ATAAAATAAAAATGAAAAAATAAAAAACTAGAGCCGAAATATGAGT...   \n",
       "\n",
       "                                              alt_seq  \n",
       "0   [GGAAGAAGAAAAAAACCTGTGGCAATTGGAACATAGTTTATTCTT...  \n",
       "1   [TGCATTCTCAGATGGATCCTCAGATCCTTGCCCTCCCACTGTCAC...  \n",
       "2   [TTGGGAGGCCAAGGCGGGCGGATCACGAGGTCAGGAGATCGAGAC...  \n",
       "3   [AGAGAGGTCCAAATATCCACCTGCAGAGTCTACAAAAAGTCTGTT...  \n",
       "4   [ACAGAGAGCAGACTTGAAACACTCTTTTTGTGGAATTTGCAAGTG...  \n",
       "..                                                ...  \n",
       "79  [TTAGGAGAAAGAAGCAGGGGGAAGCTTAGTACTTGGAGGGAGCAG...  \n",
       "80  [CTTGCATGCTCTGAAATTGTATAGTTGTGTTTCTTCCCTTTTTTC...  \n",
       "81  [CTTTCTTTCTTTCTTTCTTTCTTTCTTTCTTTCTTTCTTTCTCTT...  \n",
       "82  [TGCAGTGAGCCAAGTTTGCACTGATGCACTCCAGCCTGGGTGACA...  \n",
       "83  [ATAAAATAAAAATGAAAAAATAAAAAACTAGAGCCGAAATATGAG...  \n",
       "\n",
       "[84 rows x 9 columns]"
      ]
     },
     "metadata": {},
     "output_type": "display_data"
    },
    {
     "name": "stdout",
     "output_type": "stream",
     "text": [
      "[(16732746, 16732747, 'G', 'T')] ['G', 'G', 'A', 'A', 'G', 'A', 'A', 'G', 'A', 'A', 'A', 'A', 'A', 'A', 'A', 'C', 'C', 'T', 'G', 'T', 'G', 'G', 'C', 'A', 'A', 'T', 'T', 'G', 'G', 'A', 'A', 'C', 'A', 'T', 'A', 'G', 'T', 'T', 'T', 'A', 'T', 'T', 'C', 'T', 'T', 'T', 'A', 'A', 'G', 'T', 'T', 'G', 'A', 'G', 'G', 'G', 'G', 'C', 'G', 'C', 'A', 'T', 'G', 'A', 'C', 'T', 'C', 'C', 'A', 'C', 'C', 'T', 'T', 'G', 'C', 'C', 'T', 'G', 'G', 'C', 'G', 'T', 'G', 'G', 'C', 'C', 'T', 'T', 'A', 'G', 'G', 'T', 'C', 'T', 'C', 'G', 'T', 'T', 'T', 'A'] 16732666\n"
     ]
    },
    {
     "name": "stdin",
     "output_type": "stream",
     "text": [
      " \n"
     ]
    },
    {
     "name": "stdout",
     "output_type": "stream",
     "text": [
      "80\n",
      "GGAAGAAGAAAAAAACCTGTGGCAATTGGAACATAGTTTATTCTTTAAGTTGAGGGGCGCATGACTCCACCTTGCCTGGCTTGGCCTTAGGTCTCGTTTA\n"
     ]
    },
    {
     "name": "stdin",
     "output_type": "stream",
     "text": [
      " \n"
     ]
    },
    {
     "name": "stdout",
     "output_type": "stream",
     "text": [
      "[(54707863, 54707864, 'C', 'T')] ['T', 'G', 'C', 'A', 'T', 'C', 'C', 'T', 'C', 'A', 'G', 'A', 'T', 'G', 'G', 'A', 'T', 'C', 'C', 'T', 'C', 'A', 'G', 'A', 'T', 'C', 'C', 'T', 'T', 'G', 'C', 'C', 'C', 'T', 'C', 'C', 'C', 'A', 'C', 'T', 'G', 'T', 'C', 'A', 'C', 'C', 'C', 'C', 'T', 'C', 'A', 'G', 'T', 'G', 'G', 'A', 'T', 'C', 'T', 'A', 'A', 'G', 'A', 'T', 'T', 'A', 'A', 'G', 'T', 'A', 'A', 'C', 'T', 'T', 'C', 'T', 'G', 'G', 'T', 'C', 'T', 'G', 'G', 'T', 'G', 'G', 'G', 'A', 'G', 'A', 'T', 'A', 'A', 'A', 'A', 'T', 'T', 'C', 'A', 'T'] 54707858\n"
     ]
    },
    {
     "name": "stdin",
     "output_type": "stream",
     "text": [
      " \n"
     ]
    },
    {
     "name": "stdout",
     "output_type": "stream",
     "text": [
      "5\n",
      "TGCATTCTCAGATGGATCCTCAGATCCTTGCCCTCCCACTGTCACCCCTCAGTGGATCTAAGATTAAGTAACTTCTGGTCTGGTGGGAGATAAAATTCAT\n"
     ]
    },
    {
     "name": "stdin",
     "output_type": "stream",
     "text": [
      " \n"
     ]
    },
    {
     "name": "stdout",
     "output_type": "stream",
     "text": [
      "[(111040379, 111040380, 'C', 'T')] ['T', 'T', 'G', 'G', 'G', 'A', 'G', 'G', 'C', 'C', 'A', 'A', 'G', 'G', 'C', 'G', 'G', 'G', 'C', 'G', 'G', 'A', 'T', 'C', 'A', 'C', 'G', 'A', 'G', 'G', 'T', 'C', 'A', 'G', 'G', 'A', 'G', 'A', 'T', 'C', 'G', 'A', 'G', 'A', 'C', 'C', 'C', 'T', 'C', 'C', 'T', 'G', 'G', 'C', 'T', 'A', 'A', 'C', 'A', 'C', 'G', 'G', 'T', 'G', 'A', 'A', 'A', 'C', 'C', 'C', 'C', 'G', 'T', 'C', 'T', 'C', 'T', 'A', 'C', 'T', 'A', 'A', 'G', 'A', 'A', 'T', 'A', 'C', 'A', 'A', 'A', 'A', 'A', 'A', 'T', 'T', 'A', 'G', 'C', 'C', 'G'] 111040309\n"
     ]
    },
    {
     "name": "stdin",
     "output_type": "stream",
     "text": [
      " \n"
     ]
    },
    {
     "name": "stdout",
     "output_type": "stream",
     "text": [
      "70\n",
      "TTGGGAGGCCAAGGCGGGCGGATCACGAGGTCAGGAGATCGAGACCCTCCTGGCTAACACGGTGAAACCCTGTCTCTACTAAGAATACAAAAAATTAGCCG\n"
     ]
    },
    {
     "name": "stdin",
     "output_type": "stream",
     "text": [
      " \n"
     ]
    },
    {
     "name": "stdout",
     "output_type": "stream",
     "text": [
      "[(121657570, 121657571, 'G', 'C')] ['A', 'G', 'A', 'G', 'A', 'G', 'G', 'T', 'C', 'C', 'A', 'A', 'A', 'T', 'A', 'T', 'C', 'C', 'A', 'C', 'C', 'T', 'G', 'C', 'A', 'G', 'A', 'G', 'T', 'C', 'T', 'A', 'C', 'A', 'A', 'A', 'A', 'A', 'G', 'T', 'G', 'T', 'G', 'T', 'T', 'T', 'C', 'A', 'A', 'A', 'A', 'C', 'T', 'G', 'C', 'T', 'C', 'C', 'A', 'C', 'C', 'C', 'A', 'A', 'A', 'G', 'G', 'A', 'A', 'T', 'G', 'T', 'T', 'C', 'A', 'G', 'C', 'T', 'C', 'T', 'G', 'T', 'G', 'A', 'G', 'T', 'T', 'G', 'A', 'A', 'C', 'T', 'C', 'A', 'A', 'T', 'C', 'A', 'T', 'C', 'C'] 121657530\n"
     ]
    },
    {
     "name": "stdin",
     "output_type": "stream",
     "text": [
      " \n"
     ]
    },
    {
     "name": "stdout",
     "output_type": "stream",
     "text": [
      "40\n",
      "AGAGAGGTCCAAATATCCACCTGCAGAGTCTACAAAAAGTCTGTTTCAAAACTGCTCCACCCAAAGGAATGTTCAGCTCTGTGAGTTGAACTCAATCATCC\n"
     ]
    },
    {
     "name": "stdin",
     "output_type": "stream",
     "text": [
      " \n"
     ]
    },
    {
     "name": "stdout",
     "output_type": "stream",
     "text": [
      "[(123086218, 123086219, 'T', 'G'), (123086260, 123086261, 'A', 'C')] ['A', 'C', 'A', 'G', 'A', 'G', 'A', 'G', 'C', 'A', 'G', 'A', 'C', 'T', 'T', 'G', 'A', 'A', 'A', 'C', 'A', 'C', 'T', 'C', 'T', 'T', 'T', 'T', 'T', 'G', 'T', 'G', 'G', 'A', 'A', 'T', 'T', 'T', 'G', 'C', 'A', 'A', 'G', 'T', 'G', 'G', 'A', 'G', 'A', 'T', 'T', 'T', 'C', 'A', 'G', 'C', 'C', 'G', 'C', 'T', 'T', 'T', 'G', 'A', 'G', 'G', 'T', 'C', 'A', 'A', 'T', 'A', 'G', 'T', 'A', 'G', 'A', 'A', 'A', 'A', 'G', 'G', 'A', 'A', 'A', 'T', 'A', 'A', 'C', 'T', 'T', 'C', 'G', 'T', 'A', 'G', 'A', 'A', 'A', 'A', 'A'] 123086175\n"
     ]
    },
    {
     "name": "stdin",
     "output_type": "stream",
     "text": [
      " \n"
     ]
    },
    {
     "name": "stdout",
     "output_type": "stream",
     "text": [
      "43\n",
      "85\n",
      "Expected ref 'A' at position 85, but found 'T'\n",
      "ACAGAGAGCAGACTTGAAACACTCTTTTTGTGGAATTTGCAAGGGGAGATTTCAGCCGCTTTGAGGTCAATAGTAGAAAAGGAAATAACTTCGTAGAAAAA\n"
     ]
    },
    {
     "name": "stdin",
     "output_type": "stream",
     "text": [
      " \n"
     ]
    },
    {
     "name": "stdout",
     "output_type": "stream",
     "text": [
      "[(123693931, 123693932, 'G', 'C')] ['C', 'T', 'T', 'T', 'T', 'T', 'G', 'T', 'G', 'G', 'A', 'A', 'T', 'T', 'T', 'G', 'C', 'A', 'A', 'G', 'T', 'G', 'G', 'A', 'G', 'A', 'T', 'T', 'T', 'C', 'A', 'A', 'G', 'C', 'G', 'C', 'T', 'T', 'T', 'G', 'A', 'G', 'G', 'C', 'C', 'A', 'A', 'A', 'G', 'G', 'C', 'A', 'G', 'A', 'A', 'A', 'A', 'G', 'G', 'A', 'A', 'A', 'T', 'A', 'T', 'C', 'T', 'T', 'C', 'G', 'T', 'T', 'T', 'C', 'A', 'A', 'A', 'A', 'C', 'T', 'A', 'G', 'A', 'C', 'A', 'G', 'A', 'A', 'T', 'C', 'A', 'T', 'T', 'C', 'T', 'C', 'A', 'G', 'A', 'A', 'A'] 123693892\n"
     ]
    },
    {
     "name": "stdin",
     "output_type": "stream",
     "text": [
      " \n"
     ]
    },
    {
     "name": "stdout",
     "output_type": "stream",
     "text": [
      "39\n",
      "CTTTTTGTGGAATTTGCAAGTGGAGATTTCAAGCGCTTTCAGGCCAAAGGCAGAAAAGGAAATATCTTCGTTTCAAAACTAGACAGAATCATTCTCAGAAA\n"
     ]
    },
    {
     "name": "stdin",
     "output_type": "stream",
     "text": [
      " \n"
     ]
    },
    {
     "name": "stdout",
     "output_type": "stream",
     "text": [
      "[(179350700, 179350701, 'A', 'T')] ['T', 'T', 'G', 'A', 'A', 'G', 'T', 'A', 'G', 'G', 'G', 'A', 'A', 'A', 'T', 'G', 'A', 'A', 'C', 'T', 'A', 'G', 'G', 'T', 'A', 'A', 'C', 'C', 'T', 'C', 'A', 'T', 'G', 'A', 'A', 'G', 'A', 'C', 'C', 'A', 'T', 'T', 'G', 'A', 'T', 'A', 'A', 'C', 'A', 'C', 'T', 'G', 'A', 'T', 'T', 'T', 'G', 'A', 'T', 'A', 'G', 'G', 'T', 'C', 'A', 'T', 'A', 'A', 'A', 'A', 'G', 'T', 'T', 'A', 'T', 'C', 'T', 'A', 'T', 'A', 'T', 'A', 'A', 'A', 'C', 'A', 'G', 'C', 'T', 'T', 'T', 'C', 'C', 'C', 'A', 'T', 'T', 'C', 'G', 'T'] 179350623\n"
     ]
    },
    {
     "name": "stdin",
     "output_type": "stream",
     "text": [
      " \n"
     ]
    },
    {
     "name": "stdout",
     "output_type": "stream",
     "text": [
      "77\n",
      "TTGAAGTAGGGAAATGAACTAGGTAACCTCATGAAGACCATTGATAACACTGATTTGATAGGTCATAAAAGTTATCTTTATAAACAGCTTTCCCATTCGT\n"
     ]
    },
    {
     "name": "stdin",
     "output_type": "stream",
     "text": [
      " \n"
     ]
    },
    {
     "name": "stdout",
     "output_type": "stream",
     "text": [
      "[(182949844, 182949845, 'G', 'T')] ['T', 'T', 'T', 'A', 'C', 'A', 'T', 'T', 'C', 'C', 'T', 'T', 'T', 'G', 'T', 'A', 'A', 'T', 'C', 'T', 'C', 'T', 'G', 'T', 'G', 'A', 'C', 'T', 'G', 'A', 'A', 'A', 'A', 'T', 'A', 'T', 'G', 'G', 'T', 'A', 'T', 'T', 'C', 'T', 'T', 'T', 'T', 'T', 'T', 'T', 'T', 'T', 'T', 'T', 'T', 'T', 'T', 'T', 'T', 'T', 'G', 'A', 'G', 'A', 'T', 'G', 'G', 'G', 'G', 'C', 'C', 'T', 'C', 'A', 'C', 'T', 'A', 'T', 'G', 'T', 'C', 'A', 'C', 'C', 'C', 'A', 'G', 'G', 'C', 'T', 'C', 'A', 'C', 'T', 'G', 'C', 'A', 'A', 'C', 'C', 'T'] 182949784\n"
     ]
    },
    {
     "name": "stdin",
     "output_type": "stream",
     "text": [
      " \n"
     ]
    },
    {
     "name": "stdout",
     "output_type": "stream",
     "text": [
      "60\n",
      "TTTACATTCCTTTGTAATCTCTGTGACTGAAAATATGGTATTCTTTTTTTTTTTTTTTTTTAGATGGGGCCTCACTATGTCACCCAGGCTCACTGCAACCT\n"
     ]
    },
    {
     "name": "stdin",
     "output_type": "stream",
     "text": [
      " \n"
     ]
    },
    {
     "name": "stdout",
     "output_type": "stream",
     "text": [
      "[(236097312, 236097313, 'T', 'C')] ['A', 'A', 'T', 'G', 'G', 'A', 'G', 'C', 'A', 'G', 'G', 'C', 'G', 'G', 'C', 'C', 'A', 'G', 'G', 'G', 'G', 'T', 'G', 'A', 'C', 'T', 'C', 'A', 'G', 'A', 'A', 'T', 'G', 'G', 'A', 'G', 'C', 'A', 'G', 'G', 'C', 'G', 'G', 'C', 'C', 'A', 'G', 'G', 'G', 'G', 'T', 'G', 'A', 'C', 'T', 'C', 'A', 'G', 'A', 'A', 'T', 'G', 'G', 'A', 'G', 'C', 'A', 'G', 'G', 'T', 'G', 'G', 'C', 'C', 'A', 'G', 'G', 'G', 'G', 'T', 'G', 'A', 'C', 'T', 'C', 'A', 'G', 'A', 'A', 'T', 'G', 'G', 'A', 'G', 'C', 'A', 'G', 'G', 'T', 'G'] 236097214\n"
     ]
    },
    {
     "name": "stdin",
     "output_type": "stream",
     "text": [
      " \n"
     ]
    },
    {
     "name": "stdout",
     "output_type": "stream",
     "text": [
      "98\n",
      "AATGGAGCAGGCGGCCAGGGGTGACTCAGAATGGAGCAGGCGGCCAGGGGTGACTCAGAATGGAGCAGGTGGCCAGGGGTGACTCAGAATGGAGCAGGCG\n"
     ]
    },
    {
     "name": "stdin",
     "output_type": "stream",
     "text": [
      " \n"
     ]
    },
    {
     "name": "stdout",
     "output_type": "stream",
     "text": [
      "[(38647446, 38647447, 'G', 'A')] ['A', 'C', 'T', 'T', 'C', 'C', 'C', 'C', 'A', 'A', 'T', 'T', 'A', 'A', 'A', 'A', 'G', 'G', 'T', 'T', 'A', 'C', 'A', 'G', 'G', 'A', 'A', 'A', 'G', 'G', 'C', 'C', 'C', 'C', 'T', 'A', 'T', 'T', 'G', 'G', 'C', 'C', 'T', 'A', 'C', 'A', 'T', 'T', 'A', 'C', 'T', 'C', 'T', 'G', 'G', 'C', 'T', 'C', 'T', 'T', 'C', 'T', 'C', 'C', 'A', 'G', 'G', 'A', 'A', 'T', 'T', 'T', 'G', 'G', 'A', 'T', 'G', 'A', 'A', 'G', 'A', 'G', 'A', 'T', 'T', 'T', 'C', 'A', 'G', 'T', 'C', 'T', 'C', 'A', 'G', 'T', 'C', 'T', 'G', 'G', 'G'] 38647347\n"
     ]
    },
    {
     "name": "stdin",
     "output_type": "stream",
     "text": [
      " \n"
     ]
    },
    {
     "name": "stdout",
     "output_type": "stream",
     "text": [
      "99\n",
      "ACTTCCCCAATTAAAAGGTTACAGGAAAGGCCCCTATTGGCCTACATTACTCTGGCTCTTCTCCAGGAATTTGGATGAAGAGATTTCAGTCTCAGTCTGAG\n"
     ]
    },
    {
     "name": "stdin",
     "output_type": "stream",
     "text": [
      " \n"
     ]
    },
    {
     "name": "stdout",
     "output_type": "stream",
     "text": [
      "[(46844260, 46844261, 'T', 'A')] ['C', 'C', 'A', 'C', 'G', 'G', 'T', 'G', 'G', 'C', 'T', 'C', 'A', 'T', 'G', 'C', 'C', 'T', 'G', 'T', 'A', 'A', 'T', 'C', 'C', 'C', 'A', 'G', 'C', 'A', 'C', 'T', 'T', 'T', 'G', 'G', 'G', 'A', 'G', 'G', 'C', 'C', 'G', 'A', 'G', 'G', 'C', 'A', 'G', 'G', 'C', 'G', 'G', 'A', 'T', 'C', 'T', 'T', 'G', 'G', 'G', 'G', 'T', 'C', 'A', 'G', 'G', 'A', 'G', 'A', 'T', 'C', 'A', 'A', 'G', 'A', 'C', 'C', 'A', 'T', 'C', 'C', 'T', 'G', 'C', 'C', 'C', 'A', 'A', 'C', 'A', 'T', 'G', 'G', 'T', 'G', 'A', 'A', 'A', 'C', 'C'] 46844204\n"
     ]
    },
    {
     "name": "stdin",
     "output_type": "stream",
     "text": [
      " \n"
     ]
    },
    {
     "name": "stdout",
     "output_type": "stream",
     "text": [
      "56\n",
      "CCACGGTGGCTCATGCCTGTAATCCCAGCACTTTGGGAGGCCGAGGCAGGCGGATCATGGGGTCAGGAGATCAAGACCATCCTGCCCAACATGGTGAAACC\n"
     ]
    },
    {
     "name": "stdin",
     "output_type": "stream",
     "text": [
      " \n"
     ]
    },
    {
     "name": "stdout",
     "output_type": "stream",
     "text": [
      "[(126678985, 126678986, 'C', 'A')] ['C', 'C', 'A', 'A', 'G', 'T', 'G', 'G', 'A', 'C', 'C', 'T', 'A', 'A', 'T', 'A', 'G', 'A', 'C', 'A', 'T', 'C', 'T', 'A', 'C', 'A', 'G', 'A', 'A', 'C', 'T', 'C', 'T', 'C', 'C', 'A', 'C', 'C', 'C', 'C', 'A', 'A', 'A', 'T', 'C', 'A', 'A', 'C', 'A', 'G', 'A', 'A', 'T', 'A', 'T', 'A', 'C', 'A', 'T', 'T', 'T', 'T', 'T', 'T', 'T', 'C', 'A', 'G', 'C', 'A', 'C', 'C', 'A', 'C', 'A', 'C', 'C', 'A', 'C', 'A', 'C', 'C', 'T', 'A', 'T', 'T', 'C', 'C', 'A', 'A', 'A', 'A', 'T', 'T', 'G', 'A', 'C', 'C', 'A', 'C', 'A'] 126678947\n"
     ]
    },
    {
     "name": "stdin",
     "output_type": "stream",
     "text": [
      " \n"
     ]
    },
    {
     "name": "stdout",
     "output_type": "stream",
     "text": [
      "38\n",
      "CCAAGTGGACCTAATAGACATCTACAGAACTCTCCACCACAAATCAACAGAATATACATTTTTTTCAGCACCACACCACACCTATTCCAAAATTGACCACA\n"
     ]
    },
    {
     "name": "stdin",
     "output_type": "stream",
     "text": [
      " \n"
     ]
    },
    {
     "name": "stdout",
     "output_type": "stream",
     "text": [
      "[(3509724, 3509725, 'T', 'A')] ['G', 'C', 'G', 'T', 'T', 'A', 'T', 'C', 'A', 'G', 'T', 'T', 'G', 'G', 'A', 'T', 'G', 'A', 'A', 'T', 'T', 'C', 'C', 'T', 'G', 'G', 'G', 'A', 'A', 'C', 'T', 'G', 'C', 'A', 'G', 'A', 'T', 'A', 'T', 'T', 'G', 'C', 'T', 'C', 'G', 'C', 'C', 'A', 'C', 'A', 'G', 'T', 'A', 'T', 'C', 'T', 'T', 'A', 'T', 'C', 'A', 'G', 'T', 'T', 'A', 'A', 'T', 'T', 'G', 'C', 'A', 'T', 'T', 'C', 'T', 'T', 'C', 'G', 'A', 'T', 'G', 'T', 'G', 'C', 'T', 'G', 'G', 'G', 'A', 'G', 'T', 'C', 'A', 'G', 'C', 'T', 'T', 'G', 'C', 'A'] 3509634\n"
     ]
    },
    {
     "name": "stdin",
     "output_type": "stream",
     "text": [
      " \n"
     ]
    },
    {
     "name": "stdout",
     "output_type": "stream",
     "text": [
      "90\n",
      "GCGTTATCAGTTGGATGAATTCCTGGGAACTGCAGATATTGCTCGCCACAGTATCTTATCAGTTAATTGCATTCTTCGATGTGCTGGGAGACAGCTTGCA\n"
     ]
    },
    {
     "name": "stdin",
     "output_type": "stream",
     "text": [
      " \n"
     ]
    },
    {
     "name": "stdout",
     "output_type": "stream",
     "text": [
      "[(127340841, 127340842, 'C', 'T')] ['A', 'A', 'A', 'C', 'A', 'A', 'C', 'T', 'C', 'A', 'C', 'T', 'C', 'C', 'T', 'G', 'G', 'C', 'C', 'A', 'G', 'C', 'A', 'A', 'T', 'C', 'T', 'G', 'T', 'C', 'T', 'T', 'C', 'T', 'C', 'A', 'T', 'T', 'T', 'T', 'T', 'C', 'C', 'C', 'C', 'C', 'C', 'A', 'T', 'C', 'C', 'T', 'T', 'C', 'T', 'A', 'C', 'C', 'C', 'T', 'A', 'T', 'C', 'C', 'T', 'T', 'C', 'T', 'T', 'T', 'T', 'T', 'C', 'T', 'A', 'C', 'C', 'T', 'T', 'C', 'A', 'A', 'T', 'A', 'T', 'T', 'T', 'A', 'T', 'T', 'G', 'A', 'G', 'C', 'A', 'C', 'T', 'T', 'A', 'C', 'C'] 127340800\n"
     ]
    },
    {
     "name": "stdin",
     "output_type": "stream",
     "text": [
      " \n"
     ]
    },
    {
     "name": "stdout",
     "output_type": "stream",
     "text": [
      "41\n",
      "AAACAACTCACTCCTGGCCAGCAATCTGTCTTCTCATTTTTTCCCCCATCCTTCTACCCTATCCTTCTTTTTCTACCTTCAATATTTATTGAGCACTTACC\n"
     ]
    },
    {
     "name": "stdin",
     "output_type": "stream",
     "text": [
      " \n"
     ]
    },
    {
     "name": "stdout",
     "output_type": "stream",
     "text": [
      "[(54210015, 54210016, 'G', 'A')] ['T', 'G', 'A', 'G', 'G', 'G', 'C', 'G', 'A', 'G', 'A', 'A', 'G', 'A', 'G', 'G', 'T', 'T', 'A', 'A', 'T', 'T', 'G', 'A', 'G', 'T', 'C', 'T', 'G', 'T', 'C', 'T', 'G', 'C', 'A', 'G', 'G', 'C', 'A', 'A', 'G', 'A', 'T', 'A', 'A', 'G', 'G', 'C', 'T', 'C', 'C', 'C', 'A', 'C', 'A', 'G', 'A', 'G', 'C', 'T', 'G', 'G', 'A', 'G', 'C', 'T', 'A', 'G', 'T', 'T', 'C', 'C', 'C', 'T', 'G', 'G', 'A', 'G', 'T', 'G', 'T', 'C', 'T', 'T', 'C', 'T', 'A', 'G', 'A', 'T', 'A', 'A', 'C', 'A', 'C', 'T', 'C', 'A', 'G', 'A'] 54210008\n"
     ]
    },
    {
     "name": "stdin",
     "output_type": "stream",
     "text": [
      " \n"
     ]
    },
    {
     "name": "stdout",
     "output_type": "stream",
     "text": [
      "7\n",
      "TGAGGGCAAGAAGAGGTTAATTGAGTCTGTCTGCAGGCAAGATAAGGCTCCCACAGAGCTGGAGCTAGTTCCCTGGAGTGTCTTCTAGATAACACTCAGA\n"
     ]
    },
    {
     "name": "stdin",
     "output_type": "stream",
     "text": [
      " \n"
     ]
    },
    {
     "name": "stdout",
     "output_type": "stream",
     "text": [
      "[(129549371, 129549372, 'C', 'T')] ['T', 'C', 'C', 'A', 'C', 'G', 'T', 'G', 'T', 'T', 'G', 'T', 'G', 'G', 'G', 'A', 'A', 'G', 'G', 'A', 'C', 'C', 'T', 'G', 'G', 'T', 'G', 'G', 'G', 'A', 'G', 'A', 'T', 'A', 'A', 'G', 'T', 'G', 'A', 'A', 'T', 'C', 'A', 'T', 'G', 'G', 'G', 'G', 'T', 'G', 'G', 'T', 'T', 'T', 'C', 'C', 'C', 'C', 'C', 'C', 'T', 'C', 'C', 'T', 'G', 'T', 'T', 'C', 'T', 'C', 'A', 'T', 'G', 'G', 'T', 'A', 'G', 'T', 'G', 'A', 'A', 'T', 'A', 'A', 'G', 'T', 'C', 'T', 'C', 'A', 'T', 'G', 'G', 'G', 'A', 'T', 'C', 'T', 'G', 'A', 'T'] 129549367\n"
     ]
    },
    {
     "name": "stdin",
     "output_type": "stream",
     "text": [
      " \n"
     ]
    },
    {
     "name": "stdout",
     "output_type": "stream",
     "text": [
      "4\n",
      "TCCATGTGTTGTGGGAAGGACCTGGTGGGAGATAAGTGAATCATGGGGTGGTTTCCCCCCTCCTGTTCTCATGGTAGTGAATAAGTCTCATGGGATCTGAT\n"
     ]
    },
    {
     "name": "stdin",
     "output_type": "stream",
     "text": [
      " \n"
     ]
    },
    {
     "name": "stdout",
     "output_type": "stream",
     "text": [
      "[(16403083, 16403084, 'T', 'G')] ['C', 'G', 'T', 'T', 'T', 'C', 'A', 'G', 'A', 'G', 'A', 'C', 'C', 'A', 'G', 'C', 'T', 'T', 'T', 'G', 'A', 'A', 'G', 'C', 'A', 'C', 'T', 'C', 'T', 'T', 'T', 'T', 'T', 'G', 'T', 'A', 'G', 'T', 'A', 'T', 'G', 'T', 'G', 'C', 'A', 'C', 'G', 'T', 'G', 'G', 'A', 'T', 'A', 'T', 'T', 'T', 'G', 'G', 'A', 'G', 'C', 'G', 'C', 'T', 'C', 'T', 'G', 'A', 'G', 'G', 'C', 'C', 'T', 'A', 'C', 'G', 'G', 'T', 'G', 'A', 'A', 'A', 'A', 'A', 'G', 'C', 'A', 'A', 'A', 'T', 'A', 'T', 'C', 'T', 'T', 'C', 'C', 'C', 'A', 'T', 'A'] 16403006\n"
     ]
    },
    {
     "name": "stdin",
     "output_type": "stream",
     "text": [
      " \n"
     ]
    },
    {
     "name": "stdout",
     "output_type": "stream",
     "text": [
      "77\n",
      "CGTTTCAGAGACCAGCTTTGAAGCACTCTTTTTGTAGTATGTGCACGTGGATATTTGGAGCGCTCTGAGGCCTACGGGGAAAAAGCAAATATCTTCCCATA\n"
     ]
    },
    {
     "name": "stdin",
     "output_type": "stream",
     "text": [
      " \n"
     ]
    },
    {
     "name": "stdout",
     "output_type": "stream",
     "text": [
      "[(16647754, 16647755, 'G', 'C')] ['A', 'C', 'A', 'G', 'A', 'G', 'G', 'T', 'G', 'G', 'A', 'T', 'C', 'T', 'T', 'T', 'C', 'T', 'T', 'T', 'T', 'G', 'A', 'T', 'A', 'G', 'A', 'G', 'C', 'A', 'G', 'T', 'T', 'G', 'T', 'G', 'A', 'A', 'A', 'A', 'A', 'C', 'A', 'C', 'T', 'T', 'T', 'T', 'T', 'G', 'T', 'T', 'G', 'A', 'T', 'T', 'A', 'T', 'G', 'C', 'A', 'A', 'G', 'T', 'G', 'G', 'A', 'C', 'A', 'T', 'T', 'T', 'G', 'G', 'A', 'T', 'A', 'G', 'A', 'T', 'T', 'T', 'G', 'A', 'A', 'G', 'A', 'T', 'T', 'T', 'C', 'G', 'T', 'T', 'G', 'G', 'A', 'A', 'A', 'C', 'G'] 16647729\n"
     ]
    },
    {
     "name": "stdin",
     "output_type": "stream",
     "text": [
      " \n"
     ]
    },
    {
     "name": "stdout",
     "output_type": "stream",
     "text": [
      "25\n",
      "ACAGAGGTGGATCTTTCTTTTGATACAGCAGTTGTGAAAAACACTTTTTGTTGATTATGCAAGTGGACATTTGGATAGATTTGAAGATTTCGTTGGAAACG\n"
     ]
    },
    {
     "name": "stdin",
     "output_type": "stream",
     "text": [
      " \n"
     ]
    },
    {
     "name": "stdout",
     "output_type": "stream",
     "text": [
      "[(17219833, 17219834, 'T', 'A')] ['C', 'A', 'T', 'T', 'T', 'G', 'G', 'A', 'T', 'A', 'G', 'A', 'T', 'A', 'T', 'G', 'A', 'A', 'G', 'A', 'T', 'T', 'T', 'C', 'G', 'T', 'T', 'G', 'G', 'A', 'A', 'A', 'C', 'G', 'G', 'G', 'A', 'A', 'T', 'A', 'T', 'C', 'T', 'T', 'C', 'A', 'T', 'A', 'T', 'C', 'A', 'A', 'A', 'T', 'C', 'T', 'A', 'G', 'A', 'C', 'A', 'G', 'A', 'A', 'G', 'C', 'A', 'T', 'T', 'C', 'T', 'C', 'A', 'G', 'A', 'A', 'A', 'C', 'G', 'T', 'C', 'T', 'T', 'T', 'G', 'T', 'G', 'A', 'T', 'G', 'T', 'T', 'T', 'G', 'C', 'A', 'T', 'T', 'C', 'A', 'A'] 17219793\n"
     ]
    },
    {
     "name": "stdin",
     "output_type": "stream",
     "text": [
      " \n"
     ]
    },
    {
     "name": "stdout",
     "output_type": "stream",
     "text": [
      "40\n",
      "CATTTGGATAGATATGAAGATTTCGTTGGAAACGGGAATAACTTCATATCAAATCTAGACAGAAGCATTCTCAGAAACGTCTTTGTGATGTTTGCATTCAA\n"
     ]
    },
    {
     "name": "stdin",
     "output_type": "stream",
     "text": [
      " \n"
     ]
    },
    {
     "name": "stdout",
     "output_type": "stream",
     "text": [
      "[(17434557, 17434558, 'T', 'A'), (17434610, 17434611, 'G', 'T')] ['T', 'T', 'C', 'T', 'A', 'T', 'T', 'G', 'A', 'T', 'A', 'G', 'A', 'G', 'C', 'A', 'G', 'T', 'T', 'T', 'T', 'G', 'A', 'A', 'A', 'C', 'A', 'C', 'T', 'C', 'T', 'T', 'T', 'T', 'T', 'G', 'T', 'G', 'G', 'A', 'A', 'T', 'C', 'T', 'G', 'C', 'A', 'A', 'G', 'T', 'G', 'G', 'A', 'T', 'A', 'T', 'T', 'T', 'G', 'G', 'A', 'T', 'A', 'G', 'C', 'T', 'T', 'G', 'G', 'A', 'G', 'G', 'T', 'T', 'T', 'T', 'C', 'G', 'T', 'T', 'G', 'G', 'A', 'A', 'G', 'A', 'G', 'G', 'G', 'A', 'A', 'T', 'T', 'C', 'A', 'A', 'A', 'T', 'A', 'A', 'A'] 17434519\n"
     ]
    },
    {
     "name": "stdin",
     "output_type": "stream",
     "text": [
      " \n"
     ]
    },
    {
     "name": "stdout",
     "output_type": "stream",
     "text": [
      "38\n",
      "Expected ref 'T' at position 38, but found 'G'\n",
      "91\n",
      "Expected ref 'G' at position 91, but found 'T'\n",
      "TTCTATTGATAGAGCAGTTTTGAAACACTCTTTTTGTGGAATCTGCAAGTGGATATTTGGATAGCTTGGAGGTTTTCGTTGGAAGAGGGAATTCAAATAAA\n"
     ]
    }
   ],
   "source": [
    "missing_files = []\n",
    "\n",
    "\n",
    "\n",
    "for index, row in top_models_df.iterrows():\n",
    "    intersected_data = f\"{intersected_base_path}/{row[0]}/intersected_vcf_data.pkl\"\n",
    "    print(intersected_data)\n",
    "    \n",
    "    try:\n",
    "        with open(intersected_data, \"rb\") as file:\n",
    "            loaded_dictionary = pickle.load(file)\n",
    "        print(f\"****All the VCF files are loaded for {row[0]}***\") \n",
    "\n",
    "        dnabert_raw_data = {}\n",
    "        for key, value in loaded_dictionary.items():\n",
    "            new_df, df_kmer = get_sequences(value, reference_fasta)\n",
    "            dnabert_raw_data[key] = new_df\n",
    "            display(df_kmer)\n",
    "            display(new_df)\n",
    "            grouped_df = new_df.groupby(['chr', 'Chip_Seq_start', 'Chip_Seq_end']).agg({\n",
    "                                    'varinat_start': lambda x: list(set(x)),  # Get unique starts\n",
    "                                    'variant_end': lambda x: list(set(x)),    # Get unique ends\n",
    "                                    'ref_neucleotide': lambda x: list(set(x)),  # Unique reference nucleotides\n",
    "                                    'alternative_neucleotide': lambda x: list(set(x)),  # Unique alternative nucleotides\n",
    "                                    'reference_seq': 'first',  # Assuming you might want just the first sequence\n",
    "                                    'alt_seq':  lambda x: list(set(x))  # Assuming you might want all the alt sequence\n",
    "                                }).reset_index()\n",
    "\n",
    "            display(grouped_df)\n",
    "            # Apply mutations\n",
    "            # Assuming grouped_df is already created and sorted properly\n",
    "            # Modify your grouped DataFrame construction and apply the new function\n",
    "            grouped_df['mutated_sequence'] = grouped_df.apply(lambda row: apply_mutations_absolute(\n",
    "                row['reference_seq'], row['Chip_Seq_start'], row['varinat_start'],\n",
    "                row['variant_end'], row['ref_neucleotide'], row['alternative_neucleotide']), axis=1)\n",
    "            display(grouped_df)\n",
    "            input()\n",
    "\n",
    "            out_folder_path = f\"{output_path}/{row[0]}/Patient_wise/{key}\"\n",
    "            if not os.path.exists(out_folder_path):\n",
    "                os.makedirs(out_folder_path)\n",
    "            df_kmer.to_csv(out_folder_path + \"/dev.tsv\", sep=\"\\t\", index=False)\n",
    "        \n",
    "        with open(f\"{output_path}/{row[0]}/raw_vcf_data.pkl\", \"wb\") as file:\n",
    "            pickle.dump(dnabert_raw_data, file)\n",
    "\n",
    "    except FileNotFoundError:\n",
    "        print(f\"File not found for {row[0]}, skipping...\")\n",
    "        missing_files.append(row[0])\n",
    "\n",
    "# Optionally, save the list of missing files/tags to a text file\n",
    "missing_files_path = f\"{output_path}/missing_files.txt\"\n",
    "with open(missing_files_path, \"w\") as f:\n",
    "    for tag in missing_files:\n",
    "        f.write(f\"{tag}\\n\")\n",
    "\n",
    "print(f\"Missing files recorded at {missing_files_path}\")"
   ]
  },
  {
   "cell_type": "code",
   "execution_count": 42,
   "id": "3d3978e4-e2c0-4bc1-864d-e76c01f2e8b6",
   "metadata": {},
   "outputs": [
    {
     "data": {
      "text/plain": [
       "100"
      ]
     },
     "execution_count": 42,
     "metadata": {},
     "output_type": "execute_result"
    }
   ],
   "source": [
    "len(missing_files)"
   ]
  },
  {
   "cell_type": "code",
   "execution_count": 12,
   "id": "4d00e115-459f-4e81-ae6a-e0b38ce19e74",
   "metadata": {},
   "outputs": [
    {
     "data": {
      "text/html": [
       "<div>\n",
       "<style scoped>\n",
       "    .dataframe tbody tr th:only-of-type {\n",
       "        vertical-align: middle;\n",
       "    }\n",
       "\n",
       "    .dataframe tbody tr th {\n",
       "        vertical-align: top;\n",
       "    }\n",
       "\n",
       "    .dataframe thead th {\n",
       "        text-align: right;\n",
       "    }\n",
       "</style>\n",
       "<table border=\"1\" class=\"dataframe\">\n",
       "  <thead>\n",
       "    <tr style=\"text-align: right;\">\n",
       "      <th></th>\n",
       "      <th>chr</th>\n",
       "      <th>Chip_Seq_start</th>\n",
       "      <th>Chip_Seq_end</th>\n",
       "      <th>varinat_start</th>\n",
       "      <th>variant_end</th>\n",
       "      <th>ref_neucleotide</th>\n",
       "      <th>alternative_neucleotide</th>\n",
       "      <th>reference_seq</th>\n",
       "      <th>alt_seq</th>\n",
       "      <th>mutated_sequence</th>\n",
       "    </tr>\n",
       "  </thead>\n",
       "  <tbody>\n",
       "    <tr>\n",
       "      <th>0</th>\n",
       "      <td>chr1</td>\n",
       "      <td>16732666</td>\n",
       "      <td>16732766</td>\n",
       "      <td>[16732746]</td>\n",
       "      <td>[16732747]</td>\n",
       "      <td>[G]</td>\n",
       "      <td>[T]</td>\n",
       "      <td>GGAAGAAGAAAAAAACCTGTGGCAATTGGAACATAGTTTATTCTTT...</td>\n",
       "      <td>[GGAAGAAGAAAAAAACCTGTGGCAATTGGAACATAGTTTATTCTT...</td>\n",
       "      <td>GGAAGAAGAAAAAAACCTGTGGCAATTGGAACATAGTTTATTCTTT...</td>\n",
       "    </tr>\n",
       "    <tr>\n",
       "      <th>1</th>\n",
       "      <td>chr1</td>\n",
       "      <td>54707858</td>\n",
       "      <td>54707958</td>\n",
       "      <td>[54707863]</td>\n",
       "      <td>[54707864]</td>\n",
       "      <td>[C]</td>\n",
       "      <td>[T]</td>\n",
       "      <td>TGCATCCTCAGATGGATCCTCAGATCCTTGCCCTCCCACTGTCACC...</td>\n",
       "      <td>[TGCATTCTCAGATGGATCCTCAGATCCTTGCCCTCCCACTGTCAC...</td>\n",
       "      <td>TGCATTCTCAGATGGATCCTCAGATCCTTGCCCTCCCACTGTCACC...</td>\n",
       "    </tr>\n",
       "    <tr>\n",
       "      <th>2</th>\n",
       "      <td>chr1</td>\n",
       "      <td>111040309</td>\n",
       "      <td>111040410</td>\n",
       "      <td>[111040379]</td>\n",
       "      <td>[111040380]</td>\n",
       "      <td>[C]</td>\n",
       "      <td>[T]</td>\n",
       "      <td>TTGGGAGGCCAAGGCGGGCGGATCACGAGGTCAGGAGATCGAGACC...</td>\n",
       "      <td>[TTGGGAGGCCAAGGCGGGCGGATCACGAGGTCAGGAGATCGAGAC...</td>\n",
       "      <td>TTGGGAGGCCAAGGCGGGCGGATCACGAGGTCAGGAGATCGAGACC...</td>\n",
       "    </tr>\n",
       "    <tr>\n",
       "      <th>3</th>\n",
       "      <td>chr1</td>\n",
       "      <td>121657530</td>\n",
       "      <td>121657631</td>\n",
       "      <td>[121657570]</td>\n",
       "      <td>[121657571]</td>\n",
       "      <td>[G]</td>\n",
       "      <td>[C]</td>\n",
       "      <td>AGAGAGGTCCAAATATCCACCTGCAGAGTCTACAAAAAGTGTGTTT...</td>\n",
       "      <td>[AGAGAGGTCCAAATATCCACCTGCAGAGTCTACAAAAAGTCTGTT...</td>\n",
       "      <td>AGAGAGGTCCAAATATCCACCTGCAGAGTCTACAAAAAGTCTGTTT...</td>\n",
       "    </tr>\n",
       "    <tr>\n",
       "      <th>4</th>\n",
       "      <td>chr1</td>\n",
       "      <td>123086175</td>\n",
       "      <td>123086276</td>\n",
       "      <td>[123086218, 123086260, 123086246]</td>\n",
       "      <td>[123086219, 123086261, 123086247]</td>\n",
       "      <td>[T, A]</td>\n",
       "      <td>[G, C, A]</td>\n",
       "      <td>ACAGAGAGCAGACTTGAAACACTCTTTTTGTGGAATTTGCAAGTGG...</td>\n",
       "      <td>[ACAGAGAGCAGACTTGAAACACTCTTTTTGTGGAATTTGCAAGTG...</td>\n",
       "      <td>ACAGAGAGCAGACTTGAAACACTCTTTTTGTGGAATTTGCAAGGGG...</td>\n",
       "    </tr>\n",
       "    <tr>\n",
       "      <th>...</th>\n",
       "      <td>...</td>\n",
       "      <td>...</td>\n",
       "      <td>...</td>\n",
       "      <td>...</td>\n",
       "      <td>...</td>\n",
       "      <td>...</td>\n",
       "      <td>...</td>\n",
       "      <td>...</td>\n",
       "      <td>...</td>\n",
       "      <td>...</td>\n",
       "    </tr>\n",
       "    <tr>\n",
       "      <th>79</th>\n",
       "      <td>chr9</td>\n",
       "      <td>106762858</td>\n",
       "      <td>106762959</td>\n",
       "      <td>[106762872]</td>\n",
       "      <td>[106762873]</td>\n",
       "      <td>[T]</td>\n",
       "      <td>[C]</td>\n",
       "      <td>TTAGGAGAAAGAAGTAGGGGGAAGCTTAGTACTTGGAGGGAGCAGT...</td>\n",
       "      <td>[TTAGGAGAAAGAAGCAGGGGGAAGCTTAGTACTTGGAGGGAGCAG...</td>\n",
       "      <td>TTAGGAGAAAGAAGCAGGGGGAAGCTTAGTACTTGGAGGGAGCAGT...</td>\n",
       "    </tr>\n",
       "    <tr>\n",
       "      <th>80</th>\n",
       "      <td>chr9</td>\n",
       "      <td>130633198</td>\n",
       "      <td>130633299</td>\n",
       "      <td>[130633242]</td>\n",
       "      <td>[130633243]</td>\n",
       "      <td>[T]</td>\n",
       "      <td>[C]</td>\n",
       "      <td>CTTGCATGCTCTGAAATTGTATAGTTGTGTTTCTTCCCTTTTTTTC...</td>\n",
       "      <td>[CTTGCATGCTCTGAAATTGTATAGTTGTGTTTCTTCCCTTTTTTC...</td>\n",
       "      <td>CTTGCATGCTCTGAAATTGTATAGTTGTGTTTCTTCCCTTTTTTCC...</td>\n",
       "    </tr>\n",
       "    <tr>\n",
       "      <th>81</th>\n",
       "      <td>chrX</td>\n",
       "      <td>1348653</td>\n",
       "      <td>1348754</td>\n",
       "      <td>[1348693]</td>\n",
       "      <td>[1348694]</td>\n",
       "      <td>[T]</td>\n",
       "      <td>[C]</td>\n",
       "      <td>CTTTCTTTCTTTCTTTCTTTCTTTCTTTCTTTCTTTCTTTTTCTTT...</td>\n",
       "      <td>[CTTTCTTTCTTTCTTTCTTTCTTTCTTTCTTTCTTTCTTTCTCTT...</td>\n",
       "      <td>CTTTCTTTCTTTCTTTCTTTCTTTCTTTCTTTCTTTCTTTCTCTTT...</td>\n",
       "    </tr>\n",
       "    <tr>\n",
       "      <th>82</th>\n",
       "      <td>chrX</td>\n",
       "      <td>1570146</td>\n",
       "      <td>1570247</td>\n",
       "      <td>[1570207]</td>\n",
       "      <td>[1570208]</td>\n",
       "      <td>[C]</td>\n",
       "      <td>[A]</td>\n",
       "      <td>TGCAGTGAGCCAAGTTTGCACTGATGCACTCCAGCCTGGGTGACAG...</td>\n",
       "      <td>[TGCAGTGAGCCAAGTTTGCACTGATGCACTCCAGCCTGGGTGACA...</td>\n",
       "      <td>TGCAGTGAGCCAAGTTTGCACTGATGCACTCCAGCCTGGGTGACAG...</td>\n",
       "    </tr>\n",
       "    <tr>\n",
       "      <th>83</th>\n",
       "      <td>chrX</td>\n",
       "      <td>90540339</td>\n",
       "      <td>90540440</td>\n",
       "      <td>[90540412]</td>\n",
       "      <td>[90540413]</td>\n",
       "      <td>[A]</td>\n",
       "      <td>[T]</td>\n",
       "      <td>ATAAAATAAAAATGAAAAAATAAAAAACTAGAGCCGAAATATGAGT...</td>\n",
       "      <td>[ATAAAATAAAAATGAAAAAATAAAAAACTAGAGCCGAAATATGAG...</td>\n",
       "      <td>ATAAAATAAAAATGAAAAAATAAAAAACTAGAGCCGAAATATGAGT...</td>\n",
       "    </tr>\n",
       "  </tbody>\n",
       "</table>\n",
       "<p>84 rows × 10 columns</p>\n",
       "</div>"
      ],
      "text/plain": [
       "     chr  Chip_Seq_start  Chip_Seq_end                      varinat_start  \\\n",
       "0   chr1        16732666      16732766                         [16732746]   \n",
       "1   chr1        54707858      54707958                         [54707863]   \n",
       "2   chr1       111040309     111040410                        [111040379]   \n",
       "3   chr1       121657530     121657631                        [121657570]   \n",
       "4   chr1       123086175     123086276  [123086218, 123086260, 123086246]   \n",
       "..   ...             ...           ...                                ...   \n",
       "79  chr9       106762858     106762959                        [106762872]   \n",
       "80  chr9       130633198     130633299                        [130633242]   \n",
       "81  chrX         1348653       1348754                          [1348693]   \n",
       "82  chrX         1570146       1570247                          [1570207]   \n",
       "83  chrX        90540339      90540440                         [90540412]   \n",
       "\n",
       "                          variant_end ref_neucleotide alternative_neucleotide  \\\n",
       "0                          [16732747]             [G]                     [T]   \n",
       "1                          [54707864]             [C]                     [T]   \n",
       "2                         [111040380]             [C]                     [T]   \n",
       "3                         [121657571]             [G]                     [C]   \n",
       "4   [123086219, 123086261, 123086247]          [T, A]               [G, C, A]   \n",
       "..                                ...             ...                     ...   \n",
       "79                        [106762873]             [T]                     [C]   \n",
       "80                        [130633243]             [T]                     [C]   \n",
       "81                          [1348694]             [T]                     [C]   \n",
       "82                          [1570208]             [C]                     [A]   \n",
       "83                         [90540413]             [A]                     [T]   \n",
       "\n",
       "                                        reference_seq  \\\n",
       "0   GGAAGAAGAAAAAAACCTGTGGCAATTGGAACATAGTTTATTCTTT...   \n",
       "1   TGCATCCTCAGATGGATCCTCAGATCCTTGCCCTCCCACTGTCACC...   \n",
       "2   TTGGGAGGCCAAGGCGGGCGGATCACGAGGTCAGGAGATCGAGACC...   \n",
       "3   AGAGAGGTCCAAATATCCACCTGCAGAGTCTACAAAAAGTGTGTTT...   \n",
       "4   ACAGAGAGCAGACTTGAAACACTCTTTTTGTGGAATTTGCAAGTGG...   \n",
       "..                                                ...   \n",
       "79  TTAGGAGAAAGAAGTAGGGGGAAGCTTAGTACTTGGAGGGAGCAGT...   \n",
       "80  CTTGCATGCTCTGAAATTGTATAGTTGTGTTTCTTCCCTTTTTTTC...   \n",
       "81  CTTTCTTTCTTTCTTTCTTTCTTTCTTTCTTTCTTTCTTTTTCTTT...   \n",
       "82  TGCAGTGAGCCAAGTTTGCACTGATGCACTCCAGCCTGGGTGACAG...   \n",
       "83  ATAAAATAAAAATGAAAAAATAAAAAACTAGAGCCGAAATATGAGT...   \n",
       "\n",
       "                                              alt_seq  \\\n",
       "0   [GGAAGAAGAAAAAAACCTGTGGCAATTGGAACATAGTTTATTCTT...   \n",
       "1   [TGCATTCTCAGATGGATCCTCAGATCCTTGCCCTCCCACTGTCAC...   \n",
       "2   [TTGGGAGGCCAAGGCGGGCGGATCACGAGGTCAGGAGATCGAGAC...   \n",
       "3   [AGAGAGGTCCAAATATCCACCTGCAGAGTCTACAAAAAGTCTGTT...   \n",
       "4   [ACAGAGAGCAGACTTGAAACACTCTTTTTGTGGAATTTGCAAGTG...   \n",
       "..                                                ...   \n",
       "79  [TTAGGAGAAAGAAGCAGGGGGAAGCTTAGTACTTGGAGGGAGCAG...   \n",
       "80  [CTTGCATGCTCTGAAATTGTATAGTTGTGTTTCTTCCCTTTTTTC...   \n",
       "81  [CTTTCTTTCTTTCTTTCTTTCTTTCTTTCTTTCTTTCTTTCTCTT...   \n",
       "82  [TGCAGTGAGCCAAGTTTGCACTGATGCACTCCAGCCTGGGTGACA...   \n",
       "83  [ATAAAATAAAAATGAAAAAATAAAAAACTAGAGCCGAAATATGAG...   \n",
       "\n",
       "                                     mutated_sequence  \n",
       "0   GGAAGAAGAAAAAAACCTGTGGCAATTGGAACATAGTTTATTCTTT...  \n",
       "1   TGCATTCTCAGATGGATCCTCAGATCCTTGCCCTCCCACTGTCACC...  \n",
       "2   TTGGGAGGCCAAGGCGGGCGGATCACGAGGTCAGGAGATCGAGACC...  \n",
       "3   AGAGAGGTCCAAATATCCACCTGCAGAGTCTACAAAAAGTCTGTTT...  \n",
       "4   ACAGAGAGCAGACTTGAAACACTCTTTTTGTGGAATTTGCAAGGGG...  \n",
       "..                                                ...  \n",
       "79  TTAGGAGAAAGAAGCAGGGGGAAGCTTAGTACTTGGAGGGAGCAGT...  \n",
       "80  CTTGCATGCTCTGAAATTGTATAGTTGTGTTTCTTCCCTTTTTTCC...  \n",
       "81  CTTTCTTTCTTTCTTTCTTTCTTTCTTTCTTTCTTTCTTTCTCTTT...  \n",
       "82  TGCAGTGAGCCAAGTTTGCACTGATGCACTCCAGCCTGGGTGACAG...  \n",
       "83  ATAAAATAAAAATGAAAAAATAAAAAACTAGAGCCGAAATATGAGT...  \n",
       "\n",
       "[84 rows x 10 columns]"
      ]
     },
     "execution_count": 12,
     "metadata": {},
     "output_type": "execute_result"
    }
   ],
   "source": [
    "grouped_df"
   ]
  },
  {
   "cell_type": "code",
   "execution_count": 13,
   "id": "61c5a0ae-26ff-4c9f-a618-971a477205da",
   "metadata": {},
   "outputs": [
    {
     "data": {
      "text/plain": [
       "chr                                                                     chr1\n",
       "Chip_Seq_start                                                     123086175\n",
       "Chip_Seq_end                                                       123086276\n",
       "varinat_start                              [123086218, 123086260, 123086246]\n",
       "variant_end                                [123086219, 123086261, 123086247]\n",
       "ref_neucleotide                                                       [T, A]\n",
       "alternative_neucleotide                                            [G, C, A]\n",
       "reference_seq              ACAGAGAGCAGACTTGAAACACTCTTTTTGTGGAATTTGCAAGTGG...\n",
       "alt_seq                    [ACAGAGAGCAGACTTGAAACACTCTTTTTGTGGAATTTGCAAGTG...\n",
       "mutated_sequence           ACAGAGAGCAGACTTGAAACACTCTTTTTGTGGAATTTGCAAGGGG...\n",
       "Name: 4, dtype: object"
      ]
     },
     "execution_count": 13,
     "metadata": {},
     "output_type": "execute_result"
    }
   ],
   "source": [
    "grouped_df.iloc[4]"
   ]
  },
  {
   "cell_type": "code",
   "execution_count": 14,
   "id": "3d99bdfb-a1c7-41d2-98c7-71630d9694ce",
   "metadata": {},
   "outputs": [
    {
     "data": {
      "text/plain": [
       "['ACAGAGAGCAGACTTGAAACACTCTTTTTGTGGAATTTGCAAGTGGAGATTTCAGCCGCTTTGAGGTCAATAGTAGAAAAGGAAACAACTTCGTAGAAAAA',\n",
       " 'ACAGAGAGCAGACTTGAAACACTCTTTTTGTGGAATTTGCAAGTGGAGATTTCAGCCGCTTTGAGGTCAATGGTAGAAAAGGAAATAACTTCGTAGAAAAA',\n",
       " 'ACAGAGAGCAGACTTGAAACACTCTTTTTGTGGAATTTGCAAGAGGAGATTTCAGCCGCTTTGAGGTCAATAGTAGAAAAGGAAATAACTTCGTAGAAAAA']"
      ]
     },
     "execution_count": 14,
     "metadata": {},
     "output_type": "execute_result"
    }
   ],
   "source": [
    "grouped_df.iloc[4]['alt_seq']"
   ]
  },
  {
   "cell_type": "code",
   "execution_count": 15,
   "id": "eea5e048-ab92-4d7d-b29a-ccd7f8c35559",
   "metadata": {},
   "outputs": [
    {
     "data": {
      "text/plain": [
       "'ACAGAGAGCAGACTTGAAACACTCTTTTTGTGGAATTTGCAAGGGGAGATTTCAGCCGCTTTGAGGTCAATAGTAGAAAAGGAAATAACTTCGTAGAAAAA'"
      ]
     },
     "execution_count": 15,
     "metadata": {},
     "output_type": "execute_result"
    }
   ],
   "source": [
    "grouped_df.iloc[4]['mutated_sequence']"
   ]
  },
  {
   "cell_type": "code",
   "execution_count": 16,
   "id": "d8b4e67f-5cb2-469d-af11-cccb85374fe0",
   "metadata": {},
   "outputs": [
    {
     "data": {
      "text/plain": [
       "'ACAGAGAGCAGACTTGAAACACTCTTTTTGTGGAATTTGCAAGTGGAGATTTCAGCCGCTTTGAGGTCAATAGTAGAAAAGGAAATAACTTCGTAGAAAAA'"
      ]
     },
     "execution_count": 16,
     "metadata": {},
     "output_type": "execute_result"
    }
   ],
   "source": [
    "grouped_df.iloc[4]['reference_seq']"
   ]
  },
  {
   "cell_type": "code",
   "execution_count": null,
   "id": "0c799547-3f0a-4f64-b6d3-87b373c340c0",
   "metadata": {},
   "outputs": [],
   "source": []
  }
 ],
 "metadata": {
  "kernelspec": {
   "display_name": "Python 3 (ipykernel)",
   "language": "python",
   "name": "python3"
  },
  "language_info": {
   "codemirror_mode": {
    "name": "ipython",
    "version": 3
   },
   "file_extension": ".py",
   "mimetype": "text/x-python",
   "name": "python",
   "nbconvert_exporter": "python",
   "pygments_lexer": "ipython3",
   "version": "3.10.11"
  }
 },
 "nbformat": 4,
 "nbformat_minor": 5
}
