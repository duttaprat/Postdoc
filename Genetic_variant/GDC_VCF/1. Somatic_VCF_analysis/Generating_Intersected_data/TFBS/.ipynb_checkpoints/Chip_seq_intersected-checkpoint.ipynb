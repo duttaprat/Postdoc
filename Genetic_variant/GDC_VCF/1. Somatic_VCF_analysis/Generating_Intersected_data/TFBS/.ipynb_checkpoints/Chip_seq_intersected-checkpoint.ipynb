{
 "cells": [
  {
   "cell_type": "code",
   "execution_count": null,
   "id": "b2c4499a-c2e3-464e-8b6e-c319b5d29b7b",
   "metadata": {},
   "outputs": [],
   "source": [
    "import pandas as pd\n",
    "import numpy as np\n",
    "import os, io\n",
    "import pysam\n",
    "import pickle, subprocess\n",
    "import pybedtools\n",
    "print(pybedtools.__file__)\n",
    "pybedtools.helpers.set_tempdir('/data/private/pdutta/pybedtools_temp')\n",
    "from IPython.display import display, HTML"
   ]
  },
  {
   "cell_type": "code",
   "execution_count": 5,
   "id": "68f30982-66db-4604-a18b-47f64ca53c83",
   "metadata": {},
   "outputs": [],
   "source": [
    "top_models_df= pd.read_csv(\"/home/campus.stonybrook.edu/pdutta/Github/Postdoc/DNABERT_data_processing/TFBS/top_TFBS_models.tsv\", sep=\"\\t\") "
   ]
  },
  {
   "cell_type": "code",
   "execution_count": 6,
   "id": "2c996e5e-dc04-4410-9587-c945fe9b6aa9",
   "metadata": {},
   "outputs": [
    {
     "data": {
      "text/html": [
       "<div>\n",
       "<style scoped>\n",
       "    .dataframe tbody tr th:only-of-type {\n",
       "        vertical-align: middle;\n",
       "    }\n",
       "\n",
       "    .dataframe tbody tr th {\n",
       "        vertical-align: top;\n",
       "    }\n",
       "\n",
       "    .dataframe thead th {\n",
       "        text-align: right;\n",
       "    }\n",
       "</style>\n",
       "<table border=\"1\" class=\"dataframe\">\n",
       "  <thead>\n",
       "    <tr style=\"text-align: right;\">\n",
       "      <th></th>\n",
       "      <th>tags</th>\n",
       "      <th>config</th>\n",
       "      <th>eval_acc</th>\n",
       "    </tr>\n",
       "  </thead>\n",
       "  <tbody>\n",
       "    <tr>\n",
       "      <th>0</th>\n",
       "      <td>RBM14</td>\n",
       "      <td>{'epochs': 10, 'Dropout': 0.1, 'batch_size': 1...</td>\n",
       "      <td>0.968908</td>\n",
       "    </tr>\n",
       "    <tr>\n",
       "      <th>1</th>\n",
       "      <td>SAFB</td>\n",
       "      <td>{'epochs': 10, 'Dropout': 0.1, 'batch_size': 4...</td>\n",
       "      <td>0.968090</td>\n",
       "    </tr>\n",
       "    <tr>\n",
       "      <th>2</th>\n",
       "      <td>TAF15</td>\n",
       "      <td>{'epochs': 10, 'Dropout': 0.1, 'batch_size': 4...</td>\n",
       "      <td>0.959936</td>\n",
       "    </tr>\n",
       "    <tr>\n",
       "      <th>3</th>\n",
       "      <td>SPI1</td>\n",
       "      <td>{'epochs': 10, 'Dropout': 0.1, 'batch_size': 1...</td>\n",
       "      <td>0.957358</td>\n",
       "    </tr>\n",
       "    <tr>\n",
       "      <th>4</th>\n",
       "      <td>USF1</td>\n",
       "      <td>{'epochs': 10, 'Dropout': 0.1, 'batch_size': 4...</td>\n",
       "      <td>0.951848</td>\n",
       "    </tr>\n",
       "    <tr>\n",
       "      <th>...</th>\n",
       "      <td>...</td>\n",
       "      <td>...</td>\n",
       "      <td>...</td>\n",
       "    </tr>\n",
       "    <tr>\n",
       "      <th>134</th>\n",
       "      <td>ESRRA</td>\n",
       "      <td>{'epochs': 10, 'Dropout': 0.1, 'batch_size': 4...</td>\n",
       "      <td>0.851964</td>\n",
       "    </tr>\n",
       "    <tr>\n",
       "      <th>135</th>\n",
       "      <td>ZNF652</td>\n",
       "      <td>{'epochs': 10, 'Dropout': 0.1, 'batch_size': 1...</td>\n",
       "      <td>0.851404</td>\n",
       "    </tr>\n",
       "    <tr>\n",
       "      <th>136</th>\n",
       "      <td>ATF3</td>\n",
       "      <td>{'epochs': 10, 'Dropout': 0.1, 'batch_size': 4...</td>\n",
       "      <td>0.851240</td>\n",
       "    </tr>\n",
       "    <tr>\n",
       "      <th>137</th>\n",
       "      <td>RBM25</td>\n",
       "      <td>{'epochs': 10, 'Dropout': 0.1, 'batch_size': 1...</td>\n",
       "      <td>0.850664</td>\n",
       "    </tr>\n",
       "    <tr>\n",
       "      <th>138</th>\n",
       "      <td>CHD2</td>\n",
       "      <td>{'epochs': 10, 'Dropout': 0.1, 'batch_size': 4...</td>\n",
       "      <td>0.850362</td>\n",
       "    </tr>\n",
       "  </tbody>\n",
       "</table>\n",
       "<p>139 rows × 3 columns</p>\n",
       "</div>"
      ],
      "text/plain": [
       "       tags                                             config  eval_acc\n",
       "0     RBM14  {'epochs': 10, 'Dropout': 0.1, 'batch_size': 1...  0.968908\n",
       "1      SAFB  {'epochs': 10, 'Dropout': 0.1, 'batch_size': 4...  0.968090\n",
       "2     TAF15  {'epochs': 10, 'Dropout': 0.1, 'batch_size': 4...  0.959936\n",
       "3      SPI1  {'epochs': 10, 'Dropout': 0.1, 'batch_size': 1...  0.957358\n",
       "4      USF1  {'epochs': 10, 'Dropout': 0.1, 'batch_size': 4...  0.951848\n",
       "..      ...                                                ...       ...\n",
       "134   ESRRA  {'epochs': 10, 'Dropout': 0.1, 'batch_size': 4...  0.851964\n",
       "135  ZNF652  {'epochs': 10, 'Dropout': 0.1, 'batch_size': 1...  0.851404\n",
       "136    ATF3  {'epochs': 10, 'Dropout': 0.1, 'batch_size': 4...  0.851240\n",
       "137   RBM25  {'epochs': 10, 'Dropout': 0.1, 'batch_size': 1...  0.850664\n",
       "138    CHD2  {'epochs': 10, 'Dropout': 0.1, 'batch_size': 4...  0.850362\n",
       "\n",
       "[139 rows x 3 columns]"
      ]
     },
     "execution_count": 6,
     "metadata": {},
     "output_type": "execute_result"
    }
   ],
   "source": [
    "top_models_df"
   ]
  },
  {
   "cell_type": "code",
   "execution_count": 7,
   "id": "e3773765-27d6-4ea3-8e5b-1bb6da72b868",
   "metadata": {},
   "outputs": [],
   "source": [
    "cancer_type=\"Brain\" "
   ]
  },
  {
   "cell_type": "code",
   "execution_count": 22,
   "id": "71cddba6-4e00-4239-b5f3-281eec9a7a68",
   "metadata": {},
   "outputs": [],
   "source": [
    "vcf_folder_path=\"/data/projects/GDC_Cancer_Wise/New_data/{}/Downloaded_files/VCF\".format(cancer_type)\n",
    "reference_genome_path=\"/data/projects/Resources/Gencode_genome_annotation/GRCh38.primary_assembly.genome.fa\"\n",
    "chip_seq_base_path= \"/data/projects/DNABERT_snv/Manuscript_11_2023/TFBS_fine_tune_data/Data_Jan_2024/1_1_pos_neg\"\n",
    "output_base_path = \"/data/projects/GDC_Cancer_Wise/New_data/{}/Generated_files/Intersected_Data/TFBS\".format(cancer_type)"
   ]
  },
  {
   "cell_type": "code",
   "execution_count": 15,
   "id": "bf47c24b-10e3-4092-a5bf-749117968f90",
   "metadata": {},
   "outputs": [],
   "source": [
    "reference_fasta = pysam.FastaFile(reference_genome_path)"
   ]
  },
  {
   "cell_type": "code",
   "execution_count": 16,
   "id": "94405472-ed19-457e-9ac2-999666258188",
   "metadata": {},
   "outputs": [],
   "source": [
    "def get_vcf_gz_files_except_logs(root_folder):\n",
    "    all_files = []\n",
    "\n",
    "    # Walk through the directory tree\n",
    "    for dirpath, dirnames, filenames in os.walk(root_folder):\n",
    "        # If \"logs\" is in dirnames, remove it to avoid traversing it\n",
    "        if 'logs' in dirnames:\n",
    "            dirnames.remove('logs')\n",
    "\n",
    "        # Add only the filenames with the extension .vcf.gz in the current directory to the all_files list\n",
    "        for filename in filenames:\n",
    "            if filename.endswith('.vcf.gz'):\n",
    "                all_files.append(os.path.join(dirpath, filename))\n",
    "    return all_files"
   ]
  },
  {
   "cell_type": "code",
   "execution_count": null,
   "id": "09a9314f-89e5-4261-ac08-5fb4d9a09409",
   "metadata": {},
   "outputs": [],
   "source": [
    "def reindex_vcf(vcf_path):\n",
    "    try:\n",
    "        subprocess.run(['tabix', '-p', 'vcf', vcf_path], check=True)\n",
    "        print(f\"Re-indexed successfully: {vcf_path}\")\n",
    "    except subprocess.CalledProcessError as e:\n",
    "        print(f\"Failed to re-index {vcf_path}: {e}\")"
   ]
  },
  {
   "cell_type": "code",
   "execution_count": 17,
   "id": "7c17fdf7-af84-451d-9183-44dca830149f",
   "metadata": {},
   "outputs": [],
   "source": [
    "def vcf_to_dataframe(vcf_path):\n",
    "    \"\"\"\n",
    "    Convert a .vcf.gz file into a pandas DataFrame.\n",
    "\n",
    "    Parameters:\n",
    "    - vcf_path (str): path to the .vcf.gz file\n",
    "\n",
    "    Returns:\n",
    "    - pd.DataFrame: VCF data as a DataFrame\n",
    "    \"\"\"\n",
    "\n",
    "    try:\n",
    "        # Open the VCF file\n",
    "        vcf_file = pysam.VariantFile(vcf_path)\n",
    "    except ValueError as e:\n",
    "        print(f\"Failed to open file {vcf_path}: {e}\")\n",
    "        with open(\"/data/projects/GDC_Cancer_Wise/Brain/Data/\"+vcf_path.split(\"/\")[-2]+\"_error_log.txt\", \"a\") as error_log:\n",
    "            error_log.write(f\"{vcf_path}\\n\")\n",
    "        return None\n",
    "\n",
    "    # Extracting the data and the columns\n",
    "    data = []\n",
    "    \n",
    "    columns =  [\"CHROM\", \"START_POS\", \"ID\", \"REF\", \"ALT\", \"QUAL\", \"FILTER\"] + list(vcf_file.header.info.keys()) \n",
    "    for record in vcf_file:\n",
    "        basic_data = [record.chrom, record.pos, record.id, record.ref, \n",
    "                      ','.join(str(alt) for alt in record.alts), record.qual, record.filter.keys()[0] if record.filter.keys() else 'PASS']\n",
    "        row_data = [record.info.get(key) for key in vcf_file.header.info.keys()]\n",
    "        data.append(basic_data + row_data)\n",
    "\n",
    "    df = pd.DataFrame(data, columns=columns)\n",
    "    df[\"START_POS\"] = df[\"START_POS\"]-1\n",
    "    end = df[\"START_POS\"] + df['REF'].str.len()\n",
    "    df.insert(2, 'END_POS', end)\n",
    "\n",
    "    # Close the VCF file\n",
    "    vcf_file.close()\n",
    "\n",
    "    return df"
   ]
  },
  {
   "cell_type": "code",
   "execution_count": 19,
   "id": "047b14ae-4b79-4cff-92f4-e74467f16c94",
   "metadata": {},
   "outputs": [
    {
     "data": {
      "text/plain": [
       "432"
      ]
     },
     "execution_count": 19,
     "metadata": {},
     "output_type": "execute_result"
    }
   ],
   "source": [
    "files = get_vcf_gz_files_except_logs(vcf_folder_path)\n",
    "len(files)"
   ]
  },
  {
   "cell_type": "code",
   "execution_count": null,
   "id": "425ca705-42ca-4cda-a69a-38888851e3b8",
   "metadata": {},
   "outputs": [
    {
     "name": "stdout",
     "output_type": "stream",
     "text": [
      "/data/projects/DNABERT_snv/Manuscript_11_2023/TFBS_fine_tune_data/Data_Jan_2024/1_1_pos_neg/RBM14/100bp.bed\n",
      "['54d621a5-8e45-4bbc-92c4-1c7f36212361', 'wgs', 'CaVEMan', 'raw_somatic_mutation', 'vcf', 'gz']\n"
     ]
    },
    {
     "name": "stderr",
     "output_type": "stream",
     "text": [
      "[W::hts_idx_load3] The index file is older than the data file: /data/projects/GDC_Cancer_Wise/New_data/Brain/Downloaded_files/VCF/8172b6a9-18a5-4cab-aeb6-325ca6fabe2d/54d621a5-8e45-4bbc-92c4-1c7f36212361.wgs.CaVEMan.raw_somatic_mutation.vcf.gz.tbi\n"
     ]
    },
    {
     "name": "stdout",
     "output_type": "stream",
     "text": [
      "54d621a5-8e45-4bbc-92c4-1c7f36212361 CaVEMan 46676 20 18 ['CHROM', 'START_POS', 'END_POS', 'ID', 'REF', 'ALT', 'QUAL', 'FILTER', 'ASMD', 'ASRD', 'CLPM', 'DP', 'DS', 'GP', 'MP', 'SG', 'SNP', 'SP', 'TG', 'TP']\n",
      "['f701f323-9730-49f0-bbba-37a2f7566282', 'wgs', 'sanger_raw_pindel', 'raw_somatic_mutation', 'vcf', 'gz']\n",
      "f701f323-9730-49f0-bbba-37a2f7566282 sanger_raw_pindel 894422 17 129 ['CHROM', 'START_POS', 'END_POS', 'ID', 'REF', 'ALT', 'QUAL', 'FILTER', 'FF017', 'LEN', 'OLD_VARIANT', 'PC', 'RE', 'REP', 'RS', 'S1', 'S2']\n",
      "['97121631-b6cd-4f6f-9dfb-1c3a668150e2', 'wgs', 'sanger_raw_pindel', 'raw_somatic_mutation', 'vcf', 'gz']\n"
     ]
    },
    {
     "name": "stderr",
     "output_type": "stream",
     "text": [
      "[W::hts_idx_load3] The index file is older than the data file: /data/projects/GDC_Cancer_Wise/New_data/Brain/Downloaded_files/VCF/ae07ed66-ef03-4461-ae82-0b04b9e44d03/97121631-b6cd-4f6f-9dfb-1c3a668150e2.wgs.sanger_raw_pindel.raw_somatic_mutation.vcf.gz.tbi\n"
     ]
    },
    {
     "name": "stdout",
     "output_type": "stream",
     "text": [
      "97121631-b6cd-4f6f-9dfb-1c3a668150e2 sanger_raw_pindel 820836 17 116 ['CHROM', 'START_POS', 'END_POS', 'ID', 'REF', 'ALT', 'QUAL', 'FILTER', 'FF017', 'LEN', 'OLD_VARIANT', 'PC', 'RE', 'REP', 'RS', 'S1', 'S2']\n",
      "['d6cb373e-d9bc-43a1-8edc-2199b38b95f7', 'wgs', 'sanger_raw_pindel', 'raw_somatic_mutation', 'vcf', 'gz']\n",
      "d6cb373e-d9bc-43a1-8edc-2199b38b95f7 sanger_raw_pindel 880376 17 117 ['CHROM', 'START_POS', 'END_POS', 'ID', 'REF', 'ALT', 'QUAL', 'FILTER', 'FF017', 'LEN', 'OLD_VARIANT', 'PC', 'RE', 'REP', 'RS', 'S1', 'S2']\n",
      "['ca52ea0e-5021-463b-8821-5e7c765812ff', 'wgs', 'CaVEMan', 'raw_somatic_mutation', 'vcf', 'gz']\n"
     ]
    },
    {
     "name": "stderr",
     "output_type": "stream",
     "text": [
      "[W::hts_idx_load3] The index file is older than the data file: /data/projects/GDC_Cancer_Wise/New_data/Brain/Downloaded_files/VCF/455e52a5-aa2d-4449-8d3b-2f7a968d5643/ca52ea0e-5021-463b-8821-5e7c765812ff.wgs.CaVEMan.raw_somatic_mutation.vcf.gz.tbi\n"
     ]
    },
    {
     "name": "stdout",
     "output_type": "stream",
     "text": [
      "ca52ea0e-5021-463b-8821-5e7c765812ff CaVEMan 224841 20 63 ['CHROM', 'START_POS', 'END_POS', 'ID', 'REF', 'ALT', 'QUAL', 'FILTER', 'ASMD', 'ASRD', 'CLPM', 'DP', 'DS', 'GP', 'MP', 'SG', 'SNP', 'SP', 'TG', 'TP']\n",
      "['f9554b80-de24-4930-b651-7b2ae3b4ba8c', 'wgs', 'sanger_raw_pindel', 'raw_somatic_mutation', 'vcf', 'gz']\n",
      "f9554b80-de24-4930-b651-7b2ae3b4ba8c sanger_raw_pindel 855424 17 123 ['CHROM', 'START_POS', 'END_POS', 'ID', 'REF', 'ALT', 'QUAL', 'FILTER', 'FF017', 'LEN', 'OLD_VARIANT', 'PC', 'RE', 'REP', 'RS', 'S1', 'S2']\n",
      "['db856976-cd46-494d-bdc8-b4f3608cf10d', 'wgs', 'sanger_raw_pindel', 'raw_somatic_mutation', 'vcf', 'gz']\n",
      "db856976-cd46-494d-bdc8-b4f3608cf10d sanger_raw_pindel 1113475 17 140 ['CHROM', 'START_POS', 'END_POS', 'ID', 'REF', 'ALT', 'QUAL', 'FILTER', 'FF017', 'LEN', 'OLD_VARIANT', 'PC', 'RE', 'REP', 'RS', 'S1', 'S2']\n",
      "['9e35e7c1-b8e9-441b-9520-3195359f8e43', 'wgs', 'CaVEMan', 'raw_somatic_mutation', 'vcf', 'gz']\n",
      "9e35e7c1-b8e9-441b-9520-3195359f8e43 CaVEMan 57949 20 23 ['CHROM', 'START_POS', 'END_POS', 'ID', 'REF', 'ALT', 'QUAL', 'FILTER', 'ASMD', 'ASRD', 'CLPM', 'DP', 'DS', 'GP', 'MP', 'SG', 'SNP', 'SP', 'TG', 'TP']\n",
      "['3f11b5e7-dc63-4116-a60c-1b8c9e5f6cd2', 'wgs', 'sanger_raw_pindel', 'raw_somatic_mutation', 'vcf', 'gz']\n"
     ]
    },
    {
     "name": "stderr",
     "output_type": "stream",
     "text": [
      "[W::hts_idx_load3] The index file is older than the data file: /data/projects/GDC_Cancer_Wise/New_data/Brain/Downloaded_files/VCF/4ba666cb-c79f-43a0-a993-ffa0cd33424b/3f11b5e7-dc63-4116-a60c-1b8c9e5f6cd2.wgs.sanger_raw_pindel.raw_somatic_mutation.vcf.gz.tbi\n"
     ]
    },
    {
     "name": "stdout",
     "output_type": "stream",
     "text": [
      "3f11b5e7-dc63-4116-a60c-1b8c9e5f6cd2 sanger_raw_pindel 1117765 17 134 ['CHROM', 'START_POS', 'END_POS', 'ID', 'REF', 'ALT', 'QUAL', 'FILTER', 'FF017', 'LEN', 'OLD_VARIANT', 'PC', 'RE', 'REP', 'RS', 'S1', 'S2']\n",
      "['b78b66b2-2983-4965-99ff-8a7e45a07d8f', 'wgs', 'CaVEMan', 'raw_somatic_mutation', 'vcf', 'gz']\n"
     ]
    },
    {
     "name": "stderr",
     "output_type": "stream",
     "text": [
      "[W::hts_idx_load3] The index file is older than the data file: /data/projects/GDC_Cancer_Wise/New_data/Brain/Downloaded_files/VCF/431aeec2-b30d-4d3e-a556-ef09f69cfd68/b78b66b2-2983-4965-99ff-8a7e45a07d8f.wgs.CaVEMan.raw_somatic_mutation.vcf.gz.tbi\n"
     ]
    },
    {
     "name": "stdout",
     "output_type": "stream",
     "text": [
      "b78b66b2-2983-4965-99ff-8a7e45a07d8f CaVEMan 263074 20 77 ['CHROM', 'START_POS', 'END_POS', 'ID', 'REF', 'ALT', 'QUAL', 'FILTER', 'ASMD', 'ASRD', 'CLPM', 'DP', 'DS', 'GP', 'MP', 'SG', 'SNP', 'SP', 'TG', 'TP']\n",
      "['cfecd6d7-930a-40f1-8161-f2b4a37dc9fb', 'wgs', 'sanger_raw_pindel', 'raw_somatic_mutation', 'vcf', 'gz']\n",
      "cfecd6d7-930a-40f1-8161-f2b4a37dc9fb sanger_raw_pindel 869744 17 138 ['CHROM', 'START_POS', 'END_POS', 'ID', 'REF', 'ALT', 'QUAL', 'FILTER', 'FF017', 'LEN', 'OLD_VARIANT', 'PC', 'RE', 'REP', 'RS', 'S1', 'S2']\n",
      "['6e784527-f65d-48bc-9eb8-5f14230bb909', 'wgs', 'CaVEMan', 'raw_somatic_mutation', 'vcf', 'gz']\n",
      "6e784527-f65d-48bc-9eb8-5f14230bb909 CaVEMan 39978 20 7 ['CHROM', 'START_POS', 'END_POS', 'ID', 'REF', 'ALT', 'QUAL', 'FILTER', 'ASMD', 'ASRD', 'CLPM', 'DP', 'DS', 'GP', 'MP', 'SG', 'SNP', 'SP', 'TG', 'TP']\n",
      "['03c1c33e-c4a8-4c31-8a29-0d8b3e7bda83', 'wgs', 'sanger_raw_pindel', 'raw_somatic_mutation', 'vcf', 'gz']\n"
     ]
    },
    {
     "name": "stderr",
     "output_type": "stream",
     "text": [
      "[W::hts_idx_load3] The index file is older than the data file: /data/projects/GDC_Cancer_Wise/New_data/Brain/Downloaded_files/VCF/cf866485-f87d-4974-bbf1-f306f8dd96ae/03c1c33e-c4a8-4c31-8a29-0d8b3e7bda83.wgs.sanger_raw_pindel.raw_somatic_mutation.vcf.gz.tbi\n"
     ]
    },
    {
     "name": "stdout",
     "output_type": "stream",
     "text": [
      "03c1c33e-c4a8-4c31-8a29-0d8b3e7bda83 sanger_raw_pindel 904035 17 131 ['CHROM', 'START_POS', 'END_POS', 'ID', 'REF', 'ALT', 'QUAL', 'FILTER', 'FF017', 'LEN', 'OLD_VARIANT', 'PC', 'RE', 'REP', 'RS', 'S1', 'S2']\n",
      "['d9410fc4-1d9e-4fc0-bf39-5188714586e4', 'wgs', 'sanger_raw_pindel', 'raw_somatic_mutation', 'vcf', 'gz']\n",
      "d9410fc4-1d9e-4fc0-bf39-5188714586e4 sanger_raw_pindel 1129296 17 142 ['CHROM', 'START_POS', 'END_POS', 'ID', 'REF', 'ALT', 'QUAL', 'FILTER', 'FF017', 'LEN', 'OLD_VARIANT', 'PC', 'RE', 'REP', 'RS', 'S1', 'S2']\n",
      "['02eb77ff-2e07-4d56-9c32-d9fa415c7ce2', 'wgs', 'CaVEMan', 'raw_somatic_mutation', 'vcf', 'gz']\n",
      "02eb77ff-2e07-4d56-9c32-d9fa415c7ce2 CaVEMan 51672 20 10 ['CHROM', 'START_POS', 'END_POS', 'ID', 'REF', 'ALT', 'QUAL', 'FILTER', 'ASMD', 'ASRD', 'CLPM', 'DP', 'DS', 'GP', 'MP', 'SG', 'SNP', 'SP', 'TG', 'TP']\n",
      "['b5d89740-5891-4229-b002-9ccb43ddb270', 'wgs', 'CaVEMan', 'raw_somatic_mutation', 'vcf', 'gz']\n"
     ]
    },
    {
     "name": "stderr",
     "output_type": "stream",
     "text": [
      "[W::hts_idx_load3] The index file is older than the data file: /data/projects/GDC_Cancer_Wise/New_data/Brain/Downloaded_files/VCF/f6f4ec10-020b-4159-bac2-05ce1e8b7b16/b5d89740-5891-4229-b002-9ccb43ddb270.wgs.CaVEMan.raw_somatic_mutation.vcf.gz.tbi\n"
     ]
    },
    {
     "name": "stdout",
     "output_type": "stream",
     "text": [
      "b5d89740-5891-4229-b002-9ccb43ddb270 CaVEMan 45928 20 15 ['CHROM', 'START_POS', 'END_POS', 'ID', 'REF', 'ALT', 'QUAL', 'FILTER', 'ASMD', 'ASRD', 'CLPM', 'DP', 'DS', 'GP', 'MP', 'SG', 'SNP', 'SP', 'TG', 'TP']\n",
      "['8bac8b71-abb7-4ecc-9b61-7112fed7da15', 'wgs', 'sanger_raw_pindel', 'raw_somatic_mutation', 'vcf', 'gz']\n"
     ]
    },
    {
     "name": "stderr",
     "output_type": "stream",
     "text": [
      "[W::hts_idx_load3] The index file is older than the data file: /data/projects/GDC_Cancer_Wise/New_data/Brain/Downloaded_files/VCF/00225fa8-eb0d-4951-824b-66e0c9cea3e5/8bac8b71-abb7-4ecc-9b61-7112fed7da15.wgs.sanger_raw_pindel.raw_somatic_mutation.vcf.gz.tbi\n"
     ]
    },
    {
     "name": "stdout",
     "output_type": "stream",
     "text": [
      "8bac8b71-abb7-4ecc-9b61-7112fed7da15 sanger_raw_pindel 881086 17 127 ['CHROM', 'START_POS', 'END_POS', 'ID', 'REF', 'ALT', 'QUAL', 'FILTER', 'FF017', 'LEN', 'OLD_VARIANT', 'PC', 'RE', 'REP', 'RS', 'S1', 'S2']\n",
      "['9935a376-e6a7-461b-a479-4f312f0601eb', 'wgs', 'sanger_raw_pindel', 'raw_somatic_mutation', 'vcf', 'gz']\n",
      "9935a376-e6a7-461b-a479-4f312f0601eb sanger_raw_pindel 857845 17 122 ['CHROM', 'START_POS', 'END_POS', 'ID', 'REF', 'ALT', 'QUAL', 'FILTER', 'FF017', 'LEN', 'OLD_VARIANT', 'PC', 'RE', 'REP', 'RS', 'S1', 'S2']\n",
      "['4193ad47-7cab-48fe-9466-aec494172f72', 'wgs', 'sanger_raw_pindel', 'raw_somatic_mutation', 'vcf', 'gz']\n"
     ]
    },
    {
     "name": "stderr",
     "output_type": "stream",
     "text": [
      "[W::hts_idx_load3] The index file is older than the data file: /data/projects/GDC_Cancer_Wise/New_data/Brain/Downloaded_files/VCF/72ebf32b-548e-4651-a23a-575174ef5556/4193ad47-7cab-48fe-9466-aec494172f72.wgs.sanger_raw_pindel.raw_somatic_mutation.vcf.gz.tbi\n"
     ]
    },
    {
     "name": "stdout",
     "output_type": "stream",
     "text": [
      "4193ad47-7cab-48fe-9466-aec494172f72 sanger_raw_pindel 845728 17 123 ['CHROM', 'START_POS', 'END_POS', 'ID', 'REF', 'ALT', 'QUAL', 'FILTER', 'FF017', 'LEN', 'OLD_VARIANT', 'PC', 'RE', 'REP', 'RS', 'S1', 'S2']\n",
      "['bce00d1a-9598-4fef-8e21-da2c5290d906', 'wgs', 'CaVEMan', 'raw_somatic_mutation', 'vcf', 'gz']\n"
     ]
    },
    {
     "name": "stderr",
     "output_type": "stream",
     "text": [
      "[W::hts_idx_load3] The index file is older than the data file: /data/projects/GDC_Cancer_Wise/New_data/Brain/Downloaded_files/VCF/1193ba98-8ea2-467f-abf3-075ec0fe4316/bce00d1a-9598-4fef-8e21-da2c5290d906.wgs.CaVEMan.raw_somatic_mutation.vcf.gz.tbi\n"
     ]
    },
    {
     "name": "stdout",
     "output_type": "stream",
     "text": [
      "bce00d1a-9598-4fef-8e21-da2c5290d906 CaVEMan 48961 20 17 ['CHROM', 'START_POS', 'END_POS', 'ID', 'REF', 'ALT', 'QUAL', 'FILTER', 'ASMD', 'ASRD', 'CLPM', 'DP', 'DS', 'GP', 'MP', 'SG', 'SNP', 'SP', 'TG', 'TP']\n",
      "['4e285b95-27ba-49b9-980a-6dbfc09a62c0', 'wgs', 'sanger_raw_pindel', 'raw_somatic_mutation', 'vcf', 'gz']\n"
     ]
    },
    {
     "name": "stderr",
     "output_type": "stream",
     "text": [
      "[W::hts_idx_load3] The index file is older than the data file: /data/projects/GDC_Cancer_Wise/New_data/Brain/Downloaded_files/VCF/c73d4f36-f97a-48b8-b2b7-cec53c16562c/4e285b95-27ba-49b9-980a-6dbfc09a62c0.wgs.sanger_raw_pindel.raw_somatic_mutation.vcf.gz.tbi\n"
     ]
    },
    {
     "name": "stdout",
     "output_type": "stream",
     "text": [
      "4e285b95-27ba-49b9-980a-6dbfc09a62c0 sanger_raw_pindel 865869 17 126 ['CHROM', 'START_POS', 'END_POS', 'ID', 'REF', 'ALT', 'QUAL', 'FILTER', 'FF017', 'LEN', 'OLD_VARIANT', 'PC', 'RE', 'REP', 'RS', 'S1', 'S2']\n",
      "['4b8b2d4f-7d98-47d1-a4d2-34dfa17b9c68', 'wgs', 'sanger_raw_pindel', 'raw_somatic_mutation', 'vcf', 'gz']\n",
      "4b8b2d4f-7d98-47d1-a4d2-34dfa17b9c68 sanger_raw_pindel 882470 17 119 ['CHROM', 'START_POS', 'END_POS', 'ID', 'REF', 'ALT', 'QUAL', 'FILTER', 'FF017', 'LEN', 'OLD_VARIANT', 'PC', 'RE', 'REP', 'RS', 'S1', 'S2']\n",
      "['c844a8f1-9588-4e70-a89c-12014aeef8a7', 'wgs', 'sanger_raw_pindel', 'raw_somatic_mutation', 'vcf', 'gz']\n",
      "c844a8f1-9588-4e70-a89c-12014aeef8a7 sanger_raw_pindel 1111847 17 139 ['CHROM', 'START_POS', 'END_POS', 'ID', 'REF', 'ALT', 'QUAL', 'FILTER', 'FF017', 'LEN', 'OLD_VARIANT', 'PC', 'RE', 'REP', 'RS', 'S1', 'S2']\n",
      "['9a81060d-2b6d-4a97-a131-a5cf6c4c3ee4', 'wgs', 'CaVEMan', 'raw_somatic_mutation', 'vcf', 'gz']\n",
      "9a81060d-2b6d-4a97-a131-a5cf6c4c3ee4 CaVEMan 54711 20 9 ['CHROM', 'START_POS', 'END_POS', 'ID', 'REF', 'ALT', 'QUAL', 'FILTER', 'ASMD', 'ASRD', 'CLPM', 'DP', 'DS', 'GP', 'MP', 'SG', 'SNP', 'SP', 'TG', 'TP']\n",
      "['49718673-b69a-4d8b-a00c-b6595aa5848b', 'wgs', 'sanger_raw_pindel', 'raw_somatic_mutation', 'vcf', 'gz']\n"
     ]
    },
    {
     "name": "stderr",
     "output_type": "stream",
     "text": [
      "[W::hts_idx_load3] The index file is older than the data file: /data/projects/GDC_Cancer_Wise/New_data/Brain/Downloaded_files/VCF/bbf2eb2e-f319-49a1-9976-ce30e7a5257c/49718673-b69a-4d8b-a00c-b6595aa5848b.wgs.sanger_raw_pindel.raw_somatic_mutation.vcf.gz.tbi\n"
     ]
    },
    {
     "name": "stdout",
     "output_type": "stream",
     "text": [
      "49718673-b69a-4d8b-a00c-b6595aa5848b sanger_raw_pindel 888666 17 123 ['CHROM', 'START_POS', 'END_POS', 'ID', 'REF', 'ALT', 'QUAL', 'FILTER', 'FF017', 'LEN', 'OLD_VARIANT', 'PC', 'RE', 'REP', 'RS', 'S1', 'S2']\n",
      "['09fc667c-0462-49c1-8ab6-a0ce2a80b3c9', 'wgs', 'CaVEMan', 'raw_somatic_mutation', 'vcf', 'gz']\n",
      "09fc667c-0462-49c1-8ab6-a0ce2a80b3c9 CaVEMan 54595 20 13 ['CHROM', 'START_POS', 'END_POS', 'ID', 'REF', 'ALT', 'QUAL', 'FILTER', 'ASMD', 'ASRD', 'CLPM', 'DP', 'DS', 'GP', 'MP', 'SG', 'SNP', 'SP', 'TG', 'TP']\n",
      "['ce08aa4a-de2d-44f3-88ed-84313aa294af', 'wgs', 'CaVEMan', 'raw_somatic_mutation', 'vcf', 'gz']\n",
      "ce08aa4a-de2d-44f3-88ed-84313aa294af CaVEMan 266335 20 59 ['CHROM', 'START_POS', 'END_POS', 'ID', 'REF', 'ALT', 'QUAL', 'FILTER', 'ASMD', 'ASRD', 'CLPM', 'DP', 'DS', 'GP', 'MP', 'SG', 'SNP', 'SP', 'TG', 'TP']\n",
      "['f9554b80-de24-4930-b651-7b2ae3b4ba8c', 'wgs', 'CaVEMan', 'raw_somatic_mutation', 'vcf', 'gz']\n"
     ]
    },
    {
     "name": "stderr",
     "output_type": "stream",
     "text": [
      "[W::hts_idx_load3] The index file is older than the data file: /data/projects/GDC_Cancer_Wise/New_data/Brain/Downloaded_files/VCF/04eab423-ba54-40c8-a620-bcf406fec0b3/f9554b80-de24-4930-b651-7b2ae3b4ba8c.wgs.CaVEMan.raw_somatic_mutation.vcf.gz.tbi\n"
     ]
    },
    {
     "name": "stdout",
     "output_type": "stream",
     "text": [
      "f9554b80-de24-4930-b651-7b2ae3b4ba8c CaVEMan 56998 20 20 ['CHROM', 'START_POS', 'END_POS', 'ID', 'REF', 'ALT', 'QUAL', 'FILTER', 'ASMD', 'ASRD', 'CLPM', 'DP', 'DS', 'GP', 'MP', 'SG', 'SNP', 'SP', 'TG', 'TP']\n",
      "['033db366-1af1-4bd9-8339-c54800b1de57', 'wgs', 'CaVEMan', 'raw_somatic_mutation', 'vcf', 'gz']\n"
     ]
    },
    {
     "name": "stderr",
     "output_type": "stream",
     "text": [
      "[W::hts_idx_load3] The index file is older than the data file: /data/projects/GDC_Cancer_Wise/New_data/Brain/Downloaded_files/VCF/743dba02-59fa-4bad-b47f-61056f663945/033db366-1af1-4bd9-8339-c54800b1de57.wgs.CaVEMan.raw_somatic_mutation.vcf.gz.tbi\n"
     ]
    },
    {
     "name": "stdout",
     "output_type": "stream",
     "text": [
      "033db366-1af1-4bd9-8339-c54800b1de57 CaVEMan 54384 20 11 ['CHROM', 'START_POS', 'END_POS', 'ID', 'REF', 'ALT', 'QUAL', 'FILTER', 'ASMD', 'ASRD', 'CLPM', 'DP', 'DS', 'GP', 'MP', 'SG', 'SNP', 'SP', 'TG', 'TP']\n",
      "['4eb5be8a-421e-4f46-bbdb-c8688f140f48', 'wgs', 'CaVEMan', 'raw_somatic_mutation', 'vcf', 'gz']\n",
      "4eb5be8a-421e-4f46-bbdb-c8688f140f48 CaVEMan 48907 20 10 ['CHROM', 'START_POS', 'END_POS', 'ID', 'REF', 'ALT', 'QUAL', 'FILTER', 'ASMD', 'ASRD', 'CLPM', 'DP', 'DS', 'GP', 'MP', 'SG', 'SNP', 'SP', 'TG', 'TP']\n",
      "['e420f20d-792a-4ea1-92cf-995cbcbc91b7', 'wgs', 'sanger_raw_pindel', 'raw_somatic_mutation', 'vcf', 'gz']\n",
      "e420f20d-792a-4ea1-92cf-995cbcbc91b7 sanger_raw_pindel 911314 17 135 ['CHROM', 'START_POS', 'END_POS', 'ID', 'REF', 'ALT', 'QUAL', 'FILTER', 'FF017', 'LEN', 'OLD_VARIANT', 'PC', 'RE', 'REP', 'RS', 'S1', 'S2']\n",
      "['ef6c3ecc-0bb6-4035-9c45-57740f5bcaa1', 'wgs', 'sanger_raw_pindel', 'raw_somatic_mutation', 'vcf', 'gz']\n",
      "ef6c3ecc-0bb6-4035-9c45-57740f5bcaa1 sanger_raw_pindel 1249059 17 146 ['CHROM', 'START_POS', 'END_POS', 'ID', 'REF', 'ALT', 'QUAL', 'FILTER', 'FF017', 'LEN', 'OLD_VARIANT', 'PC', 'RE', 'REP', 'RS', 'S1', 'S2']\n",
      "['a732538e-135a-43dc-a88b-b122a1a36749', 'wgs', 'sanger_raw_pindel', 'raw_somatic_mutation', 'vcf', 'gz']\n"
     ]
    },
    {
     "name": "stderr",
     "output_type": "stream",
     "text": [
      "[W::hts_idx_load3] The index file is older than the data file: /data/projects/GDC_Cancer_Wise/New_data/Brain/Downloaded_files/VCF/09992cd8-9c61-4531-a273-06683bc74f70/a732538e-135a-43dc-a88b-b122a1a36749.wgs.sanger_raw_pindel.raw_somatic_mutation.vcf.gz.tbi\n"
     ]
    },
    {
     "name": "stdout",
     "output_type": "stream",
     "text": [
      "a732538e-135a-43dc-a88b-b122a1a36749 sanger_raw_pindel 887311 17 129 ['CHROM', 'START_POS', 'END_POS', 'ID', 'REF', 'ALT', 'QUAL', 'FILTER', 'FF017', 'LEN', 'OLD_VARIANT', 'PC', 'RE', 'REP', 'RS', 'S1', 'S2']\n",
      "['798dfed8-b716-4958-88cf-e32a5294c4bc', 'wgs', 'sanger_raw_pindel', 'raw_somatic_mutation', 'vcf', 'gz']\n"
     ]
    },
    {
     "name": "stderr",
     "output_type": "stream",
     "text": [
      "[W::hts_idx_load3] The index file is older than the data file: /data/projects/GDC_Cancer_Wise/New_data/Brain/Downloaded_files/VCF/47f15f62-51c3-4505-969d-1b0348f073c7/798dfed8-b716-4958-88cf-e32a5294c4bc.wgs.sanger_raw_pindel.raw_somatic_mutation.vcf.gz.tbi\n"
     ]
    },
    {
     "name": "stdout",
     "output_type": "stream",
     "text": [
      "798dfed8-b716-4958-88cf-e32a5294c4bc sanger_raw_pindel 836977 17 129 ['CHROM', 'START_POS', 'END_POS', 'ID', 'REF', 'ALT', 'QUAL', 'FILTER', 'FF017', 'LEN', 'OLD_VARIANT', 'PC', 'RE', 'REP', 'RS', 'S1', 'S2']\n",
      "['96a823e7-9a5c-4a58-a424-a051cf4f4b29', 'wgs', 'CaVEMan', 'raw_somatic_mutation', 'vcf', 'gz']\n",
      "96a823e7-9a5c-4a58-a424-a051cf4f4b29 CaVEMan 43496 20 13 ['CHROM', 'START_POS', 'END_POS', 'ID', 'REF', 'ALT', 'QUAL', 'FILTER', 'ASMD', 'ASRD', 'CLPM', 'DP', 'DS', 'GP', 'MP', 'SG', 'SNP', 'SP', 'TG', 'TP']\n",
      "['4e8fe8a4-1788-4501-b0e0-d57b86f56e23', 'wgs', 'CaVEMan', 'raw_somatic_mutation', 'vcf', 'gz']\n"
     ]
    },
    {
     "name": "stderr",
     "output_type": "stream",
     "text": [
      "[W::hts_idx_load3] The index file is older than the data file: /data/projects/GDC_Cancer_Wise/New_data/Brain/Downloaded_files/VCF/52b77d42-f948-4442-ba1c-ac8bf69f8173/4e8fe8a4-1788-4501-b0e0-d57b86f56e23.wgs.CaVEMan.raw_somatic_mutation.vcf.gz.tbi\n"
     ]
    },
    {
     "name": "stdout",
     "output_type": "stream",
     "text": [
      "4e8fe8a4-1788-4501-b0e0-d57b86f56e23 CaVEMan 49494 20 19 ['CHROM', 'START_POS', 'END_POS', 'ID', 'REF', 'ALT', 'QUAL', 'FILTER', 'ASMD', 'ASRD', 'CLPM', 'DP', 'DS', 'GP', 'MP', 'SG', 'SNP', 'SP', 'TG', 'TP']\n",
      "['2c9bbb8f-4b4d-4c0e-a158-1fb0fb95aca7', 'wgs', 'CaVEMan', 'raw_somatic_mutation', 'vcf', 'gz']\n",
      "2c9bbb8f-4b4d-4c0e-a158-1fb0fb95aca7 CaVEMan 42442 20 13 ['CHROM', 'START_POS', 'END_POS', 'ID', 'REF', 'ALT', 'QUAL', 'FILTER', 'ASMD', 'ASRD', 'CLPM', 'DP', 'DS', 'GP', 'MP', 'SG', 'SNP', 'SP', 'TG', 'TP']\n",
      "['0d112fed-6719-4be9-bd3b-085b7e4ad26f', 'wgs', 'sanger_raw_pindel', 'raw_somatic_mutation', 'vcf', 'gz']\n"
     ]
    },
    {
     "name": "stderr",
     "output_type": "stream",
     "text": [
      "[W::hts_idx_load3] The index file is older than the data file: /data/projects/GDC_Cancer_Wise/New_data/Brain/Downloaded_files/VCF/354691fc-6bb0-442b-aaca-2f69d12cda64/0d112fed-6719-4be9-bd3b-085b7e4ad26f.wgs.sanger_raw_pindel.raw_somatic_mutation.vcf.gz.tbi\n"
     ]
    },
    {
     "name": "stdout",
     "output_type": "stream",
     "text": [
      "0d112fed-6719-4be9-bd3b-085b7e4ad26f sanger_raw_pindel 927265 17 129 ['CHROM', 'START_POS', 'END_POS', 'ID', 'REF', 'ALT', 'QUAL', 'FILTER', 'FF017', 'LEN', 'OLD_VARIANT', 'PC', 'RE', 'REP', 'RS', 'S1', 'S2']\n",
      "['410db725-9a2f-4df3-8ace-6eedd4988cec', 'wgs', 'CaVEMan', 'raw_somatic_mutation', 'vcf', 'gz']\n"
     ]
    },
    {
     "name": "stderr",
     "output_type": "stream",
     "text": [
      "[W::hts_idx_load3] The index file is older than the data file: /data/projects/GDC_Cancer_Wise/New_data/Brain/Downloaded_files/VCF/b0259934-a61d-4a61-9903-cfcca37638ab/410db725-9a2f-4df3-8ace-6eedd4988cec.wgs.CaVEMan.raw_somatic_mutation.vcf.gz.tbi\n"
     ]
    },
    {
     "name": "stdout",
     "output_type": "stream",
     "text": [
      "410db725-9a2f-4df3-8ace-6eedd4988cec CaVEMan 235008 20 61 ['CHROM', 'START_POS', 'END_POS', 'ID', 'REF', 'ALT', 'QUAL', 'FILTER', 'ASMD', 'ASRD', 'CLPM', 'DP', 'DS', 'GP', 'MP', 'SG', 'SNP', 'SP', 'TG', 'TP']\n",
      "['b2a6ca3f-883f-4f40-81e3-b246708169e7', 'wgs', 'CaVEMan', 'raw_somatic_mutation', 'vcf', 'gz']\n",
      "b2a6ca3f-883f-4f40-81e3-b246708169e7 CaVEMan 261552 20 72 ['CHROM', 'START_POS', 'END_POS', 'ID', 'REF', 'ALT', 'QUAL', 'FILTER', 'ASMD', 'ASRD', 'CLPM', 'DP', 'DS', 'GP', 'MP', 'SG', 'SNP', 'SP', 'TG', 'TP']\n",
      "['fdfbb80c-8e66-499a-ac59-f311d6f4b6fa', 'wgs', 'CaVEMan', 'raw_somatic_mutation', 'vcf', 'gz']\n",
      "fdfbb80c-8e66-499a-ac59-f311d6f4b6fa CaVEMan 53480 20 17 ['CHROM', 'START_POS', 'END_POS', 'ID', 'REF', 'ALT', 'QUAL', 'FILTER', 'ASMD', 'ASRD', 'CLPM', 'DP', 'DS', 'GP', 'MP', 'SG', 'SNP', 'SP', 'TG', 'TP']\n",
      "['22653df8-0c37-4f24-8832-95dd239f49b6', 'wgs', 'CaVEMan', 'raw_somatic_mutation', 'vcf', 'gz']\n",
      "22653df8-0c37-4f24-8832-95dd239f49b6 CaVEMan 59005 20 19 ['CHROM', 'START_POS', 'END_POS', 'ID', 'REF', 'ALT', 'QUAL', 'FILTER', 'ASMD', 'ASRD', 'CLPM', 'DP', 'DS', 'GP', 'MP', 'SG', 'SNP', 'SP', 'TG', 'TP']\n",
      "['2a14ea45-6901-488a-af43-1e6287ec8bb0', 'wgs', 'CaVEMan', 'raw_somatic_mutation', 'vcf', 'gz']\n",
      "2a14ea45-6901-488a-af43-1e6287ec8bb0 CaVEMan 58780 20 14 ['CHROM', 'START_POS', 'END_POS', 'ID', 'REF', 'ALT', 'QUAL', 'FILTER', 'ASMD', 'ASRD', 'CLPM', 'DP', 'DS', 'GP', 'MP', 'SG', 'SNP', 'SP', 'TG', 'TP']\n",
      "['a5867fd1-4897-4559-855a-c30002d3c6bb', 'wgs', 'sanger_raw_pindel', 'raw_somatic_mutation', 'vcf', 'gz']\n"
     ]
    },
    {
     "name": "stderr",
     "output_type": "stream",
     "text": [
      "[W::hts_idx_load3] The index file is older than the data file: /data/projects/GDC_Cancer_Wise/New_data/Brain/Downloaded_files/VCF/0c92d81f-9c77-4932-8586-697d3932db20/a5867fd1-4897-4559-855a-c30002d3c6bb.wgs.sanger_raw_pindel.raw_somatic_mutation.vcf.gz.tbi\n"
     ]
    },
    {
     "name": "stdout",
     "output_type": "stream",
     "text": [
      "a5867fd1-4897-4559-855a-c30002d3c6bb sanger_raw_pindel 909853 17 126 ['CHROM', 'START_POS', 'END_POS', 'ID', 'REF', 'ALT', 'QUAL', 'FILTER', 'FF017', 'LEN', 'OLD_VARIANT', 'PC', 'RE', 'REP', 'RS', 'S1', 'S2']\n",
      "['d770cba7-f4ec-437d-833b-b7d8af1cbe34', 'wgs', 'sanger_raw_pindel', 'raw_somatic_mutation', 'vcf', 'gz']\n"
     ]
    },
    {
     "name": "stderr",
     "output_type": "stream",
     "text": [
      "[W::hts_idx_load3] The index file is older than the data file: /data/projects/GDC_Cancer_Wise/New_data/Brain/Downloaded_files/VCF/8f1c77e7-1cde-41fb-a14e-19a5e582ae5f/d770cba7-f4ec-437d-833b-b7d8af1cbe34.wgs.sanger_raw_pindel.raw_somatic_mutation.vcf.gz.tbi\n"
     ]
    },
    {
     "name": "stdout",
     "output_type": "stream",
     "text": [
      "d770cba7-f4ec-437d-833b-b7d8af1cbe34 sanger_raw_pindel 905846 17 129 ['CHROM', 'START_POS', 'END_POS', 'ID', 'REF', 'ALT', 'QUAL', 'FILTER', 'FF017', 'LEN', 'OLD_VARIANT', 'PC', 'RE', 'REP', 'RS', 'S1', 'S2']\n",
      "['3ba39b13-da19-4e9f-be9f-6fb14c581651', 'wgs', 'CaVEMan', 'raw_somatic_mutation', 'vcf', 'gz']\n",
      "3ba39b13-da19-4e9f-be9f-6fb14c581651 CaVEMan 76247 20 18 ['CHROM', 'START_POS', 'END_POS', 'ID', 'REF', 'ALT', 'QUAL', 'FILTER', 'ASMD', 'ASRD', 'CLPM', 'DP', 'DS', 'GP', 'MP', 'SG', 'SNP', 'SP', 'TG', 'TP']\n",
      "['cb50a28d-47d9-4b34-9515-9dfd7a03ac14', 'wgs', 'CaVEMan', 'raw_somatic_mutation', 'vcf', 'gz']\n",
      "cb50a28d-47d9-4b34-9515-9dfd7a03ac14 CaVEMan 52092 20 12 ['CHROM', 'START_POS', 'END_POS', 'ID', 'REF', 'ALT', 'QUAL', 'FILTER', 'ASMD', 'ASRD', 'CLPM', 'DP', 'DS', 'GP', 'MP', 'SG', 'SNP', 'SP', 'TG', 'TP']\n",
      "['67c83385-8497-4c2d-932e-9a3b9bb90ec9', 'wgs', 'sanger_raw_pindel', 'raw_somatic_mutation', 'vcf', 'gz']\n",
      "67c83385-8497-4c2d-932e-9a3b9bb90ec9 sanger_raw_pindel 927751 17 123 ['CHROM', 'START_POS', 'END_POS', 'ID', 'REF', 'ALT', 'QUAL', 'FILTER', 'FF017', 'LEN', 'OLD_VARIANT', 'PC', 'RE', 'REP', 'RS', 'S1', 'S2']\n",
      "['c6b9e176-a36b-4eb2-aa15-6a0155c1aeb5', 'wgs', 'CaVEMan', 'raw_somatic_mutation', 'vcf', 'gz']\n",
      "c6b9e176-a36b-4eb2-aa15-6a0155c1aeb5 CaVEMan 47992 20 7 ['CHROM', 'START_POS', 'END_POS', 'ID', 'REF', 'ALT', 'QUAL', 'FILTER', 'ASMD', 'ASRD', 'CLPM', 'DP', 'DS', 'GP', 'MP', 'SG', 'SNP', 'SP', 'TG', 'TP']\n",
      "['4132ab70-457f-41a9-aae3-340f9fe109e2', 'wgs', 'sanger_raw_pindel', 'raw_somatic_mutation', 'vcf', 'gz']\n",
      "4132ab70-457f-41a9-aae3-340f9fe109e2 sanger_raw_pindel 901384 17 134 ['CHROM', 'START_POS', 'END_POS', 'ID', 'REF', 'ALT', 'QUAL', 'FILTER', 'FF017', 'LEN', 'OLD_VARIANT', 'PC', 'RE', 'REP', 'RS', 'S1', 'S2']\n",
      "['7d9bd465-2e99-4b07-902f-752fa348efb8', 'wgs', 'CaVEMan', 'raw_somatic_mutation', 'vcf', 'gz']\n",
      "7d9bd465-2e99-4b07-902f-752fa348efb8 CaVEMan 203722 20 64 ['CHROM', 'START_POS', 'END_POS', 'ID', 'REF', 'ALT', 'QUAL', 'FILTER', 'ASMD', 'ASRD', 'CLPM', 'DP', 'DS', 'GP', 'MP', 'SG', 'SNP', 'SP', 'TG', 'TP']\n",
      "['9f7f9c66-39bb-48b1-ae8e-91acc8028425', 'wgs', 'sanger_raw_pindel', 'raw_somatic_mutation', 'vcf', 'gz']\n"
     ]
    },
    {
     "name": "stderr",
     "output_type": "stream",
     "text": [
      "[W::hts_idx_load3] The index file is older than the data file: /data/projects/GDC_Cancer_Wise/New_data/Brain/Downloaded_files/VCF/6c5c8e25-f6ba-4ca0-908d-8b879eea3ad5/9f7f9c66-39bb-48b1-ae8e-91acc8028425.wgs.sanger_raw_pindel.raw_somatic_mutation.vcf.gz.tbi\n"
     ]
    },
    {
     "name": "stdout",
     "output_type": "stream",
     "text": [
      "9f7f9c66-39bb-48b1-ae8e-91acc8028425 sanger_raw_pindel 851739 17 127 ['CHROM', 'START_POS', 'END_POS', 'ID', 'REF', 'ALT', 'QUAL', 'FILTER', 'FF017', 'LEN', 'OLD_VARIANT', 'PC', 'RE', 'REP', 'RS', 'S1', 'S2']\n",
      "['4b38150a-2406-4f40-9f81-ee76e30f77b9', 'wgs', 'CaVEMan', 'raw_somatic_mutation', 'vcf', 'gz']\n"
     ]
    },
    {
     "name": "stderr",
     "output_type": "stream",
     "text": [
      "[W::hts_idx_load3] The index file is older than the data file: /data/projects/GDC_Cancer_Wise/New_data/Brain/Downloaded_files/VCF/c1bf1416-0c9a-4bbe-9573-464aaf9fa377/4b38150a-2406-4f40-9f81-ee76e30f77b9.wgs.CaVEMan.raw_somatic_mutation.vcf.gz.tbi\n"
     ]
    },
    {
     "name": "stdout",
     "output_type": "stream",
     "text": [
      "4b38150a-2406-4f40-9f81-ee76e30f77b9 CaVEMan 51701 20 12 ['CHROM', 'START_POS', 'END_POS', 'ID', 'REF', 'ALT', 'QUAL', 'FILTER', 'ASMD', 'ASRD', 'CLPM', 'DP', 'DS', 'GP', 'MP', 'SG', 'SNP', 'SP', 'TG', 'TP']\n",
      "['5c3a5246-abf8-4c2e-95a0-00d969edff44', 'wgs', 'sanger_raw_pindel', 'raw_somatic_mutation', 'vcf', 'gz']\n",
      "5c3a5246-abf8-4c2e-95a0-00d969edff44 sanger_raw_pindel 1206781 17 163 ['CHROM', 'START_POS', 'END_POS', 'ID', 'REF', 'ALT', 'QUAL', 'FILTER', 'FF017', 'LEN', 'OLD_VARIANT', 'PC', 'RE', 'REP', 'RS', 'S1', 'S2']\n",
      "['184bba0f-b80e-41da-aef8-d54cd7193f11', 'wgs', 'CaVEMan', 'raw_somatic_mutation', 'vcf', 'gz']\n"
     ]
    },
    {
     "name": "stderr",
     "output_type": "stream",
     "text": [
      "[W::hts_idx_load3] The index file is older than the data file: /data/projects/GDC_Cancer_Wise/New_data/Brain/Downloaded_files/VCF/466565ad-2126-4342-861d-4d90fffa0eaf/184bba0f-b80e-41da-aef8-d54cd7193f11.wgs.CaVEMan.raw_somatic_mutation.vcf.gz.tbi\n"
     ]
    },
    {
     "name": "stdout",
     "output_type": "stream",
     "text": [
      "184bba0f-b80e-41da-aef8-d54cd7193f11 CaVEMan 48158 20 8 ['CHROM', 'START_POS', 'END_POS', 'ID', 'REF', 'ALT', 'QUAL', 'FILTER', 'ASMD', 'ASRD', 'CLPM', 'DP', 'DS', 'GP', 'MP', 'SG', 'SNP', 'SP', 'TG', 'TP']\n",
      "['f277dc80-abac-41d1-a23f-460da23b2555', 'wgs', 'CaVEMan', 'raw_somatic_mutation', 'vcf', 'gz']\n"
     ]
    },
    {
     "name": "stderr",
     "output_type": "stream",
     "text": [
      "[W::hts_idx_load3] The index file is older than the data file: /data/projects/GDC_Cancer_Wise/New_data/Brain/Downloaded_files/VCF/6eae3f9a-b7a7-40a4-bb33-1138950a33ab/f277dc80-abac-41d1-a23f-460da23b2555.wgs.CaVEMan.raw_somatic_mutation.vcf.gz.tbi\n"
     ]
    },
    {
     "name": "stdout",
     "output_type": "stream",
     "text": [
      "f277dc80-abac-41d1-a23f-460da23b2555 CaVEMan 64269 20 11 ['CHROM', 'START_POS', 'END_POS', 'ID', 'REF', 'ALT', 'QUAL', 'FILTER', 'ASMD', 'ASRD', 'CLPM', 'DP', 'DS', 'GP', 'MP', 'SG', 'SNP', 'SP', 'TG', 'TP']\n",
      "['78b4c0de-c70a-4322-a654-bef333f5a940', 'wgs', 'sanger_raw_pindel', 'raw_somatic_mutation', 'vcf', 'gz']\n"
     ]
    },
    {
     "name": "stderr",
     "output_type": "stream",
     "text": [
      "[W::hts_idx_load3] The index file is older than the data file: /data/projects/GDC_Cancer_Wise/New_data/Brain/Downloaded_files/VCF/9b5b9bd0-7e94-49e6-a828-087197cc0e8a/78b4c0de-c70a-4322-a654-bef333f5a940.wgs.sanger_raw_pindel.raw_somatic_mutation.vcf.gz.tbi\n"
     ]
    },
    {
     "name": "stdout",
     "output_type": "stream",
     "text": [
      "78b4c0de-c70a-4322-a654-bef333f5a940 sanger_raw_pindel 1869682 17 208 ['CHROM', 'START_POS', 'END_POS', 'ID', 'REF', 'ALT', 'QUAL', 'FILTER', 'FF017', 'LEN', 'OLD_VARIANT', 'PC', 'RE', 'REP', 'RS', 'S1', 'S2']\n",
      "['0a2dc6ea-e2bd-482f-8e17-701a75458eed', 'wgs', 'CaVEMan', 'raw_somatic_mutation', 'vcf', 'gz']\n",
      "0a2dc6ea-e2bd-482f-8e17-701a75458eed CaVEMan 57224 20 15 ['CHROM', 'START_POS', 'END_POS', 'ID', 'REF', 'ALT', 'QUAL', 'FILTER', 'ASMD', 'ASRD', 'CLPM', 'DP', 'DS', 'GP', 'MP', 'SG', 'SNP', 'SP', 'TG', 'TP']\n",
      "['54d3a64c-00f6-4cc2-8263-2c84b8309371', 'wgs', 'CaVEMan', 'raw_somatic_mutation', 'vcf', 'gz']\n"
     ]
    },
    {
     "name": "stderr",
     "output_type": "stream",
     "text": [
      "[W::hts_idx_load3] The index file is older than the data file: /data/projects/GDC_Cancer_Wise/New_data/Brain/Downloaded_files/VCF/6eeb5010-4570-4588-80fd-2b9f39dfa1b3/54d3a64c-00f6-4cc2-8263-2c84b8309371.wgs.CaVEMan.raw_somatic_mutation.vcf.gz.tbi\n"
     ]
    },
    {
     "name": "stdout",
     "output_type": "stream",
     "text": [
      "54d3a64c-00f6-4cc2-8263-2c84b8309371 CaVEMan 44859 20 27 ['CHROM', 'START_POS', 'END_POS', 'ID', 'REF', 'ALT', 'QUAL', 'FILTER', 'ASMD', 'ASRD', 'CLPM', 'DP', 'DS', 'GP', 'MP', 'SG', 'SNP', 'SP', 'TG', 'TP']\n",
      "['8c749b96-8fd0-41d9-84ce-7f74e500b095', 'wgs', 'CaVEMan', 'raw_somatic_mutation', 'vcf', 'gz']\n"
     ]
    },
    {
     "name": "stderr",
     "output_type": "stream",
     "text": [
      "[W::hts_idx_load3] The index file is older than the data file: /data/projects/GDC_Cancer_Wise/New_data/Brain/Downloaded_files/VCF/b96e67a4-9243-4379-b9fb-9e2a20ac894d/8c749b96-8fd0-41d9-84ce-7f74e500b095.wgs.CaVEMan.raw_somatic_mutation.vcf.gz.tbi\n"
     ]
    },
    {
     "name": "stdout",
     "output_type": "stream",
     "text": [
      "8c749b96-8fd0-41d9-84ce-7f74e500b095 CaVEMan 56428 20 12 ['CHROM', 'START_POS', 'END_POS', 'ID', 'REF', 'ALT', 'QUAL', 'FILTER', 'ASMD', 'ASRD', 'CLPM', 'DP', 'DS', 'GP', 'MP', 'SG', 'SNP', 'SP', 'TG', 'TP']\n",
      "['0ccd86e3-96fd-4cfb-b0dd-16247e0571e2', 'wgs', 'sanger_raw_pindel', 'raw_somatic_mutation', 'vcf', 'gz']\n"
     ]
    },
    {
     "name": "stderr",
     "output_type": "stream",
     "text": [
      "[W::hts_idx_load3] The index file is older than the data file: /data/projects/GDC_Cancer_Wise/New_data/Brain/Downloaded_files/VCF/5f63041d-cb8d-40f2-bee5-ea1308752d23/0ccd86e3-96fd-4cfb-b0dd-16247e0571e2.wgs.sanger_raw_pindel.raw_somatic_mutation.vcf.gz.tbi\n"
     ]
    },
    {
     "name": "stdout",
     "output_type": "stream",
     "text": [
      "0ccd86e3-96fd-4cfb-b0dd-16247e0571e2 sanger_raw_pindel 1073737 17 154 ['CHROM', 'START_POS', 'END_POS', 'ID', 'REF', 'ALT', 'QUAL', 'FILTER', 'FF017', 'LEN', 'OLD_VARIANT', 'PC', 'RE', 'REP', 'RS', 'S1', 'S2']\n",
      "['03c1c33e-c4a8-4c31-8a29-0d8b3e7bda83', 'wgs', 'CaVEMan', 'raw_somatic_mutation', 'vcf', 'gz']\n"
     ]
    },
    {
     "name": "stderr",
     "output_type": "stream",
     "text": [
      "[W::hts_idx_load3] The index file is older than the data file: /data/projects/GDC_Cancer_Wise/New_data/Brain/Downloaded_files/VCF/d5b08b1e-edd6-4944-b916-229978f8df86/03c1c33e-c4a8-4c31-8a29-0d8b3e7bda83.wgs.CaVEMan.raw_somatic_mutation.vcf.gz.tbi\n"
     ]
    },
    {
     "name": "stdout",
     "output_type": "stream",
     "text": [
      "03c1c33e-c4a8-4c31-8a29-0d8b3e7bda83 CaVEMan 64854 20 14 ['CHROM', 'START_POS', 'END_POS', 'ID', 'REF', 'ALT', 'QUAL', 'FILTER', 'ASMD', 'ASRD', 'CLPM', 'DP', 'DS', 'GP', 'MP', 'SG', 'SNP', 'SP', 'TG', 'TP']\n",
      "['5c3a5246-abf8-4c2e-95a0-00d969edff44', 'wgs', 'CaVEMan', 'raw_somatic_mutation', 'vcf', 'gz']\n",
      "5c3a5246-abf8-4c2e-95a0-00d969edff44 CaVEMan 247395 20 59 ['CHROM', 'START_POS', 'END_POS', 'ID', 'REF', 'ALT', 'QUAL', 'FILTER', 'ASMD', 'ASRD', 'CLPM', 'DP', 'DS', 'GP', 'MP', 'SG', 'SNP', 'SP', 'TG', 'TP']\n",
      "['e28e9e35-1eba-4eb9-998f-ac7b9eb3f6ca', 'wgs', 'CaVEMan', 'raw_somatic_mutation', 'vcf', 'gz']\n",
      "e28e9e35-1eba-4eb9-998f-ac7b9eb3f6ca CaVEMan 54127 20 11 ['CHROM', 'START_POS', 'END_POS', 'ID', 'REF', 'ALT', 'QUAL', 'FILTER', 'ASMD', 'ASRD', 'CLPM', 'DP', 'DS', 'GP', 'MP', 'SG', 'SNP', 'SP', 'TG', 'TP']\n",
      "['9e8410d9-8f6a-4b99-878e-702e4e59021d', 'wgs', 'CaVEMan', 'raw_somatic_mutation', 'vcf', 'gz']\n"
     ]
    },
    {
     "name": "stderr",
     "output_type": "stream",
     "text": [
      "[W::hts_idx_load3] The index file is older than the data file: /data/projects/GDC_Cancer_Wise/New_data/Brain/Downloaded_files/VCF/4b142830-df34-45de-aff4-dcc1f689db49/9e8410d9-8f6a-4b99-878e-702e4e59021d.wgs.CaVEMan.raw_somatic_mutation.vcf.gz.tbi\n"
     ]
    },
    {
     "name": "stdout",
     "output_type": "stream",
     "text": [
      "9e8410d9-8f6a-4b99-878e-702e4e59021d CaVEMan 254773 20 86 ['CHROM', 'START_POS', 'END_POS', 'ID', 'REF', 'ALT', 'QUAL', 'FILTER', 'ASMD', 'ASRD', 'CLPM', 'DP', 'DS', 'GP', 'MP', 'SG', 'SNP', 'SP', 'TG', 'TP']\n",
      "['62dd1c1f-e4c3-496f-8ca3-bedd0f7e8211', 'wgs', 'CaVEMan', 'raw_somatic_mutation', 'vcf', 'gz']\n",
      "62dd1c1f-e4c3-496f-8ca3-bedd0f7e8211 CaVEMan 54915 20 28 ['CHROM', 'START_POS', 'END_POS', 'ID', 'REF', 'ALT', 'QUAL', 'FILTER', 'ASMD', 'ASRD', 'CLPM', 'DP', 'DS', 'GP', 'MP', 'SG', 'SNP', 'SP', 'TG', 'TP']\n",
      "['cc884f4d-e62d-4214-bfaa-81052a02a246', 'wgs', 'CaVEMan', 'raw_somatic_mutation', 'vcf', 'gz']\n",
      "cc884f4d-e62d-4214-bfaa-81052a02a246 CaVEMan 48561 20 15 ['CHROM', 'START_POS', 'END_POS', 'ID', 'REF', 'ALT', 'QUAL', 'FILTER', 'ASMD', 'ASRD', 'CLPM', 'DP', 'DS', 'GP', 'MP', 'SG', 'SNP', 'SP', 'TG', 'TP']\n",
      "['b845bff2-f0eb-4375-95f0-0ebecab03c29', 'wgs', 'sanger_raw_pindel', 'raw_somatic_mutation', 'vcf', 'gz']\n"
     ]
    },
    {
     "name": "stderr",
     "output_type": "stream",
     "text": [
      "[W::hts_idx_load3] The index file is older than the data file: /data/projects/GDC_Cancer_Wise/New_data/Brain/Downloaded_files/VCF/fcfc4044-43b8-433d-8eb7-bdfb6f044e38/b845bff2-f0eb-4375-95f0-0ebecab03c29.wgs.sanger_raw_pindel.raw_somatic_mutation.vcf.gz.tbi\n"
     ]
    },
    {
     "name": "stdout",
     "output_type": "stream",
     "text": [
      "b845bff2-f0eb-4375-95f0-0ebecab03c29 sanger_raw_pindel 845873 17 131 ['CHROM', 'START_POS', 'END_POS', 'ID', 'REF', 'ALT', 'QUAL', 'FILTER', 'FF017', 'LEN', 'OLD_VARIANT', 'PC', 'RE', 'REP', 'RS', 'S1', 'S2']\n",
      "['b330f405-d765-4b01-ab1b-4c9a396f6c2b', 'wgs', 'CaVEMan', 'raw_somatic_mutation', 'vcf', 'gz']\n",
      "b330f405-d765-4b01-ab1b-4c9a396f6c2b CaVEMan 63039 20 15 ['CHROM', 'START_POS', 'END_POS', 'ID', 'REF', 'ALT', 'QUAL', 'FILTER', 'ASMD', 'ASRD', 'CLPM', 'DP', 'DS', 'GP', 'MP', 'SG', 'SNP', 'SP', 'TG', 'TP']\n",
      "['12d99dd9-7d89-4964-8077-9873109a0303', 'wgs', 'sanger_raw_pindel', 'raw_somatic_mutation', 'vcf', 'gz']\n",
      "12d99dd9-7d89-4964-8077-9873109a0303 sanger_raw_pindel 1097894 17 139 ['CHROM', 'START_POS', 'END_POS', 'ID', 'REF', 'ALT', 'QUAL', 'FILTER', 'FF017', 'LEN', 'OLD_VARIANT', 'PC', 'RE', 'REP', 'RS', 'S1', 'S2']\n",
      "['6e42d5ce-7b2f-40d1-82af-1b29f27b89d7', 'wgs', 'sanger_raw_pindel', 'raw_somatic_mutation', 'vcf', 'gz']\n",
      "6e42d5ce-7b2f-40d1-82af-1b29f27b89d7 sanger_raw_pindel 845565 17 116 ['CHROM', 'START_POS', 'END_POS', 'ID', 'REF', 'ALT', 'QUAL', 'FILTER', 'FF017', 'LEN', 'OLD_VARIANT', 'PC', 'RE', 'REP', 'RS', 'S1', 'S2']\n",
      "['e40fc3cf-2691-47df-a5f3-87e5bbcd9a50', 'wgs', 'sanger_raw_pindel', 'raw_somatic_mutation', 'vcf', 'gz']\n",
      "e40fc3cf-2691-47df-a5f3-87e5bbcd9a50 sanger_raw_pindel 860537 17 118 ['CHROM', 'START_POS', 'END_POS', 'ID', 'REF', 'ALT', 'QUAL', 'FILTER', 'FF017', 'LEN', 'OLD_VARIANT', 'PC', 'RE', 'REP', 'RS', 'S1', 'S2']\n",
      "['1cc1ee58-e45c-4d85-b163-6d097f9d8f1f', 'wgs', 'sanger_raw_pindel', 'raw_somatic_mutation', 'vcf', 'gz']\n"
     ]
    },
    {
     "name": "stderr",
     "output_type": "stream",
     "text": [
      "[W::hts_idx_load3] The index file is older than the data file: /data/projects/GDC_Cancer_Wise/New_data/Brain/Downloaded_files/VCF/faa9aed9-194f-40bf-b49f-38b09a89b710/1cc1ee58-e45c-4d85-b163-6d097f9d8f1f.wgs.sanger_raw_pindel.raw_somatic_mutation.vcf.gz.tbi\n"
     ]
    },
    {
     "name": "stdout",
     "output_type": "stream",
     "text": [
      "1cc1ee58-e45c-4d85-b163-6d097f9d8f1f sanger_raw_pindel 889382 17 122 ['CHROM', 'START_POS', 'END_POS', 'ID', 'REF', 'ALT', 'QUAL', 'FILTER', 'FF017', 'LEN', 'OLD_VARIANT', 'PC', 'RE', 'REP', 'RS', 'S1', 'S2']\n",
      "['0a2dc6ea-e2bd-482f-8e17-701a75458eed', 'wgs', 'sanger_raw_pindel', 'raw_somatic_mutation', 'vcf', 'gz']\n",
      "0a2dc6ea-e2bd-482f-8e17-701a75458eed sanger_raw_pindel 895079 17 129 ['CHROM', 'START_POS', 'END_POS', 'ID', 'REF', 'ALT', 'QUAL', 'FILTER', 'FF017', 'LEN', 'OLD_VARIANT', 'PC', 'RE', 'REP', 'RS', 'S1', 'S2']\n",
      "['f45d1f3c-c34f-4def-bb78-03d6fc3cc6fc', 'wgs', 'sanger_raw_pindel', 'raw_somatic_mutation', 'vcf', 'gz']\n",
      "f45d1f3c-c34f-4def-bb78-03d6fc3cc6fc sanger_raw_pindel 1232381 17 161 ['CHROM', 'START_POS', 'END_POS', 'ID', 'REF', 'ALT', 'QUAL', 'FILTER', 'FF017', 'LEN', 'OLD_VARIANT', 'PC', 'RE', 'REP', 'RS', 'S1', 'S2']\n",
      "['b5b88df3-ba1e-48a9-b45f-7ac4d282ad76', 'wgs', 'sanger_raw_pindel', 'raw_somatic_mutation', 'vcf', 'gz']\n",
      "b5b88df3-ba1e-48a9-b45f-7ac4d282ad76 sanger_raw_pindel 1141133 17 148 ['CHROM', 'START_POS', 'END_POS', 'ID', 'REF', 'ALT', 'QUAL', 'FILTER', 'FF017', 'LEN', 'OLD_VARIANT', 'PC', 'RE', 'REP', 'RS', 'S1', 'S2']\n",
      "['eae40e36-26ef-45da-800c-310d5d81d6f0', 'wgs', 'sanger_raw_pindel', 'raw_somatic_mutation', 'vcf', 'gz']\n"
     ]
    },
    {
     "name": "stderr",
     "output_type": "stream",
     "text": [
      "[W::hts_idx_load3] The index file is older than the data file: /data/projects/GDC_Cancer_Wise/New_data/Brain/Downloaded_files/VCF/fd84bea8-7dd8-4a8e-bfac-887adbbbfa7d/eae40e36-26ef-45da-800c-310d5d81d6f0.wgs.sanger_raw_pindel.raw_somatic_mutation.vcf.gz.tbi\n"
     ]
    },
    {
     "name": "stdout",
     "output_type": "stream",
     "text": [
      "eae40e36-26ef-45da-800c-310d5d81d6f0 sanger_raw_pindel 1039983 17 137 ['CHROM', 'START_POS', 'END_POS', 'ID', 'REF', 'ALT', 'QUAL', 'FILTER', 'FF017', 'LEN', 'OLD_VARIANT', 'PC', 'RE', 'REP', 'RS', 'S1', 'S2']\n",
      "['69cd1c55-296a-4f72-9ada-b846d6c88175', 'wgs', 'sanger_raw_pindel', 'raw_somatic_mutation', 'vcf', 'gz']\n",
      "69cd1c55-296a-4f72-9ada-b846d6c88175 sanger_raw_pindel 1098397 17 146 ['CHROM', 'START_POS', 'END_POS', 'ID', 'REF', 'ALT', 'QUAL', 'FILTER', 'FF017', 'LEN', 'OLD_VARIANT', 'PC', 'RE', 'REP', 'RS', 'S1', 'S2']\n",
      "['1bd7e755-4353-437a-ab8c-69e3df92824d', 'wgs', 'CaVEMan', 'raw_somatic_mutation', 'vcf', 'gz']\n",
      "1bd7e755-4353-437a-ab8c-69e3df92824d CaVEMan 34700 20 13 ['CHROM', 'START_POS', 'END_POS', 'ID', 'REF', 'ALT', 'QUAL', 'FILTER', 'ASMD', 'ASRD', 'CLPM', 'DP', 'DS', 'GP', 'MP', 'SG', 'SNP', 'SP', 'TG', 'TP']\n",
      "['6ba2bd1e-3062-4778-bd42-d26f533505ba', 'wgs', 'sanger_raw_pindel', 'raw_somatic_mutation', 'vcf', 'gz']\n"
     ]
    },
    {
     "name": "stderr",
     "output_type": "stream",
     "text": [
      "[W::hts_idx_load3] The index file is older than the data file: /data/projects/GDC_Cancer_Wise/New_data/Brain/Downloaded_files/VCF/d734ec29-11ff-4132-9e61-569fd461c17a/6ba2bd1e-3062-4778-bd42-d26f533505ba.wgs.sanger_raw_pindel.raw_somatic_mutation.vcf.gz.tbi\n"
     ]
    },
    {
     "name": "stdout",
     "output_type": "stream",
     "text": [
      "6ba2bd1e-3062-4778-bd42-d26f533505ba sanger_raw_pindel 886812 17 130 ['CHROM', 'START_POS', 'END_POS', 'ID', 'REF', 'ALT', 'QUAL', 'FILTER', 'FF017', 'LEN', 'OLD_VARIANT', 'PC', 'RE', 'REP', 'RS', 'S1', 'S2']\n",
      "['d101eddd-ad00-4a42-9a95-ece5bd2332a2', 'wgs', 'CaVEMan', 'raw_somatic_mutation', 'vcf', 'gz']\n",
      "d101eddd-ad00-4a42-9a95-ece5bd2332a2 CaVEMan 36080 20 15 ['CHROM', 'START_POS', 'END_POS', 'ID', 'REF', 'ALT', 'QUAL', 'FILTER', 'ASMD', 'ASRD', 'CLPM', 'DP', 'DS', 'GP', 'MP', 'SG', 'SNP', 'SP', 'TG', 'TP']\n",
      "['0f158d5f-16c7-4fb7-b48c-0ff392f1706b', 'wgs', 'CaVEMan', 'raw_somatic_mutation', 'vcf', 'gz']\n",
      "0f158d5f-16c7-4fb7-b48c-0ff392f1706b CaVEMan 56172 20 19 ['CHROM', 'START_POS', 'END_POS', 'ID', 'REF', 'ALT', 'QUAL', 'FILTER', 'ASMD', 'ASRD', 'CLPM', 'DP', 'DS', 'GP', 'MP', 'SG', 'SNP', 'SP', 'TG', 'TP']\n",
      "['350c00b7-9287-4fb5-a8ef-4bc9cdb19e50', 'wgs', 'CaVEMan', 'raw_somatic_mutation', 'vcf', 'gz']\n",
      "350c00b7-9287-4fb5-a8ef-4bc9cdb19e50 CaVEMan 57067 20 13 ['CHROM', 'START_POS', 'END_POS', 'ID', 'REF', 'ALT', 'QUAL', 'FILTER', 'ASMD', 'ASRD', 'CLPM', 'DP', 'DS', 'GP', 'MP', 'SG', 'SNP', 'SP', 'TG', 'TP']\n",
      "['b38d4d3c-9994-41fe-8559-46ad3c339d9e', 'wgs', 'CaVEMan', 'raw_somatic_mutation', 'vcf', 'gz']\n",
      "b38d4d3c-9994-41fe-8559-46ad3c339d9e CaVEMan 34158 20 17 ['CHROM', 'START_POS', 'END_POS', 'ID', 'REF', 'ALT', 'QUAL', 'FILTER', 'ASMD', 'ASRD', 'CLPM', 'DP', 'DS', 'GP', 'MP', 'SG', 'SNP', 'SP', 'TG', 'TP']\n",
      "['93a8fbfe-a787-4155-b6be-3b0433d8e47c', 'wgs', 'sanger_raw_pindel', 'raw_somatic_mutation', 'vcf', 'gz']\n",
      "93a8fbfe-a787-4155-b6be-3b0433d8e47c sanger_raw_pindel 916055 17 135 ['CHROM', 'START_POS', 'END_POS', 'ID', 'REF', 'ALT', 'QUAL', 'FILTER', 'FF017', 'LEN', 'OLD_VARIANT', 'PC', 'RE', 'REP', 'RS', 'S1', 'S2']\n",
      "['09435dfd-67f9-4a28-9201-9e82d5bd04de', 'wgs', 'CaVEMan', 'raw_somatic_mutation', 'vcf', 'gz']\n"
     ]
    },
    {
     "name": "stderr",
     "output_type": "stream",
     "text": [
      "[W::hts_idx_load3] The index file is older than the data file: /data/projects/GDC_Cancer_Wise/New_data/Brain/Downloaded_files/VCF/06f20d51-288c-40d1-a489-39c808af119e/09435dfd-67f9-4a28-9201-9e82d5bd04de.wgs.CaVEMan.raw_somatic_mutation.vcf.gz.tbi\n"
     ]
    },
    {
     "name": "stdout",
     "output_type": "stream",
     "text": [
      "09435dfd-67f9-4a28-9201-9e82d5bd04de CaVEMan 47266 20 11 ['CHROM', 'START_POS', 'END_POS', 'ID', 'REF', 'ALT', 'QUAL', 'FILTER', 'ASMD', 'ASRD', 'CLPM', 'DP', 'DS', 'GP', 'MP', 'SG', 'SNP', 'SP', 'TG', 'TP']\n",
      "['c9a63b40-b4c3-44ca-8a8c-eb42a538438d', 'wgs', 'sanger_raw_pindel', 'raw_somatic_mutation', 'vcf', 'gz']\n"
     ]
    },
    {
     "name": "stderr",
     "output_type": "stream",
     "text": [
      "[W::hts_idx_load3] The index file is older than the data file: /data/projects/GDC_Cancer_Wise/New_data/Brain/Downloaded_files/VCF/f6fb9299-add8-400e-9bde-67488c42a0e6/c9a63b40-b4c3-44ca-8a8c-eb42a538438d.wgs.sanger_raw_pindel.raw_somatic_mutation.vcf.gz.tbi\n"
     ]
    },
    {
     "name": "stdout",
     "output_type": "stream",
     "text": [
      "c9a63b40-b4c3-44ca-8a8c-eb42a538438d sanger_raw_pindel 1075378 17 133 ['CHROM', 'START_POS', 'END_POS', 'ID', 'REF', 'ALT', 'QUAL', 'FILTER', 'FF017', 'LEN', 'OLD_VARIANT', 'PC', 'RE', 'REP', 'RS', 'S1', 'S2']\n",
      "['038750e2-9994-4420-bfa9-a3756683ddd1', 'wgs', 'CaVEMan', 'raw_somatic_mutation', 'vcf', 'gz']\n",
      "038750e2-9994-4420-bfa9-a3756683ddd1 CaVEMan 54974 20 23 ['CHROM', 'START_POS', 'END_POS', 'ID', 'REF', 'ALT', 'QUAL', 'FILTER', 'ASMD', 'ASRD', 'CLPM', 'DP', 'DS', 'GP', 'MP', 'SG', 'SNP', 'SP', 'TG', 'TP']\n",
      "['a5dba504-f9af-4ad7-8dd2-4d719440b569', 'wgs', 'sanger_raw_pindel', 'raw_somatic_mutation', 'vcf', 'gz']\n",
      "a5dba504-f9af-4ad7-8dd2-4d719440b569 sanger_raw_pindel 1036296 17 135 ['CHROM', 'START_POS', 'END_POS', 'ID', 'REF', 'ALT', 'QUAL', 'FILTER', 'FF017', 'LEN', 'OLD_VARIANT', 'PC', 'RE', 'REP', 'RS', 'S1', 'S2']\n",
      "['bce00d1a-9598-4fef-8e21-da2c5290d906', 'wgs', 'sanger_raw_pindel', 'raw_somatic_mutation', 'vcf', 'gz']\n"
     ]
    },
    {
     "name": "stderr",
     "output_type": "stream",
     "text": [
      "[W::hts_idx_load3] The index file is older than the data file: /data/projects/GDC_Cancer_Wise/New_data/Brain/Downloaded_files/VCF/d7a4fa1c-5321-45a2-a647-04df4370dadb/bce00d1a-9598-4fef-8e21-da2c5290d906.wgs.sanger_raw_pindel.raw_somatic_mutation.vcf.gz.tbi\n"
     ]
    },
    {
     "name": "stdout",
     "output_type": "stream",
     "text": [
      "bce00d1a-9598-4fef-8e21-da2c5290d906 sanger_raw_pindel 835647 17 124 ['CHROM', 'START_POS', 'END_POS', 'ID', 'REF', 'ALT', 'QUAL', 'FILTER', 'FF017', 'LEN', 'OLD_VARIANT', 'PC', 'RE', 'REP', 'RS', 'S1', 'S2']\n",
      "['d770cba7-f4ec-437d-833b-b7d8af1cbe34', 'wgs', 'CaVEMan', 'raw_somatic_mutation', 'vcf', 'gz']\n"
     ]
    },
    {
     "name": "stderr",
     "output_type": "stream",
     "text": [
      "[W::hts_idx_load3] The index file is older than the data file: /data/projects/GDC_Cancer_Wise/New_data/Brain/Downloaded_files/VCF/8da70de1-8cf2-486b-ad68-db5d64177fed/d770cba7-f4ec-437d-833b-b7d8af1cbe34.wgs.CaVEMan.raw_somatic_mutation.vcf.gz.tbi\n"
     ]
    },
    {
     "name": "stdout",
     "output_type": "stream",
     "text": [
      "d770cba7-f4ec-437d-833b-b7d8af1cbe34 CaVEMan 56566 20 25 ['CHROM', 'START_POS', 'END_POS', 'ID', 'REF', 'ALT', 'QUAL', 'FILTER', 'ASMD', 'ASRD', 'CLPM', 'DP', 'DS', 'GP', 'MP', 'SG', 'SNP', 'SP', 'TG', 'TP']\n",
      "['f076e644-bc06-4a93-8754-785d2c33371e', 'wgs', 'sanger_raw_pindel', 'raw_somatic_mutation', 'vcf', 'gz']\n",
      "f076e644-bc06-4a93-8754-785d2c33371e sanger_raw_pindel 869793 17 131 ['CHROM', 'START_POS', 'END_POS', 'ID', 'REF', 'ALT', 'QUAL', 'FILTER', 'FF017', 'LEN', 'OLD_VARIANT', 'PC', 'RE', 'REP', 'RS', 'S1', 'S2']\n",
      "['d36bdeac-1edf-4599-ac3d-b42811ec5b18', 'wgs', 'sanger_raw_pindel', 'raw_somatic_mutation', 'vcf', 'gz']\n"
     ]
    },
    {
     "name": "stderr",
     "output_type": "stream",
     "text": [
      "[W::hts_idx_load3] The index file is older than the data file: /data/projects/GDC_Cancer_Wise/New_data/Brain/Downloaded_files/VCF/4b0b5f9b-1f81-47ce-9376-a8e55654b2ed/d36bdeac-1edf-4599-ac3d-b42811ec5b18.wgs.sanger_raw_pindel.raw_somatic_mutation.vcf.gz.tbi\n"
     ]
    },
    {
     "name": "stdout",
     "output_type": "stream",
     "text": [
      "d36bdeac-1edf-4599-ac3d-b42811ec5b18 sanger_raw_pindel 806990 17 109 ['CHROM', 'START_POS', 'END_POS', 'ID', 'REF', 'ALT', 'QUAL', 'FILTER', 'FF017', 'LEN', 'OLD_VARIANT', 'PC', 'RE', 'REP', 'RS', 'S1', 'S2']\n",
      "['b5d89740-5891-4229-b002-9ccb43ddb270', 'wgs', 'sanger_raw_pindel', 'raw_somatic_mutation', 'vcf', 'gz']\n"
     ]
    },
    {
     "name": "stderr",
     "output_type": "stream",
     "text": [
      "[W::hts_idx_load3] The index file is older than the data file: /data/projects/GDC_Cancer_Wise/New_data/Brain/Downloaded_files/VCF/b0000ff7-6801-4630-b21a-96f7d9254b86/b5d89740-5891-4229-b002-9ccb43ddb270.wgs.sanger_raw_pindel.raw_somatic_mutation.vcf.gz.tbi\n"
     ]
    },
    {
     "name": "stdout",
     "output_type": "stream",
     "text": [
      "b5d89740-5891-4229-b002-9ccb43ddb270 sanger_raw_pindel 874799 17 134 ['CHROM', 'START_POS', 'END_POS', 'ID', 'REF', 'ALT', 'QUAL', 'FILTER', 'FF017', 'LEN', 'OLD_VARIANT', 'PC', 'RE', 'REP', 'RS', 'S1', 'S2']\n",
      "['9b51bdd3-0ec9-42ca-9a09-a978bcef3ab0', 'wgs', 'sanger_raw_pindel', 'raw_somatic_mutation', 'vcf', 'gz']\n",
      "9b51bdd3-0ec9-42ca-9a09-a978bcef3ab0 sanger_raw_pindel 858062 17 128 ['CHROM', 'START_POS', 'END_POS', 'ID', 'REF', 'ALT', 'QUAL', 'FILTER', 'FF017', 'LEN', 'OLD_VARIANT', 'PC', 'RE', 'REP', 'RS', 'S1', 'S2']\n",
      "['b0a32ca7-5793-4f50-97f8-8adf5254a205', 'wgs', 'CaVEMan', 'raw_somatic_mutation', 'vcf', 'gz']\n",
      "b0a32ca7-5793-4f50-97f8-8adf5254a205 CaVEMan 52975 20 17 ['CHROM', 'START_POS', 'END_POS', 'ID', 'REF', 'ALT', 'QUAL', 'FILTER', 'ASMD', 'ASRD', 'CLPM', 'DP', 'DS', 'GP', 'MP', 'SG', 'SNP', 'SP', 'TG', 'TP']\n",
      "['6cb08eef-31fc-4ad7-9cc7-6176c4ea09a1', 'wgs', 'CaVEMan', 'raw_somatic_mutation', 'vcf', 'gz']\n",
      "6cb08eef-31fc-4ad7-9cc7-6176c4ea09a1 CaVEMan 47404 20 17 ['CHROM', 'START_POS', 'END_POS', 'ID', 'REF', 'ALT', 'QUAL', 'FILTER', 'ASMD', 'ASRD', 'CLPM', 'DP', 'DS', 'GP', 'MP', 'SG', 'SNP', 'SP', 'TG', 'TP']\n",
      "['4e8fe8a4-1788-4501-b0e0-d57b86f56e23', 'wgs', 'sanger_raw_pindel', 'raw_somatic_mutation', 'vcf', 'gz']\n",
      "4e8fe8a4-1788-4501-b0e0-d57b86f56e23 sanger_raw_pindel 896850 17 136 ['CHROM', 'START_POS', 'END_POS', 'ID', 'REF', 'ALT', 'QUAL', 'FILTER', 'FF017', 'LEN', 'OLD_VARIANT', 'PC', 'RE', 'REP', 'RS', 'S1', 'S2']\n",
      "['d214490c-9f1c-4228-8cbc-7c8238942041', 'wgs', 'sanger_raw_pindel', 'raw_somatic_mutation', 'vcf', 'gz']\n",
      "d214490c-9f1c-4228-8cbc-7c8238942041 sanger_raw_pindel 882904 17 124 ['CHROM', 'START_POS', 'END_POS', 'ID', 'REF', 'ALT', 'QUAL', 'FILTER', 'FF017', 'LEN', 'OLD_VARIANT', 'PC', 'RE', 'REP', 'RS', 'S1', 'S2']\n",
      "['3e28bc65-988d-4112-9397-7773ec79a9a9', 'wgs', 'sanger_raw_pindel', 'raw_somatic_mutation', 'vcf', 'gz']\n"
     ]
    },
    {
     "name": "stderr",
     "output_type": "stream",
     "text": [
      "[W::hts_idx_load3] The index file is older than the data file: /data/projects/GDC_Cancer_Wise/New_data/Brain/Downloaded_files/VCF/12b469be-1003-4e08-b021-9ba8bbd3c3b4/3e28bc65-988d-4112-9397-7773ec79a9a9.wgs.sanger_raw_pindel.raw_somatic_mutation.vcf.gz.tbi\n"
     ]
    },
    {
     "name": "stdout",
     "output_type": "stream",
     "text": [
      "3e28bc65-988d-4112-9397-7773ec79a9a9 sanger_raw_pindel 1099588 17 131 ['CHROM', 'START_POS', 'END_POS', 'ID', 'REF', 'ALT', 'QUAL', 'FILTER', 'FF017', 'LEN', 'OLD_VARIANT', 'PC', 'RE', 'REP', 'RS', 'S1', 'S2']\n",
      "['3d9d175b-20dc-4916-afa0-95b9acbbec02', 'wgs', 'sanger_raw_pindel', 'raw_somatic_mutation', 'vcf', 'gz']\n"
     ]
    },
    {
     "name": "stderr",
     "output_type": "stream",
     "text": [
      "[W::hts_idx_load3] The index file is older than the data file: /data/projects/GDC_Cancer_Wise/New_data/Brain/Downloaded_files/VCF/481af371-b016-48b7-9968-171f75ef4d3f/3d9d175b-20dc-4916-afa0-95b9acbbec02.wgs.sanger_raw_pindel.raw_somatic_mutation.vcf.gz.tbi\n"
     ]
    },
    {
     "name": "stdout",
     "output_type": "stream",
     "text": [
      "3d9d175b-20dc-4916-afa0-95b9acbbec02 sanger_raw_pindel 886365 17 120 ['CHROM', 'START_POS', 'END_POS', 'ID', 'REF', 'ALT', 'QUAL', 'FILTER', 'FF017', 'LEN', 'OLD_VARIANT', 'PC', 'RE', 'REP', 'RS', 'S1', 'S2']\n",
      "['d481a290-6b89-442b-b5f3-c855e34bb3ca', 'wgs', 'sanger_raw_pindel', 'raw_somatic_mutation', 'vcf', 'gz']\n",
      "d481a290-6b89-442b-b5f3-c855e34bb3ca sanger_raw_pindel 912594 17 136 ['CHROM', 'START_POS', 'END_POS', 'ID', 'REF', 'ALT', 'QUAL', 'FILTER', 'FF017', 'LEN', 'OLD_VARIANT', 'PC', 'RE', 'REP', 'RS', 'S1', 'S2']\n",
      "['324bda04-9380-4bf8-9ebd-6f28759a5393', 'wgs', 'CaVEMan', 'raw_somatic_mutation', 'vcf', 'gz']\n"
     ]
    },
    {
     "name": "stderr",
     "output_type": "stream",
     "text": [
      "[W::hts_idx_load3] The index file is older than the data file: /data/projects/GDC_Cancer_Wise/New_data/Brain/Downloaded_files/VCF/bd560890-416f-483d-b111-eb2b7933da8e/324bda04-9380-4bf8-9ebd-6f28759a5393.wgs.CaVEMan.raw_somatic_mutation.vcf.gz.tbi\n"
     ]
    },
    {
     "name": "stdout",
     "output_type": "stream",
     "text": [
      "324bda04-9380-4bf8-9ebd-6f28759a5393 CaVEMan 43830 20 11 ['CHROM', 'START_POS', 'END_POS', 'ID', 'REF', 'ALT', 'QUAL', 'FILTER', 'ASMD', 'ASRD', 'CLPM', 'DP', 'DS', 'GP', 'MP', 'SG', 'SNP', 'SP', 'TG', 'TP']\n",
      "['09435dfd-67f9-4a28-9201-9e82d5bd04de', 'wgs', 'sanger_raw_pindel', 'raw_somatic_mutation', 'vcf', 'gz']\n"
     ]
    },
    {
     "name": "stderr",
     "output_type": "stream",
     "text": [
      "[W::hts_idx_load3] The index file is older than the data file: /data/projects/GDC_Cancer_Wise/New_data/Brain/Downloaded_files/VCF/05b9cf15-d4b6-4f07-8239-d27189e22a18/09435dfd-67f9-4a28-9201-9e82d5bd04de.wgs.sanger_raw_pindel.raw_somatic_mutation.vcf.gz.tbi\n"
     ]
    },
    {
     "name": "stdout",
     "output_type": "stream",
     "text": [
      "09435dfd-67f9-4a28-9201-9e82d5bd04de sanger_raw_pindel 873850 17 132 ['CHROM', 'START_POS', 'END_POS', 'ID', 'REF', 'ALT', 'QUAL', 'FILTER', 'FF017', 'LEN', 'OLD_VARIANT', 'PC', 'RE', 'REP', 'RS', 'S1', 'S2']\n",
      "['eae40e36-26ef-45da-800c-310d5d81d6f0', 'wgs', 'CaVEMan', 'raw_somatic_mutation', 'vcf', 'gz']\n",
      "eae40e36-26ef-45da-800c-310d5d81d6f0 CaVEMan 256263 20 73 ['CHROM', 'START_POS', 'END_POS', 'ID', 'REF', 'ALT', 'QUAL', 'FILTER', 'ASMD', 'ASRD', 'CLPM', 'DP', 'DS', 'GP', 'MP', 'SG', 'SNP', 'SP', 'TG', 'TP']\n",
      "['f2a6974c-658d-4da7-a8dc-bd0d4a7a19e4', 'wgs', 'CaVEMan', 'raw_somatic_mutation', 'vcf', 'gz']\n",
      "f2a6974c-658d-4da7-a8dc-bd0d4a7a19e4 CaVEMan 46158 20 19 ['CHROM', 'START_POS', 'END_POS', 'ID', 'REF', 'ALT', 'QUAL', 'FILTER', 'ASMD', 'ASRD', 'CLPM', 'DP', 'DS', 'GP', 'MP', 'SG', 'SNP', 'SP', 'TG', 'TP']\n",
      "['3e40a973-7f9d-400a-8990-634196168c13', 'wgs', 'CaVEMan', 'raw_somatic_mutation', 'vcf', 'gz']\n",
      "3e40a973-7f9d-400a-8990-634196168c13 CaVEMan 42844 20 23 ['CHROM', 'START_POS', 'END_POS', 'ID', 'REF', 'ALT', 'QUAL', 'FILTER', 'ASMD', 'ASRD', 'CLPM', 'DP', 'DS', 'GP', 'MP', 'SG', 'SNP', 'SP', 'TG', 'TP']\n",
      "['27dbf455-43fa-452c-aea6-494c65fc06af', 'wgs', 'sanger_raw_pindel', 'raw_somatic_mutation', 'vcf', 'gz']\n",
      "27dbf455-43fa-452c-aea6-494c65fc06af sanger_raw_pindel 901964 17 122 ['CHROM', 'START_POS', 'END_POS', 'ID', 'REF', 'ALT', 'QUAL', 'FILTER', 'FF017', 'LEN', 'OLD_VARIANT', 'PC', 'RE', 'REP', 'RS', 'S1', 'S2']\n",
      "['b20bcb30-fa83-4da4-85f7-e55efefd6ea1', 'wgs', 'sanger_raw_pindel', 'raw_somatic_mutation', 'vcf', 'gz']\n"
     ]
    },
    {
     "name": "stderr",
     "output_type": "stream",
     "text": [
      "[W::hts_idx_load3] The index file is older than the data file: /data/projects/GDC_Cancer_Wise/New_data/Brain/Downloaded_files/VCF/f07d28a6-a61b-4656-a52f-a9f054e3470f/b20bcb30-fa83-4da4-85f7-e55efefd6ea1.wgs.sanger_raw_pindel.raw_somatic_mutation.vcf.gz.tbi\n"
     ]
    },
    {
     "name": "stdout",
     "output_type": "stream",
     "text": [
      "b20bcb30-fa83-4da4-85f7-e55efefd6ea1 sanger_raw_pindel 867762 17 124 ['CHROM', 'START_POS', 'END_POS', 'ID', 'REF', 'ALT', 'QUAL', 'FILTER', 'FF017', 'LEN', 'OLD_VARIANT', 'PC', 'RE', 'REP', 'RS', 'S1', 'S2']\n",
      "['f701f323-9730-49f0-bbba-37a2f7566282', 'wgs', 'CaVEMan', 'raw_somatic_mutation', 'vcf', 'gz']\n"
     ]
    },
    {
     "name": "stderr",
     "output_type": "stream",
     "text": [
      "[W::hts_idx_load3] The index file is older than the data file: /data/projects/GDC_Cancer_Wise/New_data/Brain/Downloaded_files/VCF/bcc481b7-c654-4216-98c3-0fac6b5fb4a5/f701f323-9730-49f0-bbba-37a2f7566282.wgs.CaVEMan.raw_somatic_mutation.vcf.gz.tbi\n"
     ]
    },
    {
     "name": "stdout",
     "output_type": "stream",
     "text": [
      "f701f323-9730-49f0-bbba-37a2f7566282 CaVEMan 49980 20 12 ['CHROM', 'START_POS', 'END_POS', 'ID', 'REF', 'ALT', 'QUAL', 'FILTER', 'ASMD', 'ASRD', 'CLPM', 'DP', 'DS', 'GP', 'MP', 'SG', 'SNP', 'SP', 'TG', 'TP']\n",
      "['0b66e90d-56ae-4857-933f-8df4ca7a202f', 'wgs', 'sanger_raw_pindel', 'raw_somatic_mutation', 'vcf', 'gz']\n",
      "0b66e90d-56ae-4857-933f-8df4ca7a202f sanger_raw_pindel 895875 17 129 ['CHROM', 'START_POS', 'END_POS', 'ID', 'REF', 'ALT', 'QUAL', 'FILTER', 'FF017', 'LEN', 'OLD_VARIANT', 'PC', 'RE', 'REP', 'RS', 'S1', 'S2']\n",
      "['4eb5be8a-421e-4f46-bbdb-c8688f140f48', 'wgs', 'sanger_raw_pindel', 'raw_somatic_mutation', 'vcf', 'gz']\n"
     ]
    },
    {
     "name": "stderr",
     "output_type": "stream",
     "text": [
      "[W::hts_idx_load3] The index file is older than the data file: /data/projects/GDC_Cancer_Wise/New_data/Brain/Downloaded_files/VCF/b74ed903-3d2e-445d-b304-9929d553b1f5/4eb5be8a-421e-4f46-bbdb-c8688f140f48.wgs.sanger_raw_pindel.raw_somatic_mutation.vcf.gz.tbi\n"
     ]
    },
    {
     "name": "stdout",
     "output_type": "stream",
     "text": [
      "4eb5be8a-421e-4f46-bbdb-c8688f140f48 sanger_raw_pindel 889637 17 121 ['CHROM', 'START_POS', 'END_POS', 'ID', 'REF', 'ALT', 'QUAL', 'FILTER', 'FF017', 'LEN', 'OLD_VARIANT', 'PC', 'RE', 'REP', 'RS', 'S1', 'S2']\n",
      "['49718673-b69a-4d8b-a00c-b6595aa5848b', 'wgs', 'CaVEMan', 'raw_somatic_mutation', 'vcf', 'gz']\n",
      "49718673-b69a-4d8b-a00c-b6595aa5848b CaVEMan 53916 20 8 ['CHROM', 'START_POS', 'END_POS', 'ID', 'REF', 'ALT', 'QUAL', 'FILTER', 'ASMD', 'ASRD', 'CLPM', 'DP', 'DS', 'GP', 'MP', 'SG', 'SNP', 'SP', 'TG', 'TP']\n",
      "['5710b72b-8318-49f9-937a-f775a5c8c160', 'wgs', 'sanger_raw_pindel', 'raw_somatic_mutation', 'vcf', 'gz']\n",
      "5710b72b-8318-49f9-937a-f775a5c8c160 sanger_raw_pindel 905790 17 125 ['CHROM', 'START_POS', 'END_POS', 'ID', 'REF', 'ALT', 'QUAL', 'FILTER', 'FF017', 'LEN', 'OLD_VARIANT', 'PC', 'RE', 'REP', 'RS', 'S1', 'S2']\n",
      "['a5dba504-f9af-4ad7-8dd2-4d719440b569', 'wgs', 'CaVEMan', 'raw_somatic_mutation', 'vcf', 'gz']\n",
      "a5dba504-f9af-4ad7-8dd2-4d719440b569 CaVEMan 119569 20 24 ['CHROM', 'START_POS', 'END_POS', 'ID', 'REF', 'ALT', 'QUAL', 'FILTER', 'ASMD', 'ASRD', 'CLPM', 'DP', 'DS', 'GP', 'MP', 'SG', 'SNP', 'SP', 'TG', 'TP']\n",
      "['dc3f72c3-79b4-411c-8275-a85e9d081abb', 'wgs', 'sanger_raw_pindel', 'raw_somatic_mutation', 'vcf', 'gz']\n",
      "dc3f72c3-79b4-411c-8275-a85e9d081abb sanger_raw_pindel 867463 17 131 ['CHROM', 'START_POS', 'END_POS', 'ID', 'REF', 'ALT', 'QUAL', 'FILTER', 'FF017', 'LEN', 'OLD_VARIANT', 'PC', 'RE', 'REP', 'RS', 'S1', 'S2']\n",
      "['8350a310-4c75-4f7d-b47d-1ee4d1ebab13', 'wgs', 'sanger_raw_pindel', 'raw_somatic_mutation', 'vcf', 'gz']\n",
      "8350a310-4c75-4f7d-b47d-1ee4d1ebab13 sanger_raw_pindel 894145 17 127 ['CHROM', 'START_POS', 'END_POS', 'ID', 'REF', 'ALT', 'QUAL', 'FILTER', 'FF017', 'LEN', 'OLD_VARIANT', 'PC', 'RE', 'REP', 'RS', 'S1', 'S2']\n",
      "['a97e1e32-967f-4275-ac62-6ff478e82973', 'wgs', 'CaVEMan', 'raw_somatic_mutation', 'vcf', 'gz']\n",
      "a97e1e32-967f-4275-ac62-6ff478e82973 CaVEMan 69560 20 20 ['CHROM', 'START_POS', 'END_POS', 'ID', 'REF', 'ALT', 'QUAL', 'FILTER', 'ASMD', 'ASRD', 'CLPM', 'DP', 'DS', 'GP', 'MP', 'SG', 'SNP', 'SP', 'TG', 'TP']\n",
      "['f90f1702-d5f1-43f4-b167-2c440f941bf6', 'wgs', 'CaVEMan', 'raw_somatic_mutation', 'vcf', 'gz']\n"
     ]
    },
    {
     "name": "stderr",
     "output_type": "stream",
     "text": [
      "[W::hts_idx_load3] The index file is older than the data file: /data/projects/GDC_Cancer_Wise/New_data/Brain/Downloaded_files/VCF/5db7c13a-9eb9-4286-a19d-c06e99a96ad2/f90f1702-d5f1-43f4-b167-2c440f941bf6.wgs.CaVEMan.raw_somatic_mutation.vcf.gz.tbi\n"
     ]
    },
    {
     "name": "stdout",
     "output_type": "stream",
     "text": [
      "f90f1702-d5f1-43f4-b167-2c440f941bf6 CaVEMan 65791 20 12 ['CHROM', 'START_POS', 'END_POS', 'ID', 'REF', 'ALT', 'QUAL', 'FILTER', 'ASMD', 'ASRD', 'CLPM', 'DP', 'DS', 'GP', 'MP', 'SG', 'SNP', 'SP', 'TG', 'TP']\n",
      "['6cb08eef-31fc-4ad7-9cc7-6176c4ea09a1', 'wgs', 'sanger_raw_pindel', 'raw_somatic_mutation', 'vcf', 'gz']\n",
      "6cb08eef-31fc-4ad7-9cc7-6176c4ea09a1 sanger_raw_pindel 868313 17 137 ['CHROM', 'START_POS', 'END_POS', 'ID', 'REF', 'ALT', 'QUAL', 'FILTER', 'FF017', 'LEN', 'OLD_VARIANT', 'PC', 'RE', 'REP', 'RS', 'S1', 'S2']\n",
      "['62dd1c1f-e4c3-496f-8ca3-bedd0f7e8211', 'wgs', 'sanger_raw_pindel', 'raw_somatic_mutation', 'vcf', 'gz']\n",
      "62dd1c1f-e4c3-496f-8ca3-bedd0f7e8211 sanger_raw_pindel 866744 17 128 ['CHROM', 'START_POS', 'END_POS', 'ID', 'REF', 'ALT', 'QUAL', 'FILTER', 'FF017', 'LEN', 'OLD_VARIANT', 'PC', 'RE', 'REP', 'RS', 'S1', 'S2']\n",
      "['6643318c-9d33-4434-a98a-ceefa9c5c157', 'wgs', 'CaVEMan', 'raw_somatic_mutation', 'vcf', 'gz']\n"
     ]
    },
    {
     "name": "stderr",
     "output_type": "stream",
     "text": [
      "[W::hts_idx_load3] The index file is older than the data file: /data/projects/GDC_Cancer_Wise/New_data/Brain/Downloaded_files/VCF/30ba4685-5af4-430b-922d-8a42df4bad72/6643318c-9d33-4434-a98a-ceefa9c5c157.wgs.CaVEMan.raw_somatic_mutation.vcf.gz.tbi\n"
     ]
    },
    {
     "name": "stdout",
     "output_type": "stream",
     "text": [
      "6643318c-9d33-4434-a98a-ceefa9c5c157 CaVEMan 46318 20 12 ['CHROM', 'START_POS', 'END_POS', 'ID', 'REF', 'ALT', 'QUAL', 'FILTER', 'ASMD', 'ASRD', 'CLPM', 'DP', 'DS', 'GP', 'MP', 'SG', 'SNP', 'SP', 'TG', 'TP']\n",
      "['18d154c8-cdcf-4606-ac66-099b22cfd0e8', 'wgs', 'sanger_raw_pindel', 'raw_somatic_mutation', 'vcf', 'gz']\n",
      "18d154c8-cdcf-4606-ac66-099b22cfd0e8 sanger_raw_pindel 906155 17 128 ['CHROM', 'START_POS', 'END_POS', 'ID', 'REF', 'ALT', 'QUAL', 'FILTER', 'FF017', 'LEN', 'OLD_VARIANT', 'PC', 'RE', 'REP', 'RS', 'S1', 'S2']\n",
      "['f2851c73-3fa8-455f-9dc1-128ff4f1bc41', 'wgs', 'sanger_raw_pindel', 'raw_somatic_mutation', 'vcf', 'gz']\n",
      "f2851c73-3fa8-455f-9dc1-128ff4f1bc41 sanger_raw_pindel 844817 17 117 ['CHROM', 'START_POS', 'END_POS', 'ID', 'REF', 'ALT', 'QUAL', 'FILTER', 'FF017', 'LEN', 'OLD_VARIANT', 'PC', 'RE', 'REP', 'RS', 'S1', 'S2']\n",
      "['37625bad-65ff-4f12-ad62-fca2001b8425', 'wgs', 'CaVEMan', 'raw_somatic_mutation', 'vcf', 'gz']\n",
      "37625bad-65ff-4f12-ad62-fca2001b8425 CaVEMan 238520 20 58 ['CHROM', 'START_POS', 'END_POS', 'ID', 'REF', 'ALT', 'QUAL', 'FILTER', 'ASMD', 'ASRD', 'CLPM', 'DP', 'DS', 'GP', 'MP', 'SG', 'SNP', 'SP', 'TG', 'TP']\n",
      "['03777cdf-6779-4d23-93af-5b74fb982d7b', 'wgs', 'sanger_raw_pindel', 'raw_somatic_mutation', 'vcf', 'gz']\n",
      "03777cdf-6779-4d23-93af-5b74fb982d7b sanger_raw_pindel 866270 17 126 ['CHROM', 'START_POS', 'END_POS', 'ID', 'REF', 'ALT', 'QUAL', 'FILTER', 'FF017', 'LEN', 'OLD_VARIANT', 'PC', 'RE', 'REP', 'RS', 'S1', 'S2']\n",
      "['9e35e7c1-b8e9-441b-9520-3195359f8e43', 'wgs', 'sanger_raw_pindel', 'raw_somatic_mutation', 'vcf', 'gz']\n"
     ]
    },
    {
     "name": "stderr",
     "output_type": "stream",
     "text": [
      "[W::hts_idx_load3] The index file is older than the data file: /data/projects/GDC_Cancer_Wise/New_data/Brain/Downloaded_files/VCF/0546ffc5-4efd-4bc9-9d70-79e1e672fa7b/9e35e7c1-b8e9-441b-9520-3195359f8e43.wgs.sanger_raw_pindel.raw_somatic_mutation.vcf.gz.tbi\n"
     ]
    },
    {
     "name": "stdout",
     "output_type": "stream",
     "text": [
      "9e35e7c1-b8e9-441b-9520-3195359f8e43 sanger_raw_pindel 857759 17 132 ['CHROM', 'START_POS', 'END_POS', 'ID', 'REF', 'ALT', 'QUAL', 'FILTER', 'FF017', 'LEN', 'OLD_VARIANT', 'PC', 'RE', 'REP', 'RS', 'S1', 'S2']\n",
      "['24abc004-6712-4df9-83f2-bd98dcc6ea5e', 'wgs', 'CaVEMan', 'raw_somatic_mutation', 'vcf', 'gz']\n",
      "24abc004-6712-4df9-83f2-bd98dcc6ea5e CaVEMan 57637 20 17 ['CHROM', 'START_POS', 'END_POS', 'ID', 'REF', 'ALT', 'QUAL', 'FILTER', 'ASMD', 'ASRD', 'CLPM', 'DP', 'DS', 'GP', 'MP', 'SG', 'SNP', 'SP', 'TG', 'TP']\n",
      "['93f3f095-f6d4-40f4-845f-fb313af513a0', 'wgs', 'CaVEMan', 'raw_somatic_mutation', 'vcf', 'gz']\n"
     ]
    },
    {
     "name": "stderr",
     "output_type": "stream",
     "text": [
      "[W::hts_idx_load3] The index file is older than the data file: /data/projects/GDC_Cancer_Wise/New_data/Brain/Downloaded_files/VCF/a5cb169b-eafc-49f0-94fb-25260edc044f/93f3f095-f6d4-40f4-845f-fb313af513a0.wgs.CaVEMan.raw_somatic_mutation.vcf.gz.tbi\n"
     ]
    },
    {
     "name": "stdout",
     "output_type": "stream",
     "text": [
      "93f3f095-f6d4-40f4-845f-fb313af513a0 CaVEMan 49844 20 14 ['CHROM', 'START_POS', 'END_POS', 'ID', 'REF', 'ALT', 'QUAL', 'FILTER', 'ASMD', 'ASRD', 'CLPM', 'DP', 'DS', 'GP', 'MP', 'SG', 'SNP', 'SP', 'TG', 'TP']\n",
      "['a55817f2-61f8-43f3-a017-7585f5f29121', 'wgs', 'CaVEMan', 'raw_somatic_mutation', 'vcf', 'gz']\n",
      "a55817f2-61f8-43f3-a017-7585f5f29121 CaVEMan 236909 20 47 ['CHROM', 'START_POS', 'END_POS', 'ID', 'REF', 'ALT', 'QUAL', 'FILTER', 'ASMD', 'ASRD', 'CLPM', 'DP', 'DS', 'GP', 'MP', 'SG', 'SNP', 'SP', 'TG', 'TP']\n",
      "['9555409b-2f6c-4d24-9b39-5b8183cb3f8c', 'wgs', 'CaVEMan', 'raw_somatic_mutation', 'vcf', 'gz']\n",
      "9555409b-2f6c-4d24-9b39-5b8183cb3f8c CaVEMan 49739 20 25 ['CHROM', 'START_POS', 'END_POS', 'ID', 'REF', 'ALT', 'QUAL', 'FILTER', 'ASMD', 'ASRD', 'CLPM', 'DP', 'DS', 'GP', 'MP', 'SG', 'SNP', 'SP', 'TG', 'TP']\n",
      "['e4330135-7dbe-42c2-998d-387c2f5a229a', 'wgs', 'sanger_raw_pindel', 'raw_somatic_mutation', 'vcf', 'gz']\n",
      "e4330135-7dbe-42c2-998d-387c2f5a229a sanger_raw_pindel 772339 17 110 ['CHROM', 'START_POS', 'END_POS', 'ID', 'REF', 'ALT', 'QUAL', 'FILTER', 'FF017', 'LEN', 'OLD_VARIANT', 'PC', 'RE', 'REP', 'RS', 'S1', 'S2']\n",
      "['b2a6ca3f-883f-4f40-81e3-b246708169e7', 'wgs', 'sanger_raw_pindel', 'raw_somatic_mutation', 'vcf', 'gz']\n"
     ]
    },
    {
     "name": "stderr",
     "output_type": "stream",
     "text": [
      "[W::hts_idx_load3] The index file is older than the data file: /data/projects/GDC_Cancer_Wise/New_data/Brain/Downloaded_files/VCF/30ba1ad3-d81d-4552-8037-ebd42d8bb1db/b2a6ca3f-883f-4f40-81e3-b246708169e7.wgs.sanger_raw_pindel.raw_somatic_mutation.vcf.gz.tbi\n"
     ]
    },
    {
     "name": "stdout",
     "output_type": "stream",
     "text": [
      "b2a6ca3f-883f-4f40-81e3-b246708169e7 sanger_raw_pindel 1070107 17 129 ['CHROM', 'START_POS', 'END_POS', 'ID', 'REF', 'ALT', 'QUAL', 'FILTER', 'FF017', 'LEN', 'OLD_VARIANT', 'PC', 'RE', 'REP', 'RS', 'S1', 'S2']\n",
      "['8da9bde9-4b8c-46a2-bcc2-a620a186bab3', 'wgs', 'CaVEMan', 'raw_somatic_mutation', 'vcf', 'gz']\n",
      "8da9bde9-4b8c-46a2-bcc2-a620a186bab3 CaVEMan 48621 20 13 ['CHROM', 'START_POS', 'END_POS', 'ID', 'REF', 'ALT', 'QUAL', 'FILTER', 'ASMD', 'ASRD', 'CLPM', 'DP', 'DS', 'GP', 'MP', 'SG', 'SNP', 'SP', 'TG', 'TP']\n",
      "['b2fdc5e6-fcac-4ffa-8287-111d9bae30e0', 'wgs', 'CaVEMan', 'raw_somatic_mutation', 'vcf', 'gz']\n"
     ]
    },
    {
     "name": "stderr",
     "output_type": "stream",
     "text": [
      "[W::hts_idx_load3] The index file is older than the data file: /data/projects/GDC_Cancer_Wise/New_data/Brain/Downloaded_files/VCF/55133134-242c-4e04-a425-1417e0422b21/b2fdc5e6-fcac-4ffa-8287-111d9bae30e0.wgs.CaVEMan.raw_somatic_mutation.vcf.gz.tbi\n"
     ]
    },
    {
     "name": "stdout",
     "output_type": "stream",
     "text": [
      "b2fdc5e6-fcac-4ffa-8287-111d9bae30e0 CaVEMan 59128 20 11 ['CHROM', 'START_POS', 'END_POS', 'ID', 'REF', 'ALT', 'QUAL', 'FILTER', 'ASMD', 'ASRD', 'CLPM', 'DP', 'DS', 'GP', 'MP', 'SG', 'SNP', 'SP', 'TG', 'TP']\n",
      "['b845bff2-f0eb-4375-95f0-0ebecab03c29', 'wgs', 'CaVEMan', 'raw_somatic_mutation', 'vcf', 'gz']\n",
      "b845bff2-f0eb-4375-95f0-0ebecab03c29 CaVEMan 60667 20 32 ['CHROM', 'START_POS', 'END_POS', 'ID', 'REF', 'ALT', 'QUAL', 'FILTER', 'ASMD', 'ASRD', 'CLPM', 'DP', 'DS', 'GP', 'MP', 'SG', 'SNP', 'SP', 'TG', 'TP']\n",
      "['9935a376-e6a7-461b-a479-4f312f0601eb', 'wgs', 'CaVEMan', 'raw_somatic_mutation', 'vcf', 'gz']\n",
      "9935a376-e6a7-461b-a479-4f312f0601eb CaVEMan 46544 20 23 ['CHROM', 'START_POS', 'END_POS', 'ID', 'REF', 'ALT', 'QUAL', 'FILTER', 'ASMD', 'ASRD', 'CLPM', 'DP', 'DS', 'GP', 'MP', 'SG', 'SNP', 'SP', 'TG', 'TP']\n",
      "['03bdaae4-92e0-4229-9657-94510e2c3db7', 'wgs', 'CaVEMan', 'raw_somatic_mutation', 'vcf', 'gz']\n"
     ]
    },
    {
     "name": "stderr",
     "output_type": "stream",
     "text": [
      "[W::hts_idx_load3] The index file is older than the data file: /data/projects/GDC_Cancer_Wise/New_data/Brain/Downloaded_files/VCF/d800c9d1-a2bd-4f11-a0b8-6a5f11e5e6a2/03bdaae4-92e0-4229-9657-94510e2c3db7.wgs.CaVEMan.raw_somatic_mutation.vcf.gz.tbi\n"
     ]
    },
    {
     "name": "stdout",
     "output_type": "stream",
     "text": [
      "03bdaae4-92e0-4229-9657-94510e2c3db7 CaVEMan 53650 20 25 ['CHROM', 'START_POS', 'END_POS', 'ID', 'REF', 'ALT', 'QUAL', 'FILTER', 'ASMD', 'ASRD', 'CLPM', 'DP', 'DS', 'GP', 'MP', 'SG', 'SNP', 'SP', 'TG', 'TP']\n",
      "['e2e8315f-21fa-4476-8e28-1d625649d3ca', 'wgs', 'sanger_raw_pindel', 'raw_somatic_mutation', 'vcf', 'gz']\n"
     ]
    },
    {
     "name": "stderr",
     "output_type": "stream",
     "text": [
      "[W::hts_idx_load3] The index file is older than the data file: /data/projects/GDC_Cancer_Wise/New_data/Brain/Downloaded_files/VCF/7b46d6fe-fdf0-4d10-a235-c1a1791fd953/e2e8315f-21fa-4476-8e28-1d625649d3ca.wgs.sanger_raw_pindel.raw_somatic_mutation.vcf.gz.tbi\n"
     ]
    },
    {
     "name": "stdout",
     "output_type": "stream",
     "text": [
      "e2e8315f-21fa-4476-8e28-1d625649d3ca sanger_raw_pindel 1089501 17 144 ['CHROM', 'START_POS', 'END_POS', 'ID', 'REF', 'ALT', 'QUAL', 'FILTER', 'FF017', 'LEN', 'OLD_VARIANT', 'PC', 'RE', 'REP', 'RS', 'S1', 'S2']\n",
      "['d101eddd-ad00-4a42-9a95-ece5bd2332a2', 'wgs', 'sanger_raw_pindel', 'raw_somatic_mutation', 'vcf', 'gz']\n"
     ]
    },
    {
     "name": "stderr",
     "output_type": "stream",
     "text": [
      "[W::hts_idx_load3] The index file is older than the data file: /data/projects/GDC_Cancer_Wise/New_data/Brain/Downloaded_files/VCF/b77ca32a-e73f-470f-8c2e-0803ea7fbe06/d101eddd-ad00-4a42-9a95-ece5bd2332a2.wgs.sanger_raw_pindel.raw_somatic_mutation.vcf.gz.tbi\n"
     ]
    },
    {
     "name": "stdout",
     "output_type": "stream",
     "text": [
      "d101eddd-ad00-4a42-9a95-ece5bd2332a2 sanger_raw_pindel 808107 17 114 ['CHROM', 'START_POS', 'END_POS', 'ID', 'REF', 'ALT', 'QUAL', 'FILTER', 'FF017', 'LEN', 'OLD_VARIANT', 'PC', 'RE', 'REP', 'RS', 'S1', 'S2']\n",
      "['6e784527-f65d-48bc-9eb8-5f14230bb909', 'wgs', 'sanger_raw_pindel', 'raw_somatic_mutation', 'vcf', 'gz']\n"
     ]
    },
    {
     "name": "stderr",
     "output_type": "stream",
     "text": [
      "[W::hts_idx_load3] The index file is older than the data file: /data/projects/GDC_Cancer_Wise/New_data/Brain/Downloaded_files/VCF/96fb68cb-f2b3-41f6-ad1c-078fd1dd2562/6e784527-f65d-48bc-9eb8-5f14230bb909.wgs.sanger_raw_pindel.raw_somatic_mutation.vcf.gz.tbi\n"
     ]
    },
    {
     "name": "stdout",
     "output_type": "stream",
     "text": [
      "6e784527-f65d-48bc-9eb8-5f14230bb909 sanger_raw_pindel 835998 17 123 ['CHROM', 'START_POS', 'END_POS', 'ID', 'REF', 'ALT', 'QUAL', 'FILTER', 'FF017', 'LEN', 'OLD_VARIANT', 'PC', 'RE', 'REP', 'RS', 'S1', 'S2']\n",
      "['cb2bb421-2b7c-4c1c-9020-4e7012b3fc2c', 'wgs', 'CaVEMan', 'raw_somatic_mutation', 'vcf', 'gz']\n",
      "cb2bb421-2b7c-4c1c-9020-4e7012b3fc2c CaVEMan 238954 20 65 ['CHROM', 'START_POS', 'END_POS', 'ID', 'REF', 'ALT', 'QUAL', 'FILTER', 'ASMD', 'ASRD', 'CLPM', 'DP', 'DS', 'GP', 'MP', 'SG', 'SNP', 'SP', 'TG', 'TP']\n",
      "['3adc47fa-b27a-4df1-98ab-201ebab3c6bf', 'wgs', 'sanger_raw_pindel', 'raw_somatic_mutation', 'vcf', 'gz']\n"
     ]
    },
    {
     "name": "stderr",
     "output_type": "stream",
     "text": [
      "[W::hts_idx_load3] The index file is older than the data file: /data/projects/GDC_Cancer_Wise/New_data/Brain/Downloaded_files/VCF/4fcff45b-bd6c-40d8-b5e3-8ec1ce89644d/3adc47fa-b27a-4df1-98ab-201ebab3c6bf.wgs.sanger_raw_pindel.raw_somatic_mutation.vcf.gz.tbi\n"
     ]
    },
    {
     "name": "stdout",
     "output_type": "stream",
     "text": [
      "3adc47fa-b27a-4df1-98ab-201ebab3c6bf sanger_raw_pindel 1260924 17 166 ['CHROM', 'START_POS', 'END_POS', 'ID', 'REF', 'ALT', 'QUAL', 'FILTER', 'FF017', 'LEN', 'OLD_VARIANT', 'PC', 'RE', 'REP', 'RS', 'S1', 'S2']\n",
      "['535e0e9e-9757-45b3-aafd-2b80908de134', 'wgs', 'sanger_raw_pindel', 'raw_somatic_mutation', 'vcf', 'gz']\n"
     ]
    },
    {
     "name": "stderr",
     "output_type": "stream",
     "text": [
      "[W::hts_idx_load3] The index file is older than the data file: /data/projects/GDC_Cancer_Wise/New_data/Brain/Downloaded_files/VCF/0a022f1a-d055-4bb2-a416-b14102fd6103/535e0e9e-9757-45b3-aafd-2b80908de134.wgs.sanger_raw_pindel.raw_somatic_mutation.vcf.gz.tbi\n"
     ]
    },
    {
     "name": "stdout",
     "output_type": "stream",
     "text": [
      "535e0e9e-9757-45b3-aafd-2b80908de134 sanger_raw_pindel 876131 17 133 ['CHROM', 'START_POS', 'END_POS', 'ID', 'REF', 'ALT', 'QUAL', 'FILTER', 'FF017', 'LEN', 'OLD_VARIANT', 'PC', 'RE', 'REP', 'RS', 'S1', 'S2']\n",
      "['3e28bc65-988d-4112-9397-7773ec79a9a9', 'wgs', 'CaVEMan', 'raw_somatic_mutation', 'vcf', 'gz']\n"
     ]
    },
    {
     "name": "stderr",
     "output_type": "stream",
     "text": [
      "[W::hts_idx_load3] The index file is older than the data file: /data/projects/GDC_Cancer_Wise/New_data/Brain/Downloaded_files/VCF/73c6aa80-80c4-4f0d-8887-5aaa97450ac0/3e28bc65-988d-4112-9397-7773ec79a9a9.wgs.CaVEMan.raw_somatic_mutation.vcf.gz.tbi\n"
     ]
    },
    {
     "name": "stdout",
     "output_type": "stream",
     "text": [
      "3e28bc65-988d-4112-9397-7773ec79a9a9 CaVEMan 257218 20 72 ['CHROM', 'START_POS', 'END_POS', 'ID', 'REF', 'ALT', 'QUAL', 'FILTER', 'ASMD', 'ASRD', 'CLPM', 'DP', 'DS', 'GP', 'MP', 'SG', 'SNP', 'SP', 'TG', 'TP']\n",
      "['5d65b3c0-5c29-48aa-b6fb-37baf78fe409', 'wgs', 'CaVEMan', 'raw_somatic_mutation', 'vcf', 'gz']\n"
     ]
    },
    {
     "name": "stderr",
     "output_type": "stream",
     "text": [
      "[W::hts_idx_load3] The index file is older than the data file: /data/projects/GDC_Cancer_Wise/New_data/Brain/Downloaded_files/VCF/1b98d811-8836-4bed-8b31-ac03c062d262/5d65b3c0-5c29-48aa-b6fb-37baf78fe409.wgs.CaVEMan.raw_somatic_mutation.vcf.gz.tbi\n"
     ]
    },
    {
     "name": "stdout",
     "output_type": "stream",
     "text": [
      "5d65b3c0-5c29-48aa-b6fb-37baf78fe409 CaVEMan 49789 20 11 ['CHROM', 'START_POS', 'END_POS', 'ID', 'REF', 'ALT', 'QUAL', 'FILTER', 'ASMD', 'ASRD', 'CLPM', 'DP', 'DS', 'GP', 'MP', 'SG', 'SNP', 'SP', 'TG', 'TP']\n",
      "['a6302a12-8657-44b4-95c1-3fbeb0cf9bf1', 'wgs', 'CaVEMan', 'raw_somatic_mutation', 'vcf', 'gz']\n",
      "a6302a12-8657-44b4-95c1-3fbeb0cf9bf1 CaVEMan 219845 20 55 ['CHROM', 'START_POS', 'END_POS', 'ID', 'REF', 'ALT', 'QUAL', 'FILTER', 'ASMD', 'ASRD', 'CLPM', 'DP', 'DS', 'GP', 'MP', 'SG', 'SNP', 'SP', 'TG', 'TP']\n",
      "['8bac8b71-abb7-4ecc-9b61-7112fed7da15', 'wgs', 'CaVEMan', 'raw_somatic_mutation', 'vcf', 'gz']\n"
     ]
    },
    {
     "name": "stderr",
     "output_type": "stream",
     "text": [
      "[W::hts_idx_load3] The index file is older than the data file: /data/projects/GDC_Cancer_Wise/New_data/Brain/Downloaded_files/VCF/9e03fd42-3777-42b2-97b2-2dc8414410d1/8bac8b71-abb7-4ecc-9b61-7112fed7da15.wgs.CaVEMan.raw_somatic_mutation.vcf.gz.tbi\n"
     ]
    },
    {
     "name": "stdout",
     "output_type": "stream",
     "text": [
      "8bac8b71-abb7-4ecc-9b61-7112fed7da15 CaVEMan 41545 20 21 ['CHROM', 'START_POS', 'END_POS', 'ID', 'REF', 'ALT', 'QUAL', 'FILTER', 'ASMD', 'ASRD', 'CLPM', 'DP', 'DS', 'GP', 'MP', 'SG', 'SNP', 'SP', 'TG', 'TP']\n",
      "['432e2c06-8ce1-462b-84cf-10e601601654', 'wgs', 'sanger_raw_pindel', 'raw_somatic_mutation', 'vcf', 'gz']\n"
     ]
    },
    {
     "name": "stderr",
     "output_type": "stream",
     "text": [
      "[W::hts_idx_load3] The index file is older than the data file: /data/projects/GDC_Cancer_Wise/New_data/Brain/Downloaded_files/VCF/f499d03c-1cea-4ee7-a441-4fbfd79209a7/432e2c06-8ce1-462b-84cf-10e601601654.wgs.sanger_raw_pindel.raw_somatic_mutation.vcf.gz.tbi\n"
     ]
    },
    {
     "name": "stdout",
     "output_type": "stream",
     "text": [
      "432e2c06-8ce1-462b-84cf-10e601601654 sanger_raw_pindel 918045 17 130 ['CHROM', 'START_POS', 'END_POS', 'ID', 'REF', 'ALT', 'QUAL', 'FILTER', 'FF017', 'LEN', 'OLD_VARIANT', 'PC', 'RE', 'REP', 'RS', 'S1', 'S2']\n",
      "['c12f0212-31ee-4aa2-88c4-d29c7c9059cb', 'wgs', 'CaVEMan', 'raw_somatic_mutation', 'vcf', 'gz']\n"
     ]
    },
    {
     "name": "stderr",
     "output_type": "stream",
     "text": [
      "[W::hts_idx_load3] The index file is older than the data file: /data/projects/GDC_Cancer_Wise/New_data/Brain/Downloaded_files/VCF/22df19b0-0db0-4ce5-a318-fd813b67d297/c12f0212-31ee-4aa2-88c4-d29c7c9059cb.wgs.CaVEMan.raw_somatic_mutation.vcf.gz.tbi\n"
     ]
    },
    {
     "name": "stdout",
     "output_type": "stream",
     "text": [
      "c12f0212-31ee-4aa2-88c4-d29c7c9059cb CaVEMan 44472 20 16 ['CHROM', 'START_POS', 'END_POS', 'ID', 'REF', 'ALT', 'QUAL', 'FILTER', 'ASMD', 'ASRD', 'CLPM', 'DP', 'DS', 'GP', 'MP', 'SG', 'SNP', 'SP', 'TG', 'TP']\n",
      "['7577bbca-7ad7-4058-bf0e-787b38c673aa', 'wgs', 'CaVEMan', 'raw_somatic_mutation', 'vcf', 'gz']\n",
      "7577bbca-7ad7-4058-bf0e-787b38c673aa CaVEMan 79844 20 22 ['CHROM', 'START_POS', 'END_POS', 'ID', 'REF', 'ALT', 'QUAL', 'FILTER', 'ASMD', 'ASRD', 'CLPM', 'DP', 'DS', 'GP', 'MP', 'SG', 'SNP', 'SP', 'TG', 'TP']\n",
      "['2943b759-cf0c-4459-9178-f49827622f1b', 'wgs', 'CaVEMan', 'raw_somatic_mutation', 'vcf', 'gz']\n",
      "2943b759-cf0c-4459-9178-f49827622f1b CaVEMan 344643 20 91 ['CHROM', 'START_POS', 'END_POS', 'ID', 'REF', 'ALT', 'QUAL', 'FILTER', 'ASMD', 'ASRD', 'CLPM', 'DP', 'DS', 'GP', 'MP', 'SG', 'SNP', 'SP', 'TG', 'TP']\n",
      "['db856976-cd46-494d-bdc8-b4f3608cf10d', 'wgs', 'CaVEMan', 'raw_somatic_mutation', 'vcf', 'gz']\n"
     ]
    },
    {
     "name": "stderr",
     "output_type": "stream",
     "text": [
      "[W::hts_idx_load3] The index file is older than the data file: /data/projects/GDC_Cancer_Wise/New_data/Brain/Downloaded_files/VCF/b53c8445-1758-44b0-9ea0-f91883cd73a4/db856976-cd46-494d-bdc8-b4f3608cf10d.wgs.CaVEMan.raw_somatic_mutation.vcf.gz.tbi\n"
     ]
    },
    {
     "name": "stdout",
     "output_type": "stream",
     "text": [
      "db856976-cd46-494d-bdc8-b4f3608cf10d CaVEMan 274742 20 48 ['CHROM', 'START_POS', 'END_POS', 'ID', 'REF', 'ALT', 'QUAL', 'FILTER', 'ASMD', 'ASRD', 'CLPM', 'DP', 'DS', 'GP', 'MP', 'SG', 'SNP', 'SP', 'TG', 'TP']\n",
      "['1cc1ee58-e45c-4d85-b163-6d097f9d8f1f', 'wgs', 'CaVEMan', 'raw_somatic_mutation', 'vcf', 'gz']\n"
     ]
    },
    {
     "name": "stderr",
     "output_type": "stream",
     "text": [
      "[W::hts_idx_load3] The index file is older than the data file: /data/projects/GDC_Cancer_Wise/New_data/Brain/Downloaded_files/VCF/4a47d21e-a586-4916-be9a-e81367b199f3/1cc1ee58-e45c-4d85-b163-6d097f9d8f1f.wgs.CaVEMan.raw_somatic_mutation.vcf.gz.tbi\n"
     ]
    },
    {
     "name": "stdout",
     "output_type": "stream",
     "text": [
      "1cc1ee58-e45c-4d85-b163-6d097f9d8f1f CaVEMan 55554 20 23 ['CHROM', 'START_POS', 'END_POS', 'ID', 'REF', 'ALT', 'QUAL', 'FILTER', 'ASMD', 'ASRD', 'CLPM', 'DP', 'DS', 'GP', 'MP', 'SG', 'SNP', 'SP', 'TG', 'TP']\n",
      "['12d99dd9-7d89-4964-8077-9873109a0303', 'wgs', 'CaVEMan', 'raw_somatic_mutation', 'vcf', 'gz']\n"
     ]
    },
    {
     "name": "stderr",
     "output_type": "stream",
     "text": [
      "[W::hts_idx_load3] The index file is older than the data file: /data/projects/GDC_Cancer_Wise/New_data/Brain/Downloaded_files/VCF/a8226b63-1d93-4f87-a723-73b1e8631609/12d99dd9-7d89-4964-8077-9873109a0303.wgs.CaVEMan.raw_somatic_mutation.vcf.gz.tbi\n"
     ]
    },
    {
     "name": "stdout",
     "output_type": "stream",
     "text": [
      "12d99dd9-7d89-4964-8077-9873109a0303 CaVEMan 303620 20 75 ['CHROM', 'START_POS', 'END_POS', 'ID', 'REF', 'ALT', 'QUAL', 'FILTER', 'ASMD', 'ASRD', 'CLPM', 'DP', 'DS', 'GP', 'MP', 'SG', 'SNP', 'SP', 'TG', 'TP']\n",
      "['455fc2b4-b5da-40ba-9330-b8eed45ef66b', 'wgs', 'sanger_raw_pindel', 'raw_somatic_mutation', 'vcf', 'gz']\n",
      "455fc2b4-b5da-40ba-9330-b8eed45ef66b sanger_raw_pindel 866771 17 119 ['CHROM', 'START_POS', 'END_POS', 'ID', 'REF', 'ALT', 'QUAL', 'FILTER', 'FF017', 'LEN', 'OLD_VARIANT', 'PC', 'RE', 'REP', 'RS', 'S1', 'S2']\n",
      "['a08a494c-e685-4f80-981f-68a0d19b9a38', 'wgs', 'CaVEMan', 'raw_somatic_mutation', 'vcf', 'gz']\n",
      "a08a494c-e685-4f80-981f-68a0d19b9a38 CaVEMan 50412 20 14 ['CHROM', 'START_POS', 'END_POS', 'ID', 'REF', 'ALT', 'QUAL', 'FILTER', 'ASMD', 'ASRD', 'CLPM', 'DP', 'DS', 'GP', 'MP', 'SG', 'SNP', 'SP', 'TG', 'TP']\n",
      "['ca52ea0e-5021-463b-8821-5e7c765812ff', 'wgs', 'sanger_raw_pindel', 'raw_somatic_mutation', 'vcf', 'gz']\n",
      "ca52ea0e-5021-463b-8821-5e7c765812ff sanger_raw_pindel 1272625 17 171 ['CHROM', 'START_POS', 'END_POS', 'ID', 'REF', 'ALT', 'QUAL', 'FILTER', 'FF017', 'LEN', 'OLD_VARIANT', 'PC', 'RE', 'REP', 'RS', 'S1', 'S2']\n",
      "['1bff298c-522b-465a-aa6e-8df3fd857ed3', 'wgs', 'CaVEMan', 'raw_somatic_mutation', 'vcf', 'gz']\n",
      "1bff298c-522b-465a-aa6e-8df3fd857ed3 CaVEMan 48382 20 14 ['CHROM', 'START_POS', 'END_POS', 'ID', 'REF', 'ALT', 'QUAL', 'FILTER', 'ASMD', 'ASRD', 'CLPM', 'DP', 'DS', 'GP', 'MP', 'SG', 'SNP', 'SP', 'TG', 'TP']\n",
      "['07f93ac0-50e0-4c1d-b4da-898062a5b6b8', 'wgs', 'CaVEMan', 'raw_somatic_mutation', 'vcf', 'gz']\n",
      "07f93ac0-50e0-4c1d-b4da-898062a5b6b8 CaVEMan 57346 20 25 ['CHROM', 'START_POS', 'END_POS', 'ID', 'REF', 'ALT', 'QUAL', 'FILTER', 'ASMD', 'ASRD', 'CLPM', 'DP', 'DS', 'GP', 'MP', 'SG', 'SNP', 'SP', 'TG', 'TP']\n",
      "['3a531416-d811-4dea-9507-cd6286a85a7f', 'wgs', 'sanger_raw_pindel', 'raw_somatic_mutation', 'vcf', 'gz']\n",
      "3a531416-d811-4dea-9507-cd6286a85a7f sanger_raw_pindel 876290 17 129 ['CHROM', 'START_POS', 'END_POS', 'ID', 'REF', 'ALT', 'QUAL', 'FILTER', 'FF017', 'LEN', 'OLD_VARIANT', 'PC', 'RE', 'REP', 'RS', 'S1', 'S2']\n",
      "['5443dde1-df0d-4ddd-8a42-c9b8c17bf30c', 'wgs', 'CaVEMan', 'raw_somatic_mutation', 'vcf', 'gz']\n",
      "5443dde1-df0d-4ddd-8a42-c9b8c17bf30c CaVEMan 271205 20 50 ['CHROM', 'START_POS', 'END_POS', 'ID', 'REF', 'ALT', 'QUAL', 'FILTER', 'ASMD', 'ASRD', 'CLPM', 'DP', 'DS', 'GP', 'MP', 'SG', 'SNP', 'SP', 'TG', 'TP']\n",
      "['9a3edc2a-0eb3-4d88-965d-2801cd19df51', 'wgs', 'sanger_raw_pindel', 'raw_somatic_mutation', 'vcf', 'gz']\n",
      "9a3edc2a-0eb3-4d88-965d-2801cd19df51 sanger_raw_pindel 728647 17 116 ['CHROM', 'START_POS', 'END_POS', 'ID', 'REF', 'ALT', 'QUAL', 'FILTER', 'FF017', 'LEN', 'OLD_VARIANT', 'PC', 'RE', 'REP', 'RS', 'S1', 'S2']\n",
      "['447a08c8-3488-45d1-9262-23c42341296f', 'wgs', 'CaVEMan', 'raw_somatic_mutation', 'vcf', 'gz']\n",
      "447a08c8-3488-45d1-9262-23c42341296f CaVEMan 61651 20 10 ['CHROM', 'START_POS', 'END_POS', 'ID', 'REF', 'ALT', 'QUAL', 'FILTER', 'ASMD', 'ASRD', 'CLPM', 'DP', 'DS', 'GP', 'MP', 'SG', 'SNP', 'SP', 'TG', 'TP']\n",
      "['cfecd6d7-930a-40f1-8161-f2b4a37dc9fb', 'wgs', 'CaVEMan', 'raw_somatic_mutation', 'vcf', 'gz']\n"
     ]
    },
    {
     "name": "stderr",
     "output_type": "stream",
     "text": [
      "[W::hts_idx_load3] The index file is older than the data file: /data/projects/GDC_Cancer_Wise/New_data/Brain/Downloaded_files/VCF/e3eb5796-50c3-4743-b865-ea054699b9a9/cfecd6d7-930a-40f1-8161-f2b4a37dc9fb.wgs.CaVEMan.raw_somatic_mutation.vcf.gz.tbi\n"
     ]
    },
    {
     "name": "stdout",
     "output_type": "stream",
     "text": [
      "cfecd6d7-930a-40f1-8161-f2b4a37dc9fb CaVEMan 44911 20 20 ['CHROM', 'START_POS', 'END_POS', 'ID', 'REF', 'ALT', 'QUAL', 'FILTER', 'ASMD', 'ASRD', 'CLPM', 'DP', 'DS', 'GP', 'MP', 'SG', 'SNP', 'SP', 'TG', 'TP']\n",
      "['535e0e9e-9757-45b3-aafd-2b80908de134', 'wgs', 'CaVEMan', 'raw_somatic_mutation', 'vcf', 'gz']\n",
      "535e0e9e-9757-45b3-aafd-2b80908de134 CaVEMan 66961 20 13 ['CHROM', 'START_POS', 'END_POS', 'ID', 'REF', 'ALT', 'QUAL', 'FILTER', 'ASMD', 'ASRD', 'CLPM', 'DP', 'DS', 'GP', 'MP', 'SG', 'SNP', 'SP', 'TG', 'TP']\n",
      "['bb91fbd6-7e62-4a15-9e60-3d95e26f4aec', 'wgs', 'sanger_raw_pindel', 'raw_somatic_mutation', 'vcf', 'gz']\n",
      "bb91fbd6-7e62-4a15-9e60-3d95e26f4aec sanger_raw_pindel 892449 17 123 ['CHROM', 'START_POS', 'END_POS', 'ID', 'REF', 'ALT', 'QUAL', 'FILTER', 'FF017', 'LEN', 'OLD_VARIANT', 'PC', 'RE', 'REP', 'RS', 'S1', 'S2']\n",
      "['b4b13f9e-a571-43dd-86d7-6c01601ca3a8', 'wgs', 'sanger_raw_pindel', 'raw_somatic_mutation', 'vcf', 'gz']\n",
      "b4b13f9e-a571-43dd-86d7-6c01601ca3a8 sanger_raw_pindel 874868 17 118 ['CHROM', 'START_POS', 'END_POS', 'ID', 'REF', 'ALT', 'QUAL', 'FILTER', 'FF017', 'LEN', 'OLD_VARIANT', 'PC', 'RE', 'REP', 'RS', 'S1', 'S2']\n",
      "['09fc667c-0462-49c1-8ab6-a0ce2a80b3c9', 'wgs', 'sanger_raw_pindel', 'raw_somatic_mutation', 'vcf', 'gz']\n",
      "09fc667c-0462-49c1-8ab6-a0ce2a80b3c9 sanger_raw_pindel 883171 17 124 ['CHROM', 'START_POS', 'END_POS', 'ID', 'REF', 'ALT', 'QUAL', 'FILTER', 'FF017', 'LEN', 'OLD_VARIANT', 'PC', 'RE', 'REP', 'RS', 'S1', 'S2']\n",
      "['053e38af-bce4-4e7a-84a2-f5badeb4ce7d', 'wgs', 'CaVEMan', 'raw_somatic_mutation', 'vcf', 'gz']\n"
     ]
    },
    {
     "name": "stderr",
     "output_type": "stream",
     "text": [
      "[W::hts_idx_load3] The index file is older than the data file: /data/projects/GDC_Cancer_Wise/New_data/Brain/Downloaded_files/VCF/1659b8c3-f161-4aa6-87f3-29288f7aed61/053e38af-bce4-4e7a-84a2-f5badeb4ce7d.wgs.CaVEMan.raw_somatic_mutation.vcf.gz.tbi\n"
     ]
    },
    {
     "name": "stdout",
     "output_type": "stream",
     "text": [
      "053e38af-bce4-4e7a-84a2-f5badeb4ce7d CaVEMan 53008 20 17 ['CHROM', 'START_POS', 'END_POS', 'ID', 'REF', 'ALT', 'QUAL', 'FILTER', 'ASMD', 'ASRD', 'CLPM', 'DP', 'DS', 'GP', 'MP', 'SG', 'SNP', 'SP', 'TG', 'TP']\n",
      "['d716a0ce-10ef-4c47-912a-9ba374898ffe', 'wgs', 'CaVEMan', 'raw_somatic_mutation', 'vcf', 'gz']\n",
      "d716a0ce-10ef-4c47-912a-9ba374898ffe CaVEMan 54212 20 9 ['CHROM', 'START_POS', 'END_POS', 'ID', 'REF', 'ALT', 'QUAL', 'FILTER', 'ASMD', 'ASRD', 'CLPM', 'DP', 'DS', 'GP', 'MP', 'SG', 'SNP', 'SP', 'TG', 'TP']\n",
      "['27dbf455-43fa-452c-aea6-494c65fc06af', 'wgs', 'CaVEMan', 'raw_somatic_mutation', 'vcf', 'gz']\n",
      "27dbf455-43fa-452c-aea6-494c65fc06af CaVEMan 56430 20 14 ['CHROM', 'START_POS', 'END_POS', 'ID', 'REF', 'ALT', 'QUAL', 'FILTER', 'ASMD', 'ASRD', 'CLPM', 'DP', 'DS', 'GP', 'MP', 'SG', 'SNP', 'SP', 'TG', 'TP']\n",
      "['3b89e48e-3e35-402f-b7f0-6e773839de4e', 'wgs', 'sanger_raw_pindel', 'raw_somatic_mutation', 'vcf', 'gz']\n"
     ]
    },
    {
     "name": "stderr",
     "output_type": "stream",
     "text": [
      "[W::hts_idx_load3] The index file is older than the data file: /data/projects/GDC_Cancer_Wise/New_data/Brain/Downloaded_files/VCF/c1a4a69c-8465-45ec-9faf-bb89895117b2/3b89e48e-3e35-402f-b7f0-6e773839de4e.wgs.sanger_raw_pindel.raw_somatic_mutation.vcf.gz.tbi\n"
     ]
    },
    {
     "name": "stdout",
     "output_type": "stream",
     "text": [
      "3b89e48e-3e35-402f-b7f0-6e773839de4e sanger_raw_pindel 899264 17 129 ['CHROM', 'START_POS', 'END_POS', 'ID', 'REF', 'ALT', 'QUAL', 'FILTER', 'FF017', 'LEN', 'OLD_VARIANT', 'PC', 'RE', 'REP', 'RS', 'S1', 'S2']\n",
      "['a58b5cd5-4625-4070-b672-4eb92cd7775c', 'wgs', 'CaVEMan', 'raw_somatic_mutation', 'vcf', 'gz']\n",
      "a58b5cd5-4625-4070-b672-4eb92cd7775c CaVEMan 277724 20 61 ['CHROM', 'START_POS', 'END_POS', 'ID', 'REF', 'ALT', 'QUAL', 'FILTER', 'ASMD', 'ASRD', 'CLPM', 'DP', 'DS', 'GP', 'MP', 'SG', 'SNP', 'SP', 'TG', 'TP']\n",
      "['24abc004-6712-4df9-83f2-bd98dcc6ea5e', 'wgs', 'sanger_raw_pindel', 'raw_somatic_mutation', 'vcf', 'gz']\n",
      "24abc004-6712-4df9-83f2-bd98dcc6ea5e sanger_raw_pindel 859581 17 133 ['CHROM', 'START_POS', 'END_POS', 'ID', 'REF', 'ALT', 'QUAL', 'FILTER', 'FF017', 'LEN', 'OLD_VARIANT', 'PC', 'RE', 'REP', 'RS', 'S1', 'S2']\n",
      "['ce08aa4a-de2d-44f3-88ed-84313aa294af', 'wgs', 'sanger_raw_pindel', 'raw_somatic_mutation', 'vcf', 'gz']\n"
     ]
    },
    {
     "name": "stderr",
     "output_type": "stream",
     "text": [
      "[W::hts_idx_load3] The index file is older than the data file: /data/projects/GDC_Cancer_Wise/New_data/Brain/Downloaded_files/VCF/e7f4cc4f-4423-4cef-bf1a-8d815780bf19/ce08aa4a-de2d-44f3-88ed-84313aa294af.wgs.sanger_raw_pindel.raw_somatic_mutation.vcf.gz.tbi\n"
     ]
    },
    {
     "name": "stdout",
     "output_type": "stream",
     "text": [
      "ce08aa4a-de2d-44f3-88ed-84313aa294af sanger_raw_pindel 1114153 17 144 ['CHROM', 'START_POS', 'END_POS', 'ID', 'REF', 'ALT', 'QUAL', 'FILTER', 'FF017', 'LEN', 'OLD_VARIANT', 'PC', 'RE', 'REP', 'RS', 'S1', 'S2']\n",
      "['d214490c-9f1c-4228-8cbc-7c8238942041', 'wgs', 'CaVEMan', 'raw_somatic_mutation', 'vcf', 'gz']\n"
     ]
    },
    {
     "name": "stderr",
     "output_type": "stream",
     "text": [
      "[W::hts_idx_load3] The index file is older than the data file: /data/projects/GDC_Cancer_Wise/New_data/Brain/Downloaded_files/VCF/434c318f-5467-4523-9266-e6347e397c34/d214490c-9f1c-4228-8cbc-7c8238942041.wgs.CaVEMan.raw_somatic_mutation.vcf.gz.tbi\n"
     ]
    },
    {
     "name": "stdout",
     "output_type": "stream",
     "text": [
      "d214490c-9f1c-4228-8cbc-7c8238942041 CaVEMan 73213 20 30 ['CHROM', 'START_POS', 'END_POS', 'ID', 'REF', 'ALT', 'QUAL', 'FILTER', 'ASMD', 'ASRD', 'CLPM', 'DP', 'DS', 'GP', 'MP', 'SG', 'SNP', 'SP', 'TG', 'TP']\n",
      "['4f11a51f-c10a-4e56-b193-4e8d1cadf21c', 'wgs', 'sanger_raw_pindel', 'raw_somatic_mutation', 'vcf', 'gz']\n"
     ]
    },
    {
     "name": "stderr",
     "output_type": "stream",
     "text": [
      "[W::hts_idx_load3] The index file is older than the data file: /data/projects/GDC_Cancer_Wise/New_data/Brain/Downloaded_files/VCF/908b9c51-5787-47ea-8895-805eeeb8b49e/4f11a51f-c10a-4e56-b193-4e8d1cadf21c.wgs.sanger_raw_pindel.raw_somatic_mutation.vcf.gz.tbi\n"
     ]
    },
    {
     "name": "stdout",
     "output_type": "stream",
     "text": [
      "4f11a51f-c10a-4e56-b193-4e8d1cadf21c sanger_raw_pindel 887540 17 116 ['CHROM', 'START_POS', 'END_POS', 'ID', 'REF', 'ALT', 'QUAL', 'FILTER', 'FF017', 'LEN', 'OLD_VARIANT', 'PC', 'RE', 'REP', 'RS', 'S1', 'S2']\n",
      "['8db95363-6eb3-4a90-affd-0c948a05c27c', 'wgs', 'sanger_raw_pindel', 'raw_somatic_mutation', 'vcf', 'gz']\n",
      "8db95363-6eb3-4a90-affd-0c948a05c27c sanger_raw_pindel 855429 17 120 ['CHROM', 'START_POS', 'END_POS', 'ID', 'REF', 'ALT', 'QUAL', 'FILTER', 'FF017', 'LEN', 'OLD_VARIANT', 'PC', 'RE', 'REP', 'RS', 'S1', 'S2']\n",
      "['c6b9e176-a36b-4eb2-aa15-6a0155c1aeb5', 'wgs', 'sanger_raw_pindel', 'raw_somatic_mutation', 'vcf', 'gz']\n",
      "c6b9e176-a36b-4eb2-aa15-6a0155c1aeb5 sanger_raw_pindel 879765 17 120 ['CHROM', 'START_POS', 'END_POS', 'ID', 'REF', 'ALT', 'QUAL', 'FILTER', 'FF017', 'LEN', 'OLD_VARIANT', 'PC', 'RE', 'REP', 'RS', 'S1', 'S2']\n",
      "['fdfbb80c-8e66-499a-ac59-f311d6f4b6fa', 'wgs', 'sanger_raw_pindel', 'raw_somatic_mutation', 'vcf', 'gz']\n",
      "fdfbb80c-8e66-499a-ac59-f311d6f4b6fa sanger_raw_pindel 883645 17 129 ['CHROM', 'START_POS', 'END_POS', 'ID', 'REF', 'ALT', 'QUAL', 'FILTER', 'FF017', 'LEN', 'OLD_VARIANT', 'PC', 'RE', 'REP', 'RS', 'S1', 'S2']\n",
      "['6e42d5ce-7b2f-40d1-82af-1b29f27b89d7', 'wgs', 'CaVEMan', 'raw_somatic_mutation', 'vcf', 'gz']\n",
      "6e42d5ce-7b2f-40d1-82af-1b29f27b89d7 CaVEMan 46884 20 14 ['CHROM', 'START_POS', 'END_POS', 'ID', 'REF', 'ALT', 'QUAL', 'FILTER', 'ASMD', 'ASRD', 'CLPM', 'DP', 'DS', 'GP', 'MP', 'SG', 'SNP', 'SP', 'TG', 'TP']\n",
      "['2eb74322-a9f0-4dec-befc-b086386102a5', 'wgs', 'sanger_raw_pindel', 'raw_somatic_mutation', 'vcf', 'gz']\n",
      "2eb74322-a9f0-4dec-befc-b086386102a5 sanger_raw_pindel 887842 17 132 ['CHROM', 'START_POS', 'END_POS', 'ID', 'REF', 'ALT', 'QUAL', 'FILTER', 'FF017', 'LEN', 'OLD_VARIANT', 'PC', 'RE', 'REP', 'RS', 'S1', 'S2']\n",
      "['b0a32ca7-5793-4f50-97f8-8adf5254a205', 'wgs', 'sanger_raw_pindel', 'raw_somatic_mutation', 'vcf', 'gz']\n",
      "b0a32ca7-5793-4f50-97f8-8adf5254a205 sanger_raw_pindel 869248 17 125 ['CHROM', 'START_POS', 'END_POS', 'ID', 'REF', 'ALT', 'QUAL', 'FILTER', 'FF017', 'LEN', 'OLD_VARIANT', 'PC', 'RE', 'REP', 'RS', 'S1', 'S2']\n",
      "['0f396f9e-2143-4473-a4df-8f624906961a', 'wgs', 'CaVEMan', 'raw_somatic_mutation', 'vcf', 'gz']\n",
      "0f396f9e-2143-4473-a4df-8f624906961a CaVEMan 60095 20 22 ['CHROM', 'START_POS', 'END_POS', 'ID', 'REF', 'ALT', 'QUAL', 'FILTER', 'ASMD', 'ASRD', 'CLPM', 'DP', 'DS', 'GP', 'MP', 'SG', 'SNP', 'SP', 'TG', 'TP']\n",
      "['309343e2-1a1b-4651-a0af-118cdc8abd75', 'wgs', 'CaVEMan', 'raw_somatic_mutation', 'vcf', 'gz']\n"
     ]
    },
    {
     "name": "stderr",
     "output_type": "stream",
     "text": [
      "[W::hts_idx_load3] The index file is older than the data file: /data/projects/GDC_Cancer_Wise/New_data/Brain/Downloaded_files/VCF/d0785d99-ae58-4428-ab83-57c6c3c4e91c/309343e2-1a1b-4651-a0af-118cdc8abd75.wgs.CaVEMan.raw_somatic_mutation.vcf.gz.tbi\n"
     ]
    },
    {
     "name": "stdout",
     "output_type": "stream",
     "text": [
      "309343e2-1a1b-4651-a0af-118cdc8abd75 CaVEMan 73134 20 19 ['CHROM', 'START_POS', 'END_POS', 'ID', 'REF', 'ALT', 'QUAL', 'FILTER', 'ASMD', 'ASRD', 'CLPM', 'DP', 'DS', 'GP', 'MP', 'SG', 'SNP', 'SP', 'TG', 'TP']\n",
      "['d716a0ce-10ef-4c47-912a-9ba374898ffe', 'wgs', 'sanger_raw_pindel', 'raw_somatic_mutation', 'vcf', 'gz']\n"
     ]
    },
    {
     "name": "stderr",
     "output_type": "stream",
     "text": [
      "[W::hts_idx_load3] The index file is older than the data file: /data/projects/GDC_Cancer_Wise/New_data/Brain/Downloaded_files/VCF/65365db3-7a6f-4474-a082-250e9ec836f5/d716a0ce-10ef-4c47-912a-9ba374898ffe.wgs.sanger_raw_pindel.raw_somatic_mutation.vcf.gz.tbi\n"
     ]
    },
    {
     "name": "stdout",
     "output_type": "stream",
     "text": [
      "d716a0ce-10ef-4c47-912a-9ba374898ffe sanger_raw_pindel 903094 17 124 ['CHROM', 'START_POS', 'END_POS', 'ID', 'REF', 'ALT', 'QUAL', 'FILTER', 'FF017', 'LEN', 'OLD_VARIANT', 'PC', 'RE', 'REP', 'RS', 'S1', 'S2']\n",
      "['4905d6d3-7595-43dd-98ae-f507ebb7dff4', 'wgs', 'CaVEMan', 'raw_somatic_mutation', 'vcf', 'gz']\n"
     ]
    },
    {
     "name": "stderr",
     "output_type": "stream",
     "text": [
      "[W::hts_idx_load3] The index file is older than the data file: /data/projects/GDC_Cancer_Wise/New_data/Brain/Downloaded_files/VCF/4b5230f0-947b-4400-93a6-9a97903e6010/4905d6d3-7595-43dd-98ae-f507ebb7dff4.wgs.CaVEMan.raw_somatic_mutation.vcf.gz.tbi\n"
     ]
    },
    {
     "name": "stdout",
     "output_type": "stream",
     "text": [
      "4905d6d3-7595-43dd-98ae-f507ebb7dff4 CaVEMan 231921 20 67 ['CHROM', 'START_POS', 'END_POS', 'ID', 'REF', 'ALT', 'QUAL', 'FILTER', 'ASMD', 'ASRD', 'CLPM', 'DP', 'DS', 'GP', 'MP', 'SG', 'SNP', 'SP', 'TG', 'TP']\n",
      "['9c9fa09e-4db1-4f42-b64b-7c7302b81c29', 'wgs', 'sanger_raw_pindel', 'raw_somatic_mutation', 'vcf', 'gz']\n"
     ]
    },
    {
     "name": "stderr",
     "output_type": "stream",
     "text": [
      "[W::hts_idx_load3] The index file is older than the data file: /data/projects/GDC_Cancer_Wise/New_data/Brain/Downloaded_files/VCF/fcec4432-6179-4e70-a08a-5592029d8424/9c9fa09e-4db1-4f42-b64b-7c7302b81c29.wgs.sanger_raw_pindel.raw_somatic_mutation.vcf.gz.tbi\n"
     ]
    },
    {
     "name": "stdout",
     "output_type": "stream",
     "text": [
      "9c9fa09e-4db1-4f42-b64b-7c7302b81c29 sanger_raw_pindel 916490 17 121 ['CHROM', 'START_POS', 'END_POS', 'ID', 'REF', 'ALT', 'QUAL', 'FILTER', 'FF017', 'LEN', 'OLD_VARIANT', 'PC', 'RE', 'REP', 'RS', 'S1', 'S2']\n",
      "['715eb351-d741-4dfe-95b4-6618c48ab5a9', 'wgs', 'sanger_raw_pindel', 'raw_somatic_mutation', 'vcf', 'gz']\n"
     ]
    },
    {
     "name": "stderr",
     "output_type": "stream",
     "text": [
      "[W::hts_idx_load3] The index file is older than the data file: /data/projects/GDC_Cancer_Wise/New_data/Brain/Downloaded_files/VCF/c5ce2d32-351a-4922-9857-413b5c42b1df/715eb351-d741-4dfe-95b4-6618c48ab5a9.wgs.sanger_raw_pindel.raw_somatic_mutation.vcf.gz.tbi\n"
     ]
    },
    {
     "name": "stdout",
     "output_type": "stream",
     "text": [
      "715eb351-d741-4dfe-95b4-6618c48ab5a9 sanger_raw_pindel 1236424 17 148 ['CHROM', 'START_POS', 'END_POS', 'ID', 'REF', 'ALT', 'QUAL', 'FILTER', 'FF017', 'LEN', 'OLD_VARIANT', 'PC', 'RE', 'REP', 'RS', 'S1', 'S2']\n",
      "['e570a351-99be-4019-9eae-4bda80014c63', 'wgs', 'CaVEMan', 'raw_somatic_mutation', 'vcf', 'gz']\n",
      "e570a351-99be-4019-9eae-4bda80014c63 CaVEMan 54621 20 17 ['CHROM', 'START_POS', 'END_POS', 'ID', 'REF', 'ALT', 'QUAL', 'FILTER', 'ASMD', 'ASRD', 'CLPM', 'DP', 'DS', 'GP', 'MP', 'SG', 'SNP', 'SP', 'TG', 'TP']\n",
      "['447a08c8-3488-45d1-9262-23c42341296f', 'wgs', 'sanger_raw_pindel', 'raw_somatic_mutation', 'vcf', 'gz']\n"
     ]
    },
    {
     "name": "stderr",
     "output_type": "stream",
     "text": [
      "[W::hts_idx_load3] The index file is older than the data file: /data/projects/GDC_Cancer_Wise/New_data/Brain/Downloaded_files/VCF/91b48c54-9a7a-4ed1-9426-100a0e35e43a/447a08c8-3488-45d1-9262-23c42341296f.wgs.sanger_raw_pindel.raw_somatic_mutation.vcf.gz.tbi\n"
     ]
    },
    {
     "name": "stdout",
     "output_type": "stream",
     "text": [
      "447a08c8-3488-45d1-9262-23c42341296f sanger_raw_pindel 908308 17 141 ['CHROM', 'START_POS', 'END_POS', 'ID', 'REF', 'ALT', 'QUAL', 'FILTER', 'FF017', 'LEN', 'OLD_VARIANT', 'PC', 'RE', 'REP', 'RS', 'S1', 'S2']\n",
      "['a6302a12-8657-44b4-95c1-3fbeb0cf9bf1', 'wgs', 'sanger_raw_pindel', 'raw_somatic_mutation', 'vcf', 'gz']\n"
     ]
    },
    {
     "name": "stderr",
     "output_type": "stream",
     "text": [
      "[W::hts_idx_load3] The index file is older than the data file: /data/projects/GDC_Cancer_Wise/New_data/Brain/Downloaded_files/VCF/1d4160c7-b457-4cd9-b1b8-298100dd4ea9/a6302a12-8657-44b4-95c1-3fbeb0cf9bf1.wgs.sanger_raw_pindel.raw_somatic_mutation.vcf.gz.tbi\n"
     ]
    },
    {
     "name": "stdout",
     "output_type": "stream",
     "text": [
      "a6302a12-8657-44b4-95c1-3fbeb0cf9bf1 sanger_raw_pindel 1084826 17 133 ['CHROM', 'START_POS', 'END_POS', 'ID', 'REF', 'ALT', 'QUAL', 'FILTER', 'FF017', 'LEN', 'OLD_VARIANT', 'PC', 'RE', 'REP', 'RS', 'S1', 'S2']\n",
      "['2c8c8efe-48eb-4b04-9bd7-9c621a887609', 'wgs', 'sanger_raw_pindel', 'raw_somatic_mutation', 'vcf', 'gz']\n"
     ]
    },
    {
     "name": "stderr",
     "output_type": "stream",
     "text": [
      "[W::hts_idx_load3] The index file is older than the data file: /data/projects/GDC_Cancer_Wise/New_data/Brain/Downloaded_files/VCF/7d2d3200-6a02-43cf-ac3f-472d794a4a1d/2c8c8efe-48eb-4b04-9bd7-9c621a887609.wgs.sanger_raw_pindel.raw_somatic_mutation.vcf.gz.tbi\n"
     ]
    },
    {
     "name": "stdout",
     "output_type": "stream",
     "text": [
      "2c8c8efe-48eb-4b04-9bd7-9c621a887609 sanger_raw_pindel 885249 17 127 ['CHROM', 'START_POS', 'END_POS', 'ID', 'REF', 'ALT', 'QUAL', 'FILTER', 'FF017', 'LEN', 'OLD_VARIANT', 'PC', 'RE', 'REP', 'RS', 'S1', 'S2']\n",
      "['54d3a64c-00f6-4cc2-8263-2c84b8309371', 'wgs', 'sanger_raw_pindel', 'raw_somatic_mutation', 'vcf', 'gz']\n",
      "54d3a64c-00f6-4cc2-8263-2c84b8309371 sanger_raw_pindel 897863 17 140 ['CHROM', 'START_POS', 'END_POS', 'ID', 'REF', 'ALT', 'QUAL', 'FILTER', 'FF017', 'LEN', 'OLD_VARIANT', 'PC', 'RE', 'REP', 'RS', 'S1', 'S2']\n",
      "['af63b73a-b8aa-4a3e-8d82-9fd0f130e942', 'wgs', 'CaVEMan', 'raw_somatic_mutation', 'vcf', 'gz']\n",
      "af63b73a-b8aa-4a3e-8d82-9fd0f130e942 CaVEMan 51532 20 13 ['CHROM', 'START_POS', 'END_POS', 'ID', 'REF', 'ALT', 'QUAL', 'FILTER', 'ASMD', 'ASRD', 'CLPM', 'DP', 'DS', 'GP', 'MP', 'SG', 'SNP', 'SP', 'TG', 'TP']\n",
      "['9b7a2f48-e658-41b9-9d4a-68d83082cc29', 'wgs', 'CaVEMan', 'raw_somatic_mutation', 'vcf', 'gz']\n",
      "9b7a2f48-e658-41b9-9d4a-68d83082cc29 CaVEMan 41080 20 18 ['CHROM', 'START_POS', 'END_POS', 'ID', 'REF', 'ALT', 'QUAL', 'FILTER', 'ASMD', 'ASRD', 'CLPM', 'DP', 'DS', 'GP', 'MP', 'SG', 'SNP', 'SP', 'TG', 'TP']\n",
      "['3ba39b13-da19-4e9f-be9f-6fb14c581651', 'wgs', 'sanger_raw_pindel', 'raw_somatic_mutation', 'vcf', 'gz']\n",
      "3ba39b13-da19-4e9f-be9f-6fb14c581651 sanger_raw_pindel 963608 17 134 ['CHROM', 'START_POS', 'END_POS', 'ID', 'REF', 'ALT', 'QUAL', 'FILTER', 'FF017', 'LEN', 'OLD_VARIANT', 'PC', 'RE', 'REP', 'RS', 'S1', 'S2']\n",
      "['f3ad237d-b424-4ca4-9659-2ff88a42e584', 'wgs', 'CaVEMan', 'raw_somatic_mutation', 'vcf', 'gz']\n"
     ]
    },
    {
     "name": "stderr",
     "output_type": "stream",
     "text": [
      "[W::hts_idx_load3] The index file is older than the data file: /data/projects/GDC_Cancer_Wise/New_data/Brain/Downloaded_files/VCF/7808abc9-3f11-4b7b-9040-f7a21c600a69/f3ad237d-b424-4ca4-9659-2ff88a42e584.wgs.CaVEMan.raw_somatic_mutation.vcf.gz.tbi\n"
     ]
    },
    {
     "name": "stdout",
     "output_type": "stream",
     "text": [
      "f3ad237d-b424-4ca4-9659-2ff88a42e584 CaVEMan 33216 20 13 ['CHROM', 'START_POS', 'END_POS', 'ID', 'REF', 'ALT', 'QUAL', 'FILTER', 'ASMD', 'ASRD', 'CLPM', 'DP', 'DS', 'GP', 'MP', 'SG', 'SNP', 'SP', 'TG', 'TP']\n",
      "['1bff298c-522b-465a-aa6e-8df3fd857ed3', 'wgs', 'sanger_raw_pindel', 'raw_somatic_mutation', 'vcf', 'gz']\n",
      "1bff298c-522b-465a-aa6e-8df3fd857ed3 sanger_raw_pindel 838295 17 132 ['CHROM', 'START_POS', 'END_POS', 'ID', 'REF', 'ALT', 'QUAL', 'FILTER', 'FF017', 'LEN', 'OLD_VARIANT', 'PC', 'RE', 'REP', 'RS', 'S1', 'S2']\n",
      "['bb91fbd6-7e62-4a15-9e60-3d95e26f4aec', 'wgs', 'CaVEMan', 'raw_somatic_mutation', 'vcf', 'gz']\n",
      "bb91fbd6-7e62-4a15-9e60-3d95e26f4aec CaVEMan 42267 20 4 ['CHROM', 'START_POS', 'END_POS', 'ID', 'REF', 'ALT', 'QUAL', 'FILTER', 'ASMD', 'ASRD', 'CLPM', 'DP', 'DS', 'GP', 'MP', 'SG', 'SNP', 'SP', 'TG', 'TP']\n",
      "['9a3edc2a-0eb3-4d88-965d-2801cd19df51', 'wgs', 'CaVEMan', 'raw_somatic_mutation', 'vcf', 'gz']\n",
      "9a3edc2a-0eb3-4d88-965d-2801cd19df51 CaVEMan 37473 20 11 ['CHROM', 'START_POS', 'END_POS', 'ID', 'REF', 'ALT', 'QUAL', 'FILTER', 'ASMD', 'ASRD', 'CLPM', 'DP', 'DS', 'GP', 'MP', 'SG', 'SNP', 'SP', 'TG', 'TP']\n",
      "['f15d872a-7e31-4111-9d92-5ac813a8bc4f', 'wgs', 'CaVEMan', 'raw_somatic_mutation', 'vcf', 'gz']\n",
      "f15d872a-7e31-4111-9d92-5ac813a8bc4f CaVEMan 48344 20 17 ['CHROM', 'START_POS', 'END_POS', 'ID', 'REF', 'ALT', 'QUAL', 'FILTER', 'ASMD', 'ASRD', 'CLPM', 'DP', 'DS', 'GP', 'MP', 'SG', 'SNP', 'SP', 'TG', 'TP']\n",
      "['b01b9f70-fc7d-43d1-bc8a-6c435ffd3705', 'wgs', 'CaVEMan', 'raw_somatic_mutation', 'vcf', 'gz']\n",
      "b01b9f70-fc7d-43d1-bc8a-6c435ffd3705 CaVEMan 63737 20 21 ['CHROM', 'START_POS', 'END_POS', 'ID', 'REF', 'ALT', 'QUAL', 'FILTER', 'ASMD', 'ASRD', 'CLPM', 'DP', 'DS', 'GP', 'MP', 'SG', 'SNP', 'SP', 'TG', 'TP']\n",
      "['e40fc3cf-2691-47df-a5f3-87e5bbcd9a50', 'wgs', 'CaVEMan', 'raw_somatic_mutation', 'vcf', 'gz']\n",
      "e40fc3cf-2691-47df-a5f3-87e5bbcd9a50 CaVEMan 48021 20 20 ['CHROM', 'START_POS', 'END_POS', 'ID', 'REF', 'ALT', 'QUAL', 'FILTER', 'ASMD', 'ASRD', 'CLPM', 'DP', 'DS', 'GP', 'MP', 'SG', 'SNP', 'SP', 'TG', 'TP']\n",
      "['dd9fc4a4-afd5-4fc8-8a76-5b341c38ecba', 'wgs', 'CaVEMan', 'raw_somatic_mutation', 'vcf', 'gz']\n",
      "dd9fc4a4-afd5-4fc8-8a76-5b341c38ecba CaVEMan 58402 20 15 ['CHROM', 'START_POS', 'END_POS', 'ID', 'REF', 'ALT', 'QUAL', 'FILTER', 'ASMD', 'ASRD', 'CLPM', 'DP', 'DS', 'GP', 'MP', 'SG', 'SNP', 'SP', 'TG', 'TP']\n",
      "['2c5b021f-f9e1-4a42-8755-8704f006016b', 'wgs', 'sanger_raw_pindel', 'raw_somatic_mutation', 'vcf', 'gz']\n",
      "2c5b021f-f9e1-4a42-8755-8704f006016b sanger_raw_pindel 1059560 17 150 ['CHROM', 'START_POS', 'END_POS', 'ID', 'REF', 'ALT', 'QUAL', 'FILTER', 'FF017', 'LEN', 'OLD_VARIANT', 'PC', 'RE', 'REP', 'RS', 'S1', 'S2']\n",
      "['0fc04044-0b33-4af6-a800-01d8cda12702', 'wgs', 'CaVEMan', 'raw_somatic_mutation', 'vcf', 'gz']\n",
      "0fc04044-0b33-4af6-a800-01d8cda12702 CaVEMan 35942 20 7 ['CHROM', 'START_POS', 'END_POS', 'ID', 'REF', 'ALT', 'QUAL', 'FILTER', 'ASMD', 'ASRD', 'CLPM', 'DP', 'DS', 'GP', 'MP', 'SG', 'SNP', 'SP', 'TG', 'TP']\n",
      "['455fc2b4-b5da-40ba-9330-b8eed45ef66b', 'wgs', 'CaVEMan', 'raw_somatic_mutation', 'vcf', 'gz']\n",
      "455fc2b4-b5da-40ba-9330-b8eed45ef66b CaVEMan 52021 20 20 ['CHROM', 'START_POS', 'END_POS', 'ID', 'REF', 'ALT', 'QUAL', 'FILTER', 'ASMD', 'ASRD', 'CLPM', 'DP', 'DS', 'GP', 'MP', 'SG', 'SNP', 'SP', 'TG', 'TP']\n",
      "['d36bdeac-1edf-4599-ac3d-b42811ec5b18', 'wgs', 'CaVEMan', 'raw_somatic_mutation', 'vcf', 'gz']\n",
      "d36bdeac-1edf-4599-ac3d-b42811ec5b18 CaVEMan 40914 20 5 ['CHROM', 'START_POS', 'END_POS', 'ID', 'REF', 'ALT', 'QUAL', 'FILTER', 'ASMD', 'ASRD', 'CLPM', 'DP', 'DS', 'GP', 'MP', 'SG', 'SNP', 'SP', 'TG', 'TP']\n",
      "['bf01253b-df8a-4e9d-afe1-21a4b0cf777e', 'wgs', 'CaVEMan', 'raw_somatic_mutation', 'vcf', 'gz']\n",
      "bf01253b-df8a-4e9d-afe1-21a4b0cf777e CaVEMan 44432 20 8 ['CHROM', 'START_POS', 'END_POS', 'ID', 'REF', 'ALT', 'QUAL', 'FILTER', 'ASMD', 'ASRD', 'CLPM', 'DP', 'DS', 'GP', 'MP', 'SG', 'SNP', 'SP', 'TG', 'TP']\n",
      "['b0218338-6d83-491f-b51d-844d209f54b3', 'wgs', 'sanger_raw_pindel', 'raw_somatic_mutation', 'vcf', 'gz']\n"
     ]
    },
    {
     "name": "stderr",
     "output_type": "stream",
     "text": [
      "[W::hts_idx_load3] The index file is older than the data file: /data/projects/GDC_Cancer_Wise/New_data/Brain/Downloaded_files/VCF/b40d42ed-fbc8-42cd-96bf-63da4ea02f63/b0218338-6d83-491f-b51d-844d209f54b3.wgs.sanger_raw_pindel.raw_somatic_mutation.vcf.gz.tbi\n"
     ]
    },
    {
     "name": "stdout",
     "output_type": "stream",
     "text": [
      "b0218338-6d83-491f-b51d-844d209f54b3 sanger_raw_pindel 882694 17 125 ['CHROM', 'START_POS', 'END_POS', 'ID', 'REF', 'ALT', 'QUAL', 'FILTER', 'FF017', 'LEN', 'OLD_VARIANT', 'PC', 'RE', 'REP', 'RS', 'S1', 'S2']\n",
      "['e2beccb1-840b-4e6a-84e5-b07e25289593', 'wgs', 'CaVEMan', 'raw_somatic_mutation', 'vcf', 'gz']\n"
     ]
    },
    {
     "name": "stderr",
     "output_type": "stream",
     "text": [
      "[W::hts_idx_load3] The index file is older than the data file: /data/projects/GDC_Cancer_Wise/New_data/Brain/Downloaded_files/VCF/c12b024c-5c1a-4316-b787-eec8eb72a990/e2beccb1-840b-4e6a-84e5-b07e25289593.wgs.CaVEMan.raw_somatic_mutation.vcf.gz.tbi\n"
     ]
    },
    {
     "name": "stdout",
     "output_type": "stream",
     "text": [
      "e2beccb1-840b-4e6a-84e5-b07e25289593 CaVEMan 210792 20 60 ['CHROM', 'START_POS', 'END_POS', 'ID', 'REF', 'ALT', 'QUAL', 'FILTER', 'ASMD', 'ASRD', 'CLPM', 'DP', 'DS', 'GP', 'MP', 'SG', 'SNP', 'SP', 'TG', 'TP']\n",
      "['e2e8315f-21fa-4476-8e28-1d625649d3ca', 'wgs', 'CaVEMan', 'raw_somatic_mutation', 'vcf', 'gz']\n"
     ]
    },
    {
     "name": "stderr",
     "output_type": "stream",
     "text": [
      "[W::hts_idx_load3] The index file is older than the data file: /data/projects/GDC_Cancer_Wise/New_data/Brain/Downloaded_files/VCF/55e573e7-5997-46fe-b3ce-d3fb1f6dc70f/e2e8315f-21fa-4476-8e28-1d625649d3ca.wgs.CaVEMan.raw_somatic_mutation.vcf.gz.tbi\n"
     ]
    },
    {
     "name": "stdout",
     "output_type": "stream",
     "text": [
      "e2e8315f-21fa-4476-8e28-1d625649d3ca CaVEMan 211995 20 55 ['CHROM', 'START_POS', 'END_POS', 'ID', 'REF', 'ALT', 'QUAL', 'FILTER', 'ASMD', 'ASRD', 'CLPM', 'DP', 'DS', 'GP', 'MP', 'SG', 'SNP', 'SP', 'TG', 'TP']\n",
      "['a58b5cd5-4625-4070-b672-4eb92cd7775c', 'wgs', 'sanger_raw_pindel', 'raw_somatic_mutation', 'vcf', 'gz']\n",
      "a58b5cd5-4625-4070-b672-4eb92cd7775c sanger_raw_pindel 1126390 17 137 ['CHROM', 'START_POS', 'END_POS', 'ID', 'REF', 'ALT', 'QUAL', 'FILTER', 'FF017', 'LEN', 'OLD_VARIANT', 'PC', 'RE', 'REP', 'RS', 'S1', 'S2']\n",
      "['5443dde1-df0d-4ddd-8a42-c9b8c17bf30c', 'wgs', 'sanger_raw_pindel', 'raw_somatic_mutation', 'vcf', 'gz']\n",
      "5443dde1-df0d-4ddd-8a42-c9b8c17bf30c sanger_raw_pindel 1145891 17 149 ['CHROM', 'START_POS', 'END_POS', 'ID', 'REF', 'ALT', 'QUAL', 'FILTER', 'FF017', 'LEN', 'OLD_VARIANT', 'PC', 'RE', 'REP', 'RS', 'S1', 'S2']\n",
      "['9b7a2f48-e658-41b9-9d4a-68d83082cc29', 'wgs', 'sanger_raw_pindel', 'raw_somatic_mutation', 'vcf', 'gz']\n",
      "9b7a2f48-e658-41b9-9d4a-68d83082cc29 sanger_raw_pindel 861932 17 121 ['CHROM', 'START_POS', 'END_POS', 'ID', 'REF', 'ALT', 'QUAL', 'FILTER', 'FF017', 'LEN', 'OLD_VARIANT', 'PC', 'RE', 'REP', 'RS', 'S1', 'S2']\n",
      "['aae9d68e-f0eb-486b-9520-0b9f547f1ad3', 'wgs', 'sanger_raw_pindel', 'raw_somatic_mutation', 'vcf', 'gz']\n",
      "aae9d68e-f0eb-486b-9520-0b9f547f1ad3 sanger_raw_pindel 869484 17 131 ['CHROM', 'START_POS', 'END_POS', 'ID', 'REF', 'ALT', 'QUAL', 'FILTER', 'FF017', 'LEN', 'OLD_VARIANT', 'PC', 'RE', 'REP', 'RS', 'S1', 'S2']\n",
      "['2c8c8efe-48eb-4b04-9bd7-9c621a887609', 'wgs', 'CaVEMan', 'raw_somatic_mutation', 'vcf', 'gz']\n",
      "2c8c8efe-48eb-4b04-9bd7-9c621a887609 CaVEMan 45532 20 12 ['CHROM', 'START_POS', 'END_POS', 'ID', 'REF', 'ALT', 'QUAL', 'FILTER', 'ASMD', 'ASRD', 'CLPM', 'DP', 'DS', 'GP', 'MP', 'SG', 'SNP', 'SP', 'TG', 'TP']\n",
      "['6650dfa0-01b8-411a-bc01-bf1cad6c111b', 'wgs', 'sanger_raw_pindel', 'raw_somatic_mutation', 'vcf', 'gz']\n"
     ]
    },
    {
     "name": "stderr",
     "output_type": "stream",
     "text": [
      "[W::hts_idx_load3] The index file is older than the data file: /data/projects/GDC_Cancer_Wise/New_data/Brain/Downloaded_files/VCF/aa4fefef-494e-4bc1-9719-f9e063ed88f6/6650dfa0-01b8-411a-bc01-bf1cad6c111b.wgs.sanger_raw_pindel.raw_somatic_mutation.vcf.gz.tbi\n"
     ]
    },
    {
     "name": "stdout",
     "output_type": "stream",
     "text": [
      "6650dfa0-01b8-411a-bc01-bf1cad6c111b sanger_raw_pindel 856616 17 132 ['CHROM', 'START_POS', 'END_POS', 'ID', 'REF', 'ALT', 'QUAL', 'FILTER', 'FF017', 'LEN', 'OLD_VARIANT', 'PC', 'RE', 'REP', 'RS', 'S1', 'S2']\n",
      "['7d01d7c7-5138-4883-a4e3-c763151943df', 'wgs', 'sanger_raw_pindel', 'raw_somatic_mutation', 'vcf', 'gz']\n",
      "7d01d7c7-5138-4883-a4e3-c763151943df sanger_raw_pindel 846184 17 119 ['CHROM', 'START_POS', 'END_POS', 'ID', 'REF', 'ALT', 'QUAL', 'FILTER', 'FF017', 'LEN', 'OLD_VARIANT', 'PC', 'RE', 'REP', 'RS', 'S1', 'S2']\n",
      "['97121631-b6cd-4f6f-9dfb-1c3a668150e2', 'wgs', 'CaVEMan', 'raw_somatic_mutation', 'vcf', 'gz']\n",
      "97121631-b6cd-4f6f-9dfb-1c3a668150e2 CaVEMan 48264 20 20 ['CHROM', 'START_POS', 'END_POS', 'ID', 'REF', 'ALT', 'QUAL', 'FILTER', 'ASMD', 'ASRD', 'CLPM', 'DP', 'DS', 'GP', 'MP', 'SG', 'SNP', 'SP', 'TG', 'TP']\n",
      "['e2beccb1-840b-4e6a-84e5-b07e25289593', 'wgs', 'sanger_raw_pindel', 'raw_somatic_mutation', 'vcf', 'gz']\n",
      "e2beccb1-840b-4e6a-84e5-b07e25289593 sanger_raw_pindel 1083833 17 143 ['CHROM', 'START_POS', 'END_POS', 'ID', 'REF', 'ALT', 'QUAL', 'FILTER', 'FF017', 'LEN', 'OLD_VARIANT', 'PC', 'RE', 'REP', 'RS', 'S1', 'S2']\n",
      "['a08a494c-e685-4f80-981f-68a0d19b9a38', 'wgs', 'sanger_raw_pindel', 'raw_somatic_mutation', 'vcf', 'gz']\n"
     ]
    },
    {
     "name": "stderr",
     "output_type": "stream",
     "text": [
      "[W::hts_idx_load3] The index file is older than the data file: /data/projects/GDC_Cancer_Wise/New_data/Brain/Downloaded_files/VCF/badf05c3-b163-48ad-9d67-0bb00c9bffb8/a08a494c-e685-4f80-981f-68a0d19b9a38.wgs.sanger_raw_pindel.raw_somatic_mutation.vcf.gz.tbi\n"
     ]
    },
    {
     "name": "stdout",
     "output_type": "stream",
     "text": [
      "a08a494c-e685-4f80-981f-68a0d19b9a38 sanger_raw_pindel 880431 17 136 ['CHROM', 'START_POS', 'END_POS', 'ID', 'REF', 'ALT', 'QUAL', 'FILTER', 'FF017', 'LEN', 'OLD_VARIANT', 'PC', 'RE', 'REP', 'RS', 'S1', 'S2']\n",
      "['e28e9e35-1eba-4eb9-998f-ac7b9eb3f6ca', 'wgs', 'sanger_raw_pindel', 'raw_somatic_mutation', 'vcf', 'gz']\n",
      "e28e9e35-1eba-4eb9-998f-ac7b9eb3f6ca sanger_raw_pindel 895609 17 127 ['CHROM', 'START_POS', 'END_POS', 'ID', 'REF', 'ALT', 'QUAL', 'FILTER', 'FF017', 'LEN', 'OLD_VARIANT', 'PC', 'RE', 'REP', 'RS', 'S1', 'S2']\n",
      "['fd27f3fc-6f0b-4794-8555-3111ad520493', 'wgs', 'sanger_raw_pindel', 'raw_somatic_mutation', 'vcf', 'gz']\n"
     ]
    },
    {
     "name": "stderr",
     "output_type": "stream",
     "text": [
      "[W::hts_idx_load3] The index file is older than the data file: /data/projects/GDC_Cancer_Wise/New_data/Brain/Downloaded_files/VCF/aa1c8570-ce55-4e1b-a94b-41860e4459d5/fd27f3fc-6f0b-4794-8555-3111ad520493.wgs.sanger_raw_pindel.raw_somatic_mutation.vcf.gz.tbi\n"
     ]
    },
    {
     "name": "stdout",
     "output_type": "stream",
     "text": [
      "fd27f3fc-6f0b-4794-8555-3111ad520493 sanger_raw_pindel 853402 17 122 ['CHROM', 'START_POS', 'END_POS', 'ID', 'REF', 'ALT', 'QUAL', 'FILTER', 'FF017', 'LEN', 'OLD_VARIANT', 'PC', 'RE', 'REP', 'RS', 'S1', 'S2']\n",
      "['83ab04a3-bd1b-4ff1-b06b-a256ff8b7d03', 'wgs', 'sanger_raw_pindel', 'raw_somatic_mutation', 'vcf', 'gz']\n",
      "83ab04a3-bd1b-4ff1-b06b-a256ff8b7d03 sanger_raw_pindel 891178 17 126 ['CHROM', 'START_POS', 'END_POS', 'ID', 'REF', 'ALT', 'QUAL', 'FILTER', 'FF017', 'LEN', 'OLD_VARIANT', 'PC', 'RE', 'REP', 'RS', 'S1', 'S2']\n",
      "['67c83385-8497-4c2d-932e-9a3b9bb90ec9', 'wgs', 'CaVEMan', 'raw_somatic_mutation', 'vcf', 'gz']\n"
     ]
    },
    {
     "name": "stderr",
     "output_type": "stream",
     "text": [
      "[W::hts_idx_load3] The index file is older than the data file: /data/projects/GDC_Cancer_Wise/New_data/Brain/Downloaded_files/VCF/6ee7ddcf-4269-4d2f-8954-772f6ac7612a/67c83385-8497-4c2d-932e-9a3b9bb90ec9.wgs.CaVEMan.raw_somatic_mutation.vcf.gz.tbi\n"
     ]
    },
    {
     "name": "stdout",
     "output_type": "stream",
     "text": [
      "67c83385-8497-4c2d-932e-9a3b9bb90ec9 CaVEMan 49687 20 18 ['CHROM', 'START_POS', 'END_POS', 'ID', 'REF', 'ALT', 'QUAL', 'FILTER', 'ASMD', 'ASRD', 'CLPM', 'DP', 'DS', 'GP', 'MP', 'SG', 'SNP', 'SP', 'TG', 'TP']\n",
      "['af63b73a-b8aa-4a3e-8d82-9fd0f130e942', 'wgs', 'sanger_raw_pindel', 'raw_somatic_mutation', 'vcf', 'gz']\n"
     ]
    },
    {
     "name": "stderr",
     "output_type": "stream",
     "text": [
      "[W::hts_idx_load3] The index file is older than the data file: /data/projects/GDC_Cancer_Wise/New_data/Brain/Downloaded_files/VCF/53df1813-ba46-475b-b66f-cce4f2538b16/af63b73a-b8aa-4a3e-8d82-9fd0f130e942.wgs.sanger_raw_pindel.raw_somatic_mutation.vcf.gz.tbi\n"
     ]
    },
    {
     "name": "stdout",
     "output_type": "stream",
     "text": [
      "af63b73a-b8aa-4a3e-8d82-9fd0f130e942 sanger_raw_pindel 843075 17 118 ['CHROM', 'START_POS', 'END_POS', 'ID', 'REF', 'ALT', 'QUAL', 'FILTER', 'FF017', 'LEN', 'OLD_VARIANT', 'PC', 'RE', 'REP', 'RS', 'S1', 'S2']\n",
      "['93a8fbfe-a787-4155-b6be-3b0433d8e47c', 'wgs', 'CaVEMan', 'raw_somatic_mutation', 'vcf', 'gz']\n",
      "93a8fbfe-a787-4155-b6be-3b0433d8e47c CaVEMan 59140 20 19 ['CHROM', 'START_POS', 'END_POS', 'ID', 'REF', 'ALT', 'QUAL', 'FILTER', 'ASMD', 'ASRD', 'CLPM', 'DP', 'DS', 'GP', 'MP', 'SG', 'SNP', 'SP', 'TG', 'TP']\n",
      "['b0218338-6d83-491f-b51d-844d209f54b3', 'wgs', 'CaVEMan', 'raw_somatic_mutation', 'vcf', 'gz']\n"
     ]
    },
    {
     "name": "stderr",
     "output_type": "stream",
     "text": [
      "[W::hts_idx_load3] The index file is older than the data file: /data/projects/GDC_Cancer_Wise/New_data/Brain/Downloaded_files/VCF/018469e6-dfc4-4249-a745-27b430438922/b0218338-6d83-491f-b51d-844d209f54b3.wgs.CaVEMan.raw_somatic_mutation.vcf.gz.tbi\n"
     ]
    },
    {
     "name": "stdout",
     "output_type": "stream",
     "text": [
      "b0218338-6d83-491f-b51d-844d209f54b3 CaVEMan 51787 20 8 ['CHROM', 'START_POS', 'END_POS', 'ID', 'REF', 'ALT', 'QUAL', 'FILTER', 'ASMD', 'ASRD', 'CLPM', 'DP', 'DS', 'GP', 'MP', 'SG', 'SNP', 'SP', 'TG', 'TP']\n",
      "['3adefeae-8c71-47a0-a9d5-3d0005aa0ef4', 'wgs', 'sanger_raw_pindel', 'raw_somatic_mutation', 'vcf', 'gz']\n",
      "3adefeae-8c71-47a0-a9d5-3d0005aa0ef4 sanger_raw_pindel 884112 17 135 ['CHROM', 'START_POS', 'END_POS', 'ID', 'REF', 'ALT', 'QUAL', 'FILTER', 'FF017', 'LEN', 'OLD_VARIANT', 'PC', 'RE', 'REP', 'RS', 'S1', 'S2']\n",
      "['d481a290-6b89-442b-b5f3-c855e34bb3ca', 'wgs', 'CaVEMan', 'raw_somatic_mutation', 'vcf', 'gz']\n",
      "d481a290-6b89-442b-b5f3-c855e34bb3ca CaVEMan 49904 20 14 ['CHROM', 'START_POS', 'END_POS', 'ID', 'REF', 'ALT', 'QUAL', 'FILTER', 'ASMD', 'ASRD', 'CLPM', 'DP', 'DS', 'GP', 'MP', 'SG', 'SNP', 'SP', 'TG', 'TP']\n",
      "['6ce0f8f2-a580-40a3-9b25-54a1ac040ac3', 'wgs', 'sanger_raw_pindel', 'raw_somatic_mutation', 'vcf', 'gz']\n",
      "6ce0f8f2-a580-40a3-9b25-54a1ac040ac3 sanger_raw_pindel 843054 17 124 ['CHROM', 'START_POS', 'END_POS', 'ID', 'REF', 'ALT', 'QUAL', 'FILTER', 'FF017', 'LEN', 'OLD_VARIANT', 'PC', 'RE', 'REP', 'RS', 'S1', 'S2']\n",
      "['9555409b-2f6c-4d24-9b39-5b8183cb3f8c', 'wgs', 'sanger_raw_pindel', 'raw_somatic_mutation', 'vcf', 'gz']\n"
     ]
    },
    {
     "name": "stderr",
     "output_type": "stream",
     "text": [
      "[W::hts_idx_load3] The index file is older than the data file: /data/projects/GDC_Cancer_Wise/New_data/Brain/Downloaded_files/VCF/2cb45fee-328b-4c77-90ba-1d227e9c292f/9555409b-2f6c-4d24-9b39-5b8183cb3f8c.wgs.sanger_raw_pindel.raw_somatic_mutation.vcf.gz.tbi\n"
     ]
    },
    {
     "name": "stdout",
     "output_type": "stream",
     "text": [
      "9555409b-2f6c-4d24-9b39-5b8183cb3f8c sanger_raw_pindel 863912 17 123 ['CHROM', 'START_POS', 'END_POS', 'ID', 'REF', 'ALT', 'QUAL', 'FILTER', 'FF017', 'LEN', 'OLD_VARIANT', 'PC', 'RE', 'REP', 'RS', 'S1', 'S2']\n",
      "['0fc04044-0b33-4af6-a800-01d8cda12702', 'wgs', 'sanger_raw_pindel', 'raw_somatic_mutation', 'vcf', 'gz']\n",
      "0fc04044-0b33-4af6-a800-01d8cda12702 sanger_raw_pindel 897352 17 130 ['CHROM', 'START_POS', 'END_POS', 'ID', 'REF', 'ALT', 'QUAL', 'FILTER', 'FF017', 'LEN', 'OLD_VARIANT', 'PC', 'RE', 'REP', 'RS', 'S1', 'S2']\n",
      "['5fe46057-1c78-4e85-befa-ba04610ecd10', 'wgs', 'CaVEMan', 'raw_somatic_mutation', 'vcf', 'gz']\n"
     ]
    },
    {
     "name": "stderr",
     "output_type": "stream",
     "text": [
      "[W::hts_idx_load3] The index file is older than the data file: /data/projects/GDC_Cancer_Wise/New_data/Brain/Downloaded_files/VCF/6556d918-d002-473c-a0c8-2f20b9ceeef7/5fe46057-1c78-4e85-befa-ba04610ecd10.wgs.CaVEMan.raw_somatic_mutation.vcf.gz.tbi\n"
     ]
    },
    {
     "name": "stdout",
     "output_type": "stream",
     "text": [
      "5fe46057-1c78-4e85-befa-ba04610ecd10 CaVEMan 53455 20 8 ['CHROM', 'START_POS', 'END_POS', 'ID', 'REF', 'ALT', 'QUAL', 'FILTER', 'ASMD', 'ASRD', 'CLPM', 'DP', 'DS', 'GP', 'MP', 'SG', 'SNP', 'SP', 'TG', 'TP']\n",
      "['f90f1702-d5f1-43f4-b167-2c440f941bf6', 'wgs', 'sanger_raw_pindel', 'raw_somatic_mutation', 'vcf', 'gz']\n"
     ]
    },
    {
     "name": "stderr",
     "output_type": "stream",
     "text": [
      "[W::hts_idx_load3] The index file is older than the data file: /data/projects/GDC_Cancer_Wise/New_data/Brain/Downloaded_files/VCF/b51da61b-4c61-43c1-b3c0-47318e924b64/f90f1702-d5f1-43f4-b167-2c440f941bf6.wgs.sanger_raw_pindel.raw_somatic_mutation.vcf.gz.tbi\n"
     ]
    },
    {
     "name": "stdout",
     "output_type": "stream",
     "text": [
      "f90f1702-d5f1-43f4-b167-2c440f941bf6 sanger_raw_pindel 903032 17 130 ['CHROM', 'START_POS', 'END_POS', 'ID', 'REF', 'ALT', 'QUAL', 'FILTER', 'FF017', 'LEN', 'OLD_VARIANT', 'PC', 'RE', 'REP', 'RS', 'S1', 'S2']\n",
      "['798dfed8-b716-4958-88cf-e32a5294c4bc', 'wgs', 'CaVEMan', 'raw_somatic_mutation', 'vcf', 'gz']\n",
      "798dfed8-b716-4958-88cf-e32a5294c4bc CaVEMan 43427 20 20 ['CHROM', 'START_POS', 'END_POS', 'ID', 'REF', 'ALT', 'QUAL', 'FILTER', 'ASMD', 'ASRD', 'CLPM', 'DP', 'DS', 'GP', 'MP', 'SG', 'SNP', 'SP', 'TG', 'TP']\n",
      "['4e285b95-27ba-49b9-980a-6dbfc09a62c0', 'wgs', 'CaVEMan', 'raw_somatic_mutation', 'vcf', 'gz']\n",
      "4e285b95-27ba-49b9-980a-6dbfc09a62c0 CaVEMan 57581 20 30 ['CHROM', 'START_POS', 'END_POS', 'ID', 'REF', 'ALT', 'QUAL', 'FILTER', 'ASMD', 'ASRD', 'CLPM', 'DP', 'DS', 'GP', 'MP', 'SG', 'SNP', 'SP', 'TG', 'TP']\n",
      "['07f93ac0-50e0-4c1d-b4da-898062a5b6b8', 'wgs', 'sanger_raw_pindel', 'raw_somatic_mutation', 'vcf', 'gz']\n",
      "07f93ac0-50e0-4c1d-b4da-898062a5b6b8 sanger_raw_pindel 911319 17 137 ['CHROM', 'START_POS', 'END_POS', 'ID', 'REF', 'ALT', 'QUAL', 'FILTER', 'FF017', 'LEN', 'OLD_VARIANT', 'PC', 'RE', 'REP', 'RS', 'S1', 'S2']\n",
      "['033db366-1af1-4bd9-8339-c54800b1de57', 'wgs', 'sanger_raw_pindel', 'raw_somatic_mutation', 'vcf', 'gz']\n"
     ]
    },
    {
     "name": "stderr",
     "output_type": "stream",
     "text": [
      "[W::hts_idx_load3] The index file is older than the data file: /data/projects/GDC_Cancer_Wise/New_data/Brain/Downloaded_files/VCF/d8f2f8e6-4e26-430f-9b9d-089c74200f7b/033db366-1af1-4bd9-8339-c54800b1de57.wgs.sanger_raw_pindel.raw_somatic_mutation.vcf.gz.tbi\n"
     ]
    },
    {
     "name": "stdout",
     "output_type": "stream",
     "text": [
      "033db366-1af1-4bd9-8339-c54800b1de57 sanger_raw_pindel 908148 17 133 ['CHROM', 'START_POS', 'END_POS', 'ID', 'REF', 'ALT', 'QUAL', 'FILTER', 'FF017', 'LEN', 'OLD_VARIANT', 'PC', 'RE', 'REP', 'RS', 'S1', 'S2']\n",
      "['3a531416-d811-4dea-9507-cd6286a85a7f', 'wgs', 'CaVEMan', 'raw_somatic_mutation', 'vcf', 'gz']\n",
      "3a531416-d811-4dea-9507-cd6286a85a7f CaVEMan 47818 20 8 ['CHROM', 'START_POS', 'END_POS', 'ID', 'REF', 'ALT', 'QUAL', 'FILTER', 'ASMD', 'ASRD', 'CLPM', 'DP', 'DS', 'GP', 'MP', 'SG', 'SNP', 'SP', 'TG', 'TP']\n",
      "['2943b759-cf0c-4459-9178-f49827622f1b', 'wgs', 'sanger_raw_pindel', 'raw_somatic_mutation', 'vcf', 'gz']\n"
     ]
    },
    {
     "name": "stderr",
     "output_type": "stream",
     "text": [
      "[W::hts_idx_load3] The index file is older than the data file: /data/projects/GDC_Cancer_Wise/New_data/Brain/Downloaded_files/VCF/e9527bd2-345e-46e8-8fb1-6b67c5291ae4/2943b759-cf0c-4459-9178-f49827622f1b.wgs.sanger_raw_pindel.raw_somatic_mutation.vcf.gz.tbi\n"
     ]
    },
    {
     "name": "stdout",
     "output_type": "stream",
     "text": [
      "2943b759-cf0c-4459-9178-f49827622f1b sanger_raw_pindel 1139454 17 133 ['CHROM', 'START_POS', 'END_POS', 'ID', 'REF', 'ALT', 'QUAL', 'FILTER', 'FF017', 'LEN', 'OLD_VARIANT', 'PC', 'RE', 'REP', 'RS', 'S1', 'S2']\n",
      "['3d9d175b-20dc-4916-afa0-95b9acbbec02', 'wgs', 'CaVEMan', 'raw_somatic_mutation', 'vcf', 'gz']\n"
     ]
    },
    {
     "name": "stderr",
     "output_type": "stream",
     "text": [
      "[W::hts_idx_load3] The index file is older than the data file: /data/projects/GDC_Cancer_Wise/New_data/Brain/Downloaded_files/VCF/7c45166f-b4ec-42dc-8451-5b0b9681d02c/3d9d175b-20dc-4916-afa0-95b9acbbec02.wgs.CaVEMan.raw_somatic_mutation.vcf.gz.tbi\n"
     ]
    },
    {
     "name": "stdout",
     "output_type": "stream",
     "text": [
      "3d9d175b-20dc-4916-afa0-95b9acbbec02 CaVEMan 52115 20 24 ['CHROM', 'START_POS', 'END_POS', 'ID', 'REF', 'ALT', 'QUAL', 'FILTER', 'ASMD', 'ASRD', 'CLPM', 'DP', 'DS', 'GP', 'MP', 'SG', 'SNP', 'SP', 'TG', 'TP']\n",
      "['0691dda3-8f8d-4677-9a79-ff91e50ce19f', 'wgs', 'CaVEMan', 'raw_somatic_mutation', 'vcf', 'gz']\n"
     ]
    },
    {
     "name": "stderr",
     "output_type": "stream",
     "text": [
      "[W::hts_idx_load3] The index file is older than the data file: /data/projects/GDC_Cancer_Wise/New_data/Brain/Downloaded_files/VCF/53eeb563-3afa-4314-b704-2a47896dac3c/0691dda3-8f8d-4677-9a79-ff91e50ce19f.wgs.CaVEMan.raw_somatic_mutation.vcf.gz.tbi\n"
     ]
    },
    {
     "name": "stdout",
     "output_type": "stream",
     "text": [
      "0691dda3-8f8d-4677-9a79-ff91e50ce19f CaVEMan 52124 20 13 ['CHROM', 'START_POS', 'END_POS', 'ID', 'REF', 'ALT', 'QUAL', 'FILTER', 'ASMD', 'ASRD', 'CLPM', 'DP', 'DS', 'GP', 'MP', 'SG', 'SNP', 'SP', 'TG', 'TP']\n",
      "['948b350f-fc72-4694-9c71-b67e71f57351', 'wgs', 'CaVEMan', 'raw_somatic_mutation', 'vcf', 'gz']\n",
      "948b350f-fc72-4694-9c71-b67e71f57351 CaVEMan 58361 20 19 ['CHROM', 'START_POS', 'END_POS', 'ID', 'REF', 'ALT', 'QUAL', 'FILTER', 'ASMD', 'ASRD', 'CLPM', 'DP', 'DS', 'GP', 'MP', 'SG', 'SNP', 'SP', 'TG', 'TP']\n",
      "['5bad75c6-743c-4b7e-b822-a72befa90225', 'wgs', 'CaVEMan', 'raw_somatic_mutation', 'vcf', 'gz']\n",
      "5bad75c6-743c-4b7e-b822-a72befa90225 CaVEMan 37822 20 11 ['CHROM', 'START_POS', 'END_POS', 'ID', 'REF', 'ALT', 'QUAL', 'FILTER', 'ASMD', 'ASRD', 'CLPM', 'DP', 'DS', 'GP', 'MP', 'SG', 'SNP', 'SP', 'TG', 'TP']\n",
      "['4132ab70-457f-41a9-aae3-340f9fe109e2', 'wgs', 'CaVEMan', 'raw_somatic_mutation', 'vcf', 'gz']\n"
     ]
    },
    {
     "name": "stderr",
     "output_type": "stream",
     "text": [
      "[W::hts_idx_load3] The index file is older than the data file: /data/projects/GDC_Cancer_Wise/New_data/Brain/Downloaded_files/VCF/65a5b71d-6a8c-4a02-8d5c-eb137e014b8b/4132ab70-457f-41a9-aae3-340f9fe109e2.wgs.CaVEMan.raw_somatic_mutation.vcf.gz.tbi\n"
     ]
    },
    {
     "name": "stdout",
     "output_type": "stream",
     "text": [
      "4132ab70-457f-41a9-aae3-340f9fe109e2 CaVEMan 53249 20 14 ['CHROM', 'START_POS', 'END_POS', 'ID', 'REF', 'ALT', 'QUAL', 'FILTER', 'ASMD', 'ASRD', 'CLPM', 'DP', 'DS', 'GP', 'MP', 'SG', 'SNP', 'SP', 'TG', 'TP']\n",
      "['dd9fc4a4-afd5-4fc8-8a76-5b341c38ecba', 'wgs', 'sanger_raw_pindel', 'raw_somatic_mutation', 'vcf', 'gz']\n"
     ]
    },
    {
     "name": "stderr",
     "output_type": "stream",
     "text": [
      "[W::hts_idx_load3] The index file is older than the data file: /data/projects/GDC_Cancer_Wise/New_data/Brain/Downloaded_files/VCF/6320b1e5-e9cc-4b22-9496-f94afc27895f/dd9fc4a4-afd5-4fc8-8a76-5b341c38ecba.wgs.sanger_raw_pindel.raw_somatic_mutation.vcf.gz.tbi\n"
     ]
    },
    {
     "name": "stdout",
     "output_type": "stream",
     "text": [
      "dd9fc4a4-afd5-4fc8-8a76-5b341c38ecba sanger_raw_pindel 889433 17 137 ['CHROM', 'START_POS', 'END_POS', 'ID', 'REF', 'ALT', 'QUAL', 'FILTER', 'FF017', 'LEN', 'OLD_VARIANT', 'PC', 'RE', 'REP', 'RS', 'S1', 'S2']\n",
      "['cc884f4d-e62d-4214-bfaa-81052a02a246', 'wgs', 'sanger_raw_pindel', 'raw_somatic_mutation', 'vcf', 'gz']\n"
     ]
    },
    {
     "name": "stderr",
     "output_type": "stream",
     "text": [
      "[W::hts_idx_load3] The index file is older than the data file: /data/projects/GDC_Cancer_Wise/New_data/Brain/Downloaded_files/VCF/9fc0a791-6d7d-4888-879c-ed1c78160cd8/cc884f4d-e62d-4214-bfaa-81052a02a246.wgs.sanger_raw_pindel.raw_somatic_mutation.vcf.gz.tbi\n"
     ]
    },
    {
     "name": "stdout",
     "output_type": "stream",
     "text": [
      "cc884f4d-e62d-4214-bfaa-81052a02a246 sanger_raw_pindel 877790 17 132 ['CHROM', 'START_POS', 'END_POS', 'ID', 'REF', 'ALT', 'QUAL', 'FILTER', 'FF017', 'LEN', 'OLD_VARIANT', 'PC', 'RE', 'REP', 'RS', 'S1', 'S2']\n",
      "['9c9fa09e-4db1-4f42-b64b-7c7302b81c29', 'wgs', 'CaVEMan', 'raw_somatic_mutation', 'vcf', 'gz']\n"
     ]
    },
    {
     "name": "stderr",
     "output_type": "stream",
     "text": [
      "[W::hts_idx_load3] The index file is older than the data file: /data/projects/GDC_Cancer_Wise/New_data/Brain/Downloaded_files/VCF/6122ecc8-19d6-4462-bfe6-706bfe4af1d0/9c9fa09e-4db1-4f42-b64b-7c7302b81c29.wgs.CaVEMan.raw_somatic_mutation.vcf.gz.tbi\n"
     ]
    },
    {
     "name": "stdout",
     "output_type": "stream",
     "text": [
      "9c9fa09e-4db1-4f42-b64b-7c7302b81c29 CaVEMan 56985 20 18 ['CHROM', 'START_POS', 'END_POS', 'ID', 'REF', 'ALT', 'QUAL', 'FILTER', 'ASMD', 'ASRD', 'CLPM', 'DP', 'DS', 'GP', 'MP', 'SG', 'SNP', 'SP', 'TG', 'TP']\n",
      "['09943319-e446-4462-b6a6-6e7f08af8775', 'wgs', 'CaVEMan', 'raw_somatic_mutation', 'vcf', 'gz']\n",
      "09943319-e446-4462-b6a6-6e7f08af8775 CaVEMan 47288 20 15 ['CHROM', 'START_POS', 'END_POS', 'ID', 'REF', 'ALT', 'QUAL', 'FILTER', 'ASMD', 'ASRD', 'CLPM', 'DP', 'DS', 'GP', 'MP', 'SG', 'SNP', 'SP', 'TG', 'TP']\n",
      "['da5fbf8f-862d-49a6-8119-86f508063e29', 'wgs', 'sanger_raw_pindel', 'raw_somatic_mutation', 'vcf', 'gz']\n"
     ]
    },
    {
     "name": "stderr",
     "output_type": "stream",
     "text": [
      "[W::hts_idx_load3] The index file is older than the data file: /data/projects/GDC_Cancer_Wise/New_data/Brain/Downloaded_files/VCF/f4191148-dfb7-4608-9a41-964b8c778ed4/da5fbf8f-862d-49a6-8119-86f508063e29.wgs.sanger_raw_pindel.raw_somatic_mutation.vcf.gz.tbi\n"
     ]
    },
    {
     "name": "stdout",
     "output_type": "stream",
     "text": [
      "da5fbf8f-862d-49a6-8119-86f508063e29 sanger_raw_pindel 857745 17 122 ['CHROM', 'START_POS', 'END_POS', 'ID', 'REF', 'ALT', 'QUAL', 'FILTER', 'FF017', 'LEN', 'OLD_VARIANT', 'PC', 'RE', 'REP', 'RS', 'S1', 'S2']\n",
      "['948b350f-fc72-4694-9c71-b67e71f57351', 'wgs', 'sanger_raw_pindel', 'raw_somatic_mutation', 'vcf', 'gz']\n"
     ]
    },
    {
     "name": "stderr",
     "output_type": "stream",
     "text": [
      "[W::hts_idx_load3] The index file is older than the data file: /data/projects/GDC_Cancer_Wise/New_data/Brain/Downloaded_files/VCF/6c15596a-ffde-4b11-8ed0-0eabd0a1e9d9/948b350f-fc72-4694-9c71-b67e71f57351.wgs.sanger_raw_pindel.raw_somatic_mutation.vcf.gz.tbi\n"
     ]
    },
    {
     "name": "stdout",
     "output_type": "stream",
     "text": [
      "948b350f-fc72-4694-9c71-b67e71f57351 sanger_raw_pindel 894018 17 126 ['CHROM', 'START_POS', 'END_POS', 'ID', 'REF', 'ALT', 'QUAL', 'FILTER', 'FF017', 'LEN', 'OLD_VARIANT', 'PC', 'RE', 'REP', 'RS', 'S1', 'S2']\n",
      "['324bda04-9380-4bf8-9ebd-6f28759a5393', 'wgs', 'sanger_raw_pindel', 'raw_somatic_mutation', 'vcf', 'gz']\n",
      "324bda04-9380-4bf8-9ebd-6f28759a5393 sanger_raw_pindel 884461 17 123 ['CHROM', 'START_POS', 'END_POS', 'ID', 'REF', 'ALT', 'QUAL', 'FILTER', 'FF017', 'LEN', 'OLD_VARIANT', 'PC', 'RE', 'REP', 'RS', 'S1', 'S2']\n",
      "['b5fb53b7-7a70-48a2-84ff-ca6ebe62d053', 'wgs', 'CaVEMan', 'raw_somatic_mutation', 'vcf', 'gz']\n",
      "b5fb53b7-7a70-48a2-84ff-ca6ebe62d053 CaVEMan 48505 20 29 ['CHROM', 'START_POS', 'END_POS', 'ID', 'REF', 'ALT', 'QUAL', 'FILTER', 'ASMD', 'ASRD', 'CLPM', 'DP', 'DS', 'GP', 'MP', 'SG', 'SNP', 'SP', 'TG', 'TP']\n",
      "['b20bcb30-fa83-4da4-85f7-e55efefd6ea1', 'wgs', 'CaVEMan', 'raw_somatic_mutation', 'vcf', 'gz']\n",
      "b20bcb30-fa83-4da4-85f7-e55efefd6ea1 CaVEMan 40184 20 7 ['CHROM', 'START_POS', 'END_POS', 'ID', 'REF', 'ALT', 'QUAL', 'FILTER', 'ASMD', 'ASRD', 'CLPM', 'DP', 'DS', 'GP', 'MP', 'SG', 'SNP', 'SP', 'TG', 'TP']\n",
      "['7d01d7c7-5138-4883-a4e3-c763151943df', 'wgs', 'CaVEMan', 'raw_somatic_mutation', 'vcf', 'gz']\n",
      "7d01d7c7-5138-4883-a4e3-c763151943df CaVEMan 43181 20 18 ['CHROM', 'START_POS', 'END_POS', 'ID', 'REF', 'ALT', 'QUAL', 'FILTER', 'ASMD', 'ASRD', 'CLPM', 'DP', 'DS', 'GP', 'MP', 'SG', 'SNP', 'SP', 'TG', 'TP']\n",
      "['22653df8-0c37-4f24-8832-95dd239f49b6', 'wgs', 'sanger_raw_pindel', 'raw_somatic_mutation', 'vcf', 'gz']\n",
      "22653df8-0c37-4f24-8832-95dd239f49b6 sanger_raw_pindel 887476 17 132 ['CHROM', 'START_POS', 'END_POS', 'ID', 'REF', 'ALT', 'QUAL', 'FILTER', 'FF017', 'LEN', 'OLD_VARIANT', 'PC', 'RE', 'REP', 'RS', 'S1', 'S2']\n",
      "['90c2456b-af8b-4e31-ae86-7de05a0f4124', 'wgs', 'CaVEMan', 'raw_somatic_mutation', 'vcf', 'gz']\n",
      "90c2456b-af8b-4e31-ae86-7de05a0f4124 CaVEMan 215669 20 52 ['CHROM', 'START_POS', 'END_POS', 'ID', 'REF', 'ALT', 'QUAL', 'FILTER', 'ASMD', 'ASRD', 'CLPM', 'DP', 'DS', 'GP', 'MP', 'SG', 'SNP', 'SP', 'TG', 'TP']\n",
      "['5fe46057-1c78-4e85-befa-ba04610ecd10', 'wgs', 'sanger_raw_pindel', 'raw_somatic_mutation', 'vcf', 'gz']\n",
      "5fe46057-1c78-4e85-befa-ba04610ecd10 sanger_raw_pindel 884766 17 131 ['CHROM', 'START_POS', 'END_POS', 'ID', 'REF', 'ALT', 'QUAL', 'FILTER', 'FF017', 'LEN', 'OLD_VARIANT', 'PC', 'RE', 'REP', 'RS', 'S1', 'S2']\n",
      "['3b89e48e-3e35-402f-b7f0-6e773839de4e', 'wgs', 'CaVEMan', 'raw_somatic_mutation', 'vcf', 'gz']\n"
     ]
    },
    {
     "name": "stderr",
     "output_type": "stream",
     "text": [
      "[W::hts_idx_load3] The index file is older than the data file: /data/projects/GDC_Cancer_Wise/New_data/Brain/Downloaded_files/VCF/7f9a2eee-7db6-48a5-be5c-03b77c2fc9be/3b89e48e-3e35-402f-b7f0-6e773839de4e.wgs.CaVEMan.raw_somatic_mutation.vcf.gz.tbi\n"
     ]
    },
    {
     "name": "stdout",
     "output_type": "stream",
     "text": [
      "3b89e48e-3e35-402f-b7f0-6e773839de4e CaVEMan 55405 20 12 ['CHROM', 'START_POS', 'END_POS', 'ID', 'REF', 'ALT', 'QUAL', 'FILTER', 'ASMD', 'ASRD', 'CLPM', 'DP', 'DS', 'GP', 'MP', 'SG', 'SNP', 'SP', 'TG', 'TP']\n",
      "['5834fc99-c986-4023-b646-78c1613dcc71', 'wgs', 'sanger_raw_pindel', 'raw_somatic_mutation', 'vcf', 'gz']\n"
     ]
    },
    {
     "name": "stderr",
     "output_type": "stream",
     "text": [
      "[W::hts_idx_load3] The index file is older than the data file: /data/projects/GDC_Cancer_Wise/New_data/Brain/Downloaded_files/VCF/50d31ace-5e64-4515-a3d6-15c0b73a2105/5834fc99-c986-4023-b646-78c1613dcc71.wgs.sanger_raw_pindel.raw_somatic_mutation.vcf.gz.tbi\n"
     ]
    },
    {
     "name": "stdout",
     "output_type": "stream",
     "text": [
      "5834fc99-c986-4023-b646-78c1613dcc71 sanger_raw_pindel 880805 17 133 ['CHROM', 'START_POS', 'END_POS', 'ID', 'REF', 'ALT', 'QUAL', 'FILTER', 'FF017', 'LEN', 'OLD_VARIANT', 'PC', 'RE', 'REP', 'RS', 'S1', 'S2']\n",
      "['88c17579-6160-4429-a83a-062a5569a5d6', 'wgs', 'CaVEMan', 'raw_somatic_mutation', 'vcf', 'gz']\n",
      "88c17579-6160-4429-a83a-062a5569a5d6 CaVEMan 47052 20 8 ['CHROM', 'START_POS', 'END_POS', 'ID', 'REF', 'ALT', 'QUAL', 'FILTER', 'ASMD', 'ASRD', 'CLPM', 'DP', 'DS', 'GP', 'MP', 'SG', 'SNP', 'SP', 'TG', 'TP']\n",
      "['b2eaaa93-e870-4b1c-a835-b1d932c75b88', 'wgs', 'sanger_raw_pindel', 'raw_somatic_mutation', 'vcf', 'gz']\n",
      "b2eaaa93-e870-4b1c-a835-b1d932c75b88 sanger_raw_pindel 1062849 17 136 ['CHROM', 'START_POS', 'END_POS', 'ID', 'REF', 'ALT', 'QUAL', 'FILTER', 'FF017', 'LEN', 'OLD_VARIANT', 'PC', 'RE', 'REP', 'RS', 'S1', 'S2']\n",
      "['2c9bbb8f-4b4d-4c0e-a158-1fb0fb95aca7', 'wgs', 'sanger_raw_pindel', 'raw_somatic_mutation', 'vcf', 'gz']\n",
      "2c9bbb8f-4b4d-4c0e-a158-1fb0fb95aca7 sanger_raw_pindel 842326 17 132 ['CHROM', 'START_POS', 'END_POS', 'ID', 'REF', 'ALT', 'QUAL', 'FILTER', 'FF017', 'LEN', 'OLD_VARIANT', 'PC', 'RE', 'REP', 'RS', 'S1', 'S2']\n",
      "['d6cb373e-d9bc-43a1-8edc-2199b38b95f7', 'wgs', 'CaVEMan', 'raw_somatic_mutation', 'vcf', 'gz']\n"
     ]
    },
    {
     "name": "stderr",
     "output_type": "stream",
     "text": [
      "[W::hts_idx_load3] The index file is older than the data file: /data/projects/GDC_Cancer_Wise/New_data/Brain/Downloaded_files/VCF/e545ea84-3eaa-496c-afb1-6163c3d575f3/d6cb373e-d9bc-43a1-8edc-2199b38b95f7.wgs.CaVEMan.raw_somatic_mutation.vcf.gz.tbi\n"
     ]
    },
    {
     "name": "stdout",
     "output_type": "stream",
     "text": [
      "d6cb373e-d9bc-43a1-8edc-2199b38b95f7 CaVEMan 54850 20 19 ['CHROM', 'START_POS', 'END_POS', 'ID', 'REF', 'ALT', 'QUAL', 'FILTER', 'ASMD', 'ASRD', 'CLPM', 'DP', 'DS', 'GP', 'MP', 'SG', 'SNP', 'SP', 'TG', 'TP']\n",
      "['6643318c-9d33-4434-a98a-ceefa9c5c157', 'wgs', 'sanger_raw_pindel', 'raw_somatic_mutation', 'vcf', 'gz']\n"
     ]
    },
    {
     "name": "stderr",
     "output_type": "stream",
     "text": [
      "[W::hts_idx_load3] The index file is older than the data file: /data/projects/GDC_Cancer_Wise/New_data/Brain/Downloaded_files/VCF/bd6d90a3-149b-4236-b959-7e605c3f1068/6643318c-9d33-4434-a98a-ceefa9c5c157.wgs.sanger_raw_pindel.raw_somatic_mutation.vcf.gz.tbi\n"
     ]
    },
    {
     "name": "stdout",
     "output_type": "stream",
     "text": [
      "6643318c-9d33-4434-a98a-ceefa9c5c157 sanger_raw_pindel 910767 17 126 ['CHROM', 'START_POS', 'END_POS', 'ID', 'REF', 'ALT', 'QUAL', 'FILTER', 'FF017', 'LEN', 'OLD_VARIANT', 'PC', 'RE', 'REP', 'RS', 'S1', 'S2']\n",
      "['eef24407-c46d-45c3-9934-86902ac3ceac', 'wgs', 'CaVEMan', 'raw_somatic_mutation', 'vcf', 'gz']\n",
      "eef24407-c46d-45c3-9934-86902ac3ceac CaVEMan 44368 20 11 ['CHROM', 'START_POS', 'END_POS', 'ID', 'REF', 'ALT', 'QUAL', 'FILTER', 'ASMD', 'ASRD', 'CLPM', 'DP', 'DS', 'GP', 'MP', 'SG', 'SNP', 'SP', 'TG', 'TP']\n",
      "['f2851c73-3fa8-455f-9dc1-128ff4f1bc41', 'wgs', 'CaVEMan', 'raw_somatic_mutation', 'vcf', 'gz']\n",
      "f2851c73-3fa8-455f-9dc1-128ff4f1bc41 CaVEMan 43041 20 16 ['CHROM', 'START_POS', 'END_POS', 'ID', 'REF', 'ALT', 'QUAL', 'FILTER', 'ASMD', 'ASRD', 'CLPM', 'DP', 'DS', 'GP', 'MP', 'SG', 'SNP', 'SP', 'TG', 'TP']\n",
      "['f076e644-bc06-4a93-8754-785d2c33371e', 'wgs', 'CaVEMan', 'raw_somatic_mutation', 'vcf', 'gz']\n"
     ]
    },
    {
     "name": "stderr",
     "output_type": "stream",
     "text": [
      "[W::hts_idx_load3] The index file is older than the data file: /data/projects/GDC_Cancer_Wise/New_data/Brain/Downloaded_files/VCF/8a6a01fb-d10b-4dc9-8d57-9c4cb7eb6db7/f076e644-bc06-4a93-8754-785d2c33371e.wgs.CaVEMan.raw_somatic_mutation.vcf.gz.tbi\n"
     ]
    },
    {
     "name": "stdout",
     "output_type": "stream",
     "text": [
      "f076e644-bc06-4a93-8754-785d2c33371e CaVEMan 44764 20 14 ['CHROM', 'START_POS', 'END_POS', 'ID', 'REF', 'ALT', 'QUAL', 'FILTER', 'ASMD', 'ASRD', 'CLPM', 'DP', 'DS', 'GP', 'MP', 'SG', 'SNP', 'SP', 'TG', 'TP']\n",
      "['935fb4b5-91c3-4b57-b18a-d33597f1221c', 'wgs', 'sanger_raw_pindel', 'raw_somatic_mutation', 'vcf', 'gz']\n",
      "935fb4b5-91c3-4b57-b18a-d33597f1221c sanger_raw_pindel 868908 17 127 ['CHROM', 'START_POS', 'END_POS', 'ID', 'REF', 'ALT', 'QUAL', 'FILTER', 'FF017', 'LEN', 'OLD_VARIANT', 'PC', 'RE', 'REP', 'RS', 'S1', 'S2']\n",
      "['762bed3b-5d4a-41f6-9198-831f5c7a7348', 'wgs', 'CaVEMan', 'raw_somatic_mutation', 'vcf', 'gz']\n",
      "762bed3b-5d4a-41f6-9198-831f5c7a7348 CaVEMan 136310 20 42 ['CHROM', 'START_POS', 'END_POS', 'ID', 'REF', 'ALT', 'QUAL', 'FILTER', 'ASMD', 'ASRD', 'CLPM', 'DP', 'DS', 'GP', 'MP', 'SG', 'SNP', 'SP', 'TG', 'TP']\n",
      "['0733a98f-95bd-4aa5-b908-c9cc314cfc15', 'wgs', 'CaVEMan', 'raw_somatic_mutation', 'vcf', 'gz']\n"
     ]
    },
    {
     "name": "stderr",
     "output_type": "stream",
     "text": [
      "[W::hts_idx_load3] The index file is older than the data file: /data/projects/GDC_Cancer_Wise/New_data/Brain/Downloaded_files/VCF/7b6fdca4-e367-45c1-aedf-f126918ee6f0/0733a98f-95bd-4aa5-b908-c9cc314cfc15.wgs.CaVEMan.raw_somatic_mutation.vcf.gz.tbi\n"
     ]
    },
    {
     "name": "stdout",
     "output_type": "stream",
     "text": [
      "0733a98f-95bd-4aa5-b908-c9cc314cfc15 CaVEMan 41711 20 13 ['CHROM', 'START_POS', 'END_POS', 'ID', 'REF', 'ALT', 'QUAL', 'FILTER', 'ASMD', 'ASRD', 'CLPM', 'DP', 'DS', 'GP', 'MP', 'SG', 'SNP', 'SP', 'TG', 'TP']\n",
      "['3f11b5e7-dc63-4116-a60c-1b8c9e5f6cd2', 'wgs', 'CaVEMan', 'raw_somatic_mutation', 'vcf', 'gz']\n"
     ]
    },
    {
     "name": "stderr",
     "output_type": "stream",
     "text": [
      "[W::hts_idx_load3] The index file is older than the data file: /data/projects/GDC_Cancer_Wise/New_data/Brain/Downloaded_files/VCF/a6f92c2c-6d43-4097-8501-d54acaae8b47/3f11b5e7-dc63-4116-a60c-1b8c9e5f6cd2.wgs.CaVEMan.raw_somatic_mutation.vcf.gz.tbi\n"
     ]
    },
    {
     "name": "stdout",
     "output_type": "stream",
     "text": [
      "3f11b5e7-dc63-4116-a60c-1b8c9e5f6cd2 CaVEMan 256115 20 49 ['CHROM', 'START_POS', 'END_POS', 'ID', 'REF', 'ALT', 'QUAL', 'FILTER', 'ASMD', 'ASRD', 'CLPM', 'DP', 'DS', 'GP', 'MP', 'SG', 'SNP', 'SP', 'TG', 'TP']\n",
      "['4f11a51f-c10a-4e56-b193-4e8d1cadf21c', 'wgs', 'CaVEMan', 'raw_somatic_mutation', 'vcf', 'gz']\n",
      "4f11a51f-c10a-4e56-b193-4e8d1cadf21c CaVEMan 56900 20 21 ['CHROM', 'START_POS', 'END_POS', 'ID', 'REF', 'ALT', 'QUAL', 'FILTER', 'ASMD', 'ASRD', 'CLPM', 'DP', 'DS', 'GP', 'MP', 'SG', 'SNP', 'SP', 'TG', 'TP']\n",
      "['5d65b3c0-5c29-48aa-b6fb-37baf78fe409', 'wgs', 'sanger_raw_pindel', 'raw_somatic_mutation', 'vcf', 'gz']\n"
     ]
    },
    {
     "name": "stderr",
     "output_type": "stream",
     "text": [
      "[W::hts_idx_load3] The index file is older than the data file: /data/projects/GDC_Cancer_Wise/New_data/Brain/Downloaded_files/VCF/051caf15-4b68-440c-8451-ce5b4d62e4b8/5d65b3c0-5c29-48aa-b6fb-37baf78fe409.wgs.sanger_raw_pindel.raw_somatic_mutation.vcf.gz.tbi\n"
     ]
    },
    {
     "name": "stdout",
     "output_type": "stream",
     "text": [
      "5d65b3c0-5c29-48aa-b6fb-37baf78fe409 sanger_raw_pindel 859119 17 120 ['CHROM', 'START_POS', 'END_POS', 'ID', 'REF', 'ALT', 'QUAL', 'FILTER', 'FF017', 'LEN', 'OLD_VARIANT', 'PC', 'RE', 'REP', 'RS', 'S1', 'S2']\n",
      "['f3ad237d-b424-4ca4-9659-2ff88a42e584', 'wgs', 'sanger_raw_pindel', 'raw_somatic_mutation', 'vcf', 'gz']\n"
     ]
    },
    {
     "name": "stderr",
     "output_type": "stream",
     "text": [
      "[W::hts_idx_load3] The index file is older than the data file: /data/projects/GDC_Cancer_Wise/New_data/Brain/Downloaded_files/VCF/aefaddff-269d-4d02-9ccf-331d71350fe0/f3ad237d-b424-4ca4-9659-2ff88a42e584.wgs.sanger_raw_pindel.raw_somatic_mutation.vcf.gz.tbi\n"
     ]
    },
    {
     "name": "stdout",
     "output_type": "stream",
     "text": [
      "f3ad237d-b424-4ca4-9659-2ff88a42e584 sanger_raw_pindel 815913 17 126 ['CHROM', 'START_POS', 'END_POS', 'ID', 'REF', 'ALT', 'QUAL', 'FILTER', 'FF017', 'LEN', 'OLD_VARIANT', 'PC', 'RE', 'REP', 'RS', 'S1', 'S2']\n",
      "['bda972d3-48e6-4781-8692-a3effd0aa91c', 'wgs', 'sanger_raw_pindel', 'raw_somatic_mutation', 'vcf', 'gz']\n"
     ]
    },
    {
     "name": "stderr",
     "output_type": "stream",
     "text": [
      "[W::hts_idx_load3] The index file is older than the data file: /data/projects/GDC_Cancer_Wise/New_data/Brain/Downloaded_files/VCF/abed4d08-38aa-4d99-8a0d-05ba70e9fcbe/bda972d3-48e6-4781-8692-a3effd0aa91c.wgs.sanger_raw_pindel.raw_somatic_mutation.vcf.gz.tbi\n"
     ]
    },
    {
     "name": "stdout",
     "output_type": "stream",
     "text": [
      "bda972d3-48e6-4781-8692-a3effd0aa91c sanger_raw_pindel 917109 17 139 ['CHROM', 'START_POS', 'END_POS', 'ID', 'REF', 'ALT', 'QUAL', 'FILTER', 'FF017', 'LEN', 'OLD_VARIANT', 'PC', 'RE', 'REP', 'RS', 'S1', 'S2']\n",
      "['6ce0f8f2-a580-40a3-9b25-54a1ac040ac3', 'wgs', 'CaVEMan', 'raw_somatic_mutation', 'vcf', 'gz']\n"
     ]
    },
    {
     "name": "stderr",
     "output_type": "stream",
     "text": [
      "[W::hts_idx_load3] The index file is older than the data file: /data/projects/GDC_Cancer_Wise/New_data/Brain/Downloaded_files/VCF/78227fa5-fe11-431d-ae95-2b4d2db28226/6ce0f8f2-a580-40a3-9b25-54a1ac040ac3.wgs.CaVEMan.raw_somatic_mutation.vcf.gz.tbi\n"
     ]
    },
    {
     "name": "stdout",
     "output_type": "stream",
     "text": [
      "6ce0f8f2-a580-40a3-9b25-54a1ac040ac3 CaVEMan 50130 20 9 ['CHROM', 'START_POS', 'END_POS', 'ID', 'REF', 'ALT', 'QUAL', 'FILTER', 'ASMD', 'ASRD', 'CLPM', 'DP', 'DS', 'GP', 'MP', 'SG', 'SNP', 'SP', 'TG', 'TP']\n",
      "['935fb4b5-91c3-4b57-b18a-d33597f1221c', 'wgs', 'CaVEMan', 'raw_somatic_mutation', 'vcf', 'gz']\n",
      "935fb4b5-91c3-4b57-b18a-d33597f1221c CaVEMan 36950 20 9 ['CHROM', 'START_POS', 'END_POS', 'ID', 'REF', 'ALT', 'QUAL', 'FILTER', 'ASMD', 'ASRD', 'CLPM', 'DP', 'DS', 'GP', 'MP', 'SG', 'SNP', 'SP', 'TG', 'TP']\n",
      "['c844a8f1-9588-4e70-a89c-12014aeef8a7', 'wgs', 'CaVEMan', 'raw_somatic_mutation', 'vcf', 'gz']\n",
      "c844a8f1-9588-4e70-a89c-12014aeef8a7 CaVEMan 405303 20 96 ['CHROM', 'START_POS', 'END_POS', 'ID', 'REF', 'ALT', 'QUAL', 'FILTER', 'ASMD', 'ASRD', 'CLPM', 'DP', 'DS', 'GP', 'MP', 'SG', 'SNP', 'SP', 'TG', 'TP']\n",
      "['83ab04a3-bd1b-4ff1-b06b-a256ff8b7d03', 'wgs', 'CaVEMan', 'raw_somatic_mutation', 'vcf', 'gz']\n"
     ]
    },
    {
     "name": "stderr",
     "output_type": "stream",
     "text": [
      "[W::hts_idx_load3] The index file is older than the data file: /data/projects/GDC_Cancer_Wise/New_data/Brain/Downloaded_files/VCF/e5e99249-cde7-435b-bd9b-a56451cbd429/83ab04a3-bd1b-4ff1-b06b-a256ff8b7d03.wgs.CaVEMan.raw_somatic_mutation.vcf.gz.tbi\n"
     ]
    },
    {
     "name": "stdout",
     "output_type": "stream",
     "text": [
      "83ab04a3-bd1b-4ff1-b06b-a256ff8b7d03 CaVEMan 50048 20 15 ['CHROM', 'START_POS', 'END_POS', 'ID', 'REF', 'ALT', 'QUAL', 'FILTER', 'ASMD', 'ASRD', 'CLPM', 'DP', 'DS', 'GP', 'MP', 'SG', 'SNP', 'SP', 'TG', 'TP']\n",
      "['7577bbca-7ad7-4058-bf0e-787b38c673aa', 'wgs', 'sanger_raw_pindel', 'raw_somatic_mutation', 'vcf', 'gz']\n"
     ]
    },
    {
     "name": "stderr",
     "output_type": "stream",
     "text": [
      "[W::hts_idx_load3] The index file is older than the data file: /data/projects/GDC_Cancer_Wise/New_data/Brain/Downloaded_files/VCF/4dee7279-9cc9-4f3e-b9a3-8233836315eb/7577bbca-7ad7-4058-bf0e-787b38c673aa.wgs.sanger_raw_pindel.raw_somatic_mutation.vcf.gz.tbi\n"
     ]
    },
    {
     "name": "stdout",
     "output_type": "stream",
     "text": [
      "7577bbca-7ad7-4058-bf0e-787b38c673aa sanger_raw_pindel 915989 17 124 ['CHROM', 'START_POS', 'END_POS', 'ID', 'REF', 'ALT', 'QUAL', 'FILTER', 'FF017', 'LEN', 'OLD_VARIANT', 'PC', 'RE', 'REP', 'RS', 'S1', 'S2']\n",
      "['5710b72b-8318-49f9-937a-f775a5c8c160', 'wgs', 'CaVEMan', 'raw_somatic_mutation', 'vcf', 'gz']\n"
     ]
    },
    {
     "name": "stderr",
     "output_type": "stream",
     "text": [
      "[W::hts_idx_load3] The index file is older than the data file: /data/projects/GDC_Cancer_Wise/New_data/Brain/Downloaded_files/VCF/26376468-e752-451f-8cf0-77f266e30db9/5710b72b-8318-49f9-937a-f775a5c8c160.wgs.CaVEMan.raw_somatic_mutation.vcf.gz.tbi\n"
     ]
    },
    {
     "name": "stdout",
     "output_type": "stream",
     "text": [
      "5710b72b-8318-49f9-937a-f775a5c8c160 CaVEMan 71624 20 11 ['CHROM', 'START_POS', 'END_POS', 'ID', 'REF', 'ALT', 'QUAL', 'FILTER', 'ASMD', 'ASRD', 'CLPM', 'DP', 'DS', 'GP', 'MP', 'SG', 'SNP', 'SP', 'TG', 'TP']\n",
      "['715eb351-d741-4dfe-95b4-6618c48ab5a9', 'wgs', 'CaVEMan', 'raw_somatic_mutation', 'vcf', 'gz']\n",
      "715eb351-d741-4dfe-95b4-6618c48ab5a9 CaVEMan 218201 20 58 ['CHROM', 'START_POS', 'END_POS', 'ID', 'REF', 'ALT', 'QUAL', 'FILTER', 'ASMD', 'ASRD', 'CLPM', 'DP', 'DS', 'GP', 'MP', 'SG', 'SNP', 'SP', 'TG', 'TP']\n",
      "['756521ee-9f67-49e6-9cea-d2d933750d74', 'wgs', 'sanger_raw_pindel', 'raw_somatic_mutation', 'vcf', 'gz']\n",
      "756521ee-9f67-49e6-9cea-d2d933750d74 sanger_raw_pindel 900068 17 122 ['CHROM', 'START_POS', 'END_POS', 'ID', 'REF', 'ALT', 'QUAL', 'FILTER', 'FF017', 'LEN', 'OLD_VARIANT', 'PC', 'RE', 'REP', 'RS', 'S1', 'S2']\n",
      "['b78b66b2-2983-4965-99ff-8a7e45a07d8f', 'wgs', 'sanger_raw_pindel', 'raw_somatic_mutation', 'vcf', 'gz']\n",
      "b78b66b2-2983-4965-99ff-8a7e45a07d8f sanger_raw_pindel 1282999 17 155 ['CHROM', 'START_POS', 'END_POS', 'ID', 'REF', 'ALT', 'QUAL', 'FILTER', 'FF017', 'LEN', 'OLD_VARIANT', 'PC', 'RE', 'REP', 'RS', 'S1', 'S2']\n",
      "['f277dc80-abac-41d1-a23f-460da23b2555', 'wgs', 'sanger_raw_pindel', 'raw_somatic_mutation', 'vcf', 'gz']\n",
      "f277dc80-abac-41d1-a23f-460da23b2555 sanger_raw_pindel 1076210 17 151 ['CHROM', 'START_POS', 'END_POS', 'ID', 'REF', 'ALT', 'QUAL', 'FILTER', 'FF017', 'LEN', 'OLD_VARIANT', 'PC', 'RE', 'REP', 'RS', 'S1', 'S2']\n",
      "['b38d4d3c-9994-41fe-8559-46ad3c339d9e', 'wgs', 'sanger_raw_pindel', 'raw_somatic_mutation', 'vcf', 'gz']\n"
     ]
    },
    {
     "name": "stderr",
     "output_type": "stream",
     "text": [
      "[W::hts_idx_load3] The index file is older than the data file: /data/projects/GDC_Cancer_Wise/New_data/Brain/Downloaded_files/VCF/6913c744-9ef6-40c1-b9c9-920e64e7aab7/b38d4d3c-9994-41fe-8559-46ad3c339d9e.wgs.sanger_raw_pindel.raw_somatic_mutation.vcf.gz.tbi\n"
     ]
    },
    {
     "name": "stdout",
     "output_type": "stream",
     "text": [
      "b38d4d3c-9994-41fe-8559-46ad3c339d9e sanger_raw_pindel 778956 17 129 ['CHROM', 'START_POS', 'END_POS', 'ID', 'REF', 'ALT', 'QUAL', 'FILTER', 'FF017', 'LEN', 'OLD_VARIANT', 'PC', 'RE', 'REP', 'RS', 'S1', 'S2']\n",
      "['762bed3b-5d4a-41f6-9198-831f5c7a7348', 'wgs', 'sanger_raw_pindel', 'raw_somatic_mutation', 'vcf', 'gz']\n",
      "762bed3b-5d4a-41f6-9198-831f5c7a7348 sanger_raw_pindel 1939140 17 221 ['CHROM', 'START_POS', 'END_POS', 'ID', 'REF', 'ALT', 'QUAL', 'FILTER', 'FF017', 'LEN', 'OLD_VARIANT', 'PC', 'RE', 'REP', 'RS', 'S1', 'S2']\n",
      "['cf565879-9f53-4fd1-b0da-065869293342', 'wgs', 'CaVEMan', 'raw_somatic_mutation', 'vcf', 'gz']\n"
     ]
    },
    {
     "name": "stderr",
     "output_type": "stream",
     "text": [
      "[W::hts_idx_load3] The index file is older than the data file: /data/projects/GDC_Cancer_Wise/New_data/Brain/Downloaded_files/VCF/308fd996-7253-4287-a5d5-f36cfc16d6e6/cf565879-9f53-4fd1-b0da-065869293342.wgs.CaVEMan.raw_somatic_mutation.vcf.gz.tbi\n"
     ]
    },
    {
     "name": "stdout",
     "output_type": "stream",
     "text": [
      "cf565879-9f53-4fd1-b0da-065869293342 CaVEMan 45637 20 15 ['CHROM', 'START_POS', 'END_POS', 'ID', 'REF', 'ALT', 'QUAL', 'FILTER', 'ASMD', 'ASRD', 'CLPM', 'DP', 'DS', 'GP', 'MP', 'SG', 'SNP', 'SP', 'TG', 'TP']\n",
      "['dd045b58-4d6a-4404-a412-6aa9e99e282e', 'wgs', 'sanger_raw_pindel', 'raw_somatic_mutation', 'vcf', 'gz']\n",
      "dd045b58-4d6a-4404-a412-6aa9e99e282e sanger_raw_pindel 852124 17 129 ['CHROM', 'START_POS', 'END_POS', 'ID', 'REF', 'ALT', 'QUAL', 'FILTER', 'FF017', 'LEN', 'OLD_VARIANT', 'PC', 'RE', 'REP', 'RS', 'S1', 'S2']\n",
      "['0733a98f-95bd-4aa5-b908-c9cc314cfc15', 'wgs', 'sanger_raw_pindel', 'raw_somatic_mutation', 'vcf', 'gz']\n",
      "0733a98f-95bd-4aa5-b908-c9cc314cfc15 sanger_raw_pindel 851371 17 122 ['CHROM', 'START_POS', 'END_POS', 'ID', 'REF', 'ALT', 'QUAL', 'FILTER', 'FF017', 'LEN', 'OLD_VARIANT', 'PC', 'RE', 'REP', 'RS', 'S1', 'S2']\n",
      "['230ada41-a82f-4835-9865-c762827493b5', 'wgs', 'sanger_raw_pindel', 'raw_somatic_mutation', 'vcf', 'gz']\n",
      "230ada41-a82f-4835-9865-c762827493b5 sanger_raw_pindel 805354 17 123 ['CHROM', 'START_POS', 'END_POS', 'ID', 'REF', 'ALT', 'QUAL', 'FILTER', 'FF017', 'LEN', 'OLD_VARIANT', 'PC', 'RE', 'REP', 'RS', 'S1', 'S2']\n",
      "['6650dfa0-01b8-411a-bc01-bf1cad6c111b', 'wgs', 'CaVEMan', 'raw_somatic_mutation', 'vcf', 'gz']\n",
      "6650dfa0-01b8-411a-bc01-bf1cad6c111b CaVEMan 53687 20 19 ['CHROM', 'START_POS', 'END_POS', 'ID', 'REF', 'ALT', 'QUAL', 'FILTER', 'ASMD', 'ASRD', 'CLPM', 'DP', 'DS', 'GP', 'MP', 'SG', 'SNP', 'SP', 'TG', 'TP']\n",
      "['2f48d7c8-1a93-4c71-8b96-2ea6fc7c7478', 'wgs', 'CaVEMan', 'raw_somatic_mutation', 'vcf', 'gz']\n"
     ]
    },
    {
     "name": "stderr",
     "output_type": "stream",
     "text": [
      "[W::hts_idx_load3] The index file is older than the data file: /data/projects/GDC_Cancer_Wise/New_data/Brain/Downloaded_files/VCF/8379e27e-b178-42fb-bf9d-6b7ee9a12bcc/2f48d7c8-1a93-4c71-8b96-2ea6fc7c7478.wgs.CaVEMan.raw_somatic_mutation.vcf.gz.tbi\n"
     ]
    },
    {
     "name": "stdout",
     "output_type": "stream",
     "text": [
      "2f48d7c8-1a93-4c71-8b96-2ea6fc7c7478 CaVEMan 56999 20 12 ['CHROM', 'START_POS', 'END_POS', 'ID', 'REF', 'ALT', 'QUAL', 'FILTER', 'ASMD', 'ASRD', 'CLPM', 'DP', 'DS', 'GP', 'MP', 'SG', 'SNP', 'SP', 'TG', 'TP']\n",
      "['410db725-9a2f-4df3-8ace-6eedd4988cec', 'wgs', 'sanger_raw_pindel', 'raw_somatic_mutation', 'vcf', 'gz']\n"
     ]
    },
    {
     "name": "stderr",
     "output_type": "stream",
     "text": [
      "[W::hts_idx_load3] The index file is older than the data file: /data/projects/GDC_Cancer_Wise/New_data/Brain/Downloaded_files/VCF/a4174223-6d2c-450f-a43b-655259a9a2f2/410db725-9a2f-4df3-8ace-6eedd4988cec.wgs.sanger_raw_pindel.raw_somatic_mutation.vcf.gz.tbi\n"
     ]
    },
    {
     "name": "stdout",
     "output_type": "stream",
     "text": [
      "410db725-9a2f-4df3-8ace-6eedd4988cec sanger_raw_pindel 1239305 17 164 ['CHROM', 'START_POS', 'END_POS', 'ID', 'REF', 'ALT', 'QUAL', 'FILTER', 'FF017', 'LEN', 'OLD_VARIANT', 'PC', 'RE', 'REP', 'RS', 'S1', 'S2']\n",
      "['3824268d-4d2e-4811-9efe-906c3a37005d', 'wgs', 'sanger_raw_pindel', 'raw_somatic_mutation', 'vcf', 'gz']\n",
      "3824268d-4d2e-4811-9efe-906c3a37005d sanger_raw_pindel 912650 17 119 ['CHROM', 'START_POS', 'END_POS', 'ID', 'REF', 'ALT', 'QUAL', 'FILTER', 'FF017', 'LEN', 'OLD_VARIANT', 'PC', 'RE', 'REP', 'RS', 'S1', 'S2']\n",
      "['0b66e90d-56ae-4857-933f-8df4ca7a202f', 'wgs', 'CaVEMan', 'raw_somatic_mutation', 'vcf', 'gz']\n",
      "0b66e90d-56ae-4857-933f-8df4ca7a202f CaVEMan 63789 20 12 ['CHROM', 'START_POS', 'END_POS', 'ID', 'REF', 'ALT', 'QUAL', 'FILTER', 'ASMD', 'ASRD', 'CLPM', 'DP', 'DS', 'GP', 'MP', 'SG', 'SNP', 'SP', 'TG', 'TP']\n",
      "['9b51bdd3-0ec9-42ca-9a09-a978bcef3ab0', 'wgs', 'CaVEMan', 'raw_somatic_mutation', 'vcf', 'gz']\n"
     ]
    },
    {
     "name": "stderr",
     "output_type": "stream",
     "text": [
      "[W::hts_idx_load3] The index file is older than the data file: /data/projects/GDC_Cancer_Wise/New_data/Brain/Downloaded_files/VCF/7aa66ac6-033d-4852-bb2e-8f1b362123b7/9b51bdd3-0ec9-42ca-9a09-a978bcef3ab0.wgs.CaVEMan.raw_somatic_mutation.vcf.gz.tbi\n"
     ]
    },
    {
     "name": "stdout",
     "output_type": "stream",
     "text": [
      "9b51bdd3-0ec9-42ca-9a09-a978bcef3ab0 CaVEMan 53830 20 14 ['CHROM', 'START_POS', 'END_POS', 'ID', 'REF', 'ALT', 'QUAL', 'FILTER', 'ASMD', 'ASRD', 'CLPM', 'DP', 'DS', 'GP', 'MP', 'SG', 'SNP', 'SP', 'TG', 'TP']\n",
      "['309343e2-1a1b-4651-a0af-118cdc8abd75', 'wgs', 'sanger_raw_pindel', 'raw_somatic_mutation', 'vcf', 'gz']\n"
     ]
    },
    {
     "name": "stderr",
     "output_type": "stream",
     "text": [
      "[W::hts_idx_load3] The index file is older than the data file: /data/projects/GDC_Cancer_Wise/New_data/Brain/Downloaded_files/VCF/02311d43-e423-4909-984c-a1de7d8cbc07/309343e2-1a1b-4651-a0af-118cdc8abd75.wgs.sanger_raw_pindel.raw_somatic_mutation.vcf.gz.tbi\n"
     ]
    },
    {
     "name": "stdout",
     "output_type": "stream",
     "text": [
      "309343e2-1a1b-4651-a0af-118cdc8abd75 sanger_raw_pindel 896983 17 119 ['CHROM', 'START_POS', 'END_POS', 'ID', 'REF', 'ALT', 'QUAL', 'FILTER', 'FF017', 'LEN', 'OLD_VARIANT', 'PC', 'RE', 'REP', 'RS', 'S1', 'S2']\n",
      "['d9410fc4-1d9e-4fc0-bf39-5188714586e4', 'wgs', 'CaVEMan', 'raw_somatic_mutation', 'vcf', 'gz']\n"
     ]
    },
    {
     "name": "stderr",
     "output_type": "stream",
     "text": [
      "[W::hts_idx_load3] The index file is older than the data file: /data/projects/GDC_Cancer_Wise/New_data/Brain/Downloaded_files/VCF/0397141f-d3f9-4838-875a-1b9d5a4e36bc/d9410fc4-1d9e-4fc0-bf39-5188714586e4.wgs.CaVEMan.raw_somatic_mutation.vcf.gz.tbi\n"
     ]
    },
    {
     "name": "stdout",
     "output_type": "stream",
     "text": [
      "d9410fc4-1d9e-4fc0-bf39-5188714586e4 CaVEMan 292205 20 64 ['CHROM', 'START_POS', 'END_POS', 'ID', 'REF', 'ALT', 'QUAL', 'FILTER', 'ASMD', 'ASRD', 'CLPM', 'DP', 'DS', 'GP', 'MP', 'SG', 'SNP', 'SP', 'TG', 'TP']\n",
      "['37625bad-65ff-4f12-ad62-fca2001b8425', 'wgs', 'sanger_raw_pindel', 'raw_somatic_mutation', 'vcf', 'gz']\n"
     ]
    },
    {
     "name": "stderr",
     "output_type": "stream",
     "text": [
      "[W::hts_idx_load3] The index file is older than the data file: /data/projects/GDC_Cancer_Wise/New_data/Brain/Downloaded_files/VCF/f33b0cee-8b0d-40ff-9d1f-c6887a10adfb/37625bad-65ff-4f12-ad62-fca2001b8425.wgs.sanger_raw_pindel.raw_somatic_mutation.vcf.gz.tbi\n"
     ]
    },
    {
     "name": "stdout",
     "output_type": "stream",
     "text": [
      "37625bad-65ff-4f12-ad62-fca2001b8425 sanger_raw_pindel 1072780 17 146 ['CHROM', 'START_POS', 'END_POS', 'ID', 'REF', 'ALT', 'QUAL', 'FILTER', 'FF017', 'LEN', 'OLD_VARIANT', 'PC', 'RE', 'REP', 'RS', 'S1', 'S2']\n",
      "['a5867fd1-4897-4559-855a-c30002d3c6bb', 'wgs', 'CaVEMan', 'raw_somatic_mutation', 'vcf', 'gz']\n"
     ]
    },
    {
     "name": "stderr",
     "output_type": "stream",
     "text": [
      "[W::hts_idx_load3] The index file is older than the data file: /data/projects/GDC_Cancer_Wise/New_data/Brain/Downloaded_files/VCF/a8004254-9887-480b-a947-a48003d21083/a5867fd1-4897-4559-855a-c30002d3c6bb.wgs.CaVEMan.raw_somatic_mutation.vcf.gz.tbi\n"
     ]
    },
    {
     "name": "stdout",
     "output_type": "stream",
     "text": [
      "a5867fd1-4897-4559-855a-c30002d3c6bb CaVEMan 73960 20 23 ['CHROM', 'START_POS', 'END_POS', 'ID', 'REF', 'ALT', 'QUAL', 'FILTER', 'ASMD', 'ASRD', 'CLPM', 'DP', 'DS', 'GP', 'MP', 'SG', 'SNP', 'SP', 'TG', 'TP']\n",
      "['e5bd9afb-3fbd-4688-a376-795a51fd5079', 'wgs', 'sanger_raw_pindel', 'raw_somatic_mutation', 'vcf', 'gz']\n"
     ]
    },
    {
     "name": "stderr",
     "output_type": "stream",
     "text": [
      "[W::hts_idx_load3] The index file is older than the data file: /data/projects/GDC_Cancer_Wise/New_data/Brain/Downloaded_files/VCF/2046b9d0-64af-4366-a4c9-8fd7db039ed1/e5bd9afb-3fbd-4688-a376-795a51fd5079.wgs.sanger_raw_pindel.raw_somatic_mutation.vcf.gz.tbi\n"
     ]
    },
    {
     "name": "stdout",
     "output_type": "stream",
     "text": [
      "e5bd9afb-3fbd-4688-a376-795a51fd5079 sanger_raw_pindel 897219 17 136 ['CHROM', 'START_POS', 'END_POS', 'ID', 'REF', 'ALT', 'QUAL', 'FILTER', 'FF017', 'LEN', 'OLD_VARIANT', 'PC', 'RE', 'REP', 'RS', 'S1', 'S2']\n",
      "['2a14ea45-6901-488a-af43-1e6287ec8bb0', 'wgs', 'sanger_raw_pindel', 'raw_somatic_mutation', 'vcf', 'gz']\n",
      "2a14ea45-6901-488a-af43-1e6287ec8bb0 sanger_raw_pindel 868755 17 123 ['CHROM', 'START_POS', 'END_POS', 'ID', 'REF', 'ALT', 'QUAL', 'FILTER', 'FF017', 'LEN', 'OLD_VARIANT', 'PC', 'RE', 'REP', 'RS', 'S1', 'S2']\n",
      "['8da9bde9-4b8c-46a2-bcc2-a620a186bab3', 'wgs', 'sanger_raw_pindel', 'raw_somatic_mutation', 'vcf', 'gz']\n",
      "8da9bde9-4b8c-46a2-bcc2-a620a186bab3 sanger_raw_pindel 856674 17 129 ['CHROM', 'START_POS', 'END_POS', 'ID', 'REF', 'ALT', 'QUAL', 'FILTER', 'FF017', 'LEN', 'OLD_VARIANT', 'PC', 'RE', 'REP', 'RS', 'S1', 'S2']\n",
      "['69cd1c55-296a-4f72-9ada-b846d6c88175', 'wgs', 'CaVEMan', 'raw_somatic_mutation', 'vcf', 'gz']\n",
      "69cd1c55-296a-4f72-9ada-b846d6c88175 CaVEMan 292618 20 54 ['CHROM', 'START_POS', 'END_POS', 'ID', 'REF', 'ALT', 'QUAL', 'FILTER', 'ASMD', 'ASRD', 'CLPM', 'DP', 'DS', 'GP', 'MP', 'SG', 'SNP', 'SP', 'TG', 'TP']\n",
      "['cf565879-9f53-4fd1-b0da-065869293342', 'wgs', 'sanger_raw_pindel', 'raw_somatic_mutation', 'vcf', 'gz']\n"
     ]
    },
    {
     "name": "stderr",
     "output_type": "stream",
     "text": [
      "[W::hts_idx_load3] The index file is older than the data file: /data/projects/GDC_Cancer_Wise/New_data/Brain/Downloaded_files/VCF/8e86301e-4236-46a8-9bb3-c00f520cb8bb/cf565879-9f53-4fd1-b0da-065869293342.wgs.sanger_raw_pindel.raw_somatic_mutation.vcf.gz.tbi\n"
     ]
    },
    {
     "name": "stdout",
     "output_type": "stream",
     "text": [
      "cf565879-9f53-4fd1-b0da-065869293342 sanger_raw_pindel 866157 17 128 ['CHROM', 'START_POS', 'END_POS', 'ID', 'REF', 'ALT', 'QUAL', 'FILTER', 'FF017', 'LEN', 'OLD_VARIANT', 'PC', 'RE', 'REP', 'RS', 'S1', 'S2']\n",
      "['f02e7e02-eb4c-429c-b5c4-6143b1cf4d75', 'wgs', 'CaVEMan', 'raw_somatic_mutation', 'vcf', 'gz']\n",
      "f02e7e02-eb4c-429c-b5c4-6143b1cf4d75 CaVEMan 50884 20 18 ['CHROM', 'START_POS', 'END_POS', 'ID', 'REF', 'ALT', 'QUAL', 'FILTER', 'ASMD', 'ASRD', 'CLPM', 'DP', 'DS', 'GP', 'MP', 'SG', 'SNP', 'SP', 'TG', 'TP']\n",
      "['bf01253b-df8a-4e9d-afe1-21a4b0cf777e', 'wgs', 'sanger_raw_pindel', 'raw_somatic_mutation', 'vcf', 'gz']\n",
      "bf01253b-df8a-4e9d-afe1-21a4b0cf777e sanger_raw_pindel 900988 17 143 ['CHROM', 'START_POS', 'END_POS', 'ID', 'REF', 'ALT', 'QUAL', 'FILTER', 'FF017', 'LEN', 'OLD_VARIANT', 'PC', 'RE', 'REP', 'RS', 'S1', 'S2']\n",
      "['03777cdf-6779-4d23-93af-5b74fb982d7b', 'wgs', 'CaVEMan', 'raw_somatic_mutation', 'vcf', 'gz']\n",
      "03777cdf-6779-4d23-93af-5b74fb982d7b CaVEMan 47129 20 17 ['CHROM', 'START_POS', 'END_POS', 'ID', 'REF', 'ALT', 'QUAL', 'FILTER', 'ASMD', 'ASRD', 'CLPM', 'DP', 'DS', 'GP', 'MP', 'SG', 'SNP', 'SP', 'TG', 'TP']\n",
      "['bda972d3-48e6-4781-8692-a3effd0aa91c', 'wgs', 'CaVEMan', 'raw_somatic_mutation', 'vcf', 'gz']\n"
     ]
    },
    {
     "name": "stderr",
     "output_type": "stream",
     "text": [
      "[W::hts_idx_load3] The index file is older than the data file: /data/projects/GDC_Cancer_Wise/New_data/Brain/Downloaded_files/VCF/a7522d1c-cfcd-481f-91ae-a972a016f586/bda972d3-48e6-4781-8692-a3effd0aa91c.wgs.CaVEMan.raw_somatic_mutation.vcf.gz.tbi\n"
     ]
    },
    {
     "name": "stdout",
     "output_type": "stream",
     "text": [
      "bda972d3-48e6-4781-8692-a3effd0aa91c CaVEMan 67837 20 16 ['CHROM', 'START_POS', 'END_POS', 'ID', 'REF', 'ALT', 'QUAL', 'FILTER', 'ASMD', 'ASRD', 'CLPM', 'DP', 'DS', 'GP', 'MP', 'SG', 'SNP', 'SP', 'TG', 'TP']\n",
      "['60647a7d-45c2-4b62-aa5b-8373774f14df', 'wgs', 'sanger_raw_pindel', 'raw_somatic_mutation', 'vcf', 'gz']\n"
     ]
    },
    {
     "name": "stderr",
     "output_type": "stream",
     "text": [
      "[W::hts_idx_load3] The index file is older than the data file: /data/projects/GDC_Cancer_Wise/New_data/Brain/Downloaded_files/VCF/730707ab-837d-4cd1-b85d-d93451e59e95/60647a7d-45c2-4b62-aa5b-8373774f14df.wgs.sanger_raw_pindel.raw_somatic_mutation.vcf.gz.tbi\n"
     ]
    },
    {
     "name": "stdout",
     "output_type": "stream",
     "text": [
      "60647a7d-45c2-4b62-aa5b-8373774f14df sanger_raw_pindel 890943 17 135 ['CHROM', 'START_POS', 'END_POS', 'ID', 'REF', 'ALT', 'QUAL', 'FILTER', 'FF017', 'LEN', 'OLD_VARIANT', 'PC', 'RE', 'REP', 'RS', 'S1', 'S2']\n",
      "['184bba0f-b80e-41da-aef8-d54cd7193f11', 'wgs', 'sanger_raw_pindel', 'raw_somatic_mutation', 'vcf', 'gz']\n"
     ]
    },
    {
     "name": "stderr",
     "output_type": "stream",
     "text": [
      "[W::hts_idx_load3] The index file is older than the data file: /data/projects/GDC_Cancer_Wise/New_data/Brain/Downloaded_files/VCF/fee9a98f-576d-4222-a248-c22420ce2398/184bba0f-b80e-41da-aef8-d54cd7193f11.wgs.sanger_raw_pindel.raw_somatic_mutation.vcf.gz.tbi\n"
     ]
    },
    {
     "name": "stdout",
     "output_type": "stream",
     "text": [
      "184bba0f-b80e-41da-aef8-d54cd7193f11 sanger_raw_pindel 918308 17 127 ['CHROM', 'START_POS', 'END_POS', 'ID', 'REF', 'ALT', 'QUAL', 'FILTER', 'FF017', 'LEN', 'OLD_VARIANT', 'PC', 'RE', 'REP', 'RS', 'S1', 'S2']\n",
      "['03ba06a3-5dc6-4dad-84ed-7fe3196d7402', 'wgs', 'CaVEMan', 'raw_somatic_mutation', 'vcf', 'gz']\n",
      "03ba06a3-5dc6-4dad-84ed-7fe3196d7402 CaVEMan 227795 20 77 ['CHROM', 'START_POS', 'END_POS', 'ID', 'REF', 'ALT', 'QUAL', 'FILTER', 'ASMD', 'ASRD', 'CLPM', 'DP', 'DS', 'GP', 'MP', 'SG', 'SNP', 'SP', 'TG', 'TP']\n",
      "['e4330135-7dbe-42c2-998d-387c2f5a229a', 'wgs', 'CaVEMan', 'raw_somatic_mutation', 'vcf', 'gz']\n"
     ]
    },
    {
     "name": "stderr",
     "output_type": "stream",
     "text": [
      "[W::hts_idx_load3] The index file is older than the data file: /data/projects/GDC_Cancer_Wise/New_data/Brain/Downloaded_files/VCF/08bce836-7760-4dfd-9a2a-2474827a65f3/e4330135-7dbe-42c2-998d-387c2f5a229a.wgs.CaVEMan.raw_somatic_mutation.vcf.gz.tbi\n"
     ]
    },
    {
     "name": "stdout",
     "output_type": "stream",
     "text": [
      "e4330135-7dbe-42c2-998d-387c2f5a229a CaVEMan 34654 20 9 ['CHROM', 'START_POS', 'END_POS', 'ID', 'REF', 'ALT', 'QUAL', 'FILTER', 'ASMD', 'ASRD', 'CLPM', 'DP', 'DS', 'GP', 'MP', 'SG', 'SNP', 'SP', 'TG', 'TP']\n",
      "['c9a63b40-b4c3-44ca-8a8c-eb42a538438d', 'wgs', 'CaVEMan', 'raw_somatic_mutation', 'vcf', 'gz']\n",
      "c9a63b40-b4c3-44ca-8a8c-eb42a538438d CaVEMan 214348 20 73 ['CHROM', 'START_POS', 'END_POS', 'ID', 'REF', 'ALT', 'QUAL', 'FILTER', 'ASMD', 'ASRD', 'CLPM', 'DP', 'DS', 'GP', 'MP', 'SG', 'SNP', 'SP', 'TG', 'TP']\n",
      "['7bed15a4-3b1e-487e-954d-e6b55e296dc0', 'wgs', 'sanger_raw_pindel', 'raw_somatic_mutation', 'vcf', 'gz']\n"
     ]
    },
    {
     "name": "stderr",
     "output_type": "stream",
     "text": [
      "[W::hts_idx_load3] The index file is older than the data file: /data/projects/GDC_Cancer_Wise/New_data/Brain/Downloaded_files/VCF/0a763fc6-b8a8-437a-b7bd-27436ed5fe53/7bed15a4-3b1e-487e-954d-e6b55e296dc0.wgs.sanger_raw_pindel.raw_somatic_mutation.vcf.gz.tbi\n"
     ]
    },
    {
     "name": "stdout",
     "output_type": "stream",
     "text": [
      "7bed15a4-3b1e-487e-954d-e6b55e296dc0 sanger_raw_pindel 889038 17 122 ['CHROM', 'START_POS', 'END_POS', 'ID', 'REF', 'ALT', 'QUAL', 'FILTER', 'FF017', 'LEN', 'OLD_VARIANT', 'PC', 'RE', 'REP', 'RS', 'S1', 'S2']\n",
      "['88c17579-6160-4429-a83a-062a5569a5d6', 'wgs', 'sanger_raw_pindel', 'raw_somatic_mutation', 'vcf', 'gz']\n",
      "88c17579-6160-4429-a83a-062a5569a5d6 sanger_raw_pindel 885069 17 135 ['CHROM', 'START_POS', 'END_POS', 'ID', 'REF', 'ALT', 'QUAL', 'FILTER', 'FF017', 'LEN', 'OLD_VARIANT', 'PC', 'RE', 'REP', 'RS', 'S1', 'S2']\n",
      "['aae9d68e-f0eb-486b-9520-0b9f547f1ad3', 'wgs', 'CaVEMan', 'raw_somatic_mutation', 'vcf', 'gz']\n"
     ]
    },
    {
     "name": "stderr",
     "output_type": "stream",
     "text": [
      "[W::hts_idx_load3] The index file is older than the data file: /data/projects/GDC_Cancer_Wise/New_data/Brain/Downloaded_files/VCF/16a880cb-d3fb-468c-a30c-06c26d013521/aae9d68e-f0eb-486b-9520-0b9f547f1ad3.wgs.CaVEMan.raw_somatic_mutation.vcf.gz.tbi\n"
     ]
    },
    {
     "name": "stdout",
     "output_type": "stream",
     "text": [
      "aae9d68e-f0eb-486b-9520-0b9f547f1ad3 CaVEMan 47705 20 22 ['CHROM', 'START_POS', 'END_POS', 'ID', 'REF', 'ALT', 'QUAL', 'FILTER', 'ASMD', 'ASRD', 'CLPM', 'DP', 'DS', 'GP', 'MP', 'SG', 'SNP', 'SP', 'TG', 'TP']\n",
      "['4193ad47-7cab-48fe-9466-aec494172f72', 'wgs', 'CaVEMan', 'raw_somatic_mutation', 'vcf', 'gz']\n"
     ]
    },
    {
     "name": "stderr",
     "output_type": "stream",
     "text": [
      "[W::hts_idx_load3] The index file is older than the data file: /data/projects/GDC_Cancer_Wise/New_data/Brain/Downloaded_files/VCF/9a973821-f982-4eb2-a3a3-0c406cb2a47a/4193ad47-7cab-48fe-9466-aec494172f72.wgs.CaVEMan.raw_somatic_mutation.vcf.gz.tbi\n"
     ]
    },
    {
     "name": "stdout",
     "output_type": "stream",
     "text": [
      "4193ad47-7cab-48fe-9466-aec494172f72 CaVEMan 49459 20 15 ['CHROM', 'START_POS', 'END_POS', 'ID', 'REF', 'ALT', 'QUAL', 'FILTER', 'ASMD', 'ASRD', 'CLPM', 'DP', 'DS', 'GP', 'MP', 'SG', 'SNP', 'SP', 'TG', 'TP']\n",
      "['852ad6d3-e66a-4063-ba70-e2a97c50fca9', 'wgs', 'sanger_raw_pindel', 'raw_somatic_mutation', 'vcf', 'gz']\n"
     ]
    },
    {
     "name": "stderr",
     "output_type": "stream",
     "text": [
      "[W::hts_idx_load3] The index file is older than the data file: /data/projects/GDC_Cancer_Wise/New_data/Brain/Downloaded_files/VCF/df87b99b-b7a7-4906-843d-b1ea6fdf672d/852ad6d3-e66a-4063-ba70-e2a97c50fca9.wgs.sanger_raw_pindel.raw_somatic_mutation.vcf.gz.tbi\n"
     ]
    },
    {
     "name": "stdout",
     "output_type": "stream",
     "text": [
      "852ad6d3-e66a-4063-ba70-e2a97c50fca9 sanger_raw_pindel 853901 17 123 ['CHROM', 'START_POS', 'END_POS', 'ID', 'REF', 'ALT', 'QUAL', 'FILTER', 'FF017', 'LEN', 'OLD_VARIANT', 'PC', 'RE', 'REP', 'RS', 'S1', 'S2']\n",
      "['053e38af-bce4-4e7a-84a2-f5badeb4ce7d', 'wgs', 'sanger_raw_pindel', 'raw_somatic_mutation', 'vcf', 'gz']\n"
     ]
    },
    {
     "name": "stderr",
     "output_type": "stream",
     "text": [
      "[W::hts_idx_load3] The index file is older than the data file: /data/projects/GDC_Cancer_Wise/New_data/Brain/Downloaded_files/VCF/540d687a-b551-4fcc-ab1f-dfc87eea77da/053e38af-bce4-4e7a-84a2-f5badeb4ce7d.wgs.sanger_raw_pindel.raw_somatic_mutation.vcf.gz.tbi\n"
     ]
    },
    {
     "name": "stdout",
     "output_type": "stream",
     "text": [
      "053e38af-bce4-4e7a-84a2-f5badeb4ce7d sanger_raw_pindel 885403 17 130 ['CHROM', 'START_POS', 'END_POS', 'ID', 'REF', 'ALT', 'QUAL', 'FILTER', 'FF017', 'LEN', 'OLD_VARIANT', 'PC', 'RE', 'REP', 'RS', 'S1', 'S2']\n",
      "['7bed15a4-3b1e-487e-954d-e6b55e296dc0', 'wgs', 'CaVEMan', 'raw_somatic_mutation', 'vcf', 'gz']\n",
      "7bed15a4-3b1e-487e-954d-e6b55e296dc0 CaVEMan 52781 20 30 ['CHROM', 'START_POS', 'END_POS', 'ID', 'REF', 'ALT', 'QUAL', 'FILTER', 'ASMD', 'ASRD', 'CLPM', 'DP', 'DS', 'GP', 'MP', 'SG', 'SNP', 'SP', 'TG', 'TP']\n",
      "['96a823e7-9a5c-4a58-a424-a051cf4f4b29', 'wgs', 'sanger_raw_pindel', 'raw_somatic_mutation', 'vcf', 'gz']\n"
     ]
    },
    {
     "name": "stderr",
     "output_type": "stream",
     "text": [
      "[W::hts_idx_load3] The index file is older than the data file: /data/projects/GDC_Cancer_Wise/New_data/Brain/Downloaded_files/VCF/7755a910-431b-490e-9736-261e8b47787b/96a823e7-9a5c-4a58-a424-a051cf4f4b29.wgs.sanger_raw_pindel.raw_somatic_mutation.vcf.gz.tbi\n"
     ]
    },
    {
     "name": "stdout",
     "output_type": "stream",
     "text": [
      "96a823e7-9a5c-4a58-a424-a051cf4f4b29 sanger_raw_pindel 902892 17 123 ['CHROM', 'START_POS', 'END_POS', 'ID', 'REF', 'ALT', 'QUAL', 'FILTER', 'FF017', 'LEN', 'OLD_VARIANT', 'PC', 'RE', 'REP', 'RS', 'S1', 'S2']\n",
      "['432e2c06-8ce1-462b-84cf-10e601601654', 'wgs', 'CaVEMan', 'raw_somatic_mutation', 'vcf', 'gz']\n"
     ]
    },
    {
     "name": "stderr",
     "output_type": "stream",
     "text": [
      "[W::hts_idx_load3] The index file is older than the data file: /data/projects/GDC_Cancer_Wise/New_data/Brain/Downloaded_files/VCF/7a9588ce-87a2-4b24-a78e-cf3a9c3a3c5f/432e2c06-8ce1-462b-84cf-10e601601654.wgs.CaVEMan.raw_somatic_mutation.vcf.gz.tbi\n"
     ]
    },
    {
     "name": "stdout",
     "output_type": "stream",
     "text": [
      "432e2c06-8ce1-462b-84cf-10e601601654 CaVEMan 62032 20 14 ['CHROM', 'START_POS', 'END_POS', 'ID', 'REF', 'ALT', 'QUAL', 'FILTER', 'ASMD', 'ASRD', 'CLPM', 'DP', 'DS', 'GP', 'MP', 'SG', 'SNP', 'SP', 'TG', 'TP']\n",
      "['b330f405-d765-4b01-ab1b-4c9a396f6c2b', 'wgs', 'sanger_raw_pindel', 'raw_somatic_mutation', 'vcf', 'gz']\n",
      "b330f405-d765-4b01-ab1b-4c9a396f6c2b sanger_raw_pindel 887114 17 127 ['CHROM', 'START_POS', 'END_POS', 'ID', 'REF', 'ALT', 'QUAL', 'FILTER', 'FF017', 'LEN', 'OLD_VARIANT', 'PC', 'RE', 'REP', 'RS', 'S1', 'S2']\n",
      "['b4b13f9e-a571-43dd-86d7-6c01601ca3a8', 'wgs', 'CaVEMan', 'raw_somatic_mutation', 'vcf', 'gz']\n",
      "b4b13f9e-a571-43dd-86d7-6c01601ca3a8 CaVEMan 48072 20 10 ['CHROM', 'START_POS', 'END_POS', 'ID', 'REF', 'ALT', 'QUAL', 'FILTER', 'ASMD', 'ASRD', 'CLPM', 'DP', 'DS', 'GP', 'MP', 'SG', 'SNP', 'SP', 'TG', 'TP']\n",
      "['c12f0212-31ee-4aa2-88c4-d29c7c9059cb', 'wgs', 'sanger_raw_pindel', 'raw_somatic_mutation', 'vcf', 'gz']\n"
     ]
    },
    {
     "name": "stderr",
     "output_type": "stream",
     "text": [
      "[W::hts_idx_load3] The index file is older than the data file: /data/projects/GDC_Cancer_Wise/New_data/Brain/Downloaded_files/VCF/5820a65a-afd0-494c-9965-209063d7d21e/c12f0212-31ee-4aa2-88c4-d29c7c9059cb.wgs.sanger_raw_pindel.raw_somatic_mutation.vcf.gz.tbi\n"
     ]
    },
    {
     "name": "stdout",
     "output_type": "stream",
     "text": [
      "c12f0212-31ee-4aa2-88c4-d29c7c9059cb sanger_raw_pindel 852728 17 124 ['CHROM', 'START_POS', 'END_POS', 'ID', 'REF', 'ALT', 'QUAL', 'FILTER', 'FF017', 'LEN', 'OLD_VARIANT', 'PC', 'RE', 'REP', 'RS', 'S1', 'S2']\n",
      "['5136de1c-084e-4165-b932-eebc4c765cc8', 'wgs', 'CaVEMan', 'raw_somatic_mutation', 'vcf', 'gz']\n"
     ]
    },
    {
     "name": "stderr",
     "output_type": "stream",
     "text": [
      "[W::hts_idx_load3] The index file is older than the data file: /data/projects/GDC_Cancer_Wise/New_data/Brain/Downloaded_files/VCF/e411faeb-2444-4cd6-b06f-d2184e340cc2/5136de1c-084e-4165-b932-eebc4c765cc8.wgs.CaVEMan.raw_somatic_mutation.vcf.gz.tbi\n"
     ]
    },
    {
     "name": "stdout",
     "output_type": "stream",
     "text": [
      "5136de1c-084e-4165-b932-eebc4c765cc8 CaVEMan 71441 20 18 ['CHROM', 'START_POS', 'END_POS', 'ID', 'REF', 'ALT', 'QUAL', 'FILTER', 'ASMD', 'ASRD', 'CLPM', 'DP', 'DS', 'GP', 'MP', 'SG', 'SNP', 'SP', 'TG', 'TP']\n",
      "['6b579148-fb81-4e57-a9ff-c282a0a1b848', 'wgs', 'CaVEMan', 'raw_somatic_mutation', 'vcf', 'gz']\n",
      "6b579148-fb81-4e57-a9ff-c282a0a1b848 CaVEMan 47588 20 9 ['CHROM', 'START_POS', 'END_POS', 'ID', 'REF', 'ALT', 'QUAL', 'FILTER', 'ASMD', 'ASRD', 'CLPM', 'DP', 'DS', 'GP', 'MP', 'SG', 'SNP', 'SP', 'TG', 'TP']\n",
      "['f37e99f6-0108-48da-b8bb-b041394bf194', 'wgs', 'sanger_raw_pindel', 'raw_somatic_mutation', 'vcf', 'gz']\n"
     ]
    },
    {
     "name": "stderr",
     "output_type": "stream",
     "text": [
      "[W::hts_idx_load3] The index file is older than the data file: /data/projects/GDC_Cancer_Wise/New_data/Brain/Downloaded_files/VCF/7689823c-8d1c-4760-ad9b-fb1feae8e6f1/f37e99f6-0108-48da-b8bb-b041394bf194.wgs.sanger_raw_pindel.raw_somatic_mutation.vcf.gz.tbi\n"
     ]
    },
    {
     "name": "stdout",
     "output_type": "stream",
     "text": [
      "f37e99f6-0108-48da-b8bb-b041394bf194 sanger_raw_pindel 900589 17 133 ['CHROM', 'START_POS', 'END_POS', 'ID', 'REF', 'ALT', 'QUAL', 'FILTER', 'FF017', 'LEN', 'OLD_VARIANT', 'PC', 'RE', 'REP', 'RS', 'S1', 'S2']\n",
      "['2eb74322-a9f0-4dec-befc-b086386102a5', 'wgs', 'CaVEMan', 'raw_somatic_mutation', 'vcf', 'gz']\n",
      "2eb74322-a9f0-4dec-befc-b086386102a5 CaVEMan 53902 20 18 ['CHROM', 'START_POS', 'END_POS', 'ID', 'REF', 'ALT', 'QUAL', 'FILTER', 'ASMD', 'ASRD', 'CLPM', 'DP', 'DS', 'GP', 'MP', 'SG', 'SNP', 'SP', 'TG', 'TP']\n",
      "['ef6c3ecc-0bb6-4035-9c45-57740f5bcaa1', 'wgs', 'CaVEMan', 'raw_somatic_mutation', 'vcf', 'gz']\n",
      "ef6c3ecc-0bb6-4035-9c45-57740f5bcaa1 CaVEMan 218057 20 38 ['CHROM', 'START_POS', 'END_POS', 'ID', 'REF', 'ALT', 'QUAL', 'FILTER', 'ASMD', 'ASRD', 'CLPM', 'DP', 'DS', 'GP', 'MP', 'SG', 'SNP', 'SP', 'TG', 'TP']\n",
      "['f8b8e0df-4234-4839-b0ee-34a2c9ef4985', 'wgs', 'CaVEMan', 'raw_somatic_mutation', 'vcf', 'gz']\n",
      "f8b8e0df-4234-4839-b0ee-34a2c9ef4985 CaVEMan 44747 20 19 ['CHROM', 'START_POS', 'END_POS', 'ID', 'REF', 'ALT', 'QUAL', 'FILTER', 'ASMD', 'ASRD', 'CLPM', 'DP', 'DS', 'GP', 'MP', 'SG', 'SNP', 'SP', 'TG', 'TP']\n",
      "['9a2beddf-39e1-4ed9-8654-2ebad59e71d3', 'wgs', 'CaVEMan', 'raw_somatic_mutation', 'vcf', 'gz']\n",
      "9a2beddf-39e1-4ed9-8654-2ebad59e71d3 CaVEMan 217091 20 56 ['CHROM', 'START_POS', 'END_POS', 'ID', 'REF', 'ALT', 'QUAL', 'FILTER', 'ASMD', 'ASRD', 'CLPM', 'DP', 'DS', 'GP', 'MP', 'SG', 'SNP', 'SP', 'TG', 'TP']\n",
      "['03bdaae4-92e0-4229-9657-94510e2c3db7', 'wgs', 'sanger_raw_pindel', 'raw_somatic_mutation', 'vcf', 'gz']\n"
     ]
    },
    {
     "name": "stderr",
     "output_type": "stream",
     "text": [
      "[W::hts_idx_load3] The index file is older than the data file: /data/projects/GDC_Cancer_Wise/New_data/Brain/Downloaded_files/VCF/2cae2ff4-9083-421c-95c3-cfff653c426a/03bdaae4-92e0-4229-9657-94510e2c3db7.wgs.sanger_raw_pindel.raw_somatic_mutation.vcf.gz.tbi\n"
     ]
    },
    {
     "name": "stdout",
     "output_type": "stream",
     "text": [
      "03bdaae4-92e0-4229-9657-94510e2c3db7 sanger_raw_pindel 896993 17 136 ['CHROM', 'START_POS', 'END_POS', 'ID', 'REF', 'ALT', 'QUAL', 'FILTER', 'FF017', 'LEN', 'OLD_VARIANT', 'PC', 'RE', 'REP', 'RS', 'S1', 'S2']\n",
      "['4b8b2d4f-7d98-47d1-a4d2-34dfa17b9c68', 'wgs', 'CaVEMan', 'raw_somatic_mutation', 'vcf', 'gz']\n"
     ]
    },
    {
     "name": "stderr",
     "output_type": "stream",
     "text": [
      "[W::hts_idx_load3] The index file is older than the data file: /data/projects/GDC_Cancer_Wise/New_data/Brain/Downloaded_files/VCF/c45c4499-88ed-4f51-9a67-978df038ca85/4b8b2d4f-7d98-47d1-a4d2-34dfa17b9c68.wgs.CaVEMan.raw_somatic_mutation.vcf.gz.tbi\n"
     ]
    },
    {
     "name": "stdout",
     "output_type": "stream",
     "text": [
      "4b8b2d4f-7d98-47d1-a4d2-34dfa17b9c68 CaVEMan 60266 20 17 ['CHROM', 'START_POS', 'END_POS', 'ID', 'REF', 'ALT', 'QUAL', 'FILTER', 'ASMD', 'ASRD', 'CLPM', 'DP', 'DS', 'GP', 'MP', 'SG', 'SNP', 'SP', 'TG', 'TP']\n",
      "['b2eaaa93-e870-4b1c-a835-b1d932c75b88', 'wgs', 'CaVEMan', 'raw_somatic_mutation', 'vcf', 'gz']\n",
      "b2eaaa93-e870-4b1c-a835-b1d932c75b88 CaVEMan 211642 20 44 ['CHROM', 'START_POS', 'END_POS', 'ID', 'REF', 'ALT', 'QUAL', 'FILTER', 'ASMD', 'ASRD', 'CLPM', 'DP', 'DS', 'GP', 'MP', 'SG', 'SNP', 'SP', 'TG', 'TP']\n",
      "['0cba3131-13e4-44db-abdc-d7c9e711137c', 'wgs', 'CaVEMan', 'raw_somatic_mutation', 'vcf', 'gz']\n",
      "0cba3131-13e4-44db-abdc-d7c9e711137c CaVEMan 44632 20 14 ['CHROM', 'START_POS', 'END_POS', 'ID', 'REF', 'ALT', 'QUAL', 'FILTER', 'ASMD', 'ASRD', 'CLPM', 'DP', 'DS', 'GP', 'MP', 'SG', 'SNP', 'SP', 'TG', 'TP']\n",
      "['890b509a-fedd-4cd3-959b-515f8ff0e7ed', 'wgs', 'sanger_raw_pindel', 'raw_somatic_mutation', 'vcf', 'gz']\n",
      "890b509a-fedd-4cd3-959b-515f8ff0e7ed sanger_raw_pindel 855222 17 123 ['CHROM', 'START_POS', 'END_POS', 'ID', 'REF', 'ALT', 'QUAL', 'FILTER', 'FF017', 'LEN', 'OLD_VARIANT', 'PC', 'RE', 'REP', 'RS', 'S1', 'S2']\n",
      "['7ffc1178-c3fa-4c19-b49c-004d327df6f0', 'wgs', 'sanger_raw_pindel', 'raw_somatic_mutation', 'vcf', 'gz']\n"
     ]
    },
    {
     "name": "stderr",
     "output_type": "stream",
     "text": [
      "[W::hts_idx_load3] The index file is older than the data file: /data/projects/GDC_Cancer_Wise/New_data/Brain/Downloaded_files/VCF/dbe4c405-6f62-4122-821d-42b92b392a9d/7ffc1178-c3fa-4c19-b49c-004d327df6f0.wgs.sanger_raw_pindel.raw_somatic_mutation.vcf.gz.tbi\n"
     ]
    },
    {
     "name": "stdout",
     "output_type": "stream",
     "text": [
      "7ffc1178-c3fa-4c19-b49c-004d327df6f0 sanger_raw_pindel 887480 17 128 ['CHROM', 'START_POS', 'END_POS', 'ID', 'REF', 'ALT', 'QUAL', 'FILTER', 'FF017', 'LEN', 'OLD_VARIANT', 'PC', 'RE', 'REP', 'RS', 'S1', 'S2']\n",
      "['90c2456b-af8b-4e31-ae86-7de05a0f4124', 'wgs', 'sanger_raw_pindel', 'raw_somatic_mutation', 'vcf', 'gz']\n",
      "90c2456b-af8b-4e31-ae86-7de05a0f4124 sanger_raw_pindel 1078259 17 153 ['CHROM', 'START_POS', 'END_POS', 'ID', 'REF', 'ALT', 'QUAL', 'FILTER', 'FF017', 'LEN', 'OLD_VARIANT', 'PC', 'RE', 'REP', 'RS', 'S1', 'S2']\n",
      "['9e8410d9-8f6a-4b99-878e-702e4e59021d', 'wgs', 'sanger_raw_pindel', 'raw_somatic_mutation', 'vcf', 'gz']\n"
     ]
    },
    {
     "name": "stderr",
     "output_type": "stream",
     "text": [
      "[W::hts_idx_load3] The index file is older than the data file: /data/projects/GDC_Cancer_Wise/New_data/Brain/Downloaded_files/VCF/d133eb58-1555-4d04-a6aa-6388cef893de/9e8410d9-8f6a-4b99-878e-702e4e59021d.wgs.sanger_raw_pindel.raw_somatic_mutation.vcf.gz.tbi\n"
     ]
    },
    {
     "name": "stdout",
     "output_type": "stream",
     "text": [
      "9e8410d9-8f6a-4b99-878e-702e4e59021d sanger_raw_pindel 1131342 17 165 ['CHROM', 'START_POS', 'END_POS', 'ID', 'REF', 'ALT', 'QUAL', 'FILTER', 'FF017', 'LEN', 'OLD_VARIANT', 'PC', 'RE', 'REP', 'RS', 'S1', 'S2']\n",
      "['890b509a-fedd-4cd3-959b-515f8ff0e7ed', 'wgs', 'CaVEMan', 'raw_somatic_mutation', 'vcf', 'gz']\n",
      "890b509a-fedd-4cd3-959b-515f8ff0e7ed CaVEMan 49662 20 19 ['CHROM', 'START_POS', 'END_POS', 'ID', 'REF', 'ALT', 'QUAL', 'FILTER', 'ASMD', 'ASRD', 'CLPM', 'DP', 'DS', 'GP', 'MP', 'SG', 'SNP', 'SP', 'TG', 'TP']\n",
      "['3e40a973-7f9d-400a-8990-634196168c13', 'wgs', 'sanger_raw_pindel', 'raw_somatic_mutation', 'vcf', 'gz']\n",
      "3e40a973-7f9d-400a-8990-634196168c13 sanger_raw_pindel 834691 17 124 ['CHROM', 'START_POS', 'END_POS', 'ID', 'REF', 'ALT', 'QUAL', 'FILTER', 'FF017', 'LEN', 'OLD_VARIANT', 'PC', 'RE', 'REP', 'RS', 'S1', 'S2']\n",
      "['e420f20d-792a-4ea1-92cf-995cbcbc91b7', 'wgs', 'CaVEMan', 'raw_somatic_mutation', 'vcf', 'gz']\n"
     ]
    },
    {
     "name": "stderr",
     "output_type": "stream",
     "text": [
      "[W::hts_idx_load3] The index file is older than the data file: /data/projects/GDC_Cancer_Wise/New_data/Brain/Downloaded_files/VCF/aa5d6792-5c8a-485c-9252-6a81a888c1d7/e420f20d-792a-4ea1-92cf-995cbcbc91b7.wgs.CaVEMan.raw_somatic_mutation.vcf.gz.tbi\n"
     ]
    },
    {
     "name": "stdout",
     "output_type": "stream",
     "text": [
      "e420f20d-792a-4ea1-92cf-995cbcbc91b7 CaVEMan 53672 20 7 ['CHROM', 'START_POS', 'END_POS', 'ID', 'REF', 'ALT', 'QUAL', 'FILTER', 'ASMD', 'ASRD', 'CLPM', 'DP', 'DS', 'GP', 'MP', 'SG', 'SNP', 'SP', 'TG', 'TP']\n",
      "['b7416dd2-f9ef-4fdc-8dd3-5e9b9e7169a3', 'wgs', 'CaVEMan', 'raw_somatic_mutation', 'vcf', 'gz']\n"
     ]
    },
    {
     "name": "stderr",
     "output_type": "stream",
     "text": [
      "[W::hts_idx_load3] The index file is older than the data file: /data/projects/GDC_Cancer_Wise/New_data/Brain/Downloaded_files/VCF/3109486e-9fd1-4975-8405-faf15645b0ca/b7416dd2-f9ef-4fdc-8dd3-5e9b9e7169a3.wgs.CaVEMan.raw_somatic_mutation.vcf.gz.tbi\n"
     ]
    },
    {
     "name": "stdout",
     "output_type": "stream",
     "text": [
      "b7416dd2-f9ef-4fdc-8dd3-5e9b9e7169a3 CaVEMan 43931 20 18 ['CHROM', 'START_POS', 'END_POS', 'ID', 'REF', 'ALT', 'QUAL', 'FILTER', 'ASMD', 'ASRD', 'CLPM', 'DP', 'DS', 'GP', 'MP', 'SG', 'SNP', 'SP', 'TG', 'TP']\n",
      "['f00eed55-0ad9-41e8-bdf2-144b43f9b9b8', 'wgs', 'CaVEMan', 'raw_somatic_mutation', 'vcf', 'gz']\n",
      "f00eed55-0ad9-41e8-bdf2-144b43f9b9b8 CaVEMan 46193 20 27 ['CHROM', 'START_POS', 'END_POS', 'ID', 'REF', 'ALT', 'QUAL', 'FILTER', 'ASMD', 'ASRD', 'CLPM', 'DP', 'DS', 'GP', 'MP', 'SG', 'SNP', 'SP', 'TG', 'TP']\n",
      "['6ab2b17b-fef4-4451-b366-329f4bba3fdb', 'wgs', 'CaVEMan', 'raw_somatic_mutation', 'vcf', 'gz']\n",
      "6ab2b17b-fef4-4451-b366-329f4bba3fdb CaVEMan 52164 20 13 ['CHROM', 'START_POS', 'END_POS', 'ID', 'REF', 'ALT', 'QUAL', 'FILTER', 'ASMD', 'ASRD', 'CLPM', 'DP', 'DS', 'GP', 'MP', 'SG', 'SNP', 'SP', 'TG', 'TP']\n",
      "['f02e7e02-eb4c-429c-b5c4-6143b1cf4d75', 'wgs', 'sanger_raw_pindel', 'raw_somatic_mutation', 'vcf', 'gz']\n"
     ]
    },
    {
     "name": "stderr",
     "output_type": "stream",
     "text": [
      "[W::hts_idx_load3] The index file is older than the data file: /data/projects/GDC_Cancer_Wise/New_data/Brain/Downloaded_files/VCF/b913f086-14f4-4ba7-883c-d65c3741d8a3/f02e7e02-eb4c-429c-b5c4-6143b1cf4d75.wgs.sanger_raw_pindel.raw_somatic_mutation.vcf.gz.tbi\n"
     ]
    },
    {
     "name": "stdout",
     "output_type": "stream",
     "text": [
      "f02e7e02-eb4c-429c-b5c4-6143b1cf4d75 sanger_raw_pindel 901591 17 124 ['CHROM', 'START_POS', 'END_POS', 'ID', 'REF', 'ALT', 'QUAL', 'FILTER', 'FF017', 'LEN', 'OLD_VARIANT', 'PC', 'RE', 'REP', 'RS', 'S1', 'S2']\n",
      "['b7416dd2-f9ef-4fdc-8dd3-5e9b9e7169a3', 'wgs', 'sanger_raw_pindel', 'raw_somatic_mutation', 'vcf', 'gz']\n"
     ]
    },
    {
     "name": "stderr",
     "output_type": "stream",
     "text": [
      "[W::hts_idx_load3] The index file is older than the data file: /data/projects/GDC_Cancer_Wise/New_data/Brain/Downloaded_files/VCF/dc1de041-1406-48f4-b2e9-e3c34659266e/b7416dd2-f9ef-4fdc-8dd3-5e9b9e7169a3.wgs.sanger_raw_pindel.raw_somatic_mutation.vcf.gz.tbi\n"
     ]
    },
    {
     "name": "stdout",
     "output_type": "stream",
     "text": [
      "b7416dd2-f9ef-4fdc-8dd3-5e9b9e7169a3 sanger_raw_pindel 869911 17 118 ['CHROM', 'START_POS', 'END_POS', 'ID', 'REF', 'ALT', 'QUAL', 'FILTER', 'FF017', 'LEN', 'OLD_VARIANT', 'PC', 'RE', 'REP', 'RS', 'S1', 'S2']\n",
      "['756521ee-9f67-49e6-9cea-d2d933750d74', 'wgs', 'CaVEMan', 'raw_somatic_mutation', 'vcf', 'gz']\n",
      "756521ee-9f67-49e6-9cea-d2d933750d74 CaVEMan 70816 20 13 ['CHROM', 'START_POS', 'END_POS', 'ID', 'REF', 'ALT', 'QUAL', 'FILTER', 'ASMD', 'ASRD', 'CLPM', 'DP', 'DS', 'GP', 'MP', 'SG', 'SNP', 'SP', 'TG', 'TP']\n",
      "['8db95363-6eb3-4a90-affd-0c948a05c27c', 'wgs', 'CaVEMan', 'raw_somatic_mutation', 'vcf', 'gz']\n",
      "8db95363-6eb3-4a90-affd-0c948a05c27c CaVEMan 95162 20 29 ['CHROM', 'START_POS', 'END_POS', 'ID', 'REF', 'ALT', 'QUAL', 'FILTER', 'ASMD', 'ASRD', 'CLPM', 'DP', 'DS', 'GP', 'MP', 'SG', 'SNP', 'SP', 'TG', 'TP']\n",
      "['18d154c8-cdcf-4606-ac66-099b22cfd0e8', 'wgs', 'CaVEMan', 'raw_somatic_mutation', 'vcf', 'gz']\n",
      "18d154c8-cdcf-4606-ac66-099b22cfd0e8 CaVEMan 51415 20 13 ['CHROM', 'START_POS', 'END_POS', 'ID', 'REF', 'ALT', 'QUAL', 'FILTER', 'ASMD', 'ASRD', 'CLPM', 'DP', 'DS', 'GP', 'MP', 'SG', 'SNP', 'SP', 'TG', 'TP']\n",
      "['038750e2-9994-4420-bfa9-a3756683ddd1', 'wgs', 'sanger_raw_pindel', 'raw_somatic_mutation', 'vcf', 'gz']\n",
      "038750e2-9994-4420-bfa9-a3756683ddd1 sanger_raw_pindel 862782 17 135 ['CHROM', 'START_POS', 'END_POS', 'ID', 'REF', 'ALT', 'QUAL', 'FILTER', 'FF017', 'LEN', 'OLD_VARIANT', 'PC', 'RE', 'REP', 'RS', 'S1', 'S2']\n",
      "['218059b3-97aa-4c4e-a228-2a27a2293789', 'wgs', 'CaVEMan', 'raw_somatic_mutation', 'vcf', 'gz']\n"
     ]
    },
    {
     "name": "stderr",
     "output_type": "stream",
     "text": [
      "[W::hts_idx_load3] The index file is older than the data file: /data/projects/GDC_Cancer_Wise/New_data/Brain/Downloaded_files/VCF/1cbf6233-f5fe-42f9-bc1b-754a14e9fedc/218059b3-97aa-4c4e-a228-2a27a2293789.wgs.CaVEMan.raw_somatic_mutation.vcf.gz.tbi\n"
     ]
    },
    {
     "name": "stdout",
     "output_type": "stream",
     "text": [
      "218059b3-97aa-4c4e-a228-2a27a2293789 CaVEMan 264585 20 59 ['CHROM', 'START_POS', 'END_POS', 'ID', 'REF', 'ALT', 'QUAL', 'FILTER', 'ASMD', 'ASRD', 'CLPM', 'DP', 'DS', 'GP', 'MP', 'SG', 'SNP', 'SP', 'TG', 'TP']\n",
      "['959b7cb2-b128-42de-8558-fe7d3eca74fd', 'wgs', 'CaVEMan', 'raw_somatic_mutation', 'vcf', 'gz']\n",
      "959b7cb2-b128-42de-8558-fe7d3eca74fd CaVEMan 55787 20 26 ['CHROM', 'START_POS', 'END_POS', 'ID', 'REF', 'ALT', 'QUAL', 'FILTER', 'ASMD', 'ASRD', 'CLPM', 'DP', 'DS', 'GP', 'MP', 'SG', 'SNP', 'SP', 'TG', 'TP']\n",
      "['f45d1f3c-c34f-4def-bb78-03d6fc3cc6fc', 'wgs', 'CaVEMan', 'raw_somatic_mutation', 'vcf', 'gz']\n"
     ]
    },
    {
     "name": "stderr",
     "output_type": "stream",
     "text": [
      "[W::hts_idx_load3] The index file is older than the data file: /data/projects/GDC_Cancer_Wise/New_data/Brain/Downloaded_files/VCF/14a79d4c-075d-4e7a-8aad-110bc66bc045/f45d1f3c-c34f-4def-bb78-03d6fc3cc6fc.wgs.CaVEMan.raw_somatic_mutation.vcf.gz.tbi\n"
     ]
    },
    {
     "name": "stdout",
     "output_type": "stream",
     "text": [
      "f45d1f3c-c34f-4def-bb78-03d6fc3cc6fc CaVEMan 258822 20 88 ['CHROM', 'START_POS', 'END_POS', 'ID', 'REF', 'ALT', 'QUAL', 'FILTER', 'ASMD', 'ASRD', 'CLPM', 'DP', 'DS', 'GP', 'MP', 'SG', 'SNP', 'SP', 'TG', 'TP']\n",
      "['e570a351-99be-4019-9eae-4bda80014c63', 'wgs', 'sanger_raw_pindel', 'raw_somatic_mutation', 'vcf', 'gz']\n",
      "e570a351-99be-4019-9eae-4bda80014c63 sanger_raw_pindel 899825 17 131 ['CHROM', 'START_POS', 'END_POS', 'ID', 'REF', 'ALT', 'QUAL', 'FILTER', 'FF017', 'LEN', 'OLD_VARIANT', 'PC', 'RE', 'REP', 'RS', 'S1', 'S2']\n",
      "['7d9bd465-2e99-4b07-902f-752fa348efb8', 'wgs', 'sanger_raw_pindel', 'raw_somatic_mutation', 'vcf', 'gz']\n",
      "7d9bd465-2e99-4b07-902f-752fa348efb8 sanger_raw_pindel 1096330 17 150 ['CHROM', 'START_POS', 'END_POS', 'ID', 'REF', 'ALT', 'QUAL', 'FILTER', 'FF017', 'LEN', 'OLD_VARIANT', 'PC', 'RE', 'REP', 'RS', 'S1', 'S2']\n",
      "['af56a9e4-b896-4d47-b9c0-930eb68862bd', 'wgs', 'CaVEMan', 'raw_somatic_mutation', 'vcf', 'gz']\n",
      "af56a9e4-b896-4d47-b9c0-930eb68862bd CaVEMan 47803 20 10 ['CHROM', 'START_POS', 'END_POS', 'ID', 'REF', 'ALT', 'QUAL', 'FILTER', 'ASMD', 'ASRD', 'CLPM', 'DP', 'DS', 'GP', 'MP', 'SG', 'SNP', 'SP', 'TG', 'TP']\n",
      "['1d3daf9d-7740-484e-850b-827a6b7d451d', 'wgs', 'CaVEMan', 'raw_somatic_mutation', 'vcf', 'gz']\n",
      "1d3daf9d-7740-484e-850b-827a6b7d451d CaVEMan 39764 20 12 ['CHROM', 'START_POS', 'END_POS', 'ID', 'REF', 'ALT', 'QUAL', 'FILTER', 'ASMD', 'ASRD', 'CLPM', 'DP', 'DS', 'GP', 'MP', 'SG', 'SNP', 'SP', 'TG', 'TP']\n",
      "['218059b3-97aa-4c4e-a228-2a27a2293789', 'wgs', 'sanger_raw_pindel', 'raw_somatic_mutation', 'vcf', 'gz']\n",
      "218059b3-97aa-4c4e-a228-2a27a2293789 sanger_raw_pindel 1113902 17 139 ['CHROM', 'START_POS', 'END_POS', 'ID', 'REF', 'ALT', 'QUAL', 'FILTER', 'FF017', 'LEN', 'OLD_VARIANT', 'PC', 'RE', 'REP', 'RS', 'S1', 'S2']\n",
      "['f37e99f6-0108-48da-b8bb-b041394bf194', 'wgs', 'CaVEMan', 'raw_somatic_mutation', 'vcf', 'gz']\n"
     ]
    },
    {
     "name": "stderr",
     "output_type": "stream",
     "text": [
      "[W::hts_idx_load3] The index file is older than the data file: /data/projects/GDC_Cancer_Wise/New_data/Brain/Downloaded_files/VCF/61a24419-bfa1-46b8-b06d-1f0383a6bf1f/f37e99f6-0108-48da-b8bb-b041394bf194.wgs.CaVEMan.raw_somatic_mutation.vcf.gz.tbi\n"
     ]
    },
    {
     "name": "stdout",
     "output_type": "stream",
     "text": [
      "f37e99f6-0108-48da-b8bb-b041394bf194 CaVEMan 59395 20 17 ['CHROM', 'START_POS', 'END_POS', 'ID', 'REF', 'ALT', 'QUAL', 'FILTER', 'ASMD', 'ASRD', 'CLPM', 'DP', 'DS', 'GP', 'MP', 'SG', 'SNP', 'SP', 'TG', 'TP']\n",
      "['0ccd86e3-96fd-4cfb-b0dd-16247e0571e2', 'wgs', 'CaVEMan', 'raw_somatic_mutation', 'vcf', 'gz']\n",
      "0ccd86e3-96fd-4cfb-b0dd-16247e0571e2 CaVEMan 255875 20 84 ['CHROM', 'START_POS', 'END_POS', 'ID', 'REF', 'ALT', 'QUAL', 'FILTER', 'ASMD', 'ASRD', 'CLPM', 'DP', 'DS', 'GP', 'MP', 'SG', 'SNP', 'SP', 'TG', 'TP']\n",
      "['e5bd9afb-3fbd-4688-a376-795a51fd5079', 'wgs', 'CaVEMan', 'raw_somatic_mutation', 'vcf', 'gz']\n"
     ]
    },
    {
     "name": "stderr",
     "output_type": "stream",
     "text": [
      "[W::hts_idx_load3] The index file is older than the data file: /data/projects/GDC_Cancer_Wise/New_data/Brain/Downloaded_files/VCF/75b71614-595f-4ef2-bd84-5fce07bd013e/e5bd9afb-3fbd-4688-a376-795a51fd5079.wgs.CaVEMan.raw_somatic_mutation.vcf.gz.tbi\n"
     ]
    },
    {
     "name": "stdout",
     "output_type": "stream",
     "text": [
      "e5bd9afb-3fbd-4688-a376-795a51fd5079 CaVEMan 60935 20 23 ['CHROM', 'START_POS', 'END_POS', 'ID', 'REF', 'ALT', 'QUAL', 'FILTER', 'ASMD', 'ASRD', 'CLPM', 'DP', 'DS', 'GP', 'MP', 'SG', 'SNP', 'SP', 'TG', 'TP']\n",
      "['812d6f3d-c4f9-4e10-9039-4ebe9b3100c3', 'wgs', 'CaVEMan', 'raw_somatic_mutation', 'vcf', 'gz']\n",
      "812d6f3d-c4f9-4e10-9039-4ebe9b3100c3 CaVEMan 54222 20 40 ['CHROM', 'START_POS', 'END_POS', 'ID', 'REF', 'ALT', 'QUAL', 'FILTER', 'ASMD', 'ASRD', 'CLPM', 'DP', 'DS', 'GP', 'MP', 'SG', 'SNP', 'SP', 'TG', 'TP']\n",
      "['9a2beddf-39e1-4ed9-8654-2ebad59e71d3', 'wgs', 'sanger_raw_pindel', 'raw_somatic_mutation', 'vcf', 'gz']\n"
     ]
    },
    {
     "name": "stderr",
     "output_type": "stream",
     "text": [
      "[W::hts_idx_load3] The index file is older than the data file: /data/projects/GDC_Cancer_Wise/New_data/Brain/Downloaded_files/VCF/a16284c3-583c-4de7-991e-f4fbce67f71a/9a2beddf-39e1-4ed9-8654-2ebad59e71d3.wgs.sanger_raw_pindel.raw_somatic_mutation.vcf.gz.tbi\n"
     ]
    },
    {
     "name": "stdout",
     "output_type": "stream",
     "text": [
      "9a2beddf-39e1-4ed9-8654-2ebad59e71d3 sanger_raw_pindel 1084857 17 142 ['CHROM', 'START_POS', 'END_POS', 'ID', 'REF', 'ALT', 'QUAL', 'FILTER', 'FF017', 'LEN', 'OLD_VARIANT', 'PC', 'RE', 'REP', 'RS', 'S1', 'S2']\n",
      "['f00eed55-0ad9-41e8-bdf2-144b43f9b9b8', 'wgs', 'sanger_raw_pindel', 'raw_somatic_mutation', 'vcf', 'gz']\n",
      "f00eed55-0ad9-41e8-bdf2-144b43f9b9b8 sanger_raw_pindel 840746 17 112 ['CHROM', 'START_POS', 'END_POS', 'ID', 'REF', 'ALT', 'QUAL', 'FILTER', 'FF017', 'LEN', 'OLD_VARIANT', 'PC', 'RE', 'REP', 'RS', 'S1', 'S2']\n",
      "['2cfd51ad-618c-4193-81ee-52bdd92e0cc8', 'wgs', 'CaVEMan', 'raw_somatic_mutation', 'vcf', 'gz']\n",
      "2cfd51ad-618c-4193-81ee-52bdd92e0cc8 CaVEMan 55230 20 32 ['CHROM', 'START_POS', 'END_POS', 'ID', 'REF', 'ALT', 'QUAL', 'FILTER', 'ASMD', 'ASRD', 'CLPM', 'DP', 'DS', 'GP', 'MP', 'SG', 'SNP', 'SP', 'TG', 'TP']\n",
      "['3ef06a77-9df6-401c-8b2b-2bfcbf6944e8', 'wgs', 'sanger_raw_pindel', 'raw_somatic_mutation', 'vcf', 'gz']\n"
     ]
    },
    {
     "name": "stderr",
     "output_type": "stream",
     "text": [
      "[W::hts_idx_load3] The index file is older than the data file: /data/projects/GDC_Cancer_Wise/New_data/Brain/Downloaded_files/VCF/533a651b-991d-4b19-aa5f-d55bb031108d/3ef06a77-9df6-401c-8b2b-2bfcbf6944e8.wgs.sanger_raw_pindel.raw_somatic_mutation.vcf.gz.tbi\n"
     ]
    },
    {
     "name": "stdout",
     "output_type": "stream",
     "text": [
      "3ef06a77-9df6-401c-8b2b-2bfcbf6944e8 sanger_raw_pindel 892605 17 119 ['CHROM', 'START_POS', 'END_POS', 'ID', 'REF', 'ALT', 'QUAL', 'FILTER', 'FF017', 'LEN', 'OLD_VARIANT', 'PC', 'RE', 'REP', 'RS', 'S1', 'S2']\n",
      "['78b4c0de-c70a-4322-a654-bef333f5a940', 'wgs', 'CaVEMan', 'raw_somatic_mutation', 'vcf', 'gz']\n"
     ]
    },
    {
     "name": "stderr",
     "output_type": "stream",
     "text": [
      "[W::hts_idx_load3] The index file is older than the data file: /data/projects/GDC_Cancer_Wise/New_data/Brain/Downloaded_files/VCF/da41a9c0-60d7-44cd-8373-b07bf0a5d0c1/78b4c0de-c70a-4322-a654-bef333f5a940.wgs.CaVEMan.raw_somatic_mutation.vcf.gz.tbi\n"
     ]
    },
    {
     "name": "stdout",
     "output_type": "stream",
     "text": [
      "78b4c0de-c70a-4322-a654-bef333f5a940 CaVEMan 113858 20 32 ['CHROM', 'START_POS', 'END_POS', 'ID', 'REF', 'ALT', 'QUAL', 'FILTER', 'ASMD', 'ASRD', 'CLPM', 'DP', 'DS', 'GP', 'MP', 'SG', 'SNP', 'SP', 'TG', 'TP']\n",
      "['3824268d-4d2e-4811-9efe-906c3a37005d', 'wgs', 'CaVEMan', 'raw_somatic_mutation', 'vcf', 'gz']\n",
      "3824268d-4d2e-4811-9efe-906c3a37005d CaVEMan 52010 20 12 ['CHROM', 'START_POS', 'END_POS', 'ID', 'REF', 'ALT', 'QUAL', 'FILTER', 'ASMD', 'ASRD', 'CLPM', 'DP', 'DS', 'GP', 'MP', 'SG', 'SNP', 'SP', 'TG', 'TP']\n",
      "['cb50a28d-47d9-4b34-9515-9dfd7a03ac14', 'wgs', 'sanger_raw_pindel', 'raw_somatic_mutation', 'vcf', 'gz']\n",
      "cb50a28d-47d9-4b34-9515-9dfd7a03ac14 sanger_raw_pindel 930474 17 129 ['CHROM', 'START_POS', 'END_POS', 'ID', 'REF', 'ALT', 'QUAL', 'FILTER', 'FF017', 'LEN', 'OLD_VARIANT', 'PC', 'RE', 'REP', 'RS', 'S1', 'S2']\n",
      "['0691dda3-8f8d-4677-9a79-ff91e50ce19f', 'wgs', 'sanger_raw_pindel', 'raw_somatic_mutation', 'vcf', 'gz']\n"
     ]
    },
    {
     "name": "stderr",
     "output_type": "stream",
     "text": [
      "[W::hts_idx_load3] The index file is older than the data file: /data/projects/GDC_Cancer_Wise/New_data/Brain/Downloaded_files/VCF/c4d4283e-4872-4583-b848-de03b4741513/0691dda3-8f8d-4677-9a79-ff91e50ce19f.wgs.sanger_raw_pindel.raw_somatic_mutation.vcf.gz.tbi\n"
     ]
    },
    {
     "name": "stdout",
     "output_type": "stream",
     "text": [
      "0691dda3-8f8d-4677-9a79-ff91e50ce19f sanger_raw_pindel 927571 17 141 ['CHROM', 'START_POS', 'END_POS', 'ID', 'REF', 'ALT', 'QUAL', 'FILTER', 'FF017', 'LEN', 'OLD_VARIANT', 'PC', 'RE', 'REP', 'RS', 'S1', 'S2']\n",
      "['3adefeae-8c71-47a0-a9d5-3d0005aa0ef4', 'wgs', 'CaVEMan', 'raw_somatic_mutation', 'vcf', 'gz']\n",
      "3adefeae-8c71-47a0-a9d5-3d0005aa0ef4 CaVEMan 62721 20 13 ['CHROM', 'START_POS', 'END_POS', 'ID', 'REF', 'ALT', 'QUAL', 'FILTER', 'ASMD', 'ASRD', 'CLPM', 'DP', 'DS', 'GP', 'MP', 'SG', 'SNP', 'SP', 'TG', 'TP']\n",
      "['a97e1e32-967f-4275-ac62-6ff478e82973', 'wgs', 'sanger_raw_pindel', 'raw_somatic_mutation', 'vcf', 'gz']\n"
     ]
    },
    {
     "name": "stderr",
     "output_type": "stream",
     "text": [
      "[W::hts_idx_load3] The index file is older than the data file: /data/projects/GDC_Cancer_Wise/New_data/Brain/Downloaded_files/VCF/7e1ab459-6ee6-4db6-bb95-a2ad8dca9474/a97e1e32-967f-4275-ac62-6ff478e82973.wgs.sanger_raw_pindel.raw_somatic_mutation.vcf.gz.tbi\n"
     ]
    },
    {
     "name": "stdout",
     "output_type": "stream",
     "text": [
      "a97e1e32-967f-4275-ac62-6ff478e82973 sanger_raw_pindel 900325 17 130 ['CHROM', 'START_POS', 'END_POS', 'ID', 'REF', 'ALT', 'QUAL', 'FILTER', 'FF017', 'LEN', 'OLD_VARIANT', 'PC', 'RE', 'REP', 'RS', 'S1', 'S2']\n",
      "['f8b8e0df-4234-4839-b0ee-34a2c9ef4985', 'wgs', 'sanger_raw_pindel', 'raw_somatic_mutation', 'vcf', 'gz']\n",
      "f8b8e0df-4234-4839-b0ee-34a2c9ef4985 sanger_raw_pindel 842766 17 134 ['CHROM', 'START_POS', 'END_POS', 'ID', 'REF', 'ALT', 'QUAL', 'FILTER', 'FF017', 'LEN', 'OLD_VARIANT', 'PC', 'RE', 'REP', 'RS', 'S1', 'S2']\n",
      "['9f7f9c66-39bb-48b1-ae8e-91acc8028425', 'wgs', 'CaVEMan', 'raw_somatic_mutation', 'vcf', 'gz']\n",
      "9f7f9c66-39bb-48b1-ae8e-91acc8028425 CaVEMan 55764 20 20 ['CHROM', 'START_POS', 'END_POS', 'ID', 'REF', 'ALT', 'QUAL', 'FILTER', 'ASMD', 'ASRD', 'CLPM', 'DP', 'DS', 'GP', 'MP', 'SG', 'SNP', 'SP', 'TG', 'TP']\n",
      "['4905d6d3-7595-43dd-98ae-f507ebb7dff4', 'wgs', 'sanger_raw_pindel', 'raw_somatic_mutation', 'vcf', 'gz']\n",
      "4905d6d3-7595-43dd-98ae-f507ebb7dff4 sanger_raw_pindel 1057485 17 139 ['CHROM', 'START_POS', 'END_POS', 'ID', 'REF', 'ALT', 'QUAL', 'FILTER', 'FF017', 'LEN', 'OLD_VARIANT', 'PC', 'RE', 'REP', 'RS', 'S1', 'S2']\n",
      "['5136de1c-084e-4165-b932-eebc4c765cc8', 'wgs', 'sanger_raw_pindel', 'raw_somatic_mutation', 'vcf', 'gz']\n"
     ]
    },
    {
     "name": "stderr",
     "output_type": "stream",
     "text": [
      "[W::hts_idx_load3] The index file is older than the data file: /data/projects/GDC_Cancer_Wise/New_data/Brain/Downloaded_files/VCF/95f8f53c-8302-4400-a093-2426ec92de03/5136de1c-084e-4165-b932-eebc4c765cc8.wgs.sanger_raw_pindel.raw_somatic_mutation.vcf.gz.tbi\n"
     ]
    },
    {
     "name": "stdout",
     "output_type": "stream",
     "text": [
      "5136de1c-084e-4165-b932-eebc4c765cc8 sanger_raw_pindel 935151 17 141 ['CHROM', 'START_POS', 'END_POS', 'ID', 'REF', 'ALT', 'QUAL', 'FILTER', 'FF017', 'LEN', 'OLD_VARIANT', 'PC', 'RE', 'REP', 'RS', 'S1', 'S2']\n",
      "['4b38150a-2406-4f40-9f81-ee76e30f77b9', 'wgs', 'sanger_raw_pindel', 'raw_somatic_mutation', 'vcf', 'gz']\n",
      "4b38150a-2406-4f40-9f81-ee76e30f77b9 sanger_raw_pindel 868328 17 127 ['CHROM', 'START_POS', 'END_POS', 'ID', 'REF', 'ALT', 'QUAL', 'FILTER', 'FF017', 'LEN', 'OLD_VARIANT', 'PC', 'RE', 'REP', 'RS', 'S1', 'S2']\n",
      "['8350a310-4c75-4f7d-b47d-1ee4d1ebab13', 'wgs', 'CaVEMan', 'raw_somatic_mutation', 'vcf', 'gz']\n"
     ]
    },
    {
     "name": "stderr",
     "output_type": "stream",
     "text": [
      "[W::hts_idx_load3] The index file is older than the data file: /data/projects/GDC_Cancer_Wise/New_data/Brain/Downloaded_files/VCF/a1d27793-af8f-4cc0-b2a6-5e0e474f9ed3/8350a310-4c75-4f7d-b47d-1ee4d1ebab13.wgs.CaVEMan.raw_somatic_mutation.vcf.gz.tbi\n"
     ]
    },
    {
     "name": "stdout",
     "output_type": "stream",
     "text": [
      "8350a310-4c75-4f7d-b47d-1ee4d1ebab13 CaVEMan 54287 20 11 ['CHROM', 'START_POS', 'END_POS', 'ID', 'REF', 'ALT', 'QUAL', 'FILTER', 'ASMD', 'ASRD', 'CLPM', 'DP', 'DS', 'GP', 'MP', 'SG', 'SNP', 'SP', 'TG', 'TP']\n",
      "['812d6f3d-c4f9-4e10-9039-4ebe9b3100c3', 'wgs', 'sanger_raw_pindel', 'raw_somatic_mutation', 'vcf', 'gz']\n"
     ]
    },
    {
     "name": "stderr",
     "output_type": "stream",
     "text": [
      "[W::hts_idx_load3] The index file is older than the data file: /data/projects/GDC_Cancer_Wise/New_data/Brain/Downloaded_files/VCF/3f7a870a-b77a-437a-b64a-0c2b99078b4e/812d6f3d-c4f9-4e10-9039-4ebe9b3100c3.wgs.sanger_raw_pindel.raw_somatic_mutation.vcf.gz.tbi\n"
     ]
    },
    {
     "name": "stdout",
     "output_type": "stream",
     "text": [
      "812d6f3d-c4f9-4e10-9039-4ebe9b3100c3 sanger_raw_pindel 868572 17 126 ['CHROM', 'START_POS', 'END_POS', 'ID', 'REF', 'ALT', 'QUAL', 'FILTER', 'FF017', 'LEN', 'OLD_VARIANT', 'PC', 'RE', 'REP', 'RS', 'S1', 'S2']\n",
      "['fd27f3fc-6f0b-4794-8555-3111ad520493', 'wgs', 'CaVEMan', 'raw_somatic_mutation', 'vcf', 'gz']\n",
      "fd27f3fc-6f0b-4794-8555-3111ad520493 CaVEMan 42198 20 18 ['CHROM', 'START_POS', 'END_POS', 'ID', 'REF', 'ALT', 'QUAL', 'FILTER', 'ASMD', 'ASRD', 'CLPM', 'DP', 'DS', 'GP', 'MP', 'SG', 'SNP', 'SP', 'TG', 'TP']\n",
      "['2f48d7c8-1a93-4c71-8b96-2ea6fc7c7478', 'wgs', 'sanger_raw_pindel', 'raw_somatic_mutation', 'vcf', 'gz']\n"
     ]
    },
    {
     "name": "stderr",
     "output_type": "stream",
     "text": [
      "[W::hts_idx_load3] The index file is older than the data file: /data/projects/GDC_Cancer_Wise/New_data/Brain/Downloaded_files/VCF/f9bc00e6-9344-40aa-9a86-4af35cf7833d/2f48d7c8-1a93-4c71-8b96-2ea6fc7c7478.wgs.sanger_raw_pindel.raw_somatic_mutation.vcf.gz.tbi\n"
     ]
    },
    {
     "name": "stdout",
     "output_type": "stream",
     "text": [
      "2f48d7c8-1a93-4c71-8b96-2ea6fc7c7478 sanger_raw_pindel 904369 17 122 ['CHROM', 'START_POS', 'END_POS', 'ID', 'REF', 'ALT', 'QUAL', 'FILTER', 'FF017', 'LEN', 'OLD_VARIANT', 'PC', 'RE', 'REP', 'RS', 'S1', 'S2']\n",
      "['2cfd51ad-618c-4193-81ee-52bdd92e0cc8', 'wgs', 'sanger_raw_pindel', 'raw_somatic_mutation', 'vcf', 'gz']\n",
      "2cfd51ad-618c-4193-81ee-52bdd92e0cc8 sanger_raw_pindel 885402 17 133 ['CHROM', 'START_POS', 'END_POS', 'ID', 'REF', 'ALT', 'QUAL', 'FILTER', 'FF017', 'LEN', 'OLD_VARIANT', 'PC', 'RE', 'REP', 'RS', 'S1', 'S2']\n",
      "['a732538e-135a-43dc-a88b-b122a1a36749', 'wgs', 'CaVEMan', 'raw_somatic_mutation', 'vcf', 'gz']\n"
     ]
    },
    {
     "name": "stderr",
     "output_type": "stream",
     "text": [
      "[W::hts_idx_load3] The index file is older than the data file: /data/projects/GDC_Cancer_Wise/New_data/Brain/Downloaded_files/VCF/412cc67a-df77-4368-baa6-4900bd42c5ab/a732538e-135a-43dc-a88b-b122a1a36749.wgs.CaVEMan.raw_somatic_mutation.vcf.gz.tbi\n"
     ]
    },
    {
     "name": "stdout",
     "output_type": "stream",
     "text": [
      "a732538e-135a-43dc-a88b-b122a1a36749 CaVEMan 54209 20 27 ['CHROM', 'START_POS', 'END_POS', 'ID', 'REF', 'ALT', 'QUAL', 'FILTER', 'ASMD', 'ASRD', 'CLPM', 'DP', 'DS', 'GP', 'MP', 'SG', 'SNP', 'SP', 'TG', 'TP']\n",
      "['5bad75c6-743c-4b7e-b822-a72befa90225', 'wgs', 'sanger_raw_pindel', 'raw_somatic_mutation', 'vcf', 'gz']\n",
      "5bad75c6-743c-4b7e-b822-a72befa90225 sanger_raw_pindel 844768 17 123 ['CHROM', 'START_POS', 'END_POS', 'ID', 'REF', 'ALT', 'QUAL', 'FILTER', 'FF017', 'LEN', 'OLD_VARIANT', 'PC', 'RE', 'REP', 'RS', 'S1', 'S2']\n",
      "['1bd7e755-4353-437a-ab8c-69e3df92824d', 'wgs', 'sanger_raw_pindel', 'raw_somatic_mutation', 'vcf', 'gz']\n",
      "1bd7e755-4353-437a-ab8c-69e3df92824d sanger_raw_pindel 846892 17 128 ['CHROM', 'START_POS', 'END_POS', 'ID', 'REF', 'ALT', 'QUAL', 'FILTER', 'FF017', 'LEN', 'OLD_VARIANT', 'PC', 'RE', 'REP', 'RS', 'S1', 'S2']\n",
      "['230ada41-a82f-4835-9865-c762827493b5', 'wgs', 'CaVEMan', 'raw_somatic_mutation', 'vcf', 'gz']\n",
      "230ada41-a82f-4835-9865-c762827493b5 CaVEMan 41355 20 14 ['CHROM', 'START_POS', 'END_POS', 'ID', 'REF', 'ALT', 'QUAL', 'FILTER', 'ASMD', 'ASRD', 'CLPM', 'DP', 'DS', 'GP', 'MP', 'SG', 'SNP', 'SP', 'TG', 'TP']\n",
      "['f2a6974c-658d-4da7-a8dc-bd0d4a7a19e4', 'wgs', 'sanger_raw_pindel', 'raw_somatic_mutation', 'vcf', 'gz']\n",
      "f2a6974c-658d-4da7-a8dc-bd0d4a7a19e4 sanger_raw_pindel 870173 17 135 ['CHROM', 'START_POS', 'END_POS', 'ID', 'REF', 'ALT', 'QUAL', 'FILTER', 'FF017', 'LEN', 'OLD_VARIANT', 'PC', 'RE', 'REP', 'RS', 'S1', 'S2']\n",
      "['09943319-e446-4462-b6a6-6e7f08af8775', 'wgs', 'sanger_raw_pindel', 'raw_somatic_mutation', 'vcf', 'gz']\n",
      "09943319-e446-4462-b6a6-6e7f08af8775 sanger_raw_pindel 849818 17 122 ['CHROM', 'START_POS', 'END_POS', 'ID', 'REF', 'ALT', 'QUAL', 'FILTER', 'FF017', 'LEN', 'OLD_VARIANT', 'PC', 'RE', 'REP', 'RS', 'S1', 'S2']\n",
      "['03ba06a3-5dc6-4dad-84ed-7fe3196d7402', 'wgs', 'sanger_raw_pindel', 'raw_somatic_mutation', 'vcf', 'gz']\n",
      "03ba06a3-5dc6-4dad-84ed-7fe3196d7402 sanger_raw_pindel 1194706 17 162 ['CHROM', 'START_POS', 'END_POS', 'ID', 'REF', 'ALT', 'QUAL', 'FILTER', 'FF017', 'LEN', 'OLD_VARIANT', 'PC', 'RE', 'REP', 'RS', 'S1', 'S2']\n",
      "['3ef06a77-9df6-401c-8b2b-2bfcbf6944e8', 'wgs', 'CaVEMan', 'raw_somatic_mutation', 'vcf', 'gz']\n",
      "3ef06a77-9df6-401c-8b2b-2bfcbf6944e8 CaVEMan 54111 20 10 ['CHROM', 'START_POS', 'END_POS', 'ID', 'REF', 'ALT', 'QUAL', 'FILTER', 'ASMD', 'ASRD', 'CLPM', 'DP', 'DS', 'GP', 'MP', 'SG', 'SNP', 'SP', 'TG', 'TP']\n",
      "['dd045b58-4d6a-4404-a412-6aa9e99e282e', 'wgs', 'CaVEMan', 'raw_somatic_mutation', 'vcf', 'gz']\n",
      "dd045b58-4d6a-4404-a412-6aa9e99e282e CaVEMan 51609 20 21 ['CHROM', 'START_POS', 'END_POS', 'ID', 'REF', 'ALT', 'QUAL', 'FILTER', 'ASMD', 'ASRD', 'CLPM', 'DP', 'DS', 'GP', 'MP', 'SG', 'SNP', 'SP', 'TG', 'TP']\n",
      "['6b579148-fb81-4e57-a9ff-c282a0a1b848', 'wgs', 'sanger_raw_pindel', 'raw_somatic_mutation', 'vcf', 'gz']\n"
     ]
    },
    {
     "name": "stderr",
     "output_type": "stream",
     "text": [
      "[W::hts_idx_load3] The index file is older than the data file: /data/projects/GDC_Cancer_Wise/New_data/Brain/Downloaded_files/VCF/a0af91ab-8c80-4879-95ea-9ee27c5552a8/6b579148-fb81-4e57-a9ff-c282a0a1b848.wgs.sanger_raw_pindel.raw_somatic_mutation.vcf.gz.tbi\n"
     ]
    },
    {
     "name": "stdout",
     "output_type": "stream",
     "text": [
      "6b579148-fb81-4e57-a9ff-c282a0a1b848 sanger_raw_pindel 918682 17 136 ['CHROM', 'START_POS', 'END_POS', 'ID', 'REF', 'ALT', 'QUAL', 'FILTER', 'FF017', 'LEN', 'OLD_VARIANT', 'PC', 'RE', 'REP', 'RS', 'S1', 'S2']\n",
      "['959b7cb2-b128-42de-8558-fe7d3eca74fd', 'wgs', 'sanger_raw_pindel', 'raw_somatic_mutation', 'vcf', 'gz']\n",
      "959b7cb2-b128-42de-8558-fe7d3eca74fd sanger_raw_pindel 882818 17 124 ['CHROM', 'START_POS', 'END_POS', 'ID', 'REF', 'ALT', 'QUAL', 'FILTER', 'FF017', 'LEN', 'OLD_VARIANT', 'PC', 'RE', 'REP', 'RS', 'S1', 'S2']\n",
      "['60647a7d-45c2-4b62-aa5b-8373774f14df', 'wgs', 'CaVEMan', 'raw_somatic_mutation', 'vcf', 'gz']\n",
      "60647a7d-45c2-4b62-aa5b-8373774f14df CaVEMan 54653 20 14 ['CHROM', 'START_POS', 'END_POS', 'ID', 'REF', 'ALT', 'QUAL', 'FILTER', 'ASMD', 'ASRD', 'CLPM', 'DP', 'DS', 'GP', 'MP', 'SG', 'SNP', 'SP', 'TG', 'TP']\n",
      "['350c00b7-9287-4fb5-a8ef-4bc9cdb19e50', 'wgs', 'sanger_raw_pindel', 'raw_somatic_mutation', 'vcf', 'gz']\n"
     ]
    },
    {
     "name": "stderr",
     "output_type": "stream",
     "text": [
      "[W::hts_idx_load3] The index file is older than the data file: /data/projects/GDC_Cancer_Wise/New_data/Brain/Downloaded_files/VCF/9a1976dc-c005-471a-a8d3-dafea0c05418/350c00b7-9287-4fb5-a8ef-4bc9cdb19e50.wgs.sanger_raw_pindel.raw_somatic_mutation.vcf.gz.tbi\n"
     ]
    },
    {
     "name": "stdout",
     "output_type": "stream",
     "text": [
      "350c00b7-9287-4fb5-a8ef-4bc9cdb19e50 sanger_raw_pindel 898832 17 132 ['CHROM', 'START_POS', 'END_POS', 'ID', 'REF', 'ALT', 'QUAL', 'FILTER', 'FF017', 'LEN', 'OLD_VARIANT', 'PC', 'RE', 'REP', 'RS', 'S1', 'S2']\n",
      "['eef24407-c46d-45c3-9934-86902ac3ceac', 'wgs', 'sanger_raw_pindel', 'raw_somatic_mutation', 'vcf', 'gz']\n"
     ]
    },
    {
     "name": "stderr",
     "output_type": "stream",
     "text": [
      "[W::hts_idx_load3] The index file is older than the data file: /data/projects/GDC_Cancer_Wise/New_data/Brain/Downloaded_files/VCF/370de8a0-17b5-46db-8e2d-b4476bb1c34c/eef24407-c46d-45c3-9934-86902ac3ceac.wgs.sanger_raw_pindel.raw_somatic_mutation.vcf.gz.tbi\n"
     ]
    },
    {
     "name": "stdout",
     "output_type": "stream",
     "text": [
      "eef24407-c46d-45c3-9934-86902ac3ceac sanger_raw_pindel 840062 17 125 ['CHROM', 'START_POS', 'END_POS', 'ID', 'REF', 'ALT', 'QUAL', 'FILTER', 'FF017', 'LEN', 'OLD_VARIANT', 'PC', 'RE', 'REP', 'RS', 'S1', 'S2']\n",
      "['6ab2b17b-fef4-4451-b366-329f4bba3fdb', 'wgs', 'sanger_raw_pindel', 'raw_somatic_mutation', 'vcf', 'gz']\n",
      "6ab2b17b-fef4-4451-b366-329f4bba3fdb sanger_raw_pindel 871433 17 130 ['CHROM', 'START_POS', 'END_POS', 'ID', 'REF', 'ALT', 'QUAL', 'FILTER', 'FF017', 'LEN', 'OLD_VARIANT', 'PC', 'RE', 'REP', 'RS', 'S1', 'S2']\n",
      "['af56a9e4-b896-4d47-b9c0-930eb68862bd', 'wgs', 'sanger_raw_pindel', 'raw_somatic_mutation', 'vcf', 'gz']\n",
      "af56a9e4-b896-4d47-b9c0-930eb68862bd sanger_raw_pindel 911539 17 118 ['CHROM', 'START_POS', 'END_POS', 'ID', 'REF', 'ALT', 'QUAL', 'FILTER', 'FF017', 'LEN', 'OLD_VARIANT', 'PC', 'RE', 'REP', 'RS', 'S1', 'S2']\n",
      "['0cba3131-13e4-44db-abdc-d7c9e711137c', 'wgs', 'sanger_raw_pindel', 'raw_somatic_mutation', 'vcf', 'gz']\n"
     ]
    },
    {
     "name": "stderr",
     "output_type": "stream",
     "text": [
      "[W::hts_idx_load3] The index file is older than the data file: /data/projects/GDC_Cancer_Wise/New_data/Brain/Downloaded_files/VCF/be057fa1-f6c1-42f4-b421-a0401d5ed03b/0cba3131-13e4-44db-abdc-d7c9e711137c.wgs.sanger_raw_pindel.raw_somatic_mutation.vcf.gz.tbi\n"
     ]
    },
    {
     "name": "stdout",
     "output_type": "stream",
     "text": [
      "0cba3131-13e4-44db-abdc-d7c9e711137c sanger_raw_pindel 881976 17 129 ['CHROM', 'START_POS', 'END_POS', 'ID', 'REF', 'ALT', 'QUAL', 'FILTER', 'FF017', 'LEN', 'OLD_VARIANT', 'PC', 'RE', 'REP', 'RS', 'S1', 'S2']\n",
      "['3adc47fa-b27a-4df1-98ab-201ebab3c6bf', 'wgs', 'CaVEMan', 'raw_somatic_mutation', 'vcf', 'gz']\n",
      "3adc47fa-b27a-4df1-98ab-201ebab3c6bf CaVEMan 314641 20 114 ['CHROM', 'START_POS', 'END_POS', 'ID', 'REF', 'ALT', 'QUAL', 'FILTER', 'ASMD', 'ASRD', 'CLPM', 'DP', 'DS', 'GP', 'MP', 'SG', 'SNP', 'SP', 'TG', 'TP']\n",
      "['2c5b021f-f9e1-4a42-8755-8704f006016b', 'wgs', 'CaVEMan', 'raw_somatic_mutation', 'vcf', 'gz']\n"
     ]
    },
    {
     "name": "stderr",
     "output_type": "stream",
     "text": [
      "[W::hts_idx_load3] The index file is older than the data file: /data/projects/GDC_Cancer_Wise/New_data/Brain/Downloaded_files/VCF/3607c708-72cf-4150-a8fa-d4ab4acdc9f6/2c5b021f-f9e1-4a42-8755-8704f006016b.wgs.CaVEMan.raw_somatic_mutation.vcf.gz.tbi\n"
     ]
    },
    {
     "name": "stdout",
     "output_type": "stream",
     "text": [
      "2c5b021f-f9e1-4a42-8755-8704f006016b CaVEMan 213217 20 54 ['CHROM', 'START_POS', 'END_POS', 'ID', 'REF', 'ALT', 'QUAL', 'FILTER', 'ASMD', 'ASRD', 'CLPM', 'DP', 'DS', 'GP', 'MP', 'SG', 'SNP', 'SP', 'TG', 'TP']\n",
      "['02eb77ff-2e07-4d56-9c32-d9fa415c7ce2', 'wgs', 'sanger_raw_pindel', 'raw_somatic_mutation', 'vcf', 'gz']\n"
     ]
    },
    {
     "name": "stderr",
     "output_type": "stream",
     "text": [
      "[W::hts_idx_load3] The index file is older than the data file: /data/projects/GDC_Cancer_Wise/New_data/Brain/Downloaded_files/VCF/37954d92-2b0f-4681-8b33-ff94de2171ea/02eb77ff-2e07-4d56-9c32-d9fa415c7ce2.wgs.sanger_raw_pindel.raw_somatic_mutation.vcf.gz.tbi\n"
     ]
    },
    {
     "name": "stdout",
     "output_type": "stream",
     "text": [
      "02eb77ff-2e07-4d56-9c32-d9fa415c7ce2 sanger_raw_pindel 912650 17 137 ['CHROM', 'START_POS', 'END_POS', 'ID', 'REF', 'ALT', 'QUAL', 'FILTER', 'FF017', 'LEN', 'OLD_VARIANT', 'PC', 'RE', 'REP', 'RS', 'S1', 'S2']\n",
      "['dc3f72c3-79b4-411c-8275-a85e9d081abb', 'wgs', 'CaVEMan', 'raw_somatic_mutation', 'vcf', 'gz']\n"
     ]
    },
    {
     "name": "stderr",
     "output_type": "stream",
     "text": [
      "[W::hts_idx_load3] The index file is older than the data file: /data/projects/GDC_Cancer_Wise/New_data/Brain/Downloaded_files/VCF/70fdb746-97f2-4797-a0b7-198c642e0967/dc3f72c3-79b4-411c-8275-a85e9d081abb.wgs.CaVEMan.raw_somatic_mutation.vcf.gz.tbi\n"
     ]
    },
    {
     "name": "stdout",
     "output_type": "stream",
     "text": [
      "dc3f72c3-79b4-411c-8275-a85e9d081abb CaVEMan 58369 20 15 ['CHROM', 'START_POS', 'END_POS', 'ID', 'REF', 'ALT', 'QUAL', 'FILTER', 'ASMD', 'ASRD', 'CLPM', 'DP', 'DS', 'GP', 'MP', 'SG', 'SNP', 'SP', 'TG', 'TP']\n",
      "['b2fdc5e6-fcac-4ffa-8287-111d9bae30e0', 'wgs', 'sanger_raw_pindel', 'raw_somatic_mutation', 'vcf', 'gz']\n",
      "b2fdc5e6-fcac-4ffa-8287-111d9bae30e0 sanger_raw_pindel 877608 17 119 ['CHROM', 'START_POS', 'END_POS', 'ID', 'REF', 'ALT', 'QUAL', 'FILTER', 'FF017', 'LEN', 'OLD_VARIANT', 'PC', 'RE', 'REP', 'RS', 'S1', 'S2']\n",
      "['0f158d5f-16c7-4fb7-b48c-0ff392f1706b', 'wgs', 'sanger_raw_pindel', 'raw_somatic_mutation', 'vcf', 'gz']\n"
     ]
    }
   ],
   "source": [
    "for index, row in top_models_df.iterrows():\n",
    "    file_path = f\"{chip_seq_base_path}/{row['tags']}/100bp.bed\"\n",
    "    print(file_path)\n",
    "    df_tfbs = pd.read_csv(file_path, sep= \"\\t\")\n",
    "    #print(df_temp)\n",
    "    TFBS_bed = pybedtools.BedTool.from_dataframe(df_tfbs)\n",
    "    intersected_vcf_data = {}\n",
    "    df_statistics  = pd.DataFrame(columns= [\"filename\", \"Patient_ID\", 'work_flow',  'VCF_instance','VCF_feature','Intersected_instances', 'VCF_column_names' ])\n",
    "    for file_path in files:\n",
    "        file_name =  file_path.split('/')[-1]\n",
    "        parts = file_name.split('.')\n",
    "        print(parts)\n",
    "        reindex_vcf(file_path)\n",
    "        df_vcf = vcf_to_dataframe(file_path)\n",
    "        #print(df_vcf)\n",
    "        if df_vcf is None:\n",
    "            continue\n",
    "        vcf_bed = pybedtools.BedTool.from_dataframe(df_vcf)\n",
    "        intersect_vcf_acceptor = TFBS_bed.intersect(vcf_bed, wa=True, wb=True)\n",
    "        column_list  =df_tfbs.columns.to_list() + df_vcf.columns.to_list()\n",
    "        df_intersection = intersect_vcf_acceptor.to_dataframe(names=column_list)\n",
    "        #print(df_intersection.columns)\n",
    "        df_intersection = df_intersection[(df_intersection['REF'].str.len() < 10) & (df_intersection['ALT'].str.len() < 10)]\n",
    "        # print(df_intersection[['REF','ALT']])\n",
    "        # input()\n",
    "        #print(df_intersection)\n",
    "        #print(df_statistics)\n",
    "        #input()\n",
    "        #gdc_tag = parts[-4]\n",
    "        patient_ID = parts[0]\n",
    "        work_flow = parts[2]\n",
    "        instance =  df_vcf.shape[0]\n",
    "        feature = df_vcf.shape[1]\n",
    "        intersected_instance = df_intersection.shape[0]\n",
    "        feature_list = list(df_vcf.columns)\n",
    "        print(patient_ID, work_flow, instance, feature,intersected_instance,  feature_list)\n",
    "        df_statistics.loc[len(df_statistics)] = [file_name, patient_ID, work_flow, instance, feature,intersected_instance,  feature_list]\n",
    "        intersected_vcf_data[patient_ID+\"_\"+work_flow] = df_intersection\n",
    "    tfbs_output_path = f\"{output_base_path}/{row['tags']}\"\n",
    "    if not os.path.exists(tfbs_output_path):\n",
    "        os.makedirs(tfbs_output_path)\n",
    "    df_statistics.to_csv(tfbs_output_path+\"/VCF_statistics.tsv\", sep=\"\\t\", index=False)\n",
    "    with open(tfbs_output_path+\"/intersected_vcf_data.pkl\", \"wb\") as file:\n",
    "        pickle.dump(intersected_vcf_data, file)\n",
    "    input()"
   ]
  },
  {
   "cell_type": "code",
   "execution_count": null,
   "id": "3abb2cd1-c261-484b-b980-ce5c1648f911",
   "metadata": {},
   "outputs": [],
   "source": []
  }
 ],
 "metadata": {
  "kernelspec": {
   "display_name": "Python 3 (ipykernel)",
   "language": "python",
   "name": "python3"
  },
  "language_info": {
   "codemirror_mode": {
    "name": "ipython",
    "version": 3
   },
   "file_extension": ".py",
   "mimetype": "text/x-python",
   "name": "python",
   "nbconvert_exporter": "python",
   "pygments_lexer": "ipython3",
   "version": "3.10.11"
  }
 },
 "nbformat": 4,
 "nbformat_minor": 5
}
