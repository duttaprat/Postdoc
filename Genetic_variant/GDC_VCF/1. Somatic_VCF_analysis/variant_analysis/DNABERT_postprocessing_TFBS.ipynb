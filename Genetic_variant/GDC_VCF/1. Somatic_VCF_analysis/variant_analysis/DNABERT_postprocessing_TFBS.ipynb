{
 "cells": [
  {
   "cell_type": "code",
   "execution_count": 1,
   "id": "63f40c7b-4e9b-4626-a876-38edcd6b2686",
   "metadata": {},
   "outputs": [],
   "source": [
    "import os, glob\n",
    "import numpy as np\n",
    "import pandas as pd\n",
    "import math\n",
    "import pickle\n",
    "import matplotlib.pyplot as plt\n",
    "#from scipy.stats import norm\n",
    "# from scipy import stats\n",
    "# from statsmodels.stats.weightstats import ztest\n",
    "from IPython.display import display, HTML"
   ]
  },
  {
   "cell_type": "code",
   "execution_count": 2,
   "id": "77b8b2be-d263-4d22-a3e5-9206177d4f3a",
   "metadata": {},
   "outputs": [],
   "source": [
    "non_coding_region= \"TFBS\"\n",
    "cancer_type= \"Brain\""
   ]
  },
  {
   "cell_type": "code",
   "execution_count": 3,
   "id": "ac4b1f7e-ce17-41b6-ac69-7819a74b2397",
   "metadata": {},
   "outputs": [],
   "source": [
    "TFBS_LIST= ['CBFA2T3','CEBPG','CREB1','E2F4']"
   ]
  },
  {
   "cell_type": "code",
   "execution_count": 4,
   "id": "d0c512c7-f77d-4f25-9659-866eb47116c9",
   "metadata": {},
   "outputs": [],
   "source": [
    "def log_oods_ratio(p1,p2):\n",
    "    term1 = math.log2(p1/(1-p1))\n",
    "    term2 = math.log2(p2/(1-p2))\n",
    "    return (term1-term2)\n",
    "def calculate_diff_probab(p1,p2):\n",
    "    return((p2-p1)*max(p1,p2))"
   ]
  },
  {
   "cell_type": "code",
   "execution_count": 5,
   "id": "a84ff5e5-43ab-4a70-82ee-722514279bc0",
   "metadata": {},
   "outputs": [
    {
     "name": "stdout",
     "output_type": "stream",
     "text": [
      "/data/projects/GDC_Cancer_Wise/New_data/Brain/Generated_files/DNABERT_Data/TFBS/CBFA2T3/Patient_wise\n",
      "/data/projects/GDC_Cancer_Wise/New_data/Brain/Generated_files/DNABERT_Data/TFBS/CEBPG/Patient_wise\n",
      "/data/projects/GDC_Cancer_Wise/New_data/Brain/Generated_files/DNABERT_Data/TFBS/CREB1/Patient_wise\n",
      "/data/projects/GDC_Cancer_Wise/New_data/Brain/Generated_files/DNABERT_Data/TFBS/E2F4/Patient_wise\n"
     ]
    }
   ],
   "source": [
    "for tfbs in TFBS_LIST:\n",
    "    base_dir= f\"/data/projects/GDC_Cancer_Wise/New_data/{cancer_type}/Generated_files/DNABERT_Data/{non_coding_region}/{tfbs}/Patient_wise\"\n",
    "    print(base_dir)\n",
    "    output_dir= f\"/data/projects/GDC_Cancer_Wise/New_data/{cancer_type}/Generated_files/Variant_Analysis/{non_coding_region}/{tfbs}\"\n",
    "    if not os.path.exists(output_dir):\n",
    "        os.makedirs(output_dir)\n",
    "    # df = pd.read_csv(f\"/data/projects/DNABERT_snv/Manuscript_11_2023/TFBS_fine_tune_data/Data_Jan_2024/1_1_pos_neg/{tfbs}/100bp.bed\", sep=\"\\t\", header=None)\n",
    "    #display(df)\n",
    "    with open(f\"/data/projects/GDC_Cancer_Wise/New_data/{cancer_type}/Generated_files/Intersected_Data/{non_coding_region}/{tfbs}/intersected_vcf_data.pkl\", \"rb\") as file:\n",
    "        loaded_dictionary = pickle.load(file)\n",
    "    \n",
    "    \n",
    "    patient_dfs= []\n",
    "    patient_id = []\n",
    "    for dirpath, dirnames, filenames in os.walk(base_dir):\n",
    "        #print(dirpath, dirnames, filenames)\n",
    "        for dir_name in dirnames:\n",
    "            dir_path = dirpath +\"/\" + dir_name\n",
    "            #print(dir_path)\n",
    "            patient_id.append(dir_name)\n",
    "            #print(dir_name)\n",
    "            #input()\n",
    "            df_temp = loaded_dictionary[dir_name]\n",
    "            # display(df_temp)\n",
    "            # input()\n",
    "            df_temp = df_temp.drop_duplicates(subset=[0, 1, 2, 'START_POS', 'END_POS', 'REF','ALT']).reset_index()\n",
    "            concat_probab = np.load(dir_path+\"/Prediction_result/pred_results.npy\")\n",
    "            #print(len(concat_probab))\n",
    "            #print(len(df_temp))\n",
    "            if(2*len(df_temp)==len(concat_probab)):\n",
    "                #input()\n",
    "                Reference_probab = concat_probab[::2]\n",
    "                Alternative_probab = concat_probab[1::2]\n",
    "                df_temp['Ref_probab']=Reference_probab\n",
    "                df_temp['Alt_probab']=Alternative_probab\n",
    "                df_temp['ScoreChange'] = df_temp.apply(lambda row: calculate_diff_probab(row['Ref_probab'], row['Alt_probab']), axis=1)\n",
    "                df_temp['LogOddRatio'] = df_temp.apply(lambda row: log_oods_ratio(row['Ref_probab'], row['Alt_probab']), axis=1)\n",
    "                #display(df_temp)\n",
    "                #input()\n",
    "                # Apply the filter conditions\n",
    "                df_temp = df_temp[((df_temp['Ref_probab'] > 0.5) & (df_temp['Alt_probab'] <= 0.5)) | \n",
    "                          ((df_temp['Ref_probab'] <= 0.5) & (df_temp['Alt_probab'] > 0.5))]\n",
    "                #display(df_temp[[0, 1, 2, 'START_POS', 'END_POS', 'REF', 'ALT']])\n",
    "                #input()\n",
    "                patient_dfs.append(df_temp)\n",
    "            else:\n",
    "                print(dir_name)\n",
    "                input()\n",
    "            #input()\n",
    "        break\n",
    "    unique_patient_regions = pd.concat(patient_dfs).drop_duplicates(subset=[0, 1, 2, 'START_POS', 'END_POS', 'REF', 'ALT'])\n",
    "    # Step 3: Create a new dataframe with three rows for each patient, with columns as the acceptor coordinates\n",
    "    # Initialize the dictionaries\n",
    "    data_ref, data_alt, data_log_odd, data_score_change = {}, {}, {}, {}\n",
    "\n",
    "    # Loop over each region in the unique_patient_regions\n",
    "    for _, region in unique_patient_regions.iterrows():\n",
    "        #print(region)\n",
    "        key = f'{region[0]}_{region[1]}_{region[2]}_{region.START_POS}_{region.END_POS}_{region.REF}_{region.ALT}'\n",
    "        # print(key)\n",
    "        # input()\n",
    "        data_ref[key] = []\n",
    "        data_alt[key] = []\n",
    "        data_log_odd[key] = []\n",
    "        data_score_change[key] = []\n",
    "\n",
    "    # Loop through each patient and for each region, get the Alt_probab score for that region for that patient\n",
    "    for df in patient_dfs:\n",
    "        #print(df.shape)\n",
    "        #print(df)\n",
    "        for _, region in unique_patient_regions.iterrows():\n",
    "            # print(region)\n",
    "            # input()\n",
    "            for data, score_column in zip([data_ref, data_alt, data_log_odd, data_score_change], ['Ref_probab', 'Alt_probab', 'LogOddRatio', 'ScoreChange']):\n",
    "                score_series = df.loc[(df[0] == region[0]) & (df[1] == region[1])& (df[2] == region[2]) & (df['START_POS'] == region.START_POS) & (df['END_POS'] == region.END_POS) & (df['REF'] == region.REF) & (df['ALT'] == region.ALT) , score_column]\n",
    "                #print(score_series)\n",
    "                if score_series.empty:\n",
    "                    score = np.nan\n",
    "                else:\n",
    "                    score = score_series.max()\n",
    "                    #print(score_series , score)\n",
    "                    #input()\n",
    "                data[f'{region[0]}_{region[1]}_{region[2]}_{region.START_POS}_{region.END_POS}_{region.REF}_{region.ALT}'].append(score)\n",
    "    result_df_ref = pd.DataFrame(data_ref)\n",
    "    result_df_ref.insert(0, \"Patient_ID\", patient_id)\n",
    "    result_df_alt = pd.DataFrame(data_alt)\n",
    "    result_df_alt.insert(0, \"Patient_ID\", patient_id)\n",
    "    result_df_score_change = pd.DataFrame(data_score_change)\n",
    "    result_df_score_change.insert(0, \"Patient_ID\", patient_id)\n",
    "    result_df_log_odd = pd.DataFrame(data_log_odd)\n",
    "    result_df_log_odd.insert(0, \"Patient_ID\", patient_id)\n",
    "    result_df_ref.to_csv(output_dir+\"/df_ref_score.tsv\", sep=\"\\t\", index=False)\n",
    "    result_df_alt.to_csv(output_dir+\"/df_alt_score.tsv\", sep=\"\\t\", index=False)\n",
    "    result_df_log_odd.to_csv(output_dir+\"/df_log_odd_score.tsv\", sep=\"\\t\", index=False)\n",
    "    result_df_score_change.to_csv(output_dir+\"/df_score_change.tsv\", sep=\"\\t\", index=False)\n",
    "    #input()"
   ]
  },
  {
   "cell_type": "code",
   "execution_count": null,
   "id": "d2c49f04-a5e8-4150-bbba-4462b94dd990",
   "metadata": {},
   "outputs": [],
   "source": []
  },
  {
   "cell_type": "code",
   "execution_count": null,
   "id": "aa2ba793-07ea-4370-b3cb-97b5bb14c7b4",
   "metadata": {},
   "outputs": [],
   "source": []
  }
 ],
 "metadata": {
  "kernelspec": {
   "display_name": "Python 3 (ipykernel)",
   "language": "python",
   "name": "python3"
  },
  "language_info": {
   "codemirror_mode": {
    "name": "ipython",
    "version": 3
   },
   "file_extension": ".py",
   "mimetype": "text/x-python",
   "name": "python",
   "nbconvert_exporter": "python",
   "pygments_lexer": "ipython3",
   "version": "3.10.11"
  }
 },
 "nbformat": 4,
 "nbformat_minor": 5
}
