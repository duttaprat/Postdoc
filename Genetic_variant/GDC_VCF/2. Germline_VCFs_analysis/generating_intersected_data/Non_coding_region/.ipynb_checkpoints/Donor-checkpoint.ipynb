{
 "cells": [
  {
   "cell_type": "code",
   "execution_count": 1,
   "id": "036635c5-ba37-4397-a233-1cd98b392df8",
   "metadata": {},
   "outputs": [
    {
     "name": "stdout",
     "output_type": "stream",
     "text": [
      "/shared/software/anaconda/anaconda3/lib/python3.10/site-packages/pybedtools/__init__.py\n"
     ]
    }
   ],
   "source": [
    "import os, io\n",
    "import pandas as pd\n",
    "import pysam\n",
    "import pickle\n",
    "import pybedtools\n",
    "print(pybedtools.__file__)\n",
    "pybedtools.helpers.set_tempdir('/data/private/pdutta_new/pybedtools_temp')\n",
    "from IPython.display import display, HTML\n",
    "import gzip\n",
    "import shutil\n",
    "import os"
   ]
  },
  {
   "cell_type": "code",
   "execution_count": 2,
   "id": "c399faa0-3db6-4050-ba8b-3726253208e1",
   "metadata": {},
   "outputs": [],
   "source": [
    "cancer_type=\"Brain\" "
   ]
  },
  {
   "cell_type": "code",
   "execution_count": 3,
   "id": "f502b3c1-db1c-4161-901f-403ae4149024",
   "metadata": {},
   "outputs": [],
   "source": [
    "vcf_folder_path=\"/data/projects/GDC_Cancer_Wise/Old/{}/Data/TCGA_BAM_VCF/VCF_Patientwise\".format(cancer_type)\n",
    "reference_genome_path=\"/data/projects/Resources/Gencode_genome_annotation/GRCh38.primary_assembly.genome.fa\""
   ]
  },
  {
   "cell_type": "code",
   "execution_count": 4,
   "id": "abdb5c1c-7732-45c2-b434-23335d79bee0",
   "metadata": {},
   "outputs": [],
   "source": [
    "non_coding_region=\"acceptor\""
   ]
  },
  {
   "cell_type": "code",
   "execution_count": 5,
   "id": "1d991070-6c4d-4527-90e3-7b80f91bcc0e",
   "metadata": {},
   "outputs": [
    {
     "data": {
      "text/html": [
       "<div>\n",
       "<style scoped>\n",
       "    .dataframe tbody tr th:only-of-type {\n",
       "        vertical-align: middle;\n",
       "    }\n",
       "\n",
       "    .dataframe tbody tr th {\n",
       "        vertical-align: top;\n",
       "    }\n",
       "\n",
       "    .dataframe thead th {\n",
       "        text-align: right;\n",
       "    }\n",
       "</style>\n",
       "<table border=\"1\" class=\"dataframe\">\n",
       "  <thead>\n",
       "    <tr style=\"text-align: right;\">\n",
       "      <th></th>\n",
       "      <th>chr_name</th>\n",
       "      <th>start</th>\n",
       "      <th>end</th>\n",
       "      <th>strand</th>\n",
       "      <th>transcript_id</th>\n",
       "      <th>exon_id</th>\n",
       "      <th>transcript_type</th>\n",
       "    </tr>\n",
       "  </thead>\n",
       "  <tbody>\n",
       "    <tr>\n",
       "      <th>0</th>\n",
       "      <td>chr1</td>\n",
       "      <td>12572</td>\n",
       "      <td>12651</td>\n",
       "      <td>+</td>\n",
       "      <td>ENST00000450305.2, ENST00000456328.2</td>\n",
       "      <td>ENSE00001758273.2, ENSE00003582793.1</td>\n",
       "      <td>transcribed_unprocessed_pseudogene, processed_...</td>\n",
       "    </tr>\n",
       "    <tr>\n",
       "      <th>1</th>\n",
       "      <td>chr1</td>\n",
       "      <td>12934</td>\n",
       "      <td>13013</td>\n",
       "      <td>+</td>\n",
       "      <td>ENST00000450305.2</td>\n",
       "      <td>ENSE00001799933.2</td>\n",
       "      <td>transcribed_unprocessed_pseudogene</td>\n",
       "    </tr>\n",
       "    <tr>\n",
       "      <th>2</th>\n",
       "      <td>chr1</td>\n",
       "      <td>13180</td>\n",
       "      <td>13259</td>\n",
       "      <td>+</td>\n",
       "      <td>ENST00000450305.2, ENST00000456328.2</td>\n",
       "      <td>ENSE00001746346.2, ENSE00002312635.1</td>\n",
       "      <td>transcribed_unprocessed_pseudogene, processed_...</td>\n",
       "    </tr>\n",
       "    <tr>\n",
       "      <th>3</th>\n",
       "      <td>chr1</td>\n",
       "      <td>13412</td>\n",
       "      <td>13491</td>\n",
       "      <td>+</td>\n",
       "      <td>ENST00000450305.2</td>\n",
       "      <td>ENSE00001863096.1</td>\n",
       "      <td>transcribed_unprocessed_pseudogene</td>\n",
       "    </tr>\n",
       "    <tr>\n",
       "      <th>4</th>\n",
       "      <td>chr1</td>\n",
       "      <td>14999</td>\n",
       "      <td>15078</td>\n",
       "      <td>-</td>\n",
       "      <td>ENST00000488147.1</td>\n",
       "      <td>ENSE00001935574.1</td>\n",
       "      <td>unprocessed_pseudogene</td>\n",
       "    </tr>\n",
       "    <tr>\n",
       "      <th>...</th>\n",
       "      <td>...</td>\n",
       "      <td>...</td>\n",
       "      <td>...</td>\n",
       "      <td>...</td>\n",
       "      <td>...</td>\n",
       "      <td>...</td>\n",
       "      <td>...</td>\n",
       "    </tr>\n",
       "    <tr>\n",
       "      <th>295391</th>\n",
       "      <td>chrY</td>\n",
       "      <td>57211720</td>\n",
       "      <td>57211799</td>\n",
       "      <td>+</td>\n",
       "      <td>ENST00000340131.12_PAR_Y, ENST00000359512.8_PA...</td>\n",
       "      <td>ENSE00001956598.1, ENSE00001416295.3, ENSE0000...</td>\n",
       "      <td>retained_intron, protein_coding, processed_tra...</td>\n",
       "    </tr>\n",
       "    <tr>\n",
       "      <th>295392</th>\n",
       "      <td>chrY</td>\n",
       "      <td>57213086</td>\n",
       "      <td>57213165</td>\n",
       "      <td>-</td>\n",
       "      <td>ENST00000507418.6_PAR_Y</td>\n",
       "      <td>ENSE00002023900.1</td>\n",
       "      <td>unprocessed_pseudogene</td>\n",
       "    </tr>\n",
       "    <tr>\n",
       "      <th>295393</th>\n",
       "      <td>chrY</td>\n",
       "      <td>57213318</td>\n",
       "      <td>57213397</td>\n",
       "      <td>-</td>\n",
       "      <td>ENST00000507418.6_PAR_Y</td>\n",
       "      <td>ENSE00002036959.1</td>\n",
       "      <td>unprocessed_pseudogene</td>\n",
       "    </tr>\n",
       "    <tr>\n",
       "      <th>295394</th>\n",
       "      <td>chrY</td>\n",
       "      <td>57213563</td>\n",
       "      <td>57213642</td>\n",
       "      <td>-</td>\n",
       "      <td>ENST00000507418.6_PAR_Y</td>\n",
       "      <td>ENSE00002021169.1</td>\n",
       "      <td>unprocessed_pseudogene</td>\n",
       "    </tr>\n",
       "    <tr>\n",
       "      <th>295395</th>\n",
       "      <td>chrY</td>\n",
       "      <td>57213925</td>\n",
       "      <td>57214004</td>\n",
       "      <td>-</td>\n",
       "      <td>ENST00000507418.6_PAR_Y</td>\n",
       "      <td>ENSE00002046926.1</td>\n",
       "      <td>unprocessed_pseudogene</td>\n",
       "    </tr>\n",
       "  </tbody>\n",
       "</table>\n",
       "<p>295396 rows × 7 columns</p>\n",
       "</div>"
      ],
      "text/plain": [
       "       chr_name     start       end strand  \\\n",
       "0          chr1     12572     12651      +   \n",
       "1          chr1     12934     13013      +   \n",
       "2          chr1     13180     13259      +   \n",
       "3          chr1     13412     13491      +   \n",
       "4          chr1     14999     15078      -   \n",
       "...         ...       ...       ...    ...   \n",
       "295391     chrY  57211720  57211799      +   \n",
       "295392     chrY  57213086  57213165      -   \n",
       "295393     chrY  57213318  57213397      -   \n",
       "295394     chrY  57213563  57213642      -   \n",
       "295395     chrY  57213925  57214004      -   \n",
       "\n",
       "                                            transcript_id  \\\n",
       "0                    ENST00000450305.2, ENST00000456328.2   \n",
       "1                                       ENST00000450305.2   \n",
       "2                    ENST00000450305.2, ENST00000456328.2   \n",
       "3                                       ENST00000450305.2   \n",
       "4                                       ENST00000488147.1   \n",
       "...                                                   ...   \n",
       "295391  ENST00000340131.12_PAR_Y, ENST00000359512.8_PA...   \n",
       "295392                            ENST00000507418.6_PAR_Y   \n",
       "295393                            ENST00000507418.6_PAR_Y   \n",
       "295394                            ENST00000507418.6_PAR_Y   \n",
       "295395                            ENST00000507418.6_PAR_Y   \n",
       "\n",
       "                                                  exon_id  \\\n",
       "0                    ENSE00001758273.2, ENSE00003582793.1   \n",
       "1                                       ENSE00001799933.2   \n",
       "2                    ENSE00001746346.2, ENSE00002312635.1   \n",
       "3                                       ENSE00001863096.1   \n",
       "4                                       ENSE00001935574.1   \n",
       "...                                                   ...   \n",
       "295391  ENSE00001956598.1, ENSE00001416295.3, ENSE0000...   \n",
       "295392                                  ENSE00002023900.1   \n",
       "295393                                  ENSE00002036959.1   \n",
       "295394                                  ENSE00002021169.1   \n",
       "295395                                  ENSE00002046926.1   \n",
       "\n",
       "                                          transcript_type  \n",
       "0       transcribed_unprocessed_pseudogene, processed_...  \n",
       "1                      transcribed_unprocessed_pseudogene  \n",
       "2       transcribed_unprocessed_pseudogene, processed_...  \n",
       "3                      transcribed_unprocessed_pseudogene  \n",
       "4                                  unprocessed_pseudogene  \n",
       "...                                                   ...  \n",
       "295391  retained_intron, protein_coding, processed_tra...  \n",
       "295392                             unprocessed_pseudogene  \n",
       "295393                             unprocessed_pseudogene  \n",
       "295394                             unprocessed_pseudogene  \n",
       "295395                             unprocessed_pseudogene  \n",
       "\n",
       "[295396 rows x 7 columns]"
      ]
     },
     "execution_count": 5,
     "metadata": {},
     "output_type": "execute_result"
    }
   ],
   "source": [
    "df= pd.read_csv(\"/data/private/pdutta_new/non_coding_regions/Unique_{}_RAW_Combined_BED.tsv\".format(non_coding_region), sep=\"\\t\")\n",
    "df"
   ]
  },
  {
   "cell_type": "code",
   "execution_count": 6,
   "id": "cfafb9dd-9f60-4443-8d7b-ea9d1dd06e94",
   "metadata": {},
   "outputs": [],
   "source": [
    "acceptor_bed = pybedtools.BedTool.from_dataframe(df)"
   ]
  },
  {
   "cell_type": "code",
   "execution_count": 7,
   "id": "f474e554-3572-499a-bbd9-1d71e0b13129",
   "metadata": {},
   "outputs": [],
   "source": [
    "reference_fasta = pysam.FastaFile(reference_genome_path)"
   ]
  },
  {
   "cell_type": "code",
   "execution_count": 8,
   "id": "1077eec7-0259-4ffd-bc08-677ef280da8a",
   "metadata": {},
   "outputs": [],
   "source": [
    "def get_germline_vcf_files(root_folder):\n",
    "    germline_files = []\n",
    "\n",
    "    # Walk through the directory tree\n",
    "    for dirpath, dirnames, filenames in os.walk(root_folder):\n",
    "        # If \"logs\" is in dirnames, remove it to avoid traversing it\n",
    "        if 'logs' in dirnames:\n",
    "            dirnames.remove('logs')\n",
    "\n",
    "        # Add only the filenames with \"Germline.vcf\" in the current directory to the germline_files list\n",
    "        for filename in filenames:\n",
    "            if \"Germline.vcf\" in filename:\n",
    "                germline_files.append(os.path.join(dirpath, filename))\n",
    "    return germline_files"
   ]
  },
  {
   "cell_type": "code",
   "execution_count": 9,
   "id": "161a3983-576f-48cb-8056-31fb98cea433",
   "metadata": {},
   "outputs": [],
   "source": [
    "def vcf_to_dataframe(vcf_path):\n",
    "    \"\"\"\n",
    "    Convert a .vcf.gz file into a pandas DataFrame.\n",
    "\n",
    "    Parameters:\n",
    "    - vcf_path (str): path to the .vcf.gz file\n",
    "\n",
    "    Returns:\n",
    "    - pd.DataFrame: VCF data as a DataFrame\n",
    "    \"\"\"\n",
    "    df = pd.read_csv(vcf_path, sep=\",\")\n",
    "    df[\"START_POS\"] = df[\"POS\"]-1\n",
    "    df['END_POS'] = df[\"START_POS\"] + df['REF'].str.len()\n",
    "    df = df[[\"CHROM\", \"START_POS\",'END_POS', \"REF\", \"ALT\"]]\n",
    "    #display(df)\n",
    "    return df"
   ]
  },
  {
   "cell_type": "code",
   "execution_count": 10,
   "id": "3b15b757-1ca9-41fc-bd94-30c66effa588",
   "metadata": {},
   "outputs": [],
   "source": [
    "files = get_germline_vcf_files(vcf_folder_path)"
   ]
  },
  {
   "cell_type": "code",
   "execution_count": 11,
   "id": "937fba04-3164-4bff-8400-c7bc6cbeec3c",
   "metadata": {},
   "outputs": [
    {
     "data": {
      "text/plain": [
       "154"
      ]
     },
     "execution_count": 11,
     "metadata": {},
     "output_type": "execute_result"
    }
   ],
   "source": [
    "len(files)"
   ]
  },
  {
   "cell_type": "code",
   "execution_count": null,
   "id": "76357991-163d-4749-a7a6-ee2a52ae6840",
   "metadata": {},
   "outputs": [
    {
     "name": "stdout",
     "output_type": "stream",
     "text": [
      "['TCGA-02-2483-01A-01D-1494-08', 'TCGA-02-2483-10A-01D-1494-08', 'Germline'] /data/projects/GDC_Cancer_Wise/Old/Brain/Data/TCGA_BAM_VCF/VCF_Patientwise/TCGA-02-2483/TCGA-02-2483-01A-01D-1494-08_TCGA-02-2483-10A-01D-1494-08_Germline.vcf ['TCGA-02-2483-01A-01D-1494-08', 'TCGA-02-2483-10A-01D-1494-08', 'Germline']\n"
     ]
    }
   ],
   "source": [
    "intersected_vcf_data = {}\n",
    "df_statistics  = pd.DataFrame(columns= [\"filename\", \"Patient_ID\", 'work_flow',  'VCF_instance','VCF_feature','Intersected_instances', 'VCF_column_names' ])\n",
    "for file_path in files:\n",
    "    file_name =  file_path.split('/')[-1]\n",
    "    parts = file_name.split('.')[0].split('_')\n",
    "    print(parts, file_path, parts)\n",
    "    df_vcf = vcf_to_dataframe(file_path)\n",
    "    if df_vcf is None:\n",
    "        continue\n",
    "    vcf_bed = pybedtools.BedTool.from_dataframe(df_vcf)\n",
    "    intersect_vcf_acceptor = acceptor_bed.intersect(vcf_bed, wa=True, wb=True)\n",
    "    column_list  = df.columns.to_list() + df_vcf.columns.to_list()\n",
    "    df_intersection = intersect_vcf_acceptor.to_dataframe(names=column_list)\n",
    "    #print(df_intersection.shape)\n",
    "    #df_intersection = df_intersection[(df_intersection['REF'].str.len() < 10) & (df_intersection['ALT'].str.len() < 10)]\n",
    "    print(df_intersection.shape)\n",
    "    # # print(df_intersection[['REF','ALT']])\n",
    "    # # input()\n",
    "    # #print(df_intersection)\n",
    "    # #print(df_statistics)\n",
    "    # #input()\n",
    "    #gdc_tag = parts[-4]\n",
    "    patient_ID = parts[0]\n",
    "    #work_flow = parts[2]\n",
    "    instance =  df_vcf.shape[0]\n",
    "    feature = df_vcf.shape[1]\n",
    "    intersected_instance = df_intersection.shape[0]\n",
    "    feature_list = list(df_vcf.columns)\n",
    "    print(patient_ID, instance, feature, intersected_instance,  feature_list)\n",
    "    df_statistics.loc[len(df_statistics)] = [file_name, patient_ID, work_flow, instance, feature,intersected_instance,  feature_list]\n",
    "    intersected_vcf_data[patient_ID+\"_\"+work_flow] = df_intersection"
   ]
  },
  {
   "cell_type": "code",
   "execution_count": null,
   "id": "c4ff0452-384a-45b9-95b8-81c391dc02ec",
   "metadata": {},
   "outputs": [],
   "source": [
    "df_statistics"
   ]
  },
  {
   "cell_type": "code",
   "execution_count": null,
   "id": "a9291b82-8b00-4e71-a3d9-a850a24c8167",
   "metadata": {},
   "outputs": [],
   "source": [
    "output_path = \"/data/projects/GDC_Cancer_Wise/New_data/{}/Generated_files/Intersected_Data/Germline/non_coding_regions/{}\".format(cancer_type, non_coding_region)\n",
    "if not os.path.exists(output_path):\n",
    "    os.makedirs(output_path)"
   ]
  },
  {
   "cell_type": "code",
   "execution_count": null,
   "id": "ed3b9ae9-1a23-4b1a-91f8-ace829ed18ed",
   "metadata": {},
   "outputs": [],
   "source": [
    "df_statistics.to_csv(output_path+\"/VCF_statistics.tsv\", sep=\"\\t\", index=False)"
   ]
  },
  {
   "cell_type": "code",
   "execution_count": null,
   "id": "20ec3f16-623a-4363-9902-88814f0ca61f",
   "metadata": {},
   "outputs": [],
   "source": [
    "with open(output_path+\"/intersected_vcf_{}_data.pkl\".format(non_coding_region), \"wb\") as file:\n",
    "    pickle.dump(intersected_vcf_data, file)"
   ]
  },
  {
   "cell_type": "code",
   "execution_count": null,
   "id": "5cc19113-c186-41ce-be83-331eeaa41fc5",
   "metadata": {},
   "outputs": [],
   "source": [
    "df_statistics"
   ]
  },
  {
   "cell_type": "code",
   "execution_count": null,
   "id": "441f1dbd-4e8b-4880-8ebb-2dd91246ce49",
   "metadata": {},
   "outputs": [],
   "source": [
    "df_statistics[df_statistics['Patient_ID']==\"cc884f4d-e62d-4214-bfaa-81052a02a246\"]"
   ]
  },
  {
   "cell_type": "code",
   "execution_count": 18,
   "id": "4cd0a23c-d9fe-45e9-8670-0269744a03bc",
   "metadata": {},
   "outputs": [
    {
     "data": {
      "text/plain": [
       "work_flow\n",
       "CaVEMan              412\n",
       "sanger_raw_pindel    412\n",
       "dtype: int64"
      ]
     },
     "execution_count": 18,
     "metadata": {},
     "output_type": "execute_result"
    }
   ],
   "source": [
    "df_statistics.groupby('work_flow').size()"
   ]
  },
  {
   "cell_type": "code",
   "execution_count": null,
   "id": "00c77d34-3e85-49ee-86bd-6799ef47801e",
   "metadata": {},
   "outputs": [],
   "source": [
    "intersected_vcf_data['ef6c3ecc-0bb6-4035-9c45-57740f5bcaa1_sanger_raw_pindel']"
   ]
  },
  {
   "cell_type": "code",
   "execution_count": 19,
   "id": "0cfec288-737c-44dc-9e4f-fa9f90876058",
   "metadata": {},
   "outputs": [
    {
     "data": {
      "text/plain": [
       "824"
      ]
     },
     "execution_count": 19,
     "metadata": {},
     "output_type": "execute_result"
    }
   ],
   "source": [
    "len(intersected_vcf_data)"
   ]
  },
  {
   "cell_type": "code",
   "execution_count": null,
   "id": "c75eed5b-ba13-40fb-ae64-9cc6e09bac0e",
   "metadata": {},
   "outputs": [],
   "source": [
    "intersected_vcf_data['9e35e7c1-b8e9-441b-9520-3195359f8e43_sanger_raw_pindel']"
   ]
  },
  {
   "cell_type": "code",
   "execution_count": null,
   "id": "d232f915-7373-4ddc-94f0-39905732c8f7",
   "metadata": {},
   "outputs": [],
   "source": []
  }
 ],
 "metadata": {
  "kernelspec": {
   "display_name": "Python 3 (ipykernel)",
   "language": "python",
   "name": "python3"
  },
  "language_info": {
   "codemirror_mode": {
    "name": "ipython",
    "version": 3
   },
   "file_extension": ".py",
   "mimetype": "text/x-python",
   "name": "python",
   "nbconvert_exporter": "python",
   "pygments_lexer": "ipython3",
   "version": "3.10.11"
  }
 },
 "nbformat": 4,
 "nbformat_minor": 5
}
