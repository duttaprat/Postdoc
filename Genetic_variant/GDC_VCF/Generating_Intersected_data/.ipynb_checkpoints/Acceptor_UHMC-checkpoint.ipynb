{
 "cells": [
  {
   "cell_type": "code",
   "execution_count": 1,
   "id": "036635c5-ba37-4397-a233-1cd98b392df8",
   "metadata": {},
   "outputs": [
    {
     "ename": "ModuleNotFoundError",
     "evalue": "No module named 'pybedtools'",
     "output_type": "error",
     "traceback": [
      "\u001b[0;31m---------------------------------------------------------------------------\u001b[0m",
      "\u001b[0;31mModuleNotFoundError\u001b[0m                       Traceback (most recent call last)",
      "Input \u001b[0;32mIn [1]\u001b[0m, in \u001b[0;36m<cell line: 5>\u001b[0;34m()\u001b[0m\n\u001b[1;32m      3\u001b[0m \u001b[38;5;28;01mimport\u001b[39;00m \u001b[38;5;21;01mpysam\u001b[39;00m\n\u001b[1;32m      4\u001b[0m \u001b[38;5;28;01mimport\u001b[39;00m \u001b[38;5;21;01mpickle\u001b[39;00m\n\u001b[0;32m----> 5\u001b[0m \u001b[38;5;28;01mimport\u001b[39;00m \u001b[38;5;21;01mpybedtools\u001b[39;00m\n\u001b[1;32m      6\u001b[0m pybedtools\u001b[38;5;241m.\u001b[39mhelpers\u001b[38;5;241m.\u001b[39mset_tempdir(\u001b[38;5;124m'\u001b[39m\u001b[38;5;124m/home/pdutta/temp\u001b[39m\u001b[38;5;124m'\u001b[39m)\n\u001b[1;32m      7\u001b[0m \u001b[38;5;28;01mfrom\u001b[39;00m \u001b[38;5;21;01mIPython\u001b[39;00m\u001b[38;5;21;01m.\u001b[39;00m\u001b[38;5;21;01mdisplay\u001b[39;00m \u001b[38;5;28;01mimport\u001b[39;00m display, HTML\n",
      "\u001b[0;31mModuleNotFoundError\u001b[0m: No module named 'pybedtools'"
     ]
    }
   ],
   "source": [
    "import os, io\n",
    "import pandas as pd\n",
    "import pysam\n",
    "import pickle\n",
    "import pybedtools\n",
    "pybedtools.helpers.set_tempdir('/home/pdutta/temp')\n",
    "from IPython.display import display, HTML"
   ]
  },
  {
   "cell_type": "code",
   "execution_count": 2,
   "id": "f502b3c1-db1c-4161-901f-403ae4149024",
   "metadata": {},
   "outputs": [],
   "source": [
    "vcf_folder_path=\"/home/pdutta/Data/Cancer_wiseGDC/Data/Brain/WGS_VCF_Files\"\n",
    "reference_genome_path=\"/home/pdutta/Data/Human_Genome_Data/GRCh38_latest_genomic.fna\""
   ]
  },
  {
   "cell_type": "code",
   "execution_count": 3,
   "id": "abdb5c1c-7732-45c2-b434-23335d79bee0",
   "metadata": {},
   "outputs": [],
   "source": [
    "non_coding_region=\"acceptor\""
   ]
  },
  {
   "cell_type": "code",
   "execution_count": 4,
   "id": "1d991070-6c4d-4527-90e3-7b80f91bcc0e",
   "metadata": {},
   "outputs": [
    {
     "data": {
      "text/html": [
       "<div>\n",
       "<style scoped>\n",
       "    .dataframe tbody tr th:only-of-type {\n",
       "        vertical-align: middle;\n",
       "    }\n",
       "\n",
       "    .dataframe tbody tr th {\n",
       "        vertical-align: top;\n",
       "    }\n",
       "\n",
       "    .dataframe thead th {\n",
       "        text-align: right;\n",
       "    }\n",
       "</style>\n",
       "<table border=\"1\" class=\"dataframe\">\n",
       "  <thead>\n",
       "    <tr style=\"text-align: right;\">\n",
       "      <th></th>\n",
       "      <th>chr_name</th>\n",
       "      <th>start</th>\n",
       "      <th>end</th>\n",
       "      <th>strand</th>\n",
       "      <th>transcript_id</th>\n",
       "      <th>exon_id</th>\n",
       "      <th>transcript_type</th>\n",
       "    </tr>\n",
       "  </thead>\n",
       "  <tbody>\n",
       "    <tr>\n",
       "      <th>0</th>\n",
       "      <td>chr1</td>\n",
       "      <td>12572</td>\n",
       "      <td>12651</td>\n",
       "      <td>+</td>\n",
       "      <td>ENST00000450305.2, ENST00000456328.2</td>\n",
       "      <td>ENSE00001758273.2, ENSE00003582793.1</td>\n",
       "      <td>transcribed_unprocessed_pseudogene, processed_...</td>\n",
       "    </tr>\n",
       "    <tr>\n",
       "      <th>1</th>\n",
       "      <td>chr1</td>\n",
       "      <td>12934</td>\n",
       "      <td>13013</td>\n",
       "      <td>+</td>\n",
       "      <td>ENST00000450305.2</td>\n",
       "      <td>ENSE00001799933.2</td>\n",
       "      <td>transcribed_unprocessed_pseudogene</td>\n",
       "    </tr>\n",
       "    <tr>\n",
       "      <th>2</th>\n",
       "      <td>chr1</td>\n",
       "      <td>13180</td>\n",
       "      <td>13259</td>\n",
       "      <td>+</td>\n",
       "      <td>ENST00000450305.2, ENST00000456328.2</td>\n",
       "      <td>ENSE00001746346.2, ENSE00002312635.1</td>\n",
       "      <td>transcribed_unprocessed_pseudogene, processed_...</td>\n",
       "    </tr>\n",
       "    <tr>\n",
       "      <th>3</th>\n",
       "      <td>chr1</td>\n",
       "      <td>13412</td>\n",
       "      <td>13491</td>\n",
       "      <td>+</td>\n",
       "      <td>ENST00000450305.2</td>\n",
       "      <td>ENSE00001863096.1</td>\n",
       "      <td>transcribed_unprocessed_pseudogene</td>\n",
       "    </tr>\n",
       "    <tr>\n",
       "      <th>4</th>\n",
       "      <td>chr1</td>\n",
       "      <td>14999</td>\n",
       "      <td>15078</td>\n",
       "      <td>-</td>\n",
       "      <td>ENST00000488147.1</td>\n",
       "      <td>ENSE00001935574.1</td>\n",
       "      <td>unprocessed_pseudogene</td>\n",
       "    </tr>\n",
       "    <tr>\n",
       "      <th>...</th>\n",
       "      <td>...</td>\n",
       "      <td>...</td>\n",
       "      <td>...</td>\n",
       "      <td>...</td>\n",
       "      <td>...</td>\n",
       "      <td>...</td>\n",
       "      <td>...</td>\n",
       "    </tr>\n",
       "    <tr>\n",
       "      <th>295391</th>\n",
       "      <td>chrY</td>\n",
       "      <td>57211720</td>\n",
       "      <td>57211799</td>\n",
       "      <td>+</td>\n",
       "      <td>ENST00000340131.12_PAR_Y, ENST00000359512.8_PA...</td>\n",
       "      <td>ENSE00001956598.1, ENSE00001416295.3, ENSE0000...</td>\n",
       "      <td>retained_intron, protein_coding, processed_tra...</td>\n",
       "    </tr>\n",
       "    <tr>\n",
       "      <th>295392</th>\n",
       "      <td>chrY</td>\n",
       "      <td>57213086</td>\n",
       "      <td>57213165</td>\n",
       "      <td>-</td>\n",
       "      <td>ENST00000507418.6_PAR_Y</td>\n",
       "      <td>ENSE00002023900.1</td>\n",
       "      <td>unprocessed_pseudogene</td>\n",
       "    </tr>\n",
       "    <tr>\n",
       "      <th>295393</th>\n",
       "      <td>chrY</td>\n",
       "      <td>57213318</td>\n",
       "      <td>57213397</td>\n",
       "      <td>-</td>\n",
       "      <td>ENST00000507418.6_PAR_Y</td>\n",
       "      <td>ENSE00002036959.1</td>\n",
       "      <td>unprocessed_pseudogene</td>\n",
       "    </tr>\n",
       "    <tr>\n",
       "      <th>295394</th>\n",
       "      <td>chrY</td>\n",
       "      <td>57213563</td>\n",
       "      <td>57213642</td>\n",
       "      <td>-</td>\n",
       "      <td>ENST00000507418.6_PAR_Y</td>\n",
       "      <td>ENSE00002021169.1</td>\n",
       "      <td>unprocessed_pseudogene</td>\n",
       "    </tr>\n",
       "    <tr>\n",
       "      <th>295395</th>\n",
       "      <td>chrY</td>\n",
       "      <td>57213925</td>\n",
       "      <td>57214004</td>\n",
       "      <td>-</td>\n",
       "      <td>ENST00000507418.6_PAR_Y</td>\n",
       "      <td>ENSE00002046926.1</td>\n",
       "      <td>unprocessed_pseudogene</td>\n",
       "    </tr>\n",
       "  </tbody>\n",
       "</table>\n",
       "<p>295396 rows × 7 columns</p>\n",
       "</div>"
      ],
      "text/plain": [
       "       chr_name     start       end strand  \\\n",
       "0          chr1     12572     12651      +   \n",
       "1          chr1     12934     13013      +   \n",
       "2          chr1     13180     13259      +   \n",
       "3          chr1     13412     13491      +   \n",
       "4          chr1     14999     15078      -   \n",
       "...         ...       ...       ...    ...   \n",
       "295391     chrY  57211720  57211799      +   \n",
       "295392     chrY  57213086  57213165      -   \n",
       "295393     chrY  57213318  57213397      -   \n",
       "295394     chrY  57213563  57213642      -   \n",
       "295395     chrY  57213925  57214004      -   \n",
       "\n",
       "                                            transcript_id  \\\n",
       "0                    ENST00000450305.2, ENST00000456328.2   \n",
       "1                                       ENST00000450305.2   \n",
       "2                    ENST00000450305.2, ENST00000456328.2   \n",
       "3                                       ENST00000450305.2   \n",
       "4                                       ENST00000488147.1   \n",
       "...                                                   ...   \n",
       "295391  ENST00000340131.12_PAR_Y, ENST00000359512.8_PA...   \n",
       "295392                            ENST00000507418.6_PAR_Y   \n",
       "295393                            ENST00000507418.6_PAR_Y   \n",
       "295394                            ENST00000507418.6_PAR_Y   \n",
       "295395                            ENST00000507418.6_PAR_Y   \n",
       "\n",
       "                                                  exon_id  \\\n",
       "0                    ENSE00001758273.2, ENSE00003582793.1   \n",
       "1                                       ENSE00001799933.2   \n",
       "2                    ENSE00001746346.2, ENSE00002312635.1   \n",
       "3                                       ENSE00001863096.1   \n",
       "4                                       ENSE00001935574.1   \n",
       "...                                                   ...   \n",
       "295391  ENSE00001956598.1, ENSE00001416295.3, ENSE0000...   \n",
       "295392                                  ENSE00002023900.1   \n",
       "295393                                  ENSE00002036959.1   \n",
       "295394                                  ENSE00002021169.1   \n",
       "295395                                  ENSE00002046926.1   \n",
       "\n",
       "                                          transcript_type  \n",
       "0       transcribed_unprocessed_pseudogene, processed_...  \n",
       "1                      transcribed_unprocessed_pseudogene  \n",
       "2       transcribed_unprocessed_pseudogene, processed_...  \n",
       "3                      transcribed_unprocessed_pseudogene  \n",
       "4                                  unprocessed_pseudogene  \n",
       "...                                                   ...  \n",
       "295391  retained_intron, protein_coding, processed_tra...  \n",
       "295392                             unprocessed_pseudogene  \n",
       "295393                             unprocessed_pseudogene  \n",
       "295394                             unprocessed_pseudogene  \n",
       "295395                             unprocessed_pseudogene  \n",
       "\n",
       "[295396 rows x 7 columns]"
      ]
     },
     "execution_count": 4,
     "metadata": {},
     "output_type": "execute_result"
    }
   ],
   "source": [
    "df= pd.read_csv(\"/home/pdutta/Data/Noncoding_region/Unique_{}_RAW_Combined_BED.tsv\".format(non_coding_region), sep=\"\\t\")\n",
    "df"
   ]
  },
  {
   "cell_type": "code",
   "execution_count": 5,
   "id": "cfafb9dd-9f60-4443-8d7b-ea9d1dd06e94",
   "metadata": {},
   "outputs": [],
   "source": [
    "acceptor_bed = pybedtools.BedTool.from_dataframe(df)"
   ]
  },
  {
   "cell_type": "code",
   "execution_count": 6,
   "id": "f474e554-3572-499a-bbd9-1d71e0b13129",
   "metadata": {},
   "outputs": [],
   "source": [
    "reference_fasta = pysam.FastaFile(reference_genome_path)"
   ]
  },
  {
   "cell_type": "code",
   "execution_count": 7,
   "id": "1077eec7-0259-4ffd-bc08-677ef280da8a",
   "metadata": {},
   "outputs": [],
   "source": [
    "def get_vcf_gz_files_except_logs(root_folder):\n",
    "    all_files = []\n",
    "\n",
    "    # Walk through the directory tree\n",
    "    for dirpath, dirnames, filenames in os.walk(root_folder):\n",
    "        # If \"logs\" is in dirnames, remove it to avoid traversing it\n",
    "        if 'logs' in dirnames:\n",
    "            dirnames.remove('logs')\n",
    "\n",
    "        # Add only the filenames with the extension .vcf.gz in the current directory to the all_files list\n",
    "        for filename in filenames:\n",
    "            if filename.endswith('.vcf.gz'):\n",
    "                all_files.append(os.path.join(dirpath, filename))\n",
    "    return all_files"
   ]
  },
  {
   "cell_type": "code",
   "execution_count": 8,
   "id": "161a3983-576f-48cb-8056-31fb98cea433",
   "metadata": {},
   "outputs": [],
   "source": [
    "def vcf_to_dataframe(vcf_path):\n",
    "    \"\"\"\n",
    "    Convert a .vcf.gz file into a pandas DataFrame.\n",
    "\n",
    "    Parameters:\n",
    "    - vcf_path (str): path to the .vcf.gz file\n",
    "\n",
    "    Returns:\n",
    "    - pd.DataFrame: VCF data as a DataFrame\n",
    "    \"\"\"\n",
    "\n",
    "    try:\n",
    "        # Open the VCF file\n",
    "        vcf_file = pysam.VariantFile(vcf_path)\n",
    "    except ValueError as e:\n",
    "        print(f\"Failed to open file {vcf_path}: {e}\")\n",
    "        with open(\"/data/projects/GDC_Cancer_Wise/Brain/Data/\"+vcf_path.split(\"/\")[-2]+\"_error_log.txt\", \"a\") as error_log:\n",
    "            error_log.write(f\"{vcf_path}\\n\")\n",
    "        return None\n",
    "\n",
    "    # Extracting the data and the columns\n",
    "    data = []\n",
    "    \n",
    "    columns =  [\"CHROM\", \"START_POS\", \"ID\", \"REF\", \"ALT\", \"QUAL\", \"FILTER\"] + list(vcf_file.header.info.keys()) \n",
    "    for record in vcf_file:\n",
    "        basic_data = [record.chrom, record.pos, record.id, record.ref, \n",
    "                      ','.join(str(alt) for alt in record.alts), record.qual, record.filter.keys()[0] if record.filter.keys() else 'PASS']\n",
    "        row_data = [record.info.get(key) for key in vcf_file.header.info.keys()]\n",
    "        data.append(basic_data + row_data)\n",
    "\n",
    "    df = pd.DataFrame(data, columns=columns)\n",
    "    df[\"START_POS\"] = df[\"START_POS\"]-1\n",
    "    end = df[\"START_POS\"] + df['REF'].str.len()\n",
    "    df.insert(2, 'END_POS', end)\n",
    "\n",
    "    # Close the VCF file\n",
    "    vcf_file.close()\n",
    "\n",
    "    return df"
   ]
  },
  {
   "cell_type": "code",
   "execution_count": 9,
   "id": "3b15b757-1ca9-41fc-bd94-30c66effa588",
   "metadata": {},
   "outputs": [],
   "source": [
    "files = get_vcf_gz_files_except_logs(vcf_folder_path)"
   ]
  },
  {
   "cell_type": "code",
   "execution_count": 10,
   "id": "937fba04-3164-4bff-8400-c7bc6cbeec3c",
   "metadata": {},
   "outputs": [
    {
     "data": {
      "text/plain": [
       "110"
      ]
     },
     "execution_count": 10,
     "metadata": {},
     "output_type": "execute_result"
    }
   ],
   "source": [
    "len(files)"
   ]
  },
  {
   "cell_type": "code",
   "execution_count": 11,
   "id": "cab27f17-686b-4da4-9fed-69fd128c5cb2",
   "metadata": {},
   "outputs": [],
   "source": [
    "intersected_vcf_data = {}\n",
    "df_statistics  = pd.DataFrame(columns= ['filename', 'gdc_tag', 'VCF_instance','VCF_feature','Intersected_instances', 'VCF_column_names' ])"
   ]
  },
  {
   "cell_type": "code",
   "execution_count": 12,
   "id": "76357991-163d-4749-a7a6-ee2a52ae6840",
   "metadata": {},
   "outputs": [
    {
     "name": "stdout",
     "output_type": "stream",
     "text": [
      "['1d3daf9d-7740-484e-850b-827a6b7d451d.wgs.CaVEMan.raw', 'somatic', 'mutation.vcf.gz']\n"
     ]
    },
    {
     "ename": "NotImplementedError",
     "evalue": "\"intersectBed\" does not appear to be installed or on the path, so this method is disabled.  Please install a more recent version of BEDTools and re-import to use this method.",
     "output_type": "error",
     "traceback": [
      "\u001b[0;31m---------------------------------------------------------------------------\u001b[0m",
      "\u001b[0;31mNotImplementedError\u001b[0m                       Traceback (most recent call last)",
      "Input \u001b[0;32mIn [12]\u001b[0m, in \u001b[0;36m<cell line: 1>\u001b[0;34m()\u001b[0m\n\u001b[1;32m      8\u001b[0m     \u001b[38;5;28;01mcontinue\u001b[39;00m\n\u001b[1;32m      9\u001b[0m vcf_bed \u001b[38;5;241m=\u001b[39m pybedtools\u001b[38;5;241m.\u001b[39mBedTool\u001b[38;5;241m.\u001b[39mfrom_dataframe(df_vcf)\n\u001b[0;32m---> 10\u001b[0m intersect_vcf_acceptor \u001b[38;5;241m=\u001b[39m \u001b[43macceptor_bed\u001b[49m\u001b[38;5;241;43m.\u001b[39;49m\u001b[43mintersect\u001b[49m\u001b[43m(\u001b[49m\u001b[43mvcf_bed\u001b[49m\u001b[43m,\u001b[49m\u001b[43m \u001b[49m\u001b[43mwa\u001b[49m\u001b[38;5;241;43m=\u001b[39;49m\u001b[38;5;28;43;01mTrue\u001b[39;49;00m\u001b[43m,\u001b[49m\u001b[43m \u001b[49m\u001b[43mwb\u001b[49m\u001b[38;5;241;43m=\u001b[39;49m\u001b[38;5;28;43;01mTrue\u001b[39;49;00m\u001b[43m)\u001b[49m\n\u001b[1;32m     11\u001b[0m column_list  \u001b[38;5;241m=\u001b[39m df_acceptor_bed\u001b[38;5;241m.\u001b[39mcolumns\u001b[38;5;241m.\u001b[39mto_list() \u001b[38;5;241m+\u001b[39m df_vcf\u001b[38;5;241m.\u001b[39mcolumns\u001b[38;5;241m.\u001b[39mto_list()\n\u001b[1;32m     12\u001b[0m df_intersection \u001b[38;5;241m=\u001b[39m intersect_vcf_acceptor\u001b[38;5;241m.\u001b[39mto_dataframe(names\u001b[38;5;241m=\u001b[39mcolumn_list)\n",
      "File \u001b[0;32m~/anaconda3/envs/r_env/lib/python3.10/site-packages/pybedtools/bedtool.py:923\u001b[0m, in \u001b[0;36mBedTool._log_to_history.<locals>.decorated\u001b[0;34m(self, *args, **kwargs)\u001b[0m\n\u001b[1;32m    919\u001b[0m \u001b[38;5;28;01mdef\u001b[39;00m \u001b[38;5;21mdecorated\u001b[39m(\u001b[38;5;28mself\u001b[39m, \u001b[38;5;241m*\u001b[39margs, \u001b[38;5;241m*\u001b[39m\u001b[38;5;241m*\u001b[39mkwargs):\n\u001b[1;32m    920\u001b[0m \n\u001b[1;32m    921\u001b[0m     \u001b[38;5;66;03m# this calls the actual method in the first place; *result* is\u001b[39;00m\n\u001b[1;32m    922\u001b[0m     \u001b[38;5;66;03m# whatever you get back\u001b[39;00m\n\u001b[0;32m--> 923\u001b[0m     result \u001b[38;5;241m=\u001b[39m \u001b[43mmethod\u001b[49m\u001b[43m(\u001b[49m\u001b[38;5;28;43mself\u001b[39;49m\u001b[43m,\u001b[49m\u001b[43m \u001b[49m\u001b[38;5;241;43m*\u001b[39;49m\u001b[43margs\u001b[49m\u001b[43m,\u001b[49m\u001b[43m \u001b[49m\u001b[38;5;241;43m*\u001b[39;49m\u001b[38;5;241;43m*\u001b[39;49m\u001b[43mkwargs\u001b[49m\u001b[43m)\u001b[49m\n\u001b[1;32m    925\u001b[0m     \u001b[38;5;66;03m# add appropriate tags\u001b[39;00m\n\u001b[1;32m    926\u001b[0m     parent_tag \u001b[38;5;241m=\u001b[39m \u001b[38;5;28mself\u001b[39m\u001b[38;5;241m.\u001b[39m_tag\n",
      "File \u001b[0;32m~/anaconda3/envs/r_env/lib/python3.10/site-packages/pybedtools/bedtool.py:244\u001b[0m, in \u001b[0;36m_wraps.<locals>.decorator.<locals>.not_implemented_func\u001b[0;34m(*args, **kwargs)\u001b[0m\n\u001b[1;32m    243\u001b[0m \u001b[38;5;28;01mdef\u001b[39;00m \u001b[38;5;21mnot_implemented_func\u001b[39m(\u001b[38;5;241m*\u001b[39margs, \u001b[38;5;241m*\u001b[39m\u001b[38;5;241m*\u001b[39mkwargs):\n\u001b[0;32m--> 244\u001b[0m     \u001b[38;5;28;01mraise\u001b[39;00m \u001b[38;5;167;01mNotImplementedError\u001b[39;00m(help_str)\n",
      "\u001b[0;31mNotImplementedError\u001b[0m: \"intersectBed\" does not appear to be installed or on the path, so this method is disabled.  Please install a more recent version of BEDTools and re-import to use this method."
     ]
    }
   ],
   "source": [
    "for file_path in files:\n",
    "    file_name =  file_path.split('/')[-1]\n",
    "    parts = file_name.split('_')\n",
    "    print(parts)\n",
    "    df_vcf = vcf_to_dataframe(file_path)\n",
    "    #print(df_vcf)\n",
    "    if df_vcf is None:\n",
    "        continue\n",
    "    vcf_bed = pybedtools.BedTool.from_dataframe(df_vcf)\n",
    "    intersect_vcf_acceptor = acceptor_bed.intersect(vcf_bed, wa=True, wb=True)\n",
    "    column_list  = df_acceptor_bed.columns.to_list() + df_vcf.columns.to_list()\n",
    "    df_intersection = intersect_vcf_acceptor.to_dataframe(names=column_list)\n",
    "    #print(df_intersection)\n",
    "    print(df_statistics)\n",
    "    input()"
   ]
  },
  {
   "cell_type": "code",
   "execution_count": null,
   "id": "a9291b82-8b00-4e71-a3d9-a850a24c8167",
   "metadata": {},
   "outputs": [],
   "source": []
  }
 ],
 "metadata": {
  "kernelspec": {
   "display_name": "Python 3 (ipykernel)",
   "language": "python",
   "name": "python3"
  },
  "language_info": {
   "codemirror_mode": {
    "name": "ipython",
    "version": 3
   },
   "file_extension": ".py",
   "mimetype": "text/x-python",
   "name": "python",
   "nbconvert_exporter": "python",
   "pygments_lexer": "ipython3",
   "version": "3.10.4"
  }
 },
 "nbformat": 4,
 "nbformat_minor": 5
}
