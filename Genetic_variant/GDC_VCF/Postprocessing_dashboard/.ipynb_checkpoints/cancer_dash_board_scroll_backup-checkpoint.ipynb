{
 "cells": [
  {
   "cell_type": "code",
   "execution_count": 1,
   "id": "bb0e77ae-fc4c-4894-bfd1-c731c96da407",
   "metadata": {},
   "outputs": [],
   "source": [
    "import dash\n",
    "from dash import dcc, html, Input, Output, callback, State\n",
    "import plotly.express as px\n",
    "import plotly.graph_objects as go\n",
    "from plotly.subplots import make_subplots\n",
    "import pandas as pd\n",
    "import os"
   ]
  },
  {
   "cell_type": "code",
   "execution_count": 2,
   "id": "4e16dc90-f4be-48a6-baad-5b4d8babbc7d",
   "metadata": {},
   "outputs": [],
   "source": [
    "# Base directory for data\n",
    "BASE_DIR = '/home/pdutta/Data/Cancer_wiseGDC/New_data'\n",
    "\n",
    "# Listing the main categories\n",
    "#categories = [d for d in os.listdir(BASE_DIR) if os.path.isdir(os.path.join(BASE_DIR, d)) and not d.startswith('.')]"
   ]
  },
  {
   "cell_type": "code",
   "execution_count": 3,
   "id": "9c287d90-2697-460c-ba3b-87fe9c1f249f",
   "metadata": {},
   "outputs": [],
   "source": [
    "#categories"
   ]
  },
  {
   "cell_type": "code",
   "execution_count": 4,
   "id": "884c832c-dc6b-46ef-b062-7d1e36ebc1e9",
   "metadata": {},
   "outputs": [],
   "source": [
    "# Create a Dash app\n",
    "app = dash.Dash(__name__)"
   ]
  },
  {
   "cell_type": "code",
   "execution_count": 5,
   "id": "d08394ec-f32d-4bdf-a651-547a4f13e522",
   "metadata": {},
   "outputs": [],
   "source": [
    "# App layout\n",
    "app.layout = html.Div([\n",
    "    html.H1(\"Analysis of somatic variants across various GDC cancer patients\", style={'text-align': 'center'}),\n",
    "    dcc.Dropdown(\n",
    "        id='cancer-type-dropdown',\n",
    "        options=[\n",
    "            {'label': 'Select Cancer Type', 'value': ''},\n",
    "            {'label': 'Lung', 'value': 'Lung'},\n",
    "            {'label': 'Brain', 'value': 'Brain'},\n",
    "            {'label': 'Breast', 'value': 'Breast'}\n",
    "        ],\n",
    "        value='',  # Default value prompting user selection\n",
    "        style={'width': '50%', 'margin': 'auto'}\n",
    "    ),\n",
    "    html.H3(\"Barplot of the Number of Unique Variants across various DNABERT fine-tuned models\", style={'text-align': 'center'}),\n",
    "    dcc.Graph(id='variants-bar-plot'),\n",
    "    html.H3(\"Variant wise statistics\", style={'text-align': 'center'}),\n",
    "    dcc.RangeSlider(\n",
    "        id='index-range-slider',\n",
    "        min=0,\n",
    "        max=100,  # Adjust based on your dataset size\n",
    "        step=1,\n",
    "        value=[0, 10],\n",
    "        marks={i: str(i) for i in range(0, 101, 10)},\n",
    "        tooltip={\"placement\": \"bottom\", \"always_visible\": True}\n",
    "    ),\n",
    "    dcc.Graph(id='variant-statistics-plot'),\n",
    "    dcc.Store(id='variant-index', data={'start_index': 0})  # To store current index for pagination\n",
    "])"
   ]
  },
  {
   "cell_type": "code",
   "execution_count": 1,
   "id": "91bbc844-92f2-4b3b-a5a9-c9d050bf92b4",
   "metadata": {},
   "outputs": [],
   "source": [
    "# Assuming you have a DataFrame named 'df'\n",
    "def calculation(df):\n",
    "    # Calculate the maximum values for columns, starting from the third column, and sort them in descending order\n",
    "    column_max = df.iloc[:, 1:].max()\n",
    "    sorted_max = column_max.sort_values(ascending=False)\n",
    "    #Get the names of the top 15 columns\n",
    "    top_columns = sorted_max.index\n",
    "    # Count the number of non-NaN values in each of the top 15 columns\n",
    "    non_nan_counts = [df[col].notna().sum() for col in top_columns]\n",
    "    #print(non_nan_counts)\n",
    "    # Convert the Series of sorted max values to a DataFrame\n",
    "    top_df = sorted_max.reset_index()\n",
    "    top_df.columns = ['Column', 'Max Value']\n",
    "    # Add the non-NaN counts as a new column to the DataFrame\n",
    "    top_df['Non-NaN Count'] = non_nan_counts\n",
    "    top_df = top_df.dropna(subset=['Max Value'])\n",
    "    top_df = top_df.sort_values(by='Non-NaN Count', ascending=False)\n",
    "    return(top_df)"
   ]
  },
  {
   "cell_type": "code",
   "execution_count": 7,
   "id": "ed571e9e-2a5c-4462-bfea-f2dd0ede29be",
   "metadata": {},
   "outputs": [],
   "source": [
    "def load_data(category):\n",
    "    \"\"\"Load df_log_odd_score.tsv files from specified category.\"\"\"\n",
    "    path = os.path.join(BASE_DIR, category, 'Generated_files', 'Variant_Analysis')\n",
    "    data = []\n",
    "    for root, dirs, files in os.walk(path):\n",
    "        for file in files:\n",
    "            if 'df_log_odd_score.tsv' in file:\n",
    "                subfolder = os.path.basename(root)\n",
    "                full_path = os.path.join(root, file)\n",
    "                df = pd.read_csv(full_path, sep='\\t')\n",
    "                data.append((subfolder, df))\n",
    "    return data"
   ]
  },
  {
   "cell_type": "code",
   "execution_count": 8,
   "id": "5cb4c95b-501f-4b1b-b5d0-cbc5463948e0",
   "metadata": {},
   "outputs": [],
   "source": [
    "def get_variant_statistics_subplots(calculated_data, start_index, end_index, subfolder_titles):\n",
    "    subplots = make_subplots(rows=1, cols=4, subplot_titles=subfolder_titles)\n",
    "    for i, (subfolder, data) in enumerate(calculated_data, start=1):\n",
    "        data = data.sort_values(by='Non-NaN Count', ascending=False).iloc[start_index:end_index]\n",
    "        subplots.add_trace(\n",
    "            go.Bar(\n",
    "                x=data['Column'],\n",
    "                y=data['Non-NaN Count']\n",
    "            ),\n",
    "            row=1, col=i\n",
    "        )\n",
    "        subplots.update_xaxes(title_text='Variant Position', row=1, col=i)\n",
    "        subplots.update_yaxes(title_text='Non-NaN Count', row=1, col=i)\n",
    "    subplots.update_layout(title_text='Variant Wise Statistics', showlegend=False)\n",
    "    return subplots"
   ]
  },
  {
   "cell_type": "code",
   "execution_count": 9,
   "id": "4e239dfd-0b36-4960-8656-eaf77be28dbe",
   "metadata": {},
   "outputs": [],
   "source": [
    "@app.callback(\n",
    "    [Output('variants-bar-plot', 'figure'),\n",
    "     Output('variant-statistics-plot', 'figure')],\n",
    "    [Input('cancer-type-dropdown', 'value'),\n",
    "     Input('index-range-slider', 'value')],\n",
    "    [dash.dependencies.State('variant-index', 'data')]\n",
    ")\n",
    "def update_graphs(selected_category, slider_range, stored_data):\n",
    "    # Return empty plots if no category is selected\n",
    "    if not selected_category:\n",
    "        return px.bar(), go.Figure()\n",
    "\n",
    "    start_index, end_index = slider_range\n",
    "\n",
    "    # Load data based on the selected cancer type\n",
    "    cat_data = load_data(selected_category)\n",
    "    calculated_data = []\n",
    "    subfolder_titles = []\n",
    "\n",
    "    # Process each subfolder's data\n",
    "    for subfolder, df in cat_data:\n",
    "        calculated_df = calculation(df)\n",
    "        calculated_data.append((subfolder, calculated_df))\n",
    "        subfolder_titles.append(subfolder)\n",
    "\n",
    "    # Generate the first bar plot for unique variants\n",
    "    data = []\n",
    "    for subfolder, df in cat_data:\n",
    "        num_patients = df.shape[0]\n",
    "        num_variants = df.shape[1] - 1  # Subtract 1 to account for the index column\n",
    "        data.append({\n",
    "            'Non-coding regions': subfolder,\n",
    "            'Unique Variants': num_variants,\n",
    "            'label': f\"{subfolder} ({num_patients} patients)\"\n",
    "        })\n",
    "    df_plot = pd.DataFrame(data)\n",
    "    fig_bar = px.bar(\n",
    "        df_plot,\n",
    "        x='Non-coding regions', \n",
    "        y='Unique Variants', \n",
    "        text='Unique Variants',\n",
    "        labels={'Unique Variants': 'Number of Unique Variants', 'Non-coding regions': 'Non-coding Regions'},\n",
    "        color='label'\n",
    "    )\n",
    "    fig_bar.update_traces(texttemplate='%{text}', textposition='outside')\n",
    "\n",
    "    # Generate subplots for variant statistics using the selected range\n",
    "    fig_subplots = get_variant_statistics_subplots(calculated_data, start_index, end_index, subfolder_titles)\n",
    "\n",
    "    return fig_bar, fig_subplots"
   ]
  },
  {
   "cell_type": "code",
   "execution_count": 10,
   "id": "7927ac5f-2467-409d-a96c-04f061844e13",
   "metadata": {},
   "outputs": [
    {
     "data": {
      "text/html": [
       "\n",
       "        <iframe\n",
       "            width=\"100%\"\n",
       "            height=\"650\"\n",
       "            src=\"http://0.0.0.0:7951/\"\n",
       "            frameborder=\"0\"\n",
       "            allowfullscreen\n",
       "            \n",
       "        ></iframe>\n",
       "        "
      ],
      "text/plain": [
       "<IPython.lib.display.IFrame at 0x2aab5acdb190>"
      ]
     },
     "metadata": {},
     "output_type": "display_data"
    }
   ],
   "source": [
    "if __name__ == '__main__':\n",
    "    app.run_server(host='0.0.0.0', port=7951, mode='external')"
   ]
  },
  {
   "cell_type": "code",
   "execution_count": null,
   "id": "46e4c364-bc8a-40bf-9ed3-e251e3638a96",
   "metadata": {},
   "outputs": [],
   "source": []
  },
  {
   "cell_type": "code",
   "execution_count": null,
   "id": "c1ccb9cc-c952-4b69-82aa-3675ec282015",
   "metadata": {},
   "outputs": [],
   "source": []
  }
 ],
 "metadata": {
  "kernelspec": {
   "display_name": "Python 3 (ipykernel)",
   "language": "python",
   "name": "python3"
  },
  "language_info": {
   "codemirror_mode": {
    "name": "ipython",
    "version": 3
   },
   "file_extension": ".py",
   "mimetype": "text/x-python",
   "name": "python",
   "nbconvert_exporter": "python",
   "pygments_lexer": "ipython3",
   "version": "3.10.14"
  }
 },
 "nbformat": 4,
 "nbformat_minor": 5
}
