{
 "cells": [
  {
   "cell_type": "code",
   "execution_count": 1,
   "id": "fb042377-08ba-43fe-b4bb-4ee84852c0e5",
   "metadata": {},
   "outputs": [],
   "source": [
    "import os\n",
    "import pandas as pd\n",
    "import numpy as np\n",
    "import plotly.express as px\n",
    "import plotly.graph_objects as go\n",
    "from plotly.subplots import make_subplots\n",
    "from sklearn.metrics import silhouette_score, silhouette_samples\n",
    "#import matplotlib.ticker as ticker\n",
    "from sklearn.impute import SimpleImputer\n",
    "from sklearn.decomposition import PCA\n",
    "from sklearn.preprocessing import StandardScaler\n",
    "#import matplotlib.pyplot as plt\n",
    "from sklearn.cluster import KMeans\n",
    "from scipy.stats import norm\n",
    "import itertools\n",
    "import networkx as nx\n",
    "import plotly.figure_factory as ff\n",
    "from itertools import combinations\n",
    "from IPython.display import display\n",
    "from pacmap import PaCMAP\n",
    "from scipy.cluster.hierarchy import linkage, fcluster"
   ]
  },
  {
   "cell_type": "code",
   "execution_count": 2,
   "id": "43f30097-3b6a-4034-825d-1a45321b8839",
   "metadata": {},
   "outputs": [],
   "source": [
    "cancer_type = \"Brain\"\n",
    "non_coding_region = 'donor'\n",
    "file_name = \"df_log_odd_score_patientwise.tsv\""
   ]
  },
  {
   "cell_type": "code",
   "execution_count": 9,
   "id": "53000d48-f1b5-43a0-8fe5-4c9f3b6aa5d9",
   "metadata": {},
   "outputs": [],
   "source": [
    "file_path= '/home/pdutta/Data/Cancer_wiseGDC/New_data/{}/Generated_files/Variant_Analysis/{}/{}'.format(cancer_type, non_coding_region, file_name)\n",
    "output_path = \"/home/pdutta/Data/Cancer_wiseGDC/New_data/{}/Generated_files/Kmeans_cluster/{}/Categorise/\".format(cancer_type, non_coding_region)\n",
    "# Subfolders within the base path"
   ]
  },
  {
   "cell_type": "code",
   "execution_count": 10,
   "id": "601e535f-c56d-40c1-bb36-59bdb5c3a1b7",
   "metadata": {},
   "outputs": [
    {
     "data": {
      "text/html": [
       "<div>\n",
       "<style scoped>\n",
       "    .dataframe tbody tr th:only-of-type {\n",
       "        vertical-align: middle;\n",
       "    }\n",
       "\n",
       "    .dataframe tbody tr th {\n",
       "        vertical-align: top;\n",
       "    }\n",
       "\n",
       "    .dataframe thead th {\n",
       "        text-align: right;\n",
       "    }\n",
       "</style>\n",
       "<table border=\"1\" class=\"dataframe\">\n",
       "  <thead>\n",
       "    <tr style=\"text-align: right;\">\n",
       "      <th></th>\n",
       "      <th>chr1_1387737_1387816_1387762_1387765_CCT_C</th>\n",
       "      <th>chr1_3836455_3836534_3836467_3836468_G_GT</th>\n",
       "      <th>chr1_15524029_15524108_15524057_15524058_C_CGGGGGCG</th>\n",
       "      <th>chr1_16052373_16052452_16052445_16052450_GTCAC_TCAT</th>\n",
       "      <th>chr1_35079404_35079483_35079420_35079421_G_GGC</th>\n",
       "      <th>chr1_55056151_55056230_55056225_55056233_GGGGCGGA_G</th>\n",
       "      <th>chr1_59762631_59762710_59762637_59762638_T_TTC</th>\n",
       "      <th>chr1_63014040_63014119_63014041_63014042_G_GCTA</th>\n",
       "      <th>chr1_93846925_93847004_93846925_93846926_T_TC</th>\n",
       "      <th>chr1_100729344_100729423_100729408_100729409_G_GT</th>\n",
       "      <th>...</th>\n",
       "      <th>chr11_104606983_104607062_104607015_104607021_GCCTAA_G</th>\n",
       "      <th>chr19_32040532_32040611_32040534_32040535_A_AC</th>\n",
       "      <th>chr22_20983084_20983163_20983088_20983093_GGTGA_G</th>\n",
       "      <th>chr22_23583769_23583848_23583797_23583803_GCTCCT_G</th>\n",
       "      <th>chrX_120143862_120143941_120143876_120143877_G_GA</th>\n",
       "      <th>chr11_64653656_64653735_64653695_64653696_T_G</th>\n",
       "      <th>chr16_55733472_55733551_55733540_55733541_A_T</th>\n",
       "      <th>chr18_46483547_46483626_46483557_46483558_A_G</th>\n",
       "      <th>chr3_49422321_49422400_49422337_49422338_A_C</th>\n",
       "      <th>chr4_70681561_70681640_70681600_70681601_T_C</th>\n",
       "    </tr>\n",
       "    <tr>\n",
       "      <th>Patient_Core_ID</th>\n",
       "      <th></th>\n",
       "      <th></th>\n",
       "      <th></th>\n",
       "      <th></th>\n",
       "      <th></th>\n",
       "      <th></th>\n",
       "      <th></th>\n",
       "      <th></th>\n",
       "      <th></th>\n",
       "      <th></th>\n",
       "      <th></th>\n",
       "      <th></th>\n",
       "      <th></th>\n",
       "      <th></th>\n",
       "      <th></th>\n",
       "      <th></th>\n",
       "      <th></th>\n",
       "      <th></th>\n",
       "      <th></th>\n",
       "      <th></th>\n",
       "      <th></th>\n",
       "    </tr>\n",
       "  </thead>\n",
       "  <tbody>\n",
       "    <tr>\n",
       "      <th>02eb77ff-2e07-4d56-9c32-d9fa415c7ce2</th>\n",
       "      <td>NaN</td>\n",
       "      <td>-9.055833</td>\n",
       "      <td>2.498506</td>\n",
       "      <td>NaN</td>\n",
       "      <td>-10.389182</td>\n",
       "      <td>-0.608007</td>\n",
       "      <td>-14.485707</td>\n",
       "      <td>NaN</td>\n",
       "      <td>-8.346789</td>\n",
       "      <td>0.137345</td>\n",
       "      <td>...</td>\n",
       "      <td>NaN</td>\n",
       "      <td>NaN</td>\n",
       "      <td>NaN</td>\n",
       "      <td>NaN</td>\n",
       "      <td>NaN</td>\n",
       "      <td>NaN</td>\n",
       "      <td>NaN</td>\n",
       "      <td>NaN</td>\n",
       "      <td>NaN</td>\n",
       "      <td>NaN</td>\n",
       "    </tr>\n",
       "    <tr>\n",
       "      <th>033db366-1af1-4bd9-8339-c54800b1de57</th>\n",
       "      <td>-3.038407</td>\n",
       "      <td>-9.055833</td>\n",
       "      <td>NaN</td>\n",
       "      <td>NaN</td>\n",
       "      <td>-10.389182</td>\n",
       "      <td>-0.608007</td>\n",
       "      <td>-14.485707</td>\n",
       "      <td>-10.208243</td>\n",
       "      <td>-8.346789</td>\n",
       "      <td>0.137345</td>\n",
       "      <td>...</td>\n",
       "      <td>NaN</td>\n",
       "      <td>NaN</td>\n",
       "      <td>NaN</td>\n",
       "      <td>NaN</td>\n",
       "      <td>NaN</td>\n",
       "      <td>NaN</td>\n",
       "      <td>NaN</td>\n",
       "      <td>NaN</td>\n",
       "      <td>NaN</td>\n",
       "      <td>NaN</td>\n",
       "    </tr>\n",
       "    <tr>\n",
       "      <th>03777cdf-6779-4d23-93af-5b74fb982d7b</th>\n",
       "      <td>-3.038407</td>\n",
       "      <td>-9.055833</td>\n",
       "      <td>2.498506</td>\n",
       "      <td>NaN</td>\n",
       "      <td>-10.389182</td>\n",
       "      <td>-0.608007</td>\n",
       "      <td>-14.485707</td>\n",
       "      <td>-10.208243</td>\n",
       "      <td>-8.346789</td>\n",
       "      <td>0.137345</td>\n",
       "      <td>...</td>\n",
       "      <td>NaN</td>\n",
       "      <td>NaN</td>\n",
       "      <td>NaN</td>\n",
       "      <td>NaN</td>\n",
       "      <td>NaN</td>\n",
       "      <td>NaN</td>\n",
       "      <td>NaN</td>\n",
       "      <td>NaN</td>\n",
       "      <td>NaN</td>\n",
       "      <td>NaN</td>\n",
       "    </tr>\n",
       "    <tr>\n",
       "      <th>038750e2-9994-4420-bfa9-a3756683ddd1</th>\n",
       "      <td>-3.038407</td>\n",
       "      <td>-9.055833</td>\n",
       "      <td>2.498506</td>\n",
       "      <td>1.12977</td>\n",
       "      <td>-10.389182</td>\n",
       "      <td>-0.608007</td>\n",
       "      <td>-14.485707</td>\n",
       "      <td>-10.208243</td>\n",
       "      <td>-8.346789</td>\n",
       "      <td>0.137345</td>\n",
       "      <td>...</td>\n",
       "      <td>NaN</td>\n",
       "      <td>NaN</td>\n",
       "      <td>NaN</td>\n",
       "      <td>NaN</td>\n",
       "      <td>NaN</td>\n",
       "      <td>NaN</td>\n",
       "      <td>NaN</td>\n",
       "      <td>NaN</td>\n",
       "      <td>NaN</td>\n",
       "      <td>NaN</td>\n",
       "    </tr>\n",
       "    <tr>\n",
       "      <th>03ba06a3-5dc6-4dad-84ed-7fe3196d7402</th>\n",
       "      <td>-3.038407</td>\n",
       "      <td>NaN</td>\n",
       "      <td>2.498506</td>\n",
       "      <td>NaN</td>\n",
       "      <td>-10.389182</td>\n",
       "      <td>-0.608007</td>\n",
       "      <td>-14.485707</td>\n",
       "      <td>-10.208243</td>\n",
       "      <td>-8.346789</td>\n",
       "      <td>0.137345</td>\n",
       "      <td>...</td>\n",
       "      <td>NaN</td>\n",
       "      <td>NaN</td>\n",
       "      <td>NaN</td>\n",
       "      <td>NaN</td>\n",
       "      <td>NaN</td>\n",
       "      <td>NaN</td>\n",
       "      <td>NaN</td>\n",
       "      <td>NaN</td>\n",
       "      <td>NaN</td>\n",
       "      <td>NaN</td>\n",
       "    </tr>\n",
       "    <tr>\n",
       "      <th>...</th>\n",
       "      <td>...</td>\n",
       "      <td>...</td>\n",
       "      <td>...</td>\n",
       "      <td>...</td>\n",
       "      <td>...</td>\n",
       "      <td>...</td>\n",
       "      <td>...</td>\n",
       "      <td>...</td>\n",
       "      <td>...</td>\n",
       "      <td>...</td>\n",
       "      <td>...</td>\n",
       "      <td>...</td>\n",
       "      <td>...</td>\n",
       "      <td>...</td>\n",
       "      <td>...</td>\n",
       "      <td>...</td>\n",
       "      <td>...</td>\n",
       "      <td>...</td>\n",
       "      <td>...</td>\n",
       "      <td>...</td>\n",
       "      <td>...</td>\n",
       "    </tr>\n",
       "    <tr>\n",
       "      <th>f8b8e0df-4234-4839-b0ee-34a2c9ef4985</th>\n",
       "      <td>NaN</td>\n",
       "      <td>NaN</td>\n",
       "      <td>2.498506</td>\n",
       "      <td>NaN</td>\n",
       "      <td>-10.389182</td>\n",
       "      <td>-0.608007</td>\n",
       "      <td>-14.485707</td>\n",
       "      <td>NaN</td>\n",
       "      <td>-8.346789</td>\n",
       "      <td>0.137345</td>\n",
       "      <td>...</td>\n",
       "      <td>NaN</td>\n",
       "      <td>NaN</td>\n",
       "      <td>NaN</td>\n",
       "      <td>NaN</td>\n",
       "      <td>NaN</td>\n",
       "      <td>NaN</td>\n",
       "      <td>NaN</td>\n",
       "      <td>NaN</td>\n",
       "      <td>NaN</td>\n",
       "      <td>NaN</td>\n",
       "    </tr>\n",
       "    <tr>\n",
       "      <th>f90f1702-d5f1-43f4-b167-2c440f941bf6</th>\n",
       "      <td>-3.038407</td>\n",
       "      <td>-9.055833</td>\n",
       "      <td>2.498506</td>\n",
       "      <td>NaN</td>\n",
       "      <td>-10.389182</td>\n",
       "      <td>-0.608007</td>\n",
       "      <td>-14.485707</td>\n",
       "      <td>-10.208243</td>\n",
       "      <td>-8.346789</td>\n",
       "      <td>0.137345</td>\n",
       "      <td>...</td>\n",
       "      <td>NaN</td>\n",
       "      <td>NaN</td>\n",
       "      <td>NaN</td>\n",
       "      <td>NaN</td>\n",
       "      <td>NaN</td>\n",
       "      <td>NaN</td>\n",
       "      <td>NaN</td>\n",
       "      <td>NaN</td>\n",
       "      <td>NaN</td>\n",
       "      <td>NaN</td>\n",
       "    </tr>\n",
       "    <tr>\n",
       "      <th>f9554b80-de24-4930-b651-7b2ae3b4ba8c</th>\n",
       "      <td>-3.038407</td>\n",
       "      <td>NaN</td>\n",
       "      <td>2.498506</td>\n",
       "      <td>1.12977</td>\n",
       "      <td>-10.389182</td>\n",
       "      <td>-0.608007</td>\n",
       "      <td>-14.485707</td>\n",
       "      <td>-10.208243</td>\n",
       "      <td>-8.346789</td>\n",
       "      <td>0.137345</td>\n",
       "      <td>...</td>\n",
       "      <td>NaN</td>\n",
       "      <td>NaN</td>\n",
       "      <td>NaN</td>\n",
       "      <td>NaN</td>\n",
       "      <td>NaN</td>\n",
       "      <td>NaN</td>\n",
       "      <td>NaN</td>\n",
       "      <td>NaN</td>\n",
       "      <td>NaN</td>\n",
       "      <td>NaN</td>\n",
       "    </tr>\n",
       "    <tr>\n",
       "      <th>fd27f3fc-6f0b-4794-8555-3111ad520493</th>\n",
       "      <td>NaN</td>\n",
       "      <td>-9.055833</td>\n",
       "      <td>2.498506</td>\n",
       "      <td>NaN</td>\n",
       "      <td>-10.389182</td>\n",
       "      <td>-0.608007</td>\n",
       "      <td>-14.485707</td>\n",
       "      <td>NaN</td>\n",
       "      <td>-8.346789</td>\n",
       "      <td>NaN</td>\n",
       "      <td>...</td>\n",
       "      <td>NaN</td>\n",
       "      <td>NaN</td>\n",
       "      <td>NaN</td>\n",
       "      <td>NaN</td>\n",
       "      <td>NaN</td>\n",
       "      <td>NaN</td>\n",
       "      <td>NaN</td>\n",
       "      <td>NaN</td>\n",
       "      <td>NaN</td>\n",
       "      <td>NaN</td>\n",
       "    </tr>\n",
       "    <tr>\n",
       "      <th>fdfbb80c-8e66-499a-ac59-f311d6f4b6fa</th>\n",
       "      <td>-3.038407</td>\n",
       "      <td>-9.055833</td>\n",
       "      <td>2.498506</td>\n",
       "      <td>NaN</td>\n",
       "      <td>-10.389182</td>\n",
       "      <td>-0.608007</td>\n",
       "      <td>-14.485707</td>\n",
       "      <td>-10.208243</td>\n",
       "      <td>-8.346789</td>\n",
       "      <td>0.137345</td>\n",
       "      <td>...</td>\n",
       "      <td>NaN</td>\n",
       "      <td>NaN</td>\n",
       "      <td>NaN</td>\n",
       "      <td>NaN</td>\n",
       "      <td>NaN</td>\n",
       "      <td>NaN</td>\n",
       "      <td>NaN</td>\n",
       "      <td>NaN</td>\n",
       "      <td>NaN</td>\n",
       "      <td>NaN</td>\n",
       "    </tr>\n",
       "  </tbody>\n",
       "</table>\n",
       "<p>216 rows × 2937 columns</p>\n",
       "</div>"
      ],
      "text/plain": [
       "                                      chr1_1387737_1387816_1387762_1387765_CCT_C  \\\n",
       "Patient_Core_ID                                                                    \n",
       "02eb77ff-2e07-4d56-9c32-d9fa415c7ce2                                         NaN   \n",
       "033db366-1af1-4bd9-8339-c54800b1de57                                   -3.038407   \n",
       "03777cdf-6779-4d23-93af-5b74fb982d7b                                   -3.038407   \n",
       "038750e2-9994-4420-bfa9-a3756683ddd1                                   -3.038407   \n",
       "03ba06a3-5dc6-4dad-84ed-7fe3196d7402                                   -3.038407   \n",
       "...                                                                          ...   \n",
       "f8b8e0df-4234-4839-b0ee-34a2c9ef4985                                         NaN   \n",
       "f90f1702-d5f1-43f4-b167-2c440f941bf6                                   -3.038407   \n",
       "f9554b80-de24-4930-b651-7b2ae3b4ba8c                                   -3.038407   \n",
       "fd27f3fc-6f0b-4794-8555-3111ad520493                                         NaN   \n",
       "fdfbb80c-8e66-499a-ac59-f311d6f4b6fa                                   -3.038407   \n",
       "\n",
       "                                      chr1_3836455_3836534_3836467_3836468_G_GT  \\\n",
       "Patient_Core_ID                                                                   \n",
       "02eb77ff-2e07-4d56-9c32-d9fa415c7ce2                                  -9.055833   \n",
       "033db366-1af1-4bd9-8339-c54800b1de57                                  -9.055833   \n",
       "03777cdf-6779-4d23-93af-5b74fb982d7b                                  -9.055833   \n",
       "038750e2-9994-4420-bfa9-a3756683ddd1                                  -9.055833   \n",
       "03ba06a3-5dc6-4dad-84ed-7fe3196d7402                                        NaN   \n",
       "...                                                                         ...   \n",
       "f8b8e0df-4234-4839-b0ee-34a2c9ef4985                                        NaN   \n",
       "f90f1702-d5f1-43f4-b167-2c440f941bf6                                  -9.055833   \n",
       "f9554b80-de24-4930-b651-7b2ae3b4ba8c                                        NaN   \n",
       "fd27f3fc-6f0b-4794-8555-3111ad520493                                  -9.055833   \n",
       "fdfbb80c-8e66-499a-ac59-f311d6f4b6fa                                  -9.055833   \n",
       "\n",
       "                                      chr1_15524029_15524108_15524057_15524058_C_CGGGGGCG  \\\n",
       "Patient_Core_ID                                                                             \n",
       "02eb77ff-2e07-4d56-9c32-d9fa415c7ce2                                           2.498506     \n",
       "033db366-1af1-4bd9-8339-c54800b1de57                                                NaN     \n",
       "03777cdf-6779-4d23-93af-5b74fb982d7b                                           2.498506     \n",
       "038750e2-9994-4420-bfa9-a3756683ddd1                                           2.498506     \n",
       "03ba06a3-5dc6-4dad-84ed-7fe3196d7402                                           2.498506     \n",
       "...                                                                                 ...     \n",
       "f8b8e0df-4234-4839-b0ee-34a2c9ef4985                                           2.498506     \n",
       "f90f1702-d5f1-43f4-b167-2c440f941bf6                                           2.498506     \n",
       "f9554b80-de24-4930-b651-7b2ae3b4ba8c                                           2.498506     \n",
       "fd27f3fc-6f0b-4794-8555-3111ad520493                                           2.498506     \n",
       "fdfbb80c-8e66-499a-ac59-f311d6f4b6fa                                           2.498506     \n",
       "\n",
       "                                      chr1_16052373_16052452_16052445_16052450_GTCAC_TCAT  \\\n",
       "Patient_Core_ID                                                                             \n",
       "02eb77ff-2e07-4d56-9c32-d9fa415c7ce2                                                NaN     \n",
       "033db366-1af1-4bd9-8339-c54800b1de57                                                NaN     \n",
       "03777cdf-6779-4d23-93af-5b74fb982d7b                                                NaN     \n",
       "038750e2-9994-4420-bfa9-a3756683ddd1                                            1.12977     \n",
       "03ba06a3-5dc6-4dad-84ed-7fe3196d7402                                                NaN     \n",
       "...                                                                                 ...     \n",
       "f8b8e0df-4234-4839-b0ee-34a2c9ef4985                                                NaN     \n",
       "f90f1702-d5f1-43f4-b167-2c440f941bf6                                                NaN     \n",
       "f9554b80-de24-4930-b651-7b2ae3b4ba8c                                            1.12977     \n",
       "fd27f3fc-6f0b-4794-8555-3111ad520493                                                NaN     \n",
       "fdfbb80c-8e66-499a-ac59-f311d6f4b6fa                                                NaN     \n",
       "\n",
       "                                      chr1_35079404_35079483_35079420_35079421_G_GGC  \\\n",
       "Patient_Core_ID                                                                        \n",
       "02eb77ff-2e07-4d56-9c32-d9fa415c7ce2                                      -10.389182   \n",
       "033db366-1af1-4bd9-8339-c54800b1de57                                      -10.389182   \n",
       "03777cdf-6779-4d23-93af-5b74fb982d7b                                      -10.389182   \n",
       "038750e2-9994-4420-bfa9-a3756683ddd1                                      -10.389182   \n",
       "03ba06a3-5dc6-4dad-84ed-7fe3196d7402                                      -10.389182   \n",
       "...                                                                              ...   \n",
       "f8b8e0df-4234-4839-b0ee-34a2c9ef4985                                      -10.389182   \n",
       "f90f1702-d5f1-43f4-b167-2c440f941bf6                                      -10.389182   \n",
       "f9554b80-de24-4930-b651-7b2ae3b4ba8c                                      -10.389182   \n",
       "fd27f3fc-6f0b-4794-8555-3111ad520493                                      -10.389182   \n",
       "fdfbb80c-8e66-499a-ac59-f311d6f4b6fa                                      -10.389182   \n",
       "\n",
       "                                      chr1_55056151_55056230_55056225_55056233_GGGGCGGA_G  \\\n",
       "Patient_Core_ID                                                                             \n",
       "02eb77ff-2e07-4d56-9c32-d9fa415c7ce2                                          -0.608007     \n",
       "033db366-1af1-4bd9-8339-c54800b1de57                                          -0.608007     \n",
       "03777cdf-6779-4d23-93af-5b74fb982d7b                                          -0.608007     \n",
       "038750e2-9994-4420-bfa9-a3756683ddd1                                          -0.608007     \n",
       "03ba06a3-5dc6-4dad-84ed-7fe3196d7402                                          -0.608007     \n",
       "...                                                                                 ...     \n",
       "f8b8e0df-4234-4839-b0ee-34a2c9ef4985                                          -0.608007     \n",
       "f90f1702-d5f1-43f4-b167-2c440f941bf6                                          -0.608007     \n",
       "f9554b80-de24-4930-b651-7b2ae3b4ba8c                                          -0.608007     \n",
       "fd27f3fc-6f0b-4794-8555-3111ad520493                                          -0.608007     \n",
       "fdfbb80c-8e66-499a-ac59-f311d6f4b6fa                                          -0.608007     \n",
       "\n",
       "                                      chr1_59762631_59762710_59762637_59762638_T_TTC  \\\n",
       "Patient_Core_ID                                                                        \n",
       "02eb77ff-2e07-4d56-9c32-d9fa415c7ce2                                      -14.485707   \n",
       "033db366-1af1-4bd9-8339-c54800b1de57                                      -14.485707   \n",
       "03777cdf-6779-4d23-93af-5b74fb982d7b                                      -14.485707   \n",
       "038750e2-9994-4420-bfa9-a3756683ddd1                                      -14.485707   \n",
       "03ba06a3-5dc6-4dad-84ed-7fe3196d7402                                      -14.485707   \n",
       "...                                                                              ...   \n",
       "f8b8e0df-4234-4839-b0ee-34a2c9ef4985                                      -14.485707   \n",
       "f90f1702-d5f1-43f4-b167-2c440f941bf6                                      -14.485707   \n",
       "f9554b80-de24-4930-b651-7b2ae3b4ba8c                                      -14.485707   \n",
       "fd27f3fc-6f0b-4794-8555-3111ad520493                                      -14.485707   \n",
       "fdfbb80c-8e66-499a-ac59-f311d6f4b6fa                                      -14.485707   \n",
       "\n",
       "                                      chr1_63014040_63014119_63014041_63014042_G_GCTA  \\\n",
       "Patient_Core_ID                                                                         \n",
       "02eb77ff-2e07-4d56-9c32-d9fa415c7ce2                                              NaN   \n",
       "033db366-1af1-4bd9-8339-c54800b1de57                                       -10.208243   \n",
       "03777cdf-6779-4d23-93af-5b74fb982d7b                                       -10.208243   \n",
       "038750e2-9994-4420-bfa9-a3756683ddd1                                       -10.208243   \n",
       "03ba06a3-5dc6-4dad-84ed-7fe3196d7402                                       -10.208243   \n",
       "...                                                                               ...   \n",
       "f8b8e0df-4234-4839-b0ee-34a2c9ef4985                                              NaN   \n",
       "f90f1702-d5f1-43f4-b167-2c440f941bf6                                       -10.208243   \n",
       "f9554b80-de24-4930-b651-7b2ae3b4ba8c                                       -10.208243   \n",
       "fd27f3fc-6f0b-4794-8555-3111ad520493                                              NaN   \n",
       "fdfbb80c-8e66-499a-ac59-f311d6f4b6fa                                       -10.208243   \n",
       "\n",
       "                                      chr1_93846925_93847004_93846925_93846926_T_TC  \\\n",
       "Patient_Core_ID                                                                       \n",
       "02eb77ff-2e07-4d56-9c32-d9fa415c7ce2                                      -8.346789   \n",
       "033db366-1af1-4bd9-8339-c54800b1de57                                      -8.346789   \n",
       "03777cdf-6779-4d23-93af-5b74fb982d7b                                      -8.346789   \n",
       "038750e2-9994-4420-bfa9-a3756683ddd1                                      -8.346789   \n",
       "03ba06a3-5dc6-4dad-84ed-7fe3196d7402                                      -8.346789   \n",
       "...                                                                             ...   \n",
       "f8b8e0df-4234-4839-b0ee-34a2c9ef4985                                      -8.346789   \n",
       "f90f1702-d5f1-43f4-b167-2c440f941bf6                                      -8.346789   \n",
       "f9554b80-de24-4930-b651-7b2ae3b4ba8c                                      -8.346789   \n",
       "fd27f3fc-6f0b-4794-8555-3111ad520493                                      -8.346789   \n",
       "fdfbb80c-8e66-499a-ac59-f311d6f4b6fa                                      -8.346789   \n",
       "\n",
       "                                      chr1_100729344_100729423_100729408_100729409_G_GT  \\\n",
       "Patient_Core_ID                                                                           \n",
       "02eb77ff-2e07-4d56-9c32-d9fa415c7ce2                                           0.137345   \n",
       "033db366-1af1-4bd9-8339-c54800b1de57                                           0.137345   \n",
       "03777cdf-6779-4d23-93af-5b74fb982d7b                                           0.137345   \n",
       "038750e2-9994-4420-bfa9-a3756683ddd1                                           0.137345   \n",
       "03ba06a3-5dc6-4dad-84ed-7fe3196d7402                                           0.137345   \n",
       "...                                                                                 ...   \n",
       "f8b8e0df-4234-4839-b0ee-34a2c9ef4985                                           0.137345   \n",
       "f90f1702-d5f1-43f4-b167-2c440f941bf6                                           0.137345   \n",
       "f9554b80-de24-4930-b651-7b2ae3b4ba8c                                           0.137345   \n",
       "fd27f3fc-6f0b-4794-8555-3111ad520493                                                NaN   \n",
       "fdfbb80c-8e66-499a-ac59-f311d6f4b6fa                                           0.137345   \n",
       "\n",
       "                                      ...  \\\n",
       "Patient_Core_ID                       ...   \n",
       "02eb77ff-2e07-4d56-9c32-d9fa415c7ce2  ...   \n",
       "033db366-1af1-4bd9-8339-c54800b1de57  ...   \n",
       "03777cdf-6779-4d23-93af-5b74fb982d7b  ...   \n",
       "038750e2-9994-4420-bfa9-a3756683ddd1  ...   \n",
       "03ba06a3-5dc6-4dad-84ed-7fe3196d7402  ...   \n",
       "...                                   ...   \n",
       "f8b8e0df-4234-4839-b0ee-34a2c9ef4985  ...   \n",
       "f90f1702-d5f1-43f4-b167-2c440f941bf6  ...   \n",
       "f9554b80-de24-4930-b651-7b2ae3b4ba8c  ...   \n",
       "fd27f3fc-6f0b-4794-8555-3111ad520493  ...   \n",
       "fdfbb80c-8e66-499a-ac59-f311d6f4b6fa  ...   \n",
       "\n",
       "                                      chr11_104606983_104607062_104607015_104607021_GCCTAA_G  \\\n",
       "Patient_Core_ID                                                                                \n",
       "02eb77ff-2e07-4d56-9c32-d9fa415c7ce2                                                NaN        \n",
       "033db366-1af1-4bd9-8339-c54800b1de57                                                NaN        \n",
       "03777cdf-6779-4d23-93af-5b74fb982d7b                                                NaN        \n",
       "038750e2-9994-4420-bfa9-a3756683ddd1                                                NaN        \n",
       "03ba06a3-5dc6-4dad-84ed-7fe3196d7402                                                NaN        \n",
       "...                                                                                 ...        \n",
       "f8b8e0df-4234-4839-b0ee-34a2c9ef4985                                                NaN        \n",
       "f90f1702-d5f1-43f4-b167-2c440f941bf6                                                NaN        \n",
       "f9554b80-de24-4930-b651-7b2ae3b4ba8c                                                NaN        \n",
       "fd27f3fc-6f0b-4794-8555-3111ad520493                                                NaN        \n",
       "fdfbb80c-8e66-499a-ac59-f311d6f4b6fa                                                NaN        \n",
       "\n",
       "                                      chr19_32040532_32040611_32040534_32040535_A_AC  \\\n",
       "Patient_Core_ID                                                                        \n",
       "02eb77ff-2e07-4d56-9c32-d9fa415c7ce2                                             NaN   \n",
       "033db366-1af1-4bd9-8339-c54800b1de57                                             NaN   \n",
       "03777cdf-6779-4d23-93af-5b74fb982d7b                                             NaN   \n",
       "038750e2-9994-4420-bfa9-a3756683ddd1                                             NaN   \n",
       "03ba06a3-5dc6-4dad-84ed-7fe3196d7402                                             NaN   \n",
       "...                                                                              ...   \n",
       "f8b8e0df-4234-4839-b0ee-34a2c9ef4985                                             NaN   \n",
       "f90f1702-d5f1-43f4-b167-2c440f941bf6                                             NaN   \n",
       "f9554b80-de24-4930-b651-7b2ae3b4ba8c                                             NaN   \n",
       "fd27f3fc-6f0b-4794-8555-3111ad520493                                             NaN   \n",
       "fdfbb80c-8e66-499a-ac59-f311d6f4b6fa                                             NaN   \n",
       "\n",
       "                                      chr22_20983084_20983163_20983088_20983093_GGTGA_G  \\\n",
       "Patient_Core_ID                                                                           \n",
       "02eb77ff-2e07-4d56-9c32-d9fa415c7ce2                                                NaN   \n",
       "033db366-1af1-4bd9-8339-c54800b1de57                                                NaN   \n",
       "03777cdf-6779-4d23-93af-5b74fb982d7b                                                NaN   \n",
       "038750e2-9994-4420-bfa9-a3756683ddd1                                                NaN   \n",
       "03ba06a3-5dc6-4dad-84ed-7fe3196d7402                                                NaN   \n",
       "...                                                                                 ...   \n",
       "f8b8e0df-4234-4839-b0ee-34a2c9ef4985                                                NaN   \n",
       "f90f1702-d5f1-43f4-b167-2c440f941bf6                                                NaN   \n",
       "f9554b80-de24-4930-b651-7b2ae3b4ba8c                                                NaN   \n",
       "fd27f3fc-6f0b-4794-8555-3111ad520493                                                NaN   \n",
       "fdfbb80c-8e66-499a-ac59-f311d6f4b6fa                                                NaN   \n",
       "\n",
       "                                      chr22_23583769_23583848_23583797_23583803_GCTCCT_G  \\\n",
       "Patient_Core_ID                                                                            \n",
       "02eb77ff-2e07-4d56-9c32-d9fa415c7ce2                                                NaN    \n",
       "033db366-1af1-4bd9-8339-c54800b1de57                                                NaN    \n",
       "03777cdf-6779-4d23-93af-5b74fb982d7b                                                NaN    \n",
       "038750e2-9994-4420-bfa9-a3756683ddd1                                                NaN    \n",
       "03ba06a3-5dc6-4dad-84ed-7fe3196d7402                                                NaN    \n",
       "...                                                                                 ...    \n",
       "f8b8e0df-4234-4839-b0ee-34a2c9ef4985                                                NaN    \n",
       "f90f1702-d5f1-43f4-b167-2c440f941bf6                                                NaN    \n",
       "f9554b80-de24-4930-b651-7b2ae3b4ba8c                                                NaN    \n",
       "fd27f3fc-6f0b-4794-8555-3111ad520493                                                NaN    \n",
       "fdfbb80c-8e66-499a-ac59-f311d6f4b6fa                                                NaN    \n",
       "\n",
       "                                      chrX_120143862_120143941_120143876_120143877_G_GA  \\\n",
       "Patient_Core_ID                                                                           \n",
       "02eb77ff-2e07-4d56-9c32-d9fa415c7ce2                                                NaN   \n",
       "033db366-1af1-4bd9-8339-c54800b1de57                                                NaN   \n",
       "03777cdf-6779-4d23-93af-5b74fb982d7b                                                NaN   \n",
       "038750e2-9994-4420-bfa9-a3756683ddd1                                                NaN   \n",
       "03ba06a3-5dc6-4dad-84ed-7fe3196d7402                                                NaN   \n",
       "...                                                                                 ...   \n",
       "f8b8e0df-4234-4839-b0ee-34a2c9ef4985                                                NaN   \n",
       "f90f1702-d5f1-43f4-b167-2c440f941bf6                                                NaN   \n",
       "f9554b80-de24-4930-b651-7b2ae3b4ba8c                                                NaN   \n",
       "fd27f3fc-6f0b-4794-8555-3111ad520493                                                NaN   \n",
       "fdfbb80c-8e66-499a-ac59-f311d6f4b6fa                                                NaN   \n",
       "\n",
       "                                      chr11_64653656_64653735_64653695_64653696_T_G  \\\n",
       "Patient_Core_ID                                                                       \n",
       "02eb77ff-2e07-4d56-9c32-d9fa415c7ce2                                            NaN   \n",
       "033db366-1af1-4bd9-8339-c54800b1de57                                            NaN   \n",
       "03777cdf-6779-4d23-93af-5b74fb982d7b                                            NaN   \n",
       "038750e2-9994-4420-bfa9-a3756683ddd1                                            NaN   \n",
       "03ba06a3-5dc6-4dad-84ed-7fe3196d7402                                            NaN   \n",
       "...                                                                             ...   \n",
       "f8b8e0df-4234-4839-b0ee-34a2c9ef4985                                            NaN   \n",
       "f90f1702-d5f1-43f4-b167-2c440f941bf6                                            NaN   \n",
       "f9554b80-de24-4930-b651-7b2ae3b4ba8c                                            NaN   \n",
       "fd27f3fc-6f0b-4794-8555-3111ad520493                                            NaN   \n",
       "fdfbb80c-8e66-499a-ac59-f311d6f4b6fa                                            NaN   \n",
       "\n",
       "                                      chr16_55733472_55733551_55733540_55733541_A_T  \\\n",
       "Patient_Core_ID                                                                       \n",
       "02eb77ff-2e07-4d56-9c32-d9fa415c7ce2                                            NaN   \n",
       "033db366-1af1-4bd9-8339-c54800b1de57                                            NaN   \n",
       "03777cdf-6779-4d23-93af-5b74fb982d7b                                            NaN   \n",
       "038750e2-9994-4420-bfa9-a3756683ddd1                                            NaN   \n",
       "03ba06a3-5dc6-4dad-84ed-7fe3196d7402                                            NaN   \n",
       "...                                                                             ...   \n",
       "f8b8e0df-4234-4839-b0ee-34a2c9ef4985                                            NaN   \n",
       "f90f1702-d5f1-43f4-b167-2c440f941bf6                                            NaN   \n",
       "f9554b80-de24-4930-b651-7b2ae3b4ba8c                                            NaN   \n",
       "fd27f3fc-6f0b-4794-8555-3111ad520493                                            NaN   \n",
       "fdfbb80c-8e66-499a-ac59-f311d6f4b6fa                                            NaN   \n",
       "\n",
       "                                      chr18_46483547_46483626_46483557_46483558_A_G  \\\n",
       "Patient_Core_ID                                                                       \n",
       "02eb77ff-2e07-4d56-9c32-d9fa415c7ce2                                            NaN   \n",
       "033db366-1af1-4bd9-8339-c54800b1de57                                            NaN   \n",
       "03777cdf-6779-4d23-93af-5b74fb982d7b                                            NaN   \n",
       "038750e2-9994-4420-bfa9-a3756683ddd1                                            NaN   \n",
       "03ba06a3-5dc6-4dad-84ed-7fe3196d7402                                            NaN   \n",
       "...                                                                             ...   \n",
       "f8b8e0df-4234-4839-b0ee-34a2c9ef4985                                            NaN   \n",
       "f90f1702-d5f1-43f4-b167-2c440f941bf6                                            NaN   \n",
       "f9554b80-de24-4930-b651-7b2ae3b4ba8c                                            NaN   \n",
       "fd27f3fc-6f0b-4794-8555-3111ad520493                                            NaN   \n",
       "fdfbb80c-8e66-499a-ac59-f311d6f4b6fa                                            NaN   \n",
       "\n",
       "                                      chr3_49422321_49422400_49422337_49422338_A_C  \\\n",
       "Patient_Core_ID                                                                      \n",
       "02eb77ff-2e07-4d56-9c32-d9fa415c7ce2                                           NaN   \n",
       "033db366-1af1-4bd9-8339-c54800b1de57                                           NaN   \n",
       "03777cdf-6779-4d23-93af-5b74fb982d7b                                           NaN   \n",
       "038750e2-9994-4420-bfa9-a3756683ddd1                                           NaN   \n",
       "03ba06a3-5dc6-4dad-84ed-7fe3196d7402                                           NaN   \n",
       "...                                                                            ...   \n",
       "f8b8e0df-4234-4839-b0ee-34a2c9ef4985                                           NaN   \n",
       "f90f1702-d5f1-43f4-b167-2c440f941bf6                                           NaN   \n",
       "f9554b80-de24-4930-b651-7b2ae3b4ba8c                                           NaN   \n",
       "fd27f3fc-6f0b-4794-8555-3111ad520493                                           NaN   \n",
       "fdfbb80c-8e66-499a-ac59-f311d6f4b6fa                                           NaN   \n",
       "\n",
       "                                      chr4_70681561_70681640_70681600_70681601_T_C  \n",
       "Patient_Core_ID                                                                     \n",
       "02eb77ff-2e07-4d56-9c32-d9fa415c7ce2                                           NaN  \n",
       "033db366-1af1-4bd9-8339-c54800b1de57                                           NaN  \n",
       "03777cdf-6779-4d23-93af-5b74fb982d7b                                           NaN  \n",
       "038750e2-9994-4420-bfa9-a3756683ddd1                                           NaN  \n",
       "03ba06a3-5dc6-4dad-84ed-7fe3196d7402                                           NaN  \n",
       "...                                                                            ...  \n",
       "f8b8e0df-4234-4839-b0ee-34a2c9ef4985                                           NaN  \n",
       "f90f1702-d5f1-43f4-b167-2c440f941bf6                                           NaN  \n",
       "f9554b80-de24-4930-b651-7b2ae3b4ba8c                                           NaN  \n",
       "fd27f3fc-6f0b-4794-8555-3111ad520493                                           NaN  \n",
       "fdfbb80c-8e66-499a-ac59-f311d6f4b6fa                                           NaN  \n",
       "\n",
       "[216 rows x 2937 columns]"
      ]
     },
     "execution_count": 10,
     "metadata": {},
     "output_type": "execute_result"
    }
   ],
   "source": [
    "df = pd.read_csv(file_path, sep='\\t')\n",
    "df = df.set_index('Patient_Core_ID', drop=True)\n",
    "df"
   ]
  },
  {
   "cell_type": "code",
   "execution_count": 11,
   "id": "3e08f895-1cfe-4abe-b105-fceca4765bb4",
   "metadata": {},
   "outputs": [
    {
     "data": {
      "application/vnd.plotly.v1+json": {
       "config": {
        "plotlyServerURL": "https://plot.ly"
       },
       "data": [
        {
         "fill": "tozeroy",
         "fillcolor": "rgba(30,144,255,0.5)",
         "legendgroup": "Column Means",
         "marker": {
          "color": "blue",
          "line": {
           "width": 0
          }
         },
         "mode": "lines",
         "name": "Column Means",
         "showlegend": true,
         "type": "scatter",
         "x": [
          -14.993973357396085,
          -14.93494225582628,
          -14.875911154256475,
          -14.81688005268667,
          -14.757848951116864,
          -14.69881784954706,
          -14.639786747977254,
          -14.58075564640745,
          -14.521724544837646,
          -14.46269344326784,
          -14.403662341698036,
          -14.34463124012823,
          -14.285600138558426,
          -14.226569036988622,
          -14.167537935418816,
          -14.108506833849011,
          -14.049475732279205,
          -13.990444630709401,
          -13.931413529139597,
          -13.872382427569791,
          -13.813351325999987,
          -13.754320224430181,
          -13.695289122860377,
          -13.63625802129057,
          -13.577226919720767,
          -13.51819581815096,
          -13.459164716581157,
          -13.400133615011352,
          -13.341102513441546,
          -13.282071411871742,
          -13.223040310301936,
          -13.164009208732132,
          -13.104978107162328,
          -13.045947005592522,
          -12.986915904022718,
          -12.927884802452912,
          -12.868853700883108,
          -12.809822599313302,
          -12.750791497743498,
          -12.691760396173692,
          -12.632729294603887,
          -12.573698193034083,
          -12.514667091464277,
          -12.455635989894473,
          -12.396604888324667,
          -12.337573786754863,
          -12.278542685185059,
          -12.219511583615253,
          -12.160480482045449,
          -12.101449380475643,
          -12.042418278905838,
          -11.983387177336034,
          -11.924356075766228,
          -11.865324974196424,
          -11.806293872626618,
          -11.747262771056814,
          -11.68823166948701,
          -11.629200567917204,
          -11.570169466347398,
          -11.511138364777594,
          -11.45210726320779,
          -11.393076161637985,
          -11.33404506006818,
          -11.275013958498374,
          -11.21598285692857,
          -11.156951755358765,
          -11.097920653788961,
          -11.038889552219155,
          -10.979858450649349,
          -10.920827349079545,
          -10.86179624750974,
          -10.802765145939935,
          -10.74373404437013,
          -10.684702942800325,
          -10.62567184123052,
          -10.566640739660716,
          -10.50760963809091,
          -10.448578536521106,
          -10.3895474349513,
          -10.330516333381496,
          -10.271485231811692,
          -10.212454130241886,
          -10.15342302867208,
          -10.094391927102276,
          -10.035360825532472,
          -9.976329723962667,
          -9.91729862239286,
          -9.858267520823055,
          -9.799236419253251,
          -9.740205317683447,
          -9.681174216113643,
          -9.622143114543835,
          -9.563112012974031,
          -9.504080911404227,
          -9.445049809834423,
          -9.386018708264617,
          -9.32698760669481,
          -9.267956505125007,
          -9.208925403555202,
          -9.149894301985396,
          -9.090863200415592,
          -9.031832098845786,
          -8.972800997275982,
          -8.913769895706178,
          -8.854738794136372,
          -8.795707692566568,
          -8.736676590996762,
          -8.677645489426958,
          -8.618614387857154,
          -8.559583286287348,
          -8.500552184717543,
          -8.441521083147737,
          -8.382489981577933,
          -8.323458880008129,
          -8.264427778438323,
          -8.205396676868519,
          -8.146365575298713,
          -8.087334473728909,
          -8.028303372159105,
          -7.969272270589299,
          -7.910241169019494,
          -7.8512100674496885,
          -7.792178965879884,
          -7.733147864310079,
          -7.674116762740273,
          -7.615085661170469,
          -7.556054559600664,
          -7.49702345803086,
          -7.437992356461054,
          -7.378961254891249,
          -7.319930153321445,
          -7.26089905175164,
          -7.2018679501818355,
          -7.1428368486120295,
          -7.083805747042224,
          -7.02477464547242,
          -6.965743543902615,
          -6.906712442332811,
          -6.847681340763005,
          -6.788650239193199,
          -6.729619137623395,
          -6.670588036053591,
          -6.611556934483785,
          -6.552525832913981,
          -6.493494731344176,
          -6.4344636297743705,
          -6.375432528204566,
          -6.31640142663476,
          -6.257370325064954,
          -6.19833922349515,
          -6.139308121925346,
          -6.080277020355542,
          -6.021245918785736,
          -5.962214817215932,
          -5.9031837156461275,
          -5.844152614076322,
          -5.785121512506516,
          -5.7260904109367115,
          -5.6670593093669055,
          -5.608028207797101,
          -5.548997106227297,
          -5.489966004657493,
          -5.430934903087687,
          -5.371903801517883,
          -5.312872699948077,
          -5.253841598378271,
          -5.194810496808467,
          -5.135779395238663,
          -5.076748293668857,
          -5.017717192099052,
          -4.958686090529248,
          -4.899654988959444,
          -4.840623887389636,
          -4.781592785819832,
          -4.722561684250028,
          -4.663530582680222,
          -4.604499481110418,
          -4.545468379540614,
          -4.486437277970808,
          -4.4274061764010035,
          -4.368375074831199,
          -4.309343973261393,
          -4.2503128716915874,
          -4.191281770121783,
          -4.132250668551979,
          -4.073219566982173,
          -4.014188465412369,
          -3.9551573638425648,
          -3.896126262272759,
          -3.837095160702953,
          -3.7780640591331487,
          -3.7190329575633445,
          -3.6600018559935386,
          -3.6009707544237344,
          -3.54193965285393,
          -3.4829085512841242,
          -3.42387744971432,
          -3.364846348144516,
          -3.305815246574708,
          -3.246784145004904,
          -3.1877530434351,
          -3.1287219418652956,
          -3.0696908402954897,
          -3.0106597387256855,
          -2.9516286371558813,
          -2.8925975355860754,
          -2.8335664340162694,
          -2.774535332446465,
          -2.7155042308766593,
          -2.656473129306855,
          -2.597442027737051,
          -2.5384109261672467,
          -2.4793798245974408,
          -2.4203487230276366,
          -2.3613176214578306,
          -2.3022865198880247,
          -2.2432554183182205,
          -2.1842243167484163,
          -2.1251932151786104,
          -2.066162113608806,
          -2.007131012039002,
          -1.9480999104691978,
          -1.8890688088993919,
          -1.830037707329586,
          -1.7710066057597817,
          -1.7119755041899758,
          -1.6529444026201716,
          -1.5939133010503674,
          -1.5348821994805615,
          -1.4758510979107573,
          -1.4168199963409531,
          -1.3577888947711472,
          -1.2987577932013412,
          -1.239726691631537,
          -1.1806955900617329,
          -1.121664488491927,
          -1.0626333869221227,
          -1.0036022853523185,
          -0.9445711837825126,
          -0.8855400822127084,
          -0.8265089806429025,
          -0.7674778790730983,
          -0.7084467775032923,
          -0.6494156759334881,
          -0.590384574363684,
          -0.531353472793878,
          -0.47232237122407383,
          -0.41329126965426966,
          -0.3542601680844619,
          -0.29522906651465775,
          -0.23619796494485357,
          -0.1771668633750494,
          -0.11813576180524343,
          -0.059104660235439255,
          -7.355866563507618e-05,
          0.05895754290417088,
          0.11798864447397683,
          0.177019746043781,
          0.23605084761358697,
          0.29508194918339115,
          0.3541130507531953,
          0.4131441523230013,
          0.47217525389280546,
          0.5312063554626096,
          0.5902374570324138,
          0.6492685586022215,
          0.7082996601720257,
          0.7673307617418299,
          0.8263618633116359,
          0.88539296488144,
          0.9444240664512442,
          1.0034551680210502,
          1.0624862695908543,
          1.1215173711606585,
          1.1805484727304627,
          1.2395795743002704,
          1.2986106758700746,
          1.3576417774398788,
          1.4166728790096865,
          1.4757039805794872,
          1.5347350821492949,
          1.593766183719099,
          1.6527972852889032,
          1.7118283868587074,
          1.7708594884285151,
          1.8298905899983158,
          1.8889216915681235,
          1.9479527931379312,
          2.006983894707732,
          2.0660149962775396,
          2.1250460978473438,
          2.184077199417148,
          2.243108300986952,
          2.30213940255676,
          2.361170504126564,
          2.420201605696368,
          2.479232707266176,
          2.5382638088359766,
          2.5972949104057843,
          2.656326011975585,
          2.7153571135453927,
          2.774388215115197,
          2.833419316685001,
          2.8924504182548088,
          2.951481519824613,
          3.010512621394417,
          3.0695437229642213,
          3.128574824534029,
          3.1876059261038296,
          3.2466370276736374,
          3.3056681292434416,
          3.3646992308132457,
          3.4237303323830535,
          3.4827614339528576,
          3.541792535522662,
          3.600823637092466,
          3.6598547386622737,
          3.7188858402320744,
          3.777916941801882,
          3.8369480433716863,
          3.8959791449414904,
          3.955010246511298,
          4.014041348081099,
          4.0730724496509065,
          4.132103551220711,
          4.191134652790515,
          4.250165754360319,
          4.309196855930127,
          4.368227957499931,
          4.427259059069735,
          4.486290160639543,
          4.5453212622093435,
          4.604352363779151,
          4.663383465348955,
          4.72241456691876,
          4.781445668488564,
          4.8404767700583715,
          4.899507871628176,
          4.95853897319798,
          5.017570074767784,
          5.076601176337588,
          5.135632277907396,
          5.194663379477197,
          5.253694481047004,
          5.312725582616812,
          5.371756684186613,
          5.43078778575642,
          5.489818887326225,
          5.548849988896029,
          5.607881090465833,
          5.666912192035641,
          5.725943293605441,
          5.784974395175249,
          5.844005496745057,
          5.903036598314857,
          5.962067699884665,
          6.021098801454469,
          6.0801299030242735,
          6.139161004594078,
          6.198192106163882,
          6.257223207733686,
          6.316254309303494,
          6.375285410873298,
          6.434316512443102,
          6.49334761401291,
          6.5523787155827105,
          6.611409817152518,
          6.670440918722322,
          6.7294720202921265,
          6.788503121861931,
          6.8475342234317385,
          6.906565325001543,
          6.965596426571347,
          7.0246275281411545,
          7.083658629710955,
          7.142689731280763,
          7.201720832850567,
          7.260751934420371,
          7.319783035990179,
          7.37881413755998,
          7.437845239129787,
          7.4968763406995915,
          7.555907442269396,
          7.6149385438392,
          7.673969645409008,
          7.733000746978808,
          7.792031848548616,
          7.851062950118424,
          7.910094051688224,
          7.969125153258032,
          8.028156254827836,
          8.08718735639764,
          8.146218457967445,
          8.205249559537252,
          8.264280661107053,
          8.32331176267686,
          8.382342864246668,
          8.441373965816469,
          8.500405067386277,
          8.559436168956081,
          8.618467270525885,
          8.67749837209569,
          8.736529473665493,
          8.795560575235301,
          8.854591676805105,
          8.91362277837491,
          8.972653879944714,
          9.031684981514521,
          9.090716083084322,
          9.14974718465413,
          9.208778286223934,
          9.267809387793738,
          9.326840489363546,
          9.38587159093335,
          9.444902692503154,
          9.503933794072958,
          9.562964895642766,
          9.621995997212567,
          9.681027098782375,
          9.740058200352179,
          9.799089301921983,
          9.85812040349179,
          9.917151505061591,
          9.976182606631399,
          10.035213708201203,
          10.094244809771007,
          10.153275911340812,
          10.21230701291062,
          10.271338114480423,
          10.330369216050228,
          10.389400317620035,
          10.448431419189836,
          10.507462520759644,
          10.566493622329448,
          10.625524723899252,
          10.684555825469056,
          10.743586927038864,
          10.802618028608668,
          10.861649130178472,
          10.92068023174828,
          10.97971133331808,
          11.038742434887888,
          11.097773536457689,
          11.156804638027497,
          11.215835739597301,
          11.274866841167105,
          11.333897942736913,
          11.392929044306717,
          11.451960145876521,
          11.510991247446325,
          11.570022349016133,
          11.629053450585934,
          11.688084552155741,
          11.74711565372555,
          11.80614675529535,
          11.865177856865158,
          11.924208958434962,
          11.983240060004766,
          12.04227116157457,
          12.101302263144378,
          12.160333364714178,
          12.219364466283986,
          12.27839556785379,
          12.337426669423595,
          12.396457770993402,
          12.455488872563203,
          12.51451997413301,
          12.573551075702815,
          12.632582177272619,
          12.691613278842423,
          12.750644380412231,
          12.809675481982035,
          12.86870658355184,
          12.927737685121647,
          12.986768786691448,
          13.045799888261255,
          13.10483098983106,
          13.163862091400864,
          13.222893192970668,
          13.281924294540476,
          13.34095539611028,
          13.399986497680084,
          13.459017599249888,
          13.518048700819692,
          13.5770798023895,
          13.6361109039593,
          13.695142005529108,
          13.754173107098916,
          13.813204208668717,
          13.872235310238525,
          13.931266411808329,
          13.990297513378133,
          14.049328614947937,
          14.108359716517745,
          14.167390818087545,
          14.226421919657353,
          14.28545302122716,
          14.344484122796962,
          14.40351522436677,
          14.462546325936573
         ],
         "xaxis": "x",
         "y": [
          0.0016693101543581517,
          0.0017795662751703225,
          0.0018935866819686105,
          0.0020112863216447873,
          0.0021325769068258607,
          0.0022573690235410376,
          0.0023855742331156497,
          0.0025171071123492174,
          0.002651887175023816,
          0.0027898406184330023,
          0.002930901841028779,
          0.003075014681514412,
          0.00322213333576834,
          0.003372222915812537,
          0.0035252596245156894,
          0.003681230530659602,
          0.0038401329411421915,
          0.004001973380124377,
          0.00416676619847919,
          0.004334531850544592,
          0.004505294888461817,
          0.004679081736815868,
          0.004855918321399493,
          0.005035827635224535,
          0.005218827331962186,
          0.0054049274414208525,
          0.005594128303145808,
          0.005786418812521918,
          0.00598177506875094,
          0.006180159505748509,
          0.0063815205754724205,
          0.006585793038689775,
          0.006792898901073106,
          0.007002749013256686,
          0.007215245332654735,
          0.007430283823097495,
          0.007647757946389025,
          0.007867562678476695,
          0.008089598962790807,
          0.00831377849518451,
          0.008540028719437117,
          0.008768297900059565,
          0.008998560130623029,
          0.009230820131360751,
          0.009465117689566066,
          0.009701531600366716,
          0.009940182973691036,
          0.010181237785399373,
          0.010424908566242206,
          0.010671455141020532,
          0.010921184351463355,
          0.011174448719234118,
          0.011431644029431733,
          0.011693205839247345,
          0.011959604940389373,
          0.01223134182684931,
          0.012508940240979944,
          0.012792939890211455,
          0.01308388844365369,
          0.013382332932051738,
          0.013688810685905498,
          0.014003839954971014,
          0.014327910357856273,
          0.014661473313122673,
          0.015004932603369664,
          0.015358635221442492,
          0.015722862643398925,
          0.016097822666466758,
          0.016483641942164264,
          0.016880359325286504,
          0.017287920148784688,
          0.01770617152287448,
          0.01813485874414607,
          0.018573622887145445,
          0.01902199963694202,
          0.01947941940668956,
          0.01994520876918965,
          0.020418593216066518,
          0.020898701242444168,
          0.021384569739082475,
          0.02187515065790849,
          0.022369318900912382,
          0.02286588136664132,
          0.02336358707319351,
          0.0238611382619003,
          0.024357202371972208,
          0.024850424763491644,
          0.025339442054422175,
          0.025822895926952152,
          0.026299447249618805,
          0.026767790354372503,
          0.02722666730210121,
          0.02767488196617371,
          0.028111313761278428,
          0.028534930844208477,
          0.02894480261424726,
          0.029340111343403582,
          0.02972016277091042,
          0.030084395502140523,
          0.03043238905943103,
          0.03076387044132497,
          0.031078719057530915,
          0.031376969919628565,
          0.03165881498237725,
          0.031924602547616775,
          0.03217483466236794,
          0.03241016246502422,
          0.03263137945858148,
          0.032839412717732344,
          0.03303531206728124,
          0.03322023730253886,
          0.03339544355776314,
          0.033562264965851046,
          0.03372209679063144,
          0.033876376251443616,
          0.034026562297169875,
          0.03417411462238785,
          0.03432047225055563,
          0.034467032036836945,
          0.034615127464983644,
          0.03476600812735691,
          0.03492082028352749,
          0.03508058888997044,
          0.035246201480417814,
          0.035418394253010424,
          0.03559774068638476,
          0.035784642962508176,
          0.035979326420102986,
          0.03618183719992538,
          0.03639204317343591,
          0.036609638171305955,
          0.03683414944983383,
          0.037064948254028965,
          0.03730126325833182,
          0.03754219659221686,
          0.03778674209077283,
          0.038033805352138475,
          0.038282225136518286,
          0.038530795607212426,
          0.03877828889405857,
          0.0390234774548047,
          0.039265155720610775,
          0.03950216053793232,
          0.039733389959763395,
          0.039957819993327405,
          0.040174518977076155,
          0.04038265933506497,
          0.040581526538895546,
          0.04077052519366124,
          0.040949182251723566,
          0.04111714744374337,
          0.04127419109727945,
          0.041420199586725194,
          0.04155516872202087,
          0.04167919543537717,
          0.041792468163671256,
          0.04189525634812964,
          0.041987899481933946,
          0.042070796130498,
          0.04214439332898554,
          0.04220917672824895,
          0.042265661815338085,
          0.04231438647997977,
          0.04235590513619672,
          0.04239078454094953,
          0.04241960138187314,
          0.042442941636387246,
          0.042461401637112976,
          0.04247559071590167,
          0.0424861352428376,
          0.04249368382902549,
          0.042498913424057566,
          0.04250253601170448,
          0.04250530559101079,
          0.042508025124682394,
          0.042511553142050316,
          0.04251680969930077,
          0.04252478142402446,
          0.04253652540321359,
          0.042553171712121966,
          0.04257592442434361,
          0.04260606098939226,
          0.04264492991135615,
          0.04269394670930448,
          0.042754588185593315,
          0.04282838507080613,
          0.04291691315269716,
          0.04302178303036653,
          0.04314462866336692,
          0.043287094908181126,
          0.043450824251362964,
          0.04363744295968909,
          0.043848546873173376,
          0.0440856870671671,
          0.04435035560551686,
          0.044643971598531264,
          0.04496786776793965,
          0.04532327770684207,
          0.045711324006495656,
          0.04613300740432117,
          0.04658919708932475,
          0.04708062228271828,
          0.0476078651933228,
          0.04817135542967743,
          0.04877136593385561,
          0.049408010485976483,
          0.050081242813248925,
          0.050790857323075346,
          0.05153649146605514,
          0.05231762972141767,
          0.05313360918416009,
          0.05398362671956012,
          0.05486674763637993,
          0.05578191581450153,
          0.05672796520556758,
          0.057703632605993996,
          0.05870757158026151,
          0.059738367388400916,
          0.06079455274511197,
          0.06187462420910059,
          0.06297705897037081,
          0.06410033177099225,
          0.06524293166214581,
          0.06640337826817981,
          0.0675802371983976,
          0.06877213422094998,
          0.06997776779238021,
          0.07119591952297523,
          0.07242546215412467,
          0.0736653646313244,
          0.07491469387705532,
          0.07617261290306773,
          0.07743837495270267,
          0.07871131343146305,
          0.07999082746808046,
          0.0812763630482172,
          0.08256738977722226,
          0.0838633734548924,
          0.08516374478099686,
          0.0864678646517097,
          0.08777498664975562,
          0.08908421747013823,
          0.09039447615360455,
          0.09170445311609562,
          0.09301257005907038,
          0.09431694191766737,
          0.09561534204672621,
          0.09690517185488036,
          0.09818343607150372,
          0.09944672476849503,
          0.100691203158338,
          0.10191261005251988,
          0.10310626569255751,
          0.10426708946331566,
          0.10538962776994573,
          0.10646809211185372,
          0.10749640712659403,
          0.10846826811135783,
          0.10937720726787648,
          0.11021666766648723,
          0.11098008369482204,
          0.11166096655374623,
          0.1122529931945403,
          0.11275009696263365,
          0.11314655812891392,
          0.1134370924527584,
          0.11361693593291221,
          0.11368192396304067,
          0.11362856321646615,
          0.11345409473605494,
          0.11315654689582882,
          0.11273477712487351,
          0.11218850153477629,
          0.11151831186166046,
          0.11072567941510374,
          0.10981294601071397,
          0.10878330214308148,
          0.10764075292365873,
          0.10639007255693791,
          0.10503674835206057,
          0.10358691546052917,
          0.10204728369004576,
          0.1004250578667663,
          0.09872785330185552,
          0.09696360796261519,
          0.09514049295436432,
          0.09326682288835932,
          0.09135096764597721,
          0.08940126695361925,
          0.08742594906032916,
          0.08543305466554503,
          0.08343036708251983,
          0.0814253494487522,
          0.0794250896132313,
          0.07743625314622764,
          0.07546504473531303,
          0.07351717805539519,
          0.07159785403452444,
          0.06971174728419646,
          0.0678630003254451,
          0.06605522512216389,
          0.06429151133221174,
          0.06257444060574949,
          0.060906106199218754,
          0.059288137132114296,
          0.057721726091583,
          0.05620766028579281,
          0.054746354459565376,
          0.05333788531329046,
          0.05198202660680591,
          0.050678284281747386,
          0.04942593099682414,
          0.048224039538518684,
          0.04707151464282193,
          0.04596712283988843,
          0.04490952001111357,
          0.04389727642540468,
          0.042928899096845365,
          0.04200285137816567,
          0.04111756977227174,
          0.0402714780065455,
          0.03946299847090128,
          0.0386905611700215,
          0.03795261038231647,
          0.03724760925266043,
          0.0365740425726693,
          0.035930418021213745,
          0.035315266149098586,
          0.03472713939567276,
          0.034164610421904974,
          0.0336262700346736,
          0.03311072496125402,
          0.032616595711908496,
          0.03214251474286464,
          0.03168712510259716,
          0.031249079712086215,
          0.030827041395490133,
          0.030419683742343575,
          0.030025692846873665,
          0.029643769935166597,
          0.029272634857538365,
          0.028911030392318033,
          0.028557727278992563,
          0.028211529873873827,
          0.027871282300577907,
          0.02753587495100001,
          0.027204251180351587,
          0.02687541403228976,
          0.026548432827198428,
          0.02622244944814429,
          0.025896684164690473,
          0.025570440844281898,
          0.025243111413931485,
          0.02491417945095326,
          0.02458322280003249,
          0.02424991513444157,
          0.023914026401183466,
          0.02357542211271275,
          0.023234061471149873,
          0.02288999433404644,
          0.022543357053328706,
          0.022194367240613206,
          0.021843317532271016,
          0.02149056844608032,
          0.021136540437760004,
          0.020781705279881872,
          0.02042657689740512,
          0.02007170180323265,
          0.01971764928361578,
          0.019365001486891895,
          0.01901434356988138,
          0.018666254054322394,
          0.018321295541042122,
          0.017980005922244083,
          0.017642890222486697,
          0.017310413186814453,
          0.01698299272032074,
          0.01666099426742589,
          0.016344726201670712,
          0.016034436278183118,
          0.015730309181554106,
          0.015432465182051951,
          0.015140959893311566,
          0.014855785105281077,
          0.014576870647681475,
          0.014304087221938787,
          0.014037250123823146,
          0.013776123765213293,
          0.013520426891749576,
          0.013269838383870209,
          0.013024003521988452,
          0.01278254059244065,
          0.012545047709336364,
          0.012311109728505791,
          0.012080305133250977,
          0.011852212777374874,
          0.0116264183787539,
          0.011402520666250887,
          0.011180137093726544,
          0.010958909046958388,
          0.010738506482076995,
          0.010518631947335107,
          0.010299023953309297,
          0.010079459669688191,
          0.009859756939356699,
          0.009639775612303957,
          0.009419418212772947,
          0.009198629962887788,
          0.00897739819463783,
          0.008755751189511178,
          0.008533756491240762,
          0.008311518742071927,
          0.008089177096735813,
          0.007866902270992397,
          0.007644893283277935,
          0.007423373948761663,
          0.0072025891850803275,
          0.006982801188283021,
          0.006764285536170926,
          0.006547327274339818,
          0.006332217037891688,
          0.00611924725903202,
          0.005908708507646997,
          0.005700886008488113,
          0.005496056374800114,
          0.005294484594121335,
          0.005096421297576778,
          0.00490210033928572,
          0.004711736707537099,
          0.004525524784176674,
          0.0043436369632423805,
          0.004166222634332745,
          0.003993407530568116,
          0.003825293435390771,
          0.0036619582369402924,
          0.0035034563134429745,
          0.0033498192280756243,
          0.003201056707216757,
          0.0030571578719871227,
          0.0029180926896056054,
          0.0027838136084259615,
          0.002654257338642703,
          0.0025293467396012327,
          0.002408992774437131,
          0.0022930964933973205,
          0.0021815510086243602,
          0.0020742434253616976,
          0.0019710566973779446,
          0.001871871377814889,
          0.001776567240522865,
          0.00168502475113304,
          0.0015971263715015454,
          0.0015127576856158783,
          0.0014318083394581945,
          0.0013541727915589554,
          0.001279750874951544,
          0.001208448174871661,
          0.0011401762297724234,
          0.0010748525660066006,
          0.00101240057883776,
          0.0009527492742803057,
          0.0008958328876476372,
          0.0008415903956362837,
          0.0007899649393301167,
          0.0007409031757199871,
          0.0006943545752500548,
          0.0006502706825741068,
          0.0006086043571822573,
          0.0005693090098836252,
          0.0005323378503415591,
          0.0004976431599824438,
          0.0004651756036576061,
          0.0004348835924408384,
          0.0004067127088952672,
          0.0003806052050389863,
          0.0003564995820707603,
          0.00033433025967436706,
          0.00031402734139039483,
          0.0002955164811179294,
          0.00027871885427830414,
          0.0002635512355380581,
          0.00024992618325374647,
          0.00023775232898081924,
          0.00022693476850393787,
          0.00021737554892681344,
          0.00020897424444345783,
          0.0002016286115436199,
          0.00019523531263232753,
          0.0001896906954187646,
          0.0001848916140063121,
          0.00018073627644464495,
          0.000177125102633701,
          0.0001739615759391039,
          0.0001711530717214565,
          0.0001686116462197551,
          0.00016625476987179905,
          0.00016400599019871003,
          0.00016179551080980874,
          0.00015956067486803065,
          0.0001572463434518886
         ],
         "yaxis": "y"
        },
        {
         "line": {
          "color": "red",
          "dash": "dot",
          "width": 2
         },
         "mode": "lines",
         "name": "μ",
         "showlegend": false,
         "type": "scatter",
         "x": [
          -1.2062588823869658,
          -1.2062588823869658
         ],
         "y": [
          0,
          0.12505011635934474
         ]
        },
        {
         "line": {
          "color": "green",
          "dash": "dot",
          "width": 2
         },
         "mode": "lines",
         "name": "μ - 1*σ",
         "showlegend": false,
         "type": "scatter",
         "x": [
          -6.06155444881864,
          -6.06155444881864
         ],
         "y": [
          0,
          0.12505011635934474
         ]
        },
        {
         "line": {
          "color": "green",
          "dash": "dot",
          "width": 2
         },
         "mode": "lines",
         "name": "μ + 1*σ",
         "showlegend": false,
         "type": "scatter",
         "x": [
          3.649036684044708,
          3.649036684044708
         ],
         "y": [
          0,
          0.12505011635934474
         ]
        },
        {
         "line": {
          "color": "blue",
          "dash": "dot",
          "width": 2
         },
         "mode": "lines",
         "name": "μ - 2*σ",
         "showlegend": false,
         "type": "scatter",
         "x": [
          -10.916850015250313,
          -10.916850015250313
         ],
         "y": [
          0,
          0.12505011635934474
         ]
        },
        {
         "line": {
          "color": "blue",
          "dash": "dot",
          "width": 2
         },
         "mode": "lines",
         "name": "μ + 2*σ",
         "showlegend": false,
         "type": "scatter",
         "x": [
          8.504332250476383,
          8.504332250476383
         ],
         "y": [
          0,
          0.12505011635934474
         ]
        },
        {
         "line": {
          "color": "purple",
          "dash": "dot",
          "width": 2
         },
         "mode": "lines",
         "name": "μ - 3*σ",
         "showlegend": false,
         "type": "scatter",
         "x": [
          -15.772145581681986,
          -15.772145581681986
         ],
         "y": [
          0,
          0.12505011635934474
         ]
        },
        {
         "line": {
          "color": "purple",
          "dash": "dot",
          "width": 2
         },
         "mode": "lines",
         "name": "μ + 3*σ",
         "showlegend": false,
         "type": "scatter",
         "x": [
          13.359627816908056,
          13.359627816908056
         ],
         "y": [
          0,
          0.12505011635934474
         ]
        }
       ],
       "layout": {
        "annotations": [
         {
          "font": {
           "color": "red"
          },
          "showarrow": false,
          "text": "μ",
          "x": -1.2062588823869658,
          "xshift": 0,
          "y": 0,
          "yshift": -20
         },
         {
          "font": {
           "color": "green"
          },
          "showarrow": false,
          "text": "μ - 1*σ",
          "x": -6.06155444881864,
          "xshift": 0,
          "y": 0,
          "yshift": -20
         },
         {
          "font": {
           "color": "green"
          },
          "showarrow": false,
          "text": "μ + 1*σ",
          "x": 3.649036684044708,
          "xshift": 0,
          "y": 0,
          "yshift": -20
         },
         {
          "font": {
           "color": "blue"
          },
          "showarrow": false,
          "text": "μ - 2*σ",
          "x": -10.916850015250313,
          "xshift": 0,
          "y": 0,
          "yshift": -20
         },
         {
          "font": {
           "color": "blue"
          },
          "showarrow": false,
          "text": "μ + 2*σ",
          "x": 8.504332250476383,
          "xshift": 0,
          "y": 0,
          "yshift": -20
         },
         {
          "font": {
           "color": "purple"
          },
          "showarrow": false,
          "text": "μ - 3*σ",
          "x": -15.772145581681986,
          "xshift": 0,
          "y": 0,
          "yshift": -20
         },
         {
          "font": {
           "color": "purple"
          },
          "showarrow": false,
          "text": "μ + 3*σ",
          "x": 13.359627816908056,
          "xshift": 0,
          "y": 0,
          "yshift": -20
         }
        ],
        "autosize": true,
        "barmode": "overlay",
        "hovermode": "closest",
        "legend": {
         "title": {
          "text": "Legend"
         },
         "traceorder": "reversed"
        },
        "template": {
         "data": {
          "bar": [
           {
            "error_x": {
             "color": "#2a3f5f"
            },
            "error_y": {
             "color": "#2a3f5f"
            },
            "marker": {
             "line": {
              "color": "#E5ECF6",
              "width": 0.5
             },
             "pattern": {
              "fillmode": "overlay",
              "size": 10,
              "solidity": 0.2
             }
            },
            "type": "bar"
           }
          ],
          "barpolar": [
           {
            "marker": {
             "line": {
              "color": "#E5ECF6",
              "width": 0.5
             },
             "pattern": {
              "fillmode": "overlay",
              "size": 10,
              "solidity": 0.2
             }
            },
            "type": "barpolar"
           }
          ],
          "carpet": [
           {
            "aaxis": {
             "endlinecolor": "#2a3f5f",
             "gridcolor": "white",
             "linecolor": "white",
             "minorgridcolor": "white",
             "startlinecolor": "#2a3f5f"
            },
            "baxis": {
             "endlinecolor": "#2a3f5f",
             "gridcolor": "white",
             "linecolor": "white",
             "minorgridcolor": "white",
             "startlinecolor": "#2a3f5f"
            },
            "type": "carpet"
           }
          ],
          "choropleth": [
           {
            "colorbar": {
             "outlinewidth": 0,
             "ticks": ""
            },
            "type": "choropleth"
           }
          ],
          "contour": [
           {
            "colorbar": {
             "outlinewidth": 0,
             "ticks": ""
            },
            "colorscale": [
             [
              0,
              "#0d0887"
             ],
             [
              0.1111111111111111,
              "#46039f"
             ],
             [
              0.2222222222222222,
              "#7201a8"
             ],
             [
              0.3333333333333333,
              "#9c179e"
             ],
             [
              0.4444444444444444,
              "#bd3786"
             ],
             [
              0.5555555555555556,
              "#d8576b"
             ],
             [
              0.6666666666666666,
              "#ed7953"
             ],
             [
              0.7777777777777778,
              "#fb9f3a"
             ],
             [
              0.8888888888888888,
              "#fdca26"
             ],
             [
              1,
              "#f0f921"
             ]
            ],
            "type": "contour"
           }
          ],
          "contourcarpet": [
           {
            "colorbar": {
             "outlinewidth": 0,
             "ticks": ""
            },
            "type": "contourcarpet"
           }
          ],
          "heatmap": [
           {
            "colorbar": {
             "outlinewidth": 0,
             "ticks": ""
            },
            "colorscale": [
             [
              0,
              "#0d0887"
             ],
             [
              0.1111111111111111,
              "#46039f"
             ],
             [
              0.2222222222222222,
              "#7201a8"
             ],
             [
              0.3333333333333333,
              "#9c179e"
             ],
             [
              0.4444444444444444,
              "#bd3786"
             ],
             [
              0.5555555555555556,
              "#d8576b"
             ],
             [
              0.6666666666666666,
              "#ed7953"
             ],
             [
              0.7777777777777778,
              "#fb9f3a"
             ],
             [
              0.8888888888888888,
              "#fdca26"
             ],
             [
              1,
              "#f0f921"
             ]
            ],
            "type": "heatmap"
           }
          ],
          "heatmapgl": [
           {
            "colorbar": {
             "outlinewidth": 0,
             "ticks": ""
            },
            "colorscale": [
             [
              0,
              "#0d0887"
             ],
             [
              0.1111111111111111,
              "#46039f"
             ],
             [
              0.2222222222222222,
              "#7201a8"
             ],
             [
              0.3333333333333333,
              "#9c179e"
             ],
             [
              0.4444444444444444,
              "#bd3786"
             ],
             [
              0.5555555555555556,
              "#d8576b"
             ],
             [
              0.6666666666666666,
              "#ed7953"
             ],
             [
              0.7777777777777778,
              "#fb9f3a"
             ],
             [
              0.8888888888888888,
              "#fdca26"
             ],
             [
              1,
              "#f0f921"
             ]
            ],
            "type": "heatmapgl"
           }
          ],
          "histogram": [
           {
            "marker": {
             "pattern": {
              "fillmode": "overlay",
              "size": 10,
              "solidity": 0.2
             }
            },
            "type": "histogram"
           }
          ],
          "histogram2d": [
           {
            "colorbar": {
             "outlinewidth": 0,
             "ticks": ""
            },
            "colorscale": [
             [
              0,
              "#0d0887"
             ],
             [
              0.1111111111111111,
              "#46039f"
             ],
             [
              0.2222222222222222,
              "#7201a8"
             ],
             [
              0.3333333333333333,
              "#9c179e"
             ],
             [
              0.4444444444444444,
              "#bd3786"
             ],
             [
              0.5555555555555556,
              "#d8576b"
             ],
             [
              0.6666666666666666,
              "#ed7953"
             ],
             [
              0.7777777777777778,
              "#fb9f3a"
             ],
             [
              0.8888888888888888,
              "#fdca26"
             ],
             [
              1,
              "#f0f921"
             ]
            ],
            "type": "histogram2d"
           }
          ],
          "histogram2dcontour": [
           {
            "colorbar": {
             "outlinewidth": 0,
             "ticks": ""
            },
            "colorscale": [
             [
              0,
              "#0d0887"
             ],
             [
              0.1111111111111111,
              "#46039f"
             ],
             [
              0.2222222222222222,
              "#7201a8"
             ],
             [
              0.3333333333333333,
              "#9c179e"
             ],
             [
              0.4444444444444444,
              "#bd3786"
             ],
             [
              0.5555555555555556,
              "#d8576b"
             ],
             [
              0.6666666666666666,
              "#ed7953"
             ],
             [
              0.7777777777777778,
              "#fb9f3a"
             ],
             [
              0.8888888888888888,
              "#fdca26"
             ],
             [
              1,
              "#f0f921"
             ]
            ],
            "type": "histogram2dcontour"
           }
          ],
          "mesh3d": [
           {
            "colorbar": {
             "outlinewidth": 0,
             "ticks": ""
            },
            "type": "mesh3d"
           }
          ],
          "parcoords": [
           {
            "line": {
             "colorbar": {
              "outlinewidth": 0,
              "ticks": ""
             }
            },
            "type": "parcoords"
           }
          ],
          "pie": [
           {
            "automargin": true,
            "type": "pie"
           }
          ],
          "scatter": [
           {
            "fillpattern": {
             "fillmode": "overlay",
             "size": 10,
             "solidity": 0.2
            },
            "type": "scatter"
           }
          ],
          "scatter3d": [
           {
            "line": {
             "colorbar": {
              "outlinewidth": 0,
              "ticks": ""
             }
            },
            "marker": {
             "colorbar": {
              "outlinewidth": 0,
              "ticks": ""
             }
            },
            "type": "scatter3d"
           }
          ],
          "scattercarpet": [
           {
            "marker": {
             "colorbar": {
              "outlinewidth": 0,
              "ticks": ""
             }
            },
            "type": "scattercarpet"
           }
          ],
          "scattergeo": [
           {
            "marker": {
             "colorbar": {
              "outlinewidth": 0,
              "ticks": ""
             }
            },
            "type": "scattergeo"
           }
          ],
          "scattergl": [
           {
            "marker": {
             "colorbar": {
              "outlinewidth": 0,
              "ticks": ""
             }
            },
            "type": "scattergl"
           }
          ],
          "scattermapbox": [
           {
            "marker": {
             "colorbar": {
              "outlinewidth": 0,
              "ticks": ""
             }
            },
            "type": "scattermapbox"
           }
          ],
          "scatterpolar": [
           {
            "marker": {
             "colorbar": {
              "outlinewidth": 0,
              "ticks": ""
             }
            },
            "type": "scatterpolar"
           }
          ],
          "scatterpolargl": [
           {
            "marker": {
             "colorbar": {
              "outlinewidth": 0,
              "ticks": ""
             }
            },
            "type": "scatterpolargl"
           }
          ],
          "scatterternary": [
           {
            "marker": {
             "colorbar": {
              "outlinewidth": 0,
              "ticks": ""
             }
            },
            "type": "scatterternary"
           }
          ],
          "surface": [
           {
            "colorbar": {
             "outlinewidth": 0,
             "ticks": ""
            },
            "colorscale": [
             [
              0,
              "#0d0887"
             ],
             [
              0.1111111111111111,
              "#46039f"
             ],
             [
              0.2222222222222222,
              "#7201a8"
             ],
             [
              0.3333333333333333,
              "#9c179e"
             ],
             [
              0.4444444444444444,
              "#bd3786"
             ],
             [
              0.5555555555555556,
              "#d8576b"
             ],
             [
              0.6666666666666666,
              "#ed7953"
             ],
             [
              0.7777777777777778,
              "#fb9f3a"
             ],
             [
              0.8888888888888888,
              "#fdca26"
             ],
             [
              1,
              "#f0f921"
             ]
            ],
            "type": "surface"
           }
          ],
          "table": [
           {
            "cells": {
             "fill": {
              "color": "#EBF0F8"
             },
             "line": {
              "color": "white"
             }
            },
            "header": {
             "fill": {
              "color": "#C8D4E3"
             },
             "line": {
              "color": "white"
             }
            },
            "type": "table"
           }
          ]
         },
         "layout": {
          "annotationdefaults": {
           "arrowcolor": "#2a3f5f",
           "arrowhead": 0,
           "arrowwidth": 1
          },
          "autotypenumbers": "strict",
          "coloraxis": {
           "colorbar": {
            "outlinewidth": 0,
            "ticks": ""
           }
          },
          "colorscale": {
           "diverging": [
            [
             0,
             "#8e0152"
            ],
            [
             0.1,
             "#c51b7d"
            ],
            [
             0.2,
             "#de77ae"
            ],
            [
             0.3,
             "#f1b6da"
            ],
            [
             0.4,
             "#fde0ef"
            ],
            [
             0.5,
             "#f7f7f7"
            ],
            [
             0.6,
             "#e6f5d0"
            ],
            [
             0.7,
             "#b8e186"
            ],
            [
             0.8,
             "#7fbc41"
            ],
            [
             0.9,
             "#4d9221"
            ],
            [
             1,
             "#276419"
            ]
           ],
           "sequential": [
            [
             0,
             "#0d0887"
            ],
            [
             0.1111111111111111,
             "#46039f"
            ],
            [
             0.2222222222222222,
             "#7201a8"
            ],
            [
             0.3333333333333333,
             "#9c179e"
            ],
            [
             0.4444444444444444,
             "#bd3786"
            ],
            [
             0.5555555555555556,
             "#d8576b"
            ],
            [
             0.6666666666666666,
             "#ed7953"
            ],
            [
             0.7777777777777778,
             "#fb9f3a"
            ],
            [
             0.8888888888888888,
             "#fdca26"
            ],
            [
             1,
             "#f0f921"
            ]
           ],
           "sequentialminus": [
            [
             0,
             "#0d0887"
            ],
            [
             0.1111111111111111,
             "#46039f"
            ],
            [
             0.2222222222222222,
             "#7201a8"
            ],
            [
             0.3333333333333333,
             "#9c179e"
            ],
            [
             0.4444444444444444,
             "#bd3786"
            ],
            [
             0.5555555555555556,
             "#d8576b"
            ],
            [
             0.6666666666666666,
             "#ed7953"
            ],
            [
             0.7777777777777778,
             "#fb9f3a"
            ],
            [
             0.8888888888888888,
             "#fdca26"
            ],
            [
             1,
             "#f0f921"
            ]
           ]
          },
          "colorway": [
           "#636efa",
           "#EF553B",
           "#00cc96",
           "#ab63fa",
           "#FFA15A",
           "#19d3f3",
           "#FF6692",
           "#B6E880",
           "#FF97FF",
           "#FECB52"
          ],
          "font": {
           "color": "#2a3f5f"
          },
          "geo": {
           "bgcolor": "white",
           "lakecolor": "white",
           "landcolor": "#E5ECF6",
           "showlakes": true,
           "showland": true,
           "subunitcolor": "white"
          },
          "hoverlabel": {
           "align": "left"
          },
          "hovermode": "closest",
          "mapbox": {
           "style": "light"
          },
          "paper_bgcolor": "white",
          "plot_bgcolor": "#E5ECF6",
          "polar": {
           "angularaxis": {
            "gridcolor": "white",
            "linecolor": "white",
            "ticks": ""
           },
           "bgcolor": "#E5ECF6",
           "radialaxis": {
            "gridcolor": "white",
            "linecolor": "white",
            "ticks": ""
           }
          },
          "scene": {
           "xaxis": {
            "backgroundcolor": "#E5ECF6",
            "gridcolor": "white",
            "gridwidth": 2,
            "linecolor": "white",
            "showbackground": true,
            "ticks": "",
            "zerolinecolor": "white"
           },
           "yaxis": {
            "backgroundcolor": "#E5ECF6",
            "gridcolor": "white",
            "gridwidth": 2,
            "linecolor": "white",
            "showbackground": true,
            "ticks": "",
            "zerolinecolor": "white"
           },
           "zaxis": {
            "backgroundcolor": "#E5ECF6",
            "gridcolor": "white",
            "gridwidth": 2,
            "linecolor": "white",
            "showbackground": true,
            "ticks": "",
            "zerolinecolor": "white"
           }
          },
          "shapedefaults": {
           "line": {
            "color": "#2a3f5f"
           }
          },
          "ternary": {
           "aaxis": {
            "gridcolor": "white",
            "linecolor": "white",
            "ticks": ""
           },
           "baxis": {
            "gridcolor": "white",
            "linecolor": "white",
            "ticks": ""
           },
           "bgcolor": "#E5ECF6",
           "caxis": {
            "gridcolor": "white",
            "linecolor": "white",
            "ticks": ""
           }
          },
          "title": {
           "x": 0.05
          },
          "xaxis": {
           "automargin": true,
           "gridcolor": "white",
           "linecolor": "white",
           "ticks": "",
           "title": {
            "standoff": 15
           },
           "zerolinecolor": "white",
           "zerolinewidth": 2
          },
          "yaxis": {
           "automargin": true,
           "gridcolor": "white",
           "linecolor": "white",
           "ticks": "",
           "title": {
            "standoff": 15
           },
           "zerolinecolor": "white",
           "zerolinewidth": 2
          }
         }
        },
        "title": {
         "text": "KDE Plot of Column Means with Statistical Lines"
        },
        "xaxis": {
         "anchor": "y2",
         "autorange": true,
         "domain": [
          0,
          1
         ],
         "range": [
          -16.244713333986073,
          14.462546325936573
         ],
         "showgrid": false,
         "title": {
          "text": "Mean Value"
         },
         "type": "linear",
         "zeroline": false
        },
        "yaxis": {
         "anchor": "free",
         "autorange": true,
         "domain": [
          0,
          1
         ],
         "position": 0,
         "range": [
          -0.02607051895830862,
          0.1330038340076423
         ],
         "showgrid": false,
         "title": {
          "text": "Density"
         },
         "type": "linear"
        }
       }
      },
      "image/png": "[encoded data removed]",
      "text/html": [
       "<div>                            <div id=\"0524c0cd-84f0-452e-ab2f-5c8ffd32c020\" class=\"plotly-graph-div\" style=\"height:525px; width:100%;\"></div>            <script type=\"text/javascript\">                require([\"plotly\"], function(Plotly) {                    window.PLOTLYENV=window.PLOTLYENV || {};                                    if (document.getElementById(\"0524c0cd-84f0-452e-ab2f-5c8ffd32c020\")) {                    Plotly.newPlot(                        \"0524c0cd-84f0-452e-ab2f-5c8ffd32c020\",                        [{\"legendgroup\":\"Column Means\",\"marker\":{\"color\":\"blue\",\"line\":{\"width\":0}},\"mode\":\"lines\",\"name\":\"Column Means\",\"showlegend\":true,\"x\":[-14.993973357396085,-14.93494225582628,-14.875911154256475,-14.81688005268667,-14.757848951116864,-14.69881784954706,-14.639786747977254,-14.58075564640745,-14.521724544837646,-14.46269344326784,-14.403662341698036,-14.34463124012823,-14.285600138558426,-14.226569036988622,-14.167537935418816,-14.108506833849011,-14.049475732279205,-13.990444630709401,-13.931413529139597,-13.872382427569791,-13.813351325999987,-13.754320224430181,-13.695289122860377,-13.63625802129057,-13.577226919720767,-13.51819581815096,-13.459164716581157,-13.400133615011352,-13.341102513441546,-13.282071411871742,-13.223040310301936,-13.164009208732132,-13.104978107162328,-13.045947005592522,-12.986915904022718,-12.927884802452912,-12.868853700883108,-12.809822599313302,-12.750791497743498,-12.691760396173692,-12.632729294603887,-12.573698193034083,-12.514667091464277,-12.455635989894473,-12.396604888324667,-12.337573786754863,-12.278542685185059,-12.219511583615253,-12.160480482045449,-12.101449380475643,-12.042418278905838,-11.983387177336034,-11.924356075766228,-11.865324974196424,-11.806293872626618,-11.747262771056814,-11.68823166948701,-11.629200567917204,-11.570169466347398,-11.511138364777594,-11.45210726320779,-11.393076161637985,-11.33404506006818,-11.275013958498374,-11.21598285692857,-11.156951755358765,-11.097920653788961,-11.038889552219155,-10.979858450649349,-10.920827349079545,-10.86179624750974,-10.802765145939935,-10.74373404437013,-10.684702942800325,-10.62567184123052,-10.566640739660716,-10.50760963809091,-10.448578536521106,-10.3895474349513,-10.330516333381496,-10.271485231811692,-10.212454130241886,-10.15342302867208,-10.094391927102276,-10.035360825532472,-9.976329723962667,-9.91729862239286,-9.858267520823055,-9.799236419253251,-9.740205317683447,-9.681174216113643,-9.622143114543835,-9.563112012974031,-9.504080911404227,-9.445049809834423,-9.386018708264617,-9.32698760669481,-9.267956505125007,-9.208925403555202,-9.149894301985396,-9.090863200415592,-9.031832098845786,-8.972800997275982,-8.913769895706178,-8.854738794136372,-8.795707692566568,-8.736676590996762,-8.677645489426958,-8.618614387857154,-8.559583286287348,-8.500552184717543,-8.441521083147737,-8.382489981577933,-8.323458880008129,-8.264427778438323,-8.205396676868519,-8.146365575298713,-8.087334473728909,-8.028303372159105,-7.969272270589299,-7.910241169019494,-7.8512100674496885,-7.792178965879884,-7.733147864310079,-7.674116762740273,-7.615085661170469,-7.556054559600664,-7.49702345803086,-7.437992356461054,-7.378961254891249,-7.319930153321445,-7.26089905175164,-7.2018679501818355,-7.1428368486120295,-7.083805747042224,-7.02477464547242,-6.965743543902615,-6.906712442332811,-6.847681340763005,-6.788650239193199,-6.729619137623395,-6.670588036053591,-6.611556934483785,-6.552525832913981,-6.493494731344176,-6.4344636297743705,-6.375432528204566,-6.31640142663476,-6.257370325064954,-6.19833922349515,-6.139308121925346,-6.080277020355542,-6.021245918785736,-5.962214817215932,-5.9031837156461275,-5.844152614076322,-5.785121512506516,-5.7260904109367115,-5.6670593093669055,-5.608028207797101,-5.548997106227297,-5.489966004657493,-5.430934903087687,-5.371903801517883,-5.312872699948077,-5.253841598378271,-5.194810496808467,-5.135779395238663,-5.076748293668857,-5.017717192099052,-4.958686090529248,-4.899654988959444,-4.840623887389636,-4.781592785819832,-4.722561684250028,-4.663530582680222,-4.604499481110418,-4.545468379540614,-4.486437277970808,-4.4274061764010035,-4.368375074831199,-4.309343973261393,-4.2503128716915874,-4.191281770121783,-4.132250668551979,-4.073219566982173,-4.014188465412369,-3.9551573638425648,-3.896126262272759,-3.837095160702953,-3.7780640591331487,-3.7190329575633445,-3.6600018559935386,-3.6009707544237344,-3.54193965285393,-3.4829085512841242,-3.42387744971432,-3.364846348144516,-3.305815246574708,-3.246784145004904,-3.1877530434351,-3.1287219418652956,-3.0696908402954897,-3.0106597387256855,-2.9516286371558813,-2.8925975355860754,-2.8335664340162694,-2.774535332446465,-2.7155042308766593,-2.656473129306855,-2.597442027737051,-2.5384109261672467,-2.4793798245974408,-2.4203487230276366,-2.3613176214578306,-2.3022865198880247,-2.2432554183182205,-2.1842243167484163,-2.1251932151786104,-2.066162113608806,-2.007131012039002,-1.9480999104691978,-1.8890688088993919,-1.830037707329586,-1.7710066057597817,-1.7119755041899758,-1.6529444026201716,-1.5939133010503674,-1.5348821994805615,-1.4758510979107573,-1.4168199963409531,-1.3577888947711472,-1.2987577932013412,-1.239726691631537,-1.1806955900617329,-1.121664488491927,-1.0626333869221227,-1.0036022853523185,-0.9445711837825126,-0.8855400822127084,-0.8265089806429025,-0.7674778790730983,-0.7084467775032923,-0.6494156759334881,-0.590384574363684,-0.531353472793878,-0.47232237122407383,-0.41329126965426966,-0.3542601680844619,-0.29522906651465775,-0.23619796494485357,-0.1771668633750494,-0.11813576180524343,-0.059104660235439255,-7.355866563507618e-05,0.05895754290417088,0.11798864447397683,0.177019746043781,0.23605084761358697,0.29508194918339115,0.3541130507531953,0.4131441523230013,0.47217525389280546,0.5312063554626096,0.5902374570324138,0.6492685586022215,0.7082996601720257,0.7673307617418299,0.8263618633116359,0.88539296488144,0.9444240664512442,1.0034551680210502,1.0624862695908543,1.1215173711606585,1.1805484727304627,1.2395795743002704,1.2986106758700746,1.3576417774398788,1.4166728790096865,1.4757039805794872,1.5347350821492949,1.593766183719099,1.6527972852889032,1.7118283868587074,1.7708594884285151,1.8298905899983158,1.8889216915681235,1.9479527931379312,2.006983894707732,2.0660149962775396,2.1250460978473438,2.184077199417148,2.243108300986952,2.30213940255676,2.361170504126564,2.420201605696368,2.479232707266176,2.5382638088359766,2.5972949104057843,2.656326011975585,2.7153571135453927,2.774388215115197,2.833419316685001,2.8924504182548088,2.951481519824613,3.010512621394417,3.0695437229642213,3.128574824534029,3.1876059261038296,3.2466370276736374,3.3056681292434416,3.3646992308132457,3.4237303323830535,3.4827614339528576,3.541792535522662,3.600823637092466,3.6598547386622737,3.7188858402320744,3.777916941801882,3.8369480433716863,3.8959791449414904,3.955010246511298,4.014041348081099,4.0730724496509065,4.132103551220711,4.191134652790515,4.250165754360319,4.309196855930127,4.368227957499931,4.427259059069735,4.486290160639543,4.5453212622093435,4.604352363779151,4.663383465348955,4.72241456691876,4.781445668488564,4.8404767700583715,4.899507871628176,4.95853897319798,5.017570074767784,5.076601176337588,5.135632277907396,5.194663379477197,5.253694481047004,5.312725582616812,5.371756684186613,5.43078778575642,5.489818887326225,5.548849988896029,5.607881090465833,5.666912192035641,5.725943293605441,5.784974395175249,5.844005496745057,5.903036598314857,5.962067699884665,6.021098801454469,6.0801299030242735,6.139161004594078,6.198192106163882,6.257223207733686,6.316254309303494,6.375285410873298,6.434316512443102,6.49334761401291,6.5523787155827105,6.611409817152518,6.670440918722322,6.7294720202921265,6.788503121861931,6.8475342234317385,6.906565325001543,6.965596426571347,7.0246275281411545,7.083658629710955,7.142689731280763,7.201720832850567,7.260751934420371,7.319783035990179,7.37881413755998,7.437845239129787,7.4968763406995915,7.555907442269396,7.6149385438392,7.673969645409008,7.733000746978808,7.792031848548616,7.851062950118424,7.910094051688224,7.969125153258032,8.028156254827836,8.08718735639764,8.146218457967445,8.205249559537252,8.264280661107053,8.32331176267686,8.382342864246668,8.441373965816469,8.500405067386277,8.559436168956081,8.618467270525885,8.67749837209569,8.736529473665493,8.795560575235301,8.854591676805105,8.91362277837491,8.972653879944714,9.031684981514521,9.090716083084322,9.14974718465413,9.208778286223934,9.267809387793738,9.326840489363546,9.38587159093335,9.444902692503154,9.503933794072958,9.562964895642766,9.621995997212567,9.681027098782375,9.740058200352179,9.799089301921983,9.85812040349179,9.917151505061591,9.976182606631399,10.035213708201203,10.094244809771007,10.153275911340812,10.21230701291062,10.271338114480423,10.330369216050228,10.389400317620035,10.448431419189836,10.507462520759644,10.566493622329448,10.625524723899252,10.684555825469056,10.743586927038864,10.802618028608668,10.861649130178472,10.92068023174828,10.97971133331808,11.038742434887888,11.097773536457689,11.156804638027497,11.215835739597301,11.274866841167105,11.333897942736913,11.392929044306717,11.451960145876521,11.510991247446325,11.570022349016133,11.629053450585934,11.688084552155741,11.74711565372555,11.80614675529535,11.865177856865158,11.924208958434962,11.983240060004766,12.04227116157457,12.101302263144378,12.160333364714178,12.219364466283986,12.27839556785379,12.337426669423595,12.396457770993402,12.455488872563203,12.51451997413301,12.573551075702815,12.632582177272619,12.691613278842423,12.750644380412231,12.809675481982035,12.86870658355184,12.927737685121647,12.986768786691448,13.045799888261255,13.10483098983106,13.163862091400864,13.222893192970668,13.281924294540476,13.34095539611028,13.399986497680084,13.459017599249888,13.518048700819692,13.5770798023895,13.6361109039593,13.695142005529108,13.754173107098916,13.813204208668717,13.872235310238525,13.931266411808329,13.990297513378133,14.049328614947937,14.108359716517745,14.167390818087545,14.226421919657353,14.28545302122716,14.344484122796962,14.40351522436677,14.462546325936573],\"xaxis\":\"x\",\"y\":[0.0016693101543581517,0.0017795662751703225,0.0018935866819686105,0.0020112863216447873,0.0021325769068258607,0.0022573690235410376,0.0023855742331156497,0.0025171071123492174,0.002651887175023816,0.0027898406184330023,0.002930901841028779,0.003075014681514412,0.00322213333576834,0.003372222915812537,0.0035252596245156894,0.003681230530659602,0.0038401329411421915,0.004001973380124377,0.00416676619847919,0.004334531850544592,0.004505294888461817,0.004679081736815868,0.004855918321399493,0.005035827635224535,0.005218827331962186,0.0054049274414208525,0.005594128303145808,0.005786418812521918,0.00598177506875094,0.006180159505748509,0.0063815205754724205,0.006585793038689775,0.006792898901073106,0.007002749013256686,0.007215245332654735,0.007430283823097495,0.007647757946389025,0.007867562678476695,0.008089598962790807,0.00831377849518451,0.008540028719437117,0.008768297900059565,0.008998560130623029,0.009230820131360751,0.009465117689566066,0.009701531600366716,0.009940182973691036,0.010181237785399373,0.010424908566242206,0.010671455141020532,0.010921184351463355,0.011174448719234118,0.011431644029431733,0.011693205839247345,0.011959604940389373,0.01223134182684931,0.012508940240979944,0.012792939890211455,0.01308388844365369,0.013382332932051738,0.013688810685905498,0.014003839954971014,0.014327910357856273,0.014661473313122673,0.015004932603369664,0.015358635221442492,0.015722862643398925,0.016097822666466758,0.016483641942164264,0.016880359325286504,0.017287920148784688,0.01770617152287448,0.01813485874414607,0.018573622887145445,0.01902199963694202,0.01947941940668956,0.01994520876918965,0.020418593216066518,0.020898701242444168,0.021384569739082475,0.02187515065790849,0.022369318900912382,0.02286588136664132,0.02336358707319351,0.0238611382619003,0.024357202371972208,0.024850424763491644,0.025339442054422175,0.025822895926952152,0.026299447249618805,0.026767790354372503,0.02722666730210121,0.02767488196617371,0.028111313761278428,0.028534930844208477,0.02894480261424726,0.029340111343403582,0.02972016277091042,0.030084395502140523,0.03043238905943103,0.03076387044132497,0.031078719057530915,0.031376969919628565,0.03165881498237725,0.031924602547616775,0.03217483466236794,0.03241016246502422,0.03263137945858148,0.032839412717732344,0.03303531206728124,0.03322023730253886,0.03339544355776314,0.033562264965851046,0.03372209679063144,0.033876376251443616,0.034026562297169875,0.03417411462238785,0.03432047225055563,0.034467032036836945,0.034615127464983644,0.03476600812735691,0.03492082028352749,0.03508058888997044,0.035246201480417814,0.035418394253010424,0.03559774068638476,0.035784642962508176,0.035979326420102986,0.03618183719992538,0.03639204317343591,0.036609638171305955,0.03683414944983383,0.037064948254028965,0.03730126325833182,0.03754219659221686,0.03778674209077283,0.038033805352138475,0.038282225136518286,0.038530795607212426,0.03877828889405857,0.0390234774548047,0.039265155720610775,0.03950216053793232,0.039733389959763395,0.039957819993327405,0.040174518977076155,0.04038265933506497,0.040581526538895546,0.04077052519366124,0.040949182251723566,0.04111714744374337,0.04127419109727945,0.041420199586725194,0.04155516872202087,0.04167919543537717,0.041792468163671256,0.04189525634812964,0.041987899481933946,0.042070796130498,0.04214439332898554,0.04220917672824895,0.042265661815338085,0.04231438647997977,0.04235590513619672,0.04239078454094953,0.04241960138187314,0.042442941636387246,0.042461401637112976,0.04247559071590167,0.0424861352428376,0.04249368382902549,0.042498913424057566,0.04250253601170448,0.04250530559101079,0.042508025124682394,0.042511553142050316,0.04251680969930077,0.04252478142402446,0.04253652540321359,0.042553171712121966,0.04257592442434361,0.04260606098939226,0.04264492991135615,0.04269394670930448,0.042754588185593315,0.04282838507080613,0.04291691315269716,0.04302178303036653,0.04314462866336692,0.043287094908181126,0.043450824251362964,0.04363744295968909,0.043848546873173376,0.0440856870671671,0.04435035560551686,0.044643971598531264,0.04496786776793965,0.04532327770684207,0.045711324006495656,0.04613300740432117,0.04658919708932475,0.04708062228271828,0.0476078651933228,0.04817135542967743,0.04877136593385561,0.049408010485976483,0.050081242813248925,0.050790857323075346,0.05153649146605514,0.05231762972141767,0.05313360918416009,0.05398362671956012,0.05486674763637993,0.05578191581450153,0.05672796520556758,0.057703632605993996,0.05870757158026151,0.059738367388400916,0.06079455274511197,0.06187462420910059,0.06297705897037081,0.06410033177099225,0.06524293166214581,0.06640337826817981,0.0675802371983976,0.06877213422094998,0.06997776779238021,0.07119591952297523,0.07242546215412467,0.0736653646313244,0.07491469387705532,0.07617261290306773,0.07743837495270267,0.07871131343146305,0.07999082746808046,0.0812763630482172,0.08256738977722226,0.0838633734548924,0.08516374478099686,0.0864678646517097,0.08777498664975562,0.08908421747013823,0.09039447615360455,0.09170445311609562,0.09301257005907038,0.09431694191766737,0.09561534204672621,0.09690517185488036,0.09818343607150372,0.09944672476849503,0.100691203158338,0.10191261005251988,0.10310626569255751,0.10426708946331566,0.10538962776994573,0.10646809211185372,0.10749640712659403,0.10846826811135783,0.10937720726787648,0.11021666766648723,0.11098008369482204,0.11166096655374623,0.1122529931945403,0.11275009696263365,0.11314655812891392,0.1134370924527584,0.11361693593291221,0.11368192396304067,0.11362856321646615,0.11345409473605494,0.11315654689582882,0.11273477712487351,0.11218850153477629,0.11151831186166046,0.11072567941510374,0.10981294601071397,0.10878330214308148,0.10764075292365873,0.10639007255693791,0.10503674835206057,0.10358691546052917,0.10204728369004576,0.1004250578667663,0.09872785330185552,0.09696360796261519,0.09514049295436432,0.09326682288835932,0.09135096764597721,0.08940126695361925,0.08742594906032916,0.08543305466554503,0.08343036708251983,0.0814253494487522,0.0794250896132313,0.07743625314622764,0.07546504473531303,0.07351717805539519,0.07159785403452444,0.06971174728419646,0.0678630003254451,0.06605522512216389,0.06429151133221174,0.06257444060574949,0.060906106199218754,0.059288137132114296,0.057721726091583,0.05620766028579281,0.054746354459565376,0.05333788531329046,0.05198202660680591,0.050678284281747386,0.04942593099682414,0.048224039538518684,0.04707151464282193,0.04596712283988843,0.04490952001111357,0.04389727642540468,0.042928899096845365,0.04200285137816567,0.04111756977227174,0.0402714780065455,0.03946299847090128,0.0386905611700215,0.03795261038231647,0.03724760925266043,0.0365740425726693,0.035930418021213745,0.035315266149098586,0.03472713939567276,0.034164610421904974,0.0336262700346736,0.03311072496125402,0.032616595711908496,0.03214251474286464,0.03168712510259716,0.031249079712086215,0.030827041395490133,0.030419683742343575,0.030025692846873665,0.029643769935166597,0.029272634857538365,0.028911030392318033,0.028557727278992563,0.028211529873873827,0.027871282300577907,0.02753587495100001,0.027204251180351587,0.02687541403228976,0.026548432827198428,0.02622244944814429,0.025896684164690473,0.025570440844281898,0.025243111413931485,0.02491417945095326,0.02458322280003249,0.02424991513444157,0.023914026401183466,0.02357542211271275,0.023234061471149873,0.02288999433404644,0.022543357053328706,0.022194367240613206,0.021843317532271016,0.02149056844608032,0.021136540437760004,0.020781705279881872,0.02042657689740512,0.02007170180323265,0.01971764928361578,0.019365001486891895,0.01901434356988138,0.018666254054322394,0.018321295541042122,0.017980005922244083,0.017642890222486697,0.017310413186814453,0.01698299272032074,0.01666099426742589,0.016344726201670712,0.016034436278183118,0.015730309181554106,0.015432465182051951,0.015140959893311566,0.014855785105281077,0.014576870647681475,0.014304087221938787,0.014037250123823146,0.013776123765213293,0.013520426891749576,0.013269838383870209,0.013024003521988452,0.01278254059244065,0.012545047709336364,0.012311109728505791,0.012080305133250977,0.011852212777374874,0.0116264183787539,0.011402520666250887,0.011180137093726544,0.010958909046958388,0.010738506482076995,0.010518631947335107,0.010299023953309297,0.010079459669688191,0.009859756939356699,0.009639775612303957,0.009419418212772947,0.009198629962887788,0.00897739819463783,0.008755751189511178,0.008533756491240762,0.008311518742071927,0.008089177096735813,0.007866902270992397,0.007644893283277935,0.007423373948761663,0.0072025891850803275,0.006982801188283021,0.006764285536170926,0.006547327274339818,0.006332217037891688,0.00611924725903202,0.005908708507646997,0.005700886008488113,0.005496056374800114,0.005294484594121335,0.005096421297576778,0.00490210033928572,0.004711736707537099,0.004525524784176674,0.0043436369632423805,0.004166222634332745,0.003993407530568116,0.003825293435390771,0.0036619582369402924,0.0035034563134429745,0.0033498192280756243,0.003201056707216757,0.0030571578719871227,0.0029180926896056054,0.0027838136084259615,0.002654257338642703,0.0025293467396012327,0.002408992774437131,0.0022930964933973205,0.0021815510086243602,0.0020742434253616976,0.0019710566973779446,0.001871871377814889,0.001776567240522865,0.00168502475113304,0.0015971263715015454,0.0015127576856158783,0.0014318083394581945,0.0013541727915589554,0.001279750874951544,0.001208448174871661,0.0011401762297724234,0.0010748525660066006,0.00101240057883776,0.0009527492742803057,0.0008958328876476372,0.0008415903956362837,0.0007899649393301167,0.0007409031757199871,0.0006943545752500548,0.0006502706825741068,0.0006086043571822573,0.0005693090098836252,0.0005323378503415591,0.0004976431599824438,0.0004651756036576061,0.0004348835924408384,0.0004067127088952672,0.0003806052050389863,0.0003564995820707603,0.00033433025967436706,0.00031402734139039483,0.0002955164811179294,0.00027871885427830414,0.0002635512355380581,0.00024992618325374647,0.00023775232898081924,0.00022693476850393787,0.00021737554892681344,0.00020897424444345783,0.0002016286115436199,0.00019523531263232753,0.0001896906954187646,0.0001848916140063121,0.00018073627644464495,0.000177125102633701,0.0001739615759391039,0.0001711530717214565,0.0001686116462197551,0.00016625476987179905,0.00016400599019871003,0.00016179551080980874,0.00015956067486803065,0.0001572463434518886],\"yaxis\":\"y\",\"type\":\"scatter\",\"fill\":\"tozeroy\",\"fillcolor\":\"rgba(30,144,255,0.5)\"},{\"line\":{\"color\":\"red\",\"dash\":\"dot\",\"width\":2},\"mode\":\"lines\",\"name\":\"\\u03bc\",\"x\":[-1.2062588823869658,-1.2062588823869658],\"y\":[0,0.12505011635934474],\"type\":\"scatter\",\"showlegend\":false},{\"line\":{\"color\":\"green\",\"dash\":\"dot\",\"width\":2},\"mode\":\"lines\",\"name\":\"\\u03bc - 1*\\u03c3\",\"x\":[-6.06155444881864,-6.06155444881864],\"y\":[0,0.12505011635934474],\"type\":\"scatter\",\"showlegend\":false},{\"line\":{\"color\":\"green\",\"dash\":\"dot\",\"width\":2},\"mode\":\"lines\",\"name\":\"\\u03bc + 1*\\u03c3\",\"x\":[3.649036684044708,3.649036684044708],\"y\":[0,0.12505011635934474],\"type\":\"scatter\",\"showlegend\":false},{\"line\":{\"color\":\"blue\",\"dash\":\"dot\",\"width\":2},\"mode\":\"lines\",\"name\":\"\\u03bc - 2*\\u03c3\",\"x\":[-10.916850015250313,-10.916850015250313],\"y\":[0,0.12505011635934474],\"type\":\"scatter\",\"showlegend\":false},{\"line\":{\"color\":\"blue\",\"dash\":\"dot\",\"width\":2},\"mode\":\"lines\",\"name\":\"\\u03bc + 2*\\u03c3\",\"x\":[8.504332250476383,8.504332250476383],\"y\":[0,0.12505011635934474],\"type\":\"scatter\",\"showlegend\":false},{\"line\":{\"color\":\"purple\",\"dash\":\"dot\",\"width\":2},\"mode\":\"lines\",\"name\":\"\\u03bc - 3*\\u03c3\",\"x\":[-15.772145581681986,-15.772145581681986],\"y\":[0,0.12505011635934474],\"type\":\"scatter\",\"showlegend\":false},{\"line\":{\"color\":\"purple\",\"dash\":\"dot\",\"width\":2},\"mode\":\"lines\",\"name\":\"\\u03bc + 3*\\u03c3\",\"x\":[13.359627816908056,13.359627816908056],\"y\":[0,0.12505011635934474],\"type\":\"scatter\",\"showlegend\":false}],                        {\"barmode\":\"overlay\",\"hovermode\":\"closest\",\"legend\":{\"traceorder\":\"reversed\",\"title\":{\"text\":\"Legend\"}},\"xaxis\":{\"anchor\":\"y2\",\"domain\":[0.0,1.0],\"zeroline\":false,\"title\":{\"text\":\"Mean Value\"},\"showgrid\":false},\"yaxis\":{\"anchor\":\"free\",\"domain\":[0.0,1],\"position\":0.0,\"title\":{\"text\":\"Density\"},\"showgrid\":false},\"template\":{\"data\":{\"histogram2dcontour\":[{\"type\":\"histogram2dcontour\",\"colorbar\":{\"outlinewidth\":0,\"ticks\":\"\"},\"colorscale\":[[0.0,\"#0d0887\"],[0.1111111111111111,\"#46039f\"],[0.2222222222222222,\"#7201a8\"],[0.3333333333333333,\"#9c179e\"],[0.4444444444444444,\"#bd3786\"],[0.5555555555555556,\"#d8576b\"],[0.6666666666666666,\"#ed7953\"],[0.7777777777777778,\"#fb9f3a\"],[0.8888888888888888,\"#fdca26\"],[1.0,\"#f0f921\"]]}],\"choropleth\":[{\"type\":\"choropleth\",\"colorbar\":{\"outlinewidth\":0,\"ticks\":\"\"}}],\"histogram2d\":[{\"type\":\"histogram2d\",\"colorbar\":{\"outlinewidth\":0,\"ticks\":\"\"},\"colorscale\":[[0.0,\"#0d0887\"],[0.1111111111111111,\"#46039f\"],[0.2222222222222222,\"#7201a8\"],[0.3333333333333333,\"#9c179e\"],[0.4444444444444444,\"#bd3786\"],[0.5555555555555556,\"#d8576b\"],[0.6666666666666666,\"#ed7953\"],[0.7777777777777778,\"#fb9f3a\"],[0.8888888888888888,\"#fdca26\"],[1.0,\"#f0f921\"]]}],\"heatmap\":[{\"type\":\"heatmap\",\"colorbar\":{\"outlinewidth\":0,\"ticks\":\"\"},\"colorscale\":[[0.0,\"#0d0887\"],[0.1111111111111111,\"#46039f\"],[0.2222222222222222,\"#7201a8\"],[0.3333333333333333,\"#9c179e\"],[0.4444444444444444,\"#bd3786\"],[0.5555555555555556,\"#d8576b\"],[0.6666666666666666,\"#ed7953\"],[0.7777777777777778,\"#fb9f3a\"],[0.8888888888888888,\"#fdca26\"],[1.0,\"#f0f921\"]]}],\"heatmapgl\":[{\"type\":\"heatmapgl\",\"colorbar\":{\"outlinewidth\":0,\"ticks\":\"\"},\"colorscale\":[[0.0,\"#0d0887\"],[0.1111111111111111,\"#46039f\"],[0.2222222222222222,\"#7201a8\"],[0.3333333333333333,\"#9c179e\"],[0.4444444444444444,\"#bd3786\"],[0.5555555555555556,\"#d8576b\"],[0.6666666666666666,\"#ed7953\"],[0.7777777777777778,\"#fb9f3a\"],[0.8888888888888888,\"#fdca26\"],[1.0,\"#f0f921\"]]}],\"contourcarpet\":[{\"type\":\"contourcarpet\",\"colorbar\":{\"outlinewidth\":0,\"ticks\":\"\"}}],\"contour\":[{\"type\":\"contour\",\"colorbar\":{\"outlinewidth\":0,\"ticks\":\"\"},\"colorscale\":[[0.0,\"#0d0887\"],[0.1111111111111111,\"#46039f\"],[0.2222222222222222,\"#7201a8\"],[0.3333333333333333,\"#9c179e\"],[0.4444444444444444,\"#bd3786\"],[0.5555555555555556,\"#d8576b\"],[0.6666666666666666,\"#ed7953\"],[0.7777777777777778,\"#fb9f3a\"],[0.8888888888888888,\"#fdca26\"],[1.0,\"#f0f921\"]]}],\"surface\":[{\"type\":\"surface\",\"colorbar\":{\"outlinewidth\":0,\"ticks\":\"\"},\"colorscale\":[[0.0,\"#0d0887\"],[0.1111111111111111,\"#46039f\"],[0.2222222222222222,\"#7201a8\"],[0.3333333333333333,\"#9c179e\"],[0.4444444444444444,\"#bd3786\"],[0.5555555555555556,\"#d8576b\"],[0.6666666666666666,\"#ed7953\"],[0.7777777777777778,\"#fb9f3a\"],[0.8888888888888888,\"#fdca26\"],[1.0,\"#f0f921\"]]}],\"mesh3d\":[{\"type\":\"mesh3d\",\"colorbar\":{\"outlinewidth\":0,\"ticks\":\"\"}}],\"scatter\":[{\"fillpattern\":{\"fillmode\":\"overlay\",\"size\":10,\"solidity\":0.2},\"type\":\"scatter\"}],\"parcoords\":[{\"type\":\"parcoords\",\"line\":{\"colorbar\":{\"outlinewidth\":0,\"ticks\":\"\"}}}],\"scatterpolargl\":[{\"type\":\"scatterpolargl\",\"marker\":{\"colorbar\":{\"outlinewidth\":0,\"ticks\":\"\"}}}],\"bar\":[{\"error_x\":{\"color\":\"#2a3f5f\"},\"error_y\":{\"color\":\"#2a3f5f\"},\"marker\":{\"line\":{\"color\":\"#E5ECF6\",\"width\":0.5},\"pattern\":{\"fillmode\":\"overlay\",\"size\":10,\"solidity\":0.2}},\"type\":\"bar\"}],\"scattergeo\":[{\"type\":\"scattergeo\",\"marker\":{\"colorbar\":{\"outlinewidth\":0,\"ticks\":\"\"}}}],\"scatterpolar\":[{\"type\":\"scatterpolar\",\"marker\":{\"colorbar\":{\"outlinewidth\":0,\"ticks\":\"\"}}}],\"histogram\":[{\"marker\":{\"pattern\":{\"fillmode\":\"overlay\",\"size\":10,\"solidity\":0.2}},\"type\":\"histogram\"}],\"scattergl\":[{\"type\":\"scattergl\",\"marker\":{\"colorbar\":{\"outlinewidth\":0,\"ticks\":\"\"}}}],\"scatter3d\":[{\"type\":\"scatter3d\",\"line\":{\"colorbar\":{\"outlinewidth\":0,\"ticks\":\"\"}},\"marker\":{\"colorbar\":{\"outlinewidth\":0,\"ticks\":\"\"}}}],\"scattermapbox\":[{\"type\":\"scattermapbox\",\"marker\":{\"colorbar\":{\"outlinewidth\":0,\"ticks\":\"\"}}}],\"scatterternary\":[{\"type\":\"scatterternary\",\"marker\":{\"colorbar\":{\"outlinewidth\":0,\"ticks\":\"\"}}}],\"scattercarpet\":[{\"type\":\"scattercarpet\",\"marker\":{\"colorbar\":{\"outlinewidth\":0,\"ticks\":\"\"}}}],\"carpet\":[{\"aaxis\":{\"endlinecolor\":\"#2a3f5f\",\"gridcolor\":\"white\",\"linecolor\":\"white\",\"minorgridcolor\":\"white\",\"startlinecolor\":\"#2a3f5f\"},\"baxis\":{\"endlinecolor\":\"#2a3f5f\",\"gridcolor\":\"white\",\"linecolor\":\"white\",\"minorgridcolor\":\"white\",\"startlinecolor\":\"#2a3f5f\"},\"type\":\"carpet\"}],\"table\":[{\"cells\":{\"fill\":{\"color\":\"#EBF0F8\"},\"line\":{\"color\":\"white\"}},\"header\":{\"fill\":{\"color\":\"#C8D4E3\"},\"line\":{\"color\":\"white\"}},\"type\":\"table\"}],\"barpolar\":[{\"marker\":{\"line\":{\"color\":\"#E5ECF6\",\"width\":0.5},\"pattern\":{\"fillmode\":\"overlay\",\"size\":10,\"solidity\":0.2}},\"type\":\"barpolar\"}],\"pie\":[{\"automargin\":true,\"type\":\"pie\"}]},\"layout\":{\"autotypenumbers\":\"strict\",\"colorway\":[\"#636efa\",\"#EF553B\",\"#00cc96\",\"#ab63fa\",\"#FFA15A\",\"#19d3f3\",\"#FF6692\",\"#B6E880\",\"#FF97FF\",\"#FECB52\"],\"font\":{\"color\":\"#2a3f5f\"},\"hovermode\":\"closest\",\"hoverlabel\":{\"align\":\"left\"},\"paper_bgcolor\":\"white\",\"plot_bgcolor\":\"#E5ECF6\",\"polar\":{\"bgcolor\":\"#E5ECF6\",\"angularaxis\":{\"gridcolor\":\"white\",\"linecolor\":\"white\",\"ticks\":\"\"},\"radialaxis\":{\"gridcolor\":\"white\",\"linecolor\":\"white\",\"ticks\":\"\"}},\"ternary\":{\"bgcolor\":\"#E5ECF6\",\"aaxis\":{\"gridcolor\":\"white\",\"linecolor\":\"white\",\"ticks\":\"\"},\"baxis\":{\"gridcolor\":\"white\",\"linecolor\":\"white\",\"ticks\":\"\"},\"caxis\":{\"gridcolor\":\"white\",\"linecolor\":\"white\",\"ticks\":\"\"}},\"coloraxis\":{\"colorbar\":{\"outlinewidth\":0,\"ticks\":\"\"}},\"colorscale\":{\"sequential\":[[0.0,\"#0d0887\"],[0.1111111111111111,\"#46039f\"],[0.2222222222222222,\"#7201a8\"],[0.3333333333333333,\"#9c179e\"],[0.4444444444444444,\"#bd3786\"],[0.5555555555555556,\"#d8576b\"],[0.6666666666666666,\"#ed7953\"],[0.7777777777777778,\"#fb9f3a\"],[0.8888888888888888,\"#fdca26\"],[1.0,\"#f0f921\"]],\"sequentialminus\":[[0.0,\"#0d0887\"],[0.1111111111111111,\"#46039f\"],[0.2222222222222222,\"#7201a8\"],[0.3333333333333333,\"#9c179e\"],[0.4444444444444444,\"#bd3786\"],[0.5555555555555556,\"#d8576b\"],[0.6666666666666666,\"#ed7953\"],[0.7777777777777778,\"#fb9f3a\"],[0.8888888888888888,\"#fdca26\"],[1.0,\"#f0f921\"]],\"diverging\":[[0,\"#8e0152\"],[0.1,\"#c51b7d\"],[0.2,\"#de77ae\"],[0.3,\"#f1b6da\"],[0.4,\"#fde0ef\"],[0.5,\"#f7f7f7\"],[0.6,\"#e6f5d0\"],[0.7,\"#b8e186\"],[0.8,\"#7fbc41\"],[0.9,\"#4d9221\"],[1,\"#276419\"]]},\"xaxis\":{\"gridcolor\":\"white\",\"linecolor\":\"white\",\"ticks\":\"\",\"title\":{\"standoff\":15},\"zerolinecolor\":\"white\",\"automargin\":true,\"zerolinewidth\":2},\"yaxis\":{\"gridcolor\":\"white\",\"linecolor\":\"white\",\"ticks\":\"\",\"title\":{\"standoff\":15},\"zerolinecolor\":\"white\",\"automargin\":true,\"zerolinewidth\":2},\"scene\":{\"xaxis\":{\"backgroundcolor\":\"#E5ECF6\",\"gridcolor\":\"white\",\"linecolor\":\"white\",\"showbackground\":true,\"ticks\":\"\",\"zerolinecolor\":\"white\",\"gridwidth\":2},\"yaxis\":{\"backgroundcolor\":\"#E5ECF6\",\"gridcolor\":\"white\",\"linecolor\":\"white\",\"showbackground\":true,\"ticks\":\"\",\"zerolinecolor\":\"white\",\"gridwidth\":2},\"zaxis\":{\"backgroundcolor\":\"#E5ECF6\",\"gridcolor\":\"white\",\"linecolor\":\"white\",\"showbackground\":true,\"ticks\":\"\",\"zerolinecolor\":\"white\",\"gridwidth\":2}},\"shapedefaults\":{\"line\":{\"color\":\"#2a3f5f\"}},\"annotationdefaults\":{\"arrowcolor\":\"#2a3f5f\",\"arrowhead\":0,\"arrowwidth\":1},\"geo\":{\"bgcolor\":\"white\",\"landcolor\":\"#E5ECF6\",\"subunitcolor\":\"white\",\"showland\":true,\"showlakes\":true,\"lakecolor\":\"white\"},\"title\":{\"x\":0.05},\"mapbox\":{\"style\":\"light\"}}},\"annotations\":[{\"font\":{\"color\":\"red\"},\"showarrow\":false,\"text\":\"\\u03bc\",\"x\":-1.2062588823869658,\"xshift\":0,\"y\":0,\"yshift\":-20},{\"font\":{\"color\":\"green\"},\"showarrow\":false,\"text\":\"\\u03bc - 1*\\u03c3\",\"x\":-6.06155444881864,\"xshift\":0,\"y\":0,\"yshift\":-20},{\"font\":{\"color\":\"green\"},\"showarrow\":false,\"text\":\"\\u03bc + 1*\\u03c3\",\"x\":3.649036684044708,\"xshift\":0,\"y\":0,\"yshift\":-20},{\"font\":{\"color\":\"blue\"},\"showarrow\":false,\"text\":\"\\u03bc - 2*\\u03c3\",\"x\":-10.916850015250313,\"xshift\":0,\"y\":0,\"yshift\":-20},{\"font\":{\"color\":\"blue\"},\"showarrow\":false,\"text\":\"\\u03bc + 2*\\u03c3\",\"x\":8.504332250476383,\"xshift\":0,\"y\":0,\"yshift\":-20},{\"font\":{\"color\":\"purple\"},\"showarrow\":false,\"text\":\"\\u03bc - 3*\\u03c3\",\"x\":-15.772145581681986,\"xshift\":0,\"y\":0,\"yshift\":-20},{\"font\":{\"color\":\"purple\"},\"showarrow\":false,\"text\":\"\\u03bc + 3*\\u03c3\",\"x\":13.359627816908056,\"xshift\":0,\"y\":0,\"yshift\":-20}],\"title\":{\"text\":\"KDE Plot of Column Means with Statistical Lines\"}},                        {\"responsive\": true}                    ).then(function(){\n",
       "                            \n",
       "var gd = document.getElementById('0524c0cd-84f0-452e-ab2f-5c8ffd32c020');\n",
       "var x = new MutationObserver(function (mutations, observer) {{\n",
       "        var display = window.getComputedStyle(gd).display;\n",
       "        if (!display || display === 'none') {{\n",
       "            console.log([gd, 'removed!']);\n",
       "            Plotly.purge(gd);\n",
       "            observer.disconnect();\n",
       "        }}\n",
       "}});\n",
       "\n",
       "// Listen for the removal of the full notebook cells\n",
       "var notebookContainer = gd.closest('#notebook-container');\n",
       "if (notebookContainer) {{\n",
       "    x.observe(notebookContainer, {childList: true});\n",
       "}}\n",
       "\n",
       "// Listen for the clearing of the current output cell\n",
       "var outputEl = gd.closest('.output');\n",
       "if (outputEl) {{\n",
       "    x.observe(outputEl, {childList: true});\n",
       "}}\n",
       "\n",
       "                        })                };                });            </script>        </div>"
      ]
     },
     "metadata": {},
     "output_type": "display_data"
    }
   ],
   "source": [
    "# Assuming 'df' is your DataFrame\n",
    "# Calculate the mean for each numeric column, ignoring NaN values\n",
    "means = df.select_dtypes(include=[np.number]).mean()\n",
    "\n",
    "# Compute overall mean and standard deviation of these means\n",
    "overall_mean = means.mean()\n",
    "overall_std = means.std()\n",
    "\n",
    "# Create a simple KDE plot using Plotly's Figure Factory\n",
    "fig = ff.create_distplot([means.dropna()], ['Column Means'], show_hist=False, show_rug=False)\n",
    "\n",
    "# Add vertical lines for mean and mean ± standard deviations\n",
    "lines = [overall_mean, overall_mean - overall_std, overall_mean + overall_std,\n",
    "         overall_mean - 2 * overall_std, overall_mean + 2 * overall_std,\n",
    "         overall_mean - 3 * overall_std, overall_mean + 3 * overall_std]\n",
    "colors = ['red', 'green', 'green', 'blue', 'blue', 'purple', 'purple']\n",
    "names = ['μ', 'μ - 1*σ', 'μ + 1*σ', 'μ - 2*σ', 'μ + 2*σ', 'μ - 3*σ', 'μ + 3*σ']\n",
    "line_style = dict(dash='dot', width=2)\n",
    "\n",
    "# Update density plot to have a filled color with transparency\n",
    "fig.data[0].update(\n",
    "    marker=dict(color='blue', line=dict(width=0)),\n",
    "    fill='tozeroy',\n",
    "    fillcolor='rgba(30,144,255,0.5)'\n",
    ")\n",
    "\n",
    "# Max density for y-scale of lines\n",
    "max_density = fig.data[0].y.max() * 1.1  # Scale it a bit for visual clarity\n",
    "\n",
    "# Add dotted vertical lines and x-axis annotations for the statistical measures\n",
    "for line, color, name in zip(lines, colors, names):\n",
    "    fig.add_trace(go.Scatter(\n",
    "        x=[line, line],\n",
    "        y=[0, max_density],  # Extend from 0 to max density for visibility\n",
    "        mode='lines',\n",
    "        line=dict(color=color, **line_style),\n",
    "        name=name\n",
    "    ))\n",
    "\n",
    "    # Add annotations directly on the x-axis for each line\n",
    "    fig.add_annotation(\n",
    "        x=line, y=0,\n",
    "        text=name,\n",
    "        showarrow=False,\n",
    "        yshift=-20,\n",
    "        xshift=-5 if 'Mean' in name else 0,\n",
    "        font=dict(color=color)\n",
    "    )\n",
    "\n",
    "# Remove legend for vertical lines\n",
    "fig.for_each_trace(\n",
    "    lambda trace: trace.update(showlegend=False) if trace.name in names else (),\n",
    ")\n",
    "\n",
    "# Update layout for better visualization\n",
    "fig.update_layout(\n",
    "    title='KDE Plot of Column Means with Statistical Lines',\n",
    "    xaxis_title='Mean Value',\n",
    "    yaxis_title='Density',\n",
    "    legend_title='Legend',\n",
    "    xaxis=dict(showgrid=False),\n",
    "    yaxis=dict(showgrid=False)\n",
    ")\n",
    "\n",
    "# Show the plot\n",
    "fig.show()"
   ]
  },
  {
   "cell_type": "code",
   "execution_count": 12,
   "id": "721c13a3-8198-43e4-93b2-3e63657ca907",
   "metadata": {},
   "outputs": [],
   "source": [
    "# Define a function to categorize based on the overall mean and standard deviation\n",
    "def categorize_value(x, overall_mean, overall_std):\n",
    "    if x == 0:\n",
    "        return 0\n",
    "    elif x > overall_mean + overall_std:\n",
    "        return 1\n",
    "    elif x < overall_mean - overall_std:\n",
    "        return -1\n",
    "    else:\n",
    "        return 0"
   ]
  },
  {
   "cell_type": "code",
   "execution_count": 13,
   "id": "b3f1781a-c719-4aa5-844a-2849ac9c527c",
   "metadata": {},
   "outputs": [],
   "source": [
    "# Custom function to calculate Mean Absolute Deviation\n",
    "def calculate_mad(column):\n",
    "    mean = column.mean()\n",
    "    return (column - mean).abs().mean()"
   ]
  },
  {
   "cell_type": "code",
   "execution_count": 14,
   "id": "835650a2-04df-4464-95ff-837ba47c7e59",
   "metadata": {},
   "outputs": [],
   "source": [
    "def silhouette_plot(k, cluster_labels, silhouette_avg, sample_silhouette_values, folder_path, top_n_percent):\n",
    "    fig = go.Figure()\n",
    "    y_lower = 10  # Initial lower margin for the silhouette plot\n",
    "    cluster_info = []  # To store info about clusters for the legend\n",
    "\n",
    "    for i in range(k):\n",
    "        # Aggregate the silhouette scores for samples belonging to cluster i, and sort them\n",
    "        ith_cluster_silhouette_values = sample_silhouette_values[cluster_labels == i]\n",
    "        ith_cluster_silhouette_values.sort()\n",
    "        \n",
    "        size_cluster_i = ith_cluster_silhouette_values.shape[0]\n",
    "        y_upper = y_lower + size_cluster_i\n",
    "        cluster_info.append(f\"Cluster {i} [{size_cluster_i} patients]\")  # Append cluster info for legend\n",
    "\n",
    "        fig.add_trace(go.Scatter(\n",
    "            x=ith_cluster_silhouette_values,\n",
    "            y=np.arange(y_lower, y_upper),\n",
    "            mode='lines',\n",
    "            line=dict(width=0.5),\n",
    "            fill='tozerox',\n",
    "            name=f'Cluster {i} [{size_cluster_i} patients]'\n",
    "        ))\n",
    "\n",
    "        y_lower = y_upper + 10  # Gap between silhouettes\n",
    "\n",
    "    # Red dashed line for average silhouette score\n",
    "    fig.add_trace(go.Scatter(\n",
    "        x=[silhouette_avg, silhouette_avg],\n",
    "        y=[0, y_lower],\n",
    "        mode='lines',\n",
    "        line=dict(color=\"red\", dash='dash', width=2),\n",
    "        name='Average silhouette score'\n",
    "    ))\n",
    "\n",
    "    # Update plot layout\n",
    "    fig.update_layout(\n",
    "        title=f'Silhouette Analysis for k={k} Clusters for top {top_n_percent}% features <br>Average silhouette score {silhouette_avg:.4f}',\n",
    "        xaxis_title='Silhouette Coefficient Values',\n",
    "        yaxis_title='Cluster Label',\n",
    "        yaxis=dict(range=[-0.1, y_lower + 10], showticklabels=False),\n",
    "        showlegend=True\n",
    "    )\n",
    "\n",
    "    # Save and display the figure\n",
    "    fig.write_html(f\"{folder_path}/silhouette_plot_k_{k}_top_feature_{top_n_percent}.html\")\n",
    "    #fig.show()"
   ]
  },
  {
   "cell_type": "code",
   "execution_count": 15,
   "id": "7fd1ddcd-4ff6-4552-ba16-5430b4fa5722",
   "metadata": {},
   "outputs": [],
   "source": [
    "def kmeans_silhouette_score(scaled_data, n_clusters, result_path, original_indices, top_percentage):\n",
    "    # Initialize and run KMeans clustering with varying number of clusters\n",
    "    #display(scaled_data)\n",
    "    kmeans = KMeans(n_clusters=n_clusters, max_iter=300, tol=1e-04, init='k-means++', n_init=10, random_state=42)\n",
    "    labels = kmeans.fit_predict(scaled_data)\n",
    "    # Calculate and return the silhouette score\n",
    "    score = silhouette_score(scaled_data, labels)\n",
    "    sample_silhouette_values = silhouette_samples(scaled_data, labels)\n",
    "    silhouette_plot(k,labels, score, sample_silhouette_values, result_path, top_percentage)\n",
    "    \n",
    "\n",
    "    # Create text files for each cluster\n",
    "    for i in range(n_clusters):\n",
    "        cluster_file_path = f\"{result_path}/cluster_{i}.txt\"\n",
    "        with open(cluster_file_path, 'w') as file:\n",
    "            indices = original_indices[labels == i]\n",
    "            for idx in indices:\n",
    "                file.write(str(idx) + '\\n')\n",
    "    return score"
   ]
  },
  {
   "cell_type": "code",
   "execution_count": 16,
   "id": "3f5ceb57-b8b9-4f69-859c-b560aa151d99",
   "metadata": {},
   "outputs": [],
   "source": [
    "def data_categorized_mad(data):\n",
    "    # Assuming 'df' is your DataFrame\n",
    "    # Calculate the mean for each numeric column, ignoring NaN values\n",
    "    means = data.select_dtypes(include=[np.number]).mean()\n",
    "    \n",
    "    # Compute overall mean and standard deviation of these means\n",
    "    overall_mean = means.mean()\n",
    "    overall_std = means.std()\n",
    "    \n",
    "    # Replace NaN values with 0\n",
    "    data.fillna(0, inplace=True)\n",
    "    \n",
    "    # Apply the categorization function to each element of the dataframe\n",
    "    for col in data.select_dtypes(include=[np.number]).columns:\n",
    "        data[col] = data[col].apply(lambda x: categorize_value(x, overall_mean, overall_std))\n",
    "    #display(data)\n",
    "    # Calculate MAD for each numeric column\n",
    "    mad_values = {col: calculate_mad(data[col]) for col in data.select_dtypes(include=[np.number]).columns}\n",
    "\n",
    "    # Sort columns by MAD in descending order\n",
    "    mad_sorted = sorted(mad_values.items(), key=lambda x: x[1], reverse=True)\n",
    "    return (data, mad_values, mad_sorted)"
   ]
  },
  {
   "cell_type": "code",
   "execution_count": 17,
   "id": "5d31f3b5-c765-4ec2-9a45-025a65a20189",
   "metadata": {},
   "outputs": [],
   "source": [
    "data_processed, mad_values, mad_sorted = data_categorized_mad(df)"
   ]
  },
  {
   "cell_type": "code",
   "execution_count": 18,
   "id": "03269f3e-a215-4807-a7e6-5a2b979baf03",
   "metadata": {},
   "outputs": [
    {
     "name": "stdout",
     "output_type": "stream",
     "text": [
      "Columns ranked by MAD (in descending order):\n",
      "chr15_69822788_69822867_69822801_69822803_CA_C: 0.49982853223593965\n",
      "chr4_98296952_98297031_98296956_98296957_G_GA: 0.49982853223593965\n",
      "chr15_99014532_99014611_99014555_99014556_G_GC: 0.49961419753086417\n",
      "chr1_179366088_179366167_179366118_179366119_T_TG: 0.49931412894375854\n",
      "chr5_10986598_10986677_10986609_10986610_A_AG: 0.49931412894375854\n",
      "chr4_143970500_143970579_143970554_143970555_C_CTAT: 0.49892832647462276\n",
      "chr9_94259307_94259386_94259339_94259342_TGC_T: 0.49892832647462276\n",
      "chr6_96785293_96785372_96785319_96785322_CCA_C: 0.49789951989026066\n",
      "chr19_36572293_36572372_36572315_36572316_C_CA: 0.4972565157750343\n",
      "chr14_90894373_90894452_90894388_90894389_G_GT: 0.4965277777777778\n"
     ]
    }
   ],
   "source": [
    "print(\"Columns ranked by MAD (in descending order):\")\n",
    "for col, mad in mad_sorted[0:10]:\n",
    "    print(f\"{col}: {mad}\")"
   ]
  },
  {
   "cell_type": "code",
   "execution_count": 19,
   "id": "d60cd6be-89fa-4821-bb3c-e630a382ab1e",
   "metadata": {},
   "outputs": [
    {
     "name": "stdout",
     "output_type": "stream",
     "text": [
      "Code is running for Cluster 2\n",
      "Code is running for Cluster 3\n",
      "Code is running for Cluster 4\n",
      "Code is running for Cluster 5\n"
     ]
    },
    {
     "data": {
      "application/vnd.plotly.v1+json": {
       "config": {
        "plotlyServerURL": "https://plot.ly"
       },
       "data": [
        {
         "mode": "lines+markers",
         "name": "k=2",
         "type": "scatter",
         "x": [
          "10%",
          "15%",
          "20%",
          "25%",
          "30%",
          "35%",
          "40%",
          "45%",
          "50%",
          "60%",
          "70%",
          "80%",
          "90%",
          "100%"
         ],
         "y": [
          0.020407186378938538,
          0.5068584314757825,
          0.5262632063488089,
          0.47939343161416975,
          0.43587094266297843,
          0.42202945379187634,
          0.42202945379187634,
          0.42202945379187634,
          0.42202945379187634,
          0.42202945379187634,
          0.42202945379187634,
          0.42202945379187634,
          0.42202945379187634,
          0.42202945379187634
         ]
        },
        {
         "mode": "lines+markers",
         "name": "k=3",
         "type": "scatter",
         "x": [
          "10%",
          "15%",
          "20%",
          "25%",
          "30%",
          "35%",
          "40%",
          "45%",
          "50%",
          "60%",
          "70%",
          "80%",
          "90%",
          "100%"
         ],
         "y": [
          0.023520641424545043,
          0.02011303297898333,
          -0.051131275887128076,
          -0.01210339549857924,
          0.19763315715264854,
          0.11152760120522716,
          0.11152760120522716,
          0.11152760120522716,
          0.11152760120522716,
          0.11152760120522716,
          0.11152760120522716,
          0.11152760120522716,
          0.11152760120522716,
          0.11152760120522716
         ]
        },
        {
         "mode": "lines+markers",
         "name": "k=4",
         "type": "scatter",
         "x": [
          "10%",
          "15%",
          "20%",
          "25%",
          "30%",
          "35%",
          "40%",
          "45%",
          "50%",
          "60%",
          "70%",
          "80%",
          "90%",
          "100%"
         ],
         "y": [
          0.015231756477858164,
          0.01725099235358982,
          0.20820717655558799,
          0.1463243105887432,
          0.21134399763449013,
          0.05580454815623425,
          0.05580454815623425,
          0.05580454815623425,
          0.05580454815623425,
          0.05580454815623425,
          0.05580454815623425,
          0.05580454815623425,
          0.05580454815623425,
          0.05580454815623425
         ]
        },
        {
         "mode": "lines+markers",
         "name": "k=5",
         "type": "scatter",
         "x": [
          "10%",
          "15%",
          "20%",
          "25%",
          "30%",
          "35%",
          "40%",
          "45%",
          "50%",
          "60%",
          "70%",
          "80%",
          "90%",
          "100%"
         ],
         "y": [
          0.028551331404622477,
          0.014085239523216012,
          0.002961774928793103,
          0.004361314447588547,
          0.1248583533934122,
          0.31842648069343793,
          0.31842648069343793,
          0.31842648069343793,
          0.31842648069343793,
          0.31842648069343793,
          0.31842648069343793,
          0.31842648069343793,
          0.31842648069343793,
          0.31842648069343793
         ]
        }
       ],
       "layout": {
        "autosize": true,
        "legend": {
         "title": {
          "text": "Number of Clusters"
         }
        },
        "template": {
         "data": {
          "bar": [
           {
            "error_x": {
             "color": "#2a3f5f"
            },
            "error_y": {
             "color": "#2a3f5f"
            },
            "marker": {
             "line": {
              "color": "#E5ECF6",
              "width": 0.5
             },
             "pattern": {
              "fillmode": "overlay",
              "size": 10,
              "solidity": 0.2
             }
            },
            "type": "bar"
           }
          ],
          "barpolar": [
           {
            "marker": {
             "line": {
              "color": "#E5ECF6",
              "width": 0.5
             },
             "pattern": {
              "fillmode": "overlay",
              "size": 10,
              "solidity": 0.2
             }
            },
            "type": "barpolar"
           }
          ],
          "carpet": [
           {
            "aaxis": {
             "endlinecolor": "#2a3f5f",
             "gridcolor": "white",
             "linecolor": "white",
             "minorgridcolor": "white",
             "startlinecolor": "#2a3f5f"
            },
            "baxis": {
             "endlinecolor": "#2a3f5f",
             "gridcolor": "white",
             "linecolor": "white",
             "minorgridcolor": "white",
             "startlinecolor": "#2a3f5f"
            },
            "type": "carpet"
           }
          ],
          "choropleth": [
           {
            "colorbar": {
             "outlinewidth": 0,
             "ticks": ""
            },
            "type": "choropleth"
           }
          ],
          "contour": [
           {
            "colorbar": {
             "outlinewidth": 0,
             "ticks": ""
            },
            "colorscale": [
             [
              0,
              "#0d0887"
             ],
             [
              0.1111111111111111,
              "#46039f"
             ],
             [
              0.2222222222222222,
              "#7201a8"
             ],
             [
              0.3333333333333333,
              "#9c179e"
             ],
             [
              0.4444444444444444,
              "#bd3786"
             ],
             [
              0.5555555555555556,
              "#d8576b"
             ],
             [
              0.6666666666666666,
              "#ed7953"
             ],
             [
              0.7777777777777778,
              "#fb9f3a"
             ],
             [
              0.8888888888888888,
              "#fdca26"
             ],
             [
              1,
              "#f0f921"
             ]
            ],
            "type": "contour"
           }
          ],
          "contourcarpet": [
           {
            "colorbar": {
             "outlinewidth": 0,
             "ticks": ""
            },
            "type": "contourcarpet"
           }
          ],
          "heatmap": [
           {
            "colorbar": {
             "outlinewidth": 0,
             "ticks": ""
            },
            "colorscale": [
             [
              0,
              "#0d0887"
             ],
             [
              0.1111111111111111,
              "#46039f"
             ],
             [
              0.2222222222222222,
              "#7201a8"
             ],
             [
              0.3333333333333333,
              "#9c179e"
             ],
             [
              0.4444444444444444,
              "#bd3786"
             ],
             [
              0.5555555555555556,
              "#d8576b"
             ],
             [
              0.6666666666666666,
              "#ed7953"
             ],
             [
              0.7777777777777778,
              "#fb9f3a"
             ],
             [
              0.8888888888888888,
              "#fdca26"
             ],
             [
              1,
              "#f0f921"
             ]
            ],
            "type": "heatmap"
           }
          ],
          "heatmapgl": [
           {
            "colorbar": {
             "outlinewidth": 0,
             "ticks": ""
            },
            "colorscale": [
             [
              0,
              "#0d0887"
             ],
             [
              0.1111111111111111,
              "#46039f"
             ],
             [
              0.2222222222222222,
              "#7201a8"
             ],
             [
              0.3333333333333333,
              "#9c179e"
             ],
             [
              0.4444444444444444,
              "#bd3786"
             ],
             [
              0.5555555555555556,
              "#d8576b"
             ],
             [
              0.6666666666666666,
              "#ed7953"
             ],
             [
              0.7777777777777778,
              "#fb9f3a"
             ],
             [
              0.8888888888888888,
              "#fdca26"
             ],
             [
              1,
              "#f0f921"
             ]
            ],
            "type": "heatmapgl"
           }
          ],
          "histogram": [
           {
            "marker": {
             "pattern": {
              "fillmode": "overlay",
              "size": 10,
              "solidity": 0.2
             }
            },
            "type": "histogram"
           }
          ],
          "histogram2d": [
           {
            "colorbar": {
             "outlinewidth": 0,
             "ticks": ""
            },
            "colorscale": [
             [
              0,
              "#0d0887"
             ],
             [
              0.1111111111111111,
              "#46039f"
             ],
             [
              0.2222222222222222,
              "#7201a8"
             ],
             [
              0.3333333333333333,
              "#9c179e"
             ],
             [
              0.4444444444444444,
              "#bd3786"
             ],
             [
              0.5555555555555556,
              "#d8576b"
             ],
             [
              0.6666666666666666,
              "#ed7953"
             ],
             [
              0.7777777777777778,
              "#fb9f3a"
             ],
             [
              0.8888888888888888,
              "#fdca26"
             ],
             [
              1,
              "#f0f921"
             ]
            ],
            "type": "histogram2d"
           }
          ],
          "histogram2dcontour": [
           {
            "colorbar": {
             "outlinewidth": 0,
             "ticks": ""
            },
            "colorscale": [
             [
              0,
              "#0d0887"
             ],
             [
              0.1111111111111111,
              "#46039f"
             ],
             [
              0.2222222222222222,
              "#7201a8"
             ],
             [
              0.3333333333333333,
              "#9c179e"
             ],
             [
              0.4444444444444444,
              "#bd3786"
             ],
             [
              0.5555555555555556,
              "#d8576b"
             ],
             [
              0.6666666666666666,
              "#ed7953"
             ],
             [
              0.7777777777777778,
              "#fb9f3a"
             ],
             [
              0.8888888888888888,
              "#fdca26"
             ],
             [
              1,
              "#f0f921"
             ]
            ],
            "type": "histogram2dcontour"
           }
          ],
          "mesh3d": [
           {
            "colorbar": {
             "outlinewidth": 0,
             "ticks": ""
            },
            "type": "mesh3d"
           }
          ],
          "parcoords": [
           {
            "line": {
             "colorbar": {
              "outlinewidth": 0,
              "ticks": ""
             }
            },
            "type": "parcoords"
           }
          ],
          "pie": [
           {
            "automargin": true,
            "type": "pie"
           }
          ],
          "scatter": [
           {
            "fillpattern": {
             "fillmode": "overlay",
             "size": 10,
             "solidity": 0.2
            },
            "type": "scatter"
           }
          ],
          "scatter3d": [
           {
            "line": {
             "colorbar": {
              "outlinewidth": 0,
              "ticks": ""
             }
            },
            "marker": {
             "colorbar": {
              "outlinewidth": 0,
              "ticks": ""
             }
            },
            "type": "scatter3d"
           }
          ],
          "scattercarpet": [
           {
            "marker": {
             "colorbar": {
              "outlinewidth": 0,
              "ticks": ""
             }
            },
            "type": "scattercarpet"
           }
          ],
          "scattergeo": [
           {
            "marker": {
             "colorbar": {
              "outlinewidth": 0,
              "ticks": ""
             }
            },
            "type": "scattergeo"
           }
          ],
          "scattergl": [
           {
            "marker": {
             "colorbar": {
              "outlinewidth": 0,
              "ticks": ""
             }
            },
            "type": "scattergl"
           }
          ],
          "scattermapbox": [
           {
            "marker": {
             "colorbar": {
              "outlinewidth": 0,
              "ticks": ""
             }
            },
            "type": "scattermapbox"
           }
          ],
          "scatterpolar": [
           {
            "marker": {
             "colorbar": {
              "outlinewidth": 0,
              "ticks": ""
             }
            },
            "type": "scatterpolar"
           }
          ],
          "scatterpolargl": [
           {
            "marker": {
             "colorbar": {
              "outlinewidth": 0,
              "ticks": ""
             }
            },
            "type": "scatterpolargl"
           }
          ],
          "scatterternary": [
           {
            "marker": {
             "colorbar": {
              "outlinewidth": 0,
              "ticks": ""
             }
            },
            "type": "scatterternary"
           }
          ],
          "surface": [
           {
            "colorbar": {
             "outlinewidth": 0,
             "ticks": ""
            },
            "colorscale": [
             [
              0,
              "#0d0887"
             ],
             [
              0.1111111111111111,
              "#46039f"
             ],
             [
              0.2222222222222222,
              "#7201a8"
             ],
             [
              0.3333333333333333,
              "#9c179e"
             ],
             [
              0.4444444444444444,
              "#bd3786"
             ],
             [
              0.5555555555555556,
              "#d8576b"
             ],
             [
              0.6666666666666666,
              "#ed7953"
             ],
             [
              0.7777777777777778,
              "#fb9f3a"
             ],
             [
              0.8888888888888888,
              "#fdca26"
             ],
             [
              1,
              "#f0f921"
             ]
            ],
            "type": "surface"
           }
          ],
          "table": [
           {
            "cells": {
             "fill": {
              "color": "#EBF0F8"
             },
             "line": {
              "color": "white"
             }
            },
            "header": {
             "fill": {
              "color": "#C8D4E3"
             },
             "line": {
              "color": "white"
             }
            },
            "type": "table"
           }
          ]
         },
         "layout": {
          "annotationdefaults": {
           "arrowcolor": "#2a3f5f",
           "arrowhead": 0,
           "arrowwidth": 1
          },
          "autotypenumbers": "strict",
          "coloraxis": {
           "colorbar": {
            "outlinewidth": 0,
            "ticks": ""
           }
          },
          "colorscale": {
           "diverging": [
            [
             0,
             "#8e0152"
            ],
            [
             0.1,
             "#c51b7d"
            ],
            [
             0.2,
             "#de77ae"
            ],
            [
             0.3,
             "#f1b6da"
            ],
            [
             0.4,
             "#fde0ef"
            ],
            [
             0.5,
             "#f7f7f7"
            ],
            [
             0.6,
             "#e6f5d0"
            ],
            [
             0.7,
             "#b8e186"
            ],
            [
             0.8,
             "#7fbc41"
            ],
            [
             0.9,
             "#4d9221"
            ],
            [
             1,
             "#276419"
            ]
           ],
           "sequential": [
            [
             0,
             "#0d0887"
            ],
            [
             0.1111111111111111,
             "#46039f"
            ],
            [
             0.2222222222222222,
             "#7201a8"
            ],
            [
             0.3333333333333333,
             "#9c179e"
            ],
            [
             0.4444444444444444,
             "#bd3786"
            ],
            [
             0.5555555555555556,
             "#d8576b"
            ],
            [
             0.6666666666666666,
             "#ed7953"
            ],
            [
             0.7777777777777778,
             "#fb9f3a"
            ],
            [
             0.8888888888888888,
             "#fdca26"
            ],
            [
             1,
             "#f0f921"
            ]
           ],
           "sequentialminus": [
            [
             0,
             "#0d0887"
            ],
            [
             0.1111111111111111,
             "#46039f"
            ],
            [
             0.2222222222222222,
             "#7201a8"
            ],
            [
             0.3333333333333333,
             "#9c179e"
            ],
            [
             0.4444444444444444,
             "#bd3786"
            ],
            [
             0.5555555555555556,
             "#d8576b"
            ],
            [
             0.6666666666666666,
             "#ed7953"
            ],
            [
             0.7777777777777778,
             "#fb9f3a"
            ],
            [
             0.8888888888888888,
             "#fdca26"
            ],
            [
             1,
             "#f0f921"
            ]
           ]
          },
          "colorway": [
           "#636efa",
           "#EF553B",
           "#00cc96",
           "#ab63fa",
           "#FFA15A",
           "#19d3f3",
           "#FF6692",
           "#B6E880",
           "#FF97FF",
           "#FECB52"
          ],
          "font": {
           "color": "#2a3f5f"
          },
          "geo": {
           "bgcolor": "white",
           "lakecolor": "white",
           "landcolor": "#E5ECF6",
           "showlakes": true,
           "showland": true,
           "subunitcolor": "white"
          },
          "hoverlabel": {
           "align": "left"
          },
          "hovermode": "closest",
          "mapbox": {
           "style": "light"
          },
          "paper_bgcolor": "white",
          "plot_bgcolor": "#E5ECF6",
          "polar": {
           "angularaxis": {
            "gridcolor": "white",
            "linecolor": "white",
            "ticks": ""
           },
           "bgcolor": "#E5ECF6",
           "radialaxis": {
            "gridcolor": "white",
            "linecolor": "white",
            "ticks": ""
           }
          },
          "scene": {
           "xaxis": {
            "backgroundcolor": "#E5ECF6",
            "gridcolor": "white",
            "gridwidth": 2,
            "linecolor": "white",
            "showbackground": true,
            "ticks": "",
            "zerolinecolor": "white"
           },
           "yaxis": {
            "backgroundcolor": "#E5ECF6",
            "gridcolor": "white",
            "gridwidth": 2,
            "linecolor": "white",
            "showbackground": true,
            "ticks": "",
            "zerolinecolor": "white"
           },
           "zaxis": {
            "backgroundcolor": "#E5ECF6",
            "gridcolor": "white",
            "gridwidth": 2,
            "linecolor": "white",
            "showbackground": true,
            "ticks": "",
            "zerolinecolor": "white"
           }
          },
          "shapedefaults": {
           "line": {
            "color": "#2a3f5f"
           }
          },
          "ternary": {
           "aaxis": {
            "gridcolor": "white",
            "linecolor": "white",
            "ticks": ""
           },
           "baxis": {
            "gridcolor": "white",
            "linecolor": "white",
            "ticks": ""
           },
           "bgcolor": "#E5ECF6",
           "caxis": {
            "gridcolor": "white",
            "linecolor": "white",
            "ticks": ""
           }
          },
          "title": {
           "x": 0.05
          },
          "xaxis": {
           "automargin": true,
           "gridcolor": "white",
           "linecolor": "white",
           "ticks": "",
           "title": {
            "standoff": 15
           },
           "zerolinecolor": "white",
           "zerolinewidth": 2
          },
          "yaxis": {
           "automargin": true,
           "gridcolor": "white",
           "linecolor": "white",
           "ticks": "",
           "title": {
            "standoff": 15
           },
           "zerolinecolor": "white",
           "zerolinewidth": 2
          }
         }
        },
        "title": {
         "text": "Silhouette Scores for Different Numbers of Clusters"
        },
        "xaxis": {
         "autorange": true,
         "range": [
          -0.7603704486231425,
          13.760370448623142
         ],
         "title": {
          "text": "Percentage of Columns Used"
         },
         "type": "category"
        },
        "yaxis": {
         "autorange": true,
         "range": [
          -0.09878033510077336,
          0.5739122655624541
         ],
         "title": {
          "text": "Silhouette Score"
         },
         "type": "linear"
        }
       }
      },
      "image/png": "[encoded data removed]",
      "text/html": [
       "<div>                            <div id=\"2ffe7f53-962b-4819-8271-b645bbbf92e2\" class=\"plotly-graph-div\" style=\"height:525px; width:100%;\"></div>            <script type=\"text/javascript\">                require([\"plotly\"], function(Plotly) {                    window.PLOTLYENV=window.PLOTLYENV || {};                                    if (document.getElementById(\"2ffe7f53-962b-4819-8271-b645bbbf92e2\")) {                    Plotly.newPlot(                        \"2ffe7f53-962b-4819-8271-b645bbbf92e2\",                        [{\"mode\":\"lines+markers\",\"name\":\"k=2\",\"x\":[\"10%\",\"15%\",\"20%\",\"25%\",\"30%\",\"35%\",\"40%\",\"45%\",\"50%\",\"60%\",\"70%\",\"80%\",\"90%\",\"100%\"],\"y\":[0.020407186378938538,0.5068584314757825,0.5262632063488089,0.47939343161416975,0.43587094266297843,0.42202945379187634,0.42202945379187634,0.42202945379187634,0.42202945379187634,0.42202945379187634,0.42202945379187634,0.42202945379187634,0.42202945379187634,0.42202945379187634],\"type\":\"scatter\"},{\"mode\":\"lines+markers\",\"name\":\"k=3\",\"x\":[\"10%\",\"15%\",\"20%\",\"25%\",\"30%\",\"35%\",\"40%\",\"45%\",\"50%\",\"60%\",\"70%\",\"80%\",\"90%\",\"100%\"],\"y\":[0.023520641424545043,0.02011303297898333,-0.051131275887128076,-0.01210339549857924,0.19763315715264854,0.11152760120522716,0.11152760120522716,0.11152760120522716,0.11152760120522716,0.11152760120522716,0.11152760120522716,0.11152760120522716,0.11152760120522716,0.11152760120522716],\"type\":\"scatter\"},{\"mode\":\"lines+markers\",\"name\":\"k=4\",\"x\":[\"10%\",\"15%\",\"20%\",\"25%\",\"30%\",\"35%\",\"40%\",\"45%\",\"50%\",\"60%\",\"70%\",\"80%\",\"90%\",\"100%\"],\"y\":[0.015231756477858164,0.01725099235358982,0.20820717655558799,0.1463243105887432,0.21134399763449013,0.05580454815623425,0.05580454815623425,0.05580454815623425,0.05580454815623425,0.05580454815623425,0.05580454815623425,0.05580454815623425,0.05580454815623425,0.05580454815623425],\"type\":\"scatter\"},{\"mode\":\"lines+markers\",\"name\":\"k=5\",\"x\":[\"10%\",\"15%\",\"20%\",\"25%\",\"30%\",\"35%\",\"40%\",\"45%\",\"50%\",\"60%\",\"70%\",\"80%\",\"90%\",\"100%\"],\"y\":[0.028551331404622477,0.014085239523216012,0.002961774928793103,0.004361314447588547,0.1248583533934122,0.31842648069343793,0.31842648069343793,0.31842648069343793,0.31842648069343793,0.31842648069343793,0.31842648069343793,0.31842648069343793,0.31842648069343793,0.31842648069343793],\"type\":\"scatter\"}],                        {\"template\":{\"data\":{\"histogram2dcontour\":[{\"type\":\"histogram2dcontour\",\"colorbar\":{\"outlinewidth\":0,\"ticks\":\"\"},\"colorscale\":[[0.0,\"#0d0887\"],[0.1111111111111111,\"#46039f\"],[0.2222222222222222,\"#7201a8\"],[0.3333333333333333,\"#9c179e\"],[0.4444444444444444,\"#bd3786\"],[0.5555555555555556,\"#d8576b\"],[0.6666666666666666,\"#ed7953\"],[0.7777777777777778,\"#fb9f3a\"],[0.8888888888888888,\"#fdca26\"],[1.0,\"#f0f921\"]]}],\"choropleth\":[{\"type\":\"choropleth\",\"colorbar\":{\"outlinewidth\":0,\"ticks\":\"\"}}],\"histogram2d\":[{\"type\":\"histogram2d\",\"colorbar\":{\"outlinewidth\":0,\"ticks\":\"\"},\"colorscale\":[[0.0,\"#0d0887\"],[0.1111111111111111,\"#46039f\"],[0.2222222222222222,\"#7201a8\"],[0.3333333333333333,\"#9c179e\"],[0.4444444444444444,\"#bd3786\"],[0.5555555555555556,\"#d8576b\"],[0.6666666666666666,\"#ed7953\"],[0.7777777777777778,\"#fb9f3a\"],[0.8888888888888888,\"#fdca26\"],[1.0,\"#f0f921\"]]}],\"heatmap\":[{\"type\":\"heatmap\",\"colorbar\":{\"outlinewidth\":0,\"ticks\":\"\"},\"colorscale\":[[0.0,\"#0d0887\"],[0.1111111111111111,\"#46039f\"],[0.2222222222222222,\"#7201a8\"],[0.3333333333333333,\"#9c179e\"],[0.4444444444444444,\"#bd3786\"],[0.5555555555555556,\"#d8576b\"],[0.6666666666666666,\"#ed7953\"],[0.7777777777777778,\"#fb9f3a\"],[0.8888888888888888,\"#fdca26\"],[1.0,\"#f0f921\"]]}],\"heatmapgl\":[{\"type\":\"heatmapgl\",\"colorbar\":{\"outlinewidth\":0,\"ticks\":\"\"},\"colorscale\":[[0.0,\"#0d0887\"],[0.1111111111111111,\"#46039f\"],[0.2222222222222222,\"#7201a8\"],[0.3333333333333333,\"#9c179e\"],[0.4444444444444444,\"#bd3786\"],[0.5555555555555556,\"#d8576b\"],[0.6666666666666666,\"#ed7953\"],[0.7777777777777778,\"#fb9f3a\"],[0.8888888888888888,\"#fdca26\"],[1.0,\"#f0f921\"]]}],\"contourcarpet\":[{\"type\":\"contourcarpet\",\"colorbar\":{\"outlinewidth\":0,\"ticks\":\"\"}}],\"contour\":[{\"type\":\"contour\",\"colorbar\":{\"outlinewidth\":0,\"ticks\":\"\"},\"colorscale\":[[0.0,\"#0d0887\"],[0.1111111111111111,\"#46039f\"],[0.2222222222222222,\"#7201a8\"],[0.3333333333333333,\"#9c179e\"],[0.4444444444444444,\"#bd3786\"],[0.5555555555555556,\"#d8576b\"],[0.6666666666666666,\"#ed7953\"],[0.7777777777777778,\"#fb9f3a\"],[0.8888888888888888,\"#fdca26\"],[1.0,\"#f0f921\"]]}],\"surface\":[{\"type\":\"surface\",\"colorbar\":{\"outlinewidth\":0,\"ticks\":\"\"},\"colorscale\":[[0.0,\"#0d0887\"],[0.1111111111111111,\"#46039f\"],[0.2222222222222222,\"#7201a8\"],[0.3333333333333333,\"#9c179e\"],[0.4444444444444444,\"#bd3786\"],[0.5555555555555556,\"#d8576b\"],[0.6666666666666666,\"#ed7953\"],[0.7777777777777778,\"#fb9f3a\"],[0.8888888888888888,\"#fdca26\"],[1.0,\"#f0f921\"]]}],\"mesh3d\":[{\"type\":\"mesh3d\",\"colorbar\":{\"outlinewidth\":0,\"ticks\":\"\"}}],\"scatter\":[{\"fillpattern\":{\"fillmode\":\"overlay\",\"size\":10,\"solidity\":0.2},\"type\":\"scatter\"}],\"parcoords\":[{\"type\":\"parcoords\",\"line\":{\"colorbar\":{\"outlinewidth\":0,\"ticks\":\"\"}}}],\"scatterpolargl\":[{\"type\":\"scatterpolargl\",\"marker\":{\"colorbar\":{\"outlinewidth\":0,\"ticks\":\"\"}}}],\"bar\":[{\"error_x\":{\"color\":\"#2a3f5f\"},\"error_y\":{\"color\":\"#2a3f5f\"},\"marker\":{\"line\":{\"color\":\"#E5ECF6\",\"width\":0.5},\"pattern\":{\"fillmode\":\"overlay\",\"size\":10,\"solidity\":0.2}},\"type\":\"bar\"}],\"scattergeo\":[{\"type\":\"scattergeo\",\"marker\":{\"colorbar\":{\"outlinewidth\":0,\"ticks\":\"\"}}}],\"scatterpolar\":[{\"type\":\"scatterpolar\",\"marker\":{\"colorbar\":{\"outlinewidth\":0,\"ticks\":\"\"}}}],\"histogram\":[{\"marker\":{\"pattern\":{\"fillmode\":\"overlay\",\"size\":10,\"solidity\":0.2}},\"type\":\"histogram\"}],\"scattergl\":[{\"type\":\"scattergl\",\"marker\":{\"colorbar\":{\"outlinewidth\":0,\"ticks\":\"\"}}}],\"scatter3d\":[{\"type\":\"scatter3d\",\"line\":{\"colorbar\":{\"outlinewidth\":0,\"ticks\":\"\"}},\"marker\":{\"colorbar\":{\"outlinewidth\":0,\"ticks\":\"\"}}}],\"scattermapbox\":[{\"type\":\"scattermapbox\",\"marker\":{\"colorbar\":{\"outlinewidth\":0,\"ticks\":\"\"}}}],\"scatterternary\":[{\"type\":\"scatterternary\",\"marker\":{\"colorbar\":{\"outlinewidth\":0,\"ticks\":\"\"}}}],\"scattercarpet\":[{\"type\":\"scattercarpet\",\"marker\":{\"colorbar\":{\"outlinewidth\":0,\"ticks\":\"\"}}}],\"carpet\":[{\"aaxis\":{\"endlinecolor\":\"#2a3f5f\",\"gridcolor\":\"white\",\"linecolor\":\"white\",\"minorgridcolor\":\"white\",\"startlinecolor\":\"#2a3f5f\"},\"baxis\":{\"endlinecolor\":\"#2a3f5f\",\"gridcolor\":\"white\",\"linecolor\":\"white\",\"minorgridcolor\":\"white\",\"startlinecolor\":\"#2a3f5f\"},\"type\":\"carpet\"}],\"table\":[{\"cells\":{\"fill\":{\"color\":\"#EBF0F8\"},\"line\":{\"color\":\"white\"}},\"header\":{\"fill\":{\"color\":\"#C8D4E3\"},\"line\":{\"color\":\"white\"}},\"type\":\"table\"}],\"barpolar\":[{\"marker\":{\"line\":{\"color\":\"#E5ECF6\",\"width\":0.5},\"pattern\":{\"fillmode\":\"overlay\",\"size\":10,\"solidity\":0.2}},\"type\":\"barpolar\"}],\"pie\":[{\"automargin\":true,\"type\":\"pie\"}]},\"layout\":{\"autotypenumbers\":\"strict\",\"colorway\":[\"#636efa\",\"#EF553B\",\"#00cc96\",\"#ab63fa\",\"#FFA15A\",\"#19d3f3\",\"#FF6692\",\"#B6E880\",\"#FF97FF\",\"#FECB52\"],\"font\":{\"color\":\"#2a3f5f\"},\"hovermode\":\"closest\",\"hoverlabel\":{\"align\":\"left\"},\"paper_bgcolor\":\"white\",\"plot_bgcolor\":\"#E5ECF6\",\"polar\":{\"bgcolor\":\"#E5ECF6\",\"angularaxis\":{\"gridcolor\":\"white\",\"linecolor\":\"white\",\"ticks\":\"\"},\"radialaxis\":{\"gridcolor\":\"white\",\"linecolor\":\"white\",\"ticks\":\"\"}},\"ternary\":{\"bgcolor\":\"#E5ECF6\",\"aaxis\":{\"gridcolor\":\"white\",\"linecolor\":\"white\",\"ticks\":\"\"},\"baxis\":{\"gridcolor\":\"white\",\"linecolor\":\"white\",\"ticks\":\"\"},\"caxis\":{\"gridcolor\":\"white\",\"linecolor\":\"white\",\"ticks\":\"\"}},\"coloraxis\":{\"colorbar\":{\"outlinewidth\":0,\"ticks\":\"\"}},\"colorscale\":{\"sequential\":[[0.0,\"#0d0887\"],[0.1111111111111111,\"#46039f\"],[0.2222222222222222,\"#7201a8\"],[0.3333333333333333,\"#9c179e\"],[0.4444444444444444,\"#bd3786\"],[0.5555555555555556,\"#d8576b\"],[0.6666666666666666,\"#ed7953\"],[0.7777777777777778,\"#fb9f3a\"],[0.8888888888888888,\"#fdca26\"],[1.0,\"#f0f921\"]],\"sequentialminus\":[[0.0,\"#0d0887\"],[0.1111111111111111,\"#46039f\"],[0.2222222222222222,\"#7201a8\"],[0.3333333333333333,\"#9c179e\"],[0.4444444444444444,\"#bd3786\"],[0.5555555555555556,\"#d8576b\"],[0.6666666666666666,\"#ed7953\"],[0.7777777777777778,\"#fb9f3a\"],[0.8888888888888888,\"#fdca26\"],[1.0,\"#f0f921\"]],\"diverging\":[[0,\"#8e0152\"],[0.1,\"#c51b7d\"],[0.2,\"#de77ae\"],[0.3,\"#f1b6da\"],[0.4,\"#fde0ef\"],[0.5,\"#f7f7f7\"],[0.6,\"#e6f5d0\"],[0.7,\"#b8e186\"],[0.8,\"#7fbc41\"],[0.9,\"#4d9221\"],[1,\"#276419\"]]},\"xaxis\":{\"gridcolor\":\"white\",\"linecolor\":\"white\",\"ticks\":\"\",\"title\":{\"standoff\":15},\"zerolinecolor\":\"white\",\"automargin\":true,\"zerolinewidth\":2},\"yaxis\":{\"gridcolor\":\"white\",\"linecolor\":\"white\",\"ticks\":\"\",\"title\":{\"standoff\":15},\"zerolinecolor\":\"white\",\"automargin\":true,\"zerolinewidth\":2},\"scene\":{\"xaxis\":{\"backgroundcolor\":\"#E5ECF6\",\"gridcolor\":\"white\",\"linecolor\":\"white\",\"showbackground\":true,\"ticks\":\"\",\"zerolinecolor\":\"white\",\"gridwidth\":2},\"yaxis\":{\"backgroundcolor\":\"#E5ECF6\",\"gridcolor\":\"white\",\"linecolor\":\"white\",\"showbackground\":true,\"ticks\":\"\",\"zerolinecolor\":\"white\",\"gridwidth\":2},\"zaxis\":{\"backgroundcolor\":\"#E5ECF6\",\"gridcolor\":\"white\",\"linecolor\":\"white\",\"showbackground\":true,\"ticks\":\"\",\"zerolinecolor\":\"white\",\"gridwidth\":2}},\"shapedefaults\":{\"line\":{\"color\":\"#2a3f5f\"}},\"annotationdefaults\":{\"arrowcolor\":\"#2a3f5f\",\"arrowhead\":0,\"arrowwidth\":1},\"geo\":{\"bgcolor\":\"white\",\"landcolor\":\"#E5ECF6\",\"subunitcolor\":\"white\",\"showland\":true,\"showlakes\":true,\"lakecolor\":\"white\"},\"title\":{\"x\":0.05},\"mapbox\":{\"style\":\"light\"}}},\"title\":{\"text\":\"Silhouette Scores for Different Numbers of Clusters\"},\"xaxis\":{\"title\":{\"text\":\"Percentage of Columns Used\"}},\"yaxis\":{\"title\":{\"text\":\"Silhouette Score\"}},\"legend\":{\"title\":{\"text\":\"Number of Clusters\"}}},                        {\"responsive\": true}                    ).then(function(){\n",
       "                            \n",
       "var gd = document.getElementById('2ffe7f53-962b-4819-8271-b645bbbf92e2');\n",
       "var x = new MutationObserver(function (mutations, observer) {{\n",
       "        var display = window.getComputedStyle(gd).display;\n",
       "        if (!display || display === 'none') {{\n",
       "            console.log([gd, 'removed!']);\n",
       "            Plotly.purge(gd);\n",
       "            observer.disconnect();\n",
       "        }}\n",
       "}});\n",
       "\n",
       "// Listen for the removal of the full notebook cells\n",
       "var notebookContainer = gd.closest('#notebook-container');\n",
       "if (notebookContainer) {{\n",
       "    x.observe(notebookContainer, {childList: true});\n",
       "}}\n",
       "\n",
       "// Listen for the clearing of the current output cell\n",
       "var outputEl = gd.closest('.output');\n",
       "if (outputEl) {{\n",
       "    x.observe(outputEl, {childList: true});\n",
       "}}\n",
       "\n",
       "                        })                };                });            </script>        </div>"
      ]
     },
     "metadata": {},
     "output_type": "display_data"
    }
   ],
   "source": [
    "# List of percentages representing parts of the total columns to use for clustering\n",
    "percentages = [0.1, 0.15, 0.2, 0.25, 0.3, 0.35, 0.4, 0.45, 0.5, 0.6, 0.7, 0.8, 0.9, 1]\n",
    "\n",
    "# Setup Plotly figure\n",
    "fig = go.Figure()\n",
    "# Loop over different values of k for clusters\n",
    "for k in range(2, 6):  # k varies from 2 to 5\n",
    "    print(\"Code is running for Cluster\", k)\n",
    "    cluster_path = f\"{output_path}/{k}_Clusters\"\n",
    "    if not os.path.exists(cluster_path):\n",
    "        os.makedirs(cluster_path)\n",
    "    silhouette_scores = []\n",
    "    for p in percentages:\n",
    "        num_columns = int(len(mad_sorted) * p)\n",
    "        top_columns = [col[0] for col in mad_sorted[:num_columns]]\n",
    "\n",
    "        # Directory for the current percentage\n",
    "        percentage_path = f\"{cluster_path}/top_percentage_{int(p * 100)}\"\n",
    "        if not os.path.exists(percentage_path):\n",
    "            os.makedirs(percentage_path)\n",
    "        \n",
    "        # Store top features for current percentage\n",
    "        features_path = f\"{percentage_path}/top_features.txt\"\n",
    "        with open(features_path, 'w') as file:\n",
    "            for col in top_columns:\n",
    "                file.write(col + '\\n')\n",
    "        \n",
    "\n",
    "        #The selected columns are standardized using StandardScaler. This ensures that each feature contributes equally to the distance computations \n",
    "        #in the KMeans algorithm, which is crucial because KMeans is sensitive to the scales of the input features.\n",
    "        scaler = StandardScaler()\n",
    "        scaled_data = scaler.fit_transform(data_processed[top_columns])\n",
    "        #print(\"Scaled_data : \", scaled_data.shape[1])  # Output the number of features after scaling\n",
    "        original_indices = data_processed.index  # Capture the original indices before scaling\n",
    "    \n",
    "    \n",
    "        # This step reduces the number of dimensions in the data by transforming it to a new basisvwhere the variance retained is as specified (90% in this case). The goal is to reduce\n",
    "        # complexity while keeping the most informative aspects of the data.  Apply PCA to reduce dimensionality while retaining 90% of the variance:\n",
    "        # pca = PCA(n_components=0.90)  # Initialize PCA to retain 90% of the variance\n",
    "        # data_reduced = pca.fit_transform(scaled_data)\n",
    "        # print(\"Reduced to %d dimensions\" % data_reduced.shape[1]) \n",
    "        \n",
    "        # Compute silhouette score for the current number of clusters and percentage of columns\n",
    "        score = kmeans_silhouette_score(scaled_data, k, percentage_path, original_indices, p)\n",
    "        silhouette_scores.append(score)\n",
    "    \n",
    "    # Add the silhouette scores to the plot for the current number of clusters\n",
    "    fig.add_trace(go.Scatter(\n",
    "        x=[f\"{int(p * 100)}%\" for p in percentages],\n",
    "        y=silhouette_scores,\n",
    "        mode='lines+markers',\n",
    "        name=f'k={k}'\n",
    "    ))\n",
    "\n",
    "# Update plot layout\n",
    "fig.update_layout(\n",
    "    title=\"Silhouette Scores for Different Numbers of Clusters\",\n",
    "    xaxis_title=\"Percentage of Columns Used\",\n",
    "    yaxis_title=\"Silhouette Score\",\n",
    "    legend_title=\"Number of Clusters\"\n",
    ")\n",
    "\n",
    "# Show the plot\n",
    "fig.show()"
   ]
  },
  {
   "cell_type": "markdown",
   "id": "234abacc-0914-4eb6-9cbc-585a63469476",
   "metadata": {},
   "source": [
    "# Apply Hierarchical clustering"
   ]
  },
  {
   "cell_type": "code",
   "execution_count": 20,
   "id": "68199a3a-277c-4c69-a009-bd72589a6187",
   "metadata": {},
   "outputs": [],
   "source": [
    "num_columns = int(len(mad_sorted) * 0.15)\n",
    "top_columns = [col[0] for col in mad_sorted[:num_columns]]"
   ]
  },
  {
   "cell_type": "code",
   "execution_count": 21,
   "id": "464812c0-7250-4373-ac0d-a697a02bf4cc",
   "metadata": {},
   "outputs": [
    {
     "data": {
      "text/plain": [
       "440"
      ]
     },
     "execution_count": 21,
     "metadata": {},
     "output_type": "execute_result"
    }
   ],
   "source": [
    "num_columns"
   ]
  },
  {
   "cell_type": "code",
   "execution_count": 22,
   "id": "08d90a39-f083-4ad2-81b4-34ee5be46311",
   "metadata": {},
   "outputs": [
    {
     "data": {
      "text/html": [
       "<div>\n",
       "<style scoped>\n",
       "    .dataframe tbody tr th:only-of-type {\n",
       "        vertical-align: middle;\n",
       "    }\n",
       "\n",
       "    .dataframe tbody tr th {\n",
       "        vertical-align: top;\n",
       "    }\n",
       "\n",
       "    .dataframe thead th {\n",
       "        text-align: right;\n",
       "    }\n",
       "</style>\n",
       "<table border=\"1\" class=\"dataframe\">\n",
       "  <thead>\n",
       "    <tr style=\"text-align: right;\">\n",
       "      <th></th>\n",
       "      <th>chr15_69822788_69822867_69822801_69822803_CA_C</th>\n",
       "      <th>chr4_98296952_98297031_98296956_98296957_G_GA</th>\n",
       "      <th>chr15_99014532_99014611_99014555_99014556_G_GC</th>\n",
       "      <th>chr1_179366088_179366167_179366118_179366119_T_TG</th>\n",
       "      <th>chr5_10986598_10986677_10986609_10986610_A_AG</th>\n",
       "      <th>chr4_143970500_143970579_143970554_143970555_C_CTAT</th>\n",
       "      <th>chr9_94259307_94259386_94259339_94259342_TGC_T</th>\n",
       "      <th>chr6_96785293_96785372_96785319_96785322_CCA_C</th>\n",
       "      <th>chr19_36572293_36572372_36572315_36572316_C_CA</th>\n",
       "      <th>chr14_90894373_90894452_90894388_90894389_G_GT</th>\n",
       "      <th>...</th>\n",
       "      <th>chr12_116554387_116554466_116554409_116554410_G_GAA</th>\n",
       "      <th>chr13_27559802_27559881_27559818_27559819_T_TA</th>\n",
       "      <th>chr13_106568304_106568383_106568320_106568321_C_CT</th>\n",
       "      <th>chr14_53156535_53156614_53156560_53156561_G_GA</th>\n",
       "      <th>chr15_43333396_43333475_43333419_43333420_G_GA</th>\n",
       "      <th>chr16_82035110_82035189_82035118_82035119_T_TA</th>\n",
       "      <th>chr2_158632604_158632683_158632628_158632629_C_CT</th>\n",
       "      <th>chr2_181112019_181112098_181112025_181112026_G_GA</th>\n",
       "      <th>chr4_27021030_27021109_27021056_27021057_C_CA</th>\n",
       "      <th>chr7_151813480_151813559_151813491_151813493_GA_G</th>\n",
       "    </tr>\n",
       "    <tr>\n",
       "      <th>Patient_Core_ID</th>\n",
       "      <th></th>\n",
       "      <th></th>\n",
       "      <th></th>\n",
       "      <th></th>\n",
       "      <th></th>\n",
       "      <th></th>\n",
       "      <th></th>\n",
       "      <th></th>\n",
       "      <th></th>\n",
       "      <th></th>\n",
       "      <th></th>\n",
       "      <th></th>\n",
       "      <th></th>\n",
       "      <th></th>\n",
       "      <th></th>\n",
       "      <th></th>\n",
       "      <th></th>\n",
       "      <th></th>\n",
       "      <th></th>\n",
       "      <th></th>\n",
       "      <th></th>\n",
       "    </tr>\n",
       "  </thead>\n",
       "  <tbody>\n",
       "    <tr>\n",
       "      <th>02eb77ff-2e07-4d56-9c32-d9fa415c7ce2</th>\n",
       "      <td>1</td>\n",
       "      <td>-1</td>\n",
       "      <td>-1</td>\n",
       "      <td>0</td>\n",
       "      <td>1</td>\n",
       "      <td>1</td>\n",
       "      <td>1</td>\n",
       "      <td>0</td>\n",
       "      <td>1</td>\n",
       "      <td>0</td>\n",
       "      <td>...</td>\n",
       "      <td>0</td>\n",
       "      <td>0</td>\n",
       "      <td>0</td>\n",
       "      <td>0</td>\n",
       "      <td>0</td>\n",
       "      <td>0</td>\n",
       "      <td>0</td>\n",
       "      <td>0</td>\n",
       "      <td>0</td>\n",
       "      <td>0</td>\n",
       "    </tr>\n",
       "    <tr>\n",
       "      <th>033db366-1af1-4bd9-8339-c54800b1de57</th>\n",
       "      <td>0</td>\n",
       "      <td>0</td>\n",
       "      <td>0</td>\n",
       "      <td>-1</td>\n",
       "      <td>0</td>\n",
       "      <td>1</td>\n",
       "      <td>0</td>\n",
       "      <td>0</td>\n",
       "      <td>1</td>\n",
       "      <td>0</td>\n",
       "      <td>...</td>\n",
       "      <td>0</td>\n",
       "      <td>0</td>\n",
       "      <td>0</td>\n",
       "      <td>0</td>\n",
       "      <td>0</td>\n",
       "      <td>0</td>\n",
       "      <td>0</td>\n",
       "      <td>0</td>\n",
       "      <td>0</td>\n",
       "      <td>0</td>\n",
       "    </tr>\n",
       "    <tr>\n",
       "      <th>03777cdf-6779-4d23-93af-5b74fb982d7b</th>\n",
       "      <td>0</td>\n",
       "      <td>0</td>\n",
       "      <td>0</td>\n",
       "      <td>-1</td>\n",
       "      <td>0</td>\n",
       "      <td>0</td>\n",
       "      <td>0</td>\n",
       "      <td>1</td>\n",
       "      <td>0</td>\n",
       "      <td>1</td>\n",
       "      <td>...</td>\n",
       "      <td>0</td>\n",
       "      <td>0</td>\n",
       "      <td>0</td>\n",
       "      <td>0</td>\n",
       "      <td>0</td>\n",
       "      <td>0</td>\n",
       "      <td>0</td>\n",
       "      <td>0</td>\n",
       "      <td>0</td>\n",
       "      <td>0</td>\n",
       "    </tr>\n",
       "    <tr>\n",
       "      <th>038750e2-9994-4420-bfa9-a3756683ddd1</th>\n",
       "      <td>0</td>\n",
       "      <td>0</td>\n",
       "      <td>0</td>\n",
       "      <td>-1</td>\n",
       "      <td>1</td>\n",
       "      <td>0</td>\n",
       "      <td>0</td>\n",
       "      <td>1</td>\n",
       "      <td>1</td>\n",
       "      <td>1</td>\n",
       "      <td>...</td>\n",
       "      <td>0</td>\n",
       "      <td>0</td>\n",
       "      <td>0</td>\n",
       "      <td>0</td>\n",
       "      <td>0</td>\n",
       "      <td>0</td>\n",
       "      <td>0</td>\n",
       "      <td>0</td>\n",
       "      <td>0</td>\n",
       "      <td>0</td>\n",
       "    </tr>\n",
       "    <tr>\n",
       "      <th>03ba06a3-5dc6-4dad-84ed-7fe3196d7402</th>\n",
       "      <td>1</td>\n",
       "      <td>-1</td>\n",
       "      <td>-1</td>\n",
       "      <td>-1</td>\n",
       "      <td>1</td>\n",
       "      <td>1</td>\n",
       "      <td>0</td>\n",
       "      <td>0</td>\n",
       "      <td>1</td>\n",
       "      <td>0</td>\n",
       "      <td>...</td>\n",
       "      <td>0</td>\n",
       "      <td>0</td>\n",
       "      <td>0</td>\n",
       "      <td>0</td>\n",
       "      <td>0</td>\n",
       "      <td>0</td>\n",
       "      <td>0</td>\n",
       "      <td>0</td>\n",
       "      <td>0</td>\n",
       "      <td>0</td>\n",
       "    </tr>\n",
       "    <tr>\n",
       "      <th>...</th>\n",
       "      <td>...</td>\n",
       "      <td>...</td>\n",
       "      <td>...</td>\n",
       "      <td>...</td>\n",
       "      <td>...</td>\n",
       "      <td>...</td>\n",
       "      <td>...</td>\n",
       "      <td>...</td>\n",
       "      <td>...</td>\n",
       "      <td>...</td>\n",
       "      <td>...</td>\n",
       "      <td>...</td>\n",
       "      <td>...</td>\n",
       "      <td>...</td>\n",
       "      <td>...</td>\n",
       "      <td>...</td>\n",
       "      <td>...</td>\n",
       "      <td>...</td>\n",
       "      <td>...</td>\n",
       "      <td>...</td>\n",
       "      <td>...</td>\n",
       "    </tr>\n",
       "    <tr>\n",
       "      <th>f8b8e0df-4234-4839-b0ee-34a2c9ef4985</th>\n",
       "      <td>1</td>\n",
       "      <td>-1</td>\n",
       "      <td>0</td>\n",
       "      <td>0</td>\n",
       "      <td>0</td>\n",
       "      <td>1</td>\n",
       "      <td>0</td>\n",
       "      <td>1</td>\n",
       "      <td>1</td>\n",
       "      <td>1</td>\n",
       "      <td>...</td>\n",
       "      <td>0</td>\n",
       "      <td>0</td>\n",
       "      <td>0</td>\n",
       "      <td>0</td>\n",
       "      <td>0</td>\n",
       "      <td>0</td>\n",
       "      <td>0</td>\n",
       "      <td>0</td>\n",
       "      <td>0</td>\n",
       "      <td>0</td>\n",
       "    </tr>\n",
       "    <tr>\n",
       "      <th>f90f1702-d5f1-43f4-b167-2c440f941bf6</th>\n",
       "      <td>1</td>\n",
       "      <td>-1</td>\n",
       "      <td>0</td>\n",
       "      <td>-1</td>\n",
       "      <td>0</td>\n",
       "      <td>0</td>\n",
       "      <td>0</td>\n",
       "      <td>1</td>\n",
       "      <td>1</td>\n",
       "      <td>1</td>\n",
       "      <td>...</td>\n",
       "      <td>0</td>\n",
       "      <td>0</td>\n",
       "      <td>0</td>\n",
       "      <td>0</td>\n",
       "      <td>0</td>\n",
       "      <td>0</td>\n",
       "      <td>0</td>\n",
       "      <td>0</td>\n",
       "      <td>0</td>\n",
       "      <td>0</td>\n",
       "    </tr>\n",
       "    <tr>\n",
       "      <th>f9554b80-de24-4930-b651-7b2ae3b4ba8c</th>\n",
       "      <td>1</td>\n",
       "      <td>0</td>\n",
       "      <td>-1</td>\n",
       "      <td>0</td>\n",
       "      <td>0</td>\n",
       "      <td>1</td>\n",
       "      <td>0</td>\n",
       "      <td>1</td>\n",
       "      <td>1</td>\n",
       "      <td>1</td>\n",
       "      <td>...</td>\n",
       "      <td>0</td>\n",
       "      <td>0</td>\n",
       "      <td>0</td>\n",
       "      <td>0</td>\n",
       "      <td>0</td>\n",
       "      <td>0</td>\n",
       "      <td>0</td>\n",
       "      <td>0</td>\n",
       "      <td>0</td>\n",
       "      <td>0</td>\n",
       "    </tr>\n",
       "    <tr>\n",
       "      <th>fd27f3fc-6f0b-4794-8555-3111ad520493</th>\n",
       "      <td>1</td>\n",
       "      <td>0</td>\n",
       "      <td>0</td>\n",
       "      <td>0</td>\n",
       "      <td>0</td>\n",
       "      <td>0</td>\n",
       "      <td>0</td>\n",
       "      <td>0</td>\n",
       "      <td>1</td>\n",
       "      <td>0</td>\n",
       "      <td>...</td>\n",
       "      <td>0</td>\n",
       "      <td>0</td>\n",
       "      <td>0</td>\n",
       "      <td>0</td>\n",
       "      <td>0</td>\n",
       "      <td>0</td>\n",
       "      <td>0</td>\n",
       "      <td>0</td>\n",
       "      <td>0</td>\n",
       "      <td>0</td>\n",
       "    </tr>\n",
       "    <tr>\n",
       "      <th>fdfbb80c-8e66-499a-ac59-f311d6f4b6fa</th>\n",
       "      <td>0</td>\n",
       "      <td>-1</td>\n",
       "      <td>0</td>\n",
       "      <td>0</td>\n",
       "      <td>1</td>\n",
       "      <td>0</td>\n",
       "      <td>0</td>\n",
       "      <td>0</td>\n",
       "      <td>1</td>\n",
       "      <td>0</td>\n",
       "      <td>...</td>\n",
       "      <td>0</td>\n",
       "      <td>0</td>\n",
       "      <td>0</td>\n",
       "      <td>0</td>\n",
       "      <td>0</td>\n",
       "      <td>0</td>\n",
       "      <td>0</td>\n",
       "      <td>0</td>\n",
       "      <td>0</td>\n",
       "      <td>0</td>\n",
       "    </tr>\n",
       "  </tbody>\n",
       "</table>\n",
       "<p>216 rows × 440 columns</p>\n",
       "</div>"
      ],
      "text/plain": [
       "                                      chr15_69822788_69822867_69822801_69822803_CA_C  \\\n",
       "Patient_Core_ID                                                                        \n",
       "02eb77ff-2e07-4d56-9c32-d9fa415c7ce2                                               1   \n",
       "033db366-1af1-4bd9-8339-c54800b1de57                                               0   \n",
       "03777cdf-6779-4d23-93af-5b74fb982d7b                                               0   \n",
       "038750e2-9994-4420-bfa9-a3756683ddd1                                               0   \n",
       "03ba06a3-5dc6-4dad-84ed-7fe3196d7402                                               1   \n",
       "...                                                                              ...   \n",
       "f8b8e0df-4234-4839-b0ee-34a2c9ef4985                                               1   \n",
       "f90f1702-d5f1-43f4-b167-2c440f941bf6                                               1   \n",
       "f9554b80-de24-4930-b651-7b2ae3b4ba8c                                               1   \n",
       "fd27f3fc-6f0b-4794-8555-3111ad520493                                               1   \n",
       "fdfbb80c-8e66-499a-ac59-f311d6f4b6fa                                               0   \n",
       "\n",
       "                                      chr4_98296952_98297031_98296956_98296957_G_GA  \\\n",
       "Patient_Core_ID                                                                       \n",
       "02eb77ff-2e07-4d56-9c32-d9fa415c7ce2                                             -1   \n",
       "033db366-1af1-4bd9-8339-c54800b1de57                                              0   \n",
       "03777cdf-6779-4d23-93af-5b74fb982d7b                                              0   \n",
       "038750e2-9994-4420-bfa9-a3756683ddd1                                              0   \n",
       "03ba06a3-5dc6-4dad-84ed-7fe3196d7402                                             -1   \n",
       "...                                                                             ...   \n",
       "f8b8e0df-4234-4839-b0ee-34a2c9ef4985                                             -1   \n",
       "f90f1702-d5f1-43f4-b167-2c440f941bf6                                             -1   \n",
       "f9554b80-de24-4930-b651-7b2ae3b4ba8c                                              0   \n",
       "fd27f3fc-6f0b-4794-8555-3111ad520493                                              0   \n",
       "fdfbb80c-8e66-499a-ac59-f311d6f4b6fa                                             -1   \n",
       "\n",
       "                                      chr15_99014532_99014611_99014555_99014556_G_GC  \\\n",
       "Patient_Core_ID                                                                        \n",
       "02eb77ff-2e07-4d56-9c32-d9fa415c7ce2                                              -1   \n",
       "033db366-1af1-4bd9-8339-c54800b1de57                                               0   \n",
       "03777cdf-6779-4d23-93af-5b74fb982d7b                                               0   \n",
       "038750e2-9994-4420-bfa9-a3756683ddd1                                               0   \n",
       "03ba06a3-5dc6-4dad-84ed-7fe3196d7402                                              -1   \n",
       "...                                                                              ...   \n",
       "f8b8e0df-4234-4839-b0ee-34a2c9ef4985                                               0   \n",
       "f90f1702-d5f1-43f4-b167-2c440f941bf6                                               0   \n",
       "f9554b80-de24-4930-b651-7b2ae3b4ba8c                                              -1   \n",
       "fd27f3fc-6f0b-4794-8555-3111ad520493                                               0   \n",
       "fdfbb80c-8e66-499a-ac59-f311d6f4b6fa                                               0   \n",
       "\n",
       "                                      chr1_179366088_179366167_179366118_179366119_T_TG  \\\n",
       "Patient_Core_ID                                                                           \n",
       "02eb77ff-2e07-4d56-9c32-d9fa415c7ce2                                                  0   \n",
       "033db366-1af1-4bd9-8339-c54800b1de57                                                 -1   \n",
       "03777cdf-6779-4d23-93af-5b74fb982d7b                                                 -1   \n",
       "038750e2-9994-4420-bfa9-a3756683ddd1                                                 -1   \n",
       "03ba06a3-5dc6-4dad-84ed-7fe3196d7402                                                 -1   \n",
       "...                                                                                 ...   \n",
       "f8b8e0df-4234-4839-b0ee-34a2c9ef4985                                                  0   \n",
       "f90f1702-d5f1-43f4-b167-2c440f941bf6                                                 -1   \n",
       "f9554b80-de24-4930-b651-7b2ae3b4ba8c                                                  0   \n",
       "fd27f3fc-6f0b-4794-8555-3111ad520493                                                  0   \n",
       "fdfbb80c-8e66-499a-ac59-f311d6f4b6fa                                                  0   \n",
       "\n",
       "                                      chr5_10986598_10986677_10986609_10986610_A_AG  \\\n",
       "Patient_Core_ID                                                                       \n",
       "02eb77ff-2e07-4d56-9c32-d9fa415c7ce2                                              1   \n",
       "033db366-1af1-4bd9-8339-c54800b1de57                                              0   \n",
       "03777cdf-6779-4d23-93af-5b74fb982d7b                                              0   \n",
       "038750e2-9994-4420-bfa9-a3756683ddd1                                              1   \n",
       "03ba06a3-5dc6-4dad-84ed-7fe3196d7402                                              1   \n",
       "...                                                                             ...   \n",
       "f8b8e0df-4234-4839-b0ee-34a2c9ef4985                                              0   \n",
       "f90f1702-d5f1-43f4-b167-2c440f941bf6                                              0   \n",
       "f9554b80-de24-4930-b651-7b2ae3b4ba8c                                              0   \n",
       "fd27f3fc-6f0b-4794-8555-3111ad520493                                              0   \n",
       "fdfbb80c-8e66-499a-ac59-f311d6f4b6fa                                              1   \n",
       "\n",
       "                                      chr4_143970500_143970579_143970554_143970555_C_CTAT  \\\n",
       "Patient_Core_ID                                                                             \n",
       "02eb77ff-2e07-4d56-9c32-d9fa415c7ce2                                                  1     \n",
       "033db366-1af1-4bd9-8339-c54800b1de57                                                  1     \n",
       "03777cdf-6779-4d23-93af-5b74fb982d7b                                                  0     \n",
       "038750e2-9994-4420-bfa9-a3756683ddd1                                                  0     \n",
       "03ba06a3-5dc6-4dad-84ed-7fe3196d7402                                                  1     \n",
       "...                                                                                 ...     \n",
       "f8b8e0df-4234-4839-b0ee-34a2c9ef4985                                                  1     \n",
       "f90f1702-d5f1-43f4-b167-2c440f941bf6                                                  0     \n",
       "f9554b80-de24-4930-b651-7b2ae3b4ba8c                                                  1     \n",
       "fd27f3fc-6f0b-4794-8555-3111ad520493                                                  0     \n",
       "fdfbb80c-8e66-499a-ac59-f311d6f4b6fa                                                  0     \n",
       "\n",
       "                                      chr9_94259307_94259386_94259339_94259342_TGC_T  \\\n",
       "Patient_Core_ID                                                                        \n",
       "02eb77ff-2e07-4d56-9c32-d9fa415c7ce2                                               1   \n",
       "033db366-1af1-4bd9-8339-c54800b1de57                                               0   \n",
       "03777cdf-6779-4d23-93af-5b74fb982d7b                                               0   \n",
       "038750e2-9994-4420-bfa9-a3756683ddd1                                               0   \n",
       "03ba06a3-5dc6-4dad-84ed-7fe3196d7402                                               0   \n",
       "...                                                                              ...   \n",
       "f8b8e0df-4234-4839-b0ee-34a2c9ef4985                                               0   \n",
       "f90f1702-d5f1-43f4-b167-2c440f941bf6                                               0   \n",
       "f9554b80-de24-4930-b651-7b2ae3b4ba8c                                               0   \n",
       "fd27f3fc-6f0b-4794-8555-3111ad520493                                               0   \n",
       "fdfbb80c-8e66-499a-ac59-f311d6f4b6fa                                               0   \n",
       "\n",
       "                                      chr6_96785293_96785372_96785319_96785322_CCA_C  \\\n",
       "Patient_Core_ID                                                                        \n",
       "02eb77ff-2e07-4d56-9c32-d9fa415c7ce2                                               0   \n",
       "033db366-1af1-4bd9-8339-c54800b1de57                                               0   \n",
       "03777cdf-6779-4d23-93af-5b74fb982d7b                                               1   \n",
       "038750e2-9994-4420-bfa9-a3756683ddd1                                               1   \n",
       "03ba06a3-5dc6-4dad-84ed-7fe3196d7402                                               0   \n",
       "...                                                                              ...   \n",
       "f8b8e0df-4234-4839-b0ee-34a2c9ef4985                                               1   \n",
       "f90f1702-d5f1-43f4-b167-2c440f941bf6                                               1   \n",
       "f9554b80-de24-4930-b651-7b2ae3b4ba8c                                               1   \n",
       "fd27f3fc-6f0b-4794-8555-3111ad520493                                               0   \n",
       "fdfbb80c-8e66-499a-ac59-f311d6f4b6fa                                               0   \n",
       "\n",
       "                                      chr19_36572293_36572372_36572315_36572316_C_CA  \\\n",
       "Patient_Core_ID                                                                        \n",
       "02eb77ff-2e07-4d56-9c32-d9fa415c7ce2                                               1   \n",
       "033db366-1af1-4bd9-8339-c54800b1de57                                               1   \n",
       "03777cdf-6779-4d23-93af-5b74fb982d7b                                               0   \n",
       "038750e2-9994-4420-bfa9-a3756683ddd1                                               1   \n",
       "03ba06a3-5dc6-4dad-84ed-7fe3196d7402                                               1   \n",
       "...                                                                              ...   \n",
       "f8b8e0df-4234-4839-b0ee-34a2c9ef4985                                               1   \n",
       "f90f1702-d5f1-43f4-b167-2c440f941bf6                                               1   \n",
       "f9554b80-de24-4930-b651-7b2ae3b4ba8c                                               1   \n",
       "fd27f3fc-6f0b-4794-8555-3111ad520493                                               1   \n",
       "fdfbb80c-8e66-499a-ac59-f311d6f4b6fa                                               1   \n",
       "\n",
       "                                      chr14_90894373_90894452_90894388_90894389_G_GT  \\\n",
       "Patient_Core_ID                                                                        \n",
       "02eb77ff-2e07-4d56-9c32-d9fa415c7ce2                                               0   \n",
       "033db366-1af1-4bd9-8339-c54800b1de57                                               0   \n",
       "03777cdf-6779-4d23-93af-5b74fb982d7b                                               1   \n",
       "038750e2-9994-4420-bfa9-a3756683ddd1                                               1   \n",
       "03ba06a3-5dc6-4dad-84ed-7fe3196d7402                                               0   \n",
       "...                                                                              ...   \n",
       "f8b8e0df-4234-4839-b0ee-34a2c9ef4985                                               1   \n",
       "f90f1702-d5f1-43f4-b167-2c440f941bf6                                               1   \n",
       "f9554b80-de24-4930-b651-7b2ae3b4ba8c                                               1   \n",
       "fd27f3fc-6f0b-4794-8555-3111ad520493                                               0   \n",
       "fdfbb80c-8e66-499a-ac59-f311d6f4b6fa                                               0   \n",
       "\n",
       "                                      ...  \\\n",
       "Patient_Core_ID                       ...   \n",
       "02eb77ff-2e07-4d56-9c32-d9fa415c7ce2  ...   \n",
       "033db366-1af1-4bd9-8339-c54800b1de57  ...   \n",
       "03777cdf-6779-4d23-93af-5b74fb982d7b  ...   \n",
       "038750e2-9994-4420-bfa9-a3756683ddd1  ...   \n",
       "03ba06a3-5dc6-4dad-84ed-7fe3196d7402  ...   \n",
       "...                                   ...   \n",
       "f8b8e0df-4234-4839-b0ee-34a2c9ef4985  ...   \n",
       "f90f1702-d5f1-43f4-b167-2c440f941bf6  ...   \n",
       "f9554b80-de24-4930-b651-7b2ae3b4ba8c  ...   \n",
       "fd27f3fc-6f0b-4794-8555-3111ad520493  ...   \n",
       "fdfbb80c-8e66-499a-ac59-f311d6f4b6fa  ...   \n",
       "\n",
       "                                      chr12_116554387_116554466_116554409_116554410_G_GAA  \\\n",
       "Patient_Core_ID                                                                             \n",
       "02eb77ff-2e07-4d56-9c32-d9fa415c7ce2                                                  0     \n",
       "033db366-1af1-4bd9-8339-c54800b1de57                                                  0     \n",
       "03777cdf-6779-4d23-93af-5b74fb982d7b                                                  0     \n",
       "038750e2-9994-4420-bfa9-a3756683ddd1                                                  0     \n",
       "03ba06a3-5dc6-4dad-84ed-7fe3196d7402                                                  0     \n",
       "...                                                                                 ...     \n",
       "f8b8e0df-4234-4839-b0ee-34a2c9ef4985                                                  0     \n",
       "f90f1702-d5f1-43f4-b167-2c440f941bf6                                                  0     \n",
       "f9554b80-de24-4930-b651-7b2ae3b4ba8c                                                  0     \n",
       "fd27f3fc-6f0b-4794-8555-3111ad520493                                                  0     \n",
       "fdfbb80c-8e66-499a-ac59-f311d6f4b6fa                                                  0     \n",
       "\n",
       "                                      chr13_27559802_27559881_27559818_27559819_T_TA  \\\n",
       "Patient_Core_ID                                                                        \n",
       "02eb77ff-2e07-4d56-9c32-d9fa415c7ce2                                               0   \n",
       "033db366-1af1-4bd9-8339-c54800b1de57                                               0   \n",
       "03777cdf-6779-4d23-93af-5b74fb982d7b                                               0   \n",
       "038750e2-9994-4420-bfa9-a3756683ddd1                                               0   \n",
       "03ba06a3-5dc6-4dad-84ed-7fe3196d7402                                               0   \n",
       "...                                                                              ...   \n",
       "f8b8e0df-4234-4839-b0ee-34a2c9ef4985                                               0   \n",
       "f90f1702-d5f1-43f4-b167-2c440f941bf6                                               0   \n",
       "f9554b80-de24-4930-b651-7b2ae3b4ba8c                                               0   \n",
       "fd27f3fc-6f0b-4794-8555-3111ad520493                                               0   \n",
       "fdfbb80c-8e66-499a-ac59-f311d6f4b6fa                                               0   \n",
       "\n",
       "                                      chr13_106568304_106568383_106568320_106568321_C_CT  \\\n",
       "Patient_Core_ID                                                                            \n",
       "02eb77ff-2e07-4d56-9c32-d9fa415c7ce2                                                  0    \n",
       "033db366-1af1-4bd9-8339-c54800b1de57                                                  0    \n",
       "03777cdf-6779-4d23-93af-5b74fb982d7b                                                  0    \n",
       "038750e2-9994-4420-bfa9-a3756683ddd1                                                  0    \n",
       "03ba06a3-5dc6-4dad-84ed-7fe3196d7402                                                  0    \n",
       "...                                                                                 ...    \n",
       "f8b8e0df-4234-4839-b0ee-34a2c9ef4985                                                  0    \n",
       "f90f1702-d5f1-43f4-b167-2c440f941bf6                                                  0    \n",
       "f9554b80-de24-4930-b651-7b2ae3b4ba8c                                                  0    \n",
       "fd27f3fc-6f0b-4794-8555-3111ad520493                                                  0    \n",
       "fdfbb80c-8e66-499a-ac59-f311d6f4b6fa                                                  0    \n",
       "\n",
       "                                      chr14_53156535_53156614_53156560_53156561_G_GA  \\\n",
       "Patient_Core_ID                                                                        \n",
       "02eb77ff-2e07-4d56-9c32-d9fa415c7ce2                                               0   \n",
       "033db366-1af1-4bd9-8339-c54800b1de57                                               0   \n",
       "03777cdf-6779-4d23-93af-5b74fb982d7b                                               0   \n",
       "038750e2-9994-4420-bfa9-a3756683ddd1                                               0   \n",
       "03ba06a3-5dc6-4dad-84ed-7fe3196d7402                                               0   \n",
       "...                                                                              ...   \n",
       "f8b8e0df-4234-4839-b0ee-34a2c9ef4985                                               0   \n",
       "f90f1702-d5f1-43f4-b167-2c440f941bf6                                               0   \n",
       "f9554b80-de24-4930-b651-7b2ae3b4ba8c                                               0   \n",
       "fd27f3fc-6f0b-4794-8555-3111ad520493                                               0   \n",
       "fdfbb80c-8e66-499a-ac59-f311d6f4b6fa                                               0   \n",
       "\n",
       "                                      chr15_43333396_43333475_43333419_43333420_G_GA  \\\n",
       "Patient_Core_ID                                                                        \n",
       "02eb77ff-2e07-4d56-9c32-d9fa415c7ce2                                               0   \n",
       "033db366-1af1-4bd9-8339-c54800b1de57                                               0   \n",
       "03777cdf-6779-4d23-93af-5b74fb982d7b                                               0   \n",
       "038750e2-9994-4420-bfa9-a3756683ddd1                                               0   \n",
       "03ba06a3-5dc6-4dad-84ed-7fe3196d7402                                               0   \n",
       "...                                                                              ...   \n",
       "f8b8e0df-4234-4839-b0ee-34a2c9ef4985                                               0   \n",
       "f90f1702-d5f1-43f4-b167-2c440f941bf6                                               0   \n",
       "f9554b80-de24-4930-b651-7b2ae3b4ba8c                                               0   \n",
       "fd27f3fc-6f0b-4794-8555-3111ad520493                                               0   \n",
       "fdfbb80c-8e66-499a-ac59-f311d6f4b6fa                                               0   \n",
       "\n",
       "                                      chr16_82035110_82035189_82035118_82035119_T_TA  \\\n",
       "Patient_Core_ID                                                                        \n",
       "02eb77ff-2e07-4d56-9c32-d9fa415c7ce2                                               0   \n",
       "033db366-1af1-4bd9-8339-c54800b1de57                                               0   \n",
       "03777cdf-6779-4d23-93af-5b74fb982d7b                                               0   \n",
       "038750e2-9994-4420-bfa9-a3756683ddd1                                               0   \n",
       "03ba06a3-5dc6-4dad-84ed-7fe3196d7402                                               0   \n",
       "...                                                                              ...   \n",
       "f8b8e0df-4234-4839-b0ee-34a2c9ef4985                                               0   \n",
       "f90f1702-d5f1-43f4-b167-2c440f941bf6                                               0   \n",
       "f9554b80-de24-4930-b651-7b2ae3b4ba8c                                               0   \n",
       "fd27f3fc-6f0b-4794-8555-3111ad520493                                               0   \n",
       "fdfbb80c-8e66-499a-ac59-f311d6f4b6fa                                               0   \n",
       "\n",
       "                                      chr2_158632604_158632683_158632628_158632629_C_CT  \\\n",
       "Patient_Core_ID                                                                           \n",
       "02eb77ff-2e07-4d56-9c32-d9fa415c7ce2                                                  0   \n",
       "033db366-1af1-4bd9-8339-c54800b1de57                                                  0   \n",
       "03777cdf-6779-4d23-93af-5b74fb982d7b                                                  0   \n",
       "038750e2-9994-4420-bfa9-a3756683ddd1                                                  0   \n",
       "03ba06a3-5dc6-4dad-84ed-7fe3196d7402                                                  0   \n",
       "...                                                                                 ...   \n",
       "f8b8e0df-4234-4839-b0ee-34a2c9ef4985                                                  0   \n",
       "f90f1702-d5f1-43f4-b167-2c440f941bf6                                                  0   \n",
       "f9554b80-de24-4930-b651-7b2ae3b4ba8c                                                  0   \n",
       "fd27f3fc-6f0b-4794-8555-3111ad520493                                                  0   \n",
       "fdfbb80c-8e66-499a-ac59-f311d6f4b6fa                                                  0   \n",
       "\n",
       "                                      chr2_181112019_181112098_181112025_181112026_G_GA  \\\n",
       "Patient_Core_ID                                                                           \n",
       "02eb77ff-2e07-4d56-9c32-d9fa415c7ce2                                                  0   \n",
       "033db366-1af1-4bd9-8339-c54800b1de57                                                  0   \n",
       "03777cdf-6779-4d23-93af-5b74fb982d7b                                                  0   \n",
       "038750e2-9994-4420-bfa9-a3756683ddd1                                                  0   \n",
       "03ba06a3-5dc6-4dad-84ed-7fe3196d7402                                                  0   \n",
       "...                                                                                 ...   \n",
       "f8b8e0df-4234-4839-b0ee-34a2c9ef4985                                                  0   \n",
       "f90f1702-d5f1-43f4-b167-2c440f941bf6                                                  0   \n",
       "f9554b80-de24-4930-b651-7b2ae3b4ba8c                                                  0   \n",
       "fd27f3fc-6f0b-4794-8555-3111ad520493                                                  0   \n",
       "fdfbb80c-8e66-499a-ac59-f311d6f4b6fa                                                  0   \n",
       "\n",
       "                                      chr4_27021030_27021109_27021056_27021057_C_CA  \\\n",
       "Patient_Core_ID                                                                       \n",
       "02eb77ff-2e07-4d56-9c32-d9fa415c7ce2                                              0   \n",
       "033db366-1af1-4bd9-8339-c54800b1de57                                              0   \n",
       "03777cdf-6779-4d23-93af-5b74fb982d7b                                              0   \n",
       "038750e2-9994-4420-bfa9-a3756683ddd1                                              0   \n",
       "03ba06a3-5dc6-4dad-84ed-7fe3196d7402                                              0   \n",
       "...                                                                             ...   \n",
       "f8b8e0df-4234-4839-b0ee-34a2c9ef4985                                              0   \n",
       "f90f1702-d5f1-43f4-b167-2c440f941bf6                                              0   \n",
       "f9554b80-de24-4930-b651-7b2ae3b4ba8c                                              0   \n",
       "fd27f3fc-6f0b-4794-8555-3111ad520493                                              0   \n",
       "fdfbb80c-8e66-499a-ac59-f311d6f4b6fa                                              0   \n",
       "\n",
       "                                      chr7_151813480_151813559_151813491_151813493_GA_G  \n",
       "Patient_Core_ID                                                                          \n",
       "02eb77ff-2e07-4d56-9c32-d9fa415c7ce2                                                  0  \n",
       "033db366-1af1-4bd9-8339-c54800b1de57                                                  0  \n",
       "03777cdf-6779-4d23-93af-5b74fb982d7b                                                  0  \n",
       "038750e2-9994-4420-bfa9-a3756683ddd1                                                  0  \n",
       "03ba06a3-5dc6-4dad-84ed-7fe3196d7402                                                  0  \n",
       "...                                                                                 ...  \n",
       "f8b8e0df-4234-4839-b0ee-34a2c9ef4985                                                  0  \n",
       "f90f1702-d5f1-43f4-b167-2c440f941bf6                                                  0  \n",
       "f9554b80-de24-4930-b651-7b2ae3b4ba8c                                                  0  \n",
       "fd27f3fc-6f0b-4794-8555-3111ad520493                                                  0  \n",
       "fdfbb80c-8e66-499a-ac59-f311d6f4b6fa                                                  0  \n",
       "\n",
       "[216 rows x 440 columns]"
      ]
     },
     "execution_count": 22,
     "metadata": {},
     "output_type": "execute_result"
    }
   ],
   "source": [
    "data_processed[top_columns]"
   ]
  },
  {
   "cell_type": "code",
   "execution_count": 23,
   "id": "4448c5aa-8bfe-4af3-b528-ba47e699656d",
   "metadata": {},
   "outputs": [],
   "source": [
    "scaler = StandardScaler()\n",
    "scaled_data = scaler.fit_transform(data_processed[top_columns])"
   ]
  },
  {
   "cell_type": "code",
   "execution_count": 24,
   "id": "96db3cda-9bb5-42b6-982b-6713503ac987",
   "metadata": {},
   "outputs": [
    {
     "data": {
      "text/plain": [
       "array([[ 0.98164982, -0.98164982, -1.02817453, ...,  0.09667365,\n",
       "         0.09667365, -0.09667365],\n",
       "       [-1.01869321,  1.01869321,  0.97259753, ...,  0.09667365,\n",
       "         0.09667365, -0.09667365],\n",
       "       [-1.01869321,  1.01869321,  0.97259753, ...,  0.09667365,\n",
       "         0.09667365, -0.09667365],\n",
       "       ...,\n",
       "       [ 0.98164982,  1.01869321, -1.02817453, ...,  0.09667365,\n",
       "         0.09667365, -0.09667365],\n",
       "       [ 0.98164982,  1.01869321,  0.97259753, ...,  0.09667365,\n",
       "         0.09667365, -0.09667365],\n",
       "       [-1.01869321, -0.98164982,  0.97259753, ...,  0.09667365,\n",
       "         0.09667365, -0.09667365]])"
      ]
     },
     "execution_count": 24,
     "metadata": {},
     "output_type": "execute_result"
    }
   ],
   "source": [
    "scaled_data"
   ]
  },
  {
   "cell_type": "code",
   "execution_count": 25,
   "id": "78e4363b-6ae8-40c5-bde3-704fefe8b8b0",
   "metadata": {},
   "outputs": [
    {
     "data": {
      "application/vnd.plotly.v1+json": {
       "config": {
        "plotlyServerURL": "https://plot.ly"
       },
       "data": [
        {
         "hoverinfo": "text",
         "marker": {
          "color": "rgb(61,153,112)"
         },
         "mode": "lines",
         "type": "scatter",
         "x": [
          5,
          5,
          15,
          15
         ],
         "xaxis": "x",
         "y": [
          0,
          29.039033801988804,
          29.039033801988804,
          0
         ],
         "yaxis": "y"
        },
        {
         "hoverinfo": "text",
         "marker": {
          "color": "rgb(255,65,54)"
         },
         "mode": "lines",
         "type": "scatter",
         "x": [
          35,
          35,
          45,
          45
         ],
         "xaxis": "x",
         "y": [
          0,
          49.00480234693535,
          49.00480234693535,
          0
         ],
         "yaxis": "y"
        },
        {
         "hoverinfo": "text",
         "marker": {
          "color": "rgb(255,65,54)"
         },
         "mode": "lines",
         "type": "scatter",
         "x": [
          25,
          25,
          40,
          40
         ],
         "xaxis": "x",
         "y": [
          0,
          51.33402335492533,
          51.33402335492533,
          49.00480234693535
         ],
         "yaxis": "y"
        },
        {
         "hoverinfo": "text",
         "marker": {
          "color": "rgb(255,65,54)"
         },
         "mode": "lines",
         "type": "scatter",
         "x": [
          75,
          75,
          85,
          85
         ],
         "xaxis": "x",
         "y": [
          0,
          42.62580636471351,
          42.62580636471351,
          0
         ],
         "yaxis": "y"
        },
        {
         "hoverinfo": "text",
         "marker": {
          "color": "rgb(255,65,54)"
         },
         "mode": "lines",
         "type": "scatter",
         "x": [
          65,
          65,
          80,
          80
         ],
         "xaxis": "x",
         "y": [
          0,
          47.7568514511117,
          47.7568514511117,
          42.62580636471351
         ],
         "yaxis": "y"
        },
        {
         "hoverinfo": "text",
         "marker": {
          "color": "rgb(255,65,54)"
         },
         "mode": "lines",
         "type": "scatter",
         "x": [
          55,
          55,
          72.5,
          72.5
         ],
         "xaxis": "x",
         "y": [
          0,
          48.38169138729477,
          48.38169138729477,
          47.7568514511117
         ],
         "yaxis": "y"
        },
        {
         "hoverinfo": "text",
         "marker": {
          "color": "rgb(255,65,54)"
         },
         "mode": "lines",
         "type": "scatter",
         "x": [
          95,
          95,
          105,
          105
         ],
         "xaxis": "x",
         "y": [
          0,
          50.06862574809006,
          50.06862574809006,
          0
         ],
         "yaxis": "y"
        },
        {
         "hoverinfo": "text",
         "marker": {
          "color": "rgb(255,65,54)"
         },
         "mode": "lines",
         "type": "scatter",
         "x": [
          63.75,
          63.75,
          100,
          100
         ],
         "xaxis": "x",
         "y": [
          48.38169138729477,
          51.45310128219264,
          51.45310128219264,
          50.06862574809006
         ],
         "yaxis": "y"
        },
        {
         "hoverinfo": "text",
         "marker": {
          "color": "rgb(255,65,54)"
         },
         "mode": "lines",
         "type": "scatter",
         "x": [
          32.5,
          32.5,
          81.875,
          81.875
         ],
         "xaxis": "x",
         "y": [
          51.33402335492533,
          58.24117052065187,
          58.24117052065187,
          51.45310128219264
         ],
         "yaxis": "y"
        },
        {
         "hoverinfo": "text",
         "marker": {
          "color": "rgb(35,205,205)"
         },
         "mode": "lines",
         "type": "scatter",
         "x": [
          125,
          125,
          135,
          135
         ],
         "xaxis": "x",
         "y": [
          0,
          22.818271689313935,
          22.818271689313935,
          0
         ],
         "yaxis": "y"
        },
        {
         "hoverinfo": "text",
         "marker": {
          "color": "rgb(35,205,205)"
         },
         "mode": "lines",
         "type": "scatter",
         "x": [
          115,
          115,
          130,
          130
         ],
         "xaxis": "x",
         "y": [
          0,
          28.551343584122858,
          28.551343584122858,
          22.818271689313935
         ],
         "yaxis": "y"
        },
        {
         "hoverinfo": "text",
         "marker": {
          "color": "rgb(35,205,205)"
         },
         "mode": "lines",
         "type": "scatter",
         "x": [
          145,
          145,
          155,
          155
         ],
         "xaxis": "x",
         "y": [
          0,
          22.821212627329835,
          22.821212627329835,
          0
         ],
         "yaxis": "y"
        },
        {
         "hoverinfo": "text",
         "marker": {
          "color": "rgb(35,205,205)"
         },
         "mode": "lines",
         "type": "scatter",
         "x": [
          165,
          165,
          175,
          175
         ],
         "xaxis": "x",
         "y": [
          0,
          20.393575267356322,
          20.393575267356322,
          0
         ],
         "yaxis": "y"
        },
        {
         "hoverinfo": "text",
         "marker": {
          "color": "rgb(35,205,205)"
         },
         "mode": "lines",
         "type": "scatter",
         "x": [
          185,
          185,
          195,
          195
         ],
         "xaxis": "x",
         "y": [
          0,
          23.237687523029614,
          23.237687523029614,
          0
         ],
         "yaxis": "y"
        },
        {
         "hoverinfo": "text",
         "marker": {
          "color": "rgb(35,205,205)"
         },
         "mode": "lines",
         "type": "scatter",
         "x": [
          170,
          170,
          190,
          190
         ],
         "xaxis": "x",
         "y": [
          20.393575267356322,
          27.5899208707468,
          27.5899208707468,
          23.237687523029614
         ],
         "yaxis": "y"
        },
        {
         "hoverinfo": "text",
         "marker": {
          "color": "rgb(35,205,205)"
         },
         "mode": "lines",
         "type": "scatter",
         "x": [
          150,
          150,
          180,
          180
         ],
         "xaxis": "x",
         "y": [
          22.821212627329835,
          29.74526175440806,
          29.74526175440806,
          27.5899208707468
         ],
         "yaxis": "y"
        },
        {
         "hoverinfo": "text",
         "marker": {
          "color": "rgb(35,205,205)"
         },
         "mode": "lines",
         "type": "scatter",
         "x": [
          215,
          215,
          225,
          225
         ],
         "xaxis": "x",
         "y": [
          0,
          22.368399157208593,
          22.368399157208593,
          0
         ],
         "yaxis": "y"
        },
        {
         "hoverinfo": "text",
         "marker": {
          "color": "rgb(35,205,205)"
         },
         "mode": "lines",
         "type": "scatter",
         "x": [
          245,
          245,
          255,
          255
         ],
         "xaxis": "x",
         "y": [
          0,
          20.373521795588267,
          20.373521795588267,
          0
         ],
         "yaxis": "y"
        },
        {
         "hoverinfo": "text",
         "marker": {
          "color": "rgb(35,205,205)"
         },
         "mode": "lines",
         "type": "scatter",
         "x": [
          235,
          235,
          250,
          250
         ],
         "xaxis": "x",
         "y": [
          0,
          23.314278109087166,
          23.314278109087166,
          20.373521795588267
         ],
         "yaxis": "y"
        },
        {
         "hoverinfo": "text",
         "marker": {
          "color": "rgb(35,205,205)"
         },
         "mode": "lines",
         "type": "scatter",
         "x": [
          220,
          220,
          242.5,
          242.5
         ],
         "xaxis": "x",
         "y": [
          22.368399157208593,
          25.063872693426163,
          25.063872693426163,
          23.314278109087166
         ],
         "yaxis": "y"
        },
        {
         "hoverinfo": "text",
         "marker": {
          "color": "rgb(35,205,205)"
         },
         "mode": "lines",
         "type": "scatter",
         "x": [
          205,
          205,
          231.25,
          231.25
         ],
         "xaxis": "x",
         "y": [
          0,
          28.48366824343522,
          28.48366824343522,
          25.063872693426163
         ],
         "yaxis": "y"
        },
        {
         "hoverinfo": "text",
         "marker": {
          "color": "rgb(35,205,205)"
         },
         "mode": "lines",
         "type": "scatter",
         "x": [
          265,
          265,
          275,
          275
         ],
         "xaxis": "x",
         "y": [
          0,
          20.93763383073644,
          20.93763383073644,
          0
         ],
         "yaxis": "y"
        },
        {
         "hoverinfo": "text",
         "marker": {
          "color": "rgb(35,205,205)"
         },
         "mode": "lines",
         "type": "scatter",
         "x": [
          285,
          285,
          295,
          295
         ],
         "xaxis": "x",
         "y": [
          0,
          17.923310642090463,
          17.923310642090463,
          0
         ],
         "yaxis": "y"
        },
        {
         "hoverinfo": "text",
         "marker": {
          "color": "rgb(35,205,205)"
         },
         "mode": "lines",
         "type": "scatter",
         "x": [
          305,
          305,
          315,
          315
         ],
         "xaxis": "x",
         "y": [
          0,
          19.22122281358405,
          19.22122281358405,
          0
         ],
         "yaxis": "y"
        },
        {
         "hoverinfo": "text",
         "marker": {
          "color": "rgb(35,205,205)"
         },
         "mode": "lines",
         "type": "scatter",
         "x": [
          290,
          290,
          310,
          310
         ],
         "xaxis": "x",
         "y": [
          17.923310642090463,
          21.14261726637551,
          21.14261726637551,
          19.22122281358405
         ],
         "yaxis": "y"
        },
        {
         "hoverinfo": "text",
         "marker": {
          "color": "rgb(35,205,205)"
         },
         "mode": "lines",
         "type": "scatter",
         "x": [
          325,
          325,
          335,
          335
         ],
         "xaxis": "x",
         "y": [
          0,
          20.45317828573994,
          20.45317828573994,
          0
         ],
         "yaxis": "y"
        },
        {
         "hoverinfo": "text",
         "marker": {
          "color": "rgb(35,205,205)"
         },
         "mode": "lines",
         "type": "scatter",
         "x": [
          365,
          365,
          375,
          375
         ],
         "xaxis": "x",
         "y": [
          0,
          19.111366265862593,
          19.111366265862593,
          0
         ],
         "yaxis": "y"
        },
        {
         "hoverinfo": "text",
         "marker": {
          "color": "rgb(35,205,205)"
         },
         "mode": "lines",
         "type": "scatter",
         "x": [
          355,
          355,
          370,
          370
         ],
         "xaxis": "x",
         "y": [
          0,
          22.178493179604757,
          22.178493179604757,
          19.111366265862593
         ],
         "yaxis": "y"
        },
        {
         "hoverinfo": "text",
         "marker": {
          "color": "rgb(35,205,205)"
         },
         "mode": "lines",
         "type": "scatter",
         "x": [
          345,
          345,
          362.5,
          362.5
         ],
         "xaxis": "x",
         "y": [
          0,
          22.777849323810727,
          22.777849323810727,
          22.178493179604757
         ],
         "yaxis": "y"
        },
        {
         "hoverinfo": "text",
         "marker": {
          "color": "rgb(35,205,205)"
         },
         "mode": "lines",
         "type": "scatter",
         "x": [
          405,
          405,
          415,
          415
         ],
         "xaxis": "x",
         "y": [
          0,
          17.19435986511038,
          17.19435986511038,
          0
         ],
         "yaxis": "y"
        },
        {
         "hoverinfo": "text",
         "marker": {
          "color": "rgb(35,205,205)"
         },
         "mode": "lines",
         "type": "scatter",
         "x": [
          395,
          395,
          410,
          410
         ],
         "xaxis": "x",
         "y": [
          0,
          18.390597843912193,
          18.390597843912193,
          17.19435986511038
         ],
         "yaxis": "y"
        },
        {
         "hoverinfo": "text",
         "marker": {
          "color": "rgb(35,205,205)"
         },
         "mode": "lines",
         "type": "scatter",
         "x": [
          435,
          435,
          445,
          445
         ],
         "xaxis": "x",
         "y": [
          0,
          15.598034224725446,
          15.598034224725446,
          0
         ],
         "yaxis": "y"
        },
        {
         "hoverinfo": "text",
         "marker": {
          "color": "rgb(35,205,205)"
         },
         "mode": "lines",
         "type": "scatter",
         "x": [
          425,
          425,
          440,
          440
         ],
         "xaxis": "x",
         "y": [
          0,
          18.03770907643753,
          18.03770907643753,
          15.598034224725446
         ],
         "yaxis": "y"
        },
        {
         "hoverinfo": "text",
         "marker": {
          "color": "rgb(35,205,205)"
         },
         "mode": "lines",
         "type": "scatter",
         "x": [
          455,
          455,
          465,
          465
         ],
         "xaxis": "x",
         "y": [
          0,
          19.236386536143737,
          19.236386536143737,
          0
         ],
         "yaxis": "y"
        },
        {
         "hoverinfo": "text",
         "marker": {
          "color": "rgb(35,205,205)"
         },
         "mode": "lines",
         "type": "scatter",
         "x": [
          432.5,
          432.5,
          460,
          460
         ],
         "xaxis": "x",
         "y": [
          18.03770907643753,
          20.209300270851934,
          20.209300270851934,
          19.236386536143737
         ],
         "yaxis": "y"
        },
        {
         "hoverinfo": "text",
         "marker": {
          "color": "rgb(35,205,205)"
         },
         "mode": "lines",
         "type": "scatter",
         "x": [
          402.5,
          402.5,
          446.25,
          446.25
         ],
         "xaxis": "x",
         "y": [
          18.390597843912193,
          20.66004773423835,
          20.66004773423835,
          20.209300270851934
         ],
         "yaxis": "y"
        },
        {
         "hoverinfo": "text",
         "marker": {
          "color": "rgb(35,205,205)"
         },
         "mode": "lines",
         "type": "scatter",
         "x": [
          385,
          385,
          424.375,
          424.375
         ],
         "xaxis": "x",
         "y": [
          0,
          22.877772108182363,
          22.877772108182363,
          20.66004773423835
         ],
         "yaxis": "y"
        },
        {
         "hoverinfo": "text",
         "marker": {
          "color": "rgb(35,205,205)"
         },
         "mode": "lines",
         "type": "scatter",
         "x": [
          353.75,
          353.75,
          404.6875,
          404.6875
         ],
         "xaxis": "x",
         "y": [
          22.777849323810727,
          23.2825082459729,
          23.2825082459729,
          22.877772108182363
         ],
         "yaxis": "y"
        },
        {
         "hoverinfo": "text",
         "marker": {
          "color": "rgb(35,205,205)"
         },
         "mode": "lines",
         "type": "scatter",
         "x": [
          505,
          505,
          515,
          515
         ],
         "xaxis": "x",
         "y": [
          0,
          18.502331547189563,
          18.502331547189563,
          0
         ],
         "yaxis": "y"
        },
        {
         "hoverinfo": "text",
         "marker": {
          "color": "rgb(35,205,205)"
         },
         "mode": "lines",
         "type": "scatter",
         "x": [
          495,
          495,
          510,
          510
         ],
         "xaxis": "x",
         "y": [
          0,
          20.80272905399703,
          20.80272905399703,
          18.502331547189563
         ],
         "yaxis": "y"
        },
        {
         "hoverinfo": "text",
         "marker": {
          "color": "rgb(35,205,205)"
         },
         "mode": "lines",
         "type": "scatter",
         "x": [
          485,
          485,
          502.5,
          502.5
         ],
         "xaxis": "x",
         "y": [
          0,
          21.967761097003162,
          21.967761097003162,
          20.80272905399703
         ],
         "yaxis": "y"
        },
        {
         "hoverinfo": "text",
         "marker": {
          "color": "rgb(35,205,205)"
         },
         "mode": "lines",
         "type": "scatter",
         "x": [
          475,
          475,
          493.75,
          493.75
         ],
         "xaxis": "x",
         "y": [
          0,
          23.372350157892384,
          23.372350157892384,
          21.967761097003162
         ],
         "yaxis": "y"
        },
        {
         "hoverinfo": "text",
         "marker": {
          "color": "rgb(35,205,205)"
         },
         "mode": "lines",
         "type": "scatter",
         "x": [
          379.21875,
          379.21875,
          484.375,
          484.375
         ],
         "xaxis": "x",
         "y": [
          23.2825082459729,
          25.156560250744718,
          25.156560250744718,
          23.372350157892384
         ],
         "yaxis": "y"
        },
        {
         "hoverinfo": "text",
         "marker": {
          "color": "rgb(35,205,205)"
         },
         "mode": "lines",
         "type": "scatter",
         "x": [
          330,
          330,
          431.796875,
          431.796875
         ],
         "xaxis": "x",
         "y": [
          20.45317828573994,
          25.621398942481324,
          25.621398942481324,
          25.156560250744718
         ],
         "yaxis": "y"
        },
        {
         "hoverinfo": "text",
         "marker": {
          "color": "rgb(35,205,205)"
         },
         "mode": "lines",
         "type": "scatter",
         "x": [
          300,
          300,
          380.8984375,
          380.8984375
         ],
         "xaxis": "x",
         "y": [
          21.14261726637551,
          27.71925846287565,
          27.71925846287565,
          25.621398942481324
         ],
         "yaxis": "y"
        },
        {
         "hoverinfo": "text",
         "marker": {
          "color": "rgb(35,205,205)"
         },
         "mode": "lines",
         "type": "scatter",
         "x": [
          270,
          270,
          340.44921875,
          340.44921875
         ],
         "xaxis": "x",
         "y": [
          20.93763383073644,
          29.328991932014628,
          29.328991932014628,
          27.71925846287565
         ],
         "yaxis": "y"
        },
        {
         "hoverinfo": "text",
         "marker": {
          "color": "rgb(35,205,205)"
         },
         "mode": "lines",
         "type": "scatter",
         "x": [
          218.125,
          218.125,
          305.224609375,
          305.224609375
         ],
         "xaxis": "x",
         "y": [
          28.48366824343522,
          30.001802480436186,
          30.001802480436186,
          29.328991932014628
         ],
         "yaxis": "y"
        },
        {
         "hoverinfo": "text",
         "marker": {
          "color": "rgb(35,205,205)"
         },
         "mode": "lines",
         "type": "scatter",
         "x": [
          525,
          525,
          535,
          535
         ],
         "xaxis": "x",
         "y": [
          0,
          17.12875086406316,
          17.12875086406316,
          0
         ],
         "yaxis": "y"
        },
        {
         "hoverinfo": "text",
         "marker": {
          "color": "rgb(35,205,205)"
         },
         "mode": "lines",
         "type": "scatter",
         "x": [
          545,
          545,
          555,
          555
         ],
         "xaxis": "x",
         "y": [
          0,
          18.896275306041883,
          18.896275306041883,
          0
         ],
         "yaxis": "y"
        },
        {
         "hoverinfo": "text",
         "marker": {
          "color": "rgb(35,205,205)"
         },
         "mode": "lines",
         "type": "scatter",
         "x": [
          530,
          530,
          550,
          550
         ],
         "xaxis": "x",
         "y": [
          17.12875086406316,
          19.834175736224122,
          19.834175736224122,
          18.896275306041883
         ],
         "yaxis": "y"
        },
        {
         "hoverinfo": "text",
         "marker": {
          "color": "rgb(35,205,205)"
         },
         "mode": "lines",
         "type": "scatter",
         "x": [
          565,
          565,
          575,
          575
         ],
         "xaxis": "x",
         "y": [
          0,
          24.54235317305468,
          24.54235317305468,
          0
         ],
         "yaxis": "y"
        },
        {
         "hoverinfo": "text",
         "marker": {
          "color": "rgb(35,205,205)"
         },
         "mode": "lines",
         "type": "scatter",
         "x": [
          540,
          540,
          570,
          570
         ],
         "xaxis": "x",
         "y": [
          19.834175736224122,
          30.059101769653097,
          30.059101769653097,
          24.54235317305468
         ],
         "yaxis": "y"
        },
        {
         "hoverinfo": "text",
         "marker": {
          "color": "rgb(35,205,205)"
         },
         "mode": "lines",
         "type": "scatter",
         "x": [
          261.6748046875,
          261.6748046875,
          555,
          555
         ],
         "xaxis": "x",
         "y": [
          30.001802480436186,
          30.588007870056803,
          30.588007870056803,
          30.059101769653097
         ],
         "yaxis": "y"
        },
        {
         "hoverinfo": "text",
         "marker": {
          "color": "rgb(35,205,205)"
         },
         "mode": "lines",
         "type": "scatter",
         "x": [
          165,
          165,
          408.33740234375,
          408.33740234375
         ],
         "xaxis": "x",
         "y": [
          29.74526175440806,
          32.0624871078136,
          32.0624871078136,
          30.588007870056803
         ],
         "yaxis": "y"
        },
        {
         "hoverinfo": "text",
         "marker": {
          "color": "rgb(35,205,205)"
         },
         "mode": "lines",
         "type": "scatter",
         "x": [
          122.5,
          122.5,
          286.668701171875,
          286.668701171875
         ],
         "xaxis": "x",
         "y": [
          28.551343584122858,
          32.7681343449817,
          32.7681343449817,
          32.0624871078136
         ],
         "yaxis": "y"
        },
        {
         "hoverinfo": "text",
         "marker": {
          "color": "rgb(35,205,205)"
         },
         "mode": "lines",
         "type": "scatter",
         "x": [
          595,
          595,
          605,
          605
         ],
         "xaxis": "x",
         "y": [
          0,
          12.359808866147821,
          12.359808866147821,
          0
         ],
         "yaxis": "y"
        },
        {
         "hoverinfo": "text",
         "marker": {
          "color": "rgb(35,205,205)"
         },
         "mode": "lines",
         "type": "scatter",
         "x": [
          585,
          585,
          600,
          600
         ],
         "xaxis": "x",
         "y": [
          0,
          33.48758065193586,
          33.48758065193586,
          12.359808866147821
         ],
         "yaxis": "y"
        },
        {
         "hoverinfo": "text",
         "marker": {
          "color": "rgb(35,205,205)"
         },
         "mode": "lines",
         "type": "scatter",
         "x": [
          204.5843505859375,
          204.5843505859375,
          592.5,
          592.5
         ],
         "xaxis": "x",
         "y": [
          32.7681343449817,
          34.71206147068792,
          34.71206147068792,
          33.48758065193586
         ],
         "yaxis": "y"
        },
        {
         "hoverinfo": "text",
         "marker": {
          "color": "rgb(133,20,75)"
         },
         "mode": "lines",
         "type": "scatter",
         "x": [
          635,
          635,
          645,
          645
         ],
         "xaxis": "x",
         "y": [
          0,
          26.11392160300328,
          26.11392160300328,
          0
         ],
         "yaxis": "y"
        },
        {
         "hoverinfo": "text",
         "marker": {
          "color": "rgb(133,20,75)"
         },
         "mode": "lines",
         "type": "scatter",
         "x": [
          625,
          625,
          640,
          640
         ],
         "xaxis": "x",
         "y": [
          0,
          32.4730302985335,
          32.4730302985335,
          26.11392160300328
         ],
         "yaxis": "y"
        },
        {
         "hoverinfo": "text",
         "marker": {
          "color": "rgb(133,20,75)"
         },
         "mode": "lines",
         "type": "scatter",
         "x": [
          655,
          655,
          665,
          665
         ],
         "xaxis": "x",
         "y": [
          0,
          24.941772148303425,
          24.941772148303425,
          0
         ],
         "yaxis": "y"
        },
        {
         "hoverinfo": "text",
         "marker": {
          "color": "rgb(133,20,75)"
         },
         "mode": "lines",
         "type": "scatter",
         "x": [
          695,
          695,
          705,
          705
         ],
         "xaxis": "x",
         "y": [
          0,
          24.892402304554015,
          24.892402304554015,
          0
         ],
         "yaxis": "y"
        },
        {
         "hoverinfo": "text",
         "marker": {
          "color": "rgb(133,20,75)"
         },
         "mode": "lines",
         "type": "scatter",
         "x": [
          685,
          685,
          700,
          700
         ],
         "xaxis": "x",
         "y": [
          0,
          25.56212327162851,
          25.56212327162851,
          24.892402304554015
         ],
         "yaxis": "y"
        },
        {
         "hoverinfo": "text",
         "marker": {
          "color": "rgb(133,20,75)"
         },
         "mode": "lines",
         "type": "scatter",
         "x": [
          675,
          675,
          692.5,
          692.5
         ],
         "xaxis": "x",
         "y": [
          0,
          25.861452667004574,
          25.861452667004574,
          25.56212327162851
         ],
         "yaxis": "y"
        },
        {
         "hoverinfo": "text",
         "marker": {
          "color": "rgb(133,20,75)"
         },
         "mode": "lines",
         "type": "scatter",
         "x": [
          660,
          660,
          683.75,
          683.75
         ],
         "xaxis": "x",
         "y": [
          24.941772148303425,
          30.585867829347876,
          30.585867829347876,
          25.861452667004574
         ],
         "yaxis": "y"
        },
        {
         "hoverinfo": "text",
         "marker": {
          "color": "rgb(133,20,75)"
         },
         "mode": "lines",
         "type": "scatter",
         "x": [
          715,
          715,
          725,
          725
         ],
         "xaxis": "x",
         "y": [
          0,
          22.85335248976507,
          22.85335248976507,
          0
         ],
         "yaxis": "y"
        },
        {
         "hoverinfo": "text",
         "marker": {
          "color": "rgb(133,20,75)"
         },
         "mode": "lines",
         "type": "scatter",
         "x": [
          745,
          745,
          755,
          755
         ],
         "xaxis": "x",
         "y": [
          0,
          22.195617151227555,
          22.195617151227555,
          0
         ],
         "yaxis": "y"
        },
        {
         "hoverinfo": "text",
         "marker": {
          "color": "rgb(133,20,75)"
         },
         "mode": "lines",
         "type": "scatter",
         "x": [
          735,
          735,
          750,
          750
         ],
         "xaxis": "x",
         "y": [
          0,
          25.213305266561996,
          25.213305266561996,
          22.195617151227555
         ],
         "yaxis": "y"
        },
        {
         "hoverinfo": "text",
         "marker": {
          "color": "rgb(133,20,75)"
         },
         "mode": "lines",
         "type": "scatter",
         "x": [
          720,
          720,
          742.5,
          742.5
         ],
         "xaxis": "x",
         "y": [
          22.85335248976507,
          26.550737852326016,
          26.550737852326016,
          25.213305266561996
         ],
         "yaxis": "y"
        },
        {
         "hoverinfo": "text",
         "marker": {
          "color": "rgb(133,20,75)"
         },
         "mode": "lines",
         "type": "scatter",
         "x": [
          785,
          785,
          795,
          795
         ],
         "xaxis": "x",
         "y": [
          0,
          21.42773995534273,
          21.42773995534273,
          0
         ],
         "yaxis": "y"
        },
        {
         "hoverinfo": "text",
         "marker": {
          "color": "rgb(133,20,75)"
         },
         "mode": "lines",
         "type": "scatter",
         "x": [
          775,
          775,
          790,
          790
         ],
         "xaxis": "x",
         "y": [
          0,
          22.84748064530788,
          22.84748064530788,
          21.42773995534273
         ],
         "yaxis": "y"
        },
        {
         "hoverinfo": "text",
         "marker": {
          "color": "rgb(133,20,75)"
         },
         "mode": "lines",
         "type": "scatter",
         "x": [
          765,
          765,
          782.5,
          782.5
         ],
         "xaxis": "x",
         "y": [
          0,
          28.657264512650634,
          28.657264512650634,
          22.84748064530788
         ],
         "yaxis": "y"
        },
        {
         "hoverinfo": "text",
         "marker": {
          "color": "rgb(133,20,75)"
         },
         "mode": "lines",
         "type": "scatter",
         "x": [
          731.25,
          731.25,
          773.75,
          773.75
         ],
         "xaxis": "x",
         "y": [
          26.550737852326016,
          30.840236767620567,
          30.840236767620567,
          28.657264512650634
         ],
         "yaxis": "y"
        },
        {
         "hoverinfo": "text",
         "marker": {
          "color": "rgb(133,20,75)"
         },
         "mode": "lines",
         "type": "scatter",
         "x": [
          805,
          805,
          815,
          815
         ],
         "xaxis": "x",
         "y": [
          0,
          26.20947081465058,
          26.20947081465058,
          0
         ],
         "yaxis": "y"
        },
        {
         "hoverinfo": "text",
         "marker": {
          "color": "rgb(133,20,75)"
         },
         "mode": "lines",
         "type": "scatter",
         "x": [
          835,
          835,
          845,
          845
         ],
         "xaxis": "x",
         "y": [
          0,
          21.167396345101466,
          21.167396345101466,
          0
         ],
         "yaxis": "y"
        },
        {
         "hoverinfo": "text",
         "marker": {
          "color": "rgb(133,20,75)"
         },
         "mode": "lines",
         "type": "scatter",
         "x": [
          825,
          825,
          840,
          840
         ],
         "xaxis": "x",
         "y": [
          0,
          25.21875978746438,
          25.21875978746438,
          21.167396345101466
         ],
         "yaxis": "y"
        },
        {
         "hoverinfo": "text",
         "marker": {
          "color": "rgb(133,20,75)"
         },
         "mode": "lines",
         "type": "scatter",
         "x": [
          865,
          865,
          875,
          875
         ],
         "xaxis": "x",
         "y": [
          0,
          20.755397386684955,
          20.755397386684955,
          0
         ],
         "yaxis": "y"
        },
        {
         "hoverinfo": "text",
         "marker": {
          "color": "rgb(133,20,75)"
         },
         "mode": "lines",
         "type": "scatter",
         "x": [
          855,
          855,
          870,
          870
         ],
         "xaxis": "x",
         "y": [
          0,
          23.72495995581716,
          23.72495995581716,
          20.755397386684955
         ],
         "yaxis": "y"
        },
        {
         "hoverinfo": "text",
         "marker": {
          "color": "rgb(133,20,75)"
         },
         "mode": "lines",
         "type": "scatter",
         "x": [
          905,
          905,
          915,
          915
         ],
         "xaxis": "x",
         "y": [
          0,
          19.55978572248009,
          19.55978572248009,
          0
         ],
         "yaxis": "y"
        },
        {
         "hoverinfo": "text",
         "marker": {
          "color": "rgb(133,20,75)"
         },
         "mode": "lines",
         "type": "scatter",
         "x": [
          895,
          895,
          910,
          910
         ],
         "xaxis": "x",
         "y": [
          0,
          21.72162039333443,
          21.72162039333443,
          19.55978572248009
         ],
         "yaxis": "y"
        },
        {
         "hoverinfo": "text",
         "marker": {
          "color": "rgb(133,20,75)"
         },
         "mode": "lines",
         "type": "scatter",
         "x": [
          885,
          885,
          902.5,
          902.5
         ],
         "xaxis": "x",
         "y": [
          0,
          24.48639548640644,
          24.48639548640644,
          21.72162039333443
         ],
         "yaxis": "y"
        },
        {
         "hoverinfo": "text",
         "marker": {
          "color": "rgb(133,20,75)"
         },
         "mode": "lines",
         "type": "scatter",
         "x": [
          862.5,
          862.5,
          893.75,
          893.75
         ],
         "xaxis": "x",
         "y": [
          23.72495995581716,
          26.09308262504858,
          26.09308262504858,
          24.48639548640644
         ],
         "yaxis": "y"
        },
        {
         "hoverinfo": "text",
         "marker": {
          "color": "rgb(133,20,75)"
         },
         "mode": "lines",
         "type": "scatter",
         "x": [
          832.5,
          832.5,
          878.125,
          878.125
         ],
         "xaxis": "x",
         "y": [
          25.21875978746438,
          27.87157606689172,
          27.87157606689172,
          26.09308262504858
         ],
         "yaxis": "y"
        },
        {
         "hoverinfo": "text",
         "marker": {
          "color": "rgb(133,20,75)"
         },
         "mode": "lines",
         "type": "scatter",
         "x": [
          935,
          935,
          945,
          945
         ],
         "xaxis": "x",
         "y": [
          0,
          24.56954620503805,
          24.56954620503805,
          0
         ],
         "yaxis": "y"
        },
        {
         "hoverinfo": "text",
         "marker": {
          "color": "rgb(133,20,75)"
         },
         "mode": "lines",
         "type": "scatter",
         "x": [
          925,
          925,
          940,
          940
         ],
         "xaxis": "x",
         "y": [
          0,
          26.640587321023517,
          26.640587321023517,
          24.56954620503805
         ],
         "yaxis": "y"
        },
        {
         "hoverinfo": "text",
         "marker": {
          "color": "rgb(133,20,75)"
         },
         "mode": "lines",
         "type": "scatter",
         "x": [
          975,
          975,
          985,
          985
         ],
         "xaxis": "x",
         "y": [
          0,
          21.836349392329534,
          21.836349392329534,
          0
         ],
         "yaxis": "y"
        },
        {
         "hoverinfo": "text",
         "marker": {
          "color": "rgb(133,20,75)"
         },
         "mode": "lines",
         "type": "scatter",
         "x": [
          965,
          965,
          980,
          980
         ],
         "xaxis": "x",
         "y": [
          0,
          26.145374037436355,
          26.145374037436355,
          21.836349392329534
         ],
         "yaxis": "y"
        },
        {
         "hoverinfo": "text",
         "marker": {
          "color": "rgb(133,20,75)"
         },
         "mode": "lines",
         "type": "scatter",
         "x": [
          1025,
          1025,
          1035,
          1035
         ],
         "xaxis": "x",
         "y": [
          0,
          20.5835455843245,
          20.5835455843245,
          0
         ],
         "yaxis": "y"
        },
        {
         "hoverinfo": "text",
         "marker": {
          "color": "rgb(133,20,75)"
         },
         "mode": "lines",
         "type": "scatter",
         "x": [
          1015,
          1015,
          1030,
          1030
         ],
         "xaxis": "x",
         "y": [
          0,
          21.830667876795157,
          21.830667876795157,
          20.5835455843245
         ],
         "yaxis": "y"
        },
        {
         "hoverinfo": "text",
         "marker": {
          "color": "rgb(133,20,75)"
         },
         "mode": "lines",
         "type": "scatter",
         "x": [
          1005,
          1005,
          1022.5,
          1022.5
         ],
         "xaxis": "x",
         "y": [
          0,
          22.909023723064706,
          22.909023723064706,
          21.830667876795157
         ],
         "yaxis": "y"
        },
        {
         "hoverinfo": "text",
         "marker": {
          "color": "rgb(133,20,75)"
         },
         "mode": "lines",
         "type": "scatter",
         "x": [
          995,
          995,
          1013.75,
          1013.75
         ],
         "xaxis": "x",
         "y": [
          0,
          22.980613684867937,
          22.980613684867937,
          22.909023723064706
         ],
         "yaxis": "y"
        },
        {
         "hoverinfo": "text",
         "marker": {
          "color": "rgb(133,20,75)"
         },
         "mode": "lines",
         "type": "scatter",
         "x": [
          1045,
          1045,
          1055,
          1055
         ],
         "xaxis": "x",
         "y": [
          0,
          21.30162746234639,
          21.30162746234639,
          0
         ],
         "yaxis": "y"
        },
        {
         "hoverinfo": "text",
         "marker": {
          "color": "rgb(133,20,75)"
         },
         "mode": "lines",
         "type": "scatter",
         "x": [
          1065,
          1065,
          1075,
          1075
         ],
         "xaxis": "x",
         "y": [
          0,
          22.800512157436263,
          22.800512157436263,
          0
         ],
         "yaxis": "y"
        },
        {
         "hoverinfo": "text",
         "marker": {
          "color": "rgb(133,20,75)"
         },
         "mode": "lines",
         "type": "scatter",
         "x": [
          1050,
          1050,
          1070,
          1070
         ],
         "xaxis": "x",
         "y": [
          21.30162746234639,
          24.46786578509997,
          24.46786578509997,
          22.800512157436263
         ],
         "yaxis": "y"
        },
        {
         "hoverinfo": "text",
         "marker": {
          "color": "rgb(133,20,75)"
         },
         "mode": "lines",
         "type": "scatter",
         "x": [
          1004.375,
          1004.375,
          1060,
          1060
         ],
         "xaxis": "x",
         "y": [
          22.980613684867937,
          25.76242657045583,
          25.76242657045583,
          24.46786578509997
         ],
         "yaxis": "y"
        },
        {
         "hoverinfo": "text",
         "marker": {
          "color": "rgb(133,20,75)"
         },
         "mode": "lines",
         "type": "scatter",
         "x": [
          1095,
          1095,
          1105,
          1105
         ],
         "xaxis": "x",
         "y": [
          0,
          19.167797517799585,
          19.167797517799585,
          0
         ],
         "yaxis": "y"
        },
        {
         "hoverinfo": "text",
         "marker": {
          "color": "rgb(133,20,75)"
         },
         "mode": "lines",
         "type": "scatter",
         "x": [
          1085,
          1085,
          1100,
          1100
         ],
         "xaxis": "x",
         "y": [
          0,
          21.209390826187725,
          21.209390826187725,
          19.167797517799585
         ],
         "yaxis": "y"
        },
        {
         "hoverinfo": "text",
         "marker": {
          "color": "rgb(133,20,75)"
         },
         "mode": "lines",
         "type": "scatter",
         "x": [
          1135,
          1135,
          1145,
          1145
         ],
         "xaxis": "x",
         "y": [
          0,
          21.49300076952342,
          21.49300076952342,
          0
         ],
         "yaxis": "y"
        },
        {
         "hoverinfo": "text",
         "marker": {
          "color": "rgb(133,20,75)"
         },
         "mode": "lines",
         "type": "scatter",
         "x": [
          1125,
          1125,
          1140,
          1140
         ],
         "xaxis": "x",
         "y": [
          0,
          21.919313383945894,
          21.919313383945894,
          21.49300076952342
         ],
         "yaxis": "y"
        },
        {
         "hoverinfo": "text",
         "marker": {
          "color": "rgb(133,20,75)"
         },
         "mode": "lines",
         "type": "scatter",
         "x": [
          1115,
          1115,
          1132.5,
          1132.5
         ],
         "xaxis": "x",
         "y": [
          0,
          23.78701688107423,
          23.78701688107423,
          21.919313383945894
         ],
         "yaxis": "y"
        },
        {
         "hoverinfo": "text",
         "marker": {
          "color": "rgb(133,20,75)"
         },
         "mode": "lines",
         "type": "scatter",
         "x": [
          1092.5,
          1092.5,
          1123.75,
          1123.75
         ],
         "xaxis": "x",
         "y": [
          21.209390826187725,
          24.060530273411004,
          24.060530273411004,
          23.78701688107423
         ],
         "yaxis": "y"
        },
        {
         "hoverinfo": "text",
         "marker": {
          "color": "rgb(133,20,75)"
         },
         "mode": "lines",
         "type": "scatter",
         "x": [
          1165,
          1165,
          1175,
          1175
         ],
         "xaxis": "x",
         "y": [
          0,
          20.123796115519298,
          20.123796115519298,
          0
         ],
         "yaxis": "y"
        },
        {
         "hoverinfo": "text",
         "marker": {
          "color": "rgb(133,20,75)"
         },
         "mode": "lines",
         "type": "scatter",
         "x": [
          1155,
          1155,
          1170,
          1170
         ],
         "xaxis": "x",
         "y": [
          0,
          22.048526130706538,
          22.048526130706538,
          20.123796115519298
         ],
         "yaxis": "y"
        },
        {
         "hoverinfo": "text",
         "marker": {
          "color": "rgb(133,20,75)"
         },
         "mode": "lines",
         "type": "scatter",
         "x": [
          1185,
          1185,
          1195,
          1195
         ],
         "xaxis": "x",
         "y": [
          0,
          22.189778799779777,
          22.189778799779777,
          0
         ],
         "yaxis": "y"
        },
        {
         "hoverinfo": "text",
         "marker": {
          "color": "rgb(133,20,75)"
         },
         "mode": "lines",
         "type": "scatter",
         "x": [
          1162.5,
          1162.5,
          1190,
          1190
         ],
         "xaxis": "x",
         "y": [
          22.048526130706538,
          23.04180853387416,
          23.04180853387416,
          22.189778799779777
         ],
         "yaxis": "y"
        },
        {
         "hoverinfo": "text",
         "marker": {
          "color": "rgb(133,20,75)"
         },
         "mode": "lines",
         "type": "scatter",
         "x": [
          1215,
          1215,
          1225,
          1225
         ],
         "xaxis": "x",
         "y": [
          0,
          20.650546360598533,
          20.650546360598533,
          0
         ],
         "yaxis": "y"
        },
        {
         "hoverinfo": "text",
         "marker": {
          "color": "rgb(133,20,75)"
         },
         "mode": "lines",
         "type": "scatter",
         "x": [
          1205,
          1205,
          1220,
          1220
         ],
         "xaxis": "x",
         "y": [
          0,
          23.330833584311055,
          23.330833584311055,
          20.650546360598533
         ],
         "yaxis": "y"
        },
        {
         "hoverinfo": "text",
         "marker": {
          "color": "rgb(133,20,75)"
         },
         "mode": "lines",
         "type": "scatter",
         "x": [
          1176.25,
          1176.25,
          1212.5,
          1212.5
         ],
         "xaxis": "x",
         "y": [
          23.04180853387416,
          24.44321601792701,
          24.44321601792701,
          23.330833584311055
         ],
         "yaxis": "y"
        },
        {
         "hoverinfo": "text",
         "marker": {
          "color": "rgb(133,20,75)"
         },
         "mode": "lines",
         "type": "scatter",
         "x": [
          1265,
          1265,
          1275,
          1275
         ],
         "xaxis": "x",
         "y": [
          0,
          18.226727809351868,
          18.226727809351868,
          0
         ],
         "yaxis": "y"
        },
        {
         "hoverinfo": "text",
         "marker": {
          "color": "rgb(133,20,75)"
         },
         "mode": "lines",
         "type": "scatter",
         "x": [
          1255,
          1255,
          1270,
          1270
         ],
         "xaxis": "x",
         "y": [
          0,
          19.107059819324785,
          19.107059819324785,
          18.226727809351868
         ],
         "yaxis": "y"
        },
        {
         "hoverinfo": "text",
         "marker": {
          "color": "rgb(133,20,75)"
         },
         "mode": "lines",
         "type": "scatter",
         "x": [
          1245,
          1245,
          1262.5,
          1262.5
         ],
         "xaxis": "x",
         "y": [
          0,
          19.837713939860336,
          19.837713939860336,
          19.107059819324785
         ],
         "yaxis": "y"
        },
        {
         "hoverinfo": "text",
         "marker": {
          "color": "rgb(133,20,75)"
         },
         "mode": "lines",
         "type": "scatter",
         "x": [
          1235,
          1235,
          1253.75,
          1253.75
         ],
         "xaxis": "x",
         "y": [
          0,
          20.915092838427498,
          20.915092838427498,
          19.837713939860336
         ],
         "yaxis": "y"
        },
        {
         "hoverinfo": "text",
         "marker": {
          "color": "rgb(133,20,75)"
         },
         "mode": "lines",
         "type": "scatter",
         "x": [
          1295,
          1295,
          1305,
          1305
         ],
         "xaxis": "x",
         "y": [
          0,
          21.23155779584827,
          21.23155779584827,
          0
         ],
         "yaxis": "y"
        },
        {
         "hoverinfo": "text",
         "marker": {
          "color": "rgb(133,20,75)"
         },
         "mode": "lines",
         "type": "scatter",
         "x": [
          1285,
          1285,
          1300,
          1300
         ],
         "xaxis": "x",
         "y": [
          0,
          21.970675178372264,
          21.970675178372264,
          21.23155779584827
         ],
         "yaxis": "y"
        },
        {
         "hoverinfo": "text",
         "marker": {
          "color": "rgb(133,20,75)"
         },
         "mode": "lines",
         "type": "scatter",
         "x": [
          1335,
          1335,
          1345,
          1345
         ],
         "xaxis": "x",
         "y": [
          0,
          17.948256078012516,
          17.948256078012516,
          0
         ],
         "yaxis": "y"
        },
        {
         "hoverinfo": "text",
         "marker": {
          "color": "rgb(133,20,75)"
         },
         "mode": "lines",
         "type": "scatter",
         "x": [
          1375,
          1375,
          1385,
          1385
         ],
         "xaxis": "x",
         "y": [
          0,
          19.301839011691065,
          19.301839011691065,
          0
         ],
         "yaxis": "y"
        },
        {
         "hoverinfo": "text",
         "marker": {
          "color": "rgb(133,20,75)"
         },
         "mode": "lines",
         "type": "scatter",
         "x": [
          1365,
          1365,
          1380,
          1380
         ],
         "xaxis": "x",
         "y": [
          0,
          20.295882347722863,
          20.295882347722863,
          19.301839011691065
         ],
         "yaxis": "y"
        },
        {
         "hoverinfo": "text",
         "marker": {
          "color": "rgb(133,20,75)"
         },
         "mode": "lines",
         "type": "scatter",
         "x": [
          1355,
          1355,
          1372.5,
          1372.5
         ],
         "xaxis": "x",
         "y": [
          0,
          21.28764977283868,
          21.28764977283868,
          20.295882347722863
         ],
         "yaxis": "y"
        },
        {
         "hoverinfo": "text",
         "marker": {
          "color": "rgb(133,20,75)"
         },
         "mode": "lines",
         "type": "scatter",
         "x": [
          1340,
          1340,
          1363.75,
          1363.75
         ],
         "xaxis": "x",
         "y": [
          17.948256078012516,
          21.65116471528359,
          21.65116471528359,
          21.28764977283868
         ],
         "yaxis": "y"
        },
        {
         "hoverinfo": "text",
         "marker": {
          "color": "rgb(133,20,75)"
         },
         "mode": "lines",
         "type": "scatter",
         "x": [
          1325,
          1325,
          1351.875,
          1351.875
         ],
         "xaxis": "x",
         "y": [
          0,
          22.953841867144778,
          22.953841867144778,
          21.65116471528359
         ],
         "yaxis": "y"
        },
        {
         "hoverinfo": "text",
         "marker": {
          "color": "rgb(133,20,75)"
         },
         "mode": "lines",
         "type": "scatter",
         "x": [
          1315,
          1315,
          1338.4375,
          1338.4375
         ],
         "xaxis": "x",
         "y": [
          0,
          23.18334605667919,
          23.18334605667919,
          22.953841867144778
         ],
         "yaxis": "y"
        },
        {
         "hoverinfo": "text",
         "marker": {
          "color": "rgb(133,20,75)"
         },
         "mode": "lines",
         "type": "scatter",
         "x": [
          1292.5,
          1292.5,
          1326.71875,
          1326.71875
         ],
         "xaxis": "x",
         "y": [
          21.970675178372264,
          24.17816959058329,
          24.17816959058329,
          23.18334605667919
         ],
         "yaxis": "y"
        },
        {
         "hoverinfo": "text",
         "marker": {
          "color": "rgb(133,20,75)"
         },
         "mode": "lines",
         "type": "scatter",
         "x": [
          1244.375,
          1244.375,
          1309.609375,
          1309.609375
         ],
         "xaxis": "x",
         "y": [
          20.915092838427498,
          24.921323447283868,
          24.921323447283868,
          24.17816959058329
         ],
         "yaxis": "y"
        },
        {
         "hoverinfo": "text",
         "marker": {
          "color": "rgb(133,20,75)"
         },
         "mode": "lines",
         "type": "scatter",
         "x": [
          1194.375,
          1194.375,
          1276.9921875,
          1276.9921875
         ],
         "xaxis": "x",
         "y": [
          24.44321601792701,
          25.28715812042768,
          25.28715812042768,
          24.921323447283868
         ],
         "yaxis": "y"
        },
        {
         "hoverinfo": "text",
         "marker": {
          "color": "rgb(133,20,75)"
         },
         "mode": "lines",
         "type": "scatter",
         "x": [
          1108.125,
          1108.125,
          1235.68359375,
          1235.68359375
         ],
         "xaxis": "x",
         "y": [
          24.060530273411004,
          26.410441028565742,
          26.410441028565742,
          25.28715812042768
         ],
         "yaxis": "y"
        },
        {
         "hoverinfo": "text",
         "marker": {
          "color": "rgb(133,20,75)"
         },
         "mode": "lines",
         "type": "scatter",
         "x": [
          1032.1875,
          1032.1875,
          1171.904296875,
          1171.904296875
         ],
         "xaxis": "x",
         "y": [
          25.76242657045583,
          27.5019846828958,
          27.5019846828958,
          26.410441028565742
         ],
         "yaxis": "y"
        },
        {
         "hoverinfo": "text",
         "marker": {
          "color": "rgb(133,20,75)"
         },
         "mode": "lines",
         "type": "scatter",
         "x": [
          972.5,
          972.5,
          1102.0458984375,
          1102.0458984375
         ],
         "xaxis": "x",
         "y": [
          26.145374037436355,
          27.98860626569091,
          27.98860626569091,
          27.5019846828958
         ],
         "yaxis": "y"
        },
        {
         "hoverinfo": "text",
         "marker": {
          "color": "rgb(133,20,75)"
         },
         "mode": "lines",
         "type": "scatter",
         "x": [
          955,
          955,
          1037.27294921875,
          1037.27294921875
         ],
         "xaxis": "x",
         "y": [
          0,
          28.431021103553107,
          28.431021103553107,
          27.98860626569091
         ],
         "yaxis": "y"
        },
        {
         "hoverinfo": "text",
         "marker": {
          "color": "rgb(133,20,75)"
         },
         "mode": "lines",
         "type": "scatter",
         "x": [
          932.5,
          932.5,
          996.136474609375,
          996.136474609375
         ],
         "xaxis": "x",
         "y": [
          26.640587321023517,
          28.715358481786595,
          28.715358481786595,
          28.431021103553107
         ],
         "yaxis": "y"
        },
        {
         "hoverinfo": "text",
         "marker": {
          "color": "rgb(133,20,75)"
         },
         "mode": "lines",
         "type": "scatter",
         "x": [
          855.3125,
          855.3125,
          964.3182373046875,
          964.3182373046875
         ],
         "xaxis": "x",
         "y": [
          27.87157606689172,
          29.288858757771294,
          29.288858757771294,
          28.715358481786595
         ],
         "yaxis": "y"
        },
        {
         "hoverinfo": "text",
         "marker": {
          "color": "rgb(133,20,75)"
         },
         "mode": "lines",
         "type": "scatter",
         "x": [
          1395,
          1395,
          1405,
          1405
         ],
         "xaxis": "x",
         "y": [
          0,
          21.464857887441653,
          21.464857887441653,
          0
         ],
         "yaxis": "y"
        },
        {
         "hoverinfo": "text",
         "marker": {
          "color": "rgb(133,20,75)"
         },
         "mode": "lines",
         "type": "scatter",
         "x": [
          1415,
          1415,
          1425,
          1425
         ],
         "xaxis": "x",
         "y": [
          0,
          20.930422478242438,
          20.930422478242438,
          0
         ],
         "yaxis": "y"
        },
        {
         "hoverinfo": "text",
         "marker": {
          "color": "rgb(133,20,75)"
         },
         "mode": "lines",
         "type": "scatter",
         "x": [
          1435,
          1435,
          1445,
          1445
         ],
         "xaxis": "x",
         "y": [
          0,
          23.234804743862966,
          23.234804743862966,
          0
         ],
         "yaxis": "y"
        },
        {
         "hoverinfo": "text",
         "marker": {
          "color": "rgb(133,20,75)"
         },
         "mode": "lines",
         "type": "scatter",
         "x": [
          1420,
          1420,
          1440,
          1440
         ],
         "xaxis": "x",
         "y": [
          20.930422478242438,
          25.670616948659735,
          25.670616948659735,
          23.234804743862966
         ],
         "yaxis": "y"
        },
        {
         "hoverinfo": "text",
         "marker": {
          "color": "rgb(133,20,75)"
         },
         "mode": "lines",
         "type": "scatter",
         "x": [
          1475,
          1475,
          1485,
          1485
         ],
         "xaxis": "x",
         "y": [
          0,
          22.833427580400425,
          22.833427580400425,
          0
         ],
         "yaxis": "y"
        },
        {
         "hoverinfo": "text",
         "marker": {
          "color": "rgb(133,20,75)"
         },
         "mode": "lines",
         "type": "scatter",
         "x": [
          1465,
          1465,
          1480,
          1480
         ],
         "xaxis": "x",
         "y": [
          0,
          24.905828842780043,
          24.905828842780043,
          22.833427580400425
         ],
         "yaxis": "y"
        },
        {
         "hoverinfo": "text",
         "marker": {
          "color": "rgb(133,20,75)"
         },
         "mode": "lines",
         "type": "scatter",
         "x": [
          1455,
          1455,
          1472.5,
          1472.5
         ],
         "xaxis": "x",
         "y": [
          0,
          26.958627739351005,
          26.958627739351005,
          24.905828842780043
         ],
         "yaxis": "y"
        },
        {
         "hoverinfo": "text",
         "marker": {
          "color": "rgb(133,20,75)"
         },
         "mode": "lines",
         "type": "scatter",
         "x": [
          1430,
          1430,
          1463.75,
          1463.75
         ],
         "xaxis": "x",
         "y": [
          25.670616948659735,
          27.843484311685415,
          27.843484311685415,
          26.958627739351005
         ],
         "yaxis": "y"
        },
        {
         "hoverinfo": "text",
         "marker": {
          "color": "rgb(133,20,75)"
         },
         "mode": "lines",
         "type": "scatter",
         "x": [
          1400,
          1400,
          1446.875,
          1446.875
         ],
         "xaxis": "x",
         "y": [
          21.464857887441653,
          29.76560549197675,
          29.76560549197675,
          27.843484311685415
         ],
         "yaxis": "y"
        },
        {
         "hoverinfo": "text",
         "marker": {
          "color": "rgb(133,20,75)"
         },
         "mode": "lines",
         "type": "scatter",
         "x": [
          909.8153686523438,
          909.8153686523438,
          1423.4375,
          1423.4375
         ],
         "xaxis": "x",
         "y": [
          29.288858757771294,
          29.838943783949528,
          29.838943783949528,
          29.76560549197675
         ],
         "yaxis": "y"
        },
        {
         "hoverinfo": "text",
         "marker": {
          "color": "rgb(133,20,75)"
         },
         "mode": "lines",
         "type": "scatter",
         "x": [
          810,
          810,
          1166.6264343261719,
          1166.6264343261719
         ],
         "xaxis": "x",
         "y": [
          26.20947081465058,
          31.001521054101307,
          31.001521054101307,
          29.838943783949528
         ],
         "yaxis": "y"
        },
        {
         "hoverinfo": "text",
         "marker": {
          "color": "rgb(133,20,75)"
         },
         "mode": "lines",
         "type": "scatter",
         "x": [
          1505,
          1505,
          1515,
          1515
         ],
         "xaxis": "x",
         "y": [
          0,
          25.97593502780253,
          25.97593502780253,
          0
         ],
         "yaxis": "y"
        },
        {
         "hoverinfo": "text",
         "marker": {
          "color": "rgb(133,20,75)"
         },
         "mode": "lines",
         "type": "scatter",
         "x": [
          1495,
          1495,
          1510,
          1510
         ],
         "xaxis": "x",
         "y": [
          0,
          26.807631966716173,
          26.807631966716173,
          25.97593502780253
         ],
         "yaxis": "y"
        },
        {
         "hoverinfo": "text",
         "marker": {
          "color": "rgb(133,20,75)"
         },
         "mode": "lines",
         "type": "scatter",
         "x": [
          1545,
          1545,
          1555,
          1555
         ],
         "xaxis": "x",
         "y": [
          0,
          22.436638084035803,
          22.436638084035803,
          0
         ],
         "yaxis": "y"
        },
        {
         "hoverinfo": "text",
         "marker": {
          "color": "rgb(133,20,75)"
         },
         "mode": "lines",
         "type": "scatter",
         "x": [
          1535,
          1535,
          1550,
          1550
         ],
         "xaxis": "x",
         "y": [
          0,
          23.756084025902528,
          23.756084025902528,
          22.436638084035803
         ],
         "yaxis": "y"
        },
        {
         "hoverinfo": "text",
         "marker": {
          "color": "rgb(133,20,75)"
         },
         "mode": "lines",
         "type": "scatter",
         "x": [
          1525,
          1525,
          1542.5,
          1542.5
         ],
         "xaxis": "x",
         "y": [
          0,
          28.43202954194529,
          28.43202954194529,
          23.756084025902528
         ],
         "yaxis": "y"
        },
        {
         "hoverinfo": "text",
         "marker": {
          "color": "rgb(133,20,75)"
         },
         "mode": "lines",
         "type": "scatter",
         "x": [
          1585,
          1585,
          1595,
          1595
         ],
         "xaxis": "x",
         "y": [
          0,
          26.006158037547927,
          26.006158037547927,
          0
         ],
         "yaxis": "y"
        },
        {
         "hoverinfo": "text",
         "marker": {
          "color": "rgb(133,20,75)"
         },
         "mode": "lines",
         "type": "scatter",
         "x": [
          1575,
          1575,
          1590,
          1590
         ],
         "xaxis": "x",
         "y": [
          0,
          26.877056000042984,
          26.877056000042984,
          26.006158037547927
         ],
         "yaxis": "y"
        },
        {
         "hoverinfo": "text",
         "marker": {
          "color": "rgb(133,20,75)"
         },
         "mode": "lines",
         "type": "scatter",
         "x": [
          1565,
          1565,
          1582.5,
          1582.5
         ],
         "xaxis": "x",
         "y": [
          0,
          28.625922997156795,
          28.625922997156795,
          26.877056000042984
         ],
         "yaxis": "y"
        },
        {
         "hoverinfo": "text",
         "marker": {
          "color": "rgb(133,20,75)"
         },
         "mode": "lines",
         "type": "scatter",
         "x": [
          1533.75,
          1533.75,
          1573.75,
          1573.75
         ],
         "xaxis": "x",
         "y": [
          28.43202954194529,
          30.618386205649834,
          30.618386205649834,
          28.625922997156795
         ],
         "yaxis": "y"
        },
        {
         "hoverinfo": "text",
         "marker": {
          "color": "rgb(133,20,75)"
         },
         "mode": "lines",
         "type": "scatter",
         "x": [
          1502.5,
          1502.5,
          1553.75,
          1553.75
         ],
         "xaxis": "x",
         "y": [
          26.807631966716173,
          31.52928077064314,
          31.52928077064314,
          30.618386205649834
         ],
         "yaxis": "y"
        },
        {
         "hoverinfo": "text",
         "marker": {
          "color": "rgb(133,20,75)"
         },
         "mode": "lines",
         "type": "scatter",
         "x": [
          988.3132171630859,
          988.3132171630859,
          1528.125,
          1528.125
         ],
         "xaxis": "x",
         "y": [
          31.001521054101307,
          31.88904392179789,
          31.88904392179789,
          31.52928077064314
         ],
         "yaxis": "y"
        },
        {
         "hoverinfo": "text",
         "marker": {
          "color": "rgb(133,20,75)"
         },
         "mode": "lines",
         "type": "scatter",
         "x": [
          752.5,
          752.5,
          1258.219108581543,
          1258.219108581543
         ],
         "xaxis": "x",
         "y": [
          30.840236767620567,
          32.24317118668952,
          32.24317118668952,
          31.88904392179789
         ],
         "yaxis": "y"
        },
        {
         "hoverinfo": "text",
         "marker": {
          "color": "rgb(133,20,75)"
         },
         "mode": "lines",
         "type": "scatter",
         "x": [
          671.875,
          671.875,
          1005.3595542907715,
          1005.3595542907715
         ],
         "xaxis": "x",
         "y": [
          30.585867829347876,
          32.73568645344133,
          32.73568645344133,
          32.24317118668952
         ],
         "yaxis": "y"
        },
        {
         "hoverinfo": "text",
         "marker": {
          "color": "rgb(133,20,75)"
         },
         "mode": "lines",
         "type": "scatter",
         "x": [
          1615,
          1615,
          1625,
          1625
         ],
         "xaxis": "x",
         "y": [
          0,
          22.81722852253258,
          22.81722852253258,
          0
         ],
         "yaxis": "y"
        },
        {
         "hoverinfo": "text",
         "marker": {
          "color": "rgb(133,20,75)"
         },
         "mode": "lines",
         "type": "scatter",
         "x": [
          1605,
          1605,
          1620,
          1620
         ],
         "xaxis": "x",
         "y": [
          0,
          25.234035228229402,
          25.234035228229402,
          22.81722852253258
         ],
         "yaxis": "y"
        },
        {
         "hoverinfo": "text",
         "marker": {
          "color": "rgb(133,20,75)"
         },
         "mode": "lines",
         "type": "scatter",
         "x": [
          1655,
          1655,
          1665,
          1665
         ],
         "xaxis": "x",
         "y": [
          0,
          22.29950417989083,
          22.29950417989083,
          0
         ],
         "yaxis": "y"
        },
        {
         "hoverinfo": "text",
         "marker": {
          "color": "rgb(133,20,75)"
         },
         "mode": "lines",
         "type": "scatter",
         "x": [
          1675,
          1675,
          1685,
          1685
         ],
         "xaxis": "x",
         "y": [
          0,
          24.188580756862308,
          24.188580756862308,
          0
         ],
         "yaxis": "y"
        },
        {
         "hoverinfo": "text",
         "marker": {
          "color": "rgb(133,20,75)"
         },
         "mode": "lines",
         "type": "scatter",
         "x": [
          1660,
          1660,
          1680,
          1680
         ],
         "xaxis": "x",
         "y": [
          22.29950417989083,
          27.153360398086612,
          27.153360398086612,
          24.188580756862308
         ],
         "yaxis": "y"
        },
        {
         "hoverinfo": "text",
         "marker": {
          "color": "rgb(133,20,75)"
         },
         "mode": "lines",
         "type": "scatter",
         "x": [
          1645,
          1645,
          1670,
          1670
         ],
         "xaxis": "x",
         "y": [
          0,
          28.003147496482516,
          28.003147496482516,
          27.153360398086612
         ],
         "yaxis": "y"
        },
        {
         "hoverinfo": "text",
         "marker": {
          "color": "rgb(133,20,75)"
         },
         "mode": "lines",
         "type": "scatter",
         "x": [
          1635,
          1635,
          1657.5,
          1657.5
         ],
         "xaxis": "x",
         "y": [
          0,
          31.414219554286298,
          31.414219554286298,
          28.003147496482516
         ],
         "yaxis": "y"
        },
        {
         "hoverinfo": "text",
         "marker": {
          "color": "rgb(133,20,75)"
         },
         "mode": "lines",
         "type": "scatter",
         "x": [
          1612.5,
          1612.5,
          1646.25,
          1646.25
         ],
         "xaxis": "x",
         "y": [
          25.234035228229402,
          32.00350277256634,
          32.00350277256634,
          31.414219554286298
         ],
         "yaxis": "y"
        },
        {
         "hoverinfo": "text",
         "marker": {
          "color": "rgb(133,20,75)"
         },
         "mode": "lines",
         "type": "scatter",
         "x": [
          1715,
          1715,
          1725,
          1725
         ],
         "xaxis": "x",
         "y": [
          0,
          24.077211423111986,
          24.077211423111986,
          0
         ],
         "yaxis": "y"
        },
        {
         "hoverinfo": "text",
         "marker": {
          "color": "rgb(133,20,75)"
         },
         "mode": "lines",
         "type": "scatter",
         "x": [
          1705,
          1705,
          1720,
          1720
         ],
         "xaxis": "x",
         "y": [
          0,
          28.602910493066307,
          28.602910493066307,
          24.077211423111986
         ],
         "yaxis": "y"
        },
        {
         "hoverinfo": "text",
         "marker": {
          "color": "rgb(133,20,75)"
         },
         "mode": "lines",
         "type": "scatter",
         "x": [
          1695,
          1695,
          1712.5,
          1712.5
         ],
         "xaxis": "x",
         "y": [
          0,
          30.929760648983567,
          30.929760648983567,
          28.602910493066307
         ],
         "yaxis": "y"
        },
        {
         "hoverinfo": "text",
         "marker": {
          "color": "rgb(133,20,75)"
         },
         "mode": "lines",
         "type": "scatter",
         "x": [
          1735,
          1735,
          1745,
          1745
         ],
         "xaxis": "x",
         "y": [
          0,
          24.33771548949011,
          24.33771548949011,
          0
         ],
         "yaxis": "y"
        },
        {
         "hoverinfo": "text",
         "marker": {
          "color": "rgb(133,20,75)"
         },
         "mode": "lines",
         "type": "scatter",
         "x": [
          1755,
          1755,
          1765,
          1765
         ],
         "xaxis": "x",
         "y": [
          0,
          24.928365073567857,
          24.928365073567857,
          0
         ],
         "yaxis": "y"
        },
        {
         "hoverinfo": "text",
         "marker": {
          "color": "rgb(133,20,75)"
         },
         "mode": "lines",
         "type": "scatter",
         "x": [
          1740,
          1740,
          1760,
          1760
         ],
         "xaxis": "x",
         "y": [
          24.33771548949011,
          28.589486300752892,
          28.589486300752892,
          24.928365073567857
         ],
         "yaxis": "y"
        },
        {
         "hoverinfo": "text",
         "marker": {
          "color": "rgb(133,20,75)"
         },
         "mode": "lines",
         "type": "scatter",
         "x": [
          1785,
          1785,
          1795,
          1795
         ],
         "xaxis": "x",
         "y": [
          0,
          23.109582011798135,
          23.109582011798135,
          0
         ],
         "yaxis": "y"
        },
        {
         "hoverinfo": "text",
         "marker": {
          "color": "rgb(133,20,75)"
         },
         "mode": "lines",
         "type": "scatter",
         "x": [
          1775,
          1775,
          1790,
          1790
         ],
         "xaxis": "x",
         "y": [
          0,
          24.02951649855768,
          24.02951649855768,
          23.109582011798135
         ],
         "yaxis": "y"
        },
        {
         "hoverinfo": "text",
         "marker": {
          "color": "rgb(133,20,75)"
         },
         "mode": "lines",
         "type": "scatter",
         "x": [
          1815,
          1815,
          1825,
          1825
         ],
         "xaxis": "x",
         "y": [
          0,
          26.19096109509309,
          26.19096109509309,
          0
         ],
         "yaxis": "y"
        },
        {
         "hoverinfo": "text",
         "marker": {
          "color": "rgb(133,20,75)"
         },
         "mode": "lines",
         "type": "scatter",
         "x": [
          1805,
          1805,
          1820,
          1820
         ],
         "xaxis": "x",
         "y": [
          0,
          27.37968853979028,
          27.37968853979028,
          26.19096109509309
         ],
         "yaxis": "y"
        },
        {
         "hoverinfo": "text",
         "marker": {
          "color": "rgb(133,20,75)"
         },
         "mode": "lines",
         "type": "scatter",
         "x": [
          1782.5,
          1782.5,
          1812.5,
          1812.5
         ],
         "xaxis": "x",
         "y": [
          24.02951649855768,
          29.411043431382996,
          29.411043431382996,
          27.37968853979028
         ],
         "yaxis": "y"
        },
        {
         "hoverinfo": "text",
         "marker": {
          "color": "rgb(133,20,75)"
         },
         "mode": "lines",
         "type": "scatter",
         "x": [
          1750,
          1750,
          1797.5,
          1797.5
         ],
         "xaxis": "x",
         "y": [
          28.589486300752892,
          31.15988444678874,
          31.15988444678874,
          29.411043431382996
         ],
         "yaxis": "y"
        },
        {
         "hoverinfo": "text",
         "marker": {
          "color": "rgb(133,20,75)"
         },
         "mode": "lines",
         "type": "scatter",
         "x": [
          1703.75,
          1703.75,
          1773.75,
          1773.75
         ],
         "xaxis": "x",
         "y": [
          30.929760648983567,
          32.762370936582094,
          32.762370936582094,
          31.15988444678874
         ],
         "yaxis": "y"
        },
        {
         "hoverinfo": "text",
         "marker": {
          "color": "rgb(133,20,75)"
         },
         "mode": "lines",
         "type": "scatter",
         "x": [
          1629.375,
          1629.375,
          1738.75,
          1738.75
         ],
         "xaxis": "x",
         "y": [
          32.00350277256634,
          32.94257546430463,
          32.94257546430463,
          32.762370936582094
         ],
         "yaxis": "y"
        },
        {
         "hoverinfo": "text",
         "marker": {
          "color": "rgb(133,20,75)"
         },
         "mode": "lines",
         "type": "scatter",
         "x": [
          838.6172771453857,
          838.6172771453857,
          1684.0625,
          1684.0625
         ],
         "xaxis": "x",
         "y": [
          32.73568645344133,
          34.4256938005603,
          34.4256938005603,
          32.94257546430463
         ],
         "yaxis": "y"
        },
        {
         "hoverinfo": "text",
         "marker": {
          "color": "rgb(133,20,75)"
         },
         "mode": "lines",
         "type": "scatter",
         "x": [
          632.5,
          632.5,
          1261.3398885726929,
          1261.3398885726929
         ],
         "xaxis": "x",
         "y": [
          32.4730302985335,
          34.85969008658965,
          34.85969008658965,
          34.4256938005603
         ],
         "yaxis": "y"
        },
        {
         "hoverinfo": "text",
         "marker": {
          "color": "rgb(133,20,75)"
         },
         "mode": "lines",
         "type": "scatter",
         "x": [
          615,
          615,
          946.9199442863464,
          946.9199442863464
         ],
         "xaxis": "x",
         "y": [
          0,
          35.944518865936374,
          35.944518865936374,
          34.85969008658965
         ],
         "yaxis": "y"
        },
        {
         "hoverinfo": "text",
         "marker": {
          "color": "rgb(133,20,75)"
         },
         "mode": "lines",
         "type": "scatter",
         "x": [
          1845,
          1845,
          1855,
          1855
         ],
         "xaxis": "x",
         "y": [
          0,
          29.784895665965397,
          29.784895665965397,
          0
         ],
         "yaxis": "y"
        },
        {
         "hoverinfo": "text",
         "marker": {
          "color": "rgb(133,20,75)"
         },
         "mode": "lines",
         "type": "scatter",
         "x": [
          1875,
          1875,
          1885,
          1885
         ],
         "xaxis": "x",
         "y": [
          0,
          27.621159489774428,
          27.621159489774428,
          0
         ],
         "yaxis": "y"
        },
        {
         "hoverinfo": "text",
         "marker": {
          "color": "rgb(133,20,75)"
         },
         "mode": "lines",
         "type": "scatter",
         "x": [
          1865,
          1865,
          1880,
          1880
         ],
         "xaxis": "x",
         "y": [
          0,
          31.08636736522835,
          31.08636736522835,
          27.621159489774428
         ],
         "yaxis": "y"
        },
        {
         "hoverinfo": "text",
         "marker": {
          "color": "rgb(133,20,75)"
         },
         "mode": "lines",
         "type": "scatter",
         "x": [
          1895,
          1895,
          1905,
          1905
         ],
         "xaxis": "x",
         "y": [
          0,
          28.334873600367526,
          28.334873600367526,
          0
         ],
         "yaxis": "y"
        },
        {
         "hoverinfo": "text",
         "marker": {
          "color": "rgb(133,20,75)"
         },
         "mode": "lines",
         "type": "scatter",
         "x": [
          1915,
          1915,
          1925,
          1925
         ],
         "xaxis": "x",
         "y": [
          0,
          28.547460606850784,
          28.547460606850784,
          0
         ],
         "yaxis": "y"
        },
        {
         "hoverinfo": "text",
         "marker": {
          "color": "rgb(133,20,75)"
         },
         "mode": "lines",
         "type": "scatter",
         "x": [
          1900,
          1900,
          1920,
          1920
         ],
         "xaxis": "x",
         "y": [
          28.334873600367526,
          32.85213534440199,
          32.85213534440199,
          28.547460606850784
         ],
         "yaxis": "y"
        },
        {
         "hoverinfo": "text",
         "marker": {
          "color": "rgb(133,20,75)"
         },
         "mode": "lines",
         "type": "scatter",
         "x": [
          1872.5,
          1872.5,
          1910,
          1910
         ],
         "xaxis": "x",
         "y": [
          31.08636736522835,
          34.86649504863274,
          34.86649504863274,
          32.85213534440199
         ],
         "yaxis": "y"
        },
        {
         "hoverinfo": "text",
         "marker": {
          "color": "rgb(133,20,75)"
         },
         "mode": "lines",
         "type": "scatter",
         "x": [
          1850,
          1850,
          1891.25,
          1891.25
         ],
         "xaxis": "x",
         "y": [
          29.784895665965397,
          36.27240969336598,
          36.27240969336598,
          34.86649504863274
         ],
         "yaxis": "y"
        },
        {
         "hoverinfo": "text",
         "marker": {
          "color": "rgb(133,20,75)"
         },
         "mode": "lines",
         "type": "scatter",
         "x": [
          1835,
          1835,
          1870.625,
          1870.625
         ],
         "xaxis": "x",
         "y": [
          0,
          37.02356503379741,
          37.02356503379741,
          36.27240969336598
         ],
         "yaxis": "y"
        },
        {
         "hoverinfo": "text",
         "marker": {
          "color": "rgb(133,20,75)"
         },
         "mode": "lines",
         "type": "scatter",
         "x": [
          780.9599721431732,
          780.9599721431732,
          1852.8125,
          1852.8125
         ],
         "xaxis": "x",
         "y": [
          35.944518865936374,
          39.23081951283793,
          39.23081951283793,
          37.02356503379741
         ],
         "yaxis": "y"
        },
        {
         "hoverinfo": "text",
         "marker": {
          "color": "rgb(133,20,75)"
         },
         "mode": "lines",
         "type": "scatter",
         "x": [
          1935,
          1935,
          1945,
          1945
         ],
         "xaxis": "x",
         "y": [
          0,
          35.37630951565386,
          35.37630951565386,
          0
         ],
         "yaxis": "y"
        },
        {
         "hoverinfo": "text",
         "marker": {
          "color": "rgb(133,20,75)"
         },
         "mode": "lines",
         "type": "scatter",
         "x": [
          1955,
          1955,
          1965,
          1965
         ],
         "xaxis": "x",
         "y": [
          0,
          28.85921129700297,
          28.85921129700297,
          0
         ],
         "yaxis": "y"
        },
        {
         "hoverinfo": "text",
         "marker": {
          "color": "rgb(133,20,75)"
         },
         "mode": "lines",
         "type": "scatter",
         "x": [
          1975,
          1975,
          1985,
          1985
         ],
         "xaxis": "x",
         "y": [
          0,
          30.24234605475177,
          30.24234605475177,
          0
         ],
         "yaxis": "y"
        },
        {
         "hoverinfo": "text",
         "marker": {
          "color": "rgb(133,20,75)"
         },
         "mode": "lines",
         "type": "scatter",
         "x": [
          1960,
          1960,
          1980,
          1980
         ],
         "xaxis": "x",
         "y": [
          28.85921129700297,
          32.44955654604642,
          32.44955654604642,
          30.24234605475177
         ],
         "yaxis": "y"
        },
        {
         "hoverinfo": "text",
         "marker": {
          "color": "rgb(133,20,75)"
         },
         "mode": "lines",
         "type": "scatter",
         "x": [
          2005,
          2005,
          2015,
          2015
         ],
         "xaxis": "x",
         "y": [
          0,
          28.45252041846376,
          28.45252041846376,
          0
         ],
         "yaxis": "y"
        },
        {
         "hoverinfo": "text",
         "marker": {
          "color": "rgb(133,20,75)"
         },
         "mode": "lines",
         "type": "scatter",
         "x": [
          1995,
          1995,
          2010,
          2010
         ],
         "xaxis": "x",
         "y": [
          0,
          31.26741424339921,
          31.26741424339921,
          28.45252041846376
         ],
         "yaxis": "y"
        },
        {
         "hoverinfo": "text",
         "marker": {
          "color": "rgb(133,20,75)"
         },
         "mode": "lines",
         "type": "scatter",
         "x": [
          2035,
          2035,
          2045,
          2045
         ],
         "xaxis": "x",
         "y": [
          0,
          30.014248999401563,
          30.014248999401563,
          0
         ],
         "yaxis": "y"
        },
        {
         "hoverinfo": "text",
         "marker": {
          "color": "rgb(133,20,75)"
         },
         "mode": "lines",
         "type": "scatter",
         "x": [
          2025,
          2025,
          2040,
          2040
         ],
         "xaxis": "x",
         "y": [
          0,
          32.530478010151306,
          32.530478010151306,
          30.014248999401563
         ],
         "yaxis": "y"
        },
        {
         "hoverinfo": "text",
         "marker": {
          "color": "rgb(133,20,75)"
         },
         "mode": "lines",
         "type": "scatter",
         "x": [
          2002.5,
          2002.5,
          2032.5,
          2032.5
         ],
         "xaxis": "x",
         "y": [
          31.26741424339921,
          32.99994455318439,
          32.99994455318439,
          32.530478010151306
         ],
         "yaxis": "y"
        },
        {
         "hoverinfo": "text",
         "marker": {
          "color": "rgb(133,20,75)"
         },
         "mode": "lines",
         "type": "scatter",
         "x": [
          1970,
          1970,
          2017.5,
          2017.5
         ],
         "xaxis": "x",
         "y": [
          32.44955654604642,
          35.199813165188104,
          35.199813165188104,
          32.99994455318439
         ],
         "yaxis": "y"
        },
        {
         "hoverinfo": "text",
         "marker": {
          "color": "rgb(133,20,75)"
         },
         "mode": "lines",
         "type": "scatter",
         "x": [
          2055,
          2055,
          2065,
          2065
         ],
         "xaxis": "x",
         "y": [
          0,
          31.851541629391093,
          31.851541629391093,
          0
         ],
         "yaxis": "y"
        },
        {
         "hoverinfo": "text",
         "marker": {
          "color": "rgb(133,20,75)"
         },
         "mode": "lines",
         "type": "scatter",
         "x": [
          2085,
          2085,
          2095,
          2095
         ],
         "xaxis": "x",
         "y": [
          0,
          26.561441161391574,
          26.561441161391574,
          0
         ],
         "yaxis": "y"
        },
        {
         "hoverinfo": "text",
         "marker": {
          "color": "rgb(133,20,75)"
         },
         "mode": "lines",
         "type": "scatter",
         "x": [
          2075,
          2075,
          2090,
          2090
         ],
         "xaxis": "x",
         "y": [
          0,
          31.959277727933383,
          31.959277727933383,
          26.561441161391574
         ],
         "yaxis": "y"
        },
        {
         "hoverinfo": "text",
         "marker": {
          "color": "rgb(133,20,75)"
         },
         "mode": "lines",
         "type": "scatter",
         "x": [
          2105,
          2105,
          2115,
          2115
         ],
         "xaxis": "x",
         "y": [
          0,
          26.49036252785957,
          26.49036252785957,
          0
         ],
         "yaxis": "y"
        },
        {
         "hoverinfo": "text",
         "marker": {
          "color": "rgb(133,20,75)"
         },
         "mode": "lines",
         "type": "scatter",
         "x": [
          2125,
          2125,
          2135,
          2135
         ],
         "xaxis": "x",
         "y": [
          0,
          33.69874289808587,
          33.69874289808587,
          0
         ],
         "yaxis": "y"
        },
        {
         "hoverinfo": "text",
         "marker": {
          "color": "rgb(133,20,75)"
         },
         "mode": "lines",
         "type": "scatter",
         "x": [
          2110,
          2110,
          2130,
          2130
         ],
         "xaxis": "x",
         "y": [
          26.49036252785957,
          34.34054326929032,
          34.34054326929032,
          33.69874289808587
         ],
         "yaxis": "y"
        },
        {
         "hoverinfo": "text",
         "marker": {
          "color": "rgb(133,20,75)"
         },
         "mode": "lines",
         "type": "scatter",
         "x": [
          2082.5,
          2082.5,
          2120,
          2120
         ],
         "xaxis": "x",
         "y": [
          31.959277727933383,
          34.85451531055502,
          34.85451531055502,
          34.34054326929032
         ],
         "yaxis": "y"
        },
        {
         "hoverinfo": "text",
         "marker": {
          "color": "rgb(133,20,75)"
         },
         "mode": "lines",
         "type": "scatter",
         "x": [
          2060,
          2060,
          2101.25,
          2101.25
         ],
         "xaxis": "x",
         "y": [
          31.851541629391093,
          36.144555145942924,
          36.144555145942924,
          34.85451531055502
         ],
         "yaxis": "y"
        },
        {
         "hoverinfo": "text",
         "marker": {
          "color": "rgb(133,20,75)"
         },
         "mode": "lines",
         "type": "scatter",
         "x": [
          1993.75,
          1993.75,
          2080.625,
          2080.625
         ],
         "xaxis": "x",
         "y": [
          35.199813165188104,
          37.58834542761542,
          37.58834542761542,
          36.144555145942924
         ],
         "yaxis": "y"
        },
        {
         "hoverinfo": "text",
         "marker": {
          "color": "rgb(133,20,75)"
         },
         "mode": "lines",
         "type": "scatter",
         "x": [
          1940,
          1940,
          2037.1875,
          2037.1875
         ],
         "xaxis": "x",
         "y": [
          35.37630951565386,
          40.61047695995581,
          40.61047695995581,
          37.58834542761542
         ],
         "yaxis": "y"
        },
        {
         "hoverinfo": "text",
         "marker": {
          "color": "rgb(133,20,75)"
         },
         "mode": "lines",
         "type": "scatter",
         "x": [
          2145,
          2145,
          2155,
          2155
         ],
         "xaxis": "x",
         "y": [
          0,
          41.701406425804436,
          41.701406425804436,
          0
         ],
         "yaxis": "y"
        },
        {
         "hoverinfo": "text",
         "marker": {
          "color": "rgb(133,20,75)"
         },
         "mode": "lines",
         "type": "scatter",
         "x": [
          1988.59375,
          1988.59375,
          2150,
          2150
         ],
         "xaxis": "x",
         "y": [
          40.61047695995581,
          46.34974977397071,
          46.34974977397071,
          41.701406425804436
         ],
         "yaxis": "y"
        },
        {
         "hoverinfo": "text",
         "marker": {
          "color": "rgb(133,20,75)"
         },
         "mode": "lines",
         "type": "scatter",
         "x": [
          1316.8862360715866,
          1316.8862360715866,
          2069.296875,
          2069.296875
         ],
         "xaxis": "x",
         "y": [
          39.23081951283793,
          51.001373642778375,
          51.001373642778375,
          46.34974977397071
         ],
         "yaxis": "y"
        },
        {
         "hoverinfo": "text",
         "marker": {
          "color": "rgb(0,116,217)"
         },
         "mode": "lines",
         "type": "scatter",
         "x": [
          398.54217529296875,
          398.54217529296875,
          1693.0915555357933,
          1693.0915555357933
         ],
         "xaxis": "x",
         "y": [
          34.71206147068792,
          72.97883218179527,
          72.97883218179527,
          51.001373642778375
         ],
         "yaxis": "y"
        },
        {
         "hoverinfo": "text",
         "marker": {
          "color": "rgb(0,116,217)"
         },
         "mode": "lines",
         "type": "scatter",
         "x": [
          57.1875,
          57.1875,
          1045.816865414381,
          1045.816865414381
         ],
         "xaxis": "x",
         "y": [
          58.24117052065187,
          84.15890897930049,
          84.15890897930049,
          72.97883218179527
         ],
         "yaxis": "y"
        },
        {
         "hoverinfo": "text",
         "marker": {
          "color": "rgb(0,116,217)"
         },
         "mode": "lines",
         "type": "scatter",
         "x": [
          10,
          10,
          551.5021827071905,
          551.5021827071905
         ],
         "xaxis": "x",
         "y": [
          29.039033801988804,
          102.90769024014944,
          102.90769024014944,
          84.15890897930049
         ],
         "yaxis": "y"
        }
       ],
       "layout": {
        "autosize": false,
        "height": 500,
        "hovermode": "closest",
        "showlegend": false,
        "template": {
         "data": {
          "bar": [
           {
            "error_x": {
             "color": "#2a3f5f"
            },
            "error_y": {
             "color": "#2a3f5f"
            },
            "marker": {
             "line": {
              "color": "#E5ECF6",
              "width": 0.5
             },
             "pattern": {
              "fillmode": "overlay",
              "size": 10,
              "solidity": 0.2
             }
            },
            "type": "bar"
           }
          ],
          "barpolar": [
           {
            "marker": {
             "line": {
              "color": "#E5ECF6",
              "width": 0.5
             },
             "pattern": {
              "fillmode": "overlay",
              "size": 10,
              "solidity": 0.2
             }
            },
            "type": "barpolar"
           }
          ],
          "carpet": [
           {
            "aaxis": {
             "endlinecolor": "#2a3f5f",
             "gridcolor": "white",
             "linecolor": "white",
             "minorgridcolor": "white",
             "startlinecolor": "#2a3f5f"
            },
            "baxis": {
             "endlinecolor": "#2a3f5f",
             "gridcolor": "white",
             "linecolor": "white",
             "minorgridcolor": "white",
             "startlinecolor": "#2a3f5f"
            },
            "type": "carpet"
           }
          ],
          "choropleth": [
           {
            "colorbar": {
             "outlinewidth": 0,
             "ticks": ""
            },
            "type": "choropleth"
           }
          ],
          "contour": [
           {
            "colorbar": {
             "outlinewidth": 0,
             "ticks": ""
            },
            "colorscale": [
             [
              0,
              "#0d0887"
             ],
             [
              0.1111111111111111,
              "#46039f"
             ],
             [
              0.2222222222222222,
              "#7201a8"
             ],
             [
              0.3333333333333333,
              "#9c179e"
             ],
             [
              0.4444444444444444,
              "#bd3786"
             ],
             [
              0.5555555555555556,
              "#d8576b"
             ],
             [
              0.6666666666666666,
              "#ed7953"
             ],
             [
              0.7777777777777778,
              "#fb9f3a"
             ],
             [
              0.8888888888888888,
              "#fdca26"
             ],
             [
              1,
              "#f0f921"
             ]
            ],
            "type": "contour"
           }
          ],
          "contourcarpet": [
           {
            "colorbar": {
             "outlinewidth": 0,
             "ticks": ""
            },
            "type": "contourcarpet"
           }
          ],
          "heatmap": [
           {
            "colorbar": {
             "outlinewidth": 0,
             "ticks": ""
            },
            "colorscale": [
             [
              0,
              "#0d0887"
             ],
             [
              0.1111111111111111,
              "#46039f"
             ],
             [
              0.2222222222222222,
              "#7201a8"
             ],
             [
              0.3333333333333333,
              "#9c179e"
             ],
             [
              0.4444444444444444,
              "#bd3786"
             ],
             [
              0.5555555555555556,
              "#d8576b"
             ],
             [
              0.6666666666666666,
              "#ed7953"
             ],
             [
              0.7777777777777778,
              "#fb9f3a"
             ],
             [
              0.8888888888888888,
              "#fdca26"
             ],
             [
              1,
              "#f0f921"
             ]
            ],
            "type": "heatmap"
           }
          ],
          "heatmapgl": [
           {
            "colorbar": {
             "outlinewidth": 0,
             "ticks": ""
            },
            "colorscale": [
             [
              0,
              "#0d0887"
             ],
             [
              0.1111111111111111,
              "#46039f"
             ],
             [
              0.2222222222222222,
              "#7201a8"
             ],
             [
              0.3333333333333333,
              "#9c179e"
             ],
             [
              0.4444444444444444,
              "#bd3786"
             ],
             [
              0.5555555555555556,
              "#d8576b"
             ],
             [
              0.6666666666666666,
              "#ed7953"
             ],
             [
              0.7777777777777778,
              "#fb9f3a"
             ],
             [
              0.8888888888888888,
              "#fdca26"
             ],
             [
              1,
              "#f0f921"
             ]
            ],
            "type": "heatmapgl"
           }
          ],
          "histogram": [
           {
            "marker": {
             "pattern": {
              "fillmode": "overlay",
              "size": 10,
              "solidity": 0.2
             }
            },
            "type": "histogram"
           }
          ],
          "histogram2d": [
           {
            "colorbar": {
             "outlinewidth": 0,
             "ticks": ""
            },
            "colorscale": [
             [
              0,
              "#0d0887"
             ],
             [
              0.1111111111111111,
              "#46039f"
             ],
             [
              0.2222222222222222,
              "#7201a8"
             ],
             [
              0.3333333333333333,
              "#9c179e"
             ],
             [
              0.4444444444444444,
              "#bd3786"
             ],
             [
              0.5555555555555556,
              "#d8576b"
             ],
             [
              0.6666666666666666,
              "#ed7953"
             ],
             [
              0.7777777777777778,
              "#fb9f3a"
             ],
             [
              0.8888888888888888,
              "#fdca26"
             ],
             [
              1,
              "#f0f921"
             ]
            ],
            "type": "histogram2d"
           }
          ],
          "histogram2dcontour": [
           {
            "colorbar": {
             "outlinewidth": 0,
             "ticks": ""
            },
            "colorscale": [
             [
              0,
              "#0d0887"
             ],
             [
              0.1111111111111111,
              "#46039f"
             ],
             [
              0.2222222222222222,
              "#7201a8"
             ],
             [
              0.3333333333333333,
              "#9c179e"
             ],
             [
              0.4444444444444444,
              "#bd3786"
             ],
             [
              0.5555555555555556,
              "#d8576b"
             ],
             [
              0.6666666666666666,
              "#ed7953"
             ],
             [
              0.7777777777777778,
              "#fb9f3a"
             ],
             [
              0.8888888888888888,
              "#fdca26"
             ],
             [
              1,
              "#f0f921"
             ]
            ],
            "type": "histogram2dcontour"
           }
          ],
          "mesh3d": [
           {
            "colorbar": {
             "outlinewidth": 0,
             "ticks": ""
            },
            "type": "mesh3d"
           }
          ],
          "parcoords": [
           {
            "line": {
             "colorbar": {
              "outlinewidth": 0,
              "ticks": ""
             }
            },
            "type": "parcoords"
           }
          ],
          "pie": [
           {
            "automargin": true,
            "type": "pie"
           }
          ],
          "scatter": [
           {
            "fillpattern": {
             "fillmode": "overlay",
             "size": 10,
             "solidity": 0.2
            },
            "type": "scatter"
           }
          ],
          "scatter3d": [
           {
            "line": {
             "colorbar": {
              "outlinewidth": 0,
              "ticks": ""
             }
            },
            "marker": {
             "colorbar": {
              "outlinewidth": 0,
              "ticks": ""
             }
            },
            "type": "scatter3d"
           }
          ],
          "scattercarpet": [
           {
            "marker": {
             "colorbar": {
              "outlinewidth": 0,
              "ticks": ""
             }
            },
            "type": "scattercarpet"
           }
          ],
          "scattergeo": [
           {
            "marker": {
             "colorbar": {
              "outlinewidth": 0,
              "ticks": ""
             }
            },
            "type": "scattergeo"
           }
          ],
          "scattergl": [
           {
            "marker": {
             "colorbar": {
              "outlinewidth": 0,
              "ticks": ""
             }
            },
            "type": "scattergl"
           }
          ],
          "scattermapbox": [
           {
            "marker": {
             "colorbar": {
              "outlinewidth": 0,
              "ticks": ""
             }
            },
            "type": "scattermapbox"
           }
          ],
          "scatterpolar": [
           {
            "marker": {
             "colorbar": {
              "outlinewidth": 0,
              "ticks": ""
             }
            },
            "type": "scatterpolar"
           }
          ],
          "scatterpolargl": [
           {
            "marker": {
             "colorbar": {
              "outlinewidth": 0,
              "ticks": ""
             }
            },
            "type": "scatterpolargl"
           }
          ],
          "scatterternary": [
           {
            "marker": {
             "colorbar": {
              "outlinewidth": 0,
              "ticks": ""
             }
            },
            "type": "scatterternary"
           }
          ],
          "surface": [
           {
            "colorbar": {
             "outlinewidth": 0,
             "ticks": ""
            },
            "colorscale": [
             [
              0,
              "#0d0887"
             ],
             [
              0.1111111111111111,
              "#46039f"
             ],
             [
              0.2222222222222222,
              "#7201a8"
             ],
             [
              0.3333333333333333,
              "#9c179e"
             ],
             [
              0.4444444444444444,
              "#bd3786"
             ],
             [
              0.5555555555555556,
              "#d8576b"
             ],
             [
              0.6666666666666666,
              "#ed7953"
             ],
             [
              0.7777777777777778,
              "#fb9f3a"
             ],
             [
              0.8888888888888888,
              "#fdca26"
             ],
             [
              1,
              "#f0f921"
             ]
            ],
            "type": "surface"
           }
          ],
          "table": [
           {
            "cells": {
             "fill": {
              "color": "#EBF0F8"
             },
             "line": {
              "color": "white"
             }
            },
            "header": {
             "fill": {
              "color": "#C8D4E3"
             },
             "line": {
              "color": "white"
             }
            },
            "type": "table"
           }
          ]
         },
         "layout": {
          "annotationdefaults": {
           "arrowcolor": "#2a3f5f",
           "arrowhead": 0,
           "arrowwidth": 1
          },
          "autotypenumbers": "strict",
          "coloraxis": {
           "colorbar": {
            "outlinewidth": 0,
            "ticks": ""
           }
          },
          "colorscale": {
           "diverging": [
            [
             0,
             "#8e0152"
            ],
            [
             0.1,
             "#c51b7d"
            ],
            [
             0.2,
             "#de77ae"
            ],
            [
             0.3,
             "#f1b6da"
            ],
            [
             0.4,
             "#fde0ef"
            ],
            [
             0.5,
             "#f7f7f7"
            ],
            [
             0.6,
             "#e6f5d0"
            ],
            [
             0.7,
             "#b8e186"
            ],
            [
             0.8,
             "#7fbc41"
            ],
            [
             0.9,
             "#4d9221"
            ],
            [
             1,
             "#276419"
            ]
           ],
           "sequential": [
            [
             0,
             "#0d0887"
            ],
            [
             0.1111111111111111,
             "#46039f"
            ],
            [
             0.2222222222222222,
             "#7201a8"
            ],
            [
             0.3333333333333333,
             "#9c179e"
            ],
            [
             0.4444444444444444,
             "#bd3786"
            ],
            [
             0.5555555555555556,
             "#d8576b"
            ],
            [
             0.6666666666666666,
             "#ed7953"
            ],
            [
             0.7777777777777778,
             "#fb9f3a"
            ],
            [
             0.8888888888888888,
             "#fdca26"
            ],
            [
             1,
             "#f0f921"
            ]
           ],
           "sequentialminus": [
            [
             0,
             "#0d0887"
            ],
            [
             0.1111111111111111,
             "#46039f"
            ],
            [
             0.2222222222222222,
             "#7201a8"
            ],
            [
             0.3333333333333333,
             "#9c179e"
            ],
            [
             0.4444444444444444,
             "#bd3786"
            ],
            [
             0.5555555555555556,
             "#d8576b"
            ],
            [
             0.6666666666666666,
             "#ed7953"
            ],
            [
             0.7777777777777778,
             "#fb9f3a"
            ],
            [
             0.8888888888888888,
             "#fdca26"
            ],
            [
             1,
             "#f0f921"
            ]
           ]
          },
          "colorway": [
           "#636efa",
           "#EF553B",
           "#00cc96",
           "#ab63fa",
           "#FFA15A",
           "#19d3f3",
           "#FF6692",
           "#B6E880",
           "#FF97FF",
           "#FECB52"
          ],
          "font": {
           "color": "#2a3f5f"
          },
          "geo": {
           "bgcolor": "white",
           "lakecolor": "white",
           "landcolor": "#E5ECF6",
           "showlakes": true,
           "showland": true,
           "subunitcolor": "white"
          },
          "hoverlabel": {
           "align": "left"
          },
          "hovermode": "closest",
          "mapbox": {
           "style": "light"
          },
          "paper_bgcolor": "white",
          "plot_bgcolor": "#E5ECF6",
          "polar": {
           "angularaxis": {
            "gridcolor": "white",
            "linecolor": "white",
            "ticks": ""
           },
           "bgcolor": "#E5ECF6",
           "radialaxis": {
            "gridcolor": "white",
            "linecolor": "white",
            "ticks": ""
           }
          },
          "scene": {
           "xaxis": {
            "backgroundcolor": "#E5ECF6",
            "gridcolor": "white",
            "gridwidth": 2,
            "linecolor": "white",
            "showbackground": true,
            "ticks": "",
            "zerolinecolor": "white"
           },
           "yaxis": {
            "backgroundcolor": "#E5ECF6",
            "gridcolor": "white",
            "gridwidth": 2,
            "linecolor": "white",
            "showbackground": true,
            "ticks": "",
            "zerolinecolor": "white"
           },
           "zaxis": {
            "backgroundcolor": "#E5ECF6",
            "gridcolor": "white",
            "gridwidth": 2,
            "linecolor": "white",
            "showbackground": true,
            "ticks": "",
            "zerolinecolor": "white"
           }
          },
          "shapedefaults": {
           "line": {
            "color": "#2a3f5f"
           }
          },
          "ternary": {
           "aaxis": {
            "gridcolor": "white",
            "linecolor": "white",
            "ticks": ""
           },
           "baxis": {
            "gridcolor": "white",
            "linecolor": "white",
            "ticks": ""
           },
           "bgcolor": "#E5ECF6",
           "caxis": {
            "gridcolor": "white",
            "linecolor": "white",
            "ticks": ""
           }
          },
          "title": {
           "x": 0.05
          },
          "xaxis": {
           "automargin": true,
           "gridcolor": "white",
           "linecolor": "white",
           "ticks": "",
           "title": {
            "standoff": 15
           },
           "zerolinecolor": "white",
           "zerolinewidth": 2
          },
          "yaxis": {
           "automargin": true,
           "gridcolor": "white",
           "linecolor": "white",
           "ticks": "",
           "title": {
            "standoff": 15
           },
           "zerolinecolor": "white",
           "zerolinewidth": 2
          }
         }
        },
        "width": 1800,
        "xaxis": {
         "autorange": true,
         "mirror": "allticks",
         "range": [
          0,
          2155
         ],
         "rangemode": "tozero",
         "showgrid": false,
         "showline": true,
         "showticklabels": true,
         "tickmode": "array",
         "ticks": "outside",
         "ticktext": [
          "98",
          "99",
          "199",
          "48",
          "95",
          "204",
          "209",
          "159",
          "169",
          "4",
          "57",
          "142",
          "104",
          "165",
          "140",
          "174",
          "18",
          "23",
          "50",
          "92",
          "21",
          "80",
          "94",
          "72",
          "5",
          "10",
          "81",
          "127",
          "25",
          "200",
          "30",
          "176",
          "44",
          "119",
          "178",
          "86",
          "157",
          "198",
          "91",
          "208",
          "66",
          "211",
          "32",
          "77",
          "122",
          "38",
          "71",
          "138",
          "116",
          "42",
          "112",
          "179",
          "24",
          "37",
          "96",
          "145",
          "68",
          "175",
          "0",
          "16",
          "146",
          "114",
          "93",
          "6",
          "186",
          "8",
          "196",
          "110",
          "141",
          "156",
          "215",
          "76",
          "143",
          "70",
          "106",
          "121",
          "195",
          "78",
          "75",
          "206",
          "3",
          "189",
          "41",
          "118",
          "184",
          "128",
          "117",
          "158",
          "52",
          "1",
          "162",
          "214",
          "125",
          "191",
          "210",
          "109",
          "61",
          "31",
          "148",
          "83",
          "180",
          "161",
          "35",
          "65",
          "28",
          "205",
          "19",
          "172",
          "160",
          "54",
          "123",
          "40",
          "88",
          "7",
          "105",
          "60",
          "102",
          "136",
          "2",
          "203",
          "100",
          "85",
          "129",
          "33",
          "11",
          "177",
          "134",
          "166",
          "213",
          "202",
          "212",
          "111",
          "147",
          "151",
          "192",
          "152",
          "153",
          "49",
          "120",
          "47",
          "59",
          "188",
          "194",
          "82",
          "133",
          "26",
          "64",
          "163",
          "182",
          "144",
          "12",
          "62",
          "89",
          "193",
          "14",
          "181",
          "46",
          "20",
          "55",
          "173",
          "154",
          "13",
          "97",
          "69",
          "34",
          "126",
          "164",
          "67",
          "130",
          "73",
          "131",
          "74",
          "124",
          "87",
          "103",
          "84",
          "201",
          "207",
          "9",
          "15",
          "113",
          "39",
          "108",
          "132",
          "51",
          "90",
          "27",
          "43",
          "187",
          "58",
          "101",
          "167",
          "171",
          "22",
          "45",
          "139",
          "190",
          "36",
          "183",
          "185",
          "63",
          "149",
          "137",
          "53",
          "197",
          "17",
          "168",
          "115",
          "135",
          "155",
          "29",
          "107",
          "56",
          "150",
          "79",
          "170"
         ],
         "tickvals": [
          5,
          15,
          25,
          35,
          45,
          55,
          65,
          75,
          85,
          95,
          105,
          115,
          125,
          135,
          145,
          155,
          165,
          175,
          185,
          195,
          205,
          215,
          225,
          235,
          245,
          255,
          265,
          275,
          285,
          295,
          305,
          315,
          325,
          335,
          345,
          355,
          365,
          375,
          385,
          395,
          405,
          415,
          425,
          435,
          445,
          455,
          465,
          475,
          485,
          495,
          505,
          515,
          525,
          535,
          545,
          555,
          565,
          575,
          585,
          595,
          605,
          615,
          625,
          635,
          645,
          655,
          665,
          675,
          685,
          695,
          705,
          715,
          725,
          735,
          745,
          755,
          765,
          775,
          785,
          795,
          805,
          815,
          825,
          835,
          845,
          855,
          865,
          875,
          885,
          895,
          905,
          915,
          925,
          935,
          945,
          955,
          965,
          975,
          985,
          995,
          1005,
          1015,
          1025,
          1035,
          1045,
          1055,
          1065,
          1075,
          1085,
          1095,
          1105,
          1115,
          1125,
          1135,
          1145,
          1155,
          1165,
          1175,
          1185,
          1195,
          1205,
          1215,
          1225,
          1235,
          1245,
          1255,
          1265,
          1275,
          1285,
          1295,
          1305,
          1315,
          1325,
          1335,
          1345,
          1355,
          1365,
          1375,
          1385,
          1395,
          1405,
          1415,
          1425,
          1435,
          1445,
          1455,
          1465,
          1475,
          1485,
          1495,
          1505,
          1515,
          1525,
          1535,
          1545,
          1555,
          1565,
          1575,
          1585,
          1595,
          1605,
          1615,
          1625,
          1635,
          1645,
          1655,
          1665,
          1675,
          1685,
          1695,
          1705,
          1715,
          1725,
          1735,
          1745,
          1755,
          1765,
          1775,
          1785,
          1795,
          1805,
          1815,
          1825,
          1835,
          1845,
          1855,
          1865,
          1875,
          1885,
          1895,
          1905,
          1915,
          1925,
          1935,
          1945,
          1955,
          1965,
          1975,
          1985,
          1995,
          2005,
          2015,
          2025,
          2035,
          2045,
          2055,
          2065,
          2075,
          2085,
          2095,
          2105,
          2115,
          2125,
          2135,
          2145,
          2155
         ],
         "type": "linear",
         "zeroline": false
        },
        "yaxis": {
         "autorange": true,
         "mirror": "allticks",
         "range": [
          0,
          108.3238844633152
         ],
         "rangemode": "tozero",
         "showgrid": false,
         "showline": true,
         "showticklabels": true,
         "ticks": "outside",
         "type": "linear",
         "zeroline": false
        }
       }
      },
      "image/png": "[encoded data removed]",
      "text/html": [
       "<div>                            <div id=\"626c2ee0-7000-4723-8d6e-0758c60e724f\" class=\"plotly-graph-div\" style=\"height:500px; width:1800px;\"></div>            <script type=\"text/javascript\">                require([\"plotly\"], function(Plotly) {                    window.PLOTLYENV=window.PLOTLYENV || {};                                    if (document.getElementById(\"626c2ee0-7000-4723-8d6e-0758c60e724f\")) {                    Plotly.newPlot(                        \"626c2ee0-7000-4723-8d6e-0758c60e724f\",                        [{\"hoverinfo\":\"text\",\"marker\":{\"color\":\"rgb(61,153,112)\"},\"mode\":\"lines\",\"x\":[5.0,5.0,15.0,15.0],\"xaxis\":\"x\",\"y\":[0.0,29.039033801988804,29.039033801988804,0.0],\"yaxis\":\"y\",\"type\":\"scatter\"},{\"hoverinfo\":\"text\",\"marker\":{\"color\":\"rgb(255,65,54)\"},\"mode\":\"lines\",\"x\":[35.0,35.0,45.0,45.0],\"xaxis\":\"x\",\"y\":[0.0,49.00480234693535,49.00480234693535,0.0],\"yaxis\":\"y\",\"type\":\"scatter\"},{\"hoverinfo\":\"text\",\"marker\":{\"color\":\"rgb(255,65,54)\"},\"mode\":\"lines\",\"x\":[25.0,25.0,40.0,40.0],\"xaxis\":\"x\",\"y\":[0.0,51.33402335492533,51.33402335492533,49.00480234693535],\"yaxis\":\"y\",\"type\":\"scatter\"},{\"hoverinfo\":\"text\",\"marker\":{\"color\":\"rgb(255,65,54)\"},\"mode\":\"lines\",\"x\":[75.0,75.0,85.0,85.0],\"xaxis\":\"x\",\"y\":[0.0,42.62580636471351,42.62580636471351,0.0],\"yaxis\":\"y\",\"type\":\"scatter\"},{\"hoverinfo\":\"text\",\"marker\":{\"color\":\"rgb(255,65,54)\"},\"mode\":\"lines\",\"x\":[65.0,65.0,80.0,80.0],\"xaxis\":\"x\",\"y\":[0.0,47.7568514511117,47.7568514511117,42.62580636471351],\"yaxis\":\"y\",\"type\":\"scatter\"},{\"hoverinfo\":\"text\",\"marker\":{\"color\":\"rgb(255,65,54)\"},\"mode\":\"lines\",\"x\":[55.0,55.0,72.5,72.5],\"xaxis\":\"x\",\"y\":[0.0,48.38169138729477,48.38169138729477,47.7568514511117],\"yaxis\":\"y\",\"type\":\"scatter\"},{\"hoverinfo\":\"text\",\"marker\":{\"color\":\"rgb(255,65,54)\"},\"mode\":\"lines\",\"x\":[95.0,95.0,105.0,105.0],\"xaxis\":\"x\",\"y\":[0.0,50.06862574809006,50.06862574809006,0.0],\"yaxis\":\"y\",\"type\":\"scatter\"},{\"hoverinfo\":\"text\",\"marker\":{\"color\":\"rgb(255,65,54)\"},\"mode\":\"lines\",\"x\":[63.75,63.75,100.0,100.0],\"xaxis\":\"x\",\"y\":[48.38169138729477,51.45310128219264,51.45310128219264,50.06862574809006],\"yaxis\":\"y\",\"type\":\"scatter\"},{\"hoverinfo\":\"text\",\"marker\":{\"color\":\"rgb(255,65,54)\"},\"mode\":\"lines\",\"x\":[32.5,32.5,81.875,81.875],\"xaxis\":\"x\",\"y\":[51.33402335492533,58.24117052065187,58.24117052065187,51.45310128219264],\"yaxis\":\"y\",\"type\":\"scatter\"},{\"hoverinfo\":\"text\",\"marker\":{\"color\":\"rgb(35,205,205)\"},\"mode\":\"lines\",\"x\":[125.0,125.0,135.0,135.0],\"xaxis\":\"x\",\"y\":[0.0,22.818271689313935,22.818271689313935,0.0],\"yaxis\":\"y\",\"type\":\"scatter\"},{\"hoverinfo\":\"text\",\"marker\":{\"color\":\"rgb(35,205,205)\"},\"mode\":\"lines\",\"x\":[115.0,115.0,130.0,130.0],\"xaxis\":\"x\",\"y\":[0.0,28.551343584122858,28.551343584122858,22.818271689313935],\"yaxis\":\"y\",\"type\":\"scatter\"},{\"hoverinfo\":\"text\",\"marker\":{\"color\":\"rgb(35,205,205)\"},\"mode\":\"lines\",\"x\":[145.0,145.0,155.0,155.0],\"xaxis\":\"x\",\"y\":[0.0,22.821212627329835,22.821212627329835,0.0],\"yaxis\":\"y\",\"type\":\"scatter\"},{\"hoverinfo\":\"text\",\"marker\":{\"color\":\"rgb(35,205,205)\"},\"mode\":\"lines\",\"x\":[165.0,165.0,175.0,175.0],\"xaxis\":\"x\",\"y\":[0.0,20.393575267356322,20.393575267356322,0.0],\"yaxis\":\"y\",\"type\":\"scatter\"},{\"hoverinfo\":\"text\",\"marker\":{\"color\":\"rgb(35,205,205)\"},\"mode\":\"lines\",\"x\":[185.0,185.0,195.0,195.0],\"xaxis\":\"x\",\"y\":[0.0,23.237687523029614,23.237687523029614,0.0],\"yaxis\":\"y\",\"type\":\"scatter\"},{\"hoverinfo\":\"text\",\"marker\":{\"color\":\"rgb(35,205,205)\"},\"mode\":\"lines\",\"x\":[170.0,170.0,190.0,190.0],\"xaxis\":\"x\",\"y\":[20.393575267356322,27.5899208707468,27.5899208707468,23.237687523029614],\"yaxis\":\"y\",\"type\":\"scatter\"},{\"hoverinfo\":\"text\",\"marker\":{\"color\":\"rgb(35,205,205)\"},\"mode\":\"lines\",\"x\":[150.0,150.0,180.0,180.0],\"xaxis\":\"x\",\"y\":[22.821212627329835,29.74526175440806,29.74526175440806,27.5899208707468],\"yaxis\":\"y\",\"type\":\"scatter\"},{\"hoverinfo\":\"text\",\"marker\":{\"color\":\"rgb(35,205,205)\"},\"mode\":\"lines\",\"x\":[215.0,215.0,225.0,225.0],\"xaxis\":\"x\",\"y\":[0.0,22.368399157208593,22.368399157208593,0.0],\"yaxis\":\"y\",\"type\":\"scatter\"},{\"hoverinfo\":\"text\",\"marker\":{\"color\":\"rgb(35,205,205)\"},\"mode\":\"lines\",\"x\":[245.0,245.0,255.0,255.0],\"xaxis\":\"x\",\"y\":[0.0,20.373521795588267,20.373521795588267,0.0],\"yaxis\":\"y\",\"type\":\"scatter\"},{\"hoverinfo\":\"text\",\"marker\":{\"color\":\"rgb(35,205,205)\"},\"mode\":\"lines\",\"x\":[235.0,235.0,250.0,250.0],\"xaxis\":\"x\",\"y\":[0.0,23.314278109087166,23.314278109087166,20.373521795588267],\"yaxis\":\"y\",\"type\":\"scatter\"},{\"hoverinfo\":\"text\",\"marker\":{\"color\":\"rgb(35,205,205)\"},\"mode\":\"lines\",\"x\":[220.0,220.0,242.5,242.5],\"xaxis\":\"x\",\"y\":[22.368399157208593,25.063872693426163,25.063872693426163,23.314278109087166],\"yaxis\":\"y\",\"type\":\"scatter\"},{\"hoverinfo\":\"text\",\"marker\":{\"color\":\"rgb(35,205,205)\"},\"mode\":\"lines\",\"x\":[205.0,205.0,231.25,231.25],\"xaxis\":\"x\",\"y\":[0.0,28.48366824343522,28.48366824343522,25.063872693426163],\"yaxis\":\"y\",\"type\":\"scatter\"},{\"hoverinfo\":\"text\",\"marker\":{\"color\":\"rgb(35,205,205)\"},\"mode\":\"lines\",\"x\":[265.0,265.0,275.0,275.0],\"xaxis\":\"x\",\"y\":[0.0,20.93763383073644,20.93763383073644,0.0],\"yaxis\":\"y\",\"type\":\"scatter\"},{\"hoverinfo\":\"text\",\"marker\":{\"color\":\"rgb(35,205,205)\"},\"mode\":\"lines\",\"x\":[285.0,285.0,295.0,295.0],\"xaxis\":\"x\",\"y\":[0.0,17.923310642090463,17.923310642090463,0.0],\"yaxis\":\"y\",\"type\":\"scatter\"},{\"hoverinfo\":\"text\",\"marker\":{\"color\":\"rgb(35,205,205)\"},\"mode\":\"lines\",\"x\":[305.0,305.0,315.0,315.0],\"xaxis\":\"x\",\"y\":[0.0,19.22122281358405,19.22122281358405,0.0],\"yaxis\":\"y\",\"type\":\"scatter\"},{\"hoverinfo\":\"text\",\"marker\":{\"color\":\"rgb(35,205,205)\"},\"mode\":\"lines\",\"x\":[290.0,290.0,310.0,310.0],\"xaxis\":\"x\",\"y\":[17.923310642090463,21.14261726637551,21.14261726637551,19.22122281358405],\"yaxis\":\"y\",\"type\":\"scatter\"},{\"hoverinfo\":\"text\",\"marker\":{\"color\":\"rgb(35,205,205)\"},\"mode\":\"lines\",\"x\":[325.0,325.0,335.0,335.0],\"xaxis\":\"x\",\"y\":[0.0,20.45317828573994,20.45317828573994,0.0],\"yaxis\":\"y\",\"type\":\"scatter\"},{\"hoverinfo\":\"text\",\"marker\":{\"color\":\"rgb(35,205,205)\"},\"mode\":\"lines\",\"x\":[365.0,365.0,375.0,375.0],\"xaxis\":\"x\",\"y\":[0.0,19.111366265862593,19.111366265862593,0.0],\"yaxis\":\"y\",\"type\":\"scatter\"},{\"hoverinfo\":\"text\",\"marker\":{\"color\":\"rgb(35,205,205)\"},\"mode\":\"lines\",\"x\":[355.0,355.0,370.0,370.0],\"xaxis\":\"x\",\"y\":[0.0,22.178493179604757,22.178493179604757,19.111366265862593],\"yaxis\":\"y\",\"type\":\"scatter\"},{\"hoverinfo\":\"text\",\"marker\":{\"color\":\"rgb(35,205,205)\"},\"mode\":\"lines\",\"x\":[345.0,345.0,362.5,362.5],\"xaxis\":\"x\",\"y\":[0.0,22.777849323810727,22.777849323810727,22.178493179604757],\"yaxis\":\"y\",\"type\":\"scatter\"},{\"hoverinfo\":\"text\",\"marker\":{\"color\":\"rgb(35,205,205)\"},\"mode\":\"lines\",\"x\":[405.0,405.0,415.0,415.0],\"xaxis\":\"x\",\"y\":[0.0,17.19435986511038,17.19435986511038,0.0],\"yaxis\":\"y\",\"type\":\"scatter\"},{\"hoverinfo\":\"text\",\"marker\":{\"color\":\"rgb(35,205,205)\"},\"mode\":\"lines\",\"x\":[395.0,395.0,410.0,410.0],\"xaxis\":\"x\",\"y\":[0.0,18.390597843912193,18.390597843912193,17.19435986511038],\"yaxis\":\"y\",\"type\":\"scatter\"},{\"hoverinfo\":\"text\",\"marker\":{\"color\":\"rgb(35,205,205)\"},\"mode\":\"lines\",\"x\":[435.0,435.0,445.0,445.0],\"xaxis\":\"x\",\"y\":[0.0,15.598034224725446,15.598034224725446,0.0],\"yaxis\":\"y\",\"type\":\"scatter\"},{\"hoverinfo\":\"text\",\"marker\":{\"color\":\"rgb(35,205,205)\"},\"mode\":\"lines\",\"x\":[425.0,425.0,440.0,440.0],\"xaxis\":\"x\",\"y\":[0.0,18.03770907643753,18.03770907643753,15.598034224725446],\"yaxis\":\"y\",\"type\":\"scatter\"},{\"hoverinfo\":\"text\",\"marker\":{\"color\":\"rgb(35,205,205)\"},\"mode\":\"lines\",\"x\":[455.0,455.0,465.0,465.0],\"xaxis\":\"x\",\"y\":[0.0,19.236386536143737,19.236386536143737,0.0],\"yaxis\":\"y\",\"type\":\"scatter\"},{\"hoverinfo\":\"text\",\"marker\":{\"color\":\"rgb(35,205,205)\"},\"mode\":\"lines\",\"x\":[432.5,432.5,460.0,460.0],\"xaxis\":\"x\",\"y\":[18.03770907643753,20.209300270851934,20.209300270851934,19.236386536143737],\"yaxis\":\"y\",\"type\":\"scatter\"},{\"hoverinfo\":\"text\",\"marker\":{\"color\":\"rgb(35,205,205)\"},\"mode\":\"lines\",\"x\":[402.5,402.5,446.25,446.25],\"xaxis\":\"x\",\"y\":[18.390597843912193,20.66004773423835,20.66004773423835,20.209300270851934],\"yaxis\":\"y\",\"type\":\"scatter\"},{\"hoverinfo\":\"text\",\"marker\":{\"color\":\"rgb(35,205,205)\"},\"mode\":\"lines\",\"x\":[385.0,385.0,424.375,424.375],\"xaxis\":\"x\",\"y\":[0.0,22.877772108182363,22.877772108182363,20.66004773423835],\"yaxis\":\"y\",\"type\":\"scatter\"},{\"hoverinfo\":\"text\",\"marker\":{\"color\":\"rgb(35,205,205)\"},\"mode\":\"lines\",\"x\":[353.75,353.75,404.6875,404.6875],\"xaxis\":\"x\",\"y\":[22.777849323810727,23.2825082459729,23.2825082459729,22.877772108182363],\"yaxis\":\"y\",\"type\":\"scatter\"},{\"hoverinfo\":\"text\",\"marker\":{\"color\":\"rgb(35,205,205)\"},\"mode\":\"lines\",\"x\":[505.0,505.0,515.0,515.0],\"xaxis\":\"x\",\"y\":[0.0,18.502331547189563,18.502331547189563,0.0],\"yaxis\":\"y\",\"type\":\"scatter\"},{\"hoverinfo\":\"text\",\"marker\":{\"color\":\"rgb(35,205,205)\"},\"mode\":\"lines\",\"x\":[495.0,495.0,510.0,510.0],\"xaxis\":\"x\",\"y\":[0.0,20.80272905399703,20.80272905399703,18.502331547189563],\"yaxis\":\"y\",\"type\":\"scatter\"},{\"hoverinfo\":\"text\",\"marker\":{\"color\":\"rgb(35,205,205)\"},\"mode\":\"lines\",\"x\":[485.0,485.0,502.5,502.5],\"xaxis\":\"x\",\"y\":[0.0,21.967761097003162,21.967761097003162,20.80272905399703],\"yaxis\":\"y\",\"type\":\"scatter\"},{\"hoverinfo\":\"text\",\"marker\":{\"color\":\"rgb(35,205,205)\"},\"mode\":\"lines\",\"x\":[475.0,475.0,493.75,493.75],\"xaxis\":\"x\",\"y\":[0.0,23.372350157892384,23.372350157892384,21.967761097003162],\"yaxis\":\"y\",\"type\":\"scatter\"},{\"hoverinfo\":\"text\",\"marker\":{\"color\":\"rgb(35,205,205)\"},\"mode\":\"lines\",\"x\":[379.21875,379.21875,484.375,484.375],\"xaxis\":\"x\",\"y\":[23.2825082459729,25.156560250744718,25.156560250744718,23.372350157892384],\"yaxis\":\"y\",\"type\":\"scatter\"},{\"hoverinfo\":\"text\",\"marker\":{\"color\":\"rgb(35,205,205)\"},\"mode\":\"lines\",\"x\":[330.0,330.0,431.796875,431.796875],\"xaxis\":\"x\",\"y\":[20.45317828573994,25.621398942481324,25.621398942481324,25.156560250744718],\"yaxis\":\"y\",\"type\":\"scatter\"},{\"hoverinfo\":\"text\",\"marker\":{\"color\":\"rgb(35,205,205)\"},\"mode\":\"lines\",\"x\":[300.0,300.0,380.8984375,380.8984375],\"xaxis\":\"x\",\"y\":[21.14261726637551,27.71925846287565,27.71925846287565,25.621398942481324],\"yaxis\":\"y\",\"type\":\"scatter\"},{\"hoverinfo\":\"text\",\"marker\":{\"color\":\"rgb(35,205,205)\"},\"mode\":\"lines\",\"x\":[270.0,270.0,340.44921875,340.44921875],\"xaxis\":\"x\",\"y\":[20.93763383073644,29.328991932014628,29.328991932014628,27.71925846287565],\"yaxis\":\"y\",\"type\":\"scatter\"},{\"hoverinfo\":\"text\",\"marker\":{\"color\":\"rgb(35,205,205)\"},\"mode\":\"lines\",\"x\":[218.125,218.125,305.224609375,305.224609375],\"xaxis\":\"x\",\"y\":[28.48366824343522,30.001802480436186,30.001802480436186,29.328991932014628],\"yaxis\":\"y\",\"type\":\"scatter\"},{\"hoverinfo\":\"text\",\"marker\":{\"color\":\"rgb(35,205,205)\"},\"mode\":\"lines\",\"x\":[525.0,525.0,535.0,535.0],\"xaxis\":\"x\",\"y\":[0.0,17.12875086406316,17.12875086406316,0.0],\"yaxis\":\"y\",\"type\":\"scatter\"},{\"hoverinfo\":\"text\",\"marker\":{\"color\":\"rgb(35,205,205)\"},\"mode\":\"lines\",\"x\":[545.0,545.0,555.0,555.0],\"xaxis\":\"x\",\"y\":[0.0,18.896275306041883,18.896275306041883,0.0],\"yaxis\":\"y\",\"type\":\"scatter\"},{\"hoverinfo\":\"text\",\"marker\":{\"color\":\"rgb(35,205,205)\"},\"mode\":\"lines\",\"x\":[530.0,530.0,550.0,550.0],\"xaxis\":\"x\",\"y\":[17.12875086406316,19.834175736224122,19.834175736224122,18.896275306041883],\"yaxis\":\"y\",\"type\":\"scatter\"},{\"hoverinfo\":\"text\",\"marker\":{\"color\":\"rgb(35,205,205)\"},\"mode\":\"lines\",\"x\":[565.0,565.0,575.0,575.0],\"xaxis\":\"x\",\"y\":[0.0,24.54235317305468,24.54235317305468,0.0],\"yaxis\":\"y\",\"type\":\"scatter\"},{\"hoverinfo\":\"text\",\"marker\":{\"color\":\"rgb(35,205,205)\"},\"mode\":\"lines\",\"x\":[540.0,540.0,570.0,570.0],\"xaxis\":\"x\",\"y\":[19.834175736224122,30.059101769653097,30.059101769653097,24.54235317305468],\"yaxis\":\"y\",\"type\":\"scatter\"},{\"hoverinfo\":\"text\",\"marker\":{\"color\":\"rgb(35,205,205)\"},\"mode\":\"lines\",\"x\":[261.6748046875,261.6748046875,555.0,555.0],\"xaxis\":\"x\",\"y\":[30.001802480436186,30.588007870056803,30.588007870056803,30.059101769653097],\"yaxis\":\"y\",\"type\":\"scatter\"},{\"hoverinfo\":\"text\",\"marker\":{\"color\":\"rgb(35,205,205)\"},\"mode\":\"lines\",\"x\":[165.0,165.0,408.33740234375,408.33740234375],\"xaxis\":\"x\",\"y\":[29.74526175440806,32.0624871078136,32.0624871078136,30.588007870056803],\"yaxis\":\"y\",\"type\":\"scatter\"},{\"hoverinfo\":\"text\",\"marker\":{\"color\":\"rgb(35,205,205)\"},\"mode\":\"lines\",\"x\":[122.5,122.5,286.668701171875,286.668701171875],\"xaxis\":\"x\",\"y\":[28.551343584122858,32.7681343449817,32.7681343449817,32.0624871078136],\"yaxis\":\"y\",\"type\":\"scatter\"},{\"hoverinfo\":\"text\",\"marker\":{\"color\":\"rgb(35,205,205)\"},\"mode\":\"lines\",\"x\":[595.0,595.0,605.0,605.0],\"xaxis\":\"x\",\"y\":[0.0,12.359808866147821,12.359808866147821,0.0],\"yaxis\":\"y\",\"type\":\"scatter\"},{\"hoverinfo\":\"text\",\"marker\":{\"color\":\"rgb(35,205,205)\"},\"mode\":\"lines\",\"x\":[585.0,585.0,600.0,600.0],\"xaxis\":\"x\",\"y\":[0.0,33.48758065193586,33.48758065193586,12.359808866147821],\"yaxis\":\"y\",\"type\":\"scatter\"},{\"hoverinfo\":\"text\",\"marker\":{\"color\":\"rgb(35,205,205)\"},\"mode\":\"lines\",\"x\":[204.5843505859375,204.5843505859375,592.5,592.5],\"xaxis\":\"x\",\"y\":[32.7681343449817,34.71206147068792,34.71206147068792,33.48758065193586],\"yaxis\":\"y\",\"type\":\"scatter\"},{\"hoverinfo\":\"text\",\"marker\":{\"color\":\"rgb(133,20,75)\"},\"mode\":\"lines\",\"x\":[635.0,635.0,645.0,645.0],\"xaxis\":\"x\",\"y\":[0.0,26.11392160300328,26.11392160300328,0.0],\"yaxis\":\"y\",\"type\":\"scatter\"},{\"hoverinfo\":\"text\",\"marker\":{\"color\":\"rgb(133,20,75)\"},\"mode\":\"lines\",\"x\":[625.0,625.0,640.0,640.0],\"xaxis\":\"x\",\"y\":[0.0,32.4730302985335,32.4730302985335,26.11392160300328],\"yaxis\":\"y\",\"type\":\"scatter\"},{\"hoverinfo\":\"text\",\"marker\":{\"color\":\"rgb(133,20,75)\"},\"mode\":\"lines\",\"x\":[655.0,655.0,665.0,665.0],\"xaxis\":\"x\",\"y\":[0.0,24.941772148303425,24.941772148303425,0.0],\"yaxis\":\"y\",\"type\":\"scatter\"},{\"hoverinfo\":\"text\",\"marker\":{\"color\":\"rgb(133,20,75)\"},\"mode\":\"lines\",\"x\":[695.0,695.0,705.0,705.0],\"xaxis\":\"x\",\"y\":[0.0,24.892402304554015,24.892402304554015,0.0],\"yaxis\":\"y\",\"type\":\"scatter\"},{\"hoverinfo\":\"text\",\"marker\":{\"color\":\"rgb(133,20,75)\"},\"mode\":\"lines\",\"x\":[685.0,685.0,700.0,700.0],\"xaxis\":\"x\",\"y\":[0.0,25.56212327162851,25.56212327162851,24.892402304554015],\"yaxis\":\"y\",\"type\":\"scatter\"},{\"hoverinfo\":\"text\",\"marker\":{\"color\":\"rgb(133,20,75)\"},\"mode\":\"lines\",\"x\":[675.0,675.0,692.5,692.5],\"xaxis\":\"x\",\"y\":[0.0,25.861452667004574,25.861452667004574,25.56212327162851],\"yaxis\":\"y\",\"type\":\"scatter\"},{\"hoverinfo\":\"text\",\"marker\":{\"color\":\"rgb(133,20,75)\"},\"mode\":\"lines\",\"x\":[660.0,660.0,683.75,683.75],\"xaxis\":\"x\",\"y\":[24.941772148303425,30.585867829347876,30.585867829347876,25.861452667004574],\"yaxis\":\"y\",\"type\":\"scatter\"},{\"hoverinfo\":\"text\",\"marker\":{\"color\":\"rgb(133,20,75)\"},\"mode\":\"lines\",\"x\":[715.0,715.0,725.0,725.0],\"xaxis\":\"x\",\"y\":[0.0,22.85335248976507,22.85335248976507,0.0],\"yaxis\":\"y\",\"type\":\"scatter\"},{\"hoverinfo\":\"text\",\"marker\":{\"color\":\"rgb(133,20,75)\"},\"mode\":\"lines\",\"x\":[745.0,745.0,755.0,755.0],\"xaxis\":\"x\",\"y\":[0.0,22.195617151227555,22.195617151227555,0.0],\"yaxis\":\"y\",\"type\":\"scatter\"},{\"hoverinfo\":\"text\",\"marker\":{\"color\":\"rgb(133,20,75)\"},\"mode\":\"lines\",\"x\":[735.0,735.0,750.0,750.0],\"xaxis\":\"x\",\"y\":[0.0,25.213305266561996,25.213305266561996,22.195617151227555],\"yaxis\":\"y\",\"type\":\"scatter\"},{\"hoverinfo\":\"text\",\"marker\":{\"color\":\"rgb(133,20,75)\"},\"mode\":\"lines\",\"x\":[720.0,720.0,742.5,742.5],\"xaxis\":\"x\",\"y\":[22.85335248976507,26.550737852326016,26.550737852326016,25.213305266561996],\"yaxis\":\"y\",\"type\":\"scatter\"},{\"hoverinfo\":\"text\",\"marker\":{\"color\":\"rgb(133,20,75)\"},\"mode\":\"lines\",\"x\":[785.0,785.0,795.0,795.0],\"xaxis\":\"x\",\"y\":[0.0,21.42773995534273,21.42773995534273,0.0],\"yaxis\":\"y\",\"type\":\"scatter\"},{\"hoverinfo\":\"text\",\"marker\":{\"color\":\"rgb(133,20,75)\"},\"mode\":\"lines\",\"x\":[775.0,775.0,790.0,790.0],\"xaxis\":\"x\",\"y\":[0.0,22.84748064530788,22.84748064530788,21.42773995534273],\"yaxis\":\"y\",\"type\":\"scatter\"},{\"hoverinfo\":\"text\",\"marker\":{\"color\":\"rgb(133,20,75)\"},\"mode\":\"lines\",\"x\":[765.0,765.0,782.5,782.5],\"xaxis\":\"x\",\"y\":[0.0,28.657264512650634,28.657264512650634,22.84748064530788],\"yaxis\":\"y\",\"type\":\"scatter\"},{\"hoverinfo\":\"text\",\"marker\":{\"color\":\"rgb(133,20,75)\"},\"mode\":\"lines\",\"x\":[731.25,731.25,773.75,773.75],\"xaxis\":\"x\",\"y\":[26.550737852326016,30.840236767620567,30.840236767620567,28.657264512650634],\"yaxis\":\"y\",\"type\":\"scatter\"},{\"hoverinfo\":\"text\",\"marker\":{\"color\":\"rgb(133,20,75)\"},\"mode\":\"lines\",\"x\":[805.0,805.0,815.0,815.0],\"xaxis\":\"x\",\"y\":[0.0,26.20947081465058,26.20947081465058,0.0],\"yaxis\":\"y\",\"type\":\"scatter\"},{\"hoverinfo\":\"text\",\"marker\":{\"color\":\"rgb(133,20,75)\"},\"mode\":\"lines\",\"x\":[835.0,835.0,845.0,845.0],\"xaxis\":\"x\",\"y\":[0.0,21.167396345101466,21.167396345101466,0.0],\"yaxis\":\"y\",\"type\":\"scatter\"},{\"hoverinfo\":\"text\",\"marker\":{\"color\":\"rgb(133,20,75)\"},\"mode\":\"lines\",\"x\":[825.0,825.0,840.0,840.0],\"xaxis\":\"x\",\"y\":[0.0,25.21875978746438,25.21875978746438,21.167396345101466],\"yaxis\":\"y\",\"type\":\"scatter\"},{\"hoverinfo\":\"text\",\"marker\":{\"color\":\"rgb(133,20,75)\"},\"mode\":\"lines\",\"x\":[865.0,865.0,875.0,875.0],\"xaxis\":\"x\",\"y\":[0.0,20.755397386684955,20.755397386684955,0.0],\"yaxis\":\"y\",\"type\":\"scatter\"},{\"hoverinfo\":\"text\",\"marker\":{\"color\":\"rgb(133,20,75)\"},\"mode\":\"lines\",\"x\":[855.0,855.0,870.0,870.0],\"xaxis\":\"x\",\"y\":[0.0,23.72495995581716,23.72495995581716,20.755397386684955],\"yaxis\":\"y\",\"type\":\"scatter\"},{\"hoverinfo\":\"text\",\"marker\":{\"color\":\"rgb(133,20,75)\"},\"mode\":\"lines\",\"x\":[905.0,905.0,915.0,915.0],\"xaxis\":\"x\",\"y\":[0.0,19.55978572248009,19.55978572248009,0.0],\"yaxis\":\"y\",\"type\":\"scatter\"},{\"hoverinfo\":\"text\",\"marker\":{\"color\":\"rgb(133,20,75)\"},\"mode\":\"lines\",\"x\":[895.0,895.0,910.0,910.0],\"xaxis\":\"x\",\"y\":[0.0,21.72162039333443,21.72162039333443,19.55978572248009],\"yaxis\":\"y\",\"type\":\"scatter\"},{\"hoverinfo\":\"text\",\"marker\":{\"color\":\"rgb(133,20,75)\"},\"mode\":\"lines\",\"x\":[885.0,885.0,902.5,902.5],\"xaxis\":\"x\",\"y\":[0.0,24.48639548640644,24.48639548640644,21.72162039333443],\"yaxis\":\"y\",\"type\":\"scatter\"},{\"hoverinfo\":\"text\",\"marker\":{\"color\":\"rgb(133,20,75)\"},\"mode\":\"lines\",\"x\":[862.5,862.5,893.75,893.75],\"xaxis\":\"x\",\"y\":[23.72495995581716,26.09308262504858,26.09308262504858,24.48639548640644],\"yaxis\":\"y\",\"type\":\"scatter\"},{\"hoverinfo\":\"text\",\"marker\":{\"color\":\"rgb(133,20,75)\"},\"mode\":\"lines\",\"x\":[832.5,832.5,878.125,878.125],\"xaxis\":\"x\",\"y\":[25.21875978746438,27.87157606689172,27.87157606689172,26.09308262504858],\"yaxis\":\"y\",\"type\":\"scatter\"},{\"hoverinfo\":\"text\",\"marker\":{\"color\":\"rgb(133,20,75)\"},\"mode\":\"lines\",\"x\":[935.0,935.0,945.0,945.0],\"xaxis\":\"x\",\"y\":[0.0,24.56954620503805,24.56954620503805,0.0],\"yaxis\":\"y\",\"type\":\"scatter\"},{\"hoverinfo\":\"text\",\"marker\":{\"color\":\"rgb(133,20,75)\"},\"mode\":\"lines\",\"x\":[925.0,925.0,940.0,940.0],\"xaxis\":\"x\",\"y\":[0.0,26.640587321023517,26.640587321023517,24.56954620503805],\"yaxis\":\"y\",\"type\":\"scatter\"},{\"hoverinfo\":\"text\",\"marker\":{\"color\":\"rgb(133,20,75)\"},\"mode\":\"lines\",\"x\":[975.0,975.0,985.0,985.0],\"xaxis\":\"x\",\"y\":[0.0,21.836349392329534,21.836349392329534,0.0],\"yaxis\":\"y\",\"type\":\"scatter\"},{\"hoverinfo\":\"text\",\"marker\":{\"color\":\"rgb(133,20,75)\"},\"mode\":\"lines\",\"x\":[965.0,965.0,980.0,980.0],\"xaxis\":\"x\",\"y\":[0.0,26.145374037436355,26.145374037436355,21.836349392329534],\"yaxis\":\"y\",\"type\":\"scatter\"},{\"hoverinfo\":\"text\",\"marker\":{\"color\":\"rgb(133,20,75)\"},\"mode\":\"lines\",\"x\":[1025.0,1025.0,1035.0,1035.0],\"xaxis\":\"x\",\"y\":[0.0,20.5835455843245,20.5835455843245,0.0],\"yaxis\":\"y\",\"type\":\"scatter\"},{\"hoverinfo\":\"text\",\"marker\":{\"color\":\"rgb(133,20,75)\"},\"mode\":\"lines\",\"x\":[1015.0,1015.0,1030.0,1030.0],\"xaxis\":\"x\",\"y\":[0.0,21.830667876795157,21.830667876795157,20.5835455843245],\"yaxis\":\"y\",\"type\":\"scatter\"},{\"hoverinfo\":\"text\",\"marker\":{\"color\":\"rgb(133,20,75)\"},\"mode\":\"lines\",\"x\":[1005.0,1005.0,1022.5,1022.5],\"xaxis\":\"x\",\"y\":[0.0,22.909023723064706,22.909023723064706,21.830667876795157],\"yaxis\":\"y\",\"type\":\"scatter\"},{\"hoverinfo\":\"text\",\"marker\":{\"color\":\"rgb(133,20,75)\"},\"mode\":\"lines\",\"x\":[995.0,995.0,1013.75,1013.75],\"xaxis\":\"x\",\"y\":[0.0,22.980613684867937,22.980613684867937,22.909023723064706],\"yaxis\":\"y\",\"type\":\"scatter\"},{\"hoverinfo\":\"text\",\"marker\":{\"color\":\"rgb(133,20,75)\"},\"mode\":\"lines\",\"x\":[1045.0,1045.0,1055.0,1055.0],\"xaxis\":\"x\",\"y\":[0.0,21.30162746234639,21.30162746234639,0.0],\"yaxis\":\"y\",\"type\":\"scatter\"},{\"hoverinfo\":\"text\",\"marker\":{\"color\":\"rgb(133,20,75)\"},\"mode\":\"lines\",\"x\":[1065.0,1065.0,1075.0,1075.0],\"xaxis\":\"x\",\"y\":[0.0,22.800512157436263,22.800512157436263,0.0],\"yaxis\":\"y\",\"type\":\"scatter\"},{\"hoverinfo\":\"text\",\"marker\":{\"color\":\"rgb(133,20,75)\"},\"mode\":\"lines\",\"x\":[1050.0,1050.0,1070.0,1070.0],\"xaxis\":\"x\",\"y\":[21.30162746234639,24.46786578509997,24.46786578509997,22.800512157436263],\"yaxis\":\"y\",\"type\":\"scatter\"},{\"hoverinfo\":\"text\",\"marker\":{\"color\":\"rgb(133,20,75)\"},\"mode\":\"lines\",\"x\":[1004.375,1004.375,1060.0,1060.0],\"xaxis\":\"x\",\"y\":[22.980613684867937,25.76242657045583,25.76242657045583,24.46786578509997],\"yaxis\":\"y\",\"type\":\"scatter\"},{\"hoverinfo\":\"text\",\"marker\":{\"color\":\"rgb(133,20,75)\"},\"mode\":\"lines\",\"x\":[1095.0,1095.0,1105.0,1105.0],\"xaxis\":\"x\",\"y\":[0.0,19.167797517799585,19.167797517799585,0.0],\"yaxis\":\"y\",\"type\":\"scatter\"},{\"hoverinfo\":\"text\",\"marker\":{\"color\":\"rgb(133,20,75)\"},\"mode\":\"lines\",\"x\":[1085.0,1085.0,1100.0,1100.0],\"xaxis\":\"x\",\"y\":[0.0,21.209390826187725,21.209390826187725,19.167797517799585],\"yaxis\":\"y\",\"type\":\"scatter\"},{\"hoverinfo\":\"text\",\"marker\":{\"color\":\"rgb(133,20,75)\"},\"mode\":\"lines\",\"x\":[1135.0,1135.0,1145.0,1145.0],\"xaxis\":\"x\",\"y\":[0.0,21.49300076952342,21.49300076952342,0.0],\"yaxis\":\"y\",\"type\":\"scatter\"},{\"hoverinfo\":\"text\",\"marker\":{\"color\":\"rgb(133,20,75)\"},\"mode\":\"lines\",\"x\":[1125.0,1125.0,1140.0,1140.0],\"xaxis\":\"x\",\"y\":[0.0,21.919313383945894,21.919313383945894,21.49300076952342],\"yaxis\":\"y\",\"type\":\"scatter\"},{\"hoverinfo\":\"text\",\"marker\":{\"color\":\"rgb(133,20,75)\"},\"mode\":\"lines\",\"x\":[1115.0,1115.0,1132.5,1132.5],\"xaxis\":\"x\",\"y\":[0.0,23.78701688107423,23.78701688107423,21.919313383945894],\"yaxis\":\"y\",\"type\":\"scatter\"},{\"hoverinfo\":\"text\",\"marker\":{\"color\":\"rgb(133,20,75)\"},\"mode\":\"lines\",\"x\":[1092.5,1092.5,1123.75,1123.75],\"xaxis\":\"x\",\"y\":[21.209390826187725,24.060530273411004,24.060530273411004,23.78701688107423],\"yaxis\":\"y\",\"type\":\"scatter\"},{\"hoverinfo\":\"text\",\"marker\":{\"color\":\"rgb(133,20,75)\"},\"mode\":\"lines\",\"x\":[1165.0,1165.0,1175.0,1175.0],\"xaxis\":\"x\",\"y\":[0.0,20.123796115519298,20.123796115519298,0.0],\"yaxis\":\"y\",\"type\":\"scatter\"},{\"hoverinfo\":\"text\",\"marker\":{\"color\":\"rgb(133,20,75)\"},\"mode\":\"lines\",\"x\":[1155.0,1155.0,1170.0,1170.0],\"xaxis\":\"x\",\"y\":[0.0,22.048526130706538,22.048526130706538,20.123796115519298],\"yaxis\":\"y\",\"type\":\"scatter\"},{\"hoverinfo\":\"text\",\"marker\":{\"color\":\"rgb(133,20,75)\"},\"mode\":\"lines\",\"x\":[1185.0,1185.0,1195.0,1195.0],\"xaxis\":\"x\",\"y\":[0.0,22.189778799779777,22.189778799779777,0.0],\"yaxis\":\"y\",\"type\":\"scatter\"},{\"hoverinfo\":\"text\",\"marker\":{\"color\":\"rgb(133,20,75)\"},\"mode\":\"lines\",\"x\":[1162.5,1162.5,1190.0,1190.0],\"xaxis\":\"x\",\"y\":[22.048526130706538,23.04180853387416,23.04180853387416,22.189778799779777],\"yaxis\":\"y\",\"type\":\"scatter\"},{\"hoverinfo\":\"text\",\"marker\":{\"color\":\"rgb(133,20,75)\"},\"mode\":\"lines\",\"x\":[1215.0,1215.0,1225.0,1225.0],\"xaxis\":\"x\",\"y\":[0.0,20.650546360598533,20.650546360598533,0.0],\"yaxis\":\"y\",\"type\":\"scatter\"},{\"hoverinfo\":\"text\",\"marker\":{\"color\":\"rgb(133,20,75)\"},\"mode\":\"lines\",\"x\":[1205.0,1205.0,1220.0,1220.0],\"xaxis\":\"x\",\"y\":[0.0,23.330833584311055,23.330833584311055,20.650546360598533],\"yaxis\":\"y\",\"type\":\"scatter\"},{\"hoverinfo\":\"text\",\"marker\":{\"color\":\"rgb(133,20,75)\"},\"mode\":\"lines\",\"x\":[1176.25,1176.25,1212.5,1212.5],\"xaxis\":\"x\",\"y\":[23.04180853387416,24.44321601792701,24.44321601792701,23.330833584311055],\"yaxis\":\"y\",\"type\":\"scatter\"},{\"hoverinfo\":\"text\",\"marker\":{\"color\":\"rgb(133,20,75)\"},\"mode\":\"lines\",\"x\":[1265.0,1265.0,1275.0,1275.0],\"xaxis\":\"x\",\"y\":[0.0,18.226727809351868,18.226727809351868,0.0],\"yaxis\":\"y\",\"type\":\"scatter\"},{\"hoverinfo\":\"text\",\"marker\":{\"color\":\"rgb(133,20,75)\"},\"mode\":\"lines\",\"x\":[1255.0,1255.0,1270.0,1270.0],\"xaxis\":\"x\",\"y\":[0.0,19.107059819324785,19.107059819324785,18.226727809351868],\"yaxis\":\"y\",\"type\":\"scatter\"},{\"hoverinfo\":\"text\",\"marker\":{\"color\":\"rgb(133,20,75)\"},\"mode\":\"lines\",\"x\":[1245.0,1245.0,1262.5,1262.5],\"xaxis\":\"x\",\"y\":[0.0,19.837713939860336,19.837713939860336,19.107059819324785],\"yaxis\":\"y\",\"type\":\"scatter\"},{\"hoverinfo\":\"text\",\"marker\":{\"color\":\"rgb(133,20,75)\"},\"mode\":\"lines\",\"x\":[1235.0,1235.0,1253.75,1253.75],\"xaxis\":\"x\",\"y\":[0.0,20.915092838427498,20.915092838427498,19.837713939860336],\"yaxis\":\"y\",\"type\":\"scatter\"},{\"hoverinfo\":\"text\",\"marker\":{\"color\":\"rgb(133,20,75)\"},\"mode\":\"lines\",\"x\":[1295.0,1295.0,1305.0,1305.0],\"xaxis\":\"x\",\"y\":[0.0,21.23155779584827,21.23155779584827,0.0],\"yaxis\":\"y\",\"type\":\"scatter\"},{\"hoverinfo\":\"text\",\"marker\":{\"color\":\"rgb(133,20,75)\"},\"mode\":\"lines\",\"x\":[1285.0,1285.0,1300.0,1300.0],\"xaxis\":\"x\",\"y\":[0.0,21.970675178372264,21.970675178372264,21.23155779584827],\"yaxis\":\"y\",\"type\":\"scatter\"},{\"hoverinfo\":\"text\",\"marker\":{\"color\":\"rgb(133,20,75)\"},\"mode\":\"lines\",\"x\":[1335.0,1335.0,1345.0,1345.0],\"xaxis\":\"x\",\"y\":[0.0,17.948256078012516,17.948256078012516,0.0],\"yaxis\":\"y\",\"type\":\"scatter\"},{\"hoverinfo\":\"text\",\"marker\":{\"color\":\"rgb(133,20,75)\"},\"mode\":\"lines\",\"x\":[1375.0,1375.0,1385.0,1385.0],\"xaxis\":\"x\",\"y\":[0.0,19.301839011691065,19.301839011691065,0.0],\"yaxis\":\"y\",\"type\":\"scatter\"},{\"hoverinfo\":\"text\",\"marker\":{\"color\":\"rgb(133,20,75)\"},\"mode\":\"lines\",\"x\":[1365.0,1365.0,1380.0,1380.0],\"xaxis\":\"x\",\"y\":[0.0,20.295882347722863,20.295882347722863,19.301839011691065],\"yaxis\":\"y\",\"type\":\"scatter\"},{\"hoverinfo\":\"text\",\"marker\":{\"color\":\"rgb(133,20,75)\"},\"mode\":\"lines\",\"x\":[1355.0,1355.0,1372.5,1372.5],\"xaxis\":\"x\",\"y\":[0.0,21.28764977283868,21.28764977283868,20.295882347722863],\"yaxis\":\"y\",\"type\":\"scatter\"},{\"hoverinfo\":\"text\",\"marker\":{\"color\":\"rgb(133,20,75)\"},\"mode\":\"lines\",\"x\":[1340.0,1340.0,1363.75,1363.75],\"xaxis\":\"x\",\"y\":[17.948256078012516,21.65116471528359,21.65116471528359,21.28764977283868],\"yaxis\":\"y\",\"type\":\"scatter\"},{\"hoverinfo\":\"text\",\"marker\":{\"color\":\"rgb(133,20,75)\"},\"mode\":\"lines\",\"x\":[1325.0,1325.0,1351.875,1351.875],\"xaxis\":\"x\",\"y\":[0.0,22.953841867144778,22.953841867144778,21.65116471528359],\"yaxis\":\"y\",\"type\":\"scatter\"},{\"hoverinfo\":\"text\",\"marker\":{\"color\":\"rgb(133,20,75)\"},\"mode\":\"lines\",\"x\":[1315.0,1315.0,1338.4375,1338.4375],\"xaxis\":\"x\",\"y\":[0.0,23.18334605667919,23.18334605667919,22.953841867144778],\"yaxis\":\"y\",\"type\":\"scatter\"},{\"hoverinfo\":\"text\",\"marker\":{\"color\":\"rgb(133,20,75)\"},\"mode\":\"lines\",\"x\":[1292.5,1292.5,1326.71875,1326.71875],\"xaxis\":\"x\",\"y\":[21.970675178372264,24.17816959058329,24.17816959058329,23.18334605667919],\"yaxis\":\"y\",\"type\":\"scatter\"},{\"hoverinfo\":\"text\",\"marker\":{\"color\":\"rgb(133,20,75)\"},\"mode\":\"lines\",\"x\":[1244.375,1244.375,1309.609375,1309.609375],\"xaxis\":\"x\",\"y\":[20.915092838427498,24.921323447283868,24.921323447283868,24.17816959058329],\"yaxis\":\"y\",\"type\":\"scatter\"},{\"hoverinfo\":\"text\",\"marker\":{\"color\":\"rgb(133,20,75)\"},\"mode\":\"lines\",\"x\":[1194.375,1194.375,1276.9921875,1276.9921875],\"xaxis\":\"x\",\"y\":[24.44321601792701,25.28715812042768,25.28715812042768,24.921323447283868],\"yaxis\":\"y\",\"type\":\"scatter\"},{\"hoverinfo\":\"text\",\"marker\":{\"color\":\"rgb(133,20,75)\"},\"mode\":\"lines\",\"x\":[1108.125,1108.125,1235.68359375,1235.68359375],\"xaxis\":\"x\",\"y\":[24.060530273411004,26.410441028565742,26.410441028565742,25.28715812042768],\"yaxis\":\"y\",\"type\":\"scatter\"},{\"hoverinfo\":\"text\",\"marker\":{\"color\":\"rgb(133,20,75)\"},\"mode\":\"lines\",\"x\":[1032.1875,1032.1875,1171.904296875,1171.904296875],\"xaxis\":\"x\",\"y\":[25.76242657045583,27.5019846828958,27.5019846828958,26.410441028565742],\"yaxis\":\"y\",\"type\":\"scatter\"},{\"hoverinfo\":\"text\",\"marker\":{\"color\":\"rgb(133,20,75)\"},\"mode\":\"lines\",\"x\":[972.5,972.5,1102.0458984375,1102.0458984375],\"xaxis\":\"x\",\"y\":[26.145374037436355,27.98860626569091,27.98860626569091,27.5019846828958],\"yaxis\":\"y\",\"type\":\"scatter\"},{\"hoverinfo\":\"text\",\"marker\":{\"color\":\"rgb(133,20,75)\"},\"mode\":\"lines\",\"x\":[955.0,955.0,1037.27294921875,1037.27294921875],\"xaxis\":\"x\",\"y\":[0.0,28.431021103553107,28.431021103553107,27.98860626569091],\"yaxis\":\"y\",\"type\":\"scatter\"},{\"hoverinfo\":\"text\",\"marker\":{\"color\":\"rgb(133,20,75)\"},\"mode\":\"lines\",\"x\":[932.5,932.5,996.136474609375,996.136474609375],\"xaxis\":\"x\",\"y\":[26.640587321023517,28.715358481786595,28.715358481786595,28.431021103553107],\"yaxis\":\"y\",\"type\":\"scatter\"},{\"hoverinfo\":\"text\",\"marker\":{\"color\":\"rgb(133,20,75)\"},\"mode\":\"lines\",\"x\":[855.3125,855.3125,964.3182373046875,964.3182373046875],\"xaxis\":\"x\",\"y\":[27.87157606689172,29.288858757771294,29.288858757771294,28.715358481786595],\"yaxis\":\"y\",\"type\":\"scatter\"},{\"hoverinfo\":\"text\",\"marker\":{\"color\":\"rgb(133,20,75)\"},\"mode\":\"lines\",\"x\":[1395.0,1395.0,1405.0,1405.0],\"xaxis\":\"x\",\"y\":[0.0,21.464857887441653,21.464857887441653,0.0],\"yaxis\":\"y\",\"type\":\"scatter\"},{\"hoverinfo\":\"text\",\"marker\":{\"color\":\"rgb(133,20,75)\"},\"mode\":\"lines\",\"x\":[1415.0,1415.0,1425.0,1425.0],\"xaxis\":\"x\",\"y\":[0.0,20.930422478242438,20.930422478242438,0.0],\"yaxis\":\"y\",\"type\":\"scatter\"},{\"hoverinfo\":\"text\",\"marker\":{\"color\":\"rgb(133,20,75)\"},\"mode\":\"lines\",\"x\":[1435.0,1435.0,1445.0,1445.0],\"xaxis\":\"x\",\"y\":[0.0,23.234804743862966,23.234804743862966,0.0],\"yaxis\":\"y\",\"type\":\"scatter\"},{\"hoverinfo\":\"text\",\"marker\":{\"color\":\"rgb(133,20,75)\"},\"mode\":\"lines\",\"x\":[1420.0,1420.0,1440.0,1440.0],\"xaxis\":\"x\",\"y\":[20.930422478242438,25.670616948659735,25.670616948659735,23.234804743862966],\"yaxis\":\"y\",\"type\":\"scatter\"},{\"hoverinfo\":\"text\",\"marker\":{\"color\":\"rgb(133,20,75)\"},\"mode\":\"lines\",\"x\":[1475.0,1475.0,1485.0,1485.0],\"xaxis\":\"x\",\"y\":[0.0,22.833427580400425,22.833427580400425,0.0],\"yaxis\":\"y\",\"type\":\"scatter\"},{\"hoverinfo\":\"text\",\"marker\":{\"color\":\"rgb(133,20,75)\"},\"mode\":\"lines\",\"x\":[1465.0,1465.0,1480.0,1480.0],\"xaxis\":\"x\",\"y\":[0.0,24.905828842780043,24.905828842780043,22.833427580400425],\"yaxis\":\"y\",\"type\":\"scatter\"},{\"hoverinfo\":\"text\",\"marker\":{\"color\":\"rgb(133,20,75)\"},\"mode\":\"lines\",\"x\":[1455.0,1455.0,1472.5,1472.5],\"xaxis\":\"x\",\"y\":[0.0,26.958627739351005,26.958627739351005,24.905828842780043],\"yaxis\":\"y\",\"type\":\"scatter\"},{\"hoverinfo\":\"text\",\"marker\":{\"color\":\"rgb(133,20,75)\"},\"mode\":\"lines\",\"x\":[1430.0,1430.0,1463.75,1463.75],\"xaxis\":\"x\",\"y\":[25.670616948659735,27.843484311685415,27.843484311685415,26.958627739351005],\"yaxis\":\"y\",\"type\":\"scatter\"},{\"hoverinfo\":\"text\",\"marker\":{\"color\":\"rgb(133,20,75)\"},\"mode\":\"lines\",\"x\":[1400.0,1400.0,1446.875,1446.875],\"xaxis\":\"x\",\"y\":[21.464857887441653,29.76560549197675,29.76560549197675,27.843484311685415],\"yaxis\":\"y\",\"type\":\"scatter\"},{\"hoverinfo\":\"text\",\"marker\":{\"color\":\"rgb(133,20,75)\"},\"mode\":\"lines\",\"x\":[909.8153686523438,909.8153686523438,1423.4375,1423.4375],\"xaxis\":\"x\",\"y\":[29.288858757771294,29.838943783949528,29.838943783949528,29.76560549197675],\"yaxis\":\"y\",\"type\":\"scatter\"},{\"hoverinfo\":\"text\",\"marker\":{\"color\":\"rgb(133,20,75)\"},\"mode\":\"lines\",\"x\":[810.0,810.0,1166.6264343261719,1166.6264343261719],\"xaxis\":\"x\",\"y\":[26.20947081465058,31.001521054101307,31.001521054101307,29.838943783949528],\"yaxis\":\"y\",\"type\":\"scatter\"},{\"hoverinfo\":\"text\",\"marker\":{\"color\":\"rgb(133,20,75)\"},\"mode\":\"lines\",\"x\":[1505.0,1505.0,1515.0,1515.0],\"xaxis\":\"x\",\"y\":[0.0,25.97593502780253,25.97593502780253,0.0],\"yaxis\":\"y\",\"type\":\"scatter\"},{\"hoverinfo\":\"text\",\"marker\":{\"color\":\"rgb(133,20,75)\"},\"mode\":\"lines\",\"x\":[1495.0,1495.0,1510.0,1510.0],\"xaxis\":\"x\",\"y\":[0.0,26.807631966716173,26.807631966716173,25.97593502780253],\"yaxis\":\"y\",\"type\":\"scatter\"},{\"hoverinfo\":\"text\",\"marker\":{\"color\":\"rgb(133,20,75)\"},\"mode\":\"lines\",\"x\":[1545.0,1545.0,1555.0,1555.0],\"xaxis\":\"x\",\"y\":[0.0,22.436638084035803,22.436638084035803,0.0],\"yaxis\":\"y\",\"type\":\"scatter\"},{\"hoverinfo\":\"text\",\"marker\":{\"color\":\"rgb(133,20,75)\"},\"mode\":\"lines\",\"x\":[1535.0,1535.0,1550.0,1550.0],\"xaxis\":\"x\",\"y\":[0.0,23.756084025902528,23.756084025902528,22.436638084035803],\"yaxis\":\"y\",\"type\":\"scatter\"},{\"hoverinfo\":\"text\",\"marker\":{\"color\":\"rgb(133,20,75)\"},\"mode\":\"lines\",\"x\":[1525.0,1525.0,1542.5,1542.5],\"xaxis\":\"x\",\"y\":[0.0,28.43202954194529,28.43202954194529,23.756084025902528],\"yaxis\":\"y\",\"type\":\"scatter\"},{\"hoverinfo\":\"text\",\"marker\":{\"color\":\"rgb(133,20,75)\"},\"mode\":\"lines\",\"x\":[1585.0,1585.0,1595.0,1595.0],\"xaxis\":\"x\",\"y\":[0.0,26.006158037547927,26.006158037547927,0.0],\"yaxis\":\"y\",\"type\":\"scatter\"},{\"hoverinfo\":\"text\",\"marker\":{\"color\":\"rgb(133,20,75)\"},\"mode\":\"lines\",\"x\":[1575.0,1575.0,1590.0,1590.0],\"xaxis\":\"x\",\"y\":[0.0,26.877056000042984,26.877056000042984,26.006158037547927],\"yaxis\":\"y\",\"type\":\"scatter\"},{\"hoverinfo\":\"text\",\"marker\":{\"color\":\"rgb(133,20,75)\"},\"mode\":\"lines\",\"x\":[1565.0,1565.0,1582.5,1582.5],\"xaxis\":\"x\",\"y\":[0.0,28.625922997156795,28.625922997156795,26.877056000042984],\"yaxis\":\"y\",\"type\":\"scatter\"},{\"hoverinfo\":\"text\",\"marker\":{\"color\":\"rgb(133,20,75)\"},\"mode\":\"lines\",\"x\":[1533.75,1533.75,1573.75,1573.75],\"xaxis\":\"x\",\"y\":[28.43202954194529,30.618386205649834,30.618386205649834,28.625922997156795],\"yaxis\":\"y\",\"type\":\"scatter\"},{\"hoverinfo\":\"text\",\"marker\":{\"color\":\"rgb(133,20,75)\"},\"mode\":\"lines\",\"x\":[1502.5,1502.5,1553.75,1553.75],\"xaxis\":\"x\",\"y\":[26.807631966716173,31.52928077064314,31.52928077064314,30.618386205649834],\"yaxis\":\"y\",\"type\":\"scatter\"},{\"hoverinfo\":\"text\",\"marker\":{\"color\":\"rgb(133,20,75)\"},\"mode\":\"lines\",\"x\":[988.3132171630859,988.3132171630859,1528.125,1528.125],\"xaxis\":\"x\",\"y\":[31.001521054101307,31.88904392179789,31.88904392179789,31.52928077064314],\"yaxis\":\"y\",\"type\":\"scatter\"},{\"hoverinfo\":\"text\",\"marker\":{\"color\":\"rgb(133,20,75)\"},\"mode\":\"lines\",\"x\":[752.5,752.5,1258.219108581543,1258.219108581543],\"xaxis\":\"x\",\"y\":[30.840236767620567,32.24317118668952,32.24317118668952,31.88904392179789],\"yaxis\":\"y\",\"type\":\"scatter\"},{\"hoverinfo\":\"text\",\"marker\":{\"color\":\"rgb(133,20,75)\"},\"mode\":\"lines\",\"x\":[671.875,671.875,1005.3595542907715,1005.3595542907715],\"xaxis\":\"x\",\"y\":[30.585867829347876,32.73568645344133,32.73568645344133,32.24317118668952],\"yaxis\":\"y\",\"type\":\"scatter\"},{\"hoverinfo\":\"text\",\"marker\":{\"color\":\"rgb(133,20,75)\"},\"mode\":\"lines\",\"x\":[1615.0,1615.0,1625.0,1625.0],\"xaxis\":\"x\",\"y\":[0.0,22.81722852253258,22.81722852253258,0.0],\"yaxis\":\"y\",\"type\":\"scatter\"},{\"hoverinfo\":\"text\",\"marker\":{\"color\":\"rgb(133,20,75)\"},\"mode\":\"lines\",\"x\":[1605.0,1605.0,1620.0,1620.0],\"xaxis\":\"x\",\"y\":[0.0,25.234035228229402,25.234035228229402,22.81722852253258],\"yaxis\":\"y\",\"type\":\"scatter\"},{\"hoverinfo\":\"text\",\"marker\":{\"color\":\"rgb(133,20,75)\"},\"mode\":\"lines\",\"x\":[1655.0,1655.0,1665.0,1665.0],\"xaxis\":\"x\",\"y\":[0.0,22.29950417989083,22.29950417989083,0.0],\"yaxis\":\"y\",\"type\":\"scatter\"},{\"hoverinfo\":\"text\",\"marker\":{\"color\":\"rgb(133,20,75)\"},\"mode\":\"lines\",\"x\":[1675.0,1675.0,1685.0,1685.0],\"xaxis\":\"x\",\"y\":[0.0,24.188580756862308,24.188580756862308,0.0],\"yaxis\":\"y\",\"type\":\"scatter\"},{\"hoverinfo\":\"text\",\"marker\":{\"color\":\"rgb(133,20,75)\"},\"mode\":\"lines\",\"x\":[1660.0,1660.0,1680.0,1680.0],\"xaxis\":\"x\",\"y\":[22.29950417989083,27.153360398086612,27.153360398086612,24.188580756862308],\"yaxis\":\"y\",\"type\":\"scatter\"},{\"hoverinfo\":\"text\",\"marker\":{\"color\":\"rgb(133,20,75)\"},\"mode\":\"lines\",\"x\":[1645.0,1645.0,1670.0,1670.0],\"xaxis\":\"x\",\"y\":[0.0,28.003147496482516,28.003147496482516,27.153360398086612],\"yaxis\":\"y\",\"type\":\"scatter\"},{\"hoverinfo\":\"text\",\"marker\":{\"color\":\"rgb(133,20,75)\"},\"mode\":\"lines\",\"x\":[1635.0,1635.0,1657.5,1657.5],\"xaxis\":\"x\",\"y\":[0.0,31.414219554286298,31.414219554286298,28.003147496482516],\"yaxis\":\"y\",\"type\":\"scatter\"},{\"hoverinfo\":\"text\",\"marker\":{\"color\":\"rgb(133,20,75)\"},\"mode\":\"lines\",\"x\":[1612.5,1612.5,1646.25,1646.25],\"xaxis\":\"x\",\"y\":[25.234035228229402,32.00350277256634,32.00350277256634,31.414219554286298],\"yaxis\":\"y\",\"type\":\"scatter\"},{\"hoverinfo\":\"text\",\"marker\":{\"color\":\"rgb(133,20,75)\"},\"mode\":\"lines\",\"x\":[1715.0,1715.0,1725.0,1725.0],\"xaxis\":\"x\",\"y\":[0.0,24.077211423111986,24.077211423111986,0.0],\"yaxis\":\"y\",\"type\":\"scatter\"},{\"hoverinfo\":\"text\",\"marker\":{\"color\":\"rgb(133,20,75)\"},\"mode\":\"lines\",\"x\":[1705.0,1705.0,1720.0,1720.0],\"xaxis\":\"x\",\"y\":[0.0,28.602910493066307,28.602910493066307,24.077211423111986],\"yaxis\":\"y\",\"type\":\"scatter\"},{\"hoverinfo\":\"text\",\"marker\":{\"color\":\"rgb(133,20,75)\"},\"mode\":\"lines\",\"x\":[1695.0,1695.0,1712.5,1712.5],\"xaxis\":\"x\",\"y\":[0.0,30.929760648983567,30.929760648983567,28.602910493066307],\"yaxis\":\"y\",\"type\":\"scatter\"},{\"hoverinfo\":\"text\",\"marker\":{\"color\":\"rgb(133,20,75)\"},\"mode\":\"lines\",\"x\":[1735.0,1735.0,1745.0,1745.0],\"xaxis\":\"x\",\"y\":[0.0,24.33771548949011,24.33771548949011,0.0],\"yaxis\":\"y\",\"type\":\"scatter\"},{\"hoverinfo\":\"text\",\"marker\":{\"color\":\"rgb(133,20,75)\"},\"mode\":\"lines\",\"x\":[1755.0,1755.0,1765.0,1765.0],\"xaxis\":\"x\",\"y\":[0.0,24.928365073567857,24.928365073567857,0.0],\"yaxis\":\"y\",\"type\":\"scatter\"},{\"hoverinfo\":\"text\",\"marker\":{\"color\":\"rgb(133,20,75)\"},\"mode\":\"lines\",\"x\":[1740.0,1740.0,1760.0,1760.0],\"xaxis\":\"x\",\"y\":[24.33771548949011,28.589486300752892,28.589486300752892,24.928365073567857],\"yaxis\":\"y\",\"type\":\"scatter\"},{\"hoverinfo\":\"text\",\"marker\":{\"color\":\"rgb(133,20,75)\"},\"mode\":\"lines\",\"x\":[1785.0,1785.0,1795.0,1795.0],\"xaxis\":\"x\",\"y\":[0.0,23.109582011798135,23.109582011798135,0.0],\"yaxis\":\"y\",\"type\":\"scatter\"},{\"hoverinfo\":\"text\",\"marker\":{\"color\":\"rgb(133,20,75)\"},\"mode\":\"lines\",\"x\":[1775.0,1775.0,1790.0,1790.0],\"xaxis\":\"x\",\"y\":[0.0,24.02951649855768,24.02951649855768,23.109582011798135],\"yaxis\":\"y\",\"type\":\"scatter\"},{\"hoverinfo\":\"text\",\"marker\":{\"color\":\"rgb(133,20,75)\"},\"mode\":\"lines\",\"x\":[1815.0,1815.0,1825.0,1825.0],\"xaxis\":\"x\",\"y\":[0.0,26.19096109509309,26.19096109509309,0.0],\"yaxis\":\"y\",\"type\":\"scatter\"},{\"hoverinfo\":\"text\",\"marker\":{\"color\":\"rgb(133,20,75)\"},\"mode\":\"lines\",\"x\":[1805.0,1805.0,1820.0,1820.0],\"xaxis\":\"x\",\"y\":[0.0,27.37968853979028,27.37968853979028,26.19096109509309],\"yaxis\":\"y\",\"type\":\"scatter\"},{\"hoverinfo\":\"text\",\"marker\":{\"color\":\"rgb(133,20,75)\"},\"mode\":\"lines\",\"x\":[1782.5,1782.5,1812.5,1812.5],\"xaxis\":\"x\",\"y\":[24.02951649855768,29.411043431382996,29.411043431382996,27.37968853979028],\"yaxis\":\"y\",\"type\":\"scatter\"},{\"hoverinfo\":\"text\",\"marker\":{\"color\":\"rgb(133,20,75)\"},\"mode\":\"lines\",\"x\":[1750.0,1750.0,1797.5,1797.5],\"xaxis\":\"x\",\"y\":[28.589486300752892,31.15988444678874,31.15988444678874,29.411043431382996],\"yaxis\":\"y\",\"type\":\"scatter\"},{\"hoverinfo\":\"text\",\"marker\":{\"color\":\"rgb(133,20,75)\"},\"mode\":\"lines\",\"x\":[1703.75,1703.75,1773.75,1773.75],\"xaxis\":\"x\",\"y\":[30.929760648983567,32.762370936582094,32.762370936582094,31.15988444678874],\"yaxis\":\"y\",\"type\":\"scatter\"},{\"hoverinfo\":\"text\",\"marker\":{\"color\":\"rgb(133,20,75)\"},\"mode\":\"lines\",\"x\":[1629.375,1629.375,1738.75,1738.75],\"xaxis\":\"x\",\"y\":[32.00350277256634,32.94257546430463,32.94257546430463,32.762370936582094],\"yaxis\":\"y\",\"type\":\"scatter\"},{\"hoverinfo\":\"text\",\"marker\":{\"color\":\"rgb(133,20,75)\"},\"mode\":\"lines\",\"x\":[838.6172771453857,838.6172771453857,1684.0625,1684.0625],\"xaxis\":\"x\",\"y\":[32.73568645344133,34.4256938005603,34.4256938005603,32.94257546430463],\"yaxis\":\"y\",\"type\":\"scatter\"},{\"hoverinfo\":\"text\",\"marker\":{\"color\":\"rgb(133,20,75)\"},\"mode\":\"lines\",\"x\":[632.5,632.5,1261.3398885726929,1261.3398885726929],\"xaxis\":\"x\",\"y\":[32.4730302985335,34.85969008658965,34.85969008658965,34.4256938005603],\"yaxis\":\"y\",\"type\":\"scatter\"},{\"hoverinfo\":\"text\",\"marker\":{\"color\":\"rgb(133,20,75)\"},\"mode\":\"lines\",\"x\":[615.0,615.0,946.9199442863464,946.9199442863464],\"xaxis\":\"x\",\"y\":[0.0,35.944518865936374,35.944518865936374,34.85969008658965],\"yaxis\":\"y\",\"type\":\"scatter\"},{\"hoverinfo\":\"text\",\"marker\":{\"color\":\"rgb(133,20,75)\"},\"mode\":\"lines\",\"x\":[1845.0,1845.0,1855.0,1855.0],\"xaxis\":\"x\",\"y\":[0.0,29.784895665965397,29.784895665965397,0.0],\"yaxis\":\"y\",\"type\":\"scatter\"},{\"hoverinfo\":\"text\",\"marker\":{\"color\":\"rgb(133,20,75)\"},\"mode\":\"lines\",\"x\":[1875.0,1875.0,1885.0,1885.0],\"xaxis\":\"x\",\"y\":[0.0,27.621159489774428,27.621159489774428,0.0],\"yaxis\":\"y\",\"type\":\"scatter\"},{\"hoverinfo\":\"text\",\"marker\":{\"color\":\"rgb(133,20,75)\"},\"mode\":\"lines\",\"x\":[1865.0,1865.0,1880.0,1880.0],\"xaxis\":\"x\",\"y\":[0.0,31.08636736522835,31.08636736522835,27.621159489774428],\"yaxis\":\"y\",\"type\":\"scatter\"},{\"hoverinfo\":\"text\",\"marker\":{\"color\":\"rgb(133,20,75)\"},\"mode\":\"lines\",\"x\":[1895.0,1895.0,1905.0,1905.0],\"xaxis\":\"x\",\"y\":[0.0,28.334873600367526,28.334873600367526,0.0],\"yaxis\":\"y\",\"type\":\"scatter\"},{\"hoverinfo\":\"text\",\"marker\":{\"color\":\"rgb(133,20,75)\"},\"mode\":\"lines\",\"x\":[1915.0,1915.0,1925.0,1925.0],\"xaxis\":\"x\",\"y\":[0.0,28.547460606850784,28.547460606850784,0.0],\"yaxis\":\"y\",\"type\":\"scatter\"},{\"hoverinfo\":\"text\",\"marker\":{\"color\":\"rgb(133,20,75)\"},\"mode\":\"lines\",\"x\":[1900.0,1900.0,1920.0,1920.0],\"xaxis\":\"x\",\"y\":[28.334873600367526,32.85213534440199,32.85213534440199,28.547460606850784],\"yaxis\":\"y\",\"type\":\"scatter\"},{\"hoverinfo\":\"text\",\"marker\":{\"color\":\"rgb(133,20,75)\"},\"mode\":\"lines\",\"x\":[1872.5,1872.5,1910.0,1910.0],\"xaxis\":\"x\",\"y\":[31.08636736522835,34.86649504863274,34.86649504863274,32.85213534440199],\"yaxis\":\"y\",\"type\":\"scatter\"},{\"hoverinfo\":\"text\",\"marker\":{\"color\":\"rgb(133,20,75)\"},\"mode\":\"lines\",\"x\":[1850.0,1850.0,1891.25,1891.25],\"xaxis\":\"x\",\"y\":[29.784895665965397,36.27240969336598,36.27240969336598,34.86649504863274],\"yaxis\":\"y\",\"type\":\"scatter\"},{\"hoverinfo\":\"text\",\"marker\":{\"color\":\"rgb(133,20,75)\"},\"mode\":\"lines\",\"x\":[1835.0,1835.0,1870.625,1870.625],\"xaxis\":\"x\",\"y\":[0.0,37.02356503379741,37.02356503379741,36.27240969336598],\"yaxis\":\"y\",\"type\":\"scatter\"},{\"hoverinfo\":\"text\",\"marker\":{\"color\":\"rgb(133,20,75)\"},\"mode\":\"lines\",\"x\":[780.9599721431732,780.9599721431732,1852.8125,1852.8125],\"xaxis\":\"x\",\"y\":[35.944518865936374,39.23081951283793,39.23081951283793,37.02356503379741],\"yaxis\":\"y\",\"type\":\"scatter\"},{\"hoverinfo\":\"text\",\"marker\":{\"color\":\"rgb(133,20,75)\"},\"mode\":\"lines\",\"x\":[1935.0,1935.0,1945.0,1945.0],\"xaxis\":\"x\",\"y\":[0.0,35.37630951565386,35.37630951565386,0.0],\"yaxis\":\"y\",\"type\":\"scatter\"},{\"hoverinfo\":\"text\",\"marker\":{\"color\":\"rgb(133,20,75)\"},\"mode\":\"lines\",\"x\":[1955.0,1955.0,1965.0,1965.0],\"xaxis\":\"x\",\"y\":[0.0,28.85921129700297,28.85921129700297,0.0],\"yaxis\":\"y\",\"type\":\"scatter\"},{\"hoverinfo\":\"text\",\"marker\":{\"color\":\"rgb(133,20,75)\"},\"mode\":\"lines\",\"x\":[1975.0,1975.0,1985.0,1985.0],\"xaxis\":\"x\",\"y\":[0.0,30.24234605475177,30.24234605475177,0.0],\"yaxis\":\"y\",\"type\":\"scatter\"},{\"hoverinfo\":\"text\",\"marker\":{\"color\":\"rgb(133,20,75)\"},\"mode\":\"lines\",\"x\":[1960.0,1960.0,1980.0,1980.0],\"xaxis\":\"x\",\"y\":[28.85921129700297,32.44955654604642,32.44955654604642,30.24234605475177],\"yaxis\":\"y\",\"type\":\"scatter\"},{\"hoverinfo\":\"text\",\"marker\":{\"color\":\"rgb(133,20,75)\"},\"mode\":\"lines\",\"x\":[2005.0,2005.0,2015.0,2015.0],\"xaxis\":\"x\",\"y\":[0.0,28.45252041846376,28.45252041846376,0.0],\"yaxis\":\"y\",\"type\":\"scatter\"},{\"hoverinfo\":\"text\",\"marker\":{\"color\":\"rgb(133,20,75)\"},\"mode\":\"lines\",\"x\":[1995.0,1995.0,2010.0,2010.0],\"xaxis\":\"x\",\"y\":[0.0,31.26741424339921,31.26741424339921,28.45252041846376],\"yaxis\":\"y\",\"type\":\"scatter\"},{\"hoverinfo\":\"text\",\"marker\":{\"color\":\"rgb(133,20,75)\"},\"mode\":\"lines\",\"x\":[2035.0,2035.0,2045.0,2045.0],\"xaxis\":\"x\",\"y\":[0.0,30.014248999401563,30.014248999401563,0.0],\"yaxis\":\"y\",\"type\":\"scatter\"},{\"hoverinfo\":\"text\",\"marker\":{\"color\":\"rgb(133,20,75)\"},\"mode\":\"lines\",\"x\":[2025.0,2025.0,2040.0,2040.0],\"xaxis\":\"x\",\"y\":[0.0,32.530478010151306,32.530478010151306,30.014248999401563],\"yaxis\":\"y\",\"type\":\"scatter\"},{\"hoverinfo\":\"text\",\"marker\":{\"color\":\"rgb(133,20,75)\"},\"mode\":\"lines\",\"x\":[2002.5,2002.5,2032.5,2032.5],\"xaxis\":\"x\",\"y\":[31.26741424339921,32.99994455318439,32.99994455318439,32.530478010151306],\"yaxis\":\"y\",\"type\":\"scatter\"},{\"hoverinfo\":\"text\",\"marker\":{\"color\":\"rgb(133,20,75)\"},\"mode\":\"lines\",\"x\":[1970.0,1970.0,2017.5,2017.5],\"xaxis\":\"x\",\"y\":[32.44955654604642,35.199813165188104,35.199813165188104,32.99994455318439],\"yaxis\":\"y\",\"type\":\"scatter\"},{\"hoverinfo\":\"text\",\"marker\":{\"color\":\"rgb(133,20,75)\"},\"mode\":\"lines\",\"x\":[2055.0,2055.0,2065.0,2065.0],\"xaxis\":\"x\",\"y\":[0.0,31.851541629391093,31.851541629391093,0.0],\"yaxis\":\"y\",\"type\":\"scatter\"},{\"hoverinfo\":\"text\",\"marker\":{\"color\":\"rgb(133,20,75)\"},\"mode\":\"lines\",\"x\":[2085.0,2085.0,2095.0,2095.0],\"xaxis\":\"x\",\"y\":[0.0,26.561441161391574,26.561441161391574,0.0],\"yaxis\":\"y\",\"type\":\"scatter\"},{\"hoverinfo\":\"text\",\"marker\":{\"color\":\"rgb(133,20,75)\"},\"mode\":\"lines\",\"x\":[2075.0,2075.0,2090.0,2090.0],\"xaxis\":\"x\",\"y\":[0.0,31.959277727933383,31.959277727933383,26.561441161391574],\"yaxis\":\"y\",\"type\":\"scatter\"},{\"hoverinfo\":\"text\",\"marker\":{\"color\":\"rgb(133,20,75)\"},\"mode\":\"lines\",\"x\":[2105.0,2105.0,2115.0,2115.0],\"xaxis\":\"x\",\"y\":[0.0,26.49036252785957,26.49036252785957,0.0],\"yaxis\":\"y\",\"type\":\"scatter\"},{\"hoverinfo\":\"text\",\"marker\":{\"color\":\"rgb(133,20,75)\"},\"mode\":\"lines\",\"x\":[2125.0,2125.0,2135.0,2135.0],\"xaxis\":\"x\",\"y\":[0.0,33.69874289808587,33.69874289808587,0.0],\"yaxis\":\"y\",\"type\":\"scatter\"},{\"hoverinfo\":\"text\",\"marker\":{\"color\":\"rgb(133,20,75)\"},\"mode\":\"lines\",\"x\":[2110.0,2110.0,2130.0,2130.0],\"xaxis\":\"x\",\"y\":[26.49036252785957,34.34054326929032,34.34054326929032,33.69874289808587],\"yaxis\":\"y\",\"type\":\"scatter\"},{\"hoverinfo\":\"text\",\"marker\":{\"color\":\"rgb(133,20,75)\"},\"mode\":\"lines\",\"x\":[2082.5,2082.5,2120.0,2120.0],\"xaxis\":\"x\",\"y\":[31.959277727933383,34.85451531055502,34.85451531055502,34.34054326929032],\"yaxis\":\"y\",\"type\":\"scatter\"},{\"hoverinfo\":\"text\",\"marker\":{\"color\":\"rgb(133,20,75)\"},\"mode\":\"lines\",\"x\":[2060.0,2060.0,2101.25,2101.25],\"xaxis\":\"x\",\"y\":[31.851541629391093,36.144555145942924,36.144555145942924,34.85451531055502],\"yaxis\":\"y\",\"type\":\"scatter\"},{\"hoverinfo\":\"text\",\"marker\":{\"color\":\"rgb(133,20,75)\"},\"mode\":\"lines\",\"x\":[1993.75,1993.75,2080.625,2080.625],\"xaxis\":\"x\",\"y\":[35.199813165188104,37.58834542761542,37.58834542761542,36.144555145942924],\"yaxis\":\"y\",\"type\":\"scatter\"},{\"hoverinfo\":\"text\",\"marker\":{\"color\":\"rgb(133,20,75)\"},\"mode\":\"lines\",\"x\":[1940.0,1940.0,2037.1875,2037.1875],\"xaxis\":\"x\",\"y\":[35.37630951565386,40.61047695995581,40.61047695995581,37.58834542761542],\"yaxis\":\"y\",\"type\":\"scatter\"},{\"hoverinfo\":\"text\",\"marker\":{\"color\":\"rgb(133,20,75)\"},\"mode\":\"lines\",\"x\":[2145.0,2145.0,2155.0,2155.0],\"xaxis\":\"x\",\"y\":[0.0,41.701406425804436,41.701406425804436,0.0],\"yaxis\":\"y\",\"type\":\"scatter\"},{\"hoverinfo\":\"text\",\"marker\":{\"color\":\"rgb(133,20,75)\"},\"mode\":\"lines\",\"x\":[1988.59375,1988.59375,2150.0,2150.0],\"xaxis\":\"x\",\"y\":[40.61047695995581,46.34974977397071,46.34974977397071,41.701406425804436],\"yaxis\":\"y\",\"type\":\"scatter\"},{\"hoverinfo\":\"text\",\"marker\":{\"color\":\"rgb(133,20,75)\"},\"mode\":\"lines\",\"x\":[1316.8862360715866,1316.8862360715866,2069.296875,2069.296875],\"xaxis\":\"x\",\"y\":[39.23081951283793,51.001373642778375,51.001373642778375,46.34974977397071],\"yaxis\":\"y\",\"type\":\"scatter\"},{\"hoverinfo\":\"text\",\"marker\":{\"color\":\"rgb(0,116,217)\"},\"mode\":\"lines\",\"x\":[398.54217529296875,398.54217529296875,1693.0915555357933,1693.0915555357933],\"xaxis\":\"x\",\"y\":[34.71206147068792,72.97883218179527,72.97883218179527,51.001373642778375],\"yaxis\":\"y\",\"type\":\"scatter\"},{\"hoverinfo\":\"text\",\"marker\":{\"color\":\"rgb(0,116,217)\"},\"mode\":\"lines\",\"x\":[57.1875,57.1875,1045.816865414381,1045.816865414381],\"xaxis\":\"x\",\"y\":[58.24117052065187,84.15890897930049,84.15890897930049,72.97883218179527],\"yaxis\":\"y\",\"type\":\"scatter\"},{\"hoverinfo\":\"text\",\"marker\":{\"color\":\"rgb(0,116,217)\"},\"mode\":\"lines\",\"x\":[10.0,10.0,551.5021827071905,551.5021827071905],\"xaxis\":\"x\",\"y\":[29.039033801988804,102.90769024014944,102.90769024014944,84.15890897930049],\"yaxis\":\"y\",\"type\":\"scatter\"}],                        {\"autosize\":false,\"height\":500,\"hovermode\":\"closest\",\"showlegend\":false,\"width\":1800,\"xaxis\":{\"mirror\":\"allticks\",\"rangemode\":\"tozero\",\"showgrid\":false,\"showline\":true,\"showticklabels\":true,\"tickmode\":\"array\",\"ticks\":\"outside\",\"ticktext\":[\"98\",\"99\",\"199\",\"48\",\"95\",\"204\",\"209\",\"159\",\"169\",\"4\",\"57\",\"142\",\"104\",\"165\",\"140\",\"174\",\"18\",\"23\",\"50\",\"92\",\"21\",\"80\",\"94\",\"72\",\"5\",\"10\",\"81\",\"127\",\"25\",\"200\",\"30\",\"176\",\"44\",\"119\",\"178\",\"86\",\"157\",\"198\",\"91\",\"208\",\"66\",\"211\",\"32\",\"77\",\"122\",\"38\",\"71\",\"138\",\"116\",\"42\",\"112\",\"179\",\"24\",\"37\",\"96\",\"145\",\"68\",\"175\",\"0\",\"16\",\"146\",\"114\",\"93\",\"6\",\"186\",\"8\",\"196\",\"110\",\"141\",\"156\",\"215\",\"76\",\"143\",\"70\",\"106\",\"121\",\"195\",\"78\",\"75\",\"206\",\"3\",\"189\",\"41\",\"118\",\"184\",\"128\",\"117\",\"158\",\"52\",\"1\",\"162\",\"214\",\"125\",\"191\",\"210\",\"109\",\"61\",\"31\",\"148\",\"83\",\"180\",\"161\",\"35\",\"65\",\"28\",\"205\",\"19\",\"172\",\"160\",\"54\",\"123\",\"40\",\"88\",\"7\",\"105\",\"60\",\"102\",\"136\",\"2\",\"203\",\"100\",\"85\",\"129\",\"33\",\"11\",\"177\",\"134\",\"166\",\"213\",\"202\",\"212\",\"111\",\"147\",\"151\",\"192\",\"152\",\"153\",\"49\",\"120\",\"47\",\"59\",\"188\",\"194\",\"82\",\"133\",\"26\",\"64\",\"163\",\"182\",\"144\",\"12\",\"62\",\"89\",\"193\",\"14\",\"181\",\"46\",\"20\",\"55\",\"173\",\"154\",\"13\",\"97\",\"69\",\"34\",\"126\",\"164\",\"67\",\"130\",\"73\",\"131\",\"74\",\"124\",\"87\",\"103\",\"84\",\"201\",\"207\",\"9\",\"15\",\"113\",\"39\",\"108\",\"132\",\"51\",\"90\",\"27\",\"43\",\"187\",\"58\",\"101\",\"167\",\"171\",\"22\",\"45\",\"139\",\"190\",\"36\",\"183\",\"185\",\"63\",\"149\",\"137\",\"53\",\"197\",\"17\",\"168\",\"115\",\"135\",\"155\",\"29\",\"107\",\"56\",\"150\",\"79\",\"170\"],\"tickvals\":[5.0,15.0,25.0,35.0,45.0,55.0,65.0,75.0,85.0,95.0,105.0,115.0,125.0,135.0,145.0,155.0,165.0,175.0,185.0,195.0,205.0,215.0,225.0,235.0,245.0,255.0,265.0,275.0,285.0,295.0,305.0,315.0,325.0,335.0,345.0,355.0,365.0,375.0,385.0,395.0,405.0,415.0,425.0,435.0,445.0,455.0,465.0,475.0,485.0,495.0,505.0,515.0,525.0,535.0,545.0,555.0,565.0,575.0,585.0,595.0,605.0,615.0,625.0,635.0,645.0,655.0,665.0,675.0,685.0,695.0,705.0,715.0,725.0,735.0,745.0,755.0,765.0,775.0,785.0,795.0,805.0,815.0,825.0,835.0,845.0,855.0,865.0,875.0,885.0,895.0,905.0,915.0,925.0,935.0,945.0,955.0,965.0,975.0,985.0,995.0,1005.0,1015.0,1025.0,1035.0,1045.0,1055.0,1065.0,1075.0,1085.0,1095.0,1105.0,1115.0,1125.0,1135.0,1145.0,1155.0,1165.0,1175.0,1185.0,1195.0,1205.0,1215.0,1225.0,1235.0,1245.0,1255.0,1265.0,1275.0,1285.0,1295.0,1305.0,1315.0,1325.0,1335.0,1345.0,1355.0,1365.0,1375.0,1385.0,1395.0,1405.0,1415.0,1425.0,1435.0,1445.0,1455.0,1465.0,1475.0,1485.0,1495.0,1505.0,1515.0,1525.0,1535.0,1545.0,1555.0,1565.0,1575.0,1585.0,1595.0,1605.0,1615.0,1625.0,1635.0,1645.0,1655.0,1665.0,1675.0,1685.0,1695.0,1705.0,1715.0,1725.0,1735.0,1745.0,1755.0,1765.0,1775.0,1785.0,1795.0,1805.0,1815.0,1825.0,1835.0,1845.0,1855.0,1865.0,1875.0,1885.0,1895.0,1905.0,1915.0,1925.0,1935.0,1945.0,1955.0,1965.0,1975.0,1985.0,1995.0,2005.0,2015.0,2025.0,2035.0,2045.0,2055.0,2065.0,2075.0,2085.0,2095.0,2105.0,2115.0,2125.0,2135.0,2145.0,2155.0],\"type\":\"linear\",\"zeroline\":false},\"yaxis\":{\"mirror\":\"allticks\",\"rangemode\":\"tozero\",\"showgrid\":false,\"showline\":true,\"showticklabels\":true,\"ticks\":\"outside\",\"type\":\"linear\",\"zeroline\":false},\"template\":{\"data\":{\"histogram2dcontour\":[{\"type\":\"histogram2dcontour\",\"colorbar\":{\"outlinewidth\":0,\"ticks\":\"\"},\"colorscale\":[[0.0,\"#0d0887\"],[0.1111111111111111,\"#46039f\"],[0.2222222222222222,\"#7201a8\"],[0.3333333333333333,\"#9c179e\"],[0.4444444444444444,\"#bd3786\"],[0.5555555555555556,\"#d8576b\"],[0.6666666666666666,\"#ed7953\"],[0.7777777777777778,\"#fb9f3a\"],[0.8888888888888888,\"#fdca26\"],[1.0,\"#f0f921\"]]}],\"choropleth\":[{\"type\":\"choropleth\",\"colorbar\":{\"outlinewidth\":0,\"ticks\":\"\"}}],\"histogram2d\":[{\"type\":\"histogram2d\",\"colorbar\":{\"outlinewidth\":0,\"ticks\":\"\"},\"colorscale\":[[0.0,\"#0d0887\"],[0.1111111111111111,\"#46039f\"],[0.2222222222222222,\"#7201a8\"],[0.3333333333333333,\"#9c179e\"],[0.4444444444444444,\"#bd3786\"],[0.5555555555555556,\"#d8576b\"],[0.6666666666666666,\"#ed7953\"],[0.7777777777777778,\"#fb9f3a\"],[0.8888888888888888,\"#fdca26\"],[1.0,\"#f0f921\"]]}],\"heatmap\":[{\"type\":\"heatmap\",\"colorbar\":{\"outlinewidth\":0,\"ticks\":\"\"},\"colorscale\":[[0.0,\"#0d0887\"],[0.1111111111111111,\"#46039f\"],[0.2222222222222222,\"#7201a8\"],[0.3333333333333333,\"#9c179e\"],[0.4444444444444444,\"#bd3786\"],[0.5555555555555556,\"#d8576b\"],[0.6666666666666666,\"#ed7953\"],[0.7777777777777778,\"#fb9f3a\"],[0.8888888888888888,\"#fdca26\"],[1.0,\"#f0f921\"]]}],\"heatmapgl\":[{\"type\":\"heatmapgl\",\"colorbar\":{\"outlinewidth\":0,\"ticks\":\"\"},\"colorscale\":[[0.0,\"#0d0887\"],[0.1111111111111111,\"#46039f\"],[0.2222222222222222,\"#7201a8\"],[0.3333333333333333,\"#9c179e\"],[0.4444444444444444,\"#bd3786\"],[0.5555555555555556,\"#d8576b\"],[0.6666666666666666,\"#ed7953\"],[0.7777777777777778,\"#fb9f3a\"],[0.8888888888888888,\"#fdca26\"],[1.0,\"#f0f921\"]]}],\"contourcarpet\":[{\"type\":\"contourcarpet\",\"colorbar\":{\"outlinewidth\":0,\"ticks\":\"\"}}],\"contour\":[{\"type\":\"contour\",\"colorbar\":{\"outlinewidth\":0,\"ticks\":\"\"},\"colorscale\":[[0.0,\"#0d0887\"],[0.1111111111111111,\"#46039f\"],[0.2222222222222222,\"#7201a8\"],[0.3333333333333333,\"#9c179e\"],[0.4444444444444444,\"#bd3786\"],[0.5555555555555556,\"#d8576b\"],[0.6666666666666666,\"#ed7953\"],[0.7777777777777778,\"#fb9f3a\"],[0.8888888888888888,\"#fdca26\"],[1.0,\"#f0f921\"]]}],\"surface\":[{\"type\":\"surface\",\"colorbar\":{\"outlinewidth\":0,\"ticks\":\"\"},\"colorscale\":[[0.0,\"#0d0887\"],[0.1111111111111111,\"#46039f\"],[0.2222222222222222,\"#7201a8\"],[0.3333333333333333,\"#9c179e\"],[0.4444444444444444,\"#bd3786\"],[0.5555555555555556,\"#d8576b\"],[0.6666666666666666,\"#ed7953\"],[0.7777777777777778,\"#fb9f3a\"],[0.8888888888888888,\"#fdca26\"],[1.0,\"#f0f921\"]]}],\"mesh3d\":[{\"type\":\"mesh3d\",\"colorbar\":{\"outlinewidth\":0,\"ticks\":\"\"}}],\"scatter\":[{\"fillpattern\":{\"fillmode\":\"overlay\",\"size\":10,\"solidity\":0.2},\"type\":\"scatter\"}],\"parcoords\":[{\"type\":\"parcoords\",\"line\":{\"colorbar\":{\"outlinewidth\":0,\"ticks\":\"\"}}}],\"scatterpolargl\":[{\"type\":\"scatterpolargl\",\"marker\":{\"colorbar\":{\"outlinewidth\":0,\"ticks\":\"\"}}}],\"bar\":[{\"error_x\":{\"color\":\"#2a3f5f\"},\"error_y\":{\"color\":\"#2a3f5f\"},\"marker\":{\"line\":{\"color\":\"#E5ECF6\",\"width\":0.5},\"pattern\":{\"fillmode\":\"overlay\",\"size\":10,\"solidity\":0.2}},\"type\":\"bar\"}],\"scattergeo\":[{\"type\":\"scattergeo\",\"marker\":{\"colorbar\":{\"outlinewidth\":0,\"ticks\":\"\"}}}],\"scatterpolar\":[{\"type\":\"scatterpolar\",\"marker\":{\"colorbar\":{\"outlinewidth\":0,\"ticks\":\"\"}}}],\"histogram\":[{\"marker\":{\"pattern\":{\"fillmode\":\"overlay\",\"size\":10,\"solidity\":0.2}},\"type\":\"histogram\"}],\"scattergl\":[{\"type\":\"scattergl\",\"marker\":{\"colorbar\":{\"outlinewidth\":0,\"ticks\":\"\"}}}],\"scatter3d\":[{\"type\":\"scatter3d\",\"line\":{\"colorbar\":{\"outlinewidth\":0,\"ticks\":\"\"}},\"marker\":{\"colorbar\":{\"outlinewidth\":0,\"ticks\":\"\"}}}],\"scattermapbox\":[{\"type\":\"scattermapbox\",\"marker\":{\"colorbar\":{\"outlinewidth\":0,\"ticks\":\"\"}}}],\"scatterternary\":[{\"type\":\"scatterternary\",\"marker\":{\"colorbar\":{\"outlinewidth\":0,\"ticks\":\"\"}}}],\"scattercarpet\":[{\"type\":\"scattercarpet\",\"marker\":{\"colorbar\":{\"outlinewidth\":0,\"ticks\":\"\"}}}],\"carpet\":[{\"aaxis\":{\"endlinecolor\":\"#2a3f5f\",\"gridcolor\":\"white\",\"linecolor\":\"white\",\"minorgridcolor\":\"white\",\"startlinecolor\":\"#2a3f5f\"},\"baxis\":{\"endlinecolor\":\"#2a3f5f\",\"gridcolor\":\"white\",\"linecolor\":\"white\",\"minorgridcolor\":\"white\",\"startlinecolor\":\"#2a3f5f\"},\"type\":\"carpet\"}],\"table\":[{\"cells\":{\"fill\":{\"color\":\"#EBF0F8\"},\"line\":{\"color\":\"white\"}},\"header\":{\"fill\":{\"color\":\"#C8D4E3\"},\"line\":{\"color\":\"white\"}},\"type\":\"table\"}],\"barpolar\":[{\"marker\":{\"line\":{\"color\":\"#E5ECF6\",\"width\":0.5},\"pattern\":{\"fillmode\":\"overlay\",\"size\":10,\"solidity\":0.2}},\"type\":\"barpolar\"}],\"pie\":[{\"automargin\":true,\"type\":\"pie\"}]},\"layout\":{\"autotypenumbers\":\"strict\",\"colorway\":[\"#636efa\",\"#EF553B\",\"#00cc96\",\"#ab63fa\",\"#FFA15A\",\"#19d3f3\",\"#FF6692\",\"#B6E880\",\"#FF97FF\",\"#FECB52\"],\"font\":{\"color\":\"#2a3f5f\"},\"hovermode\":\"closest\",\"hoverlabel\":{\"align\":\"left\"},\"paper_bgcolor\":\"white\",\"plot_bgcolor\":\"#E5ECF6\",\"polar\":{\"bgcolor\":\"#E5ECF6\",\"angularaxis\":{\"gridcolor\":\"white\",\"linecolor\":\"white\",\"ticks\":\"\"},\"radialaxis\":{\"gridcolor\":\"white\",\"linecolor\":\"white\",\"ticks\":\"\"}},\"ternary\":{\"bgcolor\":\"#E5ECF6\",\"aaxis\":{\"gridcolor\":\"white\",\"linecolor\":\"white\",\"ticks\":\"\"},\"baxis\":{\"gridcolor\":\"white\",\"linecolor\":\"white\",\"ticks\":\"\"},\"caxis\":{\"gridcolor\":\"white\",\"linecolor\":\"white\",\"ticks\":\"\"}},\"coloraxis\":{\"colorbar\":{\"outlinewidth\":0,\"ticks\":\"\"}},\"colorscale\":{\"sequential\":[[0.0,\"#0d0887\"],[0.1111111111111111,\"#46039f\"],[0.2222222222222222,\"#7201a8\"],[0.3333333333333333,\"#9c179e\"],[0.4444444444444444,\"#bd3786\"],[0.5555555555555556,\"#d8576b\"],[0.6666666666666666,\"#ed7953\"],[0.7777777777777778,\"#fb9f3a\"],[0.8888888888888888,\"#fdca26\"],[1.0,\"#f0f921\"]],\"sequentialminus\":[[0.0,\"#0d0887\"],[0.1111111111111111,\"#46039f\"],[0.2222222222222222,\"#7201a8\"],[0.3333333333333333,\"#9c179e\"],[0.4444444444444444,\"#bd3786\"],[0.5555555555555556,\"#d8576b\"],[0.6666666666666666,\"#ed7953\"],[0.7777777777777778,\"#fb9f3a\"],[0.8888888888888888,\"#fdca26\"],[1.0,\"#f0f921\"]],\"diverging\":[[0,\"#8e0152\"],[0.1,\"#c51b7d\"],[0.2,\"#de77ae\"],[0.3,\"#f1b6da\"],[0.4,\"#fde0ef\"],[0.5,\"#f7f7f7\"],[0.6,\"#e6f5d0\"],[0.7,\"#b8e186\"],[0.8,\"#7fbc41\"],[0.9,\"#4d9221\"],[1,\"#276419\"]]},\"xaxis\":{\"gridcolor\":\"white\",\"linecolor\":\"white\",\"ticks\":\"\",\"title\":{\"standoff\":15},\"zerolinecolor\":\"white\",\"automargin\":true,\"zerolinewidth\":2},\"yaxis\":{\"gridcolor\":\"white\",\"linecolor\":\"white\",\"ticks\":\"\",\"title\":{\"standoff\":15},\"zerolinecolor\":\"white\",\"automargin\":true,\"zerolinewidth\":2},\"scene\":{\"xaxis\":{\"backgroundcolor\":\"#E5ECF6\",\"gridcolor\":\"white\",\"linecolor\":\"white\",\"showbackground\":true,\"ticks\":\"\",\"zerolinecolor\":\"white\",\"gridwidth\":2},\"yaxis\":{\"backgroundcolor\":\"#E5ECF6\",\"gridcolor\":\"white\",\"linecolor\":\"white\",\"showbackground\":true,\"ticks\":\"\",\"zerolinecolor\":\"white\",\"gridwidth\":2},\"zaxis\":{\"backgroundcolor\":\"#E5ECF6\",\"gridcolor\":\"white\",\"linecolor\":\"white\",\"showbackground\":true,\"ticks\":\"\",\"zerolinecolor\":\"white\",\"gridwidth\":2}},\"shapedefaults\":{\"line\":{\"color\":\"#2a3f5f\"}},\"annotationdefaults\":{\"arrowcolor\":\"#2a3f5f\",\"arrowhead\":0,\"arrowwidth\":1},\"geo\":{\"bgcolor\":\"white\",\"landcolor\":\"#E5ECF6\",\"subunitcolor\":\"white\",\"showland\":true,\"showlakes\":true,\"lakecolor\":\"white\"},\"title\":{\"x\":0.05},\"mapbox\":{\"style\":\"light\"}}}},                        {\"responsive\": true}                    ).then(function(){\n",
       "                            \n",
       "var gd = document.getElementById('626c2ee0-7000-4723-8d6e-0758c60e724f');\n",
       "var x = new MutationObserver(function (mutations, observer) {{\n",
       "        var display = window.getComputedStyle(gd).display;\n",
       "        if (!display || display === 'none') {{\n",
       "            console.log([gd, 'removed!']);\n",
       "            Plotly.purge(gd);\n",
       "            observer.disconnect();\n",
       "        }}\n",
       "}});\n",
       "\n",
       "// Listen for the removal of the full notebook cells\n",
       "var notebookContainer = gd.closest('#notebook-container');\n",
       "if (notebookContainer) {{\n",
       "    x.observe(notebookContainer, {childList: true});\n",
       "}}\n",
       "\n",
       "// Listen for the clearing of the current output cell\n",
       "var outputEl = gd.closest('.output');\n",
       "if (outputEl) {{\n",
       "    x.observe(outputEl, {childList: true});\n",
       "}}\n",
       "\n",
       "                        })                };                });            </script>        </div>"
      ]
     },
     "metadata": {},
     "output_type": "display_data"
    },
    {
     "name": "stdout",
     "output_type": "stream",
     "text": [
      "Silhouette Score for k=2: 0.5068584314757825\n",
      "Silhouette Score for k=3: 0.35787825677965857\n",
      "Silhouette Score for k=4: 0.009217466580734968\n",
      "Silhouette Score for k=5: 0.010064647772812955\n"
     ]
    }
   ],
   "source": [
    "# Compute the linkage matrix using the Ward method\n",
    "linked = linkage(scaled_data, method='ward')\n",
    "\n",
    "# Plot the dendrogram\n",
    "fig = ff.create_dendrogram(scaled_data, linkagefun=lambda x: linked, labels=None)\n",
    "fig.update_layout(width=1800, height=500)\n",
    "fig.show()\n",
    "\n",
    "# Calculate silhouette scores for different numbers of clusters\n",
    "silhouette_scores = {}\n",
    "for k in range(2, 6):\n",
    "    # Use fcluster to flatten the dendrogram to 'k' clusters\n",
    "    labels = fcluster(linked, k, criterion='maxclust')\n",
    "    score = silhouette_score(scaled_data, labels)\n",
    "    silhouette_scores[k] = score\n",
    "    print(f'Silhouette Score for k={k}: {score}')"
   ]
  },
  {
   "cell_type": "code",
   "execution_count": null,
   "id": "14b1fddc-f8a9-4d1e-ab0b-6dc2be67ae4c",
   "metadata": {},
   "outputs": [],
   "source": []
  }
 ],
 "metadata": {
  "kernelspec": {
   "display_name": "Python 3 (ipykernel)",
   "language": "python",
   "name": "python3"
  },
  "language_info": {
   "codemirror_mode": {
    "name": "ipython",
    "version": 3
   },
   "file_extension": ".py",
   "mimetype": "text/x-python",
   "name": "python",
   "nbconvert_exporter": "python",
   "pygments_lexer": "ipython3",
   "version": "3.10.14"
  }
 },
 "nbformat": 4,
 "nbformat_minor": 5
}
