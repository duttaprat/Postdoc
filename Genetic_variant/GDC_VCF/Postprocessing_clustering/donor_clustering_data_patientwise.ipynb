{
 "cells": [
  {
   "cell_type": "code",
   "execution_count": 2,
   "id": "fb042377-08ba-43fe-b4bb-4ee84852c0e5",
   "metadata": {},
   "outputs": [],
   "source": [
    "import os\n",
    "import pandas as pd\n",
    "import numpy as np\n",
    "import plotly.express as px\n",
    "import plotly.graph_objects as go\n",
    "from plotly.subplots import make_subplots\n",
    "from sklearn.metrics import silhouette_score, silhouette_samples\n",
    "#import matplotlib.ticker as ticker\n",
    "from sklearn.impute import SimpleImputer\n",
    "from sklearn.decomposition import PCA\n",
    "from sklearn.preprocessing import StandardScaler\n",
    "#import matplotlib.pyplot as plt\n",
    "from sklearn.cluster import KMeans\n",
    "from scipy.stats import norm\n",
    "import itertools\n",
    "import networkx as nx\n",
    "import plotly.figure_factory as ff\n",
    "from itertools import combinations\n",
    "from IPython.display import display\n",
    "from pacmap import PaCMAP\n",
    "from scipy.cluster.hierarchy import linkage, fcluster"
   ]
  },
  {
   "cell_type": "code",
   "execution_count": 32,
   "id": "e67d69d7-4c67-4616-bd9b-75c5c13026c0",
   "metadata": {},
   "outputs": [],
   "source": [
    "pipeline= \"CaVEMan\""
   ]
  },
  {
   "cell_type": "code",
   "execution_count": 33,
   "id": "43f30097-3b6a-4034-825d-1a45321b8839",
   "metadata": {},
   "outputs": [],
   "source": [
    "cancer_type = \"Brain\"\n",
    "non_coding_region = 'donor'\n",
    "file_name = \"df_log_odd_score_{}.tsv\".format(pipeline)"
   ]
  },
  {
   "cell_type": "code",
   "execution_count": 34,
   "id": "53000d48-f1b5-43a0-8fe5-4c9f3b6aa5d9",
   "metadata": {},
   "outputs": [],
   "source": [
    "file_path= '/home/pdutta/Data/Cancer_wiseGDC/New_data/{}/Generated_files/Variant_Analysis/{}/{}'.format(cancer_type, non_coding_region, file_name)\n",
    "output_path = \"/home/pdutta/Data/Cancer_wiseGDC/New_data/{}/Generated_files/Kmeans_cluster/{}/Categorise_{}/\".format(cancer_type, non_coding_region, pipeline)\n",
    "# Subfolders within the base path"
   ]
  },
  {
   "cell_type": "code",
   "execution_count": 35,
   "id": "601e535f-c56d-40c1-bb36-59bdb5c3a1b7",
   "metadata": {},
   "outputs": [
    {
     "data": {
      "text/html": [
       "<div>\n",
       "<style scoped>\n",
       "    .dataframe tbody tr th:only-of-type {\n",
       "        vertical-align: middle;\n",
       "    }\n",
       "\n",
       "    .dataframe tbody tr th {\n",
       "        vertical-align: top;\n",
       "    }\n",
       "\n",
       "    .dataframe thead th {\n",
       "        text-align: right;\n",
       "    }\n",
       "</style>\n",
       "<table border=\"1\" class=\"dataframe\">\n",
       "  <thead>\n",
       "    <tr style=\"text-align: right;\">\n",
       "      <th></th>\n",
       "      <th>chr1_1387737_1387816_1387762_1387765_CCT_C</th>\n",
       "      <th>chr1_3836455_3836534_3836467_3836468_G_GT</th>\n",
       "      <th>chr1_15524029_15524108_15524057_15524058_C_CGGGGGCG</th>\n",
       "      <th>chr1_16052373_16052452_16052445_16052450_GTCAC_TCAT</th>\n",
       "      <th>chr1_35079404_35079483_35079420_35079421_G_GGC</th>\n",
       "      <th>chr1_55056151_55056230_55056225_55056233_GGGGCGGA_G</th>\n",
       "      <th>chr1_59762631_59762710_59762637_59762638_T_TTC</th>\n",
       "      <th>chr1_63014040_63014119_63014041_63014042_G_GCTA</th>\n",
       "      <th>chr1_93846925_93847004_93846925_93846926_T_TC</th>\n",
       "      <th>chr1_100729344_100729423_100729408_100729409_G_GT</th>\n",
       "      <th>...</th>\n",
       "      <th>chr11_104606983_104607062_104607015_104607021_GCCTAA_G</th>\n",
       "      <th>chr19_32040532_32040611_32040534_32040535_A_AC</th>\n",
       "      <th>chr22_20983084_20983163_20983088_20983093_GGTGA_G</th>\n",
       "      <th>chr22_23583769_23583848_23583797_23583803_GCTCCT_G</th>\n",
       "      <th>chrX_120143862_120143941_120143876_120143877_G_GA</th>\n",
       "      <th>chr11_64653656_64653735_64653695_64653696_T_G</th>\n",
       "      <th>chr16_55733472_55733551_55733540_55733541_A_T</th>\n",
       "      <th>chr18_46483547_46483626_46483557_46483558_A_G</th>\n",
       "      <th>chr3_49422321_49422400_49422337_49422338_A_C</th>\n",
       "      <th>chr4_70681561_70681640_70681600_70681601_T_C</th>\n",
       "    </tr>\n",
       "    <tr>\n",
       "      <th>Patient_ID</th>\n",
       "      <th></th>\n",
       "      <th></th>\n",
       "      <th></th>\n",
       "      <th></th>\n",
       "      <th></th>\n",
       "      <th></th>\n",
       "      <th></th>\n",
       "      <th></th>\n",
       "      <th></th>\n",
       "      <th></th>\n",
       "      <th></th>\n",
       "      <th></th>\n",
       "      <th></th>\n",
       "      <th></th>\n",
       "      <th></th>\n",
       "      <th></th>\n",
       "      <th></th>\n",
       "      <th></th>\n",
       "      <th></th>\n",
       "      <th></th>\n",
       "      <th></th>\n",
       "    </tr>\n",
       "  </thead>\n",
       "  <tbody>\n",
       "    <tr>\n",
       "      <th>3adc47fa-b27a-4df1-98ab-201ebab3c6bf_CaVEMan</th>\n",
       "      <td>NaN</td>\n",
       "      <td>NaN</td>\n",
       "      <td>NaN</td>\n",
       "      <td>NaN</td>\n",
       "      <td>NaN</td>\n",
       "      <td>NaN</td>\n",
       "      <td>NaN</td>\n",
       "      <td>NaN</td>\n",
       "      <td>NaN</td>\n",
       "      <td>NaN</td>\n",
       "      <td>...</td>\n",
       "      <td>NaN</td>\n",
       "      <td>NaN</td>\n",
       "      <td>NaN</td>\n",
       "      <td>NaN</td>\n",
       "      <td>NaN</td>\n",
       "      <td>NaN</td>\n",
       "      <td>NaN</td>\n",
       "      <td>NaN</td>\n",
       "      <td>NaN</td>\n",
       "      <td>NaN</td>\n",
       "    </tr>\n",
       "    <tr>\n",
       "      <th>67c83385-8497-4c2d-932e-9a3b9bb90ec9_CaVEMan</th>\n",
       "      <td>NaN</td>\n",
       "      <td>NaN</td>\n",
       "      <td>NaN</td>\n",
       "      <td>NaN</td>\n",
       "      <td>NaN</td>\n",
       "      <td>NaN</td>\n",
       "      <td>NaN</td>\n",
       "      <td>NaN</td>\n",
       "      <td>NaN</td>\n",
       "      <td>NaN</td>\n",
       "      <td>...</td>\n",
       "      <td>NaN</td>\n",
       "      <td>NaN</td>\n",
       "      <td>NaN</td>\n",
       "      <td>NaN</td>\n",
       "      <td>NaN</td>\n",
       "      <td>NaN</td>\n",
       "      <td>NaN</td>\n",
       "      <td>NaN</td>\n",
       "      <td>NaN</td>\n",
       "      <td>NaN</td>\n",
       "    </tr>\n",
       "    <tr>\n",
       "      <th>c6b9e176-a36b-4eb2-aa15-6a0155c1aeb5_CaVEMan</th>\n",
       "      <td>NaN</td>\n",
       "      <td>NaN</td>\n",
       "      <td>NaN</td>\n",
       "      <td>NaN</td>\n",
       "      <td>NaN</td>\n",
       "      <td>NaN</td>\n",
       "      <td>NaN</td>\n",
       "      <td>NaN</td>\n",
       "      <td>NaN</td>\n",
       "      <td>NaN</td>\n",
       "      <td>...</td>\n",
       "      <td>NaN</td>\n",
       "      <td>NaN</td>\n",
       "      <td>NaN</td>\n",
       "      <td>NaN</td>\n",
       "      <td>NaN</td>\n",
       "      <td>NaN</td>\n",
       "      <td>NaN</td>\n",
       "      <td>NaN</td>\n",
       "      <td>NaN</td>\n",
       "      <td>NaN</td>\n",
       "    </tr>\n",
       "    <tr>\n",
       "      <th>d214490c-9f1c-4228-8cbc-7c8238942041_CaVEMan</th>\n",
       "      <td>NaN</td>\n",
       "      <td>NaN</td>\n",
       "      <td>NaN</td>\n",
       "      <td>NaN</td>\n",
       "      <td>NaN</td>\n",
       "      <td>NaN</td>\n",
       "      <td>NaN</td>\n",
       "      <td>NaN</td>\n",
       "      <td>NaN</td>\n",
       "      <td>NaN</td>\n",
       "      <td>...</td>\n",
       "      <td>NaN</td>\n",
       "      <td>NaN</td>\n",
       "      <td>NaN</td>\n",
       "      <td>NaN</td>\n",
       "      <td>NaN</td>\n",
       "      <td>NaN</td>\n",
       "      <td>NaN</td>\n",
       "      <td>NaN</td>\n",
       "      <td>NaN</td>\n",
       "      <td>NaN</td>\n",
       "    </tr>\n",
       "    <tr>\n",
       "      <th>4e285b95-27ba-49b9-980a-6dbfc09a62c0_CaVEMan</th>\n",
       "      <td>NaN</td>\n",
       "      <td>NaN</td>\n",
       "      <td>NaN</td>\n",
       "      <td>NaN</td>\n",
       "      <td>NaN</td>\n",
       "      <td>NaN</td>\n",
       "      <td>NaN</td>\n",
       "      <td>NaN</td>\n",
       "      <td>NaN</td>\n",
       "      <td>NaN</td>\n",
       "      <td>...</td>\n",
       "      <td>NaN</td>\n",
       "      <td>NaN</td>\n",
       "      <td>NaN</td>\n",
       "      <td>NaN</td>\n",
       "      <td>NaN</td>\n",
       "      <td>NaN</td>\n",
       "      <td>NaN</td>\n",
       "      <td>NaN</td>\n",
       "      <td>NaN</td>\n",
       "      <td>NaN</td>\n",
       "    </tr>\n",
       "    <tr>\n",
       "      <th>...</th>\n",
       "      <td>...</td>\n",
       "      <td>...</td>\n",
       "      <td>...</td>\n",
       "      <td>...</td>\n",
       "      <td>...</td>\n",
       "      <td>...</td>\n",
       "      <td>...</td>\n",
       "      <td>...</td>\n",
       "      <td>...</td>\n",
       "      <td>...</td>\n",
       "      <td>...</td>\n",
       "      <td>...</td>\n",
       "      <td>...</td>\n",
       "      <td>...</td>\n",
       "      <td>...</td>\n",
       "      <td>...</td>\n",
       "      <td>...</td>\n",
       "      <td>...</td>\n",
       "      <td>...</td>\n",
       "      <td>...</td>\n",
       "      <td>...</td>\n",
       "    </tr>\n",
       "    <tr>\n",
       "      <th>b0a32ca7-5793-4f50-97f8-8adf5254a205_CaVEMan</th>\n",
       "      <td>NaN</td>\n",
       "      <td>NaN</td>\n",
       "      <td>NaN</td>\n",
       "      <td>NaN</td>\n",
       "      <td>NaN</td>\n",
       "      <td>NaN</td>\n",
       "      <td>NaN</td>\n",
       "      <td>NaN</td>\n",
       "      <td>NaN</td>\n",
       "      <td>NaN</td>\n",
       "      <td>...</td>\n",
       "      <td>NaN</td>\n",
       "      <td>NaN</td>\n",
       "      <td>NaN</td>\n",
       "      <td>NaN</td>\n",
       "      <td>NaN</td>\n",
       "      <td>NaN</td>\n",
       "      <td>NaN</td>\n",
       "      <td>NaN</td>\n",
       "      <td>NaN</td>\n",
       "      <td>NaN</td>\n",
       "    </tr>\n",
       "    <tr>\n",
       "      <th>7bed15a4-3b1e-487e-954d-e6b55e296dc0_CaVEMan</th>\n",
       "      <td>NaN</td>\n",
       "      <td>NaN</td>\n",
       "      <td>NaN</td>\n",
       "      <td>NaN</td>\n",
       "      <td>NaN</td>\n",
       "      <td>NaN</td>\n",
       "      <td>NaN</td>\n",
       "      <td>NaN</td>\n",
       "      <td>NaN</td>\n",
       "      <td>NaN</td>\n",
       "      <td>...</td>\n",
       "      <td>NaN</td>\n",
       "      <td>NaN</td>\n",
       "      <td>NaN</td>\n",
       "      <td>NaN</td>\n",
       "      <td>NaN</td>\n",
       "      <td>NaN</td>\n",
       "      <td>NaN</td>\n",
       "      <td>NaN</td>\n",
       "      <td>NaN</td>\n",
       "      <td>NaN</td>\n",
       "    </tr>\n",
       "    <tr>\n",
       "      <th>b0218338-6d83-491f-b51d-844d209f54b3_CaVEMan</th>\n",
       "      <td>NaN</td>\n",
       "      <td>NaN</td>\n",
       "      <td>NaN</td>\n",
       "      <td>NaN</td>\n",
       "      <td>NaN</td>\n",
       "      <td>NaN</td>\n",
       "      <td>NaN</td>\n",
       "      <td>NaN</td>\n",
       "      <td>NaN</td>\n",
       "      <td>NaN</td>\n",
       "      <td>...</td>\n",
       "      <td>NaN</td>\n",
       "      <td>NaN</td>\n",
       "      <td>NaN</td>\n",
       "      <td>NaN</td>\n",
       "      <td>NaN</td>\n",
       "      <td>NaN</td>\n",
       "      <td>NaN</td>\n",
       "      <td>NaN</td>\n",
       "      <td>NaN</td>\n",
       "      <td>NaN</td>\n",
       "    </tr>\n",
       "    <tr>\n",
       "      <th>96a823e7-9a5c-4a58-a424-a051cf4f4b29_CaVEMan</th>\n",
       "      <td>NaN</td>\n",
       "      <td>NaN</td>\n",
       "      <td>NaN</td>\n",
       "      <td>NaN</td>\n",
       "      <td>NaN</td>\n",
       "      <td>NaN</td>\n",
       "      <td>NaN</td>\n",
       "      <td>NaN</td>\n",
       "      <td>NaN</td>\n",
       "      <td>NaN</td>\n",
       "      <td>...</td>\n",
       "      <td>NaN</td>\n",
       "      <td>NaN</td>\n",
       "      <td>NaN</td>\n",
       "      <td>NaN</td>\n",
       "      <td>NaN</td>\n",
       "      <td>NaN</td>\n",
       "      <td>NaN</td>\n",
       "      <td>NaN</td>\n",
       "      <td>NaN</td>\n",
       "      <td>NaN</td>\n",
       "    </tr>\n",
       "    <tr>\n",
       "      <th>9a2beddf-39e1-4ed9-8654-2ebad59e71d3_CaVEMan</th>\n",
       "      <td>NaN</td>\n",
       "      <td>NaN</td>\n",
       "      <td>NaN</td>\n",
       "      <td>NaN</td>\n",
       "      <td>NaN</td>\n",
       "      <td>NaN</td>\n",
       "      <td>NaN</td>\n",
       "      <td>NaN</td>\n",
       "      <td>NaN</td>\n",
       "      <td>NaN</td>\n",
       "      <td>...</td>\n",
       "      <td>NaN</td>\n",
       "      <td>NaN</td>\n",
       "      <td>NaN</td>\n",
       "      <td>NaN</td>\n",
       "      <td>NaN</td>\n",
       "      <td>0.762087</td>\n",
       "      <td>0.079988</td>\n",
       "      <td>0.169611</td>\n",
       "      <td>-0.250582</td>\n",
       "      <td>-0.77992</td>\n",
       "    </tr>\n",
       "  </tbody>\n",
       "</table>\n",
       "<p>216 rows × 2937 columns</p>\n",
       "</div>"
      ],
      "text/plain": [
       "                                              chr1_1387737_1387816_1387762_1387765_CCT_C  \\\n",
       "Patient_ID                                                                                 \n",
       "3adc47fa-b27a-4df1-98ab-201ebab3c6bf_CaVEMan                                         NaN   \n",
       "67c83385-8497-4c2d-932e-9a3b9bb90ec9_CaVEMan                                         NaN   \n",
       "c6b9e176-a36b-4eb2-aa15-6a0155c1aeb5_CaVEMan                                         NaN   \n",
       "d214490c-9f1c-4228-8cbc-7c8238942041_CaVEMan                                         NaN   \n",
       "4e285b95-27ba-49b9-980a-6dbfc09a62c0_CaVEMan                                         NaN   \n",
       "...                                                                                  ...   \n",
       "b0a32ca7-5793-4f50-97f8-8adf5254a205_CaVEMan                                         NaN   \n",
       "7bed15a4-3b1e-487e-954d-e6b55e296dc0_CaVEMan                                         NaN   \n",
       "b0218338-6d83-491f-b51d-844d209f54b3_CaVEMan                                         NaN   \n",
       "96a823e7-9a5c-4a58-a424-a051cf4f4b29_CaVEMan                                         NaN   \n",
       "9a2beddf-39e1-4ed9-8654-2ebad59e71d3_CaVEMan                                         NaN   \n",
       "\n",
       "                                              chr1_3836455_3836534_3836467_3836468_G_GT  \\\n",
       "Patient_ID                                                                                \n",
       "3adc47fa-b27a-4df1-98ab-201ebab3c6bf_CaVEMan                                        NaN   \n",
       "67c83385-8497-4c2d-932e-9a3b9bb90ec9_CaVEMan                                        NaN   \n",
       "c6b9e176-a36b-4eb2-aa15-6a0155c1aeb5_CaVEMan                                        NaN   \n",
       "d214490c-9f1c-4228-8cbc-7c8238942041_CaVEMan                                        NaN   \n",
       "4e285b95-27ba-49b9-980a-6dbfc09a62c0_CaVEMan                                        NaN   \n",
       "...                                                                                 ...   \n",
       "b0a32ca7-5793-4f50-97f8-8adf5254a205_CaVEMan                                        NaN   \n",
       "7bed15a4-3b1e-487e-954d-e6b55e296dc0_CaVEMan                                        NaN   \n",
       "b0218338-6d83-491f-b51d-844d209f54b3_CaVEMan                                        NaN   \n",
       "96a823e7-9a5c-4a58-a424-a051cf4f4b29_CaVEMan                                        NaN   \n",
       "9a2beddf-39e1-4ed9-8654-2ebad59e71d3_CaVEMan                                        NaN   \n",
       "\n",
       "                                              chr1_15524029_15524108_15524057_15524058_C_CGGGGGCG  \\\n",
       "Patient_ID                                                                                          \n",
       "3adc47fa-b27a-4df1-98ab-201ebab3c6bf_CaVEMan                                                NaN     \n",
       "67c83385-8497-4c2d-932e-9a3b9bb90ec9_CaVEMan                                                NaN     \n",
       "c6b9e176-a36b-4eb2-aa15-6a0155c1aeb5_CaVEMan                                                NaN     \n",
       "d214490c-9f1c-4228-8cbc-7c8238942041_CaVEMan                                                NaN     \n",
       "4e285b95-27ba-49b9-980a-6dbfc09a62c0_CaVEMan                                                NaN     \n",
       "...                                                                                         ...     \n",
       "b0a32ca7-5793-4f50-97f8-8adf5254a205_CaVEMan                                                NaN     \n",
       "7bed15a4-3b1e-487e-954d-e6b55e296dc0_CaVEMan                                                NaN     \n",
       "b0218338-6d83-491f-b51d-844d209f54b3_CaVEMan                                                NaN     \n",
       "96a823e7-9a5c-4a58-a424-a051cf4f4b29_CaVEMan                                                NaN     \n",
       "9a2beddf-39e1-4ed9-8654-2ebad59e71d3_CaVEMan                                                NaN     \n",
       "\n",
       "                                              chr1_16052373_16052452_16052445_16052450_GTCAC_TCAT  \\\n",
       "Patient_ID                                                                                          \n",
       "3adc47fa-b27a-4df1-98ab-201ebab3c6bf_CaVEMan                                                NaN     \n",
       "67c83385-8497-4c2d-932e-9a3b9bb90ec9_CaVEMan                                                NaN     \n",
       "c6b9e176-a36b-4eb2-aa15-6a0155c1aeb5_CaVEMan                                                NaN     \n",
       "d214490c-9f1c-4228-8cbc-7c8238942041_CaVEMan                                                NaN     \n",
       "4e285b95-27ba-49b9-980a-6dbfc09a62c0_CaVEMan                                                NaN     \n",
       "...                                                                                         ...     \n",
       "b0a32ca7-5793-4f50-97f8-8adf5254a205_CaVEMan                                                NaN     \n",
       "7bed15a4-3b1e-487e-954d-e6b55e296dc0_CaVEMan                                                NaN     \n",
       "b0218338-6d83-491f-b51d-844d209f54b3_CaVEMan                                                NaN     \n",
       "96a823e7-9a5c-4a58-a424-a051cf4f4b29_CaVEMan                                                NaN     \n",
       "9a2beddf-39e1-4ed9-8654-2ebad59e71d3_CaVEMan                                                NaN     \n",
       "\n",
       "                                              chr1_35079404_35079483_35079420_35079421_G_GGC  \\\n",
       "Patient_ID                                                                                     \n",
       "3adc47fa-b27a-4df1-98ab-201ebab3c6bf_CaVEMan                                             NaN   \n",
       "67c83385-8497-4c2d-932e-9a3b9bb90ec9_CaVEMan                                             NaN   \n",
       "c6b9e176-a36b-4eb2-aa15-6a0155c1aeb5_CaVEMan                                             NaN   \n",
       "d214490c-9f1c-4228-8cbc-7c8238942041_CaVEMan                                             NaN   \n",
       "4e285b95-27ba-49b9-980a-6dbfc09a62c0_CaVEMan                                             NaN   \n",
       "...                                                                                      ...   \n",
       "b0a32ca7-5793-4f50-97f8-8adf5254a205_CaVEMan                                             NaN   \n",
       "7bed15a4-3b1e-487e-954d-e6b55e296dc0_CaVEMan                                             NaN   \n",
       "b0218338-6d83-491f-b51d-844d209f54b3_CaVEMan                                             NaN   \n",
       "96a823e7-9a5c-4a58-a424-a051cf4f4b29_CaVEMan                                             NaN   \n",
       "9a2beddf-39e1-4ed9-8654-2ebad59e71d3_CaVEMan                                             NaN   \n",
       "\n",
       "                                              chr1_55056151_55056230_55056225_55056233_GGGGCGGA_G  \\\n",
       "Patient_ID                                                                                          \n",
       "3adc47fa-b27a-4df1-98ab-201ebab3c6bf_CaVEMan                                                NaN     \n",
       "67c83385-8497-4c2d-932e-9a3b9bb90ec9_CaVEMan                                                NaN     \n",
       "c6b9e176-a36b-4eb2-aa15-6a0155c1aeb5_CaVEMan                                                NaN     \n",
       "d214490c-9f1c-4228-8cbc-7c8238942041_CaVEMan                                                NaN     \n",
       "4e285b95-27ba-49b9-980a-6dbfc09a62c0_CaVEMan                                                NaN     \n",
       "...                                                                                         ...     \n",
       "b0a32ca7-5793-4f50-97f8-8adf5254a205_CaVEMan                                                NaN     \n",
       "7bed15a4-3b1e-487e-954d-e6b55e296dc0_CaVEMan                                                NaN     \n",
       "b0218338-6d83-491f-b51d-844d209f54b3_CaVEMan                                                NaN     \n",
       "96a823e7-9a5c-4a58-a424-a051cf4f4b29_CaVEMan                                                NaN     \n",
       "9a2beddf-39e1-4ed9-8654-2ebad59e71d3_CaVEMan                                                NaN     \n",
       "\n",
       "                                              chr1_59762631_59762710_59762637_59762638_T_TTC  \\\n",
       "Patient_ID                                                                                     \n",
       "3adc47fa-b27a-4df1-98ab-201ebab3c6bf_CaVEMan                                             NaN   \n",
       "67c83385-8497-4c2d-932e-9a3b9bb90ec9_CaVEMan                                             NaN   \n",
       "c6b9e176-a36b-4eb2-aa15-6a0155c1aeb5_CaVEMan                                             NaN   \n",
       "d214490c-9f1c-4228-8cbc-7c8238942041_CaVEMan                                             NaN   \n",
       "4e285b95-27ba-49b9-980a-6dbfc09a62c0_CaVEMan                                             NaN   \n",
       "...                                                                                      ...   \n",
       "b0a32ca7-5793-4f50-97f8-8adf5254a205_CaVEMan                                             NaN   \n",
       "7bed15a4-3b1e-487e-954d-e6b55e296dc0_CaVEMan                                             NaN   \n",
       "b0218338-6d83-491f-b51d-844d209f54b3_CaVEMan                                             NaN   \n",
       "96a823e7-9a5c-4a58-a424-a051cf4f4b29_CaVEMan                                             NaN   \n",
       "9a2beddf-39e1-4ed9-8654-2ebad59e71d3_CaVEMan                                             NaN   \n",
       "\n",
       "                                              chr1_63014040_63014119_63014041_63014042_G_GCTA  \\\n",
       "Patient_ID                                                                                      \n",
       "3adc47fa-b27a-4df1-98ab-201ebab3c6bf_CaVEMan                                              NaN   \n",
       "67c83385-8497-4c2d-932e-9a3b9bb90ec9_CaVEMan                                              NaN   \n",
       "c6b9e176-a36b-4eb2-aa15-6a0155c1aeb5_CaVEMan                                              NaN   \n",
       "d214490c-9f1c-4228-8cbc-7c8238942041_CaVEMan                                              NaN   \n",
       "4e285b95-27ba-49b9-980a-6dbfc09a62c0_CaVEMan                                              NaN   \n",
       "...                                                                                       ...   \n",
       "b0a32ca7-5793-4f50-97f8-8adf5254a205_CaVEMan                                              NaN   \n",
       "7bed15a4-3b1e-487e-954d-e6b55e296dc0_CaVEMan                                              NaN   \n",
       "b0218338-6d83-491f-b51d-844d209f54b3_CaVEMan                                              NaN   \n",
       "96a823e7-9a5c-4a58-a424-a051cf4f4b29_CaVEMan                                              NaN   \n",
       "9a2beddf-39e1-4ed9-8654-2ebad59e71d3_CaVEMan                                              NaN   \n",
       "\n",
       "                                              chr1_93846925_93847004_93846925_93846926_T_TC  \\\n",
       "Patient_ID                                                                                    \n",
       "3adc47fa-b27a-4df1-98ab-201ebab3c6bf_CaVEMan                                            NaN   \n",
       "67c83385-8497-4c2d-932e-9a3b9bb90ec9_CaVEMan                                            NaN   \n",
       "c6b9e176-a36b-4eb2-aa15-6a0155c1aeb5_CaVEMan                                            NaN   \n",
       "d214490c-9f1c-4228-8cbc-7c8238942041_CaVEMan                                            NaN   \n",
       "4e285b95-27ba-49b9-980a-6dbfc09a62c0_CaVEMan                                            NaN   \n",
       "...                                                                                     ...   \n",
       "b0a32ca7-5793-4f50-97f8-8adf5254a205_CaVEMan                                            NaN   \n",
       "7bed15a4-3b1e-487e-954d-e6b55e296dc0_CaVEMan                                            NaN   \n",
       "b0218338-6d83-491f-b51d-844d209f54b3_CaVEMan                                            NaN   \n",
       "96a823e7-9a5c-4a58-a424-a051cf4f4b29_CaVEMan                                            NaN   \n",
       "9a2beddf-39e1-4ed9-8654-2ebad59e71d3_CaVEMan                                            NaN   \n",
       "\n",
       "                                              chr1_100729344_100729423_100729408_100729409_G_GT  \\\n",
       "Patient_ID                                                                                        \n",
       "3adc47fa-b27a-4df1-98ab-201ebab3c6bf_CaVEMan                                                NaN   \n",
       "67c83385-8497-4c2d-932e-9a3b9bb90ec9_CaVEMan                                                NaN   \n",
       "c6b9e176-a36b-4eb2-aa15-6a0155c1aeb5_CaVEMan                                                NaN   \n",
       "d214490c-9f1c-4228-8cbc-7c8238942041_CaVEMan                                                NaN   \n",
       "4e285b95-27ba-49b9-980a-6dbfc09a62c0_CaVEMan                                                NaN   \n",
       "...                                                                                         ...   \n",
       "b0a32ca7-5793-4f50-97f8-8adf5254a205_CaVEMan                                                NaN   \n",
       "7bed15a4-3b1e-487e-954d-e6b55e296dc0_CaVEMan                                                NaN   \n",
       "b0218338-6d83-491f-b51d-844d209f54b3_CaVEMan                                                NaN   \n",
       "96a823e7-9a5c-4a58-a424-a051cf4f4b29_CaVEMan                                                NaN   \n",
       "9a2beddf-39e1-4ed9-8654-2ebad59e71d3_CaVEMan                                                NaN   \n",
       "\n",
       "                                              ...  \\\n",
       "Patient_ID                                    ...   \n",
       "3adc47fa-b27a-4df1-98ab-201ebab3c6bf_CaVEMan  ...   \n",
       "67c83385-8497-4c2d-932e-9a3b9bb90ec9_CaVEMan  ...   \n",
       "c6b9e176-a36b-4eb2-aa15-6a0155c1aeb5_CaVEMan  ...   \n",
       "d214490c-9f1c-4228-8cbc-7c8238942041_CaVEMan  ...   \n",
       "4e285b95-27ba-49b9-980a-6dbfc09a62c0_CaVEMan  ...   \n",
       "...                                           ...   \n",
       "b0a32ca7-5793-4f50-97f8-8adf5254a205_CaVEMan  ...   \n",
       "7bed15a4-3b1e-487e-954d-e6b55e296dc0_CaVEMan  ...   \n",
       "b0218338-6d83-491f-b51d-844d209f54b3_CaVEMan  ...   \n",
       "96a823e7-9a5c-4a58-a424-a051cf4f4b29_CaVEMan  ...   \n",
       "9a2beddf-39e1-4ed9-8654-2ebad59e71d3_CaVEMan  ...   \n",
       "\n",
       "                                              chr11_104606983_104607062_104607015_104607021_GCCTAA_G  \\\n",
       "Patient_ID                                                                                             \n",
       "3adc47fa-b27a-4df1-98ab-201ebab3c6bf_CaVEMan                                                NaN        \n",
       "67c83385-8497-4c2d-932e-9a3b9bb90ec9_CaVEMan                                                NaN        \n",
       "c6b9e176-a36b-4eb2-aa15-6a0155c1aeb5_CaVEMan                                                NaN        \n",
       "d214490c-9f1c-4228-8cbc-7c8238942041_CaVEMan                                                NaN        \n",
       "4e285b95-27ba-49b9-980a-6dbfc09a62c0_CaVEMan                                                NaN        \n",
       "...                                                                                         ...        \n",
       "b0a32ca7-5793-4f50-97f8-8adf5254a205_CaVEMan                                                NaN        \n",
       "7bed15a4-3b1e-487e-954d-e6b55e296dc0_CaVEMan                                                NaN        \n",
       "b0218338-6d83-491f-b51d-844d209f54b3_CaVEMan                                                NaN        \n",
       "96a823e7-9a5c-4a58-a424-a051cf4f4b29_CaVEMan                                                NaN        \n",
       "9a2beddf-39e1-4ed9-8654-2ebad59e71d3_CaVEMan                                                NaN        \n",
       "\n",
       "                                              chr19_32040532_32040611_32040534_32040535_A_AC  \\\n",
       "Patient_ID                                                                                     \n",
       "3adc47fa-b27a-4df1-98ab-201ebab3c6bf_CaVEMan                                             NaN   \n",
       "67c83385-8497-4c2d-932e-9a3b9bb90ec9_CaVEMan                                             NaN   \n",
       "c6b9e176-a36b-4eb2-aa15-6a0155c1aeb5_CaVEMan                                             NaN   \n",
       "d214490c-9f1c-4228-8cbc-7c8238942041_CaVEMan                                             NaN   \n",
       "4e285b95-27ba-49b9-980a-6dbfc09a62c0_CaVEMan                                             NaN   \n",
       "...                                                                                      ...   \n",
       "b0a32ca7-5793-4f50-97f8-8adf5254a205_CaVEMan                                             NaN   \n",
       "7bed15a4-3b1e-487e-954d-e6b55e296dc0_CaVEMan                                             NaN   \n",
       "b0218338-6d83-491f-b51d-844d209f54b3_CaVEMan                                             NaN   \n",
       "96a823e7-9a5c-4a58-a424-a051cf4f4b29_CaVEMan                                             NaN   \n",
       "9a2beddf-39e1-4ed9-8654-2ebad59e71d3_CaVEMan                                             NaN   \n",
       "\n",
       "                                              chr22_20983084_20983163_20983088_20983093_GGTGA_G  \\\n",
       "Patient_ID                                                                                        \n",
       "3adc47fa-b27a-4df1-98ab-201ebab3c6bf_CaVEMan                                                NaN   \n",
       "67c83385-8497-4c2d-932e-9a3b9bb90ec9_CaVEMan                                                NaN   \n",
       "c6b9e176-a36b-4eb2-aa15-6a0155c1aeb5_CaVEMan                                                NaN   \n",
       "d214490c-9f1c-4228-8cbc-7c8238942041_CaVEMan                                                NaN   \n",
       "4e285b95-27ba-49b9-980a-6dbfc09a62c0_CaVEMan                                                NaN   \n",
       "...                                                                                         ...   \n",
       "b0a32ca7-5793-4f50-97f8-8adf5254a205_CaVEMan                                                NaN   \n",
       "7bed15a4-3b1e-487e-954d-e6b55e296dc0_CaVEMan                                                NaN   \n",
       "b0218338-6d83-491f-b51d-844d209f54b3_CaVEMan                                                NaN   \n",
       "96a823e7-9a5c-4a58-a424-a051cf4f4b29_CaVEMan                                                NaN   \n",
       "9a2beddf-39e1-4ed9-8654-2ebad59e71d3_CaVEMan                                                NaN   \n",
       "\n",
       "                                              chr22_23583769_23583848_23583797_23583803_GCTCCT_G  \\\n",
       "Patient_ID                                                                                         \n",
       "3adc47fa-b27a-4df1-98ab-201ebab3c6bf_CaVEMan                                                NaN    \n",
       "67c83385-8497-4c2d-932e-9a3b9bb90ec9_CaVEMan                                                NaN    \n",
       "c6b9e176-a36b-4eb2-aa15-6a0155c1aeb5_CaVEMan                                                NaN    \n",
       "d214490c-9f1c-4228-8cbc-7c8238942041_CaVEMan                                                NaN    \n",
       "4e285b95-27ba-49b9-980a-6dbfc09a62c0_CaVEMan                                                NaN    \n",
       "...                                                                                         ...    \n",
       "b0a32ca7-5793-4f50-97f8-8adf5254a205_CaVEMan                                                NaN    \n",
       "7bed15a4-3b1e-487e-954d-e6b55e296dc0_CaVEMan                                                NaN    \n",
       "b0218338-6d83-491f-b51d-844d209f54b3_CaVEMan                                                NaN    \n",
       "96a823e7-9a5c-4a58-a424-a051cf4f4b29_CaVEMan                                                NaN    \n",
       "9a2beddf-39e1-4ed9-8654-2ebad59e71d3_CaVEMan                                                NaN    \n",
       "\n",
       "                                              chrX_120143862_120143941_120143876_120143877_G_GA  \\\n",
       "Patient_ID                                                                                        \n",
       "3adc47fa-b27a-4df1-98ab-201ebab3c6bf_CaVEMan                                                NaN   \n",
       "67c83385-8497-4c2d-932e-9a3b9bb90ec9_CaVEMan                                                NaN   \n",
       "c6b9e176-a36b-4eb2-aa15-6a0155c1aeb5_CaVEMan                                                NaN   \n",
       "d214490c-9f1c-4228-8cbc-7c8238942041_CaVEMan                                                NaN   \n",
       "4e285b95-27ba-49b9-980a-6dbfc09a62c0_CaVEMan                                                NaN   \n",
       "...                                                                                         ...   \n",
       "b0a32ca7-5793-4f50-97f8-8adf5254a205_CaVEMan                                                NaN   \n",
       "7bed15a4-3b1e-487e-954d-e6b55e296dc0_CaVEMan                                                NaN   \n",
       "b0218338-6d83-491f-b51d-844d209f54b3_CaVEMan                                                NaN   \n",
       "96a823e7-9a5c-4a58-a424-a051cf4f4b29_CaVEMan                                                NaN   \n",
       "9a2beddf-39e1-4ed9-8654-2ebad59e71d3_CaVEMan                                                NaN   \n",
       "\n",
       "                                              chr11_64653656_64653735_64653695_64653696_T_G  \\\n",
       "Patient_ID                                                                                    \n",
       "3adc47fa-b27a-4df1-98ab-201ebab3c6bf_CaVEMan                                            NaN   \n",
       "67c83385-8497-4c2d-932e-9a3b9bb90ec9_CaVEMan                                            NaN   \n",
       "c6b9e176-a36b-4eb2-aa15-6a0155c1aeb5_CaVEMan                                            NaN   \n",
       "d214490c-9f1c-4228-8cbc-7c8238942041_CaVEMan                                            NaN   \n",
       "4e285b95-27ba-49b9-980a-6dbfc09a62c0_CaVEMan                                            NaN   \n",
       "...                                                                                     ...   \n",
       "b0a32ca7-5793-4f50-97f8-8adf5254a205_CaVEMan                                            NaN   \n",
       "7bed15a4-3b1e-487e-954d-e6b55e296dc0_CaVEMan                                            NaN   \n",
       "b0218338-6d83-491f-b51d-844d209f54b3_CaVEMan                                            NaN   \n",
       "96a823e7-9a5c-4a58-a424-a051cf4f4b29_CaVEMan                                            NaN   \n",
       "9a2beddf-39e1-4ed9-8654-2ebad59e71d3_CaVEMan                                       0.762087   \n",
       "\n",
       "                                              chr16_55733472_55733551_55733540_55733541_A_T  \\\n",
       "Patient_ID                                                                                    \n",
       "3adc47fa-b27a-4df1-98ab-201ebab3c6bf_CaVEMan                                            NaN   \n",
       "67c83385-8497-4c2d-932e-9a3b9bb90ec9_CaVEMan                                            NaN   \n",
       "c6b9e176-a36b-4eb2-aa15-6a0155c1aeb5_CaVEMan                                            NaN   \n",
       "d214490c-9f1c-4228-8cbc-7c8238942041_CaVEMan                                            NaN   \n",
       "4e285b95-27ba-49b9-980a-6dbfc09a62c0_CaVEMan                                            NaN   \n",
       "...                                                                                     ...   \n",
       "b0a32ca7-5793-4f50-97f8-8adf5254a205_CaVEMan                                            NaN   \n",
       "7bed15a4-3b1e-487e-954d-e6b55e296dc0_CaVEMan                                            NaN   \n",
       "b0218338-6d83-491f-b51d-844d209f54b3_CaVEMan                                            NaN   \n",
       "96a823e7-9a5c-4a58-a424-a051cf4f4b29_CaVEMan                                            NaN   \n",
       "9a2beddf-39e1-4ed9-8654-2ebad59e71d3_CaVEMan                                       0.079988   \n",
       "\n",
       "                                              chr18_46483547_46483626_46483557_46483558_A_G  \\\n",
       "Patient_ID                                                                                    \n",
       "3adc47fa-b27a-4df1-98ab-201ebab3c6bf_CaVEMan                                            NaN   \n",
       "67c83385-8497-4c2d-932e-9a3b9bb90ec9_CaVEMan                                            NaN   \n",
       "c6b9e176-a36b-4eb2-aa15-6a0155c1aeb5_CaVEMan                                            NaN   \n",
       "d214490c-9f1c-4228-8cbc-7c8238942041_CaVEMan                                            NaN   \n",
       "4e285b95-27ba-49b9-980a-6dbfc09a62c0_CaVEMan                                            NaN   \n",
       "...                                                                                     ...   \n",
       "b0a32ca7-5793-4f50-97f8-8adf5254a205_CaVEMan                                            NaN   \n",
       "7bed15a4-3b1e-487e-954d-e6b55e296dc0_CaVEMan                                            NaN   \n",
       "b0218338-6d83-491f-b51d-844d209f54b3_CaVEMan                                            NaN   \n",
       "96a823e7-9a5c-4a58-a424-a051cf4f4b29_CaVEMan                                            NaN   \n",
       "9a2beddf-39e1-4ed9-8654-2ebad59e71d3_CaVEMan                                       0.169611   \n",
       "\n",
       "                                              chr3_49422321_49422400_49422337_49422338_A_C  \\\n",
       "Patient_ID                                                                                   \n",
       "3adc47fa-b27a-4df1-98ab-201ebab3c6bf_CaVEMan                                           NaN   \n",
       "67c83385-8497-4c2d-932e-9a3b9bb90ec9_CaVEMan                                           NaN   \n",
       "c6b9e176-a36b-4eb2-aa15-6a0155c1aeb5_CaVEMan                                           NaN   \n",
       "d214490c-9f1c-4228-8cbc-7c8238942041_CaVEMan                                           NaN   \n",
       "4e285b95-27ba-49b9-980a-6dbfc09a62c0_CaVEMan                                           NaN   \n",
       "...                                                                                    ...   \n",
       "b0a32ca7-5793-4f50-97f8-8adf5254a205_CaVEMan                                           NaN   \n",
       "7bed15a4-3b1e-487e-954d-e6b55e296dc0_CaVEMan                                           NaN   \n",
       "b0218338-6d83-491f-b51d-844d209f54b3_CaVEMan                                           NaN   \n",
       "96a823e7-9a5c-4a58-a424-a051cf4f4b29_CaVEMan                                           NaN   \n",
       "9a2beddf-39e1-4ed9-8654-2ebad59e71d3_CaVEMan                                     -0.250582   \n",
       "\n",
       "                                              chr4_70681561_70681640_70681600_70681601_T_C  \n",
       "Patient_ID                                                                                  \n",
       "3adc47fa-b27a-4df1-98ab-201ebab3c6bf_CaVEMan                                           NaN  \n",
       "67c83385-8497-4c2d-932e-9a3b9bb90ec9_CaVEMan                                           NaN  \n",
       "c6b9e176-a36b-4eb2-aa15-6a0155c1aeb5_CaVEMan                                           NaN  \n",
       "d214490c-9f1c-4228-8cbc-7c8238942041_CaVEMan                                           NaN  \n",
       "4e285b95-27ba-49b9-980a-6dbfc09a62c0_CaVEMan                                           NaN  \n",
       "...                                                                                    ...  \n",
       "b0a32ca7-5793-4f50-97f8-8adf5254a205_CaVEMan                                           NaN  \n",
       "7bed15a4-3b1e-487e-954d-e6b55e296dc0_CaVEMan                                           NaN  \n",
       "b0218338-6d83-491f-b51d-844d209f54b3_CaVEMan                                           NaN  \n",
       "96a823e7-9a5c-4a58-a424-a051cf4f4b29_CaVEMan                                           NaN  \n",
       "9a2beddf-39e1-4ed9-8654-2ebad59e71d3_CaVEMan                                      -0.77992  \n",
       "\n",
       "[216 rows x 2937 columns]"
      ]
     },
     "execution_count": 35,
     "metadata": {},
     "output_type": "execute_result"
    }
   ],
   "source": [
    "df = pd.read_csv(file_path, sep='\\t', index_col=0)\n",
    "df = df.set_index('Patient_ID', drop=True)\n",
    "df"
   ]
  },
  {
   "cell_type": "code",
   "execution_count": 36,
   "id": "3e08f895-1cfe-4abe-b105-fceca4765bb4",
   "metadata": {},
   "outputs": [
    {
     "data": {
      "application/vnd.plotly.v1+json": {
       "config": {
        "plotlyServerURL": "https://plot.ly"
       },
       "data": [
        {
         "fill": "tozeroy",
         "fillcolor": "rgba(30,144,255,0.5)",
         "legendgroup": "Column Means",
         "marker": {
          "color": "blue",
          "line": {
           "width": 0
          }
         },
         "mode": "lines",
         "name": "Column Means",
         "showlegend": true,
         "type": "scatter",
         "x": [
          -0.9512559233410522,
          -0.9476040677432607,
          -0.9439522121454691,
          -0.9403003565476775,
          -0.9366485009498859,
          -0.9329966453520944,
          -0.9293447897543028,
          -0.9256929341565112,
          -0.9220410785587196,
          -0.9183892229609281,
          -0.9147373673631365,
          -0.9110855117653449,
          -0.9074336561675533,
          -0.9037818005697618,
          -0.9001299449719702,
          -0.8964780893741786,
          -0.892826233776387,
          -0.8891743781785955,
          -0.8855225225808039,
          -0.8818706669830123,
          -0.8782188113852207,
          -0.8745669557874292,
          -0.8709151001896376,
          -0.867263244591846,
          -0.8636113889940544,
          -0.8599595333962629,
          -0.8563076777984713,
          -0.8526558222006797,
          -0.8490039666028881,
          -0.8453521110050966,
          -0.841700255407305,
          -0.8380483998095134,
          -0.8343965442117218,
          -0.8307446886139302,
          -0.8270928330161387,
          -0.8234409774183471,
          -0.8197891218205555,
          -0.816137266222764,
          -0.8124854106249724,
          -0.8088335550271808,
          -0.8051816994293892,
          -0.8015298438315976,
          -0.7978779882338061,
          -0.7942261326360145,
          -0.7905742770382229,
          -0.7869224214404313,
          -0.7832705658426398,
          -0.7796187102448482,
          -0.7759668546470566,
          -0.772314999049265,
          -0.7686631434514735,
          -0.7650112878536819,
          -0.7613594322558903,
          -0.7577075766580987,
          -0.7540557210603072,
          -0.7504038654625156,
          -0.746752009864724,
          -0.7431001542669324,
          -0.7394482986691409,
          -0.7357964430713493,
          -0.7321445874735577,
          -0.7284927318757661,
          -0.7248408762779746,
          -0.721189020680183,
          -0.7175371650823914,
          -0.7138853094845998,
          -0.7102334538868083,
          -0.7065815982890167,
          -0.7029297426912251,
          -0.6992778870934335,
          -0.695626031495642,
          -0.6919741758978504,
          -0.6883223203000588,
          -0.6846704647022672,
          -0.6810186091044756,
          -0.6773667535066842,
          -0.6737148979088925,
          -0.6700630423111009,
          -0.6664111867133095,
          -0.6627593311155178,
          -0.6591074755177263,
          -0.6554556199199346,
          -0.651803764322143,
          -0.6481519087243516,
          -0.6445000531265599,
          -0.6408481975287684,
          -0.6371963419309767,
          -0.6335444863331852,
          -0.6298926307353937,
          -0.626240775137602,
          -0.6225889195398105,
          -0.6189370639420189,
          -0.6152852083442273,
          -0.6116333527464358,
          -0.6079814971486441,
          -0.6043296415508527,
          -0.600677785953061,
          -0.5970259303552694,
          -0.5933740747574779,
          -0.5897222191596863,
          -0.5860703635618948,
          -0.5824185079641032,
          -0.5787666523663115,
          -0.5751147967685201,
          -0.5714629411707284,
          -0.5678110855729369,
          -0.5641592299751453,
          -0.5605073743773538,
          -0.5568555187795622,
          -0.5532036631817705,
          -0.549551807583979,
          -0.5458999519861875,
          -0.5422480963883959,
          -0.5385962407906043,
          -0.5349443851928126,
          -0.5312925295950212,
          -0.5276406739972296,
          -0.523988818399438,
          -0.5203369628016464,
          -0.5166851072038549,
          -0.5130332516060633,
          -0.5093813960082717,
          -0.5057295404104801,
          -0.5020776848126886,
          -0.498425829214897,
          -0.4947739736171054,
          -0.4911221180193138,
          -0.48747026242152225,
          -0.4838184068237307,
          -0.4801665512259391,
          -0.4765146956281475,
          -0.47286284003035595,
          -0.46921098443256437,
          -0.4655591288347728,
          -0.4619072732369812,
          -0.45825541763918964,
          -0.45460356204139807,
          -0.4509517064436065,
          -0.4472998508458149,
          -0.44364799524802334,
          -0.43999613965023177,
          -0.4363442840524402,
          -0.4326924284546486,
          -0.42904057285685715,
          -0.42538871725906546,
          -0.4217368616612739,
          -0.4180850060634823,
          -0.41443315046569074,
          -0.41078129486789916,
          -0.4071294392701076,
          -0.4034775836723161,
          -0.39982572807452443,
          -0.39617387247673286,
          -0.3925220168789414,
          -0.3888701612811497,
          -0.38521830568335813,
          -0.38156645008556667,
          -0.377914594487775,
          -0.3742627388899834,
          -0.37061088329219183,
          -0.36695902769440036,
          -0.3633071720966087,
          -0.3596553164988171,
          -0.35600346090102564,
          -0.35235160530323395,
          -0.3486997497054424,
          -0.3450478941076509,
          -0.3413960385098592,
          -0.33774418291206765,
          -0.33409232731427607,
          -0.3304404717164846,
          -0.3267886161186929,
          -0.32313676052090134,
          -0.3194849049231099,
          -0.3158330493253182,
          -0.3121811937275266,
          -0.30852933812973515,
          -0.30487748253194347,
          -0.3012256269341519,
          -0.2975737713363604,
          -0.29392191573856885,
          -0.29027006014077716,
          -0.2866182045429856,
          -0.2829663489451941,
          -0.27931449334740244,
          -0.27566263774961086,
          -0.2720107821518194,
          -0.2683589265540278,
          -0.26470707095623613,
          -0.26105521535844467,
          -0.2574033597606531,
          -0.2537515041628614,
          -0.25009964856506983,
          -0.24644779296727837,
          -0.24279593736948668,
          -0.2391440817716951,
          -0.23549222617390364,
          -0.23184037057611206,
          -0.22818851497832038,
          -0.2245366593805289,
          -0.22088480378273734,
          -0.21723294818494565,
          -0.2135810925871542,
          -0.2099292369893626,
          -0.20627738139157092,
          -0.20262552579377935,
          -0.19897367019598788,
          -0.1953218145981963,
          -0.19166995900040462,
          -0.18801810340261316,
          -0.18436624780482158,
          -0.1807143922070299,
          -0.17706253660923843,
          -0.17341068101144685,
          -0.16975882541365528,
          -0.1661069698158637,
          -0.16245511421807213,
          -0.15880325862028055,
          -0.15515140302248887,
          -0.1514995474246974,
          -0.14784769182690582,
          -0.14419583622911414,
          -0.14054398063132267,
          -0.1368921250335311,
          -0.13324026943573952,
          -0.12958841383794795,
          -0.12593655824015637,
          -0.1222847026423648,
          -0.11863284704457311,
          -0.11498099144678164,
          -0.11132913584899007,
          -0.10767728025119838,
          -0.10402542465340692,
          -0.10037356905561534,
          -0.09672171345782377,
          -0.09306985786003219,
          -0.08941800226224061,
          -0.08576614666444904,
          -0.08211429106665746,
          -0.07846243546886589,
          -0.07481057987107431,
          -0.07115872427328263,
          -0.06750686867549116,
          -0.06385501307769959,
          -0.06020315747990801,
          -0.056551301882116434,
          -0.05289944628432486,
          -0.04924759068653328,
          -0.04559573508874171,
          -0.04194387949095013,
          -0.038292023893158555,
          -0.03464016829536698,
          -0.030988312697575404,
          -0.02733645709978383,
          -0.023684601501992253,
          -0.020032745904200677,
          -0.0163808903064091,
          -0.012729034708617526,
          -0.00907717911082595,
          -0.005425323513034375,
          -0.001773467915242799,
          0.0018783876825486656,
          0.005530243280340352,
          0.009182098878131928,
          0.012833954475923504,
          0.01648581007371508,
          0.020137665671506655,
          0.02378952126929823,
          0.027441376867089806,
          0.031093232464881382,
          0.03474508806267296,
          0.03839694366046442,
          0.04204879925825611,
          0.045700654856047684,
          0.04935251045383926,
          0.053004366051630836,
          0.05665622164942241,
          0.06030807724721399,
          0.06395993284500556,
          0.06761178844279714,
          0.07126364404058871,
          0.07491549963838029,
          0.07856735523617187,
          0.08221921083396344,
          0.08587106643175502,
          0.08952292202954659,
          0.09317477762733795,
          0.09682663322512974,
          0.10047848882292132,
          0.1041303444207129,
          0.10778220001850447,
          0.11143405561629605,
          0.11508591121408762,
          0.11873776681187898,
          0.12238962240967077,
          0.12604147800746235,
          0.12969333360525392,
          0.1333451892030455,
          0.13699704480083708,
          0.14064890039862843,
          0.14430075599642,
          0.1479526115942118,
          0.15160446719200338,
          0.15525632278979495,
          0.15890817838758653,
          0.1625600339853781,
          0.16621188958316946,
          0.16986374518096126,
          0.17351560077875283,
          0.1771674563765444,
          0.18081931197433598,
          0.18447116757212756,
          0.1881230231699189,
          0.1917748787677105,
          0.19542673436550229,
          0.19907858996329386,
          0.20273044556108544,
          0.206382301158877,
          0.2100341567566686,
          0.21368601235445994,
          0.21733786795225152,
          0.22098972355004332,
          0.2246415791478349,
          0.22829343474562647,
          0.23194529034341804,
          0.2355971459412094,
          0.23924900153900097,
          0.24290085713679277,
          0.24655271273458435,
          0.2502045683323759,
          0.2538564239301675,
          0.25750827952795907,
          0.2611601351257504,
          0.264811990723542,
          0.2684638463213338,
          0.2721157019191254,
          0.27576755751691695,
          0.2794194131147085,
          0.2830712687125001,
          0.28672312431029146,
          0.29037497990808303,
          0.29402683550587483,
          0.2976786911036664,
          0.301330546701458,
          0.30498240229924956,
          0.3086342578970409,
          0.3122861134948325,
          0.31593796909262406,
          0.31958982469041586,
          0.32324168028820743,
          0.326893535885999,
          0.3305453914837906,
          0.33419724708158194,
          0.3378491026793735,
          0.3415009582771653,
          0.3451528138749569,
          0.34880466947274846,
          0.35245652507054004,
          0.3561083806683314,
          0.35976023626612297,
          0.36341209186391454,
          0.36706394746170634,
          0.3707158030594979,
          0.3743676586572895,
          0.37801951425508107,
          0.3816713698528724,
          0.385323225450664,
          0.3889750810484556,
          0.39262693664624737,
          0.39627879224403895,
          0.3999306478418305,
          0.4035825034396219,
          0.40723435903741345,
          0.410886214635205,
          0.4145380702329966,
          0.4181899258307884,
          0.42184178142858,
          0.42549363702637155,
          0.4291454926241629,
          0.4327973482219545,
          0.43644920381974606,
          0.44010105941753785,
          0.44375291501532943,
          0.447404770613121,
          0.4510566262109126,
          0.45470848180870393,
          0.4583603374064955,
          0.4620121930042871,
          0.4656640486020789,
          0.46931590419987046,
          0.47296775979766204,
          0.4766196153954534,
          0.48027147099324496,
          0.48392332659103654,
          0.4875751821888281,
          0.4912270377866199,
          0.4948788933844115,
          0.49853074898220306,
          0.5021826045799944,
          0.505834460177786,
          0.5094863157755776,
          0.5131381713733691,
          0.5167900269711609,
          0.5204418825689525,
          0.5240937381667439,
          0.5277455937645354,
          0.531397449362327,
          0.5350493049601186,
          0.5387011605579104,
          0.542353016155702,
          0.5460048717534935,
          0.5496567273512849,
          0.5533085829490765,
          0.556960438546868,
          0.5606122941446596,
          0.5642641497424514,
          0.567916005340243,
          0.5715678609380344,
          0.5752197165358259,
          0.5788715721336175,
          0.5825234277314091,
          0.5861752833292007,
          0.5898271389269925,
          0.593478994524784,
          0.5971308501225754,
          0.600782705720367,
          0.6044345613181585,
          0.6080864169159501,
          0.6117382725137417,
          0.6153901281115335,
          0.6190419837093248,
          0.6226938393071164,
          0.626345694904908,
          0.6299975505026996,
          0.6336494061004911,
          0.6373012616982829,
          0.6409531172960745,
          0.6446049728938659,
          0.6482568284916574,
          0.651908684089449,
          0.6555605396872406,
          0.6592123952850322,
          0.662864250882824,
          0.6665161064806155,
          0.6701679620784069,
          0.6738198176761985,
          0.67747167327399,
          0.6811235288717816,
          0.6847753844695732,
          0.688427240067365,
          0.6920790956651564,
          0.6957309512629479,
          0.6993828068607395,
          0.7030346624585311,
          0.7066865180563227,
          0.7103383736541145,
          0.713990229251906,
          0.7176420848496974,
          0.721293940447489,
          0.7249457960452805,
          0.7285976516430721,
          0.7322495072408637,
          0.7359013628386555,
          0.7395532184364468,
          0.7432050740342384,
          0.74685692963203,
          0.7505087852298216,
          0.7541606408276131,
          0.7578124964254047,
          0.7614643520231965,
          0.7651162076209879,
          0.7687680632187794,
          0.772419918816571,
          0.7760717744143626,
          0.7797236300121542,
          0.7833754856099457,
          0.7870273412077373,
          0.7906791968055289,
          0.7943310524033205,
          0.797982908001112,
          0.8016347635989036,
          0.8052866191966952,
          0.808938474794487,
          0.8125903303922783,
          0.8162421859900699,
          0.8198940415878615,
          0.8235458971856531,
          0.8271977527834447,
          0.8308496083812362,
          0.834501463979028,
          0.8381533195768194,
          0.841805175174611,
          0.8454570307724025,
          0.8491088863701941,
          0.8527607419679857,
          0.8564125975657773,
          0.8600644531635688,
          0.8637163087613604,
          0.867368164359152,
          0.8710200199569436
         ],
         "xaxis": "x",
         "y": [
          0.009392472014740251,
          0.009929843588465912,
          0.010498301465324754,
          0.011100408654794199,
          0.011738657028497225,
          0.012415394753087398,
          0.013132751196220512,
          0.013892561547960218,
          0.01469629356748603,
          0.015544978953461658,
          0.016439151837811476,
          0.01737879681212443,
          0.0183633087122469,
          0.019391466112470876,
          0.020461420122584954,
          0.021570699649200567,
          0.022716233790905087,
          0.023894391501593667,
          0.025101038096779448,
          0.026331607614326454,
          0.027581189495137416,
          0.028844627541906646,
          0.030116628665040977,
          0.031391878552182326,
          0.03266516111655371,
          0.033931478401222674,
          0.035186167548946524,
          0.03642501149375709,
          0.03764434018956676,
          0.03884111945703607,
          0.0400130248927226,
          0.04115849873029394,
          0.04227678805532642,
          0.04336796333345061,
          0.04443291679528677,
          0.04547334080898181,
          0.04649168694072085,
          0.04749110693500471,
          0.04847537732145312,
          0.049448809757880366,
          0.050416149538268014,
          0.051382464920781495,
          0.05235303006105477,
          0.053333204369795106,
          0.054328311055704105,
          0.05534351747305089,
          0.05638371967968971,
          0.05745343334044476,
          0.058556692799215264,
          0.05969695980874578,
          0.060877043067902814,
          0.0620990293900166,
          0.06336422702829901,
          0.06467312142902411,
          0.06602534348033257,
          0.06741965018066379,
          0.06885391756818718,
          0.07032514572902444,
          0.07182947573100538,
          0.07336221840058423,
          0.07491789495926361,
          0.07649028964560327,
          0.07807251455107081,
          0.07965708697346444,
          0.08123601962189285,
          0.08280092397572662,
          0.0843431269930735,
          0.08585380117291556,
          0.08732410769496786,
          0.08874535199420983,
          0.09010915068062234,
          0.09140760820272166,
          0.09263350109543281,
          0.09378046707302658,
          0.09484319565438896,
          0.09581761647136225,
          0.09670108094273999,
          0.09749253262732231,
          0.09819266132730291,
          0.09880403592207124,
          0.09933121099051982,
          0.0997808025385892,
          0.10016152859182427,
          0.100484211035783,
          0.10076173587769187,
          0.10100897004044787,
          0.10124263385760532,
          0.10148112958214763,
          0.10174432741500937,
          0.10205331176103206,
          0.10243009158878785,
          0.1028972798656643,
          0.10347774802232643,
          0.10419426223658698,
          0.10506910898653102,
          0.10612371778333464,
          0.10737828923955642,
          0.10885143665003928,
          0.11055984905881612,
          0.11251798336272453,
          0.11473779237389543,
          0.11722849494824629,
          0.11999639331035866,
          0.12304474159598662,
          0.12637366842473918,
          0.12998015504244423,
          0.13385806927201654,
          0.13799825422021983,
          0.1423886694418027,
          0.147014581096604,
          0.15185879658124632,
          0.15690193820328555,
          0.16212274971617127,
          0.1674984289670446,
          0.17300497953949662,
          0.17861757410716936,
          0.18431092225216103,
          0.1900596357388224,
          0.19583858465645604,
          0.20162323843522356,
          0.20738998647435652,
          0.2131164339718161,
          0.21878166947749017,
          0.2243665016728743,
          0.22985366387295403,
          0.23522798571479245,
          0.24047653240814598,
          0.24558871274530839,
          0.2505563577738033,
          0.255373772605501,
          0.2600377642543729,
          0.2645476486545072,
          0.26890524010909056,
          0.2731148263655164,
          0.2771831323136372,
          0.28111927498080735,
          0.2849347120707039,
          0.28864318578801873,
          0.29226066313511545,
          0.2958052732872298,
          0.29929724207691893,
          0.30275882307157403,
          0.3062142242326181,
          0.30968952872101446,
          0.3132126080765163,
          0.3168130257595691,
          0.3205219289126831,
          0.3243719261767365,
          0.3283969494878685,
          0.3326320979804497,
          0.33711346242660245,
          0.3418779290464925,
          0.3469629620179089,
          0.3524063645888505,
          0.3582460193416871,
          0.36451960885921847,
          0.3712643187871741,
          0.3785165260576944,
          0.3863114758153865,
          0.39468295135042464,
          0.4036629420679182,
          0.4132813151833182,
          0.4235654974018152,
          0.4345401732859504,
          0.4462270073103458,
          0.4586443967167332,
          0.47180726219019464,
          0.48572688305660006,
          0.5004107831358469,
          0.5158626725674842,
          0.5320824498557934,
          0.5490662670724764,
          0.5668066596299935,
          0.585292740332626,
          0.6045104555721068,
          0.6244428996173862,
          0.6450706810196802,
          0.6663723332865478,
          0.6883247602485237,
          0.7109037050241708,
          0.7340842302572438,
          0.7578411964174016,
          0.7821497244782162,
          0.8069856292523706,
          0.8323258100972569,
          0.8581485866078976,
          0.8844339682724226,
          0.9111638488406777,
          0.9383221182937092,
          0.9658946877261173,
          0.9938694250770735,
          1.0222360023694688,
          1.0509856578349628,
          1.0801108789081184,
          1.1096050144623808,
          1.139461826738831,
          1.1696749951045937,
          1.2002375850068243,
          1.2311414962176053,
          1.2623769046745525,
          1.293931711915721,
          1.3257910153139205,
          1.357936611086735,
          1.3903465404657371,
          1.4229946875412987,
          1.4558504352592114,
          1.4888783839411124,
          1.5220381346432048,
          1.5552841377638562,
          1.588565605657475,
          1.6218264866919534,
          1.6550054972630481,
          1.6880362077913003,
          1.7208471786896282,
          1.7533621426901707,
          1.7855002307181718,
          1.8171762396328148,
          1.8483009415335083,
          1.8787814358471966,
          1.9085215469483265,
          1.9374222714889522,
          1.9653822808020298,
          1.9922984845614138,
          2.0180666622246317,
          2.042582168554462,
          2.065740718643946,
          2.0874392563163275,
          2.1075769075311097,
          2.1260560175302294,
          2.142783266972811,
          2.157670858337807,
          2.1706377595611577,
          2.1816109873879794,
          2.1905269084562162,
          2.197332531898074,
          2.201986763471582,
          2.204461588137116,
          2.204743145782486,
          2.202832663663441,
          2.1987472092214553,
          2.1925202283812393,
          2.1842018372847516,
          2.173858839694161,
          2.1615744479439067,
          2.147447692228403,
          2.1315925110019793,
          2.114136524109126,
          2.095219499672639,
          2.0749915354194988,
          2.053610984665063,
          2.031242166235609,
          2.0080529058181185,
          1.9842119632317623,
          1.959886405598898,
          1.9352389900838065,
          1.9104256215576154,
          1.8855929501050663,
          1.8608761706623362,
          1.836397082303405,
          1.8122624579007516,
          1.7885627662861499,
          1.7653712789172844,
          1.7427435817703834,
          1.720717501134684,
          1.699313439620841,
          1.6785351064682894,
          1.658370614595864,
          1.638793906212297,
          1.6197664595704993,
          1.601239221936185,
          1.5831547082975506,
          1.5654492019363686,
          1.5480549917921507,
          1.530902582568893,
          1.51392281666097,
          1.4970488520326168,
          1.4802179469246433,
          1.4633730103765017,
          1.4464638866927009,
          1.4294483517751326,
          1.4122928093040763,
          1.3949726847051158,
          1.3774725243341979,
          1.359785816033371,
          1.3419145548870348,
          1.3238685844308116,
          1.3056647485815964,
          1.287325893080456,
          1.2688797572450643,
          1.2503577973496125,
          1.2317939820758061,
          1.2132235983425457,
          1.1946821025948446,
          1.1762040485132803,
          1.157822117308673,
          1.1395662715154549,
          1.1214630477121617,
          1.1035349980884455,
          1.085800285437312,
          1.0682724311478826,
          1.0509602112487775,
          1.0338676916154201,
          1.0169943901845748,
          1.0003355514623236,
          0.9838825167831811,
          0.9676231726651926,
          0.9515424591704315,
          0.9356229203631866,
          0.919845279682693,
          0.904189024224451,
          0.8886329834578898,
          0.8731558896979879,
          0.8577369095960288,
          0.8423561379263054,
          0.8269950469357232,
          0.8116368864183735,
          0.7962670314159851,
          0.780873275982467,
          0.7654460727555236,
          0.7499787191358721,
          0.7344674916841392,
          0.7189117309198858,
          0.7033138790700473,
          0.6876794734983268,
          0.6720170985910735,
          0.6563382988212971,
          0.6406574556025325,
          0.6249916304187783,
          0.6093603766101974,
          0.5937855221356921,
          0.5782909256424711,
          0.5629022082606945,
          0.5476464637096601,
          0.5325519495437206,
          0.5176477626659041,
          0.5029635025734076,
          0.48852892614561516,
          0.47437359811335333,
          0.46052654162887924,
          0.4470158935628979,
          0.4338685692646416,
          0.4211099415167225,
          0.40876353828741757,
          0.3968507636264661,
          0.3853906456710324,
          0.3743996152379845,
          0.36389131789543616,
          0.3538764617536081,
          0.3443627025190584,
          0.3353545666452092,
          0.3268534127134375,
          0.3188574305184202,
          0.31136167673064513,
          0.30435814548507656,
          0.29783587180904125,
          0.2917810654596106,
          0.2861772724902985,
          0.281005561702347,
          0.2762447330463597,
          0.2718715450112673,
          0.26786095805326515,
          0.26418639116070836,
          0.260819988706013,
          0.25773289478884753,
          0.25489553231581324,
          0.25227788408413654,
          0.24984977313864185,
          0.24758113965499928,
          0.24544231157459284,
          0.2434042661874218,
          0.24143887984188364,
          0.2395191629681581,
          0.23761947764942168,
          0.23571573507555554,
          0.2337855703783204,
          0.23180849258309244,
          0.22976600772402692,
          0.22764171355648796,
          0.22542136475759667,
          0.22309290802320417,
          0.22064648703379966,
          0.21807441785574203,
          0.21537113594814358,
          0.21253311653870507,
          0.20955877069229656,
          0.20644831990351514,
          0.20320365247982203,
          0.19982816532918654,
          0.19632659501270516,
          0.19270484205996388,
          0.1889697925687603,
          0.18512914102158112,
          0.1811912180535355,
          0.1771648266089541,
          0.173059089538633,
          0.1688833112315686,
          0.16464685536085485,
          0.16035904027125855,
          0.15602905296431155,
          0.15166588206367967,
          0.1472782695862022,
          0.14287468081785687,
          0.1384632911125077,
          0.13405198800590049,
          0.12964838667668116,
          0.1252598564965892,
          0.12089355619724078,
          0.11655647504274926,
          0.11225547733548255,
          0.10799734759444386,
          0.10378883382854834,
          0.0996366864757524,
          0.09554769078790333,
          0.09152869070389984,
          0.08758660256326836,
          0.08372841736105062,
          0.07996119062497743,
          0.07629201939887624,
          0.07272800623333647,
          0.06927621050661305,
          0.06594358781602588,
          0.06273691858285234,
          0.05966272739185687,
          0.056727194930086336,
          0.05393606468855328,
          0.05129454683557252,
          0.04880722185329925,
          0.04647794664210082,
          0.04430976583503954,
          0.04230483102306893,
          0.04046433046897315,
          0.03878843168546823,
          0.03727623897380576,
          0.035925767669914836,
          0.034733936434560346,
          0.03369657846355496,
          0.03280847199735489,
          0.03206338999166117,
          0.031454168288453266,
          0.030972791117237806,
          0.03061049227615567,
          0.030357869908106405,
          0.030205012412890756,
          0.030141632735116414,
          0.0301572080491992,
          0.030241121734093282,
          0.030382804494924122,
          0.030571871546513342,
          0.030798252921455924,
          0.0310523141962389,
          0.03132496523324673,
          0.031607754902276596,
          0.031892950158376294,
          0.032173598298162596,
          0.032443571678442036,
          0.03269759464322884,
          0.03293125285320008,
          0.03314098563168245,
          0.033324062321731365,
          0.03347854398030549,
          0.0336032320110305,
          0.03369760555228435,
          0.03376174959063774,
          0.03379627586181614,
          0.03380223863528823,
          0.033781047459149005,
          0.03373437887539452,
          0.03366408900919021,
          0.03357212879701335,
          0.03346046345534508,
          0.03333099761126797,
          0.033185507325548994,
          0.03302558004323404,
          0.032852563310987744,
          0.0326675229077,
          0.03247121084738825,
          0.0322640435322125,
          0.032046090158680034,
          0.03181707131140384,
          0.031576367515317394,
          0.031323037358214886,
          0.031055844640317375,
          0.030773293856199833,
          0.03047367316750722,
          0.030155103883937374,
          0.02981559533736981,
          0.029453103913020532,
          0.02906559489608909,
          0.028651105707040925,
          0.028207809038188078,
          0.027734074373276543,
          0.027228526374596898,
          0.026690098662167615,
          0.02611808158911407,
          0.025512162737401506,
          0.02487245901784313,
          0.024199539455311263,
          0.023494437970043455,
          0.02275865572285952,
          0.021994152868461046
         ],
         "yaxis": "y"
        },
        {
         "line": {
          "color": "red",
          "dash": "dot",
          "width": 2
         },
         "mode": "lines",
         "name": "μ",
         "showlegend": false,
         "type": "scatter",
         "x": [
          -0.048696625155677555,
          -0.048696625155677555
         ],
         "y": [
          0,
          2.425217460360735
         ]
        },
        {
         "line": {
          "color": "green",
          "dash": "dot",
          "width": 2
         },
         "mode": "lines",
         "name": "μ - 1*σ",
         "showlegend": false,
         "type": "scatter",
         "x": [
          -0.286109791485845,
          -0.286109791485845
         ],
         "y": [
          0,
          2.425217460360735
         ]
        },
        {
         "line": {
          "color": "green",
          "dash": "dot",
          "width": 2
         },
         "mode": "lines",
         "name": "μ + 1*σ",
         "showlegend": false,
         "type": "scatter",
         "x": [
          0.18871654117448988,
          0.18871654117448988
         ],
         "y": [
          0,
          2.425217460360735
         ]
        },
        {
         "line": {
          "color": "blue",
          "dash": "dot",
          "width": 2
         },
         "mode": "lines",
         "name": "μ - 2*σ",
         "showlegend": false,
         "type": "scatter",
         "x": [
          -0.5235229578160124,
          -0.5235229578160124
         ],
         "y": [
          0,
          2.425217460360735
         ]
        },
        {
         "line": {
          "color": "blue",
          "dash": "dot",
          "width": 2
         },
         "mode": "lines",
         "name": "μ + 2*σ",
         "showlegend": false,
         "type": "scatter",
         "x": [
          0.4261297075046573,
          0.4261297075046573
         ],
         "y": [
          0,
          2.425217460360735
         ]
        },
        {
         "line": {
          "color": "purple",
          "dash": "dot",
          "width": 2
         },
         "mode": "lines",
         "name": "μ - 3*σ",
         "showlegend": false,
         "type": "scatter",
         "x": [
          -0.7609361241461798,
          -0.7609361241461798
         ],
         "y": [
          0,
          2.425217460360735
         ]
        },
        {
         "line": {
          "color": "purple",
          "dash": "dot",
          "width": 2
         },
         "mode": "lines",
         "name": "μ + 3*σ",
         "showlegend": false,
         "type": "scatter",
         "x": [
          0.6635428738348248,
          0.6635428738348248
         ],
         "y": [
          0,
          2.425217460360735
         ]
        }
       ],
       "layout": {
        "annotations": [
         {
          "font": {
           "color": "red"
          },
          "showarrow": false,
          "text": "μ",
          "x": -0.048696625155677555,
          "xshift": 0,
          "y": 0,
          "yshift": -20
         },
         {
          "font": {
           "color": "green"
          },
          "showarrow": false,
          "text": "μ - 1*σ",
          "x": -0.286109791485845,
          "xshift": 0,
          "y": 0,
          "yshift": -20
         },
         {
          "font": {
           "color": "green"
          },
          "showarrow": false,
          "text": "μ + 1*σ",
          "x": 0.18871654117448988,
          "xshift": 0,
          "y": 0,
          "yshift": -20
         },
         {
          "font": {
           "color": "blue"
          },
          "showarrow": false,
          "text": "μ - 2*σ",
          "x": -0.5235229578160124,
          "xshift": 0,
          "y": 0,
          "yshift": -20
         },
         {
          "font": {
           "color": "blue"
          },
          "showarrow": false,
          "text": "μ + 2*σ",
          "x": 0.4261297075046573,
          "xshift": 0,
          "y": 0,
          "yshift": -20
         },
         {
          "font": {
           "color": "purple"
          },
          "showarrow": false,
          "text": "μ - 3*σ",
          "x": -0.7609361241461798,
          "xshift": 0,
          "y": 0,
          "yshift": -20
         },
         {
          "font": {
           "color": "purple"
          },
          "showarrow": false,
          "text": "μ + 3*σ",
          "x": 0.6635428738348248,
          "xshift": 0,
          "y": 0,
          "yshift": -20
         }
        ],
        "autosize": true,
        "barmode": "overlay",
        "hovermode": "closest",
        "legend": {
         "title": {
          "text": "Legend"
         },
         "traceorder": "reversed"
        },
        "template": {
         "data": {
          "bar": [
           {
            "error_x": {
             "color": "#2a3f5f"
            },
            "error_y": {
             "color": "#2a3f5f"
            },
            "marker": {
             "line": {
              "color": "#E5ECF6",
              "width": 0.5
             },
             "pattern": {
              "fillmode": "overlay",
              "size": 10,
              "solidity": 0.2
             }
            },
            "type": "bar"
           }
          ],
          "barpolar": [
           {
            "marker": {
             "line": {
              "color": "#E5ECF6",
              "width": 0.5
             },
             "pattern": {
              "fillmode": "overlay",
              "size": 10,
              "solidity": 0.2
             }
            },
            "type": "barpolar"
           }
          ],
          "carpet": [
           {
            "aaxis": {
             "endlinecolor": "#2a3f5f",
             "gridcolor": "white",
             "linecolor": "white",
             "minorgridcolor": "white",
             "startlinecolor": "#2a3f5f"
            },
            "baxis": {
             "endlinecolor": "#2a3f5f",
             "gridcolor": "white",
             "linecolor": "white",
             "minorgridcolor": "white",
             "startlinecolor": "#2a3f5f"
            },
            "type": "carpet"
           }
          ],
          "choropleth": [
           {
            "colorbar": {
             "outlinewidth": 0,
             "ticks": ""
            },
            "type": "choropleth"
           }
          ],
          "contour": [
           {
            "colorbar": {
             "outlinewidth": 0,
             "ticks": ""
            },
            "colorscale": [
             [
              0,
              "#0d0887"
             ],
             [
              0.1111111111111111,
              "#46039f"
             ],
             [
              0.2222222222222222,
              "#7201a8"
             ],
             [
              0.3333333333333333,
              "#9c179e"
             ],
             [
              0.4444444444444444,
              "#bd3786"
             ],
             [
              0.5555555555555556,
              "#d8576b"
             ],
             [
              0.6666666666666666,
              "#ed7953"
             ],
             [
              0.7777777777777778,
              "#fb9f3a"
             ],
             [
              0.8888888888888888,
              "#fdca26"
             ],
             [
              1,
              "#f0f921"
             ]
            ],
            "type": "contour"
           }
          ],
          "contourcarpet": [
           {
            "colorbar": {
             "outlinewidth": 0,
             "ticks": ""
            },
            "type": "contourcarpet"
           }
          ],
          "heatmap": [
           {
            "colorbar": {
             "outlinewidth": 0,
             "ticks": ""
            },
            "colorscale": [
             [
              0,
              "#0d0887"
             ],
             [
              0.1111111111111111,
              "#46039f"
             ],
             [
              0.2222222222222222,
              "#7201a8"
             ],
             [
              0.3333333333333333,
              "#9c179e"
             ],
             [
              0.4444444444444444,
              "#bd3786"
             ],
             [
              0.5555555555555556,
              "#d8576b"
             ],
             [
              0.6666666666666666,
              "#ed7953"
             ],
             [
              0.7777777777777778,
              "#fb9f3a"
             ],
             [
              0.8888888888888888,
              "#fdca26"
             ],
             [
              1,
              "#f0f921"
             ]
            ],
            "type": "heatmap"
           }
          ],
          "heatmapgl": [
           {
            "colorbar": {
             "outlinewidth": 0,
             "ticks": ""
            },
            "colorscale": [
             [
              0,
              "#0d0887"
             ],
             [
              0.1111111111111111,
              "#46039f"
             ],
             [
              0.2222222222222222,
              "#7201a8"
             ],
             [
              0.3333333333333333,
              "#9c179e"
             ],
             [
              0.4444444444444444,
              "#bd3786"
             ],
             [
              0.5555555555555556,
              "#d8576b"
             ],
             [
              0.6666666666666666,
              "#ed7953"
             ],
             [
              0.7777777777777778,
              "#fb9f3a"
             ],
             [
              0.8888888888888888,
              "#fdca26"
             ],
             [
              1,
              "#f0f921"
             ]
            ],
            "type": "heatmapgl"
           }
          ],
          "histogram": [
           {
            "marker": {
             "pattern": {
              "fillmode": "overlay",
              "size": 10,
              "solidity": 0.2
             }
            },
            "type": "histogram"
           }
          ],
          "histogram2d": [
           {
            "colorbar": {
             "outlinewidth": 0,
             "ticks": ""
            },
            "colorscale": [
             [
              0,
              "#0d0887"
             ],
             [
              0.1111111111111111,
              "#46039f"
             ],
             [
              0.2222222222222222,
              "#7201a8"
             ],
             [
              0.3333333333333333,
              "#9c179e"
             ],
             [
              0.4444444444444444,
              "#bd3786"
             ],
             [
              0.5555555555555556,
              "#d8576b"
             ],
             [
              0.6666666666666666,
              "#ed7953"
             ],
             [
              0.7777777777777778,
              "#fb9f3a"
             ],
             [
              0.8888888888888888,
              "#fdca26"
             ],
             [
              1,
              "#f0f921"
             ]
            ],
            "type": "histogram2d"
           }
          ],
          "histogram2dcontour": [
           {
            "colorbar": {
             "outlinewidth": 0,
             "ticks": ""
            },
            "colorscale": [
             [
              0,
              "#0d0887"
             ],
             [
              0.1111111111111111,
              "#46039f"
             ],
             [
              0.2222222222222222,
              "#7201a8"
             ],
             [
              0.3333333333333333,
              "#9c179e"
             ],
             [
              0.4444444444444444,
              "#bd3786"
             ],
             [
              0.5555555555555556,
              "#d8576b"
             ],
             [
              0.6666666666666666,
              "#ed7953"
             ],
             [
              0.7777777777777778,
              "#fb9f3a"
             ],
             [
              0.8888888888888888,
              "#fdca26"
             ],
             [
              1,
              "#f0f921"
             ]
            ],
            "type": "histogram2dcontour"
           }
          ],
          "mesh3d": [
           {
            "colorbar": {
             "outlinewidth": 0,
             "ticks": ""
            },
            "type": "mesh3d"
           }
          ],
          "parcoords": [
           {
            "line": {
             "colorbar": {
              "outlinewidth": 0,
              "ticks": ""
             }
            },
            "type": "parcoords"
           }
          ],
          "pie": [
           {
            "automargin": true,
            "type": "pie"
           }
          ],
          "scatter": [
           {
            "fillpattern": {
             "fillmode": "overlay",
             "size": 10,
             "solidity": 0.2
            },
            "type": "scatter"
           }
          ],
          "scatter3d": [
           {
            "line": {
             "colorbar": {
              "outlinewidth": 0,
              "ticks": ""
             }
            },
            "marker": {
             "colorbar": {
              "outlinewidth": 0,
              "ticks": ""
             }
            },
            "type": "scatter3d"
           }
          ],
          "scattercarpet": [
           {
            "marker": {
             "colorbar": {
              "outlinewidth": 0,
              "ticks": ""
             }
            },
            "type": "scattercarpet"
           }
          ],
          "scattergeo": [
           {
            "marker": {
             "colorbar": {
              "outlinewidth": 0,
              "ticks": ""
             }
            },
            "type": "scattergeo"
           }
          ],
          "scattergl": [
           {
            "marker": {
             "colorbar": {
              "outlinewidth": 0,
              "ticks": ""
             }
            },
            "type": "scattergl"
           }
          ],
          "scattermapbox": [
           {
            "marker": {
             "colorbar": {
              "outlinewidth": 0,
              "ticks": ""
             }
            },
            "type": "scattermapbox"
           }
          ],
          "scatterpolar": [
           {
            "marker": {
             "colorbar": {
              "outlinewidth": 0,
              "ticks": ""
             }
            },
            "type": "scatterpolar"
           }
          ],
          "scatterpolargl": [
           {
            "marker": {
             "colorbar": {
              "outlinewidth": 0,
              "ticks": ""
             }
            },
            "type": "scatterpolargl"
           }
          ],
          "scatterternary": [
           {
            "marker": {
             "colorbar": {
              "outlinewidth": 0,
              "ticks": ""
             }
            },
            "type": "scatterternary"
           }
          ],
          "surface": [
           {
            "colorbar": {
             "outlinewidth": 0,
             "ticks": ""
            },
            "colorscale": [
             [
              0,
              "#0d0887"
             ],
             [
              0.1111111111111111,
              "#46039f"
             ],
             [
              0.2222222222222222,
              "#7201a8"
             ],
             [
              0.3333333333333333,
              "#9c179e"
             ],
             [
              0.4444444444444444,
              "#bd3786"
             ],
             [
              0.5555555555555556,
              "#d8576b"
             ],
             [
              0.6666666666666666,
              "#ed7953"
             ],
             [
              0.7777777777777778,
              "#fb9f3a"
             ],
             [
              0.8888888888888888,
              "#fdca26"
             ],
             [
              1,
              "#f0f921"
             ]
            ],
            "type": "surface"
           }
          ],
          "table": [
           {
            "cells": {
             "fill": {
              "color": "#EBF0F8"
             },
             "line": {
              "color": "white"
             }
            },
            "header": {
             "fill": {
              "color": "#C8D4E3"
             },
             "line": {
              "color": "white"
             }
            },
            "type": "table"
           }
          ]
         },
         "layout": {
          "annotationdefaults": {
           "arrowcolor": "#2a3f5f",
           "arrowhead": 0,
           "arrowwidth": 1
          },
          "autotypenumbers": "strict",
          "coloraxis": {
           "colorbar": {
            "outlinewidth": 0,
            "ticks": ""
           }
          },
          "colorscale": {
           "diverging": [
            [
             0,
             "#8e0152"
            ],
            [
             0.1,
             "#c51b7d"
            ],
            [
             0.2,
             "#de77ae"
            ],
            [
             0.3,
             "#f1b6da"
            ],
            [
             0.4,
             "#fde0ef"
            ],
            [
             0.5,
             "#f7f7f7"
            ],
            [
             0.6,
             "#e6f5d0"
            ],
            [
             0.7,
             "#b8e186"
            ],
            [
             0.8,
             "#7fbc41"
            ],
            [
             0.9,
             "#4d9221"
            ],
            [
             1,
             "#276419"
            ]
           ],
           "sequential": [
            [
             0,
             "#0d0887"
            ],
            [
             0.1111111111111111,
             "#46039f"
            ],
            [
             0.2222222222222222,
             "#7201a8"
            ],
            [
             0.3333333333333333,
             "#9c179e"
            ],
            [
             0.4444444444444444,
             "#bd3786"
            ],
            [
             0.5555555555555556,
             "#d8576b"
            ],
            [
             0.6666666666666666,
             "#ed7953"
            ],
            [
             0.7777777777777778,
             "#fb9f3a"
            ],
            [
             0.8888888888888888,
             "#fdca26"
            ],
            [
             1,
             "#f0f921"
            ]
           ],
           "sequentialminus": [
            [
             0,
             "#0d0887"
            ],
            [
             0.1111111111111111,
             "#46039f"
            ],
            [
             0.2222222222222222,
             "#7201a8"
            ],
            [
             0.3333333333333333,
             "#9c179e"
            ],
            [
             0.4444444444444444,
             "#bd3786"
            ],
            [
             0.5555555555555556,
             "#d8576b"
            ],
            [
             0.6666666666666666,
             "#ed7953"
            ],
            [
             0.7777777777777778,
             "#fb9f3a"
            ],
            [
             0.8888888888888888,
             "#fdca26"
            ],
            [
             1,
             "#f0f921"
            ]
           ]
          },
          "colorway": [
           "#636efa",
           "#EF553B",
           "#00cc96",
           "#ab63fa",
           "#FFA15A",
           "#19d3f3",
           "#FF6692",
           "#B6E880",
           "#FF97FF",
           "#FECB52"
          ],
          "font": {
           "color": "#2a3f5f"
          },
          "geo": {
           "bgcolor": "white",
           "lakecolor": "white",
           "landcolor": "#E5ECF6",
           "showlakes": true,
           "showland": true,
           "subunitcolor": "white"
          },
          "hoverlabel": {
           "align": "left"
          },
          "hovermode": "closest",
          "mapbox": {
           "style": "light"
          },
          "paper_bgcolor": "white",
          "plot_bgcolor": "#E5ECF6",
          "polar": {
           "angularaxis": {
            "gridcolor": "white",
            "linecolor": "white",
            "ticks": ""
           },
           "bgcolor": "#E5ECF6",
           "radialaxis": {
            "gridcolor": "white",
            "linecolor": "white",
            "ticks": ""
           }
          },
          "scene": {
           "xaxis": {
            "backgroundcolor": "#E5ECF6",
            "gridcolor": "white",
            "gridwidth": 2,
            "linecolor": "white",
            "showbackground": true,
            "ticks": "",
            "zerolinecolor": "white"
           },
           "yaxis": {
            "backgroundcolor": "#E5ECF6",
            "gridcolor": "white",
            "gridwidth": 2,
            "linecolor": "white",
            "showbackground": true,
            "ticks": "",
            "zerolinecolor": "white"
           },
           "zaxis": {
            "backgroundcolor": "#E5ECF6",
            "gridcolor": "white",
            "gridwidth": 2,
            "linecolor": "white",
            "showbackground": true,
            "ticks": "",
            "zerolinecolor": "white"
           }
          },
          "shapedefaults": {
           "line": {
            "color": "#2a3f5f"
           }
          },
          "ternary": {
           "aaxis": {
            "gridcolor": "white",
            "linecolor": "white",
            "ticks": ""
           },
           "baxis": {
            "gridcolor": "white",
            "linecolor": "white",
            "ticks": ""
           },
           "bgcolor": "#E5ECF6",
           "caxis": {
            "gridcolor": "white",
            "linecolor": "white",
            "ticks": ""
           }
          },
          "title": {
           "x": 0.05
          },
          "xaxis": {
           "automargin": true,
           "gridcolor": "white",
           "linecolor": "white",
           "ticks": "",
           "title": {
            "standoff": 15
           },
           "zerolinecolor": "white",
           "zerolinewidth": 2
          },
          "yaxis": {
           "automargin": true,
           "gridcolor": "white",
           "linecolor": "white",
           "ticks": "",
           "title": {
            "standoff": 15
           },
           "zerolinecolor": "white",
           "zerolinewidth": 2
          }
         }
        },
        "title": {
         "text": "KDE Plot of Column Means with Statistical Lines"
        },
        "xaxis": {
         "anchor": "y2",
         "autorange": true,
         "domain": [
          0,
          1
         ],
         "range": [
          -0.9512559233410522,
          0.8710200199569436
         ],
         "showgrid": false,
         "title": {
          "text": "Mean Value"
         },
         "type": "linear",
         "zeroline": false
        },
        "yaxis": {
         "anchor": "free",
         "autorange": true,
         "domain": [
          0,
          1
         ],
         "position": 0,
         "range": [
          -0.5056107072836868,
          2.5794715744472834
         ],
         "showgrid": false,
         "title": {
          "text": "Density"
         },
         "type": "linear"
        }
       }
      },
      "image/png": "[encoded data removed]",
      "text/html": [
       "<div>                            <div id=\"633aa9cc-b5b8-467f-a2fa-5d060640de23\" class=\"plotly-graph-div\" style=\"height:525px; width:100%;\"></div>            <script type=\"text/javascript\">                require([\"plotly\"], function(Plotly) {                    window.PLOTLYENV=window.PLOTLYENV || {};                                    if (document.getElementById(\"633aa9cc-b5b8-467f-a2fa-5d060640de23\")) {                    Plotly.newPlot(                        \"633aa9cc-b5b8-467f-a2fa-5d060640de23\",                        [{\"legendgroup\":\"Column Means\",\"marker\":{\"color\":\"blue\",\"line\":{\"width\":0}},\"mode\":\"lines\",\"name\":\"Column Means\",\"showlegend\":true,\"x\":[-0.9512559233410522,-0.9476040677432607,-0.9439522121454691,-0.9403003565476775,-0.9366485009498859,-0.9329966453520944,-0.9293447897543028,-0.9256929341565112,-0.9220410785587196,-0.9183892229609281,-0.9147373673631365,-0.9110855117653449,-0.9074336561675533,-0.9037818005697618,-0.9001299449719702,-0.8964780893741786,-0.892826233776387,-0.8891743781785955,-0.8855225225808039,-0.8818706669830123,-0.8782188113852207,-0.8745669557874292,-0.8709151001896376,-0.867263244591846,-0.8636113889940544,-0.8599595333962629,-0.8563076777984713,-0.8526558222006797,-0.8490039666028881,-0.8453521110050966,-0.841700255407305,-0.8380483998095134,-0.8343965442117218,-0.8307446886139302,-0.8270928330161387,-0.8234409774183471,-0.8197891218205555,-0.816137266222764,-0.8124854106249724,-0.8088335550271808,-0.8051816994293892,-0.8015298438315976,-0.7978779882338061,-0.7942261326360145,-0.7905742770382229,-0.7869224214404313,-0.7832705658426398,-0.7796187102448482,-0.7759668546470566,-0.772314999049265,-0.7686631434514735,-0.7650112878536819,-0.7613594322558903,-0.7577075766580987,-0.7540557210603072,-0.7504038654625156,-0.746752009864724,-0.7431001542669324,-0.7394482986691409,-0.7357964430713493,-0.7321445874735577,-0.7284927318757661,-0.7248408762779746,-0.721189020680183,-0.7175371650823914,-0.7138853094845998,-0.7102334538868083,-0.7065815982890167,-0.7029297426912251,-0.6992778870934335,-0.695626031495642,-0.6919741758978504,-0.6883223203000588,-0.6846704647022672,-0.6810186091044756,-0.6773667535066842,-0.6737148979088925,-0.6700630423111009,-0.6664111867133095,-0.6627593311155178,-0.6591074755177263,-0.6554556199199346,-0.651803764322143,-0.6481519087243516,-0.6445000531265599,-0.6408481975287684,-0.6371963419309767,-0.6335444863331852,-0.6298926307353937,-0.626240775137602,-0.6225889195398105,-0.6189370639420189,-0.6152852083442273,-0.6116333527464358,-0.6079814971486441,-0.6043296415508527,-0.600677785953061,-0.5970259303552694,-0.5933740747574779,-0.5897222191596863,-0.5860703635618948,-0.5824185079641032,-0.5787666523663115,-0.5751147967685201,-0.5714629411707284,-0.5678110855729369,-0.5641592299751453,-0.5605073743773538,-0.5568555187795622,-0.5532036631817705,-0.549551807583979,-0.5458999519861875,-0.5422480963883959,-0.5385962407906043,-0.5349443851928126,-0.5312925295950212,-0.5276406739972296,-0.523988818399438,-0.5203369628016464,-0.5166851072038549,-0.5130332516060633,-0.5093813960082717,-0.5057295404104801,-0.5020776848126886,-0.498425829214897,-0.4947739736171054,-0.4911221180193138,-0.48747026242152225,-0.4838184068237307,-0.4801665512259391,-0.4765146956281475,-0.47286284003035595,-0.46921098443256437,-0.4655591288347728,-0.4619072732369812,-0.45825541763918964,-0.45460356204139807,-0.4509517064436065,-0.4472998508458149,-0.44364799524802334,-0.43999613965023177,-0.4363442840524402,-0.4326924284546486,-0.42904057285685715,-0.42538871725906546,-0.4217368616612739,-0.4180850060634823,-0.41443315046569074,-0.41078129486789916,-0.4071294392701076,-0.4034775836723161,-0.39982572807452443,-0.39617387247673286,-0.3925220168789414,-0.3888701612811497,-0.38521830568335813,-0.38156645008556667,-0.377914594487775,-0.3742627388899834,-0.37061088329219183,-0.36695902769440036,-0.3633071720966087,-0.3596553164988171,-0.35600346090102564,-0.35235160530323395,-0.3486997497054424,-0.3450478941076509,-0.3413960385098592,-0.33774418291206765,-0.33409232731427607,-0.3304404717164846,-0.3267886161186929,-0.32313676052090134,-0.3194849049231099,-0.3158330493253182,-0.3121811937275266,-0.30852933812973515,-0.30487748253194347,-0.3012256269341519,-0.2975737713363604,-0.29392191573856885,-0.29027006014077716,-0.2866182045429856,-0.2829663489451941,-0.27931449334740244,-0.27566263774961086,-0.2720107821518194,-0.2683589265540278,-0.26470707095623613,-0.26105521535844467,-0.2574033597606531,-0.2537515041628614,-0.25009964856506983,-0.24644779296727837,-0.24279593736948668,-0.2391440817716951,-0.23549222617390364,-0.23184037057611206,-0.22818851497832038,-0.2245366593805289,-0.22088480378273734,-0.21723294818494565,-0.2135810925871542,-0.2099292369893626,-0.20627738139157092,-0.20262552579377935,-0.19897367019598788,-0.1953218145981963,-0.19166995900040462,-0.18801810340261316,-0.18436624780482158,-0.1807143922070299,-0.17706253660923843,-0.17341068101144685,-0.16975882541365528,-0.1661069698158637,-0.16245511421807213,-0.15880325862028055,-0.15515140302248887,-0.1514995474246974,-0.14784769182690582,-0.14419583622911414,-0.14054398063132267,-0.1368921250335311,-0.13324026943573952,-0.12958841383794795,-0.12593655824015637,-0.1222847026423648,-0.11863284704457311,-0.11498099144678164,-0.11132913584899007,-0.10767728025119838,-0.10402542465340692,-0.10037356905561534,-0.09672171345782377,-0.09306985786003219,-0.08941800226224061,-0.08576614666444904,-0.08211429106665746,-0.07846243546886589,-0.07481057987107431,-0.07115872427328263,-0.06750686867549116,-0.06385501307769959,-0.06020315747990801,-0.056551301882116434,-0.05289944628432486,-0.04924759068653328,-0.04559573508874171,-0.04194387949095013,-0.038292023893158555,-0.03464016829536698,-0.030988312697575404,-0.02733645709978383,-0.023684601501992253,-0.020032745904200677,-0.0163808903064091,-0.012729034708617526,-0.00907717911082595,-0.005425323513034375,-0.001773467915242799,0.0018783876825486656,0.005530243280340352,0.009182098878131928,0.012833954475923504,0.01648581007371508,0.020137665671506655,0.02378952126929823,0.027441376867089806,0.031093232464881382,0.03474508806267296,0.03839694366046442,0.04204879925825611,0.045700654856047684,0.04935251045383926,0.053004366051630836,0.05665622164942241,0.06030807724721399,0.06395993284500556,0.06761178844279714,0.07126364404058871,0.07491549963838029,0.07856735523617187,0.08221921083396344,0.08587106643175502,0.08952292202954659,0.09317477762733795,0.09682663322512974,0.10047848882292132,0.1041303444207129,0.10778220001850447,0.11143405561629605,0.11508591121408762,0.11873776681187898,0.12238962240967077,0.12604147800746235,0.12969333360525392,0.1333451892030455,0.13699704480083708,0.14064890039862843,0.14430075599642,0.1479526115942118,0.15160446719200338,0.15525632278979495,0.15890817838758653,0.1625600339853781,0.16621188958316946,0.16986374518096126,0.17351560077875283,0.1771674563765444,0.18081931197433598,0.18447116757212756,0.1881230231699189,0.1917748787677105,0.19542673436550229,0.19907858996329386,0.20273044556108544,0.206382301158877,0.2100341567566686,0.21368601235445994,0.21733786795225152,0.22098972355004332,0.2246415791478349,0.22829343474562647,0.23194529034341804,0.2355971459412094,0.23924900153900097,0.24290085713679277,0.24655271273458435,0.2502045683323759,0.2538564239301675,0.25750827952795907,0.2611601351257504,0.264811990723542,0.2684638463213338,0.2721157019191254,0.27576755751691695,0.2794194131147085,0.2830712687125001,0.28672312431029146,0.29037497990808303,0.29402683550587483,0.2976786911036664,0.301330546701458,0.30498240229924956,0.3086342578970409,0.3122861134948325,0.31593796909262406,0.31958982469041586,0.32324168028820743,0.326893535885999,0.3305453914837906,0.33419724708158194,0.3378491026793735,0.3415009582771653,0.3451528138749569,0.34880466947274846,0.35245652507054004,0.3561083806683314,0.35976023626612297,0.36341209186391454,0.36706394746170634,0.3707158030594979,0.3743676586572895,0.37801951425508107,0.3816713698528724,0.385323225450664,0.3889750810484556,0.39262693664624737,0.39627879224403895,0.3999306478418305,0.4035825034396219,0.40723435903741345,0.410886214635205,0.4145380702329966,0.4181899258307884,0.42184178142858,0.42549363702637155,0.4291454926241629,0.4327973482219545,0.43644920381974606,0.44010105941753785,0.44375291501532943,0.447404770613121,0.4510566262109126,0.45470848180870393,0.4583603374064955,0.4620121930042871,0.4656640486020789,0.46931590419987046,0.47296775979766204,0.4766196153954534,0.48027147099324496,0.48392332659103654,0.4875751821888281,0.4912270377866199,0.4948788933844115,0.49853074898220306,0.5021826045799944,0.505834460177786,0.5094863157755776,0.5131381713733691,0.5167900269711609,0.5204418825689525,0.5240937381667439,0.5277455937645354,0.531397449362327,0.5350493049601186,0.5387011605579104,0.542353016155702,0.5460048717534935,0.5496567273512849,0.5533085829490765,0.556960438546868,0.5606122941446596,0.5642641497424514,0.567916005340243,0.5715678609380344,0.5752197165358259,0.5788715721336175,0.5825234277314091,0.5861752833292007,0.5898271389269925,0.593478994524784,0.5971308501225754,0.600782705720367,0.6044345613181585,0.6080864169159501,0.6117382725137417,0.6153901281115335,0.6190419837093248,0.6226938393071164,0.626345694904908,0.6299975505026996,0.6336494061004911,0.6373012616982829,0.6409531172960745,0.6446049728938659,0.6482568284916574,0.651908684089449,0.6555605396872406,0.6592123952850322,0.662864250882824,0.6665161064806155,0.6701679620784069,0.6738198176761985,0.67747167327399,0.6811235288717816,0.6847753844695732,0.688427240067365,0.6920790956651564,0.6957309512629479,0.6993828068607395,0.7030346624585311,0.7066865180563227,0.7103383736541145,0.713990229251906,0.7176420848496974,0.721293940447489,0.7249457960452805,0.7285976516430721,0.7322495072408637,0.7359013628386555,0.7395532184364468,0.7432050740342384,0.74685692963203,0.7505087852298216,0.7541606408276131,0.7578124964254047,0.7614643520231965,0.7651162076209879,0.7687680632187794,0.772419918816571,0.7760717744143626,0.7797236300121542,0.7833754856099457,0.7870273412077373,0.7906791968055289,0.7943310524033205,0.797982908001112,0.8016347635989036,0.8052866191966952,0.808938474794487,0.8125903303922783,0.8162421859900699,0.8198940415878615,0.8235458971856531,0.8271977527834447,0.8308496083812362,0.834501463979028,0.8381533195768194,0.841805175174611,0.8454570307724025,0.8491088863701941,0.8527607419679857,0.8564125975657773,0.8600644531635688,0.8637163087613604,0.867368164359152,0.8710200199569436],\"xaxis\":\"x\",\"y\":[0.009392472014740251,0.009929843588465912,0.010498301465324754,0.011100408654794199,0.011738657028497225,0.012415394753087398,0.013132751196220512,0.013892561547960218,0.01469629356748603,0.015544978953461658,0.016439151837811476,0.01737879681212443,0.0183633087122469,0.019391466112470876,0.020461420122584954,0.021570699649200567,0.022716233790905087,0.023894391501593667,0.025101038096779448,0.026331607614326454,0.027581189495137416,0.028844627541906646,0.030116628665040977,0.031391878552182326,0.03266516111655371,0.033931478401222674,0.035186167548946524,0.03642501149375709,0.03764434018956676,0.03884111945703607,0.0400130248927226,0.04115849873029394,0.04227678805532642,0.04336796333345061,0.04443291679528677,0.04547334080898181,0.04649168694072085,0.04749110693500471,0.04847537732145312,0.049448809757880366,0.050416149538268014,0.051382464920781495,0.05235303006105477,0.053333204369795106,0.054328311055704105,0.05534351747305089,0.05638371967968971,0.05745343334044476,0.058556692799215264,0.05969695980874578,0.060877043067902814,0.0620990293900166,0.06336422702829901,0.06467312142902411,0.06602534348033257,0.06741965018066379,0.06885391756818718,0.07032514572902444,0.07182947573100538,0.07336221840058423,0.07491789495926361,0.07649028964560327,0.07807251455107081,0.07965708697346444,0.08123601962189285,0.08280092397572662,0.0843431269930735,0.08585380117291556,0.08732410769496786,0.08874535199420983,0.09010915068062234,0.09140760820272166,0.09263350109543281,0.09378046707302658,0.09484319565438896,0.09581761647136225,0.09670108094273999,0.09749253262732231,0.09819266132730291,0.09880403592207124,0.09933121099051982,0.0997808025385892,0.10016152859182427,0.100484211035783,0.10076173587769187,0.10100897004044787,0.10124263385760532,0.10148112958214763,0.10174432741500937,0.10205331176103206,0.10243009158878785,0.1028972798656643,0.10347774802232643,0.10419426223658698,0.10506910898653102,0.10612371778333464,0.10737828923955642,0.10885143665003928,0.11055984905881612,0.11251798336272453,0.11473779237389543,0.11722849494824629,0.11999639331035866,0.12304474159598662,0.12637366842473918,0.12998015504244423,0.13385806927201654,0.13799825422021983,0.1423886694418027,0.147014581096604,0.15185879658124632,0.15690193820328555,0.16212274971617127,0.1674984289670446,0.17300497953949662,0.17861757410716936,0.18431092225216103,0.1900596357388224,0.19583858465645604,0.20162323843522356,0.20738998647435652,0.2131164339718161,0.21878166947749017,0.2243665016728743,0.22985366387295403,0.23522798571479245,0.24047653240814598,0.24558871274530839,0.2505563577738033,0.255373772605501,0.2600377642543729,0.2645476486545072,0.26890524010909056,0.2731148263655164,0.2771831323136372,0.28111927498080735,0.2849347120707039,0.28864318578801873,0.29226066313511545,0.2958052732872298,0.29929724207691893,0.30275882307157403,0.3062142242326181,0.30968952872101446,0.3132126080765163,0.3168130257595691,0.3205219289126831,0.3243719261767365,0.3283969494878685,0.3326320979804497,0.33711346242660245,0.3418779290464925,0.3469629620179089,0.3524063645888505,0.3582460193416871,0.36451960885921847,0.3712643187871741,0.3785165260576944,0.3863114758153865,0.39468295135042464,0.4036629420679182,0.4132813151833182,0.4235654974018152,0.4345401732859504,0.4462270073103458,0.4586443967167332,0.47180726219019464,0.48572688305660006,0.5004107831358469,0.5158626725674842,0.5320824498557934,0.5490662670724764,0.5668066596299935,0.585292740332626,0.6045104555721068,0.6244428996173862,0.6450706810196802,0.6663723332865478,0.6883247602485237,0.7109037050241708,0.7340842302572438,0.7578411964174016,0.7821497244782162,0.8069856292523706,0.8323258100972569,0.8581485866078976,0.8844339682724226,0.9111638488406777,0.9383221182937092,0.9658946877261173,0.9938694250770735,1.0222360023694688,1.0509856578349628,1.0801108789081184,1.1096050144623808,1.139461826738831,1.1696749951045937,1.2002375850068243,1.2311414962176053,1.2623769046745525,1.293931711915721,1.3257910153139205,1.357936611086735,1.3903465404657371,1.4229946875412987,1.4558504352592114,1.4888783839411124,1.5220381346432048,1.5552841377638562,1.588565605657475,1.6218264866919534,1.6550054972630481,1.6880362077913003,1.7208471786896282,1.7533621426901707,1.7855002307181718,1.8171762396328148,1.8483009415335083,1.8787814358471966,1.9085215469483265,1.9374222714889522,1.9653822808020298,1.9922984845614138,2.0180666622246317,2.042582168554462,2.065740718643946,2.0874392563163275,2.1075769075311097,2.1260560175302294,2.142783266972811,2.157670858337807,2.1706377595611577,2.1816109873879794,2.1905269084562162,2.197332531898074,2.201986763471582,2.204461588137116,2.204743145782486,2.202832663663441,2.1987472092214553,2.1925202283812393,2.1842018372847516,2.173858839694161,2.1615744479439067,2.147447692228403,2.1315925110019793,2.114136524109126,2.095219499672639,2.0749915354194988,2.053610984665063,2.031242166235609,2.0080529058181185,1.9842119632317623,1.959886405598898,1.9352389900838065,1.9104256215576154,1.8855929501050663,1.8608761706623362,1.836397082303405,1.8122624579007516,1.7885627662861499,1.7653712789172844,1.7427435817703834,1.720717501134684,1.699313439620841,1.6785351064682894,1.658370614595864,1.638793906212297,1.6197664595704993,1.601239221936185,1.5831547082975506,1.5654492019363686,1.5480549917921507,1.530902582568893,1.51392281666097,1.4970488520326168,1.4802179469246433,1.4633730103765017,1.4464638866927009,1.4294483517751326,1.4122928093040763,1.3949726847051158,1.3774725243341979,1.359785816033371,1.3419145548870348,1.3238685844308116,1.3056647485815964,1.287325893080456,1.2688797572450643,1.2503577973496125,1.2317939820758061,1.2132235983425457,1.1946821025948446,1.1762040485132803,1.157822117308673,1.1395662715154549,1.1214630477121617,1.1035349980884455,1.085800285437312,1.0682724311478826,1.0509602112487775,1.0338676916154201,1.0169943901845748,1.0003355514623236,0.9838825167831811,0.9676231726651926,0.9515424591704315,0.9356229203631866,0.919845279682693,0.904189024224451,0.8886329834578898,0.8731558896979879,0.8577369095960288,0.8423561379263054,0.8269950469357232,0.8116368864183735,0.7962670314159851,0.780873275982467,0.7654460727555236,0.7499787191358721,0.7344674916841392,0.7189117309198858,0.7033138790700473,0.6876794734983268,0.6720170985910735,0.6563382988212971,0.6406574556025325,0.6249916304187783,0.6093603766101974,0.5937855221356921,0.5782909256424711,0.5629022082606945,0.5476464637096601,0.5325519495437206,0.5176477626659041,0.5029635025734076,0.48852892614561516,0.47437359811335333,0.46052654162887924,0.4470158935628979,0.4338685692646416,0.4211099415167225,0.40876353828741757,0.3968507636264661,0.3853906456710324,0.3743996152379845,0.36389131789543616,0.3538764617536081,0.3443627025190584,0.3353545666452092,0.3268534127134375,0.3188574305184202,0.31136167673064513,0.30435814548507656,0.29783587180904125,0.2917810654596106,0.2861772724902985,0.281005561702347,0.2762447330463597,0.2718715450112673,0.26786095805326515,0.26418639116070836,0.260819988706013,0.25773289478884753,0.25489553231581324,0.25227788408413654,0.24984977313864185,0.24758113965499928,0.24544231157459284,0.2434042661874218,0.24143887984188364,0.2395191629681581,0.23761947764942168,0.23571573507555554,0.2337855703783204,0.23180849258309244,0.22976600772402692,0.22764171355648796,0.22542136475759667,0.22309290802320417,0.22064648703379966,0.21807441785574203,0.21537113594814358,0.21253311653870507,0.20955877069229656,0.20644831990351514,0.20320365247982203,0.19982816532918654,0.19632659501270516,0.19270484205996388,0.1889697925687603,0.18512914102158112,0.1811912180535355,0.1771648266089541,0.173059089538633,0.1688833112315686,0.16464685536085485,0.16035904027125855,0.15602905296431155,0.15166588206367967,0.1472782695862022,0.14287468081785687,0.1384632911125077,0.13405198800590049,0.12964838667668116,0.1252598564965892,0.12089355619724078,0.11655647504274926,0.11225547733548255,0.10799734759444386,0.10378883382854834,0.0996366864757524,0.09554769078790333,0.09152869070389984,0.08758660256326836,0.08372841736105062,0.07996119062497743,0.07629201939887624,0.07272800623333647,0.06927621050661305,0.06594358781602588,0.06273691858285234,0.05966272739185687,0.056727194930086336,0.05393606468855328,0.05129454683557252,0.04880722185329925,0.04647794664210082,0.04430976583503954,0.04230483102306893,0.04046433046897315,0.03878843168546823,0.03727623897380576,0.035925767669914836,0.034733936434560346,0.03369657846355496,0.03280847199735489,0.03206338999166117,0.031454168288453266,0.030972791117237806,0.03061049227615567,0.030357869908106405,0.030205012412890756,0.030141632735116414,0.0301572080491992,0.030241121734093282,0.030382804494924122,0.030571871546513342,0.030798252921455924,0.0310523141962389,0.03132496523324673,0.031607754902276596,0.031892950158376294,0.032173598298162596,0.032443571678442036,0.03269759464322884,0.03293125285320008,0.03314098563168245,0.033324062321731365,0.03347854398030549,0.0336032320110305,0.03369760555228435,0.03376174959063774,0.03379627586181614,0.03380223863528823,0.033781047459149005,0.03373437887539452,0.03366408900919021,0.03357212879701335,0.03346046345534508,0.03333099761126797,0.033185507325548994,0.03302558004323404,0.032852563310987744,0.0326675229077,0.03247121084738825,0.0322640435322125,0.032046090158680034,0.03181707131140384,0.031576367515317394,0.031323037358214886,0.031055844640317375,0.030773293856199833,0.03047367316750722,0.030155103883937374,0.02981559533736981,0.029453103913020532,0.02906559489608909,0.028651105707040925,0.028207809038188078,0.027734074373276543,0.027228526374596898,0.026690098662167615,0.02611808158911407,0.025512162737401506,0.02487245901784313,0.024199539455311263,0.023494437970043455,0.02275865572285952,0.021994152868461046],\"yaxis\":\"y\",\"type\":\"scatter\",\"fill\":\"tozeroy\",\"fillcolor\":\"rgba(30,144,255,0.5)\"},{\"line\":{\"color\":\"red\",\"dash\":\"dot\",\"width\":2},\"mode\":\"lines\",\"name\":\"\\u03bc\",\"x\":[-0.048696625155677555,-0.048696625155677555],\"y\":[0,2.425217460360735],\"type\":\"scatter\",\"showlegend\":false},{\"line\":{\"color\":\"green\",\"dash\":\"dot\",\"width\":2},\"mode\":\"lines\",\"name\":\"\\u03bc - 1*\\u03c3\",\"x\":[-0.286109791485845,-0.286109791485845],\"y\":[0,2.425217460360735],\"type\":\"scatter\",\"showlegend\":false},{\"line\":{\"color\":\"green\",\"dash\":\"dot\",\"width\":2},\"mode\":\"lines\",\"name\":\"\\u03bc + 1*\\u03c3\",\"x\":[0.18871654117448988,0.18871654117448988],\"y\":[0,2.425217460360735],\"type\":\"scatter\",\"showlegend\":false},{\"line\":{\"color\":\"blue\",\"dash\":\"dot\",\"width\":2},\"mode\":\"lines\",\"name\":\"\\u03bc - 2*\\u03c3\",\"x\":[-0.5235229578160124,-0.5235229578160124],\"y\":[0,2.425217460360735],\"type\":\"scatter\",\"showlegend\":false},{\"line\":{\"color\":\"blue\",\"dash\":\"dot\",\"width\":2},\"mode\":\"lines\",\"name\":\"\\u03bc + 2*\\u03c3\",\"x\":[0.4261297075046573,0.4261297075046573],\"y\":[0,2.425217460360735],\"type\":\"scatter\",\"showlegend\":false},{\"line\":{\"color\":\"purple\",\"dash\":\"dot\",\"width\":2},\"mode\":\"lines\",\"name\":\"\\u03bc - 3*\\u03c3\",\"x\":[-0.7609361241461798,-0.7609361241461798],\"y\":[0,2.425217460360735],\"type\":\"scatter\",\"showlegend\":false},{\"line\":{\"color\":\"purple\",\"dash\":\"dot\",\"width\":2},\"mode\":\"lines\",\"name\":\"\\u03bc + 3*\\u03c3\",\"x\":[0.6635428738348248,0.6635428738348248],\"y\":[0,2.425217460360735],\"type\":\"scatter\",\"showlegend\":false}],                        {\"barmode\":\"overlay\",\"hovermode\":\"closest\",\"legend\":{\"traceorder\":\"reversed\",\"title\":{\"text\":\"Legend\"}},\"xaxis\":{\"anchor\":\"y2\",\"domain\":[0.0,1.0],\"zeroline\":false,\"title\":{\"text\":\"Mean Value\"},\"showgrid\":false},\"yaxis\":{\"anchor\":\"free\",\"domain\":[0.0,1],\"position\":0.0,\"title\":{\"text\":\"Density\"},\"showgrid\":false},\"template\":{\"data\":{\"histogram2dcontour\":[{\"type\":\"histogram2dcontour\",\"colorbar\":{\"outlinewidth\":0,\"ticks\":\"\"},\"colorscale\":[[0.0,\"#0d0887\"],[0.1111111111111111,\"#46039f\"],[0.2222222222222222,\"#7201a8\"],[0.3333333333333333,\"#9c179e\"],[0.4444444444444444,\"#bd3786\"],[0.5555555555555556,\"#d8576b\"],[0.6666666666666666,\"#ed7953\"],[0.7777777777777778,\"#fb9f3a\"],[0.8888888888888888,\"#fdca26\"],[1.0,\"#f0f921\"]]}],\"choropleth\":[{\"type\":\"choropleth\",\"colorbar\":{\"outlinewidth\":0,\"ticks\":\"\"}}],\"histogram2d\":[{\"type\":\"histogram2d\",\"colorbar\":{\"outlinewidth\":0,\"ticks\":\"\"},\"colorscale\":[[0.0,\"#0d0887\"],[0.1111111111111111,\"#46039f\"],[0.2222222222222222,\"#7201a8\"],[0.3333333333333333,\"#9c179e\"],[0.4444444444444444,\"#bd3786\"],[0.5555555555555556,\"#d8576b\"],[0.6666666666666666,\"#ed7953\"],[0.7777777777777778,\"#fb9f3a\"],[0.8888888888888888,\"#fdca26\"],[1.0,\"#f0f921\"]]}],\"heatmap\":[{\"type\":\"heatmap\",\"colorbar\":{\"outlinewidth\":0,\"ticks\":\"\"},\"colorscale\":[[0.0,\"#0d0887\"],[0.1111111111111111,\"#46039f\"],[0.2222222222222222,\"#7201a8\"],[0.3333333333333333,\"#9c179e\"],[0.4444444444444444,\"#bd3786\"],[0.5555555555555556,\"#d8576b\"],[0.6666666666666666,\"#ed7953\"],[0.7777777777777778,\"#fb9f3a\"],[0.8888888888888888,\"#fdca26\"],[1.0,\"#f0f921\"]]}],\"heatmapgl\":[{\"type\":\"heatmapgl\",\"colorbar\":{\"outlinewidth\":0,\"ticks\":\"\"},\"colorscale\":[[0.0,\"#0d0887\"],[0.1111111111111111,\"#46039f\"],[0.2222222222222222,\"#7201a8\"],[0.3333333333333333,\"#9c179e\"],[0.4444444444444444,\"#bd3786\"],[0.5555555555555556,\"#d8576b\"],[0.6666666666666666,\"#ed7953\"],[0.7777777777777778,\"#fb9f3a\"],[0.8888888888888888,\"#fdca26\"],[1.0,\"#f0f921\"]]}],\"contourcarpet\":[{\"type\":\"contourcarpet\",\"colorbar\":{\"outlinewidth\":0,\"ticks\":\"\"}}],\"contour\":[{\"type\":\"contour\",\"colorbar\":{\"outlinewidth\":0,\"ticks\":\"\"},\"colorscale\":[[0.0,\"#0d0887\"],[0.1111111111111111,\"#46039f\"],[0.2222222222222222,\"#7201a8\"],[0.3333333333333333,\"#9c179e\"],[0.4444444444444444,\"#bd3786\"],[0.5555555555555556,\"#d8576b\"],[0.6666666666666666,\"#ed7953\"],[0.7777777777777778,\"#fb9f3a\"],[0.8888888888888888,\"#fdca26\"],[1.0,\"#f0f921\"]]}],\"surface\":[{\"type\":\"surface\",\"colorbar\":{\"outlinewidth\":0,\"ticks\":\"\"},\"colorscale\":[[0.0,\"#0d0887\"],[0.1111111111111111,\"#46039f\"],[0.2222222222222222,\"#7201a8\"],[0.3333333333333333,\"#9c179e\"],[0.4444444444444444,\"#bd3786\"],[0.5555555555555556,\"#d8576b\"],[0.6666666666666666,\"#ed7953\"],[0.7777777777777778,\"#fb9f3a\"],[0.8888888888888888,\"#fdca26\"],[1.0,\"#f0f921\"]]}],\"mesh3d\":[{\"type\":\"mesh3d\",\"colorbar\":{\"outlinewidth\":0,\"ticks\":\"\"}}],\"scatter\":[{\"fillpattern\":{\"fillmode\":\"overlay\",\"size\":10,\"solidity\":0.2},\"type\":\"scatter\"}],\"parcoords\":[{\"type\":\"parcoords\",\"line\":{\"colorbar\":{\"outlinewidth\":0,\"ticks\":\"\"}}}],\"scatterpolargl\":[{\"type\":\"scatterpolargl\",\"marker\":{\"colorbar\":{\"outlinewidth\":0,\"ticks\":\"\"}}}],\"bar\":[{\"error_x\":{\"color\":\"#2a3f5f\"},\"error_y\":{\"color\":\"#2a3f5f\"},\"marker\":{\"line\":{\"color\":\"#E5ECF6\",\"width\":0.5},\"pattern\":{\"fillmode\":\"overlay\",\"size\":10,\"solidity\":0.2}},\"type\":\"bar\"}],\"scattergeo\":[{\"type\":\"scattergeo\",\"marker\":{\"colorbar\":{\"outlinewidth\":0,\"ticks\":\"\"}}}],\"scatterpolar\":[{\"type\":\"scatterpolar\",\"marker\":{\"colorbar\":{\"outlinewidth\":0,\"ticks\":\"\"}}}],\"histogram\":[{\"marker\":{\"pattern\":{\"fillmode\":\"overlay\",\"size\":10,\"solidity\":0.2}},\"type\":\"histogram\"}],\"scattergl\":[{\"type\":\"scattergl\",\"marker\":{\"colorbar\":{\"outlinewidth\":0,\"ticks\":\"\"}}}],\"scatter3d\":[{\"type\":\"scatter3d\",\"line\":{\"colorbar\":{\"outlinewidth\":0,\"ticks\":\"\"}},\"marker\":{\"colorbar\":{\"outlinewidth\":0,\"ticks\":\"\"}}}],\"scattermapbox\":[{\"type\":\"scattermapbox\",\"marker\":{\"colorbar\":{\"outlinewidth\":0,\"ticks\":\"\"}}}],\"scatterternary\":[{\"type\":\"scatterternary\",\"marker\":{\"colorbar\":{\"outlinewidth\":0,\"ticks\":\"\"}}}],\"scattercarpet\":[{\"type\":\"scattercarpet\",\"marker\":{\"colorbar\":{\"outlinewidth\":0,\"ticks\":\"\"}}}],\"carpet\":[{\"aaxis\":{\"endlinecolor\":\"#2a3f5f\",\"gridcolor\":\"white\",\"linecolor\":\"white\",\"minorgridcolor\":\"white\",\"startlinecolor\":\"#2a3f5f\"},\"baxis\":{\"endlinecolor\":\"#2a3f5f\",\"gridcolor\":\"white\",\"linecolor\":\"white\",\"minorgridcolor\":\"white\",\"startlinecolor\":\"#2a3f5f\"},\"type\":\"carpet\"}],\"table\":[{\"cells\":{\"fill\":{\"color\":\"#EBF0F8\"},\"line\":{\"color\":\"white\"}},\"header\":{\"fill\":{\"color\":\"#C8D4E3\"},\"line\":{\"color\":\"white\"}},\"type\":\"table\"}],\"barpolar\":[{\"marker\":{\"line\":{\"color\":\"#E5ECF6\",\"width\":0.5},\"pattern\":{\"fillmode\":\"overlay\",\"size\":10,\"solidity\":0.2}},\"type\":\"barpolar\"}],\"pie\":[{\"automargin\":true,\"type\":\"pie\"}]},\"layout\":{\"autotypenumbers\":\"strict\",\"colorway\":[\"#636efa\",\"#EF553B\",\"#00cc96\",\"#ab63fa\",\"#FFA15A\",\"#19d3f3\",\"#FF6692\",\"#B6E880\",\"#FF97FF\",\"#FECB52\"],\"font\":{\"color\":\"#2a3f5f\"},\"hovermode\":\"closest\",\"hoverlabel\":{\"align\":\"left\"},\"paper_bgcolor\":\"white\",\"plot_bgcolor\":\"#E5ECF6\",\"polar\":{\"bgcolor\":\"#E5ECF6\",\"angularaxis\":{\"gridcolor\":\"white\",\"linecolor\":\"white\",\"ticks\":\"\"},\"radialaxis\":{\"gridcolor\":\"white\",\"linecolor\":\"white\",\"ticks\":\"\"}},\"ternary\":{\"bgcolor\":\"#E5ECF6\",\"aaxis\":{\"gridcolor\":\"white\",\"linecolor\":\"white\",\"ticks\":\"\"},\"baxis\":{\"gridcolor\":\"white\",\"linecolor\":\"white\",\"ticks\":\"\"},\"caxis\":{\"gridcolor\":\"white\",\"linecolor\":\"white\",\"ticks\":\"\"}},\"coloraxis\":{\"colorbar\":{\"outlinewidth\":0,\"ticks\":\"\"}},\"colorscale\":{\"sequential\":[[0.0,\"#0d0887\"],[0.1111111111111111,\"#46039f\"],[0.2222222222222222,\"#7201a8\"],[0.3333333333333333,\"#9c179e\"],[0.4444444444444444,\"#bd3786\"],[0.5555555555555556,\"#d8576b\"],[0.6666666666666666,\"#ed7953\"],[0.7777777777777778,\"#fb9f3a\"],[0.8888888888888888,\"#fdca26\"],[1.0,\"#f0f921\"]],\"sequentialminus\":[[0.0,\"#0d0887\"],[0.1111111111111111,\"#46039f\"],[0.2222222222222222,\"#7201a8\"],[0.3333333333333333,\"#9c179e\"],[0.4444444444444444,\"#bd3786\"],[0.5555555555555556,\"#d8576b\"],[0.6666666666666666,\"#ed7953\"],[0.7777777777777778,\"#fb9f3a\"],[0.8888888888888888,\"#fdca26\"],[1.0,\"#f0f921\"]],\"diverging\":[[0,\"#8e0152\"],[0.1,\"#c51b7d\"],[0.2,\"#de77ae\"],[0.3,\"#f1b6da\"],[0.4,\"#fde0ef\"],[0.5,\"#f7f7f7\"],[0.6,\"#e6f5d0\"],[0.7,\"#b8e186\"],[0.8,\"#7fbc41\"],[0.9,\"#4d9221\"],[1,\"#276419\"]]},\"xaxis\":{\"gridcolor\":\"white\",\"linecolor\":\"white\",\"ticks\":\"\",\"title\":{\"standoff\":15},\"zerolinecolor\":\"white\",\"automargin\":true,\"zerolinewidth\":2},\"yaxis\":{\"gridcolor\":\"white\",\"linecolor\":\"white\",\"ticks\":\"\",\"title\":{\"standoff\":15},\"zerolinecolor\":\"white\",\"automargin\":true,\"zerolinewidth\":2},\"scene\":{\"xaxis\":{\"backgroundcolor\":\"#E5ECF6\",\"gridcolor\":\"white\",\"linecolor\":\"white\",\"showbackground\":true,\"ticks\":\"\",\"zerolinecolor\":\"white\",\"gridwidth\":2},\"yaxis\":{\"backgroundcolor\":\"#E5ECF6\",\"gridcolor\":\"white\",\"linecolor\":\"white\",\"showbackground\":true,\"ticks\":\"\",\"zerolinecolor\":\"white\",\"gridwidth\":2},\"zaxis\":{\"backgroundcolor\":\"#E5ECF6\",\"gridcolor\":\"white\",\"linecolor\":\"white\",\"showbackground\":true,\"ticks\":\"\",\"zerolinecolor\":\"white\",\"gridwidth\":2}},\"shapedefaults\":{\"line\":{\"color\":\"#2a3f5f\"}},\"annotationdefaults\":{\"arrowcolor\":\"#2a3f5f\",\"arrowhead\":0,\"arrowwidth\":1},\"geo\":{\"bgcolor\":\"white\",\"landcolor\":\"#E5ECF6\",\"subunitcolor\":\"white\",\"showland\":true,\"showlakes\":true,\"lakecolor\":\"white\"},\"title\":{\"x\":0.05},\"mapbox\":{\"style\":\"light\"}}},\"annotations\":[{\"font\":{\"color\":\"red\"},\"showarrow\":false,\"text\":\"\\u03bc\",\"x\":-0.048696625155677555,\"xshift\":0,\"y\":0,\"yshift\":-20},{\"font\":{\"color\":\"green\"},\"showarrow\":false,\"text\":\"\\u03bc - 1*\\u03c3\",\"x\":-0.286109791485845,\"xshift\":0,\"y\":0,\"yshift\":-20},{\"font\":{\"color\":\"green\"},\"showarrow\":false,\"text\":\"\\u03bc + 1*\\u03c3\",\"x\":0.18871654117448988,\"xshift\":0,\"y\":0,\"yshift\":-20},{\"font\":{\"color\":\"blue\"},\"showarrow\":false,\"text\":\"\\u03bc - 2*\\u03c3\",\"x\":-0.5235229578160124,\"xshift\":0,\"y\":0,\"yshift\":-20},{\"font\":{\"color\":\"blue\"},\"showarrow\":false,\"text\":\"\\u03bc + 2*\\u03c3\",\"x\":0.4261297075046573,\"xshift\":0,\"y\":0,\"yshift\":-20},{\"font\":{\"color\":\"purple\"},\"showarrow\":false,\"text\":\"\\u03bc - 3*\\u03c3\",\"x\":-0.7609361241461798,\"xshift\":0,\"y\":0,\"yshift\":-20},{\"font\":{\"color\":\"purple\"},\"showarrow\":false,\"text\":\"\\u03bc + 3*\\u03c3\",\"x\":0.6635428738348248,\"xshift\":0,\"y\":0,\"yshift\":-20}],\"title\":{\"text\":\"KDE Plot of Column Means with Statistical Lines\"}},                        {\"responsive\": true}                    ).then(function(){\n",
       "                            \n",
       "var gd = document.getElementById('633aa9cc-b5b8-467f-a2fa-5d060640de23');\n",
       "var x = new MutationObserver(function (mutations, observer) {{\n",
       "        var display = window.getComputedStyle(gd).display;\n",
       "        if (!display || display === 'none') {{\n",
       "            console.log([gd, 'removed!']);\n",
       "            Plotly.purge(gd);\n",
       "            observer.disconnect();\n",
       "        }}\n",
       "}});\n",
       "\n",
       "// Listen for the removal of the full notebook cells\n",
       "var notebookContainer = gd.closest('#notebook-container');\n",
       "if (notebookContainer) {{\n",
       "    x.observe(notebookContainer, {childList: true});\n",
       "}}\n",
       "\n",
       "// Listen for the clearing of the current output cell\n",
       "var outputEl = gd.closest('.output');\n",
       "if (outputEl) {{\n",
       "    x.observe(outputEl, {childList: true});\n",
       "}}\n",
       "\n",
       "                        })                };                });            </script>        </div>"
      ]
     },
     "metadata": {},
     "output_type": "display_data"
    }
   ],
   "source": [
    "# Assuming 'df' is your DataFrame\n",
    "# Calculate the mean for each numeric column, ignoring NaN values\n",
    "means = df.select_dtypes(include=[np.number]).mean()\n",
    "\n",
    "# Compute overall mean and standard deviation of these means\n",
    "overall_mean = means.mean()\n",
    "overall_std = means.std()\n",
    "\n",
    "# Create a simple KDE plot using Plotly's Figure Factory\n",
    "fig = ff.create_distplot([means.dropna()], ['Column Means'], show_hist=False, show_rug=False)\n",
    "\n",
    "# Add vertical lines for mean and mean ± standard deviations\n",
    "lines = [overall_mean, overall_mean - overall_std, overall_mean + overall_std,\n",
    "         overall_mean - 2 * overall_std, overall_mean + 2 * overall_std,\n",
    "         overall_mean - 3 * overall_std, overall_mean + 3 * overall_std]\n",
    "colors = ['red', 'green', 'green', 'blue', 'blue', 'purple', 'purple']\n",
    "names = ['μ', 'μ - 1*σ', 'μ + 1*σ', 'μ - 2*σ', 'μ + 2*σ', 'μ - 3*σ', 'μ + 3*σ']\n",
    "line_style = dict(dash='dot', width=2)\n",
    "\n",
    "# Update density plot to have a filled color with transparency\n",
    "fig.data[0].update(\n",
    "    marker=dict(color='blue', line=dict(width=0)),\n",
    "    fill='tozeroy',\n",
    "    fillcolor='rgba(30,144,255,0.5)'\n",
    ")\n",
    "\n",
    "# Max density for y-scale of lines\n",
    "max_density = fig.data[0].y.max() * 1.1  # Scale it a bit for visual clarity\n",
    "\n",
    "# Add dotted vertical lines and x-axis annotations for the statistical measures\n",
    "for line, color, name in zip(lines, colors, names):\n",
    "    fig.add_trace(go.Scatter(\n",
    "        x=[line, line],\n",
    "        y=[0, max_density],  # Extend from 0 to max density for visibility\n",
    "        mode='lines',\n",
    "        line=dict(color=color, **line_style),\n",
    "        name=name\n",
    "    ))\n",
    "\n",
    "    # Add annotations directly on the x-axis for each line\n",
    "    fig.add_annotation(\n",
    "        x=line, y=0,\n",
    "        text=name,\n",
    "        showarrow=False,\n",
    "        yshift=-20,\n",
    "        xshift=-5 if 'Mean' in name else 0,\n",
    "        font=dict(color=color)\n",
    "    )\n",
    "\n",
    "# Remove legend for vertical lines\n",
    "fig.for_each_trace(\n",
    "    lambda trace: trace.update(showlegend=False) if trace.name in names else (),\n",
    ")\n",
    "\n",
    "# Update layout for better visualization\n",
    "fig.update_layout(\n",
    "    title='KDE Plot of Column Means with Statistical Lines',\n",
    "    xaxis_title='Mean Value',\n",
    "    yaxis_title='Density',\n",
    "    legend_title='Legend',\n",
    "    xaxis=dict(showgrid=False),\n",
    "    yaxis=dict(showgrid=False)\n",
    ")\n",
    "\n",
    "# Show the plot\n",
    "fig.show()"
   ]
  },
  {
   "cell_type": "code",
   "execution_count": 37,
   "id": "721c13a3-8198-43e4-93b2-3e63657ca907",
   "metadata": {},
   "outputs": [],
   "source": [
    "# Define a function to categorize based on the overall mean and standard deviation\n",
    "def categorize_value(x, overall_mean, overall_std):\n",
    "    if x == 0:\n",
    "        return 0\n",
    "    elif x > overall_mean + overall_std:\n",
    "        return 1\n",
    "    elif x < overall_mean - overall_std:\n",
    "        return -1\n",
    "    else:\n",
    "        return 0"
   ]
  },
  {
   "cell_type": "code",
   "execution_count": 38,
   "id": "b3f1781a-c719-4aa5-844a-2849ac9c527c",
   "metadata": {},
   "outputs": [],
   "source": [
    "# Custom function to calculate Mean Absolute Deviation\n",
    "def calculate_mad(column):\n",
    "    mean = column.mean()\n",
    "    return (column - mean).abs().mean()"
   ]
  },
  {
   "cell_type": "code",
   "execution_count": 39,
   "id": "835650a2-04df-4464-95ff-837ba47c7e59",
   "metadata": {},
   "outputs": [],
   "source": [
    "def silhouette_plot(k, cluster_labels, silhouette_avg, sample_silhouette_values, folder_path, top_n_percent):\n",
    "    fig = go.Figure()\n",
    "    y_lower = 10  # Initial lower margin for the silhouette plot\n",
    "    cluster_info = []  # To store info about clusters for the legend\n",
    "\n",
    "    for i in range(k):\n",
    "        # Aggregate the silhouette scores for samples belonging to cluster i, and sort them\n",
    "        ith_cluster_silhouette_values = sample_silhouette_values[cluster_labels == i]\n",
    "        ith_cluster_silhouette_values.sort()\n",
    "        \n",
    "        size_cluster_i = ith_cluster_silhouette_values.shape[0]\n",
    "        y_upper = y_lower + size_cluster_i\n",
    "        cluster_info.append(f\"Cluster {i} [{size_cluster_i} patients]\")  # Append cluster info for legend\n",
    "\n",
    "        fig.add_trace(go.Scatter(\n",
    "            x=ith_cluster_silhouette_values,\n",
    "            y=np.arange(y_lower, y_upper),\n",
    "            mode='lines',\n",
    "            line=dict(width=0.5),\n",
    "            fill='tozerox',\n",
    "            name=f'Cluster {i} [{size_cluster_i} patients]'\n",
    "        ))\n",
    "\n",
    "        y_lower = y_upper + 10  # Gap between silhouettes\n",
    "\n",
    "    # Red dashed line for average silhouette score\n",
    "    fig.add_trace(go.Scatter(\n",
    "        x=[silhouette_avg, silhouette_avg],\n",
    "        y=[0, y_lower],\n",
    "        mode='lines',\n",
    "        line=dict(color=\"red\", dash='dash', width=2),\n",
    "        name='Average silhouette score'\n",
    "    ))\n",
    "\n",
    "    # Update plot layout\n",
    "    fig.update_layout(\n",
    "        title=f'Silhouette Analysis for k={k} Clusters for top {top_n_percent}% features <br>Average silhouette score {silhouette_avg:.4f}',\n",
    "        xaxis_title='Silhouette Coefficient Values',\n",
    "        yaxis_title='Cluster Label',\n",
    "        yaxis=dict(range=[-0.1, y_lower + 10], showticklabels=False),\n",
    "        showlegend=True\n",
    "    )\n",
    "\n",
    "    # Save and display the figure\n",
    "    fig.write_html(f\"{folder_path}/silhouette_plot_k_{k}_top_feature_{top_n_percent}.html\")\n",
    "    #fig.show()"
   ]
  },
  {
   "cell_type": "code",
   "execution_count": 40,
   "id": "7fd1ddcd-4ff6-4552-ba16-5430b4fa5722",
   "metadata": {},
   "outputs": [],
   "source": [
    "def kmeans_silhouette_score(scaled_data, n_clusters, result_path, original_indices, top_percentage):\n",
    "    # Initialize and run KMeans clustering with varying number of clusters\n",
    "    #display(scaled_data)\n",
    "    kmeans = KMeans(n_clusters=n_clusters, max_iter=300, tol=1e-04, init='k-means++', n_init=10, random_state=42)\n",
    "    labels = kmeans.fit_predict(scaled_data)\n",
    "    # Calculate and return the silhouette score\n",
    "    score = silhouette_score(scaled_data, labels)\n",
    "    sample_silhouette_values = silhouette_samples(scaled_data, labels)\n",
    "    silhouette_plot(k,labels, score, sample_silhouette_values, result_path, top_percentage)\n",
    "    \n",
    "\n",
    "    # Create text files for each cluster\n",
    "    for i in range(n_clusters):\n",
    "        cluster_file_path = f\"{result_path}/cluster_{i}.txt\"\n",
    "        with open(cluster_file_path, 'w') as file:\n",
    "            indices = original_indices[labels == i]\n",
    "            for idx in indices:\n",
    "                file.write(str(idx) + '\\n')\n",
    "    return score"
   ]
  },
  {
   "cell_type": "code",
   "execution_count": 41,
   "id": "3f5ceb57-b8b9-4f69-859c-b560aa151d99",
   "metadata": {},
   "outputs": [],
   "source": [
    "def data_categorized_mad(data):\n",
    "    # Assuming 'df' is your DataFrame\n",
    "    # Calculate the mean for each numeric column, ignoring NaN values\n",
    "    means = data.select_dtypes(include=[np.number]).mean()\n",
    "    \n",
    "    # Compute overall mean and standard deviation of these means\n",
    "    overall_mean = means.mean()\n",
    "    overall_std = means.std()\n",
    "    \n",
    "    # Replace NaN values with 0\n",
    "    data.fillna(0, inplace=True)\n",
    "    \n",
    "    # Apply the categorization function to each element of the dataframe\n",
    "    for col in data.select_dtypes(include=[np.number]).columns:\n",
    "        data[col] = data[col].apply(lambda x: categorize_value(x, overall_mean, overall_std))\n",
    "    #display(data)\n",
    "    # Calculate MAD for each numeric column\n",
    "    mad_values = {col: calculate_mad(data[col]) for col in data.select_dtypes(include=[np.number]).columns}\n",
    "\n",
    "    # Sort columns by MAD in descending order\n",
    "    mad_sorted = sorted(mad_values.items(), key=lambda x: x[1], reverse=True)\n",
    "    return (data, mad_values, mad_sorted)"
   ]
  },
  {
   "cell_type": "code",
   "execution_count": 42,
   "id": "5d31f3b5-c765-4ec2-9a45-025a65a20189",
   "metadata": {},
   "outputs": [],
   "source": [
    "data_processed, mad_values, mad_sorted = data_categorized_mad(df)"
   ]
  },
  {
   "cell_type": "code",
   "execution_count": 43,
   "id": "03269f3e-a215-4807-a7e6-5a2b979baf03",
   "metadata": {},
   "outputs": [
    {
     "name": "stdout",
     "output_type": "stream",
     "text": [
      "Columns ranked by MAD (in descending order):\n",
      "chr9_62804102_62804181_62804157_62804158_T_C: 0.45610425240054875\n",
      "chr1_16577277_16577356_16577307_16577308_T_C: 0.252400548696845\n",
      "chr9_62804102_62804181_62804146_62804147_A_G: 0.23246742112482852\n",
      "chr1_229432516_229432595_229432516_229432517_C_G: 0.16045096021947872\n",
      "chr1_6148814_6148893_6148818_6148819_C_G: 0.1527777777777778\n",
      "chr7_154060937_154061016_154060955_154060956_G_C: 0.15277777777777773\n",
      "chr3_48656100_48656179_48656105_48656106_C_G: 0.1371742112482853\n",
      "chr22_11066477_11066556_11066502_11066503_G_A: 0.1371742112482853\n",
      "chr1_144437905_144437984_144437935_144437936_T_C: 0.1371742112482853\n",
      "chr9_129438841_129438920_129438883_129438884_T_A: 0.12924382716049382\n"
     ]
    }
   ],
   "source": [
    "print(\"Columns ranked by MAD (in descending order):\")\n",
    "for col, mad in mad_sorted[0:10]:\n",
    "    print(f\"{col}: {mad}\")"
   ]
  },
  {
   "cell_type": "code",
   "execution_count": 44,
   "id": "d60cd6be-89fa-4821-bb3c-e630a382ab1e",
   "metadata": {},
   "outputs": [
    {
     "name": "stdout",
     "output_type": "stream",
     "text": [
      "Code is running for Cluster 2\n",
      "Code is running for Cluster 3\n",
      "Code is running for Cluster 4\n",
      "Code is running for Cluster 5\n"
     ]
    },
    {
     "data": {
      "application/vnd.plotly.v1+json": {
       "config": {
        "plotlyServerURL": "https://plot.ly"
       },
       "data": [
        {
         "mode": "lines+markers",
         "name": "k=2",
         "type": "scatter",
         "x": [
          "10%",
          "15%",
          "20%",
          "25%",
          "30%",
          "35%",
          "40%",
          "45%",
          "50%",
          "60%",
          "70%",
          "80%",
          "90%",
          "100%"
         ],
         "y": [
          0.5494553441378741,
          0.46622409945998106,
          0.46622409945998106,
          0.466224099429718,
          0.466224099429718,
          0.466224099429718,
          0.466224099429718,
          0.466224099429718,
          0.466224099429718,
          0.466224099429718,
          0.466224099429718,
          0.466224099429718,
          0.466224099429718,
          0.466224099429718
         ]
        },
        {
         "mode": "lines+markers",
         "name": "k=3",
         "type": "scatter",
         "x": [
          "10%",
          "15%",
          "20%",
          "25%",
          "30%",
          "35%",
          "40%",
          "45%",
          "50%",
          "60%",
          "70%",
          "80%",
          "90%",
          "100%"
         ],
         "y": [
          0.47924981412528084,
          0.28734177305510916,
          0.28734177305510916,
          0.2873417730097198,
          0.2873417730097198,
          0.2873417730097198,
          0.2873417730097198,
          0.2873417730097198,
          0.2873417730097198,
          0.2873417730097198,
          0.2873417730097198,
          0.2873417730097198,
          0.2873417730097198,
          0.2873417730097198
         ]
        },
        {
         "mode": "lines+markers",
         "name": "k=4",
         "type": "scatter",
         "x": [
          "10%",
          "15%",
          "20%",
          "25%",
          "30%",
          "35%",
          "40%",
          "45%",
          "50%",
          "60%",
          "70%",
          "80%",
          "90%",
          "100%"
         ],
         "y": [
          0.12553505519516453,
          0.39642729290916895,
          0.39642729290916895,
          0.39642729287344264,
          0.39642729287344264,
          0.39642729287344264,
          0.39642729287344264,
          0.39642729287344264,
          0.39642729287344264,
          0.39642729287344264,
          0.39642729287344264,
          0.39642729287344264,
          0.39642729287344264,
          0.39642729287344264
         ]
        },
        {
         "mode": "lines+markers",
         "name": "k=5",
         "type": "scatter",
         "x": [
          "10%",
          "15%",
          "20%",
          "25%",
          "30%",
          "35%",
          "40%",
          "45%",
          "50%",
          "60%",
          "70%",
          "80%",
          "90%",
          "100%"
         ],
         "y": [
          0.41367990771928703,
          0.4350076799701067,
          0.4350076799701067,
          0.4350076799366089,
          0.4350076799366089,
          0.4350076799366089,
          0.4350076799366089,
          0.4350076799366089,
          0.4350076799366089,
          0.4350076799366089,
          0.4350076799366089,
          0.4350076799366089,
          0.4350076799366089,
          0.4350076799366089
         ]
        }
       ],
       "layout": {
        "autosize": true,
        "legend": {
         "title": {
          "text": "Number of Clusters"
         }
        },
        "template": {
         "data": {
          "bar": [
           {
            "error_x": {
             "color": "#2a3f5f"
            },
            "error_y": {
             "color": "#2a3f5f"
            },
            "marker": {
             "line": {
              "color": "#E5ECF6",
              "width": 0.5
             },
             "pattern": {
              "fillmode": "overlay",
              "size": 10,
              "solidity": 0.2
             }
            },
            "type": "bar"
           }
          ],
          "barpolar": [
           {
            "marker": {
             "line": {
              "color": "#E5ECF6",
              "width": 0.5
             },
             "pattern": {
              "fillmode": "overlay",
              "size": 10,
              "solidity": 0.2
             }
            },
            "type": "barpolar"
           }
          ],
          "carpet": [
           {
            "aaxis": {
             "endlinecolor": "#2a3f5f",
             "gridcolor": "white",
             "linecolor": "white",
             "minorgridcolor": "white",
             "startlinecolor": "#2a3f5f"
            },
            "baxis": {
             "endlinecolor": "#2a3f5f",
             "gridcolor": "white",
             "linecolor": "white",
             "minorgridcolor": "white",
             "startlinecolor": "#2a3f5f"
            },
            "type": "carpet"
           }
          ],
          "choropleth": [
           {
            "colorbar": {
             "outlinewidth": 0,
             "ticks": ""
            },
            "type": "choropleth"
           }
          ],
          "contour": [
           {
            "colorbar": {
             "outlinewidth": 0,
             "ticks": ""
            },
            "colorscale": [
             [
              0,
              "#0d0887"
             ],
             [
              0.1111111111111111,
              "#46039f"
             ],
             [
              0.2222222222222222,
              "#7201a8"
             ],
             [
              0.3333333333333333,
              "#9c179e"
             ],
             [
              0.4444444444444444,
              "#bd3786"
             ],
             [
              0.5555555555555556,
              "#d8576b"
             ],
             [
              0.6666666666666666,
              "#ed7953"
             ],
             [
              0.7777777777777778,
              "#fb9f3a"
             ],
             [
              0.8888888888888888,
              "#fdca26"
             ],
             [
              1,
              "#f0f921"
             ]
            ],
            "type": "contour"
           }
          ],
          "contourcarpet": [
           {
            "colorbar": {
             "outlinewidth": 0,
             "ticks": ""
            },
            "type": "contourcarpet"
           }
          ],
          "heatmap": [
           {
            "colorbar": {
             "outlinewidth": 0,
             "ticks": ""
            },
            "colorscale": [
             [
              0,
              "#0d0887"
             ],
             [
              0.1111111111111111,
              "#46039f"
             ],
             [
              0.2222222222222222,
              "#7201a8"
             ],
             [
              0.3333333333333333,
              "#9c179e"
             ],
             [
              0.4444444444444444,
              "#bd3786"
             ],
             [
              0.5555555555555556,
              "#d8576b"
             ],
             [
              0.6666666666666666,
              "#ed7953"
             ],
             [
              0.7777777777777778,
              "#fb9f3a"
             ],
             [
              0.8888888888888888,
              "#fdca26"
             ],
             [
              1,
              "#f0f921"
             ]
            ],
            "type": "heatmap"
           }
          ],
          "heatmapgl": [
           {
            "colorbar": {
             "outlinewidth": 0,
             "ticks": ""
            },
            "colorscale": [
             [
              0,
              "#0d0887"
             ],
             [
              0.1111111111111111,
              "#46039f"
             ],
             [
              0.2222222222222222,
              "#7201a8"
             ],
             [
              0.3333333333333333,
              "#9c179e"
             ],
             [
              0.4444444444444444,
              "#bd3786"
             ],
             [
              0.5555555555555556,
              "#d8576b"
             ],
             [
              0.6666666666666666,
              "#ed7953"
             ],
             [
              0.7777777777777778,
              "#fb9f3a"
             ],
             [
              0.8888888888888888,
              "#fdca26"
             ],
             [
              1,
              "#f0f921"
             ]
            ],
            "type": "heatmapgl"
           }
          ],
          "histogram": [
           {
            "marker": {
             "pattern": {
              "fillmode": "overlay",
              "size": 10,
              "solidity": 0.2
             }
            },
            "type": "histogram"
           }
          ],
          "histogram2d": [
           {
            "colorbar": {
             "outlinewidth": 0,
             "ticks": ""
            },
            "colorscale": [
             [
              0,
              "#0d0887"
             ],
             [
              0.1111111111111111,
              "#46039f"
             ],
             [
              0.2222222222222222,
              "#7201a8"
             ],
             [
              0.3333333333333333,
              "#9c179e"
             ],
             [
              0.4444444444444444,
              "#bd3786"
             ],
             [
              0.5555555555555556,
              "#d8576b"
             ],
             [
              0.6666666666666666,
              "#ed7953"
             ],
             [
              0.7777777777777778,
              "#fb9f3a"
             ],
             [
              0.8888888888888888,
              "#fdca26"
             ],
             [
              1,
              "#f0f921"
             ]
            ],
            "type": "histogram2d"
           }
          ],
          "histogram2dcontour": [
           {
            "colorbar": {
             "outlinewidth": 0,
             "ticks": ""
            },
            "colorscale": [
             [
              0,
              "#0d0887"
             ],
             [
              0.1111111111111111,
              "#46039f"
             ],
             [
              0.2222222222222222,
              "#7201a8"
             ],
             [
              0.3333333333333333,
              "#9c179e"
             ],
             [
              0.4444444444444444,
              "#bd3786"
             ],
             [
              0.5555555555555556,
              "#d8576b"
             ],
             [
              0.6666666666666666,
              "#ed7953"
             ],
             [
              0.7777777777777778,
              "#fb9f3a"
             ],
             [
              0.8888888888888888,
              "#fdca26"
             ],
             [
              1,
              "#f0f921"
             ]
            ],
            "type": "histogram2dcontour"
           }
          ],
          "mesh3d": [
           {
            "colorbar": {
             "outlinewidth": 0,
             "ticks": ""
            },
            "type": "mesh3d"
           }
          ],
          "parcoords": [
           {
            "line": {
             "colorbar": {
              "outlinewidth": 0,
              "ticks": ""
             }
            },
            "type": "parcoords"
           }
          ],
          "pie": [
           {
            "automargin": true,
            "type": "pie"
           }
          ],
          "scatter": [
           {
            "fillpattern": {
             "fillmode": "overlay",
             "size": 10,
             "solidity": 0.2
            },
            "type": "scatter"
           }
          ],
          "scatter3d": [
           {
            "line": {
             "colorbar": {
              "outlinewidth": 0,
              "ticks": ""
             }
            },
            "marker": {
             "colorbar": {
              "outlinewidth": 0,
              "ticks": ""
             }
            },
            "type": "scatter3d"
           }
          ],
          "scattercarpet": [
           {
            "marker": {
             "colorbar": {
              "outlinewidth": 0,
              "ticks": ""
             }
            },
            "type": "scattercarpet"
           }
          ],
          "scattergeo": [
           {
            "marker": {
             "colorbar": {
              "outlinewidth": 0,
              "ticks": ""
             }
            },
            "type": "scattergeo"
           }
          ],
          "scattergl": [
           {
            "marker": {
             "colorbar": {
              "outlinewidth": 0,
              "ticks": ""
             }
            },
            "type": "scattergl"
           }
          ],
          "scattermapbox": [
           {
            "marker": {
             "colorbar": {
              "outlinewidth": 0,
              "ticks": ""
             }
            },
            "type": "scattermapbox"
           }
          ],
          "scatterpolar": [
           {
            "marker": {
             "colorbar": {
              "outlinewidth": 0,
              "ticks": ""
             }
            },
            "type": "scatterpolar"
           }
          ],
          "scatterpolargl": [
           {
            "marker": {
             "colorbar": {
              "outlinewidth": 0,
              "ticks": ""
             }
            },
            "type": "scatterpolargl"
           }
          ],
          "scatterternary": [
           {
            "marker": {
             "colorbar": {
              "outlinewidth": 0,
              "ticks": ""
             }
            },
            "type": "scatterternary"
           }
          ],
          "surface": [
           {
            "colorbar": {
             "outlinewidth": 0,
             "ticks": ""
            },
            "colorscale": [
             [
              0,
              "#0d0887"
             ],
             [
              0.1111111111111111,
              "#46039f"
             ],
             [
              0.2222222222222222,
              "#7201a8"
             ],
             [
              0.3333333333333333,
              "#9c179e"
             ],
             [
              0.4444444444444444,
              "#bd3786"
             ],
             [
              0.5555555555555556,
              "#d8576b"
             ],
             [
              0.6666666666666666,
              "#ed7953"
             ],
             [
              0.7777777777777778,
              "#fb9f3a"
             ],
             [
              0.8888888888888888,
              "#fdca26"
             ],
             [
              1,
              "#f0f921"
             ]
            ],
            "type": "surface"
           }
          ],
          "table": [
           {
            "cells": {
             "fill": {
              "color": "#EBF0F8"
             },
             "line": {
              "color": "white"
             }
            },
            "header": {
             "fill": {
              "color": "#C8D4E3"
             },
             "line": {
              "color": "white"
             }
            },
            "type": "table"
           }
          ]
         },
         "layout": {
          "annotationdefaults": {
           "arrowcolor": "#2a3f5f",
           "arrowhead": 0,
           "arrowwidth": 1
          },
          "autotypenumbers": "strict",
          "coloraxis": {
           "colorbar": {
            "outlinewidth": 0,
            "ticks": ""
           }
          },
          "colorscale": {
           "diverging": [
            [
             0,
             "#8e0152"
            ],
            [
             0.1,
             "#c51b7d"
            ],
            [
             0.2,
             "#de77ae"
            ],
            [
             0.3,
             "#f1b6da"
            ],
            [
             0.4,
             "#fde0ef"
            ],
            [
             0.5,
             "#f7f7f7"
            ],
            [
             0.6,
             "#e6f5d0"
            ],
            [
             0.7,
             "#b8e186"
            ],
            [
             0.8,
             "#7fbc41"
            ],
            [
             0.9,
             "#4d9221"
            ],
            [
             1,
             "#276419"
            ]
           ],
           "sequential": [
            [
             0,
             "#0d0887"
            ],
            [
             0.1111111111111111,
             "#46039f"
            ],
            [
             0.2222222222222222,
             "#7201a8"
            ],
            [
             0.3333333333333333,
             "#9c179e"
            ],
            [
             0.4444444444444444,
             "#bd3786"
            ],
            [
             0.5555555555555556,
             "#d8576b"
            ],
            [
             0.6666666666666666,
             "#ed7953"
            ],
            [
             0.7777777777777778,
             "#fb9f3a"
            ],
            [
             0.8888888888888888,
             "#fdca26"
            ],
            [
             1,
             "#f0f921"
            ]
           ],
           "sequentialminus": [
            [
             0,
             "#0d0887"
            ],
            [
             0.1111111111111111,
             "#46039f"
            ],
            [
             0.2222222222222222,
             "#7201a8"
            ],
            [
             0.3333333333333333,
             "#9c179e"
            ],
            [
             0.4444444444444444,
             "#bd3786"
            ],
            [
             0.5555555555555556,
             "#d8576b"
            ],
            [
             0.6666666666666666,
             "#ed7953"
            ],
            [
             0.7777777777777778,
             "#fb9f3a"
            ],
            [
             0.8888888888888888,
             "#fdca26"
            ],
            [
             1,
             "#f0f921"
            ]
           ]
          },
          "colorway": [
           "#636efa",
           "#EF553B",
           "#00cc96",
           "#ab63fa",
           "#FFA15A",
           "#19d3f3",
           "#FF6692",
           "#B6E880",
           "#FF97FF",
           "#FECB52"
          ],
          "font": {
           "color": "#2a3f5f"
          },
          "geo": {
           "bgcolor": "white",
           "lakecolor": "white",
           "landcolor": "#E5ECF6",
           "showlakes": true,
           "showland": true,
           "subunitcolor": "white"
          },
          "hoverlabel": {
           "align": "left"
          },
          "hovermode": "closest",
          "mapbox": {
           "style": "light"
          },
          "paper_bgcolor": "white",
          "plot_bgcolor": "#E5ECF6",
          "polar": {
           "angularaxis": {
            "gridcolor": "white",
            "linecolor": "white",
            "ticks": ""
           },
           "bgcolor": "#E5ECF6",
           "radialaxis": {
            "gridcolor": "white",
            "linecolor": "white",
            "ticks": ""
           }
          },
          "scene": {
           "xaxis": {
            "backgroundcolor": "#E5ECF6",
            "gridcolor": "white",
            "gridwidth": 2,
            "linecolor": "white",
            "showbackground": true,
            "ticks": "",
            "zerolinecolor": "white"
           },
           "yaxis": {
            "backgroundcolor": "#E5ECF6",
            "gridcolor": "white",
            "gridwidth": 2,
            "linecolor": "white",
            "showbackground": true,
            "ticks": "",
            "zerolinecolor": "white"
           },
           "zaxis": {
            "backgroundcolor": "#E5ECF6",
            "gridcolor": "white",
            "gridwidth": 2,
            "linecolor": "white",
            "showbackground": true,
            "ticks": "",
            "zerolinecolor": "white"
           }
          },
          "shapedefaults": {
           "line": {
            "color": "#2a3f5f"
           }
          },
          "ternary": {
           "aaxis": {
            "gridcolor": "white",
            "linecolor": "white",
            "ticks": ""
           },
           "baxis": {
            "gridcolor": "white",
            "linecolor": "white",
            "ticks": ""
           },
           "bgcolor": "#E5ECF6",
           "caxis": {
            "gridcolor": "white",
            "linecolor": "white",
            "ticks": ""
           }
          },
          "title": {
           "x": 0.05
          },
          "xaxis": {
           "automargin": true,
           "gridcolor": "white",
           "linecolor": "white",
           "ticks": "",
           "title": {
            "standoff": 15
           },
           "zerolinecolor": "white",
           "zerolinewidth": 2
          },
          "yaxis": {
           "automargin": true,
           "gridcolor": "white",
           "linecolor": "white",
           "ticks": "",
           "title": {
            "standoff": 15
           },
           "zerolinecolor": "white",
           "zerolinewidth": 2
          }
         }
        },
        "title": {
         "text": "Silhouette Scores for Different Numbers of Clusters"
        },
        "xaxis": {
         "autorange": true,
         "range": [
          -0.8175021987686896,
          13.81750219876869
         ],
         "title": {
          "text": "Percentage of Columns Used"
         },
         "type": "category"
        },
        "yaxis": {
         "autorange": true,
         "range": [
          0.09055134202998946,
          0.5844390573030491
         ],
         "title": {
          "text": "Silhouette Score"
         },
         "type": "linear"
        }
       }
      },
      "image/png": "[encoded data removed]",
      "text/html": [
       "<div>                            <div id=\"9dd006a5-2bff-4f4d-92e2-6c1d0d56adcc\" class=\"plotly-graph-div\" style=\"height:525px; width:100%;\"></div>            <script type=\"text/javascript\">                require([\"plotly\"], function(Plotly) {                    window.PLOTLYENV=window.PLOTLYENV || {};                                    if (document.getElementById(\"9dd006a5-2bff-4f4d-92e2-6c1d0d56adcc\")) {                    Plotly.newPlot(                        \"9dd006a5-2bff-4f4d-92e2-6c1d0d56adcc\",                        [{\"mode\":\"lines+markers\",\"name\":\"k=2\",\"x\":[\"10%\",\"15%\",\"20%\",\"25%\",\"30%\",\"35%\",\"40%\",\"45%\",\"50%\",\"60%\",\"70%\",\"80%\",\"90%\",\"100%\"],\"y\":[0.5494553441378741,0.46622409945998106,0.46622409945998106,0.466224099429718,0.466224099429718,0.466224099429718,0.466224099429718,0.466224099429718,0.466224099429718,0.466224099429718,0.466224099429718,0.466224099429718,0.466224099429718,0.466224099429718],\"type\":\"scatter\"},{\"mode\":\"lines+markers\",\"name\":\"k=3\",\"x\":[\"10%\",\"15%\",\"20%\",\"25%\",\"30%\",\"35%\",\"40%\",\"45%\",\"50%\",\"60%\",\"70%\",\"80%\",\"90%\",\"100%\"],\"y\":[0.47924981412528084,0.28734177305510916,0.28734177305510916,0.2873417730097198,0.2873417730097198,0.2873417730097198,0.2873417730097198,0.2873417730097198,0.2873417730097198,0.2873417730097198,0.2873417730097198,0.2873417730097198,0.2873417730097198,0.2873417730097198],\"type\":\"scatter\"},{\"mode\":\"lines+markers\",\"name\":\"k=4\",\"x\":[\"10%\",\"15%\",\"20%\",\"25%\",\"30%\",\"35%\",\"40%\",\"45%\",\"50%\",\"60%\",\"70%\",\"80%\",\"90%\",\"100%\"],\"y\":[0.12553505519516453,0.39642729290916895,0.39642729290916895,0.39642729287344264,0.39642729287344264,0.39642729287344264,0.39642729287344264,0.39642729287344264,0.39642729287344264,0.39642729287344264,0.39642729287344264,0.39642729287344264,0.39642729287344264,0.39642729287344264],\"type\":\"scatter\"},{\"mode\":\"lines+markers\",\"name\":\"k=5\",\"x\":[\"10%\",\"15%\",\"20%\",\"25%\",\"30%\",\"35%\",\"40%\",\"45%\",\"50%\",\"60%\",\"70%\",\"80%\",\"90%\",\"100%\"],\"y\":[0.41367990771928703,0.4350076799701067,0.4350076799701067,0.4350076799366089,0.4350076799366089,0.4350076799366089,0.4350076799366089,0.4350076799366089,0.4350076799366089,0.4350076799366089,0.4350076799366089,0.4350076799366089,0.4350076799366089,0.4350076799366089],\"type\":\"scatter\"}],                        {\"template\":{\"data\":{\"histogram2dcontour\":[{\"type\":\"histogram2dcontour\",\"colorbar\":{\"outlinewidth\":0,\"ticks\":\"\"},\"colorscale\":[[0.0,\"#0d0887\"],[0.1111111111111111,\"#46039f\"],[0.2222222222222222,\"#7201a8\"],[0.3333333333333333,\"#9c179e\"],[0.4444444444444444,\"#bd3786\"],[0.5555555555555556,\"#d8576b\"],[0.6666666666666666,\"#ed7953\"],[0.7777777777777778,\"#fb9f3a\"],[0.8888888888888888,\"#fdca26\"],[1.0,\"#f0f921\"]]}],\"choropleth\":[{\"type\":\"choropleth\",\"colorbar\":{\"outlinewidth\":0,\"ticks\":\"\"}}],\"histogram2d\":[{\"type\":\"histogram2d\",\"colorbar\":{\"outlinewidth\":0,\"ticks\":\"\"},\"colorscale\":[[0.0,\"#0d0887\"],[0.1111111111111111,\"#46039f\"],[0.2222222222222222,\"#7201a8\"],[0.3333333333333333,\"#9c179e\"],[0.4444444444444444,\"#bd3786\"],[0.5555555555555556,\"#d8576b\"],[0.6666666666666666,\"#ed7953\"],[0.7777777777777778,\"#fb9f3a\"],[0.8888888888888888,\"#fdca26\"],[1.0,\"#f0f921\"]]}],\"heatmap\":[{\"type\":\"heatmap\",\"colorbar\":{\"outlinewidth\":0,\"ticks\":\"\"},\"colorscale\":[[0.0,\"#0d0887\"],[0.1111111111111111,\"#46039f\"],[0.2222222222222222,\"#7201a8\"],[0.3333333333333333,\"#9c179e\"],[0.4444444444444444,\"#bd3786\"],[0.5555555555555556,\"#d8576b\"],[0.6666666666666666,\"#ed7953\"],[0.7777777777777778,\"#fb9f3a\"],[0.8888888888888888,\"#fdca26\"],[1.0,\"#f0f921\"]]}],\"heatmapgl\":[{\"type\":\"heatmapgl\",\"colorbar\":{\"outlinewidth\":0,\"ticks\":\"\"},\"colorscale\":[[0.0,\"#0d0887\"],[0.1111111111111111,\"#46039f\"],[0.2222222222222222,\"#7201a8\"],[0.3333333333333333,\"#9c179e\"],[0.4444444444444444,\"#bd3786\"],[0.5555555555555556,\"#d8576b\"],[0.6666666666666666,\"#ed7953\"],[0.7777777777777778,\"#fb9f3a\"],[0.8888888888888888,\"#fdca26\"],[1.0,\"#f0f921\"]]}],\"contourcarpet\":[{\"type\":\"contourcarpet\",\"colorbar\":{\"outlinewidth\":0,\"ticks\":\"\"}}],\"contour\":[{\"type\":\"contour\",\"colorbar\":{\"outlinewidth\":0,\"ticks\":\"\"},\"colorscale\":[[0.0,\"#0d0887\"],[0.1111111111111111,\"#46039f\"],[0.2222222222222222,\"#7201a8\"],[0.3333333333333333,\"#9c179e\"],[0.4444444444444444,\"#bd3786\"],[0.5555555555555556,\"#d8576b\"],[0.6666666666666666,\"#ed7953\"],[0.7777777777777778,\"#fb9f3a\"],[0.8888888888888888,\"#fdca26\"],[1.0,\"#f0f921\"]]}],\"surface\":[{\"type\":\"surface\",\"colorbar\":{\"outlinewidth\":0,\"ticks\":\"\"},\"colorscale\":[[0.0,\"#0d0887\"],[0.1111111111111111,\"#46039f\"],[0.2222222222222222,\"#7201a8\"],[0.3333333333333333,\"#9c179e\"],[0.4444444444444444,\"#bd3786\"],[0.5555555555555556,\"#d8576b\"],[0.6666666666666666,\"#ed7953\"],[0.7777777777777778,\"#fb9f3a\"],[0.8888888888888888,\"#fdca26\"],[1.0,\"#f0f921\"]]}],\"mesh3d\":[{\"type\":\"mesh3d\",\"colorbar\":{\"outlinewidth\":0,\"ticks\":\"\"}}],\"scatter\":[{\"fillpattern\":{\"fillmode\":\"overlay\",\"size\":10,\"solidity\":0.2},\"type\":\"scatter\"}],\"parcoords\":[{\"type\":\"parcoords\",\"line\":{\"colorbar\":{\"outlinewidth\":0,\"ticks\":\"\"}}}],\"scatterpolargl\":[{\"type\":\"scatterpolargl\",\"marker\":{\"colorbar\":{\"outlinewidth\":0,\"ticks\":\"\"}}}],\"bar\":[{\"error_x\":{\"color\":\"#2a3f5f\"},\"error_y\":{\"color\":\"#2a3f5f\"},\"marker\":{\"line\":{\"color\":\"#E5ECF6\",\"width\":0.5},\"pattern\":{\"fillmode\":\"overlay\",\"size\":10,\"solidity\":0.2}},\"type\":\"bar\"}],\"scattergeo\":[{\"type\":\"scattergeo\",\"marker\":{\"colorbar\":{\"outlinewidth\":0,\"ticks\":\"\"}}}],\"scatterpolar\":[{\"type\":\"scatterpolar\",\"marker\":{\"colorbar\":{\"outlinewidth\":0,\"ticks\":\"\"}}}],\"histogram\":[{\"marker\":{\"pattern\":{\"fillmode\":\"overlay\",\"size\":10,\"solidity\":0.2}},\"type\":\"histogram\"}],\"scattergl\":[{\"type\":\"scattergl\",\"marker\":{\"colorbar\":{\"outlinewidth\":0,\"ticks\":\"\"}}}],\"scatter3d\":[{\"type\":\"scatter3d\",\"line\":{\"colorbar\":{\"outlinewidth\":0,\"ticks\":\"\"}},\"marker\":{\"colorbar\":{\"outlinewidth\":0,\"ticks\":\"\"}}}],\"scattermapbox\":[{\"type\":\"scattermapbox\",\"marker\":{\"colorbar\":{\"outlinewidth\":0,\"ticks\":\"\"}}}],\"scatterternary\":[{\"type\":\"scatterternary\",\"marker\":{\"colorbar\":{\"outlinewidth\":0,\"ticks\":\"\"}}}],\"scattercarpet\":[{\"type\":\"scattercarpet\",\"marker\":{\"colorbar\":{\"outlinewidth\":0,\"ticks\":\"\"}}}],\"carpet\":[{\"aaxis\":{\"endlinecolor\":\"#2a3f5f\",\"gridcolor\":\"white\",\"linecolor\":\"white\",\"minorgridcolor\":\"white\",\"startlinecolor\":\"#2a3f5f\"},\"baxis\":{\"endlinecolor\":\"#2a3f5f\",\"gridcolor\":\"white\",\"linecolor\":\"white\",\"minorgridcolor\":\"white\",\"startlinecolor\":\"#2a3f5f\"},\"type\":\"carpet\"}],\"table\":[{\"cells\":{\"fill\":{\"color\":\"#EBF0F8\"},\"line\":{\"color\":\"white\"}},\"header\":{\"fill\":{\"color\":\"#C8D4E3\"},\"line\":{\"color\":\"white\"}},\"type\":\"table\"}],\"barpolar\":[{\"marker\":{\"line\":{\"color\":\"#E5ECF6\",\"width\":0.5},\"pattern\":{\"fillmode\":\"overlay\",\"size\":10,\"solidity\":0.2}},\"type\":\"barpolar\"}],\"pie\":[{\"automargin\":true,\"type\":\"pie\"}]},\"layout\":{\"autotypenumbers\":\"strict\",\"colorway\":[\"#636efa\",\"#EF553B\",\"#00cc96\",\"#ab63fa\",\"#FFA15A\",\"#19d3f3\",\"#FF6692\",\"#B6E880\",\"#FF97FF\",\"#FECB52\"],\"font\":{\"color\":\"#2a3f5f\"},\"hovermode\":\"closest\",\"hoverlabel\":{\"align\":\"left\"},\"paper_bgcolor\":\"white\",\"plot_bgcolor\":\"#E5ECF6\",\"polar\":{\"bgcolor\":\"#E5ECF6\",\"angularaxis\":{\"gridcolor\":\"white\",\"linecolor\":\"white\",\"ticks\":\"\"},\"radialaxis\":{\"gridcolor\":\"white\",\"linecolor\":\"white\",\"ticks\":\"\"}},\"ternary\":{\"bgcolor\":\"#E5ECF6\",\"aaxis\":{\"gridcolor\":\"white\",\"linecolor\":\"white\",\"ticks\":\"\"},\"baxis\":{\"gridcolor\":\"white\",\"linecolor\":\"white\",\"ticks\":\"\"},\"caxis\":{\"gridcolor\":\"white\",\"linecolor\":\"white\",\"ticks\":\"\"}},\"coloraxis\":{\"colorbar\":{\"outlinewidth\":0,\"ticks\":\"\"}},\"colorscale\":{\"sequential\":[[0.0,\"#0d0887\"],[0.1111111111111111,\"#46039f\"],[0.2222222222222222,\"#7201a8\"],[0.3333333333333333,\"#9c179e\"],[0.4444444444444444,\"#bd3786\"],[0.5555555555555556,\"#d8576b\"],[0.6666666666666666,\"#ed7953\"],[0.7777777777777778,\"#fb9f3a\"],[0.8888888888888888,\"#fdca26\"],[1.0,\"#f0f921\"]],\"sequentialminus\":[[0.0,\"#0d0887\"],[0.1111111111111111,\"#46039f\"],[0.2222222222222222,\"#7201a8\"],[0.3333333333333333,\"#9c179e\"],[0.4444444444444444,\"#bd3786\"],[0.5555555555555556,\"#d8576b\"],[0.6666666666666666,\"#ed7953\"],[0.7777777777777778,\"#fb9f3a\"],[0.8888888888888888,\"#fdca26\"],[1.0,\"#f0f921\"]],\"diverging\":[[0,\"#8e0152\"],[0.1,\"#c51b7d\"],[0.2,\"#de77ae\"],[0.3,\"#f1b6da\"],[0.4,\"#fde0ef\"],[0.5,\"#f7f7f7\"],[0.6,\"#e6f5d0\"],[0.7,\"#b8e186\"],[0.8,\"#7fbc41\"],[0.9,\"#4d9221\"],[1,\"#276419\"]]},\"xaxis\":{\"gridcolor\":\"white\",\"linecolor\":\"white\",\"ticks\":\"\",\"title\":{\"standoff\":15},\"zerolinecolor\":\"white\",\"automargin\":true,\"zerolinewidth\":2},\"yaxis\":{\"gridcolor\":\"white\",\"linecolor\":\"white\",\"ticks\":\"\",\"title\":{\"standoff\":15},\"zerolinecolor\":\"white\",\"automargin\":true,\"zerolinewidth\":2},\"scene\":{\"xaxis\":{\"backgroundcolor\":\"#E5ECF6\",\"gridcolor\":\"white\",\"linecolor\":\"white\",\"showbackground\":true,\"ticks\":\"\",\"zerolinecolor\":\"white\",\"gridwidth\":2},\"yaxis\":{\"backgroundcolor\":\"#E5ECF6\",\"gridcolor\":\"white\",\"linecolor\":\"white\",\"showbackground\":true,\"ticks\":\"\",\"zerolinecolor\":\"white\",\"gridwidth\":2},\"zaxis\":{\"backgroundcolor\":\"#E5ECF6\",\"gridcolor\":\"white\",\"linecolor\":\"white\",\"showbackground\":true,\"ticks\":\"\",\"zerolinecolor\":\"white\",\"gridwidth\":2}},\"shapedefaults\":{\"line\":{\"color\":\"#2a3f5f\"}},\"annotationdefaults\":{\"arrowcolor\":\"#2a3f5f\",\"arrowhead\":0,\"arrowwidth\":1},\"geo\":{\"bgcolor\":\"white\",\"landcolor\":\"#E5ECF6\",\"subunitcolor\":\"white\",\"showland\":true,\"showlakes\":true,\"lakecolor\":\"white\"},\"title\":{\"x\":0.05},\"mapbox\":{\"style\":\"light\"}}},\"title\":{\"text\":\"Silhouette Scores for Different Numbers of Clusters\"},\"xaxis\":{\"title\":{\"text\":\"Percentage of Columns Used\"}},\"yaxis\":{\"title\":{\"text\":\"Silhouette Score\"}},\"legend\":{\"title\":{\"text\":\"Number of Clusters\"}}},                        {\"responsive\": true}                    ).then(function(){\n",
       "                            \n",
       "var gd = document.getElementById('9dd006a5-2bff-4f4d-92e2-6c1d0d56adcc');\n",
       "var x = new MutationObserver(function (mutations, observer) {{\n",
       "        var display = window.getComputedStyle(gd).display;\n",
       "        if (!display || display === 'none') {{\n",
       "            console.log([gd, 'removed!']);\n",
       "            Plotly.purge(gd);\n",
       "            observer.disconnect();\n",
       "        }}\n",
       "}});\n",
       "\n",
       "// Listen for the removal of the full notebook cells\n",
       "var notebookContainer = gd.closest('#notebook-container');\n",
       "if (notebookContainer) {{\n",
       "    x.observe(notebookContainer, {childList: true});\n",
       "}}\n",
       "\n",
       "// Listen for the clearing of the current output cell\n",
       "var outputEl = gd.closest('.output');\n",
       "if (outputEl) {{\n",
       "    x.observe(outputEl, {childList: true});\n",
       "}}\n",
       "\n",
       "                        })                };                });            </script>        </div>"
      ]
     },
     "metadata": {},
     "output_type": "display_data"
    }
   ],
   "source": [
    "# List of percentages representing parts of the total columns to use for clustering\n",
    "percentages = [0.1, 0.15, 0.2, 0.25, 0.3, 0.35, 0.4, 0.45, 0.5, 0.6, 0.7, 0.8, 0.9, 1]\n",
    "\n",
    "# Setup Plotly figure\n",
    "fig = go.Figure()\n",
    "# Loop over different values of k for clusters\n",
    "for k in range(2, 6):  # k varies from 2 to 5\n",
    "    print(\"Code is running for Cluster\", k)\n",
    "    cluster_path = f\"{output_path}/{k}_Clusters\"\n",
    "    if not os.path.exists(cluster_path):\n",
    "        os.makedirs(cluster_path)\n",
    "    silhouette_scores = []\n",
    "    for p in percentages:\n",
    "        num_columns = int(len(mad_sorted) * p)\n",
    "        top_columns = [col[0] for col in mad_sorted[:num_columns]]\n",
    "\n",
    "        # Directory for the current percentage\n",
    "        percentage_path = f\"{cluster_path}/top_percentage_{int(p * 100)}\"\n",
    "        if not os.path.exists(percentage_path):\n",
    "            os.makedirs(percentage_path)\n",
    "        \n",
    "        # Store top features for current percentage\n",
    "        features_path = f\"{percentage_path}/top_features.txt\"\n",
    "        with open(features_path, 'w') as file:\n",
    "            for col in top_columns:\n",
    "                file.write(col + '\\n')\n",
    "        \n",
    "\n",
    "        #The selected columns are standardized using StandardScaler. This ensures that each feature contributes equally to the distance computations \n",
    "        #in the KMeans algorithm, which is crucial because KMeans is sensitive to the scales of the input features.\n",
    "        scaler = StandardScaler()\n",
    "        scaled_data = scaler.fit_transform(data_processed[top_columns])\n",
    "        #print(\"Scaled_data : \", scaled_data.shape[1])  # Output the number of features after scaling\n",
    "        original_indices = data_processed.index  # Capture the original indices before scaling\n",
    "    \n",
    "    \n",
    "        # This step reduces the number of dimensions in the data by transforming it to a new basisvwhere the variance retained is as specified (90% in this case). The goal is to reduce\n",
    "        # complexity while keeping the most informative aspects of the data.  Apply PCA to reduce dimensionality while retaining 90% of the variance:\n",
    "        # pca = PCA(n_components=0.90)  # Initialize PCA to retain 90% of the variance\n",
    "        # data_reduced = pca.fit_transform(scaled_data)\n",
    "        # print(\"Reduced to %d dimensions\" % data_reduced.shape[1]) \n",
    "        \n",
    "        # Compute silhouette score for the current number of clusters and percentage of columns\n",
    "        score = kmeans_silhouette_score(scaled_data, k, percentage_path, original_indices, p)\n",
    "        silhouette_scores.append(score)\n",
    "    \n",
    "    # Add the silhouette scores to the plot for the current number of clusters\n",
    "    fig.add_trace(go.Scatter(\n",
    "        x=[f\"{int(p * 100)}%\" for p in percentages],\n",
    "        y=silhouette_scores,\n",
    "        mode='lines+markers',\n",
    "        name=f'k={k}'\n",
    "    ))\n",
    "\n",
    "# Update plot layout\n",
    "fig.update_layout(\n",
    "    title=\"Silhouette Scores for Different Numbers of Clusters\",\n",
    "    xaxis_title=\"Percentage of Columns Used\",\n",
    "    yaxis_title=\"Silhouette Score\",\n",
    "    legend_title=\"Number of Clusters\"\n",
    ")\n",
    "\n",
    "# Show the plot\n",
    "fig.show()"
   ]
  },
  {
   "cell_type": "markdown",
   "id": "234abacc-0914-4eb6-9cbc-585a63469476",
   "metadata": {},
   "source": [
    "# Apply Hierarchical clustering"
   ]
  },
  {
   "cell_type": "code",
   "execution_count": 57,
   "id": "68199a3a-277c-4c69-a009-bd72589a6187",
   "metadata": {},
   "outputs": [],
   "source": [
    "num_columns = int(len(mad_sorted) * 0.10)\n",
    "top_columns = [col[0] for col in mad_sorted[:num_columns]]"
   ]
  },
  {
   "cell_type": "code",
   "execution_count": 58,
   "id": "464812c0-7250-4373-ac0d-a697a02bf4cc",
   "metadata": {},
   "outputs": [
    {
     "data": {
      "text/plain": [
       "293"
      ]
     },
     "execution_count": 58,
     "metadata": {},
     "output_type": "execute_result"
    }
   ],
   "source": [
    "num_columns"
   ]
  },
  {
   "cell_type": "code",
   "execution_count": 59,
   "id": "08d90a39-f083-4ad2-81b4-34ee5be46311",
   "metadata": {},
   "outputs": [
    {
     "data": {
      "text/html": [
       "<div>\n",
       "<style scoped>\n",
       "    .dataframe tbody tr th:only-of-type {\n",
       "        vertical-align: middle;\n",
       "    }\n",
       "\n",
       "    .dataframe tbody tr th {\n",
       "        vertical-align: top;\n",
       "    }\n",
       "\n",
       "    .dataframe thead th {\n",
       "        text-align: right;\n",
       "    }\n",
       "</style>\n",
       "<table border=\"1\" class=\"dataframe\">\n",
       "  <thead>\n",
       "    <tr style=\"text-align: right;\">\n",
       "      <th></th>\n",
       "      <th>chr9_62804102_62804181_62804157_62804158_T_C</th>\n",
       "      <th>chr1_16577277_16577356_16577307_16577308_T_C</th>\n",
       "      <th>chr9_62804102_62804181_62804146_62804147_A_G</th>\n",
       "      <th>chr1_229432516_229432595_229432516_229432517_C_G</th>\n",
       "      <th>chr1_6148814_6148893_6148818_6148819_C_G</th>\n",
       "      <th>chr7_154060937_154061016_154060955_154060956_G_C</th>\n",
       "      <th>chr3_48656100_48656179_48656105_48656106_C_G</th>\n",
       "      <th>chr22_11066477_11066556_11066502_11066503_G_A</th>\n",
       "      <th>chr1_144437905_144437984_144437935_144437936_T_C</th>\n",
       "      <th>chr9_129438841_129438920_129438883_129438884_T_A</th>\n",
       "      <th>...</th>\n",
       "      <th>chr19_13954399_13954478_13954440_13954441_A_T</th>\n",
       "      <th>chr20_28582979_28583058_28583020_28583021_G_A</th>\n",
       "      <th>chr15_78733713_78733792_78733726_78733727_A_G</th>\n",
       "      <th>chr13_25577100_25577179_25577134_25577135_G_A</th>\n",
       "      <th>chr2_306444_306523_306505_306506_T_C</th>\n",
       "      <th>chr7_99731019_99731098_99731032_99731033_A_G</th>\n",
       "      <th>chr1_148538609_148538688_148538652_148538653_G_A</th>\n",
       "      <th>chr15_30407235_30407314_30407238_30407239_G_C</th>\n",
       "      <th>chr2_232487679_232487758_232487716_232487717_A_C</th>\n",
       "      <th>chr6_32589603_32589682_32589648_32589649_T_G</th>\n",
       "    </tr>\n",
       "    <tr>\n",
       "      <th>Patient_ID</th>\n",
       "      <th></th>\n",
       "      <th></th>\n",
       "      <th></th>\n",
       "      <th></th>\n",
       "      <th></th>\n",
       "      <th></th>\n",
       "      <th></th>\n",
       "      <th></th>\n",
       "      <th></th>\n",
       "      <th></th>\n",
       "      <th></th>\n",
       "      <th></th>\n",
       "      <th></th>\n",
       "      <th></th>\n",
       "      <th></th>\n",
       "      <th></th>\n",
       "      <th></th>\n",
       "      <th></th>\n",
       "      <th></th>\n",
       "      <th></th>\n",
       "      <th></th>\n",
       "    </tr>\n",
       "  </thead>\n",
       "  <tbody>\n",
       "    <tr>\n",
       "      <th>3adc47fa-b27a-4df1-98ab-201ebab3c6bf_CaVEMan</th>\n",
       "      <td>-1</td>\n",
       "      <td>0</td>\n",
       "      <td>0</td>\n",
       "      <td>-1</td>\n",
       "      <td>0</td>\n",
       "      <td>0</td>\n",
       "      <td>0</td>\n",
       "      <td>0</td>\n",
       "      <td>0</td>\n",
       "      <td>0</td>\n",
       "      <td>...</td>\n",
       "      <td>0</td>\n",
       "      <td>0</td>\n",
       "      <td>0</td>\n",
       "      <td>0</td>\n",
       "      <td>0</td>\n",
       "      <td>0</td>\n",
       "      <td>0</td>\n",
       "      <td>0</td>\n",
       "      <td>0</td>\n",
       "      <td>0</td>\n",
       "    </tr>\n",
       "    <tr>\n",
       "      <th>67c83385-8497-4c2d-932e-9a3b9bb90ec9_CaVEMan</th>\n",
       "      <td>0</td>\n",
       "      <td>0</td>\n",
       "      <td>0</td>\n",
       "      <td>0</td>\n",
       "      <td>0</td>\n",
       "      <td>0</td>\n",
       "      <td>0</td>\n",
       "      <td>0</td>\n",
       "      <td>0</td>\n",
       "      <td>0</td>\n",
       "      <td>...</td>\n",
       "      <td>0</td>\n",
       "      <td>0</td>\n",
       "      <td>0</td>\n",
       "      <td>0</td>\n",
       "      <td>0</td>\n",
       "      <td>0</td>\n",
       "      <td>0</td>\n",
       "      <td>0</td>\n",
       "      <td>0</td>\n",
       "      <td>0</td>\n",
       "    </tr>\n",
       "    <tr>\n",
       "      <th>c6b9e176-a36b-4eb2-aa15-6a0155c1aeb5_CaVEMan</th>\n",
       "      <td>-1</td>\n",
       "      <td>0</td>\n",
       "      <td>0</td>\n",
       "      <td>0</td>\n",
       "      <td>0</td>\n",
       "      <td>0</td>\n",
       "      <td>0</td>\n",
       "      <td>0</td>\n",
       "      <td>0</td>\n",
       "      <td>0</td>\n",
       "      <td>...</td>\n",
       "      <td>0</td>\n",
       "      <td>0</td>\n",
       "      <td>0</td>\n",
       "      <td>0</td>\n",
       "      <td>0</td>\n",
       "      <td>0</td>\n",
       "      <td>0</td>\n",
       "      <td>0</td>\n",
       "      <td>0</td>\n",
       "      <td>0</td>\n",
       "    </tr>\n",
       "    <tr>\n",
       "      <th>d214490c-9f1c-4228-8cbc-7c8238942041_CaVEMan</th>\n",
       "      <td>0</td>\n",
       "      <td>0</td>\n",
       "      <td>-1</td>\n",
       "      <td>0</td>\n",
       "      <td>0</td>\n",
       "      <td>0</td>\n",
       "      <td>0</td>\n",
       "      <td>0</td>\n",
       "      <td>0</td>\n",
       "      <td>0</td>\n",
       "      <td>...</td>\n",
       "      <td>0</td>\n",
       "      <td>0</td>\n",
       "      <td>0</td>\n",
       "      <td>0</td>\n",
       "      <td>0</td>\n",
       "      <td>0</td>\n",
       "      <td>0</td>\n",
       "      <td>0</td>\n",
       "      <td>0</td>\n",
       "      <td>0</td>\n",
       "    </tr>\n",
       "    <tr>\n",
       "      <th>4e285b95-27ba-49b9-980a-6dbfc09a62c0_CaVEMan</th>\n",
       "      <td>0</td>\n",
       "      <td>0</td>\n",
       "      <td>-1</td>\n",
       "      <td>0</td>\n",
       "      <td>0</td>\n",
       "      <td>0</td>\n",
       "      <td>0</td>\n",
       "      <td>0</td>\n",
       "      <td>0</td>\n",
       "      <td>0</td>\n",
       "      <td>...</td>\n",
       "      <td>0</td>\n",
       "      <td>0</td>\n",
       "      <td>0</td>\n",
       "      <td>0</td>\n",
       "      <td>0</td>\n",
       "      <td>0</td>\n",
       "      <td>0</td>\n",
       "      <td>0</td>\n",
       "      <td>0</td>\n",
       "      <td>0</td>\n",
       "    </tr>\n",
       "    <tr>\n",
       "      <th>...</th>\n",
       "      <td>...</td>\n",
       "      <td>...</td>\n",
       "      <td>...</td>\n",
       "      <td>...</td>\n",
       "      <td>...</td>\n",
       "      <td>...</td>\n",
       "      <td>...</td>\n",
       "      <td>...</td>\n",
       "      <td>...</td>\n",
       "      <td>...</td>\n",
       "      <td>...</td>\n",
       "      <td>...</td>\n",
       "      <td>...</td>\n",
       "      <td>...</td>\n",
       "      <td>...</td>\n",
       "      <td>...</td>\n",
       "      <td>...</td>\n",
       "      <td>...</td>\n",
       "      <td>...</td>\n",
       "      <td>...</td>\n",
       "      <td>...</td>\n",
       "    </tr>\n",
       "    <tr>\n",
       "      <th>b0a32ca7-5793-4f50-97f8-8adf5254a205_CaVEMan</th>\n",
       "      <td>-1</td>\n",
       "      <td>0</td>\n",
       "      <td>-1</td>\n",
       "      <td>0</td>\n",
       "      <td>0</td>\n",
       "      <td>0</td>\n",
       "      <td>0</td>\n",
       "      <td>0</td>\n",
       "      <td>0</td>\n",
       "      <td>0</td>\n",
       "      <td>...</td>\n",
       "      <td>0</td>\n",
       "      <td>0</td>\n",
       "      <td>0</td>\n",
       "      <td>0</td>\n",
       "      <td>0</td>\n",
       "      <td>0</td>\n",
       "      <td>0</td>\n",
       "      <td>0</td>\n",
       "      <td>0</td>\n",
       "      <td>0</td>\n",
       "    </tr>\n",
       "    <tr>\n",
       "      <th>7bed15a4-3b1e-487e-954d-e6b55e296dc0_CaVEMan</th>\n",
       "      <td>0</td>\n",
       "      <td>0</td>\n",
       "      <td>-1</td>\n",
       "      <td>0</td>\n",
       "      <td>0</td>\n",
       "      <td>0</td>\n",
       "      <td>0</td>\n",
       "      <td>0</td>\n",
       "      <td>0</td>\n",
       "      <td>0</td>\n",
       "      <td>...</td>\n",
       "      <td>0</td>\n",
       "      <td>0</td>\n",
       "      <td>0</td>\n",
       "      <td>0</td>\n",
       "      <td>0</td>\n",
       "      <td>0</td>\n",
       "      <td>0</td>\n",
       "      <td>0</td>\n",
       "      <td>0</td>\n",
       "      <td>0</td>\n",
       "    </tr>\n",
       "    <tr>\n",
       "      <th>b0218338-6d83-491f-b51d-844d209f54b3_CaVEMan</th>\n",
       "      <td>0</td>\n",
       "      <td>1</td>\n",
       "      <td>0</td>\n",
       "      <td>0</td>\n",
       "      <td>0</td>\n",
       "      <td>0</td>\n",
       "      <td>0</td>\n",
       "      <td>0</td>\n",
       "      <td>0</td>\n",
       "      <td>0</td>\n",
       "      <td>...</td>\n",
       "      <td>0</td>\n",
       "      <td>0</td>\n",
       "      <td>0</td>\n",
       "      <td>0</td>\n",
       "      <td>0</td>\n",
       "      <td>0</td>\n",
       "      <td>0</td>\n",
       "      <td>0</td>\n",
       "      <td>0</td>\n",
       "      <td>0</td>\n",
       "    </tr>\n",
       "    <tr>\n",
       "      <th>96a823e7-9a5c-4a58-a424-a051cf4f4b29_CaVEMan</th>\n",
       "      <td>0</td>\n",
       "      <td>0</td>\n",
       "      <td>0</td>\n",
       "      <td>0</td>\n",
       "      <td>0</td>\n",
       "      <td>0</td>\n",
       "      <td>0</td>\n",
       "      <td>0</td>\n",
       "      <td>0</td>\n",
       "      <td>0</td>\n",
       "      <td>...</td>\n",
       "      <td>0</td>\n",
       "      <td>0</td>\n",
       "      <td>0</td>\n",
       "      <td>0</td>\n",
       "      <td>0</td>\n",
       "      <td>0</td>\n",
       "      <td>0</td>\n",
       "      <td>0</td>\n",
       "      <td>0</td>\n",
       "      <td>0</td>\n",
       "    </tr>\n",
       "    <tr>\n",
       "      <th>9a2beddf-39e1-4ed9-8654-2ebad59e71d3_CaVEMan</th>\n",
       "      <td>-1</td>\n",
       "      <td>0</td>\n",
       "      <td>0</td>\n",
       "      <td>0</td>\n",
       "      <td>0</td>\n",
       "      <td>0</td>\n",
       "      <td>0</td>\n",
       "      <td>0</td>\n",
       "      <td>1</td>\n",
       "      <td>0</td>\n",
       "      <td>...</td>\n",
       "      <td>0</td>\n",
       "      <td>0</td>\n",
       "      <td>0</td>\n",
       "      <td>0</td>\n",
       "      <td>0</td>\n",
       "      <td>0</td>\n",
       "      <td>0</td>\n",
       "      <td>0</td>\n",
       "      <td>0</td>\n",
       "      <td>0</td>\n",
       "    </tr>\n",
       "  </tbody>\n",
       "</table>\n",
       "<p>216 rows × 293 columns</p>\n",
       "</div>"
      ],
      "text/plain": [
       "                                              chr9_62804102_62804181_62804157_62804158_T_C  \\\n",
       "Patient_ID                                                                                   \n",
       "3adc47fa-b27a-4df1-98ab-201ebab3c6bf_CaVEMan                                            -1   \n",
       "67c83385-8497-4c2d-932e-9a3b9bb90ec9_CaVEMan                                             0   \n",
       "c6b9e176-a36b-4eb2-aa15-6a0155c1aeb5_CaVEMan                                            -1   \n",
       "d214490c-9f1c-4228-8cbc-7c8238942041_CaVEMan                                             0   \n",
       "4e285b95-27ba-49b9-980a-6dbfc09a62c0_CaVEMan                                             0   \n",
       "...                                                                                    ...   \n",
       "b0a32ca7-5793-4f50-97f8-8adf5254a205_CaVEMan                                            -1   \n",
       "7bed15a4-3b1e-487e-954d-e6b55e296dc0_CaVEMan                                             0   \n",
       "b0218338-6d83-491f-b51d-844d209f54b3_CaVEMan                                             0   \n",
       "96a823e7-9a5c-4a58-a424-a051cf4f4b29_CaVEMan                                             0   \n",
       "9a2beddf-39e1-4ed9-8654-2ebad59e71d3_CaVEMan                                            -1   \n",
       "\n",
       "                                              chr1_16577277_16577356_16577307_16577308_T_C  \\\n",
       "Patient_ID                                                                                   \n",
       "3adc47fa-b27a-4df1-98ab-201ebab3c6bf_CaVEMan                                             0   \n",
       "67c83385-8497-4c2d-932e-9a3b9bb90ec9_CaVEMan                                             0   \n",
       "c6b9e176-a36b-4eb2-aa15-6a0155c1aeb5_CaVEMan                                             0   \n",
       "d214490c-9f1c-4228-8cbc-7c8238942041_CaVEMan                                             0   \n",
       "4e285b95-27ba-49b9-980a-6dbfc09a62c0_CaVEMan                                             0   \n",
       "...                                                                                    ...   \n",
       "b0a32ca7-5793-4f50-97f8-8adf5254a205_CaVEMan                                             0   \n",
       "7bed15a4-3b1e-487e-954d-e6b55e296dc0_CaVEMan                                             0   \n",
       "b0218338-6d83-491f-b51d-844d209f54b3_CaVEMan                                             1   \n",
       "96a823e7-9a5c-4a58-a424-a051cf4f4b29_CaVEMan                                             0   \n",
       "9a2beddf-39e1-4ed9-8654-2ebad59e71d3_CaVEMan                                             0   \n",
       "\n",
       "                                              chr9_62804102_62804181_62804146_62804147_A_G  \\\n",
       "Patient_ID                                                                                   \n",
       "3adc47fa-b27a-4df1-98ab-201ebab3c6bf_CaVEMan                                             0   \n",
       "67c83385-8497-4c2d-932e-9a3b9bb90ec9_CaVEMan                                             0   \n",
       "c6b9e176-a36b-4eb2-aa15-6a0155c1aeb5_CaVEMan                                             0   \n",
       "d214490c-9f1c-4228-8cbc-7c8238942041_CaVEMan                                            -1   \n",
       "4e285b95-27ba-49b9-980a-6dbfc09a62c0_CaVEMan                                            -1   \n",
       "...                                                                                    ...   \n",
       "b0a32ca7-5793-4f50-97f8-8adf5254a205_CaVEMan                                            -1   \n",
       "7bed15a4-3b1e-487e-954d-e6b55e296dc0_CaVEMan                                            -1   \n",
       "b0218338-6d83-491f-b51d-844d209f54b3_CaVEMan                                             0   \n",
       "96a823e7-9a5c-4a58-a424-a051cf4f4b29_CaVEMan                                             0   \n",
       "9a2beddf-39e1-4ed9-8654-2ebad59e71d3_CaVEMan                                             0   \n",
       "\n",
       "                                              chr1_229432516_229432595_229432516_229432517_C_G  \\\n",
       "Patient_ID                                                                                       \n",
       "3adc47fa-b27a-4df1-98ab-201ebab3c6bf_CaVEMan                                                -1   \n",
       "67c83385-8497-4c2d-932e-9a3b9bb90ec9_CaVEMan                                                 0   \n",
       "c6b9e176-a36b-4eb2-aa15-6a0155c1aeb5_CaVEMan                                                 0   \n",
       "d214490c-9f1c-4228-8cbc-7c8238942041_CaVEMan                                                 0   \n",
       "4e285b95-27ba-49b9-980a-6dbfc09a62c0_CaVEMan                                                 0   \n",
       "...                                                                                        ...   \n",
       "b0a32ca7-5793-4f50-97f8-8adf5254a205_CaVEMan                                                 0   \n",
       "7bed15a4-3b1e-487e-954d-e6b55e296dc0_CaVEMan                                                 0   \n",
       "b0218338-6d83-491f-b51d-844d209f54b3_CaVEMan                                                 0   \n",
       "96a823e7-9a5c-4a58-a424-a051cf4f4b29_CaVEMan                                                 0   \n",
       "9a2beddf-39e1-4ed9-8654-2ebad59e71d3_CaVEMan                                                 0   \n",
       "\n",
       "                                              chr1_6148814_6148893_6148818_6148819_C_G  \\\n",
       "Patient_ID                                                                               \n",
       "3adc47fa-b27a-4df1-98ab-201ebab3c6bf_CaVEMan                                         0   \n",
       "67c83385-8497-4c2d-932e-9a3b9bb90ec9_CaVEMan                                         0   \n",
       "c6b9e176-a36b-4eb2-aa15-6a0155c1aeb5_CaVEMan                                         0   \n",
       "d214490c-9f1c-4228-8cbc-7c8238942041_CaVEMan                                         0   \n",
       "4e285b95-27ba-49b9-980a-6dbfc09a62c0_CaVEMan                                         0   \n",
       "...                                                                                ...   \n",
       "b0a32ca7-5793-4f50-97f8-8adf5254a205_CaVEMan                                         0   \n",
       "7bed15a4-3b1e-487e-954d-e6b55e296dc0_CaVEMan                                         0   \n",
       "b0218338-6d83-491f-b51d-844d209f54b3_CaVEMan                                         0   \n",
       "96a823e7-9a5c-4a58-a424-a051cf4f4b29_CaVEMan                                         0   \n",
       "9a2beddf-39e1-4ed9-8654-2ebad59e71d3_CaVEMan                                         0   \n",
       "\n",
       "                                              chr7_154060937_154061016_154060955_154060956_G_C  \\\n",
       "Patient_ID                                                                                       \n",
       "3adc47fa-b27a-4df1-98ab-201ebab3c6bf_CaVEMan                                                 0   \n",
       "67c83385-8497-4c2d-932e-9a3b9bb90ec9_CaVEMan                                                 0   \n",
       "c6b9e176-a36b-4eb2-aa15-6a0155c1aeb5_CaVEMan                                                 0   \n",
       "d214490c-9f1c-4228-8cbc-7c8238942041_CaVEMan                                                 0   \n",
       "4e285b95-27ba-49b9-980a-6dbfc09a62c0_CaVEMan                                                 0   \n",
       "...                                                                                        ...   \n",
       "b0a32ca7-5793-4f50-97f8-8adf5254a205_CaVEMan                                                 0   \n",
       "7bed15a4-3b1e-487e-954d-e6b55e296dc0_CaVEMan                                                 0   \n",
       "b0218338-6d83-491f-b51d-844d209f54b3_CaVEMan                                                 0   \n",
       "96a823e7-9a5c-4a58-a424-a051cf4f4b29_CaVEMan                                                 0   \n",
       "9a2beddf-39e1-4ed9-8654-2ebad59e71d3_CaVEMan                                                 0   \n",
       "\n",
       "                                              chr3_48656100_48656179_48656105_48656106_C_G  \\\n",
       "Patient_ID                                                                                   \n",
       "3adc47fa-b27a-4df1-98ab-201ebab3c6bf_CaVEMan                                             0   \n",
       "67c83385-8497-4c2d-932e-9a3b9bb90ec9_CaVEMan                                             0   \n",
       "c6b9e176-a36b-4eb2-aa15-6a0155c1aeb5_CaVEMan                                             0   \n",
       "d214490c-9f1c-4228-8cbc-7c8238942041_CaVEMan                                             0   \n",
       "4e285b95-27ba-49b9-980a-6dbfc09a62c0_CaVEMan                                             0   \n",
       "...                                                                                    ...   \n",
       "b0a32ca7-5793-4f50-97f8-8adf5254a205_CaVEMan                                             0   \n",
       "7bed15a4-3b1e-487e-954d-e6b55e296dc0_CaVEMan                                             0   \n",
       "b0218338-6d83-491f-b51d-844d209f54b3_CaVEMan                                             0   \n",
       "96a823e7-9a5c-4a58-a424-a051cf4f4b29_CaVEMan                                             0   \n",
       "9a2beddf-39e1-4ed9-8654-2ebad59e71d3_CaVEMan                                             0   \n",
       "\n",
       "                                              chr22_11066477_11066556_11066502_11066503_G_A  \\\n",
       "Patient_ID                                                                                    \n",
       "3adc47fa-b27a-4df1-98ab-201ebab3c6bf_CaVEMan                                              0   \n",
       "67c83385-8497-4c2d-932e-9a3b9bb90ec9_CaVEMan                                              0   \n",
       "c6b9e176-a36b-4eb2-aa15-6a0155c1aeb5_CaVEMan                                              0   \n",
       "d214490c-9f1c-4228-8cbc-7c8238942041_CaVEMan                                              0   \n",
       "4e285b95-27ba-49b9-980a-6dbfc09a62c0_CaVEMan                                              0   \n",
       "...                                                                                     ...   \n",
       "b0a32ca7-5793-4f50-97f8-8adf5254a205_CaVEMan                                              0   \n",
       "7bed15a4-3b1e-487e-954d-e6b55e296dc0_CaVEMan                                              0   \n",
       "b0218338-6d83-491f-b51d-844d209f54b3_CaVEMan                                              0   \n",
       "96a823e7-9a5c-4a58-a424-a051cf4f4b29_CaVEMan                                              0   \n",
       "9a2beddf-39e1-4ed9-8654-2ebad59e71d3_CaVEMan                                              0   \n",
       "\n",
       "                                              chr1_144437905_144437984_144437935_144437936_T_C  \\\n",
       "Patient_ID                                                                                       \n",
       "3adc47fa-b27a-4df1-98ab-201ebab3c6bf_CaVEMan                                                 0   \n",
       "67c83385-8497-4c2d-932e-9a3b9bb90ec9_CaVEMan                                                 0   \n",
       "c6b9e176-a36b-4eb2-aa15-6a0155c1aeb5_CaVEMan                                                 0   \n",
       "d214490c-9f1c-4228-8cbc-7c8238942041_CaVEMan                                                 0   \n",
       "4e285b95-27ba-49b9-980a-6dbfc09a62c0_CaVEMan                                                 0   \n",
       "...                                                                                        ...   \n",
       "b0a32ca7-5793-4f50-97f8-8adf5254a205_CaVEMan                                                 0   \n",
       "7bed15a4-3b1e-487e-954d-e6b55e296dc0_CaVEMan                                                 0   \n",
       "b0218338-6d83-491f-b51d-844d209f54b3_CaVEMan                                                 0   \n",
       "96a823e7-9a5c-4a58-a424-a051cf4f4b29_CaVEMan                                                 0   \n",
       "9a2beddf-39e1-4ed9-8654-2ebad59e71d3_CaVEMan                                                 1   \n",
       "\n",
       "                                              chr9_129438841_129438920_129438883_129438884_T_A  \\\n",
       "Patient_ID                                                                                       \n",
       "3adc47fa-b27a-4df1-98ab-201ebab3c6bf_CaVEMan                                                 0   \n",
       "67c83385-8497-4c2d-932e-9a3b9bb90ec9_CaVEMan                                                 0   \n",
       "c6b9e176-a36b-4eb2-aa15-6a0155c1aeb5_CaVEMan                                                 0   \n",
       "d214490c-9f1c-4228-8cbc-7c8238942041_CaVEMan                                                 0   \n",
       "4e285b95-27ba-49b9-980a-6dbfc09a62c0_CaVEMan                                                 0   \n",
       "...                                                                                        ...   \n",
       "b0a32ca7-5793-4f50-97f8-8adf5254a205_CaVEMan                                                 0   \n",
       "7bed15a4-3b1e-487e-954d-e6b55e296dc0_CaVEMan                                                 0   \n",
       "b0218338-6d83-491f-b51d-844d209f54b3_CaVEMan                                                 0   \n",
       "96a823e7-9a5c-4a58-a424-a051cf4f4b29_CaVEMan                                                 0   \n",
       "9a2beddf-39e1-4ed9-8654-2ebad59e71d3_CaVEMan                                                 0   \n",
       "\n",
       "                                              ...  \\\n",
       "Patient_ID                                    ...   \n",
       "3adc47fa-b27a-4df1-98ab-201ebab3c6bf_CaVEMan  ...   \n",
       "67c83385-8497-4c2d-932e-9a3b9bb90ec9_CaVEMan  ...   \n",
       "c6b9e176-a36b-4eb2-aa15-6a0155c1aeb5_CaVEMan  ...   \n",
       "d214490c-9f1c-4228-8cbc-7c8238942041_CaVEMan  ...   \n",
       "4e285b95-27ba-49b9-980a-6dbfc09a62c0_CaVEMan  ...   \n",
       "...                                           ...   \n",
       "b0a32ca7-5793-4f50-97f8-8adf5254a205_CaVEMan  ...   \n",
       "7bed15a4-3b1e-487e-954d-e6b55e296dc0_CaVEMan  ...   \n",
       "b0218338-6d83-491f-b51d-844d209f54b3_CaVEMan  ...   \n",
       "96a823e7-9a5c-4a58-a424-a051cf4f4b29_CaVEMan  ...   \n",
       "9a2beddf-39e1-4ed9-8654-2ebad59e71d3_CaVEMan  ...   \n",
       "\n",
       "                                              chr19_13954399_13954478_13954440_13954441_A_T  \\\n",
       "Patient_ID                                                                                    \n",
       "3adc47fa-b27a-4df1-98ab-201ebab3c6bf_CaVEMan                                              0   \n",
       "67c83385-8497-4c2d-932e-9a3b9bb90ec9_CaVEMan                                              0   \n",
       "c6b9e176-a36b-4eb2-aa15-6a0155c1aeb5_CaVEMan                                              0   \n",
       "d214490c-9f1c-4228-8cbc-7c8238942041_CaVEMan                                              0   \n",
       "4e285b95-27ba-49b9-980a-6dbfc09a62c0_CaVEMan                                              0   \n",
       "...                                                                                     ...   \n",
       "b0a32ca7-5793-4f50-97f8-8adf5254a205_CaVEMan                                              0   \n",
       "7bed15a4-3b1e-487e-954d-e6b55e296dc0_CaVEMan                                              0   \n",
       "b0218338-6d83-491f-b51d-844d209f54b3_CaVEMan                                              0   \n",
       "96a823e7-9a5c-4a58-a424-a051cf4f4b29_CaVEMan                                              0   \n",
       "9a2beddf-39e1-4ed9-8654-2ebad59e71d3_CaVEMan                                              0   \n",
       "\n",
       "                                              chr20_28582979_28583058_28583020_28583021_G_A  \\\n",
       "Patient_ID                                                                                    \n",
       "3adc47fa-b27a-4df1-98ab-201ebab3c6bf_CaVEMan                                              0   \n",
       "67c83385-8497-4c2d-932e-9a3b9bb90ec9_CaVEMan                                              0   \n",
       "c6b9e176-a36b-4eb2-aa15-6a0155c1aeb5_CaVEMan                                              0   \n",
       "d214490c-9f1c-4228-8cbc-7c8238942041_CaVEMan                                              0   \n",
       "4e285b95-27ba-49b9-980a-6dbfc09a62c0_CaVEMan                                              0   \n",
       "...                                                                                     ...   \n",
       "b0a32ca7-5793-4f50-97f8-8adf5254a205_CaVEMan                                              0   \n",
       "7bed15a4-3b1e-487e-954d-e6b55e296dc0_CaVEMan                                              0   \n",
       "b0218338-6d83-491f-b51d-844d209f54b3_CaVEMan                                              0   \n",
       "96a823e7-9a5c-4a58-a424-a051cf4f4b29_CaVEMan                                              0   \n",
       "9a2beddf-39e1-4ed9-8654-2ebad59e71d3_CaVEMan                                              0   \n",
       "\n",
       "                                              chr15_78733713_78733792_78733726_78733727_A_G  \\\n",
       "Patient_ID                                                                                    \n",
       "3adc47fa-b27a-4df1-98ab-201ebab3c6bf_CaVEMan                                              0   \n",
       "67c83385-8497-4c2d-932e-9a3b9bb90ec9_CaVEMan                                              0   \n",
       "c6b9e176-a36b-4eb2-aa15-6a0155c1aeb5_CaVEMan                                              0   \n",
       "d214490c-9f1c-4228-8cbc-7c8238942041_CaVEMan                                              0   \n",
       "4e285b95-27ba-49b9-980a-6dbfc09a62c0_CaVEMan                                              0   \n",
       "...                                                                                     ...   \n",
       "b0a32ca7-5793-4f50-97f8-8adf5254a205_CaVEMan                                              0   \n",
       "7bed15a4-3b1e-487e-954d-e6b55e296dc0_CaVEMan                                              0   \n",
       "b0218338-6d83-491f-b51d-844d209f54b3_CaVEMan                                              0   \n",
       "96a823e7-9a5c-4a58-a424-a051cf4f4b29_CaVEMan                                              0   \n",
       "9a2beddf-39e1-4ed9-8654-2ebad59e71d3_CaVEMan                                              0   \n",
       "\n",
       "                                              chr13_25577100_25577179_25577134_25577135_G_A  \\\n",
       "Patient_ID                                                                                    \n",
       "3adc47fa-b27a-4df1-98ab-201ebab3c6bf_CaVEMan                                              0   \n",
       "67c83385-8497-4c2d-932e-9a3b9bb90ec9_CaVEMan                                              0   \n",
       "c6b9e176-a36b-4eb2-aa15-6a0155c1aeb5_CaVEMan                                              0   \n",
       "d214490c-9f1c-4228-8cbc-7c8238942041_CaVEMan                                              0   \n",
       "4e285b95-27ba-49b9-980a-6dbfc09a62c0_CaVEMan                                              0   \n",
       "...                                                                                     ...   \n",
       "b0a32ca7-5793-4f50-97f8-8adf5254a205_CaVEMan                                              0   \n",
       "7bed15a4-3b1e-487e-954d-e6b55e296dc0_CaVEMan                                              0   \n",
       "b0218338-6d83-491f-b51d-844d209f54b3_CaVEMan                                              0   \n",
       "96a823e7-9a5c-4a58-a424-a051cf4f4b29_CaVEMan                                              0   \n",
       "9a2beddf-39e1-4ed9-8654-2ebad59e71d3_CaVEMan                                              0   \n",
       "\n",
       "                                              chr2_306444_306523_306505_306506_T_C  \\\n",
       "Patient_ID                                                                           \n",
       "3adc47fa-b27a-4df1-98ab-201ebab3c6bf_CaVEMan                                     0   \n",
       "67c83385-8497-4c2d-932e-9a3b9bb90ec9_CaVEMan                                     0   \n",
       "c6b9e176-a36b-4eb2-aa15-6a0155c1aeb5_CaVEMan                                     0   \n",
       "d214490c-9f1c-4228-8cbc-7c8238942041_CaVEMan                                     0   \n",
       "4e285b95-27ba-49b9-980a-6dbfc09a62c0_CaVEMan                                     0   \n",
       "...                                                                            ...   \n",
       "b0a32ca7-5793-4f50-97f8-8adf5254a205_CaVEMan                                     0   \n",
       "7bed15a4-3b1e-487e-954d-e6b55e296dc0_CaVEMan                                     0   \n",
       "b0218338-6d83-491f-b51d-844d209f54b3_CaVEMan                                     0   \n",
       "96a823e7-9a5c-4a58-a424-a051cf4f4b29_CaVEMan                                     0   \n",
       "9a2beddf-39e1-4ed9-8654-2ebad59e71d3_CaVEMan                                     0   \n",
       "\n",
       "                                              chr7_99731019_99731098_99731032_99731033_A_G  \\\n",
       "Patient_ID                                                                                   \n",
       "3adc47fa-b27a-4df1-98ab-201ebab3c6bf_CaVEMan                                             0   \n",
       "67c83385-8497-4c2d-932e-9a3b9bb90ec9_CaVEMan                                             0   \n",
       "c6b9e176-a36b-4eb2-aa15-6a0155c1aeb5_CaVEMan                                             0   \n",
       "d214490c-9f1c-4228-8cbc-7c8238942041_CaVEMan                                             0   \n",
       "4e285b95-27ba-49b9-980a-6dbfc09a62c0_CaVEMan                                             0   \n",
       "...                                                                                    ...   \n",
       "b0a32ca7-5793-4f50-97f8-8adf5254a205_CaVEMan                                             0   \n",
       "7bed15a4-3b1e-487e-954d-e6b55e296dc0_CaVEMan                                             0   \n",
       "b0218338-6d83-491f-b51d-844d209f54b3_CaVEMan                                             0   \n",
       "96a823e7-9a5c-4a58-a424-a051cf4f4b29_CaVEMan                                             0   \n",
       "9a2beddf-39e1-4ed9-8654-2ebad59e71d3_CaVEMan                                             0   \n",
       "\n",
       "                                              chr1_148538609_148538688_148538652_148538653_G_A  \\\n",
       "Patient_ID                                                                                       \n",
       "3adc47fa-b27a-4df1-98ab-201ebab3c6bf_CaVEMan                                                 0   \n",
       "67c83385-8497-4c2d-932e-9a3b9bb90ec9_CaVEMan                                                 0   \n",
       "c6b9e176-a36b-4eb2-aa15-6a0155c1aeb5_CaVEMan                                                 0   \n",
       "d214490c-9f1c-4228-8cbc-7c8238942041_CaVEMan                                                 0   \n",
       "4e285b95-27ba-49b9-980a-6dbfc09a62c0_CaVEMan                                                 0   \n",
       "...                                                                                        ...   \n",
       "b0a32ca7-5793-4f50-97f8-8adf5254a205_CaVEMan                                                 0   \n",
       "7bed15a4-3b1e-487e-954d-e6b55e296dc0_CaVEMan                                                 0   \n",
       "b0218338-6d83-491f-b51d-844d209f54b3_CaVEMan                                                 0   \n",
       "96a823e7-9a5c-4a58-a424-a051cf4f4b29_CaVEMan                                                 0   \n",
       "9a2beddf-39e1-4ed9-8654-2ebad59e71d3_CaVEMan                                                 0   \n",
       "\n",
       "                                              chr15_30407235_30407314_30407238_30407239_G_C  \\\n",
       "Patient_ID                                                                                    \n",
       "3adc47fa-b27a-4df1-98ab-201ebab3c6bf_CaVEMan                                              0   \n",
       "67c83385-8497-4c2d-932e-9a3b9bb90ec9_CaVEMan                                              0   \n",
       "c6b9e176-a36b-4eb2-aa15-6a0155c1aeb5_CaVEMan                                              0   \n",
       "d214490c-9f1c-4228-8cbc-7c8238942041_CaVEMan                                              0   \n",
       "4e285b95-27ba-49b9-980a-6dbfc09a62c0_CaVEMan                                              0   \n",
       "...                                                                                     ...   \n",
       "b0a32ca7-5793-4f50-97f8-8adf5254a205_CaVEMan                                              0   \n",
       "7bed15a4-3b1e-487e-954d-e6b55e296dc0_CaVEMan                                              0   \n",
       "b0218338-6d83-491f-b51d-844d209f54b3_CaVEMan                                              0   \n",
       "96a823e7-9a5c-4a58-a424-a051cf4f4b29_CaVEMan                                              0   \n",
       "9a2beddf-39e1-4ed9-8654-2ebad59e71d3_CaVEMan                                              0   \n",
       "\n",
       "                                              chr2_232487679_232487758_232487716_232487717_A_C  \\\n",
       "Patient_ID                                                                                       \n",
       "3adc47fa-b27a-4df1-98ab-201ebab3c6bf_CaVEMan                                                 0   \n",
       "67c83385-8497-4c2d-932e-9a3b9bb90ec9_CaVEMan                                                 0   \n",
       "c6b9e176-a36b-4eb2-aa15-6a0155c1aeb5_CaVEMan                                                 0   \n",
       "d214490c-9f1c-4228-8cbc-7c8238942041_CaVEMan                                                 0   \n",
       "4e285b95-27ba-49b9-980a-6dbfc09a62c0_CaVEMan                                                 0   \n",
       "...                                                                                        ...   \n",
       "b0a32ca7-5793-4f50-97f8-8adf5254a205_CaVEMan                                                 0   \n",
       "7bed15a4-3b1e-487e-954d-e6b55e296dc0_CaVEMan                                                 0   \n",
       "b0218338-6d83-491f-b51d-844d209f54b3_CaVEMan                                                 0   \n",
       "96a823e7-9a5c-4a58-a424-a051cf4f4b29_CaVEMan                                                 0   \n",
       "9a2beddf-39e1-4ed9-8654-2ebad59e71d3_CaVEMan                                                 0   \n",
       "\n",
       "                                              chr6_32589603_32589682_32589648_32589649_T_G  \n",
       "Patient_ID                                                                                  \n",
       "3adc47fa-b27a-4df1-98ab-201ebab3c6bf_CaVEMan                                             0  \n",
       "67c83385-8497-4c2d-932e-9a3b9bb90ec9_CaVEMan                                             0  \n",
       "c6b9e176-a36b-4eb2-aa15-6a0155c1aeb5_CaVEMan                                             0  \n",
       "d214490c-9f1c-4228-8cbc-7c8238942041_CaVEMan                                             0  \n",
       "4e285b95-27ba-49b9-980a-6dbfc09a62c0_CaVEMan                                             0  \n",
       "...                                                                                    ...  \n",
       "b0a32ca7-5793-4f50-97f8-8adf5254a205_CaVEMan                                             0  \n",
       "7bed15a4-3b1e-487e-954d-e6b55e296dc0_CaVEMan                                             0  \n",
       "b0218338-6d83-491f-b51d-844d209f54b3_CaVEMan                                             0  \n",
       "96a823e7-9a5c-4a58-a424-a051cf4f4b29_CaVEMan                                             0  \n",
       "9a2beddf-39e1-4ed9-8654-2ebad59e71d3_CaVEMan                                             0  \n",
       "\n",
       "[216 rows x 293 columns]"
      ]
     },
     "execution_count": 59,
     "metadata": {},
     "output_type": "execute_result"
    }
   ],
   "source": [
    "data_processed[top_columns]"
   ]
  },
  {
   "cell_type": "code",
   "execution_count": 60,
   "id": "4448c5aa-8bfe-4af3-b528-ba47e699656d",
   "metadata": {},
   "outputs": [],
   "source": [
    "scaler = StandardScaler()\n",
    "scaled_data = scaler.fit_transform(data_processed[top_columns])"
   ]
  },
  {
   "cell_type": "code",
   "execution_count": 61,
   "id": "96db3cda-9bb5-42b6-982b-6713503ac987",
   "metadata": {},
   "outputs": [
    {
     "data": {
      "text/plain": [
       "array([[-1.35724179, -0.41702883,  0.39380225, ..., -0.06819943,\n",
       "        -0.06819943,  0.06819943],\n",
       "       [ 0.7367884 , -0.41702883,  0.39380225, ..., -0.06819943,\n",
       "        -0.06819943,  0.06819943],\n",
       "       [-1.35724179, -0.41702883,  0.39380225, ..., -0.06819943,\n",
       "        -0.06819943,  0.06819943],\n",
       "       ...,\n",
       "       [ 0.7367884 ,  2.39791576,  0.39380225, ..., -0.06819943,\n",
       "        -0.06819943,  0.06819943],\n",
       "       [ 0.7367884 , -0.41702883,  0.39380225, ..., -0.06819943,\n",
       "        -0.06819943,  0.06819943],\n",
       "       [-1.35724179, -0.41702883,  0.39380225, ..., -0.06819943,\n",
       "        -0.06819943,  0.06819943]])"
      ]
     },
     "execution_count": 61,
     "metadata": {},
     "output_type": "execute_result"
    }
   ],
   "source": [
    "scaled_data"
   ]
  },
  {
   "cell_type": "code",
   "execution_count": 62,
   "id": "78e4363b-6ae8-40c5-bde3-704fefe8b8b0",
   "metadata": {},
   "outputs": [
    {
     "data": {
      "application/vnd.plotly.v1+json": {
       "config": {
        "plotlyServerURL": "https://plot.ly"
       },
       "data": [
        {
         "hoverinfo": "text",
         "marker": {
          "color": "rgb(61,153,112)"
         },
         "mode": "lines",
         "type": "scatter",
         "x": [
          125,
          125,
          135,
          135
         ],
         "xaxis": "x",
         "y": [
          0,
          6.1626731139295305,
          6.1626731139295305,
          0
         ],
         "yaxis": "y"
        },
        {
         "hoverinfo": "text",
         "marker": {
          "color": "rgb(61,153,112)"
         },
         "mode": "lines",
         "type": "scatter",
         "x": [
          115,
          115,
          130,
          130
         ],
         "xaxis": "x",
         "y": [
          0,
          10.488642713864664,
          10.488642713864664,
          6.1626731139295305
         ],
         "yaxis": "y"
        },
        {
         "hoverinfo": "text",
         "marker": {
          "color": "rgb(61,153,112)"
         },
         "mode": "lines",
         "type": "scatter",
         "x": [
          105,
          105,
          122.5,
          122.5
         ],
         "xaxis": "x",
         "y": [
          0,
          21.26586037228826,
          21.26586037228826,
          10.488642713864664
         ],
         "yaxis": "y"
        },
        {
         "hoverinfo": "text",
         "marker": {
          "color": "rgb(61,153,112)"
         },
         "mode": "lines",
         "type": "scatter",
         "x": [
          95,
          95,
          113.75,
          113.75
         ],
         "xaxis": "x",
         "y": [
          0,
          23.309055464243198,
          23.309055464243198,
          21.26586037228826
         ],
         "yaxis": "y"
        },
        {
         "hoverinfo": "text",
         "marker": {
          "color": "rgb(61,153,112)"
         },
         "mode": "lines",
         "type": "scatter",
         "x": [
          85,
          85,
          104.375,
          104.375
         ],
         "xaxis": "x",
         "y": [
          0,
          29.570286355221857,
          29.570286355221857,
          23.309055464243198
         ],
         "yaxis": "y"
        },
        {
         "hoverinfo": "text",
         "marker": {
          "color": "rgb(61,153,112)"
         },
         "mode": "lines",
         "type": "scatter",
         "x": [
          195,
          195,
          205,
          205
         ],
         "xaxis": "x",
         "y": [
          0,
          13.793724301543527,
          13.793724301543527,
          0
         ],
         "yaxis": "y"
        },
        {
         "hoverinfo": "text",
         "marker": {
          "color": "rgb(61,153,112)"
         },
         "mode": "lines",
         "type": "scatter",
         "x": [
          185,
          185,
          200,
          200
         ],
         "xaxis": "x",
         "y": [
          0,
          20.58129606319702,
          20.58129606319702,
          13.793724301543527
         ],
         "yaxis": "y"
        },
        {
         "hoverinfo": "text",
         "marker": {
          "color": "rgb(61,153,112)"
         },
         "mode": "lines",
         "type": "scatter",
         "x": [
          225,
          225,
          235,
          235
         ],
         "xaxis": "x",
         "y": [
          0,
          21.588273491898466,
          21.588273491898466,
          0
         ],
         "yaxis": "y"
        },
        {
         "hoverinfo": "text",
         "marker": {
          "color": "rgb(61,153,112)"
         },
         "mode": "lines",
         "type": "scatter",
         "x": [
          215,
          215,
          230,
          230
         ],
         "xaxis": "x",
         "y": [
          0,
          23.07648369995784,
          23.07648369995784,
          21.588273491898466
         ],
         "yaxis": "y"
        },
        {
         "hoverinfo": "text",
         "marker": {
          "color": "rgb(61,153,112)"
         },
         "mode": "lines",
         "type": "scatter",
         "x": [
          192.5,
          192.5,
          222.5,
          222.5
         ],
         "xaxis": "x",
         "y": [
          20.58129606319702,
          25.87509816351305,
          25.87509816351305,
          23.07648369995784
         ],
         "yaxis": "y"
        },
        {
         "hoverinfo": "text",
         "marker": {
          "color": "rgb(61,153,112)"
         },
         "mode": "lines",
         "type": "scatter",
         "x": [
          175,
          175,
          207.5,
          207.5
         ],
         "xaxis": "x",
         "y": [
          0,
          29.734101991176168,
          29.734101991176168,
          25.87509816351305
         ],
         "yaxis": "y"
        },
        {
         "hoverinfo": "text",
         "marker": {
          "color": "rgb(61,153,112)"
         },
         "mode": "lines",
         "type": "scatter",
         "x": [
          265,
          265,
          275,
          275
         ],
         "xaxis": "x",
         "y": [
          0,
          21.610372508312388,
          21.610372508312388,
          0
         ],
         "yaxis": "y"
        },
        {
         "hoverinfo": "text",
         "marker": {
          "color": "rgb(61,153,112)"
         },
         "mode": "lines",
         "type": "scatter",
         "x": [
          345,
          345,
          355,
          355
         ],
         "xaxis": "x",
         "y": [
          0,
          12.836209703495127,
          12.836209703495127,
          0
         ],
         "yaxis": "y"
        },
        {
         "hoverinfo": "text",
         "marker": {
          "color": "rgb(61,153,112)"
         },
         "mode": "lines",
         "type": "scatter",
         "x": [
          335,
          335,
          350,
          350
         ],
         "xaxis": "x",
         "y": [
          0,
          22.562094076724023,
          22.562094076724023,
          12.836209703495127
         ],
         "yaxis": "y"
        },
        {
         "hoverinfo": "text",
         "marker": {
          "color": "rgb(61,153,112)"
         },
         "mode": "lines",
         "type": "scatter",
         "x": [
          375,
          375,
          385,
          385
         ],
         "xaxis": "x",
         "y": [
          0,
          15.168901089192316,
          15.168901089192316,
          0
         ],
         "yaxis": "y"
        },
        {
         "hoverinfo": "text",
         "marker": {
          "color": "rgb(61,153,112)"
         },
         "mode": "lines",
         "type": "scatter",
         "x": [
          395,
          395,
          405,
          405
         ],
         "xaxis": "x",
         "y": [
          0,
          14.997618617842933,
          14.997618617842933,
          0
         ],
         "yaxis": "y"
        },
        {
         "hoverinfo": "text",
         "marker": {
          "color": "rgb(61,153,112)"
         },
         "mode": "lines",
         "type": "scatter",
         "x": [
          415,
          415,
          425,
          425
         ],
         "xaxis": "x",
         "y": [
          0,
          20.937866766497407,
          20.937866766497407,
          0
         ],
         "yaxis": "y"
        },
        {
         "hoverinfo": "text",
         "marker": {
          "color": "rgb(61,153,112)"
         },
         "mode": "lines",
         "type": "scatter",
         "x": [
          435,
          435,
          445,
          445
         ],
         "xaxis": "x",
         "y": [
          0,
          20.56954215353054,
          20.56954215353054,
          0
         ],
         "yaxis": "y"
        },
        {
         "hoverinfo": "text",
         "marker": {
          "color": "rgb(61,153,112)"
         },
         "mode": "lines",
         "type": "scatter",
         "x": [
          495,
          495,
          505,
          505
         ],
         "xaxis": "x",
         "y": [
          0,
          2.0940301826895995,
          2.0940301826895995,
          0
         ],
         "yaxis": "y"
        },
        {
         "hoverinfo": "text",
         "marker": {
          "color": "rgb(61,153,112)"
         },
         "mode": "lines",
         "type": "scatter",
         "x": [
          515,
          515,
          525,
          525
         ],
         "xaxis": "x",
         "y": [
          0,
          10.583755283914353,
          10.583755283914353,
          0
         ],
         "yaxis": "y"
        },
        {
         "hoverinfo": "text",
         "marker": {
          "color": "rgb(61,153,112)"
         },
         "mode": "lines",
         "type": "scatter",
         "x": [
          500,
          500,
          520,
          520
         ],
         "xaxis": "x",
         "y": [
          2.0940301826895995,
          16.619840876094003,
          16.619840876094003,
          10.583755283914353
         ],
         "yaxis": "y"
        },
        {
         "hoverinfo": "text",
         "marker": {
          "color": "rgb(61,153,112)"
         },
         "mode": "lines",
         "type": "scatter",
         "x": [
          535,
          535,
          545,
          545
         ],
         "xaxis": "x",
         "y": [
          0,
          9.995146820159048,
          9.995146820159048,
          0
         ],
         "yaxis": "y"
        },
        {
         "hoverinfo": "text",
         "marker": {
          "color": "rgb(61,153,112)"
         },
         "mode": "lines",
         "type": "scatter",
         "x": [
          575,
          575,
          585,
          585
         ],
         "xaxis": "x",
         "y": [
          0,
          20.9378667664974,
          20.9378667664974,
          0
         ],
         "yaxis": "y"
        },
        {
         "hoverinfo": "text",
         "marker": {
          "color": "rgb(61,153,112)"
         },
         "mode": "lines",
         "type": "scatter",
         "x": [
          615,
          615,
          625,
          625
         ],
         "xaxis": "x",
         "y": [
          0,
          20.937866766497404,
          20.937866766497404,
          0
         ],
         "yaxis": "y"
        },
        {
         "hoverinfo": "text",
         "marker": {
          "color": "rgb(61,153,112)"
         },
         "mode": "lines",
         "type": "scatter",
         "x": [
          605,
          605,
          620,
          620
         ],
         "xaxis": "x",
         "y": [
          0,
          21.32864169282516,
          21.32864169282516,
          20.937866766497404
         ],
         "yaxis": "y"
        },
        {
         "hoverinfo": "text",
         "marker": {
          "color": "rgb(61,153,112)"
         },
         "mode": "lines",
         "type": "scatter",
         "x": [
          595,
          595,
          612.5,
          612.5
         ],
         "xaxis": "x",
         "y": [
          0,
          21.4922531841626,
          21.4922531841626,
          21.32864169282516
         ],
         "yaxis": "y"
        },
        {
         "hoverinfo": "text",
         "marker": {
          "color": "rgb(61,153,112)"
         },
         "mode": "lines",
         "type": "scatter",
         "x": [
          635,
          635,
          645,
          645
         ],
         "xaxis": "x",
         "y": [
          0,
          20.832889917761804,
          20.832889917761804,
          0
         ],
         "yaxis": "y"
        },
        {
         "hoverinfo": "text",
         "marker": {
          "color": "rgb(61,153,112)"
         },
         "mode": "lines",
         "type": "scatter",
         "x": [
          655,
          655,
          665,
          665
         ],
         "xaxis": "x",
         "y": [
          0,
          20.937866766497407,
          20.937866766497407,
          0
         ],
         "yaxis": "y"
        },
        {
         "hoverinfo": "text",
         "marker": {
          "color": "rgb(61,153,112)"
         },
         "mode": "lines",
         "type": "scatter",
         "x": [
          705,
          705,
          715,
          715
         ],
         "xaxis": "x",
         "y": [
          0,
          5.647179444652823,
          5.647179444652823,
          0
         ],
         "yaxis": "y"
        },
        {
         "hoverinfo": "text",
         "marker": {
          "color": "rgb(61,153,112)"
         },
         "mode": "lines",
         "type": "scatter",
         "x": [
          745,
          745,
          755,
          755
         ],
         "xaxis": "x",
         "y": [
          0,
          0,
          0,
          0
         ],
         "yaxis": "y"
        },
        {
         "hoverinfo": "text",
         "marker": {
          "color": "rgb(61,153,112)"
         },
         "mode": "lines",
         "type": "scatter",
         "x": [
          735,
          735,
          750,
          750
         ],
         "xaxis": "x",
         "y": [
          0,
          6.176723534520792,
          6.176723534520792,
          0
         ],
         "yaxis": "y"
        },
        {
         "hoverinfo": "text",
         "marker": {
          "color": "rgb(61,153,112)"
         },
         "mode": "lines",
         "type": "scatter",
         "x": [
          845,
          845,
          855,
          855
         ],
         "xaxis": "x",
         "y": [
          0,
          9.4792206529339,
          9.4792206529339,
          0
         ],
         "yaxis": "y"
        },
        {
         "hoverinfo": "text",
         "marker": {
          "color": "rgb(61,153,112)"
         },
         "mode": "lines",
         "type": "scatter",
         "x": [
          875,
          875,
          885,
          885
         ],
         "xaxis": "x",
         "y": [
          0,
          4.743828943319758,
          4.743828943319758,
          0
         ],
         "yaxis": "y"
        },
        {
         "hoverinfo": "text",
         "marker": {
          "color": "rgb(61,153,112)"
         },
         "mode": "lines",
         "type": "scatter",
         "x": [
          905,
          905,
          915,
          915
         ],
         "xaxis": "x",
         "y": [
          0,
          4.354878001277995,
          4.354878001277995,
          0
         ],
         "yaxis": "y"
        },
        {
         "hoverinfo": "text",
         "marker": {
          "color": "rgb(61,153,112)"
         },
         "mode": "lines",
         "type": "scatter",
         "x": [
          895,
          895,
          910,
          910
         ],
         "xaxis": "x",
         "y": [
          0,
          7.166791180192323,
          7.166791180192323,
          4.354878001277995
         ],
         "yaxis": "y"
        },
        {
         "hoverinfo": "text",
         "marker": {
          "color": "rgb(61,153,112)"
         },
         "mode": "lines",
         "type": "scatter",
         "x": [
          995,
          995,
          1005,
          1005
         ],
         "xaxis": "x",
         "y": [
          0,
          3.6039309763073635,
          3.6039309763073635,
          0
         ],
         "yaxis": "y"
        },
        {
         "hoverinfo": "text",
         "marker": {
          "color": "rgb(61,153,112)"
         },
         "mode": "lines",
         "type": "scatter",
         "x": [
          985,
          985,
          1000,
          1000
         ],
         "xaxis": "x",
         "y": [
          0,
          4.577036504644481,
          4.577036504644481,
          3.6039309763073635
         ],
         "yaxis": "y"
        },
        {
         "hoverinfo": "text",
         "marker": {
          "color": "rgb(61,153,112)"
         },
         "mode": "lines",
         "type": "scatter",
         "x": [
          975,
          975,
          992.5,
          992.5
         ],
         "xaxis": "x",
         "y": [
          0,
          7.732079594049174,
          7.732079594049174,
          4.577036504644481
         ],
         "yaxis": "y"
        },
        {
         "hoverinfo": "text",
         "marker": {
          "color": "rgb(61,153,112)"
         },
         "mode": "lines",
         "type": "scatter",
         "x": [
          1015,
          1015,
          1025,
          1025
         ],
         "xaxis": "x",
         "y": [
          0,
          8.301759277929035,
          8.301759277929035,
          0
         ],
         "yaxis": "y"
        },
        {
         "hoverinfo": "text",
         "marker": {
          "color": "rgb(61,153,112)"
         },
         "mode": "lines",
         "type": "scatter",
         "x": [
          1045,
          1045,
          1055,
          1055
         ],
         "xaxis": "x",
         "y": [
          0,
          4.1048544626033,
          4.1048544626033,
          0
         ],
         "yaxis": "y"
        },
        {
         "hoverinfo": "text",
         "marker": {
          "color": "rgb(61,153,112)"
         },
         "mode": "lines",
         "type": "scatter",
         "x": [
          1085,
          1085,
          1095,
          1095
         ],
         "xaxis": "x",
         "y": [
          0,
          0,
          0,
          0
         ],
         "yaxis": "y"
        },
        {
         "hoverinfo": "text",
         "marker": {
          "color": "rgb(61,153,112)"
         },
         "mode": "lines",
         "type": "scatter",
         "x": [
          1075,
          1075,
          1090,
          1090
         ],
         "xaxis": "x",
         "y": [
          0,
          2.417977779334083,
          2.417977779334083,
          0
         ],
         "yaxis": "y"
        },
        {
         "hoverinfo": "text",
         "marker": {
          "color": "rgb(61,153,112)"
         },
         "mode": "lines",
         "type": "scatter",
         "x": [
          1065,
          1065,
          1082.5,
          1082.5
         ],
         "xaxis": "x",
         "y": [
          0,
          3.848269459886364,
          3.848269459886364,
          2.417977779334083
         ],
         "yaxis": "y"
        },
        {
         "hoverinfo": "text",
         "marker": {
          "color": "rgb(61,153,112)"
         },
         "mode": "lines",
         "type": "scatter",
         "x": [
          1135,
          1135,
          1145,
          1145
         ],
         "xaxis": "x",
         "y": [
          0,
          0,
          0,
          0
         ],
         "yaxis": "y"
        },
        {
         "hoverinfo": "text",
         "marker": {
          "color": "rgb(61,153,112)"
         },
         "mode": "lines",
         "type": "scatter",
         "x": [
          1125,
          1125,
          1140,
          1140
         ],
         "xaxis": "x",
         "y": [
          0,
          0,
          0,
          0
         ],
         "yaxis": "y"
        },
        {
         "hoverinfo": "text",
         "marker": {
          "color": "rgb(61,153,112)"
         },
         "mode": "lines",
         "type": "scatter",
         "x": [
          1155,
          1155,
          1165,
          1165
         ],
         "xaxis": "x",
         "y": [
          0,
          0,
          0,
          0
         ],
         "yaxis": "y"
        },
        {
         "hoverinfo": "text",
         "marker": {
          "color": "rgb(61,153,112)"
         },
         "mode": "lines",
         "type": "scatter",
         "x": [
          1132.5,
          1132.5,
          1160,
          1160
         ],
         "xaxis": "x",
         "y": [
          0,
          3.244057609604998,
          3.244057609604998,
          0
         ],
         "yaxis": "y"
        },
        {
         "hoverinfo": "text",
         "marker": {
          "color": "rgb(61,153,112)"
         },
         "mode": "lines",
         "type": "scatter",
         "x": [
          1115,
          1115,
          1146.25,
          1146.25
         ],
         "xaxis": "x",
         "y": [
          0,
          7.7429124750651175,
          7.7429124750651175,
          3.244057609604998
         ],
         "yaxis": "y"
        },
        {
         "hoverinfo": "text",
         "marker": {
          "color": "rgb(61,153,112)"
         },
         "mode": "lines",
         "type": "scatter",
         "x": [
          1195,
          1195,
          1205,
          1205
         ],
         "xaxis": "x",
         "y": [
          0,
          0,
          0,
          0
         ],
         "yaxis": "y"
        },
        {
         "hoverinfo": "text",
         "marker": {
          "color": "rgb(61,153,112)"
         },
         "mode": "lines",
         "type": "scatter",
         "x": [
          1185,
          1185,
          1200,
          1200
         ],
         "xaxis": "x",
         "y": [
          0,
          0,
          0,
          0
         ],
         "yaxis": "y"
        },
        {
         "hoverinfo": "text",
         "marker": {
          "color": "rgb(61,153,112)"
         },
         "mode": "lines",
         "type": "scatter",
         "x": [
          1295,
          1295,
          1305,
          1305
         ],
         "xaxis": "x",
         "y": [
          0,
          0,
          0,
          0
         ],
         "yaxis": "y"
        },
        {
         "hoverinfo": "text",
         "marker": {
          "color": "rgb(61,153,112)"
         },
         "mode": "lines",
         "type": "scatter",
         "x": [
          1285,
          1285,
          1300,
          1300
         ],
         "xaxis": "x",
         "y": [
          0,
          0,
          0,
          0
         ],
         "yaxis": "y"
        },
        {
         "hoverinfo": "text",
         "marker": {
          "color": "rgb(61,153,112)"
         },
         "mode": "lines",
         "type": "scatter",
         "x": [
          1275,
          1275,
          1292.5,
          1292.5
         ],
         "xaxis": "x",
         "y": [
          0,
          0,
          0,
          0
         ],
         "yaxis": "y"
        },
        {
         "hoverinfo": "text",
         "marker": {
          "color": "rgb(61,153,112)"
         },
         "mode": "lines",
         "type": "scatter",
         "x": [
          1265,
          1265,
          1283.75,
          1283.75
         ],
         "xaxis": "x",
         "y": [
          0,
          0,
          0,
          0
         ],
         "yaxis": "y"
        },
        {
         "hoverinfo": "text",
         "marker": {
          "color": "rgb(61,153,112)"
         },
         "mode": "lines",
         "type": "scatter",
         "x": [
          1255,
          1255,
          1274.375,
          1274.375
         ],
         "xaxis": "x",
         "y": [
          0,
          0,
          0,
          0
         ],
         "yaxis": "y"
        },
        {
         "hoverinfo": "text",
         "marker": {
          "color": "rgb(61,153,112)"
         },
         "mode": "lines",
         "type": "scatter",
         "x": [
          1245,
          1245,
          1264.6875,
          1264.6875
         ],
         "xaxis": "x",
         "y": [
          0,
          0,
          0,
          0
         ],
         "yaxis": "y"
        },
        {
         "hoverinfo": "text",
         "marker": {
          "color": "rgb(61,153,112)"
         },
         "mode": "lines",
         "type": "scatter",
         "x": [
          1235,
          1235,
          1254.84375,
          1254.84375
         ],
         "xaxis": "x",
         "y": [
          0,
          0,
          0,
          0
         ],
         "yaxis": "y"
        },
        {
         "hoverinfo": "text",
         "marker": {
          "color": "rgb(61,153,112)"
         },
         "mode": "lines",
         "type": "scatter",
         "x": [
          1225,
          1225,
          1244.921875,
          1244.921875
         ],
         "xaxis": "x",
         "y": [
          0,
          0,
          0,
          0
         ],
         "yaxis": "y"
        },
        {
         "hoverinfo": "text",
         "marker": {
          "color": "rgb(61,153,112)"
         },
         "mode": "lines",
         "type": "scatter",
         "x": [
          1215,
          1215,
          1234.9609375,
          1234.9609375
         ],
         "xaxis": "x",
         "y": [
          0,
          0,
          0,
          0
         ],
         "yaxis": "y"
        },
        {
         "hoverinfo": "text",
         "marker": {
          "color": "rgb(61,153,112)"
         },
         "mode": "lines",
         "type": "scatter",
         "x": [
          1315,
          1315,
          1325,
          1325
         ],
         "xaxis": "x",
         "y": [
          0,
          4.548628603540743,
          4.548628603540743,
          0
         ],
         "yaxis": "y"
        },
        {
         "hoverinfo": "text",
         "marker": {
          "color": "rgb(61,153,112)"
         },
         "mode": "lines",
         "type": "scatter",
         "x": [
          1615,
          1615,
          1625,
          1625
         ],
         "xaxis": "x",
         "y": [
          0,
          0,
          0,
          0
         ],
         "yaxis": "y"
        },
        {
         "hoverinfo": "text",
         "marker": {
          "color": "rgb(61,153,112)"
         },
         "mode": "lines",
         "type": "scatter",
         "x": [
          1605,
          1605,
          1620,
          1620
         ],
         "xaxis": "x",
         "y": [
          0,
          0,
          0,
          0
         ],
         "yaxis": "y"
        },
        {
         "hoverinfo": "text",
         "marker": {
          "color": "rgb(61,153,112)"
         },
         "mode": "lines",
         "type": "scatter",
         "x": [
          1595,
          1595,
          1612.5,
          1612.5
         ],
         "xaxis": "x",
         "y": [
          0,
          0,
          0,
          0
         ],
         "yaxis": "y"
        },
        {
         "hoverinfo": "text",
         "marker": {
          "color": "rgb(61,153,112)"
         },
         "mode": "lines",
         "type": "scatter",
         "x": [
          1585,
          1585,
          1603.75,
          1603.75
         ],
         "xaxis": "x",
         "y": [
          0,
          0,
          0,
          0
         ],
         "yaxis": "y"
        },
        {
         "hoverinfo": "text",
         "marker": {
          "color": "rgb(61,153,112)"
         },
         "mode": "lines",
         "type": "scatter",
         "x": [
          1575,
          1575,
          1594.375,
          1594.375
         ],
         "xaxis": "x",
         "y": [
          0,
          0,
          0,
          0
         ],
         "yaxis": "y"
        },
        {
         "hoverinfo": "text",
         "marker": {
          "color": "rgb(61,153,112)"
         },
         "mode": "lines",
         "type": "scatter",
         "x": [
          1565,
          1565,
          1584.6875,
          1584.6875
         ],
         "xaxis": "x",
         "y": [
          0,
          0,
          0,
          0
         ],
         "yaxis": "y"
        },
        {
         "hoverinfo": "text",
         "marker": {
          "color": "rgb(61,153,112)"
         },
         "mode": "lines",
         "type": "scatter",
         "x": [
          1555,
          1555,
          1574.84375,
          1574.84375
         ],
         "xaxis": "x",
         "y": [
          0,
          0,
          0,
          0
         ],
         "yaxis": "y"
        },
        {
         "hoverinfo": "text",
         "marker": {
          "color": "rgb(61,153,112)"
         },
         "mode": "lines",
         "type": "scatter",
         "x": [
          1545,
          1545,
          1564.921875,
          1564.921875
         ],
         "xaxis": "x",
         "y": [
          0,
          0,
          0,
          0
         ],
         "yaxis": "y"
        },
        {
         "hoverinfo": "text",
         "marker": {
          "color": "rgb(61,153,112)"
         },
         "mode": "lines",
         "type": "scatter",
         "x": [
          1535,
          1535,
          1554.9609375,
          1554.9609375
         ],
         "xaxis": "x",
         "y": [
          0,
          0,
          0,
          0
         ],
         "yaxis": "y"
        },
        {
         "hoverinfo": "text",
         "marker": {
          "color": "rgb(61,153,112)"
         },
         "mode": "lines",
         "type": "scatter",
         "x": [
          1525,
          1525,
          1544.98046875,
          1544.98046875
         ],
         "xaxis": "x",
         "y": [
          0,
          0,
          0,
          0
         ],
         "yaxis": "y"
        },
        {
         "hoverinfo": "text",
         "marker": {
          "color": "rgb(61,153,112)"
         },
         "mode": "lines",
         "type": "scatter",
         "x": [
          1515,
          1515,
          1534.990234375,
          1534.990234375
         ],
         "xaxis": "x",
         "y": [
          0,
          0,
          0,
          0
         ],
         "yaxis": "y"
        },
        {
         "hoverinfo": "text",
         "marker": {
          "color": "rgb(61,153,112)"
         },
         "mode": "lines",
         "type": "scatter",
         "x": [
          1505,
          1505,
          1524.9951171875,
          1524.9951171875
         ],
         "xaxis": "x",
         "y": [
          0,
          0,
          0,
          0
         ],
         "yaxis": "y"
        },
        {
         "hoverinfo": "text",
         "marker": {
          "color": "rgb(61,153,112)"
         },
         "mode": "lines",
         "type": "scatter",
         "x": [
          1495,
          1495,
          1514.99755859375,
          1514.99755859375
         ],
         "xaxis": "x",
         "y": [
          0,
          0,
          0,
          0
         ],
         "yaxis": "y"
        },
        {
         "hoverinfo": "text",
         "marker": {
          "color": "rgb(61,153,112)"
         },
         "mode": "lines",
         "type": "scatter",
         "x": [
          1485,
          1485,
          1504.998779296875,
          1504.998779296875
         ],
         "xaxis": "x",
         "y": [
          0,
          0,
          0,
          0
         ],
         "yaxis": "y"
        },
        {
         "hoverinfo": "text",
         "marker": {
          "color": "rgb(61,153,112)"
         },
         "mode": "lines",
         "type": "scatter",
         "x": [
          1475,
          1475,
          1494.9993896484375,
          1494.9993896484375
         ],
         "xaxis": "x",
         "y": [
          0,
          0,
          0,
          0
         ],
         "yaxis": "y"
        },
        {
         "hoverinfo": "text",
         "marker": {
          "color": "rgb(61,153,112)"
         },
         "mode": "lines",
         "type": "scatter",
         "x": [
          1465,
          1465,
          1484.9996948242188,
          1484.9996948242188
         ],
         "xaxis": "x",
         "y": [
          0,
          0,
          0,
          0
         ],
         "yaxis": "y"
        },
        {
         "hoverinfo": "text",
         "marker": {
          "color": "rgb(61,153,112)"
         },
         "mode": "lines",
         "type": "scatter",
         "x": [
          1455,
          1455,
          1474.9998474121094,
          1474.9998474121094
         ],
         "xaxis": "x",
         "y": [
          0,
          0,
          0,
          0
         ],
         "yaxis": "y"
        },
        {
         "hoverinfo": "text",
         "marker": {
          "color": "rgb(61,153,112)"
         },
         "mode": "lines",
         "type": "scatter",
         "x": [
          1445,
          1445,
          1464.9999237060547,
          1464.9999237060547
         ],
         "xaxis": "x",
         "y": [
          0,
          0,
          0,
          0
         ],
         "yaxis": "y"
        },
        {
         "hoverinfo": "text",
         "marker": {
          "color": "rgb(61,153,112)"
         },
         "mode": "lines",
         "type": "scatter",
         "x": [
          1435,
          1435,
          1454.9999618530273,
          1454.9999618530273
         ],
         "xaxis": "x",
         "y": [
          0,
          0,
          0,
          0
         ],
         "yaxis": "y"
        },
        {
         "hoverinfo": "text",
         "marker": {
          "color": "rgb(61,153,112)"
         },
         "mode": "lines",
         "type": "scatter",
         "x": [
          1425,
          1425,
          1444.9999809265137,
          1444.9999809265137
         ],
         "xaxis": "x",
         "y": [
          0,
          0,
          0,
          0
         ],
         "yaxis": "y"
        },
        {
         "hoverinfo": "text",
         "marker": {
          "color": "rgb(61,153,112)"
         },
         "mode": "lines",
         "type": "scatter",
         "x": [
          1415,
          1415,
          1434.9999904632568,
          1434.9999904632568
         ],
         "xaxis": "x",
         "y": [
          0,
          0,
          0,
          0
         ],
         "yaxis": "y"
        },
        {
         "hoverinfo": "text",
         "marker": {
          "color": "rgb(61,153,112)"
         },
         "mode": "lines",
         "type": "scatter",
         "x": [
          1405,
          1405,
          1424.9999952316284,
          1424.9999952316284
         ],
         "xaxis": "x",
         "y": [
          0,
          0,
          0,
          0
         ],
         "yaxis": "y"
        },
        {
         "hoverinfo": "text",
         "marker": {
          "color": "rgb(61,153,112)"
         },
         "mode": "lines",
         "type": "scatter",
         "x": [
          1395,
          1395,
          1414.9999976158142,
          1414.9999976158142
         ],
         "xaxis": "x",
         "y": [
          0,
          0,
          0,
          0
         ],
         "yaxis": "y"
        },
        {
         "hoverinfo": "text",
         "marker": {
          "color": "rgb(61,153,112)"
         },
         "mode": "lines",
         "type": "scatter",
         "x": [
          1385,
          1385,
          1404.999998807907,
          1404.999998807907
         ],
         "xaxis": "x",
         "y": [
          0,
          0,
          0,
          0
         ],
         "yaxis": "y"
        },
        {
         "hoverinfo": "text",
         "marker": {
          "color": "rgb(61,153,112)"
         },
         "mode": "lines",
         "type": "scatter",
         "x": [
          1375,
          1375,
          1394.9999994039536,
          1394.9999994039536
         ],
         "xaxis": "x",
         "y": [
          0,
          0,
          0,
          0
         ],
         "yaxis": "y"
        },
        {
         "hoverinfo": "text",
         "marker": {
          "color": "rgb(61,153,112)"
         },
         "mode": "lines",
         "type": "scatter",
         "x": [
          1365,
          1365,
          1384.9999997019768,
          1384.9999997019768
         ],
         "xaxis": "x",
         "y": [
          0,
          0,
          0,
          0
         ],
         "yaxis": "y"
        },
        {
         "hoverinfo": "text",
         "marker": {
          "color": "rgb(61,153,112)"
         },
         "mode": "lines",
         "type": "scatter",
         "x": [
          1355,
          1355,
          1374.9999998509884,
          1374.9999998509884
         ],
         "xaxis": "x",
         "y": [
          0,
          0,
          0,
          0
         ],
         "yaxis": "y"
        },
        {
         "hoverinfo": "text",
         "marker": {
          "color": "rgb(61,153,112)"
         },
         "mode": "lines",
         "type": "scatter",
         "x": [
          1345,
          1345,
          1364.9999999254942,
          1364.9999999254942
         ],
         "xaxis": "x",
         "y": [
          0,
          5.644286669198948,
          5.644286669198948,
          0
         ],
         "yaxis": "y"
        },
        {
         "hoverinfo": "text",
         "marker": {
          "color": "rgb(61,153,112)"
         },
         "mode": "lines",
         "type": "scatter",
         "x": [
          1335,
          1335,
          1354.999999962747,
          1354.999999962747
         ],
         "xaxis": "x",
         "y": [
          0,
          7.365162487334548,
          7.365162487334548,
          5.644286669198948
         ],
         "yaxis": "y"
        },
        {
         "hoverinfo": "text",
         "marker": {
          "color": "rgb(61,153,112)"
         },
         "mode": "lines",
         "type": "scatter",
         "x": [
          1320,
          1320,
          1344.9999999813735,
          1344.9999999813735
         ],
         "xaxis": "x",
         "y": [
          4.548628603540743,
          8.144060286142217,
          8.144060286142217,
          7.365162487334548
         ],
         "yaxis": "y"
        },
        {
         "hoverinfo": "text",
         "marker": {
          "color": "rgb(61,153,112)"
         },
         "mode": "lines",
         "type": "scatter",
         "x": [
          1224.98046875,
          1224.98046875,
          1332.4999999906868,
          1332.4999999906868
         ],
         "xaxis": "x",
         "y": [
          0,
          8.278348963420074,
          8.278348963420074,
          8.144060286142217
         ],
         "yaxis": "y"
        },
        {
         "hoverinfo": "text",
         "marker": {
          "color": "rgb(61,153,112)"
         },
         "mode": "lines",
         "type": "scatter",
         "x": [
          1192.5,
          1192.5,
          1278.7402343703434,
          1278.7402343703434
         ],
         "xaxis": "x",
         "y": [
          0,
          8.66409223852181,
          8.66409223852181,
          8.278348963420074
         ],
         "yaxis": "y"
        },
        {
         "hoverinfo": "text",
         "marker": {
          "color": "rgb(61,153,112)"
         },
         "mode": "lines",
         "type": "scatter",
         "x": [
          1175,
          1175,
          1235.6201171851717,
          1235.6201171851717
         ],
         "xaxis": "x",
         "y": [
          0,
          9.336665349201974,
          9.336665349201974,
          8.66409223852181
         ],
         "yaxis": "y"
        },
        {
         "hoverinfo": "text",
         "marker": {
          "color": "rgb(61,153,112)"
         },
         "mode": "lines",
         "type": "scatter",
         "x": [
          1130.625,
          1130.625,
          1205.3100585925858,
          1205.3100585925858
         ],
         "xaxis": "x",
         "y": [
          7.7429124750651175,
          9.825045394628626,
          9.825045394628626,
          9.336665349201974
         ],
         "yaxis": "y"
        },
        {
         "hoverinfo": "text",
         "marker": {
          "color": "rgb(61,153,112)"
         },
         "mode": "lines",
         "type": "scatter",
         "x": [
          1105,
          1105,
          1167.967529296293,
          1167.967529296293
         ],
         "xaxis": "x",
         "y": [
          0,
          10.433287691772808,
          10.433287691772808,
          9.825045394628626
         ],
         "yaxis": "y"
        },
        {
         "hoverinfo": "text",
         "marker": {
          "color": "rgb(61,153,112)"
         },
         "mode": "lines",
         "type": "scatter",
         "x": [
          1073.75,
          1073.75,
          1136.4837646481465,
          1136.4837646481465
         ],
         "xaxis": "x",
         "y": [
          3.848269459886364,
          10.628831727482824,
          10.628831727482824,
          10.433287691772808
         ],
         "yaxis": "y"
        },
        {
         "hoverinfo": "text",
         "marker": {
          "color": "rgb(61,153,112)"
         },
         "mode": "lines",
         "type": "scatter",
         "x": [
          1050,
          1050,
          1105.1168823240732,
          1105.1168823240732
         ],
         "xaxis": "x",
         "y": [
          4.1048544626033,
          11.656046782986653,
          11.656046782986653,
          10.628831727482824
         ],
         "yaxis": "y"
        },
        {
         "hoverinfo": "text",
         "marker": {
          "color": "rgb(61,153,112)"
         },
         "mode": "lines",
         "type": "scatter",
         "x": [
          1035,
          1035,
          1077.5584411620366,
          1077.5584411620366
         ],
         "xaxis": "x",
         "y": [
          0,
          12.034026615066432,
          12.034026615066432,
          11.656046782986653
         ],
         "yaxis": "y"
        },
        {
         "hoverinfo": "text",
         "marker": {
          "color": "rgb(61,153,112)"
         },
         "mode": "lines",
         "type": "scatter",
         "x": [
          1020,
          1020,
          1056.2792205810183,
          1056.2792205810183
         ],
         "xaxis": "x",
         "y": [
          8.301759277929035,
          12.520972922773295,
          12.520972922773295,
          12.034026615066432
         ],
         "yaxis": "y"
        },
        {
         "hoverinfo": "text",
         "marker": {
          "color": "rgb(61,153,112)"
         },
         "mode": "lines",
         "type": "scatter",
         "x": [
          983.75,
          983.75,
          1038.1396102905092,
          1038.1396102905092
         ],
         "xaxis": "x",
         "y": [
          7.732079594049174,
          13.537785830915038,
          13.537785830915038,
          12.520972922773295
         ],
         "yaxis": "y"
        },
        {
         "hoverinfo": "text",
         "marker": {
          "color": "rgb(61,153,112)"
         },
         "mode": "lines",
         "type": "scatter",
         "x": [
          965,
          965,
          1010.9448051452546,
          1010.9448051452546
         ],
         "xaxis": "x",
         "y": [
          0,
          13.582563885761598,
          13.582563885761598,
          13.537785830915038
         ],
         "yaxis": "y"
        },
        {
         "hoverinfo": "text",
         "marker": {
          "color": "rgb(61,153,112)"
         },
         "mode": "lines",
         "type": "scatter",
         "x": [
          1675,
          1675,
          1685,
          1685
         ],
         "xaxis": "x",
         "y": [
          0,
          3.6039309763073635,
          3.6039309763073635,
          0
         ],
         "yaxis": "y"
        },
        {
         "hoverinfo": "text",
         "marker": {
          "color": "rgb(61,153,112)"
         },
         "mode": "lines",
         "type": "scatter",
         "x": [
          1665,
          1665,
          1680,
          1680
         ],
         "xaxis": "x",
         "y": [
          0,
          6.844726953463891,
          6.844726953463891,
          3.6039309763073635
         ],
         "yaxis": "y"
        },
        {
         "hoverinfo": "text",
         "marker": {
          "color": "rgb(61,153,112)"
         },
         "mode": "lines",
         "type": "scatter",
         "x": [
          1755,
          1755,
          1765,
          1765
         ],
         "xaxis": "x",
         "y": [
          0,
          0,
          0,
          0
         ],
         "yaxis": "y"
        },
        {
         "hoverinfo": "text",
         "marker": {
          "color": "rgb(61,153,112)"
         },
         "mode": "lines",
         "type": "scatter",
         "x": [
          1745,
          1745,
          1760,
          1760
         ],
         "xaxis": "x",
         "y": [
          0,
          0,
          0,
          0
         ],
         "yaxis": "y"
        },
        {
         "hoverinfo": "text",
         "marker": {
          "color": "rgb(61,153,112)"
         },
         "mode": "lines",
         "type": "scatter",
         "x": [
          1735,
          1735,
          1752.5,
          1752.5
         ],
         "xaxis": "x",
         "y": [
          0,
          0,
          0,
          0
         ],
         "yaxis": "y"
        },
        {
         "hoverinfo": "text",
         "marker": {
          "color": "rgb(61,153,112)"
         },
         "mode": "lines",
         "type": "scatter",
         "x": [
          1725,
          1725,
          1743.75,
          1743.75
         ],
         "xaxis": "x",
         "y": [
          0,
          0,
          0,
          0
         ],
         "yaxis": "y"
        },
        {
         "hoverinfo": "text",
         "marker": {
          "color": "rgb(61,153,112)"
         },
         "mode": "lines",
         "type": "scatter",
         "x": [
          1795,
          1795,
          1805,
          1805
         ],
         "xaxis": "x",
         "y": [
          0,
          0,
          0,
          0
         ],
         "yaxis": "y"
        },
        {
         "hoverinfo": "text",
         "marker": {
          "color": "rgb(61,153,112)"
         },
         "mode": "lines",
         "type": "scatter",
         "x": [
          1785,
          1785,
          1800,
          1800
         ],
         "xaxis": "x",
         "y": [
          0,
          0,
          0,
          0
         ],
         "yaxis": "y"
        },
        {
         "hoverinfo": "text",
         "marker": {
          "color": "rgb(61,153,112)"
         },
         "mode": "lines",
         "type": "scatter",
         "x": [
          1775,
          1775,
          1792.5,
          1792.5
         ],
         "xaxis": "x",
         "y": [
          0,
          3.4475889495729324,
          3.4475889495729324,
          0
         ],
         "yaxis": "y"
        },
        {
         "hoverinfo": "text",
         "marker": {
          "color": "rgb(61,153,112)"
         },
         "mode": "lines",
         "type": "scatter",
         "x": [
          1734.375,
          1734.375,
          1783.75,
          1783.75
         ],
         "xaxis": "x",
         "y": [
          0,
          4.657231877524784,
          4.657231877524784,
          3.4475889495729324
         ],
         "yaxis": "y"
        },
        {
         "hoverinfo": "text",
         "marker": {
          "color": "rgb(61,153,112)"
         },
         "mode": "lines",
         "type": "scatter",
         "x": [
          1715,
          1715,
          1759.0625,
          1759.0625
         ],
         "xaxis": "x",
         "y": [
          0,
          6.313019649374922,
          6.313019649374922,
          4.657231877524784
         ],
         "yaxis": "y"
        },
        {
         "hoverinfo": "text",
         "marker": {
          "color": "rgb(61,153,112)"
         },
         "mode": "lines",
         "type": "scatter",
         "x": [
          1705,
          1705,
          1737.03125,
          1737.03125
         ],
         "xaxis": "x",
         "y": [
          0,
          6.4942124239583565,
          6.4942124239583565,
          6.313019649374922
         ],
         "yaxis": "y"
        },
        {
         "hoverinfo": "text",
         "marker": {
          "color": "rgb(61,153,112)"
         },
         "mode": "lines",
         "type": "scatter",
         "x": [
          1695,
          1695,
          1721.015625,
          1721.015625
         ],
         "xaxis": "x",
         "y": [
          0,
          8.44427014867067,
          8.44427014867067,
          6.4942124239583565
         ],
         "yaxis": "y"
        },
        {
         "hoverinfo": "text",
         "marker": {
          "color": "rgb(61,153,112)"
         },
         "mode": "lines",
         "type": "scatter",
         "x": [
          1672.5,
          1672.5,
          1708.0078125,
          1708.0078125
         ],
         "xaxis": "x",
         "y": [
          6.844726953463891,
          10.46074197816001,
          10.46074197816001,
          8.44427014867067
         ],
         "yaxis": "y"
        },
        {
         "hoverinfo": "text",
         "marker": {
          "color": "rgb(61,153,112)"
         },
         "mode": "lines",
         "type": "scatter",
         "x": [
          1655,
          1655,
          1690.25390625,
          1690.25390625
         ],
         "xaxis": "x",
         "y": [
          0,
          11.883267334296974,
          11.883267334296974,
          10.46074197816001
         ],
         "yaxis": "y"
        },
        {
         "hoverinfo": "text",
         "marker": {
          "color": "rgb(61,153,112)"
         },
         "mode": "lines",
         "type": "scatter",
         "x": [
          1645,
          1645,
          1672.626953125,
          1672.626953125
         ],
         "xaxis": "x",
         "y": [
          0,
          13.500525991867514,
          13.500525991867514,
          11.883267334296974
         ],
         "yaxis": "y"
        },
        {
         "hoverinfo": "text",
         "marker": {
          "color": "rgb(61,153,112)"
         },
         "mode": "lines",
         "type": "scatter",
         "x": [
          1635,
          1635,
          1658.8134765625,
          1658.8134765625
         ],
         "xaxis": "x",
         "y": [
          0,
          14.39181201314054,
          14.39181201314054,
          13.500525991867514
         ],
         "yaxis": "y"
        },
        {
         "hoverinfo": "text",
         "marker": {
          "color": "rgb(61,153,112)"
         },
         "mode": "lines",
         "type": "scatter",
         "x": [
          987.9724025726273,
          987.9724025726273,
          1646.90673828125,
          1646.90673828125
         ],
         "xaxis": "x",
         "y": [
          13.582563885761598,
          14.538131562764555,
          14.538131562764555,
          14.39181201314054
         ],
         "yaxis": "y"
        },
        {
         "hoverinfo": "text",
         "marker": {
          "color": "rgb(61,153,112)"
         },
         "mode": "lines",
         "type": "scatter",
         "x": [
          955,
          955,
          1317.4395704269386,
          1317.4395704269386
         ],
         "xaxis": "x",
         "y": [
          0,
          14.749249267002973,
          14.749249267002973,
          14.538131562764555
         ],
         "yaxis": "y"
        },
        {
         "hoverinfo": "text",
         "marker": {
          "color": "rgb(61,153,112)"
         },
         "mode": "lines",
         "type": "scatter",
         "x": [
          945,
          945,
          1136.2197852134693,
          1136.2197852134693
         ],
         "xaxis": "x",
         "y": [
          0,
          14.749622036105588,
          14.749622036105588,
          14.749249267002973
         ],
         "yaxis": "y"
        },
        {
         "hoverinfo": "text",
         "marker": {
          "color": "rgb(61,153,112)"
         },
         "mode": "lines",
         "type": "scatter",
         "x": [
          935,
          935,
          1040.6098926067348,
          1040.6098926067348
         ],
         "xaxis": "x",
         "y": [
          0,
          14.749982088226076,
          14.749982088226076,
          14.749622036105588
         ],
         "yaxis": "y"
        },
        {
         "hoverinfo": "text",
         "marker": {
          "color": "rgb(61,153,112)"
         },
         "mode": "lines",
         "type": "scatter",
         "x": [
          925,
          925,
          987.8049463033674,
          987.8049463033674
         ],
         "xaxis": "x",
         "y": [
          0,
          15.974728525688626,
          15.974728525688626,
          14.749982088226076
         ],
         "yaxis": "y"
        },
        {
         "hoverinfo": "text",
         "marker": {
          "color": "rgb(61,153,112)"
         },
         "mode": "lines",
         "type": "scatter",
         "x": [
          902.5,
          902.5,
          956.4024731516837,
          956.4024731516837
         ],
         "xaxis": "x",
         "y": [
          7.166791180192323,
          16.85621743224742,
          16.85621743224742,
          15.974728525688626
         ],
         "yaxis": "y"
        },
        {
         "hoverinfo": "text",
         "marker": {
          "color": "rgb(61,153,112)"
         },
         "mode": "lines",
         "type": "scatter",
         "x": [
          880,
          880,
          929.4512365758419,
          929.4512365758419
         ],
         "xaxis": "x",
         "y": [
          4.743828943319758,
          17.480095268332672,
          17.480095268332672,
          16.85621743224742
         ],
         "yaxis": "y"
        },
        {
         "hoverinfo": "text",
         "marker": {
          "color": "rgb(61,153,112)"
         },
         "mode": "lines",
         "type": "scatter",
         "x": [
          865,
          865,
          904.725618287921,
          904.725618287921
         ],
         "xaxis": "x",
         "y": [
          0,
          18.367053074074647,
          18.367053074074647,
          17.480095268332672
         ],
         "yaxis": "y"
        },
        {
         "hoverinfo": "text",
         "marker": {
          "color": "rgb(61,153,112)"
         },
         "mode": "lines",
         "type": "scatter",
         "x": [
          850,
          850,
          884.8628091439605,
          884.8628091439605
         ],
         "xaxis": "x",
         "y": [
          9.4792206529339,
          19.526746562615077,
          19.526746562615077,
          18.367053074074647
         ],
         "yaxis": "y"
        },
        {
         "hoverinfo": "text",
         "marker": {
          "color": "rgb(61,153,112)"
         },
         "mode": "lines",
         "type": "scatter",
         "x": [
          835,
          835,
          867.4314045719802,
          867.4314045719802
         ],
         "xaxis": "x",
         "y": [
          0,
          20.78373750680309,
          20.78373750680309,
          19.526746562615077
         ],
         "yaxis": "y"
        },
        {
         "hoverinfo": "text",
         "marker": {
          "color": "rgb(61,153,112)"
         },
         "mode": "lines",
         "type": "scatter",
         "x": [
          825,
          825,
          851.2157022859901,
          851.2157022859901
         ],
         "xaxis": "x",
         "y": [
          0,
          20.784731635196206,
          20.784731635196206,
          20.78373750680309
         ],
         "yaxis": "y"
        },
        {
         "hoverinfo": "text",
         "marker": {
          "color": "rgb(61,153,112)"
         },
         "mode": "lines",
         "type": "scatter",
         "x": [
          815,
          815,
          838.1078511429951,
          838.1078511429951
         ],
         "xaxis": "x",
         "y": [
          0,
          20.785695894309026,
          20.785695894309026,
          20.784731635196206
         ],
         "yaxis": "y"
        },
        {
         "hoverinfo": "text",
         "marker": {
          "color": "rgb(61,153,112)"
         },
         "mode": "lines",
         "type": "scatter",
         "x": [
          805,
          805,
          826.5539255714975,
          826.5539255714975
         ],
         "xaxis": "x",
         "y": [
          0,
          20.786631469304805,
          20.786631469304805,
          20.785695894309026
         ],
         "yaxis": "y"
        },
        {
         "hoverinfo": "text",
         "marker": {
          "color": "rgb(61,153,112)"
         },
         "mode": "lines",
         "type": "scatter",
         "x": [
          795,
          795,
          815.7769627857488,
          815.7769627857488
         ],
         "xaxis": "x",
         "y": [
          0,
          20.787539487121407,
          20.787539487121407,
          20.786631469304805
         ],
         "yaxis": "y"
        },
        {
         "hoverinfo": "text",
         "marker": {
          "color": "rgb(61,153,112)"
         },
         "mode": "lines",
         "type": "scatter",
         "x": [
          785,
          785,
          805.3884813928744,
          805.3884813928744
         ],
         "xaxis": "x",
         "y": [
          0,
          20.788421019871762,
          20.788421019871762,
          20.787539487121407
         ],
         "yaxis": "y"
        },
        {
         "hoverinfo": "text",
         "marker": {
          "color": "rgb(61,153,112)"
         },
         "mode": "lines",
         "type": "scatter",
         "x": [
          775,
          775,
          795.1942406964372,
          795.1942406964372
         ],
         "xaxis": "x",
         "y": [
          0,
          20.789277088014785,
          20.789277088014785,
          20.788421019871762
         ],
         "yaxis": "y"
        },
        {
         "hoverinfo": "text",
         "marker": {
          "color": "rgb(61,153,112)"
         },
         "mode": "lines",
         "type": "scatter",
         "x": [
          765,
          765,
          785.0971203482186,
          785.0971203482186
         ],
         "xaxis": "x",
         "y": [
          0,
          20.79010866331427,
          20.79010866331427,
          20.789277088014785
         ],
         "yaxis": "y"
        },
        {
         "hoverinfo": "text",
         "marker": {
          "color": "rgb(61,153,112)"
         },
         "mode": "lines",
         "type": "scatter",
         "x": [
          1815,
          1815,
          1825,
          1825
         ],
         "xaxis": "x",
         "y": [
          0,
          20.832889917761804,
          20.832889917761804,
          0
         ],
         "yaxis": "y"
        },
        {
         "hoverinfo": "text",
         "marker": {
          "color": "rgb(61,153,112)"
         },
         "mode": "lines",
         "type": "scatter",
         "x": [
          775.0485601741093,
          775.0485601741093,
          1820,
          1820
         ],
         "xaxis": "x",
         "y": [
          20.79010866331427,
          20.95012889757721,
          20.95012889757721,
          20.832889917761804
         ],
         "yaxis": "y"
        },
        {
         "hoverinfo": "text",
         "marker": {
          "color": "rgb(61,153,112)"
         },
         "mode": "lines",
         "type": "scatter",
         "x": [
          742.5,
          742.5,
          1297.5242800870546,
          1297.5242800870546
         ],
         "xaxis": "x",
         "y": [
          6.176723534520792,
          21.092457772691134,
          21.092457772691134,
          20.95012889757721
         ],
         "yaxis": "y"
        },
        {
         "hoverinfo": "text",
         "marker": {
          "color": "rgb(61,153,112)"
         },
         "mode": "lines",
         "type": "scatter",
         "x": [
          725,
          725,
          1020.0121400435273,
          1020.0121400435273
         ],
         "xaxis": "x",
         "y": [
          0,
          21.23091903661535,
          21.23091903661535,
          21.092457772691134
         ],
         "yaxis": "y"
        },
        {
         "hoverinfo": "text",
         "marker": {
          "color": "rgb(61,153,112)"
         },
         "mode": "lines",
         "type": "scatter",
         "x": [
          710,
          710,
          872.5060700217637,
          872.5060700217637
         ],
         "xaxis": "x",
         "y": [
          5.647179444652823,
          21.502437375089457,
          21.502437375089457,
          21.23091903661535
         ],
         "yaxis": "y"
        },
        {
         "hoverinfo": "text",
         "marker": {
          "color": "rgb(61,153,112)"
         },
         "mode": "lines",
         "type": "scatter",
         "x": [
          695,
          695,
          791.2530350108818,
          791.2530350108818
         ],
         "xaxis": "x",
         "y": [
          0,
          21.665036365533744,
          21.665036365533744,
          21.502437375089457
         ],
         "yaxis": "y"
        },
        {
         "hoverinfo": "text",
         "marker": {
          "color": "rgb(61,153,112)"
         },
         "mode": "lines",
         "type": "scatter",
         "x": [
          685,
          685,
          743.1265175054409,
          743.1265175054409
         ],
         "xaxis": "x",
         "y": [
          0,
          21.80025153660489,
          21.80025153660489,
          21.665036365533744
         ],
         "yaxis": "y"
        },
        {
         "hoverinfo": "text",
         "marker": {
          "color": "rgb(61,153,112)"
         },
         "mode": "lines",
         "type": "scatter",
         "x": [
          675,
          675,
          714.0632587527205,
          714.0632587527205
         ],
         "xaxis": "x",
         "y": [
          0,
          21.81190194453777,
          21.81190194453777,
          21.80025153660489
         ],
         "yaxis": "y"
        },
        {
         "hoverinfo": "text",
         "marker": {
          "color": "rgb(61,153,112)"
         },
         "mode": "lines",
         "type": "scatter",
         "x": [
          660,
          660,
          694.5316293763602,
          694.5316293763602
         ],
         "xaxis": "x",
         "y": [
          20.937866766497407,
          21.84257717876652,
          21.84257717876652,
          21.81190194453777
         ],
         "yaxis": "y"
        },
        {
         "hoverinfo": "text",
         "marker": {
          "color": "rgb(61,153,112)"
         },
         "mode": "lines",
         "type": "scatter",
         "x": [
          640,
          640,
          677.2658146881802,
          677.2658146881802
         ],
         "xaxis": "x",
         "y": [
          20.832889917761804,
          22.064877122058046,
          22.064877122058046,
          21.84257717876652
         ],
         "yaxis": "y"
        },
        {
         "hoverinfo": "text",
         "marker": {
          "color": "rgb(61,153,112)"
         },
         "mode": "lines",
         "type": "scatter",
         "x": [
          603.75,
          603.75,
          658.6329073440901,
          658.6329073440901
         ],
         "xaxis": "x",
         "y": [
          21.4922531841626,
          22.10482477444016,
          22.10482477444016,
          22.064877122058046
         ],
         "yaxis": "y"
        },
        {
         "hoverinfo": "text",
         "marker": {
          "color": "rgb(61,153,112)"
         },
         "mode": "lines",
         "type": "scatter",
         "x": [
          580,
          580,
          631.1914536720451,
          631.1914536720451
         ],
         "xaxis": "x",
         "y": [
          20.9378667664974,
          22.16422926105857,
          22.16422926105857,
          22.10482477444016
         ],
         "yaxis": "y"
        },
        {
         "hoverinfo": "text",
         "marker": {
          "color": "rgb(61,153,112)"
         },
         "mode": "lines",
         "type": "scatter",
         "x": [
          565,
          565,
          605.5957268360225,
          605.5957268360225
         ],
         "xaxis": "x",
         "y": [
          0,
          22.491923774219924,
          22.491923774219924,
          22.16422926105857
         ],
         "yaxis": "y"
        },
        {
         "hoverinfo": "text",
         "marker": {
          "color": "rgb(61,153,112)"
         },
         "mode": "lines",
         "type": "scatter",
         "x": [
          555,
          555,
          585.2978634180113,
          585.2978634180113
         ],
         "xaxis": "x",
         "y": [
          0,
          22.49268091176336,
          22.49268091176336,
          22.491923774219924
         ],
         "yaxis": "y"
        },
        {
         "hoverinfo": "text",
         "marker": {
          "color": "rgb(61,153,112)"
         },
         "mode": "lines",
         "type": "scatter",
         "x": [
          540,
          540,
          570.1489317090056,
          570.1489317090056
         ],
         "xaxis": "x",
         "y": [
          9.995146820159048,
          22.853790599607347,
          22.853790599607347,
          22.49268091176336
         ],
         "yaxis": "y"
        },
        {
         "hoverinfo": "text",
         "marker": {
          "color": "rgb(61,153,112)"
         },
         "mode": "lines",
         "type": "scatter",
         "x": [
          510,
          510,
          555.0744658545028,
          555.0744658545028
         ],
         "xaxis": "x",
         "y": [
          16.619840876094003,
          23.46103023496478,
          23.46103023496478,
          22.853790599607347
         ],
         "yaxis": "y"
        },
        {
         "hoverinfo": "text",
         "marker": {
          "color": "rgb(61,153,112)"
         },
         "mode": "lines",
         "type": "scatter",
         "x": [
          485,
          485,
          532.5372329272514,
          532.5372329272514
         ],
         "xaxis": "x",
         "y": [
          0,
          23.559995059394723,
          23.559995059394723,
          23.46103023496478
         ],
         "yaxis": "y"
        },
        {
         "hoverinfo": "text",
         "marker": {
          "color": "rgb(61,153,112)"
         },
         "mode": "lines",
         "type": "scatter",
         "x": [
          475,
          475,
          508.7686164636257,
          508.7686164636257
         ],
         "xaxis": "x",
         "y": [
          0,
          23.91748318740997,
          23.91748318740997,
          23.559995059394723
         ],
         "yaxis": "y"
        },
        {
         "hoverinfo": "text",
         "marker": {
          "color": "rgb(61,153,112)"
         },
         "mode": "lines",
         "type": "scatter",
         "x": [
          465,
          465,
          491.88430823181284,
          491.88430823181284
         ],
         "xaxis": "x",
         "y": [
          0,
          24.060355569717455,
          24.060355569717455,
          23.91748318740997
         ],
         "yaxis": "y"
        },
        {
         "hoverinfo": "text",
         "marker": {
          "color": "rgb(61,153,112)"
         },
         "mode": "lines",
         "type": "scatter",
         "x": [
          455,
          455,
          478.4421541159064,
          478.4421541159064
         ],
         "xaxis": "x",
         "y": [
          0,
          24.060697931298904,
          24.060697931298904,
          24.060355569717455
         ],
         "yaxis": "y"
        },
        {
         "hoverinfo": "text",
         "marker": {
          "color": "rgb(61,153,112)"
         },
         "mode": "lines",
         "type": "scatter",
         "x": [
          1835,
          1835,
          1845,
          1845
         ],
         "xaxis": "x",
         "y": [
          0,
          24.08396710136571,
          24.08396710136571,
          0
         ],
         "yaxis": "y"
        },
        {
         "hoverinfo": "text",
         "marker": {
          "color": "rgb(61,153,112)"
         },
         "mode": "lines",
         "type": "scatter",
         "x": [
          466.7210770579532,
          466.7210770579532,
          1840,
          1840
         ],
         "xaxis": "x",
         "y": [
          24.060697931298904,
          24.194255293918154,
          24.194255293918154,
          24.08396710136571
         ],
         "yaxis": "y"
        },
        {
         "hoverinfo": "text",
         "marker": {
          "color": "rgb(61,153,112)"
         },
         "mode": "lines",
         "type": "scatter",
         "x": [
          440,
          440,
          1153.3605385289766,
          1153.3605385289766
         ],
         "xaxis": "x",
         "y": [
          20.56954215353054,
          25.160161296735232,
          25.160161296735232,
          24.194255293918154
         ],
         "yaxis": "y"
        },
        {
         "hoverinfo": "text",
         "marker": {
          "color": "rgb(61,153,112)"
         },
         "mode": "lines",
         "type": "scatter",
         "x": [
          420,
          420,
          796.6802692644883,
          796.6802692644883
         ],
         "xaxis": "x",
         "y": [
          20.937866766497407,
          25.446193309399618,
          25.446193309399618,
          25.160161296735232
         ],
         "yaxis": "y"
        },
        {
         "hoverinfo": "text",
         "marker": {
          "color": "rgb(61,153,112)"
         },
         "mode": "lines",
         "type": "scatter",
         "x": [
          400,
          400,
          608.3401346322441,
          608.3401346322441
         ],
         "xaxis": "x",
         "y": [
          14.997618617842933,
          25.592088136588455,
          25.592088136588455,
          25.446193309399618
         ],
         "yaxis": "y"
        },
        {
         "hoverinfo": "text",
         "marker": {
          "color": "rgb(61,153,112)"
         },
         "mode": "lines",
         "type": "scatter",
         "x": [
          380,
          380,
          504.1700673161221,
          504.1700673161221
         ],
         "xaxis": "x",
         "y": [
          15.168901089192316,
          25.708954556311255,
          25.708954556311255,
          25.592088136588455
         ],
         "yaxis": "y"
        },
        {
         "hoverinfo": "text",
         "marker": {
          "color": "rgb(61,153,112)"
         },
         "mode": "lines",
         "type": "scatter",
         "x": [
          365,
          365,
          442.08503365806104,
          442.08503365806104
         ],
         "xaxis": "x",
         "y": [
          0,
          25.745360838760405,
          25.745360838760405,
          25.708954556311255
         ],
         "yaxis": "y"
        },
        {
         "hoverinfo": "text",
         "marker": {
          "color": "rgb(61,153,112)"
         },
         "mode": "lines",
         "type": "scatter",
         "x": [
          342.5,
          342.5,
          403.54251682903055,
          403.54251682903055
         ],
         "xaxis": "x",
         "y": [
          22.562094076724023,
          26.105516433236165,
          26.105516433236165,
          25.745360838760405
         ],
         "yaxis": "y"
        },
        {
         "hoverinfo": "text",
         "marker": {
          "color": "rgb(61,153,112)"
         },
         "mode": "lines",
         "type": "scatter",
         "x": [
          325,
          325,
          373.0212584145153,
          373.0212584145153
         ],
         "xaxis": "x",
         "y": [
          0,
          29.420966691759,
          29.420966691759,
          26.105516433236165
         ],
         "yaxis": "y"
        },
        {
         "hoverinfo": "text",
         "marker": {
          "color": "rgb(61,153,112)"
         },
         "mode": "lines",
         "type": "scatter",
         "x": [
          315,
          315,
          349.01062920725764,
          349.01062920725764
         ],
         "xaxis": "x",
         "y": [
          0,
          29.421501980462182,
          29.421501980462182,
          29.420966691759
         ],
         "yaxis": "y"
        },
        {
         "hoverinfo": "text",
         "marker": {
          "color": "rgb(61,153,112)"
         },
         "mode": "lines",
         "type": "scatter",
         "x": [
          305,
          305,
          332.0053146036288,
          332.0053146036288
         ],
         "xaxis": "x",
         "y": [
          0,
          29.422026899281008,
          29.422026899281008,
          29.421501980462182
         ],
         "yaxis": "y"
        },
        {
         "hoverinfo": "text",
         "marker": {
          "color": "rgb(61,153,112)"
         },
         "mode": "lines",
         "type": "scatter",
         "x": [
          295,
          295,
          318.5026573018144,
          318.5026573018144
         ],
         "xaxis": "x",
         "y": [
          0,
          29.422541714410652,
          29.422541714410652,
          29.422026899281008
         ],
         "yaxis": "y"
        },
        {
         "hoverinfo": "text",
         "marker": {
          "color": "rgb(61,153,112)"
         },
         "mode": "lines",
         "type": "scatter",
         "x": [
          285,
          285,
          306.7513286509072,
          306.7513286509072
         ],
         "xaxis": "x",
         "y": [
          0,
          29.4894190126272,
          29.4894190126272,
          29.422541714410652
         ],
         "yaxis": "y"
        },
        {
         "hoverinfo": "text",
         "marker": {
          "color": "rgb(61,153,112)"
         },
         "mode": "lines",
         "type": "scatter",
         "x": [
          270,
          270,
          295.8756643254536,
          295.8756643254536
         ],
         "xaxis": "x",
         "y": [
          21.610372508312388,
          29.773483956760337,
          29.773483956760337,
          29.4894190126272
         ],
         "yaxis": "y"
        },
        {
         "hoverinfo": "text",
         "marker": {
          "color": "rgb(61,153,112)"
         },
         "mode": "lines",
         "type": "scatter",
         "x": [
          255,
          255,
          282.9378321627268,
          282.9378321627268
         ],
         "xaxis": "x",
         "y": [
          0,
          29.89908095278389,
          29.89908095278389,
          29.773483956760337
         ],
         "yaxis": "y"
        },
        {
         "hoverinfo": "text",
         "marker": {
          "color": "rgb(61,153,112)"
         },
         "mode": "lines",
         "type": "scatter",
         "x": [
          245,
          245,
          268.96891608136343,
          268.96891608136343
         ],
         "xaxis": "x",
         "y": [
          0,
          29.972194762831244,
          29.972194762831244,
          29.89908095278389
         ],
         "yaxis": "y"
        },
        {
         "hoverinfo": "text",
         "marker": {
          "color": "rgb(61,153,112)"
         },
         "mode": "lines",
         "type": "scatter",
         "x": [
          191.25,
          191.25,
          256.9844580406817,
          256.9844580406817
         ],
         "xaxis": "x",
         "y": [
          29.734101991176168,
          30.389867617488775,
          30.389867617488775,
          29.972194762831244
         ],
         "yaxis": "y"
        },
        {
         "hoverinfo": "text",
         "marker": {
          "color": "rgb(61,153,112)"
         },
         "mode": "lines",
         "type": "scatter",
         "x": [
          165,
          165,
          224.11722902034086,
          224.11722902034086
         ],
         "xaxis": "x",
         "y": [
          0,
          30.977768588092964,
          30.977768588092964,
          30.389867617488775
         ],
         "yaxis": "y"
        },
        {
         "hoverinfo": "text",
         "marker": {
          "color": "rgb(61,153,112)"
         },
         "mode": "lines",
         "type": "scatter",
         "x": [
          155,
          155,
          194.55861451017043,
          194.55861451017043
         ],
         "xaxis": "x",
         "y": [
          0,
          31.141335136537652,
          31.141335136537652,
          30.977768588092964
         ],
         "yaxis": "y"
        },
        {
         "hoverinfo": "text",
         "marker": {
          "color": "rgb(61,153,112)"
         },
         "mode": "lines",
         "type": "scatter",
         "x": [
          145,
          145,
          174.7793072550852,
          174.7793072550852
         ],
         "xaxis": "x",
         "y": [
          0,
          31.78126842761583,
          31.78126842761583,
          31.141335136537652
         ],
         "yaxis": "y"
        },
        {
         "hoverinfo": "text",
         "marker": {
          "color": "rgb(61,153,112)"
         },
         "mode": "lines",
         "type": "scatter",
         "x": [
          94.6875,
          94.6875,
          159.8896536275426,
          159.8896536275426
         ],
         "xaxis": "x",
         "y": [
          29.570286355221857,
          31.952005188078648,
          31.952005188078648,
          31.78126842761583
         ],
         "yaxis": "y"
        },
        {
         "hoverinfo": "text",
         "marker": {
          "color": "rgb(61,153,112)"
         },
         "mode": "lines",
         "type": "scatter",
         "x": [
          75,
          75,
          127.2885768137713,
          127.2885768137713
         ],
         "xaxis": "x",
         "y": [
          0,
          34.410690645983436,
          34.410690645983436,
          31.952005188078648
         ],
         "yaxis": "y"
        },
        {
         "hoverinfo": "text",
         "marker": {
          "color": "rgb(61,153,112)"
         },
         "mode": "lines",
         "type": "scatter",
         "x": [
          65,
          65,
          101.14428840688565,
          101.14428840688565
         ],
         "xaxis": "x",
         "y": [
          0,
          36.20523348008869,
          36.20523348008869,
          34.410690645983436
         ],
         "yaxis": "y"
        },
        {
         "hoverinfo": "text",
         "marker": {
          "color": "rgb(61,153,112)"
         },
         "mode": "lines",
         "type": "scatter",
         "x": [
          55,
          55,
          83.07214420344283,
          83.07214420344283
         ],
         "xaxis": "x",
         "y": [
          0,
          36.207606574028866,
          36.207606574028866,
          36.20523348008869
         ],
         "yaxis": "y"
        },
        {
         "hoverinfo": "text",
         "marker": {
          "color": "rgb(61,153,112)"
         },
         "mode": "lines",
         "type": "scatter",
         "x": [
          1855,
          1855,
          1865,
          1865
         ],
         "xaxis": "x",
         "y": [
          0,
          36.35658809925152,
          36.35658809925152,
          0
         ],
         "yaxis": "y"
        },
        {
         "hoverinfo": "text",
         "marker": {
          "color": "rgb(61,153,112)"
         },
         "mode": "lines",
         "type": "scatter",
         "x": [
          69.03607210172142,
          69.03607210172142,
          1860,
          1860
         ],
         "xaxis": "x",
         "y": [
          36.207606574028866,
          38.18808947984758,
          38.18808947984758,
          36.35658809925152
         ],
         "yaxis": "y"
        },
        {
         "hoverinfo": "text",
         "marker": {
          "color": "rgb(61,153,112)"
         },
         "mode": "lines",
         "type": "scatter",
         "x": [
          45,
          45,
          964.5180360508607,
          964.5180360508607
         ],
         "xaxis": "x",
         "y": [
          0,
          41.59995661678512,
          41.59995661678512,
          38.18808947984758
         ],
         "yaxis": "y"
        },
        {
         "hoverinfo": "text",
         "marker": {
          "color": "rgb(61,153,112)"
         },
         "mode": "lines",
         "type": "scatter",
         "x": [
          35,
          35,
          504.75901802543035,
          504.75901802543035
         ],
         "xaxis": "x",
         "y": [
          0,
          41.8819080929366,
          41.8819080929366,
          41.59995661678512
         ],
         "yaxis": "y"
        },
        {
         "hoverinfo": "text",
         "marker": {
          "color": "rgb(61,153,112)"
         },
         "mode": "lines",
         "type": "scatter",
         "x": [
          25,
          25,
          269.8795090127152,
          269.8795090127152
         ],
         "xaxis": "x",
         "y": [
          0,
          46.50110205797469,
          46.50110205797469,
          41.8819080929366
         ],
         "yaxis": "y"
        },
        {
         "hoverinfo": "text",
         "marker": {
          "color": "rgb(255,65,54)"
         },
         "mode": "lines",
         "type": "scatter",
         "x": [
          1895,
          1895,
          1905,
          1905
         ],
         "xaxis": "x",
         "y": [
          0,
          45.38466612642034,
          45.38466612642034,
          0
         ],
         "yaxis": "y"
        },
        {
         "hoverinfo": "text",
         "marker": {
          "color": "rgb(35,205,205)"
         },
         "mode": "lines",
         "type": "scatter",
         "x": [
          1965,
          1965,
          1975,
          1975
         ],
         "xaxis": "x",
         "y": [
          0,
          42.90893359637943,
          42.90893359637943,
          0
         ],
         "yaxis": "y"
        },
        {
         "hoverinfo": "text",
         "marker": {
          "color": "rgb(35,205,205)"
         },
         "mode": "lines",
         "type": "scatter",
         "x": [
          2055,
          2055,
          2065,
          2065
         ],
         "xaxis": "x",
         "y": [
          0,
          24.422758256857236,
          24.422758256857236,
          0
         ],
         "yaxis": "y"
        },
        {
         "hoverinfo": "text",
         "marker": {
          "color": "rgb(35,205,205)"
         },
         "mode": "lines",
         "type": "scatter",
         "x": [
          2045,
          2045,
          2060,
          2060
         ],
         "xaxis": "x",
         "y": [
          0,
          27.16710643010826,
          27.16710643010826,
          24.422758256857236
         ],
         "yaxis": "y"
        },
        {
         "hoverinfo": "text",
         "marker": {
          "color": "rgb(35,205,205)"
         },
         "mode": "lines",
         "type": "scatter",
         "x": [
          2035,
          2035,
          2052.5,
          2052.5
         ],
         "xaxis": "x",
         "y": [
          0,
          31.70515231803367,
          31.70515231803367,
          27.16710643010826
         ],
         "yaxis": "y"
        },
        {
         "hoverinfo": "text",
         "marker": {
          "color": "rgb(35,205,205)"
         },
         "mode": "lines",
         "type": "scatter",
         "x": [
          2025,
          2025,
          2043.75,
          2043.75
         ],
         "xaxis": "x",
         "y": [
          0,
          32.33114991668946,
          32.33114991668946,
          31.70515231803367
         ],
         "yaxis": "y"
        },
        {
         "hoverinfo": "text",
         "marker": {
          "color": "rgb(35,205,205)"
         },
         "mode": "lines",
         "type": "scatter",
         "x": [
          2075,
          2075,
          2085,
          2085
         ],
         "xaxis": "x",
         "y": [
          0,
          22.9289226640563,
          22.9289226640563,
          0
         ],
         "yaxis": "y"
        },
        {
         "hoverinfo": "text",
         "marker": {
          "color": "rgb(35,205,205)"
         },
         "mode": "lines",
         "type": "scatter",
         "x": [
          2095,
          2095,
          2105,
          2105
         ],
         "xaxis": "x",
         "y": [
          0,
          31.50960932634303,
          31.50960932634303,
          0
         ],
         "yaxis": "y"
        },
        {
         "hoverinfo": "text",
         "marker": {
          "color": "rgb(35,205,205)"
         },
         "mode": "lines",
         "type": "scatter",
         "x": [
          2080,
          2080,
          2100,
          2100
         ],
         "xaxis": "x",
         "y": [
          22.9289226640563,
          33.25077082869251,
          33.25077082869251,
          31.50960932634303
         ],
         "yaxis": "y"
        },
        {
         "hoverinfo": "text",
         "marker": {
          "color": "rgb(35,205,205)"
         },
         "mode": "lines",
         "type": "scatter",
         "x": [
          2034.375,
          2034.375,
          2090,
          2090
         ],
         "xaxis": "x",
         "y": [
          32.33114991668946,
          34.33711811037541,
          34.33711811037541,
          33.25077082869251
         ],
         "yaxis": "y"
        },
        {
         "hoverinfo": "text",
         "marker": {
          "color": "rgb(35,205,205)"
         },
         "mode": "lines",
         "type": "scatter",
         "x": [
          2015,
          2015,
          2062.1875,
          2062.1875
         ],
         "xaxis": "x",
         "y": [
          0,
          35.34783057801535,
          35.34783057801535,
          34.33711811037541
         ],
         "yaxis": "y"
        },
        {
         "hoverinfo": "text",
         "marker": {
          "color": "rgb(35,205,205)"
         },
         "mode": "lines",
         "type": "scatter",
         "x": [
          2005,
          2005,
          2038.59375,
          2038.59375
         ],
         "xaxis": "x",
         "y": [
          0,
          38.682840083026505,
          38.682840083026505,
          35.34783057801535
         ],
         "yaxis": "y"
        },
        {
         "hoverinfo": "text",
         "marker": {
          "color": "rgb(35,205,205)"
         },
         "mode": "lines",
         "type": "scatter",
         "x": [
          1995,
          1995,
          2021.796875,
          2021.796875
         ],
         "xaxis": "x",
         "y": [
          0,
          39.21440103141371,
          39.21440103141371,
          38.682840083026505
         ],
         "yaxis": "y"
        },
        {
         "hoverinfo": "text",
         "marker": {
          "color": "rgb(35,205,205)"
         },
         "mode": "lines",
         "type": "scatter",
         "x": [
          1985,
          1985,
          2008.3984375,
          2008.3984375
         ],
         "xaxis": "x",
         "y": [
          0,
          43.1037172120511,
          43.1037172120511,
          39.21440103141371
         ],
         "yaxis": "y"
        },
        {
         "hoverinfo": "text",
         "marker": {
          "color": "rgb(35,205,205)"
         },
         "mode": "lines",
         "type": "scatter",
         "x": [
          1970,
          1970,
          1996.69921875,
          1996.69921875
         ],
         "xaxis": "x",
         "y": [
          42.90893359637943,
          43.81344624977755,
          43.81344624977755,
          43.1037172120511
         ],
         "yaxis": "y"
        },
        {
         "hoverinfo": "text",
         "marker": {
          "color": "rgb(35,205,205)"
         },
         "mode": "lines",
         "type": "scatter",
         "x": [
          1955,
          1955,
          1983.349609375,
          1983.349609375
         ],
         "xaxis": "x",
         "y": [
          0,
          46.94354290822326,
          46.94354290822326,
          43.81344624977755
         ],
         "yaxis": "y"
        },
        {
         "hoverinfo": "text",
         "marker": {
          "color": "rgb(35,205,205)"
         },
         "mode": "lines",
         "type": "scatter",
         "x": [
          1945,
          1945,
          1969.1748046875,
          1969.1748046875
         ],
         "xaxis": "x",
         "y": [
          0,
          47.046585142009874,
          47.046585142009874,
          46.94354290822326
         ],
         "yaxis": "y"
        },
        {
         "hoverinfo": "text",
         "marker": {
          "color": "rgb(35,205,205)"
         },
         "mode": "lines",
         "type": "scatter",
         "x": [
          1935,
          1935,
          1957.08740234375,
          1957.08740234375
         ],
         "xaxis": "x",
         "y": [
          0,
          47.227808772725766,
          47.227808772725766,
          47.046585142009874
         ],
         "yaxis": "y"
        },
        {
         "hoverinfo": "text",
         "marker": {
          "color": "rgb(0,116,217)"
         },
         "mode": "lines",
         "type": "scatter",
         "x": [
          1925,
          1925,
          1946.043701171875,
          1946.043701171875
         ],
         "xaxis": "x",
         "y": [
          0,
          48.558235981537855,
          48.558235981537855,
          47.227808772725766
         ],
         "yaxis": "y"
        },
        {
         "hoverinfo": "text",
         "marker": {
          "color": "rgb(0,116,217)"
         },
         "mode": "lines",
         "type": "scatter",
         "x": [
          1915,
          1915,
          1935.5218505859375,
          1935.5218505859375
         ],
         "xaxis": "x",
         "y": [
          0,
          48.99180944547937,
          48.99180944547937,
          48.558235981537855
         ],
         "yaxis": "y"
        },
        {
         "hoverinfo": "text",
         "marker": {
          "color": "rgb(0,116,217)"
         },
         "mode": "lines",
         "type": "scatter",
         "x": [
          1900,
          1900,
          1925.2609252929688,
          1925.2609252929688
         ],
         "xaxis": "x",
         "y": [
          45.38466612642034,
          50.41211605439284,
          50.41211605439284,
          48.99180944547937
         ],
         "yaxis": "y"
        },
        {
         "hoverinfo": "text",
         "marker": {
          "color": "rgb(0,116,217)"
         },
         "mode": "lines",
         "type": "scatter",
         "x": [
          1885,
          1885,
          1912.6304626464844,
          1912.6304626464844
         ],
         "xaxis": "x",
         "y": [
          0,
          51.71632912733142,
          51.71632912733142,
          50.41211605439284
         ],
         "yaxis": "y"
        },
        {
         "hoverinfo": "text",
         "marker": {
          "color": "rgb(0,116,217)"
         },
         "mode": "lines",
         "type": "scatter",
         "x": [
          1875,
          1875,
          1898.8152313232422,
          1898.8152313232422
         ],
         "xaxis": "x",
         "y": [
          0,
          52.686080686591566,
          52.686080686591566,
          51.71632912733142
         ],
         "yaxis": "y"
        },
        {
         "hoverinfo": "text",
         "marker": {
          "color": "rgb(0,116,217)"
         },
         "mode": "lines",
         "type": "scatter",
         "x": [
          147.4397545063576,
          147.4397545063576,
          1886.907615661621,
          1886.907615661621
         ],
         "xaxis": "x",
         "y": [
          46.50110205797469,
          56.914260997491475,
          56.914260997491475,
          52.686080686591566
         ],
         "yaxis": "y"
        },
        {
         "hoverinfo": "text",
         "marker": {
          "color": "rgb(0,116,217)"
         },
         "mode": "lines",
         "type": "scatter",
         "x": [
          2145,
          2145,
          2155,
          2155
         ],
         "xaxis": "x",
         "y": [
          0,
          53.94828557872497,
          53.94828557872497,
          0
         ],
         "yaxis": "y"
        },
        {
         "hoverinfo": "text",
         "marker": {
          "color": "rgb(0,116,217)"
         },
         "mode": "lines",
         "type": "scatter",
         "x": [
          2135,
          2135,
          2150,
          2150
         ],
         "xaxis": "x",
         "y": [
          0,
          56.61588257868022,
          56.61588257868022,
          53.94828557872497
         ],
         "yaxis": "y"
        },
        {
         "hoverinfo": "text",
         "marker": {
          "color": "rgb(0,116,217)"
         },
         "mode": "lines",
         "type": "scatter",
         "x": [
          2125,
          2125,
          2142.5,
          2142.5
         ],
         "xaxis": "x",
         "y": [
          0,
          58.839543662666536,
          58.839543662666536,
          56.61588257868022
         ],
         "yaxis": "y"
        },
        {
         "hoverinfo": "text",
         "marker": {
          "color": "rgb(0,116,217)"
         },
         "mode": "lines",
         "type": "scatter",
         "x": [
          2115,
          2115,
          2133.75,
          2133.75
         ],
         "xaxis": "x",
         "y": [
          0,
          59.63756910187255,
          59.63756910187255,
          58.839543662666536
         ],
         "yaxis": "y"
        },
        {
         "hoverinfo": "text",
         "marker": {
          "color": "rgb(0,116,217)"
         },
         "mode": "lines",
         "type": "scatter",
         "x": [
          1017.1736850839893,
          1017.1736850839893,
          2124.375,
          2124.375
         ],
         "xaxis": "x",
         "y": [
          56.914260997491475,
          61.6574696666385,
          61.6574696666385,
          59.63756910187255
         ],
         "yaxis": "y"
        },
        {
         "hoverinfo": "text",
         "marker": {
          "color": "rgb(0,116,217)"
         },
         "mode": "lines",
         "type": "scatter",
         "x": [
          15,
          15,
          1570.7743425419947,
          1570.7743425419947
         ],
         "xaxis": "x",
         "y": [
          0,
          65.35834518543201,
          65.35834518543201,
          61.6574696666385
         ],
         "yaxis": "y"
        },
        {
         "hoverinfo": "text",
         "marker": {
          "color": "rgb(0,116,217)"
         },
         "mode": "lines",
         "type": "scatter",
         "x": [
          5,
          5,
          792.8871712709973,
          792.8871712709973
         ],
         "xaxis": "x",
         "y": [
          0,
          68.99714202258808,
          68.99714202258808,
          65.35834518543201
         ],
         "yaxis": "y"
        }
       ],
       "layout": {
        "autosize": false,
        "height": 500,
        "hovermode": "closest",
        "showlegend": false,
        "template": {
         "data": {
          "bar": [
           {
            "error_x": {
             "color": "#2a3f5f"
            },
            "error_y": {
             "color": "#2a3f5f"
            },
            "marker": {
             "line": {
              "color": "#E5ECF6",
              "width": 0.5
             },
             "pattern": {
              "fillmode": "overlay",
              "size": 10,
              "solidity": 0.2
             }
            },
            "type": "bar"
           }
          ],
          "barpolar": [
           {
            "marker": {
             "line": {
              "color": "#E5ECF6",
              "width": 0.5
             },
             "pattern": {
              "fillmode": "overlay",
              "size": 10,
              "solidity": 0.2
             }
            },
            "type": "barpolar"
           }
          ],
          "carpet": [
           {
            "aaxis": {
             "endlinecolor": "#2a3f5f",
             "gridcolor": "white",
             "linecolor": "white",
             "minorgridcolor": "white",
             "startlinecolor": "#2a3f5f"
            },
            "baxis": {
             "endlinecolor": "#2a3f5f",
             "gridcolor": "white",
             "linecolor": "white",
             "minorgridcolor": "white",
             "startlinecolor": "#2a3f5f"
            },
            "type": "carpet"
           }
          ],
          "choropleth": [
           {
            "colorbar": {
             "outlinewidth": 0,
             "ticks": ""
            },
            "type": "choropleth"
           }
          ],
          "contour": [
           {
            "colorbar": {
             "outlinewidth": 0,
             "ticks": ""
            },
            "colorscale": [
             [
              0,
              "#0d0887"
             ],
             [
              0.1111111111111111,
              "#46039f"
             ],
             [
              0.2222222222222222,
              "#7201a8"
             ],
             [
              0.3333333333333333,
              "#9c179e"
             ],
             [
              0.4444444444444444,
              "#bd3786"
             ],
             [
              0.5555555555555556,
              "#d8576b"
             ],
             [
              0.6666666666666666,
              "#ed7953"
             ],
             [
              0.7777777777777778,
              "#fb9f3a"
             ],
             [
              0.8888888888888888,
              "#fdca26"
             ],
             [
              1,
              "#f0f921"
             ]
            ],
            "type": "contour"
           }
          ],
          "contourcarpet": [
           {
            "colorbar": {
             "outlinewidth": 0,
             "ticks": ""
            },
            "type": "contourcarpet"
           }
          ],
          "heatmap": [
           {
            "colorbar": {
             "outlinewidth": 0,
             "ticks": ""
            },
            "colorscale": [
             [
              0,
              "#0d0887"
             ],
             [
              0.1111111111111111,
              "#46039f"
             ],
             [
              0.2222222222222222,
              "#7201a8"
             ],
             [
              0.3333333333333333,
              "#9c179e"
             ],
             [
              0.4444444444444444,
              "#bd3786"
             ],
             [
              0.5555555555555556,
              "#d8576b"
             ],
             [
              0.6666666666666666,
              "#ed7953"
             ],
             [
              0.7777777777777778,
              "#fb9f3a"
             ],
             [
              0.8888888888888888,
              "#fdca26"
             ],
             [
              1,
              "#f0f921"
             ]
            ],
            "type": "heatmap"
           }
          ],
          "heatmapgl": [
           {
            "colorbar": {
             "outlinewidth": 0,
             "ticks": ""
            },
            "colorscale": [
             [
              0,
              "#0d0887"
             ],
             [
              0.1111111111111111,
              "#46039f"
             ],
             [
              0.2222222222222222,
              "#7201a8"
             ],
             [
              0.3333333333333333,
              "#9c179e"
             ],
             [
              0.4444444444444444,
              "#bd3786"
             ],
             [
              0.5555555555555556,
              "#d8576b"
             ],
             [
              0.6666666666666666,
              "#ed7953"
             ],
             [
              0.7777777777777778,
              "#fb9f3a"
             ],
             [
              0.8888888888888888,
              "#fdca26"
             ],
             [
              1,
              "#f0f921"
             ]
            ],
            "type": "heatmapgl"
           }
          ],
          "histogram": [
           {
            "marker": {
             "pattern": {
              "fillmode": "overlay",
              "size": 10,
              "solidity": 0.2
             }
            },
            "type": "histogram"
           }
          ],
          "histogram2d": [
           {
            "colorbar": {
             "outlinewidth": 0,
             "ticks": ""
            },
            "colorscale": [
             [
              0,
              "#0d0887"
             ],
             [
              0.1111111111111111,
              "#46039f"
             ],
             [
              0.2222222222222222,
              "#7201a8"
             ],
             [
              0.3333333333333333,
              "#9c179e"
             ],
             [
              0.4444444444444444,
              "#bd3786"
             ],
             [
              0.5555555555555556,
              "#d8576b"
             ],
             [
              0.6666666666666666,
              "#ed7953"
             ],
             [
              0.7777777777777778,
              "#fb9f3a"
             ],
             [
              0.8888888888888888,
              "#fdca26"
             ],
             [
              1,
              "#f0f921"
             ]
            ],
            "type": "histogram2d"
           }
          ],
          "histogram2dcontour": [
           {
            "colorbar": {
             "outlinewidth": 0,
             "ticks": ""
            },
            "colorscale": [
             [
              0,
              "#0d0887"
             ],
             [
              0.1111111111111111,
              "#46039f"
             ],
             [
              0.2222222222222222,
              "#7201a8"
             ],
             [
              0.3333333333333333,
              "#9c179e"
             ],
             [
              0.4444444444444444,
              "#bd3786"
             ],
             [
              0.5555555555555556,
              "#d8576b"
             ],
             [
              0.6666666666666666,
              "#ed7953"
             ],
             [
              0.7777777777777778,
              "#fb9f3a"
             ],
             [
              0.8888888888888888,
              "#fdca26"
             ],
             [
              1,
              "#f0f921"
             ]
            ],
            "type": "histogram2dcontour"
           }
          ],
          "mesh3d": [
           {
            "colorbar": {
             "outlinewidth": 0,
             "ticks": ""
            },
            "type": "mesh3d"
           }
          ],
          "parcoords": [
           {
            "line": {
             "colorbar": {
              "outlinewidth": 0,
              "ticks": ""
             }
            },
            "type": "parcoords"
           }
          ],
          "pie": [
           {
            "automargin": true,
            "type": "pie"
           }
          ],
          "scatter": [
           {
            "fillpattern": {
             "fillmode": "overlay",
             "size": 10,
             "solidity": 0.2
            },
            "type": "scatter"
           }
          ],
          "scatter3d": [
           {
            "line": {
             "colorbar": {
              "outlinewidth": 0,
              "ticks": ""
             }
            },
            "marker": {
             "colorbar": {
              "outlinewidth": 0,
              "ticks": ""
             }
            },
            "type": "scatter3d"
           }
          ],
          "scattercarpet": [
           {
            "marker": {
             "colorbar": {
              "outlinewidth": 0,
              "ticks": ""
             }
            },
            "type": "scattercarpet"
           }
          ],
          "scattergeo": [
           {
            "marker": {
             "colorbar": {
              "outlinewidth": 0,
              "ticks": ""
             }
            },
            "type": "scattergeo"
           }
          ],
          "scattergl": [
           {
            "marker": {
             "colorbar": {
              "outlinewidth": 0,
              "ticks": ""
             }
            },
            "type": "scattergl"
           }
          ],
          "scattermapbox": [
           {
            "marker": {
             "colorbar": {
              "outlinewidth": 0,
              "ticks": ""
             }
            },
            "type": "scattermapbox"
           }
          ],
          "scatterpolar": [
           {
            "marker": {
             "colorbar": {
              "outlinewidth": 0,
              "ticks": ""
             }
            },
            "type": "scatterpolar"
           }
          ],
          "scatterpolargl": [
           {
            "marker": {
             "colorbar": {
              "outlinewidth": 0,
              "ticks": ""
             }
            },
            "type": "scatterpolargl"
           }
          ],
          "scatterternary": [
           {
            "marker": {
             "colorbar": {
              "outlinewidth": 0,
              "ticks": ""
             }
            },
            "type": "scatterternary"
           }
          ],
          "surface": [
           {
            "colorbar": {
             "outlinewidth": 0,
             "ticks": ""
            },
            "colorscale": [
             [
              0,
              "#0d0887"
             ],
             [
              0.1111111111111111,
              "#46039f"
             ],
             [
              0.2222222222222222,
              "#7201a8"
             ],
             [
              0.3333333333333333,
              "#9c179e"
             ],
             [
              0.4444444444444444,
              "#bd3786"
             ],
             [
              0.5555555555555556,
              "#d8576b"
             ],
             [
              0.6666666666666666,
              "#ed7953"
             ],
             [
              0.7777777777777778,
              "#fb9f3a"
             ],
             [
              0.8888888888888888,
              "#fdca26"
             ],
             [
              1,
              "#f0f921"
             ]
            ],
            "type": "surface"
           }
          ],
          "table": [
           {
            "cells": {
             "fill": {
              "color": "#EBF0F8"
             },
             "line": {
              "color": "white"
             }
            },
            "header": {
             "fill": {
              "color": "#C8D4E3"
             },
             "line": {
              "color": "white"
             }
            },
            "type": "table"
           }
          ]
         },
         "layout": {
          "annotationdefaults": {
           "arrowcolor": "#2a3f5f",
           "arrowhead": 0,
           "arrowwidth": 1
          },
          "autotypenumbers": "strict",
          "coloraxis": {
           "colorbar": {
            "outlinewidth": 0,
            "ticks": ""
           }
          },
          "colorscale": {
           "diverging": [
            [
             0,
             "#8e0152"
            ],
            [
             0.1,
             "#c51b7d"
            ],
            [
             0.2,
             "#de77ae"
            ],
            [
             0.3,
             "#f1b6da"
            ],
            [
             0.4,
             "#fde0ef"
            ],
            [
             0.5,
             "#f7f7f7"
            ],
            [
             0.6,
             "#e6f5d0"
            ],
            [
             0.7,
             "#b8e186"
            ],
            [
             0.8,
             "#7fbc41"
            ],
            [
             0.9,
             "#4d9221"
            ],
            [
             1,
             "#276419"
            ]
           ],
           "sequential": [
            [
             0,
             "#0d0887"
            ],
            [
             0.1111111111111111,
             "#46039f"
            ],
            [
             0.2222222222222222,
             "#7201a8"
            ],
            [
             0.3333333333333333,
             "#9c179e"
            ],
            [
             0.4444444444444444,
             "#bd3786"
            ],
            [
             0.5555555555555556,
             "#d8576b"
            ],
            [
             0.6666666666666666,
             "#ed7953"
            ],
            [
             0.7777777777777778,
             "#fb9f3a"
            ],
            [
             0.8888888888888888,
             "#fdca26"
            ],
            [
             1,
             "#f0f921"
            ]
           ],
           "sequentialminus": [
            [
             0,
             "#0d0887"
            ],
            [
             0.1111111111111111,
             "#46039f"
            ],
            [
             0.2222222222222222,
             "#7201a8"
            ],
            [
             0.3333333333333333,
             "#9c179e"
            ],
            [
             0.4444444444444444,
             "#bd3786"
            ],
            [
             0.5555555555555556,
             "#d8576b"
            ],
            [
             0.6666666666666666,
             "#ed7953"
            ],
            [
             0.7777777777777778,
             "#fb9f3a"
            ],
            [
             0.8888888888888888,
             "#fdca26"
            ],
            [
             1,
             "#f0f921"
            ]
           ]
          },
          "colorway": [
           "#636efa",
           "#EF553B",
           "#00cc96",
           "#ab63fa",
           "#FFA15A",
           "#19d3f3",
           "#FF6692",
           "#B6E880",
           "#FF97FF",
           "#FECB52"
          ],
          "font": {
           "color": "#2a3f5f"
          },
          "geo": {
           "bgcolor": "white",
           "lakecolor": "white",
           "landcolor": "#E5ECF6",
           "showlakes": true,
           "showland": true,
           "subunitcolor": "white"
          },
          "hoverlabel": {
           "align": "left"
          },
          "hovermode": "closest",
          "mapbox": {
           "style": "light"
          },
          "paper_bgcolor": "white",
          "plot_bgcolor": "#E5ECF6",
          "polar": {
           "angularaxis": {
            "gridcolor": "white",
            "linecolor": "white",
            "ticks": ""
           },
           "bgcolor": "#E5ECF6",
           "radialaxis": {
            "gridcolor": "white",
            "linecolor": "white",
            "ticks": ""
           }
          },
          "scene": {
           "xaxis": {
            "backgroundcolor": "#E5ECF6",
            "gridcolor": "white",
            "gridwidth": 2,
            "linecolor": "white",
            "showbackground": true,
            "ticks": "",
            "zerolinecolor": "white"
           },
           "yaxis": {
            "backgroundcolor": "#E5ECF6",
            "gridcolor": "white",
            "gridwidth": 2,
            "linecolor": "white",
            "showbackground": true,
            "ticks": "",
            "zerolinecolor": "white"
           },
           "zaxis": {
            "backgroundcolor": "#E5ECF6",
            "gridcolor": "white",
            "gridwidth": 2,
            "linecolor": "white",
            "showbackground": true,
            "ticks": "",
            "zerolinecolor": "white"
           }
          },
          "shapedefaults": {
           "line": {
            "color": "#2a3f5f"
           }
          },
          "ternary": {
           "aaxis": {
            "gridcolor": "white",
            "linecolor": "white",
            "ticks": ""
           },
           "baxis": {
            "gridcolor": "white",
            "linecolor": "white",
            "ticks": ""
           },
           "bgcolor": "#E5ECF6",
           "caxis": {
            "gridcolor": "white",
            "linecolor": "white",
            "ticks": ""
           }
          },
          "title": {
           "x": 0.05
          },
          "xaxis": {
           "automargin": true,
           "gridcolor": "white",
           "linecolor": "white",
           "ticks": "",
           "title": {
            "standoff": 15
           },
           "zerolinecolor": "white",
           "zerolinewidth": 2
          },
          "yaxis": {
           "automargin": true,
           "gridcolor": "white",
           "linecolor": "white",
           "ticks": "",
           "title": {
            "standoff": 15
           },
           "zerolinecolor": "white",
           "zerolinewidth": 2
          }
         }
        },
        "width": 1800,
        "xaxis": {
         "autorange": true,
         "mirror": "allticks",
         "range": [
          0,
          2155
         ],
         "rangemode": "tozero",
         "showgrid": false,
         "showline": true,
         "showticklabels": true,
         "tickmode": "array",
         "ticks": "outside",
         "ticktext": [
          "196",
          "94",
          "176",
          "7",
          "99",
          "145",
          "82",
          "92",
          "144",
          "30",
          "136",
          "134",
          "59",
          "175",
          "95",
          "60",
          "181",
          "70",
          "108",
          "66",
          "125",
          "119",
          "26",
          "62",
          "203",
          "96",
          "2",
          "143",
          "38",
          "36",
          "16",
          "6",
          "1",
          "178",
          "116",
          "156",
          "10",
          "51",
          "158",
          "140",
          "213",
          "43",
          "52",
          "61",
          "159",
          "167",
          "97",
          "148",
          "39",
          "18",
          "151",
          "72",
          "171",
          "12",
          "90",
          "64",
          "81",
          "77",
          "79",
          "212",
          "88",
          "76",
          "202",
          "174",
          "185",
          "139",
          "198",
          "15",
          "141",
          "42",
          "87",
          "137",
          "93",
          "11",
          "74",
          "98",
          "177",
          "169",
          "163",
          "161",
          "135",
          "132",
          "22",
          "102",
          "103",
          "173",
          "112",
          "17",
          "32",
          "107",
          "75",
          "122",
          "208",
          "204",
          "73",
          "57",
          "146",
          "120",
          "126",
          "3",
          "128",
          "49",
          "179",
          "113",
          "8",
          "197",
          "13",
          "207",
          "166",
          "200",
          "86",
          "41",
          "152",
          "63",
          "80",
          "89",
          "183",
          "48",
          "195",
          "121",
          "194",
          "201",
          "199",
          "160",
          "138",
          "129",
          "117",
          "114",
          "67",
          "24",
          "25",
          "100",
          "127",
          "187",
          "153",
          "214",
          "193",
          "192",
          "190",
          "164",
          "155",
          "150",
          "130",
          "124",
          "123",
          "118",
          "115",
          "110",
          "109",
          "105",
          "104",
          "91",
          "78",
          "58",
          "54",
          "47",
          "46",
          "44",
          "35",
          "27",
          "21",
          "9",
          "20",
          "133",
          "205",
          "149",
          "157",
          "111",
          "188",
          "184",
          "69",
          "106",
          "189",
          "168",
          "37",
          "4",
          "19",
          "40",
          "211",
          "29",
          "154",
          "34",
          "56",
          "33",
          "83",
          "71",
          "215",
          "45",
          "85",
          "28",
          "170",
          "5",
          "180",
          "14",
          "182",
          "50",
          "131",
          "210",
          "0",
          "172",
          "84",
          "101",
          "142",
          "206",
          "53",
          "65",
          "191",
          "162",
          "209",
          "31",
          "165",
          "186",
          "68",
          "55",
          "23",
          "147"
         ],
         "tickvals": [
          5,
          15,
          25,
          35,
          45,
          55,
          65,
          75,
          85,
          95,
          105,
          115,
          125,
          135,
          145,
          155,
          165,
          175,
          185,
          195,
          205,
          215,
          225,
          235,
          245,
          255,
          265,
          275,
          285,
          295,
          305,
          315,
          325,
          335,
          345,
          355,
          365,
          375,
          385,
          395,
          405,
          415,
          425,
          435,
          445,
          455,
          465,
          475,
          485,
          495,
          505,
          515,
          525,
          535,
          545,
          555,
          565,
          575,
          585,
          595,
          605,
          615,
          625,
          635,
          645,
          655,
          665,
          675,
          685,
          695,
          705,
          715,
          725,
          735,
          745,
          755,
          765,
          775,
          785,
          795,
          805,
          815,
          825,
          835,
          845,
          855,
          865,
          875,
          885,
          895,
          905,
          915,
          925,
          935,
          945,
          955,
          965,
          975,
          985,
          995,
          1005,
          1015,
          1025,
          1035,
          1045,
          1055,
          1065,
          1075,
          1085,
          1095,
          1105,
          1115,
          1125,
          1135,
          1145,
          1155,
          1165,
          1175,
          1185,
          1195,
          1205,
          1215,
          1225,
          1235,
          1245,
          1255,
          1265,
          1275,
          1285,
          1295,
          1305,
          1315,
          1325,
          1335,
          1345,
          1355,
          1365,
          1375,
          1385,
          1395,
          1405,
          1415,
          1425,
          1435,
          1445,
          1455,
          1465,
          1475,
          1485,
          1495,
          1505,
          1515,
          1525,
          1535,
          1545,
          1555,
          1565,
          1575,
          1585,
          1595,
          1605,
          1615,
          1625,
          1635,
          1645,
          1655,
          1665,
          1675,
          1685,
          1695,
          1705,
          1715,
          1725,
          1735,
          1745,
          1755,
          1765,
          1775,
          1785,
          1795,
          1805,
          1815,
          1825,
          1835,
          1845,
          1855,
          1865,
          1875,
          1885,
          1895,
          1905,
          1915,
          1925,
          1935,
          1945,
          1955,
          1965,
          1975,
          1985,
          1995,
          2005,
          2015,
          2025,
          2035,
          2045,
          2055,
          2065,
          2075,
          2085,
          2095,
          2105,
          2115,
          2125,
          2135,
          2145,
          2155
         ],
         "type": "linear",
         "zeroline": false
        },
        "yaxis": {
         "autorange": true,
         "mirror": "allticks",
         "range": [
          0,
          72.62857055009272
         ],
         "rangemode": "tozero",
         "showgrid": false,
         "showline": true,
         "showticklabels": true,
         "ticks": "outside",
         "type": "linear",
         "zeroline": false
        }
       }
      },
      "image/png": "[encoded data removed]",
      "text/html": [
       "<div>                            <div id=\"bb1f7671-9082-4f17-93de-723a0201ccb1\" class=\"plotly-graph-div\" style=\"height:500px; width:1800px;\"></div>            <script type=\"text/javascript\">                require([\"plotly\"], function(Plotly) {                    window.PLOTLYENV=window.PLOTLYENV || {};                                    if (document.getElementById(\"bb1f7671-9082-4f17-93de-723a0201ccb1\")) {                    Plotly.newPlot(                        \"bb1f7671-9082-4f17-93de-723a0201ccb1\",                        [{\"hoverinfo\":\"text\",\"marker\":{\"color\":\"rgb(61,153,112)\"},\"mode\":\"lines\",\"x\":[125.0,125.0,135.0,135.0],\"xaxis\":\"x\",\"y\":[0.0,6.1626731139295305,6.1626731139295305,0.0],\"yaxis\":\"y\",\"type\":\"scatter\"},{\"hoverinfo\":\"text\",\"marker\":{\"color\":\"rgb(61,153,112)\"},\"mode\":\"lines\",\"x\":[115.0,115.0,130.0,130.0],\"xaxis\":\"x\",\"y\":[0.0,10.488642713864664,10.488642713864664,6.1626731139295305],\"yaxis\":\"y\",\"type\":\"scatter\"},{\"hoverinfo\":\"text\",\"marker\":{\"color\":\"rgb(61,153,112)\"},\"mode\":\"lines\",\"x\":[105.0,105.0,122.5,122.5],\"xaxis\":\"x\",\"y\":[0.0,21.26586037228826,21.26586037228826,10.488642713864664],\"yaxis\":\"y\",\"type\":\"scatter\"},{\"hoverinfo\":\"text\",\"marker\":{\"color\":\"rgb(61,153,112)\"},\"mode\":\"lines\",\"x\":[95.0,95.0,113.75,113.75],\"xaxis\":\"x\",\"y\":[0.0,23.309055464243198,23.309055464243198,21.26586037228826],\"yaxis\":\"y\",\"type\":\"scatter\"},{\"hoverinfo\":\"text\",\"marker\":{\"color\":\"rgb(61,153,112)\"},\"mode\":\"lines\",\"x\":[85.0,85.0,104.375,104.375],\"xaxis\":\"x\",\"y\":[0.0,29.570286355221857,29.570286355221857,23.309055464243198],\"yaxis\":\"y\",\"type\":\"scatter\"},{\"hoverinfo\":\"text\",\"marker\":{\"color\":\"rgb(61,153,112)\"},\"mode\":\"lines\",\"x\":[195.0,195.0,205.0,205.0],\"xaxis\":\"x\",\"y\":[0.0,13.793724301543527,13.793724301543527,0.0],\"yaxis\":\"y\",\"type\":\"scatter\"},{\"hoverinfo\":\"text\",\"marker\":{\"color\":\"rgb(61,153,112)\"},\"mode\":\"lines\",\"x\":[185.0,185.0,200.0,200.0],\"xaxis\":\"x\",\"y\":[0.0,20.58129606319702,20.58129606319702,13.793724301543527],\"yaxis\":\"y\",\"type\":\"scatter\"},{\"hoverinfo\":\"text\",\"marker\":{\"color\":\"rgb(61,153,112)\"},\"mode\":\"lines\",\"x\":[225.0,225.0,235.0,235.0],\"xaxis\":\"x\",\"y\":[0.0,21.588273491898466,21.588273491898466,0.0],\"yaxis\":\"y\",\"type\":\"scatter\"},{\"hoverinfo\":\"text\",\"marker\":{\"color\":\"rgb(61,153,112)\"},\"mode\":\"lines\",\"x\":[215.0,215.0,230.0,230.0],\"xaxis\":\"x\",\"y\":[0.0,23.07648369995784,23.07648369995784,21.588273491898466],\"yaxis\":\"y\",\"type\":\"scatter\"},{\"hoverinfo\":\"text\",\"marker\":{\"color\":\"rgb(61,153,112)\"},\"mode\":\"lines\",\"x\":[192.5,192.5,222.5,222.5],\"xaxis\":\"x\",\"y\":[20.58129606319702,25.87509816351305,25.87509816351305,23.07648369995784],\"yaxis\":\"y\",\"type\":\"scatter\"},{\"hoverinfo\":\"text\",\"marker\":{\"color\":\"rgb(61,153,112)\"},\"mode\":\"lines\",\"x\":[175.0,175.0,207.5,207.5],\"xaxis\":\"x\",\"y\":[0.0,29.734101991176168,29.734101991176168,25.87509816351305],\"yaxis\":\"y\",\"type\":\"scatter\"},{\"hoverinfo\":\"text\",\"marker\":{\"color\":\"rgb(61,153,112)\"},\"mode\":\"lines\",\"x\":[265.0,265.0,275.0,275.0],\"xaxis\":\"x\",\"y\":[0.0,21.610372508312388,21.610372508312388,0.0],\"yaxis\":\"y\",\"type\":\"scatter\"},{\"hoverinfo\":\"text\",\"marker\":{\"color\":\"rgb(61,153,112)\"},\"mode\":\"lines\",\"x\":[345.0,345.0,355.0,355.0],\"xaxis\":\"x\",\"y\":[0.0,12.836209703495127,12.836209703495127,0.0],\"yaxis\":\"y\",\"type\":\"scatter\"},{\"hoverinfo\":\"text\",\"marker\":{\"color\":\"rgb(61,153,112)\"},\"mode\":\"lines\",\"x\":[335.0,335.0,350.0,350.0],\"xaxis\":\"x\",\"y\":[0.0,22.562094076724023,22.562094076724023,12.836209703495127],\"yaxis\":\"y\",\"type\":\"scatter\"},{\"hoverinfo\":\"text\",\"marker\":{\"color\":\"rgb(61,153,112)\"},\"mode\":\"lines\",\"x\":[375.0,375.0,385.0,385.0],\"xaxis\":\"x\",\"y\":[0.0,15.168901089192316,15.168901089192316,0.0],\"yaxis\":\"y\",\"type\":\"scatter\"},{\"hoverinfo\":\"text\",\"marker\":{\"color\":\"rgb(61,153,112)\"},\"mode\":\"lines\",\"x\":[395.0,395.0,405.0,405.0],\"xaxis\":\"x\",\"y\":[0.0,14.997618617842933,14.997618617842933,0.0],\"yaxis\":\"y\",\"type\":\"scatter\"},{\"hoverinfo\":\"text\",\"marker\":{\"color\":\"rgb(61,153,112)\"},\"mode\":\"lines\",\"x\":[415.0,415.0,425.0,425.0],\"xaxis\":\"x\",\"y\":[0.0,20.937866766497407,20.937866766497407,0.0],\"yaxis\":\"y\",\"type\":\"scatter\"},{\"hoverinfo\":\"text\",\"marker\":{\"color\":\"rgb(61,153,112)\"},\"mode\":\"lines\",\"x\":[435.0,435.0,445.0,445.0],\"xaxis\":\"x\",\"y\":[0.0,20.56954215353054,20.56954215353054,0.0],\"yaxis\":\"y\",\"type\":\"scatter\"},{\"hoverinfo\":\"text\",\"marker\":{\"color\":\"rgb(61,153,112)\"},\"mode\":\"lines\",\"x\":[495.0,495.0,505.0,505.0],\"xaxis\":\"x\",\"y\":[0.0,2.0940301826895995,2.0940301826895995,0.0],\"yaxis\":\"y\",\"type\":\"scatter\"},{\"hoverinfo\":\"text\",\"marker\":{\"color\":\"rgb(61,153,112)\"},\"mode\":\"lines\",\"x\":[515.0,515.0,525.0,525.0],\"xaxis\":\"x\",\"y\":[0.0,10.583755283914353,10.583755283914353,0.0],\"yaxis\":\"y\",\"type\":\"scatter\"},{\"hoverinfo\":\"text\",\"marker\":{\"color\":\"rgb(61,153,112)\"},\"mode\":\"lines\",\"x\":[500.0,500.0,520.0,520.0],\"xaxis\":\"x\",\"y\":[2.0940301826895995,16.619840876094003,16.619840876094003,10.583755283914353],\"yaxis\":\"y\",\"type\":\"scatter\"},{\"hoverinfo\":\"text\",\"marker\":{\"color\":\"rgb(61,153,112)\"},\"mode\":\"lines\",\"x\":[535.0,535.0,545.0,545.0],\"xaxis\":\"x\",\"y\":[0.0,9.995146820159048,9.995146820159048,0.0],\"yaxis\":\"y\",\"type\":\"scatter\"},{\"hoverinfo\":\"text\",\"marker\":{\"color\":\"rgb(61,153,112)\"},\"mode\":\"lines\",\"x\":[575.0,575.0,585.0,585.0],\"xaxis\":\"x\",\"y\":[0.0,20.9378667664974,20.9378667664974,0.0],\"yaxis\":\"y\",\"type\":\"scatter\"},{\"hoverinfo\":\"text\",\"marker\":{\"color\":\"rgb(61,153,112)\"},\"mode\":\"lines\",\"x\":[615.0,615.0,625.0,625.0],\"xaxis\":\"x\",\"y\":[0.0,20.937866766497404,20.937866766497404,0.0],\"yaxis\":\"y\",\"type\":\"scatter\"},{\"hoverinfo\":\"text\",\"marker\":{\"color\":\"rgb(61,153,112)\"},\"mode\":\"lines\",\"x\":[605.0,605.0,620.0,620.0],\"xaxis\":\"x\",\"y\":[0.0,21.32864169282516,21.32864169282516,20.937866766497404],\"yaxis\":\"y\",\"type\":\"scatter\"},{\"hoverinfo\":\"text\",\"marker\":{\"color\":\"rgb(61,153,112)\"},\"mode\":\"lines\",\"x\":[595.0,595.0,612.5,612.5],\"xaxis\":\"x\",\"y\":[0.0,21.4922531841626,21.4922531841626,21.32864169282516],\"yaxis\":\"y\",\"type\":\"scatter\"},{\"hoverinfo\":\"text\",\"marker\":{\"color\":\"rgb(61,153,112)\"},\"mode\":\"lines\",\"x\":[635.0,635.0,645.0,645.0],\"xaxis\":\"x\",\"y\":[0.0,20.832889917761804,20.832889917761804,0.0],\"yaxis\":\"y\",\"type\":\"scatter\"},{\"hoverinfo\":\"text\",\"marker\":{\"color\":\"rgb(61,153,112)\"},\"mode\":\"lines\",\"x\":[655.0,655.0,665.0,665.0],\"xaxis\":\"x\",\"y\":[0.0,20.937866766497407,20.937866766497407,0.0],\"yaxis\":\"y\",\"type\":\"scatter\"},{\"hoverinfo\":\"text\",\"marker\":{\"color\":\"rgb(61,153,112)\"},\"mode\":\"lines\",\"x\":[705.0,705.0,715.0,715.0],\"xaxis\":\"x\",\"y\":[0.0,5.647179444652823,5.647179444652823,0.0],\"yaxis\":\"y\",\"type\":\"scatter\"},{\"hoverinfo\":\"text\",\"marker\":{\"color\":\"rgb(61,153,112)\"},\"mode\":\"lines\",\"x\":[745.0,745.0,755.0,755.0],\"xaxis\":\"x\",\"y\":[0.0,0.0,0.0,0.0],\"yaxis\":\"y\",\"type\":\"scatter\"},{\"hoverinfo\":\"text\",\"marker\":{\"color\":\"rgb(61,153,112)\"},\"mode\":\"lines\",\"x\":[735.0,735.0,750.0,750.0],\"xaxis\":\"x\",\"y\":[0.0,6.176723534520792,6.176723534520792,0.0],\"yaxis\":\"y\",\"type\":\"scatter\"},{\"hoverinfo\":\"text\",\"marker\":{\"color\":\"rgb(61,153,112)\"},\"mode\":\"lines\",\"x\":[845.0,845.0,855.0,855.0],\"xaxis\":\"x\",\"y\":[0.0,9.4792206529339,9.4792206529339,0.0],\"yaxis\":\"y\",\"type\":\"scatter\"},{\"hoverinfo\":\"text\",\"marker\":{\"color\":\"rgb(61,153,112)\"},\"mode\":\"lines\",\"x\":[875.0,875.0,885.0,885.0],\"xaxis\":\"x\",\"y\":[0.0,4.743828943319758,4.743828943319758,0.0],\"yaxis\":\"y\",\"type\":\"scatter\"},{\"hoverinfo\":\"text\",\"marker\":{\"color\":\"rgb(61,153,112)\"},\"mode\":\"lines\",\"x\":[905.0,905.0,915.0,915.0],\"xaxis\":\"x\",\"y\":[0.0,4.354878001277995,4.354878001277995,0.0],\"yaxis\":\"y\",\"type\":\"scatter\"},{\"hoverinfo\":\"text\",\"marker\":{\"color\":\"rgb(61,153,112)\"},\"mode\":\"lines\",\"x\":[895.0,895.0,910.0,910.0],\"xaxis\":\"x\",\"y\":[0.0,7.166791180192323,7.166791180192323,4.354878001277995],\"yaxis\":\"y\",\"type\":\"scatter\"},{\"hoverinfo\":\"text\",\"marker\":{\"color\":\"rgb(61,153,112)\"},\"mode\":\"lines\",\"x\":[995.0,995.0,1005.0,1005.0],\"xaxis\":\"x\",\"y\":[0.0,3.6039309763073635,3.6039309763073635,0.0],\"yaxis\":\"y\",\"type\":\"scatter\"},{\"hoverinfo\":\"text\",\"marker\":{\"color\":\"rgb(61,153,112)\"},\"mode\":\"lines\",\"x\":[985.0,985.0,1000.0,1000.0],\"xaxis\":\"x\",\"y\":[0.0,4.577036504644481,4.577036504644481,3.6039309763073635],\"yaxis\":\"y\",\"type\":\"scatter\"},{\"hoverinfo\":\"text\",\"marker\":{\"color\":\"rgb(61,153,112)\"},\"mode\":\"lines\",\"x\":[975.0,975.0,992.5,992.5],\"xaxis\":\"x\",\"y\":[0.0,7.732079594049174,7.732079594049174,4.577036504644481],\"yaxis\":\"y\",\"type\":\"scatter\"},{\"hoverinfo\":\"text\",\"marker\":{\"color\":\"rgb(61,153,112)\"},\"mode\":\"lines\",\"x\":[1015.0,1015.0,1025.0,1025.0],\"xaxis\":\"x\",\"y\":[0.0,8.301759277929035,8.301759277929035,0.0],\"yaxis\":\"y\",\"type\":\"scatter\"},{\"hoverinfo\":\"text\",\"marker\":{\"color\":\"rgb(61,153,112)\"},\"mode\":\"lines\",\"x\":[1045.0,1045.0,1055.0,1055.0],\"xaxis\":\"x\",\"y\":[0.0,4.1048544626033,4.1048544626033,0.0],\"yaxis\":\"y\",\"type\":\"scatter\"},{\"hoverinfo\":\"text\",\"marker\":{\"color\":\"rgb(61,153,112)\"},\"mode\":\"lines\",\"x\":[1085.0,1085.0,1095.0,1095.0],\"xaxis\":\"x\",\"y\":[0.0,0.0,0.0,0.0],\"yaxis\":\"y\",\"type\":\"scatter\"},{\"hoverinfo\":\"text\",\"marker\":{\"color\":\"rgb(61,153,112)\"},\"mode\":\"lines\",\"x\":[1075.0,1075.0,1090.0,1090.0],\"xaxis\":\"x\",\"y\":[0.0,2.417977779334083,2.417977779334083,0.0],\"yaxis\":\"y\",\"type\":\"scatter\"},{\"hoverinfo\":\"text\",\"marker\":{\"color\":\"rgb(61,153,112)\"},\"mode\":\"lines\",\"x\":[1065.0,1065.0,1082.5,1082.5],\"xaxis\":\"x\",\"y\":[0.0,3.848269459886364,3.848269459886364,2.417977779334083],\"yaxis\":\"y\",\"type\":\"scatter\"},{\"hoverinfo\":\"text\",\"marker\":{\"color\":\"rgb(61,153,112)\"},\"mode\":\"lines\",\"x\":[1135.0,1135.0,1145.0,1145.0],\"xaxis\":\"x\",\"y\":[0.0,0.0,0.0,0.0],\"yaxis\":\"y\",\"type\":\"scatter\"},{\"hoverinfo\":\"text\",\"marker\":{\"color\":\"rgb(61,153,112)\"},\"mode\":\"lines\",\"x\":[1125.0,1125.0,1140.0,1140.0],\"xaxis\":\"x\",\"y\":[0.0,0.0,0.0,0.0],\"yaxis\":\"y\",\"type\":\"scatter\"},{\"hoverinfo\":\"text\",\"marker\":{\"color\":\"rgb(61,153,112)\"},\"mode\":\"lines\",\"x\":[1155.0,1155.0,1165.0,1165.0],\"xaxis\":\"x\",\"y\":[0.0,0.0,0.0,0.0],\"yaxis\":\"y\",\"type\":\"scatter\"},{\"hoverinfo\":\"text\",\"marker\":{\"color\":\"rgb(61,153,112)\"},\"mode\":\"lines\",\"x\":[1132.5,1132.5,1160.0,1160.0],\"xaxis\":\"x\",\"y\":[0.0,3.244057609604998,3.244057609604998,0.0],\"yaxis\":\"y\",\"type\":\"scatter\"},{\"hoverinfo\":\"text\",\"marker\":{\"color\":\"rgb(61,153,112)\"},\"mode\":\"lines\",\"x\":[1115.0,1115.0,1146.25,1146.25],\"xaxis\":\"x\",\"y\":[0.0,7.7429124750651175,7.7429124750651175,3.244057609604998],\"yaxis\":\"y\",\"type\":\"scatter\"},{\"hoverinfo\":\"text\",\"marker\":{\"color\":\"rgb(61,153,112)\"},\"mode\":\"lines\",\"x\":[1195.0,1195.0,1205.0,1205.0],\"xaxis\":\"x\",\"y\":[0.0,0.0,0.0,0.0],\"yaxis\":\"y\",\"type\":\"scatter\"},{\"hoverinfo\":\"text\",\"marker\":{\"color\":\"rgb(61,153,112)\"},\"mode\":\"lines\",\"x\":[1185.0,1185.0,1200.0,1200.0],\"xaxis\":\"x\",\"y\":[0.0,0.0,0.0,0.0],\"yaxis\":\"y\",\"type\":\"scatter\"},{\"hoverinfo\":\"text\",\"marker\":{\"color\":\"rgb(61,153,112)\"},\"mode\":\"lines\",\"x\":[1295.0,1295.0,1305.0,1305.0],\"xaxis\":\"x\",\"y\":[0.0,0.0,0.0,0.0],\"yaxis\":\"y\",\"type\":\"scatter\"},{\"hoverinfo\":\"text\",\"marker\":{\"color\":\"rgb(61,153,112)\"},\"mode\":\"lines\",\"x\":[1285.0,1285.0,1300.0,1300.0],\"xaxis\":\"x\",\"y\":[0.0,0.0,0.0,0.0],\"yaxis\":\"y\",\"type\":\"scatter\"},{\"hoverinfo\":\"text\",\"marker\":{\"color\":\"rgb(61,153,112)\"},\"mode\":\"lines\",\"x\":[1275.0,1275.0,1292.5,1292.5],\"xaxis\":\"x\",\"y\":[0.0,0.0,0.0,0.0],\"yaxis\":\"y\",\"type\":\"scatter\"},{\"hoverinfo\":\"text\",\"marker\":{\"color\":\"rgb(61,153,112)\"},\"mode\":\"lines\",\"x\":[1265.0,1265.0,1283.75,1283.75],\"xaxis\":\"x\",\"y\":[0.0,0.0,0.0,0.0],\"yaxis\":\"y\",\"type\":\"scatter\"},{\"hoverinfo\":\"text\",\"marker\":{\"color\":\"rgb(61,153,112)\"},\"mode\":\"lines\",\"x\":[1255.0,1255.0,1274.375,1274.375],\"xaxis\":\"x\",\"y\":[0.0,0.0,0.0,0.0],\"yaxis\":\"y\",\"type\":\"scatter\"},{\"hoverinfo\":\"text\",\"marker\":{\"color\":\"rgb(61,153,112)\"},\"mode\":\"lines\",\"x\":[1245.0,1245.0,1264.6875,1264.6875],\"xaxis\":\"x\",\"y\":[0.0,0.0,0.0,0.0],\"yaxis\":\"y\",\"type\":\"scatter\"},{\"hoverinfo\":\"text\",\"marker\":{\"color\":\"rgb(61,153,112)\"},\"mode\":\"lines\",\"x\":[1235.0,1235.0,1254.84375,1254.84375],\"xaxis\":\"x\",\"y\":[0.0,0.0,0.0,0.0],\"yaxis\":\"y\",\"type\":\"scatter\"},{\"hoverinfo\":\"text\",\"marker\":{\"color\":\"rgb(61,153,112)\"},\"mode\":\"lines\",\"x\":[1225.0,1225.0,1244.921875,1244.921875],\"xaxis\":\"x\",\"y\":[0.0,0.0,0.0,0.0],\"yaxis\":\"y\",\"type\":\"scatter\"},{\"hoverinfo\":\"text\",\"marker\":{\"color\":\"rgb(61,153,112)\"},\"mode\":\"lines\",\"x\":[1215.0,1215.0,1234.9609375,1234.9609375],\"xaxis\":\"x\",\"y\":[0.0,0.0,0.0,0.0],\"yaxis\":\"y\",\"type\":\"scatter\"},{\"hoverinfo\":\"text\",\"marker\":{\"color\":\"rgb(61,153,112)\"},\"mode\":\"lines\",\"x\":[1315.0,1315.0,1325.0,1325.0],\"xaxis\":\"x\",\"y\":[0.0,4.548628603540743,4.548628603540743,0.0],\"yaxis\":\"y\",\"type\":\"scatter\"},{\"hoverinfo\":\"text\",\"marker\":{\"color\":\"rgb(61,153,112)\"},\"mode\":\"lines\",\"x\":[1615.0,1615.0,1625.0,1625.0],\"xaxis\":\"x\",\"y\":[0.0,0.0,0.0,0.0],\"yaxis\":\"y\",\"type\":\"scatter\"},{\"hoverinfo\":\"text\",\"marker\":{\"color\":\"rgb(61,153,112)\"},\"mode\":\"lines\",\"x\":[1605.0,1605.0,1620.0,1620.0],\"xaxis\":\"x\",\"y\":[0.0,0.0,0.0,0.0],\"yaxis\":\"y\",\"type\":\"scatter\"},{\"hoverinfo\":\"text\",\"marker\":{\"color\":\"rgb(61,153,112)\"},\"mode\":\"lines\",\"x\":[1595.0,1595.0,1612.5,1612.5],\"xaxis\":\"x\",\"y\":[0.0,0.0,0.0,0.0],\"yaxis\":\"y\",\"type\":\"scatter\"},{\"hoverinfo\":\"text\",\"marker\":{\"color\":\"rgb(61,153,112)\"},\"mode\":\"lines\",\"x\":[1585.0,1585.0,1603.75,1603.75],\"xaxis\":\"x\",\"y\":[0.0,0.0,0.0,0.0],\"yaxis\":\"y\",\"type\":\"scatter\"},{\"hoverinfo\":\"text\",\"marker\":{\"color\":\"rgb(61,153,112)\"},\"mode\":\"lines\",\"x\":[1575.0,1575.0,1594.375,1594.375],\"xaxis\":\"x\",\"y\":[0.0,0.0,0.0,0.0],\"yaxis\":\"y\",\"type\":\"scatter\"},{\"hoverinfo\":\"text\",\"marker\":{\"color\":\"rgb(61,153,112)\"},\"mode\":\"lines\",\"x\":[1565.0,1565.0,1584.6875,1584.6875],\"xaxis\":\"x\",\"y\":[0.0,0.0,0.0,0.0],\"yaxis\":\"y\",\"type\":\"scatter\"},{\"hoverinfo\":\"text\",\"marker\":{\"color\":\"rgb(61,153,112)\"},\"mode\":\"lines\",\"x\":[1555.0,1555.0,1574.84375,1574.84375],\"xaxis\":\"x\",\"y\":[0.0,0.0,0.0,0.0],\"yaxis\":\"y\",\"type\":\"scatter\"},{\"hoverinfo\":\"text\",\"marker\":{\"color\":\"rgb(61,153,112)\"},\"mode\":\"lines\",\"x\":[1545.0,1545.0,1564.921875,1564.921875],\"xaxis\":\"x\",\"y\":[0.0,0.0,0.0,0.0],\"yaxis\":\"y\",\"type\":\"scatter\"},{\"hoverinfo\":\"text\",\"marker\":{\"color\":\"rgb(61,153,112)\"},\"mode\":\"lines\",\"x\":[1535.0,1535.0,1554.9609375,1554.9609375],\"xaxis\":\"x\",\"y\":[0.0,0.0,0.0,0.0],\"yaxis\":\"y\",\"type\":\"scatter\"},{\"hoverinfo\":\"text\",\"marker\":{\"color\":\"rgb(61,153,112)\"},\"mode\":\"lines\",\"x\":[1525.0,1525.0,1544.98046875,1544.98046875],\"xaxis\":\"x\",\"y\":[0.0,0.0,0.0,0.0],\"yaxis\":\"y\",\"type\":\"scatter\"},{\"hoverinfo\":\"text\",\"marker\":{\"color\":\"rgb(61,153,112)\"},\"mode\":\"lines\",\"x\":[1515.0,1515.0,1534.990234375,1534.990234375],\"xaxis\":\"x\",\"y\":[0.0,0.0,0.0,0.0],\"yaxis\":\"y\",\"type\":\"scatter\"},{\"hoverinfo\":\"text\",\"marker\":{\"color\":\"rgb(61,153,112)\"},\"mode\":\"lines\",\"x\":[1505.0,1505.0,1524.9951171875,1524.9951171875],\"xaxis\":\"x\",\"y\":[0.0,0.0,0.0,0.0],\"yaxis\":\"y\",\"type\":\"scatter\"},{\"hoverinfo\":\"text\",\"marker\":{\"color\":\"rgb(61,153,112)\"},\"mode\":\"lines\",\"x\":[1495.0,1495.0,1514.99755859375,1514.99755859375],\"xaxis\":\"x\",\"y\":[0.0,0.0,0.0,0.0],\"yaxis\":\"y\",\"type\":\"scatter\"},{\"hoverinfo\":\"text\",\"marker\":{\"color\":\"rgb(61,153,112)\"},\"mode\":\"lines\",\"x\":[1485.0,1485.0,1504.998779296875,1504.998779296875],\"xaxis\":\"x\",\"y\":[0.0,0.0,0.0,0.0],\"yaxis\":\"y\",\"type\":\"scatter\"},{\"hoverinfo\":\"text\",\"marker\":{\"color\":\"rgb(61,153,112)\"},\"mode\":\"lines\",\"x\":[1475.0,1475.0,1494.9993896484375,1494.9993896484375],\"xaxis\":\"x\",\"y\":[0.0,0.0,0.0,0.0],\"yaxis\":\"y\",\"type\":\"scatter\"},{\"hoverinfo\":\"text\",\"marker\":{\"color\":\"rgb(61,153,112)\"},\"mode\":\"lines\",\"x\":[1465.0,1465.0,1484.9996948242188,1484.9996948242188],\"xaxis\":\"x\",\"y\":[0.0,0.0,0.0,0.0],\"yaxis\":\"y\",\"type\":\"scatter\"},{\"hoverinfo\":\"text\",\"marker\":{\"color\":\"rgb(61,153,112)\"},\"mode\":\"lines\",\"x\":[1455.0,1455.0,1474.9998474121094,1474.9998474121094],\"xaxis\":\"x\",\"y\":[0.0,0.0,0.0,0.0],\"yaxis\":\"y\",\"type\":\"scatter\"},{\"hoverinfo\":\"text\",\"marker\":{\"color\":\"rgb(61,153,112)\"},\"mode\":\"lines\",\"x\":[1445.0,1445.0,1464.9999237060547,1464.9999237060547],\"xaxis\":\"x\",\"y\":[0.0,0.0,0.0,0.0],\"yaxis\":\"y\",\"type\":\"scatter\"},{\"hoverinfo\":\"text\",\"marker\":{\"color\":\"rgb(61,153,112)\"},\"mode\":\"lines\",\"x\":[1435.0,1435.0,1454.9999618530273,1454.9999618530273],\"xaxis\":\"x\",\"y\":[0.0,0.0,0.0,0.0],\"yaxis\":\"y\",\"type\":\"scatter\"},{\"hoverinfo\":\"text\",\"marker\":{\"color\":\"rgb(61,153,112)\"},\"mode\":\"lines\",\"x\":[1425.0,1425.0,1444.9999809265137,1444.9999809265137],\"xaxis\":\"x\",\"y\":[0.0,0.0,0.0,0.0],\"yaxis\":\"y\",\"type\":\"scatter\"},{\"hoverinfo\":\"text\",\"marker\":{\"color\":\"rgb(61,153,112)\"},\"mode\":\"lines\",\"x\":[1415.0,1415.0,1434.9999904632568,1434.9999904632568],\"xaxis\":\"x\",\"y\":[0.0,0.0,0.0,0.0],\"yaxis\":\"y\",\"type\":\"scatter\"},{\"hoverinfo\":\"text\",\"marker\":{\"color\":\"rgb(61,153,112)\"},\"mode\":\"lines\",\"x\":[1405.0,1405.0,1424.9999952316284,1424.9999952316284],\"xaxis\":\"x\",\"y\":[0.0,0.0,0.0,0.0],\"yaxis\":\"y\",\"type\":\"scatter\"},{\"hoverinfo\":\"text\",\"marker\":{\"color\":\"rgb(61,153,112)\"},\"mode\":\"lines\",\"x\":[1395.0,1395.0,1414.9999976158142,1414.9999976158142],\"xaxis\":\"x\",\"y\":[0.0,0.0,0.0,0.0],\"yaxis\":\"y\",\"type\":\"scatter\"},{\"hoverinfo\":\"text\",\"marker\":{\"color\":\"rgb(61,153,112)\"},\"mode\":\"lines\",\"x\":[1385.0,1385.0,1404.999998807907,1404.999998807907],\"xaxis\":\"x\",\"y\":[0.0,0.0,0.0,0.0],\"yaxis\":\"y\",\"type\":\"scatter\"},{\"hoverinfo\":\"text\",\"marker\":{\"color\":\"rgb(61,153,112)\"},\"mode\":\"lines\",\"x\":[1375.0,1375.0,1394.9999994039536,1394.9999994039536],\"xaxis\":\"x\",\"y\":[0.0,0.0,0.0,0.0],\"yaxis\":\"y\",\"type\":\"scatter\"},{\"hoverinfo\":\"text\",\"marker\":{\"color\":\"rgb(61,153,112)\"},\"mode\":\"lines\",\"x\":[1365.0,1365.0,1384.9999997019768,1384.9999997019768],\"xaxis\":\"x\",\"y\":[0.0,0.0,0.0,0.0],\"yaxis\":\"y\",\"type\":\"scatter\"},{\"hoverinfo\":\"text\",\"marker\":{\"color\":\"rgb(61,153,112)\"},\"mode\":\"lines\",\"x\":[1355.0,1355.0,1374.9999998509884,1374.9999998509884],\"xaxis\":\"x\",\"y\":[0.0,0.0,0.0,0.0],\"yaxis\":\"y\",\"type\":\"scatter\"},{\"hoverinfo\":\"text\",\"marker\":{\"color\":\"rgb(61,153,112)\"},\"mode\":\"lines\",\"x\":[1345.0,1345.0,1364.9999999254942,1364.9999999254942],\"xaxis\":\"x\",\"y\":[0.0,5.644286669198948,5.644286669198948,0.0],\"yaxis\":\"y\",\"type\":\"scatter\"},{\"hoverinfo\":\"text\",\"marker\":{\"color\":\"rgb(61,153,112)\"},\"mode\":\"lines\",\"x\":[1335.0,1335.0,1354.999999962747,1354.999999962747],\"xaxis\":\"x\",\"y\":[0.0,7.365162487334548,7.365162487334548,5.644286669198948],\"yaxis\":\"y\",\"type\":\"scatter\"},{\"hoverinfo\":\"text\",\"marker\":{\"color\":\"rgb(61,153,112)\"},\"mode\":\"lines\",\"x\":[1320.0,1320.0,1344.9999999813735,1344.9999999813735],\"xaxis\":\"x\",\"y\":[4.548628603540743,8.144060286142217,8.144060286142217,7.365162487334548],\"yaxis\":\"y\",\"type\":\"scatter\"},{\"hoverinfo\":\"text\",\"marker\":{\"color\":\"rgb(61,153,112)\"},\"mode\":\"lines\",\"x\":[1224.98046875,1224.98046875,1332.4999999906868,1332.4999999906868],\"xaxis\":\"x\",\"y\":[0.0,8.278348963420074,8.278348963420074,8.144060286142217],\"yaxis\":\"y\",\"type\":\"scatter\"},{\"hoverinfo\":\"text\",\"marker\":{\"color\":\"rgb(61,153,112)\"},\"mode\":\"lines\",\"x\":[1192.5,1192.5,1278.7402343703434,1278.7402343703434],\"xaxis\":\"x\",\"y\":[0.0,8.66409223852181,8.66409223852181,8.278348963420074],\"yaxis\":\"y\",\"type\":\"scatter\"},{\"hoverinfo\":\"text\",\"marker\":{\"color\":\"rgb(61,153,112)\"},\"mode\":\"lines\",\"x\":[1175.0,1175.0,1235.6201171851717,1235.6201171851717],\"xaxis\":\"x\",\"y\":[0.0,9.336665349201974,9.336665349201974,8.66409223852181],\"yaxis\":\"y\",\"type\":\"scatter\"},{\"hoverinfo\":\"text\",\"marker\":{\"color\":\"rgb(61,153,112)\"},\"mode\":\"lines\",\"x\":[1130.625,1130.625,1205.3100585925858,1205.3100585925858],\"xaxis\":\"x\",\"y\":[7.7429124750651175,9.825045394628626,9.825045394628626,9.336665349201974],\"yaxis\":\"y\",\"type\":\"scatter\"},{\"hoverinfo\":\"text\",\"marker\":{\"color\":\"rgb(61,153,112)\"},\"mode\":\"lines\",\"x\":[1105.0,1105.0,1167.967529296293,1167.967529296293],\"xaxis\":\"x\",\"y\":[0.0,10.433287691772808,10.433287691772808,9.825045394628626],\"yaxis\":\"y\",\"type\":\"scatter\"},{\"hoverinfo\":\"text\",\"marker\":{\"color\":\"rgb(61,153,112)\"},\"mode\":\"lines\",\"x\":[1073.75,1073.75,1136.4837646481465,1136.4837646481465],\"xaxis\":\"x\",\"y\":[3.848269459886364,10.628831727482824,10.628831727482824,10.433287691772808],\"yaxis\":\"y\",\"type\":\"scatter\"},{\"hoverinfo\":\"text\",\"marker\":{\"color\":\"rgb(61,153,112)\"},\"mode\":\"lines\",\"x\":[1050.0,1050.0,1105.1168823240732,1105.1168823240732],\"xaxis\":\"x\",\"y\":[4.1048544626033,11.656046782986653,11.656046782986653,10.628831727482824],\"yaxis\":\"y\",\"type\":\"scatter\"},{\"hoverinfo\":\"text\",\"marker\":{\"color\":\"rgb(61,153,112)\"},\"mode\":\"lines\",\"x\":[1035.0,1035.0,1077.5584411620366,1077.5584411620366],\"xaxis\":\"x\",\"y\":[0.0,12.034026615066432,12.034026615066432,11.656046782986653],\"yaxis\":\"y\",\"type\":\"scatter\"},{\"hoverinfo\":\"text\",\"marker\":{\"color\":\"rgb(61,153,112)\"},\"mode\":\"lines\",\"x\":[1020.0,1020.0,1056.2792205810183,1056.2792205810183],\"xaxis\":\"x\",\"y\":[8.301759277929035,12.520972922773295,12.520972922773295,12.034026615066432],\"yaxis\":\"y\",\"type\":\"scatter\"},{\"hoverinfo\":\"text\",\"marker\":{\"color\":\"rgb(61,153,112)\"},\"mode\":\"lines\",\"x\":[983.75,983.75,1038.1396102905092,1038.1396102905092],\"xaxis\":\"x\",\"y\":[7.732079594049174,13.537785830915038,13.537785830915038,12.520972922773295],\"yaxis\":\"y\",\"type\":\"scatter\"},{\"hoverinfo\":\"text\",\"marker\":{\"color\":\"rgb(61,153,112)\"},\"mode\":\"lines\",\"x\":[965.0,965.0,1010.9448051452546,1010.9448051452546],\"xaxis\":\"x\",\"y\":[0.0,13.582563885761598,13.582563885761598,13.537785830915038],\"yaxis\":\"y\",\"type\":\"scatter\"},{\"hoverinfo\":\"text\",\"marker\":{\"color\":\"rgb(61,153,112)\"},\"mode\":\"lines\",\"x\":[1675.0,1675.0,1685.0,1685.0],\"xaxis\":\"x\",\"y\":[0.0,3.6039309763073635,3.6039309763073635,0.0],\"yaxis\":\"y\",\"type\":\"scatter\"},{\"hoverinfo\":\"text\",\"marker\":{\"color\":\"rgb(61,153,112)\"},\"mode\":\"lines\",\"x\":[1665.0,1665.0,1680.0,1680.0],\"xaxis\":\"x\",\"y\":[0.0,6.844726953463891,6.844726953463891,3.6039309763073635],\"yaxis\":\"y\",\"type\":\"scatter\"},{\"hoverinfo\":\"text\",\"marker\":{\"color\":\"rgb(61,153,112)\"},\"mode\":\"lines\",\"x\":[1755.0,1755.0,1765.0,1765.0],\"xaxis\":\"x\",\"y\":[0.0,0.0,0.0,0.0],\"yaxis\":\"y\",\"type\":\"scatter\"},{\"hoverinfo\":\"text\",\"marker\":{\"color\":\"rgb(61,153,112)\"},\"mode\":\"lines\",\"x\":[1745.0,1745.0,1760.0,1760.0],\"xaxis\":\"x\",\"y\":[0.0,0.0,0.0,0.0],\"yaxis\":\"y\",\"type\":\"scatter\"},{\"hoverinfo\":\"text\",\"marker\":{\"color\":\"rgb(61,153,112)\"},\"mode\":\"lines\",\"x\":[1735.0,1735.0,1752.5,1752.5],\"xaxis\":\"x\",\"y\":[0.0,0.0,0.0,0.0],\"yaxis\":\"y\",\"type\":\"scatter\"},{\"hoverinfo\":\"text\",\"marker\":{\"color\":\"rgb(61,153,112)\"},\"mode\":\"lines\",\"x\":[1725.0,1725.0,1743.75,1743.75],\"xaxis\":\"x\",\"y\":[0.0,0.0,0.0,0.0],\"yaxis\":\"y\",\"type\":\"scatter\"},{\"hoverinfo\":\"text\",\"marker\":{\"color\":\"rgb(61,153,112)\"},\"mode\":\"lines\",\"x\":[1795.0,1795.0,1805.0,1805.0],\"xaxis\":\"x\",\"y\":[0.0,0.0,0.0,0.0],\"yaxis\":\"y\",\"type\":\"scatter\"},{\"hoverinfo\":\"text\",\"marker\":{\"color\":\"rgb(61,153,112)\"},\"mode\":\"lines\",\"x\":[1785.0,1785.0,1800.0,1800.0],\"xaxis\":\"x\",\"y\":[0.0,0.0,0.0,0.0],\"yaxis\":\"y\",\"type\":\"scatter\"},{\"hoverinfo\":\"text\",\"marker\":{\"color\":\"rgb(61,153,112)\"},\"mode\":\"lines\",\"x\":[1775.0,1775.0,1792.5,1792.5],\"xaxis\":\"x\",\"y\":[0.0,3.4475889495729324,3.4475889495729324,0.0],\"yaxis\":\"y\",\"type\":\"scatter\"},{\"hoverinfo\":\"text\",\"marker\":{\"color\":\"rgb(61,153,112)\"},\"mode\":\"lines\",\"x\":[1734.375,1734.375,1783.75,1783.75],\"xaxis\":\"x\",\"y\":[0.0,4.657231877524784,4.657231877524784,3.4475889495729324],\"yaxis\":\"y\",\"type\":\"scatter\"},{\"hoverinfo\":\"text\",\"marker\":{\"color\":\"rgb(61,153,112)\"},\"mode\":\"lines\",\"x\":[1715.0,1715.0,1759.0625,1759.0625],\"xaxis\":\"x\",\"y\":[0.0,6.313019649374922,6.313019649374922,4.657231877524784],\"yaxis\":\"y\",\"type\":\"scatter\"},{\"hoverinfo\":\"text\",\"marker\":{\"color\":\"rgb(61,153,112)\"},\"mode\":\"lines\",\"x\":[1705.0,1705.0,1737.03125,1737.03125],\"xaxis\":\"x\",\"y\":[0.0,6.4942124239583565,6.4942124239583565,6.313019649374922],\"yaxis\":\"y\",\"type\":\"scatter\"},{\"hoverinfo\":\"text\",\"marker\":{\"color\":\"rgb(61,153,112)\"},\"mode\":\"lines\",\"x\":[1695.0,1695.0,1721.015625,1721.015625],\"xaxis\":\"x\",\"y\":[0.0,8.44427014867067,8.44427014867067,6.4942124239583565],\"yaxis\":\"y\",\"type\":\"scatter\"},{\"hoverinfo\":\"text\",\"marker\":{\"color\":\"rgb(61,153,112)\"},\"mode\":\"lines\",\"x\":[1672.5,1672.5,1708.0078125,1708.0078125],\"xaxis\":\"x\",\"y\":[6.844726953463891,10.46074197816001,10.46074197816001,8.44427014867067],\"yaxis\":\"y\",\"type\":\"scatter\"},{\"hoverinfo\":\"text\",\"marker\":{\"color\":\"rgb(61,153,112)\"},\"mode\":\"lines\",\"x\":[1655.0,1655.0,1690.25390625,1690.25390625],\"xaxis\":\"x\",\"y\":[0.0,11.883267334296974,11.883267334296974,10.46074197816001],\"yaxis\":\"y\",\"type\":\"scatter\"},{\"hoverinfo\":\"text\",\"marker\":{\"color\":\"rgb(61,153,112)\"},\"mode\":\"lines\",\"x\":[1645.0,1645.0,1672.626953125,1672.626953125],\"xaxis\":\"x\",\"y\":[0.0,13.500525991867514,13.500525991867514,11.883267334296974],\"yaxis\":\"y\",\"type\":\"scatter\"},{\"hoverinfo\":\"text\",\"marker\":{\"color\":\"rgb(61,153,112)\"},\"mode\":\"lines\",\"x\":[1635.0,1635.0,1658.8134765625,1658.8134765625],\"xaxis\":\"x\",\"y\":[0.0,14.39181201314054,14.39181201314054,13.500525991867514],\"yaxis\":\"y\",\"type\":\"scatter\"},{\"hoverinfo\":\"text\",\"marker\":{\"color\":\"rgb(61,153,112)\"},\"mode\":\"lines\",\"x\":[987.9724025726273,987.9724025726273,1646.90673828125,1646.90673828125],\"xaxis\":\"x\",\"y\":[13.582563885761598,14.538131562764555,14.538131562764555,14.39181201314054],\"yaxis\":\"y\",\"type\":\"scatter\"},{\"hoverinfo\":\"text\",\"marker\":{\"color\":\"rgb(61,153,112)\"},\"mode\":\"lines\",\"x\":[955.0,955.0,1317.4395704269386,1317.4395704269386],\"xaxis\":\"x\",\"y\":[0.0,14.749249267002973,14.749249267002973,14.538131562764555],\"yaxis\":\"y\",\"type\":\"scatter\"},{\"hoverinfo\":\"text\",\"marker\":{\"color\":\"rgb(61,153,112)\"},\"mode\":\"lines\",\"x\":[945.0,945.0,1136.2197852134693,1136.2197852134693],\"xaxis\":\"x\",\"y\":[0.0,14.749622036105588,14.749622036105588,14.749249267002973],\"yaxis\":\"y\",\"type\":\"scatter\"},{\"hoverinfo\":\"text\",\"marker\":{\"color\":\"rgb(61,153,112)\"},\"mode\":\"lines\",\"x\":[935.0,935.0,1040.6098926067348,1040.6098926067348],\"xaxis\":\"x\",\"y\":[0.0,14.749982088226076,14.749982088226076,14.749622036105588],\"yaxis\":\"y\",\"type\":\"scatter\"},{\"hoverinfo\":\"text\",\"marker\":{\"color\":\"rgb(61,153,112)\"},\"mode\":\"lines\",\"x\":[925.0,925.0,987.8049463033674,987.8049463033674],\"xaxis\":\"x\",\"y\":[0.0,15.974728525688626,15.974728525688626,14.749982088226076],\"yaxis\":\"y\",\"type\":\"scatter\"},{\"hoverinfo\":\"text\",\"marker\":{\"color\":\"rgb(61,153,112)\"},\"mode\":\"lines\",\"x\":[902.5,902.5,956.4024731516837,956.4024731516837],\"xaxis\":\"x\",\"y\":[7.166791180192323,16.85621743224742,16.85621743224742,15.974728525688626],\"yaxis\":\"y\",\"type\":\"scatter\"},{\"hoverinfo\":\"text\",\"marker\":{\"color\":\"rgb(61,153,112)\"},\"mode\":\"lines\",\"x\":[880.0,880.0,929.4512365758419,929.4512365758419],\"xaxis\":\"x\",\"y\":[4.743828943319758,17.480095268332672,17.480095268332672,16.85621743224742],\"yaxis\":\"y\",\"type\":\"scatter\"},{\"hoverinfo\":\"text\",\"marker\":{\"color\":\"rgb(61,153,112)\"},\"mode\":\"lines\",\"x\":[865.0,865.0,904.725618287921,904.725618287921],\"xaxis\":\"x\",\"y\":[0.0,18.367053074074647,18.367053074074647,17.480095268332672],\"yaxis\":\"y\",\"type\":\"scatter\"},{\"hoverinfo\":\"text\",\"marker\":{\"color\":\"rgb(61,153,112)\"},\"mode\":\"lines\",\"x\":[850.0,850.0,884.8628091439605,884.8628091439605],\"xaxis\":\"x\",\"y\":[9.4792206529339,19.526746562615077,19.526746562615077,18.367053074074647],\"yaxis\":\"y\",\"type\":\"scatter\"},{\"hoverinfo\":\"text\",\"marker\":{\"color\":\"rgb(61,153,112)\"},\"mode\":\"lines\",\"x\":[835.0,835.0,867.4314045719802,867.4314045719802],\"xaxis\":\"x\",\"y\":[0.0,20.78373750680309,20.78373750680309,19.526746562615077],\"yaxis\":\"y\",\"type\":\"scatter\"},{\"hoverinfo\":\"text\",\"marker\":{\"color\":\"rgb(61,153,112)\"},\"mode\":\"lines\",\"x\":[825.0,825.0,851.2157022859901,851.2157022859901],\"xaxis\":\"x\",\"y\":[0.0,20.784731635196206,20.784731635196206,20.78373750680309],\"yaxis\":\"y\",\"type\":\"scatter\"},{\"hoverinfo\":\"text\",\"marker\":{\"color\":\"rgb(61,153,112)\"},\"mode\":\"lines\",\"x\":[815.0,815.0,838.1078511429951,838.1078511429951],\"xaxis\":\"x\",\"y\":[0.0,20.785695894309026,20.785695894309026,20.784731635196206],\"yaxis\":\"y\",\"type\":\"scatter\"},{\"hoverinfo\":\"text\",\"marker\":{\"color\":\"rgb(61,153,112)\"},\"mode\":\"lines\",\"x\":[805.0,805.0,826.5539255714975,826.5539255714975],\"xaxis\":\"x\",\"y\":[0.0,20.786631469304805,20.786631469304805,20.785695894309026],\"yaxis\":\"y\",\"type\":\"scatter\"},{\"hoverinfo\":\"text\",\"marker\":{\"color\":\"rgb(61,153,112)\"},\"mode\":\"lines\",\"x\":[795.0,795.0,815.7769627857488,815.7769627857488],\"xaxis\":\"x\",\"y\":[0.0,20.787539487121407,20.787539487121407,20.786631469304805],\"yaxis\":\"y\",\"type\":\"scatter\"},{\"hoverinfo\":\"text\",\"marker\":{\"color\":\"rgb(61,153,112)\"},\"mode\":\"lines\",\"x\":[785.0,785.0,805.3884813928744,805.3884813928744],\"xaxis\":\"x\",\"y\":[0.0,20.788421019871762,20.788421019871762,20.787539487121407],\"yaxis\":\"y\",\"type\":\"scatter\"},{\"hoverinfo\":\"text\",\"marker\":{\"color\":\"rgb(61,153,112)\"},\"mode\":\"lines\",\"x\":[775.0,775.0,795.1942406964372,795.1942406964372],\"xaxis\":\"x\",\"y\":[0.0,20.789277088014785,20.789277088014785,20.788421019871762],\"yaxis\":\"y\",\"type\":\"scatter\"},{\"hoverinfo\":\"text\",\"marker\":{\"color\":\"rgb(61,153,112)\"},\"mode\":\"lines\",\"x\":[765.0,765.0,785.0971203482186,785.0971203482186],\"xaxis\":\"x\",\"y\":[0.0,20.79010866331427,20.79010866331427,20.789277088014785],\"yaxis\":\"y\",\"type\":\"scatter\"},{\"hoverinfo\":\"text\",\"marker\":{\"color\":\"rgb(61,153,112)\"},\"mode\":\"lines\",\"x\":[1815.0,1815.0,1825.0,1825.0],\"xaxis\":\"x\",\"y\":[0.0,20.832889917761804,20.832889917761804,0.0],\"yaxis\":\"y\",\"type\":\"scatter\"},{\"hoverinfo\":\"text\",\"marker\":{\"color\":\"rgb(61,153,112)\"},\"mode\":\"lines\",\"x\":[775.0485601741093,775.0485601741093,1820.0,1820.0],\"xaxis\":\"x\",\"y\":[20.79010866331427,20.95012889757721,20.95012889757721,20.832889917761804],\"yaxis\":\"y\",\"type\":\"scatter\"},{\"hoverinfo\":\"text\",\"marker\":{\"color\":\"rgb(61,153,112)\"},\"mode\":\"lines\",\"x\":[742.5,742.5,1297.5242800870546,1297.5242800870546],\"xaxis\":\"x\",\"y\":[6.176723534520792,21.092457772691134,21.092457772691134,20.95012889757721],\"yaxis\":\"y\",\"type\":\"scatter\"},{\"hoverinfo\":\"text\",\"marker\":{\"color\":\"rgb(61,153,112)\"},\"mode\":\"lines\",\"x\":[725.0,725.0,1020.0121400435273,1020.0121400435273],\"xaxis\":\"x\",\"y\":[0.0,21.23091903661535,21.23091903661535,21.092457772691134],\"yaxis\":\"y\",\"type\":\"scatter\"},{\"hoverinfo\":\"text\",\"marker\":{\"color\":\"rgb(61,153,112)\"},\"mode\":\"lines\",\"x\":[710.0,710.0,872.5060700217637,872.5060700217637],\"xaxis\":\"x\",\"y\":[5.647179444652823,21.502437375089457,21.502437375089457,21.23091903661535],\"yaxis\":\"y\",\"type\":\"scatter\"},{\"hoverinfo\":\"text\",\"marker\":{\"color\":\"rgb(61,153,112)\"},\"mode\":\"lines\",\"x\":[695.0,695.0,791.2530350108818,791.2530350108818],\"xaxis\":\"x\",\"y\":[0.0,21.665036365533744,21.665036365533744,21.502437375089457],\"yaxis\":\"y\",\"type\":\"scatter\"},{\"hoverinfo\":\"text\",\"marker\":{\"color\":\"rgb(61,153,112)\"},\"mode\":\"lines\",\"x\":[685.0,685.0,743.1265175054409,743.1265175054409],\"xaxis\":\"x\",\"y\":[0.0,21.80025153660489,21.80025153660489,21.665036365533744],\"yaxis\":\"y\",\"type\":\"scatter\"},{\"hoverinfo\":\"text\",\"marker\":{\"color\":\"rgb(61,153,112)\"},\"mode\":\"lines\",\"x\":[675.0,675.0,714.0632587527205,714.0632587527205],\"xaxis\":\"x\",\"y\":[0.0,21.81190194453777,21.81190194453777,21.80025153660489],\"yaxis\":\"y\",\"type\":\"scatter\"},{\"hoverinfo\":\"text\",\"marker\":{\"color\":\"rgb(61,153,112)\"},\"mode\":\"lines\",\"x\":[660.0,660.0,694.5316293763602,694.5316293763602],\"xaxis\":\"x\",\"y\":[20.937866766497407,21.84257717876652,21.84257717876652,21.81190194453777],\"yaxis\":\"y\",\"type\":\"scatter\"},{\"hoverinfo\":\"text\",\"marker\":{\"color\":\"rgb(61,153,112)\"},\"mode\":\"lines\",\"x\":[640.0,640.0,677.2658146881802,677.2658146881802],\"xaxis\":\"x\",\"y\":[20.832889917761804,22.064877122058046,22.064877122058046,21.84257717876652],\"yaxis\":\"y\",\"type\":\"scatter\"},{\"hoverinfo\":\"text\",\"marker\":{\"color\":\"rgb(61,153,112)\"},\"mode\":\"lines\",\"x\":[603.75,603.75,658.6329073440901,658.6329073440901],\"xaxis\":\"x\",\"y\":[21.4922531841626,22.10482477444016,22.10482477444016,22.064877122058046],\"yaxis\":\"y\",\"type\":\"scatter\"},{\"hoverinfo\":\"text\",\"marker\":{\"color\":\"rgb(61,153,112)\"},\"mode\":\"lines\",\"x\":[580.0,580.0,631.1914536720451,631.1914536720451],\"xaxis\":\"x\",\"y\":[20.9378667664974,22.16422926105857,22.16422926105857,22.10482477444016],\"yaxis\":\"y\",\"type\":\"scatter\"},{\"hoverinfo\":\"text\",\"marker\":{\"color\":\"rgb(61,153,112)\"},\"mode\":\"lines\",\"x\":[565.0,565.0,605.5957268360225,605.5957268360225],\"xaxis\":\"x\",\"y\":[0.0,22.491923774219924,22.491923774219924,22.16422926105857],\"yaxis\":\"y\",\"type\":\"scatter\"},{\"hoverinfo\":\"text\",\"marker\":{\"color\":\"rgb(61,153,112)\"},\"mode\":\"lines\",\"x\":[555.0,555.0,585.2978634180113,585.2978634180113],\"xaxis\":\"x\",\"y\":[0.0,22.49268091176336,22.49268091176336,22.491923774219924],\"yaxis\":\"y\",\"type\":\"scatter\"},{\"hoverinfo\":\"text\",\"marker\":{\"color\":\"rgb(61,153,112)\"},\"mode\":\"lines\",\"x\":[540.0,540.0,570.1489317090056,570.1489317090056],\"xaxis\":\"x\",\"y\":[9.995146820159048,22.853790599607347,22.853790599607347,22.49268091176336],\"yaxis\":\"y\",\"type\":\"scatter\"},{\"hoverinfo\":\"text\",\"marker\":{\"color\":\"rgb(61,153,112)\"},\"mode\":\"lines\",\"x\":[510.0,510.0,555.0744658545028,555.0744658545028],\"xaxis\":\"x\",\"y\":[16.619840876094003,23.46103023496478,23.46103023496478,22.853790599607347],\"yaxis\":\"y\",\"type\":\"scatter\"},{\"hoverinfo\":\"text\",\"marker\":{\"color\":\"rgb(61,153,112)\"},\"mode\":\"lines\",\"x\":[485.0,485.0,532.5372329272514,532.5372329272514],\"xaxis\":\"x\",\"y\":[0.0,23.559995059394723,23.559995059394723,23.46103023496478],\"yaxis\":\"y\",\"type\":\"scatter\"},{\"hoverinfo\":\"text\",\"marker\":{\"color\":\"rgb(61,153,112)\"},\"mode\":\"lines\",\"x\":[475.0,475.0,508.7686164636257,508.7686164636257],\"xaxis\":\"x\",\"y\":[0.0,23.91748318740997,23.91748318740997,23.559995059394723],\"yaxis\":\"y\",\"type\":\"scatter\"},{\"hoverinfo\":\"text\",\"marker\":{\"color\":\"rgb(61,153,112)\"},\"mode\":\"lines\",\"x\":[465.0,465.0,491.88430823181284,491.88430823181284],\"xaxis\":\"x\",\"y\":[0.0,24.060355569717455,24.060355569717455,23.91748318740997],\"yaxis\":\"y\",\"type\":\"scatter\"},{\"hoverinfo\":\"text\",\"marker\":{\"color\":\"rgb(61,153,112)\"},\"mode\":\"lines\",\"x\":[455.0,455.0,478.4421541159064,478.4421541159064],\"xaxis\":\"x\",\"y\":[0.0,24.060697931298904,24.060697931298904,24.060355569717455],\"yaxis\":\"y\",\"type\":\"scatter\"},{\"hoverinfo\":\"text\",\"marker\":{\"color\":\"rgb(61,153,112)\"},\"mode\":\"lines\",\"x\":[1835.0,1835.0,1845.0,1845.0],\"xaxis\":\"x\",\"y\":[0.0,24.08396710136571,24.08396710136571,0.0],\"yaxis\":\"y\",\"type\":\"scatter\"},{\"hoverinfo\":\"text\",\"marker\":{\"color\":\"rgb(61,153,112)\"},\"mode\":\"lines\",\"x\":[466.7210770579532,466.7210770579532,1840.0,1840.0],\"xaxis\":\"x\",\"y\":[24.060697931298904,24.194255293918154,24.194255293918154,24.08396710136571],\"yaxis\":\"y\",\"type\":\"scatter\"},{\"hoverinfo\":\"text\",\"marker\":{\"color\":\"rgb(61,153,112)\"},\"mode\":\"lines\",\"x\":[440.0,440.0,1153.3605385289766,1153.3605385289766],\"xaxis\":\"x\",\"y\":[20.56954215353054,25.160161296735232,25.160161296735232,24.194255293918154],\"yaxis\":\"y\",\"type\":\"scatter\"},{\"hoverinfo\":\"text\",\"marker\":{\"color\":\"rgb(61,153,112)\"},\"mode\":\"lines\",\"x\":[420.0,420.0,796.6802692644883,796.6802692644883],\"xaxis\":\"x\",\"y\":[20.937866766497407,25.446193309399618,25.446193309399618,25.160161296735232],\"yaxis\":\"y\",\"type\":\"scatter\"},{\"hoverinfo\":\"text\",\"marker\":{\"color\":\"rgb(61,153,112)\"},\"mode\":\"lines\",\"x\":[400.0,400.0,608.3401346322441,608.3401346322441],\"xaxis\":\"x\",\"y\":[14.997618617842933,25.592088136588455,25.592088136588455,25.446193309399618],\"yaxis\":\"y\",\"type\":\"scatter\"},{\"hoverinfo\":\"text\",\"marker\":{\"color\":\"rgb(61,153,112)\"},\"mode\":\"lines\",\"x\":[380.0,380.0,504.1700673161221,504.1700673161221],\"xaxis\":\"x\",\"y\":[15.168901089192316,25.708954556311255,25.708954556311255,25.592088136588455],\"yaxis\":\"y\",\"type\":\"scatter\"},{\"hoverinfo\":\"text\",\"marker\":{\"color\":\"rgb(61,153,112)\"},\"mode\":\"lines\",\"x\":[365.0,365.0,442.08503365806104,442.08503365806104],\"xaxis\":\"x\",\"y\":[0.0,25.745360838760405,25.745360838760405,25.708954556311255],\"yaxis\":\"y\",\"type\":\"scatter\"},{\"hoverinfo\":\"text\",\"marker\":{\"color\":\"rgb(61,153,112)\"},\"mode\":\"lines\",\"x\":[342.5,342.5,403.54251682903055,403.54251682903055],\"xaxis\":\"x\",\"y\":[22.562094076724023,26.105516433236165,26.105516433236165,25.745360838760405],\"yaxis\":\"y\",\"type\":\"scatter\"},{\"hoverinfo\":\"text\",\"marker\":{\"color\":\"rgb(61,153,112)\"},\"mode\":\"lines\",\"x\":[325.0,325.0,373.0212584145153,373.0212584145153],\"xaxis\":\"x\",\"y\":[0.0,29.420966691759,29.420966691759,26.105516433236165],\"yaxis\":\"y\",\"type\":\"scatter\"},{\"hoverinfo\":\"text\",\"marker\":{\"color\":\"rgb(61,153,112)\"},\"mode\":\"lines\",\"x\":[315.0,315.0,349.01062920725764,349.01062920725764],\"xaxis\":\"x\",\"y\":[0.0,29.421501980462182,29.421501980462182,29.420966691759],\"yaxis\":\"y\",\"type\":\"scatter\"},{\"hoverinfo\":\"text\",\"marker\":{\"color\":\"rgb(61,153,112)\"},\"mode\":\"lines\",\"x\":[305.0,305.0,332.0053146036288,332.0053146036288],\"xaxis\":\"x\",\"y\":[0.0,29.422026899281008,29.422026899281008,29.421501980462182],\"yaxis\":\"y\",\"type\":\"scatter\"},{\"hoverinfo\":\"text\",\"marker\":{\"color\":\"rgb(61,153,112)\"},\"mode\":\"lines\",\"x\":[295.0,295.0,318.5026573018144,318.5026573018144],\"xaxis\":\"x\",\"y\":[0.0,29.422541714410652,29.422541714410652,29.422026899281008],\"yaxis\":\"y\",\"type\":\"scatter\"},{\"hoverinfo\":\"text\",\"marker\":{\"color\":\"rgb(61,153,112)\"},\"mode\":\"lines\",\"x\":[285.0,285.0,306.7513286509072,306.7513286509072],\"xaxis\":\"x\",\"y\":[0.0,29.4894190126272,29.4894190126272,29.422541714410652],\"yaxis\":\"y\",\"type\":\"scatter\"},{\"hoverinfo\":\"text\",\"marker\":{\"color\":\"rgb(61,153,112)\"},\"mode\":\"lines\",\"x\":[270.0,270.0,295.8756643254536,295.8756643254536],\"xaxis\":\"x\",\"y\":[21.610372508312388,29.773483956760337,29.773483956760337,29.4894190126272],\"yaxis\":\"y\",\"type\":\"scatter\"},{\"hoverinfo\":\"text\",\"marker\":{\"color\":\"rgb(61,153,112)\"},\"mode\":\"lines\",\"x\":[255.0,255.0,282.9378321627268,282.9378321627268],\"xaxis\":\"x\",\"y\":[0.0,29.89908095278389,29.89908095278389,29.773483956760337],\"yaxis\":\"y\",\"type\":\"scatter\"},{\"hoverinfo\":\"text\",\"marker\":{\"color\":\"rgb(61,153,112)\"},\"mode\":\"lines\",\"x\":[245.0,245.0,268.96891608136343,268.96891608136343],\"xaxis\":\"x\",\"y\":[0.0,29.972194762831244,29.972194762831244,29.89908095278389],\"yaxis\":\"y\",\"type\":\"scatter\"},{\"hoverinfo\":\"text\",\"marker\":{\"color\":\"rgb(61,153,112)\"},\"mode\":\"lines\",\"x\":[191.25,191.25,256.9844580406817,256.9844580406817],\"xaxis\":\"x\",\"y\":[29.734101991176168,30.389867617488775,30.389867617488775,29.972194762831244],\"yaxis\":\"y\",\"type\":\"scatter\"},{\"hoverinfo\":\"text\",\"marker\":{\"color\":\"rgb(61,153,112)\"},\"mode\":\"lines\",\"x\":[165.0,165.0,224.11722902034086,224.11722902034086],\"xaxis\":\"x\",\"y\":[0.0,30.977768588092964,30.977768588092964,30.389867617488775],\"yaxis\":\"y\",\"type\":\"scatter\"},{\"hoverinfo\":\"text\",\"marker\":{\"color\":\"rgb(61,153,112)\"},\"mode\":\"lines\",\"x\":[155.0,155.0,194.55861451017043,194.55861451017043],\"xaxis\":\"x\",\"y\":[0.0,31.141335136537652,31.141335136537652,30.977768588092964],\"yaxis\":\"y\",\"type\":\"scatter\"},{\"hoverinfo\":\"text\",\"marker\":{\"color\":\"rgb(61,153,112)\"},\"mode\":\"lines\",\"x\":[145.0,145.0,174.7793072550852,174.7793072550852],\"xaxis\":\"x\",\"y\":[0.0,31.78126842761583,31.78126842761583,31.141335136537652],\"yaxis\":\"y\",\"type\":\"scatter\"},{\"hoverinfo\":\"text\",\"marker\":{\"color\":\"rgb(61,153,112)\"},\"mode\":\"lines\",\"x\":[94.6875,94.6875,159.8896536275426,159.8896536275426],\"xaxis\":\"x\",\"y\":[29.570286355221857,31.952005188078648,31.952005188078648,31.78126842761583],\"yaxis\":\"y\",\"type\":\"scatter\"},{\"hoverinfo\":\"text\",\"marker\":{\"color\":\"rgb(61,153,112)\"},\"mode\":\"lines\",\"x\":[75.0,75.0,127.2885768137713,127.2885768137713],\"xaxis\":\"x\",\"y\":[0.0,34.410690645983436,34.410690645983436,31.952005188078648],\"yaxis\":\"y\",\"type\":\"scatter\"},{\"hoverinfo\":\"text\",\"marker\":{\"color\":\"rgb(61,153,112)\"},\"mode\":\"lines\",\"x\":[65.0,65.0,101.14428840688565,101.14428840688565],\"xaxis\":\"x\",\"y\":[0.0,36.20523348008869,36.20523348008869,34.410690645983436],\"yaxis\":\"y\",\"type\":\"scatter\"},{\"hoverinfo\":\"text\",\"marker\":{\"color\":\"rgb(61,153,112)\"},\"mode\":\"lines\",\"x\":[55.0,55.0,83.07214420344283,83.07214420344283],\"xaxis\":\"x\",\"y\":[0.0,36.207606574028866,36.207606574028866,36.20523348008869],\"yaxis\":\"y\",\"type\":\"scatter\"},{\"hoverinfo\":\"text\",\"marker\":{\"color\":\"rgb(61,153,112)\"},\"mode\":\"lines\",\"x\":[1855.0,1855.0,1865.0,1865.0],\"xaxis\":\"x\",\"y\":[0.0,36.35658809925152,36.35658809925152,0.0],\"yaxis\":\"y\",\"type\":\"scatter\"},{\"hoverinfo\":\"text\",\"marker\":{\"color\":\"rgb(61,153,112)\"},\"mode\":\"lines\",\"x\":[69.03607210172142,69.03607210172142,1860.0,1860.0],\"xaxis\":\"x\",\"y\":[36.207606574028866,38.18808947984758,38.18808947984758,36.35658809925152],\"yaxis\":\"y\",\"type\":\"scatter\"},{\"hoverinfo\":\"text\",\"marker\":{\"color\":\"rgb(61,153,112)\"},\"mode\":\"lines\",\"x\":[45.0,45.0,964.5180360508607,964.5180360508607],\"xaxis\":\"x\",\"y\":[0.0,41.59995661678512,41.59995661678512,38.18808947984758],\"yaxis\":\"y\",\"type\":\"scatter\"},{\"hoverinfo\":\"text\",\"marker\":{\"color\":\"rgb(61,153,112)\"},\"mode\":\"lines\",\"x\":[35.0,35.0,504.75901802543035,504.75901802543035],\"xaxis\":\"x\",\"y\":[0.0,41.8819080929366,41.8819080929366,41.59995661678512],\"yaxis\":\"y\",\"type\":\"scatter\"},{\"hoverinfo\":\"text\",\"marker\":{\"color\":\"rgb(61,153,112)\"},\"mode\":\"lines\",\"x\":[25.0,25.0,269.8795090127152,269.8795090127152],\"xaxis\":\"x\",\"y\":[0.0,46.50110205797469,46.50110205797469,41.8819080929366],\"yaxis\":\"y\",\"type\":\"scatter\"},{\"hoverinfo\":\"text\",\"marker\":{\"color\":\"rgb(255,65,54)\"},\"mode\":\"lines\",\"x\":[1895.0,1895.0,1905.0,1905.0],\"xaxis\":\"x\",\"y\":[0.0,45.38466612642034,45.38466612642034,0.0],\"yaxis\":\"y\",\"type\":\"scatter\"},{\"hoverinfo\":\"text\",\"marker\":{\"color\":\"rgb(35,205,205)\"},\"mode\":\"lines\",\"x\":[1965.0,1965.0,1975.0,1975.0],\"xaxis\":\"x\",\"y\":[0.0,42.90893359637943,42.90893359637943,0.0],\"yaxis\":\"y\",\"type\":\"scatter\"},{\"hoverinfo\":\"text\",\"marker\":{\"color\":\"rgb(35,205,205)\"},\"mode\":\"lines\",\"x\":[2055.0,2055.0,2065.0,2065.0],\"xaxis\":\"x\",\"y\":[0.0,24.422758256857236,24.422758256857236,0.0],\"yaxis\":\"y\",\"type\":\"scatter\"},{\"hoverinfo\":\"text\",\"marker\":{\"color\":\"rgb(35,205,205)\"},\"mode\":\"lines\",\"x\":[2045.0,2045.0,2060.0,2060.0],\"xaxis\":\"x\",\"y\":[0.0,27.16710643010826,27.16710643010826,24.422758256857236],\"yaxis\":\"y\",\"type\":\"scatter\"},{\"hoverinfo\":\"text\",\"marker\":{\"color\":\"rgb(35,205,205)\"},\"mode\":\"lines\",\"x\":[2035.0,2035.0,2052.5,2052.5],\"xaxis\":\"x\",\"y\":[0.0,31.70515231803367,31.70515231803367,27.16710643010826],\"yaxis\":\"y\",\"type\":\"scatter\"},{\"hoverinfo\":\"text\",\"marker\":{\"color\":\"rgb(35,205,205)\"},\"mode\":\"lines\",\"x\":[2025.0,2025.0,2043.75,2043.75],\"xaxis\":\"x\",\"y\":[0.0,32.33114991668946,32.33114991668946,31.70515231803367],\"yaxis\":\"y\",\"type\":\"scatter\"},{\"hoverinfo\":\"text\",\"marker\":{\"color\":\"rgb(35,205,205)\"},\"mode\":\"lines\",\"x\":[2075.0,2075.0,2085.0,2085.0],\"xaxis\":\"x\",\"y\":[0.0,22.9289226640563,22.9289226640563,0.0],\"yaxis\":\"y\",\"type\":\"scatter\"},{\"hoverinfo\":\"text\",\"marker\":{\"color\":\"rgb(35,205,205)\"},\"mode\":\"lines\",\"x\":[2095.0,2095.0,2105.0,2105.0],\"xaxis\":\"x\",\"y\":[0.0,31.50960932634303,31.50960932634303,0.0],\"yaxis\":\"y\",\"type\":\"scatter\"},{\"hoverinfo\":\"text\",\"marker\":{\"color\":\"rgb(35,205,205)\"},\"mode\":\"lines\",\"x\":[2080.0,2080.0,2100.0,2100.0],\"xaxis\":\"x\",\"y\":[22.9289226640563,33.25077082869251,33.25077082869251,31.50960932634303],\"yaxis\":\"y\",\"type\":\"scatter\"},{\"hoverinfo\":\"text\",\"marker\":{\"color\":\"rgb(35,205,205)\"},\"mode\":\"lines\",\"x\":[2034.375,2034.375,2090.0,2090.0],\"xaxis\":\"x\",\"y\":[32.33114991668946,34.33711811037541,34.33711811037541,33.25077082869251],\"yaxis\":\"y\",\"type\":\"scatter\"},{\"hoverinfo\":\"text\",\"marker\":{\"color\":\"rgb(35,205,205)\"},\"mode\":\"lines\",\"x\":[2015.0,2015.0,2062.1875,2062.1875],\"xaxis\":\"x\",\"y\":[0.0,35.34783057801535,35.34783057801535,34.33711811037541],\"yaxis\":\"y\",\"type\":\"scatter\"},{\"hoverinfo\":\"text\",\"marker\":{\"color\":\"rgb(35,205,205)\"},\"mode\":\"lines\",\"x\":[2005.0,2005.0,2038.59375,2038.59375],\"xaxis\":\"x\",\"y\":[0.0,38.682840083026505,38.682840083026505,35.34783057801535],\"yaxis\":\"y\",\"type\":\"scatter\"},{\"hoverinfo\":\"text\",\"marker\":{\"color\":\"rgb(35,205,205)\"},\"mode\":\"lines\",\"x\":[1995.0,1995.0,2021.796875,2021.796875],\"xaxis\":\"x\",\"y\":[0.0,39.21440103141371,39.21440103141371,38.682840083026505],\"yaxis\":\"y\",\"type\":\"scatter\"},{\"hoverinfo\":\"text\",\"marker\":{\"color\":\"rgb(35,205,205)\"},\"mode\":\"lines\",\"x\":[1985.0,1985.0,2008.3984375,2008.3984375],\"xaxis\":\"x\",\"y\":[0.0,43.1037172120511,43.1037172120511,39.21440103141371],\"yaxis\":\"y\",\"type\":\"scatter\"},{\"hoverinfo\":\"text\",\"marker\":{\"color\":\"rgb(35,205,205)\"},\"mode\":\"lines\",\"x\":[1970.0,1970.0,1996.69921875,1996.69921875],\"xaxis\":\"x\",\"y\":[42.90893359637943,43.81344624977755,43.81344624977755,43.1037172120511],\"yaxis\":\"y\",\"type\":\"scatter\"},{\"hoverinfo\":\"text\",\"marker\":{\"color\":\"rgb(35,205,205)\"},\"mode\":\"lines\",\"x\":[1955.0,1955.0,1983.349609375,1983.349609375],\"xaxis\":\"x\",\"y\":[0.0,46.94354290822326,46.94354290822326,43.81344624977755],\"yaxis\":\"y\",\"type\":\"scatter\"},{\"hoverinfo\":\"text\",\"marker\":{\"color\":\"rgb(35,205,205)\"},\"mode\":\"lines\",\"x\":[1945.0,1945.0,1969.1748046875,1969.1748046875],\"xaxis\":\"x\",\"y\":[0.0,47.046585142009874,47.046585142009874,46.94354290822326],\"yaxis\":\"y\",\"type\":\"scatter\"},{\"hoverinfo\":\"text\",\"marker\":{\"color\":\"rgb(35,205,205)\"},\"mode\":\"lines\",\"x\":[1935.0,1935.0,1957.08740234375,1957.08740234375],\"xaxis\":\"x\",\"y\":[0.0,47.227808772725766,47.227808772725766,47.046585142009874],\"yaxis\":\"y\",\"type\":\"scatter\"},{\"hoverinfo\":\"text\",\"marker\":{\"color\":\"rgb(0,116,217)\"},\"mode\":\"lines\",\"x\":[1925.0,1925.0,1946.043701171875,1946.043701171875],\"xaxis\":\"x\",\"y\":[0.0,48.558235981537855,48.558235981537855,47.227808772725766],\"yaxis\":\"y\",\"type\":\"scatter\"},{\"hoverinfo\":\"text\",\"marker\":{\"color\":\"rgb(0,116,217)\"},\"mode\":\"lines\",\"x\":[1915.0,1915.0,1935.5218505859375,1935.5218505859375],\"xaxis\":\"x\",\"y\":[0.0,48.99180944547937,48.99180944547937,48.558235981537855],\"yaxis\":\"y\",\"type\":\"scatter\"},{\"hoverinfo\":\"text\",\"marker\":{\"color\":\"rgb(0,116,217)\"},\"mode\":\"lines\",\"x\":[1900.0,1900.0,1925.2609252929688,1925.2609252929688],\"xaxis\":\"x\",\"y\":[45.38466612642034,50.41211605439284,50.41211605439284,48.99180944547937],\"yaxis\":\"y\",\"type\":\"scatter\"},{\"hoverinfo\":\"text\",\"marker\":{\"color\":\"rgb(0,116,217)\"},\"mode\":\"lines\",\"x\":[1885.0,1885.0,1912.6304626464844,1912.6304626464844],\"xaxis\":\"x\",\"y\":[0.0,51.71632912733142,51.71632912733142,50.41211605439284],\"yaxis\":\"y\",\"type\":\"scatter\"},{\"hoverinfo\":\"text\",\"marker\":{\"color\":\"rgb(0,116,217)\"},\"mode\":\"lines\",\"x\":[1875.0,1875.0,1898.8152313232422,1898.8152313232422],\"xaxis\":\"x\",\"y\":[0.0,52.686080686591566,52.686080686591566,51.71632912733142],\"yaxis\":\"y\",\"type\":\"scatter\"},{\"hoverinfo\":\"text\",\"marker\":{\"color\":\"rgb(0,116,217)\"},\"mode\":\"lines\",\"x\":[147.4397545063576,147.4397545063576,1886.907615661621,1886.907615661621],\"xaxis\":\"x\",\"y\":[46.50110205797469,56.914260997491475,56.914260997491475,52.686080686591566],\"yaxis\":\"y\",\"type\":\"scatter\"},{\"hoverinfo\":\"text\",\"marker\":{\"color\":\"rgb(0,116,217)\"},\"mode\":\"lines\",\"x\":[2145.0,2145.0,2155.0,2155.0],\"xaxis\":\"x\",\"y\":[0.0,53.94828557872497,53.94828557872497,0.0],\"yaxis\":\"y\",\"type\":\"scatter\"},{\"hoverinfo\":\"text\",\"marker\":{\"color\":\"rgb(0,116,217)\"},\"mode\":\"lines\",\"x\":[2135.0,2135.0,2150.0,2150.0],\"xaxis\":\"x\",\"y\":[0.0,56.61588257868022,56.61588257868022,53.94828557872497],\"yaxis\":\"y\",\"type\":\"scatter\"},{\"hoverinfo\":\"text\",\"marker\":{\"color\":\"rgb(0,116,217)\"},\"mode\":\"lines\",\"x\":[2125.0,2125.0,2142.5,2142.5],\"xaxis\":\"x\",\"y\":[0.0,58.839543662666536,58.839543662666536,56.61588257868022],\"yaxis\":\"y\",\"type\":\"scatter\"},{\"hoverinfo\":\"text\",\"marker\":{\"color\":\"rgb(0,116,217)\"},\"mode\":\"lines\",\"x\":[2115.0,2115.0,2133.75,2133.75],\"xaxis\":\"x\",\"y\":[0.0,59.63756910187255,59.63756910187255,58.839543662666536],\"yaxis\":\"y\",\"type\":\"scatter\"},{\"hoverinfo\":\"text\",\"marker\":{\"color\":\"rgb(0,116,217)\"},\"mode\":\"lines\",\"x\":[1017.1736850839893,1017.1736850839893,2124.375,2124.375],\"xaxis\":\"x\",\"y\":[56.914260997491475,61.6574696666385,61.6574696666385,59.63756910187255],\"yaxis\":\"y\",\"type\":\"scatter\"},{\"hoverinfo\":\"text\",\"marker\":{\"color\":\"rgb(0,116,217)\"},\"mode\":\"lines\",\"x\":[15.0,15.0,1570.7743425419947,1570.7743425419947],\"xaxis\":\"x\",\"y\":[0.0,65.35834518543201,65.35834518543201,61.6574696666385],\"yaxis\":\"y\",\"type\":\"scatter\"},{\"hoverinfo\":\"text\",\"marker\":{\"color\":\"rgb(0,116,217)\"},\"mode\":\"lines\",\"x\":[5.0,5.0,792.8871712709973,792.8871712709973],\"xaxis\":\"x\",\"y\":[0.0,68.99714202258808,68.99714202258808,65.35834518543201],\"yaxis\":\"y\",\"type\":\"scatter\"}],                        {\"autosize\":false,\"height\":500,\"hovermode\":\"closest\",\"showlegend\":false,\"width\":1800,\"xaxis\":{\"mirror\":\"allticks\",\"rangemode\":\"tozero\",\"showgrid\":false,\"showline\":true,\"showticklabels\":true,\"tickmode\":\"array\",\"ticks\":\"outside\",\"ticktext\":[\"196\",\"94\",\"176\",\"7\",\"99\",\"145\",\"82\",\"92\",\"144\",\"30\",\"136\",\"134\",\"59\",\"175\",\"95\",\"60\",\"181\",\"70\",\"108\",\"66\",\"125\",\"119\",\"26\",\"62\",\"203\",\"96\",\"2\",\"143\",\"38\",\"36\",\"16\",\"6\",\"1\",\"178\",\"116\",\"156\",\"10\",\"51\",\"158\",\"140\",\"213\",\"43\",\"52\",\"61\",\"159\",\"167\",\"97\",\"148\",\"39\",\"18\",\"151\",\"72\",\"171\",\"12\",\"90\",\"64\",\"81\",\"77\",\"79\",\"212\",\"88\",\"76\",\"202\",\"174\",\"185\",\"139\",\"198\",\"15\",\"141\",\"42\",\"87\",\"137\",\"93\",\"11\",\"74\",\"98\",\"177\",\"169\",\"163\",\"161\",\"135\",\"132\",\"22\",\"102\",\"103\",\"173\",\"112\",\"17\",\"32\",\"107\",\"75\",\"122\",\"208\",\"204\",\"73\",\"57\",\"146\",\"120\",\"126\",\"3\",\"128\",\"49\",\"179\",\"113\",\"8\",\"197\",\"13\",\"207\",\"166\",\"200\",\"86\",\"41\",\"152\",\"63\",\"80\",\"89\",\"183\",\"48\",\"195\",\"121\",\"194\",\"201\",\"199\",\"160\",\"138\",\"129\",\"117\",\"114\",\"67\",\"24\",\"25\",\"100\",\"127\",\"187\",\"153\",\"214\",\"193\",\"192\",\"190\",\"164\",\"155\",\"150\",\"130\",\"124\",\"123\",\"118\",\"115\",\"110\",\"109\",\"105\",\"104\",\"91\",\"78\",\"58\",\"54\",\"47\",\"46\",\"44\",\"35\",\"27\",\"21\",\"9\",\"20\",\"133\",\"205\",\"149\",\"157\",\"111\",\"188\",\"184\",\"69\",\"106\",\"189\",\"168\",\"37\",\"4\",\"19\",\"40\",\"211\",\"29\",\"154\",\"34\",\"56\",\"33\",\"83\",\"71\",\"215\",\"45\",\"85\",\"28\",\"170\",\"5\",\"180\",\"14\",\"182\",\"50\",\"131\",\"210\",\"0\",\"172\",\"84\",\"101\",\"142\",\"206\",\"53\",\"65\",\"191\",\"162\",\"209\",\"31\",\"165\",\"186\",\"68\",\"55\",\"23\",\"147\"],\"tickvals\":[5,15,25,35,45,55,65,75,85,95,105,115,125,135,145,155,165,175,185,195,205,215,225,235,245,255,265,275,285,295,305,315,325,335,345,355,365,375,385,395,405,415,425,435,445,455,465,475,485,495,505,515,525,535,545,555,565,575,585,595,605,615,625,635,645,655,665,675,685,695,705,715,725,735,745,755,765,775,785,795,805,815,825,835,845,855,865,875,885,895,905,915,925,935,945,955,965,975,985,995,1005,1015,1025,1035,1045,1055,1065,1075,1085,1095,1105,1115,1125,1135,1145,1155,1165,1175,1185,1195,1205,1215,1225,1235,1245,1255,1265,1275,1285,1295,1305,1315,1325,1335,1345,1355,1365,1375,1385,1395,1405,1415,1425,1435,1445,1455,1465,1475,1485,1495,1505,1515,1525,1535,1545,1555,1565,1575,1585,1595,1605,1615,1625,1635,1645,1655,1665,1675,1685,1695,1705,1715,1725,1735,1745,1755,1765,1775,1785,1795,1805,1815,1825,1835,1845,1855,1865,1875,1885,1895,1905,1915,1925,1935,1945,1955,1965,1975,1985,1995,2005,2015,2025,2035,2045,2055,2065,2075,2085,2095,2105,2115,2125,2135,2145,2155],\"type\":\"linear\",\"zeroline\":false},\"yaxis\":{\"mirror\":\"allticks\",\"rangemode\":\"tozero\",\"showgrid\":false,\"showline\":true,\"showticklabels\":true,\"ticks\":\"outside\",\"type\":\"linear\",\"zeroline\":false},\"template\":{\"data\":{\"histogram2dcontour\":[{\"type\":\"histogram2dcontour\",\"colorbar\":{\"outlinewidth\":0,\"ticks\":\"\"},\"colorscale\":[[0.0,\"#0d0887\"],[0.1111111111111111,\"#46039f\"],[0.2222222222222222,\"#7201a8\"],[0.3333333333333333,\"#9c179e\"],[0.4444444444444444,\"#bd3786\"],[0.5555555555555556,\"#d8576b\"],[0.6666666666666666,\"#ed7953\"],[0.7777777777777778,\"#fb9f3a\"],[0.8888888888888888,\"#fdca26\"],[1.0,\"#f0f921\"]]}],\"choropleth\":[{\"type\":\"choropleth\",\"colorbar\":{\"outlinewidth\":0,\"ticks\":\"\"}}],\"histogram2d\":[{\"type\":\"histogram2d\",\"colorbar\":{\"outlinewidth\":0,\"ticks\":\"\"},\"colorscale\":[[0.0,\"#0d0887\"],[0.1111111111111111,\"#46039f\"],[0.2222222222222222,\"#7201a8\"],[0.3333333333333333,\"#9c179e\"],[0.4444444444444444,\"#bd3786\"],[0.5555555555555556,\"#d8576b\"],[0.6666666666666666,\"#ed7953\"],[0.7777777777777778,\"#fb9f3a\"],[0.8888888888888888,\"#fdca26\"],[1.0,\"#f0f921\"]]}],\"heatmap\":[{\"type\":\"heatmap\",\"colorbar\":{\"outlinewidth\":0,\"ticks\":\"\"},\"colorscale\":[[0.0,\"#0d0887\"],[0.1111111111111111,\"#46039f\"],[0.2222222222222222,\"#7201a8\"],[0.3333333333333333,\"#9c179e\"],[0.4444444444444444,\"#bd3786\"],[0.5555555555555556,\"#d8576b\"],[0.6666666666666666,\"#ed7953\"],[0.7777777777777778,\"#fb9f3a\"],[0.8888888888888888,\"#fdca26\"],[1.0,\"#f0f921\"]]}],\"heatmapgl\":[{\"type\":\"heatmapgl\",\"colorbar\":{\"outlinewidth\":0,\"ticks\":\"\"},\"colorscale\":[[0.0,\"#0d0887\"],[0.1111111111111111,\"#46039f\"],[0.2222222222222222,\"#7201a8\"],[0.3333333333333333,\"#9c179e\"],[0.4444444444444444,\"#bd3786\"],[0.5555555555555556,\"#d8576b\"],[0.6666666666666666,\"#ed7953\"],[0.7777777777777778,\"#fb9f3a\"],[0.8888888888888888,\"#fdca26\"],[1.0,\"#f0f921\"]]}],\"contourcarpet\":[{\"type\":\"contourcarpet\",\"colorbar\":{\"outlinewidth\":0,\"ticks\":\"\"}}],\"contour\":[{\"type\":\"contour\",\"colorbar\":{\"outlinewidth\":0,\"ticks\":\"\"},\"colorscale\":[[0.0,\"#0d0887\"],[0.1111111111111111,\"#46039f\"],[0.2222222222222222,\"#7201a8\"],[0.3333333333333333,\"#9c179e\"],[0.4444444444444444,\"#bd3786\"],[0.5555555555555556,\"#d8576b\"],[0.6666666666666666,\"#ed7953\"],[0.7777777777777778,\"#fb9f3a\"],[0.8888888888888888,\"#fdca26\"],[1.0,\"#f0f921\"]]}],\"surface\":[{\"type\":\"surface\",\"colorbar\":{\"outlinewidth\":0,\"ticks\":\"\"},\"colorscale\":[[0.0,\"#0d0887\"],[0.1111111111111111,\"#46039f\"],[0.2222222222222222,\"#7201a8\"],[0.3333333333333333,\"#9c179e\"],[0.4444444444444444,\"#bd3786\"],[0.5555555555555556,\"#d8576b\"],[0.6666666666666666,\"#ed7953\"],[0.7777777777777778,\"#fb9f3a\"],[0.8888888888888888,\"#fdca26\"],[1.0,\"#f0f921\"]]}],\"mesh3d\":[{\"type\":\"mesh3d\",\"colorbar\":{\"outlinewidth\":0,\"ticks\":\"\"}}],\"scatter\":[{\"fillpattern\":{\"fillmode\":\"overlay\",\"size\":10,\"solidity\":0.2},\"type\":\"scatter\"}],\"parcoords\":[{\"type\":\"parcoords\",\"line\":{\"colorbar\":{\"outlinewidth\":0,\"ticks\":\"\"}}}],\"scatterpolargl\":[{\"type\":\"scatterpolargl\",\"marker\":{\"colorbar\":{\"outlinewidth\":0,\"ticks\":\"\"}}}],\"bar\":[{\"error_x\":{\"color\":\"#2a3f5f\"},\"error_y\":{\"color\":\"#2a3f5f\"},\"marker\":{\"line\":{\"color\":\"#E5ECF6\",\"width\":0.5},\"pattern\":{\"fillmode\":\"overlay\",\"size\":10,\"solidity\":0.2}},\"type\":\"bar\"}],\"scattergeo\":[{\"type\":\"scattergeo\",\"marker\":{\"colorbar\":{\"outlinewidth\":0,\"ticks\":\"\"}}}],\"scatterpolar\":[{\"type\":\"scatterpolar\",\"marker\":{\"colorbar\":{\"outlinewidth\":0,\"ticks\":\"\"}}}],\"histogram\":[{\"marker\":{\"pattern\":{\"fillmode\":\"overlay\",\"size\":10,\"solidity\":0.2}},\"type\":\"histogram\"}],\"scattergl\":[{\"type\":\"scattergl\",\"marker\":{\"colorbar\":{\"outlinewidth\":0,\"ticks\":\"\"}}}],\"scatter3d\":[{\"type\":\"scatter3d\",\"line\":{\"colorbar\":{\"outlinewidth\":0,\"ticks\":\"\"}},\"marker\":{\"colorbar\":{\"outlinewidth\":0,\"ticks\":\"\"}}}],\"scattermapbox\":[{\"type\":\"scattermapbox\",\"marker\":{\"colorbar\":{\"outlinewidth\":0,\"ticks\":\"\"}}}],\"scatterternary\":[{\"type\":\"scatterternary\",\"marker\":{\"colorbar\":{\"outlinewidth\":0,\"ticks\":\"\"}}}],\"scattercarpet\":[{\"type\":\"scattercarpet\",\"marker\":{\"colorbar\":{\"outlinewidth\":0,\"ticks\":\"\"}}}],\"carpet\":[{\"aaxis\":{\"endlinecolor\":\"#2a3f5f\",\"gridcolor\":\"white\",\"linecolor\":\"white\",\"minorgridcolor\":\"white\",\"startlinecolor\":\"#2a3f5f\"},\"baxis\":{\"endlinecolor\":\"#2a3f5f\",\"gridcolor\":\"white\",\"linecolor\":\"white\",\"minorgridcolor\":\"white\",\"startlinecolor\":\"#2a3f5f\"},\"type\":\"carpet\"}],\"table\":[{\"cells\":{\"fill\":{\"color\":\"#EBF0F8\"},\"line\":{\"color\":\"white\"}},\"header\":{\"fill\":{\"color\":\"#C8D4E3\"},\"line\":{\"color\":\"white\"}},\"type\":\"table\"}],\"barpolar\":[{\"marker\":{\"line\":{\"color\":\"#E5ECF6\",\"width\":0.5},\"pattern\":{\"fillmode\":\"overlay\",\"size\":10,\"solidity\":0.2}},\"type\":\"barpolar\"}],\"pie\":[{\"automargin\":true,\"type\":\"pie\"}]},\"layout\":{\"autotypenumbers\":\"strict\",\"colorway\":[\"#636efa\",\"#EF553B\",\"#00cc96\",\"#ab63fa\",\"#FFA15A\",\"#19d3f3\",\"#FF6692\",\"#B6E880\",\"#FF97FF\",\"#FECB52\"],\"font\":{\"color\":\"#2a3f5f\"},\"hovermode\":\"closest\",\"hoverlabel\":{\"align\":\"left\"},\"paper_bgcolor\":\"white\",\"plot_bgcolor\":\"#E5ECF6\",\"polar\":{\"bgcolor\":\"#E5ECF6\",\"angularaxis\":{\"gridcolor\":\"white\",\"linecolor\":\"white\",\"ticks\":\"\"},\"radialaxis\":{\"gridcolor\":\"white\",\"linecolor\":\"white\",\"ticks\":\"\"}},\"ternary\":{\"bgcolor\":\"#E5ECF6\",\"aaxis\":{\"gridcolor\":\"white\",\"linecolor\":\"white\",\"ticks\":\"\"},\"baxis\":{\"gridcolor\":\"white\",\"linecolor\":\"white\",\"ticks\":\"\"},\"caxis\":{\"gridcolor\":\"white\",\"linecolor\":\"white\",\"ticks\":\"\"}},\"coloraxis\":{\"colorbar\":{\"outlinewidth\":0,\"ticks\":\"\"}},\"colorscale\":{\"sequential\":[[0.0,\"#0d0887\"],[0.1111111111111111,\"#46039f\"],[0.2222222222222222,\"#7201a8\"],[0.3333333333333333,\"#9c179e\"],[0.4444444444444444,\"#bd3786\"],[0.5555555555555556,\"#d8576b\"],[0.6666666666666666,\"#ed7953\"],[0.7777777777777778,\"#fb9f3a\"],[0.8888888888888888,\"#fdca26\"],[1.0,\"#f0f921\"]],\"sequentialminus\":[[0.0,\"#0d0887\"],[0.1111111111111111,\"#46039f\"],[0.2222222222222222,\"#7201a8\"],[0.3333333333333333,\"#9c179e\"],[0.4444444444444444,\"#bd3786\"],[0.5555555555555556,\"#d8576b\"],[0.6666666666666666,\"#ed7953\"],[0.7777777777777778,\"#fb9f3a\"],[0.8888888888888888,\"#fdca26\"],[1.0,\"#f0f921\"]],\"diverging\":[[0,\"#8e0152\"],[0.1,\"#c51b7d\"],[0.2,\"#de77ae\"],[0.3,\"#f1b6da\"],[0.4,\"#fde0ef\"],[0.5,\"#f7f7f7\"],[0.6,\"#e6f5d0\"],[0.7,\"#b8e186\"],[0.8,\"#7fbc41\"],[0.9,\"#4d9221\"],[1,\"#276419\"]]},\"xaxis\":{\"gridcolor\":\"white\",\"linecolor\":\"white\",\"ticks\":\"\",\"title\":{\"standoff\":15},\"zerolinecolor\":\"white\",\"automargin\":true,\"zerolinewidth\":2},\"yaxis\":{\"gridcolor\":\"white\",\"linecolor\":\"white\",\"ticks\":\"\",\"title\":{\"standoff\":15},\"zerolinecolor\":\"white\",\"automargin\":true,\"zerolinewidth\":2},\"scene\":{\"xaxis\":{\"backgroundcolor\":\"#E5ECF6\",\"gridcolor\":\"white\",\"linecolor\":\"white\",\"showbackground\":true,\"ticks\":\"\",\"zerolinecolor\":\"white\",\"gridwidth\":2},\"yaxis\":{\"backgroundcolor\":\"#E5ECF6\",\"gridcolor\":\"white\",\"linecolor\":\"white\",\"showbackground\":true,\"ticks\":\"\",\"zerolinecolor\":\"white\",\"gridwidth\":2},\"zaxis\":{\"backgroundcolor\":\"#E5ECF6\",\"gridcolor\":\"white\",\"linecolor\":\"white\",\"showbackground\":true,\"ticks\":\"\",\"zerolinecolor\":\"white\",\"gridwidth\":2}},\"shapedefaults\":{\"line\":{\"color\":\"#2a3f5f\"}},\"annotationdefaults\":{\"arrowcolor\":\"#2a3f5f\",\"arrowhead\":0,\"arrowwidth\":1},\"geo\":{\"bgcolor\":\"white\",\"landcolor\":\"#E5ECF6\",\"subunitcolor\":\"white\",\"showland\":true,\"showlakes\":true,\"lakecolor\":\"white\"},\"title\":{\"x\":0.05},\"mapbox\":{\"style\":\"light\"}}}},                        {\"responsive\": true}                    ).then(function(){\n",
       "                            \n",
       "var gd = document.getElementById('bb1f7671-9082-4f17-93de-723a0201ccb1');\n",
       "var x = new MutationObserver(function (mutations, observer) {{\n",
       "        var display = window.getComputedStyle(gd).display;\n",
       "        if (!display || display === 'none') {{\n",
       "            console.log([gd, 'removed!']);\n",
       "            Plotly.purge(gd);\n",
       "            observer.disconnect();\n",
       "        }}\n",
       "}});\n",
       "\n",
       "// Listen for the removal of the full notebook cells\n",
       "var notebookContainer = gd.closest('#notebook-container');\n",
       "if (notebookContainer) {{\n",
       "    x.observe(notebookContainer, {childList: true});\n",
       "}}\n",
       "\n",
       "// Listen for the clearing of the current output cell\n",
       "var outputEl = gd.closest('.output');\n",
       "if (outputEl) {{\n",
       "    x.observe(outputEl, {childList: true});\n",
       "}}\n",
       "\n",
       "                        })                };                });            </script>        </div>"
      ]
     },
     "metadata": {},
     "output_type": "display_data"
    },
    {
     "name": "stdout",
     "output_type": "stream",
     "text": [
      "Silhouette Score for k=2: 0.5994097753561954\n",
      "Silhouette Score for k=3: 0.5814288848736356\n",
      "Silhouette Score for k=4: 0.5403229042058408\n",
      "Silhouette Score for k=5: 0.5379518732348821\n"
     ]
    }
   ],
   "source": [
    "# Compute the linkage matrix using the Ward method\n",
    "linked = linkage(scaled_data, method='ward')\n",
    "\n",
    "# Plot the dendrogram\n",
    "fig = ff.create_dendrogram(scaled_data, linkagefun=lambda x: linked, labels=None)\n",
    "fig.update_layout(width=1800, height=500)\n",
    "fig.show()\n",
    "\n",
    "# Calculate silhouette scores for different numbers of clusters\n",
    "silhouette_scores = {}\n",
    "for k in range(2, 6):\n",
    "    # Use fcluster to flatten the dendrogram to 'k' clusters\n",
    "    labels = fcluster(linked, k, criterion='maxclust')\n",
    "    score = silhouette_score(scaled_data, labels)\n",
    "    silhouette_scores[k] = score\n",
    "    print(f'Silhouette Score for k={k}: {score}')"
   ]
  },
  {
   "cell_type": "code",
   "execution_count": null,
   "id": "14b1fddc-f8a9-4d1e-ab0b-6dc2be67ae4c",
   "metadata": {},
   "outputs": [],
   "source": []
  },
  {
   "cell_type": "code",
   "execution_count": null,
   "id": "0489cfe8-d015-499c-8b40-f9f083bfe7ba",
   "metadata": {},
   "outputs": [],
   "source": []
  }
 ],
 "metadata": {
  "kernelspec": {
   "display_name": "Python 3 (ipykernel)",
   "language": "python",
   "name": "python3"
  },
  "language_info": {
   "codemirror_mode": {
    "name": "ipython",
    "version": 3
   },
   "file_extension": ".py",
   "mimetype": "text/x-python",
   "name": "python",
   "nbconvert_exporter": "python",
   "pygments_lexer": "ipython3",
   "version": "3.10.14"
  }
 },
 "nbformat": 4,
 "nbformat_minor": 5
}
