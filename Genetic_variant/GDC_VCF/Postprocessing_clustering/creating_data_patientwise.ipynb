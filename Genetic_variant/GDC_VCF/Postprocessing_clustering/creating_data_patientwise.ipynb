{
 "cells": [
  {
   "cell_type": "code",
   "execution_count": 22,
   "id": "fb042377-08ba-43fe-b4bb-4ee84852c0e5",
   "metadata": {},
   "outputs": [],
   "source": [
    "import os\n",
    "import pandas as pd\n",
    "import numpy as np"
   ]
  },
  {
   "cell_type": "code",
   "execution_count": 40,
   "id": "43f30097-3b6a-4034-825d-1a45321b8839",
   "metadata": {},
   "outputs": [],
   "source": [
    "cancer_type = \"Lung\""
   ]
  },
  {
   "cell_type": "code",
   "execution_count": 41,
   "id": "53000d48-f1b5-43a0-8fe5-4c9f3b6aa5d9",
   "metadata": {},
   "outputs": [],
   "source": [
    "base_path= '/home/pdutta/Data/Cancer_wiseGDC/New_data/{}/Generated_files/Variant_Analysis'.format(cancer_type)\n",
    "# Subfolders within the base path\n",
    "subfolders = ['acceptor', 'donor', 'NonTATA', 'TATA']"
   ]
  },
  {
   "cell_type": "code",
   "execution_count": 42,
   "id": "601e535f-c56d-40c1-bb36-59bdb5c3a1b7",
   "metadata": {},
   "outputs": [],
   "source": [
    "# Dictionary to hold all dataframes\n",
    "dataframes = {}"
   ]
  },
  {
   "cell_type": "code",
   "execution_count": 43,
   "id": "6b77ae34-2ce3-430c-85be-8c4a49b62907",
   "metadata": {},
   "outputs": [],
   "source": [
    "# Function to extract core patient ID\n",
    "def extract_patient_id(pid):\n",
    "    return pid.split('_')[0]"
   ]
  },
  {
   "cell_type": "code",
   "execution_count": 44,
   "id": "1377d0c7-dc8c-4596-816f-b5ef5763cdeb",
   "metadata": {},
   "outputs": [],
   "source": [
    "# Custom aggregation function\n",
    "def custom_agg(x):\n",
    "    if pd.api.types.is_numeric_dtype(x):\n",
    "        return np.nanmean(x)  # Handles NaN by ignoring them in mean calculation\n",
    "    else:\n",
    "        return x.iloc[0]  # For non-numeric columns, just return the first value"
   ]
  },
  {
   "cell_type": "code",
   "execution_count": 45,
   "id": "3f5ceb57-b8b9-4f69-859c-b560aa151d99",
   "metadata": {},
   "outputs": [
    {
     "name": "stdout",
     "output_type": "stream",
     "text": [
      "/home/pdutta/Data/Cancer_wiseGDC/New_data/Lung/Generated_files/Variant_Analysis/acceptor/df_log_odd_score.tsv\n",
      "/home/pdutta/Data/Cancer_wiseGDC/New_data/Lung/Generated_files/Variant_Analysis/acceptor/df_log_odd_score_patientwise.tsv\n"
     ]
    },
    {
     "name": "stderr",
     "output_type": "stream",
     "text": [
      "/tmp/ipykernel_335901/1678440417.py:4: RuntimeWarning: Mean of empty slice\n",
      "  return np.nanmean(x)  # Handles NaN by ignoring them in mean calculation\n",
      "/tmp/ipykernel_335901/1947147200.py:16: PerformanceWarning: DataFrame is highly fragmented.  This is usually the result of calling `frame.insert` many times, which has poor performance.  Consider joining all columns at once using pd.concat(axis=1) instead. To get a de-fragmented frame, use `newframe = frame.copy()`\n",
      "  df_grouped.reset_index(inplace=True)\n"
     ]
    },
    {
     "name": "stdout",
     "output_type": "stream",
     "text": [
      "/home/pdutta/Data/Cancer_wiseGDC/New_data/Lung/Generated_files/Variant_Analysis/acceptor/df_score_change.tsv\n",
      "/home/pdutta/Data/Cancer_wiseGDC/New_data/Lung/Generated_files/Variant_Analysis/acceptor/df_score_change_patientwise.tsv\n"
     ]
    },
    {
     "name": "stderr",
     "output_type": "stream",
     "text": [
      "/tmp/ipykernel_335901/1678440417.py:4: RuntimeWarning: Mean of empty slice\n",
      "  return np.nanmean(x)  # Handles NaN by ignoring them in mean calculation\n",
      "/tmp/ipykernel_335901/1947147200.py:16: PerformanceWarning: DataFrame is highly fragmented.  This is usually the result of calling `frame.insert` many times, which has poor performance.  Consider joining all columns at once using pd.concat(axis=1) instead. To get a de-fragmented frame, use `newframe = frame.copy()`\n",
      "  df_grouped.reset_index(inplace=True)\n"
     ]
    },
    {
     "name": "stdout",
     "output_type": "stream",
     "text": [
      "/home/pdutta/Data/Cancer_wiseGDC/New_data/Lung/Generated_files/Variant_Analysis/donor/df_log_odd_score.tsv\n",
      "/home/pdutta/Data/Cancer_wiseGDC/New_data/Lung/Generated_files/Variant_Analysis/donor/df_log_odd_score_patientwise.tsv\n"
     ]
    },
    {
     "name": "stderr",
     "output_type": "stream",
     "text": [
      "/tmp/ipykernel_335901/1678440417.py:4: RuntimeWarning: Mean of empty slice\n",
      "  return np.nanmean(x)  # Handles NaN by ignoring them in mean calculation\n",
      "/tmp/ipykernel_335901/1947147200.py:16: PerformanceWarning: DataFrame is highly fragmented.  This is usually the result of calling `frame.insert` many times, which has poor performance.  Consider joining all columns at once using pd.concat(axis=1) instead. To get a de-fragmented frame, use `newframe = frame.copy()`\n",
      "  df_grouped.reset_index(inplace=True)\n"
     ]
    },
    {
     "name": "stdout",
     "output_type": "stream",
     "text": [
      "/home/pdutta/Data/Cancer_wiseGDC/New_data/Lung/Generated_files/Variant_Analysis/donor/df_score_change.tsv\n",
      "/home/pdutta/Data/Cancer_wiseGDC/New_data/Lung/Generated_files/Variant_Analysis/donor/df_score_change_patientwise.tsv\n"
     ]
    },
    {
     "name": "stderr",
     "output_type": "stream",
     "text": [
      "/tmp/ipykernel_335901/1678440417.py:4: RuntimeWarning: Mean of empty slice\n",
      "  return np.nanmean(x)  # Handles NaN by ignoring them in mean calculation\n",
      "/tmp/ipykernel_335901/1947147200.py:16: PerformanceWarning: DataFrame is highly fragmented.  This is usually the result of calling `frame.insert` many times, which has poor performance.  Consider joining all columns at once using pd.concat(axis=1) instead. To get a de-fragmented frame, use `newframe = frame.copy()`\n",
      "  df_grouped.reset_index(inplace=True)\n"
     ]
    },
    {
     "name": "stdout",
     "output_type": "stream",
     "text": [
      "/home/pdutta/Data/Cancer_wiseGDC/New_data/Lung/Generated_files/Variant_Analysis/NonTATA/df_log_odd_score.tsv\n",
      "/home/pdutta/Data/Cancer_wiseGDC/New_data/Lung/Generated_files/Variant_Analysis/NonTATA/df_log_odd_score_patientwise.tsv\n"
     ]
    },
    {
     "name": "stderr",
     "output_type": "stream",
     "text": [
      "/tmp/ipykernel_335901/1678440417.py:4: RuntimeWarning: Mean of empty slice\n",
      "  return np.nanmean(x)  # Handles NaN by ignoring them in mean calculation\n",
      "/tmp/ipykernel_335901/1947147200.py:16: PerformanceWarning: DataFrame is highly fragmented.  This is usually the result of calling `frame.insert` many times, which has poor performance.  Consider joining all columns at once using pd.concat(axis=1) instead. To get a de-fragmented frame, use `newframe = frame.copy()`\n",
      "  df_grouped.reset_index(inplace=True)\n"
     ]
    },
    {
     "name": "stdout",
     "output_type": "stream",
     "text": [
      "/home/pdutta/Data/Cancer_wiseGDC/New_data/Lung/Generated_files/Variant_Analysis/NonTATA/df_score_change.tsv\n",
      "/home/pdutta/Data/Cancer_wiseGDC/New_data/Lung/Generated_files/Variant_Analysis/NonTATA/df_score_change_patientwise.tsv\n"
     ]
    },
    {
     "name": "stderr",
     "output_type": "stream",
     "text": [
      "/tmp/ipykernel_335901/1678440417.py:4: RuntimeWarning: Mean of empty slice\n",
      "  return np.nanmean(x)  # Handles NaN by ignoring them in mean calculation\n",
      "/tmp/ipykernel_335901/1947147200.py:16: PerformanceWarning: DataFrame is highly fragmented.  This is usually the result of calling `frame.insert` many times, which has poor performance.  Consider joining all columns at once using pd.concat(axis=1) instead. To get a de-fragmented frame, use `newframe = frame.copy()`\n",
      "  df_grouped.reset_index(inplace=True)\n"
     ]
    },
    {
     "name": "stdout",
     "output_type": "stream",
     "text": [
      "/home/pdutta/Data/Cancer_wiseGDC/New_data/Lung/Generated_files/Variant_Analysis/TATA/df_log_odd_score.tsv\n",
      "/home/pdutta/Data/Cancer_wiseGDC/New_data/Lung/Generated_files/Variant_Analysis/TATA/df_log_odd_score_patientwise.tsv\n"
     ]
    },
    {
     "name": "stderr",
     "output_type": "stream",
     "text": [
      "/tmp/ipykernel_335901/1678440417.py:4: RuntimeWarning: Mean of empty slice\n",
      "  return np.nanmean(x)  # Handles NaN by ignoring them in mean calculation\n",
      "/tmp/ipykernel_335901/1947147200.py:16: PerformanceWarning: DataFrame is highly fragmented.  This is usually the result of calling `frame.insert` many times, which has poor performance.  Consider joining all columns at once using pd.concat(axis=1) instead. To get a de-fragmented frame, use `newframe = frame.copy()`\n",
      "  df_grouped.reset_index(inplace=True)\n",
      "/tmp/ipykernel_335901/1678440417.py:4: RuntimeWarning: Mean of empty slice\n",
      "  return np.nanmean(x)  # Handles NaN by ignoring them in mean calculation\n"
     ]
    },
    {
     "name": "stdout",
     "output_type": "stream",
     "text": [
      "/home/pdutta/Data/Cancer_wiseGDC/New_data/Lung/Generated_files/Variant_Analysis/TATA/df_score_change.tsv\n",
      "/home/pdutta/Data/Cancer_wiseGDC/New_data/Lung/Generated_files/Variant_Analysis/TATA/df_score_change_patientwise.tsv\n"
     ]
    },
    {
     "name": "stderr",
     "output_type": "stream",
     "text": [
      "/tmp/ipykernel_335901/1947147200.py:16: PerformanceWarning: DataFrame is highly fragmented.  This is usually the result of calling `frame.insert` many times, which has poor performance.  Consider joining all columns at once using pd.concat(axis=1) instead. To get a de-fragmented frame, use `newframe = frame.copy()`\n",
      "  df_grouped.reset_index(inplace=True)\n"
     ]
    }
   ],
   "source": [
    "# Load your dataframes here and apply the following transformation\n",
    "for folder in subfolders:\n",
    "    current_path = os.path.join(base_path, folder)\n",
    "    file_names = ['df_log_odd_score.tsv', 'df_score_change.tsv']\n",
    "    for file_name in file_names:\n",
    "        file_path = os.path.join(current_path, file_name)\n",
    "        if os.path.exists(file_path):\n",
    "            df = pd.read_csv(file_path, sep='\\t')\n",
    "            print(file_path)\n",
    "            output_file_path = file_path.replace('.tsv', '_patientwise.tsv')\n",
    "            print(output_file_path)\n",
    "            df['Patient_Core_ID'] = df['Patient_ID'].apply(extract_patient_id)\n",
    "            # Drop the original 'Patient_ID' column\n",
    "            df.drop('Patient_ID', axis=1, inplace=True)\n",
    "            df_grouped = df.groupby('Patient_Core_ID').agg(custom_agg)\n",
    "            df_grouped.reset_index(inplace=True)\n",
    "            df_grouped.to_csv(output_file_path, sep=\"\\t\", index=False)\n",
    "            #print(df_grouped)\n",
    "            dataframes[f\"{folder}_{file_name.replace('.tsv', '')}\"] = df_grouped\n",
    "        else:\n",
    "            print(f\"File not found: {file_path}\")"
   ]
  },
  {
   "cell_type": "code",
   "execution_count": 19,
   "id": "c1f2e5d3-a46f-430b-9629-8230597d7a7c",
   "metadata": {},
   "outputs": [
    {
     "data": {
      "text/plain": [
       "0      a5867fd1-4897-4559-855a-c30002d3c6bb_sanger_ra...\n",
       "1      0f158d5f-16c7-4fb7-b48c-0ff392f1706b_sanger_ra...\n",
       "2           3adc47fa-b27a-4df1-98ab-201ebab3c6bf_CaVEMan\n",
       "3      af56a9e4-b896-4d47-b9c0-930eb68862bd_sanger_ra...\n",
       "4           67c83385-8497-4c2d-932e-9a3b9bb90ec9_CaVEMan\n",
       "                             ...                        \n",
       "427         b0218338-6d83-491f-b51d-844d209f54b3_CaVEMan\n",
       "428         96a823e7-9a5c-4a58-a424-a051cf4f4b29_CaVEMan\n",
       "429    8db95363-6eb3-4a90-affd-0c948a05c27c_sanger_ra...\n",
       "430    cf565879-9f53-4fd1-b0da-065869293342_sanger_ra...\n",
       "431         9a2beddf-39e1-4ed9-8654-2ebad59e71d3_CaVEMan\n",
       "Name: Patient_ID, Length: 432, dtype: object"
      ]
     },
     "execution_count": 19,
     "metadata": {},
     "output_type": "execute_result"
    }
   ],
   "source": [
    "dataframes['donor_df_log_odd_score'][\"Patient_ID\"]"
   ]
  },
  {
   "cell_type": "code",
   "execution_count": null,
   "id": "dd1f1487-1b7c-4d3b-a23f-af7484d98144",
   "metadata": {},
   "outputs": [],
   "source": []
  }
 ],
 "metadata": {
  "kernelspec": {
   "display_name": "Python 3 (ipykernel)",
   "language": "python",
   "name": "python3"
  },
  "language_info": {
   "codemirror_mode": {
    "name": "ipython",
    "version": 3
   },
   "file_extension": ".py",
   "mimetype": "text/x-python",
   "name": "python",
   "nbconvert_exporter": "python",
   "pygments_lexer": "ipython3",
   "version": "3.10.11"
  }
 },
 "nbformat": 4,
 "nbformat_minor": 5
}
