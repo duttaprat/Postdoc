{
 "cells": [
  {
   "cell_type": "code",
   "execution_count": 1,
   "id": "fb042377-08ba-43fe-b4bb-4ee84852c0e5",
   "metadata": {},
   "outputs": [],
   "source": [
    "import os\n",
    "import pandas as pd\n",
    "import numpy as np\n",
    "import plotly.express as px\n",
    "import plotly.graph_objects as go\n",
    "from plotly.subplots import make_subplots\n",
    "from sklearn.metrics import silhouette_score, silhouette_samples\n",
    "#import matplotlib.ticker as ticker\n",
    "from sklearn.impute import SimpleImputer\n",
    "from sklearn.decomposition import PCA\n",
    "from sklearn.preprocessing import StandardScaler\n",
    "#import matplotlib.pyplot as plt\n",
    "from sklearn.cluster import KMeans\n",
    "from scipy.stats import norm\n",
    "import itertools\n",
    "import networkx as nx\n",
    "import plotly.figure_factory as ff\n",
    "from itertools import combinations\n",
    "from IPython.display import display\n",
    "from pacmap import PaCMAP\n",
    "from scipy.cluster.hierarchy import linkage, fcluster"
   ]
  },
  {
   "cell_type": "code",
   "execution_count": 16,
   "id": "369de23c-61ce-4c4a-8157-0a17831224b8",
   "metadata": {},
   "outputs": [],
   "source": [
    "pipeline= \"sanger_raw_pindel\""
   ]
  },
  {
   "cell_type": "code",
   "execution_count": 17,
   "id": "43f30097-3b6a-4034-825d-1a45321b8839",
   "metadata": {},
   "outputs": [],
   "source": [
    "cancer_type = \"Brain\"\n",
    "non_coding_region = 'acceptor'\n",
    "file_name = \"df_log_odd_score_{}.tsv\".format(pipeline)"
   ]
  },
  {
   "cell_type": "code",
   "execution_count": 18,
   "id": "53000d48-f1b5-43a0-8fe5-4c9f3b6aa5d9",
   "metadata": {},
   "outputs": [],
   "source": [
    "file_path= '/home/pdutta/Data/Cancer_wiseGDC/New_data/{}/Generated_files/Variant_Analysis/{}/{}'.format(cancer_type, non_coding_region, file_name)\n",
    "output_path = \"/home/pdutta/Data/Cancer_wiseGDC/New_data/Brain/Generated_files/Kmeans_cluster/acceptor/Categorise_{}/\".format(pipeline)\n",
    "# Subfolders within the base path"
   ]
  },
  {
   "cell_type": "code",
   "execution_count": 19,
   "id": "601e535f-c56d-40c1-bb36-59bdb5c3a1b7",
   "metadata": {},
   "outputs": [
    {
     "data": {
      "text/html": [
       "<div>\n",
       "<style scoped>\n",
       "    .dataframe tbody tr th:only-of-type {\n",
       "        vertical-align: middle;\n",
       "    }\n",
       "\n",
       "    .dataframe tbody tr th {\n",
       "        vertical-align: top;\n",
       "    }\n",
       "\n",
       "    .dataframe thead th {\n",
       "        text-align: right;\n",
       "    }\n",
       "</style>\n",
       "<table border=\"1\" class=\"dataframe\">\n",
       "  <thead>\n",
       "    <tr style=\"text-align: right;\">\n",
       "      <th></th>\n",
       "      <th>chr1_11988386_11988465_11988402_11988403_G_GTT</th>\n",
       "      <th>chr1_16041210_16041289_16041214_16041215_G_GCATGAGC</th>\n",
       "      <th>chr1_17334283_17334362_17334306_17334307_A_AT</th>\n",
       "      <th>chr1_17334283_17334362_17334306_17334307_A_ATT</th>\n",
       "      <th>chr1_47225850_47225929_47225895_47225900_GCAGA_G</th>\n",
       "      <th>chr1_54204977_54205056_54204984_54204988_CCTT_C</th>\n",
       "      <th>chr1_54227121_54227200_54227180_54227181_A_AGG</th>\n",
       "      <th>chr1_54977823_54977902_54977864_54977865_G_GAAA</th>\n",
       "      <th>chr1_59021086_59021165_59021103_59021104_A_AT</th>\n",
       "      <th>chr1_66612016_66612095_66612025_66612029_GAGA_G</th>\n",
       "      <th>...</th>\n",
       "      <th>chr8_126848479_126848558_126848485_126848488_CAA_C</th>\n",
       "      <th>chr9_15888942_15889021_15888948_15888952_CTTT_C</th>\n",
       "      <th>chr9_77205272_77205351_77205285_77205287_CT_C</th>\n",
       "      <th>chr9_83855015_83855094_83855038_83855041_CTT_C</th>\n",
       "      <th>chrX_118447019_118447098_118447031_118447034_ATT_A</th>\n",
       "      <th>chr15_50930764_50930843_50930781_50930782_G_GT</th>\n",
       "      <th>chr6_42619427_42619506_42619448_42619457_ATATATTTT_A</th>\n",
       "      <th>chr16_35244229_35244308_35244269_35244270_G_C</th>\n",
       "      <th>chr22_24627811_24627890_24627822_24627823_G_A</th>\n",
       "      <th>chr6_32522135_32522214_32522156_32522157_C_A</th>\n",
       "    </tr>\n",
       "    <tr>\n",
       "      <th>Patient_ID</th>\n",
       "      <th></th>\n",
       "      <th></th>\n",
       "      <th></th>\n",
       "      <th></th>\n",
       "      <th></th>\n",
       "      <th></th>\n",
       "      <th></th>\n",
       "      <th></th>\n",
       "      <th></th>\n",
       "      <th></th>\n",
       "      <th></th>\n",
       "      <th></th>\n",
       "      <th></th>\n",
       "      <th></th>\n",
       "      <th></th>\n",
       "      <th></th>\n",
       "      <th></th>\n",
       "      <th></th>\n",
       "      <th></th>\n",
       "      <th></th>\n",
       "      <th></th>\n",
       "    </tr>\n",
       "  </thead>\n",
       "  <tbody>\n",
       "    <tr>\n",
       "      <th>a5867fd1-4897-4559-855a-c30002d3c6bb_sanger_raw_pindel</th>\n",
       "      <td>0.415223</td>\n",
       "      <td>-0.926558</td>\n",
       "      <td>0.868682</td>\n",
       "      <td>0.527129</td>\n",
       "      <td>0.272972</td>\n",
       "      <td>-0.999906</td>\n",
       "      <td>0.164135</td>\n",
       "      <td>-0.278651</td>\n",
       "      <td>-0.998459</td>\n",
       "      <td>-0.997458</td>\n",
       "      <td>...</td>\n",
       "      <td>NaN</td>\n",
       "      <td>NaN</td>\n",
       "      <td>NaN</td>\n",
       "      <td>NaN</td>\n",
       "      <td>NaN</td>\n",
       "      <td>NaN</td>\n",
       "      <td>NaN</td>\n",
       "      <td>NaN</td>\n",
       "      <td>NaN</td>\n",
       "      <td>NaN</td>\n",
       "    </tr>\n",
       "    <tr>\n",
       "      <th>0f158d5f-16c7-4fb7-b48c-0ff392f1706b_sanger_raw_pindel</th>\n",
       "      <td>NaN</td>\n",
       "      <td>-0.926558</td>\n",
       "      <td>NaN</td>\n",
       "      <td>0.527129</td>\n",
       "      <td>0.272972</td>\n",
       "      <td>NaN</td>\n",
       "      <td>0.164135</td>\n",
       "      <td>-0.278651</td>\n",
       "      <td>-0.998459</td>\n",
       "      <td>-0.997458</td>\n",
       "      <td>...</td>\n",
       "      <td>NaN</td>\n",
       "      <td>NaN</td>\n",
       "      <td>NaN</td>\n",
       "      <td>NaN</td>\n",
       "      <td>NaN</td>\n",
       "      <td>NaN</td>\n",
       "      <td>NaN</td>\n",
       "      <td>NaN</td>\n",
       "      <td>NaN</td>\n",
       "      <td>NaN</td>\n",
       "    </tr>\n",
       "    <tr>\n",
       "      <th>af56a9e4-b896-4d47-b9c0-930eb68862bd_sanger_raw_pindel</th>\n",
       "      <td>NaN</td>\n",
       "      <td>-0.926558</td>\n",
       "      <td>NaN</td>\n",
       "      <td>0.527129</td>\n",
       "      <td>0.272972</td>\n",
       "      <td>NaN</td>\n",
       "      <td>0.164135</td>\n",
       "      <td>-0.278651</td>\n",
       "      <td>NaN</td>\n",
       "      <td>NaN</td>\n",
       "      <td>...</td>\n",
       "      <td>NaN</td>\n",
       "      <td>NaN</td>\n",
       "      <td>NaN</td>\n",
       "      <td>NaN</td>\n",
       "      <td>NaN</td>\n",
       "      <td>NaN</td>\n",
       "      <td>NaN</td>\n",
       "      <td>NaN</td>\n",
       "      <td>NaN</td>\n",
       "      <td>NaN</td>\n",
       "    </tr>\n",
       "    <tr>\n",
       "      <th>447a08c8-3488-45d1-9262-23c42341296f_sanger_raw_pindel</th>\n",
       "      <td>NaN</td>\n",
       "      <td>-0.926558</td>\n",
       "      <td>0.868682</td>\n",
       "      <td>0.527129</td>\n",
       "      <td>0.272972</td>\n",
       "      <td>NaN</td>\n",
       "      <td>NaN</td>\n",
       "      <td>-0.278651</td>\n",
       "      <td>-0.998459</td>\n",
       "      <td>NaN</td>\n",
       "      <td>...</td>\n",
       "      <td>NaN</td>\n",
       "      <td>NaN</td>\n",
       "      <td>NaN</td>\n",
       "      <td>NaN</td>\n",
       "      <td>NaN</td>\n",
       "      <td>NaN</td>\n",
       "      <td>NaN</td>\n",
       "      <td>NaN</td>\n",
       "      <td>NaN</td>\n",
       "      <td>NaN</td>\n",
       "    </tr>\n",
       "    <tr>\n",
       "      <th>033db366-1af1-4bd9-8339-c54800b1de57_sanger_raw_pindel</th>\n",
       "      <td>NaN</td>\n",
       "      <td>-0.926558</td>\n",
       "      <td>NaN</td>\n",
       "      <td>0.527129</td>\n",
       "      <td>NaN</td>\n",
       "      <td>NaN</td>\n",
       "      <td>NaN</td>\n",
       "      <td>-0.278651</td>\n",
       "      <td>NaN</td>\n",
       "      <td>-0.997458</td>\n",
       "      <td>...</td>\n",
       "      <td>NaN</td>\n",
       "      <td>NaN</td>\n",
       "      <td>NaN</td>\n",
       "      <td>NaN</td>\n",
       "      <td>NaN</td>\n",
       "      <td>NaN</td>\n",
       "      <td>NaN</td>\n",
       "      <td>NaN</td>\n",
       "      <td>NaN</td>\n",
       "      <td>NaN</td>\n",
       "    </tr>\n",
       "    <tr>\n",
       "      <th>...</th>\n",
       "      <td>...</td>\n",
       "      <td>...</td>\n",
       "      <td>...</td>\n",
       "      <td>...</td>\n",
       "      <td>...</td>\n",
       "      <td>...</td>\n",
       "      <td>...</td>\n",
       "      <td>...</td>\n",
       "      <td>...</td>\n",
       "      <td>...</td>\n",
       "      <td>...</td>\n",
       "      <td>...</td>\n",
       "      <td>...</td>\n",
       "      <td>...</td>\n",
       "      <td>...</td>\n",
       "      <td>...</td>\n",
       "      <td>...</td>\n",
       "      <td>...</td>\n",
       "      <td>...</td>\n",
       "      <td>...</td>\n",
       "      <td>...</td>\n",
       "    </tr>\n",
       "    <tr>\n",
       "      <th>03c1c33e-c4a8-4c31-8a29-0d8b3e7bda83_sanger_raw_pindel</th>\n",
       "      <td>0.415223</td>\n",
       "      <td>-0.926558</td>\n",
       "      <td>NaN</td>\n",
       "      <td>0.527129</td>\n",
       "      <td>NaN</td>\n",
       "      <td>NaN</td>\n",
       "      <td>0.164135</td>\n",
       "      <td>-0.278651</td>\n",
       "      <td>-0.998459</td>\n",
       "      <td>-0.997458</td>\n",
       "      <td>...</td>\n",
       "      <td>NaN</td>\n",
       "      <td>NaN</td>\n",
       "      <td>NaN</td>\n",
       "      <td>NaN</td>\n",
       "      <td>NaN</td>\n",
       "      <td>NaN</td>\n",
       "      <td>NaN</td>\n",
       "      <td>NaN</td>\n",
       "      <td>NaN</td>\n",
       "      <td>NaN</td>\n",
       "    </tr>\n",
       "    <tr>\n",
       "      <th>812d6f3d-c4f9-4e10-9039-4ebe9b3100c3_sanger_raw_pindel</th>\n",
       "      <td>NaN</td>\n",
       "      <td>-0.926558</td>\n",
       "      <td>NaN</td>\n",
       "      <td>0.527129</td>\n",
       "      <td>0.272972</td>\n",
       "      <td>NaN</td>\n",
       "      <td>0.164135</td>\n",
       "      <td>-0.278651</td>\n",
       "      <td>-0.998459</td>\n",
       "      <td>NaN</td>\n",
       "      <td>...</td>\n",
       "      <td>NaN</td>\n",
       "      <td>NaN</td>\n",
       "      <td>NaN</td>\n",
       "      <td>NaN</td>\n",
       "      <td>NaN</td>\n",
       "      <td>NaN</td>\n",
       "      <td>NaN</td>\n",
       "      <td>NaN</td>\n",
       "      <td>NaN</td>\n",
       "      <td>NaN</td>\n",
       "    </tr>\n",
       "    <tr>\n",
       "      <th>ca52ea0e-5021-463b-8821-5e7c765812ff_sanger_raw_pindel</th>\n",
       "      <td>NaN</td>\n",
       "      <td>-0.926558</td>\n",
       "      <td>NaN</td>\n",
       "      <td>0.527129</td>\n",
       "      <td>NaN</td>\n",
       "      <td>NaN</td>\n",
       "      <td>0.164135</td>\n",
       "      <td>NaN</td>\n",
       "      <td>-0.998459</td>\n",
       "      <td>-0.997458</td>\n",
       "      <td>...</td>\n",
       "      <td>NaN</td>\n",
       "      <td>NaN</td>\n",
       "      <td>NaN</td>\n",
       "      <td>NaN</td>\n",
       "      <td>NaN</td>\n",
       "      <td>NaN</td>\n",
       "      <td>NaN</td>\n",
       "      <td>NaN</td>\n",
       "      <td>NaN</td>\n",
       "      <td>NaN</td>\n",
       "    </tr>\n",
       "    <tr>\n",
       "      <th>8db95363-6eb3-4a90-affd-0c948a05c27c_sanger_raw_pindel</th>\n",
       "      <td>NaN</td>\n",
       "      <td>-0.926558</td>\n",
       "      <td>NaN</td>\n",
       "      <td>0.527129</td>\n",
       "      <td>0.272972</td>\n",
       "      <td>NaN</td>\n",
       "      <td>NaN</td>\n",
       "      <td>-0.278651</td>\n",
       "      <td>NaN</td>\n",
       "      <td>NaN</td>\n",
       "      <td>...</td>\n",
       "      <td>-0.99901</td>\n",
       "      <td>-0.999658</td>\n",
       "      <td>-0.999228</td>\n",
       "      <td>-0.987106</td>\n",
       "      <td>-0.661694</td>\n",
       "      <td>NaN</td>\n",
       "      <td>NaN</td>\n",
       "      <td>NaN</td>\n",
       "      <td>NaN</td>\n",
       "      <td>NaN</td>\n",
       "    </tr>\n",
       "    <tr>\n",
       "      <th>cf565879-9f53-4fd1-b0da-065869293342_sanger_raw_pindel</th>\n",
       "      <td>NaN</td>\n",
       "      <td>-0.926558</td>\n",
       "      <td>NaN</td>\n",
       "      <td>NaN</td>\n",
       "      <td>NaN</td>\n",
       "      <td>NaN</td>\n",
       "      <td>NaN</td>\n",
       "      <td>NaN</td>\n",
       "      <td>-0.998459</td>\n",
       "      <td>-0.997458</td>\n",
       "      <td>...</td>\n",
       "      <td>NaN</td>\n",
       "      <td>NaN</td>\n",
       "      <td>NaN</td>\n",
       "      <td>NaN</td>\n",
       "      <td>NaN</td>\n",
       "      <td>-0.836386</td>\n",
       "      <td>-0.982419</td>\n",
       "      <td>NaN</td>\n",
       "      <td>NaN</td>\n",
       "      <td>NaN</td>\n",
       "    </tr>\n",
       "  </tbody>\n",
       "</table>\n",
       "<p>216 rows × 3371 columns</p>\n",
       "</div>"
      ],
      "text/plain": [
       "                                                    chr1_11988386_11988465_11988402_11988403_G_GTT  \\\n",
       "Patient_ID                                                                                           \n",
       "a5867fd1-4897-4559-855a-c30002d3c6bb_sanger_raw...                                        0.415223   \n",
       "0f158d5f-16c7-4fb7-b48c-0ff392f1706b_sanger_raw...                                             NaN   \n",
       "af56a9e4-b896-4d47-b9c0-930eb68862bd_sanger_raw...                                             NaN   \n",
       "447a08c8-3488-45d1-9262-23c42341296f_sanger_raw...                                             NaN   \n",
       "033db366-1af1-4bd9-8339-c54800b1de57_sanger_raw...                                             NaN   \n",
       "...                                                                                            ...   \n",
       "03c1c33e-c4a8-4c31-8a29-0d8b3e7bda83_sanger_raw...                                        0.415223   \n",
       "812d6f3d-c4f9-4e10-9039-4ebe9b3100c3_sanger_raw...                                             NaN   \n",
       "ca52ea0e-5021-463b-8821-5e7c765812ff_sanger_raw...                                             NaN   \n",
       "8db95363-6eb3-4a90-affd-0c948a05c27c_sanger_raw...                                             NaN   \n",
       "cf565879-9f53-4fd1-b0da-065869293342_sanger_raw...                                             NaN   \n",
       "\n",
       "                                                    chr1_16041210_16041289_16041214_16041215_G_GCATGAGC  \\\n",
       "Patient_ID                                                                                                \n",
       "a5867fd1-4897-4559-855a-c30002d3c6bb_sanger_raw...                                          -0.926558     \n",
       "0f158d5f-16c7-4fb7-b48c-0ff392f1706b_sanger_raw...                                          -0.926558     \n",
       "af56a9e4-b896-4d47-b9c0-930eb68862bd_sanger_raw...                                          -0.926558     \n",
       "447a08c8-3488-45d1-9262-23c42341296f_sanger_raw...                                          -0.926558     \n",
       "033db366-1af1-4bd9-8339-c54800b1de57_sanger_raw...                                          -0.926558     \n",
       "...                                                                                               ...     \n",
       "03c1c33e-c4a8-4c31-8a29-0d8b3e7bda83_sanger_raw...                                          -0.926558     \n",
       "812d6f3d-c4f9-4e10-9039-4ebe9b3100c3_sanger_raw...                                          -0.926558     \n",
       "ca52ea0e-5021-463b-8821-5e7c765812ff_sanger_raw...                                          -0.926558     \n",
       "8db95363-6eb3-4a90-affd-0c948a05c27c_sanger_raw...                                          -0.926558     \n",
       "cf565879-9f53-4fd1-b0da-065869293342_sanger_raw...                                          -0.926558     \n",
       "\n",
       "                                                    chr1_17334283_17334362_17334306_17334307_A_AT  \\\n",
       "Patient_ID                                                                                          \n",
       "a5867fd1-4897-4559-855a-c30002d3c6bb_sanger_raw...                                       0.868682   \n",
       "0f158d5f-16c7-4fb7-b48c-0ff392f1706b_sanger_raw...                                            NaN   \n",
       "af56a9e4-b896-4d47-b9c0-930eb68862bd_sanger_raw...                                            NaN   \n",
       "447a08c8-3488-45d1-9262-23c42341296f_sanger_raw...                                       0.868682   \n",
       "033db366-1af1-4bd9-8339-c54800b1de57_sanger_raw...                                            NaN   \n",
       "...                                                                                           ...   \n",
       "03c1c33e-c4a8-4c31-8a29-0d8b3e7bda83_sanger_raw...                                            NaN   \n",
       "812d6f3d-c4f9-4e10-9039-4ebe9b3100c3_sanger_raw...                                            NaN   \n",
       "ca52ea0e-5021-463b-8821-5e7c765812ff_sanger_raw...                                            NaN   \n",
       "8db95363-6eb3-4a90-affd-0c948a05c27c_sanger_raw...                                            NaN   \n",
       "cf565879-9f53-4fd1-b0da-065869293342_sanger_raw...                                            NaN   \n",
       "\n",
       "                                                    chr1_17334283_17334362_17334306_17334307_A_ATT  \\\n",
       "Patient_ID                                                                                           \n",
       "a5867fd1-4897-4559-855a-c30002d3c6bb_sanger_raw...                                        0.527129   \n",
       "0f158d5f-16c7-4fb7-b48c-0ff392f1706b_sanger_raw...                                        0.527129   \n",
       "af56a9e4-b896-4d47-b9c0-930eb68862bd_sanger_raw...                                        0.527129   \n",
       "447a08c8-3488-45d1-9262-23c42341296f_sanger_raw...                                        0.527129   \n",
       "033db366-1af1-4bd9-8339-c54800b1de57_sanger_raw...                                        0.527129   \n",
       "...                                                                                            ...   \n",
       "03c1c33e-c4a8-4c31-8a29-0d8b3e7bda83_sanger_raw...                                        0.527129   \n",
       "812d6f3d-c4f9-4e10-9039-4ebe9b3100c3_sanger_raw...                                        0.527129   \n",
       "ca52ea0e-5021-463b-8821-5e7c765812ff_sanger_raw...                                        0.527129   \n",
       "8db95363-6eb3-4a90-affd-0c948a05c27c_sanger_raw...                                        0.527129   \n",
       "cf565879-9f53-4fd1-b0da-065869293342_sanger_raw...                                             NaN   \n",
       "\n",
       "                                                    chr1_47225850_47225929_47225895_47225900_GCAGA_G  \\\n",
       "Patient_ID                                                                                             \n",
       "a5867fd1-4897-4559-855a-c30002d3c6bb_sanger_raw...                                          0.272972   \n",
       "0f158d5f-16c7-4fb7-b48c-0ff392f1706b_sanger_raw...                                          0.272972   \n",
       "af56a9e4-b896-4d47-b9c0-930eb68862bd_sanger_raw...                                          0.272972   \n",
       "447a08c8-3488-45d1-9262-23c42341296f_sanger_raw...                                          0.272972   \n",
       "033db366-1af1-4bd9-8339-c54800b1de57_sanger_raw...                                               NaN   \n",
       "...                                                                                              ...   \n",
       "03c1c33e-c4a8-4c31-8a29-0d8b3e7bda83_sanger_raw...                                               NaN   \n",
       "812d6f3d-c4f9-4e10-9039-4ebe9b3100c3_sanger_raw...                                          0.272972   \n",
       "ca52ea0e-5021-463b-8821-5e7c765812ff_sanger_raw...                                               NaN   \n",
       "8db95363-6eb3-4a90-affd-0c948a05c27c_sanger_raw...                                          0.272972   \n",
       "cf565879-9f53-4fd1-b0da-065869293342_sanger_raw...                                               NaN   \n",
       "\n",
       "                                                    chr1_54204977_54205056_54204984_54204988_CCTT_C  \\\n",
       "Patient_ID                                                                                            \n",
       "a5867fd1-4897-4559-855a-c30002d3c6bb_sanger_raw...                                        -0.999906   \n",
       "0f158d5f-16c7-4fb7-b48c-0ff392f1706b_sanger_raw...                                              NaN   \n",
       "af56a9e4-b896-4d47-b9c0-930eb68862bd_sanger_raw...                                              NaN   \n",
       "447a08c8-3488-45d1-9262-23c42341296f_sanger_raw...                                              NaN   \n",
       "033db366-1af1-4bd9-8339-c54800b1de57_sanger_raw...                                              NaN   \n",
       "...                                                                                             ...   \n",
       "03c1c33e-c4a8-4c31-8a29-0d8b3e7bda83_sanger_raw...                                              NaN   \n",
       "812d6f3d-c4f9-4e10-9039-4ebe9b3100c3_sanger_raw...                                              NaN   \n",
       "ca52ea0e-5021-463b-8821-5e7c765812ff_sanger_raw...                                              NaN   \n",
       "8db95363-6eb3-4a90-affd-0c948a05c27c_sanger_raw...                                              NaN   \n",
       "cf565879-9f53-4fd1-b0da-065869293342_sanger_raw...                                              NaN   \n",
       "\n",
       "                                                    chr1_54227121_54227200_54227180_54227181_A_AGG  \\\n",
       "Patient_ID                                                                                           \n",
       "a5867fd1-4897-4559-855a-c30002d3c6bb_sanger_raw...                                        0.164135   \n",
       "0f158d5f-16c7-4fb7-b48c-0ff392f1706b_sanger_raw...                                        0.164135   \n",
       "af56a9e4-b896-4d47-b9c0-930eb68862bd_sanger_raw...                                        0.164135   \n",
       "447a08c8-3488-45d1-9262-23c42341296f_sanger_raw...                                             NaN   \n",
       "033db366-1af1-4bd9-8339-c54800b1de57_sanger_raw...                                             NaN   \n",
       "...                                                                                            ...   \n",
       "03c1c33e-c4a8-4c31-8a29-0d8b3e7bda83_sanger_raw...                                        0.164135   \n",
       "812d6f3d-c4f9-4e10-9039-4ebe9b3100c3_sanger_raw...                                        0.164135   \n",
       "ca52ea0e-5021-463b-8821-5e7c765812ff_sanger_raw...                                        0.164135   \n",
       "8db95363-6eb3-4a90-affd-0c948a05c27c_sanger_raw...                                             NaN   \n",
       "cf565879-9f53-4fd1-b0da-065869293342_sanger_raw...                                             NaN   \n",
       "\n",
       "                                                    chr1_54977823_54977902_54977864_54977865_G_GAAA  \\\n",
       "Patient_ID                                                                                            \n",
       "a5867fd1-4897-4559-855a-c30002d3c6bb_sanger_raw...                                        -0.278651   \n",
       "0f158d5f-16c7-4fb7-b48c-0ff392f1706b_sanger_raw...                                        -0.278651   \n",
       "af56a9e4-b896-4d47-b9c0-930eb68862bd_sanger_raw...                                        -0.278651   \n",
       "447a08c8-3488-45d1-9262-23c42341296f_sanger_raw...                                        -0.278651   \n",
       "033db366-1af1-4bd9-8339-c54800b1de57_sanger_raw...                                        -0.278651   \n",
       "...                                                                                             ...   \n",
       "03c1c33e-c4a8-4c31-8a29-0d8b3e7bda83_sanger_raw...                                        -0.278651   \n",
       "812d6f3d-c4f9-4e10-9039-4ebe9b3100c3_sanger_raw...                                        -0.278651   \n",
       "ca52ea0e-5021-463b-8821-5e7c765812ff_sanger_raw...                                              NaN   \n",
       "8db95363-6eb3-4a90-affd-0c948a05c27c_sanger_raw...                                        -0.278651   \n",
       "cf565879-9f53-4fd1-b0da-065869293342_sanger_raw...                                              NaN   \n",
       "\n",
       "                                                    chr1_59021086_59021165_59021103_59021104_A_AT  \\\n",
       "Patient_ID                                                                                          \n",
       "a5867fd1-4897-4559-855a-c30002d3c6bb_sanger_raw...                                      -0.998459   \n",
       "0f158d5f-16c7-4fb7-b48c-0ff392f1706b_sanger_raw...                                      -0.998459   \n",
       "af56a9e4-b896-4d47-b9c0-930eb68862bd_sanger_raw...                                            NaN   \n",
       "447a08c8-3488-45d1-9262-23c42341296f_sanger_raw...                                      -0.998459   \n",
       "033db366-1af1-4bd9-8339-c54800b1de57_sanger_raw...                                            NaN   \n",
       "...                                                                                           ...   \n",
       "03c1c33e-c4a8-4c31-8a29-0d8b3e7bda83_sanger_raw...                                      -0.998459   \n",
       "812d6f3d-c4f9-4e10-9039-4ebe9b3100c3_sanger_raw...                                      -0.998459   \n",
       "ca52ea0e-5021-463b-8821-5e7c765812ff_sanger_raw...                                      -0.998459   \n",
       "8db95363-6eb3-4a90-affd-0c948a05c27c_sanger_raw...                                            NaN   \n",
       "cf565879-9f53-4fd1-b0da-065869293342_sanger_raw...                                      -0.998459   \n",
       "\n",
       "                                                    chr1_66612016_66612095_66612025_66612029_GAGA_G  \\\n",
       "Patient_ID                                                                                            \n",
       "a5867fd1-4897-4559-855a-c30002d3c6bb_sanger_raw...                                        -0.997458   \n",
       "0f158d5f-16c7-4fb7-b48c-0ff392f1706b_sanger_raw...                                        -0.997458   \n",
       "af56a9e4-b896-4d47-b9c0-930eb68862bd_sanger_raw...                                              NaN   \n",
       "447a08c8-3488-45d1-9262-23c42341296f_sanger_raw...                                              NaN   \n",
       "033db366-1af1-4bd9-8339-c54800b1de57_sanger_raw...                                        -0.997458   \n",
       "...                                                                                             ...   \n",
       "03c1c33e-c4a8-4c31-8a29-0d8b3e7bda83_sanger_raw...                                        -0.997458   \n",
       "812d6f3d-c4f9-4e10-9039-4ebe9b3100c3_sanger_raw...                                              NaN   \n",
       "ca52ea0e-5021-463b-8821-5e7c765812ff_sanger_raw...                                        -0.997458   \n",
       "8db95363-6eb3-4a90-affd-0c948a05c27c_sanger_raw...                                              NaN   \n",
       "cf565879-9f53-4fd1-b0da-065869293342_sanger_raw...                                        -0.997458   \n",
       "\n",
       "                                                    ...  \\\n",
       "Patient_ID                                          ...   \n",
       "a5867fd1-4897-4559-855a-c30002d3c6bb_sanger_raw...  ...   \n",
       "0f158d5f-16c7-4fb7-b48c-0ff392f1706b_sanger_raw...  ...   \n",
       "af56a9e4-b896-4d47-b9c0-930eb68862bd_sanger_raw...  ...   \n",
       "447a08c8-3488-45d1-9262-23c42341296f_sanger_raw...  ...   \n",
       "033db366-1af1-4bd9-8339-c54800b1de57_sanger_raw...  ...   \n",
       "...                                                 ...   \n",
       "03c1c33e-c4a8-4c31-8a29-0d8b3e7bda83_sanger_raw...  ...   \n",
       "812d6f3d-c4f9-4e10-9039-4ebe9b3100c3_sanger_raw...  ...   \n",
       "ca52ea0e-5021-463b-8821-5e7c765812ff_sanger_raw...  ...   \n",
       "8db95363-6eb3-4a90-affd-0c948a05c27c_sanger_raw...  ...   \n",
       "cf565879-9f53-4fd1-b0da-065869293342_sanger_raw...  ...   \n",
       "\n",
       "                                                    chr8_126848479_126848558_126848485_126848488_CAA_C  \\\n",
       "Patient_ID                                                                                               \n",
       "a5867fd1-4897-4559-855a-c30002d3c6bb_sanger_raw...                                                NaN    \n",
       "0f158d5f-16c7-4fb7-b48c-0ff392f1706b_sanger_raw...                                                NaN    \n",
       "af56a9e4-b896-4d47-b9c0-930eb68862bd_sanger_raw...                                                NaN    \n",
       "447a08c8-3488-45d1-9262-23c42341296f_sanger_raw...                                                NaN    \n",
       "033db366-1af1-4bd9-8339-c54800b1de57_sanger_raw...                                                NaN    \n",
       "...                                                                                               ...    \n",
       "03c1c33e-c4a8-4c31-8a29-0d8b3e7bda83_sanger_raw...                                                NaN    \n",
       "812d6f3d-c4f9-4e10-9039-4ebe9b3100c3_sanger_raw...                                                NaN    \n",
       "ca52ea0e-5021-463b-8821-5e7c765812ff_sanger_raw...                                                NaN    \n",
       "8db95363-6eb3-4a90-affd-0c948a05c27c_sanger_raw...                                           -0.99901    \n",
       "cf565879-9f53-4fd1-b0da-065869293342_sanger_raw...                                                NaN    \n",
       "\n",
       "                                                    chr9_15888942_15889021_15888948_15888952_CTTT_C  \\\n",
       "Patient_ID                                                                                            \n",
       "a5867fd1-4897-4559-855a-c30002d3c6bb_sanger_raw...                                              NaN   \n",
       "0f158d5f-16c7-4fb7-b48c-0ff392f1706b_sanger_raw...                                              NaN   \n",
       "af56a9e4-b896-4d47-b9c0-930eb68862bd_sanger_raw...                                              NaN   \n",
       "447a08c8-3488-45d1-9262-23c42341296f_sanger_raw...                                              NaN   \n",
       "033db366-1af1-4bd9-8339-c54800b1de57_sanger_raw...                                              NaN   \n",
       "...                                                                                             ...   \n",
       "03c1c33e-c4a8-4c31-8a29-0d8b3e7bda83_sanger_raw...                                              NaN   \n",
       "812d6f3d-c4f9-4e10-9039-4ebe9b3100c3_sanger_raw...                                              NaN   \n",
       "ca52ea0e-5021-463b-8821-5e7c765812ff_sanger_raw...                                              NaN   \n",
       "8db95363-6eb3-4a90-affd-0c948a05c27c_sanger_raw...                                        -0.999658   \n",
       "cf565879-9f53-4fd1-b0da-065869293342_sanger_raw...                                              NaN   \n",
       "\n",
       "                                                    chr9_77205272_77205351_77205285_77205287_CT_C  \\\n",
       "Patient_ID                                                                                          \n",
       "a5867fd1-4897-4559-855a-c30002d3c6bb_sanger_raw...                                            NaN   \n",
       "0f158d5f-16c7-4fb7-b48c-0ff392f1706b_sanger_raw...                                            NaN   \n",
       "af56a9e4-b896-4d47-b9c0-930eb68862bd_sanger_raw...                                            NaN   \n",
       "447a08c8-3488-45d1-9262-23c42341296f_sanger_raw...                                            NaN   \n",
       "033db366-1af1-4bd9-8339-c54800b1de57_sanger_raw...                                            NaN   \n",
       "...                                                                                           ...   \n",
       "03c1c33e-c4a8-4c31-8a29-0d8b3e7bda83_sanger_raw...                                            NaN   \n",
       "812d6f3d-c4f9-4e10-9039-4ebe9b3100c3_sanger_raw...                                            NaN   \n",
       "ca52ea0e-5021-463b-8821-5e7c765812ff_sanger_raw...                                            NaN   \n",
       "8db95363-6eb3-4a90-affd-0c948a05c27c_sanger_raw...                                      -0.999228   \n",
       "cf565879-9f53-4fd1-b0da-065869293342_sanger_raw...                                            NaN   \n",
       "\n",
       "                                                    chr9_83855015_83855094_83855038_83855041_CTT_C  \\\n",
       "Patient_ID                                                                                           \n",
       "a5867fd1-4897-4559-855a-c30002d3c6bb_sanger_raw...                                             NaN   \n",
       "0f158d5f-16c7-4fb7-b48c-0ff392f1706b_sanger_raw...                                             NaN   \n",
       "af56a9e4-b896-4d47-b9c0-930eb68862bd_sanger_raw...                                             NaN   \n",
       "447a08c8-3488-45d1-9262-23c42341296f_sanger_raw...                                             NaN   \n",
       "033db366-1af1-4bd9-8339-c54800b1de57_sanger_raw...                                             NaN   \n",
       "...                                                                                            ...   \n",
       "03c1c33e-c4a8-4c31-8a29-0d8b3e7bda83_sanger_raw...                                             NaN   \n",
       "812d6f3d-c4f9-4e10-9039-4ebe9b3100c3_sanger_raw...                                             NaN   \n",
       "ca52ea0e-5021-463b-8821-5e7c765812ff_sanger_raw...                                             NaN   \n",
       "8db95363-6eb3-4a90-affd-0c948a05c27c_sanger_raw...                                       -0.987106   \n",
       "cf565879-9f53-4fd1-b0da-065869293342_sanger_raw...                                             NaN   \n",
       "\n",
       "                                                    chrX_118447019_118447098_118447031_118447034_ATT_A  \\\n",
       "Patient_ID                                                                                               \n",
       "a5867fd1-4897-4559-855a-c30002d3c6bb_sanger_raw...                                                NaN    \n",
       "0f158d5f-16c7-4fb7-b48c-0ff392f1706b_sanger_raw...                                                NaN    \n",
       "af56a9e4-b896-4d47-b9c0-930eb68862bd_sanger_raw...                                                NaN    \n",
       "447a08c8-3488-45d1-9262-23c42341296f_sanger_raw...                                                NaN    \n",
       "033db366-1af1-4bd9-8339-c54800b1de57_sanger_raw...                                                NaN    \n",
       "...                                                                                               ...    \n",
       "03c1c33e-c4a8-4c31-8a29-0d8b3e7bda83_sanger_raw...                                                NaN    \n",
       "812d6f3d-c4f9-4e10-9039-4ebe9b3100c3_sanger_raw...                                                NaN    \n",
       "ca52ea0e-5021-463b-8821-5e7c765812ff_sanger_raw...                                                NaN    \n",
       "8db95363-6eb3-4a90-affd-0c948a05c27c_sanger_raw...                                          -0.661694    \n",
       "cf565879-9f53-4fd1-b0da-065869293342_sanger_raw...                                                NaN    \n",
       "\n",
       "                                                    chr15_50930764_50930843_50930781_50930782_G_GT  \\\n",
       "Patient_ID                                                                                           \n",
       "a5867fd1-4897-4559-855a-c30002d3c6bb_sanger_raw...                                             NaN   \n",
       "0f158d5f-16c7-4fb7-b48c-0ff392f1706b_sanger_raw...                                             NaN   \n",
       "af56a9e4-b896-4d47-b9c0-930eb68862bd_sanger_raw...                                             NaN   \n",
       "447a08c8-3488-45d1-9262-23c42341296f_sanger_raw...                                             NaN   \n",
       "033db366-1af1-4bd9-8339-c54800b1de57_sanger_raw...                                             NaN   \n",
       "...                                                                                            ...   \n",
       "03c1c33e-c4a8-4c31-8a29-0d8b3e7bda83_sanger_raw...                                             NaN   \n",
       "812d6f3d-c4f9-4e10-9039-4ebe9b3100c3_sanger_raw...                                             NaN   \n",
       "ca52ea0e-5021-463b-8821-5e7c765812ff_sanger_raw...                                             NaN   \n",
       "8db95363-6eb3-4a90-affd-0c948a05c27c_sanger_raw...                                             NaN   \n",
       "cf565879-9f53-4fd1-b0da-065869293342_sanger_raw...                                       -0.836386   \n",
       "\n",
       "                                                    chr6_42619427_42619506_42619448_42619457_ATATATTTT_A  \\\n",
       "Patient_ID                                                                                                 \n",
       "a5867fd1-4897-4559-855a-c30002d3c6bb_sanger_raw...                                                NaN      \n",
       "0f158d5f-16c7-4fb7-b48c-0ff392f1706b_sanger_raw...                                                NaN      \n",
       "af56a9e4-b896-4d47-b9c0-930eb68862bd_sanger_raw...                                                NaN      \n",
       "447a08c8-3488-45d1-9262-23c42341296f_sanger_raw...                                                NaN      \n",
       "033db366-1af1-4bd9-8339-c54800b1de57_sanger_raw...                                                NaN      \n",
       "...                                                                                               ...      \n",
       "03c1c33e-c4a8-4c31-8a29-0d8b3e7bda83_sanger_raw...                                                NaN      \n",
       "812d6f3d-c4f9-4e10-9039-4ebe9b3100c3_sanger_raw...                                                NaN      \n",
       "ca52ea0e-5021-463b-8821-5e7c765812ff_sanger_raw...                                                NaN      \n",
       "8db95363-6eb3-4a90-affd-0c948a05c27c_sanger_raw...                                                NaN      \n",
       "cf565879-9f53-4fd1-b0da-065869293342_sanger_raw...                                          -0.982419      \n",
       "\n",
       "                                                    chr16_35244229_35244308_35244269_35244270_G_C  \\\n",
       "Patient_ID                                                                                          \n",
       "a5867fd1-4897-4559-855a-c30002d3c6bb_sanger_raw...                                            NaN   \n",
       "0f158d5f-16c7-4fb7-b48c-0ff392f1706b_sanger_raw...                                            NaN   \n",
       "af56a9e4-b896-4d47-b9c0-930eb68862bd_sanger_raw...                                            NaN   \n",
       "447a08c8-3488-45d1-9262-23c42341296f_sanger_raw...                                            NaN   \n",
       "033db366-1af1-4bd9-8339-c54800b1de57_sanger_raw...                                            NaN   \n",
       "...                                                                                           ...   \n",
       "03c1c33e-c4a8-4c31-8a29-0d8b3e7bda83_sanger_raw...                                            NaN   \n",
       "812d6f3d-c4f9-4e10-9039-4ebe9b3100c3_sanger_raw...                                            NaN   \n",
       "ca52ea0e-5021-463b-8821-5e7c765812ff_sanger_raw...                                            NaN   \n",
       "8db95363-6eb3-4a90-affd-0c948a05c27c_sanger_raw...                                            NaN   \n",
       "cf565879-9f53-4fd1-b0da-065869293342_sanger_raw...                                            NaN   \n",
       "\n",
       "                                                    chr22_24627811_24627890_24627822_24627823_G_A  \\\n",
       "Patient_ID                                                                                          \n",
       "a5867fd1-4897-4559-855a-c30002d3c6bb_sanger_raw...                                            NaN   \n",
       "0f158d5f-16c7-4fb7-b48c-0ff392f1706b_sanger_raw...                                            NaN   \n",
       "af56a9e4-b896-4d47-b9c0-930eb68862bd_sanger_raw...                                            NaN   \n",
       "447a08c8-3488-45d1-9262-23c42341296f_sanger_raw...                                            NaN   \n",
       "033db366-1af1-4bd9-8339-c54800b1de57_sanger_raw...                                            NaN   \n",
       "...                                                                                           ...   \n",
       "03c1c33e-c4a8-4c31-8a29-0d8b3e7bda83_sanger_raw...                                            NaN   \n",
       "812d6f3d-c4f9-4e10-9039-4ebe9b3100c3_sanger_raw...                                            NaN   \n",
       "ca52ea0e-5021-463b-8821-5e7c765812ff_sanger_raw...                                            NaN   \n",
       "8db95363-6eb3-4a90-affd-0c948a05c27c_sanger_raw...                                            NaN   \n",
       "cf565879-9f53-4fd1-b0da-065869293342_sanger_raw...                                            NaN   \n",
       "\n",
       "                                                    chr6_32522135_32522214_32522156_32522157_C_A  \n",
       "Patient_ID                                                                                        \n",
       "a5867fd1-4897-4559-855a-c30002d3c6bb_sanger_raw...                                           NaN  \n",
       "0f158d5f-16c7-4fb7-b48c-0ff392f1706b_sanger_raw...                                           NaN  \n",
       "af56a9e4-b896-4d47-b9c0-930eb68862bd_sanger_raw...                                           NaN  \n",
       "447a08c8-3488-45d1-9262-23c42341296f_sanger_raw...                                           NaN  \n",
       "033db366-1af1-4bd9-8339-c54800b1de57_sanger_raw...                                           NaN  \n",
       "...                                                                                          ...  \n",
       "03c1c33e-c4a8-4c31-8a29-0d8b3e7bda83_sanger_raw...                                           NaN  \n",
       "812d6f3d-c4f9-4e10-9039-4ebe9b3100c3_sanger_raw...                                           NaN  \n",
       "ca52ea0e-5021-463b-8821-5e7c765812ff_sanger_raw...                                           NaN  \n",
       "8db95363-6eb3-4a90-affd-0c948a05c27c_sanger_raw...                                           NaN  \n",
       "cf565879-9f53-4fd1-b0da-065869293342_sanger_raw...                                           NaN  \n",
       "\n",
       "[216 rows x 3371 columns]"
      ]
     },
     "execution_count": 19,
     "metadata": {},
     "output_type": "execute_result"
    }
   ],
   "source": [
    "df = pd.read_csv(file_path, sep='\\t', index_col=0)\n",
    "df = df.set_index('Patient_ID', drop=True)\n",
    "df"
   ]
  },
  {
   "cell_type": "code",
   "execution_count": 20,
   "id": "3e08f895-1cfe-4abe-b105-fceca4765bb4",
   "metadata": {},
   "outputs": [
    {
     "data": {
      "application/vnd.plotly.v1+json": {
       "config": {
        "plotlyServerURL": "https://plot.ly"
       },
       "data": [
        {
         "fill": "tozeroy",
         "fillcolor": "rgba(30,144,255,0.5)",
         "legendgroup": "Column Means",
         "marker": {
          "color": "blue",
          "line": {
           "width": 0
          }
         },
         "mode": "lines",
         "name": "Column Means",
         "showlegend": true,
         "type": "scatter",
         "x": [
          -0.9999934485696976,
          -0.99599351904837,
          -0.9919935895270424,
          -0.9879936600057148,
          -0.9839937304843872,
          -0.9799938009630595,
          -0.975993871441732,
          -0.9719939419204043,
          -0.9679940123990767,
          -0.9639940828777491,
          -0.9599941533564215,
          -0.9559942238350939,
          -0.9519942943137663,
          -0.9479943647924386,
          -0.943994435271111,
          -0.9399945057497834,
          -0.9359945762284558,
          -0.9319946467071282,
          -0.9279947171858005,
          -0.923994787664473,
          -0.9199948581431453,
          -0.9159949286218177,
          -0.9119949991004901,
          -0.9079950695791625,
          -0.9039951400578349,
          -0.8999952105365072,
          -0.8959952810151797,
          -0.891995351493852,
          -0.8879954219725245,
          -0.8839954924511968,
          -0.8799955629298692,
          -0.8759956334085416,
          -0.8719957038872139,
          -0.8679957743658864,
          -0.8639958448445587,
          -0.8599959153232312,
          -0.8559959858019035,
          -0.851996056280576,
          -0.8479961267592483,
          -0.8439961972379206,
          -0.8399962677165931,
          -0.8359963381952654,
          -0.8319964086739378,
          -0.8279964791526102,
          -0.8239965496312825,
          -0.819996620109955,
          -0.8159966905886273,
          -0.8119967610672998,
          -0.8079968315459721,
          -0.8039969020246445,
          -0.7999969725033169,
          -0.7959970429819893,
          -0.7919971134606617,
          -0.787997183939334,
          -0.7839972544180065,
          -0.7799973248966788,
          -0.7759973953753512,
          -0.7719974658540236,
          -0.767997536332696,
          -0.7639976068113683,
          -0.7599976772900408,
          -0.7559977477687131,
          -0.7519978182473855,
          -0.7479978887260579,
          -0.7439979592047303,
          -0.7399980296834027,
          -0.735998100162075,
          -0.7319981706407475,
          -0.7279982411194199,
          -0.7239983115980922,
          -0.7199983820767646,
          -0.715998452555437,
          -0.7119985230341094,
          -0.7079985935127817,
          -0.7039986639914542,
          -0.6999987344701265,
          -0.6959988049487988,
          -0.6919988754274713,
          -0.6879989459061437,
          -0.683999016384816,
          -0.6799990868634884,
          -0.6759991573421609,
          -0.6719992278208332,
          -0.6679992982995057,
          -0.663999368778178,
          -0.6599994392568505,
          -0.6559995097355228,
          -0.6519995802141951,
          -0.6479996506928676,
          -0.6439997211715399,
          -0.6399997916502123,
          -0.6359998621288847,
          -0.631999932607557,
          -0.6280000030862294,
          -0.6240000735649018,
          -0.6200001440435743,
          -0.6160002145222466,
          -0.612000285000919,
          -0.6080003554795914,
          -0.6040004259582639,
          -0.6000004964369362,
          -0.5960005669156085,
          -0.592000637394281,
          -0.5880007078729533,
          -0.5840007783516257,
          -0.5800008488302981,
          -0.5760009193089705,
          -0.5720009897876428,
          -0.5680010602663152,
          -0.5640011307449876,
          -0.5600012012236599,
          -0.5560012717023324,
          -0.5520013421810048,
          -0.5480014126596773,
          -0.5440014831383495,
          -0.540001553617022,
          -0.5360016240956944,
          -0.5320016945743667,
          -0.5280017650530391,
          -0.5240018355317115,
          -0.5200019060103839,
          -0.5160019764890562,
          -0.5120020469677287,
          -0.508002117446401,
          -0.5040021879250733,
          -0.5000022584037458,
          -0.49600232888241813,
          -0.4920023993610906,
          -0.4880024698397629,
          -0.48400254031843526,
          -0.4800026107971077,
          -0.47600268127578005,
          -0.4720027517544525,
          -0.46800282223312484,
          -0.4640028927117972,
          -0.4600029631904696,
          -0.4560030336691421,
          -0.4520031041478144,
          -0.44800317462648687,
          -0.4440032451051592,
          -0.44000331558383166,
          -0.436003386062504,
          -0.43200345654117633,
          -0.4280035270198488,
          -0.4240035974985211,
          -0.4200036679771936,
          -0.4160037384558659,
          -0.41200380893453825,
          -0.4080038794132107,
          -0.40400394989188304,
          -0.4000040203705554,
          -0.39600409084922783,
          -0.39200416132790017,
          -0.3880042318065726,
          -0.38400430228524496,
          -0.3800043727639173,
          -0.37600444324258975,
          -0.3720045137212621,
          -0.3680045841999344,
          -0.3640046546786069,
          -0.3600047251572792,
          -0.35600479563595167,
          -0.352004866114624,
          -0.34800493659329634,
          -0.3440050070719688,
          -0.34000507755064113,
          -0.3360051480293137,
          -0.33200521850798603,
          -0.32800528898665837,
          -0.3240053594653308,
          -0.32000542994400316,
          -0.3160055004226755,
          -0.31200557090134795,
          -0.3080056413800203,
          -0.30400571185869274,
          -0.3000057823373651,
          -0.2960058528160374,
          -0.29200592329470987,
          -0.2880059937733822,
          -0.28400606425205466,
          -0.280006134730727,
          -0.27600620520939934,
          -0.2720062756880718,
          -0.2680063461667441,
          -0.26400641664541646,
          -0.2600064871240889,
          -0.25600655760276125,
          -0.2520066280814337,
          -0.24800669856010604,
          -0.24400676903877838,
          -0.24000683951745083,
          -0.23600690999612317,
          -0.23200698047479562,
          -0.22800705095346796,
          -0.2240071214321403,
          -0.22000719191081275,
          -0.2160072623894852,
          -0.21200733286815754,
          -0.20800740334683,
          -0.20400747382550233,
          -0.20000754430417478,
          -0.19600761478284712,
          -0.19200768526151946,
          -0.1880077557401919,
          -0.18400782621886425,
          -0.18000789669753658,
          -0.17600796717620903,
          -0.17200803765488137,
          -0.16800810813355382,
          -0.16400817861222616,
          -0.1600082490908985,
          -0.15600831956957095,
          -0.1520083900482433,
          -0.14800846052691574,
          -0.14400853100558808,
          -0.14000860148426042,
          -0.13600867196293287,
          -0.1320087424416052,
          -0.12800881292027755,
          -0.12400888339895,
          -0.12000895387762234,
          -0.11600902435629479,
          -0.11200909483496713,
          -0.10800916531363947,
          -0.10400923579231192,
          -0.10000930627098426,
          -0.09600937674965682,
          -0.09200944722832916,
          -0.0880095177070015,
          -0.08400958818567394,
          -0.08000965866434628,
          -0.07600972914301862,
          -0.07200979962169107,
          -0.06800987010036341,
          -0.06400994057903586,
          -0.0600100110577082,
          -0.05601008153638054,
          -0.05201015201505299,
          -0.04801022249372533,
          -0.04401029297239767,
          -0.04001036345107012,
          -0.03601043392974246,
          -0.03201050440841491,
          -0.028010574887087247,
          -0.024010645365759586,
          -0.020010715844432037,
          -0.016010786323104376,
          -0.012010856801776826,
          -0.008010927280449165,
          -0.004010997759121504,
          -1.1068237793954161e-05,
          0.003988861283533596,
          0.007988790804861368,
          0.011988720326188917,
          0.015988649847516467,
          0.019988579368844017,
          0.02398850889017179,
          0.02798843841149934,
          0.03198836793282711,
          0.03598829745415444,
          0.03998822697548221,
          0.04398815649680976,
          0.04798808601813753,
          0.05198801553946508,
          0.05598794506079263,
          0.05998787458212018,
          0.06398780410344795,
          0.0679877336247755,
          0.07198766314610328,
          0.07598759266743083,
          0.07998752218875838,
          0.08398745171008593,
          0.08798738123141348,
          0.09198731075274125,
          0.0959872402740688,
          0.09998716979539635,
          0.1039870993167239,
          0.10798702883805167,
          0.11198695835937922,
          0.11598688788070699,
          0.11998681740203432,
          0.12398674692336209,
          0.12798667644468964,
          0.1319866059660174,
          0.13598653548734496,
          0.1399864650086725,
          0.14398639453000006,
          0.14798632405132783,
          0.15198625357265538,
          0.15598618309398316,
          0.15998611261531048,
          0.16398604213663825,
          0.1679859716579658,
          0.17198590117929358,
          0.17598583070062113,
          0.1799857602219489,
          0.18398568974327623,
          0.187985619264604,
          0.19198554878593155,
          0.19598547830725932,
          0.19998540782858687,
          0.2039853373499142,
          0.20798526687124197,
          0.21198519639256952,
          0.2159851259138973,
          0.21998505543522484,
          0.2239849849565524,
          0.22798491447787994,
          0.2319848439992077,
          0.23598477352053526,
          0.23998470304186303,
          0.24398463256319036,
          0.24798456208451813,
          0.2519844916058457,
          0.25598442112717346,
          0.259984350648501,
          0.2639842801698288,
          0.2679842096911561,
          0.2719841392124839,
          0.2759840687338114,
          0.2799839982551392,
          0.28398392777646675,
          0.2879838572977943,
          0.29198378681912185,
          0.2959837163404496,
          0.29998364586177717,
          0.30398357538310494,
          0.30798350490443227,
          0.31198343442576004,
          0.3159833639470876,
          0.31998329346841536,
          0.3239832229897429,
          0.32798315251107024,
          0.331983082032398,
          0.33598301155372556,
          0.33998294107505334,
          0.3439828705963809,
          0.34798280011770844,
          0.351982729639036,
          0.35598265916036376,
          0.3599825886816913,
          0.3639825182030191,
          0.36798244772434663,
          0.3719823772456742,
          0.37598230676700173,
          0.3799822362883295,
          0.38398216580965705,
          0.3879820953309848,
          0.39198202485231215,
          0.3959819543736399,
          0.39998188389496747,
          0.40398181341629524,
          0.4079817429376228,
          0.41198167245895034,
          0.4159816019802779,
          0.41998153150160566,
          0.4239814610229332,
          0.427981390544261,
          0.4319813200655883,
          0.4359812495869161,
          0.43998117910824364,
          0.4439811086295714,
          0.44798103815089896,
          0.4519809676722265,
          0.45598089719355406,
          0.4599808267148816,
          0.4639807562362094,
          0.46798068575753693,
          0.4719806152788647,
          0.47598054480019203,
          0.4799804743215198,
          0.48398040384284735,
          0.4879803333641751,
          0.4919802628855027,
          0.4959801924068302,
          0.4999801219281578,
          0.5039800514494855,
          0.5079799809708131,
          0.5119799104921409,
          0.5159798400134682,
          0.519979769534796,
          0.5239796990561235,
          0.5279796285774513,
          0.5319795580987788,
          0.5359794876201064,
          0.5399794171414339,
          0.5439793466627617,
          0.5479792761840893,
          0.551979205705417,
          0.5559791352267446,
          0.5599790647480721,
          0.5639789942693997,
          0.5679789237907272,
          0.571978853312055,
          0.5759787828333826,
          0.5799787123547101,
          0.5839786418760377,
          0.5879785713973654,
          0.591978500918693,
          0.5959784304400207,
          0.5999783599613481,
          0.6039782894826758,
          0.6079782190040034,
          0.6119781485253312,
          0.6159780780466587,
          0.6199780075679863,
          0.6239779370893138,
          0.6279778666106416,
          0.6319777961319691,
          0.6359777256532969,
          0.6399776551746245,
          0.643977584695952,
          0.6479775142172796,
          0.6519774437386073,
          0.6559773732599349,
          0.6599773027812627,
          0.66397723230259,
          0.6679771618239178,
          0.6719770913452453,
          0.6759770208665731,
          0.6799769503879006,
          0.6839768799092282,
          0.6879768094305557,
          0.6919767389518833,
          0.695976668473211,
          0.6999765979945386,
          0.7039765275158661,
          0.7079764570371937,
          0.7119763865585215,
          0.715976316079849,
          0.7199762456011768,
          0.7239761751225043,
          0.7279761046438319,
          0.7319760341651594,
          0.7359759636864872,
          0.7399758932078148,
          0.7439758227291425,
          0.7479757522504699,
          0.7519756817717976,
          0.7559756112931252,
          0.759975540814453,
          0.7639754703357805,
          0.767975399857108,
          0.7719753293784356,
          0.7759752588997634,
          0.7799751884210909,
          0.7839751179424187,
          0.787975047463746,
          0.7919749769850738,
          0.7959749065064013,
          0.7999748360277291,
          0.8039747655490567,
          0.807974695070384,
          0.8119746245917118,
          0.8159745541130393,
          0.8199744836343671,
          0.8239744131556946,
          0.8279743426770224,
          0.8319742721983497,
          0.8359742017196775,
          0.8399741312410051,
          0.8439740607623328,
          0.8479739902836604,
          0.8519739198049879,
          0.8559738493263155,
          0.8599737788476433,
          0.8639737083689708,
          0.8679736378902986,
          0.8719735674116259,
          0.8759734969329537,
          0.8799734264542812,
          0.883973355975609,
          0.8879732854969365,
          0.8919732150182641,
          0.8959731445395916,
          0.8999730740609194,
          0.903973003582247,
          0.9079729331035747,
          0.9119728626249023,
          0.9159727921462298,
          0.9199727216675574,
          0.9239726511888852,
          0.9279725807102127,
          0.9319725102315403,
          0.9359724397528678,
          0.9399723692741954,
          0.9439722987955231,
          0.9479722283168507,
          0.9519721578381785,
          0.9559720873595058,
          0.9599720168808336,
          0.9639719464021611,
          0.9679718759234889,
          0.9719718054448164,
          0.975971734966144,
          0.9799716644874715,
          0.9839715940087993,
          0.9879715235301268,
          0.9919714530514546,
          0.995971382572782
         ],
         "xaxis": "x",
         "y": [
          1.5163897127402874,
          1.5272870290705265,
          1.5371558997461277,
          1.5459836669762475,
          1.553760291739357,
          1.5604783810525105,
          1.5661332039001625,
          1.5707226957726586,
          1.5742474518327987,
          1.57671070879688,
          1.578118315683571,
          1.5784786936496995,
          1.5778027851955978,
          1.5761039930839265,
          1.5733981093743887,
          1.5697032350317826,
          1.5650396906162067,
          1.5594299186118756,
          1.5528983779937058,
          1.5454714316695621,
          1.5371772274694036,
          1.5280455733810967,
          1.5181078077560337,
          1.5073966652255644,
          1.495946139082142,
          1.4837913408860928,
          1.470968358061226,
          1.4575141102392282,
          1.4434662051044285,
          1.428862794477562,
          1.413742431359148,
          1.398143928630817,
          1.3821062200865897,
          1.3656682244355813,
          1.3488687128839165,
          1.3317461808664255,
          1.3143387244591174,
          1.296683921960808,
          1.2788187210882636,
          1.2607793321832081,
          1.242601127782241,
          1.2243185488530353,
          1.2059650179513897,
          1.1875728595054924,
          1.1691732273854596,
          1.1507960398686907,
          1.132469922065074,
          1.1142221558209695,
          1.0960786370771112,
          1.0780638406140135,
          1.0602007920787402,
          1.0425110471496184,
          1.0250146776607056,
          1.0077302644755797,
          0.9906748968707499,
          0.9738641781623608,
          0.9573122372864047,
          0.9410317460219604,
          0.9250339415294211,
          0.9093286538609778,
          0.893924338088968,
          0.8788281106887421,
          0.8640457898067336,
          0.8495819390408991,
          0.835439914360024,
          0.8216219137897365,
          0.8081290294971649,
          0.7949613019119642,
          0.7821177755294623,
          0.7695965560513014,
          0.7573948685303019,
          0.7455091161988889,
          0.7339349396744491,
          0.7226672762498877,
          0.7117004189935668,
          0.70102807539935,
          0.6906434253445765,
          0.6805391781312101,
          0.6707076284032396,
          0.6611407107509681,
          0.651830052830776,
          0.642767026846282,
          0.6339427992542639,
          0.6253483785754085,
          0.6169746612065063,
          0.6088124751464069,
          0.6008526215634001,
          0.5930859141461178,
          0.5855032161939651,
          0.5780954754161034,
          0.5708537564203493,
          0.5637692708847568,
          0.5568334054154748,
          0.550037747104231,
          0.5433741068079934,
          0.5368345401816003,
          0.5304113665017457,
          0.5240971853275291,
          0.5178848910488533,
          0.5117676853794204,
          0.5057390878558538,
          0.4997929444086378,
          0.4939234340742243,
          0.48812507392067084,
          0.4823927222618221,
          0.47672158023711975,
          0.47110719183587824,
          0.4655454424461358,
          0.46003255600919724,
          0.4545650908616051,
          0.4491399343466412,
          0.44375429627753954,
          0.4384057013344718,
          0.433091980476947,
          0.4278112614527713,
          0.42256195848393235,
          0.41734276120885905,
          0.41215262295950866,
          0.406990748450497,
          0.40185658095615046,
          0.39674978905000885,
          0.3916702529796104,
          0.3866180507478616,
          0.3815934439704194,
          0.37659686357666133,
          0.37162889541985095,
          0.3666902658600041,
          0.3617818273807561,
          0.356904544299284,
          0.35205947862590026,
          0.3472477761275184,
          0.34247065264655047,
          0.3377293807241686,
          0.3330252765741081,
          0.3283596874503373,
          0.3237339794489989,
          0.31914952578207867,
          0.3146076955571356,
          0.31010984309439704,
          0.3056572978092948,
          0.30125135468534375,
          0.2968932653590744,
          0.2925842298354078,
          0.28832538884869563,
          0.28411781688135,
          0.2799625158488068,
          0.2758604094563283,
          0.2718123382300962,
          0.2678190552218666,
          0.2638812223835401,
          0.2599994076050463,
          0.25617408240612227,
          0.2524056202698878,
          0.2486942956035284,
          0.24504028330895583,
          0.2414436589440341,
          0.2379043994528165,
          0.23442238444125554,
          0.23099739797306487,
          0.22762913085877604,
          0.22431718340958404,
          0.22106106862634028,
          0.21786021579294534,
          0.214713974442568,
          0.2116216186643519,
          0.20858235171783074,
          0.20559531092191197,
          0.2026595727851545,
          0.19977415834409495,
          0.19693803867657808,
          0.19415014055740634,
          0.19140935222411776,
          0.18871452922138587,
          0.18606450029329147,
          0.1834580732936459,
          0.1808940410855601,
          0.17837118740258956,
          0.17588829264497696,
          0.17344413958583788,
          0.17103751896346464,
          0.1686672349373705,
          0.16633211038711246,
          0.16403099203448268,
          0.1617627553711009,
          0.15952630937504333,
          0.1573206010016006,
          0.15514461943483135,
          0.15299740008805748,
          0.15087802834293554,
          0.14878564301819278,
          0.1467194395605243,
          0.14467867295152761,
          0.14266266032587283,
          0.1406707832971684,
          0.13870248998921844,
          0.13675729677150777,
          0.13483478969887017,
          0.13293462565630726,
          0.13105653321093427,
          0.12920031317392286,
          0.12736583887617345,
          0.12555305616224074,
          0.12376198310778952,
          0.12199270946651082,
          0.12024539585308743,
          0.1185202726693467,
          0.11681763878128316,
          0.11513785995510951,
          0.11348136706093152,
          0.11184865405303973,
          0.11024027573618526,
          0.1086568453275168,
          0.1070990318241683,
          0.10556755718675355,
          0.10406319334925992,
          0.10258675906606386,
          0.10113911660698534,
          0.0997211683114788,
          0.09833385301322023,
          0.09697814234649749,
          0.095655036945941,
          0.09436556255124434,
          0.09311076602863325,
          0.09189171132092284,
          0.09070947533807877,
          0.08956514380025886,
          0.08845980704535898,
          0.08739455581311197,
          0.08637047701780423,
          0.08538864952167516,
          0.08445013992104225,
          0.08355599835714748,
          0.08270725436367318,
          0.08190491276278215,
          0.08114994962143524,
          0.08044330827962141,
          0.07978589546195594,
          0.07917857748395886,
          0.07862217656408205,
          0.07811746725235062,
          0.07766517298619512,
          0.07726596278378238,
          0.07692044808481296,
          0.07662917974841639,
          0.07639264521738323,
          0.07621126585758273,
          0.07608539448094936,
          0.0760153130599876,
          0.07600123064122408,
          0.07604328146453253,
          0.07614152329470761,
          0.07629593597109433,
          0.07650642018048719,
          0.07677279645790505,
          0.07709480441921414,
          0.07747210222891757,
          0.07790426630577636,
          0.07839079126823985,
          0.07893109012097085,
          0.07952449468306898,
          0.08017025625786282,
          0.08086754654345768,
          0.081615458782484,
          0.08241300914880118,
          0.0832591383681742,
          0.08415271356923917,
          0.08509253036037141,
          0.08607731512736662,
          0.08710572754613231,
          0.08817636330396378,
          0.08928775702223997,
          0.09043838537277775,
          0.09162667037943137,
          0.0928509828958831,
          0.09410964625001762,
          0.09540094004463794,
          0.09672310410379256,
          0.0980743425533967,
          0.0994528280243592,
          0.10085670596594443,
          0.10228409905664645,
          0.10373311169943997,
          0.1052018345878994,
          0.1066883493293057,
          0.10819073311057392,
          0.10970706339253687,
          0.11123542261789411,
          0.11277390291793638,
          0.1143206108029962,
          0.115873671821477,
          0.11743123517222989,
          0.11899147825504353,
          0.12055261114404074,
          0.1221128809688476,
          0.12367057618854344,
          0.12522403074358393,
          0.126771628071119,
          0.12831180496944106,
          0.12984305529763285,
          0.13136393349690553,
          0.13287305792057638,
          0.13436911396016996,
          0.13585085695569385,
          0.13731711487880446,
          0.13876679077824836,
          0.14019886497774847,
          0.14161239701729234,
          0.14300652732965538,
          0.1443804786449072,
          0.14573355711660746,
          0.14706515316441945,
          0.14837474202891618,
          0.14966188403545014,
          0.15092622456509566,
          0.15216749373181876,
          0.15338550576623172,
          0.15458015810749082,
          0.15575143020611695,
          0.15689938204175619,
          0.15802415236112916,
          0.15912595664265472,
          0.16020508479544315,
          0.16126189860158088,
          0.1622968289117739,
          0.16331037260560693,
          0.16430308932874266,
          0.16527559802048178,
          0.16622857324609333,
          0.1671627413492863,
          0.16807887644107092,
          0.1689777962420742,
          0.16986035779609712,
          0.17072745307335718,
          0.17158000448241195,
          0.17241896031022186,
          0.17324529011017392,
          0.17405998005815668,
          0.17486402829692443,
          0.17565844028904637,
          0.17644422419868186,
          0.17722238632224707,
          0.17799392658777977,
          0.17875983414241603,
          0.17952108304691505,
          0.1802786280955767,
          0.18103340077921354,
          0.18178630540805613,
          0.1825382154105969,
          0.18328996982342888,
          0.184042369986101,
          0.1847961764539056,
          0.18555210614035306,
          0.1863108296998656,
          0.18707296915995034,
          0.18783909581081099,
          0.1886097283590192,
          0.18938533135050606,
          0.1901663138667826,
          0.19095302849689685,
          0.19174577058632092,
          0.19254477776256193,
          0.19335022973600502,
          0.1941622483731935,
          0.19498089803849242,
          0.19580618619889759,
          0.19663806428557695,
          0.19747642880466296,
          0.19832112268876878,
          0.1991719368797594,
          0.20002861213240966,
          0.20089084102778182,
          0.20175827018441175,
          0.20263050265474813,
          0.2035071004937086,
          0.204387587485717,
          0.20527145201616273,
          0.2061581500728944,
          0.20704710836305784,
          0.2079377275304029,
          0.20882938545804666,
          0.20972144064157758,
          0.21061323561739248,
          0.21150410043115284,
          0.2123933561313461,
          0.21328031827303298,
          0.21416430041701462,
          0.21504461760982307,
          0.215920589830148,
          0.21679154538751766,
          0.21765682425929833,
          0.21851578135230473,
          0.21936778967557924,
          0.22021224341113468,
          0.22104856086972924,
          0.2218761873189771,
          0.22269459767137686,
          0.22350329902006646,
          0.2243018330104006,
          0.22508977803567579,
          0.22586675124561034,
          0.22663241035644813,
          0.22738645525184562,
          0.228128629364,
          0.22885872082480033,
          0.2295765633771463,
          0.2302820370369594,
          0.2309750684968575,
          0.23165563126293812,
          0.23232374551666352,
          0.2329794776944499,
          0.2336229397782369,
          0.23425428829108005,
          0.23487372299264508,
          0.2354814852704304,
          0.23607785622356414,
          0.2366631544371663,
          0.23723773344649748,
          0.23780197889146576,
          0.2383563053634962,
          0.23890115294835762,
          0.2394369834701534,
          0.23996427644348442,
          0.2404835247426213,
          0.24099522999846534,
          0.24149989773610747,
          0.24199803226786357,
          0.24249013135881295,
          0.24297668068405037,
          0.24345814809905922,
          0.24393497774683007,
          0.24440758402755494,
          0.24487634545889464,
          0.24534159845693254,
          0.24580363106998632,
          0.24626267669938312,
          0.24671890784313727,
          0.24717242990016144,
          0.24762327507414686,
          0.24807139641758136,
          0.24851666205749023,
          0.24895884964535134,
          0.24939764107426152,
          0.24983261750677455,
          0.25026325475687317,
          0.2506889190692809,
          0.2511088633387118,
          0.25152222381075623,
          0.2519280173048003,
          0.2523251389977569,
          0.2527123608054174,
          0.25308833039586565,
          0.25345157086672604,
          0.25380048111496756,
          0.25413333692460777,
          0.25444829279396913,
          0.25474338452013184,
          0.25501653255393736,
          0.2552655461343558,
          0.2554881282062423,
          0.2556818811205278,
          0.2558443131107366,
          0.25597284553444194,
          0.2560648208628897,
          0.2561175113965938,
          0.25612812867926493,
          0.25609383357702953,
          0.2560117469845693,
          0.25587896111460523,
          0.2556925513221277,
          0.25544958840994597,
          0.255147151357591,
          0.25478234041133824,
          0.25435229046923397,
          0.253854184691472,
          0.25328526826338893,
          0.2526428622357109,
          0.2519243773645298,
          0.2511273278718719,
          0.25024934504663104,
          0.2492881906051044,
          0.24824176973042508,
          0.24710814371081058,
          0.24588554209775876,
          0.24457237430713608,
          0.24316724058848563,
          0.24166894229083716,
          0.24007649135681416,
          0.23838911898087775,
          0.2366062833720956,
          0.2347276765668559,
          0.23275323024240366,
          0.23068312048796283,
          0.2285177714964077,
          0.2262578581460102,
          0.2239043074485656,
          0.22145829884721388,
          0.21892126335443043,
          0.2162948815279108,
          0.21358108028937478,
          0.2107820285985891
         ],
         "yaxis": "y"
        },
        {
         "line": {
          "color": "red",
          "dash": "dot",
          "width": 2
         },
         "mode": "lines",
         "name": "μ",
         "showlegend": false,
         "type": "scatter",
         "x": [
          -0.5168130463466748,
          -0.5168130463466748
         ],
         "y": [
          0,
          1.7363265630146696
         ]
        },
        {
         "line": {
          "color": "green",
          "dash": "dot",
          "width": 2
         },
         "mode": "lines",
         "name": "μ - 1*σ",
         "showlegend": false,
         "type": "scatter",
         "x": [
          -1.170802971493108,
          -1.170802971493108
         ],
         "y": [
          0,
          1.7363265630146696
         ]
        },
        {
         "line": {
          "color": "green",
          "dash": "dot",
          "width": 2
         },
         "mode": "lines",
         "name": "μ + 1*σ",
         "showlegend": false,
         "type": "scatter",
         "x": [
          0.13717687879975848,
          0.13717687879975848
         ],
         "y": [
          0,
          1.7363265630146696
         ]
        },
        {
         "line": {
          "color": "blue",
          "dash": "dot",
          "width": 2
         },
         "mode": "lines",
         "name": "μ - 2*σ",
         "showlegend": false,
         "type": "scatter",
         "x": [
          -1.8247928966395413,
          -1.8247928966395413
         ],
         "y": [
          0,
          1.7363265630146696
         ]
        },
        {
         "line": {
          "color": "blue",
          "dash": "dot",
          "width": 2
         },
         "mode": "lines",
         "name": "μ + 2*σ",
         "showlegend": false,
         "type": "scatter",
         "x": [
          0.7911668039461918,
          0.7911668039461918
         ],
         "y": [
          0,
          1.7363265630146696
         ]
        },
        {
         "line": {
          "color": "purple",
          "dash": "dot",
          "width": 2
         },
         "mode": "lines",
         "name": "μ - 3*σ",
         "showlegend": false,
         "type": "scatter",
         "x": [
          -2.4787828217859746,
          -2.4787828217859746
         ],
         "y": [
          0,
          1.7363265630146696
         ]
        },
        {
         "line": {
          "color": "purple",
          "dash": "dot",
          "width": 2
         },
         "mode": "lines",
         "name": "μ + 3*σ",
         "showlegend": false,
         "type": "scatter",
         "x": [
          1.4451567290926248,
          1.4451567290926248
         ],
         "y": [
          0,
          1.7363265630146696
         ]
        }
       ],
       "layout": {
        "annotations": [
         {
          "font": {
           "color": "red"
          },
          "showarrow": false,
          "text": "μ",
          "x": -0.5168130463466748,
          "xshift": 0,
          "y": 0,
          "yshift": -20
         },
         {
          "font": {
           "color": "green"
          },
          "showarrow": false,
          "text": "μ - 1*σ",
          "x": -1.170802971493108,
          "xshift": 0,
          "y": 0,
          "yshift": -20
         },
         {
          "font": {
           "color": "green"
          },
          "showarrow": false,
          "text": "μ + 1*σ",
          "x": 0.13717687879975848,
          "xshift": 0,
          "y": 0,
          "yshift": -20
         },
         {
          "font": {
           "color": "blue"
          },
          "showarrow": false,
          "text": "μ - 2*σ",
          "x": -1.8247928966395413,
          "xshift": 0,
          "y": 0,
          "yshift": -20
         },
         {
          "font": {
           "color": "blue"
          },
          "showarrow": false,
          "text": "μ + 2*σ",
          "x": 0.7911668039461918,
          "xshift": 0,
          "y": 0,
          "yshift": -20
         },
         {
          "font": {
           "color": "purple"
          },
          "showarrow": false,
          "text": "μ - 3*σ",
          "x": -2.4787828217859746,
          "xshift": 0,
          "y": 0,
          "yshift": -20
         },
         {
          "font": {
           "color": "purple"
          },
          "showarrow": false,
          "text": "μ + 3*σ",
          "x": 1.4451567290926248,
          "xshift": 0,
          "y": 0,
          "yshift": -20
         }
        ],
        "autosize": true,
        "barmode": "overlay",
        "hovermode": "closest",
        "legend": {
         "title": {
          "text": "Legend"
         },
         "traceorder": "reversed"
        },
        "template": {
         "data": {
          "bar": [
           {
            "error_x": {
             "color": "#2a3f5f"
            },
            "error_y": {
             "color": "#2a3f5f"
            },
            "marker": {
             "line": {
              "color": "#E5ECF6",
              "width": 0.5
             },
             "pattern": {
              "fillmode": "overlay",
              "size": 10,
              "solidity": 0.2
             }
            },
            "type": "bar"
           }
          ],
          "barpolar": [
           {
            "marker": {
             "line": {
              "color": "#E5ECF6",
              "width": 0.5
             },
             "pattern": {
              "fillmode": "overlay",
              "size": 10,
              "solidity": 0.2
             }
            },
            "type": "barpolar"
           }
          ],
          "carpet": [
           {
            "aaxis": {
             "endlinecolor": "#2a3f5f",
             "gridcolor": "white",
             "linecolor": "white",
             "minorgridcolor": "white",
             "startlinecolor": "#2a3f5f"
            },
            "baxis": {
             "endlinecolor": "#2a3f5f",
             "gridcolor": "white",
             "linecolor": "white",
             "minorgridcolor": "white",
             "startlinecolor": "#2a3f5f"
            },
            "type": "carpet"
           }
          ],
          "choropleth": [
           {
            "colorbar": {
             "outlinewidth": 0,
             "ticks": ""
            },
            "type": "choropleth"
           }
          ],
          "contour": [
           {
            "colorbar": {
             "outlinewidth": 0,
             "ticks": ""
            },
            "colorscale": [
             [
              0,
              "#0d0887"
             ],
             [
              0.1111111111111111,
              "#46039f"
             ],
             [
              0.2222222222222222,
              "#7201a8"
             ],
             [
              0.3333333333333333,
              "#9c179e"
             ],
             [
              0.4444444444444444,
              "#bd3786"
             ],
             [
              0.5555555555555556,
              "#d8576b"
             ],
             [
              0.6666666666666666,
              "#ed7953"
             ],
             [
              0.7777777777777778,
              "#fb9f3a"
             ],
             [
              0.8888888888888888,
              "#fdca26"
             ],
             [
              1,
              "#f0f921"
             ]
            ],
            "type": "contour"
           }
          ],
          "contourcarpet": [
           {
            "colorbar": {
             "outlinewidth": 0,
             "ticks": ""
            },
            "type": "contourcarpet"
           }
          ],
          "heatmap": [
           {
            "colorbar": {
             "outlinewidth": 0,
             "ticks": ""
            },
            "colorscale": [
             [
              0,
              "#0d0887"
             ],
             [
              0.1111111111111111,
              "#46039f"
             ],
             [
              0.2222222222222222,
              "#7201a8"
             ],
             [
              0.3333333333333333,
              "#9c179e"
             ],
             [
              0.4444444444444444,
              "#bd3786"
             ],
             [
              0.5555555555555556,
              "#d8576b"
             ],
             [
              0.6666666666666666,
              "#ed7953"
             ],
             [
              0.7777777777777778,
              "#fb9f3a"
             ],
             [
              0.8888888888888888,
              "#fdca26"
             ],
             [
              1,
              "#f0f921"
             ]
            ],
            "type": "heatmap"
           }
          ],
          "heatmapgl": [
           {
            "colorbar": {
             "outlinewidth": 0,
             "ticks": ""
            },
            "colorscale": [
             [
              0,
              "#0d0887"
             ],
             [
              0.1111111111111111,
              "#46039f"
             ],
             [
              0.2222222222222222,
              "#7201a8"
             ],
             [
              0.3333333333333333,
              "#9c179e"
             ],
             [
              0.4444444444444444,
              "#bd3786"
             ],
             [
              0.5555555555555556,
              "#d8576b"
             ],
             [
              0.6666666666666666,
              "#ed7953"
             ],
             [
              0.7777777777777778,
              "#fb9f3a"
             ],
             [
              0.8888888888888888,
              "#fdca26"
             ],
             [
              1,
              "#f0f921"
             ]
            ],
            "type": "heatmapgl"
           }
          ],
          "histogram": [
           {
            "marker": {
             "pattern": {
              "fillmode": "overlay",
              "size": 10,
              "solidity": 0.2
             }
            },
            "type": "histogram"
           }
          ],
          "histogram2d": [
           {
            "colorbar": {
             "outlinewidth": 0,
             "ticks": ""
            },
            "colorscale": [
             [
              0,
              "#0d0887"
             ],
             [
              0.1111111111111111,
              "#46039f"
             ],
             [
              0.2222222222222222,
              "#7201a8"
             ],
             [
              0.3333333333333333,
              "#9c179e"
             ],
             [
              0.4444444444444444,
              "#bd3786"
             ],
             [
              0.5555555555555556,
              "#d8576b"
             ],
             [
              0.6666666666666666,
              "#ed7953"
             ],
             [
              0.7777777777777778,
              "#fb9f3a"
             ],
             [
              0.8888888888888888,
              "#fdca26"
             ],
             [
              1,
              "#f0f921"
             ]
            ],
            "type": "histogram2d"
           }
          ],
          "histogram2dcontour": [
           {
            "colorbar": {
             "outlinewidth": 0,
             "ticks": ""
            },
            "colorscale": [
             [
              0,
              "#0d0887"
             ],
             [
              0.1111111111111111,
              "#46039f"
             ],
             [
              0.2222222222222222,
              "#7201a8"
             ],
             [
              0.3333333333333333,
              "#9c179e"
             ],
             [
              0.4444444444444444,
              "#bd3786"
             ],
             [
              0.5555555555555556,
              "#d8576b"
             ],
             [
              0.6666666666666666,
              "#ed7953"
             ],
             [
              0.7777777777777778,
              "#fb9f3a"
             ],
             [
              0.8888888888888888,
              "#fdca26"
             ],
             [
              1,
              "#f0f921"
             ]
            ],
            "type": "histogram2dcontour"
           }
          ],
          "mesh3d": [
           {
            "colorbar": {
             "outlinewidth": 0,
             "ticks": ""
            },
            "type": "mesh3d"
           }
          ],
          "parcoords": [
           {
            "line": {
             "colorbar": {
              "outlinewidth": 0,
              "ticks": ""
             }
            },
            "type": "parcoords"
           }
          ],
          "pie": [
           {
            "automargin": true,
            "type": "pie"
           }
          ],
          "scatter": [
           {
            "fillpattern": {
             "fillmode": "overlay",
             "size": 10,
             "solidity": 0.2
            },
            "type": "scatter"
           }
          ],
          "scatter3d": [
           {
            "line": {
             "colorbar": {
              "outlinewidth": 0,
              "ticks": ""
             }
            },
            "marker": {
             "colorbar": {
              "outlinewidth": 0,
              "ticks": ""
             }
            },
            "type": "scatter3d"
           }
          ],
          "scattercarpet": [
           {
            "marker": {
             "colorbar": {
              "outlinewidth": 0,
              "ticks": ""
             }
            },
            "type": "scattercarpet"
           }
          ],
          "scattergeo": [
           {
            "marker": {
             "colorbar": {
              "outlinewidth": 0,
              "ticks": ""
             }
            },
            "type": "scattergeo"
           }
          ],
          "scattergl": [
           {
            "marker": {
             "colorbar": {
              "outlinewidth": 0,
              "ticks": ""
             }
            },
            "type": "scattergl"
           }
          ],
          "scattermapbox": [
           {
            "marker": {
             "colorbar": {
              "outlinewidth": 0,
              "ticks": ""
             }
            },
            "type": "scattermapbox"
           }
          ],
          "scatterpolar": [
           {
            "marker": {
             "colorbar": {
              "outlinewidth": 0,
              "ticks": ""
             }
            },
            "type": "scatterpolar"
           }
          ],
          "scatterpolargl": [
           {
            "marker": {
             "colorbar": {
              "outlinewidth": 0,
              "ticks": ""
             }
            },
            "type": "scatterpolargl"
           }
          ],
          "scatterternary": [
           {
            "marker": {
             "colorbar": {
              "outlinewidth": 0,
              "ticks": ""
             }
            },
            "type": "scatterternary"
           }
          ],
          "surface": [
           {
            "colorbar": {
             "outlinewidth": 0,
             "ticks": ""
            },
            "colorscale": [
             [
              0,
              "#0d0887"
             ],
             [
              0.1111111111111111,
              "#46039f"
             ],
             [
              0.2222222222222222,
              "#7201a8"
             ],
             [
              0.3333333333333333,
              "#9c179e"
             ],
             [
              0.4444444444444444,
              "#bd3786"
             ],
             [
              0.5555555555555556,
              "#d8576b"
             ],
             [
              0.6666666666666666,
              "#ed7953"
             ],
             [
              0.7777777777777778,
              "#fb9f3a"
             ],
             [
              0.8888888888888888,
              "#fdca26"
             ],
             [
              1,
              "#f0f921"
             ]
            ],
            "type": "surface"
           }
          ],
          "table": [
           {
            "cells": {
             "fill": {
              "color": "#EBF0F8"
             },
             "line": {
              "color": "white"
             }
            },
            "header": {
             "fill": {
              "color": "#C8D4E3"
             },
             "line": {
              "color": "white"
             }
            },
            "type": "table"
           }
          ]
         },
         "layout": {
          "annotationdefaults": {
           "arrowcolor": "#2a3f5f",
           "arrowhead": 0,
           "arrowwidth": 1
          },
          "autotypenumbers": "strict",
          "coloraxis": {
           "colorbar": {
            "outlinewidth": 0,
            "ticks": ""
           }
          },
          "colorscale": {
           "diverging": [
            [
             0,
             "#8e0152"
            ],
            [
             0.1,
             "#c51b7d"
            ],
            [
             0.2,
             "#de77ae"
            ],
            [
             0.3,
             "#f1b6da"
            ],
            [
             0.4,
             "#fde0ef"
            ],
            [
             0.5,
             "#f7f7f7"
            ],
            [
             0.6,
             "#e6f5d0"
            ],
            [
             0.7,
             "#b8e186"
            ],
            [
             0.8,
             "#7fbc41"
            ],
            [
             0.9,
             "#4d9221"
            ],
            [
             1,
             "#276419"
            ]
           ],
           "sequential": [
            [
             0,
             "#0d0887"
            ],
            [
             0.1111111111111111,
             "#46039f"
            ],
            [
             0.2222222222222222,
             "#7201a8"
            ],
            [
             0.3333333333333333,
             "#9c179e"
            ],
            [
             0.4444444444444444,
             "#bd3786"
            ],
            [
             0.5555555555555556,
             "#d8576b"
            ],
            [
             0.6666666666666666,
             "#ed7953"
            ],
            [
             0.7777777777777778,
             "#fb9f3a"
            ],
            [
             0.8888888888888888,
             "#fdca26"
            ],
            [
             1,
             "#f0f921"
            ]
           ],
           "sequentialminus": [
            [
             0,
             "#0d0887"
            ],
            [
             0.1111111111111111,
             "#46039f"
            ],
            [
             0.2222222222222222,
             "#7201a8"
            ],
            [
             0.3333333333333333,
             "#9c179e"
            ],
            [
             0.4444444444444444,
             "#bd3786"
            ],
            [
             0.5555555555555556,
             "#d8576b"
            ],
            [
             0.6666666666666666,
             "#ed7953"
            ],
            [
             0.7777777777777778,
             "#fb9f3a"
            ],
            [
             0.8888888888888888,
             "#fdca26"
            ],
            [
             1,
             "#f0f921"
            ]
           ]
          },
          "colorway": [
           "#636efa",
           "#EF553B",
           "#00cc96",
           "#ab63fa",
           "#FFA15A",
           "#19d3f3",
           "#FF6692",
           "#B6E880",
           "#FF97FF",
           "#FECB52"
          ],
          "font": {
           "color": "#2a3f5f"
          },
          "geo": {
           "bgcolor": "white",
           "lakecolor": "white",
           "landcolor": "#E5ECF6",
           "showlakes": true,
           "showland": true,
           "subunitcolor": "white"
          },
          "hoverlabel": {
           "align": "left"
          },
          "hovermode": "closest",
          "mapbox": {
           "style": "light"
          },
          "paper_bgcolor": "white",
          "plot_bgcolor": "#E5ECF6",
          "polar": {
           "angularaxis": {
            "gridcolor": "white",
            "linecolor": "white",
            "ticks": ""
           },
           "bgcolor": "#E5ECF6",
           "radialaxis": {
            "gridcolor": "white",
            "linecolor": "white",
            "ticks": ""
           }
          },
          "scene": {
           "xaxis": {
            "backgroundcolor": "#E5ECF6",
            "gridcolor": "white",
            "gridwidth": 2,
            "linecolor": "white",
            "showbackground": true,
            "ticks": "",
            "zerolinecolor": "white"
           },
           "yaxis": {
            "backgroundcolor": "#E5ECF6",
            "gridcolor": "white",
            "gridwidth": 2,
            "linecolor": "white",
            "showbackground": true,
            "ticks": "",
            "zerolinecolor": "white"
           },
           "zaxis": {
            "backgroundcolor": "#E5ECF6",
            "gridcolor": "white",
            "gridwidth": 2,
            "linecolor": "white",
            "showbackground": true,
            "ticks": "",
            "zerolinecolor": "white"
           }
          },
          "shapedefaults": {
           "line": {
            "color": "#2a3f5f"
           }
          },
          "ternary": {
           "aaxis": {
            "gridcolor": "white",
            "linecolor": "white",
            "ticks": ""
           },
           "baxis": {
            "gridcolor": "white",
            "linecolor": "white",
            "ticks": ""
           },
           "bgcolor": "#E5ECF6",
           "caxis": {
            "gridcolor": "white",
            "linecolor": "white",
            "ticks": ""
           }
          },
          "title": {
           "x": 0.05
          },
          "xaxis": {
           "automargin": true,
           "gridcolor": "white",
           "linecolor": "white",
           "ticks": "",
           "title": {
            "standoff": 15
           },
           "zerolinecolor": "white",
           "zerolinewidth": 2
          },
          "yaxis": {
           "automargin": true,
           "gridcolor": "white",
           "linecolor": "white",
           "ticks": "",
           "title": {
            "standoff": 15
           },
           "zerolinecolor": "white",
           "zerolinewidth": 2
          }
         }
        },
        "title": {
         "text": "KDE Plot of Column Means with Statistical Lines"
        },
        "xaxis": {
         "anchor": "y2",
         "autorange": true,
         "domain": [
          0,
          1
         ],
         "range": [
          -2.5455442933113397,
          1.5173681166608768
         ],
         "showgrid": false,
         "title": {
          "text": "Mean Value"
         },
         "type": "linear",
         "zeroline": false
        },
        "yaxis": {
         "anchor": "free",
         "autorange": true,
         "domain": [
          0,
          1
         ],
         "position": 0,
         "range": [
          -0.3546019037142635,
          1.8463754296846133
         ],
         "showgrid": false,
         "title": {
          "text": "Density"
         },
         "type": "linear"
        }
       }
      },
      "image/png": "[encoded data removed]",
      "text/html": [
       "<div>                            <div id=\"c0d83436-42c4-41c3-9d37-55bb29178ab2\" class=\"plotly-graph-div\" style=\"height:525px; width:100%;\"></div>            <script type=\"text/javascript\">                require([\"plotly\"], function(Plotly) {                    window.PLOTLYENV=window.PLOTLYENV || {};                                    if (document.getElementById(\"c0d83436-42c4-41c3-9d37-55bb29178ab2\")) {                    Plotly.newPlot(                        \"c0d83436-42c4-41c3-9d37-55bb29178ab2\",                        [{\"legendgroup\":\"Column Means\",\"marker\":{\"color\":\"blue\",\"line\":{\"width\":0}},\"mode\":\"lines\",\"name\":\"Column Means\",\"showlegend\":true,\"x\":[-0.9999934485696976,-0.99599351904837,-0.9919935895270424,-0.9879936600057148,-0.9839937304843872,-0.9799938009630595,-0.975993871441732,-0.9719939419204043,-0.9679940123990767,-0.9639940828777491,-0.9599941533564215,-0.9559942238350939,-0.9519942943137663,-0.9479943647924386,-0.943994435271111,-0.9399945057497834,-0.9359945762284558,-0.9319946467071282,-0.9279947171858005,-0.923994787664473,-0.9199948581431453,-0.9159949286218177,-0.9119949991004901,-0.9079950695791625,-0.9039951400578349,-0.8999952105365072,-0.8959952810151797,-0.891995351493852,-0.8879954219725245,-0.8839954924511968,-0.8799955629298692,-0.8759956334085416,-0.8719957038872139,-0.8679957743658864,-0.8639958448445587,-0.8599959153232312,-0.8559959858019035,-0.851996056280576,-0.8479961267592483,-0.8439961972379206,-0.8399962677165931,-0.8359963381952654,-0.8319964086739378,-0.8279964791526102,-0.8239965496312825,-0.819996620109955,-0.8159966905886273,-0.8119967610672998,-0.8079968315459721,-0.8039969020246445,-0.7999969725033169,-0.7959970429819893,-0.7919971134606617,-0.787997183939334,-0.7839972544180065,-0.7799973248966788,-0.7759973953753512,-0.7719974658540236,-0.767997536332696,-0.7639976068113683,-0.7599976772900408,-0.7559977477687131,-0.7519978182473855,-0.7479978887260579,-0.7439979592047303,-0.7399980296834027,-0.735998100162075,-0.7319981706407475,-0.7279982411194199,-0.7239983115980922,-0.7199983820767646,-0.715998452555437,-0.7119985230341094,-0.7079985935127817,-0.7039986639914542,-0.6999987344701265,-0.6959988049487988,-0.6919988754274713,-0.6879989459061437,-0.683999016384816,-0.6799990868634884,-0.6759991573421609,-0.6719992278208332,-0.6679992982995057,-0.663999368778178,-0.6599994392568505,-0.6559995097355228,-0.6519995802141951,-0.6479996506928676,-0.6439997211715399,-0.6399997916502123,-0.6359998621288847,-0.631999932607557,-0.6280000030862294,-0.6240000735649018,-0.6200001440435743,-0.6160002145222466,-0.612000285000919,-0.6080003554795914,-0.6040004259582639,-0.6000004964369362,-0.5960005669156085,-0.592000637394281,-0.5880007078729533,-0.5840007783516257,-0.5800008488302981,-0.5760009193089705,-0.5720009897876428,-0.5680010602663152,-0.5640011307449876,-0.5600012012236599,-0.5560012717023324,-0.5520013421810048,-0.5480014126596773,-0.5440014831383495,-0.540001553617022,-0.5360016240956944,-0.5320016945743667,-0.5280017650530391,-0.5240018355317115,-0.5200019060103839,-0.5160019764890562,-0.5120020469677287,-0.508002117446401,-0.5040021879250733,-0.5000022584037458,-0.49600232888241813,-0.4920023993610906,-0.4880024698397629,-0.48400254031843526,-0.4800026107971077,-0.47600268127578005,-0.4720027517544525,-0.46800282223312484,-0.4640028927117972,-0.4600029631904696,-0.4560030336691421,-0.4520031041478144,-0.44800317462648687,-0.4440032451051592,-0.44000331558383166,-0.436003386062504,-0.43200345654117633,-0.4280035270198488,-0.4240035974985211,-0.4200036679771936,-0.4160037384558659,-0.41200380893453825,-0.4080038794132107,-0.40400394989188304,-0.4000040203705554,-0.39600409084922783,-0.39200416132790017,-0.3880042318065726,-0.38400430228524496,-0.3800043727639173,-0.37600444324258975,-0.3720045137212621,-0.3680045841999344,-0.3640046546786069,-0.3600047251572792,-0.35600479563595167,-0.352004866114624,-0.34800493659329634,-0.3440050070719688,-0.34000507755064113,-0.3360051480293137,-0.33200521850798603,-0.32800528898665837,-0.3240053594653308,-0.32000542994400316,-0.3160055004226755,-0.31200557090134795,-0.3080056413800203,-0.30400571185869274,-0.3000057823373651,-0.2960058528160374,-0.29200592329470987,-0.2880059937733822,-0.28400606425205466,-0.280006134730727,-0.27600620520939934,-0.2720062756880718,-0.2680063461667441,-0.26400641664541646,-0.2600064871240889,-0.25600655760276125,-0.2520066280814337,-0.24800669856010604,-0.24400676903877838,-0.24000683951745083,-0.23600690999612317,-0.23200698047479562,-0.22800705095346796,-0.2240071214321403,-0.22000719191081275,-0.2160072623894852,-0.21200733286815754,-0.20800740334683,-0.20400747382550233,-0.20000754430417478,-0.19600761478284712,-0.19200768526151946,-0.1880077557401919,-0.18400782621886425,-0.18000789669753658,-0.17600796717620903,-0.17200803765488137,-0.16800810813355382,-0.16400817861222616,-0.1600082490908985,-0.15600831956957095,-0.1520083900482433,-0.14800846052691574,-0.14400853100558808,-0.14000860148426042,-0.13600867196293287,-0.1320087424416052,-0.12800881292027755,-0.12400888339895,-0.12000895387762234,-0.11600902435629479,-0.11200909483496713,-0.10800916531363947,-0.10400923579231192,-0.10000930627098426,-0.09600937674965682,-0.09200944722832916,-0.0880095177070015,-0.08400958818567394,-0.08000965866434628,-0.07600972914301862,-0.07200979962169107,-0.06800987010036341,-0.06400994057903586,-0.0600100110577082,-0.05601008153638054,-0.05201015201505299,-0.04801022249372533,-0.04401029297239767,-0.04001036345107012,-0.03601043392974246,-0.03201050440841491,-0.028010574887087247,-0.024010645365759586,-0.020010715844432037,-0.016010786323104376,-0.012010856801776826,-0.008010927280449165,-0.004010997759121504,-1.1068237793954161e-05,0.003988861283533596,0.007988790804861368,0.011988720326188917,0.015988649847516467,0.019988579368844017,0.02398850889017179,0.02798843841149934,0.03198836793282711,0.03598829745415444,0.03998822697548221,0.04398815649680976,0.04798808601813753,0.05198801553946508,0.05598794506079263,0.05998787458212018,0.06398780410344795,0.0679877336247755,0.07198766314610328,0.07598759266743083,0.07998752218875838,0.08398745171008593,0.08798738123141348,0.09198731075274125,0.0959872402740688,0.09998716979539635,0.1039870993167239,0.10798702883805167,0.11198695835937922,0.11598688788070699,0.11998681740203432,0.12398674692336209,0.12798667644468964,0.1319866059660174,0.13598653548734496,0.1399864650086725,0.14398639453000006,0.14798632405132783,0.15198625357265538,0.15598618309398316,0.15998611261531048,0.16398604213663825,0.1679859716579658,0.17198590117929358,0.17598583070062113,0.1799857602219489,0.18398568974327623,0.187985619264604,0.19198554878593155,0.19598547830725932,0.19998540782858687,0.2039853373499142,0.20798526687124197,0.21198519639256952,0.2159851259138973,0.21998505543522484,0.2239849849565524,0.22798491447787994,0.2319848439992077,0.23598477352053526,0.23998470304186303,0.24398463256319036,0.24798456208451813,0.2519844916058457,0.25598442112717346,0.259984350648501,0.2639842801698288,0.2679842096911561,0.2719841392124839,0.2759840687338114,0.2799839982551392,0.28398392777646675,0.2879838572977943,0.29198378681912185,0.2959837163404496,0.29998364586177717,0.30398357538310494,0.30798350490443227,0.31198343442576004,0.3159833639470876,0.31998329346841536,0.3239832229897429,0.32798315251107024,0.331983082032398,0.33598301155372556,0.33998294107505334,0.3439828705963809,0.34798280011770844,0.351982729639036,0.35598265916036376,0.3599825886816913,0.3639825182030191,0.36798244772434663,0.3719823772456742,0.37598230676700173,0.3799822362883295,0.38398216580965705,0.3879820953309848,0.39198202485231215,0.3959819543736399,0.39998188389496747,0.40398181341629524,0.4079817429376228,0.41198167245895034,0.4159816019802779,0.41998153150160566,0.4239814610229332,0.427981390544261,0.4319813200655883,0.4359812495869161,0.43998117910824364,0.4439811086295714,0.44798103815089896,0.4519809676722265,0.45598089719355406,0.4599808267148816,0.4639807562362094,0.46798068575753693,0.4719806152788647,0.47598054480019203,0.4799804743215198,0.48398040384284735,0.4879803333641751,0.4919802628855027,0.4959801924068302,0.4999801219281578,0.5039800514494855,0.5079799809708131,0.5119799104921409,0.5159798400134682,0.519979769534796,0.5239796990561235,0.5279796285774513,0.5319795580987788,0.5359794876201064,0.5399794171414339,0.5439793466627617,0.5479792761840893,0.551979205705417,0.5559791352267446,0.5599790647480721,0.5639789942693997,0.5679789237907272,0.571978853312055,0.5759787828333826,0.5799787123547101,0.5839786418760377,0.5879785713973654,0.591978500918693,0.5959784304400207,0.5999783599613481,0.6039782894826758,0.6079782190040034,0.6119781485253312,0.6159780780466587,0.6199780075679863,0.6239779370893138,0.6279778666106416,0.6319777961319691,0.6359777256532969,0.6399776551746245,0.643977584695952,0.6479775142172796,0.6519774437386073,0.6559773732599349,0.6599773027812627,0.66397723230259,0.6679771618239178,0.6719770913452453,0.6759770208665731,0.6799769503879006,0.6839768799092282,0.6879768094305557,0.6919767389518833,0.695976668473211,0.6999765979945386,0.7039765275158661,0.7079764570371937,0.7119763865585215,0.715976316079849,0.7199762456011768,0.7239761751225043,0.7279761046438319,0.7319760341651594,0.7359759636864872,0.7399758932078148,0.7439758227291425,0.7479757522504699,0.7519756817717976,0.7559756112931252,0.759975540814453,0.7639754703357805,0.767975399857108,0.7719753293784356,0.7759752588997634,0.7799751884210909,0.7839751179424187,0.787975047463746,0.7919749769850738,0.7959749065064013,0.7999748360277291,0.8039747655490567,0.807974695070384,0.8119746245917118,0.8159745541130393,0.8199744836343671,0.8239744131556946,0.8279743426770224,0.8319742721983497,0.8359742017196775,0.8399741312410051,0.8439740607623328,0.8479739902836604,0.8519739198049879,0.8559738493263155,0.8599737788476433,0.8639737083689708,0.8679736378902986,0.8719735674116259,0.8759734969329537,0.8799734264542812,0.883973355975609,0.8879732854969365,0.8919732150182641,0.8959731445395916,0.8999730740609194,0.903973003582247,0.9079729331035747,0.9119728626249023,0.9159727921462298,0.9199727216675574,0.9239726511888852,0.9279725807102127,0.9319725102315403,0.9359724397528678,0.9399723692741954,0.9439722987955231,0.9479722283168507,0.9519721578381785,0.9559720873595058,0.9599720168808336,0.9639719464021611,0.9679718759234889,0.9719718054448164,0.975971734966144,0.9799716644874715,0.9839715940087993,0.9879715235301268,0.9919714530514546,0.995971382572782],\"xaxis\":\"x\",\"y\":[1.5163897127402874,1.5272870290705265,1.5371558997461277,1.5459836669762475,1.553760291739357,1.5604783810525105,1.5661332039001625,1.5707226957726586,1.5742474518327987,1.57671070879688,1.578118315683571,1.5784786936496995,1.5778027851955978,1.5761039930839265,1.5733981093743887,1.5697032350317826,1.5650396906162067,1.5594299186118756,1.5528983779937058,1.5454714316695621,1.5371772274694036,1.5280455733810967,1.5181078077560337,1.5073966652255644,1.495946139082142,1.4837913408860928,1.470968358061226,1.4575141102392282,1.4434662051044285,1.428862794477562,1.413742431359148,1.398143928630817,1.3821062200865897,1.3656682244355813,1.3488687128839165,1.3317461808664255,1.3143387244591174,1.296683921960808,1.2788187210882636,1.2607793321832081,1.242601127782241,1.2243185488530353,1.2059650179513897,1.1875728595054924,1.1691732273854596,1.1507960398686907,1.132469922065074,1.1142221558209695,1.0960786370771112,1.0780638406140135,1.0602007920787402,1.0425110471496184,1.0250146776607056,1.0077302644755797,0.9906748968707499,0.9738641781623608,0.9573122372864047,0.9410317460219604,0.9250339415294211,0.9093286538609778,0.893924338088968,0.8788281106887421,0.8640457898067336,0.8495819390408991,0.835439914360024,0.8216219137897365,0.8081290294971649,0.7949613019119642,0.7821177755294623,0.7695965560513014,0.7573948685303019,0.7455091161988889,0.7339349396744491,0.7226672762498877,0.7117004189935668,0.70102807539935,0.6906434253445765,0.6805391781312101,0.6707076284032396,0.6611407107509681,0.651830052830776,0.642767026846282,0.6339427992542639,0.6253483785754085,0.6169746612065063,0.6088124751464069,0.6008526215634001,0.5930859141461178,0.5855032161939651,0.5780954754161034,0.5708537564203493,0.5637692708847568,0.5568334054154748,0.550037747104231,0.5433741068079934,0.5368345401816003,0.5304113665017457,0.5240971853275291,0.5178848910488533,0.5117676853794204,0.5057390878558538,0.4997929444086378,0.4939234340742243,0.48812507392067084,0.4823927222618221,0.47672158023711975,0.47110719183587824,0.4655454424461358,0.46003255600919724,0.4545650908616051,0.4491399343466412,0.44375429627753954,0.4384057013344718,0.433091980476947,0.4278112614527713,0.42256195848393235,0.41734276120885905,0.41215262295950866,0.406990748450497,0.40185658095615046,0.39674978905000885,0.3916702529796104,0.3866180507478616,0.3815934439704194,0.37659686357666133,0.37162889541985095,0.3666902658600041,0.3617818273807561,0.356904544299284,0.35205947862590026,0.3472477761275184,0.34247065264655047,0.3377293807241686,0.3330252765741081,0.3283596874503373,0.3237339794489989,0.31914952578207867,0.3146076955571356,0.31010984309439704,0.3056572978092948,0.30125135468534375,0.2968932653590744,0.2925842298354078,0.28832538884869563,0.28411781688135,0.2799625158488068,0.2758604094563283,0.2718123382300962,0.2678190552218666,0.2638812223835401,0.2599994076050463,0.25617408240612227,0.2524056202698878,0.2486942956035284,0.24504028330895583,0.2414436589440341,0.2379043994528165,0.23442238444125554,0.23099739797306487,0.22762913085877604,0.22431718340958404,0.22106106862634028,0.21786021579294534,0.214713974442568,0.2116216186643519,0.20858235171783074,0.20559531092191197,0.2026595727851545,0.19977415834409495,0.19693803867657808,0.19415014055740634,0.19140935222411776,0.18871452922138587,0.18606450029329147,0.1834580732936459,0.1808940410855601,0.17837118740258956,0.17588829264497696,0.17344413958583788,0.17103751896346464,0.1686672349373705,0.16633211038711246,0.16403099203448268,0.1617627553711009,0.15952630937504333,0.1573206010016006,0.15514461943483135,0.15299740008805748,0.15087802834293554,0.14878564301819278,0.1467194395605243,0.14467867295152761,0.14266266032587283,0.1406707832971684,0.13870248998921844,0.13675729677150777,0.13483478969887017,0.13293462565630726,0.13105653321093427,0.12920031317392286,0.12736583887617345,0.12555305616224074,0.12376198310778952,0.12199270946651082,0.12024539585308743,0.1185202726693467,0.11681763878128316,0.11513785995510951,0.11348136706093152,0.11184865405303973,0.11024027573618526,0.1086568453275168,0.1070990318241683,0.10556755718675355,0.10406319334925992,0.10258675906606386,0.10113911660698534,0.0997211683114788,0.09833385301322023,0.09697814234649749,0.095655036945941,0.09436556255124434,0.09311076602863325,0.09189171132092284,0.09070947533807877,0.08956514380025886,0.08845980704535898,0.08739455581311197,0.08637047701780423,0.08538864952167516,0.08445013992104225,0.08355599835714748,0.08270725436367318,0.08190491276278215,0.08114994962143524,0.08044330827962141,0.07978589546195594,0.07917857748395886,0.07862217656408205,0.07811746725235062,0.07766517298619512,0.07726596278378238,0.07692044808481296,0.07662917974841639,0.07639264521738323,0.07621126585758273,0.07608539448094936,0.0760153130599876,0.07600123064122408,0.07604328146453253,0.07614152329470761,0.07629593597109433,0.07650642018048719,0.07677279645790505,0.07709480441921414,0.07747210222891757,0.07790426630577636,0.07839079126823985,0.07893109012097085,0.07952449468306898,0.08017025625786282,0.08086754654345768,0.081615458782484,0.08241300914880118,0.0832591383681742,0.08415271356923917,0.08509253036037141,0.08607731512736662,0.08710572754613231,0.08817636330396378,0.08928775702223997,0.09043838537277775,0.09162667037943137,0.0928509828958831,0.09410964625001762,0.09540094004463794,0.09672310410379256,0.0980743425533967,0.0994528280243592,0.10085670596594443,0.10228409905664645,0.10373311169943997,0.1052018345878994,0.1066883493293057,0.10819073311057392,0.10970706339253687,0.11123542261789411,0.11277390291793638,0.1143206108029962,0.115873671821477,0.11743123517222989,0.11899147825504353,0.12055261114404074,0.1221128809688476,0.12367057618854344,0.12522403074358393,0.126771628071119,0.12831180496944106,0.12984305529763285,0.13136393349690553,0.13287305792057638,0.13436911396016996,0.13585085695569385,0.13731711487880446,0.13876679077824836,0.14019886497774847,0.14161239701729234,0.14300652732965538,0.1443804786449072,0.14573355711660746,0.14706515316441945,0.14837474202891618,0.14966188403545014,0.15092622456509566,0.15216749373181876,0.15338550576623172,0.15458015810749082,0.15575143020611695,0.15689938204175619,0.15802415236112916,0.15912595664265472,0.16020508479544315,0.16126189860158088,0.1622968289117739,0.16331037260560693,0.16430308932874266,0.16527559802048178,0.16622857324609333,0.1671627413492863,0.16807887644107092,0.1689777962420742,0.16986035779609712,0.17072745307335718,0.17158000448241195,0.17241896031022186,0.17324529011017392,0.17405998005815668,0.17486402829692443,0.17565844028904637,0.17644422419868186,0.17722238632224707,0.17799392658777977,0.17875983414241603,0.17952108304691505,0.1802786280955767,0.18103340077921354,0.18178630540805613,0.1825382154105969,0.18328996982342888,0.184042369986101,0.1847961764539056,0.18555210614035306,0.1863108296998656,0.18707296915995034,0.18783909581081099,0.1886097283590192,0.18938533135050606,0.1901663138667826,0.19095302849689685,0.19174577058632092,0.19254477776256193,0.19335022973600502,0.1941622483731935,0.19498089803849242,0.19580618619889759,0.19663806428557695,0.19747642880466296,0.19832112268876878,0.1991719368797594,0.20002861213240966,0.20089084102778182,0.20175827018441175,0.20263050265474813,0.2035071004937086,0.204387587485717,0.20527145201616273,0.2061581500728944,0.20704710836305784,0.2079377275304029,0.20882938545804666,0.20972144064157758,0.21061323561739248,0.21150410043115284,0.2123933561313461,0.21328031827303298,0.21416430041701462,0.21504461760982307,0.215920589830148,0.21679154538751766,0.21765682425929833,0.21851578135230473,0.21936778967557924,0.22021224341113468,0.22104856086972924,0.2218761873189771,0.22269459767137686,0.22350329902006646,0.2243018330104006,0.22508977803567579,0.22586675124561034,0.22663241035644813,0.22738645525184562,0.228128629364,0.22885872082480033,0.2295765633771463,0.2302820370369594,0.2309750684968575,0.23165563126293812,0.23232374551666352,0.2329794776944499,0.2336229397782369,0.23425428829108005,0.23487372299264508,0.2354814852704304,0.23607785622356414,0.2366631544371663,0.23723773344649748,0.23780197889146576,0.2383563053634962,0.23890115294835762,0.2394369834701534,0.23996427644348442,0.2404835247426213,0.24099522999846534,0.24149989773610747,0.24199803226786357,0.24249013135881295,0.24297668068405037,0.24345814809905922,0.24393497774683007,0.24440758402755494,0.24487634545889464,0.24534159845693254,0.24580363106998632,0.24626267669938312,0.24671890784313727,0.24717242990016144,0.24762327507414686,0.24807139641758136,0.24851666205749023,0.24895884964535134,0.24939764107426152,0.24983261750677455,0.25026325475687317,0.2506889190692809,0.2511088633387118,0.25152222381075623,0.2519280173048003,0.2523251389977569,0.2527123608054174,0.25308833039586565,0.25345157086672604,0.25380048111496756,0.25413333692460777,0.25444829279396913,0.25474338452013184,0.25501653255393736,0.2552655461343558,0.2554881282062423,0.2556818811205278,0.2558443131107366,0.25597284553444194,0.2560648208628897,0.2561175113965938,0.25612812867926493,0.25609383357702953,0.2560117469845693,0.25587896111460523,0.2556925513221277,0.25544958840994597,0.255147151357591,0.25478234041133824,0.25435229046923397,0.253854184691472,0.25328526826338893,0.2526428622357109,0.2519243773645298,0.2511273278718719,0.25024934504663104,0.2492881906051044,0.24824176973042508,0.24710814371081058,0.24588554209775876,0.24457237430713608,0.24316724058848563,0.24166894229083716,0.24007649135681416,0.23838911898087775,0.2366062833720956,0.2347276765668559,0.23275323024240366,0.23068312048796283,0.2285177714964077,0.2262578581460102,0.2239043074485656,0.22145829884721388,0.21892126335443043,0.2162948815279108,0.21358108028937478,0.2107820285985891],\"yaxis\":\"y\",\"type\":\"scatter\",\"fill\":\"tozeroy\",\"fillcolor\":\"rgba(30,144,255,0.5)\"},{\"line\":{\"color\":\"red\",\"dash\":\"dot\",\"width\":2},\"mode\":\"lines\",\"name\":\"\\u03bc\",\"x\":[-0.5168130463466748,-0.5168130463466748],\"y\":[0,1.7363265630146696],\"type\":\"scatter\",\"showlegend\":false},{\"line\":{\"color\":\"green\",\"dash\":\"dot\",\"width\":2},\"mode\":\"lines\",\"name\":\"\\u03bc - 1*\\u03c3\",\"x\":[-1.170802971493108,-1.170802971493108],\"y\":[0,1.7363265630146696],\"type\":\"scatter\",\"showlegend\":false},{\"line\":{\"color\":\"green\",\"dash\":\"dot\",\"width\":2},\"mode\":\"lines\",\"name\":\"\\u03bc + 1*\\u03c3\",\"x\":[0.13717687879975848,0.13717687879975848],\"y\":[0,1.7363265630146696],\"type\":\"scatter\",\"showlegend\":false},{\"line\":{\"color\":\"blue\",\"dash\":\"dot\",\"width\":2},\"mode\":\"lines\",\"name\":\"\\u03bc - 2*\\u03c3\",\"x\":[-1.8247928966395413,-1.8247928966395413],\"y\":[0,1.7363265630146696],\"type\":\"scatter\",\"showlegend\":false},{\"line\":{\"color\":\"blue\",\"dash\":\"dot\",\"width\":2},\"mode\":\"lines\",\"name\":\"\\u03bc + 2*\\u03c3\",\"x\":[0.7911668039461918,0.7911668039461918],\"y\":[0,1.7363265630146696],\"type\":\"scatter\",\"showlegend\":false},{\"line\":{\"color\":\"purple\",\"dash\":\"dot\",\"width\":2},\"mode\":\"lines\",\"name\":\"\\u03bc - 3*\\u03c3\",\"x\":[-2.4787828217859746,-2.4787828217859746],\"y\":[0,1.7363265630146696],\"type\":\"scatter\",\"showlegend\":false},{\"line\":{\"color\":\"purple\",\"dash\":\"dot\",\"width\":2},\"mode\":\"lines\",\"name\":\"\\u03bc + 3*\\u03c3\",\"x\":[1.4451567290926248,1.4451567290926248],\"y\":[0,1.7363265630146696],\"type\":\"scatter\",\"showlegend\":false}],                        {\"barmode\":\"overlay\",\"hovermode\":\"closest\",\"legend\":{\"traceorder\":\"reversed\",\"title\":{\"text\":\"Legend\"}},\"xaxis\":{\"anchor\":\"y2\",\"domain\":[0.0,1.0],\"zeroline\":false,\"title\":{\"text\":\"Mean Value\"},\"showgrid\":false},\"yaxis\":{\"anchor\":\"free\",\"domain\":[0.0,1],\"position\":0.0,\"title\":{\"text\":\"Density\"},\"showgrid\":false},\"template\":{\"data\":{\"histogram2dcontour\":[{\"type\":\"histogram2dcontour\",\"colorbar\":{\"outlinewidth\":0,\"ticks\":\"\"},\"colorscale\":[[0.0,\"#0d0887\"],[0.1111111111111111,\"#46039f\"],[0.2222222222222222,\"#7201a8\"],[0.3333333333333333,\"#9c179e\"],[0.4444444444444444,\"#bd3786\"],[0.5555555555555556,\"#d8576b\"],[0.6666666666666666,\"#ed7953\"],[0.7777777777777778,\"#fb9f3a\"],[0.8888888888888888,\"#fdca26\"],[1.0,\"#f0f921\"]]}],\"choropleth\":[{\"type\":\"choropleth\",\"colorbar\":{\"outlinewidth\":0,\"ticks\":\"\"}}],\"histogram2d\":[{\"type\":\"histogram2d\",\"colorbar\":{\"outlinewidth\":0,\"ticks\":\"\"},\"colorscale\":[[0.0,\"#0d0887\"],[0.1111111111111111,\"#46039f\"],[0.2222222222222222,\"#7201a8\"],[0.3333333333333333,\"#9c179e\"],[0.4444444444444444,\"#bd3786\"],[0.5555555555555556,\"#d8576b\"],[0.6666666666666666,\"#ed7953\"],[0.7777777777777778,\"#fb9f3a\"],[0.8888888888888888,\"#fdca26\"],[1.0,\"#f0f921\"]]}],\"heatmap\":[{\"type\":\"heatmap\",\"colorbar\":{\"outlinewidth\":0,\"ticks\":\"\"},\"colorscale\":[[0.0,\"#0d0887\"],[0.1111111111111111,\"#46039f\"],[0.2222222222222222,\"#7201a8\"],[0.3333333333333333,\"#9c179e\"],[0.4444444444444444,\"#bd3786\"],[0.5555555555555556,\"#d8576b\"],[0.6666666666666666,\"#ed7953\"],[0.7777777777777778,\"#fb9f3a\"],[0.8888888888888888,\"#fdca26\"],[1.0,\"#f0f921\"]]}],\"heatmapgl\":[{\"type\":\"heatmapgl\",\"colorbar\":{\"outlinewidth\":0,\"ticks\":\"\"},\"colorscale\":[[0.0,\"#0d0887\"],[0.1111111111111111,\"#46039f\"],[0.2222222222222222,\"#7201a8\"],[0.3333333333333333,\"#9c179e\"],[0.4444444444444444,\"#bd3786\"],[0.5555555555555556,\"#d8576b\"],[0.6666666666666666,\"#ed7953\"],[0.7777777777777778,\"#fb9f3a\"],[0.8888888888888888,\"#fdca26\"],[1.0,\"#f0f921\"]]}],\"contourcarpet\":[{\"type\":\"contourcarpet\",\"colorbar\":{\"outlinewidth\":0,\"ticks\":\"\"}}],\"contour\":[{\"type\":\"contour\",\"colorbar\":{\"outlinewidth\":0,\"ticks\":\"\"},\"colorscale\":[[0.0,\"#0d0887\"],[0.1111111111111111,\"#46039f\"],[0.2222222222222222,\"#7201a8\"],[0.3333333333333333,\"#9c179e\"],[0.4444444444444444,\"#bd3786\"],[0.5555555555555556,\"#d8576b\"],[0.6666666666666666,\"#ed7953\"],[0.7777777777777778,\"#fb9f3a\"],[0.8888888888888888,\"#fdca26\"],[1.0,\"#f0f921\"]]}],\"surface\":[{\"type\":\"surface\",\"colorbar\":{\"outlinewidth\":0,\"ticks\":\"\"},\"colorscale\":[[0.0,\"#0d0887\"],[0.1111111111111111,\"#46039f\"],[0.2222222222222222,\"#7201a8\"],[0.3333333333333333,\"#9c179e\"],[0.4444444444444444,\"#bd3786\"],[0.5555555555555556,\"#d8576b\"],[0.6666666666666666,\"#ed7953\"],[0.7777777777777778,\"#fb9f3a\"],[0.8888888888888888,\"#fdca26\"],[1.0,\"#f0f921\"]]}],\"mesh3d\":[{\"type\":\"mesh3d\",\"colorbar\":{\"outlinewidth\":0,\"ticks\":\"\"}}],\"scatter\":[{\"fillpattern\":{\"fillmode\":\"overlay\",\"size\":10,\"solidity\":0.2},\"type\":\"scatter\"}],\"parcoords\":[{\"type\":\"parcoords\",\"line\":{\"colorbar\":{\"outlinewidth\":0,\"ticks\":\"\"}}}],\"scatterpolargl\":[{\"type\":\"scatterpolargl\",\"marker\":{\"colorbar\":{\"outlinewidth\":0,\"ticks\":\"\"}}}],\"bar\":[{\"error_x\":{\"color\":\"#2a3f5f\"},\"error_y\":{\"color\":\"#2a3f5f\"},\"marker\":{\"line\":{\"color\":\"#E5ECF6\",\"width\":0.5},\"pattern\":{\"fillmode\":\"overlay\",\"size\":10,\"solidity\":0.2}},\"type\":\"bar\"}],\"scattergeo\":[{\"type\":\"scattergeo\",\"marker\":{\"colorbar\":{\"outlinewidth\":0,\"ticks\":\"\"}}}],\"scatterpolar\":[{\"type\":\"scatterpolar\",\"marker\":{\"colorbar\":{\"outlinewidth\":0,\"ticks\":\"\"}}}],\"histogram\":[{\"marker\":{\"pattern\":{\"fillmode\":\"overlay\",\"size\":10,\"solidity\":0.2}},\"type\":\"histogram\"}],\"scattergl\":[{\"type\":\"scattergl\",\"marker\":{\"colorbar\":{\"outlinewidth\":0,\"ticks\":\"\"}}}],\"scatter3d\":[{\"type\":\"scatter3d\",\"line\":{\"colorbar\":{\"outlinewidth\":0,\"ticks\":\"\"}},\"marker\":{\"colorbar\":{\"outlinewidth\":0,\"ticks\":\"\"}}}],\"scattermapbox\":[{\"type\":\"scattermapbox\",\"marker\":{\"colorbar\":{\"outlinewidth\":0,\"ticks\":\"\"}}}],\"scatterternary\":[{\"type\":\"scatterternary\",\"marker\":{\"colorbar\":{\"outlinewidth\":0,\"ticks\":\"\"}}}],\"scattercarpet\":[{\"type\":\"scattercarpet\",\"marker\":{\"colorbar\":{\"outlinewidth\":0,\"ticks\":\"\"}}}],\"carpet\":[{\"aaxis\":{\"endlinecolor\":\"#2a3f5f\",\"gridcolor\":\"white\",\"linecolor\":\"white\",\"minorgridcolor\":\"white\",\"startlinecolor\":\"#2a3f5f\"},\"baxis\":{\"endlinecolor\":\"#2a3f5f\",\"gridcolor\":\"white\",\"linecolor\":\"white\",\"minorgridcolor\":\"white\",\"startlinecolor\":\"#2a3f5f\"},\"type\":\"carpet\"}],\"table\":[{\"cells\":{\"fill\":{\"color\":\"#EBF0F8\"},\"line\":{\"color\":\"white\"}},\"header\":{\"fill\":{\"color\":\"#C8D4E3\"},\"line\":{\"color\":\"white\"}},\"type\":\"table\"}],\"barpolar\":[{\"marker\":{\"line\":{\"color\":\"#E5ECF6\",\"width\":0.5},\"pattern\":{\"fillmode\":\"overlay\",\"size\":10,\"solidity\":0.2}},\"type\":\"barpolar\"}],\"pie\":[{\"automargin\":true,\"type\":\"pie\"}]},\"layout\":{\"autotypenumbers\":\"strict\",\"colorway\":[\"#636efa\",\"#EF553B\",\"#00cc96\",\"#ab63fa\",\"#FFA15A\",\"#19d3f3\",\"#FF6692\",\"#B6E880\",\"#FF97FF\",\"#FECB52\"],\"font\":{\"color\":\"#2a3f5f\"},\"hovermode\":\"closest\",\"hoverlabel\":{\"align\":\"left\"},\"paper_bgcolor\":\"white\",\"plot_bgcolor\":\"#E5ECF6\",\"polar\":{\"bgcolor\":\"#E5ECF6\",\"angularaxis\":{\"gridcolor\":\"white\",\"linecolor\":\"white\",\"ticks\":\"\"},\"radialaxis\":{\"gridcolor\":\"white\",\"linecolor\":\"white\",\"ticks\":\"\"}},\"ternary\":{\"bgcolor\":\"#E5ECF6\",\"aaxis\":{\"gridcolor\":\"white\",\"linecolor\":\"white\",\"ticks\":\"\"},\"baxis\":{\"gridcolor\":\"white\",\"linecolor\":\"white\",\"ticks\":\"\"},\"caxis\":{\"gridcolor\":\"white\",\"linecolor\":\"white\",\"ticks\":\"\"}},\"coloraxis\":{\"colorbar\":{\"outlinewidth\":0,\"ticks\":\"\"}},\"colorscale\":{\"sequential\":[[0.0,\"#0d0887\"],[0.1111111111111111,\"#46039f\"],[0.2222222222222222,\"#7201a8\"],[0.3333333333333333,\"#9c179e\"],[0.4444444444444444,\"#bd3786\"],[0.5555555555555556,\"#d8576b\"],[0.6666666666666666,\"#ed7953\"],[0.7777777777777778,\"#fb9f3a\"],[0.8888888888888888,\"#fdca26\"],[1.0,\"#f0f921\"]],\"sequentialminus\":[[0.0,\"#0d0887\"],[0.1111111111111111,\"#46039f\"],[0.2222222222222222,\"#7201a8\"],[0.3333333333333333,\"#9c179e\"],[0.4444444444444444,\"#bd3786\"],[0.5555555555555556,\"#d8576b\"],[0.6666666666666666,\"#ed7953\"],[0.7777777777777778,\"#fb9f3a\"],[0.8888888888888888,\"#fdca26\"],[1.0,\"#f0f921\"]],\"diverging\":[[0,\"#8e0152\"],[0.1,\"#c51b7d\"],[0.2,\"#de77ae\"],[0.3,\"#f1b6da\"],[0.4,\"#fde0ef\"],[0.5,\"#f7f7f7\"],[0.6,\"#e6f5d0\"],[0.7,\"#b8e186\"],[0.8,\"#7fbc41\"],[0.9,\"#4d9221\"],[1,\"#276419\"]]},\"xaxis\":{\"gridcolor\":\"white\",\"linecolor\":\"white\",\"ticks\":\"\",\"title\":{\"standoff\":15},\"zerolinecolor\":\"white\",\"automargin\":true,\"zerolinewidth\":2},\"yaxis\":{\"gridcolor\":\"white\",\"linecolor\":\"white\",\"ticks\":\"\",\"title\":{\"standoff\":15},\"zerolinecolor\":\"white\",\"automargin\":true,\"zerolinewidth\":2},\"scene\":{\"xaxis\":{\"backgroundcolor\":\"#E5ECF6\",\"gridcolor\":\"white\",\"linecolor\":\"white\",\"showbackground\":true,\"ticks\":\"\",\"zerolinecolor\":\"white\",\"gridwidth\":2},\"yaxis\":{\"backgroundcolor\":\"#E5ECF6\",\"gridcolor\":\"white\",\"linecolor\":\"white\",\"showbackground\":true,\"ticks\":\"\",\"zerolinecolor\":\"white\",\"gridwidth\":2},\"zaxis\":{\"backgroundcolor\":\"#E5ECF6\",\"gridcolor\":\"white\",\"linecolor\":\"white\",\"showbackground\":true,\"ticks\":\"\",\"zerolinecolor\":\"white\",\"gridwidth\":2}},\"shapedefaults\":{\"line\":{\"color\":\"#2a3f5f\"}},\"annotationdefaults\":{\"arrowcolor\":\"#2a3f5f\",\"arrowhead\":0,\"arrowwidth\":1},\"geo\":{\"bgcolor\":\"white\",\"landcolor\":\"#E5ECF6\",\"subunitcolor\":\"white\",\"showland\":true,\"showlakes\":true,\"lakecolor\":\"white\"},\"title\":{\"x\":0.05},\"mapbox\":{\"style\":\"light\"}}},\"annotations\":[{\"font\":{\"color\":\"red\"},\"showarrow\":false,\"text\":\"\\u03bc\",\"x\":-0.5168130463466748,\"xshift\":0,\"y\":0,\"yshift\":-20},{\"font\":{\"color\":\"green\"},\"showarrow\":false,\"text\":\"\\u03bc - 1*\\u03c3\",\"x\":-1.170802971493108,\"xshift\":0,\"y\":0,\"yshift\":-20},{\"font\":{\"color\":\"green\"},\"showarrow\":false,\"text\":\"\\u03bc + 1*\\u03c3\",\"x\":0.13717687879975848,\"xshift\":0,\"y\":0,\"yshift\":-20},{\"font\":{\"color\":\"blue\"},\"showarrow\":false,\"text\":\"\\u03bc - 2*\\u03c3\",\"x\":-1.8247928966395413,\"xshift\":0,\"y\":0,\"yshift\":-20},{\"font\":{\"color\":\"blue\"},\"showarrow\":false,\"text\":\"\\u03bc + 2*\\u03c3\",\"x\":0.7911668039461918,\"xshift\":0,\"y\":0,\"yshift\":-20},{\"font\":{\"color\":\"purple\"},\"showarrow\":false,\"text\":\"\\u03bc - 3*\\u03c3\",\"x\":-2.4787828217859746,\"xshift\":0,\"y\":0,\"yshift\":-20},{\"font\":{\"color\":\"purple\"},\"showarrow\":false,\"text\":\"\\u03bc + 3*\\u03c3\",\"x\":1.4451567290926248,\"xshift\":0,\"y\":0,\"yshift\":-20}],\"title\":{\"text\":\"KDE Plot of Column Means with Statistical Lines\"}},                        {\"responsive\": true}                    ).then(function(){\n",
       "                            \n",
       "var gd = document.getElementById('c0d83436-42c4-41c3-9d37-55bb29178ab2');\n",
       "var x = new MutationObserver(function (mutations, observer) {{\n",
       "        var display = window.getComputedStyle(gd).display;\n",
       "        if (!display || display === 'none') {{\n",
       "            console.log([gd, 'removed!']);\n",
       "            Plotly.purge(gd);\n",
       "            observer.disconnect();\n",
       "        }}\n",
       "}});\n",
       "\n",
       "// Listen for the removal of the full notebook cells\n",
       "var notebookContainer = gd.closest('#notebook-container');\n",
       "if (notebookContainer) {{\n",
       "    x.observe(notebookContainer, {childList: true});\n",
       "}}\n",
       "\n",
       "// Listen for the clearing of the current output cell\n",
       "var outputEl = gd.closest('.output');\n",
       "if (outputEl) {{\n",
       "    x.observe(outputEl, {childList: true});\n",
       "}}\n",
       "\n",
       "                        })                };                });            </script>        </div>"
      ]
     },
     "metadata": {},
     "output_type": "display_data"
    }
   ],
   "source": [
    "# Assuming 'df' is your DataFrame\n",
    "# Calculate the mean for each numeric column, ignoring NaN values\n",
    "means = df.select_dtypes(include=[np.number]).mean()\n",
    "\n",
    "# Compute overall mean and standard deviation of these means\n",
    "overall_mean = means.mean()\n",
    "overall_std = means.std()\n",
    "\n",
    "# Create a simple KDE plot using Plotly's Figure Factory\n",
    "fig = ff.create_distplot([means.dropna()], ['Column Means'], show_hist=False, show_rug=False)\n",
    "\n",
    "# Add vertical lines for mean and mean ± standard deviations\n",
    "lines = [overall_mean, overall_mean - overall_std, overall_mean + overall_std,\n",
    "         overall_mean - 2 * overall_std, overall_mean + 2 * overall_std,\n",
    "         overall_mean - 3 * overall_std, overall_mean + 3 * overall_std]\n",
    "colors = ['red', 'green', 'green', 'blue', 'blue', 'purple', 'purple']\n",
    "names = ['μ', 'μ - 1*σ', 'μ + 1*σ', 'μ - 2*σ', 'μ + 2*σ', 'μ - 3*σ', 'μ + 3*σ']\n",
    "line_style = dict(dash='dot', width=2)\n",
    "\n",
    "# Update density plot to have a filled color with transparency\n",
    "fig.data[0].update(\n",
    "    marker=dict(color='blue', line=dict(width=0)),\n",
    "    fill='tozeroy',\n",
    "    fillcolor='rgba(30,144,255,0.5)'\n",
    ")\n",
    "\n",
    "# Max density for y-scale of lines\n",
    "max_density = fig.data[0].y.max() * 1.1  # Scale it a bit for visual clarity\n",
    "\n",
    "# Add dotted vertical lines and x-axis annotations for the statistical measures\n",
    "for line, color, name in zip(lines, colors, names):\n",
    "    fig.add_trace(go.Scatter(\n",
    "        x=[line, line],\n",
    "        y=[0, max_density],  # Extend from 0 to max density for visibility\n",
    "        mode='lines',\n",
    "        line=dict(color=color, **line_style),\n",
    "        name=name\n",
    "    ))\n",
    "\n",
    "    # Add annotations directly on the x-axis for each line\n",
    "    fig.add_annotation(\n",
    "        x=line, y=0,\n",
    "        text=name,\n",
    "        showarrow=False,\n",
    "        yshift=-20,\n",
    "        xshift=-5 if 'Mean' in name else 0,\n",
    "        font=dict(color=color)\n",
    "    )\n",
    "\n",
    "# Remove legend for vertical lines\n",
    "fig.for_each_trace(\n",
    "    lambda trace: trace.update(showlegend=False) if trace.name in names else (),\n",
    ")\n",
    "\n",
    "# Update layout for better visualization\n",
    "fig.update_layout(\n",
    "    title='KDE Plot of Column Means with Statistical Lines',\n",
    "    xaxis_title='Mean Value',\n",
    "    yaxis_title='Density',\n",
    "    legend_title='Legend',\n",
    "    xaxis=dict(showgrid=False),\n",
    "    yaxis=dict(showgrid=False)\n",
    ")\n",
    "\n",
    "# Show the plot\n",
    "fig.show()"
   ]
  },
  {
   "cell_type": "code",
   "execution_count": 21,
   "id": "721c13a3-8198-43e4-93b2-3e63657ca907",
   "metadata": {},
   "outputs": [],
   "source": [
    "# Define a function to categorize based on the overall mean and standard deviation\n",
    "def categorize_value(x, overall_mean, overall_std):\n",
    "    if x == 0:\n",
    "        return 0\n",
    "    elif x > overall_mean + overall_std:\n",
    "        return 1\n",
    "    elif x < overall_mean - overall_std:\n",
    "        return -1\n",
    "    else:\n",
    "        return 0"
   ]
  },
  {
   "cell_type": "code",
   "execution_count": 22,
   "id": "fc928048-bdc9-4d10-b26d-86ab0c4e6930",
   "metadata": {},
   "outputs": [],
   "source": [
    "def save_plot(fig, filename):\n",
    "    \"\"\" Save the Plotly figure as HTML \"\"\"\n",
    "    plot(fig, filename=filename, auto_open=False)"
   ]
  },
  {
   "cell_type": "code",
   "execution_count": 23,
   "id": "b3f1781a-c719-4aa5-844a-2849ac9c527c",
   "metadata": {},
   "outputs": [],
   "source": [
    "# Custom function to calculate Mean Absolute Deviation\n",
    "def calculate_mad(column):\n",
    "    mean = column.mean()\n",
    "    return (column - mean).abs().mean()"
   ]
  },
  {
   "cell_type": "code",
   "execution_count": 24,
   "id": "835650a2-04df-4464-95ff-837ba47c7e59",
   "metadata": {},
   "outputs": [],
   "source": [
    "def silhouette_plot(k, cluster_labels, silhouette_avg, sample_silhouette_values, folder_path, top_n_percent):\n",
    "    fig = go.Figure()\n",
    "    y_lower = 10  # Initial lower margin for the silhouette plot\n",
    "    cluster_info = []  # To store info about clusters for the legend\n",
    "\n",
    "    for i in range(k):\n",
    "        # Aggregate the silhouette scores for samples belonging to cluster i, and sort them\n",
    "        ith_cluster_silhouette_values = sample_silhouette_values[cluster_labels == i]\n",
    "        ith_cluster_silhouette_values.sort()\n",
    "        \n",
    "        size_cluster_i = ith_cluster_silhouette_values.shape[0]\n",
    "        y_upper = y_lower + size_cluster_i\n",
    "        cluster_info.append(f\"Cluster {i} [{size_cluster_i} patients]\")  # Append cluster info for legend\n",
    "\n",
    "        fig.add_trace(go.Scatter(\n",
    "            x=ith_cluster_silhouette_values,\n",
    "            y=np.arange(y_lower, y_upper),\n",
    "            mode='lines',\n",
    "            line=dict(width=0.5),\n",
    "            fill='tozerox',\n",
    "            name=f'Cluster {i} [{size_cluster_i} patients]'\n",
    "        ))\n",
    "\n",
    "        y_lower = y_upper + 10  # Gap between silhouettes\n",
    "\n",
    "    # Red dashed line for average silhouette score\n",
    "    fig.add_trace(go.Scatter(\n",
    "        x=[silhouette_avg, silhouette_avg],\n",
    "        y=[0, y_lower],\n",
    "        mode='lines',\n",
    "        line=dict(color=\"red\", dash='dash', width=2),\n",
    "        name='Average silhouette score'\n",
    "    ))\n",
    "\n",
    "    # Update plot layout\n",
    "    fig.update_layout(\n",
    "        title=f'Silhouette Analysis for k={k} Clusters for top {top_n_percent}% features <br>Average silhouette score {silhouette_avg:.4f}',\n",
    "        xaxis_title='Silhouette Coefficient Values',\n",
    "        yaxis_title='Cluster Label',\n",
    "        yaxis=dict(range=[-0.1, y_lower + 10], showticklabels=False),\n",
    "        showlegend=True\n",
    "    )\n",
    "\n",
    "    # Save and display the figure\n",
    "    fig.write_html(f\"{folder_path}/silhouette_plot_k_{k}_top_feature_{top_n_percent}.html\")\n",
    "    #fig.show()"
   ]
  },
  {
   "cell_type": "code",
   "execution_count": 25,
   "id": "7fd1ddcd-4ff6-4552-ba16-5430b4fa5722",
   "metadata": {},
   "outputs": [],
   "source": [
    "def kmeans_silhouette_score(scaled_data, n_clusters, result_path, original_indices, top_percentage):\n",
    "    # Initialize and run KMeans clustering with varying number of clusters\n",
    "    #display(scaled_data)\n",
    "    kmeans = KMeans(n_clusters=n_clusters, max_iter=300, tol=1e-04, init='k-means++', n_init=10, random_state=42)\n",
    "    labels = kmeans.fit_predict(scaled_data)\n",
    "    # Calculate and return the silhouette score\n",
    "    score = silhouette_score(scaled_data, labels)\n",
    "    sample_silhouette_values = silhouette_samples(scaled_data, labels)\n",
    "    silhouette_plot(k,labels, score, sample_silhouette_values, result_path, top_percentage)\n",
    "    \n",
    "\n",
    "    # Create text files for each cluster\n",
    "    for i in range(n_clusters):\n",
    "        cluster_file_path = f\"{result_path}/cluster_{i}.txt\"\n",
    "        with open(cluster_file_path, 'w') as file:\n",
    "            indices = original_indices[labels == i]\n",
    "            for idx in indices:\n",
    "                file.write(str(idx) + '\\n')\n",
    "    return score"
   ]
  },
  {
   "cell_type": "code",
   "execution_count": 26,
   "id": "3f5ceb57-b8b9-4f69-859c-b560aa151d99",
   "metadata": {},
   "outputs": [],
   "source": [
    "def data_categorized_mad(data):\n",
    "    # Assuming 'df' is your DataFrame\n",
    "    # Calculate the mean for each numeric column, ignoring NaN values\n",
    "    means = data.select_dtypes(include=[np.number]).mean()\n",
    "    \n",
    "    # Compute overall mean and standard deviation of these means\n",
    "    overall_mean = means.mean()\n",
    "    overall_std = means.std()\n",
    "    \n",
    "    # Replace NaN values with 0\n",
    "    data.fillna(0, inplace=True)\n",
    "    \n",
    "    # Apply the categorization function to each element of the dataframe\n",
    "    for col in data.select_dtypes(include=[np.number]).columns:\n",
    "        data[col] = data[col].apply(lambda x: categorize_value(x, overall_mean, overall_std))\n",
    "    #display(data)\n",
    "    # Calculate MAD for each numeric column\n",
    "    mad_values = {col: calculate_mad(data[col]) for col in data.select_dtypes(include=[np.number]).columns}\n",
    "\n",
    "    # Sort columns by MAD in descending order\n",
    "    mad_sorted = sorted(mad_values.items(), key=lambda x: x[1], reverse=True)\n",
    "    return (data, mad_values, mad_sorted)"
   ]
  },
  {
   "cell_type": "code",
   "execution_count": 27,
   "id": "5d31f3b5-c765-4ec2-9a45-025a65a20189",
   "metadata": {},
   "outputs": [],
   "source": [
    "data_processed, mad_values, mad_sorted = data_categorized_mad(df)"
   ]
  },
  {
   "cell_type": "code",
   "execution_count": 28,
   "id": "03269f3e-a215-4807-a7e6-5a2b979baf03",
   "metadata": {},
   "outputs": [
    {
     "name": "stdout",
     "output_type": "stream",
     "text": [
      "Columns ranked by MAD (in descending order):\n",
      "chr17_30786686_30786765_30786696_30786697_A_AATCT: 0.5\n",
      "chr14_73927066_73927145_73927088_73927089_A_AT: 0.49995713305898487\n",
      "chr11_33040089_33040168_33040109_33040110_C_CTTT: 0.4996141975308642\n",
      "chr14_105625340_105625419_105625405_105625407_CA_C: 0.49961419753086417\n",
      "chr14_36235283_36235362_36235302_36235303_C_CTTTTT: 0.49931412894375854\n",
      "chr7_118322814_118322893_118322814_118322815_T_TTTTG: 0.4989283264746228\n",
      "chr20_62733143_62733222_62733162_62733163_A_ACGTTCTTT: 0.4965277777777778\n",
      "chr11_57350284_57350363_57350295_57350296_C_CTTTTTT: 0.4957133058984911\n",
      "chr16_732617_732696_732643_732644_C_CT: 0.4948131001371743\n",
      "chr19_39886546_39886625_39886592_39886594_GG_C: 0.49481310013717417\n"
     ]
    }
   ],
   "source": [
    "print(\"Columns ranked by MAD (in descending order):\")\n",
    "for col, mad in mad_sorted[0:10]:\n",
    "    print(f\"{col}: {mad}\")"
   ]
  },
  {
   "cell_type": "code",
   "execution_count": 29,
   "id": "d60cd6be-89fa-4821-bb3c-e630a382ab1e",
   "metadata": {},
   "outputs": [
    {
     "name": "stdout",
     "output_type": "stream",
     "text": [
      "Code is running for Cluster 2\n",
      "Code is running for Cluster 3\n",
      "Code is running for Cluster 4\n",
      "Code is running for Cluster 5\n"
     ]
    },
    {
     "data": {
      "application/vnd.plotly.v1+json": {
       "config": {
        "plotlyServerURL": "https://plot.ly"
       },
       "data": [
        {
         "mode": "lines+markers",
         "name": "k=2",
         "type": "scatter",
         "x": [
          "10%",
          "15%",
          "20%",
          "25%",
          "30%",
          "35%",
          "40%",
          "45%",
          "50%",
          "60%",
          "70%",
          "80%",
          "90%",
          "100%"
         ],
         "y": [
          0.7061129668364314,
          0.6503999397768441,
          0.4154906064201928,
          0.4154906064201928,
          0.4154906064201928,
          0.4154906064201928,
          0.4154906064201928,
          0.4154906064201928,
          0.4154906064201928,
          0.4154906064201928,
          0.4154906064201928,
          0.4154906064201928,
          0.4154906064201928,
          0.4154906064201928
         ]
        },
        {
         "mode": "lines+markers",
         "name": "k=3",
         "type": "scatter",
         "x": [
          "10%",
          "15%",
          "20%",
          "25%",
          "30%",
          "35%",
          "40%",
          "45%",
          "50%",
          "60%",
          "70%",
          "80%",
          "90%",
          "100%"
         ],
         "y": [
          0.044142605510766514,
          0.4556427206856669,
          0.06592902817998933,
          0.06592902817998933,
          0.06592902817998933,
          0.06592902817998933,
          0.06592902817998933,
          0.06592902817998933,
          0.06592902817998933,
          0.06592902817998933,
          0.06592902817998933,
          0.06592902817998933,
          0.06592902817998933,
          0.06592902817998933
         ]
        },
        {
         "mode": "lines+markers",
         "name": "k=4",
         "type": "scatter",
         "x": [
          "10%",
          "15%",
          "20%",
          "25%",
          "30%",
          "35%",
          "40%",
          "45%",
          "50%",
          "60%",
          "70%",
          "80%",
          "90%",
          "100%"
         ],
         "y": [
          0.05616175974667873,
          0.450887919418471,
          0.04669115937714081,
          0.046691159377140794,
          0.046691159377140794,
          0.046691159377140794,
          0.046691159377140794,
          0.046691159377140794,
          0.046691159377140794,
          0.046691159377140794,
          0.046691159377140794,
          0.046691159377140794,
          0.046691159377140794,
          0.046691159377140794
         ]
        },
        {
         "mode": "lines+markers",
         "name": "k=5",
         "type": "scatter",
         "x": [
          "10%",
          "15%",
          "20%",
          "25%",
          "30%",
          "35%",
          "40%",
          "45%",
          "50%",
          "60%",
          "70%",
          "80%",
          "90%",
          "100%"
         ],
         "y": [
          0.03408225249888444,
          -0.03047525432964691,
          -0.011560140668489595,
          -0.011560140668489613,
          -0.011560140668489613,
          -0.011560140668489613,
          -0.011560140668489613,
          -0.011560140668489613,
          -0.011560140668489613,
          -0.011560140668489613,
          -0.011560140668489613,
          -0.011560140668489613,
          -0.011560140668489613,
          -0.011560140668489613
         ]
        }
       ],
       "layout": {
        "autosize": true,
        "legend": {
         "title": {
          "text": "Number of Clusters"
         }
        },
        "template": {
         "data": {
          "bar": [
           {
            "error_x": {
             "color": "#2a3f5f"
            },
            "error_y": {
             "color": "#2a3f5f"
            },
            "marker": {
             "line": {
              "color": "#E5ECF6",
              "width": 0.5
             },
             "pattern": {
              "fillmode": "overlay",
              "size": 10,
              "solidity": 0.2
             }
            },
            "type": "bar"
           }
          ],
          "barpolar": [
           {
            "marker": {
             "line": {
              "color": "#E5ECF6",
              "width": 0.5
             },
             "pattern": {
              "fillmode": "overlay",
              "size": 10,
              "solidity": 0.2
             }
            },
            "type": "barpolar"
           }
          ],
          "carpet": [
           {
            "aaxis": {
             "endlinecolor": "#2a3f5f",
             "gridcolor": "white",
             "linecolor": "white",
             "minorgridcolor": "white",
             "startlinecolor": "#2a3f5f"
            },
            "baxis": {
             "endlinecolor": "#2a3f5f",
             "gridcolor": "white",
             "linecolor": "white",
             "minorgridcolor": "white",
             "startlinecolor": "#2a3f5f"
            },
            "type": "carpet"
           }
          ],
          "choropleth": [
           {
            "colorbar": {
             "outlinewidth": 0,
             "ticks": ""
            },
            "type": "choropleth"
           }
          ],
          "contour": [
           {
            "colorbar": {
             "outlinewidth": 0,
             "ticks": ""
            },
            "colorscale": [
             [
              0,
              "#0d0887"
             ],
             [
              0.1111111111111111,
              "#46039f"
             ],
             [
              0.2222222222222222,
              "#7201a8"
             ],
             [
              0.3333333333333333,
              "#9c179e"
             ],
             [
              0.4444444444444444,
              "#bd3786"
             ],
             [
              0.5555555555555556,
              "#d8576b"
             ],
             [
              0.6666666666666666,
              "#ed7953"
             ],
             [
              0.7777777777777778,
              "#fb9f3a"
             ],
             [
              0.8888888888888888,
              "#fdca26"
             ],
             [
              1,
              "#f0f921"
             ]
            ],
            "type": "contour"
           }
          ],
          "contourcarpet": [
           {
            "colorbar": {
             "outlinewidth": 0,
             "ticks": ""
            },
            "type": "contourcarpet"
           }
          ],
          "heatmap": [
           {
            "colorbar": {
             "outlinewidth": 0,
             "ticks": ""
            },
            "colorscale": [
             [
              0,
              "#0d0887"
             ],
             [
              0.1111111111111111,
              "#46039f"
             ],
             [
              0.2222222222222222,
              "#7201a8"
             ],
             [
              0.3333333333333333,
              "#9c179e"
             ],
             [
              0.4444444444444444,
              "#bd3786"
             ],
             [
              0.5555555555555556,
              "#d8576b"
             ],
             [
              0.6666666666666666,
              "#ed7953"
             ],
             [
              0.7777777777777778,
              "#fb9f3a"
             ],
             [
              0.8888888888888888,
              "#fdca26"
             ],
             [
              1,
              "#f0f921"
             ]
            ],
            "type": "heatmap"
           }
          ],
          "heatmapgl": [
           {
            "colorbar": {
             "outlinewidth": 0,
             "ticks": ""
            },
            "colorscale": [
             [
              0,
              "#0d0887"
             ],
             [
              0.1111111111111111,
              "#46039f"
             ],
             [
              0.2222222222222222,
              "#7201a8"
             ],
             [
              0.3333333333333333,
              "#9c179e"
             ],
             [
              0.4444444444444444,
              "#bd3786"
             ],
             [
              0.5555555555555556,
              "#d8576b"
             ],
             [
              0.6666666666666666,
              "#ed7953"
             ],
             [
              0.7777777777777778,
              "#fb9f3a"
             ],
             [
              0.8888888888888888,
              "#fdca26"
             ],
             [
              1,
              "#f0f921"
             ]
            ],
            "type": "heatmapgl"
           }
          ],
          "histogram": [
           {
            "marker": {
             "pattern": {
              "fillmode": "overlay",
              "size": 10,
              "solidity": 0.2
             }
            },
            "type": "histogram"
           }
          ],
          "histogram2d": [
           {
            "colorbar": {
             "outlinewidth": 0,
             "ticks": ""
            },
            "colorscale": [
             [
              0,
              "#0d0887"
             ],
             [
              0.1111111111111111,
              "#46039f"
             ],
             [
              0.2222222222222222,
              "#7201a8"
             ],
             [
              0.3333333333333333,
              "#9c179e"
             ],
             [
              0.4444444444444444,
              "#bd3786"
             ],
             [
              0.5555555555555556,
              "#d8576b"
             ],
             [
              0.6666666666666666,
              "#ed7953"
             ],
             [
              0.7777777777777778,
              "#fb9f3a"
             ],
             [
              0.8888888888888888,
              "#fdca26"
             ],
             [
              1,
              "#f0f921"
             ]
            ],
            "type": "histogram2d"
           }
          ],
          "histogram2dcontour": [
           {
            "colorbar": {
             "outlinewidth": 0,
             "ticks": ""
            },
            "colorscale": [
             [
              0,
              "#0d0887"
             ],
             [
              0.1111111111111111,
              "#46039f"
             ],
             [
              0.2222222222222222,
              "#7201a8"
             ],
             [
              0.3333333333333333,
              "#9c179e"
             ],
             [
              0.4444444444444444,
              "#bd3786"
             ],
             [
              0.5555555555555556,
              "#d8576b"
             ],
             [
              0.6666666666666666,
              "#ed7953"
             ],
             [
              0.7777777777777778,
              "#fb9f3a"
             ],
             [
              0.8888888888888888,
              "#fdca26"
             ],
             [
              1,
              "#f0f921"
             ]
            ],
            "type": "histogram2dcontour"
           }
          ],
          "mesh3d": [
           {
            "colorbar": {
             "outlinewidth": 0,
             "ticks": ""
            },
            "type": "mesh3d"
           }
          ],
          "parcoords": [
           {
            "line": {
             "colorbar": {
              "outlinewidth": 0,
              "ticks": ""
             }
            },
            "type": "parcoords"
           }
          ],
          "pie": [
           {
            "automargin": true,
            "type": "pie"
           }
          ],
          "scatter": [
           {
            "fillpattern": {
             "fillmode": "overlay",
             "size": 10,
             "solidity": 0.2
            },
            "type": "scatter"
           }
          ],
          "scatter3d": [
           {
            "line": {
             "colorbar": {
              "outlinewidth": 0,
              "ticks": ""
             }
            },
            "marker": {
             "colorbar": {
              "outlinewidth": 0,
              "ticks": ""
             }
            },
            "type": "scatter3d"
           }
          ],
          "scattercarpet": [
           {
            "marker": {
             "colorbar": {
              "outlinewidth": 0,
              "ticks": ""
             }
            },
            "type": "scattercarpet"
           }
          ],
          "scattergeo": [
           {
            "marker": {
             "colorbar": {
              "outlinewidth": 0,
              "ticks": ""
             }
            },
            "type": "scattergeo"
           }
          ],
          "scattergl": [
           {
            "marker": {
             "colorbar": {
              "outlinewidth": 0,
              "ticks": ""
             }
            },
            "type": "scattergl"
           }
          ],
          "scattermapbox": [
           {
            "marker": {
             "colorbar": {
              "outlinewidth": 0,
              "ticks": ""
             }
            },
            "type": "scattermapbox"
           }
          ],
          "scatterpolar": [
           {
            "marker": {
             "colorbar": {
              "outlinewidth": 0,
              "ticks": ""
             }
            },
            "type": "scatterpolar"
           }
          ],
          "scatterpolargl": [
           {
            "marker": {
             "colorbar": {
              "outlinewidth": 0,
              "ticks": ""
             }
            },
            "type": "scatterpolargl"
           }
          ],
          "scatterternary": [
           {
            "marker": {
             "colorbar": {
              "outlinewidth": 0,
              "ticks": ""
             }
            },
            "type": "scatterternary"
           }
          ],
          "surface": [
           {
            "colorbar": {
             "outlinewidth": 0,
             "ticks": ""
            },
            "colorscale": [
             [
              0,
              "#0d0887"
             ],
             [
              0.1111111111111111,
              "#46039f"
             ],
             [
              0.2222222222222222,
              "#7201a8"
             ],
             [
              0.3333333333333333,
              "#9c179e"
             ],
             [
              0.4444444444444444,
              "#bd3786"
             ],
             [
              0.5555555555555556,
              "#d8576b"
             ],
             [
              0.6666666666666666,
              "#ed7953"
             ],
             [
              0.7777777777777778,
              "#fb9f3a"
             ],
             [
              0.8888888888888888,
              "#fdca26"
             ],
             [
              1,
              "#f0f921"
             ]
            ],
            "type": "surface"
           }
          ],
          "table": [
           {
            "cells": {
             "fill": {
              "color": "#EBF0F8"
             },
             "line": {
              "color": "white"
             }
            },
            "header": {
             "fill": {
              "color": "#C8D4E3"
             },
             "line": {
              "color": "white"
             }
            },
            "type": "table"
           }
          ]
         },
         "layout": {
          "annotationdefaults": {
           "arrowcolor": "#2a3f5f",
           "arrowhead": 0,
           "arrowwidth": 1
          },
          "autotypenumbers": "strict",
          "coloraxis": {
           "colorbar": {
            "outlinewidth": 0,
            "ticks": ""
           }
          },
          "colorscale": {
           "diverging": [
            [
             0,
             "#8e0152"
            ],
            [
             0.1,
             "#c51b7d"
            ],
            [
             0.2,
             "#de77ae"
            ],
            [
             0.3,
             "#f1b6da"
            ],
            [
             0.4,
             "#fde0ef"
            ],
            [
             0.5,
             "#f7f7f7"
            ],
            [
             0.6,
             "#e6f5d0"
            ],
            [
             0.7,
             "#b8e186"
            ],
            [
             0.8,
             "#7fbc41"
            ],
            [
             0.9,
             "#4d9221"
            ],
            [
             1,
             "#276419"
            ]
           ],
           "sequential": [
            [
             0,
             "#0d0887"
            ],
            [
             0.1111111111111111,
             "#46039f"
            ],
            [
             0.2222222222222222,
             "#7201a8"
            ],
            [
             0.3333333333333333,
             "#9c179e"
            ],
            [
             0.4444444444444444,
             "#bd3786"
            ],
            [
             0.5555555555555556,
             "#d8576b"
            ],
            [
             0.6666666666666666,
             "#ed7953"
            ],
            [
             0.7777777777777778,
             "#fb9f3a"
            ],
            [
             0.8888888888888888,
             "#fdca26"
            ],
            [
             1,
             "#f0f921"
            ]
           ],
           "sequentialminus": [
            [
             0,
             "#0d0887"
            ],
            [
             0.1111111111111111,
             "#46039f"
            ],
            [
             0.2222222222222222,
             "#7201a8"
            ],
            [
             0.3333333333333333,
             "#9c179e"
            ],
            [
             0.4444444444444444,
             "#bd3786"
            ],
            [
             0.5555555555555556,
             "#d8576b"
            ],
            [
             0.6666666666666666,
             "#ed7953"
            ],
            [
             0.7777777777777778,
             "#fb9f3a"
            ],
            [
             0.8888888888888888,
             "#fdca26"
            ],
            [
             1,
             "#f0f921"
            ]
           ]
          },
          "colorway": [
           "#636efa",
           "#EF553B",
           "#00cc96",
           "#ab63fa",
           "#FFA15A",
           "#19d3f3",
           "#FF6692",
           "#B6E880",
           "#FF97FF",
           "#FECB52"
          ],
          "font": {
           "color": "#2a3f5f"
          },
          "geo": {
           "bgcolor": "white",
           "lakecolor": "white",
           "landcolor": "#E5ECF6",
           "showlakes": true,
           "showland": true,
           "subunitcolor": "white"
          },
          "hoverlabel": {
           "align": "left"
          },
          "hovermode": "closest",
          "mapbox": {
           "style": "light"
          },
          "paper_bgcolor": "white",
          "plot_bgcolor": "#E5ECF6",
          "polar": {
           "angularaxis": {
            "gridcolor": "white",
            "linecolor": "white",
            "ticks": ""
           },
           "bgcolor": "#E5ECF6",
           "radialaxis": {
            "gridcolor": "white",
            "linecolor": "white",
            "ticks": ""
           }
          },
          "scene": {
           "xaxis": {
            "backgroundcolor": "#E5ECF6",
            "gridcolor": "white",
            "gridwidth": 2,
            "linecolor": "white",
            "showbackground": true,
            "ticks": "",
            "zerolinecolor": "white"
           },
           "yaxis": {
            "backgroundcolor": "#E5ECF6",
            "gridcolor": "white",
            "gridwidth": 2,
            "linecolor": "white",
            "showbackground": true,
            "ticks": "",
            "zerolinecolor": "white"
           },
           "zaxis": {
            "backgroundcolor": "#E5ECF6",
            "gridcolor": "white",
            "gridwidth": 2,
            "linecolor": "white",
            "showbackground": true,
            "ticks": "",
            "zerolinecolor": "white"
           }
          },
          "shapedefaults": {
           "line": {
            "color": "#2a3f5f"
           }
          },
          "ternary": {
           "aaxis": {
            "gridcolor": "white",
            "linecolor": "white",
            "ticks": ""
           },
           "baxis": {
            "gridcolor": "white",
            "linecolor": "white",
            "ticks": ""
           },
           "bgcolor": "#E5ECF6",
           "caxis": {
            "gridcolor": "white",
            "linecolor": "white",
            "ticks": ""
           }
          },
          "title": {
           "x": 0.05
          },
          "xaxis": {
           "automargin": true,
           "gridcolor": "white",
           "linecolor": "white",
           "ticks": "",
           "title": {
            "standoff": 15
           },
           "zerolinecolor": "white",
           "zerolinewidth": 2
          },
          "yaxis": {
           "automargin": true,
           "gridcolor": "white",
           "linecolor": "white",
           "ticks": "",
           "title": {
            "standoff": 15
           },
           "zerolinecolor": "white",
           "zerolinewidth": 2
          }
         }
        },
        "title": {
         "text": "Silhouette Scores for Different Numbers of Clusters"
        },
        "xaxis": {
         "autorange": true,
         "range": [
          -0.7630073036668926,
          13.763007303666893
         ],
         "title": {
          "text": "Percentage of Columns Used"
         },
         "type": "category"
        },
        "yaxis": {
         "autorange": true,
         "range": [
          -0.09126166093073104,
          0.7668993734375156
         ],
         "title": {
          "text": "Silhouette Score"
         },
         "type": "linear"
        }
       }
      },
      "image/png": "[encoded data removed]",
      "text/html": [
       "<div>                            <div id=\"70ff5d44-7538-459c-9137-96487d783825\" class=\"plotly-graph-div\" style=\"height:525px; width:100%;\"></div>            <script type=\"text/javascript\">                require([\"plotly\"], function(Plotly) {                    window.PLOTLYENV=window.PLOTLYENV || {};                                    if (document.getElementById(\"70ff5d44-7538-459c-9137-96487d783825\")) {                    Plotly.newPlot(                        \"70ff5d44-7538-459c-9137-96487d783825\",                        [{\"mode\":\"lines+markers\",\"name\":\"k=2\",\"x\":[\"10%\",\"15%\",\"20%\",\"25%\",\"30%\",\"35%\",\"40%\",\"45%\",\"50%\",\"60%\",\"70%\",\"80%\",\"90%\",\"100%\"],\"y\":[0.7061129668364314,0.6503999397768441,0.4154906064201928,0.4154906064201928,0.4154906064201928,0.4154906064201928,0.4154906064201928,0.4154906064201928,0.4154906064201928,0.4154906064201928,0.4154906064201928,0.4154906064201928,0.4154906064201928,0.4154906064201928],\"type\":\"scatter\"},{\"mode\":\"lines+markers\",\"name\":\"k=3\",\"x\":[\"10%\",\"15%\",\"20%\",\"25%\",\"30%\",\"35%\",\"40%\",\"45%\",\"50%\",\"60%\",\"70%\",\"80%\",\"90%\",\"100%\"],\"y\":[0.044142605510766514,0.4556427206856669,0.06592902817998933,0.06592902817998933,0.06592902817998933,0.06592902817998933,0.06592902817998933,0.06592902817998933,0.06592902817998933,0.06592902817998933,0.06592902817998933,0.06592902817998933,0.06592902817998933,0.06592902817998933],\"type\":\"scatter\"},{\"mode\":\"lines+markers\",\"name\":\"k=4\",\"x\":[\"10%\",\"15%\",\"20%\",\"25%\",\"30%\",\"35%\",\"40%\",\"45%\",\"50%\",\"60%\",\"70%\",\"80%\",\"90%\",\"100%\"],\"y\":[0.05616175974667873,0.450887919418471,0.04669115937714081,0.046691159377140794,0.046691159377140794,0.046691159377140794,0.046691159377140794,0.046691159377140794,0.046691159377140794,0.046691159377140794,0.046691159377140794,0.046691159377140794,0.046691159377140794,0.046691159377140794],\"type\":\"scatter\"},{\"mode\":\"lines+markers\",\"name\":\"k=5\",\"x\":[\"10%\",\"15%\",\"20%\",\"25%\",\"30%\",\"35%\",\"40%\",\"45%\",\"50%\",\"60%\",\"70%\",\"80%\",\"90%\",\"100%\"],\"y\":[0.03408225249888444,-0.03047525432964691,-0.011560140668489595,-0.011560140668489613,-0.011560140668489613,-0.011560140668489613,-0.011560140668489613,-0.011560140668489613,-0.011560140668489613,-0.011560140668489613,-0.011560140668489613,-0.011560140668489613,-0.011560140668489613,-0.011560140668489613],\"type\":\"scatter\"}],                        {\"template\":{\"data\":{\"histogram2dcontour\":[{\"type\":\"histogram2dcontour\",\"colorbar\":{\"outlinewidth\":0,\"ticks\":\"\"},\"colorscale\":[[0.0,\"#0d0887\"],[0.1111111111111111,\"#46039f\"],[0.2222222222222222,\"#7201a8\"],[0.3333333333333333,\"#9c179e\"],[0.4444444444444444,\"#bd3786\"],[0.5555555555555556,\"#d8576b\"],[0.6666666666666666,\"#ed7953\"],[0.7777777777777778,\"#fb9f3a\"],[0.8888888888888888,\"#fdca26\"],[1.0,\"#f0f921\"]]}],\"choropleth\":[{\"type\":\"choropleth\",\"colorbar\":{\"outlinewidth\":0,\"ticks\":\"\"}}],\"histogram2d\":[{\"type\":\"histogram2d\",\"colorbar\":{\"outlinewidth\":0,\"ticks\":\"\"},\"colorscale\":[[0.0,\"#0d0887\"],[0.1111111111111111,\"#46039f\"],[0.2222222222222222,\"#7201a8\"],[0.3333333333333333,\"#9c179e\"],[0.4444444444444444,\"#bd3786\"],[0.5555555555555556,\"#d8576b\"],[0.6666666666666666,\"#ed7953\"],[0.7777777777777778,\"#fb9f3a\"],[0.8888888888888888,\"#fdca26\"],[1.0,\"#f0f921\"]]}],\"heatmap\":[{\"type\":\"heatmap\",\"colorbar\":{\"outlinewidth\":0,\"ticks\":\"\"},\"colorscale\":[[0.0,\"#0d0887\"],[0.1111111111111111,\"#46039f\"],[0.2222222222222222,\"#7201a8\"],[0.3333333333333333,\"#9c179e\"],[0.4444444444444444,\"#bd3786\"],[0.5555555555555556,\"#d8576b\"],[0.6666666666666666,\"#ed7953\"],[0.7777777777777778,\"#fb9f3a\"],[0.8888888888888888,\"#fdca26\"],[1.0,\"#f0f921\"]]}],\"heatmapgl\":[{\"type\":\"heatmapgl\",\"colorbar\":{\"outlinewidth\":0,\"ticks\":\"\"},\"colorscale\":[[0.0,\"#0d0887\"],[0.1111111111111111,\"#46039f\"],[0.2222222222222222,\"#7201a8\"],[0.3333333333333333,\"#9c179e\"],[0.4444444444444444,\"#bd3786\"],[0.5555555555555556,\"#d8576b\"],[0.6666666666666666,\"#ed7953\"],[0.7777777777777778,\"#fb9f3a\"],[0.8888888888888888,\"#fdca26\"],[1.0,\"#f0f921\"]]}],\"contourcarpet\":[{\"type\":\"contourcarpet\",\"colorbar\":{\"outlinewidth\":0,\"ticks\":\"\"}}],\"contour\":[{\"type\":\"contour\",\"colorbar\":{\"outlinewidth\":0,\"ticks\":\"\"},\"colorscale\":[[0.0,\"#0d0887\"],[0.1111111111111111,\"#46039f\"],[0.2222222222222222,\"#7201a8\"],[0.3333333333333333,\"#9c179e\"],[0.4444444444444444,\"#bd3786\"],[0.5555555555555556,\"#d8576b\"],[0.6666666666666666,\"#ed7953\"],[0.7777777777777778,\"#fb9f3a\"],[0.8888888888888888,\"#fdca26\"],[1.0,\"#f0f921\"]]}],\"surface\":[{\"type\":\"surface\",\"colorbar\":{\"outlinewidth\":0,\"ticks\":\"\"},\"colorscale\":[[0.0,\"#0d0887\"],[0.1111111111111111,\"#46039f\"],[0.2222222222222222,\"#7201a8\"],[0.3333333333333333,\"#9c179e\"],[0.4444444444444444,\"#bd3786\"],[0.5555555555555556,\"#d8576b\"],[0.6666666666666666,\"#ed7953\"],[0.7777777777777778,\"#fb9f3a\"],[0.8888888888888888,\"#fdca26\"],[1.0,\"#f0f921\"]]}],\"mesh3d\":[{\"type\":\"mesh3d\",\"colorbar\":{\"outlinewidth\":0,\"ticks\":\"\"}}],\"scatter\":[{\"fillpattern\":{\"fillmode\":\"overlay\",\"size\":10,\"solidity\":0.2},\"type\":\"scatter\"}],\"parcoords\":[{\"type\":\"parcoords\",\"line\":{\"colorbar\":{\"outlinewidth\":0,\"ticks\":\"\"}}}],\"scatterpolargl\":[{\"type\":\"scatterpolargl\",\"marker\":{\"colorbar\":{\"outlinewidth\":0,\"ticks\":\"\"}}}],\"bar\":[{\"error_x\":{\"color\":\"#2a3f5f\"},\"error_y\":{\"color\":\"#2a3f5f\"},\"marker\":{\"line\":{\"color\":\"#E5ECF6\",\"width\":0.5},\"pattern\":{\"fillmode\":\"overlay\",\"size\":10,\"solidity\":0.2}},\"type\":\"bar\"}],\"scattergeo\":[{\"type\":\"scattergeo\",\"marker\":{\"colorbar\":{\"outlinewidth\":0,\"ticks\":\"\"}}}],\"scatterpolar\":[{\"type\":\"scatterpolar\",\"marker\":{\"colorbar\":{\"outlinewidth\":0,\"ticks\":\"\"}}}],\"histogram\":[{\"marker\":{\"pattern\":{\"fillmode\":\"overlay\",\"size\":10,\"solidity\":0.2}},\"type\":\"histogram\"}],\"scattergl\":[{\"type\":\"scattergl\",\"marker\":{\"colorbar\":{\"outlinewidth\":0,\"ticks\":\"\"}}}],\"scatter3d\":[{\"type\":\"scatter3d\",\"line\":{\"colorbar\":{\"outlinewidth\":0,\"ticks\":\"\"}},\"marker\":{\"colorbar\":{\"outlinewidth\":0,\"ticks\":\"\"}}}],\"scattermapbox\":[{\"type\":\"scattermapbox\",\"marker\":{\"colorbar\":{\"outlinewidth\":0,\"ticks\":\"\"}}}],\"scatterternary\":[{\"type\":\"scatterternary\",\"marker\":{\"colorbar\":{\"outlinewidth\":0,\"ticks\":\"\"}}}],\"scattercarpet\":[{\"type\":\"scattercarpet\",\"marker\":{\"colorbar\":{\"outlinewidth\":0,\"ticks\":\"\"}}}],\"carpet\":[{\"aaxis\":{\"endlinecolor\":\"#2a3f5f\",\"gridcolor\":\"white\",\"linecolor\":\"white\",\"minorgridcolor\":\"white\",\"startlinecolor\":\"#2a3f5f\"},\"baxis\":{\"endlinecolor\":\"#2a3f5f\",\"gridcolor\":\"white\",\"linecolor\":\"white\",\"minorgridcolor\":\"white\",\"startlinecolor\":\"#2a3f5f\"},\"type\":\"carpet\"}],\"table\":[{\"cells\":{\"fill\":{\"color\":\"#EBF0F8\"},\"line\":{\"color\":\"white\"}},\"header\":{\"fill\":{\"color\":\"#C8D4E3\"},\"line\":{\"color\":\"white\"}},\"type\":\"table\"}],\"barpolar\":[{\"marker\":{\"line\":{\"color\":\"#E5ECF6\",\"width\":0.5},\"pattern\":{\"fillmode\":\"overlay\",\"size\":10,\"solidity\":0.2}},\"type\":\"barpolar\"}],\"pie\":[{\"automargin\":true,\"type\":\"pie\"}]},\"layout\":{\"autotypenumbers\":\"strict\",\"colorway\":[\"#636efa\",\"#EF553B\",\"#00cc96\",\"#ab63fa\",\"#FFA15A\",\"#19d3f3\",\"#FF6692\",\"#B6E880\",\"#FF97FF\",\"#FECB52\"],\"font\":{\"color\":\"#2a3f5f\"},\"hovermode\":\"closest\",\"hoverlabel\":{\"align\":\"left\"},\"paper_bgcolor\":\"white\",\"plot_bgcolor\":\"#E5ECF6\",\"polar\":{\"bgcolor\":\"#E5ECF6\",\"angularaxis\":{\"gridcolor\":\"white\",\"linecolor\":\"white\",\"ticks\":\"\"},\"radialaxis\":{\"gridcolor\":\"white\",\"linecolor\":\"white\",\"ticks\":\"\"}},\"ternary\":{\"bgcolor\":\"#E5ECF6\",\"aaxis\":{\"gridcolor\":\"white\",\"linecolor\":\"white\",\"ticks\":\"\"},\"baxis\":{\"gridcolor\":\"white\",\"linecolor\":\"white\",\"ticks\":\"\"},\"caxis\":{\"gridcolor\":\"white\",\"linecolor\":\"white\",\"ticks\":\"\"}},\"coloraxis\":{\"colorbar\":{\"outlinewidth\":0,\"ticks\":\"\"}},\"colorscale\":{\"sequential\":[[0.0,\"#0d0887\"],[0.1111111111111111,\"#46039f\"],[0.2222222222222222,\"#7201a8\"],[0.3333333333333333,\"#9c179e\"],[0.4444444444444444,\"#bd3786\"],[0.5555555555555556,\"#d8576b\"],[0.6666666666666666,\"#ed7953\"],[0.7777777777777778,\"#fb9f3a\"],[0.8888888888888888,\"#fdca26\"],[1.0,\"#f0f921\"]],\"sequentialminus\":[[0.0,\"#0d0887\"],[0.1111111111111111,\"#46039f\"],[0.2222222222222222,\"#7201a8\"],[0.3333333333333333,\"#9c179e\"],[0.4444444444444444,\"#bd3786\"],[0.5555555555555556,\"#d8576b\"],[0.6666666666666666,\"#ed7953\"],[0.7777777777777778,\"#fb9f3a\"],[0.8888888888888888,\"#fdca26\"],[1.0,\"#f0f921\"]],\"diverging\":[[0,\"#8e0152\"],[0.1,\"#c51b7d\"],[0.2,\"#de77ae\"],[0.3,\"#f1b6da\"],[0.4,\"#fde0ef\"],[0.5,\"#f7f7f7\"],[0.6,\"#e6f5d0\"],[0.7,\"#b8e186\"],[0.8,\"#7fbc41\"],[0.9,\"#4d9221\"],[1,\"#276419\"]]},\"xaxis\":{\"gridcolor\":\"white\",\"linecolor\":\"white\",\"ticks\":\"\",\"title\":{\"standoff\":15},\"zerolinecolor\":\"white\",\"automargin\":true,\"zerolinewidth\":2},\"yaxis\":{\"gridcolor\":\"white\",\"linecolor\":\"white\",\"ticks\":\"\",\"title\":{\"standoff\":15},\"zerolinecolor\":\"white\",\"automargin\":true,\"zerolinewidth\":2},\"scene\":{\"xaxis\":{\"backgroundcolor\":\"#E5ECF6\",\"gridcolor\":\"white\",\"linecolor\":\"white\",\"showbackground\":true,\"ticks\":\"\",\"zerolinecolor\":\"white\",\"gridwidth\":2},\"yaxis\":{\"backgroundcolor\":\"#E5ECF6\",\"gridcolor\":\"white\",\"linecolor\":\"white\",\"showbackground\":true,\"ticks\":\"\",\"zerolinecolor\":\"white\",\"gridwidth\":2},\"zaxis\":{\"backgroundcolor\":\"#E5ECF6\",\"gridcolor\":\"white\",\"linecolor\":\"white\",\"showbackground\":true,\"ticks\":\"\",\"zerolinecolor\":\"white\",\"gridwidth\":2}},\"shapedefaults\":{\"line\":{\"color\":\"#2a3f5f\"}},\"annotationdefaults\":{\"arrowcolor\":\"#2a3f5f\",\"arrowhead\":0,\"arrowwidth\":1},\"geo\":{\"bgcolor\":\"white\",\"landcolor\":\"#E5ECF6\",\"subunitcolor\":\"white\",\"showland\":true,\"showlakes\":true,\"lakecolor\":\"white\"},\"title\":{\"x\":0.05},\"mapbox\":{\"style\":\"light\"}}},\"title\":{\"text\":\"Silhouette Scores for Different Numbers of Clusters\"},\"xaxis\":{\"title\":{\"text\":\"Percentage of Columns Used\"}},\"yaxis\":{\"title\":{\"text\":\"Silhouette Score\"}},\"legend\":{\"title\":{\"text\":\"Number of Clusters\"}}},                        {\"responsive\": true}                    ).then(function(){\n",
       "                            \n",
       "var gd = document.getElementById('70ff5d44-7538-459c-9137-96487d783825');\n",
       "var x = new MutationObserver(function (mutations, observer) {{\n",
       "        var display = window.getComputedStyle(gd).display;\n",
       "        if (!display || display === 'none') {{\n",
       "            console.log([gd, 'removed!']);\n",
       "            Plotly.purge(gd);\n",
       "            observer.disconnect();\n",
       "        }}\n",
       "}});\n",
       "\n",
       "// Listen for the removal of the full notebook cells\n",
       "var notebookContainer = gd.closest('#notebook-container');\n",
       "if (notebookContainer) {{\n",
       "    x.observe(notebookContainer, {childList: true});\n",
       "}}\n",
       "\n",
       "// Listen for the clearing of the current output cell\n",
       "var outputEl = gd.closest('.output');\n",
       "if (outputEl) {{\n",
       "    x.observe(outputEl, {childList: true});\n",
       "}}\n",
       "\n",
       "                        })                };                });            </script>        </div>"
      ]
     },
     "metadata": {},
     "output_type": "display_data"
    }
   ],
   "source": [
    "# List of percentages representing parts of the total columns to use for clustering\n",
    "percentages = [0.1, 0.15, 0.2, 0.25, 0.3, 0.35, 0.4, 0.45, 0.5, 0.6, 0.7, 0.8, 0.9, 1]\n",
    "\n",
    "# Setup Plotly figure\n",
    "fig = go.Figure()\n",
    "# Loop over different values of k for clusters\n",
    "for k in range(2, 6):  # k varies from 2 to 5\n",
    "    print(\"Code is running for Cluster\", k)\n",
    "    cluster_path = f\"{output_path}/{k}_Clusters\"\n",
    "    if not os.path.exists(cluster_path):\n",
    "        os.makedirs(cluster_path)\n",
    "    silhouette_scores = []\n",
    "    for p in percentages:\n",
    "        num_columns = int(len(mad_sorted) * p)\n",
    "        top_columns = [col[0] for col in mad_sorted[:num_columns]]\n",
    "\n",
    "        # Directory for the current percentage\n",
    "        percentage_path = f\"{cluster_path}/top_percentage_{int(p * 100)}\"\n",
    "        if not os.path.exists(percentage_path):\n",
    "            os.makedirs(percentage_path)\n",
    "        \n",
    "        # Store top features for current percentage\n",
    "        features_path = f\"{percentage_path}/top_features.txt\"\n",
    "        with open(features_path, 'w') as file:\n",
    "            for col in top_columns:\n",
    "                file.write(col + '\\n')\n",
    "        \n",
    "\n",
    "        #The selected columns are standardized using StandardScaler. This ensures that each feature contributes equally to the distance computations \n",
    "        #in the KMeans algorithm, which is crucial because KMeans is sensitive to the scales of the input features.\n",
    "        scaler = StandardScaler()\n",
    "        scaled_data = scaler.fit_transform(data_processed[top_columns])\n",
    "        #print(\"Scaled_data : \", scaled_data.shape[1])  # Output the number of features after scaling\n",
    "        original_indices = data_processed.index  # Capture the original indices before scaling\n",
    "    \n",
    "    \n",
    "        # This step reduces the number of dimensions in the data by transforming it to a new basisvwhere the variance retained is as specified (90% in this case). The goal is to reduce\n",
    "        # complexity while keeping the most informative aspects of the data.  Apply PCA to reduce dimensionality while retaining 90% of the variance:\n",
    "        # pca = PCA(n_components=0.90)  # Initialize PCA to retain 90% of the variance\n",
    "        # data_reduced = pca.fit_transform(scaled_data)\n",
    "        # print(\"Reduced to %d dimensions\" % data_reduced.shape[1]) \n",
    "        \n",
    "        # Compute silhouette score for the current number of clusters and percentage of columns\n",
    "        score = kmeans_silhouette_score(scaled_data, k, percentage_path, original_indices, p)\n",
    "        silhouette_scores.append(score)\n",
    "    \n",
    "    # Add the silhouette scores to the plot for the current number of clusters\n",
    "    fig.add_trace(go.Scatter(\n",
    "        x=[f\"{int(p * 100)}%\" for p in percentages],\n",
    "        y=silhouette_scores,\n",
    "        mode='lines+markers',\n",
    "        name=f'k={k}'\n",
    "    ))\n",
    "\n",
    "# Update plot layout\n",
    "fig.update_layout(\n",
    "    title=\"Silhouette Scores for Different Numbers of Clusters\",\n",
    "    xaxis_title=\"Percentage of Columns Used\",\n",
    "    yaxis_title=\"Silhouette Score\",\n",
    "    legend_title=\"Number of Clusters\"\n",
    ")\n",
    "\n",
    "# Show the plot\n",
    "fig.show()"
   ]
  },
  {
   "cell_type": "markdown",
   "id": "234abacc-0914-4eb6-9cbc-585a63469476",
   "metadata": {},
   "source": [
    "# Apply Hierarchical clustering"
   ]
  },
  {
   "cell_type": "code",
   "execution_count": 42,
   "id": "68199a3a-277c-4c69-a009-bd72589a6187",
   "metadata": {},
   "outputs": [],
   "source": [
    "num_columns = int(len(mad_sorted) * 0.15)\n",
    "top_columns = [col[0] for col in mad_sorted[:num_columns]]"
   ]
  },
  {
   "cell_type": "code",
   "execution_count": 43,
   "id": "464812c0-7250-4373-ac0d-a697a02bf4cc",
   "metadata": {},
   "outputs": [
    {
     "data": {
      "text/plain": [
       "505"
      ]
     },
     "execution_count": 43,
     "metadata": {},
     "output_type": "execute_result"
    }
   ],
   "source": [
    "num_columns"
   ]
  },
  {
   "cell_type": "code",
   "execution_count": 44,
   "id": "08d90a39-f083-4ad2-81b4-34ee5be46311",
   "metadata": {},
   "outputs": [
    {
     "data": {
      "text/html": [
       "<div>\n",
       "<style scoped>\n",
       "    .dataframe tbody tr th:only-of-type {\n",
       "        vertical-align: middle;\n",
       "    }\n",
       "\n",
       "    .dataframe tbody tr th {\n",
       "        vertical-align: top;\n",
       "    }\n",
       "\n",
       "    .dataframe thead th {\n",
       "        text-align: right;\n",
       "    }\n",
       "</style>\n",
       "<table border=\"1\" class=\"dataframe\">\n",
       "  <thead>\n",
       "    <tr style=\"text-align: right;\">\n",
       "      <th></th>\n",
       "      <th>chr17_30786686_30786765_30786696_30786697_A_AATCT</th>\n",
       "      <th>chr14_73927066_73927145_73927088_73927089_A_AT</th>\n",
       "      <th>chr11_33040089_33040168_33040109_33040110_C_CTTT</th>\n",
       "      <th>chr14_105625340_105625419_105625405_105625407_CA_C</th>\n",
       "      <th>chr14_36235283_36235362_36235302_36235303_C_CTTTTT</th>\n",
       "      <th>chr7_118322814_118322893_118322814_118322815_T_TTTTG</th>\n",
       "      <th>chr20_62733143_62733222_62733162_62733163_A_ACGTTCTTT</th>\n",
       "      <th>chr11_57350284_57350363_57350295_57350296_C_CTTTTTT</th>\n",
       "      <th>chr16_732617_732696_732643_732644_C_CT</th>\n",
       "      <th>chr19_39886546_39886625_39886592_39886594_GG_C</th>\n",
       "      <th>...</th>\n",
       "      <th>chr5_118561964_118562043_118561977_118561981_TCTC_T</th>\n",
       "      <th>chr9_129294158_129294237_129294184_129294185_A_AT</th>\n",
       "      <th>chr10_13654048_13654127_13654077_13654078_T_TA</th>\n",
       "      <th>chr11_56104827_56104906_56104852_56104858_TTTTTG_T</th>\n",
       "      <th>chr22_42880583_42880662_42880609_42880614_CACTT_C</th>\n",
       "      <th>chr6_75757958_75758037_75757971_75757972_C_CTTT</th>\n",
       "      <th>chr6_25553968_25554047_25553990_25553992_CT_C</th>\n",
       "      <th>chr18_8361052_8361131_8361058_8361060_CT_C</th>\n",
       "      <th>chr15_68719103_68719182_68719104_68719105_G_GC</th>\n",
       "      <th>chr22_44093891_44093970_44093897_44093899_AC_A</th>\n",
       "    </tr>\n",
       "    <tr>\n",
       "      <th>Patient_ID</th>\n",
       "      <th></th>\n",
       "      <th></th>\n",
       "      <th></th>\n",
       "      <th></th>\n",
       "      <th></th>\n",
       "      <th></th>\n",
       "      <th></th>\n",
       "      <th></th>\n",
       "      <th></th>\n",
       "      <th></th>\n",
       "      <th></th>\n",
       "      <th></th>\n",
       "      <th></th>\n",
       "      <th></th>\n",
       "      <th></th>\n",
       "      <th></th>\n",
       "      <th></th>\n",
       "      <th></th>\n",
       "      <th></th>\n",
       "      <th></th>\n",
       "      <th></th>\n",
       "    </tr>\n",
       "  </thead>\n",
       "  <tbody>\n",
       "    <tr>\n",
       "      <th>a5867fd1-4897-4559-855a-c30002d3c6bb_sanger_raw_pindel</th>\n",
       "      <td>0</td>\n",
       "      <td>1</td>\n",
       "      <td>0</td>\n",
       "      <td>1</td>\n",
       "      <td>1</td>\n",
       "      <td>0</td>\n",
       "      <td>0</td>\n",
       "      <td>1</td>\n",
       "      <td>1</td>\n",
       "      <td>1</td>\n",
       "      <td>...</td>\n",
       "      <td>0</td>\n",
       "      <td>0</td>\n",
       "      <td>0</td>\n",
       "      <td>0</td>\n",
       "      <td>0</td>\n",
       "      <td>0</td>\n",
       "      <td>0</td>\n",
       "      <td>0</td>\n",
       "      <td>0</td>\n",
       "      <td>0</td>\n",
       "    </tr>\n",
       "    <tr>\n",
       "      <th>0f158d5f-16c7-4fb7-b48c-0ff392f1706b_sanger_raw_pindel</th>\n",
       "      <td>1</td>\n",
       "      <td>1</td>\n",
       "      <td>1</td>\n",
       "      <td>1</td>\n",
       "      <td>0</td>\n",
       "      <td>0</td>\n",
       "      <td>0</td>\n",
       "      <td>0</td>\n",
       "      <td>0</td>\n",
       "      <td>0</td>\n",
       "      <td>...</td>\n",
       "      <td>0</td>\n",
       "      <td>0</td>\n",
       "      <td>0</td>\n",
       "      <td>0</td>\n",
       "      <td>0</td>\n",
       "      <td>0</td>\n",
       "      <td>0</td>\n",
       "      <td>0</td>\n",
       "      <td>0</td>\n",
       "      <td>0</td>\n",
       "    </tr>\n",
       "    <tr>\n",
       "      <th>af56a9e4-b896-4d47-b9c0-930eb68862bd_sanger_raw_pindel</th>\n",
       "      <td>1</td>\n",
       "      <td>1</td>\n",
       "      <td>0</td>\n",
       "      <td>0</td>\n",
       "      <td>0</td>\n",
       "      <td>1</td>\n",
       "      <td>0</td>\n",
       "      <td>1</td>\n",
       "      <td>0</td>\n",
       "      <td>0</td>\n",
       "      <td>...</td>\n",
       "      <td>0</td>\n",
       "      <td>0</td>\n",
       "      <td>0</td>\n",
       "      <td>0</td>\n",
       "      <td>0</td>\n",
       "      <td>0</td>\n",
       "      <td>0</td>\n",
       "      <td>0</td>\n",
       "      <td>0</td>\n",
       "      <td>0</td>\n",
       "    </tr>\n",
       "    <tr>\n",
       "      <th>447a08c8-3488-45d1-9262-23c42341296f_sanger_raw_pindel</th>\n",
       "      <td>0</td>\n",
       "      <td>1</td>\n",
       "      <td>1</td>\n",
       "      <td>1</td>\n",
       "      <td>1</td>\n",
       "      <td>0</td>\n",
       "      <td>1</td>\n",
       "      <td>1</td>\n",
       "      <td>0</td>\n",
       "      <td>0</td>\n",
       "      <td>...</td>\n",
       "      <td>0</td>\n",
       "      <td>0</td>\n",
       "      <td>0</td>\n",
       "      <td>0</td>\n",
       "      <td>0</td>\n",
       "      <td>0</td>\n",
       "      <td>0</td>\n",
       "      <td>0</td>\n",
       "      <td>0</td>\n",
       "      <td>0</td>\n",
       "    </tr>\n",
       "    <tr>\n",
       "      <th>033db366-1af1-4bd9-8339-c54800b1de57_sanger_raw_pindel</th>\n",
       "      <td>0</td>\n",
       "      <td>0</td>\n",
       "      <td>1</td>\n",
       "      <td>0</td>\n",
       "      <td>0</td>\n",
       "      <td>0</td>\n",
       "      <td>1</td>\n",
       "      <td>0</td>\n",
       "      <td>0</td>\n",
       "      <td>1</td>\n",
       "      <td>...</td>\n",
       "      <td>0</td>\n",
       "      <td>0</td>\n",
       "      <td>0</td>\n",
       "      <td>0</td>\n",
       "      <td>0</td>\n",
       "      <td>0</td>\n",
       "      <td>0</td>\n",
       "      <td>0</td>\n",
       "      <td>0</td>\n",
       "      <td>0</td>\n",
       "    </tr>\n",
       "    <tr>\n",
       "      <th>...</th>\n",
       "      <td>...</td>\n",
       "      <td>...</td>\n",
       "      <td>...</td>\n",
       "      <td>...</td>\n",
       "      <td>...</td>\n",
       "      <td>...</td>\n",
       "      <td>...</td>\n",
       "      <td>...</td>\n",
       "      <td>...</td>\n",
       "      <td>...</td>\n",
       "      <td>...</td>\n",
       "      <td>...</td>\n",
       "      <td>...</td>\n",
       "      <td>...</td>\n",
       "      <td>...</td>\n",
       "      <td>...</td>\n",
       "      <td>...</td>\n",
       "      <td>...</td>\n",
       "      <td>...</td>\n",
       "      <td>...</td>\n",
       "      <td>...</td>\n",
       "    </tr>\n",
       "    <tr>\n",
       "      <th>03c1c33e-c4a8-4c31-8a29-0d8b3e7bda83_sanger_raw_pindel</th>\n",
       "      <td>0</td>\n",
       "      <td>1</td>\n",
       "      <td>1</td>\n",
       "      <td>0</td>\n",
       "      <td>0</td>\n",
       "      <td>1</td>\n",
       "      <td>1</td>\n",
       "      <td>1</td>\n",
       "      <td>1</td>\n",
       "      <td>1</td>\n",
       "      <td>...</td>\n",
       "      <td>0</td>\n",
       "      <td>0</td>\n",
       "      <td>0</td>\n",
       "      <td>0</td>\n",
       "      <td>0</td>\n",
       "      <td>0</td>\n",
       "      <td>0</td>\n",
       "      <td>0</td>\n",
       "      <td>0</td>\n",
       "      <td>0</td>\n",
       "    </tr>\n",
       "    <tr>\n",
       "      <th>812d6f3d-c4f9-4e10-9039-4ebe9b3100c3_sanger_raw_pindel</th>\n",
       "      <td>0</td>\n",
       "      <td>1</td>\n",
       "      <td>0</td>\n",
       "      <td>1</td>\n",
       "      <td>1</td>\n",
       "      <td>1</td>\n",
       "      <td>1</td>\n",
       "      <td>0</td>\n",
       "      <td>1</td>\n",
       "      <td>1</td>\n",
       "      <td>...</td>\n",
       "      <td>0</td>\n",
       "      <td>0</td>\n",
       "      <td>0</td>\n",
       "      <td>0</td>\n",
       "      <td>0</td>\n",
       "      <td>0</td>\n",
       "      <td>0</td>\n",
       "      <td>0</td>\n",
       "      <td>0</td>\n",
       "      <td>0</td>\n",
       "    </tr>\n",
       "    <tr>\n",
       "      <th>ca52ea0e-5021-463b-8821-5e7c765812ff_sanger_raw_pindel</th>\n",
       "      <td>1</td>\n",
       "      <td>1</td>\n",
       "      <td>0</td>\n",
       "      <td>0</td>\n",
       "      <td>1</td>\n",
       "      <td>0</td>\n",
       "      <td>1</td>\n",
       "      <td>1</td>\n",
       "      <td>0</td>\n",
       "      <td>1</td>\n",
       "      <td>...</td>\n",
       "      <td>0</td>\n",
       "      <td>0</td>\n",
       "      <td>0</td>\n",
       "      <td>0</td>\n",
       "      <td>0</td>\n",
       "      <td>0</td>\n",
       "      <td>0</td>\n",
       "      <td>0</td>\n",
       "      <td>0</td>\n",
       "      <td>0</td>\n",
       "    </tr>\n",
       "    <tr>\n",
       "      <th>8db95363-6eb3-4a90-affd-0c948a05c27c_sanger_raw_pindel</th>\n",
       "      <td>0</td>\n",
       "      <td>0</td>\n",
       "      <td>1</td>\n",
       "      <td>1</td>\n",
       "      <td>0</td>\n",
       "      <td>1</td>\n",
       "      <td>1</td>\n",
       "      <td>0</td>\n",
       "      <td>0</td>\n",
       "      <td>1</td>\n",
       "      <td>...</td>\n",
       "      <td>0</td>\n",
       "      <td>0</td>\n",
       "      <td>0</td>\n",
       "      <td>0</td>\n",
       "      <td>0</td>\n",
       "      <td>0</td>\n",
       "      <td>0</td>\n",
       "      <td>0</td>\n",
       "      <td>0</td>\n",
       "      <td>0</td>\n",
       "    </tr>\n",
       "    <tr>\n",
       "      <th>cf565879-9f53-4fd1-b0da-065869293342_sanger_raw_pindel</th>\n",
       "      <td>0</td>\n",
       "      <td>0</td>\n",
       "      <td>1</td>\n",
       "      <td>1</td>\n",
       "      <td>1</td>\n",
       "      <td>0</td>\n",
       "      <td>0</td>\n",
       "      <td>0</td>\n",
       "      <td>1</td>\n",
       "      <td>0</td>\n",
       "      <td>...</td>\n",
       "      <td>0</td>\n",
       "      <td>0</td>\n",
       "      <td>0</td>\n",
       "      <td>0</td>\n",
       "      <td>0</td>\n",
       "      <td>0</td>\n",
       "      <td>0</td>\n",
       "      <td>0</td>\n",
       "      <td>0</td>\n",
       "      <td>0</td>\n",
       "    </tr>\n",
       "  </tbody>\n",
       "</table>\n",
       "<p>216 rows × 505 columns</p>\n",
       "</div>"
      ],
      "text/plain": [
       "                                                    chr17_30786686_30786765_30786696_30786697_A_AATCT  \\\n",
       "Patient_ID                                                                                              \n",
       "a5867fd1-4897-4559-855a-c30002d3c6bb_sanger_raw...                                                  0   \n",
       "0f158d5f-16c7-4fb7-b48c-0ff392f1706b_sanger_raw...                                                  1   \n",
       "af56a9e4-b896-4d47-b9c0-930eb68862bd_sanger_raw...                                                  1   \n",
       "447a08c8-3488-45d1-9262-23c42341296f_sanger_raw...                                                  0   \n",
       "033db366-1af1-4bd9-8339-c54800b1de57_sanger_raw...                                                  0   \n",
       "...                                                                                               ...   \n",
       "03c1c33e-c4a8-4c31-8a29-0d8b3e7bda83_sanger_raw...                                                  0   \n",
       "812d6f3d-c4f9-4e10-9039-4ebe9b3100c3_sanger_raw...                                                  0   \n",
       "ca52ea0e-5021-463b-8821-5e7c765812ff_sanger_raw...                                                  1   \n",
       "8db95363-6eb3-4a90-affd-0c948a05c27c_sanger_raw...                                                  0   \n",
       "cf565879-9f53-4fd1-b0da-065869293342_sanger_raw...                                                  0   \n",
       "\n",
       "                                                    chr14_73927066_73927145_73927088_73927089_A_AT  \\\n",
       "Patient_ID                                                                                           \n",
       "a5867fd1-4897-4559-855a-c30002d3c6bb_sanger_raw...                                               1   \n",
       "0f158d5f-16c7-4fb7-b48c-0ff392f1706b_sanger_raw...                                               1   \n",
       "af56a9e4-b896-4d47-b9c0-930eb68862bd_sanger_raw...                                               1   \n",
       "447a08c8-3488-45d1-9262-23c42341296f_sanger_raw...                                               1   \n",
       "033db366-1af1-4bd9-8339-c54800b1de57_sanger_raw...                                               0   \n",
       "...                                                                                            ...   \n",
       "03c1c33e-c4a8-4c31-8a29-0d8b3e7bda83_sanger_raw...                                               1   \n",
       "812d6f3d-c4f9-4e10-9039-4ebe9b3100c3_sanger_raw...                                               1   \n",
       "ca52ea0e-5021-463b-8821-5e7c765812ff_sanger_raw...                                               1   \n",
       "8db95363-6eb3-4a90-affd-0c948a05c27c_sanger_raw...                                               0   \n",
       "cf565879-9f53-4fd1-b0da-065869293342_sanger_raw...                                               0   \n",
       "\n",
       "                                                    chr11_33040089_33040168_33040109_33040110_C_CTTT  \\\n",
       "Patient_ID                                                                                             \n",
       "a5867fd1-4897-4559-855a-c30002d3c6bb_sanger_raw...                                                 0   \n",
       "0f158d5f-16c7-4fb7-b48c-0ff392f1706b_sanger_raw...                                                 1   \n",
       "af56a9e4-b896-4d47-b9c0-930eb68862bd_sanger_raw...                                                 0   \n",
       "447a08c8-3488-45d1-9262-23c42341296f_sanger_raw...                                                 1   \n",
       "033db366-1af1-4bd9-8339-c54800b1de57_sanger_raw...                                                 1   \n",
       "...                                                                                              ...   \n",
       "03c1c33e-c4a8-4c31-8a29-0d8b3e7bda83_sanger_raw...                                                 1   \n",
       "812d6f3d-c4f9-4e10-9039-4ebe9b3100c3_sanger_raw...                                                 0   \n",
       "ca52ea0e-5021-463b-8821-5e7c765812ff_sanger_raw...                                                 0   \n",
       "8db95363-6eb3-4a90-affd-0c948a05c27c_sanger_raw...                                                 1   \n",
       "cf565879-9f53-4fd1-b0da-065869293342_sanger_raw...                                                 1   \n",
       "\n",
       "                                                    chr14_105625340_105625419_105625405_105625407_CA_C  \\\n",
       "Patient_ID                                                                                               \n",
       "a5867fd1-4897-4559-855a-c30002d3c6bb_sanger_raw...                                                  1    \n",
       "0f158d5f-16c7-4fb7-b48c-0ff392f1706b_sanger_raw...                                                  1    \n",
       "af56a9e4-b896-4d47-b9c0-930eb68862bd_sanger_raw...                                                  0    \n",
       "447a08c8-3488-45d1-9262-23c42341296f_sanger_raw...                                                  1    \n",
       "033db366-1af1-4bd9-8339-c54800b1de57_sanger_raw...                                                  0    \n",
       "...                                                                                               ...    \n",
       "03c1c33e-c4a8-4c31-8a29-0d8b3e7bda83_sanger_raw...                                                  0    \n",
       "812d6f3d-c4f9-4e10-9039-4ebe9b3100c3_sanger_raw...                                                  1    \n",
       "ca52ea0e-5021-463b-8821-5e7c765812ff_sanger_raw...                                                  0    \n",
       "8db95363-6eb3-4a90-affd-0c948a05c27c_sanger_raw...                                                  1    \n",
       "cf565879-9f53-4fd1-b0da-065869293342_sanger_raw...                                                  1    \n",
       "\n",
       "                                                    chr14_36235283_36235362_36235302_36235303_C_CTTTTT  \\\n",
       "Patient_ID                                                                                               \n",
       "a5867fd1-4897-4559-855a-c30002d3c6bb_sanger_raw...                                                  1    \n",
       "0f158d5f-16c7-4fb7-b48c-0ff392f1706b_sanger_raw...                                                  0    \n",
       "af56a9e4-b896-4d47-b9c0-930eb68862bd_sanger_raw...                                                  0    \n",
       "447a08c8-3488-45d1-9262-23c42341296f_sanger_raw...                                                  1    \n",
       "033db366-1af1-4bd9-8339-c54800b1de57_sanger_raw...                                                  0    \n",
       "...                                                                                               ...    \n",
       "03c1c33e-c4a8-4c31-8a29-0d8b3e7bda83_sanger_raw...                                                  0    \n",
       "812d6f3d-c4f9-4e10-9039-4ebe9b3100c3_sanger_raw...                                                  1    \n",
       "ca52ea0e-5021-463b-8821-5e7c765812ff_sanger_raw...                                                  1    \n",
       "8db95363-6eb3-4a90-affd-0c948a05c27c_sanger_raw...                                                  0    \n",
       "cf565879-9f53-4fd1-b0da-065869293342_sanger_raw...                                                  1    \n",
       "\n",
       "                                                    chr7_118322814_118322893_118322814_118322815_T_TTTTG  \\\n",
       "Patient_ID                                                                                                 \n",
       "a5867fd1-4897-4559-855a-c30002d3c6bb_sanger_raw...                                                  0      \n",
       "0f158d5f-16c7-4fb7-b48c-0ff392f1706b_sanger_raw...                                                  0      \n",
       "af56a9e4-b896-4d47-b9c0-930eb68862bd_sanger_raw...                                                  1      \n",
       "447a08c8-3488-45d1-9262-23c42341296f_sanger_raw...                                                  0      \n",
       "033db366-1af1-4bd9-8339-c54800b1de57_sanger_raw...                                                  0      \n",
       "...                                                                                               ...      \n",
       "03c1c33e-c4a8-4c31-8a29-0d8b3e7bda83_sanger_raw...                                                  1      \n",
       "812d6f3d-c4f9-4e10-9039-4ebe9b3100c3_sanger_raw...                                                  1      \n",
       "ca52ea0e-5021-463b-8821-5e7c765812ff_sanger_raw...                                                  0      \n",
       "8db95363-6eb3-4a90-affd-0c948a05c27c_sanger_raw...                                                  1      \n",
       "cf565879-9f53-4fd1-b0da-065869293342_sanger_raw...                                                  0      \n",
       "\n",
       "                                                    chr20_62733143_62733222_62733162_62733163_A_ACGTTCTTT  \\\n",
       "Patient_ID                                                                                                  \n",
       "a5867fd1-4897-4559-855a-c30002d3c6bb_sanger_raw...                                                  0       \n",
       "0f158d5f-16c7-4fb7-b48c-0ff392f1706b_sanger_raw...                                                  0       \n",
       "af56a9e4-b896-4d47-b9c0-930eb68862bd_sanger_raw...                                                  0       \n",
       "447a08c8-3488-45d1-9262-23c42341296f_sanger_raw...                                                  1       \n",
       "033db366-1af1-4bd9-8339-c54800b1de57_sanger_raw...                                                  1       \n",
       "...                                                                                               ...       \n",
       "03c1c33e-c4a8-4c31-8a29-0d8b3e7bda83_sanger_raw...                                                  1       \n",
       "812d6f3d-c4f9-4e10-9039-4ebe9b3100c3_sanger_raw...                                                  1       \n",
       "ca52ea0e-5021-463b-8821-5e7c765812ff_sanger_raw...                                                  1       \n",
       "8db95363-6eb3-4a90-affd-0c948a05c27c_sanger_raw...                                                  1       \n",
       "cf565879-9f53-4fd1-b0da-065869293342_sanger_raw...                                                  0       \n",
       "\n",
       "                                                    chr11_57350284_57350363_57350295_57350296_C_CTTTTTT  \\\n",
       "Patient_ID                                                                                                \n",
       "a5867fd1-4897-4559-855a-c30002d3c6bb_sanger_raw...                                                  1     \n",
       "0f158d5f-16c7-4fb7-b48c-0ff392f1706b_sanger_raw...                                                  0     \n",
       "af56a9e4-b896-4d47-b9c0-930eb68862bd_sanger_raw...                                                  1     \n",
       "447a08c8-3488-45d1-9262-23c42341296f_sanger_raw...                                                  1     \n",
       "033db366-1af1-4bd9-8339-c54800b1de57_sanger_raw...                                                  0     \n",
       "...                                                                                               ...     \n",
       "03c1c33e-c4a8-4c31-8a29-0d8b3e7bda83_sanger_raw...                                                  1     \n",
       "812d6f3d-c4f9-4e10-9039-4ebe9b3100c3_sanger_raw...                                                  0     \n",
       "ca52ea0e-5021-463b-8821-5e7c765812ff_sanger_raw...                                                  1     \n",
       "8db95363-6eb3-4a90-affd-0c948a05c27c_sanger_raw...                                                  0     \n",
       "cf565879-9f53-4fd1-b0da-065869293342_sanger_raw...                                                  0     \n",
       "\n",
       "                                                    chr16_732617_732696_732643_732644_C_CT  \\\n",
       "Patient_ID                                                                                   \n",
       "a5867fd1-4897-4559-855a-c30002d3c6bb_sanger_raw...                                       1   \n",
       "0f158d5f-16c7-4fb7-b48c-0ff392f1706b_sanger_raw...                                       0   \n",
       "af56a9e4-b896-4d47-b9c0-930eb68862bd_sanger_raw...                                       0   \n",
       "447a08c8-3488-45d1-9262-23c42341296f_sanger_raw...                                       0   \n",
       "033db366-1af1-4bd9-8339-c54800b1de57_sanger_raw...                                       0   \n",
       "...                                                                                    ...   \n",
       "03c1c33e-c4a8-4c31-8a29-0d8b3e7bda83_sanger_raw...                                       1   \n",
       "812d6f3d-c4f9-4e10-9039-4ebe9b3100c3_sanger_raw...                                       1   \n",
       "ca52ea0e-5021-463b-8821-5e7c765812ff_sanger_raw...                                       0   \n",
       "8db95363-6eb3-4a90-affd-0c948a05c27c_sanger_raw...                                       0   \n",
       "cf565879-9f53-4fd1-b0da-065869293342_sanger_raw...                                       1   \n",
       "\n",
       "                                                    chr19_39886546_39886625_39886592_39886594_GG_C  \\\n",
       "Patient_ID                                                                                           \n",
       "a5867fd1-4897-4559-855a-c30002d3c6bb_sanger_raw...                                               1   \n",
       "0f158d5f-16c7-4fb7-b48c-0ff392f1706b_sanger_raw...                                               0   \n",
       "af56a9e4-b896-4d47-b9c0-930eb68862bd_sanger_raw...                                               0   \n",
       "447a08c8-3488-45d1-9262-23c42341296f_sanger_raw...                                               0   \n",
       "033db366-1af1-4bd9-8339-c54800b1de57_sanger_raw...                                               1   \n",
       "...                                                                                            ...   \n",
       "03c1c33e-c4a8-4c31-8a29-0d8b3e7bda83_sanger_raw...                                               1   \n",
       "812d6f3d-c4f9-4e10-9039-4ebe9b3100c3_sanger_raw...                                               1   \n",
       "ca52ea0e-5021-463b-8821-5e7c765812ff_sanger_raw...                                               1   \n",
       "8db95363-6eb3-4a90-affd-0c948a05c27c_sanger_raw...                                               1   \n",
       "cf565879-9f53-4fd1-b0da-065869293342_sanger_raw...                                               0   \n",
       "\n",
       "                                                    ...  \\\n",
       "Patient_ID                                          ...   \n",
       "a5867fd1-4897-4559-855a-c30002d3c6bb_sanger_raw...  ...   \n",
       "0f158d5f-16c7-4fb7-b48c-0ff392f1706b_sanger_raw...  ...   \n",
       "af56a9e4-b896-4d47-b9c0-930eb68862bd_sanger_raw...  ...   \n",
       "447a08c8-3488-45d1-9262-23c42341296f_sanger_raw...  ...   \n",
       "033db366-1af1-4bd9-8339-c54800b1de57_sanger_raw...  ...   \n",
       "...                                                 ...   \n",
       "03c1c33e-c4a8-4c31-8a29-0d8b3e7bda83_sanger_raw...  ...   \n",
       "812d6f3d-c4f9-4e10-9039-4ebe9b3100c3_sanger_raw...  ...   \n",
       "ca52ea0e-5021-463b-8821-5e7c765812ff_sanger_raw...  ...   \n",
       "8db95363-6eb3-4a90-affd-0c948a05c27c_sanger_raw...  ...   \n",
       "cf565879-9f53-4fd1-b0da-065869293342_sanger_raw...  ...   \n",
       "\n",
       "                                                    chr5_118561964_118562043_118561977_118561981_TCTC_T  \\\n",
       "Patient_ID                                                                                                \n",
       "a5867fd1-4897-4559-855a-c30002d3c6bb_sanger_raw...                                                  0     \n",
       "0f158d5f-16c7-4fb7-b48c-0ff392f1706b_sanger_raw...                                                  0     \n",
       "af56a9e4-b896-4d47-b9c0-930eb68862bd_sanger_raw...                                                  0     \n",
       "447a08c8-3488-45d1-9262-23c42341296f_sanger_raw...                                                  0     \n",
       "033db366-1af1-4bd9-8339-c54800b1de57_sanger_raw...                                                  0     \n",
       "...                                                                                               ...     \n",
       "03c1c33e-c4a8-4c31-8a29-0d8b3e7bda83_sanger_raw...                                                  0     \n",
       "812d6f3d-c4f9-4e10-9039-4ebe9b3100c3_sanger_raw...                                                  0     \n",
       "ca52ea0e-5021-463b-8821-5e7c765812ff_sanger_raw...                                                  0     \n",
       "8db95363-6eb3-4a90-affd-0c948a05c27c_sanger_raw...                                                  0     \n",
       "cf565879-9f53-4fd1-b0da-065869293342_sanger_raw...                                                  0     \n",
       "\n",
       "                                                    chr9_129294158_129294237_129294184_129294185_A_AT  \\\n",
       "Patient_ID                                                                                              \n",
       "a5867fd1-4897-4559-855a-c30002d3c6bb_sanger_raw...                                                  0   \n",
       "0f158d5f-16c7-4fb7-b48c-0ff392f1706b_sanger_raw...                                                  0   \n",
       "af56a9e4-b896-4d47-b9c0-930eb68862bd_sanger_raw...                                                  0   \n",
       "447a08c8-3488-45d1-9262-23c42341296f_sanger_raw...                                                  0   \n",
       "033db366-1af1-4bd9-8339-c54800b1de57_sanger_raw...                                                  0   \n",
       "...                                                                                               ...   \n",
       "03c1c33e-c4a8-4c31-8a29-0d8b3e7bda83_sanger_raw...                                                  0   \n",
       "812d6f3d-c4f9-4e10-9039-4ebe9b3100c3_sanger_raw...                                                  0   \n",
       "ca52ea0e-5021-463b-8821-5e7c765812ff_sanger_raw...                                                  0   \n",
       "8db95363-6eb3-4a90-affd-0c948a05c27c_sanger_raw...                                                  0   \n",
       "cf565879-9f53-4fd1-b0da-065869293342_sanger_raw...                                                  0   \n",
       "\n",
       "                                                    chr10_13654048_13654127_13654077_13654078_T_TA  \\\n",
       "Patient_ID                                                                                           \n",
       "a5867fd1-4897-4559-855a-c30002d3c6bb_sanger_raw...                                               0   \n",
       "0f158d5f-16c7-4fb7-b48c-0ff392f1706b_sanger_raw...                                               0   \n",
       "af56a9e4-b896-4d47-b9c0-930eb68862bd_sanger_raw...                                               0   \n",
       "447a08c8-3488-45d1-9262-23c42341296f_sanger_raw...                                               0   \n",
       "033db366-1af1-4bd9-8339-c54800b1de57_sanger_raw...                                               0   \n",
       "...                                                                                            ...   \n",
       "03c1c33e-c4a8-4c31-8a29-0d8b3e7bda83_sanger_raw...                                               0   \n",
       "812d6f3d-c4f9-4e10-9039-4ebe9b3100c3_sanger_raw...                                               0   \n",
       "ca52ea0e-5021-463b-8821-5e7c765812ff_sanger_raw...                                               0   \n",
       "8db95363-6eb3-4a90-affd-0c948a05c27c_sanger_raw...                                               0   \n",
       "cf565879-9f53-4fd1-b0da-065869293342_sanger_raw...                                               0   \n",
       "\n",
       "                                                    chr11_56104827_56104906_56104852_56104858_TTTTTG_T  \\\n",
       "Patient_ID                                                                                               \n",
       "a5867fd1-4897-4559-855a-c30002d3c6bb_sanger_raw...                                                  0    \n",
       "0f158d5f-16c7-4fb7-b48c-0ff392f1706b_sanger_raw...                                                  0    \n",
       "af56a9e4-b896-4d47-b9c0-930eb68862bd_sanger_raw...                                                  0    \n",
       "447a08c8-3488-45d1-9262-23c42341296f_sanger_raw...                                                  0    \n",
       "033db366-1af1-4bd9-8339-c54800b1de57_sanger_raw...                                                  0    \n",
       "...                                                                                               ...    \n",
       "03c1c33e-c4a8-4c31-8a29-0d8b3e7bda83_sanger_raw...                                                  0    \n",
       "812d6f3d-c4f9-4e10-9039-4ebe9b3100c3_sanger_raw...                                                  0    \n",
       "ca52ea0e-5021-463b-8821-5e7c765812ff_sanger_raw...                                                  0    \n",
       "8db95363-6eb3-4a90-affd-0c948a05c27c_sanger_raw...                                                  0    \n",
       "cf565879-9f53-4fd1-b0da-065869293342_sanger_raw...                                                  0    \n",
       "\n",
       "                                                    chr22_42880583_42880662_42880609_42880614_CACTT_C  \\\n",
       "Patient_ID                                                                                              \n",
       "a5867fd1-4897-4559-855a-c30002d3c6bb_sanger_raw...                                                  0   \n",
       "0f158d5f-16c7-4fb7-b48c-0ff392f1706b_sanger_raw...                                                  0   \n",
       "af56a9e4-b896-4d47-b9c0-930eb68862bd_sanger_raw...                                                  0   \n",
       "447a08c8-3488-45d1-9262-23c42341296f_sanger_raw...                                                  0   \n",
       "033db366-1af1-4bd9-8339-c54800b1de57_sanger_raw...                                                  0   \n",
       "...                                                                                               ...   \n",
       "03c1c33e-c4a8-4c31-8a29-0d8b3e7bda83_sanger_raw...                                                  0   \n",
       "812d6f3d-c4f9-4e10-9039-4ebe9b3100c3_sanger_raw...                                                  0   \n",
       "ca52ea0e-5021-463b-8821-5e7c765812ff_sanger_raw...                                                  0   \n",
       "8db95363-6eb3-4a90-affd-0c948a05c27c_sanger_raw...                                                  0   \n",
       "cf565879-9f53-4fd1-b0da-065869293342_sanger_raw...                                                  0   \n",
       "\n",
       "                                                    chr6_75757958_75758037_75757971_75757972_C_CTTT  \\\n",
       "Patient_ID                                                                                            \n",
       "a5867fd1-4897-4559-855a-c30002d3c6bb_sanger_raw...                                                0   \n",
       "0f158d5f-16c7-4fb7-b48c-0ff392f1706b_sanger_raw...                                                0   \n",
       "af56a9e4-b896-4d47-b9c0-930eb68862bd_sanger_raw...                                                0   \n",
       "447a08c8-3488-45d1-9262-23c42341296f_sanger_raw...                                                0   \n",
       "033db366-1af1-4bd9-8339-c54800b1de57_sanger_raw...                                                0   \n",
       "...                                                                                             ...   \n",
       "03c1c33e-c4a8-4c31-8a29-0d8b3e7bda83_sanger_raw...                                                0   \n",
       "812d6f3d-c4f9-4e10-9039-4ebe9b3100c3_sanger_raw...                                                0   \n",
       "ca52ea0e-5021-463b-8821-5e7c765812ff_sanger_raw...                                                0   \n",
       "8db95363-6eb3-4a90-affd-0c948a05c27c_sanger_raw...                                                0   \n",
       "cf565879-9f53-4fd1-b0da-065869293342_sanger_raw...                                                0   \n",
       "\n",
       "                                                    chr6_25553968_25554047_25553990_25553992_CT_C  \\\n",
       "Patient_ID                                                                                          \n",
       "a5867fd1-4897-4559-855a-c30002d3c6bb_sanger_raw...                                              0   \n",
       "0f158d5f-16c7-4fb7-b48c-0ff392f1706b_sanger_raw...                                              0   \n",
       "af56a9e4-b896-4d47-b9c0-930eb68862bd_sanger_raw...                                              0   \n",
       "447a08c8-3488-45d1-9262-23c42341296f_sanger_raw...                                              0   \n",
       "033db366-1af1-4bd9-8339-c54800b1de57_sanger_raw...                                              0   \n",
       "...                                                                                           ...   \n",
       "03c1c33e-c4a8-4c31-8a29-0d8b3e7bda83_sanger_raw...                                              0   \n",
       "812d6f3d-c4f9-4e10-9039-4ebe9b3100c3_sanger_raw...                                              0   \n",
       "ca52ea0e-5021-463b-8821-5e7c765812ff_sanger_raw...                                              0   \n",
       "8db95363-6eb3-4a90-affd-0c948a05c27c_sanger_raw...                                              0   \n",
       "cf565879-9f53-4fd1-b0da-065869293342_sanger_raw...                                              0   \n",
       "\n",
       "                                                    chr18_8361052_8361131_8361058_8361060_CT_C  \\\n",
       "Patient_ID                                                                                       \n",
       "a5867fd1-4897-4559-855a-c30002d3c6bb_sanger_raw...                                           0   \n",
       "0f158d5f-16c7-4fb7-b48c-0ff392f1706b_sanger_raw...                                           0   \n",
       "af56a9e4-b896-4d47-b9c0-930eb68862bd_sanger_raw...                                           0   \n",
       "447a08c8-3488-45d1-9262-23c42341296f_sanger_raw...                                           0   \n",
       "033db366-1af1-4bd9-8339-c54800b1de57_sanger_raw...                                           0   \n",
       "...                                                                                        ...   \n",
       "03c1c33e-c4a8-4c31-8a29-0d8b3e7bda83_sanger_raw...                                           0   \n",
       "812d6f3d-c4f9-4e10-9039-4ebe9b3100c3_sanger_raw...                                           0   \n",
       "ca52ea0e-5021-463b-8821-5e7c765812ff_sanger_raw...                                           0   \n",
       "8db95363-6eb3-4a90-affd-0c948a05c27c_sanger_raw...                                           0   \n",
       "cf565879-9f53-4fd1-b0da-065869293342_sanger_raw...                                           0   \n",
       "\n",
       "                                                    chr15_68719103_68719182_68719104_68719105_G_GC  \\\n",
       "Patient_ID                                                                                           \n",
       "a5867fd1-4897-4559-855a-c30002d3c6bb_sanger_raw...                                               0   \n",
       "0f158d5f-16c7-4fb7-b48c-0ff392f1706b_sanger_raw...                                               0   \n",
       "af56a9e4-b896-4d47-b9c0-930eb68862bd_sanger_raw...                                               0   \n",
       "447a08c8-3488-45d1-9262-23c42341296f_sanger_raw...                                               0   \n",
       "033db366-1af1-4bd9-8339-c54800b1de57_sanger_raw...                                               0   \n",
       "...                                                                                            ...   \n",
       "03c1c33e-c4a8-4c31-8a29-0d8b3e7bda83_sanger_raw...                                               0   \n",
       "812d6f3d-c4f9-4e10-9039-4ebe9b3100c3_sanger_raw...                                               0   \n",
       "ca52ea0e-5021-463b-8821-5e7c765812ff_sanger_raw...                                               0   \n",
       "8db95363-6eb3-4a90-affd-0c948a05c27c_sanger_raw...                                               0   \n",
       "cf565879-9f53-4fd1-b0da-065869293342_sanger_raw...                                               0   \n",
       "\n",
       "                                                    chr22_44093891_44093970_44093897_44093899_AC_A  \n",
       "Patient_ID                                                                                          \n",
       "a5867fd1-4897-4559-855a-c30002d3c6bb_sanger_raw...                                               0  \n",
       "0f158d5f-16c7-4fb7-b48c-0ff392f1706b_sanger_raw...                                               0  \n",
       "af56a9e4-b896-4d47-b9c0-930eb68862bd_sanger_raw...                                               0  \n",
       "447a08c8-3488-45d1-9262-23c42341296f_sanger_raw...                                               0  \n",
       "033db366-1af1-4bd9-8339-c54800b1de57_sanger_raw...                                               0  \n",
       "...                                                                                            ...  \n",
       "03c1c33e-c4a8-4c31-8a29-0d8b3e7bda83_sanger_raw...                                               0  \n",
       "812d6f3d-c4f9-4e10-9039-4ebe9b3100c3_sanger_raw...                                               0  \n",
       "ca52ea0e-5021-463b-8821-5e7c765812ff_sanger_raw...                                               0  \n",
       "8db95363-6eb3-4a90-affd-0c948a05c27c_sanger_raw...                                               0  \n",
       "cf565879-9f53-4fd1-b0da-065869293342_sanger_raw...                                               0  \n",
       "\n",
       "[216 rows x 505 columns]"
      ]
     },
     "execution_count": 44,
     "metadata": {},
     "output_type": "execute_result"
    }
   ],
   "source": [
    "data_processed[top_columns]"
   ]
  },
  {
   "cell_type": "code",
   "execution_count": 45,
   "id": "4448c5aa-8bfe-4af3-b528-ba47e699656d",
   "metadata": {},
   "outputs": [],
   "source": [
    "scaler = StandardScaler()\n",
    "scaled_data = scaler.fit_transform(data_processed[top_columns])"
   ]
  },
  {
   "cell_type": "code",
   "execution_count": 46,
   "id": "96db3cda-9bb5-42b6-982b-6713503ac987",
   "metadata": {},
   "outputs": [
    {
     "data": {
      "text/plain": [
       "array([[-1.        ,  1.00930253, -1.02817453, ..., -0.06819943,\n",
       "        -0.06819943, -0.06819943],\n",
       "       [ 1.        ,  1.00930253,  0.97259753, ..., -0.06819943,\n",
       "        -0.06819943, -0.06819943],\n",
       "       [ 1.        ,  1.00930253, -1.02817453, ..., -0.06819943,\n",
       "        -0.06819943, -0.06819943],\n",
       "       ...,\n",
       "       [ 1.        ,  1.00930253, -1.02817453, ..., -0.06819943,\n",
       "        -0.06819943, -0.06819943],\n",
       "       [-1.        , -0.99078321,  0.97259753, ..., -0.06819943,\n",
       "        -0.06819943, -0.06819943],\n",
       "       [-1.        , -0.99078321,  0.97259753, ..., -0.06819943,\n",
       "        -0.06819943, -0.06819943]])"
      ]
     },
     "execution_count": 46,
     "metadata": {},
     "output_type": "execute_result"
    }
   ],
   "source": [
    "scaled_data"
   ]
  },
  {
   "cell_type": "code",
   "execution_count": 47,
   "id": "78e4363b-6ae8-40c5-bde3-704fefe8b8b0",
   "metadata": {},
   "outputs": [
    {
     "data": {
      "application/vnd.plotly.v1+json": {
       "config": {
        "plotlyServerURL": "https://plot.ly"
       },
       "data": [
        {
         "hoverinfo": "text",
         "marker": {
          "color": "rgb(61,153,112)"
         },
         "mode": "lines",
         "type": "scatter",
         "x": [
          5,
          5,
          15,
          15
         ],
         "xaxis": "x",
         "y": [
          0,
          45.66985671863733,
          45.66985671863733,
          0
         ],
         "yaxis": "y"
        },
        {
         "hoverinfo": "text",
         "marker": {
          "color": "rgb(255,65,54)"
         },
         "mode": "lines",
         "type": "scatter",
         "x": [
          85,
          85,
          95,
          95
         ],
         "xaxis": "x",
         "y": [
          0,
          7.204943523931178,
          7.204943523931178,
          0
         ],
         "yaxis": "y"
        },
        {
         "hoverinfo": "text",
         "marker": {
          "color": "rgb(255,65,54)"
         },
         "mode": "lines",
         "type": "scatter",
         "x": [
          75,
          75,
          90,
          90
         ],
         "xaxis": "x",
         "y": [
          0,
          34.17313886601583,
          34.17313886601583,
          7.204943523931178
         ],
         "yaxis": "y"
        },
        {
         "hoverinfo": "text",
         "marker": {
          "color": "rgb(255,65,54)"
         },
         "mode": "lines",
         "type": "scatter",
         "x": [
          125,
          125,
          135,
          135
         ],
         "xaxis": "x",
         "y": [
          0,
          26.94927511493441,
          26.94927511493441,
          0
         ],
         "yaxis": "y"
        },
        {
         "hoverinfo": "text",
         "marker": {
          "color": "rgb(255,65,54)"
         },
         "mode": "lines",
         "type": "scatter",
         "x": [
          115,
          115,
          130,
          130
         ],
         "xaxis": "x",
         "y": [
          0,
          32.821969312606946,
          32.821969312606946,
          26.94927511493441
         ],
         "yaxis": "y"
        },
        {
         "hoverinfo": "text",
         "marker": {
          "color": "rgb(255,65,54)"
         },
         "mode": "lines",
         "type": "scatter",
         "x": [
          145,
          145,
          155,
          155
         ],
         "xaxis": "x",
         "y": [
          0,
          29.633289227217187,
          29.633289227217187,
          0
         ],
         "yaxis": "y"
        },
        {
         "hoverinfo": "text",
         "marker": {
          "color": "rgb(255,65,54)"
         },
         "mode": "lines",
         "type": "scatter",
         "x": [
          205,
          205,
          215,
          215
         ],
         "xaxis": "x",
         "y": [
          0,
          22.122373180837133,
          22.122373180837133,
          0
         ],
         "yaxis": "y"
        },
        {
         "hoverinfo": "text",
         "marker": {
          "color": "rgb(255,65,54)"
         },
         "mode": "lines",
         "type": "scatter",
         "x": [
          195,
          195,
          210,
          210
         ],
         "xaxis": "x",
         "y": [
          0,
          23.63985953905728,
          23.63985953905728,
          22.122373180837133
         ],
         "yaxis": "y"
        },
        {
         "hoverinfo": "text",
         "marker": {
          "color": "rgb(255,65,54)"
         },
         "mode": "lines",
         "type": "scatter",
         "x": [
          235,
          235,
          245,
          245
         ],
         "xaxis": "x",
         "y": [
          0,
          22.886556121968397,
          22.886556121968397,
          0
         ],
         "yaxis": "y"
        },
        {
         "hoverinfo": "text",
         "marker": {
          "color": "rgb(255,65,54)"
         },
         "mode": "lines",
         "type": "scatter",
         "x": [
          225,
          225,
          240,
          240
         ],
         "xaxis": "x",
         "y": [
          0,
          24.657682123923077,
          24.657682123923077,
          22.886556121968397
         ],
         "yaxis": "y"
        },
        {
         "hoverinfo": "text",
         "marker": {
          "color": "rgb(255,65,54)"
         },
         "mode": "lines",
         "type": "scatter",
         "x": [
          202.5,
          202.5,
          232.5,
          232.5
         ],
         "xaxis": "x",
         "y": [
          23.63985953905728,
          26.07067878663454,
          26.07067878663454,
          24.657682123923077
         ],
         "yaxis": "y"
        },
        {
         "hoverinfo": "text",
         "marker": {
          "color": "rgb(255,65,54)"
         },
         "mode": "lines",
         "type": "scatter",
         "x": [
          185,
          185,
          217.5,
          217.5
         ],
         "xaxis": "x",
         "y": [
          0,
          27.8986583373972,
          27.8986583373972,
          26.07067878663454
         ],
         "yaxis": "y"
        },
        {
         "hoverinfo": "text",
         "marker": {
          "color": "rgb(255,65,54)"
         },
         "mode": "lines",
         "type": "scatter",
         "x": [
          175,
          175,
          201.25,
          201.25
         ],
         "xaxis": "x",
         "y": [
          0,
          29.826025581552557,
          29.826025581552557,
          27.8986583373972
         ],
         "yaxis": "y"
        },
        {
         "hoverinfo": "text",
         "marker": {
          "color": "rgb(255,65,54)"
         },
         "mode": "lines",
         "type": "scatter",
         "x": [
          165,
          165,
          188.125,
          188.125
         ],
         "xaxis": "x",
         "y": [
          0,
          30.23674376247811,
          30.23674376247811,
          29.826025581552557
         ],
         "yaxis": "y"
        },
        {
         "hoverinfo": "text",
         "marker": {
          "color": "rgb(255,65,54)"
         },
         "mode": "lines",
         "type": "scatter",
         "x": [
          150,
          150,
          176.5625,
          176.5625
         ],
         "xaxis": "x",
         "y": [
          29.633289227217187,
          30.88497901004043,
          30.88497901004043,
          30.23674376247811
         ],
         "yaxis": "y"
        },
        {
         "hoverinfo": "text",
         "marker": {
          "color": "rgb(255,65,54)"
         },
         "mode": "lines",
         "type": "scatter",
         "x": [
          265,
          265,
          275,
          275
         ],
         "xaxis": "x",
         "y": [
          0,
          27.902300945801016,
          27.902300945801016,
          0
         ],
         "yaxis": "y"
        },
        {
         "hoverinfo": "text",
         "marker": {
          "color": "rgb(255,65,54)"
         },
         "mode": "lines",
         "type": "scatter",
         "x": [
          255,
          255,
          270,
          270
         ],
         "xaxis": "x",
         "y": [
          0,
          29.51790035292878,
          29.51790035292878,
          27.902300945801016
         ],
         "yaxis": "y"
        },
        {
         "hoverinfo": "text",
         "marker": {
          "color": "rgb(255,65,54)"
         },
         "mode": "lines",
         "type": "scatter",
         "x": [
          295,
          295,
          305,
          305
         ],
         "xaxis": "x",
         "y": [
          0,
          24.404387583475827,
          24.404387583475827,
          0
         ],
         "yaxis": "y"
        },
        {
         "hoverinfo": "text",
         "marker": {
          "color": "rgb(255,65,54)"
         },
         "mode": "lines",
         "type": "scatter",
         "x": [
          315,
          315,
          325,
          325
         ],
         "xaxis": "x",
         "y": [
          0,
          19.05411401120391,
          19.05411401120391,
          0
         ],
         "yaxis": "y"
        },
        {
         "hoverinfo": "text",
         "marker": {
          "color": "rgb(255,65,54)"
         },
         "mode": "lines",
         "type": "scatter",
         "x": [
          335,
          335,
          345,
          345
         ],
         "xaxis": "x",
         "y": [
          0,
          21.745084461438662,
          21.745084461438662,
          0
         ],
         "yaxis": "y"
        },
        {
         "hoverinfo": "text",
         "marker": {
          "color": "rgb(255,65,54)"
         },
         "mode": "lines",
         "type": "scatter",
         "x": [
          355,
          355,
          365,
          365
         ],
         "xaxis": "x",
         "y": [
          0,
          19.51428969732528,
          19.51428969732528,
          0
         ],
         "yaxis": "y"
        },
        {
         "hoverinfo": "text",
         "marker": {
          "color": "rgb(255,65,54)"
         },
         "mode": "lines",
         "type": "scatter",
         "x": [
          385,
          385,
          395,
          395
         ],
         "xaxis": "x",
         "y": [
          0,
          19.193616653317772,
          19.193616653317772,
          0
         ],
         "yaxis": "y"
        },
        {
         "hoverinfo": "text",
         "marker": {
          "color": "rgb(255,65,54)"
         },
         "mode": "lines",
         "type": "scatter",
         "x": [
          375,
          375,
          390,
          390
         ],
         "xaxis": "x",
         "y": [
          0,
          20.22588887868484,
          20.22588887868484,
          19.193616653317772
         ],
         "yaxis": "y"
        },
        {
         "hoverinfo": "text",
         "marker": {
          "color": "rgb(255,65,54)"
         },
         "mode": "lines",
         "type": "scatter",
         "x": [
          405,
          405,
          415,
          415
         ],
         "xaxis": "x",
         "y": [
          0,
          18.90810768332763,
          18.90810768332763,
          0
         ],
         "yaxis": "y"
        },
        {
         "hoverinfo": "text",
         "marker": {
          "color": "rgb(255,65,54)"
         },
         "mode": "lines",
         "type": "scatter",
         "x": [
          445,
          445,
          455,
          455
         ],
         "xaxis": "x",
         "y": [
          0,
          19.349826544181344,
          19.349826544181344,
          0
         ],
         "yaxis": "y"
        },
        {
         "hoverinfo": "text",
         "marker": {
          "color": "rgb(255,65,54)"
         },
         "mode": "lines",
         "type": "scatter",
         "x": [
          435,
          435,
          450,
          450
         ],
         "xaxis": "x",
         "y": [
          0,
          20.245499808488923,
          20.245499808488923,
          19.349826544181344
         ],
         "yaxis": "y"
        },
        {
         "hoverinfo": "text",
         "marker": {
          "color": "rgb(255,65,54)"
         },
         "mode": "lines",
         "type": "scatter",
         "x": [
          485,
          485,
          495,
          495
         ],
         "xaxis": "x",
         "y": [
          0,
          15.027072288269183,
          15.027072288269183,
          0
         ],
         "yaxis": "y"
        },
        {
         "hoverinfo": "text",
         "marker": {
          "color": "rgb(255,65,54)"
         },
         "mode": "lines",
         "type": "scatter",
         "x": [
          505,
          505,
          515,
          515
         ],
         "xaxis": "x",
         "y": [
          0,
          14.283178640220573,
          14.283178640220573,
          0
         ],
         "yaxis": "y"
        },
        {
         "hoverinfo": "text",
         "marker": {
          "color": "rgb(255,65,54)"
         },
         "mode": "lines",
         "type": "scatter",
         "x": [
          525,
          525,
          535,
          535
         ],
         "xaxis": "x",
         "y": [
          0,
          15.122450090696898,
          15.122450090696898,
          0
         ],
         "yaxis": "y"
        },
        {
         "hoverinfo": "text",
         "marker": {
          "color": "rgb(255,65,54)"
         },
         "mode": "lines",
         "type": "scatter",
         "x": [
          510,
          510,
          530,
          530
         ],
         "xaxis": "x",
         "y": [
          14.283178640220573,
          15.756930304457766,
          15.756930304457766,
          15.122450090696898
         ],
         "yaxis": "y"
        },
        {
         "hoverinfo": "text",
         "marker": {
          "color": "rgb(255,65,54)"
         },
         "mode": "lines",
         "type": "scatter",
         "x": [
          490,
          490,
          520,
          520
         ],
         "xaxis": "x",
         "y": [
          15.027072288269183,
          17.733540768197873,
          17.733540768197873,
          15.756930304457766
         ],
         "yaxis": "y"
        },
        {
         "hoverinfo": "text",
         "marker": {
          "color": "rgb(255,65,54)"
         },
         "mode": "lines",
         "type": "scatter",
         "x": [
          475,
          475,
          505,
          505
         ],
         "xaxis": "x",
         "y": [
          0,
          18.73123026088021,
          18.73123026088021,
          17.733540768197873
         ],
         "yaxis": "y"
        },
        {
         "hoverinfo": "text",
         "marker": {
          "color": "rgb(255,65,54)"
         },
         "mode": "lines",
         "type": "scatter",
         "x": [
          465,
          465,
          490,
          490
         ],
         "xaxis": "x",
         "y": [
          0,
          21.210919184541705,
          21.210919184541705,
          18.73123026088021
         ],
         "yaxis": "y"
        },
        {
         "hoverinfo": "text",
         "marker": {
          "color": "rgb(255,65,54)"
         },
         "mode": "lines",
         "type": "scatter",
         "x": [
          442.5,
          442.5,
          477.5,
          477.5
         ],
         "xaxis": "x",
         "y": [
          20.245499808488923,
          21.806215794907736,
          21.806215794907736,
          21.210919184541705
         ],
         "yaxis": "y"
        },
        {
         "hoverinfo": "text",
         "marker": {
          "color": "rgb(255,65,54)"
         },
         "mode": "lines",
         "type": "scatter",
         "x": [
          425,
          425,
          460,
          460
         ],
         "xaxis": "x",
         "y": [
          0,
          24.082644370432284,
          24.082644370432284,
          21.806215794907736
         ],
         "yaxis": "y"
        },
        {
         "hoverinfo": "text",
         "marker": {
          "color": "rgb(255,65,54)"
         },
         "mode": "lines",
         "type": "scatter",
         "x": [
          410,
          410,
          442.5,
          442.5
         ],
         "xaxis": "x",
         "y": [
          18.90810768332763,
          25.131154971989638,
          25.131154971989638,
          24.082644370432284
         ],
         "yaxis": "y"
        },
        {
         "hoverinfo": "text",
         "marker": {
          "color": "rgb(255,65,54)"
         },
         "mode": "lines",
         "type": "scatter",
         "x": [
          382.5,
          382.5,
          426.25,
          426.25
         ],
         "xaxis": "x",
         "y": [
          20.22588887868484,
          25.98530287615422,
          25.98530287615422,
          25.131154971989638
         ],
         "yaxis": "y"
        },
        {
         "hoverinfo": "text",
         "marker": {
          "color": "rgb(255,65,54)"
         },
         "mode": "lines",
         "type": "scatter",
         "x": [
          360,
          360,
          404.375,
          404.375
         ],
         "xaxis": "x",
         "y": [
          19.51428969732528,
          26.460191206786767,
          26.460191206786767,
          25.98530287615422
         ],
         "yaxis": "y"
        },
        {
         "hoverinfo": "text",
         "marker": {
          "color": "rgb(255,65,54)"
         },
         "mode": "lines",
         "type": "scatter",
         "x": [
          340,
          340,
          382.1875,
          382.1875
         ],
         "xaxis": "x",
         "y": [
          21.745084461438662,
          27.481393301312767,
          27.481393301312767,
          26.460191206786767
         ],
         "yaxis": "y"
        },
        {
         "hoverinfo": "text",
         "marker": {
          "color": "rgb(255,65,54)"
         },
         "mode": "lines",
         "type": "scatter",
         "x": [
          320,
          320,
          361.09375,
          361.09375
         ],
         "xaxis": "x",
         "y": [
          19.05411401120391,
          28.143669706710398,
          28.143669706710398,
          27.481393301312767
         ],
         "yaxis": "y"
        },
        {
         "hoverinfo": "text",
         "marker": {
          "color": "rgb(255,65,54)"
         },
         "mode": "lines",
         "type": "scatter",
         "x": [
          300,
          300,
          340.546875,
          340.546875
         ],
         "xaxis": "x",
         "y": [
          24.404387583475827,
          29.223746847335992,
          29.223746847335992,
          28.143669706710398
         ],
         "yaxis": "y"
        },
        {
         "hoverinfo": "text",
         "marker": {
          "color": "rgb(255,65,54)"
         },
         "mode": "lines",
         "type": "scatter",
         "x": [
          285,
          285,
          320.2734375,
          320.2734375
         ],
         "xaxis": "x",
         "y": [
          0,
          30.023235907677243,
          30.023235907677243,
          29.223746847335992
         ],
         "yaxis": "y"
        },
        {
         "hoverinfo": "text",
         "marker": {
          "color": "rgb(255,65,54)"
         },
         "mode": "lines",
         "type": "scatter",
         "x": [
          262.5,
          262.5,
          302.63671875,
          302.63671875
         ],
         "xaxis": "x",
         "y": [
          29.51790035292878,
          30.12367471331571,
          30.12367471331571,
          30.023235907677243
         ],
         "yaxis": "y"
        },
        {
         "hoverinfo": "text",
         "marker": {
          "color": "rgb(255,65,54)"
         },
         "mode": "lines",
         "type": "scatter",
         "x": [
          555,
          555,
          565,
          565
         ],
         "xaxis": "x",
         "y": [
          0,
          27.255344606093924,
          27.255344606093924,
          0
         ],
         "yaxis": "y"
        },
        {
         "hoverinfo": "text",
         "marker": {
          "color": "rgb(255,65,54)"
         },
         "mode": "lines",
         "type": "scatter",
         "x": [
          545,
          545,
          560,
          560
         ],
         "xaxis": "x",
         "y": [
          0,
          31.428491627496744,
          31.428491627496744,
          27.255344606093924
         ],
         "yaxis": "y"
        },
        {
         "hoverinfo": "text",
         "marker": {
          "color": "rgb(255,65,54)"
         },
         "mode": "lines",
         "type": "scatter",
         "x": [
          282.568359375,
          282.568359375,
          552.5,
          552.5
         ],
         "xaxis": "x",
         "y": [
          30.12367471331571,
          31.853610839675355,
          31.853610839675355,
          31.428491627496744
         ],
         "yaxis": "y"
        },
        {
         "hoverinfo": "text",
         "marker": {
          "color": "rgb(255,65,54)"
         },
         "mode": "lines",
         "type": "scatter",
         "x": [
          163.28125,
          163.28125,
          417.5341796875,
          417.5341796875
         ],
         "xaxis": "x",
         "y": [
          30.88497901004043,
          32.68658455382659,
          32.68658455382659,
          31.853610839675355
         ],
         "yaxis": "y"
        },
        {
         "hoverinfo": "text",
         "marker": {
          "color": "rgb(255,65,54)"
         },
         "mode": "lines",
         "type": "scatter",
         "x": [
          605,
          605,
          615,
          615
         ],
         "xaxis": "x",
         "y": [
          0,
          24.119232191757412,
          24.119232191757412,
          0
         ],
         "yaxis": "y"
        },
        {
         "hoverinfo": "text",
         "marker": {
          "color": "rgb(255,65,54)"
         },
         "mode": "lines",
         "type": "scatter",
         "x": [
          595,
          595,
          610,
          610
         ],
         "xaxis": "x",
         "y": [
          0,
          26.020420934294666,
          26.020420934294666,
          24.119232191757412
         ],
         "yaxis": "y"
        },
        {
         "hoverinfo": "text",
         "marker": {
          "color": "rgb(255,65,54)"
         },
         "mode": "lines",
         "type": "scatter",
         "x": [
          585,
          585,
          602.5,
          602.5
         ],
         "xaxis": "x",
         "y": [
          0,
          29.952961559548456,
          29.952961559548456,
          26.020420934294666
         ],
         "yaxis": "y"
        },
        {
         "hoverinfo": "text",
         "marker": {
          "color": "rgb(255,65,54)"
         },
         "mode": "lines",
         "type": "scatter",
         "x": [
          575,
          575,
          593.75,
          593.75
         ],
         "xaxis": "x",
         "y": [
          0,
          33.753275321218716,
          33.753275321218716,
          29.952961559548456
         ],
         "yaxis": "y"
        },
        {
         "hoverinfo": "text",
         "marker": {
          "color": "rgb(255,65,54)"
         },
         "mode": "lines",
         "type": "scatter",
         "x": [
          290.40771484375,
          290.40771484375,
          584.375,
          584.375
         ],
         "xaxis": "x",
         "y": [
          32.68658455382659,
          35.60914049524606,
          35.60914049524606,
          33.753275321218716
         ],
         "yaxis": "y"
        },
        {
         "hoverinfo": "text",
         "marker": {
          "color": "rgb(255,65,54)"
         },
         "mode": "lines",
         "type": "scatter",
         "x": [
          122.5,
          122.5,
          437.391357421875,
          437.391357421875
         ],
         "xaxis": "x",
         "y": [
          32.821969312606946,
          36.24194660644503,
          36.24194660644503,
          35.60914049524606
         ],
         "yaxis": "y"
        },
        {
         "hoverinfo": "text",
         "marker": {
          "color": "rgb(255,65,54)"
         },
         "mode": "lines",
         "type": "scatter",
         "x": [
          105,
          105,
          279.9456787109375,
          279.9456787109375
         ],
         "xaxis": "x",
         "y": [
          0,
          37.113604141557595,
          37.113604141557595,
          36.24194660644503
         ],
         "yaxis": "y"
        },
        {
         "hoverinfo": "text",
         "marker": {
          "color": "rgb(255,65,54)"
         },
         "mode": "lines",
         "type": "scatter",
         "x": [
          82.5,
          82.5,
          192.47283935546875,
          192.47283935546875
         ],
         "xaxis": "x",
         "y": [
          34.17313886601583,
          38.150027687518005,
          38.150027687518005,
          37.113604141557595
         ],
         "yaxis": "y"
        },
        {
         "hoverinfo": "text",
         "marker": {
          "color": "rgb(255,65,54)"
         },
         "mode": "lines",
         "type": "scatter",
         "x": [
          65,
          65,
          137.48641967773438,
          137.48641967773438
         ],
         "xaxis": "x",
         "y": [
          0,
          39.55602824702009,
          39.55602824702009,
          38.150027687518005
         ],
         "yaxis": "y"
        },
        {
         "hoverinfo": "text",
         "marker": {
          "color": "rgb(255,65,54)"
         },
         "mode": "lines",
         "type": "scatter",
         "x": [
          55,
          55,
          101.24320983886719,
          101.24320983886719
         ],
         "xaxis": "x",
         "y": [
          0,
          39.63568944443887,
          39.63568944443887,
          39.55602824702009
         ],
         "yaxis": "y"
        },
        {
         "hoverinfo": "text",
         "marker": {
          "color": "rgb(255,65,54)"
         },
         "mode": "lines",
         "type": "scatter",
         "x": [
          45,
          45,
          78.1216049194336,
          78.1216049194336
         ],
         "xaxis": "x",
         "y": [
          0,
          39.89892395066919,
          39.89892395066919,
          39.63568944443887
         ],
         "yaxis": "y"
        },
        {
         "hoverinfo": "text",
         "marker": {
          "color": "rgb(255,65,54)"
         },
         "mode": "lines",
         "type": "scatter",
         "x": [
          35,
          35,
          61.5608024597168,
          61.5608024597168
         ],
         "xaxis": "x",
         "y": [
          0,
          42.644846789941155,
          42.644846789941155,
          39.89892395066919
         ],
         "yaxis": "y"
        },
        {
         "hoverinfo": "text",
         "marker": {
          "color": "rgb(255,65,54)"
         },
         "mode": "lines",
         "type": "scatter",
         "x": [
          25,
          25,
          48.2804012298584,
          48.2804012298584
         ],
         "xaxis": "x",
         "y": [
          0,
          47.82320477303475,
          47.82320477303475,
          42.644846789941155
         ],
         "yaxis": "y"
        },
        {
         "hoverinfo": "text",
         "marker": {
          "color": "rgb(255,65,54)"
         },
         "mode": "lines",
         "type": "scatter",
         "x": [
          705,
          705,
          715,
          715
         ],
         "xaxis": "x",
         "y": [
          0,
          27.404889959070914,
          27.404889959070914,
          0
         ],
         "yaxis": "y"
        },
        {
         "hoverinfo": "text",
         "marker": {
          "color": "rgb(255,65,54)"
         },
         "mode": "lines",
         "type": "scatter",
         "x": [
          695,
          695,
          710,
          710
         ],
         "xaxis": "x",
         "y": [
          0,
          29.506040418026284,
          29.506040418026284,
          27.404889959070914
         ],
         "yaxis": "y"
        },
        {
         "hoverinfo": "text",
         "marker": {
          "color": "rgb(255,65,54)"
         },
         "mode": "lines",
         "type": "scatter",
         "x": [
          725,
          725,
          735,
          735
         ],
         "xaxis": "x",
         "y": [
          0,
          30.249418279056588,
          30.249418279056588,
          0
         ],
         "yaxis": "y"
        },
        {
         "hoverinfo": "text",
         "marker": {
          "color": "rgb(255,65,54)"
         },
         "mode": "lines",
         "type": "scatter",
         "x": [
          702.5,
          702.5,
          730,
          730
         ],
         "xaxis": "x",
         "y": [
          29.506040418026284,
          32.161829067036194,
          32.161829067036194,
          30.249418279056588
         ],
         "yaxis": "y"
        },
        {
         "hoverinfo": "text",
         "marker": {
          "color": "rgb(255,65,54)"
         },
         "mode": "lines",
         "type": "scatter",
         "x": [
          755,
          755,
          765,
          765
         ],
         "xaxis": "x",
         "y": [
          0,
          19.919838702887017,
          19.919838702887017,
          0
         ],
         "yaxis": "y"
        },
        {
         "hoverinfo": "text",
         "marker": {
          "color": "rgb(255,65,54)"
         },
         "mode": "lines",
         "type": "scatter",
         "x": [
          745,
          745,
          760,
          760
         ],
         "xaxis": "x",
         "y": [
          0,
          28.03674917245149,
          28.03674917245149,
          19.919838702887017
         ],
         "yaxis": "y"
        },
        {
         "hoverinfo": "text",
         "marker": {
          "color": "rgb(255,65,54)"
         },
         "mode": "lines",
         "type": "scatter",
         "x": [
          795,
          795,
          805,
          805
         ],
         "xaxis": "x",
         "y": [
          0,
          20.088761936085543,
          20.088761936085543,
          0
         ],
         "yaxis": "y"
        },
        {
         "hoverinfo": "text",
         "marker": {
          "color": "rgb(255,65,54)"
         },
         "mode": "lines",
         "type": "scatter",
         "x": [
          825,
          825,
          835,
          835
         ],
         "xaxis": "x",
         "y": [
          0,
          21.0714225758045,
          21.0714225758045,
          0
         ],
         "yaxis": "y"
        },
        {
         "hoverinfo": "text",
         "marker": {
          "color": "rgb(255,65,54)"
         },
         "mode": "lines",
         "type": "scatter",
         "x": [
          815,
          815,
          830,
          830
         ],
         "xaxis": "x",
         "y": [
          0,
          26.845119074885936,
          26.845119074885936,
          21.0714225758045
         ],
         "yaxis": "y"
        },
        {
         "hoverinfo": "text",
         "marker": {
          "color": "rgb(255,65,54)"
         },
         "mode": "lines",
         "type": "scatter",
         "x": [
          800,
          800,
          822.5,
          822.5
         ],
         "xaxis": "x",
         "y": [
          20.088761936085543,
          27.641044109743238,
          27.641044109743238,
          26.845119074885936
         ],
         "yaxis": "y"
        },
        {
         "hoverinfo": "text",
         "marker": {
          "color": "rgb(255,65,54)"
         },
         "mode": "lines",
         "type": "scatter",
         "x": [
          845,
          845,
          855,
          855
         ],
         "xaxis": "x",
         "y": [
          0,
          25.08146699782502,
          25.08146699782502,
          0
         ],
         "yaxis": "y"
        },
        {
         "hoverinfo": "text",
         "marker": {
          "color": "rgb(255,65,54)"
         },
         "mode": "lines",
         "type": "scatter",
         "x": [
          865,
          865,
          875,
          875
         ],
         "xaxis": "x",
         "y": [
          0,
          21.62590518944639,
          21.62590518944639,
          0
         ],
         "yaxis": "y"
        },
        {
         "hoverinfo": "text",
         "marker": {
          "color": "rgb(255,65,54)"
         },
         "mode": "lines",
         "type": "scatter",
         "x": [
          895,
          895,
          905,
          905
         ],
         "xaxis": "x",
         "y": [
          0,
          24.723733514497678,
          24.723733514497678,
          0
         ],
         "yaxis": "y"
        },
        {
         "hoverinfo": "text",
         "marker": {
          "color": "rgb(255,65,54)"
         },
         "mode": "lines",
         "type": "scatter",
         "x": [
          885,
          885,
          900,
          900
         ],
         "xaxis": "x",
         "y": [
          0,
          25.728665123352016,
          25.728665123352016,
          24.723733514497678
         ],
         "yaxis": "y"
        },
        {
         "hoverinfo": "text",
         "marker": {
          "color": "rgb(255,65,54)"
         },
         "mode": "lines",
         "type": "scatter",
         "x": [
          870,
          870,
          892.5,
          892.5
         ],
         "xaxis": "x",
         "y": [
          21.62590518944639,
          26.773814508207025,
          26.773814508207025,
          25.728665123352016
         ],
         "yaxis": "y"
        },
        {
         "hoverinfo": "text",
         "marker": {
          "color": "rgb(255,65,54)"
         },
         "mode": "lines",
         "type": "scatter",
         "x": [
          850,
          850,
          881.25,
          881.25
         ],
         "xaxis": "x",
         "y": [
          25.08146699782502,
          27.980945845435418,
          27.980945845435418,
          26.773814508207025
         ],
         "yaxis": "y"
        },
        {
         "hoverinfo": "text",
         "marker": {
          "color": "rgb(255,65,54)"
         },
         "mode": "lines",
         "type": "scatter",
         "x": [
          811.25,
          811.25,
          865.625,
          865.625
         ],
         "xaxis": "x",
         "y": [
          27.641044109743238,
          28.25289009456388,
          28.25289009456388,
          27.980945845435418
         ],
         "yaxis": "y"
        },
        {
         "hoverinfo": "text",
         "marker": {
          "color": "rgb(255,65,54)"
         },
         "mode": "lines",
         "type": "scatter",
         "x": [
          785,
          785,
          838.4375,
          838.4375
         ],
         "xaxis": "x",
         "y": [
          0,
          29.196923388219624,
          29.196923388219624,
          28.25289009456388
         ],
         "yaxis": "y"
        },
        {
         "hoverinfo": "text",
         "marker": {
          "color": "rgb(255,65,54)"
         },
         "mode": "lines",
         "type": "scatter",
         "x": [
          775,
          775,
          811.71875,
          811.71875
         ],
         "xaxis": "x",
         "y": [
          0,
          29.6072328561069,
          29.6072328561069,
          29.196923388219624
         ],
         "yaxis": "y"
        },
        {
         "hoverinfo": "text",
         "marker": {
          "color": "rgb(255,65,54)"
         },
         "mode": "lines",
         "type": "scatter",
         "x": [
          955,
          955,
          965,
          965
         ],
         "xaxis": "x",
         "y": [
          0,
          17.970596978324348,
          17.970596978324348,
          0
         ],
         "yaxis": "y"
        },
        {
         "hoverinfo": "text",
         "marker": {
          "color": "rgb(255,65,54)"
         },
         "mode": "lines",
         "type": "scatter",
         "x": [
          945,
          945,
          960,
          960
         ],
         "xaxis": "x",
         "y": [
          0,
          18.894167534472736,
          18.894167534472736,
          17.970596978324348
         ],
         "yaxis": "y"
        },
        {
         "hoverinfo": "text",
         "marker": {
          "color": "rgb(255,65,54)"
         },
         "mode": "lines",
         "type": "scatter",
         "x": [
          935,
          935,
          952.5,
          952.5
         ],
         "xaxis": "x",
         "y": [
          0,
          21.033265589936565,
          21.033265589936565,
          18.894167534472736
         ],
         "yaxis": "y"
        },
        {
         "hoverinfo": "text",
         "marker": {
          "color": "rgb(255,65,54)"
         },
         "mode": "lines",
         "type": "scatter",
         "x": [
          975,
          975,
          985,
          985
         ],
         "xaxis": "x",
         "y": [
          0,
          25.746168517109183,
          25.746168517109183,
          0
         ],
         "yaxis": "y"
        },
        {
         "hoverinfo": "text",
         "marker": {
          "color": "rgb(255,65,54)"
         },
         "mode": "lines",
         "type": "scatter",
         "x": [
          943.75,
          943.75,
          980,
          980
         ],
         "xaxis": "x",
         "y": [
          21.033265589936565,
          26.302385814227218,
          26.302385814227218,
          25.746168517109183
         ],
         "yaxis": "y"
        },
        {
         "hoverinfo": "text",
         "marker": {
          "color": "rgb(255,65,54)"
         },
         "mode": "lines",
         "type": "scatter",
         "x": [
          925,
          925,
          961.875,
          961.875
         ],
         "xaxis": "x",
         "y": [
          0,
          27.37446968739801,
          27.37446968739801,
          26.302385814227218
         ],
         "yaxis": "y"
        },
        {
         "hoverinfo": "text",
         "marker": {
          "color": "rgb(255,65,54)"
         },
         "mode": "lines",
         "type": "scatter",
         "x": [
          1025,
          1025,
          1035,
          1035
         ],
         "xaxis": "x",
         "y": [
          0,
          16.278096227591327,
          16.278096227591327,
          0
         ],
         "yaxis": "y"
        },
        {
         "hoverinfo": "text",
         "marker": {
          "color": "rgb(255,65,54)"
         },
         "mode": "lines",
         "type": "scatter",
         "x": [
          1075,
          1075,
          1085,
          1085
         ],
         "xaxis": "x",
         "y": [
          0,
          15.538055577059742,
          15.538055577059742,
          0
         ],
         "yaxis": "y"
        },
        {
         "hoverinfo": "text",
         "marker": {
          "color": "rgb(255,65,54)"
         },
         "mode": "lines",
         "type": "scatter",
         "x": [
          1065,
          1065,
          1080,
          1080
         ],
         "xaxis": "x",
         "y": [
          0,
          16.52855506891541,
          16.52855506891541,
          15.538055577059742
         ],
         "yaxis": "y"
        },
        {
         "hoverinfo": "text",
         "marker": {
          "color": "rgb(255,65,54)"
         },
         "mode": "lines",
         "type": "scatter",
         "x": [
          1055,
          1055,
          1072.5,
          1072.5
         ],
         "xaxis": "x",
         "y": [
          0,
          18.129973901965506,
          18.129973901965506,
          16.52855506891541
         ],
         "yaxis": "y"
        },
        {
         "hoverinfo": "text",
         "marker": {
          "color": "rgb(255,65,54)"
         },
         "mode": "lines",
         "type": "scatter",
         "x": [
          1045,
          1045,
          1063.75,
          1063.75
         ],
         "xaxis": "x",
         "y": [
          0,
          18.608156675454364,
          18.608156675454364,
          18.129973901965506
         ],
         "yaxis": "y"
        },
        {
         "hoverinfo": "text",
         "marker": {
          "color": "rgb(255,65,54)"
         },
         "mode": "lines",
         "type": "scatter",
         "x": [
          1030,
          1030,
          1054.375,
          1054.375
         ],
         "xaxis": "x",
         "y": [
          16.278096227591327,
          19.87910259353761,
          19.87910259353761,
          18.608156675454364
         ],
         "yaxis": "y"
        },
        {
         "hoverinfo": "text",
         "marker": {
          "color": "rgb(255,65,54)"
         },
         "mode": "lines",
         "type": "scatter",
         "x": [
          1015,
          1015,
          1042.1875,
          1042.1875
         ],
         "xaxis": "x",
         "y": [
          0,
          20.366518240611946,
          20.366518240611946,
          19.87910259353761
         ],
         "yaxis": "y"
        },
        {
         "hoverinfo": "text",
         "marker": {
          "color": "rgb(255,65,54)"
         },
         "mode": "lines",
         "type": "scatter",
         "x": [
          1005,
          1005,
          1028.59375,
          1028.59375
         ],
         "xaxis": "x",
         "y": [
          0,
          21.882271506957192,
          21.882271506957192,
          20.366518240611946
         ],
         "yaxis": "y"
        },
        {
         "hoverinfo": "text",
         "marker": {
          "color": "rgb(255,65,54)"
         },
         "mode": "lines",
         "type": "scatter",
         "x": [
          995,
          995,
          1016.796875,
          1016.796875
         ],
         "xaxis": "x",
         "y": [
          0,
          25.299591254228137,
          25.299591254228137,
          21.882271506957192
         ],
         "yaxis": "y"
        },
        {
         "hoverinfo": "text",
         "marker": {
          "color": "rgb(255,65,54)"
         },
         "mode": "lines",
         "type": "scatter",
         "x": [
          1095,
          1095,
          1105,
          1105
         ],
         "xaxis": "x",
         "y": [
          0,
          27.632391178733346,
          27.632391178733346,
          0
         ],
         "yaxis": "y"
        },
        {
         "hoverinfo": "text",
         "marker": {
          "color": "rgb(255,65,54)"
         },
         "mode": "lines",
         "type": "scatter",
         "x": [
          1115,
          1115,
          1125,
          1125
         ],
         "xaxis": "x",
         "y": [
          0,
          21.899848887467492,
          21.899848887467492,
          0
         ],
         "yaxis": "y"
        },
        {
         "hoverinfo": "text",
         "marker": {
          "color": "rgb(255,65,54)"
         },
         "mode": "lines",
         "type": "scatter",
         "x": [
          1145,
          1145,
          1155,
          1155
         ],
         "xaxis": "x",
         "y": [
          0,
          26.343873335397948,
          26.343873335397948,
          0
         ],
         "yaxis": "y"
        },
        {
         "hoverinfo": "text",
         "marker": {
          "color": "rgb(255,65,54)"
         },
         "mode": "lines",
         "type": "scatter",
         "x": [
          1135,
          1135,
          1150,
          1150
         ],
         "xaxis": "x",
         "y": [
          0,
          26.812434447223,
          26.812434447223,
          26.343873335397948
         ],
         "yaxis": "y"
        },
        {
         "hoverinfo": "text",
         "marker": {
          "color": "rgb(255,65,54)"
         },
         "mode": "lines",
         "type": "scatter",
         "x": [
          1120,
          1120,
          1142.5,
          1142.5
         ],
         "xaxis": "x",
         "y": [
          21.899848887467492,
          27.681132846431055,
          27.681132846431055,
          26.812434447223
         ],
         "yaxis": "y"
        },
        {
         "hoverinfo": "text",
         "marker": {
          "color": "rgb(255,65,54)"
         },
         "mode": "lines",
         "type": "scatter",
         "x": [
          1195,
          1195,
          1205,
          1205
         ],
         "xaxis": "x",
         "y": [
          0,
          18.06127758022514,
          18.06127758022514,
          0
         ],
         "yaxis": "y"
        },
        {
         "hoverinfo": "text",
         "marker": {
          "color": "rgb(255,65,54)"
         },
         "mode": "lines",
         "type": "scatter",
         "x": [
          1185,
          1185,
          1200,
          1200
         ],
         "xaxis": "x",
         "y": [
          0,
          21.151148147807532,
          21.151148147807532,
          18.06127758022514
         ],
         "yaxis": "y"
        },
        {
         "hoverinfo": "text",
         "marker": {
          "color": "rgb(255,65,54)"
         },
         "mode": "lines",
         "type": "scatter",
         "x": [
          1175,
          1175,
          1192.5,
          1192.5
         ],
         "xaxis": "x",
         "y": [
          0,
          25.121094734068887,
          25.121094734068887,
          21.151148147807532
         ],
         "yaxis": "y"
        },
        {
         "hoverinfo": "text",
         "marker": {
          "color": "rgb(255,65,54)"
         },
         "mode": "lines",
         "type": "scatter",
         "x": [
          1225,
          1225,
          1235,
          1235
         ],
         "xaxis": "x",
         "y": [
          0,
          22.83787067802231,
          22.83787067802231,
          0
         ],
         "yaxis": "y"
        },
        {
         "hoverinfo": "text",
         "marker": {
          "color": "rgb(255,65,54)"
         },
         "mode": "lines",
         "type": "scatter",
         "x": [
          1255,
          1255,
          1265,
          1265
         ],
         "xaxis": "x",
         "y": [
          0,
          17.903910535986626,
          17.903910535986626,
          0
         ],
         "yaxis": "y"
        },
        {
         "hoverinfo": "text",
         "marker": {
          "color": "rgb(255,65,54)"
         },
         "mode": "lines",
         "type": "scatter",
         "x": [
          1245,
          1245,
          1260,
          1260
         ],
         "xaxis": "x",
         "y": [
          0,
          19.011817096697566,
          19.011817096697566,
          17.903910535986626
         ],
         "yaxis": "y"
        },
        {
         "hoverinfo": "text",
         "marker": {
          "color": "rgb(255,65,54)"
         },
         "mode": "lines",
         "type": "scatter",
         "x": [
          1285,
          1285,
          1295,
          1295
         ],
         "xaxis": "x",
         "y": [
          0,
          19.5833725816266,
          19.5833725816266,
          0
         ],
         "yaxis": "y"
        },
        {
         "hoverinfo": "text",
         "marker": {
          "color": "rgb(255,65,54)"
         },
         "mode": "lines",
         "type": "scatter",
         "x": [
          1325,
          1325,
          1335,
          1335
         ],
         "xaxis": "x",
         "y": [
          0,
          16.406663269481413,
          16.406663269481413,
          0
         ],
         "yaxis": "y"
        },
        {
         "hoverinfo": "text",
         "marker": {
          "color": "rgb(255,65,54)"
         },
         "mode": "lines",
         "type": "scatter",
         "x": [
          1315,
          1315,
          1330,
          1330
         ],
         "xaxis": "x",
         "y": [
          0,
          18.977460863231908,
          18.977460863231908,
          16.406663269481413
         ],
         "yaxis": "y"
        },
        {
         "hoverinfo": "text",
         "marker": {
          "color": "rgb(255,65,54)"
         },
         "mode": "lines",
         "type": "scatter",
         "x": [
          1305,
          1305,
          1322.5,
          1322.5
         ],
         "xaxis": "x",
         "y": [
          0,
          20.589321816985173,
          20.589321816985173,
          18.977460863231908
         ],
         "yaxis": "y"
        },
        {
         "hoverinfo": "text",
         "marker": {
          "color": "rgb(255,65,54)"
         },
         "mode": "lines",
         "type": "scatter",
         "x": [
          1290,
          1290,
          1313.75,
          1313.75
         ],
         "xaxis": "x",
         "y": [
          19.5833725816266,
          21.52114786725049,
          21.52114786725049,
          20.589321816985173
         ],
         "yaxis": "y"
        },
        {
         "hoverinfo": "text",
         "marker": {
          "color": "rgb(255,65,54)"
         },
         "mode": "lines",
         "type": "scatter",
         "x": [
          1275,
          1275,
          1301.875,
          1301.875
         ],
         "xaxis": "x",
         "y": [
          0,
          21.761258604530095,
          21.761258604530095,
          21.52114786725049
         ],
         "yaxis": "y"
        },
        {
         "hoverinfo": "text",
         "marker": {
          "color": "rgb(255,65,54)"
         },
         "mode": "lines",
         "type": "scatter",
         "x": [
          1252.5,
          1252.5,
          1288.4375,
          1288.4375
         ],
         "xaxis": "x",
         "y": [
          19.011817096697566,
          22.595077871963586,
          22.595077871963586,
          21.761258604530095
         ],
         "yaxis": "y"
        },
        {
         "hoverinfo": "text",
         "marker": {
          "color": "rgb(255,65,54)"
         },
         "mode": "lines",
         "type": "scatter",
         "x": [
          1355,
          1355,
          1365,
          1365
         ],
         "xaxis": "x",
         "y": [
          0,
          15.098085735567704,
          15.098085735567704,
          0
         ],
         "yaxis": "y"
        },
        {
         "hoverinfo": "text",
         "marker": {
          "color": "rgb(255,65,54)"
         },
         "mode": "lines",
         "type": "scatter",
         "x": [
          1345,
          1345,
          1360,
          1360
         ],
         "xaxis": "x",
         "y": [
          0,
          19.84149745177112,
          19.84149745177112,
          15.098085735567704
         ],
         "yaxis": "y"
        },
        {
         "hoverinfo": "text",
         "marker": {
          "color": "rgb(255,65,54)"
         },
         "mode": "lines",
         "type": "scatter",
         "x": [
          1385,
          1385,
          1395,
          1395
         ],
         "xaxis": "x",
         "y": [
          0,
          18.75290137531096,
          18.75290137531096,
          0
         ],
         "yaxis": "y"
        },
        {
         "hoverinfo": "text",
         "marker": {
          "color": "rgb(255,65,54)"
         },
         "mode": "lines",
         "type": "scatter",
         "x": [
          1375,
          1375,
          1390,
          1390
         ],
         "xaxis": "x",
         "y": [
          0,
          19.52610462849639,
          19.52610462849639,
          18.75290137531096
         ],
         "yaxis": "y"
        },
        {
         "hoverinfo": "text",
         "marker": {
          "color": "rgb(255,65,54)"
         },
         "mode": "lines",
         "type": "scatter",
         "x": [
          1405,
          1405,
          1415,
          1415
         ],
         "xaxis": "x",
         "y": [
          0,
          20.049826467636155,
          20.049826467636155,
          0
         ],
         "yaxis": "y"
        },
        {
         "hoverinfo": "text",
         "marker": {
          "color": "rgb(255,65,54)"
         },
         "mode": "lines",
         "type": "scatter",
         "x": [
          1382.5,
          1382.5,
          1410,
          1410
         ],
         "xaxis": "x",
         "y": [
          19.52610462849639,
          22.384099487373344,
          22.384099487373344,
          20.049826467636155
         ],
         "yaxis": "y"
        },
        {
         "hoverinfo": "text",
         "marker": {
          "color": "rgb(255,65,54)"
         },
         "mode": "lines",
         "type": "scatter",
         "x": [
          1435,
          1435,
          1445,
          1445
         ],
         "xaxis": "x",
         "y": [
          0,
          16.53383607138389,
          16.53383607138389,
          0
         ],
         "yaxis": "y"
        },
        {
         "hoverinfo": "text",
         "marker": {
          "color": "rgb(255,65,54)"
         },
         "mode": "lines",
         "type": "scatter",
         "x": [
          1425,
          1425,
          1440,
          1440
         ],
         "xaxis": "x",
         "y": [
          0,
          18.011538400989277,
          18.011538400989277,
          16.53383607138389
         ],
         "yaxis": "y"
        },
        {
         "hoverinfo": "text",
         "marker": {
          "color": "rgb(255,65,54)"
         },
         "mode": "lines",
         "type": "scatter",
         "x": [
          1475,
          1475,
          1485,
          1485
         ],
         "xaxis": "x",
         "y": [
          0,
          14.512612262131347,
          14.512612262131347,
          0
         ],
         "yaxis": "y"
        },
        {
         "hoverinfo": "text",
         "marker": {
          "color": "rgb(255,65,54)"
         },
         "mode": "lines",
         "type": "scatter",
         "x": [
          1465,
          1465,
          1480,
          1480
         ],
         "xaxis": "x",
         "y": [
          0,
          17.6052718522555,
          17.6052718522555,
          14.512612262131347
         ],
         "yaxis": "y"
        },
        {
         "hoverinfo": "text",
         "marker": {
          "color": "rgb(255,65,54)"
         },
         "mode": "lines",
         "type": "scatter",
         "x": [
          1455,
          1455,
          1472.5,
          1472.5
         ],
         "xaxis": "x",
         "y": [
          0,
          18.148989192039377,
          18.148989192039377,
          17.6052718522555
         ],
         "yaxis": "y"
        },
        {
         "hoverinfo": "text",
         "marker": {
          "color": "rgb(255,65,54)"
         },
         "mode": "lines",
         "type": "scatter",
         "x": [
          1495,
          1495,
          1505,
          1505
         ],
         "xaxis": "x",
         "y": [
          0,
          12.295914759661033,
          12.295914759661033,
          0
         ],
         "yaxis": "y"
        },
        {
         "hoverinfo": "text",
         "marker": {
          "color": "rgb(255,65,54)"
         },
         "mode": "lines",
         "type": "scatter",
         "x": [
          1545,
          1545,
          1555,
          1555
         ],
         "xaxis": "x",
         "y": [
          0,
          14.171502502230066,
          14.171502502230066,
          0
         ],
         "yaxis": "y"
        },
        {
         "hoverinfo": "text",
         "marker": {
          "color": "rgb(255,65,54)"
         },
         "mode": "lines",
         "type": "scatter",
         "x": [
          1575,
          1575,
          1585,
          1585
         ],
         "xaxis": "x",
         "y": [
          0,
          13.399189537884833,
          13.399189537884833,
          0
         ],
         "yaxis": "y"
        },
        {
         "hoverinfo": "text",
         "marker": {
          "color": "rgb(255,65,54)"
         },
         "mode": "lines",
         "type": "scatter",
         "x": [
          1565,
          1565,
          1580,
          1580
         ],
         "xaxis": "x",
         "y": [
          0,
          14.674232311847174,
          14.674232311847174,
          13.399189537884833
         ],
         "yaxis": "y"
        },
        {
         "hoverinfo": "text",
         "marker": {
          "color": "rgb(255,65,54)"
         },
         "mode": "lines",
         "type": "scatter",
         "x": [
          1550,
          1550,
          1572.5,
          1572.5
         ],
         "xaxis": "x",
         "y": [
          14.171502502230066,
          15.5982329530016,
          15.5982329530016,
          14.674232311847174
         ],
         "yaxis": "y"
        },
        {
         "hoverinfo": "text",
         "marker": {
          "color": "rgb(255,65,54)"
         },
         "mode": "lines",
         "type": "scatter",
         "x": [
          1535,
          1535,
          1561.25,
          1561.25
         ],
         "xaxis": "x",
         "y": [
          0,
          16.41802026821728,
          16.41802026821728,
          15.5982329530016
         ],
         "yaxis": "y"
        },
        {
         "hoverinfo": "text",
         "marker": {
          "color": "rgb(255,65,54)"
         },
         "mode": "lines",
         "type": "scatter",
         "x": [
          1525,
          1525,
          1548.125,
          1548.125
         ],
         "xaxis": "x",
         "y": [
          0,
          16.915335811234478,
          16.915335811234478,
          16.41802026821728
         ],
         "yaxis": "y"
        },
        {
         "hoverinfo": "text",
         "marker": {
          "color": "rgb(255,65,54)"
         },
         "mode": "lines",
         "type": "scatter",
         "x": [
          1515,
          1515,
          1536.5625,
          1536.5625
         ],
         "xaxis": "x",
         "y": [
          0,
          17.61313544695006,
          17.61313544695006,
          16.915335811234478
         ],
         "yaxis": "y"
        },
        {
         "hoverinfo": "text",
         "marker": {
          "color": "rgb(255,65,54)"
         },
         "mode": "lines",
         "type": "scatter",
         "x": [
          1500,
          1500,
          1525.78125,
          1525.78125
         ],
         "xaxis": "x",
         "y": [
          12.295914759661033,
          18.476807923496292,
          18.476807923496292,
          17.61313544695006
         ],
         "yaxis": "y"
        },
        {
         "hoverinfo": "text",
         "marker": {
          "color": "rgb(255,65,54)"
         },
         "mode": "lines",
         "type": "scatter",
         "x": [
          1463.75,
          1463.75,
          1512.890625,
          1512.890625
         ],
         "xaxis": "x",
         "y": [
          18.148989192039377,
          19.155646376230443,
          19.155646376230443,
          18.476807923496292
         ],
         "yaxis": "y"
        },
        {
         "hoverinfo": "text",
         "marker": {
          "color": "rgb(255,65,54)"
         },
         "mode": "lines",
         "type": "scatter",
         "x": [
          1595,
          1595,
          1605,
          1605
         ],
         "xaxis": "x",
         "y": [
          0,
          18.85915257978188,
          18.85915257978188,
          0
         ],
         "yaxis": "y"
        },
        {
         "hoverinfo": "text",
         "marker": {
          "color": "rgb(255,65,54)"
         },
         "mode": "lines",
         "type": "scatter",
         "x": [
          1625,
          1625,
          1635,
          1635
         ],
         "xaxis": "x",
         "y": [
          0,
          17.99980029749216,
          17.99980029749216,
          0
         ],
         "yaxis": "y"
        },
        {
         "hoverinfo": "text",
         "marker": {
          "color": "rgb(255,65,54)"
         },
         "mode": "lines",
         "type": "scatter",
         "x": [
          1615,
          1615,
          1630,
          1630
         ],
         "xaxis": "x",
         "y": [
          0,
          19.31983733837483,
          19.31983733837483,
          17.99980029749216
         ],
         "yaxis": "y"
        },
        {
         "hoverinfo": "text",
         "marker": {
          "color": "rgb(255,65,54)"
         },
         "mode": "lines",
         "type": "scatter",
         "x": [
          1645,
          1645,
          1655,
          1655
         ],
         "xaxis": "x",
         "y": [
          0,
          14.732690127006277,
          14.732690127006277,
          0
         ],
         "yaxis": "y"
        },
        {
         "hoverinfo": "text",
         "marker": {
          "color": "rgb(255,65,54)"
         },
         "mode": "lines",
         "type": "scatter",
         "x": [
          1715,
          1715,
          1725,
          1725
         ],
         "xaxis": "x",
         "y": [
          0,
          13.762686981662881,
          13.762686981662881,
          0
         ],
         "yaxis": "y"
        },
        {
         "hoverinfo": "text",
         "marker": {
          "color": "rgb(255,65,54)"
         },
         "mode": "lines",
         "type": "scatter",
         "x": [
          1705,
          1705,
          1720,
          1720
         ],
         "xaxis": "x",
         "y": [
          0,
          14.487101553893995,
          14.487101553893995,
          13.762686981662881
         ],
         "yaxis": "y"
        },
        {
         "hoverinfo": "text",
         "marker": {
          "color": "rgb(255,65,54)"
         },
         "mode": "lines",
         "type": "scatter",
         "x": [
          1695,
          1695,
          1712.5,
          1712.5
         ],
         "xaxis": "x",
         "y": [
          0,
          15.427065837407508,
          15.427065837407508,
          14.487101553893995
         ],
         "yaxis": "y"
        },
        {
         "hoverinfo": "text",
         "marker": {
          "color": "rgb(255,65,54)"
         },
         "mode": "lines",
         "type": "scatter",
         "x": [
          1685,
          1685,
          1703.75,
          1703.75
         ],
         "xaxis": "x",
         "y": [
          0,
          16.411500872196616,
          16.411500872196616,
          15.427065837407508
         ],
         "yaxis": "y"
        },
        {
         "hoverinfo": "text",
         "marker": {
          "color": "rgb(255,65,54)"
         },
         "mode": "lines",
         "type": "scatter",
         "x": [
          1675,
          1675,
          1694.375,
          1694.375
         ],
         "xaxis": "x",
         "y": [
          0,
          17.10587728707364,
          17.10587728707364,
          16.411500872196616
         ],
         "yaxis": "y"
        },
        {
         "hoverinfo": "text",
         "marker": {
          "color": "rgb(255,65,54)"
         },
         "mode": "lines",
         "type": "scatter",
         "x": [
          1665,
          1665,
          1684.6875,
          1684.6875
         ],
         "xaxis": "x",
         "y": [
          0,
          18.14861089317447,
          18.14861089317447,
          17.10587728707364
         ],
         "yaxis": "y"
        },
        {
         "hoverinfo": "text",
         "marker": {
          "color": "rgb(255,65,54)"
         },
         "mode": "lines",
         "type": "scatter",
         "x": [
          1650,
          1650,
          1674.84375,
          1674.84375
         ],
         "xaxis": "x",
         "y": [
          14.732690127006277,
          19.774242636485198,
          19.774242636485198,
          18.14861089317447
         ],
         "yaxis": "y"
        },
        {
         "hoverinfo": "text",
         "marker": {
          "color": "rgb(255,65,54)"
         },
         "mode": "lines",
         "type": "scatter",
         "x": [
          1622.5,
          1622.5,
          1662.421875,
          1662.421875
         ],
         "xaxis": "x",
         "y": [
          19.31983733837483,
          20.53905967649363,
          20.53905967649363,
          19.774242636485198
         ],
         "yaxis": "y"
        },
        {
         "hoverinfo": "text",
         "marker": {
          "color": "rgb(255,65,54)"
         },
         "mode": "lines",
         "type": "scatter",
         "x": [
          1600,
          1600,
          1642.4609375,
          1642.4609375
         ],
         "xaxis": "x",
         "y": [
          18.85915257978188,
          20.633090397611166,
          20.633090397611166,
          20.53905967649363
         ],
         "yaxis": "y"
        },
        {
         "hoverinfo": "text",
         "marker": {
          "color": "rgb(255,65,54)"
         },
         "mode": "lines",
         "type": "scatter",
         "x": [
          1488.3203125,
          1488.3203125,
          1621.23046875,
          1621.23046875
         ],
         "xaxis": "x",
         "y": [
          19.155646376230443,
          21.23104266831002,
          21.23104266831002,
          20.633090397611166
         ],
         "yaxis": "y"
        },
        {
         "hoverinfo": "text",
         "marker": {
          "color": "rgb(255,65,54)"
         },
         "mode": "lines",
         "type": "scatter",
         "x": [
          1432.5,
          1432.5,
          1554.775390625,
          1554.775390625
         ],
         "xaxis": "x",
         "y": [
          18.011538400989277,
          21.746495734582503,
          21.746495734582503,
          21.23104266831002
         ],
         "yaxis": "y"
        },
        {
         "hoverinfo": "text",
         "marker": {
          "color": "rgb(255,65,54)"
         },
         "mode": "lines",
         "type": "scatter",
         "x": [
          1765,
          1765,
          1775,
          1775
         ],
         "xaxis": "x",
         "y": [
          0,
          16.1380863638417,
          16.1380863638417,
          0
         ],
         "yaxis": "y"
        },
        {
         "hoverinfo": "text",
         "marker": {
          "color": "rgb(255,65,54)"
         },
         "mode": "lines",
         "type": "scatter",
         "x": [
          1755,
          1755,
          1770,
          1770
         ],
         "xaxis": "x",
         "y": [
          0,
          19.52312347163964,
          19.52312347163964,
          16.1380863638417
         ],
         "yaxis": "y"
        },
        {
         "hoverinfo": "text",
         "marker": {
          "color": "rgb(255,65,54)"
         },
         "mode": "lines",
         "type": "scatter",
         "x": [
          1745,
          1745,
          1762.5,
          1762.5
         ],
         "xaxis": "x",
         "y": [
          0,
          20.708370977642325,
          20.708370977642325,
          19.52312347163964
         ],
         "yaxis": "y"
        },
        {
         "hoverinfo": "text",
         "marker": {
          "color": "rgb(255,65,54)"
         },
         "mode": "lines",
         "type": "scatter",
         "x": [
          1735,
          1735,
          1753.75,
          1753.75
         ],
         "xaxis": "x",
         "y": [
          0,
          21.75894267770331,
          21.75894267770331,
          20.708370977642325
         ],
         "yaxis": "y"
        },
        {
         "hoverinfo": "text",
         "marker": {
          "color": "rgb(255,65,54)"
         },
         "mode": "lines",
         "type": "scatter",
         "x": [
          1493.6376953125,
          1493.6376953125,
          1744.375,
          1744.375
         ],
         "xaxis": "x",
         "y": [
          21.746495734582503,
          23.429415739272304,
          23.429415739272304,
          21.75894267770331
         ],
         "yaxis": "y"
        },
        {
         "hoverinfo": "text",
         "marker": {
          "color": "rgb(255,65,54)"
         },
         "mode": "lines",
         "type": "scatter",
         "x": [
          1396.25,
          1396.25,
          1619.00634765625,
          1619.00634765625
         ],
         "xaxis": "x",
         "y": [
          22.384099487373344,
          23.687238751878787,
          23.687238751878787,
          23.429415739272304
         ],
         "yaxis": "y"
        },
        {
         "hoverinfo": "text",
         "marker": {
          "color": "rgb(255,65,54)"
         },
         "mode": "lines",
         "type": "scatter",
         "x": [
          1352.5,
          1352.5,
          1507.628173828125,
          1507.628173828125
         ],
         "xaxis": "x",
         "y": [
          19.84149745177112,
          24.76770056023289,
          24.76770056023289,
          23.687238751878787
         ],
         "yaxis": "y"
        },
        {
         "hoverinfo": "text",
         "marker": {
          "color": "rgb(255,65,54)"
         },
         "mode": "lines",
         "type": "scatter",
         "x": [
          1270.46875,
          1270.46875,
          1430.0640869140625,
          1430.0640869140625
         ],
         "xaxis": "x",
         "y": [
          22.595077871963586,
          25.055730657927644,
          25.055730657927644,
          24.76770056023289
         ],
         "yaxis": "y"
        },
        {
         "hoverinfo": "text",
         "marker": {
          "color": "rgb(255,65,54)"
         },
         "mode": "lines",
         "type": "scatter",
         "x": [
          1230,
          1230,
          1350.2664184570312,
          1350.2664184570312
         ],
         "xaxis": "x",
         "y": [
          22.83787067802231,
          25.752287296026374,
          25.752287296026374,
          25.055730657927644
         ],
         "yaxis": "y"
        },
        {
         "hoverinfo": "text",
         "marker": {
          "color": "rgb(255,65,54)"
         },
         "mode": "lines",
         "type": "scatter",
         "x": [
          1215,
          1215,
          1290.1332092285156,
          1290.1332092285156
         ],
         "xaxis": "x",
         "y": [
          0,
          26.89058412681142,
          26.89058412681142,
          25.752287296026374
         ],
         "yaxis": "y"
        },
        {
         "hoverinfo": "text",
         "marker": {
          "color": "rgb(255,65,54)"
         },
         "mode": "lines",
         "type": "scatter",
         "x": [
          1183.75,
          1183.75,
          1252.5666046142578,
          1252.5666046142578
         ],
         "xaxis": "x",
         "y": [
          25.121094734068887,
          27.824092005887366,
          27.824092005887366,
          26.89058412681142
         ],
         "yaxis": "y"
        },
        {
         "hoverinfo": "text",
         "marker": {
          "color": "rgb(255,65,54)"
         },
         "mode": "lines",
         "type": "scatter",
         "x": [
          1165,
          1165,
          1218.158302307129,
          1218.158302307129
         ],
         "xaxis": "x",
         "y": [
          0,
          28.099423661850377,
          28.099423661850377,
          27.824092005887366
         ],
         "yaxis": "y"
        },
        {
         "hoverinfo": "text",
         "marker": {
          "color": "rgb(255,65,54)"
         },
         "mode": "lines",
         "type": "scatter",
         "x": [
          1131.25,
          1131.25,
          1191.5791511535645,
          1191.5791511535645
         ],
         "xaxis": "x",
         "y": [
          27.681132846431055,
          28.550239992577783,
          28.550239992577783,
          28.099423661850377
         ],
         "yaxis": "y"
        },
        {
         "hoverinfo": "text",
         "marker": {
          "color": "rgb(255,65,54)"
         },
         "mode": "lines",
         "type": "scatter",
         "x": [
          1100,
          1100,
          1161.4145755767822,
          1161.4145755767822
         ],
         "xaxis": "x",
         "y": [
          27.632391178733346,
          28.8695245596098,
          28.8695245596098,
          28.550239992577783
         ],
         "yaxis": "y"
        },
        {
         "hoverinfo": "text",
         "marker": {
          "color": "rgb(255,65,54)"
         },
         "mode": "lines",
         "type": "scatter",
         "x": [
          1005.8984375,
          1005.8984375,
          1130.707287788391,
          1130.707287788391
         ],
         "xaxis": "x",
         "y": [
          25.299591254228137,
          29.488574214255852,
          29.488574214255852,
          28.8695245596098
         ],
         "yaxis": "y"
        },
        {
         "hoverinfo": "text",
         "marker": {
          "color": "rgb(255,65,54)"
         },
         "mode": "lines",
         "type": "scatter",
         "x": [
          943.4375,
          943.4375,
          1068.3028626441956,
          1068.3028626441956
         ],
         "xaxis": "x",
         "y": [
          27.37446968739801,
          29.752183464518275,
          29.752183464518275,
          29.488574214255852
         ],
         "yaxis": "y"
        },
        {
         "hoverinfo": "text",
         "marker": {
          "color": "rgb(255,65,54)"
         },
         "mode": "lines",
         "type": "scatter",
         "x": [
          915,
          915,
          1005.8701813220978,
          1005.8701813220978
         ],
         "xaxis": "x",
         "y": [
          0,
          30.537042148902163,
          30.537042148902163,
          29.752183464518275
         ],
         "yaxis": "y"
        },
        {
         "hoverinfo": "text",
         "marker": {
          "color": "rgb(255,65,54)"
         },
         "mode": "lines",
         "type": "scatter",
         "x": [
          793.359375,
          793.359375,
          960.4350906610489,
          960.4350906610489
         ],
         "xaxis": "x",
         "y": [
          29.6072328561069,
          31.107537028818413,
          31.107537028818413,
          30.537042148902163
         ],
         "yaxis": "y"
        },
        {
         "hoverinfo": "text",
         "marker": {
          "color": "rgb(255,65,54)"
         },
         "mode": "lines",
         "type": "scatter",
         "x": [
          752.5,
          752.5,
          876.8972328305244,
          876.8972328305244
         ],
         "xaxis": "x",
         "y": [
          28.03674917245149,
          32.06049236250801,
          32.06049236250801,
          31.107537028818413
         ],
         "yaxis": "y"
        },
        {
         "hoverinfo": "text",
         "marker": {
          "color": "rgb(255,65,54)"
         },
         "mode": "lines",
         "type": "scatter",
         "x": [
          1785,
          1785,
          1795,
          1795
         ],
         "xaxis": "x",
         "y": [
          0,
          33.36417703765997,
          33.36417703765997,
          0
         ],
         "yaxis": "y"
        },
        {
         "hoverinfo": "text",
         "marker": {
          "color": "rgb(255,65,54)"
         },
         "mode": "lines",
         "type": "scatter",
         "x": [
          814.6986164152622,
          814.6986164152622,
          1790,
          1790
         ],
         "xaxis": "x",
         "y": [
          32.06049236250801,
          34.175527811924276,
          34.175527811924276,
          33.36417703765997
         ],
         "yaxis": "y"
        },
        {
         "hoverinfo": "text",
         "marker": {
          "color": "rgb(255,65,54)"
         },
         "mode": "lines",
         "type": "scatter",
         "x": [
          716.25,
          716.25,
          1302.349308207631,
          1302.349308207631
         ],
         "xaxis": "x",
         "y": [
          32.161829067036194,
          34.838237180200274,
          34.838237180200274,
          34.175527811924276
         ],
         "yaxis": "y"
        },
        {
         "hoverinfo": "text",
         "marker": {
          "color": "rgb(255,65,54)"
         },
         "mode": "lines",
         "type": "scatter",
         "x": [
          685,
          685,
          1009.2996541038156,
          1009.2996541038156
         ],
         "xaxis": "x",
         "y": [
          0,
          34.92971810041013,
          34.92971810041013,
          34.838237180200274
         ],
         "yaxis": "y"
        },
        {
         "hoverinfo": "text",
         "marker": {
          "color": "rgb(255,65,54)"
         },
         "mode": "lines",
         "type": "scatter",
         "x": [
          675,
          675,
          847.1498270519078,
          847.1498270519078
         ],
         "xaxis": "x",
         "y": [
          0,
          36.665969424631314,
          36.665969424631314,
          34.92971810041013
         ],
         "yaxis": "y"
        },
        {
         "hoverinfo": "text",
         "marker": {
          "color": "rgb(255,65,54)"
         },
         "mode": "lines",
         "type": "scatter",
         "x": [
          665,
          665,
          761.0749135259539,
          761.0749135259539
         ],
         "xaxis": "x",
         "y": [
          0,
          38.41224030190874,
          38.41224030190874,
          36.665969424631314
         ],
         "yaxis": "y"
        },
        {
         "hoverinfo": "text",
         "marker": {
          "color": "rgb(255,65,54)"
         },
         "mode": "lines",
         "type": "scatter",
         "x": [
          655,
          655,
          713.037456762977,
          713.037456762977
         ],
         "xaxis": "x",
         "y": [
          0,
          39.23093621982899,
          39.23093621982899,
          38.41224030190874
         ],
         "yaxis": "y"
        },
        {
         "hoverinfo": "text",
         "marker": {
          "color": "rgb(255,65,54)"
         },
         "mode": "lines",
         "type": "scatter",
         "x": [
          645,
          645,
          684.0187283814885,
          684.0187283814885
         ],
         "xaxis": "x",
         "y": [
          0,
          39.28614961482382,
          39.28614961482382,
          39.23093621982899
         ],
         "yaxis": "y"
        },
        {
         "hoverinfo": "text",
         "marker": {
          "color": "rgb(255,65,54)"
         },
         "mode": "lines",
         "type": "scatter",
         "x": [
          1815,
          1815,
          1825,
          1825
         ],
         "xaxis": "x",
         "y": [
          0,
          41.73533456213817,
          41.73533456213817,
          0
         ],
         "yaxis": "y"
        },
        {
         "hoverinfo": "text",
         "marker": {
          "color": "rgb(255,65,54)"
         },
         "mode": "lines",
         "type": "scatter",
         "x": [
          1845,
          1845,
          1855,
          1855
         ],
         "xaxis": "x",
         "y": [
          0,
          34.426085943175025,
          34.426085943175025,
          0
         ],
         "yaxis": "y"
        },
        {
         "hoverinfo": "text",
         "marker": {
          "color": "rgb(255,65,54)"
         },
         "mode": "lines",
         "type": "scatter",
         "x": [
          1885,
          1885,
          1895,
          1895
         ],
         "xaxis": "x",
         "y": [
          0,
          29.822107505296085,
          29.822107505296085,
          0
         ],
         "yaxis": "y"
        },
        {
         "hoverinfo": "text",
         "marker": {
          "color": "rgb(255,65,54)"
         },
         "mode": "lines",
         "type": "scatter",
         "x": [
          1875,
          1875,
          1890,
          1890
         ],
         "xaxis": "x",
         "y": [
          0,
          31.041760454810657,
          31.041760454810657,
          29.822107505296085
         ],
         "yaxis": "y"
        },
        {
         "hoverinfo": "text",
         "marker": {
          "color": "rgb(255,65,54)"
         },
         "mode": "lines",
         "type": "scatter",
         "x": [
          1865,
          1865,
          1882.5,
          1882.5
         ],
         "xaxis": "x",
         "y": [
          0,
          32.381244382027994,
          32.381244382027994,
          31.041760454810657
         ],
         "yaxis": "y"
        },
        {
         "hoverinfo": "text",
         "marker": {
          "color": "rgb(255,65,54)"
         },
         "mode": "lines",
         "type": "scatter",
         "x": [
          1905,
          1905,
          1915,
          1915
         ],
         "xaxis": "x",
         "y": [
          0,
          33.149737233791015,
          33.149737233791015,
          0
         ],
         "yaxis": "y"
        },
        {
         "hoverinfo": "text",
         "marker": {
          "color": "rgb(255,65,54)"
         },
         "mode": "lines",
         "type": "scatter",
         "x": [
          1873.75,
          1873.75,
          1910,
          1910
         ],
         "xaxis": "x",
         "y": [
          32.381244382027994,
          34.317616692678655,
          34.317616692678655,
          33.149737233791015
         ],
         "yaxis": "y"
        },
        {
         "hoverinfo": "text",
         "marker": {
          "color": "rgb(255,65,54)"
         },
         "mode": "lines",
         "type": "scatter",
         "x": [
          1925,
          1925,
          1935,
          1935
         ],
         "xaxis": "x",
         "y": [
          0,
          28.504010131559173,
          28.504010131559173,
          0
         ],
         "yaxis": "y"
        },
        {
         "hoverinfo": "text",
         "marker": {
          "color": "rgb(255,65,54)"
         },
         "mode": "lines",
         "type": "scatter",
         "x": [
          1945,
          1945,
          1955,
          1955
         ],
         "xaxis": "x",
         "y": [
          0,
          28.550555802512083,
          28.550555802512083,
          0
         ],
         "yaxis": "y"
        },
        {
         "hoverinfo": "text",
         "marker": {
          "color": "rgb(255,65,54)"
         },
         "mode": "lines",
         "type": "scatter",
         "x": [
          1975,
          1975,
          1985,
          1985
         ],
         "xaxis": "x",
         "y": [
          0,
          29.72351586040328,
          29.72351586040328,
          0
         ],
         "yaxis": "y"
        },
        {
         "hoverinfo": "text",
         "marker": {
          "color": "rgb(255,65,54)"
         },
         "mode": "lines",
         "type": "scatter",
         "x": [
          1965,
          1965,
          1980,
          1980
         ],
         "xaxis": "x",
         "y": [
          0,
          31.82258448212452,
          31.82258448212452,
          29.72351586040328
         ],
         "yaxis": "y"
        },
        {
         "hoverinfo": "text",
         "marker": {
          "color": "rgb(255,65,54)"
         },
         "mode": "lines",
         "type": "scatter",
         "x": [
          1950,
          1950,
          1972.5,
          1972.5
         ],
         "xaxis": "x",
         "y": [
          28.550555802512083,
          33.4311643807442,
          33.4311643807442,
          31.82258448212452
         ],
         "yaxis": "y"
        },
        {
         "hoverinfo": "text",
         "marker": {
          "color": "rgb(255,65,54)"
         },
         "mode": "lines",
         "type": "scatter",
         "x": [
          1930,
          1930,
          1961.25,
          1961.25
         ],
         "xaxis": "x",
         "y": [
          28.504010131559173,
          35.43896399770275,
          35.43896399770275,
          33.4311643807442
         ],
         "yaxis": "y"
        },
        {
         "hoverinfo": "text",
         "marker": {
          "color": "rgb(255,65,54)"
         },
         "mode": "lines",
         "type": "scatter",
         "x": [
          1891.875,
          1891.875,
          1945.625,
          1945.625
         ],
         "xaxis": "x",
         "y": [
          34.317616692678655,
          36.35721568156334,
          36.35721568156334,
          35.43896399770275
         ],
         "yaxis": "y"
        },
        {
         "hoverinfo": "text",
         "marker": {
          "color": "rgb(255,65,54)"
         },
         "mode": "lines",
         "type": "scatter",
         "x": [
          1850,
          1850,
          1918.75,
          1918.75
         ],
         "xaxis": "x",
         "y": [
          34.426085943175025,
          36.993979394629726,
          36.993979394629726,
          36.35721568156334
         ],
         "yaxis": "y"
        },
        {
         "hoverinfo": "text",
         "marker": {
          "color": "rgb(255,65,54)"
         },
         "mode": "lines",
         "type": "scatter",
         "x": [
          2005,
          2005,
          2015,
          2015
         ],
         "xaxis": "x",
         "y": [
          0,
          38.301082417284086,
          38.301082417284086,
          0
         ],
         "yaxis": "y"
        },
        {
         "hoverinfo": "text",
         "marker": {
          "color": "rgb(255,65,54)"
         },
         "mode": "lines",
         "type": "scatter",
         "x": [
          1995,
          1995,
          2010,
          2010
         ],
         "xaxis": "x",
         "y": [
          0,
          38.857259886153784,
          38.857259886153784,
          38.301082417284086
         ],
         "yaxis": "y"
        },
        {
         "hoverinfo": "text",
         "marker": {
          "color": "rgb(255,65,54)"
         },
         "mode": "lines",
         "type": "scatter",
         "x": [
          1884.375,
          1884.375,
          2002.5,
          2002.5
         ],
         "xaxis": "x",
         "y": [
          36.993979394629726,
          40.13890760414194,
          40.13890760414194,
          38.857259886153784
         ],
         "yaxis": "y"
        },
        {
         "hoverinfo": "text",
         "marker": {
          "color": "rgb(255,65,54)"
         },
         "mode": "lines",
         "type": "scatter",
         "x": [
          1835,
          1835,
          1943.4375,
          1943.4375
         ],
         "xaxis": "x",
         "y": [
          0,
          42.439797252957405,
          42.439797252957405,
          40.13890760414194
         ],
         "yaxis": "y"
        },
        {
         "hoverinfo": "text",
         "marker": {
          "color": "rgb(255,65,54)"
         },
         "mode": "lines",
         "type": "scatter",
         "x": [
          1820,
          1820,
          1889.21875,
          1889.21875
         ],
         "xaxis": "x",
         "y": [
          41.73533456213817,
          43.786909662779586,
          43.786909662779586,
          42.439797252957405
         ],
         "yaxis": "y"
        },
        {
         "hoverinfo": "text",
         "marker": {
          "color": "rgb(255,65,54)"
         },
         "mode": "lines",
         "type": "scatter",
         "x": [
          1805,
          1805,
          1854.609375,
          1854.609375
         ],
         "xaxis": "x",
         "y": [
          0,
          44.43060854922802,
          44.43060854922802,
          43.786909662779586
         ],
         "yaxis": "y"
        },
        {
         "hoverinfo": "text",
         "marker": {
          "color": "rgb(255,65,54)"
         },
         "mode": "lines",
         "type": "scatter",
         "x": [
          664.5093641907442,
          664.5093641907442,
          1829.8046875,
          1829.8046875
         ],
         "xaxis": "x",
         "y": [
          39.28614961482382,
          45.75745296892826,
          45.75745296892826,
          44.43060854922802
         ],
         "yaxis": "y"
        },
        {
         "hoverinfo": "text",
         "marker": {
          "color": "rgb(255,65,54)"
         },
         "mode": "lines",
         "type": "scatter",
         "x": [
          2045,
          2045,
          2055,
          2055
         ],
         "xaxis": "x",
         "y": [
          0,
          41.407824721031076,
          41.407824721031076,
          0
         ],
         "yaxis": "y"
        },
        {
         "hoverinfo": "text",
         "marker": {
          "color": "rgb(255,65,54)"
         },
         "mode": "lines",
         "type": "scatter",
         "x": [
          2035,
          2035,
          2050,
          2050
         ],
         "xaxis": "x",
         "y": [
          0,
          42.52966979684147,
          42.52966979684147,
          41.407824721031076
         ],
         "yaxis": "y"
        },
        {
         "hoverinfo": "text",
         "marker": {
          "color": "rgb(255,65,54)"
         },
         "mode": "lines",
         "type": "scatter",
         "x": [
          2025,
          2025,
          2042.5,
          2042.5
         ],
         "xaxis": "x",
         "y": [
          0,
          46.080454078639896,
          46.080454078639896,
          42.52966979684147
         ],
         "yaxis": "y"
        },
        {
         "hoverinfo": "text",
         "marker": {
          "color": "rgb(255,65,54)"
         },
         "mode": "lines",
         "type": "scatter",
         "x": [
          1247.1570258453721,
          1247.1570258453721,
          2033.75,
          2033.75
         ],
         "xaxis": "x",
         "y": [
          45.75745296892826,
          46.733263476545275,
          46.733263476545275,
          46.080454078639896
         ],
         "yaxis": "y"
        },
        {
         "hoverinfo": "text",
         "marker": {
          "color": "rgb(255,65,54)"
         },
         "mode": "lines",
         "type": "scatter",
         "x": [
          635,
          635,
          1640.453512922686,
          1640.453512922686
         ],
         "xaxis": "x",
         "y": [
          0,
          48.0310316218056,
          48.0310316218056,
          46.733263476545275
         ],
         "yaxis": "y"
        },
        {
         "hoverinfo": "text",
         "marker": {
          "color": "rgb(255,65,54)"
         },
         "mode": "lines",
         "type": "scatter",
         "x": [
          625,
          625,
          1137.726756461343,
          1137.726756461343
         ],
         "xaxis": "x",
         "y": [
          0,
          59.163781376092565,
          59.163781376092565,
          48.0310316218056
         ],
         "yaxis": "y"
        },
        {
         "hoverinfo": "text",
         "marker": {
          "color": "rgb(255,65,54)"
         },
         "mode": "lines",
         "type": "scatter",
         "x": [
          36.6402006149292,
          36.6402006149292,
          881.3633782306715,
          881.3633782306715
         ],
         "xaxis": "x",
         "y": [
          47.82320477303475,
          59.625193564368715,
          59.625193564368715,
          59.163781376092565
         ],
         "yaxis": "y"
        },
        {
         "hoverinfo": "text",
         "marker": {
          "color": "rgb(255,65,54)"
         },
         "mode": "lines",
         "type": "scatter",
         "x": [
          2065,
          2065,
          2075,
          2075
         ],
         "xaxis": "x",
         "y": [
          0,
          60.903684960509565,
          60.903684960509565,
          0
         ],
         "yaxis": "y"
        },
        {
         "hoverinfo": "text",
         "marker": {
          "color": "rgb(255,65,54)"
         },
         "mode": "lines",
         "type": "scatter",
         "x": [
          2145,
          2145,
          2155,
          2155
         ],
         "xaxis": "x",
         "y": [
          0,
          43.16253015964535,
          43.16253015964535,
          0
         ],
         "yaxis": "y"
        },
        {
         "hoverinfo": "text",
         "marker": {
          "color": "rgb(255,65,54)"
         },
         "mode": "lines",
         "type": "scatter",
         "x": [
          2135,
          2135,
          2150,
          2150
         ],
         "xaxis": "x",
         "y": [
          0,
          46.56769410639184,
          46.56769410639184,
          43.16253015964535
         ],
         "yaxis": "y"
        },
        {
         "hoverinfo": "text",
         "marker": {
          "color": "rgb(255,65,54)"
         },
         "mode": "lines",
         "type": "scatter",
         "x": [
          2125,
          2125,
          2142.5,
          2142.5
         ],
         "xaxis": "x",
         "y": [
          0,
          51.64792106128296,
          51.64792106128296,
          46.56769410639184
         ],
         "yaxis": "y"
        },
        {
         "hoverinfo": "text",
         "marker": {
          "color": "rgb(255,65,54)"
         },
         "mode": "lines",
         "type": "scatter",
         "x": [
          2115,
          2115,
          2133.75,
          2133.75
         ],
         "xaxis": "x",
         "y": [
          0,
          58.890352636483975,
          58.890352636483975,
          51.64792106128296
         ],
         "yaxis": "y"
        },
        {
         "hoverinfo": "text",
         "marker": {
          "color": "rgb(255,65,54)"
         },
         "mode": "lines",
         "type": "scatter",
         "x": [
          2105,
          2105,
          2124.375,
          2124.375
         ],
         "xaxis": "x",
         "y": [
          0,
          59.59279746925679,
          59.59279746925679,
          58.890352636483975
         ],
         "yaxis": "y"
        },
        {
         "hoverinfo": "text",
         "marker": {
          "color": "rgb(255,65,54)"
         },
         "mode": "lines",
         "type": "scatter",
         "x": [
          2095,
          2095,
          2114.6875,
          2114.6875
         ],
         "xaxis": "x",
         "y": [
          0,
          61.45132005914623,
          61.45132005914623,
          59.59279746925679
         ],
         "yaxis": "y"
        },
        {
         "hoverinfo": "text",
         "marker": {
          "color": "rgb(255,65,54)"
         },
         "mode": "lines",
         "type": "scatter",
         "x": [
          2085,
          2085,
          2104.84375,
          2104.84375
         ],
         "xaxis": "x",
         "y": [
          0,
          66.58015046178265,
          66.58015046178265,
          61.45132005914623
         ],
         "yaxis": "y"
        },
        {
         "hoverinfo": "text",
         "marker": {
          "color": "rgb(255,65,54)"
         },
         "mode": "lines",
         "type": "scatter",
         "x": [
          2070,
          2070,
          2094.921875,
          2094.921875
         ],
         "xaxis": "x",
         "y": [
          60.903684960509565,
          67.92956861763935,
          67.92956861763935,
          66.58015046178265
         ],
         "yaxis": "y"
        },
        {
         "hoverinfo": "text",
         "marker": {
          "color": "rgb(255,65,54)"
         },
         "mode": "lines",
         "type": "scatter",
         "x": [
          459.00178942280036,
          459.00178942280036,
          2082.4609375,
          2082.4609375
         ],
         "xaxis": "x",
         "y": [
          59.625193564368715,
          76.391974725992,
          76.391974725992,
          67.92956861763935
         ],
         "yaxis": "y"
        },
        {
         "hoverinfo": "text",
         "marker": {
          "color": "rgb(0,116,217)"
         },
         "mode": "lines",
         "type": "scatter",
         "x": [
          10,
          10,
          1270.7313634614002,
          1270.7313634614002
         ],
         "xaxis": "x",
         "y": [
          45.66985671863733,
          152.8566152902131,
          152.8566152902131,
          76.391974725992
         ],
         "yaxis": "y"
        }
       ],
       "layout": {
        "autosize": false,
        "height": 500,
        "hovermode": "closest",
        "showlegend": false,
        "template": {
         "data": {
          "bar": [
           {
            "error_x": {
             "color": "#2a3f5f"
            },
            "error_y": {
             "color": "#2a3f5f"
            },
            "marker": {
             "line": {
              "color": "#E5ECF6",
              "width": 0.5
             },
             "pattern": {
              "fillmode": "overlay",
              "size": 10,
              "solidity": 0.2
             }
            },
            "type": "bar"
           }
          ],
          "barpolar": [
           {
            "marker": {
             "line": {
              "color": "#E5ECF6",
              "width": 0.5
             },
             "pattern": {
              "fillmode": "overlay",
              "size": 10,
              "solidity": 0.2
             }
            },
            "type": "barpolar"
           }
          ],
          "carpet": [
           {
            "aaxis": {
             "endlinecolor": "#2a3f5f",
             "gridcolor": "white",
             "linecolor": "white",
             "minorgridcolor": "white",
             "startlinecolor": "#2a3f5f"
            },
            "baxis": {
             "endlinecolor": "#2a3f5f",
             "gridcolor": "white",
             "linecolor": "white",
             "minorgridcolor": "white",
             "startlinecolor": "#2a3f5f"
            },
            "type": "carpet"
           }
          ],
          "choropleth": [
           {
            "colorbar": {
             "outlinewidth": 0,
             "ticks": ""
            },
            "type": "choropleth"
           }
          ],
          "contour": [
           {
            "colorbar": {
             "outlinewidth": 0,
             "ticks": ""
            },
            "colorscale": [
             [
              0,
              "#0d0887"
             ],
             [
              0.1111111111111111,
              "#46039f"
             ],
             [
              0.2222222222222222,
              "#7201a8"
             ],
             [
              0.3333333333333333,
              "#9c179e"
             ],
             [
              0.4444444444444444,
              "#bd3786"
             ],
             [
              0.5555555555555556,
              "#d8576b"
             ],
             [
              0.6666666666666666,
              "#ed7953"
             ],
             [
              0.7777777777777778,
              "#fb9f3a"
             ],
             [
              0.8888888888888888,
              "#fdca26"
             ],
             [
              1,
              "#f0f921"
             ]
            ],
            "type": "contour"
           }
          ],
          "contourcarpet": [
           {
            "colorbar": {
             "outlinewidth": 0,
             "ticks": ""
            },
            "type": "contourcarpet"
           }
          ],
          "heatmap": [
           {
            "colorbar": {
             "outlinewidth": 0,
             "ticks": ""
            },
            "colorscale": [
             [
              0,
              "#0d0887"
             ],
             [
              0.1111111111111111,
              "#46039f"
             ],
             [
              0.2222222222222222,
              "#7201a8"
             ],
             [
              0.3333333333333333,
              "#9c179e"
             ],
             [
              0.4444444444444444,
              "#bd3786"
             ],
             [
              0.5555555555555556,
              "#d8576b"
             ],
             [
              0.6666666666666666,
              "#ed7953"
             ],
             [
              0.7777777777777778,
              "#fb9f3a"
             ],
             [
              0.8888888888888888,
              "#fdca26"
             ],
             [
              1,
              "#f0f921"
             ]
            ],
            "type": "heatmap"
           }
          ],
          "heatmapgl": [
           {
            "colorbar": {
             "outlinewidth": 0,
             "ticks": ""
            },
            "colorscale": [
             [
              0,
              "#0d0887"
             ],
             [
              0.1111111111111111,
              "#46039f"
             ],
             [
              0.2222222222222222,
              "#7201a8"
             ],
             [
              0.3333333333333333,
              "#9c179e"
             ],
             [
              0.4444444444444444,
              "#bd3786"
             ],
             [
              0.5555555555555556,
              "#d8576b"
             ],
             [
              0.6666666666666666,
              "#ed7953"
             ],
             [
              0.7777777777777778,
              "#fb9f3a"
             ],
             [
              0.8888888888888888,
              "#fdca26"
             ],
             [
              1,
              "#f0f921"
             ]
            ],
            "type": "heatmapgl"
           }
          ],
          "histogram": [
           {
            "marker": {
             "pattern": {
              "fillmode": "overlay",
              "size": 10,
              "solidity": 0.2
             }
            },
            "type": "histogram"
           }
          ],
          "histogram2d": [
           {
            "colorbar": {
             "outlinewidth": 0,
             "ticks": ""
            },
            "colorscale": [
             [
              0,
              "#0d0887"
             ],
             [
              0.1111111111111111,
              "#46039f"
             ],
             [
              0.2222222222222222,
              "#7201a8"
             ],
             [
              0.3333333333333333,
              "#9c179e"
             ],
             [
              0.4444444444444444,
              "#bd3786"
             ],
             [
              0.5555555555555556,
              "#d8576b"
             ],
             [
              0.6666666666666666,
              "#ed7953"
             ],
             [
              0.7777777777777778,
              "#fb9f3a"
             ],
             [
              0.8888888888888888,
              "#fdca26"
             ],
             [
              1,
              "#f0f921"
             ]
            ],
            "type": "histogram2d"
           }
          ],
          "histogram2dcontour": [
           {
            "colorbar": {
             "outlinewidth": 0,
             "ticks": ""
            },
            "colorscale": [
             [
              0,
              "#0d0887"
             ],
             [
              0.1111111111111111,
              "#46039f"
             ],
             [
              0.2222222222222222,
              "#7201a8"
             ],
             [
              0.3333333333333333,
              "#9c179e"
             ],
             [
              0.4444444444444444,
              "#bd3786"
             ],
             [
              0.5555555555555556,
              "#d8576b"
             ],
             [
              0.6666666666666666,
              "#ed7953"
             ],
             [
              0.7777777777777778,
              "#fb9f3a"
             ],
             [
              0.8888888888888888,
              "#fdca26"
             ],
             [
              1,
              "#f0f921"
             ]
            ],
            "type": "histogram2dcontour"
           }
          ],
          "mesh3d": [
           {
            "colorbar": {
             "outlinewidth": 0,
             "ticks": ""
            },
            "type": "mesh3d"
           }
          ],
          "parcoords": [
           {
            "line": {
             "colorbar": {
              "outlinewidth": 0,
              "ticks": ""
             }
            },
            "type": "parcoords"
           }
          ],
          "pie": [
           {
            "automargin": true,
            "type": "pie"
           }
          ],
          "scatter": [
           {
            "fillpattern": {
             "fillmode": "overlay",
             "size": 10,
             "solidity": 0.2
            },
            "type": "scatter"
           }
          ],
          "scatter3d": [
           {
            "line": {
             "colorbar": {
              "outlinewidth": 0,
              "ticks": ""
             }
            },
            "marker": {
             "colorbar": {
              "outlinewidth": 0,
              "ticks": ""
             }
            },
            "type": "scatter3d"
           }
          ],
          "scattercarpet": [
           {
            "marker": {
             "colorbar": {
              "outlinewidth": 0,
              "ticks": ""
             }
            },
            "type": "scattercarpet"
           }
          ],
          "scattergeo": [
           {
            "marker": {
             "colorbar": {
              "outlinewidth": 0,
              "ticks": ""
             }
            },
            "type": "scattergeo"
           }
          ],
          "scattergl": [
           {
            "marker": {
             "colorbar": {
              "outlinewidth": 0,
              "ticks": ""
             }
            },
            "type": "scattergl"
           }
          ],
          "scattermapbox": [
           {
            "marker": {
             "colorbar": {
              "outlinewidth": 0,
              "ticks": ""
             }
            },
            "type": "scattermapbox"
           }
          ],
          "scatterpolar": [
           {
            "marker": {
             "colorbar": {
              "outlinewidth": 0,
              "ticks": ""
             }
            },
            "type": "scatterpolar"
           }
          ],
          "scatterpolargl": [
           {
            "marker": {
             "colorbar": {
              "outlinewidth": 0,
              "ticks": ""
             }
            },
            "type": "scatterpolargl"
           }
          ],
          "scatterternary": [
           {
            "marker": {
             "colorbar": {
              "outlinewidth": 0,
              "ticks": ""
             }
            },
            "type": "scatterternary"
           }
          ],
          "surface": [
           {
            "colorbar": {
             "outlinewidth": 0,
             "ticks": ""
            },
            "colorscale": [
             [
              0,
              "#0d0887"
             ],
             [
              0.1111111111111111,
              "#46039f"
             ],
             [
              0.2222222222222222,
              "#7201a8"
             ],
             [
              0.3333333333333333,
              "#9c179e"
             ],
             [
              0.4444444444444444,
              "#bd3786"
             ],
             [
              0.5555555555555556,
              "#d8576b"
             ],
             [
              0.6666666666666666,
              "#ed7953"
             ],
             [
              0.7777777777777778,
              "#fb9f3a"
             ],
             [
              0.8888888888888888,
              "#fdca26"
             ],
             [
              1,
              "#f0f921"
             ]
            ],
            "type": "surface"
           }
          ],
          "table": [
           {
            "cells": {
             "fill": {
              "color": "#EBF0F8"
             },
             "line": {
              "color": "white"
             }
            },
            "header": {
             "fill": {
              "color": "#C8D4E3"
             },
             "line": {
              "color": "white"
             }
            },
            "type": "table"
           }
          ]
         },
         "layout": {
          "annotationdefaults": {
           "arrowcolor": "#2a3f5f",
           "arrowhead": 0,
           "arrowwidth": 1
          },
          "autotypenumbers": "strict",
          "coloraxis": {
           "colorbar": {
            "outlinewidth": 0,
            "ticks": ""
           }
          },
          "colorscale": {
           "diverging": [
            [
             0,
             "#8e0152"
            ],
            [
             0.1,
             "#c51b7d"
            ],
            [
             0.2,
             "#de77ae"
            ],
            [
             0.3,
             "#f1b6da"
            ],
            [
             0.4,
             "#fde0ef"
            ],
            [
             0.5,
             "#f7f7f7"
            ],
            [
             0.6,
             "#e6f5d0"
            ],
            [
             0.7,
             "#b8e186"
            ],
            [
             0.8,
             "#7fbc41"
            ],
            [
             0.9,
             "#4d9221"
            ],
            [
             1,
             "#276419"
            ]
           ],
           "sequential": [
            [
             0,
             "#0d0887"
            ],
            [
             0.1111111111111111,
             "#46039f"
            ],
            [
             0.2222222222222222,
             "#7201a8"
            ],
            [
             0.3333333333333333,
             "#9c179e"
            ],
            [
             0.4444444444444444,
             "#bd3786"
            ],
            [
             0.5555555555555556,
             "#d8576b"
            ],
            [
             0.6666666666666666,
             "#ed7953"
            ],
            [
             0.7777777777777778,
             "#fb9f3a"
            ],
            [
             0.8888888888888888,
             "#fdca26"
            ],
            [
             1,
             "#f0f921"
            ]
           ],
           "sequentialminus": [
            [
             0,
             "#0d0887"
            ],
            [
             0.1111111111111111,
             "#46039f"
            ],
            [
             0.2222222222222222,
             "#7201a8"
            ],
            [
             0.3333333333333333,
             "#9c179e"
            ],
            [
             0.4444444444444444,
             "#bd3786"
            ],
            [
             0.5555555555555556,
             "#d8576b"
            ],
            [
             0.6666666666666666,
             "#ed7953"
            ],
            [
             0.7777777777777778,
             "#fb9f3a"
            ],
            [
             0.8888888888888888,
             "#fdca26"
            ],
            [
             1,
             "#f0f921"
            ]
           ]
          },
          "colorway": [
           "#636efa",
           "#EF553B",
           "#00cc96",
           "#ab63fa",
           "#FFA15A",
           "#19d3f3",
           "#FF6692",
           "#B6E880",
           "#FF97FF",
           "#FECB52"
          ],
          "font": {
           "color": "#2a3f5f"
          },
          "geo": {
           "bgcolor": "white",
           "lakecolor": "white",
           "landcolor": "#E5ECF6",
           "showlakes": true,
           "showland": true,
           "subunitcolor": "white"
          },
          "hoverlabel": {
           "align": "left"
          },
          "hovermode": "closest",
          "mapbox": {
           "style": "light"
          },
          "paper_bgcolor": "white",
          "plot_bgcolor": "#E5ECF6",
          "polar": {
           "angularaxis": {
            "gridcolor": "white",
            "linecolor": "white",
            "ticks": ""
           },
           "bgcolor": "#E5ECF6",
           "radialaxis": {
            "gridcolor": "white",
            "linecolor": "white",
            "ticks": ""
           }
          },
          "scene": {
           "xaxis": {
            "backgroundcolor": "#E5ECF6",
            "gridcolor": "white",
            "gridwidth": 2,
            "linecolor": "white",
            "showbackground": true,
            "ticks": "",
            "zerolinecolor": "white"
           },
           "yaxis": {
            "backgroundcolor": "#E5ECF6",
            "gridcolor": "white",
            "gridwidth": 2,
            "linecolor": "white",
            "showbackground": true,
            "ticks": "",
            "zerolinecolor": "white"
           },
           "zaxis": {
            "backgroundcolor": "#E5ECF6",
            "gridcolor": "white",
            "gridwidth": 2,
            "linecolor": "white",
            "showbackground": true,
            "ticks": "",
            "zerolinecolor": "white"
           }
          },
          "shapedefaults": {
           "line": {
            "color": "#2a3f5f"
           }
          },
          "ternary": {
           "aaxis": {
            "gridcolor": "white",
            "linecolor": "white",
            "ticks": ""
           },
           "baxis": {
            "gridcolor": "white",
            "linecolor": "white",
            "ticks": ""
           },
           "bgcolor": "#E5ECF6",
           "caxis": {
            "gridcolor": "white",
            "linecolor": "white",
            "ticks": ""
           }
          },
          "title": {
           "x": 0.05
          },
          "xaxis": {
           "automargin": true,
           "gridcolor": "white",
           "linecolor": "white",
           "ticks": "",
           "title": {
            "standoff": 15
           },
           "zerolinecolor": "white",
           "zerolinewidth": 2
          },
          "yaxis": {
           "automargin": true,
           "gridcolor": "white",
           "linecolor": "white",
           "ticks": "",
           "title": {
            "standoff": 15
           },
           "zerolinecolor": "white",
           "zerolinewidth": 2
          }
         }
        },
        "width": 1800,
        "xaxis": {
         "autorange": true,
         "mirror": "allticks",
         "range": [
          0,
          2155
         ],
         "rangemode": "tozero",
         "showgrid": false,
         "showline": true,
         "showticklabels": true,
         "tickmode": "array",
         "ticks": "outside",
         "ticktext": [
          "14",
          "104",
          "196",
          "195",
          "45",
          "190",
          "67",
          "188",
          "56",
          "142",
          "143",
          "178",
          "140",
          "204",
          "17",
          "60",
          "198",
          "53",
          "155",
          "21",
          "22",
          "68",
          "128",
          "16",
          "119",
          "156",
          "79",
          "192",
          "73",
          "144",
          "181",
          "38",
          "125",
          "134",
          "136",
          "7",
          "72",
          "124",
          "62",
          "82",
          "41",
          "215",
          "209",
          "197",
          "86",
          "129",
          "108",
          "8",
          "92",
          "95",
          "174",
          "175",
          "19",
          "77",
          "59",
          "49",
          "169",
          "37",
          "33",
          "177",
          "89",
          "126",
          "98",
          "148",
          "75",
          "90",
          "36",
          "54",
          "163",
          "168",
          "10",
          "201",
          "149",
          "205",
          "99",
          "1",
          "123",
          "191",
          "145",
          "15",
          "130",
          "96",
          "20",
          "131",
          "26",
          "176",
          "44",
          "110",
          "76",
          "167",
          "182",
          "206",
          "194",
          "70",
          "0",
          "91",
          "146",
          "23",
          "29",
          "48",
          "212",
          "5",
          "30",
          "193",
          "46",
          "151",
          "109",
          "74",
          "105",
          "28",
          "43",
          "35",
          "118",
          "31",
          "158",
          "202",
          "165",
          "81",
          "9",
          "32",
          "153",
          "160",
          "85",
          "170",
          "121",
          "83",
          "199",
          "18",
          "3",
          "24",
          "2",
          "115",
          "52",
          "189",
          "103",
          "58",
          "106",
          "113",
          "13",
          "183",
          "97",
          "120",
          "164",
          "12",
          "210",
          "138",
          "203",
          "4",
          "25",
          "127",
          "157",
          "186",
          "93",
          "47",
          "50",
          "133",
          "63",
          "117",
          "179",
          "27",
          "88",
          "34",
          "51",
          "166",
          "107",
          "161",
          "132",
          "111",
          "114",
          "57",
          "55",
          "39",
          "171",
          "122",
          "137",
          "100",
          "112",
          "180",
          "94",
          "211",
          "78",
          "64",
          "80",
          "207",
          "40",
          "84",
          "200",
          "101",
          "135",
          "162",
          "11",
          "187",
          "152",
          "173",
          "139",
          "172",
          "154",
          "42",
          "147",
          "102",
          "66",
          "69",
          "185",
          "208",
          "71",
          "214",
          "159",
          "184",
          "65",
          "61",
          "87",
          "150",
          "213",
          "6",
          "116",
          "141"
         ],
         "tickvals": [
          5,
          15,
          25,
          35,
          45,
          55,
          65,
          75,
          85,
          95,
          105,
          115,
          125,
          135,
          145,
          155,
          165,
          175,
          185,
          195,
          205,
          215,
          225,
          235,
          245,
          255,
          265,
          275,
          285,
          295,
          305,
          315,
          325,
          335,
          345,
          355,
          365,
          375,
          385,
          395,
          405,
          415,
          425,
          435,
          445,
          455,
          465,
          475,
          485,
          495,
          505,
          515,
          525,
          535,
          545,
          555,
          565,
          575,
          585,
          595,
          605,
          615,
          625,
          635,
          645,
          655,
          665,
          675,
          685,
          695,
          705,
          715,
          725,
          735,
          745,
          755,
          765,
          775,
          785,
          795,
          805,
          815,
          825,
          835,
          845,
          855,
          865,
          875,
          885,
          895,
          905,
          915,
          925,
          935,
          945,
          955,
          965,
          975,
          985,
          995,
          1005,
          1015,
          1025,
          1035,
          1045,
          1055,
          1065,
          1075,
          1085,
          1095,
          1105,
          1115,
          1125,
          1135,
          1145,
          1155,
          1165,
          1175,
          1185,
          1195,
          1205,
          1215,
          1225,
          1235,
          1245,
          1255,
          1265,
          1275,
          1285,
          1295,
          1305,
          1315,
          1325,
          1335,
          1345,
          1355,
          1365,
          1375,
          1385,
          1395,
          1405,
          1415,
          1425,
          1435,
          1445,
          1455,
          1465,
          1475,
          1485,
          1495,
          1505,
          1515,
          1525,
          1535,
          1545,
          1555,
          1565,
          1575,
          1585,
          1595,
          1605,
          1615,
          1625,
          1635,
          1645,
          1655,
          1665,
          1675,
          1685,
          1695,
          1705,
          1715,
          1725,
          1735,
          1745,
          1755,
          1765,
          1775,
          1785,
          1795,
          1805,
          1815,
          1825,
          1835,
          1845,
          1855,
          1865,
          1875,
          1885,
          1895,
          1905,
          1915,
          1925,
          1935,
          1945,
          1955,
          1965,
          1975,
          1985,
          1995,
          2005,
          2015,
          2025,
          2035,
          2045,
          2055,
          2065,
          2075,
          2085,
          2095,
          2105,
          2115,
          2125,
          2135,
          2145,
          2155
         ],
         "type": "linear",
         "zeroline": false
        },
        "yaxis": {
         "autorange": true,
         "mirror": "allticks",
         "range": [
          0,
          160.90170030548748
         ],
         "rangemode": "tozero",
         "showgrid": false,
         "showline": true,
         "showticklabels": true,
         "ticks": "outside",
         "type": "linear",
         "zeroline": false
        }
       }
      },
      "image/png": "[encoded data removed]",
      "text/html": [
       "<div>                            <div id=\"86140414-5930-4e70-81d3-296e0ae503e8\" class=\"plotly-graph-div\" style=\"height:500px; width:1800px;\"></div>            <script type=\"text/javascript\">                require([\"plotly\"], function(Plotly) {                    window.PLOTLYENV=window.PLOTLYENV || {};                                    if (document.getElementById(\"86140414-5930-4e70-81d3-296e0ae503e8\")) {                    Plotly.newPlot(                        \"86140414-5930-4e70-81d3-296e0ae503e8\",                        [{\"hoverinfo\":\"text\",\"marker\":{\"color\":\"rgb(61,153,112)\"},\"mode\":\"lines\",\"x\":[5.0,5.0,15.0,15.0],\"xaxis\":\"x\",\"y\":[0.0,45.66985671863733,45.66985671863733,0.0],\"yaxis\":\"y\",\"type\":\"scatter\"},{\"hoverinfo\":\"text\",\"marker\":{\"color\":\"rgb(255,65,54)\"},\"mode\":\"lines\",\"x\":[85.0,85.0,95.0,95.0],\"xaxis\":\"x\",\"y\":[0.0,7.204943523931178,7.204943523931178,0.0],\"yaxis\":\"y\",\"type\":\"scatter\"},{\"hoverinfo\":\"text\",\"marker\":{\"color\":\"rgb(255,65,54)\"},\"mode\":\"lines\",\"x\":[75.0,75.0,90.0,90.0],\"xaxis\":\"x\",\"y\":[0.0,34.17313886601583,34.17313886601583,7.204943523931178],\"yaxis\":\"y\",\"type\":\"scatter\"},{\"hoverinfo\":\"text\",\"marker\":{\"color\":\"rgb(255,65,54)\"},\"mode\":\"lines\",\"x\":[125.0,125.0,135.0,135.0],\"xaxis\":\"x\",\"y\":[0.0,26.94927511493441,26.94927511493441,0.0],\"yaxis\":\"y\",\"type\":\"scatter\"},{\"hoverinfo\":\"text\",\"marker\":{\"color\":\"rgb(255,65,54)\"},\"mode\":\"lines\",\"x\":[115.0,115.0,130.0,130.0],\"xaxis\":\"x\",\"y\":[0.0,32.821969312606946,32.821969312606946,26.94927511493441],\"yaxis\":\"y\",\"type\":\"scatter\"},{\"hoverinfo\":\"text\",\"marker\":{\"color\":\"rgb(255,65,54)\"},\"mode\":\"lines\",\"x\":[145.0,145.0,155.0,155.0],\"xaxis\":\"x\",\"y\":[0.0,29.633289227217187,29.633289227217187,0.0],\"yaxis\":\"y\",\"type\":\"scatter\"},{\"hoverinfo\":\"text\",\"marker\":{\"color\":\"rgb(255,65,54)\"},\"mode\":\"lines\",\"x\":[205.0,205.0,215.0,215.0],\"xaxis\":\"x\",\"y\":[0.0,22.122373180837133,22.122373180837133,0.0],\"yaxis\":\"y\",\"type\":\"scatter\"},{\"hoverinfo\":\"text\",\"marker\":{\"color\":\"rgb(255,65,54)\"},\"mode\":\"lines\",\"x\":[195.0,195.0,210.0,210.0],\"xaxis\":\"x\",\"y\":[0.0,23.63985953905728,23.63985953905728,22.122373180837133],\"yaxis\":\"y\",\"type\":\"scatter\"},{\"hoverinfo\":\"text\",\"marker\":{\"color\":\"rgb(255,65,54)\"},\"mode\":\"lines\",\"x\":[235.0,235.0,245.0,245.0],\"xaxis\":\"x\",\"y\":[0.0,22.886556121968397,22.886556121968397,0.0],\"yaxis\":\"y\",\"type\":\"scatter\"},{\"hoverinfo\":\"text\",\"marker\":{\"color\":\"rgb(255,65,54)\"},\"mode\":\"lines\",\"x\":[225.0,225.0,240.0,240.0],\"xaxis\":\"x\",\"y\":[0.0,24.657682123923077,24.657682123923077,22.886556121968397],\"yaxis\":\"y\",\"type\":\"scatter\"},{\"hoverinfo\":\"text\",\"marker\":{\"color\":\"rgb(255,65,54)\"},\"mode\":\"lines\",\"x\":[202.5,202.5,232.5,232.5],\"xaxis\":\"x\",\"y\":[23.63985953905728,26.07067878663454,26.07067878663454,24.657682123923077],\"yaxis\":\"y\",\"type\":\"scatter\"},{\"hoverinfo\":\"text\",\"marker\":{\"color\":\"rgb(255,65,54)\"},\"mode\":\"lines\",\"x\":[185.0,185.0,217.5,217.5],\"xaxis\":\"x\",\"y\":[0.0,27.8986583373972,27.8986583373972,26.07067878663454],\"yaxis\":\"y\",\"type\":\"scatter\"},{\"hoverinfo\":\"text\",\"marker\":{\"color\":\"rgb(255,65,54)\"},\"mode\":\"lines\",\"x\":[175.0,175.0,201.25,201.25],\"xaxis\":\"x\",\"y\":[0.0,29.826025581552557,29.826025581552557,27.8986583373972],\"yaxis\":\"y\",\"type\":\"scatter\"},{\"hoverinfo\":\"text\",\"marker\":{\"color\":\"rgb(255,65,54)\"},\"mode\":\"lines\",\"x\":[165.0,165.0,188.125,188.125],\"xaxis\":\"x\",\"y\":[0.0,30.23674376247811,30.23674376247811,29.826025581552557],\"yaxis\":\"y\",\"type\":\"scatter\"},{\"hoverinfo\":\"text\",\"marker\":{\"color\":\"rgb(255,65,54)\"},\"mode\":\"lines\",\"x\":[150.0,150.0,176.5625,176.5625],\"xaxis\":\"x\",\"y\":[29.633289227217187,30.88497901004043,30.88497901004043,30.23674376247811],\"yaxis\":\"y\",\"type\":\"scatter\"},{\"hoverinfo\":\"text\",\"marker\":{\"color\":\"rgb(255,65,54)\"},\"mode\":\"lines\",\"x\":[265.0,265.0,275.0,275.0],\"xaxis\":\"x\",\"y\":[0.0,27.902300945801016,27.902300945801016,0.0],\"yaxis\":\"y\",\"type\":\"scatter\"},{\"hoverinfo\":\"text\",\"marker\":{\"color\":\"rgb(255,65,54)\"},\"mode\":\"lines\",\"x\":[255.0,255.0,270.0,270.0],\"xaxis\":\"x\",\"y\":[0.0,29.51790035292878,29.51790035292878,27.902300945801016],\"yaxis\":\"y\",\"type\":\"scatter\"},{\"hoverinfo\":\"text\",\"marker\":{\"color\":\"rgb(255,65,54)\"},\"mode\":\"lines\",\"x\":[295.0,295.0,305.0,305.0],\"xaxis\":\"x\",\"y\":[0.0,24.404387583475827,24.404387583475827,0.0],\"yaxis\":\"y\",\"type\":\"scatter\"},{\"hoverinfo\":\"text\",\"marker\":{\"color\":\"rgb(255,65,54)\"},\"mode\":\"lines\",\"x\":[315.0,315.0,325.0,325.0],\"xaxis\":\"x\",\"y\":[0.0,19.05411401120391,19.05411401120391,0.0],\"yaxis\":\"y\",\"type\":\"scatter\"},{\"hoverinfo\":\"text\",\"marker\":{\"color\":\"rgb(255,65,54)\"},\"mode\":\"lines\",\"x\":[335.0,335.0,345.0,345.0],\"xaxis\":\"x\",\"y\":[0.0,21.745084461438662,21.745084461438662,0.0],\"yaxis\":\"y\",\"type\":\"scatter\"},{\"hoverinfo\":\"text\",\"marker\":{\"color\":\"rgb(255,65,54)\"},\"mode\":\"lines\",\"x\":[355.0,355.0,365.0,365.0],\"xaxis\":\"x\",\"y\":[0.0,19.51428969732528,19.51428969732528,0.0],\"yaxis\":\"y\",\"type\":\"scatter\"},{\"hoverinfo\":\"text\",\"marker\":{\"color\":\"rgb(255,65,54)\"},\"mode\":\"lines\",\"x\":[385.0,385.0,395.0,395.0],\"xaxis\":\"x\",\"y\":[0.0,19.193616653317772,19.193616653317772,0.0],\"yaxis\":\"y\",\"type\":\"scatter\"},{\"hoverinfo\":\"text\",\"marker\":{\"color\":\"rgb(255,65,54)\"},\"mode\":\"lines\",\"x\":[375.0,375.0,390.0,390.0],\"xaxis\":\"x\",\"y\":[0.0,20.22588887868484,20.22588887868484,19.193616653317772],\"yaxis\":\"y\",\"type\":\"scatter\"},{\"hoverinfo\":\"text\",\"marker\":{\"color\":\"rgb(255,65,54)\"},\"mode\":\"lines\",\"x\":[405.0,405.0,415.0,415.0],\"xaxis\":\"x\",\"y\":[0.0,18.90810768332763,18.90810768332763,0.0],\"yaxis\":\"y\",\"type\":\"scatter\"},{\"hoverinfo\":\"text\",\"marker\":{\"color\":\"rgb(255,65,54)\"},\"mode\":\"lines\",\"x\":[445.0,445.0,455.0,455.0],\"xaxis\":\"x\",\"y\":[0.0,19.349826544181344,19.349826544181344,0.0],\"yaxis\":\"y\",\"type\":\"scatter\"},{\"hoverinfo\":\"text\",\"marker\":{\"color\":\"rgb(255,65,54)\"},\"mode\":\"lines\",\"x\":[435.0,435.0,450.0,450.0],\"xaxis\":\"x\",\"y\":[0.0,20.245499808488923,20.245499808488923,19.349826544181344],\"yaxis\":\"y\",\"type\":\"scatter\"},{\"hoverinfo\":\"text\",\"marker\":{\"color\":\"rgb(255,65,54)\"},\"mode\":\"lines\",\"x\":[485.0,485.0,495.0,495.0],\"xaxis\":\"x\",\"y\":[0.0,15.027072288269183,15.027072288269183,0.0],\"yaxis\":\"y\",\"type\":\"scatter\"},{\"hoverinfo\":\"text\",\"marker\":{\"color\":\"rgb(255,65,54)\"},\"mode\":\"lines\",\"x\":[505.0,505.0,515.0,515.0],\"xaxis\":\"x\",\"y\":[0.0,14.283178640220573,14.283178640220573,0.0],\"yaxis\":\"y\",\"type\":\"scatter\"},{\"hoverinfo\":\"text\",\"marker\":{\"color\":\"rgb(255,65,54)\"},\"mode\":\"lines\",\"x\":[525.0,525.0,535.0,535.0],\"xaxis\":\"x\",\"y\":[0.0,15.122450090696898,15.122450090696898,0.0],\"yaxis\":\"y\",\"type\":\"scatter\"},{\"hoverinfo\":\"text\",\"marker\":{\"color\":\"rgb(255,65,54)\"},\"mode\":\"lines\",\"x\":[510.0,510.0,530.0,530.0],\"xaxis\":\"x\",\"y\":[14.283178640220573,15.756930304457766,15.756930304457766,15.122450090696898],\"yaxis\":\"y\",\"type\":\"scatter\"},{\"hoverinfo\":\"text\",\"marker\":{\"color\":\"rgb(255,65,54)\"},\"mode\":\"lines\",\"x\":[490.0,490.0,520.0,520.0],\"xaxis\":\"x\",\"y\":[15.027072288269183,17.733540768197873,17.733540768197873,15.756930304457766],\"yaxis\":\"y\",\"type\":\"scatter\"},{\"hoverinfo\":\"text\",\"marker\":{\"color\":\"rgb(255,65,54)\"},\"mode\":\"lines\",\"x\":[475.0,475.0,505.0,505.0],\"xaxis\":\"x\",\"y\":[0.0,18.73123026088021,18.73123026088021,17.733540768197873],\"yaxis\":\"y\",\"type\":\"scatter\"},{\"hoverinfo\":\"text\",\"marker\":{\"color\":\"rgb(255,65,54)\"},\"mode\":\"lines\",\"x\":[465.0,465.0,490.0,490.0],\"xaxis\":\"x\",\"y\":[0.0,21.210919184541705,21.210919184541705,18.73123026088021],\"yaxis\":\"y\",\"type\":\"scatter\"},{\"hoverinfo\":\"text\",\"marker\":{\"color\":\"rgb(255,65,54)\"},\"mode\":\"lines\",\"x\":[442.5,442.5,477.5,477.5],\"xaxis\":\"x\",\"y\":[20.245499808488923,21.806215794907736,21.806215794907736,21.210919184541705],\"yaxis\":\"y\",\"type\":\"scatter\"},{\"hoverinfo\":\"text\",\"marker\":{\"color\":\"rgb(255,65,54)\"},\"mode\":\"lines\",\"x\":[425.0,425.0,460.0,460.0],\"xaxis\":\"x\",\"y\":[0.0,24.082644370432284,24.082644370432284,21.806215794907736],\"yaxis\":\"y\",\"type\":\"scatter\"},{\"hoverinfo\":\"text\",\"marker\":{\"color\":\"rgb(255,65,54)\"},\"mode\":\"lines\",\"x\":[410.0,410.0,442.5,442.5],\"xaxis\":\"x\",\"y\":[18.90810768332763,25.131154971989638,25.131154971989638,24.082644370432284],\"yaxis\":\"y\",\"type\":\"scatter\"},{\"hoverinfo\":\"text\",\"marker\":{\"color\":\"rgb(255,65,54)\"},\"mode\":\"lines\",\"x\":[382.5,382.5,426.25,426.25],\"xaxis\":\"x\",\"y\":[20.22588887868484,25.98530287615422,25.98530287615422,25.131154971989638],\"yaxis\":\"y\",\"type\":\"scatter\"},{\"hoverinfo\":\"text\",\"marker\":{\"color\":\"rgb(255,65,54)\"},\"mode\":\"lines\",\"x\":[360.0,360.0,404.375,404.375],\"xaxis\":\"x\",\"y\":[19.51428969732528,26.460191206786767,26.460191206786767,25.98530287615422],\"yaxis\":\"y\",\"type\":\"scatter\"},{\"hoverinfo\":\"text\",\"marker\":{\"color\":\"rgb(255,65,54)\"},\"mode\":\"lines\",\"x\":[340.0,340.0,382.1875,382.1875],\"xaxis\":\"x\",\"y\":[21.745084461438662,27.481393301312767,27.481393301312767,26.460191206786767],\"yaxis\":\"y\",\"type\":\"scatter\"},{\"hoverinfo\":\"text\",\"marker\":{\"color\":\"rgb(255,65,54)\"},\"mode\":\"lines\",\"x\":[320.0,320.0,361.09375,361.09375],\"xaxis\":\"x\",\"y\":[19.05411401120391,28.143669706710398,28.143669706710398,27.481393301312767],\"yaxis\":\"y\",\"type\":\"scatter\"},{\"hoverinfo\":\"text\",\"marker\":{\"color\":\"rgb(255,65,54)\"},\"mode\":\"lines\",\"x\":[300.0,300.0,340.546875,340.546875],\"xaxis\":\"x\",\"y\":[24.404387583475827,29.223746847335992,29.223746847335992,28.143669706710398],\"yaxis\":\"y\",\"type\":\"scatter\"},{\"hoverinfo\":\"text\",\"marker\":{\"color\":\"rgb(255,65,54)\"},\"mode\":\"lines\",\"x\":[285.0,285.0,320.2734375,320.2734375],\"xaxis\":\"x\",\"y\":[0.0,30.023235907677243,30.023235907677243,29.223746847335992],\"yaxis\":\"y\",\"type\":\"scatter\"},{\"hoverinfo\":\"text\",\"marker\":{\"color\":\"rgb(255,65,54)\"},\"mode\":\"lines\",\"x\":[262.5,262.5,302.63671875,302.63671875],\"xaxis\":\"x\",\"y\":[29.51790035292878,30.12367471331571,30.12367471331571,30.023235907677243],\"yaxis\":\"y\",\"type\":\"scatter\"},{\"hoverinfo\":\"text\",\"marker\":{\"color\":\"rgb(255,65,54)\"},\"mode\":\"lines\",\"x\":[555.0,555.0,565.0,565.0],\"xaxis\":\"x\",\"y\":[0.0,27.255344606093924,27.255344606093924,0.0],\"yaxis\":\"y\",\"type\":\"scatter\"},{\"hoverinfo\":\"text\",\"marker\":{\"color\":\"rgb(255,65,54)\"},\"mode\":\"lines\",\"x\":[545.0,545.0,560.0,560.0],\"xaxis\":\"x\",\"y\":[0.0,31.428491627496744,31.428491627496744,27.255344606093924],\"yaxis\":\"y\",\"type\":\"scatter\"},{\"hoverinfo\":\"text\",\"marker\":{\"color\":\"rgb(255,65,54)\"},\"mode\":\"lines\",\"x\":[282.568359375,282.568359375,552.5,552.5],\"xaxis\":\"x\",\"y\":[30.12367471331571,31.853610839675355,31.853610839675355,31.428491627496744],\"yaxis\":\"y\",\"type\":\"scatter\"},{\"hoverinfo\":\"text\",\"marker\":{\"color\":\"rgb(255,65,54)\"},\"mode\":\"lines\",\"x\":[163.28125,163.28125,417.5341796875,417.5341796875],\"xaxis\":\"x\",\"y\":[30.88497901004043,32.68658455382659,32.68658455382659,31.853610839675355],\"yaxis\":\"y\",\"type\":\"scatter\"},{\"hoverinfo\":\"text\",\"marker\":{\"color\":\"rgb(255,65,54)\"},\"mode\":\"lines\",\"x\":[605.0,605.0,615.0,615.0],\"xaxis\":\"x\",\"y\":[0.0,24.119232191757412,24.119232191757412,0.0],\"yaxis\":\"y\",\"type\":\"scatter\"},{\"hoverinfo\":\"text\",\"marker\":{\"color\":\"rgb(255,65,54)\"},\"mode\":\"lines\",\"x\":[595.0,595.0,610.0,610.0],\"xaxis\":\"x\",\"y\":[0.0,26.020420934294666,26.020420934294666,24.119232191757412],\"yaxis\":\"y\",\"type\":\"scatter\"},{\"hoverinfo\":\"text\",\"marker\":{\"color\":\"rgb(255,65,54)\"},\"mode\":\"lines\",\"x\":[585.0,585.0,602.5,602.5],\"xaxis\":\"x\",\"y\":[0.0,29.952961559548456,29.952961559548456,26.020420934294666],\"yaxis\":\"y\",\"type\":\"scatter\"},{\"hoverinfo\":\"text\",\"marker\":{\"color\":\"rgb(255,65,54)\"},\"mode\":\"lines\",\"x\":[575.0,575.0,593.75,593.75],\"xaxis\":\"x\",\"y\":[0.0,33.753275321218716,33.753275321218716,29.952961559548456],\"yaxis\":\"y\",\"type\":\"scatter\"},{\"hoverinfo\":\"text\",\"marker\":{\"color\":\"rgb(255,65,54)\"},\"mode\":\"lines\",\"x\":[290.40771484375,290.40771484375,584.375,584.375],\"xaxis\":\"x\",\"y\":[32.68658455382659,35.60914049524606,35.60914049524606,33.753275321218716],\"yaxis\":\"y\",\"type\":\"scatter\"},{\"hoverinfo\":\"text\",\"marker\":{\"color\":\"rgb(255,65,54)\"},\"mode\":\"lines\",\"x\":[122.5,122.5,437.391357421875,437.391357421875],\"xaxis\":\"x\",\"y\":[32.821969312606946,36.24194660644503,36.24194660644503,35.60914049524606],\"yaxis\":\"y\",\"type\":\"scatter\"},{\"hoverinfo\":\"text\",\"marker\":{\"color\":\"rgb(255,65,54)\"},\"mode\":\"lines\",\"x\":[105.0,105.0,279.9456787109375,279.9456787109375],\"xaxis\":\"x\",\"y\":[0.0,37.113604141557595,37.113604141557595,36.24194660644503],\"yaxis\":\"y\",\"type\":\"scatter\"},{\"hoverinfo\":\"text\",\"marker\":{\"color\":\"rgb(255,65,54)\"},\"mode\":\"lines\",\"x\":[82.5,82.5,192.47283935546875,192.47283935546875],\"xaxis\":\"x\",\"y\":[34.17313886601583,38.150027687518005,38.150027687518005,37.113604141557595],\"yaxis\":\"y\",\"type\":\"scatter\"},{\"hoverinfo\":\"text\",\"marker\":{\"color\":\"rgb(255,65,54)\"},\"mode\":\"lines\",\"x\":[65.0,65.0,137.48641967773438,137.48641967773438],\"xaxis\":\"x\",\"y\":[0.0,39.55602824702009,39.55602824702009,38.150027687518005],\"yaxis\":\"y\",\"type\":\"scatter\"},{\"hoverinfo\":\"text\",\"marker\":{\"color\":\"rgb(255,65,54)\"},\"mode\":\"lines\",\"x\":[55.0,55.0,101.24320983886719,101.24320983886719],\"xaxis\":\"x\",\"y\":[0.0,39.63568944443887,39.63568944443887,39.55602824702009],\"yaxis\":\"y\",\"type\":\"scatter\"},{\"hoverinfo\":\"text\",\"marker\":{\"color\":\"rgb(255,65,54)\"},\"mode\":\"lines\",\"x\":[45.0,45.0,78.1216049194336,78.1216049194336],\"xaxis\":\"x\",\"y\":[0.0,39.89892395066919,39.89892395066919,39.63568944443887],\"yaxis\":\"y\",\"type\":\"scatter\"},{\"hoverinfo\":\"text\",\"marker\":{\"color\":\"rgb(255,65,54)\"},\"mode\":\"lines\",\"x\":[35.0,35.0,61.5608024597168,61.5608024597168],\"xaxis\":\"x\",\"y\":[0.0,42.644846789941155,42.644846789941155,39.89892395066919],\"yaxis\":\"y\",\"type\":\"scatter\"},{\"hoverinfo\":\"text\",\"marker\":{\"color\":\"rgb(255,65,54)\"},\"mode\":\"lines\",\"x\":[25.0,25.0,48.2804012298584,48.2804012298584],\"xaxis\":\"x\",\"y\":[0.0,47.82320477303475,47.82320477303475,42.644846789941155],\"yaxis\":\"y\",\"type\":\"scatter\"},{\"hoverinfo\":\"text\",\"marker\":{\"color\":\"rgb(255,65,54)\"},\"mode\":\"lines\",\"x\":[705.0,705.0,715.0,715.0],\"xaxis\":\"x\",\"y\":[0.0,27.404889959070914,27.404889959070914,0.0],\"yaxis\":\"y\",\"type\":\"scatter\"},{\"hoverinfo\":\"text\",\"marker\":{\"color\":\"rgb(255,65,54)\"},\"mode\":\"lines\",\"x\":[695.0,695.0,710.0,710.0],\"xaxis\":\"x\",\"y\":[0.0,29.506040418026284,29.506040418026284,27.404889959070914],\"yaxis\":\"y\",\"type\":\"scatter\"},{\"hoverinfo\":\"text\",\"marker\":{\"color\":\"rgb(255,65,54)\"},\"mode\":\"lines\",\"x\":[725.0,725.0,735.0,735.0],\"xaxis\":\"x\",\"y\":[0.0,30.249418279056588,30.249418279056588,0.0],\"yaxis\":\"y\",\"type\":\"scatter\"},{\"hoverinfo\":\"text\",\"marker\":{\"color\":\"rgb(255,65,54)\"},\"mode\":\"lines\",\"x\":[702.5,702.5,730.0,730.0],\"xaxis\":\"x\",\"y\":[29.506040418026284,32.161829067036194,32.161829067036194,30.249418279056588],\"yaxis\":\"y\",\"type\":\"scatter\"},{\"hoverinfo\":\"text\",\"marker\":{\"color\":\"rgb(255,65,54)\"},\"mode\":\"lines\",\"x\":[755.0,755.0,765.0,765.0],\"xaxis\":\"x\",\"y\":[0.0,19.919838702887017,19.919838702887017,0.0],\"yaxis\":\"y\",\"type\":\"scatter\"},{\"hoverinfo\":\"text\",\"marker\":{\"color\":\"rgb(255,65,54)\"},\"mode\":\"lines\",\"x\":[745.0,745.0,760.0,760.0],\"xaxis\":\"x\",\"y\":[0.0,28.03674917245149,28.03674917245149,19.919838702887017],\"yaxis\":\"y\",\"type\":\"scatter\"},{\"hoverinfo\":\"text\",\"marker\":{\"color\":\"rgb(255,65,54)\"},\"mode\":\"lines\",\"x\":[795.0,795.0,805.0,805.0],\"xaxis\":\"x\",\"y\":[0.0,20.088761936085543,20.088761936085543,0.0],\"yaxis\":\"y\",\"type\":\"scatter\"},{\"hoverinfo\":\"text\",\"marker\":{\"color\":\"rgb(255,65,54)\"},\"mode\":\"lines\",\"x\":[825.0,825.0,835.0,835.0],\"xaxis\":\"x\",\"y\":[0.0,21.0714225758045,21.0714225758045,0.0],\"yaxis\":\"y\",\"type\":\"scatter\"},{\"hoverinfo\":\"text\",\"marker\":{\"color\":\"rgb(255,65,54)\"},\"mode\":\"lines\",\"x\":[815.0,815.0,830.0,830.0],\"xaxis\":\"x\",\"y\":[0.0,26.845119074885936,26.845119074885936,21.0714225758045],\"yaxis\":\"y\",\"type\":\"scatter\"},{\"hoverinfo\":\"text\",\"marker\":{\"color\":\"rgb(255,65,54)\"},\"mode\":\"lines\",\"x\":[800.0,800.0,822.5,822.5],\"xaxis\":\"x\",\"y\":[20.088761936085543,27.641044109743238,27.641044109743238,26.845119074885936],\"yaxis\":\"y\",\"type\":\"scatter\"},{\"hoverinfo\":\"text\",\"marker\":{\"color\":\"rgb(255,65,54)\"},\"mode\":\"lines\",\"x\":[845.0,845.0,855.0,855.0],\"xaxis\":\"x\",\"y\":[0.0,25.08146699782502,25.08146699782502,0.0],\"yaxis\":\"y\",\"type\":\"scatter\"},{\"hoverinfo\":\"text\",\"marker\":{\"color\":\"rgb(255,65,54)\"},\"mode\":\"lines\",\"x\":[865.0,865.0,875.0,875.0],\"xaxis\":\"x\",\"y\":[0.0,21.62590518944639,21.62590518944639,0.0],\"yaxis\":\"y\",\"type\":\"scatter\"},{\"hoverinfo\":\"text\",\"marker\":{\"color\":\"rgb(255,65,54)\"},\"mode\":\"lines\",\"x\":[895.0,895.0,905.0,905.0],\"xaxis\":\"x\",\"y\":[0.0,24.723733514497678,24.723733514497678,0.0],\"yaxis\":\"y\",\"type\":\"scatter\"},{\"hoverinfo\":\"text\",\"marker\":{\"color\":\"rgb(255,65,54)\"},\"mode\":\"lines\",\"x\":[885.0,885.0,900.0,900.0],\"xaxis\":\"x\",\"y\":[0.0,25.728665123352016,25.728665123352016,24.723733514497678],\"yaxis\":\"y\",\"type\":\"scatter\"},{\"hoverinfo\":\"text\",\"marker\":{\"color\":\"rgb(255,65,54)\"},\"mode\":\"lines\",\"x\":[870.0,870.0,892.5,892.5],\"xaxis\":\"x\",\"y\":[21.62590518944639,26.773814508207025,26.773814508207025,25.728665123352016],\"yaxis\":\"y\",\"type\":\"scatter\"},{\"hoverinfo\":\"text\",\"marker\":{\"color\":\"rgb(255,65,54)\"},\"mode\":\"lines\",\"x\":[850.0,850.0,881.25,881.25],\"xaxis\":\"x\",\"y\":[25.08146699782502,27.980945845435418,27.980945845435418,26.773814508207025],\"yaxis\":\"y\",\"type\":\"scatter\"},{\"hoverinfo\":\"text\",\"marker\":{\"color\":\"rgb(255,65,54)\"},\"mode\":\"lines\",\"x\":[811.25,811.25,865.625,865.625],\"xaxis\":\"x\",\"y\":[27.641044109743238,28.25289009456388,28.25289009456388,27.980945845435418],\"yaxis\":\"y\",\"type\":\"scatter\"},{\"hoverinfo\":\"text\",\"marker\":{\"color\":\"rgb(255,65,54)\"},\"mode\":\"lines\",\"x\":[785.0,785.0,838.4375,838.4375],\"xaxis\":\"x\",\"y\":[0.0,29.196923388219624,29.196923388219624,28.25289009456388],\"yaxis\":\"y\",\"type\":\"scatter\"},{\"hoverinfo\":\"text\",\"marker\":{\"color\":\"rgb(255,65,54)\"},\"mode\":\"lines\",\"x\":[775.0,775.0,811.71875,811.71875],\"xaxis\":\"x\",\"y\":[0.0,29.6072328561069,29.6072328561069,29.196923388219624],\"yaxis\":\"y\",\"type\":\"scatter\"},{\"hoverinfo\":\"text\",\"marker\":{\"color\":\"rgb(255,65,54)\"},\"mode\":\"lines\",\"x\":[955.0,955.0,965.0,965.0],\"xaxis\":\"x\",\"y\":[0.0,17.970596978324348,17.970596978324348,0.0],\"yaxis\":\"y\",\"type\":\"scatter\"},{\"hoverinfo\":\"text\",\"marker\":{\"color\":\"rgb(255,65,54)\"},\"mode\":\"lines\",\"x\":[945.0,945.0,960.0,960.0],\"xaxis\":\"x\",\"y\":[0.0,18.894167534472736,18.894167534472736,17.970596978324348],\"yaxis\":\"y\",\"type\":\"scatter\"},{\"hoverinfo\":\"text\",\"marker\":{\"color\":\"rgb(255,65,54)\"},\"mode\":\"lines\",\"x\":[935.0,935.0,952.5,952.5],\"xaxis\":\"x\",\"y\":[0.0,21.033265589936565,21.033265589936565,18.894167534472736],\"yaxis\":\"y\",\"type\":\"scatter\"},{\"hoverinfo\":\"text\",\"marker\":{\"color\":\"rgb(255,65,54)\"},\"mode\":\"lines\",\"x\":[975.0,975.0,985.0,985.0],\"xaxis\":\"x\",\"y\":[0.0,25.746168517109183,25.746168517109183,0.0],\"yaxis\":\"y\",\"type\":\"scatter\"},{\"hoverinfo\":\"text\",\"marker\":{\"color\":\"rgb(255,65,54)\"},\"mode\":\"lines\",\"x\":[943.75,943.75,980.0,980.0],\"xaxis\":\"x\",\"y\":[21.033265589936565,26.302385814227218,26.302385814227218,25.746168517109183],\"yaxis\":\"y\",\"type\":\"scatter\"},{\"hoverinfo\":\"text\",\"marker\":{\"color\":\"rgb(255,65,54)\"},\"mode\":\"lines\",\"x\":[925.0,925.0,961.875,961.875],\"xaxis\":\"x\",\"y\":[0.0,27.37446968739801,27.37446968739801,26.302385814227218],\"yaxis\":\"y\",\"type\":\"scatter\"},{\"hoverinfo\":\"text\",\"marker\":{\"color\":\"rgb(255,65,54)\"},\"mode\":\"lines\",\"x\":[1025.0,1025.0,1035.0,1035.0],\"xaxis\":\"x\",\"y\":[0.0,16.278096227591327,16.278096227591327,0.0],\"yaxis\":\"y\",\"type\":\"scatter\"},{\"hoverinfo\":\"text\",\"marker\":{\"color\":\"rgb(255,65,54)\"},\"mode\":\"lines\",\"x\":[1075.0,1075.0,1085.0,1085.0],\"xaxis\":\"x\",\"y\":[0.0,15.538055577059742,15.538055577059742,0.0],\"yaxis\":\"y\",\"type\":\"scatter\"},{\"hoverinfo\":\"text\",\"marker\":{\"color\":\"rgb(255,65,54)\"},\"mode\":\"lines\",\"x\":[1065.0,1065.0,1080.0,1080.0],\"xaxis\":\"x\",\"y\":[0.0,16.52855506891541,16.52855506891541,15.538055577059742],\"yaxis\":\"y\",\"type\":\"scatter\"},{\"hoverinfo\":\"text\",\"marker\":{\"color\":\"rgb(255,65,54)\"},\"mode\":\"lines\",\"x\":[1055.0,1055.0,1072.5,1072.5],\"xaxis\":\"x\",\"y\":[0.0,18.129973901965506,18.129973901965506,16.52855506891541],\"yaxis\":\"y\",\"type\":\"scatter\"},{\"hoverinfo\":\"text\",\"marker\":{\"color\":\"rgb(255,65,54)\"},\"mode\":\"lines\",\"x\":[1045.0,1045.0,1063.75,1063.75],\"xaxis\":\"x\",\"y\":[0.0,18.608156675454364,18.608156675454364,18.129973901965506],\"yaxis\":\"y\",\"type\":\"scatter\"},{\"hoverinfo\":\"text\",\"marker\":{\"color\":\"rgb(255,65,54)\"},\"mode\":\"lines\",\"x\":[1030.0,1030.0,1054.375,1054.375],\"xaxis\":\"x\",\"y\":[16.278096227591327,19.87910259353761,19.87910259353761,18.608156675454364],\"yaxis\":\"y\",\"type\":\"scatter\"},{\"hoverinfo\":\"text\",\"marker\":{\"color\":\"rgb(255,65,54)\"},\"mode\":\"lines\",\"x\":[1015.0,1015.0,1042.1875,1042.1875],\"xaxis\":\"x\",\"y\":[0.0,20.366518240611946,20.366518240611946,19.87910259353761],\"yaxis\":\"y\",\"type\":\"scatter\"},{\"hoverinfo\":\"text\",\"marker\":{\"color\":\"rgb(255,65,54)\"},\"mode\":\"lines\",\"x\":[1005.0,1005.0,1028.59375,1028.59375],\"xaxis\":\"x\",\"y\":[0.0,21.882271506957192,21.882271506957192,20.366518240611946],\"yaxis\":\"y\",\"type\":\"scatter\"},{\"hoverinfo\":\"text\",\"marker\":{\"color\":\"rgb(255,65,54)\"},\"mode\":\"lines\",\"x\":[995.0,995.0,1016.796875,1016.796875],\"xaxis\":\"x\",\"y\":[0.0,25.299591254228137,25.299591254228137,21.882271506957192],\"yaxis\":\"y\",\"type\":\"scatter\"},{\"hoverinfo\":\"text\",\"marker\":{\"color\":\"rgb(255,65,54)\"},\"mode\":\"lines\",\"x\":[1095.0,1095.0,1105.0,1105.0],\"xaxis\":\"x\",\"y\":[0.0,27.632391178733346,27.632391178733346,0.0],\"yaxis\":\"y\",\"type\":\"scatter\"},{\"hoverinfo\":\"text\",\"marker\":{\"color\":\"rgb(255,65,54)\"},\"mode\":\"lines\",\"x\":[1115.0,1115.0,1125.0,1125.0],\"xaxis\":\"x\",\"y\":[0.0,21.899848887467492,21.899848887467492,0.0],\"yaxis\":\"y\",\"type\":\"scatter\"},{\"hoverinfo\":\"text\",\"marker\":{\"color\":\"rgb(255,65,54)\"},\"mode\":\"lines\",\"x\":[1145.0,1145.0,1155.0,1155.0],\"xaxis\":\"x\",\"y\":[0.0,26.343873335397948,26.343873335397948,0.0],\"yaxis\":\"y\",\"type\":\"scatter\"},{\"hoverinfo\":\"text\",\"marker\":{\"color\":\"rgb(255,65,54)\"},\"mode\":\"lines\",\"x\":[1135.0,1135.0,1150.0,1150.0],\"xaxis\":\"x\",\"y\":[0.0,26.812434447223,26.812434447223,26.343873335397948],\"yaxis\":\"y\",\"type\":\"scatter\"},{\"hoverinfo\":\"text\",\"marker\":{\"color\":\"rgb(255,65,54)\"},\"mode\":\"lines\",\"x\":[1120.0,1120.0,1142.5,1142.5],\"xaxis\":\"x\",\"y\":[21.899848887467492,27.681132846431055,27.681132846431055,26.812434447223],\"yaxis\":\"y\",\"type\":\"scatter\"},{\"hoverinfo\":\"text\",\"marker\":{\"color\":\"rgb(255,65,54)\"},\"mode\":\"lines\",\"x\":[1195.0,1195.0,1205.0,1205.0],\"xaxis\":\"x\",\"y\":[0.0,18.06127758022514,18.06127758022514,0.0],\"yaxis\":\"y\",\"type\":\"scatter\"},{\"hoverinfo\":\"text\",\"marker\":{\"color\":\"rgb(255,65,54)\"},\"mode\":\"lines\",\"x\":[1185.0,1185.0,1200.0,1200.0],\"xaxis\":\"x\",\"y\":[0.0,21.151148147807532,21.151148147807532,18.06127758022514],\"yaxis\":\"y\",\"type\":\"scatter\"},{\"hoverinfo\":\"text\",\"marker\":{\"color\":\"rgb(255,65,54)\"},\"mode\":\"lines\",\"x\":[1175.0,1175.0,1192.5,1192.5],\"xaxis\":\"x\",\"y\":[0.0,25.121094734068887,25.121094734068887,21.151148147807532],\"yaxis\":\"y\",\"type\":\"scatter\"},{\"hoverinfo\":\"text\",\"marker\":{\"color\":\"rgb(255,65,54)\"},\"mode\":\"lines\",\"x\":[1225.0,1225.0,1235.0,1235.0],\"xaxis\":\"x\",\"y\":[0.0,22.83787067802231,22.83787067802231,0.0],\"yaxis\":\"y\",\"type\":\"scatter\"},{\"hoverinfo\":\"text\",\"marker\":{\"color\":\"rgb(255,65,54)\"},\"mode\":\"lines\",\"x\":[1255.0,1255.0,1265.0,1265.0],\"xaxis\":\"x\",\"y\":[0.0,17.903910535986626,17.903910535986626,0.0],\"yaxis\":\"y\",\"type\":\"scatter\"},{\"hoverinfo\":\"text\",\"marker\":{\"color\":\"rgb(255,65,54)\"},\"mode\":\"lines\",\"x\":[1245.0,1245.0,1260.0,1260.0],\"xaxis\":\"x\",\"y\":[0.0,19.011817096697566,19.011817096697566,17.903910535986626],\"yaxis\":\"y\",\"type\":\"scatter\"},{\"hoverinfo\":\"text\",\"marker\":{\"color\":\"rgb(255,65,54)\"},\"mode\":\"lines\",\"x\":[1285.0,1285.0,1295.0,1295.0],\"xaxis\":\"x\",\"y\":[0.0,19.5833725816266,19.5833725816266,0.0],\"yaxis\":\"y\",\"type\":\"scatter\"},{\"hoverinfo\":\"text\",\"marker\":{\"color\":\"rgb(255,65,54)\"},\"mode\":\"lines\",\"x\":[1325.0,1325.0,1335.0,1335.0],\"xaxis\":\"x\",\"y\":[0.0,16.406663269481413,16.406663269481413,0.0],\"yaxis\":\"y\",\"type\":\"scatter\"},{\"hoverinfo\":\"text\",\"marker\":{\"color\":\"rgb(255,65,54)\"},\"mode\":\"lines\",\"x\":[1315.0,1315.0,1330.0,1330.0],\"xaxis\":\"x\",\"y\":[0.0,18.977460863231908,18.977460863231908,16.406663269481413],\"yaxis\":\"y\",\"type\":\"scatter\"},{\"hoverinfo\":\"text\",\"marker\":{\"color\":\"rgb(255,65,54)\"},\"mode\":\"lines\",\"x\":[1305.0,1305.0,1322.5,1322.5],\"xaxis\":\"x\",\"y\":[0.0,20.589321816985173,20.589321816985173,18.977460863231908],\"yaxis\":\"y\",\"type\":\"scatter\"},{\"hoverinfo\":\"text\",\"marker\":{\"color\":\"rgb(255,65,54)\"},\"mode\":\"lines\",\"x\":[1290.0,1290.0,1313.75,1313.75],\"xaxis\":\"x\",\"y\":[19.5833725816266,21.52114786725049,21.52114786725049,20.589321816985173],\"yaxis\":\"y\",\"type\":\"scatter\"},{\"hoverinfo\":\"text\",\"marker\":{\"color\":\"rgb(255,65,54)\"},\"mode\":\"lines\",\"x\":[1275.0,1275.0,1301.875,1301.875],\"xaxis\":\"x\",\"y\":[0.0,21.761258604530095,21.761258604530095,21.52114786725049],\"yaxis\":\"y\",\"type\":\"scatter\"},{\"hoverinfo\":\"text\",\"marker\":{\"color\":\"rgb(255,65,54)\"},\"mode\":\"lines\",\"x\":[1252.5,1252.5,1288.4375,1288.4375],\"xaxis\":\"x\",\"y\":[19.011817096697566,22.595077871963586,22.595077871963586,21.761258604530095],\"yaxis\":\"y\",\"type\":\"scatter\"},{\"hoverinfo\":\"text\",\"marker\":{\"color\":\"rgb(255,65,54)\"},\"mode\":\"lines\",\"x\":[1355.0,1355.0,1365.0,1365.0],\"xaxis\":\"x\",\"y\":[0.0,15.098085735567704,15.098085735567704,0.0],\"yaxis\":\"y\",\"type\":\"scatter\"},{\"hoverinfo\":\"text\",\"marker\":{\"color\":\"rgb(255,65,54)\"},\"mode\":\"lines\",\"x\":[1345.0,1345.0,1360.0,1360.0],\"xaxis\":\"x\",\"y\":[0.0,19.84149745177112,19.84149745177112,15.098085735567704],\"yaxis\":\"y\",\"type\":\"scatter\"},{\"hoverinfo\":\"text\",\"marker\":{\"color\":\"rgb(255,65,54)\"},\"mode\":\"lines\",\"x\":[1385.0,1385.0,1395.0,1395.0],\"xaxis\":\"x\",\"y\":[0.0,18.75290137531096,18.75290137531096,0.0],\"yaxis\":\"y\",\"type\":\"scatter\"},{\"hoverinfo\":\"text\",\"marker\":{\"color\":\"rgb(255,65,54)\"},\"mode\":\"lines\",\"x\":[1375.0,1375.0,1390.0,1390.0],\"xaxis\":\"x\",\"y\":[0.0,19.52610462849639,19.52610462849639,18.75290137531096],\"yaxis\":\"y\",\"type\":\"scatter\"},{\"hoverinfo\":\"text\",\"marker\":{\"color\":\"rgb(255,65,54)\"},\"mode\":\"lines\",\"x\":[1405.0,1405.0,1415.0,1415.0],\"xaxis\":\"x\",\"y\":[0.0,20.049826467636155,20.049826467636155,0.0],\"yaxis\":\"y\",\"type\":\"scatter\"},{\"hoverinfo\":\"text\",\"marker\":{\"color\":\"rgb(255,65,54)\"},\"mode\":\"lines\",\"x\":[1382.5,1382.5,1410.0,1410.0],\"xaxis\":\"x\",\"y\":[19.52610462849639,22.384099487373344,22.384099487373344,20.049826467636155],\"yaxis\":\"y\",\"type\":\"scatter\"},{\"hoverinfo\":\"text\",\"marker\":{\"color\":\"rgb(255,65,54)\"},\"mode\":\"lines\",\"x\":[1435.0,1435.0,1445.0,1445.0],\"xaxis\":\"x\",\"y\":[0.0,16.53383607138389,16.53383607138389,0.0],\"yaxis\":\"y\",\"type\":\"scatter\"},{\"hoverinfo\":\"text\",\"marker\":{\"color\":\"rgb(255,65,54)\"},\"mode\":\"lines\",\"x\":[1425.0,1425.0,1440.0,1440.0],\"xaxis\":\"x\",\"y\":[0.0,18.011538400989277,18.011538400989277,16.53383607138389],\"yaxis\":\"y\",\"type\":\"scatter\"},{\"hoverinfo\":\"text\",\"marker\":{\"color\":\"rgb(255,65,54)\"},\"mode\":\"lines\",\"x\":[1475.0,1475.0,1485.0,1485.0],\"xaxis\":\"x\",\"y\":[0.0,14.512612262131347,14.512612262131347,0.0],\"yaxis\":\"y\",\"type\":\"scatter\"},{\"hoverinfo\":\"text\",\"marker\":{\"color\":\"rgb(255,65,54)\"},\"mode\":\"lines\",\"x\":[1465.0,1465.0,1480.0,1480.0],\"xaxis\":\"x\",\"y\":[0.0,17.6052718522555,17.6052718522555,14.512612262131347],\"yaxis\":\"y\",\"type\":\"scatter\"},{\"hoverinfo\":\"text\",\"marker\":{\"color\":\"rgb(255,65,54)\"},\"mode\":\"lines\",\"x\":[1455.0,1455.0,1472.5,1472.5],\"xaxis\":\"x\",\"y\":[0.0,18.148989192039377,18.148989192039377,17.6052718522555],\"yaxis\":\"y\",\"type\":\"scatter\"},{\"hoverinfo\":\"text\",\"marker\":{\"color\":\"rgb(255,65,54)\"},\"mode\":\"lines\",\"x\":[1495.0,1495.0,1505.0,1505.0],\"xaxis\":\"x\",\"y\":[0.0,12.295914759661033,12.295914759661033,0.0],\"yaxis\":\"y\",\"type\":\"scatter\"},{\"hoverinfo\":\"text\",\"marker\":{\"color\":\"rgb(255,65,54)\"},\"mode\":\"lines\",\"x\":[1545.0,1545.0,1555.0,1555.0],\"xaxis\":\"x\",\"y\":[0.0,14.171502502230066,14.171502502230066,0.0],\"yaxis\":\"y\",\"type\":\"scatter\"},{\"hoverinfo\":\"text\",\"marker\":{\"color\":\"rgb(255,65,54)\"},\"mode\":\"lines\",\"x\":[1575.0,1575.0,1585.0,1585.0],\"xaxis\":\"x\",\"y\":[0.0,13.399189537884833,13.399189537884833,0.0],\"yaxis\":\"y\",\"type\":\"scatter\"},{\"hoverinfo\":\"text\",\"marker\":{\"color\":\"rgb(255,65,54)\"},\"mode\":\"lines\",\"x\":[1565.0,1565.0,1580.0,1580.0],\"xaxis\":\"x\",\"y\":[0.0,14.674232311847174,14.674232311847174,13.399189537884833],\"yaxis\":\"y\",\"type\":\"scatter\"},{\"hoverinfo\":\"text\",\"marker\":{\"color\":\"rgb(255,65,54)\"},\"mode\":\"lines\",\"x\":[1550.0,1550.0,1572.5,1572.5],\"xaxis\":\"x\",\"y\":[14.171502502230066,15.5982329530016,15.5982329530016,14.674232311847174],\"yaxis\":\"y\",\"type\":\"scatter\"},{\"hoverinfo\":\"text\",\"marker\":{\"color\":\"rgb(255,65,54)\"},\"mode\":\"lines\",\"x\":[1535.0,1535.0,1561.25,1561.25],\"xaxis\":\"x\",\"y\":[0.0,16.41802026821728,16.41802026821728,15.5982329530016],\"yaxis\":\"y\",\"type\":\"scatter\"},{\"hoverinfo\":\"text\",\"marker\":{\"color\":\"rgb(255,65,54)\"},\"mode\":\"lines\",\"x\":[1525.0,1525.0,1548.125,1548.125],\"xaxis\":\"x\",\"y\":[0.0,16.915335811234478,16.915335811234478,16.41802026821728],\"yaxis\":\"y\",\"type\":\"scatter\"},{\"hoverinfo\":\"text\",\"marker\":{\"color\":\"rgb(255,65,54)\"},\"mode\":\"lines\",\"x\":[1515.0,1515.0,1536.5625,1536.5625],\"xaxis\":\"x\",\"y\":[0.0,17.61313544695006,17.61313544695006,16.915335811234478],\"yaxis\":\"y\",\"type\":\"scatter\"},{\"hoverinfo\":\"text\",\"marker\":{\"color\":\"rgb(255,65,54)\"},\"mode\":\"lines\",\"x\":[1500.0,1500.0,1525.78125,1525.78125],\"xaxis\":\"x\",\"y\":[12.295914759661033,18.476807923496292,18.476807923496292,17.61313544695006],\"yaxis\":\"y\",\"type\":\"scatter\"},{\"hoverinfo\":\"text\",\"marker\":{\"color\":\"rgb(255,65,54)\"},\"mode\":\"lines\",\"x\":[1463.75,1463.75,1512.890625,1512.890625],\"xaxis\":\"x\",\"y\":[18.148989192039377,19.155646376230443,19.155646376230443,18.476807923496292],\"yaxis\":\"y\",\"type\":\"scatter\"},{\"hoverinfo\":\"text\",\"marker\":{\"color\":\"rgb(255,65,54)\"},\"mode\":\"lines\",\"x\":[1595.0,1595.0,1605.0,1605.0],\"xaxis\":\"x\",\"y\":[0.0,18.85915257978188,18.85915257978188,0.0],\"yaxis\":\"y\",\"type\":\"scatter\"},{\"hoverinfo\":\"text\",\"marker\":{\"color\":\"rgb(255,65,54)\"},\"mode\":\"lines\",\"x\":[1625.0,1625.0,1635.0,1635.0],\"xaxis\":\"x\",\"y\":[0.0,17.99980029749216,17.99980029749216,0.0],\"yaxis\":\"y\",\"type\":\"scatter\"},{\"hoverinfo\":\"text\",\"marker\":{\"color\":\"rgb(255,65,54)\"},\"mode\":\"lines\",\"x\":[1615.0,1615.0,1630.0,1630.0],\"xaxis\":\"x\",\"y\":[0.0,19.31983733837483,19.31983733837483,17.99980029749216],\"yaxis\":\"y\",\"type\":\"scatter\"},{\"hoverinfo\":\"text\",\"marker\":{\"color\":\"rgb(255,65,54)\"},\"mode\":\"lines\",\"x\":[1645.0,1645.0,1655.0,1655.0],\"xaxis\":\"x\",\"y\":[0.0,14.732690127006277,14.732690127006277,0.0],\"yaxis\":\"y\",\"type\":\"scatter\"},{\"hoverinfo\":\"text\",\"marker\":{\"color\":\"rgb(255,65,54)\"},\"mode\":\"lines\",\"x\":[1715.0,1715.0,1725.0,1725.0],\"xaxis\":\"x\",\"y\":[0.0,13.762686981662881,13.762686981662881,0.0],\"yaxis\":\"y\",\"type\":\"scatter\"},{\"hoverinfo\":\"text\",\"marker\":{\"color\":\"rgb(255,65,54)\"},\"mode\":\"lines\",\"x\":[1705.0,1705.0,1720.0,1720.0],\"xaxis\":\"x\",\"y\":[0.0,14.487101553893995,14.487101553893995,13.762686981662881],\"yaxis\":\"y\",\"type\":\"scatter\"},{\"hoverinfo\":\"text\",\"marker\":{\"color\":\"rgb(255,65,54)\"},\"mode\":\"lines\",\"x\":[1695.0,1695.0,1712.5,1712.5],\"xaxis\":\"x\",\"y\":[0.0,15.427065837407508,15.427065837407508,14.487101553893995],\"yaxis\":\"y\",\"type\":\"scatter\"},{\"hoverinfo\":\"text\",\"marker\":{\"color\":\"rgb(255,65,54)\"},\"mode\":\"lines\",\"x\":[1685.0,1685.0,1703.75,1703.75],\"xaxis\":\"x\",\"y\":[0.0,16.411500872196616,16.411500872196616,15.427065837407508],\"yaxis\":\"y\",\"type\":\"scatter\"},{\"hoverinfo\":\"text\",\"marker\":{\"color\":\"rgb(255,65,54)\"},\"mode\":\"lines\",\"x\":[1675.0,1675.0,1694.375,1694.375],\"xaxis\":\"x\",\"y\":[0.0,17.10587728707364,17.10587728707364,16.411500872196616],\"yaxis\":\"y\",\"type\":\"scatter\"},{\"hoverinfo\":\"text\",\"marker\":{\"color\":\"rgb(255,65,54)\"},\"mode\":\"lines\",\"x\":[1665.0,1665.0,1684.6875,1684.6875],\"xaxis\":\"x\",\"y\":[0.0,18.14861089317447,18.14861089317447,17.10587728707364],\"yaxis\":\"y\",\"type\":\"scatter\"},{\"hoverinfo\":\"text\",\"marker\":{\"color\":\"rgb(255,65,54)\"},\"mode\":\"lines\",\"x\":[1650.0,1650.0,1674.84375,1674.84375],\"xaxis\":\"x\",\"y\":[14.732690127006277,19.774242636485198,19.774242636485198,18.14861089317447],\"yaxis\":\"y\",\"type\":\"scatter\"},{\"hoverinfo\":\"text\",\"marker\":{\"color\":\"rgb(255,65,54)\"},\"mode\":\"lines\",\"x\":[1622.5,1622.5,1662.421875,1662.421875],\"xaxis\":\"x\",\"y\":[19.31983733837483,20.53905967649363,20.53905967649363,19.774242636485198],\"yaxis\":\"y\",\"type\":\"scatter\"},{\"hoverinfo\":\"text\",\"marker\":{\"color\":\"rgb(255,65,54)\"},\"mode\":\"lines\",\"x\":[1600.0,1600.0,1642.4609375,1642.4609375],\"xaxis\":\"x\",\"y\":[18.85915257978188,20.633090397611166,20.633090397611166,20.53905967649363],\"yaxis\":\"y\",\"type\":\"scatter\"},{\"hoverinfo\":\"text\",\"marker\":{\"color\":\"rgb(255,65,54)\"},\"mode\":\"lines\",\"x\":[1488.3203125,1488.3203125,1621.23046875,1621.23046875],\"xaxis\":\"x\",\"y\":[19.155646376230443,21.23104266831002,21.23104266831002,20.633090397611166],\"yaxis\":\"y\",\"type\":\"scatter\"},{\"hoverinfo\":\"text\",\"marker\":{\"color\":\"rgb(255,65,54)\"},\"mode\":\"lines\",\"x\":[1432.5,1432.5,1554.775390625,1554.775390625],\"xaxis\":\"x\",\"y\":[18.011538400989277,21.746495734582503,21.746495734582503,21.23104266831002],\"yaxis\":\"y\",\"type\":\"scatter\"},{\"hoverinfo\":\"text\",\"marker\":{\"color\":\"rgb(255,65,54)\"},\"mode\":\"lines\",\"x\":[1765.0,1765.0,1775.0,1775.0],\"xaxis\":\"x\",\"y\":[0.0,16.1380863638417,16.1380863638417,0.0],\"yaxis\":\"y\",\"type\":\"scatter\"},{\"hoverinfo\":\"text\",\"marker\":{\"color\":\"rgb(255,65,54)\"},\"mode\":\"lines\",\"x\":[1755.0,1755.0,1770.0,1770.0],\"xaxis\":\"x\",\"y\":[0.0,19.52312347163964,19.52312347163964,16.1380863638417],\"yaxis\":\"y\",\"type\":\"scatter\"},{\"hoverinfo\":\"text\",\"marker\":{\"color\":\"rgb(255,65,54)\"},\"mode\":\"lines\",\"x\":[1745.0,1745.0,1762.5,1762.5],\"xaxis\":\"x\",\"y\":[0.0,20.708370977642325,20.708370977642325,19.52312347163964],\"yaxis\":\"y\",\"type\":\"scatter\"},{\"hoverinfo\":\"text\",\"marker\":{\"color\":\"rgb(255,65,54)\"},\"mode\":\"lines\",\"x\":[1735.0,1735.0,1753.75,1753.75],\"xaxis\":\"x\",\"y\":[0.0,21.75894267770331,21.75894267770331,20.708370977642325],\"yaxis\":\"y\",\"type\":\"scatter\"},{\"hoverinfo\":\"text\",\"marker\":{\"color\":\"rgb(255,65,54)\"},\"mode\":\"lines\",\"x\":[1493.6376953125,1493.6376953125,1744.375,1744.375],\"xaxis\":\"x\",\"y\":[21.746495734582503,23.429415739272304,23.429415739272304,21.75894267770331],\"yaxis\":\"y\",\"type\":\"scatter\"},{\"hoverinfo\":\"text\",\"marker\":{\"color\":\"rgb(255,65,54)\"},\"mode\":\"lines\",\"x\":[1396.25,1396.25,1619.00634765625,1619.00634765625],\"xaxis\":\"x\",\"y\":[22.384099487373344,23.687238751878787,23.687238751878787,23.429415739272304],\"yaxis\":\"y\",\"type\":\"scatter\"},{\"hoverinfo\":\"text\",\"marker\":{\"color\":\"rgb(255,65,54)\"},\"mode\":\"lines\",\"x\":[1352.5,1352.5,1507.628173828125,1507.628173828125],\"xaxis\":\"x\",\"y\":[19.84149745177112,24.76770056023289,24.76770056023289,23.687238751878787],\"yaxis\":\"y\",\"type\":\"scatter\"},{\"hoverinfo\":\"text\",\"marker\":{\"color\":\"rgb(255,65,54)\"},\"mode\":\"lines\",\"x\":[1270.46875,1270.46875,1430.0640869140625,1430.0640869140625],\"xaxis\":\"x\",\"y\":[22.595077871963586,25.055730657927644,25.055730657927644,24.76770056023289],\"yaxis\":\"y\",\"type\":\"scatter\"},{\"hoverinfo\":\"text\",\"marker\":{\"color\":\"rgb(255,65,54)\"},\"mode\":\"lines\",\"x\":[1230.0,1230.0,1350.2664184570312,1350.2664184570312],\"xaxis\":\"x\",\"y\":[22.83787067802231,25.752287296026374,25.752287296026374,25.055730657927644],\"yaxis\":\"y\",\"type\":\"scatter\"},{\"hoverinfo\":\"text\",\"marker\":{\"color\":\"rgb(255,65,54)\"},\"mode\":\"lines\",\"x\":[1215.0,1215.0,1290.1332092285156,1290.1332092285156],\"xaxis\":\"x\",\"y\":[0.0,26.89058412681142,26.89058412681142,25.752287296026374],\"yaxis\":\"y\",\"type\":\"scatter\"},{\"hoverinfo\":\"text\",\"marker\":{\"color\":\"rgb(255,65,54)\"},\"mode\":\"lines\",\"x\":[1183.75,1183.75,1252.5666046142578,1252.5666046142578],\"xaxis\":\"x\",\"y\":[25.121094734068887,27.824092005887366,27.824092005887366,26.89058412681142],\"yaxis\":\"y\",\"type\":\"scatter\"},{\"hoverinfo\":\"text\",\"marker\":{\"color\":\"rgb(255,65,54)\"},\"mode\":\"lines\",\"x\":[1165.0,1165.0,1218.158302307129,1218.158302307129],\"xaxis\":\"x\",\"y\":[0.0,28.099423661850377,28.099423661850377,27.824092005887366],\"yaxis\":\"y\",\"type\":\"scatter\"},{\"hoverinfo\":\"text\",\"marker\":{\"color\":\"rgb(255,65,54)\"},\"mode\":\"lines\",\"x\":[1131.25,1131.25,1191.5791511535645,1191.5791511535645],\"xaxis\":\"x\",\"y\":[27.681132846431055,28.550239992577783,28.550239992577783,28.099423661850377],\"yaxis\":\"y\",\"type\":\"scatter\"},{\"hoverinfo\":\"text\",\"marker\":{\"color\":\"rgb(255,65,54)\"},\"mode\":\"lines\",\"x\":[1100.0,1100.0,1161.4145755767822,1161.4145755767822],\"xaxis\":\"x\",\"y\":[27.632391178733346,28.8695245596098,28.8695245596098,28.550239992577783],\"yaxis\":\"y\",\"type\":\"scatter\"},{\"hoverinfo\":\"text\",\"marker\":{\"color\":\"rgb(255,65,54)\"},\"mode\":\"lines\",\"x\":[1005.8984375,1005.8984375,1130.707287788391,1130.707287788391],\"xaxis\":\"x\",\"y\":[25.299591254228137,29.488574214255852,29.488574214255852,28.8695245596098],\"yaxis\":\"y\",\"type\":\"scatter\"},{\"hoverinfo\":\"text\",\"marker\":{\"color\":\"rgb(255,65,54)\"},\"mode\":\"lines\",\"x\":[943.4375,943.4375,1068.3028626441956,1068.3028626441956],\"xaxis\":\"x\",\"y\":[27.37446968739801,29.752183464518275,29.752183464518275,29.488574214255852],\"yaxis\":\"y\",\"type\":\"scatter\"},{\"hoverinfo\":\"text\",\"marker\":{\"color\":\"rgb(255,65,54)\"},\"mode\":\"lines\",\"x\":[915.0,915.0,1005.8701813220978,1005.8701813220978],\"xaxis\":\"x\",\"y\":[0.0,30.537042148902163,30.537042148902163,29.752183464518275],\"yaxis\":\"y\",\"type\":\"scatter\"},{\"hoverinfo\":\"text\",\"marker\":{\"color\":\"rgb(255,65,54)\"},\"mode\":\"lines\",\"x\":[793.359375,793.359375,960.4350906610489,960.4350906610489],\"xaxis\":\"x\",\"y\":[29.6072328561069,31.107537028818413,31.107537028818413,30.537042148902163],\"yaxis\":\"y\",\"type\":\"scatter\"},{\"hoverinfo\":\"text\",\"marker\":{\"color\":\"rgb(255,65,54)\"},\"mode\":\"lines\",\"x\":[752.5,752.5,876.8972328305244,876.8972328305244],\"xaxis\":\"x\",\"y\":[28.03674917245149,32.06049236250801,32.06049236250801,31.107537028818413],\"yaxis\":\"y\",\"type\":\"scatter\"},{\"hoverinfo\":\"text\",\"marker\":{\"color\":\"rgb(255,65,54)\"},\"mode\":\"lines\",\"x\":[1785.0,1785.0,1795.0,1795.0],\"xaxis\":\"x\",\"y\":[0.0,33.36417703765997,33.36417703765997,0.0],\"yaxis\":\"y\",\"type\":\"scatter\"},{\"hoverinfo\":\"text\",\"marker\":{\"color\":\"rgb(255,65,54)\"},\"mode\":\"lines\",\"x\":[814.6986164152622,814.6986164152622,1790.0,1790.0],\"xaxis\":\"x\",\"y\":[32.06049236250801,34.175527811924276,34.175527811924276,33.36417703765997],\"yaxis\":\"y\",\"type\":\"scatter\"},{\"hoverinfo\":\"text\",\"marker\":{\"color\":\"rgb(255,65,54)\"},\"mode\":\"lines\",\"x\":[716.25,716.25,1302.349308207631,1302.349308207631],\"xaxis\":\"x\",\"y\":[32.161829067036194,34.838237180200274,34.838237180200274,34.175527811924276],\"yaxis\":\"y\",\"type\":\"scatter\"},{\"hoverinfo\":\"text\",\"marker\":{\"color\":\"rgb(255,65,54)\"},\"mode\":\"lines\",\"x\":[685.0,685.0,1009.2996541038156,1009.2996541038156],\"xaxis\":\"x\",\"y\":[0.0,34.92971810041013,34.92971810041013,34.838237180200274],\"yaxis\":\"y\",\"type\":\"scatter\"},{\"hoverinfo\":\"text\",\"marker\":{\"color\":\"rgb(255,65,54)\"},\"mode\":\"lines\",\"x\":[675.0,675.0,847.1498270519078,847.1498270519078],\"xaxis\":\"x\",\"y\":[0.0,36.665969424631314,36.665969424631314,34.92971810041013],\"yaxis\":\"y\",\"type\":\"scatter\"},{\"hoverinfo\":\"text\",\"marker\":{\"color\":\"rgb(255,65,54)\"},\"mode\":\"lines\",\"x\":[665.0,665.0,761.0749135259539,761.0749135259539],\"xaxis\":\"x\",\"y\":[0.0,38.41224030190874,38.41224030190874,36.665969424631314],\"yaxis\":\"y\",\"type\":\"scatter\"},{\"hoverinfo\":\"text\",\"marker\":{\"color\":\"rgb(255,65,54)\"},\"mode\":\"lines\",\"x\":[655.0,655.0,713.037456762977,713.037456762977],\"xaxis\":\"x\",\"y\":[0.0,39.23093621982899,39.23093621982899,38.41224030190874],\"yaxis\":\"y\",\"type\":\"scatter\"},{\"hoverinfo\":\"text\",\"marker\":{\"color\":\"rgb(255,65,54)\"},\"mode\":\"lines\",\"x\":[645.0,645.0,684.0187283814885,684.0187283814885],\"xaxis\":\"x\",\"y\":[0.0,39.28614961482382,39.28614961482382,39.23093621982899],\"yaxis\":\"y\",\"type\":\"scatter\"},{\"hoverinfo\":\"text\",\"marker\":{\"color\":\"rgb(255,65,54)\"},\"mode\":\"lines\",\"x\":[1815.0,1815.0,1825.0,1825.0],\"xaxis\":\"x\",\"y\":[0.0,41.73533456213817,41.73533456213817,0.0],\"yaxis\":\"y\",\"type\":\"scatter\"},{\"hoverinfo\":\"text\",\"marker\":{\"color\":\"rgb(255,65,54)\"},\"mode\":\"lines\",\"x\":[1845.0,1845.0,1855.0,1855.0],\"xaxis\":\"x\",\"y\":[0.0,34.426085943175025,34.426085943175025,0.0],\"yaxis\":\"y\",\"type\":\"scatter\"},{\"hoverinfo\":\"text\",\"marker\":{\"color\":\"rgb(255,65,54)\"},\"mode\":\"lines\",\"x\":[1885.0,1885.0,1895.0,1895.0],\"xaxis\":\"x\",\"y\":[0.0,29.822107505296085,29.822107505296085,0.0],\"yaxis\":\"y\",\"type\":\"scatter\"},{\"hoverinfo\":\"text\",\"marker\":{\"color\":\"rgb(255,65,54)\"},\"mode\":\"lines\",\"x\":[1875.0,1875.0,1890.0,1890.0],\"xaxis\":\"x\",\"y\":[0.0,31.041760454810657,31.041760454810657,29.822107505296085],\"yaxis\":\"y\",\"type\":\"scatter\"},{\"hoverinfo\":\"text\",\"marker\":{\"color\":\"rgb(255,65,54)\"},\"mode\":\"lines\",\"x\":[1865.0,1865.0,1882.5,1882.5],\"xaxis\":\"x\",\"y\":[0.0,32.381244382027994,32.381244382027994,31.041760454810657],\"yaxis\":\"y\",\"type\":\"scatter\"},{\"hoverinfo\":\"text\",\"marker\":{\"color\":\"rgb(255,65,54)\"},\"mode\":\"lines\",\"x\":[1905.0,1905.0,1915.0,1915.0],\"xaxis\":\"x\",\"y\":[0.0,33.149737233791015,33.149737233791015,0.0],\"yaxis\":\"y\",\"type\":\"scatter\"},{\"hoverinfo\":\"text\",\"marker\":{\"color\":\"rgb(255,65,54)\"},\"mode\":\"lines\",\"x\":[1873.75,1873.75,1910.0,1910.0],\"xaxis\":\"x\",\"y\":[32.381244382027994,34.317616692678655,34.317616692678655,33.149737233791015],\"yaxis\":\"y\",\"type\":\"scatter\"},{\"hoverinfo\":\"text\",\"marker\":{\"color\":\"rgb(255,65,54)\"},\"mode\":\"lines\",\"x\":[1925.0,1925.0,1935.0,1935.0],\"xaxis\":\"x\",\"y\":[0.0,28.504010131559173,28.504010131559173,0.0],\"yaxis\":\"y\",\"type\":\"scatter\"},{\"hoverinfo\":\"text\",\"marker\":{\"color\":\"rgb(255,65,54)\"},\"mode\":\"lines\",\"x\":[1945.0,1945.0,1955.0,1955.0],\"xaxis\":\"x\",\"y\":[0.0,28.550555802512083,28.550555802512083,0.0],\"yaxis\":\"y\",\"type\":\"scatter\"},{\"hoverinfo\":\"text\",\"marker\":{\"color\":\"rgb(255,65,54)\"},\"mode\":\"lines\",\"x\":[1975.0,1975.0,1985.0,1985.0],\"xaxis\":\"x\",\"y\":[0.0,29.72351586040328,29.72351586040328,0.0],\"yaxis\":\"y\",\"type\":\"scatter\"},{\"hoverinfo\":\"text\",\"marker\":{\"color\":\"rgb(255,65,54)\"},\"mode\":\"lines\",\"x\":[1965.0,1965.0,1980.0,1980.0],\"xaxis\":\"x\",\"y\":[0.0,31.82258448212452,31.82258448212452,29.72351586040328],\"yaxis\":\"y\",\"type\":\"scatter\"},{\"hoverinfo\":\"text\",\"marker\":{\"color\":\"rgb(255,65,54)\"},\"mode\":\"lines\",\"x\":[1950.0,1950.0,1972.5,1972.5],\"xaxis\":\"x\",\"y\":[28.550555802512083,33.4311643807442,33.4311643807442,31.82258448212452],\"yaxis\":\"y\",\"type\":\"scatter\"},{\"hoverinfo\":\"text\",\"marker\":{\"color\":\"rgb(255,65,54)\"},\"mode\":\"lines\",\"x\":[1930.0,1930.0,1961.25,1961.25],\"xaxis\":\"x\",\"y\":[28.504010131559173,35.43896399770275,35.43896399770275,33.4311643807442],\"yaxis\":\"y\",\"type\":\"scatter\"},{\"hoverinfo\":\"text\",\"marker\":{\"color\":\"rgb(255,65,54)\"},\"mode\":\"lines\",\"x\":[1891.875,1891.875,1945.625,1945.625],\"xaxis\":\"x\",\"y\":[34.317616692678655,36.35721568156334,36.35721568156334,35.43896399770275],\"yaxis\":\"y\",\"type\":\"scatter\"},{\"hoverinfo\":\"text\",\"marker\":{\"color\":\"rgb(255,65,54)\"},\"mode\":\"lines\",\"x\":[1850.0,1850.0,1918.75,1918.75],\"xaxis\":\"x\",\"y\":[34.426085943175025,36.993979394629726,36.993979394629726,36.35721568156334],\"yaxis\":\"y\",\"type\":\"scatter\"},{\"hoverinfo\":\"text\",\"marker\":{\"color\":\"rgb(255,65,54)\"},\"mode\":\"lines\",\"x\":[2005.0,2005.0,2015.0,2015.0],\"xaxis\":\"x\",\"y\":[0.0,38.301082417284086,38.301082417284086,0.0],\"yaxis\":\"y\",\"type\":\"scatter\"},{\"hoverinfo\":\"text\",\"marker\":{\"color\":\"rgb(255,65,54)\"},\"mode\":\"lines\",\"x\":[1995.0,1995.0,2010.0,2010.0],\"xaxis\":\"x\",\"y\":[0.0,38.857259886153784,38.857259886153784,38.301082417284086],\"yaxis\":\"y\",\"type\":\"scatter\"},{\"hoverinfo\":\"text\",\"marker\":{\"color\":\"rgb(255,65,54)\"},\"mode\":\"lines\",\"x\":[1884.375,1884.375,2002.5,2002.5],\"xaxis\":\"x\",\"y\":[36.993979394629726,40.13890760414194,40.13890760414194,38.857259886153784],\"yaxis\":\"y\",\"type\":\"scatter\"},{\"hoverinfo\":\"text\",\"marker\":{\"color\":\"rgb(255,65,54)\"},\"mode\":\"lines\",\"x\":[1835.0,1835.0,1943.4375,1943.4375],\"xaxis\":\"x\",\"y\":[0.0,42.439797252957405,42.439797252957405,40.13890760414194],\"yaxis\":\"y\",\"type\":\"scatter\"},{\"hoverinfo\":\"text\",\"marker\":{\"color\":\"rgb(255,65,54)\"},\"mode\":\"lines\",\"x\":[1820.0,1820.0,1889.21875,1889.21875],\"xaxis\":\"x\",\"y\":[41.73533456213817,43.786909662779586,43.786909662779586,42.439797252957405],\"yaxis\":\"y\",\"type\":\"scatter\"},{\"hoverinfo\":\"text\",\"marker\":{\"color\":\"rgb(255,65,54)\"},\"mode\":\"lines\",\"x\":[1805.0,1805.0,1854.609375,1854.609375],\"xaxis\":\"x\",\"y\":[0.0,44.43060854922802,44.43060854922802,43.786909662779586],\"yaxis\":\"y\",\"type\":\"scatter\"},{\"hoverinfo\":\"text\",\"marker\":{\"color\":\"rgb(255,65,54)\"},\"mode\":\"lines\",\"x\":[664.5093641907442,664.5093641907442,1829.8046875,1829.8046875],\"xaxis\":\"x\",\"y\":[39.28614961482382,45.75745296892826,45.75745296892826,44.43060854922802],\"yaxis\":\"y\",\"type\":\"scatter\"},{\"hoverinfo\":\"text\",\"marker\":{\"color\":\"rgb(255,65,54)\"},\"mode\":\"lines\",\"x\":[2045.0,2045.0,2055.0,2055.0],\"xaxis\":\"x\",\"y\":[0.0,41.407824721031076,41.407824721031076,0.0],\"yaxis\":\"y\",\"type\":\"scatter\"},{\"hoverinfo\":\"text\",\"marker\":{\"color\":\"rgb(255,65,54)\"},\"mode\":\"lines\",\"x\":[2035.0,2035.0,2050.0,2050.0],\"xaxis\":\"x\",\"y\":[0.0,42.52966979684147,42.52966979684147,41.407824721031076],\"yaxis\":\"y\",\"type\":\"scatter\"},{\"hoverinfo\":\"text\",\"marker\":{\"color\":\"rgb(255,65,54)\"},\"mode\":\"lines\",\"x\":[2025.0,2025.0,2042.5,2042.5],\"xaxis\":\"x\",\"y\":[0.0,46.080454078639896,46.080454078639896,42.52966979684147],\"yaxis\":\"y\",\"type\":\"scatter\"},{\"hoverinfo\":\"text\",\"marker\":{\"color\":\"rgb(255,65,54)\"},\"mode\":\"lines\",\"x\":[1247.1570258453721,1247.1570258453721,2033.75,2033.75],\"xaxis\":\"x\",\"y\":[45.75745296892826,46.733263476545275,46.733263476545275,46.080454078639896],\"yaxis\":\"y\",\"type\":\"scatter\"},{\"hoverinfo\":\"text\",\"marker\":{\"color\":\"rgb(255,65,54)\"},\"mode\":\"lines\",\"x\":[635.0,635.0,1640.453512922686,1640.453512922686],\"xaxis\":\"x\",\"y\":[0.0,48.0310316218056,48.0310316218056,46.733263476545275],\"yaxis\":\"y\",\"type\":\"scatter\"},{\"hoverinfo\":\"text\",\"marker\":{\"color\":\"rgb(255,65,54)\"},\"mode\":\"lines\",\"x\":[625.0,625.0,1137.726756461343,1137.726756461343],\"xaxis\":\"x\",\"y\":[0.0,59.163781376092565,59.163781376092565,48.0310316218056],\"yaxis\":\"y\",\"type\":\"scatter\"},{\"hoverinfo\":\"text\",\"marker\":{\"color\":\"rgb(255,65,54)\"},\"mode\":\"lines\",\"x\":[36.6402006149292,36.6402006149292,881.3633782306715,881.3633782306715],\"xaxis\":\"x\",\"y\":[47.82320477303475,59.625193564368715,59.625193564368715,59.163781376092565],\"yaxis\":\"y\",\"type\":\"scatter\"},{\"hoverinfo\":\"text\",\"marker\":{\"color\":\"rgb(255,65,54)\"},\"mode\":\"lines\",\"x\":[2065.0,2065.0,2075.0,2075.0],\"xaxis\":\"x\",\"y\":[0.0,60.903684960509565,60.903684960509565,0.0],\"yaxis\":\"y\",\"type\":\"scatter\"},{\"hoverinfo\":\"text\",\"marker\":{\"color\":\"rgb(255,65,54)\"},\"mode\":\"lines\",\"x\":[2145.0,2145.0,2155.0,2155.0],\"xaxis\":\"x\",\"y\":[0.0,43.16253015964535,43.16253015964535,0.0],\"yaxis\":\"y\",\"type\":\"scatter\"},{\"hoverinfo\":\"text\",\"marker\":{\"color\":\"rgb(255,65,54)\"},\"mode\":\"lines\",\"x\":[2135.0,2135.0,2150.0,2150.0],\"xaxis\":\"x\",\"y\":[0.0,46.56769410639184,46.56769410639184,43.16253015964535],\"yaxis\":\"y\",\"type\":\"scatter\"},{\"hoverinfo\":\"text\",\"marker\":{\"color\":\"rgb(255,65,54)\"},\"mode\":\"lines\",\"x\":[2125.0,2125.0,2142.5,2142.5],\"xaxis\":\"x\",\"y\":[0.0,51.64792106128296,51.64792106128296,46.56769410639184],\"yaxis\":\"y\",\"type\":\"scatter\"},{\"hoverinfo\":\"text\",\"marker\":{\"color\":\"rgb(255,65,54)\"},\"mode\":\"lines\",\"x\":[2115.0,2115.0,2133.75,2133.75],\"xaxis\":\"x\",\"y\":[0.0,58.890352636483975,58.890352636483975,51.64792106128296],\"yaxis\":\"y\",\"type\":\"scatter\"},{\"hoverinfo\":\"text\",\"marker\":{\"color\":\"rgb(255,65,54)\"},\"mode\":\"lines\",\"x\":[2105.0,2105.0,2124.375,2124.375],\"xaxis\":\"x\",\"y\":[0.0,59.59279746925679,59.59279746925679,58.890352636483975],\"yaxis\":\"y\",\"type\":\"scatter\"},{\"hoverinfo\":\"text\",\"marker\":{\"color\":\"rgb(255,65,54)\"},\"mode\":\"lines\",\"x\":[2095.0,2095.0,2114.6875,2114.6875],\"xaxis\":\"x\",\"y\":[0.0,61.45132005914623,61.45132005914623,59.59279746925679],\"yaxis\":\"y\",\"type\":\"scatter\"},{\"hoverinfo\":\"text\",\"marker\":{\"color\":\"rgb(255,65,54)\"},\"mode\":\"lines\",\"x\":[2085.0,2085.0,2104.84375,2104.84375],\"xaxis\":\"x\",\"y\":[0.0,66.58015046178265,66.58015046178265,61.45132005914623],\"yaxis\":\"y\",\"type\":\"scatter\"},{\"hoverinfo\":\"text\",\"marker\":{\"color\":\"rgb(255,65,54)\"},\"mode\":\"lines\",\"x\":[2070.0,2070.0,2094.921875,2094.921875],\"xaxis\":\"x\",\"y\":[60.903684960509565,67.92956861763935,67.92956861763935,66.58015046178265],\"yaxis\":\"y\",\"type\":\"scatter\"},{\"hoverinfo\":\"text\",\"marker\":{\"color\":\"rgb(255,65,54)\"},\"mode\":\"lines\",\"x\":[459.00178942280036,459.00178942280036,2082.4609375,2082.4609375],\"xaxis\":\"x\",\"y\":[59.625193564368715,76.391974725992,76.391974725992,67.92956861763935],\"yaxis\":\"y\",\"type\":\"scatter\"},{\"hoverinfo\":\"text\",\"marker\":{\"color\":\"rgb(0,116,217)\"},\"mode\":\"lines\",\"x\":[10.0,10.0,1270.7313634614002,1270.7313634614002],\"xaxis\":\"x\",\"y\":[45.66985671863733,152.8566152902131,152.8566152902131,76.391974725992],\"yaxis\":\"y\",\"type\":\"scatter\"}],                        {\"autosize\":false,\"height\":500,\"hovermode\":\"closest\",\"showlegend\":false,\"width\":1800,\"xaxis\":{\"mirror\":\"allticks\",\"rangemode\":\"tozero\",\"showgrid\":false,\"showline\":true,\"showticklabels\":true,\"tickmode\":\"array\",\"ticks\":\"outside\",\"ticktext\":[\"14\",\"104\",\"196\",\"195\",\"45\",\"190\",\"67\",\"188\",\"56\",\"142\",\"143\",\"178\",\"140\",\"204\",\"17\",\"60\",\"198\",\"53\",\"155\",\"21\",\"22\",\"68\",\"128\",\"16\",\"119\",\"156\",\"79\",\"192\",\"73\",\"144\",\"181\",\"38\",\"125\",\"134\",\"136\",\"7\",\"72\",\"124\",\"62\",\"82\",\"41\",\"215\",\"209\",\"197\",\"86\",\"129\",\"108\",\"8\",\"92\",\"95\",\"174\",\"175\",\"19\",\"77\",\"59\",\"49\",\"169\",\"37\",\"33\",\"177\",\"89\",\"126\",\"98\",\"148\",\"75\",\"90\",\"36\",\"54\",\"163\",\"168\",\"10\",\"201\",\"149\",\"205\",\"99\",\"1\",\"123\",\"191\",\"145\",\"15\",\"130\",\"96\",\"20\",\"131\",\"26\",\"176\",\"44\",\"110\",\"76\",\"167\",\"182\",\"206\",\"194\",\"70\",\"0\",\"91\",\"146\",\"23\",\"29\",\"48\",\"212\",\"5\",\"30\",\"193\",\"46\",\"151\",\"109\",\"74\",\"105\",\"28\",\"43\",\"35\",\"118\",\"31\",\"158\",\"202\",\"165\",\"81\",\"9\",\"32\",\"153\",\"160\",\"85\",\"170\",\"121\",\"83\",\"199\",\"18\",\"3\",\"24\",\"2\",\"115\",\"52\",\"189\",\"103\",\"58\",\"106\",\"113\",\"13\",\"183\",\"97\",\"120\",\"164\",\"12\",\"210\",\"138\",\"203\",\"4\",\"25\",\"127\",\"157\",\"186\",\"93\",\"47\",\"50\",\"133\",\"63\",\"117\",\"179\",\"27\",\"88\",\"34\",\"51\",\"166\",\"107\",\"161\",\"132\",\"111\",\"114\",\"57\",\"55\",\"39\",\"171\",\"122\",\"137\",\"100\",\"112\",\"180\",\"94\",\"211\",\"78\",\"64\",\"80\",\"207\",\"40\",\"84\",\"200\",\"101\",\"135\",\"162\",\"11\",\"187\",\"152\",\"173\",\"139\",\"172\",\"154\",\"42\",\"147\",\"102\",\"66\",\"69\",\"185\",\"208\",\"71\",\"214\",\"159\",\"184\",\"65\",\"61\",\"87\",\"150\",\"213\",\"6\",\"116\",\"141\"],\"tickvals\":[5.0,15.0,25.0,35.0,45.0,55.0,65.0,75.0,85.0,95.0,105.0,115.0,125.0,135.0,145.0,155.0,165.0,175.0,185.0,195.0,205.0,215.0,225.0,235.0,245.0,255.0,265.0,275.0,285.0,295.0,305.0,315.0,325.0,335.0,345.0,355.0,365.0,375.0,385.0,395.0,405.0,415.0,425.0,435.0,445.0,455.0,465.0,475.0,485.0,495.0,505.0,515.0,525.0,535.0,545.0,555.0,565.0,575.0,585.0,595.0,605.0,615.0,625.0,635.0,645.0,655.0,665.0,675.0,685.0,695.0,705.0,715.0,725.0,735.0,745.0,755.0,765.0,775.0,785.0,795.0,805.0,815.0,825.0,835.0,845.0,855.0,865.0,875.0,885.0,895.0,905.0,915.0,925.0,935.0,945.0,955.0,965.0,975.0,985.0,995.0,1005.0,1015.0,1025.0,1035.0,1045.0,1055.0,1065.0,1075.0,1085.0,1095.0,1105.0,1115.0,1125.0,1135.0,1145.0,1155.0,1165.0,1175.0,1185.0,1195.0,1205.0,1215.0,1225.0,1235.0,1245.0,1255.0,1265.0,1275.0,1285.0,1295.0,1305.0,1315.0,1325.0,1335.0,1345.0,1355.0,1365.0,1375.0,1385.0,1395.0,1405.0,1415.0,1425.0,1435.0,1445.0,1455.0,1465.0,1475.0,1485.0,1495.0,1505.0,1515.0,1525.0,1535.0,1545.0,1555.0,1565.0,1575.0,1585.0,1595.0,1605.0,1615.0,1625.0,1635.0,1645.0,1655.0,1665.0,1675.0,1685.0,1695.0,1705.0,1715.0,1725.0,1735.0,1745.0,1755.0,1765.0,1775.0,1785.0,1795.0,1805.0,1815.0,1825.0,1835.0,1845.0,1855.0,1865.0,1875.0,1885.0,1895.0,1905.0,1915.0,1925.0,1935.0,1945.0,1955.0,1965.0,1975.0,1985.0,1995.0,2005.0,2015.0,2025.0,2035.0,2045.0,2055.0,2065.0,2075.0,2085.0,2095.0,2105.0,2115.0,2125.0,2135.0,2145.0,2155.0],\"type\":\"linear\",\"zeroline\":false},\"yaxis\":{\"mirror\":\"allticks\",\"rangemode\":\"tozero\",\"showgrid\":false,\"showline\":true,\"showticklabels\":true,\"ticks\":\"outside\",\"type\":\"linear\",\"zeroline\":false},\"template\":{\"data\":{\"histogram2dcontour\":[{\"type\":\"histogram2dcontour\",\"colorbar\":{\"outlinewidth\":0,\"ticks\":\"\"},\"colorscale\":[[0.0,\"#0d0887\"],[0.1111111111111111,\"#46039f\"],[0.2222222222222222,\"#7201a8\"],[0.3333333333333333,\"#9c179e\"],[0.4444444444444444,\"#bd3786\"],[0.5555555555555556,\"#d8576b\"],[0.6666666666666666,\"#ed7953\"],[0.7777777777777778,\"#fb9f3a\"],[0.8888888888888888,\"#fdca26\"],[1.0,\"#f0f921\"]]}],\"choropleth\":[{\"type\":\"choropleth\",\"colorbar\":{\"outlinewidth\":0,\"ticks\":\"\"}}],\"histogram2d\":[{\"type\":\"histogram2d\",\"colorbar\":{\"outlinewidth\":0,\"ticks\":\"\"},\"colorscale\":[[0.0,\"#0d0887\"],[0.1111111111111111,\"#46039f\"],[0.2222222222222222,\"#7201a8\"],[0.3333333333333333,\"#9c179e\"],[0.4444444444444444,\"#bd3786\"],[0.5555555555555556,\"#d8576b\"],[0.6666666666666666,\"#ed7953\"],[0.7777777777777778,\"#fb9f3a\"],[0.8888888888888888,\"#fdca26\"],[1.0,\"#f0f921\"]]}],\"heatmap\":[{\"type\":\"heatmap\",\"colorbar\":{\"outlinewidth\":0,\"ticks\":\"\"},\"colorscale\":[[0.0,\"#0d0887\"],[0.1111111111111111,\"#46039f\"],[0.2222222222222222,\"#7201a8\"],[0.3333333333333333,\"#9c179e\"],[0.4444444444444444,\"#bd3786\"],[0.5555555555555556,\"#d8576b\"],[0.6666666666666666,\"#ed7953\"],[0.7777777777777778,\"#fb9f3a\"],[0.8888888888888888,\"#fdca26\"],[1.0,\"#f0f921\"]]}],\"heatmapgl\":[{\"type\":\"heatmapgl\",\"colorbar\":{\"outlinewidth\":0,\"ticks\":\"\"},\"colorscale\":[[0.0,\"#0d0887\"],[0.1111111111111111,\"#46039f\"],[0.2222222222222222,\"#7201a8\"],[0.3333333333333333,\"#9c179e\"],[0.4444444444444444,\"#bd3786\"],[0.5555555555555556,\"#d8576b\"],[0.6666666666666666,\"#ed7953\"],[0.7777777777777778,\"#fb9f3a\"],[0.8888888888888888,\"#fdca26\"],[1.0,\"#f0f921\"]]}],\"contourcarpet\":[{\"type\":\"contourcarpet\",\"colorbar\":{\"outlinewidth\":0,\"ticks\":\"\"}}],\"contour\":[{\"type\":\"contour\",\"colorbar\":{\"outlinewidth\":0,\"ticks\":\"\"},\"colorscale\":[[0.0,\"#0d0887\"],[0.1111111111111111,\"#46039f\"],[0.2222222222222222,\"#7201a8\"],[0.3333333333333333,\"#9c179e\"],[0.4444444444444444,\"#bd3786\"],[0.5555555555555556,\"#d8576b\"],[0.6666666666666666,\"#ed7953\"],[0.7777777777777778,\"#fb9f3a\"],[0.8888888888888888,\"#fdca26\"],[1.0,\"#f0f921\"]]}],\"surface\":[{\"type\":\"surface\",\"colorbar\":{\"outlinewidth\":0,\"ticks\":\"\"},\"colorscale\":[[0.0,\"#0d0887\"],[0.1111111111111111,\"#46039f\"],[0.2222222222222222,\"#7201a8\"],[0.3333333333333333,\"#9c179e\"],[0.4444444444444444,\"#bd3786\"],[0.5555555555555556,\"#d8576b\"],[0.6666666666666666,\"#ed7953\"],[0.7777777777777778,\"#fb9f3a\"],[0.8888888888888888,\"#fdca26\"],[1.0,\"#f0f921\"]]}],\"mesh3d\":[{\"type\":\"mesh3d\",\"colorbar\":{\"outlinewidth\":0,\"ticks\":\"\"}}],\"scatter\":[{\"fillpattern\":{\"fillmode\":\"overlay\",\"size\":10,\"solidity\":0.2},\"type\":\"scatter\"}],\"parcoords\":[{\"type\":\"parcoords\",\"line\":{\"colorbar\":{\"outlinewidth\":0,\"ticks\":\"\"}}}],\"scatterpolargl\":[{\"type\":\"scatterpolargl\",\"marker\":{\"colorbar\":{\"outlinewidth\":0,\"ticks\":\"\"}}}],\"bar\":[{\"error_x\":{\"color\":\"#2a3f5f\"},\"error_y\":{\"color\":\"#2a3f5f\"},\"marker\":{\"line\":{\"color\":\"#E5ECF6\",\"width\":0.5},\"pattern\":{\"fillmode\":\"overlay\",\"size\":10,\"solidity\":0.2}},\"type\":\"bar\"}],\"scattergeo\":[{\"type\":\"scattergeo\",\"marker\":{\"colorbar\":{\"outlinewidth\":0,\"ticks\":\"\"}}}],\"scatterpolar\":[{\"type\":\"scatterpolar\",\"marker\":{\"colorbar\":{\"outlinewidth\":0,\"ticks\":\"\"}}}],\"histogram\":[{\"marker\":{\"pattern\":{\"fillmode\":\"overlay\",\"size\":10,\"solidity\":0.2}},\"type\":\"histogram\"}],\"scattergl\":[{\"type\":\"scattergl\",\"marker\":{\"colorbar\":{\"outlinewidth\":0,\"ticks\":\"\"}}}],\"scatter3d\":[{\"type\":\"scatter3d\",\"line\":{\"colorbar\":{\"outlinewidth\":0,\"ticks\":\"\"}},\"marker\":{\"colorbar\":{\"outlinewidth\":0,\"ticks\":\"\"}}}],\"scattermapbox\":[{\"type\":\"scattermapbox\",\"marker\":{\"colorbar\":{\"outlinewidth\":0,\"ticks\":\"\"}}}],\"scatterternary\":[{\"type\":\"scatterternary\",\"marker\":{\"colorbar\":{\"outlinewidth\":0,\"ticks\":\"\"}}}],\"scattercarpet\":[{\"type\":\"scattercarpet\",\"marker\":{\"colorbar\":{\"outlinewidth\":0,\"ticks\":\"\"}}}],\"carpet\":[{\"aaxis\":{\"endlinecolor\":\"#2a3f5f\",\"gridcolor\":\"white\",\"linecolor\":\"white\",\"minorgridcolor\":\"white\",\"startlinecolor\":\"#2a3f5f\"},\"baxis\":{\"endlinecolor\":\"#2a3f5f\",\"gridcolor\":\"white\",\"linecolor\":\"white\",\"minorgridcolor\":\"white\",\"startlinecolor\":\"#2a3f5f\"},\"type\":\"carpet\"}],\"table\":[{\"cells\":{\"fill\":{\"color\":\"#EBF0F8\"},\"line\":{\"color\":\"white\"}},\"header\":{\"fill\":{\"color\":\"#C8D4E3\"},\"line\":{\"color\":\"white\"}},\"type\":\"table\"}],\"barpolar\":[{\"marker\":{\"line\":{\"color\":\"#E5ECF6\",\"width\":0.5},\"pattern\":{\"fillmode\":\"overlay\",\"size\":10,\"solidity\":0.2}},\"type\":\"barpolar\"}],\"pie\":[{\"automargin\":true,\"type\":\"pie\"}]},\"layout\":{\"autotypenumbers\":\"strict\",\"colorway\":[\"#636efa\",\"#EF553B\",\"#00cc96\",\"#ab63fa\",\"#FFA15A\",\"#19d3f3\",\"#FF6692\",\"#B6E880\",\"#FF97FF\",\"#FECB52\"],\"font\":{\"color\":\"#2a3f5f\"},\"hovermode\":\"closest\",\"hoverlabel\":{\"align\":\"left\"},\"paper_bgcolor\":\"white\",\"plot_bgcolor\":\"#E5ECF6\",\"polar\":{\"bgcolor\":\"#E5ECF6\",\"angularaxis\":{\"gridcolor\":\"white\",\"linecolor\":\"white\",\"ticks\":\"\"},\"radialaxis\":{\"gridcolor\":\"white\",\"linecolor\":\"white\",\"ticks\":\"\"}},\"ternary\":{\"bgcolor\":\"#E5ECF6\",\"aaxis\":{\"gridcolor\":\"white\",\"linecolor\":\"white\",\"ticks\":\"\"},\"baxis\":{\"gridcolor\":\"white\",\"linecolor\":\"white\",\"ticks\":\"\"},\"caxis\":{\"gridcolor\":\"white\",\"linecolor\":\"white\",\"ticks\":\"\"}},\"coloraxis\":{\"colorbar\":{\"outlinewidth\":0,\"ticks\":\"\"}},\"colorscale\":{\"sequential\":[[0.0,\"#0d0887\"],[0.1111111111111111,\"#46039f\"],[0.2222222222222222,\"#7201a8\"],[0.3333333333333333,\"#9c179e\"],[0.4444444444444444,\"#bd3786\"],[0.5555555555555556,\"#d8576b\"],[0.6666666666666666,\"#ed7953\"],[0.7777777777777778,\"#fb9f3a\"],[0.8888888888888888,\"#fdca26\"],[1.0,\"#f0f921\"]],\"sequentialminus\":[[0.0,\"#0d0887\"],[0.1111111111111111,\"#46039f\"],[0.2222222222222222,\"#7201a8\"],[0.3333333333333333,\"#9c179e\"],[0.4444444444444444,\"#bd3786\"],[0.5555555555555556,\"#d8576b\"],[0.6666666666666666,\"#ed7953\"],[0.7777777777777778,\"#fb9f3a\"],[0.8888888888888888,\"#fdca26\"],[1.0,\"#f0f921\"]],\"diverging\":[[0,\"#8e0152\"],[0.1,\"#c51b7d\"],[0.2,\"#de77ae\"],[0.3,\"#f1b6da\"],[0.4,\"#fde0ef\"],[0.5,\"#f7f7f7\"],[0.6,\"#e6f5d0\"],[0.7,\"#b8e186\"],[0.8,\"#7fbc41\"],[0.9,\"#4d9221\"],[1,\"#276419\"]]},\"xaxis\":{\"gridcolor\":\"white\",\"linecolor\":\"white\",\"ticks\":\"\",\"title\":{\"standoff\":15},\"zerolinecolor\":\"white\",\"automargin\":true,\"zerolinewidth\":2},\"yaxis\":{\"gridcolor\":\"white\",\"linecolor\":\"white\",\"ticks\":\"\",\"title\":{\"standoff\":15},\"zerolinecolor\":\"white\",\"automargin\":true,\"zerolinewidth\":2},\"scene\":{\"xaxis\":{\"backgroundcolor\":\"#E5ECF6\",\"gridcolor\":\"white\",\"linecolor\":\"white\",\"showbackground\":true,\"ticks\":\"\",\"zerolinecolor\":\"white\",\"gridwidth\":2},\"yaxis\":{\"backgroundcolor\":\"#E5ECF6\",\"gridcolor\":\"white\",\"linecolor\":\"white\",\"showbackground\":true,\"ticks\":\"\",\"zerolinecolor\":\"white\",\"gridwidth\":2},\"zaxis\":{\"backgroundcolor\":\"#E5ECF6\",\"gridcolor\":\"white\",\"linecolor\":\"white\",\"showbackground\":true,\"ticks\":\"\",\"zerolinecolor\":\"white\",\"gridwidth\":2}},\"shapedefaults\":{\"line\":{\"color\":\"#2a3f5f\"}},\"annotationdefaults\":{\"arrowcolor\":\"#2a3f5f\",\"arrowhead\":0,\"arrowwidth\":1},\"geo\":{\"bgcolor\":\"white\",\"landcolor\":\"#E5ECF6\",\"subunitcolor\":\"white\",\"showland\":true,\"showlakes\":true,\"lakecolor\":\"white\"},\"title\":{\"x\":0.05},\"mapbox\":{\"style\":\"light\"}}}},                        {\"responsive\": true}                    ).then(function(){\n",
       "                            \n",
       "var gd = document.getElementById('86140414-5930-4e70-81d3-296e0ae503e8');\n",
       "var x = new MutationObserver(function (mutations, observer) {{\n",
       "        var display = window.getComputedStyle(gd).display;\n",
       "        if (!display || display === 'none') {{\n",
       "            console.log([gd, 'removed!']);\n",
       "            Plotly.purge(gd);\n",
       "            observer.disconnect();\n",
       "        }}\n",
       "}});\n",
       "\n",
       "// Listen for the removal of the full notebook cells\n",
       "var notebookContainer = gd.closest('#notebook-container');\n",
       "if (notebookContainer) {{\n",
       "    x.observe(notebookContainer, {childList: true});\n",
       "}}\n",
       "\n",
       "// Listen for the clearing of the current output cell\n",
       "var outputEl = gd.closest('.output');\n",
       "if (outputEl) {{\n",
       "    x.observe(outputEl, {childList: true});\n",
       "}}\n",
       "\n",
       "                        })                };                });            </script>        </div>"
      ]
     },
     "metadata": {},
     "output_type": "display_data"
    },
    {
     "name": "stdout",
     "output_type": "stream",
     "text": [
      "Silhouette Score for k=2: 0.6503999397768441\n",
      "Silhouette Score for k=3: 0.3925174528097656\n",
      "Silhouette Score for k=4: 0.375713319579323\n",
      "Silhouette Score for k=5: 0.36427905632621815\n"
     ]
    }
   ],
   "source": [
    "# Compute the linkage matrix using the Ward method\n",
    "linked = linkage(scaled_data, method='ward')\n",
    "\n",
    "# Plot the dendrogram\n",
    "fig = ff.create_dendrogram(scaled_data, linkagefun=lambda x: linked, labels=None)\n",
    "fig.update_layout(width=1800, height=500)\n",
    "fig.show()\n",
    "\n",
    "# Calculate silhouette scores for different numbers of clusters\n",
    "silhouette_scores = {}\n",
    "for k in range(2, 6):\n",
    "    # Use fcluster to flatten the dendrogram to 'k' clusters\n",
    "    labels = fcluster(linked, k, criterion='maxclust')\n",
    "    score = silhouette_score(scaled_data, labels)\n",
    "    silhouette_scores[k] = score\n",
    "    print(f'Silhouette Score for k={k}: {score}')"
   ]
  },
  {
   "cell_type": "code",
   "execution_count": null,
   "id": "14b1fddc-f8a9-4d1e-ab0b-6dc2be67ae4c",
   "metadata": {},
   "outputs": [],
   "source": []
  }
 ],
 "metadata": {
  "kernelspec": {
   "display_name": "Python 3 (ipykernel)",
   "language": "python",
   "name": "python3"
  },
  "language_info": {
   "codemirror_mode": {
    "name": "ipython",
    "version": 3
   },
   "file_extension": ".py",
   "mimetype": "text/x-python",
   "name": "python",
   "nbconvert_exporter": "python",
   "pygments_lexer": "ipython3",
   "version": "3.10.14"
  }
 },
 "nbformat": 4,
 "nbformat_minor": 5
}
