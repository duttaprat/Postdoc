{
 "cells": [
  {
   "cell_type": "code",
   "execution_count": 1,
   "id": "86c25996-1ed6-450c-8159-937d18a3b6cf",
   "metadata": {},
   "outputs": [],
   "source": [
    "import os, io\n",
    "import pysam\n",
    "import pandas as pd\n",
    "from IPython.display import display, HTML"
   ]
  },
  {
   "cell_type": "code",
   "execution_count": 2,
   "id": "178d0d0d-2cdf-47d9-a029-c58e2aaacc20",
   "metadata": {},
   "outputs": [],
   "source": [
    "solid_tumor_vcf_file_path = \"/data/projects/GDC_Cancer_Wise/Brain/Data/all_vcf_subfolders/Folder_4/96ef40c3-8d4c-4fe1-a33a-99f5b205a0bb_wgs_gdc_realn.vcf.gz\"\n",
    "normal_vcf_file_path= \"/data/projects/GDC_Cancer_Wise/Brain/Data/all_vcf_subfolders/Folder_4/e8114ae7-e076-44ca-b2bb-b6c3629b53b0_wgs_gdc_realn.vcf.gz\""
   ]
  },
  {
   "cell_type": "code",
   "execution_count": 10,
   "id": "e49e6d9e-fc5c-40ff-9900-86f655fbc1c9",
   "metadata": {},
   "outputs": [],
   "source": [
    "manifest_vcf_filepath = '/data/projects/GDC_Cancer_Wise/Brain/Postprocessing_files/updated_manifest_clinical.tsv'"
   ]
  },
  {
   "cell_type": "code",
   "execution_count": 12,
   "id": "a2593e12-152d-49b9-9f9f-46635152aaf2",
   "metadata": {},
   "outputs": [
    {
     "data": {
      "text/html": [
       "<div>\n",
       "<style scoped>\n",
       "    .dataframe tbody tr th:only-of-type {\n",
       "        vertical-align: middle;\n",
       "    }\n",
       "\n",
       "    .dataframe tbody tr th {\n",
       "        vertical-align: top;\n",
       "    }\n",
       "\n",
       "    .dataframe thead th {\n",
       "        text-align: right;\n",
       "    }\n",
       "</style>\n",
       "<table border=\"1\" class=\"dataframe\">\n",
       "  <thead>\n",
       "    <tr style=\"text-align: right;\">\n",
       "      <th></th>\n",
       "      <th>id</th>\n",
       "      <th>filename</th>\n",
       "      <th>md5</th>\n",
       "      <th>size</th>\n",
       "      <th>state</th>\n",
       "      <th>case_UUID</th>\n",
       "      <th>TCGA_barcode</th>\n",
       "      <th>biospecimen</th>\n",
       "      <th>case_id</th>\n",
       "      <th>case_submitter_id</th>\n",
       "      <th>...</th>\n",
       "      <th>treatment_dose</th>\n",
       "      <th>treatment_dose_units</th>\n",
       "      <th>treatment_effect</th>\n",
       "      <th>treatment_effect_indicator</th>\n",
       "      <th>treatment_frequency</th>\n",
       "      <th>treatment_intent_type</th>\n",
       "      <th>treatment_or_therapy</th>\n",
       "      <th>treatment_outcome</th>\n",
       "      <th>treatment_type</th>\n",
       "      <th>file_path</th>\n",
       "    </tr>\n",
       "  </thead>\n",
       "  <tbody>\n",
       "    <tr>\n",
       "      <th>0</th>\n",
       "      <td>8a5741e3-ade9-4aa0-bf16-fda229785973</td>\n",
       "      <td>96ef40c3-8d4c-4fe1-a33a-99f5b205a0bb_wgs_gdc_r...</td>\n",
       "      <td>872f8936e6da37d65ad164008be0d97e</td>\n",
       "      <td>224307907152</td>\n",
       "      <td>released</td>\n",
       "      <td>12824b2b-9c0a-4dcf-8941-34593a4e93da</td>\n",
       "      <td>TCGA-14-0786-01B-01D-0932-09</td>\n",
       "      <td>Primary Solid Tumor</td>\n",
       "      <td>12824b2b-9c0a-4dcf-8941-34593a4e93da</td>\n",
       "      <td>TCGA-14-0786</td>\n",
       "      <td>...</td>\n",
       "      <td>'--</td>\n",
       "      <td>'--</td>\n",
       "      <td>'--</td>\n",
       "      <td>'--</td>\n",
       "      <td>'--</td>\n",
       "      <td>'--</td>\n",
       "      <td>yes</td>\n",
       "      <td>'--</td>\n",
       "      <td>['Radiation Therapy, NOS', 'Pharmaceutical The...</td>\n",
       "      <td>/data/projects/GDC_Cancer_Wise/Brain/Data/all_...</td>\n",
       "    </tr>\n",
       "    <tr>\n",
       "      <th>1</th>\n",
       "      <td>92d4df10-dc24-495c-889f-98fe42259a3d</td>\n",
       "      <td>6050f994-f394-4c1c-93ce-d36733aa9ae9_wgs_gdc_r...</td>\n",
       "      <td>22e70f4babc0dbc558899362c29d0144</td>\n",
       "      <td>255133476881</td>\n",
       "      <td>released</td>\n",
       "      <td>1b6c184a-5868-4a51-8a82-aa16a7e65126</td>\n",
       "      <td>TCGA-06-0881-10A-01D-0512-09</td>\n",
       "      <td>Blood Derived Normal</td>\n",
       "      <td>1b6c184a-5868-4a51-8a82-aa16a7e65126</td>\n",
       "      <td>TCGA-06-0881</td>\n",
       "      <td>...</td>\n",
       "      <td>'--</td>\n",
       "      <td>'--</td>\n",
       "      <td>'--</td>\n",
       "      <td>'--</td>\n",
       "      <td>'--</td>\n",
       "      <td>'--</td>\n",
       "      <td>yes</td>\n",
       "      <td>'--</td>\n",
       "      <td>['Radiation Therapy, NOS', 'Pharmaceutical The...</td>\n",
       "      <td>/data/projects/GDC_Cancer_Wise/Brain/Data/all_...</td>\n",
       "    </tr>\n",
       "    <tr>\n",
       "      <th>2</th>\n",
       "      <td>31261c79-49e6-4e8e-9135-7445a93d3ff6</td>\n",
       "      <td>7cae6c0b-36fe-411b-bbba-093a4c846d84_wgs_gdc_r...</td>\n",
       "      <td>b0a73ce14e054c4cb548b82cd4705090</td>\n",
       "      <td>433608688882</td>\n",
       "      <td>released</td>\n",
       "      <td>0078b0c4-68a9-483b-9aab-61156d263213</td>\n",
       "      <td>TCGA-14-1034-02B-01D-2280-08</td>\n",
       "      <td>Recurrent Solid Tumor</td>\n",
       "      <td>0078b0c4-68a9-483b-9aab-61156d263213</td>\n",
       "      <td>TCGA-14-1034</td>\n",
       "      <td>...</td>\n",
       "      <td>'--</td>\n",
       "      <td>'--</td>\n",
       "      <td>'--</td>\n",
       "      <td>'--</td>\n",
       "      <td>'--</td>\n",
       "      <td>'--</td>\n",
       "      <td>yes</td>\n",
       "      <td>'--</td>\n",
       "      <td>['Pharmaceutical Therapy, NOS', 'Radiation The...</td>\n",
       "      <td>/data/projects/GDC_Cancer_Wise/Brain/Data/all_...</td>\n",
       "    </tr>\n",
       "    <tr>\n",
       "      <th>3</th>\n",
       "      <td>03ec9184-c32b-40ec-90f6-fcb9ac13897c</td>\n",
       "      <td>e8114ae7-e076-44ca-b2bb-b6c3629b53b0_wgs_gdc_r...</td>\n",
       "      <td>06b5e42fd7c52228a60af4dfffa39168</td>\n",
       "      <td>181458921470</td>\n",
       "      <td>released</td>\n",
       "      <td>12824b2b-9c0a-4dcf-8941-34593a4e93da</td>\n",
       "      <td>TCGA-14-0786-10A-01D-0703-09</td>\n",
       "      <td>Blood Derived Normal</td>\n",
       "      <td>12824b2b-9c0a-4dcf-8941-34593a4e93da</td>\n",
       "      <td>TCGA-14-0786</td>\n",
       "      <td>...</td>\n",
       "      <td>'--</td>\n",
       "      <td>'--</td>\n",
       "      <td>'--</td>\n",
       "      <td>'--</td>\n",
       "      <td>'--</td>\n",
       "      <td>'--</td>\n",
       "      <td>yes</td>\n",
       "      <td>'--</td>\n",
       "      <td>['Radiation Therapy, NOS', 'Pharmaceutical The...</td>\n",
       "      <td>/data/projects/GDC_Cancer_Wise/Brain/Data/all_...</td>\n",
       "    </tr>\n",
       "    <tr>\n",
       "      <th>4</th>\n",
       "      <td>8b174bed-2bd0-4318-8831-8676df9af5a0</td>\n",
       "      <td>b73cfd2e-044f-4b41-b404-080d9d18e61d_wgs_gdc_r...</td>\n",
       "      <td>9c2f64092e527de61125f7862d40c28d</td>\n",
       "      <td>224484119834</td>\n",
       "      <td>released</td>\n",
       "      <td>12824b2b-9c0a-4dcf-8941-34593a4e93da</td>\n",
       "      <td>TCGA-14-0786-01B-01D-0703-09</td>\n",
       "      <td>Primary Solid Tumor</td>\n",
       "      <td>12824b2b-9c0a-4dcf-8941-34593a4e93da</td>\n",
       "      <td>TCGA-14-0786</td>\n",
       "      <td>...</td>\n",
       "      <td>'--</td>\n",
       "      <td>'--</td>\n",
       "      <td>'--</td>\n",
       "      <td>'--</td>\n",
       "      <td>'--</td>\n",
       "      <td>'--</td>\n",
       "      <td>yes</td>\n",
       "      <td>'--</td>\n",
       "      <td>['Radiation Therapy, NOS', 'Pharmaceutical The...</td>\n",
       "      <td>/data/projects/GDC_Cancer_Wise/Brain/Data/all_...</td>\n",
       "    </tr>\n",
       "    <tr>\n",
       "      <th>...</th>\n",
       "      <td>...</td>\n",
       "      <td>...</td>\n",
       "      <td>...</td>\n",
       "      <td>...</td>\n",
       "      <td>...</td>\n",
       "      <td>...</td>\n",
       "      <td>...</td>\n",
       "      <td>...</td>\n",
       "      <td>...</td>\n",
       "      <td>...</td>\n",
       "      <td>...</td>\n",
       "      <td>...</td>\n",
       "      <td>...</td>\n",
       "      <td>...</td>\n",
       "      <td>...</td>\n",
       "      <td>...</td>\n",
       "      <td>...</td>\n",
       "      <td>...</td>\n",
       "      <td>...</td>\n",
       "      <td>...</td>\n",
       "      <td>...</td>\n",
       "    </tr>\n",
       "    <tr>\n",
       "      <th>287</th>\n",
       "      <td>b53ad5a6-36a2-455a-8769-897c0adfb500</td>\n",
       "      <td>5844876a-d390-4c02-acb9-f32647ca7375_wgs_gdc_r...</td>\n",
       "      <td>42a5d186bc01b316584d8041e2c1f879</td>\n",
       "      <td>181285406230</td>\n",
       "      <td>released</td>\n",
       "      <td>799e9106-e62e-4681-8861-137f474ee8b8</td>\n",
       "      <td>TCGA-HT-7602-10A-01D-2086-08</td>\n",
       "      <td>Blood Derived Normal</td>\n",
       "      <td>799e9106-e62e-4681-8861-137f474ee8b8</td>\n",
       "      <td>TCGA-HT-7602</td>\n",
       "      <td>...</td>\n",
       "      <td>'--</td>\n",
       "      <td>'--</td>\n",
       "      <td>'--</td>\n",
       "      <td>'--</td>\n",
       "      <td>'--</td>\n",
       "      <td>'--</td>\n",
       "      <td>no</td>\n",
       "      <td>'--</td>\n",
       "      <td>['Radiation Therapy, NOS', 'Pharmaceutical The...</td>\n",
       "      <td>/data/projects/GDC_Cancer_Wise/Brain/Data/all_...</td>\n",
       "    </tr>\n",
       "    <tr>\n",
       "      <th>288</th>\n",
       "      <td>87113bda-e063-4f2c-9ac2-5f02a05d3a9c</td>\n",
       "      <td>45ec553b-1e7a-4b3c-86a1-c3f1547c1b43_wgs_gdc_r...</td>\n",
       "      <td>584a461967b5853754ffcfce5c5b1c7c</td>\n",
       "      <td>166265961267</td>\n",
       "      <td>released</td>\n",
       "      <td>7e41baba-7ef6-4030-b595-d95cd96336b5</td>\n",
       "      <td>TCGA-HT-A5R7-10A-01D-A289-08</td>\n",
       "      <td>Blood Derived Normal</td>\n",
       "      <td>7e41baba-7ef6-4030-b595-d95cd96336b5</td>\n",
       "      <td>TCGA-HT-A5R7</td>\n",
       "      <td>...</td>\n",
       "      <td>'--</td>\n",
       "      <td>'--</td>\n",
       "      <td>'--</td>\n",
       "      <td>'--</td>\n",
       "      <td>'--</td>\n",
       "      <td>'--</td>\n",
       "      <td>yes</td>\n",
       "      <td>'--</td>\n",
       "      <td>['Pharmaceutical Therapy, NOS', 'Radiation The...</td>\n",
       "      <td>/data/projects/GDC_Cancer_Wise/Brain/Data/all_...</td>\n",
       "    </tr>\n",
       "    <tr>\n",
       "      <th>289</th>\n",
       "      <td>4d278e32-a900-4d28-87be-575ca498db24</td>\n",
       "      <td>8f524ded-7ae8-44cd-8e62-5db87178452c_wgs_gdc_r...</td>\n",
       "      <td>e7f743f51d4092daa2723596c5099919</td>\n",
       "      <td>32477896026</td>\n",
       "      <td>released</td>\n",
       "      <td>834e560a-a506-456d-baf2-a206ca058153</td>\n",
       "      <td>TCGA-DU-7010-10A-01D-2022-02</td>\n",
       "      <td>Blood Derived Normal</td>\n",
       "      <td>834e560a-a506-456d-baf2-a206ca058153</td>\n",
       "      <td>TCGA-DU-7010</td>\n",
       "      <td>...</td>\n",
       "      <td>'--</td>\n",
       "      <td>'--</td>\n",
       "      <td>'--</td>\n",
       "      <td>'--</td>\n",
       "      <td>'--</td>\n",
       "      <td>'--</td>\n",
       "      <td>yes</td>\n",
       "      <td>'--</td>\n",
       "      <td>['Pharmaceutical Therapy, NOS', 'Radiation The...</td>\n",
       "      <td>/data/projects/GDC_Cancer_Wise/Brain/Data/all_...</td>\n",
       "    </tr>\n",
       "    <tr>\n",
       "      <th>290</th>\n",
       "      <td>6788564d-7cfb-4bc2-a6e1-010337a37210</td>\n",
       "      <td>3ef3e4f1-9b47-4f11-9024-85242ecee397_wgs_gdc_r...</td>\n",
       "      <td>a9407d6da48c9a4c7afcc38b175a7ed0</td>\n",
       "      <td>39333905005</td>\n",
       "      <td>released</td>\n",
       "      <td>834e560a-a506-456d-baf2-a206ca058153</td>\n",
       "      <td>TCGA-DU-7010-01A-11D-2022-02</td>\n",
       "      <td>Primary Solid Tumor</td>\n",
       "      <td>834e560a-a506-456d-baf2-a206ca058153</td>\n",
       "      <td>TCGA-DU-7010</td>\n",
       "      <td>...</td>\n",
       "      <td>'--</td>\n",
       "      <td>'--</td>\n",
       "      <td>'--</td>\n",
       "      <td>'--</td>\n",
       "      <td>'--</td>\n",
       "      <td>'--</td>\n",
       "      <td>yes</td>\n",
       "      <td>'--</td>\n",
       "      <td>['Pharmaceutical Therapy, NOS', 'Radiation The...</td>\n",
       "      <td>/data/projects/GDC_Cancer_Wise/Brain/Data/all_...</td>\n",
       "    </tr>\n",
       "    <tr>\n",
       "      <th>291</th>\n",
       "      <td>aac6e5e8-85eb-497a-9e0b-2125ef91e378</td>\n",
       "      <td>e3c99625-890c-48a0-8926-713cc7bfddf2_wgs_gdc_r...</td>\n",
       "      <td>ffd9d47266efef5292d803d3d4e224fe</td>\n",
       "      <td>225014734168</td>\n",
       "      <td>released</td>\n",
       "      <td>ea3b5da2-6a12-400c-bf0f-e442f5ec1132</td>\n",
       "      <td>TCGA-06-0157-10A-01D-1491-08</td>\n",
       "      <td>Blood Derived Normal</td>\n",
       "      <td>ea3b5da2-6a12-400c-bf0f-e442f5ec1132</td>\n",
       "      <td>TCGA-06-0157</td>\n",
       "      <td>...</td>\n",
       "      <td>'--</td>\n",
       "      <td>'--</td>\n",
       "      <td>'--</td>\n",
       "      <td>'--</td>\n",
       "      <td>'--</td>\n",
       "      <td>'--</td>\n",
       "      <td>['no', 'yes']</td>\n",
       "      <td>'--</td>\n",
       "      <td>['Pharmaceutical Therapy, NOS', 'Radiation The...</td>\n",
       "      <td>/data/projects/GDC_Cancer_Wise/Brain/Data/all_...</td>\n",
       "    </tr>\n",
       "  </tbody>\n",
       "</table>\n",
       "<p>292 rows × 167 columns</p>\n",
       "</div>"
      ],
      "text/plain": [
       "                                       id  \\\n",
       "0    8a5741e3-ade9-4aa0-bf16-fda229785973   \n",
       "1    92d4df10-dc24-495c-889f-98fe42259a3d   \n",
       "2    31261c79-49e6-4e8e-9135-7445a93d3ff6   \n",
       "3    03ec9184-c32b-40ec-90f6-fcb9ac13897c   \n",
       "4    8b174bed-2bd0-4318-8831-8676df9af5a0   \n",
       "..                                    ...   \n",
       "287  b53ad5a6-36a2-455a-8769-897c0adfb500   \n",
       "288  87113bda-e063-4f2c-9ac2-5f02a05d3a9c   \n",
       "289  4d278e32-a900-4d28-87be-575ca498db24   \n",
       "290  6788564d-7cfb-4bc2-a6e1-010337a37210   \n",
       "291  aac6e5e8-85eb-497a-9e0b-2125ef91e378   \n",
       "\n",
       "                                              filename  \\\n",
       "0    96ef40c3-8d4c-4fe1-a33a-99f5b205a0bb_wgs_gdc_r...   \n",
       "1    6050f994-f394-4c1c-93ce-d36733aa9ae9_wgs_gdc_r...   \n",
       "2    7cae6c0b-36fe-411b-bbba-093a4c846d84_wgs_gdc_r...   \n",
       "3    e8114ae7-e076-44ca-b2bb-b6c3629b53b0_wgs_gdc_r...   \n",
       "4    b73cfd2e-044f-4b41-b404-080d9d18e61d_wgs_gdc_r...   \n",
       "..                                                 ...   \n",
       "287  5844876a-d390-4c02-acb9-f32647ca7375_wgs_gdc_r...   \n",
       "288  45ec553b-1e7a-4b3c-86a1-c3f1547c1b43_wgs_gdc_r...   \n",
       "289  8f524ded-7ae8-44cd-8e62-5db87178452c_wgs_gdc_r...   \n",
       "290  3ef3e4f1-9b47-4f11-9024-85242ecee397_wgs_gdc_r...   \n",
       "291  e3c99625-890c-48a0-8926-713cc7bfddf2_wgs_gdc_r...   \n",
       "\n",
       "                                  md5          size     state  \\\n",
       "0    872f8936e6da37d65ad164008be0d97e  224307907152  released   \n",
       "1    22e70f4babc0dbc558899362c29d0144  255133476881  released   \n",
       "2    b0a73ce14e054c4cb548b82cd4705090  433608688882  released   \n",
       "3    06b5e42fd7c52228a60af4dfffa39168  181458921470  released   \n",
       "4    9c2f64092e527de61125f7862d40c28d  224484119834  released   \n",
       "..                                ...           ...       ...   \n",
       "287  42a5d186bc01b316584d8041e2c1f879  181285406230  released   \n",
       "288  584a461967b5853754ffcfce5c5b1c7c  166265961267  released   \n",
       "289  e7f743f51d4092daa2723596c5099919   32477896026  released   \n",
       "290  a9407d6da48c9a4c7afcc38b175a7ed0   39333905005  released   \n",
       "291  ffd9d47266efef5292d803d3d4e224fe  225014734168  released   \n",
       "\n",
       "                                case_UUID                  TCGA_barcode  \\\n",
       "0    12824b2b-9c0a-4dcf-8941-34593a4e93da  TCGA-14-0786-01B-01D-0932-09   \n",
       "1    1b6c184a-5868-4a51-8a82-aa16a7e65126  TCGA-06-0881-10A-01D-0512-09   \n",
       "2    0078b0c4-68a9-483b-9aab-61156d263213  TCGA-14-1034-02B-01D-2280-08   \n",
       "3    12824b2b-9c0a-4dcf-8941-34593a4e93da  TCGA-14-0786-10A-01D-0703-09   \n",
       "4    12824b2b-9c0a-4dcf-8941-34593a4e93da  TCGA-14-0786-01B-01D-0703-09   \n",
       "..                                    ...                           ...   \n",
       "287  799e9106-e62e-4681-8861-137f474ee8b8  TCGA-HT-7602-10A-01D-2086-08   \n",
       "288  7e41baba-7ef6-4030-b595-d95cd96336b5  TCGA-HT-A5R7-10A-01D-A289-08   \n",
       "289  834e560a-a506-456d-baf2-a206ca058153  TCGA-DU-7010-10A-01D-2022-02   \n",
       "290  834e560a-a506-456d-baf2-a206ca058153  TCGA-DU-7010-01A-11D-2022-02   \n",
       "291  ea3b5da2-6a12-400c-bf0f-e442f5ec1132  TCGA-06-0157-10A-01D-1491-08   \n",
       "\n",
       "               biospecimen                               case_id  \\\n",
       "0      Primary Solid Tumor  12824b2b-9c0a-4dcf-8941-34593a4e93da   \n",
       "1     Blood Derived Normal  1b6c184a-5868-4a51-8a82-aa16a7e65126   \n",
       "2    Recurrent Solid Tumor  0078b0c4-68a9-483b-9aab-61156d263213   \n",
       "3     Blood Derived Normal  12824b2b-9c0a-4dcf-8941-34593a4e93da   \n",
       "4      Primary Solid Tumor  12824b2b-9c0a-4dcf-8941-34593a4e93da   \n",
       "..                     ...                                   ...   \n",
       "287   Blood Derived Normal  799e9106-e62e-4681-8861-137f474ee8b8   \n",
       "288   Blood Derived Normal  7e41baba-7ef6-4030-b595-d95cd96336b5   \n",
       "289   Blood Derived Normal  834e560a-a506-456d-baf2-a206ca058153   \n",
       "290    Primary Solid Tumor  834e560a-a506-456d-baf2-a206ca058153   \n",
       "291   Blood Derived Normal  ea3b5da2-6a12-400c-bf0f-e442f5ec1132   \n",
       "\n",
       "    case_submitter_id  ... treatment_dose  treatment_dose_units  \\\n",
       "0        TCGA-14-0786  ...            '--                   '--   \n",
       "1        TCGA-06-0881  ...            '--                   '--   \n",
       "2        TCGA-14-1034  ...            '--                   '--   \n",
       "3        TCGA-14-0786  ...            '--                   '--   \n",
       "4        TCGA-14-0786  ...            '--                   '--   \n",
       "..                ...  ...            ...                   ...   \n",
       "287      TCGA-HT-7602  ...            '--                   '--   \n",
       "288      TCGA-HT-A5R7  ...            '--                   '--   \n",
       "289      TCGA-DU-7010  ...            '--                   '--   \n",
       "290      TCGA-DU-7010  ...            '--                   '--   \n",
       "291      TCGA-06-0157  ...            '--                   '--   \n",
       "\n",
       "    treatment_effect treatment_effect_indicator treatment_frequency  \\\n",
       "0                '--                        '--                 '--   \n",
       "1                '--                        '--                 '--   \n",
       "2                '--                        '--                 '--   \n",
       "3                '--                        '--                 '--   \n",
       "4                '--                        '--                 '--   \n",
       "..               ...                        ...                 ...   \n",
       "287              '--                        '--                 '--   \n",
       "288              '--                        '--                 '--   \n",
       "289              '--                        '--                 '--   \n",
       "290              '--                        '--                 '--   \n",
       "291              '--                        '--                 '--   \n",
       "\n",
       "    treatment_intent_type  treatment_or_therapy treatment_outcome  \\\n",
       "0                     '--                   yes               '--   \n",
       "1                     '--                   yes               '--   \n",
       "2                     '--                   yes               '--   \n",
       "3                     '--                   yes               '--   \n",
       "4                     '--                   yes               '--   \n",
       "..                    ...                   ...               ...   \n",
       "287                   '--                    no               '--   \n",
       "288                   '--                   yes               '--   \n",
       "289                   '--                   yes               '--   \n",
       "290                   '--                   yes               '--   \n",
       "291                   '--         ['no', 'yes']               '--   \n",
       "\n",
       "                                        treatment_type  \\\n",
       "0    ['Radiation Therapy, NOS', 'Pharmaceutical The...   \n",
       "1    ['Radiation Therapy, NOS', 'Pharmaceutical The...   \n",
       "2    ['Pharmaceutical Therapy, NOS', 'Radiation The...   \n",
       "3    ['Radiation Therapy, NOS', 'Pharmaceutical The...   \n",
       "4    ['Radiation Therapy, NOS', 'Pharmaceutical The...   \n",
       "..                                                 ...   \n",
       "287  ['Radiation Therapy, NOS', 'Pharmaceutical The...   \n",
       "288  ['Pharmaceutical Therapy, NOS', 'Radiation The...   \n",
       "289  ['Pharmaceutical Therapy, NOS', 'Radiation The...   \n",
       "290  ['Pharmaceutical Therapy, NOS', 'Radiation The...   \n",
       "291  ['Pharmaceutical Therapy, NOS', 'Radiation The...   \n",
       "\n",
       "                                             file_path  \n",
       "0    /data/projects/GDC_Cancer_Wise/Brain/Data/all_...  \n",
       "1    /data/projects/GDC_Cancer_Wise/Brain/Data/all_...  \n",
       "2    /data/projects/GDC_Cancer_Wise/Brain/Data/all_...  \n",
       "3    /data/projects/GDC_Cancer_Wise/Brain/Data/all_...  \n",
       "4    /data/projects/GDC_Cancer_Wise/Brain/Data/all_...  \n",
       "..                                                 ...  \n",
       "287  /data/projects/GDC_Cancer_Wise/Brain/Data/all_...  \n",
       "288  /data/projects/GDC_Cancer_Wise/Brain/Data/all_...  \n",
       "289  /data/projects/GDC_Cancer_Wise/Brain/Data/all_...  \n",
       "290  /data/projects/GDC_Cancer_Wise/Brain/Data/all_...  \n",
       "291  /data/projects/GDC_Cancer_Wise/Brain/Data/all_...  \n",
       "\n",
       "[292 rows x 167 columns]"
      ]
     },
     "execution_count": 12,
     "metadata": {},
     "output_type": "execute_result"
    }
   ],
   "source": [
    "df_manifest = pd.read_csv(manifest_vcf_filepath, sep=\"\\t\")\n",
    "df_manifest"
   ]
  },
  {
   "cell_type": "code",
   "execution_count": 22,
   "id": "afe71b0e-977e-40e4-8e1d-7fd8d56f464b",
   "metadata": {},
   "outputs": [],
   "source": [
    "def vcf_to_dataframe(vcf_path):\n",
    "    \"\"\"\n",
    "    Convert a .vcf.gz file into a pandas DataFrame.\n",
    "\n",
    "    Parameters:\n",
    "    - vcf_path (str): path to the .vcf.gz file\n",
    "\n",
    "    Returns:\n",
    "    - pd.DataFrame: VCF data as a DataFrame\n",
    "    \"\"\"\n",
    "\n",
    "    # Open the VCF file\n",
    "    vcf_file = pysam.VariantFile(vcf_path)\n",
    "\n",
    "    # Extracting the data and the columns\n",
    "    data = []\n",
    "    print(vcf_file.header.info.keys())\n",
    "    columns = list(vcf_file.header.info.keys()) + [\"CHROM\", \"POS\", \"ID\", \"REF\", \"ALT\", \"QUAL\", \"FILTER\"]\n",
    "    for record in vcf_file:\n",
    "        row_data = [record.info.get(key) for key in vcf_file.header.info.keys()]\n",
    "        basic_data = [record.chrom, record.pos, record.id, record.ref, \n",
    "                      ','.join(str(alt) for alt in record.alts), record.qual, record.filter.keys()[0] if record.filter.keys() else 'PASS']\n",
    "        data.append(row_data + basic_data)\n",
    "\n",
    "    df = pd.DataFrame(data, columns=columns)\n",
    "\n",
    "    # Close the VCF file\n",
    "    vcf_file.close()\n",
    "\n",
    "    return df"
   ]
  },
  {
   "cell_type": "code",
   "execution_count": 23,
   "id": "520b7ad9-8845-4f0c-987a-aacf115d8625",
   "metadata": {},
   "outputs": [
    {
     "name": "stdout",
     "output_type": "stream",
     "text": [
      "Processing TCGA-02-2483\n",
      "['INDEL', 'IDV', 'IMF', 'DP', 'VDB', 'RPBZ', 'MQBZ', 'BQBZ', 'MQSBZ', 'SCBZ', 'SGB', 'MQ0F', 'AC', 'AN', 'DP4', 'MQ']\n"
     ]
    },
    {
     "name": "stderr",
     "output_type": "stream",
     "text": [
      "[E::idx_find_and_load] Could not retrieve index file for '/data/projects/GDC_Cancer_Wise/Brain/Data/all_vcf_subfolders/Folder_9/f191bb9c-1937-40e5-8491-76dede722cdd_wgs_gdc_realn.vcf.gz'\n"
     ]
    },
    {
     "name": "stdout",
     "output_type": "stream",
     "text": [
      "['INDEL', 'IDV', 'IMF', 'DP', 'VDB', 'RPBZ', 'MQBZ', 'BQBZ', 'MQSBZ', 'SCBZ', 'SGB', 'MQ0F', 'AC', 'AN', 'DP4', 'MQ']\n"
     ]
    },
    {
     "name": "stderr",
     "output_type": "stream",
     "text": [
      "[E::idx_find_and_load] Could not retrieve index file for '/data/projects/GDC_Cancer_Wise/Brain/Data/all_vcf_subfolders/Folder_1/4d7f2c74-862b-4aad-98e1-fa831f14a905_wgs_gdc_realn.vcf.gz'\n"
     ]
    },
    {
     "name": "stdout",
     "output_type": "stream",
     "text": [
      "Processing TCGA-02-2485\n",
      "['INDEL', 'IDV', 'IMF', 'DP', 'VDB', 'RPBZ', 'MQBZ', 'BQBZ', 'MQSBZ', 'SCBZ', 'SGB', 'MQ0F', 'AC', 'AN', 'DP4', 'MQ']\n"
     ]
    },
    {
     "name": "stderr",
     "output_type": "stream",
     "text": [
      "[E::idx_find_and_load] Could not retrieve index file for '/data/projects/GDC_Cancer_Wise/Brain/Data/all_vcf_subfolders/Folder_2/8faa4b6d-6c64-4c03-bb3d-e2d33db491b0_wgs_gdc_realn.vcf.gz'\n"
     ]
    },
    {
     "name": "stdout",
     "output_type": "stream",
     "text": [
      "['INDEL', 'IDV', 'IMF', 'DP', 'VDB', 'RPBZ', 'MQBZ', 'BQBZ', 'MQSBZ', 'SCBZ', 'SGB', 'MQ0F', 'AC', 'AN', 'DP4', 'MQ']\n"
     ]
    },
    {
     "name": "stderr",
     "output_type": "stream",
     "text": [
      "[E::idx_find_and_load] Could not retrieve index file for '/data/projects/GDC_Cancer_Wise/Brain/Data/all_vcf_subfolders/Folder_6/0332b017-17d5-4083-8fc4-9d6f8fdbbbde_wgs_gdc_realn.vcf.gz'\n"
     ]
    },
    {
     "name": "stdout",
     "output_type": "stream",
     "text": [
      "Processing TCGA-06-0124\n",
      "['INDEL', 'IDV', 'IMF', 'DP', 'VDB', 'RPBZ', 'MQBZ', 'BQBZ', 'MQSBZ', 'SCBZ', 'SGB', 'MQ0F', 'AC', 'AN', 'DP4', 'MQ']\n"
     ]
    },
    {
     "name": "stderr",
     "output_type": "stream",
     "text": [
      "[E::idx_find_and_load] Could not retrieve index file for '/data/projects/GDC_Cancer_Wise/Brain/Data/all_vcf_subfolders/Folder_10/a0091cb7-3b55-4a9f-a909-39af318d999c_wgs_gdc_realn.vcf.gz'\n"
     ]
    },
    {
     "name": "stdout",
     "output_type": "stream",
     "text": [
      "Processing TCGA-06-0125\n",
      "['INDEL', 'IDV', 'IMF', 'DP', 'VDB', 'RPBZ', 'MQBZ', 'BQBZ', 'MQSBZ', 'SCBZ', 'SGB', 'MQ0F', 'AC', 'AN', 'DP4', 'MQ']\n"
     ]
    },
    {
     "name": "stderr",
     "output_type": "stream",
     "text": [
      "[E::idx_find_and_load] Could not retrieve index file for '/data/projects/GDC_Cancer_Wise/Brain/Data/all_vcf_subfolders/Folder_1/eae82a82-aa9f-4fea-b1da-e973e1982dc6_wgs_gdc_realn.vcf.gz'\n"
     ]
    },
    {
     "name": "stdout",
     "output_type": "stream",
     "text": [
      "['INDEL', 'IDV', 'IMF', 'DP', 'VDB', 'RPBZ', 'MQBZ', 'BQBZ', 'MQSBZ', 'SCBZ', 'SGB', 'MQ0F', 'AC', 'AN', 'DP4', 'MQ']\n"
     ]
    },
    {
     "name": "stderr",
     "output_type": "stream",
     "text": [
      "[E::idx_find_and_load] Could not retrieve index file for '/data/projects/GDC_Cancer_Wise/Brain/Data/all_vcf_subfolders/Folder_2/96e3db14-2bb1-4f68-aed6-5e794750c96e_wgs_gdc_realn.vcf.gz'\n"
     ]
    },
    {
     "name": "stdout",
     "output_type": "stream",
     "text": [
      "['INDEL', 'IDV', 'IMF', 'DP', 'VDB', 'RPBZ', 'MQBZ', 'BQBZ', 'MQSBZ', 'SCBZ', 'SGB', 'MQ0F', 'AC', 'AN', 'DP4', 'MQ']\n"
     ]
    },
    {
     "name": "stderr",
     "output_type": "stream",
     "text": [
      "[E::idx_find_and_load] Could not retrieve index file for '/data/projects/GDC_Cancer_Wise/Brain/Data/all_vcf_subfolders/Folder_1/0d2a3d87-8ed4-4b27-82eb-fde852ede1d7_wgs_gdc_realn.vcf.gz'\n"
     ]
    },
    {
     "name": "stdout",
     "output_type": "stream",
     "text": [
      "Processing TCGA-06-0128\n",
      "['INDEL', 'IDV', 'IMF', 'DP', 'VDB', 'RPBZ', 'MQBZ', 'BQBZ', 'MQSBZ', 'SCBZ', 'SGB', 'MQ0F', 'AC', 'AN', 'DP4', 'MQ']\n"
     ]
    },
    {
     "name": "stderr",
     "output_type": "stream",
     "text": [
      "[E::idx_find_and_load] Could not retrieve index file for '/data/projects/GDC_Cancer_Wise/Brain/Data/all_vcf_subfolders/Folder_6/cc800350-631c-43ab-8622-692d5a7e5b93_wgs_gdc_realn.vcf.gz'\n"
     ]
    },
    {
     "name": "stdout",
     "output_type": "stream",
     "text": [
      "['INDEL', 'IDV', 'IMF', 'DP', 'VDB', 'RPBZ', 'MQBZ', 'BQBZ', 'MQSBZ', 'SCBZ', 'SGB', 'MQ0F', 'AC', 'AN', 'DP4', 'MQ']\n"
     ]
    },
    {
     "name": "stderr",
     "output_type": "stream",
     "text": [
      "[E::idx_find_and_load] Could not retrieve index file for '/data/projects/GDC_Cancer_Wise/Brain/Data/all_vcf_subfolders/Folder_4/54940c29-c592-4621-9553-2021ee8c6cb7_wgs_gdc_realn.vcf.gz'\n"
     ]
    },
    {
     "name": "stdout",
     "output_type": "stream",
     "text": [
      "Processing TCGA-06-0145\n",
      "['INDEL', 'IDV', 'IMF', 'DP', 'VDB', 'RPBZ', 'MQBZ', 'BQBZ', 'MQSBZ', 'SCBZ', 'SGB', 'MQ0F', 'AC', 'AN', 'DP4', 'MQ']\n"
     ]
    },
    {
     "name": "stderr",
     "output_type": "stream",
     "text": [
      "[E::idx_find_and_load] Could not retrieve index file for '/data/projects/GDC_Cancer_Wise/Brain/Data/all_vcf_subfolders/Folder_9/0c700657-b0b8-4361-9f89-b89a6c7b262d_wgs_gdc_realn.vcf.gz'\n"
     ]
    },
    {
     "name": "stdout",
     "output_type": "stream",
     "text": [
      "['INDEL', 'IDV', 'IMF', 'DP', 'VDB', 'RPBZ', 'MQBZ', 'BQBZ', 'MQSBZ', 'SCBZ', 'SGB', 'MQ0F', 'AC', 'AN', 'DP4', 'MQ']\n"
     ]
    },
    {
     "name": "stderr",
     "output_type": "stream",
     "text": [
      "[E::idx_find_and_load] Could not retrieve index file for '/data/projects/GDC_Cancer_Wise/Brain/Data/all_vcf_subfolders/Folder_3/ece0f3a4-a204-4c52-bb1f-88d44a875b2e_wgs_gdc_realn.vcf.gz'\n"
     ]
    },
    {
     "name": "stdout",
     "output_type": "stream",
     "text": [
      "Processing TCGA-06-0152\n",
      "['INDEL', 'IDV', 'IMF', 'DP', 'VDB', 'RPBZ', 'MQBZ', 'BQBZ', 'MQSBZ', 'SCBZ', 'SGB', 'MQ0F', 'AC', 'AN', 'DP4', 'MQ']\n"
     ]
    },
    {
     "name": "stderr",
     "output_type": "stream",
     "text": [
      "[E::idx_find_and_load] Could not retrieve index file for '/data/projects/GDC_Cancer_Wise/Brain/Data/all_vcf_subfolders/Folder_7/a7db8f47-1bcd-4041-9219-862d92b8a58e_wgs_gdc_realn.vcf.gz'\n"
     ]
    },
    {
     "name": "stdout",
     "output_type": "stream",
     "text": [
      "Error reading /data/projects/GDC_Cancer_Wise/Brain/Data/all_vcf_subfolders/Folder_2/841eb82b-347d-4d7f-805f-3f3701a2983d_wgs_gdc_realn.vcf.gz: invalid file `b'/data/projects/GDC_Cancer_Wise/Brain/Data/all_vcf_subfolders/Folder_2/841eb82b-347d-4d7f-805f-3f3701a2983d_wgs_gdc_realn.vcf.gz'` (mode=`b'r'`) - is it VCF/BCF format?\n",
      "Processing TCGA-06-0155\n",
      "['INDEL', 'IDV', 'IMF', 'DP', 'VDB', 'RPBZ', 'MQBZ', 'BQBZ', 'MQSBZ', 'SCBZ', 'SGB', 'MQ0F', 'AC', 'AN', 'DP4', 'MQ']\n"
     ]
    },
    {
     "name": "stderr",
     "output_type": "stream",
     "text": [
      "[E::idx_find_and_load] Could not retrieve index file for '/data/projects/GDC_Cancer_Wise/Brain/Data/all_vcf_subfolders/Folder_8/7b8ae3a0-2ab4-4710-838d-8353e1faf310_wgs_gdc_realn.vcf.gz'\n"
     ]
    },
    {
     "name": "stdout",
     "output_type": "stream",
     "text": [
      "['INDEL', 'IDV', 'IMF', 'DP', 'VDB', 'RPBZ', 'MQBZ', 'BQBZ', 'MQSBZ', 'SCBZ', 'SGB', 'MQ0F', 'AC', 'AN', 'DP4', 'MQ']\n"
     ]
    },
    {
     "name": "stderr",
     "output_type": "stream",
     "text": [
      "[E::idx_find_and_load] Could not retrieve index file for '/data/projects/GDC_Cancer_Wise/Brain/Data/all_vcf_subfolders/Folder_8/eab71331-53d3-4cf5-96c9-5121a3962c27_wgs_gdc_realn.vcf.gz'\n"
     ]
    },
    {
     "name": "stdout",
     "output_type": "stream",
     "text": [
      "Processing TCGA-06-0157\n",
      "['INDEL', 'IDV', 'IMF', 'DP', 'VDB', 'RPBZ', 'MQBZ', 'BQBZ', 'MQSBZ', 'SCBZ', 'SGB', 'MQ0F', 'AC', 'AN', 'DP4', 'MQ']\n"
     ]
    },
    {
     "name": "stderr",
     "output_type": "stream",
     "text": [
      "[E::idx_find_and_load] Could not retrieve index file for '/data/projects/GDC_Cancer_Wise/Brain/Data/all_vcf_subfolders/Folder_2/e3c99625-890c-48a0-8926-713cc7bfddf2_wgs_gdc_realn.vcf.gz'\n"
     ]
    },
    {
     "name": "stdout",
     "output_type": "stream",
     "text": [
      "['INDEL', 'IDV', 'IMF', 'DP', 'VDB', 'RPBZ', 'MQBZ', 'BQBZ', 'MQSBZ', 'SCBZ', 'SGB', 'MQ0F', 'AC', 'AN', 'DP4', 'MQ']\n"
     ]
    },
    {
     "name": "stderr",
     "output_type": "stream",
     "text": [
      "[E::idx_find_and_load] Could not retrieve index file for '/data/projects/GDC_Cancer_Wise/Brain/Data/all_vcf_subfolders/Folder_1/b1e62d8e-24d2-4118-8cd0-3142acebdd5b_wgs_gdc_realn.vcf.gz'\n"
     ]
    },
    {
     "name": "stdout",
     "output_type": "stream",
     "text": [
      "Processing TCGA-06-0171\n",
      "['INDEL', 'IDV', 'IMF', 'DP', 'VDB', 'RPBZ', 'MQBZ', 'BQBZ', 'MQSBZ', 'SCBZ', 'SGB', 'MQ0F', 'AC', 'AN', 'DP4', 'MQ']\n"
     ]
    },
    {
     "name": "stderr",
     "output_type": "stream",
     "text": [
      "[E::idx_find_and_load] Could not retrieve index file for '/data/projects/GDC_Cancer_Wise/Brain/Data/all_vcf_subfolders/Folder_9/e318eb81-3d79-473e-b4cb-9325e76f91e1_wgs_gdc_realn.vcf.gz'\n"
     ]
    },
    {
     "name": "stdout",
     "output_type": "stream",
     "text": [
      "['INDEL', 'IDV', 'IMF', 'DP', 'VDB', 'RPBZ', 'MQBZ', 'BQBZ', 'MQSBZ', 'SCBZ', 'SGB', 'MQ0F', 'AC', 'AN', 'DP4', 'MQ']\n"
     ]
    },
    {
     "name": "stderr",
     "output_type": "stream",
     "text": [
      "[E::idx_find_and_load] Could not retrieve index file for '/data/projects/GDC_Cancer_Wise/Brain/Data/all_vcf_subfolders/Folder_9/18901f76-660b-4cc6-af1b-1b6f5d62204d_wgs_gdc_realn.vcf.gz'\n"
     ]
    },
    {
     "name": "stdout",
     "output_type": "stream",
     "text": [
      "['INDEL', 'IDV', 'IMF', 'DP', 'VDB', 'RPBZ', 'MQBZ', 'BQBZ', 'MQSBZ', 'SCBZ', 'SGB', 'MQ0F', 'AC', 'AN', 'DP4', 'MQ']\n"
     ]
    },
    {
     "name": "stderr",
     "output_type": "stream",
     "text": [
      "[E::idx_find_and_load] Could not retrieve index file for '/data/projects/GDC_Cancer_Wise/Brain/Data/all_vcf_subfolders/Folder_4/39520be3-a2af-4189-acf4-9d239363333a_wgs_gdc_realn.vcf.gz'\n"
     ]
    },
    {
     "name": "stdout",
     "output_type": "stream",
     "text": [
      "Processing TCGA-06-0185\n",
      "['INDEL', 'IDV', 'IMF', 'DP', 'VDB', 'RPBZ', 'MQBZ', 'BQBZ', 'MQSBZ', 'SCBZ', 'SGB', 'MQ0F', 'AC', 'AN', 'DP4', 'MQ']\n"
     ]
    },
    {
     "name": "stderr",
     "output_type": "stream",
     "text": [
      "[E::idx_find_and_load] Could not retrieve index file for '/data/projects/GDC_Cancer_Wise/Brain/Data/all_vcf_subfolders/Folder_7/fd23f636-0953-4828-8272-1385405ce62a_wgs_gdc_realn.vcf.gz'\n"
     ]
    },
    {
     "name": "stdout",
     "output_type": "stream",
     "text": [
      "['INDEL', 'IDV', 'IMF', 'DP', 'VDB', 'RPBZ', 'MQBZ', 'BQBZ', 'MQSBZ', 'SCBZ', 'SGB', 'MQ0F', 'AC', 'AN', 'DP4', 'MQ']\n"
     ]
    },
    {
     "name": "stderr",
     "output_type": "stream",
     "text": [
      "[E::idx_find_and_load] Could not retrieve index file for '/data/projects/GDC_Cancer_Wise/Brain/Data/all_vcf_subfolders/Folder_9/b6cdb961-42b2-489f-a59e-8c8b892cca04_wgs_gdc_realn.vcf.gz'\n"
     ]
    },
    {
     "name": "stdout",
     "output_type": "stream",
     "text": [
      "Processing TCGA-06-0188\n",
      "['INDEL', 'IDV', 'IMF', 'DP', 'VDB', 'RPBZ', 'MQBZ', 'BQBZ', 'MQSBZ', 'SCBZ', 'SGB', 'MQ0F', 'AC', 'AN', 'DP4', 'MQ']\n"
     ]
    },
    {
     "name": "stderr",
     "output_type": "stream",
     "text": [
      "[E::idx_find_and_load] Could not retrieve index file for '/data/projects/GDC_Cancer_Wise/Brain/Data/all_vcf_subfolders/Folder_5/9b23926e-50e1-4208-91c6-00fbc059cc20_wgs_gdc_realn.vcf.gz'\n"
     ]
    },
    {
     "name": "stdout",
     "output_type": "stream",
     "text": [
      "['INDEL', 'IDV', 'IMF', 'DP', 'VDB', 'RPBZ', 'MQBZ', 'BQBZ', 'MQSBZ', 'SCBZ', 'SGB', 'MQ0F', 'AC', 'AN', 'DP4', 'MQ']\n"
     ]
    },
    {
     "name": "stderr",
     "output_type": "stream",
     "text": [
      "[E::idx_find_and_load] Could not retrieve index file for '/data/projects/GDC_Cancer_Wise/Brain/Data/all_vcf_subfolders/Folder_2/2f238cf2-7011-4031-9d77-c24190b93ae7_wgs_gdc_realn.vcf.gz'\n"
     ]
    },
    {
     "name": "stdout",
     "output_type": "stream",
     "text": [
      "Processing TCGA-06-0190\n",
      "['INDEL', 'IDV', 'IMF', 'DP', 'VDB', 'RPBZ', 'MQBZ', 'BQBZ', 'MQSBZ', 'SCBZ', 'SGB', 'MQ0F', 'AC', 'AN', 'DP4', 'MQ']\n"
     ]
    },
    {
     "name": "stderr",
     "output_type": "stream",
     "text": [
      "[E::idx_find_and_load] Could not retrieve index file for '/data/projects/GDC_Cancer_Wise/Brain/Data/all_vcf_subfolders/Folder_9/ef89da1c-e378-418d-b3e8-e15d3bbb309e_wgs_gdc_realn.vcf.gz'\n"
     ]
    },
    {
     "name": "stdout",
     "output_type": "stream",
     "text": [
      "['INDEL', 'IDV', 'IMF', 'DP', 'VDB', 'RPBZ', 'MQBZ', 'BQBZ', 'MQSBZ', 'SCBZ', 'SGB', 'MQ0F', 'AC', 'AN', 'DP4', 'MQ']\n"
     ]
    },
    {
     "name": "stderr",
     "output_type": "stream",
     "text": [
      "[E::idx_find_and_load] Could not retrieve index file for '/data/projects/GDC_Cancer_Wise/Brain/Data/all_vcf_subfolders/Folder_10/640afbf7-7886-4a29-9505-dcf36b611a05_wgs_gdc_realn.vcf.gz'\n"
     ]
    },
    {
     "name": "stdout",
     "output_type": "stream",
     "text": [
      "['INDEL', 'IDV', 'IMF', 'DP', 'VDB', 'RPBZ', 'MQBZ', 'BQBZ', 'MQSBZ', 'SCBZ', 'SGB', 'MQ0F', 'AC', 'AN', 'DP4', 'MQ']\n"
     ]
    },
    {
     "name": "stderr",
     "output_type": "stream",
     "text": [
      "[E::idx_find_and_load] Could not retrieve index file for '/data/projects/GDC_Cancer_Wise/Brain/Data/all_vcf_subfolders/Folder_1/c065761d-f775-457f-bda0-4c7c257a701e_wgs_gdc_realn.vcf.gz'\n"
     ]
    },
    {
     "name": "stdout",
     "output_type": "stream",
     "text": [
      "Processing TCGA-06-0208\n",
      "['INDEL', 'IDV', 'IMF', 'DP', 'VDB', 'RPBZ', 'MQBZ', 'BQBZ', 'MQSBZ', 'SCBZ', 'SGB', 'MQ0F', 'AC', 'AN', 'DP4', 'MQ']\n"
     ]
    },
    {
     "name": "stderr",
     "output_type": "stream",
     "text": [
      "[E::idx_find_and_load] Could not retrieve index file for '/data/projects/GDC_Cancer_Wise/Brain/Data/all_vcf_subfolders/Folder_2/a5e9c1b9-ab5a-4f96-919a-7a83c382e0a6_wgs_gdc_realn.vcf.gz'\n"
     ]
    },
    {
     "name": "stdout",
     "output_type": "stream",
     "text": [
      "Processing TCGA-06-0210\n",
      "['INDEL', 'IDV', 'IMF', 'DP', 'VDB', 'RPBZ', 'MQBZ', 'BQBZ', 'MQSBZ', 'SCBZ', 'SGB', 'MQ0F', 'AC', 'AN', 'DP4', 'MQ']\n"
     ]
    },
    {
     "name": "stderr",
     "output_type": "stream",
     "text": [
      "[E::idx_find_and_load] Could not retrieve index file for '/data/projects/GDC_Cancer_Wise/Brain/Data/all_vcf_subfolders/Folder_4/4e2a4226-999f-4cca-bf37-17d54b7f8a96_wgs_gdc_realn.vcf.gz'\n"
     ]
    },
    {
     "name": "stdout",
     "output_type": "stream",
     "text": [
      "['INDEL', 'IDV', 'IMF', 'DP', 'VDB', 'RPBZ', 'MQBZ', 'BQBZ', 'MQSBZ', 'SCBZ', 'SGB', 'MQ0F', 'AC', 'AN', 'DP4', 'MQ']\n"
     ]
    },
    {
     "name": "stderr",
     "output_type": "stream",
     "text": [
      "[E::idx_find_and_load] Could not retrieve index file for '/data/projects/GDC_Cancer_Wise/Brain/Data/all_vcf_subfolders/Folder_4/b60392fb-43d9-4c9c-b91b-ded40492e61c_wgs_gdc_realn.vcf.gz'\n"
     ]
    },
    {
     "name": "stdout",
     "output_type": "stream",
     "text": [
      "['INDEL', 'IDV', 'IMF', 'DP', 'VDB', 'RPBZ', 'MQBZ', 'BQBZ', 'MQSBZ', 'SCBZ', 'SGB', 'MQ0F', 'AC', 'AN', 'DP4', 'MQ']\n"
     ]
    },
    {
     "name": "stderr",
     "output_type": "stream",
     "text": [
      "[E::idx_find_and_load] Could not retrieve index file for '/data/projects/GDC_Cancer_Wise/Brain/Data/all_vcf_subfolders/Folder_7/e362f533-5394-4e4a-9e4a-375ffc5f427b_wgs_gdc_realn.vcf.gz'\n"
     ]
    },
    {
     "name": "stdout",
     "output_type": "stream",
     "text": [
      "Processing TCGA-06-0211\n",
      "['INDEL', 'IDV', 'IMF', 'DP', 'VDB', 'RPBZ', 'MQBZ', 'BQBZ', 'MQSBZ', 'SCBZ', 'SGB', 'MQ0F', 'AC', 'AN', 'DP4', 'MQ']\n"
     ]
    },
    {
     "name": "stderr",
     "output_type": "stream",
     "text": [
      "[E::idx_find_and_load] Could not retrieve index file for '/data/projects/GDC_Cancer_Wise/Brain/Data/all_vcf_subfolders/Folder_10/ebf97220-6d4d-4016-bae3-ec279144c19d_wgs_gdc_realn.vcf.gz'\n"
     ]
    },
    {
     "name": "stdout",
     "output_type": "stream",
     "text": [
      "['INDEL', 'IDV', 'IMF', 'DP', 'VDB', 'RPBZ', 'MQBZ', 'BQBZ', 'MQSBZ', 'SCBZ', 'SGB', 'MQ0F', 'AC', 'AN', 'DP4', 'MQ']\n"
     ]
    },
    {
     "name": "stderr",
     "output_type": "stream",
     "text": [
      "[E::idx_find_and_load] Could not retrieve index file for '/data/projects/GDC_Cancer_Wise/Brain/Data/all_vcf_subfolders/Folder_6/3914c02e-44ad-4c96-8464-61aa95b42c49_wgs_gdc_realn.vcf.gz'\n"
     ]
    },
    {
     "name": "stdout",
     "output_type": "stream",
     "text": [
      "Processing TCGA-06-0214\n",
      "['INDEL', 'IDV', 'IMF', 'DP', 'VDB', 'RPBZ', 'MQBZ', 'BQBZ', 'MQSBZ', 'SCBZ', 'SGB', 'MQ0F', 'AC', 'AN', 'DP4', 'MQ']\n"
     ]
    },
    {
     "name": "stderr",
     "output_type": "stream",
     "text": [
      "[E::idx_find_and_load] Could not retrieve index file for '/data/projects/GDC_Cancer_Wise/Brain/Data/all_vcf_subfolders/Folder_5/abbf3618-7f5a-4471-9096-b16e1435122e_wgs_gdc_realn.vcf.gz'\n"
     ]
    },
    {
     "name": "stdout",
     "output_type": "stream",
     "text": [
      "['INDEL', 'IDV', 'IMF', 'DP', 'VDB', 'RPBZ', 'MQBZ', 'BQBZ', 'MQSBZ', 'SCBZ', 'SGB', 'MQ0F', 'AC', 'AN', 'DP4', 'MQ']\n"
     ]
    },
    {
     "name": "stderr",
     "output_type": "stream",
     "text": [
      "[E::idx_find_and_load] Could not retrieve index file for '/data/projects/GDC_Cancer_Wise/Brain/Data/all_vcf_subfolders/Folder_6/da484194-5996-4456-a465-de7891d9aaf3_wgs_gdc_realn.vcf.gz'\n"
     ]
    },
    {
     "name": "stdout",
     "output_type": "stream",
     "text": [
      "['INDEL', 'IDV', 'IMF', 'DP', 'VDB', 'RPBZ', 'MQBZ', 'BQBZ', 'MQSBZ', 'SCBZ', 'SGB', 'MQ0F', 'AC', 'AN', 'DP4', 'MQ']\n"
     ]
    },
    {
     "name": "stderr",
     "output_type": "stream",
     "text": [
      "[E::idx_find_and_load] Could not retrieve index file for '/data/projects/GDC_Cancer_Wise/Brain/Data/all_vcf_subfolders/Folder_2/08ac57ec-0036-4134-a9bb-f22eaa27ab0d_wgs_gdc_realn.vcf.gz'\n"
     ]
    },
    {
     "name": "stdout",
     "output_type": "stream",
     "text": [
      "['INDEL', 'IDV', 'IMF', 'DP', 'VDB', 'RPBZ', 'MQBZ', 'BQBZ', 'MQSBZ', 'SCBZ', 'SGB', 'MQ0F', 'AC', 'AN', 'DP4', 'MQ']\n"
     ]
    },
    {
     "name": "stderr",
     "output_type": "stream",
     "text": [
      "[E::idx_find_and_load] Could not retrieve index file for '/data/projects/GDC_Cancer_Wise/Brain/Data/all_vcf_subfolders/Folder_9/fc3f70c0-3e8f-4146-a308-8a71cb1031a0_wgs_gdc_realn.vcf.gz'\n"
     ]
    },
    {
     "name": "stdout",
     "output_type": "stream",
     "text": [
      "['INDEL', 'IDV', 'IMF', 'DP', 'VDB', 'RPBZ', 'MQBZ', 'BQBZ', 'MQSBZ', 'SCBZ', 'SGB', 'MQ0F', 'AC', 'AN', 'DP4', 'MQ']\n"
     ]
    },
    {
     "name": "stderr",
     "output_type": "stream",
     "text": [
      "[E::idx_find_and_load] Could not retrieve index file for '/data/projects/GDC_Cancer_Wise/Brain/Data/all_vcf_subfolders/Folder_6/da484194-5996-4456-a465-de7891d9aaf3_wgs_gdc_realn.vcf.gz'\n"
     ]
    },
    {
     "name": "stdout",
     "output_type": "stream",
     "text": [
      "['INDEL', 'IDV', 'IMF', 'DP', 'VDB', 'RPBZ', 'MQBZ', 'BQBZ', 'MQSBZ', 'SCBZ', 'SGB', 'MQ0F', 'AC', 'AN', 'DP4', 'MQ']\n"
     ]
    },
    {
     "name": "stderr",
     "output_type": "stream",
     "text": [
      "[E::idx_find_and_load] Could not retrieve index file for '/data/projects/GDC_Cancer_Wise/Brain/Data/all_vcf_subfolders/Folder_2/08ac57ec-0036-4134-a9bb-f22eaa27ab0d_wgs_gdc_realn.vcf.gz'\n"
     ]
    },
    {
     "name": "stdout",
     "output_type": "stream",
     "text": [
      "Processing TCGA-06-0221\n",
      "['INDEL', 'IDV', 'IMF', 'DP', 'VDB', 'RPBZ', 'MQBZ', 'BQBZ', 'MQSBZ', 'SCBZ', 'SGB', 'MQ0F', 'AC', 'AN', 'DP4', 'MQ']\n"
     ]
    },
    {
     "name": "stderr",
     "output_type": "stream",
     "text": [
      "[E::idx_find_and_load] Could not retrieve index file for '/data/projects/GDC_Cancer_Wise/Brain/Data/all_vcf_subfolders/Folder_5/a4c7209a-8b5a-4a37-9a1b-5502d941f54b_wgs_gdc_realn.vcf.gz'\n"
     ]
    },
    {
     "name": "stdout",
     "output_type": "stream",
     "text": [
      "['INDEL', 'IDV', 'IMF', 'DP', 'VDB', 'RPBZ', 'MQBZ', 'BQBZ', 'MQSBZ', 'SCBZ', 'SGB', 'MQ0F', 'AC', 'AN', 'DP4', 'MQ']\n"
     ]
    },
    {
     "name": "stderr",
     "output_type": "stream",
     "text": [
      "[E::idx_find_and_load] Could not retrieve index file for '/data/projects/GDC_Cancer_Wise/Brain/Data/all_vcf_subfolders/Folder_4/96cba715-cef0-4e39-92d5-4dec27e83f1a_wgs_gdc_realn.vcf.gz'\n"
     ]
    },
    {
     "name": "stdout",
     "output_type": "stream",
     "text": [
      "['INDEL', 'IDV', 'IMF', 'DP', 'VDB', 'RPBZ', 'MQBZ', 'BQBZ', 'MQSBZ', 'SCBZ', 'SGB', 'MQ0F', 'AC', 'AN', 'DP4', 'MQ']\n"
     ]
    },
    {
     "name": "stderr",
     "output_type": "stream",
     "text": [
      "[E::idx_find_and_load] Could not retrieve index file for '/data/projects/GDC_Cancer_Wise/Brain/Data/all_vcf_subfolders/Folder_6/b2d17671-d2e1-4c97-8b01-a976d5abe1d6_wgs_gdc_realn.vcf.gz'\n"
     ]
    },
    {
     "name": "stdout",
     "output_type": "stream",
     "text": [
      "Processing TCGA-06-0648\n",
      "['INDEL', 'IDV', 'IMF', 'DP', 'VDB', 'RPBZ', 'MQBZ', 'BQBZ', 'MQSBZ', 'SCBZ', 'SGB', 'MQ0F', 'AC', 'AN', 'DP4', 'MQ']\n"
     ]
    },
    {
     "name": "stderr",
     "output_type": "stream",
     "text": [
      "[E::idx_find_and_load] Could not retrieve index file for '/data/projects/GDC_Cancer_Wise/Brain/Data/all_vcf_subfolders/Folder_9/0105bc7d-a1cd-44d1-b533-b47a9781c0a5_wgs_gdc_realn.vcf.gz'\n"
     ]
    },
    {
     "name": "stdout",
     "output_type": "stream",
     "text": [
      "['INDEL', 'IDV', 'IMF', 'DP', 'VDB', 'RPBZ', 'MQBZ', 'BQBZ', 'MQSBZ', 'SCBZ', 'SGB', 'MQ0F', 'AC', 'AN', 'DP4', 'MQ']\n"
     ]
    },
    {
     "name": "stderr",
     "output_type": "stream",
     "text": [
      "[E::idx_find_and_load] Could not retrieve index file for '/data/projects/GDC_Cancer_Wise/Brain/Data/all_vcf_subfolders/Folder_1/7678c0f3-0971-4d88-b3ef-841e1c10d671_wgs_gdc_realn.vcf.gz'\n"
     ]
    },
    {
     "name": "stdout",
     "output_type": "stream",
     "text": [
      "Processing TCGA-06-0686\n",
      "['INDEL', 'IDV', 'IMF', 'DP', 'VDB', 'RPBZ', 'MQBZ', 'BQBZ', 'MQSBZ', 'SCBZ', 'SGB', 'MQ0F', 'AC', 'AN', 'DP4', 'MQ']\n"
     ]
    },
    {
     "name": "stderr",
     "output_type": "stream",
     "text": [
      "[E::idx_find_and_load] Could not retrieve index file for '/data/projects/GDC_Cancer_Wise/Brain/Data/all_vcf_subfolders/Folder_6/62ef1446-019c-4251-8585-792ccc40eed2_wgs_gdc_realn.vcf.gz'\n"
     ]
    },
    {
     "name": "stdout",
     "output_type": "stream",
     "text": [
      "['INDEL', 'IDV', 'IMF', 'DP', 'VDB', 'RPBZ', 'MQBZ', 'BQBZ', 'MQSBZ', 'SCBZ', 'SGB', 'MQ0F', 'AC', 'AN', 'DP4', 'MQ']\n"
     ]
    },
    {
     "name": "stderr",
     "output_type": "stream",
     "text": [
      "[E::idx_find_and_load] Could not retrieve index file for '/data/projects/GDC_Cancer_Wise/Brain/Data/all_vcf_subfolders/Folder_5/2c71d542-1653-4d97-8752-f2fd05c7e75d_wgs_gdc_realn.vcf.gz'\n"
     ]
    },
    {
     "name": "stdout",
     "output_type": "stream",
     "text": [
      "Processing TCGA-06-0744\n",
      "['INDEL', 'IDV', 'IMF', 'DP', 'VDB', 'RPBZ', 'MQBZ', 'BQBZ', 'MQSBZ', 'SCBZ', 'SGB', 'MQ0F', 'AC', 'AN', 'DP4', 'MQ']\n"
     ]
    },
    {
     "name": "stderr",
     "output_type": "stream",
     "text": [
      "[E::idx_find_and_load] Could not retrieve index file for '/data/projects/GDC_Cancer_Wise/Brain/Data/all_vcf_subfolders/Folder_2/fc7bb1b6-6b1d-4a79-a634-0b0e28450b26_wgs_gdc_realn.vcf.gz'\n"
     ]
    },
    {
     "name": "stdout",
     "output_type": "stream",
     "text": [
      "['INDEL', 'IDV', 'IMF', 'DP', 'VDB', 'RPBZ', 'MQBZ', 'BQBZ', 'MQSBZ', 'SCBZ', 'SGB', 'MQ0F', 'AC', 'AN', 'DP4', 'MQ']\n"
     ]
    },
    {
     "name": "stderr",
     "output_type": "stream",
     "text": [
      "[E::idx_find_and_load] Could not retrieve index file for '/data/projects/GDC_Cancer_Wise/Brain/Data/all_vcf_subfolders/Folder_5/914421d2-898e-433e-bb66-b1710eaae2c7_wgs_gdc_realn.vcf.gz'\n"
     ]
    },
    {
     "name": "stdout",
     "output_type": "stream",
     "text": [
      "Processing TCGA-06-0745\n",
      "['INDEL', 'IDV', 'IMF', 'DP', 'VDB', 'RPBZ', 'MQBZ', 'BQBZ', 'MQSBZ', 'SCBZ', 'SGB', 'MQ0F', 'AC', 'AN', 'DP4', 'MQ']\n"
     ]
    },
    {
     "name": "stderr",
     "output_type": "stream",
     "text": [
      "[E::idx_find_and_load] Could not retrieve index file for '/data/projects/GDC_Cancer_Wise/Brain/Data/all_vcf_subfolders/Folder_3/8e127a6b-b083-4907-95ff-899fb664e36b_wgs_gdc_realn.vcf.gz'\n"
     ]
    },
    {
     "name": "stdout",
     "output_type": "stream",
     "text": [
      "['INDEL', 'IDV', 'IMF', 'DP', 'VDB', 'RPBZ', 'MQBZ', 'BQBZ', 'MQSBZ', 'SCBZ', 'SGB', 'MQ0F', 'AC', 'AN', 'DP4', 'MQ']\n"
     ]
    },
    {
     "name": "stderr",
     "output_type": "stream",
     "text": [
      "[E::idx_find_and_load] Could not retrieve index file for '/data/projects/GDC_Cancer_Wise/Brain/Data/all_vcf_subfolders/Folder_4/41d50a3c-49fc-4d8a-9c25-bbbcd3a5da6f_wgs_gdc_realn.vcf.gz'\n"
     ]
    },
    {
     "name": "stdout",
     "output_type": "stream",
     "text": [
      "Processing TCGA-06-0877\n",
      "['INDEL', 'IDV', 'IMF', 'DP', 'VDB', 'RPBZ', 'MQBZ', 'BQBZ', 'MQSBZ', 'SCBZ', 'SGB', 'MQ0F', 'AC', 'AN', 'DP4', 'MQ']\n"
     ]
    },
    {
     "name": "stderr",
     "output_type": "stream",
     "text": [
      "[E::idx_find_and_load] Could not retrieve index file for '/data/projects/GDC_Cancer_Wise/Brain/Data/all_vcf_subfolders/Folder_5/6ffb29c5-caf6-448e-b3d6-72556ba86f8f_wgs_gdc_realn.vcf.gz'\n"
     ]
    },
    {
     "name": "stdout",
     "output_type": "stream",
     "text": [
      "['INDEL', 'IDV', 'IMF', 'DP', 'VDB', 'RPBZ', 'MQBZ', 'BQBZ', 'MQSBZ', 'SCBZ', 'SGB', 'MQ0F', 'AC', 'AN', 'DP4', 'MQ']\n"
     ]
    },
    {
     "name": "stderr",
     "output_type": "stream",
     "text": [
      "[E::idx_find_and_load] Could not retrieve index file for '/data/projects/GDC_Cancer_Wise/Brain/Data/all_vcf_subfolders/Folder_10/ba2920a9-1bfd-4f6c-80cf-4fd0dda2118a_wgs_gdc_realn.vcf.gz'\n"
     ]
    },
    {
     "name": "stdout",
     "output_type": "stream",
     "text": [
      "Processing TCGA-06-0881\n",
      "['INDEL', 'IDV', 'IMF', 'DP', 'VDB', 'RPBZ', 'MQBZ', 'BQBZ', 'MQSBZ', 'SCBZ', 'SGB', 'MQ0F', 'AC', 'AN', 'DP4', 'MQ']\n"
     ]
    },
    {
     "name": "stderr",
     "output_type": "stream",
     "text": [
      "[E::idx_find_and_load] Could not retrieve index file for '/data/projects/GDC_Cancer_Wise/Brain/Data/all_vcf_subfolders/Folder_8/6050f994-f394-4c1c-93ce-d36733aa9ae9_wgs_gdc_realn.vcf.gz'\n"
     ]
    },
    {
     "name": "stdout",
     "output_type": "stream",
     "text": [
      "['INDEL', 'IDV', 'IMF', 'DP', 'VDB', 'RPBZ', 'MQBZ', 'BQBZ', 'MQSBZ', 'SCBZ', 'SGB', 'MQ0F', 'AC', 'AN', 'DP4', 'MQ']\n"
     ]
    },
    {
     "name": "stderr",
     "output_type": "stream",
     "text": [
      "[E::idx_find_and_load] Could not retrieve index file for '/data/projects/GDC_Cancer_Wise/Brain/Data/all_vcf_subfolders/Folder_9/8480db03-e875-41ac-a259-18698317f45a_wgs_gdc_realn.vcf.gz'\n"
     ]
    },
    {
     "name": "stdout",
     "output_type": "stream",
     "text": [
      "Processing TCGA-06-1086\n",
      "['INDEL', 'IDV', 'IMF', 'DP', 'VDB', 'RPBZ', 'MQBZ', 'BQBZ', 'MQSBZ', 'SCBZ', 'SGB', 'MQ0F', 'AC', 'AN', 'DP4', 'MQ']\n"
     ]
    },
    {
     "name": "stderr",
     "output_type": "stream",
     "text": [
      "[E::idx_find_and_load] Could not retrieve index file for '/data/projects/GDC_Cancer_Wise/Brain/Data/all_vcf_subfolders/Folder_1/d85192d7-683f-4214-b8de-ae2e4ff2405c_wgs_gdc_realn.vcf.gz'\n"
     ]
    },
    {
     "name": "stdout",
     "output_type": "stream",
     "text": [
      "['INDEL', 'IDV', 'IMF', 'DP', 'VDB', 'RPBZ', 'MQBZ', 'BQBZ', 'MQSBZ', 'SCBZ', 'SGB', 'MQ0F', 'AC', 'AN', 'DP4', 'MQ']\n"
     ]
    },
    {
     "name": "stderr",
     "output_type": "stream",
     "text": [
      "[E::idx_find_and_load] Could not retrieve index file for '/data/projects/GDC_Cancer_Wise/Brain/Data/all_vcf_subfolders/Folder_5/25bee010-cc99-4af0-ba2f-fe4dd308be33_wgs_gdc_realn.vcf.gz'\n"
     ]
    },
    {
     "name": "stdout",
     "output_type": "stream",
     "text": [
      "Processing TCGA-06-2557\n",
      "['INDEL', 'IDV', 'IMF', 'DP', 'VDB', 'RPBZ', 'MQBZ', 'BQBZ', 'MQSBZ', 'SCBZ', 'SGB', 'MQ0F', 'AC', 'AN', 'DP4', 'MQ']\n"
     ]
    },
    {
     "name": "stderr",
     "output_type": "stream",
     "text": [
      "[E::idx_find_and_load] Could not retrieve index file for '/data/projects/GDC_Cancer_Wise/Brain/Data/all_vcf_subfolders/Folder_5/7113eb4c-ea48-40a8-b75f-ed5df7b04ff0_wgs_gdc_realn.vcf.gz'\n"
     ]
    },
    {
     "name": "stdout",
     "output_type": "stream",
     "text": [
      "['INDEL', 'IDV', 'IMF', 'DP', 'VDB', 'RPBZ', 'MQBZ', 'BQBZ', 'MQSBZ', 'SCBZ', 'SGB', 'MQ0F', 'AC', 'AN', 'DP4', 'MQ']\n"
     ]
    },
    {
     "name": "stderr",
     "output_type": "stream",
     "text": [
      "[E::idx_find_and_load] Could not retrieve index file for '/data/projects/GDC_Cancer_Wise/Brain/Data/all_vcf_subfolders/Folder_1/c27290e4-6835-448a-abdc-df8ddd5f4630_wgs_gdc_realn.vcf.gz'\n"
     ]
    },
    {
     "name": "stdout",
     "output_type": "stream",
     "text": [
      "Processing TCGA-06-2570\n",
      "['INDEL', 'IDV', 'IMF', 'DP', 'VDB', 'RPBZ', 'MQBZ', 'BQBZ', 'MQSBZ', 'SCBZ', 'SGB', 'MQ0F', 'AC', 'AN', 'DP4', 'MQ']\n"
     ]
    },
    {
     "name": "stderr",
     "output_type": "stream",
     "text": [
      "[E::idx_find_and_load] Could not retrieve index file for '/data/projects/GDC_Cancer_Wise/Brain/Data/all_vcf_subfolders/Folder_10/abef86c9-df6a-477e-99e9-b8d2ac0641d0_wgs_gdc_realn.vcf.gz'\n"
     ]
    },
    {
     "name": "stdout",
     "output_type": "stream",
     "text": [
      "['INDEL', 'IDV', 'IMF', 'DP', 'VDB', 'RPBZ', 'MQBZ', 'BQBZ', 'MQSBZ', 'SCBZ', 'SGB', 'MQ0F', 'AC', 'AN', 'DP4', 'MQ']\n"
     ]
    },
    {
     "name": "stderr",
     "output_type": "stream",
     "text": [
      "[E::idx_find_and_load] Could not retrieve index file for '/data/projects/GDC_Cancer_Wise/Brain/Data/all_vcf_subfolders/Folder_4/04339769-517c-448d-a7ca-951f83608c60_wgs_gdc_realn.vcf.gz'\n"
     ]
    },
    {
     "name": "stdout",
     "output_type": "stream",
     "text": [
      "Processing TCGA-06-5411\n",
      "['INDEL', 'IDV', 'IMF', 'DP', 'VDB', 'RPBZ', 'MQBZ', 'BQBZ', 'MQSBZ', 'SCBZ', 'SGB', 'MQ0F', 'AC', 'AN', 'DP4', 'MQ']\n"
     ]
    },
    {
     "name": "stderr",
     "output_type": "stream",
     "text": [
      "[E::idx_find_and_load] Could not retrieve index file for '/data/projects/GDC_Cancer_Wise/Brain/Data/all_vcf_subfolders/Folder_10/0f88c693-5a30-43b1-be9e-c96a791d984c_wgs_gdc_realn.vcf.gz'\n"
     ]
    },
    {
     "name": "stdout",
     "output_type": "stream",
     "text": [
      "['INDEL', 'IDV', 'IMF', 'DP', 'VDB', 'RPBZ', 'MQBZ', 'BQBZ', 'MQSBZ', 'SCBZ', 'SGB', 'MQ0F', 'AC', 'AN', 'DP4', 'MQ']\n"
     ]
    },
    {
     "name": "stderr",
     "output_type": "stream",
     "text": [
      "[E::idx_find_and_load] Could not retrieve index file for '/data/projects/GDC_Cancer_Wise/Brain/Data/all_vcf_subfolders/Folder_7/2fdab641-d73b-4f9a-aa4c-c1944f131a69_wgs_gdc_realn.vcf.gz'\n"
     ]
    },
    {
     "name": "stdout",
     "output_type": "stream",
     "text": [
      "Processing TCGA-06-5415\n",
      "['INDEL', 'IDV', 'IMF', 'DP', 'VDB', 'RPBZ', 'MQBZ', 'BQBZ', 'MQSBZ', 'SCBZ', 'SGB', 'MQ0F', 'AC', 'AN', 'DP4', 'MQ']\n"
     ]
    },
    {
     "name": "stderr",
     "output_type": "stream",
     "text": [
      "[E::idx_find_and_load] Could not retrieve index file for '/data/projects/GDC_Cancer_Wise/Brain/Data/all_vcf_subfolders/Folder_7/e09e94f5-bd10-4523-bc83-d441a285c37c_wgs_gdc_realn.vcf.gz'\n"
     ]
    },
    {
     "name": "stdout",
     "output_type": "stream",
     "text": [
      "['INDEL', 'IDV', 'IMF', 'DP', 'VDB', 'RPBZ', 'MQBZ', 'BQBZ', 'MQSBZ', 'SCBZ', 'SGB', 'MQ0F', 'AC', 'AN', 'DP4', 'MQ']\n"
     ]
    },
    {
     "name": "stderr",
     "output_type": "stream",
     "text": [
      "[E::idx_find_and_load] Could not retrieve index file for '/data/projects/GDC_Cancer_Wise/Brain/Data/all_vcf_subfolders/Folder_6/fca08ee9-b480-4dc7-be56-f1eb03b56f7c_wgs_gdc_realn.vcf.gz'\n"
     ]
    },
    {
     "name": "stdout",
     "output_type": "stream",
     "text": [
      "Processing TCGA-14-0786\n",
      "['INDEL', 'IDV', 'IMF', 'DP', 'VDB', 'RPBZ', 'MQBZ', 'BQBZ', 'MQSBZ', 'SCBZ', 'SGB', 'MQ0F', 'AC', 'AN', 'DP4', 'MQ']\n"
     ]
    },
    {
     "name": "stderr",
     "output_type": "stream",
     "text": [
      "[E::idx_find_and_load] Could not retrieve index file for '/data/projects/GDC_Cancer_Wise/Brain/Data/all_vcf_subfolders/Folder_4/e8114ae7-e076-44ca-b2bb-b6c3629b53b0_wgs_gdc_realn.vcf.gz'\n"
     ]
    },
    {
     "name": "stdout",
     "output_type": "stream",
     "text": [
      "['INDEL', 'IDV', 'IMF', 'DP', 'VDB', 'RPBZ', 'MQBZ', 'BQBZ', 'MQSBZ', 'SCBZ', 'SGB', 'MQ0F', 'AC', 'AN', 'DP4', 'MQ']\n"
     ]
    },
    {
     "name": "stderr",
     "output_type": "stream",
     "text": [
      "[E::idx_find_and_load] Could not retrieve index file for '/data/projects/GDC_Cancer_Wise/Brain/Data/all_vcf_subfolders/Folder_4/96ef40c3-8d4c-4fe1-a33a-99f5b205a0bb_wgs_gdc_realn.vcf.gz'\n"
     ]
    },
    {
     "name": "stdout",
     "output_type": "stream",
     "text": [
      "['INDEL', 'IDV', 'IMF', 'DP', 'VDB', 'RPBZ', 'MQBZ', 'BQBZ', 'MQSBZ', 'SCBZ', 'SGB', 'MQ0F', 'AC', 'AN', 'DP4', 'MQ']\n"
     ]
    },
    {
     "name": "stderr",
     "output_type": "stream",
     "text": [
      "[E::idx_find_and_load] Could not retrieve index file for '/data/projects/GDC_Cancer_Wise/Brain/Data/all_vcf_subfolders/Folder_4/b73cfd2e-044f-4b41-b404-080d9d18e61d_wgs_gdc_realn.vcf.gz'\n"
     ]
    },
    {
     "name": "stdout",
     "output_type": "stream",
     "text": [
      "Processing TCGA-14-1034\n",
      "['INDEL', 'IDV', 'IMF', 'DP', 'VDB', 'RPBZ', 'MQBZ', 'BQBZ', 'MQSBZ', 'SCBZ', 'SGB', 'MQ0F', 'AC', 'AN', 'DP4', 'MQ']\n"
     ]
    },
    {
     "name": "stderr",
     "output_type": "stream",
     "text": [
      "[E::idx_find_and_load] Could not retrieve index file for '/data/projects/GDC_Cancer_Wise/Brain/Data/all_vcf_subfolders/Folder_9/bfb563cb-42cd-417a-8e69-96c23c514170_wgs_gdc_realn.vcf.gz'\n"
     ]
    },
    {
     "name": "stdout",
     "output_type": "stream",
     "text": [
      "['INDEL', 'IDV', 'IMF', 'DP', 'VDB', 'RPBZ', 'MQBZ', 'BQBZ', 'MQSBZ', 'SCBZ', 'SGB', 'MQ0F', 'AC', 'AN', 'DP4', 'MQ']\n"
     ]
    },
    {
     "name": "stderr",
     "output_type": "stream",
     "text": [
      "[E::idx_find_and_load] Could not retrieve index file for '/data/projects/GDC_Cancer_Wise/Brain/Data/all_vcf_subfolders/Folder_6/7cae6c0b-36fe-411b-bbba-093a4c846d84_wgs_gdc_realn.vcf.gz'\n"
     ]
    },
    {
     "name": "stdout",
     "output_type": "stream",
     "text": [
      "Processing TCGA-14-1401\n",
      "['INDEL', 'IDV', 'IMF', 'DP', 'VDB', 'RPBZ', 'MQBZ', 'BQBZ', 'MQSBZ', 'SCBZ', 'SGB', 'MQ0F', 'AC', 'AN', 'DP4', 'MQ']\n"
     ]
    },
    {
     "name": "stderr",
     "output_type": "stream",
     "text": [
      "[E::idx_find_and_load] Could not retrieve index file for '/data/projects/GDC_Cancer_Wise/Brain/Data/all_vcf_subfolders/Folder_7/2ef2436e-61a2-4f90-bf16-606babecabb3_wgs_gdc_realn.vcf.gz'\n"
     ]
    },
    {
     "name": "stdout",
     "output_type": "stream",
     "text": [
      "['INDEL', 'IDV', 'IMF', 'DP', 'VDB', 'RPBZ', 'MQBZ', 'BQBZ', 'MQSBZ', 'SCBZ', 'SGB', 'MQ0F', 'AC', 'AN', 'DP4', 'MQ']\n"
     ]
    },
    {
     "name": "stderr",
     "output_type": "stream",
     "text": [
      "[E::idx_find_and_load] Could not retrieve index file for '/data/projects/GDC_Cancer_Wise/Brain/Data/all_vcf_subfolders/Folder_3/36bc0811-adfe-4f8f-a1d3-b62eac535263_wgs_gdc_realn.vcf.gz'\n"
     ]
    },
    {
     "name": "stdout",
     "output_type": "stream",
     "text": [
      "Processing TCGA-14-1402\n",
      "['INDEL', 'IDV', 'IMF', 'DP', 'VDB', 'RPBZ', 'MQBZ', 'BQBZ', 'MQSBZ', 'SCBZ', 'SGB', 'MQ0F', 'AC', 'AN', 'DP4', 'MQ']\n"
     ]
    },
    {
     "name": "stderr",
     "output_type": "stream",
     "text": [
      "[E::idx_find_and_load] Could not retrieve index file for '/data/projects/GDC_Cancer_Wise/Brain/Data/all_vcf_subfolders/Folder_1/0d9bbe68-41a0-488a-b5ee-8edbb6dcfd63_wgs_gdc_realn.vcf.gz'\n"
     ]
    },
    {
     "name": "stdout",
     "output_type": "stream",
     "text": [
      "['INDEL', 'IDV', 'IMF', 'DP', 'VDB', 'RPBZ', 'MQBZ', 'BQBZ', 'MQSBZ', 'SCBZ', 'SGB', 'MQ0F', 'AC', 'AN', 'DP4', 'MQ']\n"
     ]
    },
    {
     "name": "stderr",
     "output_type": "stream",
     "text": [
      "[E::idx_find_and_load] Could not retrieve index file for '/data/projects/GDC_Cancer_Wise/Brain/Data/all_vcf_subfolders/Folder_6/f98de26b-c7d6-435d-81fa-1f1869da9087_wgs_gdc_realn.vcf.gz'\n"
     ]
    },
    {
     "name": "stdout",
     "output_type": "stream",
     "text": [
      "['INDEL', 'IDV', 'IMF', 'DP', 'VDB', 'RPBZ', 'MQBZ', 'BQBZ', 'MQSBZ', 'SCBZ', 'SGB', 'MQ0F', 'AC', 'AN', 'DP4', 'MQ']\n"
     ]
    },
    {
     "name": "stderr",
     "output_type": "stream",
     "text": [
      "[E::idx_find_and_load] Could not retrieve index file for '/data/projects/GDC_Cancer_Wise/Brain/Data/all_vcf_subfolders/Folder_1/6fee80f8-11cb-4de7-aded-e586708d2368_wgs_gdc_realn.vcf.gz'\n"
     ]
    },
    {
     "name": "stdout",
     "output_type": "stream",
     "text": [
      "Processing TCGA-14-1454\n",
      "['INDEL', 'IDV', 'IMF', 'DP', 'VDB', 'RPBZ', 'MQBZ', 'BQBZ', 'MQSBZ', 'SCBZ', 'SGB', 'MQ0F', 'AC', 'AN', 'DP4', 'MQ']\n"
     ]
    },
    {
     "name": "stderr",
     "output_type": "stream",
     "text": [
      "[E::idx_find_and_load] Could not retrieve index file for '/data/projects/GDC_Cancer_Wise/Brain/Data/all_vcf_subfolders/Folder_8/f047fb20-36d8-43de-a433-8094b18109b0_wgs_gdc_realn.vcf.gz'\n"
     ]
    },
    {
     "name": "stdout",
     "output_type": "stream",
     "text": [
      "['INDEL', 'IDV', 'IMF', 'DP', 'VDB', 'RPBZ', 'MQBZ', 'BQBZ', 'MQSBZ', 'SCBZ', 'SGB', 'MQ0F', 'AC', 'AN', 'DP4', 'MQ']\n"
     ]
    },
    {
     "name": "stderr",
     "output_type": "stream",
     "text": [
      "[E::idx_find_and_load] Could not retrieve index file for '/data/projects/GDC_Cancer_Wise/Brain/Data/all_vcf_subfolders/Folder_6/bebfbf9f-fab3-4f80-920f-a8942d0835b1_wgs_gdc_realn.vcf.gz'\n"
     ]
    },
    {
     "name": "stdout",
     "output_type": "stream",
     "text": [
      "Processing TCGA-14-1459\n",
      "['INDEL', 'IDV', 'IMF', 'DP', 'VDB', 'RPBZ', 'MQBZ', 'BQBZ', 'MQSBZ', 'SCBZ', 'SGB', 'MQ0F', 'AC', 'AN', 'DP4', 'MQ']\n"
     ]
    },
    {
     "name": "stderr",
     "output_type": "stream",
     "text": [
      "[E::idx_find_and_load] Could not retrieve index file for '/data/projects/GDC_Cancer_Wise/Brain/Data/all_vcf_subfolders/Folder_6/65f88317-181a-4cac-b481-747f84d74fca_wgs_gdc_realn.vcf.gz'\n"
     ]
    },
    {
     "name": "stdout",
     "output_type": "stream",
     "text": [
      "['INDEL', 'IDV', 'IMF', 'DP', 'VDB', 'RPBZ', 'MQBZ', 'BQBZ', 'MQSBZ', 'SCBZ', 'SGB', 'MQ0F', 'AC', 'AN', 'DP4', 'MQ']\n"
     ]
    },
    {
     "name": "stderr",
     "output_type": "stream",
     "text": [
      "[E::idx_find_and_load] Could not retrieve index file for '/data/projects/GDC_Cancer_Wise/Brain/Data/all_vcf_subfolders/Folder_3/1e27cc8a-5394-4958-9af6-5ece1fe24516_wgs_gdc_realn.vcf.gz'\n"
     ]
    },
    {
     "name": "stdout",
     "output_type": "stream",
     "text": [
      "Processing TCGA-14-1823\n",
      "['INDEL', 'IDV', 'IMF', 'DP', 'VDB', 'RPBZ', 'MQBZ', 'BQBZ', 'MQSBZ', 'SCBZ', 'SGB', 'MQ0F', 'AC', 'AN', 'DP4', 'MQ']\n"
     ]
    },
    {
     "name": "stderr",
     "output_type": "stream",
     "text": [
      "[E::idx_find_and_load] Could not retrieve index file for '/data/projects/GDC_Cancer_Wise/Brain/Data/all_vcf_subfolders/Folder_8/6d188f81-f062-4903-bb99-a634fdd47fb5_wgs_gdc_realn.vcf.gz'\n"
     ]
    },
    {
     "name": "stdout",
     "output_type": "stream",
     "text": [
      "['INDEL', 'IDV', 'IMF', 'DP', 'VDB', 'RPBZ', 'MQBZ', 'BQBZ', 'MQSBZ', 'SCBZ', 'SGB', 'MQ0F', 'AC', 'AN', 'DP4', 'MQ']\n"
     ]
    },
    {
     "name": "stderr",
     "output_type": "stream",
     "text": [
      "[E::idx_find_and_load] Could not retrieve index file for '/data/projects/GDC_Cancer_Wise/Brain/Data/all_vcf_subfolders/Folder_6/4a1ad661-f6ae-44e8-b50b-72ff658ff22b_wgs_gdc_realn.vcf.gz'\n"
     ]
    },
    {
     "name": "stdout",
     "output_type": "stream",
     "text": [
      "Processing TCGA-14-2554\n",
      "['INDEL', 'IDV', 'IMF', 'DP', 'VDB', 'RPBZ', 'MQBZ', 'BQBZ', 'MQSBZ', 'SCBZ', 'SGB', 'MQ0F', 'AC', 'AN', 'DP4', 'MQ']\n"
     ]
    },
    {
     "name": "stderr",
     "output_type": "stream",
     "text": [
      "[E::idx_find_and_load] Could not retrieve index file for '/data/projects/GDC_Cancer_Wise/Brain/Data/all_vcf_subfolders/Folder_9/ea96115e-f5c4-4f9b-a1dc-ec2c4f591b2b_wgs_gdc_realn.vcf.gz'\n"
     ]
    },
    {
     "name": "stdout",
     "output_type": "stream",
     "text": [
      "['INDEL', 'IDV', 'IMF', 'DP', 'VDB', 'RPBZ', 'MQBZ', 'BQBZ', 'MQSBZ', 'SCBZ', 'SGB', 'MQ0F', 'AC', 'AN', 'DP4', 'MQ']\n"
     ]
    },
    {
     "name": "stderr",
     "output_type": "stream",
     "text": [
      "[E::idx_find_and_load] Could not retrieve index file for '/data/projects/GDC_Cancer_Wise/Brain/Data/all_vcf_subfolders/Folder_4/53dec97d-0464-4ffd-8e2e-95b2b9a03af0_wgs_gdc_realn.vcf.gz'\n"
     ]
    },
    {
     "name": "stdout",
     "output_type": "stream",
     "text": [
      "Processing TCGA-15-1444\n",
      "['INDEL', 'IDV', 'IMF', 'DP', 'VDB', 'RPBZ', 'MQBZ', 'BQBZ', 'MQSBZ', 'SCBZ', 'SGB', 'MQ0F', 'AC', 'AN', 'DP4', 'MQ']\n"
     ]
    },
    {
     "name": "stderr",
     "output_type": "stream",
     "text": [
      "[E::idx_find_and_load] Could not retrieve index file for '/data/projects/GDC_Cancer_Wise/Brain/Data/all_vcf_subfolders/Folder_6/41190f35-e3af-46e3-9b2d-41bc41d5891b_wgs_gdc_realn.vcf.gz'\n"
     ]
    },
    {
     "name": "stdout",
     "output_type": "stream",
     "text": [
      "['INDEL', 'IDV', 'IMF', 'DP', 'VDB', 'RPBZ', 'MQBZ', 'BQBZ', 'MQSBZ', 'SCBZ', 'SGB', 'MQ0F', 'AC', 'AN', 'DP4', 'MQ']\n"
     ]
    },
    {
     "name": "stderr",
     "output_type": "stream",
     "text": [
      "[E::idx_find_and_load] Could not retrieve index file for '/data/projects/GDC_Cancer_Wise/Brain/Data/all_vcf_subfolders/Folder_1/cbd4d4e7-f1c4-446c-8dbc-ce06c872ec14_wgs_gdc_realn.vcf.gz'\n"
     ]
    },
    {
     "name": "stdout",
     "output_type": "stream",
     "text": [
      "Processing TCGA-16-1063\n",
      "['INDEL', 'IDV', 'IMF', 'DP', 'VDB', 'RPBZ', 'MQBZ', 'BQBZ', 'MQSBZ', 'SCBZ', 'SGB', 'MQ0F', 'AC', 'AN', 'DP4', 'MQ']\n"
     ]
    },
    {
     "name": "stderr",
     "output_type": "stream",
     "text": [
      "[E::idx_find_and_load] Could not retrieve index file for '/data/projects/GDC_Cancer_Wise/Brain/Data/all_vcf_subfolders/Folder_1/064dac47-bb48-4792-b480-dc9130fbe943_wgs_gdc_realn.vcf.gz'\n"
     ]
    },
    {
     "name": "stdout",
     "output_type": "stream",
     "text": [
      "['INDEL', 'IDV', 'IMF', 'DP', 'VDB', 'RPBZ', 'MQBZ', 'BQBZ', 'MQSBZ', 'SCBZ', 'SGB', 'MQ0F', 'AC', 'AN', 'DP4', 'MQ']\n"
     ]
    },
    {
     "name": "stderr",
     "output_type": "stream",
     "text": [
      "[E::idx_find_and_load] Could not retrieve index file for '/data/projects/GDC_Cancer_Wise/Brain/Data/all_vcf_subfolders/Folder_2/7163a0f7-2c69-40b8-8857-8ab3f46f0acf_wgs_gdc_realn.vcf.gz'\n"
     ]
    },
    {
     "name": "stdout",
     "output_type": "stream",
     "text": [
      "Processing TCGA-16-1460\n",
      "['INDEL', 'IDV', 'IMF', 'DP', 'VDB', 'RPBZ', 'MQBZ', 'BQBZ', 'MQSBZ', 'SCBZ', 'SGB', 'MQ0F', 'AC', 'AN', 'DP4', 'MQ']\n"
     ]
    },
    {
     "name": "stderr",
     "output_type": "stream",
     "text": [
      "[E::idx_find_and_load] Could not retrieve index file for '/data/projects/GDC_Cancer_Wise/Brain/Data/all_vcf_subfolders/Folder_2/e62633e2-ffb0-453c-9182-96299fd4cd8c_wgs_gdc_realn.vcf.gz'\n"
     ]
    },
    {
     "name": "stdout",
     "output_type": "stream",
     "text": [
      "['INDEL', 'IDV', 'IMF', 'DP', 'VDB', 'RPBZ', 'MQBZ', 'BQBZ', 'MQSBZ', 'SCBZ', 'SGB', 'MQ0F', 'AC', 'AN', 'DP4', 'MQ']\n"
     ]
    },
    {
     "name": "stderr",
     "output_type": "stream",
     "text": [
      "[E::idx_find_and_load] Could not retrieve index file for '/data/projects/GDC_Cancer_Wise/Brain/Data/all_vcf_subfolders/Folder_4/325fcf3f-e3ea-4ef5-b59d-0936350b2d3f_wgs_gdc_realn.vcf.gz'\n"
     ]
    },
    {
     "name": "stdout",
     "output_type": "stream",
     "text": [
      "Processing TCGA-19-1389\n",
      "['INDEL', 'IDV', 'IMF', 'DP', 'VDB', 'RPBZ', 'MQBZ', 'BQBZ', 'MQSBZ', 'SCBZ', 'SGB', 'MQ0F', 'AC', 'AN', 'DP4', 'MQ']\n"
     ]
    },
    {
     "name": "stderr",
     "output_type": "stream",
     "text": [
      "[E::idx_find_and_load] Could not retrieve index file for '/data/projects/GDC_Cancer_Wise/Brain/Data/all_vcf_subfolders/Folder_8/1af2e986-70d4-4f60-a52b-134678fe5cee_wgs_gdc_realn.vcf.gz'\n"
     ]
    },
    {
     "name": "stdout",
     "output_type": "stream",
     "text": [
      "['INDEL', 'IDV', 'IMF', 'DP', 'VDB', 'RPBZ', 'MQBZ', 'BQBZ', 'MQSBZ', 'SCBZ', 'SGB', 'MQ0F', 'AC', 'AN', 'DP4', 'MQ']\n"
     ]
    },
    {
     "name": "stderr",
     "output_type": "stream",
     "text": [
      "[E::idx_find_and_load] Could not retrieve index file for '/data/projects/GDC_Cancer_Wise/Brain/Data/all_vcf_subfolders/Folder_1/82d7fa2d-19cd-41b7-8ed1-ea9fb9a544c6_wgs_gdc_realn.vcf.gz'\n"
     ]
    },
    {
     "name": "stdout",
     "output_type": "stream",
     "text": [
      "['INDEL', 'IDV', 'IMF', 'DP', 'VDB', 'RPBZ', 'MQBZ', 'BQBZ', 'MQSBZ', 'SCBZ', 'SGB', 'MQ0F', 'AC', 'AN', 'DP4', 'MQ']\n"
     ]
    },
    {
     "name": "stderr",
     "output_type": "stream",
     "text": [
      "[E::idx_find_and_load] Could not retrieve index file for '/data/projects/GDC_Cancer_Wise/Brain/Data/all_vcf_subfolders/Folder_8/359452a5-29cd-4d2b-bb78-e60fd790a35e_wgs_gdc_realn.vcf.gz'\n"
     ]
    },
    {
     "name": "stdout",
     "output_type": "stream",
     "text": [
      "Processing TCGA-19-2620\n",
      "['INDEL', 'IDV', 'IMF', 'DP', 'VDB', 'RPBZ', 'MQBZ', 'BQBZ', 'MQSBZ', 'SCBZ', 'SGB', 'MQ0F', 'AC', 'AN', 'DP4', 'MQ']\n"
     ]
    },
    {
     "name": "stderr",
     "output_type": "stream",
     "text": [
      "[E::idx_find_and_load] Could not retrieve index file for '/data/projects/GDC_Cancer_Wise/Brain/Data/all_vcf_subfolders/Folder_8/ede6d42c-895a-46f7-a0e3-11b152970581_wgs_gdc_realn.vcf.gz'\n"
     ]
    },
    {
     "name": "stdout",
     "output_type": "stream",
     "text": [
      "['INDEL', 'IDV', 'IMF', 'DP', 'VDB', 'RPBZ', 'MQBZ', 'BQBZ', 'MQSBZ', 'SCBZ', 'SGB', 'MQ0F', 'AC', 'AN', 'DP4', 'MQ']\n"
     ]
    },
    {
     "name": "stderr",
     "output_type": "stream",
     "text": [
      "[E::idx_find_and_load] Could not retrieve index file for '/data/projects/GDC_Cancer_Wise/Brain/Data/all_vcf_subfolders/Folder_10/6de41ac1-229b-40b9-a494-5588c284351d_wgs_gdc_realn.vcf.gz'\n"
     ]
    },
    {
     "name": "stdout",
     "output_type": "stream",
     "text": [
      "Processing TCGA-19-2624\n",
      "['INDEL', 'IDV', 'IMF', 'DP', 'VDB', 'RPBZ', 'MQBZ', 'BQBZ', 'MQSBZ', 'SCBZ', 'SGB', 'MQ0F', 'AC', 'AN', 'DP4', 'MQ']\n"
     ]
    },
    {
     "name": "stderr",
     "output_type": "stream",
     "text": [
      "[E::idx_find_and_load] Could not retrieve index file for '/data/projects/GDC_Cancer_Wise/Brain/Data/all_vcf_subfolders/Folder_9/f9b76b10-6585-4724-a373-3c7915d15bff_wgs_gdc_realn.vcf.gz'\n"
     ]
    },
    {
     "name": "stdout",
     "output_type": "stream",
     "text": [
      "['INDEL', 'IDV', 'IMF', 'DP', 'VDB', 'RPBZ', 'MQBZ', 'BQBZ', 'MQSBZ', 'SCBZ', 'SGB', 'MQ0F', 'AC', 'AN', 'DP4', 'MQ']\n"
     ]
    },
    {
     "name": "stderr",
     "output_type": "stream",
     "text": [
      "[E::idx_find_and_load] Could not retrieve index file for '/data/projects/GDC_Cancer_Wise/Brain/Data/all_vcf_subfolders/Folder_2/a8f86b64-914c-4d89-897b-33bcdd1759f7_wgs_gdc_realn.vcf.gz'\n"
     ]
    },
    {
     "name": "stdout",
     "output_type": "stream",
     "text": [
      "Processing TCGA-19-2629\n",
      "['INDEL', 'IDV', 'IMF', 'DP', 'VDB', 'RPBZ', 'MQBZ', 'BQBZ', 'MQSBZ', 'SCBZ', 'SGB', 'MQ0F', 'AC', 'AN', 'DP4', 'MQ']\n"
     ]
    },
    {
     "name": "stderr",
     "output_type": "stream",
     "text": [
      "[E::idx_find_and_load] Could not retrieve index file for '/data/projects/GDC_Cancer_Wise/Brain/Data/all_vcf_subfolders/Folder_5/99337ac4-6bcf-4258-81aa-23c5f807ac5f_wgs_gdc_realn.vcf.gz'\n"
     ]
    },
    {
     "name": "stdout",
     "output_type": "stream",
     "text": [
      "['INDEL', 'IDV', 'IMF', 'DP', 'VDB', 'RPBZ', 'MQBZ', 'BQBZ', 'MQSBZ', 'SCBZ', 'SGB', 'MQ0F', 'AC', 'AN', 'DP4', 'MQ']\n"
     ]
    },
    {
     "name": "stderr",
     "output_type": "stream",
     "text": [
      "[E::idx_find_and_load] Could not retrieve index file for '/data/projects/GDC_Cancer_Wise/Brain/Data/all_vcf_subfolders/Folder_3/56ffaa35-814c-4c0b-b3c6-d4514d34fec2_wgs_gdc_realn.vcf.gz'\n"
     ]
    },
    {
     "name": "stdout",
     "output_type": "stream",
     "text": [
      "Processing TCGA-19-5960\n",
      "['INDEL', 'IDV', 'IMF', 'DP', 'VDB', 'RPBZ', 'MQBZ', 'BQBZ', 'MQSBZ', 'SCBZ', 'SGB', 'MQ0F', 'AC', 'AN', 'DP4', 'MQ']\n"
     ]
    },
    {
     "name": "stderr",
     "output_type": "stream",
     "text": [
      "[E::idx_find_and_load] Could not retrieve index file for '/data/projects/GDC_Cancer_Wise/Brain/Data/all_vcf_subfolders/Folder_1/6550b1a6-606e-478b-8332-3836c47a6b84_wgs_gdc_realn.vcf.gz'\n"
     ]
    },
    {
     "name": "stdout",
     "output_type": "stream",
     "text": [
      "['INDEL', 'IDV', 'IMF', 'DP', 'VDB', 'RPBZ', 'MQBZ', 'BQBZ', 'MQSBZ', 'SCBZ', 'SGB', 'MQ0F', 'AC', 'AN', 'DP4', 'MQ']\n"
     ]
    },
    {
     "name": "stderr",
     "output_type": "stream",
     "text": [
      "[E::idx_find_and_load] Could not retrieve index file for '/data/projects/GDC_Cancer_Wise/Brain/Data/all_vcf_subfolders/Folder_3/b8151614-b08f-49a3-ab6f-2e780f765a17_wgs_gdc_realn.vcf.gz'\n"
     ]
    },
    {
     "name": "stdout",
     "output_type": "stream",
     "text": [
      "Processing TCGA-26-1438\n",
      "['INDEL', 'IDV', 'IMF', 'DP', 'VDB', 'RPBZ', 'MQBZ', 'BQBZ', 'MQSBZ', 'SCBZ', 'SGB', 'MQ0F', 'AC', 'AN', 'DP4', 'MQ']\n"
     ]
    },
    {
     "name": "stderr",
     "output_type": "stream",
     "text": [
      "[E::idx_find_and_load] Could not retrieve index file for '/data/projects/GDC_Cancer_Wise/Brain/Data/all_vcf_subfolders/Folder_2/9f2d2c1d-1b1d-49e3-80fb-8e1a89be52fe_wgs_gdc_realn.vcf.gz'\n"
     ]
    },
    {
     "name": "stdout",
     "output_type": "stream",
     "text": [
      "['INDEL', 'IDV', 'IMF', 'DP', 'VDB', 'RPBZ', 'MQBZ', 'BQBZ', 'MQSBZ', 'SCBZ', 'SGB', 'MQ0F', 'AC', 'AN', 'DP4', 'MQ']\n"
     ]
    },
    {
     "name": "stderr",
     "output_type": "stream",
     "text": [
      "[E::idx_find_and_load] Could not retrieve index file for '/data/projects/GDC_Cancer_Wise/Brain/Data/all_vcf_subfolders/Folder_3/a6957d15-453c-4f3b-ab8c-c38054dfe548_wgs_gdc_realn.vcf.gz'\n"
     ]
    },
    {
     "name": "stdout",
     "output_type": "stream",
     "text": [
      "Processing TCGA-26-5132\n",
      "['INDEL', 'IDV', 'IMF', 'DP', 'VDB', 'RPBZ', 'MQBZ', 'BQBZ', 'MQSBZ', 'SCBZ', 'SGB', 'MQ0F', 'AC', 'AN', 'DP4', 'MQ']\n"
     ]
    },
    {
     "name": "stderr",
     "output_type": "stream",
     "text": [
      "[E::idx_find_and_load] Could not retrieve index file for '/data/projects/GDC_Cancer_Wise/Brain/Data/all_vcf_subfolders/Folder_10/d3b73b4c-8cad-4fa2-b329-27b3f62f0748_wgs_gdc_realn.vcf.gz'\n"
     ]
    },
    {
     "name": "stdout",
     "output_type": "stream",
     "text": [
      "['INDEL', 'IDV', 'IMF', 'DP', 'VDB', 'RPBZ', 'MQBZ', 'BQBZ', 'MQSBZ', 'SCBZ', 'SGB', 'MQ0F', 'AC', 'AN', 'DP4', 'MQ']\n"
     ]
    },
    {
     "name": "stderr",
     "output_type": "stream",
     "text": [
      "[E::idx_find_and_load] Could not retrieve index file for '/data/projects/GDC_Cancer_Wise/Brain/Data/all_vcf_subfolders/Folder_4/d1132127-1250-43af-9c16-425798a3d1a7_wgs_gdc_realn.vcf.gz'\n"
     ]
    },
    {
     "name": "stdout",
     "output_type": "stream",
     "text": [
      "Processing TCGA-26-5135\n",
      "['INDEL', 'IDV', 'IMF', 'DP', 'VDB', 'RPBZ', 'MQBZ', 'BQBZ', 'MQSBZ', 'SCBZ', 'SGB', 'MQ0F', 'AC', 'AN', 'DP4', 'MQ']\n"
     ]
    },
    {
     "name": "stderr",
     "output_type": "stream",
     "text": [
      "[E::idx_find_and_load] Could not retrieve index file for '/data/projects/GDC_Cancer_Wise/Brain/Data/all_vcf_subfolders/Folder_4/8f36ad24-c425-4474-9d03-a5198e2e4901_wgs_gdc_realn.vcf.gz'\n"
     ]
    },
    {
     "name": "stdout",
     "output_type": "stream",
     "text": [
      "['INDEL', 'IDV', 'IMF', 'DP', 'VDB', 'RPBZ', 'MQBZ', 'BQBZ', 'MQSBZ', 'SCBZ', 'SGB', 'MQ0F', 'AC', 'AN', 'DP4', 'MQ']\n"
     ]
    },
    {
     "name": "stderr",
     "output_type": "stream",
     "text": [
      "[E::idx_find_and_load] Could not retrieve index file for '/data/projects/GDC_Cancer_Wise/Brain/Data/all_vcf_subfolders/Folder_3/2ce48f01-2f61-49d9-a56a-7438bf4a37d7_wgs_gdc_realn.vcf.gz'\n"
     ]
    },
    {
     "name": "stdout",
     "output_type": "stream",
     "text": [
      "Processing TCGA-27-1831\n",
      "['INDEL', 'IDV', 'IMF', 'DP', 'VDB', 'RPBZ', 'MQBZ', 'BQBZ', 'MQSBZ', 'SCBZ', 'SGB', 'MQ0F', 'AC', 'AN', 'DP4', 'MQ']\n"
     ]
    },
    {
     "name": "stderr",
     "output_type": "stream",
     "text": [
      "[E::idx_find_and_load] Could not retrieve index file for '/data/projects/GDC_Cancer_Wise/Brain/Data/all_vcf_subfolders/Folder_1/638e5204-4a1a-43a0-bab5-2d3f1bac8dee_wgs_gdc_realn.vcf.gz'\n"
     ]
    },
    {
     "name": "stdout",
     "output_type": "stream",
     "text": [
      "['INDEL', 'IDV', 'IMF', 'DP', 'VDB', 'RPBZ', 'MQBZ', 'BQBZ', 'MQSBZ', 'SCBZ', 'SGB', 'MQ0F', 'AC', 'AN', 'DP4', 'MQ']\n"
     ]
    },
    {
     "name": "stderr",
     "output_type": "stream",
     "text": [
      "[E::idx_find_and_load] Could not retrieve index file for '/data/projects/GDC_Cancer_Wise/Brain/Data/all_vcf_subfolders/Folder_8/9880c3c9-5685-42a7-8fe9-7585ea1a1d37_wgs_gdc_realn.vcf.gz'\n"
     ]
    },
    {
     "name": "stdout",
     "output_type": "stream",
     "text": [
      "Processing TCGA-27-2523\n",
      "['INDEL', 'IDV', 'IMF', 'DP', 'VDB', 'RPBZ', 'MQBZ', 'BQBZ', 'MQSBZ', 'SCBZ', 'SGB', 'MQ0F', 'AC', 'AN', 'DP4', 'MQ']\n"
     ]
    },
    {
     "name": "stderr",
     "output_type": "stream",
     "text": [
      "[E::idx_find_and_load] Could not retrieve index file for '/data/projects/GDC_Cancer_Wise/Brain/Data/all_vcf_subfolders/Folder_4/28ea912e-e998-458c-879e-38d55938a2fb_wgs_gdc_realn.vcf.gz'\n"
     ]
    },
    {
     "name": "stdout",
     "output_type": "stream",
     "text": [
      "['INDEL', 'IDV', 'IMF', 'DP', 'VDB', 'RPBZ', 'MQBZ', 'BQBZ', 'MQSBZ', 'SCBZ', 'SGB', 'MQ0F', 'AC', 'AN', 'DP4', 'MQ']\n"
     ]
    },
    {
     "name": "stderr",
     "output_type": "stream",
     "text": [
      "[E::idx_find_and_load] Could not retrieve index file for '/data/projects/GDC_Cancer_Wise/Brain/Data/all_vcf_subfolders/Folder_10/d60f54f5-b154-42c4-99fb-cea4e7a33dc7_wgs_gdc_realn.vcf.gz'\n"
     ]
    },
    {
     "name": "stdout",
     "output_type": "stream",
     "text": [
      "Processing TCGA-27-2528\n",
      "['INDEL', 'IDV', 'IMF', 'DP', 'VDB', 'RPBZ', 'MQBZ', 'BQBZ', 'MQSBZ', 'SCBZ', 'SGB', 'MQ0F', 'AC', 'AN', 'DP4', 'MQ']\n"
     ]
    },
    {
     "name": "stderr",
     "output_type": "stream",
     "text": [
      "[E::idx_find_and_load] Could not retrieve index file for '/data/projects/GDC_Cancer_Wise/Brain/Data/all_vcf_subfolders/Folder_3/ba315999-bdef-4b98-8207-7653987bc717_wgs_gdc_realn.vcf.gz'\n"
     ]
    },
    {
     "name": "stdout",
     "output_type": "stream",
     "text": [
      "['INDEL', 'IDV', 'IMF', 'DP', 'VDB', 'RPBZ', 'MQBZ', 'BQBZ', 'MQSBZ', 'SCBZ', 'SGB', 'MQ0F', 'AC', 'AN', 'DP4', 'MQ']\n"
     ]
    },
    {
     "name": "stderr",
     "output_type": "stream",
     "text": [
      "[E::idx_find_and_load] Could not retrieve index file for '/data/projects/GDC_Cancer_Wise/Brain/Data/all_vcf_subfolders/Folder_7/374cbd87-428e-4509-85c1-b7d3302c30a0_wgs_gdc_realn.vcf.gz'\n"
     ]
    },
    {
     "name": "stdout",
     "output_type": "stream",
     "text": [
      "Processing TCGA-32-1970\n",
      "['INDEL', 'IDV', 'IMF', 'DP', 'VDB', 'RPBZ', 'MQBZ', 'BQBZ', 'MQSBZ', 'SCBZ', 'SGB', 'MQ0F', 'AC', 'AN', 'DP4', 'MQ']\n"
     ]
    },
    {
     "name": "stderr",
     "output_type": "stream",
     "text": [
      "[E::idx_find_and_load] Could not retrieve index file for '/data/projects/GDC_Cancer_Wise/Brain/Data/all_vcf_subfolders/Folder_1/5b9d2db6-f2b7-47b8-8105-ba44ff3274b7_wgs_gdc_realn.vcf.gz'\n"
     ]
    },
    {
     "name": "stdout",
     "output_type": "stream",
     "text": [
      "['INDEL', 'IDV', 'IMF', 'DP', 'VDB', 'RPBZ', 'MQBZ', 'BQBZ', 'MQSBZ', 'SCBZ', 'SGB', 'MQ0F', 'AC', 'AN', 'DP4', 'MQ']\n"
     ]
    },
    {
     "name": "stderr",
     "output_type": "stream",
     "text": [
      "[E::idx_find_and_load] Could not retrieve index file for '/data/projects/GDC_Cancer_Wise/Brain/Data/all_vcf_subfolders/Folder_2/65723119-bdfe-46f0-b629-c171023abd71_wgs_gdc_realn.vcf.gz'\n"
     ]
    },
    {
     "name": "stdout",
     "output_type": "stream",
     "text": [
      "Processing TCGA-41-5651\n",
      "['INDEL', 'IDV', 'IMF', 'DP', 'VDB', 'RPBZ', 'MQBZ', 'BQBZ', 'MQSBZ', 'SCBZ', 'SGB', 'MQ0F', 'AC', 'AN', 'DP4', 'MQ']\n"
     ]
    },
    {
     "name": "stderr",
     "output_type": "stream",
     "text": [
      "[E::idx_find_and_load] Could not retrieve index file for '/data/projects/GDC_Cancer_Wise/Brain/Data/all_vcf_subfolders/Folder_3/54c65bdd-ac2e-466a-80cb-6f534095f56b_wgs_gdc_realn.vcf.gz'\n"
     ]
    },
    {
     "name": "stdout",
     "output_type": "stream",
     "text": [
      "['INDEL', 'IDV', 'IMF', 'DP', 'VDB', 'RPBZ', 'MQBZ', 'BQBZ', 'MQSBZ', 'SCBZ', 'SGB', 'MQ0F', 'AC', 'AN', 'DP4', 'MQ']\n"
     ]
    },
    {
     "name": "stderr",
     "output_type": "stream",
     "text": [
      "[E::idx_find_and_load] Could not retrieve index file for '/data/projects/GDC_Cancer_Wise/Brain/Data/all_vcf_subfolders/Folder_5/5fd77ba9-5015-4d8b-86a0-582e5c76bdd6_wgs_gdc_realn.vcf.gz'\n"
     ]
    },
    {
     "name": "stdout",
     "output_type": "stream",
     "text": [
      "Processing TCGA-CS-4938\n",
      "['INDEL', 'IDV', 'IMF', 'DP', 'VDB', 'RPBZ', 'MQBZ', 'BQBZ', 'MQSBZ', 'SCBZ', 'SGB', 'MQ0F', 'AC', 'AN', 'DP4', 'MQ']\n"
     ]
    },
    {
     "name": "stderr",
     "output_type": "stream",
     "text": [
      "[E::idx_find_and_load] Could not retrieve index file for '/data/projects/GDC_Cancer_Wise/Brain/Data/all_vcf_subfolders/Folder_8/ddd29528-58ad-461f-8509-4e42f71b49fb_wgs_gdc_realn.vcf.gz'\n"
     ]
    },
    {
     "name": "stdout",
     "output_type": "stream",
     "text": [
      "['INDEL', 'IDV', 'IMF', 'DP', 'VDB', 'RPBZ', 'MQBZ', 'BQBZ', 'MQSBZ', 'SCBZ', 'SGB', 'MQ0F', 'AC', 'AN', 'DP4', 'MQ']\n"
     ]
    },
    {
     "name": "stderr",
     "output_type": "stream",
     "text": [
      "[E::idx_find_and_load] Could not retrieve index file for '/data/projects/GDC_Cancer_Wise/Brain/Data/all_vcf_subfolders/Folder_3/7fe72196-9de8-4a43-87f2-d2e8f74b0007_wgs_gdc_realn.vcf.gz'\n"
     ]
    },
    {
     "name": "stdout",
     "output_type": "stream",
     "text": [
      "Processing TCGA-CS-4941\n",
      "['INDEL', 'IDV', 'IMF', 'DP', 'VDB', 'RPBZ', 'MQBZ', 'BQBZ', 'MQSBZ', 'SCBZ', 'SGB', 'MQ0F', 'AC', 'AN', 'DP4', 'MQ']\n"
     ]
    },
    {
     "name": "stderr",
     "output_type": "stream",
     "text": [
      "[E::idx_find_and_load] Could not retrieve index file for '/data/projects/GDC_Cancer_Wise/Brain/Data/all_vcf_subfolders/Folder_4/82e2caea-0fd6-4c5f-a831-f7387621d603_wgs_gdc_realn.vcf.gz'\n"
     ]
    },
    {
     "name": "stdout",
     "output_type": "stream",
     "text": [
      "['INDEL', 'IDV', 'IMF', 'DP', 'VDB', 'RPBZ', 'MQBZ', 'BQBZ', 'MQSBZ', 'SCBZ', 'SGB', 'MQ0F', 'AC', 'AN', 'DP4', 'MQ']\n"
     ]
    },
    {
     "name": "stderr",
     "output_type": "stream",
     "text": [
      "[E::idx_find_and_load] Could not retrieve index file for '/data/projects/GDC_Cancer_Wise/Brain/Data/all_vcf_subfolders/Folder_1/8ca32f59-ba52-49e8-ba72-d2761ed47099_wgs_gdc_realn.vcf.gz'\n"
     ]
    },
    {
     "name": "stdout",
     "output_type": "stream",
     "text": [
      "Processing TCGA-CS-4944\n",
      "['INDEL', 'IDV', 'IMF', 'DP', 'VDB', 'RPBZ', 'MQBZ', 'BQBZ', 'MQSBZ', 'SCBZ', 'SGB', 'MQ0F', 'AC', 'AN', 'DP4', 'MQ']\n"
     ]
    },
    {
     "name": "stderr",
     "output_type": "stream",
     "text": [
      "[E::idx_find_and_load] Could not retrieve index file for '/data/projects/GDC_Cancer_Wise/Brain/Data/all_vcf_subfolders/Folder_2/c1cb9060-2d95-4139-8881-6c4bb98aeead_wgs_gdc_realn.vcf.gz'\n"
     ]
    },
    {
     "name": "stdout",
     "output_type": "stream",
     "text": [
      "['INDEL', 'IDV', 'IMF', 'DP', 'VDB', 'RPBZ', 'MQBZ', 'BQBZ', 'MQSBZ', 'SCBZ', 'SGB', 'MQ0F', 'AC', 'AN', 'DP4', 'MQ']\n"
     ]
    },
    {
     "name": "stderr",
     "output_type": "stream",
     "text": [
      "[E::idx_find_and_load] Could not retrieve index file for '/data/projects/GDC_Cancer_Wise/Brain/Data/all_vcf_subfolders/Folder_9/63b56e68-639b-483b-b777-ead4bddc112c_wgs_gdc_realn.vcf.gz'\n"
     ]
    },
    {
     "name": "stdout",
     "output_type": "stream",
     "text": [
      "Processing TCGA-CS-5390\n",
      "['INDEL', 'IDV', 'IMF', 'DP', 'VDB', 'RPBZ', 'MQBZ', 'BQBZ', 'MQSBZ', 'SCBZ', 'SGB', 'MQ0F', 'AC', 'AN', 'DP4', 'MQ']\n"
     ]
    },
    {
     "name": "stderr",
     "output_type": "stream",
     "text": [
      "[E::idx_find_and_load] Could not retrieve index file for '/data/projects/GDC_Cancer_Wise/Brain/Data/all_vcf_subfolders/Folder_8/43746417-c404-4b14-8a55-463e79f3a745_wgs_gdc_realn.vcf.gz'\n"
     ]
    },
    {
     "name": "stdout",
     "output_type": "stream",
     "text": [
      "Processing TCGA-CS-5395\n",
      "['INDEL', 'IDV', 'IMF', 'DP', 'VDB', 'RPBZ', 'MQBZ', 'BQBZ', 'MQSBZ', 'SCBZ', 'SGB', 'MQ0F', 'AC', 'AN', 'DP4', 'MQ']\n"
     ]
    },
    {
     "name": "stderr",
     "output_type": "stream",
     "text": [
      "[E::idx_find_and_load] Could not retrieve index file for '/data/projects/GDC_Cancer_Wise/Brain/Data/all_vcf_subfolders/Folder_11/baa7b05c-d0b5-4b1c-b4fa-8955abe5c3db_wgs_gdc_realn.vcf.gz'\n"
     ]
    },
    {
     "name": "stdout",
     "output_type": "stream",
     "text": [
      "['INDEL', 'IDV', 'IMF', 'DP', 'VDB', 'RPBZ', 'MQBZ', 'BQBZ', 'MQSBZ', 'SCBZ', 'SGB', 'MQ0F', 'AC', 'AN', 'DP4', 'MQ']\n"
     ]
    },
    {
     "name": "stderr",
     "output_type": "stream",
     "text": [
      "[E::idx_find_and_load] Could not retrieve index file for '/data/projects/GDC_Cancer_Wise/Brain/Data/all_vcf_subfolders/Folder_10/3d477ac1-3bdf-4410-9594-1a3a1412c6ae_wgs_gdc_realn.vcf.gz'\n"
     ]
    },
    {
     "name": "stdout",
     "output_type": "stream",
     "text": [
      "Processing TCGA-CS-5396\n",
      "['INDEL', 'IDV', 'IMF', 'DP', 'VDB', 'RPBZ', 'MQBZ', 'BQBZ', 'MQSBZ', 'SCBZ', 'SGB', 'MQ0F', 'AC', 'AN', 'DP4', 'MQ']\n"
     ]
    },
    {
     "name": "stderr",
     "output_type": "stream",
     "text": [
      "[E::idx_find_and_load] Could not retrieve index file for '/data/projects/GDC_Cancer_Wise/Brain/Data/all_vcf_subfolders/Folder_10/e51abe6b-7759-4b50-8919-51778f4bfa01_wgs_gdc_realn.vcf.gz'\n"
     ]
    },
    {
     "name": "stdout",
     "output_type": "stream",
     "text": [
      "['INDEL', 'IDV', 'IMF', 'DP', 'VDB', 'RPBZ', 'MQBZ', 'BQBZ', 'MQSBZ', 'SCBZ', 'SGB', 'MQ0F', 'AC', 'AN', 'DP4', 'MQ']\n"
     ]
    },
    {
     "name": "stderr",
     "output_type": "stream",
     "text": [
      "[E::idx_find_and_load] Could not retrieve index file for '/data/projects/GDC_Cancer_Wise/Brain/Data/all_vcf_subfolders/Folder_4/f2f5e5ee-b807-4caf-99b3-68270c1f305e_wgs_gdc_realn.vcf.gz'\n"
     ]
    },
    {
     "name": "stdout",
     "output_type": "stream",
     "text": [
      "Processing TCGA-CS-6186\n",
      "['INDEL', 'IDV', 'IMF', 'DP', 'VDB', 'RPBZ', 'MQBZ', 'BQBZ', 'MQSBZ', 'SCBZ', 'SGB', 'MQ0F', 'AC', 'AN', 'DP4', 'MQ']\n"
     ]
    },
    {
     "name": "stderr",
     "output_type": "stream",
     "text": [
      "[E::idx_find_and_load] Could not retrieve index file for '/data/projects/GDC_Cancer_Wise/Brain/Data/all_vcf_subfolders/Folder_3/1b2818ea-5c5f-4464-9dbf-0ffedd77a707_wgs_gdc_realn.vcf.gz'\n"
     ]
    },
    {
     "name": "stdout",
     "output_type": "stream",
     "text": [
      "['INDEL', 'IDV', 'IMF', 'DP', 'VDB', 'RPBZ', 'MQBZ', 'BQBZ', 'MQSBZ', 'SCBZ', 'SGB', 'MQ0F', 'AC', 'AN', 'DP4', 'MQ']\n"
     ]
    },
    {
     "name": "stderr",
     "output_type": "stream",
     "text": [
      "[E::idx_find_and_load] Could not retrieve index file for '/data/projects/GDC_Cancer_Wise/Brain/Data/all_vcf_subfolders/Folder_9/4143fb11-ba46-4129-8543-f72c015ae5c4_wgs_gdc_realn.vcf.gz'\n"
     ]
    },
    {
     "name": "stdout",
     "output_type": "stream",
     "text": [
      "['INDEL', 'IDV', 'IMF', 'DP', 'VDB', 'RPBZ', 'MQBZ', 'BQBZ', 'MQSBZ', 'SCBZ', 'SGB', 'MQ0F', 'AC', 'AN', 'DP4', 'MQ']\n"
     ]
    },
    {
     "name": "stderr",
     "output_type": "stream",
     "text": [
      "[E::idx_find_and_load] Could not retrieve index file for '/data/projects/GDC_Cancer_Wise/Brain/Data/all_vcf_subfolders/Folder_1/111cd7bb-0da5-485d-9b1f-978a60a29b94_wgs_gdc_realn.vcf.gz'\n"
     ]
    },
    {
     "name": "stdout",
     "output_type": "stream",
     "text": [
      "['INDEL', 'IDV', 'IMF', 'DP', 'VDB', 'RPBZ', 'MQBZ', 'BQBZ', 'MQSBZ', 'SCBZ', 'SGB', 'MQ0F', 'AC', 'AN', 'DP4', 'MQ']\n"
     ]
    },
    {
     "name": "stderr",
     "output_type": "stream",
     "text": [
      "[E::idx_find_and_load] Could not retrieve index file for '/data/projects/GDC_Cancer_Wise/Brain/Data/all_vcf_subfolders/Folder_9/4143fb11-ba46-4129-8543-f72c015ae5c4_wgs_gdc_realn.vcf.gz'\n"
     ]
    },
    {
     "name": "stdout",
     "output_type": "stream",
     "text": [
      "Processing TCGA-CS-6290\n",
      "['INDEL', 'IDV', 'IMF', 'DP', 'VDB', 'RPBZ', 'MQBZ', 'BQBZ', 'MQSBZ', 'SCBZ', 'SGB', 'MQ0F', 'AC', 'AN', 'DP4', 'MQ']\n"
     ]
    },
    {
     "name": "stderr",
     "output_type": "stream",
     "text": [
      "[E::idx_find_and_load] Could not retrieve index file for '/data/projects/GDC_Cancer_Wise/Brain/Data/all_vcf_subfolders/Folder_6/48b76cca-e836-4296-81bb-be7b2c5aa9f5_wgs_gdc_realn.vcf.gz'\n"
     ]
    },
    {
     "name": "stdout",
     "output_type": "stream",
     "text": [
      "['INDEL', 'IDV', 'IMF', 'DP', 'VDB', 'RPBZ', 'MQBZ', 'BQBZ', 'MQSBZ', 'SCBZ', 'SGB', 'MQ0F', 'AC', 'AN', 'DP4', 'MQ']\n"
     ]
    },
    {
     "name": "stderr",
     "output_type": "stream",
     "text": [
      "[E::idx_find_and_load] Could not retrieve index file for '/data/projects/GDC_Cancer_Wise/Brain/Data/all_vcf_subfolders/Folder_6/d31bd4d8-df61-4b6b-9304-17b22fdd023b_wgs_gdc_realn.vcf.gz'\n"
     ]
    },
    {
     "name": "stdout",
     "output_type": "stream",
     "text": [
      "Processing TCGA-CS-6665\n",
      "['INDEL', 'IDV', 'IMF', 'DP', 'VDB', 'RPBZ', 'MQBZ', 'BQBZ', 'MQSBZ', 'SCBZ', 'SGB', 'MQ0F', 'AC', 'AN', 'DP4', 'MQ']\n"
     ]
    },
    {
     "name": "stderr",
     "output_type": "stream",
     "text": [
      "[E::idx_find_and_load] Could not retrieve index file for '/data/projects/GDC_Cancer_Wise/Brain/Data/all_vcf_subfolders/Folder_11/c4574016-bc61-4fb5-92c6-efccec8cdc5d_wgs_gdc_realn.vcf.gz'\n"
     ]
    },
    {
     "name": "stdout",
     "output_type": "stream",
     "text": [
      "['INDEL', 'IDV', 'IMF', 'DP', 'VDB', 'RPBZ', 'MQBZ', 'BQBZ', 'MQSBZ', 'SCBZ', 'SGB', 'MQ0F', 'AC', 'AN', 'DP4', 'MQ']\n"
     ]
    },
    {
     "name": "stderr",
     "output_type": "stream",
     "text": [
      "[E::idx_find_and_load] Could not retrieve index file for '/data/projects/GDC_Cancer_Wise/Brain/Data/all_vcf_subfolders/Folder_7/682d5b5e-3569-403c-b31c-887bd0aa26a5_wgs_gdc_realn.vcf.gz'\n"
     ]
    },
    {
     "name": "stdout",
     "output_type": "stream",
     "text": [
      "Processing TCGA-CS-6668\n",
      "['INDEL', 'IDV', 'IMF', 'DP', 'VDB', 'RPBZ', 'MQBZ', 'BQBZ', 'MQSBZ', 'SCBZ', 'SGB', 'MQ0F', 'AC', 'AN', 'DP4', 'MQ']\n"
     ]
    },
    {
     "name": "stderr",
     "output_type": "stream",
     "text": [
      "[E::idx_find_and_load] Could not retrieve index file for '/data/projects/GDC_Cancer_Wise/Brain/Data/all_vcf_subfolders/Folder_10/7154a36b-c503-43f5-b291-89bd5ce2875f_wgs_gdc_realn.vcf.gz'\n"
     ]
    },
    {
     "name": "stdout",
     "output_type": "stream",
     "text": [
      "['INDEL', 'IDV', 'IMF', 'DP', 'VDB', 'RPBZ', 'MQBZ', 'BQBZ', 'MQSBZ', 'SCBZ', 'SGB', 'MQ0F', 'AC', 'AN', 'DP4', 'MQ']\n"
     ]
    },
    {
     "name": "stderr",
     "output_type": "stream",
     "text": [
      "[E::idx_find_and_load] Could not retrieve index file for '/data/projects/GDC_Cancer_Wise/Brain/Data/all_vcf_subfolders/Folder_1/d414e076-dcb6-4edf-adef-0abdc57354ea_wgs_gdc_realn.vcf.gz'\n"
     ]
    },
    {
     "name": "stdout",
     "output_type": "stream",
     "text": [
      "Processing TCGA-CS-6669\n",
      "['INDEL', 'IDV', 'IMF', 'DP', 'VDB', 'RPBZ', 'MQBZ', 'BQBZ', 'MQSBZ', 'SCBZ', 'SGB', 'MQ0F', 'AC', 'AN', 'DP4', 'MQ']\n"
     ]
    },
    {
     "name": "stderr",
     "output_type": "stream",
     "text": [
      "[E::idx_find_and_load] Could not retrieve index file for '/data/projects/GDC_Cancer_Wise/Brain/Data/all_vcf_subfolders/Folder_5/4bc99b08-8b67-443e-88a4-03edef39d433_wgs_gdc_realn.vcf.gz'\n"
     ]
    },
    {
     "name": "stdout",
     "output_type": "stream",
     "text": [
      "Processing TCGA-DB-5273\n",
      "['INDEL', 'IDV', 'IMF', 'DP', 'VDB', 'RPBZ', 'MQBZ', 'BQBZ', 'MQSBZ', 'SCBZ', 'SGB', 'MQ0F', 'AC', 'AN', 'DP4', 'MQ']\n"
     ]
    },
    {
     "name": "stderr",
     "output_type": "stream",
     "text": [
      "[E::idx_find_and_load] Could not retrieve index file for '/data/projects/GDC_Cancer_Wise/Brain/Data/all_vcf_subfolders/Folder_11/a10e85bd-5a8b-4697-87c3-b2f060c02436_wgs_gdc_realn.vcf.gz'\n"
     ]
    },
    {
     "name": "stdout",
     "output_type": "stream",
     "text": [
      "['INDEL', 'IDV', 'IMF', 'DP', 'VDB', 'RPBZ', 'MQBZ', 'BQBZ', 'MQSBZ', 'SCBZ', 'SGB', 'MQ0F', 'AC', 'AN', 'DP4', 'MQ']\n"
     ]
    },
    {
     "name": "stderr",
     "output_type": "stream",
     "text": [
      "[E::idx_find_and_load] Could not retrieve index file for '/data/projects/GDC_Cancer_Wise/Brain/Data/all_vcf_subfolders/Folder_3/6f0acc8e-2a73-4b08-aaa3-a29ebe61e6b7_wgs_gdc_realn.vcf.gz'\n"
     ]
    },
    {
     "name": "stdout",
     "output_type": "stream",
     "text": [
      "Processing TCGA-DB-5276\n",
      "['INDEL', 'IDV', 'IMF', 'DP', 'VDB', 'RPBZ', 'MQBZ', 'BQBZ', 'MQSBZ', 'SCBZ', 'SGB', 'MQ0F', 'AC', 'AN', 'DP4', 'MQ']\n"
     ]
    },
    {
     "name": "stderr",
     "output_type": "stream",
     "text": [
      "[E::idx_find_and_load] Could not retrieve index file for '/data/projects/GDC_Cancer_Wise/Brain/Data/all_vcf_subfolders/Folder_7/6f18cf36-a52f-4d38-9585-64df0307ba29_wgs_gdc_realn.vcf.gz'\n"
     ]
    },
    {
     "name": "stdout",
     "output_type": "stream",
     "text": [
      "['INDEL', 'IDV', 'IMF', 'DP', 'VDB', 'RPBZ', 'MQBZ', 'BQBZ', 'MQSBZ', 'SCBZ', 'SGB', 'MQ0F', 'AC', 'AN', 'DP4', 'MQ']\n"
     ]
    },
    {
     "name": "stderr",
     "output_type": "stream",
     "text": [
      "[E::idx_find_and_load] Could not retrieve index file for '/data/projects/GDC_Cancer_Wise/Brain/Data/all_vcf_subfolders/Folder_3/5396382e-9fbc-43da-9c88-df17ffda1e2b_wgs_gdc_realn.vcf.gz'\n"
     ]
    },
    {
     "name": "stdout",
     "output_type": "stream",
     "text": [
      "Processing TCGA-DB-5278\n",
      "['INDEL', 'IDV', 'IMF', 'DP', 'VDB', 'RPBZ', 'MQBZ', 'BQBZ', 'MQSBZ', 'SCBZ', 'SGB', 'MQ0F', 'AC', 'AN', 'DP4', 'MQ']\n"
     ]
    },
    {
     "name": "stderr",
     "output_type": "stream",
     "text": [
      "[E::idx_find_and_load] Could not retrieve index file for '/data/projects/GDC_Cancer_Wise/Brain/Data/all_vcf_subfolders/Folder_9/80b03480-5d28-481e-a447-59140d82f1f8_wgs_gdc_realn.vcf.gz'\n"
     ]
    },
    {
     "name": "stdout",
     "output_type": "stream",
     "text": [
      "['INDEL', 'IDV', 'IMF', 'DP', 'VDB', 'RPBZ', 'MQBZ', 'BQBZ', 'MQSBZ', 'SCBZ', 'SGB', 'MQ0F', 'AC', 'AN', 'DP4', 'MQ']\n"
     ]
    },
    {
     "name": "stderr",
     "output_type": "stream",
     "text": [
      "[E::idx_find_and_load] Could not retrieve index file for '/data/projects/GDC_Cancer_Wise/Brain/Data/all_vcf_subfolders/Folder_6/6847e993-1414-4e6f-a2af-39ebe218dd7c_wgs_gdc_realn.vcf.gz'\n"
     ]
    },
    {
     "name": "stdout",
     "output_type": "stream",
     "text": [
      "Processing TCGA-DB-5279\n",
      "['INDEL', 'IDV', 'IMF', 'DP', 'VDB', 'RPBZ', 'MQBZ', 'BQBZ', 'MQSBZ', 'SCBZ', 'SGB', 'MQ0F', 'AC', 'AN', 'DP4', 'MQ']\n"
     ]
    },
    {
     "name": "stderr",
     "output_type": "stream",
     "text": [
      "[E::idx_find_and_load] Could not retrieve index file for '/data/projects/GDC_Cancer_Wise/Brain/Data/all_vcf_subfolders/Folder_7/390161fe-0819-43c8-b4df-c591b46e51f2_wgs_gdc_realn.vcf.gz'\n"
     ]
    },
    {
     "name": "stdout",
     "output_type": "stream",
     "text": [
      "['INDEL', 'IDV', 'IMF', 'DP', 'VDB', 'RPBZ', 'MQBZ', 'BQBZ', 'MQSBZ', 'SCBZ', 'SGB', 'MQ0F', 'AC', 'AN', 'DP4', 'MQ']\n"
     ]
    },
    {
     "name": "stderr",
     "output_type": "stream",
     "text": [
      "[E::idx_find_and_load] Could not retrieve index file for '/data/projects/GDC_Cancer_Wise/Brain/Data/all_vcf_subfolders/Folder_3/109052db-cacf-4e14-8258-500e90b6b476_wgs_gdc_realn.vcf.gz'\n"
     ]
    },
    {
     "name": "stdout",
     "output_type": "stream",
     "text": [
      "Processing TCGA-DB-5280\n",
      "['INDEL', 'IDV', 'IMF', 'DP', 'VDB', 'RPBZ', 'MQBZ', 'BQBZ', 'MQSBZ', 'SCBZ', 'SGB', 'MQ0F', 'AC', 'AN', 'DP4', 'MQ']\n"
     ]
    },
    {
     "name": "stderr",
     "output_type": "stream",
     "text": [
      "[E::idx_find_and_load] Could not retrieve index file for '/data/projects/GDC_Cancer_Wise/Brain/Data/all_vcf_subfolders/Folder_3/f09ced0a-4ec8-4586-b8ef-b3b65df18113_wgs_gdc_realn.vcf.gz'\n"
     ]
    },
    {
     "name": "stdout",
     "output_type": "stream",
     "text": [
      "['INDEL', 'IDV', 'IMF', 'DP', 'VDB', 'RPBZ', 'MQBZ', 'BQBZ', 'MQSBZ', 'SCBZ', 'SGB', 'MQ0F', 'AC', 'AN', 'DP4', 'MQ']\n"
     ]
    },
    {
     "name": "stderr",
     "output_type": "stream",
     "text": [
      "[E::idx_find_and_load] Could not retrieve index file for '/data/projects/GDC_Cancer_Wise/Brain/Data/all_vcf_subfolders/Folder_6/677b8f71-325e-49f9-b3d7-b6adb6831ed5_wgs_gdc_realn.vcf.gz'\n"
     ]
    },
    {
     "name": "stdout",
     "output_type": "stream",
     "text": [
      "Processing TCGA-DH-5143\n",
      "['INDEL', 'IDV', 'IMF', 'DP', 'VDB', 'RPBZ', 'MQBZ', 'BQBZ', 'MQSBZ', 'SCBZ', 'SGB', 'MQ0F', 'AC', 'AN', 'DP4', 'MQ']\n"
     ]
    },
    {
     "name": "stderr",
     "output_type": "stream",
     "text": [
      "[E::idx_find_and_load] Could not retrieve index file for '/data/projects/GDC_Cancer_Wise/Brain/Data/all_vcf_subfolders/Folder_4/15453f10-46d7-40ac-9b5e-5fb44e05fce5_wgs_gdc_realn.vcf.gz'\n"
     ]
    },
    {
     "name": "stdout",
     "output_type": "stream",
     "text": [
      "['INDEL', 'IDV', 'IMF', 'DP', 'VDB', 'RPBZ', 'MQBZ', 'BQBZ', 'MQSBZ', 'SCBZ', 'SGB', 'MQ0F', 'AC', 'AN', 'DP4', 'MQ']\n"
     ]
    },
    {
     "name": "stderr",
     "output_type": "stream",
     "text": [
      "[E::idx_find_and_load] Could not retrieve index file for '/data/projects/GDC_Cancer_Wise/Brain/Data/all_vcf_subfolders/Folder_10/55952783-8c2c-4528-a544-b4c962ab634a_wgs_gdc_realn.vcf.gz'\n"
     ]
    },
    {
     "name": "stdout",
     "output_type": "stream",
     "text": [
      "Processing TCGA-DH-A669\n",
      "['INDEL', 'IDV', 'IMF', 'DP', 'VDB', 'RPBZ', 'MQBZ', 'BQBZ', 'MQSBZ', 'SCBZ', 'SGB', 'MQ0F', 'AC', 'AN', 'DP4', 'MQ']\n"
     ]
    },
    {
     "name": "stderr",
     "output_type": "stream",
     "text": [
      "[E::idx_find_and_load] Could not retrieve index file for '/data/projects/GDC_Cancer_Wise/Brain/Data/all_vcf_subfolders/Folder_8/e849abef-b55e-4124-b760-09101a7c4390_wgs_gdc_realn.vcf.gz'\n"
     ]
    },
    {
     "name": "stdout",
     "output_type": "stream",
     "text": [
      "['INDEL', 'IDV', 'IMF', 'DP', 'VDB', 'RPBZ', 'MQBZ', 'BQBZ', 'MQSBZ', 'SCBZ', 'SGB', 'MQ0F', 'AC', 'AN', 'DP4', 'MQ']\n"
     ]
    },
    {
     "name": "stderr",
     "output_type": "stream",
     "text": [
      "[E::idx_find_and_load] Could not retrieve index file for '/data/projects/GDC_Cancer_Wise/Brain/Data/all_vcf_subfolders/Folder_5/425bf16e-aeb2-453a-932b-b3f59016b041_wgs_gdc_realn.vcf.gz'\n"
     ]
    },
    {
     "name": "stdout",
     "output_type": "stream",
     "text": [
      "['INDEL', 'IDV', 'IMF', 'DP', 'VDB', 'RPBZ', 'MQBZ', 'BQBZ', 'MQSBZ', 'SCBZ', 'SGB', 'MQ0F', 'AC', 'AN', 'DP4', 'MQ']\n"
     ]
    },
    {
     "name": "stderr",
     "output_type": "stream",
     "text": [
      "[E::idx_find_and_load] Could not retrieve index file for '/data/projects/GDC_Cancer_Wise/Brain/Data/all_vcf_subfolders/Folder_10/b020b62a-8acf-40d2-97ab-aa870ac61e96_wgs_gdc_realn.vcf.gz'\n"
     ]
    },
    {
     "name": "stdout",
     "output_type": "stream",
     "text": [
      "Processing TCGA-DU-5847\n",
      "['INDEL', 'IDV', 'IMF', 'DP', 'VDB', 'RPBZ', 'MQBZ', 'BQBZ', 'MQSBZ', 'SCBZ', 'SGB', 'MQ0F', 'AC', 'AN', 'DP4', 'MQ']\n"
     ]
    },
    {
     "name": "stderr",
     "output_type": "stream",
     "text": [
      "[E::idx_find_and_load] Could not retrieve index file for '/data/projects/GDC_Cancer_Wise/Brain/Data/all_vcf_subfolders/Folder_5/00321b81-7463-4f1a-ab82-3b74fff43f44_wgs_gdc_realn.vcf.gz'\n"
     ]
    },
    {
     "name": "stdout",
     "output_type": "stream",
     "text": [
      "['INDEL', 'IDV', 'IMF', 'DP', 'VDB', 'RPBZ', 'MQBZ', 'BQBZ', 'MQSBZ', 'SCBZ', 'SGB', 'MQ0F', 'AC', 'AN', 'DP4', 'MQ']\n"
     ]
    },
    {
     "name": "stderr",
     "output_type": "stream",
     "text": [
      "[E::idx_find_and_load] Could not retrieve index file for '/data/projects/GDC_Cancer_Wise/Brain/Data/all_vcf_subfolders/Folder_7/f83fb674-a46c-47de-bad8-36605068d2e2_wgs_gdc_realn.vcf.gz'\n"
     ]
    },
    {
     "name": "stdout",
     "output_type": "stream",
     "text": [
      "Processing TCGA-DU-5849\n",
      "['INDEL', 'IDV', 'IMF', 'DP', 'VDB', 'RPBZ', 'MQBZ', 'BQBZ', 'MQSBZ', 'SCBZ', 'SGB', 'MQ0F', 'AC', 'AN', 'DP4', 'MQ']\n"
     ]
    },
    {
     "name": "stderr",
     "output_type": "stream",
     "text": [
      "[E::idx_find_and_load] Could not retrieve index file for '/data/projects/GDC_Cancer_Wise/Brain/Data/all_vcf_subfolders/Folder_2/fcec83ba-6596-472d-9988-71092389a8ed_wgs_gdc_realn.vcf.gz'\n"
     ]
    },
    {
     "name": "stdout",
     "output_type": "stream",
     "text": [
      "['INDEL', 'IDV', 'IMF', 'DP', 'VDB', 'RPBZ', 'MQBZ', 'BQBZ', 'MQSBZ', 'SCBZ', 'SGB', 'MQ0F', 'AC', 'AN', 'DP4', 'MQ']\n"
     ]
    },
    {
     "name": "stderr",
     "output_type": "stream",
     "text": [
      "[E::idx_find_and_load] Could not retrieve index file for '/data/projects/GDC_Cancer_Wise/Brain/Data/all_vcf_subfolders/Folder_8/7732e26c-3b82-4d03-a331-82d8088ceb44_wgs_gdc_realn.vcf.gz'\n"
     ]
    },
    {
     "name": "stdout",
     "output_type": "stream",
     "text": [
      "Processing TCGA-DU-5852\n",
      "['INDEL', 'IDV', 'IMF', 'DP', 'VDB', 'RPBZ', 'MQBZ', 'BQBZ', 'MQSBZ', 'SCBZ', 'SGB', 'MQ0F', 'AC', 'AN', 'DP4', 'MQ']\n"
     ]
    },
    {
     "name": "stderr",
     "output_type": "stream",
     "text": [
      "[E::idx_find_and_load] Could not retrieve index file for '/data/projects/GDC_Cancer_Wise/Brain/Data/all_vcf_subfolders/Folder_7/73074e40-bf47-4433-ba0e-ffebfe1ed4c2_wgs_gdc_realn.vcf.gz'\n"
     ]
    },
    {
     "name": "stdout",
     "output_type": "stream",
     "text": [
      "['INDEL', 'IDV', 'IMF', 'DP', 'VDB', 'RPBZ', 'MQBZ', 'BQBZ', 'MQSBZ', 'SCBZ', 'SGB', 'MQ0F', 'AC', 'AN', 'DP4', 'MQ']\n"
     ]
    },
    {
     "name": "stderr",
     "output_type": "stream",
     "text": [
      "[E::idx_find_and_load] Could not retrieve index file for '/data/projects/GDC_Cancer_Wise/Brain/Data/all_vcf_subfolders/Folder_10/e5af958a-0014-4259-970d-5e0ea3cae376_wgs_gdc_realn.vcf.gz'\n"
     ]
    },
    {
     "name": "stdout",
     "output_type": "stream",
     "text": [
      "Processing TCGA-DU-5854\n",
      "['INDEL', 'IDV', 'IMF', 'DP', 'VDB', 'RPBZ', 'MQBZ', 'BQBZ', 'MQSBZ', 'SCBZ', 'SGB', 'MQ0F', 'AC', 'AN', 'DP4', 'MQ']\n"
     ]
    },
    {
     "name": "stderr",
     "output_type": "stream",
     "text": [
      "[E::idx_find_and_load] Could not retrieve index file for '/data/projects/GDC_Cancer_Wise/Brain/Data/all_vcf_subfolders/Folder_2/e7e00a72-a00d-4d50-a329-620a510a7b6c_wgs_gdc_realn.vcf.gz'\n"
     ]
    },
    {
     "name": "stdout",
     "output_type": "stream",
     "text": [
      "['INDEL', 'IDV', 'IMF', 'DP', 'VDB', 'RPBZ', 'MQBZ', 'BQBZ', 'MQSBZ', 'SCBZ', 'SGB', 'MQ0F', 'AC', 'AN', 'DP4', 'MQ']\n"
     ]
    },
    {
     "name": "stderr",
     "output_type": "stream",
     "text": [
      "[E::idx_find_and_load] Could not retrieve index file for '/data/projects/GDC_Cancer_Wise/Brain/Data/all_vcf_subfolders/Folder_7/4716db1c-94f8-40ae-b89b-ea41e6a7e8ce_wgs_gdc_realn.vcf.gz'\n"
     ]
    },
    {
     "name": "stdout",
     "output_type": "stream",
     "text": [
      "Processing TCGA-DU-5870\n",
      "['INDEL', 'IDV', 'IMF', 'DP', 'VDB', 'RPBZ', 'MQBZ', 'BQBZ', 'MQSBZ', 'SCBZ', 'SGB', 'MQ0F', 'AC', 'AN', 'DP4', 'MQ']\n"
     ]
    },
    {
     "name": "stderr",
     "output_type": "stream",
     "text": [
      "[E::idx_find_and_load] Could not retrieve index file for '/data/projects/GDC_Cancer_Wise/Brain/Data/all_vcf_subfolders/Folder_6/5d762eaa-d788-47e4-83f7-e00b7a2d44b4_wgs_gdc_realn.vcf.gz'\n"
     ]
    },
    {
     "name": "stdout",
     "output_type": "stream",
     "text": [
      "['INDEL', 'IDV', 'IMF', 'DP', 'VDB', 'RPBZ', 'MQBZ', 'BQBZ', 'MQSBZ', 'SCBZ', 'SGB', 'MQ0F', 'AC', 'AN', 'DP4', 'MQ']\n"
     ]
    },
    {
     "name": "stderr",
     "output_type": "stream",
     "text": [
      "[E::idx_find_and_load] Could not retrieve index file for '/data/projects/GDC_Cancer_Wise/Brain/Data/all_vcf_subfolders/Folder_2/6c817e3c-a1ee-48a2-a8a9-85b0cf894b1b_wgs_gdc_realn.vcf.gz'\n"
     ]
    },
    {
     "name": "stdout",
     "output_type": "stream",
     "text": [
      "Processing TCGA-DU-5872\n",
      "['INDEL', 'IDV', 'IMF', 'DP', 'VDB', 'RPBZ', 'MQBZ', 'BQBZ', 'MQSBZ', 'SCBZ', 'SGB', 'MQ0F', 'AC', 'AN', 'DP4', 'MQ']\n"
     ]
    },
    {
     "name": "stderr",
     "output_type": "stream",
     "text": [
      "[E::idx_find_and_load] Could not retrieve index file for '/data/projects/GDC_Cancer_Wise/Brain/Data/all_vcf_subfolders/Folder_4/25ec883d-0c94-4a6e-8f94-e865111831b1_wgs_gdc_realn.vcf.gz'\n"
     ]
    },
    {
     "name": "stdout",
     "output_type": "stream",
     "text": [
      "['INDEL', 'IDV', 'IMF', 'DP', 'VDB', 'RPBZ', 'MQBZ', 'BQBZ', 'MQSBZ', 'SCBZ', 'SGB', 'MQ0F', 'AC', 'AN', 'DP4', 'MQ']\n"
     ]
    },
    {
     "name": "stderr",
     "output_type": "stream",
     "text": [
      "[E::idx_find_and_load] Could not retrieve index file for '/data/projects/GDC_Cancer_Wise/Brain/Data/all_vcf_subfolders/Folder_8/0bce913f-c4a0-4cc6-9a8b-a223f00cba11_wgs_gdc_realn.vcf.gz'\n"
     ]
    },
    {
     "name": "stdout",
     "output_type": "stream",
     "text": [
      "['INDEL', 'IDV', 'IMF', 'DP', 'VDB', 'RPBZ', 'MQBZ', 'BQBZ', 'MQSBZ', 'SCBZ', 'SGB', 'MQ0F', 'AC', 'AN', 'DP4', 'MQ']\n"
     ]
    },
    {
     "name": "stderr",
     "output_type": "stream",
     "text": [
      "[E::idx_find_and_load] Could not retrieve index file for '/data/projects/GDC_Cancer_Wise/Brain/Data/all_vcf_subfolders/Folder_9/50014300-ff2e-49f6-857d-dd3e1f22a588_wgs_gdc_realn.vcf.gz'\n"
     ]
    },
    {
     "name": "stdout",
     "output_type": "stream",
     "text": [
      "['INDEL', 'IDV', 'IMF', 'DP', 'VDB', 'RPBZ', 'MQBZ', 'BQBZ', 'MQSBZ', 'SCBZ', 'SGB', 'MQ0F', 'AC', 'AN', 'DP4', 'MQ']\n"
     ]
    },
    {
     "name": "stderr",
     "output_type": "stream",
     "text": [
      "[E::idx_find_and_load] Could not retrieve index file for '/data/projects/GDC_Cancer_Wise/Brain/Data/all_vcf_subfolders/Folder_2/cf245938-dd0c-42fe-9a39-09f29ff12f23_wgs_gdc_realn.vcf.gz'\n"
     ]
    },
    {
     "name": "stdout",
     "output_type": "stream",
     "text": [
      "['INDEL', 'IDV', 'IMF', 'DP', 'VDB', 'RPBZ', 'MQBZ', 'BQBZ', 'MQSBZ', 'SCBZ', 'SGB', 'MQ0F', 'AC', 'AN', 'DP4', 'MQ']\n"
     ]
    },
    {
     "name": "stderr",
     "output_type": "stream",
     "text": [
      "[E::idx_find_and_load] Could not retrieve index file for '/data/projects/GDC_Cancer_Wise/Brain/Data/all_vcf_subfolders/Folder_1/ef52238c-1fb1-4ba7-a943-76e849f8145f_wgs_gdc_realn.vcf.gz'\n"
     ]
    },
    {
     "name": "stdout",
     "output_type": "stream",
     "text": [
      "['INDEL', 'IDV', 'IMF', 'DP', 'VDB', 'RPBZ', 'MQBZ', 'BQBZ', 'MQSBZ', 'SCBZ', 'SGB', 'MQ0F', 'AC', 'AN', 'DP4', 'MQ']\n"
     ]
    },
    {
     "name": "stderr",
     "output_type": "stream",
     "text": [
      "[E::idx_find_and_load] Could not retrieve index file for '/data/projects/GDC_Cancer_Wise/Brain/Data/all_vcf_subfolders/Folder_8/0bce913f-c4a0-4cc6-9a8b-a223f00cba11_wgs_gdc_realn.vcf.gz'\n"
     ]
    },
    {
     "name": "stdout",
     "output_type": "stream",
     "text": [
      "['INDEL', 'IDV', 'IMF', 'DP', 'VDB', 'RPBZ', 'MQBZ', 'BQBZ', 'MQSBZ', 'SCBZ', 'SGB', 'MQ0F', 'AC', 'AN', 'DP4', 'MQ']\n"
     ]
    },
    {
     "name": "stderr",
     "output_type": "stream",
     "text": [
      "[E::idx_find_and_load] Could not retrieve index file for '/data/projects/GDC_Cancer_Wise/Brain/Data/all_vcf_subfolders/Folder_9/50014300-ff2e-49f6-857d-dd3e1f22a588_wgs_gdc_realn.vcf.gz'\n"
     ]
    },
    {
     "name": "stdout",
     "output_type": "stream",
     "text": [
      "['INDEL', 'IDV', 'IMF', 'DP', 'VDB', 'RPBZ', 'MQBZ', 'BQBZ', 'MQSBZ', 'SCBZ', 'SGB', 'MQ0F', 'AC', 'AN', 'DP4', 'MQ']\n"
     ]
    },
    {
     "name": "stderr",
     "output_type": "stream",
     "text": [
      "[E::idx_find_and_load] Could not retrieve index file for '/data/projects/GDC_Cancer_Wise/Brain/Data/all_vcf_subfolders/Folder_2/cf245938-dd0c-42fe-9a39-09f29ff12f23_wgs_gdc_realn.vcf.gz'\n"
     ]
    },
    {
     "name": "stdout",
     "output_type": "stream",
     "text": [
      "Processing TCGA-DU-5874\n",
      "['INDEL', 'IDV', 'IMF', 'DP', 'VDB', 'RPBZ', 'MQBZ', 'BQBZ', 'MQSBZ', 'SCBZ', 'SGB', 'MQ0F', 'AC', 'AN', 'DP4', 'MQ']\n"
     ]
    },
    {
     "name": "stderr",
     "output_type": "stream",
     "text": [
      "[E::idx_find_and_load] Could not retrieve index file for '/data/projects/GDC_Cancer_Wise/Brain/Data/all_vcf_subfolders/Folder_6/0b75be09-bdd0-435e-84ad-0624c781a430_wgs_gdc_realn.vcf.gz'\n"
     ]
    },
    {
     "name": "stdout",
     "output_type": "stream",
     "text": [
      "['INDEL', 'IDV', 'IMF', 'DP', 'VDB', 'RPBZ', 'MQBZ', 'BQBZ', 'MQSBZ', 'SCBZ', 'SGB', 'MQ0F', 'AC', 'AN', 'DP4', 'MQ']\n"
     ]
    },
    {
     "name": "stderr",
     "output_type": "stream",
     "text": [
      "[E::idx_find_and_load] Could not retrieve index file for '/data/projects/GDC_Cancer_Wise/Brain/Data/all_vcf_subfolders/Folder_5/85d915b8-0184-4ec7-93ad-e9ffa2f5743b_wgs_gdc_realn.vcf.gz'\n"
     ]
    },
    {
     "name": "stdout",
     "output_type": "stream",
     "text": [
      "Processing TCGA-DU-6392\n",
      "['INDEL', 'IDV', 'IMF', 'DP', 'VDB', 'RPBZ', 'MQBZ', 'BQBZ', 'MQSBZ', 'SCBZ', 'SGB', 'MQ0F', 'AC', 'AN', 'DP4', 'MQ']\n"
     ]
    },
    {
     "name": "stderr",
     "output_type": "stream",
     "text": [
      "[E::idx_find_and_load] Could not retrieve index file for '/data/projects/GDC_Cancer_Wise/Brain/Data/all_vcf_subfolders/Folder_9/c0870844-1918-4dcf-be7c-010c6beff20c_wgs_gdc_realn.vcf.gz'\n"
     ]
    },
    {
     "name": "stdout",
     "output_type": "stream",
     "text": [
      "['INDEL', 'IDV', 'IMF', 'DP', 'VDB', 'RPBZ', 'MQBZ', 'BQBZ', 'MQSBZ', 'SCBZ', 'SGB', 'MQ0F', 'AC', 'AN', 'DP4', 'MQ']\n"
     ]
    },
    {
     "name": "stderr",
     "output_type": "stream",
     "text": [
      "[E::idx_find_and_load] Could not retrieve index file for '/data/projects/GDC_Cancer_Wise/Brain/Data/all_vcf_subfolders/Folder_4/e7b36f2d-9ab1-4a46-b669-65367b841752_wgs_gdc_realn.vcf.gz'\n"
     ]
    },
    {
     "name": "stdout",
     "output_type": "stream",
     "text": [
      "Processing TCGA-DU-6397\n",
      "['INDEL', 'IDV', 'IMF', 'DP', 'VDB', 'RPBZ', 'MQBZ', 'BQBZ', 'MQSBZ', 'SCBZ', 'SGB', 'MQ0F', 'AC', 'AN', 'DP4', 'MQ']\n"
     ]
    },
    {
     "name": "stderr",
     "output_type": "stream",
     "text": [
      "[E::idx_find_and_load] Could not retrieve index file for '/data/projects/GDC_Cancer_Wise/Brain/Data/all_vcf_subfolders/Folder_7/1a48ebf2-931b-435c-9efd-021e0568e375_wgs_gdc_realn.vcf.gz'\n"
     ]
    },
    {
     "name": "stdout",
     "output_type": "stream",
     "text": [
      "['INDEL', 'IDV', 'IMF', 'DP', 'VDB', 'RPBZ', 'MQBZ', 'BQBZ', 'MQSBZ', 'SCBZ', 'SGB', 'MQ0F', 'AC', 'AN', 'DP4', 'MQ']\n"
     ]
    },
    {
     "name": "stderr",
     "output_type": "stream",
     "text": [
      "[E::idx_find_and_load] Could not retrieve index file for '/data/projects/GDC_Cancer_Wise/Brain/Data/all_vcf_subfolders/Folder_7/35b2c623-356d-4319-871f-ccd5c349fdee_wgs_gdc_realn.vcf.gz'\n"
     ]
    },
    {
     "name": "stdout",
     "output_type": "stream",
     "text": [
      "['INDEL', 'IDV', 'IMF', 'DP', 'VDB', 'RPBZ', 'MQBZ', 'BQBZ', 'MQSBZ', 'SCBZ', 'SGB', 'MQ0F', 'AC', 'AN', 'DP4', 'MQ']\n"
     ]
    },
    {
     "name": "stderr",
     "output_type": "stream",
     "text": [
      "[E::idx_find_and_load] Could not retrieve index file for '/data/projects/GDC_Cancer_Wise/Brain/Data/all_vcf_subfolders/Folder_8/77909413-9323-4916-bb9f-a8e578342333_wgs_gdc_realn.vcf.gz'\n"
     ]
    },
    {
     "name": "stdout",
     "output_type": "stream",
     "text": [
      "Processing TCGA-DU-6399\n",
      "['INDEL', 'IDV', 'IMF', 'DP', 'VDB', 'RPBZ', 'MQBZ', 'BQBZ', 'MQSBZ', 'SCBZ', 'SGB', 'MQ0F', 'AC', 'AN', 'DP4', 'MQ']\n"
     ]
    },
    {
     "name": "stderr",
     "output_type": "stream",
     "text": [
      "[E::idx_find_and_load] Could not retrieve index file for '/data/projects/GDC_Cancer_Wise/Brain/Data/all_vcf_subfolders/Folder_6/49c50948-0f65-4cdb-b8f1-a9e0987d775b_wgs_gdc_realn.vcf.gz'\n"
     ]
    },
    {
     "name": "stdout",
     "output_type": "stream",
     "text": [
      "['INDEL', 'IDV', 'IMF', 'DP', 'VDB', 'RPBZ', 'MQBZ', 'BQBZ', 'MQSBZ', 'SCBZ', 'SGB', 'MQ0F', 'AC', 'AN', 'DP4', 'MQ']\n"
     ]
    },
    {
     "name": "stderr",
     "output_type": "stream",
     "text": [
      "[E::idx_find_and_load] Could not retrieve index file for '/data/projects/GDC_Cancer_Wise/Brain/Data/all_vcf_subfolders/Folder_8/329097bc-e434-4ea7-b0ac-eff202c58c6f_wgs_gdc_realn.vcf.gz'\n"
     ]
    },
    {
     "name": "stdout",
     "output_type": "stream",
     "text": [
      "Processing TCGA-DU-6401\n",
      "['INDEL', 'IDV', 'IMF', 'DP', 'VDB', 'RPBZ', 'MQBZ', 'BQBZ', 'MQSBZ', 'SCBZ', 'SGB', 'MQ0F', 'AC', 'AN', 'DP4', 'MQ']\n"
     ]
    },
    {
     "name": "stderr",
     "output_type": "stream",
     "text": [
      "[E::idx_find_and_load] Could not retrieve index file for '/data/projects/GDC_Cancer_Wise/Brain/Data/all_vcf_subfolders/Folder_3/194434ed-46e0-4ce9-9f8f-38593d2d09c7_wgs_gdc_realn.vcf.gz'\n"
     ]
    },
    {
     "name": "stdout",
     "output_type": "stream",
     "text": [
      "['INDEL', 'IDV', 'IMF', 'DP', 'VDB', 'RPBZ', 'MQBZ', 'BQBZ', 'MQSBZ', 'SCBZ', 'SGB', 'MQ0F', 'AC', 'AN', 'DP4', 'MQ']\n"
     ]
    },
    {
     "name": "stderr",
     "output_type": "stream",
     "text": [
      "[E::idx_find_and_load] Could not retrieve index file for '/data/projects/GDC_Cancer_Wise/Brain/Data/all_vcf_subfolders/Folder_7/3a81f733-b3a3-4578-b925-a663612bc92c_wgs_gdc_realn.vcf.gz'\n"
     ]
    },
    {
     "name": "stdout",
     "output_type": "stream",
     "text": [
      "Processing TCGA-DU-6402\n",
      "['INDEL', 'IDV', 'IMF', 'DP', 'VDB', 'RPBZ', 'MQBZ', 'BQBZ', 'MQSBZ', 'SCBZ', 'SGB', 'MQ0F', 'AC', 'AN', 'DP4', 'MQ']\n"
     ]
    },
    {
     "name": "stderr",
     "output_type": "stream",
     "text": [
      "[E::idx_find_and_load] Could not retrieve index file for '/data/projects/GDC_Cancer_Wise/Brain/Data/all_vcf_subfolders/Folder_5/1383a087-72c2-4ba9-b4e8-ebe3c80206b5_wgs_gdc_realn.vcf.gz'\n"
     ]
    },
    {
     "name": "stdout",
     "output_type": "stream",
     "text": [
      "['INDEL', 'IDV', 'IMF', 'DP', 'VDB', 'RPBZ', 'MQBZ', 'BQBZ', 'MQSBZ', 'SCBZ', 'SGB', 'MQ0F', 'AC', 'AN', 'DP4', 'MQ']\n"
     ]
    },
    {
     "name": "stderr",
     "output_type": "stream",
     "text": [
      "[E::idx_find_and_load] Could not retrieve index file for '/data/projects/GDC_Cancer_Wise/Brain/Data/all_vcf_subfolders/Folder_7/a60a9995-6a02-4035-9c3e-2fee0e6e87c5_wgs_gdc_realn.vcf.gz'\n"
     ]
    },
    {
     "name": "stdout",
     "output_type": "stream",
     "text": [
      "Processing TCGA-DU-6403\n",
      "['INDEL', 'IDV', 'IMF', 'DP', 'VDB', 'RPBZ', 'MQBZ', 'BQBZ', 'MQSBZ', 'SCBZ', 'SGB', 'MQ0F', 'AC', 'AN', 'DP4', 'MQ']\n"
     ]
    },
    {
     "name": "stderr",
     "output_type": "stream",
     "text": [
      "[E::idx_find_and_load] Could not retrieve index file for '/data/projects/GDC_Cancer_Wise/Brain/Data/all_vcf_subfolders/Folder_10/56e72f88-2f97-483f-8ad2-359aae10f380_wgs_gdc_realn.vcf.gz'\n"
     ]
    },
    {
     "name": "stdout",
     "output_type": "stream",
     "text": [
      "['INDEL', 'IDV', 'IMF', 'DP', 'VDB', 'RPBZ', 'MQBZ', 'BQBZ', 'MQSBZ', 'SCBZ', 'SGB', 'MQ0F', 'AC', 'AN', 'DP4', 'MQ']\n"
     ]
    },
    {
     "name": "stderr",
     "output_type": "stream",
     "text": [
      "[E::idx_find_and_load] Could not retrieve index file for '/data/projects/GDC_Cancer_Wise/Brain/Data/all_vcf_subfolders/Folder_4/97cfb7e8-82e2-43bd-a458-376ad3cd7cfe_wgs_gdc_realn.vcf.gz'\n"
     ]
    },
    {
     "name": "stdout",
     "output_type": "stream",
     "text": [
      "Processing TCGA-DU-6404\n",
      "['INDEL', 'IDV', 'IMF', 'DP', 'VDB', 'RPBZ', 'MQBZ', 'BQBZ', 'MQSBZ', 'SCBZ', 'SGB', 'MQ0F', 'AC', 'AN', 'DP4', 'MQ']\n"
     ]
    },
    {
     "name": "stderr",
     "output_type": "stream",
     "text": [
      "[E::idx_find_and_load] Could not retrieve index file for '/data/projects/GDC_Cancer_Wise/Brain/Data/all_vcf_subfolders/Folder_3/934d95ec-4ae8-48af-acc1-87dad8b41f8c_wgs_gdc_realn.vcf.gz'\n"
     ]
    },
    {
     "name": "stdout",
     "output_type": "stream",
     "text": [
      "['INDEL', 'IDV', 'IMF', 'DP', 'VDB', 'RPBZ', 'MQBZ', 'BQBZ', 'MQSBZ', 'SCBZ', 'SGB', 'MQ0F', 'AC', 'AN', 'DP4', 'MQ']\n"
     ]
    },
    {
     "name": "stderr",
     "output_type": "stream",
     "text": [
      "[E::idx_find_and_load] Could not retrieve index file for '/data/projects/GDC_Cancer_Wise/Brain/Data/all_vcf_subfolders/Folder_5/ab87d134-4f50-4591-8693-fbb929e2f332_wgs_gdc_realn.vcf.gz'\n"
     ]
    },
    {
     "name": "stdout",
     "output_type": "stream",
     "text": [
      "['INDEL', 'IDV', 'IMF', 'DP', 'VDB', 'RPBZ', 'MQBZ', 'BQBZ', 'MQSBZ', 'SCBZ', 'SGB', 'MQ0F', 'AC', 'AN', 'DP4', 'MQ']\n"
     ]
    },
    {
     "name": "stderr",
     "output_type": "stream",
     "text": [
      "[E::idx_find_and_load] Could not retrieve index file for '/data/projects/GDC_Cancer_Wise/Brain/Data/all_vcf_subfolders/Folder_9/1e938b4c-fcb0-429e-88e9-ced190dcf6d1_wgs_gdc_realn.vcf.gz'\n"
     ]
    },
    {
     "name": "stdout",
     "output_type": "stream",
     "text": [
      "['INDEL', 'IDV', 'IMF', 'DP', 'VDB', 'RPBZ', 'MQBZ', 'BQBZ', 'MQSBZ', 'SCBZ', 'SGB', 'MQ0F', 'AC', 'AN', 'DP4', 'MQ']\n"
     ]
    },
    {
     "name": "stderr",
     "output_type": "stream",
     "text": [
      "[E::idx_find_and_load] Could not retrieve index file for '/data/projects/GDC_Cancer_Wise/Brain/Data/all_vcf_subfolders/Folder_2/e24bc524-4f82-4fc8-aa20-0b64c9b74762_wgs_gdc_realn.vcf.gz'\n"
     ]
    },
    {
     "name": "stdout",
     "output_type": "stream",
     "text": [
      "Processing TCGA-DU-6405\n",
      "['INDEL', 'IDV', 'IMF', 'DP', 'VDB', 'RPBZ', 'MQBZ', 'BQBZ', 'MQSBZ', 'SCBZ', 'SGB', 'MQ0F', 'AC', 'AN', 'DP4', 'MQ']\n"
     ]
    },
    {
     "name": "stderr",
     "output_type": "stream",
     "text": [
      "[E::idx_find_and_load] Could not retrieve index file for '/data/projects/GDC_Cancer_Wise/Brain/Data/all_vcf_subfolders/Folder_3/d0282997-6c05-4df5-b79b-48e0788f2332_wgs_gdc_realn.vcf.gz'\n"
     ]
    },
    {
     "name": "stdout",
     "output_type": "stream",
     "text": [
      "['INDEL', 'IDV', 'IMF', 'DP', 'VDB', 'RPBZ', 'MQBZ', 'BQBZ', 'MQSBZ', 'SCBZ', 'SGB', 'MQ0F', 'AC', 'AN', 'DP4', 'MQ']\n"
     ]
    },
    {
     "name": "stderr",
     "output_type": "stream",
     "text": [
      "[E::idx_find_and_load] Could not retrieve index file for '/data/projects/GDC_Cancer_Wise/Brain/Data/all_vcf_subfolders/Folder_7/9593d4de-0dab-4d1e-b86c-af91cac938e6_wgs_gdc_realn.vcf.gz'\n"
     ]
    },
    {
     "name": "stdout",
     "output_type": "stream",
     "text": [
      "Processing TCGA-DU-6407\n",
      "['INDEL', 'IDV', 'IMF', 'DP', 'VDB', 'RPBZ', 'MQBZ', 'BQBZ', 'MQSBZ', 'SCBZ', 'SGB', 'MQ0F', 'AC', 'AN', 'DP4', 'MQ']\n"
     ]
    },
    {
     "name": "stderr",
     "output_type": "stream",
     "text": [
      "[E::idx_find_and_load] Could not retrieve index file for '/data/projects/GDC_Cancer_Wise/Brain/Data/all_vcf_subfolders/Folder_5/4a5655ba-0f40-4c74-9534-23eb5df3ad4d_wgs_gdc_realn.vcf.gz'\n"
     ]
    },
    {
     "name": "stdout",
     "output_type": "stream",
     "text": [
      "['INDEL', 'IDV', 'IMF', 'DP', 'VDB', 'RPBZ', 'MQBZ', 'BQBZ', 'MQSBZ', 'SCBZ', 'SGB', 'MQ0F', 'AC', 'AN', 'DP4', 'MQ']\n"
     ]
    },
    {
     "name": "stderr",
     "output_type": "stream",
     "text": [
      "[E::idx_find_and_load] Could not retrieve index file for '/data/projects/GDC_Cancer_Wise/Brain/Data/all_vcf_subfolders/Folder_5/f92a34fa-014e-4b41-a6d0-3b46b8c8a3ee_wgs_gdc_realn.vcf.gz'\n"
     ]
    },
    {
     "name": "stdout",
     "output_type": "stream",
     "text": [
      "['INDEL', 'IDV', 'IMF', 'DP', 'VDB', 'RPBZ', 'MQBZ', 'BQBZ', 'MQSBZ', 'SCBZ', 'SGB', 'MQ0F', 'AC', 'AN', 'DP4', 'MQ']\n"
     ]
    },
    {
     "name": "stderr",
     "output_type": "stream",
     "text": [
      "[E::idx_find_and_load] Could not retrieve index file for '/data/projects/GDC_Cancer_Wise/Brain/Data/all_vcf_subfolders/Folder_3/41da1753-dcff-4e99-8f41-8fcde82efa53_wgs_gdc_realn.vcf.gz'\n"
     ]
    },
    {
     "name": "stdout",
     "output_type": "stream",
     "text": [
      "['INDEL', 'IDV', 'IMF', 'DP', 'VDB', 'RPBZ', 'MQBZ', 'BQBZ', 'MQSBZ', 'SCBZ', 'SGB', 'MQ0F', 'AC', 'AN', 'DP4', 'MQ']\n"
     ]
    },
    {
     "name": "stderr",
     "output_type": "stream",
     "text": [
      "[E::idx_find_and_load] Could not retrieve index file for '/data/projects/GDC_Cancer_Wise/Brain/Data/all_vcf_subfolders/Folder_9/1c4e4bca-3c01-4651-9f8b-509196553aeb_wgs_gdc_realn.vcf.gz'\n"
     ]
    },
    {
     "name": "stdout",
     "output_type": "stream",
     "text": [
      "Processing TCGA-DU-6408\n",
      "['INDEL', 'IDV', 'IMF', 'DP', 'VDB', 'RPBZ', 'MQBZ', 'BQBZ', 'MQSBZ', 'SCBZ', 'SGB', 'MQ0F', 'AC', 'AN', 'DP4', 'MQ']\n"
     ]
    },
    {
     "name": "stderr",
     "output_type": "stream",
     "text": [
      "[E::idx_find_and_load] Could not retrieve index file for '/data/projects/GDC_Cancer_Wise/Brain/Data/all_vcf_subfolders/Folder_2/72a17a30-a2a6-4077-92fb-fbaeba75e266_wgs_gdc_realn.vcf.gz'\n"
     ]
    },
    {
     "name": "stdout",
     "output_type": "stream",
     "text": [
      "['INDEL', 'IDV', 'IMF', 'DP', 'VDB', 'RPBZ', 'MQBZ', 'BQBZ', 'MQSBZ', 'SCBZ', 'SGB', 'MQ0F', 'AC', 'AN', 'DP4', 'MQ']\n"
     ]
    },
    {
     "name": "stderr",
     "output_type": "stream",
     "text": [
      "[E::idx_find_and_load] Could not retrieve index file for '/data/projects/GDC_Cancer_Wise/Brain/Data/all_vcf_subfolders/Folder_2/57952871-e6fe-4c1f-87fe-404fadfc67c1_wgs_gdc_realn.vcf.gz'\n"
     ]
    },
    {
     "name": "stdout",
     "output_type": "stream",
     "text": [
      "Processing TCGA-DU-6542\n",
      "['INDEL', 'IDV', 'IMF', 'DP', 'VDB', 'RPBZ', 'MQBZ', 'BQBZ', 'MQSBZ', 'SCBZ', 'SGB', 'MQ0F', 'AC', 'AN', 'DP4', 'MQ']\n"
     ]
    },
    {
     "name": "stderr",
     "output_type": "stream",
     "text": [
      "[E::idx_find_and_load] Could not retrieve index file for '/data/projects/GDC_Cancer_Wise/Brain/Data/all_vcf_subfolders/Folder_5/3cd1e613-829b-40dd-aa6a-3460085eec07_wgs_gdc_realn.vcf.gz'\n"
     ]
    },
    {
     "name": "stdout",
     "output_type": "stream",
     "text": [
      "['INDEL', 'IDV', 'IMF', 'DP', 'VDB', 'RPBZ', 'MQBZ', 'BQBZ', 'MQSBZ', 'SCBZ', 'SGB', 'MQ0F', 'AC', 'AN', 'DP4', 'MQ']\n"
     ]
    },
    {
     "name": "stderr",
     "output_type": "stream",
     "text": [
      "[E::idx_find_and_load] Could not retrieve index file for '/data/projects/GDC_Cancer_Wise/Brain/Data/all_vcf_subfolders/Folder_6/6ef0ae20-9197-4162-9a35-e235071a83b5_wgs_gdc_realn.vcf.gz'\n"
     ]
    },
    {
     "name": "stdout",
     "output_type": "stream",
     "text": [
      "Processing TCGA-DU-7006\n",
      "['INDEL', 'IDV', 'IMF', 'DP', 'VDB', 'RPBZ', 'MQBZ', 'BQBZ', 'MQSBZ', 'SCBZ', 'SGB', 'MQ0F', 'AC', 'AN', 'DP4', 'MQ']\n"
     ]
    },
    {
     "name": "stderr",
     "output_type": "stream",
     "text": [
      "[E::idx_find_and_load] Could not retrieve index file for '/data/projects/GDC_Cancer_Wise/Brain/Data/all_vcf_subfolders/Folder_8/e4871fa8-7d51-4aef-8027-b0f212931dfa_wgs_gdc_realn.vcf.gz'\n"
     ]
    },
    {
     "name": "stdout",
     "output_type": "stream",
     "text": [
      "['INDEL', 'IDV', 'IMF', 'DP', 'VDB', 'RPBZ', 'MQBZ', 'BQBZ', 'MQSBZ', 'SCBZ', 'SGB', 'MQ0F', 'AC', 'AN', 'DP4', 'MQ']\n"
     ]
    },
    {
     "name": "stderr",
     "output_type": "stream",
     "text": [
      "[E::idx_find_and_load] Could not retrieve index file for '/data/projects/GDC_Cancer_Wise/Brain/Data/all_vcf_subfolders/Folder_5/fda752f3-371f-460b-8d81-216e0ac53b0e_wgs_gdc_realn.vcf.gz'\n"
     ]
    },
    {
     "name": "stdout",
     "output_type": "stream",
     "text": [
      "Processing TCGA-DU-7007\n",
      "['INDEL', 'IDV', 'IMF', 'DP', 'VDB', 'RPBZ', 'MQBZ', 'BQBZ', 'MQSBZ', 'SCBZ', 'SGB', 'MQ0F', 'AC', 'AN', 'DP4', 'MQ']\n"
     ]
    },
    {
     "name": "stderr",
     "output_type": "stream",
     "text": [
      "[E::idx_find_and_load] Could not retrieve index file for '/data/projects/GDC_Cancer_Wise/Brain/Data/all_vcf_subfolders/Folder_4/5424dc10-3749-49f8-8972-69c24af94aa4_wgs_gdc_realn.vcf.gz'\n"
     ]
    },
    {
     "name": "stdout",
     "output_type": "stream",
     "text": [
      "['INDEL', 'IDV', 'IMF', 'DP', 'VDB', 'RPBZ', 'MQBZ', 'BQBZ', 'MQSBZ', 'SCBZ', 'SGB', 'MQ0F', 'AC', 'AN', 'DP4', 'MQ']\n"
     ]
    },
    {
     "name": "stderr",
     "output_type": "stream",
     "text": [
      "[E::idx_find_and_load] Could not retrieve index file for '/data/projects/GDC_Cancer_Wise/Brain/Data/all_vcf_subfolders/Folder_6/a15321dd-20ae-4d64-9d89-c64a92468eca_wgs_gdc_realn.vcf.gz'\n"
     ]
    },
    {
     "name": "stdout",
     "output_type": "stream",
     "text": [
      "Processing TCGA-DU-7008\n",
      "['INDEL', 'IDV', 'IMF', 'DP', 'VDB', 'RPBZ', 'MQBZ', 'BQBZ', 'MQSBZ', 'SCBZ', 'SGB', 'MQ0F', 'AC', 'AN', 'DP4', 'MQ']\n"
     ]
    },
    {
     "name": "stderr",
     "output_type": "stream",
     "text": [
      "[E::idx_find_and_load] Could not retrieve index file for '/data/projects/GDC_Cancer_Wise/Brain/Data/all_vcf_subfolders/Folder_7/580b19bf-f779-4b08-a79b-21367b9e0f4b_wgs_gdc_realn.vcf.gz'\n"
     ]
    },
    {
     "name": "stdout",
     "output_type": "stream",
     "text": [
      "['INDEL', 'IDV', 'IMF', 'DP', 'VDB', 'RPBZ', 'MQBZ', 'BQBZ', 'MQSBZ', 'SCBZ', 'SGB', 'MQ0F', 'AC', 'AN', 'DP4', 'MQ']\n"
     ]
    },
    {
     "name": "stderr",
     "output_type": "stream",
     "text": [
      "[E::idx_find_and_load] Could not retrieve index file for '/data/projects/GDC_Cancer_Wise/Brain/Data/all_vcf_subfolders/Folder_5/7602ba72-b5e0-49c7-940a-6e9efbdb5c58_wgs_gdc_realn.vcf.gz'\n"
     ]
    },
    {
     "name": "stdout",
     "output_type": "stream",
     "text": [
      "Processing TCGA-DU-7009\n",
      "['INDEL', 'IDV', 'IMF', 'DP', 'VDB', 'RPBZ', 'MQBZ', 'BQBZ', 'MQSBZ', 'SCBZ', 'SGB', 'MQ0F', 'AC', 'AN', 'DP4', 'MQ']\n"
     ]
    },
    {
     "name": "stderr",
     "output_type": "stream",
     "text": [
      "[E::idx_find_and_load] Could not retrieve index file for '/data/projects/GDC_Cancer_Wise/Brain/Data/all_vcf_subfolders/Folder_2/ebcde902-4750-4e90-b94c-a635aa053ea4_wgs_gdc_realn.vcf.gz'\n"
     ]
    },
    {
     "name": "stdout",
     "output_type": "stream",
     "text": [
      "['INDEL', 'IDV', 'IMF', 'DP', 'VDB', 'RPBZ', 'MQBZ', 'BQBZ', 'MQSBZ', 'SCBZ', 'SGB', 'MQ0F', 'AC', 'AN', 'DP4', 'MQ']\n"
     ]
    },
    {
     "name": "stderr",
     "output_type": "stream",
     "text": [
      "[E::idx_find_and_load] Could not retrieve index file for '/data/projects/GDC_Cancer_Wise/Brain/Data/all_vcf_subfolders/Folder_8/4853fd17-7214-4f0c-984b-1be0346ca4ab_wgs_gdc_realn.vcf.gz'\n"
     ]
    },
    {
     "name": "stdout",
     "output_type": "stream",
     "text": [
      "Processing TCGA-DU-7010\n",
      "['INDEL', 'IDV', 'IMF', 'DP', 'VDB', 'RPBZ', 'MQBZ', 'BQBZ', 'MQSBZ', 'SCBZ', 'SGB', 'MQ0F', 'AC', 'AN', 'DP4', 'MQ']\n"
     ]
    },
    {
     "name": "stderr",
     "output_type": "stream",
     "text": [
      "[E::idx_find_and_load] Could not retrieve index file for '/data/projects/GDC_Cancer_Wise/Brain/Data/all_vcf_subfolders/Folder_9/8f524ded-7ae8-44cd-8e62-5db87178452c_wgs_gdc_realn.vcf.gz'\n"
     ]
    },
    {
     "name": "stdout",
     "output_type": "stream",
     "text": [
      "['INDEL', 'IDV', 'IMF', 'DP', 'VDB', 'RPBZ', 'MQBZ', 'BQBZ', 'MQSBZ', 'SCBZ', 'SGB', 'MQ0F', 'AC', 'AN', 'DP4', 'MQ']\n"
     ]
    },
    {
     "name": "stderr",
     "output_type": "stream",
     "text": [
      "[E::idx_find_and_load] Could not retrieve index file for '/data/projects/GDC_Cancer_Wise/Brain/Data/all_vcf_subfolders/Folder_3/3ef3e4f1-9b47-4f11-9024-85242ecee397_wgs_gdc_realn.vcf.gz'\n"
     ]
    },
    {
     "name": "stdout",
     "output_type": "stream",
     "text": [
      "Processing TCGA-DU-7013\n",
      "['INDEL', 'IDV', 'IMF', 'DP', 'VDB', 'RPBZ', 'MQBZ', 'BQBZ', 'MQSBZ', 'SCBZ', 'SGB', 'MQ0F', 'AC', 'AN', 'DP4', 'MQ']\n"
     ]
    },
    {
     "name": "stderr",
     "output_type": "stream",
     "text": [
      "[E::idx_find_and_load] Could not retrieve index file for '/data/projects/GDC_Cancer_Wise/Brain/Data/all_vcf_subfolders/Folder_2/24b51a21-4e11-4133-b027-3fa0c44d97d6_wgs_gdc_realn.vcf.gz'\n"
     ]
    },
    {
     "name": "stdout",
     "output_type": "stream",
     "text": [
      "['INDEL', 'IDV', 'IMF', 'DP', 'VDB', 'RPBZ', 'MQBZ', 'BQBZ', 'MQSBZ', 'SCBZ', 'SGB', 'MQ0F', 'AC', 'AN', 'DP4', 'MQ']\n"
     ]
    },
    {
     "name": "stderr",
     "output_type": "stream",
     "text": [
      "[E::idx_find_and_load] Could not retrieve index file for '/data/projects/GDC_Cancer_Wise/Brain/Data/all_vcf_subfolders/Folder_3/344f8786-3383-446b-8662-dea1fa3b6ff5_wgs_gdc_realn.vcf.gz'\n"
     ]
    },
    {
     "name": "stdout",
     "output_type": "stream",
     "text": [
      "Processing TCGA-DU-7018\n",
      "['INDEL', 'IDV', 'IMF', 'DP', 'VDB', 'RPBZ', 'MQBZ', 'BQBZ', 'MQSBZ', 'SCBZ', 'SGB', 'MQ0F', 'AC', 'AN', 'DP4', 'MQ']\n"
     ]
    },
    {
     "name": "stderr",
     "output_type": "stream",
     "text": [
      "[E::idx_find_and_load] Could not retrieve index file for '/data/projects/GDC_Cancer_Wise/Brain/Data/all_vcf_subfolders/Folder_11/ad54aa45-1111-4e52-8971-c86ed709f3fb_wgs_gdc_realn.vcf.gz'\n"
     ]
    },
    {
     "name": "stdout",
     "output_type": "stream",
     "text": [
      "['INDEL', 'IDV', 'IMF', 'DP', 'VDB', 'RPBZ', 'MQBZ', 'BQBZ', 'MQSBZ', 'SCBZ', 'SGB', 'MQ0F', 'AC', 'AN', 'DP4', 'MQ']\n"
     ]
    },
    {
     "name": "stderr",
     "output_type": "stream",
     "text": [
      "[E::idx_find_and_load] Could not retrieve index file for '/data/projects/GDC_Cancer_Wise/Brain/Data/all_vcf_subfolders/Folder_4/02fcfcbb-05d7-4671-bddf-ded65316fcc6_wgs_gdc_realn.vcf.gz'\n"
     ]
    },
    {
     "name": "stdout",
     "output_type": "stream",
     "text": [
      "Processing TCGA-DU-7290\n",
      "['INDEL', 'IDV', 'IMF', 'DP', 'VDB', 'RPBZ', 'MQBZ', 'BQBZ', 'MQSBZ', 'SCBZ', 'SGB', 'MQ0F', 'AC', 'AN', 'DP4', 'MQ']\n"
     ]
    },
    {
     "name": "stderr",
     "output_type": "stream",
     "text": [
      "[E::idx_find_and_load] Could not retrieve index file for '/data/projects/GDC_Cancer_Wise/Brain/Data/all_vcf_subfolders/Folder_2/74d15a12-81b2-407d-a75e-c8c6297ffab2_wgs_gdc_realn.vcf.gz'\n"
     ]
    },
    {
     "name": "stdout",
     "output_type": "stream",
     "text": [
      "['INDEL', 'IDV', 'IMF', 'DP', 'VDB', 'RPBZ', 'MQBZ', 'BQBZ', 'MQSBZ', 'SCBZ', 'SGB', 'MQ0F', 'AC', 'AN', 'DP4', 'MQ']\n"
     ]
    },
    {
     "name": "stderr",
     "output_type": "stream",
     "text": [
      "[E::idx_find_and_load] Could not retrieve index file for '/data/projects/GDC_Cancer_Wise/Brain/Data/all_vcf_subfolders/Folder_7/9a452e24-a4d1-4229-9256-6a30800a5ddf_wgs_gdc_realn.vcf.gz'\n"
     ]
    },
    {
     "name": "stdout",
     "output_type": "stream",
     "text": [
      "Processing TCGA-DU-7294\n",
      "['INDEL', 'IDV', 'IMF', 'DP', 'VDB', 'RPBZ', 'MQBZ', 'BQBZ', 'MQSBZ', 'SCBZ', 'SGB', 'MQ0F', 'AC', 'AN', 'DP4', 'MQ']\n"
     ]
    },
    {
     "name": "stderr",
     "output_type": "stream",
     "text": [
      "[E::idx_find_and_load] Could not retrieve index file for '/data/projects/GDC_Cancer_Wise/Brain/Data/all_vcf_subfolders/Folder_10/e6951feb-a4f1-42ed-bc55-e6bc8dfbc1ad_wgs_gdc_realn.vcf.gz'\n"
     ]
    },
    {
     "name": "stdout",
     "output_type": "stream",
     "text": [
      "Processing TCGA-DU-7301\n",
      "['INDEL', 'IDV', 'IMF', 'DP', 'VDB', 'RPBZ', 'MQBZ', 'BQBZ', 'MQSBZ', 'SCBZ', 'SGB', 'MQ0F', 'AC', 'AN', 'DP4', 'MQ']\n"
     ]
    },
    {
     "name": "stderr",
     "output_type": "stream",
     "text": [
      "[E::idx_find_and_load] Could not retrieve index file for '/data/projects/GDC_Cancer_Wise/Brain/Data/all_vcf_subfolders/Folder_7/536cb58b-852c-491a-94f7-ffbea4c98871_wgs_gdc_realn.vcf.gz'\n"
     ]
    },
    {
     "name": "stdout",
     "output_type": "stream",
     "text": [
      "['INDEL', 'IDV', 'IMF', 'DP', 'VDB', 'RPBZ', 'MQBZ', 'BQBZ', 'MQSBZ', 'SCBZ', 'SGB', 'MQ0F', 'AC', 'AN', 'DP4', 'MQ']\n"
     ]
    },
    {
     "name": "stderr",
     "output_type": "stream",
     "text": [
      "[E::idx_find_and_load] Could not retrieve index file for '/data/projects/GDC_Cancer_Wise/Brain/Data/all_vcf_subfolders/Folder_3/ba94c29b-b76e-4d67-bf5a-ce6bc45d85f8_wgs_gdc_realn.vcf.gz'\n"
     ]
    },
    {
     "name": "stdout",
     "output_type": "stream",
     "text": [
      "Processing TCGA-DU-7304\n",
      "['INDEL', 'IDV', 'IMF', 'DP', 'VDB', 'RPBZ', 'MQBZ', 'BQBZ', 'MQSBZ', 'SCBZ', 'SGB', 'MQ0F', 'AC', 'AN', 'DP4', 'MQ']\n"
     ]
    },
    {
     "name": "stderr",
     "output_type": "stream",
     "text": [
      "[E::idx_find_and_load] Could not retrieve index file for '/data/projects/GDC_Cancer_Wise/Brain/Data/all_vcf_subfolders/Folder_5/b95bb15a-325a-459a-aadc-d4f68cee6a65_wgs_gdc_realn.vcf.gz'\n"
     ]
    },
    {
     "name": "stdout",
     "output_type": "stream",
     "text": [
      "['INDEL', 'IDV', 'IMF', 'DP', 'VDB', 'RPBZ', 'MQBZ', 'BQBZ', 'MQSBZ', 'SCBZ', 'SGB', 'MQ0F', 'AC', 'AN', 'DP4', 'MQ']\n"
     ]
    },
    {
     "name": "stderr",
     "output_type": "stream",
     "text": [
      "[E::idx_find_and_load] Could not retrieve index file for '/data/projects/GDC_Cancer_Wise/Brain/Data/all_vcf_subfolders/Folder_5/8340c88f-b6db-4cb7-8e44-a9cdf5e167ee_wgs_gdc_realn.vcf.gz'\n"
     ]
    },
    {
     "name": "stdout",
     "output_type": "stream",
     "text": [
      "Processing TCGA-E1-5303\n",
      "['INDEL', 'IDV', 'IMF', 'DP', 'VDB', 'RPBZ', 'MQBZ', 'BQBZ', 'MQSBZ', 'SCBZ', 'SGB', 'MQ0F', 'AC', 'AN', 'DP4', 'MQ']\n"
     ]
    },
    {
     "name": "stderr",
     "output_type": "stream",
     "text": [
      "[E::idx_find_and_load] Could not retrieve index file for '/data/projects/GDC_Cancer_Wise/Brain/Data/all_vcf_subfolders/Folder_3/4a280202-b193-4c9e-a33f-6272d77a2666_wgs_gdc_realn.vcf.gz'\n"
     ]
    },
    {
     "name": "stdout",
     "output_type": "stream",
     "text": [
      "['INDEL', 'IDV', 'IMF', 'DP', 'VDB', 'RPBZ', 'MQBZ', 'BQBZ', 'MQSBZ', 'SCBZ', 'SGB', 'MQ0F', 'AC', 'AN', 'DP4', 'MQ']\n"
     ]
    },
    {
     "name": "stderr",
     "output_type": "stream",
     "text": [
      "[E::idx_find_and_load] Could not retrieve index file for '/data/projects/GDC_Cancer_Wise/Brain/Data/all_vcf_subfolders/Folder_7/287ab664-a970-437e-a7f9-ef6c20d2266e_wgs_gdc_realn.vcf.gz'\n"
     ]
    },
    {
     "name": "stdout",
     "output_type": "stream",
     "text": [
      "Processing TCGA-E1-5305\n",
      "['INDEL', 'IDV', 'IMF', 'DP', 'VDB', 'RPBZ', 'MQBZ', 'BQBZ', 'MQSBZ', 'SCBZ', 'SGB', 'MQ0F', 'AC', 'AN', 'DP4', 'MQ']\n"
     ]
    },
    {
     "name": "stderr",
     "output_type": "stream",
     "text": [
      "[E::idx_find_and_load] Could not retrieve index file for '/data/projects/GDC_Cancer_Wise/Brain/Data/all_vcf_subfolders/Folder_2/18c43302-644e-4786-8bb6-0fe155b00dc2_wgs_gdc_realn.vcf.gz'\n"
     ]
    },
    {
     "name": "stdout",
     "output_type": "stream",
     "text": [
      "['INDEL', 'IDV', 'IMF', 'DP', 'VDB', 'RPBZ', 'MQBZ', 'BQBZ', 'MQSBZ', 'SCBZ', 'SGB', 'MQ0F', 'AC', 'AN', 'DP4', 'MQ']\n"
     ]
    },
    {
     "name": "stderr",
     "output_type": "stream",
     "text": [
      "[E::idx_find_and_load] Could not retrieve index file for '/data/projects/GDC_Cancer_Wise/Brain/Data/all_vcf_subfolders/Folder_6/036ef90a-eaca-4105-9b7b-74c20bfa0bb9_wgs_gdc_realn.vcf.gz'\n"
     ]
    },
    {
     "name": "stdout",
     "output_type": "stream",
     "text": [
      "Processing TCGA-E1-5307\n",
      "['INDEL', 'IDV', 'IMF', 'DP', 'VDB', 'RPBZ', 'MQBZ', 'BQBZ', 'MQSBZ', 'SCBZ', 'SGB', 'MQ0F', 'AC', 'AN', 'DP4', 'MQ']\n"
     ]
    },
    {
     "name": "stderr",
     "output_type": "stream",
     "text": [
      "[E::idx_find_and_load] Could not retrieve index file for '/data/projects/GDC_Cancer_Wise/Brain/Data/all_vcf_subfolders/Folder_8/b1ba990a-9299-42ab-ba66-ca60073b02f5_wgs_gdc_realn.vcf.gz'\n"
     ]
    },
    {
     "name": "stdout",
     "output_type": "stream",
     "text": [
      "['INDEL', 'IDV', 'IMF', 'DP', 'VDB', 'RPBZ', 'MQBZ', 'BQBZ', 'MQSBZ', 'SCBZ', 'SGB', 'MQ0F', 'AC', 'AN', 'DP4', 'MQ']\n"
     ]
    },
    {
     "name": "stderr",
     "output_type": "stream",
     "text": [
      "[E::idx_find_and_load] Could not retrieve index file for '/data/projects/GDC_Cancer_Wise/Brain/Data/all_vcf_subfolders/Folder_3/a95622b9-01e0-4625-aab8-2193c2594976_wgs_gdc_realn.vcf.gz'\n"
     ]
    },
    {
     "name": "stdout",
     "output_type": "stream",
     "text": [
      "Processing TCGA-E1-5318\n",
      "['INDEL', 'IDV', 'IMF', 'DP', 'VDB', 'RPBZ', 'MQBZ', 'BQBZ', 'MQSBZ', 'SCBZ', 'SGB', 'MQ0F', 'AC', 'AN', 'DP4', 'MQ']\n"
     ]
    },
    {
     "name": "stderr",
     "output_type": "stream",
     "text": [
      "[E::idx_find_and_load] Could not retrieve index file for '/data/projects/GDC_Cancer_Wise/Brain/Data/all_vcf_subfolders/Folder_9/0fce50b4-028d-4b54-aa49-3a8e28a7f7c6_wgs_gdc_realn.vcf.gz'\n"
     ]
    },
    {
     "name": "stdout",
     "output_type": "stream",
     "text": [
      "['INDEL', 'IDV', 'IMF', 'DP', 'VDB', 'RPBZ', 'MQBZ', 'BQBZ', 'MQSBZ', 'SCBZ', 'SGB', 'MQ0F', 'AC', 'AN', 'DP4', 'MQ']\n"
     ]
    },
    {
     "name": "stderr",
     "output_type": "stream",
     "text": [
      "[E::idx_find_and_load] Could not retrieve index file for '/data/projects/GDC_Cancer_Wise/Brain/Data/all_vcf_subfolders/Folder_10/8c46a1df-1c10-4188-992a-a55b782494c9_wgs_gdc_realn.vcf.gz'\n"
     ]
    },
    {
     "name": "stdout",
     "output_type": "stream",
     "text": [
      "Processing TCGA-E1-5319\n",
      "['INDEL', 'IDV', 'IMF', 'DP', 'VDB', 'RPBZ', 'MQBZ', 'BQBZ', 'MQSBZ', 'SCBZ', 'SGB', 'MQ0F', 'AC', 'AN', 'DP4', 'MQ']\n"
     ]
    },
    {
     "name": "stderr",
     "output_type": "stream",
     "text": [
      "[E::idx_find_and_load] Could not retrieve index file for '/data/projects/GDC_Cancer_Wise/Brain/Data/all_vcf_subfolders/Folder_5/1121c5c3-e239-4edf-aa09-af5dbfabaaea_wgs_gdc_realn.vcf.gz'\n"
     ]
    },
    {
     "name": "stdout",
     "output_type": "stream",
     "text": [
      "['INDEL', 'IDV', 'IMF', 'DP', 'VDB', 'RPBZ', 'MQBZ', 'BQBZ', 'MQSBZ', 'SCBZ', 'SGB', 'MQ0F', 'AC', 'AN', 'DP4', 'MQ']\n"
     ]
    },
    {
     "name": "stderr",
     "output_type": "stream",
     "text": [
      "[E::idx_find_and_load] Could not retrieve index file for '/data/projects/GDC_Cancer_Wise/Brain/Data/all_vcf_subfolders/Folder_10/d252a54e-0377-4b3e-8228-26108ea704fa_wgs_gdc_realn.vcf.gz'\n"
     ]
    },
    {
     "name": "stdout",
     "output_type": "stream",
     "text": [
      "Processing TCGA-EZ-7264\n",
      "['INDEL', 'IDV', 'IMF', 'DP', 'VDB', 'RPBZ', 'MQBZ', 'BQBZ', 'MQSBZ', 'SCBZ', 'SGB', 'MQ0F', 'AC', 'AN', 'DP4', 'MQ']\n"
     ]
    },
    {
     "name": "stderr",
     "output_type": "stream",
     "text": [
      "[E::idx_find_and_load] Could not retrieve index file for '/data/projects/GDC_Cancer_Wise/Brain/Data/all_vcf_subfolders/Folder_6/d5dfac45-4aff-481d-9117-807ed47b7b10_wgs_gdc_realn.vcf.gz'\n"
     ]
    },
    {
     "name": "stdout",
     "output_type": "stream",
     "text": [
      "['INDEL', 'IDV', 'IMF', 'DP', 'VDB', 'RPBZ', 'MQBZ', 'BQBZ', 'MQSBZ', 'SCBZ', 'SGB', 'MQ0F', 'AC', 'AN', 'DP4', 'MQ']\n"
     ]
    },
    {
     "name": "stderr",
     "output_type": "stream",
     "text": [
      "[E::idx_find_and_load] Could not retrieve index file for '/data/projects/GDC_Cancer_Wise/Brain/Data/all_vcf_subfolders/Folder_4/00493087-9d9d-40ca-86d5-936f1b951c93_wgs_gdc_realn.vcf.gz'\n"
     ]
    },
    {
     "name": "stdout",
     "output_type": "stream",
     "text": [
      "Processing TCGA-FG-5963\n",
      "['INDEL', 'IDV', 'IMF', 'DP', 'VDB', 'RPBZ', 'MQBZ', 'BQBZ', 'MQSBZ', 'SCBZ', 'SGB', 'MQ0F', 'AC', 'AN', 'DP4', 'MQ']\n"
     ]
    },
    {
     "name": "stderr",
     "output_type": "stream",
     "text": [
      "[E::idx_find_and_load] Could not retrieve index file for '/data/projects/GDC_Cancer_Wise/Brain/Data/all_vcf_subfolders/Folder_2/6f920119-c9ad-4ebf-bbc8-7724feae7b7b_wgs_gdc_realn.vcf.gz'\n"
     ]
    },
    {
     "name": "stdout",
     "output_type": "stream",
     "text": [
      "['INDEL', 'IDV', 'IMF', 'DP', 'VDB', 'RPBZ', 'MQBZ', 'BQBZ', 'MQSBZ', 'SCBZ', 'SGB', 'MQ0F', 'AC', 'AN', 'DP4', 'MQ']\n"
     ]
    },
    {
     "name": "stderr",
     "output_type": "stream",
     "text": [
      "[E::idx_find_and_load] Could not retrieve index file for '/data/projects/GDC_Cancer_Wise/Brain/Data/all_vcf_subfolders/Folder_8/166f687b-f395-4ac7-a06a-78826a0722e7_wgs_gdc_realn.vcf.gz'\n"
     ]
    },
    {
     "name": "stdout",
     "output_type": "stream",
     "text": [
      "Processing TCGA-FG-5964\n",
      "['INDEL', 'IDV', 'IMF', 'DP', 'VDB', 'RPBZ', 'MQBZ', 'BQBZ', 'MQSBZ', 'SCBZ', 'SGB', 'MQ0F', 'AC', 'AN', 'DP4', 'MQ']\n"
     ]
    },
    {
     "name": "stderr",
     "output_type": "stream",
     "text": [
      "[E::idx_find_and_load] Could not retrieve index file for '/data/projects/GDC_Cancer_Wise/Brain/Data/all_vcf_subfolders/Folder_7/96d57c40-fcc5-4dc4-857c-b2d334627206_wgs_gdc_realn.vcf.gz'\n"
     ]
    },
    {
     "name": "stdout",
     "output_type": "stream",
     "text": [
      "['INDEL', 'IDV', 'IMF', 'DP', 'VDB', 'RPBZ', 'MQBZ', 'BQBZ', 'MQSBZ', 'SCBZ', 'SGB', 'MQ0F', 'AC', 'AN', 'DP4', 'MQ']\n"
     ]
    },
    {
     "name": "stderr",
     "output_type": "stream",
     "text": [
      "[E::idx_find_and_load] Could not retrieve index file for '/data/projects/GDC_Cancer_Wise/Brain/Data/all_vcf_subfolders/Folder_10/c6888be2-4517-41e4-a801-9c915f24e737_wgs_gdc_realn.vcf.gz'\n"
     ]
    },
    {
     "name": "stdout",
     "output_type": "stream",
     "text": [
      "Processing TCGA-FG-5965\n",
      "['INDEL', 'IDV', 'IMF', 'DP', 'VDB', 'RPBZ', 'MQBZ', 'BQBZ', 'MQSBZ', 'SCBZ', 'SGB', 'MQ0F', 'AC', 'AN', 'DP4', 'MQ']\n"
     ]
    },
    {
     "name": "stderr",
     "output_type": "stream",
     "text": [
      "[E::idx_find_and_load] Could not retrieve index file for '/data/projects/GDC_Cancer_Wise/Brain/Data/all_vcf_subfolders/Folder_6/6f6eeb7c-c029-419f-a597-d0f72fd8ae69_wgs_gdc_realn.vcf.gz'\n"
     ]
    },
    {
     "name": "stdout",
     "output_type": "stream",
     "text": [
      "['INDEL', 'IDV', 'IMF', 'DP', 'VDB', 'RPBZ', 'MQBZ', 'BQBZ', 'MQSBZ', 'SCBZ', 'SGB', 'MQ0F', 'AC', 'AN', 'DP4', 'MQ']\n"
     ]
    },
    {
     "name": "stderr",
     "output_type": "stream",
     "text": [
      "[E::idx_find_and_load] Could not retrieve index file for '/data/projects/GDC_Cancer_Wise/Brain/Data/all_vcf_subfolders/Folder_10/010cbbc1-cacb-4509-9a37-1d62cff09e49_wgs_gdc_realn.vcf.gz'\n"
     ]
    },
    {
     "name": "stdout",
     "output_type": "stream",
     "text": [
      "['INDEL', 'IDV', 'IMF', 'DP', 'VDB', 'RPBZ', 'MQBZ', 'BQBZ', 'MQSBZ', 'SCBZ', 'SGB', 'MQ0F', 'AC', 'AN', 'DP4', 'MQ']\n"
     ]
    },
    {
     "name": "stderr",
     "output_type": "stream",
     "text": [
      "[E::idx_find_and_load] Could not retrieve index file for '/data/projects/GDC_Cancer_Wise/Brain/Data/all_vcf_subfolders/Folder_10/0730868d-1fe9-4964-a0cc-a12a74d161e6_wgs_gdc_realn.vcf.gz'\n"
     ]
    },
    {
     "name": "stdout",
     "output_type": "stream",
     "text": [
      "Processing TCGA-FG-6688\n",
      "['INDEL', 'IDV', 'IMF', 'DP', 'VDB', 'RPBZ', 'MQBZ', 'BQBZ', 'MQSBZ', 'SCBZ', 'SGB', 'MQ0F', 'AC', 'AN', 'DP4', 'MQ']\n"
     ]
    },
    {
     "name": "stderr",
     "output_type": "stream",
     "text": [
      "[E::idx_find_and_load] Could not retrieve index file for '/data/projects/GDC_Cancer_Wise/Brain/Data/all_vcf_subfolders/Folder_1/898de9f3-554f-4445-b365-d8c2f9b85780_wgs_gdc_realn.vcf.gz'\n"
     ]
    },
    {
     "name": "stdout",
     "output_type": "stream",
     "text": [
      "['INDEL', 'IDV', 'IMF', 'DP', 'VDB', 'RPBZ', 'MQBZ', 'BQBZ', 'MQSBZ', 'SCBZ', 'SGB', 'MQ0F', 'AC', 'AN', 'DP4', 'MQ']\n"
     ]
    },
    {
     "name": "stderr",
     "output_type": "stream",
     "text": [
      "[E::idx_find_and_load] Could not retrieve index file for '/data/projects/GDC_Cancer_Wise/Brain/Data/all_vcf_subfolders/Folder_2/5977877c-7b55-4666-ac08-54fef233fb2f_wgs_gdc_realn.vcf.gz'\n"
     ]
    },
    {
     "name": "stdout",
     "output_type": "stream",
     "text": [
      "Processing TCGA-FG-6689\n",
      "['INDEL', 'IDV', 'IMF', 'DP', 'VDB', 'RPBZ', 'MQBZ', 'BQBZ', 'MQSBZ', 'SCBZ', 'SGB', 'MQ0F', 'AC', 'AN', 'DP4', 'MQ']\n"
     ]
    },
    {
     "name": "stderr",
     "output_type": "stream",
     "text": [
      "[E::idx_find_and_load] Could not retrieve index file for '/data/projects/GDC_Cancer_Wise/Brain/Data/all_vcf_subfolders/Folder_11/983e8501-88ce-42e5-8c99-752182f14d81_wgs_gdc_realn.vcf.gz'\n"
     ]
    },
    {
     "name": "stdout",
     "output_type": "stream",
     "text": [
      "Processing TCGA-FG-6690\n",
      "['INDEL', 'IDV', 'IMF', 'DP', 'VDB', 'RPBZ', 'MQBZ', 'BQBZ', 'MQSBZ', 'SCBZ', 'SGB', 'MQ0F', 'AC', 'AN', 'DP4', 'MQ']\n"
     ]
    },
    {
     "name": "stderr",
     "output_type": "stream",
     "text": [
      "[E::idx_find_and_load] Could not retrieve index file for '/data/projects/GDC_Cancer_Wise/Brain/Data/all_vcf_subfolders/Folder_11/fee715cf-4d4e-49b0-a8dc-dad81f1c0117_wgs_gdc_realn.vcf.gz'\n"
     ]
    },
    {
     "name": "stdout",
     "output_type": "stream",
     "text": [
      "['INDEL', 'IDV', 'IMF', 'DP', 'VDB', 'RPBZ', 'MQBZ', 'BQBZ', 'MQSBZ', 'SCBZ', 'SGB', 'MQ0F', 'AC', 'AN', 'DP4', 'MQ']\n"
     ]
    },
    {
     "name": "stderr",
     "output_type": "stream",
     "text": [
      "[E::idx_find_and_load] Could not retrieve index file for '/data/projects/GDC_Cancer_Wise/Brain/Data/all_vcf_subfolders/Folder_1/ba96efd0-90de-4458-89de-8b16639760b8_wgs_gdc_realn.vcf.gz'\n"
     ]
    },
    {
     "name": "stdout",
     "output_type": "stream",
     "text": [
      "Processing TCGA-FG-6691\n",
      "['INDEL', 'IDV', 'IMF', 'DP', 'VDB', 'RPBZ', 'MQBZ', 'BQBZ', 'MQSBZ', 'SCBZ', 'SGB', 'MQ0F', 'AC', 'AN', 'DP4', 'MQ']\n"
     ]
    },
    {
     "name": "stderr",
     "output_type": "stream",
     "text": [
      "[E::idx_find_and_load] Could not retrieve index file for '/data/projects/GDC_Cancer_Wise/Brain/Data/all_vcf_subfolders/Folder_3/5261c079-4e84-44db-8e0c-b097344ae1e7_wgs_gdc_realn.vcf.gz'\n"
     ]
    },
    {
     "name": "stdout",
     "output_type": "stream",
     "text": [
      "['INDEL', 'IDV', 'IMF', 'DP', 'VDB', 'RPBZ', 'MQBZ', 'BQBZ', 'MQSBZ', 'SCBZ', 'SGB', 'MQ0F', 'AC', 'AN', 'DP4', 'MQ']\n"
     ]
    },
    {
     "name": "stderr",
     "output_type": "stream",
     "text": [
      "[E::idx_find_and_load] Could not retrieve index file for '/data/projects/GDC_Cancer_Wise/Brain/Data/all_vcf_subfolders/Folder_7/b4968770-4d21-4c51-9eca-47e23d5c240e_wgs_gdc_realn.vcf.gz'\n"
     ]
    },
    {
     "name": "stdout",
     "output_type": "stream",
     "text": [
      "Processing TCGA-FG-6692\n",
      "['INDEL', 'IDV', 'IMF', 'DP', 'VDB', 'RPBZ', 'MQBZ', 'BQBZ', 'MQSBZ', 'SCBZ', 'SGB', 'MQ0F', 'AC', 'AN', 'DP4', 'MQ']\n"
     ]
    },
    {
     "name": "stderr",
     "output_type": "stream",
     "text": [
      "[E::idx_find_and_load] Could not retrieve index file for '/data/projects/GDC_Cancer_Wise/Brain/Data/all_vcf_subfolders/Folder_9/5bb5bfcc-db34-474c-95e6-3a84c3a7dbaa_wgs_gdc_realn.vcf.gz'\n"
     ]
    },
    {
     "name": "stdout",
     "output_type": "stream",
     "text": [
      "Processing TCGA-FG-7643\n",
      "['INDEL', 'IDV', 'IMF', 'DP', 'VDB', 'RPBZ', 'MQBZ', 'BQBZ', 'MQSBZ', 'SCBZ', 'SGB', 'MQ0F', 'AC', 'AN', 'DP4', 'MQ']\n"
     ]
    },
    {
     "name": "stderr",
     "output_type": "stream",
     "text": [
      "[E::idx_find_and_load] Could not retrieve index file for '/data/projects/GDC_Cancer_Wise/Brain/Data/all_vcf_subfolders/Folder_2/d0e20b08-cf3b-41e9-a116-5f157de4a40b_wgs_gdc_realn.vcf.gz'\n"
     ]
    },
    {
     "name": "stdout",
     "output_type": "stream",
     "text": [
      "['INDEL', 'IDV', 'IMF', 'DP', 'VDB', 'RPBZ', 'MQBZ', 'BQBZ', 'MQSBZ', 'SCBZ', 'SGB', 'MQ0F', 'AC', 'AN', 'DP4', 'MQ']\n"
     ]
    },
    {
     "name": "stderr",
     "output_type": "stream",
     "text": [
      "[E::idx_find_and_load] Could not retrieve index file for '/data/projects/GDC_Cancer_Wise/Brain/Data/all_vcf_subfolders/Folder_2/025b53e6-9687-4085-b5cc-3585ce87625d_wgs_gdc_realn.vcf.gz'\n"
     ]
    },
    {
     "name": "stdout",
     "output_type": "stream",
     "text": [
      "Processing TCGA-FG-8182\n",
      "['INDEL', 'IDV', 'IMF', 'DP', 'VDB', 'RPBZ', 'MQBZ', 'BQBZ', 'MQSBZ', 'SCBZ', 'SGB', 'MQ0F', 'AC', 'AN', 'DP4', 'MQ']\n"
     ]
    },
    {
     "name": "stderr",
     "output_type": "stream",
     "text": [
      "[E::idx_find_and_load] Could not retrieve index file for '/data/projects/GDC_Cancer_Wise/Brain/Data/all_vcf_subfolders/Folder_6/705290ff-c3b5-4e53-956d-05fc3825ccb7_wgs_gdc_realn.vcf.gz'\n"
     ]
    },
    {
     "name": "stdout",
     "output_type": "stream",
     "text": [
      "['INDEL', 'IDV', 'IMF', 'DP', 'VDB', 'RPBZ', 'MQBZ', 'BQBZ', 'MQSBZ', 'SCBZ', 'SGB', 'MQ0F', 'AC', 'AN', 'DP4', 'MQ']\n"
     ]
    },
    {
     "name": "stderr",
     "output_type": "stream",
     "text": [
      "[E::idx_find_and_load] Could not retrieve index file for '/data/projects/GDC_Cancer_Wise/Brain/Data/all_vcf_subfolders/Folder_7/2aeaab9f-4459-4be8-91e7-e0746cbd671c_wgs_gdc_realn.vcf.gz'\n"
     ]
    },
    {
     "name": "stdout",
     "output_type": "stream",
     "text": [
      "Processing TCGA-FG-A4MT\n",
      "['INDEL', 'IDV', 'IMF', 'DP', 'VDB', 'RPBZ', 'MQBZ', 'BQBZ', 'MQSBZ', 'SCBZ', 'SGB', 'MQ0F', 'AC', 'AN', 'DP4', 'MQ']\n"
     ]
    },
    {
     "name": "stderr",
     "output_type": "stream",
     "text": [
      "[E::idx_find_and_load] Could not retrieve index file for '/data/projects/GDC_Cancer_Wise/Brain/Data/all_vcf_subfolders/Folder_8/808a6e74-103e-4c30-89c8-efa1c86f417c_wgs_gdc_realn.vcf.gz'\n"
     ]
    },
    {
     "name": "stdout",
     "output_type": "stream",
     "text": [
      "['INDEL', 'IDV', 'IMF', 'DP', 'VDB', 'RPBZ', 'MQBZ', 'BQBZ', 'MQSBZ', 'SCBZ', 'SGB', 'MQ0F', 'AC', 'AN', 'DP4', 'MQ']\n"
     ]
    },
    {
     "name": "stderr",
     "output_type": "stream",
     "text": [
      "[E::idx_find_and_load] Could not retrieve index file for '/data/projects/GDC_Cancer_Wise/Brain/Data/all_vcf_subfolders/Folder_8/1120b01a-0819-4c90-a1b4-c2b85108e786_wgs_gdc_realn.vcf.gz'\n"
     ]
    },
    {
     "name": "stdout",
     "output_type": "stream",
     "text": [
      "Processing TCGA-FN-7833\n",
      "['INDEL', 'IDV', 'IMF', 'DP', 'VDB', 'RPBZ', 'MQBZ', 'BQBZ', 'MQSBZ', 'SCBZ', 'SGB', 'MQ0F', 'AC', 'AN', 'DP4', 'MQ']\n"
     ]
    },
    {
     "name": "stderr",
     "output_type": "stream",
     "text": [
      "[E::idx_find_and_load] Could not retrieve index file for '/data/projects/GDC_Cancer_Wise/Brain/Data/all_vcf_subfolders/Folder_3/1c69f8e8-7d70-4bd1-8b42-7e93dc23da7b_wgs_gdc_realn.vcf.gz'\n"
     ]
    },
    {
     "name": "stdout",
     "output_type": "stream",
     "text": [
      "Processing TCGA-HT-7473\n",
      "['INDEL', 'IDV', 'IMF', 'DP', 'VDB', 'RPBZ', 'MQBZ', 'BQBZ', 'MQSBZ', 'SCBZ', 'SGB', 'MQ0F', 'AC', 'AN', 'DP4', 'MQ']\n"
     ]
    },
    {
     "name": "stderr",
     "output_type": "stream",
     "text": [
      "[E::idx_find_and_load] Could not retrieve index file for '/data/projects/GDC_Cancer_Wise/Brain/Data/all_vcf_subfolders/Folder_1/8cdb3395-5562-4fae-89af-2980f5f9b09b_wgs_gdc_realn.vcf.gz'\n"
     ]
    },
    {
     "name": "stdout",
     "output_type": "stream",
     "text": [
      "['INDEL', 'IDV', 'IMF', 'DP', 'VDB', 'RPBZ', 'MQBZ', 'BQBZ', 'MQSBZ', 'SCBZ', 'SGB', 'MQ0F', 'AC', 'AN', 'DP4', 'MQ']\n"
     ]
    },
    {
     "name": "stderr",
     "output_type": "stream",
     "text": [
      "[E::idx_find_and_load] Could not retrieve index file for '/data/projects/GDC_Cancer_Wise/Brain/Data/all_vcf_subfolders/Folder_9/a664fda7-9bf1-4016-a16a-bca75c6d139c_wgs_gdc_realn.vcf.gz'\n"
     ]
    },
    {
     "name": "stdout",
     "output_type": "stream",
     "text": [
      "Processing TCGA-HT-7475\n",
      "['INDEL', 'IDV', 'IMF', 'DP', 'VDB', 'RPBZ', 'MQBZ', 'BQBZ', 'MQSBZ', 'SCBZ', 'SGB', 'MQ0F', 'AC', 'AN', 'DP4', 'MQ']\n"
     ]
    },
    {
     "name": "stderr",
     "output_type": "stream",
     "text": [
      "[E::idx_find_and_load] Could not retrieve index file for '/data/projects/GDC_Cancer_Wise/Brain/Data/all_vcf_subfolders/Folder_1/cceae3ab-084b-4ee9-a98d-0dfb6a8c536f_wgs_gdc_realn.vcf.gz'\n"
     ]
    },
    {
     "name": "stdout",
     "output_type": "stream",
     "text": [
      "['INDEL', 'IDV', 'IMF', 'DP', 'VDB', 'RPBZ', 'MQBZ', 'BQBZ', 'MQSBZ', 'SCBZ', 'SGB', 'MQ0F', 'AC', 'AN', 'DP4', 'MQ']\n"
     ]
    },
    {
     "name": "stderr",
     "output_type": "stream",
     "text": [
      "[E::idx_find_and_load] Could not retrieve index file for '/data/projects/GDC_Cancer_Wise/Brain/Data/all_vcf_subfolders/Folder_5/b59dece1-1de9-46d3-b5cd-0efd8f453f8d_wgs_gdc_realn.vcf.gz'\n"
     ]
    },
    {
     "name": "stdout",
     "output_type": "stream",
     "text": [
      "Processing TCGA-HT-7476\n",
      "['INDEL', 'IDV', 'IMF', 'DP', 'VDB', 'RPBZ', 'MQBZ', 'BQBZ', 'MQSBZ', 'SCBZ', 'SGB', 'MQ0F', 'AC', 'AN', 'DP4', 'MQ']\n"
     ]
    },
    {
     "name": "stderr",
     "output_type": "stream",
     "text": [
      "[E::idx_find_and_load] Could not retrieve index file for '/data/projects/GDC_Cancer_Wise/Brain/Data/all_vcf_subfolders/Folder_10/c177e222-b7e4-464c-878b-31497e2794f6_wgs_gdc_realn.vcf.gz'\n"
     ]
    },
    {
     "name": "stdout",
     "output_type": "stream",
     "text": [
      "['INDEL', 'IDV', 'IMF', 'DP', 'VDB', 'RPBZ', 'MQBZ', 'BQBZ', 'MQSBZ', 'SCBZ', 'SGB', 'MQ0F', 'AC', 'AN', 'DP4', 'MQ']\n"
     ]
    },
    {
     "name": "stderr",
     "output_type": "stream",
     "text": [
      "[E::idx_find_and_load] Could not retrieve index file for '/data/projects/GDC_Cancer_Wise/Brain/Data/all_vcf_subfolders/Folder_8/06abbc57-f759-43b4-ad0a-3cee74e012b5_wgs_gdc_realn.vcf.gz'\n"
     ]
    },
    {
     "name": "stdout",
     "output_type": "stream",
     "text": [
      "Processing TCGA-HT-7481\n",
      "['INDEL', 'IDV', 'IMF', 'DP', 'VDB', 'RPBZ', 'MQBZ', 'BQBZ', 'MQSBZ', 'SCBZ', 'SGB', 'MQ0F', 'AC', 'AN', 'DP4', 'MQ']\n"
     ]
    },
    {
     "name": "stderr",
     "output_type": "stream",
     "text": [
      "[E::idx_find_and_load] Could not retrieve index file for '/data/projects/GDC_Cancer_Wise/Brain/Data/all_vcf_subfolders/Folder_4/5ca4d8f5-2ca5-44f2-8a2c-c4458b6c2b8d_wgs_gdc_realn.vcf.gz'\n"
     ]
    },
    {
     "name": "stdout",
     "output_type": "stream",
     "text": [
      "['INDEL', 'IDV', 'IMF', 'DP', 'VDB', 'RPBZ', 'MQBZ', 'BQBZ', 'MQSBZ', 'SCBZ', 'SGB', 'MQ0F', 'AC', 'AN', 'DP4', 'MQ']\n"
     ]
    },
    {
     "name": "stderr",
     "output_type": "stream",
     "text": [
      "[E::idx_find_and_load] Could not retrieve index file for '/data/projects/GDC_Cancer_Wise/Brain/Data/all_vcf_subfolders/Folder_11/af69e75d-03c6-4eb0-a0b8-129be37e30a2_wgs_gdc_realn.vcf.gz'\n"
     ]
    },
    {
     "name": "stdout",
     "output_type": "stream",
     "text": [
      "Processing TCGA-HT-7601\n",
      "['INDEL', 'IDV', 'IMF', 'DP', 'VDB', 'RPBZ', 'MQBZ', 'BQBZ', 'MQSBZ', 'SCBZ', 'SGB', 'MQ0F', 'AC', 'AN', 'DP4', 'MQ']\n"
     ]
    },
    {
     "name": "stderr",
     "output_type": "stream",
     "text": [
      "[E::idx_find_and_load] Could not retrieve index file for '/data/projects/GDC_Cancer_Wise/Brain/Data/all_vcf_subfolders/Folder_4/7e20eb67-b215-4519-96a6-6233b9e5ae9f_wgs_gdc_realn.vcf.gz'\n"
     ]
    },
    {
     "name": "stdout",
     "output_type": "stream",
     "text": [
      "Processing TCGA-HT-7602\n",
      "['INDEL', 'IDV', 'IMF', 'DP', 'VDB', 'RPBZ', 'MQBZ', 'BQBZ', 'MQSBZ', 'SCBZ', 'SGB', 'MQ0F', 'AC', 'AN', 'DP4', 'MQ']\n"
     ]
    },
    {
     "name": "stderr",
     "output_type": "stream",
     "text": [
      "[E::idx_find_and_load] Could not retrieve index file for '/data/projects/GDC_Cancer_Wise/Brain/Data/all_vcf_subfolders/Folder_3/5844876a-d390-4c02-acb9-f32647ca7375_wgs_gdc_realn.vcf.gz'\n"
     ]
    },
    {
     "name": "stdout",
     "output_type": "stream",
     "text": [
      "['INDEL', 'IDV', 'IMF', 'DP', 'VDB', 'RPBZ', 'MQBZ', 'BQBZ', 'MQSBZ', 'SCBZ', 'SGB', 'MQ0F', 'AC', 'AN', 'DP4', 'MQ']\n"
     ]
    },
    {
     "name": "stderr",
     "output_type": "stream",
     "text": [
      "[E::idx_find_and_load] Could not retrieve index file for '/data/projects/GDC_Cancer_Wise/Brain/Data/all_vcf_subfolders/Folder_10/88395c0e-4afe-434d-8b20-5a3eef8b7f00_wgs_gdc_realn.vcf.gz'\n"
     ]
    },
    {
     "name": "stdout",
     "output_type": "stream",
     "text": [
      "Processing TCGA-HT-7604\n",
      "['INDEL', 'IDV', 'IMF', 'DP', 'VDB', 'RPBZ', 'MQBZ', 'BQBZ', 'MQSBZ', 'SCBZ', 'SGB', 'MQ0F', 'AC', 'AN', 'DP4', 'MQ']\n"
     ]
    },
    {
     "name": "stderr",
     "output_type": "stream",
     "text": [
      "[E::idx_find_and_load] Could not retrieve index file for '/data/projects/GDC_Cancer_Wise/Brain/Data/all_vcf_subfolders/Folder_9/17624312-479e-4c9b-9c97-65d8c13b0217_wgs_gdc_realn.vcf.gz'\n"
     ]
    },
    {
     "name": "stdout",
     "output_type": "stream",
     "text": [
      "Processing TCGA-HT-7689\n",
      "['INDEL', 'IDV', 'IMF', 'DP', 'VDB', 'RPBZ', 'MQBZ', 'BQBZ', 'MQSBZ', 'SCBZ', 'SGB', 'MQ0F', 'AC', 'AN', 'DP4', 'MQ']\n"
     ]
    },
    {
     "name": "stderr",
     "output_type": "stream",
     "text": [
      "[E::idx_find_and_load] Could not retrieve index file for '/data/projects/GDC_Cancer_Wise/Brain/Data/all_vcf_subfolders/Folder_2/77467f98-3e82-4ce7-abbe-8e69e7a77dbe_wgs_gdc_realn.vcf.gz'\n"
     ]
    },
    {
     "name": "stdout",
     "output_type": "stream",
     "text": [
      "['INDEL', 'IDV', 'IMF', 'DP', 'VDB', 'RPBZ', 'MQBZ', 'BQBZ', 'MQSBZ', 'SCBZ', 'SGB', 'MQ0F', 'AC', 'AN', 'DP4', 'MQ']\n"
     ]
    },
    {
     "name": "stderr",
     "output_type": "stream",
     "text": [
      "[E::idx_find_and_load] Could not retrieve index file for '/data/projects/GDC_Cancer_Wise/Brain/Data/all_vcf_subfolders/Folder_1/b95cd446-0fed-4da2-892f-24b39d073ab4_wgs_gdc_realn.vcf.gz'\n"
     ]
    },
    {
     "name": "stdout",
     "output_type": "stream",
     "text": [
      "Processing TCGA-HT-7695\n",
      "['INDEL', 'IDV', 'IMF', 'DP', 'VDB', 'RPBZ', 'MQBZ', 'BQBZ', 'MQSBZ', 'SCBZ', 'SGB', 'MQ0F', 'AC', 'AN', 'DP4', 'MQ']\n"
     ]
    },
    {
     "name": "stderr",
     "output_type": "stream",
     "text": [
      "[E::idx_find_and_load] Could not retrieve index file for '/data/projects/GDC_Cancer_Wise/Brain/Data/all_vcf_subfolders/Folder_4/04911942-c9a9-473f-93d5-79c0c14944ac_wgs_gdc_realn.vcf.gz'\n"
     ]
    },
    {
     "name": "stdout",
     "output_type": "stream",
     "text": [
      "['INDEL', 'IDV', 'IMF', 'DP', 'VDB', 'RPBZ', 'MQBZ', 'BQBZ', 'MQSBZ', 'SCBZ', 'SGB', 'MQ0F', 'AC', 'AN', 'DP4', 'MQ']\n"
     ]
    },
    {
     "name": "stderr",
     "output_type": "stream",
     "text": [
      "[E::idx_find_and_load] Could not retrieve index file for '/data/projects/GDC_Cancer_Wise/Brain/Data/all_vcf_subfolders/Folder_9/86386b36-2950-4479-b79f-4b347053c8bc_wgs_gdc_realn.vcf.gz'\n"
     ]
    },
    {
     "name": "stdout",
     "output_type": "stream",
     "text": [
      "Processing TCGA-HT-8104\n",
      "['INDEL', 'IDV', 'IMF', 'DP', 'VDB', 'RPBZ', 'MQBZ', 'BQBZ', 'MQSBZ', 'SCBZ', 'SGB', 'MQ0F', 'AC', 'AN', 'DP4', 'MQ']\n"
     ]
    },
    {
     "name": "stderr",
     "output_type": "stream",
     "text": [
      "[E::idx_find_and_load] Could not retrieve index file for '/data/projects/GDC_Cancer_Wise/Brain/Data/all_vcf_subfolders/Folder_9/933456d7-bc8c-4136-8b45-035a41c4d6f2_wgs_gdc_realn.vcf.gz'\n"
     ]
    },
    {
     "name": "stdout",
     "output_type": "stream",
     "text": [
      "['INDEL', 'IDV', 'IMF', 'DP', 'VDB', 'RPBZ', 'MQBZ', 'BQBZ', 'MQSBZ', 'SCBZ', 'SGB', 'MQ0F', 'AC', 'AN', 'DP4', 'MQ']\n"
     ]
    },
    {
     "name": "stderr",
     "output_type": "stream",
     "text": [
      "[E::idx_find_and_load] Could not retrieve index file for '/data/projects/GDC_Cancer_Wise/Brain/Data/all_vcf_subfolders/Folder_6/3139defd-0311-4f2a-9ad4-a9903f481832_wgs_gdc_realn.vcf.gz'\n"
     ]
    },
    {
     "name": "stdout",
     "output_type": "stream",
     "text": [
      "Processing TCGA-HT-A5R7\n",
      "['INDEL', 'IDV', 'IMF', 'DP', 'VDB', 'RPBZ', 'MQBZ', 'BQBZ', 'MQSBZ', 'SCBZ', 'SGB', 'MQ0F', 'AC', 'AN', 'DP4', 'MQ']\n"
     ]
    },
    {
     "name": "stderr",
     "output_type": "stream",
     "text": [
      "[E::idx_find_and_load] Could not retrieve index file for '/data/projects/GDC_Cancer_Wise/Brain/Data/all_vcf_subfolders/Folder_5/45ec553b-1e7a-4b3c-86a1-c3f1547c1b43_wgs_gdc_realn.vcf.gz'\n"
     ]
    },
    {
     "name": "stdout",
     "output_type": "stream",
     "text": [
      "['INDEL', 'IDV', 'IMF', 'DP', 'VDB', 'RPBZ', 'MQBZ', 'BQBZ', 'MQSBZ', 'SCBZ', 'SGB', 'MQ0F', 'AC', 'AN', 'DP4', 'MQ']\n"
     ]
    },
    {
     "name": "stderr",
     "output_type": "stream",
     "text": [
      "[E::idx_find_and_load] Could not retrieve index file for '/data/projects/GDC_Cancer_Wise/Brain/Data/all_vcf_subfolders/Folder_7/c71f8c39-653f-42f2-ad3e-439cf86a0738_wgs_gdc_realn.vcf.gz'\n"
     ]
    },
    {
     "name": "stdout",
     "output_type": "stream",
     "text": [
      "Processing TCGA-HT-A61B\n",
      "['INDEL', 'IDV', 'IMF', 'DP', 'VDB', 'RPBZ', 'MQBZ', 'BQBZ', 'MQSBZ', 'SCBZ', 'SGB', 'MQ0F', 'AC', 'AN', 'DP4', 'MQ']\n"
     ]
    },
    {
     "name": "stderr",
     "output_type": "stream",
     "text": [
      "[E::idx_find_and_load] Could not retrieve index file for '/data/projects/GDC_Cancer_Wise/Brain/Data/all_vcf_subfolders/Folder_6/46c0dd13-2f72-4396-9f7a-07acb44d1d57_wgs_gdc_realn.vcf.gz'\n"
     ]
    },
    {
     "name": "stdout",
     "output_type": "stream",
     "text": [
      "Processing TCGA-HW-7486\n",
      "['INDEL', 'IDV', 'IMF', 'DP', 'VDB', 'RPBZ', 'MQBZ', 'BQBZ', 'MQSBZ', 'SCBZ', 'SGB', 'MQ0F', 'AC', 'AN', 'DP4', 'MQ']\n"
     ]
    },
    {
     "name": "stderr",
     "output_type": "stream",
     "text": [
      "[E::idx_find_and_load] Could not retrieve index file for '/data/projects/GDC_Cancer_Wise/Brain/Data/all_vcf_subfolders/Folder_8/41e3896b-9b23-4a4d-b3b1-61c60c2638b0_wgs_gdc_realn.vcf.gz'\n"
     ]
    },
    {
     "name": "stdout",
     "output_type": "stream",
     "text": [
      "['INDEL', 'IDV', 'IMF', 'DP', 'VDB', 'RPBZ', 'MQBZ', 'BQBZ', 'MQSBZ', 'SCBZ', 'SGB', 'MQ0F', 'AC', 'AN', 'DP4', 'MQ']\n"
     ]
    },
    {
     "name": "stderr",
     "output_type": "stream",
     "text": [
      "[E::idx_find_and_load] Could not retrieve index file for '/data/projects/GDC_Cancer_Wise/Brain/Data/all_vcf_subfolders/Folder_8/67f88cd9-ab77-4227-a8d7-5512246f9772_wgs_gdc_realn.vcf.gz'\n"
     ]
    },
    {
     "name": "stdout",
     "output_type": "stream",
     "text": [
      "Processing TCGA-HW-7487\n",
      "['INDEL', 'IDV', 'IMF', 'DP', 'VDB', 'RPBZ', 'MQBZ', 'BQBZ', 'MQSBZ', 'SCBZ', 'SGB', 'MQ0F', 'AC', 'AN', 'DP4', 'MQ']\n"
     ]
    },
    {
     "name": "stderr",
     "output_type": "stream",
     "text": [
      "[E::idx_find_and_load] Could not retrieve index file for '/data/projects/GDC_Cancer_Wise/Brain/Data/all_vcf_subfolders/Folder_1/eadcce99-923f-4b79-8c99-3656d412ea5a_wgs_gdc_realn.vcf.gz'\n"
     ]
    },
    {
     "name": "stdout",
     "output_type": "stream",
     "text": [
      "['INDEL', 'IDV', 'IMF', 'DP', 'VDB', 'RPBZ', 'MQBZ', 'BQBZ', 'MQSBZ', 'SCBZ', 'SGB', 'MQ0F', 'AC', 'AN', 'DP4', 'MQ']\n"
     ]
    },
    {
     "name": "stderr",
     "output_type": "stream",
     "text": [
      "[E::idx_find_and_load] Could not retrieve index file for '/data/projects/GDC_Cancer_Wise/Brain/Data/all_vcf_subfolders/Folder_10/c1abb741-4fcd-4161-b057-c7efd619cc99_wgs_gdc_realn.vcf.gz'\n"
     ]
    },
    {
     "name": "stdout",
     "output_type": "stream",
     "text": [
      "Processing TCGA-HW-7489\n",
      "['INDEL', 'IDV', 'IMF', 'DP', 'VDB', 'RPBZ', 'MQBZ', 'BQBZ', 'MQSBZ', 'SCBZ', 'SGB', 'MQ0F', 'AC', 'AN', 'DP4', 'MQ']\n"
     ]
    },
    {
     "name": "stderr",
     "output_type": "stream",
     "text": [
      "[E::idx_find_and_load] Could not retrieve index file for '/data/projects/GDC_Cancer_Wise/Brain/Data/all_vcf_subfolders/Folder_9/706fe100-2e22-4ce8-8730-6515c2db7ace_wgs_gdc_realn.vcf.gz'\n"
     ]
    },
    {
     "name": "stdout",
     "output_type": "stream",
     "text": [
      "['INDEL', 'IDV', 'IMF', 'DP', 'VDB', 'RPBZ', 'MQBZ', 'BQBZ', 'MQSBZ', 'SCBZ', 'SGB', 'MQ0F', 'AC', 'AN', 'DP4', 'MQ']\n"
     ]
    },
    {
     "name": "stderr",
     "output_type": "stream",
     "text": [
      "[E::idx_find_and_load] Could not retrieve index file for '/data/projects/GDC_Cancer_Wise/Brain/Data/all_vcf_subfolders/Folder_7/bbcc5f2c-08f5-424d-8a66-099084f3c47e_wgs_gdc_realn.vcf.gz'\n"
     ]
    },
    {
     "name": "stdout",
     "output_type": "stream",
     "text": [
      "Processing TCGA-HW-7495\n",
      "['INDEL', 'IDV', 'IMF', 'DP', 'VDB', 'RPBZ', 'MQBZ', 'BQBZ', 'MQSBZ', 'SCBZ', 'SGB', 'MQ0F', 'AC', 'AN', 'DP4', 'MQ']\n"
     ]
    },
    {
     "name": "stderr",
     "output_type": "stream",
     "text": [
      "[E::idx_find_and_load] Could not retrieve index file for '/data/projects/GDC_Cancer_Wise/Brain/Data/all_vcf_subfolders/Folder_1/48b8b9be-bbe0-4caf-b8dd-265be265d256_wgs_gdc_realn.vcf.gz'\n"
     ]
    },
    {
     "name": "stdout",
     "output_type": "stream",
     "text": [
      "['INDEL', 'IDV', 'IMF', 'DP', 'VDB', 'RPBZ', 'MQBZ', 'BQBZ', 'MQSBZ', 'SCBZ', 'SGB', 'MQ0F', 'AC', 'AN', 'DP4', 'MQ']\n"
     ]
    },
    {
     "name": "stderr",
     "output_type": "stream",
     "text": [
      "[E::idx_find_and_load] Could not retrieve index file for '/data/projects/GDC_Cancer_Wise/Brain/Data/all_vcf_subfolders/Folder_4/07dde76e-e126-4d66-ba85-059f076b7d04_wgs_gdc_realn.vcf.gz'\n"
     ]
    },
    {
     "name": "stdout",
     "output_type": "stream",
     "text": [
      "Processing TCGA-IK-7675\n",
      "['INDEL', 'IDV', 'IMF', 'DP', 'VDB', 'RPBZ', 'MQBZ', 'BQBZ', 'MQSBZ', 'SCBZ', 'SGB', 'MQ0F', 'AC', 'AN', 'DP4', 'MQ']\n"
     ]
    },
    {
     "name": "stderr",
     "output_type": "stream",
     "text": [
      "[E::idx_find_and_load] Could not retrieve index file for '/data/projects/GDC_Cancer_Wise/Brain/Data/all_vcf_subfolders/Folder_10/110272fc-ed7e-4515-84d7-5e7262cfc9a8_wgs_gdc_realn.vcf.gz'\n"
     ]
    },
    {
     "name": "stdout",
     "output_type": "stream",
     "text": [
      "['INDEL', 'IDV', 'IMF', 'DP', 'VDB', 'RPBZ', 'MQBZ', 'BQBZ', 'MQSBZ', 'SCBZ', 'SGB', 'MQ0F', 'AC', 'AN', 'DP4', 'MQ']\n"
     ]
    },
    {
     "name": "stderr",
     "output_type": "stream",
     "text": [
      "[E::idx_find_and_load] Could not retrieve index file for '/data/projects/GDC_Cancer_Wise/Brain/Data/all_vcf_subfolders/Folder_5/a78544d7-65c6-4778-af62-ceec24c14056_wgs_gdc_realn.vcf.gz'\n"
     ]
    },
    {
     "name": "stdout",
     "output_type": "stream",
     "text": [
      "Processing TCGA-TM-A7CF\n",
      "['INDEL', 'IDV', 'IMF', 'DP', 'VDB', 'RPBZ', 'MQBZ', 'BQBZ', 'MQSBZ', 'SCBZ', 'SGB', 'MQ0F', 'AC', 'AN', 'DP4', 'MQ']\n"
     ]
    },
    {
     "name": "stderr",
     "output_type": "stream",
     "text": [
      "[E::idx_find_and_load] Could not retrieve index file for '/data/projects/GDC_Cancer_Wise/Brain/Data/all_vcf_subfolders/Folder_1/c6066220-b6fd-47d0-8daf-6eceb9a01b57_wgs_gdc_realn.vcf.gz'\n"
     ]
    },
    {
     "name": "stdout",
     "output_type": "stream",
     "text": [
      "['INDEL', 'IDV', 'IMF', 'DP', 'VDB', 'RPBZ', 'MQBZ', 'BQBZ', 'MQSBZ', 'SCBZ', 'SGB', 'MQ0F', 'AC', 'AN', 'DP4', 'MQ']\n"
     ]
    },
    {
     "name": "stderr",
     "output_type": "stream",
     "text": [
      "[E::idx_find_and_load] Could not retrieve index file for '/data/projects/GDC_Cancer_Wise/Brain/Data/all_vcf_subfolders/Folder_1/979f7fd8-ab07-40a0-869a-d08fb8e598ff_wgs_gdc_realn.vcf.gz'\n"
     ]
    },
    {
     "name": "stdout",
     "output_type": "stream",
     "text": [
      "['INDEL', 'IDV', 'IMF', 'DP', 'VDB', 'RPBZ', 'MQBZ', 'BQBZ', 'MQSBZ', 'SCBZ', 'SGB', 'MQ0F', 'AC', 'AN', 'DP4', 'MQ']\n"
     ]
    },
    {
     "name": "stderr",
     "output_type": "stream",
     "text": [
      "[E::idx_find_and_load] Could not retrieve index file for '/data/projects/GDC_Cancer_Wise/Brain/Data/all_vcf_subfolders/Folder_8/21bf981d-32c6-4973-9c13-124087076e74_wgs_gdc_realn.vcf.gz'\n"
     ]
    },
    {
     "name": "stdout",
     "output_type": "stream",
     "text": [
      "Processing TCGA-TQ-A7RK\n",
      "['INDEL', 'IDV', 'IMF', 'DP', 'VDB', 'RPBZ', 'MQBZ', 'BQBZ', 'MQSBZ', 'SCBZ', 'SGB', 'MQ0F', 'AC', 'AN', 'DP4', 'MQ']\n"
     ]
    },
    {
     "name": "stderr",
     "output_type": "stream",
     "text": [
      "[E::idx_find_and_load] Could not retrieve index file for '/data/projects/GDC_Cancer_Wise/Brain/Data/all_vcf_subfolders/Folder_5/4a8c0837-95d6-428f-af78-778185c83361_wgs_gdc_realn.vcf.gz'\n"
     ]
    },
    {
     "name": "stdout",
     "output_type": "stream",
     "text": [
      "Error reading /data/projects/GDC_Cancer_Wise/Brain/Data/all_vcf_subfolders/Folder_9/1c7f2092-dcae-460d-a4f6-ce80cfc07567_wgs_gdc_realn.vcf.gz: invalid file `b'/data/projects/GDC_Cancer_Wise/Brain/Data/all_vcf_subfolders/Folder_9/1c7f2092-dcae-460d-a4f6-ce80cfc07567_wgs_gdc_realn.vcf.gz'` (mode=`b'r'`) - is it VCF/BCF format?\n",
      "['INDEL', 'IDV', 'IMF', 'DP', 'VDB', 'RPBZ', 'MQBZ', 'BQBZ', 'MQSBZ', 'SCBZ', 'SGB', 'MQ0F', 'AC', 'AN', 'DP4', 'MQ']\n"
     ]
    },
    {
     "name": "stderr",
     "output_type": "stream",
     "text": [
      "[E::idx_find_and_load] Could not retrieve index file for '/data/projects/GDC_Cancer_Wise/Brain/Data/all_vcf_subfolders/Folder_8/50f03b20-b605-4a6e-a55a-558b38bff7f0_wgs_gdc_realn.vcf.gz'\n"
     ]
    },
    {
     "name": "stdout",
     "output_type": "stream",
     "text": [
      "Processing TCGA-TQ-A7RV\n",
      "['INDEL', 'IDV', 'IMF', 'DP', 'VDB', 'RPBZ', 'MQBZ', 'BQBZ', 'MQSBZ', 'SCBZ', 'SGB', 'MQ0F', 'AC', 'AN', 'DP4', 'MQ']\n"
     ]
    },
    {
     "name": "stderr",
     "output_type": "stream",
     "text": [
      "[E::idx_find_and_load] Could not retrieve index file for '/data/projects/GDC_Cancer_Wise/Brain/Data/all_vcf_subfolders/Folder_3/c08e86a2-b582-4880-b58b-ee7ac9193ec1_wgs_gdc_realn.vcf.gz'\n"
     ]
    },
    {
     "name": "stdout",
     "output_type": "stream",
     "text": [
      "['INDEL', 'IDV', 'IMF', 'DP', 'VDB', 'RPBZ', 'MQBZ', 'BQBZ', 'MQSBZ', 'SCBZ', 'SGB', 'MQ0F', 'AC', 'AN', 'DP4', 'MQ']\n"
     ]
    },
    {
     "name": "stderr",
     "output_type": "stream",
     "text": [
      "[E::idx_find_and_load] Could not retrieve index file for '/data/projects/GDC_Cancer_Wise/Brain/Data/all_vcf_subfolders/Folder_8/feee6c8a-5011-4b94-8af6-5525449fac12_wgs_gdc_realn.vcf.gz'\n"
     ]
    },
    {
     "name": "stdout",
     "output_type": "stream",
     "text": [
      "['INDEL', 'IDV', 'IMF', 'DP', 'VDB', 'RPBZ', 'MQBZ', 'BQBZ', 'MQSBZ', 'SCBZ', 'SGB', 'MQ0F', 'AC', 'AN', 'DP4', 'MQ']\n"
     ]
    },
    {
     "name": "stderr",
     "output_type": "stream",
     "text": [
      "[E::idx_find_and_load] Could not retrieve index file for '/data/projects/GDC_Cancer_Wise/Brain/Data/all_vcf_subfolders/Folder_10/33b54500-b50b-4368-8406-71015c43b929_wgs_gdc_realn.vcf.gz'\n"
     ]
    },
    {
     "name": "stdout",
     "output_type": "stream",
     "text": [
      "Processing TCGA-TQ-A8XE\n",
      "['INDEL', 'IDV', 'IMF', 'DP', 'VDB', 'RPBZ', 'MQBZ', 'BQBZ', 'MQSBZ', 'SCBZ', 'SGB', 'MQ0F', 'AC', 'AN', 'DP4', 'MQ']\n"
     ]
    },
    {
     "name": "stderr",
     "output_type": "stream",
     "text": [
      "[E::idx_find_and_load] Could not retrieve index file for '/data/projects/GDC_Cancer_Wise/Brain/Data/all_vcf_subfolders/Folder_4/722d3df5-7254-44f0-bbe0-cf39dbd57866_wgs_gdc_realn.vcf.gz'\n"
     ]
    },
    {
     "name": "stdout",
     "output_type": "stream",
     "text": [
      "['INDEL', 'IDV', 'IMF', 'DP', 'VDB', 'RPBZ', 'MQBZ', 'BQBZ', 'MQSBZ', 'SCBZ', 'SGB', 'MQ0F', 'AC', 'AN', 'DP4', 'MQ']\n"
     ]
    },
    {
     "name": "stderr",
     "output_type": "stream",
     "text": [
      "[E::idx_find_and_load] Could not retrieve index file for '/data/projects/GDC_Cancer_Wise/Brain/Data/all_vcf_subfolders/Folder_10/4aaebadf-13d2-4865-8ab5-cc989d80a261_wgs_gdc_realn.vcf.gz'\n"
     ]
    },
    {
     "name": "stdout",
     "output_type": "stream",
     "text": [
      "['INDEL', 'IDV', 'IMF', 'DP', 'VDB', 'RPBZ', 'MQBZ', 'BQBZ', 'MQSBZ', 'SCBZ', 'SGB', 'MQ0F', 'AC', 'AN', 'DP4', 'MQ']\n"
     ]
    },
    {
     "name": "stderr",
     "output_type": "stream",
     "text": [
      "[E::idx_find_and_load] Could not retrieve index file for '/data/projects/GDC_Cancer_Wise/Brain/Data/all_vcf_subfolders/Folder_7/a82aa836-cace-4fe9-b49e-09b19a245b03_wgs_gdc_realn.vcf.gz'\n"
     ]
    }
   ],
   "source": [
    "for name, group in df_manifest.groupby('case_submitter_id'):\n",
    "    dir_path = f\"/data/projects/GDC_Cancer_Wise/Brain/Data/VCF_Patientwise/{name}\"\n",
    "    os.makedirs(dir_path, exist_ok=True)\n",
    "    print(f\"Processing {name}\")\n",
    "\n",
    "    normal_samples = group[group['biospecimen'].str.contains('Normal')]\n",
    "    tumor_samples = group[group['biospecimen'].str.contains('Tumor')]\n",
    "\n",
    "    if len(normal_samples) + len(tumor_samples) == 1:\n",
    "        # Handle the case with only one sample\n",
    "        single_sample = normal_samples if not normal_samples.empty else tumor_samples\n",
    "        sample = single_sample.iloc[0]\n",
    "        try:\n",
    "            single_sample_vcf = vcf_to_dataframe(sample['file_path'])\n",
    "            filename = f\"{sample['TCGA_barcode']}_SingleSample.vcf\"\n",
    "            single_sample_vcf.to_csv(os.path.join(dir_path, filename), index=False)\n",
    "        except ValueError as e:\n",
    "            print(f\"Error reading {sample['file_path']}: {e}\")\n",
    "    else:\n",
    "        # Process multiple samples as before\n",
    "        for _, normal_sample in normal_samples.iterrows():\n",
    "            try:\n",
    "                normal_vcf = vcf_to_dataframe(normal_sample['file_path'])\n",
    "            except ValueError as e:\n",
    "                print(f\"Error reading {normal_sample['file_path']}: {e}\")\n",
    "                continue\n",
    "\n",
    "            for _, tumor_sample in tumor_samples.iterrows():\n",
    "                try:\n",
    "                    tumor_vcf = vcf_to_dataframe(tumor_sample['file_path'])\n",
    "                    germline_filename = f\"{tumor_sample['TCGA_barcode']}_{normal_sample['TCGA_barcode']}_Germline.vcf\"\n",
    "                    somatic_filename = f\"{tumor_sample['TCGA_barcode']}_{normal_sample['TCGA_barcode']}_Somatic.vcf\"\n",
    "\n",
    "                    germline_vcf = pd.merge(normal_vcf, tumor_vcf, on=[\"CHROM\", \"POS\", \"REF\", \"ALT\"], how='inner')\n",
    "                    germline_vcf.to_csv(os.path.join(dir_path, germline_filename), index=False)\n",
    "\n",
    "                    somatic_vcf = pd.merge(tumor_vcf, normal_vcf, on=[\"CHROM\", \"POS\", \"REF\", \"ALT\"], how='left', indicator=True)\n",
    "                    somatic_vcf = somatic_vcf[somatic_vcf['_merge'] == 'left_only'].drop(columns=['_merge'])\n",
    "                    somatic_vcf.to_csv(os.path.join(dir_path, somatic_filename), index=False)\n",
    "                except ValueError as e:\n",
    "                    print(f\"Error reading {tumor_sample['file_path']}: {e}\")"
   ]
  },
  {
   "cell_type": "code",
   "execution_count": 4,
   "id": "d3034c68-cd99-4bb1-9f06-bf13e173117c",
   "metadata": {},
   "outputs": [
    {
     "name": "stdout",
     "output_type": "stream",
     "text": [
      "['INDEL', 'IDV', 'IMF', 'DP', 'VDB', 'RPBZ', 'MQBZ', 'BQBZ', 'MQSBZ', 'SCBZ', 'SGB', 'MQ0F', 'AC', 'AN', 'DP4', 'MQ']\n"
     ]
    },
    {
     "name": "stderr",
     "output_type": "stream",
     "text": [
      "[E::idx_find_and_load] Could not retrieve index file for '/data/projects/GDC_Cancer_Wise/Brain/Data/all_vcf_subfolders/Folder_4/96ef40c3-8d4c-4fe1-a33a-99f5b205a0bb_wgs_gdc_realn.vcf.gz'\n"
     ]
    }
   ],
   "source": [
    "df_solid_vcf = vcf_to_dataframe(solid_tumor_vcf_file_path)"
   ]
  },
  {
   "cell_type": "code",
   "execution_count": 5,
   "id": "f8690328-3b7a-4ab8-b2c7-f3778e30fa67",
   "metadata": {},
   "outputs": [
    {
     "data": {
      "text/html": [
       "<div>\n",
       "<style scoped>\n",
       "    .dataframe tbody tr th:only-of-type {\n",
       "        vertical-align: middle;\n",
       "    }\n",
       "\n",
       "    .dataframe tbody tr th {\n",
       "        vertical-align: top;\n",
       "    }\n",
       "\n",
       "    .dataframe thead th {\n",
       "        text-align: right;\n",
       "    }\n",
       "</style>\n",
       "<table border=\"1\" class=\"dataframe\">\n",
       "  <thead>\n",
       "    <tr style=\"text-align: right;\">\n",
       "      <th></th>\n",
       "      <th>INDEL</th>\n",
       "      <th>IDV</th>\n",
       "      <th>IMF</th>\n",
       "      <th>DP</th>\n",
       "      <th>VDB</th>\n",
       "      <th>RPBZ</th>\n",
       "      <th>MQBZ</th>\n",
       "      <th>BQBZ</th>\n",
       "      <th>MQSBZ</th>\n",
       "      <th>SCBZ</th>\n",
       "      <th>...</th>\n",
       "      <th>AN</th>\n",
       "      <th>DP4</th>\n",
       "      <th>MQ</th>\n",
       "      <th>CHROM</th>\n",
       "      <th>POS</th>\n",
       "      <th>ID</th>\n",
       "      <th>REF</th>\n",
       "      <th>ALT</th>\n",
       "      <th>QUAL</th>\n",
       "      <th>FILTER</th>\n",
       "    </tr>\n",
       "  </thead>\n",
       "  <tbody>\n",
       "    <tr>\n",
       "      <th>0</th>\n",
       "      <td>False</td>\n",
       "      <td>NaN</td>\n",
       "      <td>NaN</td>\n",
       "      <td>38</td>\n",
       "      <td>0.168615</td>\n",
       "      <td>-1.519560</td>\n",
       "      <td>2.695900</td>\n",
       "      <td>-0.989577</td>\n",
       "      <td>0.157583</td>\n",
       "      <td>0.099217</td>\n",
       "      <td>...</td>\n",
       "      <td>2</td>\n",
       "      <td>(5, 9, 14, 9)</td>\n",
       "      <td>17</td>\n",
       "      <td>chr1</td>\n",
       "      <td>14464</td>\n",
       "      <td>None</td>\n",
       "      <td>A</td>\n",
       "      <td>T</td>\n",
       "      <td>120.556999</td>\n",
       "      <td>PASS</td>\n",
       "    </tr>\n",
       "    <tr>\n",
       "      <th>1</th>\n",
       "      <td>False</td>\n",
       "      <td>NaN</td>\n",
       "      <td>NaN</td>\n",
       "      <td>14</td>\n",
       "      <td>0.096538</td>\n",
       "      <td>NaN</td>\n",
       "      <td>NaN</td>\n",
       "      <td>NaN</td>\n",
       "      <td>1.154700</td>\n",
       "      <td>NaN</td>\n",
       "      <td>...</td>\n",
       "      <td>2</td>\n",
       "      <td>(0, 0, 8, 6)</td>\n",
       "      <td>1</td>\n",
       "      <td>chr1</td>\n",
       "      <td>15274</td>\n",
       "      <td>None</td>\n",
       "      <td>A</td>\n",
       "      <td>T</td>\n",
       "      <td>4.389120</td>\n",
       "      <td>PASS</td>\n",
       "    </tr>\n",
       "    <tr>\n",
       "      <th>2</th>\n",
       "      <td>False</td>\n",
       "      <td>NaN</td>\n",
       "      <td>NaN</td>\n",
       "      <td>55</td>\n",
       "      <td>0.000097</td>\n",
       "      <td>2.395210</td>\n",
       "      <td>-5.105560</td>\n",
       "      <td>0.556246</td>\n",
       "      <td>0.978786</td>\n",
       "      <td>0.000000</td>\n",
       "      <td>...</td>\n",
       "      <td>2</td>\n",
       "      <td>(8, 16, 16, 14)</td>\n",
       "      <td>25</td>\n",
       "      <td>chr1</td>\n",
       "      <td>16298</td>\n",
       "      <td>None</td>\n",
       "      <td>C</td>\n",
       "      <td>T</td>\n",
       "      <td>65.098099</td>\n",
       "      <td>PASS</td>\n",
       "    </tr>\n",
       "    <tr>\n",
       "      <th>3</th>\n",
       "      <td>False</td>\n",
       "      <td>NaN</td>\n",
       "      <td>NaN</td>\n",
       "      <td>34</td>\n",
       "      <td>0.243468</td>\n",
       "      <td>-0.831161</td>\n",
       "      <td>0.534548</td>\n",
       "      <td>1.239040</td>\n",
       "      <td>3.486190</td>\n",
       "      <td>1.349680</td>\n",
       "      <td>...</td>\n",
       "      <td>2</td>\n",
       "      <td>(7, 8, 8, 9)</td>\n",
       "      <td>11</td>\n",
       "      <td>chr1</td>\n",
       "      <td>17697</td>\n",
       "      <td>None</td>\n",
       "      <td>G</td>\n",
       "      <td>C</td>\n",
       "      <td>31.358000</td>\n",
       "      <td>PASS</td>\n",
       "    </tr>\n",
       "    <tr>\n",
       "      <th>4</th>\n",
       "      <td>False</td>\n",
       "      <td>NaN</td>\n",
       "      <td>NaN</td>\n",
       "      <td>35</td>\n",
       "      <td>0.043389</td>\n",
       "      <td>-2.969320</td>\n",
       "      <td>2.414310</td>\n",
       "      <td>0.668867</td>\n",
       "      <td>0.850857</td>\n",
       "      <td>0.764071</td>\n",
       "      <td>...</td>\n",
       "      <td>2</td>\n",
       "      <td>(1, 3, 11, 19)</td>\n",
       "      <td>8</td>\n",
       "      <td>chr1</td>\n",
       "      <td>28563</td>\n",
       "      <td>None</td>\n",
       "      <td>A</td>\n",
       "      <td>G</td>\n",
       "      <td>70.210701</td>\n",
       "      <td>PASS</td>\n",
       "    </tr>\n",
       "    <tr>\n",
       "      <th>...</th>\n",
       "      <td>...</td>\n",
       "      <td>...</td>\n",
       "      <td>...</td>\n",
       "      <td>...</td>\n",
       "      <td>...</td>\n",
       "      <td>...</td>\n",
       "      <td>...</td>\n",
       "      <td>...</td>\n",
       "      <td>...</td>\n",
       "      <td>...</td>\n",
       "      <td>...</td>\n",
       "      <td>...</td>\n",
       "      <td>...</td>\n",
       "      <td>...</td>\n",
       "      <td>...</td>\n",
       "      <td>...</td>\n",
       "      <td>...</td>\n",
       "      <td>...</td>\n",
       "      <td>...</td>\n",
       "      <td>...</td>\n",
       "      <td>...</td>\n",
       "    </tr>\n",
       "    <tr>\n",
       "      <th>4453887</th>\n",
       "      <td>True</td>\n",
       "      <td>11.0</td>\n",
       "      <td>0.458333</td>\n",
       "      <td>24</td>\n",
       "      <td>0.067721</td>\n",
       "      <td>-0.434619</td>\n",
       "      <td>0.000000</td>\n",
       "      <td>-1.542560</td>\n",
       "      <td>-0.808507</td>\n",
       "      <td>2.561380</td>\n",
       "      <td>...</td>\n",
       "      <td>2</td>\n",
       "      <td>(2, 10, 1, 9)</td>\n",
       "      <td>57</td>\n",
       "      <td>chrY</td>\n",
       "      <td>56887138</td>\n",
       "      <td>None</td>\n",
       "      <td>TG</td>\n",
       "      <td>T</td>\n",
       "      <td>47.963902</td>\n",
       "      <td>PASS</td>\n",
       "    </tr>\n",
       "    <tr>\n",
       "      <th>4453888</th>\n",
       "      <td>True</td>\n",
       "      <td>11.0</td>\n",
       "      <td>0.478261</td>\n",
       "      <td>23</td>\n",
       "      <td>0.339431</td>\n",
       "      <td>0.430927</td>\n",
       "      <td>-0.279382</td>\n",
       "      <td>-1.542560</td>\n",
       "      <td>-0.808507</td>\n",
       "      <td>-2.191110</td>\n",
       "      <td>...</td>\n",
       "      <td>2</td>\n",
       "      <td>(1, 10, 3, 8)</td>\n",
       "      <td>57</td>\n",
       "      <td>chrY</td>\n",
       "      <td>56887139</td>\n",
       "      <td>None</td>\n",
       "      <td>GTTTTT</td>\n",
       "      <td>GTTTT</td>\n",
       "      <td>67.071297</td>\n",
       "      <td>PASS</td>\n",
       "    </tr>\n",
       "    <tr>\n",
       "      <th>4453889</th>\n",
       "      <td>False</td>\n",
       "      <td>NaN</td>\n",
       "      <td>NaN</td>\n",
       "      <td>24</td>\n",
       "      <td>0.238664</td>\n",
       "      <td>NaN</td>\n",
       "      <td>NaN</td>\n",
       "      <td>NaN</td>\n",
       "      <td>0.561134</td>\n",
       "      <td>NaN</td>\n",
       "      <td>...</td>\n",
       "      <td>2</td>\n",
       "      <td>(0, 0, 2, 19)</td>\n",
       "      <td>52</td>\n",
       "      <td>chrY</td>\n",
       "      <td>56887153</td>\n",
       "      <td>None</td>\n",
       "      <td>C</td>\n",
       "      <td>T</td>\n",
       "      <td>222.417007</td>\n",
       "      <td>PASS</td>\n",
       "    </tr>\n",
       "    <tr>\n",
       "      <th>4453890</th>\n",
       "      <td>False</td>\n",
       "      <td>NaN</td>\n",
       "      <td>NaN</td>\n",
       "      <td>8</td>\n",
       "      <td>0.120933</td>\n",
       "      <td>NaN</td>\n",
       "      <td>NaN</td>\n",
       "      <td>NaN</td>\n",
       "      <td>NaN</td>\n",
       "      <td>NaN</td>\n",
       "      <td>...</td>\n",
       "      <td>2</td>\n",
       "      <td>(0, 0, 0, 7)</td>\n",
       "      <td>31</td>\n",
       "      <td>chrY</td>\n",
       "      <td>56887210</td>\n",
       "      <td>None</td>\n",
       "      <td>A</td>\n",
       "      <td>C</td>\n",
       "      <td>87.415001</td>\n",
       "      <td>PASS</td>\n",
       "    </tr>\n",
       "    <tr>\n",
       "      <th>4453891</th>\n",
       "      <td>False</td>\n",
       "      <td>NaN</td>\n",
       "      <td>NaN</td>\n",
       "      <td>5</td>\n",
       "      <td>0.067296</td>\n",
       "      <td>NaN</td>\n",
       "      <td>NaN</td>\n",
       "      <td>NaN</td>\n",
       "      <td>NaN</td>\n",
       "      <td>NaN</td>\n",
       "      <td>...</td>\n",
       "      <td>2</td>\n",
       "      <td>(0, 0, 0, 5)</td>\n",
       "      <td>27</td>\n",
       "      <td>chrY</td>\n",
       "      <td>56887228</td>\n",
       "      <td>None</td>\n",
       "      <td>T</td>\n",
       "      <td>C</td>\n",
       "      <td>62.414700</td>\n",
       "      <td>PASS</td>\n",
       "    </tr>\n",
       "  </tbody>\n",
       "</table>\n",
       "<p>4453892 rows × 23 columns</p>\n",
       "</div>"
      ],
      "text/plain": [
       "         INDEL   IDV       IMF  DP       VDB      RPBZ      MQBZ      BQBZ  \\\n",
       "0        False   NaN       NaN  38  0.168615 -1.519560  2.695900 -0.989577   \n",
       "1        False   NaN       NaN  14  0.096538       NaN       NaN       NaN   \n",
       "2        False   NaN       NaN  55  0.000097  2.395210 -5.105560  0.556246   \n",
       "3        False   NaN       NaN  34  0.243468 -0.831161  0.534548  1.239040   \n",
       "4        False   NaN       NaN  35  0.043389 -2.969320  2.414310  0.668867   \n",
       "...        ...   ...       ...  ..       ...       ...       ...       ...   \n",
       "4453887   True  11.0  0.458333  24  0.067721 -0.434619  0.000000 -1.542560   \n",
       "4453888   True  11.0  0.478261  23  0.339431  0.430927 -0.279382 -1.542560   \n",
       "4453889  False   NaN       NaN  24  0.238664       NaN       NaN       NaN   \n",
       "4453890  False   NaN       NaN   8  0.120933       NaN       NaN       NaN   \n",
       "4453891  False   NaN       NaN   5  0.067296       NaN       NaN       NaN   \n",
       "\n",
       "            MQSBZ      SCBZ  ...  AN              DP4  MQ  CHROM       POS  \\\n",
       "0        0.157583  0.099217  ...   2    (5, 9, 14, 9)  17   chr1     14464   \n",
       "1        1.154700       NaN  ...   2     (0, 0, 8, 6)   1   chr1     15274   \n",
       "2        0.978786  0.000000  ...   2  (8, 16, 16, 14)  25   chr1     16298   \n",
       "3        3.486190  1.349680  ...   2     (7, 8, 8, 9)  11   chr1     17697   \n",
       "4        0.850857  0.764071  ...   2   (1, 3, 11, 19)   8   chr1     28563   \n",
       "...           ...       ...  ...  ..              ...  ..    ...       ...   \n",
       "4453887 -0.808507  2.561380  ...   2    (2, 10, 1, 9)  57   chrY  56887138   \n",
       "4453888 -0.808507 -2.191110  ...   2    (1, 10, 3, 8)  57   chrY  56887139   \n",
       "4453889  0.561134       NaN  ...   2    (0, 0, 2, 19)  52   chrY  56887153   \n",
       "4453890       NaN       NaN  ...   2     (0, 0, 0, 7)  31   chrY  56887210   \n",
       "4453891       NaN       NaN  ...   2     (0, 0, 0, 5)  27   chrY  56887228   \n",
       "\n",
       "           ID     REF    ALT        QUAL FILTER  \n",
       "0        None       A      T  120.556999   PASS  \n",
       "1        None       A      T    4.389120   PASS  \n",
       "2        None       C      T   65.098099   PASS  \n",
       "3        None       G      C   31.358000   PASS  \n",
       "4        None       A      G   70.210701   PASS  \n",
       "...       ...     ...    ...         ...    ...  \n",
       "4453887  None      TG      T   47.963902   PASS  \n",
       "4453888  None  GTTTTT  GTTTT   67.071297   PASS  \n",
       "4453889  None       C      T  222.417007   PASS  \n",
       "4453890  None       A      C   87.415001   PASS  \n",
       "4453891  None       T      C   62.414700   PASS  \n",
       "\n",
       "[4453892 rows x 23 columns]"
      ]
     },
     "execution_count": 5,
     "metadata": {},
     "output_type": "execute_result"
    }
   ],
   "source": [
    "df_solid_vcf"
   ]
  },
  {
   "cell_type": "code",
   "execution_count": 6,
   "id": "2f8f891b-995f-4a8b-aee4-659e3d7c2a1d",
   "metadata": {},
   "outputs": [
    {
     "name": "stdout",
     "output_type": "stream",
     "text": [
      "['INDEL', 'IDV', 'IMF', 'DP', 'VDB', 'RPBZ', 'MQBZ', 'BQBZ', 'MQSBZ', 'SCBZ', 'SGB', 'MQ0F', 'AC', 'AN', 'DP4', 'MQ']\n"
     ]
    },
    {
     "name": "stderr",
     "output_type": "stream",
     "text": [
      "[E::idx_find_and_load] Could not retrieve index file for '/data/projects/GDC_Cancer_Wise/Brain/Data/all_vcf_subfolders/Folder_4/e8114ae7-e076-44ca-b2bb-b6c3629b53b0_wgs_gdc_realn.vcf.gz'\n"
     ]
    }
   ],
   "source": [
    "df_normal_vcf = vcf_to_dataframe(normal_vcf_file_path)"
   ]
  },
  {
   "cell_type": "code",
   "execution_count": 7,
   "id": "26b26400-fe95-4358-8253-08abebd94685",
   "metadata": {},
   "outputs": [
    {
     "data": {
      "text/html": [
       "<div>\n",
       "<style scoped>\n",
       "    .dataframe tbody tr th:only-of-type {\n",
       "        vertical-align: middle;\n",
       "    }\n",
       "\n",
       "    .dataframe tbody tr th {\n",
       "        vertical-align: top;\n",
       "    }\n",
       "\n",
       "    .dataframe thead th {\n",
       "        text-align: right;\n",
       "    }\n",
       "</style>\n",
       "<table border=\"1\" class=\"dataframe\">\n",
       "  <thead>\n",
       "    <tr style=\"text-align: right;\">\n",
       "      <th></th>\n",
       "      <th>INDEL</th>\n",
       "      <th>IDV</th>\n",
       "      <th>IMF</th>\n",
       "      <th>DP</th>\n",
       "      <th>VDB</th>\n",
       "      <th>RPBZ</th>\n",
       "      <th>MQBZ</th>\n",
       "      <th>BQBZ</th>\n",
       "      <th>MQSBZ</th>\n",
       "      <th>SCBZ</th>\n",
       "      <th>...</th>\n",
       "      <th>AN</th>\n",
       "      <th>DP4</th>\n",
       "      <th>MQ</th>\n",
       "      <th>CHROM</th>\n",
       "      <th>POS</th>\n",
       "      <th>ID</th>\n",
       "      <th>REF</th>\n",
       "      <th>ALT</th>\n",
       "      <th>QUAL</th>\n",
       "      <th>FILTER</th>\n",
       "    </tr>\n",
       "  </thead>\n",
       "  <tbody>\n",
       "    <tr>\n",
       "      <th>0</th>\n",
       "      <td>False</td>\n",
       "      <td>NaN</td>\n",
       "      <td>NaN</td>\n",
       "      <td>26</td>\n",
       "      <td>0.196869</td>\n",
       "      <td>0.986133</td>\n",
       "      <td>1.089710</td>\n",
       "      <td>1.259860</td>\n",
       "      <td>0.095518</td>\n",
       "      <td>-1.565020</td>\n",
       "      <td>...</td>\n",
       "      <td>2</td>\n",
       "      <td>(2, 15, 6, 1)</td>\n",
       "      <td>11</td>\n",
       "      <td>chr1</td>\n",
       "      <td>14464</td>\n",
       "      <td>None</td>\n",
       "      <td>A</td>\n",
       "      <td>T</td>\n",
       "      <td>7.955280</td>\n",
       "      <td>PASS</td>\n",
       "    </tr>\n",
       "    <tr>\n",
       "      <th>1</th>\n",
       "      <td>False</td>\n",
       "      <td>NaN</td>\n",
       "      <td>NaN</td>\n",
       "      <td>28</td>\n",
       "      <td>0.723549</td>\n",
       "      <td>0.765102</td>\n",
       "      <td>-3.736500</td>\n",
       "      <td>0.605810</td>\n",
       "      <td>0.024496</td>\n",
       "      <td>-1.596450</td>\n",
       "      <td>...</td>\n",
       "      <td>2</td>\n",
       "      <td>(6, 5, 7, 9)</td>\n",
       "      <td>18</td>\n",
       "      <td>chr1</td>\n",
       "      <td>16298</td>\n",
       "      <td>None</td>\n",
       "      <td>C</td>\n",
       "      <td>T</td>\n",
       "      <td>10.476600</td>\n",
       "      <td>PASS</td>\n",
       "    </tr>\n",
       "    <tr>\n",
       "      <th>2</th>\n",
       "      <td>False</td>\n",
       "      <td>NaN</td>\n",
       "      <td>NaN</td>\n",
       "      <td>44</td>\n",
       "      <td>0.199423</td>\n",
       "      <td>-0.240291</td>\n",
       "      <td>1.457090</td>\n",
       "      <td>-3.996450</td>\n",
       "      <td>2.032460</td>\n",
       "      <td>1.414210</td>\n",
       "      <td>...</td>\n",
       "      <td>2</td>\n",
       "      <td>(10, 18, 3, 11)</td>\n",
       "      <td>19</td>\n",
       "      <td>chr1</td>\n",
       "      <td>16495</td>\n",
       "      <td>None</td>\n",
       "      <td>G</td>\n",
       "      <td>C</td>\n",
       "      <td>38.150700</td>\n",
       "      <td>PASS</td>\n",
       "    </tr>\n",
       "    <tr>\n",
       "      <th>3</th>\n",
       "      <td>False</td>\n",
       "      <td>NaN</td>\n",
       "      <td>NaN</td>\n",
       "      <td>27</td>\n",
       "      <td>0.062872</td>\n",
       "      <td>1.453940</td>\n",
       "      <td>-0.062694</td>\n",
       "      <td>2.270110</td>\n",
       "      <td>2.131610</td>\n",
       "      <td>0.107184</td>\n",
       "      <td>...</td>\n",
       "      <td>2</td>\n",
       "      <td>(6, 12, 1, 6)</td>\n",
       "      <td>17</td>\n",
       "      <td>chr1</td>\n",
       "      <td>16534</td>\n",
       "      <td>None</td>\n",
       "      <td>C</td>\n",
       "      <td>T</td>\n",
       "      <td>6.952120</td>\n",
       "      <td>PASS</td>\n",
       "    </tr>\n",
       "    <tr>\n",
       "      <th>4</th>\n",
       "      <td>False</td>\n",
       "      <td>NaN</td>\n",
       "      <td>NaN</td>\n",
       "      <td>41</td>\n",
       "      <td>0.072492</td>\n",
       "      <td>-3.566280</td>\n",
       "      <td>3.150070</td>\n",
       "      <td>-0.106739</td>\n",
       "      <td>0.367101</td>\n",
       "      <td>0.439941</td>\n",
       "      <td>...</td>\n",
       "      <td>2</td>\n",
       "      <td>(1, 5, 13, 18)</td>\n",
       "      <td>8</td>\n",
       "      <td>chr1</td>\n",
       "      <td>28563</td>\n",
       "      <td>None</td>\n",
       "      <td>A</td>\n",
       "      <td>G</td>\n",
       "      <td>87.132004</td>\n",
       "      <td>PASS</td>\n",
       "    </tr>\n",
       "    <tr>\n",
       "      <th>...</th>\n",
       "      <td>...</td>\n",
       "      <td>...</td>\n",
       "      <td>...</td>\n",
       "      <td>...</td>\n",
       "      <td>...</td>\n",
       "      <td>...</td>\n",
       "      <td>...</td>\n",
       "      <td>...</td>\n",
       "      <td>...</td>\n",
       "      <td>...</td>\n",
       "      <td>...</td>\n",
       "      <td>...</td>\n",
       "      <td>...</td>\n",
       "      <td>...</td>\n",
       "      <td>...</td>\n",
       "      <td>...</td>\n",
       "      <td>...</td>\n",
       "      <td>...</td>\n",
       "      <td>...</td>\n",
       "      <td>...</td>\n",
       "      <td>...</td>\n",
       "    </tr>\n",
       "    <tr>\n",
       "      <th>4428336</th>\n",
       "      <td>True</td>\n",
       "      <td>5.0</td>\n",
       "      <td>0.5</td>\n",
       "      <td>10</td>\n",
       "      <td>0.385886</td>\n",
       "      <td>-0.419058</td>\n",
       "      <td>1.000000</td>\n",
       "      <td>-1.636750</td>\n",
       "      <td>-0.570352</td>\n",
       "      <td>-0.149071</td>\n",
       "      <td>...</td>\n",
       "      <td>2</td>\n",
       "      <td>(0, 3, 1, 6)</td>\n",
       "      <td>58</td>\n",
       "      <td>chrY</td>\n",
       "      <td>56887138</td>\n",
       "      <td>None</td>\n",
       "      <td>TG</td>\n",
       "      <td>T</td>\n",
       "      <td>57.048901</td>\n",
       "      <td>PASS</td>\n",
       "    </tr>\n",
       "    <tr>\n",
       "      <th>4428337</th>\n",
       "      <td>True</td>\n",
       "      <td>4.0</td>\n",
       "      <td>0.4</td>\n",
       "      <td>10</td>\n",
       "      <td>0.215949</td>\n",
       "      <td>-0.534624</td>\n",
       "      <td>0.816497</td>\n",
       "      <td>-1.636750</td>\n",
       "      <td>-0.570352</td>\n",
       "      <td>-1.217160</td>\n",
       "      <td>...</td>\n",
       "      <td>2</td>\n",
       "      <td>(0, 5, 1, 3)</td>\n",
       "      <td>60</td>\n",
       "      <td>chrY</td>\n",
       "      <td>56887139</td>\n",
       "      <td>None</td>\n",
       "      <td>GTTTTT</td>\n",
       "      <td>GTTTT</td>\n",
       "      <td>15.595200</td>\n",
       "      <td>PASS</td>\n",
       "    </tr>\n",
       "    <tr>\n",
       "      <th>4428338</th>\n",
       "      <td>False</td>\n",
       "      <td>NaN</td>\n",
       "      <td>NaN</td>\n",
       "      <td>10</td>\n",
       "      <td>0.380974</td>\n",
       "      <td>NaN</td>\n",
       "      <td>NaN</td>\n",
       "      <td>NaN</td>\n",
       "      <td>-0.333333</td>\n",
       "      <td>NaN</td>\n",
       "      <td>...</td>\n",
       "      <td>2</td>\n",
       "      <td>(0, 0, 1, 9)</td>\n",
       "      <td>56</td>\n",
       "      <td>chrY</td>\n",
       "      <td>56887153</td>\n",
       "      <td>None</td>\n",
       "      <td>C</td>\n",
       "      <td>T</td>\n",
       "      <td>125.416000</td>\n",
       "      <td>PASS</td>\n",
       "    </tr>\n",
       "    <tr>\n",
       "      <th>4428339</th>\n",
       "      <td>False</td>\n",
       "      <td>NaN</td>\n",
       "      <td>NaN</td>\n",
       "      <td>3</td>\n",
       "      <td>0.345596</td>\n",
       "      <td>NaN</td>\n",
       "      <td>NaN</td>\n",
       "      <td>NaN</td>\n",
       "      <td>NaN</td>\n",
       "      <td>NaN</td>\n",
       "      <td>...</td>\n",
       "      <td>2</td>\n",
       "      <td>(0, 0, 0, 3)</td>\n",
       "      <td>26</td>\n",
       "      <td>chrY</td>\n",
       "      <td>56887210</td>\n",
       "      <td>None</td>\n",
       "      <td>A</td>\n",
       "      <td>C</td>\n",
       "      <td>25.426701</td>\n",
       "      <td>PASS</td>\n",
       "    </tr>\n",
       "    <tr>\n",
       "      <th>4428340</th>\n",
       "      <td>False</td>\n",
       "      <td>NaN</td>\n",
       "      <td>NaN</td>\n",
       "      <td>2</td>\n",
       "      <td>0.260000</td>\n",
       "      <td>NaN</td>\n",
       "      <td>NaN</td>\n",
       "      <td>NaN</td>\n",
       "      <td>NaN</td>\n",
       "      <td>NaN</td>\n",
       "      <td>...</td>\n",
       "      <td>2</td>\n",
       "      <td>(0, 0, 0, 2)</td>\n",
       "      <td>27</td>\n",
       "      <td>chrY</td>\n",
       "      <td>56887228</td>\n",
       "      <td>None</td>\n",
       "      <td>T</td>\n",
       "      <td>C</td>\n",
       "      <td>21.445499</td>\n",
       "      <td>PASS</td>\n",
       "    </tr>\n",
       "  </tbody>\n",
       "</table>\n",
       "<p>4428341 rows × 23 columns</p>\n",
       "</div>"
      ],
      "text/plain": [
       "         INDEL  IDV  IMF  DP       VDB      RPBZ      MQBZ      BQBZ  \\\n",
       "0        False  NaN  NaN  26  0.196869  0.986133  1.089710  1.259860   \n",
       "1        False  NaN  NaN  28  0.723549  0.765102 -3.736500  0.605810   \n",
       "2        False  NaN  NaN  44  0.199423 -0.240291  1.457090 -3.996450   \n",
       "3        False  NaN  NaN  27  0.062872  1.453940 -0.062694  2.270110   \n",
       "4        False  NaN  NaN  41  0.072492 -3.566280  3.150070 -0.106739   \n",
       "...        ...  ...  ...  ..       ...       ...       ...       ...   \n",
       "4428336   True  5.0  0.5  10  0.385886 -0.419058  1.000000 -1.636750   \n",
       "4428337   True  4.0  0.4  10  0.215949 -0.534624  0.816497 -1.636750   \n",
       "4428338  False  NaN  NaN  10  0.380974       NaN       NaN       NaN   \n",
       "4428339  False  NaN  NaN   3  0.345596       NaN       NaN       NaN   \n",
       "4428340  False  NaN  NaN   2  0.260000       NaN       NaN       NaN   \n",
       "\n",
       "            MQSBZ      SCBZ  ...  AN              DP4  MQ  CHROM       POS  \\\n",
       "0        0.095518 -1.565020  ...   2    (2, 15, 6, 1)  11   chr1     14464   \n",
       "1        0.024496 -1.596450  ...   2     (6, 5, 7, 9)  18   chr1     16298   \n",
       "2        2.032460  1.414210  ...   2  (10, 18, 3, 11)  19   chr1     16495   \n",
       "3        2.131610  0.107184  ...   2    (6, 12, 1, 6)  17   chr1     16534   \n",
       "4        0.367101  0.439941  ...   2   (1, 5, 13, 18)   8   chr1     28563   \n",
       "...           ...       ...  ...  ..              ...  ..    ...       ...   \n",
       "4428336 -0.570352 -0.149071  ...   2     (0, 3, 1, 6)  58   chrY  56887138   \n",
       "4428337 -0.570352 -1.217160  ...   2     (0, 5, 1, 3)  60   chrY  56887139   \n",
       "4428338 -0.333333       NaN  ...   2     (0, 0, 1, 9)  56   chrY  56887153   \n",
       "4428339       NaN       NaN  ...   2     (0, 0, 0, 3)  26   chrY  56887210   \n",
       "4428340       NaN       NaN  ...   2     (0, 0, 0, 2)  27   chrY  56887228   \n",
       "\n",
       "           ID     REF    ALT        QUAL FILTER  \n",
       "0        None       A      T    7.955280   PASS  \n",
       "1        None       C      T   10.476600   PASS  \n",
       "2        None       G      C   38.150700   PASS  \n",
       "3        None       C      T    6.952120   PASS  \n",
       "4        None       A      G   87.132004   PASS  \n",
       "...       ...     ...    ...         ...    ...  \n",
       "4428336  None      TG      T   57.048901   PASS  \n",
       "4428337  None  GTTTTT  GTTTT   15.595200   PASS  \n",
       "4428338  None       C      T  125.416000   PASS  \n",
       "4428339  None       A      C   25.426701   PASS  \n",
       "4428340  None       T      C   21.445499   PASS  \n",
       "\n",
       "[4428341 rows x 23 columns]"
      ]
     },
     "execution_count": 7,
     "metadata": {},
     "output_type": "execute_result"
    }
   ],
   "source": [
    "df_normal_vcf"
   ]
  },
  {
   "cell_type": "code",
   "execution_count": 8,
   "id": "ed6f499a-379f-45b5-9e42-c973ffc8dcf7",
   "metadata": {},
   "outputs": [],
   "source": [
    "# Find identical rows\n",
    "df_germline = pd.merge(df_solid_vcf, df_normal_vcf, on=[\"CHROM\", \"POS\", \"REF\", \"ALT\"], how='inner')"
   ]
  },
  {
   "cell_type": "code",
   "execution_count": 9,
   "id": "3003fe67-0e9e-4c0f-a684-ea1d93502100",
   "metadata": {},
   "outputs": [
    {
     "data": {
      "text/html": [
       "<div>\n",
       "<style scoped>\n",
       "    .dataframe tbody tr th:only-of-type {\n",
       "        vertical-align: middle;\n",
       "    }\n",
       "\n",
       "    .dataframe tbody tr th {\n",
       "        vertical-align: top;\n",
       "    }\n",
       "\n",
       "    .dataframe thead th {\n",
       "        text-align: right;\n",
       "    }\n",
       "</style>\n",
       "<table border=\"1\" class=\"dataframe\">\n",
       "  <thead>\n",
       "    <tr style=\"text-align: right;\">\n",
       "      <th></th>\n",
       "      <th>INDEL_x</th>\n",
       "      <th>IDV_x</th>\n",
       "      <th>IMF_x</th>\n",
       "      <th>DP_x</th>\n",
       "      <th>VDB_x</th>\n",
       "      <th>RPBZ_x</th>\n",
       "      <th>MQBZ_x</th>\n",
       "      <th>BQBZ_x</th>\n",
       "      <th>MQSBZ_x</th>\n",
       "      <th>SCBZ_x</th>\n",
       "      <th>...</th>\n",
       "      <th>SCBZ_y</th>\n",
       "      <th>SGB_y</th>\n",
       "      <th>MQ0F_y</th>\n",
       "      <th>AC_y</th>\n",
       "      <th>AN_y</th>\n",
       "      <th>DP4_y</th>\n",
       "      <th>MQ_y</th>\n",
       "      <th>ID_y</th>\n",
       "      <th>QUAL_y</th>\n",
       "      <th>FILTER_y</th>\n",
       "    </tr>\n",
       "  </thead>\n",
       "  <tbody>\n",
       "    <tr>\n",
       "      <th>0</th>\n",
       "      <td>False</td>\n",
       "      <td>NaN</td>\n",
       "      <td>NaN</td>\n",
       "      <td>38</td>\n",
       "      <td>0.168615</td>\n",
       "      <td>-1.519560</td>\n",
       "      <td>2.695900</td>\n",
       "      <td>-0.989577</td>\n",
       "      <td>0.157583</td>\n",
       "      <td>0.099217</td>\n",
       "      <td>...</td>\n",
       "      <td>-1.565020</td>\n",
       "      <td>-0.636426</td>\n",
       "      <td>0.384615</td>\n",
       "      <td>(1,)</td>\n",
       "      <td>2</td>\n",
       "      <td>(2, 15, 6, 1)</td>\n",
       "      <td>11</td>\n",
       "      <td>None</td>\n",
       "      <td>7.955280</td>\n",
       "      <td>PASS</td>\n",
       "    </tr>\n",
       "    <tr>\n",
       "      <th>1</th>\n",
       "      <td>False</td>\n",
       "      <td>NaN</td>\n",
       "      <td>NaN</td>\n",
       "      <td>55</td>\n",
       "      <td>0.000097</td>\n",
       "      <td>2.395210</td>\n",
       "      <td>-5.105560</td>\n",
       "      <td>0.556246</td>\n",
       "      <td>0.978786</td>\n",
       "      <td>0.000000</td>\n",
       "      <td>...</td>\n",
       "      <td>-1.596450</td>\n",
       "      <td>-0.689466</td>\n",
       "      <td>0.178571</td>\n",
       "      <td>(1,)</td>\n",
       "      <td>2</td>\n",
       "      <td>(6, 5, 7, 9)</td>\n",
       "      <td>18</td>\n",
       "      <td>None</td>\n",
       "      <td>10.476600</td>\n",
       "      <td>PASS</td>\n",
       "    </tr>\n",
       "    <tr>\n",
       "      <th>2</th>\n",
       "      <td>False</td>\n",
       "      <td>NaN</td>\n",
       "      <td>NaN</td>\n",
       "      <td>35</td>\n",
       "      <td>0.043389</td>\n",
       "      <td>-2.969320</td>\n",
       "      <td>2.414310</td>\n",
       "      <td>0.668867</td>\n",
       "      <td>0.850857</td>\n",
       "      <td>0.764071</td>\n",
       "      <td>...</td>\n",
       "      <td>0.439941</td>\n",
       "      <td>-0.693110</td>\n",
       "      <td>0.292683</td>\n",
       "      <td>(2,)</td>\n",
       "      <td>2</td>\n",
       "      <td>(1, 5, 13, 18)</td>\n",
       "      <td>8</td>\n",
       "      <td>None</td>\n",
       "      <td>87.132004</td>\n",
       "      <td>PASS</td>\n",
       "    </tr>\n",
       "    <tr>\n",
       "      <th>3</th>\n",
       "      <td>True</td>\n",
       "      <td>17.0</td>\n",
       "      <td>0.459459</td>\n",
       "      <td>37</td>\n",
       "      <td>0.133824</td>\n",
       "      <td>-2.562580</td>\n",
       "      <td>2.399710</td>\n",
       "      <td>-1.203010</td>\n",
       "      <td>-0.089615</td>\n",
       "      <td>-1.641430</td>\n",
       "      <td>...</td>\n",
       "      <td>-0.570923</td>\n",
       "      <td>-0.689466</td>\n",
       "      <td>0.219512</td>\n",
       "      <td>(1,)</td>\n",
       "      <td>2</td>\n",
       "      <td>(7, 14, 4, 12)</td>\n",
       "      <td>10</td>\n",
       "      <td>None</td>\n",
       "      <td>5.748320</td>\n",
       "      <td>PASS</td>\n",
       "    </tr>\n",
       "    <tr>\n",
       "      <th>4</th>\n",
       "      <td>False</td>\n",
       "      <td>NaN</td>\n",
       "      <td>NaN</td>\n",
       "      <td>12</td>\n",
       "      <td>0.000254</td>\n",
       "      <td>NaN</td>\n",
       "      <td>NaN</td>\n",
       "      <td>NaN</td>\n",
       "      <td>-1.243250</td>\n",
       "      <td>NaN</td>\n",
       "      <td>...</td>\n",
       "      <td>NaN</td>\n",
       "      <td>-0.590765</td>\n",
       "      <td>0.333333</td>\n",
       "      <td>(2,)</td>\n",
       "      <td>2</td>\n",
       "      <td>(0, 0, 0, 5)</td>\n",
       "      <td>7</td>\n",
       "      <td>None</td>\n",
       "      <td>3.776600</td>\n",
       "      <td>PASS</td>\n",
       "    </tr>\n",
       "    <tr>\n",
       "      <th>...</th>\n",
       "      <td>...</td>\n",
       "      <td>...</td>\n",
       "      <td>...</td>\n",
       "      <td>...</td>\n",
       "      <td>...</td>\n",
       "      <td>...</td>\n",
       "      <td>...</td>\n",
       "      <td>...</td>\n",
       "      <td>...</td>\n",
       "      <td>...</td>\n",
       "      <td>...</td>\n",
       "      <td>...</td>\n",
       "      <td>...</td>\n",
       "      <td>...</td>\n",
       "      <td>...</td>\n",
       "      <td>...</td>\n",
       "      <td>...</td>\n",
       "      <td>...</td>\n",
       "      <td>...</td>\n",
       "      <td>...</td>\n",
       "      <td>...</td>\n",
       "    </tr>\n",
       "    <tr>\n",
       "      <th>4150422</th>\n",
       "      <td>True</td>\n",
       "      <td>11.0</td>\n",
       "      <td>0.458333</td>\n",
       "      <td>24</td>\n",
       "      <td>0.067721</td>\n",
       "      <td>-0.434619</td>\n",
       "      <td>0.000000</td>\n",
       "      <td>-1.542560</td>\n",
       "      <td>-0.808507</td>\n",
       "      <td>2.561380</td>\n",
       "      <td>...</td>\n",
       "      <td>-0.149071</td>\n",
       "      <td>-0.636426</td>\n",
       "      <td>0.000000</td>\n",
       "      <td>(2,)</td>\n",
       "      <td>2</td>\n",
       "      <td>(0, 3, 1, 6)</td>\n",
       "      <td>58</td>\n",
       "      <td>None</td>\n",
       "      <td>57.048901</td>\n",
       "      <td>PASS</td>\n",
       "    </tr>\n",
       "    <tr>\n",
       "      <th>4150423</th>\n",
       "      <td>True</td>\n",
       "      <td>11.0</td>\n",
       "      <td>0.478261</td>\n",
       "      <td>23</td>\n",
       "      <td>0.339431</td>\n",
       "      <td>0.430927</td>\n",
       "      <td>-0.279382</td>\n",
       "      <td>-1.542560</td>\n",
       "      <td>-0.808507</td>\n",
       "      <td>-2.191110</td>\n",
       "      <td>...</td>\n",
       "      <td>-1.217160</td>\n",
       "      <td>-0.556411</td>\n",
       "      <td>0.000000</td>\n",
       "      <td>(1,)</td>\n",
       "      <td>2</td>\n",
       "      <td>(0, 5, 1, 3)</td>\n",
       "      <td>60</td>\n",
       "      <td>None</td>\n",
       "      <td>15.595200</td>\n",
       "      <td>PASS</td>\n",
       "    </tr>\n",
       "    <tr>\n",
       "      <th>4150424</th>\n",
       "      <td>False</td>\n",
       "      <td>NaN</td>\n",
       "      <td>NaN</td>\n",
       "      <td>24</td>\n",
       "      <td>0.238664</td>\n",
       "      <td>NaN</td>\n",
       "      <td>NaN</td>\n",
       "      <td>NaN</td>\n",
       "      <td>0.561134</td>\n",
       "      <td>NaN</td>\n",
       "      <td>...</td>\n",
       "      <td>NaN</td>\n",
       "      <td>-0.670168</td>\n",
       "      <td>0.000000</td>\n",
       "      <td>(2,)</td>\n",
       "      <td>2</td>\n",
       "      <td>(0, 0, 1, 9)</td>\n",
       "      <td>56</td>\n",
       "      <td>None</td>\n",
       "      <td>125.416000</td>\n",
       "      <td>PASS</td>\n",
       "    </tr>\n",
       "    <tr>\n",
       "      <th>4150425</th>\n",
       "      <td>False</td>\n",
       "      <td>NaN</td>\n",
       "      <td>NaN</td>\n",
       "      <td>8</td>\n",
       "      <td>0.120933</td>\n",
       "      <td>NaN</td>\n",
       "      <td>NaN</td>\n",
       "      <td>NaN</td>\n",
       "      <td>NaN</td>\n",
       "      <td>NaN</td>\n",
       "      <td>...</td>\n",
       "      <td>NaN</td>\n",
       "      <td>-0.511536</td>\n",
       "      <td>0.000000</td>\n",
       "      <td>(2,)</td>\n",
       "      <td>2</td>\n",
       "      <td>(0, 0, 0, 3)</td>\n",
       "      <td>26</td>\n",
       "      <td>None</td>\n",
       "      <td>25.426701</td>\n",
       "      <td>PASS</td>\n",
       "    </tr>\n",
       "    <tr>\n",
       "      <th>4150426</th>\n",
       "      <td>False</td>\n",
       "      <td>NaN</td>\n",
       "      <td>NaN</td>\n",
       "      <td>5</td>\n",
       "      <td>0.067296</td>\n",
       "      <td>NaN</td>\n",
       "      <td>NaN</td>\n",
       "      <td>NaN</td>\n",
       "      <td>NaN</td>\n",
       "      <td>NaN</td>\n",
       "      <td>...</td>\n",
       "      <td>NaN</td>\n",
       "      <td>-0.453602</td>\n",
       "      <td>0.000000</td>\n",
       "      <td>(2,)</td>\n",
       "      <td>2</td>\n",
       "      <td>(0, 0, 0, 2)</td>\n",
       "      <td>27</td>\n",
       "      <td>None</td>\n",
       "      <td>21.445499</td>\n",
       "      <td>PASS</td>\n",
       "    </tr>\n",
       "  </tbody>\n",
       "</table>\n",
       "<p>4150427 rows × 42 columns</p>\n",
       "</div>"
      ],
      "text/plain": [
       "         INDEL_x  IDV_x     IMF_x  DP_x     VDB_x    RPBZ_x    MQBZ_x  \\\n",
       "0          False    NaN       NaN    38  0.168615 -1.519560  2.695900   \n",
       "1          False    NaN       NaN    55  0.000097  2.395210 -5.105560   \n",
       "2          False    NaN       NaN    35  0.043389 -2.969320  2.414310   \n",
       "3           True   17.0  0.459459    37  0.133824 -2.562580  2.399710   \n",
       "4          False    NaN       NaN    12  0.000254       NaN       NaN   \n",
       "...          ...    ...       ...   ...       ...       ...       ...   \n",
       "4150422     True   11.0  0.458333    24  0.067721 -0.434619  0.000000   \n",
       "4150423     True   11.0  0.478261    23  0.339431  0.430927 -0.279382   \n",
       "4150424    False    NaN       NaN    24  0.238664       NaN       NaN   \n",
       "4150425    False    NaN       NaN     8  0.120933       NaN       NaN   \n",
       "4150426    False    NaN       NaN     5  0.067296       NaN       NaN   \n",
       "\n",
       "           BQBZ_x   MQSBZ_x    SCBZ_x  ...    SCBZ_y     SGB_y    MQ0F_y  \\\n",
       "0       -0.989577  0.157583  0.099217  ... -1.565020 -0.636426  0.384615   \n",
       "1        0.556246  0.978786  0.000000  ... -1.596450 -0.689466  0.178571   \n",
       "2        0.668867  0.850857  0.764071  ...  0.439941 -0.693110  0.292683   \n",
       "3       -1.203010 -0.089615 -1.641430  ... -0.570923 -0.689466  0.219512   \n",
       "4             NaN -1.243250       NaN  ...       NaN -0.590765  0.333333   \n",
       "...           ...       ...       ...  ...       ...       ...       ...   \n",
       "4150422 -1.542560 -0.808507  2.561380  ... -0.149071 -0.636426  0.000000   \n",
       "4150423 -1.542560 -0.808507 -2.191110  ... -1.217160 -0.556411  0.000000   \n",
       "4150424       NaN  0.561134       NaN  ...       NaN -0.670168  0.000000   \n",
       "4150425       NaN       NaN       NaN  ...       NaN -0.511536  0.000000   \n",
       "4150426       NaN       NaN       NaN  ...       NaN -0.453602  0.000000   \n",
       "\n",
       "         AC_y AN_y           DP4_y MQ_y  ID_y      QUAL_y FILTER_y  \n",
       "0        (1,)    2   (2, 15, 6, 1)   11  None    7.955280     PASS  \n",
       "1        (1,)    2    (6, 5, 7, 9)   18  None   10.476600     PASS  \n",
       "2        (2,)    2  (1, 5, 13, 18)    8  None   87.132004     PASS  \n",
       "3        (1,)    2  (7, 14, 4, 12)   10  None    5.748320     PASS  \n",
       "4        (2,)    2    (0, 0, 0, 5)    7  None    3.776600     PASS  \n",
       "...       ...  ...             ...  ...   ...         ...      ...  \n",
       "4150422  (2,)    2    (0, 3, 1, 6)   58  None   57.048901     PASS  \n",
       "4150423  (1,)    2    (0, 5, 1, 3)   60  None   15.595200     PASS  \n",
       "4150424  (2,)    2    (0, 0, 1, 9)   56  None  125.416000     PASS  \n",
       "4150425  (2,)    2    (0, 0, 0, 3)   26  None   25.426701     PASS  \n",
       "4150426  (2,)    2    (0, 0, 0, 2)   27  None   21.445499     PASS  \n",
       "\n",
       "[4150427 rows x 42 columns]"
      ]
     },
     "execution_count": 9,
     "metadata": {},
     "output_type": "execute_result"
    }
   ],
   "source": [
    "df_germline"
   ]
  },
  {
   "cell_type": "code",
   "execution_count": 14,
   "id": "4b19c526-13ec-41a6-a371-52ec52cda84a",
   "metadata": {},
   "outputs": [
    {
     "data": {
      "text/html": [
       "<div>\n",
       "<style scoped>\n",
       "    .dataframe tbody tr th:only-of-type {\n",
       "        vertical-align: middle;\n",
       "    }\n",
       "\n",
       "    .dataframe tbody tr th {\n",
       "        vertical-align: top;\n",
       "    }\n",
       "\n",
       "    .dataframe thead th {\n",
       "        text-align: right;\n",
       "    }\n",
       "</style>\n",
       "<table border=\"1\" class=\"dataframe\">\n",
       "  <thead>\n",
       "    <tr style=\"text-align: right;\">\n",
       "      <th></th>\n",
       "      <th>INDEL_x</th>\n",
       "      <th>IDV_x</th>\n",
       "      <th>IMF_x</th>\n",
       "      <th>DP_x</th>\n",
       "      <th>VDB_x</th>\n",
       "      <th>RPBZ_x</th>\n",
       "      <th>MQBZ_x</th>\n",
       "      <th>BQBZ_x</th>\n",
       "      <th>MQSBZ_x</th>\n",
       "      <th>SCBZ_x</th>\n",
       "      <th>...</th>\n",
       "      <th>SCBZ_y</th>\n",
       "      <th>SGB_y</th>\n",
       "      <th>MQ0F_y</th>\n",
       "      <th>AC_y</th>\n",
       "      <th>AN_y</th>\n",
       "      <th>DP4_y</th>\n",
       "      <th>MQ_y</th>\n",
       "      <th>ID_y</th>\n",
       "      <th>QUAL_y</th>\n",
       "      <th>FILTER_y</th>\n",
       "    </tr>\n",
       "  </thead>\n",
       "  <tbody>\n",
       "    <tr>\n",
       "      <th>1</th>\n",
       "      <td>False</td>\n",
       "      <td>NaN</td>\n",
       "      <td>NaN</td>\n",
       "      <td>14</td>\n",
       "      <td>0.096538</td>\n",
       "      <td>NaN</td>\n",
       "      <td>NaN</td>\n",
       "      <td>NaN</td>\n",
       "      <td>1.154700</td>\n",
       "      <td>NaN</td>\n",
       "      <td>...</td>\n",
       "      <td>NaN</td>\n",
       "      <td>NaN</td>\n",
       "      <td>NaN</td>\n",
       "      <td>NaN</td>\n",
       "      <td>NaN</td>\n",
       "      <td>NaN</td>\n",
       "      <td>NaN</td>\n",
       "      <td>NaN</td>\n",
       "      <td>NaN</td>\n",
       "      <td>NaN</td>\n",
       "    </tr>\n",
       "    <tr>\n",
       "      <th>3</th>\n",
       "      <td>False</td>\n",
       "      <td>NaN</td>\n",
       "      <td>NaN</td>\n",
       "      <td>34</td>\n",
       "      <td>0.243468</td>\n",
       "      <td>-0.831161</td>\n",
       "      <td>0.534548</td>\n",
       "      <td>1.239040</td>\n",
       "      <td>3.486190</td>\n",
       "      <td>1.349680</td>\n",
       "      <td>...</td>\n",
       "      <td>NaN</td>\n",
       "      <td>NaN</td>\n",
       "      <td>NaN</td>\n",
       "      <td>NaN</td>\n",
       "      <td>NaN</td>\n",
       "      <td>NaN</td>\n",
       "      <td>NaN</td>\n",
       "      <td>NaN</td>\n",
       "      <td>NaN</td>\n",
       "      <td>NaN</td>\n",
       "    </tr>\n",
       "    <tr>\n",
       "      <th>7</th>\n",
       "      <td>False</td>\n",
       "      <td>NaN</td>\n",
       "      <td>NaN</td>\n",
       "      <td>82</td>\n",
       "      <td>0.658421</td>\n",
       "      <td>1.881860</td>\n",
       "      <td>0.899374</td>\n",
       "      <td>-1.553700</td>\n",
       "      <td>-0.252654</td>\n",
       "      <td>1.362770</td>\n",
       "      <td>...</td>\n",
       "      <td>NaN</td>\n",
       "      <td>NaN</td>\n",
       "      <td>NaN</td>\n",
       "      <td>NaN</td>\n",
       "      <td>NaN</td>\n",
       "      <td>NaN</td>\n",
       "      <td>NaN</td>\n",
       "      <td>NaN</td>\n",
       "      <td>NaN</td>\n",
       "      <td>NaN</td>\n",
       "    </tr>\n",
       "    <tr>\n",
       "      <th>8</th>\n",
       "      <td>False</td>\n",
       "      <td>NaN</td>\n",
       "      <td>NaN</td>\n",
       "      <td>82</td>\n",
       "      <td>0.028935</td>\n",
       "      <td>-0.414633</td>\n",
       "      <td>-1.203210</td>\n",
       "      <td>-3.213750</td>\n",
       "      <td>-0.779286</td>\n",
       "      <td>-0.891883</td>\n",
       "      <td>...</td>\n",
       "      <td>NaN</td>\n",
       "      <td>NaN</td>\n",
       "      <td>NaN</td>\n",
       "      <td>NaN</td>\n",
       "      <td>NaN</td>\n",
       "      <td>NaN</td>\n",
       "      <td>NaN</td>\n",
       "      <td>NaN</td>\n",
       "      <td>NaN</td>\n",
       "      <td>NaN</td>\n",
       "    </tr>\n",
       "    <tr>\n",
       "      <th>12</th>\n",
       "      <td>False</td>\n",
       "      <td>NaN</td>\n",
       "      <td>NaN</td>\n",
       "      <td>4</td>\n",
       "      <td>0.411594</td>\n",
       "      <td>-1.341640</td>\n",
       "      <td>1.000000</td>\n",
       "      <td>1.341640</td>\n",
       "      <td>-1.732050</td>\n",
       "      <td>-0.471405</td>\n",
       "      <td>...</td>\n",
       "      <td>NaN</td>\n",
       "      <td>NaN</td>\n",
       "      <td>NaN</td>\n",
       "      <td>NaN</td>\n",
       "      <td>NaN</td>\n",
       "      <td>NaN</td>\n",
       "      <td>NaN</td>\n",
       "      <td>NaN</td>\n",
       "      <td>NaN</td>\n",
       "      <td>NaN</td>\n",
       "    </tr>\n",
       "    <tr>\n",
       "      <th>...</th>\n",
       "      <td>...</td>\n",
       "      <td>...</td>\n",
       "      <td>...</td>\n",
       "      <td>...</td>\n",
       "      <td>...</td>\n",
       "      <td>...</td>\n",
       "      <td>...</td>\n",
       "      <td>...</td>\n",
       "      <td>...</td>\n",
       "      <td>...</td>\n",
       "      <td>...</td>\n",
       "      <td>...</td>\n",
       "      <td>...</td>\n",
       "      <td>...</td>\n",
       "      <td>...</td>\n",
       "      <td>...</td>\n",
       "      <td>...</td>\n",
       "      <td>...</td>\n",
       "      <td>...</td>\n",
       "      <td>...</td>\n",
       "      <td>...</td>\n",
       "    </tr>\n",
       "    <tr>\n",
       "      <th>4453837</th>\n",
       "      <td>False</td>\n",
       "      <td>NaN</td>\n",
       "      <td>NaN</td>\n",
       "      <td>159</td>\n",
       "      <td>0.929024</td>\n",
       "      <td>-0.707058</td>\n",
       "      <td>0.833142</td>\n",
       "      <td>-4.614720</td>\n",
       "      <td>-2.132750</td>\n",
       "      <td>-0.800489</td>\n",
       "      <td>...</td>\n",
       "      <td>NaN</td>\n",
       "      <td>NaN</td>\n",
       "      <td>NaN</td>\n",
       "      <td>NaN</td>\n",
       "      <td>NaN</td>\n",
       "      <td>NaN</td>\n",
       "      <td>NaN</td>\n",
       "      <td>NaN</td>\n",
       "      <td>NaN</td>\n",
       "      <td>NaN</td>\n",
       "    </tr>\n",
       "    <tr>\n",
       "      <th>4453848</th>\n",
       "      <td>False</td>\n",
       "      <td>NaN</td>\n",
       "      <td>NaN</td>\n",
       "      <td>52</td>\n",
       "      <td>0.000019</td>\n",
       "      <td>-0.021613</td>\n",
       "      <td>-2.078680</td>\n",
       "      <td>0.261795</td>\n",
       "      <td>0.091533</td>\n",
       "      <td>-0.623610</td>\n",
       "      <td>...</td>\n",
       "      <td>NaN</td>\n",
       "      <td>NaN</td>\n",
       "      <td>NaN</td>\n",
       "      <td>NaN</td>\n",
       "      <td>NaN</td>\n",
       "      <td>NaN</td>\n",
       "      <td>NaN</td>\n",
       "      <td>NaN</td>\n",
       "      <td>NaN</td>\n",
       "      <td>NaN</td>\n",
       "    </tr>\n",
       "    <tr>\n",
       "      <th>4453859</th>\n",
       "      <td>False</td>\n",
       "      <td>NaN</td>\n",
       "      <td>NaN</td>\n",
       "      <td>16</td>\n",
       "      <td>0.293058</td>\n",
       "      <td>1.085450</td>\n",
       "      <td>1.919430</td>\n",
       "      <td>0.628828</td>\n",
       "      <td>-0.229118</td>\n",
       "      <td>-0.774597</td>\n",
       "      <td>...</td>\n",
       "      <td>NaN</td>\n",
       "      <td>NaN</td>\n",
       "      <td>NaN</td>\n",
       "      <td>NaN</td>\n",
       "      <td>NaN</td>\n",
       "      <td>NaN</td>\n",
       "      <td>NaN</td>\n",
       "      <td>NaN</td>\n",
       "      <td>NaN</td>\n",
       "      <td>NaN</td>\n",
       "    </tr>\n",
       "    <tr>\n",
       "      <th>4453863</th>\n",
       "      <td>False</td>\n",
       "      <td>NaN</td>\n",
       "      <td>NaN</td>\n",
       "      <td>37</td>\n",
       "      <td>0.055693</td>\n",
       "      <td>2.217490</td>\n",
       "      <td>-4.587310</td>\n",
       "      <td>-2.771650</td>\n",
       "      <td>1.366240</td>\n",
       "      <td>1.169940</td>\n",
       "      <td>...</td>\n",
       "      <td>NaN</td>\n",
       "      <td>NaN</td>\n",
       "      <td>NaN</td>\n",
       "      <td>NaN</td>\n",
       "      <td>NaN</td>\n",
       "      <td>NaN</td>\n",
       "      <td>NaN</td>\n",
       "      <td>NaN</td>\n",
       "      <td>NaN</td>\n",
       "      <td>NaN</td>\n",
       "    </tr>\n",
       "    <tr>\n",
       "      <th>4453881</th>\n",
       "      <td>False</td>\n",
       "      <td>NaN</td>\n",
       "      <td>NaN</td>\n",
       "      <td>42</td>\n",
       "      <td>0.002256</td>\n",
       "      <td>2.050990</td>\n",
       "      <td>-2.993200</td>\n",
       "      <td>2.394150</td>\n",
       "      <td>-0.209093</td>\n",
       "      <td>2.469400</td>\n",
       "      <td>...</td>\n",
       "      <td>NaN</td>\n",
       "      <td>NaN</td>\n",
       "      <td>NaN</td>\n",
       "      <td>NaN</td>\n",
       "      <td>NaN</td>\n",
       "      <td>NaN</td>\n",
       "      <td>NaN</td>\n",
       "      <td>NaN</td>\n",
       "      <td>NaN</td>\n",
       "      <td>NaN</td>\n",
       "    </tr>\n",
       "  </tbody>\n",
       "</table>\n",
       "<p>303465 rows × 42 columns</p>\n",
       "</div>"
      ],
      "text/plain": [
       "         INDEL_x  IDV_x  IMF_x  DP_x     VDB_x    RPBZ_x    MQBZ_x    BQBZ_x  \\\n",
       "1          False    NaN    NaN    14  0.096538       NaN       NaN       NaN   \n",
       "3          False    NaN    NaN    34  0.243468 -0.831161  0.534548  1.239040   \n",
       "7          False    NaN    NaN    82  0.658421  1.881860  0.899374 -1.553700   \n",
       "8          False    NaN    NaN    82  0.028935 -0.414633 -1.203210 -3.213750   \n",
       "12         False    NaN    NaN     4  0.411594 -1.341640  1.000000  1.341640   \n",
       "...          ...    ...    ...   ...       ...       ...       ...       ...   \n",
       "4453837    False    NaN    NaN   159  0.929024 -0.707058  0.833142 -4.614720   \n",
       "4453848    False    NaN    NaN    52  0.000019 -0.021613 -2.078680  0.261795   \n",
       "4453859    False    NaN    NaN    16  0.293058  1.085450  1.919430  0.628828   \n",
       "4453863    False    NaN    NaN    37  0.055693  2.217490 -4.587310 -2.771650   \n",
       "4453881    False    NaN    NaN    42  0.002256  2.050990 -2.993200  2.394150   \n",
       "\n",
       "          MQSBZ_x    SCBZ_x  ...  SCBZ_y  SGB_y MQ0F_y  AC_y AN_y  DP4_y MQ_y  \\\n",
       "1        1.154700       NaN  ...     NaN    NaN    NaN   NaN  NaN    NaN  NaN   \n",
       "3        3.486190  1.349680  ...     NaN    NaN    NaN   NaN  NaN    NaN  NaN   \n",
       "7       -0.252654  1.362770  ...     NaN    NaN    NaN   NaN  NaN    NaN  NaN   \n",
       "8       -0.779286 -0.891883  ...     NaN    NaN    NaN   NaN  NaN    NaN  NaN   \n",
       "12      -1.732050 -0.471405  ...     NaN    NaN    NaN   NaN  NaN    NaN  NaN   \n",
       "...           ...       ...  ...     ...    ...    ...   ...  ...    ...  ...   \n",
       "4453837 -2.132750 -0.800489  ...     NaN    NaN    NaN   NaN  NaN    NaN  NaN   \n",
       "4453848  0.091533 -0.623610  ...     NaN    NaN    NaN   NaN  NaN    NaN  NaN   \n",
       "4453859 -0.229118 -0.774597  ...     NaN    NaN    NaN   NaN  NaN    NaN  NaN   \n",
       "4453863  1.366240  1.169940  ...     NaN    NaN    NaN   NaN  NaN    NaN  NaN   \n",
       "4453881 -0.209093  2.469400  ...     NaN    NaN    NaN   NaN  NaN    NaN  NaN   \n",
       "\n",
       "         ID_y QUAL_y FILTER_y  \n",
       "1         NaN    NaN      NaN  \n",
       "3         NaN    NaN      NaN  \n",
       "7         NaN    NaN      NaN  \n",
       "8         NaN    NaN      NaN  \n",
       "12        NaN    NaN      NaN  \n",
       "...       ...    ...      ...  \n",
       "4453837   NaN    NaN      NaN  \n",
       "4453848   NaN    NaN      NaN  \n",
       "4453859   NaN    NaN      NaN  \n",
       "4453863   NaN    NaN      NaN  \n",
       "4453881   NaN    NaN      NaN  \n",
       "\n",
       "[303465 rows x 42 columns]"
      ]
     },
     "execution_count": 14,
     "metadata": {},
     "output_type": "execute_result"
    }
   ],
   "source": [
    "# Find rows that are different\n",
    "# Perform a left join on CHROM, POS, REF, and ALT columns and keep the indicator\n",
    "df_somatic = pd.merge(df_solid_vcf, df_normal_vcf, on=[\"CHROM\", \"POS\", \"REF\", \"ALT\"], how='left', indicator=True)\n",
    "df_somatic = df_somatic[df_somatic['_merge'] == 'left_only'].drop(columns=['_merge'])\n",
    "df_somatic"
   ]
  },
  {
   "cell_type": "code",
   "execution_count": 30,
   "id": "549f7389-807a-4d03-a0b2-ac260daa3ebb",
   "metadata": {},
   "outputs": [],
   "source": [
    "df_somatic.head(100).to_csv(\"somatic_test.tsv\", sep=\"\\t\")"
   ]
  },
  {
   "cell_type": "code",
   "execution_count": 27,
   "id": "275e82ec-73a7-4f10-964f-2a97eb27b764",
   "metadata": {},
   "outputs": [
    {
     "ename": "KeyError",
     "evalue": "'_merge'",
     "output_type": "error",
     "traceback": [
      "\u001b[0;31m---------------------------------------------------------------------------\u001b[0m",
      "\u001b[0;31mKeyError\u001b[0m                                  Traceback (most recent call last)",
      "File \u001b[0;32m/shared/software/anaconda/anaconda3/lib/python3.10/site-packages/pandas/core/indexes/base.py:3802\u001b[0m, in \u001b[0;36mIndex.get_loc\u001b[0;34m(self, key, method, tolerance)\u001b[0m\n\u001b[1;32m   3801\u001b[0m \u001b[38;5;28;01mtry\u001b[39;00m:\n\u001b[0;32m-> 3802\u001b[0m     \u001b[38;5;28;01mreturn\u001b[39;00m \u001b[38;5;28;43mself\u001b[39;49m\u001b[38;5;241;43m.\u001b[39;49m\u001b[43m_engine\u001b[49m\u001b[38;5;241;43m.\u001b[39;49m\u001b[43mget_loc\u001b[49m\u001b[43m(\u001b[49m\u001b[43mcasted_key\u001b[49m\u001b[43m)\u001b[49m\n\u001b[1;32m   3803\u001b[0m \u001b[38;5;28;01mexcept\u001b[39;00m \u001b[38;5;167;01mKeyError\u001b[39;00m \u001b[38;5;28;01mas\u001b[39;00m err:\n",
      "File \u001b[0;32m/shared/software/anaconda/anaconda3/lib/python3.10/site-packages/pandas/_libs/index.pyx:138\u001b[0m, in \u001b[0;36mpandas._libs.index.IndexEngine.get_loc\u001b[0;34m()\u001b[0m\n",
      "File \u001b[0;32m/shared/software/anaconda/anaconda3/lib/python3.10/site-packages/pandas/_libs/index.pyx:165\u001b[0m, in \u001b[0;36mpandas._libs.index.IndexEngine.get_loc\u001b[0;34m()\u001b[0m\n",
      "File \u001b[0;32mpandas/_libs/hashtable_class_helper.pxi:5745\u001b[0m, in \u001b[0;36mpandas._libs.hashtable.PyObjectHashTable.get_item\u001b[0;34m()\u001b[0m\n",
      "File \u001b[0;32mpandas/_libs/hashtable_class_helper.pxi:5753\u001b[0m, in \u001b[0;36mpandas._libs.hashtable.PyObjectHashTable.get_item\u001b[0;34m()\u001b[0m\n",
      "\u001b[0;31mKeyError\u001b[0m: '_merge'",
      "\nThe above exception was the direct cause of the following exception:\n",
      "\u001b[0;31mKeyError\u001b[0m                                  Traceback (most recent call last)",
      "Cell \u001b[0;32mIn[27], line 3\u001b[0m\n\u001b[1;32m      1\u001b[0m \u001b[38;5;66;03m# Filter the rows where the '_merge' column is 'left_only'\u001b[39;00m\n\u001b[1;32m      2\u001b[0m \u001b[38;5;66;03m# These rows are present in df_solid_vcf but not in df_normal_vcf\u001b[39;00m\n\u001b[0;32m----> 3\u001b[0m df_somatic \u001b[38;5;241m=\u001b[39m df_somatic[\u001b[43mdf_somatic\u001b[49m\u001b[43m[\u001b[49m\u001b[38;5;124;43m'\u001b[39;49m\u001b[38;5;124;43m_merge\u001b[39;49m\u001b[38;5;124;43m'\u001b[39;49m\u001b[43m]\u001b[49m \u001b[38;5;241m==\u001b[39m \u001b[38;5;124m'\u001b[39m\u001b[38;5;124mleft_only\u001b[39m\u001b[38;5;124m'\u001b[39m]\u001b[38;5;241m.\u001b[39mdrop(columns\u001b[38;5;241m=\u001b[39m[\u001b[38;5;124m'\u001b[39m\u001b[38;5;124m_merge\u001b[39m\u001b[38;5;124m'\u001b[39m])\n\u001b[1;32m      5\u001b[0m \u001b[38;5;66;03m# The resulting df_somatic contains the somatic mutations\u001b[39;00m\n\u001b[1;32m      6\u001b[0m df_somatic\n",
      "File \u001b[0;32m/shared/software/anaconda/anaconda3/lib/python3.10/site-packages/pandas/core/frame.py:3807\u001b[0m, in \u001b[0;36mDataFrame.__getitem__\u001b[0;34m(self, key)\u001b[0m\n\u001b[1;32m   3805\u001b[0m \u001b[38;5;28;01mif\u001b[39;00m \u001b[38;5;28mself\u001b[39m\u001b[38;5;241m.\u001b[39mcolumns\u001b[38;5;241m.\u001b[39mnlevels \u001b[38;5;241m>\u001b[39m \u001b[38;5;241m1\u001b[39m:\n\u001b[1;32m   3806\u001b[0m     \u001b[38;5;28;01mreturn\u001b[39;00m \u001b[38;5;28mself\u001b[39m\u001b[38;5;241m.\u001b[39m_getitem_multilevel(key)\n\u001b[0;32m-> 3807\u001b[0m indexer \u001b[38;5;241m=\u001b[39m \u001b[38;5;28;43mself\u001b[39;49m\u001b[38;5;241;43m.\u001b[39;49m\u001b[43mcolumns\u001b[49m\u001b[38;5;241;43m.\u001b[39;49m\u001b[43mget_loc\u001b[49m\u001b[43m(\u001b[49m\u001b[43mkey\u001b[49m\u001b[43m)\u001b[49m\n\u001b[1;32m   3808\u001b[0m \u001b[38;5;28;01mif\u001b[39;00m is_integer(indexer):\n\u001b[1;32m   3809\u001b[0m     indexer \u001b[38;5;241m=\u001b[39m [indexer]\n",
      "File \u001b[0;32m/shared/software/anaconda/anaconda3/lib/python3.10/site-packages/pandas/core/indexes/base.py:3804\u001b[0m, in \u001b[0;36mIndex.get_loc\u001b[0;34m(self, key, method, tolerance)\u001b[0m\n\u001b[1;32m   3802\u001b[0m     \u001b[38;5;28;01mreturn\u001b[39;00m \u001b[38;5;28mself\u001b[39m\u001b[38;5;241m.\u001b[39m_engine\u001b[38;5;241m.\u001b[39mget_loc(casted_key)\n\u001b[1;32m   3803\u001b[0m \u001b[38;5;28;01mexcept\u001b[39;00m \u001b[38;5;167;01mKeyError\u001b[39;00m \u001b[38;5;28;01mas\u001b[39;00m err:\n\u001b[0;32m-> 3804\u001b[0m     \u001b[38;5;28;01mraise\u001b[39;00m \u001b[38;5;167;01mKeyError\u001b[39;00m(key) \u001b[38;5;28;01mfrom\u001b[39;00m \u001b[38;5;21;01merr\u001b[39;00m\n\u001b[1;32m   3805\u001b[0m \u001b[38;5;28;01mexcept\u001b[39;00m \u001b[38;5;167;01mTypeError\u001b[39;00m:\n\u001b[1;32m   3806\u001b[0m     \u001b[38;5;66;03m# If we have a listlike key, _check_indexing_error will raise\u001b[39;00m\n\u001b[1;32m   3807\u001b[0m     \u001b[38;5;66;03m#  InvalidIndexError. Otherwise we fall through and re-raise\u001b[39;00m\n\u001b[1;32m   3808\u001b[0m     \u001b[38;5;66;03m#  the TypeError.\u001b[39;00m\n\u001b[1;32m   3809\u001b[0m     \u001b[38;5;28mself\u001b[39m\u001b[38;5;241m.\u001b[39m_check_indexing_error(key)\n",
      "\u001b[0;31mKeyError\u001b[0m: '_merge'"
     ]
    }
   ],
   "source": [
    "\n",
    "# Filter the rows where the '_merge' column is 'left_only'\n",
    "# These rows are present in df_solid_vcf but not in df_normal_vcf\n",
    "df_somatic = df_somatic[df_somatic['_merge'] == 'left_only'].drop(columns=['_merge'])\n",
    "\n",
    "# The resulting df_somatic contains the somatic mutations\n",
    "df_somatic"
   ]
  },
  {
   "cell_type": "code",
   "execution_count": null,
   "id": "795ca241-60b3-48ab-aef5-f04f595b38fb",
   "metadata": {},
   "outputs": [],
   "source": []
  }
 ],
 "metadata": {
  "kernelspec": {
   "display_name": "Python 3 (ipykernel)",
   "language": "python",
   "name": "python3"
  },
  "language_info": {
   "codemirror_mode": {
    "name": "ipython",
    "version": 3
   },
   "file_extension": ".py",
   "mimetype": "text/x-python",
   "name": "python",
   "nbconvert_exporter": "python",
   "pygments_lexer": "ipython3",
   "version": "3.10.14"
  }
 },
 "nbformat": 4,
 "nbformat_minor": 5
}
