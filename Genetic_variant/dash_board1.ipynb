{
 "cells": [
  {
   "cell_type": "code",
   "execution_count": 3,
   "id": "6a7dbcf1-90d5-492b-8d20-c53501999084",
   "metadata": {},
   "outputs": [
    {
     "name": "stderr",
     "output_type": "stream",
     "text": [
      "/shared/software/anaconda/anaconda3/lib/python3.10/site-packages/dash/dash.py:516: UserWarning: JupyterDash is deprecated, use Dash instead.\n",
      "See https://dash.plotly.com/dash-in-jupyter for more details.\n",
      "  warnings.warn(\n"
     ]
    },
    {
     "data": {
      "text/html": [
       "\n",
       "        <iframe\n",
       "            width=\"100%\"\n",
       "            height=\"650\"\n",
       "            src=\"http://0.0.0.0:6003/\"\n",
       "            frameborder=\"0\"\n",
       "            allowfullscreen\n",
       "            \n",
       "        ></iframe>\n",
       "        "
      ],
      "text/plain": [
       "<IPython.lib.display.IFrame at 0x7f522c18b1f0>"
      ]
     },
     "metadata": {},
     "output_type": "display_data"
    },
    {
     "data": {
      "text/html": [
       "\n",
       "        <iframe\n",
       "            width=\"100%\"\n",
       "            height=\"650\"\n",
       "            src=\"http://0.0.0.0:6003/\"\n",
       "            frameborder=\"0\"\n",
       "            allowfullscreen\n",
       "            \n",
       "        ></iframe>\n",
       "        "
      ],
      "text/plain": [
       "<IPython.lib.display.IFrame at 0x7f522d367b20>"
      ]
     },
     "metadata": {},
     "output_type": "display_data"
    }
   ],
   "source": [
    "import dash\n",
    "from dash import html, dcc\n",
    "import plotly.express as px\n",
    "from dash.dependencies import Input, Output\n",
    "from jupyter_dash import JupyterDash\n",
    "\n",
    "# Sample dataframe\n",
    "import pandas as pd\n",
    "df = pd.DataFrame({\n",
    "    'x': [1, 2, 3, 4],\n",
    "    'y': [10, 11, 12, 13],\n",
    "    'label': ['A', 'B', 'C', 'D']\n",
    "})\n",
    "\n",
    "# Create a Dash app\n",
    "app = JupyterDash(__name__)\n",
    "\n",
    "app.layout = html.Div([\n",
    "    dcc.Checklist(\n",
    "        id='label-checklist',\n",
    "        options=[{'label': label, 'value': label} for label in df['label']],\n",
    "        value=df['label'].tolist(),\n",
    "        inline=True\n",
    "    ),\n",
    "    dcc.Graph(id='line-chart')\n",
    "])\n",
    "\n",
    "@app.callback(\n",
    "    Output('line-chart', 'figure'),\n",
    "    [Input('label-checklist', 'value')]\n",
    ")\n",
    "def update_graph(selected_labels):\n",
    "    filtered_df = df[df['label'].isin(selected_labels)]\n",
    "    fig = px.line(filtered_df, x='x', y='y', color='label')\n",
    "    return fig\n",
    "\n",
    "# Run app and display result inline in the notebook\n",
    "app.run_server(mode='inline', host='0.0.0.0', port=6003)\n"
   ]
  },
  {
   "cell_type": "code",
   "execution_count": 1,
   "id": "93f6d256-ecdf-4f01-95fb-e71e9502f95f",
   "metadata": {},
   "outputs": [
    {
     "data": {
      "text/html": [
       "\n",
       "        <iframe\n",
       "            width=\"100%\"\n",
       "            height=\"650\"\n",
       "            src=\"http://0.0.0.0:6003/\"\n",
       "            frameborder=\"0\"\n",
       "            allowfullscreen\n",
       "            \n",
       "        ></iframe>\n",
       "        "
      ],
      "text/plain": [
       "<IPython.lib.display.IFrame at 0x7fbe3722fd90>"
      ]
     },
     "metadata": {},
     "output_type": "display_data"
    }
   ],
   "source": [
    "from dash import Dash, dcc, html, Input, Output\n",
    "import plotly.express as px\n",
    "\n",
    "app = Dash(__name__)\n",
    "\n",
    "\n",
    "app.layout = html.Div([\n",
    "    html.H4('Restaurant tips by day of week'),\n",
    "    dcc.Dropdown(\n",
    "        id=\"dropdown\",\n",
    "        options=[\"Fri\", \"Sat\", \"Sun\"],\n",
    "        value=\"Fri\",\n",
    "        clearable=False,\n",
    "    ),\n",
    "    dcc.Graph(id=\"graph\"),\n",
    "])\n",
    "\n",
    "\n",
    "@app.callback(\n",
    "    Output(\"graph\", \"figure\"), \n",
    "    Input(\"dropdown\", \"value\"))\n",
    "def update_bar_chart(day):\n",
    "    df = px.data.tips() # replace with your own data source\n",
    "    mask = df[\"day\"] == day\n",
    "    fig = px.bar(df[mask], x=\"sex\", y=\"total_bill\", \n",
    "                 color=\"smoker\", barmode=\"group\")\n",
    "    return fig\n",
    "\n",
    "app.run_server(mode='inline', host='0.0.0.0', port=6003)\n",
    "\n"
   ]
  },
  {
   "cell_type": "code",
   "execution_count": null,
   "id": "3e64fddb-146f-42a1-a883-971ac6180ae6",
   "metadata": {},
   "outputs": [],
   "source": []
  }
 ],
 "metadata": {
  "kernelspec": {
   "display_name": "Python 3 (ipykernel)",
   "language": "python",
   "name": "python3"
  },
  "language_info": {
   "codemirror_mode": {
    "name": "ipython",
    "version": 3
   },
   "file_extension": ".py",
   "mimetype": "text/x-python",
   "name": "python",
   "nbconvert_exporter": "python",
   "pygments_lexer": "ipython3",
   "version": "3.10.11"
  }
 },
 "nbformat": 4,
 "nbformat_minor": 5
}
