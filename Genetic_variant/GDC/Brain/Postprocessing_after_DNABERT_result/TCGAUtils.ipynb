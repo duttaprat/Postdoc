{
 "cells": [
  {
   "cell_type": "code",
   "execution_count": 1,
   "id": "86667179-0c7f-4fbf-89ec-4a940e08438b",
   "metadata": {},
   "outputs": [
    {
     "name": "stderr",
     "output_type": "stream",
     "text": [
      "Loading required package: MultiAssayExperiment\n",
      "\n",
      "Loading required package: SummarizedExperiment\n",
      "\n",
      "Loading required package: MatrixGenerics\n",
      "\n",
      "Loading required package: matrixStats\n",
      "\n",
      "\n",
      "Attaching package: ‘MatrixGenerics’\n",
      "\n",
      "\n",
      "The following objects are masked from ‘package:matrixStats’:\n",
      "\n",
      "    colAlls, colAnyNAs, colAnys, colAvgsPerRowSet, colCollapse,\n",
      "    colCounts, colCummaxs, colCummins, colCumprods, colCumsums,\n",
      "    colDiffs, colIQRDiffs, colIQRs, colLogSumExps, colMadDiffs,\n",
      "    colMads, colMaxs, colMeans2, colMedians, colMins, colOrderStats,\n",
      "    colProds, colQuantiles, colRanges, colRanks, colSdDiffs, colSds,\n",
      "    colSums2, colTabulates, colVarDiffs, colVars, colWeightedMads,\n",
      "    colWeightedMeans, colWeightedMedians, colWeightedSds,\n",
      "    colWeightedVars, rowAlls, rowAnyNAs, rowAnys, rowAvgsPerColSet,\n",
      "    rowCollapse, rowCounts, rowCummaxs, rowCummins, rowCumprods,\n",
      "    rowCumsums, rowDiffs, rowIQRDiffs, rowIQRs, rowLogSumExps,\n",
      "    rowMadDiffs, rowMads, rowMaxs, rowMeans2, rowMedians, rowMins,\n",
      "    rowOrderStats, rowProds, rowQuantiles, rowRanges, rowRanks,\n",
      "    rowSdDiffs, rowSds, rowSums2, rowTabulates, rowVarDiffs, rowVars,\n",
      "    rowWeightedMads, rowWeightedMeans, rowWeightedMedians,\n",
      "    rowWeightedSds, rowWeightedVars\n",
      "\n",
      "\n",
      "Loading required package: GenomicRanges\n",
      "\n",
      "Loading required package: stats4\n",
      "\n",
      "Loading required package: BiocGenerics\n",
      "\n",
      "\n",
      "Attaching package: ‘BiocGenerics’\n",
      "\n",
      "\n",
      "The following objects are masked from ‘package:stats’:\n",
      "\n",
      "    IQR, mad, sd, var, xtabs\n",
      "\n",
      "\n",
      "The following objects are masked from ‘package:base’:\n",
      "\n",
      "    anyDuplicated, aperm, append, as.data.frame, basename, cbind,\n",
      "    colnames, dirname, do.call, duplicated, eval, evalq, Filter, Find,\n",
      "    get, grep, grepl, intersect, is.unsorted, lapply, Map, mapply,\n",
      "    match, mget, order, paste, pmax, pmax.int, pmin, pmin.int,\n",
      "    Position, rank, rbind, Reduce, rownames, sapply, setdiff, sort,\n",
      "    table, tapply, union, unique, unsplit, which.max, which.min\n",
      "\n",
      "\n",
      "Loading required package: S4Vectors\n",
      "\n",
      "\n",
      "Attaching package: ‘S4Vectors’\n",
      "\n",
      "\n",
      "The following object is masked from ‘package:utils’:\n",
      "\n",
      "    findMatches\n",
      "\n",
      "\n",
      "The following objects are masked from ‘package:base’:\n",
      "\n",
      "    expand.grid, I, unname\n",
      "\n",
      "\n",
      "Loading required package: IRanges\n",
      "\n",
      "Loading required package: GenomeInfoDb\n",
      "\n",
      "Loading required package: Biobase\n",
      "\n",
      "Welcome to Bioconductor\n",
      "\n",
      "    Vignettes contain introductory material; view with\n",
      "    'browseVignettes()'. To cite Bioconductor, see\n",
      "    'citation(\"Biobase\")', and for packages 'citation(\"pkgname\")'.\n",
      "\n",
      "\n",
      "\n",
      "Attaching package: ‘Biobase’\n",
      "\n",
      "\n",
      "The following object is masked from ‘package:MatrixGenerics’:\n",
      "\n",
      "    rowMedians\n",
      "\n",
      "\n",
      "The following objects are masked from ‘package:matrixStats’:\n",
      "\n",
      "    anyMissing, rowMedians\n",
      "\n",
      "\n"
     ]
    }
   ],
   "source": [
    "library(TCGAutils)\n",
    "library(curatedTCGAData)\n",
    "# library(MultiAssayExperiment)\n",
    "# library(RTCGAToolbox)\n",
    "# library(rtracklayer)\n",
    "# library(R.utils)"
   ]
  },
  {
   "cell_type": "code",
   "execution_count": 2,
   "id": "45651a0f-27aa-4a23-8bbe-669d8b66512c",
   "metadata": {},
   "outputs": [
    {
     "data": {
      "text/html": [
       "<table class=\"dataframe\">\n",
       "<caption>A data.frame: 1 × 5</caption>\n",
       "<thead>\n",
       "\t<tr><th scope=col>uuid</th><th scope=col>version</th><th scope=col>file_change</th><th scope=col>release_date</th><th scope=col>data_release</th></tr>\n",
       "\t<tr><th scope=col>&lt;chr&gt;</th><th scope=col>&lt;chr&gt;</th><th scope=col>&lt;chr&gt;</th><th scope=col>&lt;chr&gt;</th><th scope=col>&lt;chr&gt;</th></tr>\n",
       "</thead>\n",
       "<tbody>\n",
       "\t<tr><td>8a5741e3-ade9-4aa0-bf16-fda229785973</td><td>1</td><td>released</td><td>2022-12-12</td><td>36.0</td></tr>\n",
       "</tbody>\n",
       "</table>\n"
      ],
      "text/latex": [
       "A data.frame: 1 × 5\n",
       "\\begin{tabular}{lllll}\n",
       " uuid & version & file\\_change & release\\_date & data\\_release\\\\\n",
       " <chr> & <chr> & <chr> & <chr> & <chr>\\\\\n",
       "\\hline\n",
       "\t 8a5741e3-ade9-4aa0-bf16-fda229785973 & 1 & released & 2022-12-12 & 36.0\\\\\n",
       "\\end{tabular}\n"
      ],
      "text/markdown": [
       "\n",
       "A data.frame: 1 × 5\n",
       "\n",
       "| uuid &lt;chr&gt; | version &lt;chr&gt; | file_change &lt;chr&gt; | release_date &lt;chr&gt; | data_release &lt;chr&gt; |\n",
       "|---|---|---|---|---|\n",
       "| 8a5741e3-ade9-4aa0-bf16-fda229785973 | 1 | released | 2022-12-12 | 36.0 |\n",
       "\n"
      ],
      "text/plain": [
       "  uuid                                 version file_change release_date\n",
       "1 8a5741e3-ade9-4aa0-bf16-fda229785973 1       released    2022-12-12  \n",
       "  data_release\n",
       "1 36.0        "
      ]
     },
     "metadata": {},
     "output_type": "display_data"
    }
   ],
   "source": [
    "UUIDhistory(\"8a5741e3-ade9-4aa0-bf16-fda229785973\")"
   ]
  },
  {
   "cell_type": "code",
   "execution_count": 10,
   "id": "b4224f0b-a7b3-4e56-b0aa-2be95349eb21",
   "metadata": {},
   "outputs": [
    {
     "data": {
      "text/html": [
       "<table class=\"dataframe\">\n",
       "<caption>A data.frame: 1 × 2</caption>\n",
       "<thead>\n",
       "\t<tr><th scope=col>file_id</th><th scope=col>associated_entities.entity_submitter_id</th></tr>\n",
       "\t<tr><th scope=col>&lt;chr&gt;</th><th scope=col>&lt;chr&gt;</th></tr>\n",
       "</thead>\n",
       "<tbody>\n",
       "\t<tr><td>8a5741e3-ade9-4aa0-bf16-fda229785973</td><td>TCGA-14-0786-01B-01D-0932-09</td></tr>\n",
       "</tbody>\n",
       "</table>\n"
      ],
      "text/latex": [
       "A data.frame: 1 × 2\n",
       "\\begin{tabular}{ll}\n",
       " file\\_id & associated\\_entities.entity\\_submitter\\_id\\\\\n",
       " <chr> & <chr>\\\\\n",
       "\\hline\n",
       "\t 8a5741e3-ade9-4aa0-bf16-fda229785973 & TCGA-14-0786-01B-01D-0932-09\\\\\n",
       "\\end{tabular}\n"
      ],
      "text/markdown": [
       "\n",
       "A data.frame: 1 × 2\n",
       "\n",
       "| file_id &lt;chr&gt; | associated_entities.entity_submitter_id &lt;chr&gt; |\n",
       "|---|---|\n",
       "| 8a5741e3-ade9-4aa0-bf16-fda229785973 | TCGA-14-0786-01B-01D-0932-09 |\n",
       "\n"
      ],
      "text/plain": [
       "  file_id                              associated_entities.entity_submitter_id\n",
       "1 8a5741e3-ade9-4aa0-bf16-fda229785973 TCGA-14-0786-01B-01D-0932-09           "
      ]
     },
     "metadata": {},
     "output_type": "display_data"
    }
   ],
   "source": [
    "UUIDtoBarcode(\"8a5741e3-ade9-4aa0-bf16-fda229785973\", from_type = \"file_id\")"
   ]
  },
  {
   "cell_type": "code",
   "execution_count": 9,
   "id": "4fc0ec23-d99f-4ce8-91cd-aafe7303564b",
   "metadata": {},
   "outputs": [
    {
     "data": {
      "text/html": [
       "<table class=\"dataframe\">\n",
       "<caption>A data.frame: 1 × 8</caption>\n",
       "<thead>\n",
       "\t<tr><th scope=col>submitter_id</th><th scope=col>sample_definition</th><th scope=col>sample</th><th scope=col>vial</th><th scope=col>portion</th><th scope=col>analyte</th><th scope=col>plate</th><th scope=col>center</th></tr>\n",
       "\t<tr><th scope=col>&lt;chr&gt;</th><th scope=col>&lt;chr&gt;</th><th scope=col>&lt;chr&gt;</th><th scope=col>&lt;chr&gt;</th><th scope=col>&lt;chr&gt;</th><th scope=col>&lt;chr&gt;</th><th scope=col>&lt;chr&gt;</th><th scope=col>&lt;chr&gt;</th></tr>\n",
       "</thead>\n",
       "<tbody>\n",
       "\t<tr><td>TCGA-26-1438</td><td>Primary Solid Tumor</td><td>01</td><td>A</td><td>01</td><td>D</td><td>0932</td><td>09</td></tr>\n",
       "</tbody>\n",
       "</table>\n"
      ],
      "text/latex": [
       "A data.frame: 1 × 8\n",
       "\\begin{tabular}{llllllll}\n",
       " submitter\\_id & sample\\_definition & sample & vial & portion & analyte & plate & center\\\\\n",
       " <chr> & <chr> & <chr> & <chr> & <chr> & <chr> & <chr> & <chr>\\\\\n",
       "\\hline\n",
       "\t TCGA-26-1438 & Primary Solid Tumor & 01 & A & 01 & D & 0932 & 09\\\\\n",
       "\\end{tabular}\n"
      ],
      "text/markdown": [
       "\n",
       "A data.frame: 1 × 8\n",
       "\n",
       "| submitter_id &lt;chr&gt; | sample_definition &lt;chr&gt; | sample &lt;chr&gt; | vial &lt;chr&gt; | portion &lt;chr&gt; | analyte &lt;chr&gt; | plate &lt;chr&gt; | center &lt;chr&gt; |\n",
       "|---|---|---|---|---|---|---|---|\n",
       "| TCGA-26-1438 | Primary Solid Tumor | 01 | A | 01 | D | 0932 | 09 |\n",
       "\n"
      ],
      "text/plain": [
       "  submitter_id sample_definition   sample vial portion analyte plate center\n",
       "1 TCGA-26-1438 Primary Solid Tumor 01     A    01      D       0932  09    "
      ]
     },
     "metadata": {},
     "output_type": "display_data"
    }
   ],
   "source": [
    "TCGAbiospec(\"TCGA-26-1438-01A-01D-0932-09\")"
   ]
  },
  {
   "cell_type": "code",
   "execution_count": 5,
   "id": "c6a14536-0ac3-4dec-8378-ca1520f45160",
   "metadata": {},
   "outputs": [
    {
     "data": {
      "text/html": [
       "<table class=\"dataframe\">\n",
       "<caption>A data.frame: 1 × 2</caption>\n",
       "<thead>\n",
       "\t<tr><th></th><th scope=col>file_id</th><th scope=col>cases.case_id</th></tr>\n",
       "\t<tr><th></th><th scope=col>&lt;chr&gt;</th><th scope=col>&lt;chr&gt;</th></tr>\n",
       "</thead>\n",
       "<tbody>\n",
       "\t<tr><th scope=row>1</th><td>fee72a44-3808-4e5f-bc63-5c6fef56db4c</td><td>17dffffc-65d6-4209-9075-18a441001f0f</td></tr>\n",
       "</tbody>\n",
       "</table>\n"
      ],
      "text/latex": [
       "A data.frame: 1 × 2\n",
       "\\begin{tabular}{r|ll}\n",
       "  & file\\_id & cases.case\\_id\\\\\n",
       "  & <chr> & <chr>\\\\\n",
       "\\hline\n",
       "\t1 & fee72a44-3808-4e5f-bc63-5c6fef56db4c & 17dffffc-65d6-4209-9075-18a441001f0f\\\\\n",
       "\\end{tabular}\n"
      ],
      "text/markdown": [
       "\n",
       "A data.frame: 1 × 2\n",
       "\n",
       "| <!--/--> | file_id &lt;chr&gt; | cases.case_id &lt;chr&gt; |\n",
       "|---|---|---|\n",
       "| 1 | fee72a44-3808-4e5f-bc63-5c6fef56db4c | 17dffffc-65d6-4209-9075-18a441001f0f |\n",
       "\n"
      ],
      "text/plain": [
       "  file_id                              cases.case_id                       \n",
       "1 fee72a44-3808-4e5f-bc63-5c6fef56db4c 17dffffc-65d6-4209-9075-18a441001f0f"
      ]
     },
     "metadata": {},
     "output_type": "display_data"
    }
   ],
   "source": [
    "head(UUIDtoUUID(\"fee72a44-3808-4e5f-bc63-5c6fef56db4c\", to_type = \"case_id\"))"
   ]
  },
  {
   "cell_type": "code",
   "execution_count": 6,
   "id": "a63cfaa9-1a4a-4ad0-bcb2-9db503ff4313",
   "metadata": {},
   "outputs": [
    {
     "data": {
      "text/html": [
       "<table class=\"dataframe\">\n",
       "<caption>A data.frame: 1 × 2</caption>\n",
       "<thead>\n",
       "\t<tr><th></th><th scope=col>file_id</th><th scope=col>cases.case_id</th></tr>\n",
       "\t<tr><th></th><th scope=col>&lt;chr&gt;</th><th scope=col>&lt;chr&gt;</th></tr>\n",
       "</thead>\n",
       "<tbody>\n",
       "\t<tr><th scope=row>1</th><td>60297773-9bfc-49e2-9674-e679fdbc5f3e</td><td>17dffffc-65d6-4209-9075-18a441001f0f</td></tr>\n",
       "</tbody>\n",
       "</table>\n"
      ],
      "text/latex": [
       "A data.frame: 1 × 2\n",
       "\\begin{tabular}{r|ll}\n",
       "  & file\\_id & cases.case\\_id\\\\\n",
       "  & <chr> & <chr>\\\\\n",
       "\\hline\n",
       "\t1 & 60297773-9bfc-49e2-9674-e679fdbc5f3e & 17dffffc-65d6-4209-9075-18a441001f0f\\\\\n",
       "\\end{tabular}\n"
      ],
      "text/markdown": [
       "\n",
       "A data.frame: 1 × 2\n",
       "\n",
       "| <!--/--> | file_id &lt;chr&gt; | cases.case_id &lt;chr&gt; |\n",
       "|---|---|---|\n",
       "| 1 | 60297773-9bfc-49e2-9674-e679fdbc5f3e | 17dffffc-65d6-4209-9075-18a441001f0f |\n",
       "\n"
      ],
      "text/plain": [
       "  file_id                              cases.case_id                       \n",
       "1 60297773-9bfc-49e2-9674-e679fdbc5f3e 17dffffc-65d6-4209-9075-18a441001f0f"
      ]
     },
     "metadata": {},
     "output_type": "display_data"
    }
   ],
   "source": [
    "head(UUIDtoUUID(\"60297773-9bfc-49e2-9674-e679fdbc5f3e\", to_type = \"case_id\"))"
   ]
  },
  {
   "cell_type": "code",
   "execution_count": 11,
   "id": "8a3120b6-45f0-45f8-84eb-ce115c380af9",
   "metadata": {},
   "outputs": [],
   "source": [
    "df <- read.csv(\"/data/projects/GDC_Cancer_Wise/Brain/Manifest/Brain_gdc_manifest.2023-08-30.txt\", sep = \"\\t\")"
   ]
  },
  {
   "cell_type": "code",
   "execution_count": 12,
   "id": "ab54da02-843b-4638-a9ae-98f8b1a8b82a",
   "metadata": {},
   "outputs": [],
   "source": [
    "# Initialize the columns with NA values\n",
    "df$case_UUID <- NA\n",
    "df$TCGA_barcode <- NA\n",
    "df$biospecimen <- NA\n",
    "\n",
    "# Loop through each UUID and update the case_UUID and TCGA_barcode columns\n",
    "for (i in 1:nrow(df)) {\n",
    "  tryCatch({\n",
    "    # Retrieve the case UUID\n",
    "    case_uuid <- UUIDtoUUID(df$id[i], to_type = \"case_id\")\n",
    "    df$case_UUID[i] <- ifelse(length(case_uuid) > 0, case_uuid[2], NA)\n",
    "    \n",
    "    # Convert UUID to TCGA barcode\n",
    "    barcode_info <- UUIDtoBarcode(df$id[i], from_type = \"file_id\")\n",
    "    df$TCGA_barcode[i] <- barcode_info$associated_entities.entity_submitter_id[1]\n",
    "    \n",
    "    # Use the TCGA barcode to get biospecimen information\n",
    "    biospec_info <- TCGAbiospec(df$TCGA_barcode[i])\n",
    "    df$biospecimen[i] <- biospec_info$sample_definition[1]\n",
    "    \n",
    "  }, error = function(e) {\n",
    "    # Leave the columns as NA in case of an error\n",
    "    df$case_UUID[i] <- NA\n",
    "    df$TCGA_barcode[i] <- NA\n",
    "    df$biospecimen[i] <- NA\n",
    "  })\n",
    "}"
   ]
  },
  {
   "cell_type": "code",
   "execution_count": 13,
   "id": "d1ea86d9-ead0-497d-9acc-b4c94eddc26f",
   "metadata": {},
   "outputs": [
    {
     "data": {
      "text/html": [
       "<table class=\"dataframe\">\n",
       "<caption>A data.frame: 6 × 8</caption>\n",
       "<thead>\n",
       "\t<tr><th></th><th scope=col>id</th><th scope=col>filename</th><th scope=col>md5</th><th scope=col>size</th><th scope=col>state</th><th scope=col>case_UUID</th><th scope=col>TCGA_barcode</th><th scope=col>biospecimen</th></tr>\n",
       "\t<tr><th></th><th scope=col>&lt;chr&gt;</th><th scope=col>&lt;chr&gt;</th><th scope=col>&lt;chr&gt;</th><th scope=col>&lt;dbl&gt;</th><th scope=col>&lt;chr&gt;</th><th scope=col>&lt;list&gt;</th><th scope=col>&lt;chr&gt;</th><th scope=col>&lt;chr&gt;</th></tr>\n",
       "</thead>\n",
       "<tbody>\n",
       "\t<tr><th scope=row>1</th><td>8a5741e3-ade9-4aa0-bf16-fda229785973</td><td>96ef40c3-8d4c-4fe1-a33a-99f5b205a0bb_wgs_gdc_realn.bam</td><td>872f8936e6da37d65ad164008be0d97e</td><td>224307907152</td><td>released</td><td>12824b2b....</td><td>TCGA-14-0786-01B-01D-0932-09</td><td>Primary Solid Tumor  </td></tr>\n",
       "\t<tr><th scope=row>2</th><td>92d4df10-dc24-495c-889f-98fe42259a3d</td><td>6050f994-f394-4c1c-93ce-d36733aa9ae9_wgs_gdc_realn.bam</td><td>22e70f4babc0dbc558899362c29d0144</td><td>255133476881</td><td>released</td><td>1b6c184a....</td><td>TCGA-06-0881-10A-01D-0512-09</td><td>Blood Derived Normal </td></tr>\n",
       "\t<tr><th scope=row>3</th><td>31261c79-49e6-4e8e-9135-7445a93d3ff6</td><td>7cae6c0b-36fe-411b-bbba-093a4c846d84_wgs_gdc_realn.bam</td><td>b0a73ce14e054c4cb548b82cd4705090</td><td>433608688882</td><td>released</td><td>0078b0c4....</td><td>TCGA-14-1034-02B-01D-2280-08</td><td>Recurrent Solid Tumor</td></tr>\n",
       "\t<tr><th scope=row>4</th><td>03ec9184-c32b-40ec-90f6-fcb9ac13897c</td><td>e8114ae7-e076-44ca-b2bb-b6c3629b53b0_wgs_gdc_realn.bam</td><td>06b5e42fd7c52228a60af4dfffa39168</td><td>181458921470</td><td>released</td><td>12824b2b....</td><td>TCGA-14-0786-10A-01D-0703-09</td><td>Blood Derived Normal </td></tr>\n",
       "\t<tr><th scope=row>5</th><td>8b174bed-2bd0-4318-8831-8676df9af5a0</td><td>b73cfd2e-044f-4b41-b404-080d9d18e61d_wgs_gdc_realn.bam</td><td>9c2f64092e527de61125f7862d40c28d</td><td>224484119834</td><td>released</td><td>12824b2b....</td><td>TCGA-14-0786-01B-01D-0703-09</td><td>Primary Solid Tumor  </td></tr>\n",
       "\t<tr><th scope=row>6</th><td>096c606d-f16e-4f35-9fcb-03ad67c5b9b9</td><td>8480db03-e875-41ac-a259-18698317f45a_wgs_gdc_realn.bam</td><td>3b7a4fa54b53e231ac47bbec7297b3df</td><td>344148189350</td><td>released</td><td>1b6c184a....</td><td>TCGA-06-0881-01A-02D-0512-09</td><td>Primary Solid Tumor  </td></tr>\n",
       "</tbody>\n",
       "</table>\n"
      ],
      "text/latex": [
       "A data.frame: 6 × 8\n",
       "\\begin{tabular}{r|llllllll}\n",
       "  & id & filename & md5 & size & state & case\\_UUID & TCGA\\_barcode & biospecimen\\\\\n",
       "  & <chr> & <chr> & <chr> & <dbl> & <chr> & <list> & <chr> & <chr>\\\\\n",
       "\\hline\n",
       "\t1 & 8a5741e3-ade9-4aa0-bf16-fda229785973 & 96ef40c3-8d4c-4fe1-a33a-99f5b205a0bb\\_wgs\\_gdc\\_realn.bam & 872f8936e6da37d65ad164008be0d97e & 224307907152 & released & 12824b2b.... & TCGA-14-0786-01B-01D-0932-09 & Primary Solid Tumor  \\\\\n",
       "\t2 & 92d4df10-dc24-495c-889f-98fe42259a3d & 6050f994-f394-4c1c-93ce-d36733aa9ae9\\_wgs\\_gdc\\_realn.bam & 22e70f4babc0dbc558899362c29d0144 & 255133476881 & released & 1b6c184a.... & TCGA-06-0881-10A-01D-0512-09 & Blood Derived Normal \\\\\n",
       "\t3 & 31261c79-49e6-4e8e-9135-7445a93d3ff6 & 7cae6c0b-36fe-411b-bbba-093a4c846d84\\_wgs\\_gdc\\_realn.bam & b0a73ce14e054c4cb548b82cd4705090 & 433608688882 & released & 0078b0c4.... & TCGA-14-1034-02B-01D-2280-08 & Recurrent Solid Tumor\\\\\n",
       "\t4 & 03ec9184-c32b-40ec-90f6-fcb9ac13897c & e8114ae7-e076-44ca-b2bb-b6c3629b53b0\\_wgs\\_gdc\\_realn.bam & 06b5e42fd7c52228a60af4dfffa39168 & 181458921470 & released & 12824b2b.... & TCGA-14-0786-10A-01D-0703-09 & Blood Derived Normal \\\\\n",
       "\t5 & 8b174bed-2bd0-4318-8831-8676df9af5a0 & b73cfd2e-044f-4b41-b404-080d9d18e61d\\_wgs\\_gdc\\_realn.bam & 9c2f64092e527de61125f7862d40c28d & 224484119834 & released & 12824b2b.... & TCGA-14-0786-01B-01D-0703-09 & Primary Solid Tumor  \\\\\n",
       "\t6 & 096c606d-f16e-4f35-9fcb-03ad67c5b9b9 & 8480db03-e875-41ac-a259-18698317f45a\\_wgs\\_gdc\\_realn.bam & 3b7a4fa54b53e231ac47bbec7297b3df & 344148189350 & released & 1b6c184a.... & TCGA-06-0881-01A-02D-0512-09 & Primary Solid Tumor  \\\\\n",
       "\\end{tabular}\n"
      ],
      "text/markdown": [
       "\n",
       "A data.frame: 6 × 8\n",
       "\n",
       "| <!--/--> | id &lt;chr&gt; | filename &lt;chr&gt; | md5 &lt;chr&gt; | size &lt;dbl&gt; | state &lt;chr&gt; | case_UUID &lt;list&gt; | TCGA_barcode &lt;chr&gt; | biospecimen &lt;chr&gt; |\n",
       "|---|---|---|---|---|---|---|---|---|\n",
       "| 1 | 8a5741e3-ade9-4aa0-bf16-fda229785973 | 96ef40c3-8d4c-4fe1-a33a-99f5b205a0bb_wgs_gdc_realn.bam | 872f8936e6da37d65ad164008be0d97e | 224307907152 | released | 12824b2b.... | TCGA-14-0786-01B-01D-0932-09 | Primary Solid Tumor   |\n",
       "| 2 | 92d4df10-dc24-495c-889f-98fe42259a3d | 6050f994-f394-4c1c-93ce-d36733aa9ae9_wgs_gdc_realn.bam | 22e70f4babc0dbc558899362c29d0144 | 255133476881 | released | 1b6c184a.... | TCGA-06-0881-10A-01D-0512-09 | Blood Derived Normal  |\n",
       "| 3 | 31261c79-49e6-4e8e-9135-7445a93d3ff6 | 7cae6c0b-36fe-411b-bbba-093a4c846d84_wgs_gdc_realn.bam | b0a73ce14e054c4cb548b82cd4705090 | 433608688882 | released | 0078b0c4.... | TCGA-14-1034-02B-01D-2280-08 | Recurrent Solid Tumor |\n",
       "| 4 | 03ec9184-c32b-40ec-90f6-fcb9ac13897c | e8114ae7-e076-44ca-b2bb-b6c3629b53b0_wgs_gdc_realn.bam | 06b5e42fd7c52228a60af4dfffa39168 | 181458921470 | released | 12824b2b.... | TCGA-14-0786-10A-01D-0703-09 | Blood Derived Normal  |\n",
       "| 5 | 8b174bed-2bd0-4318-8831-8676df9af5a0 | b73cfd2e-044f-4b41-b404-080d9d18e61d_wgs_gdc_realn.bam | 9c2f64092e527de61125f7862d40c28d | 224484119834 | released | 12824b2b.... | TCGA-14-0786-01B-01D-0703-09 | Primary Solid Tumor   |\n",
       "| 6 | 096c606d-f16e-4f35-9fcb-03ad67c5b9b9 | 8480db03-e875-41ac-a259-18698317f45a_wgs_gdc_realn.bam | 3b7a4fa54b53e231ac47bbec7297b3df | 344148189350 | released | 1b6c184a.... | TCGA-06-0881-01A-02D-0512-09 | Primary Solid Tumor   |\n",
       "\n"
      ],
      "text/plain": [
       "  id                                  \n",
       "1 8a5741e3-ade9-4aa0-bf16-fda229785973\n",
       "2 92d4df10-dc24-495c-889f-98fe42259a3d\n",
       "3 31261c79-49e6-4e8e-9135-7445a93d3ff6\n",
       "4 03ec9184-c32b-40ec-90f6-fcb9ac13897c\n",
       "5 8b174bed-2bd0-4318-8831-8676df9af5a0\n",
       "6 096c606d-f16e-4f35-9fcb-03ad67c5b9b9\n",
       "  filename                                              \n",
       "1 96ef40c3-8d4c-4fe1-a33a-99f5b205a0bb_wgs_gdc_realn.bam\n",
       "2 6050f994-f394-4c1c-93ce-d36733aa9ae9_wgs_gdc_realn.bam\n",
       "3 7cae6c0b-36fe-411b-bbba-093a4c846d84_wgs_gdc_realn.bam\n",
       "4 e8114ae7-e076-44ca-b2bb-b6c3629b53b0_wgs_gdc_realn.bam\n",
       "5 b73cfd2e-044f-4b41-b404-080d9d18e61d_wgs_gdc_realn.bam\n",
       "6 8480db03-e875-41ac-a259-18698317f45a_wgs_gdc_realn.bam\n",
       "  md5                              size         state    case_UUID   \n",
       "1 872f8936e6da37d65ad164008be0d97e 224307907152 released 12824b2b....\n",
       "2 22e70f4babc0dbc558899362c29d0144 255133476881 released 1b6c184a....\n",
       "3 b0a73ce14e054c4cb548b82cd4705090 433608688882 released 0078b0c4....\n",
       "4 06b5e42fd7c52228a60af4dfffa39168 181458921470 released 12824b2b....\n",
       "5 9c2f64092e527de61125f7862d40c28d 224484119834 released 12824b2b....\n",
       "6 3b7a4fa54b53e231ac47bbec7297b3df 344148189350 released 1b6c184a....\n",
       "  TCGA_barcode                 biospecimen          \n",
       "1 TCGA-14-0786-01B-01D-0932-09 Primary Solid Tumor  \n",
       "2 TCGA-06-0881-10A-01D-0512-09 Blood Derived Normal \n",
       "3 TCGA-14-1034-02B-01D-2280-08 Recurrent Solid Tumor\n",
       "4 TCGA-14-0786-10A-01D-0703-09 Blood Derived Normal \n",
       "5 TCGA-14-0786-01B-01D-0703-09 Primary Solid Tumor  \n",
       "6 TCGA-06-0881-01A-02D-0512-09 Primary Solid Tumor  "
      ]
     },
     "metadata": {},
     "output_type": "display_data"
    }
   ],
   "source": [
    "head(df)"
   ]
  },
  {
   "cell_type": "code",
   "execution_count": 14,
   "id": "4067f427-8fbc-4abf-acd0-0d14d2cc4072",
   "metadata": {},
   "outputs": [],
   "source": [
    "# Ensure that the case_UUID column is not a list\n",
    "# If it is, convert it to a character vector, keeping only the first element if there are multiple\n",
    "df$case_UUID <- sapply(df$case_UUID, function(x) ifelse(is.na(x), NA, ifelse(length(x) > 0, x[1], NA)))\n",
    "\n",
    "# Now try saving the file again\n",
    "write.table(df, \"/data/projects/GDC_Cancer_Wise/Brain/Postprocessing_files/Manifest_UUID_CaseUUID.tsv\", sep = \"\\t\", row.names = FALSE, quote = FALSE)\n"
   ]
  },
  {
   "cell_type": "code",
   "execution_count": null,
   "id": "4bf4b98f-b171-42cd-89d7-45a48ca1c52d",
   "metadata": {},
   "outputs": [],
   "source": []
  }
 ],
 "metadata": {
  "kernelspec": {
   "display_name": "R",
   "language": "R",
   "name": "ir"
  },
  "language_info": {
   "codemirror_mode": "r",
   "file_extension": ".r",
   "mimetype": "text/x-r-source",
   "name": "R",
   "pygments_lexer": "r",
   "version": "4.3.0"
  }
 },
 "nbformat": 4,
 "nbformat_minor": 5
}
