{
 "cells": [
  {
   "cell_type": "code",
   "execution_count": 4,
   "id": "86667179-0c7f-4fbf-89ec-4a940e08438b",
   "metadata": {},
   "outputs": [
    {
     "ename": "ERROR",
     "evalue": "Error in library(curatedTCGAData): there is no package called ‘curatedTCGAData’\n",
     "output_type": "error",
     "traceback": [
      "Error in library(curatedTCGAData): there is no package called ‘curatedTCGAData’\nTraceback:\n",
      "1. library(curatedTCGAData)"
     ]
    }
   ],
   "source": [
    "library(TCGAutils)\n",
    "library(curatedTCGAData)\n",
    "# library(MultiAssayExperiment)\n",
    "# library(RTCGAToolbox)\n",
    "# library(rtracklayer)\n",
    "# library(R.utils)"
   ]
  },
  {
   "cell_type": "code",
   "execution_count": 6,
   "id": "45651a0f-27aa-4a23-8bbe-669d8b66512c",
   "metadata": {},
   "outputs": [
    {
     "data": {
      "text/html": [
       "<table class=\"dataframe\">\n",
       "<caption>A data.frame: 1 × 5</caption>\n",
       "<thead>\n",
       "\t<tr><th scope=col>uuid</th><th scope=col>version</th><th scope=col>file_change</th><th scope=col>release_date</th><th scope=col>data_release</th></tr>\n",
       "\t<tr><th scope=col>&lt;chr&gt;</th><th scope=col>&lt;chr&gt;</th><th scope=col>&lt;chr&gt;</th><th scope=col>&lt;chr&gt;</th><th scope=col>&lt;chr&gt;</th></tr>\n",
       "</thead>\n",
       "<tbody>\n",
       "\t<tr><td>8a5741e3-ade9-4aa0-bf16-fda229785973</td><td>1</td><td>released</td><td>2022-12-12</td><td>36.0</td></tr>\n",
       "</tbody>\n",
       "</table>\n"
      ],
      "text/latex": [
       "A data.frame: 1 × 5\n",
       "\\begin{tabular}{lllll}\n",
       " uuid & version & file\\_change & release\\_date & data\\_release\\\\\n",
       " <chr> & <chr> & <chr> & <chr> & <chr>\\\\\n",
       "\\hline\n",
       "\t 8a5741e3-ade9-4aa0-bf16-fda229785973 & 1 & released & 2022-12-12 & 36.0\\\\\n",
       "\\end{tabular}\n"
      ],
      "text/markdown": [
       "\n",
       "A data.frame: 1 × 5\n",
       "\n",
       "| uuid &lt;chr&gt; | version &lt;chr&gt; | file_change &lt;chr&gt; | release_date &lt;chr&gt; | data_release &lt;chr&gt; |\n",
       "|---|---|---|---|---|\n",
       "| 8a5741e3-ade9-4aa0-bf16-fda229785973 | 1 | released | 2022-12-12 | 36.0 |\n",
       "\n"
      ],
      "text/plain": [
       "  uuid                                 version file_change release_date\n",
       "1 8a5741e3-ade9-4aa0-bf16-fda229785973 1       released    2022-12-12  \n",
       "  data_release\n",
       "1 36.0        "
      ]
     },
     "metadata": {},
     "output_type": "display_data"
    }
   ],
   "source": [
    "UUIDhistory(\"8a5741e3-ade9-4aa0-bf16-fda229785973\")"
   ]
  },
  {
   "cell_type": "code",
   "execution_count": 16,
   "id": "c6a14536-0ac3-4dec-8378-ca1520f45160",
   "metadata": {},
   "outputs": [
    {
     "data": {
      "text/html": [
       "<table class=\"dataframe\">\n",
       "<caption>A data.frame: 1 × 2</caption>\n",
       "<thead>\n",
       "\t<tr><th></th><th scope=col>file_id</th><th scope=col>cases.case_id</th></tr>\n",
       "\t<tr><th></th><th scope=col>&lt;chr&gt;</th><th scope=col>&lt;chr&gt;</th></tr>\n",
       "</thead>\n",
       "<tbody>\n",
       "\t<tr><th scope=row>1</th><td>8a5741e3-ade9-4aa0-bf16-fda229785973</td><td>12824b2b-9c0a-4dcf-8941-34593a4e93da</td></tr>\n",
       "</tbody>\n",
       "</table>\n"
      ],
      "text/latex": [
       "A data.frame: 1 × 2\n",
       "\\begin{tabular}{r|ll}\n",
       "  & file\\_id & cases.case\\_id\\\\\n",
       "  & <chr> & <chr>\\\\\n",
       "\\hline\n",
       "\t1 & 8a5741e3-ade9-4aa0-bf16-fda229785973 & 12824b2b-9c0a-4dcf-8941-34593a4e93da\\\\\n",
       "\\end{tabular}\n"
      ],
      "text/markdown": [
       "\n",
       "A data.frame: 1 × 2\n",
       "\n",
       "| <!--/--> | file_id &lt;chr&gt; | cases.case_id &lt;chr&gt; |\n",
       "|---|---|---|\n",
       "| 1 | 8a5741e3-ade9-4aa0-bf16-fda229785973 | 12824b2b-9c0a-4dcf-8941-34593a4e93da |\n",
       "\n"
      ],
      "text/plain": [
       "  file_id                              cases.case_id                       \n",
       "1 8a5741e3-ade9-4aa0-bf16-fda229785973 12824b2b-9c0a-4dcf-8941-34593a4e93da"
      ]
     },
     "metadata": {},
     "output_type": "display_data"
    }
   ],
   "source": [
    "head(UUIDtoUUID(\"8a5741e3-ade9-4aa0-bf16-fda229785973\", to_type = \"case_id\"))"
   ]
  },
  {
   "cell_type": "code",
   "execution_count": 10,
   "id": "8a3120b6-45f0-45f8-84eb-ce115c380af9",
   "metadata": {},
   "outputs": [],
   "source": [
    "df <- read.csv(\"/data/projects/GDC_Cancer_Wise/Brain/Manifest/Brain_gdc_manifest.2023-08-30.txt\", sep = \"\\t\")"
   ]
  },
  {
   "cell_type": "code",
   "execution_count": 20,
   "id": "ab54da02-843b-4638-a9ae-98f8b1a8b82a",
   "metadata": {},
   "outputs": [],
   "source": [
    "# Initialize the case_UUID column with NA values\n",
    "df$case_UUID <- NA\n",
    "\n",
    "# Loop through each UUID and update the case_UUID column\n",
    "for (i in 1:nrow(df)) {\n",
    "  tryCatch({\n",
    "    # Retrieve the case UUID\n",
    "    case_uuid <- UUIDtoUUID(df$id[i], to_type = \"case_id\")\n",
    "    # Update the case_UUID column with the first result, if available\n",
    "    df$case_UUID[i] <- ifelse(length(case_uuid) > 0, case_uuid[2], NA)\n",
    "  }, error = function(e) {\n",
    "    # Leave the case_UUID as NA in case of an error\n",
    "    df$case_UUID[i] <- NA\n",
    "  })\n",
    "}"
   ]
  },
  {
   "cell_type": "code",
   "execution_count": 21,
   "id": "d1ea86d9-ead0-497d-9acc-b4c94eddc26f",
   "metadata": {},
   "outputs": [
    {
     "data": {
      "text/html": [
       "<table class=\"dataframe\">\n",
       "<caption>A data.frame: 6 × 6</caption>\n",
       "<thead>\n",
       "\t<tr><th></th><th scope=col>id</th><th scope=col>filename</th><th scope=col>md5</th><th scope=col>size</th><th scope=col>state</th><th scope=col>case_UUID</th></tr>\n",
       "\t<tr><th></th><th scope=col>&lt;chr&gt;</th><th scope=col>&lt;chr&gt;</th><th scope=col>&lt;chr&gt;</th><th scope=col>&lt;dbl&gt;</th><th scope=col>&lt;chr&gt;</th><th scope=col>&lt;list&gt;</th></tr>\n",
       "</thead>\n",
       "<tbody>\n",
       "\t<tr><th scope=row>1</th><td>8a5741e3-ade9-4aa0-bf16-fda229785973</td><td>96ef40c3-8d4c-4fe1-a33a-99f5b205a0bb_wgs_gdc_realn.bam</td><td>872f8936e6da37d65ad164008be0d97e</td><td>224307907152</td><td>released</td><td>12824b2b....</td></tr>\n",
       "\t<tr><th scope=row>2</th><td>92d4df10-dc24-495c-889f-98fe42259a3d</td><td>6050f994-f394-4c1c-93ce-d36733aa9ae9_wgs_gdc_realn.bam</td><td>22e70f4babc0dbc558899362c29d0144</td><td>255133476881</td><td>released</td><td>1b6c184a....</td></tr>\n",
       "\t<tr><th scope=row>3</th><td>31261c79-49e6-4e8e-9135-7445a93d3ff6</td><td>7cae6c0b-36fe-411b-bbba-093a4c846d84_wgs_gdc_realn.bam</td><td>b0a73ce14e054c4cb548b82cd4705090</td><td>433608688882</td><td>released</td><td>0078b0c4....</td></tr>\n",
       "\t<tr><th scope=row>4</th><td>03ec9184-c32b-40ec-90f6-fcb9ac13897c</td><td>e8114ae7-e076-44ca-b2bb-b6c3629b53b0_wgs_gdc_realn.bam</td><td>06b5e42fd7c52228a60af4dfffa39168</td><td>181458921470</td><td>released</td><td>12824b2b....</td></tr>\n",
       "\t<tr><th scope=row>5</th><td>8b174bed-2bd0-4318-8831-8676df9af5a0</td><td>b73cfd2e-044f-4b41-b404-080d9d18e61d_wgs_gdc_realn.bam</td><td>9c2f64092e527de61125f7862d40c28d</td><td>224484119834</td><td>released</td><td>12824b2b....</td></tr>\n",
       "\t<tr><th scope=row>6</th><td>096c606d-f16e-4f35-9fcb-03ad67c5b9b9</td><td>8480db03-e875-41ac-a259-18698317f45a_wgs_gdc_realn.bam</td><td>3b7a4fa54b53e231ac47bbec7297b3df</td><td>344148189350</td><td>released</td><td>1b6c184a....</td></tr>\n",
       "</tbody>\n",
       "</table>\n"
      ],
      "text/latex": [
       "A data.frame: 6 × 6\n",
       "\\begin{tabular}{r|llllll}\n",
       "  & id & filename & md5 & size & state & case\\_UUID\\\\\n",
       "  & <chr> & <chr> & <chr> & <dbl> & <chr> & <list>\\\\\n",
       "\\hline\n",
       "\t1 & 8a5741e3-ade9-4aa0-bf16-fda229785973 & 96ef40c3-8d4c-4fe1-a33a-99f5b205a0bb\\_wgs\\_gdc\\_realn.bam & 872f8936e6da37d65ad164008be0d97e & 224307907152 & released & 12824b2b....\\\\\n",
       "\t2 & 92d4df10-dc24-495c-889f-98fe42259a3d & 6050f994-f394-4c1c-93ce-d36733aa9ae9\\_wgs\\_gdc\\_realn.bam & 22e70f4babc0dbc558899362c29d0144 & 255133476881 & released & 1b6c184a....\\\\\n",
       "\t3 & 31261c79-49e6-4e8e-9135-7445a93d3ff6 & 7cae6c0b-36fe-411b-bbba-093a4c846d84\\_wgs\\_gdc\\_realn.bam & b0a73ce14e054c4cb548b82cd4705090 & 433608688882 & released & 0078b0c4....\\\\\n",
       "\t4 & 03ec9184-c32b-40ec-90f6-fcb9ac13897c & e8114ae7-e076-44ca-b2bb-b6c3629b53b0\\_wgs\\_gdc\\_realn.bam & 06b5e42fd7c52228a60af4dfffa39168 & 181458921470 & released & 12824b2b....\\\\\n",
       "\t5 & 8b174bed-2bd0-4318-8831-8676df9af5a0 & b73cfd2e-044f-4b41-b404-080d9d18e61d\\_wgs\\_gdc\\_realn.bam & 9c2f64092e527de61125f7862d40c28d & 224484119834 & released & 12824b2b....\\\\\n",
       "\t6 & 096c606d-f16e-4f35-9fcb-03ad67c5b9b9 & 8480db03-e875-41ac-a259-18698317f45a\\_wgs\\_gdc\\_realn.bam & 3b7a4fa54b53e231ac47bbec7297b3df & 344148189350 & released & 1b6c184a....\\\\\n",
       "\\end{tabular}\n"
      ],
      "text/markdown": [
       "\n",
       "A data.frame: 6 × 6\n",
       "\n",
       "| <!--/--> | id &lt;chr&gt; | filename &lt;chr&gt; | md5 &lt;chr&gt; | size &lt;dbl&gt; | state &lt;chr&gt; | case_UUID &lt;list&gt; |\n",
       "|---|---|---|---|---|---|---|\n",
       "| 1 | 8a5741e3-ade9-4aa0-bf16-fda229785973 | 96ef40c3-8d4c-4fe1-a33a-99f5b205a0bb_wgs_gdc_realn.bam | 872f8936e6da37d65ad164008be0d97e | 224307907152 | released | 12824b2b.... |\n",
       "| 2 | 92d4df10-dc24-495c-889f-98fe42259a3d | 6050f994-f394-4c1c-93ce-d36733aa9ae9_wgs_gdc_realn.bam | 22e70f4babc0dbc558899362c29d0144 | 255133476881 | released | 1b6c184a.... |\n",
       "| 3 | 31261c79-49e6-4e8e-9135-7445a93d3ff6 | 7cae6c0b-36fe-411b-bbba-093a4c846d84_wgs_gdc_realn.bam | b0a73ce14e054c4cb548b82cd4705090 | 433608688882 | released | 0078b0c4.... |\n",
       "| 4 | 03ec9184-c32b-40ec-90f6-fcb9ac13897c | e8114ae7-e076-44ca-b2bb-b6c3629b53b0_wgs_gdc_realn.bam | 06b5e42fd7c52228a60af4dfffa39168 | 181458921470 | released | 12824b2b.... |\n",
       "| 5 | 8b174bed-2bd0-4318-8831-8676df9af5a0 | b73cfd2e-044f-4b41-b404-080d9d18e61d_wgs_gdc_realn.bam | 9c2f64092e527de61125f7862d40c28d | 224484119834 | released | 12824b2b.... |\n",
       "| 6 | 096c606d-f16e-4f35-9fcb-03ad67c5b9b9 | 8480db03-e875-41ac-a259-18698317f45a_wgs_gdc_realn.bam | 3b7a4fa54b53e231ac47bbec7297b3df | 344148189350 | released | 1b6c184a.... |\n",
       "\n"
      ],
      "text/plain": [
       "  id                                  \n",
       "1 8a5741e3-ade9-4aa0-bf16-fda229785973\n",
       "2 92d4df10-dc24-495c-889f-98fe42259a3d\n",
       "3 31261c79-49e6-4e8e-9135-7445a93d3ff6\n",
       "4 03ec9184-c32b-40ec-90f6-fcb9ac13897c\n",
       "5 8b174bed-2bd0-4318-8831-8676df9af5a0\n",
       "6 096c606d-f16e-4f35-9fcb-03ad67c5b9b9\n",
       "  filename                                              \n",
       "1 96ef40c3-8d4c-4fe1-a33a-99f5b205a0bb_wgs_gdc_realn.bam\n",
       "2 6050f994-f394-4c1c-93ce-d36733aa9ae9_wgs_gdc_realn.bam\n",
       "3 7cae6c0b-36fe-411b-bbba-093a4c846d84_wgs_gdc_realn.bam\n",
       "4 e8114ae7-e076-44ca-b2bb-b6c3629b53b0_wgs_gdc_realn.bam\n",
       "5 b73cfd2e-044f-4b41-b404-080d9d18e61d_wgs_gdc_realn.bam\n",
       "6 8480db03-e875-41ac-a259-18698317f45a_wgs_gdc_realn.bam\n",
       "  md5                              size         state    case_UUID   \n",
       "1 872f8936e6da37d65ad164008be0d97e 224307907152 released 12824b2b....\n",
       "2 22e70f4babc0dbc558899362c29d0144 255133476881 released 1b6c184a....\n",
       "3 b0a73ce14e054c4cb548b82cd4705090 433608688882 released 0078b0c4....\n",
       "4 06b5e42fd7c52228a60af4dfffa39168 181458921470 released 12824b2b....\n",
       "5 9c2f64092e527de61125f7862d40c28d 224484119834 released 12824b2b....\n",
       "6 3b7a4fa54b53e231ac47bbec7297b3df 344148189350 released 1b6c184a...."
      ]
     },
     "metadata": {},
     "output_type": "display_data"
    }
   ],
   "source": [
    "head(df)"
   ]
  },
  {
   "cell_type": "code",
   "execution_count": 22,
   "id": "4067f427-8fbc-4abf-acd0-0d14d2cc4072",
   "metadata": {},
   "outputs": [],
   "source": [
    "# Ensure that the case_UUID column is not a list\n",
    "# If it is, convert it to a character vector, keeping only the first element if there are multiple\n",
    "df$case_UUID <- sapply(df$case_UUID, function(x) ifelse(is.na(x), NA, ifelse(length(x) > 0, x[1], NA)))\n",
    "\n",
    "# Now try saving the file again\n",
    "write.table(df, \"/data/projects/GDC_Cancer_Wise/Brain/Postprocessing_files/Manifest_UUID_CaseUUID.tsv\", sep = \"\\t\", row.names = FALSE, quote = FALSE)\n"
   ]
  },
  {
   "cell_type": "code",
   "execution_count": null,
   "id": "4bf4b98f-b171-42cd-89d7-45a48ca1c52d",
   "metadata": {},
   "outputs": [],
   "source": []
  }
 ],
 "metadata": {
  "kernelspec": {
   "display_name": "Python 3 (ipykernel)",
   "language": "python",
   "name": "python3"
  },
  "language_info": {
   "codemirror_mode": {
    "name": "ipython",
    "version": 3
   },
   "file_extension": ".py",
   "mimetype": "text/x-python",
   "name": "python",
   "nbconvert_exporter": "python",
   "pygments_lexer": "ipython3",
   "version": "3.10.11"
  }
 },
 "nbformat": 4,
 "nbformat_minor": 5
}
