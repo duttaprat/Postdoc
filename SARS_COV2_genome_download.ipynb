{
 "cells": [
  {
   "cell_type": "code",
   "execution_count": 1,
   "id": "89027d44",
   "metadata": {},
   "outputs": [],
   "source": [
    "import os \n",
    "from Bio import Entrez, SeqIO\n",
    "Entrez.email = 'pratik.dutta@stonybrook.edu'"
   ]
  },
  {
   "cell_type": "code",
   "execution_count": 2,
   "id": "4d6f4d2f",
   "metadata": {},
   "outputs": [],
   "source": [
    "os.chdir(\"/Users/pratik/Box/Datasets/20210712_SARS_COV_2_genome\")\n",
    "#os.mkdir(\"FASTA_files\")"
   ]
  },
  {
   "cell_type": "code",
   "execution_count": 3,
   "id": "9f106a83",
   "metadata": {},
   "outputs": [
    {
     "name": "stdout",
     "output_type": "stream",
     "text": [
      "/Users/pratik/Box/Datasets/20210712_SARS_COV_2_genome\n"
     ]
    }
   ],
   "source": [
    "print(os.getcwd())"
   ]
  },
  {
   "cell_type": "code",
   "execution_count": 4,
   "id": "225b0ab3-b895-4f4b-b110-282948680eb3",
   "metadata": {},
   "outputs": [
    {
     "name": "stdout",
     "output_type": "stream",
     "text": [
      "['FASTA_files', 'sequences.acc', 'sequences.csv', 'sequences.fasta']\n"
     ]
    }
   ],
   "source": [
    "print(os.listdir(os.getcwd()))"
   ]
  },
  {
   "cell_type": "code",
   "execution_count": 5,
   "id": "fc3212ed",
   "metadata": {},
   "outputs": [],
   "source": [
    "file= open(\"sequences.acc\",'r')\n",
    "all_accessions = file.readlines()"
   ]
  },
  {
   "cell_type": "code",
   "execution_count": 6,
   "id": "380c457c",
   "metadata": {},
   "outputs": [
    {
     "data": {
      "text/plain": [
       "['NC_045512\\n', 'MZ540788\\n', 'MZ541569\\n', 'MZ541570\\n', 'MZ541571\\n']"
      ]
     },
     "execution_count": 6,
     "metadata": {},
     "output_type": "execute_result"
    }
   ],
   "source": [
    "all_accessions[0:5]"
   ]
  },
  {
   "cell_type": "code",
   "execution_count": null,
   "id": "d4699e4e",
   "metadata": {
    "scrolled": true
   },
   "outputs": [
    {
     "name": "stdout",
     "output_type": "stream",
     "text": [
      "313797\n",
      "313798\n",
      "313799\n",
      "313800\n",
      "313801\n",
      "313802\n",
      "313803\n",
      "313804\n",
      "313805\n",
      "313806\n",
      "313807\n",
      "313808\n",
      "313809\n",
      "313810\n",
      "313811\n",
      "313812\n",
      "313813\n",
      "313814\n",
      "313815\n",
      "313816\n",
      "313817\n",
      "313818\n",
      "313819\n",
      "313820\n",
      "313821\n",
      "313822\n",
      "313823\n",
      "313824\n",
      "313825\n",
      "313826\n",
      "313827\n",
      "313828\n",
      "313829\n",
      "313830\n",
      "313831\n",
      "313832\n",
      "313833\n",
      "313834\n",
      "313835\n",
      "313836\n",
      "313837\n",
      "313838\n",
      "313839\n",
      "313840\n",
      "313841\n",
      "313842\n",
      "313843\n",
      "313844\n",
      "313845\n",
      "313846\n",
      "313847\n",
      "313848\n",
      "313849\n",
      "313850\n",
      "313851\n",
      "313852\n",
      "313853\n",
      "313854\n",
      "313855\n",
      "313856\n",
      "313857\n",
      "313858\n",
      "313859\n",
      "313860\n",
      "313861\n",
      "313862\n",
      "313863\n",
      "313864\n",
      "313865\n",
      "313866\n",
      "313867\n",
      "313868\n",
      "313869\n",
      "313870\n",
      "313871\n",
      "313872\n",
      "313873\n",
      "313874\n",
      "313875\n",
      "313876\n",
      "313877\n",
      "313878\n",
      "313879\n",
      "313880\n",
      "313881\n",
      "313882\n",
      "313883\n",
      "313884\n",
      "313885\n",
      "313886\n",
      "313887\n",
      "313888\n",
      "313889\n",
      "313890\n",
      "313891\n",
      "313892\n",
      "313893\n",
      "313894\n",
      "313895\n",
      "313896\n",
      "313897\n",
      "313898\n"
     ]
    }
   ],
   "source": [
    "temp= 313797\n",
    "for accession in all_accessions[313797:]:\n",
    "    accession = accession.rstrip('\\n')\n",
    "    handle = Entrez.efetch(db=\"nucleotide\", id=accession, rettype=\"fasta\", retmode=\"text\")\n",
    "    record = handle.read()\n",
    "    with open('FASTA_files/{}_FASTA.txt'.format(accession),'w') as output:\n",
    "        output.write(record)\n",
    "    output.close()\n",
    "    print (temp)\n",
    "    temp = temp+1"
   ]
  },
  {
   "cell_type": "code",
   "execution_count": null,
   "id": "d75836b9",
   "metadata": {},
   "outputs": [],
   "source": []
  },
  {
   "cell_type": "code",
   "execution_count": null,
   "id": "da96a5ef-7361-42ea-9535-f31dd35340eb",
   "metadata": {},
   "outputs": [],
   "source": []
  },
  {
   "cell_type": "code",
   "execution_count": null,
   "id": "1be372b4-44b2-4d6d-99da-83e5769984c4",
   "metadata": {},
   "outputs": [],
   "source": []
  },
  {
   "cell_type": "code",
   "execution_count": null,
   "id": "0a82f44a-6010-4ef8-9388-f06c429c69b3",
   "metadata": {},
   "outputs": [],
   "source": []
  }
 ],
 "metadata": {
  "kernelspec": {
   "display_name": "Python 3",
   "language": "python",
   "name": "python3"
  },
  "language_info": {
   "codemirror_mode": {
    "name": "ipython",
    "version": 3
   },
   "file_extension": ".py",
   "mimetype": "text/x-python",
   "name": "python",
   "nbconvert_exporter": "python",
   "pygments_lexer": "ipython3",
   "version": "3.8.8"
  }
 },
 "nbformat": 4,
 "nbformat_minor": 5
}
