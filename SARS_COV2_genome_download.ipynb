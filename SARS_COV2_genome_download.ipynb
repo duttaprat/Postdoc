{
 "cells": [
  {
   "cell_type": "code",
   "execution_count": 8,
   "id": "89027d44",
   "metadata": {},
   "outputs": [],
   "source": [
    "import os \n",
    "from Bio import Entrez, SeqIO\n",
    "Entrez.email = 'pratik.dutta@stonybrook.edu'"
   ]
  },
  {
   "cell_type": "code",
   "execution_count": 3,
   "id": "4d6f4d2f",
   "metadata": {},
   "outputs": [],
   "source": [
    "os.chdir(\"/Users/pratik/Box/Datasets/20210812_SARS_COV_2_genome\")\n",
    "#os.mkdir(\"FASTA_files\")"
   ]
  },
  {
   "cell_type": "code",
   "execution_count": 4,
   "id": "9f106a83",
   "metadata": {},
   "outputs": [
    {
     "name": "stdout",
     "output_type": "stream",
     "text": [
      "/Users/pratik/Box/Datasets/20210812_SARS_COV_2_genome\n"
     ]
    }
   ],
   "source": [
    "print(os.getcwd())"
   ]
  },
  {
   "cell_type": "code",
   "execution_count": 5,
   "id": "fc3212ed",
   "metadata": {},
   "outputs": [],
   "source": [
    "file= open(\"sequences.acc\",'r')\n",
    "all_accessions = file.readlines()"
   ]
  },
  {
   "cell_type": "code",
   "execution_count": 6,
   "id": "380c457c",
   "metadata": {},
   "outputs": [
    {
     "data": {
      "text/plain": [
       "['NC_045512\\n', 'MZ540788\\n', 'MZ541569\\n', 'MZ541570\\n', 'MZ541571\\n']"
      ]
     },
     "execution_count": 6,
     "metadata": {},
     "output_type": "execute_result"
    }
   ],
   "source": [
    "all_accessions[0:5]"
   ]
  },
  {
   "cell_type": "code",
   "execution_count": null,
   "id": "d4699e4e",
   "metadata": {
    "scrolled": true
   },
   "outputs": [
    {
     "name": "stdout",
     "output_type": "stream",
     "text": [
      "55923\n",
      "55924\n",
      "55925\n",
      "55926\n",
      "55927\n",
      "55928\n",
      "55929\n",
      "55930\n",
      "55931\n",
      "55932\n",
      "55933\n",
      "55934\n",
      "55935\n",
      "55936\n",
      "55937\n",
      "55938\n",
      "55939\n",
      "55940\n",
      "55941\n",
      "55942\n",
      "55943\n",
      "55944\n",
      "55945\n",
      "55946\n",
      "55947\n",
      "55948\n",
      "55949\n",
      "55950\n",
      "55951\n",
      "55952\n",
      "55953\n",
      "55954\n",
      "55955\n",
      "55956\n",
      "55957\n",
      "55958\n",
      "55959\n",
      "55960\n",
      "55961\n",
      "55962\n",
      "55963\n",
      "55964\n",
      "55965\n",
      "55966\n",
      "55967\n",
      "55968\n",
      "55969\n",
      "55970\n",
      "55971\n",
      "55972\n",
      "55973\n",
      "55974\n",
      "55975\n",
      "55976\n",
      "55977\n",
      "55978\n",
      "55979\n",
      "55980\n",
      "55981\n",
      "55982\n",
      "55983\n",
      "55984\n",
      "55985\n",
      "55986\n",
      "55987\n",
      "55988\n",
      "55989\n",
      "55990\n",
      "55991\n",
      "55992\n",
      "55993\n",
      "55994\n",
      "55995\n",
      "55996\n",
      "55997\n",
      "55998\n",
      "55999\n",
      "56000\n",
      "56001\n",
      "56002\n",
      "56003\n",
      "56004\n",
      "56005\n",
      "56006\n",
      "56007\n",
      "56008\n",
      "56009\n",
      "56010\n",
      "56011\n",
      "56012\n",
      "56013\n",
      "56014\n",
      "56015\n",
      "56016\n",
      "56017\n",
      "56018\n",
      "56019\n",
      "56020\n",
      "56021\n",
      "56022\n",
      "56023\n",
      "56024\n",
      "56025\n",
      "56026\n",
      "56027\n",
      "56028\n",
      "56029\n",
      "56030\n",
      "56031\n",
      "56032\n",
      "56033\n",
      "56034\n",
      "56035\n",
      "56036\n",
      "56037\n",
      "56038\n",
      "56039\n",
      "56040\n",
      "56041\n",
      "56042\n",
      "56043\n",
      "56044\n",
      "56045\n",
      "56046\n",
      "56047\n",
      "56048\n",
      "56049\n"
     ]
    }
   ],
   "source": [
    "temp= 55923\n",
    "for accession in all_accessions[55923:]:\n",
    "    accession = accession.rstrip('\\n')\n",
    "    handle = Entrez.efetch(db=\"nucleotide\", id=accession, rettype=\"fasta\", retmode=\"text\")\n",
    "    record = handle.read()\n",
    "    with open('FASTA_files/{}_FASTA.txt'.format(accession),'w') as output:\n",
    "        output.write(record)\n",
    "    output.close()\n",
    "    print (temp)\n",
    "    temp = temp+1"
   ]
  },
  {
   "cell_type": "code",
   "execution_count": null,
   "id": "d75836b9",
   "metadata": {},
   "outputs": [],
   "source": []
  }
 ],
 "metadata": {
  "kernelspec": {
   "display_name": "Python 3",
   "language": "python",
   "name": "python3"
  },
  "language_info": {
   "codemirror_mode": {
    "name": "ipython",
    "version": 3
   },
   "file_extension": ".py",
   "mimetype": "text/x-python",
   "name": "python",
   "nbconvert_exporter": "python",
   "pygments_lexer": "ipython3",
   "version": "3.8.8"
  }
 },
 "nbformat": 4,
 "nbformat_minor": 5
}
