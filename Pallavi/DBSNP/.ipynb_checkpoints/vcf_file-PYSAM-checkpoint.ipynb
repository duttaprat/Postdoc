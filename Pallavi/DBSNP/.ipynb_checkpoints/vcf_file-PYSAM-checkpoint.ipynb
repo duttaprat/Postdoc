{
 "cells": [
  {
   "cell_type": "code",
   "execution_count": null,
   "id": "805c2439-2641-439b-95db-5a42add25b5e",
   "metadata": {},
   "outputs": [],
   "source": [
    "import io, os\n",
    "import pysam\n",
    "import pandas as pd\n",
    "#import pyBigWig\n",
    "import pybedtools"
   ]
  },
  {
   "cell_type": "code",
   "execution_count": null,
   "id": "99617ecb-bf9a-47b2-8ad8-44285e8d2885",
   "metadata": {},
   "outputs": [],
   "source": [
    "vcf_file_path = \"/data/projects/VCF_files/DBSNP/00-All.vcf\"\n",
    "reference_folder_path = \"/data/projects/Resources/HumanReferenceGenome/\""
   ]
  },
  {
   "cell_type": "markdown",
   "id": "9cbee1a8-8fbb-4a10-99ed-045a010bb883",
   "metadata": {},
   "source": [
    "## Covert VCF file to dataframe to visualize"
   ]
  },
  {
   "cell_type": "code",
   "execution_count": null,
   "id": "beb783fc-9c2c-4de6-a7e7-4d871a389f36",
   "metadata": {},
   "outputs": [],
   "source": [
    "def read_vcf(path):\n",
    "    with open(path, 'r') as f:\n",
    "        lines = [l for l in f if not l.startswith('##')]\n",
    "    return pd.read_csv(\n",
    "        io.StringIO(''.join(lines)),\n",
    "        dtype={'#CHROM': str, 'POS': int, 'ID': str, 'REF': str, 'ALT': str,\n",
    "               'QUAL': str, 'FILTER': str, 'INFO': str},\n",
    "        sep='\\t'\n",
    "    ).rename(columns={'#CHROM': 'CHROM'})"
   ]
  },
  {
   "cell_type": "code",
   "execution_count": null,
   "id": "85bfb75b-650d-4e5a-bc2b-8e330189df48",
   "metadata": {},
   "outputs": [],
   "source": [
    "read_vcf(vcf_file_path)"
   ]
  },
  {
   "cell_type": "markdown",
   "id": "be59a83a-0666-42e6-ae1e-ef58018da69a",
   "metadata": {},
   "source": [
    "## Processing the VCF file using PySAM "
   ]
  },
  {
   "cell_type": "code",
   "execution_count": null,
   "id": "72c94a7d-9341-43ea-929c-bb9f56465361",
   "metadata": {},
   "outputs": [],
   "source": [
    "vcf_file = pysam.VariantFile(vcf_file_path)\n",
    "# reference_fasta = pysam.FastaFile(reference_file_path)"
   ]
  },
  {
   "cell_type": "code",
   "execution_count": null,
   "id": "99dc64d3-cb4b-4ddc-9285-96795ac47f47",
   "metadata": {},
   "outputs": [],
   "source": []
  },
  {
   "cell_type": "code",
   "execution_count": null,
   "id": "7aa0df52-b593-4bdb-99b2-cba1b15f688d",
   "metadata": {},
   "outputs": [],
   "source": [
    "for rec in vcf_file.fetch():\n",
    "    # You can access all data about the variant like this:\n",
    "    print('Chromosome:', rec.chrom)\n",
    "    print('Position:', rec.pos)\n",
    "    print('Reference allele:', rec.ref)\n",
    "    print('Alternative alleles:', rec.alts)\n",
    "    input()"
   ]
  },
  {
   "cell_type": "code",
   "execution_count": null,
   "id": "c7569c3b-90ab-4200-8484-77f56456de19",
   "metadata": {},
   "outputs": [],
   "source": [
    "context = 50\n",
    "data = []\n",
    "\n",
    "for rec in vcf_file.fetch():\n",
    "    # Get the sequence context around the variant\n",
    "    seq_context = reference_fasta.fetch(\"chr\"+rec.chrom, rec.pos - 1 - context, rec.pos + context)\n",
    "\n",
    "    # Replace the reference allele with the alternative allele\n",
    "    alt_seq_context = seq_context[:context] + str(rec.alts[0]) + seq_context[context + len(rec.ref):]\n",
    "\n",
    "    print('Reference Allele and alterna', rec.ref , rec.alts)\n",
    "    print('Position:', rec.pos)\n",
    "    print(\"ID\", rec.id)\n",
    "    data.append([rec.chrom, rec.pos, rec.id, seq_context, alt_seq_context])\n",
    "    print(seq_context)\n",
    "    print(alt_seq_context)"
   ]
  },
  {
   "cell_type": "code",
   "execution_count": null,
   "id": "a2dc6cd7-bc38-424f-83ea-d2127b356f78",
   "metadata": {},
   "outputs": [],
   "source": [
    "# Create a dataframe from your data\n",
    "df_APOE = pd.DataFrame(data, columns=[\"CHROMOSOME\", \"POS\",'ID', 'REFERENCE_SEQUENCE', 'ALTERNATIVE_SEQUENCE'])\n",
    "df_APOE"
   ]
  },
  {
   "cell_type": "code",
   "execution_count": null,
   "id": "c726d49d-692b-4515-adfd-5e0dd76cd58d",
   "metadata": {},
   "outputs": [],
   "source": [
    "data= []\n",
    "for rec in vcf.fetch():\n",
    "    for sample in rec.samples:\n",
    "        sample_data = rec.samples[sample]\n",
    "        data.append([rec.chrom, rec.pos, rec.id, rec.ref, ','.join(rec.alts), rec.qual,\n",
    "                     ';'.join(rec.filter.keys()), dict(rec.info), sample, sample_data['GT']])\n",
    "\n",
    "# Create a pandas DataFrame from the data\n",
    "df = pd.DataFrame(data, columns=['CHROM', 'POS', 'ID', 'REF', 'ALT', 'QUAL', 'FILTER', 'INFO', 'SAMPLE', 'GT'])\n"
   ]
  },
  {
   "cell_type": "code",
   "execution_count": null,
   "id": "7413e7a5-7ae2-4084-8af4-fd4ddbfd3855",
   "metadata": {},
   "outputs": [],
   "source": [
    "df"
   ]
  },
  {
   "cell_type": "code",
   "execution_count": null,
   "id": "005f48ed-f5b8-4f0e-ac2f-70611f647914",
   "metadata": {},
   "outputs": [],
   "source": [
    "df[df[\"SAMPLE\"]==\"A-ACT-AC000007-BL-UPN-6888\"]"
   ]
  },
  {
   "cell_type": "code",
   "execution_count": null,
   "id": "203798aa-b67e-4807-be1f-0b806509c2ab",
   "metadata": {},
   "outputs": [],
   "source": []
  },
  {
   "cell_type": "code",
   "execution_count": null,
   "id": "ea5a3503-75b6-4c68-94bc-5abd48cacf78",
   "metadata": {},
   "outputs": [],
   "source": [
    "fasta.fetch('chr19', 10, 20)"
   ]
  },
  {
   "cell_type": "code",
   "execution_count": null,
   "id": "8089f3c9-ff79-448c-b939-0710594098a4",
   "metadata": {},
   "outputs": [],
   "source": []
  },
  {
   "cell_type": "code",
   "execution_count": null,
   "id": "ca493bfc-6066-4518-b2fd-c4758788b6aa",
   "metadata": {},
   "outputs": [],
   "source": [
    "def get_flanking_sequence(fasta, chrom, position, flanking_bp):\n",
    "    start = max(0, position - flanking_bp - 1)\n",
    "    end = position + flanking_bp\n",
    "    seq = fasta.fetch(chrom, start, end)\n",
    "    return seq"
   ]
  },
  {
   "cell_type": "code",
   "execution_count": null,
   "id": "af817cf2-bd1d-4f08-ad6c-684fc7edc4ce",
   "metadata": {},
   "outputs": [],
   "source": [
    "# replace with your files\n",
    "vcf_filename = file_path\n",
    "reference_fasta_path = \"/data/projects/Resources/HumanReferenceGenome/chr19.fa\""
   ]
  },
  {
   "cell_type": "code",
   "execution_count": null,
   "id": "2e96f6b1-0bda-452b-a792-4f3c2da7023e",
   "metadata": {},
   "outputs": [],
   "source": [
    "vcf = pysam.VariantFile(vcf_filename)\n",
    "fasta = pysam.FastaFile(reference_fasta_path)\n",
    "flanking_bp = 20\n",
    "\n",
    "for rec in vcf:\n",
    "    ref_seq = rec.ref\n",
    "    alt_seq = rec.alts[0] # assuming there is always at least one alternate allele\n",
    "    seq = get_flanking_sequence(fasta, \"chr\"+rec.chrom, rec.pos, flanking_bp)\n",
    "\n",
    "    print(f'Position: {rec.pos}')\n",
    "    print(f'Reference allele: {ref_seq}')\n",
    "    print(f'Alternate allele: {alt_seq}')\n",
    "    print(f'Flanking sequence: {seq}')\n",
    "    input()"
   ]
  },
  {
   "cell_type": "code",
   "execution_count": null,
   "id": "ad0a1c8d-091d-4b7d-8a33-a892255ef8f7",
   "metadata": {},
   "outputs": [],
   "source": [
    "vcf = pysam.VariantFile(vcf_filename)\n",
    "fasta = pysam.FastaFile(reference_fasta_path)\n",
    "flanking_bp = 20\n",
    "\n",
    "for rec in vcf:\n",
    "    for sample in rec.samples:\n",
    "        genotype = rec.samples[sample]['GT']\n",
    "        if genotype is None:  # genotype information not available for this sample\n",
    "            continue\n",
    "        alleles = [rec.ref] + list(rec.alts) if rec.alts else [rec.ref]\n",
    "        sample_alleles = [alleles[gt] for gt in genotype if gt is not None]\n",
    "\n",
    "        print(f'Sample: {sample}')\n",
    "        print(f'Genotype: {sample_alleles}')\n",
    "\n",
    "        for allele in sample_alleles:\n",
    "            seq = get_flanking_sequence(fasta, \"chr\"rec.chrom, rec.pos, flanking_bp)\n",
    "            print(f'Position: {rec.pos}')\n",
    "            print(f'Allele: {allele}')\n",
    "            print(f'Flanking sequence: {seq}')\n",
    "            input()"
   ]
  },
  {
   "cell_type": "code",
   "execution_count": null,
   "id": "4f0f3d00-1b8d-4cd1-b0aa-28030eb77fd6",
   "metadata": {},
   "outputs": [],
   "source": []
  },
  {
   "cell_type": "code",
   "execution_count": null,
   "id": "9c2f0c33-39d5-448c-b515-fdd446c0db6b",
   "metadata": {},
   "outputs": [],
   "source": []
  },
  {
   "cell_type": "code",
   "execution_count": null,
   "id": "37f40327-e408-410b-9697-23eb963a1ad9",
   "metadata": {},
   "outputs": [],
   "source": []
  },
  {
   "cell_type": "code",
   "execution_count": null,
   "id": "5904fba9-1ab9-40fb-a65c-f797b3ebc26a",
   "metadata": {},
   "outputs": [],
   "source": []
  },
  {
   "cell_type": "code",
   "execution_count": null,
   "id": "d13c7189-cb01-4c94-84a5-0490f82a5b6d",
   "metadata": {},
   "outputs": [],
   "source": [
    "df_test.columns.to_list()"
   ]
  },
  {
   "cell_type": "code",
   "execution_count": null,
   "id": "9104d7f5-0bda-41bc-8253-92a78042c8e7",
   "metadata": {},
   "outputs": [],
   "source": []
  }
 ],
 "metadata": {
  "kernelspec": {
   "display_name": "Python 3 (ipykernel)",
   "language": "python",
   "name": "python3"
  },
  "language_info": {
   "codemirror_mode": {
    "name": "ipython",
    "version": 3
   },
   "file_extension": ".py",
   "mimetype": "text/x-python",
   "name": "python",
   "nbconvert_exporter": "python",
   "pygments_lexer": "ipython3",
   "version": "3.10.11"
  }
 },
 "nbformat": 4,
 "nbformat_minor": 5
}
