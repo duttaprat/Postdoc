{
 "cells": [
  {
   "cell_type": "code",
   "execution_count": 1,
   "id": "18054a11-301a-4764-8169-d160cbfcd64d",
   "metadata": {},
   "outputs": [],
   "source": [
    "import pandas as pd\n",
    "import gzip\n",
    "from tqdm import tqdm\n",
    "import os\n",
    "import io"
   ]
  },
  {
   "cell_type": "code",
   "execution_count": 2,
   "id": "e5cadd76-315e-49a8-8689-e45898a95bc0",
   "metadata": {},
   "outputs": [],
   "source": [
    "file_path = '/data/projects/VCF_files/DBSNP/dbSnp155Details.tab.gz'"
   ]
  },
  {
   "cell_type": "code",
   "execution_count": 3,
   "id": "db62e520-0553-4028-8bd5-7e297a6e57d1",
   "metadata": {},
   "outputs": [
    {
     "data": {
      "text/plain": [
       "22428781386"
      ]
     },
     "execution_count": 3,
     "metadata": {},
     "output_type": "execute_result"
    }
   ],
   "source": [
    "total_size = os.path.getsize(file_path)\n",
    "total_size"
   ]
  },
  {
   "cell_type": "code",
   "execution_count": 6,
   "id": "5dd1df35-bcf8-4db5-a31f-8cb05e64ec65",
   "metadata": {},
   "outputs": [
    {
     "name": "stderr",
     "output_type": "stream",
     "text": [
      "  0%|                                                                                                                                                                                                                            | 0.00/22.4G [00:00<?, ?B/s]"
     ]
    }
   ],
   "source": [
    "# initialize progress bar\n",
    "progress_bar = tqdm(total=total_size, unit='B', unit_scale=True)"
   ]
  },
  {
   "cell_type": "code",
   "execution_count": 7,
   "id": "ed511b70-85b5-4c4b-8fd8-4b074027dbf3",
   "metadata": {},
   "outputs": [],
   "source": [
    "def read_in_chunks(file_object, chunk_size=1024 * 1024):  # read in chunks of 1 MB\n",
    "    while True:\n",
    "        data = file_object.read(chunk_size)\n",
    "        if not data:\n",
    "            break\n",
    "        progress_bar.update(len(data))\n",
    "        yield data"
   ]
  },
  {
   "cell_type": "code",
   "execution_count": 9,
   "id": "a8f43447-3a00-4996-8409-37d4ce800c3e",
   "metadata": {},
   "outputs": [
    {
     "name": "stderr",
     "output_type": "stream",
     "text": [
      "186GB [07:54, 413MB/s]                                                                                                                                                                                                                                       "
     ]
    },
    {
     "ename": "MemoryError",
     "evalue": "",
     "output_type": "error",
     "traceback": [
      "\u001b[0;31m---------------------------------------------------------------------------\u001b[0m",
      "\u001b[0;31mMemoryError\u001b[0m                               Traceback (most recent call last)",
      "Cell \u001b[0;32mIn[9], line 5\u001b[0m\n\u001b[1;32m      3\u001b[0m     \u001b[38;5;28;01mfor\u001b[39;00m chunk \u001b[38;5;129;01min\u001b[39;00m read_in_chunks(f):\n\u001b[1;32m      4\u001b[0m         buffer \u001b[38;5;241m+\u001b[39m\u001b[38;5;241m=\u001b[39m chunk\n\u001b[0;32m----> 5\u001b[0m     df \u001b[38;5;241m=\u001b[39m pd\u001b[38;5;241m.\u001b[39mread_csv(\u001b[43mio\u001b[49m\u001b[38;5;241;43m.\u001b[39;49m\u001b[43mStringIO\u001b[49m\u001b[43m(\u001b[49m\u001b[43mbuffer\u001b[49m\u001b[43m)\u001b[49m, delimiter\u001b[38;5;241m=\u001b[39m\u001b[38;5;124m'\u001b[39m\u001b[38;5;130;01m\\t\u001b[39;00m\u001b[38;5;124m'\u001b[39m)\n\u001b[1;32m      7\u001b[0m progress_bar\u001b[38;5;241m.\u001b[39mclose()\n",
      "\u001b[0;31mMemoryError\u001b[0m: "
     ]
    },
    {
     "name": "stderr",
     "output_type": "stream",
     "text": [
      "186GB [08:14, 413MB/s]"
     ]
    }
   ],
   "source": [
    "buffer = ''\n",
    "with gzip.open(file_path, 'rt') as f:\n",
    "    for chunk in read_in_chunks(f):\n",
    "        buffer += chunk\n",
    "    df = pd.read_csv(io.StringIO(buffer), delimiter='\\t')\n",
    "\n",
    "progress_bar.close()\n"
   ]
  },
  {
   "cell_type": "code",
   "execution_count": null,
   "id": "dfac70c1-f330-4e46-825a-1403610cee39",
   "metadata": {},
   "outputs": [],
   "source": []
  }
 ],
 "metadata": {
  "kernelspec": {
   "display_name": "Python 3",
   "language": "python",
   "name": "python3"
  },
  "language_info": {
   "codemirror_mode": {
    "name": "ipython",
    "version": 3
   },
   "file_extension": ".py",
   "mimetype": "text/x-python",
   "name": "python",
   "nbconvert_exporter": "python",
   "pygments_lexer": "ipython3",
   "version": "3.7.11"
  }
 },
 "nbformat": 4,
 "nbformat_minor": 5
}
