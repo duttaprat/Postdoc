{
 "cells": [
  {
   "cell_type": "code",
   "execution_count": 1,
   "id": "18054a11-301a-4764-8169-d160cbfcd64d",
   "metadata": {},
   "outputs": [],
   "source": [
    "import pandas as pd\n",
    "import gzip\n",
    "from tqdm import tqdm\n",
    "import os\n",
    "import io\n",
    "import csv"
   ]
  },
  {
   "cell_type": "code",
   "execution_count": 2,
   "id": "e5cadd76-315e-49a8-8689-e45898a95bc0",
   "metadata": {},
   "outputs": [],
   "source": [
    "gz_file_path = '/data/projects/VCF_files/DBSNP/dbSnp155Details.tab.gz'\n",
    "csv_folder_path = \"/data/projects/VCF_files/DBSNP/Test_data\"\n",
    "output_path = \"/data/projects/VCF_files/DBSNP/Merged_DBSNP_Chrwise/\""
   ]
  },
  {
   "cell_type": "code",
   "execution_count": 4,
   "id": "db62e520-0553-4028-8bd5-7e297a6e57d1",
   "metadata": {},
   "outputs": [
    {
     "data": {
      "text/plain": [
       "22428781386"
      ]
     },
     "execution_count": 4,
     "metadata": {},
     "output_type": "execute_result"
    }
   ],
   "source": [
    "total_size = os.path.getsize(gz_file_path)\n",
    "total_size"
   ]
  },
  {
   "cell_type": "code",
   "execution_count": 5,
   "id": "a4d268ff-2830-47e5-a661-535d4b6882e6",
   "metadata": {},
   "outputs": [],
   "source": [
    "column_names = ['rs_ID', 'freqSourceCount', 'alleleCounts', 'alleleTotals', 'soTermCount', 'soTerms', 'clinVarCount', 'clinVarAccs', 'clinVarSigs', 'submitterCount', 'submitters', 'pubMedIdCount' ,'pubMedIds' ]"
   ]
  },
  {
   "cell_type": "code",
   "execution_count": 7,
   "id": "1ddc9149-d5ad-43cd-a8e3-a44481c0a81a",
   "metadata": {},
   "outputs": [
    {
     "data": {
      "text/html": [
       "<div>\n",
       "<style scoped>\n",
       "    .dataframe tbody tr th:only-of-type {\n",
       "        vertical-align: middle;\n",
       "    }\n",
       "\n",
       "    .dataframe tbody tr th {\n",
       "        vertical-align: top;\n",
       "    }\n",
       "\n",
       "    .dataframe thead th {\n",
       "        text-align: right;\n",
       "    }\n",
       "</style>\n",
       "<table border=\"1\" class=\"dataframe\">\n",
       "  <thead>\n",
       "    <tr style=\"text-align: right;\">\n",
       "      <th></th>\n",
       "      <th>rs_ID</th>\n",
       "      <th>freqSourceCount</th>\n",
       "      <th>alleleCounts</th>\n",
       "      <th>alleleTotals</th>\n",
       "      <th>soTermCount</th>\n",
       "      <th>soTerms</th>\n",
       "      <th>clinVarCount</th>\n",
       "      <th>clinVarAccs</th>\n",
       "      <th>clinVarSigs</th>\n",
       "      <th>submitterCount</th>\n",
       "      <th>submitters</th>\n",
       "      <th>pubMedIdCount</th>\n",
       "      <th>pubMedIds</th>\n",
       "    </tr>\n",
       "  </thead>\n",
       "  <tbody>\n",
       "    <tr>\n",
       "      <th>0</th>\n",
       "      <td>rs10</td>\n",
       "      <td>31</td>\n",
       "      <td>A:97|C:4911,A:640|C:7896|T:0,C:255154|A:9536,A...</td>\n",
       "      <td>5008,8536,264690,2930,558,216,600,56,3708,1675...</td>\n",
       "      <td>1</td>\n",
       "      <td>1627,</td>\n",
       "      <td>0</td>\n",
       "      <td>NaN</td>\n",
       "      <td>NaN</td>\n",
       "      <td>51</td>\n",
       "      <td>1000GENOMES,ACPOP,BCM-HGSC-SUB,BCMHGSC_JDW,BGI...</td>\n",
       "      <td>3</td>\n",
       "      <td>21487504,25948407,27902482,</td>\n",
       "    </tr>\n",
       "    <tr>\n",
       "      <th>1</th>\n",
       "      <td>rs1000</td>\n",
       "      <td>31</td>\n",
       "      <td>,T:2|C:0,,,,,,,,,,,,,,,,,,,,,,,,,,,,,,</td>\n",
       "      <td>0,2,0,0,0,0,0,0,0,0,0,0,0,0,0,0,0,0,0,0,0,0,0,...</td>\n",
       "      <td>2</td>\n",
       "      <td>1624,1986,</td>\n",
       "      <td>0</td>\n",
       "      <td>NaN</td>\n",
       "      <td>NaN</td>\n",
       "      <td>4</td>\n",
       "      <td>EVA,ILLUMINA,KRIBB_YJKIM,WIAF,</td>\n",
       "      <td>50</td>\n",
       "      <td>21197618,21992066,22432041,22662167,22796266,2...</td>\n",
       "    </tr>\n",
       "    <tr>\n",
       "      <th>2</th>\n",
       "      <td>rs10000</td>\n",
       "      <td>31</td>\n",
       "      <td>A:4694|G:314,A:18224|G:2262,,A:2513|G:93,A:40|...</td>\n",
       "      <td>5008,20486,0,2606,90,208,0,0,0,14970,0,32,6601...</td>\n",
       "      <td>3</td>\n",
       "      <td>1819,1580,1619,</td>\n",
       "      <td>6</td>\n",
       "      <td>RCV000030369.6,RCV000162401.1,RCV000174851.8,R...</td>\n",
       "      <td>benign,benign,benign,benign,benign,benign,</td>\n",
       "      <td>23</td>\n",
       "      <td>1000GENOMES,CGM_KYOTO,CNGFU,CORRELAGEN,CSHL,EV...</td>\n",
       "      <td>7</td>\n",
       "      <td>16619,10479499,15256438,16472587,20186688,2020...</td>\n",
       "    </tr>\n",
       "    <tr>\n",
       "      <th>3</th>\n",
       "      <td>rs1000000</td>\n",
       "      <td>31</td>\n",
       "      <td>G:4178|A:830,G:159401|A:42383|C:0,A:46411|G:21...</td>\n",
       "      <td>5008,201784,264690,2930,148,216,600,18,3708,16...</td>\n",
       "      <td>1</td>\n",
       "      <td>1627,</td>\n",
       "      <td>0</td>\n",
       "      <td>NaN</td>\n",
       "      <td>NaN</td>\n",
       "      <td>41</td>\n",
       "      <td>1000GENOMES,ABI,ACPOP,BCMHGSC_JDW,BIOINF_KMB_F...</td>\n",
       "      <td>0</td>\n",
       "      <td>NaN</td>\n",
       "    </tr>\n",
       "    <tr>\n",
       "      <th>4</th>\n",
       "      <td>rs10000000</td>\n",
       "      <td>31</td>\n",
       "      <td>A:4157|T:851,A:19064|G:0|T:1730,T:33724|A:2309...</td>\n",
       "      <td>5008,20794,264690,2930,210,216,600,18,3708,167...</td>\n",
       "      <td>2</td>\n",
       "      <td>2153,1627,</td>\n",
       "      <td>0</td>\n",
       "      <td>NaN</td>\n",
       "      <td>NaN</td>\n",
       "      <td>29</td>\n",
       "      <td>1000GENOMES,ACPOP,BIOINF_KMB_FNS_UNIBA,CSHL,CS...</td>\n",
       "      <td>0</td>\n",
       "      <td>NaN</td>\n",
       "    </tr>\n",
       "    <tr>\n",
       "      <th>5</th>\n",
       "      <td>rs1000000000</td>\n",
       "      <td>31</td>\n",
       "      <td>,G:14050|A:0,A:26|G:264664,,,,,,,,,,G:140283|A...</td>\n",
       "      <td>0,14050,264690,0,0,0,0,0,0,0,0,0,140296,0,0,0,...</td>\n",
       "      <td>1</td>\n",
       "      <td>1627,</td>\n",
       "      <td>0</td>\n",
       "      <td>NaN</td>\n",
       "      <td>NaN</td>\n",
       "      <td>3</td>\n",
       "      <td>GNOMAD,HUMAN_LONGEVITY,TOPMED,</td>\n",
       "      <td>0</td>\n",
       "      <td>NaN</td>\n",
       "    </tr>\n",
       "    <tr>\n",
       "      <th>6</th>\n",
       "      <td>rs1000000001</td>\n",
       "      <td>31</td>\n",
       "      <td>,C:14050|T:0,T:21|C:264669,,,,,,,,,,C:139876|T...</td>\n",
       "      <td>0,14050,264690,0,0,0,0,0,0,0,0,0,139884,0,0,0,...</td>\n",
       "      <td>0</td>\n",
       "      <td>NaN</td>\n",
       "      <td>0</td>\n",
       "      <td>NaN</td>\n",
       "      <td>NaN</td>\n",
       "      <td>3</td>\n",
       "      <td>GNOMAD,HUMAN_LONGEVITY,TOPMED,</td>\n",
       "      <td>0</td>\n",
       "      <td>NaN</td>\n",
       "    </tr>\n",
       "    <tr>\n",
       "      <th>7</th>\n",
       "      <td>rs1000000002</td>\n",
       "      <td>31</td>\n",
       "      <td>,C:14050|G:0,G:1|C:264689,,,,,,,,,,C:140261|G:...</td>\n",
       "      <td>0,14050,264690,0,0,0,0,0,0,0,0,0,140264,0,0,0,...</td>\n",
       "      <td>0</td>\n",
       "      <td>NaN</td>\n",
       "      <td>0</td>\n",
       "      <td>NaN</td>\n",
       "      <td>NaN</td>\n",
       "      <td>2</td>\n",
       "      <td>GNOMAD,TOPMED,</td>\n",
       "      <td>0</td>\n",
       "      <td>NaN</td>\n",
       "    </tr>\n",
       "    <tr>\n",
       "      <th>8</th>\n",
       "      <td>rs1000000003</td>\n",
       "      <td>31</td>\n",
       "      <td>,C:14050|G:0,G:8|C:264682,,,,,,,,,,C:140206|G:...</td>\n",
       "      <td>0,14050,264690,0,0,0,0,0,0,0,0,0,140210,0,0,0,...</td>\n",
       "      <td>0</td>\n",
       "      <td>NaN</td>\n",
       "      <td>0</td>\n",
       "      <td>NaN</td>\n",
       "      <td>NaN</td>\n",
       "      <td>3</td>\n",
       "      <td>GNOMAD,HUMAN_LONGEVITY,TOPMED,</td>\n",
       "      <td>0</td>\n",
       "      <td>NaN</td>\n",
       "    </tr>\n",
       "    <tr>\n",
       "      <th>9</th>\n",
       "      <td>rs1000000004</td>\n",
       "      <td>31</td>\n",
       "      <td>,T:14047|C:3,C:83|T:264607,,,,,,,T:16759|C:1,,...</td>\n",
       "      <td>0,14050,264690,0,0,0,0,0,0,16760,0,0,140186,0,...</td>\n",
       "      <td>1</td>\n",
       "      <td>1627,</td>\n",
       "      <td>0</td>\n",
       "      <td>NaN</td>\n",
       "      <td>NaN</td>\n",
       "      <td>4</td>\n",
       "      <td>GNOMAD,HUMAN_LONGEVITY,TOMMO_GENOMICS,TOPMED,</td>\n",
       "      <td>0</td>\n",
       "      <td>NaN</td>\n",
       "    </tr>\n",
       "  </tbody>\n",
       "</table>\n",
       "</div>"
      ],
      "text/plain": [
       "          rs_ID  freqSourceCount  \\\n",
       "0          rs10               31   \n",
       "1        rs1000               31   \n",
       "2       rs10000               31   \n",
       "3     rs1000000               31   \n",
       "4    rs10000000               31   \n",
       "5  rs1000000000               31   \n",
       "6  rs1000000001               31   \n",
       "7  rs1000000002               31   \n",
       "8  rs1000000003               31   \n",
       "9  rs1000000004               31   \n",
       "\n",
       "                                        alleleCounts  \\\n",
       "0  A:97|C:4911,A:640|C:7896|T:0,C:255154|A:9536,A...   \n",
       "1             ,T:2|C:0,,,,,,,,,,,,,,,,,,,,,,,,,,,,,,   \n",
       "2  A:4694|G:314,A:18224|G:2262,,A:2513|G:93,A:40|...   \n",
       "3  G:4178|A:830,G:159401|A:42383|C:0,A:46411|G:21...   \n",
       "4  A:4157|T:851,A:19064|G:0|T:1730,T:33724|A:2309...   \n",
       "5  ,G:14050|A:0,A:26|G:264664,,,,,,,,,,G:140283|A...   \n",
       "6  ,C:14050|T:0,T:21|C:264669,,,,,,,,,,C:139876|T...   \n",
       "7  ,C:14050|G:0,G:1|C:264689,,,,,,,,,,C:140261|G:...   \n",
       "8  ,C:14050|G:0,G:8|C:264682,,,,,,,,,,C:140206|G:...   \n",
       "9  ,T:14047|C:3,C:83|T:264607,,,,,,,T:16759|C:1,,...   \n",
       "\n",
       "                                        alleleTotals  soTermCount  \\\n",
       "0  5008,8536,264690,2930,558,216,600,56,3708,1675...            1   \n",
       "1  0,2,0,0,0,0,0,0,0,0,0,0,0,0,0,0,0,0,0,0,0,0,0,...            2   \n",
       "2  5008,20486,0,2606,90,208,0,0,0,14970,0,32,6601...            3   \n",
       "3  5008,201784,264690,2930,148,216,600,18,3708,16...            1   \n",
       "4  5008,20794,264690,2930,210,216,600,18,3708,167...            2   \n",
       "5  0,14050,264690,0,0,0,0,0,0,0,0,0,140296,0,0,0,...            1   \n",
       "6  0,14050,264690,0,0,0,0,0,0,0,0,0,139884,0,0,0,...            0   \n",
       "7  0,14050,264690,0,0,0,0,0,0,0,0,0,140264,0,0,0,...            0   \n",
       "8  0,14050,264690,0,0,0,0,0,0,0,0,0,140210,0,0,0,...            0   \n",
       "9  0,14050,264690,0,0,0,0,0,0,16760,0,0,140186,0,...            1   \n",
       "\n",
       "           soTerms  clinVarCount  \\\n",
       "0            1627,             0   \n",
       "1       1624,1986,             0   \n",
       "2  1819,1580,1619,             6   \n",
       "3            1627,             0   \n",
       "4       2153,1627,             0   \n",
       "5            1627,             0   \n",
       "6              NaN             0   \n",
       "7              NaN             0   \n",
       "8              NaN             0   \n",
       "9            1627,             0   \n",
       "\n",
       "                                         clinVarAccs  \\\n",
       "0                                                NaN   \n",
       "1                                                NaN   \n",
       "2  RCV000030369.6,RCV000162401.1,RCV000174851.8,R...   \n",
       "3                                                NaN   \n",
       "4                                                NaN   \n",
       "5                                                NaN   \n",
       "6                                                NaN   \n",
       "7                                                NaN   \n",
       "8                                                NaN   \n",
       "9                                                NaN   \n",
       "\n",
       "                                  clinVarSigs  submitterCount  \\\n",
       "0                                         NaN              51   \n",
       "1                                         NaN               4   \n",
       "2  benign,benign,benign,benign,benign,benign,              23   \n",
       "3                                         NaN              41   \n",
       "4                                         NaN              29   \n",
       "5                                         NaN               3   \n",
       "6                                         NaN               3   \n",
       "7                                         NaN               2   \n",
       "8                                         NaN               3   \n",
       "9                                         NaN               4   \n",
       "\n",
       "                                          submitters  pubMedIdCount  \\\n",
       "0  1000GENOMES,ACPOP,BCM-HGSC-SUB,BCMHGSC_JDW,BGI...              3   \n",
       "1                     EVA,ILLUMINA,KRIBB_YJKIM,WIAF,             50   \n",
       "2  1000GENOMES,CGM_KYOTO,CNGFU,CORRELAGEN,CSHL,EV...              7   \n",
       "3  1000GENOMES,ABI,ACPOP,BCMHGSC_JDW,BIOINF_KMB_F...              0   \n",
       "4  1000GENOMES,ACPOP,BIOINF_KMB_FNS_UNIBA,CSHL,CS...              0   \n",
       "5                     GNOMAD,HUMAN_LONGEVITY,TOPMED,              0   \n",
       "6                     GNOMAD,HUMAN_LONGEVITY,TOPMED,              0   \n",
       "7                                     GNOMAD,TOPMED,              0   \n",
       "8                     GNOMAD,HUMAN_LONGEVITY,TOPMED,              0   \n",
       "9      GNOMAD,HUMAN_LONGEVITY,TOMMO_GENOMICS,TOPMED,              0   \n",
       "\n",
       "                                           pubMedIds  \n",
       "0                        21487504,25948407,27902482,  \n",
       "1  21197618,21992066,22432041,22662167,22796266,2...  \n",
       "2  16619,10479499,15256438,16472587,20186688,2020...  \n",
       "3                                                NaN  \n",
       "4                                                NaN  \n",
       "5                                                NaN  \n",
       "6                                                NaN  \n",
       "7                                                NaN  \n",
       "8                                                NaN  \n",
       "9                                                NaN  "
      ]
     },
     "execution_count": 7,
     "metadata": {},
     "output_type": "execute_result"
    }
   ],
   "source": [
    "df = pd.read_csv(gzip.open(gz_file_path, 'rt'), delimiter='\\t', nrows=10,  names=column_names)\n",
    "df"
   ]
  },
  {
   "cell_type": "code",
   "execution_count": 8,
   "id": "f17a1953-0acc-453b-a23b-49c20dc4f9b5",
   "metadata": {},
   "outputs": [],
   "source": [
    "def load_csv_data(file_path):\n",
    "    \"\"\"Load CSV data into a dictionary for quick lookup.\"\"\"\n",
    "    csv_data = {}\n",
    "    headers = None\n",
    "    with open(file_path, 'r') as f:\n",
    "        reader = csv.reader(f)\n",
    "        headers =next(reader)  # get header\n",
    "        for row in reader:\n",
    "            key = row[3]\n",
    "            csv_data[key] = row\n",
    "    return csv_data, headers"
   ]
  },
  {
   "cell_type": "code",
   "execution_count": 9,
   "id": "608a5954-791f-49e0-b21b-5a54f5347d66",
   "metadata": {},
   "outputs": [],
   "source": [
    "def process_dbsnp_file(dbsnp_file_path, csv_data, csv_headers, outfile_path):\n",
    "    \"\"\"Process DBSNP file line by line and merge.\"\"\"\n",
    "    with gzip.open(dbsnp_file_path, 'rt') as dbsnp_file, open(outfile_path, 'w', newline='') as outfile:\n",
    "        writer = csv.writer(outfile)\n",
    "        dbsnp_headers = ['freqSourceCount', 'alleleCounts', 'alleleTotals', 'soTermCount', 'soTerms', 'clinVarCount', 'clinVarAccs', 'clinVarSigs', 'submitterCount', 'submitters', 'pubMedIdCount' ,'pubMedIds' ]\n",
    "        writer.writerow(csv_headers + dbsnp_headers)\n",
    "        for line in dbsnp_file:\n",
    "            dbsnp_data = line.strip().split('\\t')  # Assuming DBSNP data is tab-separated\n",
    "            key = dbsnp_data[0]  # Assuming the column to merge on is the first one\n",
    "            if key in csv_data:\n",
    "                merged_row = csv_data[key] + dbsnp_data[1:]\n",
    "                writer.writerow(merged_row)\n",
    "                del csv_data[key]\n",
    "                if not csv_data:\n",
    "                    break"
   ]
  },
  {
   "cell_type": "code",
   "execution_count": 10,
   "id": "2b76d6d9-5fe1-43ab-83ae-ab32736f11b7",
   "metadata": {},
   "outputs": [
    {
     "name": "stdout",
     "output_type": "stream",
     "text": [
      "['chr10', '10022', '10023', 'rs1243990134', 'C', '1', 'A,', '0', '31', '-inf,0.000168606,-inf,-inf,-inf,-inf,-inf,-inf,-inf,-inf,-inf,-inf,-inf,-inf,-inf,-inf,-inf,-inf,-inf,-inf,-inf,-inf,-inf,-inf,-inf,-inf,-inf,-inf,-inf,-inf,-inf,', ',C,,,,,,,,,,,,,,,,,,,,,,,,,,,,,,', ',A,,,,,,,,,,,,,,,,,,,,,,,,,,,,,,', '1986', 'snv', 'rareSome,rareAll,', '28694525410', '150', '31', ',C:11860|A:2,,,,,,,,,,,,,,,,,,,,,,,,,,,,,,', '0,11862,0,0,0,0,0,0,0,0,0,0,0,0,0,0,0,0,0,0,0,0,0,0,0,0,0,0,0,0,0,', '1', '1986,', '0', '', '', '1', 'TOPMED,', '0']\n"
     ]
    },
    {
     "name": "stdin",
     "output_type": "stream",
     "text": [
      " \n"
     ]
    },
    {
     "name": "stdout",
     "output_type": "stream",
     "text": [
      "['chr10', '10030', '10031', 'rs1834135687', 'C', '2', 'A,G,', '0', '31', '-inf,0,-inf,-inf,-inf,-inf,-inf,-inf,-inf,-inf,-inf,-inf,-inf,-inf,-inf,-inf,-inf,-inf,-inf,-inf,-inf,-inf,-inf,-inf,-inf,-inf,-inf,-inf,-inf,-inf,-inf,', ',C,,,,,,,,,,,,,,,,,,,,,,,,,,,,,,', ',A,,,,,,,,,,,,,,,,,,,,,,,,,,,,,,', '1986', 'snv', 'rareSome,rareAll,', '108054697914', '145', '31', ',C:1182|A:0|G:0,,,,,,,,,,,,,,,,,,,,,,,,,,,,,,', '0,1182,0,0,0,0,0,0,0,0,0,0,0,0,0,0,0,0,0,0,0,0,0,0,0,0,0,0,0,0,0,', '1', '1986,', '0', '', '', '0', '', '0']\n"
     ]
    },
    {
     "name": "stdin",
     "output_type": "stream",
     "text": [
      " \n"
     ]
    },
    {
     "name": "stdout",
     "output_type": "stream",
     "text": [
      "['chr10', '10033', '10034', 'rs1834135707', 'A', '1', 'G,', '0', '31', '-inf,0,-inf,-inf,-inf,-inf,-inf,-inf,-inf,-inf,-inf,-inf,-inf,-inf,-inf,-inf,-inf,-inf,-inf,-inf,-inf,-inf,-inf,-inf,-inf,-inf,-inf,-inf,-inf,-inf,-inf,', ',A,,,,,,,,,,,,,,,,,,,,,,,,,,,,,,', ',G,,,,,,,,,,,,,,,,,,,,,,,,,,,,,,', '1986', 'snv', 'rareSome,rareAll,', '108054701526', '143', '31', ',A:10680|G:0,,,,,,,,,,,,,,,,,,,,,,,,,,,,,,', '0,10680,0,0,0,0,0,0,0,0,0,0,0,0,0,0,0,0,0,0,0,0,0,0,0,0,0,0,0,0,0,', '1', '1986,', '0', '', '', '0', '', '0']\n"
     ]
    },
    {
     "name": "stdin",
     "output_type": "stream",
     "text": [
      " \n"
     ]
    },
    {
     "name": "stdout",
     "output_type": "stream",
     "text": [
      "['chr10', '10035', '10036', 'rs1834135720', 'C', '2', 'A,T,', '0', '31', '-inf,0,-inf,-inf,-inf,-inf,-inf,-inf,-inf,-inf,-inf,-inf,-inf,-inf,-inf,-inf,-inf,-inf,-inf,-inf,-inf,-inf,-inf,-inf,-inf,-inf,-inf,-inf,-inf,-inf,-inf,', ',C,,,,,,,,,,,,,,,,,,,,,,,,,,,,,,', ',A,,,,,,,,,,,,,,,,,,,,,,,,,,,,,,', '1986', 'snv', 'rareSome,rareAll,', '108054703974', '145', '31', ',C:1182|A:0|T:0,,,,,,,,,,,,,,,,,,,,,,,,,,,,,,', '0,1182,0,0,0,0,0,0,0,0,0,0,0,0,0,0,0,0,0,0,0,0,0,0,0,0,0,0,0,0,0,', '1', '1986,', '0', '', '', '0', '', '0']\n"
     ]
    },
    {
     "name": "stdin",
     "output_type": "stream",
     "text": [
      " \n"
     ]
    },
    {
     "name": "stdout",
     "output_type": "stream",
     "text": [
      "['chr10', '10040', '10041', 'rs1834135754', 'C', '1', 'A,', '0', '31', '-inf,0,-inf,-inf,-inf,-inf,-inf,-inf,-inf,-inf,-inf,-inf,-inf,-inf,-inf,-inf,-inf,-inf,-inf,-inf,-inf,-inf,-inf,-inf,-inf,-inf,-inf,-inf,-inf,-inf,-inf,', ',C,,,,,,,,,,,,,,,,,,,,,,,,,,,,,,', ',A,,,,,,,,,,,,,,,,,,,,,,,,,,,,,,', '1986', 'snv', 'rareSome,rareAll,', '108054709730', '141', '31', ',C:1182|A:0,,,,,,,,,,,,,,,,,,,,,,,,,,,,,,', '0,1182,0,0,0,0,0,0,0,0,0,0,0,0,0,0,0,0,0,0,0,0,0,0,0,0,0,0,0,0,0,', '1', '1986,', '0', '', '', '0', '', '0']\n"
     ]
    },
    {
     "name": "stdin",
     "output_type": "stream",
     "text": [
      " \n"
     ]
    },
    {
     "name": "stdout",
     "output_type": "stream",
     "text": [
      "['chr10', '10044', '10045', 'rs1834135767', 'A', '2', 'C,T,', '0', '31', '-inf,0,-inf,-inf,-inf,-inf,-inf,-inf,-inf,-inf,-inf,-inf,-inf,-inf,-inf,-inf,-inf,-inf,-inf,-inf,-inf,-inf,-inf,-inf,-inf,-inf,-inf,-inf,-inf,-inf,-inf,', ',A,,,,,,,,,,,,,,,,,,,,,,,,,,,,,,', ',C,,,,,,,,,,,,,,,,,,,,,,,,,,,,,,', '1986', 'snv', 'rareSome,rareAll,', '108054711659', '147', '31', ',A:11862|C:0|T:0,,,,,,,,,,,,,,,,,,,,,,,,,,,,,,', '0,11862,0,0,0,0,0,0,0,0,0,0,0,0,0,0,0,0,0,0,0,0,0,0,0,0,0,0,0,0,0,', '1', '1986,', '0', '', '', '0', '', '0']\n"
     ]
    },
    {
     "name": "stdin",
     "output_type": "stream",
     "text": [
      " \n"
     ]
    },
    {
     "name": "stdout",
     "output_type": "stream",
     "text": [
      "['chr10', '10045', '10046', 'rs1834135790', 'A', '1', 'G,', '0', '31', '-inf,0,-inf,-inf,-inf,-inf,-inf,-inf,-inf,-inf,-inf,-inf,-inf,-inf,-inf,-inf,-inf,-inf,-inf,-inf,-inf,-inf,-inf,-inf,-inf,-inf,-inf,-inf,-inf,-inf,-inf,', ',A,,,,,,,,,,,,,,,,,,,,,,,,,,,,,,', ',G,,,,,,,,,,,,,,,,,,,,,,,,,,,,,,', '1986', 'snv', 'rareSome,rareAll,', '108054715840', '143', '31', ',A:10680|G:0,,,,,,,,,,,,,,,,,,,,,,,,,,,,,,', '0,10680,0,0,0,0,0,0,0,0,0,0,0,0,0,0,0,0,0,0,0,0,0,0,0,0,0,0,0,0,0,', '1', '1986,', '0', '', '', '0', '', '0']\n"
     ]
    },
    {
     "name": "stdin",
     "output_type": "stream",
     "text": [
      " \n"
     ]
    },
    {
     "name": "stdout",
     "output_type": "stream",
     "text": [
      "['chr10', '10046', '10047', 'rs1834135810', 'C', '1', 'G,', '0', '31', '-inf,0,-inf,-inf,-inf,-inf,-inf,-inf,-inf,-inf,-inf,-inf,-inf,-inf,-inf,-inf,-inf,-inf,-inf,-inf,-inf,-inf,-inf,-inf,-inf,-inf,-inf,-inf,-inf,-inf,-inf,', ',C,,,,,,,,,,,,,,,,,,,,,,,,,,,,,,', ',G,,,,,,,,,,,,,,,,,,,,,,,,,,,,,,', '1986', 'snv', 'rareSome,rareAll,', '108054719409', '143', '31', ',C:10680|G:0,,,,,,,,,,,,,,,,,,,,,,,,,,,,,,', '0,10680,0,0,0,0,0,0,0,0,0,0,0,0,0,0,0,0,0,0,0,0,0,0,0,0,0,0,0,0,0,', '1', '1986,', '0', '', '', '0', '', '0']\n"
     ]
    },
    {
     "name": "stdin",
     "output_type": "stream",
     "text": [
      " \n"
     ]
    },
    {
     "name": "stdout",
     "output_type": "stream",
     "text": [
      "['chr10', '10047', '10048', 'rs1834135826', 'C', '1', 'T,', '0', '31', '-inf,0,-inf,-inf,-inf,-inf,-inf,-inf,-inf,-inf,-inf,-inf,-inf,-inf,-inf,-inf,-inf,-inf,-inf,-inf,-inf,-inf,-inf,-inf,-inf,-inf,-inf,-inf,-inf,-inf,-inf,', ',C,,,,,,,,,,,,,,,,,,,,,,,,,,,,,,', ',T,,,,,,,,,,,,,,,,,,,,,,,,,,,,,,', '1986', 'snv', 'rareSome,rareAll,', '108054722144', '143', '31', ',C:10680|T:0,,,,,,,,,,,,,,,,,,,,,,,,,,,,,,', '0,10680,0,0,0,0,0,0,0,0,0,0,0,0,0,0,0,0,0,0,0,0,0,0,0,0,0,0,0,0,0,', '1', '1986,', '0', '', '', '0', '', '0']\n"
     ]
    },
    {
     "name": "stdin",
     "output_type": "stream",
     "text": [
      " \n"
     ]
    },
    {
     "name": "stdout",
     "output_type": "stream",
     "text": [
      "['chr1', '10000', '10001', 'rs1570391677', 'T', '2', 'A,C,', '0', '31', '-inf,0,-inf,0.0109047,0,-inf,-inf,-inf,-inf,-inf,-inf,-inf,-inf,-inf,-inf,-inf,-inf,-inf,-inf,-inf,-inf,-inf,-inf,-inf,-inf,-inf,-inf,-inf,-inf,-inf,-inf,', ',T,,T,A,,,,,,,,,,,,,,,,,,,,,,,,,,,', ',C,,A,T,,,,,,,,,,,,,,,,,,,,,,,,,,,', '1986', 'snv', 'refIsMinor,diffMajor,commonSome,rareSome,', '78566511921', '179', '31', ',T:11862|C:0,,T:2449|A:27,T:0|A:2,,,,,,,,,,,,,,,,,,,,,,,,,,,', '0,11862,0,2476,2,0,0,0,0,0,0,0,0,0,0,0,0,0,0,0,0,0,0,0,0,0,0,0,0,0,0,', '1', '1986,', '0', '', '', '2', 'KRGDB,SGDP_PRJ,', '0']\n"
     ]
    },
    {
     "name": "stdin",
     "output_type": "stream",
     "text": [
      " \n"
     ]
    },
    {
     "name": "stdout",
     "output_type": "stream",
     "text": [
      "['chr1', '10001', '10002', 'rs1570391692', 'A', '1', 'C,', '0', '31', '-inf,-inf,-inf,0.00559701,-inf,-inf,-inf,-inf,-inf,-inf,-inf,-inf,-inf,-inf,-inf,-inf,-inf,-inf,-inf,-inf,-inf,-inf,-inf,-inf,-inf,-inf,-inf,-inf,-inf,-inf,-inf,', ',,,A,,,,,,,,,,,,,,,,,,,,,,,,,,,,', ',,,C,,,,,,,,,,,,,,,,,,,,,,,,,,,,', '1986', 'snv', 'rareSome,rareAll,', '78566514224', '148', '31', ',,,A:2665|C:15,,,,,,,,,,,,,,,,,,,,,,,,,,,,', '0,0,0,2680,0,0,0,0,0,0,0,0,0,0,0,0,0,0,0,0,0,0,0,0,0,0,0,0,0,0,0,', '1', '1986,', '0', '', '', '1', 'KRGDB,', '0']\n"
     ]
    },
    {
     "name": "stdin",
     "output_type": "stream",
     "text": [
      " \n"
     ]
    },
    {
     "name": "stdout",
     "output_type": "stream",
     "text": [
      "['chr1', '10002', '10003', 'rs1570391694', 'A', '1', 'C,', '0', '31', '-inf,-inf,-inf,0.0097629,-inf,-inf,-inf,-inf,-inf,-inf,-inf,-inf,-inf,-inf,-inf,-inf,-inf,-inf,-inf,-inf,-inf,-inf,-inf,-inf,-inf,-inf,-inf,-inf,-inf,-inf,-inf,', ',,,A,,,,,,,,,,,,,,,,,,,,,,,,,,,,', ',,,C,,,,,,,,,,,,,,,,,,,,,,,,,,,,', '1986', 'snv', 'rareSome,rareAll,', '78566514526', '148', '31', ',,,A:2840|C:28,,,,,,,,,,,,,,,,,,,,,,,,,,,,', '0,0,0,2868,0,0,0,0,0,0,0,0,0,0,0,0,0,0,0,0,0,0,0,0,0,0,0,0,0,0,0,', '1', '1986,', '0', '', '', '1', 'KRGDB,', '0']\n"
     ]
    },
    {
     "name": "stdin",
     "output_type": "stream",
     "text": [
      " \n"
     ]
    },
    {
     "name": "stdout",
     "output_type": "stream",
     "text": [
      "['chr1', '10007', '10008', 'rs1570391698', 'A', '3', 'C,G,T,', '0', '31', '-inf,0,-inf,0.00308642,-inf,-inf,-inf,-inf,-inf,-inf,-inf,-inf,-inf,-inf,-inf,-inf,-inf,-inf,-inf,-inf,-inf,-inf,-inf,-inf,-inf,-inf,-inf,-inf,-inf,-inf,-inf,', ',A,,A,,,,,,,,,,,,,,,,,,,,,,,,,,,,', ',C,,G,,,,,,,,,,,,,,,,,,,,,,,,,,,,', '1986', 'snv', 'rareSome,rareAll,', '78566515155', '166', '31', ',A:11862|C:0|T:0,,A:2907|G:9,,,,,,,,,,,,,,,,,,,,,,,,,,,,', '0,11862,0,2916,0,0,0,0,0,0,0,0,0,0,0,0,0,0,0,0,0,0,0,0,0,0,0,0,0,0,0,', '1', '1986,', '0', '', '', '1', 'KRGDB,', '0']\n"
     ]
    },
    {
     "name": "stdin",
     "output_type": "stream",
     "text": [
      " \n"
     ]
    },
    {
     "name": "stdout",
     "output_type": "stream",
     "text": [
      "['chr1', '10008', '10009', 'rs1570391702', 'A', '2', 'C,G,', '0', '31', '-inf,0,-inf,0.00891632,-inf,-inf,-inf,-inf,-inf,-inf,-inf,-inf,-inf,-inf,-inf,-inf,-inf,-inf,-inf,-inf,-inf,-inf,-inf,-inf,-inf,-inf,-inf,-inf,-inf,-inf,-inf,', ',A,,A,,,,,,,,,,,,,,,,,,,,,,,,,,,,', ',C,,G,,,,,,,,,,,,,,,,,,,,,,,,,,,,', '1986', 'snv', 'rareSome,rareAll,', '78566515870', '167', '31', ',A:11860|C:0|G:0,,A:2890|G:26,,,,,,,,,,,,,,,,,,,,,,,,,,,,', '0,11860,0,2916,0,0,0,0,0,0,0,0,0,0,0,0,0,0,0,0,0,0,0,0,0,0,0,0,0,0,0,', '1', '1986,', '0', '', '', '1', 'KRGDB,', '0']\n"
     ]
    },
    {
     "name": "stdin",
     "output_type": "stream",
     "text": [
      " \n"
     ]
    },
    {
     "name": "stdout",
     "output_type": "stream",
     "text": [
      "['chr1', '10006', '10007', 'rs1639538116', 'T', '2', 'C,G,', '0', '31', '-inf,0,-inf,-inf,-inf,-inf,-inf,-inf,-inf,-inf,-inf,-inf,-inf,-inf,-inf,-inf,-inf,-inf,-inf,-inf,-inf,-inf,-inf,-inf,-inf,-inf,-inf,-inf,-inf,-inf,-inf,', ',T,,,,,,,,,,,,,,,,,,,,,,,,,,,,,,', ',C,,,,,,,,,,,,,,,,,,,,,,,,,,,,,,', '1986', 'snv', 'rareSome,rareAll,', '84019489591', '147', '31', ',T:11862|C:0|G:0,,,,,,,,,,,,,,,,,,,,,,,,,,,,,,', '0,11862,0,0,0,0,0,0,0,0,0,0,0,0,0,0,0,0,0,0,0,0,0,0,0,0,0,0,0,0,0,', '1', '1986,', '0', '', '', '0', '', '0']\n"
     ]
    },
    {
     "name": "stdin",
     "output_type": "stream",
     "text": [
      " \n"
     ]
    },
    {
     "name": "stdout",
     "output_type": "stream",
     "text": [
      "['chr1', '10012', '10013', 'rs1639538192', 'T', '2', 'C,G,', '0', '31', '-inf,0,-inf,-inf,-inf,-inf,-inf,-inf,-inf,-inf,-inf,-inf,-inf,-inf,-inf,-inf,-inf,-inf,-inf,-inf,-inf,-inf,-inf,-inf,-inf,-inf,-inf,-inf,-inf,-inf,-inf,', ',T,,,,,,,,,,,,,,,,,,,,,,,,,,,,,,', ',C,,,,,,,,,,,,,,,,,,,,,,,,,,,,,,', '1986', 'snv', 'rareSome,rareAll,', '84019494605', '147', '31', ',T:11862|C:0|G:0,,,,,,,,,,,,,,,,,,,,,,,,,,,,,,', '0,11862,0,0,0,0,0,0,0,0,0,0,0,0,0,0,0,0,0,0,0,0,0,0,0,0,0,0,0,0,0,', '1', '1986,', '0', '', '', '0', '', '0']\n"
     ]
    },
    {
     "name": "stdin",
     "output_type": "stream",
     "text": [
      " \n"
     ]
    },
    {
     "name": "stdout",
     "output_type": "stream",
     "text": [
      "['chr1', '10013', '10014', 'rs1639538207', 'A', '3', 'C,G,T,', '0', '31', '-inf,0,-inf,-inf,-inf,-inf,-inf,-inf,-inf,-inf,-inf,-inf,-inf,-inf,-inf,-inf,-inf,-inf,-inf,-inf,-inf,-inf,-inf,-inf,-inf,-inf,-inf,-inf,-inf,-inf,-inf,', ',A,,,,,,,,,,,,,,,,,,,,,,,,,,,,,,', ',C,,,,,,,,,,,,,,,,,,,,,,,,,,,,,,', '1986', 'snv', 'rareSome,rareAll,overlapDiffClass,', '84019495560', '151', '31', ',A:11862|C:0|G:0|T:0,,,,,,,,,,,,,,,,,,,,,,,,,,,,,,', '0,11862,0,0,0,0,0,0,0,0,0,0,0,0,0,0,0,0,0,0,0,0,0,0,0,0,0,0,0,0,0,', '1', '1986,', '0', '', '', '0', '', '0']\n"
     ]
    },
    {
     "name": "stdin",
     "output_type": "stream",
     "text": [
      " \n"
     ]
    },
    {
     "name": "stdout",
     "output_type": "stream",
     "text": [
      "['chr1', '10013', '10015', 'rs1639538231', 'AA', '1', 'A,', '1', '31', '-inf,0,-inf,-inf,-inf,-inf,-inf,-inf,-inf,-inf,-inf,-inf,-inf,-inf,-inf,-inf,-inf,-inf,-inf,-inf,-inf,-inf,-inf,-inf,-inf,-inf,-inf,-inf,-inf,-inf,-inf,', ',AA,,,,,,,,,,,,,,,,,,,,,,,,,,,,,,', ',A,,,,,,,,,,,,,,,,,,,,,,,,,,,,,,', '1986', 'delins', 'rareSome,rareAll,overlapDiffClass,', '84019497327', '144', '31', ',AA:10680|A:0,,,,,,,,,,,,,,,,,,,,,,,,,,,,,,', '0,10680,0,0,0,0,0,0,0,0,0,0,0,0,0,0,0,0,0,0,0,0,0,0,0,0,0,0,0,0,0,', '1', '1986,', '0', '', '', '0', '', '0']\n"
     ]
    },
    {
     "name": "stdin",
     "output_type": "stream",
     "text": [
      " \n"
     ]
    }
   ],
   "source": [
    "files = os.listdir(csv_folder_path)\n",
    "for file in files:\n",
    "    if file.endswith('.csv'):\n",
    "        print(file)\n",
    "        file_path = os.path.join(csv_folder_path, file)\n",
    "        csv_data, csv_headers = load_csv_data(file_path)\n",
    "        # Create the output file path\n",
    "        base_name = os.path.splitext(file)[0]\n",
    "        outfile_path = output_path+base_name + '_merged.csv'\n",
    "        # Process DBSNP file and merge\n",
    "        process_dbsnp_file(gz_file_path, csv_data, csv_headers, outfile_path)"
   ]
  },
  {
   "cell_type": "code",
   "execution_count": 6,
   "id": "29eda9c7-1835-4969-876d-e7747ca06103",
   "metadata": {},
   "outputs": [
    {
     "data": {
      "text/plain": [
       "['rs1000',\n",
       " 31,\n",
       " ',T:2|C:0,,,,,,,,,,,,,,,,,,,,,,,,,,,,,,',\n",
       " '0,2,0,0,0,0,0,0,0,0,0,0,0,0,0,0,0,0,0,0,0,0,0,0,0,0,0,0,0,0,0,',\n",
       " 2,\n",
       " '1624,1986,',\n",
       " 0,\n",
       " nan,\n",
       " nan,\n",
       " 4,\n",
       " 'EVA,ILLUMINA,KRIBB_YJKIM,WIAF,',\n",
       " 50,\n",
       " '21197618,21992066,22432041,22662167,22796266,23289806,23341828,24005813,24532427,24835231,25266489,25515945,25565795,26078566,26091847,26156397,26200829,26588355,26765445,26770579,26871844,26873362,26886638,26938746,26967389,26989676,27026844,27050280,27127179,27217259,27227944,27233804,27250029,27336899,27374856,27468418,27495027,27524883,27567908,27595605,27765929,27765935,28422712,28424424,29581776,30335025,30967134,31192258,32312375,33127268,']"
      ]
     },
     "execution_count": 6,
     "metadata": {},
     "output_type": "execute_result"
    }
   ],
   "source": [
    "df.iloc[0].tolist()"
   ]
  },
  {
   "cell_type": "code",
   "execution_count": null,
   "id": "bab0b202-c355-43bb-9d53-f2a36187d808",
   "metadata": {},
   "outputs": [],
   "source": []
  },
  {
   "cell_type": "code",
   "execution_count": 6,
   "id": "5dd1df35-bcf8-4db5-a31f-8cb05e64ec65",
   "metadata": {},
   "outputs": [
    {
     "name": "stderr",
     "output_type": "stream",
     "text": [
      "  0%|                                                                                                                                                                                                                            | 0.00/22.4G [00:00<?, ?B/s]"
     ]
    }
   ],
   "source": [
    "# initialize progress bar\n",
    "progress_bar = tqdm(total=total_size, unit='B', unit_scale=True)"
   ]
  },
  {
   "cell_type": "code",
   "execution_count": 7,
   "id": "ed511b70-85b5-4c4b-8fd8-4b074027dbf3",
   "metadata": {},
   "outputs": [],
   "source": [
    "def read_in_chunks(file_object, chunk_size=1024 * 1024):  # read in chunks of 1 MB\n",
    "    while True:\n",
    "        data = file_object.read(chunk_size)\n",
    "        if not data:\n",
    "            break\n",
    "        progress_bar.update(len(data))\n",
    "        yield data"
   ]
  },
  {
   "cell_type": "code",
   "execution_count": 9,
   "id": "a8f43447-3a00-4996-8409-37d4ce800c3e",
   "metadata": {},
   "outputs": [
    {
     "name": "stderr",
     "output_type": "stream",
     "text": [
      "186GB [07:54, 413MB/s]                                                                                                                                                                                                                                       "
     ]
    },
    {
     "ename": "MemoryError",
     "evalue": "",
     "output_type": "error",
     "traceback": [
      "\u001b[0;31m---------------------------------------------------------------------------\u001b[0m",
      "\u001b[0;31mMemoryError\u001b[0m                               Traceback (most recent call last)",
      "Cell \u001b[0;32mIn[9], line 5\u001b[0m\n\u001b[1;32m      3\u001b[0m     \u001b[38;5;28;01mfor\u001b[39;00m chunk \u001b[38;5;129;01min\u001b[39;00m read_in_chunks(f):\n\u001b[1;32m      4\u001b[0m         buffer \u001b[38;5;241m+\u001b[39m\u001b[38;5;241m=\u001b[39m chunk\n\u001b[0;32m----> 5\u001b[0m     df \u001b[38;5;241m=\u001b[39m pd\u001b[38;5;241m.\u001b[39mread_csv(\u001b[43mio\u001b[49m\u001b[38;5;241;43m.\u001b[39;49m\u001b[43mStringIO\u001b[49m\u001b[43m(\u001b[49m\u001b[43mbuffer\u001b[49m\u001b[43m)\u001b[49m, delimiter\u001b[38;5;241m=\u001b[39m\u001b[38;5;124m'\u001b[39m\u001b[38;5;130;01m\\t\u001b[39;00m\u001b[38;5;124m'\u001b[39m)\n\u001b[1;32m      7\u001b[0m progress_bar\u001b[38;5;241m.\u001b[39mclose()\n",
      "\u001b[0;31mMemoryError\u001b[0m: "
     ]
    },
    {
     "name": "stderr",
     "output_type": "stream",
     "text": [
      "186GB [08:14, 413MB/s]"
     ]
    }
   ],
   "source": [
    "buffer = ''\n",
    "with gzip.open(file_path, 'rt') as f:\n",
    "    for chunk in read_in_chunks(f):\n",
    "        buffer += chunk\n",
    "    df = pd.read_csv(io.StringIO(buffer), delimiter='\\t')\n",
    "\n",
    "progress_bar.close()\n"
   ]
  },
  {
   "cell_type": "code",
   "execution_count": null,
   "id": "dfac70c1-f330-4e46-825a-1403610cee39",
   "metadata": {},
   "outputs": [],
   "source": []
  }
 ],
 "metadata": {
  "kernelspec": {
   "display_name": "Python 3 (ipykernel)",
   "language": "python",
   "name": "python3"
  },
  "language_info": {
   "codemirror_mode": {
    "name": "ipython",
    "version": 3
   },
   "file_extension": ".py",
   "mimetype": "text/x-python",
   "name": "python",
   "nbconvert_exporter": "python",
   "pygments_lexer": "ipython3",
   "version": "3.10.11"
  }
 },
 "nbformat": 4,
 "nbformat_minor": 5
}
