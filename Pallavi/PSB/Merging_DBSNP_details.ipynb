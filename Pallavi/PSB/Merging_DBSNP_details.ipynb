{
 "cells": [
  {
   "cell_type": "code",
   "execution_count": 2,
   "id": "18054a11-301a-4764-8169-d160cbfcd64d",
   "metadata": {},
   "outputs": [],
   "source": [
    "import pandas as pd\n",
    "import gzip\n",
    "from tqdm import tqdm\n",
    "import os\n",
    "import io"
   ]
  },
  {
   "cell_type": "code",
   "execution_count": 3,
   "id": "e5cadd76-315e-49a8-8689-e45898a95bc0",
   "metadata": {},
   "outputs": [],
   "source": [
    "file_path = '/home/pdutta/Data/DBSNP/dbSnp155Details.tab.gz'"
   ]
  },
  {
   "cell_type": "code",
   "execution_count": 4,
   "id": "db62e520-0553-4028-8bd5-7e297a6e57d1",
   "metadata": {},
   "outputs": [
    {
     "data": {
      "text/plain": [
       "22428781386"
      ]
     },
     "execution_count": 4,
     "metadata": {},
     "output_type": "execute_result"
    }
   ],
   "source": [
    "total_size = os.path.getsize(file_path)\n",
    "total_size"
   ]
  },
  {
   "cell_type": "code",
   "execution_count": 5,
   "id": "a4d268ff-2830-47e5-a661-535d4b6882e6",
   "metadata": {},
   "outputs": [],
   "source": [
    "column_names = ['rs_ID', 'freqSourceCount', 'alleleCounts', 'alleleTotals', 'soTermCount', 'soTerms', 'clinVarCount', 'clinVarAccs', 'clinVarSigs', 'submitterCount', 'submitters', 'pubMedIdCount' ,'pubMedIds' ]\n"
   ]
  },
  {
   "cell_type": "code",
   "execution_count": 7,
   "id": "1ddc9149-d5ad-43cd-a8e3-a44481c0a81a",
   "metadata": {},
   "outputs": [
    {
     "data": {
      "text/html": [
       "<div>\n",
       "<style scoped>\n",
       "    .dataframe tbody tr th:only-of-type {\n",
       "        vertical-align: middle;\n",
       "    }\n",
       "\n",
       "    .dataframe tbody tr th {\n",
       "        vertical-align: top;\n",
       "    }\n",
       "\n",
       "    .dataframe thead th {\n",
       "        text-align: right;\n",
       "    }\n",
       "</style>\n",
       "<table border=\"1\" class=\"dataframe\">\n",
       "  <thead>\n",
       "    <tr style=\"text-align: right;\">\n",
       "      <th></th>\n",
       "      <th>rs_ID</th>\n",
       "      <th>freqSourceCount</th>\n",
       "      <th>alleleCounts</th>\n",
       "      <th>alleleTotals</th>\n",
       "      <th>soTermCount</th>\n",
       "      <th>soTerms</th>\n",
       "      <th>clinVarCount</th>\n",
       "      <th>clinVarAccs</th>\n",
       "      <th>clinVarSigs</th>\n",
       "      <th>submitterCount</th>\n",
       "      <th>submitters</th>\n",
       "      <th>pubMedIdCount</th>\n",
       "      <th>pubMedIds</th>\n",
       "    </tr>\n",
       "  </thead>\n",
       "  <tbody>\n",
       "    <tr>\n",
       "      <th>0</th>\n",
       "      <td>rs10</td>\n",
       "      <td>31</td>\n",
       "      <td>A:97|C:4911,A:640|C:7896|T:0,C:255154|A:9536,A...</td>\n",
       "      <td>5008,8536,264690,2930,558,216,600,56,3708,1675...</td>\n",
       "      <td>1</td>\n",
       "      <td>1627,</td>\n",
       "      <td>0</td>\n",
       "      <td>NaN</td>\n",
       "      <td>NaN</td>\n",
       "      <td>51</td>\n",
       "      <td>1000GENOMES,ACPOP,BCM-HGSC-SUB,BCMHGSC_JDW,BGI...</td>\n",
       "      <td>3</td>\n",
       "      <td>21487504,25948407,27902482,</td>\n",
       "    </tr>\n",
       "    <tr>\n",
       "      <th>1</th>\n",
       "      <td>rs1000</td>\n",
       "      <td>31</td>\n",
       "      <td>,T:2|C:0,,,,,,,,,,,,,,,,,,,,,,,,,,,,,,</td>\n",
       "      <td>0,2,0,0,0,0,0,0,0,0,0,0,0,0,0,0,0,0,0,0,0,0,0,...</td>\n",
       "      <td>2</td>\n",
       "      <td>1624,1986,</td>\n",
       "      <td>0</td>\n",
       "      <td>NaN</td>\n",
       "      <td>NaN</td>\n",
       "      <td>4</td>\n",
       "      <td>EVA,ILLUMINA,KRIBB_YJKIM,WIAF,</td>\n",
       "      <td>50</td>\n",
       "      <td>21197618,21992066,22432041,22662167,22796266,2...</td>\n",
       "    </tr>\n",
       "    <tr>\n",
       "      <th>2</th>\n",
       "      <td>rs10000</td>\n",
       "      <td>31</td>\n",
       "      <td>A:4694|G:314,A:18224|G:2262,,A:2513|G:93,A:40|...</td>\n",
       "      <td>5008,20486,0,2606,90,208,0,0,0,14970,0,32,6601...</td>\n",
       "      <td>3</td>\n",
       "      <td>1819,1580,1619,</td>\n",
       "      <td>6</td>\n",
       "      <td>RCV000030369.6,RCV000162401.1,RCV000174851.8,R...</td>\n",
       "      <td>benign,benign,benign,benign,benign,benign,</td>\n",
       "      <td>23</td>\n",
       "      <td>1000GENOMES,CGM_KYOTO,CNGFU,CORRELAGEN,CSHL,EV...</td>\n",
       "      <td>7</td>\n",
       "      <td>16619,10479499,15256438,16472587,20186688,2020...</td>\n",
       "    </tr>\n",
       "    <tr>\n",
       "      <th>3</th>\n",
       "      <td>rs1000000</td>\n",
       "      <td>31</td>\n",
       "      <td>G:4178|A:830,G:159401|A:42383|C:0,A:46411|G:21...</td>\n",
       "      <td>5008,201784,264690,2930,148,216,600,18,3708,16...</td>\n",
       "      <td>1</td>\n",
       "      <td>1627,</td>\n",
       "      <td>0</td>\n",
       "      <td>NaN</td>\n",
       "      <td>NaN</td>\n",
       "      <td>41</td>\n",
       "      <td>1000GENOMES,ABI,ACPOP,BCMHGSC_JDW,BIOINF_KMB_F...</td>\n",
       "      <td>0</td>\n",
       "      <td>NaN</td>\n",
       "    </tr>\n",
       "    <tr>\n",
       "      <th>4</th>\n",
       "      <td>rs10000000</td>\n",
       "      <td>31</td>\n",
       "      <td>A:4157|T:851,A:19064|G:0|T:1730,T:33724|A:2309...</td>\n",
       "      <td>5008,20794,264690,2930,210,216,600,18,3708,167...</td>\n",
       "      <td>2</td>\n",
       "      <td>2153,1627,</td>\n",
       "      <td>0</td>\n",
       "      <td>NaN</td>\n",
       "      <td>NaN</td>\n",
       "      <td>29</td>\n",
       "      <td>1000GENOMES,ACPOP,BIOINF_KMB_FNS_UNIBA,CSHL,CS...</td>\n",
       "      <td>0</td>\n",
       "      <td>NaN</td>\n",
       "    </tr>\n",
       "    <tr>\n",
       "      <th>5</th>\n",
       "      <td>rs1000000000</td>\n",
       "      <td>31</td>\n",
       "      <td>,G:14050|A:0,A:26|G:264664,,,,,,,,,,G:140283|A...</td>\n",
       "      <td>0,14050,264690,0,0,0,0,0,0,0,0,0,140296,0,0,0,...</td>\n",
       "      <td>1</td>\n",
       "      <td>1627,</td>\n",
       "      <td>0</td>\n",
       "      <td>NaN</td>\n",
       "      <td>NaN</td>\n",
       "      <td>3</td>\n",
       "      <td>GNOMAD,HUMAN_LONGEVITY,TOPMED,</td>\n",
       "      <td>0</td>\n",
       "      <td>NaN</td>\n",
       "    </tr>\n",
       "    <tr>\n",
       "      <th>6</th>\n",
       "      <td>rs1000000001</td>\n",
       "      <td>31</td>\n",
       "      <td>,C:14050|T:0,T:21|C:264669,,,,,,,,,,C:139876|T...</td>\n",
       "      <td>0,14050,264690,0,0,0,0,0,0,0,0,0,139884,0,0,0,...</td>\n",
       "      <td>0</td>\n",
       "      <td>NaN</td>\n",
       "      <td>0</td>\n",
       "      <td>NaN</td>\n",
       "      <td>NaN</td>\n",
       "      <td>3</td>\n",
       "      <td>GNOMAD,HUMAN_LONGEVITY,TOPMED,</td>\n",
       "      <td>0</td>\n",
       "      <td>NaN</td>\n",
       "    </tr>\n",
       "    <tr>\n",
       "      <th>7</th>\n",
       "      <td>rs1000000002</td>\n",
       "      <td>31</td>\n",
       "      <td>,C:14050|G:0,G:1|C:264689,,,,,,,,,,C:140261|G:...</td>\n",
       "      <td>0,14050,264690,0,0,0,0,0,0,0,0,0,140264,0,0,0,...</td>\n",
       "      <td>0</td>\n",
       "      <td>NaN</td>\n",
       "      <td>0</td>\n",
       "      <td>NaN</td>\n",
       "      <td>NaN</td>\n",
       "      <td>2</td>\n",
       "      <td>GNOMAD,TOPMED,</td>\n",
       "      <td>0</td>\n",
       "      <td>NaN</td>\n",
       "    </tr>\n",
       "    <tr>\n",
       "      <th>8</th>\n",
       "      <td>rs1000000003</td>\n",
       "      <td>31</td>\n",
       "      <td>,C:14050|G:0,G:8|C:264682,,,,,,,,,,C:140206|G:...</td>\n",
       "      <td>0,14050,264690,0,0,0,0,0,0,0,0,0,140210,0,0,0,...</td>\n",
       "      <td>0</td>\n",
       "      <td>NaN</td>\n",
       "      <td>0</td>\n",
       "      <td>NaN</td>\n",
       "      <td>NaN</td>\n",
       "      <td>3</td>\n",
       "      <td>GNOMAD,HUMAN_LONGEVITY,TOPMED,</td>\n",
       "      <td>0</td>\n",
       "      <td>NaN</td>\n",
       "    </tr>\n",
       "    <tr>\n",
       "      <th>9</th>\n",
       "      <td>rs1000000004</td>\n",
       "      <td>31</td>\n",
       "      <td>,T:14047|C:3,C:83|T:264607,,,,,,,T:16759|C:1,,...</td>\n",
       "      <td>0,14050,264690,0,0,0,0,0,0,16760,0,0,140186,0,...</td>\n",
       "      <td>1</td>\n",
       "      <td>1627,</td>\n",
       "      <td>0</td>\n",
       "      <td>NaN</td>\n",
       "      <td>NaN</td>\n",
       "      <td>4</td>\n",
       "      <td>GNOMAD,HUMAN_LONGEVITY,TOMMO_GENOMICS,TOPMED,</td>\n",
       "      <td>0</td>\n",
       "      <td>NaN</td>\n",
       "    </tr>\n",
       "  </tbody>\n",
       "</table>\n",
       "</div>"
      ],
      "text/plain": [
       "          rs_ID  freqSourceCount  \\\n",
       "0          rs10               31   \n",
       "1        rs1000               31   \n",
       "2       rs10000               31   \n",
       "3     rs1000000               31   \n",
       "4    rs10000000               31   \n",
       "5  rs1000000000               31   \n",
       "6  rs1000000001               31   \n",
       "7  rs1000000002               31   \n",
       "8  rs1000000003               31   \n",
       "9  rs1000000004               31   \n",
       "\n",
       "                                        alleleCounts  \\\n",
       "0  A:97|C:4911,A:640|C:7896|T:0,C:255154|A:9536,A...   \n",
       "1             ,T:2|C:0,,,,,,,,,,,,,,,,,,,,,,,,,,,,,,   \n",
       "2  A:4694|G:314,A:18224|G:2262,,A:2513|G:93,A:40|...   \n",
       "3  G:4178|A:830,G:159401|A:42383|C:0,A:46411|G:21...   \n",
       "4  A:4157|T:851,A:19064|G:0|T:1730,T:33724|A:2309...   \n",
       "5  ,G:14050|A:0,A:26|G:264664,,,,,,,,,,G:140283|A...   \n",
       "6  ,C:14050|T:0,T:21|C:264669,,,,,,,,,,C:139876|T...   \n",
       "7  ,C:14050|G:0,G:1|C:264689,,,,,,,,,,C:140261|G:...   \n",
       "8  ,C:14050|G:0,G:8|C:264682,,,,,,,,,,C:140206|G:...   \n",
       "9  ,T:14047|C:3,C:83|T:264607,,,,,,,T:16759|C:1,,...   \n",
       "\n",
       "                                        alleleTotals  soTermCount  \\\n",
       "0  5008,8536,264690,2930,558,216,600,56,3708,1675...            1   \n",
       "1  0,2,0,0,0,0,0,0,0,0,0,0,0,0,0,0,0,0,0,0,0,0,0,...            2   \n",
       "2  5008,20486,0,2606,90,208,0,0,0,14970,0,32,6601...            3   \n",
       "3  5008,201784,264690,2930,148,216,600,18,3708,16...            1   \n",
       "4  5008,20794,264690,2930,210,216,600,18,3708,167...            2   \n",
       "5  0,14050,264690,0,0,0,0,0,0,0,0,0,140296,0,0,0,...            1   \n",
       "6  0,14050,264690,0,0,0,0,0,0,0,0,0,139884,0,0,0,...            0   \n",
       "7  0,14050,264690,0,0,0,0,0,0,0,0,0,140264,0,0,0,...            0   \n",
       "8  0,14050,264690,0,0,0,0,0,0,0,0,0,140210,0,0,0,...            0   \n",
       "9  0,14050,264690,0,0,0,0,0,0,16760,0,0,140186,0,...            1   \n",
       "\n",
       "           soTerms  clinVarCount  \\\n",
       "0            1627,             0   \n",
       "1       1624,1986,             0   \n",
       "2  1819,1580,1619,             6   \n",
       "3            1627,             0   \n",
       "4       2153,1627,             0   \n",
       "5            1627,             0   \n",
       "6              NaN             0   \n",
       "7              NaN             0   \n",
       "8              NaN             0   \n",
       "9            1627,             0   \n",
       "\n",
       "                                         clinVarAccs  \\\n",
       "0                                                NaN   \n",
       "1                                                NaN   \n",
       "2  RCV000030369.6,RCV000162401.1,RCV000174851.8,R...   \n",
       "3                                                NaN   \n",
       "4                                                NaN   \n",
       "5                                                NaN   \n",
       "6                                                NaN   \n",
       "7                                                NaN   \n",
       "8                                                NaN   \n",
       "9                                                NaN   \n",
       "\n",
       "                                  clinVarSigs  submitterCount  \\\n",
       "0                                         NaN              51   \n",
       "1                                         NaN               4   \n",
       "2  benign,benign,benign,benign,benign,benign,              23   \n",
       "3                                         NaN              41   \n",
       "4                                         NaN              29   \n",
       "5                                         NaN               3   \n",
       "6                                         NaN               3   \n",
       "7                                         NaN               2   \n",
       "8                                         NaN               3   \n",
       "9                                         NaN               4   \n",
       "\n",
       "                                          submitters  pubMedIdCount  \\\n",
       "0  1000GENOMES,ACPOP,BCM-HGSC-SUB,BCMHGSC_JDW,BGI...              3   \n",
       "1                     EVA,ILLUMINA,KRIBB_YJKIM,WIAF,             50   \n",
       "2  1000GENOMES,CGM_KYOTO,CNGFU,CORRELAGEN,CSHL,EV...              7   \n",
       "3  1000GENOMES,ABI,ACPOP,BCMHGSC_JDW,BIOINF_KMB_F...              0   \n",
       "4  1000GENOMES,ACPOP,BIOINF_KMB_FNS_UNIBA,CSHL,CS...              0   \n",
       "5                     GNOMAD,HUMAN_LONGEVITY,TOPMED,              0   \n",
       "6                     GNOMAD,HUMAN_LONGEVITY,TOPMED,              0   \n",
       "7                                     GNOMAD,TOPMED,              0   \n",
       "8                     GNOMAD,HUMAN_LONGEVITY,TOPMED,              0   \n",
       "9      GNOMAD,HUMAN_LONGEVITY,TOMMO_GENOMICS,TOPMED,              0   \n",
       "\n",
       "                                           pubMedIds  \n",
       "0                        21487504,25948407,27902482,  \n",
       "1  21197618,21992066,22432041,22662167,22796266,2...  \n",
       "2  16619,10479499,15256438,16472587,20186688,2020...  \n",
       "3                                                NaN  \n",
       "4                                                NaN  \n",
       "5                                                NaN  \n",
       "6                                                NaN  \n",
       "7                                                NaN  \n",
       "8                                                NaN  \n",
       "9                                                NaN  "
      ]
     },
     "execution_count": 7,
     "metadata": {},
     "output_type": "execute_result"
    }
   ],
   "source": [
    "df = pd.read_csv(gzip.open(file_path, 'rt'), delimiter='\\t', nrows=10,  names=column_names)\n",
    "df"
   ]
  },
  {
   "cell_type": "code",
   "execution_count": 10,
   "id": "2b76d6d9-5fe1-43ab-83ae-ab32736f11b7",
   "metadata": {},
   "outputs": [
    {
     "data": {
      "text/plain": [
       "0    31\n",
       "1    31\n",
       "2    31\n",
       "3    31\n",
       "4    31\n",
       "5    31\n",
       "6    31\n",
       "7    31\n",
       "8    31\n",
       "9    31\n",
       "Name: 1, dtype: int64"
      ]
     },
     "execution_count": 10,
     "metadata": {},
     "output_type": "execute_result"
    }
   ],
   "source": [
    "df[1]"
   ]
  },
  {
   "cell_type": "code",
   "execution_count": 6,
   "id": "29eda9c7-1835-4969-876d-e7747ca06103",
   "metadata": {},
   "outputs": [
    {
     "data": {
      "text/plain": [
       "['rs1000',\n",
       " 31,\n",
       " ',T:2|C:0,,,,,,,,,,,,,,,,,,,,,,,,,,,,,,',\n",
       " '0,2,0,0,0,0,0,0,0,0,0,0,0,0,0,0,0,0,0,0,0,0,0,0,0,0,0,0,0,0,0,',\n",
       " 2,\n",
       " '1624,1986,',\n",
       " 0,\n",
       " nan,\n",
       " nan,\n",
       " 4,\n",
       " 'EVA,ILLUMINA,KRIBB_YJKIM,WIAF,',\n",
       " 50,\n",
       " '21197618,21992066,22432041,22662167,22796266,23289806,23341828,24005813,24532427,24835231,25266489,25515945,25565795,26078566,26091847,26156397,26200829,26588355,26765445,26770579,26871844,26873362,26886638,26938746,26967389,26989676,27026844,27050280,27127179,27217259,27227944,27233804,27250029,27336899,27374856,27468418,27495027,27524883,27567908,27595605,27765929,27765935,28422712,28424424,29581776,30335025,30967134,31192258,32312375,33127268,']"
      ]
     },
     "execution_count": 6,
     "metadata": {},
     "output_type": "execute_result"
    }
   ],
   "source": [
    "df.iloc[0].tolist()"
   ]
  },
  {
   "cell_type": "code",
   "execution_count": null,
   "id": "bab0b202-c355-43bb-9d53-f2a36187d808",
   "metadata": {},
   "outputs": [],
   "source": [
    "df = pd.read_csv(file_path, compression='gzip', delimiter='\\t', header=None)\n",
    "\n",
    " # replace with your column name\n",
    "df[1].unique()"
   ]
  },
  {
   "cell_type": "code",
   "execution_count": 6,
   "id": "5dd1df35-bcf8-4db5-a31f-8cb05e64ec65",
   "metadata": {},
   "outputs": [
    {
     "name": "stderr",
     "output_type": "stream",
     "text": [
      "  0%|                                                                                                                                                                                                                            | 0.00/22.4G [00:00<?, ?B/s]"
     ]
    }
   ],
   "source": [
    "# initialize progress bar\n",
    "progress_bar = tqdm(total=total_size, unit='B', unit_scale=True)"
   ]
  },
  {
   "cell_type": "code",
   "execution_count": 7,
   "id": "ed511b70-85b5-4c4b-8fd8-4b074027dbf3",
   "metadata": {},
   "outputs": [],
   "source": [
    "def read_in_chunks(file_object, chunk_size=1024 * 1024):  # read in chunks of 1 MB\n",
    "    while True:\n",
    "        data = file_object.read(chunk_size)\n",
    "        if not data:\n",
    "            break\n",
    "        progress_bar.update(len(data))\n",
    "        yield data"
   ]
  },
  {
   "cell_type": "code",
   "execution_count": 9,
   "id": "a8f43447-3a00-4996-8409-37d4ce800c3e",
   "metadata": {},
   "outputs": [
    {
     "name": "stderr",
     "output_type": "stream",
     "text": [
      "186GB [07:54, 413MB/s]                                                                                                                                                                                                                                       "
     ]
    },
    {
     "ename": "MemoryError",
     "evalue": "",
     "output_type": "error",
     "traceback": [
      "\u001b[0;31m---------------------------------------------------------------------------\u001b[0m",
      "\u001b[0;31mMemoryError\u001b[0m                               Traceback (most recent call last)",
      "Cell \u001b[0;32mIn[9], line 5\u001b[0m\n\u001b[1;32m      3\u001b[0m     \u001b[38;5;28;01mfor\u001b[39;00m chunk \u001b[38;5;129;01min\u001b[39;00m read_in_chunks(f):\n\u001b[1;32m      4\u001b[0m         buffer \u001b[38;5;241m+\u001b[39m\u001b[38;5;241m=\u001b[39m chunk\n\u001b[0;32m----> 5\u001b[0m     df \u001b[38;5;241m=\u001b[39m pd\u001b[38;5;241m.\u001b[39mread_csv(\u001b[43mio\u001b[49m\u001b[38;5;241;43m.\u001b[39;49m\u001b[43mStringIO\u001b[49m\u001b[43m(\u001b[49m\u001b[43mbuffer\u001b[49m\u001b[43m)\u001b[49m, delimiter\u001b[38;5;241m=\u001b[39m\u001b[38;5;124m'\u001b[39m\u001b[38;5;130;01m\\t\u001b[39;00m\u001b[38;5;124m'\u001b[39m)\n\u001b[1;32m      7\u001b[0m progress_bar\u001b[38;5;241m.\u001b[39mclose()\n",
      "\u001b[0;31mMemoryError\u001b[0m: "
     ]
    },
    {
     "name": "stderr",
     "output_type": "stream",
     "text": [
      "186GB [08:14, 413MB/s]"
     ]
    }
   ],
   "source": [
    "buffer = ''\n",
    "with gzip.open(file_path, 'rt') as f:\n",
    "    for chunk in read_in_chunks(f):\n",
    "        buffer += chunk\n",
    "    df = pd.read_csv(io.StringIO(buffer), delimiter='\\t')\n",
    "\n",
    "progress_bar.close()\n"
   ]
  },
  {
   "cell_type": "code",
   "execution_count": null,
   "id": "dfac70c1-f330-4e46-825a-1403610cee39",
   "metadata": {},
   "outputs": [],
   "source": []
  }
 ],
 "metadata": {
  "kernelspec": {
   "display_name": "Python 3",
   "language": "python",
   "name": "python3"
  },
  "language_info": {
   "codemirror_mode": {
    "name": "ipython",
    "version": 3
   },
   "file_extension": ".py",
   "mimetype": "text/x-python",
   "name": "python",
   "nbconvert_exporter": "python",
   "pygments_lexer": "ipython3",
   "version": "3.7.11"
  }
 },
 "nbformat": 4,
 "nbformat_minor": 5
}
