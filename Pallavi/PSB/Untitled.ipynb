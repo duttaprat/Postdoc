{
 "cells": [
  {
   "cell_type": "code",
   "execution_count": 1,
   "id": "fbbadeb3-81ba-4b36-8aea-3a3d64520f94",
   "metadata": {},
   "outputs": [],
   "source": [
    "import pandas as pd"
   ]
  },
  {
   "cell_type": "code",
   "execution_count": 7,
   "id": "d33e9c15-af01-42c2-b68f-496b78099c1b",
   "metadata": {},
   "outputs": [
    {
     "name": "stderr",
     "output_type": "stream",
     "text": [
      "/tmp/ipykernel_6759/3427750448.py:1: DtypeWarning: Columns (23,24,28) have mixed types. Specify dtype option on import or set low_memory=False.\n",
      "  df = pd.read_csv(\"/data/private/pdutta/VCF_data/Merged_DBSNP_Chrwise/chr1_data_merged.csv\")\n"
     ]
    }
   ],
   "source": [
    "df = pd.read_csv(\"/data/private/pdutta/VCF_data/Merged_DBSNP_Chrwise/chr1_data_merged.csv\")"
   ]
  },
  {
   "cell_type": "code",
   "execution_count": 8,
   "id": "c740f0a6-930f-4a1c-b864-65d094436a61",
   "metadata": {},
   "outputs": [
    {
     "data": {
      "text/plain": [
       "Index(['chromosome', 'start', 'end', 'name', 'ref', 'altCount', 'alts',\n",
       "       'shiftBases', 'freqSourceCount', 'minorAlleleFreq', 'majorAllele',\n",
       "       'minorAllele', 'maxFuncImpact', 'class', 'ucscNotes', '_dataOffset',\n",
       "       '_dataLen', 'freqSourceCount.1', 'alleleCounts', 'alleleTotals',\n",
       "       'soTermCount', 'soTerms', 'clinVarCount', 'clinVarAccs', 'clinVarSigs',\n",
       "       'submitterCount', 'submitters', 'pubMedIdCount', 'pubMedIds'],\n",
       "      dtype='object')"
      ]
     },
     "execution_count": 8,
     "metadata": {},
     "output_type": "execute_result"
    }
   ],
   "source": [
    "df.columns"
   ]
  },
  {
   "cell_type": "code",
   "execution_count": 9,
   "id": "89d1b91e-47be-45d4-98e5-f161994cc962",
   "metadata": {},
   "outputs": [
    {
     "data": {
      "text/plain": [
       "clinVarCount\n",
       "0     64589015\n",
       "1        43022\n",
       "2         9375\n",
       "3         3529\n",
       "4         1710\n",
       "5          726\n",
       "6          326\n",
       "7          161\n",
       "8          101\n",
       "9           49\n",
       "10          34\n",
       "11          18\n",
       "12          14\n",
       "13           9\n",
       "14          10\n",
       "15           8\n",
       "16           6\n",
       "17           4\n",
       "18           7\n",
       "19           3\n",
       "20           2\n",
       "21           2\n",
       "22           1\n",
       "26           2\n",
       "27           2\n",
       "28           1\n",
       "33           1\n",
       "34           1\n",
       "63           1\n",
       "dtype: int64"
      ]
     },
     "execution_count": 9,
     "metadata": {},
     "output_type": "execute_result"
    }
   ],
   "source": [
    "df.groupby('clinVarCount').size()"
   ]
  },
  {
   "cell_type": "code",
   "execution_count": 12,
   "id": "ac54b3bb-e527-4b3f-86e0-6ee034714a24",
   "metadata": {},
   "outputs": [
    {
     "data": {
      "text/plain": [
       "clinVarAccs\n",
       "RCV000000005.2,RCV000825065.1,                                  1\n",
       "RCV000000006.5,RCV000000007.3,RCV000000008.4,                   1\n",
       "RCV000000009.4,                                                 1\n",
       "RCV000000010.3,                                                 1\n",
       "RCV000000074.5,RCV000256021.1,RCV000625956.1,RCV001056393.1,    1\n",
       "                                                               ..\n",
       "RCV001353015.1,                                                 1\n",
       "RCV001353043.1,                                                 1\n",
       "RCV001353054.1,                                                 1\n",
       "RCV001353062.1,                                                 1\n",
       "RCV001353063.1,                                                 1\n",
       "Name: clinVarAccs, Length: 59104, dtype: int64"
      ]
     },
     "execution_count": 12,
     "metadata": {},
     "output_type": "execute_result"
    }
   ],
   "source": [
    "df.groupby(['clinVarAccs'])['clinVarAccs'].count()"
   ]
  },
  {
   "cell_type": "code",
   "execution_count": null,
   "id": "e3f4e3e5-e54b-4b2a-a31e-6f4b59de8564",
   "metadata": {},
   "outputs": [],
   "source": []
  }
 ],
 "metadata": {
  "kernelspec": {
   "display_name": "Python 3 (ipykernel)",
   "language": "python",
   "name": "python3"
  },
  "language_info": {
   "codemirror_mode": {
    "name": "ipython",
    "version": 3
   },
   "file_extension": ".py",
   "mimetype": "text/x-python",
   "name": "python",
   "nbconvert_exporter": "python",
   "pygments_lexer": "ipython3",
   "version": "3.10.11"
  }
 },
 "nbformat": 4,
 "nbformat_minor": 5
}
