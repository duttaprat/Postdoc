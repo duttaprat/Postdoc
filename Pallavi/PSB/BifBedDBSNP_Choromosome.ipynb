{
 "cells": [
  {
   "cell_type": "code",
   "execution_count": 1,
   "id": "cfd9ffbc-5b7c-41ea-aadf-d32b89002201",
   "metadata": {},
   "outputs": [],
   "source": [
    "import pandas as pd\n",
    "import os"
   ]
  },
  {
   "cell_type": "code",
   "execution_count": 2,
   "id": "c5a33796-9c09-4640-abfa-e5180d25da83",
   "metadata": {},
   "outputs": [],
   "source": [
    "folder_path = \"/data/projects/VCF_files/DBSNP/Choromosome_wise_data\""
   ]
  },
  {
   "cell_type": "code",
   "execution_count": 3,
   "id": "606f73cb-4dde-452b-ad51-6261da635705",
   "metadata": {},
   "outputs": [],
   "source": [
    "files = os.listdir(folder_path)"
   ]
  },
  {
   "cell_type": "code",
   "execution_count": 4,
   "id": "1bd9538e-1b06-4e19-bccb-f2d89bcec644",
   "metadata": {},
   "outputs": [
    {
     "name": "stdout",
     "output_type": "stream",
     "text": [
      "/data/projects/VCF_files/DBSNP/Choromosome_wise_data/chr7_data.csv\n",
      "/data/projects/VCF_files/DBSNP/Choromosome_wise_data/chr13_data.csv\n",
      "/data/projects/VCF_files/DBSNP/Choromosome_wise_data/chrY_data.csv\n",
      "/data/projects/VCF_files/DBSNP/Choromosome_wise_data/chrX_data.csv\n",
      "/data/projects/VCF_files/DBSNP/Choromosome_wise_data/chr15_data.csv\n",
      "/data/projects/VCF_files/DBSNP/Choromosome_wise_data/chr6_data.csv\n",
      "/data/projects/VCF_files/DBSNP/Choromosome_wise_data/chr19_data.csv\n",
      "/data/projects/VCF_files/DBSNP/Choromosome_wise_data/chr1_data.csv\n",
      "/data/projects/VCF_files/DBSNP/Choromosome_wise_data/chr5_data.csv\n",
      "/data/projects/VCF_files/DBSNP/Choromosome_wise_data/chr12_data.csv\n",
      "/data/projects/VCF_files/DBSNP/Choromosome_wise_data/chr10_data.csv\n",
      "/data/projects/VCF_files/DBSNP/Choromosome_wise_data/chr9_data.csv\n",
      "/data/projects/VCF_files/DBSNP/Choromosome_wise_data/chr8_data.csv\n",
      "/data/projects/VCF_files/DBSNP/Choromosome_wise_data/chr21_data.csv\n",
      "/data/projects/VCF_files/DBSNP/Choromosome_wise_data/chr20_data.csv\n",
      "/data/projects/VCF_files/DBSNP/Choromosome_wise_data/chr11_data.csv\n",
      "/data/projects/VCF_files/DBSNP/Choromosome_wise_data/chr22_data.csv\n",
      "/data/projects/VCF_files/DBSNP/Choromosome_wise_data/chr18_data.csv\n",
      "/data/projects/VCF_files/DBSNP/Choromosome_wise_data/chr14_data.csv\n",
      "/data/projects/VCF_files/DBSNP/Choromosome_wise_data/chr16_data.csv\n",
      "/data/projects/VCF_files/DBSNP/Choromosome_wise_data/chr4_data.csv\n",
      "/data/projects/VCF_files/DBSNP/Choromosome_wise_data/chr3_data.csv\n",
      "/data/projects/VCF_files/DBSNP/Choromosome_wise_data/chr17_data.csv\n",
      "/data/projects/VCF_files/DBSNP/Choromosome_wise_data/chr2_data.csv\n"
     ]
    }
   ],
   "source": [
    "file_paths =[]\n",
    "for file in files:\n",
    "    # construct full file path\n",
    "    if(len(file.split('_'))==2 and file.endswith('.csv') and 'M' not in file):\n",
    "        file_path = os.path.join(folder_path, file)\n",
    "        print(file_path)\n",
    "        file_paths.append(file_path)"
   ]
  },
  {
   "cell_type": "code",
   "execution_count": null,
   "id": "cc53028e-3a1c-4646-9622-86f371b75f87",
   "metadata": {},
   "outputs": [
    {
     "name": "stdout",
     "output_type": "stream",
     "text": [
      "/data/projects/VCF_files/DBSNP/Choromosome_wise_data/chr7_data.csv\n",
      "/data/projects/VCF_files/DBSNP/Choromosome_wise_data/chr13_data.csv\n",
      "/data/projects/VCF_files/DBSNP/Choromosome_wise_data/chrY_data.csv\n",
      "/data/projects/VCF_files/DBSNP/Choromosome_wise_data/chrX_data.csv\n"
     ]
    }
   ],
   "source": [
    "dataframes = []\n",
    "for file in file_paths:\n",
    "    print(file)\n",
    "    df = pd.read_csv(file)\n",
    "    dataframes.append(df)"
   ]
  },
  {
   "cell_type": "code",
   "execution_count": null,
   "id": "388d7745-fcfe-46ec-8799-44bf6b9f28f7",
   "metadata": {},
   "outputs": [],
   "source": [
    "df_concatenated = pd.concat(dataframes, ignore_index=True)\n",
    "df_concatenated"
   ]
  },
  {
   "cell_type": "code",
   "execution_count": null,
   "id": "2836c33a-65e5-4d92-8164-13cbc3e95242",
   "metadata": {},
   "outputs": [],
   "source": [
    "df_concatenated.drop_duplicates().reset_index(drop=True)"
   ]
  },
  {
   "cell_type": "code",
   "execution_count": null,
   "id": "835889f9-194a-4e43-a7fb-122a6a791d76",
   "metadata": {},
   "outputs": [],
   "source": []
  }
 ],
 "metadata": {
  "kernelspec": {
   "display_name": "Python 3",
   "language": "python",
   "name": "python3"
  },
  "language_info": {
   "codemirror_mode": {
    "name": "ipython",
    "version": 3
   },
   "file_extension": ".py",
   "mimetype": "text/x-python",
   "name": "python",
   "nbconvert_exporter": "python",
   "pygments_lexer": "ipython3",
   "version": "3.7.11"
  }
 },
 "nbformat": 4,
 "nbformat_minor": 5
}
