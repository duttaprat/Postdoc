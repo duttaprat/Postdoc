{
 "cells": [
  {
   "cell_type": "code",
   "execution_count": 24,
   "id": "805c2439-2641-439b-95db-5a42add25b5e",
   "metadata": {},
   "outputs": [],
   "source": [
    "import io, os\n",
    "import pysam\n",
    "import pandas as pd\n",
    "#import pyBigWig\n",
    "import pybedtools\n",
    "from tqdm import tqdm"
   ]
  },
  {
   "cell_type": "code",
   "execution_count": 23,
   "id": "7d860e67-646c-4147-9aeb-2fe06824d20a",
   "metadata": {},
   "outputs": [
    {
     "name": "stdout",
     "output_type": "stream",
     "text": [
      "Retrieving notices: ...working... done\n",
      "Collecting package metadata (current_repodata.json): done\n",
      "Solving environment: done\n",
      "\n",
      "## Package Plan ##\n",
      "\n",
      "  environment location: /shared/software/anaconda/anaconda3/envs/sequence_processing\n",
      "\n",
      "  added / updated specs:\n",
      "    - tqdm\n",
      "\n",
      "\n",
      "The following packages will be downloaded:\n",
      "\n",
      "    package                    |            build\n",
      "    ---------------------------|-----------------\n",
      "    colorama-0.4.6             |     pyhd8ed1ab_0          25 KB  conda-forge\n",
      "    tqdm-4.65.0                |     pyhd8ed1ab_1          86 KB  conda-forge\n",
      "    ------------------------------------------------------------\n",
      "                                           Total:         111 KB\n",
      "\n",
      "The following NEW packages will be INSTALLED:\n",
      "\n",
      "  colorama           conda-forge/noarch::colorama-0.4.6-pyhd8ed1ab_0 \n",
      "  tqdm               conda-forge/noarch::tqdm-4.65.0-pyhd8ed1ab_1 \n",
      "\n",
      "\n",
      "\n",
      "Downloading and Extracting Packages\n",
      "colorama-0.4.6       | 25 KB     |                                       |   0% \n",
      "colorama-0.4.6       | 25 KB     | ##################################### | 100% \u001b[A\n",
      "                                                                                \u001b[A\n",
      "                                                                                \u001b[A\n",
      "Preparing transaction: done\n",
      "Verifying transaction: done\n",
      "Executing transaction: done\n"
     ]
    }
   ],
   "source": [
    "!conda install -c conda-forge tqdm --yes"
   ]
  },
  {
   "cell_type": "code",
   "execution_count": 26,
   "id": "99617ecb-bf9a-47b2-8ad8-44285e8d2885",
   "metadata": {},
   "outputs": [],
   "source": [
    "vcf_file_path = \"/data/projects/VCF_files/DBSNP/00-All.vcf\"\n",
    "#reference_folder_path = \"/data/projects/Resources/HumanReferenceGenome/\""
   ]
  },
  {
   "cell_type": "markdown",
   "id": "9cbee1a8-8fbb-4a10-99ed-045a010bb883",
   "metadata": {},
   "source": [
    "## Covert VCF file to dataframe to visualize"
   ]
  },
  {
   "cell_type": "code",
   "execution_count": null,
   "id": "beb783fc-9c2c-4de6-a7e7-4d871a389f36",
   "metadata": {},
   "outputs": [],
   "source": [
    "def read_vcf(path):\n",
    "    with open(path, 'r') as f:\n",
    "        lines = [l for l in f if not l.startswith('##')]\n",
    "    return pd.read_csv(\n",
    "        io.StringIO(''.join(lines)),\n",
    "        dtype={'#CHROM': str, 'POS': int, 'ID': str, 'REF': str, 'ALT': str,\n",
    "               'QUAL': str, 'FILTER': str, 'INFO': str},\n",
    "        sep='\\t'\n",
    "    ).rename(columns={'#CHROM': 'CHROM'})"
   ]
  },
  {
   "cell_type": "code",
   "execution_count": null,
   "id": "85bfb75b-650d-4e5a-bc2b-8e330189df48",
   "metadata": {},
   "outputs": [],
   "source": [
    "read_vcf(vcf_file_path)"
   ]
  },
  {
   "cell_type": "markdown",
   "id": "be59a83a-0666-42e6-ae1e-ef58018da69a",
   "metadata": {},
   "source": [
    "## Processing the VCF file using PySAM "
   ]
  },
  {
   "cell_type": "code",
   "execution_count": 25,
   "id": "72c94a7d-9341-43ea-929c-bb9f56465361",
   "metadata": {},
   "outputs": [],
   "source": [
    "vcf_file = pysam.VariantFile(vcf_file_path)\n",
    "#reference_fasta = pysam.FastaFile(reference_file_path)"
   ]
  },
  {
   "cell_type": "code",
   "execution_count": null,
   "id": "79898feb-aa5b-4bf9-abeb-7c32e62607ee",
   "metadata": {},
   "outputs": [],
   "source": [
    "total = sum(1 for _ in vcf_file.fetch())\n",
    "total"
   ]
  },
  {
   "cell_type": "code",
   "execution_count": 15,
   "id": "99dc64d3-cb4b-4ddc-9285-96795ac47f47",
   "metadata": {},
   "outputs": [
    {
     "name": "stdout",
     "output_type": "stream",
     "text": [
      "Variant: 1\t10055\trs768019142\tT\tTA\t.\t.\tRS=768019142;RSPOS=10055;dbSNPBuildID=144;SSR=0;SAO=0;VP=0x050000020005000002000200;GENEINFO=DDX11L1:100287102;WGT=1;VC=DIV;R5;ASP\n",
      "\n",
      "Chromosome: 1\n",
      "Position: 10055\n",
      "ID: rs768019142\n",
      "Reference base(s): T\n",
      "Alternative base(s): ('TA',)\n",
      "Quality: None\n",
      "Filter: []\n",
      "Info keys: ['RS', 'RSPOS', 'dbSNPBuildID', 'SSR', 'SAO', 'VP', 'GENEINFO', 'WGT', 'VC', 'R5', 'ASP']\n",
      "Info values: [768019142, 10055, 144, 0, 0, '0x050000020005000002000200', 'DDX11L1:100287102', 1, 'DIV', True, True]\n",
      "Format: []\n",
      "Samples: []\n"
     ]
    },
    {
     "name": "stdin",
     "output_type": "stream",
     "text": [
      " \n"
     ]
    },
    {
     "name": "stdout",
     "output_type": "stream",
     "text": [
      "Variant: 1\t10055\trs892501864\tT\tA\t.\t.\tRS=892501864;RSPOS=10055;dbSNPBuildID=150;SSR=0;SAO=0;VP=0x050000020005000002000100;GENEINFO=DDX11L1:100287102;WGT=1;VC=SNV;R5;ASP\n",
      "\n",
      "Chromosome: 1\n",
      "Position: 10055\n",
      "ID: rs892501864\n",
      "Reference base(s): T\n",
      "Alternative base(s): ('A',)\n",
      "Quality: None\n",
      "Filter: []\n",
      "Info keys: ['RS', 'RSPOS', 'dbSNPBuildID', 'SSR', 'SAO', 'VP', 'GENEINFO', 'WGT', 'VC', 'R5', 'ASP']\n",
      "Info values: [892501864, 10055, 150, 0, 0, '0x050000020005000002000100', 'DDX11L1:100287102', 1, 'SNV', True, True]\n",
      "Format: []\n",
      "Samples: []\n"
     ]
    },
    {
     "ename": "KeyboardInterrupt",
     "evalue": "Interrupted by user",
     "output_type": "error",
     "traceback": [
      "\u001b[0;31m---------------------------------------------------------------------------\u001b[0m",
      "\u001b[0;31mKeyboardInterrupt\u001b[0m                         Traceback (most recent call last)",
      "Cell \u001b[0;32mIn[15], line 14\u001b[0m\n\u001b[1;32m     12\u001b[0m \u001b[38;5;28mprint\u001b[39m(\u001b[38;5;124m'\u001b[39m\u001b[38;5;124mFormat:\u001b[39m\u001b[38;5;124m'\u001b[39m, variant\u001b[38;5;241m.\u001b[39mformat\u001b[38;5;241m.\u001b[39mkeys())\n\u001b[1;32m     13\u001b[0m \u001b[38;5;28mprint\u001b[39m(\u001b[38;5;124m'\u001b[39m\u001b[38;5;124mSamples:\u001b[39m\u001b[38;5;124m'\u001b[39m, variant\u001b[38;5;241m.\u001b[39msamples\u001b[38;5;241m.\u001b[39mkeys())\n\u001b[0;32m---> 14\u001b[0m \u001b[38;5;28;43minput\u001b[39;49m\u001b[43m(\u001b[49m\u001b[43m)\u001b[49m\n",
      "File \u001b[0;32m/shared/software/anaconda/anaconda3/envs/sequence_processing/lib/python3.10/site-packages/ipykernel/kernelbase.py:1191\u001b[0m, in \u001b[0;36mKernel.raw_input\u001b[0;34m(self, prompt)\u001b[0m\n\u001b[1;32m   1189\u001b[0m     msg \u001b[38;5;241m=\u001b[39m \u001b[38;5;124m\"\u001b[39m\u001b[38;5;124mraw_input was called, but this frontend does not support input requests.\u001b[39m\u001b[38;5;124m\"\u001b[39m\n\u001b[1;32m   1190\u001b[0m     \u001b[38;5;28;01mraise\u001b[39;00m StdinNotImplementedError(msg)\n\u001b[0;32m-> 1191\u001b[0m \u001b[38;5;28;01mreturn\u001b[39;00m \u001b[38;5;28;43mself\u001b[39;49m\u001b[38;5;241;43m.\u001b[39;49m\u001b[43m_input_request\u001b[49m\u001b[43m(\u001b[49m\n\u001b[1;32m   1192\u001b[0m \u001b[43m    \u001b[49m\u001b[38;5;28;43mstr\u001b[39;49m\u001b[43m(\u001b[49m\u001b[43mprompt\u001b[49m\u001b[43m)\u001b[49m\u001b[43m,\u001b[49m\n\u001b[1;32m   1193\u001b[0m \u001b[43m    \u001b[49m\u001b[38;5;28;43mself\u001b[39;49m\u001b[38;5;241;43m.\u001b[39;49m\u001b[43m_parent_ident\u001b[49m\u001b[43m[\u001b[49m\u001b[38;5;124;43m\"\u001b[39;49m\u001b[38;5;124;43mshell\u001b[39;49m\u001b[38;5;124;43m\"\u001b[39;49m\u001b[43m]\u001b[49m\u001b[43m,\u001b[49m\n\u001b[1;32m   1194\u001b[0m \u001b[43m    \u001b[49m\u001b[38;5;28;43mself\u001b[39;49m\u001b[38;5;241;43m.\u001b[39;49m\u001b[43mget_parent\u001b[49m\u001b[43m(\u001b[49m\u001b[38;5;124;43m\"\u001b[39;49m\u001b[38;5;124;43mshell\u001b[39;49m\u001b[38;5;124;43m\"\u001b[39;49m\u001b[43m)\u001b[49m\u001b[43m,\u001b[49m\n\u001b[1;32m   1195\u001b[0m \u001b[43m    \u001b[49m\u001b[43mpassword\u001b[49m\u001b[38;5;241;43m=\u001b[39;49m\u001b[38;5;28;43;01mFalse\u001b[39;49;00m\u001b[43m,\u001b[49m\n\u001b[1;32m   1196\u001b[0m \u001b[43m\u001b[49m\u001b[43m)\u001b[49m\n",
      "File \u001b[0;32m/shared/software/anaconda/anaconda3/envs/sequence_processing/lib/python3.10/site-packages/ipykernel/kernelbase.py:1234\u001b[0m, in \u001b[0;36mKernel._input_request\u001b[0;34m(self, prompt, ident, parent, password)\u001b[0m\n\u001b[1;32m   1231\u001b[0m \u001b[38;5;28;01mexcept\u001b[39;00m \u001b[38;5;167;01mKeyboardInterrupt\u001b[39;00m:\n\u001b[1;32m   1232\u001b[0m     \u001b[38;5;66;03m# re-raise KeyboardInterrupt, to truncate traceback\u001b[39;00m\n\u001b[1;32m   1233\u001b[0m     msg \u001b[38;5;241m=\u001b[39m \u001b[38;5;124m\"\u001b[39m\u001b[38;5;124mInterrupted by user\u001b[39m\u001b[38;5;124m\"\u001b[39m\n\u001b[0;32m-> 1234\u001b[0m     \u001b[38;5;28;01mraise\u001b[39;00m \u001b[38;5;167;01mKeyboardInterrupt\u001b[39;00m(msg) \u001b[38;5;28;01mfrom\u001b[39;00m \u001b[38;5;28;01mNone\u001b[39;00m\n\u001b[1;32m   1235\u001b[0m \u001b[38;5;28;01mexcept\u001b[39;00m \u001b[38;5;167;01mException\u001b[39;00m:\n\u001b[1;32m   1236\u001b[0m     \u001b[38;5;28mself\u001b[39m\u001b[38;5;241m.\u001b[39mlog\u001b[38;5;241m.\u001b[39mwarning(\u001b[38;5;124m\"\u001b[39m\u001b[38;5;124mInvalid Message:\u001b[39m\u001b[38;5;124m\"\u001b[39m, exc_info\u001b[38;5;241m=\u001b[39m\u001b[38;5;28;01mTrue\u001b[39;00m)\n",
      "\u001b[0;31mKeyboardInterrupt\u001b[0m: Interrupted by user"
     ]
    }
   ],
   "source": [
    "for variant in vcf_file:\n",
    "    print('Variant:', variant)\n",
    "    print('Chromosome:', variant.chrom)\n",
    "    print('Position:', variant.pos)\n",
    "    print('ID:', variant.id)\n",
    "    print('Reference base(s):', variant.ref)\n",
    "    print('Alternative base(s):', variant.alts)\n",
    "    print('Quality:', variant.qual)\n",
    "    print('Filter:', variant.filter.keys())\n",
    "    print('Info keys:', variant.info.keys())\n",
    "    print('Info values:', variant.info.values())\n",
    "    print('Format:', variant.format.keys())\n",
    "    print('Samples:', variant.samples.keys())\n",
    "    input()"
   ]
  },
  {
   "cell_type": "code",
   "execution_count": null,
   "id": "7aa0df52-b593-4bdb-99b2-cba1b15f688d",
   "metadata": {},
   "outputs": [],
   "source": [
    "for rec in vcf_file.fetch():\n",
    "    # You can access all data about the variant like this:\n",
    "    print('Chromosome:', rec.chrom)\n",
    "    print('Position:', rec.pos)\n",
    "    print('Reference allele:', rec.ref)\n",
    "    print('Alternative alleles:', rec.alts, rec.info)\n",
    "    input()"
   ]
  },
  {
   "cell_type": "code",
   "execution_count": null,
   "id": "6541584f-8f78-478f-923a-b1a2fb32555d",
   "metadata": {},
   "outputs": [],
   "source": []
  },
  {
   "cell_type": "code",
   "execution_count": 20,
   "id": "c7569c3b-90ab-4200-8484-77f56456de19",
   "metadata": {},
   "outputs": [
    {
     "name": "stdout",
     "output_type": "stream",
     "text": [
      "Reference Allele and alterna TA ('T',)\n",
      "Position: 10019\n",
      "ID rs775809821\n",
      "cctaa\n",
      "ccTa\n"
     ]
    },
    {
     "name": "stdin",
     "output_type": "stream",
     "text": [
      " \n"
     ]
    },
    {
     "name": "stdout",
     "output_type": "stream",
     "text": [
      "Reference Allele and alterna A ('C',)\n",
      "Position: 10039\n",
      "ID rs978760828\n",
      "taacc\n",
      "taCcc\n"
     ]
    },
    {
     "name": "stdin",
     "output_type": "stream",
     "text": [
      " \n"
     ]
    },
    {
     "name": "stdout",
     "output_type": "stream",
     "text": [
      "Reference Allele and alterna T ('A',)\n",
      "Position: 10043\n",
      "ID rs1008829651\n",
      "cctaa\n",
      "ccAaa\n"
     ]
    },
    {
     "name": "stdin",
     "output_type": "stream",
     "text": [
      " \n"
     ]
    },
    {
     "name": "stdout",
     "output_type": "stream",
     "text": [
      "Reference Allele and alterna A ('G',)\n",
      "Position: 10051\n",
      "ID rs1052373574\n",
      "taacc\n",
      "taGcc\n"
     ]
    },
    {
     "name": "stdin",
     "output_type": "stream",
     "text": [
      " \n"
     ]
    },
    {
     "name": "stdout",
     "output_type": "stream",
     "text": [
      "Reference Allele and alterna A ('AC',)\n",
      "Position: 10051\n",
      "ID rs1326880612\n",
      "taacc\n",
      "taACcc\n"
     ]
    },
    {
     "name": "stdin",
     "output_type": "stream",
     "text": [
      " \n"
     ]
    },
    {
     "name": "stdout",
     "output_type": "stream",
     "text": [
      "Reference Allele and alterna T ('TA',)\n",
      "Position: 10055\n",
      "ID rs768019142\n",
      "cctaa\n",
      "ccTAaa\n"
     ]
    },
    {
     "ename": "KeyboardInterrupt",
     "evalue": "Interrupted by user",
     "output_type": "error",
     "traceback": [
      "\u001b[0;31m---------------------------------------------------------------------------\u001b[0m",
      "\u001b[0;31mKeyboardInterrupt\u001b[0m                         Traceback (most recent call last)",
      "Cell \u001b[0;32mIn[20], line 18\u001b[0m\n\u001b[1;32m     16\u001b[0m \u001b[38;5;28mprint\u001b[39m(seq_context)\n\u001b[1;32m     17\u001b[0m \u001b[38;5;28mprint\u001b[39m(alt_seq_context)\n\u001b[0;32m---> 18\u001b[0m \u001b[38;5;28;43minput\u001b[39;49m\u001b[43m(\u001b[49m\u001b[43m)\u001b[49m\n",
      "File \u001b[0;32m/shared/software/anaconda/anaconda3/envs/sequence_processing/lib/python3.10/site-packages/ipykernel/kernelbase.py:1191\u001b[0m, in \u001b[0;36mKernel.raw_input\u001b[0;34m(self, prompt)\u001b[0m\n\u001b[1;32m   1189\u001b[0m     msg \u001b[38;5;241m=\u001b[39m \u001b[38;5;124m\"\u001b[39m\u001b[38;5;124mraw_input was called, but this frontend does not support input requests.\u001b[39m\u001b[38;5;124m\"\u001b[39m\n\u001b[1;32m   1190\u001b[0m     \u001b[38;5;28;01mraise\u001b[39;00m StdinNotImplementedError(msg)\n\u001b[0;32m-> 1191\u001b[0m \u001b[38;5;28;01mreturn\u001b[39;00m \u001b[38;5;28;43mself\u001b[39;49m\u001b[38;5;241;43m.\u001b[39;49m\u001b[43m_input_request\u001b[49m\u001b[43m(\u001b[49m\n\u001b[1;32m   1192\u001b[0m \u001b[43m    \u001b[49m\u001b[38;5;28;43mstr\u001b[39;49m\u001b[43m(\u001b[49m\u001b[43mprompt\u001b[49m\u001b[43m)\u001b[49m\u001b[43m,\u001b[49m\n\u001b[1;32m   1193\u001b[0m \u001b[43m    \u001b[49m\u001b[38;5;28;43mself\u001b[39;49m\u001b[38;5;241;43m.\u001b[39;49m\u001b[43m_parent_ident\u001b[49m\u001b[43m[\u001b[49m\u001b[38;5;124;43m\"\u001b[39;49m\u001b[38;5;124;43mshell\u001b[39;49m\u001b[38;5;124;43m\"\u001b[39;49m\u001b[43m]\u001b[49m\u001b[43m,\u001b[49m\n\u001b[1;32m   1194\u001b[0m \u001b[43m    \u001b[49m\u001b[38;5;28;43mself\u001b[39;49m\u001b[38;5;241;43m.\u001b[39;49m\u001b[43mget_parent\u001b[49m\u001b[43m(\u001b[49m\u001b[38;5;124;43m\"\u001b[39;49m\u001b[38;5;124;43mshell\u001b[39;49m\u001b[38;5;124;43m\"\u001b[39;49m\u001b[43m)\u001b[49m\u001b[43m,\u001b[49m\n\u001b[1;32m   1195\u001b[0m \u001b[43m    \u001b[49m\u001b[43mpassword\u001b[49m\u001b[38;5;241;43m=\u001b[39;49m\u001b[38;5;28;43;01mFalse\u001b[39;49;00m\u001b[43m,\u001b[49m\n\u001b[1;32m   1196\u001b[0m \u001b[43m\u001b[49m\u001b[43m)\u001b[49m\n",
      "File \u001b[0;32m/shared/software/anaconda/anaconda3/envs/sequence_processing/lib/python3.10/site-packages/ipykernel/kernelbase.py:1234\u001b[0m, in \u001b[0;36mKernel._input_request\u001b[0;34m(self, prompt, ident, parent, password)\u001b[0m\n\u001b[1;32m   1231\u001b[0m \u001b[38;5;28;01mexcept\u001b[39;00m \u001b[38;5;167;01mKeyboardInterrupt\u001b[39;00m:\n\u001b[1;32m   1232\u001b[0m     \u001b[38;5;66;03m# re-raise KeyboardInterrupt, to truncate traceback\u001b[39;00m\n\u001b[1;32m   1233\u001b[0m     msg \u001b[38;5;241m=\u001b[39m \u001b[38;5;124m\"\u001b[39m\u001b[38;5;124mInterrupted by user\u001b[39m\u001b[38;5;124m\"\u001b[39m\n\u001b[0;32m-> 1234\u001b[0m     \u001b[38;5;28;01mraise\u001b[39;00m \u001b[38;5;167;01mKeyboardInterrupt\u001b[39;00m(msg) \u001b[38;5;28;01mfrom\u001b[39;00m \u001b[38;5;28;01mNone\u001b[39;00m\n\u001b[1;32m   1235\u001b[0m \u001b[38;5;28;01mexcept\u001b[39;00m \u001b[38;5;167;01mException\u001b[39;00m:\n\u001b[1;32m   1236\u001b[0m     \u001b[38;5;28mself\u001b[39m\u001b[38;5;241m.\u001b[39mlog\u001b[38;5;241m.\u001b[39mwarning(\u001b[38;5;124m\"\u001b[39m\u001b[38;5;124mInvalid Message:\u001b[39m\u001b[38;5;124m\"\u001b[39m, exc_info\u001b[38;5;241m=\u001b[39m\u001b[38;5;28;01mTrue\u001b[39;00m)\n",
      "\u001b[0;31mKeyboardInterrupt\u001b[0m: Interrupted by user"
     ]
    }
   ],
   "source": [
    "context = 2\n",
    "data = []\n",
    "\n",
    "for rec in vcf_file.fetch():\n",
    "    # Get the sequence context around the variant\n",
    "    reference_fasta = pysam.FastaFile(reference_f_path+\"chr\"+str(rec.chrom)+\".fa\")\n",
    "    seq_context = reference_fasta.fetch(\"chr\"+rec.chrom, rec.pos - 1 - context, rec.pos + context)\n",
    "\n",
    "    # Replace the reference allele with the alternative allele\n",
    "    alt_seq_context = seq_context[:context] + str(rec.alts[0]) + seq_context[context + len(rec.ref):]\n",
    "\n",
    "    print('Reference Allele and alterna', rec.ref , rec.alts)\n",
    "    print('Position:', rec.pos)\n",
    "    print(\"ID\", rec.id)\n",
    "    data.append([rec.chrom, rec.pos, rec.id, seq_context, alt_seq_context])"
   ]
  },
  {
   "cell_type": "code",
   "execution_count": null,
   "id": "a2dc6cd7-bc38-424f-83ea-d2127b356f78",
   "metadata": {},
   "outputs": [],
   "source": [
    "# Create a dataframe from your data\n",
    "df_APOE = pd.DataFrame(data, columns=[\"CHROMOSOME\", \"POS\",'ID', 'REFERENCE_SEQUENCE', 'ALTERNATIVE_SEQUENCE'])\n",
    "df_APOE"
   ]
  },
  {
   "cell_type": "code",
   "execution_count": null,
   "id": "c726d49d-692b-4515-adfd-5e0dd76cd58d",
   "metadata": {},
   "outputs": [],
   "source": [
    "data= []\n",
    "for rec in vcf.fetch():\n",
    "    for sample in rec.samples:\n",
    "        sample_data = rec.samples[sample]\n",
    "        data.append([rec.chrom, rec.pos, rec.id, rec.ref, ','.join(rec.alts), rec.qual,\n",
    "                     ';'.join(rec.filter.keys()), dict(rec.info), sample, sample_data['GT']])\n",
    "\n",
    "# Create a pandas DataFrame from the data\n",
    "df = pd.DataFrame(data, columns=['CHROM', 'POS', 'ID', 'REF', 'ALT', 'QUAL', 'FILTER', 'INFO', 'SAMPLE', 'GT'])\n"
   ]
  },
  {
   "cell_type": "code",
   "execution_count": null,
   "id": "7413e7a5-7ae2-4084-8af4-fd4ddbfd3855",
   "metadata": {},
   "outputs": [],
   "source": [
    "df"
   ]
  },
  {
   "cell_type": "code",
   "execution_count": null,
   "id": "005f48ed-f5b8-4f0e-ac2f-70611f647914",
   "metadata": {},
   "outputs": [],
   "source": [
    "df[df[\"SAMPLE\"]==\"A-ACT-AC000007-BL-UPN-6888\"]"
   ]
  },
  {
   "cell_type": "code",
   "execution_count": null,
   "id": "203798aa-b67e-4807-be1f-0b806509c2ab",
   "metadata": {},
   "outputs": [],
   "source": []
  },
  {
   "cell_type": "code",
   "execution_count": null,
   "id": "ea5a3503-75b6-4c68-94bc-5abd48cacf78",
   "metadata": {},
   "outputs": [],
   "source": [
    "fasta.fetch('chr19', 10, 20)"
   ]
  },
  {
   "cell_type": "code",
   "execution_count": null,
   "id": "8089f3c9-ff79-448c-b939-0710594098a4",
   "metadata": {},
   "outputs": [],
   "source": []
  },
  {
   "cell_type": "code",
   "execution_count": null,
   "id": "ca493bfc-6066-4518-b2fd-c4758788b6aa",
   "metadata": {},
   "outputs": [],
   "source": [
    "def get_flanking_sequence(fasta, chrom, position, flanking_bp):\n",
    "    start = max(0, position - flanking_bp - 1)\n",
    "    end = position + flanking_bp\n",
    "    seq = fasta.fetch(chrom, start, end)\n",
    "    return seq"
   ]
  },
  {
   "cell_type": "code",
   "execution_count": null,
   "id": "af817cf2-bd1d-4f08-ad6c-684fc7edc4ce",
   "metadata": {},
   "outputs": [],
   "source": [
    "# replace with your files\n",
    "vcf_filename = file_path\n",
    "reference_fasta_path = \"/data/projects/Resources/HumanReferenceGenome/chr19.fa\""
   ]
  },
  {
   "cell_type": "code",
   "execution_count": null,
   "id": "2e96f6b1-0bda-452b-a792-4f3c2da7023e",
   "metadata": {},
   "outputs": [],
   "source": [
    "vcf = pysam.VariantFile(vcf_filename)\n",
    "fasta = pysam.FastaFile(reference_fasta_path)\n",
    "flanking_bp = 20\n",
    "\n",
    "for rec in vcf:\n",
    "    ref_seq = rec.ref\n",
    "    alt_seq = rec.alts[0] # assuming there is always at least one alternate allele\n",
    "    seq = get_flanking_sequence(fasta, \"chr\"+rec.chrom, rec.pos, flanking_bp)\n",
    "\n",
    "    print(f'Position: {rec.pos}')\n",
    "    print(f'Reference allele: {ref_seq}')\n",
    "    print(f'Alternate allele: {alt_seq}')\n",
    "    print(f'Flanking sequence: {seq}')\n",
    "    input()"
   ]
  },
  {
   "cell_type": "code",
   "execution_count": null,
   "id": "ad0a1c8d-091d-4b7d-8a33-a892255ef8f7",
   "metadata": {},
   "outputs": [],
   "source": [
    "vcf = pysam.VariantFile(vcf_filename)\n",
    "fasta = pysam.FastaFile(reference_fasta_path)\n",
    "flanking_bp = 20\n",
    "\n",
    "for rec in vcf:\n",
    "    for sample in rec.samples:\n",
    "        genotype = rec.samples[sample]['GT']\n",
    "        if genotype is None:  # genotype information not available for this sample\n",
    "            continue\n",
    "        alleles = [rec.ref] + list(rec.alts) if rec.alts else [rec.ref]\n",
    "        sample_alleles = [alleles[gt] for gt in genotype if gt is not None]\n",
    "\n",
    "        print(f'Sample: {sample}')\n",
    "        print(f'Genotype: {sample_alleles}')\n",
    "\n",
    "        for allele in sample_alleles:\n",
    "            seq = get_flanking_sequence(fasta, \"chr\"rec.chrom, rec.pos, flanking_bp)\n",
    "            print(f'Position: {rec.pos}')\n",
    "            print(f'Allele: {allele}')\n",
    "            print(f'Flanking sequence: {seq}')\n",
    "            input()"
   ]
  },
  {
   "cell_type": "code",
   "execution_count": null,
   "id": "4f0f3d00-1b8d-4cd1-b0aa-28030eb77fd6",
   "metadata": {},
   "outputs": [],
   "source": []
  },
  {
   "cell_type": "code",
   "execution_count": null,
   "id": "9c2f0c33-39d5-448c-b515-fdd446c0db6b",
   "metadata": {},
   "outputs": [],
   "source": []
  },
  {
   "cell_type": "code",
   "execution_count": null,
   "id": "37f40327-e408-410b-9697-23eb963a1ad9",
   "metadata": {},
   "outputs": [],
   "source": []
  },
  {
   "cell_type": "code",
   "execution_count": null,
   "id": "5904fba9-1ab9-40fb-a65c-f797b3ebc26a",
   "metadata": {},
   "outputs": [],
   "source": []
  },
  {
   "cell_type": "code",
   "execution_count": null,
   "id": "d13c7189-cb01-4c94-84a5-0490f82a5b6d",
   "metadata": {},
   "outputs": [],
   "source": [
    "df_test.columns.to_list()"
   ]
  },
  {
   "cell_type": "code",
   "execution_count": null,
   "id": "9104d7f5-0bda-41bc-8253-92a78042c8e7",
   "metadata": {},
   "outputs": [],
   "source": []
  }
 ],
 "metadata": {
  "kernelspec": {
   "display_name": "Python 3 (ipykernel)",
   "language": "python",
   "name": "python3"
  },
  "language_info": {
   "codemirror_mode": {
    "name": "ipython",
    "version": 3
   },
   "file_extension": ".py",
   "mimetype": "text/x-python",
   "name": "python",
   "nbconvert_exporter": "python",
   "pygments_lexer": "ipython3",
   "version": "3.10.11"
  }
 },
 "nbformat": 4,
 "nbformat_minor": 5
}
