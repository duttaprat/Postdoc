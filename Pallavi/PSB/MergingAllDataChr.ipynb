{
 "cells": [
  {
   "cell_type": "code",
   "execution_count": 6,
   "id": "965e1288-5073-4726-8518-b723166d47bd",
   "metadata": {},
   "outputs": [],
   "source": [
    "import pandas as pd\n",
    "import os"
   ]
  },
  {
   "cell_type": "code",
   "execution_count": 5,
   "id": "870cb8e6-8f69-4e4c-a4d9-78128a842d75",
   "metadata": {},
   "outputs": [],
   "source": [
    "input_DBSNP_path = \"/data/private/pdutta/VCF_data/Merged_DBSNP_Chrwise/\"\n",
    "input_Transcript_path = \"/data/private/pdutta/VCF_data/MergedTransVCF/\"\n",
    "output_path = \"/data/private/pdutta/VCF_data/MergedAllData/\""
   ]
  },
  {
   "cell_type": "code",
   "execution_count": 23,
   "id": "b8fcdb53-bc8a-4073-bf1b-bf55e2fe0369",
   "metadata": {},
   "outputs": [],
   "source": [
    "output_files_generated = os.listdir(output_path)"
   ]
  },
  {
   "cell_type": "code",
   "execution_count": 25,
   "id": "02142b28-eca7-4b59-a02b-59a991593136",
   "metadata": {},
   "outputs": [
    {
     "data": {
      "text/plain": [
       "['chr4', 'chr18', 'chr2', 'chr17']"
      ]
     },
     "execution_count": 25,
     "metadata": {},
     "output_type": "execute_result"
    }
   ],
   "source": [
    "output_files_generated = [file.split(\"_\")[0] for file in output_files_generated]\n",
    "output_files_generated"
   ]
  },
  {
   "cell_type": "code",
   "execution_count": null,
   "id": "18550136-a94b-4bd3-9cca-bc7d51b5b9ab",
   "metadata": {},
   "outputs": [],
   "source": []
  },
  {
   "cell_type": "code",
   "execution_count": 28,
   "id": "1476af7b-8050-4ed0-9531-4b55e9c938dd",
   "metadata": {},
   "outputs": [
    {
     "name": "stdout",
     "output_type": "stream",
     "text": [
      "Chromosome is processing : chr6\n"
     ]
    },
    {
     "name": "stderr",
     "output_type": "stream",
     "text": [
      "/tmp/ipykernel_951908/1699630084.py:6: DtypeWarning: Columns (23,24,28) have mixed types. Specify dtype option on import or set low_memory=False.\n",
      "  df_DBSNP = pd.read_csv(input_DBSNP_path+file_DBSNP, sep=\",\")\n"
     ]
    },
    {
     "name": "stdout",
     "output_type": "stream",
     "text": [
      "chr6_data_merged.csv loading done !!!\n",
      "merged_chr6.csv loading done !!!\n",
      "chr6_all_merged_data.csv is done !!!\n",
      "\n",
      "Chromosome is processing : chr16\n"
     ]
    },
    {
     "name": "stderr",
     "output_type": "stream",
     "text": [
      "/tmp/ipykernel_951908/1699630084.py:6: DtypeWarning: Columns (23,24,28) have mixed types. Specify dtype option on import or set low_memory=False.\n",
      "  df_DBSNP = pd.read_csv(input_DBSNP_path+file_DBSNP, sep=\",\")\n"
     ]
    },
    {
     "name": "stdout",
     "output_type": "stream",
     "text": [
      "chr16_data_merged.csv loading done !!!\n",
      "merged_chr16.csv loading done !!!\n",
      "chr16_all_merged_data.csv is done !!!\n",
      "\n",
      "Chromosome is processing : chr21\n"
     ]
    },
    {
     "name": "stderr",
     "output_type": "stream",
     "text": [
      "/tmp/ipykernel_951908/1699630084.py:6: DtypeWarning: Columns (23,24,28) have mixed types. Specify dtype option on import or set low_memory=False.\n",
      "  df_DBSNP = pd.read_csv(input_DBSNP_path+file_DBSNP, sep=\",\")\n"
     ]
    },
    {
     "name": "stdout",
     "output_type": "stream",
     "text": [
      "chr21_data_merged.csv loading done !!!\n",
      "merged_chr21.csv loading done !!!\n",
      "chr21_all_merged_data.csv is done !!!\n",
      "\n",
      "Chromosome is processing : chr19\n"
     ]
    },
    {
     "name": "stderr",
     "output_type": "stream",
     "text": [
      "/tmp/ipykernel_951908/1699630084.py:6: DtypeWarning: Columns (23,24,28) have mixed types. Specify dtype option on import or set low_memory=False.\n",
      "  df_DBSNP = pd.read_csv(input_DBSNP_path+file_DBSNP, sep=\",\")\n"
     ]
    },
    {
     "name": "stdout",
     "output_type": "stream",
     "text": [
      "chr19_data_merged.csv loading done !!!\n",
      "merged_chr19.csv loading done !!!\n",
      "chr19_all_merged_data.csv is done !!!\n",
      "\n",
      "Chromosome is processing : chr9\n"
     ]
    },
    {
     "name": "stderr",
     "output_type": "stream",
     "text": [
      "/tmp/ipykernel_951908/1699630084.py:6: DtypeWarning: Columns (23,24,28) have mixed types. Specify dtype option on import or set low_memory=False.\n",
      "  df_DBSNP = pd.read_csv(input_DBSNP_path+file_DBSNP, sep=\",\")\n"
     ]
    },
    {
     "name": "stdout",
     "output_type": "stream",
     "text": [
      "chr9_data_merged.csv loading done !!!\n",
      "merged_chr9.csv loading done !!!\n",
      "chr9_all_merged_data.csv is done !!!\n",
      "\n",
      "Chromosome is processing : chr10\n"
     ]
    },
    {
     "name": "stderr",
     "output_type": "stream",
     "text": [
      "/tmp/ipykernel_951908/1699630084.py:6: DtypeWarning: Columns (23,24,28) have mixed types. Specify dtype option on import or set low_memory=False.\n",
      "  df_DBSNP = pd.read_csv(input_DBSNP_path+file_DBSNP, sep=\",\")\n"
     ]
    },
    {
     "name": "stdout",
     "output_type": "stream",
     "text": [
      "chr10_data_merged.csv loading done !!!\n",
      "merged_chr10.csv loading done !!!\n",
      "chr10_all_merged_data.csv is done !!!\n",
      "\n",
      "Chromosome is processing : chr3\n"
     ]
    },
    {
     "name": "stderr",
     "output_type": "stream",
     "text": [
      "/tmp/ipykernel_951908/1699630084.py:6: DtypeWarning: Columns (23,24,28) have mixed types. Specify dtype option on import or set low_memory=False.\n",
      "  df_DBSNP = pd.read_csv(input_DBSNP_path+file_DBSNP, sep=\",\")\n"
     ]
    },
    {
     "name": "stdout",
     "output_type": "stream",
     "text": [
      "chr3_data_merged.csv loading done !!!\n",
      "merged_chr3.csv loading done !!!\n",
      "chr3_all_merged_data.csv is done !!!\n",
      "\n",
      "Chromosome is processing : chr13\n"
     ]
    },
    {
     "name": "stderr",
     "output_type": "stream",
     "text": [
      "/tmp/ipykernel_951908/1699630084.py:6: DtypeWarning: Columns (23,24,28) have mixed types. Specify dtype option on import or set low_memory=False.\n",
      "  df_DBSNP = pd.read_csv(input_DBSNP_path+file_DBSNP, sep=\",\")\n"
     ]
    },
    {
     "name": "stdout",
     "output_type": "stream",
     "text": [
      "chr13_data_merged.csv loading done !!!\n",
      "merged_chr13.csv loading done !!!\n",
      "chr13_all_merged_data.csv is done !!!\n",
      "\n",
      "Chromosome is processing : chr11\n"
     ]
    },
    {
     "name": "stderr",
     "output_type": "stream",
     "text": [
      "/tmp/ipykernel_951908/1699630084.py:6: DtypeWarning: Columns (23,24,28) have mixed types. Specify dtype option on import or set low_memory=False.\n",
      "  df_DBSNP = pd.read_csv(input_DBSNP_path+file_DBSNP, sep=\",\")\n"
     ]
    },
    {
     "name": "stdout",
     "output_type": "stream",
     "text": [
      "chr11_data_merged.csv loading done !!!\n",
      "merged_chr11.csv loading done !!!\n",
      "chr11_all_merged_data.csv is done !!!\n",
      "\n",
      "Chromosome is processing : chr15\n"
     ]
    },
    {
     "name": "stderr",
     "output_type": "stream",
     "text": [
      "/tmp/ipykernel_951908/1699630084.py:6: DtypeWarning: Columns (23,24,28) have mixed types. Specify dtype option on import or set low_memory=False.\n",
      "  df_DBSNP = pd.read_csv(input_DBSNP_path+file_DBSNP, sep=\",\")\n"
     ]
    },
    {
     "name": "stdout",
     "output_type": "stream",
     "text": [
      "chr15_data_merged.csv loading done !!!\n",
      "merged_chr15.csv loading done !!!\n",
      "chr15_all_merged_data.csv is done !!!\n",
      "\n",
      "Chromosome is processing : chr8\n"
     ]
    },
    {
     "name": "stderr",
     "output_type": "stream",
     "text": [
      "/tmp/ipykernel_951908/1699630084.py:6: DtypeWarning: Columns (23,24,28) have mixed types. Specify dtype option on import or set low_memory=False.\n",
      "  df_DBSNP = pd.read_csv(input_DBSNP_path+file_DBSNP, sep=\",\")\n"
     ]
    },
    {
     "name": "stdout",
     "output_type": "stream",
     "text": [
      "chr8_data_merged.csv loading done !!!\n",
      "merged_chr8.csv loading done !!!\n",
      "chr8_all_merged_data.csv is done !!!\n",
      "\n",
      "Chromosome is processing : chr7\n"
     ]
    },
    {
     "name": "stderr",
     "output_type": "stream",
     "text": [
      "/tmp/ipykernel_951908/1699630084.py:6: DtypeWarning: Columns (23,24,28) have mixed types. Specify dtype option on import or set low_memory=False.\n",
      "  df_DBSNP = pd.read_csv(input_DBSNP_path+file_DBSNP, sep=\",\")\n"
     ]
    },
    {
     "name": "stdout",
     "output_type": "stream",
     "text": [
      "chr7_data_merged.csv loading done !!!\n",
      "merged_chr7.csv loading done !!!\n",
      "chr7_all_merged_data.csv is done !!!\n",
      "\n",
      "Chromosome is processing : chr14\n"
     ]
    },
    {
     "name": "stderr",
     "output_type": "stream",
     "text": [
      "/tmp/ipykernel_951908/1699630084.py:6: DtypeWarning: Columns (23,24,28) have mixed types. Specify dtype option on import or set low_memory=False.\n",
      "  df_DBSNP = pd.read_csv(input_DBSNP_path+file_DBSNP, sep=\",\")\n"
     ]
    },
    {
     "name": "stdout",
     "output_type": "stream",
     "text": [
      "chr14_data_merged.csv loading done !!!\n",
      "merged_chr14.csv loading done !!!\n",
      "chr14_all_merged_data.csv is done !!!\n",
      "\n",
      "Chromosome is processing : chrY\n"
     ]
    },
    {
     "name": "stderr",
     "output_type": "stream",
     "text": [
      "/tmp/ipykernel_951908/1699630084.py:6: DtypeWarning: Columns (23,24,28) have mixed types. Specify dtype option on import or set low_memory=False.\n",
      "  df_DBSNP = pd.read_csv(input_DBSNP_path+file_DBSNP, sep=\",\")\n"
     ]
    },
    {
     "name": "stdout",
     "output_type": "stream",
     "text": [
      "chrY_data_merged.csv loading done !!!\n",
      "merged_chrY.csv loading done !!!\n",
      "chrY_all_merged_data.csv is done !!!\n",
      "\n",
      "Chromosome is processing : chr22\n"
     ]
    },
    {
     "name": "stderr",
     "output_type": "stream",
     "text": [
      "/tmp/ipykernel_951908/1699630084.py:6: DtypeWarning: Columns (23,24,28) have mixed types. Specify dtype option on import or set low_memory=False.\n",
      "  df_DBSNP = pd.read_csv(input_DBSNP_path+file_DBSNP, sep=\",\")\n"
     ]
    },
    {
     "name": "stdout",
     "output_type": "stream",
     "text": [
      "chr22_data_merged.csv loading done !!!\n",
      "merged_chr22.csv loading done !!!\n",
      "chr22_all_merged_data.csv is done !!!\n",
      "\n",
      "Chromosome is processing : chr20\n"
     ]
    },
    {
     "name": "stderr",
     "output_type": "stream",
     "text": [
      "/tmp/ipykernel_951908/1699630084.py:6: DtypeWarning: Columns (23,24,28) have mixed types. Specify dtype option on import or set low_memory=False.\n",
      "  df_DBSNP = pd.read_csv(input_DBSNP_path+file_DBSNP, sep=\",\")\n"
     ]
    },
    {
     "name": "stdout",
     "output_type": "stream",
     "text": [
      "chr20_data_merged.csv loading done !!!\n",
      "merged_chr20.csv loading done !!!\n",
      "chr20_all_merged_data.csv is done !!!\n",
      "\n",
      "Chromosome is processing : chrX\n"
     ]
    },
    {
     "name": "stderr",
     "output_type": "stream",
     "text": [
      "/tmp/ipykernel_951908/1699630084.py:6: DtypeWarning: Columns (23,24,28) have mixed types. Specify dtype option on import or set low_memory=False.\n",
      "  df_DBSNP = pd.read_csv(input_DBSNP_path+file_DBSNP, sep=\",\")\n"
     ]
    },
    {
     "name": "stdout",
     "output_type": "stream",
     "text": [
      "chrX_data_merged.csv loading done !!!\n",
      "merged_chrX.csv loading done !!!\n",
      "chrX_all_merged_data.csv is done !!!\n",
      "\n",
      "Chromosome is processing : chr5\n"
     ]
    },
    {
     "name": "stderr",
     "output_type": "stream",
     "text": [
      "/tmp/ipykernel_951908/1699630084.py:6: DtypeWarning: Columns (23,24,28) have mixed types. Specify dtype option on import or set low_memory=False.\n",
      "  df_DBSNP = pd.read_csv(input_DBSNP_path+file_DBSNP, sep=\",\")\n"
     ]
    },
    {
     "name": "stdout",
     "output_type": "stream",
     "text": [
      "chr5_data_merged.csv loading done !!!\n",
      "merged_chr5.csv loading done !!!\n"
     ]
    },
    {
     "name": "stderr",
     "output_type": "stream",
     "text": [
      "IOStream.flush timed out\n"
     ]
    },
    {
     "name": "stdout",
     "output_type": "stream",
     "text": [
      "chr5_all_merged_data.csv is done !!!\n",
      "\n",
      "Chromosome is processing : chr1\n"
     ]
    },
    {
     "name": "stderr",
     "output_type": "stream",
     "text": [
      "/tmp/ipykernel_951908/1699630084.py:6: DtypeWarning: Columns (23,24,28) have mixed types. Specify dtype option on import or set low_memory=False.\n",
      "  df_DBSNP = pd.read_csv(input_DBSNP_path+file_DBSNP, sep=\",\")\n"
     ]
    },
    {
     "name": "stdout",
     "output_type": "stream",
     "text": [
      "chr1_data_merged.csv loading done !!!\n",
      "merged_chr1.csv loading done !!!\n",
      "chr1_all_merged_data.csv is done !!!\n",
      "\n",
      "Chromosome is processing : chr12\n"
     ]
    },
    {
     "name": "stderr",
     "output_type": "stream",
     "text": [
      "/tmp/ipykernel_951908/1699630084.py:6: DtypeWarning: Columns (23,24,28) have mixed types. Specify dtype option on import or set low_memory=False.\n",
      "  df_DBSNP = pd.read_csv(input_DBSNP_path+file_DBSNP, sep=\",\")\n"
     ]
    },
    {
     "name": "stdout",
     "output_type": "stream",
     "text": [
      "chr12_data_merged.csv loading done !!!\n",
      "merged_chr12.csv loading done !!!\n",
      "chr12_all_merged_data.csv is done !!!\n",
      "\n"
     ]
    }
   ],
   "source": [
    "for file_DBSNP in os.listdir(input_DBSNP_path) :\n",
    "    if file_DBSNP.endswith('.csv'):\n",
    "        if file_DBSNP.split('_')[0] not in output_files_generated:\n",
    "            print(\"Chromosome is processing :\", file_DBSNP.split('_')[0])\n",
    "            trans_filename = 'merged_'+file_DBSNP.split('_')[0]+'.csv'\n",
    "            df_DBSNP = pd.read_csv(input_DBSNP_path+file_DBSNP, sep=\",\")\n",
    "            print(file_DBSNP, \"loading done !!!\")\n",
    "            df_Transcript = pd.read_csv(input_Transcript_path+trans_filename, sep=\",\")\n",
    "            print(trans_filename, \"loading done !!!\")\n",
    "\n",
    "\n",
    "            # Expand the comma-separated mutations into separate rows\n",
    "            df_Transcript = df_Transcript.assign(mutations=df_Transcript['mutations'].str.split(',')).explode('mutations')\n",
    "\n",
    "            # Trim leading and trailing whitespaces\n",
    "            df_Transcript['mutations'] = df_Transcript['mutations'].str.strip()\n",
    "\n",
    "            # Now merge the dataframes on 'name' from df1 and 'mutations' from df2\n",
    "            final_df = pd.merge(df_DBSNP, df_Transcript, left_on='name', right_on='mutations', how='inner')\n",
    "            print(file_DBSNP.split('_')[0]+\"_all_merged_data.csv is done !!!\\n\")\n",
    "            final_df.to_csv(output_path+file_DBSNP.split('_')[0]+\"_all_merged_data.csv\", sep=\",\")"
   ]
  },
  {
   "cell_type": "code",
   "execution_count": null,
   "id": "adc91ba7-377f-42b7-88ae-208f373ffe72",
   "metadata": {},
   "outputs": [],
   "source": []
  }
 ],
 "metadata": {
  "kernelspec": {
   "display_name": "Python 3 (ipykernel)",
   "language": "python",
   "name": "python3"
  },
  "language_info": {
   "codemirror_mode": {
    "name": "ipython",
    "version": 3
   },
   "file_extension": ".py",
   "mimetype": "text/x-python",
   "name": "python",
   "nbconvert_exporter": "python",
   "pygments_lexer": "ipython3",
   "version": "3.10.11"
  }
 },
 "nbformat": 4,
 "nbformat_minor": 5
}
