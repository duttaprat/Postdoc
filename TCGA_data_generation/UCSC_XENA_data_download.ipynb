{
 "cells": [
  {
   "cell_type": "code",
   "execution_count": 1,
   "id": "0aeeed2c-5c6e-4b87-acae-6f2e5155b310",
   "metadata": {},
   "outputs": [],
   "source": [
    "import os\n",
    "import pandas as pd\n",
    "import numpy as np\n",
    "import pickle"
   ]
  },
  {
   "cell_type": "code",
   "execution_count": 2,
   "id": "a7ad5834-4194-44ef-8fb5-f4c6f13a1eef",
   "metadata": {},
   "outputs": [
    {
     "name": "stderr",
     "output_type": "stream",
     "text": [
      "/home/pdutta/anaconda3/envs/dgcca/lib/python3.7/site-packages/xenaPython/__init__.py:110: FutureWarning: Possible nested set at position 7\n",
      "  re.sub(r\"^[^[]+[[]([^]]*)[]].*$\", r\"\\1\", query, flags=re.DOTALL))\n"
     ]
    }
   ],
   "source": [
    "import xenaPython as xena"
   ]
  },
  {
   "cell_type": "code",
   "execution_count": 3,
   "id": "61caf210-dc29-44ad-982b-a80282efa8ab",
   "metadata": {},
   "outputs": [
    {
     "data": {
      "text/plain": [
       "{'publicHub': 'https://ucscpublic.xenahubs.net',\n",
       " 'tcgaHub': 'https://tcga.xenahubs.net',\n",
       " 'icgcHub': 'https://icgc.xenahubs.net',\n",
       " 'toilHub': 'https://toil.xenahubs.net',\n",
       " 'pcawgHub': 'https://pcawg.xenahubs.net',\n",
       " 'singlecellHub': 'https://singlecell.xenahubs.net',\n",
       " 'pancanAtlasHub': 'https://pancanatlas.xenahubs.net',\n",
       " 'treehouseHub': 'https://xena.treehouse.gi.ucsc.edu',\n",
       " 'gdcHub': 'https://gdc.xenahubs.net',\n",
       " 'reference': 'https://reference.xenahubs.net'}"
      ]
     },
     "execution_count": 3,
     "metadata": {},
     "output_type": "execute_result"
    }
   ],
   "source": [
    "xena.PUBLIC_HUBS"
   ]
  },
  {
   "cell_type": "code",
   "execution_count": 4,
   "id": "703e8db3-5ac1-4ee6-886a-207dd5c1d3a6",
   "metadata": {},
   "outputs": [],
   "source": [
    "CANCER= \"OV\"\n",
    "host = xena.PUBLIC_HUBS['tcgaHub']\n",
    "survival_dataset = 'survival/{}_survival.txt'.format(CANCER)\n",
    "mirna_view = \"TCGA.{}.sampleMap/miRNA_HiSeq_gene\".format(CANCER)\n",
    "methyl_view1 = \"TCGA.{}.sampleMap/HumanMethylation27\".format(CANCER)\n",
    "methyl_view2 = \"TCGA.{}.sampleMap/HumanMethylation450\".format(CANCER)\n",
    "copy_number_view = \"TCGA.{}.sampleMap/Gistic2_CopyNumber_Gistic2_all_data_by_genes\".format(CANCER)"
   ]
  },
  {
   "cell_type": "code",
   "execution_count": 5,
   "id": "5dc78687-4f9e-45ee-a743-4b00a1e48175",
   "metadata": {},
   "outputs": [],
   "source": [
    "output_path = \"/home/pdutta/Data/DGCCA/TCGA_DATA/TCGA_{}/\".format(CANCER)"
   ]
  },
  {
   "cell_type": "code",
   "execution_count": 6,
   "id": "d76b3140-6b13-4c78-9be6-c9d9b744b915",
   "metadata": {},
   "outputs": [],
   "source": [
    "survival_samples = xena.dataset_samples (host, survival_dataset, None)"
   ]
  },
  {
   "cell_type": "code",
   "execution_count": 7,
   "id": "4292667e-8b89-43c1-855f-6fe843e48379",
   "metadata": {},
   "outputs": [
    {
     "data": {
      "text/plain": [
       "'/home/pdutta/Data/DGCCA/TCGA_DATA/TCGA_OV/'"
      ]
     },
     "execution_count": 7,
     "metadata": {},
     "output_type": "execute_result"
    }
   ],
   "source": [
    "output_path"
   ]
  },
  {
   "cell_type": "code",
   "execution_count": 8,
   "id": "163c6343-18c9-4f8f-a802-e747dd2719b5",
   "metadata": {},
   "outputs": [
    {
     "data": {
      "text/plain": [
       "604"
      ]
     },
     "execution_count": 8,
     "metadata": {},
     "output_type": "execute_result"
    }
   ],
   "source": [
    "len(survival_samples)"
   ]
  },
  {
   "cell_type": "code",
   "execution_count": 9,
   "id": "f02d5376-c396-4e82-a05b-55b487ffd26d",
   "metadata": {},
   "outputs": [
    {
     "name": "stdout",
     "output_type": "stream",
     "text": [
      "TCGA.OV.sampleMap/HumanMethylation27\n",
      "(616, 21667)\n",
      "TCGA.OV.sampleMap/HumanMethylation450\n",
      "(10, 395576)\n",
      "626\n"
     ]
    }
   ],
   "source": [
    "result = set()\n",
    "for dataset in [methyl_view1, methyl_view2]:\n",
    "    print(dataset)\n",
    "    samples = xena.dataset_samples (host, dataset, None)\n",
    "    features = xena.dataset_field(host, dataset)\n",
    "    result = result.union(set(samples))\n",
    "    list1 = xena.dataset_fetch(host, dataset, samples, features)\n",
    "    list_without_nan= [x for x in list1 if 'NaN' not in x]\n",
    "    tran_list = list(map(list, zip(*list_without_nan)))\n",
    "    feature = np.array([np.array(xi) for xi in tran_list])\n",
    "    print(feature.shape)\n",
    "print(len(result))"
   ]
  },
  {
   "cell_type": "code",
   "execution_count": 10,
   "id": "1bb30b4d-aeeb-4691-9963-4ab9a200d87c",
   "metadata": {},
   "outputs": [
    {
     "name": "stdout",
     "output_type": "stream",
     "text": [
      "TCGA.OV.sampleMap/miRNA_HiSeq_gene\n",
      "(485, 211) 485\n",
      "TCGA.OV.sampleMap/Gistic2_CopyNumber_Gistic2_all_data_by_genes\n",
      "(579, 24777) 579\n",
      "TCGA.OV.sampleMap/HumanMethylation27\n",
      "(616, 21667) 616\n",
      "627\n"
     ]
    }
   ],
   "source": [
    "result = set()\n",
    "view_list = [mirna_view, copy_number_view, methyl_view1]\n",
    "feature_lists =[]\n",
    "for dataset in view_list:\n",
    "    print(dataset)\n",
    "    samples = xena.dataset_samples (host, dataset, None)\n",
    "    features = xena.dataset_field(host, dataset)\n",
    "    result = result.union(set(samples))\n",
    "    list1 = xena.dataset_fetch(host, dataset, samples, features)\n",
    "    list_without_nan= [x for x in list1 if 'NaN' not in x]\n",
    "    tran_list = list(map(list, zip(*list_without_nan)))\n",
    "    feature = np.array([np.array(xi) for xi in tran_list])\n",
    "    print(feature.shape, len(samples))\n",
    "    #print(globals()['df_%s_features' % dataset])\n",
    "    temp_df = pd.DataFrame(tran_list)\n",
    "    temp_df['sample'] = samples\n",
    "    temp_df = temp_df.set_index(['sample'])\n",
    "    feature_lists.append(temp_df)\n",
    "print(len(result))"
   ]
  },
  {
   "cell_type": "code",
   "execution_count": 11,
   "id": "d8afe687-870d-42d6-bf79-8c3c5afd8c2d",
   "metadata": {},
   "outputs": [
    {
     "name": "stdout",
     "output_type": "stream",
     "text": [
      "604\n"
     ]
    }
   ],
   "source": [
    "common_samples = set(survival_samples).intersection(result)\n",
    "print(len(common_samples))\n",
    "df_survival = pd.DataFrame(survival_samples, columns = ['sample'])\n",
    "df_survival.to_csv(output_path+\"id_mapping.tsv\", sep= \"\\t\", index=False)"
   ]
  },
  {
   "cell_type": "code",
   "execution_count": 18,
   "id": "88ee8fa8-b9ba-457d-b4d6-acfb675f08f5",
   "metadata": {},
   "outputs": [
    {
     "data": {
      "text/html": [
       "<div>\n",
       "<style scoped>\n",
       "    .dataframe tbody tr th:only-of-type {\n",
       "        vertical-align: middle;\n",
       "    }\n",
       "\n",
       "    .dataframe tbody tr th {\n",
       "        vertical-align: top;\n",
       "    }\n",
       "\n",
       "    .dataframe thead th {\n",
       "        text-align: right;\n",
       "    }\n",
       "</style>\n",
       "<table border=\"1\" class=\"dataframe\">\n",
       "  <thead>\n",
       "    <tr style=\"text-align: right;\">\n",
       "      <th></th>\n",
       "      <th>0</th>\n",
       "      <th>1</th>\n",
       "      <th>2</th>\n",
       "      <th>3</th>\n",
       "      <th>4</th>\n",
       "      <th>5</th>\n",
       "      <th>6</th>\n",
       "      <th>7</th>\n",
       "      <th>8</th>\n",
       "      <th>9</th>\n",
       "      <th>...</th>\n",
       "      <th>201</th>\n",
       "      <th>202</th>\n",
       "      <th>203</th>\n",
       "      <th>204</th>\n",
       "      <th>205</th>\n",
       "      <th>206</th>\n",
       "      <th>207</th>\n",
       "      <th>208</th>\n",
       "      <th>209</th>\n",
       "      <th>210</th>\n",
       "    </tr>\n",
       "    <tr>\n",
       "      <th>sample</th>\n",
       "      <th></th>\n",
       "      <th></th>\n",
       "      <th></th>\n",
       "      <th></th>\n",
       "      <th></th>\n",
       "      <th></th>\n",
       "      <th></th>\n",
       "      <th></th>\n",
       "      <th></th>\n",
       "      <th></th>\n",
       "      <th></th>\n",
       "      <th></th>\n",
       "      <th></th>\n",
       "      <th></th>\n",
       "      <th></th>\n",
       "      <th></th>\n",
       "      <th></th>\n",
       "      <th></th>\n",
       "      <th></th>\n",
       "      <th></th>\n",
       "      <th></th>\n",
       "    </tr>\n",
       "  </thead>\n",
       "  <tbody>\n",
       "    <tr>\n",
       "      <th>TCGA-61-1910-01</th>\n",
       "      <td>17.26</td>\n",
       "      <td>16.40</td>\n",
       "      <td>14.40</td>\n",
       "      <td>10.250</td>\n",
       "      <td>12.21</td>\n",
       "      <td>13.02</td>\n",
       "      <td>6.837</td>\n",
       "      <td>8.848</td>\n",
       "      <td>8.019</td>\n",
       "      <td>12.48</td>\n",
       "      <td>...</td>\n",
       "      <td>4.221</td>\n",
       "      <td>3.247</td>\n",
       "      <td>2.821</td>\n",
       "      <td>4.643</td>\n",
       "      <td>2.913</td>\n",
       "      <td>3.458</td>\n",
       "      <td>4.228</td>\n",
       "      <td>4.060</td>\n",
       "      <td>6.544</td>\n",
       "      <td>0</td>\n",
       "    </tr>\n",
       "    <tr>\n",
       "      <th>TCGA-61-1728-01</th>\n",
       "      <td>17.28</td>\n",
       "      <td>17.37</td>\n",
       "      <td>15.04</td>\n",
       "      <td>8.672</td>\n",
       "      <td>11.93</td>\n",
       "      <td>11.57</td>\n",
       "      <td>6.433</td>\n",
       "      <td>7.059</td>\n",
       "      <td>8.146</td>\n",
       "      <td>12.36</td>\n",
       "      <td>...</td>\n",
       "      <td>5.053</td>\n",
       "      <td>5.700</td>\n",
       "      <td>2.671</td>\n",
       "      <td>6.325</td>\n",
       "      <td>3.496</td>\n",
       "      <td>4.338</td>\n",
       "      <td>3.978</td>\n",
       "      <td>4.775</td>\n",
       "      <td>4.018</td>\n",
       "      <td>1</td>\n",
       "    </tr>\n",
       "    <tr>\n",
       "      <th>TCGA-31-1953-01</th>\n",
       "      <td>16.98</td>\n",
       "      <td>15.94</td>\n",
       "      <td>16.02</td>\n",
       "      <td>9.540</td>\n",
       "      <td>12.82</td>\n",
       "      <td>12.88</td>\n",
       "      <td>8.403</td>\n",
       "      <td>8.294</td>\n",
       "      <td>8.100</td>\n",
       "      <td>14.22</td>\n",
       "      <td>...</td>\n",
       "      <td>4.949</td>\n",
       "      <td>5.620</td>\n",
       "      <td>4.836</td>\n",
       "      <td>6.879</td>\n",
       "      <td>4.714</td>\n",
       "      <td>4.700</td>\n",
       "      <td>4.849</td>\n",
       "      <td>2.944</td>\n",
       "      <td>4.862</td>\n",
       "      <td>2</td>\n",
       "    </tr>\n",
       "    <tr>\n",
       "      <th>TCGA-31-1951-01</th>\n",
       "      <td>17.05</td>\n",
       "      <td>16.89</td>\n",
       "      <td>14.50</td>\n",
       "      <td>9.496</td>\n",
       "      <td>13.40</td>\n",
       "      <td>11.57</td>\n",
       "      <td>6.824</td>\n",
       "      <td>8.038</td>\n",
       "      <td>8.358</td>\n",
       "      <td>13.28</td>\n",
       "      <td>...</td>\n",
       "      <td>4.614</td>\n",
       "      <td>5.085</td>\n",
       "      <td>3.820</td>\n",
       "      <td>6.469</td>\n",
       "      <td>7.934</td>\n",
       "      <td>4.402</td>\n",
       "      <td>5.470</td>\n",
       "      <td>4.177</td>\n",
       "      <td>4.921</td>\n",
       "      <td>3</td>\n",
       "    </tr>\n",
       "    <tr>\n",
       "      <th>TCGA-24-1552-01</th>\n",
       "      <td>16.68</td>\n",
       "      <td>16.56</td>\n",
       "      <td>14.94</td>\n",
       "      <td>9.015</td>\n",
       "      <td>11.07</td>\n",
       "      <td>10.91</td>\n",
       "      <td>7.762</td>\n",
       "      <td>6.741</td>\n",
       "      <td>7.770</td>\n",
       "      <td>11.35</td>\n",
       "      <td>...</td>\n",
       "      <td>4.567</td>\n",
       "      <td>5.970</td>\n",
       "      <td>4.801</td>\n",
       "      <td>6.460</td>\n",
       "      <td>4.932</td>\n",
       "      <td>3.221</td>\n",
       "      <td>5.703</td>\n",
       "      <td>4.260</td>\n",
       "      <td>2.470</td>\n",
       "      <td>4</td>\n",
       "    </tr>\n",
       "  </tbody>\n",
       "</table>\n",
       "<p>5 rows × 211 columns</p>\n",
       "</div>"
      ],
      "text/plain": [
       "                   0      1      2       3      4      5      6      7    \\\n",
       "sample                                                                     \n",
       "TCGA-61-1910-01  17.26  16.40  14.40  10.250  12.21  13.02  6.837  8.848   \n",
       "TCGA-61-1728-01  17.28  17.37  15.04   8.672  11.93  11.57  6.433  7.059   \n",
       "TCGA-31-1953-01  16.98  15.94  16.02   9.540  12.82  12.88  8.403  8.294   \n",
       "TCGA-31-1951-01  17.05  16.89  14.50   9.496  13.40  11.57  6.824  8.038   \n",
       "TCGA-24-1552-01  16.68  16.56  14.94   9.015  11.07  10.91  7.762  6.741   \n",
       "\n",
       "                   8      9    ...    201    202    203    204    205    206  \\\n",
       "sample                         ...                                             \n",
       "TCGA-61-1910-01  8.019  12.48  ...  4.221  3.247  2.821  4.643  2.913  3.458   \n",
       "TCGA-61-1728-01  8.146  12.36  ...  5.053  5.700  2.671  6.325  3.496  4.338   \n",
       "TCGA-31-1953-01  8.100  14.22  ...  4.949  5.620  4.836  6.879  4.714  4.700   \n",
       "TCGA-31-1951-01  8.358  13.28  ...  4.614  5.085  3.820  6.469  7.934  4.402   \n",
       "TCGA-24-1552-01  7.770  11.35  ...  4.567  5.970  4.801  6.460  4.932  3.221   \n",
       "\n",
       "                   207    208    209  210  \n",
       "sample                                     \n",
       "TCGA-61-1910-01  4.228  4.060  6.544    0  \n",
       "TCGA-61-1728-01  3.978  4.775  4.018    1  \n",
       "TCGA-31-1953-01  4.849  2.944  4.862    2  \n",
       "TCGA-31-1951-01  5.470  4.177  4.921    3  \n",
       "TCGA-24-1552-01  5.703  4.260  2.470    4  \n",
       "\n",
       "[5 rows x 211 columns]"
      ]
     },
     "execution_count": 18,
     "metadata": {},
     "output_type": "execute_result"
    }
   ],
   "source": [
    "feature_lists[0].head()"
   ]
  },
  {
   "cell_type": "code",
   "execution_count": 12,
   "id": "fd511687-79eb-45c9-a439-e51e4910350d",
   "metadata": {},
   "outputs": [],
   "source": [
    "df_survival = df_survival.set_index('sample')"
   ]
  },
  {
   "cell_type": "code",
   "execution_count": 17,
   "id": "8b5a78d1-e0e1-4c17-851b-1577deca989a",
   "metadata": {},
   "outputs": [
    {
     "name": "stdout",
     "output_type": "stream",
     "text": [
      "miRNA (485, 211)\n",
      "              sample    0    1    2    3    4    5    6    7    8  ...  201  \\\n",
      "0    TCGA-04-1331-01  0.0  0.0  0.0  0.0  0.0  0.0  0.0  0.0  0.0  ...  0.0   \n",
      "1    TCGA-04-1332-01  0.0  0.0  0.0  0.0  0.0  0.0  0.0  0.0  0.0  ...  0.0   \n",
      "2    TCGA-04-1335-01  0.0  0.0  0.0  0.0  0.0  0.0  0.0  0.0  0.0  ...  0.0   \n",
      "3    TCGA-04-1336-01  0.0  0.0  0.0  0.0  0.0  0.0  0.0  0.0  0.0  ...  0.0   \n",
      "4    TCGA-04-1337-01  0.0  0.0  0.0  0.0  0.0  0.0  0.0  0.0  0.0  ...  0.0   \n",
      "..               ...  ...  ...  ...  ...  ...  ...  ...  ...  ...  ...  ...   \n",
      "599  TCGA-61-2614-01  0.0  0.0  0.0  0.0  0.0  0.0  0.0  0.0  0.0  ...  0.0   \n",
      "600  TCGA-OY-A56P-01  0.0  0.0  0.0  0.0  0.0  0.0  0.0  0.0  0.0  ...  0.0   \n",
      "601  TCGA-OY-A56Q-01  0.0  0.0  0.0  0.0  0.0  0.0  0.0  0.0  0.0  ...  0.0   \n",
      "602  TCGA-VG-A8LO-01  0.0  0.0  0.0  0.0  0.0  0.0  0.0  0.0  0.0  ...  0.0   \n",
      "603  TCGA-WR-A838-01  0.0  0.0  0.0  0.0  0.0  0.0  0.0  0.0  0.0  ...  0.0   \n",
      "\n",
      "     202  203  204  205  206  207  208  209  210  \n",
      "0    0.0  0.0  0.0  0.0  0.0  0.0  0.0  0.0  0.0  \n",
      "1    0.0  0.0  0.0  0.0  0.0  0.0  0.0  0.0  0.0  \n",
      "2    0.0  0.0  0.0  0.0  0.0  0.0  0.0  0.0  0.0  \n",
      "3    0.0  0.0  0.0  0.0  0.0  0.0  0.0  0.0  0.0  \n",
      "4    0.0  0.0  0.0  0.0  0.0  0.0  0.0  0.0  0.0  \n",
      "..   ...  ...  ...  ...  ...  ...  ...  ...  ...  \n",
      "599  0.0  0.0  0.0  0.0  0.0  0.0  0.0  0.0  0.0  \n",
      "600  0.0  0.0  0.0  0.0  0.0  0.0  0.0  0.0  0.0  \n",
      "601  0.0  0.0  0.0  0.0  0.0  0.0  0.0  0.0  0.0  \n",
      "602  0.0  0.0  0.0  0.0  0.0  0.0  0.0  0.0  0.0  \n",
      "603  0.0  0.0  0.0  0.0  0.0  0.0  0.0  0.0  0.0  \n",
      "\n",
      "[604 rows x 212 columns]\n",
      "(604, 212)\n",
      "CopyNumber (579, 24777)\n",
      "              sample    0    1    2    3    4    5    6    7    8  ...  24767  \\\n",
      "0    TCGA-04-1331-01  0.0  0.0  0.0  0.0  0.0  0.0  0.0  0.0  0.0  ...    0.0   \n",
      "1    TCGA-04-1332-01  0.0  0.0  0.0  0.0  0.0  0.0  0.0  0.0  0.0  ...    0.0   \n",
      "2    TCGA-04-1335-01  0.0  0.0  0.0  0.0  0.0  0.0  0.0  0.0  0.0  ...    0.0   \n",
      "3    TCGA-04-1336-01  0.0  0.0  0.0  0.0  0.0  0.0  0.0  0.0  0.0  ...    0.0   \n",
      "4    TCGA-04-1337-01  0.0  0.0  0.0  0.0  0.0  0.0  0.0  0.0  0.0  ...    0.0   \n",
      "..               ...  ...  ...  ...  ...  ...  ...  ...  ...  ...  ...    ...   \n",
      "599  TCGA-61-2614-01  0.0  0.0  0.0  0.0  0.0  0.0  0.0  0.0  0.0  ...    0.0   \n",
      "600  TCGA-OY-A56P-01  0.0  0.0  0.0  0.0  0.0  0.0  0.0  0.0  0.0  ...    0.0   \n",
      "601  TCGA-OY-A56Q-01  0.0  0.0  0.0  0.0  0.0  0.0  0.0  0.0  0.0  ...    0.0   \n",
      "602  TCGA-VG-A8LO-01  0.0  0.0  0.0  0.0  0.0  0.0  0.0  0.0  0.0  ...    0.0   \n",
      "603  TCGA-WR-A838-01  0.0  0.0  0.0  0.0  0.0  0.0  0.0  0.0  0.0  ...    0.0   \n",
      "\n",
      "     24768  24769  24770  24771  24772  24773  24774  24775  24776  \n",
      "0      0.0    0.0    0.0    0.0    0.0    0.0    0.0    0.0    0.0  \n",
      "1      0.0    0.0    0.0    0.0    0.0    0.0    0.0    0.0    0.0  \n",
      "2      0.0    0.0    0.0    0.0    0.0    0.0    0.0    0.0    0.0  \n",
      "3      0.0    0.0    0.0    0.0    0.0    0.0    0.0    0.0    0.0  \n",
      "4      0.0    0.0    0.0    0.0    0.0    0.0    0.0    0.0    0.0  \n",
      "..     ...    ...    ...    ...    ...    ...    ...    ...    ...  \n",
      "599    0.0    0.0    0.0    0.0    0.0    0.0    0.0    0.0    0.0  \n",
      "600    0.0    0.0    0.0    0.0    0.0    0.0    0.0    0.0    0.0  \n",
      "601    0.0    0.0    0.0    0.0    0.0    0.0    0.0    0.0    0.0  \n",
      "602    0.0    0.0    0.0    0.0    0.0    0.0    0.0    0.0    0.0  \n",
      "603    0.0    0.0    0.0    0.0    0.0    0.0    0.0    0.0    0.0  \n",
      "\n",
      "[604 rows x 24778 columns]\n",
      "(604, 24778)\n",
      "Methyl (616, 21667)\n",
      "              sample    0    1    2    3    4    5    6    7    8  ...  21657  \\\n",
      "0    TCGA-04-1331-01  0.0  0.0  0.0  0.0  0.0  0.0  0.0  0.0  0.0  ...    0.0   \n",
      "1    TCGA-04-1332-01  0.0  0.0  0.0  0.0  0.0  0.0  0.0  0.0  0.0  ...    0.0   \n",
      "2    TCGA-04-1335-01  0.0  0.0  0.0  0.0  0.0  0.0  0.0  0.0  0.0  ...    0.0   \n",
      "3    TCGA-04-1336-01  0.0  0.0  0.0  0.0  0.0  0.0  0.0  0.0  0.0  ...    0.0   \n",
      "4    TCGA-04-1337-01  0.0  0.0  0.0  0.0  0.0  0.0  0.0  0.0  0.0  ...    0.0   \n",
      "..               ...  ...  ...  ...  ...  ...  ...  ...  ...  ...  ...    ...   \n",
      "599  TCGA-61-2614-01  0.0  0.0  0.0  0.0  0.0  0.0  0.0  0.0  0.0  ...    0.0   \n",
      "600  TCGA-OY-A56P-01  0.0  0.0  0.0  0.0  0.0  0.0  0.0  0.0  0.0  ...    0.0   \n",
      "601  TCGA-OY-A56Q-01  0.0  0.0  0.0  0.0  0.0  0.0  0.0  0.0  0.0  ...    0.0   \n",
      "602  TCGA-VG-A8LO-01  0.0  0.0  0.0  0.0  0.0  0.0  0.0  0.0  0.0  ...    0.0   \n",
      "603  TCGA-WR-A838-01  0.0  0.0  0.0  0.0  0.0  0.0  0.0  0.0  0.0  ...    0.0   \n",
      "\n",
      "     21658  21659  21660  21661  21662  21663  21664  21665  21666  \n",
      "0      0.0    0.0    0.0    0.0    0.0    0.0    0.0    0.0    0.0  \n",
      "1      0.0    0.0    0.0    0.0    0.0    0.0    0.0    0.0    0.0  \n",
      "2      0.0    0.0    0.0    0.0    0.0    0.0    0.0    0.0    0.0  \n",
      "3      0.0    0.0    0.0    0.0    0.0    0.0    0.0    0.0    0.0  \n",
      "4      0.0    0.0    0.0    0.0    0.0    0.0    0.0    0.0    0.0  \n",
      "..     ...    ...    ...    ...    ...    ...    ...    ...    ...  \n",
      "599    0.0    0.0    0.0    0.0    0.0    0.0    0.0    0.0    0.0  \n",
      "600    0.0    0.0    0.0    0.0    0.0    0.0    0.0    0.0    0.0  \n",
      "601    0.0    0.0    0.0    0.0    0.0    0.0    0.0    0.0    0.0  \n",
      "602    0.0    0.0    0.0    0.0    0.0    0.0    0.0    0.0    0.0  \n",
      "603    0.0    0.0    0.0    0.0    0.0    0.0    0.0    0.0    0.0  \n",
      "\n",
      "[604 rows x 21668 columns]\n",
      "(604, 21668)\n"
     ]
    }
   ],
   "source": [
    "for view_name, view_feature in zip(['miRNA','CopyNumber', 'Methyl'], feature_lists):\n",
    "    print(view_name, view_feature.shape)\n",
    "    df_temp_join = df_survival.join(view_feature).fillna(0)\n",
    "    print(df_temp_join)\n",
    "    #np.save(id_mapping_path+view_name+\"_features\", df_temp_join.to_numpy())\n",
    "    file = open(output_path+view_name+\"_features.pickle\", 'wb')\n",
    "    pickle.dump(df_temp_join.to_numpy(), file)\n",
    "    print(df_temp_join.shape)"
   ]
  },
  {
   "cell_type": "code",
   "execution_count": 13,
   "id": "56cc80c6-011a-4768-a669-43af4eca22e6",
   "metadata": {},
   "outputs": [
    {
     "name": "stdout",
     "output_type": "stream",
     "text": [
      "CopyNumber_features.pickle\n",
      "(604, 24777)\n",
      "[[ 0.014 -0.79   0.04  ...  0.074  0.074 -0.765]\n",
      " [ 0.4   -0.373  0.37  ...  0.309  0.309  0.353]\n",
      " [-0.767 -0.812  0.748 ... -0.814 -0.814 -0.781]\n",
      " ...\n",
      " [ 0.016 -1.178  0.211 ...  0.016  0.016 -0.381]\n",
      " [ 0.058 -0.916  1.761 ...  0.079  0.079  0.734]\n",
      " [-0.381 -0.503 -0.437 ... -0.381 -0.381 -0.293]]\n",
      "Methyl_features.pickle\n",
      "(604, 21667)\n",
      "[[9.221e-01 2.940e-02 8.248e-01 ... 1.670e-02 2.020e-02 5.770e+02]\n",
      " [4.648e-01 3.450e-02 4.201e-01 ... 2.030e-02 3.700e-02 2.600e+02]\n",
      " [9.043e-01 5.520e-02 6.690e-01 ... 2.570e-02 1.650e-02 1.110e+02]\n",
      " ...\n",
      " [0.000e+00 0.000e+00 0.000e+00 ... 0.000e+00 0.000e+00 0.000e+00]\n",
      " [0.000e+00 0.000e+00 0.000e+00 ... 0.000e+00 0.000e+00 0.000e+00]\n",
      " [0.000e+00 0.000e+00 0.000e+00 ... 0.000e+00 0.000e+00 0.000e+00]]\n",
      "miRNA_features.pickle\n",
      "(604, 211)\n",
      "[[ 16.98    16.98    15.08   ...   3.118    2.43   454.    ]\n",
      " [  0.       0.       0.     ...   0.       0.       0.    ]\n",
      " [  0.       0.       0.     ...   0.       0.       0.    ]\n",
      " ...\n",
      " [ 14.99    11.39    12.35   ...   2.691    1.277  192.    ]\n",
      " [ 15.27    13.65    12.12   ...   0.8067   2.584  181.    ]\n",
      " [ 15.24    14.      12.98   ...   1.558    2.703  463.    ]]\n"
     ]
    }
   ],
   "source": [
    "for file in os.listdir(output_path):\n",
    "    if file.endswith('.pickle'):\n",
    "        print (file)\n",
    "        with open(output_path+file, 'rb') as f:\n",
    "            x = pickle.load(f)\n",
    "        print(x.shape)\n",
    "        print(x)"
   ]
  },
  {
   "cell_type": "code",
   "execution_count": 14,
   "id": "bf3ac618-18a7-4aa6-b5df-dd00650fce5c",
   "metadata": {},
   "outputs": [
    {
     "data": {
      "text/html": [
       "<div>\n",
       "<style scoped>\n",
       "    .dataframe tbody tr th:only-of-type {\n",
       "        vertical-align: middle;\n",
       "    }\n",
       "\n",
       "    .dataframe tbody tr th {\n",
       "        vertical-align: top;\n",
       "    }\n",
       "\n",
       "    .dataframe thead th {\n",
       "        text-align: right;\n",
       "    }\n",
       "</style>\n",
       "<table border=\"1\" class=\"dataframe\">\n",
       "  <thead>\n",
       "    <tr style=\"text-align: right;\">\n",
       "      <th></th>\n",
       "      <th>sample</th>\n",
       "    </tr>\n",
       "  </thead>\n",
       "  <tbody>\n",
       "    <tr>\n",
       "      <th>0</th>\n",
       "      <td>TCGA-04-1331-01</td>\n",
       "    </tr>\n",
       "    <tr>\n",
       "      <th>1</th>\n",
       "      <td>TCGA-04-1332-01</td>\n",
       "    </tr>\n",
       "    <tr>\n",
       "      <th>2</th>\n",
       "      <td>TCGA-04-1335-01</td>\n",
       "    </tr>\n",
       "    <tr>\n",
       "      <th>3</th>\n",
       "      <td>TCGA-04-1336-01</td>\n",
       "    </tr>\n",
       "    <tr>\n",
       "      <th>4</th>\n",
       "      <td>TCGA-04-1337-01</td>\n",
       "    </tr>\n",
       "    <tr>\n",
       "      <th>...</th>\n",
       "      <td>...</td>\n",
       "    </tr>\n",
       "    <tr>\n",
       "      <th>599</th>\n",
       "      <td>TCGA-61-2614-01</td>\n",
       "    </tr>\n",
       "    <tr>\n",
       "      <th>600</th>\n",
       "      <td>TCGA-OY-A56P-01</td>\n",
       "    </tr>\n",
       "    <tr>\n",
       "      <th>601</th>\n",
       "      <td>TCGA-OY-A56Q-01</td>\n",
       "    </tr>\n",
       "    <tr>\n",
       "      <th>602</th>\n",
       "      <td>TCGA-VG-A8LO-01</td>\n",
       "    </tr>\n",
       "    <tr>\n",
       "      <th>603</th>\n",
       "      <td>TCGA-WR-A838-01</td>\n",
       "    </tr>\n",
       "  </tbody>\n",
       "</table>\n",
       "<p>604 rows × 1 columns</p>\n",
       "</div>"
      ],
      "text/plain": [
       "              sample\n",
       "0    TCGA-04-1331-01\n",
       "1    TCGA-04-1332-01\n",
       "2    TCGA-04-1335-01\n",
       "3    TCGA-04-1336-01\n",
       "4    TCGA-04-1337-01\n",
       "..               ...\n",
       "599  TCGA-61-2614-01\n",
       "600  TCGA-OY-A56P-01\n",
       "601  TCGA-OY-A56Q-01\n",
       "602  TCGA-VG-A8LO-01\n",
       "603  TCGA-WR-A838-01\n",
       "\n",
       "[604 rows x 1 columns]"
      ]
     },
     "execution_count": 14,
     "metadata": {},
     "output_type": "execute_result"
    }
   ],
   "source": [
    "df_survival"
   ]
  },
  {
   "cell_type": "code",
   "execution_count": null,
   "id": "5e332efc-e25f-462e-9bf7-ea213f4d5773",
   "metadata": {},
   "outputs": [],
   "source": []
  }
 ],
 "metadata": {
  "kernelspec": {
   "display_name": "Python 3",
   "language": "python",
   "name": "python3"
  },
  "language_info": {
   "codemirror_mode": {
    "name": "ipython",
    "version": 3
   },
   "file_extension": ".py",
   "mimetype": "text/x-python",
   "name": "python",
   "nbconvert_exporter": "python",
   "pygments_lexer": "ipython3",
   "version": "3.7.11"
  }
 },
 "nbformat": 4,
 "nbformat_minor": 5
}
