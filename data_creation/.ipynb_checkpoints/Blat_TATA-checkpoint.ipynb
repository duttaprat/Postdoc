{
 "cells": [
  {
   "cell_type": "code",
   "execution_count": 1,
   "id": "c0ca5aee-42f1-4f45-b4c6-e70799d71094",
   "metadata": {},
   "outputs": [],
   "source": [
    "import requests\n",
    "import json\n",
    "import pandas as pd\n",
    "import csv\n",
    "from bs4 import BeautifulSoup\n",
    "import re"
   ]
  },
  {
   "cell_type": "code",
   "execution_count": 2,
   "id": "038bad68-d93b-4622-b2fb-cc1395c2878a",
   "metadata": {},
   "outputs": [],
   "source": [
    "input_path = \"/data/private/pdutta/DNABERT_data/TATA_CoreProm_Raw/raw.tsv\""
   ]
  },
  {
   "cell_type": "code",
   "execution_count": 3,
   "id": "a3fefbf1-a746-4151-b03c-2911df99f257",
   "metadata": {},
   "outputs": [],
   "source": [
    "df = pd.read_csv(input_path, sep=\"\\t\")"
   ]
  },
  {
   "cell_type": "code",
   "execution_count": 4,
   "id": "90c7c18c-4313-45f2-b8aa-c69668d3d504",
   "metadata": {},
   "outputs": [
    {
     "data": {
      "text/html": [
       "<div>\n",
       "<style scoped>\n",
       "    .dataframe tbody tr th:only-of-type {\n",
       "        vertical-align: middle;\n",
       "    }\n",
       "\n",
       "    .dataframe tbody tr th {\n",
       "        vertical-align: top;\n",
       "    }\n",
       "\n",
       "    .dataframe thead th {\n",
       "        text-align: right;\n",
       "    }\n",
       "</style>\n",
       "<table border=\"1\" class=\"dataframe\">\n",
       "  <thead>\n",
       "    <tr style=\"text-align: right;\">\n",
       "      <th></th>\n",
       "      <th>Sentence</th>\n",
       "      <th>label</th>\n",
       "      <th>CoreProm-35to34</th>\n",
       "      <th>CoreProm-45to44</th>\n",
       "    </tr>\n",
       "  </thead>\n",
       "  <tbody>\n",
       "    <tr>\n",
       "      <th>0</th>\n",
       "      <td>CTCCACTTTTTCTCACGTTTATCTGAGCGAAAACAAGCACGGTTCG...</td>\n",
       "      <td>1</td>\n",
       "      <td>ACGGGATAAAGTTCCCGGAGAAAGGAAAGGAGAGCGTGGGATAGTA...</td>\n",
       "      <td>CGGCAGGGGAACGGGATAAAGTTCCCGGAGAAAGGAAAGGAGAGCG...</td>\n",
       "    </tr>\n",
       "    <tr>\n",
       "      <th>1</th>\n",
       "      <td>CCAGCAGATGGAAAACAGGACAATGTAACACTGTTCTTATCATCAC...</td>\n",
       "      <td>1</td>\n",
       "      <td>CAGACCTATAAATCCAGGCTGGCTCCTCACTCCCCACACATCTGCT...</td>\n",
       "      <td>CTTCTCCCAGCAGACCTATAAATCCAGGCTGGCTCCTCACTCCCCA...</td>\n",
       "    </tr>\n",
       "    <tr>\n",
       "      <th>2</th>\n",
       "      <td>TCAGAGAAACTGGTCTCTTGATAATAGCCATAGATTACATACTGTG...</td>\n",
       "      <td>1</td>\n",
       "      <td>CTTCCTATAAAAGGCAGAGACAGAGCTTCCAGAGGAGCAGAGGGGC...</td>\n",
       "      <td>ATCCTCTCTGCTTCCTATAAAAGGCAGAGACAGAGCTTCCAGAGGA...</td>\n",
       "    </tr>\n",
       "    <tr>\n",
       "      <th>3</th>\n",
       "      <td>GAAAAGGTAAAAATACAAGTATGGCTGTTGTTGCTTCAGCCGGGCC...</td>\n",
       "      <td>1</td>\n",
       "      <td>TGGTCCCATAAATGGATGTAAAAAGGGGAAGCTTCGAGCCAATTTC...</td>\n",
       "      <td>GGCTGACAGATGGTCCCATAAATGGATGTAAAAAGGGGAAGCTTCG...</td>\n",
       "    </tr>\n",
       "    <tr>\n",
       "      <th>4</th>\n",
       "      <td>CAGGGTCTGCAGAGAGAGAGTGGGGGAGTGCGGGTCGGAGCTTCTG...</td>\n",
       "      <td>1</td>\n",
       "      <td>CGCGGGCATAAAAGGCGCCAGGTGAGGGCCTCGCCGCTCCTCCCGC...</td>\n",
       "      <td>CTCCACCGGCCGCGGGCATAAAAGGCGCCAGGTGAGGGCCTCGCCG...</td>\n",
       "    </tr>\n",
       "    <tr>\n",
       "      <th>...</th>\n",
       "      <td>...</td>\n",
       "      <td>...</td>\n",
       "      <td>...</td>\n",
       "      <td>...</td>\n",
       "    </tr>\n",
       "    <tr>\n",
       "      <th>6737</th>\n",
       "      <td>AGAAGGAAACCTCCCAGGAGATGAGAGATCAGGCAGACAAACAGGG...</td>\n",
       "      <td>1</td>\n",
       "      <td>AAATAAATATAAGAGGTCTGCCCTACAGTGAGGGCAGGATAGCTGA...</td>\n",
       "      <td>AGGGGCTCAGAAATAAATATAAGAGGTCTGCCCTACAGTGAGGGCA...</td>\n",
       "    </tr>\n",
       "    <tr>\n",
       "      <th>6738</th>\n",
       "      <td>TCTTCCTCATTTTCTCTTGCTGCTGCCATGTAAGAAGAACTTTTCA...</td>\n",
       "      <td>0</td>\n",
       "      <td>GTTGTTTATAAAGAAAAGAGGTTTCTTTGGCTCACGGTTCTGCAGG...</td>\n",
       "      <td>CTGAAGCTGGGTTGTTTATAAAGAAAAGAGGTTTCTTTGGCTCACG...</td>\n",
       "    </tr>\n",
       "    <tr>\n",
       "      <th>6739</th>\n",
       "      <td>AGGGAGCGCAGCCTGAGGCGGTGTGGTGCGGTGCGGCTGCAGGGCG...</td>\n",
       "      <td>1</td>\n",
       "      <td>GAACTTTAAAAAGCTGCTTCGGACAAACCAGAGCCAGGATTTCCAC...</td>\n",
       "      <td>GGTGCCAAGCGAACTTTAAAAAGCTGCTTCGGACAAACCAGAGCCA...</td>\n",
       "    </tr>\n",
       "    <tr>\n",
       "      <th>6740</th>\n",
       "      <td>CCTGACCAAAGAATCCAGAGTCAAGACCTCTCCGTGCTCCATTTAG...</td>\n",
       "      <td>1</td>\n",
       "      <td>CACCTCTATATATAGCCCCTCGAAGACAGCTGCTCAGTCTAAGCAA...</td>\n",
       "      <td>GGGACCCGGCCACCTCTATATATAGCCCCTCGAAGACAGCTGCTCA...</td>\n",
       "    </tr>\n",
       "    <tr>\n",
       "      <th>6741</th>\n",
       "      <td>ATCCAGGGGACCTGGGTCCCGGCCCTTCCCCAGCCCTTCGCCCTGG...</td>\n",
       "      <td>0</td>\n",
       "      <td>ACCGTATAATTCCCAGGCCGACTCTGCGGGGGACAGGGGCAAATCC...</td>\n",
       "      <td>CAAAGAAAAGACCGTATAATTCCCAGGCCGACTCTGCGGGGGACAG...</td>\n",
       "    </tr>\n",
       "  </tbody>\n",
       "</table>\n",
       "<p>6742 rows × 4 columns</p>\n",
       "</div>"
      ],
      "text/plain": [
       "                                               Sentence  label  \\\n",
       "0     CTCCACTTTTTCTCACGTTTATCTGAGCGAAAACAAGCACGGTTCG...      1   \n",
       "1     CCAGCAGATGGAAAACAGGACAATGTAACACTGTTCTTATCATCAC...      1   \n",
       "2     TCAGAGAAACTGGTCTCTTGATAATAGCCATAGATTACATACTGTG...      1   \n",
       "3     GAAAAGGTAAAAATACAAGTATGGCTGTTGTTGCTTCAGCCGGGCC...      1   \n",
       "4     CAGGGTCTGCAGAGAGAGAGTGGGGGAGTGCGGGTCGGAGCTTCTG...      1   \n",
       "...                                                 ...    ...   \n",
       "6737  AGAAGGAAACCTCCCAGGAGATGAGAGATCAGGCAGACAAACAGGG...      1   \n",
       "6738  TCTTCCTCATTTTCTCTTGCTGCTGCCATGTAAGAAGAACTTTTCA...      0   \n",
       "6739  AGGGAGCGCAGCCTGAGGCGGTGTGGTGCGGTGCGGCTGCAGGGCG...      1   \n",
       "6740  CCTGACCAAAGAATCCAGAGTCAAGACCTCTCCGTGCTCCATTTAG...      1   \n",
       "6741  ATCCAGGGGACCTGGGTCCCGGCCCTTCCCCAGCCCTTCGCCCTGG...      0   \n",
       "\n",
       "                                        CoreProm-35to34  \\\n",
       "0     ACGGGATAAAGTTCCCGGAGAAAGGAAAGGAGAGCGTGGGATAGTA...   \n",
       "1     CAGACCTATAAATCCAGGCTGGCTCCTCACTCCCCACACATCTGCT...   \n",
       "2     CTTCCTATAAAAGGCAGAGACAGAGCTTCCAGAGGAGCAGAGGGGC...   \n",
       "3     TGGTCCCATAAATGGATGTAAAAAGGGGAAGCTTCGAGCCAATTTC...   \n",
       "4     CGCGGGCATAAAAGGCGCCAGGTGAGGGCCTCGCCGCTCCTCCCGC...   \n",
       "...                                                 ...   \n",
       "6737  AAATAAATATAAGAGGTCTGCCCTACAGTGAGGGCAGGATAGCTGA...   \n",
       "6738  GTTGTTTATAAAGAAAAGAGGTTTCTTTGGCTCACGGTTCTGCAGG...   \n",
       "6739  GAACTTTAAAAAGCTGCTTCGGACAAACCAGAGCCAGGATTTCCAC...   \n",
       "6740  CACCTCTATATATAGCCCCTCGAAGACAGCTGCTCAGTCTAAGCAA...   \n",
       "6741  ACCGTATAATTCCCAGGCCGACTCTGCGGGGGACAGGGGCAAATCC...   \n",
       "\n",
       "                                        CoreProm-45to44  \n",
       "0     CGGCAGGGGAACGGGATAAAGTTCCCGGAGAAAGGAAAGGAGAGCG...  \n",
       "1     CTTCTCCCAGCAGACCTATAAATCCAGGCTGGCTCCTCACTCCCCA...  \n",
       "2     ATCCTCTCTGCTTCCTATAAAAGGCAGAGACAGAGCTTCCAGAGGA...  \n",
       "3     GGCTGACAGATGGTCCCATAAATGGATGTAAAAAGGGGAAGCTTCG...  \n",
       "4     CTCCACCGGCCGCGGGCATAAAAGGCGCCAGGTGAGGGCCTCGCCG...  \n",
       "...                                                 ...  \n",
       "6737  AGGGGCTCAGAAATAAATATAAGAGGTCTGCCCTACAGTGAGGGCA...  \n",
       "6738  CTGAAGCTGGGTTGTTTATAAAGAAAAGAGGTTTCTTTGGCTCACG...  \n",
       "6739  GGTGCCAAGCGAACTTTAAAAAGCTGCTTCGGACAAACCAGAGCCA...  \n",
       "6740  GGGACCCGGCCACCTCTATATATAGCCCCTCGAAGACAGCTGCTCA...  \n",
       "6741  CAAAGAAAAGACCGTATAATTCCCAGGCCGACTCTGCGGGGGACAG...  \n",
       "\n",
       "[6742 rows x 4 columns]"
      ]
     },
     "execution_count": 4,
     "metadata": {},
     "output_type": "execute_result"
    }
   ],
   "source": [
    "df"
   ]
  },
  {
   "cell_type": "code",
   "execution_count": 5,
   "id": "4f15e0a7-865c-45e8-a64a-684d9304966f",
   "metadata": {},
   "outputs": [
    {
     "data": {
      "text/html": [
       "<div>\n",
       "<style scoped>\n",
       "    .dataframe tbody tr th:only-of-type {\n",
       "        vertical-align: middle;\n",
       "    }\n",
       "\n",
       "    .dataframe tbody tr th {\n",
       "        vertical-align: top;\n",
       "    }\n",
       "\n",
       "    .dataframe thead th {\n",
       "        text-align: right;\n",
       "    }\n",
       "</style>\n",
       "<table border=\"1\" class=\"dataframe\">\n",
       "  <thead>\n",
       "    <tr style=\"text-align: right;\">\n",
       "      <th></th>\n",
       "      <th>Sentence</th>\n",
       "      <th>label</th>\n",
       "      <th>CoreProm-35to34</th>\n",
       "      <th>CoreProm-45to44</th>\n",
       "    </tr>\n",
       "  </thead>\n",
       "  <tbody>\n",
       "    <tr>\n",
       "      <th>0</th>\n",
       "      <td>CTCCACTTTTTCTCACGTTTATCTGAGCGAAAACAAGCACGGTTCG...</td>\n",
       "      <td>1</td>\n",
       "      <td>ACGGGATAAAGTTCCCGGAGAAAGGAAAGGAGAGCGTGGGATAGTA...</td>\n",
       "      <td>CGGCAGGGGAACGGGATAAAGTTCCCGGAGAAAGGAAAGGAGAGCG...</td>\n",
       "    </tr>\n",
       "    <tr>\n",
       "      <th>1</th>\n",
       "      <td>CCAGCAGATGGAAAACAGGACAATGTAACACTGTTCTTATCATCAC...</td>\n",
       "      <td>1</td>\n",
       "      <td>CAGACCTATAAATCCAGGCTGGCTCCTCACTCCCCACACATCTGCT...</td>\n",
       "      <td>CTTCTCCCAGCAGACCTATAAATCCAGGCTGGCTCCTCACTCCCCA...</td>\n",
       "    </tr>\n",
       "    <tr>\n",
       "      <th>2</th>\n",
       "      <td>TCAGAGAAACTGGTCTCTTGATAATAGCCATAGATTACATACTGTG...</td>\n",
       "      <td>1</td>\n",
       "      <td>CTTCCTATAAAAGGCAGAGACAGAGCTTCCAGAGGAGCAGAGGGGC...</td>\n",
       "      <td>ATCCTCTCTGCTTCCTATAAAAGGCAGAGACAGAGCTTCCAGAGGA...</td>\n",
       "    </tr>\n",
       "    <tr>\n",
       "      <th>3</th>\n",
       "      <td>GAAAAGGTAAAAATACAAGTATGGCTGTTGTTGCTTCAGCCGGGCC...</td>\n",
       "      <td>1</td>\n",
       "      <td>TGGTCCCATAAATGGATGTAAAAAGGGGAAGCTTCGAGCCAATTTC...</td>\n",
       "      <td>GGCTGACAGATGGTCCCATAAATGGATGTAAAAAGGGGAAGCTTCG...</td>\n",
       "    </tr>\n",
       "    <tr>\n",
       "      <th>4</th>\n",
       "      <td>CAGGGTCTGCAGAGAGAGAGTGGGGGAGTGCGGGTCGGAGCTTCTG...</td>\n",
       "      <td>1</td>\n",
       "      <td>CGCGGGCATAAAAGGCGCCAGGTGAGGGCCTCGCCGCTCCTCCCGC...</td>\n",
       "      <td>CTCCACCGGCCGCGGGCATAAAAGGCGCCAGGTGAGGGCCTCGCCG...</td>\n",
       "    </tr>\n",
       "    <tr>\n",
       "      <th>...</th>\n",
       "      <td>...</td>\n",
       "      <td>...</td>\n",
       "      <td>...</td>\n",
       "      <td>...</td>\n",
       "    </tr>\n",
       "    <tr>\n",
       "      <th>6734</th>\n",
       "      <td>GCTTGGACACAGTTCCTTCAAAACCATTGTTCAAGTCATAGTTGTA...</td>\n",
       "      <td>1</td>\n",
       "      <td>CTCCTCTTTATAAAGGGAGTTGCCACGTTCCTCCCAGCACAGAGTT...</td>\n",
       "      <td>CATTGTTCTTCTCCTCTTTATAAAGGGAGTTGCCACGTTCCTCCCA...</td>\n",
       "    </tr>\n",
       "    <tr>\n",
       "      <th>6736</th>\n",
       "      <td>GCGTCAACAAAATCCATCTCAAAAGTTCTTATATTCTCATTTCTCT...</td>\n",
       "      <td>1</td>\n",
       "      <td>AGAAATAAATGCCTCATCCCTACTCCAGAAACGAGAACAACGGAGG...</td>\n",
       "      <td>TCGGAAACTAAGAAATAAATGCCTCATCCCTACTCCAGAAACGAGA...</td>\n",
       "    </tr>\n",
       "    <tr>\n",
       "      <th>6737</th>\n",
       "      <td>AGAAGGAAACCTCCCAGGAGATGAGAGATCAGGCAGACAAACAGGG...</td>\n",
       "      <td>1</td>\n",
       "      <td>AAATAAATATAAGAGGTCTGCCCTACAGTGAGGGCAGGATAGCTGA...</td>\n",
       "      <td>AGGGGCTCAGAAATAAATATAAGAGGTCTGCCCTACAGTGAGGGCA...</td>\n",
       "    </tr>\n",
       "    <tr>\n",
       "      <th>6739</th>\n",
       "      <td>AGGGAGCGCAGCCTGAGGCGGTGTGGTGCGGTGCGGCTGCAGGGCG...</td>\n",
       "      <td>1</td>\n",
       "      <td>GAACTTTAAAAAGCTGCTTCGGACAAACCAGAGCCAGGATTTCCAC...</td>\n",
       "      <td>GGTGCCAAGCGAACTTTAAAAAGCTGCTTCGGACAAACCAGAGCCA...</td>\n",
       "    </tr>\n",
       "    <tr>\n",
       "      <th>6740</th>\n",
       "      <td>CCTGACCAAAGAATCCAGAGTCAAGACCTCTCCGTGCTCCATTTAG...</td>\n",
       "      <td>1</td>\n",
       "      <td>CACCTCTATATATAGCCCCTCGAAGACAGCTGCTCAGTCTAAGCAA...</td>\n",
       "      <td>GGGACCCGGCCACCTCTATATATAGCCCCTCGAAGACAGCTGCTCA...</td>\n",
       "    </tr>\n",
       "  </tbody>\n",
       "</table>\n",
       "<p>3349 rows × 4 columns</p>\n",
       "</div>"
      ],
      "text/plain": [
       "                                               Sentence  label  \\\n",
       "0     CTCCACTTTTTCTCACGTTTATCTGAGCGAAAACAAGCACGGTTCG...      1   \n",
       "1     CCAGCAGATGGAAAACAGGACAATGTAACACTGTTCTTATCATCAC...      1   \n",
       "2     TCAGAGAAACTGGTCTCTTGATAATAGCCATAGATTACATACTGTG...      1   \n",
       "3     GAAAAGGTAAAAATACAAGTATGGCTGTTGTTGCTTCAGCCGGGCC...      1   \n",
       "4     CAGGGTCTGCAGAGAGAGAGTGGGGGAGTGCGGGTCGGAGCTTCTG...      1   \n",
       "...                                                 ...    ...   \n",
       "6734  GCTTGGACACAGTTCCTTCAAAACCATTGTTCAAGTCATAGTTGTA...      1   \n",
       "6736  GCGTCAACAAAATCCATCTCAAAAGTTCTTATATTCTCATTTCTCT...      1   \n",
       "6737  AGAAGGAAACCTCCCAGGAGATGAGAGATCAGGCAGACAAACAGGG...      1   \n",
       "6739  AGGGAGCGCAGCCTGAGGCGGTGTGGTGCGGTGCGGCTGCAGGGCG...      1   \n",
       "6740  CCTGACCAAAGAATCCAGAGTCAAGACCTCTCCGTGCTCCATTTAG...      1   \n",
       "\n",
       "                                        CoreProm-35to34  \\\n",
       "0     ACGGGATAAAGTTCCCGGAGAAAGGAAAGGAGAGCGTGGGATAGTA...   \n",
       "1     CAGACCTATAAATCCAGGCTGGCTCCTCACTCCCCACACATCTGCT...   \n",
       "2     CTTCCTATAAAAGGCAGAGACAGAGCTTCCAGAGGAGCAGAGGGGC...   \n",
       "3     TGGTCCCATAAATGGATGTAAAAAGGGGAAGCTTCGAGCCAATTTC...   \n",
       "4     CGCGGGCATAAAAGGCGCCAGGTGAGGGCCTCGCCGCTCCTCCCGC...   \n",
       "...                                                 ...   \n",
       "6734  CTCCTCTTTATAAAGGGAGTTGCCACGTTCCTCCCAGCACAGAGTT...   \n",
       "6736  AGAAATAAATGCCTCATCCCTACTCCAGAAACGAGAACAACGGAGG...   \n",
       "6737  AAATAAATATAAGAGGTCTGCCCTACAGTGAGGGCAGGATAGCTGA...   \n",
       "6739  GAACTTTAAAAAGCTGCTTCGGACAAACCAGAGCCAGGATTTCCAC...   \n",
       "6740  CACCTCTATATATAGCCCCTCGAAGACAGCTGCTCAGTCTAAGCAA...   \n",
       "\n",
       "                                        CoreProm-45to44  \n",
       "0     CGGCAGGGGAACGGGATAAAGTTCCCGGAGAAAGGAAAGGAGAGCG...  \n",
       "1     CTTCTCCCAGCAGACCTATAAATCCAGGCTGGCTCCTCACTCCCCA...  \n",
       "2     ATCCTCTCTGCTTCCTATAAAAGGCAGAGACAGAGCTTCCAGAGGA...  \n",
       "3     GGCTGACAGATGGTCCCATAAATGGATGTAAAAAGGGGAAGCTTCG...  \n",
       "4     CTCCACCGGCCGCGGGCATAAAAGGCGCCAGGTGAGGGCCTCGCCG...  \n",
       "...                                                 ...  \n",
       "6734  CATTGTTCTTCTCCTCTTTATAAAGGGAGTTGCCACGTTCCTCCCA...  \n",
       "6736  TCGGAAACTAAGAAATAAATGCCTCATCCCTACTCCAGAAACGAGA...  \n",
       "6737  AGGGGCTCAGAAATAAATATAAGAGGTCTGCCCTACAGTGAGGGCA...  \n",
       "6739  GGTGCCAAGCGAACTTTAAAAAGCTGCTTCGGACAAACCAGAGCCA...  \n",
       "6740  GGGACCCGGCCACCTCTATATATAGCCCCTCGAAGACAGCTGCTCA...  \n",
       "\n",
       "[3349 rows x 4 columns]"
      ]
     },
     "execution_count": 5,
     "metadata": {},
     "output_type": "execute_result"
    }
   ],
   "source": [
    "df_TATA = df[df['label']==1]\n",
    "df_TATA"
   ]
  },
  {
   "cell_type": "code",
   "execution_count": 6,
   "id": "564074fd-9e94-4efc-8baf-cdc6d1d549d6",
   "metadata": {},
   "outputs": [
    {
     "data": {
      "text/html": [
       "<div>\n",
       "<style scoped>\n",
       "    .dataframe tbody tr th:only-of-type {\n",
       "        vertical-align: middle;\n",
       "    }\n",
       "\n",
       "    .dataframe tbody tr th {\n",
       "        vertical-align: top;\n",
       "    }\n",
       "\n",
       "    .dataframe thead th {\n",
       "        text-align: right;\n",
       "    }\n",
       "</style>\n",
       "<table border=\"1\" class=\"dataframe\">\n",
       "  <thead>\n",
       "    <tr style=\"text-align: right;\">\n",
       "      <th></th>\n",
       "      <th>Sentence</th>\n",
       "      <th>label</th>\n",
       "      <th>CoreProm-35to34</th>\n",
       "      <th>CoreProm-45to44</th>\n",
       "    </tr>\n",
       "  </thead>\n",
       "  <tbody>\n",
       "    <tr>\n",
       "      <th>114</th>\n",
       "      <td>ATGTCACCTCTGGTAAACCTTTCATGGGATACGCAGTATTAGGCCA...</td>\n",
       "      <td>1</td>\n",
       "      <td>AATTATATATACTTTTTAACATAATTTAACTTTTTCATAGGAGAAC...</td>\n",
       "      <td>AACTTTTATGAATTATATATACTTTTTAACATAATTTAACTTTTTC...</td>\n",
       "    </tr>\n",
       "  </tbody>\n",
       "</table>\n",
       "</div>"
      ],
      "text/plain": [
       "                                              Sentence  label  \\\n",
       "114  ATGTCACCTCTGGTAAACCTTTCATGGGATACGCAGTATTAGGCCA...      1   \n",
       "\n",
       "                                       CoreProm-35to34  \\\n",
       "114  AATTATATATACTTTTTAACATAATTTAACTTTTTCATAGGAGAAC...   \n",
       "\n",
       "                                       CoreProm-45to44  \n",
       "114  AACTTTTATGAATTATATATACTTTTTAACATAATTTAACTTTTTC...  "
      ]
     },
     "execution_count": 6,
     "metadata": {},
     "output_type": "execute_result"
    }
   ],
   "source": [
    "df[df['CoreProm-45to44']==\"AACTTTTATGAATTATATATACTTTTTAACATAATTTAACTTTTTCATAGGAGAACTATGCCATTTTTGGGTCAGGACTGGAGATCTCCT\"]"
   ]
  },
  {
   "cell_type": "code",
   "execution_count": 7,
   "id": "f7023e40-aa2a-41a6-80e9-683e516f49af",
   "metadata": {},
   "outputs": [
    {
     "data": {
      "text/plain": [
       "114    AACTTTTATGAATTATATATACTTTTTAACATAATTTAACTTTTTC...\n",
       "115    ACGAGATCTGATGGTTTTATAAGTGGCTCTTCCCTCCCAACCCCCG...\n",
       "Name: CoreProm-45to44, dtype: object"
      ]
     },
     "execution_count": 7,
     "metadata": {},
     "output_type": "execute_result"
    }
   ],
   "source": [
    "df_TATA['CoreProm-45to44'].iloc[114:116]"
   ]
  },
  {
   "cell_type": "code",
   "execution_count": null,
   "id": "d5a40ded-0028-4681-a892-071bbe802000",
   "metadata": {},
   "outputs": [
    {
     "name": "stdout",
     "output_type": "stream",
     "text": [
      "0\n"
     ]
    },
    {
     "name": "stderr",
     "output_type": "stream",
     "text": [
      "/tmp/ipykernel_1310667/1081962932.py:18: SettingWithCopyWarning: \n",
      "A value is trying to be set on a copy of a slice from a DataFrame.\n",
      "Try using .loc[row_indexer,col_indexer] = value instead\n",
      "\n",
      "See the caveats in the documentation: https://pandas.pydata.org/pandas-docs/stable/user_guide/indexing.html#returning-a-view-versus-a-copy\n",
      "  df_TATA.loc[index, 'strand'] = result['blat'][0][8]\n",
      "/tmp/ipykernel_1310667/1081962932.py:19: SettingWithCopyWarning: \n",
      "A value is trying to be set on a copy of a slice from a DataFrame.\n",
      "Try using .loc[row_indexer,col_indexer] = value instead\n",
      "\n",
      "See the caveats in the documentation: https://pandas.pydata.org/pandas-docs/stable/user_guide/indexing.html#returning-a-view-versus-a-copy\n",
      "  df_TATA.loc[index, 'chromosome'] = result['blat'][0][13]\n",
      "/tmp/ipykernel_1310667/1081962932.py:20: SettingWithCopyWarning: \n",
      "A value is trying to be set on a copy of a slice from a DataFrame.\n",
      "Try using .loc[row_indexer,col_indexer] = value instead\n",
      "\n",
      "See the caveats in the documentation: https://pandas.pydata.org/pandas-docs/stable/user_guide/indexing.html#returning-a-view-versus-a-copy\n",
      "  df_TATA.loc[index, 'start'] = result['blat'][0][15]\n",
      "/tmp/ipykernel_1310667/1081962932.py:21: SettingWithCopyWarning: \n",
      "A value is trying to be set on a copy of a slice from a DataFrame.\n",
      "Try using .loc[row_indexer,col_indexer] = value instead\n",
      "\n",
      "See the caveats in the documentation: https://pandas.pydata.org/pandas-docs/stable/user_guide/indexing.html#returning-a-view-versus-a-copy\n",
      "  df_TATA.loc[index, 'end'] = result['blat'][0][16]\n",
      "/tmp/ipykernel_1310667/1081962932.py:22: SettingWithCopyWarning: \n",
      "A value is trying to be set on a copy of a slice from a DataFrame.\n",
      "Try using .loc[row_indexer,col_indexer] = value instead\n",
      "\n",
      "See the caveats in the documentation: https://pandas.pydata.org/pandas-docs/stable/user_guide/indexing.html#returning-a-view-versus-a-copy\n",
      "  df_TATA.loc[index, 'length'] = result['blat'][0][18]\n"
     ]
    },
    {
     "name": "stdout",
     "output_type": "stream",
     "text": [
      "[90, 0, 0, 0, 0, 0, 0, 0, '+', 'YourSeq', 90, 0, 90, 'chr9_GL383541v1_alt', 171286, 19423, 19513, 1, '90', '0', '19423']\n",
      "[90, 0, 0, 0, 0, 0, 0, 0, '+', 'YourSeq', 90, 0, 90, 'chr19', 58617616, 12938563, 12938653, 1, '90', '0', '12938563']\n",
      "[90, 0, 0, 0, 0, 0, 0, 0, '-', 'YourSeq', 90, 0, 90, 'chr4', 190214555, 94342791, 94342881, 1, '90', '0', '94342791']\n",
      "[90, 0, 0, 0, 0, 0, 0, 0, '+', 'YourSeq', 90, 0, 90, 'chr11', 135086622, 120579939, 120580029, 1, '90', '0', '120579939']\n",
      "[90, 0, 0, 0, 0, 0, 0, 0, '+', 'YourSeq', 90, 0, 90, 'chr5_MU273355v1_fix', 508332, 104087, 104177, 1, '90', '0', '104087']\n",
      "[90, 0, 0, 0, 0, 0, 0, 0, '+', 'YourSeq', 90, 0, 90, 'chr11', 135086622, 30230970, 30231060, 1, '90', '0', '30230970']\n",
      "[90, 0, 0, 0, 0, 0, 0, 0, '-', 'YourSeq', 90, 0, 90, 'chr2', 242193529, 135837136, 135837226, 1, '90', '0', '135837136']\n",
      "[90, 0, 0, 0, 0, 0, 0, 0, '+', 'YourSeq', 90, 0, 90, 'chr12', 133275309, 80716866, 80716956, 1, '90', '0', '80716866']\n",
      "[90, 0, 0, 0, 0, 0, 0, 0, '+', 'YourSeq', 90, 0, 90, 'chr4', 190214555, 185396797, 185396887, 1, '90', '0', '185396797']\n",
      "[90, 0, 0, 0, 0, 0, 0, 0, '+', 'YourSeq', 90, 0, 90, 'chrX', 156040895, 12975065, 12975155, 1, '90', '0', '12975065']\n",
      "[90, 0, 0, 0, 0, 0, 0, 0, '-', 'YourSeq', 90, 0, 90, 'chr3', 198295559, 50303529, 50303619, 1, '90', '0', '50303529']\n",
      "[90, 0, 0, 0, 0, 0, 0, 0, '+', 'YourSeq', 90, 0, 90, 'chr13', 114364328, 45701799, 45701889, 1, '90', '0', '45701799']\n",
      "50\n",
      "[90, 0, 0, 0, 0, 0, 0, 0, '-', 'YourSeq', 90, 0, 90, 'chr1', 248956422, 205943411, 205943501, 1, '90', '0', '205943411']\n",
      "[90, 0, 0, 0, 0, 0, 0, 0, '-', 'YourSeq', 90, 0, 90, 'chr1', 248956422, 18902717, 18902807, 1, '90', '0', '18902717']\n",
      "[90, 0, 0, 0, 0, 0, 0, 0, '-', 'YourSeq', 90, 0, 90, 'chr14', 107043718, 64294326, 64294416, 1, '90', '0', '64294326']\n",
      "[90, 0, 0, 0, 0, 0, 0, 0, '+', 'YourSeq', 90, 0, 90, 'chr15', 101991189, 84981985, 84982075, 1, '90', '0', '84981985']\n",
      "[90, 0, 0, 0, 0, 0, 0, 0, '+', 'YourSeq', 90, 0, 90, 'chrX', 156040895, 100584890, 100584980, 1, '90', '0', '100584890']\n",
      "[90, 0, 0, 0, 0, 0, 0, 0, '+', 'YourSeq', 90, 0, 90, 'chr3', 198295559, 52495292, 52495382, 1, '90', '0', '52495292']\n",
      "[90, 0, 0, 0, 0, 0, 0, 0, '+', 'YourSeq', 90, 0, 90, 'chr8', 145138636, 86822438, 86822528, 1, '90', '0', '86822438']\n",
      "[90, 0, 0, 0, 0, 0, 0, 0, '+', 'YourSeq', 90, 0, 90, 'chr10', 133797422, 61901208, 61901298, 1, '90', '0', '61901208']\n",
      "[90, 0, 0, 0, 0, 0, 0, 0, '+', 'YourSeq', 90, 0, 90, 'chr4', 190214555, 87975668, 87975758, 1, '90', '0', '87975668']\n",
      "[90, 0, 0, 0, 0, 0, 0, 0, '-', 'YourSeq', 90, 0, 90, 'chr1', 248956422, 68449909, 68449999, 1, '90', '0', '68449909']\n",
      "[90, 0, 0, 0, 0, 0, 0, 0, '-', 'YourSeq', 90, 0, 90, 'chr5', 181538259, 55173130, 55173220, 1, '90', '0', '55173130']\n",
      "[90, 0, 0, 0, 0, 0, 0, 0, '-', 'YourSeq', 90, 0, 90, 'chr12', 133275309, 48004431, 48004521, 1, '90', '0', '48004431']\n",
      "[90, 0, 0, 0, 0, 0, 0, 0, '-', 'YourSeq', 90, 0, 90, 'chr3', 198295559, 108757365, 108757455, 1, '90', '0', '108757365']\n",
      "[90, 0, 0, 0, 0, 0, 0, 0, '-', 'YourSeq', 90, 0, 90, 'chr12_KI270904v1_alt', 572349, 48136, 48226, 1, '90', '0', '48136']\n",
      "[90, 0, 0, 0, 0, 0, 0, 0, '-', 'YourSeq', 90, 0, 90, 'chr22', 50818468, 35617284, 35617374, 1, '90', '0', '35617284']\n",
      "[90, 0, 0, 0, 0, 0, 0, 0, '+', 'YourSeq', 90, 0, 90, 'chr10', 133797422, 6202886, 6202976, 1, '90', '0', '6202886']\n",
      "[90, 0, 0, 0, 0, 0, 0, 0, '-', 'YourSeq', 90, 0, 90, 'chr1', 248956422, 151372658, 151372748, 1, '90', '0', '151372658']\n",
      "100\n",
      "[90, 0, 0, 0, 0, 0, 0, 0, '+', 'YourSeq', 90, 0, 90, 'chr15', 101991189, 42495214, 42495304, 1, '90', '0', '42495214']\n",
      "[90, 0, 0, 0, 0, 0, 0, 0, '+', 'YourSeq', 90, 0, 90, 'chr22', 50818468, 50114453, 50114543, 1, '90', '0', '50114453']\n",
      "[90, 0, 0, 0, 0, 0, 0, 0, '-', 'YourSeq', 90, 0, 90, 'chr1', 248956422, 39901961, 39902051, 1, '90', '0', '39901961']\n",
      "[90, 0, 0, 0, 0, 0, 0, 0, '-', 'YourSeq', 90, 0, 90, 'chr19', 58617616, 35501866, 35501956, 1, '90', '0', '35501866']\n",
      "[90, 0, 0, 0, 0, 0, 0, 0, '+', 'YourSeq', 90, 0, 90, 'chr8', 145138636, 413022, 413112, 1, '90', '0', '413022']\n",
      "[90, 0, 0, 0, 0, 0, 0, 0, '+', 'YourSeq', 90, 0, 90, 'chr16', 90338345, 88638526, 88638616, 1, '90', '0', '88638526']\n",
      "[90, 0, 0, 0, 0, 0, 0, 0, '-', 'YourSeq', 90, 0, 90, 'chrX', 156040895, 154546799, 154546889, 1, '90', '0', '154546799']\n",
      "[90, 0, 0, 0, 0, 0, 0, 0, '-', 'YourSeq', 90, 0, 90, 'chr14', 107043718, 54902781, 54902871, 1, '90', '0', '54902781']\n",
      "[90, 0, 0, 0, 0, 0, 0, 0, '-', 'YourSeq', 90, 0, 90, 'chr12', 133275309, 9208350, 9208440, 1, '90', '0', '9208350']\n",
      "[90, 0, 0, 0, 0, 0, 0, 0, '+', 'YourSeq', 90, 0, 90, 'chr17', 83257441, 58238655, 58238745, 1, '90', '0', '58238655']\n",
      "[90, 0, 0, 0, 0, 0, 0, 0, '-', 'YourSeq', 90, 0, 90, 'chr9', 138394717, 101435729, 101435819, 1, '90', '0', '101435729']\n",
      "[90, 0, 0, 0, 0, 0, 0, 0, '+', 'YourSeq', 90, 0, 90, 'chr11', 135086622, 111923637, 111923727, 1, '90', '0', '111923637']\n",
      "[90, 0, 0, 0, 0, 0, 0, 0, '-', 'YourSeq', 90, 0, 90, 'chr11', 135086622, 30584155, 30584245, 1, '90', '0', '30584155']\n",
      "[90, 0, 0, 0, 0, 0, 0, 0, '+', 'YourSeq', 90, 0, 90, 'chr17', 83257441, 16381049, 16381139, 1, '90', '0', '16381049']\n",
      "[90, 0, 0, 0, 0, 0, 0, 0, '-', 'YourSeq', 90, 0, 90, 'chr3', 198295559, 151329504, 151329594, 1, '90', '0', '151329504']\n",
      "[90, 0, 0, 0, 0, 0, 0, 0, '-', 'YourSeq', 90, 0, 90, 'chr6_GL000256v2_alt', 4929269, 2045298, 2045388, 1, '90', '0', '2045298']\n",
      "150\n",
      "[90, 0, 0, 0, 0, 0, 0, 0, '+', 'YourSeq', 90, 0, 90, 'chr14', 107043718, 30874513, 30874603, 1, '90', '0', '30874513']\n",
      "[90, 0, 0, 0, 0, 0, 0, 0, '-', 'YourSeq', 90, 0, 90, 'chr8', 145138636, 102864118, 102864208, 1, '90', '0', '102864118']\n",
      "[90, 0, 0, 0, 0, 0, 0, 0, '-', 'YourSeq', 90, 0, 90, 'chr13', 114364328, 20232274, 20232364, 1, '90', '0', '20232274']\n",
      "[90, 0, 0, 0, 0, 0, 0, 0, '-', 'YourSeq', 90, 0, 90, 'chr4', 190214555, 99352701, 99352791, 1, '90', '0', '99352701']\n",
      "[90, 0, 0, 0, 0, 0, 0, 0, '+', 'YourSeq', 90, 0, 90, 'chr13', 114364328, 111203014, 111203104, 1, '90', '0', '111203014']\n"
     ]
    }
   ],
   "source": [
    "failed_index = []\n",
    "for index, row in df_TATA.iterrows():\n",
    "    #print(row['CoreProm-45to44'])\n",
    "    if((index %50) ==0):\n",
    "        print(index)\n",
    "\n",
    "    sequence = row['CoreProm-45to44']\n",
    "    # Define the URL for the BLAT search, substituting your parameters\n",
    "    url = f\"https://genome.ucsc.edu/cgi-bin/hgBlat?userSeq={sequence}&type=dna&db=hg38&output=json\"\n",
    "\n",
    "    # Send a GET request to the server\n",
    "    response = requests.get(url)\n",
    "\n",
    "    if response.status_code == 200:\n",
    "        # Parse the response as JSON\n",
    "        try:\n",
    "            result = json.loads(response.text)\n",
    "            df_TATA.loc[index, 'strand'] = result['blat'][0][8]\n",
    "            df_TATA.loc[index, 'chromosome'] = result['blat'][0][13]\n",
    "            df_TATA.loc[index, 'start'] = result['blat'][0][15]\n",
    "            df_TATA.loc[index, 'end'] = result['blat'][0][16]\n",
    "            df_TATA.loc[index, 'length'] = result['blat'][0][18]\n",
    "        except json.JSONDecodeError:\n",
    "            pattern = r'\\{\\n.*\\}\\n'\n",
    "            # Find all matches of the pattern\n",
    "            matches = re.findall(pattern, response.text, re.S) # re.S flag makes . match any character including newline\n",
    "            # If matches found, convert the last one to dictionary\n",
    "            if matches:\n",
    "                dict_string = matches[-1] # assuming the last match is the correct dictionary\n",
    "                dictionary = json.loads(dict_string)\n",
    "                #print(dictionary)\n",
    "                print(dictionary['blat'][0])\n",
    "                df_TATA.loc[index, 'strand'] = dictionary['blat'][0][8]\n",
    "                df_TATA.loc[index, 'chromosome'] = dictionary['blat'][0][13]\n",
    "                df_TATA.loc[index, 'start'] = dictionary['blat'][0][15]\n",
    "                df_TATA.loc[index, 'end'] = dictionary['blat'][0][16]\n",
    "                df_TATA.loc[index, 'length'] = dictionary['blat'][0][18]\n",
    "            else:\n",
    "                print(\"No dictionary found in string\")\n",
    "                failed_index.append(index)\n",
    "    else:\n",
    "        print(f\"Error: {response.status_code}\")\n",
    "        failed_index.append(index)"
   ]
  },
  {
   "cell_type": "code",
   "execution_count": null,
   "id": "184fe1f8-a499-4536-938c-75c5236b71c6",
   "metadata": {},
   "outputs": [],
   "source": [
    "sequence = \"AACTTTTATGAATTATATATACTTTTTAACATAATTTAACTTTTTCATAGGAGAACTATGCCATTTTTGGGTCAGGACTGGAGATCTCCT\"\n",
    "get_positions(sequence)"
   ]
  },
  {
   "cell_type": "code",
   "execution_count": null,
   "id": "470f88bc-e93e-4042-8ab7-aab5c17fe89a",
   "metadata": {},
   "outputs": [],
   "source": [
    "df_TATA"
   ]
  },
  {
   "cell_type": "code",
   "execution_count": null,
   "id": "548cee06-0b68-4e53-b5bc-1eb0fcaa9c0e",
   "metadata": {},
   "outputs": [],
   "source": [
    "df_TATA.to_csv(\"/data/private/pdutta/DNABERT_data/TATA_CoreProm_Raw/rawTATA_bed.tsv\", sep= \"\\t\", index= False)"
   ]
  },
  {
   "cell_type": "code",
   "execution_count": null,
   "id": "96c2eb30-b4e9-4970-805d-2340e1f63867",
   "metadata": {
    "tags": []
   },
   "outputs": [],
   "source": [
    "with open('my_list.csv', 'w', newline='') as f:\n",
    "    writer = csv.writer(f)\n",
    "    writer.writerows([[item] for item in my_list])"
   ]
  },
  {
   "cell_type": "code",
   "execution_count": 12,
   "id": "ebe840c6-56ed-4486-b126-b9292eccd146",
   "metadata": {},
   "outputs": [
    {
     "data": {
      "text/plain": [
       "['\\n <!DOCTYPE HTML PUBLIC \"-//W3C//DTD HTML 4.01 Transitional//EN\" \"http://www.w3.org/TR/html4/loose.dtd\">\\n<HTML>\\n<HEAD>\\n<meta http-equiv=\\'Content-Security-Policy\\' content=\"default-src *; script-src \\'self\\' blob: \\'unsafe-inline\\' \\'nonce-bKfHtYumYhVE90sI4QT4PEZC2jDQ\\' code.jquery.com www.google-analytics.com www.googletagmanager.com www.samsarin.com/project/dagre-d3/latest/dagre-d3.js cdnjs.cloudflare.com/ajax/libs/d3/3.4.4/d3.min.js cdnjs.cloudflare.com/ajax/libs/jquery/1.12.1/jquery.min.js cdnjs.cloudflare.com/ajax/libs/jstree/3.2.1/jstree.min.js cdnjs.cloudflare.com/ajax/libs/bowser/1.6.1/bowser.min.js cdnjs.cloudflare.com/ajax/libs/jstree/3.3.4/jstree.min.js cdnjs.cloudflare.com/ajax/libs/jstree/3.3.7/jstree.min.js login.persona.org/include.js cdnjs.cloudflare.com/ajax/libs/popper.js/1.12.9/umd/popper.min.js ajax.googleapis.com maxcdn.bootstrapcdn.com d3js.org/d3.v3.min.js cdn.datatables.net; style-src * \\'unsafe-inline\\'; font-src * data:; img-src * data:;\">\\n<TITLE>Early Error</TITLE>\\n\\t<META http-equiv=\"Content-Script-Type\" content=\"text/javascript\">\\n<STYLE TYPE=\"text/css\">.hiddenText {background-color: silver}.normalText {background-color: white}</STYLE>\\n</HEAD>\\n\\n<BODY CLASS=\"hgBlat cgi\">\\n<center><div id=\\'warnBox\\' style=\\'display:none;\\'><CENTER><B id=\\'warnHead\\'></B></CENTER><UL id=\\'warnList\\'></UL><CENTER><button id=\\'warnOK\\'></button></CENTER></div></center>\\n<!-- HGERROR-START -->\\nThere is a very high volume of traffic coming from your site (IP address 130.245.191.238) as of Wed Jul  5 21:35:11 2023\\n (California time).  So that other users get a fair share of our bandwidth, we are putting in a delay of 10.0 seconds before we service your request.  This delay will slowly decrease over a half hour as activity returns to normal.  This high volume of traffic is likely due to program-driven rather than interactive access, or the submission of queries on a large number of sequences.  If you are making large batch queries, please write to our genome@soe.ucsc.edu public mailing list and inquire about more efficient ways to access our data.  If you are sharing an IP address with someone who is submitting large batch queries, we apologize for the inconvenience. To use the genome browser functionality from a Unix command line, please read &lt;a href=&#39;http:&#x2F;&#x2F;genome.ucsc.edu&#x2F;FAQ&#x2F;FAQdownloads.html#download36&#39;&gt;our FAQ&lt;&#x2F;a&gt; on this topic. For further help[...]\\n<!-- HGERROR-END -->\\n{\\n\"track\": \"blat\",\\n\"genome\": \"hg38\",\\n\"fields\": [\"matches\", \"misMatches\", \"repMatches\", \"nCount\", \"qNumInsert\", \"qBaseInsert\", \"tNumInsert\", \"tBaseInsert\", \"strand\", \"qName\", \"qSize\", \"qStart\", \"qEnd\", \"tName\", \"tSize\", \"tStart\", \"tEnd\", \"blockCount\", \"blockSizes\", \"qStarts\", \"tStarts\"],\\n\"blat\" : [\\n[90,0,0,0,0,0,0,0,\"+\",\"YourSeq\",90,0,90,\"chr4\",190214555,87975668,87975758,1,\"90\",\"0\",\"87975668\"],\\n[24,0,0,0,0,0,0,0,\"-\",\"YourSeq\",90,41,65,\"chrX\",156040895,153766905,153766929,1,\"24\",\"25\",\"153766905\"],\\n[26,0,0,0,1,1,1,4,\"+\",\"YourSeq\",90,40,67,\"chr15_ML143371v1_fix\",5500449,4058765,4058795,3,\"16,3,7\",\"40,57,60\",\"4058765,4058781,4058788\"],\\n[24,0,0,0,0,0,1,6,\"-\",\"YourSeq\",90,42,66,\"chrY\",57227415,22646131,22646161,2,\"8,16\",\"24,32\",\"22646131,22646145\"],\\n[24,0,0,0,0,0,1,6,\"+\",\"YourSeq\",90,42,66,\"chrY\",57227415,23550025,23550055,2,\"16,8\",\"42,58\",\"23550025,23550047\"],\\n[21,0,0,0,0,0,0,0,\"-\",\"YourSeq\",90,41,62,\"chr2\",242193529,121459482,121459503,1,\"21\",\"28\",\"121459482\"],\\n[21,0,0,0,0,0,0,0,\"+\",\"YourSeq\",90,36,57,\"chr18\",80373285,35937210,35937231,1,\"21\",\"36\",\"35937210\"],\\n[20,0,0,0,0,0,0,0,\"-\",\"YourSeq\",90,41,61,\"chr7\",159345973,127588402,127588422,1,\"20\",\"29\",\"127588402\"],\\n[20,0,0,0,0,0,0,0,\"-\",\"YourSeq\",90,41,61,\"chr4_KQ090013v1_alt\",90922,75020,75040,1,\"20\",\"29\",\"75020\"],\\n[20,0,0,0,0,0,0,0,\"-\",\"YourSeq\",90,41,61,\"chr21\",46709983,25639843,25639863,1,\"20\",\"29\",\"25639843\"]\\n]\\n}\\n\\n']"
      ]
     },
     "execution_count": 12,
     "metadata": {},
     "output_type": "execute_result"
    }
   ],
   "source": [
    "failed_list"
   ]
  },
  {
   "cell_type": "code",
   "execution_count": 25,
   "id": "3d9be50e-9ca2-47ee-848e-d4d6ca90e118",
   "metadata": {},
   "outputs": [
    {
     "data": {
      "text/plain": [
       "'\\n <!DOCTYPE HTML PUBLIC \"-//W3C//DTD HTML 4.01 Transitional//EN\" \"http://www.w3.org/TR/html4/loose.dtd\">\\n<HTML>\\n<HEAD>\\n<meta http-equiv=\\'Content-Security-Policy\\' content=\"default-src *; script-src \\'self\\' blob: \\'unsafe-inline\\' \\'nonce-bKfHtYumYhVE90sI4QT4PEZC2jDQ\\' code.jquery.com www.google-analytics.com www.googletagmanager.com www.samsarin.com/project/dagre-d3/latest/dagre-d3.js cdnjs.cloudflare.com/ajax/libs/d3/3.4.4/d3.min.js cdnjs.cloudflare.com/ajax/libs/jquery/1.12.1/jquery.min.js cdnjs.cloudflare.com/ajax/libs/jstree/3.2.1/jstree.min.js cdnjs.cloudflare.com/ajax/libs/bowser/1.6.1/bowser.min.js cdnjs.cloudflare.com/ajax/libs/jstree/3.3.4/jstree.min.js cdnjs.cloudflare.com/ajax/libs/jstree/3.3.7/jstree.min.js login.persona.org/include.js cdnjs.cloudflare.com/ajax/libs/popper.js/1.12.9/umd/popper.min.js ajax.googleapis.com maxcdn.bootstrapcdn.com d3js.org/d3.v3.min.js cdn.datatables.net; style-src * \\'unsafe-inline\\'; font-src * data:; img-src * data:;\">\\n<TITLE>Early Error</TITLE>\\n\\t<META http-equiv=\"Content-Script-Type\" content=\"text/javascript\">\\n<STYLE TYPE=\"text/css\">.hiddenText {background-color: silver}.normalText {background-color: white}</STYLE>\\n</HEAD>\\n\\n<BODY CLASS=\"hgBlat cgi\">\\n<center><div id=\\'warnBox\\' style=\\'display:none;\\'><CENTER><B id=\\'warnHead\\'></B></CENTER><UL id=\\'warnList\\'></UL><CENTER><button id=\\'warnOK\\'></button></CENTER></div></center>\\n<!-- HGERROR-START -->\\nThere is a very high volume of traffic coming from your site (IP address 130.245.191.238) as of Wed Jul  5 21:35:11 2023\\n (California time).  So that other users get a fair share of our bandwidth, we are putting in a delay of 10.0 seconds before we service your request.  This delay will slowly decrease over a half hour as activity returns to normal.  This high volume of traffic is likely due to program-driven rather than interactive access, or the submission of queries on a large number of sequences.  If you are making large batch queries, please write to our genome@soe.ucsc.edu public mailing list and inquire about more efficient ways to access our data.  If you are sharing an IP address with someone who is submitting large batch queries, we apologize for the inconvenience. To use the genome browser functionality from a Unix command line, please read &lt;a href=&#39;http:&#x2F;&#x2F;genome.ucsc.edu&#x2F;FAQ&#x2F;FAQdownloads.html#download36&#39;&gt;our FAQ&lt;&#x2F;a&gt; on this topic. For further help[...]\\n<!-- HGERROR-END -->\\n{\\n\"track\": \"blat\",\\n\"genome\": \"hg38\",\\n\"fields\": [\"matches\", \"misMatches\", \"repMatches\", \"nCount\", \"qNumInsert\", \"qBaseInsert\", \"tNumInsert\", \"tBaseInsert\", \"strand\", \"qName\", \"qSize\", \"qStart\", \"qEnd\", \"tName\", \"tSize\", \"tStart\", \"tEnd\", \"blockCount\", \"blockSizes\", \"qStarts\", \"tStarts\"],\\n\"blat\" : [\\n[90,0,0,0,0,0,0,0,\"+\",\"YourSeq\",90,0,90,\"chr4\",190214555,87975668,87975758,1,\"90\",\"0\",\"87975668\"],\\n[24,0,0,0,0,0,0,0,\"-\",\"YourSeq\",90,41,65,\"chrX\",156040895,153766905,153766929,1,\"24\",\"25\",\"153766905\"],\\n[26,0,0,0,1,1,1,4,\"+\",\"YourSeq\",90,40,67,\"chr15_ML143371v1_fix\",5500449,4058765,4058795,3,\"16,3,7\",\"40,57,60\",\"4058765,4058781,4058788\"],\\n[24,0,0,0,0,0,1,6,\"-\",\"YourSeq\",90,42,66,\"chrY\",57227415,22646131,22646161,2,\"8,16\",\"24,32\",\"22646131,22646145\"],\\n[24,0,0,0,0,0,1,6,\"+\",\"YourSeq\",90,42,66,\"chrY\",57227415,23550025,23550055,2,\"16,8\",\"42,58\",\"23550025,23550047\"],\\n[21,0,0,0,0,0,0,0,\"-\",\"YourSeq\",90,41,62,\"chr2\",242193529,121459482,121459503,1,\"21\",\"28\",\"121459482\"],\\n[21,0,0,0,0,0,0,0,\"+\",\"YourSeq\",90,36,57,\"chr18\",80373285,35937210,35937231,1,\"21\",\"36\",\"35937210\"],\\n[20,0,0,0,0,0,0,0,\"-\",\"YourSeq\",90,41,61,\"chr7\",159345973,127588402,127588422,1,\"20\",\"29\",\"127588402\"],\\n[20,0,0,0,0,0,0,0,\"-\",\"YourSeq\",90,41,61,\"chr4_KQ090013v1_alt\",90922,75020,75040,1,\"20\",\"29\",\"75020\"],\\n[20,0,0,0,0,0,0,0,\"-\",\"YourSeq\",90,41,61,\"chr21\",46709983,25639843,25639863,1,\"20\",\"29\",\"25639843\"]\\n]\\n}\\n\\n'"
      ]
     },
     "execution_count": 25,
     "metadata": {},
     "output_type": "execute_result"
    }
   ],
   "source": [
    "string =failed_list[0] \n",
    "string"
   ]
  },
  {
   "cell_type": "code",
   "execution_count": 34,
   "id": "bd60a858-9397-4c34-a107-42b9385bef0f",
   "metadata": {},
   "outputs": [
    {
     "name": "stdout",
     "output_type": "stream",
     "text": [
      "[90, 0, 0, 0, 0, 0, 0, 0, '+', 'YourSeq', 90, 0, 90, 'chr4', 190214555, 87975668, 87975758, 1, '90', '0', '87975668']\n"
     ]
    }
   ],
   "source": [
    "pattern = r'\\{\\n.*\\}\\n'\n",
    "\n",
    "# Find all matches of the pattern\n",
    "matches = re.findall(pattern, string, re.S) # re.S flag makes . match any character including newline\n",
    "\n",
    "# If matches found, convert the last one to dictionary\n",
    "if matches:\n",
    "    dict_string = matches[-1] # assuming the last match is the correct dictionary\n",
    "    dictionary = json.loads(dict_string)\n",
    "    #print(dictionary)\n",
    "    print(dictionary['blat'][0])\n",
    "else:\n",
    "    print(\"No dictionary found in string\")"
   ]
  },
  {
   "cell_type": "code",
   "execution_count": 41,
   "id": "e1ffb9a4-451a-42e3-8392-5e853972bffb",
   "metadata": {},
   "outputs": [
    {
     "data": {
      "text/plain": [
       "'\"+\"'"
      ]
     },
     "execution_count": 41,
     "metadata": {},
     "output_type": "execute_result"
    }
   ],
   "source": [
    "failed_list[0].split(',')[36]"
   ]
  },
  {
   "cell_type": "code",
   "execution_count": null,
   "id": "99abd186-cc3e-434e-847e-746dc1540af1",
   "metadata": {},
   "outputs": [
    {
     "data": {
      "text/plain": [
       "[]"
      ]
     },
     "execution_count": 24,
     "metadata": {},
     "output_type": "execute_result"
    }
   ],
   "source": []
  }
 ],
 "metadata": {
  "kernelspec": {
   "display_name": "Python 3 (ipykernel)",
   "language": "python",
   "name": "python3"
  },
  "language_info": {
   "codemirror_mode": {
    "name": "ipython",
    "version": 3
   },
   "file_extension": ".py",
   "mimetype": "text/x-python",
   "name": "python",
   "nbconvert_exporter": "python",
   "pygments_lexer": "ipython3",
   "version": "3.10.11"
  }
 },
 "nbformat": 4,
 "nbformat_minor": 5
}
