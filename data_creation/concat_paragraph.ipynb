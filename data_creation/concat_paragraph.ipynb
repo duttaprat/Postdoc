{
 "cells": [
  {
   "cell_type": "code",
   "execution_count": 3,
   "id": "5fbfbfe9-3a3e-4c86-8e86-79d3ec5ac13f",
   "metadata": {},
   "outputs": [],
   "source": [
    "import os\n",
    "import glob\n",
    "import pandas as pd\n",
    "import itertools\n",
    "# os.chdir(\"/directory\")\n",
    "import re "
   ]
  },
  {
   "cell_type": "code",
   "execution_count": 2,
   "id": "e1816998-278f-4fb4-9400-501eca49b143",
   "metadata": {},
   "outputs": [],
   "source": [
    "os.chdir(\"/data05/shared/pdutta_data/DNABERT_2.0/pretrain/chromosome_wise_kmer_paragraph\")"
   ]
  },
  {
   "cell_type": "code",
   "execution_count": 29,
   "id": "1fe1ffc9-5448-489d-b77e-778d5c62ebec",
   "metadata": {},
   "outputs": [],
   "source": [
    "file_path= \"/data05/shared/pdutta_data/DNABERT_2.0/pretrain/pretrain_paragraph/all_paragraphs_10.txt\""
   ]
  },
  {
   "cell_type": "code",
   "execution_count": 4,
   "id": "5817920f-2980-4bff-8529-2b9a4a85b270",
   "metadata": {},
   "outputs": [],
   "source": [
    "def sorted_nicely( l ): \n",
    "    \"\"\" Sort the given iterable in the way that humans expect.\"\"\" \n",
    "    convert = lambda text: int(text) if text.isdigit() else text \n",
    "    alphanum_key = lambda key: [ convert(c) for c in re.split('([0-9]+)', key) ] \n",
    "    return sorted(l, key = alphanum_key)"
   ]
  },
  {
   "cell_type": "code",
   "execution_count": 5,
   "id": "25f6eed6-f22f-4fd8-9316-19771b602ca1",
   "metadata": {},
   "outputs": [],
   "source": [
    "file_extension = '.txt'\n",
    "all_filenames = [i for i in glob.glob(f\"*{file_extension}\")]\n",
    "all_filenames_sort  = sorted_nicely(all_filenames)"
   ]
  },
  {
   "cell_type": "code",
   "execution_count": 6,
   "id": "f312888f-54d5-4e3f-a9cb-7d0332f4569a",
   "metadata": {},
   "outputs": [
    {
     "data": {
      "text/plain": [
       "['chr1_kmer_paragraph.txt',\n",
       " 'chr2_kmer_paragraph.txt',\n",
       " 'chr3_kmer_paragraph.txt',\n",
       " 'chr4_kmer_paragraph.txt',\n",
       " 'chr5_kmer_paragraph.txt',\n",
       " 'chr6_kmer_paragraph.txt',\n",
       " 'chr7_kmer_paragraph.txt',\n",
       " 'chr8_kmer_paragraph.txt',\n",
       " 'chr9_kmer_paragraph.txt',\n",
       " 'chr10_kmer_paragraph.txt',\n",
       " 'chr11_kmer_paragraph.txt',\n",
       " 'chr12_kmer_paragraph.txt',\n",
       " 'chr13_kmer_paragraph.txt',\n",
       " 'chr14_kmer_paragraph.txt',\n",
       " 'chr15_kmer_paragraph.txt',\n",
       " 'chr16_kmer_paragraph.txt',\n",
       " 'chr17_kmer_paragraph.txt',\n",
       " 'chr18_kmer_paragraph.txt',\n",
       " 'chr19_kmer_paragraph.txt',\n",
       " 'chr20_kmer_paragraph.txt',\n",
       " 'chr21_kmer_paragraph.txt',\n",
       " 'chr22_kmer_paragraph.txt',\n",
       " 'chrX_kmer_paragraph.txt',\n",
       " 'chrY_kmer_paragraph.txt']"
      ]
     },
     "execution_count": 6,
     "metadata": {},
     "output_type": "execute_result"
    }
   ],
   "source": [
    "all_filenames_sort"
   ]
  },
  {
   "cell_type": "code",
   "execution_count": null,
   "id": "e5a12b47-c683-4ab4-979e-7583670d9063",
   "metadata": {},
   "outputs": [],
   "source": []
  },
  {
   "cell_type": "code",
   "execution_count": 24,
   "id": "f5a4d90d-6cc4-417a-80ec-0db2df9ab011",
   "metadata": {},
   "outputs": [],
   "source": [
    "# with open('chr1_kmer_paragraph.txt') as infile:\n",
    "#     lines = infile.read()\n",
    "#     print(lines)"
   ]
  },
  {
   "cell_type": "code",
   "execution_count": 30,
   "id": "14a3a076-f64e-4cf2-be96-4c03f15f96d1",
   "metadata": {},
   "outputs": [
    {
     "name": "stdout",
     "output_type": "stream",
     "text": [
      "chr1_kmer_paragraph.txt\n",
      "chr2_kmer_paragraph.txt\n",
      "chr3_kmer_paragraph.txt\n",
      "chr4_kmer_paragraph.txt\n",
      "chr5_kmer_paragraph.txt\n",
      "chr6_kmer_paragraph.txt\n",
      "chr7_kmer_paragraph.txt\n",
      "chr8_kmer_paragraph.txt\n",
      "chr9_kmer_paragraph.txt\n",
      "chr10_kmer_paragraph.txt\n"
     ]
    }
   ],
   "source": [
    "temp_str= ''\n",
    "for file in all_filenames_sort[0:10]:\n",
    "    print(file)\n",
    "    with open(file) as infile:\n",
    "        lines = infile.read()\n",
    "        temp_str = temp_str+ lines[1:-1]\n",
    "temp_str = '['+temp_str[:-1]+\"]\""
   ]
  },
  {
   "cell_type": "code",
   "execution_count": 31,
   "id": "f92a3d4d-2156-4756-85d2-d157bc2f2fd5",
   "metadata": {},
   "outputs": [],
   "source": [
    "with open(file_path, 'w') as fp:\n",
    "    fp.write(\"%s\" % temp_str)"
   ]
  },
  {
   "cell_type": "code",
   "execution_count": null,
   "id": "c24cf75d-aaac-40c9-b5fb-d29607e3d1df",
   "metadata": {},
   "outputs": [],
   "source": []
  },
  {
   "cell_type": "code",
   "execution_count": null,
   "id": "353ef5bf-6c85-43b5-b624-8ebd223ab275",
   "metadata": {},
   "outputs": [],
   "source": []
  }
 ],
 "metadata": {
  "kernelspec": {
   "display_name": "Python 3 (ipykernel)",
   "language": "python",
   "name": "python3"
  },
  "language_info": {
   "codemirror_mode": {
    "name": "ipython",
    "version": 3
   },
   "file_extension": ".py",
   "mimetype": "text/x-python",
   "name": "python",
   "nbconvert_exporter": "python",
   "pygments_lexer": "ipython3",
   "version": "3.10.11"
  }
 },
 "nbformat": 4,
 "nbformat_minor": 5
}
