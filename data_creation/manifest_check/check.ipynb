{
 "cells": [
  {
   "cell_type": "code",
   "execution_count": 1,
   "id": "0bc2ced9-0845-4b7c-aee6-efc3a7e6b8bb",
   "metadata": {},
   "outputs": [],
   "source": [
    "import pandas as pd\n",
    "import os"
   ]
  },
  {
   "cell_type": "code",
   "execution_count": 2,
   "id": "39c8a31f-305f-4729-8b76-cbd09a2bc5f7",
   "metadata": {},
   "outputs": [],
   "source": [
    "MANIFEST_PATH = \"/home/pdutta/Data/Cancer_wiseGDC/Manifest_files/BronchusLung_gdc_manifest.2023-08-30.txt\""
   ]
  },
  {
   "cell_type": "code",
   "execution_count": 3,
   "id": "4ecfd4f7-9da1-4e1e-a5ea-a360a67c3f2d",
   "metadata": {},
   "outputs": [],
   "source": [
    "with open(MANIFEST_PATH, 'r') as f:\n",
    "        lines = f.readlines()[1:]  # Skip the header\n",
    "        file_ids = [line.split('\\t')[1] for line in lines]"
   ]
  },
  {
   "cell_type": "code",
   "execution_count": 4,
   "id": "bf1dd334-be3e-4df4-b299-6c2482124bb4",
   "metadata": {},
   "outputs": [],
   "source": [
    "vcf_files = set(f for f in os.listdir('/home/pdutta/Data/GDC/RAMANA/data/VCF_multi') if f.endswith('.vcf.gz'))"
   ]
  },
  {
   "cell_type": "code",
   "execution_count": 5,
   "id": "b77c38f7-7ec7-4c35-9b29-0b7162a51e5f",
   "metadata": {},
   "outputs": [
    {
     "data": {
      "text/plain": [
       "{'000520ed-d9c8-496c-84b2-5f483ab271fd_wgs_gdc_realn.bam',\n",
       " '03576ae9-4222-48c3-a428-d85aec400bd6_wgs_gdc_realn.bam',\n",
       " '04911942-c9a9-473f-93d5-79c0c14944ac_wgs_gdc_realn.bam',\n",
       " '0c39c03a-ec84-42c6-be69-8e98bc7a9f5a_wgs_gdc_realn.bam',\n",
       " '0ed63d84-d3fe-4289-9255-35f4a03b703b_wgs_gdc_realn.bam',\n",
       " '14dd8bdc-9413-47fa-ab23-15ec575d06e5_wgs_gdc_realn.bam',\n",
       " '1c4c0193-231e-4559-b362-94c10bbd7f67_wgs_gdc_realn.bam',\n",
       " '251c7cf7-eabb-4349-8e25-fc156d84314a_wgs_gdc_realn.bam',\n",
       " '327826b3-ddc6-4478-a28d-9688b58f279f_wgs_gdc_realn.bam',\n",
       " '3bf67116-be87-4c02-b931-352ebb7f3b48_wgs_gdc_realn.bam',\n",
       " '425bf16e-aeb2-453a-932b-b3f59016b041_wgs_gdc_realn.bam',\n",
       " '493e7008-551c-4c0e-b567-a0f31868629e_wgs_gdc_realn.bam',\n",
       " '559d615c-be5b-4ad1-8860-b633a0b361b6_wgs_gdc_realn.bam',\n",
       " '57ccbcc4-df14-48cb-9f31-bf776d712e32_wgs_gdc_realn.bam',\n",
       " '59e0535c-bc9c-4584-a559-331c216ef4c9_wgs_gdc_realn.bam',\n",
       " '60d15c0c-a12e-4fe5-8d76-cad096f2c248_wgs_gdc_realn.bam',\n",
       " '62d20b8b-a793-432a-895c-d496cd3fae2c_wgs_gdc_realn.bam',\n",
       " '638e80c7-9a6e-4a32-a621-fc4168e72343_wgs_gdc_realn_chr1.bam',\n",
       " '638e80c7-9a6e-4a32-a621-fc4168e72343_wgs_gdc_realn_chr10.bam',\n",
       " '638e80c7-9a6e-4a32-a621-fc4168e72343_wgs_gdc_realn_chr11.bam',\n",
       " '638e80c7-9a6e-4a32-a621-fc4168e72343_wgs_gdc_realn_chr12.bam',\n",
       " '638e80c7-9a6e-4a32-a621-fc4168e72343_wgs_gdc_realn_chr13.bam',\n",
       " '638e80c7-9a6e-4a32-a621-fc4168e72343_wgs_gdc_realn_chr14.bam',\n",
       " '638e80c7-9a6e-4a32-a621-fc4168e72343_wgs_gdc_realn_chr15.bam',\n",
       " '638e80c7-9a6e-4a32-a621-fc4168e72343_wgs_gdc_realn_chr16.bam',\n",
       " '638e80c7-9a6e-4a32-a621-fc4168e72343_wgs_gdc_realn_chr17.bam',\n",
       " '638e80c7-9a6e-4a32-a621-fc4168e72343_wgs_gdc_realn_chr18.bam',\n",
       " '638e80c7-9a6e-4a32-a621-fc4168e72343_wgs_gdc_realn_chr19.bam',\n",
       " '638e80c7-9a6e-4a32-a621-fc4168e72343_wgs_gdc_realn_chr2.bam',\n",
       " '638e80c7-9a6e-4a32-a621-fc4168e72343_wgs_gdc_realn_chr20.bam',\n",
       " '638e80c7-9a6e-4a32-a621-fc4168e72343_wgs_gdc_realn_chr21.bam',\n",
       " '638e80c7-9a6e-4a32-a621-fc4168e72343_wgs_gdc_realn_chr22.bam',\n",
       " '638e80c7-9a6e-4a32-a621-fc4168e72343_wgs_gdc_realn_chr3.bam',\n",
       " '638e80c7-9a6e-4a32-a621-fc4168e72343_wgs_gdc_realn_chr4.bam',\n",
       " '638e80c7-9a6e-4a32-a621-fc4168e72343_wgs_gdc_realn_chr5.bam',\n",
       " '638e80c7-9a6e-4a32-a621-fc4168e72343_wgs_gdc_realn_chr6.bam',\n",
       " '638e80c7-9a6e-4a32-a621-fc4168e72343_wgs_gdc_realn_chr7.bam',\n",
       " '638e80c7-9a6e-4a32-a621-fc4168e72343_wgs_gdc_realn_chr8.bam',\n",
       " '638e80c7-9a6e-4a32-a621-fc4168e72343_wgs_gdc_realn_chr9.bam',\n",
       " '638e80c7-9a6e-4a32-a621-fc4168e72343_wgs_gdc_realn_chrX.bam',\n",
       " '638e80c7-9a6e-4a32-a621-fc4168e72343_wgs_gdc_realn_chrY.bam',\n",
       " '63dc530d-0968-45a2-ba97-bfff1ef2e5cd_wgs_gdc_realn.bam',\n",
       " '64446aec-c125-4c81-b9cc-62482cb1aaed_wgs_gdc_realn.bam',\n",
       " '70ae0c44-bf61-4871-88a2-c7f5ee11296c_wgs_gdc_realn.bam',\n",
       " '790e7d9b-a1e6-40ef-b46d-22e35dab4e5d_wgs_gdc_realn.bam',\n",
       " '7cdbe0e8-f614-4f54-b864-fd6b39e8ef1c_wgs_gdc_realn.bam',\n",
       " '7ff43be0-1381-4220-a165-9a9e17909534_wgs_gdc_realn.bam',\n",
       " '80b03480-5d28-481e-a447-59140d82f1f8_wgs_gdc_realn.bam',\n",
       " '81a99699-bb5d-4a80-b132-77eddb57f984_wgs_gdc_realn.bam',\n",
       " '82be6087-a491-42d4-9b48-6a10d1bace18_wgs_gdc_realn.bam',\n",
       " '85a7922f-0327-437c-bdf5-1bb67a1e932f_wgs_gdc_realn.bam',\n",
       " '8c9e2ce1-0c90-49e7-a0ea-0ac0efcb7f6b_wgs_gdc_realn_chr6.bam',\n",
       " '8c9e2ce1-0c90-49e7-a0ea-0ac0efcb7f6b_wgs_gdc_realn_chrX.bam',\n",
       " '8cdb3395-5562-4fae-89af-2980f5f9b09b_wgs_gdc_realn.bam',\n",
       " '96da0697-64a5-4ec6-89be-40dbaafc65bc_wgs_gdc_realn.bam',\n",
       " '9d3b0b87-5fc5-4d09-9c63-4d5fc4bc46d0_wgs_gdc_realn.bam',\n",
       " 'a4e6d494-865f-4f60-b9c6-13c9c0cea6ab_wgs_gdc_realn.bam',\n",
       " 'a803f2cd-f90d-4e51-8d90-1e6af6897413_wgs_gdc_realn.bam',\n",
       " 'a9768535-fe1c-4b4f-b709-ded0809ba592_wgs_gdc_realn.bam',\n",
       " 'aa436363-9d2a-42f4-87c2-55e5dfa9f8d1_wgs_gdc_realn.bam',\n",
       " 'b294f25a-93d9-49a6-8fd3-6d2b0bbef27c_wgs_gdc_realn.bam',\n",
       " 'b66f8b97-9149-4c12-a66e-4bc7d1352269_wgs_gdc_realn.bam',\n",
       " 'bd2ec47b-a120-4b3b-b10d-aee09805ab33_wgs_gdc_realn.bam',\n",
       " 'bdafad43-c3ae-4356-8b6f-db08aca4edd1_wgs_gdc_realn.bam',\n",
       " 'bf471c04-91b1-4ccc-9cd2-101b7f008edc_wgs_gdc_realn.bam',\n",
       " 'c177e222-b7e4-464c-878b-31497e2794f6_wgs_gdc_realn.bam',\n",
       " 'c1abb741-4fcd-4161-b057-c7efd619cc99_wgs_gdc_realn.bam',\n",
       " 'c27c265e-8eb0-4808-a639-6f62c7e7bf4b_wgs_gdc_realn.bam',\n",
       " 'c9e9dc46-2917-47be-92da-9c40c6f13500_wgs_gdc_realn.bam',\n",
       " 'cc19a480-9c66-4ee8-a0c0-921acac02689_wgs_gdc_realn.bam',\n",
       " 'cceae3ab-084b-4ee9-a98d-0dfb6a8c536f_wgs_gdc_realn.bam',\n",
       " 'ceca5e63-f8bd-4eeb-bf6a-8360e1b340f5_wgs_gdc_realn.bam',\n",
       " 'd54ca81c-1bcc-41ea-b17a-9f7249ebe9c1_wgs_gdc_realn.bam',\n",
       " 'd6ea054f-372b-4fc7-a9f4-c61f74f8f1ee_wgs_gdc_realn.bam',\n",
       " 'efd9e8d3-7803-4996-85d3-8a9449b3c1ac_wgs_gdc_realn.bam',\n",
       " 'fbf937f1-5f30-470c-8a77-46cd1c41e073_wgs_gdc_realn.bam',\n",
       " 'fc812906-d3b6-4210-a842-96f095280cbf_wgs_gdc_realn.bam',\n",
       " 'fee715cf-4d4e-49b0-a8dc-dad81f1c0117_wgs_gdc_realn.bam'}"
      ]
     },
     "execution_count": 5,
     "metadata": {},
     "output_type": "execute_result"
    }
   ],
   "source": [
    "vcf_file_new = {f.replace('.vcf.gz','.bam') for f in vcf_files}\n",
    "vcf_file_new"
   ]
  },
  {
   "cell_type": "code",
   "execution_count": 6,
   "id": "695abc47-2fb2-4774-b0ba-74e621c6bf22",
   "metadata": {},
   "outputs": [
    {
     "data": {
      "text/plain": [
       "{'000520ed-d9c8-496c-84b2-5f483ab271fd_wgs_gdc_realn.bam',\n",
       " '251c7cf7-eabb-4349-8e25-fc156d84314a_wgs_gdc_realn.bam',\n",
       " 'd54ca81c-1bcc-41ea-b17a-9f7249ebe9c1_wgs_gdc_realn.bam'}"
      ]
     },
     "execution_count": 6,
     "metadata": {},
     "output_type": "execute_result"
    }
   ],
   "source": [
    "vcf_file_new.intersection(file_ids)"
   ]
  },
  {
   "cell_type": "code",
   "execution_count": null,
   "id": "57fe28e9-6ca0-4ab2-91ad-f19e9bbeae85",
   "metadata": {},
   "outputs": [],
   "source": []
  }
 ],
 "metadata": {
  "kernelspec": {
   "display_name": "Python 3 (ipykernel)",
   "language": "python",
   "name": "python3"
  },
  "language_info": {
   "codemirror_mode": {
    "name": "ipython",
    "version": 3
   },
   "file_extension": ".py",
   "mimetype": "text/x-python",
   "name": "python",
   "nbconvert_exporter": "python",
   "pygments_lexer": "ipython3",
   "version": "3.10.4"
  }
 },
 "nbformat": 4,
 "nbformat_minor": 5
}
