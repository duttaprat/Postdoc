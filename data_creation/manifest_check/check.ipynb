{
 "cells": [
  {
   "cell_type": "code",
   "execution_count": 1,
   "id": "0bc2ced9-0845-4b7c-aee6-efc3a7e6b8bb",
   "metadata": {},
   "outputs": [],
   "source": [
    "import pandas as pd\n",
    "import os"
   ]
  },
  {
   "cell_type": "code",
   "execution_count": 3,
   "id": "39c8a31f-305f-4729-8b76-cbd09a2bc5f7",
   "metadata": {},
   "outputs": [],
   "source": [
    "MANIFEST_PATH = \"/data/projects/GDC_Cancer_Wise /BRAIN/Manifest/Brain_gdc_manifest.2023-08-30.txt\""
   ]
  },
  {
   "cell_type": "code",
   "execution_count": 6,
   "id": "4ecfd4f7-9da1-4e1e-a5ea-a360a67c3f2d",
   "metadata": {},
   "outputs": [],
   "source": [
    "with open(MANIFEST_PATH, 'r') as f:\n",
    "        lines = f.readlines()[1:]  # Skip the header\n",
    "        file_ids = [line.split('\\t')[1] for line in lines]"
   ]
  },
  {
   "cell_type": "code",
   "execution_count": 8,
   "id": "bf1dd334-be3e-4df4-b299-6c2482124bb4",
   "metadata": {},
   "outputs": [],
   "source": [
    "vcf_files = set(f for f in os.listdir('/data/projects/BAM_files/data/VCF_multi') if f.endswith('.vcf.gz'))"
   ]
  },
  {
   "cell_type": "code",
   "execution_count": 16,
   "id": "b77c38f7-7ec7-4c35-9b29-0b7162a51e5f",
   "metadata": {},
   "outputs": [
    {
     "data": {
      "text/plain": [
       "{'0702091b-3a66-48bb-ac91-1f4259151191_wgs_gdc_realn.bam',\n",
       " '27168c7b-d67e-4b11-b5ba-a79fb523400b_wgs_gdc_realn.bam',\n",
       " '295e29a6-5ca9-4c89-84c4-679ac988a1f6_wgs_gdc_realn.bam',\n",
       " '2cdc4cce-0877-4ec1-85f5-20c909912e65_wgs_gdc_realn.bam',\n",
       " '37179766-a54a-4fa0-9e6e-5a33abf3ac45_wgs_gdc_realn.bam',\n",
       " '4bae2f08-da75-4991-acb8-5ba9912f9131_wgs_gdc_realn.bam',\n",
       " '52d6ebb2-5e01-409b-bbf9-389d5086bf05_wgs_gdc_realn.bam',\n",
       " '5310f698-d31a-4628-84b4-dc9ac29722a5_wgs_gdc_realn.bam',\n",
       " '5d8e8da5-04ff-4548-96ec-ae1e80c57cd1_wgs_gdc_realn.bam',\n",
       " '5dbf3203-ce73-41e4-bf9a-32fc856f73f5_wgs_gdc_realn.bam',\n",
       " '631554d6-fda1-4d51-8fa8-2225a0a0f285_wgs_gdc_realn.bam',\n",
       " '689630ad-8262-403b-9983-b4bae99b8a45_wgs_gdc_realn.bam',\n",
       " '71807b57-89d9-40ab-bbbb-d63e2c86040c_wgs_gdc_realn.bam',\n",
       " '76b6c767-1230-46fa-8cfd-c128f0b580e0_wgs_gdc_realn.bam',\n",
       " '7b31ac99-e2be-4715-b60e-4737c96bb145_wgs_gdc_realn.bam',\n",
       " '8f8a8062-1fee-4b53-97aa-a3fdf6b3562f_wgs_gdc_realn.bam',\n",
       " '95134c87-66c1-4c65-bfd5-883e2004e20a_wgs_gdc_realn.bam',\n",
       " '97721561-b3ce-4b56-b0d2-b7c70e978526_wgs_gdc_realn.bam',\n",
       " '9cc4e7db-b881-406f-9e7d-b4e09d0fa644_wgs_gdc_realn.bam',\n",
       " 'TCGA-BJ-A0Z9-01A-11D-A85F-36.WholeGenome.RP-1657.bam',\n",
       " 'TCGA-BJ-A0ZF-01A-11D-A85F-36.WholeGenome.RP-1657.bam',\n",
       " 'TCGA-BJ-A291-01A-11D-A85F-36.WholeGenome.RP-1657.bam',\n",
       " 'TCGA-BJ-A4O8-10A-01D-A85F-36.WholeGenome.RP-1657.bam',\n",
       " 'TCGA-DE-A4M8-10A-01D-A85G-36.WholeGenome.RP-1657.bam',\n",
       " 'TCGA-DJ-A1QM-10A-01D-A85G-36.WholeGenome.RP-1657_chr1.bam',\n",
       " 'TCGA-DJ-A1QM-10A-01D-A85G-36.WholeGenome.RP-1657_chr10.bam',\n",
       " 'TCGA-DJ-A1QM-10A-01D-A85G-36.WholeGenome.RP-1657_chr11.bam',\n",
       " 'TCGA-DJ-A1QM-10A-01D-A85G-36.WholeGenome.RP-1657_chr12.bam',\n",
       " 'TCGA-DJ-A1QM-10A-01D-A85G-36.WholeGenome.RP-1657_chr13.bam',\n",
       " 'TCGA-DJ-A1QM-10A-01D-A85G-36.WholeGenome.RP-1657_chr14.bam',\n",
       " 'TCGA-DJ-A1QM-10A-01D-A85G-36.WholeGenome.RP-1657_chr15.bam',\n",
       " 'TCGA-DJ-A1QM-10A-01D-A85G-36.WholeGenome.RP-1657_chr16.bam',\n",
       " 'TCGA-DJ-A1QM-10A-01D-A85G-36.WholeGenome.RP-1657_chr17.bam',\n",
       " 'TCGA-DJ-A1QM-10A-01D-A85G-36.WholeGenome.RP-1657_chr18.bam',\n",
       " 'TCGA-DJ-A1QM-10A-01D-A85G-36.WholeGenome.RP-1657_chr19.bam',\n",
       " 'TCGA-DJ-A1QM-10A-01D-A85G-36.WholeGenome.RP-1657_chr2.bam',\n",
       " 'TCGA-DJ-A1QM-10A-01D-A85G-36.WholeGenome.RP-1657_chr20.bam',\n",
       " 'TCGA-DJ-A1QM-10A-01D-A85G-36.WholeGenome.RP-1657_chr21.bam',\n",
       " 'TCGA-DJ-A1QM-10A-01D-A85G-36.WholeGenome.RP-1657_chr22.bam',\n",
       " 'TCGA-DJ-A1QM-10A-01D-A85G-36.WholeGenome.RP-1657_chr3.bam',\n",
       " 'TCGA-DJ-A1QM-10A-01D-A85G-36.WholeGenome.RP-1657_chr4.bam',\n",
       " 'TCGA-DJ-A1QM-10A-01D-A85G-36.WholeGenome.RP-1657_chr5.bam',\n",
       " 'TCGA-DJ-A1QM-10A-01D-A85G-36.WholeGenome.RP-1657_chr6.bam',\n",
       " 'TCGA-DJ-A1QM-10A-01D-A85G-36.WholeGenome.RP-1657_chr7.bam',\n",
       " 'TCGA-DJ-A1QM-10A-01D-A85G-36.WholeGenome.RP-1657_chr8.bam',\n",
       " 'TCGA-DJ-A1QM-10A-01D-A85G-36.WholeGenome.RP-1657_chr9.bam',\n",
       " 'TCGA-DJ-A1QM-10A-01D-A85G-36.WholeGenome.RP-1657_chrX.bam',\n",
       " 'TCGA-DJ-A1QM-10A-01D-A85G-36.WholeGenome.RP-1657_chrY.bam',\n",
       " 'TCGA-DJ-A1QO-10A-01D-A85G-36.WholeGenome.RP-1657.bam',\n",
       " 'TCGA-DJ-A2PY-01A-11D-A85G-36.WholeGenome.RP-1657.bam',\n",
       " 'a37995bf-5cf9-45da-a480-e21c1c98c4d1_wgs_gdc_realn.bam',\n",
       " 'a67f4531-99ef-43df-82f5-f6abc4b11826_wgs_gdc_realn.bam',\n",
       " 'a7ee4e31-77df-470b-a748-87bb4df76fd5_wgs_gdc_realn.bam',\n",
       " 'adfefa9c-2e3e-444d-8018-f364999f5f42_wgs_gdc_realn.bam',\n",
       " 'b22e3766-3fc6-4e77-86d0-0a10a810d313_wgs_gdc_realn.bam',\n",
       " 'b2afbcba-d67d-43f1-be3b-05f3a5836ec0_wgs_gdc_realn.bam',\n",
       " 'b32d8211-d6fb-4fbd-9727-536b1e77a69d_wgs_gdc_realn.bam',\n",
       " 'b33a4712-88d6-40c0-a09c-f837438461d3_wgs_gdc_realn.bam',\n",
       " 'bada9982-36a5-48b3-be62-dfd0d8ac7fc8_wgs_gdc_realn.bam',\n",
       " 'c3acee2b-aa06-4400-a29e-9c244dd6eda8_wgs_gdc_realn.bam',\n",
       " 'c48121fd-7f92-4206-be49-41f103cb35c8_wgs_gdc_realn.bam',\n",
       " 'c54fb259-8bcf-495a-b96b-40266cad460f_wgs_gdc_realn.bam',\n",
       " 'c5be2240-6c97-4875-a26f-79b7f17d067f_wgs_gdc_realn.bam',\n",
       " 'ccf319c5-bf63-4423-8d31-10013bb84baa_wgs_gdc_realn.bam',\n",
       " 'd141e42e-aa3b-46ed-815f-3192b1959bf4_wgs_gdc_realn.bam',\n",
       " 'dc4ccdc1-cd63-4d2c-979a-ef193529d0d3_wgs_gdc_realn.bam',\n",
       " 'e9f2c198-8f5f-4fcd-aad4-e9a1127b529d_wgs_gdc_realn.bam',\n",
       " 'eec629e1-e1c3-4a64-9f06-08c0607f8b90_wgs_gdc_realn.bam',\n",
       " 'f8fa24d5-db63-4545-bcdd-55b50e01bc3e_wgs_gdc_realn.bam'}"
      ]
     },
     "execution_count": 16,
     "metadata": {},
     "output_type": "execute_result"
    }
   ],
   "source": [
    "vcf_file_new = {f.replace('.vcf.gz','.bam') for f in vcf_files}\n",
    "vcf_file_new"
   ]
  },
  {
   "cell_type": "code",
   "execution_count": 17,
   "id": "695abc47-2fb2-4774-b0ba-74e621c6bf22",
   "metadata": {},
   "outputs": [
    {
     "data": {
      "text/plain": [
       "{'b32d8211-d6fb-4fbd-9727-536b1e77a69d_wgs_gdc_realn.bam'}"
      ]
     },
     "execution_count": 17,
     "metadata": {},
     "output_type": "execute_result"
    }
   ],
   "source": [
    "vcf_file_new.intersection(file_ids)"
   ]
  },
  {
   "cell_type": "code",
   "execution_count": null,
   "id": "57fe28e9-6ca0-4ab2-91ad-f19e9bbeae85",
   "metadata": {},
   "outputs": [],
   "source": []
  }
 ],
 "metadata": {
  "kernelspec": {
   "display_name": "Python 3 (ipykernel)",
   "language": "python",
   "name": "python3"
  },
  "language_info": {
   "codemirror_mode": {
    "name": "ipython",
    "version": 3
   },
   "file_extension": ".py",
   "mimetype": "text/x-python",
   "name": "python",
   "nbconvert_exporter": "python",
   "pygments_lexer": "ipython3",
   "version": "3.10.11"
  }
 },
 "nbformat": 4,
 "nbformat_minor": 5
}
