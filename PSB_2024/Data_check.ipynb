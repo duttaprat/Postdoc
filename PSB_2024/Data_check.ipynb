{
 "cells": [
  {
   "cell_type": "code",
   "execution_count": 1,
   "id": "597f39ad-9401-48db-b940-8fcd57b273fa",
   "metadata": {},
   "outputs": [],
   "source": [
    "import os\n",
    "import pandas as pd\n",
    "import numpy as np"
   ]
  },
  {
   "cell_type": "code",
   "execution_count": 2,
   "id": "39a63377-ecfa-48be-bce6-f93c7ce3bc51",
   "metadata": {},
   "outputs": [],
   "source": [
    "df  =pd.read_csv(\"/data/projects/PSB/DNABERT_data/CoreProm/chr1/dev.tsv\", sep= \"\\t\")"
   ]
  },
  {
   "cell_type": "code",
   "execution_count": 3,
   "id": "5d53d149-8f40-4098-8c91-8bf3df25d1e0",
   "metadata": {},
   "outputs": [
    {
     "data": {
      "text/plain": [
       "Index(['Sequence', 'Label'], dtype='object')"
      ]
     },
     "execution_count": 3,
     "metadata": {},
     "output_type": "execute_result"
    }
   ],
   "source": [
    "df.columns"
   ]
  },
  {
   "cell_type": "code",
   "execution_count": 4,
   "id": "e596f15f-6693-4ede-a7d2-1e62135e1012",
   "metadata": {},
   "outputs": [
    {
     "data": {
      "text/html": [
       "<div>\n",
       "<style scoped>\n",
       "    .dataframe tbody tr th:only-of-type {\n",
       "        vertical-align: middle;\n",
       "    }\n",
       "\n",
       "    .dataframe tbody tr th {\n",
       "        vertical-align: top;\n",
       "    }\n",
       "\n",
       "    .dataframe thead th {\n",
       "        text-align: right;\n",
       "    }\n",
       "</style>\n",
       "<table border=\"1\" class=\"dataframe\">\n",
       "  <thead>\n",
       "    <tr style=\"text-align: right;\">\n",
       "      <th></th>\n",
       "      <th>Sequence</th>\n",
       "      <th>Label</th>\n",
       "    </tr>\n",
       "  </thead>\n",
       "  <tbody>\n",
       "    <tr>\n",
       "      <th>0</th>\n",
       "      <td>GTCCCG TCCCGG CCCGGC CCGGCA CGGCAG GGCAGC GCAG...</td>\n",
       "      <td>0</td>\n",
       "    </tr>\n",
       "    <tr>\n",
       "      <th>1</th>\n",
       "      <td>ATCCCG TCCCGG CCCGGC CCGGCA CGGCAG GGCAGC GCAG...</td>\n",
       "      <td>1</td>\n",
       "    </tr>\n",
       "    <tr>\n",
       "      <th>2</th>\n",
       "      <td>GTCCCG TCCCGG CCCGGC CCGGCA CGGCAG GGCAGC GCAG...</td>\n",
       "      <td>0</td>\n",
       "    </tr>\n",
       "    <tr>\n",
       "      <th>3</th>\n",
       "      <td>CTCCCG TCCCGG CCCGGC CCGGCA CGGCAG GGCAGC GCAG...</td>\n",
       "      <td>0</td>\n",
       "    </tr>\n",
       "    <tr>\n",
       "      <th>4</th>\n",
       "      <td>GTCCCG TCCCGG CCCGGC CCGGCA CGGCAG GGCAGC GCAG...</td>\n",
       "      <td>1</td>\n",
       "    </tr>\n",
       "    <tr>\n",
       "      <th>...</th>\n",
       "      <td>...</td>\n",
       "      <td>...</td>\n",
       "    </tr>\n",
       "    <tr>\n",
       "      <th>17155555</th>\n",
       "      <td>ATAAGA TAAGAA AAGAAA AGAAAG GAAAGA AAAGAC AAGA...</td>\n",
       "      <td>0</td>\n",
       "    </tr>\n",
       "    <tr>\n",
       "      <th>17155556</th>\n",
       "      <td>ATAAGA TAAGAA AAGAAA AGAAAG GAAAGA AAAGAC AAGA...</td>\n",
       "      <td>1</td>\n",
       "    </tr>\n",
       "    <tr>\n",
       "      <th>17155557</th>\n",
       "      <td>ATAAGA TAAGAA AAGAAA AGAAAG GAAAGA AAAGAC AAGA...</td>\n",
       "      <td>1</td>\n",
       "    </tr>\n",
       "    <tr>\n",
       "      <th>17155558</th>\n",
       "      <td>ATAAGA TAAGAA AAGAAA AGAAAG GAAAGA AAAGAC AAGA...</td>\n",
       "      <td>0</td>\n",
       "    </tr>\n",
       "    <tr>\n",
       "      <th>17155559</th>\n",
       "      <td>ATAAGA TAAGAA AAGAAA AGAAAG GAAAGA AAAGAC AAGA...</td>\n",
       "      <td>1</td>\n",
       "    </tr>\n",
       "  </tbody>\n",
       "</table>\n",
       "<p>17155560 rows × 2 columns</p>\n",
       "</div>"
      ],
      "text/plain": [
       "                                                   Sequence  Label\n",
       "0         GTCCCG TCCCGG CCCGGC CCGGCA CGGCAG GGCAGC GCAG...      0\n",
       "1         ATCCCG TCCCGG CCCGGC CCGGCA CGGCAG GGCAGC GCAG...      1\n",
       "2         GTCCCG TCCCGG CCCGGC CCGGCA CGGCAG GGCAGC GCAG...      0\n",
       "3         CTCCCG TCCCGG CCCGGC CCGGCA CGGCAG GGCAGC GCAG...      0\n",
       "4         GTCCCG TCCCGG CCCGGC CCGGCA CGGCAG GGCAGC GCAG...      1\n",
       "...                                                     ...    ...\n",
       "17155555  ATAAGA TAAGAA AAGAAA AGAAAG GAAAGA AAAGAC AAGA...      0\n",
       "17155556  ATAAGA TAAGAA AAGAAA AGAAAG GAAAGA AAAGAC AAGA...      1\n",
       "17155557  ATAAGA TAAGAA AAGAAA AGAAAG GAAAGA AAAGAC AAGA...      1\n",
       "17155558  ATAAGA TAAGAA AAGAAA AGAAAG GAAAGA AAAGAC AAGA...      0\n",
       "17155559  ATAAGA TAAGAA AAGAAA AGAAAG GAAAGA AAAGAC AAGA...      1\n",
       "\n",
       "[17155560 rows x 2 columns]"
      ]
     },
     "execution_count": 4,
     "metadata": {},
     "output_type": "execute_result"
    }
   ],
   "source": [
    "df"
   ]
  },
  {
   "cell_type": "code",
   "execution_count": 5,
   "id": "a38651b8-0ed2-440d-a3b1-e9a59245a92c",
   "metadata": {},
   "outputs": [
    {
     "data": {
      "text/plain": [
       "Label\n",
       "0    8579603\n",
       "1    8575957\n",
       "Name: Label, dtype: int64"
      ]
     },
     "execution_count": 5,
     "metadata": {},
     "output_type": "execute_result"
    }
   ],
   "source": [
    "df.groupby(['Label'])['Label'].count()"
   ]
  },
  {
   "cell_type": "code",
   "execution_count": 23,
   "id": "d8f10f1e-86c2-48f4-a88b-24bb497dd396",
   "metadata": {},
   "outputs": [
    {
     "data": {
      "text/plain": [
       "'ACCTCA CCTCAG CTCAGG TCAGGG CAGGGA AGGGAC GGGACC GGACCG GACCGG ACCGGT CCGGTC CGGTCC GGTCCC GTCCCC TCCCCC CCCCCC CCCCCG CCCCGC CCCGCC CCGCCG CGCCGG GCCGGA CCGGAA CGGAAC GGAACT GAACTG AACTGC ACTGCT CTGCTT TGCTTC GCTTCC CTTCCT TTCCTA TCCTAC CCTACC CTACCT TACCTG ACCTGG CCTGGT CTGGTC TGGTCC GGTCCG GTCCGG TCCGGT CCGGTC CGGTCC GGTCCC GTCCCG TCCCGG CCCGGC CCGGCA CGGCAG GGCAGC GCAGCT CAGCTG AGCTGA GCTGAA CTGAAT TGAATC GAATCT AATCTG ATCTGG TCTGGC CTGGCC TGGCCA GGCCAG GCCAGC CCAGCC CAGCCC AGCCCA GCCCAA CCCAAC CCAACC CAACCT'"
      ]
     },
     "execution_count": 23,
     "metadata": {},
     "output_type": "execute_result"
    }
   ],
   "source": [
    "df['Sequence'][0]"
   ]
  },
  {
   "cell_type": "code",
   "execution_count": 24,
   "id": "d0329072-28e8-4e43-85f9-90af9dc55266",
   "metadata": {},
   "outputs": [
    {
     "data": {
      "text/plain": [
       "'ACCGCA CCGCAG CGCAGG GCAGGG CAGGGA AGGGAC GGGACC GGACCG GACCGG ACCGGT CCGGTC CGGTCC GGTCCC GTCCCC TCCCCC CCCCCC CCCCCG CCCCGC CCCGCC CCGCCG CGCCGG GCCGGA CCGGAA CGGAAC GGAACT GAACTG AACTGC ACTGCT CTGCTT TGCTTC GCTTCC CTTCCT TTCCTA TCCTAC CCTACC CTACCT TACCTG ACCTGG CCTGGT CTGGTC TGGTCC GGTCCG GTCCGG TCCGGT CCGGTC CGGTCC GGTCCC GTCCCG TCCCGG CCCGGC CCGGCA CGGCAG GGCAGC GCAGCT CAGCTG AGCTGA GCTGAA CTGAAT TGAATC GAATCT AATCTG ATCTGG TCTGGC CTGGCC TGGCCA GGCCAG GCCAGC CCAGCC CAGCCC AGCCCA GCCCAA CCCAAC CCAACC CAACCT'"
      ]
     },
     "execution_count": 24,
     "metadata": {},
     "output_type": "execute_result"
    }
   ],
   "source": [
    "df['Sequence'][1]"
   ]
  },
  {
   "cell_type": "code",
   "execution_count": 31,
   "id": "2b762198-d4f1-4206-85fa-d1dddcad0938",
   "metadata": {},
   "outputs": [
    {
     "name": "stderr",
     "output_type": "stream",
     "text": [
      "/tmp/ipykernel_2717359/2050585531.py:2: SettingWithCopyWarning: \n",
      "A value is trying to be set on a copy of a slice from a DataFrame.\n",
      "Try using .loc[row_indexer,col_indexer] = value instead\n",
      "\n",
      "See the caveats in the documentation: https://pandas.pydata.org/pandas-docs/stable/user_guide/indexing.html#returning-a-view-versus-a-copy\n",
      "  df['Label'] = df['Label'].astype(int)\n"
     ]
    },
    {
     "data": {
      "text/html": [
       "<div>\n",
       "<style scoped>\n",
       "    .dataframe tbody tr th:only-of-type {\n",
       "        vertical-align: middle;\n",
       "    }\n",
       "\n",
       "    .dataframe tbody tr th {\n",
       "        vertical-align: top;\n",
       "    }\n",
       "\n",
       "    .dataframe thead th {\n",
       "        text-align: right;\n",
       "    }\n",
       "</style>\n",
       "<table border=\"1\" class=\"dataframe\">\n",
       "  <thead>\n",
       "    <tr style=\"text-align: right;\">\n",
       "      <th></th>\n",
       "      <th>Sequence</th>\n",
       "      <th>Label</th>\n",
       "    </tr>\n",
       "  </thead>\n",
       "  <tbody>\n",
       "    <tr>\n",
       "      <th>0</th>\n",
       "      <td>ACCTCA CCTCAG CTCAGG TCAGGG CAGGGA AGGGAC GGGA...</td>\n",
       "      <td>1</td>\n",
       "    </tr>\n",
       "    <tr>\n",
       "      <th>1</th>\n",
       "      <td>ACCGCA CCGCAG CGCAGG GCAGGG CAGGGA AGGGAC GGGA...</td>\n",
       "      <td>1</td>\n",
       "    </tr>\n",
       "    <tr>\n",
       "      <th>2</th>\n",
       "      <td>ACCTCA CCTCAG CTCAGG TCAGGG CAGGGA AGGGAC GGGA...</td>\n",
       "      <td>1</td>\n",
       "    </tr>\n",
       "    <tr>\n",
       "      <th>3</th>\n",
       "      <td>ACCTTA CCTTAG CTTAGG TTAGGG TAGGGA AGGGAC GGGA...</td>\n",
       "      <td>0</td>\n",
       "    </tr>\n",
       "    <tr>\n",
       "      <th>4</th>\n",
       "      <td>ACCTCA CCTCAG CTCAGG TCAGGG CAGGGA AGGGAC GGGA...</td>\n",
       "      <td>0</td>\n",
       "    </tr>\n",
       "    <tr>\n",
       "      <th>...</th>\n",
       "      <td>...</td>\n",
       "      <td>...</td>\n",
       "    </tr>\n",
       "    <tr>\n",
       "      <th>5000004</th>\n",
       "      <td>CCAGTC CAGTCA AGTCAC GTCACC TCACCT CACCTC ACCT...</td>\n",
       "      <td>1</td>\n",
       "    </tr>\n",
       "    <tr>\n",
       "      <th>5000005</th>\n",
       "      <td>CCAGTC CAGTCA AGTCAC GTCACC TCACCT CACCTC ACCT...</td>\n",
       "      <td>1</td>\n",
       "    </tr>\n",
       "    <tr>\n",
       "      <th>5000006</th>\n",
       "      <td>CCAGTC CAGTCA AGTCAC GTCACC TCACCT CACCTC ACCT...</td>\n",
       "      <td>1</td>\n",
       "    </tr>\n",
       "    <tr>\n",
       "      <th>5000007</th>\n",
       "      <td>CCAGTC CAGTCA AGTCAC GTCACC TCACCT CACCTC ACCT...</td>\n",
       "      <td>1</td>\n",
       "    </tr>\n",
       "    <tr>\n",
       "      <th>5000008</th>\n",
       "      <td>CCAGTC CAGTCA AGTCAC GTCACC TCACCT CACCTC ACCT...</td>\n",
       "      <td>0</td>\n",
       "    </tr>\n",
       "  </tbody>\n",
       "</table>\n",
       "<p>5000000 rows × 2 columns</p>\n",
       "</div>"
      ],
      "text/plain": [
       "                                                  Sequence  Label\n",
       "0        ACCTCA CCTCAG CTCAGG TCAGGG CAGGGA AGGGAC GGGA...      1\n",
       "1        ACCGCA CCGCAG CGCAGG GCAGGG CAGGGA AGGGAC GGGA...      1\n",
       "2        ACCTCA CCTCAG CTCAGG TCAGGG CAGGGA AGGGAC GGGA...      1\n",
       "3        ACCTTA CCTTAG CTTAGG TTAGGG TAGGGA AGGGAC GGGA...      0\n",
       "4        ACCTCA CCTCAG CTCAGG TCAGGG CAGGGA AGGGAC GGGA...      0\n",
       "...                                                    ...    ...\n",
       "5000004  CCAGTC CAGTCA AGTCAC GTCACC TCACCT CACCTC ACCT...      1\n",
       "5000005  CCAGTC CAGTCA AGTCAC GTCACC TCACCT CACCTC ACCT...      1\n",
       "5000006  CCAGTC CAGTCA AGTCAC GTCACC TCACCT CACCTC ACCT...      1\n",
       "5000007  CCAGTC CAGTCA AGTCAC GTCACC TCACCT CACCTC ACCT...      1\n",
       "5000008  CCAGTC CAGTCA AGTCAC GTCACC TCACCT CACCTC ACCT...      0\n",
       "\n",
       "[5000000 rows x 2 columns]"
      ]
     },
     "execution_count": 31,
     "metadata": {},
     "output_type": "execute_result"
    }
   ],
   "source": [
    "df = df[df['Label']!='Label']\n",
    "df['Label'] = df['Label'].astype(int)\n",
    "df"
   ]
  },
  {
   "cell_type": "code",
   "execution_count": 32,
   "id": "a7dedca9-19ae-4923-b21e-726449251c18",
   "metadata": {},
   "outputs": [
    {
     "data": {
      "text/plain": [
       "Label\n",
       "0    2501173\n",
       "1    2498827\n",
       "Name: Label, dtype: int64"
      ]
     },
     "execution_count": 32,
     "metadata": {},
     "output_type": "execute_result"
    }
   ],
   "source": [
    "df.groupby(['Label'])['Label'].count()"
   ]
  },
  {
   "cell_type": "code",
   "execution_count": null,
   "id": "137ebf12-3856-49ed-ac55-509b2655c9cf",
   "metadata": {},
   "outputs": [],
   "source": []
  }
 ],
 "metadata": {
  "kernelspec": {
   "display_name": "Python 3 (ipykernel)",
   "language": "python",
   "name": "python3"
  },
  "language_info": {
   "codemirror_mode": {
    "name": "ipython",
    "version": 3
   },
   "file_extension": ".py",
   "mimetype": "text/x-python",
   "name": "python",
   "nbconvert_exporter": "python",
   "pygments_lexer": "ipython3",
   "version": "3.10.11"
  }
 },
 "nbformat": 4,
 "nbformat_minor": 5
}
