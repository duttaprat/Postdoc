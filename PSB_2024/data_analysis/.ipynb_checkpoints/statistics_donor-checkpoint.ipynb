{
 "cells": [
  {
   "cell_type": "code",
   "execution_count": 1,
   "id": "227a8f53-c7ea-4af8-9f74-47636c494220",
   "metadata": {},
   "outputs": [],
   "source": [
    "import pandas as pd\n",
    "import glob"
   ]
  },
  {
   "cell_type": "code",
   "execution_count": null,
   "id": "cf63d1e4-bfa8-4d19-a9b6-5f16ebe1647a",
   "metadata": {},
   "outputs": [],
   "source": [
    "# Get a list of all the .tsv files\n",
    "files = glob.glob('intersected_DBSNP_transcript_chr*.tsv')\n",
    "\n",
    "# Initialize an empty list to store the dataframes\n",
    "dfs = []\n",
    "\n",
    "# Loop through the files and read each into a pandas dataframe\n",
    "for file in files:\n",
    "    dfs.append(pd.read_csv(file, sep='\\t'))\n",
    "\n",
    "# Concatenate all the dataframes\n",
    "combined_df = pd.concat(dfs)"
   ]
  }
 ],
 "metadata": {
  "kernelspec": {
   "display_name": "Python 3 (ipykernel)",
   "language": "python",
   "name": "python3"
  },
  "language_info": {
   "codemirror_mode": {
    "name": "ipython",
    "version": 3
   },
   "file_extension": ".py",
   "mimetype": "text/x-python",
   "name": "python",
   "nbconvert_exporter": "python",
   "pygments_lexer": "ipython3",
   "version": "3.10.11"
  }
 },
 "nbformat": 4,
 "nbformat_minor": 5
}
