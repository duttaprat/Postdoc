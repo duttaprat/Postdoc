{
 "cells": [
  {
   "cell_type": "code",
   "execution_count": 1,
   "id": "63f40c7b-4e9b-4626-a876-38edcd6b2686",
   "metadata": {},
   "outputs": [],
   "source": [
    "import os, glob\n",
    "import numpy as np\n",
    "import pandas as pd\n",
    "import math\n",
    "import plotly.graph_objects as go\n",
    "from scipy.stats import norm\n",
    "import plotly.express as px\n",
    "import plotly.figure_factory as ff\n",
    "import seaborn as sns\n",
    "import matplotlib.pyplot as plt\n",
    "from scipy import stats\n",
    "from statsmodels.stats.weightstats import ztest"
   ]
  },
  {
   "cell_type": "code",
   "execution_count": 2,
   "id": "7f51a017-a684-4935-9920-bf80a213876e",
   "metadata": {},
   "outputs": [],
   "source": [
    "output_path = \"/data/projects/PSB/Output/nonTATA\"\n",
    "if not os.path.exists(output_path):\n",
    "    os.makedirs(output_path)"
   ]
  },
  {
   "cell_type": "code",
   "execution_count": 3,
   "id": "db1a15b6-3ae8-4725-9860-442dc53382b2",
   "metadata": {},
   "outputs": [],
   "source": [
    "chr_list = list(range(1, 23)) + ['X', 'Y']"
   ]
  },
  {
   "cell_type": "code",
   "execution_count": 4,
   "id": "52ab422b-6d9f-4615-9896-e2fc47196a07",
   "metadata": {},
   "outputs": [
    {
     "data": {
      "text/plain": [
       "[1,\n",
       " 2,\n",
       " 3,\n",
       " 4,\n",
       " 5,\n",
       " 6,\n",
       " 7,\n",
       " 8,\n",
       " 9,\n",
       " 10,\n",
       " 11,\n",
       " 12,\n",
       " 13,\n",
       " 14,\n",
       " 15,\n",
       " 16,\n",
       " 17,\n",
       " 18,\n",
       " 19,\n",
       " 20,\n",
       " 21,\n",
       " 22,\n",
       " 'X',\n",
       " 'Y']"
      ]
     },
     "execution_count": 4,
     "metadata": {},
     "output_type": "execute_result"
    }
   ],
   "source": [
    "chr_list"
   ]
  },
  {
   "cell_type": "code",
   "execution_count": 5,
   "id": "d0c512c7-f77d-4f25-9659-866eb47116c9",
   "metadata": {},
   "outputs": [],
   "source": [
    "def log_oods_ratio(p1,p2):\n",
    "    term1 = math.log2(p1/(1-p1))\n",
    "    term2 = math.log2(p2/(1-p2))\n",
    "    return (term1-term2)\n",
    "def calculate_diff_probab(p1,p2):\n",
    "    return((p2-p1)*max(p1,p2))"
   ]
  },
  {
   "cell_type": "code",
   "execution_count": 6,
   "id": "927633b9-cb8e-4d5c-b0ee-d5afd2814508",
   "metadata": {},
   "outputs": [
    {
     "name": "stdout",
     "output_type": "stream",
     "text": [
      "1\n",
      "17155560\n",
      "['/data/projects/PSB/DNABERT_data/CoreProm/chr1']\n",
      "(8577780, 12)\n",
      "2\n",
      "21011660\n",
      "['/data/projects/PSB/DNABERT_data/CoreProm/chr2']\n",
      "(10505830, 12)\n",
      "3\n",
      "19096864\n",
      "['/data/projects/PSB/DNABERT_data/CoreProm/chr3']\n",
      "(9548432, 12)\n",
      "4\n",
      "10303162\n",
      "['/data/projects/PSB/DNABERT_data/CoreProm/chr4']\n",
      "(5151581, 12)\n",
      "5\n",
      "11383010\n",
      "['/data/projects/PSB/DNABERT_data/CoreProm/chr5']\n",
      "(5691505, 12)\n",
      "6\n",
      "14330936\n",
      "['/data/projects/PSB/DNABERT_data/CoreProm/chr6']\n",
      "(7165468, 12)\n",
      "7\n",
      "11537934\n",
      "['/data/projects/PSB/DNABERT_data/CoreProm/chr7']\n",
      "(5768967, 12)\n",
      "8\n",
      "13183080\n",
      "['/data/projects/PSB/DNABERT_data/CoreProm/chr8']\n",
      "(6591540, 12)\n",
      "9\n",
      "7532658\n",
      "['/data/projects/PSB/DNABERT_data/CoreProm/chr9']\n",
      "(3766329, 12)\n",
      "10\n",
      "8363644\n",
      "['/data/projects/PSB/DNABERT_data/CoreProm/chr10']\n",
      "(4181822, 12)\n",
      "11\n",
      "16503994\n",
      "['/data/projects/PSB/DNABERT_data/CoreProm/chr11']\n",
      "(8251997, 12)\n",
      "12\n",
      "12433622\n",
      "['/data/projects/PSB/DNABERT_data/CoreProm/chr12']\n",
      "(6216811, 12)\n",
      "13\n",
      "4592298\n",
      "['/data/projects/PSB/DNABERT_data/CoreProm/chr13']\n",
      "(2296149, 12)\n",
      "14\n",
      "10498688\n",
      "['/data/projects/PSB/DNABERT_data/CoreProm/chr14']\n",
      "(5249344, 12)\n",
      "15\n",
      "9359098\n",
      "['/data/projects/PSB/DNABERT_data/CoreProm/chr15']\n",
      "(4679549, 12)\n",
      "16\n",
      "14653488\n",
      "['/data/projects/PSB/DNABERT_data/CoreProm/chr16']\n",
      "(7326744, 12)\n",
      "17\n",
      "16004628\n",
      "['/data/projects/PSB/DNABERT_data/CoreProm/chr17']\n",
      "(8002314, 12)\n",
      "18\n",
      "4685060\n",
      "['/data/projects/PSB/DNABERT_data/CoreProm/chr18']\n",
      "(2342530, 12)\n",
      "19\n",
      "14268866\n",
      "['/data/projects/PSB/DNABERT_data/CoreProm/chr19']\n",
      "(7134433, 12)\n",
      "20\n",
      "9975404\n",
      "['/data/projects/PSB/DNABERT_data/CoreProm/chr20']\n",
      "(4987702, 12)\n",
      "21\n",
      "4001144\n",
      "['/data/projects/PSB/DNABERT_data/CoreProm/chr21']\n",
      "(2000572, 12)\n",
      "22\n",
      "4753292\n",
      "['/data/projects/PSB/DNABERT_data/CoreProm/chr22']\n",
      "(2376646, 12)\n",
      "X\n",
      "5807478\n",
      "['/data/projects/PSB/DNABERT_data/CoreProm/chrX']\n",
      "(2903739, 12)\n",
      "Y\n",
      "35498\n",
      "['/data/projects/PSB/DNABERT_data/CoreProm/chrY']\n",
      "(17749, 12)\n"
     ]
    }
   ],
   "source": [
    "df_dict = {}\n",
    "df_list = []\n",
    "for chr_name in chr_list:\n",
    "    print(chr_name)\n",
    "    base_dir = \"/data/projects/PSB/DNABERT_data/CoreProm/chr\"+str(chr_name)\n",
    "    concat_probab = np.load(base_dir+\"/nonTATA/Prediction_result/pred_results.npy\")\n",
    "    print(len(concat_probab))\n",
    "    print(base_dir.split())\n",
    "    df = pd.read_csv(base_dir+\"/all_data.tsv\", sep= \"\\t\")\n",
    "    print(df.shape)\n",
    "    Reference_probab = concat_probab[::2]\n",
    "    Alternative_probab = concat_probab[1::2]\n",
    "    df['Ref_probab']=Reference_probab\n",
    "    df['Alt_probab']=Alternative_probab\n",
    "    df['ScoreChange'] = df.apply(lambda row: calculate_diff_probab(row['Ref_probab'], row['Alt_probab']), axis=1)\n",
    "    df['LogOddRatio'] = df.apply(lambda row: log_oods_ratio(row['Ref_probab'], row['Alt_probab']), axis=1)\n",
    "    df_list.append(df)"
   ]
  },
  {
   "cell_type": "code",
   "execution_count": 40,
   "id": "3463e015-6276-4113-801d-9d713d9726b2",
   "metadata": {},
   "outputs": [],
   "source": [
    "concatenated_df = pd.concat(df_list)"
   ]
  },
  {
   "cell_type": "code",
   "execution_count": 41,
   "id": "fa95f309-e8f5-4d60-b14b-b8ddaf1c35a2",
   "metadata": {},
   "outputs": [
    {
     "data": {
      "text/plain": [
       "(130735533, 16)"
      ]
     },
     "execution_count": 41,
     "metadata": {},
     "output_type": "execute_result"
    }
   ],
   "source": [
    "concatenated_df.shape"
   ]
  },
  {
   "cell_type": "code",
   "execution_count": 42,
   "id": "d7da1b60-5c4e-4a40-96db-eb9bca36b119",
   "metadata": {},
   "outputs": [
    {
     "data": {
      "text/html": [
       "<div>\n",
       "<style scoped>\n",
       "    .dataframe tbody tr th:only-of-type {\n",
       "        vertical-align: middle;\n",
       "    }\n",
       "\n",
       "    .dataframe tbody tr th {\n",
       "        vertical-align: top;\n",
       "    }\n",
       "\n",
       "    .dataframe thead th {\n",
       "        text-align: right;\n",
       "    }\n",
       "</style>\n",
       "<table border=\"1\" class=\"dataframe\">\n",
       "  <thead>\n",
       "    <tr style=\"text-align: right;\">\n",
       "      <th></th>\n",
       "      <th>chr</th>\n",
       "      <th>strand</th>\n",
       "      <th>Donor_coordinates</th>\n",
       "      <th>Ensemble_Transcript_ID</th>\n",
       "      <th>Transcript_coordinates</th>\n",
       "      <th>dbsnp_id</th>\n",
       "      <th>varinat_start</th>\n",
       "      <th>variant_end</th>\n",
       "      <th>ref_neucleotide</th>\n",
       "      <th>alternative_neucleotide</th>\n",
       "      <th>reference_seq</th>\n",
       "      <th>alt_seq</th>\n",
       "      <th>Ref_probab</th>\n",
       "      <th>Alt_probab</th>\n",
       "      <th>ScoreChange</th>\n",
       "      <th>LogOddRatio</th>\n",
       "    </tr>\n",
       "  </thead>\n",
       "  <tbody>\n",
       "    <tr>\n",
       "      <th>0</th>\n",
       "      <td>chr1</td>\n",
       "      <td>-</td>\n",
       "      <td>24413681-24413770</td>\n",
       "      <td>ENST00000498488</td>\n",
       "      <td>24391258-24416153</td>\n",
       "      <td>rs1643864567</td>\n",
       "      <td>24413681</td>\n",
       "      <td>24413682</td>\n",
       "      <td>G</td>\n",
       "      <td>A</td>\n",
       "      <td>GTCCCGGCAGCTGAATCTGGCCAGCCCAACCTCCCGGTCGCTATGG...</td>\n",
       "      <td>ATCCCGGCAGCTGAATCTGGCCAGCCCAACCTCCCGGTCGCTATGG...</td>\n",
       "      <td>0.463305</td>\n",
       "      <td>0.239190</td>\n",
       "      <td>-0.103833</td>\n",
       "      <td>1.457238</td>\n",
       "    </tr>\n",
       "    <tr>\n",
       "      <th>1</th>\n",
       "      <td>chr1</td>\n",
       "      <td>-</td>\n",
       "      <td>24413681-24413770</td>\n",
       "      <td>ENST00000498488</td>\n",
       "      <td>24391258-24416153</td>\n",
       "      <td>rs1643864567</td>\n",
       "      <td>24413681</td>\n",
       "      <td>24413682</td>\n",
       "      <td>G</td>\n",
       "      <td>C</td>\n",
       "      <td>GTCCCGGCAGCTGAATCTGGCCAGCCCAACCTCCCGGTCGCTATGG...</td>\n",
       "      <td>CTCCCGGCAGCTGAATCTGGCCAGCCCAACCTCCCGGTCGCTATGG...</td>\n",
       "      <td>0.463305</td>\n",
       "      <td>0.541101</td>\n",
       "      <td>0.042096</td>\n",
       "      <td>-0.449865</td>\n",
       "    </tr>\n",
       "    <tr>\n",
       "      <th>2</th>\n",
       "      <td>chr1</td>\n",
       "      <td>-</td>\n",
       "      <td>24413681-24413770</td>\n",
       "      <td>ENST00000498488</td>\n",
       "      <td>24391258-24416153</td>\n",
       "      <td>rs1643864776</td>\n",
       "      <td>24413684</td>\n",
       "      <td>24413685</td>\n",
       "      <td>C</td>\n",
       "      <td>A</td>\n",
       "      <td>GTCCCGGCAGCTGAATCTGGCCAGCCCAACCTCCCGGTCGCTATGG...</td>\n",
       "      <td>GTCACGGCAGCTGAATCTGGCCAGCCCAACCTCCCGGTCGCTATGG...</td>\n",
       "      <td>0.463305</td>\n",
       "      <td>0.289088</td>\n",
       "      <td>-0.080716</td>\n",
       "      <td>1.086023</td>\n",
       "    </tr>\n",
       "    <tr>\n",
       "      <th>3</th>\n",
       "      <td>chr1</td>\n",
       "      <td>-</td>\n",
       "      <td>24413681-24413770</td>\n",
       "      <td>ENST00000498488</td>\n",
       "      <td>24391258-24416153</td>\n",
       "      <td>rs927682595</td>\n",
       "      <td>24413685</td>\n",
       "      <td>24413686</td>\n",
       "      <td>C</td>\n",
       "      <td>G</td>\n",
       "      <td>GTCCCGGCAGCTGAATCTGGCCAGCCCAACCTCCCGGTCGCTATGG...</td>\n",
       "      <td>GTCCGGGCAGCTGAATCTGGCCAGCCCAACCTCCCGGTCGCTATGG...</td>\n",
       "      <td>0.463305</td>\n",
       "      <td>0.291404</td>\n",
       "      <td>-0.079642</td>\n",
       "      <td>1.069798</td>\n",
       "    </tr>\n",
       "    <tr>\n",
       "      <th>4</th>\n",
       "      <td>chr1</td>\n",
       "      <td>-</td>\n",
       "      <td>24413681-24413770</td>\n",
       "      <td>ENST00000498488</td>\n",
       "      <td>24391258-24416153</td>\n",
       "      <td>rs927682595</td>\n",
       "      <td>24413685</td>\n",
       "      <td>24413686</td>\n",
       "      <td>C</td>\n",
       "      <td>T</td>\n",
       "      <td>GTCCCGGCAGCTGAATCTGGCCAGCCCAACCTCCCGGTCGCTATGG...</td>\n",
       "      <td>GTCCTGGCAGCTGAATCTGGCCAGCCCAACCTCCCGGTCGCTATGG...</td>\n",
       "      <td>0.463305</td>\n",
       "      <td>0.321068</td>\n",
       "      <td>-0.065899</td>\n",
       "      <td>0.868246</td>\n",
       "    </tr>\n",
       "  </tbody>\n",
       "</table>\n",
       "</div>"
      ],
      "text/plain": [
       "    chr strand  Donor_coordinates Ensemble_Transcript_ID  \\\n",
       "0  chr1      -  24413681-24413770        ENST00000498488   \n",
       "1  chr1      -  24413681-24413770        ENST00000498488   \n",
       "2  chr1      -  24413681-24413770        ENST00000498488   \n",
       "3  chr1      -  24413681-24413770        ENST00000498488   \n",
       "4  chr1      -  24413681-24413770        ENST00000498488   \n",
       "\n",
       "  Transcript_coordinates      dbsnp_id  varinat_start  variant_end  \\\n",
       "0      24391258-24416153  rs1643864567       24413681     24413682   \n",
       "1      24391258-24416153  rs1643864567       24413681     24413682   \n",
       "2      24391258-24416153  rs1643864776       24413684     24413685   \n",
       "3      24391258-24416153   rs927682595       24413685     24413686   \n",
       "4      24391258-24416153   rs927682595       24413685     24413686   \n",
       "\n",
       "  ref_neucleotide alternative_neucleotide  \\\n",
       "0               G                       A   \n",
       "1               G                       C   \n",
       "2               C                       A   \n",
       "3               C                       G   \n",
       "4               C                       T   \n",
       "\n",
       "                                       reference_seq  \\\n",
       "0  GTCCCGGCAGCTGAATCTGGCCAGCCCAACCTCCCGGTCGCTATGG...   \n",
       "1  GTCCCGGCAGCTGAATCTGGCCAGCCCAACCTCCCGGTCGCTATGG...   \n",
       "2  GTCCCGGCAGCTGAATCTGGCCAGCCCAACCTCCCGGTCGCTATGG...   \n",
       "3  GTCCCGGCAGCTGAATCTGGCCAGCCCAACCTCCCGGTCGCTATGG...   \n",
       "4  GTCCCGGCAGCTGAATCTGGCCAGCCCAACCTCCCGGTCGCTATGG...   \n",
       "\n",
       "                                             alt_seq  Ref_probab  Alt_probab  \\\n",
       "0  ATCCCGGCAGCTGAATCTGGCCAGCCCAACCTCCCGGTCGCTATGG...    0.463305    0.239190   \n",
       "1  CTCCCGGCAGCTGAATCTGGCCAGCCCAACCTCCCGGTCGCTATGG...    0.463305    0.541101   \n",
       "2  GTCACGGCAGCTGAATCTGGCCAGCCCAACCTCCCGGTCGCTATGG...    0.463305    0.289088   \n",
       "3  GTCCGGGCAGCTGAATCTGGCCAGCCCAACCTCCCGGTCGCTATGG...    0.463305    0.291404   \n",
       "4  GTCCTGGCAGCTGAATCTGGCCAGCCCAACCTCCCGGTCGCTATGG...    0.463305    0.321068   \n",
       "\n",
       "   ScoreChange  LogOddRatio  \n",
       "0    -0.103833     1.457238  \n",
       "1     0.042096    -0.449865  \n",
       "2    -0.080716     1.086023  \n",
       "3    -0.079642     1.069798  \n",
       "4    -0.065899     0.868246  "
      ]
     },
     "execution_count": 42,
     "metadata": {},
     "output_type": "execute_result"
    }
   ],
   "source": [
    "concatenated_df.head()"
   ]
  },
  {
   "cell_type": "code",
   "execution_count": 43,
   "id": "b1093a5f-6ee2-43a5-aa64-0587f9d70849",
   "metadata": {},
   "outputs": [
    {
     "data": {
      "text/plain": [
       "207792"
      ]
     },
     "execution_count": 43,
     "metadata": {},
     "output_type": "execute_result"
    }
   ],
   "source": [
    "len(concatenated_df['Donor_coordinates'].unique())"
   ]
  },
  {
   "cell_type": "code",
   "execution_count": 44,
   "id": "e98f4232-a18d-4de6-8361-1cbca843bed5",
   "metadata": {},
   "outputs": [
    {
     "data": {
      "text/plain": [
       "5649618"
      ]
     },
     "execution_count": 44,
     "metadata": {},
     "output_type": "execute_result"
    }
   ],
   "source": [
    "len(concatenated_df['dbsnp_id'].unique())"
   ]
  },
  {
   "cell_type": "code",
   "execution_count": 45,
   "id": "ee694163-4c7b-4913-a954-506d3efddcb6",
   "metadata": {},
   "outputs": [
    {
     "data": {
      "text/html": [
       "<div>\n",
       "<style scoped>\n",
       "    .dataframe tbody tr th:only-of-type {\n",
       "        vertical-align: middle;\n",
       "    }\n",
       "\n",
       "    .dataframe tbody tr th {\n",
       "        vertical-align: top;\n",
       "    }\n",
       "\n",
       "    .dataframe thead th {\n",
       "        text-align: right;\n",
       "    }\n",
       "</style>\n",
       "<table border=\"1\" class=\"dataframe\">\n",
       "  <thead>\n",
       "    <tr style=\"text-align: right;\">\n",
       "      <th></th>\n",
       "      <th>chr</th>\n",
       "      <th>strand</th>\n",
       "      <th>Donor_coordinates</th>\n",
       "      <th>Ensemble_Transcript_ID</th>\n",
       "      <th>Transcript_coordinates</th>\n",
       "      <th>dbsnp_id</th>\n",
       "      <th>varinat_start</th>\n",
       "      <th>variant_end</th>\n",
       "      <th>ref_neucleotide</th>\n",
       "      <th>alternative_neucleotide</th>\n",
       "      <th>reference_seq</th>\n",
       "      <th>alt_seq</th>\n",
       "      <th>Ref_probab</th>\n",
       "      <th>Alt_probab</th>\n",
       "      <th>ScoreChange</th>\n",
       "      <th>LogOddRatio</th>\n",
       "    </tr>\n",
       "  </thead>\n",
       "  <tbody>\n",
       "    <tr>\n",
       "      <th>274</th>\n",
       "      <td>chr1</td>\n",
       "      <td>+</td>\n",
       "      <td>24415758-24415847</td>\n",
       "      <td>ENST00000488155</td>\n",
       "      <td>24415812-24420128</td>\n",
       "      <td>rs6666172</td>\n",
       "      <td>24415772</td>\n",
       "      <td>24415773</td>\n",
       "      <td>G</td>\n",
       "      <td>T</td>\n",
       "      <td>CGCGACCTTTGAAAGCAAAACACTGCAGCATCTTGGCAGCTCTGAA...</td>\n",
       "      <td>CGCGACCTTTGAAATCAAAACACTGCAGCATCTTGGCAGCTCTGAA...</td>\n",
       "      <td>0.633146</td>\n",
       "      <td>0.466665</td>\n",
       "      <td>-0.105407</td>\n",
       "      <td>0.979990</td>\n",
       "    </tr>\n",
       "    <tr>\n",
       "      <th>286</th>\n",
       "      <td>chr1</td>\n",
       "      <td>+</td>\n",
       "      <td>24415758-24415847</td>\n",
       "      <td>ENST00000488155</td>\n",
       "      <td>24415812-24420128</td>\n",
       "      <td>rs1406830558</td>\n",
       "      <td>24415783</td>\n",
       "      <td>24415784</td>\n",
       "      <td>C</td>\n",
       "      <td>T</td>\n",
       "      <td>CGCGACCTTTGAAAGCAAAACACTGCAGCATCTTGGCAGCTCTGAA...</td>\n",
       "      <td>CGCGACCTTTGAAAGCAAAACACTGTAGCATCTTGGCAGCTCTGAA...</td>\n",
       "      <td>0.633146</td>\n",
       "      <td>0.368558</td>\n",
       "      <td>-0.167523</td>\n",
       "      <td>1.564094</td>\n",
       "    </tr>\n",
       "    <tr>\n",
       "      <th>290</th>\n",
       "      <td>chr1</td>\n",
       "      <td>+</td>\n",
       "      <td>24415758-24415847</td>\n",
       "      <td>ENST00000488155</td>\n",
       "      <td>24415812-24420128</td>\n",
       "      <td>rs975032527</td>\n",
       "      <td>24415792</td>\n",
       "      <td>24415793</td>\n",
       "      <td>G</td>\n",
       "      <td>C</td>\n",
       "      <td>CGCGACCTTTGAAAGCAAAACACTGCAGCATCTTGGCAGCTCTGAA...</td>\n",
       "      <td>CGCGACCTTTGAAAGCAAAACACTGCAGCATCTTCGCAGCTCTGAA...</td>\n",
       "      <td>0.633146</td>\n",
       "      <td>0.497665</td>\n",
       "      <td>-0.085779</td>\n",
       "      <td>0.800807</td>\n",
       "    </tr>\n",
       "    <tr>\n",
       "      <th>306</th>\n",
       "      <td>chr1</td>\n",
       "      <td>+</td>\n",
       "      <td>24415758-24415847</td>\n",
       "      <td>ENST00000488155</td>\n",
       "      <td>24415812-24420128</td>\n",
       "      <td>rs1335040726</td>\n",
       "      <td>24415828</td>\n",
       "      <td>24415829</td>\n",
       "      <td>G</td>\n",
       "      <td>A</td>\n",
       "      <td>CGCGACCTTTGAAAGCAAAACACTGCAGCATCTTGGCAGCTCTGAA...</td>\n",
       "      <td>CGCGACCTTTGAAAGCAAAACACTGCAGCATCTTGGCAGCTCTGAA...</td>\n",
       "      <td>0.633146</td>\n",
       "      <td>0.333326</td>\n",
       "      <td>-0.189830</td>\n",
       "      <td>1.787379</td>\n",
       "    </tr>\n",
       "    <tr>\n",
       "      <th>323</th>\n",
       "      <td>chr1</td>\n",
       "      <td>+</td>\n",
       "      <td>24415758-24415847</td>\n",
       "      <td>ENST00000492753</td>\n",
       "      <td>24414911-24416595</td>\n",
       "      <td>rs6666172</td>\n",
       "      <td>24415772</td>\n",
       "      <td>24415773</td>\n",
       "      <td>G</td>\n",
       "      <td>T</td>\n",
       "      <td>CGCGACCTTTGAAAGCAAAACACTGCAGCATCTTGGCAGCTCTGAA...</td>\n",
       "      <td>CGCGACCTTTGAAATCAAAACACTGCAGCATCTTGGCAGCTCTGAA...</td>\n",
       "      <td>0.633146</td>\n",
       "      <td>0.466665</td>\n",
       "      <td>-0.105407</td>\n",
       "      <td>0.979990</td>\n",
       "    </tr>\n",
       "    <tr>\n",
       "      <th>...</th>\n",
       "      <td>...</td>\n",
       "      <td>...</td>\n",
       "      <td>...</td>\n",
       "      <td>...</td>\n",
       "      <td>...</td>\n",
       "      <td>...</td>\n",
       "      <td>...</td>\n",
       "      <td>...</td>\n",
       "      <td>...</td>\n",
       "      <td>...</td>\n",
       "      <td>...</td>\n",
       "      <td>...</td>\n",
       "      <td>...</td>\n",
       "      <td>...</td>\n",
       "      <td>...</td>\n",
       "      <td>...</td>\n",
       "    </tr>\n",
       "    <tr>\n",
       "      <th>17720</th>\n",
       "      <td>chrY</td>\n",
       "      <td>-</td>\n",
       "      <td>13359743-13359832</td>\n",
       "      <td>ENST00000682112</td>\n",
       "      <td>13234599-13480002</td>\n",
       "      <td>rs779580259</td>\n",
       "      <td>13359812</td>\n",
       "      <td>13359813</td>\n",
       "      <td>C</td>\n",
       "      <td>A</td>\n",
       "      <td>AATATACTATTTAAAATTTTTACCTGTAGAAATTTAATTCTTGCAG...</td>\n",
       "      <td>AATATACTATTTAAAATTTTTACCTGTAGAAATTTAATTCTTGCAG...</td>\n",
       "      <td>0.428082</td>\n",
       "      <td>0.559943</td>\n",
       "      <td>0.073835</td>\n",
       "      <td>-0.765514</td>\n",
       "    </tr>\n",
       "    <tr>\n",
       "      <th>17724</th>\n",
       "      <td>chrY</td>\n",
       "      <td>-</td>\n",
       "      <td>13359743-13359832</td>\n",
       "      <td>ENST00000684226</td>\n",
       "      <td>13234580-13359787</td>\n",
       "      <td>rs1402517404</td>\n",
       "      <td>13359793</td>\n",
       "      <td>13359794</td>\n",
       "      <td>C</td>\n",
       "      <td>T</td>\n",
       "      <td>AATATACTATTTAAAATTTTTACCTGTAGAAATTTAATTCTTGCAG...</td>\n",
       "      <td>AATATACTATTTAAAATTTTTACCTGTAGAAATTTAATTCTTGCAG...</td>\n",
       "      <td>0.428082</td>\n",
       "      <td>0.794773</td>\n",
       "      <td>0.291436</td>\n",
       "      <td>-2.371242</td>\n",
       "    </tr>\n",
       "    <tr>\n",
       "      <th>17729</th>\n",
       "      <td>chrY</td>\n",
       "      <td>-</td>\n",
       "      <td>13359743-13359832</td>\n",
       "      <td>ENST00000684226</td>\n",
       "      <td>13234580-13359787</td>\n",
       "      <td>rs779580259</td>\n",
       "      <td>13359812</td>\n",
       "      <td>13359813</td>\n",
       "      <td>C</td>\n",
       "      <td>A</td>\n",
       "      <td>AATATACTATTTAAAATTTTTACCTGTAGAAATTTAATTCTTGCAG...</td>\n",
       "      <td>AATATACTATTTAAAATTTTTACCTGTAGAAATTTAATTCTTGCAG...</td>\n",
       "      <td>0.428082</td>\n",
       "      <td>0.559943</td>\n",
       "      <td>0.073835</td>\n",
       "      <td>-0.765514</td>\n",
       "    </tr>\n",
       "    <tr>\n",
       "      <th>17733</th>\n",
       "      <td>chrY</td>\n",
       "      <td>-</td>\n",
       "      <td>13359743-13359832</td>\n",
       "      <td>ENST00000682913</td>\n",
       "      <td>13249856-13479665</td>\n",
       "      <td>rs1402517404</td>\n",
       "      <td>13359793</td>\n",
       "      <td>13359794</td>\n",
       "      <td>C</td>\n",
       "      <td>T</td>\n",
       "      <td>AATATACTATTTAAAATTTTTACCTGTAGAAATTTAATTCTTGCAG...</td>\n",
       "      <td>AATATACTATTTAAAATTTTTACCTGTAGAAATTTAATTCTTGCAG...</td>\n",
       "      <td>0.428082</td>\n",
       "      <td>0.794773</td>\n",
       "      <td>0.291436</td>\n",
       "      <td>-2.371242</td>\n",
       "    </tr>\n",
       "    <tr>\n",
       "      <th>17738</th>\n",
       "      <td>chrY</td>\n",
       "      <td>-</td>\n",
       "      <td>13359743-13359832</td>\n",
       "      <td>ENST00000682913</td>\n",
       "      <td>13249856-13479665</td>\n",
       "      <td>rs779580259</td>\n",
       "      <td>13359812</td>\n",
       "      <td>13359813</td>\n",
       "      <td>C</td>\n",
       "      <td>A</td>\n",
       "      <td>AATATACTATTTAAAATTTTTACCTGTAGAAATTTAATTCTTGCAG...</td>\n",
       "      <td>AATATACTATTTAAAATTTTTACCTGTAGAAATTTAATTCTTGCAG...</td>\n",
       "      <td>0.428082</td>\n",
       "      <td>0.559943</td>\n",
       "      <td>0.073835</td>\n",
       "      <td>-0.765514</td>\n",
       "    </tr>\n",
       "  </tbody>\n",
       "</table>\n",
       "<p>6608577 rows × 16 columns</p>\n",
       "</div>"
      ],
      "text/plain": [
       "        chr strand  Donor_coordinates Ensemble_Transcript_ID  \\\n",
       "274    chr1      +  24415758-24415847        ENST00000488155   \n",
       "286    chr1      +  24415758-24415847        ENST00000488155   \n",
       "290    chr1      +  24415758-24415847        ENST00000488155   \n",
       "306    chr1      +  24415758-24415847        ENST00000488155   \n",
       "323    chr1      +  24415758-24415847        ENST00000492753   \n",
       "...     ...    ...                ...                    ...   \n",
       "17720  chrY      -  13359743-13359832        ENST00000682112   \n",
       "17724  chrY      -  13359743-13359832        ENST00000684226   \n",
       "17729  chrY      -  13359743-13359832        ENST00000684226   \n",
       "17733  chrY      -  13359743-13359832        ENST00000682913   \n",
       "17738  chrY      -  13359743-13359832        ENST00000682913   \n",
       "\n",
       "      Transcript_coordinates      dbsnp_id  varinat_start  variant_end  \\\n",
       "274        24415812-24420128     rs6666172       24415772     24415773   \n",
       "286        24415812-24420128  rs1406830558       24415783     24415784   \n",
       "290        24415812-24420128   rs975032527       24415792     24415793   \n",
       "306        24415812-24420128  rs1335040726       24415828     24415829   \n",
       "323        24414911-24416595     rs6666172       24415772     24415773   \n",
       "...                      ...           ...            ...          ...   \n",
       "17720      13234599-13480002   rs779580259       13359812     13359813   \n",
       "17724      13234580-13359787  rs1402517404       13359793     13359794   \n",
       "17729      13234580-13359787   rs779580259       13359812     13359813   \n",
       "17733      13249856-13479665  rs1402517404       13359793     13359794   \n",
       "17738      13249856-13479665   rs779580259       13359812     13359813   \n",
       "\n",
       "      ref_neucleotide alternative_neucleotide  \\\n",
       "274                 G                       T   \n",
       "286                 C                       T   \n",
       "290                 G                       C   \n",
       "306                 G                       A   \n",
       "323                 G                       T   \n",
       "...               ...                     ...   \n",
       "17720               C                       A   \n",
       "17724               C                       T   \n",
       "17729               C                       A   \n",
       "17733               C                       T   \n",
       "17738               C                       A   \n",
       "\n",
       "                                           reference_seq  \\\n",
       "274    CGCGACCTTTGAAAGCAAAACACTGCAGCATCTTGGCAGCTCTGAA...   \n",
       "286    CGCGACCTTTGAAAGCAAAACACTGCAGCATCTTGGCAGCTCTGAA...   \n",
       "290    CGCGACCTTTGAAAGCAAAACACTGCAGCATCTTGGCAGCTCTGAA...   \n",
       "306    CGCGACCTTTGAAAGCAAAACACTGCAGCATCTTGGCAGCTCTGAA...   \n",
       "323    CGCGACCTTTGAAAGCAAAACACTGCAGCATCTTGGCAGCTCTGAA...   \n",
       "...                                                  ...   \n",
       "17720  AATATACTATTTAAAATTTTTACCTGTAGAAATTTAATTCTTGCAG...   \n",
       "17724  AATATACTATTTAAAATTTTTACCTGTAGAAATTTAATTCTTGCAG...   \n",
       "17729  AATATACTATTTAAAATTTTTACCTGTAGAAATTTAATTCTTGCAG...   \n",
       "17733  AATATACTATTTAAAATTTTTACCTGTAGAAATTTAATTCTTGCAG...   \n",
       "17738  AATATACTATTTAAAATTTTTACCTGTAGAAATTTAATTCTTGCAG...   \n",
       "\n",
       "                                                 alt_seq  Ref_probab  \\\n",
       "274    CGCGACCTTTGAAATCAAAACACTGCAGCATCTTGGCAGCTCTGAA...    0.633146   \n",
       "286    CGCGACCTTTGAAAGCAAAACACTGTAGCATCTTGGCAGCTCTGAA...    0.633146   \n",
       "290    CGCGACCTTTGAAAGCAAAACACTGCAGCATCTTCGCAGCTCTGAA...    0.633146   \n",
       "306    CGCGACCTTTGAAAGCAAAACACTGCAGCATCTTGGCAGCTCTGAA...    0.633146   \n",
       "323    CGCGACCTTTGAAATCAAAACACTGCAGCATCTTGGCAGCTCTGAA...    0.633146   \n",
       "...                                                  ...         ...   \n",
       "17720  AATATACTATTTAAAATTTTTACCTGTAGAAATTTAATTCTTGCAG...    0.428082   \n",
       "17724  AATATACTATTTAAAATTTTTACCTGTAGAAATTTAATTCTTGCAG...    0.428082   \n",
       "17729  AATATACTATTTAAAATTTTTACCTGTAGAAATTTAATTCTTGCAG...    0.428082   \n",
       "17733  AATATACTATTTAAAATTTTTACCTGTAGAAATTTAATTCTTGCAG...    0.428082   \n",
       "17738  AATATACTATTTAAAATTTTTACCTGTAGAAATTTAATTCTTGCAG...    0.428082   \n",
       "\n",
       "       Alt_probab  ScoreChange  LogOddRatio  \n",
       "274      0.466665    -0.105407     0.979990  \n",
       "286      0.368558    -0.167523     1.564094  \n",
       "290      0.497665    -0.085779     0.800807  \n",
       "306      0.333326    -0.189830     1.787379  \n",
       "323      0.466665    -0.105407     0.979990  \n",
       "...           ...          ...          ...  \n",
       "17720    0.559943     0.073835    -0.765514  \n",
       "17724    0.794773     0.291436    -2.371242  \n",
       "17729    0.559943     0.073835    -0.765514  \n",
       "17733    0.794773     0.291436    -2.371242  \n",
       "17738    0.559943     0.073835    -0.765514  \n",
       "\n",
       "[6608577 rows x 16 columns]"
      ]
     },
     "execution_count": 45,
     "metadata": {},
     "output_type": "execute_result"
    }
   ],
   "source": [
    "#df_interest = df_interest[((df_interest['Ref_probab']>0.5) & (df_interest['Alt_probab']<0.5))|((df_interest['Ref_probab']<0.5) & (df_interest['Alt_probab']>0.5))]\n",
    "# df_interest = concatenated_df[(concatenated_df['Ref_probab']>0.5)|(concatenated_df['Alt_probab']>0.5)]\n",
    "# df_interest\n",
    "filtered_df1 = concatenated_df[(concatenated_df['Ref_probab'] > 0.5) & (concatenated_df['Alt_probab'] < 0.5)]\n",
    "filtered_df2 = concatenated_df[(concatenated_df['Ref_probab'] < 0.5) & (concatenated_df['Alt_probab'] > 0.5)]\n",
    "df_interest = pd.concat([filtered_df1, filtered_df2])\n",
    "df_interest"
   ]
  },
  {
   "cell_type": "code",
   "execution_count": 46,
   "id": "c19ccc9b-46f1-4983-9b96-af4fd6cc6bdc",
   "metadata": {},
   "outputs": [
    {
     "data": {
      "application/vnd.plotly.v1+json": {
       "config": {
        "plotlyServerURL": "https://plot.ly"
       },
       "data": [
        {
         "name": "Histogram",
         "type": "bar",
         "width": [
          0.607015655111736,
          0.6070156551117343,
          0.607015655111736,
          0.6070156551117343,
          0.607015655111736,
          0.607015655111736,
          0.6070156551117343,
          0.607015655111736,
          0.6070156551117352,
          0.6070156551117352,
          0.607015655111736,
          0.6070156551117352,
          0.6070156551117352,
          0.607015655111736,
          0.6070156551117343,
          0.607015655111736,
          0.607015655111736,
          0.6070156551117343,
          0.607015655111736,
          0.6070156551117343,
          0.607015655111736,
          0.607015655111736,
          0.6070156551117343,
          0.607015655111736,
          0.607015655111736,
          0.6070156551117343,
          0.6070156551117343,
          0.6070156551117378,
          0.6070156551117343,
          0.6070156551117343,
          0.6070156551117378,
          0.6070156551117343,
          0.6070156551117343,
          0.6070156551117378,
          0.6070156551117343,
          0.6070156551117343,
          0.6070156551117378,
          0.6070156551117343,
          0.6070156551117343,
          0.6070156551117343
         ],
         "x": [
          -11.973278469800995,
          -11.36626281468926,
          -10.759247159577527,
          -10.15223150446579,
          -9.545215849354054,
          -8.93820019424232,
          -8.331184539130584,
          -7.724168884018849,
          -7.117153228907114,
          -6.510137573795378,
          -5.9031219186836426,
          -5.296106263571907,
          -4.689090608460171,
          -4.082074953348436,
          -3.475059298236701,
          -2.868043643124966,
          -2.26102798801323,
          -1.6540123329014946,
          -1.0469966777897595,
          -0.4399810226780243,
          0.16703463243371086,
          0.7740502875454469,
          1.381065942657182,
          1.9880815977689172,
          2.5950972528806533,
          3.2021129079923885,
          3.8091285631041227,
          4.416144218215859,
          5.023159873327595,
          5.630175528439329,
          6.237191183551065,
          6.844206838662801,
          7.4512224937745355,
          8.058238148886272,
          8.665253803998008,
          9.272269459109742,
          9.879285114221478,
          10.486300769333214,
          11.093316424444948,
          11.700332079556683
         ],
         "y": [
          25,
          0,
          51,
          171,
          296,
          197,
          811,
          1134,
          1769,
          2957,
          7874,
          18541,
          35914,
          62916,
          113704,
          173089,
          243711,
          383507,
          710402,
          919623,
          487970,
          972798,
          828449,
          587641,
          404279,
          273772,
          185967,
          98729,
          47901,
          24803,
          9864,
          5667,
          1887,
          1349,
          413,
          162,
          122,
          89,
          18,
          5
         ]
        },
        {
         "mode": "text",
         "text": [
          "25"
         ],
         "type": "scatter",
         "x": [
          -11.973278469800995
         ],
         "y": [
          25
         ]
        },
        {
         "mode": "text",
         "text": [
          "0"
         ],
         "type": "scatter",
         "x": [
          -11.36626281468926
         ],
         "y": [
          0
         ]
        },
        {
         "mode": "text",
         "text": [
          "51"
         ],
         "type": "scatter",
         "x": [
          -10.759247159577527
         ],
         "y": [
          51
         ]
        },
        {
         "mode": "text",
         "text": [
          "171"
         ],
         "type": "scatter",
         "x": [
          -10.15223150446579
         ],
         "y": [
          171
         ]
        },
        {
         "mode": "text",
         "text": [
          "296"
         ],
         "type": "scatter",
         "x": [
          -9.545215849354054
         ],
         "y": [
          296
         ]
        },
        {
         "mode": "text",
         "text": [
          "197"
         ],
         "type": "scatter",
         "x": [
          -8.93820019424232
         ],
         "y": [
          197
         ]
        },
        {
         "mode": "text",
         "text": [
          "811"
         ],
         "type": "scatter",
         "x": [
          -8.331184539130584
         ],
         "y": [
          811
         ]
        },
        {
         "mode": "text",
         "text": [
          "1134"
         ],
         "type": "scatter",
         "x": [
          -7.724168884018849
         ],
         "y": [
          1134
         ]
        },
        {
         "mode": "text",
         "text": [
          "1769"
         ],
         "type": "scatter",
         "x": [
          -7.117153228907114
         ],
         "y": [
          1769
         ]
        },
        {
         "mode": "text",
         "text": [
          "2957"
         ],
         "type": "scatter",
         "x": [
          -6.510137573795378
         ],
         "y": [
          2957
         ]
        },
        {
         "mode": "text",
         "text": [
          "7874"
         ],
         "type": "scatter",
         "x": [
          -5.9031219186836426
         ],
         "y": [
          7874
         ]
        },
        {
         "mode": "text",
         "text": [
          "18541"
         ],
         "type": "scatter",
         "x": [
          -5.296106263571907
         ],
         "y": [
          18541
         ]
        },
        {
         "mode": "text",
         "text": [
          "35914"
         ],
         "type": "scatter",
         "x": [
          -4.689090608460171
         ],
         "y": [
          35914
         ]
        },
        {
         "mode": "text",
         "text": [
          "62916"
         ],
         "type": "scatter",
         "x": [
          -4.082074953348436
         ],
         "y": [
          62916
         ]
        },
        {
         "mode": "text",
         "text": [
          "113704"
         ],
         "type": "scatter",
         "x": [
          -3.475059298236701
         ],
         "y": [
          113704
         ]
        },
        {
         "mode": "text",
         "text": [
          "173089"
         ],
         "type": "scatter",
         "x": [
          -2.868043643124966
         ],
         "y": [
          173089
         ]
        },
        {
         "mode": "text",
         "text": [
          "243711"
         ],
         "type": "scatter",
         "x": [
          -2.26102798801323
         ],
         "y": [
          243711
         ]
        },
        {
         "mode": "text",
         "text": [
          "383507"
         ],
         "type": "scatter",
         "x": [
          -1.6540123329014946
         ],
         "y": [
          383507
         ]
        },
        {
         "mode": "text",
         "text": [
          "710402"
         ],
         "type": "scatter",
         "x": [
          -1.0469966777897595
         ],
         "y": [
          710402
         ]
        },
        {
         "mode": "text",
         "text": [
          "919623"
         ],
         "type": "scatter",
         "x": [
          -0.4399810226780243
         ],
         "y": [
          919623
         ]
        },
        {
         "mode": "text",
         "text": [
          "487970"
         ],
         "type": "scatter",
         "x": [
          0.16703463243371086
         ],
         "y": [
          487970
         ]
        },
        {
         "mode": "text",
         "text": [
          "972798"
         ],
         "type": "scatter",
         "x": [
          0.7740502875454469
         ],
         "y": [
          972798
         ]
        },
        {
         "mode": "text",
         "text": [
          "828449"
         ],
         "type": "scatter",
         "x": [
          1.381065942657182
         ],
         "y": [
          828449
         ]
        },
        {
         "mode": "text",
         "text": [
          "587641"
         ],
         "type": "scatter",
         "x": [
          1.9880815977689172
         ],
         "y": [
          587641
         ]
        },
        {
         "mode": "text",
         "text": [
          "404279"
         ],
         "type": "scatter",
         "x": [
          2.5950972528806533
         ],
         "y": [
          404279
         ]
        },
        {
         "mode": "text",
         "text": [
          "273772"
         ],
         "type": "scatter",
         "x": [
          3.2021129079923885
         ],
         "y": [
          273772
         ]
        },
        {
         "mode": "text",
         "text": [
          "185967"
         ],
         "type": "scatter",
         "x": [
          3.8091285631041227
         ],
         "y": [
          185967
         ]
        },
        {
         "mode": "text",
         "text": [
          "98729"
         ],
         "type": "scatter",
         "x": [
          4.416144218215859
         ],
         "y": [
          98729
         ]
        },
        {
         "mode": "text",
         "text": [
          "47901"
         ],
         "type": "scatter",
         "x": [
          5.023159873327595
         ],
         "y": [
          47901
         ]
        },
        {
         "mode": "text",
         "text": [
          "24803"
         ],
         "type": "scatter",
         "x": [
          5.630175528439329
         ],
         "y": [
          24803
         ]
        },
        {
         "mode": "text",
         "text": [
          "9864"
         ],
         "type": "scatter",
         "x": [
          6.237191183551065
         ],
         "y": [
          9864
         ]
        },
        {
         "mode": "text",
         "text": [
          "5667"
         ],
         "type": "scatter",
         "x": [
          6.844206838662801
         ],
         "y": [
          5667
         ]
        },
        {
         "mode": "text",
         "text": [
          "1887"
         ],
         "type": "scatter",
         "x": [
          7.4512224937745355
         ],
         "y": [
          1887
         ]
        },
        {
         "mode": "text",
         "text": [
          "1349"
         ],
         "type": "scatter",
         "x": [
          8.058238148886272
         ],
         "y": [
          1349
         ]
        },
        {
         "mode": "text",
         "text": [
          "413"
         ],
         "type": "scatter",
         "x": [
          8.665253803998008
         ],
         "y": [
          413
         ]
        },
        {
         "mode": "text",
         "text": [
          "162"
         ],
         "type": "scatter",
         "x": [
          9.272269459109742
         ],
         "y": [
          162
         ]
        },
        {
         "mode": "text",
         "text": [
          "122"
         ],
         "type": "scatter",
         "x": [
          9.879285114221478
         ],
         "y": [
          122
         ]
        },
        {
         "mode": "text",
         "text": [
          "89"
         ],
         "type": "scatter",
         "x": [
          10.486300769333214
         ],
         "y": [
          89
         ]
        },
        {
         "mode": "text",
         "text": [
          "18"
         ],
         "type": "scatter",
         "x": [
          11.093316424444948
         ],
         "y": [
          18
         ]
        },
        {
         "mode": "text",
         "text": [
          "5"
         ],
         "type": "scatter",
         "x": [
          11.700332079556683
         ],
         "y": [
          5
         ]
        }
       ],
       "layout": {
        "autosize": true,
        "template": {
         "data": {
          "bar": [
           {
            "error_x": {
             "color": "#2a3f5f"
            },
            "error_y": {
             "color": "#2a3f5f"
            },
            "marker": {
             "line": {
              "color": "#E5ECF6",
              "width": 0.5
             },
             "pattern": {
              "fillmode": "overlay",
              "size": 10,
              "solidity": 0.2
             }
            },
            "type": "bar"
           }
          ],
          "barpolar": [
           {
            "marker": {
             "line": {
              "color": "#E5ECF6",
              "width": 0.5
             },
             "pattern": {
              "fillmode": "overlay",
              "size": 10,
              "solidity": 0.2
             }
            },
            "type": "barpolar"
           }
          ],
          "carpet": [
           {
            "aaxis": {
             "endlinecolor": "#2a3f5f",
             "gridcolor": "white",
             "linecolor": "white",
             "minorgridcolor": "white",
             "startlinecolor": "#2a3f5f"
            },
            "baxis": {
             "endlinecolor": "#2a3f5f",
             "gridcolor": "white",
             "linecolor": "white",
             "minorgridcolor": "white",
             "startlinecolor": "#2a3f5f"
            },
            "type": "carpet"
           }
          ],
          "choropleth": [
           {
            "colorbar": {
             "outlinewidth": 0,
             "ticks": ""
            },
            "type": "choropleth"
           }
          ],
          "contour": [
           {
            "colorbar": {
             "outlinewidth": 0,
             "ticks": ""
            },
            "colorscale": [
             [
              0,
              "#0d0887"
             ],
             [
              0.1111111111111111,
              "#46039f"
             ],
             [
              0.2222222222222222,
              "#7201a8"
             ],
             [
              0.3333333333333333,
              "#9c179e"
             ],
             [
              0.4444444444444444,
              "#bd3786"
             ],
             [
              0.5555555555555556,
              "#d8576b"
             ],
             [
              0.6666666666666666,
              "#ed7953"
             ],
             [
              0.7777777777777778,
              "#fb9f3a"
             ],
             [
              0.8888888888888888,
              "#fdca26"
             ],
             [
              1,
              "#f0f921"
             ]
            ],
            "type": "contour"
           }
          ],
          "contourcarpet": [
           {
            "colorbar": {
             "outlinewidth": 0,
             "ticks": ""
            },
            "type": "contourcarpet"
           }
          ],
          "heatmap": [
           {
            "colorbar": {
             "outlinewidth": 0,
             "ticks": ""
            },
            "colorscale": [
             [
              0,
              "#0d0887"
             ],
             [
              0.1111111111111111,
              "#46039f"
             ],
             [
              0.2222222222222222,
              "#7201a8"
             ],
             [
              0.3333333333333333,
              "#9c179e"
             ],
             [
              0.4444444444444444,
              "#bd3786"
             ],
             [
              0.5555555555555556,
              "#d8576b"
             ],
             [
              0.6666666666666666,
              "#ed7953"
             ],
             [
              0.7777777777777778,
              "#fb9f3a"
             ],
             [
              0.8888888888888888,
              "#fdca26"
             ],
             [
              1,
              "#f0f921"
             ]
            ],
            "type": "heatmap"
           }
          ],
          "heatmapgl": [
           {
            "colorbar": {
             "outlinewidth": 0,
             "ticks": ""
            },
            "colorscale": [
             [
              0,
              "#0d0887"
             ],
             [
              0.1111111111111111,
              "#46039f"
             ],
             [
              0.2222222222222222,
              "#7201a8"
             ],
             [
              0.3333333333333333,
              "#9c179e"
             ],
             [
              0.4444444444444444,
              "#bd3786"
             ],
             [
              0.5555555555555556,
              "#d8576b"
             ],
             [
              0.6666666666666666,
              "#ed7953"
             ],
             [
              0.7777777777777778,
              "#fb9f3a"
             ],
             [
              0.8888888888888888,
              "#fdca26"
             ],
             [
              1,
              "#f0f921"
             ]
            ],
            "type": "heatmapgl"
           }
          ],
          "histogram": [
           {
            "marker": {
             "pattern": {
              "fillmode": "overlay",
              "size": 10,
              "solidity": 0.2
             }
            },
            "type": "histogram"
           }
          ],
          "histogram2d": [
           {
            "colorbar": {
             "outlinewidth": 0,
             "ticks": ""
            },
            "colorscale": [
             [
              0,
              "#0d0887"
             ],
             [
              0.1111111111111111,
              "#46039f"
             ],
             [
              0.2222222222222222,
              "#7201a8"
             ],
             [
              0.3333333333333333,
              "#9c179e"
             ],
             [
              0.4444444444444444,
              "#bd3786"
             ],
             [
              0.5555555555555556,
              "#d8576b"
             ],
             [
              0.6666666666666666,
              "#ed7953"
             ],
             [
              0.7777777777777778,
              "#fb9f3a"
             ],
             [
              0.8888888888888888,
              "#fdca26"
             ],
             [
              1,
              "#f0f921"
             ]
            ],
            "type": "histogram2d"
           }
          ],
          "histogram2dcontour": [
           {
            "colorbar": {
             "outlinewidth": 0,
             "ticks": ""
            },
            "colorscale": [
             [
              0,
              "#0d0887"
             ],
             [
              0.1111111111111111,
              "#46039f"
             ],
             [
              0.2222222222222222,
              "#7201a8"
             ],
             [
              0.3333333333333333,
              "#9c179e"
             ],
             [
              0.4444444444444444,
              "#bd3786"
             ],
             [
              0.5555555555555556,
              "#d8576b"
             ],
             [
              0.6666666666666666,
              "#ed7953"
             ],
             [
              0.7777777777777778,
              "#fb9f3a"
             ],
             [
              0.8888888888888888,
              "#fdca26"
             ],
             [
              1,
              "#f0f921"
             ]
            ],
            "type": "histogram2dcontour"
           }
          ],
          "mesh3d": [
           {
            "colorbar": {
             "outlinewidth": 0,
             "ticks": ""
            },
            "type": "mesh3d"
           }
          ],
          "parcoords": [
           {
            "line": {
             "colorbar": {
              "outlinewidth": 0,
              "ticks": ""
             }
            },
            "type": "parcoords"
           }
          ],
          "pie": [
           {
            "automargin": true,
            "type": "pie"
           }
          ],
          "scatter": [
           {
            "fillpattern": {
             "fillmode": "overlay",
             "size": 10,
             "solidity": 0.2
            },
            "type": "scatter"
           }
          ],
          "scatter3d": [
           {
            "line": {
             "colorbar": {
              "outlinewidth": 0,
              "ticks": ""
             }
            },
            "marker": {
             "colorbar": {
              "outlinewidth": 0,
              "ticks": ""
             }
            },
            "type": "scatter3d"
           }
          ],
          "scattercarpet": [
           {
            "marker": {
             "colorbar": {
              "outlinewidth": 0,
              "ticks": ""
             }
            },
            "type": "scattercarpet"
           }
          ],
          "scattergeo": [
           {
            "marker": {
             "colorbar": {
              "outlinewidth": 0,
              "ticks": ""
             }
            },
            "type": "scattergeo"
           }
          ],
          "scattergl": [
           {
            "marker": {
             "colorbar": {
              "outlinewidth": 0,
              "ticks": ""
             }
            },
            "type": "scattergl"
           }
          ],
          "scattermapbox": [
           {
            "marker": {
             "colorbar": {
              "outlinewidth": 0,
              "ticks": ""
             }
            },
            "type": "scattermapbox"
           }
          ],
          "scatterpolar": [
           {
            "marker": {
             "colorbar": {
              "outlinewidth": 0,
              "ticks": ""
             }
            },
            "type": "scatterpolar"
           }
          ],
          "scatterpolargl": [
           {
            "marker": {
             "colorbar": {
              "outlinewidth": 0,
              "ticks": ""
             }
            },
            "type": "scatterpolargl"
           }
          ],
          "scatterternary": [
           {
            "marker": {
             "colorbar": {
              "outlinewidth": 0,
              "ticks": ""
             }
            },
            "type": "scatterternary"
           }
          ],
          "surface": [
           {
            "colorbar": {
             "outlinewidth": 0,
             "ticks": ""
            },
            "colorscale": [
             [
              0,
              "#0d0887"
             ],
             [
              0.1111111111111111,
              "#46039f"
             ],
             [
              0.2222222222222222,
              "#7201a8"
             ],
             [
              0.3333333333333333,
              "#9c179e"
             ],
             [
              0.4444444444444444,
              "#bd3786"
             ],
             [
              0.5555555555555556,
              "#d8576b"
             ],
             [
              0.6666666666666666,
              "#ed7953"
             ],
             [
              0.7777777777777778,
              "#fb9f3a"
             ],
             [
              0.8888888888888888,
              "#fdca26"
             ],
             [
              1,
              "#f0f921"
             ]
            ],
            "type": "surface"
           }
          ],
          "table": [
           {
            "cells": {
             "fill": {
              "color": "#EBF0F8"
             },
             "line": {
              "color": "white"
             }
            },
            "header": {
             "fill": {
              "color": "#C8D4E3"
             },
             "line": {
              "color": "white"
             }
            },
            "type": "table"
           }
          ]
         },
         "layout": {
          "annotationdefaults": {
           "arrowcolor": "#2a3f5f",
           "arrowhead": 0,
           "arrowwidth": 1
          },
          "autotypenumbers": "strict",
          "coloraxis": {
           "colorbar": {
            "outlinewidth": 0,
            "ticks": ""
           }
          },
          "colorscale": {
           "diverging": [
            [
             0,
             "#8e0152"
            ],
            [
             0.1,
             "#c51b7d"
            ],
            [
             0.2,
             "#de77ae"
            ],
            [
             0.3,
             "#f1b6da"
            ],
            [
             0.4,
             "#fde0ef"
            ],
            [
             0.5,
             "#f7f7f7"
            ],
            [
             0.6,
             "#e6f5d0"
            ],
            [
             0.7,
             "#b8e186"
            ],
            [
             0.8,
             "#7fbc41"
            ],
            [
             0.9,
             "#4d9221"
            ],
            [
             1,
             "#276419"
            ]
           ],
           "sequential": [
            [
             0,
             "#0d0887"
            ],
            [
             0.1111111111111111,
             "#46039f"
            ],
            [
             0.2222222222222222,
             "#7201a8"
            ],
            [
             0.3333333333333333,
             "#9c179e"
            ],
            [
             0.4444444444444444,
             "#bd3786"
            ],
            [
             0.5555555555555556,
             "#d8576b"
            ],
            [
             0.6666666666666666,
             "#ed7953"
            ],
            [
             0.7777777777777778,
             "#fb9f3a"
            ],
            [
             0.8888888888888888,
             "#fdca26"
            ],
            [
             1,
             "#f0f921"
            ]
           ],
           "sequentialminus": [
            [
             0,
             "#0d0887"
            ],
            [
             0.1111111111111111,
             "#46039f"
            ],
            [
             0.2222222222222222,
             "#7201a8"
            ],
            [
             0.3333333333333333,
             "#9c179e"
            ],
            [
             0.4444444444444444,
             "#bd3786"
            ],
            [
             0.5555555555555556,
             "#d8576b"
            ],
            [
             0.6666666666666666,
             "#ed7953"
            ],
            [
             0.7777777777777778,
             "#fb9f3a"
            ],
            [
             0.8888888888888888,
             "#fdca26"
            ],
            [
             1,
             "#f0f921"
            ]
           ]
          },
          "colorway": [
           "#636efa",
           "#EF553B",
           "#00cc96",
           "#ab63fa",
           "#FFA15A",
           "#19d3f3",
           "#FF6692",
           "#B6E880",
           "#FF97FF",
           "#FECB52"
          ],
          "font": {
           "color": "#2a3f5f"
          },
          "geo": {
           "bgcolor": "white",
           "lakecolor": "white",
           "landcolor": "#E5ECF6",
           "showlakes": true,
           "showland": true,
           "subunitcolor": "white"
          },
          "hoverlabel": {
           "align": "left"
          },
          "hovermode": "closest",
          "mapbox": {
           "style": "light"
          },
          "paper_bgcolor": "white",
          "plot_bgcolor": "#E5ECF6",
          "polar": {
           "angularaxis": {
            "gridcolor": "white",
            "linecolor": "white",
            "ticks": ""
           },
           "bgcolor": "#E5ECF6",
           "radialaxis": {
            "gridcolor": "white",
            "linecolor": "white",
            "ticks": ""
           }
          },
          "scene": {
           "xaxis": {
            "backgroundcolor": "#E5ECF6",
            "gridcolor": "white",
            "gridwidth": 2,
            "linecolor": "white",
            "showbackground": true,
            "ticks": "",
            "zerolinecolor": "white"
           },
           "yaxis": {
            "backgroundcolor": "#E5ECF6",
            "gridcolor": "white",
            "gridwidth": 2,
            "linecolor": "white",
            "showbackground": true,
            "ticks": "",
            "zerolinecolor": "white"
           },
           "zaxis": {
            "backgroundcolor": "#E5ECF6",
            "gridcolor": "white",
            "gridwidth": 2,
            "linecolor": "white",
            "showbackground": true,
            "ticks": "",
            "zerolinecolor": "white"
           }
          },
          "shapedefaults": {
           "line": {
            "color": "#2a3f5f"
           }
          },
          "ternary": {
           "aaxis": {
            "gridcolor": "white",
            "linecolor": "white",
            "ticks": ""
           },
           "baxis": {
            "gridcolor": "white",
            "linecolor": "white",
            "ticks": ""
           },
           "bgcolor": "#E5ECF6",
           "caxis": {
            "gridcolor": "white",
            "linecolor": "white",
            "ticks": ""
           }
          },
          "title": {
           "x": 0.05
          },
          "xaxis": {
           "automargin": true,
           "gridcolor": "white",
           "linecolor": "white",
           "ticks": "",
           "title": {
            "standoff": 15
           },
           "zerolinecolor": "white",
           "zerolinewidth": 2
          },
          "yaxis": {
           "automargin": true,
           "gridcolor": "white",
           "linecolor": "white",
           "ticks": "",
           "title": {
            "standoff": 15
           },
           "zerolinecolor": "white",
           "zerolinewidth": 2
          }
         }
        },
        "xaxis": {
         "autorange": true,
         "range": [
          -13.288479055876422,
          13.01553266563211
         ],
         "type": "linear"
        },
        "yaxis": {
         "autorange": true,
         "range": [
          -54044.333333333336,
          1026842.3333333334
         ],
         "type": "linear"
        }
       }
      },
      "image/png": "[encoded data removed]",
      "text/html": [
       "<div>                            <div id=\"ef6d501b-2df1-4554-b8b9-dd9b1f5d5470\" class=\"plotly-graph-div\" style=\"height:525px; width:100%;\"></div>            <script type=\"text/javascript\">                require([\"plotly\"], function(Plotly) {                    window.PLOTLYENV=window.PLOTLYENV || {};                                    if (document.getElementById(\"ef6d501b-2df1-4554-b8b9-dd9b1f5d5470\")) {                    Plotly.newPlot(                        \"ef6d501b-2df1-4554-b8b9-dd9b1f5d5470\",                        [{\"name\":\"Histogram\",\"width\":[0.607015655111736,0.6070156551117343,0.607015655111736,0.6070156551117343,0.607015655111736,0.607015655111736,0.6070156551117343,0.607015655111736,0.6070156551117352,0.6070156551117352,0.607015655111736,0.6070156551117352,0.6070156551117352,0.607015655111736,0.6070156551117343,0.607015655111736,0.607015655111736,0.6070156551117343,0.607015655111736,0.6070156551117343,0.607015655111736,0.607015655111736,0.6070156551117343,0.607015655111736,0.607015655111736,0.6070156551117343,0.6070156551117343,0.6070156551117378,0.6070156551117343,0.6070156551117343,0.6070156551117378,0.6070156551117343,0.6070156551117343,0.6070156551117378,0.6070156551117343,0.6070156551117343,0.6070156551117378,0.6070156551117343,0.6070156551117343,0.6070156551117343],\"x\":[-11.973278469800995,-11.36626281468926,-10.759247159577527,-10.15223150446579,-9.545215849354054,-8.93820019424232,-8.331184539130584,-7.724168884018849,-7.117153228907114,-6.510137573795378,-5.9031219186836426,-5.296106263571907,-4.689090608460171,-4.082074953348436,-3.475059298236701,-2.868043643124966,-2.26102798801323,-1.6540123329014946,-1.0469966777897595,-0.4399810226780243,0.16703463243371086,0.7740502875454469,1.381065942657182,1.9880815977689172,2.5950972528806533,3.2021129079923885,3.8091285631041227,4.416144218215859,5.023159873327595,5.630175528439329,6.237191183551065,6.844206838662801,7.4512224937745355,8.058238148886272,8.665253803998008,9.272269459109742,9.879285114221478,10.486300769333214,11.093316424444948,11.700332079556683],\"y\":[25,0,51,171,296,197,811,1134,1769,2957,7874,18541,35914,62916,113704,173089,243711,383507,710402,919623,487970,972798,828449,587641,404279,273772,185967,98729,47901,24803,9864,5667,1887,1349,413,162,122,89,18,5],\"type\":\"bar\"},{\"mode\":\"text\",\"text\":[\"25\"],\"x\":[-11.973278469800995],\"y\":[25],\"type\":\"scatter\"},{\"mode\":\"text\",\"text\":[\"0\"],\"x\":[-11.36626281468926],\"y\":[0],\"type\":\"scatter\"},{\"mode\":\"text\",\"text\":[\"51\"],\"x\":[-10.759247159577527],\"y\":[51],\"type\":\"scatter\"},{\"mode\":\"text\",\"text\":[\"171\"],\"x\":[-10.15223150446579],\"y\":[171],\"type\":\"scatter\"},{\"mode\":\"text\",\"text\":[\"296\"],\"x\":[-9.545215849354054],\"y\":[296],\"type\":\"scatter\"},{\"mode\":\"text\",\"text\":[\"197\"],\"x\":[-8.93820019424232],\"y\":[197],\"type\":\"scatter\"},{\"mode\":\"text\",\"text\":[\"811\"],\"x\":[-8.331184539130584],\"y\":[811],\"type\":\"scatter\"},{\"mode\":\"text\",\"text\":[\"1134\"],\"x\":[-7.724168884018849],\"y\":[1134],\"type\":\"scatter\"},{\"mode\":\"text\",\"text\":[\"1769\"],\"x\":[-7.117153228907114],\"y\":[1769],\"type\":\"scatter\"},{\"mode\":\"text\",\"text\":[\"2957\"],\"x\":[-6.510137573795378],\"y\":[2957],\"type\":\"scatter\"},{\"mode\":\"text\",\"text\":[\"7874\"],\"x\":[-5.9031219186836426],\"y\":[7874],\"type\":\"scatter\"},{\"mode\":\"text\",\"text\":[\"18541\"],\"x\":[-5.296106263571907],\"y\":[18541],\"type\":\"scatter\"},{\"mode\":\"text\",\"text\":[\"35914\"],\"x\":[-4.689090608460171],\"y\":[35914],\"type\":\"scatter\"},{\"mode\":\"text\",\"text\":[\"62916\"],\"x\":[-4.082074953348436],\"y\":[62916],\"type\":\"scatter\"},{\"mode\":\"text\",\"text\":[\"113704\"],\"x\":[-3.475059298236701],\"y\":[113704],\"type\":\"scatter\"},{\"mode\":\"text\",\"text\":[\"173089\"],\"x\":[-2.868043643124966],\"y\":[173089],\"type\":\"scatter\"},{\"mode\":\"text\",\"text\":[\"243711\"],\"x\":[-2.26102798801323],\"y\":[243711],\"type\":\"scatter\"},{\"mode\":\"text\",\"text\":[\"383507\"],\"x\":[-1.6540123329014946],\"y\":[383507],\"type\":\"scatter\"},{\"mode\":\"text\",\"text\":[\"710402\"],\"x\":[-1.0469966777897595],\"y\":[710402],\"type\":\"scatter\"},{\"mode\":\"text\",\"text\":[\"919623\"],\"x\":[-0.4399810226780243],\"y\":[919623],\"type\":\"scatter\"},{\"mode\":\"text\",\"text\":[\"487970\"],\"x\":[0.16703463243371086],\"y\":[487970],\"type\":\"scatter\"},{\"mode\":\"text\",\"text\":[\"972798\"],\"x\":[0.7740502875454469],\"y\":[972798],\"type\":\"scatter\"},{\"mode\":\"text\",\"text\":[\"828449\"],\"x\":[1.381065942657182],\"y\":[828449],\"type\":\"scatter\"},{\"mode\":\"text\",\"text\":[\"587641\"],\"x\":[1.9880815977689172],\"y\":[587641],\"type\":\"scatter\"},{\"mode\":\"text\",\"text\":[\"404279\"],\"x\":[2.5950972528806533],\"y\":[404279],\"type\":\"scatter\"},{\"mode\":\"text\",\"text\":[\"273772\"],\"x\":[3.2021129079923885],\"y\":[273772],\"type\":\"scatter\"},{\"mode\":\"text\",\"text\":[\"185967\"],\"x\":[3.8091285631041227],\"y\":[185967],\"type\":\"scatter\"},{\"mode\":\"text\",\"text\":[\"98729\"],\"x\":[4.416144218215859],\"y\":[98729],\"type\":\"scatter\"},{\"mode\":\"text\",\"text\":[\"47901\"],\"x\":[5.023159873327595],\"y\":[47901],\"type\":\"scatter\"},{\"mode\":\"text\",\"text\":[\"24803\"],\"x\":[5.630175528439329],\"y\":[24803],\"type\":\"scatter\"},{\"mode\":\"text\",\"text\":[\"9864\"],\"x\":[6.237191183551065],\"y\":[9864],\"type\":\"scatter\"},{\"mode\":\"text\",\"text\":[\"5667\"],\"x\":[6.844206838662801],\"y\":[5667],\"type\":\"scatter\"},{\"mode\":\"text\",\"text\":[\"1887\"],\"x\":[7.4512224937745355],\"y\":[1887],\"type\":\"scatter\"},{\"mode\":\"text\",\"text\":[\"1349\"],\"x\":[8.058238148886272],\"y\":[1349],\"type\":\"scatter\"},{\"mode\":\"text\",\"text\":[\"413\"],\"x\":[8.665253803998008],\"y\":[413],\"type\":\"scatter\"},{\"mode\":\"text\",\"text\":[\"162\"],\"x\":[9.272269459109742],\"y\":[162],\"type\":\"scatter\"},{\"mode\":\"text\",\"text\":[\"122\"],\"x\":[9.879285114221478],\"y\":[122],\"type\":\"scatter\"},{\"mode\":\"text\",\"text\":[\"89\"],\"x\":[10.486300769333214],\"y\":[89],\"type\":\"scatter\"},{\"mode\":\"text\",\"text\":[\"18\"],\"x\":[11.093316424444948],\"y\":[18],\"type\":\"scatter\"},{\"mode\":\"text\",\"text\":[\"5\"],\"x\":[11.700332079556683],\"y\":[5],\"type\":\"scatter\"}],                        {\"template\":{\"data\":{\"histogram2dcontour\":[{\"type\":\"histogram2dcontour\",\"colorbar\":{\"outlinewidth\":0,\"ticks\":\"\"},\"colorscale\":[[0.0,\"#0d0887\"],[0.1111111111111111,\"#46039f\"],[0.2222222222222222,\"#7201a8\"],[0.3333333333333333,\"#9c179e\"],[0.4444444444444444,\"#bd3786\"],[0.5555555555555556,\"#d8576b\"],[0.6666666666666666,\"#ed7953\"],[0.7777777777777778,\"#fb9f3a\"],[0.8888888888888888,\"#fdca26\"],[1.0,\"#f0f921\"]]}],\"choropleth\":[{\"type\":\"choropleth\",\"colorbar\":{\"outlinewidth\":0,\"ticks\":\"\"}}],\"histogram2d\":[{\"type\":\"histogram2d\",\"colorbar\":{\"outlinewidth\":0,\"ticks\":\"\"},\"colorscale\":[[0.0,\"#0d0887\"],[0.1111111111111111,\"#46039f\"],[0.2222222222222222,\"#7201a8\"],[0.3333333333333333,\"#9c179e\"],[0.4444444444444444,\"#bd3786\"],[0.5555555555555556,\"#d8576b\"],[0.6666666666666666,\"#ed7953\"],[0.7777777777777778,\"#fb9f3a\"],[0.8888888888888888,\"#fdca26\"],[1.0,\"#f0f921\"]]}],\"heatmap\":[{\"type\":\"heatmap\",\"colorbar\":{\"outlinewidth\":0,\"ticks\":\"\"},\"colorscale\":[[0.0,\"#0d0887\"],[0.1111111111111111,\"#46039f\"],[0.2222222222222222,\"#7201a8\"],[0.3333333333333333,\"#9c179e\"],[0.4444444444444444,\"#bd3786\"],[0.5555555555555556,\"#d8576b\"],[0.6666666666666666,\"#ed7953\"],[0.7777777777777778,\"#fb9f3a\"],[0.8888888888888888,\"#fdca26\"],[1.0,\"#f0f921\"]]}],\"heatmapgl\":[{\"type\":\"heatmapgl\",\"colorbar\":{\"outlinewidth\":0,\"ticks\":\"\"},\"colorscale\":[[0.0,\"#0d0887\"],[0.1111111111111111,\"#46039f\"],[0.2222222222222222,\"#7201a8\"],[0.3333333333333333,\"#9c179e\"],[0.4444444444444444,\"#bd3786\"],[0.5555555555555556,\"#d8576b\"],[0.6666666666666666,\"#ed7953\"],[0.7777777777777778,\"#fb9f3a\"],[0.8888888888888888,\"#fdca26\"],[1.0,\"#f0f921\"]]}],\"contourcarpet\":[{\"type\":\"contourcarpet\",\"colorbar\":{\"outlinewidth\":0,\"ticks\":\"\"}}],\"contour\":[{\"type\":\"contour\",\"colorbar\":{\"outlinewidth\":0,\"ticks\":\"\"},\"colorscale\":[[0.0,\"#0d0887\"],[0.1111111111111111,\"#46039f\"],[0.2222222222222222,\"#7201a8\"],[0.3333333333333333,\"#9c179e\"],[0.4444444444444444,\"#bd3786\"],[0.5555555555555556,\"#d8576b\"],[0.6666666666666666,\"#ed7953\"],[0.7777777777777778,\"#fb9f3a\"],[0.8888888888888888,\"#fdca26\"],[1.0,\"#f0f921\"]]}],\"surface\":[{\"type\":\"surface\",\"colorbar\":{\"outlinewidth\":0,\"ticks\":\"\"},\"colorscale\":[[0.0,\"#0d0887\"],[0.1111111111111111,\"#46039f\"],[0.2222222222222222,\"#7201a8\"],[0.3333333333333333,\"#9c179e\"],[0.4444444444444444,\"#bd3786\"],[0.5555555555555556,\"#d8576b\"],[0.6666666666666666,\"#ed7953\"],[0.7777777777777778,\"#fb9f3a\"],[0.8888888888888888,\"#fdca26\"],[1.0,\"#f0f921\"]]}],\"mesh3d\":[{\"type\":\"mesh3d\",\"colorbar\":{\"outlinewidth\":0,\"ticks\":\"\"}}],\"scatter\":[{\"fillpattern\":{\"fillmode\":\"overlay\",\"size\":10,\"solidity\":0.2},\"type\":\"scatter\"}],\"parcoords\":[{\"type\":\"parcoords\",\"line\":{\"colorbar\":{\"outlinewidth\":0,\"ticks\":\"\"}}}],\"scatterpolargl\":[{\"type\":\"scatterpolargl\",\"marker\":{\"colorbar\":{\"outlinewidth\":0,\"ticks\":\"\"}}}],\"bar\":[{\"error_x\":{\"color\":\"#2a3f5f\"},\"error_y\":{\"color\":\"#2a3f5f\"},\"marker\":{\"line\":{\"color\":\"#E5ECF6\",\"width\":0.5},\"pattern\":{\"fillmode\":\"overlay\",\"size\":10,\"solidity\":0.2}},\"type\":\"bar\"}],\"scattergeo\":[{\"type\":\"scattergeo\",\"marker\":{\"colorbar\":{\"outlinewidth\":0,\"ticks\":\"\"}}}],\"scatterpolar\":[{\"type\":\"scatterpolar\",\"marker\":{\"colorbar\":{\"outlinewidth\":0,\"ticks\":\"\"}}}],\"histogram\":[{\"marker\":{\"pattern\":{\"fillmode\":\"overlay\",\"size\":10,\"solidity\":0.2}},\"type\":\"histogram\"}],\"scattergl\":[{\"type\":\"scattergl\",\"marker\":{\"colorbar\":{\"outlinewidth\":0,\"ticks\":\"\"}}}],\"scatter3d\":[{\"type\":\"scatter3d\",\"line\":{\"colorbar\":{\"outlinewidth\":0,\"ticks\":\"\"}},\"marker\":{\"colorbar\":{\"outlinewidth\":0,\"ticks\":\"\"}}}],\"scattermapbox\":[{\"type\":\"scattermapbox\",\"marker\":{\"colorbar\":{\"outlinewidth\":0,\"ticks\":\"\"}}}],\"scatterternary\":[{\"type\":\"scatterternary\",\"marker\":{\"colorbar\":{\"outlinewidth\":0,\"ticks\":\"\"}}}],\"scattercarpet\":[{\"type\":\"scattercarpet\",\"marker\":{\"colorbar\":{\"outlinewidth\":0,\"ticks\":\"\"}}}],\"carpet\":[{\"aaxis\":{\"endlinecolor\":\"#2a3f5f\",\"gridcolor\":\"white\",\"linecolor\":\"white\",\"minorgridcolor\":\"white\",\"startlinecolor\":\"#2a3f5f\"},\"baxis\":{\"endlinecolor\":\"#2a3f5f\",\"gridcolor\":\"white\",\"linecolor\":\"white\",\"minorgridcolor\":\"white\",\"startlinecolor\":\"#2a3f5f\"},\"type\":\"carpet\"}],\"table\":[{\"cells\":{\"fill\":{\"color\":\"#EBF0F8\"},\"line\":{\"color\":\"white\"}},\"header\":{\"fill\":{\"color\":\"#C8D4E3\"},\"line\":{\"color\":\"white\"}},\"type\":\"table\"}],\"barpolar\":[{\"marker\":{\"line\":{\"color\":\"#E5ECF6\",\"width\":0.5},\"pattern\":{\"fillmode\":\"overlay\",\"size\":10,\"solidity\":0.2}},\"type\":\"barpolar\"}],\"pie\":[{\"automargin\":true,\"type\":\"pie\"}]},\"layout\":{\"autotypenumbers\":\"strict\",\"colorway\":[\"#636efa\",\"#EF553B\",\"#00cc96\",\"#ab63fa\",\"#FFA15A\",\"#19d3f3\",\"#FF6692\",\"#B6E880\",\"#FF97FF\",\"#FECB52\"],\"font\":{\"color\":\"#2a3f5f\"},\"hovermode\":\"closest\",\"hoverlabel\":{\"align\":\"left\"},\"paper_bgcolor\":\"white\",\"plot_bgcolor\":\"#E5ECF6\",\"polar\":{\"bgcolor\":\"#E5ECF6\",\"angularaxis\":{\"gridcolor\":\"white\",\"linecolor\":\"white\",\"ticks\":\"\"},\"radialaxis\":{\"gridcolor\":\"white\",\"linecolor\":\"white\",\"ticks\":\"\"}},\"ternary\":{\"bgcolor\":\"#E5ECF6\",\"aaxis\":{\"gridcolor\":\"white\",\"linecolor\":\"white\",\"ticks\":\"\"},\"baxis\":{\"gridcolor\":\"white\",\"linecolor\":\"white\",\"ticks\":\"\"},\"caxis\":{\"gridcolor\":\"white\",\"linecolor\":\"white\",\"ticks\":\"\"}},\"coloraxis\":{\"colorbar\":{\"outlinewidth\":0,\"ticks\":\"\"}},\"colorscale\":{\"sequential\":[[0.0,\"#0d0887\"],[0.1111111111111111,\"#46039f\"],[0.2222222222222222,\"#7201a8\"],[0.3333333333333333,\"#9c179e\"],[0.4444444444444444,\"#bd3786\"],[0.5555555555555556,\"#d8576b\"],[0.6666666666666666,\"#ed7953\"],[0.7777777777777778,\"#fb9f3a\"],[0.8888888888888888,\"#fdca26\"],[1.0,\"#f0f921\"]],\"sequentialminus\":[[0.0,\"#0d0887\"],[0.1111111111111111,\"#46039f\"],[0.2222222222222222,\"#7201a8\"],[0.3333333333333333,\"#9c179e\"],[0.4444444444444444,\"#bd3786\"],[0.5555555555555556,\"#d8576b\"],[0.6666666666666666,\"#ed7953\"],[0.7777777777777778,\"#fb9f3a\"],[0.8888888888888888,\"#fdca26\"],[1.0,\"#f0f921\"]],\"diverging\":[[0,\"#8e0152\"],[0.1,\"#c51b7d\"],[0.2,\"#de77ae\"],[0.3,\"#f1b6da\"],[0.4,\"#fde0ef\"],[0.5,\"#f7f7f7\"],[0.6,\"#e6f5d0\"],[0.7,\"#b8e186\"],[0.8,\"#7fbc41\"],[0.9,\"#4d9221\"],[1,\"#276419\"]]},\"xaxis\":{\"gridcolor\":\"white\",\"linecolor\":\"white\",\"ticks\":\"\",\"title\":{\"standoff\":15},\"zerolinecolor\":\"white\",\"automargin\":true,\"zerolinewidth\":2},\"yaxis\":{\"gridcolor\":\"white\",\"linecolor\":\"white\",\"ticks\":\"\",\"title\":{\"standoff\":15},\"zerolinecolor\":\"white\",\"automargin\":true,\"zerolinewidth\":2},\"scene\":{\"xaxis\":{\"backgroundcolor\":\"#E5ECF6\",\"gridcolor\":\"white\",\"linecolor\":\"white\",\"showbackground\":true,\"ticks\":\"\",\"zerolinecolor\":\"white\",\"gridwidth\":2},\"yaxis\":{\"backgroundcolor\":\"#E5ECF6\",\"gridcolor\":\"white\",\"linecolor\":\"white\",\"showbackground\":true,\"ticks\":\"\",\"zerolinecolor\":\"white\",\"gridwidth\":2},\"zaxis\":{\"backgroundcolor\":\"#E5ECF6\",\"gridcolor\":\"white\",\"linecolor\":\"white\",\"showbackground\":true,\"ticks\":\"\",\"zerolinecolor\":\"white\",\"gridwidth\":2}},\"shapedefaults\":{\"line\":{\"color\":\"#2a3f5f\"}},\"annotationdefaults\":{\"arrowcolor\":\"#2a3f5f\",\"arrowhead\":0,\"arrowwidth\":1},\"geo\":{\"bgcolor\":\"white\",\"landcolor\":\"#E5ECF6\",\"subunitcolor\":\"white\",\"showland\":true,\"showlakes\":true,\"lakecolor\":\"white\"},\"title\":{\"x\":0.05},\"mapbox\":{\"style\":\"light\"}}}},                        {\"responsive\": true}                    ).then(function(){\n",
       "                            \n",
       "var gd = document.getElementById('ef6d501b-2df1-4554-b8b9-dd9b1f5d5470');\n",
       "var x = new MutationObserver(function (mutations, observer) {{\n",
       "        var display = window.getComputedStyle(gd).display;\n",
       "        if (!display || display === 'none') {{\n",
       "            console.log([gd, 'removed!']);\n",
       "            Plotly.purge(gd);\n",
       "            observer.disconnect();\n",
       "        }}\n",
       "}});\n",
       "\n",
       "// Listen for the removal of the full notebook cells\n",
       "var notebookContainer = gd.closest('#notebook-container');\n",
       "if (notebookContainer) {{\n",
       "    x.observe(notebookContainer, {childList: true});\n",
       "}}\n",
       "\n",
       "// Listen for the clearing of the current output cell\n",
       "var outputEl = gd.closest('.output');\n",
       "if (outputEl) {{\n",
       "    x.observe(outputEl, {childList: true});\n",
       "}}\n",
       "\n",
       "                        })                };                });            </script>        </div>"
      ]
     },
     "metadata": {},
     "output_type": "display_data"
    }
   ],
   "source": [
    "# Plot the figure\n",
    "counts, bins = np.histogram(df_interest['LogOddRatio'], bins=40)\n",
    "bin_midpoints = bins[:-1] + np.diff(bins)/2\n",
    "\n",
    "fig = go.Figure()\n",
    "\n",
    "fig.add_trace(go.Bar(\n",
    "    x=bin_midpoints,\n",
    "    y=counts,\n",
    "    width=np.diff(bins), # makes bars have correct widths\n",
    "    name='Histogram'\n",
    "))\n",
    "# add text labels for counts\n",
    "for i in range(len(counts)):\n",
    "    fig.add_trace(go.Scatter(\n",
    "        x=[bin_midpoints[i]],\n",
    "        y=[counts[i]],\n",
    "        text=[str(counts[i])],\n",
    "        mode='text',\n",
    "    ))\n",
    "\n",
    "fig.show()"
   ]
  },
  {
   "cell_type": "code",
   "execution_count": 47,
   "id": "ff2c2769-0ecb-40d8-ae57-5b886cd86c27",
   "metadata": {},
   "outputs": [
    {
     "data": {
      "application/vnd.plotly.v1+json": {
       "config": {
        "plotlyServerURL": "https://plot.ly"
       },
       "data": [
        {
         "name": "Histogram",
         "type": "bar",
         "width": [
          0.04768765629273419,
          0.04768765629273419,
          0.04768765629273408,
          0.04768765629273419,
          0.04768765629273419,
          0.04768765629273419,
          0.04768765629273419,
          0.04768765629273419,
          0.04768765629273419,
          0.04768765629273408,
          0.04768765629273419,
          0.04768765629273419,
          0.04768765629273419,
          0.04768765629273408,
          0.04768765629273419,
          0.04768765629273419,
          0.04768765629273419,
          0.04768765629273419,
          0.04768765629273408,
          0.04768765629273419,
          0.04768765629273419,
          0.04768765629273419,
          0.04768765629273419,
          0.04768765629273419,
          0.04768765629273419,
          0.04768765629273419,
          0.04768765629273397,
          0.04768765629273419,
          0.04768765629273419,
          0.04768765629273419,
          0.04768765629273419,
          0.04768765629273419,
          0.04768765629273419,
          0.04768765629273419,
          0.04768765629273419,
          0.04768765629273419,
          0.04768765629273419,
          0.04768765629273397,
          0.04768765629273419,
          0.04768765629273408
         ],
         "x": [
          -0.9328290846107955,
          -0.8851414283180613,
          -0.8374537720253272,
          -0.789766115732593,
          -0.7420784594398588,
          -0.6943908031471246,
          -0.6467031468543905,
          -0.5990154905616563,
          -0.5513278342689221,
          -0.5036401779761879,
          -0.4559525216834538,
          -0.4082648653907196,
          -0.3605772090979854,
          -0.31288955280525127,
          -0.26520189651251713,
          -0.21751424021978294,
          -0.16982658392704875,
          -0.12213892763431455,
          -0.07445127134158042,
          -0.02676361504884628,
          0.020924041243887914,
          0.06861169753662211,
          0.1162993538293563,
          0.1639870101220905,
          0.21167466641482469,
          0.2593623227075589,
          0.30704997900029296,
          0.35473763529302704,
          0.40242529158576124,
          0.45011294787849543,
          0.4978006041712296,
          0.5454882604639638,
          0.593175916756698,
          0.6408635730494322,
          0.6885512293421664,
          0.7362388856349006,
          0.7839265419276348,
          0.8316141982203689,
          0.8793018545131029,
          0.926989510805837
         ],
         "y": [
          91,
          183,
          633,
          1846,
          3430,
          8610,
          12425,
          23954,
          40623,
          69212,
          102482,
          143268,
          175806,
          221332,
          294057,
          380210,
          501881,
          627117,
          732524,
          531582,
          529672,
          715433,
          450259,
          281448,
          213849,
          142514,
          111217,
          91395,
          69619,
          49315,
          35183,
          20915,
          12735,
          6499,
          3585,
          1391,
          1163,
          877,
          202,
          40
         ]
        },
        {
         "mode": "text",
         "text": [
          "91"
         ],
         "type": "scatter",
         "x": [
          -0.9328290846107955
         ],
         "y": [
          91
         ]
        },
        {
         "mode": "text",
         "text": [
          "183"
         ],
         "type": "scatter",
         "x": [
          -0.8851414283180613
         ],
         "y": [
          183
         ]
        },
        {
         "mode": "text",
         "text": [
          "633"
         ],
         "type": "scatter",
         "x": [
          -0.8374537720253272
         ],
         "y": [
          633
         ]
        },
        {
         "mode": "text",
         "text": [
          "1846"
         ],
         "type": "scatter",
         "x": [
          -0.789766115732593
         ],
         "y": [
          1846
         ]
        },
        {
         "mode": "text",
         "text": [
          "3430"
         ],
         "type": "scatter",
         "x": [
          -0.7420784594398588
         ],
         "y": [
          3430
         ]
        },
        {
         "mode": "text",
         "text": [
          "8610"
         ],
         "type": "scatter",
         "x": [
          -0.6943908031471246
         ],
         "y": [
          8610
         ]
        },
        {
         "mode": "text",
         "text": [
          "12425"
         ],
         "type": "scatter",
         "x": [
          -0.6467031468543905
         ],
         "y": [
          12425
         ]
        },
        {
         "mode": "text",
         "text": [
          "23954"
         ],
         "type": "scatter",
         "x": [
          -0.5990154905616563
         ],
         "y": [
          23954
         ]
        },
        {
         "mode": "text",
         "text": [
          "40623"
         ],
         "type": "scatter",
         "x": [
          -0.5513278342689221
         ],
         "y": [
          40623
         ]
        },
        {
         "mode": "text",
         "text": [
          "69212"
         ],
         "type": "scatter",
         "x": [
          -0.5036401779761879
         ],
         "y": [
          69212
         ]
        },
        {
         "mode": "text",
         "text": [
          "102482"
         ],
         "type": "scatter",
         "x": [
          -0.4559525216834538
         ],
         "y": [
          102482
         ]
        },
        {
         "mode": "text",
         "text": [
          "143268"
         ],
         "type": "scatter",
         "x": [
          -0.4082648653907196
         ],
         "y": [
          143268
         ]
        },
        {
         "mode": "text",
         "text": [
          "175806"
         ],
         "type": "scatter",
         "x": [
          -0.3605772090979854
         ],
         "y": [
          175806
         ]
        },
        {
         "mode": "text",
         "text": [
          "221332"
         ],
         "type": "scatter",
         "x": [
          -0.31288955280525127
         ],
         "y": [
          221332
         ]
        },
        {
         "mode": "text",
         "text": [
          "294057"
         ],
         "type": "scatter",
         "x": [
          -0.26520189651251713
         ],
         "y": [
          294057
         ]
        },
        {
         "mode": "text",
         "text": [
          "380210"
         ],
         "type": "scatter",
         "x": [
          -0.21751424021978294
         ],
         "y": [
          380210
         ]
        },
        {
         "mode": "text",
         "text": [
          "501881"
         ],
         "type": "scatter",
         "x": [
          -0.16982658392704875
         ],
         "y": [
          501881
         ]
        },
        {
         "mode": "text",
         "text": [
          "627117"
         ],
         "type": "scatter",
         "x": [
          -0.12213892763431455
         ],
         "y": [
          627117
         ]
        },
        {
         "mode": "text",
         "text": [
          "732524"
         ],
         "type": "scatter",
         "x": [
          -0.07445127134158042
         ],
         "y": [
          732524
         ]
        },
        {
         "mode": "text",
         "text": [
          "531582"
         ],
         "type": "scatter",
         "x": [
          -0.02676361504884628
         ],
         "y": [
          531582
         ]
        },
        {
         "mode": "text",
         "text": [
          "529672"
         ],
         "type": "scatter",
         "x": [
          0.020924041243887914
         ],
         "y": [
          529672
         ]
        },
        {
         "mode": "text",
         "text": [
          "715433"
         ],
         "type": "scatter",
         "x": [
          0.06861169753662211
         ],
         "y": [
          715433
         ]
        },
        {
         "mode": "text",
         "text": [
          "450259"
         ],
         "type": "scatter",
         "x": [
          0.1162993538293563
         ],
         "y": [
          450259
         ]
        },
        {
         "mode": "text",
         "text": [
          "281448"
         ],
         "type": "scatter",
         "x": [
          0.1639870101220905
         ],
         "y": [
          281448
         ]
        },
        {
         "mode": "text",
         "text": [
          "213849"
         ],
         "type": "scatter",
         "x": [
          0.21167466641482469
         ],
         "y": [
          213849
         ]
        },
        {
         "mode": "text",
         "text": [
          "142514"
         ],
         "type": "scatter",
         "x": [
          0.2593623227075589
         ],
         "y": [
          142514
         ]
        },
        {
         "mode": "text",
         "text": [
          "111217"
         ],
         "type": "scatter",
         "x": [
          0.30704997900029296
         ],
         "y": [
          111217
         ]
        },
        {
         "mode": "text",
         "text": [
          "91395"
         ],
         "type": "scatter",
         "x": [
          0.35473763529302704
         ],
         "y": [
          91395
         ]
        },
        {
         "mode": "text",
         "text": [
          "69619"
         ],
         "type": "scatter",
         "x": [
          0.40242529158576124
         ],
         "y": [
          69619
         ]
        },
        {
         "mode": "text",
         "text": [
          "49315"
         ],
         "type": "scatter",
         "x": [
          0.45011294787849543
         ],
         "y": [
          49315
         ]
        },
        {
         "mode": "text",
         "text": [
          "35183"
         ],
         "type": "scatter",
         "x": [
          0.4978006041712296
         ],
         "y": [
          35183
         ]
        },
        {
         "mode": "text",
         "text": [
          "20915"
         ],
         "type": "scatter",
         "x": [
          0.5454882604639638
         ],
         "y": [
          20915
         ]
        },
        {
         "mode": "text",
         "text": [
          "12735"
         ],
         "type": "scatter",
         "x": [
          0.593175916756698
         ],
         "y": [
          12735
         ]
        },
        {
         "mode": "text",
         "text": [
          "6499"
         ],
         "type": "scatter",
         "x": [
          0.6408635730494322
         ],
         "y": [
          6499
         ]
        },
        {
         "mode": "text",
         "text": [
          "3585"
         ],
         "type": "scatter",
         "x": [
          0.6885512293421664
         ],
         "y": [
          3585
         ]
        },
        {
         "mode": "text",
         "text": [
          "1391"
         ],
         "type": "scatter",
         "x": [
          0.7362388856349006
         ],
         "y": [
          1391
         ]
        },
        {
         "mode": "text",
         "text": [
          "1163"
         ],
         "type": "scatter",
         "x": [
          0.7839265419276348
         ],
         "y": [
          1163
         ]
        },
        {
         "mode": "text",
         "text": [
          "877"
         ],
         "type": "scatter",
         "x": [
          0.8316141982203689
         ],
         "y": [
          877
         ]
        },
        {
         "mode": "text",
         "text": [
          "202"
         ],
         "type": "scatter",
         "x": [
          0.8793018545131029
         ],
         "y": [
          202
         ]
        },
        {
         "mode": "text",
         "text": [
          "40"
         ],
         "type": "scatter",
         "x": [
          0.926989510805837
         ],
         "y": [
          40
         ]
        }
       ],
       "layout": {
        "autosize": true,
        "template": {
         "data": {
          "bar": [
           {
            "error_x": {
             "color": "#2a3f5f"
            },
            "error_y": {
             "color": "#2a3f5f"
            },
            "marker": {
             "line": {
              "color": "#E5ECF6",
              "width": 0.5
             },
             "pattern": {
              "fillmode": "overlay",
              "size": 10,
              "solidity": 0.2
             }
            },
            "type": "bar"
           }
          ],
          "barpolar": [
           {
            "marker": {
             "line": {
              "color": "#E5ECF6",
              "width": 0.5
             },
             "pattern": {
              "fillmode": "overlay",
              "size": 10,
              "solidity": 0.2
             }
            },
            "type": "barpolar"
           }
          ],
          "carpet": [
           {
            "aaxis": {
             "endlinecolor": "#2a3f5f",
             "gridcolor": "white",
             "linecolor": "white",
             "minorgridcolor": "white",
             "startlinecolor": "#2a3f5f"
            },
            "baxis": {
             "endlinecolor": "#2a3f5f",
             "gridcolor": "white",
             "linecolor": "white",
             "minorgridcolor": "white",
             "startlinecolor": "#2a3f5f"
            },
            "type": "carpet"
           }
          ],
          "choropleth": [
           {
            "colorbar": {
             "outlinewidth": 0,
             "ticks": ""
            },
            "type": "choropleth"
           }
          ],
          "contour": [
           {
            "colorbar": {
             "outlinewidth": 0,
             "ticks": ""
            },
            "colorscale": [
             [
              0,
              "#0d0887"
             ],
             [
              0.1111111111111111,
              "#46039f"
             ],
             [
              0.2222222222222222,
              "#7201a8"
             ],
             [
              0.3333333333333333,
              "#9c179e"
             ],
             [
              0.4444444444444444,
              "#bd3786"
             ],
             [
              0.5555555555555556,
              "#d8576b"
             ],
             [
              0.6666666666666666,
              "#ed7953"
             ],
             [
              0.7777777777777778,
              "#fb9f3a"
             ],
             [
              0.8888888888888888,
              "#fdca26"
             ],
             [
              1,
              "#f0f921"
             ]
            ],
            "type": "contour"
           }
          ],
          "contourcarpet": [
           {
            "colorbar": {
             "outlinewidth": 0,
             "ticks": ""
            },
            "type": "contourcarpet"
           }
          ],
          "heatmap": [
           {
            "colorbar": {
             "outlinewidth": 0,
             "ticks": ""
            },
            "colorscale": [
             [
              0,
              "#0d0887"
             ],
             [
              0.1111111111111111,
              "#46039f"
             ],
             [
              0.2222222222222222,
              "#7201a8"
             ],
             [
              0.3333333333333333,
              "#9c179e"
             ],
             [
              0.4444444444444444,
              "#bd3786"
             ],
             [
              0.5555555555555556,
              "#d8576b"
             ],
             [
              0.6666666666666666,
              "#ed7953"
             ],
             [
              0.7777777777777778,
              "#fb9f3a"
             ],
             [
              0.8888888888888888,
              "#fdca26"
             ],
             [
              1,
              "#f0f921"
             ]
            ],
            "type": "heatmap"
           }
          ],
          "heatmapgl": [
           {
            "colorbar": {
             "outlinewidth": 0,
             "ticks": ""
            },
            "colorscale": [
             [
              0,
              "#0d0887"
             ],
             [
              0.1111111111111111,
              "#46039f"
             ],
             [
              0.2222222222222222,
              "#7201a8"
             ],
             [
              0.3333333333333333,
              "#9c179e"
             ],
             [
              0.4444444444444444,
              "#bd3786"
             ],
             [
              0.5555555555555556,
              "#d8576b"
             ],
             [
              0.6666666666666666,
              "#ed7953"
             ],
             [
              0.7777777777777778,
              "#fb9f3a"
             ],
             [
              0.8888888888888888,
              "#fdca26"
             ],
             [
              1,
              "#f0f921"
             ]
            ],
            "type": "heatmapgl"
           }
          ],
          "histogram": [
           {
            "marker": {
             "pattern": {
              "fillmode": "overlay",
              "size": 10,
              "solidity": 0.2
             }
            },
            "type": "histogram"
           }
          ],
          "histogram2d": [
           {
            "colorbar": {
             "outlinewidth": 0,
             "ticks": ""
            },
            "colorscale": [
             [
              0,
              "#0d0887"
             ],
             [
              0.1111111111111111,
              "#46039f"
             ],
             [
              0.2222222222222222,
              "#7201a8"
             ],
             [
              0.3333333333333333,
              "#9c179e"
             ],
             [
              0.4444444444444444,
              "#bd3786"
             ],
             [
              0.5555555555555556,
              "#d8576b"
             ],
             [
              0.6666666666666666,
              "#ed7953"
             ],
             [
              0.7777777777777778,
              "#fb9f3a"
             ],
             [
              0.8888888888888888,
              "#fdca26"
             ],
             [
              1,
              "#f0f921"
             ]
            ],
            "type": "histogram2d"
           }
          ],
          "histogram2dcontour": [
           {
            "colorbar": {
             "outlinewidth": 0,
             "ticks": ""
            },
            "colorscale": [
             [
              0,
              "#0d0887"
             ],
             [
              0.1111111111111111,
              "#46039f"
             ],
             [
              0.2222222222222222,
              "#7201a8"
             ],
             [
              0.3333333333333333,
              "#9c179e"
             ],
             [
              0.4444444444444444,
              "#bd3786"
             ],
             [
              0.5555555555555556,
              "#d8576b"
             ],
             [
              0.6666666666666666,
              "#ed7953"
             ],
             [
              0.7777777777777778,
              "#fb9f3a"
             ],
             [
              0.8888888888888888,
              "#fdca26"
             ],
             [
              1,
              "#f0f921"
             ]
            ],
            "type": "histogram2dcontour"
           }
          ],
          "mesh3d": [
           {
            "colorbar": {
             "outlinewidth": 0,
             "ticks": ""
            },
            "type": "mesh3d"
           }
          ],
          "parcoords": [
           {
            "line": {
             "colorbar": {
              "outlinewidth": 0,
              "ticks": ""
             }
            },
            "type": "parcoords"
           }
          ],
          "pie": [
           {
            "automargin": true,
            "type": "pie"
           }
          ],
          "scatter": [
           {
            "fillpattern": {
             "fillmode": "overlay",
             "size": 10,
             "solidity": 0.2
            },
            "type": "scatter"
           }
          ],
          "scatter3d": [
           {
            "line": {
             "colorbar": {
              "outlinewidth": 0,
              "ticks": ""
             }
            },
            "marker": {
             "colorbar": {
              "outlinewidth": 0,
              "ticks": ""
             }
            },
            "type": "scatter3d"
           }
          ],
          "scattercarpet": [
           {
            "marker": {
             "colorbar": {
              "outlinewidth": 0,
              "ticks": ""
             }
            },
            "type": "scattercarpet"
           }
          ],
          "scattergeo": [
           {
            "marker": {
             "colorbar": {
              "outlinewidth": 0,
              "ticks": ""
             }
            },
            "type": "scattergeo"
           }
          ],
          "scattergl": [
           {
            "marker": {
             "colorbar": {
              "outlinewidth": 0,
              "ticks": ""
             }
            },
            "type": "scattergl"
           }
          ],
          "scattermapbox": [
           {
            "marker": {
             "colorbar": {
              "outlinewidth": 0,
              "ticks": ""
             }
            },
            "type": "scattermapbox"
           }
          ],
          "scatterpolar": [
           {
            "marker": {
             "colorbar": {
              "outlinewidth": 0,
              "ticks": ""
             }
            },
            "type": "scatterpolar"
           }
          ],
          "scatterpolargl": [
           {
            "marker": {
             "colorbar": {
              "outlinewidth": 0,
              "ticks": ""
             }
            },
            "type": "scatterpolargl"
           }
          ],
          "scatterternary": [
           {
            "marker": {
             "colorbar": {
              "outlinewidth": 0,
              "ticks": ""
             }
            },
            "type": "scatterternary"
           }
          ],
          "surface": [
           {
            "colorbar": {
             "outlinewidth": 0,
             "ticks": ""
            },
            "colorscale": [
             [
              0,
              "#0d0887"
             ],
             [
              0.1111111111111111,
              "#46039f"
             ],
             [
              0.2222222222222222,
              "#7201a8"
             ],
             [
              0.3333333333333333,
              "#9c179e"
             ],
             [
              0.4444444444444444,
              "#bd3786"
             ],
             [
              0.5555555555555556,
              "#d8576b"
             ],
             [
              0.6666666666666666,
              "#ed7953"
             ],
             [
              0.7777777777777778,
              "#fb9f3a"
             ],
             [
              0.8888888888888888,
              "#fdca26"
             ],
             [
              1,
              "#f0f921"
             ]
            ],
            "type": "surface"
           }
          ],
          "table": [
           {
            "cells": {
             "fill": {
              "color": "#EBF0F8"
             },
             "line": {
              "color": "white"
             }
            },
            "header": {
             "fill": {
              "color": "#C8D4E3"
             },
             "line": {
              "color": "white"
             }
            },
            "type": "table"
           }
          ]
         },
         "layout": {
          "annotationdefaults": {
           "arrowcolor": "#2a3f5f",
           "arrowhead": 0,
           "arrowwidth": 1
          },
          "autotypenumbers": "strict",
          "coloraxis": {
           "colorbar": {
            "outlinewidth": 0,
            "ticks": ""
           }
          },
          "colorscale": {
           "diverging": [
            [
             0,
             "#8e0152"
            ],
            [
             0.1,
             "#c51b7d"
            ],
            [
             0.2,
             "#de77ae"
            ],
            [
             0.3,
             "#f1b6da"
            ],
            [
             0.4,
             "#fde0ef"
            ],
            [
             0.5,
             "#f7f7f7"
            ],
            [
             0.6,
             "#e6f5d0"
            ],
            [
             0.7,
             "#b8e186"
            ],
            [
             0.8,
             "#7fbc41"
            ],
            [
             0.9,
             "#4d9221"
            ],
            [
             1,
             "#276419"
            ]
           ],
           "sequential": [
            [
             0,
             "#0d0887"
            ],
            [
             0.1111111111111111,
             "#46039f"
            ],
            [
             0.2222222222222222,
             "#7201a8"
            ],
            [
             0.3333333333333333,
             "#9c179e"
            ],
            [
             0.4444444444444444,
             "#bd3786"
            ],
            [
             0.5555555555555556,
             "#d8576b"
            ],
            [
             0.6666666666666666,
             "#ed7953"
            ],
            [
             0.7777777777777778,
             "#fb9f3a"
            ],
            [
             0.8888888888888888,
             "#fdca26"
            ],
            [
             1,
             "#f0f921"
            ]
           ],
           "sequentialminus": [
            [
             0,
             "#0d0887"
            ],
            [
             0.1111111111111111,
             "#46039f"
            ],
            [
             0.2222222222222222,
             "#7201a8"
            ],
            [
             0.3333333333333333,
             "#9c179e"
            ],
            [
             0.4444444444444444,
             "#bd3786"
            ],
            [
             0.5555555555555556,
             "#d8576b"
            ],
            [
             0.6666666666666666,
             "#ed7953"
            ],
            [
             0.7777777777777778,
             "#fb9f3a"
            ],
            [
             0.8888888888888888,
             "#fdca26"
            ],
            [
             1,
             "#f0f921"
            ]
           ]
          },
          "colorway": [
           "#636efa",
           "#EF553B",
           "#00cc96",
           "#ab63fa",
           "#FFA15A",
           "#19d3f3",
           "#FF6692",
           "#B6E880",
           "#FF97FF",
           "#FECB52"
          ],
          "font": {
           "color": "#2a3f5f"
          },
          "geo": {
           "bgcolor": "white",
           "lakecolor": "white",
           "landcolor": "#E5ECF6",
           "showlakes": true,
           "showland": true,
           "subunitcolor": "white"
          },
          "hoverlabel": {
           "align": "left"
          },
          "hovermode": "closest",
          "mapbox": {
           "style": "light"
          },
          "paper_bgcolor": "white",
          "plot_bgcolor": "#E5ECF6",
          "polar": {
           "angularaxis": {
            "gridcolor": "white",
            "linecolor": "white",
            "ticks": ""
           },
           "bgcolor": "#E5ECF6",
           "radialaxis": {
            "gridcolor": "white",
            "linecolor": "white",
            "ticks": ""
           }
          },
          "scene": {
           "xaxis": {
            "backgroundcolor": "#E5ECF6",
            "gridcolor": "white",
            "gridwidth": 2,
            "linecolor": "white",
            "showbackground": true,
            "ticks": "",
            "zerolinecolor": "white"
           },
           "yaxis": {
            "backgroundcolor": "#E5ECF6",
            "gridcolor": "white",
            "gridwidth": 2,
            "linecolor": "white",
            "showbackground": true,
            "ticks": "",
            "zerolinecolor": "white"
           },
           "zaxis": {
            "backgroundcolor": "#E5ECF6",
            "gridcolor": "white",
            "gridwidth": 2,
            "linecolor": "white",
            "showbackground": true,
            "ticks": "",
            "zerolinecolor": "white"
           }
          },
          "shapedefaults": {
           "line": {
            "color": "#2a3f5f"
           }
          },
          "ternary": {
           "aaxis": {
            "gridcolor": "white",
            "linecolor": "white",
            "ticks": ""
           },
           "baxis": {
            "gridcolor": "white",
            "linecolor": "white",
            "ticks": ""
           },
           "bgcolor": "#E5ECF6",
           "caxis": {
            "gridcolor": "white",
            "linecolor": "white",
            "ticks": ""
           }
          },
          "title": {
           "x": 0.05
          },
          "xaxis": {
           "automargin": true,
           "gridcolor": "white",
           "linecolor": "white",
           "ticks": "",
           "title": {
            "standoff": 15
           },
           "zerolinecolor": "white",
           "zerolinewidth": 2
          },
          "yaxis": {
           "automargin": true,
           "gridcolor": "white",
           "linecolor": "white",
           "ticks": "",
           "title": {
            "standoff": 15
           },
           "zerolinecolor": "white",
           "zerolinewidth": 2
          }
         }
        },
        "xaxis": {
         "autorange": true,
         "range": [
          -1.0361523399117196,
          1.030312766106761
         ],
         "type": "linear"
        },
        "yaxis": {
         "autorange": true,
         "range": [
          -40653.555555555555,
          773217.5555555555
         ],
         "type": "linear"
        }
       }
      },
      "image/png": "[encoded data removed]",
      "text/html": [
       "<div>                            <div id=\"e4130e07-1c98-4003-8837-52b8ef0b807a\" class=\"plotly-graph-div\" style=\"height:525px; width:100%;\"></div>            <script type=\"text/javascript\">                require([\"plotly\"], function(Plotly) {                    window.PLOTLYENV=window.PLOTLYENV || {};                                    if (document.getElementById(\"e4130e07-1c98-4003-8837-52b8ef0b807a\")) {                    Plotly.newPlot(                        \"e4130e07-1c98-4003-8837-52b8ef0b807a\",                        [{\"name\":\"Histogram\",\"width\":[0.04768765629273419,0.04768765629273419,0.04768765629273408,0.04768765629273419,0.04768765629273419,0.04768765629273419,0.04768765629273419,0.04768765629273419,0.04768765629273419,0.04768765629273408,0.04768765629273419,0.04768765629273419,0.04768765629273419,0.04768765629273408,0.04768765629273419,0.04768765629273419,0.04768765629273419,0.04768765629273419,0.04768765629273408,0.04768765629273419,0.04768765629273419,0.04768765629273419,0.04768765629273419,0.04768765629273419,0.04768765629273419,0.04768765629273419,0.04768765629273397,0.04768765629273419,0.04768765629273419,0.04768765629273419,0.04768765629273419,0.04768765629273419,0.04768765629273419,0.04768765629273419,0.04768765629273419,0.04768765629273419,0.04768765629273419,0.04768765629273397,0.04768765629273419,0.04768765629273408],\"x\":[-0.9328290846107955,-0.8851414283180613,-0.8374537720253272,-0.789766115732593,-0.7420784594398588,-0.6943908031471246,-0.6467031468543905,-0.5990154905616563,-0.5513278342689221,-0.5036401779761879,-0.4559525216834538,-0.4082648653907196,-0.3605772090979854,-0.31288955280525127,-0.26520189651251713,-0.21751424021978294,-0.16982658392704875,-0.12213892763431455,-0.07445127134158042,-0.02676361504884628,0.020924041243887914,0.06861169753662211,0.1162993538293563,0.1639870101220905,0.21167466641482469,0.2593623227075589,0.30704997900029296,0.35473763529302704,0.40242529158576124,0.45011294787849543,0.4978006041712296,0.5454882604639638,0.593175916756698,0.6408635730494322,0.6885512293421664,0.7362388856349006,0.7839265419276348,0.8316141982203689,0.8793018545131029,0.926989510805837],\"y\":[91,183,633,1846,3430,8610,12425,23954,40623,69212,102482,143268,175806,221332,294057,380210,501881,627117,732524,531582,529672,715433,450259,281448,213849,142514,111217,91395,69619,49315,35183,20915,12735,6499,3585,1391,1163,877,202,40],\"type\":\"bar\"},{\"mode\":\"text\",\"text\":[\"91\"],\"x\":[-0.9328290846107955],\"y\":[91],\"type\":\"scatter\"},{\"mode\":\"text\",\"text\":[\"183\"],\"x\":[-0.8851414283180613],\"y\":[183],\"type\":\"scatter\"},{\"mode\":\"text\",\"text\":[\"633\"],\"x\":[-0.8374537720253272],\"y\":[633],\"type\":\"scatter\"},{\"mode\":\"text\",\"text\":[\"1846\"],\"x\":[-0.789766115732593],\"y\":[1846],\"type\":\"scatter\"},{\"mode\":\"text\",\"text\":[\"3430\"],\"x\":[-0.7420784594398588],\"y\":[3430],\"type\":\"scatter\"},{\"mode\":\"text\",\"text\":[\"8610\"],\"x\":[-0.6943908031471246],\"y\":[8610],\"type\":\"scatter\"},{\"mode\":\"text\",\"text\":[\"12425\"],\"x\":[-0.6467031468543905],\"y\":[12425],\"type\":\"scatter\"},{\"mode\":\"text\",\"text\":[\"23954\"],\"x\":[-0.5990154905616563],\"y\":[23954],\"type\":\"scatter\"},{\"mode\":\"text\",\"text\":[\"40623\"],\"x\":[-0.5513278342689221],\"y\":[40623],\"type\":\"scatter\"},{\"mode\":\"text\",\"text\":[\"69212\"],\"x\":[-0.5036401779761879],\"y\":[69212],\"type\":\"scatter\"},{\"mode\":\"text\",\"text\":[\"102482\"],\"x\":[-0.4559525216834538],\"y\":[102482],\"type\":\"scatter\"},{\"mode\":\"text\",\"text\":[\"143268\"],\"x\":[-0.4082648653907196],\"y\":[143268],\"type\":\"scatter\"},{\"mode\":\"text\",\"text\":[\"175806\"],\"x\":[-0.3605772090979854],\"y\":[175806],\"type\":\"scatter\"},{\"mode\":\"text\",\"text\":[\"221332\"],\"x\":[-0.31288955280525127],\"y\":[221332],\"type\":\"scatter\"},{\"mode\":\"text\",\"text\":[\"294057\"],\"x\":[-0.26520189651251713],\"y\":[294057],\"type\":\"scatter\"},{\"mode\":\"text\",\"text\":[\"380210\"],\"x\":[-0.21751424021978294],\"y\":[380210],\"type\":\"scatter\"},{\"mode\":\"text\",\"text\":[\"501881\"],\"x\":[-0.16982658392704875],\"y\":[501881],\"type\":\"scatter\"},{\"mode\":\"text\",\"text\":[\"627117\"],\"x\":[-0.12213892763431455],\"y\":[627117],\"type\":\"scatter\"},{\"mode\":\"text\",\"text\":[\"732524\"],\"x\":[-0.07445127134158042],\"y\":[732524],\"type\":\"scatter\"},{\"mode\":\"text\",\"text\":[\"531582\"],\"x\":[-0.02676361504884628],\"y\":[531582],\"type\":\"scatter\"},{\"mode\":\"text\",\"text\":[\"529672\"],\"x\":[0.020924041243887914],\"y\":[529672],\"type\":\"scatter\"},{\"mode\":\"text\",\"text\":[\"715433\"],\"x\":[0.06861169753662211],\"y\":[715433],\"type\":\"scatter\"},{\"mode\":\"text\",\"text\":[\"450259\"],\"x\":[0.1162993538293563],\"y\":[450259],\"type\":\"scatter\"},{\"mode\":\"text\",\"text\":[\"281448\"],\"x\":[0.1639870101220905],\"y\":[281448],\"type\":\"scatter\"},{\"mode\":\"text\",\"text\":[\"213849\"],\"x\":[0.21167466641482469],\"y\":[213849],\"type\":\"scatter\"},{\"mode\":\"text\",\"text\":[\"142514\"],\"x\":[0.2593623227075589],\"y\":[142514],\"type\":\"scatter\"},{\"mode\":\"text\",\"text\":[\"111217\"],\"x\":[0.30704997900029296],\"y\":[111217],\"type\":\"scatter\"},{\"mode\":\"text\",\"text\":[\"91395\"],\"x\":[0.35473763529302704],\"y\":[91395],\"type\":\"scatter\"},{\"mode\":\"text\",\"text\":[\"69619\"],\"x\":[0.40242529158576124],\"y\":[69619],\"type\":\"scatter\"},{\"mode\":\"text\",\"text\":[\"49315\"],\"x\":[0.45011294787849543],\"y\":[49315],\"type\":\"scatter\"},{\"mode\":\"text\",\"text\":[\"35183\"],\"x\":[0.4978006041712296],\"y\":[35183],\"type\":\"scatter\"},{\"mode\":\"text\",\"text\":[\"20915\"],\"x\":[0.5454882604639638],\"y\":[20915],\"type\":\"scatter\"},{\"mode\":\"text\",\"text\":[\"12735\"],\"x\":[0.593175916756698],\"y\":[12735],\"type\":\"scatter\"},{\"mode\":\"text\",\"text\":[\"6499\"],\"x\":[0.6408635730494322],\"y\":[6499],\"type\":\"scatter\"},{\"mode\":\"text\",\"text\":[\"3585\"],\"x\":[0.6885512293421664],\"y\":[3585],\"type\":\"scatter\"},{\"mode\":\"text\",\"text\":[\"1391\"],\"x\":[0.7362388856349006],\"y\":[1391],\"type\":\"scatter\"},{\"mode\":\"text\",\"text\":[\"1163\"],\"x\":[0.7839265419276348],\"y\":[1163],\"type\":\"scatter\"},{\"mode\":\"text\",\"text\":[\"877\"],\"x\":[0.8316141982203689],\"y\":[877],\"type\":\"scatter\"},{\"mode\":\"text\",\"text\":[\"202\"],\"x\":[0.8793018545131029],\"y\":[202],\"type\":\"scatter\"},{\"mode\":\"text\",\"text\":[\"40\"],\"x\":[0.926989510805837],\"y\":[40],\"type\":\"scatter\"}],                        {\"template\":{\"data\":{\"histogram2dcontour\":[{\"type\":\"histogram2dcontour\",\"colorbar\":{\"outlinewidth\":0,\"ticks\":\"\"},\"colorscale\":[[0.0,\"#0d0887\"],[0.1111111111111111,\"#46039f\"],[0.2222222222222222,\"#7201a8\"],[0.3333333333333333,\"#9c179e\"],[0.4444444444444444,\"#bd3786\"],[0.5555555555555556,\"#d8576b\"],[0.6666666666666666,\"#ed7953\"],[0.7777777777777778,\"#fb9f3a\"],[0.8888888888888888,\"#fdca26\"],[1.0,\"#f0f921\"]]}],\"choropleth\":[{\"type\":\"choropleth\",\"colorbar\":{\"outlinewidth\":0,\"ticks\":\"\"}}],\"histogram2d\":[{\"type\":\"histogram2d\",\"colorbar\":{\"outlinewidth\":0,\"ticks\":\"\"},\"colorscale\":[[0.0,\"#0d0887\"],[0.1111111111111111,\"#46039f\"],[0.2222222222222222,\"#7201a8\"],[0.3333333333333333,\"#9c179e\"],[0.4444444444444444,\"#bd3786\"],[0.5555555555555556,\"#d8576b\"],[0.6666666666666666,\"#ed7953\"],[0.7777777777777778,\"#fb9f3a\"],[0.8888888888888888,\"#fdca26\"],[1.0,\"#f0f921\"]]}],\"heatmap\":[{\"type\":\"heatmap\",\"colorbar\":{\"outlinewidth\":0,\"ticks\":\"\"},\"colorscale\":[[0.0,\"#0d0887\"],[0.1111111111111111,\"#46039f\"],[0.2222222222222222,\"#7201a8\"],[0.3333333333333333,\"#9c179e\"],[0.4444444444444444,\"#bd3786\"],[0.5555555555555556,\"#d8576b\"],[0.6666666666666666,\"#ed7953\"],[0.7777777777777778,\"#fb9f3a\"],[0.8888888888888888,\"#fdca26\"],[1.0,\"#f0f921\"]]}],\"heatmapgl\":[{\"type\":\"heatmapgl\",\"colorbar\":{\"outlinewidth\":0,\"ticks\":\"\"},\"colorscale\":[[0.0,\"#0d0887\"],[0.1111111111111111,\"#46039f\"],[0.2222222222222222,\"#7201a8\"],[0.3333333333333333,\"#9c179e\"],[0.4444444444444444,\"#bd3786\"],[0.5555555555555556,\"#d8576b\"],[0.6666666666666666,\"#ed7953\"],[0.7777777777777778,\"#fb9f3a\"],[0.8888888888888888,\"#fdca26\"],[1.0,\"#f0f921\"]]}],\"contourcarpet\":[{\"type\":\"contourcarpet\",\"colorbar\":{\"outlinewidth\":0,\"ticks\":\"\"}}],\"contour\":[{\"type\":\"contour\",\"colorbar\":{\"outlinewidth\":0,\"ticks\":\"\"},\"colorscale\":[[0.0,\"#0d0887\"],[0.1111111111111111,\"#46039f\"],[0.2222222222222222,\"#7201a8\"],[0.3333333333333333,\"#9c179e\"],[0.4444444444444444,\"#bd3786\"],[0.5555555555555556,\"#d8576b\"],[0.6666666666666666,\"#ed7953\"],[0.7777777777777778,\"#fb9f3a\"],[0.8888888888888888,\"#fdca26\"],[1.0,\"#f0f921\"]]}],\"surface\":[{\"type\":\"surface\",\"colorbar\":{\"outlinewidth\":0,\"ticks\":\"\"},\"colorscale\":[[0.0,\"#0d0887\"],[0.1111111111111111,\"#46039f\"],[0.2222222222222222,\"#7201a8\"],[0.3333333333333333,\"#9c179e\"],[0.4444444444444444,\"#bd3786\"],[0.5555555555555556,\"#d8576b\"],[0.6666666666666666,\"#ed7953\"],[0.7777777777777778,\"#fb9f3a\"],[0.8888888888888888,\"#fdca26\"],[1.0,\"#f0f921\"]]}],\"mesh3d\":[{\"type\":\"mesh3d\",\"colorbar\":{\"outlinewidth\":0,\"ticks\":\"\"}}],\"scatter\":[{\"fillpattern\":{\"fillmode\":\"overlay\",\"size\":10,\"solidity\":0.2},\"type\":\"scatter\"}],\"parcoords\":[{\"type\":\"parcoords\",\"line\":{\"colorbar\":{\"outlinewidth\":0,\"ticks\":\"\"}}}],\"scatterpolargl\":[{\"type\":\"scatterpolargl\",\"marker\":{\"colorbar\":{\"outlinewidth\":0,\"ticks\":\"\"}}}],\"bar\":[{\"error_x\":{\"color\":\"#2a3f5f\"},\"error_y\":{\"color\":\"#2a3f5f\"},\"marker\":{\"line\":{\"color\":\"#E5ECF6\",\"width\":0.5},\"pattern\":{\"fillmode\":\"overlay\",\"size\":10,\"solidity\":0.2}},\"type\":\"bar\"}],\"scattergeo\":[{\"type\":\"scattergeo\",\"marker\":{\"colorbar\":{\"outlinewidth\":0,\"ticks\":\"\"}}}],\"scatterpolar\":[{\"type\":\"scatterpolar\",\"marker\":{\"colorbar\":{\"outlinewidth\":0,\"ticks\":\"\"}}}],\"histogram\":[{\"marker\":{\"pattern\":{\"fillmode\":\"overlay\",\"size\":10,\"solidity\":0.2}},\"type\":\"histogram\"}],\"scattergl\":[{\"type\":\"scattergl\",\"marker\":{\"colorbar\":{\"outlinewidth\":0,\"ticks\":\"\"}}}],\"scatter3d\":[{\"type\":\"scatter3d\",\"line\":{\"colorbar\":{\"outlinewidth\":0,\"ticks\":\"\"}},\"marker\":{\"colorbar\":{\"outlinewidth\":0,\"ticks\":\"\"}}}],\"scattermapbox\":[{\"type\":\"scattermapbox\",\"marker\":{\"colorbar\":{\"outlinewidth\":0,\"ticks\":\"\"}}}],\"scatterternary\":[{\"type\":\"scatterternary\",\"marker\":{\"colorbar\":{\"outlinewidth\":0,\"ticks\":\"\"}}}],\"scattercarpet\":[{\"type\":\"scattercarpet\",\"marker\":{\"colorbar\":{\"outlinewidth\":0,\"ticks\":\"\"}}}],\"carpet\":[{\"aaxis\":{\"endlinecolor\":\"#2a3f5f\",\"gridcolor\":\"white\",\"linecolor\":\"white\",\"minorgridcolor\":\"white\",\"startlinecolor\":\"#2a3f5f\"},\"baxis\":{\"endlinecolor\":\"#2a3f5f\",\"gridcolor\":\"white\",\"linecolor\":\"white\",\"minorgridcolor\":\"white\",\"startlinecolor\":\"#2a3f5f\"},\"type\":\"carpet\"}],\"table\":[{\"cells\":{\"fill\":{\"color\":\"#EBF0F8\"},\"line\":{\"color\":\"white\"}},\"header\":{\"fill\":{\"color\":\"#C8D4E3\"},\"line\":{\"color\":\"white\"}},\"type\":\"table\"}],\"barpolar\":[{\"marker\":{\"line\":{\"color\":\"#E5ECF6\",\"width\":0.5},\"pattern\":{\"fillmode\":\"overlay\",\"size\":10,\"solidity\":0.2}},\"type\":\"barpolar\"}],\"pie\":[{\"automargin\":true,\"type\":\"pie\"}]},\"layout\":{\"autotypenumbers\":\"strict\",\"colorway\":[\"#636efa\",\"#EF553B\",\"#00cc96\",\"#ab63fa\",\"#FFA15A\",\"#19d3f3\",\"#FF6692\",\"#B6E880\",\"#FF97FF\",\"#FECB52\"],\"font\":{\"color\":\"#2a3f5f\"},\"hovermode\":\"closest\",\"hoverlabel\":{\"align\":\"left\"},\"paper_bgcolor\":\"white\",\"plot_bgcolor\":\"#E5ECF6\",\"polar\":{\"bgcolor\":\"#E5ECF6\",\"angularaxis\":{\"gridcolor\":\"white\",\"linecolor\":\"white\",\"ticks\":\"\"},\"radialaxis\":{\"gridcolor\":\"white\",\"linecolor\":\"white\",\"ticks\":\"\"}},\"ternary\":{\"bgcolor\":\"#E5ECF6\",\"aaxis\":{\"gridcolor\":\"white\",\"linecolor\":\"white\",\"ticks\":\"\"},\"baxis\":{\"gridcolor\":\"white\",\"linecolor\":\"white\",\"ticks\":\"\"},\"caxis\":{\"gridcolor\":\"white\",\"linecolor\":\"white\",\"ticks\":\"\"}},\"coloraxis\":{\"colorbar\":{\"outlinewidth\":0,\"ticks\":\"\"}},\"colorscale\":{\"sequential\":[[0.0,\"#0d0887\"],[0.1111111111111111,\"#46039f\"],[0.2222222222222222,\"#7201a8\"],[0.3333333333333333,\"#9c179e\"],[0.4444444444444444,\"#bd3786\"],[0.5555555555555556,\"#d8576b\"],[0.6666666666666666,\"#ed7953\"],[0.7777777777777778,\"#fb9f3a\"],[0.8888888888888888,\"#fdca26\"],[1.0,\"#f0f921\"]],\"sequentialminus\":[[0.0,\"#0d0887\"],[0.1111111111111111,\"#46039f\"],[0.2222222222222222,\"#7201a8\"],[0.3333333333333333,\"#9c179e\"],[0.4444444444444444,\"#bd3786\"],[0.5555555555555556,\"#d8576b\"],[0.6666666666666666,\"#ed7953\"],[0.7777777777777778,\"#fb9f3a\"],[0.8888888888888888,\"#fdca26\"],[1.0,\"#f0f921\"]],\"diverging\":[[0,\"#8e0152\"],[0.1,\"#c51b7d\"],[0.2,\"#de77ae\"],[0.3,\"#f1b6da\"],[0.4,\"#fde0ef\"],[0.5,\"#f7f7f7\"],[0.6,\"#e6f5d0\"],[0.7,\"#b8e186\"],[0.8,\"#7fbc41\"],[0.9,\"#4d9221\"],[1,\"#276419\"]]},\"xaxis\":{\"gridcolor\":\"white\",\"linecolor\":\"white\",\"ticks\":\"\",\"title\":{\"standoff\":15},\"zerolinecolor\":\"white\",\"automargin\":true,\"zerolinewidth\":2},\"yaxis\":{\"gridcolor\":\"white\",\"linecolor\":\"white\",\"ticks\":\"\",\"title\":{\"standoff\":15},\"zerolinecolor\":\"white\",\"automargin\":true,\"zerolinewidth\":2},\"scene\":{\"xaxis\":{\"backgroundcolor\":\"#E5ECF6\",\"gridcolor\":\"white\",\"linecolor\":\"white\",\"showbackground\":true,\"ticks\":\"\",\"zerolinecolor\":\"white\",\"gridwidth\":2},\"yaxis\":{\"backgroundcolor\":\"#E5ECF6\",\"gridcolor\":\"white\",\"linecolor\":\"white\",\"showbackground\":true,\"ticks\":\"\",\"zerolinecolor\":\"white\",\"gridwidth\":2},\"zaxis\":{\"backgroundcolor\":\"#E5ECF6\",\"gridcolor\":\"white\",\"linecolor\":\"white\",\"showbackground\":true,\"ticks\":\"\",\"zerolinecolor\":\"white\",\"gridwidth\":2}},\"shapedefaults\":{\"line\":{\"color\":\"#2a3f5f\"}},\"annotationdefaults\":{\"arrowcolor\":\"#2a3f5f\",\"arrowhead\":0,\"arrowwidth\":1},\"geo\":{\"bgcolor\":\"white\",\"landcolor\":\"#E5ECF6\",\"subunitcolor\":\"white\",\"showland\":true,\"showlakes\":true,\"lakecolor\":\"white\"},\"title\":{\"x\":0.05},\"mapbox\":{\"style\":\"light\"}}}},                        {\"responsive\": true}                    ).then(function(){\n",
       "                            \n",
       "var gd = document.getElementById('e4130e07-1c98-4003-8837-52b8ef0b807a');\n",
       "var x = new MutationObserver(function (mutations, observer) {{\n",
       "        var display = window.getComputedStyle(gd).display;\n",
       "        if (!display || display === 'none') {{\n",
       "            console.log([gd, 'removed!']);\n",
       "            Plotly.purge(gd);\n",
       "            observer.disconnect();\n",
       "        }}\n",
       "}});\n",
       "\n",
       "// Listen for the removal of the full notebook cells\n",
       "var notebookContainer = gd.closest('#notebook-container');\n",
       "if (notebookContainer) {{\n",
       "    x.observe(notebookContainer, {childList: true});\n",
       "}}\n",
       "\n",
       "// Listen for the clearing of the current output cell\n",
       "var outputEl = gd.closest('.output');\n",
       "if (outputEl) {{\n",
       "    x.observe(outputEl, {childList: true});\n",
       "}}\n",
       "\n",
       "                        })                };                });            </script>        </div>"
      ]
     },
     "metadata": {},
     "output_type": "display_data"
    }
   ],
   "source": [
    "# Plot the figure\n",
    "counts, bins = np.histogram(df_interest['ScoreChange'], bins=40)\n",
    "bin_midpoints = bins[:-1] + np.diff(bins)/2\n",
    "\n",
    "fig = go.Figure()\n",
    "\n",
    "fig.add_trace(go.Bar(\n",
    "    x=bin_midpoints,\n",
    "    y=counts,\n",
    "    width=np.diff(bins), # makes bars have correct widths\n",
    "    name='Histogram'\n",
    "))\n",
    "# add text labels for counts\n",
    "for i in range(len(counts)):\n",
    "    fig.add_trace(go.Scatter(\n",
    "        x=[bin_midpoints[i]],\n",
    "        y=[counts[i]],\n",
    "        text=[str(counts[i])],\n",
    "        mode='text',\n",
    "    ))\n",
    "\n",
    "fig.show()"
   ]
  },
  {
   "cell_type": "code",
   "execution_count": 48,
   "id": "e1134086-606f-419f-9e9c-3a253e4fc50e",
   "metadata": {},
   "outputs": [
    {
     "data": {
      "text/html": [
       "<div>\n",
       "<style scoped>\n",
       "    .dataframe tbody tr th:only-of-type {\n",
       "        vertical-align: middle;\n",
       "    }\n",
       "\n",
       "    .dataframe tbody tr th {\n",
       "        vertical-align: top;\n",
       "    }\n",
       "\n",
       "    .dataframe thead th {\n",
       "        text-align: right;\n",
       "    }\n",
       "</style>\n",
       "<table border=\"1\" class=\"dataframe\">\n",
       "  <thead>\n",
       "    <tr style=\"text-align: right;\">\n",
       "      <th></th>\n",
       "      <th>chr</th>\n",
       "      <th>strand</th>\n",
       "      <th>Donor_coordinates</th>\n",
       "      <th>Ensemble_Transcript_ID</th>\n",
       "      <th>Transcript_coordinates</th>\n",
       "      <th>dbsnp_id</th>\n",
       "      <th>varinat_start</th>\n",
       "      <th>variant_end</th>\n",
       "      <th>ref_neucleotide</th>\n",
       "      <th>alternative_neucleotide</th>\n",
       "      <th>reference_seq</th>\n",
       "      <th>alt_seq</th>\n",
       "      <th>Ref_probab</th>\n",
       "      <th>Alt_probab</th>\n",
       "      <th>ScoreChange</th>\n",
       "      <th>LogOddRatio</th>\n",
       "    </tr>\n",
       "  </thead>\n",
       "  <tbody>\n",
       "    <tr>\n",
       "      <th>801</th>\n",
       "      <td>chr1</td>\n",
       "      <td>+</td>\n",
       "      <td>209583672-209583761</td>\n",
       "      <td>ENST00000009105</td>\n",
       "      <td>209583717-209613938</td>\n",
       "      <td>rs1185466806</td>\n",
       "      <td>209583688</td>\n",
       "      <td>209583689</td>\n",
       "      <td>T</td>\n",
       "      <td>C</td>\n",
       "      <td>CTTTAATTGGGTTTATTGTTAAAGCACTGGAGCAGCTAATCCTCAC...</td>\n",
       "      <td>CTTTAATTGGGTTTATCGTTAAAGCACTGGAGCAGCTAATCCTCAC...</td>\n",
       "      <td>0.875770</td>\n",
       "      <td>0.466460</td>\n",
       "      <td>-0.358461</td>\n",
       "      <td>3.011381</td>\n",
       "    </tr>\n",
       "    <tr>\n",
       "      <th>802</th>\n",
       "      <td>chr1</td>\n",
       "      <td>+</td>\n",
       "      <td>209583672-209583761</td>\n",
       "      <td>ENST00000009105</td>\n",
       "      <td>209583717-209613938</td>\n",
       "      <td>rs1439681836</td>\n",
       "      <td>209583697</td>\n",
       "      <td>209583698</td>\n",
       "      <td>A</td>\n",
       "      <td>G</td>\n",
       "      <td>CTTTAATTGGGTTTATTGTTAAAGCACTGGAGCAGCTAATCCTCAC...</td>\n",
       "      <td>CTTTAATTGGGTTTATTGTTAAAGCGCTGGAGCAGCTAATCCTCAC...</td>\n",
       "      <td>0.875770</td>\n",
       "      <td>0.497734</td>\n",
       "      <td>-0.331072</td>\n",
       "      <td>2.830614</td>\n",
       "    </tr>\n",
       "    <tr>\n",
       "      <th>816</th>\n",
       "      <td>chr1</td>\n",
       "      <td>+</td>\n",
       "      <td>209583672-209583761</td>\n",
       "      <td>ENST00000361322</td>\n",
       "      <td>209583714-209613939</td>\n",
       "      <td>rs1185466806</td>\n",
       "      <td>209583688</td>\n",
       "      <td>209583689</td>\n",
       "      <td>T</td>\n",
       "      <td>C</td>\n",
       "      <td>CTTTAATTGGGTTTATTGTTAAAGCACTGGAGCAGCTAATCCTCAC...</td>\n",
       "      <td>CTTTAATTGGGTTTATCGTTAAAGCACTGGAGCAGCTAATCCTCAC...</td>\n",
       "      <td>0.875770</td>\n",
       "      <td>0.466460</td>\n",
       "      <td>-0.358461</td>\n",
       "      <td>3.011381</td>\n",
       "    </tr>\n",
       "    <tr>\n",
       "      <th>817</th>\n",
       "      <td>chr1</td>\n",
       "      <td>+</td>\n",
       "      <td>209583672-209583761</td>\n",
       "      <td>ENST00000361322</td>\n",
       "      <td>209583714-209613939</td>\n",
       "      <td>rs1439681836</td>\n",
       "      <td>209583697</td>\n",
       "      <td>209583698</td>\n",
       "      <td>A</td>\n",
       "      <td>G</td>\n",
       "      <td>CTTTAATTGGGTTTATTGTTAAAGCACTGGAGCAGCTAATCCTCAC...</td>\n",
       "      <td>CTTTAATTGGGTTTATTGTTAAAGCGCTGGAGCAGCTAATCCTCAC...</td>\n",
       "      <td>0.875770</td>\n",
       "      <td>0.497734</td>\n",
       "      <td>-0.331072</td>\n",
       "      <td>2.830614</td>\n",
       "    </tr>\n",
       "    <tr>\n",
       "      <th>831</th>\n",
       "      <td>chr1</td>\n",
       "      <td>+</td>\n",
       "      <td>209583672-209583761</td>\n",
       "      <td>ENST00000423146</td>\n",
       "      <td>209583729-209609913</td>\n",
       "      <td>rs1185466806</td>\n",
       "      <td>209583688</td>\n",
       "      <td>209583689</td>\n",
       "      <td>T</td>\n",
       "      <td>C</td>\n",
       "      <td>CTTTAATTGGGTTTATTGTTAAAGCACTGGAGCAGCTAATCCTCAC...</td>\n",
       "      <td>CTTTAATTGGGTTTATCGTTAAAGCACTGGAGCAGCTAATCCTCAC...</td>\n",
       "      <td>0.875770</td>\n",
       "      <td>0.466460</td>\n",
       "      <td>-0.358461</td>\n",
       "      <td>3.011381</td>\n",
       "    </tr>\n",
       "    <tr>\n",
       "      <th>...</th>\n",
       "      <td>...</td>\n",
       "      <td>...</td>\n",
       "      <td>...</td>\n",
       "      <td>...</td>\n",
       "      <td>...</td>\n",
       "      <td>...</td>\n",
       "      <td>...</td>\n",
       "      <td>...</td>\n",
       "      <td>...</td>\n",
       "      <td>...</td>\n",
       "      <td>...</td>\n",
       "      <td>...</td>\n",
       "      <td>...</td>\n",
       "      <td>...</td>\n",
       "      <td>...</td>\n",
       "      <td>...</td>\n",
       "    </tr>\n",
       "    <tr>\n",
       "      <th>17697</th>\n",
       "      <td>chrY</td>\n",
       "      <td>-</td>\n",
       "      <td>13359743-13359832</td>\n",
       "      <td>ENST00000624098</td>\n",
       "      <td>13249856-13479665</td>\n",
       "      <td>rs1402517404</td>\n",
       "      <td>13359793</td>\n",
       "      <td>13359794</td>\n",
       "      <td>C</td>\n",
       "      <td>T</td>\n",
       "      <td>AATATACTATTTAAAATTTTTACCTGTAGAAATTTAATTCTTGCAG...</td>\n",
       "      <td>AATATACTATTTAAAATTTTTACCTGTAGAAATTTAATTCTTGCAG...</td>\n",
       "      <td>0.428082</td>\n",
       "      <td>0.794773</td>\n",
       "      <td>0.291436</td>\n",
       "      <td>-2.371242</td>\n",
       "    </tr>\n",
       "    <tr>\n",
       "      <th>17706</th>\n",
       "      <td>chrY</td>\n",
       "      <td>-</td>\n",
       "      <td>13359743-13359832</td>\n",
       "      <td>ENST00000682216</td>\n",
       "      <td>13234577-13479969</td>\n",
       "      <td>rs1402517404</td>\n",
       "      <td>13359793</td>\n",
       "      <td>13359794</td>\n",
       "      <td>C</td>\n",
       "      <td>T</td>\n",
       "      <td>AATATACTATTTAAAATTTTTACCTGTAGAAATTTAATTCTTGCAG...</td>\n",
       "      <td>AATATACTATTTAAAATTTTTACCTGTAGAAATTTAATTCTTGCAG...</td>\n",
       "      <td>0.428082</td>\n",
       "      <td>0.794773</td>\n",
       "      <td>0.291436</td>\n",
       "      <td>-2.371242</td>\n",
       "    </tr>\n",
       "    <tr>\n",
       "      <th>17715</th>\n",
       "      <td>chrY</td>\n",
       "      <td>-</td>\n",
       "      <td>13359743-13359832</td>\n",
       "      <td>ENST00000682112</td>\n",
       "      <td>13234599-13480002</td>\n",
       "      <td>rs1402517404</td>\n",
       "      <td>13359793</td>\n",
       "      <td>13359794</td>\n",
       "      <td>C</td>\n",
       "      <td>T</td>\n",
       "      <td>AATATACTATTTAAAATTTTTACCTGTAGAAATTTAATTCTTGCAG...</td>\n",
       "      <td>AATATACTATTTAAAATTTTTACCTGTAGAAATTTAATTCTTGCAG...</td>\n",
       "      <td>0.428082</td>\n",
       "      <td>0.794773</td>\n",
       "      <td>0.291436</td>\n",
       "      <td>-2.371242</td>\n",
       "    </tr>\n",
       "    <tr>\n",
       "      <th>17724</th>\n",
       "      <td>chrY</td>\n",
       "      <td>-</td>\n",
       "      <td>13359743-13359832</td>\n",
       "      <td>ENST00000684226</td>\n",
       "      <td>13234580-13359787</td>\n",
       "      <td>rs1402517404</td>\n",
       "      <td>13359793</td>\n",
       "      <td>13359794</td>\n",
       "      <td>C</td>\n",
       "      <td>T</td>\n",
       "      <td>AATATACTATTTAAAATTTTTACCTGTAGAAATTTAATTCTTGCAG...</td>\n",
       "      <td>AATATACTATTTAAAATTTTTACCTGTAGAAATTTAATTCTTGCAG...</td>\n",
       "      <td>0.428082</td>\n",
       "      <td>0.794773</td>\n",
       "      <td>0.291436</td>\n",
       "      <td>-2.371242</td>\n",
       "    </tr>\n",
       "    <tr>\n",
       "      <th>17733</th>\n",
       "      <td>chrY</td>\n",
       "      <td>-</td>\n",
       "      <td>13359743-13359832</td>\n",
       "      <td>ENST00000682913</td>\n",
       "      <td>13249856-13479665</td>\n",
       "      <td>rs1402517404</td>\n",
       "      <td>13359793</td>\n",
       "      <td>13359794</td>\n",
       "      <td>C</td>\n",
       "      <td>T</td>\n",
       "      <td>AATATACTATTTAAAATTTTTACCTGTAGAAATTTAATTCTTGCAG...</td>\n",
       "      <td>AATATACTATTTAAAATTTTTACCTGTAGAAATTTAATTCTTGCAG...</td>\n",
       "      <td>0.428082</td>\n",
       "      <td>0.794773</td>\n",
       "      <td>0.291436</td>\n",
       "      <td>-2.371242</td>\n",
       "    </tr>\n",
       "  </tbody>\n",
       "</table>\n",
       "<p>1530590 rows × 16 columns</p>\n",
       "</div>"
      ],
      "text/plain": [
       "        chr strand    Donor_coordinates Ensemble_Transcript_ID  \\\n",
       "801    chr1      +  209583672-209583761        ENST00000009105   \n",
       "802    chr1      +  209583672-209583761        ENST00000009105   \n",
       "816    chr1      +  209583672-209583761        ENST00000361322   \n",
       "817    chr1      +  209583672-209583761        ENST00000361322   \n",
       "831    chr1      +  209583672-209583761        ENST00000423146   \n",
       "...     ...    ...                  ...                    ...   \n",
       "17697  chrY      -    13359743-13359832        ENST00000624098   \n",
       "17706  chrY      -    13359743-13359832        ENST00000682216   \n",
       "17715  chrY      -    13359743-13359832        ENST00000682112   \n",
       "17724  chrY      -    13359743-13359832        ENST00000684226   \n",
       "17733  chrY      -    13359743-13359832        ENST00000682913   \n",
       "\n",
       "      Transcript_coordinates      dbsnp_id  varinat_start  variant_end  \\\n",
       "801      209583717-209613938  rs1185466806      209583688    209583689   \n",
       "802      209583717-209613938  rs1439681836      209583697    209583698   \n",
       "816      209583714-209613939  rs1185466806      209583688    209583689   \n",
       "817      209583714-209613939  rs1439681836      209583697    209583698   \n",
       "831      209583729-209609913  rs1185466806      209583688    209583689   \n",
       "...                      ...           ...            ...          ...   \n",
       "17697      13249856-13479665  rs1402517404       13359793     13359794   \n",
       "17706      13234577-13479969  rs1402517404       13359793     13359794   \n",
       "17715      13234599-13480002  rs1402517404       13359793     13359794   \n",
       "17724      13234580-13359787  rs1402517404       13359793     13359794   \n",
       "17733      13249856-13479665  rs1402517404       13359793     13359794   \n",
       "\n",
       "      ref_neucleotide alternative_neucleotide  \\\n",
       "801                 T                       C   \n",
       "802                 A                       G   \n",
       "816                 T                       C   \n",
       "817                 A                       G   \n",
       "831                 T                       C   \n",
       "...               ...                     ...   \n",
       "17697               C                       T   \n",
       "17706               C                       T   \n",
       "17715               C                       T   \n",
       "17724               C                       T   \n",
       "17733               C                       T   \n",
       "\n",
       "                                           reference_seq  \\\n",
       "801    CTTTAATTGGGTTTATTGTTAAAGCACTGGAGCAGCTAATCCTCAC...   \n",
       "802    CTTTAATTGGGTTTATTGTTAAAGCACTGGAGCAGCTAATCCTCAC...   \n",
       "816    CTTTAATTGGGTTTATTGTTAAAGCACTGGAGCAGCTAATCCTCAC...   \n",
       "817    CTTTAATTGGGTTTATTGTTAAAGCACTGGAGCAGCTAATCCTCAC...   \n",
       "831    CTTTAATTGGGTTTATTGTTAAAGCACTGGAGCAGCTAATCCTCAC...   \n",
       "...                                                  ...   \n",
       "17697  AATATACTATTTAAAATTTTTACCTGTAGAAATTTAATTCTTGCAG...   \n",
       "17706  AATATACTATTTAAAATTTTTACCTGTAGAAATTTAATTCTTGCAG...   \n",
       "17715  AATATACTATTTAAAATTTTTACCTGTAGAAATTTAATTCTTGCAG...   \n",
       "17724  AATATACTATTTAAAATTTTTACCTGTAGAAATTTAATTCTTGCAG...   \n",
       "17733  AATATACTATTTAAAATTTTTACCTGTAGAAATTTAATTCTTGCAG...   \n",
       "\n",
       "                                                 alt_seq  Ref_probab  \\\n",
       "801    CTTTAATTGGGTTTATCGTTAAAGCACTGGAGCAGCTAATCCTCAC...    0.875770   \n",
       "802    CTTTAATTGGGTTTATTGTTAAAGCGCTGGAGCAGCTAATCCTCAC...    0.875770   \n",
       "816    CTTTAATTGGGTTTATCGTTAAAGCACTGGAGCAGCTAATCCTCAC...    0.875770   \n",
       "817    CTTTAATTGGGTTTATTGTTAAAGCGCTGGAGCAGCTAATCCTCAC...    0.875770   \n",
       "831    CTTTAATTGGGTTTATCGTTAAAGCACTGGAGCAGCTAATCCTCAC...    0.875770   \n",
       "...                                                  ...         ...   \n",
       "17697  AATATACTATTTAAAATTTTTACCTGTAGAAATTTAATTCTTGCAG...    0.428082   \n",
       "17706  AATATACTATTTAAAATTTTTACCTGTAGAAATTTAATTCTTGCAG...    0.428082   \n",
       "17715  AATATACTATTTAAAATTTTTACCTGTAGAAATTTAATTCTTGCAG...    0.428082   \n",
       "17724  AATATACTATTTAAAATTTTTACCTGTAGAAATTTAATTCTTGCAG...    0.428082   \n",
       "17733  AATATACTATTTAAAATTTTTACCTGTAGAAATTTAATTCTTGCAG...    0.428082   \n",
       "\n",
       "       Alt_probab  ScoreChange  LogOddRatio  \n",
       "801      0.466460    -0.358461     3.011381  \n",
       "802      0.497734    -0.331072     2.830614  \n",
       "816      0.466460    -0.358461     3.011381  \n",
       "817      0.497734    -0.331072     2.830614  \n",
       "831      0.466460    -0.358461     3.011381  \n",
       "...           ...          ...          ...  \n",
       "17697    0.794773     0.291436    -2.371242  \n",
       "17706    0.794773     0.291436    -2.371242  \n",
       "17715    0.794773     0.291436    -2.371242  \n",
       "17724    0.794773     0.291436    -2.371242  \n",
       "17733    0.794773     0.291436    -2.371242  \n",
       "\n",
       "[1530590 rows x 16 columns]"
      ]
     },
     "execution_count": 48,
     "metadata": {},
     "output_type": "execute_result"
    }
   ],
   "source": [
    "df_interest = df_interest[(df_interest['ScoreChange']>0.25)|(df_interest['ScoreChange']<-0.25)]\n",
    "df_interest"
   ]
  },
  {
   "cell_type": "code",
   "execution_count": 49,
   "id": "8048e35d-fc61-4e5f-8af6-98dc18553e71",
   "metadata": {},
   "outputs": [
    {
     "data": {
      "text/html": [
       "<div>\n",
       "<style scoped>\n",
       "    .dataframe tbody tr th:only-of-type {\n",
       "        vertical-align: middle;\n",
       "    }\n",
       "\n",
       "    .dataframe tbody tr th {\n",
       "        vertical-align: top;\n",
       "    }\n",
       "\n",
       "    .dataframe thead th {\n",
       "        text-align: right;\n",
       "    }\n",
       "</style>\n",
       "<table border=\"1\" class=\"dataframe\">\n",
       "  <thead>\n",
       "    <tr style=\"text-align: right;\">\n",
       "      <th></th>\n",
       "      <th>chr</th>\n",
       "      <th>strand</th>\n",
       "      <th>Donor_coordinates</th>\n",
       "      <th>Ensemble_Transcript_ID</th>\n",
       "      <th>Transcript_coordinates</th>\n",
       "      <th>dbsnp_id</th>\n",
       "      <th>varinat_start</th>\n",
       "      <th>variant_end</th>\n",
       "      <th>ref_neucleotide</th>\n",
       "      <th>alternative_neucleotide</th>\n",
       "      <th>reference_seq</th>\n",
       "      <th>alt_seq</th>\n",
       "      <th>Ref_probab</th>\n",
       "      <th>Alt_probab</th>\n",
       "      <th>ScoreChange</th>\n",
       "      <th>LogOddRatio</th>\n",
       "      <th>variant_length</th>\n",
       "    </tr>\n",
       "  </thead>\n",
       "  <tbody>\n",
       "    <tr>\n",
       "      <th>801</th>\n",
       "      <td>chr1</td>\n",
       "      <td>+</td>\n",
       "      <td>209583672-209583761</td>\n",
       "      <td>ENST00000009105</td>\n",
       "      <td>209583717-209613938</td>\n",
       "      <td>rs1185466806</td>\n",
       "      <td>209583688</td>\n",
       "      <td>209583689</td>\n",
       "      <td>T</td>\n",
       "      <td>C</td>\n",
       "      <td>CTTTAATTGGGTTTATTGTTAAAGCACTGGAGCAGCTAATCCTCAC...</td>\n",
       "      <td>CTTTAATTGGGTTTATCGTTAAAGCACTGGAGCAGCTAATCCTCAC...</td>\n",
       "      <td>0.875770</td>\n",
       "      <td>0.466460</td>\n",
       "      <td>-0.358461</td>\n",
       "      <td>3.011381</td>\n",
       "      <td>1</td>\n",
       "    </tr>\n",
       "    <tr>\n",
       "      <th>802</th>\n",
       "      <td>chr1</td>\n",
       "      <td>+</td>\n",
       "      <td>209583672-209583761</td>\n",
       "      <td>ENST00000009105</td>\n",
       "      <td>209583717-209613938</td>\n",
       "      <td>rs1439681836</td>\n",
       "      <td>209583697</td>\n",
       "      <td>209583698</td>\n",
       "      <td>A</td>\n",
       "      <td>G</td>\n",
       "      <td>CTTTAATTGGGTTTATTGTTAAAGCACTGGAGCAGCTAATCCTCAC...</td>\n",
       "      <td>CTTTAATTGGGTTTATTGTTAAAGCGCTGGAGCAGCTAATCCTCAC...</td>\n",
       "      <td>0.875770</td>\n",
       "      <td>0.497734</td>\n",
       "      <td>-0.331072</td>\n",
       "      <td>2.830614</td>\n",
       "      <td>1</td>\n",
       "    </tr>\n",
       "    <tr>\n",
       "      <th>816</th>\n",
       "      <td>chr1</td>\n",
       "      <td>+</td>\n",
       "      <td>209583672-209583761</td>\n",
       "      <td>ENST00000361322</td>\n",
       "      <td>209583714-209613939</td>\n",
       "      <td>rs1185466806</td>\n",
       "      <td>209583688</td>\n",
       "      <td>209583689</td>\n",
       "      <td>T</td>\n",
       "      <td>C</td>\n",
       "      <td>CTTTAATTGGGTTTATTGTTAAAGCACTGGAGCAGCTAATCCTCAC...</td>\n",
       "      <td>CTTTAATTGGGTTTATCGTTAAAGCACTGGAGCAGCTAATCCTCAC...</td>\n",
       "      <td>0.875770</td>\n",
       "      <td>0.466460</td>\n",
       "      <td>-0.358461</td>\n",
       "      <td>3.011381</td>\n",
       "      <td>1</td>\n",
       "    </tr>\n",
       "    <tr>\n",
       "      <th>817</th>\n",
       "      <td>chr1</td>\n",
       "      <td>+</td>\n",
       "      <td>209583672-209583761</td>\n",
       "      <td>ENST00000361322</td>\n",
       "      <td>209583714-209613939</td>\n",
       "      <td>rs1439681836</td>\n",
       "      <td>209583697</td>\n",
       "      <td>209583698</td>\n",
       "      <td>A</td>\n",
       "      <td>G</td>\n",
       "      <td>CTTTAATTGGGTTTATTGTTAAAGCACTGGAGCAGCTAATCCTCAC...</td>\n",
       "      <td>CTTTAATTGGGTTTATTGTTAAAGCGCTGGAGCAGCTAATCCTCAC...</td>\n",
       "      <td>0.875770</td>\n",
       "      <td>0.497734</td>\n",
       "      <td>-0.331072</td>\n",
       "      <td>2.830614</td>\n",
       "      <td>1</td>\n",
       "    </tr>\n",
       "    <tr>\n",
       "      <th>831</th>\n",
       "      <td>chr1</td>\n",
       "      <td>+</td>\n",
       "      <td>209583672-209583761</td>\n",
       "      <td>ENST00000423146</td>\n",
       "      <td>209583729-209609913</td>\n",
       "      <td>rs1185466806</td>\n",
       "      <td>209583688</td>\n",
       "      <td>209583689</td>\n",
       "      <td>T</td>\n",
       "      <td>C</td>\n",
       "      <td>CTTTAATTGGGTTTATTGTTAAAGCACTGGAGCAGCTAATCCTCAC...</td>\n",
       "      <td>CTTTAATTGGGTTTATCGTTAAAGCACTGGAGCAGCTAATCCTCAC...</td>\n",
       "      <td>0.875770</td>\n",
       "      <td>0.466460</td>\n",
       "      <td>-0.358461</td>\n",
       "      <td>3.011381</td>\n",
       "      <td>1</td>\n",
       "    </tr>\n",
       "    <tr>\n",
       "      <th>...</th>\n",
       "      <td>...</td>\n",
       "      <td>...</td>\n",
       "      <td>...</td>\n",
       "      <td>...</td>\n",
       "      <td>...</td>\n",
       "      <td>...</td>\n",
       "      <td>...</td>\n",
       "      <td>...</td>\n",
       "      <td>...</td>\n",
       "      <td>...</td>\n",
       "      <td>...</td>\n",
       "      <td>...</td>\n",
       "      <td>...</td>\n",
       "      <td>...</td>\n",
       "      <td>...</td>\n",
       "      <td>...</td>\n",
       "      <td>...</td>\n",
       "    </tr>\n",
       "    <tr>\n",
       "      <th>17697</th>\n",
       "      <td>chrY</td>\n",
       "      <td>-</td>\n",
       "      <td>13359743-13359832</td>\n",
       "      <td>ENST00000624098</td>\n",
       "      <td>13249856-13479665</td>\n",
       "      <td>rs1402517404</td>\n",
       "      <td>13359793</td>\n",
       "      <td>13359794</td>\n",
       "      <td>C</td>\n",
       "      <td>T</td>\n",
       "      <td>AATATACTATTTAAAATTTTTACCTGTAGAAATTTAATTCTTGCAG...</td>\n",
       "      <td>AATATACTATTTAAAATTTTTACCTGTAGAAATTTAATTCTTGCAG...</td>\n",
       "      <td>0.428082</td>\n",
       "      <td>0.794773</td>\n",
       "      <td>0.291436</td>\n",
       "      <td>-2.371242</td>\n",
       "      <td>1</td>\n",
       "    </tr>\n",
       "    <tr>\n",
       "      <th>17706</th>\n",
       "      <td>chrY</td>\n",
       "      <td>-</td>\n",
       "      <td>13359743-13359832</td>\n",
       "      <td>ENST00000682216</td>\n",
       "      <td>13234577-13479969</td>\n",
       "      <td>rs1402517404</td>\n",
       "      <td>13359793</td>\n",
       "      <td>13359794</td>\n",
       "      <td>C</td>\n",
       "      <td>T</td>\n",
       "      <td>AATATACTATTTAAAATTTTTACCTGTAGAAATTTAATTCTTGCAG...</td>\n",
       "      <td>AATATACTATTTAAAATTTTTACCTGTAGAAATTTAATTCTTGCAG...</td>\n",
       "      <td>0.428082</td>\n",
       "      <td>0.794773</td>\n",
       "      <td>0.291436</td>\n",
       "      <td>-2.371242</td>\n",
       "      <td>1</td>\n",
       "    </tr>\n",
       "    <tr>\n",
       "      <th>17715</th>\n",
       "      <td>chrY</td>\n",
       "      <td>-</td>\n",
       "      <td>13359743-13359832</td>\n",
       "      <td>ENST00000682112</td>\n",
       "      <td>13234599-13480002</td>\n",
       "      <td>rs1402517404</td>\n",
       "      <td>13359793</td>\n",
       "      <td>13359794</td>\n",
       "      <td>C</td>\n",
       "      <td>T</td>\n",
       "      <td>AATATACTATTTAAAATTTTTACCTGTAGAAATTTAATTCTTGCAG...</td>\n",
       "      <td>AATATACTATTTAAAATTTTTACCTGTAGAAATTTAATTCTTGCAG...</td>\n",
       "      <td>0.428082</td>\n",
       "      <td>0.794773</td>\n",
       "      <td>0.291436</td>\n",
       "      <td>-2.371242</td>\n",
       "      <td>1</td>\n",
       "    </tr>\n",
       "    <tr>\n",
       "      <th>17724</th>\n",
       "      <td>chrY</td>\n",
       "      <td>-</td>\n",
       "      <td>13359743-13359832</td>\n",
       "      <td>ENST00000684226</td>\n",
       "      <td>13234580-13359787</td>\n",
       "      <td>rs1402517404</td>\n",
       "      <td>13359793</td>\n",
       "      <td>13359794</td>\n",
       "      <td>C</td>\n",
       "      <td>T</td>\n",
       "      <td>AATATACTATTTAAAATTTTTACCTGTAGAAATTTAATTCTTGCAG...</td>\n",
       "      <td>AATATACTATTTAAAATTTTTACCTGTAGAAATTTAATTCTTGCAG...</td>\n",
       "      <td>0.428082</td>\n",
       "      <td>0.794773</td>\n",
       "      <td>0.291436</td>\n",
       "      <td>-2.371242</td>\n",
       "      <td>1</td>\n",
       "    </tr>\n",
       "    <tr>\n",
       "      <th>17733</th>\n",
       "      <td>chrY</td>\n",
       "      <td>-</td>\n",
       "      <td>13359743-13359832</td>\n",
       "      <td>ENST00000682913</td>\n",
       "      <td>13249856-13479665</td>\n",
       "      <td>rs1402517404</td>\n",
       "      <td>13359793</td>\n",
       "      <td>13359794</td>\n",
       "      <td>C</td>\n",
       "      <td>T</td>\n",
       "      <td>AATATACTATTTAAAATTTTTACCTGTAGAAATTTAATTCTTGCAG...</td>\n",
       "      <td>AATATACTATTTAAAATTTTTACCTGTAGAAATTTAATTCTTGCAG...</td>\n",
       "      <td>0.428082</td>\n",
       "      <td>0.794773</td>\n",
       "      <td>0.291436</td>\n",
       "      <td>-2.371242</td>\n",
       "      <td>1</td>\n",
       "    </tr>\n",
       "  </tbody>\n",
       "</table>\n",
       "<p>1530590 rows × 17 columns</p>\n",
       "</div>"
      ],
      "text/plain": [
       "        chr strand    Donor_coordinates Ensemble_Transcript_ID  \\\n",
       "801    chr1      +  209583672-209583761        ENST00000009105   \n",
       "802    chr1      +  209583672-209583761        ENST00000009105   \n",
       "816    chr1      +  209583672-209583761        ENST00000361322   \n",
       "817    chr1      +  209583672-209583761        ENST00000361322   \n",
       "831    chr1      +  209583672-209583761        ENST00000423146   \n",
       "...     ...    ...                  ...                    ...   \n",
       "17697  chrY      -    13359743-13359832        ENST00000624098   \n",
       "17706  chrY      -    13359743-13359832        ENST00000682216   \n",
       "17715  chrY      -    13359743-13359832        ENST00000682112   \n",
       "17724  chrY      -    13359743-13359832        ENST00000684226   \n",
       "17733  chrY      -    13359743-13359832        ENST00000682913   \n",
       "\n",
       "      Transcript_coordinates      dbsnp_id  varinat_start  variant_end  \\\n",
       "801      209583717-209613938  rs1185466806      209583688    209583689   \n",
       "802      209583717-209613938  rs1439681836      209583697    209583698   \n",
       "816      209583714-209613939  rs1185466806      209583688    209583689   \n",
       "817      209583714-209613939  rs1439681836      209583697    209583698   \n",
       "831      209583729-209609913  rs1185466806      209583688    209583689   \n",
       "...                      ...           ...            ...          ...   \n",
       "17697      13249856-13479665  rs1402517404       13359793     13359794   \n",
       "17706      13234577-13479969  rs1402517404       13359793     13359794   \n",
       "17715      13234599-13480002  rs1402517404       13359793     13359794   \n",
       "17724      13234580-13359787  rs1402517404       13359793     13359794   \n",
       "17733      13249856-13479665  rs1402517404       13359793     13359794   \n",
       "\n",
       "      ref_neucleotide alternative_neucleotide  \\\n",
       "801                 T                       C   \n",
       "802                 A                       G   \n",
       "816                 T                       C   \n",
       "817                 A                       G   \n",
       "831                 T                       C   \n",
       "...               ...                     ...   \n",
       "17697               C                       T   \n",
       "17706               C                       T   \n",
       "17715               C                       T   \n",
       "17724               C                       T   \n",
       "17733               C                       T   \n",
       "\n",
       "                                           reference_seq  \\\n",
       "801    CTTTAATTGGGTTTATTGTTAAAGCACTGGAGCAGCTAATCCTCAC...   \n",
       "802    CTTTAATTGGGTTTATTGTTAAAGCACTGGAGCAGCTAATCCTCAC...   \n",
       "816    CTTTAATTGGGTTTATTGTTAAAGCACTGGAGCAGCTAATCCTCAC...   \n",
       "817    CTTTAATTGGGTTTATTGTTAAAGCACTGGAGCAGCTAATCCTCAC...   \n",
       "831    CTTTAATTGGGTTTATTGTTAAAGCACTGGAGCAGCTAATCCTCAC...   \n",
       "...                                                  ...   \n",
       "17697  AATATACTATTTAAAATTTTTACCTGTAGAAATTTAATTCTTGCAG...   \n",
       "17706  AATATACTATTTAAAATTTTTACCTGTAGAAATTTAATTCTTGCAG...   \n",
       "17715  AATATACTATTTAAAATTTTTACCTGTAGAAATTTAATTCTTGCAG...   \n",
       "17724  AATATACTATTTAAAATTTTTACCTGTAGAAATTTAATTCTTGCAG...   \n",
       "17733  AATATACTATTTAAAATTTTTACCTGTAGAAATTTAATTCTTGCAG...   \n",
       "\n",
       "                                                 alt_seq  Ref_probab  \\\n",
       "801    CTTTAATTGGGTTTATCGTTAAAGCACTGGAGCAGCTAATCCTCAC...    0.875770   \n",
       "802    CTTTAATTGGGTTTATTGTTAAAGCGCTGGAGCAGCTAATCCTCAC...    0.875770   \n",
       "816    CTTTAATTGGGTTTATCGTTAAAGCACTGGAGCAGCTAATCCTCAC...    0.875770   \n",
       "817    CTTTAATTGGGTTTATTGTTAAAGCGCTGGAGCAGCTAATCCTCAC...    0.875770   \n",
       "831    CTTTAATTGGGTTTATCGTTAAAGCACTGGAGCAGCTAATCCTCAC...    0.875770   \n",
       "...                                                  ...         ...   \n",
       "17697  AATATACTATTTAAAATTTTTACCTGTAGAAATTTAATTCTTGCAG...    0.428082   \n",
       "17706  AATATACTATTTAAAATTTTTACCTGTAGAAATTTAATTCTTGCAG...    0.428082   \n",
       "17715  AATATACTATTTAAAATTTTTACCTGTAGAAATTTAATTCTTGCAG...    0.428082   \n",
       "17724  AATATACTATTTAAAATTTTTACCTGTAGAAATTTAATTCTTGCAG...    0.428082   \n",
       "17733  AATATACTATTTAAAATTTTTACCTGTAGAAATTTAATTCTTGCAG...    0.428082   \n",
       "\n",
       "       Alt_probab  ScoreChange  LogOddRatio  variant_length  \n",
       "801      0.466460    -0.358461     3.011381               1  \n",
       "802      0.497734    -0.331072     2.830614               1  \n",
       "816      0.466460    -0.358461     3.011381               1  \n",
       "817      0.497734    -0.331072     2.830614               1  \n",
       "831      0.466460    -0.358461     3.011381               1  \n",
       "...           ...          ...          ...             ...  \n",
       "17697    0.794773     0.291436    -2.371242               1  \n",
       "17706    0.794773     0.291436    -2.371242               1  \n",
       "17715    0.794773     0.291436    -2.371242               1  \n",
       "17724    0.794773     0.291436    -2.371242               1  \n",
       "17733    0.794773     0.291436    -2.371242               1  \n",
       "\n",
       "[1530590 rows x 17 columns]"
      ]
     },
     "execution_count": 49,
     "metadata": {},
     "output_type": "execute_result"
    }
   ],
   "source": [
    "df_interest['variant_length'] = df_interest['variant_end']-df_interest['varinat_start']\n",
    "df_interest"
   ]
  },
  {
   "cell_type": "code",
   "execution_count": 50,
   "id": "093f7729-4425-4f0f-8733-0f0d7a090f36",
   "metadata": {},
   "outputs": [
    {
     "data": {
      "text/html": [
       "<div>\n",
       "<style scoped>\n",
       "    .dataframe tbody tr th:only-of-type {\n",
       "        vertical-align: middle;\n",
       "    }\n",
       "\n",
       "    .dataframe tbody tr th {\n",
       "        vertical-align: top;\n",
       "    }\n",
       "\n",
       "    .dataframe thead th {\n",
       "        text-align: right;\n",
       "    }\n",
       "</style>\n",
       "<table border=\"1\" class=\"dataframe\">\n",
       "  <thead>\n",
       "    <tr style=\"text-align: right;\">\n",
       "      <th></th>\n",
       "      <th>chr</th>\n",
       "      <th>strand</th>\n",
       "      <th>Donor_coordinates</th>\n",
       "      <th>Ensemble_Transcript_ID</th>\n",
       "      <th>Transcript_coordinates</th>\n",
       "      <th>dbsnp_id</th>\n",
       "      <th>varinat_start</th>\n",
       "      <th>variant_end</th>\n",
       "      <th>ref_neucleotide</th>\n",
       "      <th>alternative_neucleotide</th>\n",
       "      <th>reference_seq</th>\n",
       "      <th>alt_seq</th>\n",
       "      <th>Ref_probab</th>\n",
       "      <th>Alt_probab</th>\n",
       "      <th>ScoreChange</th>\n",
       "      <th>LogOddRatio</th>\n",
       "      <th>variant_length</th>\n",
       "    </tr>\n",
       "  </thead>\n",
       "  <tbody>\n",
       "    <tr>\n",
       "      <th>801</th>\n",
       "      <td>chr1</td>\n",
       "      <td>+</td>\n",
       "      <td>209583672-209583761</td>\n",
       "      <td>ENST00000009105</td>\n",
       "      <td>209583717-209613938</td>\n",
       "      <td>rs1185466806</td>\n",
       "      <td>209583688</td>\n",
       "      <td>209583689</td>\n",
       "      <td>T</td>\n",
       "      <td>C</td>\n",
       "      <td>CTTTAATTGGGTTTATTGTTAAAGCACTGGAGCAGCTAATCCTCAC...</td>\n",
       "      <td>CTTTAATTGGGTTTATCGTTAAAGCACTGGAGCAGCTAATCCTCAC...</td>\n",
       "      <td>0.875770</td>\n",
       "      <td>0.466460</td>\n",
       "      <td>-0.358461</td>\n",
       "      <td>3.011381</td>\n",
       "      <td>1</td>\n",
       "    </tr>\n",
       "    <tr>\n",
       "      <th>802</th>\n",
       "      <td>chr1</td>\n",
       "      <td>+</td>\n",
       "      <td>209583672-209583761</td>\n",
       "      <td>ENST00000009105</td>\n",
       "      <td>209583717-209613938</td>\n",
       "      <td>rs1439681836</td>\n",
       "      <td>209583697</td>\n",
       "      <td>209583698</td>\n",
       "      <td>A</td>\n",
       "      <td>G</td>\n",
       "      <td>CTTTAATTGGGTTTATTGTTAAAGCACTGGAGCAGCTAATCCTCAC...</td>\n",
       "      <td>CTTTAATTGGGTTTATTGTTAAAGCGCTGGAGCAGCTAATCCTCAC...</td>\n",
       "      <td>0.875770</td>\n",
       "      <td>0.497734</td>\n",
       "      <td>-0.331072</td>\n",
       "      <td>2.830614</td>\n",
       "      <td>1</td>\n",
       "    </tr>\n",
       "    <tr>\n",
       "      <th>816</th>\n",
       "      <td>chr1</td>\n",
       "      <td>+</td>\n",
       "      <td>209583672-209583761</td>\n",
       "      <td>ENST00000361322</td>\n",
       "      <td>209583714-209613939</td>\n",
       "      <td>rs1185466806</td>\n",
       "      <td>209583688</td>\n",
       "      <td>209583689</td>\n",
       "      <td>T</td>\n",
       "      <td>C</td>\n",
       "      <td>CTTTAATTGGGTTTATTGTTAAAGCACTGGAGCAGCTAATCCTCAC...</td>\n",
       "      <td>CTTTAATTGGGTTTATCGTTAAAGCACTGGAGCAGCTAATCCTCAC...</td>\n",
       "      <td>0.875770</td>\n",
       "      <td>0.466460</td>\n",
       "      <td>-0.358461</td>\n",
       "      <td>3.011381</td>\n",
       "      <td>1</td>\n",
       "    </tr>\n",
       "    <tr>\n",
       "      <th>817</th>\n",
       "      <td>chr1</td>\n",
       "      <td>+</td>\n",
       "      <td>209583672-209583761</td>\n",
       "      <td>ENST00000361322</td>\n",
       "      <td>209583714-209613939</td>\n",
       "      <td>rs1439681836</td>\n",
       "      <td>209583697</td>\n",
       "      <td>209583698</td>\n",
       "      <td>A</td>\n",
       "      <td>G</td>\n",
       "      <td>CTTTAATTGGGTTTATTGTTAAAGCACTGGAGCAGCTAATCCTCAC...</td>\n",
       "      <td>CTTTAATTGGGTTTATTGTTAAAGCGCTGGAGCAGCTAATCCTCAC...</td>\n",
       "      <td>0.875770</td>\n",
       "      <td>0.497734</td>\n",
       "      <td>-0.331072</td>\n",
       "      <td>2.830614</td>\n",
       "      <td>1</td>\n",
       "    </tr>\n",
       "    <tr>\n",
       "      <th>831</th>\n",
       "      <td>chr1</td>\n",
       "      <td>+</td>\n",
       "      <td>209583672-209583761</td>\n",
       "      <td>ENST00000423146</td>\n",
       "      <td>209583729-209609913</td>\n",
       "      <td>rs1185466806</td>\n",
       "      <td>209583688</td>\n",
       "      <td>209583689</td>\n",
       "      <td>T</td>\n",
       "      <td>C</td>\n",
       "      <td>CTTTAATTGGGTTTATTGTTAAAGCACTGGAGCAGCTAATCCTCAC...</td>\n",
       "      <td>CTTTAATTGGGTTTATCGTTAAAGCACTGGAGCAGCTAATCCTCAC...</td>\n",
       "      <td>0.875770</td>\n",
       "      <td>0.466460</td>\n",
       "      <td>-0.358461</td>\n",
       "      <td>3.011381</td>\n",
       "      <td>1</td>\n",
       "    </tr>\n",
       "    <tr>\n",
       "      <th>...</th>\n",
       "      <td>...</td>\n",
       "      <td>...</td>\n",
       "      <td>...</td>\n",
       "      <td>...</td>\n",
       "      <td>...</td>\n",
       "      <td>...</td>\n",
       "      <td>...</td>\n",
       "      <td>...</td>\n",
       "      <td>...</td>\n",
       "      <td>...</td>\n",
       "      <td>...</td>\n",
       "      <td>...</td>\n",
       "      <td>...</td>\n",
       "      <td>...</td>\n",
       "      <td>...</td>\n",
       "      <td>...</td>\n",
       "      <td>...</td>\n",
       "    </tr>\n",
       "    <tr>\n",
       "      <th>17697</th>\n",
       "      <td>chrY</td>\n",
       "      <td>-</td>\n",
       "      <td>13359743-13359832</td>\n",
       "      <td>ENST00000624098</td>\n",
       "      <td>13249856-13479665</td>\n",
       "      <td>rs1402517404</td>\n",
       "      <td>13359793</td>\n",
       "      <td>13359794</td>\n",
       "      <td>C</td>\n",
       "      <td>T</td>\n",
       "      <td>AATATACTATTTAAAATTTTTACCTGTAGAAATTTAATTCTTGCAG...</td>\n",
       "      <td>AATATACTATTTAAAATTTTTACCTGTAGAAATTTAATTCTTGCAG...</td>\n",
       "      <td>0.428082</td>\n",
       "      <td>0.794773</td>\n",
       "      <td>0.291436</td>\n",
       "      <td>-2.371242</td>\n",
       "      <td>1</td>\n",
       "    </tr>\n",
       "    <tr>\n",
       "      <th>17706</th>\n",
       "      <td>chrY</td>\n",
       "      <td>-</td>\n",
       "      <td>13359743-13359832</td>\n",
       "      <td>ENST00000682216</td>\n",
       "      <td>13234577-13479969</td>\n",
       "      <td>rs1402517404</td>\n",
       "      <td>13359793</td>\n",
       "      <td>13359794</td>\n",
       "      <td>C</td>\n",
       "      <td>T</td>\n",
       "      <td>AATATACTATTTAAAATTTTTACCTGTAGAAATTTAATTCTTGCAG...</td>\n",
       "      <td>AATATACTATTTAAAATTTTTACCTGTAGAAATTTAATTCTTGCAG...</td>\n",
       "      <td>0.428082</td>\n",
       "      <td>0.794773</td>\n",
       "      <td>0.291436</td>\n",
       "      <td>-2.371242</td>\n",
       "      <td>1</td>\n",
       "    </tr>\n",
       "    <tr>\n",
       "      <th>17715</th>\n",
       "      <td>chrY</td>\n",
       "      <td>-</td>\n",
       "      <td>13359743-13359832</td>\n",
       "      <td>ENST00000682112</td>\n",
       "      <td>13234599-13480002</td>\n",
       "      <td>rs1402517404</td>\n",
       "      <td>13359793</td>\n",
       "      <td>13359794</td>\n",
       "      <td>C</td>\n",
       "      <td>T</td>\n",
       "      <td>AATATACTATTTAAAATTTTTACCTGTAGAAATTTAATTCTTGCAG...</td>\n",
       "      <td>AATATACTATTTAAAATTTTTACCTGTAGAAATTTAATTCTTGCAG...</td>\n",
       "      <td>0.428082</td>\n",
       "      <td>0.794773</td>\n",
       "      <td>0.291436</td>\n",
       "      <td>-2.371242</td>\n",
       "      <td>1</td>\n",
       "    </tr>\n",
       "    <tr>\n",
       "      <th>17724</th>\n",
       "      <td>chrY</td>\n",
       "      <td>-</td>\n",
       "      <td>13359743-13359832</td>\n",
       "      <td>ENST00000684226</td>\n",
       "      <td>13234580-13359787</td>\n",
       "      <td>rs1402517404</td>\n",
       "      <td>13359793</td>\n",
       "      <td>13359794</td>\n",
       "      <td>C</td>\n",
       "      <td>T</td>\n",
       "      <td>AATATACTATTTAAAATTTTTACCTGTAGAAATTTAATTCTTGCAG...</td>\n",
       "      <td>AATATACTATTTAAAATTTTTACCTGTAGAAATTTAATTCTTGCAG...</td>\n",
       "      <td>0.428082</td>\n",
       "      <td>0.794773</td>\n",
       "      <td>0.291436</td>\n",
       "      <td>-2.371242</td>\n",
       "      <td>1</td>\n",
       "    </tr>\n",
       "    <tr>\n",
       "      <th>17733</th>\n",
       "      <td>chrY</td>\n",
       "      <td>-</td>\n",
       "      <td>13359743-13359832</td>\n",
       "      <td>ENST00000682913</td>\n",
       "      <td>13249856-13479665</td>\n",
       "      <td>rs1402517404</td>\n",
       "      <td>13359793</td>\n",
       "      <td>13359794</td>\n",
       "      <td>C</td>\n",
       "      <td>T</td>\n",
       "      <td>AATATACTATTTAAAATTTTTACCTGTAGAAATTTAATTCTTGCAG...</td>\n",
       "      <td>AATATACTATTTAAAATTTTTACCTGTAGAAATTTAATTCTTGCAG...</td>\n",
       "      <td>0.428082</td>\n",
       "      <td>0.794773</td>\n",
       "      <td>0.291436</td>\n",
       "      <td>-2.371242</td>\n",
       "      <td>1</td>\n",
       "    </tr>\n",
       "  </tbody>\n",
       "</table>\n",
       "<p>1440553 rows × 17 columns</p>\n",
       "</div>"
      ],
      "text/plain": [
       "        chr strand    Donor_coordinates Ensemble_Transcript_ID  \\\n",
       "801    chr1      +  209583672-209583761        ENST00000009105   \n",
       "802    chr1      +  209583672-209583761        ENST00000009105   \n",
       "816    chr1      +  209583672-209583761        ENST00000361322   \n",
       "817    chr1      +  209583672-209583761        ENST00000361322   \n",
       "831    chr1      +  209583672-209583761        ENST00000423146   \n",
       "...     ...    ...                  ...                    ...   \n",
       "17697  chrY      -    13359743-13359832        ENST00000624098   \n",
       "17706  chrY      -    13359743-13359832        ENST00000682216   \n",
       "17715  chrY      -    13359743-13359832        ENST00000682112   \n",
       "17724  chrY      -    13359743-13359832        ENST00000684226   \n",
       "17733  chrY      -    13359743-13359832        ENST00000682913   \n",
       "\n",
       "      Transcript_coordinates      dbsnp_id  varinat_start  variant_end  \\\n",
       "801      209583717-209613938  rs1185466806      209583688    209583689   \n",
       "802      209583717-209613938  rs1439681836      209583697    209583698   \n",
       "816      209583714-209613939  rs1185466806      209583688    209583689   \n",
       "817      209583714-209613939  rs1439681836      209583697    209583698   \n",
       "831      209583729-209609913  rs1185466806      209583688    209583689   \n",
       "...                      ...           ...            ...          ...   \n",
       "17697      13249856-13479665  rs1402517404       13359793     13359794   \n",
       "17706      13234577-13479969  rs1402517404       13359793     13359794   \n",
       "17715      13234599-13480002  rs1402517404       13359793     13359794   \n",
       "17724      13234580-13359787  rs1402517404       13359793     13359794   \n",
       "17733      13249856-13479665  rs1402517404       13359793     13359794   \n",
       "\n",
       "      ref_neucleotide alternative_neucleotide  \\\n",
       "801                 T                       C   \n",
       "802                 A                       G   \n",
       "816                 T                       C   \n",
       "817                 A                       G   \n",
       "831                 T                       C   \n",
       "...               ...                     ...   \n",
       "17697               C                       T   \n",
       "17706               C                       T   \n",
       "17715               C                       T   \n",
       "17724               C                       T   \n",
       "17733               C                       T   \n",
       "\n",
       "                                           reference_seq  \\\n",
       "801    CTTTAATTGGGTTTATTGTTAAAGCACTGGAGCAGCTAATCCTCAC...   \n",
       "802    CTTTAATTGGGTTTATTGTTAAAGCACTGGAGCAGCTAATCCTCAC...   \n",
       "816    CTTTAATTGGGTTTATTGTTAAAGCACTGGAGCAGCTAATCCTCAC...   \n",
       "817    CTTTAATTGGGTTTATTGTTAAAGCACTGGAGCAGCTAATCCTCAC...   \n",
       "831    CTTTAATTGGGTTTATTGTTAAAGCACTGGAGCAGCTAATCCTCAC...   \n",
       "...                                                  ...   \n",
       "17697  AATATACTATTTAAAATTTTTACCTGTAGAAATTTAATTCTTGCAG...   \n",
       "17706  AATATACTATTTAAAATTTTTACCTGTAGAAATTTAATTCTTGCAG...   \n",
       "17715  AATATACTATTTAAAATTTTTACCTGTAGAAATTTAATTCTTGCAG...   \n",
       "17724  AATATACTATTTAAAATTTTTACCTGTAGAAATTTAATTCTTGCAG...   \n",
       "17733  AATATACTATTTAAAATTTTTACCTGTAGAAATTTAATTCTTGCAG...   \n",
       "\n",
       "                                                 alt_seq  Ref_probab  \\\n",
       "801    CTTTAATTGGGTTTATCGTTAAAGCACTGGAGCAGCTAATCCTCAC...    0.875770   \n",
       "802    CTTTAATTGGGTTTATTGTTAAAGCGCTGGAGCAGCTAATCCTCAC...    0.875770   \n",
       "816    CTTTAATTGGGTTTATCGTTAAAGCACTGGAGCAGCTAATCCTCAC...    0.875770   \n",
       "817    CTTTAATTGGGTTTATTGTTAAAGCGCTGGAGCAGCTAATCCTCAC...    0.875770   \n",
       "831    CTTTAATTGGGTTTATCGTTAAAGCACTGGAGCAGCTAATCCTCAC...    0.875770   \n",
       "...                                                  ...         ...   \n",
       "17697  AATATACTATTTAAAATTTTTACCTGTAGAAATTTAATTCTTGCAG...    0.428082   \n",
       "17706  AATATACTATTTAAAATTTTTACCTGTAGAAATTTAATTCTTGCAG...    0.428082   \n",
       "17715  AATATACTATTTAAAATTTTTACCTGTAGAAATTTAATTCTTGCAG...    0.428082   \n",
       "17724  AATATACTATTTAAAATTTTTACCTGTAGAAATTTAATTCTTGCAG...    0.428082   \n",
       "17733  AATATACTATTTAAAATTTTTACCTGTAGAAATTTAATTCTTGCAG...    0.428082   \n",
       "\n",
       "       Alt_probab  ScoreChange  LogOddRatio  variant_length  \n",
       "801      0.466460    -0.358461     3.011381               1  \n",
       "802      0.497734    -0.331072     2.830614               1  \n",
       "816      0.466460    -0.358461     3.011381               1  \n",
       "817      0.497734    -0.331072     2.830614               1  \n",
       "831      0.466460    -0.358461     3.011381               1  \n",
       "...           ...          ...          ...             ...  \n",
       "17697    0.794773     0.291436    -2.371242               1  \n",
       "17706    0.794773     0.291436    -2.371242               1  \n",
       "17715    0.794773     0.291436    -2.371242               1  \n",
       "17724    0.794773     0.291436    -2.371242               1  \n",
       "17733    0.794773     0.291436    -2.371242               1  \n",
       "\n",
       "[1440553 rows x 17 columns]"
      ]
     },
     "execution_count": 50,
     "metadata": {},
     "output_type": "execute_result"
    }
   ],
   "source": [
    "#df_interest['Z_Score'] = stats.zscore(df['LogOddRatio'])\n",
    "df_interest = df_interest[df_interest['variant_length']<=3]\n",
    "df_interest"
   ]
  },
  {
   "cell_type": "code",
   "execution_count": 51,
   "id": "c23b28a0-db15-486d-9bfc-2d270bb0a01b",
   "metadata": {},
   "outputs": [
    {
     "name": "stdout",
     "output_type": "stream",
     "text": [
      "1.2299940692595763 3.2141714058090076\n"
     ]
    }
   ],
   "source": [
    "mean = df_interest['LogOddRatio'].mean()\n",
    "std = df_interest['LogOddRatio'].std()\n",
    "print(mean, std)"
   ]
  },
  {
   "cell_type": "code",
   "execution_count": 52,
   "id": "e3d80ca2-c6de-4fbf-837b-d16d8a6c97fa",
   "metadata": {},
   "outputs": [],
   "source": [
    "# z_score, p_value = ztest(x1= df_interest['LogOddRatio'], value = mean)"
   ]
  },
  {
   "cell_type": "code",
   "execution_count": 53,
   "id": "ce700e5c-708b-4214-9cab-695a2f53a80b",
   "metadata": {},
   "outputs": [
    {
     "name": "stdout",
     "output_type": "stream",
     "text": [
      "-3.3219280948873626 3.3219280948873626\n"
     ]
    },
    {
     "data": {
      "image/png": "[encoded data removed]",
      "text/plain": [
       "<Figure size 640x480 with 1 Axes>"
      ]
     },
     "metadata": {},
     "output_type": "display_data"
    }
   ],
   "source": [
    "#print(z_score, p_value)\n",
    "# Plot the distribution of 'LogOddRatio'\n",
    "\n",
    "sns.kdeplot(df_interest['LogOddRatio'], fill=True, linewidth=1)\n",
    "\n",
    "# # Get the extreme values for a two tailed test at alpha = 0.05\n",
    "# z_critical = norm.ppf(1 - 0.05/2) # two-tailed test at alpha = 0.05\n",
    "\n",
    "\n",
    "# print(z_critical)\n",
    "#x1, x2 = mean + 3*std, mean - 3*std\n",
    "x1= 3.3219280948873626\n",
    "x2 =-3.3219280948873626\n",
    "print(x2, x1)\n",
    "\n",
    "# Shade the area for the two tailed test\n",
    "plt.axvspan(min(df_interest['LogOddRatio']), x2, alpha=0.3, color='red')\n",
    "plt.axvspan(x1, max(df_interest['LogOddRatio']), alpha=0.3, color='red')\n",
    "\n",
    "# Add the observed z-score\n",
    "# plt.text(-17, 0.5, f'Left-tail value = {x2:.2f}', color='blue', ha='left', va='center')\n",
    "# plt.text(-3, 0.54, f'Right-tail value = {x1:.2f}', color='blue', ha='right', va='center')\n",
    "\n",
    "plt.title(f'Distribution of Relative Log Fold changes of Odds for NonTATA Model \\n Left-tail value = {x2:.2f} ; Right-tail value = {x1:.2f}')\n",
    "plt.savefig('NonTATA_LogOddRatio_Distribution.png')\n",
    "plt.show()"
   ]
  },
  {
   "cell_type": "code",
   "execution_count": 54,
   "id": "84f0d768-0f1c-4849-b351-7c833586c8d6",
   "metadata": {},
   "outputs": [],
   "source": [
    "df_selected = df_interest[(df_interest['LogOddRatio']> x1)|(df_interest['LogOddRatio']<  x2)]"
   ]
  },
  {
   "cell_type": "code",
   "execution_count": 55,
   "id": "04057128-4ea0-4ec6-a6ad-c4ec91076780",
   "metadata": {},
   "outputs": [
    {
     "data": {
      "text/html": [
       "<div>\n",
       "<style scoped>\n",
       "    .dataframe tbody tr th:only-of-type {\n",
       "        vertical-align: middle;\n",
       "    }\n",
       "\n",
       "    .dataframe tbody tr th {\n",
       "        vertical-align: top;\n",
       "    }\n",
       "\n",
       "    .dataframe thead th {\n",
       "        text-align: right;\n",
       "    }\n",
       "</style>\n",
       "<table border=\"1\" class=\"dataframe\">\n",
       "  <thead>\n",
       "    <tr style=\"text-align: right;\">\n",
       "      <th></th>\n",
       "      <th>chr</th>\n",
       "      <th>strand</th>\n",
       "      <th>Donor_coordinates</th>\n",
       "      <th>Ensemble_Transcript_ID</th>\n",
       "      <th>Transcript_coordinates</th>\n",
       "      <th>dbsnp_id</th>\n",
       "      <th>varinat_start</th>\n",
       "      <th>variant_end</th>\n",
       "      <th>ref_neucleotide</th>\n",
       "      <th>alternative_neucleotide</th>\n",
       "      <th>reference_seq</th>\n",
       "      <th>alt_seq</th>\n",
       "      <th>Ref_probab</th>\n",
       "      <th>Alt_probab</th>\n",
       "      <th>ScoreChange</th>\n",
       "      <th>LogOddRatio</th>\n",
       "      <th>variant_length</th>\n",
       "    </tr>\n",
       "  </thead>\n",
       "  <tbody>\n",
       "    <tr>\n",
       "      <th>859</th>\n",
       "      <td>chr1</td>\n",
       "      <td>+</td>\n",
       "      <td>27726012-27726101</td>\n",
       "      <td>ENST00000234549</td>\n",
       "      <td>27726028-27760581</td>\n",
       "      <td>rs899932152</td>\n",
       "      <td>27726014</td>\n",
       "      <td>27726015</td>\n",
       "      <td>G</td>\n",
       "      <td>A</td>\n",
       "      <td>GTGCCTCAGACTGTCAGATAAATCGGcgggccgggccggcgggtcg...</td>\n",
       "      <td>GTACCTCAGACTGTCAGATAAATCGGcgggccgggccggcgggtcg...</td>\n",
       "      <td>0.844356</td>\n",
       "      <td>0.222337</td>\n",
       "      <td>-0.525205</td>\n",
       "      <td>4.245996</td>\n",
       "      <td>1</td>\n",
       "    </tr>\n",
       "    <tr>\n",
       "      <th>910</th>\n",
       "      <td>chr1</td>\n",
       "      <td>+</td>\n",
       "      <td>27726012-27726101</td>\n",
       "      <td>ENST00000010299</td>\n",
       "      <td>27726057-27760581</td>\n",
       "      <td>rs899932152</td>\n",
       "      <td>27726014</td>\n",
       "      <td>27726015</td>\n",
       "      <td>G</td>\n",
       "      <td>A</td>\n",
       "      <td>GTGCCTCAGACTGTCAGATAAATCGGcgggccgggccggcgggtcg...</td>\n",
       "      <td>GTACCTCAGACTGTCAGATAAATCGGcgggccgggccggcgggtcg...</td>\n",
       "      <td>0.844356</td>\n",
       "      <td>0.222337</td>\n",
       "      <td>-0.525205</td>\n",
       "      <td>4.245996</td>\n",
       "      <td>1</td>\n",
       "    </tr>\n",
       "    <tr>\n",
       "      <th>961</th>\n",
       "      <td>chr1</td>\n",
       "      <td>+</td>\n",
       "      <td>27726012-27726101</td>\n",
       "      <td>ENST00000373954</td>\n",
       "      <td>27725961-27763116</td>\n",
       "      <td>rs899932152</td>\n",
       "      <td>27726014</td>\n",
       "      <td>27726015</td>\n",
       "      <td>G</td>\n",
       "      <td>A</td>\n",
       "      <td>GTGCCTCAGACTGTCAGATAAATCGGcgggccgggccggcgggtcg...</td>\n",
       "      <td>GTACCTCAGACTGTCAGATAAATCGGcgggccgggccggcgggtcg...</td>\n",
       "      <td>0.844356</td>\n",
       "      <td>0.222337</td>\n",
       "      <td>-0.525205</td>\n",
       "      <td>4.245996</td>\n",
       "      <td>1</td>\n",
       "    </tr>\n",
       "    <tr>\n",
       "      <th>1012</th>\n",
       "      <td>chr1</td>\n",
       "      <td>+</td>\n",
       "      <td>27726012-27726101</td>\n",
       "      <td>ENST00000373949</td>\n",
       "      <td>27726028-27761964</td>\n",
       "      <td>rs899932152</td>\n",
       "      <td>27726014</td>\n",
       "      <td>27726015</td>\n",
       "      <td>G</td>\n",
       "      <td>A</td>\n",
       "      <td>GTGCCTCAGACTGTCAGATAAATCGGcgggccgggccggcgggtcg...</td>\n",
       "      <td>GTACCTCAGACTGTCAGATAAATCGGcgggccgggccggcgggtcg...</td>\n",
       "      <td>0.844356</td>\n",
       "      <td>0.222337</td>\n",
       "      <td>-0.525205</td>\n",
       "      <td>4.245996</td>\n",
       "      <td>1</td>\n",
       "    </tr>\n",
       "    <tr>\n",
       "      <th>1063</th>\n",
       "      <td>chr1</td>\n",
       "      <td>+</td>\n",
       "      <td>27726012-27726101</td>\n",
       "      <td>ENST00000419687</td>\n",
       "      <td>27725996-27761473</td>\n",
       "      <td>rs899932152</td>\n",
       "      <td>27726014</td>\n",
       "      <td>27726015</td>\n",
       "      <td>G</td>\n",
       "      <td>A</td>\n",
       "      <td>GTGCCTCAGACTGTCAGATAAATCGGcgggccgggccggcgggtcg...</td>\n",
       "      <td>GTACCTCAGACTGTCAGATAAATCGGcgggccgggccggcgggtcg...</td>\n",
       "      <td>0.844356</td>\n",
       "      <td>0.222337</td>\n",
       "      <td>-0.525205</td>\n",
       "      <td>4.245996</td>\n",
       "      <td>1</td>\n",
       "    </tr>\n",
       "    <tr>\n",
       "      <th>...</th>\n",
       "      <td>...</td>\n",
       "      <td>...</td>\n",
       "      <td>...</td>\n",
       "      <td>...</td>\n",
       "      <td>...</td>\n",
       "      <td>...</td>\n",
       "      <td>...</td>\n",
       "      <td>...</td>\n",
       "      <td>...</td>\n",
       "      <td>...</td>\n",
       "      <td>...</td>\n",
       "      <td>...</td>\n",
       "      <td>...</td>\n",
       "      <td>...</td>\n",
       "      <td>...</td>\n",
       "      <td>...</td>\n",
       "      <td>...</td>\n",
       "    </tr>\n",
       "    <tr>\n",
       "      <th>7600</th>\n",
       "      <td>chrY</td>\n",
       "      <td>-</td>\n",
       "      <td>19484840-19484929</td>\n",
       "      <td>ENST00000441139</td>\n",
       "      <td>19455431-19503153</td>\n",
       "      <td>rs2045065728</td>\n",
       "      <td>19484855</td>\n",
       "      <td>19484856</td>\n",
       "      <td>G</td>\n",
       "      <td>A</td>\n",
       "      <td>CAGTGCTTCCAGGCCGTCAATCTGATAAGCCAATTTGCATCCACCT...</td>\n",
       "      <td>CAGTGCTTCCAGGCCATCAATCTGATAAGCCAATTTGCATCCACCT...</td>\n",
       "      <td>0.367663</td>\n",
       "      <td>0.909937</td>\n",
       "      <td>0.493435</td>\n",
       "      <td>-4.119065</td>\n",
       "      <td>1</td>\n",
       "    </tr>\n",
       "    <tr>\n",
       "      <th>7603</th>\n",
       "      <td>chrY</td>\n",
       "      <td>-</td>\n",
       "      <td>19484840-19484929</td>\n",
       "      <td>ENST00000513194</td>\n",
       "      <td>19456585-19484884</td>\n",
       "      <td>rs2045065728</td>\n",
       "      <td>19484855</td>\n",
       "      <td>19484856</td>\n",
       "      <td>G</td>\n",
       "      <td>A</td>\n",
       "      <td>CAGTGCTTCCAGGCCGTCAATCTGATAAGCCAATTTGCATCCACCT...</td>\n",
       "      <td>CAGTGCTTCCAGGCCATCAATCTGATAAGCCAATTTGCATCCACCT...</td>\n",
       "      <td>0.367663</td>\n",
       "      <td>0.909937</td>\n",
       "      <td>0.493435</td>\n",
       "      <td>-4.119065</td>\n",
       "      <td>1</td>\n",
       "    </tr>\n",
       "    <tr>\n",
       "      <th>7606</th>\n",
       "      <td>chrY</td>\n",
       "      <td>-</td>\n",
       "      <td>19484840-19484929</td>\n",
       "      <td>ENST00000650676</td>\n",
       "      <td>19456394-19567092</td>\n",
       "      <td>rs2045065728</td>\n",
       "      <td>19484855</td>\n",
       "      <td>19484856</td>\n",
       "      <td>G</td>\n",
       "      <td>A</td>\n",
       "      <td>CAGTGCTTCCAGGCCGTCAATCTGATAAGCCAATTTGCATCCACCT...</td>\n",
       "      <td>CAGTGCTTCCAGGCCATCAATCTGATAAGCCAATTTGCATCCACCT...</td>\n",
       "      <td>0.367663</td>\n",
       "      <td>0.909937</td>\n",
       "      <td>0.493435</td>\n",
       "      <td>-4.119065</td>\n",
       "      <td>1</td>\n",
       "    </tr>\n",
       "    <tr>\n",
       "      <th>9590</th>\n",
       "      <td>chrY</td>\n",
       "      <td>-</td>\n",
       "      <td>19260831-19260920</td>\n",
       "      <td>ENST00000615809</td>\n",
       "      <td>19253960-19260875</td>\n",
       "      <td>rs2044894623</td>\n",
       "      <td>19260883</td>\n",
       "      <td>19260884</td>\n",
       "      <td>C</td>\n",
       "      <td>T</td>\n",
       "      <td>TATACTACCAGTAAGGGAGTGAGTATAAAAACCAGCAGCAGCAGGA...</td>\n",
       "      <td>TATACTACCAGTAAGGGAGTGAGTATAAAAACCAGCAGCAGCAGGA...</td>\n",
       "      <td>0.063530</td>\n",
       "      <td>0.657990</td>\n",
       "      <td>0.391149</td>\n",
       "      <td>-4.825759</td>\n",
       "      <td>1</td>\n",
       "    </tr>\n",
       "    <tr>\n",
       "      <th>11440</th>\n",
       "      <td>chrY</td>\n",
       "      <td>+</td>\n",
       "      <td>21825396-21825485</td>\n",
       "      <td>ENST00000651708</td>\n",
       "      <td>21825441-21846721</td>\n",
       "      <td>rs2089925561</td>\n",
       "      <td>21825398</td>\n",
       "      <td>21825399</td>\n",
       "      <td>G</td>\n",
       "      <td>A</td>\n",
       "      <td>TCGGCAGTGGTCTCTTGCCTGCCTTATCTGTGGGATCCATGGGATA...</td>\n",
       "      <td>TCAGCAGTGGTCTCTTGCCTGCCTTATCTGTGGGATCCATGGGATA...</td>\n",
       "      <td>0.268795</td>\n",
       "      <td>0.793628</td>\n",
       "      <td>0.416522</td>\n",
       "      <td>-3.386983</td>\n",
       "      <td>1</td>\n",
       "    </tr>\n",
       "  </tbody>\n",
       "</table>\n",
       "<p>594945 rows × 17 columns</p>\n",
       "</div>"
      ],
      "text/plain": [
       "        chr strand  Donor_coordinates Ensemble_Transcript_ID  \\\n",
       "859    chr1      +  27726012-27726101        ENST00000234549   \n",
       "910    chr1      +  27726012-27726101        ENST00000010299   \n",
       "961    chr1      +  27726012-27726101        ENST00000373954   \n",
       "1012   chr1      +  27726012-27726101        ENST00000373949   \n",
       "1063   chr1      +  27726012-27726101        ENST00000419687   \n",
       "...     ...    ...                ...                    ...   \n",
       "7600   chrY      -  19484840-19484929        ENST00000441139   \n",
       "7603   chrY      -  19484840-19484929        ENST00000513194   \n",
       "7606   chrY      -  19484840-19484929        ENST00000650676   \n",
       "9590   chrY      -  19260831-19260920        ENST00000615809   \n",
       "11440  chrY      +  21825396-21825485        ENST00000651708   \n",
       "\n",
       "      Transcript_coordinates      dbsnp_id  varinat_start  variant_end  \\\n",
       "859        27726028-27760581   rs899932152       27726014     27726015   \n",
       "910        27726057-27760581   rs899932152       27726014     27726015   \n",
       "961        27725961-27763116   rs899932152       27726014     27726015   \n",
       "1012       27726028-27761964   rs899932152       27726014     27726015   \n",
       "1063       27725996-27761473   rs899932152       27726014     27726015   \n",
       "...                      ...           ...            ...          ...   \n",
       "7600       19455431-19503153  rs2045065728       19484855     19484856   \n",
       "7603       19456585-19484884  rs2045065728       19484855     19484856   \n",
       "7606       19456394-19567092  rs2045065728       19484855     19484856   \n",
       "9590       19253960-19260875  rs2044894623       19260883     19260884   \n",
       "11440      21825441-21846721  rs2089925561       21825398     21825399   \n",
       "\n",
       "      ref_neucleotide alternative_neucleotide  \\\n",
       "859                 G                       A   \n",
       "910                 G                       A   \n",
       "961                 G                       A   \n",
       "1012                G                       A   \n",
       "1063                G                       A   \n",
       "...               ...                     ...   \n",
       "7600                G                       A   \n",
       "7603                G                       A   \n",
       "7606                G                       A   \n",
       "9590                C                       T   \n",
       "11440               G                       A   \n",
       "\n",
       "                                           reference_seq  \\\n",
       "859    GTGCCTCAGACTGTCAGATAAATCGGcgggccgggccggcgggtcg...   \n",
       "910    GTGCCTCAGACTGTCAGATAAATCGGcgggccgggccggcgggtcg...   \n",
       "961    GTGCCTCAGACTGTCAGATAAATCGGcgggccgggccggcgggtcg...   \n",
       "1012   GTGCCTCAGACTGTCAGATAAATCGGcgggccgggccggcgggtcg...   \n",
       "1063   GTGCCTCAGACTGTCAGATAAATCGGcgggccgggccggcgggtcg...   \n",
       "...                                                  ...   \n",
       "7600   CAGTGCTTCCAGGCCGTCAATCTGATAAGCCAATTTGCATCCACCT...   \n",
       "7603   CAGTGCTTCCAGGCCGTCAATCTGATAAGCCAATTTGCATCCACCT...   \n",
       "7606   CAGTGCTTCCAGGCCGTCAATCTGATAAGCCAATTTGCATCCACCT...   \n",
       "9590   TATACTACCAGTAAGGGAGTGAGTATAAAAACCAGCAGCAGCAGGA...   \n",
       "11440  TCGGCAGTGGTCTCTTGCCTGCCTTATCTGTGGGATCCATGGGATA...   \n",
       "\n",
       "                                                 alt_seq  Ref_probab  \\\n",
       "859    GTACCTCAGACTGTCAGATAAATCGGcgggccgggccggcgggtcg...    0.844356   \n",
       "910    GTACCTCAGACTGTCAGATAAATCGGcgggccgggccggcgggtcg...    0.844356   \n",
       "961    GTACCTCAGACTGTCAGATAAATCGGcgggccgggccggcgggtcg...    0.844356   \n",
       "1012   GTACCTCAGACTGTCAGATAAATCGGcgggccgggccggcgggtcg...    0.844356   \n",
       "1063   GTACCTCAGACTGTCAGATAAATCGGcgggccgggccggcgggtcg...    0.844356   \n",
       "...                                                  ...         ...   \n",
       "7600   CAGTGCTTCCAGGCCATCAATCTGATAAGCCAATTTGCATCCACCT...    0.367663   \n",
       "7603   CAGTGCTTCCAGGCCATCAATCTGATAAGCCAATTTGCATCCACCT...    0.367663   \n",
       "7606   CAGTGCTTCCAGGCCATCAATCTGATAAGCCAATTTGCATCCACCT...    0.367663   \n",
       "9590   TATACTACCAGTAAGGGAGTGAGTATAAAAACCAGCAGCAGCAGGA...    0.063530   \n",
       "11440  TCAGCAGTGGTCTCTTGCCTGCCTTATCTGTGGGATCCATGGGATA...    0.268795   \n",
       "\n",
       "       Alt_probab  ScoreChange  LogOddRatio  variant_length  \n",
       "859      0.222337    -0.525205     4.245996               1  \n",
       "910      0.222337    -0.525205     4.245996               1  \n",
       "961      0.222337    -0.525205     4.245996               1  \n",
       "1012     0.222337    -0.525205     4.245996               1  \n",
       "1063     0.222337    -0.525205     4.245996               1  \n",
       "...           ...          ...          ...             ...  \n",
       "7600     0.909937     0.493435    -4.119065               1  \n",
       "7603     0.909937     0.493435    -4.119065               1  \n",
       "7606     0.909937     0.493435    -4.119065               1  \n",
       "9590     0.657990     0.391149    -4.825759               1  \n",
       "11440    0.793628     0.416522    -3.386983               1  \n",
       "\n",
       "[594945 rows x 17 columns]"
      ]
     },
     "execution_count": 55,
     "metadata": {},
     "output_type": "execute_result"
    }
   ],
   "source": [
    "df_selected"
   ]
  },
  {
   "cell_type": "code",
   "execution_count": 56,
   "id": "f5638ad2-5638-4276-aa2e-8a104bdf1792",
   "metadata": {},
   "outputs": [
    {
     "data": {
      "text/plain": [
       "42533"
      ]
     },
     "execution_count": 56,
     "metadata": {},
     "output_type": "execute_result"
    }
   ],
   "source": [
    "len(df_selected['dbsnp_id'].unique())"
   ]
  },
  {
   "cell_type": "code",
   "execution_count": 57,
   "id": "51f7cca7-3de5-410c-bf56-823b8ebd6716",
   "metadata": {},
   "outputs": [
    {
     "data": {
      "text/plain": [
       "30420"
      ]
     },
     "execution_count": 57,
     "metadata": {},
     "output_type": "execute_result"
    }
   ],
   "source": [
    "len(df_selected['Donor_coordinates'].unique())"
   ]
  },
  {
   "cell_type": "code",
   "execution_count": 58,
   "id": "e4b45748-5c56-46e3-a839-658bfea9d241",
   "metadata": {},
   "outputs": [],
   "source": [
    "df_selected.to_csv(output_path+\"/nonTATA_candidates.tsv\", sep= \"\\t\", index=False)\n",
    "# Save to a .tsv file\n",
    "np.savetxt(output_path+\"/Unique_DBSNP_0.05_Percentile.tsv\", df_selected['dbsnp_id'].unique(), delimiter=\"\\t\", fmt='%s')\n",
    "np.savetxt(output_path+\"/Unique_nonTATA_Core_promoter.tsv\", df_selected['Donor_coordinates'].unique(), delimiter=\"\\t\", fmt='%s')"
   ]
  },
  {
   "cell_type": "code",
   "execution_count": 80,
   "id": "5461d610-b764-4995-8965-458d1ebbdef5",
   "metadata": {},
   "outputs": [
    {
     "data": {
      "image/png": "[encoded data removed]",
      "text/plain": [
       "<Figure size 640x480 with 1 Axes>"
      ]
     },
     "metadata": {},
     "output_type": "display_data"
    }
   ],
   "source": [
    "sns.kdeplot(df_interest['LogOddRatio'])\n",
    "plt.show()\n"
   ]
  },
  {
   "cell_type": "code",
   "execution_count": 26,
   "id": "caf100d5-1b3f-4070-86aa-d871db834870",
   "metadata": {},
   "outputs": [
    {
     "data": {
      "text/plain": [
       "array(['GAGTGGAGCACTGTACATACCTGGCTGGATTGAGAATGGTAAGTAATTTGTAATAACATACCTGGCTTGTGCAAAAGCA',\n",
       "       'AGATTTCACCTCTGCAAATATGAGAGATTCTGCAGAAGGTAAGCTTGTGATATTGGCTTGGTCTGAATTGGGTGTGTAT',\n",
       "       'CTGGGTAATGCTGGTCACCAGCCTTGTGGCCCTTCAAGGTATGTCCAAAAGAGCCGTAAGCACCCCAAGCAATGAGGGT',\n",
       "       'CTACTACTACTATTCTGCAAACGAGGAATTCAGACCAGGTAAGTACCCATGCGTCTCATTTTGGAGGAATAGGTTTAAA',\n",
       "       'TCTCTCAGTGGTCGCTATCTGGAGGAGCTTAGCCAAAGGTAAGCTTTATTATGAATTAGCACAGTCAGCTTCACACAGT',\n",
       "       'TCTGACCAGTGCTGCTGTGACGAATCTTTCAGTTACAGGTAAGCAGCTGCCAGGCCATGCACCTGCTGAGCACATGGGA',\n",
       "       'GCTGAAAAATATTATGGCAACAAATGCATTATTCCATGGTAAGATACGTCTCATTATTGGAGTGTGTCTGAACATATAT',\n",
       "       'CAGTATCTGATTTCCACCCAGTCAAAAAAATTGTCCAGGTAAGCACAATATCCCTATTTATTTTCAGTCCTACCTCAAG',\n",
       "       'TTTGAAAACTTGTCTCCAGGAAGTGTTATTATATTCAGGTATGTTAATTGAGCTCAAACTGTTGACTTTACTTATATTT',\n",
       "       'TCACATCCATCAGAGGATTGCTGATCACTCTTACCAAGGTATGTTTTATCACAGTGTTAAAAAGTACTGCTTATCATTT',\n",
       "       'AACCAAATTTATATCTGCTTGGAACAACATGAAATATAGTAAGTATCATGTTTTAAAAATTGTATAAATCCAAAGAAAT',\n",
       "       'ACTTGTTCATGAATTATTTGGAAACAGTTCACAAGTAGGTAAGTTCTGTGGGAAAAATCATAACTATACTTATTTTAAA',\n",
       "       'TCTCGGTATCATCTGCAGAATATGGTACTAATGCAAAGGTAAGCCACATGTAGGGATTACCAGTTCAACAGATGCAAGC',\n",
       "       'AAAAGTCTTCTATGCAAACAGGTGCTGGTTTAAATCAGGTATGTATTTTATACACTGTAAACTGTAATAATTTGTTTCC',\n",
       "       'CACCTCTCTCAACTCTCTCCCTTAAGCACTGGGATCAGGTAAGTTTCCCTTATTGTTTATTTTATTGCACATGCCTTTG',\n",
       "       'AGATCCAAAGGAAGGAGGAGCTACCACCAAAGAGTCAGGTATGTTTTTAACTTAAGCTATGGAGCAACGTAAAAGATAC',\n",
       "       'TAGTAGGACTCTTTAAACCTTTTGTGGAAAGCTATCAGGTATGTAAATTTGGCAAGTTCTCCTTCATGCCCCCCATATC',\n",
       "       'GATCCAAAAGCATCCTTTGAGAATTGTATGAGTTATAGGTAAGTCAACAATTTAAATCAGGACATGACTTAATTCTTGT',\n",
       "       'TCACAGCTAAAGGAGCAGAGGAGACTCTTGGACCTCAGGTAAGCTTCAGGAAGAGGAGCAGGCTTCAAGTCTCACAGTG',\n",
       "       'AAAGCTAAAACCCTGCCACCTCAAAGCAATAATAAGAGGTAAGTCTTGTGGAACTACAGTATGACATTTAAAGCTTTGA',\n",
       "       'ATATTCACCAAGTCTTGACTCAGTCACCTTTTGTGCAGGTAAGCATTGGTGTCTGTTCAGTTGGCCCACAAATCTAGGT',\n",
       "       'GGCATACAGCAGGTGTATTAGCAGGATCTAGAATACGGGTAAGTTATACTTTTTAAAAAAAAAACTTTAAAattattat',\n",
       "       'CTGCGCTTGAACCTGTGCCTGAATACTACCCTAGAcaggttgagtattccctatctgaaatggctaggaccataagtgt',\n",
       "       'ACATCGGCAAACGTCAAAGTCCCAGCTTTCAAATACAGGTCTCTTCCAAAACTTACTCTCACATGATTCATAGGCTCCA',\n",
       "       'CATAATAGACGTGAGGATAAGAGAAGGAGGAAGGCCTACTAGCAATGTCGGCTTCATTTCCCAAACTGTGCTGAGGATA',\n",
       "       'CTAACCATCATATTTAGAACCAGCTGTTTACCAGAGTGGTAAGTTGGATTGTGTTTTATTTTGGTTTTTATTCTTCATT',\n",
       "       'ATATTCAGCTGGAGACCATTCCCTTGAAACTCTCTCAGGTATGCCCTTTCTTCTCAGTGGCATCTACTTACTGTCAAAC',\n",
       "       'ACACATTTTGGTTTTATacacacacacacacacacacacacacacacGAAAGACAAGTGGCAGCTGCAGGGATTGTGCT',\n",
       "       'ATACCATCTGTTGCAGACTGGGGTGCATGACATTTTAGGTAAGTAGCAGATGAAGATTTATGAAGCTGGGCCCTGAGGT',\n",
       "       'aatgtgcttcctactattcaTTGTTGCCCCGTCTCTAGGTAAGTCTTCTGTAATTTACATGCTTGTTGAAAGGATCTGT',\n",
       "       'CCCCCACCTTCTGGGATGTTAGCAGAGCCTTTTAACTGGTAAGTCTCTCCCAGGATGACTCGTAGGAGCCTCTCAGGAT',\n",
       "       'AAAGACTTGTCATTTGATCCATGTTCAAGACCCTTGAGGTATTGTTTCATCATTTCTGTATTGTCTTTCAATAAAGAAA',\n",
       "       'ATCTTTGCTTCAGTGGTTTTCTTTAAAGGCAAGCAAAGGTAAGTAAGCCATAACAAGTGTGCTTGGTTCAGATTTCTTC',\n",
       "       'TATTCAGATCATCGTGTTTGGGGAAGATACTGTGTAAGGTAAGTTTGCAGTCTTGATGCTGATCAATCGCAGGATGCTT',\n",
       "       'AGGAAACCACAATCTCACTGAAAATATACACTATTCAGGTAAGTACTAAGAGGTAAGTTAACCAAGCGCAAGCATGACT'],\n",
       "      dtype=object)"
      ]
     },
     "execution_count": 26,
     "metadata": {},
     "output_type": "execute_result"
    }
   ],
   "source": [
    "df_interest['reference_seq'].unique()"
   ]
  },
  {
   "cell_type": "code",
   "execution_count": 27,
   "id": "0e41685e-4af4-4f14-aeed-efcafdc1d0b7",
   "metadata": {},
   "outputs": [
    {
     "data": {
      "text/plain": [
       "dbsnp_id      ref_neucleotide                 alternative_neucleotide     reference_seq                                                                  \n",
       "rs1057516984  TT                              TTT                         TTTGAAAACTTGTCTCCAGGAAGTGTTATTATATTCAGGTATGTTAATTGAGCTCAAACTGTTGACTTTACTTATATTT     7\n",
       "rs10626387    T                               TCT                         AAAGACTTGTCATTTGATCCATGTTCAAGACCCTTGAGGTATTGTTTCATCATTTCTGTATTGTCTTTCAATAAAGAAA    15\n",
       "rs10668386    .                               TC                          AAAGACTTGTCATTTGATCCATGTTCAAGACCCTTGAGGTATTGTTTCATCATTTCTGTATTGTCTTTCAATAAAGAAA    15\n",
       "rs1158710364  TA                              TATA                        CTAACCATCATATTTAGAACCAGCTGTTTACCAGAGTGGTAAGTTGGATTGTGTTTTATTTTGGTTTTTATTCTTCATT     2\n",
       "rs1172687424  G                               T                           CTACTACTACTATTCTGCAAACGAGGAATTCAGACCAGGTAAGTACCCATGCGTCTCATTTTGGAGGAATAGGTTTAAA     5\n",
       "rs1197477113  .                               AG                          TCTCGGTATCATCTGCAGAATATGGTACTAATGCAAAGGTAAGCCACATGTAGGGATTACCAGTTCAACAGATGCAAGC     6\n",
       "rs1202559184  .                               CG                          TCTCTCAGTGGTCGCTATCTGGAGGAGCTTAGCCAAAGGTAAGCTTTATTATGAATTAGCACAGTCAGCTTCACACAGT     5\n",
       "rs1209017757  .                               A                           AGGAAACCACAATCTCACTGAAAATATACACTATTCAGGTAAGTACTAAGAGGTAAGTTAACCAAGCGCAAGCATGACT     1\n",
       "rs1212185079  TATTAT                          TAT                         GCTGAAAAATATTATGGCAACAAATGCATTATTCCATGGTAAGATACGTCTCATTATTGGAGTGTGTCTGAACATATAT     2\n",
       "rs1230423427  AA                              AAA                         TATTCAGATCATCGTGTTTGGGGAAGATACTGTGTAAGGTAAGTTTGCAGTCTTGATGCTGATCAATCGCAGGATGCTT     1\n",
       "rs1289052837  .                               C                           TCTGACCAGTGCTGCTGTGACGAATCTTTCAGTTACAGGTAAGCAGCTGCCAGGCCATGCACCTGCTGAGCACATGGGA     9\n",
       "rs1297116846  A                               AA                          CACCTCTCTCAACTCTCTCCCTTAAGCACTGGGATCAGGTAAGTTTCCCTTATTGTTTATTTTATTGCACATGCCTTTG    31\n",
       "rs1327345775  CC                              CCC                         GAGTGGAGCACTGTACATACCTGGCTGGATTGAGAATGGTAAGTAATTTGTAATAACATACCTGGCTTGTGCAAAAGCA     2\n",
       "rs1335012081  T                               C                           ATACCATCTGTTGCAGACTGGGGTGCATGACATTTTAGGTAAGTAGCAGATGAAGATTTATGAAGCTGGGCCCTGAGGT     7\n",
       "rs1367360018  .                               TA                          ATATTCAGCTGGAGACCATTCCCTTGAAACTCTCTCAGGTATGCCCTTTCTTCTCAGTGGCATCTACTTACTGTCAAAC     3\n",
       "rs1371540093  A                               AA                          ATATTCACCAAGTCTTGACTCAGTCACCTTTTGTGCAGGTAAGCATTGGTGTCTGTTCAGTTGGCCCACAAATCTAGGT     5\n",
       "rs1373911853  ACA                             ACACA                       GGCATACAGCAGGTGTATTAGCAGGATCTAGAATACGGGTAAGTTATACTTTTTAAAAAAAAAACTTTAAAattattat    12\n",
       "rs1375038646  .                               AA                          ACTTGTTCATGAATTATTTGGAAACAGTTCACAAGTAGGTAAGTTCTGTGGGAAAAATCATAACTATACTTATTTTAAA     6\n",
       "rs1390513841  AAA                             AAAA                        AGATCCAAAGGAAGGAGGAGCTACCACCAAAGAGTCAGGTATGTTTTTAACTTAAGCTATGGAGCAACGTAAAAGATAC     3\n",
       "rs141985486   ACACACACACACACACACACACACACACAC  ACACACACACACACACAC          ACACATTTTGGTTTTATacacacacacacacacacacacacacacacGAAAGACAAGTGGCAGCTGCAGGGATTGTGCT     3\n",
       "rs1436578674  T                               TT                          TAGTAGGACTCTTTAAACCTTTTGTGGAAAGCTATCAGGTATGTAAATTTGGCAAGTTCTCCTTCATGCCCCCCATATC     3\n",
       "rs1438467080  TACTACCCTA                      TA                          CTGCGCTTGAACCTGTGCCTGAATACTACCCTAGAcaggttgagtattccctatctgaaatggctaggaccataagtgt     6\n",
       "rs1445932658  .                               AA                          TCACATCCATCAGAGGATTGCTGATCACTCTTACCAAGGTATGTTTTATCACAGTGTTAAAAAGTACTGCTTATCATTT     5\n",
       "rs1490651176  .                               C                           CAGTATCTGATTTCCACCCAGTCAAAAAAATTGTCCAGGTAAGCACAATATCCCTATTTATTTTCAGTCCTACCTCAAG     5\n",
       "rs1553201305  C                               AA                          aatgtgcttcctactattcaTTGTTGCCCCGTCTCTAGGTAAGTCTTCTGTAATTTACATGCTTGTTGAAAGGATCTGT     2\n",
       "rs1640878857  .                               AA                          ATCTTTGCTTCAGTGGTTTTCTTTAAAGGCAAGCAAAGGTAAGTAAGCCATAACAAGTGTGCTTGGTTCAGATTTCTTC     1\n",
       "rs1640878887  .                               GCC                         ATCTTTGCTTCAGTGGTTTTCTTTAAAGGCAAGCAAAGGTAAGTAAGCCATAACAAGTGTGCTTGGTTCAGATTTCTTC     1\n",
       "rs1640951535  TTTT                            TTTTTT                      CCCCCACCTTCTGGGATGTTAGCAGAGCCTTTTAACTGGTAAGTCTCTCCCAGGATGACTCGTAGGAGCCTCTCAGGAT     2\n",
       "rs1643977254  .                               TTA                         ATATTCACCAAGTCTTGACTCAGTCACCTTTTGTGCAGGTAAGCATTGGTGTCTGTTCAGTTGGCCCACAAATCTAGGT     5\n",
       "rs1645467242  C                               A                           ATACCATCTGTTGCAGACTGGGGTGCATGACATTTTAGGTAAGTAGCAGATGAAGATTTATGAAGCTGGGCCCTGAGGT     7\n",
       "rs1648706534  .                               CT                          TCACAGCTAAAGGAGCAGAGGAGACTCTTGGACCTCAGGTAAGCTTCAGGAAGAGGAGCAGGCTTCAAGTCTCACAGTG     6\n",
       "rs1650105865  .                               TGAGGATGAGTGTGCTGGAAATGGCA  ACATCGGCAAACGTCAAAGTCCCAGCTTTCAAATACAGGTCTCTTCCAAAACTTACTCTCACATGATTCATAGGCTCCA     1\n",
       "rs202034790   TT                              TTTT                        AAAGACTTGTCATTTGATCCATGTTCAAGACCCTTGAGGTATTGTTTCATCATTTCTGTATTGTCTTTCAATAAAGAAA    15\n",
       "rs34979388    TT                              TTT                         aatgtgcttcctactattcaTTGTTGCCCCGTCTCTAGGTAAGTCTTCTGTAATTTACATGCTTGTTGAAAGGATCTGT     2\n",
       "rs35774161    .                               C                           AGATTTCACCTCTGCAAATATGAGAGATTCTGCAGAAGGTAAGCTTGTGATATTGGCTTGGTCTGAATTGGGTGTGTAT    12\n",
       "rs756626403   CCAGGTAAGTACCCA                 CCA                         CTACTACTACTATTCTGCAAACGAGGAATTCAGACCAGGTAAGTACCCATGCGTCTCATTTTGGAGGAATAGGTTTAAA     5\n",
       "rs757433704   T                               A                           CTACTACTACTATTCTGCAAACGAGGAATTCAGACCAGGTAAGTACCCATGCGTCTCATTTTGGAGGAATAGGTTTAAA     5\n",
       "rs759266909   .                               TT                          AAAAGTCTTCTATGCAAACAGGTGCTGGTTTAAATCAGGTATGTATTTTATACACTGTAAACTGTAATAATTTGTTTCC    21\n",
       "rs761296575   T                               TT                          AACCAAATTTATATCTGCTTGGAACAACATGAAATATAGTAAGTATCATGTTTTAAAAATTGTATAAATCCAAAGAAAT     4\n",
       "rs763481129   C                               T                           CTACTACTACTATTCTGCAAACGAGGAATTCAGACCAGGTAAGTACCCATGCGTCTCATTTTGGAGGAATAGGTTTAAA     5\n",
       "rs776835974   A                               AA                          GATCCAAAAGCATCCTTTGAGAATTGTATGAGTTATAGGTAAGTCAACAATTTAAATCAGGACATGACTTAATTCTTGT     4\n",
       "rs781957035   CACCA                           CACCACCA                    CTGGGTAATGCTGGTCACCAGCCTTGTGGCCCTTCAAGGTATGTCCAAAAGAGCCGTAAGCACCCCAAGCAATGAGGGT     5\n",
       "rs887819469   CCACC                           CCACCACC                    AAAGCTAAAACCCTGCCACCTCAAAGCAATAATAAGAGGTAAGTCTTGTGGAACTACAGTATGACATTTAAAGCTTTGA     6\n",
       "dtype: int64"
      ]
     },
     "execution_count": 27,
     "metadata": {},
     "output_type": "execute_result"
    }
   ],
   "source": [
    "df_interest.groupby(['dbsnp_id', 'ref_neucleotide','alternative_neucleotide',  'reference_seq']).size()"
   ]
  },
  {
   "cell_type": "code",
   "execution_count": 28,
   "id": "2c79d417-48ca-4e35-85a2-826b99911098",
   "metadata": {},
   "outputs": [
    {
     "data": {
      "text/plain": [
       "dbsnp_id      ref_neucleotide                 alternative_neucleotide   \n",
       "rs1057516984  TT                              TTT                            7\n",
       "rs10626387    T                               TCT                           15\n",
       "rs10668386    .                               TC                            15\n",
       "rs1158710364  TA                              TATA                           2\n",
       "rs1172687424  G                               T                              5\n",
       "rs1197477113  .                               AG                             6\n",
       "rs1202559184  .                               CG                             5\n",
       "rs1209017757  .                               A                              1\n",
       "rs1212185079  TATTAT                          TAT                            2\n",
       "rs1230423427  AA                              AAA                            1\n",
       "rs1289052837  .                               C                              9\n",
       "rs1297116846  A                               AA                            31\n",
       "rs1327345775  CC                              CCC                            2\n",
       "rs1335012081  T                               C                              7\n",
       "rs1367360018  .                               TA                             3\n",
       "rs1371540093  A                               AA                             5\n",
       "rs1373911853  ACA                             ACACA                         12\n",
       "rs1375038646  .                               AA                             6\n",
       "rs1390513841  AAA                             AAAA                           3\n",
       "rs141985486   ACACACACACACACACACACACACACACAC  ACACACACACACACACAC             3\n",
       "rs1436578674  T                               TT                             3\n",
       "rs1438467080  TACTACCCTA                      TA                             6\n",
       "rs1445932658  .                               AA                             5\n",
       "rs1490651176  .                               C                              5\n",
       "rs1553201305  C                               AA                             2\n",
       "rs1640878857  .                               AA                             1\n",
       "rs1640878887  .                               GCC                            1\n",
       "rs1640951535  TTTT                            TTTTTT                         2\n",
       "rs1643977254  .                               TTA                            5\n",
       "rs1645467242  C                               A                              7\n",
       "rs1648706534  .                               CT                             6\n",
       "rs1650105865  .                               TGAGGATGAGTGTGCTGGAAATGGCA     1\n",
       "rs202034790   TT                              TTTT                          15\n",
       "rs34979388    TT                              TTT                            2\n",
       "rs35774161    .                               C                             12\n",
       "rs756626403   CCAGGTAAGTACCCA                 CCA                            5\n",
       "rs757433704   T                               A                              5\n",
       "rs759266909   .                               TT                            21\n",
       "rs761296575   T                               TT                             4\n",
       "rs763481129   C                               T                              5\n",
       "rs776835974   A                               AA                             4\n",
       "rs781957035   CACCA                           CACCACCA                       5\n",
       "rs887819469   CCACC                           CCACCACC                       6\n",
       "dtype: int64"
      ]
     },
     "execution_count": 28,
     "metadata": {},
     "output_type": "execute_result"
    }
   ],
   "source": [
    "df_interest.groupby(['dbsnp_id', 'ref_neucleotide','alternative_neucleotide']).size()"
   ]
  },
  {
   "cell_type": "code",
   "execution_count": 157,
   "id": "0921c226-e30c-4bef-82f7-79fd59c47676",
   "metadata": {},
   "outputs": [
    {
     "name": "stdout",
     "output_type": "stream",
     "text": [
      "-0.267426781822307 0.7891405811788812\n"
     ]
    },
    {
     "data": {
      "image/png": "[encoded data removed]",
      "text/plain": [
       "<Figure size 640x480 with 1 Axes>"
      ]
     },
     "metadata": {},
     "output_type": "display_data"
    }
   ],
   "source": [
    "import numpy as np\n",
    "import matplotlib.pyplot as plt\n",
    "from scipy.stats import norm\n",
    "from statsmodels.stats.weightstats import ztest\n",
    "\n",
    "# Generate 1000 normally distributed data points\n",
    "mu, sigma = 0, 1 # mean and standard deviation\n",
    "s = np.random.normal(mu, sigma, 1000)\n",
    "\n",
    "# Perform the z test\n",
    "z_score, p_value = ztest(x1= s, value = mu)\n",
    "\n",
    "print(z_score, p_value)\n",
    "\n",
    "# # Generate data and plot the normal distribution\n",
    "x = np.linspace(-4, 4, 1000)\n",
    "y = norm.pdf(x, 0, 1)\n",
    "plt.plot(x, y)\n",
    "\n",
    "# Shade the two-tail regions\n",
    "plt.fill_between(x, 0, y, where=(x <= -abs(z_score)) | (x >= abs(z_score)), color='red', alpha=0.3)\n",
    "\n",
    "# # Mark the observed value\n",
    "plt.axvline(z_score, color='blue', linestyle='--', label=f'Observed z-score = {z_score:.2f}')\n",
    "plt.axvline(-z_score, color='blue', linestyle='--')\n",
    "\n",
    "plt.legend()\n",
    "plt.title('Two-tailed Z-test')\n",
    "plt.xlabel('Z-score')\n",
    "plt.ylabel('Probability density')\n",
    "plt.show()"
   ]
  },
  {
   "cell_type": "code",
   "execution_count": 168,
   "id": "b4d3d1fd-ec42-44fb-8577-8a9114330cd7",
   "metadata": {},
   "outputs": [
    {
     "name": "stdout",
     "output_type": "stream",
     "text": [
      "0.0 1.0\n",
      "1.959963984540054\n",
      "-1.9201628731122704 1.8585445470122721\n"
     ]
    },
    {
     "name": "stderr",
     "output_type": "stream",
     "text": [
      "/tmp/ipykernel_237056/578947367.py:17: UserWarning:\n",
      "\n",
      "\n",
      "\n",
      "`distplot` is a deprecated function and will be removed in seaborn v0.14.0.\n",
      "\n",
      "Please adapt your code to use either `displot` (a figure-level function with\n",
      "similar flexibility) or `kdeplot` (an axes-level function for kernel density plots).\n",
      "\n",
      "For a guide to updating your code to use the new functions, please see\n",
      "https://gist.github.com/mwaskom/de44147ed2974457ad6372750bbe5751\n",
      "\n",
      "\n",
      "/shared/software/anaconda/anaconda3/lib/python3.10/site-packages/seaborn/distributions.py:2511: FutureWarning:\n",
      "\n",
      "\n",
      "\n",
      "`shade` is now deprecated in favor of `fill`; setting `fill=True`.\n",
      "This will become an error in seaborn v0.14.0; please update your code.\n",
      "\n",
      "\n"
     ]
    },
    {
     "data": {
      "image/png": "[encoded data removed]",
      "text/plain": [
       "<Figure size 640x480 with 1 Axes>"
      ]
     },
     "metadata": {},
     "output_type": "display_data"
    }
   ],
   "source": [
    "import pandas as pd\n",
    "import numpy as np\n",
    "import matplotlib.pyplot as plt\n",
    "import seaborn as sns\n",
    "from scipy.stats import norm\n",
    "from statsmodels.stats.weightstats import ztest\n",
    "\n",
    "# Assume we have the following DataFrame\n",
    "df = pd.DataFrame({\n",
    "   'LogOddRatio': np.random.normal(0, 1, 1000)\n",
    "})\n",
    "\n",
    "# Perform the z test\n",
    "z_score, p_value = ztest(x1= df['LogOddRatio'], value =  df['LogOddRatio'].mean())\n",
    "print(z_score, p_value)\n",
    "# Plot the distribution of 'LogOddRatio'\n",
    "sns.distplot(df['LogOddRatio'], hist = False, kde = True, \n",
    "             kde_kws = {'shade': True, 'linewidth': 3})\n",
    "\n",
    "# Get the extreme values for a two tailed test at alpha = 0.05\n",
    "z_critical = norm.ppf(1 - 0.05/2) # two-tailed test at alpha = 0.05\n",
    "\n",
    "\n",
    "print(z_critical)\n",
    "x1, x2 = df['LogOddRatio'].mean() + z_critical*df['LogOddRatio'].std(), df['LogOddRatio'].mean() - z_critical*df['LogOddRatio'].std()\n",
    "print(x2, x1)\n",
    "# Shade the area for the two tailed test\n",
    "plt.axvspan(min(df['LogOddRatio']), x2, alpha=0.3, color='red')\n",
    "plt.axvspan(x1, max(df['LogOddRatio']), alpha=0.3, color='red')\n",
    "\n",
    "plt.title('Distribution of LogOddRatio')\n",
    "plt.show()\n"
   ]
  },
  {
   "cell_type": "code",
   "execution_count": null,
   "id": "ad11ff94-0a0a-4528-88d5-15a2d7aaac16",
   "metadata": {},
   "outputs": [],
   "source": []
  }
 ],
 "metadata": {
  "kernelspec": {
   "display_name": "Python 3 (ipykernel)",
   "language": "python",
   "name": "python3"
  },
  "language_info": {
   "codemirror_mode": {
    "name": "ipython",
    "version": 3
   },
   "file_extension": ".py",
   "mimetype": "text/x-python",
   "name": "python",
   "nbconvert_exporter": "python",
   "pygments_lexer": "ipython3",
   "version": "3.10.11"
  }
 },
 "nbformat": 4,
 "nbformat_minor": 5
}
