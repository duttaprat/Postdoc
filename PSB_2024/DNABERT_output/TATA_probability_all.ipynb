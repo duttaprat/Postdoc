{
 "cells": [
  {
   "cell_type": "code",
   "execution_count": 1,
   "id": "63f40c7b-4e9b-4626-a876-38edcd6b2686",
   "metadata": {},
   "outputs": [],
   "source": [
    "import os, glob\n",
    "import numpy as np\n",
    "import pandas as pd\n",
    "import math\n",
    "from scipy.stats import norm\n",
    "import plotly.graph_objects as go\n",
    "import plotly.express as px\n",
    "import plotly.figure_factory as ff\n",
    "import seaborn as sns\n",
    "import matplotlib.pyplot as plt\n",
    "from scipy import stats\n",
    "from statsmodels.stats.weightstats import ztest"
   ]
  },
  {
   "cell_type": "code",
   "execution_count": 2,
   "id": "7f51a017-a684-4935-9920-bf80a213876e",
   "metadata": {},
   "outputs": [],
   "source": [
    "output_path = \"/data/projects/PSB/Output/TATA\"\n",
    "if not os.path.exists(output_path):\n",
    "    os.makedirs(output_path)"
   ]
  },
  {
   "cell_type": "code",
   "execution_count": 3,
   "id": "db1a15b6-3ae8-4725-9860-442dc53382b2",
   "metadata": {},
   "outputs": [],
   "source": [
    "chr_list = list(range(1, 23)) + ['X', 'Y']"
   ]
  },
  {
   "cell_type": "code",
   "execution_count": 4,
   "id": "52ab422b-6d9f-4615-9896-e2fc47196a07",
   "metadata": {},
   "outputs": [
    {
     "data": {
      "text/plain": [
       "[1,\n",
       " 2,\n",
       " 3,\n",
       " 4,\n",
       " 5,\n",
       " 6,\n",
       " 7,\n",
       " 8,\n",
       " 9,\n",
       " 10,\n",
       " 11,\n",
       " 12,\n",
       " 13,\n",
       " 14,\n",
       " 15,\n",
       " 16,\n",
       " 17,\n",
       " 18,\n",
       " 19,\n",
       " 20,\n",
       " 21,\n",
       " 22,\n",
       " 'X',\n",
       " 'Y']"
      ]
     },
     "execution_count": 4,
     "metadata": {},
     "output_type": "execute_result"
    }
   ],
   "source": [
    "chr_list"
   ]
  },
  {
   "cell_type": "code",
   "execution_count": 5,
   "id": "d0c512c7-f77d-4f25-9659-866eb47116c9",
   "metadata": {},
   "outputs": [],
   "source": [
    "def log_oods_ratio(p1,p2):\n",
    "    term1 = math.log2(p1/(1-p1))\n",
    "    term2 = math.log2(p2/(1-p2))\n",
    "    return (term1-term2)\n",
    "def calculate_diff_probab(p1,p2):\n",
    "    return((p2-p1)*max(p1,p2))"
   ]
  },
  {
   "cell_type": "code",
   "execution_count": 6,
   "id": "927633b9-cb8e-4d5c-b0ee-d5afd2814508",
   "metadata": {},
   "outputs": [
    {
     "name": "stdout",
     "output_type": "stream",
     "text": [
      "1\n",
      "17155560\n",
      "['/data/projects/PSB/DNABERT_data/CoreProm/chr1']\n",
      "(8577780, 12)\n",
      "2\n",
      "21011660\n",
      "['/data/projects/PSB/DNABERT_data/CoreProm/chr2']\n",
      "(10505830, 12)\n",
      "3\n",
      "19096864\n",
      "['/data/projects/PSB/DNABERT_data/CoreProm/chr3']\n",
      "(9548432, 12)\n",
      "4\n",
      "10303162\n",
      "['/data/projects/PSB/DNABERT_data/CoreProm/chr4']\n",
      "(5151581, 12)\n",
      "5\n",
      "11383010\n",
      "['/data/projects/PSB/DNABERT_data/CoreProm/chr5']\n",
      "(5691505, 12)\n",
      "6\n",
      "14330936\n",
      "['/data/projects/PSB/DNABERT_data/CoreProm/chr6']\n",
      "(7165468, 12)\n",
      "7\n",
      "11537934\n",
      "['/data/projects/PSB/DNABERT_data/CoreProm/chr7']\n",
      "(5768967, 12)\n",
      "8\n",
      "13183080\n",
      "['/data/projects/PSB/DNABERT_data/CoreProm/chr8']\n",
      "(6591540, 12)\n",
      "9\n",
      "7532658\n",
      "['/data/projects/PSB/DNABERT_data/CoreProm/chr9']\n",
      "(3766329, 12)\n",
      "10\n",
      "8363644\n",
      "['/data/projects/PSB/DNABERT_data/CoreProm/chr10']\n",
      "(4181822, 12)\n",
      "11\n",
      "16503994\n",
      "['/data/projects/PSB/DNABERT_data/CoreProm/chr11']\n",
      "(8251997, 12)\n",
      "12\n",
      "12433622\n",
      "['/data/projects/PSB/DNABERT_data/CoreProm/chr12']\n",
      "(6216811, 12)\n",
      "13\n",
      "4592298\n",
      "['/data/projects/PSB/DNABERT_data/CoreProm/chr13']\n",
      "(2296149, 12)\n",
      "14\n",
      "10498688\n",
      "['/data/projects/PSB/DNABERT_data/CoreProm/chr14']\n",
      "(5249344, 12)\n",
      "15\n",
      "9359098\n",
      "['/data/projects/PSB/DNABERT_data/CoreProm/chr15']\n",
      "(4679549, 12)\n",
      "16\n",
      "14653488\n",
      "['/data/projects/PSB/DNABERT_data/CoreProm/chr16']\n",
      "(7326744, 12)\n",
      "17\n",
      "16004628\n",
      "['/data/projects/PSB/DNABERT_data/CoreProm/chr17']\n",
      "(8002314, 12)\n",
      "18\n",
      "4685060\n",
      "['/data/projects/PSB/DNABERT_data/CoreProm/chr18']\n",
      "(2342530, 12)\n",
      "19\n",
      "14268866\n",
      "['/data/projects/PSB/DNABERT_data/CoreProm/chr19']\n",
      "(7134433, 12)\n",
      "20\n",
      "9975404\n",
      "['/data/projects/PSB/DNABERT_data/CoreProm/chr20']\n",
      "(4987702, 12)\n",
      "21\n",
      "4001144\n",
      "['/data/projects/PSB/DNABERT_data/CoreProm/chr21']\n",
      "(2000572, 12)\n",
      "22\n",
      "4753292\n",
      "['/data/projects/PSB/DNABERT_data/CoreProm/chr22']\n",
      "(2376646, 12)\n",
      "X\n",
      "5807478\n",
      "['/data/projects/PSB/DNABERT_data/CoreProm/chrX']\n",
      "(2903739, 12)\n",
      "Y\n",
      "35498\n",
      "['/data/projects/PSB/DNABERT_data/CoreProm/chrY']\n",
      "(17749, 12)\n"
     ]
    }
   ],
   "source": [
    "df_dict = {}\n",
    "df_list = []\n",
    "for chr_name in chr_list:\n",
    "    print(chr_name)\n",
    "    base_dir = \"/data/projects/PSB/DNABERT_data/CoreProm/chr\"+str(chr_name)\n",
    "    concat_probab = np.load(base_dir+\"/TATA/Prediction_result/pred_results.npy\")\n",
    "    print(len(concat_probab))\n",
    "    print(base_dir.split())\n",
    "    df = pd.read_csv(base_dir+\"/all_data.tsv\", sep= \"\\t\")\n",
    "    print(df.shape)\n",
    "    Reference_probab = concat_probab[::2]\n",
    "    Alternative_probab = concat_probab[1::2]\n",
    "    df['Ref_probab']=Reference_probab\n",
    "    df['Alt_probab']=Alternative_probab\n",
    "    df['ScoreChange'] = df.apply(lambda row: calculate_diff_probab(row['Ref_probab'], row['Alt_probab']), axis=1)\n",
    "    df['LogOddRatio'] = df.apply(lambda row: log_oods_ratio(row['Ref_probab'], row['Alt_probab']), axis=1)\n",
    "    df_list.append(df)"
   ]
  },
  {
   "cell_type": "code",
   "execution_count": 24,
   "id": "3463e015-6276-4113-801d-9d713d9726b2",
   "metadata": {},
   "outputs": [],
   "source": [
    "concatenated_df = pd.concat(df_list)"
   ]
  },
  {
   "cell_type": "code",
   "execution_count": 25,
   "id": "fa95f309-e8f5-4d60-b14b-b8ddaf1c35a2",
   "metadata": {},
   "outputs": [
    {
     "data": {
      "text/plain": [
       "(130735533, 16)"
      ]
     },
     "execution_count": 25,
     "metadata": {},
     "output_type": "execute_result"
    }
   ],
   "source": [
    "concatenated_df.shape"
   ]
  },
  {
   "cell_type": "code",
   "execution_count": 26,
   "id": "d7da1b60-5c4e-4a40-96db-eb9bca36b119",
   "metadata": {},
   "outputs": [
    {
     "data": {
      "text/html": [
       "<div>\n",
       "<style scoped>\n",
       "    .dataframe tbody tr th:only-of-type {\n",
       "        vertical-align: middle;\n",
       "    }\n",
       "\n",
       "    .dataframe tbody tr th {\n",
       "        vertical-align: top;\n",
       "    }\n",
       "\n",
       "    .dataframe thead th {\n",
       "        text-align: right;\n",
       "    }\n",
       "</style>\n",
       "<table border=\"1\" class=\"dataframe\">\n",
       "  <thead>\n",
       "    <tr style=\"text-align: right;\">\n",
       "      <th></th>\n",
       "      <th>chr</th>\n",
       "      <th>strand</th>\n",
       "      <th>Donor_coordinates</th>\n",
       "      <th>Ensemble_Transcript_ID</th>\n",
       "      <th>Transcript_coordinates</th>\n",
       "      <th>dbsnp_id</th>\n",
       "      <th>varinat_start</th>\n",
       "      <th>variant_end</th>\n",
       "      <th>ref_neucleotide</th>\n",
       "      <th>alternative_neucleotide</th>\n",
       "      <th>reference_seq</th>\n",
       "      <th>alt_seq</th>\n",
       "      <th>Ref_probab</th>\n",
       "      <th>Alt_probab</th>\n",
       "      <th>ScoreChange</th>\n",
       "      <th>LogOddRatio</th>\n",
       "    </tr>\n",
       "  </thead>\n",
       "  <tbody>\n",
       "    <tr>\n",
       "      <th>0</th>\n",
       "      <td>chr1</td>\n",
       "      <td>-</td>\n",
       "      <td>24413681-24413770</td>\n",
       "      <td>ENST00000498488</td>\n",
       "      <td>24391258-24416153</td>\n",
       "      <td>rs1643864567</td>\n",
       "      <td>24413681</td>\n",
       "      <td>24413682</td>\n",
       "      <td>G</td>\n",
       "      <td>A</td>\n",
       "      <td>GTCCCGGCAGCTGAATCTGGCCAGCCCAACCTCCCGGTCGCTATGG...</td>\n",
       "      <td>ATCCCGGCAGCTGAATCTGGCCAGCCCAACCTCCCGGTCGCTATGG...</td>\n",
       "      <td>0.026622</td>\n",
       "      <td>0.099541</td>\n",
       "      <td>0.007258</td>\n",
       "      <td>-2.015008</td>\n",
       "    </tr>\n",
       "    <tr>\n",
       "      <th>1</th>\n",
       "      <td>chr1</td>\n",
       "      <td>-</td>\n",
       "      <td>24413681-24413770</td>\n",
       "      <td>ENST00000498488</td>\n",
       "      <td>24391258-24416153</td>\n",
       "      <td>rs1643864567</td>\n",
       "      <td>24413681</td>\n",
       "      <td>24413682</td>\n",
       "      <td>G</td>\n",
       "      <td>C</td>\n",
       "      <td>GTCCCGGCAGCTGAATCTGGCCAGCCCAACCTCCCGGTCGCTATGG...</td>\n",
       "      <td>CTCCCGGCAGCTGAATCTGGCCAGCCCAACCTCCCGGTCGCTATGG...</td>\n",
       "      <td>0.026622</td>\n",
       "      <td>0.072640</td>\n",
       "      <td>0.003343</td>\n",
       "      <td>-1.518010</td>\n",
       "    </tr>\n",
       "    <tr>\n",
       "      <th>2</th>\n",
       "      <td>chr1</td>\n",
       "      <td>-</td>\n",
       "      <td>24413681-24413770</td>\n",
       "      <td>ENST00000498488</td>\n",
       "      <td>24391258-24416153</td>\n",
       "      <td>rs1643864776</td>\n",
       "      <td>24413684</td>\n",
       "      <td>24413685</td>\n",
       "      <td>C</td>\n",
       "      <td>A</td>\n",
       "      <td>GTCCCGGCAGCTGAATCTGGCCAGCCCAACCTCCCGGTCGCTATGG...</td>\n",
       "      <td>GTCACGGCAGCTGAATCTGGCCAGCCCAACCTCCCGGTCGCTATGG...</td>\n",
       "      <td>0.026622</td>\n",
       "      <td>0.017297</td>\n",
       "      <td>-0.000248</td>\n",
       "      <td>0.635876</td>\n",
       "    </tr>\n",
       "    <tr>\n",
       "      <th>3</th>\n",
       "      <td>chr1</td>\n",
       "      <td>-</td>\n",
       "      <td>24413681-24413770</td>\n",
       "      <td>ENST00000498488</td>\n",
       "      <td>24391258-24416153</td>\n",
       "      <td>rs927682595</td>\n",
       "      <td>24413685</td>\n",
       "      <td>24413686</td>\n",
       "      <td>C</td>\n",
       "      <td>G</td>\n",
       "      <td>GTCCCGGCAGCTGAATCTGGCCAGCCCAACCTCCCGGTCGCTATGG...</td>\n",
       "      <td>GTCCGGGCAGCTGAATCTGGCCAGCCCAACCTCCCGGTCGCTATGG...</td>\n",
       "      <td>0.026622</td>\n",
       "      <td>0.207703</td>\n",
       "      <td>0.037611</td>\n",
       "      <td>-3.260791</td>\n",
       "    </tr>\n",
       "    <tr>\n",
       "      <th>4</th>\n",
       "      <td>chr1</td>\n",
       "      <td>-</td>\n",
       "      <td>24413681-24413770</td>\n",
       "      <td>ENST00000498488</td>\n",
       "      <td>24391258-24416153</td>\n",
       "      <td>rs927682595</td>\n",
       "      <td>24413685</td>\n",
       "      <td>24413686</td>\n",
       "      <td>C</td>\n",
       "      <td>T</td>\n",
       "      <td>GTCCCGGCAGCTGAATCTGGCCAGCCCAACCTCCCGGTCGCTATGG...</td>\n",
       "      <td>GTCCTGGCAGCTGAATCTGGCCAGCCCAACCTCCCGGTCGCTATGG...</td>\n",
       "      <td>0.026622</td>\n",
       "      <td>0.031820</td>\n",
       "      <td>0.000165</td>\n",
       "      <td>-0.265059</td>\n",
       "    </tr>\n",
       "  </tbody>\n",
       "</table>\n",
       "</div>"
      ],
      "text/plain": [
       "    chr strand  Donor_coordinates Ensemble_Transcript_ID  \\\n",
       "0  chr1      -  24413681-24413770        ENST00000498488   \n",
       "1  chr1      -  24413681-24413770        ENST00000498488   \n",
       "2  chr1      -  24413681-24413770        ENST00000498488   \n",
       "3  chr1      -  24413681-24413770        ENST00000498488   \n",
       "4  chr1      -  24413681-24413770        ENST00000498488   \n",
       "\n",
       "  Transcript_coordinates      dbsnp_id  varinat_start  variant_end  \\\n",
       "0      24391258-24416153  rs1643864567       24413681     24413682   \n",
       "1      24391258-24416153  rs1643864567       24413681     24413682   \n",
       "2      24391258-24416153  rs1643864776       24413684     24413685   \n",
       "3      24391258-24416153   rs927682595       24413685     24413686   \n",
       "4      24391258-24416153   rs927682595       24413685     24413686   \n",
       "\n",
       "  ref_neucleotide alternative_neucleotide  \\\n",
       "0               G                       A   \n",
       "1               G                       C   \n",
       "2               C                       A   \n",
       "3               C                       G   \n",
       "4               C                       T   \n",
       "\n",
       "                                       reference_seq  \\\n",
       "0  GTCCCGGCAGCTGAATCTGGCCAGCCCAACCTCCCGGTCGCTATGG...   \n",
       "1  GTCCCGGCAGCTGAATCTGGCCAGCCCAACCTCCCGGTCGCTATGG...   \n",
       "2  GTCCCGGCAGCTGAATCTGGCCAGCCCAACCTCCCGGTCGCTATGG...   \n",
       "3  GTCCCGGCAGCTGAATCTGGCCAGCCCAACCTCCCGGTCGCTATGG...   \n",
       "4  GTCCCGGCAGCTGAATCTGGCCAGCCCAACCTCCCGGTCGCTATGG...   \n",
       "\n",
       "                                             alt_seq  Ref_probab  Alt_probab  \\\n",
       "0  ATCCCGGCAGCTGAATCTGGCCAGCCCAACCTCCCGGTCGCTATGG...    0.026622    0.099541   \n",
       "1  CTCCCGGCAGCTGAATCTGGCCAGCCCAACCTCCCGGTCGCTATGG...    0.026622    0.072640   \n",
       "2  GTCACGGCAGCTGAATCTGGCCAGCCCAACCTCCCGGTCGCTATGG...    0.026622    0.017297   \n",
       "3  GTCCGGGCAGCTGAATCTGGCCAGCCCAACCTCCCGGTCGCTATGG...    0.026622    0.207703   \n",
       "4  GTCCTGGCAGCTGAATCTGGCCAGCCCAACCTCCCGGTCGCTATGG...    0.026622    0.031820   \n",
       "\n",
       "   ScoreChange  LogOddRatio  \n",
       "0     0.007258    -2.015008  \n",
       "1     0.003343    -1.518010  \n",
       "2    -0.000248     0.635876  \n",
       "3     0.037611    -3.260791  \n",
       "4     0.000165    -0.265059  "
      ]
     },
     "execution_count": 26,
     "metadata": {},
     "output_type": "execute_result"
    }
   ],
   "source": [
    "concatenated_df.head()"
   ]
  },
  {
   "cell_type": "code",
   "execution_count": 27,
   "id": "8deb374a-282c-4deb-9019-224c38652241",
   "metadata": {},
   "outputs": [
    {
     "data": {
      "text/plain": [
       "207792"
      ]
     },
     "execution_count": 27,
     "metadata": {},
     "output_type": "execute_result"
    }
   ],
   "source": [
    "len(concatenated_df['Donor_coordinates'].unique())"
   ]
  },
  {
   "cell_type": "code",
   "execution_count": 28,
   "id": "ee694163-4c7b-4913-a954-506d3efddcb6",
   "metadata": {},
   "outputs": [
    {
     "data": {
      "text/html": [
       "<div>\n",
       "<style scoped>\n",
       "    .dataframe tbody tr th:only-of-type {\n",
       "        vertical-align: middle;\n",
       "    }\n",
       "\n",
       "    .dataframe tbody tr th {\n",
       "        vertical-align: top;\n",
       "    }\n",
       "\n",
       "    .dataframe thead th {\n",
       "        text-align: right;\n",
       "    }\n",
       "</style>\n",
       "<table border=\"1\" class=\"dataframe\">\n",
       "  <thead>\n",
       "    <tr style=\"text-align: right;\">\n",
       "      <th></th>\n",
       "      <th>chr</th>\n",
       "      <th>strand</th>\n",
       "      <th>Donor_coordinates</th>\n",
       "      <th>Ensemble_Transcript_ID</th>\n",
       "      <th>Transcript_coordinates</th>\n",
       "      <th>dbsnp_id</th>\n",
       "      <th>varinat_start</th>\n",
       "      <th>variant_end</th>\n",
       "      <th>ref_neucleotide</th>\n",
       "      <th>alternative_neucleotide</th>\n",
       "      <th>reference_seq</th>\n",
       "      <th>alt_seq</th>\n",
       "      <th>Ref_probab</th>\n",
       "      <th>Alt_probab</th>\n",
       "      <th>ScoreChange</th>\n",
       "      <th>LogOddRatio</th>\n",
       "    </tr>\n",
       "  </thead>\n",
       "  <tbody>\n",
       "    <tr>\n",
       "      <th>1275</th>\n",
       "      <td>chr1</td>\n",
       "      <td>-</td>\n",
       "      <td>171652644-171652733</td>\n",
       "      <td>ENST00000037502</td>\n",
       "      <td>171635417-171652688</td>\n",
       "      <td>rs931124801</td>\n",
       "      <td>171652687</td>\n",
       "      <td>171652688</td>\n",
       "      <td>C</td>\n",
       "      <td>A</td>\n",
       "      <td>TCTGCTGTGCTGAGAGGTGCCTGGATGGGTGGCCTTGCTGGCTCAT...</td>\n",
       "      <td>TCTGCTGTGCTGAGAGGTGCCTGGATGGGTGGCCTTGCTGGCTAAT...</td>\n",
       "      <td>0.999701</td>\n",
       "      <td>0.013452</td>\n",
       "      <td>-0.985954</td>\n",
       "      <td>17.903774</td>\n",
       "    </tr>\n",
       "    <tr>\n",
       "      <th>3561</th>\n",
       "      <td>chr1</td>\n",
       "      <td>-</td>\n",
       "      <td>53945655-53945744</td>\n",
       "      <td>ENST00000194214</td>\n",
       "      <td>53921561-53945699</td>\n",
       "      <td>rs1447674588</td>\n",
       "      <td>53945658</td>\n",
       "      <td>53945659</td>\n",
       "      <td>G</td>\n",
       "      <td>A</td>\n",
       "      <td>GCCGCGGCCTCCGTGGAGTCCGGGGTCGCGCGCGCTCCAACTCTGA...</td>\n",
       "      <td>GCCACGGCCTCCGTGGAGTCCGGGGTCGCGCGCGCTCCAACTCTGA...</td>\n",
       "      <td>0.758328</td>\n",
       "      <td>0.332869</td>\n",
       "      <td>-0.322638</td>\n",
       "      <td>2.652787</td>\n",
       "    </tr>\n",
       "    <tr>\n",
       "      <th>3564</th>\n",
       "      <td>chr1</td>\n",
       "      <td>-</td>\n",
       "      <td>53945655-53945744</td>\n",
       "      <td>ENST00000194214</td>\n",
       "      <td>53921561-53945699</td>\n",
       "      <td>rs1265927870</td>\n",
       "      <td>53945665</td>\n",
       "      <td>53945666</td>\n",
       "      <td>C</td>\n",
       "      <td>T</td>\n",
       "      <td>GCCGCGGCCTCCGTGGAGTCCGGGGTCGCGCGCGCTCCAACTCTGA...</td>\n",
       "      <td>GCCGCGGCCTTCGTGGAGTCCGGGGTCGCGCGCGCTCCAACTCTGA...</td>\n",
       "      <td>0.758328</td>\n",
       "      <td>0.486270</td>\n",
       "      <td>-0.206309</td>\n",
       "      <td>1.729026</td>\n",
       "    </tr>\n",
       "    <tr>\n",
       "      <th>3565</th>\n",
       "      <td>chr1</td>\n",
       "      <td>-</td>\n",
       "      <td>53945655-53945744</td>\n",
       "      <td>ENST00000194214</td>\n",
       "      <td>53921561-53945699</td>\n",
       "      <td>rs551209799</td>\n",
       "      <td>53945667</td>\n",
       "      <td>53945668</td>\n",
       "      <td>G</td>\n",
       "      <td>A</td>\n",
       "      <td>GCCGCGGCCTCCGTGGAGTCCGGGGTCGCGCGCGCTCCAACTCTGA...</td>\n",
       "      <td>GCCGCGGCCTCCATGGAGTCCGGGGTCGCGCGCGCTCCAACTCTGA...</td>\n",
       "      <td>0.758328</td>\n",
       "      <td>0.368232</td>\n",
       "      <td>-0.295821</td>\n",
       "      <td>2.428555</td>\n",
       "    </tr>\n",
       "    <tr>\n",
       "      <th>3568</th>\n",
       "      <td>chr1</td>\n",
       "      <td>-</td>\n",
       "      <td>53945655-53945744</td>\n",
       "      <td>ENST00000194214</td>\n",
       "      <td>53921561-53945699</td>\n",
       "      <td>rs1462348969</td>\n",
       "      <td>53945670</td>\n",
       "      <td>53945671</td>\n",
       "      <td>G</td>\n",
       "      <td>A</td>\n",
       "      <td>GCCGCGGCCTCCGTGGAGTCCGGGGTCGCGCGCGCTCCAACTCTGA...</td>\n",
       "      <td>GCCGCGGCCTCCGTGAAGTCCGGGGTCGCGCGCGCTCCAACTCTGA...</td>\n",
       "      <td>0.758328</td>\n",
       "      <td>0.004605</td>\n",
       "      <td>-0.571570</td>\n",
       "      <td>9.405620</td>\n",
       "    </tr>\n",
       "    <tr>\n",
       "      <th>...</th>\n",
       "      <td>...</td>\n",
       "      <td>...</td>\n",
       "      <td>...</td>\n",
       "      <td>...</td>\n",
       "      <td>...</td>\n",
       "      <td>...</td>\n",
       "      <td>...</td>\n",
       "      <td>...</td>\n",
       "      <td>...</td>\n",
       "      <td>...</td>\n",
       "      <td>...</td>\n",
       "      <td>...</td>\n",
       "      <td>...</td>\n",
       "      <td>...</td>\n",
       "      <td>...</td>\n",
       "      <td>...</td>\n",
       "    </tr>\n",
       "    <tr>\n",
       "      <th>17073</th>\n",
       "      <td>chrY</td>\n",
       "      <td>-</td>\n",
       "      <td>13336085-13336174</td>\n",
       "      <td>ENST00000684226</td>\n",
       "      <td>13234580-13359787</td>\n",
       "      <td>rs746016160</td>\n",
       "      <td>13336165</td>\n",
       "      <td>13336166</td>\n",
       "      <td>T</td>\n",
       "      <td>C</td>\n",
       "      <td>ATCTATTTTTTGAAGGCTTGCTCTCTTTGGTAAACATAATGCCTTG...</td>\n",
       "      <td>ATCTATTTTTTGAAGGCTTGCTCTCTTTGGTAAACATAATGCCTTG...</td>\n",
       "      <td>0.256852</td>\n",
       "      <td>0.525057</td>\n",
       "      <td>0.140823</td>\n",
       "      <td>-1.677429</td>\n",
       "    </tr>\n",
       "    <tr>\n",
       "      <th>17077</th>\n",
       "      <td>chrY</td>\n",
       "      <td>-</td>\n",
       "      <td>13336085-13336174</td>\n",
       "      <td>ENST00000682761</td>\n",
       "      <td>13234599-13336129</td>\n",
       "      <td>rs758077547</td>\n",
       "      <td>13336119</td>\n",
       "      <td>13336120</td>\n",
       "      <td>C</td>\n",
       "      <td>T</td>\n",
       "      <td>ATCTATTTTTTGAAGGCTTGCTCTCTTTGGTAAACATAATGCCTTG...</td>\n",
       "      <td>ATCTATTTTTTGAAGGCTTGCTCTCTTTGGTAAATATAATGCCTTG...</td>\n",
       "      <td>0.256852</td>\n",
       "      <td>0.544665</td>\n",
       "      <td>0.156762</td>\n",
       "      <td>-1.791152</td>\n",
       "    </tr>\n",
       "    <tr>\n",
       "      <th>17080</th>\n",
       "      <td>chrY</td>\n",
       "      <td>-</td>\n",
       "      <td>13336085-13336174</td>\n",
       "      <td>ENST00000682761</td>\n",
       "      <td>13234599-13336129</td>\n",
       "      <td>rs746016160</td>\n",
       "      <td>13336165</td>\n",
       "      <td>13336166</td>\n",
       "      <td>T</td>\n",
       "      <td>C</td>\n",
       "      <td>ATCTATTTTTTGAAGGCTTGCTCTCTTTGGTAAACATAATGCCTTG...</td>\n",
       "      <td>ATCTATTTTTTGAAGGCTTGCTCTCTTTGGTAAACATAATGCCTTG...</td>\n",
       "      <td>0.256852</td>\n",
       "      <td>0.525057</td>\n",
       "      <td>0.140823</td>\n",
       "      <td>-1.677429</td>\n",
       "    </tr>\n",
       "    <tr>\n",
       "      <th>17084</th>\n",
       "      <td>chrY</td>\n",
       "      <td>-</td>\n",
       "      <td>13336085-13336174</td>\n",
       "      <td>ENST00000682913</td>\n",
       "      <td>13249856-13479665</td>\n",
       "      <td>rs758077547</td>\n",
       "      <td>13336119</td>\n",
       "      <td>13336120</td>\n",
       "      <td>C</td>\n",
       "      <td>T</td>\n",
       "      <td>ATCTATTTTTTGAAGGCTTGCTCTCTTTGGTAAACATAATGCCTTG...</td>\n",
       "      <td>ATCTATTTTTTGAAGGCTTGCTCTCTTTGGTAAATATAATGCCTTG...</td>\n",
       "      <td>0.256852</td>\n",
       "      <td>0.544665</td>\n",
       "      <td>0.156762</td>\n",
       "      <td>-1.791152</td>\n",
       "    </tr>\n",
       "    <tr>\n",
       "      <th>17087</th>\n",
       "      <td>chrY</td>\n",
       "      <td>-</td>\n",
       "      <td>13336085-13336174</td>\n",
       "      <td>ENST00000682913</td>\n",
       "      <td>13249856-13479665</td>\n",
       "      <td>rs746016160</td>\n",
       "      <td>13336165</td>\n",
       "      <td>13336166</td>\n",
       "      <td>T</td>\n",
       "      <td>C</td>\n",
       "      <td>ATCTATTTTTTGAAGGCTTGCTCTCTTTGGTAAACATAATGCCTTG...</td>\n",
       "      <td>ATCTATTTTTTGAAGGCTTGCTCTCTTTGGTAAACATAATGCCTTG...</td>\n",
       "      <td>0.256852</td>\n",
       "      <td>0.525057</td>\n",
       "      <td>0.140823</td>\n",
       "      <td>-1.677429</td>\n",
       "    </tr>\n",
       "  </tbody>\n",
       "</table>\n",
       "<p>10035766 rows × 16 columns</p>\n",
       "</div>"
      ],
      "text/plain": [
       "        chr strand    Donor_coordinates Ensemble_Transcript_ID  \\\n",
       "1275   chr1      -  171652644-171652733        ENST00000037502   \n",
       "3561   chr1      -    53945655-53945744        ENST00000194214   \n",
       "3564   chr1      -    53945655-53945744        ENST00000194214   \n",
       "3565   chr1      -    53945655-53945744        ENST00000194214   \n",
       "3568   chr1      -    53945655-53945744        ENST00000194214   \n",
       "...     ...    ...                  ...                    ...   \n",
       "17073  chrY      -    13336085-13336174        ENST00000684226   \n",
       "17077  chrY      -    13336085-13336174        ENST00000682761   \n",
       "17080  chrY      -    13336085-13336174        ENST00000682761   \n",
       "17084  chrY      -    13336085-13336174        ENST00000682913   \n",
       "17087  chrY      -    13336085-13336174        ENST00000682913   \n",
       "\n",
       "      Transcript_coordinates      dbsnp_id  varinat_start  variant_end  \\\n",
       "1275     171635417-171652688   rs931124801      171652687    171652688   \n",
       "3561       53921561-53945699  rs1447674588       53945658     53945659   \n",
       "3564       53921561-53945699  rs1265927870       53945665     53945666   \n",
       "3565       53921561-53945699   rs551209799       53945667     53945668   \n",
       "3568       53921561-53945699  rs1462348969       53945670     53945671   \n",
       "...                      ...           ...            ...          ...   \n",
       "17073      13234580-13359787   rs746016160       13336165     13336166   \n",
       "17077      13234599-13336129   rs758077547       13336119     13336120   \n",
       "17080      13234599-13336129   rs746016160       13336165     13336166   \n",
       "17084      13249856-13479665   rs758077547       13336119     13336120   \n",
       "17087      13249856-13479665   rs746016160       13336165     13336166   \n",
       "\n",
       "      ref_neucleotide alternative_neucleotide  \\\n",
       "1275                C                       A   \n",
       "3561                G                       A   \n",
       "3564                C                       T   \n",
       "3565                G                       A   \n",
       "3568                G                       A   \n",
       "...               ...                     ...   \n",
       "17073               T                       C   \n",
       "17077               C                       T   \n",
       "17080               T                       C   \n",
       "17084               C                       T   \n",
       "17087               T                       C   \n",
       "\n",
       "                                           reference_seq  \\\n",
       "1275   TCTGCTGTGCTGAGAGGTGCCTGGATGGGTGGCCTTGCTGGCTCAT...   \n",
       "3561   GCCGCGGCCTCCGTGGAGTCCGGGGTCGCGCGCGCTCCAACTCTGA...   \n",
       "3564   GCCGCGGCCTCCGTGGAGTCCGGGGTCGCGCGCGCTCCAACTCTGA...   \n",
       "3565   GCCGCGGCCTCCGTGGAGTCCGGGGTCGCGCGCGCTCCAACTCTGA...   \n",
       "3568   GCCGCGGCCTCCGTGGAGTCCGGGGTCGCGCGCGCTCCAACTCTGA...   \n",
       "...                                                  ...   \n",
       "17073  ATCTATTTTTTGAAGGCTTGCTCTCTTTGGTAAACATAATGCCTTG...   \n",
       "17077  ATCTATTTTTTGAAGGCTTGCTCTCTTTGGTAAACATAATGCCTTG...   \n",
       "17080  ATCTATTTTTTGAAGGCTTGCTCTCTTTGGTAAACATAATGCCTTG...   \n",
       "17084  ATCTATTTTTTGAAGGCTTGCTCTCTTTGGTAAACATAATGCCTTG...   \n",
       "17087  ATCTATTTTTTGAAGGCTTGCTCTCTTTGGTAAACATAATGCCTTG...   \n",
       "\n",
       "                                                 alt_seq  Ref_probab  \\\n",
       "1275   TCTGCTGTGCTGAGAGGTGCCTGGATGGGTGGCCTTGCTGGCTAAT...    0.999701   \n",
       "3561   GCCACGGCCTCCGTGGAGTCCGGGGTCGCGCGCGCTCCAACTCTGA...    0.758328   \n",
       "3564   GCCGCGGCCTTCGTGGAGTCCGGGGTCGCGCGCGCTCCAACTCTGA...    0.758328   \n",
       "3565   GCCGCGGCCTCCATGGAGTCCGGGGTCGCGCGCGCTCCAACTCTGA...    0.758328   \n",
       "3568   GCCGCGGCCTCCGTGAAGTCCGGGGTCGCGCGCGCTCCAACTCTGA...    0.758328   \n",
       "...                                                  ...         ...   \n",
       "17073  ATCTATTTTTTGAAGGCTTGCTCTCTTTGGTAAACATAATGCCTTG...    0.256852   \n",
       "17077  ATCTATTTTTTGAAGGCTTGCTCTCTTTGGTAAATATAATGCCTTG...    0.256852   \n",
       "17080  ATCTATTTTTTGAAGGCTTGCTCTCTTTGGTAAACATAATGCCTTG...    0.256852   \n",
       "17084  ATCTATTTTTTGAAGGCTTGCTCTCTTTGGTAAATATAATGCCTTG...    0.256852   \n",
       "17087  ATCTATTTTTTGAAGGCTTGCTCTCTTTGGTAAACATAATGCCTTG...    0.256852   \n",
       "\n",
       "       Alt_probab  ScoreChange  LogOddRatio  \n",
       "1275     0.013452    -0.985954    17.903774  \n",
       "3561     0.332869    -0.322638     2.652787  \n",
       "3564     0.486270    -0.206309     1.729026  \n",
       "3565     0.368232    -0.295821     2.428555  \n",
       "3568     0.004605    -0.571570     9.405620  \n",
       "...           ...          ...          ...  \n",
       "17073    0.525057     0.140823    -1.677429  \n",
       "17077    0.544665     0.156762    -1.791152  \n",
       "17080    0.525057     0.140823    -1.677429  \n",
       "17084    0.544665     0.156762    -1.791152  \n",
       "17087    0.525057     0.140823    -1.677429  \n",
       "\n",
       "[10035766 rows x 16 columns]"
      ]
     },
     "execution_count": 28,
     "metadata": {},
     "output_type": "execute_result"
    }
   ],
   "source": [
    "#df_interest = df_interest[((df_interest['Ref_probab']>0.5) & (df_interest['Alt_probab']<0.5))|((df_interest['Ref_probab']<0.5) & (df_interest['Alt_probab']>0.5))]\n",
    "# df_interest = concatenated_df[(concatenated_df['Ref_probab']>0.5)|(concatenated_df['Alt_probab']>0.5)]\n",
    "# df_interest\n",
    "filtered_df1 = concatenated_df[(concatenated_df['Ref_probab'] > 0.5) & (concatenated_df['Alt_probab'] < 0.5)]\n",
    "filtered_df2 = concatenated_df[(concatenated_df['Ref_probab'] < 0.5) & (concatenated_df['Alt_probab'] > 0.5)]\n",
    "df_interest = pd.concat([filtered_df1, filtered_df2])\n",
    "df_interest"
   ]
  },
  {
   "cell_type": "code",
   "execution_count": 29,
   "id": "c19ccc9b-46f1-4983-9b96-af4fd6cc6bdc",
   "metadata": {},
   "outputs": [
    {
     "data": {
      "application/vnd.plotly.v1+json": {
       "config": {
        "plotlyServerURL": "https://plot.ly"
       },
       "data": [
        {
         "name": "Histogram",
         "type": "bar",
         "width": [
          1.5086597290434725,
          1.508659729043469,
          1.5086597290434725,
          1.5086597290434725,
          1.508659729043469,
          1.5086597290434725,
          1.5086597290434725,
          1.5086597290434725,
          1.508659729043469,
          1.5086597290434725,
          1.5086597290434725,
          1.508659729043469,
          1.5086597290434725,
          1.5086597290434725,
          1.508659729043469,
          1.5086597290434725,
          1.5086597290434725,
          1.508659729043469,
          1.5086597290434725,
          1.5086597290434725,
          1.508659729043469,
          1.508659729043476,
          1.5086597290434653,
          1.5086597290434725,
          1.5086597290434725,
          1.5086597290434725,
          1.5086597290434725,
          1.5086597290434725,
          1.5086597290434653,
          1.5086597290434725,
          1.5086597290434725,
          1.5086597290434725,
          1.5086597290434725,
          1.5086597290434725,
          1.5086597290434725,
          1.5086597290434653,
          1.5086597290434725,
          1.5086597290434725,
          1.5086597290434725,
          1.5086597290434725
         ],
         "x": [
          -29.36608338564919,
          -27.857423656605718,
          -26.34876392756225,
          -24.840104198518777,
          -23.331444469475308,
          -21.822784740431835,
          -20.314125011388363,
          -18.80546528234489,
          -17.296805553301418,
          -15.788145824257949,
          -14.279486095214477,
          -12.770826366171006,
          -11.262166637127535,
          -9.753506908084063,
          -8.244847179040592,
          -6.7361874499971215,
          -5.227527720953649,
          -3.7188679919101784,
          -2.2102082628667077,
          -0.7015485338232352,
          0.8071111952202354,
          2.315770924263708,
          3.8244306533071786,
          5.3330903823506475,
          6.84175011139412,
          8.350409840437592,
          9.859069569481065,
          11.367729298524537,
          12.876389027568006,
          14.385048756611475,
          15.893708485654948,
          17.40236821469842,
          18.911027943741892,
          20.419687672785365,
          21.928347401828837,
          23.437007130872306,
          24.945666859915775,
          26.454326588959248,
          27.96298631800272,
          29.471646047046193
         ],
         "y": [
          489,
          3659,
          9133,
          14045,
          30027,
          31463,
          40171,
          54931,
          70179,
          105200,
          145746,
          179678,
          223138,
          276494,
          366926,
          450562,
          597344,
          748484,
          849741,
          587404,
          700960,
          1031857,
          882868,
          727071,
          481909,
          347016,
          279648,
          211207,
          163722,
          122983,
          100065,
          64352,
          42956,
          31529,
          24590,
          16011,
          12788,
          6242,
          2722,
          456
         ]
        },
        {
         "mode": "text",
         "text": [
          "489"
         ],
         "type": "scatter",
         "x": [
          -29.36608338564919
         ],
         "y": [
          489
         ]
        },
        {
         "mode": "text",
         "text": [
          "3659"
         ],
         "type": "scatter",
         "x": [
          -27.857423656605718
         ],
         "y": [
          3659
         ]
        },
        {
         "mode": "text",
         "text": [
          "9133"
         ],
         "type": "scatter",
         "x": [
          -26.34876392756225
         ],
         "y": [
          9133
         ]
        },
        {
         "mode": "text",
         "text": [
          "14045"
         ],
         "type": "scatter",
         "x": [
          -24.840104198518777
         ],
         "y": [
          14045
         ]
        },
        {
         "mode": "text",
         "text": [
          "30027"
         ],
         "type": "scatter",
         "x": [
          -23.331444469475308
         ],
         "y": [
          30027
         ]
        },
        {
         "mode": "text",
         "text": [
          "31463"
         ],
         "type": "scatter",
         "x": [
          -21.822784740431835
         ],
         "y": [
          31463
         ]
        },
        {
         "mode": "text",
         "text": [
          "40171"
         ],
         "type": "scatter",
         "x": [
          -20.314125011388363
         ],
         "y": [
          40171
         ]
        },
        {
         "mode": "text",
         "text": [
          "54931"
         ],
         "type": "scatter",
         "x": [
          -18.80546528234489
         ],
         "y": [
          54931
         ]
        },
        {
         "mode": "text",
         "text": [
          "70179"
         ],
         "type": "scatter",
         "x": [
          -17.296805553301418
         ],
         "y": [
          70179
         ]
        },
        {
         "mode": "text",
         "text": [
          "105200"
         ],
         "type": "scatter",
         "x": [
          -15.788145824257949
         ],
         "y": [
          105200
         ]
        },
        {
         "mode": "text",
         "text": [
          "145746"
         ],
         "type": "scatter",
         "x": [
          -14.279486095214477
         ],
         "y": [
          145746
         ]
        },
        {
         "mode": "text",
         "text": [
          "179678"
         ],
         "type": "scatter",
         "x": [
          -12.770826366171006
         ],
         "y": [
          179678
         ]
        },
        {
         "mode": "text",
         "text": [
          "223138"
         ],
         "type": "scatter",
         "x": [
          -11.262166637127535
         ],
         "y": [
          223138
         ]
        },
        {
         "mode": "text",
         "text": [
          "276494"
         ],
         "type": "scatter",
         "x": [
          -9.753506908084063
         ],
         "y": [
          276494
         ]
        },
        {
         "mode": "text",
         "text": [
          "366926"
         ],
         "type": "scatter",
         "x": [
          -8.244847179040592
         ],
         "y": [
          366926
         ]
        },
        {
         "mode": "text",
         "text": [
          "450562"
         ],
         "type": "scatter",
         "x": [
          -6.7361874499971215
         ],
         "y": [
          450562
         ]
        },
        {
         "mode": "text",
         "text": [
          "597344"
         ],
         "type": "scatter",
         "x": [
          -5.227527720953649
         ],
         "y": [
          597344
         ]
        },
        {
         "mode": "text",
         "text": [
          "748484"
         ],
         "type": "scatter",
         "x": [
          -3.7188679919101784
         ],
         "y": [
          748484
         ]
        },
        {
         "mode": "text",
         "text": [
          "849741"
         ],
         "type": "scatter",
         "x": [
          -2.2102082628667077
         ],
         "y": [
          849741
         ]
        },
        {
         "mode": "text",
         "text": [
          "587404"
         ],
         "type": "scatter",
         "x": [
          -0.7015485338232352
         ],
         "y": [
          587404
         ]
        },
        {
         "mode": "text",
         "text": [
          "700960"
         ],
         "type": "scatter",
         "x": [
          0.8071111952202354
         ],
         "y": [
          700960
         ]
        },
        {
         "mode": "text",
         "text": [
          "1031857"
         ],
         "type": "scatter",
         "x": [
          2.315770924263708
         ],
         "y": [
          1031857
         ]
        },
        {
         "mode": "text",
         "text": [
          "882868"
         ],
         "type": "scatter",
         "x": [
          3.8244306533071786
         ],
         "y": [
          882868
         ]
        },
        {
         "mode": "text",
         "text": [
          "727071"
         ],
         "type": "scatter",
         "x": [
          5.3330903823506475
         ],
         "y": [
          727071
         ]
        },
        {
         "mode": "text",
         "text": [
          "481909"
         ],
         "type": "scatter",
         "x": [
          6.84175011139412
         ],
         "y": [
          481909
         ]
        },
        {
         "mode": "text",
         "text": [
          "347016"
         ],
         "type": "scatter",
         "x": [
          8.350409840437592
         ],
         "y": [
          347016
         ]
        },
        {
         "mode": "text",
         "text": [
          "279648"
         ],
         "type": "scatter",
         "x": [
          9.859069569481065
         ],
         "y": [
          279648
         ]
        },
        {
         "mode": "text",
         "text": [
          "211207"
         ],
         "type": "scatter",
         "x": [
          11.367729298524537
         ],
         "y": [
          211207
         ]
        },
        {
         "mode": "text",
         "text": [
          "163722"
         ],
         "type": "scatter",
         "x": [
          12.876389027568006
         ],
         "y": [
          163722
         ]
        },
        {
         "mode": "text",
         "text": [
          "122983"
         ],
         "type": "scatter",
         "x": [
          14.385048756611475
         ],
         "y": [
          122983
         ]
        },
        {
         "mode": "text",
         "text": [
          "100065"
         ],
         "type": "scatter",
         "x": [
          15.893708485654948
         ],
         "y": [
          100065
         ]
        },
        {
         "mode": "text",
         "text": [
          "64352"
         ],
         "type": "scatter",
         "x": [
          17.40236821469842
         ],
         "y": [
          64352
         ]
        },
        {
         "mode": "text",
         "text": [
          "42956"
         ],
         "type": "scatter",
         "x": [
          18.911027943741892
         ],
         "y": [
          42956
         ]
        },
        {
         "mode": "text",
         "text": [
          "31529"
         ],
         "type": "scatter",
         "x": [
          20.419687672785365
         ],
         "y": [
          31529
         ]
        },
        {
         "mode": "text",
         "text": [
          "24590"
         ],
         "type": "scatter",
         "x": [
          21.928347401828837
         ],
         "y": [
          24590
         ]
        },
        {
         "mode": "text",
         "text": [
          "16011"
         ],
         "type": "scatter",
         "x": [
          23.437007130872306
         ],
         "y": [
          16011
         ]
        },
        {
         "mode": "text",
         "text": [
          "12788"
         ],
         "type": "scatter",
         "x": [
          24.945666859915775
         ],
         "y": [
          12788
         ]
        },
        {
         "mode": "text",
         "text": [
          "6242"
         ],
         "type": "scatter",
         "x": [
          26.454326588959248
         ],
         "y": [
          6242
         ]
        },
        {
         "mode": "text",
         "text": [
          "2722"
         ],
         "type": "scatter",
         "x": [
          27.96298631800272
         ],
         "y": [
          2722
         ]
        },
        {
         "mode": "text",
         "text": [
          "456"
         ],
         "type": "scatter",
         "x": [
          29.471646047046193
         ],
         "y": [
          456
         ]
        }
       ],
       "layout": {
        "autosize": true,
        "template": {
         "data": {
          "bar": [
           {
            "error_x": {
             "color": "#2a3f5f"
            },
            "error_y": {
             "color": "#2a3f5f"
            },
            "marker": {
             "line": {
              "color": "#E5ECF6",
              "width": 0.5
             },
             "pattern": {
              "fillmode": "overlay",
              "size": 10,
              "solidity": 0.2
             }
            },
            "type": "bar"
           }
          ],
          "barpolar": [
           {
            "marker": {
             "line": {
              "color": "#E5ECF6",
              "width": 0.5
             },
             "pattern": {
              "fillmode": "overlay",
              "size": 10,
              "solidity": 0.2
             }
            },
            "type": "barpolar"
           }
          ],
          "carpet": [
           {
            "aaxis": {
             "endlinecolor": "#2a3f5f",
             "gridcolor": "white",
             "linecolor": "white",
             "minorgridcolor": "white",
             "startlinecolor": "#2a3f5f"
            },
            "baxis": {
             "endlinecolor": "#2a3f5f",
             "gridcolor": "white",
             "linecolor": "white",
             "minorgridcolor": "white",
             "startlinecolor": "#2a3f5f"
            },
            "type": "carpet"
           }
          ],
          "choropleth": [
           {
            "colorbar": {
             "outlinewidth": 0,
             "ticks": ""
            },
            "type": "choropleth"
           }
          ],
          "contour": [
           {
            "colorbar": {
             "outlinewidth": 0,
             "ticks": ""
            },
            "colorscale": [
             [
              0,
              "#0d0887"
             ],
             [
              0.1111111111111111,
              "#46039f"
             ],
             [
              0.2222222222222222,
              "#7201a8"
             ],
             [
              0.3333333333333333,
              "#9c179e"
             ],
             [
              0.4444444444444444,
              "#bd3786"
             ],
             [
              0.5555555555555556,
              "#d8576b"
             ],
             [
              0.6666666666666666,
              "#ed7953"
             ],
             [
              0.7777777777777778,
              "#fb9f3a"
             ],
             [
              0.8888888888888888,
              "#fdca26"
             ],
             [
              1,
              "#f0f921"
             ]
            ],
            "type": "contour"
           }
          ],
          "contourcarpet": [
           {
            "colorbar": {
             "outlinewidth": 0,
             "ticks": ""
            },
            "type": "contourcarpet"
           }
          ],
          "heatmap": [
           {
            "colorbar": {
             "outlinewidth": 0,
             "ticks": ""
            },
            "colorscale": [
             [
              0,
              "#0d0887"
             ],
             [
              0.1111111111111111,
              "#46039f"
             ],
             [
              0.2222222222222222,
              "#7201a8"
             ],
             [
              0.3333333333333333,
              "#9c179e"
             ],
             [
              0.4444444444444444,
              "#bd3786"
             ],
             [
              0.5555555555555556,
              "#d8576b"
             ],
             [
              0.6666666666666666,
              "#ed7953"
             ],
             [
              0.7777777777777778,
              "#fb9f3a"
             ],
             [
              0.8888888888888888,
              "#fdca26"
             ],
             [
              1,
              "#f0f921"
             ]
            ],
            "type": "heatmap"
           }
          ],
          "heatmapgl": [
           {
            "colorbar": {
             "outlinewidth": 0,
             "ticks": ""
            },
            "colorscale": [
             [
              0,
              "#0d0887"
             ],
             [
              0.1111111111111111,
              "#46039f"
             ],
             [
              0.2222222222222222,
              "#7201a8"
             ],
             [
              0.3333333333333333,
              "#9c179e"
             ],
             [
              0.4444444444444444,
              "#bd3786"
             ],
             [
              0.5555555555555556,
              "#d8576b"
             ],
             [
              0.6666666666666666,
              "#ed7953"
             ],
             [
              0.7777777777777778,
              "#fb9f3a"
             ],
             [
              0.8888888888888888,
              "#fdca26"
             ],
             [
              1,
              "#f0f921"
             ]
            ],
            "type": "heatmapgl"
           }
          ],
          "histogram": [
           {
            "marker": {
             "pattern": {
              "fillmode": "overlay",
              "size": 10,
              "solidity": 0.2
             }
            },
            "type": "histogram"
           }
          ],
          "histogram2d": [
           {
            "colorbar": {
             "outlinewidth": 0,
             "ticks": ""
            },
            "colorscale": [
             [
              0,
              "#0d0887"
             ],
             [
              0.1111111111111111,
              "#46039f"
             ],
             [
              0.2222222222222222,
              "#7201a8"
             ],
             [
              0.3333333333333333,
              "#9c179e"
             ],
             [
              0.4444444444444444,
              "#bd3786"
             ],
             [
              0.5555555555555556,
              "#d8576b"
             ],
             [
              0.6666666666666666,
              "#ed7953"
             ],
             [
              0.7777777777777778,
              "#fb9f3a"
             ],
             [
              0.8888888888888888,
              "#fdca26"
             ],
             [
              1,
              "#f0f921"
             ]
            ],
            "type": "histogram2d"
           }
          ],
          "histogram2dcontour": [
           {
            "colorbar": {
             "outlinewidth": 0,
             "ticks": ""
            },
            "colorscale": [
             [
              0,
              "#0d0887"
             ],
             [
              0.1111111111111111,
              "#46039f"
             ],
             [
              0.2222222222222222,
              "#7201a8"
             ],
             [
              0.3333333333333333,
              "#9c179e"
             ],
             [
              0.4444444444444444,
              "#bd3786"
             ],
             [
              0.5555555555555556,
              "#d8576b"
             ],
             [
              0.6666666666666666,
              "#ed7953"
             ],
             [
              0.7777777777777778,
              "#fb9f3a"
             ],
             [
              0.8888888888888888,
              "#fdca26"
             ],
             [
              1,
              "#f0f921"
             ]
            ],
            "type": "histogram2dcontour"
           }
          ],
          "mesh3d": [
           {
            "colorbar": {
             "outlinewidth": 0,
             "ticks": ""
            },
            "type": "mesh3d"
           }
          ],
          "parcoords": [
           {
            "line": {
             "colorbar": {
              "outlinewidth": 0,
              "ticks": ""
             }
            },
            "type": "parcoords"
           }
          ],
          "pie": [
           {
            "automargin": true,
            "type": "pie"
           }
          ],
          "scatter": [
           {
            "fillpattern": {
             "fillmode": "overlay",
             "size": 10,
             "solidity": 0.2
            },
            "type": "scatter"
           }
          ],
          "scatter3d": [
           {
            "line": {
             "colorbar": {
              "outlinewidth": 0,
              "ticks": ""
             }
            },
            "marker": {
             "colorbar": {
              "outlinewidth": 0,
              "ticks": ""
             }
            },
            "type": "scatter3d"
           }
          ],
          "scattercarpet": [
           {
            "marker": {
             "colorbar": {
              "outlinewidth": 0,
              "ticks": ""
             }
            },
            "type": "scattercarpet"
           }
          ],
          "scattergeo": [
           {
            "marker": {
             "colorbar": {
              "outlinewidth": 0,
              "ticks": ""
             }
            },
            "type": "scattergeo"
           }
          ],
          "scattergl": [
           {
            "marker": {
             "colorbar": {
              "outlinewidth": 0,
              "ticks": ""
             }
            },
            "type": "scattergl"
           }
          ],
          "scattermapbox": [
           {
            "marker": {
             "colorbar": {
              "outlinewidth": 0,
              "ticks": ""
             }
            },
            "type": "scattermapbox"
           }
          ],
          "scatterpolar": [
           {
            "marker": {
             "colorbar": {
              "outlinewidth": 0,
              "ticks": ""
             }
            },
            "type": "scatterpolar"
           }
          ],
          "scatterpolargl": [
           {
            "marker": {
             "colorbar": {
              "outlinewidth": 0,
              "ticks": ""
             }
            },
            "type": "scatterpolargl"
           }
          ],
          "scatterternary": [
           {
            "marker": {
             "colorbar": {
              "outlinewidth": 0,
              "ticks": ""
             }
            },
            "type": "scatterternary"
           }
          ],
          "surface": [
           {
            "colorbar": {
             "outlinewidth": 0,
             "ticks": ""
            },
            "colorscale": [
             [
              0,
              "#0d0887"
             ],
             [
              0.1111111111111111,
              "#46039f"
             ],
             [
              0.2222222222222222,
              "#7201a8"
             ],
             [
              0.3333333333333333,
              "#9c179e"
             ],
             [
              0.4444444444444444,
              "#bd3786"
             ],
             [
              0.5555555555555556,
              "#d8576b"
             ],
             [
              0.6666666666666666,
              "#ed7953"
             ],
             [
              0.7777777777777778,
              "#fb9f3a"
             ],
             [
              0.8888888888888888,
              "#fdca26"
             ],
             [
              1,
              "#f0f921"
             ]
            ],
            "type": "surface"
           }
          ],
          "table": [
           {
            "cells": {
             "fill": {
              "color": "#EBF0F8"
             },
             "line": {
              "color": "white"
             }
            },
            "header": {
             "fill": {
              "color": "#C8D4E3"
             },
             "line": {
              "color": "white"
             }
            },
            "type": "table"
           }
          ]
         },
         "layout": {
          "annotationdefaults": {
           "arrowcolor": "#2a3f5f",
           "arrowhead": 0,
           "arrowwidth": 1
          },
          "autotypenumbers": "strict",
          "coloraxis": {
           "colorbar": {
            "outlinewidth": 0,
            "ticks": ""
           }
          },
          "colorscale": {
           "diverging": [
            [
             0,
             "#8e0152"
            ],
            [
             0.1,
             "#c51b7d"
            ],
            [
             0.2,
             "#de77ae"
            ],
            [
             0.3,
             "#f1b6da"
            ],
            [
             0.4,
             "#fde0ef"
            ],
            [
             0.5,
             "#f7f7f7"
            ],
            [
             0.6,
             "#e6f5d0"
            ],
            [
             0.7,
             "#b8e186"
            ],
            [
             0.8,
             "#7fbc41"
            ],
            [
             0.9,
             "#4d9221"
            ],
            [
             1,
             "#276419"
            ]
           ],
           "sequential": [
            [
             0,
             "#0d0887"
            ],
            [
             0.1111111111111111,
             "#46039f"
            ],
            [
             0.2222222222222222,
             "#7201a8"
            ],
            [
             0.3333333333333333,
             "#9c179e"
            ],
            [
             0.4444444444444444,
             "#bd3786"
            ],
            [
             0.5555555555555556,
             "#d8576b"
            ],
            [
             0.6666666666666666,
             "#ed7953"
            ],
            [
             0.7777777777777778,
             "#fb9f3a"
            ],
            [
             0.8888888888888888,
             "#fdca26"
            ],
            [
             1,
             "#f0f921"
            ]
           ],
           "sequentialminus": [
            [
             0,
             "#0d0887"
            ],
            [
             0.1111111111111111,
             "#46039f"
            ],
            [
             0.2222222222222222,
             "#7201a8"
            ],
            [
             0.3333333333333333,
             "#9c179e"
            ],
            [
             0.4444444444444444,
             "#bd3786"
            ],
            [
             0.5555555555555556,
             "#d8576b"
            ],
            [
             0.6666666666666666,
             "#ed7953"
            ],
            [
             0.7777777777777778,
             "#fb9f3a"
            ],
            [
             0.8888888888888888,
             "#fdca26"
            ],
            [
             1,
             "#f0f921"
            ]
           ]
          },
          "colorway": [
           "#636efa",
           "#EF553B",
           "#00cc96",
           "#ab63fa",
           "#FFA15A",
           "#19d3f3",
           "#FF6692",
           "#B6E880",
           "#FF97FF",
           "#FECB52"
          ],
          "font": {
           "color": "#2a3f5f"
          },
          "geo": {
           "bgcolor": "white",
           "lakecolor": "white",
           "landcolor": "#E5ECF6",
           "showlakes": true,
           "showland": true,
           "subunitcolor": "white"
          },
          "hoverlabel": {
           "align": "left"
          },
          "hovermode": "closest",
          "mapbox": {
           "style": "light"
          },
          "paper_bgcolor": "white",
          "plot_bgcolor": "#E5ECF6",
          "polar": {
           "angularaxis": {
            "gridcolor": "white",
            "linecolor": "white",
            "ticks": ""
           },
           "bgcolor": "#E5ECF6",
           "radialaxis": {
            "gridcolor": "white",
            "linecolor": "white",
            "ticks": ""
           }
          },
          "scene": {
           "xaxis": {
            "backgroundcolor": "#E5ECF6",
            "gridcolor": "white",
            "gridwidth": 2,
            "linecolor": "white",
            "showbackground": true,
            "ticks": "",
            "zerolinecolor": "white"
           },
           "yaxis": {
            "backgroundcolor": "#E5ECF6",
            "gridcolor": "white",
            "gridwidth": 2,
            "linecolor": "white",
            "showbackground": true,
            "ticks": "",
            "zerolinecolor": "white"
           },
           "zaxis": {
            "backgroundcolor": "#E5ECF6",
            "gridcolor": "white",
            "gridwidth": 2,
            "linecolor": "white",
            "showbackground": true,
            "ticks": "",
            "zerolinecolor": "white"
           }
          },
          "shapedefaults": {
           "line": {
            "color": "#2a3f5f"
           }
          },
          "ternary": {
           "aaxis": {
            "gridcolor": "white",
            "linecolor": "white",
            "ticks": ""
           },
           "baxis": {
            "gridcolor": "white",
            "linecolor": "white",
            "ticks": ""
           },
           "bgcolor": "#E5ECF6",
           "caxis": {
            "gridcolor": "white",
            "linecolor": "white",
            "ticks": ""
           }
          },
          "title": {
           "x": 0.05
          },
          "xaxis": {
           "automargin": true,
           "gridcolor": "white",
           "linecolor": "white",
           "ticks": "",
           "title": {
            "standoff": 15
           },
           "zerolinecolor": "white",
           "zerolinewidth": 2
          },
          "yaxis": {
           "automargin": true,
           "gridcolor": "white",
           "linecolor": "white",
           "ticks": "",
           "title": {
            "standoff": 15
           },
           "zerolinecolor": "white",
           "zerolinewidth": 2
          }
         }
        },
        "xaxis": {
         "autorange": true,
         "range": [
          -32.634846131910045,
          32.74040879330705
         ],
         "type": "linear"
        },
        "yaxis": {
         "autorange": true,
         "range": [
          -56844.055555555555,
          1089157.0555555555
         ],
         "type": "linear"
        }
       }
      },
      "image/png": "[encoded data removed]",
      "text/html": [
       "<div>                            <div id=\"4f40782c-27be-4ce7-9729-f66508dc232b\" class=\"plotly-graph-div\" style=\"height:525px; width:100%;\"></div>            <script type=\"text/javascript\">                require([\"plotly\"], function(Plotly) {                    window.PLOTLYENV=window.PLOTLYENV || {};                                    if (document.getElementById(\"4f40782c-27be-4ce7-9729-f66508dc232b\")) {                    Plotly.newPlot(                        \"4f40782c-27be-4ce7-9729-f66508dc232b\",                        [{\"name\":\"Histogram\",\"width\":[1.5086597290434725,1.508659729043469,1.5086597290434725,1.5086597290434725,1.508659729043469,1.5086597290434725,1.5086597290434725,1.5086597290434725,1.508659729043469,1.5086597290434725,1.5086597290434725,1.508659729043469,1.5086597290434725,1.5086597290434725,1.508659729043469,1.5086597290434725,1.5086597290434725,1.508659729043469,1.5086597290434725,1.5086597290434725,1.508659729043469,1.508659729043476,1.5086597290434653,1.5086597290434725,1.5086597290434725,1.5086597290434725,1.5086597290434725,1.5086597290434725,1.5086597290434653,1.5086597290434725,1.5086597290434725,1.5086597290434725,1.5086597290434725,1.5086597290434725,1.5086597290434725,1.5086597290434653,1.5086597290434725,1.5086597290434725,1.5086597290434725,1.5086597290434725],\"x\":[-29.36608338564919,-27.857423656605718,-26.34876392756225,-24.840104198518777,-23.331444469475308,-21.822784740431835,-20.314125011388363,-18.80546528234489,-17.296805553301418,-15.788145824257949,-14.279486095214477,-12.770826366171006,-11.262166637127535,-9.753506908084063,-8.244847179040592,-6.7361874499971215,-5.227527720953649,-3.7188679919101784,-2.2102082628667077,-0.7015485338232352,0.8071111952202354,2.315770924263708,3.8244306533071786,5.3330903823506475,6.84175011139412,8.350409840437592,9.859069569481065,11.367729298524537,12.876389027568006,14.385048756611475,15.893708485654948,17.40236821469842,18.911027943741892,20.419687672785365,21.928347401828837,23.437007130872306,24.945666859915775,26.454326588959248,27.96298631800272,29.471646047046193],\"y\":[489,3659,9133,14045,30027,31463,40171,54931,70179,105200,145746,179678,223138,276494,366926,450562,597344,748484,849741,587404,700960,1031857,882868,727071,481909,347016,279648,211207,163722,122983,100065,64352,42956,31529,24590,16011,12788,6242,2722,456],\"type\":\"bar\"},{\"mode\":\"text\",\"text\":[\"489\"],\"x\":[-29.36608338564919],\"y\":[489],\"type\":\"scatter\"},{\"mode\":\"text\",\"text\":[\"3659\"],\"x\":[-27.857423656605718],\"y\":[3659],\"type\":\"scatter\"},{\"mode\":\"text\",\"text\":[\"9133\"],\"x\":[-26.34876392756225],\"y\":[9133],\"type\":\"scatter\"},{\"mode\":\"text\",\"text\":[\"14045\"],\"x\":[-24.840104198518777],\"y\":[14045],\"type\":\"scatter\"},{\"mode\":\"text\",\"text\":[\"30027\"],\"x\":[-23.331444469475308],\"y\":[30027],\"type\":\"scatter\"},{\"mode\":\"text\",\"text\":[\"31463\"],\"x\":[-21.822784740431835],\"y\":[31463],\"type\":\"scatter\"},{\"mode\":\"text\",\"text\":[\"40171\"],\"x\":[-20.314125011388363],\"y\":[40171],\"type\":\"scatter\"},{\"mode\":\"text\",\"text\":[\"54931\"],\"x\":[-18.80546528234489],\"y\":[54931],\"type\":\"scatter\"},{\"mode\":\"text\",\"text\":[\"70179\"],\"x\":[-17.296805553301418],\"y\":[70179],\"type\":\"scatter\"},{\"mode\":\"text\",\"text\":[\"105200\"],\"x\":[-15.788145824257949],\"y\":[105200],\"type\":\"scatter\"},{\"mode\":\"text\",\"text\":[\"145746\"],\"x\":[-14.279486095214477],\"y\":[145746],\"type\":\"scatter\"},{\"mode\":\"text\",\"text\":[\"179678\"],\"x\":[-12.770826366171006],\"y\":[179678],\"type\":\"scatter\"},{\"mode\":\"text\",\"text\":[\"223138\"],\"x\":[-11.262166637127535],\"y\":[223138],\"type\":\"scatter\"},{\"mode\":\"text\",\"text\":[\"276494\"],\"x\":[-9.753506908084063],\"y\":[276494],\"type\":\"scatter\"},{\"mode\":\"text\",\"text\":[\"366926\"],\"x\":[-8.244847179040592],\"y\":[366926],\"type\":\"scatter\"},{\"mode\":\"text\",\"text\":[\"450562\"],\"x\":[-6.7361874499971215],\"y\":[450562],\"type\":\"scatter\"},{\"mode\":\"text\",\"text\":[\"597344\"],\"x\":[-5.227527720953649],\"y\":[597344],\"type\":\"scatter\"},{\"mode\":\"text\",\"text\":[\"748484\"],\"x\":[-3.7188679919101784],\"y\":[748484],\"type\":\"scatter\"},{\"mode\":\"text\",\"text\":[\"849741\"],\"x\":[-2.2102082628667077],\"y\":[849741],\"type\":\"scatter\"},{\"mode\":\"text\",\"text\":[\"587404\"],\"x\":[-0.7015485338232352],\"y\":[587404],\"type\":\"scatter\"},{\"mode\":\"text\",\"text\":[\"700960\"],\"x\":[0.8071111952202354],\"y\":[700960],\"type\":\"scatter\"},{\"mode\":\"text\",\"text\":[\"1031857\"],\"x\":[2.315770924263708],\"y\":[1031857],\"type\":\"scatter\"},{\"mode\":\"text\",\"text\":[\"882868\"],\"x\":[3.8244306533071786],\"y\":[882868],\"type\":\"scatter\"},{\"mode\":\"text\",\"text\":[\"727071\"],\"x\":[5.3330903823506475],\"y\":[727071],\"type\":\"scatter\"},{\"mode\":\"text\",\"text\":[\"481909\"],\"x\":[6.84175011139412],\"y\":[481909],\"type\":\"scatter\"},{\"mode\":\"text\",\"text\":[\"347016\"],\"x\":[8.350409840437592],\"y\":[347016],\"type\":\"scatter\"},{\"mode\":\"text\",\"text\":[\"279648\"],\"x\":[9.859069569481065],\"y\":[279648],\"type\":\"scatter\"},{\"mode\":\"text\",\"text\":[\"211207\"],\"x\":[11.367729298524537],\"y\":[211207],\"type\":\"scatter\"},{\"mode\":\"text\",\"text\":[\"163722\"],\"x\":[12.876389027568006],\"y\":[163722],\"type\":\"scatter\"},{\"mode\":\"text\",\"text\":[\"122983\"],\"x\":[14.385048756611475],\"y\":[122983],\"type\":\"scatter\"},{\"mode\":\"text\",\"text\":[\"100065\"],\"x\":[15.893708485654948],\"y\":[100065],\"type\":\"scatter\"},{\"mode\":\"text\",\"text\":[\"64352\"],\"x\":[17.40236821469842],\"y\":[64352],\"type\":\"scatter\"},{\"mode\":\"text\",\"text\":[\"42956\"],\"x\":[18.911027943741892],\"y\":[42956],\"type\":\"scatter\"},{\"mode\":\"text\",\"text\":[\"31529\"],\"x\":[20.419687672785365],\"y\":[31529],\"type\":\"scatter\"},{\"mode\":\"text\",\"text\":[\"24590\"],\"x\":[21.928347401828837],\"y\":[24590],\"type\":\"scatter\"},{\"mode\":\"text\",\"text\":[\"16011\"],\"x\":[23.437007130872306],\"y\":[16011],\"type\":\"scatter\"},{\"mode\":\"text\",\"text\":[\"12788\"],\"x\":[24.945666859915775],\"y\":[12788],\"type\":\"scatter\"},{\"mode\":\"text\",\"text\":[\"6242\"],\"x\":[26.454326588959248],\"y\":[6242],\"type\":\"scatter\"},{\"mode\":\"text\",\"text\":[\"2722\"],\"x\":[27.96298631800272],\"y\":[2722],\"type\":\"scatter\"},{\"mode\":\"text\",\"text\":[\"456\"],\"x\":[29.471646047046193],\"y\":[456],\"type\":\"scatter\"}],                        {\"template\":{\"data\":{\"histogram2dcontour\":[{\"type\":\"histogram2dcontour\",\"colorbar\":{\"outlinewidth\":0,\"ticks\":\"\"},\"colorscale\":[[0.0,\"#0d0887\"],[0.1111111111111111,\"#46039f\"],[0.2222222222222222,\"#7201a8\"],[0.3333333333333333,\"#9c179e\"],[0.4444444444444444,\"#bd3786\"],[0.5555555555555556,\"#d8576b\"],[0.6666666666666666,\"#ed7953\"],[0.7777777777777778,\"#fb9f3a\"],[0.8888888888888888,\"#fdca26\"],[1.0,\"#f0f921\"]]}],\"choropleth\":[{\"type\":\"choropleth\",\"colorbar\":{\"outlinewidth\":0,\"ticks\":\"\"}}],\"histogram2d\":[{\"type\":\"histogram2d\",\"colorbar\":{\"outlinewidth\":0,\"ticks\":\"\"},\"colorscale\":[[0.0,\"#0d0887\"],[0.1111111111111111,\"#46039f\"],[0.2222222222222222,\"#7201a8\"],[0.3333333333333333,\"#9c179e\"],[0.4444444444444444,\"#bd3786\"],[0.5555555555555556,\"#d8576b\"],[0.6666666666666666,\"#ed7953\"],[0.7777777777777778,\"#fb9f3a\"],[0.8888888888888888,\"#fdca26\"],[1.0,\"#f0f921\"]]}],\"heatmap\":[{\"type\":\"heatmap\",\"colorbar\":{\"outlinewidth\":0,\"ticks\":\"\"},\"colorscale\":[[0.0,\"#0d0887\"],[0.1111111111111111,\"#46039f\"],[0.2222222222222222,\"#7201a8\"],[0.3333333333333333,\"#9c179e\"],[0.4444444444444444,\"#bd3786\"],[0.5555555555555556,\"#d8576b\"],[0.6666666666666666,\"#ed7953\"],[0.7777777777777778,\"#fb9f3a\"],[0.8888888888888888,\"#fdca26\"],[1.0,\"#f0f921\"]]}],\"heatmapgl\":[{\"type\":\"heatmapgl\",\"colorbar\":{\"outlinewidth\":0,\"ticks\":\"\"},\"colorscale\":[[0.0,\"#0d0887\"],[0.1111111111111111,\"#46039f\"],[0.2222222222222222,\"#7201a8\"],[0.3333333333333333,\"#9c179e\"],[0.4444444444444444,\"#bd3786\"],[0.5555555555555556,\"#d8576b\"],[0.6666666666666666,\"#ed7953\"],[0.7777777777777778,\"#fb9f3a\"],[0.8888888888888888,\"#fdca26\"],[1.0,\"#f0f921\"]]}],\"contourcarpet\":[{\"type\":\"contourcarpet\",\"colorbar\":{\"outlinewidth\":0,\"ticks\":\"\"}}],\"contour\":[{\"type\":\"contour\",\"colorbar\":{\"outlinewidth\":0,\"ticks\":\"\"},\"colorscale\":[[0.0,\"#0d0887\"],[0.1111111111111111,\"#46039f\"],[0.2222222222222222,\"#7201a8\"],[0.3333333333333333,\"#9c179e\"],[0.4444444444444444,\"#bd3786\"],[0.5555555555555556,\"#d8576b\"],[0.6666666666666666,\"#ed7953\"],[0.7777777777777778,\"#fb9f3a\"],[0.8888888888888888,\"#fdca26\"],[1.0,\"#f0f921\"]]}],\"surface\":[{\"type\":\"surface\",\"colorbar\":{\"outlinewidth\":0,\"ticks\":\"\"},\"colorscale\":[[0.0,\"#0d0887\"],[0.1111111111111111,\"#46039f\"],[0.2222222222222222,\"#7201a8\"],[0.3333333333333333,\"#9c179e\"],[0.4444444444444444,\"#bd3786\"],[0.5555555555555556,\"#d8576b\"],[0.6666666666666666,\"#ed7953\"],[0.7777777777777778,\"#fb9f3a\"],[0.8888888888888888,\"#fdca26\"],[1.0,\"#f0f921\"]]}],\"mesh3d\":[{\"type\":\"mesh3d\",\"colorbar\":{\"outlinewidth\":0,\"ticks\":\"\"}}],\"scatter\":[{\"fillpattern\":{\"fillmode\":\"overlay\",\"size\":10,\"solidity\":0.2},\"type\":\"scatter\"}],\"parcoords\":[{\"type\":\"parcoords\",\"line\":{\"colorbar\":{\"outlinewidth\":0,\"ticks\":\"\"}}}],\"scatterpolargl\":[{\"type\":\"scatterpolargl\",\"marker\":{\"colorbar\":{\"outlinewidth\":0,\"ticks\":\"\"}}}],\"bar\":[{\"error_x\":{\"color\":\"#2a3f5f\"},\"error_y\":{\"color\":\"#2a3f5f\"},\"marker\":{\"line\":{\"color\":\"#E5ECF6\",\"width\":0.5},\"pattern\":{\"fillmode\":\"overlay\",\"size\":10,\"solidity\":0.2}},\"type\":\"bar\"}],\"scattergeo\":[{\"type\":\"scattergeo\",\"marker\":{\"colorbar\":{\"outlinewidth\":0,\"ticks\":\"\"}}}],\"scatterpolar\":[{\"type\":\"scatterpolar\",\"marker\":{\"colorbar\":{\"outlinewidth\":0,\"ticks\":\"\"}}}],\"histogram\":[{\"marker\":{\"pattern\":{\"fillmode\":\"overlay\",\"size\":10,\"solidity\":0.2}},\"type\":\"histogram\"}],\"scattergl\":[{\"type\":\"scattergl\",\"marker\":{\"colorbar\":{\"outlinewidth\":0,\"ticks\":\"\"}}}],\"scatter3d\":[{\"type\":\"scatter3d\",\"line\":{\"colorbar\":{\"outlinewidth\":0,\"ticks\":\"\"}},\"marker\":{\"colorbar\":{\"outlinewidth\":0,\"ticks\":\"\"}}}],\"scattermapbox\":[{\"type\":\"scattermapbox\",\"marker\":{\"colorbar\":{\"outlinewidth\":0,\"ticks\":\"\"}}}],\"scatterternary\":[{\"type\":\"scatterternary\",\"marker\":{\"colorbar\":{\"outlinewidth\":0,\"ticks\":\"\"}}}],\"scattercarpet\":[{\"type\":\"scattercarpet\",\"marker\":{\"colorbar\":{\"outlinewidth\":0,\"ticks\":\"\"}}}],\"carpet\":[{\"aaxis\":{\"endlinecolor\":\"#2a3f5f\",\"gridcolor\":\"white\",\"linecolor\":\"white\",\"minorgridcolor\":\"white\",\"startlinecolor\":\"#2a3f5f\"},\"baxis\":{\"endlinecolor\":\"#2a3f5f\",\"gridcolor\":\"white\",\"linecolor\":\"white\",\"minorgridcolor\":\"white\",\"startlinecolor\":\"#2a3f5f\"},\"type\":\"carpet\"}],\"table\":[{\"cells\":{\"fill\":{\"color\":\"#EBF0F8\"},\"line\":{\"color\":\"white\"}},\"header\":{\"fill\":{\"color\":\"#C8D4E3\"},\"line\":{\"color\":\"white\"}},\"type\":\"table\"}],\"barpolar\":[{\"marker\":{\"line\":{\"color\":\"#E5ECF6\",\"width\":0.5},\"pattern\":{\"fillmode\":\"overlay\",\"size\":10,\"solidity\":0.2}},\"type\":\"barpolar\"}],\"pie\":[{\"automargin\":true,\"type\":\"pie\"}]},\"layout\":{\"autotypenumbers\":\"strict\",\"colorway\":[\"#636efa\",\"#EF553B\",\"#00cc96\",\"#ab63fa\",\"#FFA15A\",\"#19d3f3\",\"#FF6692\",\"#B6E880\",\"#FF97FF\",\"#FECB52\"],\"font\":{\"color\":\"#2a3f5f\"},\"hovermode\":\"closest\",\"hoverlabel\":{\"align\":\"left\"},\"paper_bgcolor\":\"white\",\"plot_bgcolor\":\"#E5ECF6\",\"polar\":{\"bgcolor\":\"#E5ECF6\",\"angularaxis\":{\"gridcolor\":\"white\",\"linecolor\":\"white\",\"ticks\":\"\"},\"radialaxis\":{\"gridcolor\":\"white\",\"linecolor\":\"white\",\"ticks\":\"\"}},\"ternary\":{\"bgcolor\":\"#E5ECF6\",\"aaxis\":{\"gridcolor\":\"white\",\"linecolor\":\"white\",\"ticks\":\"\"},\"baxis\":{\"gridcolor\":\"white\",\"linecolor\":\"white\",\"ticks\":\"\"},\"caxis\":{\"gridcolor\":\"white\",\"linecolor\":\"white\",\"ticks\":\"\"}},\"coloraxis\":{\"colorbar\":{\"outlinewidth\":0,\"ticks\":\"\"}},\"colorscale\":{\"sequential\":[[0.0,\"#0d0887\"],[0.1111111111111111,\"#46039f\"],[0.2222222222222222,\"#7201a8\"],[0.3333333333333333,\"#9c179e\"],[0.4444444444444444,\"#bd3786\"],[0.5555555555555556,\"#d8576b\"],[0.6666666666666666,\"#ed7953\"],[0.7777777777777778,\"#fb9f3a\"],[0.8888888888888888,\"#fdca26\"],[1.0,\"#f0f921\"]],\"sequentialminus\":[[0.0,\"#0d0887\"],[0.1111111111111111,\"#46039f\"],[0.2222222222222222,\"#7201a8\"],[0.3333333333333333,\"#9c179e\"],[0.4444444444444444,\"#bd3786\"],[0.5555555555555556,\"#d8576b\"],[0.6666666666666666,\"#ed7953\"],[0.7777777777777778,\"#fb9f3a\"],[0.8888888888888888,\"#fdca26\"],[1.0,\"#f0f921\"]],\"diverging\":[[0,\"#8e0152\"],[0.1,\"#c51b7d\"],[0.2,\"#de77ae\"],[0.3,\"#f1b6da\"],[0.4,\"#fde0ef\"],[0.5,\"#f7f7f7\"],[0.6,\"#e6f5d0\"],[0.7,\"#b8e186\"],[0.8,\"#7fbc41\"],[0.9,\"#4d9221\"],[1,\"#276419\"]]},\"xaxis\":{\"gridcolor\":\"white\",\"linecolor\":\"white\",\"ticks\":\"\",\"title\":{\"standoff\":15},\"zerolinecolor\":\"white\",\"automargin\":true,\"zerolinewidth\":2},\"yaxis\":{\"gridcolor\":\"white\",\"linecolor\":\"white\",\"ticks\":\"\",\"title\":{\"standoff\":15},\"zerolinecolor\":\"white\",\"automargin\":true,\"zerolinewidth\":2},\"scene\":{\"xaxis\":{\"backgroundcolor\":\"#E5ECF6\",\"gridcolor\":\"white\",\"linecolor\":\"white\",\"showbackground\":true,\"ticks\":\"\",\"zerolinecolor\":\"white\",\"gridwidth\":2},\"yaxis\":{\"backgroundcolor\":\"#E5ECF6\",\"gridcolor\":\"white\",\"linecolor\":\"white\",\"showbackground\":true,\"ticks\":\"\",\"zerolinecolor\":\"white\",\"gridwidth\":2},\"zaxis\":{\"backgroundcolor\":\"#E5ECF6\",\"gridcolor\":\"white\",\"linecolor\":\"white\",\"showbackground\":true,\"ticks\":\"\",\"zerolinecolor\":\"white\",\"gridwidth\":2}},\"shapedefaults\":{\"line\":{\"color\":\"#2a3f5f\"}},\"annotationdefaults\":{\"arrowcolor\":\"#2a3f5f\",\"arrowhead\":0,\"arrowwidth\":1},\"geo\":{\"bgcolor\":\"white\",\"landcolor\":\"#E5ECF6\",\"subunitcolor\":\"white\",\"showland\":true,\"showlakes\":true,\"lakecolor\":\"white\"},\"title\":{\"x\":0.05},\"mapbox\":{\"style\":\"light\"}}}},                        {\"responsive\": true}                    ).then(function(){\n",
       "                            \n",
       "var gd = document.getElementById('4f40782c-27be-4ce7-9729-f66508dc232b');\n",
       "var x = new MutationObserver(function (mutations, observer) {{\n",
       "        var display = window.getComputedStyle(gd).display;\n",
       "        if (!display || display === 'none') {{\n",
       "            console.log([gd, 'removed!']);\n",
       "            Plotly.purge(gd);\n",
       "            observer.disconnect();\n",
       "        }}\n",
       "}});\n",
       "\n",
       "// Listen for the removal of the full notebook cells\n",
       "var notebookContainer = gd.closest('#notebook-container');\n",
       "if (notebookContainer) {{\n",
       "    x.observe(notebookContainer, {childList: true});\n",
       "}}\n",
       "\n",
       "// Listen for the clearing of the current output cell\n",
       "var outputEl = gd.closest('.output');\n",
       "if (outputEl) {{\n",
       "    x.observe(outputEl, {childList: true});\n",
       "}}\n",
       "\n",
       "                        })                };                });            </script>        </div>"
      ]
     },
     "metadata": {},
     "output_type": "display_data"
    }
   ],
   "source": [
    "# Plot the figure\n",
    "counts, bins = np.histogram(df_interest['LogOddRatio'], bins=40)\n",
    "bin_midpoints = bins[:-1] + np.diff(bins)/2\n",
    "\n",
    "fig = go.Figure()\n",
    "\n",
    "fig.add_trace(go.Bar(\n",
    "    x=bin_midpoints,\n",
    "    y=counts,\n",
    "    width=np.diff(bins), # makes bars have correct widths\n",
    "    name='Histogram'\n",
    "))\n",
    "# add text labels for counts\n",
    "for i in range(len(counts)):\n",
    "    fig.add_trace(go.Scatter(\n",
    "        x=[bin_midpoints[i]],\n",
    "        y=[counts[i]],\n",
    "        text=[str(counts[i])],\n",
    "        mode='text',\n",
    "    ))\n",
    "\n",
    "fig.show()"
   ]
  },
  {
   "cell_type": "code",
   "execution_count": 30,
   "id": "bcdc636d-19b9-419d-b453-50de2ffabe59",
   "metadata": {},
   "outputs": [
    {
     "data": {
      "application/vnd.plotly.v1+json": {
       "config": {
        "plotlyServerURL": "https://plot.ly"
       },
       "data": [
        {
         "name": "Histogram",
         "type": "bar",
         "width": [
          0.049995651958604226,
          0.049995651958604226,
          0.049995651958604115,
          0.049995651958604226,
          0.049995651958604226,
          0.049995651958604226,
          0.049995651958604226,
          0.049995651958604226,
          0.049995651958604226,
          0.049995651958604115,
          0.049995651958604226,
          0.049995651958604226,
          0.049995651958604226,
          0.049995651958604115,
          0.049995651958604226,
          0.049995651958604226,
          0.049995651958604226,
          0.049995651958604226,
          0.049995651958604115,
          0.049995651958604226,
          0.049995651958604226,
          0.049995651958604226,
          0.049995651958604226,
          0.049995651958604226,
          0.049995651958604226,
          0.049995651958604226,
          0.049995651958604004,
          0.049995651958604226,
          0.049995651958604226,
          0.049995651958604226,
          0.049995651958604226,
          0.049995651958604226,
          0.049995651958604226,
          0.049995651958604226,
          0.049995651958604226,
          0.049995651958604226,
          0.049995651958604226,
          0.049995651958604004,
          0.049995651958604226,
          0.049995651958604226
         ],
         "x": [
          -0.9749174871246982,
          -0.9249218351660939,
          -0.8749261832074897,
          -0.8249305312488856,
          -0.7749348792902814,
          -0.7249392273316771,
          -0.6749435753730729,
          -0.6249479234144687,
          -0.5749522714558645,
          -0.5249566194972604,
          -0.47496096753865613,
          -0.4249653155800519,
          -0.3749696636214477,
          -0.3249740116628435,
          -0.27497835970423934,
          -0.2249827077456351,
          -0.1749870557870309,
          -0.12499140382842666,
          -0.07499575186982249,
          -0.02500009991121832,
          0.024995552047385905,
          0.07499120400599013,
          0.12498685596459436,
          0.17498250792319858,
          0.2249781598818028,
          0.27497381184040703,
          0.32496946379901115,
          0.37496511575761526,
          0.4249607677162195,
          0.4749564196748237,
          0.5249520716334279,
          0.5749477235920322,
          0.6249433755506364,
          0.6749390275092406,
          0.7249346794678448,
          0.7749303314264491,
          0.8249259833850533,
          0.8749216353436574,
          0.9249172873022615,
          0.9749129392608658
         ],
         "y": [
          318806,
          169367,
          167280,
          170328,
          177303,
          178057,
          200031,
          219237,
          309114,
          340128,
          277940,
          318297,
          309442,
          337977,
          411387,
          363978,
          337337,
          285183,
          234198,
          126930,
          133863,
          223692,
          256200,
          280876,
          331342,
          385369,
          331247,
          271667,
          240350,
          239632,
          254499,
          216334,
          188978,
          180146,
          167146,
          155112,
          168433,
          173138,
          193988,
          391434
         ]
        },
        {
         "mode": "text",
         "text": [
          "318806"
         ],
         "type": "scatter",
         "x": [
          -0.9749174871246982
         ],
         "y": [
          318806
         ]
        },
        {
         "mode": "text",
         "text": [
          "169367"
         ],
         "type": "scatter",
         "x": [
          -0.9249218351660939
         ],
         "y": [
          169367
         ]
        },
        {
         "mode": "text",
         "text": [
          "167280"
         ],
         "type": "scatter",
         "x": [
          -0.8749261832074897
         ],
         "y": [
          167280
         ]
        },
        {
         "mode": "text",
         "text": [
          "170328"
         ],
         "type": "scatter",
         "x": [
          -0.8249305312488856
         ],
         "y": [
          170328
         ]
        },
        {
         "mode": "text",
         "text": [
          "177303"
         ],
         "type": "scatter",
         "x": [
          -0.7749348792902814
         ],
         "y": [
          177303
         ]
        },
        {
         "mode": "text",
         "text": [
          "178057"
         ],
         "type": "scatter",
         "x": [
          -0.7249392273316771
         ],
         "y": [
          178057
         ]
        },
        {
         "mode": "text",
         "text": [
          "200031"
         ],
         "type": "scatter",
         "x": [
          -0.6749435753730729
         ],
         "y": [
          200031
         ]
        },
        {
         "mode": "text",
         "text": [
          "219237"
         ],
         "type": "scatter",
         "x": [
          -0.6249479234144687
         ],
         "y": [
          219237
         ]
        },
        {
         "mode": "text",
         "text": [
          "309114"
         ],
         "type": "scatter",
         "x": [
          -0.5749522714558645
         ],
         "y": [
          309114
         ]
        },
        {
         "mode": "text",
         "text": [
          "340128"
         ],
         "type": "scatter",
         "x": [
          -0.5249566194972604
         ],
         "y": [
          340128
         ]
        },
        {
         "mode": "text",
         "text": [
          "277940"
         ],
         "type": "scatter",
         "x": [
          -0.47496096753865613
         ],
         "y": [
          277940
         ]
        },
        {
         "mode": "text",
         "text": [
          "318297"
         ],
         "type": "scatter",
         "x": [
          -0.4249653155800519
         ],
         "y": [
          318297
         ]
        },
        {
         "mode": "text",
         "text": [
          "309442"
         ],
         "type": "scatter",
         "x": [
          -0.3749696636214477
         ],
         "y": [
          309442
         ]
        },
        {
         "mode": "text",
         "text": [
          "337977"
         ],
         "type": "scatter",
         "x": [
          -0.3249740116628435
         ],
         "y": [
          337977
         ]
        },
        {
         "mode": "text",
         "text": [
          "411387"
         ],
         "type": "scatter",
         "x": [
          -0.27497835970423934
         ],
         "y": [
          411387
         ]
        },
        {
         "mode": "text",
         "text": [
          "363978"
         ],
         "type": "scatter",
         "x": [
          -0.2249827077456351
         ],
         "y": [
          363978
         ]
        },
        {
         "mode": "text",
         "text": [
          "337337"
         ],
         "type": "scatter",
         "x": [
          -0.1749870557870309
         ],
         "y": [
          337337
         ]
        },
        {
         "mode": "text",
         "text": [
          "285183"
         ],
         "type": "scatter",
         "x": [
          -0.12499140382842666
         ],
         "y": [
          285183
         ]
        },
        {
         "mode": "text",
         "text": [
          "234198"
         ],
         "type": "scatter",
         "x": [
          -0.07499575186982249
         ],
         "y": [
          234198
         ]
        },
        {
         "mode": "text",
         "text": [
          "126930"
         ],
         "type": "scatter",
         "x": [
          -0.02500009991121832
         ],
         "y": [
          126930
         ]
        },
        {
         "mode": "text",
         "text": [
          "133863"
         ],
         "type": "scatter",
         "x": [
          0.024995552047385905
         ],
         "y": [
          133863
         ]
        },
        {
         "mode": "text",
         "text": [
          "223692"
         ],
         "type": "scatter",
         "x": [
          0.07499120400599013
         ],
         "y": [
          223692
         ]
        },
        {
         "mode": "text",
         "text": [
          "256200"
         ],
         "type": "scatter",
         "x": [
          0.12498685596459436
         ],
         "y": [
          256200
         ]
        },
        {
         "mode": "text",
         "text": [
          "280876"
         ],
         "type": "scatter",
         "x": [
          0.17498250792319858
         ],
         "y": [
          280876
         ]
        },
        {
         "mode": "text",
         "text": [
          "331342"
         ],
         "type": "scatter",
         "x": [
          0.2249781598818028
         ],
         "y": [
          331342
         ]
        },
        {
         "mode": "text",
         "text": [
          "385369"
         ],
         "type": "scatter",
         "x": [
          0.27497381184040703
         ],
         "y": [
          385369
         ]
        },
        {
         "mode": "text",
         "text": [
          "331247"
         ],
         "type": "scatter",
         "x": [
          0.32496946379901115
         ],
         "y": [
          331247
         ]
        },
        {
         "mode": "text",
         "text": [
          "271667"
         ],
         "type": "scatter",
         "x": [
          0.37496511575761526
         ],
         "y": [
          271667
         ]
        },
        {
         "mode": "text",
         "text": [
          "240350"
         ],
         "type": "scatter",
         "x": [
          0.4249607677162195
         ],
         "y": [
          240350
         ]
        },
        {
         "mode": "text",
         "text": [
          "239632"
         ],
         "type": "scatter",
         "x": [
          0.4749564196748237
         ],
         "y": [
          239632
         ]
        },
        {
         "mode": "text",
         "text": [
          "254499"
         ],
         "type": "scatter",
         "x": [
          0.5249520716334279
         ],
         "y": [
          254499
         ]
        },
        {
         "mode": "text",
         "text": [
          "216334"
         ],
         "type": "scatter",
         "x": [
          0.5749477235920322
         ],
         "y": [
          216334
         ]
        },
        {
         "mode": "text",
         "text": [
          "188978"
         ],
         "type": "scatter",
         "x": [
          0.6249433755506364
         ],
         "y": [
          188978
         ]
        },
        {
         "mode": "text",
         "text": [
          "180146"
         ],
         "type": "scatter",
         "x": [
          0.6749390275092406
         ],
         "y": [
          180146
         ]
        },
        {
         "mode": "text",
         "text": [
          "167146"
         ],
         "type": "scatter",
         "x": [
          0.7249346794678448
         ],
         "y": [
          167146
         ]
        },
        {
         "mode": "text",
         "text": [
          "155112"
         ],
         "type": "scatter",
         "x": [
          0.7749303314264491
         ],
         "y": [
          155112
         ]
        },
        {
         "mode": "text",
         "text": [
          "168433"
         ],
         "type": "scatter",
         "x": [
          0.8249259833850533
         ],
         "y": [
          168433
         ]
        },
        {
         "mode": "text",
         "text": [
          "173138"
         ],
         "type": "scatter",
         "x": [
          0.8749216353436574
         ],
         "y": [
          173138
         ]
        },
        {
         "mode": "text",
         "text": [
          "193988"
         ],
         "type": "scatter",
         "x": [
          0.9249172873022615
         ],
         "y": [
          193988
         ]
        },
        {
         "mode": "text",
         "text": [
          "391434"
         ],
         "type": "scatter",
         "x": [
          0.9749129392608658
         ],
         "y": [
          391434
         ]
        }
       ],
       "layout": {
        "autosize": true,
        "template": {
         "data": {
          "bar": [
           {
            "error_x": {
             "color": "#2a3f5f"
            },
            "error_y": {
             "color": "#2a3f5f"
            },
            "marker": {
             "line": {
              "color": "#E5ECF6",
              "width": 0.5
             },
             "pattern": {
              "fillmode": "overlay",
              "size": 10,
              "solidity": 0.2
             }
            },
            "type": "bar"
           }
          ],
          "barpolar": [
           {
            "marker": {
             "line": {
              "color": "#E5ECF6",
              "width": 0.5
             },
             "pattern": {
              "fillmode": "overlay",
              "size": 10,
              "solidity": 0.2
             }
            },
            "type": "barpolar"
           }
          ],
          "carpet": [
           {
            "aaxis": {
             "endlinecolor": "#2a3f5f",
             "gridcolor": "white",
             "linecolor": "white",
             "minorgridcolor": "white",
             "startlinecolor": "#2a3f5f"
            },
            "baxis": {
             "endlinecolor": "#2a3f5f",
             "gridcolor": "white",
             "linecolor": "white",
             "minorgridcolor": "white",
             "startlinecolor": "#2a3f5f"
            },
            "type": "carpet"
           }
          ],
          "choropleth": [
           {
            "colorbar": {
             "outlinewidth": 0,
             "ticks": ""
            },
            "type": "choropleth"
           }
          ],
          "contour": [
           {
            "colorbar": {
             "outlinewidth": 0,
             "ticks": ""
            },
            "colorscale": [
             [
              0,
              "#0d0887"
             ],
             [
              0.1111111111111111,
              "#46039f"
             ],
             [
              0.2222222222222222,
              "#7201a8"
             ],
             [
              0.3333333333333333,
              "#9c179e"
             ],
             [
              0.4444444444444444,
              "#bd3786"
             ],
             [
              0.5555555555555556,
              "#d8576b"
             ],
             [
              0.6666666666666666,
              "#ed7953"
             ],
             [
              0.7777777777777778,
              "#fb9f3a"
             ],
             [
              0.8888888888888888,
              "#fdca26"
             ],
             [
              1,
              "#f0f921"
             ]
            ],
            "type": "contour"
           }
          ],
          "contourcarpet": [
           {
            "colorbar": {
             "outlinewidth": 0,
             "ticks": ""
            },
            "type": "contourcarpet"
           }
          ],
          "heatmap": [
           {
            "colorbar": {
             "outlinewidth": 0,
             "ticks": ""
            },
            "colorscale": [
             [
              0,
              "#0d0887"
             ],
             [
              0.1111111111111111,
              "#46039f"
             ],
             [
              0.2222222222222222,
              "#7201a8"
             ],
             [
              0.3333333333333333,
              "#9c179e"
             ],
             [
              0.4444444444444444,
              "#bd3786"
             ],
             [
              0.5555555555555556,
              "#d8576b"
             ],
             [
              0.6666666666666666,
              "#ed7953"
             ],
             [
              0.7777777777777778,
              "#fb9f3a"
             ],
             [
              0.8888888888888888,
              "#fdca26"
             ],
             [
              1,
              "#f0f921"
             ]
            ],
            "type": "heatmap"
           }
          ],
          "heatmapgl": [
           {
            "colorbar": {
             "outlinewidth": 0,
             "ticks": ""
            },
            "colorscale": [
             [
              0,
              "#0d0887"
             ],
             [
              0.1111111111111111,
              "#46039f"
             ],
             [
              0.2222222222222222,
              "#7201a8"
             ],
             [
              0.3333333333333333,
              "#9c179e"
             ],
             [
              0.4444444444444444,
              "#bd3786"
             ],
             [
              0.5555555555555556,
              "#d8576b"
             ],
             [
              0.6666666666666666,
              "#ed7953"
             ],
             [
              0.7777777777777778,
              "#fb9f3a"
             ],
             [
              0.8888888888888888,
              "#fdca26"
             ],
             [
              1,
              "#f0f921"
             ]
            ],
            "type": "heatmapgl"
           }
          ],
          "histogram": [
           {
            "marker": {
             "pattern": {
              "fillmode": "overlay",
              "size": 10,
              "solidity": 0.2
             }
            },
            "type": "histogram"
           }
          ],
          "histogram2d": [
           {
            "colorbar": {
             "outlinewidth": 0,
             "ticks": ""
            },
            "colorscale": [
             [
              0,
              "#0d0887"
             ],
             [
              0.1111111111111111,
              "#46039f"
             ],
             [
              0.2222222222222222,
              "#7201a8"
             ],
             [
              0.3333333333333333,
              "#9c179e"
             ],
             [
              0.4444444444444444,
              "#bd3786"
             ],
             [
              0.5555555555555556,
              "#d8576b"
             ],
             [
              0.6666666666666666,
              "#ed7953"
             ],
             [
              0.7777777777777778,
              "#fb9f3a"
             ],
             [
              0.8888888888888888,
              "#fdca26"
             ],
             [
              1,
              "#f0f921"
             ]
            ],
            "type": "histogram2d"
           }
          ],
          "histogram2dcontour": [
           {
            "colorbar": {
             "outlinewidth": 0,
             "ticks": ""
            },
            "colorscale": [
             [
              0,
              "#0d0887"
             ],
             [
              0.1111111111111111,
              "#46039f"
             ],
             [
              0.2222222222222222,
              "#7201a8"
             ],
             [
              0.3333333333333333,
              "#9c179e"
             ],
             [
              0.4444444444444444,
              "#bd3786"
             ],
             [
              0.5555555555555556,
              "#d8576b"
             ],
             [
              0.6666666666666666,
              "#ed7953"
             ],
             [
              0.7777777777777778,
              "#fb9f3a"
             ],
             [
              0.8888888888888888,
              "#fdca26"
             ],
             [
              1,
              "#f0f921"
             ]
            ],
            "type": "histogram2dcontour"
           }
          ],
          "mesh3d": [
           {
            "colorbar": {
             "outlinewidth": 0,
             "ticks": ""
            },
            "type": "mesh3d"
           }
          ],
          "parcoords": [
           {
            "line": {
             "colorbar": {
              "outlinewidth": 0,
              "ticks": ""
             }
            },
            "type": "parcoords"
           }
          ],
          "pie": [
           {
            "automargin": true,
            "type": "pie"
           }
          ],
          "scatter": [
           {
            "fillpattern": {
             "fillmode": "overlay",
             "size": 10,
             "solidity": 0.2
            },
            "type": "scatter"
           }
          ],
          "scatter3d": [
           {
            "line": {
             "colorbar": {
              "outlinewidth": 0,
              "ticks": ""
             }
            },
            "marker": {
             "colorbar": {
              "outlinewidth": 0,
              "ticks": ""
             }
            },
            "type": "scatter3d"
           }
          ],
          "scattercarpet": [
           {
            "marker": {
             "colorbar": {
              "outlinewidth": 0,
              "ticks": ""
             }
            },
            "type": "scattercarpet"
           }
          ],
          "scattergeo": [
           {
            "marker": {
             "colorbar": {
              "outlinewidth": 0,
              "ticks": ""
             }
            },
            "type": "scattergeo"
           }
          ],
          "scattergl": [
           {
            "marker": {
             "colorbar": {
              "outlinewidth": 0,
              "ticks": ""
             }
            },
            "type": "scattergl"
           }
          ],
          "scattermapbox": [
           {
            "marker": {
             "colorbar": {
              "outlinewidth": 0,
              "ticks": ""
             }
            },
            "type": "scattermapbox"
           }
          ],
          "scatterpolar": [
           {
            "marker": {
             "colorbar": {
              "outlinewidth": 0,
              "ticks": ""
             }
            },
            "type": "scatterpolar"
           }
          ],
          "scatterpolargl": [
           {
            "marker": {
             "colorbar": {
              "outlinewidth": 0,
              "ticks": ""
             }
            },
            "type": "scatterpolargl"
           }
          ],
          "scatterternary": [
           {
            "marker": {
             "colorbar": {
              "outlinewidth": 0,
              "ticks": ""
             }
            },
            "type": "scatterternary"
           }
          ],
          "surface": [
           {
            "colorbar": {
             "outlinewidth": 0,
             "ticks": ""
            },
            "colorscale": [
             [
              0,
              "#0d0887"
             ],
             [
              0.1111111111111111,
              "#46039f"
             ],
             [
              0.2222222222222222,
              "#7201a8"
             ],
             [
              0.3333333333333333,
              "#9c179e"
             ],
             [
              0.4444444444444444,
              "#bd3786"
             ],
             [
              0.5555555555555556,
              "#d8576b"
             ],
             [
              0.6666666666666666,
              "#ed7953"
             ],
             [
              0.7777777777777778,
              "#fb9f3a"
             ],
             [
              0.8888888888888888,
              "#fdca26"
             ],
             [
              1,
              "#f0f921"
             ]
            ],
            "type": "surface"
           }
          ],
          "table": [
           {
            "cells": {
             "fill": {
              "color": "#EBF0F8"
             },
             "line": {
              "color": "white"
             }
            },
            "header": {
             "fill": {
              "color": "#C8D4E3"
             },
             "line": {
              "color": "white"
             }
            },
            "type": "table"
           }
          ]
         },
         "layout": {
          "annotationdefaults": {
           "arrowcolor": "#2a3f5f",
           "arrowhead": 0,
           "arrowwidth": 1
          },
          "autotypenumbers": "strict",
          "coloraxis": {
           "colorbar": {
            "outlinewidth": 0,
            "ticks": ""
           }
          },
          "colorscale": {
           "diverging": [
            [
             0,
             "#8e0152"
            ],
            [
             0.1,
             "#c51b7d"
            ],
            [
             0.2,
             "#de77ae"
            ],
            [
             0.3,
             "#f1b6da"
            ],
            [
             0.4,
             "#fde0ef"
            ],
            [
             0.5,
             "#f7f7f7"
            ],
            [
             0.6,
             "#e6f5d0"
            ],
            [
             0.7,
             "#b8e186"
            ],
            [
             0.8,
             "#7fbc41"
            ],
            [
             0.9,
             "#4d9221"
            ],
            [
             1,
             "#276419"
            ]
           ],
           "sequential": [
            [
             0,
             "#0d0887"
            ],
            [
             0.1111111111111111,
             "#46039f"
            ],
            [
             0.2222222222222222,
             "#7201a8"
            ],
            [
             0.3333333333333333,
             "#9c179e"
            ],
            [
             0.4444444444444444,
             "#bd3786"
            ],
            [
             0.5555555555555556,
             "#d8576b"
            ],
            [
             0.6666666666666666,
             "#ed7953"
            ],
            [
             0.7777777777777778,
             "#fb9f3a"
            ],
            [
             0.8888888888888888,
             "#fdca26"
            ],
            [
             1,
             "#f0f921"
            ]
           ],
           "sequentialminus": [
            [
             0,
             "#0d0887"
            ],
            [
             0.1111111111111111,
             "#46039f"
            ],
            [
             0.2222222222222222,
             "#7201a8"
            ],
            [
             0.3333333333333333,
             "#9c179e"
            ],
            [
             0.4444444444444444,
             "#bd3786"
            ],
            [
             0.5555555555555556,
             "#d8576b"
            ],
            [
             0.6666666666666666,
             "#ed7953"
            ],
            [
             0.7777777777777778,
             "#fb9f3a"
            ],
            [
             0.8888888888888888,
             "#fdca26"
            ],
            [
             1,
             "#f0f921"
            ]
           ]
          },
          "colorway": [
           "#636efa",
           "#EF553B",
           "#00cc96",
           "#ab63fa",
           "#FFA15A",
           "#19d3f3",
           "#FF6692",
           "#B6E880",
           "#FF97FF",
           "#FECB52"
          ],
          "font": {
           "color": "#2a3f5f"
          },
          "geo": {
           "bgcolor": "white",
           "lakecolor": "white",
           "landcolor": "#E5ECF6",
           "showlakes": true,
           "showland": true,
           "subunitcolor": "white"
          },
          "hoverlabel": {
           "align": "left"
          },
          "hovermode": "closest",
          "mapbox": {
           "style": "light"
          },
          "paper_bgcolor": "white",
          "plot_bgcolor": "#E5ECF6",
          "polar": {
           "angularaxis": {
            "gridcolor": "white",
            "linecolor": "white",
            "ticks": ""
           },
           "bgcolor": "#E5ECF6",
           "radialaxis": {
            "gridcolor": "white",
            "linecolor": "white",
            "ticks": ""
           }
          },
          "scene": {
           "xaxis": {
            "backgroundcolor": "#E5ECF6",
            "gridcolor": "white",
            "gridwidth": 2,
            "linecolor": "white",
            "showbackground": true,
            "ticks": "",
            "zerolinecolor": "white"
           },
           "yaxis": {
            "backgroundcolor": "#E5ECF6",
            "gridcolor": "white",
            "gridwidth": 2,
            "linecolor": "white",
            "showbackground": true,
            "ticks": "",
            "zerolinecolor": "white"
           },
           "zaxis": {
            "backgroundcolor": "#E5ECF6",
            "gridcolor": "white",
            "gridwidth": 2,
            "linecolor": "white",
            "showbackground": true,
            "ticks": "",
            "zerolinecolor": "white"
           }
          },
          "shapedefaults": {
           "line": {
            "color": "#2a3f5f"
           }
          },
          "ternary": {
           "aaxis": {
            "gridcolor": "white",
            "linecolor": "white",
            "ticks": ""
           },
           "baxis": {
            "gridcolor": "white",
            "linecolor": "white",
            "ticks": ""
           },
           "bgcolor": "#E5ECF6",
           "caxis": {
            "gridcolor": "white",
            "linecolor": "white",
            "ticks": ""
           }
          },
          "title": {
           "x": 0.05
          },
          "xaxis": {
           "automargin": true,
           "gridcolor": "white",
           "linecolor": "white",
           "ticks": "",
           "title": {
            "standoff": 15
           },
           "zerolinecolor": "white",
           "zerolinewidth": 2
          },
          "yaxis": {
           "automargin": true,
           "gridcolor": "white",
           "linecolor": "white",
           "ticks": "",
           "title": {
            "standoff": 15
           },
           "zerolinecolor": "white",
           "zerolinewidth": 2
          }
         }
        },
        "xaxis": {
         "autorange": true,
         "range": [
          -1.0832413997016739,
          1.0832368518378415
         ],
         "type": "linear"
        },
        "yaxis": {
         "autorange": true,
         "range": [
          0,
          433038.94736842107
         ],
         "type": "linear"
        }
       }
      },
      "image/png": "[encoded data removed]",
      "text/html": [
       "<div>                            <div id=\"ad38f63d-dc59-4469-85ed-1d1f5675339f\" class=\"plotly-graph-div\" style=\"height:525px; width:100%;\"></div>            <script type=\"text/javascript\">                require([\"plotly\"], function(Plotly) {                    window.PLOTLYENV=window.PLOTLYENV || {};                                    if (document.getElementById(\"ad38f63d-dc59-4469-85ed-1d1f5675339f\")) {                    Plotly.newPlot(                        \"ad38f63d-dc59-4469-85ed-1d1f5675339f\",                        [{\"name\":\"Histogram\",\"width\":[0.049995651958604226,0.049995651958604226,0.049995651958604115,0.049995651958604226,0.049995651958604226,0.049995651958604226,0.049995651958604226,0.049995651958604226,0.049995651958604226,0.049995651958604115,0.049995651958604226,0.049995651958604226,0.049995651958604226,0.049995651958604115,0.049995651958604226,0.049995651958604226,0.049995651958604226,0.049995651958604226,0.049995651958604115,0.049995651958604226,0.049995651958604226,0.049995651958604226,0.049995651958604226,0.049995651958604226,0.049995651958604226,0.049995651958604226,0.049995651958604004,0.049995651958604226,0.049995651958604226,0.049995651958604226,0.049995651958604226,0.049995651958604226,0.049995651958604226,0.049995651958604226,0.049995651958604226,0.049995651958604226,0.049995651958604226,0.049995651958604004,0.049995651958604226,0.049995651958604226],\"x\":[-0.9749174871246982,-0.9249218351660939,-0.8749261832074897,-0.8249305312488856,-0.7749348792902814,-0.7249392273316771,-0.6749435753730729,-0.6249479234144687,-0.5749522714558645,-0.5249566194972604,-0.47496096753865613,-0.4249653155800519,-0.3749696636214477,-0.3249740116628435,-0.27497835970423934,-0.2249827077456351,-0.1749870557870309,-0.12499140382842666,-0.07499575186982249,-0.02500009991121832,0.024995552047385905,0.07499120400599013,0.12498685596459436,0.17498250792319858,0.2249781598818028,0.27497381184040703,0.32496946379901115,0.37496511575761526,0.4249607677162195,0.4749564196748237,0.5249520716334279,0.5749477235920322,0.6249433755506364,0.6749390275092406,0.7249346794678448,0.7749303314264491,0.8249259833850533,0.8749216353436574,0.9249172873022615,0.9749129392608658],\"y\":[318806,169367,167280,170328,177303,178057,200031,219237,309114,340128,277940,318297,309442,337977,411387,363978,337337,285183,234198,126930,133863,223692,256200,280876,331342,385369,331247,271667,240350,239632,254499,216334,188978,180146,167146,155112,168433,173138,193988,391434],\"type\":\"bar\"},{\"mode\":\"text\",\"text\":[\"318806\"],\"x\":[-0.9749174871246982],\"y\":[318806],\"type\":\"scatter\"},{\"mode\":\"text\",\"text\":[\"169367\"],\"x\":[-0.9249218351660939],\"y\":[169367],\"type\":\"scatter\"},{\"mode\":\"text\",\"text\":[\"167280\"],\"x\":[-0.8749261832074897],\"y\":[167280],\"type\":\"scatter\"},{\"mode\":\"text\",\"text\":[\"170328\"],\"x\":[-0.8249305312488856],\"y\":[170328],\"type\":\"scatter\"},{\"mode\":\"text\",\"text\":[\"177303\"],\"x\":[-0.7749348792902814],\"y\":[177303],\"type\":\"scatter\"},{\"mode\":\"text\",\"text\":[\"178057\"],\"x\":[-0.7249392273316771],\"y\":[178057],\"type\":\"scatter\"},{\"mode\":\"text\",\"text\":[\"200031\"],\"x\":[-0.6749435753730729],\"y\":[200031],\"type\":\"scatter\"},{\"mode\":\"text\",\"text\":[\"219237\"],\"x\":[-0.6249479234144687],\"y\":[219237],\"type\":\"scatter\"},{\"mode\":\"text\",\"text\":[\"309114\"],\"x\":[-0.5749522714558645],\"y\":[309114],\"type\":\"scatter\"},{\"mode\":\"text\",\"text\":[\"340128\"],\"x\":[-0.5249566194972604],\"y\":[340128],\"type\":\"scatter\"},{\"mode\":\"text\",\"text\":[\"277940\"],\"x\":[-0.47496096753865613],\"y\":[277940],\"type\":\"scatter\"},{\"mode\":\"text\",\"text\":[\"318297\"],\"x\":[-0.4249653155800519],\"y\":[318297],\"type\":\"scatter\"},{\"mode\":\"text\",\"text\":[\"309442\"],\"x\":[-0.3749696636214477],\"y\":[309442],\"type\":\"scatter\"},{\"mode\":\"text\",\"text\":[\"337977\"],\"x\":[-0.3249740116628435],\"y\":[337977],\"type\":\"scatter\"},{\"mode\":\"text\",\"text\":[\"411387\"],\"x\":[-0.27497835970423934],\"y\":[411387],\"type\":\"scatter\"},{\"mode\":\"text\",\"text\":[\"363978\"],\"x\":[-0.2249827077456351],\"y\":[363978],\"type\":\"scatter\"},{\"mode\":\"text\",\"text\":[\"337337\"],\"x\":[-0.1749870557870309],\"y\":[337337],\"type\":\"scatter\"},{\"mode\":\"text\",\"text\":[\"285183\"],\"x\":[-0.12499140382842666],\"y\":[285183],\"type\":\"scatter\"},{\"mode\":\"text\",\"text\":[\"234198\"],\"x\":[-0.07499575186982249],\"y\":[234198],\"type\":\"scatter\"},{\"mode\":\"text\",\"text\":[\"126930\"],\"x\":[-0.02500009991121832],\"y\":[126930],\"type\":\"scatter\"},{\"mode\":\"text\",\"text\":[\"133863\"],\"x\":[0.024995552047385905],\"y\":[133863],\"type\":\"scatter\"},{\"mode\":\"text\",\"text\":[\"223692\"],\"x\":[0.07499120400599013],\"y\":[223692],\"type\":\"scatter\"},{\"mode\":\"text\",\"text\":[\"256200\"],\"x\":[0.12498685596459436],\"y\":[256200],\"type\":\"scatter\"},{\"mode\":\"text\",\"text\":[\"280876\"],\"x\":[0.17498250792319858],\"y\":[280876],\"type\":\"scatter\"},{\"mode\":\"text\",\"text\":[\"331342\"],\"x\":[0.2249781598818028],\"y\":[331342],\"type\":\"scatter\"},{\"mode\":\"text\",\"text\":[\"385369\"],\"x\":[0.27497381184040703],\"y\":[385369],\"type\":\"scatter\"},{\"mode\":\"text\",\"text\":[\"331247\"],\"x\":[0.32496946379901115],\"y\":[331247],\"type\":\"scatter\"},{\"mode\":\"text\",\"text\":[\"271667\"],\"x\":[0.37496511575761526],\"y\":[271667],\"type\":\"scatter\"},{\"mode\":\"text\",\"text\":[\"240350\"],\"x\":[0.4249607677162195],\"y\":[240350],\"type\":\"scatter\"},{\"mode\":\"text\",\"text\":[\"239632\"],\"x\":[0.4749564196748237],\"y\":[239632],\"type\":\"scatter\"},{\"mode\":\"text\",\"text\":[\"254499\"],\"x\":[0.5249520716334279],\"y\":[254499],\"type\":\"scatter\"},{\"mode\":\"text\",\"text\":[\"216334\"],\"x\":[0.5749477235920322],\"y\":[216334],\"type\":\"scatter\"},{\"mode\":\"text\",\"text\":[\"188978\"],\"x\":[0.6249433755506364],\"y\":[188978],\"type\":\"scatter\"},{\"mode\":\"text\",\"text\":[\"180146\"],\"x\":[0.6749390275092406],\"y\":[180146],\"type\":\"scatter\"},{\"mode\":\"text\",\"text\":[\"167146\"],\"x\":[0.7249346794678448],\"y\":[167146],\"type\":\"scatter\"},{\"mode\":\"text\",\"text\":[\"155112\"],\"x\":[0.7749303314264491],\"y\":[155112],\"type\":\"scatter\"},{\"mode\":\"text\",\"text\":[\"168433\"],\"x\":[0.8249259833850533],\"y\":[168433],\"type\":\"scatter\"},{\"mode\":\"text\",\"text\":[\"173138\"],\"x\":[0.8749216353436574],\"y\":[173138],\"type\":\"scatter\"},{\"mode\":\"text\",\"text\":[\"193988\"],\"x\":[0.9249172873022615],\"y\":[193988],\"type\":\"scatter\"},{\"mode\":\"text\",\"text\":[\"391434\"],\"x\":[0.9749129392608658],\"y\":[391434],\"type\":\"scatter\"}],                        {\"template\":{\"data\":{\"histogram2dcontour\":[{\"type\":\"histogram2dcontour\",\"colorbar\":{\"outlinewidth\":0,\"ticks\":\"\"},\"colorscale\":[[0.0,\"#0d0887\"],[0.1111111111111111,\"#46039f\"],[0.2222222222222222,\"#7201a8\"],[0.3333333333333333,\"#9c179e\"],[0.4444444444444444,\"#bd3786\"],[0.5555555555555556,\"#d8576b\"],[0.6666666666666666,\"#ed7953\"],[0.7777777777777778,\"#fb9f3a\"],[0.8888888888888888,\"#fdca26\"],[1.0,\"#f0f921\"]]}],\"choropleth\":[{\"type\":\"choropleth\",\"colorbar\":{\"outlinewidth\":0,\"ticks\":\"\"}}],\"histogram2d\":[{\"type\":\"histogram2d\",\"colorbar\":{\"outlinewidth\":0,\"ticks\":\"\"},\"colorscale\":[[0.0,\"#0d0887\"],[0.1111111111111111,\"#46039f\"],[0.2222222222222222,\"#7201a8\"],[0.3333333333333333,\"#9c179e\"],[0.4444444444444444,\"#bd3786\"],[0.5555555555555556,\"#d8576b\"],[0.6666666666666666,\"#ed7953\"],[0.7777777777777778,\"#fb9f3a\"],[0.8888888888888888,\"#fdca26\"],[1.0,\"#f0f921\"]]}],\"heatmap\":[{\"type\":\"heatmap\",\"colorbar\":{\"outlinewidth\":0,\"ticks\":\"\"},\"colorscale\":[[0.0,\"#0d0887\"],[0.1111111111111111,\"#46039f\"],[0.2222222222222222,\"#7201a8\"],[0.3333333333333333,\"#9c179e\"],[0.4444444444444444,\"#bd3786\"],[0.5555555555555556,\"#d8576b\"],[0.6666666666666666,\"#ed7953\"],[0.7777777777777778,\"#fb9f3a\"],[0.8888888888888888,\"#fdca26\"],[1.0,\"#f0f921\"]]}],\"heatmapgl\":[{\"type\":\"heatmapgl\",\"colorbar\":{\"outlinewidth\":0,\"ticks\":\"\"},\"colorscale\":[[0.0,\"#0d0887\"],[0.1111111111111111,\"#46039f\"],[0.2222222222222222,\"#7201a8\"],[0.3333333333333333,\"#9c179e\"],[0.4444444444444444,\"#bd3786\"],[0.5555555555555556,\"#d8576b\"],[0.6666666666666666,\"#ed7953\"],[0.7777777777777778,\"#fb9f3a\"],[0.8888888888888888,\"#fdca26\"],[1.0,\"#f0f921\"]]}],\"contourcarpet\":[{\"type\":\"contourcarpet\",\"colorbar\":{\"outlinewidth\":0,\"ticks\":\"\"}}],\"contour\":[{\"type\":\"contour\",\"colorbar\":{\"outlinewidth\":0,\"ticks\":\"\"},\"colorscale\":[[0.0,\"#0d0887\"],[0.1111111111111111,\"#46039f\"],[0.2222222222222222,\"#7201a8\"],[0.3333333333333333,\"#9c179e\"],[0.4444444444444444,\"#bd3786\"],[0.5555555555555556,\"#d8576b\"],[0.6666666666666666,\"#ed7953\"],[0.7777777777777778,\"#fb9f3a\"],[0.8888888888888888,\"#fdca26\"],[1.0,\"#f0f921\"]]}],\"surface\":[{\"type\":\"surface\",\"colorbar\":{\"outlinewidth\":0,\"ticks\":\"\"},\"colorscale\":[[0.0,\"#0d0887\"],[0.1111111111111111,\"#46039f\"],[0.2222222222222222,\"#7201a8\"],[0.3333333333333333,\"#9c179e\"],[0.4444444444444444,\"#bd3786\"],[0.5555555555555556,\"#d8576b\"],[0.6666666666666666,\"#ed7953\"],[0.7777777777777778,\"#fb9f3a\"],[0.8888888888888888,\"#fdca26\"],[1.0,\"#f0f921\"]]}],\"mesh3d\":[{\"type\":\"mesh3d\",\"colorbar\":{\"outlinewidth\":0,\"ticks\":\"\"}}],\"scatter\":[{\"fillpattern\":{\"fillmode\":\"overlay\",\"size\":10,\"solidity\":0.2},\"type\":\"scatter\"}],\"parcoords\":[{\"type\":\"parcoords\",\"line\":{\"colorbar\":{\"outlinewidth\":0,\"ticks\":\"\"}}}],\"scatterpolargl\":[{\"type\":\"scatterpolargl\",\"marker\":{\"colorbar\":{\"outlinewidth\":0,\"ticks\":\"\"}}}],\"bar\":[{\"error_x\":{\"color\":\"#2a3f5f\"},\"error_y\":{\"color\":\"#2a3f5f\"},\"marker\":{\"line\":{\"color\":\"#E5ECF6\",\"width\":0.5},\"pattern\":{\"fillmode\":\"overlay\",\"size\":10,\"solidity\":0.2}},\"type\":\"bar\"}],\"scattergeo\":[{\"type\":\"scattergeo\",\"marker\":{\"colorbar\":{\"outlinewidth\":0,\"ticks\":\"\"}}}],\"scatterpolar\":[{\"type\":\"scatterpolar\",\"marker\":{\"colorbar\":{\"outlinewidth\":0,\"ticks\":\"\"}}}],\"histogram\":[{\"marker\":{\"pattern\":{\"fillmode\":\"overlay\",\"size\":10,\"solidity\":0.2}},\"type\":\"histogram\"}],\"scattergl\":[{\"type\":\"scattergl\",\"marker\":{\"colorbar\":{\"outlinewidth\":0,\"ticks\":\"\"}}}],\"scatter3d\":[{\"type\":\"scatter3d\",\"line\":{\"colorbar\":{\"outlinewidth\":0,\"ticks\":\"\"}},\"marker\":{\"colorbar\":{\"outlinewidth\":0,\"ticks\":\"\"}}}],\"scattermapbox\":[{\"type\":\"scattermapbox\",\"marker\":{\"colorbar\":{\"outlinewidth\":0,\"ticks\":\"\"}}}],\"scatterternary\":[{\"type\":\"scatterternary\",\"marker\":{\"colorbar\":{\"outlinewidth\":0,\"ticks\":\"\"}}}],\"scattercarpet\":[{\"type\":\"scattercarpet\",\"marker\":{\"colorbar\":{\"outlinewidth\":0,\"ticks\":\"\"}}}],\"carpet\":[{\"aaxis\":{\"endlinecolor\":\"#2a3f5f\",\"gridcolor\":\"white\",\"linecolor\":\"white\",\"minorgridcolor\":\"white\",\"startlinecolor\":\"#2a3f5f\"},\"baxis\":{\"endlinecolor\":\"#2a3f5f\",\"gridcolor\":\"white\",\"linecolor\":\"white\",\"minorgridcolor\":\"white\",\"startlinecolor\":\"#2a3f5f\"},\"type\":\"carpet\"}],\"table\":[{\"cells\":{\"fill\":{\"color\":\"#EBF0F8\"},\"line\":{\"color\":\"white\"}},\"header\":{\"fill\":{\"color\":\"#C8D4E3\"},\"line\":{\"color\":\"white\"}},\"type\":\"table\"}],\"barpolar\":[{\"marker\":{\"line\":{\"color\":\"#E5ECF6\",\"width\":0.5},\"pattern\":{\"fillmode\":\"overlay\",\"size\":10,\"solidity\":0.2}},\"type\":\"barpolar\"}],\"pie\":[{\"automargin\":true,\"type\":\"pie\"}]},\"layout\":{\"autotypenumbers\":\"strict\",\"colorway\":[\"#636efa\",\"#EF553B\",\"#00cc96\",\"#ab63fa\",\"#FFA15A\",\"#19d3f3\",\"#FF6692\",\"#B6E880\",\"#FF97FF\",\"#FECB52\"],\"font\":{\"color\":\"#2a3f5f\"},\"hovermode\":\"closest\",\"hoverlabel\":{\"align\":\"left\"},\"paper_bgcolor\":\"white\",\"plot_bgcolor\":\"#E5ECF6\",\"polar\":{\"bgcolor\":\"#E5ECF6\",\"angularaxis\":{\"gridcolor\":\"white\",\"linecolor\":\"white\",\"ticks\":\"\"},\"radialaxis\":{\"gridcolor\":\"white\",\"linecolor\":\"white\",\"ticks\":\"\"}},\"ternary\":{\"bgcolor\":\"#E5ECF6\",\"aaxis\":{\"gridcolor\":\"white\",\"linecolor\":\"white\",\"ticks\":\"\"},\"baxis\":{\"gridcolor\":\"white\",\"linecolor\":\"white\",\"ticks\":\"\"},\"caxis\":{\"gridcolor\":\"white\",\"linecolor\":\"white\",\"ticks\":\"\"}},\"coloraxis\":{\"colorbar\":{\"outlinewidth\":0,\"ticks\":\"\"}},\"colorscale\":{\"sequential\":[[0.0,\"#0d0887\"],[0.1111111111111111,\"#46039f\"],[0.2222222222222222,\"#7201a8\"],[0.3333333333333333,\"#9c179e\"],[0.4444444444444444,\"#bd3786\"],[0.5555555555555556,\"#d8576b\"],[0.6666666666666666,\"#ed7953\"],[0.7777777777777778,\"#fb9f3a\"],[0.8888888888888888,\"#fdca26\"],[1.0,\"#f0f921\"]],\"sequentialminus\":[[0.0,\"#0d0887\"],[0.1111111111111111,\"#46039f\"],[0.2222222222222222,\"#7201a8\"],[0.3333333333333333,\"#9c179e\"],[0.4444444444444444,\"#bd3786\"],[0.5555555555555556,\"#d8576b\"],[0.6666666666666666,\"#ed7953\"],[0.7777777777777778,\"#fb9f3a\"],[0.8888888888888888,\"#fdca26\"],[1.0,\"#f0f921\"]],\"diverging\":[[0,\"#8e0152\"],[0.1,\"#c51b7d\"],[0.2,\"#de77ae\"],[0.3,\"#f1b6da\"],[0.4,\"#fde0ef\"],[0.5,\"#f7f7f7\"],[0.6,\"#e6f5d0\"],[0.7,\"#b8e186\"],[0.8,\"#7fbc41\"],[0.9,\"#4d9221\"],[1,\"#276419\"]]},\"xaxis\":{\"gridcolor\":\"white\",\"linecolor\":\"white\",\"ticks\":\"\",\"title\":{\"standoff\":15},\"zerolinecolor\":\"white\",\"automargin\":true,\"zerolinewidth\":2},\"yaxis\":{\"gridcolor\":\"white\",\"linecolor\":\"white\",\"ticks\":\"\",\"title\":{\"standoff\":15},\"zerolinecolor\":\"white\",\"automargin\":true,\"zerolinewidth\":2},\"scene\":{\"xaxis\":{\"backgroundcolor\":\"#E5ECF6\",\"gridcolor\":\"white\",\"linecolor\":\"white\",\"showbackground\":true,\"ticks\":\"\",\"zerolinecolor\":\"white\",\"gridwidth\":2},\"yaxis\":{\"backgroundcolor\":\"#E5ECF6\",\"gridcolor\":\"white\",\"linecolor\":\"white\",\"showbackground\":true,\"ticks\":\"\",\"zerolinecolor\":\"white\",\"gridwidth\":2},\"zaxis\":{\"backgroundcolor\":\"#E5ECF6\",\"gridcolor\":\"white\",\"linecolor\":\"white\",\"showbackground\":true,\"ticks\":\"\",\"zerolinecolor\":\"white\",\"gridwidth\":2}},\"shapedefaults\":{\"line\":{\"color\":\"#2a3f5f\"}},\"annotationdefaults\":{\"arrowcolor\":\"#2a3f5f\",\"arrowhead\":0,\"arrowwidth\":1},\"geo\":{\"bgcolor\":\"white\",\"landcolor\":\"#E5ECF6\",\"subunitcolor\":\"white\",\"showland\":true,\"showlakes\":true,\"lakecolor\":\"white\"},\"title\":{\"x\":0.05},\"mapbox\":{\"style\":\"light\"}}}},                        {\"responsive\": true}                    ).then(function(){\n",
       "                            \n",
       "var gd = document.getElementById('ad38f63d-dc59-4469-85ed-1d1f5675339f');\n",
       "var x = new MutationObserver(function (mutations, observer) {{\n",
       "        var display = window.getComputedStyle(gd).display;\n",
       "        if (!display || display === 'none') {{\n",
       "            console.log([gd, 'removed!']);\n",
       "            Plotly.purge(gd);\n",
       "            observer.disconnect();\n",
       "        }}\n",
       "}});\n",
       "\n",
       "// Listen for the removal of the full notebook cells\n",
       "var notebookContainer = gd.closest('#notebook-container');\n",
       "if (notebookContainer) {{\n",
       "    x.observe(notebookContainer, {childList: true});\n",
       "}}\n",
       "\n",
       "// Listen for the clearing of the current output cell\n",
       "var outputEl = gd.closest('.output');\n",
       "if (outputEl) {{\n",
       "    x.observe(outputEl, {childList: true});\n",
       "}}\n",
       "\n",
       "                        })                };                });            </script>        </div>"
      ]
     },
     "metadata": {},
     "output_type": "display_data"
    }
   ],
   "source": [
    "# Plot the figure\n",
    "counts, bins = np.histogram(df_interest['ScoreChange'], bins=40)\n",
    "bin_midpoints = bins[:-1] + np.diff(bins)/2\n",
    "\n",
    "fig = go.Figure()\n",
    "\n",
    "fig.add_trace(go.Bar(\n",
    "    x=bin_midpoints,\n",
    "    y=counts,\n",
    "    width=np.diff(bins), # makes bars have correct widths\n",
    "    name='Histogram'\n",
    "))\n",
    "# add text labels for counts\n",
    "for i in range(len(counts)):\n",
    "    fig.add_trace(go.Scatter(\n",
    "        x=[bin_midpoints[i]],\n",
    "        y=[counts[i]],\n",
    "        text=[str(counts[i])],\n",
    "        mode='text',\n",
    "    ))\n",
    "\n",
    "fig.show()"
   ]
  },
  {
   "cell_type": "code",
   "execution_count": 31,
   "id": "f7a71fb0-6088-475c-a266-79ba70d9dd9c",
   "metadata": {},
   "outputs": [
    {
     "data": {
      "text/html": [
       "<div>\n",
       "<style scoped>\n",
       "    .dataframe tbody tr th:only-of-type {\n",
       "        vertical-align: middle;\n",
       "    }\n",
       "\n",
       "    .dataframe tbody tr th {\n",
       "        vertical-align: top;\n",
       "    }\n",
       "\n",
       "    .dataframe thead th {\n",
       "        text-align: right;\n",
       "    }\n",
       "</style>\n",
       "<table border=\"1\" class=\"dataframe\">\n",
       "  <thead>\n",
       "    <tr style=\"text-align: right;\">\n",
       "      <th></th>\n",
       "      <th>chr</th>\n",
       "      <th>strand</th>\n",
       "      <th>Donor_coordinates</th>\n",
       "      <th>Ensemble_Transcript_ID</th>\n",
       "      <th>Transcript_coordinates</th>\n",
       "      <th>dbsnp_id</th>\n",
       "      <th>varinat_start</th>\n",
       "      <th>variant_end</th>\n",
       "      <th>ref_neucleotide</th>\n",
       "      <th>alternative_neucleotide</th>\n",
       "      <th>reference_seq</th>\n",
       "      <th>alt_seq</th>\n",
       "      <th>Ref_probab</th>\n",
       "      <th>Alt_probab</th>\n",
       "      <th>ScoreChange</th>\n",
       "      <th>LogOddRatio</th>\n",
       "    </tr>\n",
       "  </thead>\n",
       "  <tbody>\n",
       "    <tr>\n",
       "      <th>1275</th>\n",
       "      <td>chr1</td>\n",
       "      <td>-</td>\n",
       "      <td>171652644-171652733</td>\n",
       "      <td>ENST00000037502</td>\n",
       "      <td>171635417-171652688</td>\n",
       "      <td>rs931124801</td>\n",
       "      <td>171652687</td>\n",
       "      <td>171652688</td>\n",
       "      <td>C</td>\n",
       "      <td>A</td>\n",
       "      <td>TCTGCTGTGCTGAGAGGTGCCTGGATGGGTGGCCTTGCTGGCTCAT...</td>\n",
       "      <td>TCTGCTGTGCTGAGAGGTGCCTGGATGGGTGGCCTTGCTGGCTAAT...</td>\n",
       "      <td>0.999701</td>\n",
       "      <td>0.013452</td>\n",
       "      <td>-0.985954</td>\n",
       "      <td>17.903774</td>\n",
       "    </tr>\n",
       "    <tr>\n",
       "      <th>3561</th>\n",
       "      <td>chr1</td>\n",
       "      <td>-</td>\n",
       "      <td>53945655-53945744</td>\n",
       "      <td>ENST00000194214</td>\n",
       "      <td>53921561-53945699</td>\n",
       "      <td>rs1447674588</td>\n",
       "      <td>53945658</td>\n",
       "      <td>53945659</td>\n",
       "      <td>G</td>\n",
       "      <td>A</td>\n",
       "      <td>GCCGCGGCCTCCGTGGAGTCCGGGGTCGCGCGCGCTCCAACTCTGA...</td>\n",
       "      <td>GCCACGGCCTCCGTGGAGTCCGGGGTCGCGCGCGCTCCAACTCTGA...</td>\n",
       "      <td>0.758328</td>\n",
       "      <td>0.332869</td>\n",
       "      <td>-0.322638</td>\n",
       "      <td>2.652787</td>\n",
       "    </tr>\n",
       "    <tr>\n",
       "      <th>3565</th>\n",
       "      <td>chr1</td>\n",
       "      <td>-</td>\n",
       "      <td>53945655-53945744</td>\n",
       "      <td>ENST00000194214</td>\n",
       "      <td>53921561-53945699</td>\n",
       "      <td>rs551209799</td>\n",
       "      <td>53945667</td>\n",
       "      <td>53945668</td>\n",
       "      <td>G</td>\n",
       "      <td>A</td>\n",
       "      <td>GCCGCGGCCTCCGTGGAGTCCGGGGTCGCGCGCGCTCCAACTCTGA...</td>\n",
       "      <td>GCCGCGGCCTCCATGGAGTCCGGGGTCGCGCGCGCTCCAACTCTGA...</td>\n",
       "      <td>0.758328</td>\n",
       "      <td>0.368232</td>\n",
       "      <td>-0.295821</td>\n",
       "      <td>2.428555</td>\n",
       "    </tr>\n",
       "    <tr>\n",
       "      <th>3568</th>\n",
       "      <td>chr1</td>\n",
       "      <td>-</td>\n",
       "      <td>53945655-53945744</td>\n",
       "      <td>ENST00000194214</td>\n",
       "      <td>53921561-53945699</td>\n",
       "      <td>rs1462348969</td>\n",
       "      <td>53945670</td>\n",
       "      <td>53945671</td>\n",
       "      <td>G</td>\n",
       "      <td>A</td>\n",
       "      <td>GCCGCGGCCTCCGTGGAGTCCGGGGTCGCGCGCGCTCCAACTCTGA...</td>\n",
       "      <td>GCCGCGGCCTCCGTGAAGTCCGGGGTCGCGCGCGCTCCAACTCTGA...</td>\n",
       "      <td>0.758328</td>\n",
       "      <td>0.004605</td>\n",
       "      <td>-0.571570</td>\n",
       "      <td>9.405620</td>\n",
       "    </tr>\n",
       "    <tr>\n",
       "      <th>3569</th>\n",
       "      <td>chr1</td>\n",
       "      <td>-</td>\n",
       "      <td>53945655-53945744</td>\n",
       "      <td>ENST00000194214</td>\n",
       "      <td>53921561-53945699</td>\n",
       "      <td>rs1462348969</td>\n",
       "      <td>53945670</td>\n",
       "      <td>53945671</td>\n",
       "      <td>G</td>\n",
       "      <td>C</td>\n",
       "      <td>GCCGCGGCCTCCGTGGAGTCCGGGGTCGCGCGCGCTCCAACTCTGA...</td>\n",
       "      <td>GCCGCGGCCTCCGTGCAGTCCGGGGTCGCGCGCGCTCCAACTCTGA...</td>\n",
       "      <td>0.758328</td>\n",
       "      <td>0.097874</td>\n",
       "      <td>-0.500842</td>\n",
       "      <td>4.854111</td>\n",
       "    </tr>\n",
       "    <tr>\n",
       "      <th>...</th>\n",
       "      <td>...</td>\n",
       "      <td>...</td>\n",
       "      <td>...</td>\n",
       "      <td>...</td>\n",
       "      <td>...</td>\n",
       "      <td>...</td>\n",
       "      <td>...</td>\n",
       "      <td>...</td>\n",
       "      <td>...</td>\n",
       "      <td>...</td>\n",
       "      <td>...</td>\n",
       "      <td>...</td>\n",
       "      <td>...</td>\n",
       "      <td>...</td>\n",
       "      <td>...</td>\n",
       "      <td>...</td>\n",
       "    </tr>\n",
       "    <tr>\n",
       "      <th>14091</th>\n",
       "      <td>chrY</td>\n",
       "      <td>-</td>\n",
       "      <td>19077316-19077405</td>\n",
       "      <td>ENST00000650897</td>\n",
       "      <td>18802557-19077330</td>\n",
       "      <td>rs2044771042</td>\n",
       "      <td>19077375</td>\n",
       "      <td>19077388</td>\n",
       "      <td>CACCCCACACCCC</td>\n",
       "      <td>CACCCCACACCCCACACCCC</td>\n",
       "      <td>TGACTCTCCGACCCGGCGCTGGTGCAGGCTGCATGAGAAGCTCTGG...</td>\n",
       "      <td>TGACTCTCCGACCCGGCGCTGGTGCAGGCTGCATGAGAAGCTCTGG...</td>\n",
       "      <td>0.010629</td>\n",
       "      <td>0.806294</td>\n",
       "      <td>0.641540</td>\n",
       "      <td>-8.597933</td>\n",
       "    </tr>\n",
       "    <tr>\n",
       "      <th>14097</th>\n",
       "      <td>chrY</td>\n",
       "      <td>-</td>\n",
       "      <td>19077316-19077405</td>\n",
       "      <td>ENST00000651032</td>\n",
       "      <td>18802559-19077373</td>\n",
       "      <td>rs2044771042</td>\n",
       "      <td>19077375</td>\n",
       "      <td>19077388</td>\n",
       "      <td>CACCCCACACCCC</td>\n",
       "      <td>CACCCCACACCCCACACCCC</td>\n",
       "      <td>TGACTCTCCGACCCGGCGCTGGTGCAGGCTGCATGAGAAGCTCTGG...</td>\n",
       "      <td>TGACTCTCCGACCCGGCGCTGGTGCAGGCTGCATGAGAAGCTCTGG...</td>\n",
       "      <td>0.010629</td>\n",
       "      <td>0.806294</td>\n",
       "      <td>0.641540</td>\n",
       "      <td>-8.597933</td>\n",
       "    </tr>\n",
       "    <tr>\n",
       "      <th>14103</th>\n",
       "      <td>chrY</td>\n",
       "      <td>-</td>\n",
       "      <td>19077316-19077405</td>\n",
       "      <td>ENST00000652153</td>\n",
       "      <td>18802664-19077342</td>\n",
       "      <td>rs2044771042</td>\n",
       "      <td>19077375</td>\n",
       "      <td>19077388</td>\n",
       "      <td>CACCCCACACCCC</td>\n",
       "      <td>CACCCCACACCCCACACCCC</td>\n",
       "      <td>TGACTCTCCGACCCGGCGCTGGTGCAGGCTGCATGAGAAGCTCTGG...</td>\n",
       "      <td>TGACTCTCCGACCCGGCGCTGGTGCAGGCTGCATGAGAAGCTCTGG...</td>\n",
       "      <td>0.010629</td>\n",
       "      <td>0.806294</td>\n",
       "      <td>0.641540</td>\n",
       "      <td>-8.597933</td>\n",
       "    </tr>\n",
       "    <tr>\n",
       "      <th>14109</th>\n",
       "      <td>chrY</td>\n",
       "      <td>-</td>\n",
       "      <td>19077316-19077405</td>\n",
       "      <td>ENST00000667640</td>\n",
       "      <td>18872501-19077360</td>\n",
       "      <td>rs2044771042</td>\n",
       "      <td>19077375</td>\n",
       "      <td>19077388</td>\n",
       "      <td>CACCCCACACCCC</td>\n",
       "      <td>CACCCCACACCCCACACCCC</td>\n",
       "      <td>TGACTCTCCGACCCGGCGCTGGTGCAGGCTGCATGAGAAGCTCTGG...</td>\n",
       "      <td>TGACTCTCCGACCCGGCGCTGGTGCAGGCTGCATGAGAAGCTCTGG...</td>\n",
       "      <td>0.010629</td>\n",
       "      <td>0.806294</td>\n",
       "      <td>0.641540</td>\n",
       "      <td>-8.597933</td>\n",
       "    </tr>\n",
       "    <tr>\n",
       "      <th>15750</th>\n",
       "      <td>chrY</td>\n",
       "      <td>+</td>\n",
       "      <td>2752038-2752127</td>\n",
       "      <td>ENST00000680285</td>\n",
       "      <td>2752083-2790921</td>\n",
       "      <td>rs1449257292</td>\n",
       "      <td>2752051</td>\n",
       "      <td>2752052</td>\n",
       "      <td>G</td>\n",
       "      <td>A</td>\n",
       "      <td>CACACGACTGAGTGTGCCTACACTGGTCCCACAGGTTTTCAGCTGT...</td>\n",
       "      <td>CACACGACTGAGTATGCCTACACTGGTCCCACAGGTTTTCAGCTGT...</td>\n",
       "      <td>0.017386</td>\n",
       "      <td>0.700260</td>\n",
       "      <td>0.478189</td>\n",
       "      <td>-7.044797</td>\n",
       "    </tr>\n",
       "  </tbody>\n",
       "</table>\n",
       "<p>7461704 rows × 16 columns</p>\n",
       "</div>"
      ],
      "text/plain": [
       "        chr strand    Donor_coordinates Ensemble_Transcript_ID  \\\n",
       "1275   chr1      -  171652644-171652733        ENST00000037502   \n",
       "3561   chr1      -    53945655-53945744        ENST00000194214   \n",
       "3565   chr1      -    53945655-53945744        ENST00000194214   \n",
       "3568   chr1      -    53945655-53945744        ENST00000194214   \n",
       "3569   chr1      -    53945655-53945744        ENST00000194214   \n",
       "...     ...    ...                  ...                    ...   \n",
       "14091  chrY      -    19077316-19077405        ENST00000650897   \n",
       "14097  chrY      -    19077316-19077405        ENST00000651032   \n",
       "14103  chrY      -    19077316-19077405        ENST00000652153   \n",
       "14109  chrY      -    19077316-19077405        ENST00000667640   \n",
       "15750  chrY      +      2752038-2752127        ENST00000680285   \n",
       "\n",
       "      Transcript_coordinates      dbsnp_id  varinat_start  variant_end  \\\n",
       "1275     171635417-171652688   rs931124801      171652687    171652688   \n",
       "3561       53921561-53945699  rs1447674588       53945658     53945659   \n",
       "3565       53921561-53945699   rs551209799       53945667     53945668   \n",
       "3568       53921561-53945699  rs1462348969       53945670     53945671   \n",
       "3569       53921561-53945699  rs1462348969       53945670     53945671   \n",
       "...                      ...           ...            ...          ...   \n",
       "14091      18802557-19077330  rs2044771042       19077375     19077388   \n",
       "14097      18802559-19077373  rs2044771042       19077375     19077388   \n",
       "14103      18802664-19077342  rs2044771042       19077375     19077388   \n",
       "14109      18872501-19077360  rs2044771042       19077375     19077388   \n",
       "15750        2752083-2790921  rs1449257292        2752051      2752052   \n",
       "\n",
       "      ref_neucleotide alternative_neucleotide  \\\n",
       "1275                C                       A   \n",
       "3561                G                       A   \n",
       "3565                G                       A   \n",
       "3568                G                       A   \n",
       "3569                G                       C   \n",
       "...               ...                     ...   \n",
       "14091   CACCCCACACCCC    CACCCCACACCCCACACCCC   \n",
       "14097   CACCCCACACCCC    CACCCCACACCCCACACCCC   \n",
       "14103   CACCCCACACCCC    CACCCCACACCCCACACCCC   \n",
       "14109   CACCCCACACCCC    CACCCCACACCCCACACCCC   \n",
       "15750               G                       A   \n",
       "\n",
       "                                           reference_seq  \\\n",
       "1275   TCTGCTGTGCTGAGAGGTGCCTGGATGGGTGGCCTTGCTGGCTCAT...   \n",
       "3561   GCCGCGGCCTCCGTGGAGTCCGGGGTCGCGCGCGCTCCAACTCTGA...   \n",
       "3565   GCCGCGGCCTCCGTGGAGTCCGGGGTCGCGCGCGCTCCAACTCTGA...   \n",
       "3568   GCCGCGGCCTCCGTGGAGTCCGGGGTCGCGCGCGCTCCAACTCTGA...   \n",
       "3569   GCCGCGGCCTCCGTGGAGTCCGGGGTCGCGCGCGCTCCAACTCTGA...   \n",
       "...                                                  ...   \n",
       "14091  TGACTCTCCGACCCGGCGCTGGTGCAGGCTGCATGAGAAGCTCTGG...   \n",
       "14097  TGACTCTCCGACCCGGCGCTGGTGCAGGCTGCATGAGAAGCTCTGG...   \n",
       "14103  TGACTCTCCGACCCGGCGCTGGTGCAGGCTGCATGAGAAGCTCTGG...   \n",
       "14109  TGACTCTCCGACCCGGCGCTGGTGCAGGCTGCATGAGAAGCTCTGG...   \n",
       "15750  CACACGACTGAGTGTGCCTACACTGGTCCCACAGGTTTTCAGCTGT...   \n",
       "\n",
       "                                                 alt_seq  Ref_probab  \\\n",
       "1275   TCTGCTGTGCTGAGAGGTGCCTGGATGGGTGGCCTTGCTGGCTAAT...    0.999701   \n",
       "3561   GCCACGGCCTCCGTGGAGTCCGGGGTCGCGCGCGCTCCAACTCTGA...    0.758328   \n",
       "3565   GCCGCGGCCTCCATGGAGTCCGGGGTCGCGCGCGCTCCAACTCTGA...    0.758328   \n",
       "3568   GCCGCGGCCTCCGTGAAGTCCGGGGTCGCGCGCGCTCCAACTCTGA...    0.758328   \n",
       "3569   GCCGCGGCCTCCGTGCAGTCCGGGGTCGCGCGCGCTCCAACTCTGA...    0.758328   \n",
       "...                                                  ...         ...   \n",
       "14091  TGACTCTCCGACCCGGCGCTGGTGCAGGCTGCATGAGAAGCTCTGG...    0.010629   \n",
       "14097  TGACTCTCCGACCCGGCGCTGGTGCAGGCTGCATGAGAAGCTCTGG...    0.010629   \n",
       "14103  TGACTCTCCGACCCGGCGCTGGTGCAGGCTGCATGAGAAGCTCTGG...    0.010629   \n",
       "14109  TGACTCTCCGACCCGGCGCTGGTGCAGGCTGCATGAGAAGCTCTGG...    0.010629   \n",
       "15750  CACACGACTGAGTATGCCTACACTGGTCCCACAGGTTTTCAGCTGT...    0.017386   \n",
       "\n",
       "       Alt_probab  ScoreChange  LogOddRatio  \n",
       "1275     0.013452    -0.985954    17.903774  \n",
       "3561     0.332869    -0.322638     2.652787  \n",
       "3565     0.368232    -0.295821     2.428555  \n",
       "3568     0.004605    -0.571570     9.405620  \n",
       "3569     0.097874    -0.500842     4.854111  \n",
       "...           ...          ...          ...  \n",
       "14091    0.806294     0.641540    -8.597933  \n",
       "14097    0.806294     0.641540    -8.597933  \n",
       "14103    0.806294     0.641540    -8.597933  \n",
       "14109    0.806294     0.641540    -8.597933  \n",
       "15750    0.700260     0.478189    -7.044797  \n",
       "\n",
       "[7461704 rows x 16 columns]"
      ]
     },
     "execution_count": 31,
     "metadata": {},
     "output_type": "execute_result"
    }
   ],
   "source": [
    "df_interest = df_interest[(df_interest['ScoreChange']>0.25)|(df_interest['ScoreChange']<-0.25)]\n",
    "df_interest"
   ]
  },
  {
   "cell_type": "code",
   "execution_count": 32,
   "id": "8048e35d-fc61-4e5f-8af6-98dc18553e71",
   "metadata": {},
   "outputs": [
    {
     "data": {
      "text/html": [
       "<div>\n",
       "<style scoped>\n",
       "    .dataframe tbody tr th:only-of-type {\n",
       "        vertical-align: middle;\n",
       "    }\n",
       "\n",
       "    .dataframe tbody tr th {\n",
       "        vertical-align: top;\n",
       "    }\n",
       "\n",
       "    .dataframe thead th {\n",
       "        text-align: right;\n",
       "    }\n",
       "</style>\n",
       "<table border=\"1\" class=\"dataframe\">\n",
       "  <thead>\n",
       "    <tr style=\"text-align: right;\">\n",
       "      <th></th>\n",
       "      <th>chr</th>\n",
       "      <th>strand</th>\n",
       "      <th>Donor_coordinates</th>\n",
       "      <th>Ensemble_Transcript_ID</th>\n",
       "      <th>Transcript_coordinates</th>\n",
       "      <th>dbsnp_id</th>\n",
       "      <th>varinat_start</th>\n",
       "      <th>variant_end</th>\n",
       "      <th>ref_neucleotide</th>\n",
       "      <th>alternative_neucleotide</th>\n",
       "      <th>reference_seq</th>\n",
       "      <th>alt_seq</th>\n",
       "      <th>Ref_probab</th>\n",
       "      <th>Alt_probab</th>\n",
       "      <th>ScoreChange</th>\n",
       "      <th>LogOddRatio</th>\n",
       "      <th>variant_length</th>\n",
       "    </tr>\n",
       "  </thead>\n",
       "  <tbody>\n",
       "    <tr>\n",
       "      <th>1275</th>\n",
       "      <td>chr1</td>\n",
       "      <td>-</td>\n",
       "      <td>171652644-171652733</td>\n",
       "      <td>ENST00000037502</td>\n",
       "      <td>171635417-171652688</td>\n",
       "      <td>rs931124801</td>\n",
       "      <td>171652687</td>\n",
       "      <td>171652688</td>\n",
       "      <td>C</td>\n",
       "      <td>A</td>\n",
       "      <td>TCTGCTGTGCTGAGAGGTGCCTGGATGGGTGGCCTTGCTGGCTCAT...</td>\n",
       "      <td>TCTGCTGTGCTGAGAGGTGCCTGGATGGGTGGCCTTGCTGGCTAAT...</td>\n",
       "      <td>0.999701</td>\n",
       "      <td>0.013452</td>\n",
       "      <td>-0.985954</td>\n",
       "      <td>17.903774</td>\n",
       "      <td>1</td>\n",
       "    </tr>\n",
       "    <tr>\n",
       "      <th>3561</th>\n",
       "      <td>chr1</td>\n",
       "      <td>-</td>\n",
       "      <td>53945655-53945744</td>\n",
       "      <td>ENST00000194214</td>\n",
       "      <td>53921561-53945699</td>\n",
       "      <td>rs1447674588</td>\n",
       "      <td>53945658</td>\n",
       "      <td>53945659</td>\n",
       "      <td>G</td>\n",
       "      <td>A</td>\n",
       "      <td>GCCGCGGCCTCCGTGGAGTCCGGGGTCGCGCGCGCTCCAACTCTGA...</td>\n",
       "      <td>GCCACGGCCTCCGTGGAGTCCGGGGTCGCGCGCGCTCCAACTCTGA...</td>\n",
       "      <td>0.758328</td>\n",
       "      <td>0.332869</td>\n",
       "      <td>-0.322638</td>\n",
       "      <td>2.652787</td>\n",
       "      <td>1</td>\n",
       "    </tr>\n",
       "    <tr>\n",
       "      <th>3565</th>\n",
       "      <td>chr1</td>\n",
       "      <td>-</td>\n",
       "      <td>53945655-53945744</td>\n",
       "      <td>ENST00000194214</td>\n",
       "      <td>53921561-53945699</td>\n",
       "      <td>rs551209799</td>\n",
       "      <td>53945667</td>\n",
       "      <td>53945668</td>\n",
       "      <td>G</td>\n",
       "      <td>A</td>\n",
       "      <td>GCCGCGGCCTCCGTGGAGTCCGGGGTCGCGCGCGCTCCAACTCTGA...</td>\n",
       "      <td>GCCGCGGCCTCCATGGAGTCCGGGGTCGCGCGCGCTCCAACTCTGA...</td>\n",
       "      <td>0.758328</td>\n",
       "      <td>0.368232</td>\n",
       "      <td>-0.295821</td>\n",
       "      <td>2.428555</td>\n",
       "      <td>1</td>\n",
       "    </tr>\n",
       "    <tr>\n",
       "      <th>3568</th>\n",
       "      <td>chr1</td>\n",
       "      <td>-</td>\n",
       "      <td>53945655-53945744</td>\n",
       "      <td>ENST00000194214</td>\n",
       "      <td>53921561-53945699</td>\n",
       "      <td>rs1462348969</td>\n",
       "      <td>53945670</td>\n",
       "      <td>53945671</td>\n",
       "      <td>G</td>\n",
       "      <td>A</td>\n",
       "      <td>GCCGCGGCCTCCGTGGAGTCCGGGGTCGCGCGCGCTCCAACTCTGA...</td>\n",
       "      <td>GCCGCGGCCTCCGTGAAGTCCGGGGTCGCGCGCGCTCCAACTCTGA...</td>\n",
       "      <td>0.758328</td>\n",
       "      <td>0.004605</td>\n",
       "      <td>-0.571570</td>\n",
       "      <td>9.405620</td>\n",
       "      <td>1</td>\n",
       "    </tr>\n",
       "    <tr>\n",
       "      <th>3569</th>\n",
       "      <td>chr1</td>\n",
       "      <td>-</td>\n",
       "      <td>53945655-53945744</td>\n",
       "      <td>ENST00000194214</td>\n",
       "      <td>53921561-53945699</td>\n",
       "      <td>rs1462348969</td>\n",
       "      <td>53945670</td>\n",
       "      <td>53945671</td>\n",
       "      <td>G</td>\n",
       "      <td>C</td>\n",
       "      <td>GCCGCGGCCTCCGTGGAGTCCGGGGTCGCGCGCGCTCCAACTCTGA...</td>\n",
       "      <td>GCCGCGGCCTCCGTGCAGTCCGGGGTCGCGCGCGCTCCAACTCTGA...</td>\n",
       "      <td>0.758328</td>\n",
       "      <td>0.097874</td>\n",
       "      <td>-0.500842</td>\n",
       "      <td>4.854111</td>\n",
       "      <td>1</td>\n",
       "    </tr>\n",
       "    <tr>\n",
       "      <th>...</th>\n",
       "      <td>...</td>\n",
       "      <td>...</td>\n",
       "      <td>...</td>\n",
       "      <td>...</td>\n",
       "      <td>...</td>\n",
       "      <td>...</td>\n",
       "      <td>...</td>\n",
       "      <td>...</td>\n",
       "      <td>...</td>\n",
       "      <td>...</td>\n",
       "      <td>...</td>\n",
       "      <td>...</td>\n",
       "      <td>...</td>\n",
       "      <td>...</td>\n",
       "      <td>...</td>\n",
       "      <td>...</td>\n",
       "      <td>...</td>\n",
       "    </tr>\n",
       "    <tr>\n",
       "      <th>14091</th>\n",
       "      <td>chrY</td>\n",
       "      <td>-</td>\n",
       "      <td>19077316-19077405</td>\n",
       "      <td>ENST00000650897</td>\n",
       "      <td>18802557-19077330</td>\n",
       "      <td>rs2044771042</td>\n",
       "      <td>19077375</td>\n",
       "      <td>19077388</td>\n",
       "      <td>CACCCCACACCCC</td>\n",
       "      <td>CACCCCACACCCCACACCCC</td>\n",
       "      <td>TGACTCTCCGACCCGGCGCTGGTGCAGGCTGCATGAGAAGCTCTGG...</td>\n",
       "      <td>TGACTCTCCGACCCGGCGCTGGTGCAGGCTGCATGAGAAGCTCTGG...</td>\n",
       "      <td>0.010629</td>\n",
       "      <td>0.806294</td>\n",
       "      <td>0.641540</td>\n",
       "      <td>-8.597933</td>\n",
       "      <td>13</td>\n",
       "    </tr>\n",
       "    <tr>\n",
       "      <th>14097</th>\n",
       "      <td>chrY</td>\n",
       "      <td>-</td>\n",
       "      <td>19077316-19077405</td>\n",
       "      <td>ENST00000651032</td>\n",
       "      <td>18802559-19077373</td>\n",
       "      <td>rs2044771042</td>\n",
       "      <td>19077375</td>\n",
       "      <td>19077388</td>\n",
       "      <td>CACCCCACACCCC</td>\n",
       "      <td>CACCCCACACCCCACACCCC</td>\n",
       "      <td>TGACTCTCCGACCCGGCGCTGGTGCAGGCTGCATGAGAAGCTCTGG...</td>\n",
       "      <td>TGACTCTCCGACCCGGCGCTGGTGCAGGCTGCATGAGAAGCTCTGG...</td>\n",
       "      <td>0.010629</td>\n",
       "      <td>0.806294</td>\n",
       "      <td>0.641540</td>\n",
       "      <td>-8.597933</td>\n",
       "      <td>13</td>\n",
       "    </tr>\n",
       "    <tr>\n",
       "      <th>14103</th>\n",
       "      <td>chrY</td>\n",
       "      <td>-</td>\n",
       "      <td>19077316-19077405</td>\n",
       "      <td>ENST00000652153</td>\n",
       "      <td>18802664-19077342</td>\n",
       "      <td>rs2044771042</td>\n",
       "      <td>19077375</td>\n",
       "      <td>19077388</td>\n",
       "      <td>CACCCCACACCCC</td>\n",
       "      <td>CACCCCACACCCCACACCCC</td>\n",
       "      <td>TGACTCTCCGACCCGGCGCTGGTGCAGGCTGCATGAGAAGCTCTGG...</td>\n",
       "      <td>TGACTCTCCGACCCGGCGCTGGTGCAGGCTGCATGAGAAGCTCTGG...</td>\n",
       "      <td>0.010629</td>\n",
       "      <td>0.806294</td>\n",
       "      <td>0.641540</td>\n",
       "      <td>-8.597933</td>\n",
       "      <td>13</td>\n",
       "    </tr>\n",
       "    <tr>\n",
       "      <th>14109</th>\n",
       "      <td>chrY</td>\n",
       "      <td>-</td>\n",
       "      <td>19077316-19077405</td>\n",
       "      <td>ENST00000667640</td>\n",
       "      <td>18872501-19077360</td>\n",
       "      <td>rs2044771042</td>\n",
       "      <td>19077375</td>\n",
       "      <td>19077388</td>\n",
       "      <td>CACCCCACACCCC</td>\n",
       "      <td>CACCCCACACCCCACACCCC</td>\n",
       "      <td>TGACTCTCCGACCCGGCGCTGGTGCAGGCTGCATGAGAAGCTCTGG...</td>\n",
       "      <td>TGACTCTCCGACCCGGCGCTGGTGCAGGCTGCATGAGAAGCTCTGG...</td>\n",
       "      <td>0.010629</td>\n",
       "      <td>0.806294</td>\n",
       "      <td>0.641540</td>\n",
       "      <td>-8.597933</td>\n",
       "      <td>13</td>\n",
       "    </tr>\n",
       "    <tr>\n",
       "      <th>15750</th>\n",
       "      <td>chrY</td>\n",
       "      <td>+</td>\n",
       "      <td>2752038-2752127</td>\n",
       "      <td>ENST00000680285</td>\n",
       "      <td>2752083-2790921</td>\n",
       "      <td>rs1449257292</td>\n",
       "      <td>2752051</td>\n",
       "      <td>2752052</td>\n",
       "      <td>G</td>\n",
       "      <td>A</td>\n",
       "      <td>CACACGACTGAGTGTGCCTACACTGGTCCCACAGGTTTTCAGCTGT...</td>\n",
       "      <td>CACACGACTGAGTATGCCTACACTGGTCCCACAGGTTTTCAGCTGT...</td>\n",
       "      <td>0.017386</td>\n",
       "      <td>0.700260</td>\n",
       "      <td>0.478189</td>\n",
       "      <td>-7.044797</td>\n",
       "      <td>1</td>\n",
       "    </tr>\n",
       "  </tbody>\n",
       "</table>\n",
       "<p>7461704 rows × 17 columns</p>\n",
       "</div>"
      ],
      "text/plain": [
       "        chr strand    Donor_coordinates Ensemble_Transcript_ID  \\\n",
       "1275   chr1      -  171652644-171652733        ENST00000037502   \n",
       "3561   chr1      -    53945655-53945744        ENST00000194214   \n",
       "3565   chr1      -    53945655-53945744        ENST00000194214   \n",
       "3568   chr1      -    53945655-53945744        ENST00000194214   \n",
       "3569   chr1      -    53945655-53945744        ENST00000194214   \n",
       "...     ...    ...                  ...                    ...   \n",
       "14091  chrY      -    19077316-19077405        ENST00000650897   \n",
       "14097  chrY      -    19077316-19077405        ENST00000651032   \n",
       "14103  chrY      -    19077316-19077405        ENST00000652153   \n",
       "14109  chrY      -    19077316-19077405        ENST00000667640   \n",
       "15750  chrY      +      2752038-2752127        ENST00000680285   \n",
       "\n",
       "      Transcript_coordinates      dbsnp_id  varinat_start  variant_end  \\\n",
       "1275     171635417-171652688   rs931124801      171652687    171652688   \n",
       "3561       53921561-53945699  rs1447674588       53945658     53945659   \n",
       "3565       53921561-53945699   rs551209799       53945667     53945668   \n",
       "3568       53921561-53945699  rs1462348969       53945670     53945671   \n",
       "3569       53921561-53945699  rs1462348969       53945670     53945671   \n",
       "...                      ...           ...            ...          ...   \n",
       "14091      18802557-19077330  rs2044771042       19077375     19077388   \n",
       "14097      18802559-19077373  rs2044771042       19077375     19077388   \n",
       "14103      18802664-19077342  rs2044771042       19077375     19077388   \n",
       "14109      18872501-19077360  rs2044771042       19077375     19077388   \n",
       "15750        2752083-2790921  rs1449257292        2752051      2752052   \n",
       "\n",
       "      ref_neucleotide alternative_neucleotide  \\\n",
       "1275                C                       A   \n",
       "3561                G                       A   \n",
       "3565                G                       A   \n",
       "3568                G                       A   \n",
       "3569                G                       C   \n",
       "...               ...                     ...   \n",
       "14091   CACCCCACACCCC    CACCCCACACCCCACACCCC   \n",
       "14097   CACCCCACACCCC    CACCCCACACCCCACACCCC   \n",
       "14103   CACCCCACACCCC    CACCCCACACCCCACACCCC   \n",
       "14109   CACCCCACACCCC    CACCCCACACCCCACACCCC   \n",
       "15750               G                       A   \n",
       "\n",
       "                                           reference_seq  \\\n",
       "1275   TCTGCTGTGCTGAGAGGTGCCTGGATGGGTGGCCTTGCTGGCTCAT...   \n",
       "3561   GCCGCGGCCTCCGTGGAGTCCGGGGTCGCGCGCGCTCCAACTCTGA...   \n",
       "3565   GCCGCGGCCTCCGTGGAGTCCGGGGTCGCGCGCGCTCCAACTCTGA...   \n",
       "3568   GCCGCGGCCTCCGTGGAGTCCGGGGTCGCGCGCGCTCCAACTCTGA...   \n",
       "3569   GCCGCGGCCTCCGTGGAGTCCGGGGTCGCGCGCGCTCCAACTCTGA...   \n",
       "...                                                  ...   \n",
       "14091  TGACTCTCCGACCCGGCGCTGGTGCAGGCTGCATGAGAAGCTCTGG...   \n",
       "14097  TGACTCTCCGACCCGGCGCTGGTGCAGGCTGCATGAGAAGCTCTGG...   \n",
       "14103  TGACTCTCCGACCCGGCGCTGGTGCAGGCTGCATGAGAAGCTCTGG...   \n",
       "14109  TGACTCTCCGACCCGGCGCTGGTGCAGGCTGCATGAGAAGCTCTGG...   \n",
       "15750  CACACGACTGAGTGTGCCTACACTGGTCCCACAGGTTTTCAGCTGT...   \n",
       "\n",
       "                                                 alt_seq  Ref_probab  \\\n",
       "1275   TCTGCTGTGCTGAGAGGTGCCTGGATGGGTGGCCTTGCTGGCTAAT...    0.999701   \n",
       "3561   GCCACGGCCTCCGTGGAGTCCGGGGTCGCGCGCGCTCCAACTCTGA...    0.758328   \n",
       "3565   GCCGCGGCCTCCATGGAGTCCGGGGTCGCGCGCGCTCCAACTCTGA...    0.758328   \n",
       "3568   GCCGCGGCCTCCGTGAAGTCCGGGGTCGCGCGCGCTCCAACTCTGA...    0.758328   \n",
       "3569   GCCGCGGCCTCCGTGCAGTCCGGGGTCGCGCGCGCTCCAACTCTGA...    0.758328   \n",
       "...                                                  ...         ...   \n",
       "14091  TGACTCTCCGACCCGGCGCTGGTGCAGGCTGCATGAGAAGCTCTGG...    0.010629   \n",
       "14097  TGACTCTCCGACCCGGCGCTGGTGCAGGCTGCATGAGAAGCTCTGG...    0.010629   \n",
       "14103  TGACTCTCCGACCCGGCGCTGGTGCAGGCTGCATGAGAAGCTCTGG...    0.010629   \n",
       "14109  TGACTCTCCGACCCGGCGCTGGTGCAGGCTGCATGAGAAGCTCTGG...    0.010629   \n",
       "15750  CACACGACTGAGTATGCCTACACTGGTCCCACAGGTTTTCAGCTGT...    0.017386   \n",
       "\n",
       "       Alt_probab  ScoreChange  LogOddRatio  variant_length  \n",
       "1275     0.013452    -0.985954    17.903774               1  \n",
       "3561     0.332869    -0.322638     2.652787               1  \n",
       "3565     0.368232    -0.295821     2.428555               1  \n",
       "3568     0.004605    -0.571570     9.405620               1  \n",
       "3569     0.097874    -0.500842     4.854111               1  \n",
       "...           ...          ...          ...             ...  \n",
       "14091    0.806294     0.641540    -8.597933              13  \n",
       "14097    0.806294     0.641540    -8.597933              13  \n",
       "14103    0.806294     0.641540    -8.597933              13  \n",
       "14109    0.806294     0.641540    -8.597933              13  \n",
       "15750    0.700260     0.478189    -7.044797               1  \n",
       "\n",
       "[7461704 rows x 17 columns]"
      ]
     },
     "execution_count": 32,
     "metadata": {},
     "output_type": "execute_result"
    }
   ],
   "source": [
    "df_interest['variant_length'] = df_interest['variant_end']-df_interest['varinat_start']\n",
    "df_interest"
   ]
  },
  {
   "cell_type": "code",
   "execution_count": 33,
   "id": "093f7729-4425-4f0f-8733-0f0d7a090f36",
   "metadata": {},
   "outputs": [
    {
     "data": {
      "text/html": [
       "<div>\n",
       "<style scoped>\n",
       "    .dataframe tbody tr th:only-of-type {\n",
       "        vertical-align: middle;\n",
       "    }\n",
       "\n",
       "    .dataframe tbody tr th {\n",
       "        vertical-align: top;\n",
       "    }\n",
       "\n",
       "    .dataframe thead th {\n",
       "        text-align: right;\n",
       "    }\n",
       "</style>\n",
       "<table border=\"1\" class=\"dataframe\">\n",
       "  <thead>\n",
       "    <tr style=\"text-align: right;\">\n",
       "      <th></th>\n",
       "      <th>chr</th>\n",
       "      <th>strand</th>\n",
       "      <th>Donor_coordinates</th>\n",
       "      <th>Ensemble_Transcript_ID</th>\n",
       "      <th>Transcript_coordinates</th>\n",
       "      <th>dbsnp_id</th>\n",
       "      <th>varinat_start</th>\n",
       "      <th>variant_end</th>\n",
       "      <th>ref_neucleotide</th>\n",
       "      <th>alternative_neucleotide</th>\n",
       "      <th>reference_seq</th>\n",
       "      <th>alt_seq</th>\n",
       "      <th>Ref_probab</th>\n",
       "      <th>Alt_probab</th>\n",
       "      <th>ScoreChange</th>\n",
       "      <th>LogOddRatio</th>\n",
       "      <th>variant_length</th>\n",
       "    </tr>\n",
       "  </thead>\n",
       "  <tbody>\n",
       "    <tr>\n",
       "      <th>1275</th>\n",
       "      <td>chr1</td>\n",
       "      <td>-</td>\n",
       "      <td>171652644-171652733</td>\n",
       "      <td>ENST00000037502</td>\n",
       "      <td>171635417-171652688</td>\n",
       "      <td>rs931124801</td>\n",
       "      <td>171652687</td>\n",
       "      <td>171652688</td>\n",
       "      <td>C</td>\n",
       "      <td>A</td>\n",
       "      <td>TCTGCTGTGCTGAGAGGTGCCTGGATGGGTGGCCTTGCTGGCTCAT...</td>\n",
       "      <td>TCTGCTGTGCTGAGAGGTGCCTGGATGGGTGGCCTTGCTGGCTAAT...</td>\n",
       "      <td>0.999701</td>\n",
       "      <td>0.013452</td>\n",
       "      <td>-0.985954</td>\n",
       "      <td>17.903774</td>\n",
       "      <td>1</td>\n",
       "    </tr>\n",
       "    <tr>\n",
       "      <th>3561</th>\n",
       "      <td>chr1</td>\n",
       "      <td>-</td>\n",
       "      <td>53945655-53945744</td>\n",
       "      <td>ENST00000194214</td>\n",
       "      <td>53921561-53945699</td>\n",
       "      <td>rs1447674588</td>\n",
       "      <td>53945658</td>\n",
       "      <td>53945659</td>\n",
       "      <td>G</td>\n",
       "      <td>A</td>\n",
       "      <td>GCCGCGGCCTCCGTGGAGTCCGGGGTCGCGCGCGCTCCAACTCTGA...</td>\n",
       "      <td>GCCACGGCCTCCGTGGAGTCCGGGGTCGCGCGCGCTCCAACTCTGA...</td>\n",
       "      <td>0.758328</td>\n",
       "      <td>0.332869</td>\n",
       "      <td>-0.322638</td>\n",
       "      <td>2.652787</td>\n",
       "      <td>1</td>\n",
       "    </tr>\n",
       "    <tr>\n",
       "      <th>3565</th>\n",
       "      <td>chr1</td>\n",
       "      <td>-</td>\n",
       "      <td>53945655-53945744</td>\n",
       "      <td>ENST00000194214</td>\n",
       "      <td>53921561-53945699</td>\n",
       "      <td>rs551209799</td>\n",
       "      <td>53945667</td>\n",
       "      <td>53945668</td>\n",
       "      <td>G</td>\n",
       "      <td>A</td>\n",
       "      <td>GCCGCGGCCTCCGTGGAGTCCGGGGTCGCGCGCGCTCCAACTCTGA...</td>\n",
       "      <td>GCCGCGGCCTCCATGGAGTCCGGGGTCGCGCGCGCTCCAACTCTGA...</td>\n",
       "      <td>0.758328</td>\n",
       "      <td>0.368232</td>\n",
       "      <td>-0.295821</td>\n",
       "      <td>2.428555</td>\n",
       "      <td>1</td>\n",
       "    </tr>\n",
       "    <tr>\n",
       "      <th>3568</th>\n",
       "      <td>chr1</td>\n",
       "      <td>-</td>\n",
       "      <td>53945655-53945744</td>\n",
       "      <td>ENST00000194214</td>\n",
       "      <td>53921561-53945699</td>\n",
       "      <td>rs1462348969</td>\n",
       "      <td>53945670</td>\n",
       "      <td>53945671</td>\n",
       "      <td>G</td>\n",
       "      <td>A</td>\n",
       "      <td>GCCGCGGCCTCCGTGGAGTCCGGGGTCGCGCGCGCTCCAACTCTGA...</td>\n",
       "      <td>GCCGCGGCCTCCGTGAAGTCCGGGGTCGCGCGCGCTCCAACTCTGA...</td>\n",
       "      <td>0.758328</td>\n",
       "      <td>0.004605</td>\n",
       "      <td>-0.571570</td>\n",
       "      <td>9.405620</td>\n",
       "      <td>1</td>\n",
       "    </tr>\n",
       "    <tr>\n",
       "      <th>3569</th>\n",
       "      <td>chr1</td>\n",
       "      <td>-</td>\n",
       "      <td>53945655-53945744</td>\n",
       "      <td>ENST00000194214</td>\n",
       "      <td>53921561-53945699</td>\n",
       "      <td>rs1462348969</td>\n",
       "      <td>53945670</td>\n",
       "      <td>53945671</td>\n",
       "      <td>G</td>\n",
       "      <td>C</td>\n",
       "      <td>GCCGCGGCCTCCGTGGAGTCCGGGGTCGCGCGCGCTCCAACTCTGA...</td>\n",
       "      <td>GCCGCGGCCTCCGTGCAGTCCGGGGTCGCGCGCGCTCCAACTCTGA...</td>\n",
       "      <td>0.758328</td>\n",
       "      <td>0.097874</td>\n",
       "      <td>-0.500842</td>\n",
       "      <td>4.854111</td>\n",
       "      <td>1</td>\n",
       "    </tr>\n",
       "    <tr>\n",
       "      <th>...</th>\n",
       "      <td>...</td>\n",
       "      <td>...</td>\n",
       "      <td>...</td>\n",
       "      <td>...</td>\n",
       "      <td>...</td>\n",
       "      <td>...</td>\n",
       "      <td>...</td>\n",
       "      <td>...</td>\n",
       "      <td>...</td>\n",
       "      <td>...</td>\n",
       "      <td>...</td>\n",
       "      <td>...</td>\n",
       "      <td>...</td>\n",
       "      <td>...</td>\n",
       "      <td>...</td>\n",
       "      <td>...</td>\n",
       "      <td>...</td>\n",
       "    </tr>\n",
       "    <tr>\n",
       "      <th>12187</th>\n",
       "      <td>chrY</td>\n",
       "      <td>-</td>\n",
       "      <td>11214982-11215071</td>\n",
       "      <td>ENST00000651211</td>\n",
       "      <td>11161838-11215032</td>\n",
       "      <td>rs1478334010</td>\n",
       "      <td>11215019</td>\n",
       "      <td>11215020</td>\n",
       "      <td>A</td>\n",
       "      <td>G</td>\n",
       "      <td>CGGCCGCTGGGATCCGCACTTCCGGAGGAAAATGGCGAAGTGGGCG...</td>\n",
       "      <td>CGGCCGCTGGGATCCGCACTTCCGGAGGAAAATGGCGGAGTGGGCG...</td>\n",
       "      <td>0.222317</td>\n",
       "      <td>0.685043</td>\n",
       "      <td>0.316987</td>\n",
       "      <td>-2.927603</td>\n",
       "      <td>1</td>\n",
       "    </tr>\n",
       "    <tr>\n",
       "      <th>12206</th>\n",
       "      <td>chrY</td>\n",
       "      <td>-</td>\n",
       "      <td>11214982-11215071</td>\n",
       "      <td>ENST00000652671</td>\n",
       "      <td>11153797-11215026</td>\n",
       "      <td>rs1489872183</td>\n",
       "      <td>11214996</td>\n",
       "      <td>11214997</td>\n",
       "      <td>C</td>\n",
       "      <td>A</td>\n",
       "      <td>CGGCCGCTGGGATCCGCACTTCCGGAGGAAAATGGCGAAGTGGGCG...</td>\n",
       "      <td>CGGCCGCTGGGATCAGCACTTCCGGAGGAAAATGGCGAAGTGGGCG...</td>\n",
       "      <td>0.222317</td>\n",
       "      <td>0.830404</td>\n",
       "      <td>0.504958</td>\n",
       "      <td>-4.098276</td>\n",
       "      <td>1</td>\n",
       "    </tr>\n",
       "    <tr>\n",
       "      <th>12209</th>\n",
       "      <td>chrY</td>\n",
       "      <td>-</td>\n",
       "      <td>11214982-11215071</td>\n",
       "      <td>ENST00000652671</td>\n",
       "      <td>11153797-11215026</td>\n",
       "      <td>rs2082081606</td>\n",
       "      <td>11215005</td>\n",
       "      <td>11215006</td>\n",
       "      <td>G</td>\n",
       "      <td>A</td>\n",
       "      <td>CGGCCGCTGGGATCCGCACTTCCGGAGGAAAATGGCGAAGTGGGCG...</td>\n",
       "      <td>CGGCCGCTGGGATCCGCACTTCCAGAGGAAAATGGCGAAGTGGGCG...</td>\n",
       "      <td>0.222317</td>\n",
       "      <td>0.997992</td>\n",
       "      <td>0.774118</td>\n",
       "      <td>-10.763972</td>\n",
       "      <td>1</td>\n",
       "    </tr>\n",
       "    <tr>\n",
       "      <th>12214</th>\n",
       "      <td>chrY</td>\n",
       "      <td>-</td>\n",
       "      <td>11214982-11215071</td>\n",
       "      <td>ENST00000652671</td>\n",
       "      <td>11153797-11215026</td>\n",
       "      <td>rs1478334010</td>\n",
       "      <td>11215019</td>\n",
       "      <td>11215020</td>\n",
       "      <td>A</td>\n",
       "      <td>G</td>\n",
       "      <td>CGGCCGCTGGGATCCGCACTTCCGGAGGAAAATGGCGAAGTGGGCG...</td>\n",
       "      <td>CGGCCGCTGGGATCCGCACTTCCGGAGGAAAATGGCGGAGTGGGCG...</td>\n",
       "      <td>0.222317</td>\n",
       "      <td>0.685043</td>\n",
       "      <td>0.316987</td>\n",
       "      <td>-2.927603</td>\n",
       "      <td>1</td>\n",
       "    </tr>\n",
       "    <tr>\n",
       "      <th>15750</th>\n",
       "      <td>chrY</td>\n",
       "      <td>+</td>\n",
       "      <td>2752038-2752127</td>\n",
       "      <td>ENST00000680285</td>\n",
       "      <td>2752083-2790921</td>\n",
       "      <td>rs1449257292</td>\n",
       "      <td>2752051</td>\n",
       "      <td>2752052</td>\n",
       "      <td>G</td>\n",
       "      <td>A</td>\n",
       "      <td>CACACGACTGAGTGTGCCTACACTGGTCCCACAGGTTTTCAGCTGT...</td>\n",
       "      <td>CACACGACTGAGTATGCCTACACTGGTCCCACAGGTTTTCAGCTGT...</td>\n",
       "      <td>0.017386</td>\n",
       "      <td>0.700260</td>\n",
       "      <td>0.478189</td>\n",
       "      <td>-7.044797</td>\n",
       "      <td>1</td>\n",
       "    </tr>\n",
       "  </tbody>\n",
       "</table>\n",
       "<p>6690639 rows × 17 columns</p>\n",
       "</div>"
      ],
      "text/plain": [
       "        chr strand    Donor_coordinates Ensemble_Transcript_ID  \\\n",
       "1275   chr1      -  171652644-171652733        ENST00000037502   \n",
       "3561   chr1      -    53945655-53945744        ENST00000194214   \n",
       "3565   chr1      -    53945655-53945744        ENST00000194214   \n",
       "3568   chr1      -    53945655-53945744        ENST00000194214   \n",
       "3569   chr1      -    53945655-53945744        ENST00000194214   \n",
       "...     ...    ...                  ...                    ...   \n",
       "12187  chrY      -    11214982-11215071        ENST00000651211   \n",
       "12206  chrY      -    11214982-11215071        ENST00000652671   \n",
       "12209  chrY      -    11214982-11215071        ENST00000652671   \n",
       "12214  chrY      -    11214982-11215071        ENST00000652671   \n",
       "15750  chrY      +      2752038-2752127        ENST00000680285   \n",
       "\n",
       "      Transcript_coordinates      dbsnp_id  varinat_start  variant_end  \\\n",
       "1275     171635417-171652688   rs931124801      171652687    171652688   \n",
       "3561       53921561-53945699  rs1447674588       53945658     53945659   \n",
       "3565       53921561-53945699   rs551209799       53945667     53945668   \n",
       "3568       53921561-53945699  rs1462348969       53945670     53945671   \n",
       "3569       53921561-53945699  rs1462348969       53945670     53945671   \n",
       "...                      ...           ...            ...          ...   \n",
       "12187      11161838-11215032  rs1478334010       11215019     11215020   \n",
       "12206      11153797-11215026  rs1489872183       11214996     11214997   \n",
       "12209      11153797-11215026  rs2082081606       11215005     11215006   \n",
       "12214      11153797-11215026  rs1478334010       11215019     11215020   \n",
       "15750        2752083-2790921  rs1449257292        2752051      2752052   \n",
       "\n",
       "      ref_neucleotide alternative_neucleotide  \\\n",
       "1275                C                       A   \n",
       "3561                G                       A   \n",
       "3565                G                       A   \n",
       "3568                G                       A   \n",
       "3569                G                       C   \n",
       "...               ...                     ...   \n",
       "12187               A                       G   \n",
       "12206               C                       A   \n",
       "12209               G                       A   \n",
       "12214               A                       G   \n",
       "15750               G                       A   \n",
       "\n",
       "                                           reference_seq  \\\n",
       "1275   TCTGCTGTGCTGAGAGGTGCCTGGATGGGTGGCCTTGCTGGCTCAT...   \n",
       "3561   GCCGCGGCCTCCGTGGAGTCCGGGGTCGCGCGCGCTCCAACTCTGA...   \n",
       "3565   GCCGCGGCCTCCGTGGAGTCCGGGGTCGCGCGCGCTCCAACTCTGA...   \n",
       "3568   GCCGCGGCCTCCGTGGAGTCCGGGGTCGCGCGCGCTCCAACTCTGA...   \n",
       "3569   GCCGCGGCCTCCGTGGAGTCCGGGGTCGCGCGCGCTCCAACTCTGA...   \n",
       "...                                                  ...   \n",
       "12187  CGGCCGCTGGGATCCGCACTTCCGGAGGAAAATGGCGAAGTGGGCG...   \n",
       "12206  CGGCCGCTGGGATCCGCACTTCCGGAGGAAAATGGCGAAGTGGGCG...   \n",
       "12209  CGGCCGCTGGGATCCGCACTTCCGGAGGAAAATGGCGAAGTGGGCG...   \n",
       "12214  CGGCCGCTGGGATCCGCACTTCCGGAGGAAAATGGCGAAGTGGGCG...   \n",
       "15750  CACACGACTGAGTGTGCCTACACTGGTCCCACAGGTTTTCAGCTGT...   \n",
       "\n",
       "                                                 alt_seq  Ref_probab  \\\n",
       "1275   TCTGCTGTGCTGAGAGGTGCCTGGATGGGTGGCCTTGCTGGCTAAT...    0.999701   \n",
       "3561   GCCACGGCCTCCGTGGAGTCCGGGGTCGCGCGCGCTCCAACTCTGA...    0.758328   \n",
       "3565   GCCGCGGCCTCCATGGAGTCCGGGGTCGCGCGCGCTCCAACTCTGA...    0.758328   \n",
       "3568   GCCGCGGCCTCCGTGAAGTCCGGGGTCGCGCGCGCTCCAACTCTGA...    0.758328   \n",
       "3569   GCCGCGGCCTCCGTGCAGTCCGGGGTCGCGCGCGCTCCAACTCTGA...    0.758328   \n",
       "...                                                  ...         ...   \n",
       "12187  CGGCCGCTGGGATCCGCACTTCCGGAGGAAAATGGCGGAGTGGGCG...    0.222317   \n",
       "12206  CGGCCGCTGGGATCAGCACTTCCGGAGGAAAATGGCGAAGTGGGCG...    0.222317   \n",
       "12209  CGGCCGCTGGGATCCGCACTTCCAGAGGAAAATGGCGAAGTGGGCG...    0.222317   \n",
       "12214  CGGCCGCTGGGATCCGCACTTCCGGAGGAAAATGGCGGAGTGGGCG...    0.222317   \n",
       "15750  CACACGACTGAGTATGCCTACACTGGTCCCACAGGTTTTCAGCTGT...    0.017386   \n",
       "\n",
       "       Alt_probab  ScoreChange  LogOddRatio  variant_length  \n",
       "1275     0.013452    -0.985954    17.903774               1  \n",
       "3561     0.332869    -0.322638     2.652787               1  \n",
       "3565     0.368232    -0.295821     2.428555               1  \n",
       "3568     0.004605    -0.571570     9.405620               1  \n",
       "3569     0.097874    -0.500842     4.854111               1  \n",
       "...           ...          ...          ...             ...  \n",
       "12187    0.685043     0.316987    -2.927603               1  \n",
       "12206    0.830404     0.504958    -4.098276               1  \n",
       "12209    0.997992     0.774118   -10.763972               1  \n",
       "12214    0.685043     0.316987    -2.927603               1  \n",
       "15750    0.700260     0.478189    -7.044797               1  \n",
       "\n",
       "[6690639 rows x 17 columns]"
      ]
     },
     "execution_count": 33,
     "metadata": {},
     "output_type": "execute_result"
    }
   ],
   "source": [
    "#df_interest['Z_Score'] = stats.zscore(df['LogOddRatio'])\n",
    "df_interest = df_interest[df_interest['variant_length']<=3]\n",
    "df_interest"
   ]
  },
  {
   "cell_type": "code",
   "execution_count": 17,
   "id": "c23b28a0-db15-486d-9bfc-2d270bb0a01b",
   "metadata": {},
   "outputs": [],
   "source": [
    "# mean = df_interest['LogOddRatio'].mean()\n",
    "# std = df_interest['LogOddRatio'].std()\n",
    "# print(mean, std)"
   ]
  },
  {
   "cell_type": "code",
   "execution_count": 23,
   "id": "e3d80ca2-c6de-4fbf-837b-d16d8a6c97fa",
   "metadata": {},
   "outputs": [],
   "source": [
    "# z_score, p_value = ztest(x1= df_interest['LogOddRatio'], value = mean)"
   ]
  },
  {
   "cell_type": "code",
   "execution_count": 34,
   "id": "ce700e5c-708b-4214-9cab-695a2f53a80b",
   "metadata": {},
   "outputs": [
    {
     "name": "stdout",
     "output_type": "stream",
     "text": [
      "-3.3219280948873626 3.3219280948873626\n"
     ]
    },
    {
     "data": {
      "image/png": "[encoded data removed]",
      "text/plain": [
       "<Figure size 640x480 with 1 Axes>"
      ]
     },
     "metadata": {},
     "output_type": "display_data"
    }
   ],
   "source": [
    "# print(z_score, p_value)\n",
    "# Plot the distribution of 'LogOddRatio'\n",
    "\n",
    "sns.kdeplot(df_interest['LogOddRatio'], fill=True, linewidth=1)\n",
    "\n",
    "# # Get the extreme values for a two tailed test at alpha = 0.05\n",
    "#z_critical = norm.ppf(1 - 0.05/2) # two-tailed test at alpha = 0.05\n",
    "\n",
    "\n",
    "\n",
    "x1= 3.3219280948873626\n",
    "x2 =-3.3219280948873626\n",
    "print(x2, x1)\n",
    "\n",
    "# Shade the area for the two tailed test\n",
    "plt.axvspan(min(df_interest['LogOddRatio']), x2, alpha=0.3, color='red')\n",
    "plt.axvspan(x1, max(df_interest['LogOddRatio']), alpha=0.3, color='red')\n",
    "\n",
    "# Add the observed z-score\n",
    "# plt.text(-17, 0.5, f'Left-tail value = {x2:.2f}', color='blue', ha='left', va='center')\n",
    "# plt.text(-3, 0.54, f'Right-tail value = {x1:.2f}', color='blue', ha='right', va='center')\n",
    "\n",
    "plt.title(f'Distribution of Relative Log Fold changes of Odds for TATA Model \\n Left-tail value = {x2:.2f};  Right-tail value = {x1:.2f}')\n",
    "plt.savefig('TATA_LogOddRatio_Distribution.png')\n",
    "plt.show()"
   ]
  },
  {
   "cell_type": "code",
   "execution_count": 35,
   "id": "84f0d768-0f1c-4849-b351-7c833586c8d6",
   "metadata": {},
   "outputs": [],
   "source": [
    "df_selected = df_interest[(df_interest['LogOddRatio']> x1)|(df_interest['LogOddRatio']<  x2)]"
   ]
  },
  {
   "cell_type": "code",
   "execution_count": 36,
   "id": "04057128-4ea0-4ec6-a6ad-c4ec91076780",
   "metadata": {},
   "outputs": [
    {
     "data": {
      "text/html": [
       "<div>\n",
       "<style scoped>\n",
       "    .dataframe tbody tr th:only-of-type {\n",
       "        vertical-align: middle;\n",
       "    }\n",
       "\n",
       "    .dataframe tbody tr th {\n",
       "        vertical-align: top;\n",
       "    }\n",
       "\n",
       "    .dataframe thead th {\n",
       "        text-align: right;\n",
       "    }\n",
       "</style>\n",
       "<table border=\"1\" class=\"dataframe\">\n",
       "  <thead>\n",
       "    <tr style=\"text-align: right;\">\n",
       "      <th></th>\n",
       "      <th>chr</th>\n",
       "      <th>strand</th>\n",
       "      <th>Donor_coordinates</th>\n",
       "      <th>Ensemble_Transcript_ID</th>\n",
       "      <th>Transcript_coordinates</th>\n",
       "      <th>dbsnp_id</th>\n",
       "      <th>varinat_start</th>\n",
       "      <th>variant_end</th>\n",
       "      <th>ref_neucleotide</th>\n",
       "      <th>alternative_neucleotide</th>\n",
       "      <th>reference_seq</th>\n",
       "      <th>alt_seq</th>\n",
       "      <th>Ref_probab</th>\n",
       "      <th>Alt_probab</th>\n",
       "      <th>ScoreChange</th>\n",
       "      <th>LogOddRatio</th>\n",
       "      <th>variant_length</th>\n",
       "    </tr>\n",
       "  </thead>\n",
       "  <tbody>\n",
       "    <tr>\n",
       "      <th>1275</th>\n",
       "      <td>chr1</td>\n",
       "      <td>-</td>\n",
       "      <td>171652644-171652733</td>\n",
       "      <td>ENST00000037502</td>\n",
       "      <td>171635417-171652688</td>\n",
       "      <td>rs931124801</td>\n",
       "      <td>171652687</td>\n",
       "      <td>171652688</td>\n",
       "      <td>C</td>\n",
       "      <td>A</td>\n",
       "      <td>TCTGCTGTGCTGAGAGGTGCCTGGATGGGTGGCCTTGCTGGCTCAT...</td>\n",
       "      <td>TCTGCTGTGCTGAGAGGTGCCTGGATGGGTGGCCTTGCTGGCTAAT...</td>\n",
       "      <td>0.999701</td>\n",
       "      <td>0.013452</td>\n",
       "      <td>-0.985954</td>\n",
       "      <td>17.903774</td>\n",
       "      <td>1</td>\n",
       "    </tr>\n",
       "    <tr>\n",
       "      <th>3568</th>\n",
       "      <td>chr1</td>\n",
       "      <td>-</td>\n",
       "      <td>53945655-53945744</td>\n",
       "      <td>ENST00000194214</td>\n",
       "      <td>53921561-53945699</td>\n",
       "      <td>rs1462348969</td>\n",
       "      <td>53945670</td>\n",
       "      <td>53945671</td>\n",
       "      <td>G</td>\n",
       "      <td>A</td>\n",
       "      <td>GCCGCGGCCTCCGTGGAGTCCGGGGTCGCGCGCGCTCCAACTCTGA...</td>\n",
       "      <td>GCCGCGGCCTCCGTGAAGTCCGGGGTCGCGCGCGCTCCAACTCTGA...</td>\n",
       "      <td>0.758328</td>\n",
       "      <td>0.004605</td>\n",
       "      <td>-0.571570</td>\n",
       "      <td>9.405620</td>\n",
       "      <td>1</td>\n",
       "    </tr>\n",
       "    <tr>\n",
       "      <th>3569</th>\n",
       "      <td>chr1</td>\n",
       "      <td>-</td>\n",
       "      <td>53945655-53945744</td>\n",
       "      <td>ENST00000194214</td>\n",
       "      <td>53921561-53945699</td>\n",
       "      <td>rs1462348969</td>\n",
       "      <td>53945670</td>\n",
       "      <td>53945671</td>\n",
       "      <td>G</td>\n",
       "      <td>C</td>\n",
       "      <td>GCCGCGGCCTCCGTGGAGTCCGGGGTCGCGCGCGCTCCAACTCTGA...</td>\n",
       "      <td>GCCGCGGCCTCCGTGCAGTCCGGGGTCGCGCGCGCTCCAACTCTGA...</td>\n",
       "      <td>0.758328</td>\n",
       "      <td>0.097874</td>\n",
       "      <td>-0.500842</td>\n",
       "      <td>4.854111</td>\n",
       "      <td>1</td>\n",
       "    </tr>\n",
       "    <tr>\n",
       "      <th>3570</th>\n",
       "      <td>chr1</td>\n",
       "      <td>-</td>\n",
       "      <td>53945655-53945744</td>\n",
       "      <td>ENST00000194214</td>\n",
       "      <td>53921561-53945699</td>\n",
       "      <td>rs925379522</td>\n",
       "      <td>53945671</td>\n",
       "      <td>53945672</td>\n",
       "      <td>A</td>\n",
       "      <td>C</td>\n",
       "      <td>GCCGCGGCCTCCGTGGAGTCCGGGGTCGCGCGCGCTCCAACTCTGA...</td>\n",
       "      <td>GCCGCGGCCTCCGTGGCGTCCGGGGTCGCGCGCGCTCCAACTCTGA...</td>\n",
       "      <td>0.758328</td>\n",
       "      <td>0.091363</td>\n",
       "      <td>-0.505779</td>\n",
       "      <td>4.963791</td>\n",
       "      <td>1</td>\n",
       "    </tr>\n",
       "    <tr>\n",
       "      <th>3580</th>\n",
       "      <td>chr1</td>\n",
       "      <td>-</td>\n",
       "      <td>53945655-53945744</td>\n",
       "      <td>ENST00000194214</td>\n",
       "      <td>53921561-53945699</td>\n",
       "      <td>rs528983452</td>\n",
       "      <td>53945685</td>\n",
       "      <td>53945686</td>\n",
       "      <td>C</td>\n",
       "      <td>A</td>\n",
       "      <td>GCCGCGGCCTCCGTGGAGTCCGGGGTCGCGCGCGCTCCAACTCTGA...</td>\n",
       "      <td>GCCGCGGCCTCCGTGGAGTCCGGGGTCGCGAGCGCTCCAACTCTGA...</td>\n",
       "      <td>0.758328</td>\n",
       "      <td>0.237932</td>\n",
       "      <td>-0.394631</td>\n",
       "      <td>3.329144</td>\n",
       "      <td>1</td>\n",
       "    </tr>\n",
       "    <tr>\n",
       "      <th>...</th>\n",
       "      <td>...</td>\n",
       "      <td>...</td>\n",
       "      <td>...</td>\n",
       "      <td>...</td>\n",
       "      <td>...</td>\n",
       "      <td>...</td>\n",
       "      <td>...</td>\n",
       "      <td>...</td>\n",
       "      <td>...</td>\n",
       "      <td>...</td>\n",
       "      <td>...</td>\n",
       "      <td>...</td>\n",
       "      <td>...</td>\n",
       "      <td>...</td>\n",
       "      <td>...</td>\n",
       "      <td>...</td>\n",
       "      <td>...</td>\n",
       "    </tr>\n",
       "    <tr>\n",
       "      <th>12179</th>\n",
       "      <td>chrY</td>\n",
       "      <td>-</td>\n",
       "      <td>11214982-11215071</td>\n",
       "      <td>ENST00000651211</td>\n",
       "      <td>11161838-11215032</td>\n",
       "      <td>rs1489872183</td>\n",
       "      <td>11214996</td>\n",
       "      <td>11214997</td>\n",
       "      <td>C</td>\n",
       "      <td>A</td>\n",
       "      <td>CGGCCGCTGGGATCCGCACTTCCGGAGGAAAATGGCGAAGTGGGCG...</td>\n",
       "      <td>CGGCCGCTGGGATCAGCACTTCCGGAGGAAAATGGCGAAGTGGGCG...</td>\n",
       "      <td>0.222317</td>\n",
       "      <td>0.830404</td>\n",
       "      <td>0.504958</td>\n",
       "      <td>-4.098276</td>\n",
       "      <td>1</td>\n",
       "    </tr>\n",
       "    <tr>\n",
       "      <th>12182</th>\n",
       "      <td>chrY</td>\n",
       "      <td>-</td>\n",
       "      <td>11214982-11215071</td>\n",
       "      <td>ENST00000651211</td>\n",
       "      <td>11161838-11215032</td>\n",
       "      <td>rs2082081606</td>\n",
       "      <td>11215005</td>\n",
       "      <td>11215006</td>\n",
       "      <td>G</td>\n",
       "      <td>A</td>\n",
       "      <td>CGGCCGCTGGGATCCGCACTTCCGGAGGAAAATGGCGAAGTGGGCG...</td>\n",
       "      <td>CGGCCGCTGGGATCCGCACTTCCAGAGGAAAATGGCGAAGTGGGCG...</td>\n",
       "      <td>0.222317</td>\n",
       "      <td>0.997992</td>\n",
       "      <td>0.774118</td>\n",
       "      <td>-10.763972</td>\n",
       "      <td>1</td>\n",
       "    </tr>\n",
       "    <tr>\n",
       "      <th>12206</th>\n",
       "      <td>chrY</td>\n",
       "      <td>-</td>\n",
       "      <td>11214982-11215071</td>\n",
       "      <td>ENST00000652671</td>\n",
       "      <td>11153797-11215026</td>\n",
       "      <td>rs1489872183</td>\n",
       "      <td>11214996</td>\n",
       "      <td>11214997</td>\n",
       "      <td>C</td>\n",
       "      <td>A</td>\n",
       "      <td>CGGCCGCTGGGATCCGCACTTCCGGAGGAAAATGGCGAAGTGGGCG...</td>\n",
       "      <td>CGGCCGCTGGGATCAGCACTTCCGGAGGAAAATGGCGAAGTGGGCG...</td>\n",
       "      <td>0.222317</td>\n",
       "      <td>0.830404</td>\n",
       "      <td>0.504958</td>\n",
       "      <td>-4.098276</td>\n",
       "      <td>1</td>\n",
       "    </tr>\n",
       "    <tr>\n",
       "      <th>12209</th>\n",
       "      <td>chrY</td>\n",
       "      <td>-</td>\n",
       "      <td>11214982-11215071</td>\n",
       "      <td>ENST00000652671</td>\n",
       "      <td>11153797-11215026</td>\n",
       "      <td>rs2082081606</td>\n",
       "      <td>11215005</td>\n",
       "      <td>11215006</td>\n",
       "      <td>G</td>\n",
       "      <td>A</td>\n",
       "      <td>CGGCCGCTGGGATCCGCACTTCCGGAGGAAAATGGCGAAGTGGGCG...</td>\n",
       "      <td>CGGCCGCTGGGATCCGCACTTCCAGAGGAAAATGGCGAAGTGGGCG...</td>\n",
       "      <td>0.222317</td>\n",
       "      <td>0.997992</td>\n",
       "      <td>0.774118</td>\n",
       "      <td>-10.763972</td>\n",
       "      <td>1</td>\n",
       "    </tr>\n",
       "    <tr>\n",
       "      <th>15750</th>\n",
       "      <td>chrY</td>\n",
       "      <td>+</td>\n",
       "      <td>2752038-2752127</td>\n",
       "      <td>ENST00000680285</td>\n",
       "      <td>2752083-2790921</td>\n",
       "      <td>rs1449257292</td>\n",
       "      <td>2752051</td>\n",
       "      <td>2752052</td>\n",
       "      <td>G</td>\n",
       "      <td>A</td>\n",
       "      <td>CACACGACTGAGTGTGCCTACACTGGTCCCACAGGTTTTCAGCTGT...</td>\n",
       "      <td>CACACGACTGAGTATGCCTACACTGGTCCCACAGGTTTTCAGCTGT...</td>\n",
       "      <td>0.017386</td>\n",
       "      <td>0.700260</td>\n",
       "      <td>0.478189</td>\n",
       "      <td>-7.044797</td>\n",
       "      <td>1</td>\n",
       "    </tr>\n",
       "  </tbody>\n",
       "</table>\n",
       "<p>5695866 rows × 17 columns</p>\n",
       "</div>"
      ],
      "text/plain": [
       "        chr strand    Donor_coordinates Ensemble_Transcript_ID  \\\n",
       "1275   chr1      -  171652644-171652733        ENST00000037502   \n",
       "3568   chr1      -    53945655-53945744        ENST00000194214   \n",
       "3569   chr1      -    53945655-53945744        ENST00000194214   \n",
       "3570   chr1      -    53945655-53945744        ENST00000194214   \n",
       "3580   chr1      -    53945655-53945744        ENST00000194214   \n",
       "...     ...    ...                  ...                    ...   \n",
       "12179  chrY      -    11214982-11215071        ENST00000651211   \n",
       "12182  chrY      -    11214982-11215071        ENST00000651211   \n",
       "12206  chrY      -    11214982-11215071        ENST00000652671   \n",
       "12209  chrY      -    11214982-11215071        ENST00000652671   \n",
       "15750  chrY      +      2752038-2752127        ENST00000680285   \n",
       "\n",
       "      Transcript_coordinates      dbsnp_id  varinat_start  variant_end  \\\n",
       "1275     171635417-171652688   rs931124801      171652687    171652688   \n",
       "3568       53921561-53945699  rs1462348969       53945670     53945671   \n",
       "3569       53921561-53945699  rs1462348969       53945670     53945671   \n",
       "3570       53921561-53945699   rs925379522       53945671     53945672   \n",
       "3580       53921561-53945699   rs528983452       53945685     53945686   \n",
       "...                      ...           ...            ...          ...   \n",
       "12179      11161838-11215032  rs1489872183       11214996     11214997   \n",
       "12182      11161838-11215032  rs2082081606       11215005     11215006   \n",
       "12206      11153797-11215026  rs1489872183       11214996     11214997   \n",
       "12209      11153797-11215026  rs2082081606       11215005     11215006   \n",
       "15750        2752083-2790921  rs1449257292        2752051      2752052   \n",
       "\n",
       "      ref_neucleotide alternative_neucleotide  \\\n",
       "1275                C                       A   \n",
       "3568                G                       A   \n",
       "3569                G                       C   \n",
       "3570                A                       C   \n",
       "3580                C                       A   \n",
       "...               ...                     ...   \n",
       "12179               C                       A   \n",
       "12182               G                       A   \n",
       "12206               C                       A   \n",
       "12209               G                       A   \n",
       "15750               G                       A   \n",
       "\n",
       "                                           reference_seq  \\\n",
       "1275   TCTGCTGTGCTGAGAGGTGCCTGGATGGGTGGCCTTGCTGGCTCAT...   \n",
       "3568   GCCGCGGCCTCCGTGGAGTCCGGGGTCGCGCGCGCTCCAACTCTGA...   \n",
       "3569   GCCGCGGCCTCCGTGGAGTCCGGGGTCGCGCGCGCTCCAACTCTGA...   \n",
       "3570   GCCGCGGCCTCCGTGGAGTCCGGGGTCGCGCGCGCTCCAACTCTGA...   \n",
       "3580   GCCGCGGCCTCCGTGGAGTCCGGGGTCGCGCGCGCTCCAACTCTGA...   \n",
       "...                                                  ...   \n",
       "12179  CGGCCGCTGGGATCCGCACTTCCGGAGGAAAATGGCGAAGTGGGCG...   \n",
       "12182  CGGCCGCTGGGATCCGCACTTCCGGAGGAAAATGGCGAAGTGGGCG...   \n",
       "12206  CGGCCGCTGGGATCCGCACTTCCGGAGGAAAATGGCGAAGTGGGCG...   \n",
       "12209  CGGCCGCTGGGATCCGCACTTCCGGAGGAAAATGGCGAAGTGGGCG...   \n",
       "15750  CACACGACTGAGTGTGCCTACACTGGTCCCACAGGTTTTCAGCTGT...   \n",
       "\n",
       "                                                 alt_seq  Ref_probab  \\\n",
       "1275   TCTGCTGTGCTGAGAGGTGCCTGGATGGGTGGCCTTGCTGGCTAAT...    0.999701   \n",
       "3568   GCCGCGGCCTCCGTGAAGTCCGGGGTCGCGCGCGCTCCAACTCTGA...    0.758328   \n",
       "3569   GCCGCGGCCTCCGTGCAGTCCGGGGTCGCGCGCGCTCCAACTCTGA...    0.758328   \n",
       "3570   GCCGCGGCCTCCGTGGCGTCCGGGGTCGCGCGCGCTCCAACTCTGA...    0.758328   \n",
       "3580   GCCGCGGCCTCCGTGGAGTCCGGGGTCGCGAGCGCTCCAACTCTGA...    0.758328   \n",
       "...                                                  ...         ...   \n",
       "12179  CGGCCGCTGGGATCAGCACTTCCGGAGGAAAATGGCGAAGTGGGCG...    0.222317   \n",
       "12182  CGGCCGCTGGGATCCGCACTTCCAGAGGAAAATGGCGAAGTGGGCG...    0.222317   \n",
       "12206  CGGCCGCTGGGATCAGCACTTCCGGAGGAAAATGGCGAAGTGGGCG...    0.222317   \n",
       "12209  CGGCCGCTGGGATCCGCACTTCCAGAGGAAAATGGCGAAGTGGGCG...    0.222317   \n",
       "15750  CACACGACTGAGTATGCCTACACTGGTCCCACAGGTTTTCAGCTGT...    0.017386   \n",
       "\n",
       "       Alt_probab  ScoreChange  LogOddRatio  variant_length  \n",
       "1275     0.013452    -0.985954    17.903774               1  \n",
       "3568     0.004605    -0.571570     9.405620               1  \n",
       "3569     0.097874    -0.500842     4.854111               1  \n",
       "3570     0.091363    -0.505779     4.963791               1  \n",
       "3580     0.237932    -0.394631     3.329144               1  \n",
       "...           ...          ...          ...             ...  \n",
       "12179    0.830404     0.504958    -4.098276               1  \n",
       "12182    0.997992     0.774118   -10.763972               1  \n",
       "12206    0.830404     0.504958    -4.098276               1  \n",
       "12209    0.997992     0.774118   -10.763972               1  \n",
       "15750    0.700260     0.478189    -7.044797               1  \n",
       "\n",
       "[5695866 rows x 17 columns]"
      ]
     },
     "execution_count": 36,
     "metadata": {},
     "output_type": "execute_result"
    }
   ],
   "source": [
    "df_selected"
   ]
  },
  {
   "cell_type": "code",
   "execution_count": 37,
   "id": "f5638ad2-5638-4276-aa2e-8a104bdf1792",
   "metadata": {},
   "outputs": [
    {
     "data": {
      "text/plain": [
       "358988"
      ]
     },
     "execution_count": 37,
     "metadata": {},
     "output_type": "execute_result"
    }
   ],
   "source": [
    "len(df_selected['dbsnp_id'].unique())"
   ]
  },
  {
   "cell_type": "code",
   "execution_count": 38,
   "id": "b019ffc6-62a3-4ae4-b0c0-1f636f0d6a9f",
   "metadata": {},
   "outputs": [
    {
     "data": {
      "text/plain": [
       "100586"
      ]
     },
     "execution_count": 38,
     "metadata": {},
     "output_type": "execute_result"
    }
   ],
   "source": [
    "len(df_selected['Donor_coordinates'].unique())"
   ]
  },
  {
   "cell_type": "code",
   "execution_count": 40,
   "id": "e4b45748-5c56-46e3-a839-658bfea9d241",
   "metadata": {},
   "outputs": [],
   "source": [
    "df_selected.to_csv(output_path+\"/candidates_TATA.tsv\", sep= \"\\t\", index=False)\n",
    "# Save to a .tsv file\n",
    "np.savetxt(output_path+\"/Unique_DBSNP_TATA.tsv\", df_selected['dbsnp_id'].unique(), delimiter=\"\\t\", fmt='%s')\n",
    "np.savetxt(output_path+\"/Unique_TATA_CorePromoter.tsv\", df_selected['Donor_coordinates'].unique(), delimiter=\"\\t\", fmt='%s')"
   ]
  },
  {
   "cell_type": "code",
   "execution_count": null,
   "id": "5461d610-b764-4995-8965-458d1ebbdef5",
   "metadata": {},
   "outputs": [],
   "source": [
    "sns.kdeplot(df_interest['LogOddRatio'])\n",
    "plt.show()\n"
   ]
  },
  {
   "cell_type": "code",
   "execution_count": 26,
   "id": "caf100d5-1b3f-4070-86aa-d871db834870",
   "metadata": {},
   "outputs": [
    {
     "data": {
      "text/plain": [
       "array(['GAGTGGAGCACTGTACATACCTGGCTGGATTGAGAATGGTAAGTAATTTGTAATAACATACCTGGCTTGTGCAAAAGCA',\n",
       "       'AGATTTCACCTCTGCAAATATGAGAGATTCTGCAGAAGGTAAGCTTGTGATATTGGCTTGGTCTGAATTGGGTGTGTAT',\n",
       "       'CTGGGTAATGCTGGTCACCAGCCTTGTGGCCCTTCAAGGTATGTCCAAAAGAGCCGTAAGCACCCCAAGCAATGAGGGT',\n",
       "       'CTACTACTACTATTCTGCAAACGAGGAATTCAGACCAGGTAAGTACCCATGCGTCTCATTTTGGAGGAATAGGTTTAAA',\n",
       "       'TCTCTCAGTGGTCGCTATCTGGAGGAGCTTAGCCAAAGGTAAGCTTTATTATGAATTAGCACAGTCAGCTTCACACAGT',\n",
       "       'TCTGACCAGTGCTGCTGTGACGAATCTTTCAGTTACAGGTAAGCAGCTGCCAGGCCATGCACCTGCTGAGCACATGGGA',\n",
       "       'GCTGAAAAATATTATGGCAACAAATGCATTATTCCATGGTAAGATACGTCTCATTATTGGAGTGTGTCTGAACATATAT',\n",
       "       'CAGTATCTGATTTCCACCCAGTCAAAAAAATTGTCCAGGTAAGCACAATATCCCTATTTATTTTCAGTCCTACCTCAAG',\n",
       "       'TTTGAAAACTTGTCTCCAGGAAGTGTTATTATATTCAGGTATGTTAATTGAGCTCAAACTGTTGACTTTACTTATATTT',\n",
       "       'TCACATCCATCAGAGGATTGCTGATCACTCTTACCAAGGTATGTTTTATCACAGTGTTAAAAAGTACTGCTTATCATTT',\n",
       "       'AACCAAATTTATATCTGCTTGGAACAACATGAAATATAGTAAGTATCATGTTTTAAAAATTGTATAAATCCAAAGAAAT',\n",
       "       'ACTTGTTCATGAATTATTTGGAAACAGTTCACAAGTAGGTAAGTTCTGTGGGAAAAATCATAACTATACTTATTTTAAA',\n",
       "       'TCTCGGTATCATCTGCAGAATATGGTACTAATGCAAAGGTAAGCCACATGTAGGGATTACCAGTTCAACAGATGCAAGC',\n",
       "       'AAAAGTCTTCTATGCAAACAGGTGCTGGTTTAAATCAGGTATGTATTTTATACACTGTAAACTGTAATAATTTGTTTCC',\n",
       "       'CACCTCTCTCAACTCTCTCCCTTAAGCACTGGGATCAGGTAAGTTTCCCTTATTGTTTATTTTATTGCACATGCCTTTG',\n",
       "       'AGATCCAAAGGAAGGAGGAGCTACCACCAAAGAGTCAGGTATGTTTTTAACTTAAGCTATGGAGCAACGTAAAAGATAC',\n",
       "       'TAGTAGGACTCTTTAAACCTTTTGTGGAAAGCTATCAGGTATGTAAATTTGGCAAGTTCTCCTTCATGCCCCCCATATC',\n",
       "       'GATCCAAAAGCATCCTTTGAGAATTGTATGAGTTATAGGTAAGTCAACAATTTAAATCAGGACATGACTTAATTCTTGT',\n",
       "       'TCACAGCTAAAGGAGCAGAGGAGACTCTTGGACCTCAGGTAAGCTTCAGGAAGAGGAGCAGGCTTCAAGTCTCACAGTG',\n",
       "       'AAAGCTAAAACCCTGCCACCTCAAAGCAATAATAAGAGGTAAGTCTTGTGGAACTACAGTATGACATTTAAAGCTTTGA',\n",
       "       'ATATTCACCAAGTCTTGACTCAGTCACCTTTTGTGCAGGTAAGCATTGGTGTCTGTTCAGTTGGCCCACAAATCTAGGT',\n",
       "       'GGCATACAGCAGGTGTATTAGCAGGATCTAGAATACGGGTAAGTTATACTTTTTAAAAAAAAAACTTTAAAattattat',\n",
       "       'CTGCGCTTGAACCTGTGCCTGAATACTACCCTAGAcaggttgagtattccctatctgaaatggctaggaccataagtgt',\n",
       "       'ACATCGGCAAACGTCAAAGTCCCAGCTTTCAAATACAGGTCTCTTCCAAAACTTACTCTCACATGATTCATAGGCTCCA',\n",
       "       'CATAATAGACGTGAGGATAAGAGAAGGAGGAAGGCCTACTAGCAATGTCGGCTTCATTTCCCAAACTGTGCTGAGGATA',\n",
       "       'CTAACCATCATATTTAGAACCAGCTGTTTACCAGAGTGGTAAGTTGGATTGTGTTTTATTTTGGTTTTTATTCTTCATT',\n",
       "       'ATATTCAGCTGGAGACCATTCCCTTGAAACTCTCTCAGGTATGCCCTTTCTTCTCAGTGGCATCTACTTACTGTCAAAC',\n",
       "       'ACACATTTTGGTTTTATacacacacacacacacacacacacacacacGAAAGACAAGTGGCAGCTGCAGGGATTGTGCT',\n",
       "       'ATACCATCTGTTGCAGACTGGGGTGCATGACATTTTAGGTAAGTAGCAGATGAAGATTTATGAAGCTGGGCCCTGAGGT',\n",
       "       'aatgtgcttcctactattcaTTGTTGCCCCGTCTCTAGGTAAGTCTTCTGTAATTTACATGCTTGTTGAAAGGATCTGT',\n",
       "       'CCCCCACCTTCTGGGATGTTAGCAGAGCCTTTTAACTGGTAAGTCTCTCCCAGGATGACTCGTAGGAGCCTCTCAGGAT',\n",
       "       'AAAGACTTGTCATTTGATCCATGTTCAAGACCCTTGAGGTATTGTTTCATCATTTCTGTATTGTCTTTCAATAAAGAAA',\n",
       "       'ATCTTTGCTTCAGTGGTTTTCTTTAAAGGCAAGCAAAGGTAAGTAAGCCATAACAAGTGTGCTTGGTTCAGATTTCTTC',\n",
       "       'TATTCAGATCATCGTGTTTGGGGAAGATACTGTGTAAGGTAAGTTTGCAGTCTTGATGCTGATCAATCGCAGGATGCTT',\n",
       "       'AGGAAACCACAATCTCACTGAAAATATACACTATTCAGGTAAGTACTAAGAGGTAAGTTAACCAAGCGCAAGCATGACT'],\n",
       "      dtype=object)"
      ]
     },
     "execution_count": 26,
     "metadata": {},
     "output_type": "execute_result"
    }
   ],
   "source": [
    "df_interest['reference_seq'].unique()"
   ]
  },
  {
   "cell_type": "code",
   "execution_count": 27,
   "id": "0e41685e-4af4-4f14-aeed-efcafdc1d0b7",
   "metadata": {},
   "outputs": [
    {
     "data": {
      "text/plain": [
       "dbsnp_id      ref_neucleotide                 alternative_neucleotide     reference_seq                                                                  \n",
       "rs1057516984  TT                              TTT                         TTTGAAAACTTGTCTCCAGGAAGTGTTATTATATTCAGGTATGTTAATTGAGCTCAAACTGTTGACTTTACTTATATTT     7\n",
       "rs10626387    T                               TCT                         AAAGACTTGTCATTTGATCCATGTTCAAGACCCTTGAGGTATTGTTTCATCATTTCTGTATTGTCTTTCAATAAAGAAA    15\n",
       "rs10668386    .                               TC                          AAAGACTTGTCATTTGATCCATGTTCAAGACCCTTGAGGTATTGTTTCATCATTTCTGTATTGTCTTTCAATAAAGAAA    15\n",
       "rs1158710364  TA                              TATA                        CTAACCATCATATTTAGAACCAGCTGTTTACCAGAGTGGTAAGTTGGATTGTGTTTTATTTTGGTTTTTATTCTTCATT     2\n",
       "rs1172687424  G                               T                           CTACTACTACTATTCTGCAAACGAGGAATTCAGACCAGGTAAGTACCCATGCGTCTCATTTTGGAGGAATAGGTTTAAA     5\n",
       "rs1197477113  .                               AG                          TCTCGGTATCATCTGCAGAATATGGTACTAATGCAAAGGTAAGCCACATGTAGGGATTACCAGTTCAACAGATGCAAGC     6\n",
       "rs1202559184  .                               CG                          TCTCTCAGTGGTCGCTATCTGGAGGAGCTTAGCCAAAGGTAAGCTTTATTATGAATTAGCACAGTCAGCTTCACACAGT     5\n",
       "rs1209017757  .                               A                           AGGAAACCACAATCTCACTGAAAATATACACTATTCAGGTAAGTACTAAGAGGTAAGTTAACCAAGCGCAAGCATGACT     1\n",
       "rs1212185079  TATTAT                          TAT                         GCTGAAAAATATTATGGCAACAAATGCATTATTCCATGGTAAGATACGTCTCATTATTGGAGTGTGTCTGAACATATAT     2\n",
       "rs1230423427  AA                              AAA                         TATTCAGATCATCGTGTTTGGGGAAGATACTGTGTAAGGTAAGTTTGCAGTCTTGATGCTGATCAATCGCAGGATGCTT     1\n",
       "rs1289052837  .                               C                           TCTGACCAGTGCTGCTGTGACGAATCTTTCAGTTACAGGTAAGCAGCTGCCAGGCCATGCACCTGCTGAGCACATGGGA     9\n",
       "rs1297116846  A                               AA                          CACCTCTCTCAACTCTCTCCCTTAAGCACTGGGATCAGGTAAGTTTCCCTTATTGTTTATTTTATTGCACATGCCTTTG    31\n",
       "rs1327345775  CC                              CCC                         GAGTGGAGCACTGTACATACCTGGCTGGATTGAGAATGGTAAGTAATTTGTAATAACATACCTGGCTTGTGCAAAAGCA     2\n",
       "rs1335012081  T                               C                           ATACCATCTGTTGCAGACTGGGGTGCATGACATTTTAGGTAAGTAGCAGATGAAGATTTATGAAGCTGGGCCCTGAGGT     7\n",
       "rs1367360018  .                               TA                          ATATTCAGCTGGAGACCATTCCCTTGAAACTCTCTCAGGTATGCCCTTTCTTCTCAGTGGCATCTACTTACTGTCAAAC     3\n",
       "rs1371540093  A                               AA                          ATATTCACCAAGTCTTGACTCAGTCACCTTTTGTGCAGGTAAGCATTGGTGTCTGTTCAGTTGGCCCACAAATCTAGGT     5\n",
       "rs1373911853  ACA                             ACACA                       GGCATACAGCAGGTGTATTAGCAGGATCTAGAATACGGGTAAGTTATACTTTTTAAAAAAAAAACTTTAAAattattat    12\n",
       "rs1375038646  .                               AA                          ACTTGTTCATGAATTATTTGGAAACAGTTCACAAGTAGGTAAGTTCTGTGGGAAAAATCATAACTATACTTATTTTAAA     6\n",
       "rs1390513841  AAA                             AAAA                        AGATCCAAAGGAAGGAGGAGCTACCACCAAAGAGTCAGGTATGTTTTTAACTTAAGCTATGGAGCAACGTAAAAGATAC     3\n",
       "rs141985486   ACACACACACACACACACACACACACACAC  ACACACACACACACACAC          ACACATTTTGGTTTTATacacacacacacacacacacacacacacacGAAAGACAAGTGGCAGCTGCAGGGATTGTGCT     3\n",
       "rs1436578674  T                               TT                          TAGTAGGACTCTTTAAACCTTTTGTGGAAAGCTATCAGGTATGTAAATTTGGCAAGTTCTCCTTCATGCCCCCCATATC     3\n",
       "rs1438467080  TACTACCCTA                      TA                          CTGCGCTTGAACCTGTGCCTGAATACTACCCTAGAcaggttgagtattccctatctgaaatggctaggaccataagtgt     6\n",
       "rs1445932658  .                               AA                          TCACATCCATCAGAGGATTGCTGATCACTCTTACCAAGGTATGTTTTATCACAGTGTTAAAAAGTACTGCTTATCATTT     5\n",
       "rs1490651176  .                               C                           CAGTATCTGATTTCCACCCAGTCAAAAAAATTGTCCAGGTAAGCACAATATCCCTATTTATTTTCAGTCCTACCTCAAG     5\n",
       "rs1553201305  C                               AA                          aatgtgcttcctactattcaTTGTTGCCCCGTCTCTAGGTAAGTCTTCTGTAATTTACATGCTTGTTGAAAGGATCTGT     2\n",
       "rs1640878857  .                               AA                          ATCTTTGCTTCAGTGGTTTTCTTTAAAGGCAAGCAAAGGTAAGTAAGCCATAACAAGTGTGCTTGGTTCAGATTTCTTC     1\n",
       "rs1640878887  .                               GCC                         ATCTTTGCTTCAGTGGTTTTCTTTAAAGGCAAGCAAAGGTAAGTAAGCCATAACAAGTGTGCTTGGTTCAGATTTCTTC     1\n",
       "rs1640951535  TTTT                            TTTTTT                      CCCCCACCTTCTGGGATGTTAGCAGAGCCTTTTAACTGGTAAGTCTCTCCCAGGATGACTCGTAGGAGCCTCTCAGGAT     2\n",
       "rs1643977254  .                               TTA                         ATATTCACCAAGTCTTGACTCAGTCACCTTTTGTGCAGGTAAGCATTGGTGTCTGTTCAGTTGGCCCACAAATCTAGGT     5\n",
       "rs1645467242  C                               A                           ATACCATCTGTTGCAGACTGGGGTGCATGACATTTTAGGTAAGTAGCAGATGAAGATTTATGAAGCTGGGCCCTGAGGT     7\n",
       "rs1648706534  .                               CT                          TCACAGCTAAAGGAGCAGAGGAGACTCTTGGACCTCAGGTAAGCTTCAGGAAGAGGAGCAGGCTTCAAGTCTCACAGTG     6\n",
       "rs1650105865  .                               TGAGGATGAGTGTGCTGGAAATGGCA  ACATCGGCAAACGTCAAAGTCCCAGCTTTCAAATACAGGTCTCTTCCAAAACTTACTCTCACATGATTCATAGGCTCCA     1\n",
       "rs202034790   TT                              TTTT                        AAAGACTTGTCATTTGATCCATGTTCAAGACCCTTGAGGTATTGTTTCATCATTTCTGTATTGTCTTTCAATAAAGAAA    15\n",
       "rs34979388    TT                              TTT                         aatgtgcttcctactattcaTTGTTGCCCCGTCTCTAGGTAAGTCTTCTGTAATTTACATGCTTGTTGAAAGGATCTGT     2\n",
       "rs35774161    .                               C                           AGATTTCACCTCTGCAAATATGAGAGATTCTGCAGAAGGTAAGCTTGTGATATTGGCTTGGTCTGAATTGGGTGTGTAT    12\n",
       "rs756626403   CCAGGTAAGTACCCA                 CCA                         CTACTACTACTATTCTGCAAACGAGGAATTCAGACCAGGTAAGTACCCATGCGTCTCATTTTGGAGGAATAGGTTTAAA     5\n",
       "rs757433704   T                               A                           CTACTACTACTATTCTGCAAACGAGGAATTCAGACCAGGTAAGTACCCATGCGTCTCATTTTGGAGGAATAGGTTTAAA     5\n",
       "rs759266909   .                               TT                          AAAAGTCTTCTATGCAAACAGGTGCTGGTTTAAATCAGGTATGTATTTTATACACTGTAAACTGTAATAATTTGTTTCC    21\n",
       "rs761296575   T                               TT                          AACCAAATTTATATCTGCTTGGAACAACATGAAATATAGTAAGTATCATGTTTTAAAAATTGTATAAATCCAAAGAAAT     4\n",
       "rs763481129   C                               T                           CTACTACTACTATTCTGCAAACGAGGAATTCAGACCAGGTAAGTACCCATGCGTCTCATTTTGGAGGAATAGGTTTAAA     5\n",
       "rs776835974   A                               AA                          GATCCAAAAGCATCCTTTGAGAATTGTATGAGTTATAGGTAAGTCAACAATTTAAATCAGGACATGACTTAATTCTTGT     4\n",
       "rs781957035   CACCA                           CACCACCA                    CTGGGTAATGCTGGTCACCAGCCTTGTGGCCCTTCAAGGTATGTCCAAAAGAGCCGTAAGCACCCCAAGCAATGAGGGT     5\n",
       "rs887819469   CCACC                           CCACCACC                    AAAGCTAAAACCCTGCCACCTCAAAGCAATAATAAGAGGTAAGTCTTGTGGAACTACAGTATGACATTTAAAGCTTTGA     6\n",
       "dtype: int64"
      ]
     },
     "execution_count": 27,
     "metadata": {},
     "output_type": "execute_result"
    }
   ],
   "source": [
    "df_interest.groupby(['dbsnp_id', 'ref_neucleotide','alternative_neucleotide',  'reference_seq']).size()"
   ]
  },
  {
   "cell_type": "code",
   "execution_count": 28,
   "id": "2c79d417-48ca-4e35-85a2-826b99911098",
   "metadata": {},
   "outputs": [
    {
     "data": {
      "text/plain": [
       "dbsnp_id      ref_neucleotide                 alternative_neucleotide   \n",
       "rs1057516984  TT                              TTT                            7\n",
       "rs10626387    T                               TCT                           15\n",
       "rs10668386    .                               TC                            15\n",
       "rs1158710364  TA                              TATA                           2\n",
       "rs1172687424  G                               T                              5\n",
       "rs1197477113  .                               AG                             6\n",
       "rs1202559184  .                               CG                             5\n",
       "rs1209017757  .                               A                              1\n",
       "rs1212185079  TATTAT                          TAT                            2\n",
       "rs1230423427  AA                              AAA                            1\n",
       "rs1289052837  .                               C                              9\n",
       "rs1297116846  A                               AA                            31\n",
       "rs1327345775  CC                              CCC                            2\n",
       "rs1335012081  T                               C                              7\n",
       "rs1367360018  .                               TA                             3\n",
       "rs1371540093  A                               AA                             5\n",
       "rs1373911853  ACA                             ACACA                         12\n",
       "rs1375038646  .                               AA                             6\n",
       "rs1390513841  AAA                             AAAA                           3\n",
       "rs141985486   ACACACACACACACACACACACACACACAC  ACACACACACACACACAC             3\n",
       "rs1436578674  T                               TT                             3\n",
       "rs1438467080  TACTACCCTA                      TA                             6\n",
       "rs1445932658  .                               AA                             5\n",
       "rs1490651176  .                               C                              5\n",
       "rs1553201305  C                               AA                             2\n",
       "rs1640878857  .                               AA                             1\n",
       "rs1640878887  .                               GCC                            1\n",
       "rs1640951535  TTTT                            TTTTTT                         2\n",
       "rs1643977254  .                               TTA                            5\n",
       "rs1645467242  C                               A                              7\n",
       "rs1648706534  .                               CT                             6\n",
       "rs1650105865  .                               TGAGGATGAGTGTGCTGGAAATGGCA     1\n",
       "rs202034790   TT                              TTTT                          15\n",
       "rs34979388    TT                              TTT                            2\n",
       "rs35774161    .                               C                             12\n",
       "rs756626403   CCAGGTAAGTACCCA                 CCA                            5\n",
       "rs757433704   T                               A                              5\n",
       "rs759266909   .                               TT                            21\n",
       "rs761296575   T                               TT                             4\n",
       "rs763481129   C                               T                              5\n",
       "rs776835974   A                               AA                             4\n",
       "rs781957035   CACCA                           CACCACCA                       5\n",
       "rs887819469   CCACC                           CCACCACC                       6\n",
       "dtype: int64"
      ]
     },
     "execution_count": 28,
     "metadata": {},
     "output_type": "execute_result"
    }
   ],
   "source": [
    "df_interest.groupby(['dbsnp_id', 'ref_neucleotide','alternative_neucleotide']).size()"
   ]
  },
  {
   "cell_type": "code",
   "execution_count": 157,
   "id": "0921c226-e30c-4bef-82f7-79fd59c47676",
   "metadata": {},
   "outputs": [
    {
     "name": "stdout",
     "output_type": "stream",
     "text": [
      "-0.267426781822307 0.7891405811788812\n"
     ]
    },
    {
     "data": {
      "image/png": "[encoded data removed]",
      "text/plain": [
       "<Figure size 640x480 with 1 Axes>"
      ]
     },
     "metadata": {},
     "output_type": "display_data"
    }
   ],
   "source": [
    "import numpy as np\n",
    "import matplotlib.pyplot as plt\n",
    "from scipy.stats import norm\n",
    "from statsmodels.stats.weightstats import ztest\n",
    "\n",
    "# Generate 1000 normally distributed data points\n",
    "mu, sigma = 0, 1 # mean and standard deviation\n",
    "s = np.random.normal(mu, sigma, 1000)\n",
    "\n",
    "# Perform the z test\n",
    "z_score, p_value = ztest(x1= s, value = mu)\n",
    "\n",
    "print(z_score, p_value)\n",
    "\n",
    "# # Generate data and plot the normal distribution\n",
    "x = np.linspace(-4, 4, 1000)\n",
    "y = norm.pdf(x, 0, 1)\n",
    "plt.plot(x, y)\n",
    "\n",
    "# Shade the two-tail regions\n",
    "plt.fill_between(x, 0, y, where=(x <= -abs(z_score)) | (x >= abs(z_score)), color='red', alpha=0.3)\n",
    "\n",
    "# # Mark the observed value\n",
    "plt.axvline(z_score, color='blue', linestyle='--', label=f'Observed z-score = {z_score:.2f}')\n",
    "plt.axvline(-z_score, color='blue', linestyle='--')\n",
    "\n",
    "plt.legend()\n",
    "plt.title('Two-tailed Z-test')\n",
    "plt.xlabel('Z-score')\n",
    "plt.ylabel('Probability density')\n",
    "plt.show()"
   ]
  },
  {
   "cell_type": "code",
   "execution_count": 168,
   "id": "b4d3d1fd-ec42-44fb-8577-8a9114330cd7",
   "metadata": {},
   "outputs": [
    {
     "name": "stdout",
     "output_type": "stream",
     "text": [
      "0.0 1.0\n",
      "1.959963984540054\n",
      "-1.9201628731122704 1.8585445470122721\n"
     ]
    },
    {
     "name": "stderr",
     "output_type": "stream",
     "text": [
      "/tmp/ipykernel_237056/578947367.py:17: UserWarning:\n",
      "\n",
      "\n",
      "\n",
      "`distplot` is a deprecated function and will be removed in seaborn v0.14.0.\n",
      "\n",
      "Please adapt your code to use either `displot` (a figure-level function with\n",
      "similar flexibility) or `kdeplot` (an axes-level function for kernel density plots).\n",
      "\n",
      "For a guide to updating your code to use the new functions, please see\n",
      "https://gist.github.com/mwaskom/de44147ed2974457ad6372750bbe5751\n",
      "\n",
      "\n",
      "/shared/software/anaconda/anaconda3/lib/python3.10/site-packages/seaborn/distributions.py:2511: FutureWarning:\n",
      "\n",
      "\n",
      "\n",
      "`shade` is now deprecated in favor of `fill`; setting `fill=True`.\n",
      "This will become an error in seaborn v0.14.0; please update your code.\n",
      "\n",
      "\n"
     ]
    },
    {
     "data": {
      "image/png": "[encoded data removed]",
      "text/plain": [
       "<Figure size 640x480 with 1 Axes>"
      ]
     },
     "metadata": {},
     "output_type": "display_data"
    }
   ],
   "source": [
    "import pandas as pd\n",
    "import numpy as np\n",
    "import matplotlib.pyplot as plt\n",
    "import seaborn as sns\n",
    "from scipy.stats import norm\n",
    "from statsmodels.stats.weightstats import ztest\n",
    "\n",
    "# Assume we have the following DataFrame\n",
    "df = pd.DataFrame({\n",
    "   'LogOddRatio': np.random.normal(0, 1, 1000)\n",
    "})\n",
    "\n",
    "# Perform the z test\n",
    "z_score, p_value = ztest(x1= df['LogOddRatio'], value =  df['LogOddRatio'].mean())\n",
    "print(z_score, p_value)\n",
    "# Plot the distribution of 'LogOddRatio'\n",
    "sns.distplot(df['LogOddRatio'], hist = False, kde = True, \n",
    "             kde_kws = {'shade': True, 'linewidth': 3})\n",
    "\n",
    "# Get the extreme values for a two tailed test at alpha = 0.05\n",
    "z_critical = norm.ppf(1 - 0.05/2) # two-tailed test at alpha = 0.05\n",
    "\n",
    "\n",
    "print(z_critical)\n",
    "x1, x2 = df['LogOddRatio'].mean() + z_critical*df['LogOddRatio'].std(), df['LogOddRatio'].mean() - z_critical*df['LogOddRatio'].std()\n",
    "print(x2, x1)\n",
    "# Shade the area for the two tailed test\n",
    "plt.axvspan(min(df['LogOddRatio']), x2, alpha=0.3, color='red')\n",
    "plt.axvspan(x1, max(df['LogOddRatio']), alpha=0.3, color='red')\n",
    "\n",
    "plt.title('Distribution of LogOddRatio')\n",
    "plt.show()\n"
   ]
  },
  {
   "cell_type": "code",
   "execution_count": null,
   "id": "ad11ff94-0a0a-4528-88d5-15a2d7aaac16",
   "metadata": {},
   "outputs": [],
   "source": []
  }
 ],
 "metadata": {
  "kernelspec": {
   "display_name": "Python 3 (ipykernel)",
   "language": "python",
   "name": "python3"
  },
  "language_info": {
   "codemirror_mode": {
    "name": "ipython",
    "version": 3
   },
   "file_extension": ".py",
   "mimetype": "text/x-python",
   "name": "python",
   "nbconvert_exporter": "python",
   "pygments_lexer": "ipython3",
   "version": "3.10.11"
  }
 },
 "nbformat": 4,
 "nbformat_minor": 5
}
