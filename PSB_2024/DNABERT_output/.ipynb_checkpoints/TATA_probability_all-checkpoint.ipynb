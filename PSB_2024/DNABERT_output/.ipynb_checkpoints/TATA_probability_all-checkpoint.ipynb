{
 "cells": [
  {
   "cell_type": "code",
   "execution_count": 1,
   "id": "63f40c7b-4e9b-4626-a876-38edcd6b2686",
   "metadata": {},
   "outputs": [],
   "source": [
    "import os, glob\n",
    "import numpy as np\n",
    "import pandas as pd\n",
    "import math\n",
    "from scipy.stats import norm\n",
    "import plotly.graph_objects as go\n",
    "import plotly.express as px\n",
    "import plotly.figure_factory as ff\n",
    "import seaborn as sns\n",
    "import matplotlib.pyplot as plt\n",
    "from scipy import stats\n",
    "from statsmodels.stats.weightstats import ztest"
   ]
  },
  {
   "cell_type": "code",
   "execution_count": 28,
   "id": "7f51a017-a684-4935-9920-bf80a213876e",
   "metadata": {},
   "outputs": [],
   "source": [
    "output_path = \"/data/projects/PSB/Output/TATA\"\n",
    "if not os.path.exists(output_path):\n",
    "    os.makedirs(output_path)"
   ]
  },
  {
   "cell_type": "code",
   "execution_count": 3,
   "id": "db1a15b6-3ae8-4725-9860-442dc53382b2",
   "metadata": {},
   "outputs": [],
   "source": [
    "chr_list = list(range(1, 23)) + ['X', 'Y']"
   ]
  },
  {
   "cell_type": "code",
   "execution_count": 4,
   "id": "52ab422b-6d9f-4615-9896-e2fc47196a07",
   "metadata": {},
   "outputs": [
    {
     "data": {
      "text/plain": [
       "[1,\n",
       " 2,\n",
       " 3,\n",
       " 4,\n",
       " 5,\n",
       " 6,\n",
       " 7,\n",
       " 8,\n",
       " 9,\n",
       " 10,\n",
       " 11,\n",
       " 12,\n",
       " 13,\n",
       " 14,\n",
       " 15,\n",
       " 16,\n",
       " 17,\n",
       " 18,\n",
       " 19,\n",
       " 20,\n",
       " 21,\n",
       " 22,\n",
       " 'X',\n",
       " 'Y']"
      ]
     },
     "execution_count": 4,
     "metadata": {},
     "output_type": "execute_result"
    }
   ],
   "source": [
    "chr_list"
   ]
  },
  {
   "cell_type": "code",
   "execution_count": 5,
   "id": "d0c512c7-f77d-4f25-9659-866eb47116c9",
   "metadata": {},
   "outputs": [],
   "source": [
    "def log_oods_ratio(p1,p2):\n",
    "    term1 = math.log2(p1/(1-p1))\n",
    "    term2 = math.log2(p2/(1-p2))\n",
    "    return (term1-term2)\n",
    "def calculate_diff_probab(p1,p2):\n",
    "    return((p2-p1)*max(p1,p2))"
   ]
  },
  {
   "cell_type": "code",
   "execution_count": 6,
   "id": "927633b9-cb8e-4d5c-b0ee-d5afd2814508",
   "metadata": {},
   "outputs": [
    {
     "name": "stdout",
     "output_type": "stream",
     "text": [
      "1\n",
      "17155560\n",
      "['/data/projects/PSB/DNABERT_data/CoreProm/chr1']\n",
      "(8577780, 12)\n",
      "2\n",
      "21011660\n",
      "['/data/projects/PSB/DNABERT_data/CoreProm/chr2']\n",
      "(10505830, 12)\n",
      "3\n",
      "19096864\n",
      "['/data/projects/PSB/DNABERT_data/CoreProm/chr3']\n",
      "(9548432, 12)\n",
      "4\n",
      "10303162\n",
      "['/data/projects/PSB/DNABERT_data/CoreProm/chr4']\n",
      "(5151581, 12)\n",
      "5\n",
      "11383010\n",
      "['/data/projects/PSB/DNABERT_data/CoreProm/chr5']\n",
      "(5691505, 12)\n",
      "6\n",
      "14330936\n",
      "['/data/projects/PSB/DNABERT_data/CoreProm/chr6']\n",
      "(7165468, 12)\n",
      "7\n",
      "11537934\n",
      "['/data/projects/PSB/DNABERT_data/CoreProm/chr7']\n",
      "(5768967, 12)\n",
      "8\n",
      "13183080\n",
      "['/data/projects/PSB/DNABERT_data/CoreProm/chr8']\n",
      "(6591540, 12)\n",
      "9\n",
      "7532658\n",
      "['/data/projects/PSB/DNABERT_data/CoreProm/chr9']\n",
      "(3766329, 12)\n",
      "10\n",
      "8363644\n",
      "['/data/projects/PSB/DNABERT_data/CoreProm/chr10']\n",
      "(4181822, 12)\n",
      "11\n",
      "16503994\n",
      "['/data/projects/PSB/DNABERT_data/CoreProm/chr11']\n",
      "(8251997, 12)\n",
      "12\n",
      "12433622\n",
      "['/data/projects/PSB/DNABERT_data/CoreProm/chr12']\n",
      "(6216811, 12)\n",
      "13\n",
      "4592298\n",
      "['/data/projects/PSB/DNABERT_data/CoreProm/chr13']\n",
      "(2296149, 12)\n",
      "14\n",
      "10498688\n",
      "['/data/projects/PSB/DNABERT_data/CoreProm/chr14']\n",
      "(5249344, 12)\n",
      "15\n",
      "9359098\n",
      "['/data/projects/PSB/DNABERT_data/CoreProm/chr15']\n",
      "(4679549, 12)\n",
      "16\n",
      "14653488\n",
      "['/data/projects/PSB/DNABERT_data/CoreProm/chr16']\n",
      "(7326744, 12)\n",
      "17\n",
      "16004628\n",
      "['/data/projects/PSB/DNABERT_data/CoreProm/chr17']\n",
      "(8002314, 12)\n",
      "18\n",
      "4685060\n",
      "['/data/projects/PSB/DNABERT_data/CoreProm/chr18']\n",
      "(2342530, 12)\n",
      "19\n",
      "14268866\n",
      "['/data/projects/PSB/DNABERT_data/CoreProm/chr19']\n",
      "(7134433, 12)\n",
      "20\n",
      "9975404\n",
      "['/data/projects/PSB/DNABERT_data/CoreProm/chr20']\n",
      "(4987702, 12)\n",
      "21\n",
      "4001144\n",
      "['/data/projects/PSB/DNABERT_data/CoreProm/chr21']\n",
      "(2000572, 12)\n",
      "22\n",
      "4753292\n",
      "['/data/projects/PSB/DNABERT_data/CoreProm/chr22']\n",
      "(2376646, 12)\n",
      "X\n",
      "5807478\n",
      "['/data/projects/PSB/DNABERT_data/CoreProm/chrX']\n",
      "(2903739, 12)\n",
      "Y\n",
      "35498\n",
      "['/data/projects/PSB/DNABERT_data/CoreProm/chrY']\n",
      "(17749, 12)\n"
     ]
    }
   ],
   "source": [
    "df_dict = {}\n",
    "df_list = []\n",
    "for chr_name in chr_list:\n",
    "    print(chr_name)\n",
    "    base_dir = \"/data/projects/PSB/DNABERT_data/CoreProm/chr\"+str(chr_name)\n",
    "    concat_probab = np.load(base_dir+\"/TATA/Prediction_result/pred_results.npy\")\n",
    "    print(len(concat_probab))\n",
    "    print(base_dir.split())\n",
    "    df = pd.read_csv(base_dir+\"/all_data.tsv\", sep= \"\\t\")\n",
    "    print(df.shape)\n",
    "    Reference_probab = concat_probab[::2]\n",
    "    Alternative_probab = concat_probab[1::2]\n",
    "    df['Ref_probab']=Reference_probab\n",
    "    df['Alt_probab']=Alternative_probab\n",
    "    df['ScoreChange'] = df.apply(lambda row: calculate_diff_probab(row['Ref_probab'], row['Alt_probab']), axis=1)\n",
    "    df['LogOddRatio'] = df.apply(lambda row: log_oods_ratio(row['Ref_probab'], row['Alt_probab']), axis=1)\n",
    "    df_list.append(df)"
   ]
  },
  {
   "cell_type": "code",
   "execution_count": 7,
   "id": "3463e015-6276-4113-801d-9d713d9726b2",
   "metadata": {},
   "outputs": [],
   "source": [
    "concatenated_df = pd.concat(df_list)"
   ]
  },
  {
   "cell_type": "code",
   "execution_count": 8,
   "id": "fa95f309-e8f5-4d60-b14b-b8ddaf1c35a2",
   "metadata": {},
   "outputs": [
    {
     "data": {
      "text/plain": [
       "(130735533, 16)"
      ]
     },
     "execution_count": 8,
     "metadata": {},
     "output_type": "execute_result"
    }
   ],
   "source": [
    "concatenated_df.shape"
   ]
  },
  {
   "cell_type": "code",
   "execution_count": 9,
   "id": "d7da1b60-5c4e-4a40-96db-eb9bca36b119",
   "metadata": {},
   "outputs": [
    {
     "data": {
      "text/html": [
       "<div>\n",
       "<style scoped>\n",
       "    .dataframe tbody tr th:only-of-type {\n",
       "        vertical-align: middle;\n",
       "    }\n",
       "\n",
       "    .dataframe tbody tr th {\n",
       "        vertical-align: top;\n",
       "    }\n",
       "\n",
       "    .dataframe thead th {\n",
       "        text-align: right;\n",
       "    }\n",
       "</style>\n",
       "<table border=\"1\" class=\"dataframe\">\n",
       "  <thead>\n",
       "    <tr style=\"text-align: right;\">\n",
       "      <th></th>\n",
       "      <th>chr</th>\n",
       "      <th>strand</th>\n",
       "      <th>Donor_coordinates</th>\n",
       "      <th>Ensemble_Transcript_ID</th>\n",
       "      <th>Transcript_coordinates</th>\n",
       "      <th>dbsnp_id</th>\n",
       "      <th>varinat_start</th>\n",
       "      <th>variant_end</th>\n",
       "      <th>ref_neucleotide</th>\n",
       "      <th>alternative_neucleotide</th>\n",
       "      <th>reference_seq</th>\n",
       "      <th>alt_seq</th>\n",
       "      <th>Ref_probab</th>\n",
       "      <th>Alt_probab</th>\n",
       "      <th>ScoreChange</th>\n",
       "      <th>LogOddRatio</th>\n",
       "    </tr>\n",
       "  </thead>\n",
       "  <tbody>\n",
       "    <tr>\n",
       "      <th>0</th>\n",
       "      <td>chr1</td>\n",
       "      <td>-</td>\n",
       "      <td>24413681-24413770</td>\n",
       "      <td>ENST00000498488</td>\n",
       "      <td>24391258-24416153</td>\n",
       "      <td>rs1643864567</td>\n",
       "      <td>24413681</td>\n",
       "      <td>24413682</td>\n",
       "      <td>G</td>\n",
       "      <td>A</td>\n",
       "      <td>GTCCCGGCAGCTGAATCTGGCCAGCCCAACCTCCCGGTCGCTATGG...</td>\n",
       "      <td>ATCCCGGCAGCTGAATCTGGCCAGCCCAACCTCCCGGTCGCTATGG...</td>\n",
       "      <td>0.026622</td>\n",
       "      <td>0.099541</td>\n",
       "      <td>0.007258</td>\n",
       "      <td>-2.015008</td>\n",
       "    </tr>\n",
       "    <tr>\n",
       "      <th>1</th>\n",
       "      <td>chr1</td>\n",
       "      <td>-</td>\n",
       "      <td>24413681-24413770</td>\n",
       "      <td>ENST00000498488</td>\n",
       "      <td>24391258-24416153</td>\n",
       "      <td>rs1643864567</td>\n",
       "      <td>24413681</td>\n",
       "      <td>24413682</td>\n",
       "      <td>G</td>\n",
       "      <td>C</td>\n",
       "      <td>GTCCCGGCAGCTGAATCTGGCCAGCCCAACCTCCCGGTCGCTATGG...</td>\n",
       "      <td>CTCCCGGCAGCTGAATCTGGCCAGCCCAACCTCCCGGTCGCTATGG...</td>\n",
       "      <td>0.026622</td>\n",
       "      <td>0.072640</td>\n",
       "      <td>0.003343</td>\n",
       "      <td>-1.518010</td>\n",
       "    </tr>\n",
       "    <tr>\n",
       "      <th>2</th>\n",
       "      <td>chr1</td>\n",
       "      <td>-</td>\n",
       "      <td>24413681-24413770</td>\n",
       "      <td>ENST00000498488</td>\n",
       "      <td>24391258-24416153</td>\n",
       "      <td>rs1643864776</td>\n",
       "      <td>24413684</td>\n",
       "      <td>24413685</td>\n",
       "      <td>C</td>\n",
       "      <td>A</td>\n",
       "      <td>GTCCCGGCAGCTGAATCTGGCCAGCCCAACCTCCCGGTCGCTATGG...</td>\n",
       "      <td>GTCACGGCAGCTGAATCTGGCCAGCCCAACCTCCCGGTCGCTATGG...</td>\n",
       "      <td>0.026622</td>\n",
       "      <td>0.017297</td>\n",
       "      <td>-0.000248</td>\n",
       "      <td>0.635876</td>\n",
       "    </tr>\n",
       "    <tr>\n",
       "      <th>3</th>\n",
       "      <td>chr1</td>\n",
       "      <td>-</td>\n",
       "      <td>24413681-24413770</td>\n",
       "      <td>ENST00000498488</td>\n",
       "      <td>24391258-24416153</td>\n",
       "      <td>rs927682595</td>\n",
       "      <td>24413685</td>\n",
       "      <td>24413686</td>\n",
       "      <td>C</td>\n",
       "      <td>G</td>\n",
       "      <td>GTCCCGGCAGCTGAATCTGGCCAGCCCAACCTCCCGGTCGCTATGG...</td>\n",
       "      <td>GTCCGGGCAGCTGAATCTGGCCAGCCCAACCTCCCGGTCGCTATGG...</td>\n",
       "      <td>0.026622</td>\n",
       "      <td>0.207703</td>\n",
       "      <td>0.037611</td>\n",
       "      <td>-3.260791</td>\n",
       "    </tr>\n",
       "    <tr>\n",
       "      <th>4</th>\n",
       "      <td>chr1</td>\n",
       "      <td>-</td>\n",
       "      <td>24413681-24413770</td>\n",
       "      <td>ENST00000498488</td>\n",
       "      <td>24391258-24416153</td>\n",
       "      <td>rs927682595</td>\n",
       "      <td>24413685</td>\n",
       "      <td>24413686</td>\n",
       "      <td>C</td>\n",
       "      <td>T</td>\n",
       "      <td>GTCCCGGCAGCTGAATCTGGCCAGCCCAACCTCCCGGTCGCTATGG...</td>\n",
       "      <td>GTCCTGGCAGCTGAATCTGGCCAGCCCAACCTCCCGGTCGCTATGG...</td>\n",
       "      <td>0.026622</td>\n",
       "      <td>0.031820</td>\n",
       "      <td>0.000165</td>\n",
       "      <td>-0.265059</td>\n",
       "    </tr>\n",
       "  </tbody>\n",
       "</table>\n",
       "</div>"
      ],
      "text/plain": [
       "    chr strand  Donor_coordinates Ensemble_Transcript_ID  \\\n",
       "0  chr1      -  24413681-24413770        ENST00000498488   \n",
       "1  chr1      -  24413681-24413770        ENST00000498488   \n",
       "2  chr1      -  24413681-24413770        ENST00000498488   \n",
       "3  chr1      -  24413681-24413770        ENST00000498488   \n",
       "4  chr1      -  24413681-24413770        ENST00000498488   \n",
       "\n",
       "  Transcript_coordinates      dbsnp_id  varinat_start  variant_end  \\\n",
       "0      24391258-24416153  rs1643864567       24413681     24413682   \n",
       "1      24391258-24416153  rs1643864567       24413681     24413682   \n",
       "2      24391258-24416153  rs1643864776       24413684     24413685   \n",
       "3      24391258-24416153   rs927682595       24413685     24413686   \n",
       "4      24391258-24416153   rs927682595       24413685     24413686   \n",
       "\n",
       "  ref_neucleotide alternative_neucleotide  \\\n",
       "0               G                       A   \n",
       "1               G                       C   \n",
       "2               C                       A   \n",
       "3               C                       G   \n",
       "4               C                       T   \n",
       "\n",
       "                                       reference_seq  \\\n",
       "0  GTCCCGGCAGCTGAATCTGGCCAGCCCAACCTCCCGGTCGCTATGG...   \n",
       "1  GTCCCGGCAGCTGAATCTGGCCAGCCCAACCTCCCGGTCGCTATGG...   \n",
       "2  GTCCCGGCAGCTGAATCTGGCCAGCCCAACCTCCCGGTCGCTATGG...   \n",
       "3  GTCCCGGCAGCTGAATCTGGCCAGCCCAACCTCCCGGTCGCTATGG...   \n",
       "4  GTCCCGGCAGCTGAATCTGGCCAGCCCAACCTCCCGGTCGCTATGG...   \n",
       "\n",
       "                                             alt_seq  Ref_probab  Alt_probab  \\\n",
       "0  ATCCCGGCAGCTGAATCTGGCCAGCCCAACCTCCCGGTCGCTATGG...    0.026622    0.099541   \n",
       "1  CTCCCGGCAGCTGAATCTGGCCAGCCCAACCTCCCGGTCGCTATGG...    0.026622    0.072640   \n",
       "2  GTCACGGCAGCTGAATCTGGCCAGCCCAACCTCCCGGTCGCTATGG...    0.026622    0.017297   \n",
       "3  GTCCGGGCAGCTGAATCTGGCCAGCCCAACCTCCCGGTCGCTATGG...    0.026622    0.207703   \n",
       "4  GTCCTGGCAGCTGAATCTGGCCAGCCCAACCTCCCGGTCGCTATGG...    0.026622    0.031820   \n",
       "\n",
       "   ScoreChange  LogOddRatio  \n",
       "0     0.007258    -2.015008  \n",
       "1     0.003343    -1.518010  \n",
       "2    -0.000248     0.635876  \n",
       "3     0.037611    -3.260791  \n",
       "4     0.000165    -0.265059  "
      ]
     },
     "execution_count": 9,
     "metadata": {},
     "output_type": "execute_result"
    }
   ],
   "source": [
    "concatenated_df.head()"
   ]
  },
  {
   "cell_type": "code",
   "execution_count": 18,
   "id": "ee694163-4c7b-4913-a954-506d3efddcb6",
   "metadata": {},
   "outputs": [
    {
     "data": {
      "text/html": [
       "<div>\n",
       "<style scoped>\n",
       "    .dataframe tbody tr th:only-of-type {\n",
       "        vertical-align: middle;\n",
       "    }\n",
       "\n",
       "    .dataframe tbody tr th {\n",
       "        vertical-align: top;\n",
       "    }\n",
       "\n",
       "    .dataframe thead th {\n",
       "        text-align: right;\n",
       "    }\n",
       "</style>\n",
       "<table border=\"1\" class=\"dataframe\">\n",
       "  <thead>\n",
       "    <tr style=\"text-align: right;\">\n",
       "      <th></th>\n",
       "      <th>chr</th>\n",
       "      <th>strand</th>\n",
       "      <th>Donor_coordinates</th>\n",
       "      <th>Ensemble_Transcript_ID</th>\n",
       "      <th>Transcript_coordinates</th>\n",
       "      <th>dbsnp_id</th>\n",
       "      <th>varinat_start</th>\n",
       "      <th>variant_end</th>\n",
       "      <th>ref_neucleotide</th>\n",
       "      <th>alternative_neucleotide</th>\n",
       "      <th>reference_seq</th>\n",
       "      <th>alt_seq</th>\n",
       "      <th>Ref_probab</th>\n",
       "      <th>Alt_probab</th>\n",
       "      <th>ScoreChange</th>\n",
       "      <th>LogOddRatio</th>\n",
       "    </tr>\n",
       "  </thead>\n",
       "  <tbody>\n",
       "    <tr>\n",
       "      <th>1275</th>\n",
       "      <td>chr1</td>\n",
       "      <td>-</td>\n",
       "      <td>171652644-171652733</td>\n",
       "      <td>ENST00000037502</td>\n",
       "      <td>171635417-171652688</td>\n",
       "      <td>rs931124801</td>\n",
       "      <td>171652687</td>\n",
       "      <td>171652688</td>\n",
       "      <td>C</td>\n",
       "      <td>A</td>\n",
       "      <td>TCTGCTGTGCTGAGAGGTGCCTGGATGGGTGGCCTTGCTGGCTCAT...</td>\n",
       "      <td>TCTGCTGTGCTGAGAGGTGCCTGGATGGGTGGCCTTGCTGGCTAAT...</td>\n",
       "      <td>0.999701</td>\n",
       "      <td>0.013452</td>\n",
       "      <td>-0.985954</td>\n",
       "      <td>17.903774</td>\n",
       "    </tr>\n",
       "    <tr>\n",
       "      <th>3561</th>\n",
       "      <td>chr1</td>\n",
       "      <td>-</td>\n",
       "      <td>53945655-53945744</td>\n",
       "      <td>ENST00000194214</td>\n",
       "      <td>53921561-53945699</td>\n",
       "      <td>rs1447674588</td>\n",
       "      <td>53945658</td>\n",
       "      <td>53945659</td>\n",
       "      <td>G</td>\n",
       "      <td>A</td>\n",
       "      <td>GCCGCGGCCTCCGTGGAGTCCGGGGTCGCGCGCGCTCCAACTCTGA...</td>\n",
       "      <td>GCCACGGCCTCCGTGGAGTCCGGGGTCGCGCGCGCTCCAACTCTGA...</td>\n",
       "      <td>0.758328</td>\n",
       "      <td>0.332869</td>\n",
       "      <td>-0.322638</td>\n",
       "      <td>2.652787</td>\n",
       "    </tr>\n",
       "    <tr>\n",
       "      <th>3564</th>\n",
       "      <td>chr1</td>\n",
       "      <td>-</td>\n",
       "      <td>53945655-53945744</td>\n",
       "      <td>ENST00000194214</td>\n",
       "      <td>53921561-53945699</td>\n",
       "      <td>rs1265927870</td>\n",
       "      <td>53945665</td>\n",
       "      <td>53945666</td>\n",
       "      <td>C</td>\n",
       "      <td>T</td>\n",
       "      <td>GCCGCGGCCTCCGTGGAGTCCGGGGTCGCGCGCGCTCCAACTCTGA...</td>\n",
       "      <td>GCCGCGGCCTTCGTGGAGTCCGGGGTCGCGCGCGCTCCAACTCTGA...</td>\n",
       "      <td>0.758328</td>\n",
       "      <td>0.486270</td>\n",
       "      <td>-0.206309</td>\n",
       "      <td>1.729026</td>\n",
       "    </tr>\n",
       "    <tr>\n",
       "      <th>3565</th>\n",
       "      <td>chr1</td>\n",
       "      <td>-</td>\n",
       "      <td>53945655-53945744</td>\n",
       "      <td>ENST00000194214</td>\n",
       "      <td>53921561-53945699</td>\n",
       "      <td>rs551209799</td>\n",
       "      <td>53945667</td>\n",
       "      <td>53945668</td>\n",
       "      <td>G</td>\n",
       "      <td>A</td>\n",
       "      <td>GCCGCGGCCTCCGTGGAGTCCGGGGTCGCGCGCGCTCCAACTCTGA...</td>\n",
       "      <td>GCCGCGGCCTCCATGGAGTCCGGGGTCGCGCGCGCTCCAACTCTGA...</td>\n",
       "      <td>0.758328</td>\n",
       "      <td>0.368232</td>\n",
       "      <td>-0.295821</td>\n",
       "      <td>2.428555</td>\n",
       "    </tr>\n",
       "    <tr>\n",
       "      <th>3568</th>\n",
       "      <td>chr1</td>\n",
       "      <td>-</td>\n",
       "      <td>53945655-53945744</td>\n",
       "      <td>ENST00000194214</td>\n",
       "      <td>53921561-53945699</td>\n",
       "      <td>rs1462348969</td>\n",
       "      <td>53945670</td>\n",
       "      <td>53945671</td>\n",
       "      <td>G</td>\n",
       "      <td>A</td>\n",
       "      <td>GCCGCGGCCTCCGTGGAGTCCGGGGTCGCGCGCGCTCCAACTCTGA...</td>\n",
       "      <td>GCCGCGGCCTCCGTGAAGTCCGGGGTCGCGCGCGCTCCAACTCTGA...</td>\n",
       "      <td>0.758328</td>\n",
       "      <td>0.004605</td>\n",
       "      <td>-0.571570</td>\n",
       "      <td>9.405620</td>\n",
       "    </tr>\n",
       "    <tr>\n",
       "      <th>...</th>\n",
       "      <td>...</td>\n",
       "      <td>...</td>\n",
       "      <td>...</td>\n",
       "      <td>...</td>\n",
       "      <td>...</td>\n",
       "      <td>...</td>\n",
       "      <td>...</td>\n",
       "      <td>...</td>\n",
       "      <td>...</td>\n",
       "      <td>...</td>\n",
       "      <td>...</td>\n",
       "      <td>...</td>\n",
       "      <td>...</td>\n",
       "      <td>...</td>\n",
       "      <td>...</td>\n",
       "      <td>...</td>\n",
       "    </tr>\n",
       "    <tr>\n",
       "      <th>17073</th>\n",
       "      <td>chrY</td>\n",
       "      <td>-</td>\n",
       "      <td>13336085-13336174</td>\n",
       "      <td>ENST00000684226</td>\n",
       "      <td>13234580-13359787</td>\n",
       "      <td>rs746016160</td>\n",
       "      <td>13336165</td>\n",
       "      <td>13336166</td>\n",
       "      <td>T</td>\n",
       "      <td>C</td>\n",
       "      <td>ATCTATTTTTTGAAGGCTTGCTCTCTTTGGTAAACATAATGCCTTG...</td>\n",
       "      <td>ATCTATTTTTTGAAGGCTTGCTCTCTTTGGTAAACATAATGCCTTG...</td>\n",
       "      <td>0.256852</td>\n",
       "      <td>0.525057</td>\n",
       "      <td>0.140823</td>\n",
       "      <td>-1.677429</td>\n",
       "    </tr>\n",
       "    <tr>\n",
       "      <th>17077</th>\n",
       "      <td>chrY</td>\n",
       "      <td>-</td>\n",
       "      <td>13336085-13336174</td>\n",
       "      <td>ENST00000682761</td>\n",
       "      <td>13234599-13336129</td>\n",
       "      <td>rs758077547</td>\n",
       "      <td>13336119</td>\n",
       "      <td>13336120</td>\n",
       "      <td>C</td>\n",
       "      <td>T</td>\n",
       "      <td>ATCTATTTTTTGAAGGCTTGCTCTCTTTGGTAAACATAATGCCTTG...</td>\n",
       "      <td>ATCTATTTTTTGAAGGCTTGCTCTCTTTGGTAAATATAATGCCTTG...</td>\n",
       "      <td>0.256852</td>\n",
       "      <td>0.544665</td>\n",
       "      <td>0.156762</td>\n",
       "      <td>-1.791152</td>\n",
       "    </tr>\n",
       "    <tr>\n",
       "      <th>17080</th>\n",
       "      <td>chrY</td>\n",
       "      <td>-</td>\n",
       "      <td>13336085-13336174</td>\n",
       "      <td>ENST00000682761</td>\n",
       "      <td>13234599-13336129</td>\n",
       "      <td>rs746016160</td>\n",
       "      <td>13336165</td>\n",
       "      <td>13336166</td>\n",
       "      <td>T</td>\n",
       "      <td>C</td>\n",
       "      <td>ATCTATTTTTTGAAGGCTTGCTCTCTTTGGTAAACATAATGCCTTG...</td>\n",
       "      <td>ATCTATTTTTTGAAGGCTTGCTCTCTTTGGTAAACATAATGCCTTG...</td>\n",
       "      <td>0.256852</td>\n",
       "      <td>0.525057</td>\n",
       "      <td>0.140823</td>\n",
       "      <td>-1.677429</td>\n",
       "    </tr>\n",
       "    <tr>\n",
       "      <th>17084</th>\n",
       "      <td>chrY</td>\n",
       "      <td>-</td>\n",
       "      <td>13336085-13336174</td>\n",
       "      <td>ENST00000682913</td>\n",
       "      <td>13249856-13479665</td>\n",
       "      <td>rs758077547</td>\n",
       "      <td>13336119</td>\n",
       "      <td>13336120</td>\n",
       "      <td>C</td>\n",
       "      <td>T</td>\n",
       "      <td>ATCTATTTTTTGAAGGCTTGCTCTCTTTGGTAAACATAATGCCTTG...</td>\n",
       "      <td>ATCTATTTTTTGAAGGCTTGCTCTCTTTGGTAAATATAATGCCTTG...</td>\n",
       "      <td>0.256852</td>\n",
       "      <td>0.544665</td>\n",
       "      <td>0.156762</td>\n",
       "      <td>-1.791152</td>\n",
       "    </tr>\n",
       "    <tr>\n",
       "      <th>17087</th>\n",
       "      <td>chrY</td>\n",
       "      <td>-</td>\n",
       "      <td>13336085-13336174</td>\n",
       "      <td>ENST00000682913</td>\n",
       "      <td>13249856-13479665</td>\n",
       "      <td>rs746016160</td>\n",
       "      <td>13336165</td>\n",
       "      <td>13336166</td>\n",
       "      <td>T</td>\n",
       "      <td>C</td>\n",
       "      <td>ATCTATTTTTTGAAGGCTTGCTCTCTTTGGTAAACATAATGCCTTG...</td>\n",
       "      <td>ATCTATTTTTTGAAGGCTTGCTCTCTTTGGTAAACATAATGCCTTG...</td>\n",
       "      <td>0.256852</td>\n",
       "      <td>0.525057</td>\n",
       "      <td>0.140823</td>\n",
       "      <td>-1.677429</td>\n",
       "    </tr>\n",
       "  </tbody>\n",
       "</table>\n",
       "<p>10035766 rows × 16 columns</p>\n",
       "</div>"
      ],
      "text/plain": [
       "        chr strand    Donor_coordinates Ensemble_Transcript_ID  \\\n",
       "1275   chr1      -  171652644-171652733        ENST00000037502   \n",
       "3561   chr1      -    53945655-53945744        ENST00000194214   \n",
       "3564   chr1      -    53945655-53945744        ENST00000194214   \n",
       "3565   chr1      -    53945655-53945744        ENST00000194214   \n",
       "3568   chr1      -    53945655-53945744        ENST00000194214   \n",
       "...     ...    ...                  ...                    ...   \n",
       "17073  chrY      -    13336085-13336174        ENST00000684226   \n",
       "17077  chrY      -    13336085-13336174        ENST00000682761   \n",
       "17080  chrY      -    13336085-13336174        ENST00000682761   \n",
       "17084  chrY      -    13336085-13336174        ENST00000682913   \n",
       "17087  chrY      -    13336085-13336174        ENST00000682913   \n",
       "\n",
       "      Transcript_coordinates      dbsnp_id  varinat_start  variant_end  \\\n",
       "1275     171635417-171652688   rs931124801      171652687    171652688   \n",
       "3561       53921561-53945699  rs1447674588       53945658     53945659   \n",
       "3564       53921561-53945699  rs1265927870       53945665     53945666   \n",
       "3565       53921561-53945699   rs551209799       53945667     53945668   \n",
       "3568       53921561-53945699  rs1462348969       53945670     53945671   \n",
       "...                      ...           ...            ...          ...   \n",
       "17073      13234580-13359787   rs746016160       13336165     13336166   \n",
       "17077      13234599-13336129   rs758077547       13336119     13336120   \n",
       "17080      13234599-13336129   rs746016160       13336165     13336166   \n",
       "17084      13249856-13479665   rs758077547       13336119     13336120   \n",
       "17087      13249856-13479665   rs746016160       13336165     13336166   \n",
       "\n",
       "      ref_neucleotide alternative_neucleotide  \\\n",
       "1275                C                       A   \n",
       "3561                G                       A   \n",
       "3564                C                       T   \n",
       "3565                G                       A   \n",
       "3568                G                       A   \n",
       "...               ...                     ...   \n",
       "17073               T                       C   \n",
       "17077               C                       T   \n",
       "17080               T                       C   \n",
       "17084               C                       T   \n",
       "17087               T                       C   \n",
       "\n",
       "                                           reference_seq  \\\n",
       "1275   TCTGCTGTGCTGAGAGGTGCCTGGATGGGTGGCCTTGCTGGCTCAT...   \n",
       "3561   GCCGCGGCCTCCGTGGAGTCCGGGGTCGCGCGCGCTCCAACTCTGA...   \n",
       "3564   GCCGCGGCCTCCGTGGAGTCCGGGGTCGCGCGCGCTCCAACTCTGA...   \n",
       "3565   GCCGCGGCCTCCGTGGAGTCCGGGGTCGCGCGCGCTCCAACTCTGA...   \n",
       "3568   GCCGCGGCCTCCGTGGAGTCCGGGGTCGCGCGCGCTCCAACTCTGA...   \n",
       "...                                                  ...   \n",
       "17073  ATCTATTTTTTGAAGGCTTGCTCTCTTTGGTAAACATAATGCCTTG...   \n",
       "17077  ATCTATTTTTTGAAGGCTTGCTCTCTTTGGTAAACATAATGCCTTG...   \n",
       "17080  ATCTATTTTTTGAAGGCTTGCTCTCTTTGGTAAACATAATGCCTTG...   \n",
       "17084  ATCTATTTTTTGAAGGCTTGCTCTCTTTGGTAAACATAATGCCTTG...   \n",
       "17087  ATCTATTTTTTGAAGGCTTGCTCTCTTTGGTAAACATAATGCCTTG...   \n",
       "\n",
       "                                                 alt_seq  Ref_probab  \\\n",
       "1275   TCTGCTGTGCTGAGAGGTGCCTGGATGGGTGGCCTTGCTGGCTAAT...    0.999701   \n",
       "3561   GCCACGGCCTCCGTGGAGTCCGGGGTCGCGCGCGCTCCAACTCTGA...    0.758328   \n",
       "3564   GCCGCGGCCTTCGTGGAGTCCGGGGTCGCGCGCGCTCCAACTCTGA...    0.758328   \n",
       "3565   GCCGCGGCCTCCATGGAGTCCGGGGTCGCGCGCGCTCCAACTCTGA...    0.758328   \n",
       "3568   GCCGCGGCCTCCGTGAAGTCCGGGGTCGCGCGCGCTCCAACTCTGA...    0.758328   \n",
       "...                                                  ...         ...   \n",
       "17073  ATCTATTTTTTGAAGGCTTGCTCTCTTTGGTAAACATAATGCCTTG...    0.256852   \n",
       "17077  ATCTATTTTTTGAAGGCTTGCTCTCTTTGGTAAATATAATGCCTTG...    0.256852   \n",
       "17080  ATCTATTTTTTGAAGGCTTGCTCTCTTTGGTAAACATAATGCCTTG...    0.256852   \n",
       "17084  ATCTATTTTTTGAAGGCTTGCTCTCTTTGGTAAATATAATGCCTTG...    0.256852   \n",
       "17087  ATCTATTTTTTGAAGGCTTGCTCTCTTTGGTAAACATAATGCCTTG...    0.256852   \n",
       "\n",
       "       Alt_probab  ScoreChange  LogOddRatio  \n",
       "1275     0.013452    -0.985954    17.903774  \n",
       "3561     0.332869    -0.322638     2.652787  \n",
       "3564     0.486270    -0.206309     1.729026  \n",
       "3565     0.368232    -0.295821     2.428555  \n",
       "3568     0.004605    -0.571570     9.405620  \n",
       "...           ...          ...          ...  \n",
       "17073    0.525057     0.140823    -1.677429  \n",
       "17077    0.544665     0.156762    -1.791152  \n",
       "17080    0.525057     0.140823    -1.677429  \n",
       "17084    0.544665     0.156762    -1.791152  \n",
       "17087    0.525057     0.140823    -1.677429  \n",
       "\n",
       "[10035766 rows x 16 columns]"
      ]
     },
     "execution_count": 18,
     "metadata": {},
     "output_type": "execute_result"
    }
   ],
   "source": [
    "#df_interest = df_interest[((df_interest['Ref_probab']>0.5) & (df_interest['Alt_probab']<0.5))|((df_interest['Ref_probab']<0.5) & (df_interest['Alt_probab']>0.5))]\n",
    "# df_interest = concatenated_df[(concatenated_df['Ref_probab']>0.5)|(concatenated_df['Alt_probab']>0.5)]\n",
    "# df_interest\n",
    "filtered_df1 = concatenated_df[(concatenated_df['Ref_probab'] > 0.5) & (concatenated_df['Alt_probab'] < 0.5)]\n",
    "filtered_df2 = concatenated_df[(concatenated_df['Ref_probab'] < 0.5) & (concatenated_df['Alt_probab'] > 0.5)]\n",
    "df_interest = pd.concat([filtered_df1, filtered_df2])\n",
    "df_interest"
   ]
  },
  {
   "cell_type": "code",
   "execution_count": 19,
   "id": "c19ccc9b-46f1-4983-9b96-af4fd6cc6bdc",
   "metadata": {},
   "outputs": [
    {
     "data": {
      "application/vnd.plotly.v1+json": {
       "config": {
        "plotlyServerURL": "https://plot.ly"
       },
       "data": [
        {
         "name": "Histogram",
         "type": "bar",
         "width": [
          3.0173194580869414,
          3.017319458086945,
          3.0173194580869414,
          3.017319458086945,
          3.0173194580869414,
          3.0173194580869414,
          3.017319458086945,
          3.0173194580869414,
          3.0173194580869414,
          3.017319458086945,
          3.017319458086945,
          3.017319458086938,
          3.017319458086945,
          3.017319458086945,
          3.017319458086938,
          3.017319458086945,
          3.017319458086945,
          3.017319458086938,
          3.017319458086945,
          3.017319458086945
         ],
         "x": [
          -28.611753521127454,
          -25.594434063040513,
          -22.57711460495357,
          -19.559795146866627,
          -16.54247568877968,
          -13.525156230692742,
          -10.507836772605799,
          -7.490517314518856,
          -4.473197856431915,
          -1.4558783983449715,
          1.5614410597419734,
          4.578760517828915,
          7.596079975915856,
          10.613399434002801,
          13.630718892089742,
          16.648038350176684,
          19.66535780826363,
          22.68267726635057,
          25.69999672443751,
          28.717316182524456
         ],
         "y": [
          4148,
          23178,
          61490,
          95102,
          175379,
          325424,
          499632,
          817488,
          1345828,
          1437145,
          1732817,
          1609939,
          828925,
          490855,
          286705,
          164417,
          74485,
          40601,
          19030,
          3178
         ]
        },
        {
         "mode": "text",
         "text": [
          "4148"
         ],
         "type": "scatter",
         "x": [
          -28.611753521127454
         ],
         "y": [
          4148
         ]
        },
        {
         "mode": "text",
         "text": [
          "23178"
         ],
         "type": "scatter",
         "x": [
          -25.594434063040513
         ],
         "y": [
          23178
         ]
        },
        {
         "mode": "text",
         "text": [
          "61490"
         ],
         "type": "scatter",
         "x": [
          -22.57711460495357
         ],
         "y": [
          61490
         ]
        },
        {
         "mode": "text",
         "text": [
          "95102"
         ],
         "type": "scatter",
         "x": [
          -19.559795146866627
         ],
         "y": [
          95102
         ]
        },
        {
         "mode": "text",
         "text": [
          "175379"
         ],
         "type": "scatter",
         "x": [
          -16.54247568877968
         ],
         "y": [
          175379
         ]
        },
        {
         "mode": "text",
         "text": [
          "325424"
         ],
         "type": "scatter",
         "x": [
          -13.525156230692742
         ],
         "y": [
          325424
         ]
        },
        {
         "mode": "text",
         "text": [
          "499632"
         ],
         "type": "scatter",
         "x": [
          -10.507836772605799
         ],
         "y": [
          499632
         ]
        },
        {
         "mode": "text",
         "text": [
          "817488"
         ],
         "type": "scatter",
         "x": [
          -7.490517314518856
         ],
         "y": [
          817488
         ]
        },
        {
         "mode": "text",
         "text": [
          "1345828"
         ],
         "type": "scatter",
         "x": [
          -4.473197856431915
         ],
         "y": [
          1345828
         ]
        },
        {
         "mode": "text",
         "text": [
          "1437145"
         ],
         "type": "scatter",
         "x": [
          -1.4558783983449715
         ],
         "y": [
          1437145
         ]
        },
        {
         "mode": "text",
         "text": [
          "1732817"
         ],
         "type": "scatter",
         "x": [
          1.5614410597419734
         ],
         "y": [
          1732817
         ]
        },
        {
         "mode": "text",
         "text": [
          "1609939"
         ],
         "type": "scatter",
         "x": [
          4.578760517828915
         ],
         "y": [
          1609939
         ]
        },
        {
         "mode": "text",
         "text": [
          "828925"
         ],
         "type": "scatter",
         "x": [
          7.596079975915856
         ],
         "y": [
          828925
         ]
        },
        {
         "mode": "text",
         "text": [
          "490855"
         ],
         "type": "scatter",
         "x": [
          10.613399434002801
         ],
         "y": [
          490855
         ]
        },
        {
         "mode": "text",
         "text": [
          "286705"
         ],
         "type": "scatter",
         "x": [
          13.630718892089742
         ],
         "y": [
          286705
         ]
        },
        {
         "mode": "text",
         "text": [
          "164417"
         ],
         "type": "scatter",
         "x": [
          16.648038350176684
         ],
         "y": [
          164417
         ]
        },
        {
         "mode": "text",
         "text": [
          "74485"
         ],
         "type": "scatter",
         "x": [
          19.66535780826363
         ],
         "y": [
          74485
         ]
        },
        {
         "mode": "text",
         "text": [
          "40601"
         ],
         "type": "scatter",
         "x": [
          22.68267726635057
         ],
         "y": [
          40601
         ]
        },
        {
         "mode": "text",
         "text": [
          "19030"
         ],
         "type": "scatter",
         "x": [
          25.69999672443751
         ],
         "y": [
          19030
         ]
        },
        {
         "mode": "text",
         "text": [
          "3178"
         ],
         "type": "scatter",
         "x": [
          28.717316182524456
         ],
         "y": [
          3178
         ]
        }
       ],
       "layout": {
        "autosize": true,
        "template": {
         "data": {
          "bar": [
           {
            "error_x": {
             "color": "#2a3f5f"
            },
            "error_y": {
             "color": "#2a3f5f"
            },
            "marker": {
             "line": {
              "color": "#E5ECF6",
              "width": 0.5
             },
             "pattern": {
              "fillmode": "overlay",
              "size": 10,
              "solidity": 0.2
             }
            },
            "type": "bar"
           }
          ],
          "barpolar": [
           {
            "marker": {
             "line": {
              "color": "#E5ECF6",
              "width": 0.5
             },
             "pattern": {
              "fillmode": "overlay",
              "size": 10,
              "solidity": 0.2
             }
            },
            "type": "barpolar"
           }
          ],
          "carpet": [
           {
            "aaxis": {
             "endlinecolor": "#2a3f5f",
             "gridcolor": "white",
             "linecolor": "white",
             "minorgridcolor": "white",
             "startlinecolor": "#2a3f5f"
            },
            "baxis": {
             "endlinecolor": "#2a3f5f",
             "gridcolor": "white",
             "linecolor": "white",
             "minorgridcolor": "white",
             "startlinecolor": "#2a3f5f"
            },
            "type": "carpet"
           }
          ],
          "choropleth": [
           {
            "colorbar": {
             "outlinewidth": 0,
             "ticks": ""
            },
            "type": "choropleth"
           }
          ],
          "contour": [
           {
            "colorbar": {
             "outlinewidth": 0,
             "ticks": ""
            },
            "colorscale": [
             [
              0,
              "#0d0887"
             ],
             [
              0.1111111111111111,
              "#46039f"
             ],
             [
              0.2222222222222222,
              "#7201a8"
             ],
             [
              0.3333333333333333,
              "#9c179e"
             ],
             [
              0.4444444444444444,
              "#bd3786"
             ],
             [
              0.5555555555555556,
              "#d8576b"
             ],
             [
              0.6666666666666666,
              "#ed7953"
             ],
             [
              0.7777777777777778,
              "#fb9f3a"
             ],
             [
              0.8888888888888888,
              "#fdca26"
             ],
             [
              1,
              "#f0f921"
             ]
            ],
            "type": "contour"
           }
          ],
          "contourcarpet": [
           {
            "colorbar": {
             "outlinewidth": 0,
             "ticks": ""
            },
            "type": "contourcarpet"
           }
          ],
          "heatmap": [
           {
            "colorbar": {
             "outlinewidth": 0,
             "ticks": ""
            },
            "colorscale": [
             [
              0,
              "#0d0887"
             ],
             [
              0.1111111111111111,
              "#46039f"
             ],
             [
              0.2222222222222222,
              "#7201a8"
             ],
             [
              0.3333333333333333,
              "#9c179e"
             ],
             [
              0.4444444444444444,
              "#bd3786"
             ],
             [
              0.5555555555555556,
              "#d8576b"
             ],
             [
              0.6666666666666666,
              "#ed7953"
             ],
             [
              0.7777777777777778,
              "#fb9f3a"
             ],
             [
              0.8888888888888888,
              "#fdca26"
             ],
             [
              1,
              "#f0f921"
             ]
            ],
            "type": "heatmap"
           }
          ],
          "heatmapgl": [
           {
            "colorbar": {
             "outlinewidth": 0,
             "ticks": ""
            },
            "colorscale": [
             [
              0,
              "#0d0887"
             ],
             [
              0.1111111111111111,
              "#46039f"
             ],
             [
              0.2222222222222222,
              "#7201a8"
             ],
             [
              0.3333333333333333,
              "#9c179e"
             ],
             [
              0.4444444444444444,
              "#bd3786"
             ],
             [
              0.5555555555555556,
              "#d8576b"
             ],
             [
              0.6666666666666666,
              "#ed7953"
             ],
             [
              0.7777777777777778,
              "#fb9f3a"
             ],
             [
              0.8888888888888888,
              "#fdca26"
             ],
             [
              1,
              "#f0f921"
             ]
            ],
            "type": "heatmapgl"
           }
          ],
          "histogram": [
           {
            "marker": {
             "pattern": {
              "fillmode": "overlay",
              "size": 10,
              "solidity": 0.2
             }
            },
            "type": "histogram"
           }
          ],
          "histogram2d": [
           {
            "colorbar": {
             "outlinewidth": 0,
             "ticks": ""
            },
            "colorscale": [
             [
              0,
              "#0d0887"
             ],
             [
              0.1111111111111111,
              "#46039f"
             ],
             [
              0.2222222222222222,
              "#7201a8"
             ],
             [
              0.3333333333333333,
              "#9c179e"
             ],
             [
              0.4444444444444444,
              "#bd3786"
             ],
             [
              0.5555555555555556,
              "#d8576b"
             ],
             [
              0.6666666666666666,
              "#ed7953"
             ],
             [
              0.7777777777777778,
              "#fb9f3a"
             ],
             [
              0.8888888888888888,
              "#fdca26"
             ],
             [
              1,
              "#f0f921"
             ]
            ],
            "type": "histogram2d"
           }
          ],
          "histogram2dcontour": [
           {
            "colorbar": {
             "outlinewidth": 0,
             "ticks": ""
            },
            "colorscale": [
             [
              0,
              "#0d0887"
             ],
             [
              0.1111111111111111,
              "#46039f"
             ],
             [
              0.2222222222222222,
              "#7201a8"
             ],
             [
              0.3333333333333333,
              "#9c179e"
             ],
             [
              0.4444444444444444,
              "#bd3786"
             ],
             [
              0.5555555555555556,
              "#d8576b"
             ],
             [
              0.6666666666666666,
              "#ed7953"
             ],
             [
              0.7777777777777778,
              "#fb9f3a"
             ],
             [
              0.8888888888888888,
              "#fdca26"
             ],
             [
              1,
              "#f0f921"
             ]
            ],
            "type": "histogram2dcontour"
           }
          ],
          "mesh3d": [
           {
            "colorbar": {
             "outlinewidth": 0,
             "ticks": ""
            },
            "type": "mesh3d"
           }
          ],
          "parcoords": [
           {
            "line": {
             "colorbar": {
              "outlinewidth": 0,
              "ticks": ""
             }
            },
            "type": "parcoords"
           }
          ],
          "pie": [
           {
            "automargin": true,
            "type": "pie"
           }
          ],
          "scatter": [
           {
            "fillpattern": {
             "fillmode": "overlay",
             "size": 10,
             "solidity": 0.2
            },
            "type": "scatter"
           }
          ],
          "scatter3d": [
           {
            "line": {
             "colorbar": {
              "outlinewidth": 0,
              "ticks": ""
             }
            },
            "marker": {
             "colorbar": {
              "outlinewidth": 0,
              "ticks": ""
             }
            },
            "type": "scatter3d"
           }
          ],
          "scattercarpet": [
           {
            "marker": {
             "colorbar": {
              "outlinewidth": 0,
              "ticks": ""
             }
            },
            "type": "scattercarpet"
           }
          ],
          "scattergeo": [
           {
            "marker": {
             "colorbar": {
              "outlinewidth": 0,
              "ticks": ""
             }
            },
            "type": "scattergeo"
           }
          ],
          "scattergl": [
           {
            "marker": {
             "colorbar": {
              "outlinewidth": 0,
              "ticks": ""
             }
            },
            "type": "scattergl"
           }
          ],
          "scattermapbox": [
           {
            "marker": {
             "colorbar": {
              "outlinewidth": 0,
              "ticks": ""
             }
            },
            "type": "scattermapbox"
           }
          ],
          "scatterpolar": [
           {
            "marker": {
             "colorbar": {
              "outlinewidth": 0,
              "ticks": ""
             }
            },
            "type": "scatterpolar"
           }
          ],
          "scatterpolargl": [
           {
            "marker": {
             "colorbar": {
              "outlinewidth": 0,
              "ticks": ""
             }
            },
            "type": "scatterpolargl"
           }
          ],
          "scatterternary": [
           {
            "marker": {
             "colorbar": {
              "outlinewidth": 0,
              "ticks": ""
             }
            },
            "type": "scatterternary"
           }
          ],
          "surface": [
           {
            "colorbar": {
             "outlinewidth": 0,
             "ticks": ""
            },
            "colorscale": [
             [
              0,
              "#0d0887"
             ],
             [
              0.1111111111111111,
              "#46039f"
             ],
             [
              0.2222222222222222,
              "#7201a8"
             ],
             [
              0.3333333333333333,
              "#9c179e"
             ],
             [
              0.4444444444444444,
              "#bd3786"
             ],
             [
              0.5555555555555556,
              "#d8576b"
             ],
             [
              0.6666666666666666,
              "#ed7953"
             ],
             [
              0.7777777777777778,
              "#fb9f3a"
             ],
             [
              0.8888888888888888,
              "#fdca26"
             ],
             [
              1,
              "#f0f921"
             ]
            ],
            "type": "surface"
           }
          ],
          "table": [
           {
            "cells": {
             "fill": {
              "color": "#EBF0F8"
             },
             "line": {
              "color": "white"
             }
            },
            "header": {
             "fill": {
              "color": "#C8D4E3"
             },
             "line": {
              "color": "white"
             }
            },
            "type": "table"
           }
          ]
         },
         "layout": {
          "annotationdefaults": {
           "arrowcolor": "#2a3f5f",
           "arrowhead": 0,
           "arrowwidth": 1
          },
          "autotypenumbers": "strict",
          "coloraxis": {
           "colorbar": {
            "outlinewidth": 0,
            "ticks": ""
           }
          },
          "colorscale": {
           "diverging": [
            [
             0,
             "#8e0152"
            ],
            [
             0.1,
             "#c51b7d"
            ],
            [
             0.2,
             "#de77ae"
            ],
            [
             0.3,
             "#f1b6da"
            ],
            [
             0.4,
             "#fde0ef"
            ],
            [
             0.5,
             "#f7f7f7"
            ],
            [
             0.6,
             "#e6f5d0"
            ],
            [
             0.7,
             "#b8e186"
            ],
            [
             0.8,
             "#7fbc41"
            ],
            [
             0.9,
             "#4d9221"
            ],
            [
             1,
             "#276419"
            ]
           ],
           "sequential": [
            [
             0,
             "#0d0887"
            ],
            [
             0.1111111111111111,
             "#46039f"
            ],
            [
             0.2222222222222222,
             "#7201a8"
            ],
            [
             0.3333333333333333,
             "#9c179e"
            ],
            [
             0.4444444444444444,
             "#bd3786"
            ],
            [
             0.5555555555555556,
             "#d8576b"
            ],
            [
             0.6666666666666666,
             "#ed7953"
            ],
            [
             0.7777777777777778,
             "#fb9f3a"
            ],
            [
             0.8888888888888888,
             "#fdca26"
            ],
            [
             1,
             "#f0f921"
            ]
           ],
           "sequentialminus": [
            [
             0,
             "#0d0887"
            ],
            [
             0.1111111111111111,
             "#46039f"
            ],
            [
             0.2222222222222222,
             "#7201a8"
            ],
            [
             0.3333333333333333,
             "#9c179e"
            ],
            [
             0.4444444444444444,
             "#bd3786"
            ],
            [
             0.5555555555555556,
             "#d8576b"
            ],
            [
             0.6666666666666666,
             "#ed7953"
            ],
            [
             0.7777777777777778,
             "#fb9f3a"
            ],
            [
             0.8888888888888888,
             "#fdca26"
            ],
            [
             1,
             "#f0f921"
            ]
           ]
          },
          "colorway": [
           "#636efa",
           "#EF553B",
           "#00cc96",
           "#ab63fa",
           "#FFA15A",
           "#19d3f3",
           "#FF6692",
           "#B6E880",
           "#FF97FF",
           "#FECB52"
          ],
          "font": {
           "color": "#2a3f5f"
          },
          "geo": {
           "bgcolor": "white",
           "lakecolor": "white",
           "landcolor": "#E5ECF6",
           "showlakes": true,
           "showland": true,
           "subunitcolor": "white"
          },
          "hoverlabel": {
           "align": "left"
          },
          "hovermode": "closest",
          "mapbox": {
           "style": "light"
          },
          "paper_bgcolor": "white",
          "plot_bgcolor": "#E5ECF6",
          "polar": {
           "angularaxis": {
            "gridcolor": "white",
            "linecolor": "white",
            "ticks": ""
           },
           "bgcolor": "#E5ECF6",
           "radialaxis": {
            "gridcolor": "white",
            "linecolor": "white",
            "ticks": ""
           }
          },
          "scene": {
           "xaxis": {
            "backgroundcolor": "#E5ECF6",
            "gridcolor": "white",
            "gridwidth": 2,
            "linecolor": "white",
            "showbackground": true,
            "ticks": "",
            "zerolinecolor": "white"
           },
           "yaxis": {
            "backgroundcolor": "#E5ECF6",
            "gridcolor": "white",
            "gridwidth": 2,
            "linecolor": "white",
            "showbackground": true,
            "ticks": "",
            "zerolinecolor": "white"
           },
           "zaxis": {
            "backgroundcolor": "#E5ECF6",
            "gridcolor": "white",
            "gridwidth": 2,
            "linecolor": "white",
            "showbackground": true,
            "ticks": "",
            "zerolinecolor": "white"
           }
          },
          "shapedefaults": {
           "line": {
            "color": "#2a3f5f"
           }
          },
          "ternary": {
           "aaxis": {
            "gridcolor": "white",
            "linecolor": "white",
            "ticks": ""
           },
           "baxis": {
            "gridcolor": "white",
            "linecolor": "white",
            "ticks": ""
           },
           "bgcolor": "#E5ECF6",
           "caxis": {
            "gridcolor": "white",
            "linecolor": "white",
            "ticks": ""
           }
          },
          "title": {
           "x": 0.05
          },
          "xaxis": {
           "automargin": true,
           "gridcolor": "white",
           "linecolor": "white",
           "ticks": "",
           "title": {
            "standoff": 15
           },
           "zerolinecolor": "white",
           "zerolinewidth": 2
          },
          "yaxis": {
           "automargin": true,
           "gridcolor": "white",
           "linecolor": "white",
           "ticks": "",
           "title": {
            "standoff": 15
           },
           "zerolinecolor": "white",
           "zerolinewidth": 2
          }
         }
        },
        "xaxis": {
         "autorange": true,
         "range": [
          -31.796701837997006,
          31.902264499394008
         ],
         "type": "linear"
        },
        "yaxis": {
         "autorange": true,
         "range": [
          -92913.05555555556,
          1828908.0555555555
         ],
         "type": "linear"
        }
       }
      },
      "image/png": "[encoded data removed]",
      "text/html": [
       "<div>                            <div id=\"70b416a1-302d-49a3-a0db-32fd5fffc594\" class=\"plotly-graph-div\" style=\"height:525px; width:100%;\"></div>            <script type=\"text/javascript\">                require([\"plotly\"], function(Plotly) {                    window.PLOTLYENV=window.PLOTLYENV || {};                                    if (document.getElementById(\"70b416a1-302d-49a3-a0db-32fd5fffc594\")) {                    Plotly.newPlot(                        \"70b416a1-302d-49a3-a0db-32fd5fffc594\",                        [{\"name\":\"Histogram\",\"width\":[3.0173194580869414,3.017319458086945,3.0173194580869414,3.017319458086945,3.0173194580869414,3.0173194580869414,3.017319458086945,3.0173194580869414,3.0173194580869414,3.017319458086945,3.017319458086945,3.017319458086938,3.017319458086945,3.017319458086945,3.017319458086938,3.017319458086945,3.017319458086945,3.017319458086938,3.017319458086945,3.017319458086945],\"x\":[-28.611753521127454,-25.594434063040513,-22.57711460495357,-19.559795146866627,-16.54247568877968,-13.525156230692742,-10.507836772605799,-7.490517314518856,-4.473197856431915,-1.4558783983449715,1.5614410597419734,4.578760517828915,7.596079975915856,10.613399434002801,13.630718892089742,16.648038350176684,19.66535780826363,22.68267726635057,25.69999672443751,28.717316182524456],\"y\":[4148,23178,61490,95102,175379,325424,499632,817488,1345828,1437145,1732817,1609939,828925,490855,286705,164417,74485,40601,19030,3178],\"type\":\"bar\"},{\"mode\":\"text\",\"text\":[\"4148\"],\"x\":[-28.611753521127454],\"y\":[4148],\"type\":\"scatter\"},{\"mode\":\"text\",\"text\":[\"23178\"],\"x\":[-25.594434063040513],\"y\":[23178],\"type\":\"scatter\"},{\"mode\":\"text\",\"text\":[\"61490\"],\"x\":[-22.57711460495357],\"y\":[61490],\"type\":\"scatter\"},{\"mode\":\"text\",\"text\":[\"95102\"],\"x\":[-19.559795146866627],\"y\":[95102],\"type\":\"scatter\"},{\"mode\":\"text\",\"text\":[\"175379\"],\"x\":[-16.54247568877968],\"y\":[175379],\"type\":\"scatter\"},{\"mode\":\"text\",\"text\":[\"325424\"],\"x\":[-13.525156230692742],\"y\":[325424],\"type\":\"scatter\"},{\"mode\":\"text\",\"text\":[\"499632\"],\"x\":[-10.507836772605799],\"y\":[499632],\"type\":\"scatter\"},{\"mode\":\"text\",\"text\":[\"817488\"],\"x\":[-7.490517314518856],\"y\":[817488],\"type\":\"scatter\"},{\"mode\":\"text\",\"text\":[\"1345828\"],\"x\":[-4.473197856431915],\"y\":[1345828],\"type\":\"scatter\"},{\"mode\":\"text\",\"text\":[\"1437145\"],\"x\":[-1.4558783983449715],\"y\":[1437145],\"type\":\"scatter\"},{\"mode\":\"text\",\"text\":[\"1732817\"],\"x\":[1.5614410597419734],\"y\":[1732817],\"type\":\"scatter\"},{\"mode\":\"text\",\"text\":[\"1609939\"],\"x\":[4.578760517828915],\"y\":[1609939],\"type\":\"scatter\"},{\"mode\":\"text\",\"text\":[\"828925\"],\"x\":[7.596079975915856],\"y\":[828925],\"type\":\"scatter\"},{\"mode\":\"text\",\"text\":[\"490855\"],\"x\":[10.613399434002801],\"y\":[490855],\"type\":\"scatter\"},{\"mode\":\"text\",\"text\":[\"286705\"],\"x\":[13.630718892089742],\"y\":[286705],\"type\":\"scatter\"},{\"mode\":\"text\",\"text\":[\"164417\"],\"x\":[16.648038350176684],\"y\":[164417],\"type\":\"scatter\"},{\"mode\":\"text\",\"text\":[\"74485\"],\"x\":[19.66535780826363],\"y\":[74485],\"type\":\"scatter\"},{\"mode\":\"text\",\"text\":[\"40601\"],\"x\":[22.68267726635057],\"y\":[40601],\"type\":\"scatter\"},{\"mode\":\"text\",\"text\":[\"19030\"],\"x\":[25.69999672443751],\"y\":[19030],\"type\":\"scatter\"},{\"mode\":\"text\",\"text\":[\"3178\"],\"x\":[28.717316182524456],\"y\":[3178],\"type\":\"scatter\"}],                        {\"template\":{\"data\":{\"histogram2dcontour\":[{\"type\":\"histogram2dcontour\",\"colorbar\":{\"outlinewidth\":0,\"ticks\":\"\"},\"colorscale\":[[0.0,\"#0d0887\"],[0.1111111111111111,\"#46039f\"],[0.2222222222222222,\"#7201a8\"],[0.3333333333333333,\"#9c179e\"],[0.4444444444444444,\"#bd3786\"],[0.5555555555555556,\"#d8576b\"],[0.6666666666666666,\"#ed7953\"],[0.7777777777777778,\"#fb9f3a\"],[0.8888888888888888,\"#fdca26\"],[1.0,\"#f0f921\"]]}],\"choropleth\":[{\"type\":\"choropleth\",\"colorbar\":{\"outlinewidth\":0,\"ticks\":\"\"}}],\"histogram2d\":[{\"type\":\"histogram2d\",\"colorbar\":{\"outlinewidth\":0,\"ticks\":\"\"},\"colorscale\":[[0.0,\"#0d0887\"],[0.1111111111111111,\"#46039f\"],[0.2222222222222222,\"#7201a8\"],[0.3333333333333333,\"#9c179e\"],[0.4444444444444444,\"#bd3786\"],[0.5555555555555556,\"#d8576b\"],[0.6666666666666666,\"#ed7953\"],[0.7777777777777778,\"#fb9f3a\"],[0.8888888888888888,\"#fdca26\"],[1.0,\"#f0f921\"]]}],\"heatmap\":[{\"type\":\"heatmap\",\"colorbar\":{\"outlinewidth\":0,\"ticks\":\"\"},\"colorscale\":[[0.0,\"#0d0887\"],[0.1111111111111111,\"#46039f\"],[0.2222222222222222,\"#7201a8\"],[0.3333333333333333,\"#9c179e\"],[0.4444444444444444,\"#bd3786\"],[0.5555555555555556,\"#d8576b\"],[0.6666666666666666,\"#ed7953\"],[0.7777777777777778,\"#fb9f3a\"],[0.8888888888888888,\"#fdca26\"],[1.0,\"#f0f921\"]]}],\"heatmapgl\":[{\"type\":\"heatmapgl\",\"colorbar\":{\"outlinewidth\":0,\"ticks\":\"\"},\"colorscale\":[[0.0,\"#0d0887\"],[0.1111111111111111,\"#46039f\"],[0.2222222222222222,\"#7201a8\"],[0.3333333333333333,\"#9c179e\"],[0.4444444444444444,\"#bd3786\"],[0.5555555555555556,\"#d8576b\"],[0.6666666666666666,\"#ed7953\"],[0.7777777777777778,\"#fb9f3a\"],[0.8888888888888888,\"#fdca26\"],[1.0,\"#f0f921\"]]}],\"contourcarpet\":[{\"type\":\"contourcarpet\",\"colorbar\":{\"outlinewidth\":0,\"ticks\":\"\"}}],\"contour\":[{\"type\":\"contour\",\"colorbar\":{\"outlinewidth\":0,\"ticks\":\"\"},\"colorscale\":[[0.0,\"#0d0887\"],[0.1111111111111111,\"#46039f\"],[0.2222222222222222,\"#7201a8\"],[0.3333333333333333,\"#9c179e\"],[0.4444444444444444,\"#bd3786\"],[0.5555555555555556,\"#d8576b\"],[0.6666666666666666,\"#ed7953\"],[0.7777777777777778,\"#fb9f3a\"],[0.8888888888888888,\"#fdca26\"],[1.0,\"#f0f921\"]]}],\"surface\":[{\"type\":\"surface\",\"colorbar\":{\"outlinewidth\":0,\"ticks\":\"\"},\"colorscale\":[[0.0,\"#0d0887\"],[0.1111111111111111,\"#46039f\"],[0.2222222222222222,\"#7201a8\"],[0.3333333333333333,\"#9c179e\"],[0.4444444444444444,\"#bd3786\"],[0.5555555555555556,\"#d8576b\"],[0.6666666666666666,\"#ed7953\"],[0.7777777777777778,\"#fb9f3a\"],[0.8888888888888888,\"#fdca26\"],[1.0,\"#f0f921\"]]}],\"mesh3d\":[{\"type\":\"mesh3d\",\"colorbar\":{\"outlinewidth\":0,\"ticks\":\"\"}}],\"scatter\":[{\"fillpattern\":{\"fillmode\":\"overlay\",\"size\":10,\"solidity\":0.2},\"type\":\"scatter\"}],\"parcoords\":[{\"type\":\"parcoords\",\"line\":{\"colorbar\":{\"outlinewidth\":0,\"ticks\":\"\"}}}],\"scatterpolargl\":[{\"type\":\"scatterpolargl\",\"marker\":{\"colorbar\":{\"outlinewidth\":0,\"ticks\":\"\"}}}],\"bar\":[{\"error_x\":{\"color\":\"#2a3f5f\"},\"error_y\":{\"color\":\"#2a3f5f\"},\"marker\":{\"line\":{\"color\":\"#E5ECF6\",\"width\":0.5},\"pattern\":{\"fillmode\":\"overlay\",\"size\":10,\"solidity\":0.2}},\"type\":\"bar\"}],\"scattergeo\":[{\"type\":\"scattergeo\",\"marker\":{\"colorbar\":{\"outlinewidth\":0,\"ticks\":\"\"}}}],\"scatterpolar\":[{\"type\":\"scatterpolar\",\"marker\":{\"colorbar\":{\"outlinewidth\":0,\"ticks\":\"\"}}}],\"histogram\":[{\"marker\":{\"pattern\":{\"fillmode\":\"overlay\",\"size\":10,\"solidity\":0.2}},\"type\":\"histogram\"}],\"scattergl\":[{\"type\":\"scattergl\",\"marker\":{\"colorbar\":{\"outlinewidth\":0,\"ticks\":\"\"}}}],\"scatter3d\":[{\"type\":\"scatter3d\",\"line\":{\"colorbar\":{\"outlinewidth\":0,\"ticks\":\"\"}},\"marker\":{\"colorbar\":{\"outlinewidth\":0,\"ticks\":\"\"}}}],\"scattermapbox\":[{\"type\":\"scattermapbox\",\"marker\":{\"colorbar\":{\"outlinewidth\":0,\"ticks\":\"\"}}}],\"scatterternary\":[{\"type\":\"scatterternary\",\"marker\":{\"colorbar\":{\"outlinewidth\":0,\"ticks\":\"\"}}}],\"scattercarpet\":[{\"type\":\"scattercarpet\",\"marker\":{\"colorbar\":{\"outlinewidth\":0,\"ticks\":\"\"}}}],\"carpet\":[{\"aaxis\":{\"endlinecolor\":\"#2a3f5f\",\"gridcolor\":\"white\",\"linecolor\":\"white\",\"minorgridcolor\":\"white\",\"startlinecolor\":\"#2a3f5f\"},\"baxis\":{\"endlinecolor\":\"#2a3f5f\",\"gridcolor\":\"white\",\"linecolor\":\"white\",\"minorgridcolor\":\"white\",\"startlinecolor\":\"#2a3f5f\"},\"type\":\"carpet\"}],\"table\":[{\"cells\":{\"fill\":{\"color\":\"#EBF0F8\"},\"line\":{\"color\":\"white\"}},\"header\":{\"fill\":{\"color\":\"#C8D4E3\"},\"line\":{\"color\":\"white\"}},\"type\":\"table\"}],\"barpolar\":[{\"marker\":{\"line\":{\"color\":\"#E5ECF6\",\"width\":0.5},\"pattern\":{\"fillmode\":\"overlay\",\"size\":10,\"solidity\":0.2}},\"type\":\"barpolar\"}],\"pie\":[{\"automargin\":true,\"type\":\"pie\"}]},\"layout\":{\"autotypenumbers\":\"strict\",\"colorway\":[\"#636efa\",\"#EF553B\",\"#00cc96\",\"#ab63fa\",\"#FFA15A\",\"#19d3f3\",\"#FF6692\",\"#B6E880\",\"#FF97FF\",\"#FECB52\"],\"font\":{\"color\":\"#2a3f5f\"},\"hovermode\":\"closest\",\"hoverlabel\":{\"align\":\"left\"},\"paper_bgcolor\":\"white\",\"plot_bgcolor\":\"#E5ECF6\",\"polar\":{\"bgcolor\":\"#E5ECF6\",\"angularaxis\":{\"gridcolor\":\"white\",\"linecolor\":\"white\",\"ticks\":\"\"},\"radialaxis\":{\"gridcolor\":\"white\",\"linecolor\":\"white\",\"ticks\":\"\"}},\"ternary\":{\"bgcolor\":\"#E5ECF6\",\"aaxis\":{\"gridcolor\":\"white\",\"linecolor\":\"white\",\"ticks\":\"\"},\"baxis\":{\"gridcolor\":\"white\",\"linecolor\":\"white\",\"ticks\":\"\"},\"caxis\":{\"gridcolor\":\"white\",\"linecolor\":\"white\",\"ticks\":\"\"}},\"coloraxis\":{\"colorbar\":{\"outlinewidth\":0,\"ticks\":\"\"}},\"colorscale\":{\"sequential\":[[0.0,\"#0d0887\"],[0.1111111111111111,\"#46039f\"],[0.2222222222222222,\"#7201a8\"],[0.3333333333333333,\"#9c179e\"],[0.4444444444444444,\"#bd3786\"],[0.5555555555555556,\"#d8576b\"],[0.6666666666666666,\"#ed7953\"],[0.7777777777777778,\"#fb9f3a\"],[0.8888888888888888,\"#fdca26\"],[1.0,\"#f0f921\"]],\"sequentialminus\":[[0.0,\"#0d0887\"],[0.1111111111111111,\"#46039f\"],[0.2222222222222222,\"#7201a8\"],[0.3333333333333333,\"#9c179e\"],[0.4444444444444444,\"#bd3786\"],[0.5555555555555556,\"#d8576b\"],[0.6666666666666666,\"#ed7953\"],[0.7777777777777778,\"#fb9f3a\"],[0.8888888888888888,\"#fdca26\"],[1.0,\"#f0f921\"]],\"diverging\":[[0,\"#8e0152\"],[0.1,\"#c51b7d\"],[0.2,\"#de77ae\"],[0.3,\"#f1b6da\"],[0.4,\"#fde0ef\"],[0.5,\"#f7f7f7\"],[0.6,\"#e6f5d0\"],[0.7,\"#b8e186\"],[0.8,\"#7fbc41\"],[0.9,\"#4d9221\"],[1,\"#276419\"]]},\"xaxis\":{\"gridcolor\":\"white\",\"linecolor\":\"white\",\"ticks\":\"\",\"title\":{\"standoff\":15},\"zerolinecolor\":\"white\",\"automargin\":true,\"zerolinewidth\":2},\"yaxis\":{\"gridcolor\":\"white\",\"linecolor\":\"white\",\"ticks\":\"\",\"title\":{\"standoff\":15},\"zerolinecolor\":\"white\",\"automargin\":true,\"zerolinewidth\":2},\"scene\":{\"xaxis\":{\"backgroundcolor\":\"#E5ECF6\",\"gridcolor\":\"white\",\"linecolor\":\"white\",\"showbackground\":true,\"ticks\":\"\",\"zerolinecolor\":\"white\",\"gridwidth\":2},\"yaxis\":{\"backgroundcolor\":\"#E5ECF6\",\"gridcolor\":\"white\",\"linecolor\":\"white\",\"showbackground\":true,\"ticks\":\"\",\"zerolinecolor\":\"white\",\"gridwidth\":2},\"zaxis\":{\"backgroundcolor\":\"#E5ECF6\",\"gridcolor\":\"white\",\"linecolor\":\"white\",\"showbackground\":true,\"ticks\":\"\",\"zerolinecolor\":\"white\",\"gridwidth\":2}},\"shapedefaults\":{\"line\":{\"color\":\"#2a3f5f\"}},\"annotationdefaults\":{\"arrowcolor\":\"#2a3f5f\",\"arrowhead\":0,\"arrowwidth\":1},\"geo\":{\"bgcolor\":\"white\",\"landcolor\":\"#E5ECF6\",\"subunitcolor\":\"white\",\"showland\":true,\"showlakes\":true,\"lakecolor\":\"white\"},\"title\":{\"x\":0.05},\"mapbox\":{\"style\":\"light\"}}}},                        {\"responsive\": true}                    ).then(function(){\n",
       "                            \n",
       "var gd = document.getElementById('70b416a1-302d-49a3-a0db-32fd5fffc594');\n",
       "var x = new MutationObserver(function (mutations, observer) {{\n",
       "        var display = window.getComputedStyle(gd).display;\n",
       "        if (!display || display === 'none') {{\n",
       "            console.log([gd, 'removed!']);\n",
       "            Plotly.purge(gd);\n",
       "            observer.disconnect();\n",
       "        }}\n",
       "}});\n",
       "\n",
       "// Listen for the removal of the full notebook cells\n",
       "var notebookContainer = gd.closest('#notebook-container');\n",
       "if (notebookContainer) {{\n",
       "    x.observe(notebookContainer, {childList: true});\n",
       "}}\n",
       "\n",
       "// Listen for the clearing of the current output cell\n",
       "var outputEl = gd.closest('.output');\n",
       "if (outputEl) {{\n",
       "    x.observe(outputEl, {childList: true});\n",
       "}}\n",
       "\n",
       "                        })                };                });            </script>        </div>"
      ]
     },
     "metadata": {},
     "output_type": "display_data"
    }
   ],
   "source": [
    "# Plot the figure\n",
    "counts, bins = np.histogram(df_interest['LogOddRatio'], bins=20)\n",
    "bin_midpoints = bins[:-1] + np.diff(bins)/2\n",
    "\n",
    "fig = go.Figure()\n",
    "\n",
    "fig.add_trace(go.Bar(\n",
    "    x=bin_midpoints,\n",
    "    y=counts,\n",
    "    width=np.diff(bins), # makes bars have correct widths\n",
    "    name='Histogram'\n",
    "))\n",
    "# add text labels for counts\n",
    "for i in range(len(counts)):\n",
    "    fig.add_trace(go.Scatter(\n",
    "        x=[bin_midpoints[i]],\n",
    "        y=[counts[i]],\n",
    "        text=[str(counts[i])],\n",
    "        mode='text',\n",
    "    ))\n",
    "\n",
    "fig.show()"
   ]
  },
  {
   "cell_type": "code",
   "execution_count": 20,
   "id": "8048e35d-fc61-4e5f-8af6-98dc18553e71",
   "metadata": {},
   "outputs": [
    {
     "data": {
      "text/html": [
       "<div>\n",
       "<style scoped>\n",
       "    .dataframe tbody tr th:only-of-type {\n",
       "        vertical-align: middle;\n",
       "    }\n",
       "\n",
       "    .dataframe tbody tr th {\n",
       "        vertical-align: top;\n",
       "    }\n",
       "\n",
       "    .dataframe thead th {\n",
       "        text-align: right;\n",
       "    }\n",
       "</style>\n",
       "<table border=\"1\" class=\"dataframe\">\n",
       "  <thead>\n",
       "    <tr style=\"text-align: right;\">\n",
       "      <th></th>\n",
       "      <th>chr</th>\n",
       "      <th>strand</th>\n",
       "      <th>Donor_coordinates</th>\n",
       "      <th>Ensemble_Transcript_ID</th>\n",
       "      <th>Transcript_coordinates</th>\n",
       "      <th>dbsnp_id</th>\n",
       "      <th>varinat_start</th>\n",
       "      <th>variant_end</th>\n",
       "      <th>ref_neucleotide</th>\n",
       "      <th>alternative_neucleotide</th>\n",
       "      <th>reference_seq</th>\n",
       "      <th>alt_seq</th>\n",
       "      <th>Ref_probab</th>\n",
       "      <th>Alt_probab</th>\n",
       "      <th>ScoreChange</th>\n",
       "      <th>LogOddRatio</th>\n",
       "      <th>variant_length</th>\n",
       "    </tr>\n",
       "  </thead>\n",
       "  <tbody>\n",
       "    <tr>\n",
       "      <th>1275</th>\n",
       "      <td>chr1</td>\n",
       "      <td>-</td>\n",
       "      <td>171652644-171652733</td>\n",
       "      <td>ENST00000037502</td>\n",
       "      <td>171635417-171652688</td>\n",
       "      <td>rs931124801</td>\n",
       "      <td>171652687</td>\n",
       "      <td>171652688</td>\n",
       "      <td>C</td>\n",
       "      <td>A</td>\n",
       "      <td>TCTGCTGTGCTGAGAGGTGCCTGGATGGGTGGCCTTGCTGGCTCAT...</td>\n",
       "      <td>TCTGCTGTGCTGAGAGGTGCCTGGATGGGTGGCCTTGCTGGCTAAT...</td>\n",
       "      <td>0.999701</td>\n",
       "      <td>0.013452</td>\n",
       "      <td>-0.985954</td>\n",
       "      <td>17.903774</td>\n",
       "      <td>1</td>\n",
       "    </tr>\n",
       "    <tr>\n",
       "      <th>3561</th>\n",
       "      <td>chr1</td>\n",
       "      <td>-</td>\n",
       "      <td>53945655-53945744</td>\n",
       "      <td>ENST00000194214</td>\n",
       "      <td>53921561-53945699</td>\n",
       "      <td>rs1447674588</td>\n",
       "      <td>53945658</td>\n",
       "      <td>53945659</td>\n",
       "      <td>G</td>\n",
       "      <td>A</td>\n",
       "      <td>GCCGCGGCCTCCGTGGAGTCCGGGGTCGCGCGCGCTCCAACTCTGA...</td>\n",
       "      <td>GCCACGGCCTCCGTGGAGTCCGGGGTCGCGCGCGCTCCAACTCTGA...</td>\n",
       "      <td>0.758328</td>\n",
       "      <td>0.332869</td>\n",
       "      <td>-0.322638</td>\n",
       "      <td>2.652787</td>\n",
       "      <td>1</td>\n",
       "    </tr>\n",
       "    <tr>\n",
       "      <th>3564</th>\n",
       "      <td>chr1</td>\n",
       "      <td>-</td>\n",
       "      <td>53945655-53945744</td>\n",
       "      <td>ENST00000194214</td>\n",
       "      <td>53921561-53945699</td>\n",
       "      <td>rs1265927870</td>\n",
       "      <td>53945665</td>\n",
       "      <td>53945666</td>\n",
       "      <td>C</td>\n",
       "      <td>T</td>\n",
       "      <td>GCCGCGGCCTCCGTGGAGTCCGGGGTCGCGCGCGCTCCAACTCTGA...</td>\n",
       "      <td>GCCGCGGCCTTCGTGGAGTCCGGGGTCGCGCGCGCTCCAACTCTGA...</td>\n",
       "      <td>0.758328</td>\n",
       "      <td>0.486270</td>\n",
       "      <td>-0.206309</td>\n",
       "      <td>1.729026</td>\n",
       "      <td>1</td>\n",
       "    </tr>\n",
       "    <tr>\n",
       "      <th>3565</th>\n",
       "      <td>chr1</td>\n",
       "      <td>-</td>\n",
       "      <td>53945655-53945744</td>\n",
       "      <td>ENST00000194214</td>\n",
       "      <td>53921561-53945699</td>\n",
       "      <td>rs551209799</td>\n",
       "      <td>53945667</td>\n",
       "      <td>53945668</td>\n",
       "      <td>G</td>\n",
       "      <td>A</td>\n",
       "      <td>GCCGCGGCCTCCGTGGAGTCCGGGGTCGCGCGCGCTCCAACTCTGA...</td>\n",
       "      <td>GCCGCGGCCTCCATGGAGTCCGGGGTCGCGCGCGCTCCAACTCTGA...</td>\n",
       "      <td>0.758328</td>\n",
       "      <td>0.368232</td>\n",
       "      <td>-0.295821</td>\n",
       "      <td>2.428555</td>\n",
       "      <td>1</td>\n",
       "    </tr>\n",
       "    <tr>\n",
       "      <th>3568</th>\n",
       "      <td>chr1</td>\n",
       "      <td>-</td>\n",
       "      <td>53945655-53945744</td>\n",
       "      <td>ENST00000194214</td>\n",
       "      <td>53921561-53945699</td>\n",
       "      <td>rs1462348969</td>\n",
       "      <td>53945670</td>\n",
       "      <td>53945671</td>\n",
       "      <td>G</td>\n",
       "      <td>A</td>\n",
       "      <td>GCCGCGGCCTCCGTGGAGTCCGGGGTCGCGCGCGCTCCAACTCTGA...</td>\n",
       "      <td>GCCGCGGCCTCCGTGAAGTCCGGGGTCGCGCGCGCTCCAACTCTGA...</td>\n",
       "      <td>0.758328</td>\n",
       "      <td>0.004605</td>\n",
       "      <td>-0.571570</td>\n",
       "      <td>9.405620</td>\n",
       "      <td>1</td>\n",
       "    </tr>\n",
       "    <tr>\n",
       "      <th>...</th>\n",
       "      <td>...</td>\n",
       "      <td>...</td>\n",
       "      <td>...</td>\n",
       "      <td>...</td>\n",
       "      <td>...</td>\n",
       "      <td>...</td>\n",
       "      <td>...</td>\n",
       "      <td>...</td>\n",
       "      <td>...</td>\n",
       "      <td>...</td>\n",
       "      <td>...</td>\n",
       "      <td>...</td>\n",
       "      <td>...</td>\n",
       "      <td>...</td>\n",
       "      <td>...</td>\n",
       "      <td>...</td>\n",
       "      <td>...</td>\n",
       "    </tr>\n",
       "    <tr>\n",
       "      <th>17073</th>\n",
       "      <td>chrY</td>\n",
       "      <td>-</td>\n",
       "      <td>13336085-13336174</td>\n",
       "      <td>ENST00000684226</td>\n",
       "      <td>13234580-13359787</td>\n",
       "      <td>rs746016160</td>\n",
       "      <td>13336165</td>\n",
       "      <td>13336166</td>\n",
       "      <td>T</td>\n",
       "      <td>C</td>\n",
       "      <td>ATCTATTTTTTGAAGGCTTGCTCTCTTTGGTAAACATAATGCCTTG...</td>\n",
       "      <td>ATCTATTTTTTGAAGGCTTGCTCTCTTTGGTAAACATAATGCCTTG...</td>\n",
       "      <td>0.256852</td>\n",
       "      <td>0.525057</td>\n",
       "      <td>0.140823</td>\n",
       "      <td>-1.677429</td>\n",
       "      <td>1</td>\n",
       "    </tr>\n",
       "    <tr>\n",
       "      <th>17077</th>\n",
       "      <td>chrY</td>\n",
       "      <td>-</td>\n",
       "      <td>13336085-13336174</td>\n",
       "      <td>ENST00000682761</td>\n",
       "      <td>13234599-13336129</td>\n",
       "      <td>rs758077547</td>\n",
       "      <td>13336119</td>\n",
       "      <td>13336120</td>\n",
       "      <td>C</td>\n",
       "      <td>T</td>\n",
       "      <td>ATCTATTTTTTGAAGGCTTGCTCTCTTTGGTAAACATAATGCCTTG...</td>\n",
       "      <td>ATCTATTTTTTGAAGGCTTGCTCTCTTTGGTAAATATAATGCCTTG...</td>\n",
       "      <td>0.256852</td>\n",
       "      <td>0.544665</td>\n",
       "      <td>0.156762</td>\n",
       "      <td>-1.791152</td>\n",
       "      <td>1</td>\n",
       "    </tr>\n",
       "    <tr>\n",
       "      <th>17080</th>\n",
       "      <td>chrY</td>\n",
       "      <td>-</td>\n",
       "      <td>13336085-13336174</td>\n",
       "      <td>ENST00000682761</td>\n",
       "      <td>13234599-13336129</td>\n",
       "      <td>rs746016160</td>\n",
       "      <td>13336165</td>\n",
       "      <td>13336166</td>\n",
       "      <td>T</td>\n",
       "      <td>C</td>\n",
       "      <td>ATCTATTTTTTGAAGGCTTGCTCTCTTTGGTAAACATAATGCCTTG...</td>\n",
       "      <td>ATCTATTTTTTGAAGGCTTGCTCTCTTTGGTAAACATAATGCCTTG...</td>\n",
       "      <td>0.256852</td>\n",
       "      <td>0.525057</td>\n",
       "      <td>0.140823</td>\n",
       "      <td>-1.677429</td>\n",
       "      <td>1</td>\n",
       "    </tr>\n",
       "    <tr>\n",
       "      <th>17084</th>\n",
       "      <td>chrY</td>\n",
       "      <td>-</td>\n",
       "      <td>13336085-13336174</td>\n",
       "      <td>ENST00000682913</td>\n",
       "      <td>13249856-13479665</td>\n",
       "      <td>rs758077547</td>\n",
       "      <td>13336119</td>\n",
       "      <td>13336120</td>\n",
       "      <td>C</td>\n",
       "      <td>T</td>\n",
       "      <td>ATCTATTTTTTGAAGGCTTGCTCTCTTTGGTAAACATAATGCCTTG...</td>\n",
       "      <td>ATCTATTTTTTGAAGGCTTGCTCTCTTTGGTAAATATAATGCCTTG...</td>\n",
       "      <td>0.256852</td>\n",
       "      <td>0.544665</td>\n",
       "      <td>0.156762</td>\n",
       "      <td>-1.791152</td>\n",
       "      <td>1</td>\n",
       "    </tr>\n",
       "    <tr>\n",
       "      <th>17087</th>\n",
       "      <td>chrY</td>\n",
       "      <td>-</td>\n",
       "      <td>13336085-13336174</td>\n",
       "      <td>ENST00000682913</td>\n",
       "      <td>13249856-13479665</td>\n",
       "      <td>rs746016160</td>\n",
       "      <td>13336165</td>\n",
       "      <td>13336166</td>\n",
       "      <td>T</td>\n",
       "      <td>C</td>\n",
       "      <td>ATCTATTTTTTGAAGGCTTGCTCTCTTTGGTAAACATAATGCCTTG...</td>\n",
       "      <td>ATCTATTTTTTGAAGGCTTGCTCTCTTTGGTAAACATAATGCCTTG...</td>\n",
       "      <td>0.256852</td>\n",
       "      <td>0.525057</td>\n",
       "      <td>0.140823</td>\n",
       "      <td>-1.677429</td>\n",
       "      <td>1</td>\n",
       "    </tr>\n",
       "  </tbody>\n",
       "</table>\n",
       "<p>10035766 rows × 17 columns</p>\n",
       "</div>"
      ],
      "text/plain": [
       "        chr strand    Donor_coordinates Ensemble_Transcript_ID  \\\n",
       "1275   chr1      -  171652644-171652733        ENST00000037502   \n",
       "3561   chr1      -    53945655-53945744        ENST00000194214   \n",
       "3564   chr1      -    53945655-53945744        ENST00000194214   \n",
       "3565   chr1      -    53945655-53945744        ENST00000194214   \n",
       "3568   chr1      -    53945655-53945744        ENST00000194214   \n",
       "...     ...    ...                  ...                    ...   \n",
       "17073  chrY      -    13336085-13336174        ENST00000684226   \n",
       "17077  chrY      -    13336085-13336174        ENST00000682761   \n",
       "17080  chrY      -    13336085-13336174        ENST00000682761   \n",
       "17084  chrY      -    13336085-13336174        ENST00000682913   \n",
       "17087  chrY      -    13336085-13336174        ENST00000682913   \n",
       "\n",
       "      Transcript_coordinates      dbsnp_id  varinat_start  variant_end  \\\n",
       "1275     171635417-171652688   rs931124801      171652687    171652688   \n",
       "3561       53921561-53945699  rs1447674588       53945658     53945659   \n",
       "3564       53921561-53945699  rs1265927870       53945665     53945666   \n",
       "3565       53921561-53945699   rs551209799       53945667     53945668   \n",
       "3568       53921561-53945699  rs1462348969       53945670     53945671   \n",
       "...                      ...           ...            ...          ...   \n",
       "17073      13234580-13359787   rs746016160       13336165     13336166   \n",
       "17077      13234599-13336129   rs758077547       13336119     13336120   \n",
       "17080      13234599-13336129   rs746016160       13336165     13336166   \n",
       "17084      13249856-13479665   rs758077547       13336119     13336120   \n",
       "17087      13249856-13479665   rs746016160       13336165     13336166   \n",
       "\n",
       "      ref_neucleotide alternative_neucleotide  \\\n",
       "1275                C                       A   \n",
       "3561                G                       A   \n",
       "3564                C                       T   \n",
       "3565                G                       A   \n",
       "3568                G                       A   \n",
       "...               ...                     ...   \n",
       "17073               T                       C   \n",
       "17077               C                       T   \n",
       "17080               T                       C   \n",
       "17084               C                       T   \n",
       "17087               T                       C   \n",
       "\n",
       "                                           reference_seq  \\\n",
       "1275   TCTGCTGTGCTGAGAGGTGCCTGGATGGGTGGCCTTGCTGGCTCAT...   \n",
       "3561   GCCGCGGCCTCCGTGGAGTCCGGGGTCGCGCGCGCTCCAACTCTGA...   \n",
       "3564   GCCGCGGCCTCCGTGGAGTCCGGGGTCGCGCGCGCTCCAACTCTGA...   \n",
       "3565   GCCGCGGCCTCCGTGGAGTCCGGGGTCGCGCGCGCTCCAACTCTGA...   \n",
       "3568   GCCGCGGCCTCCGTGGAGTCCGGGGTCGCGCGCGCTCCAACTCTGA...   \n",
       "...                                                  ...   \n",
       "17073  ATCTATTTTTTGAAGGCTTGCTCTCTTTGGTAAACATAATGCCTTG...   \n",
       "17077  ATCTATTTTTTGAAGGCTTGCTCTCTTTGGTAAACATAATGCCTTG...   \n",
       "17080  ATCTATTTTTTGAAGGCTTGCTCTCTTTGGTAAACATAATGCCTTG...   \n",
       "17084  ATCTATTTTTTGAAGGCTTGCTCTCTTTGGTAAACATAATGCCTTG...   \n",
       "17087  ATCTATTTTTTGAAGGCTTGCTCTCTTTGGTAAACATAATGCCTTG...   \n",
       "\n",
       "                                                 alt_seq  Ref_probab  \\\n",
       "1275   TCTGCTGTGCTGAGAGGTGCCTGGATGGGTGGCCTTGCTGGCTAAT...    0.999701   \n",
       "3561   GCCACGGCCTCCGTGGAGTCCGGGGTCGCGCGCGCTCCAACTCTGA...    0.758328   \n",
       "3564   GCCGCGGCCTTCGTGGAGTCCGGGGTCGCGCGCGCTCCAACTCTGA...    0.758328   \n",
       "3565   GCCGCGGCCTCCATGGAGTCCGGGGTCGCGCGCGCTCCAACTCTGA...    0.758328   \n",
       "3568   GCCGCGGCCTCCGTGAAGTCCGGGGTCGCGCGCGCTCCAACTCTGA...    0.758328   \n",
       "...                                                  ...         ...   \n",
       "17073  ATCTATTTTTTGAAGGCTTGCTCTCTTTGGTAAACATAATGCCTTG...    0.256852   \n",
       "17077  ATCTATTTTTTGAAGGCTTGCTCTCTTTGGTAAATATAATGCCTTG...    0.256852   \n",
       "17080  ATCTATTTTTTGAAGGCTTGCTCTCTTTGGTAAACATAATGCCTTG...    0.256852   \n",
       "17084  ATCTATTTTTTGAAGGCTTGCTCTCTTTGGTAAATATAATGCCTTG...    0.256852   \n",
       "17087  ATCTATTTTTTGAAGGCTTGCTCTCTTTGGTAAACATAATGCCTTG...    0.256852   \n",
       "\n",
       "       Alt_probab  ScoreChange  LogOddRatio  variant_length  \n",
       "1275     0.013452    -0.985954    17.903774               1  \n",
       "3561     0.332869    -0.322638     2.652787               1  \n",
       "3564     0.486270    -0.206309     1.729026               1  \n",
       "3565     0.368232    -0.295821     2.428555               1  \n",
       "3568     0.004605    -0.571570     9.405620               1  \n",
       "...           ...          ...          ...             ...  \n",
       "17073    0.525057     0.140823    -1.677429               1  \n",
       "17077    0.544665     0.156762    -1.791152               1  \n",
       "17080    0.525057     0.140823    -1.677429               1  \n",
       "17084    0.544665     0.156762    -1.791152               1  \n",
       "17087    0.525057     0.140823    -1.677429               1  \n",
       "\n",
       "[10035766 rows x 17 columns]"
      ]
     },
     "execution_count": 20,
     "metadata": {},
     "output_type": "execute_result"
    }
   ],
   "source": [
    "df_interest['variant_length'] = df_interest['variant_end']-df_interest['varinat_start']\n",
    "df_interest"
   ]
  },
  {
   "cell_type": "code",
   "execution_count": 21,
   "id": "093f7729-4425-4f0f-8733-0f0d7a090f36",
   "metadata": {},
   "outputs": [
    {
     "data": {
      "text/html": [
       "<div>\n",
       "<style scoped>\n",
       "    .dataframe tbody tr th:only-of-type {\n",
       "        vertical-align: middle;\n",
       "    }\n",
       "\n",
       "    .dataframe tbody tr th {\n",
       "        vertical-align: top;\n",
       "    }\n",
       "\n",
       "    .dataframe thead th {\n",
       "        text-align: right;\n",
       "    }\n",
       "</style>\n",
       "<table border=\"1\" class=\"dataframe\">\n",
       "  <thead>\n",
       "    <tr style=\"text-align: right;\">\n",
       "      <th></th>\n",
       "      <th>chr</th>\n",
       "      <th>strand</th>\n",
       "      <th>Donor_coordinates</th>\n",
       "      <th>Ensemble_Transcript_ID</th>\n",
       "      <th>Transcript_coordinates</th>\n",
       "      <th>dbsnp_id</th>\n",
       "      <th>varinat_start</th>\n",
       "      <th>variant_end</th>\n",
       "      <th>ref_neucleotide</th>\n",
       "      <th>alternative_neucleotide</th>\n",
       "      <th>reference_seq</th>\n",
       "      <th>alt_seq</th>\n",
       "      <th>Ref_probab</th>\n",
       "      <th>Alt_probab</th>\n",
       "      <th>ScoreChange</th>\n",
       "      <th>LogOddRatio</th>\n",
       "      <th>variant_length</th>\n",
       "    </tr>\n",
       "  </thead>\n",
       "  <tbody>\n",
       "    <tr>\n",
       "      <th>1275</th>\n",
       "      <td>chr1</td>\n",
       "      <td>-</td>\n",
       "      <td>171652644-171652733</td>\n",
       "      <td>ENST00000037502</td>\n",
       "      <td>171635417-171652688</td>\n",
       "      <td>rs931124801</td>\n",
       "      <td>171652687</td>\n",
       "      <td>171652688</td>\n",
       "      <td>C</td>\n",
       "      <td>A</td>\n",
       "      <td>TCTGCTGTGCTGAGAGGTGCCTGGATGGGTGGCCTTGCTGGCTCAT...</td>\n",
       "      <td>TCTGCTGTGCTGAGAGGTGCCTGGATGGGTGGCCTTGCTGGCTAAT...</td>\n",
       "      <td>0.999701</td>\n",
       "      <td>0.013452</td>\n",
       "      <td>-0.985954</td>\n",
       "      <td>17.903774</td>\n",
       "      <td>1</td>\n",
       "    </tr>\n",
       "    <tr>\n",
       "      <th>3561</th>\n",
       "      <td>chr1</td>\n",
       "      <td>-</td>\n",
       "      <td>53945655-53945744</td>\n",
       "      <td>ENST00000194214</td>\n",
       "      <td>53921561-53945699</td>\n",
       "      <td>rs1447674588</td>\n",
       "      <td>53945658</td>\n",
       "      <td>53945659</td>\n",
       "      <td>G</td>\n",
       "      <td>A</td>\n",
       "      <td>GCCGCGGCCTCCGTGGAGTCCGGGGTCGCGCGCGCTCCAACTCTGA...</td>\n",
       "      <td>GCCACGGCCTCCGTGGAGTCCGGGGTCGCGCGCGCTCCAACTCTGA...</td>\n",
       "      <td>0.758328</td>\n",
       "      <td>0.332869</td>\n",
       "      <td>-0.322638</td>\n",
       "      <td>2.652787</td>\n",
       "      <td>1</td>\n",
       "    </tr>\n",
       "    <tr>\n",
       "      <th>3564</th>\n",
       "      <td>chr1</td>\n",
       "      <td>-</td>\n",
       "      <td>53945655-53945744</td>\n",
       "      <td>ENST00000194214</td>\n",
       "      <td>53921561-53945699</td>\n",
       "      <td>rs1265927870</td>\n",
       "      <td>53945665</td>\n",
       "      <td>53945666</td>\n",
       "      <td>C</td>\n",
       "      <td>T</td>\n",
       "      <td>GCCGCGGCCTCCGTGGAGTCCGGGGTCGCGCGCGCTCCAACTCTGA...</td>\n",
       "      <td>GCCGCGGCCTTCGTGGAGTCCGGGGTCGCGCGCGCTCCAACTCTGA...</td>\n",
       "      <td>0.758328</td>\n",
       "      <td>0.486270</td>\n",
       "      <td>-0.206309</td>\n",
       "      <td>1.729026</td>\n",
       "      <td>1</td>\n",
       "    </tr>\n",
       "    <tr>\n",
       "      <th>3565</th>\n",
       "      <td>chr1</td>\n",
       "      <td>-</td>\n",
       "      <td>53945655-53945744</td>\n",
       "      <td>ENST00000194214</td>\n",
       "      <td>53921561-53945699</td>\n",
       "      <td>rs551209799</td>\n",
       "      <td>53945667</td>\n",
       "      <td>53945668</td>\n",
       "      <td>G</td>\n",
       "      <td>A</td>\n",
       "      <td>GCCGCGGCCTCCGTGGAGTCCGGGGTCGCGCGCGCTCCAACTCTGA...</td>\n",
       "      <td>GCCGCGGCCTCCATGGAGTCCGGGGTCGCGCGCGCTCCAACTCTGA...</td>\n",
       "      <td>0.758328</td>\n",
       "      <td>0.368232</td>\n",
       "      <td>-0.295821</td>\n",
       "      <td>2.428555</td>\n",
       "      <td>1</td>\n",
       "    </tr>\n",
       "    <tr>\n",
       "      <th>3568</th>\n",
       "      <td>chr1</td>\n",
       "      <td>-</td>\n",
       "      <td>53945655-53945744</td>\n",
       "      <td>ENST00000194214</td>\n",
       "      <td>53921561-53945699</td>\n",
       "      <td>rs1462348969</td>\n",
       "      <td>53945670</td>\n",
       "      <td>53945671</td>\n",
       "      <td>G</td>\n",
       "      <td>A</td>\n",
       "      <td>GCCGCGGCCTCCGTGGAGTCCGGGGTCGCGCGCGCTCCAACTCTGA...</td>\n",
       "      <td>GCCGCGGCCTCCGTGAAGTCCGGGGTCGCGCGCGCTCCAACTCTGA...</td>\n",
       "      <td>0.758328</td>\n",
       "      <td>0.004605</td>\n",
       "      <td>-0.571570</td>\n",
       "      <td>9.405620</td>\n",
       "      <td>1</td>\n",
       "    </tr>\n",
       "    <tr>\n",
       "      <th>...</th>\n",
       "      <td>...</td>\n",
       "      <td>...</td>\n",
       "      <td>...</td>\n",
       "      <td>...</td>\n",
       "      <td>...</td>\n",
       "      <td>...</td>\n",
       "      <td>...</td>\n",
       "      <td>...</td>\n",
       "      <td>...</td>\n",
       "      <td>...</td>\n",
       "      <td>...</td>\n",
       "      <td>...</td>\n",
       "      <td>...</td>\n",
       "      <td>...</td>\n",
       "      <td>...</td>\n",
       "      <td>...</td>\n",
       "      <td>...</td>\n",
       "    </tr>\n",
       "    <tr>\n",
       "      <th>17073</th>\n",
       "      <td>chrY</td>\n",
       "      <td>-</td>\n",
       "      <td>13336085-13336174</td>\n",
       "      <td>ENST00000684226</td>\n",
       "      <td>13234580-13359787</td>\n",
       "      <td>rs746016160</td>\n",
       "      <td>13336165</td>\n",
       "      <td>13336166</td>\n",
       "      <td>T</td>\n",
       "      <td>C</td>\n",
       "      <td>ATCTATTTTTTGAAGGCTTGCTCTCTTTGGTAAACATAATGCCTTG...</td>\n",
       "      <td>ATCTATTTTTTGAAGGCTTGCTCTCTTTGGTAAACATAATGCCTTG...</td>\n",
       "      <td>0.256852</td>\n",
       "      <td>0.525057</td>\n",
       "      <td>0.140823</td>\n",
       "      <td>-1.677429</td>\n",
       "      <td>1</td>\n",
       "    </tr>\n",
       "    <tr>\n",
       "      <th>17077</th>\n",
       "      <td>chrY</td>\n",
       "      <td>-</td>\n",
       "      <td>13336085-13336174</td>\n",
       "      <td>ENST00000682761</td>\n",
       "      <td>13234599-13336129</td>\n",
       "      <td>rs758077547</td>\n",
       "      <td>13336119</td>\n",
       "      <td>13336120</td>\n",
       "      <td>C</td>\n",
       "      <td>T</td>\n",
       "      <td>ATCTATTTTTTGAAGGCTTGCTCTCTTTGGTAAACATAATGCCTTG...</td>\n",
       "      <td>ATCTATTTTTTGAAGGCTTGCTCTCTTTGGTAAATATAATGCCTTG...</td>\n",
       "      <td>0.256852</td>\n",
       "      <td>0.544665</td>\n",
       "      <td>0.156762</td>\n",
       "      <td>-1.791152</td>\n",
       "      <td>1</td>\n",
       "    </tr>\n",
       "    <tr>\n",
       "      <th>17080</th>\n",
       "      <td>chrY</td>\n",
       "      <td>-</td>\n",
       "      <td>13336085-13336174</td>\n",
       "      <td>ENST00000682761</td>\n",
       "      <td>13234599-13336129</td>\n",
       "      <td>rs746016160</td>\n",
       "      <td>13336165</td>\n",
       "      <td>13336166</td>\n",
       "      <td>T</td>\n",
       "      <td>C</td>\n",
       "      <td>ATCTATTTTTTGAAGGCTTGCTCTCTTTGGTAAACATAATGCCTTG...</td>\n",
       "      <td>ATCTATTTTTTGAAGGCTTGCTCTCTTTGGTAAACATAATGCCTTG...</td>\n",
       "      <td>0.256852</td>\n",
       "      <td>0.525057</td>\n",
       "      <td>0.140823</td>\n",
       "      <td>-1.677429</td>\n",
       "      <td>1</td>\n",
       "    </tr>\n",
       "    <tr>\n",
       "      <th>17084</th>\n",
       "      <td>chrY</td>\n",
       "      <td>-</td>\n",
       "      <td>13336085-13336174</td>\n",
       "      <td>ENST00000682913</td>\n",
       "      <td>13249856-13479665</td>\n",
       "      <td>rs758077547</td>\n",
       "      <td>13336119</td>\n",
       "      <td>13336120</td>\n",
       "      <td>C</td>\n",
       "      <td>T</td>\n",
       "      <td>ATCTATTTTTTGAAGGCTTGCTCTCTTTGGTAAACATAATGCCTTG...</td>\n",
       "      <td>ATCTATTTTTTGAAGGCTTGCTCTCTTTGGTAAATATAATGCCTTG...</td>\n",
       "      <td>0.256852</td>\n",
       "      <td>0.544665</td>\n",
       "      <td>0.156762</td>\n",
       "      <td>-1.791152</td>\n",
       "      <td>1</td>\n",
       "    </tr>\n",
       "    <tr>\n",
       "      <th>17087</th>\n",
       "      <td>chrY</td>\n",
       "      <td>-</td>\n",
       "      <td>13336085-13336174</td>\n",
       "      <td>ENST00000682913</td>\n",
       "      <td>13249856-13479665</td>\n",
       "      <td>rs746016160</td>\n",
       "      <td>13336165</td>\n",
       "      <td>13336166</td>\n",
       "      <td>T</td>\n",
       "      <td>C</td>\n",
       "      <td>ATCTATTTTTTGAAGGCTTGCTCTCTTTGGTAAACATAATGCCTTG...</td>\n",
       "      <td>ATCTATTTTTTGAAGGCTTGCTCTCTTTGGTAAACATAATGCCTTG...</td>\n",
       "      <td>0.256852</td>\n",
       "      <td>0.525057</td>\n",
       "      <td>0.140823</td>\n",
       "      <td>-1.677429</td>\n",
       "      <td>1</td>\n",
       "    </tr>\n",
       "  </tbody>\n",
       "</table>\n",
       "<p>8590514 rows × 17 columns</p>\n",
       "</div>"
      ],
      "text/plain": [
       "        chr strand    Donor_coordinates Ensemble_Transcript_ID  \\\n",
       "1275   chr1      -  171652644-171652733        ENST00000037502   \n",
       "3561   chr1      -    53945655-53945744        ENST00000194214   \n",
       "3564   chr1      -    53945655-53945744        ENST00000194214   \n",
       "3565   chr1      -    53945655-53945744        ENST00000194214   \n",
       "3568   chr1      -    53945655-53945744        ENST00000194214   \n",
       "...     ...    ...                  ...                    ...   \n",
       "17073  chrY      -    13336085-13336174        ENST00000684226   \n",
       "17077  chrY      -    13336085-13336174        ENST00000682761   \n",
       "17080  chrY      -    13336085-13336174        ENST00000682761   \n",
       "17084  chrY      -    13336085-13336174        ENST00000682913   \n",
       "17087  chrY      -    13336085-13336174        ENST00000682913   \n",
       "\n",
       "      Transcript_coordinates      dbsnp_id  varinat_start  variant_end  \\\n",
       "1275     171635417-171652688   rs931124801      171652687    171652688   \n",
       "3561       53921561-53945699  rs1447674588       53945658     53945659   \n",
       "3564       53921561-53945699  rs1265927870       53945665     53945666   \n",
       "3565       53921561-53945699   rs551209799       53945667     53945668   \n",
       "3568       53921561-53945699  rs1462348969       53945670     53945671   \n",
       "...                      ...           ...            ...          ...   \n",
       "17073      13234580-13359787   rs746016160       13336165     13336166   \n",
       "17077      13234599-13336129   rs758077547       13336119     13336120   \n",
       "17080      13234599-13336129   rs746016160       13336165     13336166   \n",
       "17084      13249856-13479665   rs758077547       13336119     13336120   \n",
       "17087      13249856-13479665   rs746016160       13336165     13336166   \n",
       "\n",
       "      ref_neucleotide alternative_neucleotide  \\\n",
       "1275                C                       A   \n",
       "3561                G                       A   \n",
       "3564                C                       T   \n",
       "3565                G                       A   \n",
       "3568                G                       A   \n",
       "...               ...                     ...   \n",
       "17073               T                       C   \n",
       "17077               C                       T   \n",
       "17080               T                       C   \n",
       "17084               C                       T   \n",
       "17087               T                       C   \n",
       "\n",
       "                                           reference_seq  \\\n",
       "1275   TCTGCTGTGCTGAGAGGTGCCTGGATGGGTGGCCTTGCTGGCTCAT...   \n",
       "3561   GCCGCGGCCTCCGTGGAGTCCGGGGTCGCGCGCGCTCCAACTCTGA...   \n",
       "3564   GCCGCGGCCTCCGTGGAGTCCGGGGTCGCGCGCGCTCCAACTCTGA...   \n",
       "3565   GCCGCGGCCTCCGTGGAGTCCGGGGTCGCGCGCGCTCCAACTCTGA...   \n",
       "3568   GCCGCGGCCTCCGTGGAGTCCGGGGTCGCGCGCGCTCCAACTCTGA...   \n",
       "...                                                  ...   \n",
       "17073  ATCTATTTTTTGAAGGCTTGCTCTCTTTGGTAAACATAATGCCTTG...   \n",
       "17077  ATCTATTTTTTGAAGGCTTGCTCTCTTTGGTAAACATAATGCCTTG...   \n",
       "17080  ATCTATTTTTTGAAGGCTTGCTCTCTTTGGTAAACATAATGCCTTG...   \n",
       "17084  ATCTATTTTTTGAAGGCTTGCTCTCTTTGGTAAACATAATGCCTTG...   \n",
       "17087  ATCTATTTTTTGAAGGCTTGCTCTCTTTGGTAAACATAATGCCTTG...   \n",
       "\n",
       "                                                 alt_seq  Ref_probab  \\\n",
       "1275   TCTGCTGTGCTGAGAGGTGCCTGGATGGGTGGCCTTGCTGGCTAAT...    0.999701   \n",
       "3561   GCCACGGCCTCCGTGGAGTCCGGGGTCGCGCGCGCTCCAACTCTGA...    0.758328   \n",
       "3564   GCCGCGGCCTTCGTGGAGTCCGGGGTCGCGCGCGCTCCAACTCTGA...    0.758328   \n",
       "3565   GCCGCGGCCTCCATGGAGTCCGGGGTCGCGCGCGCTCCAACTCTGA...    0.758328   \n",
       "3568   GCCGCGGCCTCCGTGAAGTCCGGGGTCGCGCGCGCTCCAACTCTGA...    0.758328   \n",
       "...                                                  ...         ...   \n",
       "17073  ATCTATTTTTTGAAGGCTTGCTCTCTTTGGTAAACATAATGCCTTG...    0.256852   \n",
       "17077  ATCTATTTTTTGAAGGCTTGCTCTCTTTGGTAAATATAATGCCTTG...    0.256852   \n",
       "17080  ATCTATTTTTTGAAGGCTTGCTCTCTTTGGTAAACATAATGCCTTG...    0.256852   \n",
       "17084  ATCTATTTTTTGAAGGCTTGCTCTCTTTGGTAAATATAATGCCTTG...    0.256852   \n",
       "17087  ATCTATTTTTTGAAGGCTTGCTCTCTTTGGTAAACATAATGCCTTG...    0.256852   \n",
       "\n",
       "       Alt_probab  ScoreChange  LogOddRatio  variant_length  \n",
       "1275     0.013452    -0.985954    17.903774               1  \n",
       "3561     0.332869    -0.322638     2.652787               1  \n",
       "3564     0.486270    -0.206309     1.729026               1  \n",
       "3565     0.368232    -0.295821     2.428555               1  \n",
       "3568     0.004605    -0.571570     9.405620               1  \n",
       "...           ...          ...          ...             ...  \n",
       "17073    0.525057     0.140823    -1.677429               1  \n",
       "17077    0.544665     0.156762    -1.791152               1  \n",
       "17080    0.525057     0.140823    -1.677429               1  \n",
       "17084    0.544665     0.156762    -1.791152               1  \n",
       "17087    0.525057     0.140823    -1.677429               1  \n",
       "\n",
       "[8590514 rows x 17 columns]"
      ]
     },
     "execution_count": 21,
     "metadata": {},
     "output_type": "execute_result"
    }
   ],
   "source": [
    "#df_interest['Z_Score'] = stats.zscore(df['LogOddRatio'])\n",
    "df_interest = df_interest[df_interest['variant_length']==1]\n",
    "df_interest"
   ]
  },
  {
   "cell_type": "code",
   "execution_count": 22,
   "id": "c23b28a0-db15-486d-9bfc-2d270bb0a01b",
   "metadata": {},
   "outputs": [
    {
     "name": "stdout",
     "output_type": "stream",
     "text": [
      "0.11304179983084106 7.488689447194245\n"
     ]
    }
   ],
   "source": [
    "mean = df_interest['LogOddRatio'].mean()\n",
    "std = df_interest['LogOddRatio'].std()\n",
    "print(mean, std)"
   ]
  },
  {
   "cell_type": "code",
   "execution_count": 23,
   "id": "e3d80ca2-c6de-4fbf-837b-d16d8a6c97fa",
   "metadata": {},
   "outputs": [],
   "source": [
    "# z_score, p_value = ztest(x1= df_interest['LogOddRatio'], value = mean)"
   ]
  },
  {
   "cell_type": "code",
   "execution_count": 24,
   "id": "ce700e5c-708b-4214-9cab-695a2f53a80b",
   "metadata": {},
   "outputs": [
    {
     "name": "stdout",
     "output_type": "stream",
     "text": [
      "-22.35302654175189 22.579110141413576\n"
     ]
    },
    {
     "data": {
      "image/png": "[encoded data removed]",
      "text/plain": [
       "<Figure size 640x480 with 1 Axes>"
      ]
     },
     "metadata": {},
     "output_type": "display_data"
    }
   ],
   "source": [
    "# print(z_score, p_value)\n",
    "# Plot the distribution of 'LogOddRatio'\n",
    "\n",
    "sns.kdeplot(df_interest['LogOddRatio'], fill=True, linewidth=1)\n",
    "\n",
    "# # Get the extreme values for a two tailed test at alpha = 0.05\n",
    "#z_critical = norm.ppf(1 - 0.05/2) # two-tailed test at alpha = 0.05\n",
    "\n",
    "\n",
    "\n",
    "x1, x2 = mean + 3*std, mean - 3*std\n",
    "print(x2, x1)\n",
    "\n",
    "# Shade the area for the two tailed test\n",
    "plt.axvspan(min(df_interest['LogOddRatio']), x2, alpha=0.3, color='red')\n",
    "plt.axvspan(x1, max(df_interest['LogOddRatio']), alpha=0.3, color='red')\n",
    "\n",
    "# Add the observed z-score\n",
    "# plt.text(-17, 0.5, f'Left-tail value = {x2:.2f}', color='blue', ha='left', va='center')\n",
    "# plt.text(-3, 0.54, f'Right-tail value = {x1:.2f}', color='blue', ha='right', va='center')\n",
    "\n",
    "plt.title(f'Distribution of Relative Log Fold changes of Odds for TATA Model \\n Left-tail value = {x2:.2f};  Right-tail value = {x1:.2f}')\n",
    "plt.savefig('TATA_LogOddRatio_Distribution.png')\n",
    "plt.show()"
   ]
  },
  {
   "cell_type": "code",
   "execution_count": 25,
   "id": "84f0d768-0f1c-4849-b351-7c833586c8d6",
   "metadata": {},
   "outputs": [],
   "source": [
    "df_selected = df_interest[(df_interest['LogOddRatio']> x1)|(df_interest['LogOddRatio']<  x2)]"
   ]
  },
  {
   "cell_type": "code",
   "execution_count": 26,
   "id": "04057128-4ea0-4ec6-a6ad-c4ec91076780",
   "metadata": {},
   "outputs": [
    {
     "data": {
      "text/html": [
       "<div>\n",
       "<style scoped>\n",
       "    .dataframe tbody tr th:only-of-type {\n",
       "        vertical-align: middle;\n",
       "    }\n",
       "\n",
       "    .dataframe tbody tr th {\n",
       "        vertical-align: top;\n",
       "    }\n",
       "\n",
       "    .dataframe thead th {\n",
       "        text-align: right;\n",
       "    }\n",
       "</style>\n",
       "<table border=\"1\" class=\"dataframe\">\n",
       "  <thead>\n",
       "    <tr style=\"text-align: right;\">\n",
       "      <th></th>\n",
       "      <th>chr</th>\n",
       "      <th>strand</th>\n",
       "      <th>Donor_coordinates</th>\n",
       "      <th>Ensemble_Transcript_ID</th>\n",
       "      <th>Transcript_coordinates</th>\n",
       "      <th>dbsnp_id</th>\n",
       "      <th>varinat_start</th>\n",
       "      <th>variant_end</th>\n",
       "      <th>ref_neucleotide</th>\n",
       "      <th>alternative_neucleotide</th>\n",
       "      <th>reference_seq</th>\n",
       "      <th>alt_seq</th>\n",
       "      <th>Ref_probab</th>\n",
       "      <th>Alt_probab</th>\n",
       "      <th>ScoreChange</th>\n",
       "      <th>LogOddRatio</th>\n",
       "      <th>variant_length</th>\n",
       "    </tr>\n",
       "  </thead>\n",
       "  <tbody>\n",
       "    <tr>\n",
       "      <th>43851</th>\n",
       "      <td>chr1</td>\n",
       "      <td>+</td>\n",
       "      <td>100266204-100266293</td>\n",
       "      <td>ENST00000370126</td>\n",
       "      <td>100266289-100266929</td>\n",
       "      <td>rs1035808589</td>\n",
       "      <td>100266217</td>\n",
       "      <td>100266218</td>\n",
       "      <td>T</td>\n",
       "      <td>G</td>\n",
       "      <td>CTGCTGACTCCAGTGTCCCGAGAGGCGCCGCTTCTTCCGCTTTCTC...</td>\n",
       "      <td>CTGCTGACTCCAGGGTCCCGAGAGGCGCCGCTTCTTCCGCTTTCTC...</td>\n",
       "      <td>0.999954</td>\n",
       "      <td>0.001982</td>\n",
       "      <td>-0.997926</td>\n",
       "      <td>23.383228</td>\n",
       "      <td>1</td>\n",
       "    </tr>\n",
       "    <tr>\n",
       "      <th>43916</th>\n",
       "      <td>chr1</td>\n",
       "      <td>+</td>\n",
       "      <td>100266204-100266293</td>\n",
       "      <td>ENST00000260563</td>\n",
       "      <td>100266249-100291771</td>\n",
       "      <td>rs1035808589</td>\n",
       "      <td>100266217</td>\n",
       "      <td>100266218</td>\n",
       "      <td>T</td>\n",
       "      <td>G</td>\n",
       "      <td>CTGCTGACTCCAGTGTCCCGAGAGGCGCCGCTTCTTCCGCTTTCTC...</td>\n",
       "      <td>CTGCTGACTCCAGGGTCCCGAGAGGCGCCGCTTCTTCCGCTTTCTC...</td>\n",
       "      <td>0.999954</td>\n",
       "      <td>0.001982</td>\n",
       "      <td>-0.997926</td>\n",
       "      <td>23.383228</td>\n",
       "      <td>1</td>\n",
       "    </tr>\n",
       "    <tr>\n",
       "      <th>43981</th>\n",
       "      <td>chr1</td>\n",
       "      <td>+</td>\n",
       "      <td>100266204-100266293</td>\n",
       "      <td>ENST00000370128</td>\n",
       "      <td>100266216-100292769</td>\n",
       "      <td>rs1035808589</td>\n",
       "      <td>100266217</td>\n",
       "      <td>100266218</td>\n",
       "      <td>T</td>\n",
       "      <td>G</td>\n",
       "      <td>CTGCTGACTCCAGTGTCCCGAGAGGCGCCGCTTCTTCCGCTTTCTC...</td>\n",
       "      <td>CTGCTGACTCCAGGGTCCCGAGAGGCGCCGCTTCTTCCGCTTTCTC...</td>\n",
       "      <td>0.999954</td>\n",
       "      <td>0.001982</td>\n",
       "      <td>-0.997926</td>\n",
       "      <td>23.383228</td>\n",
       "      <td>1</td>\n",
       "    </tr>\n",
       "    <tr>\n",
       "      <th>44046</th>\n",
       "      <td>chr1</td>\n",
       "      <td>+</td>\n",
       "      <td>100266204-100266293</td>\n",
       "      <td>ENST00000483474</td>\n",
       "      <td>100266246-100273452</td>\n",
       "      <td>rs1035808589</td>\n",
       "      <td>100266217</td>\n",
       "      <td>100266218</td>\n",
       "      <td>T</td>\n",
       "      <td>G</td>\n",
       "      <td>CTGCTGACTCCAGTGTCCCGAGAGGCGCCGCTTCTTCCGCTTTCTC...</td>\n",
       "      <td>CTGCTGACTCCAGGGTCCCGAGAGGCGCCGCTTCTTCCGCTTTCTC...</td>\n",
       "      <td>0.999954</td>\n",
       "      <td>0.001982</td>\n",
       "      <td>-0.997926</td>\n",
       "      <td>23.383228</td>\n",
       "      <td>1</td>\n",
       "    </tr>\n",
       "    <tr>\n",
       "      <th>44111</th>\n",
       "      <td>chr1</td>\n",
       "      <td>+</td>\n",
       "      <td>100266204-100266293</td>\n",
       "      <td>ENST00000498617</td>\n",
       "      <td>100266216-100274843</td>\n",
       "      <td>rs1035808589</td>\n",
       "      <td>100266217</td>\n",
       "      <td>100266218</td>\n",
       "      <td>T</td>\n",
       "      <td>G</td>\n",
       "      <td>CTGCTGACTCCAGTGTCCCGAGAGGCGCCGCTTCTTCCGCTTTCTC...</td>\n",
       "      <td>CTGCTGACTCCAGGGTCCCGAGAGGCGCCGCTTCTTCCGCTTTCTC...</td>\n",
       "      <td>0.999954</td>\n",
       "      <td>0.001982</td>\n",
       "      <td>-0.997926</td>\n",
       "      <td>23.383228</td>\n",
       "      <td>1</td>\n",
       "    </tr>\n",
       "    <tr>\n",
       "      <th>...</th>\n",
       "      <td>...</td>\n",
       "      <td>...</td>\n",
       "      <td>...</td>\n",
       "      <td>...</td>\n",
       "      <td>...</td>\n",
       "      <td>...</td>\n",
       "      <td>...</td>\n",
       "      <td>...</td>\n",
       "      <td>...</td>\n",
       "      <td>...</td>\n",
       "      <td>...</td>\n",
       "      <td>...</td>\n",
       "      <td>...</td>\n",
       "      <td>...</td>\n",
       "      <td>...</td>\n",
       "      <td>...</td>\n",
       "      <td>...</td>\n",
       "    </tr>\n",
       "    <tr>\n",
       "      <th>8717</th>\n",
       "      <td>chrY</td>\n",
       "      <td>+</td>\n",
       "      <td>11314876-11314965</td>\n",
       "      <td>ENST00000557360</td>\n",
       "      <td>11314921-11316187</td>\n",
       "      <td>rs1465126200</td>\n",
       "      <td>11314895</td>\n",
       "      <td>11314896</td>\n",
       "      <td>G</td>\n",
       "      <td>A</td>\n",
       "      <td>tctgccagtgtccatccgtgaaattccggccggggctccccgcgat...</td>\n",
       "      <td>tctgccagtgtccatccgtAaaattccggccggggctccccgcgat...</td>\n",
       "      <td>0.000415</td>\n",
       "      <td>0.999926</td>\n",
       "      <td>0.999437</td>\n",
       "      <td>-24.957041</td>\n",
       "      <td>1</td>\n",
       "    </tr>\n",
       "    <tr>\n",
       "      <th>8718</th>\n",
       "      <td>chrY</td>\n",
       "      <td>+</td>\n",
       "      <td>11314876-11314965</td>\n",
       "      <td>ENST00000557360</td>\n",
       "      <td>11314921-11316187</td>\n",
       "      <td>rs1465126200</td>\n",
       "      <td>11314895</td>\n",
       "      <td>11314896</td>\n",
       "      <td>G</td>\n",
       "      <td>T</td>\n",
       "      <td>tctgccagtgtccatccgtgaaattccggccggggctccccgcgat...</td>\n",
       "      <td>tctgccagtgtccatccgtTaaattccggccggggctccccgcgat...</td>\n",
       "      <td>0.000415</td>\n",
       "      <td>0.999947</td>\n",
       "      <td>0.999480</td>\n",
       "      <td>-25.448562</td>\n",
       "      <td>1</td>\n",
       "    </tr>\n",
       "    <tr>\n",
       "      <th>8861</th>\n",
       "      <td>chrY</td>\n",
       "      <td>+</td>\n",
       "      <td>11332284-11332373</td>\n",
       "      <td>ENST00000557448</td>\n",
       "      <td>11332329-11333595</td>\n",
       "      <td>rs113880795</td>\n",
       "      <td>11332296</td>\n",
       "      <td>11332297</td>\n",
       "      <td>T</td>\n",
       "      <td>NaN</td>\n",
       "      <td>tctctgcacgcgtccgtccatgaaattccggctggggctccccGCG...</td>\n",
       "      <td>tctctgcacgcgccgtccatgaaattccggctggggctccccGCGA...</td>\n",
       "      <td>0.000411</td>\n",
       "      <td>0.999586</td>\n",
       "      <td>0.998762</td>\n",
       "      <td>-22.485844</td>\n",
       "      <td>1</td>\n",
       "    </tr>\n",
       "    <tr>\n",
       "      <th>8871</th>\n",
       "      <td>chrY</td>\n",
       "      <td>+</td>\n",
       "      <td>11332284-11332373</td>\n",
       "      <td>ENST00000557448</td>\n",
       "      <td>11332329-11333595</td>\n",
       "      <td>rs991157141</td>\n",
       "      <td>11332302</td>\n",
       "      <td>11332303</td>\n",
       "      <td>C</td>\n",
       "      <td>T</td>\n",
       "      <td>tctctgcacgcgtccgtccatgaaattccggctggggctccccGCG...</td>\n",
       "      <td>tctctgcacgcgtccgtcTatgaaattccggctggggctccccGCG...</td>\n",
       "      <td>0.000411</td>\n",
       "      <td>0.999634</td>\n",
       "      <td>0.998857</td>\n",
       "      <td>-22.661932</td>\n",
       "      <td>1</td>\n",
       "    </tr>\n",
       "    <tr>\n",
       "      <th>8875</th>\n",
       "      <td>chrY</td>\n",
       "      <td>+</td>\n",
       "      <td>11332284-11332373</td>\n",
       "      <td>ENST00000557448</td>\n",
       "      <td>11332329-11333595</td>\n",
       "      <td>rs1271345482</td>\n",
       "      <td>11332305</td>\n",
       "      <td>11332306</td>\n",
       "      <td>G</td>\n",
       "      <td>A</td>\n",
       "      <td>tctctgcacgcgtccgtccatgaaattccggctggggctccccGCG...</td>\n",
       "      <td>tctctgcacgcgtccgtccatAaaattccggctggggctccccGCG...</td>\n",
       "      <td>0.000411</td>\n",
       "      <td>0.999963</td>\n",
       "      <td>0.999515</td>\n",
       "      <td>-25.975436</td>\n",
       "      <td>1</td>\n",
       "    </tr>\n",
       "  </tbody>\n",
       "</table>\n",
       "<p>66394 rows × 17 columns</p>\n",
       "</div>"
      ],
      "text/plain": [
       "        chr strand    Donor_coordinates Ensemble_Transcript_ID  \\\n",
       "43851  chr1      +  100266204-100266293        ENST00000370126   \n",
       "43916  chr1      +  100266204-100266293        ENST00000260563   \n",
       "43981  chr1      +  100266204-100266293        ENST00000370128   \n",
       "44046  chr1      +  100266204-100266293        ENST00000483474   \n",
       "44111  chr1      +  100266204-100266293        ENST00000498617   \n",
       "...     ...    ...                  ...                    ...   \n",
       "8717   chrY      +    11314876-11314965        ENST00000557360   \n",
       "8718   chrY      +    11314876-11314965        ENST00000557360   \n",
       "8861   chrY      +    11332284-11332373        ENST00000557448   \n",
       "8871   chrY      +    11332284-11332373        ENST00000557448   \n",
       "8875   chrY      +    11332284-11332373        ENST00000557448   \n",
       "\n",
       "      Transcript_coordinates      dbsnp_id  varinat_start  variant_end  \\\n",
       "43851    100266289-100266929  rs1035808589      100266217    100266218   \n",
       "43916    100266249-100291771  rs1035808589      100266217    100266218   \n",
       "43981    100266216-100292769  rs1035808589      100266217    100266218   \n",
       "44046    100266246-100273452  rs1035808589      100266217    100266218   \n",
       "44111    100266216-100274843  rs1035808589      100266217    100266218   \n",
       "...                      ...           ...            ...          ...   \n",
       "8717       11314921-11316187  rs1465126200       11314895     11314896   \n",
       "8718       11314921-11316187  rs1465126200       11314895     11314896   \n",
       "8861       11332329-11333595   rs113880795       11332296     11332297   \n",
       "8871       11332329-11333595   rs991157141       11332302     11332303   \n",
       "8875       11332329-11333595  rs1271345482       11332305     11332306   \n",
       "\n",
       "      ref_neucleotide alternative_neucleotide  \\\n",
       "43851               T                       G   \n",
       "43916               T                       G   \n",
       "43981               T                       G   \n",
       "44046               T                       G   \n",
       "44111               T                       G   \n",
       "...               ...                     ...   \n",
       "8717                G                       A   \n",
       "8718                G                       T   \n",
       "8861                T                     NaN   \n",
       "8871                C                       T   \n",
       "8875                G                       A   \n",
       "\n",
       "                                           reference_seq  \\\n",
       "43851  CTGCTGACTCCAGTGTCCCGAGAGGCGCCGCTTCTTCCGCTTTCTC...   \n",
       "43916  CTGCTGACTCCAGTGTCCCGAGAGGCGCCGCTTCTTCCGCTTTCTC...   \n",
       "43981  CTGCTGACTCCAGTGTCCCGAGAGGCGCCGCTTCTTCCGCTTTCTC...   \n",
       "44046  CTGCTGACTCCAGTGTCCCGAGAGGCGCCGCTTCTTCCGCTTTCTC...   \n",
       "44111  CTGCTGACTCCAGTGTCCCGAGAGGCGCCGCTTCTTCCGCTTTCTC...   \n",
       "...                                                  ...   \n",
       "8717   tctgccagtgtccatccgtgaaattccggccggggctccccgcgat...   \n",
       "8718   tctgccagtgtccatccgtgaaattccggccggggctccccgcgat...   \n",
       "8861   tctctgcacgcgtccgtccatgaaattccggctggggctccccGCG...   \n",
       "8871   tctctgcacgcgtccgtccatgaaattccggctggggctccccGCG...   \n",
       "8875   tctctgcacgcgtccgtccatgaaattccggctggggctccccGCG...   \n",
       "\n",
       "                                                 alt_seq  Ref_probab  \\\n",
       "43851  CTGCTGACTCCAGGGTCCCGAGAGGCGCCGCTTCTTCCGCTTTCTC...    0.999954   \n",
       "43916  CTGCTGACTCCAGGGTCCCGAGAGGCGCCGCTTCTTCCGCTTTCTC...    0.999954   \n",
       "43981  CTGCTGACTCCAGGGTCCCGAGAGGCGCCGCTTCTTCCGCTTTCTC...    0.999954   \n",
       "44046  CTGCTGACTCCAGGGTCCCGAGAGGCGCCGCTTCTTCCGCTTTCTC...    0.999954   \n",
       "44111  CTGCTGACTCCAGGGTCCCGAGAGGCGCCGCTTCTTCCGCTTTCTC...    0.999954   \n",
       "...                                                  ...         ...   \n",
       "8717   tctgccagtgtccatccgtAaaattccggccggggctccccgcgat...    0.000415   \n",
       "8718   tctgccagtgtccatccgtTaaattccggccggggctccccgcgat...    0.000415   \n",
       "8861   tctctgcacgcgccgtccatgaaattccggctggggctccccGCGA...    0.000411   \n",
       "8871   tctctgcacgcgtccgtcTatgaaattccggctggggctccccGCG...    0.000411   \n",
       "8875   tctctgcacgcgtccgtccatAaaattccggctggggctccccGCG...    0.000411   \n",
       "\n",
       "       Alt_probab  ScoreChange  LogOddRatio  variant_length  \n",
       "43851    0.001982    -0.997926    23.383228               1  \n",
       "43916    0.001982    -0.997926    23.383228               1  \n",
       "43981    0.001982    -0.997926    23.383228               1  \n",
       "44046    0.001982    -0.997926    23.383228               1  \n",
       "44111    0.001982    -0.997926    23.383228               1  \n",
       "...           ...          ...          ...             ...  \n",
       "8717     0.999926     0.999437   -24.957041               1  \n",
       "8718     0.999947     0.999480   -25.448562               1  \n",
       "8861     0.999586     0.998762   -22.485844               1  \n",
       "8871     0.999634     0.998857   -22.661932               1  \n",
       "8875     0.999963     0.999515   -25.975436               1  \n",
       "\n",
       "[66394 rows x 17 columns]"
      ]
     },
     "execution_count": 26,
     "metadata": {},
     "output_type": "execute_result"
    }
   ],
   "source": [
    "df_selected"
   ]
  },
  {
   "cell_type": "code",
   "execution_count": 27,
   "id": "f5638ad2-5638-4276-aa2e-8a104bdf1792",
   "metadata": {},
   "outputs": [
    {
     "data": {
      "text/plain": [
       "4823"
      ]
     },
     "execution_count": 27,
     "metadata": {},
     "output_type": "execute_result"
    }
   ],
   "source": [
    "len(df_selected['dbsnp_id'].unique())"
   ]
  },
  {
   "cell_type": "code",
   "execution_count": 30,
   "id": "e4b45748-5c56-46e3-a839-658bfea9d241",
   "metadata": {},
   "outputs": [],
   "source": [
    "df_selected.to_csv(output_path+\"/candidates_0.05_Percentile.tsv\", sep= \"\\t\", index=False)\n",
    "# Save to a .tsv file\n",
    "np.savetxt(output_path+\"/Unique_DBSNP_0.05_Percentile.tsv\", df_selected['dbsnp_id'].unique(), delimiter=\"\\t\", fmt='%s')\n",
    "np.savetxt(output_path+\"/Unique_TATA_CorePromoter.tsv\", df_selected['Donor_coordinates'].unique(), delimiter=\"\\t\", fmt='%s')"
   ]
  },
  {
   "cell_type": "code",
   "execution_count": null,
   "id": "5461d610-b764-4995-8965-458d1ebbdef5",
   "metadata": {},
   "outputs": [],
   "source": [
    "sns.kdeplot(df_interest['LogOddRatio'])\n",
    "plt.show()\n"
   ]
  },
  {
   "cell_type": "code",
   "execution_count": 26,
   "id": "caf100d5-1b3f-4070-86aa-d871db834870",
   "metadata": {},
   "outputs": [
    {
     "data": {
      "text/plain": [
       "array(['GAGTGGAGCACTGTACATACCTGGCTGGATTGAGAATGGTAAGTAATTTGTAATAACATACCTGGCTTGTGCAAAAGCA',\n",
       "       'AGATTTCACCTCTGCAAATATGAGAGATTCTGCAGAAGGTAAGCTTGTGATATTGGCTTGGTCTGAATTGGGTGTGTAT',\n",
       "       'CTGGGTAATGCTGGTCACCAGCCTTGTGGCCCTTCAAGGTATGTCCAAAAGAGCCGTAAGCACCCCAAGCAATGAGGGT',\n",
       "       'CTACTACTACTATTCTGCAAACGAGGAATTCAGACCAGGTAAGTACCCATGCGTCTCATTTTGGAGGAATAGGTTTAAA',\n",
       "       'TCTCTCAGTGGTCGCTATCTGGAGGAGCTTAGCCAAAGGTAAGCTTTATTATGAATTAGCACAGTCAGCTTCACACAGT',\n",
       "       'TCTGACCAGTGCTGCTGTGACGAATCTTTCAGTTACAGGTAAGCAGCTGCCAGGCCATGCACCTGCTGAGCACATGGGA',\n",
       "       'GCTGAAAAATATTATGGCAACAAATGCATTATTCCATGGTAAGATACGTCTCATTATTGGAGTGTGTCTGAACATATAT',\n",
       "       'CAGTATCTGATTTCCACCCAGTCAAAAAAATTGTCCAGGTAAGCACAATATCCCTATTTATTTTCAGTCCTACCTCAAG',\n",
       "       'TTTGAAAACTTGTCTCCAGGAAGTGTTATTATATTCAGGTATGTTAATTGAGCTCAAACTGTTGACTTTACTTATATTT',\n",
       "       'TCACATCCATCAGAGGATTGCTGATCACTCTTACCAAGGTATGTTTTATCACAGTGTTAAAAAGTACTGCTTATCATTT',\n",
       "       'AACCAAATTTATATCTGCTTGGAACAACATGAAATATAGTAAGTATCATGTTTTAAAAATTGTATAAATCCAAAGAAAT',\n",
       "       'ACTTGTTCATGAATTATTTGGAAACAGTTCACAAGTAGGTAAGTTCTGTGGGAAAAATCATAACTATACTTATTTTAAA',\n",
       "       'TCTCGGTATCATCTGCAGAATATGGTACTAATGCAAAGGTAAGCCACATGTAGGGATTACCAGTTCAACAGATGCAAGC',\n",
       "       'AAAAGTCTTCTATGCAAACAGGTGCTGGTTTAAATCAGGTATGTATTTTATACACTGTAAACTGTAATAATTTGTTTCC',\n",
       "       'CACCTCTCTCAACTCTCTCCCTTAAGCACTGGGATCAGGTAAGTTTCCCTTATTGTTTATTTTATTGCACATGCCTTTG',\n",
       "       'AGATCCAAAGGAAGGAGGAGCTACCACCAAAGAGTCAGGTATGTTTTTAACTTAAGCTATGGAGCAACGTAAAAGATAC',\n",
       "       'TAGTAGGACTCTTTAAACCTTTTGTGGAAAGCTATCAGGTATGTAAATTTGGCAAGTTCTCCTTCATGCCCCCCATATC',\n",
       "       'GATCCAAAAGCATCCTTTGAGAATTGTATGAGTTATAGGTAAGTCAACAATTTAAATCAGGACATGACTTAATTCTTGT',\n",
       "       'TCACAGCTAAAGGAGCAGAGGAGACTCTTGGACCTCAGGTAAGCTTCAGGAAGAGGAGCAGGCTTCAAGTCTCACAGTG',\n",
       "       'AAAGCTAAAACCCTGCCACCTCAAAGCAATAATAAGAGGTAAGTCTTGTGGAACTACAGTATGACATTTAAAGCTTTGA',\n",
       "       'ATATTCACCAAGTCTTGACTCAGTCACCTTTTGTGCAGGTAAGCATTGGTGTCTGTTCAGTTGGCCCACAAATCTAGGT',\n",
       "       'GGCATACAGCAGGTGTATTAGCAGGATCTAGAATACGGGTAAGTTATACTTTTTAAAAAAAAAACTTTAAAattattat',\n",
       "       'CTGCGCTTGAACCTGTGCCTGAATACTACCCTAGAcaggttgagtattccctatctgaaatggctaggaccataagtgt',\n",
       "       'ACATCGGCAAACGTCAAAGTCCCAGCTTTCAAATACAGGTCTCTTCCAAAACTTACTCTCACATGATTCATAGGCTCCA',\n",
       "       'CATAATAGACGTGAGGATAAGAGAAGGAGGAAGGCCTACTAGCAATGTCGGCTTCATTTCCCAAACTGTGCTGAGGATA',\n",
       "       'CTAACCATCATATTTAGAACCAGCTGTTTACCAGAGTGGTAAGTTGGATTGTGTTTTATTTTGGTTTTTATTCTTCATT',\n",
       "       'ATATTCAGCTGGAGACCATTCCCTTGAAACTCTCTCAGGTATGCCCTTTCTTCTCAGTGGCATCTACTTACTGTCAAAC',\n",
       "       'ACACATTTTGGTTTTATacacacacacacacacacacacacacacacGAAAGACAAGTGGCAGCTGCAGGGATTGTGCT',\n",
       "       'ATACCATCTGTTGCAGACTGGGGTGCATGACATTTTAGGTAAGTAGCAGATGAAGATTTATGAAGCTGGGCCCTGAGGT',\n",
       "       'aatgtgcttcctactattcaTTGTTGCCCCGTCTCTAGGTAAGTCTTCTGTAATTTACATGCTTGTTGAAAGGATCTGT',\n",
       "       'CCCCCACCTTCTGGGATGTTAGCAGAGCCTTTTAACTGGTAAGTCTCTCCCAGGATGACTCGTAGGAGCCTCTCAGGAT',\n",
       "       'AAAGACTTGTCATTTGATCCATGTTCAAGACCCTTGAGGTATTGTTTCATCATTTCTGTATTGTCTTTCAATAAAGAAA',\n",
       "       'ATCTTTGCTTCAGTGGTTTTCTTTAAAGGCAAGCAAAGGTAAGTAAGCCATAACAAGTGTGCTTGGTTCAGATTTCTTC',\n",
       "       'TATTCAGATCATCGTGTTTGGGGAAGATACTGTGTAAGGTAAGTTTGCAGTCTTGATGCTGATCAATCGCAGGATGCTT',\n",
       "       'AGGAAACCACAATCTCACTGAAAATATACACTATTCAGGTAAGTACTAAGAGGTAAGTTAACCAAGCGCAAGCATGACT'],\n",
       "      dtype=object)"
      ]
     },
     "execution_count": 26,
     "metadata": {},
     "output_type": "execute_result"
    }
   ],
   "source": [
    "df_interest['reference_seq'].unique()"
   ]
  },
  {
   "cell_type": "code",
   "execution_count": 27,
   "id": "0e41685e-4af4-4f14-aeed-efcafdc1d0b7",
   "metadata": {},
   "outputs": [
    {
     "data": {
      "text/plain": [
       "dbsnp_id      ref_neucleotide                 alternative_neucleotide     reference_seq                                                                  \n",
       "rs1057516984  TT                              TTT                         TTTGAAAACTTGTCTCCAGGAAGTGTTATTATATTCAGGTATGTTAATTGAGCTCAAACTGTTGACTTTACTTATATTT     7\n",
       "rs10626387    T                               TCT                         AAAGACTTGTCATTTGATCCATGTTCAAGACCCTTGAGGTATTGTTTCATCATTTCTGTATTGTCTTTCAATAAAGAAA    15\n",
       "rs10668386    .                               TC                          AAAGACTTGTCATTTGATCCATGTTCAAGACCCTTGAGGTATTGTTTCATCATTTCTGTATTGTCTTTCAATAAAGAAA    15\n",
       "rs1158710364  TA                              TATA                        CTAACCATCATATTTAGAACCAGCTGTTTACCAGAGTGGTAAGTTGGATTGTGTTTTATTTTGGTTTTTATTCTTCATT     2\n",
       "rs1172687424  G                               T                           CTACTACTACTATTCTGCAAACGAGGAATTCAGACCAGGTAAGTACCCATGCGTCTCATTTTGGAGGAATAGGTTTAAA     5\n",
       "rs1197477113  .                               AG                          TCTCGGTATCATCTGCAGAATATGGTACTAATGCAAAGGTAAGCCACATGTAGGGATTACCAGTTCAACAGATGCAAGC     6\n",
       "rs1202559184  .                               CG                          TCTCTCAGTGGTCGCTATCTGGAGGAGCTTAGCCAAAGGTAAGCTTTATTATGAATTAGCACAGTCAGCTTCACACAGT     5\n",
       "rs1209017757  .                               A                           AGGAAACCACAATCTCACTGAAAATATACACTATTCAGGTAAGTACTAAGAGGTAAGTTAACCAAGCGCAAGCATGACT     1\n",
       "rs1212185079  TATTAT                          TAT                         GCTGAAAAATATTATGGCAACAAATGCATTATTCCATGGTAAGATACGTCTCATTATTGGAGTGTGTCTGAACATATAT     2\n",
       "rs1230423427  AA                              AAA                         TATTCAGATCATCGTGTTTGGGGAAGATACTGTGTAAGGTAAGTTTGCAGTCTTGATGCTGATCAATCGCAGGATGCTT     1\n",
       "rs1289052837  .                               C                           TCTGACCAGTGCTGCTGTGACGAATCTTTCAGTTACAGGTAAGCAGCTGCCAGGCCATGCACCTGCTGAGCACATGGGA     9\n",
       "rs1297116846  A                               AA                          CACCTCTCTCAACTCTCTCCCTTAAGCACTGGGATCAGGTAAGTTTCCCTTATTGTTTATTTTATTGCACATGCCTTTG    31\n",
       "rs1327345775  CC                              CCC                         GAGTGGAGCACTGTACATACCTGGCTGGATTGAGAATGGTAAGTAATTTGTAATAACATACCTGGCTTGTGCAAAAGCA     2\n",
       "rs1335012081  T                               C                           ATACCATCTGTTGCAGACTGGGGTGCATGACATTTTAGGTAAGTAGCAGATGAAGATTTATGAAGCTGGGCCCTGAGGT     7\n",
       "rs1367360018  .                               TA                          ATATTCAGCTGGAGACCATTCCCTTGAAACTCTCTCAGGTATGCCCTTTCTTCTCAGTGGCATCTACTTACTGTCAAAC     3\n",
       "rs1371540093  A                               AA                          ATATTCACCAAGTCTTGACTCAGTCACCTTTTGTGCAGGTAAGCATTGGTGTCTGTTCAGTTGGCCCACAAATCTAGGT     5\n",
       "rs1373911853  ACA                             ACACA                       GGCATACAGCAGGTGTATTAGCAGGATCTAGAATACGGGTAAGTTATACTTTTTAAAAAAAAAACTTTAAAattattat    12\n",
       "rs1375038646  .                               AA                          ACTTGTTCATGAATTATTTGGAAACAGTTCACAAGTAGGTAAGTTCTGTGGGAAAAATCATAACTATACTTATTTTAAA     6\n",
       "rs1390513841  AAA                             AAAA                        AGATCCAAAGGAAGGAGGAGCTACCACCAAAGAGTCAGGTATGTTTTTAACTTAAGCTATGGAGCAACGTAAAAGATAC     3\n",
       "rs141985486   ACACACACACACACACACACACACACACAC  ACACACACACACACACAC          ACACATTTTGGTTTTATacacacacacacacacacacacacacacacGAAAGACAAGTGGCAGCTGCAGGGATTGTGCT     3\n",
       "rs1436578674  T                               TT                          TAGTAGGACTCTTTAAACCTTTTGTGGAAAGCTATCAGGTATGTAAATTTGGCAAGTTCTCCTTCATGCCCCCCATATC     3\n",
       "rs1438467080  TACTACCCTA                      TA                          CTGCGCTTGAACCTGTGCCTGAATACTACCCTAGAcaggttgagtattccctatctgaaatggctaggaccataagtgt     6\n",
       "rs1445932658  .                               AA                          TCACATCCATCAGAGGATTGCTGATCACTCTTACCAAGGTATGTTTTATCACAGTGTTAAAAAGTACTGCTTATCATTT     5\n",
       "rs1490651176  .                               C                           CAGTATCTGATTTCCACCCAGTCAAAAAAATTGTCCAGGTAAGCACAATATCCCTATTTATTTTCAGTCCTACCTCAAG     5\n",
       "rs1553201305  C                               AA                          aatgtgcttcctactattcaTTGTTGCCCCGTCTCTAGGTAAGTCTTCTGTAATTTACATGCTTGTTGAAAGGATCTGT     2\n",
       "rs1640878857  .                               AA                          ATCTTTGCTTCAGTGGTTTTCTTTAAAGGCAAGCAAAGGTAAGTAAGCCATAACAAGTGTGCTTGGTTCAGATTTCTTC     1\n",
       "rs1640878887  .                               GCC                         ATCTTTGCTTCAGTGGTTTTCTTTAAAGGCAAGCAAAGGTAAGTAAGCCATAACAAGTGTGCTTGGTTCAGATTTCTTC     1\n",
       "rs1640951535  TTTT                            TTTTTT                      CCCCCACCTTCTGGGATGTTAGCAGAGCCTTTTAACTGGTAAGTCTCTCCCAGGATGACTCGTAGGAGCCTCTCAGGAT     2\n",
       "rs1643977254  .                               TTA                         ATATTCACCAAGTCTTGACTCAGTCACCTTTTGTGCAGGTAAGCATTGGTGTCTGTTCAGTTGGCCCACAAATCTAGGT     5\n",
       "rs1645467242  C                               A                           ATACCATCTGTTGCAGACTGGGGTGCATGACATTTTAGGTAAGTAGCAGATGAAGATTTATGAAGCTGGGCCCTGAGGT     7\n",
       "rs1648706534  .                               CT                          TCACAGCTAAAGGAGCAGAGGAGACTCTTGGACCTCAGGTAAGCTTCAGGAAGAGGAGCAGGCTTCAAGTCTCACAGTG     6\n",
       "rs1650105865  .                               TGAGGATGAGTGTGCTGGAAATGGCA  ACATCGGCAAACGTCAAAGTCCCAGCTTTCAAATACAGGTCTCTTCCAAAACTTACTCTCACATGATTCATAGGCTCCA     1\n",
       "rs202034790   TT                              TTTT                        AAAGACTTGTCATTTGATCCATGTTCAAGACCCTTGAGGTATTGTTTCATCATTTCTGTATTGTCTTTCAATAAAGAAA    15\n",
       "rs34979388    TT                              TTT                         aatgtgcttcctactattcaTTGTTGCCCCGTCTCTAGGTAAGTCTTCTGTAATTTACATGCTTGTTGAAAGGATCTGT     2\n",
       "rs35774161    .                               C                           AGATTTCACCTCTGCAAATATGAGAGATTCTGCAGAAGGTAAGCTTGTGATATTGGCTTGGTCTGAATTGGGTGTGTAT    12\n",
       "rs756626403   CCAGGTAAGTACCCA                 CCA                         CTACTACTACTATTCTGCAAACGAGGAATTCAGACCAGGTAAGTACCCATGCGTCTCATTTTGGAGGAATAGGTTTAAA     5\n",
       "rs757433704   T                               A                           CTACTACTACTATTCTGCAAACGAGGAATTCAGACCAGGTAAGTACCCATGCGTCTCATTTTGGAGGAATAGGTTTAAA     5\n",
       "rs759266909   .                               TT                          AAAAGTCTTCTATGCAAACAGGTGCTGGTTTAAATCAGGTATGTATTTTATACACTGTAAACTGTAATAATTTGTTTCC    21\n",
       "rs761296575   T                               TT                          AACCAAATTTATATCTGCTTGGAACAACATGAAATATAGTAAGTATCATGTTTTAAAAATTGTATAAATCCAAAGAAAT     4\n",
       "rs763481129   C                               T                           CTACTACTACTATTCTGCAAACGAGGAATTCAGACCAGGTAAGTACCCATGCGTCTCATTTTGGAGGAATAGGTTTAAA     5\n",
       "rs776835974   A                               AA                          GATCCAAAAGCATCCTTTGAGAATTGTATGAGTTATAGGTAAGTCAACAATTTAAATCAGGACATGACTTAATTCTTGT     4\n",
       "rs781957035   CACCA                           CACCACCA                    CTGGGTAATGCTGGTCACCAGCCTTGTGGCCCTTCAAGGTATGTCCAAAAGAGCCGTAAGCACCCCAAGCAATGAGGGT     5\n",
       "rs887819469   CCACC                           CCACCACC                    AAAGCTAAAACCCTGCCACCTCAAAGCAATAATAAGAGGTAAGTCTTGTGGAACTACAGTATGACATTTAAAGCTTTGA     6\n",
       "dtype: int64"
      ]
     },
     "execution_count": 27,
     "metadata": {},
     "output_type": "execute_result"
    }
   ],
   "source": [
    "df_interest.groupby(['dbsnp_id', 'ref_neucleotide','alternative_neucleotide',  'reference_seq']).size()"
   ]
  },
  {
   "cell_type": "code",
   "execution_count": 28,
   "id": "2c79d417-48ca-4e35-85a2-826b99911098",
   "metadata": {},
   "outputs": [
    {
     "data": {
      "text/plain": [
       "dbsnp_id      ref_neucleotide                 alternative_neucleotide   \n",
       "rs1057516984  TT                              TTT                            7\n",
       "rs10626387    T                               TCT                           15\n",
       "rs10668386    .                               TC                            15\n",
       "rs1158710364  TA                              TATA                           2\n",
       "rs1172687424  G                               T                              5\n",
       "rs1197477113  .                               AG                             6\n",
       "rs1202559184  .                               CG                             5\n",
       "rs1209017757  .                               A                              1\n",
       "rs1212185079  TATTAT                          TAT                            2\n",
       "rs1230423427  AA                              AAA                            1\n",
       "rs1289052837  .                               C                              9\n",
       "rs1297116846  A                               AA                            31\n",
       "rs1327345775  CC                              CCC                            2\n",
       "rs1335012081  T                               C                              7\n",
       "rs1367360018  .                               TA                             3\n",
       "rs1371540093  A                               AA                             5\n",
       "rs1373911853  ACA                             ACACA                         12\n",
       "rs1375038646  .                               AA                             6\n",
       "rs1390513841  AAA                             AAAA                           3\n",
       "rs141985486   ACACACACACACACACACACACACACACAC  ACACACACACACACACAC             3\n",
       "rs1436578674  T                               TT                             3\n",
       "rs1438467080  TACTACCCTA                      TA                             6\n",
       "rs1445932658  .                               AA                             5\n",
       "rs1490651176  .                               C                              5\n",
       "rs1553201305  C                               AA                             2\n",
       "rs1640878857  .                               AA                             1\n",
       "rs1640878887  .                               GCC                            1\n",
       "rs1640951535  TTTT                            TTTTTT                         2\n",
       "rs1643977254  .                               TTA                            5\n",
       "rs1645467242  C                               A                              7\n",
       "rs1648706534  .                               CT                             6\n",
       "rs1650105865  .                               TGAGGATGAGTGTGCTGGAAATGGCA     1\n",
       "rs202034790   TT                              TTTT                          15\n",
       "rs34979388    TT                              TTT                            2\n",
       "rs35774161    .                               C                             12\n",
       "rs756626403   CCAGGTAAGTACCCA                 CCA                            5\n",
       "rs757433704   T                               A                              5\n",
       "rs759266909   .                               TT                            21\n",
       "rs761296575   T                               TT                             4\n",
       "rs763481129   C                               T                              5\n",
       "rs776835974   A                               AA                             4\n",
       "rs781957035   CACCA                           CACCACCA                       5\n",
       "rs887819469   CCACC                           CCACCACC                       6\n",
       "dtype: int64"
      ]
     },
     "execution_count": 28,
     "metadata": {},
     "output_type": "execute_result"
    }
   ],
   "source": [
    "df_interest.groupby(['dbsnp_id', 'ref_neucleotide','alternative_neucleotide']).size()"
   ]
  },
  {
   "cell_type": "code",
   "execution_count": 157,
   "id": "0921c226-e30c-4bef-82f7-79fd59c47676",
   "metadata": {},
   "outputs": [
    {
     "name": "stdout",
     "output_type": "stream",
     "text": [
      "-0.267426781822307 0.7891405811788812\n"
     ]
    },
    {
     "data": {
      "image/png": "[encoded data removed]",
      "text/plain": [
       "<Figure size 640x480 with 1 Axes>"
      ]
     },
     "metadata": {},
     "output_type": "display_data"
    }
   ],
   "source": [
    "import numpy as np\n",
    "import matplotlib.pyplot as plt\n",
    "from scipy.stats import norm\n",
    "from statsmodels.stats.weightstats import ztest\n",
    "\n",
    "# Generate 1000 normally distributed data points\n",
    "mu, sigma = 0, 1 # mean and standard deviation\n",
    "s = np.random.normal(mu, sigma, 1000)\n",
    "\n",
    "# Perform the z test\n",
    "z_score, p_value = ztest(x1= s, value = mu)\n",
    "\n",
    "print(z_score, p_value)\n",
    "\n",
    "# # Generate data and plot the normal distribution\n",
    "x = np.linspace(-4, 4, 1000)\n",
    "y = norm.pdf(x, 0, 1)\n",
    "plt.plot(x, y)\n",
    "\n",
    "# Shade the two-tail regions\n",
    "plt.fill_between(x, 0, y, where=(x <= -abs(z_score)) | (x >= abs(z_score)), color='red', alpha=0.3)\n",
    "\n",
    "# # Mark the observed value\n",
    "plt.axvline(z_score, color='blue', linestyle='--', label=f'Observed z-score = {z_score:.2f}')\n",
    "plt.axvline(-z_score, color='blue', linestyle='--')\n",
    "\n",
    "plt.legend()\n",
    "plt.title('Two-tailed Z-test')\n",
    "plt.xlabel('Z-score')\n",
    "plt.ylabel('Probability density')\n",
    "plt.show()"
   ]
  },
  {
   "cell_type": "code",
   "execution_count": 168,
   "id": "b4d3d1fd-ec42-44fb-8577-8a9114330cd7",
   "metadata": {},
   "outputs": [
    {
     "name": "stdout",
     "output_type": "stream",
     "text": [
      "0.0 1.0\n",
      "1.959963984540054\n",
      "-1.9201628731122704 1.8585445470122721\n"
     ]
    },
    {
     "name": "stderr",
     "output_type": "stream",
     "text": [
      "/tmp/ipykernel_237056/578947367.py:17: UserWarning:\n",
      "\n",
      "\n",
      "\n",
      "`distplot` is a deprecated function and will be removed in seaborn v0.14.0.\n",
      "\n",
      "Please adapt your code to use either `displot` (a figure-level function with\n",
      "similar flexibility) or `kdeplot` (an axes-level function for kernel density plots).\n",
      "\n",
      "For a guide to updating your code to use the new functions, please see\n",
      "https://gist.github.com/mwaskom/de44147ed2974457ad6372750bbe5751\n",
      "\n",
      "\n",
      "/shared/software/anaconda/anaconda3/lib/python3.10/site-packages/seaborn/distributions.py:2511: FutureWarning:\n",
      "\n",
      "\n",
      "\n",
      "`shade` is now deprecated in favor of `fill`; setting `fill=True`.\n",
      "This will become an error in seaborn v0.14.0; please update your code.\n",
      "\n",
      "\n"
     ]
    },
    {
     "data": {
      "image/png": "[encoded data removed]",
      "text/plain": [
       "<Figure size 640x480 with 1 Axes>"
      ]
     },
     "metadata": {},
     "output_type": "display_data"
    }
   ],
   "source": [
    "import pandas as pd\n",
    "import numpy as np\n",
    "import matplotlib.pyplot as plt\n",
    "import seaborn as sns\n",
    "from scipy.stats import norm\n",
    "from statsmodels.stats.weightstats import ztest\n",
    "\n",
    "# Assume we have the following DataFrame\n",
    "df = pd.DataFrame({\n",
    "   'LogOddRatio': np.random.normal(0, 1, 1000)\n",
    "})\n",
    "\n",
    "# Perform the z test\n",
    "z_score, p_value = ztest(x1= df['LogOddRatio'], value =  df['LogOddRatio'].mean())\n",
    "print(z_score, p_value)\n",
    "# Plot the distribution of 'LogOddRatio'\n",
    "sns.distplot(df['LogOddRatio'], hist = False, kde = True, \n",
    "             kde_kws = {'shade': True, 'linewidth': 3})\n",
    "\n",
    "# Get the extreme values for a two tailed test at alpha = 0.05\n",
    "z_critical = norm.ppf(1 - 0.05/2) # two-tailed test at alpha = 0.05\n",
    "\n",
    "\n",
    "print(z_critical)\n",
    "x1, x2 = df['LogOddRatio'].mean() + z_critical*df['LogOddRatio'].std(), df['LogOddRatio'].mean() - z_critical*df['LogOddRatio'].std()\n",
    "print(x2, x1)\n",
    "# Shade the area for the two tailed test\n",
    "plt.axvspan(min(df['LogOddRatio']), x2, alpha=0.3, color='red')\n",
    "plt.axvspan(x1, max(df['LogOddRatio']), alpha=0.3, color='red')\n",
    "\n",
    "plt.title('Distribution of LogOddRatio')\n",
    "plt.show()\n"
   ]
  },
  {
   "cell_type": "code",
   "execution_count": null,
   "id": "ad11ff94-0a0a-4528-88d5-15a2d7aaac16",
   "metadata": {},
   "outputs": [],
   "source": []
  }
 ],
 "metadata": {
  "kernelspec": {
   "display_name": "Python 3 (ipykernel)",
   "language": "python",
   "name": "python3"
  },
  "language_info": {
   "codemirror_mode": {
    "name": "ipython",
    "version": 3
   },
   "file_extension": ".py",
   "mimetype": "text/x-python",
   "name": "python",
   "nbconvert_exporter": "python",
   "pygments_lexer": "ipython3",
   "version": "3.10.11"
  }
 },
 "nbformat": 4,
 "nbformat_minor": 5
}
