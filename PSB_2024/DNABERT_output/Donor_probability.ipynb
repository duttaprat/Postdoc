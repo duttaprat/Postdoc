{
 "cells": [
  {
   "cell_type": "code",
   "execution_count": 1,
   "id": "63f40c7b-4e9b-4626-a876-38edcd6b2686",
   "metadata": {},
   "outputs": [],
   "source": [
    "import os, glob\n",
    "import numpy as np\n",
    "import pandas as pd\n",
    "import math\n",
    "import plotly.graph_objects as go"
   ]
  },
  {
   "cell_type": "code",
   "execution_count": 2,
   "id": "db1a15b6-3ae8-4725-9860-442dc53382b2",
   "metadata": {},
   "outputs": [],
   "source": [
    "chr_name = \"chr1\""
   ]
  },
  {
   "cell_type": "code",
   "execution_count": 3,
   "id": "927633b9-cb8e-4d5c-b0ee-d5afd2814508",
   "metadata": {},
   "outputs": [],
   "source": [
    "base_dir = \"/data/projects/PSB/DNABERT_data/Donor/\"+chr_name"
   ]
  },
  {
   "cell_type": "code",
   "execution_count": 6,
   "id": "3463e015-6276-4113-801d-9d713d9726b2",
   "metadata": {},
   "outputs": [],
   "source": [
    "# Get all entities (folders and files) in the base directory\n",
    "entities = os.listdir(base_dir)\n",
    "\n",
    "# Filter only the directories\n",
    "folders = [entity for entity in entities if os.path.isdir(os.path.join(base_dir, entity))]\n",
    "\n",
    "# Sort the folders based on their numerical suffix\n",
    "folders = sorted(folders, key=lambda x: int(x.replace(\"subfolder\", \"\")))"
   ]
  },
  {
   "cell_type": "code",
   "execution_count": 5,
   "id": "c19ccc9b-46f1-4983-9b96-af4fd6cc6bdc",
   "metadata": {},
   "outputs": [
    {
     "data": {
      "text/plain": [
       "['cached_dev_80_dnaprom', 'all_data_new.tsv', 'Prediction_result', 'dev.tsv']"
      ]
     },
     "execution_count": 7,
     "metadata": {},
     "output_type": "execute_result"
    }
   ],
   "source": [
    "entities"
   ]
  },
  {
   "cell_type": "code",
   "execution_count": 147,
   "id": "c8185d89-8a22-4772-aa0b-66573bab0144",
   "metadata": {},
   "outputs": [
    {
     "name": "stdout",
     "output_type": "stream",
     "text": [
      "/data/projects/PSB/DNABERT_data/Donor/chr5/subfolder1/Prediction_result\n",
      "/data/projects/PSB/DNABERT_data/Donor/chr5/subfolder2/Prediction_result\n",
      "/data/projects/PSB/DNABERT_data/Donor/chr5/subfolder3/Prediction_result\n",
      "/data/projects/PSB/DNABERT_data/Donor/chr5/subfolder4/Prediction_result\n",
      "/data/projects/PSB/DNABERT_data/Donor/chr5/subfolder5/Prediction_result\n",
      "/data/projects/PSB/DNABERT_data/Donor/chr5/subfolder6/Prediction_result\n",
      "/data/projects/PSB/DNABERT_data/Donor/chr5/subfolder7/Prediction_result\n",
      "/data/projects/PSB/DNABERT_data/Donor/chr5/subfolder8/Prediction_result\n",
      "/data/projects/PSB/DNABERT_data/Donor/chr5/subfolder9/Prediction_result\n",
      "/data/projects/PSB/DNABERT_data/Donor/chr5/subfolder10/Prediction_result\n",
      "/data/projects/PSB/DNABERT_data/Donor/chr5/subfolder11/Prediction_result\n"
     ]
    }
   ],
   "source": [
    "concatenated = None\n",
    "# Iterate through all sorted folders\n",
    "for folder in folders:\n",
    "    folder_path = os.path.join(base_dir, folder)\n",
    "    prediction_folder = os.path.join(folder_path, \"Prediction_result\")\n",
    "    print(prediction_folder)\n",
    "\n",
    "    # Check if \"Prediction_result\" subfolder exists\n",
    "    if os.path.isdir(prediction_folder):\n",
    "        # Check if \"pred_results.npy\" file exists\n",
    "        if 'pred_results.npy' in os.listdir(prediction_folder):\n",
    "            file_path = os.path.join(prediction_folder, 'pred_results.npy')\n",
    "            # Load .npy file\n",
    "            data = np.load(file_path)\n",
    "            # If 'concatenated' is not yet initialized, copy 'data'\n",
    "            if concatenated is None:\n",
    "                concatenated = data.copy()\n",
    "            # If 'concatenated' is already initialized, concatenate 'data'\n",
    "            else:\n",
    "                concatenated = np.concatenate((concatenated, data))"
   ]
  },
  {
   "cell_type": "code",
   "execution_count": 148,
   "id": "086602d2-b379-4fa7-b4e3-2dd2929031a2",
   "metadata": {},
   "outputs": [
    {
     "data": {
      "text/plain": [
       "52916204"
      ]
     },
     "execution_count": 148,
     "metadata": {},
     "output_type": "execute_result"
    }
   ],
   "source": [
    "len(concatenated)"
   ]
  },
  {
   "cell_type": "code",
   "execution_count": 149,
   "id": "b85b98fa-21c2-4ac8-ac1a-c749c878d083",
   "metadata": {},
   "outputs": [],
   "source": [
    "np.save(base_dir+\"/all_data_probab.npy\", concatenated)"
   ]
  },
  {
   "cell_type": "code",
   "execution_count": 150,
   "id": "c57c4afa-14ef-4132-9611-6f3df6d04977",
   "metadata": {},
   "outputs": [],
   "source": [
    "df = pd.read_csv(base_dir+\"/all_data.tsv\", sep= \"\\t\")"
   ]
  },
  {
   "cell_type": "code",
   "execution_count": 151,
   "id": "a2356d49-7ae6-4e5e-b7dc-d3d6797840df",
   "metadata": {},
   "outputs": [
    {
     "data": {
      "text/plain": [
       "(26458102, 12)"
      ]
     },
     "execution_count": 151,
     "metadata": {},
     "output_type": "execute_result"
    }
   ],
   "source": [
    "df.shape"
   ]
  },
  {
   "cell_type": "code",
   "execution_count": 152,
   "id": "4f3d7a57-bd3d-4b39-b628-7ef6e9289ace",
   "metadata": {},
   "outputs": [
    {
     "data": {
      "text/html": [
       "<div>\n",
       "<style scoped>\n",
       "    .dataframe tbody tr th:only-of-type {\n",
       "        vertical-align: middle;\n",
       "    }\n",
       "\n",
       "    .dataframe tbody tr th {\n",
       "        vertical-align: top;\n",
       "    }\n",
       "\n",
       "    .dataframe thead th {\n",
       "        text-align: right;\n",
       "    }\n",
       "</style>\n",
       "<table border=\"1\" class=\"dataframe\">\n",
       "  <thead>\n",
       "    <tr style=\"text-align: right;\">\n",
       "      <th></th>\n",
       "      <th>chr</th>\n",
       "      <th>strand</th>\n",
       "      <th>Donor_coordinates</th>\n",
       "      <th>Ensemble_Transcript_ID</th>\n",
       "      <th>Transcript_coordinates</th>\n",
       "      <th>dbsnp_id</th>\n",
       "      <th>varinat_start</th>\n",
       "      <th>variant_end</th>\n",
       "      <th>ref_neucleotide</th>\n",
       "      <th>alternative_neucleotide</th>\n",
       "      <th>reference_seq</th>\n",
       "      <th>alt_seq</th>\n",
       "    </tr>\n",
       "  </thead>\n",
       "  <tbody>\n",
       "    <tr>\n",
       "      <th>0</th>\n",
       "      <td>chr5</td>\n",
       "      <td>-</td>\n",
       "      <td>150412585-150412664</td>\n",
       "      <td>ENST00000517791</td>\n",
       "      <td>150406039-150412912</td>\n",
       "      <td>rs1390400677</td>\n",
       "      <td>150412587</td>\n",
       "      <td>150412588</td>\n",
       "      <td>C</td>\n",
       "      <td>T</td>\n",
       "      <td>TCCAGGATCGGTGTGCCCTTTCCTGGTGCTCACACATACCTCTCCG...</td>\n",
       "      <td>TCTAGGATCGGTGTGCCCTTTCCTGGTGCTCACACATACCTCTCCG...</td>\n",
       "    </tr>\n",
       "    <tr>\n",
       "      <th>1</th>\n",
       "      <td>chr5</td>\n",
       "      <td>-</td>\n",
       "      <td>150412585-150412664</td>\n",
       "      <td>ENST00000517791</td>\n",
       "      <td>150406039-150412912</td>\n",
       "      <td>rs777177244</td>\n",
       "      <td>150412593</td>\n",
       "      <td>150412594</td>\n",
       "      <td>C</td>\n",
       "      <td>T</td>\n",
       "      <td>TCCAGGATCGGTGTGCCCTTTCCTGGTGCTCACACATACCTCTCCG...</td>\n",
       "      <td>TCCAGGATTGGTGTGCCCTTTCCTGGTGCTCACACATACCTCTCCG...</td>\n",
       "    </tr>\n",
       "    <tr>\n",
       "      <th>2</th>\n",
       "      <td>chr5</td>\n",
       "      <td>-</td>\n",
       "      <td>150412585-150412664</td>\n",
       "      <td>ENST00000517791</td>\n",
       "      <td>150406039-150412912</td>\n",
       "      <td>rs1204493918</td>\n",
       "      <td>150412594</td>\n",
       "      <td>150412595</td>\n",
       "      <td>G</td>\n",
       "      <td>A</td>\n",
       "      <td>TCCAGGATCGGTGTGCCCTTTCCTGGTGCTCACACATACCTCTCCG...</td>\n",
       "      <td>TCCAGGATCAGTGTGCCCTTTCCTGGTGCTCACACATACCTCTCCG...</td>\n",
       "    </tr>\n",
       "    <tr>\n",
       "      <th>3</th>\n",
       "      <td>chr5</td>\n",
       "      <td>-</td>\n",
       "      <td>150412585-150412664</td>\n",
       "      <td>ENST00000517791</td>\n",
       "      <td>150406039-150412912</td>\n",
       "      <td>rs530225455</td>\n",
       "      <td>150412595</td>\n",
       "      <td>150412596</td>\n",
       "      <td>G</td>\n",
       "      <td>C</td>\n",
       "      <td>TCCAGGATCGGTGTGCCCTTTCCTGGTGCTCACACATACCTCTCCG...</td>\n",
       "      <td>TCCAGGATCGCTGTGCCCTTTCCTGGTGCTCACACATACCTCTCCG...</td>\n",
       "    </tr>\n",
       "    <tr>\n",
       "      <th>4</th>\n",
       "      <td>chr5</td>\n",
       "      <td>-</td>\n",
       "      <td>150412585-150412664</td>\n",
       "      <td>ENST00000517791</td>\n",
       "      <td>150406039-150412912</td>\n",
       "      <td>rs1483510017</td>\n",
       "      <td>150412596</td>\n",
       "      <td>150412597</td>\n",
       "      <td>T</td>\n",
       "      <td>C</td>\n",
       "      <td>TCCAGGATCGGTGTGCCCTTTCCTGGTGCTCACACATACCTCTCCG...</td>\n",
       "      <td>TCCAGGATCGGCGTGCCCTTTCCTGGTGCTCACACATACCTCTCCG...</td>\n",
       "    </tr>\n",
       "  </tbody>\n",
       "</table>\n",
       "</div>"
      ],
      "text/plain": [
       "    chr strand    Donor_coordinates Ensemble_Transcript_ID  \\\n",
       "0  chr5      -  150412585-150412664        ENST00000517791   \n",
       "1  chr5      -  150412585-150412664        ENST00000517791   \n",
       "2  chr5      -  150412585-150412664        ENST00000517791   \n",
       "3  chr5      -  150412585-150412664        ENST00000517791   \n",
       "4  chr5      -  150412585-150412664        ENST00000517791   \n",
       "\n",
       "  Transcript_coordinates      dbsnp_id  varinat_start  variant_end  \\\n",
       "0    150406039-150412912  rs1390400677      150412587    150412588   \n",
       "1    150406039-150412912   rs777177244      150412593    150412594   \n",
       "2    150406039-150412912  rs1204493918      150412594    150412595   \n",
       "3    150406039-150412912   rs530225455      150412595    150412596   \n",
       "4    150406039-150412912  rs1483510017      150412596    150412597   \n",
       "\n",
       "  ref_neucleotide alternative_neucleotide  \\\n",
       "0               C                       T   \n",
       "1               C                       T   \n",
       "2               G                       A   \n",
       "3               G                       C   \n",
       "4               T                       C   \n",
       "\n",
       "                                       reference_seq  \\\n",
       "0  TCCAGGATCGGTGTGCCCTTTCCTGGTGCTCACACATACCTCTCCG...   \n",
       "1  TCCAGGATCGGTGTGCCCTTTCCTGGTGCTCACACATACCTCTCCG...   \n",
       "2  TCCAGGATCGGTGTGCCCTTTCCTGGTGCTCACACATACCTCTCCG...   \n",
       "3  TCCAGGATCGGTGTGCCCTTTCCTGGTGCTCACACATACCTCTCCG...   \n",
       "4  TCCAGGATCGGTGTGCCCTTTCCTGGTGCTCACACATACCTCTCCG...   \n",
       "\n",
       "                                             alt_seq  \n",
       "0  TCTAGGATCGGTGTGCCCTTTCCTGGTGCTCACACATACCTCTCCG...  \n",
       "1  TCCAGGATTGGTGTGCCCTTTCCTGGTGCTCACACATACCTCTCCG...  \n",
       "2  TCCAGGATCAGTGTGCCCTTTCCTGGTGCTCACACATACCTCTCCG...  \n",
       "3  TCCAGGATCGCTGTGCCCTTTCCTGGTGCTCACACATACCTCTCCG...  \n",
       "4  TCCAGGATCGGCGTGCCCTTTCCTGGTGCTCACACATACCTCTCCG...  "
      ]
     },
     "execution_count": 152,
     "metadata": {},
     "output_type": "execute_result"
    }
   ],
   "source": [
    "df.head()"
   ]
  },
  {
   "cell_type": "code",
   "execution_count": 153,
   "id": "7c3d438b-c01e-41d2-a654-c71149fc6274",
   "metadata": {},
   "outputs": [
    {
     "data": {
      "text/plain": [
       "array([0.00621908, 0.00385055, 0.00621908, 0.0034006 , 0.00621908,\n",
       "       0.00516154, 0.00621908, 0.00744737, 0.00621908, 0.00916227],\n",
       "      dtype=float32)"
      ]
     },
     "execution_count": 153,
     "metadata": {},
     "output_type": "execute_result"
    }
   ],
   "source": [
    "concatenated[0:10]"
   ]
  },
  {
   "cell_type": "code",
   "execution_count": 154,
   "id": "c716747f-61cb-487c-b423-28d86d79caae",
   "metadata": {},
   "outputs": [],
   "source": [
    "Reference_probab = concatenated[::2]\n",
    "Alternative_probab = concatenated[1::2]"
   ]
  },
  {
   "cell_type": "code",
   "execution_count": 155,
   "id": "d0c512c7-f77d-4f25-9659-866eb47116c9",
   "metadata": {},
   "outputs": [],
   "source": [
    "def log_oods_ratio(p1,p2):\n",
    "    term1 = math.log2(p1/(1-p1))\n",
    "    term2 = math.log2(p2/(1-p2))\n",
    "    return (term1-term2)\n",
    "def calculate_diff_probab(p1,p2):\n",
    "    return((p2-p1)*max(p1,p2))"
   ]
  },
  {
   "cell_type": "code",
   "execution_count": 156,
   "id": "9366ae4f-3489-4a83-a8ef-f4650cb5a9a8",
   "metadata": {},
   "outputs": [],
   "source": [
    "df['Ref_probab']=Reference_probab\n",
    "df['Alt_probab']=Alternative_probab"
   ]
  },
  {
   "cell_type": "code",
   "execution_count": 157,
   "id": "f8f7360a-9ced-4c72-a604-aca0437561b1",
   "metadata": {},
   "outputs": [],
   "source": [
    "df1= df.head(1000)"
   ]
  },
  {
   "cell_type": "code",
   "execution_count": 158,
   "id": "0c7e1ea9-4291-4947-b182-737a93840175",
   "metadata": {},
   "outputs": [],
   "source": [
    "df['ScoreChange'] = df.apply(lambda row: calculate_diff_probab(row['Ref_probab'], row['Alt_probab']), axis=1)\n",
    "df['LogOddRatio'] = df.apply(lambda row: log_oods_ratio(row['Ref_probab'], row['Alt_probab']), axis=1)"
   ]
  },
  {
   "cell_type": "code",
   "execution_count": 159,
   "id": "cd748f3e-7387-49cd-bfd4-658f56130a68",
   "metadata": {},
   "outputs": [
    {
     "data": {
      "text/html": [
       "<div>\n",
       "<style scoped>\n",
       "    .dataframe tbody tr th:only-of-type {\n",
       "        vertical-align: middle;\n",
       "    }\n",
       "\n",
       "    .dataframe tbody tr th {\n",
       "        vertical-align: top;\n",
       "    }\n",
       "\n",
       "    .dataframe thead th {\n",
       "        text-align: right;\n",
       "    }\n",
       "</style>\n",
       "<table border=\"1\" class=\"dataframe\">\n",
       "  <thead>\n",
       "    <tr style=\"text-align: right;\">\n",
       "      <th></th>\n",
       "      <th>chr</th>\n",
       "      <th>strand</th>\n",
       "      <th>Donor_coordinates</th>\n",
       "      <th>Ensemble_Transcript_ID</th>\n",
       "      <th>Transcript_coordinates</th>\n",
       "      <th>dbsnp_id</th>\n",
       "      <th>varinat_start</th>\n",
       "      <th>variant_end</th>\n",
       "      <th>ref_neucleotide</th>\n",
       "      <th>alternative_neucleotide</th>\n",
       "      <th>reference_seq</th>\n",
       "      <th>alt_seq</th>\n",
       "      <th>Ref_probab</th>\n",
       "      <th>Alt_probab</th>\n",
       "      <th>ScoreChange</th>\n",
       "      <th>LogOddRatio</th>\n",
       "    </tr>\n",
       "  </thead>\n",
       "  <tbody>\n",
       "    <tr>\n",
       "      <th>0</th>\n",
       "      <td>chr5</td>\n",
       "      <td>-</td>\n",
       "      <td>150412585-150412664</td>\n",
       "      <td>ENST00000517791</td>\n",
       "      <td>150406039-150412912</td>\n",
       "      <td>rs1390400677</td>\n",
       "      <td>150412587</td>\n",
       "      <td>150412588</td>\n",
       "      <td>C</td>\n",
       "      <td>T</td>\n",
       "      <td>TCCAGGATCGGTGTGCCCTTTCCTGGTGCTCACACATACCTCTCCG...</td>\n",
       "      <td>TCTAGGATCGGTGTGCCCTTTCCTGGTGCTCACACATACCTCTCCG...</td>\n",
       "      <td>0.006219</td>\n",
       "      <td>0.003851</td>\n",
       "      <td>-0.000015</td>\n",
       "      <td>0.695071</td>\n",
       "    </tr>\n",
       "    <tr>\n",
       "      <th>1</th>\n",
       "      <td>chr5</td>\n",
       "      <td>-</td>\n",
       "      <td>150412585-150412664</td>\n",
       "      <td>ENST00000517791</td>\n",
       "      <td>150406039-150412912</td>\n",
       "      <td>rs777177244</td>\n",
       "      <td>150412593</td>\n",
       "      <td>150412594</td>\n",
       "      <td>C</td>\n",
       "      <td>T</td>\n",
       "      <td>TCCAGGATCGGTGTGCCCTTTCCTGGTGCTCACACATACCTCTCCG...</td>\n",
       "      <td>TCCAGGATTGGTGTGCCCTTTCCTGGTGCTCACACATACCTCTCCG...</td>\n",
       "      <td>0.006219</td>\n",
       "      <td>0.003401</td>\n",
       "      <td>-0.000018</td>\n",
       "      <td>0.875000</td>\n",
       "    </tr>\n",
       "    <tr>\n",
       "      <th>2</th>\n",
       "      <td>chr5</td>\n",
       "      <td>-</td>\n",
       "      <td>150412585-150412664</td>\n",
       "      <td>ENST00000517791</td>\n",
       "      <td>150406039-150412912</td>\n",
       "      <td>rs1204493918</td>\n",
       "      <td>150412594</td>\n",
       "      <td>150412595</td>\n",
       "      <td>G</td>\n",
       "      <td>A</td>\n",
       "      <td>TCCAGGATCGGTGTGCCCTTTCCTGGTGCTCACACATACCTCTCCG...</td>\n",
       "      <td>TCCAGGATCAGTGTGCCCTTTCCTGGTGCTCACACATACCTCTCCG...</td>\n",
       "      <td>0.006219</td>\n",
       "      <td>0.005162</td>\n",
       "      <td>-0.000007</td>\n",
       "      <td>0.270434</td>\n",
       "    </tr>\n",
       "    <tr>\n",
       "      <th>3</th>\n",
       "      <td>chr5</td>\n",
       "      <td>-</td>\n",
       "      <td>150412585-150412664</td>\n",
       "      <td>ENST00000517791</td>\n",
       "      <td>150406039-150412912</td>\n",
       "      <td>rs530225455</td>\n",
       "      <td>150412595</td>\n",
       "      <td>150412596</td>\n",
       "      <td>G</td>\n",
       "      <td>C</td>\n",
       "      <td>TCCAGGATCGGTGTGCCCTTTCCTGGTGCTCACACATACCTCTCCG...</td>\n",
       "      <td>TCCAGGATCGCTGTGCCCTTTCCTGGTGCTCACACATACCTCTCCG...</td>\n",
       "      <td>0.006219</td>\n",
       "      <td>0.007447</td>\n",
       "      <td>0.000009</td>\n",
       "      <td>-0.261813</td>\n",
       "    </tr>\n",
       "    <tr>\n",
       "      <th>4</th>\n",
       "      <td>chr5</td>\n",
       "      <td>-</td>\n",
       "      <td>150412585-150412664</td>\n",
       "      <td>ENST00000517791</td>\n",
       "      <td>150406039-150412912</td>\n",
       "      <td>rs1483510017</td>\n",
       "      <td>150412596</td>\n",
       "      <td>150412597</td>\n",
       "      <td>T</td>\n",
       "      <td>C</td>\n",
       "      <td>TCCAGGATCGGTGTGCCCTTTCCTGGTGCTCACACATACCTCTCCG...</td>\n",
       "      <td>TCCAGGATCGGCGTGCCCTTTCCTGGTGCTCACACATACCTCTCCG...</td>\n",
       "      <td>0.006219</td>\n",
       "      <td>0.009162</td>\n",
       "      <td>0.000027</td>\n",
       "      <td>-0.563282</td>\n",
       "    </tr>\n",
       "  </tbody>\n",
       "</table>\n",
       "</div>"
      ],
      "text/plain": [
       "    chr strand    Donor_coordinates Ensemble_Transcript_ID  \\\n",
       "0  chr5      -  150412585-150412664        ENST00000517791   \n",
       "1  chr5      -  150412585-150412664        ENST00000517791   \n",
       "2  chr5      -  150412585-150412664        ENST00000517791   \n",
       "3  chr5      -  150412585-150412664        ENST00000517791   \n",
       "4  chr5      -  150412585-150412664        ENST00000517791   \n",
       "\n",
       "  Transcript_coordinates      dbsnp_id  varinat_start  variant_end  \\\n",
       "0    150406039-150412912  rs1390400677      150412587    150412588   \n",
       "1    150406039-150412912   rs777177244      150412593    150412594   \n",
       "2    150406039-150412912  rs1204493918      150412594    150412595   \n",
       "3    150406039-150412912   rs530225455      150412595    150412596   \n",
       "4    150406039-150412912  rs1483510017      150412596    150412597   \n",
       "\n",
       "  ref_neucleotide alternative_neucleotide  \\\n",
       "0               C                       T   \n",
       "1               C                       T   \n",
       "2               G                       A   \n",
       "3               G                       C   \n",
       "4               T                       C   \n",
       "\n",
       "                                       reference_seq  \\\n",
       "0  TCCAGGATCGGTGTGCCCTTTCCTGGTGCTCACACATACCTCTCCG...   \n",
       "1  TCCAGGATCGGTGTGCCCTTTCCTGGTGCTCACACATACCTCTCCG...   \n",
       "2  TCCAGGATCGGTGTGCCCTTTCCTGGTGCTCACACATACCTCTCCG...   \n",
       "3  TCCAGGATCGGTGTGCCCTTTCCTGGTGCTCACACATACCTCTCCG...   \n",
       "4  TCCAGGATCGGTGTGCCCTTTCCTGGTGCTCACACATACCTCTCCG...   \n",
       "\n",
       "                                             alt_seq  Ref_probab  Alt_probab  \\\n",
       "0  TCTAGGATCGGTGTGCCCTTTCCTGGTGCTCACACATACCTCTCCG...    0.006219    0.003851   \n",
       "1  TCCAGGATTGGTGTGCCCTTTCCTGGTGCTCACACATACCTCTCCG...    0.006219    0.003401   \n",
       "2  TCCAGGATCAGTGTGCCCTTTCCTGGTGCTCACACATACCTCTCCG...    0.006219    0.005162   \n",
       "3  TCCAGGATCGCTGTGCCCTTTCCTGGTGCTCACACATACCTCTCCG...    0.006219    0.007447   \n",
       "4  TCCAGGATCGGCGTGCCCTTTCCTGGTGCTCACACATACCTCTCCG...    0.006219    0.009162   \n",
       "\n",
       "   ScoreChange  LogOddRatio  \n",
       "0    -0.000015     0.695071  \n",
       "1    -0.000018     0.875000  \n",
       "2    -0.000007     0.270434  \n",
       "3     0.000009    -0.261813  \n",
       "4     0.000027    -0.563282  "
      ]
     },
     "execution_count": 159,
     "metadata": {},
     "output_type": "execute_result"
    }
   ],
   "source": [
    "df.head()"
   ]
  },
  {
   "cell_type": "code",
   "execution_count": 160,
   "id": "34b56ae2-ad55-4da7-914c-d19bf0fe2375",
   "metadata": {},
   "outputs": [],
   "source": [
    "counts, bins = np.histogram(df['LogOddRatio'], bins=25)"
   ]
  },
  {
   "cell_type": "code",
   "execution_count": 161,
   "id": "f803f998-d44c-40de-b344-f8aa264240c9",
   "metadata": {},
   "outputs": [
    {
     "data": {
      "text/plain": [
       "array([      19,      653,     3895,     7138,    12524,    15469,\n",
       "          30016,    40546,    57933,   107155,   258467,   832340,\n",
       "        6438146, 16702160,  1470709,   271029,   103494,    51483,\n",
       "          29109,    16128,     5234,     3997,      333,       23,\n",
       "            102])"
      ]
     },
     "execution_count": 161,
     "metadata": {},
     "output_type": "execute_result"
    }
   ],
   "source": [
    "counts"
   ]
  },
  {
   "cell_type": "code",
   "execution_count": 162,
   "id": "fde74383-8700-4d3a-be9c-4a90f36c5a77",
   "metadata": {},
   "outputs": [
    {
     "data": {
      "text/plain": [
       "13.879330487462116"
      ]
     },
     "execution_count": 162,
     "metadata": {},
     "output_type": "execute_result"
    }
   ],
   "source": [
    "bins[-2]"
   ]
  },
  {
   "cell_type": "code",
   "execution_count": 163,
   "id": "a2724cec-c35b-46dd-ac6c-ffd975aaf51c",
   "metadata": {},
   "outputs": [
    {
     "data": {
      "text/html": [
       "<div>\n",
       "<style scoped>\n",
       "    .dataframe tbody tr th:only-of-type {\n",
       "        vertical-align: middle;\n",
       "    }\n",
       "\n",
       "    .dataframe tbody tr th {\n",
       "        vertical-align: top;\n",
       "    }\n",
       "\n",
       "    .dataframe thead th {\n",
       "        text-align: right;\n",
       "    }\n",
       "</style>\n",
       "<table border=\"1\" class=\"dataframe\">\n",
       "  <thead>\n",
       "    <tr style=\"text-align: right;\">\n",
       "      <th></th>\n",
       "      <th>Log_odd_ratio</th>\n",
       "      <th>Count</th>\n",
       "    </tr>\n",
       "  </thead>\n",
       "  <tbody>\n",
       "    <tr>\n",
       "      <th>0</th>\n",
       "      <td>-15.611990</td>\n",
       "      <td>19</td>\n",
       "    </tr>\n",
       "    <tr>\n",
       "      <th>1</th>\n",
       "      <td>-14.329759</td>\n",
       "      <td>653</td>\n",
       "    </tr>\n",
       "    <tr>\n",
       "      <th>2</th>\n",
       "      <td>-13.047528</td>\n",
       "      <td>3895</td>\n",
       "    </tr>\n",
       "    <tr>\n",
       "      <th>3</th>\n",
       "      <td>-11.765296</td>\n",
       "      <td>7138</td>\n",
       "    </tr>\n",
       "    <tr>\n",
       "      <th>4</th>\n",
       "      <td>-10.483065</td>\n",
       "      <td>12524</td>\n",
       "    </tr>\n",
       "    <tr>\n",
       "      <th>5</th>\n",
       "      <td>-9.200834</td>\n",
       "      <td>15469</td>\n",
       "    </tr>\n",
       "    <tr>\n",
       "      <th>6</th>\n",
       "      <td>-7.918602</td>\n",
       "      <td>30016</td>\n",
       "    </tr>\n",
       "    <tr>\n",
       "      <th>7</th>\n",
       "      <td>-6.636371</td>\n",
       "      <td>40546</td>\n",
       "    </tr>\n",
       "    <tr>\n",
       "      <th>8</th>\n",
       "      <td>-5.354140</td>\n",
       "      <td>57933</td>\n",
       "    </tr>\n",
       "    <tr>\n",
       "      <th>9</th>\n",
       "      <td>-4.071908</td>\n",
       "      <td>107155</td>\n",
       "    </tr>\n",
       "    <tr>\n",
       "      <th>10</th>\n",
       "      <td>-2.789677</td>\n",
       "      <td>258467</td>\n",
       "    </tr>\n",
       "    <tr>\n",
       "      <th>11</th>\n",
       "      <td>-1.507446</td>\n",
       "      <td>832340</td>\n",
       "    </tr>\n",
       "    <tr>\n",
       "      <th>12</th>\n",
       "      <td>-0.225214</td>\n",
       "      <td>6438146</td>\n",
       "    </tr>\n",
       "    <tr>\n",
       "      <th>13</th>\n",
       "      <td>1.057017</td>\n",
       "      <td>16702160</td>\n",
       "    </tr>\n",
       "    <tr>\n",
       "      <th>14</th>\n",
       "      <td>2.339248</td>\n",
       "      <td>1470709</td>\n",
       "    </tr>\n",
       "    <tr>\n",
       "      <th>15</th>\n",
       "      <td>3.621480</td>\n",
       "      <td>271029</td>\n",
       "    </tr>\n",
       "    <tr>\n",
       "      <th>16</th>\n",
       "      <td>4.903711</td>\n",
       "      <td>103494</td>\n",
       "    </tr>\n",
       "    <tr>\n",
       "      <th>17</th>\n",
       "      <td>6.185942</td>\n",
       "      <td>51483</td>\n",
       "    </tr>\n",
       "    <tr>\n",
       "      <th>18</th>\n",
       "      <td>7.468174</td>\n",
       "      <td>29109</td>\n",
       "    </tr>\n",
       "    <tr>\n",
       "      <th>19</th>\n",
       "      <td>8.750405</td>\n",
       "      <td>16128</td>\n",
       "    </tr>\n",
       "    <tr>\n",
       "      <th>20</th>\n",
       "      <td>10.032636</td>\n",
       "      <td>5234</td>\n",
       "    </tr>\n",
       "    <tr>\n",
       "      <th>21</th>\n",
       "      <td>11.314868</td>\n",
       "      <td>3997</td>\n",
       "    </tr>\n",
       "    <tr>\n",
       "      <th>22</th>\n",
       "      <td>12.597099</td>\n",
       "      <td>333</td>\n",
       "    </tr>\n",
       "    <tr>\n",
       "      <th>23</th>\n",
       "      <td>13.879330</td>\n",
       "      <td>23</td>\n",
       "    </tr>\n",
       "    <tr>\n",
       "      <th>24</th>\n",
       "      <td>15.161562</td>\n",
       "      <td>102</td>\n",
       "    </tr>\n",
       "  </tbody>\n",
       "</table>\n",
       "</div>"
      ],
      "text/plain": [
       "    Log_odd_ratio     Count\n",
       "0      -15.611990        19\n",
       "1      -14.329759       653\n",
       "2      -13.047528      3895\n",
       "3      -11.765296      7138\n",
       "4      -10.483065     12524\n",
       "5       -9.200834     15469\n",
       "6       -7.918602     30016\n",
       "7       -6.636371     40546\n",
       "8       -5.354140     57933\n",
       "9       -4.071908    107155\n",
       "10      -2.789677    258467\n",
       "11      -1.507446    832340\n",
       "12      -0.225214   6438146\n",
       "13       1.057017  16702160\n",
       "14       2.339248   1470709\n",
       "15       3.621480    271029\n",
       "16       4.903711    103494\n",
       "17       6.185942     51483\n",
       "18       7.468174     29109\n",
       "19       8.750405     16128\n",
       "20      10.032636      5234\n",
       "21      11.314868      3997\n",
       "22      12.597099       333\n",
       "23      13.879330        23\n",
       "24      15.161562       102"
      ]
     },
     "execution_count": 163,
     "metadata": {},
     "output_type": "execute_result"
    }
   ],
   "source": [
    "df_analysis = pd.DataFrame({'Log_odd_ratio':bins[1:], 'Count':counts})\n",
    "df_analysis"
   ]
  },
  {
   "cell_type": "code",
   "execution_count": 164,
   "id": "46280674-cbba-4cee-acd7-0b099914e2c5",
   "metadata": {},
   "outputs": [
    {
     "data": {
      "application/vnd.plotly.v1+json": {
       "config": {
        "plotlyServerURL": "https://plot.ly"
       },
       "data": [
        {
         "name": "Histogram",
         "type": "bar",
         "width": [
          1.2822313348273262,
          1.282231334827328,
          1.2822313348273262,
          1.282231334827328,
          1.2822313348273262,
          1.2822313348273262,
          1.282231334827328,
          1.2822313348273262,
          1.2822313348273262,
          1.282231334827328,
          1.2822313348273262,
          1.2822313348273262,
          1.2822313348273262,
          1.2822313348273298,
          1.2822313348273262,
          1.2822313348273262,
          1.2822313348273262,
          1.2822313348273262,
          1.2822313348273298,
          1.2822313348273262,
          1.2822313348273262,
          1.2822313348273262,
          1.2822313348273262,
          1.2822313348273262,
          1.2822313348273262
         ],
         "x": [
          -16.253105880980065,
          -14.970874546152736,
          -13.68864321132541,
          -12.406411876498083,
          -11.124180541670755,
          -9.841949206843429,
          -8.559717872016101,
          -7.277486537188775,
          -5.995255202361449,
          -4.713023867534122,
          -3.4307925327067945,
          -2.1485611978794683,
          -0.8663298630521421,
          0.4159014717751859,
          1.6981328066025139,
          2.98036414142984,
          4.262595476257166,
          5.5448268110844925,
          6.8270581459118205,
          8.109289480739148,
          9.391520815566475,
          10.6737521503938,
          11.955983485221127,
          13.238214820048453,
          14.52044615487578
         ],
         "y": [
          19,
          653,
          3895,
          7138,
          12524,
          15469,
          30016,
          40546,
          57933,
          107155,
          258467,
          832340,
          6438146,
          16702160,
          1470709,
          271029,
          103494,
          51483,
          29109,
          16128,
          5234,
          3997,
          333,
          23,
          102
         ]
        },
        {
         "mode": "text",
         "text": [
          "19"
         ],
         "type": "scatter",
         "x": [
          -16.253105880980065
         ],
         "y": [
          19
         ]
        },
        {
         "mode": "text",
         "text": [
          "653"
         ],
         "type": "scatter",
         "x": [
          -14.970874546152736
         ],
         "y": [
          653
         ]
        },
        {
         "mode": "text",
         "text": [
          "3895"
         ],
         "type": "scatter",
         "x": [
          -13.68864321132541
         ],
         "y": [
          3895
         ]
        },
        {
         "mode": "text",
         "text": [
          "7138"
         ],
         "type": "scatter",
         "x": [
          -12.406411876498083
         ],
         "y": [
          7138
         ]
        },
        {
         "mode": "text",
         "text": [
          "12524"
         ],
         "type": "scatter",
         "x": [
          -11.124180541670755
         ],
         "y": [
          12524
         ]
        },
        {
         "mode": "text",
         "text": [
          "15469"
         ],
         "type": "scatter",
         "x": [
          -9.841949206843429
         ],
         "y": [
          15469
         ]
        },
        {
         "mode": "text",
         "text": [
          "30016"
         ],
         "type": "scatter",
         "x": [
          -8.559717872016101
         ],
         "y": [
          30016
         ]
        },
        {
         "mode": "text",
         "text": [
          "40546"
         ],
         "type": "scatter",
         "x": [
          -7.277486537188775
         ],
         "y": [
          40546
         ]
        },
        {
         "mode": "text",
         "text": [
          "57933"
         ],
         "type": "scatter",
         "x": [
          -5.995255202361449
         ],
         "y": [
          57933
         ]
        },
        {
         "mode": "text",
         "text": [
          "107155"
         ],
         "type": "scatter",
         "x": [
          -4.713023867534122
         ],
         "y": [
          107155
         ]
        },
        {
         "mode": "text",
         "text": [
          "258467"
         ],
         "type": "scatter",
         "x": [
          -3.4307925327067945
         ],
         "y": [
          258467
         ]
        },
        {
         "mode": "text",
         "text": [
          "832340"
         ],
         "type": "scatter",
         "x": [
          -2.1485611978794683
         ],
         "y": [
          832340
         ]
        },
        {
         "mode": "text",
         "text": [
          "6438146"
         ],
         "type": "scatter",
         "x": [
          -0.8663298630521421
         ],
         "y": [
          6438146
         ]
        },
        {
         "mode": "text",
         "text": [
          "16702160"
         ],
         "type": "scatter",
         "x": [
          0.4159014717751859
         ],
         "y": [
          16702160
         ]
        },
        {
         "mode": "text",
         "text": [
          "1470709"
         ],
         "type": "scatter",
         "x": [
          1.6981328066025139
         ],
         "y": [
          1470709
         ]
        },
        {
         "mode": "text",
         "text": [
          "271029"
         ],
         "type": "scatter",
         "x": [
          2.98036414142984
         ],
         "y": [
          271029
         ]
        },
        {
         "mode": "text",
         "text": [
          "103494"
         ],
         "type": "scatter",
         "x": [
          4.262595476257166
         ],
         "y": [
          103494
         ]
        },
        {
         "mode": "text",
         "text": [
          "51483"
         ],
         "type": "scatter",
         "x": [
          5.5448268110844925
         ],
         "y": [
          51483
         ]
        },
        {
         "mode": "text",
         "text": [
          "29109"
         ],
         "type": "scatter",
         "x": [
          6.8270581459118205
         ],
         "y": [
          29109
         ]
        },
        {
         "mode": "text",
         "text": [
          "16128"
         ],
         "type": "scatter",
         "x": [
          8.109289480739148
         ],
         "y": [
          16128
         ]
        },
        {
         "mode": "text",
         "text": [
          "5234"
         ],
         "type": "scatter",
         "x": [
          9.391520815566475
         ],
         "y": [
          5234
         ]
        },
        {
         "mode": "text",
         "text": [
          "3997"
         ],
         "type": "scatter",
         "x": [
          10.6737521503938
         ],
         "y": [
          3997
         ]
        },
        {
         "mode": "text",
         "text": [
          "333"
         ],
         "type": "scatter",
         "x": [
          11.955983485221127
         ],
         "y": [
          333
         ]
        },
        {
         "mode": "text",
         "text": [
          "23"
         ],
         "type": "scatter",
         "x": [
          13.238214820048453
         ],
         "y": [
          23
         ]
        },
        {
         "mode": "text",
         "text": [
          "102"
         ],
         "type": "scatter",
         "x": [
          14.52044615487578
         ],
         "y": [
          102
         ]
        }
       ],
       "layout": {
        "autosize": true,
        "template": {
         "data": {
          "bar": [
           {
            "error_x": {
             "color": "#2a3f5f"
            },
            "error_y": {
             "color": "#2a3f5f"
            },
            "marker": {
             "line": {
              "color": "#E5ECF6",
              "width": 0.5
             },
             "pattern": {
              "fillmode": "overlay",
              "size": 10,
              "solidity": 0.2
             }
            },
            "type": "bar"
           }
          ],
          "barpolar": [
           {
            "marker": {
             "line": {
              "color": "#E5ECF6",
              "width": 0.5
             },
             "pattern": {
              "fillmode": "overlay",
              "size": 10,
              "solidity": 0.2
             }
            },
            "type": "barpolar"
           }
          ],
          "carpet": [
           {
            "aaxis": {
             "endlinecolor": "#2a3f5f",
             "gridcolor": "white",
             "linecolor": "white",
             "minorgridcolor": "white",
             "startlinecolor": "#2a3f5f"
            },
            "baxis": {
             "endlinecolor": "#2a3f5f",
             "gridcolor": "white",
             "linecolor": "white",
             "minorgridcolor": "white",
             "startlinecolor": "#2a3f5f"
            },
            "type": "carpet"
           }
          ],
          "choropleth": [
           {
            "colorbar": {
             "outlinewidth": 0,
             "ticks": ""
            },
            "type": "choropleth"
           }
          ],
          "contour": [
           {
            "colorbar": {
             "outlinewidth": 0,
             "ticks": ""
            },
            "colorscale": [
             [
              0,
              "#0d0887"
             ],
             [
              0.1111111111111111,
              "#46039f"
             ],
             [
              0.2222222222222222,
              "#7201a8"
             ],
             [
              0.3333333333333333,
              "#9c179e"
             ],
             [
              0.4444444444444444,
              "#bd3786"
             ],
             [
              0.5555555555555556,
              "#d8576b"
             ],
             [
              0.6666666666666666,
              "#ed7953"
             ],
             [
              0.7777777777777778,
              "#fb9f3a"
             ],
             [
              0.8888888888888888,
              "#fdca26"
             ],
             [
              1,
              "#f0f921"
             ]
            ],
            "type": "contour"
           }
          ],
          "contourcarpet": [
           {
            "colorbar": {
             "outlinewidth": 0,
             "ticks": ""
            },
            "type": "contourcarpet"
           }
          ],
          "heatmap": [
           {
            "colorbar": {
             "outlinewidth": 0,
             "ticks": ""
            },
            "colorscale": [
             [
              0,
              "#0d0887"
             ],
             [
              0.1111111111111111,
              "#46039f"
             ],
             [
              0.2222222222222222,
              "#7201a8"
             ],
             [
              0.3333333333333333,
              "#9c179e"
             ],
             [
              0.4444444444444444,
              "#bd3786"
             ],
             [
              0.5555555555555556,
              "#d8576b"
             ],
             [
              0.6666666666666666,
              "#ed7953"
             ],
             [
              0.7777777777777778,
              "#fb9f3a"
             ],
             [
              0.8888888888888888,
              "#fdca26"
             ],
             [
              1,
              "#f0f921"
             ]
            ],
            "type": "heatmap"
           }
          ],
          "heatmapgl": [
           {
            "colorbar": {
             "outlinewidth": 0,
             "ticks": ""
            },
            "colorscale": [
             [
              0,
              "#0d0887"
             ],
             [
              0.1111111111111111,
              "#46039f"
             ],
             [
              0.2222222222222222,
              "#7201a8"
             ],
             [
              0.3333333333333333,
              "#9c179e"
             ],
             [
              0.4444444444444444,
              "#bd3786"
             ],
             [
              0.5555555555555556,
              "#d8576b"
             ],
             [
              0.6666666666666666,
              "#ed7953"
             ],
             [
              0.7777777777777778,
              "#fb9f3a"
             ],
             [
              0.8888888888888888,
              "#fdca26"
             ],
             [
              1,
              "#f0f921"
             ]
            ],
            "type": "heatmapgl"
           }
          ],
          "histogram": [
           {
            "marker": {
             "pattern": {
              "fillmode": "overlay",
              "size": 10,
              "solidity": 0.2
             }
            },
            "type": "histogram"
           }
          ],
          "histogram2d": [
           {
            "colorbar": {
             "outlinewidth": 0,
             "ticks": ""
            },
            "colorscale": [
             [
              0,
              "#0d0887"
             ],
             [
              0.1111111111111111,
              "#46039f"
             ],
             [
              0.2222222222222222,
              "#7201a8"
             ],
             [
              0.3333333333333333,
              "#9c179e"
             ],
             [
              0.4444444444444444,
              "#bd3786"
             ],
             [
              0.5555555555555556,
              "#d8576b"
             ],
             [
              0.6666666666666666,
              "#ed7953"
             ],
             [
              0.7777777777777778,
              "#fb9f3a"
             ],
             [
              0.8888888888888888,
              "#fdca26"
             ],
             [
              1,
              "#f0f921"
             ]
            ],
            "type": "histogram2d"
           }
          ],
          "histogram2dcontour": [
           {
            "colorbar": {
             "outlinewidth": 0,
             "ticks": ""
            },
            "colorscale": [
             [
              0,
              "#0d0887"
             ],
             [
              0.1111111111111111,
              "#46039f"
             ],
             [
              0.2222222222222222,
              "#7201a8"
             ],
             [
              0.3333333333333333,
              "#9c179e"
             ],
             [
              0.4444444444444444,
              "#bd3786"
             ],
             [
              0.5555555555555556,
              "#d8576b"
             ],
             [
              0.6666666666666666,
              "#ed7953"
             ],
             [
              0.7777777777777778,
              "#fb9f3a"
             ],
             [
              0.8888888888888888,
              "#fdca26"
             ],
             [
              1,
              "#f0f921"
             ]
            ],
            "type": "histogram2dcontour"
           }
          ],
          "mesh3d": [
           {
            "colorbar": {
             "outlinewidth": 0,
             "ticks": ""
            },
            "type": "mesh3d"
           }
          ],
          "parcoords": [
           {
            "line": {
             "colorbar": {
              "outlinewidth": 0,
              "ticks": ""
             }
            },
            "type": "parcoords"
           }
          ],
          "pie": [
           {
            "automargin": true,
            "type": "pie"
           }
          ],
          "scatter": [
           {
            "fillpattern": {
             "fillmode": "overlay",
             "size": 10,
             "solidity": 0.2
            },
            "type": "scatter"
           }
          ],
          "scatter3d": [
           {
            "line": {
             "colorbar": {
              "outlinewidth": 0,
              "ticks": ""
             }
            },
            "marker": {
             "colorbar": {
              "outlinewidth": 0,
              "ticks": ""
             }
            },
            "type": "scatter3d"
           }
          ],
          "scattercarpet": [
           {
            "marker": {
             "colorbar": {
              "outlinewidth": 0,
              "ticks": ""
             }
            },
            "type": "scattercarpet"
           }
          ],
          "scattergeo": [
           {
            "marker": {
             "colorbar": {
              "outlinewidth": 0,
              "ticks": ""
             }
            },
            "type": "scattergeo"
           }
          ],
          "scattergl": [
           {
            "marker": {
             "colorbar": {
              "outlinewidth": 0,
              "ticks": ""
             }
            },
            "type": "scattergl"
           }
          ],
          "scattermapbox": [
           {
            "marker": {
             "colorbar": {
              "outlinewidth": 0,
              "ticks": ""
             }
            },
            "type": "scattermapbox"
           }
          ],
          "scatterpolar": [
           {
            "marker": {
             "colorbar": {
              "outlinewidth": 0,
              "ticks": ""
             }
            },
            "type": "scatterpolar"
           }
          ],
          "scatterpolargl": [
           {
            "marker": {
             "colorbar": {
              "outlinewidth": 0,
              "ticks": ""
             }
            },
            "type": "scatterpolargl"
           }
          ],
          "scatterternary": [
           {
            "marker": {
             "colorbar": {
              "outlinewidth": 0,
              "ticks": ""
             }
            },
            "type": "scatterternary"
           }
          ],
          "surface": [
           {
            "colorbar": {
             "outlinewidth": 0,
             "ticks": ""
            },
            "colorscale": [
             [
              0,
              "#0d0887"
             ],
             [
              0.1111111111111111,
              "#46039f"
             ],
             [
              0.2222222222222222,
              "#7201a8"
             ],
             [
              0.3333333333333333,
              "#9c179e"
             ],
             [
              0.4444444444444444,
              "#bd3786"
             ],
             [
              0.5555555555555556,
              "#d8576b"
             ],
             [
              0.6666666666666666,
              "#ed7953"
             ],
             [
              0.7777777777777778,
              "#fb9f3a"
             ],
             [
              0.8888888888888888,
              "#fdca26"
             ],
             [
              1,
              "#f0f921"
             ]
            ],
            "type": "surface"
           }
          ],
          "table": [
           {
            "cells": {
             "fill": {
              "color": "#EBF0F8"
             },
             "line": {
              "color": "white"
             }
            },
            "header": {
             "fill": {
              "color": "#C8D4E3"
             },
             "line": {
              "color": "white"
             }
            },
            "type": "table"
           }
          ]
         },
         "layout": {
          "annotationdefaults": {
           "arrowcolor": "#2a3f5f",
           "arrowhead": 0,
           "arrowwidth": 1
          },
          "autotypenumbers": "strict",
          "coloraxis": {
           "colorbar": {
            "outlinewidth": 0,
            "ticks": ""
           }
          },
          "colorscale": {
           "diverging": [
            [
             0,
             "#8e0152"
            ],
            [
             0.1,
             "#c51b7d"
            ],
            [
             0.2,
             "#de77ae"
            ],
            [
             0.3,
             "#f1b6da"
            ],
            [
             0.4,
             "#fde0ef"
            ],
            [
             0.5,
             "#f7f7f7"
            ],
            [
             0.6,
             "#e6f5d0"
            ],
            [
             0.7,
             "#b8e186"
            ],
            [
             0.8,
             "#7fbc41"
            ],
            [
             0.9,
             "#4d9221"
            ],
            [
             1,
             "#276419"
            ]
           ],
           "sequential": [
            [
             0,
             "#0d0887"
            ],
            [
             0.1111111111111111,
             "#46039f"
            ],
            [
             0.2222222222222222,
             "#7201a8"
            ],
            [
             0.3333333333333333,
             "#9c179e"
            ],
            [
             0.4444444444444444,
             "#bd3786"
            ],
            [
             0.5555555555555556,
             "#d8576b"
            ],
            [
             0.6666666666666666,
             "#ed7953"
            ],
            [
             0.7777777777777778,
             "#fb9f3a"
            ],
            [
             0.8888888888888888,
             "#fdca26"
            ],
            [
             1,
             "#f0f921"
            ]
           ],
           "sequentialminus": [
            [
             0,
             "#0d0887"
            ],
            [
             0.1111111111111111,
             "#46039f"
            ],
            [
             0.2222222222222222,
             "#7201a8"
            ],
            [
             0.3333333333333333,
             "#9c179e"
            ],
            [
             0.4444444444444444,
             "#bd3786"
            ],
            [
             0.5555555555555556,
             "#d8576b"
            ],
            [
             0.6666666666666666,
             "#ed7953"
            ],
            [
             0.7777777777777778,
             "#fb9f3a"
            ],
            [
             0.8888888888888888,
             "#fdca26"
            ],
            [
             1,
             "#f0f921"
            ]
           ]
          },
          "colorway": [
           "#636efa",
           "#EF553B",
           "#00cc96",
           "#ab63fa",
           "#FFA15A",
           "#19d3f3",
           "#FF6692",
           "#B6E880",
           "#FF97FF",
           "#FECB52"
          ],
          "font": {
           "color": "#2a3f5f"
          },
          "geo": {
           "bgcolor": "white",
           "lakecolor": "white",
           "landcolor": "#E5ECF6",
           "showlakes": true,
           "showland": true,
           "subunitcolor": "white"
          },
          "hoverlabel": {
           "align": "left"
          },
          "hovermode": "closest",
          "mapbox": {
           "style": "light"
          },
          "paper_bgcolor": "white",
          "plot_bgcolor": "#E5ECF6",
          "polar": {
           "angularaxis": {
            "gridcolor": "white",
            "linecolor": "white",
            "ticks": ""
           },
           "bgcolor": "#E5ECF6",
           "radialaxis": {
            "gridcolor": "white",
            "linecolor": "white",
            "ticks": ""
           }
          },
          "scene": {
           "xaxis": {
            "backgroundcolor": "#E5ECF6",
            "gridcolor": "white",
            "gridwidth": 2,
            "linecolor": "white",
            "showbackground": true,
            "ticks": "",
            "zerolinecolor": "white"
           },
           "yaxis": {
            "backgroundcolor": "#E5ECF6",
            "gridcolor": "white",
            "gridwidth": 2,
            "linecolor": "white",
            "showbackground": true,
            "ticks": "",
            "zerolinecolor": "white"
           },
           "zaxis": {
            "backgroundcolor": "#E5ECF6",
            "gridcolor": "white",
            "gridwidth": 2,
            "linecolor": "white",
            "showbackground": true,
            "ticks": "",
            "zerolinecolor": "white"
           }
          },
          "shapedefaults": {
           "line": {
            "color": "#2a3f5f"
           }
          },
          "ternary": {
           "aaxis": {
            "gridcolor": "white",
            "linecolor": "white",
            "ticks": ""
           },
           "baxis": {
            "gridcolor": "white",
            "linecolor": "white",
            "ticks": ""
           },
           "bgcolor": "#E5ECF6",
           "caxis": {
            "gridcolor": "white",
            "linecolor": "white",
            "ticks": ""
           }
          },
          "title": {
           "x": 0.05
          },
          "xaxis": {
           "automargin": true,
           "gridcolor": "white",
           "linecolor": "white",
           "ticks": "",
           "title": {
            "standoff": 15
           },
           "zerolinecolor": "white",
           "zerolinewidth": 2
          },
          "yaxis": {
           "automargin": true,
           "gridcolor": "white",
           "linecolor": "white",
           "ticks": "",
           "title": {
            "standoff": 15
           },
           "zerolinecolor": "white",
           "zerolinewidth": 2
          }
         }
        },
        "xaxis": {
         "autorange": true,
         "range": [
          -17.962747660749834,
          16.23008793464555
         ],
         "type": "linear"
        },
        "yaxis": {
         "autorange": true,
         "range": [
          -927877.7222222221,
          17630056.722222224
         ],
         "type": "linear"
        }
       }
      },
      "image/png": "[encoded data removed]",
      "text/html": [
       "<div>                            <div id=\"35e0c18d-9f08-4b6e-84f6-401136ed7d5f\" class=\"plotly-graph-div\" style=\"height:525px; width:100%;\"></div>            <script type=\"text/javascript\">                require([\"plotly\"], function(Plotly) {                    window.PLOTLYENV=window.PLOTLYENV || {};                                    if (document.getElementById(\"35e0c18d-9f08-4b6e-84f6-401136ed7d5f\")) {                    Plotly.newPlot(                        \"35e0c18d-9f08-4b6e-84f6-401136ed7d5f\",                        [{\"name\":\"Histogram\",\"width\":[1.2822313348273262,1.282231334827328,1.2822313348273262,1.282231334827328,1.2822313348273262,1.2822313348273262,1.282231334827328,1.2822313348273262,1.2822313348273262,1.282231334827328,1.2822313348273262,1.2822313348273262,1.2822313348273262,1.2822313348273298,1.2822313348273262,1.2822313348273262,1.2822313348273262,1.2822313348273262,1.2822313348273298,1.2822313348273262,1.2822313348273262,1.2822313348273262,1.2822313348273262,1.2822313348273262,1.2822313348273262],\"x\":[-16.253105880980065,-14.970874546152736,-13.68864321132541,-12.406411876498083,-11.124180541670755,-9.841949206843429,-8.559717872016101,-7.277486537188775,-5.995255202361449,-4.713023867534122,-3.4307925327067945,-2.1485611978794683,-0.8663298630521421,0.4159014717751859,1.6981328066025139,2.98036414142984,4.262595476257166,5.5448268110844925,6.8270581459118205,8.109289480739148,9.391520815566475,10.6737521503938,11.955983485221127,13.238214820048453,14.52044615487578],\"y\":[19,653,3895,7138,12524,15469,30016,40546,57933,107155,258467,832340,6438146,16702160,1470709,271029,103494,51483,29109,16128,5234,3997,333,23,102],\"type\":\"bar\"},{\"mode\":\"text\",\"text\":[\"19\"],\"x\":[-16.253105880980065],\"y\":[19],\"type\":\"scatter\"},{\"mode\":\"text\",\"text\":[\"653\"],\"x\":[-14.970874546152736],\"y\":[653],\"type\":\"scatter\"},{\"mode\":\"text\",\"text\":[\"3895\"],\"x\":[-13.68864321132541],\"y\":[3895],\"type\":\"scatter\"},{\"mode\":\"text\",\"text\":[\"7138\"],\"x\":[-12.406411876498083],\"y\":[7138],\"type\":\"scatter\"},{\"mode\":\"text\",\"text\":[\"12524\"],\"x\":[-11.124180541670755],\"y\":[12524],\"type\":\"scatter\"},{\"mode\":\"text\",\"text\":[\"15469\"],\"x\":[-9.841949206843429],\"y\":[15469],\"type\":\"scatter\"},{\"mode\":\"text\",\"text\":[\"30016\"],\"x\":[-8.559717872016101],\"y\":[30016],\"type\":\"scatter\"},{\"mode\":\"text\",\"text\":[\"40546\"],\"x\":[-7.277486537188775],\"y\":[40546],\"type\":\"scatter\"},{\"mode\":\"text\",\"text\":[\"57933\"],\"x\":[-5.995255202361449],\"y\":[57933],\"type\":\"scatter\"},{\"mode\":\"text\",\"text\":[\"107155\"],\"x\":[-4.713023867534122],\"y\":[107155],\"type\":\"scatter\"},{\"mode\":\"text\",\"text\":[\"258467\"],\"x\":[-3.4307925327067945],\"y\":[258467],\"type\":\"scatter\"},{\"mode\":\"text\",\"text\":[\"832340\"],\"x\":[-2.1485611978794683],\"y\":[832340],\"type\":\"scatter\"},{\"mode\":\"text\",\"text\":[\"6438146\"],\"x\":[-0.8663298630521421],\"y\":[6438146],\"type\":\"scatter\"},{\"mode\":\"text\",\"text\":[\"16702160\"],\"x\":[0.4159014717751859],\"y\":[16702160],\"type\":\"scatter\"},{\"mode\":\"text\",\"text\":[\"1470709\"],\"x\":[1.6981328066025139],\"y\":[1470709],\"type\":\"scatter\"},{\"mode\":\"text\",\"text\":[\"271029\"],\"x\":[2.98036414142984],\"y\":[271029],\"type\":\"scatter\"},{\"mode\":\"text\",\"text\":[\"103494\"],\"x\":[4.262595476257166],\"y\":[103494],\"type\":\"scatter\"},{\"mode\":\"text\",\"text\":[\"51483\"],\"x\":[5.5448268110844925],\"y\":[51483],\"type\":\"scatter\"},{\"mode\":\"text\",\"text\":[\"29109\"],\"x\":[6.8270581459118205],\"y\":[29109],\"type\":\"scatter\"},{\"mode\":\"text\",\"text\":[\"16128\"],\"x\":[8.109289480739148],\"y\":[16128],\"type\":\"scatter\"},{\"mode\":\"text\",\"text\":[\"5234\"],\"x\":[9.391520815566475],\"y\":[5234],\"type\":\"scatter\"},{\"mode\":\"text\",\"text\":[\"3997\"],\"x\":[10.6737521503938],\"y\":[3997],\"type\":\"scatter\"},{\"mode\":\"text\",\"text\":[\"333\"],\"x\":[11.955983485221127],\"y\":[333],\"type\":\"scatter\"},{\"mode\":\"text\",\"text\":[\"23\"],\"x\":[13.238214820048453],\"y\":[23],\"type\":\"scatter\"},{\"mode\":\"text\",\"text\":[\"102\"],\"x\":[14.52044615487578],\"y\":[102],\"type\":\"scatter\"}],                        {\"template\":{\"data\":{\"histogram2dcontour\":[{\"type\":\"histogram2dcontour\",\"colorbar\":{\"outlinewidth\":0,\"ticks\":\"\"},\"colorscale\":[[0.0,\"#0d0887\"],[0.1111111111111111,\"#46039f\"],[0.2222222222222222,\"#7201a8\"],[0.3333333333333333,\"#9c179e\"],[0.4444444444444444,\"#bd3786\"],[0.5555555555555556,\"#d8576b\"],[0.6666666666666666,\"#ed7953\"],[0.7777777777777778,\"#fb9f3a\"],[0.8888888888888888,\"#fdca26\"],[1.0,\"#f0f921\"]]}],\"choropleth\":[{\"type\":\"choropleth\",\"colorbar\":{\"outlinewidth\":0,\"ticks\":\"\"}}],\"histogram2d\":[{\"type\":\"histogram2d\",\"colorbar\":{\"outlinewidth\":0,\"ticks\":\"\"},\"colorscale\":[[0.0,\"#0d0887\"],[0.1111111111111111,\"#46039f\"],[0.2222222222222222,\"#7201a8\"],[0.3333333333333333,\"#9c179e\"],[0.4444444444444444,\"#bd3786\"],[0.5555555555555556,\"#d8576b\"],[0.6666666666666666,\"#ed7953\"],[0.7777777777777778,\"#fb9f3a\"],[0.8888888888888888,\"#fdca26\"],[1.0,\"#f0f921\"]]}],\"heatmap\":[{\"type\":\"heatmap\",\"colorbar\":{\"outlinewidth\":0,\"ticks\":\"\"},\"colorscale\":[[0.0,\"#0d0887\"],[0.1111111111111111,\"#46039f\"],[0.2222222222222222,\"#7201a8\"],[0.3333333333333333,\"#9c179e\"],[0.4444444444444444,\"#bd3786\"],[0.5555555555555556,\"#d8576b\"],[0.6666666666666666,\"#ed7953\"],[0.7777777777777778,\"#fb9f3a\"],[0.8888888888888888,\"#fdca26\"],[1.0,\"#f0f921\"]]}],\"heatmapgl\":[{\"type\":\"heatmapgl\",\"colorbar\":{\"outlinewidth\":0,\"ticks\":\"\"},\"colorscale\":[[0.0,\"#0d0887\"],[0.1111111111111111,\"#46039f\"],[0.2222222222222222,\"#7201a8\"],[0.3333333333333333,\"#9c179e\"],[0.4444444444444444,\"#bd3786\"],[0.5555555555555556,\"#d8576b\"],[0.6666666666666666,\"#ed7953\"],[0.7777777777777778,\"#fb9f3a\"],[0.8888888888888888,\"#fdca26\"],[1.0,\"#f0f921\"]]}],\"contourcarpet\":[{\"type\":\"contourcarpet\",\"colorbar\":{\"outlinewidth\":0,\"ticks\":\"\"}}],\"contour\":[{\"type\":\"contour\",\"colorbar\":{\"outlinewidth\":0,\"ticks\":\"\"},\"colorscale\":[[0.0,\"#0d0887\"],[0.1111111111111111,\"#46039f\"],[0.2222222222222222,\"#7201a8\"],[0.3333333333333333,\"#9c179e\"],[0.4444444444444444,\"#bd3786\"],[0.5555555555555556,\"#d8576b\"],[0.6666666666666666,\"#ed7953\"],[0.7777777777777778,\"#fb9f3a\"],[0.8888888888888888,\"#fdca26\"],[1.0,\"#f0f921\"]]}],\"surface\":[{\"type\":\"surface\",\"colorbar\":{\"outlinewidth\":0,\"ticks\":\"\"},\"colorscale\":[[0.0,\"#0d0887\"],[0.1111111111111111,\"#46039f\"],[0.2222222222222222,\"#7201a8\"],[0.3333333333333333,\"#9c179e\"],[0.4444444444444444,\"#bd3786\"],[0.5555555555555556,\"#d8576b\"],[0.6666666666666666,\"#ed7953\"],[0.7777777777777778,\"#fb9f3a\"],[0.8888888888888888,\"#fdca26\"],[1.0,\"#f0f921\"]]}],\"mesh3d\":[{\"type\":\"mesh3d\",\"colorbar\":{\"outlinewidth\":0,\"ticks\":\"\"}}],\"scatter\":[{\"fillpattern\":{\"fillmode\":\"overlay\",\"size\":10,\"solidity\":0.2},\"type\":\"scatter\"}],\"parcoords\":[{\"type\":\"parcoords\",\"line\":{\"colorbar\":{\"outlinewidth\":0,\"ticks\":\"\"}}}],\"scatterpolargl\":[{\"type\":\"scatterpolargl\",\"marker\":{\"colorbar\":{\"outlinewidth\":0,\"ticks\":\"\"}}}],\"bar\":[{\"error_x\":{\"color\":\"#2a3f5f\"},\"error_y\":{\"color\":\"#2a3f5f\"},\"marker\":{\"line\":{\"color\":\"#E5ECF6\",\"width\":0.5},\"pattern\":{\"fillmode\":\"overlay\",\"size\":10,\"solidity\":0.2}},\"type\":\"bar\"}],\"scattergeo\":[{\"type\":\"scattergeo\",\"marker\":{\"colorbar\":{\"outlinewidth\":0,\"ticks\":\"\"}}}],\"scatterpolar\":[{\"type\":\"scatterpolar\",\"marker\":{\"colorbar\":{\"outlinewidth\":0,\"ticks\":\"\"}}}],\"histogram\":[{\"marker\":{\"pattern\":{\"fillmode\":\"overlay\",\"size\":10,\"solidity\":0.2}},\"type\":\"histogram\"}],\"scattergl\":[{\"type\":\"scattergl\",\"marker\":{\"colorbar\":{\"outlinewidth\":0,\"ticks\":\"\"}}}],\"scatter3d\":[{\"type\":\"scatter3d\",\"line\":{\"colorbar\":{\"outlinewidth\":0,\"ticks\":\"\"}},\"marker\":{\"colorbar\":{\"outlinewidth\":0,\"ticks\":\"\"}}}],\"scattermapbox\":[{\"type\":\"scattermapbox\",\"marker\":{\"colorbar\":{\"outlinewidth\":0,\"ticks\":\"\"}}}],\"scatterternary\":[{\"type\":\"scatterternary\",\"marker\":{\"colorbar\":{\"outlinewidth\":0,\"ticks\":\"\"}}}],\"scattercarpet\":[{\"type\":\"scattercarpet\",\"marker\":{\"colorbar\":{\"outlinewidth\":0,\"ticks\":\"\"}}}],\"carpet\":[{\"aaxis\":{\"endlinecolor\":\"#2a3f5f\",\"gridcolor\":\"white\",\"linecolor\":\"white\",\"minorgridcolor\":\"white\",\"startlinecolor\":\"#2a3f5f\"},\"baxis\":{\"endlinecolor\":\"#2a3f5f\",\"gridcolor\":\"white\",\"linecolor\":\"white\",\"minorgridcolor\":\"white\",\"startlinecolor\":\"#2a3f5f\"},\"type\":\"carpet\"}],\"table\":[{\"cells\":{\"fill\":{\"color\":\"#EBF0F8\"},\"line\":{\"color\":\"white\"}},\"header\":{\"fill\":{\"color\":\"#C8D4E3\"},\"line\":{\"color\":\"white\"}},\"type\":\"table\"}],\"barpolar\":[{\"marker\":{\"line\":{\"color\":\"#E5ECF6\",\"width\":0.5},\"pattern\":{\"fillmode\":\"overlay\",\"size\":10,\"solidity\":0.2}},\"type\":\"barpolar\"}],\"pie\":[{\"automargin\":true,\"type\":\"pie\"}]},\"layout\":{\"autotypenumbers\":\"strict\",\"colorway\":[\"#636efa\",\"#EF553B\",\"#00cc96\",\"#ab63fa\",\"#FFA15A\",\"#19d3f3\",\"#FF6692\",\"#B6E880\",\"#FF97FF\",\"#FECB52\"],\"font\":{\"color\":\"#2a3f5f\"},\"hovermode\":\"closest\",\"hoverlabel\":{\"align\":\"left\"},\"paper_bgcolor\":\"white\",\"plot_bgcolor\":\"#E5ECF6\",\"polar\":{\"bgcolor\":\"#E5ECF6\",\"angularaxis\":{\"gridcolor\":\"white\",\"linecolor\":\"white\",\"ticks\":\"\"},\"radialaxis\":{\"gridcolor\":\"white\",\"linecolor\":\"white\",\"ticks\":\"\"}},\"ternary\":{\"bgcolor\":\"#E5ECF6\",\"aaxis\":{\"gridcolor\":\"white\",\"linecolor\":\"white\",\"ticks\":\"\"},\"baxis\":{\"gridcolor\":\"white\",\"linecolor\":\"white\",\"ticks\":\"\"},\"caxis\":{\"gridcolor\":\"white\",\"linecolor\":\"white\",\"ticks\":\"\"}},\"coloraxis\":{\"colorbar\":{\"outlinewidth\":0,\"ticks\":\"\"}},\"colorscale\":{\"sequential\":[[0.0,\"#0d0887\"],[0.1111111111111111,\"#46039f\"],[0.2222222222222222,\"#7201a8\"],[0.3333333333333333,\"#9c179e\"],[0.4444444444444444,\"#bd3786\"],[0.5555555555555556,\"#d8576b\"],[0.6666666666666666,\"#ed7953\"],[0.7777777777777778,\"#fb9f3a\"],[0.8888888888888888,\"#fdca26\"],[1.0,\"#f0f921\"]],\"sequentialminus\":[[0.0,\"#0d0887\"],[0.1111111111111111,\"#46039f\"],[0.2222222222222222,\"#7201a8\"],[0.3333333333333333,\"#9c179e\"],[0.4444444444444444,\"#bd3786\"],[0.5555555555555556,\"#d8576b\"],[0.6666666666666666,\"#ed7953\"],[0.7777777777777778,\"#fb9f3a\"],[0.8888888888888888,\"#fdca26\"],[1.0,\"#f0f921\"]],\"diverging\":[[0,\"#8e0152\"],[0.1,\"#c51b7d\"],[0.2,\"#de77ae\"],[0.3,\"#f1b6da\"],[0.4,\"#fde0ef\"],[0.5,\"#f7f7f7\"],[0.6,\"#e6f5d0\"],[0.7,\"#b8e186\"],[0.8,\"#7fbc41\"],[0.9,\"#4d9221\"],[1,\"#276419\"]]},\"xaxis\":{\"gridcolor\":\"white\",\"linecolor\":\"white\",\"ticks\":\"\",\"title\":{\"standoff\":15},\"zerolinecolor\":\"white\",\"automargin\":true,\"zerolinewidth\":2},\"yaxis\":{\"gridcolor\":\"white\",\"linecolor\":\"white\",\"ticks\":\"\",\"title\":{\"standoff\":15},\"zerolinecolor\":\"white\",\"automargin\":true,\"zerolinewidth\":2},\"scene\":{\"xaxis\":{\"backgroundcolor\":\"#E5ECF6\",\"gridcolor\":\"white\",\"linecolor\":\"white\",\"showbackground\":true,\"ticks\":\"\",\"zerolinecolor\":\"white\",\"gridwidth\":2},\"yaxis\":{\"backgroundcolor\":\"#E5ECF6\",\"gridcolor\":\"white\",\"linecolor\":\"white\",\"showbackground\":true,\"ticks\":\"\",\"zerolinecolor\":\"white\",\"gridwidth\":2},\"zaxis\":{\"backgroundcolor\":\"#E5ECF6\",\"gridcolor\":\"white\",\"linecolor\":\"white\",\"showbackground\":true,\"ticks\":\"\",\"zerolinecolor\":\"white\",\"gridwidth\":2}},\"shapedefaults\":{\"line\":{\"color\":\"#2a3f5f\"}},\"annotationdefaults\":{\"arrowcolor\":\"#2a3f5f\",\"arrowhead\":0,\"arrowwidth\":1},\"geo\":{\"bgcolor\":\"white\",\"landcolor\":\"#E5ECF6\",\"subunitcolor\":\"white\",\"showland\":true,\"showlakes\":true,\"lakecolor\":\"white\"},\"title\":{\"x\":0.05},\"mapbox\":{\"style\":\"light\"}}}},                        {\"responsive\": true}                    ).then(function(){\n",
       "                            \n",
       "var gd = document.getElementById('35e0c18d-9f08-4b6e-84f6-401136ed7d5f');\n",
       "var x = new MutationObserver(function (mutations, observer) {{\n",
       "        var display = window.getComputedStyle(gd).display;\n",
       "        if (!display || display === 'none') {{\n",
       "            console.log([gd, 'removed!']);\n",
       "            Plotly.purge(gd);\n",
       "            observer.disconnect();\n",
       "        }}\n",
       "}});\n",
       "\n",
       "// Listen for the removal of the full notebook cells\n",
       "var notebookContainer = gd.closest('#notebook-container');\n",
       "if (notebookContainer) {{\n",
       "    x.observe(notebookContainer, {childList: true});\n",
       "}}\n",
       "\n",
       "// Listen for the clearing of the current output cell\n",
       "var outputEl = gd.closest('.output');\n",
       "if (outputEl) {{\n",
       "    x.observe(outputEl, {childList: true});\n",
       "}}\n",
       "\n",
       "                        })                };                });            </script>        </div>"
      ]
     },
     "metadata": {},
     "output_type": "display_data"
    }
   ],
   "source": [
    "bin_midpoints = bins[:-1] + np.diff(bins)/2\n",
    "\n",
    "fig = go.Figure()\n",
    "\n",
    "fig.add_trace(go.Bar(\n",
    "    x=bin_midpoints,\n",
    "    y=counts,\n",
    "    width=np.diff(bins), # makes bars have correct widths\n",
    "    name='Histogram'\n",
    "))\n",
    "# add text labels for counts\n",
    "for i in range(len(counts)):\n",
    "    fig.add_trace(go.Scatter(\n",
    "        x=[bin_midpoints[i]],\n",
    "        y=[counts[i]],\n",
    "        text=[str(counts[i])],\n",
    "        mode='text',\n",
    "    ))\n",
    "\n",
    "fig.show()"
   ]
  },
  {
   "cell_type": "code",
   "execution_count": 165,
   "id": "84f0d768-0f1c-4849-b351-7c833586c8d6",
   "metadata": {},
   "outputs": [],
   "source": [
    "df_interest = df[(df['LogOddRatio']> bins[-2])|(df['LogOddRatio']<  bins[1])]\n",
    "df_interest.to_csv(base_dir+\"/candidates.tsv\", sep= \"\\t\", index=False)"
   ]
  },
  {
   "cell_type": "code",
   "execution_count": 166,
   "id": "04057128-4ea0-4ec6-a6ad-c4ec91076780",
   "metadata": {},
   "outputs": [
    {
     "data": {
      "text/html": [
       "<div>\n",
       "<style scoped>\n",
       "    .dataframe tbody tr th:only-of-type {\n",
       "        vertical-align: middle;\n",
       "    }\n",
       "\n",
       "    .dataframe tbody tr th {\n",
       "        vertical-align: top;\n",
       "    }\n",
       "\n",
       "    .dataframe thead th {\n",
       "        text-align: right;\n",
       "    }\n",
       "</style>\n",
       "<table border=\"1\" class=\"dataframe\">\n",
       "  <thead>\n",
       "    <tr style=\"text-align: right;\">\n",
       "      <th></th>\n",
       "      <th>chr</th>\n",
       "      <th>strand</th>\n",
       "      <th>Donor_coordinates</th>\n",
       "      <th>Ensemble_Transcript_ID</th>\n",
       "      <th>Transcript_coordinates</th>\n",
       "      <th>dbsnp_id</th>\n",
       "      <th>varinat_start</th>\n",
       "      <th>variant_end</th>\n",
       "      <th>ref_neucleotide</th>\n",
       "      <th>alternative_neucleotide</th>\n",
       "      <th>reference_seq</th>\n",
       "      <th>alt_seq</th>\n",
       "      <th>Ref_probab</th>\n",
       "      <th>Alt_probab</th>\n",
       "      <th>ScoreChange</th>\n",
       "      <th>LogOddRatio</th>\n",
       "    </tr>\n",
       "  </thead>\n",
       "  <tbody>\n",
       "    <tr>\n",
       "      <th>112199</th>\n",
       "      <td>chr5</td>\n",
       "      <td>+</td>\n",
       "      <td>168488698-168488777</td>\n",
       "      <td>ENST00000231572</td>\n",
       "      <td>168486471-168519301</td>\n",
       "      <td>rs1293579361</td>\n",
       "      <td>168488736</td>\n",
       "      <td>168488736</td>\n",
       "      <td>.</td>\n",
       "      <td>AGTCTTCAGGCAGAAAGGAACAAACCAACTAAAAATAT</td>\n",
       "      <td>ATTTAAAATTAAAGTATCGACTGAATATTCTTCGAAAGGTGAGTAC...</td>\n",
       "      <td>ATTTAAAATTAAAGTATCGACTGAATATTCTTCGAAAGAGTCTTCA...</td>\n",
       "      <td>0.994560</td>\n",
       "      <td>0.004963</td>\n",
       "      <td>-0.984213</td>\n",
       "      <td>15.161562</td>\n",
       "    </tr>\n",
       "    <tr>\n",
       "      <th>112201</th>\n",
       "      <td>chr5</td>\n",
       "      <td>+</td>\n",
       "      <td>168488698-168488777</td>\n",
       "      <td>ENST00000231572</td>\n",
       "      <td>168486471-168519301</td>\n",
       "      <td>rs887298502</td>\n",
       "      <td>168488736</td>\n",
       "      <td>168488737</td>\n",
       "      <td>G</td>\n",
       "      <td>C</td>\n",
       "      <td>ATTTAAAATTAAAGTATCGACTGAATATTCTTCGAAAGGTGAGTAC...</td>\n",
       "      <td>ATTTAAAATTAAAGTATCGACTGAATATTCTTCGAAAGCTGAGTAC...</td>\n",
       "      <td>0.994560</td>\n",
       "      <td>0.010470</td>\n",
       "      <td>-0.978736</td>\n",
       "      <td>14.076623</td>\n",
       "    </tr>\n",
       "    <tr>\n",
       "      <th>112236</th>\n",
       "      <td>chr5</td>\n",
       "      <td>+</td>\n",
       "      <td>168488698-168488777</td>\n",
       "      <td>ENST00000521329</td>\n",
       "      <td>168486470-168493958</td>\n",
       "      <td>rs1293579361</td>\n",
       "      <td>168488736</td>\n",
       "      <td>168488736</td>\n",
       "      <td>.</td>\n",
       "      <td>AGTCTTCAGGCAGAAAGGAACAAACCAACTAAAAATAT</td>\n",
       "      <td>ATTTAAAATTAAAGTATCGACTGAATATTCTTCGAAAGGTGAGTAC...</td>\n",
       "      <td>ATTTAAAATTAAAGTATCGACTGAATATTCTTCGAAAGAGTCTTCA...</td>\n",
       "      <td>0.994560</td>\n",
       "      <td>0.004963</td>\n",
       "      <td>-0.984213</td>\n",
       "      <td>15.161562</td>\n",
       "    </tr>\n",
       "    <tr>\n",
       "      <th>112238</th>\n",
       "      <td>chr5</td>\n",
       "      <td>+</td>\n",
       "      <td>168488698-168488777</td>\n",
       "      <td>ENST00000521329</td>\n",
       "      <td>168486470-168493958</td>\n",
       "      <td>rs887298502</td>\n",
       "      <td>168488736</td>\n",
       "      <td>168488737</td>\n",
       "      <td>G</td>\n",
       "      <td>C</td>\n",
       "      <td>ATTTAAAATTAAAGTATCGACTGAATATTCTTCGAAAGGTGAGTAC...</td>\n",
       "      <td>ATTTAAAATTAAAGTATCGACTGAATATTCTTCGAAAGCTGAGTAC...</td>\n",
       "      <td>0.994560</td>\n",
       "      <td>0.010470</td>\n",
       "      <td>-0.978736</td>\n",
       "      <td>14.076623</td>\n",
       "    </tr>\n",
       "    <tr>\n",
       "      <th>112273</th>\n",
       "      <td>chr5</td>\n",
       "      <td>+</td>\n",
       "      <td>168488698-168488777</td>\n",
       "      <td>ENST00000522834</td>\n",
       "      <td>168486482-168495333</td>\n",
       "      <td>rs1293579361</td>\n",
       "      <td>168488736</td>\n",
       "      <td>168488736</td>\n",
       "      <td>.</td>\n",
       "      <td>AGTCTTCAGGCAGAAAGGAACAAACCAACTAAAAATAT</td>\n",
       "      <td>ATTTAAAATTAAAGTATCGACTGAATATTCTTCGAAAGGTGAGTAC...</td>\n",
       "      <td>ATTTAAAATTAAAGTATCGACTGAATATTCTTCGAAAGAGTCTTCA...</td>\n",
       "      <td>0.994560</td>\n",
       "      <td>0.004963</td>\n",
       "      <td>-0.984213</td>\n",
       "      <td>15.161562</td>\n",
       "    </tr>\n",
       "    <tr>\n",
       "      <th>...</th>\n",
       "      <td>...</td>\n",
       "      <td>...</td>\n",
       "      <td>...</td>\n",
       "      <td>...</td>\n",
       "      <td>...</td>\n",
       "      <td>...</td>\n",
       "      <td>...</td>\n",
       "      <td>...</td>\n",
       "      <td>...</td>\n",
       "      <td>...</td>\n",
       "      <td>...</td>\n",
       "      <td>...</td>\n",
       "      <td>...</td>\n",
       "      <td>...</td>\n",
       "      <td>...</td>\n",
       "      <td>...</td>\n",
       "    </tr>\n",
       "    <tr>\n",
       "      <th>14847142</th>\n",
       "      <td>chr5</td>\n",
       "      <td>+</td>\n",
       "      <td>73579112-73579191</td>\n",
       "      <td>ENST00000508491</td>\n",
       "      <td>73565773-73580199</td>\n",
       "      <td>rs779631776</td>\n",
       "      <td>73579126</td>\n",
       "      <td>73579126</td>\n",
       "      <td>.</td>\n",
       "      <td>CA</td>\n",
       "      <td>GAGAAGGAAATCAGTCATGTTCTTAATTTTTTGATAAGGTATGTTT...</td>\n",
       "      <td>GAGAAGGAAATCAGCATCATGTTCTTAATTTTTTGATAAGGTATGT...</td>\n",
       "      <td>0.004930</td>\n",
       "      <td>0.998346</td>\n",
       "      <td>0.991772</td>\n",
       "      <td>-16.894222</td>\n",
       "    </tr>\n",
       "    <tr>\n",
       "      <th>14847174</th>\n",
       "      <td>chr5</td>\n",
       "      <td>+</td>\n",
       "      <td>73579112-73579191</td>\n",
       "      <td>ENST00000296792</td>\n",
       "      <td>73565743-73583380</td>\n",
       "      <td>rs779631776</td>\n",
       "      <td>73579126</td>\n",
       "      <td>73579126</td>\n",
       "      <td>.</td>\n",
       "      <td>CA</td>\n",
       "      <td>GAGAAGGAAATCAGTCATGTTCTTAATTTTTTGATAAGGTATGTTT...</td>\n",
       "      <td>GAGAAGGAAATCAGCATCATGTTCTTAATTTTTTGATAAGGTATGT...</td>\n",
       "      <td>0.004930</td>\n",
       "      <td>0.998346</td>\n",
       "      <td>0.991772</td>\n",
       "      <td>-16.894222</td>\n",
       "    </tr>\n",
       "    <tr>\n",
       "      <th>14847206</th>\n",
       "      <td>chr5</td>\n",
       "      <td>+</td>\n",
       "      <td>73579112-73579191</td>\n",
       "      <td>ENST00000543251</td>\n",
       "      <td>73565741-73583377</td>\n",
       "      <td>rs779631776</td>\n",
       "      <td>73579126</td>\n",
       "      <td>73579126</td>\n",
       "      <td>.</td>\n",
       "      <td>CA</td>\n",
       "      <td>GAGAAGGAAATCAGTCATGTTCTTAATTTTTTGATAAGGTATGTTT...</td>\n",
       "      <td>GAGAAGGAAATCAGCATCATGTTCTTAATTTTTTGATAAGGTATGT...</td>\n",
       "      <td>0.004930</td>\n",
       "      <td>0.998346</td>\n",
       "      <td>0.991772</td>\n",
       "      <td>-16.894222</td>\n",
       "    </tr>\n",
       "    <tr>\n",
       "      <th>17432692</th>\n",
       "      <td>chr5</td>\n",
       "      <td>-</td>\n",
       "      <td>122638849-122638928</td>\n",
       "      <td>ENST00000511194</td>\n",
       "      <td>122628952-122730559</td>\n",
       "      <td>rs1382354889</td>\n",
       "      <td>122638861</td>\n",
       "      <td>122638866</td>\n",
       "      <td>AGAAG</td>\n",
       "      <td>AG</td>\n",
       "      <td>CATACATAATGGAGAAGGAGGTAAATAAGAATTAAATACCTGAAGT...</td>\n",
       "      <td>CATACATAATGGAGGAGGTAAATAAGAATTAAATACCTGAAGTCTC...</td>\n",
       "      <td>0.966532</td>\n",
       "      <td>0.001753</td>\n",
       "      <td>-0.932491</td>\n",
       "      <td>14.005663</td>\n",
       "    </tr>\n",
       "    <tr>\n",
       "      <th>17432737</th>\n",
       "      <td>chr5</td>\n",
       "      <td>-</td>\n",
       "      <td>122638849-122638928</td>\n",
       "      <td>ENST00000649085</td>\n",
       "      <td>122629184-122719515</td>\n",
       "      <td>rs1382354889</td>\n",
       "      <td>122638861</td>\n",
       "      <td>122638866</td>\n",
       "      <td>AGAAG</td>\n",
       "      <td>AG</td>\n",
       "      <td>CATACATAATGGAGAAGGAGGTAAATAAGAATTAAATACCTGAAGT...</td>\n",
       "      <td>CATACATAATGGAGGAGGTAAATAAGAATTAAATACCTGAAGTCTC...</td>\n",
       "      <td>0.966532</td>\n",
       "      <td>0.001753</td>\n",
       "      <td>-0.932491</td>\n",
       "      <td>14.005663</td>\n",
       "    </tr>\n",
       "  </tbody>\n",
       "</table>\n",
       "<p>121 rows × 16 columns</p>\n",
       "</div>"
      ],
      "text/plain": [
       "           chr strand    Donor_coordinates Ensemble_Transcript_ID  \\\n",
       "112199    chr5      +  168488698-168488777        ENST00000231572   \n",
       "112201    chr5      +  168488698-168488777        ENST00000231572   \n",
       "112236    chr5      +  168488698-168488777        ENST00000521329   \n",
       "112238    chr5      +  168488698-168488777        ENST00000521329   \n",
       "112273    chr5      +  168488698-168488777        ENST00000522834   \n",
       "...        ...    ...                  ...                    ...   \n",
       "14847142  chr5      +    73579112-73579191        ENST00000508491   \n",
       "14847174  chr5      +    73579112-73579191        ENST00000296792   \n",
       "14847206  chr5      +    73579112-73579191        ENST00000543251   \n",
       "17432692  chr5      -  122638849-122638928        ENST00000511194   \n",
       "17432737  chr5      -  122638849-122638928        ENST00000649085   \n",
       "\n",
       "         Transcript_coordinates      dbsnp_id  varinat_start  variant_end  \\\n",
       "112199      168486471-168519301  rs1293579361      168488736    168488736   \n",
       "112201      168486471-168519301   rs887298502      168488736    168488737   \n",
       "112236      168486470-168493958  rs1293579361      168488736    168488736   \n",
       "112238      168486470-168493958   rs887298502      168488736    168488737   \n",
       "112273      168486482-168495333  rs1293579361      168488736    168488736   \n",
       "...                         ...           ...            ...          ...   \n",
       "14847142      73565773-73580199   rs779631776       73579126     73579126   \n",
       "14847174      73565743-73583380   rs779631776       73579126     73579126   \n",
       "14847206      73565741-73583377   rs779631776       73579126     73579126   \n",
       "17432692    122628952-122730559  rs1382354889      122638861    122638866   \n",
       "17432737    122629184-122719515  rs1382354889      122638861    122638866   \n",
       "\n",
       "         ref_neucleotide                 alternative_neucleotide  \\\n",
       "112199                 .  AGTCTTCAGGCAGAAAGGAACAAACCAACTAAAAATAT   \n",
       "112201                 G                                       C   \n",
       "112236                 .  AGTCTTCAGGCAGAAAGGAACAAACCAACTAAAAATAT   \n",
       "112238                 G                                       C   \n",
       "112273                 .  AGTCTTCAGGCAGAAAGGAACAAACCAACTAAAAATAT   \n",
       "...                  ...                                     ...   \n",
       "14847142               .                                      CA   \n",
       "14847174               .                                      CA   \n",
       "14847206               .                                      CA   \n",
       "17432692           AGAAG                                      AG   \n",
       "17432737           AGAAG                                      AG   \n",
       "\n",
       "                                              reference_seq  \\\n",
       "112199    ATTTAAAATTAAAGTATCGACTGAATATTCTTCGAAAGGTGAGTAC...   \n",
       "112201    ATTTAAAATTAAAGTATCGACTGAATATTCTTCGAAAGGTGAGTAC...   \n",
       "112236    ATTTAAAATTAAAGTATCGACTGAATATTCTTCGAAAGGTGAGTAC...   \n",
       "112238    ATTTAAAATTAAAGTATCGACTGAATATTCTTCGAAAGGTGAGTAC...   \n",
       "112273    ATTTAAAATTAAAGTATCGACTGAATATTCTTCGAAAGGTGAGTAC...   \n",
       "...                                                     ...   \n",
       "14847142  GAGAAGGAAATCAGTCATGTTCTTAATTTTTTGATAAGGTATGTTT...   \n",
       "14847174  GAGAAGGAAATCAGTCATGTTCTTAATTTTTTGATAAGGTATGTTT...   \n",
       "14847206  GAGAAGGAAATCAGTCATGTTCTTAATTTTTTGATAAGGTATGTTT...   \n",
       "17432692  CATACATAATGGAGAAGGAGGTAAATAAGAATTAAATACCTGAAGT...   \n",
       "17432737  CATACATAATGGAGAAGGAGGTAAATAAGAATTAAATACCTGAAGT...   \n",
       "\n",
       "                                                    alt_seq  Ref_probab  \\\n",
       "112199    ATTTAAAATTAAAGTATCGACTGAATATTCTTCGAAAGAGTCTTCA...    0.994560   \n",
       "112201    ATTTAAAATTAAAGTATCGACTGAATATTCTTCGAAAGCTGAGTAC...    0.994560   \n",
       "112236    ATTTAAAATTAAAGTATCGACTGAATATTCTTCGAAAGAGTCTTCA...    0.994560   \n",
       "112238    ATTTAAAATTAAAGTATCGACTGAATATTCTTCGAAAGCTGAGTAC...    0.994560   \n",
       "112273    ATTTAAAATTAAAGTATCGACTGAATATTCTTCGAAAGAGTCTTCA...    0.994560   \n",
       "...                                                     ...         ...   \n",
       "14847142  GAGAAGGAAATCAGCATCATGTTCTTAATTTTTTGATAAGGTATGT...    0.004930   \n",
       "14847174  GAGAAGGAAATCAGCATCATGTTCTTAATTTTTTGATAAGGTATGT...    0.004930   \n",
       "14847206  GAGAAGGAAATCAGCATCATGTTCTTAATTTTTTGATAAGGTATGT...    0.004930   \n",
       "17432692  CATACATAATGGAGGAGGTAAATAAGAATTAAATACCTGAAGTCTC...    0.966532   \n",
       "17432737  CATACATAATGGAGGAGGTAAATAAGAATTAAATACCTGAAGTCTC...    0.966532   \n",
       "\n",
       "          Alt_probab  ScoreChange  LogOddRatio  \n",
       "112199      0.004963    -0.984213    15.161562  \n",
       "112201      0.010470    -0.978736    14.076623  \n",
       "112236      0.004963    -0.984213    15.161562  \n",
       "112238      0.010470    -0.978736    14.076623  \n",
       "112273      0.004963    -0.984213    15.161562  \n",
       "...              ...          ...          ...  \n",
       "14847142    0.998346     0.991772   -16.894222  \n",
       "14847174    0.998346     0.991772   -16.894222  \n",
       "14847206    0.998346     0.991772   -16.894222  \n",
       "17432692    0.001753    -0.932491    14.005663  \n",
       "17432737    0.001753    -0.932491    14.005663  \n",
       "\n",
       "[121 rows x 16 columns]"
      ]
     },
     "execution_count": 166,
     "metadata": {},
     "output_type": "execute_result"
    }
   ],
   "source": [
    "df_interest"
   ]
  },
  {
   "cell_type": "code",
   "execution_count": 167,
   "id": "dc4939bb-9abb-400a-8e4d-969cd25f1b09",
   "metadata": {},
   "outputs": [
    {
     "data": {
      "text/plain": [
       "array(['rs1293579361', 'rs887298502', 'rs779631776', 'rs1268383551',\n",
       "       'rs1382354889'], dtype=object)"
      ]
     },
     "execution_count": 167,
     "metadata": {},
     "output_type": "execute_result"
    }
   ],
   "source": [
    "df_interest['dbsnp_id'].unique()"
   ]
  },
  {
   "cell_type": "code",
   "execution_count": 168,
   "id": "caf100d5-1b3f-4070-86aa-d871db834870",
   "metadata": {},
   "outputs": [
    {
     "data": {
      "text/plain": [
       "array(['ATTTAAAATTAAAGTATCGACTGAATATTCTTCGAAAGGTGAGTACTTTGGGTTCCAGTTTTATTCTCCAGTTTGAATC',\n",
       "       'GAGAAGGAAATCAGTCATGTTCTTAATTTTTTGATAAGGTATGTTTTTTGTCTGTGAAACACTTACATTTTGCATCTGA',\n",
       "       'GGGACCTTGCCCTAAGAGTACATGTAACATAATGTAAGGTAAGTCCTTGTTGAATCCAGCAAAATGGTATTAACTACAT',\n",
       "       'CATACATAATGGAGAAGGAGGTAAATAAGAATTAAATACCTGAAGTCTCTTTTTTCTTCTGTCCTTGATTACACCACTA'],\n",
       "      dtype=object)"
      ]
     },
     "execution_count": 168,
     "metadata": {},
     "output_type": "execute_result"
    }
   ],
   "source": [
    "df_interest['reference_seq'].unique()"
   ]
  },
  {
   "cell_type": "code",
   "execution_count": 169,
   "id": "0e41685e-4af4-4f14-aeed-efcafdc1d0b7",
   "metadata": {},
   "outputs": [
    {
     "data": {
      "text/plain": [
       "dbsnp_id      ref_neucleotide  alternative_neucleotide                 reference_seq                                                                  \n",
       "rs1268383551  AACA             AACAACA                                 GGGACCTTGCCCTAAGAGTACATGTAACATAATGTAAGGTAAGTCCTTGTTGAATCCAGCAAAATGGTATTAACTACAT     3\n",
       "rs1293579361  .                AGTCTTCAGGCAGAAAGGAACAAACCAACTAAAAATAT  ATTTAAAATTAAAGTATCGACTGAATATTCTTCGAAAGGTGAGTACTTTGGGTTCCAGTTTTATTCTCCAGTTTGAATC    49\n",
       "rs1382354889  AGAAG            AG                                      CATACATAATGGAGAAGGAGGTAAATAAGAATTAAATACCTGAAGTCTCTTTTTTCTTCTGTCCTTGATTACACCACTA     4\n",
       "rs779631776   .                CA                                      GAGAAGGAAATCAGTCATGTTCTTAATTTTTTGATAAGGTATGTTTTTTGTCTGTGAAACACTTACATTTTGCATCTGA    16\n",
       "rs887298502   G                C                                       ATTTAAAATTAAAGTATCGACTGAATATTCTTCGAAAGGTGAGTACTTTGGGTTCCAGTTTTATTCTCCAGTTTGAATC    49\n",
       "dtype: int64"
      ]
     },
     "execution_count": 169,
     "metadata": {},
     "output_type": "execute_result"
    }
   ],
   "source": [
    "df_interest.groupby(['dbsnp_id', 'ref_neucleotide','alternative_neucleotide',  'reference_seq']).size()"
   ]
  },
  {
   "cell_type": "code",
   "execution_count": null,
   "id": "2c79d417-48ca-4e35-85a2-826b99911098",
   "metadata": {},
   "outputs": [],
   "source": []
  }
 ],
 "metadata": {
  "kernelspec": {
   "display_name": "Python 3 (ipykernel)",
   "language": "python",
   "name": "python3"
  },
  "language_info": {
   "codemirror_mode": {
    "name": "ipython",
    "version": 3
   },
   "file_extension": ".py",
   "mimetype": "text/x-python",
   "name": "python",
   "nbconvert_exporter": "python",
   "pygments_lexer": "ipython3",
   "version": "3.10.11"
  }
 },
 "nbformat": 4,
 "nbformat_minor": 5
}
