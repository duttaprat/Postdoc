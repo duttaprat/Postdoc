{
 "cells": [
  {
   "cell_type": "code",
   "execution_count": 7,
   "id": "63f40c7b-4e9b-4626-a876-38edcd6b2686",
   "metadata": {},
   "outputs": [],
   "source": [
    "import os, glob\n",
    "import numpy as np\n",
    "import pandas as pd\n",
    "import math\n",
    "import plotly.graph_objects as go\n",
    "from scipy.stats import norm\n",
    "import plotly.express as px\n",
    "import plotly.figure_factory as ff\n",
    "import seaborn as sns\n",
    "import matplotlib.pyplot as plt\n",
    "from scipy import stats\n",
    "from statsmodels.stats.weightstats import ztest\n",
    "from scipy.stats import norm"
   ]
  },
  {
   "cell_type": "code",
   "execution_count": 8,
   "id": "db1a15b6-3ae8-4725-9860-442dc53382b2",
   "metadata": {},
   "outputs": [],
   "source": [
    "chr_list = list(range(1, 23)) + ['X', 'Y']"
   ]
  },
  {
   "cell_type": "code",
   "execution_count": 3,
   "id": "52ab422b-6d9f-4615-9896-e2fc47196a07",
   "metadata": {},
   "outputs": [
    {
     "data": {
      "text/plain": [
       "[1,\n",
       " 2,\n",
       " 3,\n",
       " 4,\n",
       " 5,\n",
       " 6,\n",
       " 7,\n",
       " 8,\n",
       " 9,\n",
       " 10,\n",
       " 11,\n",
       " 12,\n",
       " 13,\n",
       " 14,\n",
       " 15,\n",
       " 16,\n",
       " 17,\n",
       " 18,\n",
       " 19,\n",
       " 20,\n",
       " 21,\n",
       " 22,\n",
       " 'X',\n",
       " 'Y']"
      ]
     },
     "execution_count": 3,
     "metadata": {},
     "output_type": "execute_result"
    }
   ],
   "source": [
    "chr_list"
   ]
  },
  {
   "cell_type": "code",
   "execution_count": 4,
   "id": "d0c512c7-f77d-4f25-9659-866eb47116c9",
   "metadata": {},
   "outputs": [],
   "source": [
    "def log_oods_ratio(p1,p2):\n",
    "    term1 = math.log2(p1/(1-p1))\n",
    "    term2 = math.log2(p2/(1-p2))\n",
    "    return (term1-term2)\n",
    "def calculate_diff_probab(p1,p2):\n",
    "    return((p2-p1)*max(p1,p2))"
   ]
  },
  {
   "cell_type": "code",
   "execution_count": 5,
   "id": "927633b9-cb8e-4d5c-b0ee-d5afd2814508",
   "metadata": {},
   "outputs": [
    {
     "name": "stdout",
     "output_type": "stream",
     "text": [
      "1\n",
      "13224220\n",
      "(6612110, 13)\n",
      "2\n",
      "12350468\n",
      "(6175234, 13)\n",
      "3\n",
      "11046004\n",
      "(5523002, 13)\n",
      "4\n",
      "6613666\n",
      "(3306833, 13)\n",
      "5\n",
      "7590208\n",
      "(3795104, 13)\n",
      "6\n",
      "8110340\n",
      "(4055170, 13)\n",
      "7\n",
      "8319342\n",
      "(4159671, 13)\n",
      "8\n",
      "7631940\n",
      "(3815970, 13)\n",
      "9\n",
      "6410584\n",
      "(3205292, 13)\n",
      "10\n",
      "6785948\n",
      "(3392974, 13)\n",
      "11\n",
      "10415152\n",
      "(5207576, 13)\n",
      "12\n",
      "9011074\n",
      "(4505537, 13)\n",
      "13\n",
      "2816912\n",
      "(1408456, 13)\n",
      "14\n",
      "6090988\n",
      "(3045494, 13)\n",
      "15\n",
      "6405066\n",
      "(3202533, 13)\n",
      "16\n",
      "8888788\n",
      "(4444394, 13)\n",
      "17\n",
      "10569426\n",
      "(5284713, 13)\n",
      "18\n",
      "3167764\n",
      "(1583882, 13)\n",
      "19\n",
      "9724556\n",
      "(4862278, 13)\n",
      "20\n",
      "4308868\n",
      "(2154434, 13)\n",
      "21\n",
      "2344580\n",
      "(1172290, 13)\n",
      "22\n",
      "3717298\n",
      "(1858649, 13)\n",
      "X\n",
      "3621776\n",
      "(1810888, 13)\n",
      "Y\n",
      "38368\n",
      "(19184, 13)\n"
     ]
    }
   ],
   "source": [
    "df_dict = {}\n",
    "df_list = []\n",
    "for chr_name in chr_list:\n",
    "    print(chr_name)\n",
    "    base_dir = \"/data/projects/PSB/DNABERT_data/Donor/chr\"+str(chr_name)\n",
    "    concat_probab = np.load(base_dir+\"/Prediction_result/pred_results.npy\")\n",
    "    print(len(concat_probab))\n",
    "    df = pd.read_csv(base_dir+\"/all_data_new.tsv\", sep= \"\\t\")\n",
    "    print(df.shape)\n",
    "    Reference_probab = concat_probab[::2]\n",
    "    Alternative_probab = concat_probab[1::2]\n",
    "    df['Ref_probab']=Reference_probab\n",
    "    df['Alt_probab']=Alternative_probab\n",
    "    df['ScoreChange'] = df.apply(lambda row: calculate_diff_probab(row['Ref_probab'], row['Alt_probab']), axis=1)\n",
    "    df['LogOddRatio'] = df.apply(lambda row: log_oods_ratio(row['Ref_probab'], row['Alt_probab']), axis=1)\n",
    "    df_list.append(df)"
   ]
  },
  {
   "cell_type": "code",
   "execution_count": 45,
   "id": "3463e015-6276-4113-801d-9d713d9726b2",
   "metadata": {},
   "outputs": [],
   "source": [
    "concatenated_df = pd.concat(df_list)"
   ]
  },
  {
   "cell_type": "code",
   "execution_count": 46,
   "id": "fa95f309-e8f5-4d60-b14b-b8ddaf1c35a2",
   "metadata": {},
   "outputs": [
    {
     "data": {
      "text/plain": [
       "(84601668, 17)"
      ]
     },
     "execution_count": 46,
     "metadata": {},
     "output_type": "execute_result"
    }
   ],
   "source": [
    "concatenated_df.shape"
   ]
  },
  {
   "cell_type": "code",
   "execution_count": 47,
   "id": "d7da1b60-5c4e-4a40-96db-eb9bca36b119",
   "metadata": {},
   "outputs": [
    {
     "data": {
      "text/html": [
       "<div>\n",
       "<style scoped>\n",
       "    .dataframe tbody tr th:only-of-type {\n",
       "        vertical-align: middle;\n",
       "    }\n",
       "\n",
       "    .dataframe tbody tr th {\n",
       "        vertical-align: top;\n",
       "    }\n",
       "\n",
       "    .dataframe thead th {\n",
       "        text-align: right;\n",
       "    }\n",
       "</style>\n",
       "<table border=\"1\" class=\"dataframe\">\n",
       "  <thead>\n",
       "    <tr style=\"text-align: right;\">\n",
       "      <th></th>\n",
       "      <th>index</th>\n",
       "      <th>chr</th>\n",
       "      <th>strand</th>\n",
       "      <th>Donor_coordinates</th>\n",
       "      <th>Transcript_coordinates</th>\n",
       "      <th>dbsnp_id</th>\n",
       "      <th>varinat_start</th>\n",
       "      <th>variant_end</th>\n",
       "      <th>ref_neucleotide</th>\n",
       "      <th>alternative_neucleotide</th>\n",
       "      <th>reference_seq</th>\n",
       "      <th>alt_seq</th>\n",
       "      <th>Ensemble_Transcript_ID</th>\n",
       "      <th>Ref_probab</th>\n",
       "      <th>Alt_probab</th>\n",
       "      <th>ScoreChange</th>\n",
       "      <th>LogOddRatio</th>\n",
       "    </tr>\n",
       "  </thead>\n",
       "  <tbody>\n",
       "    <tr>\n",
       "      <th>0</th>\n",
       "      <td>0</td>\n",
       "      <td>chr1</td>\n",
       "      <td>-</td>\n",
       "      <td>24413634-24413713</td>\n",
       "      <td>24391258-24416153</td>\n",
       "      <td>rs1643860199</td>\n",
       "      <td>24413637</td>\n",
       "      <td>24413638</td>\n",
       "      <td>T</td>\n",
       "      <td>G</td>\n",
       "      <td>ACCTCAGGGACCGGTCCCCCCGCCGGAACTGCTTCCTACCTGGTCC...</td>\n",
       "      <td>ACCGCAGGGACCGGTCCCCCCGCCGGAACTGCTTCCTACCTGGTCC...</td>\n",
       "      <td>ENST00000498488</td>\n",
       "      <td>0.350596</td>\n",
       "      <td>0.462011</td>\n",
       "      <td>0.051475</td>\n",
       "      <td>-0.669657</td>\n",
       "    </tr>\n",
       "    <tr>\n",
       "      <th>1</th>\n",
       "      <td>1</td>\n",
       "      <td>chr1</td>\n",
       "      <td>-</td>\n",
       "      <td>24413634-24413713</td>\n",
       "      <td>24391258-24416153</td>\n",
       "      <td>rs753987026</td>\n",
       "      <td>24413638</td>\n",
       "      <td>24413639</td>\n",
       "      <td>C</td>\n",
       "      <td>T</td>\n",
       "      <td>ACCTCAGGGACCGGTCCCCCCGCCGGAACTGCTTCCTACCTGGTCC...</td>\n",
       "      <td>ACCTTAGGGACCGGTCCCCCCGCCGGAACTGCTTCCTACCTGGTCC...</td>\n",
       "      <td>ENST00000498488</td>\n",
       "      <td>0.350596</td>\n",
       "      <td>0.284591</td>\n",
       "      <td>-0.023141</td>\n",
       "      <td>0.440572</td>\n",
       "    </tr>\n",
       "    <tr>\n",
       "      <th>2</th>\n",
       "      <td>2</td>\n",
       "      <td>chr1</td>\n",
       "      <td>-</td>\n",
       "      <td>24413634-24413713</td>\n",
       "      <td>24391258-24416153</td>\n",
       "      <td>rs1643860744</td>\n",
       "      <td>24413639</td>\n",
       "      <td>24413640</td>\n",
       "      <td>A</td>\n",
       "      <td>T</td>\n",
       "      <td>ACCTCAGGGACCGGTCCCCCCGCCGGAACTGCTTCCTACCTGGTCC...</td>\n",
       "      <td>ACCTCTGGGACCGGTCCCCCCGCCGGAACTGCTTCCTACCTGGTCC...</td>\n",
       "      <td>ENST00000498488</td>\n",
       "      <td>0.350596</td>\n",
       "      <td>0.350378</td>\n",
       "      <td>-0.000076</td>\n",
       "      <td>0.001380</td>\n",
       "    </tr>\n",
       "    <tr>\n",
       "      <th>3</th>\n",
       "      <td>3</td>\n",
       "      <td>chr1</td>\n",
       "      <td>-</td>\n",
       "      <td>24413634-24413713</td>\n",
       "      <td>24391258-24416153</td>\n",
       "      <td>rs541090385</td>\n",
       "      <td>24413642</td>\n",
       "      <td>24413643</td>\n",
       "      <td>G</td>\n",
       "      <td>A</td>\n",
       "      <td>ACCTCAGGGACCGGTCCCCCCGCCGGAACTGCTTCCTACCTGGTCC...</td>\n",
       "      <td>ACCTCAGGAACCGGTCCCCCCGCCGGAACTGCTTCCTACCTGGTCC...</td>\n",
       "      <td>ENST00000498488</td>\n",
       "      <td>0.350596</td>\n",
       "      <td>0.391830</td>\n",
       "      <td>0.016157</td>\n",
       "      <td>-0.255060</td>\n",
       "    </tr>\n",
       "    <tr>\n",
       "      <th>4</th>\n",
       "      <td>4</td>\n",
       "      <td>chr1</td>\n",
       "      <td>-</td>\n",
       "      <td>24413634-24413713</td>\n",
       "      <td>24391258-24416153</td>\n",
       "      <td>rs541090385</td>\n",
       "      <td>24413642</td>\n",
       "      <td>24413643</td>\n",
       "      <td>G</td>\n",
       "      <td>C</td>\n",
       "      <td>ACCTCAGGGACCGGTCCCCCCGCCGGAACTGCTTCCTACCTGGTCC...</td>\n",
       "      <td>ACCTCAGGCACCGGTCCCCCCGCCGGAACTGCTTCCTACCTGGTCC...</td>\n",
       "      <td>ENST00000498488</td>\n",
       "      <td>0.350596</td>\n",
       "      <td>0.322083</td>\n",
       "      <td>-0.009996</td>\n",
       "      <td>0.184368</td>\n",
       "    </tr>\n",
       "  </tbody>\n",
       "</table>\n",
       "</div>"
      ],
      "text/plain": [
       "   index   chr strand  Donor_coordinates Transcript_coordinates      dbsnp_id  \\\n",
       "0      0  chr1      -  24413634-24413713      24391258-24416153  rs1643860199   \n",
       "1      1  chr1      -  24413634-24413713      24391258-24416153   rs753987026   \n",
       "2      2  chr1      -  24413634-24413713      24391258-24416153  rs1643860744   \n",
       "3      3  chr1      -  24413634-24413713      24391258-24416153   rs541090385   \n",
       "4      4  chr1      -  24413634-24413713      24391258-24416153   rs541090385   \n",
       "\n",
       "   varinat_start  variant_end ref_neucleotide alternative_neucleotide  \\\n",
       "0       24413637     24413638               T                       G   \n",
       "1       24413638     24413639               C                       T   \n",
       "2       24413639     24413640               A                       T   \n",
       "3       24413642     24413643               G                       A   \n",
       "4       24413642     24413643               G                       C   \n",
       "\n",
       "                                       reference_seq  \\\n",
       "0  ACCTCAGGGACCGGTCCCCCCGCCGGAACTGCTTCCTACCTGGTCC...   \n",
       "1  ACCTCAGGGACCGGTCCCCCCGCCGGAACTGCTTCCTACCTGGTCC...   \n",
       "2  ACCTCAGGGACCGGTCCCCCCGCCGGAACTGCTTCCTACCTGGTCC...   \n",
       "3  ACCTCAGGGACCGGTCCCCCCGCCGGAACTGCTTCCTACCTGGTCC...   \n",
       "4  ACCTCAGGGACCGGTCCCCCCGCCGGAACTGCTTCCTACCTGGTCC...   \n",
       "\n",
       "                                             alt_seq Ensemble_Transcript_ID  \\\n",
       "0  ACCGCAGGGACCGGTCCCCCCGCCGGAACTGCTTCCTACCTGGTCC...        ENST00000498488   \n",
       "1  ACCTTAGGGACCGGTCCCCCCGCCGGAACTGCTTCCTACCTGGTCC...        ENST00000498488   \n",
       "2  ACCTCTGGGACCGGTCCCCCCGCCGGAACTGCTTCCTACCTGGTCC...        ENST00000498488   \n",
       "3  ACCTCAGGAACCGGTCCCCCCGCCGGAACTGCTTCCTACCTGGTCC...        ENST00000498488   \n",
       "4  ACCTCAGGCACCGGTCCCCCCGCCGGAACTGCTTCCTACCTGGTCC...        ENST00000498488   \n",
       "\n",
       "   Ref_probab  Alt_probab  ScoreChange  LogOddRatio  \n",
       "0    0.350596    0.462011     0.051475    -0.669657  \n",
       "1    0.350596    0.284591    -0.023141     0.440572  \n",
       "2    0.350596    0.350378    -0.000076     0.001380  \n",
       "3    0.350596    0.391830     0.016157    -0.255060  \n",
       "4    0.350596    0.322083    -0.009996     0.184368  "
      ]
     },
     "execution_count": 47,
     "metadata": {},
     "output_type": "execute_result"
    }
   ],
   "source": [
    "concatenated_df.head()"
   ]
  },
  {
   "cell_type": "code",
   "execution_count": 48,
   "id": "ee694163-4c7b-4913-a954-506d3efddcb6",
   "metadata": {},
   "outputs": [
    {
     "data": {
      "text/html": [
       "<div>\n",
       "<style scoped>\n",
       "    .dataframe tbody tr th:only-of-type {\n",
       "        vertical-align: middle;\n",
       "    }\n",
       "\n",
       "    .dataframe tbody tr th {\n",
       "        vertical-align: top;\n",
       "    }\n",
       "\n",
       "    .dataframe thead th {\n",
       "        text-align: right;\n",
       "    }\n",
       "</style>\n",
       "<table border=\"1\" class=\"dataframe\">\n",
       "  <thead>\n",
       "    <tr style=\"text-align: right;\">\n",
       "      <th></th>\n",
       "      <th>index</th>\n",
       "      <th>chr</th>\n",
       "      <th>strand</th>\n",
       "      <th>Donor_coordinates</th>\n",
       "      <th>Transcript_coordinates</th>\n",
       "      <th>dbsnp_id</th>\n",
       "      <th>varinat_start</th>\n",
       "      <th>variant_end</th>\n",
       "      <th>ref_neucleotide</th>\n",
       "      <th>alternative_neucleotide</th>\n",
       "      <th>reference_seq</th>\n",
       "      <th>alt_seq</th>\n",
       "      <th>Ensemble_Transcript_ID</th>\n",
       "      <th>Ref_probab</th>\n",
       "      <th>Alt_probab</th>\n",
       "      <th>ScoreChange</th>\n",
       "      <th>LogOddRatio</th>\n",
       "    </tr>\n",
       "  </thead>\n",
       "  <tbody>\n",
       "    <tr>\n",
       "      <th>2627</th>\n",
       "      <td>2627</td>\n",
       "      <td>chr1</td>\n",
       "      <td>+</td>\n",
       "      <td>24449588-24449667</td>\n",
       "      <td>24415803-24472976</td>\n",
       "      <td>rs1401534466</td>\n",
       "      <td>24449613</td>\n",
       "      <td>24449615</td>\n",
       "      <td>CC</td>\n",
       "      <td>C</td>\n",
       "      <td>CCAGGCACCTCGTGAGCTGGCCTTTCCTTTTGTACATGGTAAGAGA...</td>\n",
       "      <td>CCAGGCACCTCGTGAGCTGGCCTTTCTTTTGTACATGGTAAGAGAA...</td>\n",
       "      <td>ENST00000003912</td>\n",
       "      <td>0.976278</td>\n",
       "      <td>0.046042</td>\n",
       "      <td>-0.908168</td>\n",
       "      <td>9.735875</td>\n",
       "    </tr>\n",
       "    <tr>\n",
       "      <th>2673</th>\n",
       "      <td>2673</td>\n",
       "      <td>chr1</td>\n",
       "      <td>+</td>\n",
       "      <td>24449588-24449667</td>\n",
       "      <td>24415814-24466310</td>\n",
       "      <td>rs1401534466</td>\n",
       "      <td>24449613</td>\n",
       "      <td>24449615</td>\n",
       "      <td>CC</td>\n",
       "      <td>C</td>\n",
       "      <td>CCAGGCACCTCGTGAGCTGGCCTTTCCTTTTGTACATGGTAAGAGA...</td>\n",
       "      <td>CCAGGCACCTCGTGAGCTGGCCTTTCTTTTGTACATGGTAAGAGAA...</td>\n",
       "      <td>ENST00000339255</td>\n",
       "      <td>0.976278</td>\n",
       "      <td>0.046042</td>\n",
       "      <td>-0.908168</td>\n",
       "      <td>9.735875</td>\n",
       "    </tr>\n",
       "    <tr>\n",
       "      <th>2719</th>\n",
       "      <td>2719</td>\n",
       "      <td>chr1</td>\n",
       "      <td>+</td>\n",
       "      <td>24449588-24449667</td>\n",
       "      <td>24415813-24454824</td>\n",
       "      <td>rs1401534466</td>\n",
       "      <td>24449613</td>\n",
       "      <td>24449615</td>\n",
       "      <td>CC</td>\n",
       "      <td>C</td>\n",
       "      <td>CCAGGCACCTCGTGAGCTGGCCTTTCCTTTTGTACATGGTAAGAGA...</td>\n",
       "      <td>CCAGGCACCTCGTGAGCTGGCCTTTCTTTTGTACATGGTAAGAGAA...</td>\n",
       "      <td>ENST00000358028</td>\n",
       "      <td>0.976278</td>\n",
       "      <td>0.046042</td>\n",
       "      <td>-0.908168</td>\n",
       "      <td>9.735875</td>\n",
       "    </tr>\n",
       "    <tr>\n",
       "      <th>2765</th>\n",
       "      <td>2765</td>\n",
       "      <td>chr1</td>\n",
       "      <td>+</td>\n",
       "      <td>24449588-24449667</td>\n",
       "      <td>24415802-24472976</td>\n",
       "      <td>rs1401534466</td>\n",
       "      <td>24449613</td>\n",
       "      <td>24449615</td>\n",
       "      <td>CC</td>\n",
       "      <td>C</td>\n",
       "      <td>CCAGGCACCTCGTGAGCTGGCCTTTCCTTTTGTACATGGTAAGAGA...</td>\n",
       "      <td>CCAGGCACCTCGTGAGCTGGCCTTTCTTTTGTACATGGTAAGAGAA...</td>\n",
       "      <td>ENST00000374399</td>\n",
       "      <td>0.976278</td>\n",
       "      <td>0.046042</td>\n",
       "      <td>-0.908168</td>\n",
       "      <td>9.735875</td>\n",
       "    </tr>\n",
       "    <tr>\n",
       "      <th>3076</th>\n",
       "      <td>3076</td>\n",
       "      <td>chr1</td>\n",
       "      <td>+</td>\n",
       "      <td>24458938-24459017</td>\n",
       "      <td>24415803-24472976</td>\n",
       "      <td>rs1338018203</td>\n",
       "      <td>24458950</td>\n",
       "      <td>24458951</td>\n",
       "      <td>G</td>\n",
       "      <td>A</td>\n",
       "      <td>GGGCTACATTCTGTCCACAACCATTGCTATCACAGCAGGTAAGGGT...</td>\n",
       "      <td>GGGCTACATTCTATCCACAACCATTGCTATCACAGCAGGTAAGGGT...</td>\n",
       "      <td>ENST00000003912</td>\n",
       "      <td>0.562571</td>\n",
       "      <td>0.330971</td>\n",
       "      <td>-0.130291</td>\n",
       "      <td>1.378349</td>\n",
       "    </tr>\n",
       "    <tr>\n",
       "      <th>...</th>\n",
       "      <td>...</td>\n",
       "      <td>...</td>\n",
       "      <td>...</td>\n",
       "      <td>...</td>\n",
       "      <td>...</td>\n",
       "      <td>...</td>\n",
       "      <td>...</td>\n",
       "      <td>...</td>\n",
       "      <td>...</td>\n",
       "      <td>...</td>\n",
       "      <td>...</td>\n",
       "      <td>...</td>\n",
       "      <td>...</td>\n",
       "      <td>...</td>\n",
       "      <td>...</td>\n",
       "      <td>...</td>\n",
       "      <td>...</td>\n",
       "    </tr>\n",
       "    <tr>\n",
       "      <th>19046</th>\n",
       "      <td>92508</td>\n",
       "      <td>chrY</td>\n",
       "      <td>+</td>\n",
       "      <td>2787015-2787094</td>\n",
       "      <td>2752296-2845689</td>\n",
       "      <td>rs1019354171</td>\n",
       "      <td>2787052</td>\n",
       "      <td>2787053</td>\n",
       "      <td>G</td>\n",
       "      <td>A</td>\n",
       "      <td>GTCCCGTTGCTGCGGTGAGCTGGCTGCGTTGATGGGCGGTAAGTGG...</td>\n",
       "      <td>GTCCCGTTGCTGCGGTGAGCTGGCTGCGTTGATGGGCAGTAAGTGG...</td>\n",
       "      <td>ENST00000681787</td>\n",
       "      <td>0.420749</td>\n",
       "      <td>0.610241</td>\n",
       "      <td>0.115636</td>\n",
       "      <td>-1.108023</td>\n",
       "    </tr>\n",
       "    <tr>\n",
       "      <th>19050</th>\n",
       "      <td>92512</td>\n",
       "      <td>chrY</td>\n",
       "      <td>+</td>\n",
       "      <td>2787015-2787094</td>\n",
       "      <td>2752296-2845689</td>\n",
       "      <td>rs780561417</td>\n",
       "      <td>2787043</td>\n",
       "      <td>2787044</td>\n",
       "      <td>T</td>\n",
       "      <td>C</td>\n",
       "      <td>GTCCCGTTGCTGCGGTGAGCTGGCTGCGTTGATGGGCGGTAAGTGG...</td>\n",
       "      <td>GTCCCGTTGCTGCGGTGAGCTGGCTGCGCTGATGGGCGGTAAGTGG...</td>\n",
       "      <td>ENST00000679518</td>\n",
       "      <td>0.420749</td>\n",
       "      <td>0.669274</td>\n",
       "      <td>0.166331</td>\n",
       "      <td>-1.478190</td>\n",
       "    </tr>\n",
       "    <tr>\n",
       "      <th>19052</th>\n",
       "      <td>92514</td>\n",
       "      <td>chrY</td>\n",
       "      <td>+</td>\n",
       "      <td>2787015-2787094</td>\n",
       "      <td>2752296-2845689</td>\n",
       "      <td>rs1019354171</td>\n",
       "      <td>2787052</td>\n",
       "      <td>2787053</td>\n",
       "      <td>G</td>\n",
       "      <td>A</td>\n",
       "      <td>GTCCCGTTGCTGCGGTGAGCTGGCTGCGTTGATGGGCGGTAAGTGG...</td>\n",
       "      <td>GTCCCGTTGCTGCGGTGAGCTGGCTGCGTTGATGGGCAGTAAGTGG...</td>\n",
       "      <td>ENST00000679518</td>\n",
       "      <td>0.420749</td>\n",
       "      <td>0.610241</td>\n",
       "      <td>0.115636</td>\n",
       "      <td>-1.108023</td>\n",
       "    </tr>\n",
       "    <tr>\n",
       "      <th>19056</th>\n",
       "      <td>92518</td>\n",
       "      <td>chrY</td>\n",
       "      <td>+</td>\n",
       "      <td>2787015-2787094</td>\n",
       "      <td>2752296-2854641</td>\n",
       "      <td>rs780561417</td>\n",
       "      <td>2787043</td>\n",
       "      <td>2787044</td>\n",
       "      <td>T</td>\n",
       "      <td>C</td>\n",
       "      <td>GTCCCGTTGCTGCGGTGAGCTGGCTGCGTTGATGGGCGGTAAGTGG...</td>\n",
       "      <td>GTCCCGTTGCTGCGGTGAGCTGGCTGCGCTGATGGGCGGTAAGTGG...</td>\n",
       "      <td>ENST00000681940</td>\n",
       "      <td>0.420749</td>\n",
       "      <td>0.669274</td>\n",
       "      <td>0.166331</td>\n",
       "      <td>-1.478190</td>\n",
       "    </tr>\n",
       "    <tr>\n",
       "      <th>19058</th>\n",
       "      <td>92520</td>\n",
       "      <td>chrY</td>\n",
       "      <td>+</td>\n",
       "      <td>2787015-2787094</td>\n",
       "      <td>2752296-2854641</td>\n",
       "      <td>rs1019354171</td>\n",
       "      <td>2787052</td>\n",
       "      <td>2787053</td>\n",
       "      <td>G</td>\n",
       "      <td>A</td>\n",
       "      <td>GTCCCGTTGCTGCGGTGAGCTGGCTGCGTTGATGGGCGGTAAGTGG...</td>\n",
       "      <td>GTCCCGTTGCTGCGGTGAGCTGGCTGCGTTGATGGGCAGTAAGTGG...</td>\n",
       "      <td>ENST00000681940</td>\n",
       "      <td>0.420749</td>\n",
       "      <td>0.610241</td>\n",
       "      <td>0.115636</td>\n",
       "      <td>-1.108023</td>\n",
       "    </tr>\n",
       "  </tbody>\n",
       "</table>\n",
       "<p>3941532 rows × 17 columns</p>\n",
       "</div>"
      ],
      "text/plain": [
       "       index   chr strand  Donor_coordinates Transcript_coordinates  \\\n",
       "2627    2627  chr1      +  24449588-24449667      24415803-24472976   \n",
       "2673    2673  chr1      +  24449588-24449667      24415814-24466310   \n",
       "2719    2719  chr1      +  24449588-24449667      24415813-24454824   \n",
       "2765    2765  chr1      +  24449588-24449667      24415802-24472976   \n",
       "3076    3076  chr1      +  24458938-24459017      24415803-24472976   \n",
       "...      ...   ...    ...                ...                    ...   \n",
       "19046  92508  chrY      +    2787015-2787094        2752296-2845689   \n",
       "19050  92512  chrY      +    2787015-2787094        2752296-2845689   \n",
       "19052  92514  chrY      +    2787015-2787094        2752296-2845689   \n",
       "19056  92518  chrY      +    2787015-2787094        2752296-2854641   \n",
       "19058  92520  chrY      +    2787015-2787094        2752296-2854641   \n",
       "\n",
       "           dbsnp_id  varinat_start  variant_end ref_neucleotide  \\\n",
       "2627   rs1401534466       24449613     24449615              CC   \n",
       "2673   rs1401534466       24449613     24449615              CC   \n",
       "2719   rs1401534466       24449613     24449615              CC   \n",
       "2765   rs1401534466       24449613     24449615              CC   \n",
       "3076   rs1338018203       24458950     24458951               G   \n",
       "...             ...            ...          ...             ...   \n",
       "19046  rs1019354171        2787052      2787053               G   \n",
       "19050   rs780561417        2787043      2787044               T   \n",
       "19052  rs1019354171        2787052      2787053               G   \n",
       "19056   rs780561417        2787043      2787044               T   \n",
       "19058  rs1019354171        2787052      2787053               G   \n",
       "\n",
       "      alternative_neucleotide  \\\n",
       "2627                        C   \n",
       "2673                        C   \n",
       "2719                        C   \n",
       "2765                        C   \n",
       "3076                        A   \n",
       "...                       ...   \n",
       "19046                       A   \n",
       "19050                       C   \n",
       "19052                       A   \n",
       "19056                       C   \n",
       "19058                       A   \n",
       "\n",
       "                                           reference_seq  \\\n",
       "2627   CCAGGCACCTCGTGAGCTGGCCTTTCCTTTTGTACATGGTAAGAGA...   \n",
       "2673   CCAGGCACCTCGTGAGCTGGCCTTTCCTTTTGTACATGGTAAGAGA...   \n",
       "2719   CCAGGCACCTCGTGAGCTGGCCTTTCCTTTTGTACATGGTAAGAGA...   \n",
       "2765   CCAGGCACCTCGTGAGCTGGCCTTTCCTTTTGTACATGGTAAGAGA...   \n",
       "3076   GGGCTACATTCTGTCCACAACCATTGCTATCACAGCAGGTAAGGGT...   \n",
       "...                                                  ...   \n",
       "19046  GTCCCGTTGCTGCGGTGAGCTGGCTGCGTTGATGGGCGGTAAGTGG...   \n",
       "19050  GTCCCGTTGCTGCGGTGAGCTGGCTGCGTTGATGGGCGGTAAGTGG...   \n",
       "19052  GTCCCGTTGCTGCGGTGAGCTGGCTGCGTTGATGGGCGGTAAGTGG...   \n",
       "19056  GTCCCGTTGCTGCGGTGAGCTGGCTGCGTTGATGGGCGGTAAGTGG...   \n",
       "19058  GTCCCGTTGCTGCGGTGAGCTGGCTGCGTTGATGGGCGGTAAGTGG...   \n",
       "\n",
       "                                                 alt_seq  \\\n",
       "2627   CCAGGCACCTCGTGAGCTGGCCTTTCTTTTGTACATGGTAAGAGAA...   \n",
       "2673   CCAGGCACCTCGTGAGCTGGCCTTTCTTTTGTACATGGTAAGAGAA...   \n",
       "2719   CCAGGCACCTCGTGAGCTGGCCTTTCTTTTGTACATGGTAAGAGAA...   \n",
       "2765   CCAGGCACCTCGTGAGCTGGCCTTTCTTTTGTACATGGTAAGAGAA...   \n",
       "3076   GGGCTACATTCTATCCACAACCATTGCTATCACAGCAGGTAAGGGT...   \n",
       "...                                                  ...   \n",
       "19046  GTCCCGTTGCTGCGGTGAGCTGGCTGCGTTGATGGGCAGTAAGTGG...   \n",
       "19050  GTCCCGTTGCTGCGGTGAGCTGGCTGCGCTGATGGGCGGTAAGTGG...   \n",
       "19052  GTCCCGTTGCTGCGGTGAGCTGGCTGCGTTGATGGGCAGTAAGTGG...   \n",
       "19056  GTCCCGTTGCTGCGGTGAGCTGGCTGCGCTGATGGGCGGTAAGTGG...   \n",
       "19058  GTCCCGTTGCTGCGGTGAGCTGGCTGCGTTGATGGGCAGTAAGTGG...   \n",
       "\n",
       "      Ensemble_Transcript_ID  Ref_probab  Alt_probab  ScoreChange  LogOddRatio  \n",
       "2627         ENST00000003912    0.976278    0.046042    -0.908168     9.735875  \n",
       "2673         ENST00000339255    0.976278    0.046042    -0.908168     9.735875  \n",
       "2719         ENST00000358028    0.976278    0.046042    -0.908168     9.735875  \n",
       "2765         ENST00000374399    0.976278    0.046042    -0.908168     9.735875  \n",
       "3076         ENST00000003912    0.562571    0.330971    -0.130291     1.378349  \n",
       "...                      ...         ...         ...          ...          ...  \n",
       "19046        ENST00000681787    0.420749    0.610241     0.115636    -1.108023  \n",
       "19050        ENST00000679518    0.420749    0.669274     0.166331    -1.478190  \n",
       "19052        ENST00000679518    0.420749    0.610241     0.115636    -1.108023  \n",
       "19056        ENST00000681940    0.420749    0.669274     0.166331    -1.478190  \n",
       "19058        ENST00000681940    0.420749    0.610241     0.115636    -1.108023  \n",
       "\n",
       "[3941532 rows x 17 columns]"
      ]
     },
     "execution_count": 48,
     "metadata": {},
     "output_type": "execute_result"
    }
   ],
   "source": [
    "#df_interest = df_interest[((df_interest['Ref_probab']>0.5) & (df_interest['Alt_probab']<0.5))|((df_interest['Ref_probab']<0.5) & (df_interest['Alt_probab']>0.5))]\n",
    "# df_interest = concatenated_df[(concatenated_df['Ref_probab']>0.5)|(concatenated_df['Alt_probab']>0.5)]\n",
    "# df_interest\n",
    "filtered_df1 = concatenated_df[(concatenated_df['Ref_probab'] > 0.5) & (concatenated_df['Alt_probab'] <= 0.5)]\n",
    "filtered_df2 = concatenated_df[(concatenated_df['Ref_probab'] <= 0.5) & (concatenated_df['Alt_probab'] > 0.5)]\n",
    "df_interest = pd.concat([filtered_df1, filtered_df2])\n",
    "df_interest"
   ]
  },
  {
   "cell_type": "code",
   "execution_count": 49,
   "id": "eddd38dd-ddba-4635-ae3a-8d605aa4fdc6",
   "metadata": {},
   "outputs": [],
   "source": [
    "df_interest['score_change_new'] = df_interest['Alt_probab']-df_interest['Ref_probab']"
   ]
  },
  {
   "cell_type": "code",
   "execution_count": 50,
   "id": "013e2c9a-9a3a-4adc-b68a-d31ee11bbc96",
   "metadata": {},
   "outputs": [
    {
     "data": {
      "application/vnd.plotly.v1+json": {
       "config": {
        "plotlyServerURL": "https://plot.ly"
       },
       "data": [
        {
         "name": "Histogram",
         "type": "bar",
         "width": [
          1.8275702051957996,
          1.8275702051957978,
          1.8275702051957996,
          1.8275702051957978,
          1.8275702051957996,
          1.8275702051957996,
          1.8275702051957978,
          1.8275702051957996,
          1.8275702051957996,
          1.8275702051957978,
          1.8275702051957978,
          1.8275702051958014,
          1.8275702051957978,
          1.8275702051957978,
          1.8275702051958014,
          1.8275702051957978,
          1.8275702051957978,
          1.8275702051958014,
          1.8275702051957978,
          1.8275702051957978
         ],
         "x": [
          -16.719403807130156,
          -14.891833601934357,
          -13.064263396738557,
          -11.23669319154276,
          -9.409122986346961,
          -7.581552781151161,
          -5.753982575955362,
          -3.9264123707595635,
          -2.098842165563764,
          -0.2712719603679652,
          1.5562982448278326,
          3.3838684500236322,
          5.211438655219432,
          7.03900886041523,
          8.86657906561103,
          10.694149270806829,
          12.521719476002627,
          14.349289681198426,
          16.176859886394226,
          18.004430091590024
         ],
         "y": [
          94,
          3640,
          18623,
          46360,
          82125,
          117976,
          169223,
          270204,
          636782,
          1047412,
          991933,
          287808,
          136270,
          78460,
          37735,
          12773,
          3421,
          586,
          101,
          6
         ]
        },
        {
         "mode": "text",
         "text": [
          "94"
         ],
         "type": "scatter",
         "x": [
          -16.719403807130156
         ],
         "y": [
          94
         ]
        },
        {
         "mode": "text",
         "text": [
          "3640"
         ],
         "type": "scatter",
         "x": [
          -14.891833601934357
         ],
         "y": [
          3640
         ]
        },
        {
         "mode": "text",
         "text": [
          "18623"
         ],
         "type": "scatter",
         "x": [
          -13.064263396738557
         ],
         "y": [
          18623
         ]
        },
        {
         "mode": "text",
         "text": [
          "46360"
         ],
         "type": "scatter",
         "x": [
          -11.23669319154276
         ],
         "y": [
          46360
         ]
        },
        {
         "mode": "text",
         "text": [
          "82125"
         ],
         "type": "scatter",
         "x": [
          -9.409122986346961
         ],
         "y": [
          82125
         ]
        },
        {
         "mode": "text",
         "text": [
          "117976"
         ],
         "type": "scatter",
         "x": [
          -7.581552781151161
         ],
         "y": [
          117976
         ]
        },
        {
         "mode": "text",
         "text": [
          "169223"
         ],
         "type": "scatter",
         "x": [
          -5.753982575955362
         ],
         "y": [
          169223
         ]
        },
        {
         "mode": "text",
         "text": [
          "270204"
         ],
         "type": "scatter",
         "x": [
          -3.9264123707595635
         ],
         "y": [
          270204
         ]
        },
        {
         "mode": "text",
         "text": [
          "636782"
         ],
         "type": "scatter",
         "x": [
          -2.098842165563764
         ],
         "y": [
          636782
         ]
        },
        {
         "mode": "text",
         "text": [
          "1047412"
         ],
         "type": "scatter",
         "x": [
          -0.2712719603679652
         ],
         "y": [
          1047412
         ]
        },
        {
         "mode": "text",
         "text": [
          "991933"
         ],
         "type": "scatter",
         "x": [
          1.5562982448278326
         ],
         "y": [
          991933
         ]
        },
        {
         "mode": "text",
         "text": [
          "287808"
         ],
         "type": "scatter",
         "x": [
          3.3838684500236322
         ],
         "y": [
          287808
         ]
        },
        {
         "mode": "text",
         "text": [
          "136270"
         ],
         "type": "scatter",
         "x": [
          5.211438655219432
         ],
         "y": [
          136270
         ]
        },
        {
         "mode": "text",
         "text": [
          "78460"
         ],
         "type": "scatter",
         "x": [
          7.03900886041523
         ],
         "y": [
          78460
         ]
        },
        {
         "mode": "text",
         "text": [
          "37735"
         ],
         "type": "scatter",
         "x": [
          8.86657906561103
         ],
         "y": [
          37735
         ]
        },
        {
         "mode": "text",
         "text": [
          "12773"
         ],
         "type": "scatter",
         "x": [
          10.694149270806829
         ],
         "y": [
          12773
         ]
        },
        {
         "mode": "text",
         "text": [
          "3421"
         ],
         "type": "scatter",
         "x": [
          12.521719476002627
         ],
         "y": [
          3421
         ]
        },
        {
         "mode": "text",
         "text": [
          "586"
         ],
         "type": "scatter",
         "x": [
          14.349289681198426
         ],
         "y": [
          586
         ]
        },
        {
         "mode": "text",
         "text": [
          "101"
         ],
         "type": "scatter",
         "x": [
          16.176859886394226
         ],
         "y": [
          101
         ]
        },
        {
         "mode": "text",
         "text": [
          "6"
         ],
         "type": "scatter",
         "x": [
          18.004430091590024
         ],
         "y": [
          6
         ]
        }
       ],
       "layout": {
        "autosize": true,
        "template": {
         "data": {
          "bar": [
           {
            "error_x": {
             "color": "#2a3f5f"
            },
            "error_y": {
             "color": "#2a3f5f"
            },
            "marker": {
             "line": {
              "color": "#E5ECF6",
              "width": 0.5
             },
             "pattern": {
              "fillmode": "overlay",
              "size": 10,
              "solidity": 0.2
             }
            },
            "type": "bar"
           }
          ],
          "barpolar": [
           {
            "marker": {
             "line": {
              "color": "#E5ECF6",
              "width": 0.5
             },
             "pattern": {
              "fillmode": "overlay",
              "size": 10,
              "solidity": 0.2
             }
            },
            "type": "barpolar"
           }
          ],
          "carpet": [
           {
            "aaxis": {
             "endlinecolor": "#2a3f5f",
             "gridcolor": "white",
             "linecolor": "white",
             "minorgridcolor": "white",
             "startlinecolor": "#2a3f5f"
            },
            "baxis": {
             "endlinecolor": "#2a3f5f",
             "gridcolor": "white",
             "linecolor": "white",
             "minorgridcolor": "white",
             "startlinecolor": "#2a3f5f"
            },
            "type": "carpet"
           }
          ],
          "choropleth": [
           {
            "colorbar": {
             "outlinewidth": 0,
             "ticks": ""
            },
            "type": "choropleth"
           }
          ],
          "contour": [
           {
            "colorbar": {
             "outlinewidth": 0,
             "ticks": ""
            },
            "colorscale": [
             [
              0,
              "#0d0887"
             ],
             [
              0.1111111111111111,
              "#46039f"
             ],
             [
              0.2222222222222222,
              "#7201a8"
             ],
             [
              0.3333333333333333,
              "#9c179e"
             ],
             [
              0.4444444444444444,
              "#bd3786"
             ],
             [
              0.5555555555555556,
              "#d8576b"
             ],
             [
              0.6666666666666666,
              "#ed7953"
             ],
             [
              0.7777777777777778,
              "#fb9f3a"
             ],
             [
              0.8888888888888888,
              "#fdca26"
             ],
             [
              1,
              "#f0f921"
             ]
            ],
            "type": "contour"
           }
          ],
          "contourcarpet": [
           {
            "colorbar": {
             "outlinewidth": 0,
             "ticks": ""
            },
            "type": "contourcarpet"
           }
          ],
          "heatmap": [
           {
            "colorbar": {
             "outlinewidth": 0,
             "ticks": ""
            },
            "colorscale": [
             [
              0,
              "#0d0887"
             ],
             [
              0.1111111111111111,
              "#46039f"
             ],
             [
              0.2222222222222222,
              "#7201a8"
             ],
             [
              0.3333333333333333,
              "#9c179e"
             ],
             [
              0.4444444444444444,
              "#bd3786"
             ],
             [
              0.5555555555555556,
              "#d8576b"
             ],
             [
              0.6666666666666666,
              "#ed7953"
             ],
             [
              0.7777777777777778,
              "#fb9f3a"
             ],
             [
              0.8888888888888888,
              "#fdca26"
             ],
             [
              1,
              "#f0f921"
             ]
            ],
            "type": "heatmap"
           }
          ],
          "heatmapgl": [
           {
            "colorbar": {
             "outlinewidth": 0,
             "ticks": ""
            },
            "colorscale": [
             [
              0,
              "#0d0887"
             ],
             [
              0.1111111111111111,
              "#46039f"
             ],
             [
              0.2222222222222222,
              "#7201a8"
             ],
             [
              0.3333333333333333,
              "#9c179e"
             ],
             [
              0.4444444444444444,
              "#bd3786"
             ],
             [
              0.5555555555555556,
              "#d8576b"
             ],
             [
              0.6666666666666666,
              "#ed7953"
             ],
             [
              0.7777777777777778,
              "#fb9f3a"
             ],
             [
              0.8888888888888888,
              "#fdca26"
             ],
             [
              1,
              "#f0f921"
             ]
            ],
            "type": "heatmapgl"
           }
          ],
          "histogram": [
           {
            "marker": {
             "pattern": {
              "fillmode": "overlay",
              "size": 10,
              "solidity": 0.2
             }
            },
            "type": "histogram"
           }
          ],
          "histogram2d": [
           {
            "colorbar": {
             "outlinewidth": 0,
             "ticks": ""
            },
            "colorscale": [
             [
              0,
              "#0d0887"
             ],
             [
              0.1111111111111111,
              "#46039f"
             ],
             [
              0.2222222222222222,
              "#7201a8"
             ],
             [
              0.3333333333333333,
              "#9c179e"
             ],
             [
              0.4444444444444444,
              "#bd3786"
             ],
             [
              0.5555555555555556,
              "#d8576b"
             ],
             [
              0.6666666666666666,
              "#ed7953"
             ],
             [
              0.7777777777777778,
              "#fb9f3a"
             ],
             [
              0.8888888888888888,
              "#fdca26"
             ],
             [
              1,
              "#f0f921"
             ]
            ],
            "type": "histogram2d"
           }
          ],
          "histogram2dcontour": [
           {
            "colorbar": {
             "outlinewidth": 0,
             "ticks": ""
            },
            "colorscale": [
             [
              0,
              "#0d0887"
             ],
             [
              0.1111111111111111,
              "#46039f"
             ],
             [
              0.2222222222222222,
              "#7201a8"
             ],
             [
              0.3333333333333333,
              "#9c179e"
             ],
             [
              0.4444444444444444,
              "#bd3786"
             ],
             [
              0.5555555555555556,
              "#d8576b"
             ],
             [
              0.6666666666666666,
              "#ed7953"
             ],
             [
              0.7777777777777778,
              "#fb9f3a"
             ],
             [
              0.8888888888888888,
              "#fdca26"
             ],
             [
              1,
              "#f0f921"
             ]
            ],
            "type": "histogram2dcontour"
           }
          ],
          "mesh3d": [
           {
            "colorbar": {
             "outlinewidth": 0,
             "ticks": ""
            },
            "type": "mesh3d"
           }
          ],
          "parcoords": [
           {
            "line": {
             "colorbar": {
              "outlinewidth": 0,
              "ticks": ""
             }
            },
            "type": "parcoords"
           }
          ],
          "pie": [
           {
            "automargin": true,
            "type": "pie"
           }
          ],
          "scatter": [
           {
            "fillpattern": {
             "fillmode": "overlay",
             "size": 10,
             "solidity": 0.2
            },
            "type": "scatter"
           }
          ],
          "scatter3d": [
           {
            "line": {
             "colorbar": {
              "outlinewidth": 0,
              "ticks": ""
             }
            },
            "marker": {
             "colorbar": {
              "outlinewidth": 0,
              "ticks": ""
             }
            },
            "type": "scatter3d"
           }
          ],
          "scattercarpet": [
           {
            "marker": {
             "colorbar": {
              "outlinewidth": 0,
              "ticks": ""
             }
            },
            "type": "scattercarpet"
           }
          ],
          "scattergeo": [
           {
            "marker": {
             "colorbar": {
              "outlinewidth": 0,
              "ticks": ""
             }
            },
            "type": "scattergeo"
           }
          ],
          "scattergl": [
           {
            "marker": {
             "colorbar": {
              "outlinewidth": 0,
              "ticks": ""
             }
            },
            "type": "scattergl"
           }
          ],
          "scattermapbox": [
           {
            "marker": {
             "colorbar": {
              "outlinewidth": 0,
              "ticks": ""
             }
            },
            "type": "scattermapbox"
           }
          ],
          "scatterpolar": [
           {
            "marker": {
             "colorbar": {
              "outlinewidth": 0,
              "ticks": ""
             }
            },
            "type": "scatterpolar"
           }
          ],
          "scatterpolargl": [
           {
            "marker": {
             "colorbar": {
              "outlinewidth": 0,
              "ticks": ""
             }
            },
            "type": "scatterpolargl"
           }
          ],
          "scatterternary": [
           {
            "marker": {
             "colorbar": {
              "outlinewidth": 0,
              "ticks": ""
             }
            },
            "type": "scatterternary"
           }
          ],
          "surface": [
           {
            "colorbar": {
             "outlinewidth": 0,
             "ticks": ""
            },
            "colorscale": [
             [
              0,
              "#0d0887"
             ],
             [
              0.1111111111111111,
              "#46039f"
             ],
             [
              0.2222222222222222,
              "#7201a8"
             ],
             [
              0.3333333333333333,
              "#9c179e"
             ],
             [
              0.4444444444444444,
              "#bd3786"
             ],
             [
              0.5555555555555556,
              "#d8576b"
             ],
             [
              0.6666666666666666,
              "#ed7953"
             ],
             [
              0.7777777777777778,
              "#fb9f3a"
             ],
             [
              0.8888888888888888,
              "#fdca26"
             ],
             [
              1,
              "#f0f921"
             ]
            ],
            "type": "surface"
           }
          ],
          "table": [
           {
            "cells": {
             "fill": {
              "color": "#EBF0F8"
             },
             "line": {
              "color": "white"
             }
            },
            "header": {
             "fill": {
              "color": "#C8D4E3"
             },
             "line": {
              "color": "white"
             }
            },
            "type": "table"
           }
          ]
         },
         "layout": {
          "annotationdefaults": {
           "arrowcolor": "#2a3f5f",
           "arrowhead": 0,
           "arrowwidth": 1
          },
          "autotypenumbers": "strict",
          "coloraxis": {
           "colorbar": {
            "outlinewidth": 0,
            "ticks": ""
           }
          },
          "colorscale": {
           "diverging": [
            [
             0,
             "#8e0152"
            ],
            [
             0.1,
             "#c51b7d"
            ],
            [
             0.2,
             "#de77ae"
            ],
            [
             0.3,
             "#f1b6da"
            ],
            [
             0.4,
             "#fde0ef"
            ],
            [
             0.5,
             "#f7f7f7"
            ],
            [
             0.6,
             "#e6f5d0"
            ],
            [
             0.7,
             "#b8e186"
            ],
            [
             0.8,
             "#7fbc41"
            ],
            [
             0.9,
             "#4d9221"
            ],
            [
             1,
             "#276419"
            ]
           ],
           "sequential": [
            [
             0,
             "#0d0887"
            ],
            [
             0.1111111111111111,
             "#46039f"
            ],
            [
             0.2222222222222222,
             "#7201a8"
            ],
            [
             0.3333333333333333,
             "#9c179e"
            ],
            [
             0.4444444444444444,
             "#bd3786"
            ],
            [
             0.5555555555555556,
             "#d8576b"
            ],
            [
             0.6666666666666666,
             "#ed7953"
            ],
            [
             0.7777777777777778,
             "#fb9f3a"
            ],
            [
             0.8888888888888888,
             "#fdca26"
            ],
            [
             1,
             "#f0f921"
            ]
           ],
           "sequentialminus": [
            [
             0,
             "#0d0887"
            ],
            [
             0.1111111111111111,
             "#46039f"
            ],
            [
             0.2222222222222222,
             "#7201a8"
            ],
            [
             0.3333333333333333,
             "#9c179e"
            ],
            [
             0.4444444444444444,
             "#bd3786"
            ],
            [
             0.5555555555555556,
             "#d8576b"
            ],
            [
             0.6666666666666666,
             "#ed7953"
            ],
            [
             0.7777777777777778,
             "#fb9f3a"
            ],
            [
             0.8888888888888888,
             "#fdca26"
            ],
            [
             1,
             "#f0f921"
            ]
           ]
          },
          "colorway": [
           "#636efa",
           "#EF553B",
           "#00cc96",
           "#ab63fa",
           "#FFA15A",
           "#19d3f3",
           "#FF6692",
           "#B6E880",
           "#FF97FF",
           "#FECB52"
          ],
          "font": {
           "color": "#2a3f5f"
          },
          "geo": {
           "bgcolor": "white",
           "lakecolor": "white",
           "landcolor": "#E5ECF6",
           "showlakes": true,
           "showland": true,
           "subunitcolor": "white"
          },
          "hoverlabel": {
           "align": "left"
          },
          "hovermode": "closest",
          "mapbox": {
           "style": "light"
          },
          "paper_bgcolor": "white",
          "plot_bgcolor": "#E5ECF6",
          "polar": {
           "angularaxis": {
            "gridcolor": "white",
            "linecolor": "white",
            "ticks": ""
           },
           "bgcolor": "#E5ECF6",
           "radialaxis": {
            "gridcolor": "white",
            "linecolor": "white",
            "ticks": ""
           }
          },
          "scene": {
           "xaxis": {
            "backgroundcolor": "#E5ECF6",
            "gridcolor": "white",
            "gridwidth": 2,
            "linecolor": "white",
            "showbackground": true,
            "ticks": "",
            "zerolinecolor": "white"
           },
           "yaxis": {
            "backgroundcolor": "#E5ECF6",
            "gridcolor": "white",
            "gridwidth": 2,
            "linecolor": "white",
            "showbackground": true,
            "ticks": "",
            "zerolinecolor": "white"
           },
           "zaxis": {
            "backgroundcolor": "#E5ECF6",
            "gridcolor": "white",
            "gridwidth": 2,
            "linecolor": "white",
            "showbackground": true,
            "ticks": "",
            "zerolinecolor": "white"
           }
          },
          "shapedefaults": {
           "line": {
            "color": "#2a3f5f"
           }
          },
          "ternary": {
           "aaxis": {
            "gridcolor": "white",
            "linecolor": "white",
            "ticks": ""
           },
           "baxis": {
            "gridcolor": "white",
            "linecolor": "white",
            "ticks": ""
           },
           "bgcolor": "#E5ECF6",
           "caxis": {
            "gridcolor": "white",
            "linecolor": "white",
            "ticks": ""
           }
          },
          "title": {
           "x": 0.05
          },
          "xaxis": {
           "automargin": true,
           "gridcolor": "white",
           "linecolor": "white",
           "ticks": "",
           "title": {
            "standoff": 15
           },
           "zerolinecolor": "white",
           "zerolinewidth": 2
          },
          "yaxis": {
           "automargin": true,
           "gridcolor": "white",
           "linecolor": "white",
           "ticks": "",
           "title": {
            "standoff": 15
           },
           "zerolinecolor": "white",
           "zerolinewidth": 2
          }
         }
        },
        "xaxis": {
         "autorange": true,
         "range": [
          -18.64850569039239,
          19.933531974852258
         ],
         "type": "linear"
        },
        "yaxis": {
         "autorange": true,
         "range": [
          -58183.222222222226,
          1105601.2222222222
         ],
         "type": "linear"
        }
       }
      },
      "image/png": "[encoded data removed]",
      "text/html": [
       "<div>                            <div id=\"f1f000bc-41a7-4a9d-92a0-7316cc186871\" class=\"plotly-graph-div\" style=\"height:525px; width:100%;\"></div>            <script type=\"text/javascript\">                require([\"plotly\"], function(Plotly) {                    window.PLOTLYENV=window.PLOTLYENV || {};                                    if (document.getElementById(\"f1f000bc-41a7-4a9d-92a0-7316cc186871\")) {                    Plotly.newPlot(                        \"f1f000bc-41a7-4a9d-92a0-7316cc186871\",                        [{\"name\":\"Histogram\",\"width\":[1.8275702051957996,1.8275702051957978,1.8275702051957996,1.8275702051957978,1.8275702051957996,1.8275702051957996,1.8275702051957978,1.8275702051957996,1.8275702051957996,1.8275702051957978,1.8275702051957978,1.8275702051958014,1.8275702051957978,1.8275702051957978,1.8275702051958014,1.8275702051957978,1.8275702051957978,1.8275702051958014,1.8275702051957978,1.8275702051957978],\"x\":[-16.719403807130156,-14.891833601934357,-13.064263396738557,-11.23669319154276,-9.409122986346961,-7.581552781151161,-5.753982575955362,-3.9264123707595635,-2.098842165563764,-0.2712719603679652,1.5562982448278326,3.3838684500236322,5.211438655219432,7.03900886041523,8.86657906561103,10.694149270806829,12.521719476002627,14.349289681198426,16.176859886394226,18.004430091590024],\"y\":[94,3640,18623,46360,82125,117976,169223,270204,636782,1047412,991933,287808,136270,78460,37735,12773,3421,586,101,6],\"type\":\"bar\"},{\"mode\":\"text\",\"text\":[\"94\"],\"x\":[-16.719403807130156],\"y\":[94],\"type\":\"scatter\"},{\"mode\":\"text\",\"text\":[\"3640\"],\"x\":[-14.891833601934357],\"y\":[3640],\"type\":\"scatter\"},{\"mode\":\"text\",\"text\":[\"18623\"],\"x\":[-13.064263396738557],\"y\":[18623],\"type\":\"scatter\"},{\"mode\":\"text\",\"text\":[\"46360\"],\"x\":[-11.23669319154276],\"y\":[46360],\"type\":\"scatter\"},{\"mode\":\"text\",\"text\":[\"82125\"],\"x\":[-9.409122986346961],\"y\":[82125],\"type\":\"scatter\"},{\"mode\":\"text\",\"text\":[\"117976\"],\"x\":[-7.581552781151161],\"y\":[117976],\"type\":\"scatter\"},{\"mode\":\"text\",\"text\":[\"169223\"],\"x\":[-5.753982575955362],\"y\":[169223],\"type\":\"scatter\"},{\"mode\":\"text\",\"text\":[\"270204\"],\"x\":[-3.9264123707595635],\"y\":[270204],\"type\":\"scatter\"},{\"mode\":\"text\",\"text\":[\"636782\"],\"x\":[-2.098842165563764],\"y\":[636782],\"type\":\"scatter\"},{\"mode\":\"text\",\"text\":[\"1047412\"],\"x\":[-0.2712719603679652],\"y\":[1047412],\"type\":\"scatter\"},{\"mode\":\"text\",\"text\":[\"991933\"],\"x\":[1.5562982448278326],\"y\":[991933],\"type\":\"scatter\"},{\"mode\":\"text\",\"text\":[\"287808\"],\"x\":[3.3838684500236322],\"y\":[287808],\"type\":\"scatter\"},{\"mode\":\"text\",\"text\":[\"136270\"],\"x\":[5.211438655219432],\"y\":[136270],\"type\":\"scatter\"},{\"mode\":\"text\",\"text\":[\"78460\"],\"x\":[7.03900886041523],\"y\":[78460],\"type\":\"scatter\"},{\"mode\":\"text\",\"text\":[\"37735\"],\"x\":[8.86657906561103],\"y\":[37735],\"type\":\"scatter\"},{\"mode\":\"text\",\"text\":[\"12773\"],\"x\":[10.694149270806829],\"y\":[12773],\"type\":\"scatter\"},{\"mode\":\"text\",\"text\":[\"3421\"],\"x\":[12.521719476002627],\"y\":[3421],\"type\":\"scatter\"},{\"mode\":\"text\",\"text\":[\"586\"],\"x\":[14.349289681198426],\"y\":[586],\"type\":\"scatter\"},{\"mode\":\"text\",\"text\":[\"101\"],\"x\":[16.176859886394226],\"y\":[101],\"type\":\"scatter\"},{\"mode\":\"text\",\"text\":[\"6\"],\"x\":[18.004430091590024],\"y\":[6],\"type\":\"scatter\"}],                        {\"template\":{\"data\":{\"histogram2dcontour\":[{\"type\":\"histogram2dcontour\",\"colorbar\":{\"outlinewidth\":0,\"ticks\":\"\"},\"colorscale\":[[0.0,\"#0d0887\"],[0.1111111111111111,\"#46039f\"],[0.2222222222222222,\"#7201a8\"],[0.3333333333333333,\"#9c179e\"],[0.4444444444444444,\"#bd3786\"],[0.5555555555555556,\"#d8576b\"],[0.6666666666666666,\"#ed7953\"],[0.7777777777777778,\"#fb9f3a\"],[0.8888888888888888,\"#fdca26\"],[1.0,\"#f0f921\"]]}],\"choropleth\":[{\"type\":\"choropleth\",\"colorbar\":{\"outlinewidth\":0,\"ticks\":\"\"}}],\"histogram2d\":[{\"type\":\"histogram2d\",\"colorbar\":{\"outlinewidth\":0,\"ticks\":\"\"},\"colorscale\":[[0.0,\"#0d0887\"],[0.1111111111111111,\"#46039f\"],[0.2222222222222222,\"#7201a8\"],[0.3333333333333333,\"#9c179e\"],[0.4444444444444444,\"#bd3786\"],[0.5555555555555556,\"#d8576b\"],[0.6666666666666666,\"#ed7953\"],[0.7777777777777778,\"#fb9f3a\"],[0.8888888888888888,\"#fdca26\"],[1.0,\"#f0f921\"]]}],\"heatmap\":[{\"type\":\"heatmap\",\"colorbar\":{\"outlinewidth\":0,\"ticks\":\"\"},\"colorscale\":[[0.0,\"#0d0887\"],[0.1111111111111111,\"#46039f\"],[0.2222222222222222,\"#7201a8\"],[0.3333333333333333,\"#9c179e\"],[0.4444444444444444,\"#bd3786\"],[0.5555555555555556,\"#d8576b\"],[0.6666666666666666,\"#ed7953\"],[0.7777777777777778,\"#fb9f3a\"],[0.8888888888888888,\"#fdca26\"],[1.0,\"#f0f921\"]]}],\"heatmapgl\":[{\"type\":\"heatmapgl\",\"colorbar\":{\"outlinewidth\":0,\"ticks\":\"\"},\"colorscale\":[[0.0,\"#0d0887\"],[0.1111111111111111,\"#46039f\"],[0.2222222222222222,\"#7201a8\"],[0.3333333333333333,\"#9c179e\"],[0.4444444444444444,\"#bd3786\"],[0.5555555555555556,\"#d8576b\"],[0.6666666666666666,\"#ed7953\"],[0.7777777777777778,\"#fb9f3a\"],[0.8888888888888888,\"#fdca26\"],[1.0,\"#f0f921\"]]}],\"contourcarpet\":[{\"type\":\"contourcarpet\",\"colorbar\":{\"outlinewidth\":0,\"ticks\":\"\"}}],\"contour\":[{\"type\":\"contour\",\"colorbar\":{\"outlinewidth\":0,\"ticks\":\"\"},\"colorscale\":[[0.0,\"#0d0887\"],[0.1111111111111111,\"#46039f\"],[0.2222222222222222,\"#7201a8\"],[0.3333333333333333,\"#9c179e\"],[0.4444444444444444,\"#bd3786\"],[0.5555555555555556,\"#d8576b\"],[0.6666666666666666,\"#ed7953\"],[0.7777777777777778,\"#fb9f3a\"],[0.8888888888888888,\"#fdca26\"],[1.0,\"#f0f921\"]]}],\"surface\":[{\"type\":\"surface\",\"colorbar\":{\"outlinewidth\":0,\"ticks\":\"\"},\"colorscale\":[[0.0,\"#0d0887\"],[0.1111111111111111,\"#46039f\"],[0.2222222222222222,\"#7201a8\"],[0.3333333333333333,\"#9c179e\"],[0.4444444444444444,\"#bd3786\"],[0.5555555555555556,\"#d8576b\"],[0.6666666666666666,\"#ed7953\"],[0.7777777777777778,\"#fb9f3a\"],[0.8888888888888888,\"#fdca26\"],[1.0,\"#f0f921\"]]}],\"mesh3d\":[{\"type\":\"mesh3d\",\"colorbar\":{\"outlinewidth\":0,\"ticks\":\"\"}}],\"scatter\":[{\"fillpattern\":{\"fillmode\":\"overlay\",\"size\":10,\"solidity\":0.2},\"type\":\"scatter\"}],\"parcoords\":[{\"type\":\"parcoords\",\"line\":{\"colorbar\":{\"outlinewidth\":0,\"ticks\":\"\"}}}],\"scatterpolargl\":[{\"type\":\"scatterpolargl\",\"marker\":{\"colorbar\":{\"outlinewidth\":0,\"ticks\":\"\"}}}],\"bar\":[{\"error_x\":{\"color\":\"#2a3f5f\"},\"error_y\":{\"color\":\"#2a3f5f\"},\"marker\":{\"line\":{\"color\":\"#E5ECF6\",\"width\":0.5},\"pattern\":{\"fillmode\":\"overlay\",\"size\":10,\"solidity\":0.2}},\"type\":\"bar\"}],\"scattergeo\":[{\"type\":\"scattergeo\",\"marker\":{\"colorbar\":{\"outlinewidth\":0,\"ticks\":\"\"}}}],\"scatterpolar\":[{\"type\":\"scatterpolar\",\"marker\":{\"colorbar\":{\"outlinewidth\":0,\"ticks\":\"\"}}}],\"histogram\":[{\"marker\":{\"pattern\":{\"fillmode\":\"overlay\",\"size\":10,\"solidity\":0.2}},\"type\":\"histogram\"}],\"scattergl\":[{\"type\":\"scattergl\",\"marker\":{\"colorbar\":{\"outlinewidth\":0,\"ticks\":\"\"}}}],\"scatter3d\":[{\"type\":\"scatter3d\",\"line\":{\"colorbar\":{\"outlinewidth\":0,\"ticks\":\"\"}},\"marker\":{\"colorbar\":{\"outlinewidth\":0,\"ticks\":\"\"}}}],\"scattermapbox\":[{\"type\":\"scattermapbox\",\"marker\":{\"colorbar\":{\"outlinewidth\":0,\"ticks\":\"\"}}}],\"scatterternary\":[{\"type\":\"scatterternary\",\"marker\":{\"colorbar\":{\"outlinewidth\":0,\"ticks\":\"\"}}}],\"scattercarpet\":[{\"type\":\"scattercarpet\",\"marker\":{\"colorbar\":{\"outlinewidth\":0,\"ticks\":\"\"}}}],\"carpet\":[{\"aaxis\":{\"endlinecolor\":\"#2a3f5f\",\"gridcolor\":\"white\",\"linecolor\":\"white\",\"minorgridcolor\":\"white\",\"startlinecolor\":\"#2a3f5f\"},\"baxis\":{\"endlinecolor\":\"#2a3f5f\",\"gridcolor\":\"white\",\"linecolor\":\"white\",\"minorgridcolor\":\"white\",\"startlinecolor\":\"#2a3f5f\"},\"type\":\"carpet\"}],\"table\":[{\"cells\":{\"fill\":{\"color\":\"#EBF0F8\"},\"line\":{\"color\":\"white\"}},\"header\":{\"fill\":{\"color\":\"#C8D4E3\"},\"line\":{\"color\":\"white\"}},\"type\":\"table\"}],\"barpolar\":[{\"marker\":{\"line\":{\"color\":\"#E5ECF6\",\"width\":0.5},\"pattern\":{\"fillmode\":\"overlay\",\"size\":10,\"solidity\":0.2}},\"type\":\"barpolar\"}],\"pie\":[{\"automargin\":true,\"type\":\"pie\"}]},\"layout\":{\"autotypenumbers\":\"strict\",\"colorway\":[\"#636efa\",\"#EF553B\",\"#00cc96\",\"#ab63fa\",\"#FFA15A\",\"#19d3f3\",\"#FF6692\",\"#B6E880\",\"#FF97FF\",\"#FECB52\"],\"font\":{\"color\":\"#2a3f5f\"},\"hovermode\":\"closest\",\"hoverlabel\":{\"align\":\"left\"},\"paper_bgcolor\":\"white\",\"plot_bgcolor\":\"#E5ECF6\",\"polar\":{\"bgcolor\":\"#E5ECF6\",\"angularaxis\":{\"gridcolor\":\"white\",\"linecolor\":\"white\",\"ticks\":\"\"},\"radialaxis\":{\"gridcolor\":\"white\",\"linecolor\":\"white\",\"ticks\":\"\"}},\"ternary\":{\"bgcolor\":\"#E5ECF6\",\"aaxis\":{\"gridcolor\":\"white\",\"linecolor\":\"white\",\"ticks\":\"\"},\"baxis\":{\"gridcolor\":\"white\",\"linecolor\":\"white\",\"ticks\":\"\"},\"caxis\":{\"gridcolor\":\"white\",\"linecolor\":\"white\",\"ticks\":\"\"}},\"coloraxis\":{\"colorbar\":{\"outlinewidth\":0,\"ticks\":\"\"}},\"colorscale\":{\"sequential\":[[0.0,\"#0d0887\"],[0.1111111111111111,\"#46039f\"],[0.2222222222222222,\"#7201a8\"],[0.3333333333333333,\"#9c179e\"],[0.4444444444444444,\"#bd3786\"],[0.5555555555555556,\"#d8576b\"],[0.6666666666666666,\"#ed7953\"],[0.7777777777777778,\"#fb9f3a\"],[0.8888888888888888,\"#fdca26\"],[1.0,\"#f0f921\"]],\"sequentialminus\":[[0.0,\"#0d0887\"],[0.1111111111111111,\"#46039f\"],[0.2222222222222222,\"#7201a8\"],[0.3333333333333333,\"#9c179e\"],[0.4444444444444444,\"#bd3786\"],[0.5555555555555556,\"#d8576b\"],[0.6666666666666666,\"#ed7953\"],[0.7777777777777778,\"#fb9f3a\"],[0.8888888888888888,\"#fdca26\"],[1.0,\"#f0f921\"]],\"diverging\":[[0,\"#8e0152\"],[0.1,\"#c51b7d\"],[0.2,\"#de77ae\"],[0.3,\"#f1b6da\"],[0.4,\"#fde0ef\"],[0.5,\"#f7f7f7\"],[0.6,\"#e6f5d0\"],[0.7,\"#b8e186\"],[0.8,\"#7fbc41\"],[0.9,\"#4d9221\"],[1,\"#276419\"]]},\"xaxis\":{\"gridcolor\":\"white\",\"linecolor\":\"white\",\"ticks\":\"\",\"title\":{\"standoff\":15},\"zerolinecolor\":\"white\",\"automargin\":true,\"zerolinewidth\":2},\"yaxis\":{\"gridcolor\":\"white\",\"linecolor\":\"white\",\"ticks\":\"\",\"title\":{\"standoff\":15},\"zerolinecolor\":\"white\",\"automargin\":true,\"zerolinewidth\":2},\"scene\":{\"xaxis\":{\"backgroundcolor\":\"#E5ECF6\",\"gridcolor\":\"white\",\"linecolor\":\"white\",\"showbackground\":true,\"ticks\":\"\",\"zerolinecolor\":\"white\",\"gridwidth\":2},\"yaxis\":{\"backgroundcolor\":\"#E5ECF6\",\"gridcolor\":\"white\",\"linecolor\":\"white\",\"showbackground\":true,\"ticks\":\"\",\"zerolinecolor\":\"white\",\"gridwidth\":2},\"zaxis\":{\"backgroundcolor\":\"#E5ECF6\",\"gridcolor\":\"white\",\"linecolor\":\"white\",\"showbackground\":true,\"ticks\":\"\",\"zerolinecolor\":\"white\",\"gridwidth\":2}},\"shapedefaults\":{\"line\":{\"color\":\"#2a3f5f\"}},\"annotationdefaults\":{\"arrowcolor\":\"#2a3f5f\",\"arrowhead\":0,\"arrowwidth\":1},\"geo\":{\"bgcolor\":\"white\",\"landcolor\":\"#E5ECF6\",\"subunitcolor\":\"white\",\"showland\":true,\"showlakes\":true,\"lakecolor\":\"white\"},\"title\":{\"x\":0.05},\"mapbox\":{\"style\":\"light\"}}}},                        {\"responsive\": true}                    ).then(function(){\n",
       "                            \n",
       "var gd = document.getElementById('f1f000bc-41a7-4a9d-92a0-7316cc186871');\n",
       "var x = new MutationObserver(function (mutations, observer) {{\n",
       "        var display = window.getComputedStyle(gd).display;\n",
       "        if (!display || display === 'none') {{\n",
       "            console.log([gd, 'removed!']);\n",
       "            Plotly.purge(gd);\n",
       "            observer.disconnect();\n",
       "        }}\n",
       "}});\n",
       "\n",
       "// Listen for the removal of the full notebook cells\n",
       "var notebookContainer = gd.closest('#notebook-container');\n",
       "if (notebookContainer) {{\n",
       "    x.observe(notebookContainer, {childList: true});\n",
       "}}\n",
       "\n",
       "// Listen for the clearing of the current output cell\n",
       "var outputEl = gd.closest('.output');\n",
       "if (outputEl) {{\n",
       "    x.observe(outputEl, {childList: true});\n",
       "}}\n",
       "\n",
       "                        })                };                });            </script>        </div>"
      ]
     },
     "metadata": {},
     "output_type": "display_data"
    }
   ],
   "source": [
    "# Plot the figure\n",
    "counts, bins = np.histogram(df_interest['LogOddRatio'], bins=20)\n",
    "bin_midpoints = bins[:-1] + np.diff(bins)/2\n",
    "\n",
    "fig = go.Figure()\n",
    "\n",
    "fig.add_trace(go.Bar(\n",
    "    x=bin_midpoints,\n",
    "    y=counts,\n",
    "    width=np.diff(bins), # makes bars have correct widths\n",
    "    name='Histogram'\n",
    "))\n",
    "# add text labels for counts\n",
    "for i in range(len(counts)):\n",
    "    fig.add_trace(go.Scatter(\n",
    "        x=[bin_midpoints[i]],\n",
    "        y=[counts[i]],\n",
    "        text=[str(counts[i])],\n",
    "        mode='text',\n",
    "    ))\n",
    "fig.show()"
   ]
  },
  {
   "cell_type": "code",
   "execution_count": 51,
   "id": "ec00efd3-a0b0-4a8a-bdc8-34e6b5b4a42f",
   "metadata": {},
   "outputs": [
    {
     "data": {
      "application/vnd.plotly.v1+json": {
       "config": {
        "plotlyServerURL": "https://plot.ly"
       },
       "data": [
        {
         "name": "Histogram",
         "type": "bar",
         "width": [
          0.04971052320596614,
          0.04971052320596625,
          0.04971052320596614,
          0.04971052320596614,
          0.04971052320596625,
          0.04971052320596614,
          0.04971052320596614,
          0.04971052320596625,
          0.04971052320596614,
          0.04971052320596614,
          0.04971052320596614,
          0.04971052320596625,
          0.04971052320596614,
          0.04971052320596614,
          0.04971052320596625,
          0.04971052320596614,
          0.04971052320596614,
          0.04971052320596625,
          0.04971052320596614,
          0.04971052320596614,
          0.04971052320596625,
          0.04971052320596603,
          0.04971052320596625,
          0.04971052320596625,
          0.04971052320596603,
          0.04971052320596625,
          0.04971052320596625,
          0.04971052320596603,
          0.04971052320596625,
          0.04971052320596625,
          0.04971052320596603,
          0.04971052320596625,
          0.04971052320596625,
          0.04971052320596603,
          0.04971052320596625,
          0.04971052320596625,
          0.04971052320596603,
          0.04971052320596625,
          0.04971052320596625,
          0.04971052320596603
         ],
         "x": [
          -0.9709188243496385,
          -0.9212083011436722,
          -0.871497777937706,
          -0.82178725473174,
          -0.7720767315257737,
          -0.7223662083198075,
          -0.6726556851138414,
          -0.6229451619078752,
          -0.5732346387019089,
          -0.5235241154959429,
          -0.4738135922899767,
          -0.4241030690840105,
          -0.3743925458780443,
          -0.3246820226720782,
          -0.274971499466112,
          -0.2252609762601458,
          -0.17555045305417966,
          -0.12583992984821346,
          -0.07612940664224727,
          -0.026418883436281126,
          0.02329163976968507,
          0.07300216297565121,
          0.12271268618161735,
          0.1724232093875836,
          0.22213373259354974,
          0.2718442557995159,
          0.3215547790054821,
          0.37126530221144827,
          0.4209758254174144,
          0.47068634862338066,
          0.5203968718293468,
          0.5701073950353129,
          0.6198179182412792,
          0.6695284414472453,
          0.7192389646532115,
          0.7689494878591777,
          0.8186600110651439,
          0.86837053427111,
          0.9180810574770762,
          0.9677915806830424
         ],
         "y": [
          2489,
          8336,
          12367,
          15966,
          19316,
          22687,
          23147,
          25588,
          33003,
          39669,
          47320,
          50608,
          64634,
          81232,
          114619,
          159565,
          213898,
          302270,
          391218,
          308841,
          234185,
          319106,
          253406,
          196748,
          159030,
          126513,
          99646,
          78194,
          67403,
          60470,
          58895,
          52340,
          46095,
          40918,
          37773,
          37323,
          36744,
          35701,
          39717,
          24552
         ]
        },
        {
         "mode": "text",
         "text": [
          "2489"
         ],
         "type": "scatter",
         "x": [
          -0.9709188243496385
         ],
         "y": [
          2489
         ]
        },
        {
         "mode": "text",
         "text": [
          "8336"
         ],
         "type": "scatter",
         "x": [
          -0.9212083011436722
         ],
         "y": [
          8336
         ]
        },
        {
         "mode": "text",
         "text": [
          "12367"
         ],
         "type": "scatter",
         "x": [
          -0.871497777937706
         ],
         "y": [
          12367
         ]
        },
        {
         "mode": "text",
         "text": [
          "15966"
         ],
         "type": "scatter",
         "x": [
          -0.82178725473174
         ],
         "y": [
          15966
         ]
        },
        {
         "mode": "text",
         "text": [
          "19316"
         ],
         "type": "scatter",
         "x": [
          -0.7720767315257737
         ],
         "y": [
          19316
         ]
        },
        {
         "mode": "text",
         "text": [
          "22687"
         ],
         "type": "scatter",
         "x": [
          -0.7223662083198075
         ],
         "y": [
          22687
         ]
        },
        {
         "mode": "text",
         "text": [
          "23147"
         ],
         "type": "scatter",
         "x": [
          -0.6726556851138414
         ],
         "y": [
          23147
         ]
        },
        {
         "mode": "text",
         "text": [
          "25588"
         ],
         "type": "scatter",
         "x": [
          -0.6229451619078752
         ],
         "y": [
          25588
         ]
        },
        {
         "mode": "text",
         "text": [
          "33003"
         ],
         "type": "scatter",
         "x": [
          -0.5732346387019089
         ],
         "y": [
          33003
         ]
        },
        {
         "mode": "text",
         "text": [
          "39669"
         ],
         "type": "scatter",
         "x": [
          -0.5235241154959429
         ],
         "y": [
          39669
         ]
        },
        {
         "mode": "text",
         "text": [
          "47320"
         ],
         "type": "scatter",
         "x": [
          -0.4738135922899767
         ],
         "y": [
          47320
         ]
        },
        {
         "mode": "text",
         "text": [
          "50608"
         ],
         "type": "scatter",
         "x": [
          -0.4241030690840105
         ],
         "y": [
          50608
         ]
        },
        {
         "mode": "text",
         "text": [
          "64634"
         ],
         "type": "scatter",
         "x": [
          -0.3743925458780443
         ],
         "y": [
          64634
         ]
        },
        {
         "mode": "text",
         "text": [
          "81232"
         ],
         "type": "scatter",
         "x": [
          -0.3246820226720782
         ],
         "y": [
          81232
         ]
        },
        {
         "mode": "text",
         "text": [
          "114619"
         ],
         "type": "scatter",
         "x": [
          -0.274971499466112
         ],
         "y": [
          114619
         ]
        },
        {
         "mode": "text",
         "text": [
          "159565"
         ],
         "type": "scatter",
         "x": [
          -0.2252609762601458
         ],
         "y": [
          159565
         ]
        },
        {
         "mode": "text",
         "text": [
          "213898"
         ],
         "type": "scatter",
         "x": [
          -0.17555045305417966
         ],
         "y": [
          213898
         ]
        },
        {
         "mode": "text",
         "text": [
          "302270"
         ],
         "type": "scatter",
         "x": [
          -0.12583992984821346
         ],
         "y": [
          302270
         ]
        },
        {
         "mode": "text",
         "text": [
          "391218"
         ],
         "type": "scatter",
         "x": [
          -0.07612940664224727
         ],
         "y": [
          391218
         ]
        },
        {
         "mode": "text",
         "text": [
          "308841"
         ],
         "type": "scatter",
         "x": [
          -0.026418883436281126
         ],
         "y": [
          308841
         ]
        },
        {
         "mode": "text",
         "text": [
          "234185"
         ],
         "type": "scatter",
         "x": [
          0.02329163976968507
         ],
         "y": [
          234185
         ]
        },
        {
         "mode": "text",
         "text": [
          "319106"
         ],
         "type": "scatter",
         "x": [
          0.07300216297565121
         ],
         "y": [
          319106
         ]
        },
        {
         "mode": "text",
         "text": [
          "253406"
         ],
         "type": "scatter",
         "x": [
          0.12271268618161735
         ],
         "y": [
          253406
         ]
        },
        {
         "mode": "text",
         "text": [
          "196748"
         ],
         "type": "scatter",
         "x": [
          0.1724232093875836
         ],
         "y": [
          196748
         ]
        },
        {
         "mode": "text",
         "text": [
          "159030"
         ],
         "type": "scatter",
         "x": [
          0.22213373259354974
         ],
         "y": [
          159030
         ]
        },
        {
         "mode": "text",
         "text": [
          "126513"
         ],
         "type": "scatter",
         "x": [
          0.2718442557995159
         ],
         "y": [
          126513
         ]
        },
        {
         "mode": "text",
         "text": [
          "99646"
         ],
         "type": "scatter",
         "x": [
          0.3215547790054821
         ],
         "y": [
          99646
         ]
        },
        {
         "mode": "text",
         "text": [
          "78194"
         ],
         "type": "scatter",
         "x": [
          0.37126530221144827
         ],
         "y": [
          78194
         ]
        },
        {
         "mode": "text",
         "text": [
          "67403"
         ],
         "type": "scatter",
         "x": [
          0.4209758254174144
         ],
         "y": [
          67403
         ]
        },
        {
         "mode": "text",
         "text": [
          "60470"
         ],
         "type": "scatter",
         "x": [
          0.47068634862338066
         ],
         "y": [
          60470
         ]
        },
        {
         "mode": "text",
         "text": [
          "58895"
         ],
         "type": "scatter",
         "x": [
          0.5203968718293468
         ],
         "y": [
          58895
         ]
        },
        {
         "mode": "text",
         "text": [
          "52340"
         ],
         "type": "scatter",
         "x": [
          0.5701073950353129
         ],
         "y": [
          52340
         ]
        },
        {
         "mode": "text",
         "text": [
          "46095"
         ],
         "type": "scatter",
         "x": [
          0.6198179182412792
         ],
         "y": [
          46095
         ]
        },
        {
         "mode": "text",
         "text": [
          "40918"
         ],
         "type": "scatter",
         "x": [
          0.6695284414472453
         ],
         "y": [
          40918
         ]
        },
        {
         "mode": "text",
         "text": [
          "37773"
         ],
         "type": "scatter",
         "x": [
          0.7192389646532115
         ],
         "y": [
          37773
         ]
        },
        {
         "mode": "text",
         "text": [
          "37323"
         ],
         "type": "scatter",
         "x": [
          0.7689494878591777
         ],
         "y": [
          37323
         ]
        },
        {
         "mode": "text",
         "text": [
          "36744"
         ],
         "type": "scatter",
         "x": [
          0.8186600110651439
         ],
         "y": [
          36744
         ]
        },
        {
         "mode": "text",
         "text": [
          "35701"
         ],
         "type": "scatter",
         "x": [
          0.86837053427111
         ],
         "y": [
          35701
         ]
        },
        {
         "mode": "text",
         "text": [
          "39717"
         ],
         "type": "scatter",
         "x": [
          0.9180810574770762
         ],
         "y": [
          39717
         ]
        },
        {
         "mode": "text",
         "text": [
          "24552"
         ],
         "type": "scatter",
         "x": [
          0.9677915806830424
         ],
         "y": [
          24552
         ]
        }
       ],
       "layout": {
        "autosize": true,
        "template": {
         "data": {
          "bar": [
           {
            "error_x": {
             "color": "#2a3f5f"
            },
            "error_y": {
             "color": "#2a3f5f"
            },
            "marker": {
             "line": {
              "color": "#E5ECF6",
              "width": 0.5
             },
             "pattern": {
              "fillmode": "overlay",
              "size": 10,
              "solidity": 0.2
             }
            },
            "type": "bar"
           }
          ],
          "barpolar": [
           {
            "marker": {
             "line": {
              "color": "#E5ECF6",
              "width": 0.5
             },
             "pattern": {
              "fillmode": "overlay",
              "size": 10,
              "solidity": 0.2
             }
            },
            "type": "barpolar"
           }
          ],
          "carpet": [
           {
            "aaxis": {
             "endlinecolor": "#2a3f5f",
             "gridcolor": "white",
             "linecolor": "white",
             "minorgridcolor": "white",
             "startlinecolor": "#2a3f5f"
            },
            "baxis": {
             "endlinecolor": "#2a3f5f",
             "gridcolor": "white",
             "linecolor": "white",
             "minorgridcolor": "white",
             "startlinecolor": "#2a3f5f"
            },
            "type": "carpet"
           }
          ],
          "choropleth": [
           {
            "colorbar": {
             "outlinewidth": 0,
             "ticks": ""
            },
            "type": "choropleth"
           }
          ],
          "contour": [
           {
            "colorbar": {
             "outlinewidth": 0,
             "ticks": ""
            },
            "colorscale": [
             [
              0,
              "#0d0887"
             ],
             [
              0.1111111111111111,
              "#46039f"
             ],
             [
              0.2222222222222222,
              "#7201a8"
             ],
             [
              0.3333333333333333,
              "#9c179e"
             ],
             [
              0.4444444444444444,
              "#bd3786"
             ],
             [
              0.5555555555555556,
              "#d8576b"
             ],
             [
              0.6666666666666666,
              "#ed7953"
             ],
             [
              0.7777777777777778,
              "#fb9f3a"
             ],
             [
              0.8888888888888888,
              "#fdca26"
             ],
             [
              1,
              "#f0f921"
             ]
            ],
            "type": "contour"
           }
          ],
          "contourcarpet": [
           {
            "colorbar": {
             "outlinewidth": 0,
             "ticks": ""
            },
            "type": "contourcarpet"
           }
          ],
          "heatmap": [
           {
            "colorbar": {
             "outlinewidth": 0,
             "ticks": ""
            },
            "colorscale": [
             [
              0,
              "#0d0887"
             ],
             [
              0.1111111111111111,
              "#46039f"
             ],
             [
              0.2222222222222222,
              "#7201a8"
             ],
             [
              0.3333333333333333,
              "#9c179e"
             ],
             [
              0.4444444444444444,
              "#bd3786"
             ],
             [
              0.5555555555555556,
              "#d8576b"
             ],
             [
              0.6666666666666666,
              "#ed7953"
             ],
             [
              0.7777777777777778,
              "#fb9f3a"
             ],
             [
              0.8888888888888888,
              "#fdca26"
             ],
             [
              1,
              "#f0f921"
             ]
            ],
            "type": "heatmap"
           }
          ],
          "heatmapgl": [
           {
            "colorbar": {
             "outlinewidth": 0,
             "ticks": ""
            },
            "colorscale": [
             [
              0,
              "#0d0887"
             ],
             [
              0.1111111111111111,
              "#46039f"
             ],
             [
              0.2222222222222222,
              "#7201a8"
             ],
             [
              0.3333333333333333,
              "#9c179e"
             ],
             [
              0.4444444444444444,
              "#bd3786"
             ],
             [
              0.5555555555555556,
              "#d8576b"
             ],
             [
              0.6666666666666666,
              "#ed7953"
             ],
             [
              0.7777777777777778,
              "#fb9f3a"
             ],
             [
              0.8888888888888888,
              "#fdca26"
             ],
             [
              1,
              "#f0f921"
             ]
            ],
            "type": "heatmapgl"
           }
          ],
          "histogram": [
           {
            "marker": {
             "pattern": {
              "fillmode": "overlay",
              "size": 10,
              "solidity": 0.2
             }
            },
            "type": "histogram"
           }
          ],
          "histogram2d": [
           {
            "colorbar": {
             "outlinewidth": 0,
             "ticks": ""
            },
            "colorscale": [
             [
              0,
              "#0d0887"
             ],
             [
              0.1111111111111111,
              "#46039f"
             ],
             [
              0.2222222222222222,
              "#7201a8"
             ],
             [
              0.3333333333333333,
              "#9c179e"
             ],
             [
              0.4444444444444444,
              "#bd3786"
             ],
             [
              0.5555555555555556,
              "#d8576b"
             ],
             [
              0.6666666666666666,
              "#ed7953"
             ],
             [
              0.7777777777777778,
              "#fb9f3a"
             ],
             [
              0.8888888888888888,
              "#fdca26"
             ],
             [
              1,
              "#f0f921"
             ]
            ],
            "type": "histogram2d"
           }
          ],
          "histogram2dcontour": [
           {
            "colorbar": {
             "outlinewidth": 0,
             "ticks": ""
            },
            "colorscale": [
             [
              0,
              "#0d0887"
             ],
             [
              0.1111111111111111,
              "#46039f"
             ],
             [
              0.2222222222222222,
              "#7201a8"
             ],
             [
              0.3333333333333333,
              "#9c179e"
             ],
             [
              0.4444444444444444,
              "#bd3786"
             ],
             [
              0.5555555555555556,
              "#d8576b"
             ],
             [
              0.6666666666666666,
              "#ed7953"
             ],
             [
              0.7777777777777778,
              "#fb9f3a"
             ],
             [
              0.8888888888888888,
              "#fdca26"
             ],
             [
              1,
              "#f0f921"
             ]
            ],
            "type": "histogram2dcontour"
           }
          ],
          "mesh3d": [
           {
            "colorbar": {
             "outlinewidth": 0,
             "ticks": ""
            },
            "type": "mesh3d"
           }
          ],
          "parcoords": [
           {
            "line": {
             "colorbar": {
              "outlinewidth": 0,
              "ticks": ""
             }
            },
            "type": "parcoords"
           }
          ],
          "pie": [
           {
            "automargin": true,
            "type": "pie"
           }
          ],
          "scatter": [
           {
            "fillpattern": {
             "fillmode": "overlay",
             "size": 10,
             "solidity": 0.2
            },
            "type": "scatter"
           }
          ],
          "scatter3d": [
           {
            "line": {
             "colorbar": {
              "outlinewidth": 0,
              "ticks": ""
             }
            },
            "marker": {
             "colorbar": {
              "outlinewidth": 0,
              "ticks": ""
             }
            },
            "type": "scatter3d"
           }
          ],
          "scattercarpet": [
           {
            "marker": {
             "colorbar": {
              "outlinewidth": 0,
              "ticks": ""
             }
            },
            "type": "scattercarpet"
           }
          ],
          "scattergeo": [
           {
            "marker": {
             "colorbar": {
              "outlinewidth": 0,
              "ticks": ""
             }
            },
            "type": "scattergeo"
           }
          ],
          "scattergl": [
           {
            "marker": {
             "colorbar": {
              "outlinewidth": 0,
              "ticks": ""
             }
            },
            "type": "scattergl"
           }
          ],
          "scattermapbox": [
           {
            "marker": {
             "colorbar": {
              "outlinewidth": 0,
              "ticks": ""
             }
            },
            "type": "scattermapbox"
           }
          ],
          "scatterpolar": [
           {
            "marker": {
             "colorbar": {
              "outlinewidth": 0,
              "ticks": ""
             }
            },
            "type": "scatterpolar"
           }
          ],
          "scatterpolargl": [
           {
            "marker": {
             "colorbar": {
              "outlinewidth": 0,
              "ticks": ""
             }
            },
            "type": "scatterpolargl"
           }
          ],
          "scatterternary": [
           {
            "marker": {
             "colorbar": {
              "outlinewidth": 0,
              "ticks": ""
             }
            },
            "type": "scatterternary"
           }
          ],
          "surface": [
           {
            "colorbar": {
             "outlinewidth": 0,
             "ticks": ""
            },
            "colorscale": [
             [
              0,
              "#0d0887"
             ],
             [
              0.1111111111111111,
              "#46039f"
             ],
             [
              0.2222222222222222,
              "#7201a8"
             ],
             [
              0.3333333333333333,
              "#9c179e"
             ],
             [
              0.4444444444444444,
              "#bd3786"
             ],
             [
              0.5555555555555556,
              "#d8576b"
             ],
             [
              0.6666666666666666,
              "#ed7953"
             ],
             [
              0.7777777777777778,
              "#fb9f3a"
             ],
             [
              0.8888888888888888,
              "#fdca26"
             ],
             [
              1,
              "#f0f921"
             ]
            ],
            "type": "surface"
           }
          ],
          "table": [
           {
            "cells": {
             "fill": {
              "color": "#EBF0F8"
             },
             "line": {
              "color": "white"
             }
            },
            "header": {
             "fill": {
              "color": "#C8D4E3"
             },
             "line": {
              "color": "white"
             }
            },
            "type": "table"
           }
          ]
         },
         "layout": {
          "annotationdefaults": {
           "arrowcolor": "#2a3f5f",
           "arrowhead": 0,
           "arrowwidth": 1
          },
          "autotypenumbers": "strict",
          "coloraxis": {
           "colorbar": {
            "outlinewidth": 0,
            "ticks": ""
           }
          },
          "colorscale": {
           "diverging": [
            [
             0,
             "#8e0152"
            ],
            [
             0.1,
             "#c51b7d"
            ],
            [
             0.2,
             "#de77ae"
            ],
            [
             0.3,
             "#f1b6da"
            ],
            [
             0.4,
             "#fde0ef"
            ],
            [
             0.5,
             "#f7f7f7"
            ],
            [
             0.6,
             "#e6f5d0"
            ],
            [
             0.7,
             "#b8e186"
            ],
            [
             0.8,
             "#7fbc41"
            ],
            [
             0.9,
             "#4d9221"
            ],
            [
             1,
             "#276419"
            ]
           ],
           "sequential": [
            [
             0,
             "#0d0887"
            ],
            [
             0.1111111111111111,
             "#46039f"
            ],
            [
             0.2222222222222222,
             "#7201a8"
            ],
            [
             0.3333333333333333,
             "#9c179e"
            ],
            [
             0.4444444444444444,
             "#bd3786"
            ],
            [
             0.5555555555555556,
             "#d8576b"
            ],
            [
             0.6666666666666666,
             "#ed7953"
            ],
            [
             0.7777777777777778,
             "#fb9f3a"
            ],
            [
             0.8888888888888888,
             "#fdca26"
            ],
            [
             1,
             "#f0f921"
            ]
           ],
           "sequentialminus": [
            [
             0,
             "#0d0887"
            ],
            [
             0.1111111111111111,
             "#46039f"
            ],
            [
             0.2222222222222222,
             "#7201a8"
            ],
            [
             0.3333333333333333,
             "#9c179e"
            ],
            [
             0.4444444444444444,
             "#bd3786"
            ],
            [
             0.5555555555555556,
             "#d8576b"
            ],
            [
             0.6666666666666666,
             "#ed7953"
            ],
            [
             0.7777777777777778,
             "#fb9f3a"
            ],
            [
             0.8888888888888888,
             "#fdca26"
            ],
            [
             1,
             "#f0f921"
            ]
           ]
          },
          "colorway": [
           "#636efa",
           "#EF553B",
           "#00cc96",
           "#ab63fa",
           "#FFA15A",
           "#19d3f3",
           "#FF6692",
           "#B6E880",
           "#FF97FF",
           "#FECB52"
          ],
          "font": {
           "color": "#2a3f5f"
          },
          "geo": {
           "bgcolor": "white",
           "lakecolor": "white",
           "landcolor": "#E5ECF6",
           "showlakes": true,
           "showland": true,
           "subunitcolor": "white"
          },
          "hoverlabel": {
           "align": "left"
          },
          "hovermode": "closest",
          "mapbox": {
           "style": "light"
          },
          "paper_bgcolor": "white",
          "plot_bgcolor": "#E5ECF6",
          "polar": {
           "angularaxis": {
            "gridcolor": "white",
            "linecolor": "white",
            "ticks": ""
           },
           "bgcolor": "#E5ECF6",
           "radialaxis": {
            "gridcolor": "white",
            "linecolor": "white",
            "ticks": ""
           }
          },
          "scene": {
           "xaxis": {
            "backgroundcolor": "#E5ECF6",
            "gridcolor": "white",
            "gridwidth": 2,
            "linecolor": "white",
            "showbackground": true,
            "ticks": "",
            "zerolinecolor": "white"
           },
           "yaxis": {
            "backgroundcolor": "#E5ECF6",
            "gridcolor": "white",
            "gridwidth": 2,
            "linecolor": "white",
            "showbackground": true,
            "ticks": "",
            "zerolinecolor": "white"
           },
           "zaxis": {
            "backgroundcolor": "#E5ECF6",
            "gridcolor": "white",
            "gridwidth": 2,
            "linecolor": "white",
            "showbackground": true,
            "ticks": "",
            "zerolinecolor": "white"
           }
          },
          "shapedefaults": {
           "line": {
            "color": "#2a3f5f"
           }
          },
          "ternary": {
           "aaxis": {
            "gridcolor": "white",
            "linecolor": "white",
            "ticks": ""
           },
           "baxis": {
            "gridcolor": "white",
            "linecolor": "white",
            "ticks": ""
           },
           "bgcolor": "#E5ECF6",
           "caxis": {
            "gridcolor": "white",
            "linecolor": "white",
            "ticks": ""
           }
          },
          "title": {
           "x": 0.05
          },
          "xaxis": {
           "automargin": true,
           "gridcolor": "white",
           "linecolor": "white",
           "ticks": "",
           "title": {
            "standoff": 15
           },
           "zerolinecolor": "white",
           "zerolinewidth": 2
          },
          "yaxis": {
           "automargin": true,
           "gridcolor": "white",
           "linecolor": "white",
           "ticks": "",
           "title": {
            "standoff": 15
           },
           "zerolinecolor": "white",
           "zerolinewidth": 2
          }
         }
        },
        "xaxis": {
         "autorange": true,
         "range": [
          -1.0786249579625653,
          1.0754977142959692
         ],
         "type": "linear"
        },
        "yaxis": {
         "autorange": true,
         "range": [
          -19107.05555555556,
          412814.05555555556
         ],
         "type": "linear"
        }
       }
      },
      "image/png": "[encoded data removed]",
      "text/html": [
       "<div>                            <div id=\"d844f29a-ac44-4d74-ad5c-b68299c990ec\" class=\"plotly-graph-div\" style=\"height:525px; width:100%;\"></div>            <script type=\"text/javascript\">                require([\"plotly\"], function(Plotly) {                    window.PLOTLYENV=window.PLOTLYENV || {};                                    if (document.getElementById(\"d844f29a-ac44-4d74-ad5c-b68299c990ec\")) {                    Plotly.newPlot(                        \"d844f29a-ac44-4d74-ad5c-b68299c990ec\",                        [{\"name\":\"Histogram\",\"width\":[0.04971052320596614,0.04971052320596625,0.04971052320596614,0.04971052320596614,0.04971052320596625,0.04971052320596614,0.04971052320596614,0.04971052320596625,0.04971052320596614,0.04971052320596614,0.04971052320596614,0.04971052320596625,0.04971052320596614,0.04971052320596614,0.04971052320596625,0.04971052320596614,0.04971052320596614,0.04971052320596625,0.04971052320596614,0.04971052320596614,0.04971052320596625,0.04971052320596603,0.04971052320596625,0.04971052320596625,0.04971052320596603,0.04971052320596625,0.04971052320596625,0.04971052320596603,0.04971052320596625,0.04971052320596625,0.04971052320596603,0.04971052320596625,0.04971052320596625,0.04971052320596603,0.04971052320596625,0.04971052320596625,0.04971052320596603,0.04971052320596625,0.04971052320596625,0.04971052320596603],\"x\":[-0.9709188243496385,-0.9212083011436722,-0.871497777937706,-0.82178725473174,-0.7720767315257737,-0.7223662083198075,-0.6726556851138414,-0.6229451619078752,-0.5732346387019089,-0.5235241154959429,-0.4738135922899767,-0.4241030690840105,-0.3743925458780443,-0.3246820226720782,-0.274971499466112,-0.2252609762601458,-0.17555045305417966,-0.12583992984821346,-0.07612940664224727,-0.026418883436281126,0.02329163976968507,0.07300216297565121,0.12271268618161735,0.1724232093875836,0.22213373259354974,0.2718442557995159,0.3215547790054821,0.37126530221144827,0.4209758254174144,0.47068634862338066,0.5203968718293468,0.5701073950353129,0.6198179182412792,0.6695284414472453,0.7192389646532115,0.7689494878591777,0.8186600110651439,0.86837053427111,0.9180810574770762,0.9677915806830424],\"y\":[2489,8336,12367,15966,19316,22687,23147,25588,33003,39669,47320,50608,64634,81232,114619,159565,213898,302270,391218,308841,234185,319106,253406,196748,159030,126513,99646,78194,67403,60470,58895,52340,46095,40918,37773,37323,36744,35701,39717,24552],\"type\":\"bar\"},{\"mode\":\"text\",\"text\":[\"2489\"],\"x\":[-0.9709188243496385],\"y\":[2489],\"type\":\"scatter\"},{\"mode\":\"text\",\"text\":[\"8336\"],\"x\":[-0.9212083011436722],\"y\":[8336],\"type\":\"scatter\"},{\"mode\":\"text\",\"text\":[\"12367\"],\"x\":[-0.871497777937706],\"y\":[12367],\"type\":\"scatter\"},{\"mode\":\"text\",\"text\":[\"15966\"],\"x\":[-0.82178725473174],\"y\":[15966],\"type\":\"scatter\"},{\"mode\":\"text\",\"text\":[\"19316\"],\"x\":[-0.7720767315257737],\"y\":[19316],\"type\":\"scatter\"},{\"mode\":\"text\",\"text\":[\"22687\"],\"x\":[-0.7223662083198075],\"y\":[22687],\"type\":\"scatter\"},{\"mode\":\"text\",\"text\":[\"23147\"],\"x\":[-0.6726556851138414],\"y\":[23147],\"type\":\"scatter\"},{\"mode\":\"text\",\"text\":[\"25588\"],\"x\":[-0.6229451619078752],\"y\":[25588],\"type\":\"scatter\"},{\"mode\":\"text\",\"text\":[\"33003\"],\"x\":[-0.5732346387019089],\"y\":[33003],\"type\":\"scatter\"},{\"mode\":\"text\",\"text\":[\"39669\"],\"x\":[-0.5235241154959429],\"y\":[39669],\"type\":\"scatter\"},{\"mode\":\"text\",\"text\":[\"47320\"],\"x\":[-0.4738135922899767],\"y\":[47320],\"type\":\"scatter\"},{\"mode\":\"text\",\"text\":[\"50608\"],\"x\":[-0.4241030690840105],\"y\":[50608],\"type\":\"scatter\"},{\"mode\":\"text\",\"text\":[\"64634\"],\"x\":[-0.3743925458780443],\"y\":[64634],\"type\":\"scatter\"},{\"mode\":\"text\",\"text\":[\"81232\"],\"x\":[-0.3246820226720782],\"y\":[81232],\"type\":\"scatter\"},{\"mode\":\"text\",\"text\":[\"114619\"],\"x\":[-0.274971499466112],\"y\":[114619],\"type\":\"scatter\"},{\"mode\":\"text\",\"text\":[\"159565\"],\"x\":[-0.2252609762601458],\"y\":[159565],\"type\":\"scatter\"},{\"mode\":\"text\",\"text\":[\"213898\"],\"x\":[-0.17555045305417966],\"y\":[213898],\"type\":\"scatter\"},{\"mode\":\"text\",\"text\":[\"302270\"],\"x\":[-0.12583992984821346],\"y\":[302270],\"type\":\"scatter\"},{\"mode\":\"text\",\"text\":[\"391218\"],\"x\":[-0.07612940664224727],\"y\":[391218],\"type\":\"scatter\"},{\"mode\":\"text\",\"text\":[\"308841\"],\"x\":[-0.026418883436281126],\"y\":[308841],\"type\":\"scatter\"},{\"mode\":\"text\",\"text\":[\"234185\"],\"x\":[0.02329163976968507],\"y\":[234185],\"type\":\"scatter\"},{\"mode\":\"text\",\"text\":[\"319106\"],\"x\":[0.07300216297565121],\"y\":[319106],\"type\":\"scatter\"},{\"mode\":\"text\",\"text\":[\"253406\"],\"x\":[0.12271268618161735],\"y\":[253406],\"type\":\"scatter\"},{\"mode\":\"text\",\"text\":[\"196748\"],\"x\":[0.1724232093875836],\"y\":[196748],\"type\":\"scatter\"},{\"mode\":\"text\",\"text\":[\"159030\"],\"x\":[0.22213373259354974],\"y\":[159030],\"type\":\"scatter\"},{\"mode\":\"text\",\"text\":[\"126513\"],\"x\":[0.2718442557995159],\"y\":[126513],\"type\":\"scatter\"},{\"mode\":\"text\",\"text\":[\"99646\"],\"x\":[0.3215547790054821],\"y\":[99646],\"type\":\"scatter\"},{\"mode\":\"text\",\"text\":[\"78194\"],\"x\":[0.37126530221144827],\"y\":[78194],\"type\":\"scatter\"},{\"mode\":\"text\",\"text\":[\"67403\"],\"x\":[0.4209758254174144],\"y\":[67403],\"type\":\"scatter\"},{\"mode\":\"text\",\"text\":[\"60470\"],\"x\":[0.47068634862338066],\"y\":[60470],\"type\":\"scatter\"},{\"mode\":\"text\",\"text\":[\"58895\"],\"x\":[0.5203968718293468],\"y\":[58895],\"type\":\"scatter\"},{\"mode\":\"text\",\"text\":[\"52340\"],\"x\":[0.5701073950353129],\"y\":[52340],\"type\":\"scatter\"},{\"mode\":\"text\",\"text\":[\"46095\"],\"x\":[0.6198179182412792],\"y\":[46095],\"type\":\"scatter\"},{\"mode\":\"text\",\"text\":[\"40918\"],\"x\":[0.6695284414472453],\"y\":[40918],\"type\":\"scatter\"},{\"mode\":\"text\",\"text\":[\"37773\"],\"x\":[0.7192389646532115],\"y\":[37773],\"type\":\"scatter\"},{\"mode\":\"text\",\"text\":[\"37323\"],\"x\":[0.7689494878591777],\"y\":[37323],\"type\":\"scatter\"},{\"mode\":\"text\",\"text\":[\"36744\"],\"x\":[0.8186600110651439],\"y\":[36744],\"type\":\"scatter\"},{\"mode\":\"text\",\"text\":[\"35701\"],\"x\":[0.86837053427111],\"y\":[35701],\"type\":\"scatter\"},{\"mode\":\"text\",\"text\":[\"39717\"],\"x\":[0.9180810574770762],\"y\":[39717],\"type\":\"scatter\"},{\"mode\":\"text\",\"text\":[\"24552\"],\"x\":[0.9677915806830424],\"y\":[24552],\"type\":\"scatter\"}],                        {\"template\":{\"data\":{\"histogram2dcontour\":[{\"type\":\"histogram2dcontour\",\"colorbar\":{\"outlinewidth\":0,\"ticks\":\"\"},\"colorscale\":[[0.0,\"#0d0887\"],[0.1111111111111111,\"#46039f\"],[0.2222222222222222,\"#7201a8\"],[0.3333333333333333,\"#9c179e\"],[0.4444444444444444,\"#bd3786\"],[0.5555555555555556,\"#d8576b\"],[0.6666666666666666,\"#ed7953\"],[0.7777777777777778,\"#fb9f3a\"],[0.8888888888888888,\"#fdca26\"],[1.0,\"#f0f921\"]]}],\"choropleth\":[{\"type\":\"choropleth\",\"colorbar\":{\"outlinewidth\":0,\"ticks\":\"\"}}],\"histogram2d\":[{\"type\":\"histogram2d\",\"colorbar\":{\"outlinewidth\":0,\"ticks\":\"\"},\"colorscale\":[[0.0,\"#0d0887\"],[0.1111111111111111,\"#46039f\"],[0.2222222222222222,\"#7201a8\"],[0.3333333333333333,\"#9c179e\"],[0.4444444444444444,\"#bd3786\"],[0.5555555555555556,\"#d8576b\"],[0.6666666666666666,\"#ed7953\"],[0.7777777777777778,\"#fb9f3a\"],[0.8888888888888888,\"#fdca26\"],[1.0,\"#f0f921\"]]}],\"heatmap\":[{\"type\":\"heatmap\",\"colorbar\":{\"outlinewidth\":0,\"ticks\":\"\"},\"colorscale\":[[0.0,\"#0d0887\"],[0.1111111111111111,\"#46039f\"],[0.2222222222222222,\"#7201a8\"],[0.3333333333333333,\"#9c179e\"],[0.4444444444444444,\"#bd3786\"],[0.5555555555555556,\"#d8576b\"],[0.6666666666666666,\"#ed7953\"],[0.7777777777777778,\"#fb9f3a\"],[0.8888888888888888,\"#fdca26\"],[1.0,\"#f0f921\"]]}],\"heatmapgl\":[{\"type\":\"heatmapgl\",\"colorbar\":{\"outlinewidth\":0,\"ticks\":\"\"},\"colorscale\":[[0.0,\"#0d0887\"],[0.1111111111111111,\"#46039f\"],[0.2222222222222222,\"#7201a8\"],[0.3333333333333333,\"#9c179e\"],[0.4444444444444444,\"#bd3786\"],[0.5555555555555556,\"#d8576b\"],[0.6666666666666666,\"#ed7953\"],[0.7777777777777778,\"#fb9f3a\"],[0.8888888888888888,\"#fdca26\"],[1.0,\"#f0f921\"]]}],\"contourcarpet\":[{\"type\":\"contourcarpet\",\"colorbar\":{\"outlinewidth\":0,\"ticks\":\"\"}}],\"contour\":[{\"type\":\"contour\",\"colorbar\":{\"outlinewidth\":0,\"ticks\":\"\"},\"colorscale\":[[0.0,\"#0d0887\"],[0.1111111111111111,\"#46039f\"],[0.2222222222222222,\"#7201a8\"],[0.3333333333333333,\"#9c179e\"],[0.4444444444444444,\"#bd3786\"],[0.5555555555555556,\"#d8576b\"],[0.6666666666666666,\"#ed7953\"],[0.7777777777777778,\"#fb9f3a\"],[0.8888888888888888,\"#fdca26\"],[1.0,\"#f0f921\"]]}],\"surface\":[{\"type\":\"surface\",\"colorbar\":{\"outlinewidth\":0,\"ticks\":\"\"},\"colorscale\":[[0.0,\"#0d0887\"],[0.1111111111111111,\"#46039f\"],[0.2222222222222222,\"#7201a8\"],[0.3333333333333333,\"#9c179e\"],[0.4444444444444444,\"#bd3786\"],[0.5555555555555556,\"#d8576b\"],[0.6666666666666666,\"#ed7953\"],[0.7777777777777778,\"#fb9f3a\"],[0.8888888888888888,\"#fdca26\"],[1.0,\"#f0f921\"]]}],\"mesh3d\":[{\"type\":\"mesh3d\",\"colorbar\":{\"outlinewidth\":0,\"ticks\":\"\"}}],\"scatter\":[{\"fillpattern\":{\"fillmode\":\"overlay\",\"size\":10,\"solidity\":0.2},\"type\":\"scatter\"}],\"parcoords\":[{\"type\":\"parcoords\",\"line\":{\"colorbar\":{\"outlinewidth\":0,\"ticks\":\"\"}}}],\"scatterpolargl\":[{\"type\":\"scatterpolargl\",\"marker\":{\"colorbar\":{\"outlinewidth\":0,\"ticks\":\"\"}}}],\"bar\":[{\"error_x\":{\"color\":\"#2a3f5f\"},\"error_y\":{\"color\":\"#2a3f5f\"},\"marker\":{\"line\":{\"color\":\"#E5ECF6\",\"width\":0.5},\"pattern\":{\"fillmode\":\"overlay\",\"size\":10,\"solidity\":0.2}},\"type\":\"bar\"}],\"scattergeo\":[{\"type\":\"scattergeo\",\"marker\":{\"colorbar\":{\"outlinewidth\":0,\"ticks\":\"\"}}}],\"scatterpolar\":[{\"type\":\"scatterpolar\",\"marker\":{\"colorbar\":{\"outlinewidth\":0,\"ticks\":\"\"}}}],\"histogram\":[{\"marker\":{\"pattern\":{\"fillmode\":\"overlay\",\"size\":10,\"solidity\":0.2}},\"type\":\"histogram\"}],\"scattergl\":[{\"type\":\"scattergl\",\"marker\":{\"colorbar\":{\"outlinewidth\":0,\"ticks\":\"\"}}}],\"scatter3d\":[{\"type\":\"scatter3d\",\"line\":{\"colorbar\":{\"outlinewidth\":0,\"ticks\":\"\"}},\"marker\":{\"colorbar\":{\"outlinewidth\":0,\"ticks\":\"\"}}}],\"scattermapbox\":[{\"type\":\"scattermapbox\",\"marker\":{\"colorbar\":{\"outlinewidth\":0,\"ticks\":\"\"}}}],\"scatterternary\":[{\"type\":\"scatterternary\",\"marker\":{\"colorbar\":{\"outlinewidth\":0,\"ticks\":\"\"}}}],\"scattercarpet\":[{\"type\":\"scattercarpet\",\"marker\":{\"colorbar\":{\"outlinewidth\":0,\"ticks\":\"\"}}}],\"carpet\":[{\"aaxis\":{\"endlinecolor\":\"#2a3f5f\",\"gridcolor\":\"white\",\"linecolor\":\"white\",\"minorgridcolor\":\"white\",\"startlinecolor\":\"#2a3f5f\"},\"baxis\":{\"endlinecolor\":\"#2a3f5f\",\"gridcolor\":\"white\",\"linecolor\":\"white\",\"minorgridcolor\":\"white\",\"startlinecolor\":\"#2a3f5f\"},\"type\":\"carpet\"}],\"table\":[{\"cells\":{\"fill\":{\"color\":\"#EBF0F8\"},\"line\":{\"color\":\"white\"}},\"header\":{\"fill\":{\"color\":\"#C8D4E3\"},\"line\":{\"color\":\"white\"}},\"type\":\"table\"}],\"barpolar\":[{\"marker\":{\"line\":{\"color\":\"#E5ECF6\",\"width\":0.5},\"pattern\":{\"fillmode\":\"overlay\",\"size\":10,\"solidity\":0.2}},\"type\":\"barpolar\"}],\"pie\":[{\"automargin\":true,\"type\":\"pie\"}]},\"layout\":{\"autotypenumbers\":\"strict\",\"colorway\":[\"#636efa\",\"#EF553B\",\"#00cc96\",\"#ab63fa\",\"#FFA15A\",\"#19d3f3\",\"#FF6692\",\"#B6E880\",\"#FF97FF\",\"#FECB52\"],\"font\":{\"color\":\"#2a3f5f\"},\"hovermode\":\"closest\",\"hoverlabel\":{\"align\":\"left\"},\"paper_bgcolor\":\"white\",\"plot_bgcolor\":\"#E5ECF6\",\"polar\":{\"bgcolor\":\"#E5ECF6\",\"angularaxis\":{\"gridcolor\":\"white\",\"linecolor\":\"white\",\"ticks\":\"\"},\"radialaxis\":{\"gridcolor\":\"white\",\"linecolor\":\"white\",\"ticks\":\"\"}},\"ternary\":{\"bgcolor\":\"#E5ECF6\",\"aaxis\":{\"gridcolor\":\"white\",\"linecolor\":\"white\",\"ticks\":\"\"},\"baxis\":{\"gridcolor\":\"white\",\"linecolor\":\"white\",\"ticks\":\"\"},\"caxis\":{\"gridcolor\":\"white\",\"linecolor\":\"white\",\"ticks\":\"\"}},\"coloraxis\":{\"colorbar\":{\"outlinewidth\":0,\"ticks\":\"\"}},\"colorscale\":{\"sequential\":[[0.0,\"#0d0887\"],[0.1111111111111111,\"#46039f\"],[0.2222222222222222,\"#7201a8\"],[0.3333333333333333,\"#9c179e\"],[0.4444444444444444,\"#bd3786\"],[0.5555555555555556,\"#d8576b\"],[0.6666666666666666,\"#ed7953\"],[0.7777777777777778,\"#fb9f3a\"],[0.8888888888888888,\"#fdca26\"],[1.0,\"#f0f921\"]],\"sequentialminus\":[[0.0,\"#0d0887\"],[0.1111111111111111,\"#46039f\"],[0.2222222222222222,\"#7201a8\"],[0.3333333333333333,\"#9c179e\"],[0.4444444444444444,\"#bd3786\"],[0.5555555555555556,\"#d8576b\"],[0.6666666666666666,\"#ed7953\"],[0.7777777777777778,\"#fb9f3a\"],[0.8888888888888888,\"#fdca26\"],[1.0,\"#f0f921\"]],\"diverging\":[[0,\"#8e0152\"],[0.1,\"#c51b7d\"],[0.2,\"#de77ae\"],[0.3,\"#f1b6da\"],[0.4,\"#fde0ef\"],[0.5,\"#f7f7f7\"],[0.6,\"#e6f5d0\"],[0.7,\"#b8e186\"],[0.8,\"#7fbc41\"],[0.9,\"#4d9221\"],[1,\"#276419\"]]},\"xaxis\":{\"gridcolor\":\"white\",\"linecolor\":\"white\",\"ticks\":\"\",\"title\":{\"standoff\":15},\"zerolinecolor\":\"white\",\"automargin\":true,\"zerolinewidth\":2},\"yaxis\":{\"gridcolor\":\"white\",\"linecolor\":\"white\",\"ticks\":\"\",\"title\":{\"standoff\":15},\"zerolinecolor\":\"white\",\"automargin\":true,\"zerolinewidth\":2},\"scene\":{\"xaxis\":{\"backgroundcolor\":\"#E5ECF6\",\"gridcolor\":\"white\",\"linecolor\":\"white\",\"showbackground\":true,\"ticks\":\"\",\"zerolinecolor\":\"white\",\"gridwidth\":2},\"yaxis\":{\"backgroundcolor\":\"#E5ECF6\",\"gridcolor\":\"white\",\"linecolor\":\"white\",\"showbackground\":true,\"ticks\":\"\",\"zerolinecolor\":\"white\",\"gridwidth\":2},\"zaxis\":{\"backgroundcolor\":\"#E5ECF6\",\"gridcolor\":\"white\",\"linecolor\":\"white\",\"showbackground\":true,\"ticks\":\"\",\"zerolinecolor\":\"white\",\"gridwidth\":2}},\"shapedefaults\":{\"line\":{\"color\":\"#2a3f5f\"}},\"annotationdefaults\":{\"arrowcolor\":\"#2a3f5f\",\"arrowhead\":0,\"arrowwidth\":1},\"geo\":{\"bgcolor\":\"white\",\"landcolor\":\"#E5ECF6\",\"subunitcolor\":\"white\",\"showland\":true,\"showlakes\":true,\"lakecolor\":\"white\"},\"title\":{\"x\":0.05},\"mapbox\":{\"style\":\"light\"}}}},                        {\"responsive\": true}                    ).then(function(){\n",
       "                            \n",
       "var gd = document.getElementById('d844f29a-ac44-4d74-ad5c-b68299c990ec');\n",
       "var x = new MutationObserver(function (mutations, observer) {{\n",
       "        var display = window.getComputedStyle(gd).display;\n",
       "        if (!display || display === 'none') {{\n",
       "            console.log([gd, 'removed!']);\n",
       "            Plotly.purge(gd);\n",
       "            observer.disconnect();\n",
       "        }}\n",
       "}});\n",
       "\n",
       "// Listen for the removal of the full notebook cells\n",
       "var notebookContainer = gd.closest('#notebook-container');\n",
       "if (notebookContainer) {{\n",
       "    x.observe(notebookContainer, {childList: true});\n",
       "}}\n",
       "\n",
       "// Listen for the clearing of the current output cell\n",
       "var outputEl = gd.closest('.output');\n",
       "if (outputEl) {{\n",
       "    x.observe(outputEl, {childList: true});\n",
       "}}\n",
       "\n",
       "                        })                };                });            </script>        </div>"
      ]
     },
     "metadata": {},
     "output_type": "display_data"
    }
   ],
   "source": [
    "# Plot the figure\n",
    "counts, bins = np.histogram(df_interest['ScoreChange'], bins=40)\n",
    "bin_midpoints = bins[:-1] + np.diff(bins)/2\n",
    "\n",
    "fig = go.Figure()\n",
    "\n",
    "fig.add_trace(go.Bar(\n",
    "    x=bin_midpoints,\n",
    "    y=counts,\n",
    "    width=np.diff(bins), # makes bars have correct widths\n",
    "    name='Histogram'\n",
    "))\n",
    "# add text labels for counts\n",
    "for i in range(len(counts)):\n",
    "    fig.add_trace(go.Scatter(\n",
    "        x=[bin_midpoints[i]],\n",
    "        y=[counts[i]],\n",
    "        text=[str(counts[i])],\n",
    "        mode='text',\n",
    "    ))\n",
    "\n",
    "fig.show()"
   ]
  },
  {
   "cell_type": "code",
   "execution_count": 52,
   "id": "f215d629-2779-48c8-983f-5b4e5dc4ccb6",
   "metadata": {},
   "outputs": [
    {
     "data": {
      "application/vnd.plotly.v1+json": {
       "config": {
        "plotlyServerURL": "https://plot.ly"
       },
       "data": [
        {
         "name": "Histogram",
         "type": "bar",
         "width": [
          0.049815237522125244,
          0.04981517791748047,
          0.049815237522125244,
          0.04981517791748047,
          0.049815237522125244,
          0.04981517791748047,
          0.049815237522125244,
          0.049815237522125244,
          0.04981517791748047,
          0.049815237522125244,
          0.049815207719802856,
          0.049815207719802856,
          0.049815207719802856,
          0.049815207719802856,
          0.049815207719802856,
          0.04981522262096405,
          0.049815207719802856,
          0.04981521517038345,
          0.049815211445093155,
          0.049815211445093155,
          0.049815211445093155,
          0.049815211445093155,
          0.04981521517038345,
          0.049815207719802856,
          0.04981522262096405,
          0.049815207719802856,
          0.049815207719802856,
          0.049815207719802856,
          0.049815207719802856,
          0.049815207719802856,
          0.049815237522125244,
          0.04981517791748047,
          0.049815237522125244,
          0.049815237522125244,
          0.04981517791748047,
          0.049815237522125244,
          0.04981517791748047,
          0.049815237522125244,
          0.04981517791748047,
          0.049815237522125244
         ],
         "x": [
          -0.9722543954849243,
          -0.9224391579627991,
          -0.8726239204406738,
          -0.8228087425231934,
          -0.7729935646057129,
          -0.7231783270835876,
          -0.6733630895614624,
          -0.6235479116439819,
          -0.5737326741218567,
          -0.5239174365997314,
          -0.474102258682251,
          -0.42428702116012573,
          -0.37447184324264526,
          -0.32465660572052,
          -0.27484142780303955,
          -0.2250261902809143,
          -0.17521098256111145,
          -0.1253957748413086,
          -0.07558055967092514,
          -0.025765346363186836,
          0.02404986508190632,
          0.07386507838964462,
          0.12368029356002808,
          0.17349550127983093,
          0.2233107089996338,
          0.27312594652175903,
          0.3229411244392395,
          0.37275636196136475,
          0.4225715398788452,
          0.47238677740097046,
          0.5222020149230957,
          0.5720171928405762,
          0.6218323707580566,
          0.6716476678848267,
          0.7214628458023071,
          0.7712780237197876,
          0.8210932612419128,
          0.8709084987640381,
          0.9207236766815186,
          0.970538854598999
         ],
         "y": [
          5282,
          14740,
          20756,
          25600,
          28300,
          32681,
          39668,
          47877,
          58186,
          70832,
          84570,
          92395,
          109908,
          134515,
          162018,
          196492,
          225831,
          248845,
          231586,
          107097,
          88478,
          184141,
          197492,
          184541,
          164008,
          145749,
          127015,
          114421,
          99710,
          98296,
          97789,
          83355,
          67561,
          58701,
          56328,
          50791,
          49632,
          47042,
          51187,
          38116
         ]
        },
        {
         "mode": "text",
         "text": [
          "5282"
         ],
         "type": "scatter",
         "x": [
          -0.9722543954849243
         ],
         "y": [
          5282
         ]
        },
        {
         "mode": "text",
         "text": [
          "14740"
         ],
         "type": "scatter",
         "x": [
          -0.9224391579627991
         ],
         "y": [
          14740
         ]
        },
        {
         "mode": "text",
         "text": [
          "20756"
         ],
         "type": "scatter",
         "x": [
          -0.8726239204406738
         ],
         "y": [
          20756
         ]
        },
        {
         "mode": "text",
         "text": [
          "25600"
         ],
         "type": "scatter",
         "x": [
          -0.8228087425231934
         ],
         "y": [
          25600
         ]
        },
        {
         "mode": "text",
         "text": [
          "28300"
         ],
         "type": "scatter",
         "x": [
          -0.7729935646057129
         ],
         "y": [
          28300
         ]
        },
        {
         "mode": "text",
         "text": [
          "32681"
         ],
         "type": "scatter",
         "x": [
          -0.7231783270835876
         ],
         "y": [
          32681
         ]
        },
        {
         "mode": "text",
         "text": [
          "39668"
         ],
         "type": "scatter",
         "x": [
          -0.6733630895614624
         ],
         "y": [
          39668
         ]
        },
        {
         "mode": "text",
         "text": [
          "47877"
         ],
         "type": "scatter",
         "x": [
          -0.6235479116439819
         ],
         "y": [
          47877
         ]
        },
        {
         "mode": "text",
         "text": [
          "58186"
         ],
         "type": "scatter",
         "x": [
          -0.5737326741218567
         ],
         "y": [
          58186
         ]
        },
        {
         "mode": "text",
         "text": [
          "70832"
         ],
         "type": "scatter",
         "x": [
          -0.5239174365997314
         ],
         "y": [
          70832
         ]
        },
        {
         "mode": "text",
         "text": [
          "84570"
         ],
         "type": "scatter",
         "x": [
          -0.474102258682251
         ],
         "y": [
          84570
         ]
        },
        {
         "mode": "text",
         "text": [
          "92395"
         ],
         "type": "scatter",
         "x": [
          -0.42428702116012573
         ],
         "y": [
          92395
         ]
        },
        {
         "mode": "text",
         "text": [
          "109908"
         ],
         "type": "scatter",
         "x": [
          -0.37447184324264526
         ],
         "y": [
          109908
         ]
        },
        {
         "mode": "text",
         "text": [
          "134515"
         ],
         "type": "scatter",
         "x": [
          -0.32465660572052
         ],
         "y": [
          134515
         ]
        },
        {
         "mode": "text",
         "text": [
          "162018"
         ],
         "type": "scatter",
         "x": [
          -0.27484142780303955
         ],
         "y": [
          162018
         ]
        },
        {
         "mode": "text",
         "text": [
          "196492"
         ],
         "type": "scatter",
         "x": [
          -0.2250261902809143
         ],
         "y": [
          196492
         ]
        },
        {
         "mode": "text",
         "text": [
          "225831"
         ],
         "type": "scatter",
         "x": [
          -0.17521098256111145
         ],
         "y": [
          225831
         ]
        },
        {
         "mode": "text",
         "text": [
          "248845"
         ],
         "type": "scatter",
         "x": [
          -0.1253957748413086
         ],
         "y": [
          248845
         ]
        },
        {
         "mode": "text",
         "text": [
          "231586"
         ],
         "type": "scatter",
         "x": [
          -0.07558055967092514
         ],
         "y": [
          231586
         ]
        },
        {
         "mode": "text",
         "text": [
          "107097"
         ],
         "type": "scatter",
         "x": [
          -0.025765346363186836
         ],
         "y": [
          107097
         ]
        },
        {
         "mode": "text",
         "text": [
          "88478"
         ],
         "type": "scatter",
         "x": [
          0.02404986508190632
         ],
         "y": [
          88478
         ]
        },
        {
         "mode": "text",
         "text": [
          "184141"
         ],
         "type": "scatter",
         "x": [
          0.07386507838964462
         ],
         "y": [
          184141
         ]
        },
        {
         "mode": "text",
         "text": [
          "197492"
         ],
         "type": "scatter",
         "x": [
          0.12368029356002808
         ],
         "y": [
          197492
         ]
        },
        {
         "mode": "text",
         "text": [
          "184541"
         ],
         "type": "scatter",
         "x": [
          0.17349550127983093
         ],
         "y": [
          184541
         ]
        },
        {
         "mode": "text",
         "text": [
          "164008"
         ],
         "type": "scatter",
         "x": [
          0.2233107089996338
         ],
         "y": [
          164008
         ]
        },
        {
         "mode": "text",
         "text": [
          "145749"
         ],
         "type": "scatter",
         "x": [
          0.27312594652175903
         ],
         "y": [
          145749
         ]
        },
        {
         "mode": "text",
         "text": [
          "127015"
         ],
         "type": "scatter",
         "x": [
          0.3229411244392395
         ],
         "y": [
          127015
         ]
        },
        {
         "mode": "text",
         "text": [
          "114421"
         ],
         "type": "scatter",
         "x": [
          0.37275636196136475
         ],
         "y": [
          114421
         ]
        },
        {
         "mode": "text",
         "text": [
          "99710"
         ],
         "type": "scatter",
         "x": [
          0.4225715398788452
         ],
         "y": [
          99710
         ]
        },
        {
         "mode": "text",
         "text": [
          "98296"
         ],
         "type": "scatter",
         "x": [
          0.47238677740097046
         ],
         "y": [
          98296
         ]
        },
        {
         "mode": "text",
         "text": [
          "97789"
         ],
         "type": "scatter",
         "x": [
          0.5222020149230957
         ],
         "y": [
          97789
         ]
        },
        {
         "mode": "text",
         "text": [
          "83355"
         ],
         "type": "scatter",
         "x": [
          0.5720171928405762
         ],
         "y": [
          83355
         ]
        },
        {
         "mode": "text",
         "text": [
          "67561"
         ],
         "type": "scatter",
         "x": [
          0.6218323707580566
         ],
         "y": [
          67561
         ]
        },
        {
         "mode": "text",
         "text": [
          "58701"
         ],
         "type": "scatter",
         "x": [
          0.6716476678848267
         ],
         "y": [
          58701
         ]
        },
        {
         "mode": "text",
         "text": [
          "56328"
         ],
         "type": "scatter",
         "x": [
          0.7214628458023071
         ],
         "y": [
          56328
         ]
        },
        {
         "mode": "text",
         "text": [
          "50791"
         ],
         "type": "scatter",
         "x": [
          0.7712780237197876
         ],
         "y": [
          50791
         ]
        },
        {
         "mode": "text",
         "text": [
          "49632"
         ],
         "type": "scatter",
         "x": [
          0.8210932612419128
         ],
         "y": [
          49632
         ]
        },
        {
         "mode": "text",
         "text": [
          "47042"
         ],
         "type": "scatter",
         "x": [
          0.8709084987640381
         ],
         "y": [
          47042
         ]
        },
        {
         "mode": "text",
         "text": [
          "51187"
         ],
         "type": "scatter",
         "x": [
          0.9207236766815186
         ],
         "y": [
          51187
         ]
        },
        {
         "mode": "text",
         "text": [
          "38116"
         ],
         "type": "scatter",
         "x": [
          0.970538854598999
         ],
         "y": [
          38116
         ]
        }
       ],
       "layout": {
        "autosize": true,
        "template": {
         "data": {
          "bar": [
           {
            "error_x": {
             "color": "#2a3f5f"
            },
            "error_y": {
             "color": "#2a3f5f"
            },
            "marker": {
             "line": {
              "color": "#E5ECF6",
              "width": 0.5
             },
             "pattern": {
              "fillmode": "overlay",
              "size": 10,
              "solidity": 0.2
             }
            },
            "type": "bar"
           }
          ],
          "barpolar": [
           {
            "marker": {
             "line": {
              "color": "#E5ECF6",
              "width": 0.5
             },
             "pattern": {
              "fillmode": "overlay",
              "size": 10,
              "solidity": 0.2
             }
            },
            "type": "barpolar"
           }
          ],
          "carpet": [
           {
            "aaxis": {
             "endlinecolor": "#2a3f5f",
             "gridcolor": "white",
             "linecolor": "white",
             "minorgridcolor": "white",
             "startlinecolor": "#2a3f5f"
            },
            "baxis": {
             "endlinecolor": "#2a3f5f",
             "gridcolor": "white",
             "linecolor": "white",
             "minorgridcolor": "white",
             "startlinecolor": "#2a3f5f"
            },
            "type": "carpet"
           }
          ],
          "choropleth": [
           {
            "colorbar": {
             "outlinewidth": 0,
             "ticks": ""
            },
            "type": "choropleth"
           }
          ],
          "contour": [
           {
            "colorbar": {
             "outlinewidth": 0,
             "ticks": ""
            },
            "colorscale": [
             [
              0,
              "#0d0887"
             ],
             [
              0.1111111111111111,
              "#46039f"
             ],
             [
              0.2222222222222222,
              "#7201a8"
             ],
             [
              0.3333333333333333,
              "#9c179e"
             ],
             [
              0.4444444444444444,
              "#bd3786"
             ],
             [
              0.5555555555555556,
              "#d8576b"
             ],
             [
              0.6666666666666666,
              "#ed7953"
             ],
             [
              0.7777777777777778,
              "#fb9f3a"
             ],
             [
              0.8888888888888888,
              "#fdca26"
             ],
             [
              1,
              "#f0f921"
             ]
            ],
            "type": "contour"
           }
          ],
          "contourcarpet": [
           {
            "colorbar": {
             "outlinewidth": 0,
             "ticks": ""
            },
            "type": "contourcarpet"
           }
          ],
          "heatmap": [
           {
            "colorbar": {
             "outlinewidth": 0,
             "ticks": ""
            },
            "colorscale": [
             [
              0,
              "#0d0887"
             ],
             [
              0.1111111111111111,
              "#46039f"
             ],
             [
              0.2222222222222222,
              "#7201a8"
             ],
             [
              0.3333333333333333,
              "#9c179e"
             ],
             [
              0.4444444444444444,
              "#bd3786"
             ],
             [
              0.5555555555555556,
              "#d8576b"
             ],
             [
              0.6666666666666666,
              "#ed7953"
             ],
             [
              0.7777777777777778,
              "#fb9f3a"
             ],
             [
              0.8888888888888888,
              "#fdca26"
             ],
             [
              1,
              "#f0f921"
             ]
            ],
            "type": "heatmap"
           }
          ],
          "heatmapgl": [
           {
            "colorbar": {
             "outlinewidth": 0,
             "ticks": ""
            },
            "colorscale": [
             [
              0,
              "#0d0887"
             ],
             [
              0.1111111111111111,
              "#46039f"
             ],
             [
              0.2222222222222222,
              "#7201a8"
             ],
             [
              0.3333333333333333,
              "#9c179e"
             ],
             [
              0.4444444444444444,
              "#bd3786"
             ],
             [
              0.5555555555555556,
              "#d8576b"
             ],
             [
              0.6666666666666666,
              "#ed7953"
             ],
             [
              0.7777777777777778,
              "#fb9f3a"
             ],
             [
              0.8888888888888888,
              "#fdca26"
             ],
             [
              1,
              "#f0f921"
             ]
            ],
            "type": "heatmapgl"
           }
          ],
          "histogram": [
           {
            "marker": {
             "pattern": {
              "fillmode": "overlay",
              "size": 10,
              "solidity": 0.2
             }
            },
            "type": "histogram"
           }
          ],
          "histogram2d": [
           {
            "colorbar": {
             "outlinewidth": 0,
             "ticks": ""
            },
            "colorscale": [
             [
              0,
              "#0d0887"
             ],
             [
              0.1111111111111111,
              "#46039f"
             ],
             [
              0.2222222222222222,
              "#7201a8"
             ],
             [
              0.3333333333333333,
              "#9c179e"
             ],
             [
              0.4444444444444444,
              "#bd3786"
             ],
             [
              0.5555555555555556,
              "#d8576b"
             ],
             [
              0.6666666666666666,
              "#ed7953"
             ],
             [
              0.7777777777777778,
              "#fb9f3a"
             ],
             [
              0.8888888888888888,
              "#fdca26"
             ],
             [
              1,
              "#f0f921"
             ]
            ],
            "type": "histogram2d"
           }
          ],
          "histogram2dcontour": [
           {
            "colorbar": {
             "outlinewidth": 0,
             "ticks": ""
            },
            "colorscale": [
             [
              0,
              "#0d0887"
             ],
             [
              0.1111111111111111,
              "#46039f"
             ],
             [
              0.2222222222222222,
              "#7201a8"
             ],
             [
              0.3333333333333333,
              "#9c179e"
             ],
             [
              0.4444444444444444,
              "#bd3786"
             ],
             [
              0.5555555555555556,
              "#d8576b"
             ],
             [
              0.6666666666666666,
              "#ed7953"
             ],
             [
              0.7777777777777778,
              "#fb9f3a"
             ],
             [
              0.8888888888888888,
              "#fdca26"
             ],
             [
              1,
              "#f0f921"
             ]
            ],
            "type": "histogram2dcontour"
           }
          ],
          "mesh3d": [
           {
            "colorbar": {
             "outlinewidth": 0,
             "ticks": ""
            },
            "type": "mesh3d"
           }
          ],
          "parcoords": [
           {
            "line": {
             "colorbar": {
              "outlinewidth": 0,
              "ticks": ""
             }
            },
            "type": "parcoords"
           }
          ],
          "pie": [
           {
            "automargin": true,
            "type": "pie"
           }
          ],
          "scatter": [
           {
            "fillpattern": {
             "fillmode": "overlay",
             "size": 10,
             "solidity": 0.2
            },
            "type": "scatter"
           }
          ],
          "scatter3d": [
           {
            "line": {
             "colorbar": {
              "outlinewidth": 0,
              "ticks": ""
             }
            },
            "marker": {
             "colorbar": {
              "outlinewidth": 0,
              "ticks": ""
             }
            },
            "type": "scatter3d"
           }
          ],
          "scattercarpet": [
           {
            "marker": {
             "colorbar": {
              "outlinewidth": 0,
              "ticks": ""
             }
            },
            "type": "scattercarpet"
           }
          ],
          "scattergeo": [
           {
            "marker": {
             "colorbar": {
              "outlinewidth": 0,
              "ticks": ""
             }
            },
            "type": "scattergeo"
           }
          ],
          "scattergl": [
           {
            "marker": {
             "colorbar": {
              "outlinewidth": 0,
              "ticks": ""
             }
            },
            "type": "scattergl"
           }
          ],
          "scattermapbox": [
           {
            "marker": {
             "colorbar": {
              "outlinewidth": 0,
              "ticks": ""
             }
            },
            "type": "scattermapbox"
           }
          ],
          "scatterpolar": [
           {
            "marker": {
             "colorbar": {
              "outlinewidth": 0,
              "ticks": ""
             }
            },
            "type": "scatterpolar"
           }
          ],
          "scatterpolargl": [
           {
            "marker": {
             "colorbar": {
              "outlinewidth": 0,
              "ticks": ""
             }
            },
            "type": "scatterpolargl"
           }
          ],
          "scatterternary": [
           {
            "marker": {
             "colorbar": {
              "outlinewidth": 0,
              "ticks": ""
             }
            },
            "type": "scatterternary"
           }
          ],
          "surface": [
           {
            "colorbar": {
             "outlinewidth": 0,
             "ticks": ""
            },
            "colorscale": [
             [
              0,
              "#0d0887"
             ],
             [
              0.1111111111111111,
              "#46039f"
             ],
             [
              0.2222222222222222,
              "#7201a8"
             ],
             [
              0.3333333333333333,
              "#9c179e"
             ],
             [
              0.4444444444444444,
              "#bd3786"
             ],
             [
              0.5555555555555556,
              "#d8576b"
             ],
             [
              0.6666666666666666,
              "#ed7953"
             ],
             [
              0.7777777777777778,
              "#fb9f3a"
             ],
             [
              0.8888888888888888,
              "#fdca26"
             ],
             [
              1,
              "#f0f921"
             ]
            ],
            "type": "surface"
           }
          ],
          "table": [
           {
            "cells": {
             "fill": {
              "color": "#EBF0F8"
             },
             "line": {
              "color": "white"
             }
            },
            "header": {
             "fill": {
              "color": "#C8D4E3"
             },
             "line": {
              "color": "white"
             }
            },
            "type": "table"
           }
          ]
         },
         "layout": {
          "annotationdefaults": {
           "arrowcolor": "#2a3f5f",
           "arrowhead": 0,
           "arrowwidth": 1
          },
          "autotypenumbers": "strict",
          "coloraxis": {
           "colorbar": {
            "outlinewidth": 0,
            "ticks": ""
           }
          },
          "colorscale": {
           "diverging": [
            [
             0,
             "#8e0152"
            ],
            [
             0.1,
             "#c51b7d"
            ],
            [
             0.2,
             "#de77ae"
            ],
            [
             0.3,
             "#f1b6da"
            ],
            [
             0.4,
             "#fde0ef"
            ],
            [
             0.5,
             "#f7f7f7"
            ],
            [
             0.6,
             "#e6f5d0"
            ],
            [
             0.7,
             "#b8e186"
            ],
            [
             0.8,
             "#7fbc41"
            ],
            [
             0.9,
             "#4d9221"
            ],
            [
             1,
             "#276419"
            ]
           ],
           "sequential": [
            [
             0,
             "#0d0887"
            ],
            [
             0.1111111111111111,
             "#46039f"
            ],
            [
             0.2222222222222222,
             "#7201a8"
            ],
            [
             0.3333333333333333,
             "#9c179e"
            ],
            [
             0.4444444444444444,
             "#bd3786"
            ],
            [
             0.5555555555555556,
             "#d8576b"
            ],
            [
             0.6666666666666666,
             "#ed7953"
            ],
            [
             0.7777777777777778,
             "#fb9f3a"
            ],
            [
             0.8888888888888888,
             "#fdca26"
            ],
            [
             1,
             "#f0f921"
            ]
           ],
           "sequentialminus": [
            [
             0,
             "#0d0887"
            ],
            [
             0.1111111111111111,
             "#46039f"
            ],
            [
             0.2222222222222222,
             "#7201a8"
            ],
            [
             0.3333333333333333,
             "#9c179e"
            ],
            [
             0.4444444444444444,
             "#bd3786"
            ],
            [
             0.5555555555555556,
             "#d8576b"
            ],
            [
             0.6666666666666666,
             "#ed7953"
            ],
            [
             0.7777777777777778,
             "#fb9f3a"
            ],
            [
             0.8888888888888888,
             "#fdca26"
            ],
            [
             1,
             "#f0f921"
            ]
           ]
          },
          "colorway": [
           "#636efa",
           "#EF553B",
           "#00cc96",
           "#ab63fa",
           "#FFA15A",
           "#19d3f3",
           "#FF6692",
           "#B6E880",
           "#FF97FF",
           "#FECB52"
          ],
          "font": {
           "color": "#2a3f5f"
          },
          "geo": {
           "bgcolor": "white",
           "lakecolor": "white",
           "landcolor": "#E5ECF6",
           "showlakes": true,
           "showland": true,
           "subunitcolor": "white"
          },
          "hoverlabel": {
           "align": "left"
          },
          "hovermode": "closest",
          "mapbox": {
           "style": "light"
          },
          "paper_bgcolor": "white",
          "plot_bgcolor": "#E5ECF6",
          "polar": {
           "angularaxis": {
            "gridcolor": "white",
            "linecolor": "white",
            "ticks": ""
           },
           "bgcolor": "#E5ECF6",
           "radialaxis": {
            "gridcolor": "white",
            "linecolor": "white",
            "ticks": ""
           }
          },
          "scene": {
           "xaxis": {
            "backgroundcolor": "#E5ECF6",
            "gridcolor": "white",
            "gridwidth": 2,
            "linecolor": "white",
            "showbackground": true,
            "ticks": "",
            "zerolinecolor": "white"
           },
           "yaxis": {
            "backgroundcolor": "#E5ECF6",
            "gridcolor": "white",
            "gridwidth": 2,
            "linecolor": "white",
            "showbackground": true,
            "ticks": "",
            "zerolinecolor": "white"
           },
           "zaxis": {
            "backgroundcolor": "#E5ECF6",
            "gridcolor": "white",
            "gridwidth": 2,
            "linecolor": "white",
            "showbackground": true,
            "ticks": "",
            "zerolinecolor": "white"
           }
          },
          "shapedefaults": {
           "line": {
            "color": "#2a3f5f"
           }
          },
          "ternary": {
           "aaxis": {
            "gridcolor": "white",
            "linecolor": "white",
            "ticks": ""
           },
           "baxis": {
            "gridcolor": "white",
            "linecolor": "white",
            "ticks": ""
           },
           "bgcolor": "#E5ECF6",
           "caxis": {
            "gridcolor": "white",
            "linecolor": "white",
            "ticks": ""
           }
          },
          "title": {
           "x": 0.05
          },
          "xaxis": {
           "automargin": true,
           "gridcolor": "white",
           "linecolor": "white",
           "ticks": "",
           "title": {
            "standoff": 15
           },
           "zerolinecolor": "white",
           "zerolinewidth": 2
          },
          "yaxis": {
           "automargin": true,
           "gridcolor": "white",
           "linecolor": "white",
           "ticks": "",
           "title": {
            "standoff": 15
           },
           "zerolinecolor": "white",
           "zerolinewidth": 2
          }
         }
        },
        "xaxis": {
         "autorange": true,
         "range": [
          -1.08018735382292,
          1.0784718129369948
         ],
         "type": "linear"
        },
        "yaxis": {
         "autorange": true,
         "range": [
          -8249.277777777777,
          262376.27777777775
         ],
         "type": "linear"
        }
       }
      },
      "image/png": "[encoded data removed]",
      "text/html": [
       "<div>                            <div id=\"cf905dca-d2f7-4ae2-95dd-63adf5efa9bd\" class=\"plotly-graph-div\" style=\"height:525px; width:100%;\"></div>            <script type=\"text/javascript\">                require([\"plotly\"], function(Plotly) {                    window.PLOTLYENV=window.PLOTLYENV || {};                                    if (document.getElementById(\"cf905dca-d2f7-4ae2-95dd-63adf5efa9bd\")) {                    Plotly.newPlot(                        \"cf905dca-d2f7-4ae2-95dd-63adf5efa9bd\",                        [{\"name\":\"Histogram\",\"width\":[0.049815237522125244,0.04981517791748047,0.049815237522125244,0.04981517791748047,0.049815237522125244,0.04981517791748047,0.049815237522125244,0.049815237522125244,0.04981517791748047,0.049815237522125244,0.049815207719802856,0.049815207719802856,0.049815207719802856,0.049815207719802856,0.049815207719802856,0.04981522262096405,0.049815207719802856,0.04981521517038345,0.049815211445093155,0.049815211445093155,0.049815211445093155,0.049815211445093155,0.04981521517038345,0.049815207719802856,0.04981522262096405,0.049815207719802856,0.049815207719802856,0.049815207719802856,0.049815207719802856,0.049815207719802856,0.049815237522125244,0.04981517791748047,0.049815237522125244,0.049815237522125244,0.04981517791748047,0.049815237522125244,0.04981517791748047,0.049815237522125244,0.04981517791748047,0.049815237522125244],\"x\":[-0.9722543954849243,-0.9224391579627991,-0.8726239204406738,-0.8228087425231934,-0.7729935646057129,-0.7231783270835876,-0.6733630895614624,-0.6235479116439819,-0.5737326741218567,-0.5239174365997314,-0.474102258682251,-0.42428702116012573,-0.37447184324264526,-0.32465660572052,-0.27484142780303955,-0.2250261902809143,-0.17521098256111145,-0.1253957748413086,-0.07558055967092514,-0.025765346363186836,0.02404986508190632,0.07386507838964462,0.12368029356002808,0.17349550127983093,0.2233107089996338,0.27312594652175903,0.3229411244392395,0.37275636196136475,0.4225715398788452,0.47238677740097046,0.5222020149230957,0.5720171928405762,0.6218323707580566,0.6716476678848267,0.7214628458023071,0.7712780237197876,0.8210932612419128,0.8709084987640381,0.9207236766815186,0.970538854598999],\"y\":[5282,14740,20756,25600,28300,32681,39668,47877,58186,70832,84570,92395,109908,134515,162018,196492,225831,248845,231586,107097,88478,184141,197492,184541,164008,145749,127015,114421,99710,98296,97789,83355,67561,58701,56328,50791,49632,47042,51187,38116],\"type\":\"bar\"},{\"mode\":\"text\",\"text\":[\"5282\"],\"x\":[-0.9722543954849243],\"y\":[5282],\"type\":\"scatter\"},{\"mode\":\"text\",\"text\":[\"14740\"],\"x\":[-0.9224391579627991],\"y\":[14740],\"type\":\"scatter\"},{\"mode\":\"text\",\"text\":[\"20756\"],\"x\":[-0.8726239204406738],\"y\":[20756],\"type\":\"scatter\"},{\"mode\":\"text\",\"text\":[\"25600\"],\"x\":[-0.8228087425231934],\"y\":[25600],\"type\":\"scatter\"},{\"mode\":\"text\",\"text\":[\"28300\"],\"x\":[-0.7729935646057129],\"y\":[28300],\"type\":\"scatter\"},{\"mode\":\"text\",\"text\":[\"32681\"],\"x\":[-0.7231783270835876],\"y\":[32681],\"type\":\"scatter\"},{\"mode\":\"text\",\"text\":[\"39668\"],\"x\":[-0.6733630895614624],\"y\":[39668],\"type\":\"scatter\"},{\"mode\":\"text\",\"text\":[\"47877\"],\"x\":[-0.6235479116439819],\"y\":[47877],\"type\":\"scatter\"},{\"mode\":\"text\",\"text\":[\"58186\"],\"x\":[-0.5737326741218567],\"y\":[58186],\"type\":\"scatter\"},{\"mode\":\"text\",\"text\":[\"70832\"],\"x\":[-0.5239174365997314],\"y\":[70832],\"type\":\"scatter\"},{\"mode\":\"text\",\"text\":[\"84570\"],\"x\":[-0.474102258682251],\"y\":[84570],\"type\":\"scatter\"},{\"mode\":\"text\",\"text\":[\"92395\"],\"x\":[-0.42428702116012573],\"y\":[92395],\"type\":\"scatter\"},{\"mode\":\"text\",\"text\":[\"109908\"],\"x\":[-0.37447184324264526],\"y\":[109908],\"type\":\"scatter\"},{\"mode\":\"text\",\"text\":[\"134515\"],\"x\":[-0.32465660572052],\"y\":[134515],\"type\":\"scatter\"},{\"mode\":\"text\",\"text\":[\"162018\"],\"x\":[-0.27484142780303955],\"y\":[162018],\"type\":\"scatter\"},{\"mode\":\"text\",\"text\":[\"196492\"],\"x\":[-0.2250261902809143],\"y\":[196492],\"type\":\"scatter\"},{\"mode\":\"text\",\"text\":[\"225831\"],\"x\":[-0.17521098256111145],\"y\":[225831],\"type\":\"scatter\"},{\"mode\":\"text\",\"text\":[\"248845\"],\"x\":[-0.1253957748413086],\"y\":[248845],\"type\":\"scatter\"},{\"mode\":\"text\",\"text\":[\"231586\"],\"x\":[-0.07558055967092514],\"y\":[231586],\"type\":\"scatter\"},{\"mode\":\"text\",\"text\":[\"107097\"],\"x\":[-0.025765346363186836],\"y\":[107097],\"type\":\"scatter\"},{\"mode\":\"text\",\"text\":[\"88478\"],\"x\":[0.02404986508190632],\"y\":[88478],\"type\":\"scatter\"},{\"mode\":\"text\",\"text\":[\"184141\"],\"x\":[0.07386507838964462],\"y\":[184141],\"type\":\"scatter\"},{\"mode\":\"text\",\"text\":[\"197492\"],\"x\":[0.12368029356002808],\"y\":[197492],\"type\":\"scatter\"},{\"mode\":\"text\",\"text\":[\"184541\"],\"x\":[0.17349550127983093],\"y\":[184541],\"type\":\"scatter\"},{\"mode\":\"text\",\"text\":[\"164008\"],\"x\":[0.2233107089996338],\"y\":[164008],\"type\":\"scatter\"},{\"mode\":\"text\",\"text\":[\"145749\"],\"x\":[0.27312594652175903],\"y\":[145749],\"type\":\"scatter\"},{\"mode\":\"text\",\"text\":[\"127015\"],\"x\":[0.3229411244392395],\"y\":[127015],\"type\":\"scatter\"},{\"mode\":\"text\",\"text\":[\"114421\"],\"x\":[0.37275636196136475],\"y\":[114421],\"type\":\"scatter\"},{\"mode\":\"text\",\"text\":[\"99710\"],\"x\":[0.4225715398788452],\"y\":[99710],\"type\":\"scatter\"},{\"mode\":\"text\",\"text\":[\"98296\"],\"x\":[0.47238677740097046],\"y\":[98296],\"type\":\"scatter\"},{\"mode\":\"text\",\"text\":[\"97789\"],\"x\":[0.5222020149230957],\"y\":[97789],\"type\":\"scatter\"},{\"mode\":\"text\",\"text\":[\"83355\"],\"x\":[0.5720171928405762],\"y\":[83355],\"type\":\"scatter\"},{\"mode\":\"text\",\"text\":[\"67561\"],\"x\":[0.6218323707580566],\"y\":[67561],\"type\":\"scatter\"},{\"mode\":\"text\",\"text\":[\"58701\"],\"x\":[0.6716476678848267],\"y\":[58701],\"type\":\"scatter\"},{\"mode\":\"text\",\"text\":[\"56328\"],\"x\":[0.7214628458023071],\"y\":[56328],\"type\":\"scatter\"},{\"mode\":\"text\",\"text\":[\"50791\"],\"x\":[0.7712780237197876],\"y\":[50791],\"type\":\"scatter\"},{\"mode\":\"text\",\"text\":[\"49632\"],\"x\":[0.8210932612419128],\"y\":[49632],\"type\":\"scatter\"},{\"mode\":\"text\",\"text\":[\"47042\"],\"x\":[0.8709084987640381],\"y\":[47042],\"type\":\"scatter\"},{\"mode\":\"text\",\"text\":[\"51187\"],\"x\":[0.9207236766815186],\"y\":[51187],\"type\":\"scatter\"},{\"mode\":\"text\",\"text\":[\"38116\"],\"x\":[0.970538854598999],\"y\":[38116],\"type\":\"scatter\"}],                        {\"template\":{\"data\":{\"histogram2dcontour\":[{\"type\":\"histogram2dcontour\",\"colorbar\":{\"outlinewidth\":0,\"ticks\":\"\"},\"colorscale\":[[0.0,\"#0d0887\"],[0.1111111111111111,\"#46039f\"],[0.2222222222222222,\"#7201a8\"],[0.3333333333333333,\"#9c179e\"],[0.4444444444444444,\"#bd3786\"],[0.5555555555555556,\"#d8576b\"],[0.6666666666666666,\"#ed7953\"],[0.7777777777777778,\"#fb9f3a\"],[0.8888888888888888,\"#fdca26\"],[1.0,\"#f0f921\"]]}],\"choropleth\":[{\"type\":\"choropleth\",\"colorbar\":{\"outlinewidth\":0,\"ticks\":\"\"}}],\"histogram2d\":[{\"type\":\"histogram2d\",\"colorbar\":{\"outlinewidth\":0,\"ticks\":\"\"},\"colorscale\":[[0.0,\"#0d0887\"],[0.1111111111111111,\"#46039f\"],[0.2222222222222222,\"#7201a8\"],[0.3333333333333333,\"#9c179e\"],[0.4444444444444444,\"#bd3786\"],[0.5555555555555556,\"#d8576b\"],[0.6666666666666666,\"#ed7953\"],[0.7777777777777778,\"#fb9f3a\"],[0.8888888888888888,\"#fdca26\"],[1.0,\"#f0f921\"]]}],\"heatmap\":[{\"type\":\"heatmap\",\"colorbar\":{\"outlinewidth\":0,\"ticks\":\"\"},\"colorscale\":[[0.0,\"#0d0887\"],[0.1111111111111111,\"#46039f\"],[0.2222222222222222,\"#7201a8\"],[0.3333333333333333,\"#9c179e\"],[0.4444444444444444,\"#bd3786\"],[0.5555555555555556,\"#d8576b\"],[0.6666666666666666,\"#ed7953\"],[0.7777777777777778,\"#fb9f3a\"],[0.8888888888888888,\"#fdca26\"],[1.0,\"#f0f921\"]]}],\"heatmapgl\":[{\"type\":\"heatmapgl\",\"colorbar\":{\"outlinewidth\":0,\"ticks\":\"\"},\"colorscale\":[[0.0,\"#0d0887\"],[0.1111111111111111,\"#46039f\"],[0.2222222222222222,\"#7201a8\"],[0.3333333333333333,\"#9c179e\"],[0.4444444444444444,\"#bd3786\"],[0.5555555555555556,\"#d8576b\"],[0.6666666666666666,\"#ed7953\"],[0.7777777777777778,\"#fb9f3a\"],[0.8888888888888888,\"#fdca26\"],[1.0,\"#f0f921\"]]}],\"contourcarpet\":[{\"type\":\"contourcarpet\",\"colorbar\":{\"outlinewidth\":0,\"ticks\":\"\"}}],\"contour\":[{\"type\":\"contour\",\"colorbar\":{\"outlinewidth\":0,\"ticks\":\"\"},\"colorscale\":[[0.0,\"#0d0887\"],[0.1111111111111111,\"#46039f\"],[0.2222222222222222,\"#7201a8\"],[0.3333333333333333,\"#9c179e\"],[0.4444444444444444,\"#bd3786\"],[0.5555555555555556,\"#d8576b\"],[0.6666666666666666,\"#ed7953\"],[0.7777777777777778,\"#fb9f3a\"],[0.8888888888888888,\"#fdca26\"],[1.0,\"#f0f921\"]]}],\"surface\":[{\"type\":\"surface\",\"colorbar\":{\"outlinewidth\":0,\"ticks\":\"\"},\"colorscale\":[[0.0,\"#0d0887\"],[0.1111111111111111,\"#46039f\"],[0.2222222222222222,\"#7201a8\"],[0.3333333333333333,\"#9c179e\"],[0.4444444444444444,\"#bd3786\"],[0.5555555555555556,\"#d8576b\"],[0.6666666666666666,\"#ed7953\"],[0.7777777777777778,\"#fb9f3a\"],[0.8888888888888888,\"#fdca26\"],[1.0,\"#f0f921\"]]}],\"mesh3d\":[{\"type\":\"mesh3d\",\"colorbar\":{\"outlinewidth\":0,\"ticks\":\"\"}}],\"scatter\":[{\"fillpattern\":{\"fillmode\":\"overlay\",\"size\":10,\"solidity\":0.2},\"type\":\"scatter\"}],\"parcoords\":[{\"type\":\"parcoords\",\"line\":{\"colorbar\":{\"outlinewidth\":0,\"ticks\":\"\"}}}],\"scatterpolargl\":[{\"type\":\"scatterpolargl\",\"marker\":{\"colorbar\":{\"outlinewidth\":0,\"ticks\":\"\"}}}],\"bar\":[{\"error_x\":{\"color\":\"#2a3f5f\"},\"error_y\":{\"color\":\"#2a3f5f\"},\"marker\":{\"line\":{\"color\":\"#E5ECF6\",\"width\":0.5},\"pattern\":{\"fillmode\":\"overlay\",\"size\":10,\"solidity\":0.2}},\"type\":\"bar\"}],\"scattergeo\":[{\"type\":\"scattergeo\",\"marker\":{\"colorbar\":{\"outlinewidth\":0,\"ticks\":\"\"}}}],\"scatterpolar\":[{\"type\":\"scatterpolar\",\"marker\":{\"colorbar\":{\"outlinewidth\":0,\"ticks\":\"\"}}}],\"histogram\":[{\"marker\":{\"pattern\":{\"fillmode\":\"overlay\",\"size\":10,\"solidity\":0.2}},\"type\":\"histogram\"}],\"scattergl\":[{\"type\":\"scattergl\",\"marker\":{\"colorbar\":{\"outlinewidth\":0,\"ticks\":\"\"}}}],\"scatter3d\":[{\"type\":\"scatter3d\",\"line\":{\"colorbar\":{\"outlinewidth\":0,\"ticks\":\"\"}},\"marker\":{\"colorbar\":{\"outlinewidth\":0,\"ticks\":\"\"}}}],\"scattermapbox\":[{\"type\":\"scattermapbox\",\"marker\":{\"colorbar\":{\"outlinewidth\":0,\"ticks\":\"\"}}}],\"scatterternary\":[{\"type\":\"scatterternary\",\"marker\":{\"colorbar\":{\"outlinewidth\":0,\"ticks\":\"\"}}}],\"scattercarpet\":[{\"type\":\"scattercarpet\",\"marker\":{\"colorbar\":{\"outlinewidth\":0,\"ticks\":\"\"}}}],\"carpet\":[{\"aaxis\":{\"endlinecolor\":\"#2a3f5f\",\"gridcolor\":\"white\",\"linecolor\":\"white\",\"minorgridcolor\":\"white\",\"startlinecolor\":\"#2a3f5f\"},\"baxis\":{\"endlinecolor\":\"#2a3f5f\",\"gridcolor\":\"white\",\"linecolor\":\"white\",\"minorgridcolor\":\"white\",\"startlinecolor\":\"#2a3f5f\"},\"type\":\"carpet\"}],\"table\":[{\"cells\":{\"fill\":{\"color\":\"#EBF0F8\"},\"line\":{\"color\":\"white\"}},\"header\":{\"fill\":{\"color\":\"#C8D4E3\"},\"line\":{\"color\":\"white\"}},\"type\":\"table\"}],\"barpolar\":[{\"marker\":{\"line\":{\"color\":\"#E5ECF6\",\"width\":0.5},\"pattern\":{\"fillmode\":\"overlay\",\"size\":10,\"solidity\":0.2}},\"type\":\"barpolar\"}],\"pie\":[{\"automargin\":true,\"type\":\"pie\"}]},\"layout\":{\"autotypenumbers\":\"strict\",\"colorway\":[\"#636efa\",\"#EF553B\",\"#00cc96\",\"#ab63fa\",\"#FFA15A\",\"#19d3f3\",\"#FF6692\",\"#B6E880\",\"#FF97FF\",\"#FECB52\"],\"font\":{\"color\":\"#2a3f5f\"},\"hovermode\":\"closest\",\"hoverlabel\":{\"align\":\"left\"},\"paper_bgcolor\":\"white\",\"plot_bgcolor\":\"#E5ECF6\",\"polar\":{\"bgcolor\":\"#E5ECF6\",\"angularaxis\":{\"gridcolor\":\"white\",\"linecolor\":\"white\",\"ticks\":\"\"},\"radialaxis\":{\"gridcolor\":\"white\",\"linecolor\":\"white\",\"ticks\":\"\"}},\"ternary\":{\"bgcolor\":\"#E5ECF6\",\"aaxis\":{\"gridcolor\":\"white\",\"linecolor\":\"white\",\"ticks\":\"\"},\"baxis\":{\"gridcolor\":\"white\",\"linecolor\":\"white\",\"ticks\":\"\"},\"caxis\":{\"gridcolor\":\"white\",\"linecolor\":\"white\",\"ticks\":\"\"}},\"coloraxis\":{\"colorbar\":{\"outlinewidth\":0,\"ticks\":\"\"}},\"colorscale\":{\"sequential\":[[0.0,\"#0d0887\"],[0.1111111111111111,\"#46039f\"],[0.2222222222222222,\"#7201a8\"],[0.3333333333333333,\"#9c179e\"],[0.4444444444444444,\"#bd3786\"],[0.5555555555555556,\"#d8576b\"],[0.6666666666666666,\"#ed7953\"],[0.7777777777777778,\"#fb9f3a\"],[0.8888888888888888,\"#fdca26\"],[1.0,\"#f0f921\"]],\"sequentialminus\":[[0.0,\"#0d0887\"],[0.1111111111111111,\"#46039f\"],[0.2222222222222222,\"#7201a8\"],[0.3333333333333333,\"#9c179e\"],[0.4444444444444444,\"#bd3786\"],[0.5555555555555556,\"#d8576b\"],[0.6666666666666666,\"#ed7953\"],[0.7777777777777778,\"#fb9f3a\"],[0.8888888888888888,\"#fdca26\"],[1.0,\"#f0f921\"]],\"diverging\":[[0,\"#8e0152\"],[0.1,\"#c51b7d\"],[0.2,\"#de77ae\"],[0.3,\"#f1b6da\"],[0.4,\"#fde0ef\"],[0.5,\"#f7f7f7\"],[0.6,\"#e6f5d0\"],[0.7,\"#b8e186\"],[0.8,\"#7fbc41\"],[0.9,\"#4d9221\"],[1,\"#276419\"]]},\"xaxis\":{\"gridcolor\":\"white\",\"linecolor\":\"white\",\"ticks\":\"\",\"title\":{\"standoff\":15},\"zerolinecolor\":\"white\",\"automargin\":true,\"zerolinewidth\":2},\"yaxis\":{\"gridcolor\":\"white\",\"linecolor\":\"white\",\"ticks\":\"\",\"title\":{\"standoff\":15},\"zerolinecolor\":\"white\",\"automargin\":true,\"zerolinewidth\":2},\"scene\":{\"xaxis\":{\"backgroundcolor\":\"#E5ECF6\",\"gridcolor\":\"white\",\"linecolor\":\"white\",\"showbackground\":true,\"ticks\":\"\",\"zerolinecolor\":\"white\",\"gridwidth\":2},\"yaxis\":{\"backgroundcolor\":\"#E5ECF6\",\"gridcolor\":\"white\",\"linecolor\":\"white\",\"showbackground\":true,\"ticks\":\"\",\"zerolinecolor\":\"white\",\"gridwidth\":2},\"zaxis\":{\"backgroundcolor\":\"#E5ECF6\",\"gridcolor\":\"white\",\"linecolor\":\"white\",\"showbackground\":true,\"ticks\":\"\",\"zerolinecolor\":\"white\",\"gridwidth\":2}},\"shapedefaults\":{\"line\":{\"color\":\"#2a3f5f\"}},\"annotationdefaults\":{\"arrowcolor\":\"#2a3f5f\",\"arrowhead\":0,\"arrowwidth\":1},\"geo\":{\"bgcolor\":\"white\",\"landcolor\":\"#E5ECF6\",\"subunitcolor\":\"white\",\"showland\":true,\"showlakes\":true,\"lakecolor\":\"white\"},\"title\":{\"x\":0.05},\"mapbox\":{\"style\":\"light\"}}}},                        {\"responsive\": true}                    ).then(function(){\n",
       "                            \n",
       "var gd = document.getElementById('cf905dca-d2f7-4ae2-95dd-63adf5efa9bd');\n",
       "var x = new MutationObserver(function (mutations, observer) {{\n",
       "        var display = window.getComputedStyle(gd).display;\n",
       "        if (!display || display === 'none') {{\n",
       "            console.log([gd, 'removed!']);\n",
       "            Plotly.purge(gd);\n",
       "            observer.disconnect();\n",
       "        }}\n",
       "}});\n",
       "\n",
       "// Listen for the removal of the full notebook cells\n",
       "var notebookContainer = gd.closest('#notebook-container');\n",
       "if (notebookContainer) {{\n",
       "    x.observe(notebookContainer, {childList: true});\n",
       "}}\n",
       "\n",
       "// Listen for the clearing of the current output cell\n",
       "var outputEl = gd.closest('.output');\n",
       "if (outputEl) {{\n",
       "    x.observe(outputEl, {childList: true});\n",
       "}}\n",
       "\n",
       "                        })                };                });            </script>        </div>"
      ]
     },
     "metadata": {},
     "output_type": "display_data"
    }
   ],
   "source": [
    "# Plot the figure\n",
    "counts, bins = np.histogram(df_interest['score_change_new'], bins=40)\n",
    "bin_midpoints = bins[:-1] + np.diff(bins)/2\n",
    "\n",
    "fig = go.Figure()\n",
    "\n",
    "fig.add_trace(go.Bar(\n",
    "    x=bin_midpoints,\n",
    "    y=counts,\n",
    "    width=np.diff(bins), # makes bars have correct widths\n",
    "    name='Histogram'\n",
    "))\n",
    "# add text labels for counts\n",
    "for i in range(len(counts)):\n",
    "    fig.add_trace(go.Scatter(\n",
    "        x=[bin_midpoints[i]],\n",
    "        y=[counts[i]],\n",
    "        text=[str(counts[i])],\n",
    "        mode='text',\n",
    "    ))\n",
    "\n",
    "fig.show()"
   ]
  },
  {
   "cell_type": "code",
   "execution_count": 53,
   "id": "c9742beb-2174-4710-93b7-ba4100f63e37",
   "metadata": {},
   "outputs": [],
   "source": [
    "\n",
    "# Calculate the z-score for each data point\n",
    "# df_interest['Z_score'] = (df_interest['LogOddRatio'] - mean) / std\n",
    "\n",
    "# # Calculate the p-value for each z-score\n",
    "# df_interest['2S_P_value'] = 2 * (1 - norm.cdf(abs(df_interest['Z_score'])))\n",
    "# df_interest['1S_P_value'] = 1 - norm.cdf(df_interest['Z_score'])"
   ]
  },
  {
   "cell_type": "code",
   "execution_count": 54,
   "id": "efa22f9e-bc88-47c4-a8e2-e69ac9902024",
   "metadata": {},
   "outputs": [
    {
     "data": {
      "text/html": [
       "<div>\n",
       "<style scoped>\n",
       "    .dataframe tbody tr th:only-of-type {\n",
       "        vertical-align: middle;\n",
       "    }\n",
       "\n",
       "    .dataframe tbody tr th {\n",
       "        vertical-align: top;\n",
       "    }\n",
       "\n",
       "    .dataframe thead th {\n",
       "        text-align: right;\n",
       "    }\n",
       "</style>\n",
       "<table border=\"1\" class=\"dataframe\">\n",
       "  <thead>\n",
       "    <tr style=\"text-align: right;\">\n",
       "      <th></th>\n",
       "      <th>index</th>\n",
       "      <th>chr</th>\n",
       "      <th>strand</th>\n",
       "      <th>Donor_coordinates</th>\n",
       "      <th>Transcript_coordinates</th>\n",
       "      <th>dbsnp_id</th>\n",
       "      <th>varinat_start</th>\n",
       "      <th>variant_end</th>\n",
       "      <th>ref_neucleotide</th>\n",
       "      <th>alternative_neucleotide</th>\n",
       "      <th>reference_seq</th>\n",
       "      <th>alt_seq</th>\n",
       "      <th>Ensemble_Transcript_ID</th>\n",
       "      <th>Ref_probab</th>\n",
       "      <th>Alt_probab</th>\n",
       "      <th>ScoreChange</th>\n",
       "      <th>LogOddRatio</th>\n",
       "      <th>score_change_new</th>\n",
       "    </tr>\n",
       "  </thead>\n",
       "  <tbody>\n",
       "    <tr>\n",
       "      <th>2627</th>\n",
       "      <td>2627</td>\n",
       "      <td>chr1</td>\n",
       "      <td>+</td>\n",
       "      <td>24449588-24449667</td>\n",
       "      <td>24415803-24472976</td>\n",
       "      <td>rs1401534466</td>\n",
       "      <td>24449613</td>\n",
       "      <td>24449615</td>\n",
       "      <td>CC</td>\n",
       "      <td>C</td>\n",
       "      <td>CCAGGCACCTCGTGAGCTGGCCTTTCCTTTTGTACATGGTAAGAGA...</td>\n",
       "      <td>CCAGGCACCTCGTGAGCTGGCCTTTCTTTTGTACATGGTAAGAGAA...</td>\n",
       "      <td>ENST00000003912</td>\n",
       "      <td>0.976278</td>\n",
       "      <td>0.046042</td>\n",
       "      <td>-0.908168</td>\n",
       "      <td>9.735875</td>\n",
       "      <td>-0.930236</td>\n",
       "    </tr>\n",
       "    <tr>\n",
       "      <th>2673</th>\n",
       "      <td>2673</td>\n",
       "      <td>chr1</td>\n",
       "      <td>+</td>\n",
       "      <td>24449588-24449667</td>\n",
       "      <td>24415814-24466310</td>\n",
       "      <td>rs1401534466</td>\n",
       "      <td>24449613</td>\n",
       "      <td>24449615</td>\n",
       "      <td>CC</td>\n",
       "      <td>C</td>\n",
       "      <td>CCAGGCACCTCGTGAGCTGGCCTTTCCTTTTGTACATGGTAAGAGA...</td>\n",
       "      <td>CCAGGCACCTCGTGAGCTGGCCTTTCTTTTGTACATGGTAAGAGAA...</td>\n",
       "      <td>ENST00000339255</td>\n",
       "      <td>0.976278</td>\n",
       "      <td>0.046042</td>\n",
       "      <td>-0.908168</td>\n",
       "      <td>9.735875</td>\n",
       "      <td>-0.930236</td>\n",
       "    </tr>\n",
       "    <tr>\n",
       "      <th>2719</th>\n",
       "      <td>2719</td>\n",
       "      <td>chr1</td>\n",
       "      <td>+</td>\n",
       "      <td>24449588-24449667</td>\n",
       "      <td>24415813-24454824</td>\n",
       "      <td>rs1401534466</td>\n",
       "      <td>24449613</td>\n",
       "      <td>24449615</td>\n",
       "      <td>CC</td>\n",
       "      <td>C</td>\n",
       "      <td>CCAGGCACCTCGTGAGCTGGCCTTTCCTTTTGTACATGGTAAGAGA...</td>\n",
       "      <td>CCAGGCACCTCGTGAGCTGGCCTTTCTTTTGTACATGGTAAGAGAA...</td>\n",
       "      <td>ENST00000358028</td>\n",
       "      <td>0.976278</td>\n",
       "      <td>0.046042</td>\n",
       "      <td>-0.908168</td>\n",
       "      <td>9.735875</td>\n",
       "      <td>-0.930236</td>\n",
       "    </tr>\n",
       "    <tr>\n",
       "      <th>2765</th>\n",
       "      <td>2765</td>\n",
       "      <td>chr1</td>\n",
       "      <td>+</td>\n",
       "      <td>24449588-24449667</td>\n",
       "      <td>24415802-24472976</td>\n",
       "      <td>rs1401534466</td>\n",
       "      <td>24449613</td>\n",
       "      <td>24449615</td>\n",
       "      <td>CC</td>\n",
       "      <td>C</td>\n",
       "      <td>CCAGGCACCTCGTGAGCTGGCCTTTCCTTTTGTACATGGTAAGAGA...</td>\n",
       "      <td>CCAGGCACCTCGTGAGCTGGCCTTTCTTTTGTACATGGTAAGAGAA...</td>\n",
       "      <td>ENST00000374399</td>\n",
       "      <td>0.976278</td>\n",
       "      <td>0.046042</td>\n",
       "      <td>-0.908168</td>\n",
       "      <td>9.735875</td>\n",
       "      <td>-0.930236</td>\n",
       "    </tr>\n",
       "    <tr>\n",
       "      <th>3089</th>\n",
       "      <td>3089</td>\n",
       "      <td>chr1</td>\n",
       "      <td>+</td>\n",
       "      <td>24458938-24459017</td>\n",
       "      <td>24415803-24472976</td>\n",
       "      <td>rs1479852926</td>\n",
       "      <td>24458982</td>\n",
       "      <td>24458983</td>\n",
       "      <td>G</td>\n",
       "      <td>C</td>\n",
       "      <td>GGGCTACATTCTGTCCACAACCATTGCTATCACAGCAGGTAAGGGT...</td>\n",
       "      <td>GGGCTACATTCTGTCCACAACCATTGCTATCACAGCAGGTAAGGCT...</td>\n",
       "      <td>ENST00000003912</td>\n",
       "      <td>0.562571</td>\n",
       "      <td>0.107575</td>\n",
       "      <td>-0.255967</td>\n",
       "      <td>3.415373</td>\n",
       "      <td>-0.454996</td>\n",
       "    </tr>\n",
       "    <tr>\n",
       "      <th>...</th>\n",
       "      <td>...</td>\n",
       "      <td>...</td>\n",
       "      <td>...</td>\n",
       "      <td>...</td>\n",
       "      <td>...</td>\n",
       "      <td>...</td>\n",
       "      <td>...</td>\n",
       "      <td>...</td>\n",
       "      <td>...</td>\n",
       "      <td>...</td>\n",
       "      <td>...</td>\n",
       "      <td>...</td>\n",
       "      <td>...</td>\n",
       "      <td>...</td>\n",
       "      <td>...</td>\n",
       "      <td>...</td>\n",
       "      <td>...</td>\n",
       "      <td>...</td>\n",
       "    </tr>\n",
       "    <tr>\n",
       "      <th>18924</th>\n",
       "      <td>88837</td>\n",
       "      <td>chrY</td>\n",
       "      <td>+</td>\n",
       "      <td>2774701-2774780</td>\n",
       "      <td>2752296-2845689</td>\n",
       "      <td>rs148132561</td>\n",
       "      <td>2774747</td>\n",
       "      <td>2774748</td>\n",
       "      <td>C</td>\n",
       "      <td>A</td>\n",
       "      <td>CTCTTTGTTCACAGAACCCACCAAGAAGCCAAACTCAGGTGAGTGT...</td>\n",
       "      <td>CTCTTTGTTCACAGAACCCACCAAGAAGCCAAACTCAGGTGAGTGT...</td>\n",
       "      <td>ENST00000681787</td>\n",
       "      <td>0.352675</td>\n",
       "      <td>0.767167</td>\n",
       "      <td>0.317984</td>\n",
       "      <td>-2.596395</td>\n",
       "      <td>0.414492</td>\n",
       "    </tr>\n",
       "    <tr>\n",
       "      <th>18960</th>\n",
       "      <td>88873</td>\n",
       "      <td>chrY</td>\n",
       "      <td>+</td>\n",
       "      <td>2774701-2774780</td>\n",
       "      <td>2752296-2845689</td>\n",
       "      <td>rs1261941013</td>\n",
       "      <td>2774743</td>\n",
       "      <td>2774744</td>\n",
       "      <td>G</td>\n",
       "      <td>A</td>\n",
       "      <td>CTCTTTGTTCACAGAACCCACCAAGAAGCCAAACTCAGGTGAGTGT...</td>\n",
       "      <td>CTCTTTGTTCACAGAACCCACCAAGAAGCCAAACTCAGGTGAATGT...</td>\n",
       "      <td>ENST00000679518</td>\n",
       "      <td>0.352675</td>\n",
       "      <td>0.717776</td>\n",
       "      <td>0.262060</td>\n",
       "      <td>-2.222843</td>\n",
       "      <td>0.365101</td>\n",
       "    </tr>\n",
       "    <tr>\n",
       "      <th>18963</th>\n",
       "      <td>88876</td>\n",
       "      <td>chrY</td>\n",
       "      <td>+</td>\n",
       "      <td>2774701-2774780</td>\n",
       "      <td>2752296-2845689</td>\n",
       "      <td>rs148132561</td>\n",
       "      <td>2774747</td>\n",
       "      <td>2774748</td>\n",
       "      <td>C</td>\n",
       "      <td>A</td>\n",
       "      <td>CTCTTTGTTCACAGAACCCACCAAGAAGCCAAACTCAGGTGAGTGT...</td>\n",
       "      <td>CTCTTTGTTCACAGAACCCACCAAGAAGCCAAACTCAGGTGAGTGT...</td>\n",
       "      <td>ENST00000679518</td>\n",
       "      <td>0.352675</td>\n",
       "      <td>0.767167</td>\n",
       "      <td>0.317984</td>\n",
       "      <td>-2.596395</td>\n",
       "      <td>0.414492</td>\n",
       "    </tr>\n",
       "    <tr>\n",
       "      <th>18999</th>\n",
       "      <td>88912</td>\n",
       "      <td>chrY</td>\n",
       "      <td>+</td>\n",
       "      <td>2774701-2774780</td>\n",
       "      <td>2752296-2854641</td>\n",
       "      <td>rs1261941013</td>\n",
       "      <td>2774743</td>\n",
       "      <td>2774744</td>\n",
       "      <td>G</td>\n",
       "      <td>A</td>\n",
       "      <td>CTCTTTGTTCACAGAACCCACCAAGAAGCCAAACTCAGGTGAGTGT...</td>\n",
       "      <td>CTCTTTGTTCACAGAACCCACCAAGAAGCCAAACTCAGGTGAATGT...</td>\n",
       "      <td>ENST00000681940</td>\n",
       "      <td>0.352675</td>\n",
       "      <td>0.717776</td>\n",
       "      <td>0.262060</td>\n",
       "      <td>-2.222843</td>\n",
       "      <td>0.365101</td>\n",
       "    </tr>\n",
       "    <tr>\n",
       "      <th>19002</th>\n",
       "      <td>88915</td>\n",
       "      <td>chrY</td>\n",
       "      <td>+</td>\n",
       "      <td>2774701-2774780</td>\n",
       "      <td>2752296-2854641</td>\n",
       "      <td>rs148132561</td>\n",
       "      <td>2774747</td>\n",
       "      <td>2774748</td>\n",
       "      <td>C</td>\n",
       "      <td>A</td>\n",
       "      <td>CTCTTTGTTCACAGAACCCACCAAGAAGCCAAACTCAGGTGAGTGT...</td>\n",
       "      <td>CTCTTTGTTCACAGAACCCACCAAGAAGCCAAACTCAGGTGAGTGT...</td>\n",
       "      <td>ENST00000681940</td>\n",
       "      <td>0.352675</td>\n",
       "      <td>0.767167</td>\n",
       "      <td>0.317984</td>\n",
       "      <td>-2.596395</td>\n",
       "      <td>0.414492</td>\n",
       "    </tr>\n",
       "  </tbody>\n",
       "</table>\n",
       "<p>1394369 rows × 18 columns</p>\n",
       "</div>"
      ],
      "text/plain": [
       "       index   chr strand  Donor_coordinates Transcript_coordinates  \\\n",
       "2627    2627  chr1      +  24449588-24449667      24415803-24472976   \n",
       "2673    2673  chr1      +  24449588-24449667      24415814-24466310   \n",
       "2719    2719  chr1      +  24449588-24449667      24415813-24454824   \n",
       "2765    2765  chr1      +  24449588-24449667      24415802-24472976   \n",
       "3089    3089  chr1      +  24458938-24459017      24415803-24472976   \n",
       "...      ...   ...    ...                ...                    ...   \n",
       "18924  88837  chrY      +    2774701-2774780        2752296-2845689   \n",
       "18960  88873  chrY      +    2774701-2774780        2752296-2845689   \n",
       "18963  88876  chrY      +    2774701-2774780        2752296-2845689   \n",
       "18999  88912  chrY      +    2774701-2774780        2752296-2854641   \n",
       "19002  88915  chrY      +    2774701-2774780        2752296-2854641   \n",
       "\n",
       "           dbsnp_id  varinat_start  variant_end ref_neucleotide  \\\n",
       "2627   rs1401534466       24449613     24449615              CC   \n",
       "2673   rs1401534466       24449613     24449615              CC   \n",
       "2719   rs1401534466       24449613     24449615              CC   \n",
       "2765   rs1401534466       24449613     24449615              CC   \n",
       "3089   rs1479852926       24458982     24458983               G   \n",
       "...             ...            ...          ...             ...   \n",
       "18924   rs148132561        2774747      2774748               C   \n",
       "18960  rs1261941013        2774743      2774744               G   \n",
       "18963   rs148132561        2774747      2774748               C   \n",
       "18999  rs1261941013        2774743      2774744               G   \n",
       "19002   rs148132561        2774747      2774748               C   \n",
       "\n",
       "      alternative_neucleotide  \\\n",
       "2627                        C   \n",
       "2673                        C   \n",
       "2719                        C   \n",
       "2765                        C   \n",
       "3089                        C   \n",
       "...                       ...   \n",
       "18924                       A   \n",
       "18960                       A   \n",
       "18963                       A   \n",
       "18999                       A   \n",
       "19002                       A   \n",
       "\n",
       "                                           reference_seq  \\\n",
       "2627   CCAGGCACCTCGTGAGCTGGCCTTTCCTTTTGTACATGGTAAGAGA...   \n",
       "2673   CCAGGCACCTCGTGAGCTGGCCTTTCCTTTTGTACATGGTAAGAGA...   \n",
       "2719   CCAGGCACCTCGTGAGCTGGCCTTTCCTTTTGTACATGGTAAGAGA...   \n",
       "2765   CCAGGCACCTCGTGAGCTGGCCTTTCCTTTTGTACATGGTAAGAGA...   \n",
       "3089   GGGCTACATTCTGTCCACAACCATTGCTATCACAGCAGGTAAGGGT...   \n",
       "...                                                  ...   \n",
       "18924  CTCTTTGTTCACAGAACCCACCAAGAAGCCAAACTCAGGTGAGTGT...   \n",
       "18960  CTCTTTGTTCACAGAACCCACCAAGAAGCCAAACTCAGGTGAGTGT...   \n",
       "18963  CTCTTTGTTCACAGAACCCACCAAGAAGCCAAACTCAGGTGAGTGT...   \n",
       "18999  CTCTTTGTTCACAGAACCCACCAAGAAGCCAAACTCAGGTGAGTGT...   \n",
       "19002  CTCTTTGTTCACAGAACCCACCAAGAAGCCAAACTCAGGTGAGTGT...   \n",
       "\n",
       "                                                 alt_seq  \\\n",
       "2627   CCAGGCACCTCGTGAGCTGGCCTTTCTTTTGTACATGGTAAGAGAA...   \n",
       "2673   CCAGGCACCTCGTGAGCTGGCCTTTCTTTTGTACATGGTAAGAGAA...   \n",
       "2719   CCAGGCACCTCGTGAGCTGGCCTTTCTTTTGTACATGGTAAGAGAA...   \n",
       "2765   CCAGGCACCTCGTGAGCTGGCCTTTCTTTTGTACATGGTAAGAGAA...   \n",
       "3089   GGGCTACATTCTGTCCACAACCATTGCTATCACAGCAGGTAAGGCT...   \n",
       "...                                                  ...   \n",
       "18924  CTCTTTGTTCACAGAACCCACCAAGAAGCCAAACTCAGGTGAGTGT...   \n",
       "18960  CTCTTTGTTCACAGAACCCACCAAGAAGCCAAACTCAGGTGAATGT...   \n",
       "18963  CTCTTTGTTCACAGAACCCACCAAGAAGCCAAACTCAGGTGAGTGT...   \n",
       "18999  CTCTTTGTTCACAGAACCCACCAAGAAGCCAAACTCAGGTGAATGT...   \n",
       "19002  CTCTTTGTTCACAGAACCCACCAAGAAGCCAAACTCAGGTGAGTGT...   \n",
       "\n",
       "      Ensemble_Transcript_ID  Ref_probab  Alt_probab  ScoreChange  \\\n",
       "2627         ENST00000003912    0.976278    0.046042    -0.908168   \n",
       "2673         ENST00000339255    0.976278    0.046042    -0.908168   \n",
       "2719         ENST00000358028    0.976278    0.046042    -0.908168   \n",
       "2765         ENST00000374399    0.976278    0.046042    -0.908168   \n",
       "3089         ENST00000003912    0.562571    0.107575    -0.255967   \n",
       "...                      ...         ...         ...          ...   \n",
       "18924        ENST00000681787    0.352675    0.767167     0.317984   \n",
       "18960        ENST00000679518    0.352675    0.717776     0.262060   \n",
       "18963        ENST00000679518    0.352675    0.767167     0.317984   \n",
       "18999        ENST00000681940    0.352675    0.717776     0.262060   \n",
       "19002        ENST00000681940    0.352675    0.767167     0.317984   \n",
       "\n",
       "       LogOddRatio  score_change_new  \n",
       "2627      9.735875         -0.930236  \n",
       "2673      9.735875         -0.930236  \n",
       "2719      9.735875         -0.930236  \n",
       "2765      9.735875         -0.930236  \n",
       "3089      3.415373         -0.454996  \n",
       "...            ...               ...  \n",
       "18924    -2.596395          0.414492  \n",
       "18960    -2.222843          0.365101  \n",
       "18963    -2.596395          0.414492  \n",
       "18999    -2.222843          0.365101  \n",
       "19002    -2.596395          0.414492  \n",
       "\n",
       "[1394369 rows x 18 columns]"
      ]
     },
     "execution_count": 54,
     "metadata": {},
     "output_type": "execute_result"
    }
   ],
   "source": [
    "df_interest = df_interest[(df_interest['ScoreChange']>0.25)|(df_interest['ScoreChange']<-0.25)]\n",
    "df_interest"
   ]
  },
  {
   "cell_type": "code",
   "execution_count": 55,
   "id": "6bac916c-0826-4402-867f-1274976a5756",
   "metadata": {},
   "outputs": [
    {
     "data": {
      "text/html": [
       "<div>\n",
       "<style scoped>\n",
       "    .dataframe tbody tr th:only-of-type {\n",
       "        vertical-align: middle;\n",
       "    }\n",
       "\n",
       "    .dataframe tbody tr th {\n",
       "        vertical-align: top;\n",
       "    }\n",
       "\n",
       "    .dataframe thead th {\n",
       "        text-align: right;\n",
       "    }\n",
       "</style>\n",
       "<table border=\"1\" class=\"dataframe\">\n",
       "  <thead>\n",
       "    <tr style=\"text-align: right;\">\n",
       "      <th></th>\n",
       "      <th>index</th>\n",
       "      <th>chr</th>\n",
       "      <th>strand</th>\n",
       "      <th>Donor_coordinates</th>\n",
       "      <th>Transcript_coordinates</th>\n",
       "      <th>dbsnp_id</th>\n",
       "      <th>varinat_start</th>\n",
       "      <th>variant_end</th>\n",
       "      <th>ref_neucleotide</th>\n",
       "      <th>alternative_neucleotide</th>\n",
       "      <th>reference_seq</th>\n",
       "      <th>alt_seq</th>\n",
       "      <th>Ensemble_Transcript_ID</th>\n",
       "      <th>Ref_probab</th>\n",
       "      <th>Alt_probab</th>\n",
       "      <th>ScoreChange</th>\n",
       "      <th>LogOddRatio</th>\n",
       "      <th>score_change_new</th>\n",
       "      <th>variant_length</th>\n",
       "    </tr>\n",
       "  </thead>\n",
       "  <tbody>\n",
       "    <tr>\n",
       "      <th>2627</th>\n",
       "      <td>2627</td>\n",
       "      <td>chr1</td>\n",
       "      <td>+</td>\n",
       "      <td>24449588-24449667</td>\n",
       "      <td>24415803-24472976</td>\n",
       "      <td>rs1401534466</td>\n",
       "      <td>24449613</td>\n",
       "      <td>24449615</td>\n",
       "      <td>CC</td>\n",
       "      <td>C</td>\n",
       "      <td>CCAGGCACCTCGTGAGCTGGCCTTTCCTTTTGTACATGGTAAGAGA...</td>\n",
       "      <td>CCAGGCACCTCGTGAGCTGGCCTTTCTTTTGTACATGGTAAGAGAA...</td>\n",
       "      <td>ENST00000003912</td>\n",
       "      <td>0.976278</td>\n",
       "      <td>0.046042</td>\n",
       "      <td>-0.908168</td>\n",
       "      <td>9.735875</td>\n",
       "      <td>-0.930236</td>\n",
       "      <td>2</td>\n",
       "    </tr>\n",
       "    <tr>\n",
       "      <th>2673</th>\n",
       "      <td>2673</td>\n",
       "      <td>chr1</td>\n",
       "      <td>+</td>\n",
       "      <td>24449588-24449667</td>\n",
       "      <td>24415814-24466310</td>\n",
       "      <td>rs1401534466</td>\n",
       "      <td>24449613</td>\n",
       "      <td>24449615</td>\n",
       "      <td>CC</td>\n",
       "      <td>C</td>\n",
       "      <td>CCAGGCACCTCGTGAGCTGGCCTTTCCTTTTGTACATGGTAAGAGA...</td>\n",
       "      <td>CCAGGCACCTCGTGAGCTGGCCTTTCTTTTGTACATGGTAAGAGAA...</td>\n",
       "      <td>ENST00000339255</td>\n",
       "      <td>0.976278</td>\n",
       "      <td>0.046042</td>\n",
       "      <td>-0.908168</td>\n",
       "      <td>9.735875</td>\n",
       "      <td>-0.930236</td>\n",
       "      <td>2</td>\n",
       "    </tr>\n",
       "    <tr>\n",
       "      <th>2719</th>\n",
       "      <td>2719</td>\n",
       "      <td>chr1</td>\n",
       "      <td>+</td>\n",
       "      <td>24449588-24449667</td>\n",
       "      <td>24415813-24454824</td>\n",
       "      <td>rs1401534466</td>\n",
       "      <td>24449613</td>\n",
       "      <td>24449615</td>\n",
       "      <td>CC</td>\n",
       "      <td>C</td>\n",
       "      <td>CCAGGCACCTCGTGAGCTGGCCTTTCCTTTTGTACATGGTAAGAGA...</td>\n",
       "      <td>CCAGGCACCTCGTGAGCTGGCCTTTCTTTTGTACATGGTAAGAGAA...</td>\n",
       "      <td>ENST00000358028</td>\n",
       "      <td>0.976278</td>\n",
       "      <td>0.046042</td>\n",
       "      <td>-0.908168</td>\n",
       "      <td>9.735875</td>\n",
       "      <td>-0.930236</td>\n",
       "      <td>2</td>\n",
       "    </tr>\n",
       "    <tr>\n",
       "      <th>2765</th>\n",
       "      <td>2765</td>\n",
       "      <td>chr1</td>\n",
       "      <td>+</td>\n",
       "      <td>24449588-24449667</td>\n",
       "      <td>24415802-24472976</td>\n",
       "      <td>rs1401534466</td>\n",
       "      <td>24449613</td>\n",
       "      <td>24449615</td>\n",
       "      <td>CC</td>\n",
       "      <td>C</td>\n",
       "      <td>CCAGGCACCTCGTGAGCTGGCCTTTCCTTTTGTACATGGTAAGAGA...</td>\n",
       "      <td>CCAGGCACCTCGTGAGCTGGCCTTTCTTTTGTACATGGTAAGAGAA...</td>\n",
       "      <td>ENST00000374399</td>\n",
       "      <td>0.976278</td>\n",
       "      <td>0.046042</td>\n",
       "      <td>-0.908168</td>\n",
       "      <td>9.735875</td>\n",
       "      <td>-0.930236</td>\n",
       "      <td>2</td>\n",
       "    </tr>\n",
       "    <tr>\n",
       "      <th>3089</th>\n",
       "      <td>3089</td>\n",
       "      <td>chr1</td>\n",
       "      <td>+</td>\n",
       "      <td>24458938-24459017</td>\n",
       "      <td>24415803-24472976</td>\n",
       "      <td>rs1479852926</td>\n",
       "      <td>24458982</td>\n",
       "      <td>24458983</td>\n",
       "      <td>G</td>\n",
       "      <td>C</td>\n",
       "      <td>GGGCTACATTCTGTCCACAACCATTGCTATCACAGCAGGTAAGGGT...</td>\n",
       "      <td>GGGCTACATTCTGTCCACAACCATTGCTATCACAGCAGGTAAGGCT...</td>\n",
       "      <td>ENST00000003912</td>\n",
       "      <td>0.562571</td>\n",
       "      <td>0.107575</td>\n",
       "      <td>-0.255967</td>\n",
       "      <td>3.415373</td>\n",
       "      <td>-0.454996</td>\n",
       "      <td>1</td>\n",
       "    </tr>\n",
       "    <tr>\n",
       "      <th>...</th>\n",
       "      <td>...</td>\n",
       "      <td>...</td>\n",
       "      <td>...</td>\n",
       "      <td>...</td>\n",
       "      <td>...</td>\n",
       "      <td>...</td>\n",
       "      <td>...</td>\n",
       "      <td>...</td>\n",
       "      <td>...</td>\n",
       "      <td>...</td>\n",
       "      <td>...</td>\n",
       "      <td>...</td>\n",
       "      <td>...</td>\n",
       "      <td>...</td>\n",
       "      <td>...</td>\n",
       "      <td>...</td>\n",
       "      <td>...</td>\n",
       "      <td>...</td>\n",
       "      <td>...</td>\n",
       "    </tr>\n",
       "    <tr>\n",
       "      <th>18924</th>\n",
       "      <td>88837</td>\n",
       "      <td>chrY</td>\n",
       "      <td>+</td>\n",
       "      <td>2774701-2774780</td>\n",
       "      <td>2752296-2845689</td>\n",
       "      <td>rs148132561</td>\n",
       "      <td>2774747</td>\n",
       "      <td>2774748</td>\n",
       "      <td>C</td>\n",
       "      <td>A</td>\n",
       "      <td>CTCTTTGTTCACAGAACCCACCAAGAAGCCAAACTCAGGTGAGTGT...</td>\n",
       "      <td>CTCTTTGTTCACAGAACCCACCAAGAAGCCAAACTCAGGTGAGTGT...</td>\n",
       "      <td>ENST00000681787</td>\n",
       "      <td>0.352675</td>\n",
       "      <td>0.767167</td>\n",
       "      <td>0.317984</td>\n",
       "      <td>-2.596395</td>\n",
       "      <td>0.414492</td>\n",
       "      <td>1</td>\n",
       "    </tr>\n",
       "    <tr>\n",
       "      <th>18960</th>\n",
       "      <td>88873</td>\n",
       "      <td>chrY</td>\n",
       "      <td>+</td>\n",
       "      <td>2774701-2774780</td>\n",
       "      <td>2752296-2845689</td>\n",
       "      <td>rs1261941013</td>\n",
       "      <td>2774743</td>\n",
       "      <td>2774744</td>\n",
       "      <td>G</td>\n",
       "      <td>A</td>\n",
       "      <td>CTCTTTGTTCACAGAACCCACCAAGAAGCCAAACTCAGGTGAGTGT...</td>\n",
       "      <td>CTCTTTGTTCACAGAACCCACCAAGAAGCCAAACTCAGGTGAATGT...</td>\n",
       "      <td>ENST00000679518</td>\n",
       "      <td>0.352675</td>\n",
       "      <td>0.717776</td>\n",
       "      <td>0.262060</td>\n",
       "      <td>-2.222843</td>\n",
       "      <td>0.365101</td>\n",
       "      <td>1</td>\n",
       "    </tr>\n",
       "    <tr>\n",
       "      <th>18963</th>\n",
       "      <td>88876</td>\n",
       "      <td>chrY</td>\n",
       "      <td>+</td>\n",
       "      <td>2774701-2774780</td>\n",
       "      <td>2752296-2845689</td>\n",
       "      <td>rs148132561</td>\n",
       "      <td>2774747</td>\n",
       "      <td>2774748</td>\n",
       "      <td>C</td>\n",
       "      <td>A</td>\n",
       "      <td>CTCTTTGTTCACAGAACCCACCAAGAAGCCAAACTCAGGTGAGTGT...</td>\n",
       "      <td>CTCTTTGTTCACAGAACCCACCAAGAAGCCAAACTCAGGTGAGTGT...</td>\n",
       "      <td>ENST00000679518</td>\n",
       "      <td>0.352675</td>\n",
       "      <td>0.767167</td>\n",
       "      <td>0.317984</td>\n",
       "      <td>-2.596395</td>\n",
       "      <td>0.414492</td>\n",
       "      <td>1</td>\n",
       "    </tr>\n",
       "    <tr>\n",
       "      <th>18999</th>\n",
       "      <td>88912</td>\n",
       "      <td>chrY</td>\n",
       "      <td>+</td>\n",
       "      <td>2774701-2774780</td>\n",
       "      <td>2752296-2854641</td>\n",
       "      <td>rs1261941013</td>\n",
       "      <td>2774743</td>\n",
       "      <td>2774744</td>\n",
       "      <td>G</td>\n",
       "      <td>A</td>\n",
       "      <td>CTCTTTGTTCACAGAACCCACCAAGAAGCCAAACTCAGGTGAGTGT...</td>\n",
       "      <td>CTCTTTGTTCACAGAACCCACCAAGAAGCCAAACTCAGGTGAATGT...</td>\n",
       "      <td>ENST00000681940</td>\n",
       "      <td>0.352675</td>\n",
       "      <td>0.717776</td>\n",
       "      <td>0.262060</td>\n",
       "      <td>-2.222843</td>\n",
       "      <td>0.365101</td>\n",
       "      <td>1</td>\n",
       "    </tr>\n",
       "    <tr>\n",
       "      <th>19002</th>\n",
       "      <td>88915</td>\n",
       "      <td>chrY</td>\n",
       "      <td>+</td>\n",
       "      <td>2774701-2774780</td>\n",
       "      <td>2752296-2854641</td>\n",
       "      <td>rs148132561</td>\n",
       "      <td>2774747</td>\n",
       "      <td>2774748</td>\n",
       "      <td>C</td>\n",
       "      <td>A</td>\n",
       "      <td>CTCTTTGTTCACAGAACCCACCAAGAAGCCAAACTCAGGTGAGTGT...</td>\n",
       "      <td>CTCTTTGTTCACAGAACCCACCAAGAAGCCAAACTCAGGTGAGTGT...</td>\n",
       "      <td>ENST00000681940</td>\n",
       "      <td>0.352675</td>\n",
       "      <td>0.767167</td>\n",
       "      <td>0.317984</td>\n",
       "      <td>-2.596395</td>\n",
       "      <td>0.414492</td>\n",
       "      <td>1</td>\n",
       "    </tr>\n",
       "  </tbody>\n",
       "</table>\n",
       "<p>1394369 rows × 19 columns</p>\n",
       "</div>"
      ],
      "text/plain": [
       "       index   chr strand  Donor_coordinates Transcript_coordinates  \\\n",
       "2627    2627  chr1      +  24449588-24449667      24415803-24472976   \n",
       "2673    2673  chr1      +  24449588-24449667      24415814-24466310   \n",
       "2719    2719  chr1      +  24449588-24449667      24415813-24454824   \n",
       "2765    2765  chr1      +  24449588-24449667      24415802-24472976   \n",
       "3089    3089  chr1      +  24458938-24459017      24415803-24472976   \n",
       "...      ...   ...    ...                ...                    ...   \n",
       "18924  88837  chrY      +    2774701-2774780        2752296-2845689   \n",
       "18960  88873  chrY      +    2774701-2774780        2752296-2845689   \n",
       "18963  88876  chrY      +    2774701-2774780        2752296-2845689   \n",
       "18999  88912  chrY      +    2774701-2774780        2752296-2854641   \n",
       "19002  88915  chrY      +    2774701-2774780        2752296-2854641   \n",
       "\n",
       "           dbsnp_id  varinat_start  variant_end ref_neucleotide  \\\n",
       "2627   rs1401534466       24449613     24449615              CC   \n",
       "2673   rs1401534466       24449613     24449615              CC   \n",
       "2719   rs1401534466       24449613     24449615              CC   \n",
       "2765   rs1401534466       24449613     24449615              CC   \n",
       "3089   rs1479852926       24458982     24458983               G   \n",
       "...             ...            ...          ...             ...   \n",
       "18924   rs148132561        2774747      2774748               C   \n",
       "18960  rs1261941013        2774743      2774744               G   \n",
       "18963   rs148132561        2774747      2774748               C   \n",
       "18999  rs1261941013        2774743      2774744               G   \n",
       "19002   rs148132561        2774747      2774748               C   \n",
       "\n",
       "      alternative_neucleotide  \\\n",
       "2627                        C   \n",
       "2673                        C   \n",
       "2719                        C   \n",
       "2765                        C   \n",
       "3089                        C   \n",
       "...                       ...   \n",
       "18924                       A   \n",
       "18960                       A   \n",
       "18963                       A   \n",
       "18999                       A   \n",
       "19002                       A   \n",
       "\n",
       "                                           reference_seq  \\\n",
       "2627   CCAGGCACCTCGTGAGCTGGCCTTTCCTTTTGTACATGGTAAGAGA...   \n",
       "2673   CCAGGCACCTCGTGAGCTGGCCTTTCCTTTTGTACATGGTAAGAGA...   \n",
       "2719   CCAGGCACCTCGTGAGCTGGCCTTTCCTTTTGTACATGGTAAGAGA...   \n",
       "2765   CCAGGCACCTCGTGAGCTGGCCTTTCCTTTTGTACATGGTAAGAGA...   \n",
       "3089   GGGCTACATTCTGTCCACAACCATTGCTATCACAGCAGGTAAGGGT...   \n",
       "...                                                  ...   \n",
       "18924  CTCTTTGTTCACAGAACCCACCAAGAAGCCAAACTCAGGTGAGTGT...   \n",
       "18960  CTCTTTGTTCACAGAACCCACCAAGAAGCCAAACTCAGGTGAGTGT...   \n",
       "18963  CTCTTTGTTCACAGAACCCACCAAGAAGCCAAACTCAGGTGAGTGT...   \n",
       "18999  CTCTTTGTTCACAGAACCCACCAAGAAGCCAAACTCAGGTGAGTGT...   \n",
       "19002  CTCTTTGTTCACAGAACCCACCAAGAAGCCAAACTCAGGTGAGTGT...   \n",
       "\n",
       "                                                 alt_seq  \\\n",
       "2627   CCAGGCACCTCGTGAGCTGGCCTTTCTTTTGTACATGGTAAGAGAA...   \n",
       "2673   CCAGGCACCTCGTGAGCTGGCCTTTCTTTTGTACATGGTAAGAGAA...   \n",
       "2719   CCAGGCACCTCGTGAGCTGGCCTTTCTTTTGTACATGGTAAGAGAA...   \n",
       "2765   CCAGGCACCTCGTGAGCTGGCCTTTCTTTTGTACATGGTAAGAGAA...   \n",
       "3089   GGGCTACATTCTGTCCACAACCATTGCTATCACAGCAGGTAAGGCT...   \n",
       "...                                                  ...   \n",
       "18924  CTCTTTGTTCACAGAACCCACCAAGAAGCCAAACTCAGGTGAGTGT...   \n",
       "18960  CTCTTTGTTCACAGAACCCACCAAGAAGCCAAACTCAGGTGAATGT...   \n",
       "18963  CTCTTTGTTCACAGAACCCACCAAGAAGCCAAACTCAGGTGAGTGT...   \n",
       "18999  CTCTTTGTTCACAGAACCCACCAAGAAGCCAAACTCAGGTGAATGT...   \n",
       "19002  CTCTTTGTTCACAGAACCCACCAAGAAGCCAAACTCAGGTGAGTGT...   \n",
       "\n",
       "      Ensemble_Transcript_ID  Ref_probab  Alt_probab  ScoreChange  \\\n",
       "2627         ENST00000003912    0.976278    0.046042    -0.908168   \n",
       "2673         ENST00000339255    0.976278    0.046042    -0.908168   \n",
       "2719         ENST00000358028    0.976278    0.046042    -0.908168   \n",
       "2765         ENST00000374399    0.976278    0.046042    -0.908168   \n",
       "3089         ENST00000003912    0.562571    0.107575    -0.255967   \n",
       "...                      ...         ...         ...          ...   \n",
       "18924        ENST00000681787    0.352675    0.767167     0.317984   \n",
       "18960        ENST00000679518    0.352675    0.717776     0.262060   \n",
       "18963        ENST00000679518    0.352675    0.767167     0.317984   \n",
       "18999        ENST00000681940    0.352675    0.717776     0.262060   \n",
       "19002        ENST00000681940    0.352675    0.767167     0.317984   \n",
       "\n",
       "       LogOddRatio  score_change_new  variant_length  \n",
       "2627      9.735875         -0.930236               2  \n",
       "2673      9.735875         -0.930236               2  \n",
       "2719      9.735875         -0.930236               2  \n",
       "2765      9.735875         -0.930236               2  \n",
       "3089      3.415373         -0.454996               1  \n",
       "...            ...               ...             ...  \n",
       "18924    -2.596395          0.414492               1  \n",
       "18960    -2.222843          0.365101               1  \n",
       "18963    -2.596395          0.414492               1  \n",
       "18999    -2.222843          0.365101               1  \n",
       "19002    -2.596395          0.414492               1  \n",
       "\n",
       "[1394369 rows x 19 columns]"
      ]
     },
     "execution_count": 55,
     "metadata": {},
     "output_type": "execute_result"
    }
   ],
   "source": [
    "df_interest['variant_length'] = df_interest['variant_end']-df_interest['varinat_start']\n",
    "df_interest"
   ]
  },
  {
   "cell_type": "code",
   "execution_count": 56,
   "id": "440c4eaf-6a6c-49fc-8788-4e2fc0d824bb",
   "metadata": {},
   "outputs": [
    {
     "data": {
      "text/html": [
       "<div>\n",
       "<style scoped>\n",
       "    .dataframe tbody tr th:only-of-type {\n",
       "        vertical-align: middle;\n",
       "    }\n",
       "\n",
       "    .dataframe tbody tr th {\n",
       "        vertical-align: top;\n",
       "    }\n",
       "\n",
       "    .dataframe thead th {\n",
       "        text-align: right;\n",
       "    }\n",
       "</style>\n",
       "<table border=\"1\" class=\"dataframe\">\n",
       "  <thead>\n",
       "    <tr style=\"text-align: right;\">\n",
       "      <th></th>\n",
       "      <th>index</th>\n",
       "      <th>chr</th>\n",
       "      <th>strand</th>\n",
       "      <th>Donor_coordinates</th>\n",
       "      <th>Transcript_coordinates</th>\n",
       "      <th>dbsnp_id</th>\n",
       "      <th>varinat_start</th>\n",
       "      <th>variant_end</th>\n",
       "      <th>ref_neucleotide</th>\n",
       "      <th>alternative_neucleotide</th>\n",
       "      <th>reference_seq</th>\n",
       "      <th>alt_seq</th>\n",
       "      <th>Ensemble_Transcript_ID</th>\n",
       "      <th>Ref_probab</th>\n",
       "      <th>Alt_probab</th>\n",
       "      <th>ScoreChange</th>\n",
       "      <th>LogOddRatio</th>\n",
       "      <th>score_change_new</th>\n",
       "      <th>variant_length</th>\n",
       "    </tr>\n",
       "  </thead>\n",
       "  <tbody>\n",
       "    <tr>\n",
       "      <th>2627</th>\n",
       "      <td>2627</td>\n",
       "      <td>chr1</td>\n",
       "      <td>+</td>\n",
       "      <td>24449588-24449667</td>\n",
       "      <td>24415803-24472976</td>\n",
       "      <td>rs1401534466</td>\n",
       "      <td>24449613</td>\n",
       "      <td>24449615</td>\n",
       "      <td>CC</td>\n",
       "      <td>C</td>\n",
       "      <td>CCAGGCACCTCGTGAGCTGGCCTTTCCTTTTGTACATGGTAAGAGA...</td>\n",
       "      <td>CCAGGCACCTCGTGAGCTGGCCTTTCTTTTGTACATGGTAAGAGAA...</td>\n",
       "      <td>ENST00000003912</td>\n",
       "      <td>0.976278</td>\n",
       "      <td>0.046042</td>\n",
       "      <td>-0.908168</td>\n",
       "      <td>9.735875</td>\n",
       "      <td>-0.930236</td>\n",
       "      <td>2</td>\n",
       "    </tr>\n",
       "    <tr>\n",
       "      <th>2673</th>\n",
       "      <td>2673</td>\n",
       "      <td>chr1</td>\n",
       "      <td>+</td>\n",
       "      <td>24449588-24449667</td>\n",
       "      <td>24415814-24466310</td>\n",
       "      <td>rs1401534466</td>\n",
       "      <td>24449613</td>\n",
       "      <td>24449615</td>\n",
       "      <td>CC</td>\n",
       "      <td>C</td>\n",
       "      <td>CCAGGCACCTCGTGAGCTGGCCTTTCCTTTTGTACATGGTAAGAGA...</td>\n",
       "      <td>CCAGGCACCTCGTGAGCTGGCCTTTCTTTTGTACATGGTAAGAGAA...</td>\n",
       "      <td>ENST00000339255</td>\n",
       "      <td>0.976278</td>\n",
       "      <td>0.046042</td>\n",
       "      <td>-0.908168</td>\n",
       "      <td>9.735875</td>\n",
       "      <td>-0.930236</td>\n",
       "      <td>2</td>\n",
       "    </tr>\n",
       "    <tr>\n",
       "      <th>2719</th>\n",
       "      <td>2719</td>\n",
       "      <td>chr1</td>\n",
       "      <td>+</td>\n",
       "      <td>24449588-24449667</td>\n",
       "      <td>24415813-24454824</td>\n",
       "      <td>rs1401534466</td>\n",
       "      <td>24449613</td>\n",
       "      <td>24449615</td>\n",
       "      <td>CC</td>\n",
       "      <td>C</td>\n",
       "      <td>CCAGGCACCTCGTGAGCTGGCCTTTCCTTTTGTACATGGTAAGAGA...</td>\n",
       "      <td>CCAGGCACCTCGTGAGCTGGCCTTTCTTTTGTACATGGTAAGAGAA...</td>\n",
       "      <td>ENST00000358028</td>\n",
       "      <td>0.976278</td>\n",
       "      <td>0.046042</td>\n",
       "      <td>-0.908168</td>\n",
       "      <td>9.735875</td>\n",
       "      <td>-0.930236</td>\n",
       "      <td>2</td>\n",
       "    </tr>\n",
       "    <tr>\n",
       "      <th>2765</th>\n",
       "      <td>2765</td>\n",
       "      <td>chr1</td>\n",
       "      <td>+</td>\n",
       "      <td>24449588-24449667</td>\n",
       "      <td>24415802-24472976</td>\n",
       "      <td>rs1401534466</td>\n",
       "      <td>24449613</td>\n",
       "      <td>24449615</td>\n",
       "      <td>CC</td>\n",
       "      <td>C</td>\n",
       "      <td>CCAGGCACCTCGTGAGCTGGCCTTTCCTTTTGTACATGGTAAGAGA...</td>\n",
       "      <td>CCAGGCACCTCGTGAGCTGGCCTTTCTTTTGTACATGGTAAGAGAA...</td>\n",
       "      <td>ENST00000374399</td>\n",
       "      <td>0.976278</td>\n",
       "      <td>0.046042</td>\n",
       "      <td>-0.908168</td>\n",
       "      <td>9.735875</td>\n",
       "      <td>-0.930236</td>\n",
       "      <td>2</td>\n",
       "    </tr>\n",
       "    <tr>\n",
       "      <th>3089</th>\n",
       "      <td>3089</td>\n",
       "      <td>chr1</td>\n",
       "      <td>+</td>\n",
       "      <td>24458938-24459017</td>\n",
       "      <td>24415803-24472976</td>\n",
       "      <td>rs1479852926</td>\n",
       "      <td>24458982</td>\n",
       "      <td>24458983</td>\n",
       "      <td>G</td>\n",
       "      <td>C</td>\n",
       "      <td>GGGCTACATTCTGTCCACAACCATTGCTATCACAGCAGGTAAGGGT...</td>\n",
       "      <td>GGGCTACATTCTGTCCACAACCATTGCTATCACAGCAGGTAAGGCT...</td>\n",
       "      <td>ENST00000003912</td>\n",
       "      <td>0.562571</td>\n",
       "      <td>0.107575</td>\n",
       "      <td>-0.255967</td>\n",
       "      <td>3.415373</td>\n",
       "      <td>-0.454996</td>\n",
       "      <td>1</td>\n",
       "    </tr>\n",
       "    <tr>\n",
       "      <th>...</th>\n",
       "      <td>...</td>\n",
       "      <td>...</td>\n",
       "      <td>...</td>\n",
       "      <td>...</td>\n",
       "      <td>...</td>\n",
       "      <td>...</td>\n",
       "      <td>...</td>\n",
       "      <td>...</td>\n",
       "      <td>...</td>\n",
       "      <td>...</td>\n",
       "      <td>...</td>\n",
       "      <td>...</td>\n",
       "      <td>...</td>\n",
       "      <td>...</td>\n",
       "      <td>...</td>\n",
       "      <td>...</td>\n",
       "      <td>...</td>\n",
       "      <td>...</td>\n",
       "      <td>...</td>\n",
       "    </tr>\n",
       "    <tr>\n",
       "      <th>18924</th>\n",
       "      <td>88837</td>\n",
       "      <td>chrY</td>\n",
       "      <td>+</td>\n",
       "      <td>2774701-2774780</td>\n",
       "      <td>2752296-2845689</td>\n",
       "      <td>rs148132561</td>\n",
       "      <td>2774747</td>\n",
       "      <td>2774748</td>\n",
       "      <td>C</td>\n",
       "      <td>A</td>\n",
       "      <td>CTCTTTGTTCACAGAACCCACCAAGAAGCCAAACTCAGGTGAGTGT...</td>\n",
       "      <td>CTCTTTGTTCACAGAACCCACCAAGAAGCCAAACTCAGGTGAGTGT...</td>\n",
       "      <td>ENST00000681787</td>\n",
       "      <td>0.352675</td>\n",
       "      <td>0.767167</td>\n",
       "      <td>0.317984</td>\n",
       "      <td>-2.596395</td>\n",
       "      <td>0.414492</td>\n",
       "      <td>1</td>\n",
       "    </tr>\n",
       "    <tr>\n",
       "      <th>18960</th>\n",
       "      <td>88873</td>\n",
       "      <td>chrY</td>\n",
       "      <td>+</td>\n",
       "      <td>2774701-2774780</td>\n",
       "      <td>2752296-2845689</td>\n",
       "      <td>rs1261941013</td>\n",
       "      <td>2774743</td>\n",
       "      <td>2774744</td>\n",
       "      <td>G</td>\n",
       "      <td>A</td>\n",
       "      <td>CTCTTTGTTCACAGAACCCACCAAGAAGCCAAACTCAGGTGAGTGT...</td>\n",
       "      <td>CTCTTTGTTCACAGAACCCACCAAGAAGCCAAACTCAGGTGAATGT...</td>\n",
       "      <td>ENST00000679518</td>\n",
       "      <td>0.352675</td>\n",
       "      <td>0.717776</td>\n",
       "      <td>0.262060</td>\n",
       "      <td>-2.222843</td>\n",
       "      <td>0.365101</td>\n",
       "      <td>1</td>\n",
       "    </tr>\n",
       "    <tr>\n",
       "      <th>18963</th>\n",
       "      <td>88876</td>\n",
       "      <td>chrY</td>\n",
       "      <td>+</td>\n",
       "      <td>2774701-2774780</td>\n",
       "      <td>2752296-2845689</td>\n",
       "      <td>rs148132561</td>\n",
       "      <td>2774747</td>\n",
       "      <td>2774748</td>\n",
       "      <td>C</td>\n",
       "      <td>A</td>\n",
       "      <td>CTCTTTGTTCACAGAACCCACCAAGAAGCCAAACTCAGGTGAGTGT...</td>\n",
       "      <td>CTCTTTGTTCACAGAACCCACCAAGAAGCCAAACTCAGGTGAGTGT...</td>\n",
       "      <td>ENST00000679518</td>\n",
       "      <td>0.352675</td>\n",
       "      <td>0.767167</td>\n",
       "      <td>0.317984</td>\n",
       "      <td>-2.596395</td>\n",
       "      <td>0.414492</td>\n",
       "      <td>1</td>\n",
       "    </tr>\n",
       "    <tr>\n",
       "      <th>18999</th>\n",
       "      <td>88912</td>\n",
       "      <td>chrY</td>\n",
       "      <td>+</td>\n",
       "      <td>2774701-2774780</td>\n",
       "      <td>2752296-2854641</td>\n",
       "      <td>rs1261941013</td>\n",
       "      <td>2774743</td>\n",
       "      <td>2774744</td>\n",
       "      <td>G</td>\n",
       "      <td>A</td>\n",
       "      <td>CTCTTTGTTCACAGAACCCACCAAGAAGCCAAACTCAGGTGAGTGT...</td>\n",
       "      <td>CTCTTTGTTCACAGAACCCACCAAGAAGCCAAACTCAGGTGAATGT...</td>\n",
       "      <td>ENST00000681940</td>\n",
       "      <td>0.352675</td>\n",
       "      <td>0.717776</td>\n",
       "      <td>0.262060</td>\n",
       "      <td>-2.222843</td>\n",
       "      <td>0.365101</td>\n",
       "      <td>1</td>\n",
       "    </tr>\n",
       "    <tr>\n",
       "      <th>19002</th>\n",
       "      <td>88915</td>\n",
       "      <td>chrY</td>\n",
       "      <td>+</td>\n",
       "      <td>2774701-2774780</td>\n",
       "      <td>2752296-2854641</td>\n",
       "      <td>rs148132561</td>\n",
       "      <td>2774747</td>\n",
       "      <td>2774748</td>\n",
       "      <td>C</td>\n",
       "      <td>A</td>\n",
       "      <td>CTCTTTGTTCACAGAACCCACCAAGAAGCCAAACTCAGGTGAGTGT...</td>\n",
       "      <td>CTCTTTGTTCACAGAACCCACCAAGAAGCCAAACTCAGGTGAGTGT...</td>\n",
       "      <td>ENST00000681940</td>\n",
       "      <td>0.352675</td>\n",
       "      <td>0.767167</td>\n",
       "      <td>0.317984</td>\n",
       "      <td>-2.596395</td>\n",
       "      <td>0.414492</td>\n",
       "      <td>1</td>\n",
       "    </tr>\n",
       "  </tbody>\n",
       "</table>\n",
       "<p>1110634 rows × 19 columns</p>\n",
       "</div>"
      ],
      "text/plain": [
       "       index   chr strand  Donor_coordinates Transcript_coordinates  \\\n",
       "2627    2627  chr1      +  24449588-24449667      24415803-24472976   \n",
       "2673    2673  chr1      +  24449588-24449667      24415814-24466310   \n",
       "2719    2719  chr1      +  24449588-24449667      24415813-24454824   \n",
       "2765    2765  chr1      +  24449588-24449667      24415802-24472976   \n",
       "3089    3089  chr1      +  24458938-24459017      24415803-24472976   \n",
       "...      ...   ...    ...                ...                    ...   \n",
       "18924  88837  chrY      +    2774701-2774780        2752296-2845689   \n",
       "18960  88873  chrY      +    2774701-2774780        2752296-2845689   \n",
       "18963  88876  chrY      +    2774701-2774780        2752296-2845689   \n",
       "18999  88912  chrY      +    2774701-2774780        2752296-2854641   \n",
       "19002  88915  chrY      +    2774701-2774780        2752296-2854641   \n",
       "\n",
       "           dbsnp_id  varinat_start  variant_end ref_neucleotide  \\\n",
       "2627   rs1401534466       24449613     24449615              CC   \n",
       "2673   rs1401534466       24449613     24449615              CC   \n",
       "2719   rs1401534466       24449613     24449615              CC   \n",
       "2765   rs1401534466       24449613     24449615              CC   \n",
       "3089   rs1479852926       24458982     24458983               G   \n",
       "...             ...            ...          ...             ...   \n",
       "18924   rs148132561        2774747      2774748               C   \n",
       "18960  rs1261941013        2774743      2774744               G   \n",
       "18963   rs148132561        2774747      2774748               C   \n",
       "18999  rs1261941013        2774743      2774744               G   \n",
       "19002   rs148132561        2774747      2774748               C   \n",
       "\n",
       "      alternative_neucleotide  \\\n",
       "2627                        C   \n",
       "2673                        C   \n",
       "2719                        C   \n",
       "2765                        C   \n",
       "3089                        C   \n",
       "...                       ...   \n",
       "18924                       A   \n",
       "18960                       A   \n",
       "18963                       A   \n",
       "18999                       A   \n",
       "19002                       A   \n",
       "\n",
       "                                           reference_seq  \\\n",
       "2627   CCAGGCACCTCGTGAGCTGGCCTTTCCTTTTGTACATGGTAAGAGA...   \n",
       "2673   CCAGGCACCTCGTGAGCTGGCCTTTCCTTTTGTACATGGTAAGAGA...   \n",
       "2719   CCAGGCACCTCGTGAGCTGGCCTTTCCTTTTGTACATGGTAAGAGA...   \n",
       "2765   CCAGGCACCTCGTGAGCTGGCCTTTCCTTTTGTACATGGTAAGAGA...   \n",
       "3089   GGGCTACATTCTGTCCACAACCATTGCTATCACAGCAGGTAAGGGT...   \n",
       "...                                                  ...   \n",
       "18924  CTCTTTGTTCACAGAACCCACCAAGAAGCCAAACTCAGGTGAGTGT...   \n",
       "18960  CTCTTTGTTCACAGAACCCACCAAGAAGCCAAACTCAGGTGAGTGT...   \n",
       "18963  CTCTTTGTTCACAGAACCCACCAAGAAGCCAAACTCAGGTGAGTGT...   \n",
       "18999  CTCTTTGTTCACAGAACCCACCAAGAAGCCAAACTCAGGTGAGTGT...   \n",
       "19002  CTCTTTGTTCACAGAACCCACCAAGAAGCCAAACTCAGGTGAGTGT...   \n",
       "\n",
       "                                                 alt_seq  \\\n",
       "2627   CCAGGCACCTCGTGAGCTGGCCTTTCTTTTGTACATGGTAAGAGAA...   \n",
       "2673   CCAGGCACCTCGTGAGCTGGCCTTTCTTTTGTACATGGTAAGAGAA...   \n",
       "2719   CCAGGCACCTCGTGAGCTGGCCTTTCTTTTGTACATGGTAAGAGAA...   \n",
       "2765   CCAGGCACCTCGTGAGCTGGCCTTTCTTTTGTACATGGTAAGAGAA...   \n",
       "3089   GGGCTACATTCTGTCCACAACCATTGCTATCACAGCAGGTAAGGCT...   \n",
       "...                                                  ...   \n",
       "18924  CTCTTTGTTCACAGAACCCACCAAGAAGCCAAACTCAGGTGAGTGT...   \n",
       "18960  CTCTTTGTTCACAGAACCCACCAAGAAGCCAAACTCAGGTGAATGT...   \n",
       "18963  CTCTTTGTTCACAGAACCCACCAAGAAGCCAAACTCAGGTGAGTGT...   \n",
       "18999  CTCTTTGTTCACAGAACCCACCAAGAAGCCAAACTCAGGTGAATGT...   \n",
       "19002  CTCTTTGTTCACAGAACCCACCAAGAAGCCAAACTCAGGTGAGTGT...   \n",
       "\n",
       "      Ensemble_Transcript_ID  Ref_probab  Alt_probab  ScoreChange  \\\n",
       "2627         ENST00000003912    0.976278    0.046042    -0.908168   \n",
       "2673         ENST00000339255    0.976278    0.046042    -0.908168   \n",
       "2719         ENST00000358028    0.976278    0.046042    -0.908168   \n",
       "2765         ENST00000374399    0.976278    0.046042    -0.908168   \n",
       "3089         ENST00000003912    0.562571    0.107575    -0.255967   \n",
       "...                      ...         ...         ...          ...   \n",
       "18924        ENST00000681787    0.352675    0.767167     0.317984   \n",
       "18960        ENST00000679518    0.352675    0.717776     0.262060   \n",
       "18963        ENST00000679518    0.352675    0.767167     0.317984   \n",
       "18999        ENST00000681940    0.352675    0.717776     0.262060   \n",
       "19002        ENST00000681940    0.352675    0.767167     0.317984   \n",
       "\n",
       "       LogOddRatio  score_change_new  variant_length  \n",
       "2627      9.735875         -0.930236               2  \n",
       "2673      9.735875         -0.930236               2  \n",
       "2719      9.735875         -0.930236               2  \n",
       "2765      9.735875         -0.930236               2  \n",
       "3089      3.415373         -0.454996               1  \n",
       "...            ...               ...             ...  \n",
       "18924    -2.596395          0.414492               1  \n",
       "18960    -2.222843          0.365101               1  \n",
       "18963    -2.596395          0.414492               1  \n",
       "18999    -2.222843          0.365101               1  \n",
       "19002    -2.596395          0.414492               1  \n",
       "\n",
       "[1110634 rows x 19 columns]"
      ]
     },
     "execution_count": 56,
     "metadata": {},
     "output_type": "execute_result"
    }
   ],
   "source": [
    "df_interest[df_interest['variant_length']<=3]"
   ]
  },
  {
   "cell_type": "code",
   "execution_count": 57,
   "id": "8048e35d-fc61-4e5f-8af6-98dc18553e71",
   "metadata": {},
   "outputs": [
    {
     "data": {
      "image/png": "[encoded data removed]",
      "text/plain": [
       "<Figure size 640x480 with 1 Axes>"
      ]
     },
     "metadata": {},
     "output_type": "display_data"
    }
   ],
   "source": [
    "sns.kdeplot(df_interest['LogOddRatio'])\n",
    "plt.show()"
   ]
  },
  {
   "cell_type": "code",
   "execution_count": 58,
   "id": "093f7729-4425-4f0f-8733-0f0d7a090f36",
   "metadata": {},
   "outputs": [],
   "source": [
    "#df_interest['Z_Score'] = stats.zscore(df['LogOddRatio'])"
   ]
  },
  {
   "cell_type": "code",
   "execution_count": 59,
   "id": "c23b28a0-db15-486d-9bfc-2d270bb0a01b",
   "metadata": {},
   "outputs": [
    {
     "name": "stdout",
     "output_type": "stream",
     "text": [
      "-1.5085866004525268 5.731080702309094\n"
     ]
    }
   ],
   "source": [
    "mean = df_interest['LogOddRatio'].mean()\n",
    "std = df_interest['LogOddRatio'].std()\n",
    "print(mean, std)"
   ]
  },
  {
   "cell_type": "code",
   "execution_count": 60,
   "id": "e3d80ca2-c6de-4fbf-837b-d16d8a6c97fa",
   "metadata": {},
   "outputs": [],
   "source": [
    "#z_score, p_value = ztest(x1= df_interest['LogOddRatio'], value = mean)"
   ]
  },
  {
   "cell_type": "code",
   "execution_count": 61,
   "id": "ce700e5c-708b-4214-9cab-695a2f53a80b",
   "metadata": {},
   "outputs": [
    {
     "name": "stdout",
     "output_type": "stream",
     "text": [
      "-3.3219280948873626 3.3219280948873626\n"
     ]
    },
    {
     "data": {
      "image/png": "[encoded data removed]",
      "text/plain": [
       "<Figure size 640x480 with 1 Axes>"
      ]
     },
     "metadata": {},
     "output_type": "display_data"
    }
   ],
   "source": [
    "# print(z_score, p_value)\n",
    "# # Plot the distribution of 'LogOddRatio'\n",
    "\n",
    "sns.kdeplot(df_interest['LogOddRatio'], fill=True, linewidth=1)\n",
    "\n",
    "# # Get the extreme values for a two tailed test at alpha = 0.05\n",
    "# z_critical = norm.ppf(1 - 0.01/2) # two-tailed test at alpha = 0.05\n",
    "\n",
    "\n",
    "# print(z_critical)\n",
    "#x1, x2 = mean + 3*std, mean - 3*std\n",
    "x1= 3.3219280948873626\n",
    "x2 =-3.3219280948873626\n",
    "print(x2, x1)\n",
    "\n",
    "# Shade the area for the two tailed test\n",
    "plt.axvspan(min(df_interest['LogOddRatio']), x2, alpha=0.3, color='red')\n",
    "plt.axvspan(x1, max(df_interest['LogOddRatio']), alpha=0.3, color='red')\n",
    "\n",
    "# Add the observed z-score\n",
    "# plt.text(-17, 0.5, f'Left-tail value = {x2:.2f}', color='blue', ha='left', va='center')\n",
    "# plt.text(-3, 0.54, f'Right-tail value = {x1:.2f}', color='blue', ha='right', va='center')\n",
    "\n",
    "\n",
    "plt.title(f'Distribution of Relative Log Fold changes of Odds for Donor Model \\n Left-tail value = {x2:.2f};  Right-tail value = {x1:.2f}')\n",
    "plt.savefig('Donor_LogOddRatio_Distribution.png')\n",
    "plt.show()"
   ]
  },
  {
   "cell_type": "code",
   "execution_count": 62,
   "id": "84f0d768-0f1c-4849-b351-7c833586c8d6",
   "metadata": {},
   "outputs": [],
   "source": [
    "df_selected = df_interest[(df_interest['LogOddRatio']> x1)|(df_interest['LogOddRatio']<  x2)]"
   ]
  },
  {
   "cell_type": "code",
   "execution_count": 63,
   "id": "04057128-4ea0-4ec6-a6ad-c4ec91076780",
   "metadata": {},
   "outputs": [
    {
     "data": {
      "text/html": [
       "<div>\n",
       "<style scoped>\n",
       "    .dataframe tbody tr th:only-of-type {\n",
       "        vertical-align: middle;\n",
       "    }\n",
       "\n",
       "    .dataframe tbody tr th {\n",
       "        vertical-align: top;\n",
       "    }\n",
       "\n",
       "    .dataframe thead th {\n",
       "        text-align: right;\n",
       "    }\n",
       "</style>\n",
       "<table border=\"1\" class=\"dataframe\">\n",
       "  <thead>\n",
       "    <tr style=\"text-align: right;\">\n",
       "      <th></th>\n",
       "      <th>index</th>\n",
       "      <th>chr</th>\n",
       "      <th>strand</th>\n",
       "      <th>Donor_coordinates</th>\n",
       "      <th>Transcript_coordinates</th>\n",
       "      <th>dbsnp_id</th>\n",
       "      <th>varinat_start</th>\n",
       "      <th>variant_end</th>\n",
       "      <th>ref_neucleotide</th>\n",
       "      <th>alternative_neucleotide</th>\n",
       "      <th>reference_seq</th>\n",
       "      <th>alt_seq</th>\n",
       "      <th>Ensemble_Transcript_ID</th>\n",
       "      <th>Ref_probab</th>\n",
       "      <th>Alt_probab</th>\n",
       "      <th>ScoreChange</th>\n",
       "      <th>LogOddRatio</th>\n",
       "      <th>score_change_new</th>\n",
       "      <th>variant_length</th>\n",
       "    </tr>\n",
       "  </thead>\n",
       "  <tbody>\n",
       "    <tr>\n",
       "      <th>2627</th>\n",
       "      <td>2627</td>\n",
       "      <td>chr1</td>\n",
       "      <td>+</td>\n",
       "      <td>24449588-24449667</td>\n",
       "      <td>24415803-24472976</td>\n",
       "      <td>rs1401534466</td>\n",
       "      <td>24449613</td>\n",
       "      <td>24449615</td>\n",
       "      <td>CC</td>\n",
       "      <td>C</td>\n",
       "      <td>CCAGGCACCTCGTGAGCTGGCCTTTCCTTTTGTACATGGTAAGAGA...</td>\n",
       "      <td>CCAGGCACCTCGTGAGCTGGCCTTTCTTTTGTACATGGTAAGAGAA...</td>\n",
       "      <td>ENST00000003912</td>\n",
       "      <td>0.976278</td>\n",
       "      <td>0.046042</td>\n",
       "      <td>-0.908168</td>\n",
       "      <td>9.735875</td>\n",
       "      <td>-0.930236</td>\n",
       "      <td>2</td>\n",
       "    </tr>\n",
       "    <tr>\n",
       "      <th>2673</th>\n",
       "      <td>2673</td>\n",
       "      <td>chr1</td>\n",
       "      <td>+</td>\n",
       "      <td>24449588-24449667</td>\n",
       "      <td>24415814-24466310</td>\n",
       "      <td>rs1401534466</td>\n",
       "      <td>24449613</td>\n",
       "      <td>24449615</td>\n",
       "      <td>CC</td>\n",
       "      <td>C</td>\n",
       "      <td>CCAGGCACCTCGTGAGCTGGCCTTTCCTTTTGTACATGGTAAGAGA...</td>\n",
       "      <td>CCAGGCACCTCGTGAGCTGGCCTTTCTTTTGTACATGGTAAGAGAA...</td>\n",
       "      <td>ENST00000339255</td>\n",
       "      <td>0.976278</td>\n",
       "      <td>0.046042</td>\n",
       "      <td>-0.908168</td>\n",
       "      <td>9.735875</td>\n",
       "      <td>-0.930236</td>\n",
       "      <td>2</td>\n",
       "    </tr>\n",
       "    <tr>\n",
       "      <th>2719</th>\n",
       "      <td>2719</td>\n",
       "      <td>chr1</td>\n",
       "      <td>+</td>\n",
       "      <td>24449588-24449667</td>\n",
       "      <td>24415813-24454824</td>\n",
       "      <td>rs1401534466</td>\n",
       "      <td>24449613</td>\n",
       "      <td>24449615</td>\n",
       "      <td>CC</td>\n",
       "      <td>C</td>\n",
       "      <td>CCAGGCACCTCGTGAGCTGGCCTTTCCTTTTGTACATGGTAAGAGA...</td>\n",
       "      <td>CCAGGCACCTCGTGAGCTGGCCTTTCTTTTGTACATGGTAAGAGAA...</td>\n",
       "      <td>ENST00000358028</td>\n",
       "      <td>0.976278</td>\n",
       "      <td>0.046042</td>\n",
       "      <td>-0.908168</td>\n",
       "      <td>9.735875</td>\n",
       "      <td>-0.930236</td>\n",
       "      <td>2</td>\n",
       "    </tr>\n",
       "    <tr>\n",
       "      <th>2765</th>\n",
       "      <td>2765</td>\n",
       "      <td>chr1</td>\n",
       "      <td>+</td>\n",
       "      <td>24449588-24449667</td>\n",
       "      <td>24415802-24472976</td>\n",
       "      <td>rs1401534466</td>\n",
       "      <td>24449613</td>\n",
       "      <td>24449615</td>\n",
       "      <td>CC</td>\n",
       "      <td>C</td>\n",
       "      <td>CCAGGCACCTCGTGAGCTGGCCTTTCCTTTTGTACATGGTAAGAGA...</td>\n",
       "      <td>CCAGGCACCTCGTGAGCTGGCCTTTCTTTTGTACATGGTAAGAGAA...</td>\n",
       "      <td>ENST00000374399</td>\n",
       "      <td>0.976278</td>\n",
       "      <td>0.046042</td>\n",
       "      <td>-0.908168</td>\n",
       "      <td>9.735875</td>\n",
       "      <td>-0.930236</td>\n",
       "      <td>2</td>\n",
       "    </tr>\n",
       "    <tr>\n",
       "      <th>3089</th>\n",
       "      <td>3089</td>\n",
       "      <td>chr1</td>\n",
       "      <td>+</td>\n",
       "      <td>24458938-24459017</td>\n",
       "      <td>24415803-24472976</td>\n",
       "      <td>rs1479852926</td>\n",
       "      <td>24458982</td>\n",
       "      <td>24458983</td>\n",
       "      <td>G</td>\n",
       "      <td>C</td>\n",
       "      <td>GGGCTACATTCTGTCCACAACCATTGCTATCACAGCAGGTAAGGGT...</td>\n",
       "      <td>GGGCTACATTCTGTCCACAACCATTGCTATCACAGCAGGTAAGGCT...</td>\n",
       "      <td>ENST00000003912</td>\n",
       "      <td>0.562571</td>\n",
       "      <td>0.107575</td>\n",
       "      <td>-0.255967</td>\n",
       "      <td>3.415373</td>\n",
       "      <td>-0.454996</td>\n",
       "      <td>1</td>\n",
       "    </tr>\n",
       "    <tr>\n",
       "      <th>...</th>\n",
       "      <td>...</td>\n",
       "      <td>...</td>\n",
       "      <td>...</td>\n",
       "      <td>...</td>\n",
       "      <td>...</td>\n",
       "      <td>...</td>\n",
       "      <td>...</td>\n",
       "      <td>...</td>\n",
       "      <td>...</td>\n",
       "      <td>...</td>\n",
       "      <td>...</td>\n",
       "      <td>...</td>\n",
       "      <td>...</td>\n",
       "      <td>...</td>\n",
       "      <td>...</td>\n",
       "      <td>...</td>\n",
       "      <td>...</td>\n",
       "      <td>...</td>\n",
       "      <td>...</td>\n",
       "    </tr>\n",
       "    <tr>\n",
       "      <th>17521</th>\n",
       "      <td>82091</td>\n",
       "      <td>chrY</td>\n",
       "      <td>-</td>\n",
       "      <td>12663321-12663400</td>\n",
       "      <td>12661312-12663474</td>\n",
       "      <td>rs1603193991</td>\n",
       "      <td>12663382</td>\n",
       "      <td>12663383</td>\n",
       "      <td>G</td>\n",
       "      <td>C</td>\n",
       "      <td>ACAGGCTCGAAACTGGCTCGTTGCACCAAATGCTCTTACCCAGGTG...</td>\n",
       "      <td>ACAGGCTCGAAACTGGCTCGTTGCACCAAATGCTCTTACCCAGGTG...</td>\n",
       "      <td>ENST00000662422</td>\n",
       "      <td>0.251826</td>\n",
       "      <td>0.955723</td>\n",
       "      <td>0.672730</td>\n",
       "      <td>-6.002908</td>\n",
       "      <td>0.703897</td>\n",
       "      <td>1</td>\n",
       "    </tr>\n",
       "    <tr>\n",
       "      <th>17524</th>\n",
       "      <td>82094</td>\n",
       "      <td>chrY</td>\n",
       "      <td>-</td>\n",
       "      <td>12663321-12663400</td>\n",
       "      <td>12662537-12688255</td>\n",
       "      <td>rs1603193991</td>\n",
       "      <td>12663382</td>\n",
       "      <td>12663383</td>\n",
       "      <td>G</td>\n",
       "      <td>C</td>\n",
       "      <td>ACAGGCTCGAAACTGGCTCGTTGCACCAAATGCTCTTACCCAGGTG...</td>\n",
       "      <td>ACAGGCTCGAAACTGGCTCGTTGCACCAAATGCTCTTACCCAGGTG...</td>\n",
       "      <td>ENST00000417071</td>\n",
       "      <td>0.251826</td>\n",
       "      <td>0.955723</td>\n",
       "      <td>0.672730</td>\n",
       "      <td>-6.002908</td>\n",
       "      <td>0.703897</td>\n",
       "      <td>1</td>\n",
       "    </tr>\n",
       "    <tr>\n",
       "      <th>17527</th>\n",
       "      <td>82097</td>\n",
       "      <td>chrY</td>\n",
       "      <td>-</td>\n",
       "      <td>12663321-12663400</td>\n",
       "      <td>12662334-12692233</td>\n",
       "      <td>rs1603193991</td>\n",
       "      <td>12663382</td>\n",
       "      <td>12663383</td>\n",
       "      <td>G</td>\n",
       "      <td>C</td>\n",
       "      <td>ACAGGCTCGAAACTGGCTCGTTGCACCAAATGCTCTTACCCAGGTG...</td>\n",
       "      <td>ACAGGCTCGAAACTGGCTCGTTGCACCAAATGCTCTTACCCAGGTG...</td>\n",
       "      <td>ENST00000440408</td>\n",
       "      <td>0.251826</td>\n",
       "      <td>0.955723</td>\n",
       "      <td>0.672730</td>\n",
       "      <td>-6.002908</td>\n",
       "      <td>0.703897</td>\n",
       "      <td>1</td>\n",
       "    </tr>\n",
       "    <tr>\n",
       "      <th>17530</th>\n",
       "      <td>82100</td>\n",
       "      <td>chrY</td>\n",
       "      <td>-</td>\n",
       "      <td>12663321-12663400</td>\n",
       "      <td>12662368-12860802</td>\n",
       "      <td>rs1603193991</td>\n",
       "      <td>12663382</td>\n",
       "      <td>12663383</td>\n",
       "      <td>G</td>\n",
       "      <td>C</td>\n",
       "      <td>ACAGGCTCGAAACTGGCTCGTTGCACCAAATGCTCTTACCCAGGTG...</td>\n",
       "      <td>ACAGGCTCGAAACTGGCTCGTTGCACCAAATGCTCTTACCCAGGTG...</td>\n",
       "      <td>ENST00000651177</td>\n",
       "      <td>0.251826</td>\n",
       "      <td>0.955723</td>\n",
       "      <td>0.672730</td>\n",
       "      <td>-6.002908</td>\n",
       "      <td>0.703897</td>\n",
       "      <td>1</td>\n",
       "    </tr>\n",
       "    <tr>\n",
       "      <th>17533</th>\n",
       "      <td>82103</td>\n",
       "      <td>chrY</td>\n",
       "      <td>-</td>\n",
       "      <td>12663321-12663400</td>\n",
       "      <td>12537650-12708869</td>\n",
       "      <td>rs1603193991</td>\n",
       "      <td>12663382</td>\n",
       "      <td>12663383</td>\n",
       "      <td>G</td>\n",
       "      <td>C</td>\n",
       "      <td>ACAGGCTCGAAACTGGCTCGTTGCACCAAATGCTCTTACCCAGGTG...</td>\n",
       "      <td>ACAGGCTCGAAACTGGCTCGTTGCACCAAATGCTCTTACCCAGGTG...</td>\n",
       "      <td>ENST00000457658</td>\n",
       "      <td>0.251826</td>\n",
       "      <td>0.955723</td>\n",
       "      <td>0.672730</td>\n",
       "      <td>-6.002908</td>\n",
       "      <td>0.703897</td>\n",
       "      <td>1</td>\n",
       "    </tr>\n",
       "  </tbody>\n",
       "</table>\n",
       "<p>1004448 rows × 19 columns</p>\n",
       "</div>"
      ],
      "text/plain": [
       "       index   chr strand  Donor_coordinates Transcript_coordinates  \\\n",
       "2627    2627  chr1      +  24449588-24449667      24415803-24472976   \n",
       "2673    2673  chr1      +  24449588-24449667      24415814-24466310   \n",
       "2719    2719  chr1      +  24449588-24449667      24415813-24454824   \n",
       "2765    2765  chr1      +  24449588-24449667      24415802-24472976   \n",
       "3089    3089  chr1      +  24458938-24459017      24415803-24472976   \n",
       "...      ...   ...    ...                ...                    ...   \n",
       "17521  82091  chrY      -  12663321-12663400      12661312-12663474   \n",
       "17524  82094  chrY      -  12663321-12663400      12662537-12688255   \n",
       "17527  82097  chrY      -  12663321-12663400      12662334-12692233   \n",
       "17530  82100  chrY      -  12663321-12663400      12662368-12860802   \n",
       "17533  82103  chrY      -  12663321-12663400      12537650-12708869   \n",
       "\n",
       "           dbsnp_id  varinat_start  variant_end ref_neucleotide  \\\n",
       "2627   rs1401534466       24449613     24449615              CC   \n",
       "2673   rs1401534466       24449613     24449615              CC   \n",
       "2719   rs1401534466       24449613     24449615              CC   \n",
       "2765   rs1401534466       24449613     24449615              CC   \n",
       "3089   rs1479852926       24458982     24458983               G   \n",
       "...             ...            ...          ...             ...   \n",
       "17521  rs1603193991       12663382     12663383               G   \n",
       "17524  rs1603193991       12663382     12663383               G   \n",
       "17527  rs1603193991       12663382     12663383               G   \n",
       "17530  rs1603193991       12663382     12663383               G   \n",
       "17533  rs1603193991       12663382     12663383               G   \n",
       "\n",
       "      alternative_neucleotide  \\\n",
       "2627                        C   \n",
       "2673                        C   \n",
       "2719                        C   \n",
       "2765                        C   \n",
       "3089                        C   \n",
       "...                       ...   \n",
       "17521                       C   \n",
       "17524                       C   \n",
       "17527                       C   \n",
       "17530                       C   \n",
       "17533                       C   \n",
       "\n",
       "                                           reference_seq  \\\n",
       "2627   CCAGGCACCTCGTGAGCTGGCCTTTCCTTTTGTACATGGTAAGAGA...   \n",
       "2673   CCAGGCACCTCGTGAGCTGGCCTTTCCTTTTGTACATGGTAAGAGA...   \n",
       "2719   CCAGGCACCTCGTGAGCTGGCCTTTCCTTTTGTACATGGTAAGAGA...   \n",
       "2765   CCAGGCACCTCGTGAGCTGGCCTTTCCTTTTGTACATGGTAAGAGA...   \n",
       "3089   GGGCTACATTCTGTCCACAACCATTGCTATCACAGCAGGTAAGGGT...   \n",
       "...                                                  ...   \n",
       "17521  ACAGGCTCGAAACTGGCTCGTTGCACCAAATGCTCTTACCCAGGTG...   \n",
       "17524  ACAGGCTCGAAACTGGCTCGTTGCACCAAATGCTCTTACCCAGGTG...   \n",
       "17527  ACAGGCTCGAAACTGGCTCGTTGCACCAAATGCTCTTACCCAGGTG...   \n",
       "17530  ACAGGCTCGAAACTGGCTCGTTGCACCAAATGCTCTTACCCAGGTG...   \n",
       "17533  ACAGGCTCGAAACTGGCTCGTTGCACCAAATGCTCTTACCCAGGTG...   \n",
       "\n",
       "                                                 alt_seq  \\\n",
       "2627   CCAGGCACCTCGTGAGCTGGCCTTTCTTTTGTACATGGTAAGAGAA...   \n",
       "2673   CCAGGCACCTCGTGAGCTGGCCTTTCTTTTGTACATGGTAAGAGAA...   \n",
       "2719   CCAGGCACCTCGTGAGCTGGCCTTTCTTTTGTACATGGTAAGAGAA...   \n",
       "2765   CCAGGCACCTCGTGAGCTGGCCTTTCTTTTGTACATGGTAAGAGAA...   \n",
       "3089   GGGCTACATTCTGTCCACAACCATTGCTATCACAGCAGGTAAGGCT...   \n",
       "...                                                  ...   \n",
       "17521  ACAGGCTCGAAACTGGCTCGTTGCACCAAATGCTCTTACCCAGGTG...   \n",
       "17524  ACAGGCTCGAAACTGGCTCGTTGCACCAAATGCTCTTACCCAGGTG...   \n",
       "17527  ACAGGCTCGAAACTGGCTCGTTGCACCAAATGCTCTTACCCAGGTG...   \n",
       "17530  ACAGGCTCGAAACTGGCTCGTTGCACCAAATGCTCTTACCCAGGTG...   \n",
       "17533  ACAGGCTCGAAACTGGCTCGTTGCACCAAATGCTCTTACCCAGGTG...   \n",
       "\n",
       "      Ensemble_Transcript_ID  Ref_probab  Alt_probab  ScoreChange  \\\n",
       "2627         ENST00000003912    0.976278    0.046042    -0.908168   \n",
       "2673         ENST00000339255    0.976278    0.046042    -0.908168   \n",
       "2719         ENST00000358028    0.976278    0.046042    -0.908168   \n",
       "2765         ENST00000374399    0.976278    0.046042    -0.908168   \n",
       "3089         ENST00000003912    0.562571    0.107575    -0.255967   \n",
       "...                      ...         ...         ...          ...   \n",
       "17521        ENST00000662422    0.251826    0.955723     0.672730   \n",
       "17524        ENST00000417071    0.251826    0.955723     0.672730   \n",
       "17527        ENST00000440408    0.251826    0.955723     0.672730   \n",
       "17530        ENST00000651177    0.251826    0.955723     0.672730   \n",
       "17533        ENST00000457658    0.251826    0.955723     0.672730   \n",
       "\n",
       "       LogOddRatio  score_change_new  variant_length  \n",
       "2627      9.735875         -0.930236               2  \n",
       "2673      9.735875         -0.930236               2  \n",
       "2719      9.735875         -0.930236               2  \n",
       "2765      9.735875         -0.930236               2  \n",
       "3089      3.415373         -0.454996               1  \n",
       "...            ...               ...             ...  \n",
       "17521    -6.002908          0.703897               1  \n",
       "17524    -6.002908          0.703897               1  \n",
       "17527    -6.002908          0.703897               1  \n",
       "17530    -6.002908          0.703897               1  \n",
       "17533    -6.002908          0.703897               1  \n",
       "\n",
       "[1004448 rows x 19 columns]"
      ]
     },
     "execution_count": 63,
     "metadata": {},
     "output_type": "execute_result"
    }
   ],
   "source": [
    "df_selected"
   ]
  },
  {
   "cell_type": "code",
   "execution_count": 64,
   "id": "f5638ad2-5638-4276-aa2e-8a104bdf1792",
   "metadata": {},
   "outputs": [
    {
     "data": {
      "text/plain": [
       "122487"
      ]
     },
     "execution_count": 64,
     "metadata": {},
     "output_type": "execute_result"
    }
   ],
   "source": [
    "len(df_selected['dbsnp_id'].unique())"
   ]
  },
  {
   "cell_type": "code",
   "execution_count": 65,
   "id": "4fcdbf12-1d11-4deb-8c13-70b5dfe581aa",
   "metadata": {},
   "outputs": [
    {
     "data": {
      "text/plain": [
       "72436"
      ]
     },
     "execution_count": 65,
     "metadata": {},
     "output_type": "execute_result"
    }
   ],
   "source": [
    "len(df_selected['Donor_coordinates'].unique())"
   ]
  },
  {
   "cell_type": "code",
   "execution_count": 67,
   "id": "e4b45748-5c56-46e3-a839-658bfea9d241",
   "metadata": {},
   "outputs": [],
   "source": [
    "df_selected.to_csv(\"/data/projects/PSB/Output/Donor/Donor_candidates.tsv\", sep= \"\\t\", index=False)\n",
    "# Save to a .tsv file\n",
    "np.savetxt(\"/data/projects/PSB/Output/Donor/Donor_Unique_DBSNP.tsv\", df_selected['dbsnp_id'].unique(), delimiter=\"\\t\", fmt='%s')\n",
    "np.savetxt(\"/data/projects/PSB/Output/Donor/Donor_Unique_Donor.tsv\", df_selected['Donor_coordinates'].unique(), delimiter=\"\\t\", fmt='%s')"
   ]
  },
  {
   "cell_type": "code",
   "execution_count": 80,
   "id": "5461d610-b764-4995-8965-458d1ebbdef5",
   "metadata": {},
   "outputs": [
    {
     "data": {
      "image/png": "[encoded data removed]",
      "text/plain": [
       "<Figure size 640x480 with 1 Axes>"
      ]
     },
     "metadata": {},
     "output_type": "display_data"
    }
   ],
   "source": [
    "sns.kdeplot(df_interest['LogOddRatio'])\n",
    "plt.show()\n"
   ]
  },
  {
   "cell_type": "code",
   "execution_count": 26,
   "id": "caf100d5-1b3f-4070-86aa-d871db834870",
   "metadata": {},
   "outputs": [
    {
     "data": {
      "text/plain": [
       "array(['GAGTGGAGCACTGTACATACCTGGCTGGATTGAGAATGGTAAGTAATTTGTAATAACATACCTGGCTTGTGCAAAAGCA',\n",
       "       'AGATTTCACCTCTGCAAATATGAGAGATTCTGCAGAAGGTAAGCTTGTGATATTGGCTTGGTCTGAATTGGGTGTGTAT',\n",
       "       'CTGGGTAATGCTGGTCACCAGCCTTGTGGCCCTTCAAGGTATGTCCAAAAGAGCCGTAAGCACCCCAAGCAATGAGGGT',\n",
       "       'CTACTACTACTATTCTGCAAACGAGGAATTCAGACCAGGTAAGTACCCATGCGTCTCATTTTGGAGGAATAGGTTTAAA',\n",
       "       'TCTCTCAGTGGTCGCTATCTGGAGGAGCTTAGCCAAAGGTAAGCTTTATTATGAATTAGCACAGTCAGCTTCACACAGT',\n",
       "       'TCTGACCAGTGCTGCTGTGACGAATCTTTCAGTTACAGGTAAGCAGCTGCCAGGCCATGCACCTGCTGAGCACATGGGA',\n",
       "       'GCTGAAAAATATTATGGCAACAAATGCATTATTCCATGGTAAGATACGTCTCATTATTGGAGTGTGTCTGAACATATAT',\n",
       "       'CAGTATCTGATTTCCACCCAGTCAAAAAAATTGTCCAGGTAAGCACAATATCCCTATTTATTTTCAGTCCTACCTCAAG',\n",
       "       'TTTGAAAACTTGTCTCCAGGAAGTGTTATTATATTCAGGTATGTTAATTGAGCTCAAACTGTTGACTTTACTTATATTT',\n",
       "       'TCACATCCATCAGAGGATTGCTGATCACTCTTACCAAGGTATGTTTTATCACAGTGTTAAAAAGTACTGCTTATCATTT',\n",
       "       'AACCAAATTTATATCTGCTTGGAACAACATGAAATATAGTAAGTATCATGTTTTAAAAATTGTATAAATCCAAAGAAAT',\n",
       "       'ACTTGTTCATGAATTATTTGGAAACAGTTCACAAGTAGGTAAGTTCTGTGGGAAAAATCATAACTATACTTATTTTAAA',\n",
       "       'TCTCGGTATCATCTGCAGAATATGGTACTAATGCAAAGGTAAGCCACATGTAGGGATTACCAGTTCAACAGATGCAAGC',\n",
       "       'AAAAGTCTTCTATGCAAACAGGTGCTGGTTTAAATCAGGTATGTATTTTATACACTGTAAACTGTAATAATTTGTTTCC',\n",
       "       'CACCTCTCTCAACTCTCTCCCTTAAGCACTGGGATCAGGTAAGTTTCCCTTATTGTTTATTTTATTGCACATGCCTTTG',\n",
       "       'AGATCCAAAGGAAGGAGGAGCTACCACCAAAGAGTCAGGTATGTTTTTAACTTAAGCTATGGAGCAACGTAAAAGATAC',\n",
       "       'TAGTAGGACTCTTTAAACCTTTTGTGGAAAGCTATCAGGTATGTAAATTTGGCAAGTTCTCCTTCATGCCCCCCATATC',\n",
       "       'GATCCAAAAGCATCCTTTGAGAATTGTATGAGTTATAGGTAAGTCAACAATTTAAATCAGGACATGACTTAATTCTTGT',\n",
       "       'TCACAGCTAAAGGAGCAGAGGAGACTCTTGGACCTCAGGTAAGCTTCAGGAAGAGGAGCAGGCTTCAAGTCTCACAGTG',\n",
       "       'AAAGCTAAAACCCTGCCACCTCAAAGCAATAATAAGAGGTAAGTCTTGTGGAACTACAGTATGACATTTAAAGCTTTGA',\n",
       "       'ATATTCACCAAGTCTTGACTCAGTCACCTTTTGTGCAGGTAAGCATTGGTGTCTGTTCAGTTGGCCCACAAATCTAGGT',\n",
       "       'GGCATACAGCAGGTGTATTAGCAGGATCTAGAATACGGGTAAGTTATACTTTTTAAAAAAAAAACTTTAAAattattat',\n",
       "       'CTGCGCTTGAACCTGTGCCTGAATACTACCCTAGAcaggttgagtattccctatctgaaatggctaggaccataagtgt',\n",
       "       'ACATCGGCAAACGTCAAAGTCCCAGCTTTCAAATACAGGTCTCTTCCAAAACTTACTCTCACATGATTCATAGGCTCCA',\n",
       "       'CATAATAGACGTGAGGATAAGAGAAGGAGGAAGGCCTACTAGCAATGTCGGCTTCATTTCCCAAACTGTGCTGAGGATA',\n",
       "       'CTAACCATCATATTTAGAACCAGCTGTTTACCAGAGTGGTAAGTTGGATTGTGTTTTATTTTGGTTTTTATTCTTCATT',\n",
       "       'ATATTCAGCTGGAGACCATTCCCTTGAAACTCTCTCAGGTATGCCCTTTCTTCTCAGTGGCATCTACTTACTGTCAAAC',\n",
       "       'ACACATTTTGGTTTTATacacacacacacacacacacacacacacacGAAAGACAAGTGGCAGCTGCAGGGATTGTGCT',\n",
       "       'ATACCATCTGTTGCAGACTGGGGTGCATGACATTTTAGGTAAGTAGCAGATGAAGATTTATGAAGCTGGGCCCTGAGGT',\n",
       "       'aatgtgcttcctactattcaTTGTTGCCCCGTCTCTAGGTAAGTCTTCTGTAATTTACATGCTTGTTGAAAGGATCTGT',\n",
       "       'CCCCCACCTTCTGGGATGTTAGCAGAGCCTTTTAACTGGTAAGTCTCTCCCAGGATGACTCGTAGGAGCCTCTCAGGAT',\n",
       "       'AAAGACTTGTCATTTGATCCATGTTCAAGACCCTTGAGGTATTGTTTCATCATTTCTGTATTGTCTTTCAATAAAGAAA',\n",
       "       'ATCTTTGCTTCAGTGGTTTTCTTTAAAGGCAAGCAAAGGTAAGTAAGCCATAACAAGTGTGCTTGGTTCAGATTTCTTC',\n",
       "       'TATTCAGATCATCGTGTTTGGGGAAGATACTGTGTAAGGTAAGTTTGCAGTCTTGATGCTGATCAATCGCAGGATGCTT',\n",
       "       'AGGAAACCACAATCTCACTGAAAATATACACTATTCAGGTAAGTACTAAGAGGTAAGTTAACCAAGCGCAAGCATGACT'],\n",
       "      dtype=object)"
      ]
     },
     "execution_count": 26,
     "metadata": {},
     "output_type": "execute_result"
    }
   ],
   "source": [
    "df_interest['reference_seq'].unique()"
   ]
  },
  {
   "cell_type": "code",
   "execution_count": 27,
   "id": "0e41685e-4af4-4f14-aeed-efcafdc1d0b7",
   "metadata": {},
   "outputs": [
    {
     "data": {
      "text/plain": [
       "dbsnp_id      ref_neucleotide                 alternative_neucleotide     reference_seq                                                                  \n",
       "rs1057516984  TT                              TTT                         TTTGAAAACTTGTCTCCAGGAAGTGTTATTATATTCAGGTATGTTAATTGAGCTCAAACTGTTGACTTTACTTATATTT     7\n",
       "rs10626387    T                               TCT                         AAAGACTTGTCATTTGATCCATGTTCAAGACCCTTGAGGTATTGTTTCATCATTTCTGTATTGTCTTTCAATAAAGAAA    15\n",
       "rs10668386    .                               TC                          AAAGACTTGTCATTTGATCCATGTTCAAGACCCTTGAGGTATTGTTTCATCATTTCTGTATTGTCTTTCAATAAAGAAA    15\n",
       "rs1158710364  TA                              TATA                        CTAACCATCATATTTAGAACCAGCTGTTTACCAGAGTGGTAAGTTGGATTGTGTTTTATTTTGGTTTTTATTCTTCATT     2\n",
       "rs1172687424  G                               T                           CTACTACTACTATTCTGCAAACGAGGAATTCAGACCAGGTAAGTACCCATGCGTCTCATTTTGGAGGAATAGGTTTAAA     5\n",
       "rs1197477113  .                               AG                          TCTCGGTATCATCTGCAGAATATGGTACTAATGCAAAGGTAAGCCACATGTAGGGATTACCAGTTCAACAGATGCAAGC     6\n",
       "rs1202559184  .                               CG                          TCTCTCAGTGGTCGCTATCTGGAGGAGCTTAGCCAAAGGTAAGCTTTATTATGAATTAGCACAGTCAGCTTCACACAGT     5\n",
       "rs1209017757  .                               A                           AGGAAACCACAATCTCACTGAAAATATACACTATTCAGGTAAGTACTAAGAGGTAAGTTAACCAAGCGCAAGCATGACT     1\n",
       "rs1212185079  TATTAT                          TAT                         GCTGAAAAATATTATGGCAACAAATGCATTATTCCATGGTAAGATACGTCTCATTATTGGAGTGTGTCTGAACATATAT     2\n",
       "rs1230423427  AA                              AAA                         TATTCAGATCATCGTGTTTGGGGAAGATACTGTGTAAGGTAAGTTTGCAGTCTTGATGCTGATCAATCGCAGGATGCTT     1\n",
       "rs1289052837  .                               C                           TCTGACCAGTGCTGCTGTGACGAATCTTTCAGTTACAGGTAAGCAGCTGCCAGGCCATGCACCTGCTGAGCACATGGGA     9\n",
       "rs1297116846  A                               AA                          CACCTCTCTCAACTCTCTCCCTTAAGCACTGGGATCAGGTAAGTTTCCCTTATTGTTTATTTTATTGCACATGCCTTTG    31\n",
       "rs1327345775  CC                              CCC                         GAGTGGAGCACTGTACATACCTGGCTGGATTGAGAATGGTAAGTAATTTGTAATAACATACCTGGCTTGTGCAAAAGCA     2\n",
       "rs1335012081  T                               C                           ATACCATCTGTTGCAGACTGGGGTGCATGACATTTTAGGTAAGTAGCAGATGAAGATTTATGAAGCTGGGCCCTGAGGT     7\n",
       "rs1367360018  .                               TA                          ATATTCAGCTGGAGACCATTCCCTTGAAACTCTCTCAGGTATGCCCTTTCTTCTCAGTGGCATCTACTTACTGTCAAAC     3\n",
       "rs1371540093  A                               AA                          ATATTCACCAAGTCTTGACTCAGTCACCTTTTGTGCAGGTAAGCATTGGTGTCTGTTCAGTTGGCCCACAAATCTAGGT     5\n",
       "rs1373911853  ACA                             ACACA                       GGCATACAGCAGGTGTATTAGCAGGATCTAGAATACGGGTAAGTTATACTTTTTAAAAAAAAAACTTTAAAattattat    12\n",
       "rs1375038646  .                               AA                          ACTTGTTCATGAATTATTTGGAAACAGTTCACAAGTAGGTAAGTTCTGTGGGAAAAATCATAACTATACTTATTTTAAA     6\n",
       "rs1390513841  AAA                             AAAA                        AGATCCAAAGGAAGGAGGAGCTACCACCAAAGAGTCAGGTATGTTTTTAACTTAAGCTATGGAGCAACGTAAAAGATAC     3\n",
       "rs141985486   ACACACACACACACACACACACACACACAC  ACACACACACACACACAC          ACACATTTTGGTTTTATacacacacacacacacacacacacacacacGAAAGACAAGTGGCAGCTGCAGGGATTGTGCT     3\n",
       "rs1436578674  T                               TT                          TAGTAGGACTCTTTAAACCTTTTGTGGAAAGCTATCAGGTATGTAAATTTGGCAAGTTCTCCTTCATGCCCCCCATATC     3\n",
       "rs1438467080  TACTACCCTA                      TA                          CTGCGCTTGAACCTGTGCCTGAATACTACCCTAGAcaggttgagtattccctatctgaaatggctaggaccataagtgt     6\n",
       "rs1445932658  .                               AA                          TCACATCCATCAGAGGATTGCTGATCACTCTTACCAAGGTATGTTTTATCACAGTGTTAAAAAGTACTGCTTATCATTT     5\n",
       "rs1490651176  .                               C                           CAGTATCTGATTTCCACCCAGTCAAAAAAATTGTCCAGGTAAGCACAATATCCCTATTTATTTTCAGTCCTACCTCAAG     5\n",
       "rs1553201305  C                               AA                          aatgtgcttcctactattcaTTGTTGCCCCGTCTCTAGGTAAGTCTTCTGTAATTTACATGCTTGTTGAAAGGATCTGT     2\n",
       "rs1640878857  .                               AA                          ATCTTTGCTTCAGTGGTTTTCTTTAAAGGCAAGCAAAGGTAAGTAAGCCATAACAAGTGTGCTTGGTTCAGATTTCTTC     1\n",
       "rs1640878887  .                               GCC                         ATCTTTGCTTCAGTGGTTTTCTTTAAAGGCAAGCAAAGGTAAGTAAGCCATAACAAGTGTGCTTGGTTCAGATTTCTTC     1\n",
       "rs1640951535  TTTT                            TTTTTT                      CCCCCACCTTCTGGGATGTTAGCAGAGCCTTTTAACTGGTAAGTCTCTCCCAGGATGACTCGTAGGAGCCTCTCAGGAT     2\n",
       "rs1643977254  .                               TTA                         ATATTCACCAAGTCTTGACTCAGTCACCTTTTGTGCAGGTAAGCATTGGTGTCTGTTCAGTTGGCCCACAAATCTAGGT     5\n",
       "rs1645467242  C                               A                           ATACCATCTGTTGCAGACTGGGGTGCATGACATTTTAGGTAAGTAGCAGATGAAGATTTATGAAGCTGGGCCCTGAGGT     7\n",
       "rs1648706534  .                               CT                          TCACAGCTAAAGGAGCAGAGGAGACTCTTGGACCTCAGGTAAGCTTCAGGAAGAGGAGCAGGCTTCAAGTCTCACAGTG     6\n",
       "rs1650105865  .                               TGAGGATGAGTGTGCTGGAAATGGCA  ACATCGGCAAACGTCAAAGTCCCAGCTTTCAAATACAGGTCTCTTCCAAAACTTACTCTCACATGATTCATAGGCTCCA     1\n",
       "rs202034790   TT                              TTTT                        AAAGACTTGTCATTTGATCCATGTTCAAGACCCTTGAGGTATTGTTTCATCATTTCTGTATTGTCTTTCAATAAAGAAA    15\n",
       "rs34979388    TT                              TTT                         aatgtgcttcctactattcaTTGTTGCCCCGTCTCTAGGTAAGTCTTCTGTAATTTACATGCTTGTTGAAAGGATCTGT     2\n",
       "rs35774161    .                               C                           AGATTTCACCTCTGCAAATATGAGAGATTCTGCAGAAGGTAAGCTTGTGATATTGGCTTGGTCTGAATTGGGTGTGTAT    12\n",
       "rs756626403   CCAGGTAAGTACCCA                 CCA                         CTACTACTACTATTCTGCAAACGAGGAATTCAGACCAGGTAAGTACCCATGCGTCTCATTTTGGAGGAATAGGTTTAAA     5\n",
       "rs757433704   T                               A                           CTACTACTACTATTCTGCAAACGAGGAATTCAGACCAGGTAAGTACCCATGCGTCTCATTTTGGAGGAATAGGTTTAAA     5\n",
       "rs759266909   .                               TT                          AAAAGTCTTCTATGCAAACAGGTGCTGGTTTAAATCAGGTATGTATTTTATACACTGTAAACTGTAATAATTTGTTTCC    21\n",
       "rs761296575   T                               TT                          AACCAAATTTATATCTGCTTGGAACAACATGAAATATAGTAAGTATCATGTTTTAAAAATTGTATAAATCCAAAGAAAT     4\n",
       "rs763481129   C                               T                           CTACTACTACTATTCTGCAAACGAGGAATTCAGACCAGGTAAGTACCCATGCGTCTCATTTTGGAGGAATAGGTTTAAA     5\n",
       "rs776835974   A                               AA                          GATCCAAAAGCATCCTTTGAGAATTGTATGAGTTATAGGTAAGTCAACAATTTAAATCAGGACATGACTTAATTCTTGT     4\n",
       "rs781957035   CACCA                           CACCACCA                    CTGGGTAATGCTGGTCACCAGCCTTGTGGCCCTTCAAGGTATGTCCAAAAGAGCCGTAAGCACCCCAAGCAATGAGGGT     5\n",
       "rs887819469   CCACC                           CCACCACC                    AAAGCTAAAACCCTGCCACCTCAAAGCAATAATAAGAGGTAAGTCTTGTGGAACTACAGTATGACATTTAAAGCTTTGA     6\n",
       "dtype: int64"
      ]
     },
     "execution_count": 27,
     "metadata": {},
     "output_type": "execute_result"
    }
   ],
   "source": [
    "df_interest.groupby(['dbsnp_id', 'ref_neucleotide','alternative_neucleotide',  'reference_seq']).size()"
   ]
  },
  {
   "cell_type": "code",
   "execution_count": 28,
   "id": "2c79d417-48ca-4e35-85a2-826b99911098",
   "metadata": {},
   "outputs": [
    {
     "data": {
      "text/plain": [
       "dbsnp_id      ref_neucleotide                 alternative_neucleotide   \n",
       "rs1057516984  TT                              TTT                            7\n",
       "rs10626387    T                               TCT                           15\n",
       "rs10668386    .                               TC                            15\n",
       "rs1158710364  TA                              TATA                           2\n",
       "rs1172687424  G                               T                              5\n",
       "rs1197477113  .                               AG                             6\n",
       "rs1202559184  .                               CG                             5\n",
       "rs1209017757  .                               A                              1\n",
       "rs1212185079  TATTAT                          TAT                            2\n",
       "rs1230423427  AA                              AAA                            1\n",
       "rs1289052837  .                               C                              9\n",
       "rs1297116846  A                               AA                            31\n",
       "rs1327345775  CC                              CCC                            2\n",
       "rs1335012081  T                               C                              7\n",
       "rs1367360018  .                               TA                             3\n",
       "rs1371540093  A                               AA                             5\n",
       "rs1373911853  ACA                             ACACA                         12\n",
       "rs1375038646  .                               AA                             6\n",
       "rs1390513841  AAA                             AAAA                           3\n",
       "rs141985486   ACACACACACACACACACACACACACACAC  ACACACACACACACACAC             3\n",
       "rs1436578674  T                               TT                             3\n",
       "rs1438467080  TACTACCCTA                      TA                             6\n",
       "rs1445932658  .                               AA                             5\n",
       "rs1490651176  .                               C                              5\n",
       "rs1553201305  C                               AA                             2\n",
       "rs1640878857  .                               AA                             1\n",
       "rs1640878887  .                               GCC                            1\n",
       "rs1640951535  TTTT                            TTTTTT                         2\n",
       "rs1643977254  .                               TTA                            5\n",
       "rs1645467242  C                               A                              7\n",
       "rs1648706534  .                               CT                             6\n",
       "rs1650105865  .                               TGAGGATGAGTGTGCTGGAAATGGCA     1\n",
       "rs202034790   TT                              TTTT                          15\n",
       "rs34979388    TT                              TTT                            2\n",
       "rs35774161    .                               C                             12\n",
       "rs756626403   CCAGGTAAGTACCCA                 CCA                            5\n",
       "rs757433704   T                               A                              5\n",
       "rs759266909   .                               TT                            21\n",
       "rs761296575   T                               TT                             4\n",
       "rs763481129   C                               T                              5\n",
       "rs776835974   A                               AA                             4\n",
       "rs781957035   CACCA                           CACCACCA                       5\n",
       "rs887819469   CCACC                           CCACCACC                       6\n",
       "dtype: int64"
      ]
     },
     "execution_count": 28,
     "metadata": {},
     "output_type": "execute_result"
    }
   ],
   "source": [
    "df_interest.groupby(['dbsnp_id', 'ref_neucleotide','alternative_neucleotide']).size()"
   ]
  },
  {
   "cell_type": "code",
   "execution_count": 157,
   "id": "0921c226-e30c-4bef-82f7-79fd59c47676",
   "metadata": {},
   "outputs": [
    {
     "name": "stdout",
     "output_type": "stream",
     "text": [
      "-0.267426781822307 0.7891405811788812\n"
     ]
    },
    {
     "data": {
      "image/png": "[encoded data removed]",
      "text/plain": [
       "<Figure size 640x480 with 1 Axes>"
      ]
     },
     "metadata": {},
     "output_type": "display_data"
    }
   ],
   "source": [
    "import numpy as np\n",
    "import matplotlib.pyplot as plt\n",
    "from scipy.stats import norm\n",
    "from statsmodels.stats.weightstats import ztest\n",
    "\n",
    "# Generate 1000 normally distributed data points\n",
    "mu, sigma = 0, 1 # mean and standard deviation\n",
    "s = np.random.normal(mu, sigma, 1000)\n",
    "\n",
    "# Perform the z test\n",
    "z_score, p_value = ztest(x1= s, value = mu)\n",
    "\n",
    "print(z_score, p_value)\n",
    "\n",
    "# # Generate data and plot the normal distribution\n",
    "x = np.linspace(-4, 4, 1000)\n",
    "y = norm.pdf(x, 0, 1)\n",
    "plt.plot(x, y)\n",
    "\n",
    "# Shade the two-tail regions\n",
    "plt.fill_between(x, 0, y, where=(x <= -abs(z_score)) | (x >= abs(z_score)), color='red', alpha=0.3)\n",
    "\n",
    "# # Mark the observed value\n",
    "plt.axvline(z_score, color='blue', linestyle='--', label=f'Observed z-score = {z_score:.2f}')\n",
    "plt.axvline(-z_score, color='blue', linestyle='--')\n",
    "\n",
    "plt.legend()\n",
    "plt.title('Two-tailed Z-test')\n",
    "plt.xlabel('Z-score')\n",
    "plt.ylabel('Probability density')\n",
    "plt.show()"
   ]
  },
  {
   "cell_type": "code",
   "execution_count": 39,
   "id": "b4d3d1fd-ec42-44fb-8577-8a9114330cd7",
   "metadata": {},
   "outputs": [
    {
     "name": "stdout",
     "output_type": "stream",
     "text": [
      "Means (mu) of the Gaussians:  [-0.75858246  3.20265316]\n",
      "Lower tails:  [-3.55298982 -3.22340315  2.26163632  2.52124164  5.19931919  4.31052746\n",
      "  4.28026305  2.95134775  3.5598492   2.80369922  4.82035782  3.63443643\n",
      "  4.57265592  2.06716181  2.17990061  2.96595917  3.75830347  7.5186179\n",
      "  2.9154857   2.30803645  2.07280805  3.96296295  3.12652399  3.31301308\n",
      "  3.46436207  1.80536786  2.52415654  2.01336023  1.91427705  3.83210009\n",
      "  4.5623962   5.98896909  3.85251746  4.35381607  1.72512595  2.20545637\n",
      "  2.73423884  2.40441824  2.38197406  5.30466313  5.15923718  4.04212975\n",
      "  1.84842406  3.28390633  2.36134317  4.3830775   4.38949829  1.54880524\n",
      "  4.22075876  1.98636729  1.80737192  2.89486541  3.37755719  4.04778205\n",
      "  3.17684417  2.37822766  3.19480033  3.79809269  6.91182462  3.78018665\n",
      "  1.69518284  2.21809325  3.98748355  2.76779212  7.12898572  2.77891869\n",
      "  5.04034542  1.6159003   6.07275411  3.57268738  4.21768767  5.42229058\n",
      "  4.37963633  5.60369246  1.74382488  2.03794576  7.6078334   2.7281006\n",
      "  5.27378273  3.19544994  4.16590736  2.20110194  3.74011178  6.31626136\n",
      "  2.76367191  1.63964359  4.33276616  2.07856043  4.38754631  2.68085312\n",
      "  2.73259688  5.15548761  2.23024038  3.18870318  2.9156571   2.42622562\n",
      "  2.8767472   2.78538945  1.56079122  3.54903272  2.3754155   2.68466597\n",
      "  7.51344699  1.59059945  4.88652145  4.49437667  4.54650595  4.21263905\n",
      "  3.90186892  1.6319782   6.31910159  5.1370188   2.09322839  1.62432478\n",
      "  2.11815474  2.43928901  2.27061291  3.31340771  4.157043    3.69930891\n",
      "  5.7290637   1.62110163  1.6954128   1.95762138  2.04405199  2.04068837\n",
      "  4.2407166   4.3969143   3.00754178  4.86369675  3.67992997  2.96863578\n",
      "  3.32185634  2.61869301  2.21030097  2.46453293  3.56088341  4.68326253\n",
      "  2.50108284  3.09898996  3.98767355  4.28662893  2.58619265  4.76035782\n",
      "  3.77456095  3.0772611   6.29626986  3.32845551  4.13458056  2.5546498\n",
      "  2.2931365   2.41632527  4.71584785  5.28220373  5.93315743  4.70510388\n",
      "  1.80269213  4.53332636  3.71258563  3.71096359  4.62903964  3.11785118\n",
      "  2.62989266  4.6005959   2.38177111  2.53306668  6.46544237  4.36900221\n",
      "  3.74165     3.28412361  6.03998972  6.43917861  4.85901022  4.16444918\n",
      "  3.24744383  2.73978609  3.18790646  4.88609217  1.86137589  3.53980871\n",
      "  2.06630891  4.73792697  3.55374381  3.62963441  4.64317142  3.01058529\n",
      "  4.60112961  3.15652035  2.20954203  2.82813847  3.38858588  4.75166552\n",
      "  2.76978506  3.91483121  2.7792214   4.64049567  3.92626066  3.55819153\n",
      "  3.67780825  7.04208712  2.06227162  3.39860039  2.89879292  1.96496191\n",
      "  2.12162096  3.36267686  1.9943666   7.82490736  3.50296883  1.92109073\n",
      "  2.44865893  1.58054407  6.47774535  4.98878878  5.63827375  5.25718813\n",
      "  3.99200189  4.5428119   5.05887766  2.15136476  4.72519202  6.02665617\n",
      "  4.10626413  2.90859208  3.44101531  2.30011327  5.20056868  5.59604394\n",
      "  8.39244811  2.85215067  1.68289407  1.97153207  2.84429049]\n",
      "Upper tails:  [-0.59984279 -1.97727788 -1.15135721 -1.10321885 -0.5894015  -0.85595643\n",
      " -0.23896227 -0.87832498 -0.55613677 -0.66632567 -1.20515826 -0.6869323\n",
      " -1.85409574 -3.55298982 -0.3463814  -1.74216502 -2.45436567 -0.95424148\n",
      " -1.18718385 -0.84505257 -0.62183748 -1.88778575 -2.98079647 -1.34791215\n",
      " -0.84365103 -1.38732682 -1.30230275 -2.04855297 -2.42001794 -2.70627019\n",
      " -1.50965218 -1.4380743  -2.25279536 -2.61389785 -1.21274028 -1.89546656\n",
      " -0.6130975  -1.51080514 -2.18063218 -1.02818223 -0.57166813 -0.93348278\n",
      " -0.6975281  -1.63432209 -1.36274117 -1.67246045 -1.35955316 -1.81314628\n",
      " -2.7262826  -0.82257386 -1.40178094 -2.63019835 -0.53721774 -1.90729836\n",
      " -0.9480546  -0.27090944 -0.87101709 -2.23482582 -0.59765836 -1.68481009\n",
      " -1.87079715 -1.57884966 -1.31155253 -0.94383466 -2.16514984 -0.53433756\n",
      " -2.53624369 -1.17992484 -2.07075262 -1.40317695 -0.79172502 -0.6436336\n",
      " -0.29342683 -0.98949998 -0.87308791 -0.59801064 -2.34775906 -2.270485\n",
      " -2.17312341 -1.41361898 -1.74745481 -1.86122569 -1.26800337 -1.15501009\n",
      " -0.38592063 -0.62357447 -2.09940079 -0.70176183 -1.69456786 -1.14963454\n",
      " -1.43515355 -0.32770524 -0.59253816 -1.76991607 -0.46075081 -1.67433266\n",
      " -0.96816944 -1.63584608 -0.32356671 -0.42340918 -1.20829876 -0.60399329\n",
      " -2.09306151 -2.49125759 -0.5606083  -0.8333265  -0.36496856 -1.91282223\n",
      " -2.31590741 -1.4615846  -1.06824161 -1.74475482 -1.82643854 -1.09845252\n",
      " -1.66347829 -2.07993151 -2.14746865 -1.43782004 -1.49803245 -0.91244876\n",
      " -2.22543552 -2.00021535 -2.5447711  -0.68305739 -0.68127235 -1.65102559\n",
      " -2.03424284 -0.31840548 -1.80340966 -1.68954978 -1.4555325  -0.98252084\n",
      " -1.35399391 -2.37495129 -1.6436184  -3.22340315 -0.37476855 -2.60205766\n",
      " -2.10438334 -0.94783492 -1.739563   -2.29285691 -0.73294913 -1.03928282\n",
      " -2.1680935  -0.47672334 -1.17154633 -0.22820945 -0.23391209  7.5186179\n",
      " -1.13997005 -0.35200761 -0.87255961 -2.54518551  6.91182462 -1.06136894\n",
      "  7.12898572  7.6078334   7.51344699 -2.31834448 -0.51178117 -0.6861391\n",
      " -0.39621164 -1.51112846 -0.3134302  -0.23294838 -0.5370769  -1.18920614\n",
      " -2.47935433  7.04208712 -1.40288257  7.82490736 -1.57724008 -1.03281326\n",
      " -2.31123819  8.39244811]\n"
     ]
    },
    {
     "data": {
      "image/png": "[encoded data removed]",
      "text/plain": [
       "<Figure size 640x480 with 1 Axes>"
      ]
     },
     "metadata": {},
     "output_type": "display_data"
    }
   ],
   "source": [
    "import numpy as np\n",
    "from sklearn.mixture import GaussianMixture\n",
    "import matplotlib.pyplot as plt\n",
    "\n",
    "# Create some data\n",
    "np.random.seed(0)\n",
    "data = np.concatenate([np.random.normal(loc=-1, scale=1, size=(200, 1)),\n",
    "                       np.random.normal(loc=3, scale=2, size=(300, 1))])\n",
    "\n",
    "# Fit a Gaussian mixture with EM\n",
    "gmm = GaussianMixture(n_components=2)\n",
    "gmm.fit(data)\n",
    "\n",
    "# Print the means (mu)\n",
    "print(\"Means (mu) of the Gaussians: \", gmm.means_.flatten())\n",
    "\n",
    "\n",
    "# Standard deviations from the mean to consider a \"tail\"\n",
    "threshold = 2\n",
    "\n",
    "# Calculate the lower and upper tail thresholds for each component\n",
    "lower_thresholds = gmm.means_.flatten() - threshold * np.sqrt(gmm.covariances_.flatten())\n",
    "upper_thresholds = gmm.means_.flatten() + threshold * np.sqrt(gmm.covariances_.flatten())\n",
    "\n",
    "# Find tail points\n",
    "lower_tails = data[(data <= lower_thresholds[0]) | (data >= upper_thresholds[0])]\n",
    "upper_tails = data[(data <= lower_thresholds[1]) | (data >= upper_thresholds[1])]\n",
    "\n",
    "print(\"Lower tails: \", lower_tails)\n",
    "print(\"Upper tails: \", upper_tails)\n",
    "\n",
    "\n",
    "\n",
    "\n",
    "\n",
    "\n",
    "# Now plot the data and the model\n",
    "plt.hist(data, bins=30, density=True, alpha=0.3)\n",
    "\n",
    "x = np.linspace(-10, 10, 1000)\n",
    "y = np.exp(gmm.score_samples(x.reshape(-1, 1)))\n",
    "plt.plot(x, y)\n",
    "plt.show()\n",
    "\n"
   ]
  },
  {
   "cell_type": "code",
   "execution_count": 44,
   "id": "ad11ff94-0a0a-4528-88d5-15a2d7aaac16",
   "metadata": {},
   "outputs": [
    {
     "name": "stdout",
     "output_type": "stream",
     "text": [
      "Tailing points for first component are: -3.062701595736802, 1.545536682037822\n",
      "Tailing points for second component are: -0.22295399793421833, 6.628260314077763\n"
     ]
    }
   ],
   "source": [
    "# Let's calculate tailing points for both Gaussian components in the mixture.\n",
    "def calculate_tailing_points(mean, std_dev, n_std_dev=3):\n",
    "    \"\"\"Calculate tailing points n standard deviations from the mean\"\"\"\n",
    "    lower_tail = mean - n_std_dev * std_dev\n",
    "    upper_tail = mean + n_std_dev * std_dev\n",
    "\n",
    "    return lower_tail, upper_tail\n",
    "\n",
    "# Tail points for the first Gaussian component\n",
    "mean1 = gmm.means_[0][0]\n",
    "std_dev1 = np.sqrt(gmm.covariances_[0][0][0])\n",
    "lower_tail1, upper_tail1 = calculate_tailing_points(mean1, std_dev1, n_std_dev=2)\n",
    "print(f'Tailing points for first component are: {lower_tail1}, {upper_tail1}')\n",
    "\n",
    "# Tail points for the second Gaussian component\n",
    "mean2 = gmm.means_[1][0]\n",
    "std_dev2 = np.sqrt(gmm.covariances_[1][0][0])\n",
    "lower_tail2, upper_tail2 = calculate_tailing_points(mean2, std_dev2, n_std_dev=2)\n",
    "print(f'Tailing points for second component are: {lower_tail2}, {upper_tail2}')\n"
   ]
  },
  {
   "cell_type": "code",
   "execution_count": null,
   "id": "f41d0298-0182-45df-9e7c-239f645a84b2",
   "metadata": {},
   "outputs": [],
   "source": []
  }
 ],
 "metadata": {
  "kernelspec": {
   "display_name": "Python 3 (ipykernel)",
   "language": "python",
   "name": "python3"
  },
  "language_info": {
   "codemirror_mode": {
    "name": "ipython",
    "version": 3
   },
   "file_extension": ".py",
   "mimetype": "text/x-python",
   "name": "python",
   "nbconvert_exporter": "python",
   "pygments_lexer": "ipython3",
   "version": "3.10.11"
  }
 },
 "nbformat": 4,
 "nbformat_minor": 5
}
