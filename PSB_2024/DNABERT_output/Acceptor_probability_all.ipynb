{
 "cells": [
  {
   "cell_type": "code",
   "execution_count": 2,
   "id": "63f40c7b-4e9b-4626-a876-38edcd6b2686",
   "metadata": {},
   "outputs": [],
   "source": [
    "import os, glob\n",
    "import numpy as np\n",
    "import pandas as pd\n",
    "import math\n",
    "import plotly.graph_objects as go\n",
    "import plotly.express as px\n",
    "import plotly.figure_factory as ff\n",
    "import seaborn as sns\n",
    "import matplotlib.pyplot as plt\n",
    "from scipy.stats import norm\n",
    "from scipy import stats\n",
    "from statsmodels.stats.weightstats import ztest"
   ]
  },
  {
   "cell_type": "code",
   "execution_count": 3,
   "id": "7f51a017-a684-4935-9920-bf80a213876e",
   "metadata": {},
   "outputs": [],
   "source": [
    "output_path = \"/data/projects/PSB/Output/Acceptor\"\n",
    "if not os.path.exists(output_path):\n",
    "    os.makedirs(output_path)"
   ]
  },
  {
   "cell_type": "code",
   "execution_count": 4,
   "id": "db1a15b6-3ae8-4725-9860-442dc53382b2",
   "metadata": {},
   "outputs": [],
   "source": [
    "chr_list = list(range(1, 23)) + ['X', 'Y']"
   ]
  },
  {
   "cell_type": "code",
   "execution_count": 5,
   "id": "52ab422b-6d9f-4615-9896-e2fc47196a07",
   "metadata": {},
   "outputs": [
    {
     "data": {
      "text/plain": [
       "[1,\n",
       " 2,\n",
       " 3,\n",
       " 4,\n",
       " 5,\n",
       " 6,\n",
       " 7,\n",
       " 8,\n",
       " 9,\n",
       " 10,\n",
       " 11,\n",
       " 12,\n",
       " 13,\n",
       " 14,\n",
       " 15,\n",
       " 16,\n",
       " 17,\n",
       " 18,\n",
       " 19,\n",
       " 20,\n",
       " 21,\n",
       " 22,\n",
       " 'X',\n",
       " 'Y']"
      ]
     },
     "execution_count": 5,
     "metadata": {},
     "output_type": "execute_result"
    }
   ],
   "source": [
    "chr_list"
   ]
  },
  {
   "cell_type": "code",
   "execution_count": 6,
   "id": "d0c512c7-f77d-4f25-9659-866eb47116c9",
   "metadata": {},
   "outputs": [],
   "source": [
    "def log_oods_ratio(p1,p2):\n",
    "    term1 = math.log2(p1/(1-p1))\n",
    "    term2 = math.log2(p2/(1-p2))\n",
    "    return (term1-term2)\n",
    "def calculate_diff_probab(p1,p2):\n",
    "    return((p2-p1)*max(p1,p2))"
   ]
  },
  {
   "cell_type": "code",
   "execution_count": 24,
   "id": "927633b9-cb8e-4d5c-b0ee-d5afd2814508",
   "metadata": {},
   "outputs": [
    {
     "name": "stdout",
     "output_type": "stream",
     "text": [
      "1\n",
      "13309582\n",
      "(6654791, 13)\n",
      "2\n",
      "12415698\n",
      "(6207849, 13)\n",
      "3\n",
      "10857034\n",
      "(5428517, 13)\n",
      "4\n",
      "6551396\n",
      "(3275698, 13)\n",
      "5\n",
      "7503942\n",
      "(3751971, 13)\n",
      "6\n",
      "8062936\n",
      "(4031468, 13)\n",
      "7\n",
      "8254716\n",
      "(4127358, 13)\n",
      "8\n",
      "7457820\n",
      "(3728910, 13)\n",
      "9\n",
      "6386078\n",
      "(3193039, 13)\n",
      "10\n",
      "6643034\n",
      "(3321517, 13)\n",
      "11\n",
      "10259622\n",
      "(5129811, 13)\n",
      "12\n",
      "9010052\n",
      "(4505026, 13)\n",
      "13\n",
      "2798910\n",
      "(1399455, 13)\n",
      "14\n",
      "6153240\n",
      "(3076620, 13)\n",
      "15\n",
      "6346668\n",
      "(3173334, 13)\n",
      "16\n",
      "9070184\n",
      "(4535092, 13)\n",
      "17\n",
      "10326052\n",
      "(5163026, 13)\n",
      "18\n",
      "3008808\n",
      "(1504404, 13)\n",
      "19\n",
      "9997732\n",
      "(4998866, 13)\n",
      "20\n",
      "4138740\n",
      "(2069370, 13)\n",
      "21\n",
      "2197260\n",
      "(1098630, 13)\n",
      "22\n",
      "3763448\n",
      "(1881724, 13)\n",
      "X\n",
      "3815738\n",
      "(1907869, 13)\n",
      "Y\n",
      "39196\n",
      "(19598, 13)\n"
     ]
    }
   ],
   "source": [
    "df_dict = {}\n",
    "df_list = []\n",
    "for chr_name in chr_list:\n",
    "    print(chr_name)\n",
    "    base_dir = \"/data/projects/PSB/DNABERT_data/Acceptor/chr\"+str(chr_name)\n",
    "    concat_probab = np.load(base_dir+\"/Prediction_result/pred_results.npy\")\n",
    "    print(len(concat_probab))\n",
    "    df = pd.read_csv(base_dir+\"/all_data_new.tsv\", sep= \"\\t\")\n",
    "    print(df.shape)\n",
    "    Reference_probab = concat_probab[::2]\n",
    "    Alternative_probab = concat_probab[1::2]\n",
    "    df['Ref_probab']=Reference_probab\n",
    "    df['Alt_probab']=Alternative_probab\n",
    "    df['ScoreChange'] = df.apply(lambda row: calculate_diff_probab(row['Ref_probab'], row['Alt_probab']), axis=1)\n",
    "    df['LogOddRatio'] = df.apply(lambda row: log_oods_ratio(row['Ref_probab'], row['Alt_probab']), axis=1)\n",
    "    df_list.append(df)"
   ]
  },
  {
   "cell_type": "code",
   "execution_count": 36,
   "id": "3463e015-6276-4113-801d-9d713d9726b2",
   "metadata": {},
   "outputs": [],
   "source": [
    "concatenated_df = pd.concat(df_list)"
   ]
  },
  {
   "cell_type": "code",
   "execution_count": 37,
   "id": "fa95f309-e8f5-4d60-b14b-b8ddaf1c35a2",
   "metadata": {},
   "outputs": [
    {
     "data": {
      "text/plain": [
       "(84183943, 17)"
      ]
     },
     "execution_count": 37,
     "metadata": {},
     "output_type": "execute_result"
    }
   ],
   "source": [
    "concatenated_df.shape"
   ]
  },
  {
   "cell_type": "code",
   "execution_count": 38,
   "id": "d7da1b60-5c4e-4a40-96db-eb9bca36b119",
   "metadata": {},
   "outputs": [
    {
     "data": {
      "text/html": [
       "<div>\n",
       "<style scoped>\n",
       "    .dataframe tbody tr th:only-of-type {\n",
       "        vertical-align: middle;\n",
       "    }\n",
       "\n",
       "    .dataframe tbody tr th {\n",
       "        vertical-align: top;\n",
       "    }\n",
       "\n",
       "    .dataframe thead th {\n",
       "        text-align: right;\n",
       "    }\n",
       "</style>\n",
       "<table border=\"1\" class=\"dataframe\">\n",
       "  <thead>\n",
       "    <tr style=\"text-align: right;\">\n",
       "      <th></th>\n",
       "      <th>index</th>\n",
       "      <th>chr</th>\n",
       "      <th>strand</th>\n",
       "      <th>Acceptor_coordinates</th>\n",
       "      <th>Transcript_coordinates</th>\n",
       "      <th>dbsnp_id</th>\n",
       "      <th>varinat_start</th>\n",
       "      <th>variant_end</th>\n",
       "      <th>ref_neucleotide</th>\n",
       "      <th>alternative_neucleotide</th>\n",
       "      <th>reference_seq</th>\n",
       "      <th>alt_seq</th>\n",
       "      <th>Ensemble_Transcript_ID</th>\n",
       "      <th>Ref_probab</th>\n",
       "      <th>Alt_probab</th>\n",
       "      <th>ScoreChange</th>\n",
       "      <th>LogOddRatio</th>\n",
       "    </tr>\n",
       "  </thead>\n",
       "  <tbody>\n",
       "    <tr>\n",
       "      <th>0</th>\n",
       "      <td>0</td>\n",
       "      <td>chr1</td>\n",
       "      <td>-</td>\n",
       "      <td>24401417-24401496</td>\n",
       "      <td>24401079-24410779</td>\n",
       "      <td>rs767109914</td>\n",
       "      <td>24401420</td>\n",
       "      <td>24401421</td>\n",
       "      <td>T</td>\n",
       "      <td>C</td>\n",
       "      <td>TGTTTGATGAAAAGTTCTACTGCATGTTCTCCTAAGCACCTGAAAC...</td>\n",
       "      <td>TGTCTGATGAAAAGTTCTACTGCATGTTCTCCTAAGCACCTGAAAC...</td>\n",
       "      <td>ENST00000475760</td>\n",
       "      <td>0.000076</td>\n",
       "      <td>0.000054</td>\n",
       "      <td>-1.689720e-09</td>\n",
       "      <td>0.494655</td>\n",
       "    </tr>\n",
       "    <tr>\n",
       "      <th>1</th>\n",
       "      <td>1</td>\n",
       "      <td>chr1</td>\n",
       "      <td>-</td>\n",
       "      <td>24401417-24401496</td>\n",
       "      <td>24401079-24410779</td>\n",
       "      <td>rs1557461252</td>\n",
       "      <td>24401421</td>\n",
       "      <td>24401421</td>\n",
       "      <td>.</td>\n",
       "      <td>CCACTCCTCAGGTATAGACCCATGAAATACATAAATATGTGTCCCA...</td>\n",
       "      <td>TGTTTGATGAAAAGTTCTACTGCATGTTCTCCTAAGCACCTGAAAC...</td>\n",
       "      <td>TGTTCCACTCCTCAGGTATAGACCCATGAAATACATAAATATGTGT...</td>\n",
       "      <td>ENST00000475760</td>\n",
       "      <td>0.000076</td>\n",
       "      <td>0.000001</td>\n",
       "      <td>-5.732076e-09</td>\n",
       "      <td>6.024013</td>\n",
       "    </tr>\n",
       "    <tr>\n",
       "      <th>2</th>\n",
       "      <td>2</td>\n",
       "      <td>chr1</td>\n",
       "      <td>-</td>\n",
       "      <td>24401417-24401496</td>\n",
       "      <td>24401079-24410779</td>\n",
       "      <td>rs1643224572</td>\n",
       "      <td>24401424</td>\n",
       "      <td>24401425</td>\n",
       "      <td>T</td>\n",
       "      <td>C</td>\n",
       "      <td>TGTTTGATGAAAAGTTCTACTGCATGTTCTCCTAAGCACCTGAAAC...</td>\n",
       "      <td>TGTTTGACGAAAAGTTCTACTGCATGTTCTCCTAAGCACCTGAAAC...</td>\n",
       "      <td>ENST00000475760</td>\n",
       "      <td>0.000076</td>\n",
       "      <td>0.000089</td>\n",
       "      <td>1.128651e-09</td>\n",
       "      <td>-0.221882</td>\n",
       "    </tr>\n",
       "    <tr>\n",
       "      <th>3</th>\n",
       "      <td>3</td>\n",
       "      <td>chr1</td>\n",
       "      <td>-</td>\n",
       "      <td>24401417-24401496</td>\n",
       "      <td>24401079-24410779</td>\n",
       "      <td>rs1402144573</td>\n",
       "      <td>24401427</td>\n",
       "      <td>24401428</td>\n",
       "      <td>A</td>\n",
       "      <td>G</td>\n",
       "      <td>TGTTTGATGAAAAGTTCTACTGCATGTTCTCCTAAGCACCTGAAAC...</td>\n",
       "      <td>TGTTTGATGAGAAGTTCTACTGCATGTTCTCCTAAGCACCTGAAAC...</td>\n",
       "      <td>ENST00000475760</td>\n",
       "      <td>0.000076</td>\n",
       "      <td>0.000142</td>\n",
       "      <td>9.266856e-09</td>\n",
       "      <td>-0.893175</td>\n",
       "    </tr>\n",
       "    <tr>\n",
       "      <th>4</th>\n",
       "      <td>4</td>\n",
       "      <td>chr1</td>\n",
       "      <td>-</td>\n",
       "      <td>24401417-24401496</td>\n",
       "      <td>24401079-24410779</td>\n",
       "      <td>rs1643224756</td>\n",
       "      <td>24401433</td>\n",
       "      <td>24401434</td>\n",
       "      <td>C</td>\n",
       "      <td>G</td>\n",
       "      <td>TGTTTGATGAAAAGTTCTACTGCATGTTCTCCTAAGCACCTGAAAC...</td>\n",
       "      <td>TGTTTGATGAAAAGTTGTACTGCATGTTCTCCTAAGCACCTGAAAC...</td>\n",
       "      <td>ENST00000475760</td>\n",
       "      <td>0.000076</td>\n",
       "      <td>0.000047</td>\n",
       "      <td>-2.221295e-09</td>\n",
       "      <td>0.693347</td>\n",
       "    </tr>\n",
       "  </tbody>\n",
       "</table>\n",
       "</div>"
      ],
      "text/plain": [
       "   index   chr strand Acceptor_coordinates Transcript_coordinates  \\\n",
       "0      0  chr1      -    24401417-24401496      24401079-24410779   \n",
       "1      1  chr1      -    24401417-24401496      24401079-24410779   \n",
       "2      2  chr1      -    24401417-24401496      24401079-24410779   \n",
       "3      3  chr1      -    24401417-24401496      24401079-24410779   \n",
       "4      4  chr1      -    24401417-24401496      24401079-24410779   \n",
       "\n",
       "       dbsnp_id  varinat_start  variant_end ref_neucleotide  \\\n",
       "0   rs767109914       24401420     24401421               T   \n",
       "1  rs1557461252       24401421     24401421               .   \n",
       "2  rs1643224572       24401424     24401425               T   \n",
       "3  rs1402144573       24401427     24401428               A   \n",
       "4  rs1643224756       24401433     24401434               C   \n",
       "\n",
       "                             alternative_neucleotide  \\\n",
       "0                                                  C   \n",
       "1  CCACTCCTCAGGTATAGACCCATGAAATACATAAATATGTGTCCCA...   \n",
       "2                                                  C   \n",
       "3                                                  G   \n",
       "4                                                  G   \n",
       "\n",
       "                                       reference_seq  \\\n",
       "0  TGTTTGATGAAAAGTTCTACTGCATGTTCTCCTAAGCACCTGAAAC...   \n",
       "1  TGTTTGATGAAAAGTTCTACTGCATGTTCTCCTAAGCACCTGAAAC...   \n",
       "2  TGTTTGATGAAAAGTTCTACTGCATGTTCTCCTAAGCACCTGAAAC...   \n",
       "3  TGTTTGATGAAAAGTTCTACTGCATGTTCTCCTAAGCACCTGAAAC...   \n",
       "4  TGTTTGATGAAAAGTTCTACTGCATGTTCTCCTAAGCACCTGAAAC...   \n",
       "\n",
       "                                             alt_seq Ensemble_Transcript_ID  \\\n",
       "0  TGTCTGATGAAAAGTTCTACTGCATGTTCTCCTAAGCACCTGAAAC...        ENST00000475760   \n",
       "1  TGTTCCACTCCTCAGGTATAGACCCATGAAATACATAAATATGTGT...        ENST00000475760   \n",
       "2  TGTTTGACGAAAAGTTCTACTGCATGTTCTCCTAAGCACCTGAAAC...        ENST00000475760   \n",
       "3  TGTTTGATGAGAAGTTCTACTGCATGTTCTCCTAAGCACCTGAAAC...        ENST00000475760   \n",
       "4  TGTTTGATGAAAAGTTGTACTGCATGTTCTCCTAAGCACCTGAAAC...        ENST00000475760   \n",
       "\n",
       "   Ref_probab  Alt_probab   ScoreChange  LogOddRatio  \n",
       "0    0.000076    0.000054 -1.689720e-09     0.494655  \n",
       "1    0.000076    0.000001 -5.732076e-09     6.024013  \n",
       "2    0.000076    0.000089  1.128651e-09    -0.221882  \n",
       "3    0.000076    0.000142  9.266856e-09    -0.893175  \n",
       "4    0.000076    0.000047 -2.221295e-09     0.693347  "
      ]
     },
     "execution_count": 38,
     "metadata": {},
     "output_type": "execute_result"
    }
   ],
   "source": [
    "concatenated_df.head()"
   ]
  },
  {
   "cell_type": "code",
   "execution_count": 39,
   "id": "ee694163-4c7b-4913-a954-506d3efddcb6",
   "metadata": {},
   "outputs": [
    {
     "data": {
      "text/html": [
       "<div>\n",
       "<style scoped>\n",
       "    .dataframe tbody tr th:only-of-type {\n",
       "        vertical-align: middle;\n",
       "    }\n",
       "\n",
       "    .dataframe tbody tr th {\n",
       "        vertical-align: top;\n",
       "    }\n",
       "\n",
       "    .dataframe thead th {\n",
       "        text-align: right;\n",
       "    }\n",
       "</style>\n",
       "<table border=\"1\" class=\"dataframe\">\n",
       "  <thead>\n",
       "    <tr style=\"text-align: right;\">\n",
       "      <th></th>\n",
       "      <th>index</th>\n",
       "      <th>chr</th>\n",
       "      <th>strand</th>\n",
       "      <th>Acceptor_coordinates</th>\n",
       "      <th>Transcript_coordinates</th>\n",
       "      <th>dbsnp_id</th>\n",
       "      <th>varinat_start</th>\n",
       "      <th>variant_end</th>\n",
       "      <th>ref_neucleotide</th>\n",
       "      <th>alternative_neucleotide</th>\n",
       "      <th>reference_seq</th>\n",
       "      <th>alt_seq</th>\n",
       "      <th>Ensemble_Transcript_ID</th>\n",
       "      <th>Ref_probab</th>\n",
       "      <th>Alt_probab</th>\n",
       "      <th>ScoreChange</th>\n",
       "      <th>LogOddRatio</th>\n",
       "    </tr>\n",
       "  </thead>\n",
       "  <tbody>\n",
       "    <tr>\n",
       "      <th>2185</th>\n",
       "      <td>2185</td>\n",
       "      <td>chr1</td>\n",
       "      <td>+</td>\n",
       "      <td>24445144-24445223</td>\n",
       "      <td>24415803-24472976</td>\n",
       "      <td>rs1450817635</td>\n",
       "      <td>24445172</td>\n",
       "      <td>24445174</td>\n",
       "      <td>TT</td>\n",
       "      <td>T</td>\n",
       "      <td>AGCAGCCTCAATTCCCTTTTCTTTGTGCTTCATTTTTCAGCTAGTG...</td>\n",
       "      <td>AGCAGCCTCAATTCCCTTTTCTTTGTGCTCATTTTTCAGCTAGTGC...</td>\n",
       "      <td>ENST00000003912</td>\n",
       "      <td>0.999804</td>\n",
       "      <td>0.001602</td>\n",
       "      <td>-0.998007</td>\n",
       "      <td>21.603005</td>\n",
       "    </tr>\n",
       "    <tr>\n",
       "      <th>2215</th>\n",
       "      <td>2215</td>\n",
       "      <td>chr1</td>\n",
       "      <td>+</td>\n",
       "      <td>24445144-24445223</td>\n",
       "      <td>24415814-24466310</td>\n",
       "      <td>rs1450817635</td>\n",
       "      <td>24445172</td>\n",
       "      <td>24445174</td>\n",
       "      <td>TT</td>\n",
       "      <td>T</td>\n",
       "      <td>AGCAGCCTCAATTCCCTTTTCTTTGTGCTTCATTTTTCAGCTAGTG...</td>\n",
       "      <td>AGCAGCCTCAATTCCCTTTTCTTTGTGCTCATTTTTCAGCTAGTGC...</td>\n",
       "      <td>ENST00000339255</td>\n",
       "      <td>0.999804</td>\n",
       "      <td>0.001602</td>\n",
       "      <td>-0.998007</td>\n",
       "      <td>21.603005</td>\n",
       "    </tr>\n",
       "    <tr>\n",
       "      <th>2245</th>\n",
       "      <td>2245</td>\n",
       "      <td>chr1</td>\n",
       "      <td>+</td>\n",
       "      <td>24445144-24445223</td>\n",
       "      <td>24415813-24454824</td>\n",
       "      <td>rs1450817635</td>\n",
       "      <td>24445172</td>\n",
       "      <td>24445174</td>\n",
       "      <td>TT</td>\n",
       "      <td>T</td>\n",
       "      <td>AGCAGCCTCAATTCCCTTTTCTTTGTGCTTCATTTTTCAGCTAGTG...</td>\n",
       "      <td>AGCAGCCTCAATTCCCTTTTCTTTGTGCTCATTTTTCAGCTAGTGC...</td>\n",
       "      <td>ENST00000358028</td>\n",
       "      <td>0.999804</td>\n",
       "      <td>0.001602</td>\n",
       "      <td>-0.998007</td>\n",
       "      <td>21.603005</td>\n",
       "    </tr>\n",
       "    <tr>\n",
       "      <th>2275</th>\n",
       "      <td>2275</td>\n",
       "      <td>chr1</td>\n",
       "      <td>+</td>\n",
       "      <td>24445144-24445223</td>\n",
       "      <td>24415802-24472976</td>\n",
       "      <td>rs1450817635</td>\n",
       "      <td>24445172</td>\n",
       "      <td>24445174</td>\n",
       "      <td>TT</td>\n",
       "      <td>T</td>\n",
       "      <td>AGCAGCCTCAATTCCCTTTTCTTTGTGCTTCATTTTTCAGCTAGTG...</td>\n",
       "      <td>AGCAGCCTCAATTCCCTTTTCTTTGTGCTCATTTTTCAGCTAGTGC...</td>\n",
       "      <td>ENST00000374399</td>\n",
       "      <td>0.999804</td>\n",
       "      <td>0.001602</td>\n",
       "      <td>-0.998007</td>\n",
       "      <td>21.603005</td>\n",
       "    </tr>\n",
       "    <tr>\n",
       "      <th>2791</th>\n",
       "      <td>2791</td>\n",
       "      <td>chr1</td>\n",
       "      <td>+</td>\n",
       "      <td>24458847-24458926</td>\n",
       "      <td>24415803-24472976</td>\n",
       "      <td>rs752041946</td>\n",
       "      <td>24458882</td>\n",
       "      <td>24458883</td>\n",
       "      <td>T</td>\n",
       "      <td>A</td>\n",
       "      <td>GTCTCCACAGCCCACTGACTGGAGTGCTTTTGTGTTGAAGGTTTTT...</td>\n",
       "      <td>GTCTCCACAGCCCACTGACTGGAGTGCTTTTGTGTAGAAGGTTTTT...</td>\n",
       "      <td>ENST00000003912</td>\n",
       "      <td>0.999993</td>\n",
       "      <td>0.321426</td>\n",
       "      <td>-0.678561</td>\n",
       "      <td>18.123810</td>\n",
       "    </tr>\n",
       "    <tr>\n",
       "      <th>...</th>\n",
       "      <td>...</td>\n",
       "      <td>...</td>\n",
       "      <td>...</td>\n",
       "      <td>...</td>\n",
       "      <td>...</td>\n",
       "      <td>...</td>\n",
       "      <td>...</td>\n",
       "      <td>...</td>\n",
       "      <td>...</td>\n",
       "      <td>...</td>\n",
       "      <td>...</td>\n",
       "      <td>...</td>\n",
       "      <td>...</td>\n",
       "      <td>...</td>\n",
       "      <td>...</td>\n",
       "      <td>...</td>\n",
       "      <td>...</td>\n",
       "    </tr>\n",
       "    <tr>\n",
       "      <th>18672</th>\n",
       "      <td>86838</td>\n",
       "      <td>chrY</td>\n",
       "      <td>+</td>\n",
       "      <td>3109777-3109856</td>\n",
       "      <td>3002946-3120600</td>\n",
       "      <td>rs2051480392</td>\n",
       "      <td>3109832</td>\n",
       "      <td>3109833</td>\n",
       "      <td>T</td>\n",
       "      <td>G</td>\n",
       "      <td>cagtactaaaaaaacaaaaatcacatgattatctccacagatgcag...</td>\n",
       "      <td>cagtactaaaaaaacaaaaatcacatgattatctccacagatgcag...</td>\n",
       "      <td>ENST00000655607</td>\n",
       "      <td>0.063167</td>\n",
       "      <td>0.963243</td>\n",
       "      <td>0.866991</td>\n",
       "      <td>-8.602347</td>\n",
       "    </tr>\n",
       "    <tr>\n",
       "      <th>18674</th>\n",
       "      <td>86840</td>\n",
       "      <td>chrY</td>\n",
       "      <td>+</td>\n",
       "      <td>3109777-3109856</td>\n",
       "      <td>3003001-3110315</td>\n",
       "      <td>rs2051480392</td>\n",
       "      <td>3109832</td>\n",
       "      <td>3109833</td>\n",
       "      <td>T</td>\n",
       "      <td>G</td>\n",
       "      <td>cagtactaaaaaaacaaaaatcacatgattatctccacagatgcag...</td>\n",
       "      <td>cagtactaaaaaaacaaaaatcacatgattatctccacagatgcag...</td>\n",
       "      <td>ENST00000653660</td>\n",
       "      <td>0.063167</td>\n",
       "      <td>0.963243</td>\n",
       "      <td>0.866991</td>\n",
       "      <td>-8.602347</td>\n",
       "    </tr>\n",
       "    <tr>\n",
       "      <th>18676</th>\n",
       "      <td>86842</td>\n",
       "      <td>chrY</td>\n",
       "      <td>+</td>\n",
       "      <td>3109777-3109856</td>\n",
       "      <td>3002901-3120619</td>\n",
       "      <td>rs2051480392</td>\n",
       "      <td>3109832</td>\n",
       "      <td>3109833</td>\n",
       "      <td>T</td>\n",
       "      <td>G</td>\n",
       "      <td>cagtactaaaaaaacaaaaatcacatgattatctccacagatgcag...</td>\n",
       "      <td>cagtactaaaaaaacaaaaatcacatgattatctccacagatgcag...</td>\n",
       "      <td>ENST00000691894</td>\n",
       "      <td>0.063167</td>\n",
       "      <td>0.963243</td>\n",
       "      <td>0.866991</td>\n",
       "      <td>-8.602347</td>\n",
       "    </tr>\n",
       "    <tr>\n",
       "      <th>18678</th>\n",
       "      <td>86844</td>\n",
       "      <td>chrY</td>\n",
       "      <td>+</td>\n",
       "      <td>3109777-3109856</td>\n",
       "      <td>3002894-3200509</td>\n",
       "      <td>rs2051480392</td>\n",
       "      <td>3109832</td>\n",
       "      <td>3109833</td>\n",
       "      <td>T</td>\n",
       "      <td>G</td>\n",
       "      <td>cagtactaaaaaaacaaaaatcacatgattatctccacagatgcag...</td>\n",
       "      <td>cagtactaaaaaaacaaaaatcacatgattatctccacagatgcag...</td>\n",
       "      <td>ENST00000651090</td>\n",
       "      <td>0.063167</td>\n",
       "      <td>0.963243</td>\n",
       "      <td>0.866991</td>\n",
       "      <td>-8.602347</td>\n",
       "    </tr>\n",
       "    <tr>\n",
       "      <th>18680</th>\n",
       "      <td>86846</td>\n",
       "      <td>chrY</td>\n",
       "      <td>+</td>\n",
       "      <td>3109777-3109856</td>\n",
       "      <td>3002887-3200509</td>\n",
       "      <td>rs2051480392</td>\n",
       "      <td>3109832</td>\n",
       "      <td>3109833</td>\n",
       "      <td>T</td>\n",
       "      <td>G</td>\n",
       "      <td>cagtactaaaaaaacaaaaatcacatgattatctccacagatgcag...</td>\n",
       "      <td>cagtactaaaaaaacaaaaatcacatgattatctccacagatgcag...</td>\n",
       "      <td>ENST00000665487</td>\n",
       "      <td>0.063167</td>\n",
       "      <td>0.963243</td>\n",
       "      <td>0.866991</td>\n",
       "      <td>-8.602347</td>\n",
       "    </tr>\n",
       "  </tbody>\n",
       "</table>\n",
       "<p>2943626 rows × 17 columns</p>\n",
       "</div>"
      ],
      "text/plain": [
       "       index   chr strand Acceptor_coordinates Transcript_coordinates  \\\n",
       "2185    2185  chr1      +    24445144-24445223      24415803-24472976   \n",
       "2215    2215  chr1      +    24445144-24445223      24415814-24466310   \n",
       "2245    2245  chr1      +    24445144-24445223      24415813-24454824   \n",
       "2275    2275  chr1      +    24445144-24445223      24415802-24472976   \n",
       "2791    2791  chr1      +    24458847-24458926      24415803-24472976   \n",
       "...      ...   ...    ...                  ...                    ...   \n",
       "18672  86838  chrY      +      3109777-3109856        3002946-3120600   \n",
       "18674  86840  chrY      +      3109777-3109856        3003001-3110315   \n",
       "18676  86842  chrY      +      3109777-3109856        3002901-3120619   \n",
       "18678  86844  chrY      +      3109777-3109856        3002894-3200509   \n",
       "18680  86846  chrY      +      3109777-3109856        3002887-3200509   \n",
       "\n",
       "           dbsnp_id  varinat_start  variant_end ref_neucleotide  \\\n",
       "2185   rs1450817635       24445172     24445174              TT   \n",
       "2215   rs1450817635       24445172     24445174              TT   \n",
       "2245   rs1450817635       24445172     24445174              TT   \n",
       "2275   rs1450817635       24445172     24445174              TT   \n",
       "2791    rs752041946       24458882     24458883               T   \n",
       "...             ...            ...          ...             ...   \n",
       "18672  rs2051480392        3109832      3109833               T   \n",
       "18674  rs2051480392        3109832      3109833               T   \n",
       "18676  rs2051480392        3109832      3109833               T   \n",
       "18678  rs2051480392        3109832      3109833               T   \n",
       "18680  rs2051480392        3109832      3109833               T   \n",
       "\n",
       "      alternative_neucleotide  \\\n",
       "2185                        T   \n",
       "2215                        T   \n",
       "2245                        T   \n",
       "2275                        T   \n",
       "2791                        A   \n",
       "...                       ...   \n",
       "18672                       G   \n",
       "18674                       G   \n",
       "18676                       G   \n",
       "18678                       G   \n",
       "18680                       G   \n",
       "\n",
       "                                           reference_seq  \\\n",
       "2185   AGCAGCCTCAATTCCCTTTTCTTTGTGCTTCATTTTTCAGCTAGTG...   \n",
       "2215   AGCAGCCTCAATTCCCTTTTCTTTGTGCTTCATTTTTCAGCTAGTG...   \n",
       "2245   AGCAGCCTCAATTCCCTTTTCTTTGTGCTTCATTTTTCAGCTAGTG...   \n",
       "2275   AGCAGCCTCAATTCCCTTTTCTTTGTGCTTCATTTTTCAGCTAGTG...   \n",
       "2791   GTCTCCACAGCCCACTGACTGGAGTGCTTTTGTGTTGAAGGTTTTT...   \n",
       "...                                                  ...   \n",
       "18672  cagtactaaaaaaacaaaaatcacatgattatctccacagatgcag...   \n",
       "18674  cagtactaaaaaaacaaaaatcacatgattatctccacagatgcag...   \n",
       "18676  cagtactaaaaaaacaaaaatcacatgattatctccacagatgcag...   \n",
       "18678  cagtactaaaaaaacaaaaatcacatgattatctccacagatgcag...   \n",
       "18680  cagtactaaaaaaacaaaaatcacatgattatctccacagatgcag...   \n",
       "\n",
       "                                                 alt_seq  \\\n",
       "2185   AGCAGCCTCAATTCCCTTTTCTTTGTGCTCATTTTTCAGCTAGTGC...   \n",
       "2215   AGCAGCCTCAATTCCCTTTTCTTTGTGCTCATTTTTCAGCTAGTGC...   \n",
       "2245   AGCAGCCTCAATTCCCTTTTCTTTGTGCTCATTTTTCAGCTAGTGC...   \n",
       "2275   AGCAGCCTCAATTCCCTTTTCTTTGTGCTCATTTTTCAGCTAGTGC...   \n",
       "2791   GTCTCCACAGCCCACTGACTGGAGTGCTTTTGTGTAGAAGGTTTTT...   \n",
       "...                                                  ...   \n",
       "18672  cagtactaaaaaaacaaaaatcacatgattatctccacagatgcag...   \n",
       "18674  cagtactaaaaaaacaaaaatcacatgattatctccacagatgcag...   \n",
       "18676  cagtactaaaaaaacaaaaatcacatgattatctccacagatgcag...   \n",
       "18678  cagtactaaaaaaacaaaaatcacatgattatctccacagatgcag...   \n",
       "18680  cagtactaaaaaaacaaaaatcacatgattatctccacagatgcag...   \n",
       "\n",
       "      Ensemble_Transcript_ID  Ref_probab  Alt_probab  ScoreChange  LogOddRatio  \n",
       "2185         ENST00000003912    0.999804    0.001602    -0.998007    21.603005  \n",
       "2215         ENST00000339255    0.999804    0.001602    -0.998007    21.603005  \n",
       "2245         ENST00000358028    0.999804    0.001602    -0.998007    21.603005  \n",
       "2275         ENST00000374399    0.999804    0.001602    -0.998007    21.603005  \n",
       "2791         ENST00000003912    0.999993    0.321426    -0.678561    18.123810  \n",
       "...                      ...         ...         ...          ...          ...  \n",
       "18672        ENST00000655607    0.063167    0.963243     0.866991    -8.602347  \n",
       "18674        ENST00000653660    0.063167    0.963243     0.866991    -8.602347  \n",
       "18676        ENST00000691894    0.063167    0.963243     0.866991    -8.602347  \n",
       "18678        ENST00000651090    0.063167    0.963243     0.866991    -8.602347  \n",
       "18680        ENST00000665487    0.063167    0.963243     0.866991    -8.602347  \n",
       "\n",
       "[2943626 rows x 17 columns]"
      ]
     },
     "execution_count": 39,
     "metadata": {},
     "output_type": "execute_result"
    }
   ],
   "source": [
    "#df_interest = df_interest[((df_interest['Ref_probab']>0.5) & (df_interest['Alt_probab']<0.5))|((df_interest['Ref_probab']<0.5) & (df_interest['Alt_probab']>0.5))]\n",
    "# df_interest = concatenated_df[(concatenated_df['Ref_probab']>0.5)|(concatenated_df['Alt_probab']>0.5)]\n",
    "# df_interest\n",
    "filtered_df1 = concatenated_df[(concatenated_df['Ref_probab'] > 0.5) & (concatenated_df['Alt_probab'] < 0.5)]\n",
    "filtered_df2 = concatenated_df[(concatenated_df['Ref_probab'] < 0.5) & (concatenated_df['Alt_probab'] > 0.5)]\n",
    "df_interest = pd.concat([filtered_df1, filtered_df2])\n",
    "df_interest"
   ]
  },
  {
   "cell_type": "code",
   "execution_count": 40,
   "id": "c19ccc9b-46f1-4983-9b96-af4fd6cc6bdc",
   "metadata": {},
   "outputs": [
    {
     "data": {
      "application/vnd.plotly.v1+json": {
       "config": {
        "plotlyServerURL": "https://plot.ly"
       },
       "data": [
        {
         "name": "Histogram",
         "type": "bar",
         "width": [
          1.9979181594530786,
          1.9979181594530857,
          1.9979181594530786,
          1.9979181594530822,
          1.9979181594530822,
          1.9979181594530786,
          1.9979181594530822,
          1.9979181594530822,
          1.9979181594530786,
          1.9979181594530822,
          1.9979181594530822,
          1.9979181594530786,
          1.9979181594530822,
          1.9979181594530822,
          1.9979181594530786,
          1.9979181594530822,
          1.9979181594530822,
          1.9979181594530786,
          1.9979181594530857,
          1.9979181594530786,
          1.9979181594530786,
          1.9979181594530857,
          1.9979181594530786,
          1.9979181594530786,
          1.9979181594530857,
          1.9979181594530786,
          1.9979181594530786,
          1.9979181594530857,
          1.9979181594530786,
          1.9979181594530786,
          1.9979181594530857,
          1.9979181594530786,
          1.9979181594530857,
          1.9979181594530786,
          1.9979181594530786,
          1.9979181594530786,
          1.9979181594530786,
          1.9979181594530928,
          1.9979181594530786,
          1.9979181594530786
         ],
         "x": [
          -37.93619238001322,
          -35.93827422056013,
          -33.94035606110705,
          -31.942437901653975,
          -29.94451974220089,
          -27.94660158274781,
          -25.94868342329473,
          -23.950765263841646,
          -21.952847104388567,
          -19.95492894493549,
          -17.957010785482403,
          -15.959092626029324,
          -13.961174466576244,
          -11.963256307123162,
          -9.965338147670082,
          -7.967419988217001,
          -5.969501828763919,
          -3.9715836693108386,
          -1.9736655098577565,
          0.024252649595325693,
          2.0221708090484043,
          4.0200889685014864,
          6.018007127954569,
          8.015925287407647,
          10.01384344686073,
          12.011761606313812,
          14.00967976576689,
          16.007597925219972,
          18.005516084673054,
          20.003434244126133,
          22.001352403579215,
          23.999270563032297,
          25.99718872248538,
          27.99510688193846,
          29.99302504139154,
          31.99094320084462,
          33.9888613602977,
          35.98677951975078,
          37.98469767920387,
          39.98261583865695
         ],
         "y": [
          55,
          168,
          770,
          1866,
          2609,
          3687,
          6806,
          10436,
          16074,
          24310,
          37206,
          50327,
          68198,
          94699,
          120286,
          148259,
          176100,
          188930,
          152967,
          59016,
          168006,
          196968,
          185949,
          163619,
          138781,
          118475,
          108047,
          100092,
          100761,
          99352,
          86596,
          73390,
          62002,
          51871,
          43534,
          36513,
          25205,
          15137,
          5826,
          733
         ]
        },
        {
         "mode": "text",
         "text": [
          "55"
         ],
         "type": "scatter",
         "x": [
          -37.93619238001322
         ],
         "y": [
          55
         ]
        },
        {
         "mode": "text",
         "text": [
          "168"
         ],
         "type": "scatter",
         "x": [
          -35.93827422056013
         ],
         "y": [
          168
         ]
        },
        {
         "mode": "text",
         "text": [
          "770"
         ],
         "type": "scatter",
         "x": [
          -33.94035606110705
         ],
         "y": [
          770
         ]
        },
        {
         "mode": "text",
         "text": [
          "1866"
         ],
         "type": "scatter",
         "x": [
          -31.942437901653975
         ],
         "y": [
          1866
         ]
        },
        {
         "mode": "text",
         "text": [
          "2609"
         ],
         "type": "scatter",
         "x": [
          -29.94451974220089
         ],
         "y": [
          2609
         ]
        },
        {
         "mode": "text",
         "text": [
          "3687"
         ],
         "type": "scatter",
         "x": [
          -27.94660158274781
         ],
         "y": [
          3687
         ]
        },
        {
         "mode": "text",
         "text": [
          "6806"
         ],
         "type": "scatter",
         "x": [
          -25.94868342329473
         ],
         "y": [
          6806
         ]
        },
        {
         "mode": "text",
         "text": [
          "10436"
         ],
         "type": "scatter",
         "x": [
          -23.950765263841646
         ],
         "y": [
          10436
         ]
        },
        {
         "mode": "text",
         "text": [
          "16074"
         ],
         "type": "scatter",
         "x": [
          -21.952847104388567
         ],
         "y": [
          16074
         ]
        },
        {
         "mode": "text",
         "text": [
          "24310"
         ],
         "type": "scatter",
         "x": [
          -19.95492894493549
         ],
         "y": [
          24310
         ]
        },
        {
         "mode": "text",
         "text": [
          "37206"
         ],
         "type": "scatter",
         "x": [
          -17.957010785482403
         ],
         "y": [
          37206
         ]
        },
        {
         "mode": "text",
         "text": [
          "50327"
         ],
         "type": "scatter",
         "x": [
          -15.959092626029324
         ],
         "y": [
          50327
         ]
        },
        {
         "mode": "text",
         "text": [
          "68198"
         ],
         "type": "scatter",
         "x": [
          -13.961174466576244
         ],
         "y": [
          68198
         ]
        },
        {
         "mode": "text",
         "text": [
          "94699"
         ],
         "type": "scatter",
         "x": [
          -11.963256307123162
         ],
         "y": [
          94699
         ]
        },
        {
         "mode": "text",
         "text": [
          "120286"
         ],
         "type": "scatter",
         "x": [
          -9.965338147670082
         ],
         "y": [
          120286
         ]
        },
        {
         "mode": "text",
         "text": [
          "148259"
         ],
         "type": "scatter",
         "x": [
          -7.967419988217001
         ],
         "y": [
          148259
         ]
        },
        {
         "mode": "text",
         "text": [
          "176100"
         ],
         "type": "scatter",
         "x": [
          -5.969501828763919
         ],
         "y": [
          176100
         ]
        },
        {
         "mode": "text",
         "text": [
          "188930"
         ],
         "type": "scatter",
         "x": [
          -3.9715836693108386
         ],
         "y": [
          188930
         ]
        },
        {
         "mode": "text",
         "text": [
          "152967"
         ],
         "type": "scatter",
         "x": [
          -1.9736655098577565
         ],
         "y": [
          152967
         ]
        },
        {
         "mode": "text",
         "text": [
          "59016"
         ],
         "type": "scatter",
         "x": [
          0.024252649595325693
         ],
         "y": [
          59016
         ]
        },
        {
         "mode": "text",
         "text": [
          "168006"
         ],
         "type": "scatter",
         "x": [
          2.0221708090484043
         ],
         "y": [
          168006
         ]
        },
        {
         "mode": "text",
         "text": [
          "196968"
         ],
         "type": "scatter",
         "x": [
          4.0200889685014864
         ],
         "y": [
          196968
         ]
        },
        {
         "mode": "text",
         "text": [
          "185949"
         ],
         "type": "scatter",
         "x": [
          6.018007127954569
         ],
         "y": [
          185949
         ]
        },
        {
         "mode": "text",
         "text": [
          "163619"
         ],
         "type": "scatter",
         "x": [
          8.015925287407647
         ],
         "y": [
          163619
         ]
        },
        {
         "mode": "text",
         "text": [
          "138781"
         ],
         "type": "scatter",
         "x": [
          10.01384344686073
         ],
         "y": [
          138781
         ]
        },
        {
         "mode": "text",
         "text": [
          "118475"
         ],
         "type": "scatter",
         "x": [
          12.011761606313812
         ],
         "y": [
          118475
         ]
        },
        {
         "mode": "text",
         "text": [
          "108047"
         ],
         "type": "scatter",
         "x": [
          14.00967976576689
         ],
         "y": [
          108047
         ]
        },
        {
         "mode": "text",
         "text": [
          "100092"
         ],
         "type": "scatter",
         "x": [
          16.007597925219972
         ],
         "y": [
          100092
         ]
        },
        {
         "mode": "text",
         "text": [
          "100761"
         ],
         "type": "scatter",
         "x": [
          18.005516084673054
         ],
         "y": [
          100761
         ]
        },
        {
         "mode": "text",
         "text": [
          "99352"
         ],
         "type": "scatter",
         "x": [
          20.003434244126133
         ],
         "y": [
          99352
         ]
        },
        {
         "mode": "text",
         "text": [
          "86596"
         ],
         "type": "scatter",
         "x": [
          22.001352403579215
         ],
         "y": [
          86596
         ]
        },
        {
         "mode": "text",
         "text": [
          "73390"
         ],
         "type": "scatter",
         "x": [
          23.999270563032297
         ],
         "y": [
          73390
         ]
        },
        {
         "mode": "text",
         "text": [
          "62002"
         ],
         "type": "scatter",
         "x": [
          25.99718872248538
         ],
         "y": [
          62002
         ]
        },
        {
         "mode": "text",
         "text": [
          "51871"
         ],
         "type": "scatter",
         "x": [
          27.99510688193846
         ],
         "y": [
          51871
         ]
        },
        {
         "mode": "text",
         "text": [
          "43534"
         ],
         "type": "scatter",
         "x": [
          29.99302504139154
         ],
         "y": [
          43534
         ]
        },
        {
         "mode": "text",
         "text": [
          "36513"
         ],
         "type": "scatter",
         "x": [
          31.99094320084462
         ],
         "y": [
          36513
         ]
        },
        {
         "mode": "text",
         "text": [
          "25205"
         ],
         "type": "scatter",
         "x": [
          33.9888613602977
         ],
         "y": [
          25205
         ]
        },
        {
         "mode": "text",
         "text": [
          "15137"
         ],
         "type": "scatter",
         "x": [
          35.98677951975078
         ],
         "y": [
          15137
         ]
        },
        {
         "mode": "text",
         "text": [
          "5826"
         ],
         "type": "scatter",
         "x": [
          37.98469767920387
         ],
         "y": [
          5826
         ]
        },
        {
         "mode": "text",
         "text": [
          "733"
         ],
         "type": "scatter",
         "x": [
          39.98261583865695
         ],
         "y": [
          733
         ]
        }
       ],
       "layout": {
        "autosize": true,
        "template": {
         "data": {
          "bar": [
           {
            "error_x": {
             "color": "#2a3f5f"
            },
            "error_y": {
             "color": "#2a3f5f"
            },
            "marker": {
             "line": {
              "color": "#E5ECF6",
              "width": 0.5
             },
             "pattern": {
              "fillmode": "overlay",
              "size": 10,
              "solidity": 0.2
             }
            },
            "type": "bar"
           }
          ],
          "barpolar": [
           {
            "marker": {
             "line": {
              "color": "#E5ECF6",
              "width": 0.5
             },
             "pattern": {
              "fillmode": "overlay",
              "size": 10,
              "solidity": 0.2
             }
            },
            "type": "barpolar"
           }
          ],
          "carpet": [
           {
            "aaxis": {
             "endlinecolor": "#2a3f5f",
             "gridcolor": "white",
             "linecolor": "white",
             "minorgridcolor": "white",
             "startlinecolor": "#2a3f5f"
            },
            "baxis": {
             "endlinecolor": "#2a3f5f",
             "gridcolor": "white",
             "linecolor": "white",
             "minorgridcolor": "white",
             "startlinecolor": "#2a3f5f"
            },
            "type": "carpet"
           }
          ],
          "choropleth": [
           {
            "colorbar": {
             "outlinewidth": 0,
             "ticks": ""
            },
            "type": "choropleth"
           }
          ],
          "contour": [
           {
            "colorbar": {
             "outlinewidth": 0,
             "ticks": ""
            },
            "colorscale": [
             [
              0,
              "#0d0887"
             ],
             [
              0.1111111111111111,
              "#46039f"
             ],
             [
              0.2222222222222222,
              "#7201a8"
             ],
             [
              0.3333333333333333,
              "#9c179e"
             ],
             [
              0.4444444444444444,
              "#bd3786"
             ],
             [
              0.5555555555555556,
              "#d8576b"
             ],
             [
              0.6666666666666666,
              "#ed7953"
             ],
             [
              0.7777777777777778,
              "#fb9f3a"
             ],
             [
              0.8888888888888888,
              "#fdca26"
             ],
             [
              1,
              "#f0f921"
             ]
            ],
            "type": "contour"
           }
          ],
          "contourcarpet": [
           {
            "colorbar": {
             "outlinewidth": 0,
             "ticks": ""
            },
            "type": "contourcarpet"
           }
          ],
          "heatmap": [
           {
            "colorbar": {
             "outlinewidth": 0,
             "ticks": ""
            },
            "colorscale": [
             [
              0,
              "#0d0887"
             ],
             [
              0.1111111111111111,
              "#46039f"
             ],
             [
              0.2222222222222222,
              "#7201a8"
             ],
             [
              0.3333333333333333,
              "#9c179e"
             ],
             [
              0.4444444444444444,
              "#bd3786"
             ],
             [
              0.5555555555555556,
              "#d8576b"
             ],
             [
              0.6666666666666666,
              "#ed7953"
             ],
             [
              0.7777777777777778,
              "#fb9f3a"
             ],
             [
              0.8888888888888888,
              "#fdca26"
             ],
             [
              1,
              "#f0f921"
             ]
            ],
            "type": "heatmap"
           }
          ],
          "heatmapgl": [
           {
            "colorbar": {
             "outlinewidth": 0,
             "ticks": ""
            },
            "colorscale": [
             [
              0,
              "#0d0887"
             ],
             [
              0.1111111111111111,
              "#46039f"
             ],
             [
              0.2222222222222222,
              "#7201a8"
             ],
             [
              0.3333333333333333,
              "#9c179e"
             ],
             [
              0.4444444444444444,
              "#bd3786"
             ],
             [
              0.5555555555555556,
              "#d8576b"
             ],
             [
              0.6666666666666666,
              "#ed7953"
             ],
             [
              0.7777777777777778,
              "#fb9f3a"
             ],
             [
              0.8888888888888888,
              "#fdca26"
             ],
             [
              1,
              "#f0f921"
             ]
            ],
            "type": "heatmapgl"
           }
          ],
          "histogram": [
           {
            "marker": {
             "pattern": {
              "fillmode": "overlay",
              "size": 10,
              "solidity": 0.2
             }
            },
            "type": "histogram"
           }
          ],
          "histogram2d": [
           {
            "colorbar": {
             "outlinewidth": 0,
             "ticks": ""
            },
            "colorscale": [
             [
              0,
              "#0d0887"
             ],
             [
              0.1111111111111111,
              "#46039f"
             ],
             [
              0.2222222222222222,
              "#7201a8"
             ],
             [
              0.3333333333333333,
              "#9c179e"
             ],
             [
              0.4444444444444444,
              "#bd3786"
             ],
             [
              0.5555555555555556,
              "#d8576b"
             ],
             [
              0.6666666666666666,
              "#ed7953"
             ],
             [
              0.7777777777777778,
              "#fb9f3a"
             ],
             [
              0.8888888888888888,
              "#fdca26"
             ],
             [
              1,
              "#f0f921"
             ]
            ],
            "type": "histogram2d"
           }
          ],
          "histogram2dcontour": [
           {
            "colorbar": {
             "outlinewidth": 0,
             "ticks": ""
            },
            "colorscale": [
             [
              0,
              "#0d0887"
             ],
             [
              0.1111111111111111,
              "#46039f"
             ],
             [
              0.2222222222222222,
              "#7201a8"
             ],
             [
              0.3333333333333333,
              "#9c179e"
             ],
             [
              0.4444444444444444,
              "#bd3786"
             ],
             [
              0.5555555555555556,
              "#d8576b"
             ],
             [
              0.6666666666666666,
              "#ed7953"
             ],
             [
              0.7777777777777778,
              "#fb9f3a"
             ],
             [
              0.8888888888888888,
              "#fdca26"
             ],
             [
              1,
              "#f0f921"
             ]
            ],
            "type": "histogram2dcontour"
           }
          ],
          "mesh3d": [
           {
            "colorbar": {
             "outlinewidth": 0,
             "ticks": ""
            },
            "type": "mesh3d"
           }
          ],
          "parcoords": [
           {
            "line": {
             "colorbar": {
              "outlinewidth": 0,
              "ticks": ""
             }
            },
            "type": "parcoords"
           }
          ],
          "pie": [
           {
            "automargin": true,
            "type": "pie"
           }
          ],
          "scatter": [
           {
            "fillpattern": {
             "fillmode": "overlay",
             "size": 10,
             "solidity": 0.2
            },
            "type": "scatter"
           }
          ],
          "scatter3d": [
           {
            "line": {
             "colorbar": {
              "outlinewidth": 0,
              "ticks": ""
             }
            },
            "marker": {
             "colorbar": {
              "outlinewidth": 0,
              "ticks": ""
             }
            },
            "type": "scatter3d"
           }
          ],
          "scattercarpet": [
           {
            "marker": {
             "colorbar": {
              "outlinewidth": 0,
              "ticks": ""
             }
            },
            "type": "scattercarpet"
           }
          ],
          "scattergeo": [
           {
            "marker": {
             "colorbar": {
              "outlinewidth": 0,
              "ticks": ""
             }
            },
            "type": "scattergeo"
           }
          ],
          "scattergl": [
           {
            "marker": {
             "colorbar": {
              "outlinewidth": 0,
              "ticks": ""
             }
            },
            "type": "scattergl"
           }
          ],
          "scattermapbox": [
           {
            "marker": {
             "colorbar": {
              "outlinewidth": 0,
              "ticks": ""
             }
            },
            "type": "scattermapbox"
           }
          ],
          "scatterpolar": [
           {
            "marker": {
             "colorbar": {
              "outlinewidth": 0,
              "ticks": ""
             }
            },
            "type": "scatterpolar"
           }
          ],
          "scatterpolargl": [
           {
            "marker": {
             "colorbar": {
              "outlinewidth": 0,
              "ticks": ""
             }
            },
            "type": "scatterpolargl"
           }
          ],
          "scatterternary": [
           {
            "marker": {
             "colorbar": {
              "outlinewidth": 0,
              "ticks": ""
             }
            },
            "type": "scatterternary"
           }
          ],
          "surface": [
           {
            "colorbar": {
             "outlinewidth": 0,
             "ticks": ""
            },
            "colorscale": [
             [
              0,
              "#0d0887"
             ],
             [
              0.1111111111111111,
              "#46039f"
             ],
             [
              0.2222222222222222,
              "#7201a8"
             ],
             [
              0.3333333333333333,
              "#9c179e"
             ],
             [
              0.4444444444444444,
              "#bd3786"
             ],
             [
              0.5555555555555556,
              "#d8576b"
             ],
             [
              0.6666666666666666,
              "#ed7953"
             ],
             [
              0.7777777777777778,
              "#fb9f3a"
             ],
             [
              0.8888888888888888,
              "#fdca26"
             ],
             [
              1,
              "#f0f921"
             ]
            ],
            "type": "surface"
           }
          ],
          "table": [
           {
            "cells": {
             "fill": {
              "color": "#EBF0F8"
             },
             "line": {
              "color": "white"
             }
            },
            "header": {
             "fill": {
              "color": "#C8D4E3"
             },
             "line": {
              "color": "white"
             }
            },
            "type": "table"
           }
          ]
         },
         "layout": {
          "annotationdefaults": {
           "arrowcolor": "#2a3f5f",
           "arrowhead": 0,
           "arrowwidth": 1
          },
          "autotypenumbers": "strict",
          "coloraxis": {
           "colorbar": {
            "outlinewidth": 0,
            "ticks": ""
           }
          },
          "colorscale": {
           "diverging": [
            [
             0,
             "#8e0152"
            ],
            [
             0.1,
             "#c51b7d"
            ],
            [
             0.2,
             "#de77ae"
            ],
            [
             0.3,
             "#f1b6da"
            ],
            [
             0.4,
             "#fde0ef"
            ],
            [
             0.5,
             "#f7f7f7"
            ],
            [
             0.6,
             "#e6f5d0"
            ],
            [
             0.7,
             "#b8e186"
            ],
            [
             0.8,
             "#7fbc41"
            ],
            [
             0.9,
             "#4d9221"
            ],
            [
             1,
             "#276419"
            ]
           ],
           "sequential": [
            [
             0,
             "#0d0887"
            ],
            [
             0.1111111111111111,
             "#46039f"
            ],
            [
             0.2222222222222222,
             "#7201a8"
            ],
            [
             0.3333333333333333,
             "#9c179e"
            ],
            [
             0.4444444444444444,
             "#bd3786"
            ],
            [
             0.5555555555555556,
             "#d8576b"
            ],
            [
             0.6666666666666666,
             "#ed7953"
            ],
            [
             0.7777777777777778,
             "#fb9f3a"
            ],
            [
             0.8888888888888888,
             "#fdca26"
            ],
            [
             1,
             "#f0f921"
            ]
           ],
           "sequentialminus": [
            [
             0,
             "#0d0887"
            ],
            [
             0.1111111111111111,
             "#46039f"
            ],
            [
             0.2222222222222222,
             "#7201a8"
            ],
            [
             0.3333333333333333,
             "#9c179e"
            ],
            [
             0.4444444444444444,
             "#bd3786"
            ],
            [
             0.5555555555555556,
             "#d8576b"
            ],
            [
             0.6666666666666666,
             "#ed7953"
            ],
            [
             0.7777777777777778,
             "#fb9f3a"
            ],
            [
             0.8888888888888888,
             "#fdca26"
            ],
            [
             1,
             "#f0f921"
            ]
           ]
          },
          "colorway": [
           "#636efa",
           "#EF553B",
           "#00cc96",
           "#ab63fa",
           "#FFA15A",
           "#19d3f3",
           "#FF6692",
           "#B6E880",
           "#FF97FF",
           "#FECB52"
          ],
          "font": {
           "color": "#2a3f5f"
          },
          "geo": {
           "bgcolor": "white",
           "lakecolor": "white",
           "landcolor": "#E5ECF6",
           "showlakes": true,
           "showland": true,
           "subunitcolor": "white"
          },
          "hoverlabel": {
           "align": "left"
          },
          "hovermode": "closest",
          "mapbox": {
           "style": "light"
          },
          "paper_bgcolor": "white",
          "plot_bgcolor": "#E5ECF6",
          "polar": {
           "angularaxis": {
            "gridcolor": "white",
            "linecolor": "white",
            "ticks": ""
           },
           "bgcolor": "#E5ECF6",
           "radialaxis": {
            "gridcolor": "white",
            "linecolor": "white",
            "ticks": ""
           }
          },
          "scene": {
           "xaxis": {
            "backgroundcolor": "#E5ECF6",
            "gridcolor": "white",
            "gridwidth": 2,
            "linecolor": "white",
            "showbackground": true,
            "ticks": "",
            "zerolinecolor": "white"
           },
           "yaxis": {
            "backgroundcolor": "#E5ECF6",
            "gridcolor": "white",
            "gridwidth": 2,
            "linecolor": "white",
            "showbackground": true,
            "ticks": "",
            "zerolinecolor": "white"
           },
           "zaxis": {
            "backgroundcolor": "#E5ECF6",
            "gridcolor": "white",
            "gridwidth": 2,
            "linecolor": "white",
            "showbackground": true,
            "ticks": "",
            "zerolinecolor": "white"
           }
          },
          "shapedefaults": {
           "line": {
            "color": "#2a3f5f"
           }
          },
          "ternary": {
           "aaxis": {
            "gridcolor": "white",
            "linecolor": "white",
            "ticks": ""
           },
           "baxis": {
            "gridcolor": "white",
            "linecolor": "white",
            "ticks": ""
           },
           "bgcolor": "#E5ECF6",
           "caxis": {
            "gridcolor": "white",
            "linecolor": "white",
            "ticks": ""
           }
          },
          "title": {
           "x": 0.05
          },
          "xaxis": {
           "automargin": true,
           "gridcolor": "white",
           "linecolor": "white",
           "ticks": "",
           "title": {
            "standoff": 15
           },
           "zerolinecolor": "white",
           "zerolinewidth": 2
          },
          "yaxis": {
           "automargin": true,
           "gridcolor": "white",
           "linecolor": "white",
           "ticks": "",
           "title": {
            "standoff": 15
           },
           "zerolinecolor": "white",
           "zerolinewidth": 2
          }
         }
        },
        "xaxis": {
         "autorange": true,
         "range": [
          -42.265015058828226,
          44.311438517471956
         ],
         "type": "linear"
        },
        "yaxis": {
         "autorange": true,
         "range": [
          -10884.61111111111,
          207907.61111111112
         ],
         "type": "linear"
        }
       }
      },
      "image/png": "[encoded data removed]",
      "text/html": [
       "<div>                            <div id=\"e0abcd8d-de21-4889-b01b-50368227403d\" class=\"plotly-graph-div\" style=\"height:525px; width:100%;\"></div>            <script type=\"text/javascript\">                require([\"plotly\"], function(Plotly) {                    window.PLOTLYENV=window.PLOTLYENV || {};                                    if (document.getElementById(\"e0abcd8d-de21-4889-b01b-50368227403d\")) {                    Plotly.newPlot(                        \"e0abcd8d-de21-4889-b01b-50368227403d\",                        [{\"name\":\"Histogram\",\"width\":[1.9979181594530786,1.9979181594530857,1.9979181594530786,1.9979181594530822,1.9979181594530822,1.9979181594530786,1.9979181594530822,1.9979181594530822,1.9979181594530786,1.9979181594530822,1.9979181594530822,1.9979181594530786,1.9979181594530822,1.9979181594530822,1.9979181594530786,1.9979181594530822,1.9979181594530822,1.9979181594530786,1.9979181594530857,1.9979181594530786,1.9979181594530786,1.9979181594530857,1.9979181594530786,1.9979181594530786,1.9979181594530857,1.9979181594530786,1.9979181594530786,1.9979181594530857,1.9979181594530786,1.9979181594530786,1.9979181594530857,1.9979181594530786,1.9979181594530857,1.9979181594530786,1.9979181594530786,1.9979181594530786,1.9979181594530786,1.9979181594530928,1.9979181594530786,1.9979181594530786],\"x\":[-37.93619238001322,-35.93827422056013,-33.94035606110705,-31.942437901653975,-29.94451974220089,-27.94660158274781,-25.94868342329473,-23.950765263841646,-21.952847104388567,-19.95492894493549,-17.957010785482403,-15.959092626029324,-13.961174466576244,-11.963256307123162,-9.965338147670082,-7.967419988217001,-5.969501828763919,-3.9715836693108386,-1.9736655098577565,0.024252649595325693,2.0221708090484043,4.0200889685014864,6.018007127954569,8.015925287407647,10.01384344686073,12.011761606313812,14.00967976576689,16.007597925219972,18.005516084673054,20.003434244126133,22.001352403579215,23.999270563032297,25.99718872248538,27.99510688193846,29.99302504139154,31.99094320084462,33.9888613602977,35.98677951975078,37.98469767920387,39.98261583865695],\"y\":[55,168,770,1866,2609,3687,6806,10436,16074,24310,37206,50327,68198,94699,120286,148259,176100,188930,152967,59016,168006,196968,185949,163619,138781,118475,108047,100092,100761,99352,86596,73390,62002,51871,43534,36513,25205,15137,5826,733],\"type\":\"bar\"},{\"mode\":\"text\",\"text\":[\"55\"],\"x\":[-37.93619238001322],\"y\":[55],\"type\":\"scatter\"},{\"mode\":\"text\",\"text\":[\"168\"],\"x\":[-35.93827422056013],\"y\":[168],\"type\":\"scatter\"},{\"mode\":\"text\",\"text\":[\"770\"],\"x\":[-33.94035606110705],\"y\":[770],\"type\":\"scatter\"},{\"mode\":\"text\",\"text\":[\"1866\"],\"x\":[-31.942437901653975],\"y\":[1866],\"type\":\"scatter\"},{\"mode\":\"text\",\"text\":[\"2609\"],\"x\":[-29.94451974220089],\"y\":[2609],\"type\":\"scatter\"},{\"mode\":\"text\",\"text\":[\"3687\"],\"x\":[-27.94660158274781],\"y\":[3687],\"type\":\"scatter\"},{\"mode\":\"text\",\"text\":[\"6806\"],\"x\":[-25.94868342329473],\"y\":[6806],\"type\":\"scatter\"},{\"mode\":\"text\",\"text\":[\"10436\"],\"x\":[-23.950765263841646],\"y\":[10436],\"type\":\"scatter\"},{\"mode\":\"text\",\"text\":[\"16074\"],\"x\":[-21.952847104388567],\"y\":[16074],\"type\":\"scatter\"},{\"mode\":\"text\",\"text\":[\"24310\"],\"x\":[-19.95492894493549],\"y\":[24310],\"type\":\"scatter\"},{\"mode\":\"text\",\"text\":[\"37206\"],\"x\":[-17.957010785482403],\"y\":[37206],\"type\":\"scatter\"},{\"mode\":\"text\",\"text\":[\"50327\"],\"x\":[-15.959092626029324],\"y\":[50327],\"type\":\"scatter\"},{\"mode\":\"text\",\"text\":[\"68198\"],\"x\":[-13.961174466576244],\"y\":[68198],\"type\":\"scatter\"},{\"mode\":\"text\",\"text\":[\"94699\"],\"x\":[-11.963256307123162],\"y\":[94699],\"type\":\"scatter\"},{\"mode\":\"text\",\"text\":[\"120286\"],\"x\":[-9.965338147670082],\"y\":[120286],\"type\":\"scatter\"},{\"mode\":\"text\",\"text\":[\"148259\"],\"x\":[-7.967419988217001],\"y\":[148259],\"type\":\"scatter\"},{\"mode\":\"text\",\"text\":[\"176100\"],\"x\":[-5.969501828763919],\"y\":[176100],\"type\":\"scatter\"},{\"mode\":\"text\",\"text\":[\"188930\"],\"x\":[-3.9715836693108386],\"y\":[188930],\"type\":\"scatter\"},{\"mode\":\"text\",\"text\":[\"152967\"],\"x\":[-1.9736655098577565],\"y\":[152967],\"type\":\"scatter\"},{\"mode\":\"text\",\"text\":[\"59016\"],\"x\":[0.024252649595325693],\"y\":[59016],\"type\":\"scatter\"},{\"mode\":\"text\",\"text\":[\"168006\"],\"x\":[2.0221708090484043],\"y\":[168006],\"type\":\"scatter\"},{\"mode\":\"text\",\"text\":[\"196968\"],\"x\":[4.0200889685014864],\"y\":[196968],\"type\":\"scatter\"},{\"mode\":\"text\",\"text\":[\"185949\"],\"x\":[6.018007127954569],\"y\":[185949],\"type\":\"scatter\"},{\"mode\":\"text\",\"text\":[\"163619\"],\"x\":[8.015925287407647],\"y\":[163619],\"type\":\"scatter\"},{\"mode\":\"text\",\"text\":[\"138781\"],\"x\":[10.01384344686073],\"y\":[138781],\"type\":\"scatter\"},{\"mode\":\"text\",\"text\":[\"118475\"],\"x\":[12.011761606313812],\"y\":[118475],\"type\":\"scatter\"},{\"mode\":\"text\",\"text\":[\"108047\"],\"x\":[14.00967976576689],\"y\":[108047],\"type\":\"scatter\"},{\"mode\":\"text\",\"text\":[\"100092\"],\"x\":[16.007597925219972],\"y\":[100092],\"type\":\"scatter\"},{\"mode\":\"text\",\"text\":[\"100761\"],\"x\":[18.005516084673054],\"y\":[100761],\"type\":\"scatter\"},{\"mode\":\"text\",\"text\":[\"99352\"],\"x\":[20.003434244126133],\"y\":[99352],\"type\":\"scatter\"},{\"mode\":\"text\",\"text\":[\"86596\"],\"x\":[22.001352403579215],\"y\":[86596],\"type\":\"scatter\"},{\"mode\":\"text\",\"text\":[\"73390\"],\"x\":[23.999270563032297],\"y\":[73390],\"type\":\"scatter\"},{\"mode\":\"text\",\"text\":[\"62002\"],\"x\":[25.99718872248538],\"y\":[62002],\"type\":\"scatter\"},{\"mode\":\"text\",\"text\":[\"51871\"],\"x\":[27.99510688193846],\"y\":[51871],\"type\":\"scatter\"},{\"mode\":\"text\",\"text\":[\"43534\"],\"x\":[29.99302504139154],\"y\":[43534],\"type\":\"scatter\"},{\"mode\":\"text\",\"text\":[\"36513\"],\"x\":[31.99094320084462],\"y\":[36513],\"type\":\"scatter\"},{\"mode\":\"text\",\"text\":[\"25205\"],\"x\":[33.9888613602977],\"y\":[25205],\"type\":\"scatter\"},{\"mode\":\"text\",\"text\":[\"15137\"],\"x\":[35.98677951975078],\"y\":[15137],\"type\":\"scatter\"},{\"mode\":\"text\",\"text\":[\"5826\"],\"x\":[37.98469767920387],\"y\":[5826],\"type\":\"scatter\"},{\"mode\":\"text\",\"text\":[\"733\"],\"x\":[39.98261583865695],\"y\":[733],\"type\":\"scatter\"}],                        {\"template\":{\"data\":{\"histogram2dcontour\":[{\"type\":\"histogram2dcontour\",\"colorbar\":{\"outlinewidth\":0,\"ticks\":\"\"},\"colorscale\":[[0.0,\"#0d0887\"],[0.1111111111111111,\"#46039f\"],[0.2222222222222222,\"#7201a8\"],[0.3333333333333333,\"#9c179e\"],[0.4444444444444444,\"#bd3786\"],[0.5555555555555556,\"#d8576b\"],[0.6666666666666666,\"#ed7953\"],[0.7777777777777778,\"#fb9f3a\"],[0.8888888888888888,\"#fdca26\"],[1.0,\"#f0f921\"]]}],\"choropleth\":[{\"type\":\"choropleth\",\"colorbar\":{\"outlinewidth\":0,\"ticks\":\"\"}}],\"histogram2d\":[{\"type\":\"histogram2d\",\"colorbar\":{\"outlinewidth\":0,\"ticks\":\"\"},\"colorscale\":[[0.0,\"#0d0887\"],[0.1111111111111111,\"#46039f\"],[0.2222222222222222,\"#7201a8\"],[0.3333333333333333,\"#9c179e\"],[0.4444444444444444,\"#bd3786\"],[0.5555555555555556,\"#d8576b\"],[0.6666666666666666,\"#ed7953\"],[0.7777777777777778,\"#fb9f3a\"],[0.8888888888888888,\"#fdca26\"],[1.0,\"#f0f921\"]]}],\"heatmap\":[{\"type\":\"heatmap\",\"colorbar\":{\"outlinewidth\":0,\"ticks\":\"\"},\"colorscale\":[[0.0,\"#0d0887\"],[0.1111111111111111,\"#46039f\"],[0.2222222222222222,\"#7201a8\"],[0.3333333333333333,\"#9c179e\"],[0.4444444444444444,\"#bd3786\"],[0.5555555555555556,\"#d8576b\"],[0.6666666666666666,\"#ed7953\"],[0.7777777777777778,\"#fb9f3a\"],[0.8888888888888888,\"#fdca26\"],[1.0,\"#f0f921\"]]}],\"heatmapgl\":[{\"type\":\"heatmapgl\",\"colorbar\":{\"outlinewidth\":0,\"ticks\":\"\"},\"colorscale\":[[0.0,\"#0d0887\"],[0.1111111111111111,\"#46039f\"],[0.2222222222222222,\"#7201a8\"],[0.3333333333333333,\"#9c179e\"],[0.4444444444444444,\"#bd3786\"],[0.5555555555555556,\"#d8576b\"],[0.6666666666666666,\"#ed7953\"],[0.7777777777777778,\"#fb9f3a\"],[0.8888888888888888,\"#fdca26\"],[1.0,\"#f0f921\"]]}],\"contourcarpet\":[{\"type\":\"contourcarpet\",\"colorbar\":{\"outlinewidth\":0,\"ticks\":\"\"}}],\"contour\":[{\"type\":\"contour\",\"colorbar\":{\"outlinewidth\":0,\"ticks\":\"\"},\"colorscale\":[[0.0,\"#0d0887\"],[0.1111111111111111,\"#46039f\"],[0.2222222222222222,\"#7201a8\"],[0.3333333333333333,\"#9c179e\"],[0.4444444444444444,\"#bd3786\"],[0.5555555555555556,\"#d8576b\"],[0.6666666666666666,\"#ed7953\"],[0.7777777777777778,\"#fb9f3a\"],[0.8888888888888888,\"#fdca26\"],[1.0,\"#f0f921\"]]}],\"surface\":[{\"type\":\"surface\",\"colorbar\":{\"outlinewidth\":0,\"ticks\":\"\"},\"colorscale\":[[0.0,\"#0d0887\"],[0.1111111111111111,\"#46039f\"],[0.2222222222222222,\"#7201a8\"],[0.3333333333333333,\"#9c179e\"],[0.4444444444444444,\"#bd3786\"],[0.5555555555555556,\"#d8576b\"],[0.6666666666666666,\"#ed7953\"],[0.7777777777777778,\"#fb9f3a\"],[0.8888888888888888,\"#fdca26\"],[1.0,\"#f0f921\"]]}],\"mesh3d\":[{\"type\":\"mesh3d\",\"colorbar\":{\"outlinewidth\":0,\"ticks\":\"\"}}],\"scatter\":[{\"fillpattern\":{\"fillmode\":\"overlay\",\"size\":10,\"solidity\":0.2},\"type\":\"scatter\"}],\"parcoords\":[{\"type\":\"parcoords\",\"line\":{\"colorbar\":{\"outlinewidth\":0,\"ticks\":\"\"}}}],\"scatterpolargl\":[{\"type\":\"scatterpolargl\",\"marker\":{\"colorbar\":{\"outlinewidth\":0,\"ticks\":\"\"}}}],\"bar\":[{\"error_x\":{\"color\":\"#2a3f5f\"},\"error_y\":{\"color\":\"#2a3f5f\"},\"marker\":{\"line\":{\"color\":\"#E5ECF6\",\"width\":0.5},\"pattern\":{\"fillmode\":\"overlay\",\"size\":10,\"solidity\":0.2}},\"type\":\"bar\"}],\"scattergeo\":[{\"type\":\"scattergeo\",\"marker\":{\"colorbar\":{\"outlinewidth\":0,\"ticks\":\"\"}}}],\"scatterpolar\":[{\"type\":\"scatterpolar\",\"marker\":{\"colorbar\":{\"outlinewidth\":0,\"ticks\":\"\"}}}],\"histogram\":[{\"marker\":{\"pattern\":{\"fillmode\":\"overlay\",\"size\":10,\"solidity\":0.2}},\"type\":\"histogram\"}],\"scattergl\":[{\"type\":\"scattergl\",\"marker\":{\"colorbar\":{\"outlinewidth\":0,\"ticks\":\"\"}}}],\"scatter3d\":[{\"type\":\"scatter3d\",\"line\":{\"colorbar\":{\"outlinewidth\":0,\"ticks\":\"\"}},\"marker\":{\"colorbar\":{\"outlinewidth\":0,\"ticks\":\"\"}}}],\"scattermapbox\":[{\"type\":\"scattermapbox\",\"marker\":{\"colorbar\":{\"outlinewidth\":0,\"ticks\":\"\"}}}],\"scatterternary\":[{\"type\":\"scatterternary\",\"marker\":{\"colorbar\":{\"outlinewidth\":0,\"ticks\":\"\"}}}],\"scattercarpet\":[{\"type\":\"scattercarpet\",\"marker\":{\"colorbar\":{\"outlinewidth\":0,\"ticks\":\"\"}}}],\"carpet\":[{\"aaxis\":{\"endlinecolor\":\"#2a3f5f\",\"gridcolor\":\"white\",\"linecolor\":\"white\",\"minorgridcolor\":\"white\",\"startlinecolor\":\"#2a3f5f\"},\"baxis\":{\"endlinecolor\":\"#2a3f5f\",\"gridcolor\":\"white\",\"linecolor\":\"white\",\"minorgridcolor\":\"white\",\"startlinecolor\":\"#2a3f5f\"},\"type\":\"carpet\"}],\"table\":[{\"cells\":{\"fill\":{\"color\":\"#EBF0F8\"},\"line\":{\"color\":\"white\"}},\"header\":{\"fill\":{\"color\":\"#C8D4E3\"},\"line\":{\"color\":\"white\"}},\"type\":\"table\"}],\"barpolar\":[{\"marker\":{\"line\":{\"color\":\"#E5ECF6\",\"width\":0.5},\"pattern\":{\"fillmode\":\"overlay\",\"size\":10,\"solidity\":0.2}},\"type\":\"barpolar\"}],\"pie\":[{\"automargin\":true,\"type\":\"pie\"}]},\"layout\":{\"autotypenumbers\":\"strict\",\"colorway\":[\"#636efa\",\"#EF553B\",\"#00cc96\",\"#ab63fa\",\"#FFA15A\",\"#19d3f3\",\"#FF6692\",\"#B6E880\",\"#FF97FF\",\"#FECB52\"],\"font\":{\"color\":\"#2a3f5f\"},\"hovermode\":\"closest\",\"hoverlabel\":{\"align\":\"left\"},\"paper_bgcolor\":\"white\",\"plot_bgcolor\":\"#E5ECF6\",\"polar\":{\"bgcolor\":\"#E5ECF6\",\"angularaxis\":{\"gridcolor\":\"white\",\"linecolor\":\"white\",\"ticks\":\"\"},\"radialaxis\":{\"gridcolor\":\"white\",\"linecolor\":\"white\",\"ticks\":\"\"}},\"ternary\":{\"bgcolor\":\"#E5ECF6\",\"aaxis\":{\"gridcolor\":\"white\",\"linecolor\":\"white\",\"ticks\":\"\"},\"baxis\":{\"gridcolor\":\"white\",\"linecolor\":\"white\",\"ticks\":\"\"},\"caxis\":{\"gridcolor\":\"white\",\"linecolor\":\"white\",\"ticks\":\"\"}},\"coloraxis\":{\"colorbar\":{\"outlinewidth\":0,\"ticks\":\"\"}},\"colorscale\":{\"sequential\":[[0.0,\"#0d0887\"],[0.1111111111111111,\"#46039f\"],[0.2222222222222222,\"#7201a8\"],[0.3333333333333333,\"#9c179e\"],[0.4444444444444444,\"#bd3786\"],[0.5555555555555556,\"#d8576b\"],[0.6666666666666666,\"#ed7953\"],[0.7777777777777778,\"#fb9f3a\"],[0.8888888888888888,\"#fdca26\"],[1.0,\"#f0f921\"]],\"sequentialminus\":[[0.0,\"#0d0887\"],[0.1111111111111111,\"#46039f\"],[0.2222222222222222,\"#7201a8\"],[0.3333333333333333,\"#9c179e\"],[0.4444444444444444,\"#bd3786\"],[0.5555555555555556,\"#d8576b\"],[0.6666666666666666,\"#ed7953\"],[0.7777777777777778,\"#fb9f3a\"],[0.8888888888888888,\"#fdca26\"],[1.0,\"#f0f921\"]],\"diverging\":[[0,\"#8e0152\"],[0.1,\"#c51b7d\"],[0.2,\"#de77ae\"],[0.3,\"#f1b6da\"],[0.4,\"#fde0ef\"],[0.5,\"#f7f7f7\"],[0.6,\"#e6f5d0\"],[0.7,\"#b8e186\"],[0.8,\"#7fbc41\"],[0.9,\"#4d9221\"],[1,\"#276419\"]]},\"xaxis\":{\"gridcolor\":\"white\",\"linecolor\":\"white\",\"ticks\":\"\",\"title\":{\"standoff\":15},\"zerolinecolor\":\"white\",\"automargin\":true,\"zerolinewidth\":2},\"yaxis\":{\"gridcolor\":\"white\",\"linecolor\":\"white\",\"ticks\":\"\",\"title\":{\"standoff\":15},\"zerolinecolor\":\"white\",\"automargin\":true,\"zerolinewidth\":2},\"scene\":{\"xaxis\":{\"backgroundcolor\":\"#E5ECF6\",\"gridcolor\":\"white\",\"linecolor\":\"white\",\"showbackground\":true,\"ticks\":\"\",\"zerolinecolor\":\"white\",\"gridwidth\":2},\"yaxis\":{\"backgroundcolor\":\"#E5ECF6\",\"gridcolor\":\"white\",\"linecolor\":\"white\",\"showbackground\":true,\"ticks\":\"\",\"zerolinecolor\":\"white\",\"gridwidth\":2},\"zaxis\":{\"backgroundcolor\":\"#E5ECF6\",\"gridcolor\":\"white\",\"linecolor\":\"white\",\"showbackground\":true,\"ticks\":\"\",\"zerolinecolor\":\"white\",\"gridwidth\":2}},\"shapedefaults\":{\"line\":{\"color\":\"#2a3f5f\"}},\"annotationdefaults\":{\"arrowcolor\":\"#2a3f5f\",\"arrowhead\":0,\"arrowwidth\":1},\"geo\":{\"bgcolor\":\"white\",\"landcolor\":\"#E5ECF6\",\"subunitcolor\":\"white\",\"showland\":true,\"showlakes\":true,\"lakecolor\":\"white\"},\"title\":{\"x\":0.05},\"mapbox\":{\"style\":\"light\"}}}},                        {\"responsive\": true}                    ).then(function(){\n",
       "                            \n",
       "var gd = document.getElementById('e0abcd8d-de21-4889-b01b-50368227403d');\n",
       "var x = new MutationObserver(function (mutations, observer) {{\n",
       "        var display = window.getComputedStyle(gd).display;\n",
       "        if (!display || display === 'none') {{\n",
       "            console.log([gd, 'removed!']);\n",
       "            Plotly.purge(gd);\n",
       "            observer.disconnect();\n",
       "        }}\n",
       "}});\n",
       "\n",
       "// Listen for the removal of the full notebook cells\n",
       "var notebookContainer = gd.closest('#notebook-container');\n",
       "if (notebookContainer) {{\n",
       "    x.observe(notebookContainer, {childList: true});\n",
       "}}\n",
       "\n",
       "// Listen for the clearing of the current output cell\n",
       "var outputEl = gd.closest('.output');\n",
       "if (outputEl) {{\n",
       "    x.observe(outputEl, {childList: true});\n",
       "}}\n",
       "\n",
       "                        })                };                });            </script>        </div>"
      ]
     },
     "metadata": {},
     "output_type": "display_data"
    }
   ],
   "source": [
    "# Plot the figure\n",
    "counts, bins = np.histogram(df_interest['LogOddRatio'], bins=40)\n",
    "bin_midpoints = bins[:-1] + np.diff(bins)/2\n",
    "\n",
    "fig = go.Figure()\n",
    "\n",
    "fig.add_trace(go.Bar(\n",
    "    x=bin_midpoints,\n",
    "    y=counts,\n",
    "    width=np.diff(bins), # makes bars have correct widths\n",
    "    name='Histogram'\n",
    "))\n",
    "# add text labels for counts\n",
    "for i in range(len(counts)):\n",
    "    fig.add_trace(go.Scatter(\n",
    "        x=[bin_midpoints[i]],\n",
    "        y=[counts[i]],\n",
    "        text=[str(counts[i])],\n",
    "        mode='text',\n",
    "    ))\n",
    "\n",
    "fig.show()"
   ]
  },
  {
   "cell_type": "code",
   "execution_count": 41,
   "id": "02542935-31fe-4e73-b1e4-8abcbfdacc86",
   "metadata": {},
   "outputs": [
    {
     "data": {
      "application/vnd.plotly.v1+json": {
       "config": {
        "plotlyServerURL": "https://plot.ly"
       },
       "data": [
        {
         "name": "Histogram",
         "type": "bar",
         "width": [
          0.04999978274288297,
          0.04999978274288286,
          0.04999978274288297,
          0.04999978274288286,
          0.04999978274288297,
          0.04999978274288297,
          0.04999978274288286,
          0.04999978274288286,
          0.04999978274288297,
          0.049999782742882914,
          0.049999782742882914,
          0.04999978274288297,
          0.04999978274288286,
          0.04999978274288297,
          0.04999978274288286,
          0.04999978274288297,
          0.04999978274288297,
          0.04999978274288286,
          0.04999978274288297,
          0.04999978274288286,
          0.04999978274288297,
          0.04999978274288286,
          0.04999978274288286,
          0.04999978274288308,
          0.04999978274288286,
          0.04999978274288286,
          0.04999978274288308,
          0.04999978274288286,
          0.04999978274288286,
          0.04999978274288286,
          0.04999978274288308,
          0.04999978274288286,
          0.04999978274288286,
          0.04999978274288308,
          0.04999978274288286,
          0.04999978274288286,
          0.04999978274288286,
          0.04999978274288308,
          0.04999978274288286,
          0.04999978274288286
         ],
         "x": [
          -0.9749974224952132,
          -0.9249976397523303,
          -0.8749978570094474,
          -0.8249980742665645,
          -0.7749982915236815,
          -0.7249985087807986,
          -0.6749987260379157,
          -0.6249989432950328,
          -0.5749991605521498,
          -0.524999377809267,
          -0.474999595066384,
          -0.4249998123235011,
          -0.3750000295806182,
          -0.32500024683773526,
          -0.27500046409485235,
          -0.22500068135196943,
          -0.17500089860908646,
          -0.12500111586620355,
          -0.07500133312332063,
          -0.02500155038043772,
          0.024998232362445194,
          0.07499801510532811,
          0.12499779784821097,
          0.17499758059109394,
          0.2249973633339769,
          0.27499714607685977,
          0.32499692881974274,
          0.3749967115626257,
          0.42499649430550857,
          0.4749962770483914,
          0.5249960597912744,
          0.5749958425341574,
          0.6249956252770402,
          0.6749954080199232,
          0.7249951907628062,
          0.774994973505689,
          0.8249947562485719,
          0.8749945389914549,
          0.9249943217343378,
          0.9749941044772207
         ],
         "y": [
          557648,
          124091,
          93901,
          82300,
          79639,
          76203,
          78329,
          80003,
          80020,
          86225,
          62192,
          59248,
          61192,
          64764,
          72113,
          50434,
          40454,
          32634,
          23748,
          8672,
          8115,
          19889,
          29913,
          36784,
          49154,
          67240,
          60895,
          56945,
          56655,
          60361,
          70379,
          65697,
          60751,
          57110,
          56557,
          53551,
          57853,
          58160,
          71595,
          132212
         ]
        },
        {
         "mode": "text",
         "text": [
          "557648"
         ],
         "type": "scatter",
         "x": [
          -0.9749974224952132
         ],
         "y": [
          557648
         ]
        },
        {
         "mode": "text",
         "text": [
          "124091"
         ],
         "type": "scatter",
         "x": [
          -0.9249976397523303
         ],
         "y": [
          124091
         ]
        },
        {
         "mode": "text",
         "text": [
          "93901"
         ],
         "type": "scatter",
         "x": [
          -0.8749978570094474
         ],
         "y": [
          93901
         ]
        },
        {
         "mode": "text",
         "text": [
          "82300"
         ],
         "type": "scatter",
         "x": [
          -0.8249980742665645
         ],
         "y": [
          82300
         ]
        },
        {
         "mode": "text",
         "text": [
          "79639"
         ],
         "type": "scatter",
         "x": [
          -0.7749982915236815
         ],
         "y": [
          79639
         ]
        },
        {
         "mode": "text",
         "text": [
          "76203"
         ],
         "type": "scatter",
         "x": [
          -0.7249985087807986
         ],
         "y": [
          76203
         ]
        },
        {
         "mode": "text",
         "text": [
          "78329"
         ],
         "type": "scatter",
         "x": [
          -0.6749987260379157
         ],
         "y": [
          78329
         ]
        },
        {
         "mode": "text",
         "text": [
          "80003"
         ],
         "type": "scatter",
         "x": [
          -0.6249989432950328
         ],
         "y": [
          80003
         ]
        },
        {
         "mode": "text",
         "text": [
          "80020"
         ],
         "type": "scatter",
         "x": [
          -0.5749991605521498
         ],
         "y": [
          80020
         ]
        },
        {
         "mode": "text",
         "text": [
          "86225"
         ],
         "type": "scatter",
         "x": [
          -0.524999377809267
         ],
         "y": [
          86225
         ]
        },
        {
         "mode": "text",
         "text": [
          "62192"
         ],
         "type": "scatter",
         "x": [
          -0.474999595066384
         ],
         "y": [
          62192
         ]
        },
        {
         "mode": "text",
         "text": [
          "59248"
         ],
         "type": "scatter",
         "x": [
          -0.4249998123235011
         ],
         "y": [
          59248
         ]
        },
        {
         "mode": "text",
         "text": [
          "61192"
         ],
         "type": "scatter",
         "x": [
          -0.3750000295806182
         ],
         "y": [
          61192
         ]
        },
        {
         "mode": "text",
         "text": [
          "64764"
         ],
         "type": "scatter",
         "x": [
          -0.32500024683773526
         ],
         "y": [
          64764
         ]
        },
        {
         "mode": "text",
         "text": [
          "72113"
         ],
         "type": "scatter",
         "x": [
          -0.27500046409485235
         ],
         "y": [
          72113
         ]
        },
        {
         "mode": "text",
         "text": [
          "50434"
         ],
         "type": "scatter",
         "x": [
          -0.22500068135196943
         ],
         "y": [
          50434
         ]
        },
        {
         "mode": "text",
         "text": [
          "40454"
         ],
         "type": "scatter",
         "x": [
          -0.17500089860908646
         ],
         "y": [
          40454
         ]
        },
        {
         "mode": "text",
         "text": [
          "32634"
         ],
         "type": "scatter",
         "x": [
          -0.12500111586620355
         ],
         "y": [
          32634
         ]
        },
        {
         "mode": "text",
         "text": [
          "23748"
         ],
         "type": "scatter",
         "x": [
          -0.07500133312332063
         ],
         "y": [
          23748
         ]
        },
        {
         "mode": "text",
         "text": [
          "8672"
         ],
         "type": "scatter",
         "x": [
          -0.02500155038043772
         ],
         "y": [
          8672
         ]
        },
        {
         "mode": "text",
         "text": [
          "8115"
         ],
         "type": "scatter",
         "x": [
          0.024998232362445194
         ],
         "y": [
          8115
         ]
        },
        {
         "mode": "text",
         "text": [
          "19889"
         ],
         "type": "scatter",
         "x": [
          0.07499801510532811
         ],
         "y": [
          19889
         ]
        },
        {
         "mode": "text",
         "text": [
          "29913"
         ],
         "type": "scatter",
         "x": [
          0.12499779784821097
         ],
         "y": [
          29913
         ]
        },
        {
         "mode": "text",
         "text": [
          "36784"
         ],
         "type": "scatter",
         "x": [
          0.17499758059109394
         ],
         "y": [
          36784
         ]
        },
        {
         "mode": "text",
         "text": [
          "49154"
         ],
         "type": "scatter",
         "x": [
          0.2249973633339769
         ],
         "y": [
          49154
         ]
        },
        {
         "mode": "text",
         "text": [
          "67240"
         ],
         "type": "scatter",
         "x": [
          0.27499714607685977
         ],
         "y": [
          67240
         ]
        },
        {
         "mode": "text",
         "text": [
          "60895"
         ],
         "type": "scatter",
         "x": [
          0.32499692881974274
         ],
         "y": [
          60895
         ]
        },
        {
         "mode": "text",
         "text": [
          "56945"
         ],
         "type": "scatter",
         "x": [
          0.3749967115626257
         ],
         "y": [
          56945
         ]
        },
        {
         "mode": "text",
         "text": [
          "56655"
         ],
         "type": "scatter",
         "x": [
          0.42499649430550857
         ],
         "y": [
          56655
         ]
        },
        {
         "mode": "text",
         "text": [
          "60361"
         ],
         "type": "scatter",
         "x": [
          0.4749962770483914
         ],
         "y": [
          60361
         ]
        },
        {
         "mode": "text",
         "text": [
          "70379"
         ],
         "type": "scatter",
         "x": [
          0.5249960597912744
         ],
         "y": [
          70379
         ]
        },
        {
         "mode": "text",
         "text": [
          "65697"
         ],
         "type": "scatter",
         "x": [
          0.5749958425341574
         ],
         "y": [
          65697
         ]
        },
        {
         "mode": "text",
         "text": [
          "60751"
         ],
         "type": "scatter",
         "x": [
          0.6249956252770402
         ],
         "y": [
          60751
         ]
        },
        {
         "mode": "text",
         "text": [
          "57110"
         ],
         "type": "scatter",
         "x": [
          0.6749954080199232
         ],
         "y": [
          57110
         ]
        },
        {
         "mode": "text",
         "text": [
          "56557"
         ],
         "type": "scatter",
         "x": [
          0.7249951907628062
         ],
         "y": [
          56557
         ]
        },
        {
         "mode": "text",
         "text": [
          "53551"
         ],
         "type": "scatter",
         "x": [
          0.774994973505689
         ],
         "y": [
          53551
         ]
        },
        {
         "mode": "text",
         "text": [
          "57853"
         ],
         "type": "scatter",
         "x": [
          0.8249947562485719
         ],
         "y": [
          57853
         ]
        },
        {
         "mode": "text",
         "text": [
          "58160"
         ],
         "type": "scatter",
         "x": [
          0.8749945389914549
         ],
         "y": [
          58160
         ]
        },
        {
         "mode": "text",
         "text": [
          "71595"
         ],
         "type": "scatter",
         "x": [
          0.9249943217343378
         ],
         "y": [
          71595
         ]
        },
        {
         "mode": "text",
         "text": [
          "132212"
         ],
         "type": "scatter",
         "x": [
          0.9749941044772207
         ],
         "y": [
          132212
         ]
        }
       ],
       "layout": {
        "autosize": true,
        "template": {
         "data": {
          "bar": [
           {
            "error_x": {
             "color": "#2a3f5f"
            },
            "error_y": {
             "color": "#2a3f5f"
            },
            "marker": {
             "line": {
              "color": "#E5ECF6",
              "width": 0.5
             },
             "pattern": {
              "fillmode": "overlay",
              "size": 10,
              "solidity": 0.2
             }
            },
            "type": "bar"
           }
          ],
          "barpolar": [
           {
            "marker": {
             "line": {
              "color": "#E5ECF6",
              "width": 0.5
             },
             "pattern": {
              "fillmode": "overlay",
              "size": 10,
              "solidity": 0.2
             }
            },
            "type": "barpolar"
           }
          ],
          "carpet": [
           {
            "aaxis": {
             "endlinecolor": "#2a3f5f",
             "gridcolor": "white",
             "linecolor": "white",
             "minorgridcolor": "white",
             "startlinecolor": "#2a3f5f"
            },
            "baxis": {
             "endlinecolor": "#2a3f5f",
             "gridcolor": "white",
             "linecolor": "white",
             "minorgridcolor": "white",
             "startlinecolor": "#2a3f5f"
            },
            "type": "carpet"
           }
          ],
          "choropleth": [
           {
            "colorbar": {
             "outlinewidth": 0,
             "ticks": ""
            },
            "type": "choropleth"
           }
          ],
          "contour": [
           {
            "colorbar": {
             "outlinewidth": 0,
             "ticks": ""
            },
            "colorscale": [
             [
              0,
              "#0d0887"
             ],
             [
              0.1111111111111111,
              "#46039f"
             ],
             [
              0.2222222222222222,
              "#7201a8"
             ],
             [
              0.3333333333333333,
              "#9c179e"
             ],
             [
              0.4444444444444444,
              "#bd3786"
             ],
             [
              0.5555555555555556,
              "#d8576b"
             ],
             [
              0.6666666666666666,
              "#ed7953"
             ],
             [
              0.7777777777777778,
              "#fb9f3a"
             ],
             [
              0.8888888888888888,
              "#fdca26"
             ],
             [
              1,
              "#f0f921"
             ]
            ],
            "type": "contour"
           }
          ],
          "contourcarpet": [
           {
            "colorbar": {
             "outlinewidth": 0,
             "ticks": ""
            },
            "type": "contourcarpet"
           }
          ],
          "heatmap": [
           {
            "colorbar": {
             "outlinewidth": 0,
             "ticks": ""
            },
            "colorscale": [
             [
              0,
              "#0d0887"
             ],
             [
              0.1111111111111111,
              "#46039f"
             ],
             [
              0.2222222222222222,
              "#7201a8"
             ],
             [
              0.3333333333333333,
              "#9c179e"
             ],
             [
              0.4444444444444444,
              "#bd3786"
             ],
             [
              0.5555555555555556,
              "#d8576b"
             ],
             [
              0.6666666666666666,
              "#ed7953"
             ],
             [
              0.7777777777777778,
              "#fb9f3a"
             ],
             [
              0.8888888888888888,
              "#fdca26"
             ],
             [
              1,
              "#f0f921"
             ]
            ],
            "type": "heatmap"
           }
          ],
          "heatmapgl": [
           {
            "colorbar": {
             "outlinewidth": 0,
             "ticks": ""
            },
            "colorscale": [
             [
              0,
              "#0d0887"
             ],
             [
              0.1111111111111111,
              "#46039f"
             ],
             [
              0.2222222222222222,
              "#7201a8"
             ],
             [
              0.3333333333333333,
              "#9c179e"
             ],
             [
              0.4444444444444444,
              "#bd3786"
             ],
             [
              0.5555555555555556,
              "#d8576b"
             ],
             [
              0.6666666666666666,
              "#ed7953"
             ],
             [
              0.7777777777777778,
              "#fb9f3a"
             ],
             [
              0.8888888888888888,
              "#fdca26"
             ],
             [
              1,
              "#f0f921"
             ]
            ],
            "type": "heatmapgl"
           }
          ],
          "histogram": [
           {
            "marker": {
             "pattern": {
              "fillmode": "overlay",
              "size": 10,
              "solidity": 0.2
             }
            },
            "type": "histogram"
           }
          ],
          "histogram2d": [
           {
            "colorbar": {
             "outlinewidth": 0,
             "ticks": ""
            },
            "colorscale": [
             [
              0,
              "#0d0887"
             ],
             [
              0.1111111111111111,
              "#46039f"
             ],
             [
              0.2222222222222222,
              "#7201a8"
             ],
             [
              0.3333333333333333,
              "#9c179e"
             ],
             [
              0.4444444444444444,
              "#bd3786"
             ],
             [
              0.5555555555555556,
              "#d8576b"
             ],
             [
              0.6666666666666666,
              "#ed7953"
             ],
             [
              0.7777777777777778,
              "#fb9f3a"
             ],
             [
              0.8888888888888888,
              "#fdca26"
             ],
             [
              1,
              "#f0f921"
             ]
            ],
            "type": "histogram2d"
           }
          ],
          "histogram2dcontour": [
           {
            "colorbar": {
             "outlinewidth": 0,
             "ticks": ""
            },
            "colorscale": [
             [
              0,
              "#0d0887"
             ],
             [
              0.1111111111111111,
              "#46039f"
             ],
             [
              0.2222222222222222,
              "#7201a8"
             ],
             [
              0.3333333333333333,
              "#9c179e"
             ],
             [
              0.4444444444444444,
              "#bd3786"
             ],
             [
              0.5555555555555556,
              "#d8576b"
             ],
             [
              0.6666666666666666,
              "#ed7953"
             ],
             [
              0.7777777777777778,
              "#fb9f3a"
             ],
             [
              0.8888888888888888,
              "#fdca26"
             ],
             [
              1,
              "#f0f921"
             ]
            ],
            "type": "histogram2dcontour"
           }
          ],
          "mesh3d": [
           {
            "colorbar": {
             "outlinewidth": 0,
             "ticks": ""
            },
            "type": "mesh3d"
           }
          ],
          "parcoords": [
           {
            "line": {
             "colorbar": {
              "outlinewidth": 0,
              "ticks": ""
             }
            },
            "type": "parcoords"
           }
          ],
          "pie": [
           {
            "automargin": true,
            "type": "pie"
           }
          ],
          "scatter": [
           {
            "fillpattern": {
             "fillmode": "overlay",
             "size": 10,
             "solidity": 0.2
            },
            "type": "scatter"
           }
          ],
          "scatter3d": [
           {
            "line": {
             "colorbar": {
              "outlinewidth": 0,
              "ticks": ""
             }
            },
            "marker": {
             "colorbar": {
              "outlinewidth": 0,
              "ticks": ""
             }
            },
            "type": "scatter3d"
           }
          ],
          "scattercarpet": [
           {
            "marker": {
             "colorbar": {
              "outlinewidth": 0,
              "ticks": ""
             }
            },
            "type": "scattercarpet"
           }
          ],
          "scattergeo": [
           {
            "marker": {
             "colorbar": {
              "outlinewidth": 0,
              "ticks": ""
             }
            },
            "type": "scattergeo"
           }
          ],
          "scattergl": [
           {
            "marker": {
             "colorbar": {
              "outlinewidth": 0,
              "ticks": ""
             }
            },
            "type": "scattergl"
           }
          ],
          "scattermapbox": [
           {
            "marker": {
             "colorbar": {
              "outlinewidth": 0,
              "ticks": ""
             }
            },
            "type": "scattermapbox"
           }
          ],
          "scatterpolar": [
           {
            "marker": {
             "colorbar": {
              "outlinewidth": 0,
              "ticks": ""
             }
            },
            "type": "scatterpolar"
           }
          ],
          "scatterpolargl": [
           {
            "marker": {
             "colorbar": {
              "outlinewidth": 0,
              "ticks": ""
             }
            },
            "type": "scatterpolargl"
           }
          ],
          "scatterternary": [
           {
            "marker": {
             "colorbar": {
              "outlinewidth": 0,
              "ticks": ""
             }
            },
            "type": "scatterternary"
           }
          ],
          "surface": [
           {
            "colorbar": {
             "outlinewidth": 0,
             "ticks": ""
            },
            "colorscale": [
             [
              0,
              "#0d0887"
             ],
             [
              0.1111111111111111,
              "#46039f"
             ],
             [
              0.2222222222222222,
              "#7201a8"
             ],
             [
              0.3333333333333333,
              "#9c179e"
             ],
             [
              0.4444444444444444,
              "#bd3786"
             ],
             [
              0.5555555555555556,
              "#d8576b"
             ],
             [
              0.6666666666666666,
              "#ed7953"
             ],
             [
              0.7777777777777778,
              "#fb9f3a"
             ],
             [
              0.8888888888888888,
              "#fdca26"
             ],
             [
              1,
              "#f0f921"
             ]
            ],
            "type": "surface"
           }
          ],
          "table": [
           {
            "cells": {
             "fill": {
              "color": "#EBF0F8"
             },
             "line": {
              "color": "white"
             }
            },
            "header": {
             "fill": {
              "color": "#C8D4E3"
             },
             "line": {
              "color": "white"
             }
            },
            "type": "table"
           }
          ]
         },
         "layout": {
          "annotationdefaults": {
           "arrowcolor": "#2a3f5f",
           "arrowhead": 0,
           "arrowwidth": 1
          },
          "autotypenumbers": "strict",
          "coloraxis": {
           "colorbar": {
            "outlinewidth": 0,
            "ticks": ""
           }
          },
          "colorscale": {
           "diverging": [
            [
             0,
             "#8e0152"
            ],
            [
             0.1,
             "#c51b7d"
            ],
            [
             0.2,
             "#de77ae"
            ],
            [
             0.3,
             "#f1b6da"
            ],
            [
             0.4,
             "#fde0ef"
            ],
            [
             0.5,
             "#f7f7f7"
            ],
            [
             0.6,
             "#e6f5d0"
            ],
            [
             0.7,
             "#b8e186"
            ],
            [
             0.8,
             "#7fbc41"
            ],
            [
             0.9,
             "#4d9221"
            ],
            [
             1,
             "#276419"
            ]
           ],
           "sequential": [
            [
             0,
             "#0d0887"
            ],
            [
             0.1111111111111111,
             "#46039f"
            ],
            [
             0.2222222222222222,
             "#7201a8"
            ],
            [
             0.3333333333333333,
             "#9c179e"
            ],
            [
             0.4444444444444444,
             "#bd3786"
            ],
            [
             0.5555555555555556,
             "#d8576b"
            ],
            [
             0.6666666666666666,
             "#ed7953"
            ],
            [
             0.7777777777777778,
             "#fb9f3a"
            ],
            [
             0.8888888888888888,
             "#fdca26"
            ],
            [
             1,
             "#f0f921"
            ]
           ],
           "sequentialminus": [
            [
             0,
             "#0d0887"
            ],
            [
             0.1111111111111111,
             "#46039f"
            ],
            [
             0.2222222222222222,
             "#7201a8"
            ],
            [
             0.3333333333333333,
             "#9c179e"
            ],
            [
             0.4444444444444444,
             "#bd3786"
            ],
            [
             0.5555555555555556,
             "#d8576b"
            ],
            [
             0.6666666666666666,
             "#ed7953"
            ],
            [
             0.7777777777777778,
             "#fb9f3a"
            ],
            [
             0.8888888888888888,
             "#fdca26"
            ],
            [
             1,
             "#f0f921"
            ]
           ]
          },
          "colorway": [
           "#636efa",
           "#EF553B",
           "#00cc96",
           "#ab63fa",
           "#FFA15A",
           "#19d3f3",
           "#FF6692",
           "#B6E880",
           "#FF97FF",
           "#FECB52"
          ],
          "font": {
           "color": "#2a3f5f"
          },
          "geo": {
           "bgcolor": "white",
           "lakecolor": "white",
           "landcolor": "#E5ECF6",
           "showlakes": true,
           "showland": true,
           "subunitcolor": "white"
          },
          "hoverlabel": {
           "align": "left"
          },
          "hovermode": "closest",
          "mapbox": {
           "style": "light"
          },
          "paper_bgcolor": "white",
          "plot_bgcolor": "#E5ECF6",
          "polar": {
           "angularaxis": {
            "gridcolor": "white",
            "linecolor": "white",
            "ticks": ""
           },
           "bgcolor": "#E5ECF6",
           "radialaxis": {
            "gridcolor": "white",
            "linecolor": "white",
            "ticks": ""
           }
          },
          "scene": {
           "xaxis": {
            "backgroundcolor": "#E5ECF6",
            "gridcolor": "white",
            "gridwidth": 2,
            "linecolor": "white",
            "showbackground": true,
            "ticks": "",
            "zerolinecolor": "white"
           },
           "yaxis": {
            "backgroundcolor": "#E5ECF6",
            "gridcolor": "white",
            "gridwidth": 2,
            "linecolor": "white",
            "showbackground": true,
            "ticks": "",
            "zerolinecolor": "white"
           },
           "zaxis": {
            "backgroundcolor": "#E5ECF6",
            "gridcolor": "white",
            "gridwidth": 2,
            "linecolor": "white",
            "showbackground": true,
            "ticks": "",
            "zerolinecolor": "white"
           }
          },
          "shapedefaults": {
           "line": {
            "color": "#2a3f5f"
           }
          },
          "ternary": {
           "aaxis": {
            "gridcolor": "white",
            "linecolor": "white",
            "ticks": ""
           },
           "baxis": {
            "gridcolor": "white",
            "linecolor": "white",
            "ticks": ""
           },
           "bgcolor": "#E5ECF6",
           "caxis": {
            "gridcolor": "white",
            "linecolor": "white",
            "ticks": ""
           }
          },
          "title": {
           "x": 0.05
          },
          "xaxis": {
           "automargin": true,
           "gridcolor": "white",
           "linecolor": "white",
           "ticks": "",
           "title": {
            "standoff": 15
           },
           "zerolinecolor": "white",
           "zerolinewidth": 2
          },
          "yaxis": {
           "automargin": true,
           "gridcolor": "white",
           "linecolor": "white",
           "ticks": "",
           "title": {
            "standoff": 15
           },
           "zerolinecolor": "white",
           "zerolinewidth": 2
          }
         }
        },
        "xaxis": {
         "autorange": true,
         "range": [
          -1.0833302851047928,
          1.0833269670868004
         ],
         "type": "linear"
        },
        "yaxis": {
         "autorange": true,
         "range": [
          -22414.61111111111,
          588177.6111111111
         ],
         "type": "linear"
        }
       }
      },
      "image/png": "[encoded data removed]",
      "text/html": [
       "<div>                            <div id=\"d3e85077-b529-4dc5-8495-53cb718a45db\" class=\"plotly-graph-div\" style=\"height:525px; width:100%;\"></div>            <script type=\"text/javascript\">                require([\"plotly\"], function(Plotly) {                    window.PLOTLYENV=window.PLOTLYENV || {};                                    if (document.getElementById(\"d3e85077-b529-4dc5-8495-53cb718a45db\")) {                    Plotly.newPlot(                        \"d3e85077-b529-4dc5-8495-53cb718a45db\",                        [{\"name\":\"Histogram\",\"width\":[0.04999978274288297,0.04999978274288286,0.04999978274288297,0.04999978274288286,0.04999978274288297,0.04999978274288297,0.04999978274288286,0.04999978274288286,0.04999978274288297,0.049999782742882914,0.049999782742882914,0.04999978274288297,0.04999978274288286,0.04999978274288297,0.04999978274288286,0.04999978274288297,0.04999978274288297,0.04999978274288286,0.04999978274288297,0.04999978274288286,0.04999978274288297,0.04999978274288286,0.04999978274288286,0.04999978274288308,0.04999978274288286,0.04999978274288286,0.04999978274288308,0.04999978274288286,0.04999978274288286,0.04999978274288286,0.04999978274288308,0.04999978274288286,0.04999978274288286,0.04999978274288308,0.04999978274288286,0.04999978274288286,0.04999978274288286,0.04999978274288308,0.04999978274288286,0.04999978274288286],\"x\":[-0.9749974224952132,-0.9249976397523303,-0.8749978570094474,-0.8249980742665645,-0.7749982915236815,-0.7249985087807986,-0.6749987260379157,-0.6249989432950328,-0.5749991605521498,-0.524999377809267,-0.474999595066384,-0.4249998123235011,-0.3750000295806182,-0.32500024683773526,-0.27500046409485235,-0.22500068135196943,-0.17500089860908646,-0.12500111586620355,-0.07500133312332063,-0.02500155038043772,0.024998232362445194,0.07499801510532811,0.12499779784821097,0.17499758059109394,0.2249973633339769,0.27499714607685977,0.32499692881974274,0.3749967115626257,0.42499649430550857,0.4749962770483914,0.5249960597912744,0.5749958425341574,0.6249956252770402,0.6749954080199232,0.7249951907628062,0.774994973505689,0.8249947562485719,0.8749945389914549,0.9249943217343378,0.9749941044772207],\"y\":[557648,124091,93901,82300,79639,76203,78329,80003,80020,86225,62192,59248,61192,64764,72113,50434,40454,32634,23748,8672,8115,19889,29913,36784,49154,67240,60895,56945,56655,60361,70379,65697,60751,57110,56557,53551,57853,58160,71595,132212],\"type\":\"bar\"},{\"mode\":\"text\",\"text\":[\"557648\"],\"x\":[-0.9749974224952132],\"y\":[557648],\"type\":\"scatter\"},{\"mode\":\"text\",\"text\":[\"124091\"],\"x\":[-0.9249976397523303],\"y\":[124091],\"type\":\"scatter\"},{\"mode\":\"text\",\"text\":[\"93901\"],\"x\":[-0.8749978570094474],\"y\":[93901],\"type\":\"scatter\"},{\"mode\":\"text\",\"text\":[\"82300\"],\"x\":[-0.8249980742665645],\"y\":[82300],\"type\":\"scatter\"},{\"mode\":\"text\",\"text\":[\"79639\"],\"x\":[-0.7749982915236815],\"y\":[79639],\"type\":\"scatter\"},{\"mode\":\"text\",\"text\":[\"76203\"],\"x\":[-0.7249985087807986],\"y\":[76203],\"type\":\"scatter\"},{\"mode\":\"text\",\"text\":[\"78329\"],\"x\":[-0.6749987260379157],\"y\":[78329],\"type\":\"scatter\"},{\"mode\":\"text\",\"text\":[\"80003\"],\"x\":[-0.6249989432950328],\"y\":[80003],\"type\":\"scatter\"},{\"mode\":\"text\",\"text\":[\"80020\"],\"x\":[-0.5749991605521498],\"y\":[80020],\"type\":\"scatter\"},{\"mode\":\"text\",\"text\":[\"86225\"],\"x\":[-0.524999377809267],\"y\":[86225],\"type\":\"scatter\"},{\"mode\":\"text\",\"text\":[\"62192\"],\"x\":[-0.474999595066384],\"y\":[62192],\"type\":\"scatter\"},{\"mode\":\"text\",\"text\":[\"59248\"],\"x\":[-0.4249998123235011],\"y\":[59248],\"type\":\"scatter\"},{\"mode\":\"text\",\"text\":[\"61192\"],\"x\":[-0.3750000295806182],\"y\":[61192],\"type\":\"scatter\"},{\"mode\":\"text\",\"text\":[\"64764\"],\"x\":[-0.32500024683773526],\"y\":[64764],\"type\":\"scatter\"},{\"mode\":\"text\",\"text\":[\"72113\"],\"x\":[-0.27500046409485235],\"y\":[72113],\"type\":\"scatter\"},{\"mode\":\"text\",\"text\":[\"50434\"],\"x\":[-0.22500068135196943],\"y\":[50434],\"type\":\"scatter\"},{\"mode\":\"text\",\"text\":[\"40454\"],\"x\":[-0.17500089860908646],\"y\":[40454],\"type\":\"scatter\"},{\"mode\":\"text\",\"text\":[\"32634\"],\"x\":[-0.12500111586620355],\"y\":[32634],\"type\":\"scatter\"},{\"mode\":\"text\",\"text\":[\"23748\"],\"x\":[-0.07500133312332063],\"y\":[23748],\"type\":\"scatter\"},{\"mode\":\"text\",\"text\":[\"8672\"],\"x\":[-0.02500155038043772],\"y\":[8672],\"type\":\"scatter\"},{\"mode\":\"text\",\"text\":[\"8115\"],\"x\":[0.024998232362445194],\"y\":[8115],\"type\":\"scatter\"},{\"mode\":\"text\",\"text\":[\"19889\"],\"x\":[0.07499801510532811],\"y\":[19889],\"type\":\"scatter\"},{\"mode\":\"text\",\"text\":[\"29913\"],\"x\":[0.12499779784821097],\"y\":[29913],\"type\":\"scatter\"},{\"mode\":\"text\",\"text\":[\"36784\"],\"x\":[0.17499758059109394],\"y\":[36784],\"type\":\"scatter\"},{\"mode\":\"text\",\"text\":[\"49154\"],\"x\":[0.2249973633339769],\"y\":[49154],\"type\":\"scatter\"},{\"mode\":\"text\",\"text\":[\"67240\"],\"x\":[0.27499714607685977],\"y\":[67240],\"type\":\"scatter\"},{\"mode\":\"text\",\"text\":[\"60895\"],\"x\":[0.32499692881974274],\"y\":[60895],\"type\":\"scatter\"},{\"mode\":\"text\",\"text\":[\"56945\"],\"x\":[0.3749967115626257],\"y\":[56945],\"type\":\"scatter\"},{\"mode\":\"text\",\"text\":[\"56655\"],\"x\":[0.42499649430550857],\"y\":[56655],\"type\":\"scatter\"},{\"mode\":\"text\",\"text\":[\"60361\"],\"x\":[0.4749962770483914],\"y\":[60361],\"type\":\"scatter\"},{\"mode\":\"text\",\"text\":[\"70379\"],\"x\":[0.5249960597912744],\"y\":[70379],\"type\":\"scatter\"},{\"mode\":\"text\",\"text\":[\"65697\"],\"x\":[0.5749958425341574],\"y\":[65697],\"type\":\"scatter\"},{\"mode\":\"text\",\"text\":[\"60751\"],\"x\":[0.6249956252770402],\"y\":[60751],\"type\":\"scatter\"},{\"mode\":\"text\",\"text\":[\"57110\"],\"x\":[0.6749954080199232],\"y\":[57110],\"type\":\"scatter\"},{\"mode\":\"text\",\"text\":[\"56557\"],\"x\":[0.7249951907628062],\"y\":[56557],\"type\":\"scatter\"},{\"mode\":\"text\",\"text\":[\"53551\"],\"x\":[0.774994973505689],\"y\":[53551],\"type\":\"scatter\"},{\"mode\":\"text\",\"text\":[\"57853\"],\"x\":[0.8249947562485719],\"y\":[57853],\"type\":\"scatter\"},{\"mode\":\"text\",\"text\":[\"58160\"],\"x\":[0.8749945389914549],\"y\":[58160],\"type\":\"scatter\"},{\"mode\":\"text\",\"text\":[\"71595\"],\"x\":[0.9249943217343378],\"y\":[71595],\"type\":\"scatter\"},{\"mode\":\"text\",\"text\":[\"132212\"],\"x\":[0.9749941044772207],\"y\":[132212],\"type\":\"scatter\"}],                        {\"template\":{\"data\":{\"histogram2dcontour\":[{\"type\":\"histogram2dcontour\",\"colorbar\":{\"outlinewidth\":0,\"ticks\":\"\"},\"colorscale\":[[0.0,\"#0d0887\"],[0.1111111111111111,\"#46039f\"],[0.2222222222222222,\"#7201a8\"],[0.3333333333333333,\"#9c179e\"],[0.4444444444444444,\"#bd3786\"],[0.5555555555555556,\"#d8576b\"],[0.6666666666666666,\"#ed7953\"],[0.7777777777777778,\"#fb9f3a\"],[0.8888888888888888,\"#fdca26\"],[1.0,\"#f0f921\"]]}],\"choropleth\":[{\"type\":\"choropleth\",\"colorbar\":{\"outlinewidth\":0,\"ticks\":\"\"}}],\"histogram2d\":[{\"type\":\"histogram2d\",\"colorbar\":{\"outlinewidth\":0,\"ticks\":\"\"},\"colorscale\":[[0.0,\"#0d0887\"],[0.1111111111111111,\"#46039f\"],[0.2222222222222222,\"#7201a8\"],[0.3333333333333333,\"#9c179e\"],[0.4444444444444444,\"#bd3786\"],[0.5555555555555556,\"#d8576b\"],[0.6666666666666666,\"#ed7953\"],[0.7777777777777778,\"#fb9f3a\"],[0.8888888888888888,\"#fdca26\"],[1.0,\"#f0f921\"]]}],\"heatmap\":[{\"type\":\"heatmap\",\"colorbar\":{\"outlinewidth\":0,\"ticks\":\"\"},\"colorscale\":[[0.0,\"#0d0887\"],[0.1111111111111111,\"#46039f\"],[0.2222222222222222,\"#7201a8\"],[0.3333333333333333,\"#9c179e\"],[0.4444444444444444,\"#bd3786\"],[0.5555555555555556,\"#d8576b\"],[0.6666666666666666,\"#ed7953\"],[0.7777777777777778,\"#fb9f3a\"],[0.8888888888888888,\"#fdca26\"],[1.0,\"#f0f921\"]]}],\"heatmapgl\":[{\"type\":\"heatmapgl\",\"colorbar\":{\"outlinewidth\":0,\"ticks\":\"\"},\"colorscale\":[[0.0,\"#0d0887\"],[0.1111111111111111,\"#46039f\"],[0.2222222222222222,\"#7201a8\"],[0.3333333333333333,\"#9c179e\"],[0.4444444444444444,\"#bd3786\"],[0.5555555555555556,\"#d8576b\"],[0.6666666666666666,\"#ed7953\"],[0.7777777777777778,\"#fb9f3a\"],[0.8888888888888888,\"#fdca26\"],[1.0,\"#f0f921\"]]}],\"contourcarpet\":[{\"type\":\"contourcarpet\",\"colorbar\":{\"outlinewidth\":0,\"ticks\":\"\"}}],\"contour\":[{\"type\":\"contour\",\"colorbar\":{\"outlinewidth\":0,\"ticks\":\"\"},\"colorscale\":[[0.0,\"#0d0887\"],[0.1111111111111111,\"#46039f\"],[0.2222222222222222,\"#7201a8\"],[0.3333333333333333,\"#9c179e\"],[0.4444444444444444,\"#bd3786\"],[0.5555555555555556,\"#d8576b\"],[0.6666666666666666,\"#ed7953\"],[0.7777777777777778,\"#fb9f3a\"],[0.8888888888888888,\"#fdca26\"],[1.0,\"#f0f921\"]]}],\"surface\":[{\"type\":\"surface\",\"colorbar\":{\"outlinewidth\":0,\"ticks\":\"\"},\"colorscale\":[[0.0,\"#0d0887\"],[0.1111111111111111,\"#46039f\"],[0.2222222222222222,\"#7201a8\"],[0.3333333333333333,\"#9c179e\"],[0.4444444444444444,\"#bd3786\"],[0.5555555555555556,\"#d8576b\"],[0.6666666666666666,\"#ed7953\"],[0.7777777777777778,\"#fb9f3a\"],[0.8888888888888888,\"#fdca26\"],[1.0,\"#f0f921\"]]}],\"mesh3d\":[{\"type\":\"mesh3d\",\"colorbar\":{\"outlinewidth\":0,\"ticks\":\"\"}}],\"scatter\":[{\"fillpattern\":{\"fillmode\":\"overlay\",\"size\":10,\"solidity\":0.2},\"type\":\"scatter\"}],\"parcoords\":[{\"type\":\"parcoords\",\"line\":{\"colorbar\":{\"outlinewidth\":0,\"ticks\":\"\"}}}],\"scatterpolargl\":[{\"type\":\"scatterpolargl\",\"marker\":{\"colorbar\":{\"outlinewidth\":0,\"ticks\":\"\"}}}],\"bar\":[{\"error_x\":{\"color\":\"#2a3f5f\"},\"error_y\":{\"color\":\"#2a3f5f\"},\"marker\":{\"line\":{\"color\":\"#E5ECF6\",\"width\":0.5},\"pattern\":{\"fillmode\":\"overlay\",\"size\":10,\"solidity\":0.2}},\"type\":\"bar\"}],\"scattergeo\":[{\"type\":\"scattergeo\",\"marker\":{\"colorbar\":{\"outlinewidth\":0,\"ticks\":\"\"}}}],\"scatterpolar\":[{\"type\":\"scatterpolar\",\"marker\":{\"colorbar\":{\"outlinewidth\":0,\"ticks\":\"\"}}}],\"histogram\":[{\"marker\":{\"pattern\":{\"fillmode\":\"overlay\",\"size\":10,\"solidity\":0.2}},\"type\":\"histogram\"}],\"scattergl\":[{\"type\":\"scattergl\",\"marker\":{\"colorbar\":{\"outlinewidth\":0,\"ticks\":\"\"}}}],\"scatter3d\":[{\"type\":\"scatter3d\",\"line\":{\"colorbar\":{\"outlinewidth\":0,\"ticks\":\"\"}},\"marker\":{\"colorbar\":{\"outlinewidth\":0,\"ticks\":\"\"}}}],\"scattermapbox\":[{\"type\":\"scattermapbox\",\"marker\":{\"colorbar\":{\"outlinewidth\":0,\"ticks\":\"\"}}}],\"scatterternary\":[{\"type\":\"scatterternary\",\"marker\":{\"colorbar\":{\"outlinewidth\":0,\"ticks\":\"\"}}}],\"scattercarpet\":[{\"type\":\"scattercarpet\",\"marker\":{\"colorbar\":{\"outlinewidth\":0,\"ticks\":\"\"}}}],\"carpet\":[{\"aaxis\":{\"endlinecolor\":\"#2a3f5f\",\"gridcolor\":\"white\",\"linecolor\":\"white\",\"minorgridcolor\":\"white\",\"startlinecolor\":\"#2a3f5f\"},\"baxis\":{\"endlinecolor\":\"#2a3f5f\",\"gridcolor\":\"white\",\"linecolor\":\"white\",\"minorgridcolor\":\"white\",\"startlinecolor\":\"#2a3f5f\"},\"type\":\"carpet\"}],\"table\":[{\"cells\":{\"fill\":{\"color\":\"#EBF0F8\"},\"line\":{\"color\":\"white\"}},\"header\":{\"fill\":{\"color\":\"#C8D4E3\"},\"line\":{\"color\":\"white\"}},\"type\":\"table\"}],\"barpolar\":[{\"marker\":{\"line\":{\"color\":\"#E5ECF6\",\"width\":0.5},\"pattern\":{\"fillmode\":\"overlay\",\"size\":10,\"solidity\":0.2}},\"type\":\"barpolar\"}],\"pie\":[{\"automargin\":true,\"type\":\"pie\"}]},\"layout\":{\"autotypenumbers\":\"strict\",\"colorway\":[\"#636efa\",\"#EF553B\",\"#00cc96\",\"#ab63fa\",\"#FFA15A\",\"#19d3f3\",\"#FF6692\",\"#B6E880\",\"#FF97FF\",\"#FECB52\"],\"font\":{\"color\":\"#2a3f5f\"},\"hovermode\":\"closest\",\"hoverlabel\":{\"align\":\"left\"},\"paper_bgcolor\":\"white\",\"plot_bgcolor\":\"#E5ECF6\",\"polar\":{\"bgcolor\":\"#E5ECF6\",\"angularaxis\":{\"gridcolor\":\"white\",\"linecolor\":\"white\",\"ticks\":\"\"},\"radialaxis\":{\"gridcolor\":\"white\",\"linecolor\":\"white\",\"ticks\":\"\"}},\"ternary\":{\"bgcolor\":\"#E5ECF6\",\"aaxis\":{\"gridcolor\":\"white\",\"linecolor\":\"white\",\"ticks\":\"\"},\"baxis\":{\"gridcolor\":\"white\",\"linecolor\":\"white\",\"ticks\":\"\"},\"caxis\":{\"gridcolor\":\"white\",\"linecolor\":\"white\",\"ticks\":\"\"}},\"coloraxis\":{\"colorbar\":{\"outlinewidth\":0,\"ticks\":\"\"}},\"colorscale\":{\"sequential\":[[0.0,\"#0d0887\"],[0.1111111111111111,\"#46039f\"],[0.2222222222222222,\"#7201a8\"],[0.3333333333333333,\"#9c179e\"],[0.4444444444444444,\"#bd3786\"],[0.5555555555555556,\"#d8576b\"],[0.6666666666666666,\"#ed7953\"],[0.7777777777777778,\"#fb9f3a\"],[0.8888888888888888,\"#fdca26\"],[1.0,\"#f0f921\"]],\"sequentialminus\":[[0.0,\"#0d0887\"],[0.1111111111111111,\"#46039f\"],[0.2222222222222222,\"#7201a8\"],[0.3333333333333333,\"#9c179e\"],[0.4444444444444444,\"#bd3786\"],[0.5555555555555556,\"#d8576b\"],[0.6666666666666666,\"#ed7953\"],[0.7777777777777778,\"#fb9f3a\"],[0.8888888888888888,\"#fdca26\"],[1.0,\"#f0f921\"]],\"diverging\":[[0,\"#8e0152\"],[0.1,\"#c51b7d\"],[0.2,\"#de77ae\"],[0.3,\"#f1b6da\"],[0.4,\"#fde0ef\"],[0.5,\"#f7f7f7\"],[0.6,\"#e6f5d0\"],[0.7,\"#b8e186\"],[0.8,\"#7fbc41\"],[0.9,\"#4d9221\"],[1,\"#276419\"]]},\"xaxis\":{\"gridcolor\":\"white\",\"linecolor\":\"white\",\"ticks\":\"\",\"title\":{\"standoff\":15},\"zerolinecolor\":\"white\",\"automargin\":true,\"zerolinewidth\":2},\"yaxis\":{\"gridcolor\":\"white\",\"linecolor\":\"white\",\"ticks\":\"\",\"title\":{\"standoff\":15},\"zerolinecolor\":\"white\",\"automargin\":true,\"zerolinewidth\":2},\"scene\":{\"xaxis\":{\"backgroundcolor\":\"#E5ECF6\",\"gridcolor\":\"white\",\"linecolor\":\"white\",\"showbackground\":true,\"ticks\":\"\",\"zerolinecolor\":\"white\",\"gridwidth\":2},\"yaxis\":{\"backgroundcolor\":\"#E5ECF6\",\"gridcolor\":\"white\",\"linecolor\":\"white\",\"showbackground\":true,\"ticks\":\"\",\"zerolinecolor\":\"white\",\"gridwidth\":2},\"zaxis\":{\"backgroundcolor\":\"#E5ECF6\",\"gridcolor\":\"white\",\"linecolor\":\"white\",\"showbackground\":true,\"ticks\":\"\",\"zerolinecolor\":\"white\",\"gridwidth\":2}},\"shapedefaults\":{\"line\":{\"color\":\"#2a3f5f\"}},\"annotationdefaults\":{\"arrowcolor\":\"#2a3f5f\",\"arrowhead\":0,\"arrowwidth\":1},\"geo\":{\"bgcolor\":\"white\",\"landcolor\":\"#E5ECF6\",\"subunitcolor\":\"white\",\"showland\":true,\"showlakes\":true,\"lakecolor\":\"white\"},\"title\":{\"x\":0.05},\"mapbox\":{\"style\":\"light\"}}}},                        {\"responsive\": true}                    ).then(function(){\n",
       "                            \n",
       "var gd = document.getElementById('d3e85077-b529-4dc5-8495-53cb718a45db');\n",
       "var x = new MutationObserver(function (mutations, observer) {{\n",
       "        var display = window.getComputedStyle(gd).display;\n",
       "        if (!display || display === 'none') {{\n",
       "            console.log([gd, 'removed!']);\n",
       "            Plotly.purge(gd);\n",
       "            observer.disconnect();\n",
       "        }}\n",
       "}});\n",
       "\n",
       "// Listen for the removal of the full notebook cells\n",
       "var notebookContainer = gd.closest('#notebook-container');\n",
       "if (notebookContainer) {{\n",
       "    x.observe(notebookContainer, {childList: true});\n",
       "}}\n",
       "\n",
       "// Listen for the clearing of the current output cell\n",
       "var outputEl = gd.closest('.output');\n",
       "if (outputEl) {{\n",
       "    x.observe(outputEl, {childList: true});\n",
       "}}\n",
       "\n",
       "                        })                };                });            </script>        </div>"
      ]
     },
     "metadata": {},
     "output_type": "display_data"
    }
   ],
   "source": [
    "# Plot the figure\n",
    "counts, bins = np.histogram(df_interest['ScoreChange'], bins=40)\n",
    "bin_midpoints = bins[:-1] + np.diff(bins)/2\n",
    "\n",
    "fig = go.Figure()\n",
    "\n",
    "fig.add_trace(go.Bar(\n",
    "    x=bin_midpoints,\n",
    "    y=counts,\n",
    "    width=np.diff(bins), # makes bars have correct widths\n",
    "    name='Histogram'\n",
    "))\n",
    "# add text labels for counts\n",
    "for i in range(len(counts)):\n",
    "    fig.add_trace(go.Scatter(\n",
    "        x=[bin_midpoints[i]],\n",
    "        y=[counts[i]],\n",
    "        text=[str(counts[i])],\n",
    "        mode='text',\n",
    "    ))\n",
    "\n",
    "fig.show()"
   ]
  },
  {
   "cell_type": "code",
   "execution_count": 42,
   "id": "142ab62a-5334-4c9c-862d-ff999319191b",
   "metadata": {},
   "outputs": [
    {
     "data": {
      "text/html": [
       "<div>\n",
       "<style scoped>\n",
       "    .dataframe tbody tr th:only-of-type {\n",
       "        vertical-align: middle;\n",
       "    }\n",
       "\n",
       "    .dataframe tbody tr th {\n",
       "        vertical-align: top;\n",
       "    }\n",
       "\n",
       "    .dataframe thead th {\n",
       "        text-align: right;\n",
       "    }\n",
       "</style>\n",
       "<table border=\"1\" class=\"dataframe\">\n",
       "  <thead>\n",
       "    <tr style=\"text-align: right;\">\n",
       "      <th></th>\n",
       "      <th>index</th>\n",
       "      <th>chr</th>\n",
       "      <th>strand</th>\n",
       "      <th>Acceptor_coordinates</th>\n",
       "      <th>Transcript_coordinates</th>\n",
       "      <th>dbsnp_id</th>\n",
       "      <th>varinat_start</th>\n",
       "      <th>variant_end</th>\n",
       "      <th>ref_neucleotide</th>\n",
       "      <th>alternative_neucleotide</th>\n",
       "      <th>reference_seq</th>\n",
       "      <th>alt_seq</th>\n",
       "      <th>Ensemble_Transcript_ID</th>\n",
       "      <th>Ref_probab</th>\n",
       "      <th>Alt_probab</th>\n",
       "      <th>ScoreChange</th>\n",
       "      <th>LogOddRatio</th>\n",
       "    </tr>\n",
       "  </thead>\n",
       "  <tbody>\n",
       "    <tr>\n",
       "      <th>2185</th>\n",
       "      <td>2185</td>\n",
       "      <td>chr1</td>\n",
       "      <td>+</td>\n",
       "      <td>24445144-24445223</td>\n",
       "      <td>24415803-24472976</td>\n",
       "      <td>rs1450817635</td>\n",
       "      <td>24445172</td>\n",
       "      <td>24445174</td>\n",
       "      <td>TT</td>\n",
       "      <td>T</td>\n",
       "      <td>AGCAGCCTCAATTCCCTTTTCTTTGTGCTTCATTTTTCAGCTAGTG...</td>\n",
       "      <td>AGCAGCCTCAATTCCCTTTTCTTTGTGCTCATTTTTCAGCTAGTGC...</td>\n",
       "      <td>ENST00000003912</td>\n",
       "      <td>0.999804</td>\n",
       "      <td>0.001602</td>\n",
       "      <td>-0.998007</td>\n",
       "      <td>21.603005</td>\n",
       "    </tr>\n",
       "    <tr>\n",
       "      <th>2215</th>\n",
       "      <td>2215</td>\n",
       "      <td>chr1</td>\n",
       "      <td>+</td>\n",
       "      <td>24445144-24445223</td>\n",
       "      <td>24415814-24466310</td>\n",
       "      <td>rs1450817635</td>\n",
       "      <td>24445172</td>\n",
       "      <td>24445174</td>\n",
       "      <td>TT</td>\n",
       "      <td>T</td>\n",
       "      <td>AGCAGCCTCAATTCCCTTTTCTTTGTGCTTCATTTTTCAGCTAGTG...</td>\n",
       "      <td>AGCAGCCTCAATTCCCTTTTCTTTGTGCTCATTTTTCAGCTAGTGC...</td>\n",
       "      <td>ENST00000339255</td>\n",
       "      <td>0.999804</td>\n",
       "      <td>0.001602</td>\n",
       "      <td>-0.998007</td>\n",
       "      <td>21.603005</td>\n",
       "    </tr>\n",
       "    <tr>\n",
       "      <th>2245</th>\n",
       "      <td>2245</td>\n",
       "      <td>chr1</td>\n",
       "      <td>+</td>\n",
       "      <td>24445144-24445223</td>\n",
       "      <td>24415813-24454824</td>\n",
       "      <td>rs1450817635</td>\n",
       "      <td>24445172</td>\n",
       "      <td>24445174</td>\n",
       "      <td>TT</td>\n",
       "      <td>T</td>\n",
       "      <td>AGCAGCCTCAATTCCCTTTTCTTTGTGCTTCATTTTTCAGCTAGTG...</td>\n",
       "      <td>AGCAGCCTCAATTCCCTTTTCTTTGTGCTCATTTTTCAGCTAGTGC...</td>\n",
       "      <td>ENST00000358028</td>\n",
       "      <td>0.999804</td>\n",
       "      <td>0.001602</td>\n",
       "      <td>-0.998007</td>\n",
       "      <td>21.603005</td>\n",
       "    </tr>\n",
       "    <tr>\n",
       "      <th>2275</th>\n",
       "      <td>2275</td>\n",
       "      <td>chr1</td>\n",
       "      <td>+</td>\n",
       "      <td>24445144-24445223</td>\n",
       "      <td>24415802-24472976</td>\n",
       "      <td>rs1450817635</td>\n",
       "      <td>24445172</td>\n",
       "      <td>24445174</td>\n",
       "      <td>TT</td>\n",
       "      <td>T</td>\n",
       "      <td>AGCAGCCTCAATTCCCTTTTCTTTGTGCTTCATTTTTCAGCTAGTG...</td>\n",
       "      <td>AGCAGCCTCAATTCCCTTTTCTTTGTGCTCATTTTTCAGCTAGTGC...</td>\n",
       "      <td>ENST00000374399</td>\n",
       "      <td>0.999804</td>\n",
       "      <td>0.001602</td>\n",
       "      <td>-0.998007</td>\n",
       "      <td>21.603005</td>\n",
       "    </tr>\n",
       "    <tr>\n",
       "      <th>2791</th>\n",
       "      <td>2791</td>\n",
       "      <td>chr1</td>\n",
       "      <td>+</td>\n",
       "      <td>24458847-24458926</td>\n",
       "      <td>24415803-24472976</td>\n",
       "      <td>rs752041946</td>\n",
       "      <td>24458882</td>\n",
       "      <td>24458883</td>\n",
       "      <td>T</td>\n",
       "      <td>A</td>\n",
       "      <td>GTCTCCACAGCCCACTGACTGGAGTGCTTTTGTGTTGAAGGTTTTT...</td>\n",
       "      <td>GTCTCCACAGCCCACTGACTGGAGTGCTTTTGTGTAGAAGGTTTTT...</td>\n",
       "      <td>ENST00000003912</td>\n",
       "      <td>0.999993</td>\n",
       "      <td>0.321426</td>\n",
       "      <td>-0.678561</td>\n",
       "      <td>18.123810</td>\n",
       "    </tr>\n",
       "    <tr>\n",
       "      <th>...</th>\n",
       "      <td>...</td>\n",
       "      <td>...</td>\n",
       "      <td>...</td>\n",
       "      <td>...</td>\n",
       "      <td>...</td>\n",
       "      <td>...</td>\n",
       "      <td>...</td>\n",
       "      <td>...</td>\n",
       "      <td>...</td>\n",
       "      <td>...</td>\n",
       "      <td>...</td>\n",
       "      <td>...</td>\n",
       "      <td>...</td>\n",
       "      <td>...</td>\n",
       "      <td>...</td>\n",
       "      <td>...</td>\n",
       "      <td>...</td>\n",
       "    </tr>\n",
       "    <tr>\n",
       "      <th>18672</th>\n",
       "      <td>86838</td>\n",
       "      <td>chrY</td>\n",
       "      <td>+</td>\n",
       "      <td>3109777-3109856</td>\n",
       "      <td>3002946-3120600</td>\n",
       "      <td>rs2051480392</td>\n",
       "      <td>3109832</td>\n",
       "      <td>3109833</td>\n",
       "      <td>T</td>\n",
       "      <td>G</td>\n",
       "      <td>cagtactaaaaaaacaaaaatcacatgattatctccacagatgcag...</td>\n",
       "      <td>cagtactaaaaaaacaaaaatcacatgattatctccacagatgcag...</td>\n",
       "      <td>ENST00000655607</td>\n",
       "      <td>0.063167</td>\n",
       "      <td>0.963243</td>\n",
       "      <td>0.866991</td>\n",
       "      <td>-8.602347</td>\n",
       "    </tr>\n",
       "    <tr>\n",
       "      <th>18674</th>\n",
       "      <td>86840</td>\n",
       "      <td>chrY</td>\n",
       "      <td>+</td>\n",
       "      <td>3109777-3109856</td>\n",
       "      <td>3003001-3110315</td>\n",
       "      <td>rs2051480392</td>\n",
       "      <td>3109832</td>\n",
       "      <td>3109833</td>\n",
       "      <td>T</td>\n",
       "      <td>G</td>\n",
       "      <td>cagtactaaaaaaacaaaaatcacatgattatctccacagatgcag...</td>\n",
       "      <td>cagtactaaaaaaacaaaaatcacatgattatctccacagatgcag...</td>\n",
       "      <td>ENST00000653660</td>\n",
       "      <td>0.063167</td>\n",
       "      <td>0.963243</td>\n",
       "      <td>0.866991</td>\n",
       "      <td>-8.602347</td>\n",
       "    </tr>\n",
       "    <tr>\n",
       "      <th>18676</th>\n",
       "      <td>86842</td>\n",
       "      <td>chrY</td>\n",
       "      <td>+</td>\n",
       "      <td>3109777-3109856</td>\n",
       "      <td>3002901-3120619</td>\n",
       "      <td>rs2051480392</td>\n",
       "      <td>3109832</td>\n",
       "      <td>3109833</td>\n",
       "      <td>T</td>\n",
       "      <td>G</td>\n",
       "      <td>cagtactaaaaaaacaaaaatcacatgattatctccacagatgcag...</td>\n",
       "      <td>cagtactaaaaaaacaaaaatcacatgattatctccacagatgcag...</td>\n",
       "      <td>ENST00000691894</td>\n",
       "      <td>0.063167</td>\n",
       "      <td>0.963243</td>\n",
       "      <td>0.866991</td>\n",
       "      <td>-8.602347</td>\n",
       "    </tr>\n",
       "    <tr>\n",
       "      <th>18678</th>\n",
       "      <td>86844</td>\n",
       "      <td>chrY</td>\n",
       "      <td>+</td>\n",
       "      <td>3109777-3109856</td>\n",
       "      <td>3002894-3200509</td>\n",
       "      <td>rs2051480392</td>\n",
       "      <td>3109832</td>\n",
       "      <td>3109833</td>\n",
       "      <td>T</td>\n",
       "      <td>G</td>\n",
       "      <td>cagtactaaaaaaacaaaaatcacatgattatctccacagatgcag...</td>\n",
       "      <td>cagtactaaaaaaacaaaaatcacatgattatctccacagatgcag...</td>\n",
       "      <td>ENST00000651090</td>\n",
       "      <td>0.063167</td>\n",
       "      <td>0.963243</td>\n",
       "      <td>0.866991</td>\n",
       "      <td>-8.602347</td>\n",
       "    </tr>\n",
       "    <tr>\n",
       "      <th>18680</th>\n",
       "      <td>86846</td>\n",
       "      <td>chrY</td>\n",
       "      <td>+</td>\n",
       "      <td>3109777-3109856</td>\n",
       "      <td>3002887-3200509</td>\n",
       "      <td>rs2051480392</td>\n",
       "      <td>3109832</td>\n",
       "      <td>3109833</td>\n",
       "      <td>T</td>\n",
       "      <td>G</td>\n",
       "      <td>cagtactaaaaaaacaaaaatcacatgattatctccacagatgcag...</td>\n",
       "      <td>cagtactaaaaaaacaaaaatcacatgattatctccacagatgcag...</td>\n",
       "      <td>ENST00000665487</td>\n",
       "      <td>0.063167</td>\n",
       "      <td>0.963243</td>\n",
       "      <td>0.866991</td>\n",
       "      <td>-8.602347</td>\n",
       "    </tr>\n",
       "  </tbody>\n",
       "</table>\n",
       "<p>2643824 rows × 17 columns</p>\n",
       "</div>"
      ],
      "text/plain": [
       "       index   chr strand Acceptor_coordinates Transcript_coordinates  \\\n",
       "2185    2185  chr1      +    24445144-24445223      24415803-24472976   \n",
       "2215    2215  chr1      +    24445144-24445223      24415814-24466310   \n",
       "2245    2245  chr1      +    24445144-24445223      24415813-24454824   \n",
       "2275    2275  chr1      +    24445144-24445223      24415802-24472976   \n",
       "2791    2791  chr1      +    24458847-24458926      24415803-24472976   \n",
       "...      ...   ...    ...                  ...                    ...   \n",
       "18672  86838  chrY      +      3109777-3109856        3002946-3120600   \n",
       "18674  86840  chrY      +      3109777-3109856        3003001-3110315   \n",
       "18676  86842  chrY      +      3109777-3109856        3002901-3120619   \n",
       "18678  86844  chrY      +      3109777-3109856        3002894-3200509   \n",
       "18680  86846  chrY      +      3109777-3109856        3002887-3200509   \n",
       "\n",
       "           dbsnp_id  varinat_start  variant_end ref_neucleotide  \\\n",
       "2185   rs1450817635       24445172     24445174              TT   \n",
       "2215   rs1450817635       24445172     24445174              TT   \n",
       "2245   rs1450817635       24445172     24445174              TT   \n",
       "2275   rs1450817635       24445172     24445174              TT   \n",
       "2791    rs752041946       24458882     24458883               T   \n",
       "...             ...            ...          ...             ...   \n",
       "18672  rs2051480392        3109832      3109833               T   \n",
       "18674  rs2051480392        3109832      3109833               T   \n",
       "18676  rs2051480392        3109832      3109833               T   \n",
       "18678  rs2051480392        3109832      3109833               T   \n",
       "18680  rs2051480392        3109832      3109833               T   \n",
       "\n",
       "      alternative_neucleotide  \\\n",
       "2185                        T   \n",
       "2215                        T   \n",
       "2245                        T   \n",
       "2275                        T   \n",
       "2791                        A   \n",
       "...                       ...   \n",
       "18672                       G   \n",
       "18674                       G   \n",
       "18676                       G   \n",
       "18678                       G   \n",
       "18680                       G   \n",
       "\n",
       "                                           reference_seq  \\\n",
       "2185   AGCAGCCTCAATTCCCTTTTCTTTGTGCTTCATTTTTCAGCTAGTG...   \n",
       "2215   AGCAGCCTCAATTCCCTTTTCTTTGTGCTTCATTTTTCAGCTAGTG...   \n",
       "2245   AGCAGCCTCAATTCCCTTTTCTTTGTGCTTCATTTTTCAGCTAGTG...   \n",
       "2275   AGCAGCCTCAATTCCCTTTTCTTTGTGCTTCATTTTTCAGCTAGTG...   \n",
       "2791   GTCTCCACAGCCCACTGACTGGAGTGCTTTTGTGTTGAAGGTTTTT...   \n",
       "...                                                  ...   \n",
       "18672  cagtactaaaaaaacaaaaatcacatgattatctccacagatgcag...   \n",
       "18674  cagtactaaaaaaacaaaaatcacatgattatctccacagatgcag...   \n",
       "18676  cagtactaaaaaaacaaaaatcacatgattatctccacagatgcag...   \n",
       "18678  cagtactaaaaaaacaaaaatcacatgattatctccacagatgcag...   \n",
       "18680  cagtactaaaaaaacaaaaatcacatgattatctccacagatgcag...   \n",
       "\n",
       "                                                 alt_seq  \\\n",
       "2185   AGCAGCCTCAATTCCCTTTTCTTTGTGCTCATTTTTCAGCTAGTGC...   \n",
       "2215   AGCAGCCTCAATTCCCTTTTCTTTGTGCTCATTTTTCAGCTAGTGC...   \n",
       "2245   AGCAGCCTCAATTCCCTTTTCTTTGTGCTCATTTTTCAGCTAGTGC...   \n",
       "2275   AGCAGCCTCAATTCCCTTTTCTTTGTGCTCATTTTTCAGCTAGTGC...   \n",
       "2791   GTCTCCACAGCCCACTGACTGGAGTGCTTTTGTGTAGAAGGTTTTT...   \n",
       "...                                                  ...   \n",
       "18672  cagtactaaaaaaacaaaaatcacatgattatctccacagatgcag...   \n",
       "18674  cagtactaaaaaaacaaaaatcacatgattatctccacagatgcag...   \n",
       "18676  cagtactaaaaaaacaaaaatcacatgattatctccacagatgcag...   \n",
       "18678  cagtactaaaaaaacaaaaatcacatgattatctccacagatgcag...   \n",
       "18680  cagtactaaaaaaacaaaaatcacatgattatctccacagatgcag...   \n",
       "\n",
       "      Ensemble_Transcript_ID  Ref_probab  Alt_probab  ScoreChange  LogOddRatio  \n",
       "2185         ENST00000003912    0.999804    0.001602    -0.998007    21.603005  \n",
       "2215         ENST00000339255    0.999804    0.001602    -0.998007    21.603005  \n",
       "2245         ENST00000358028    0.999804    0.001602    -0.998007    21.603005  \n",
       "2275         ENST00000374399    0.999804    0.001602    -0.998007    21.603005  \n",
       "2791         ENST00000003912    0.999993    0.321426    -0.678561    18.123810  \n",
       "...                      ...         ...         ...          ...          ...  \n",
       "18672        ENST00000655607    0.063167    0.963243     0.866991    -8.602347  \n",
       "18674        ENST00000653660    0.063167    0.963243     0.866991    -8.602347  \n",
       "18676        ENST00000691894    0.063167    0.963243     0.866991    -8.602347  \n",
       "18678        ENST00000651090    0.063167    0.963243     0.866991    -8.602347  \n",
       "18680        ENST00000665487    0.063167    0.963243     0.866991    -8.602347  \n",
       "\n",
       "[2643824 rows x 17 columns]"
      ]
     },
     "execution_count": 42,
     "metadata": {},
     "output_type": "execute_result"
    }
   ],
   "source": [
    "df_interest = df_interest[(df_interest['ScoreChange']>0.25)|(df_interest['ScoreChange']<-0.25)]\n",
    "df_interest"
   ]
  },
  {
   "cell_type": "code",
   "execution_count": 43,
   "id": "093f7729-4425-4f0f-8733-0f0d7a090f36",
   "metadata": {},
   "outputs": [
    {
     "data": {
      "text/html": [
       "<div>\n",
       "<style scoped>\n",
       "    .dataframe tbody tr th:only-of-type {\n",
       "        vertical-align: middle;\n",
       "    }\n",
       "\n",
       "    .dataframe tbody tr th {\n",
       "        vertical-align: top;\n",
       "    }\n",
       "\n",
       "    .dataframe thead th {\n",
       "        text-align: right;\n",
       "    }\n",
       "</style>\n",
       "<table border=\"1\" class=\"dataframe\">\n",
       "  <thead>\n",
       "    <tr style=\"text-align: right;\">\n",
       "      <th></th>\n",
       "      <th>index</th>\n",
       "      <th>chr</th>\n",
       "      <th>strand</th>\n",
       "      <th>Acceptor_coordinates</th>\n",
       "      <th>Transcript_coordinates</th>\n",
       "      <th>dbsnp_id</th>\n",
       "      <th>varinat_start</th>\n",
       "      <th>variant_end</th>\n",
       "      <th>ref_neucleotide</th>\n",
       "      <th>alternative_neucleotide</th>\n",
       "      <th>reference_seq</th>\n",
       "      <th>alt_seq</th>\n",
       "      <th>Ensemble_Transcript_ID</th>\n",
       "      <th>Ref_probab</th>\n",
       "      <th>Alt_probab</th>\n",
       "      <th>ScoreChange</th>\n",
       "      <th>LogOddRatio</th>\n",
       "      <th>variant_length</th>\n",
       "    </tr>\n",
       "  </thead>\n",
       "  <tbody>\n",
       "    <tr>\n",
       "      <th>2185</th>\n",
       "      <td>2185</td>\n",
       "      <td>chr1</td>\n",
       "      <td>+</td>\n",
       "      <td>24445144-24445223</td>\n",
       "      <td>24415803-24472976</td>\n",
       "      <td>rs1450817635</td>\n",
       "      <td>24445172</td>\n",
       "      <td>24445174</td>\n",
       "      <td>TT</td>\n",
       "      <td>T</td>\n",
       "      <td>AGCAGCCTCAATTCCCTTTTCTTTGTGCTTCATTTTTCAGCTAGTG...</td>\n",
       "      <td>AGCAGCCTCAATTCCCTTTTCTTTGTGCTCATTTTTCAGCTAGTGC...</td>\n",
       "      <td>ENST00000003912</td>\n",
       "      <td>0.999804</td>\n",
       "      <td>0.001602</td>\n",
       "      <td>-0.998007</td>\n",
       "      <td>21.603005</td>\n",
       "      <td>2</td>\n",
       "    </tr>\n",
       "    <tr>\n",
       "      <th>2215</th>\n",
       "      <td>2215</td>\n",
       "      <td>chr1</td>\n",
       "      <td>+</td>\n",
       "      <td>24445144-24445223</td>\n",
       "      <td>24415814-24466310</td>\n",
       "      <td>rs1450817635</td>\n",
       "      <td>24445172</td>\n",
       "      <td>24445174</td>\n",
       "      <td>TT</td>\n",
       "      <td>T</td>\n",
       "      <td>AGCAGCCTCAATTCCCTTTTCTTTGTGCTTCATTTTTCAGCTAGTG...</td>\n",
       "      <td>AGCAGCCTCAATTCCCTTTTCTTTGTGCTCATTTTTCAGCTAGTGC...</td>\n",
       "      <td>ENST00000339255</td>\n",
       "      <td>0.999804</td>\n",
       "      <td>0.001602</td>\n",
       "      <td>-0.998007</td>\n",
       "      <td>21.603005</td>\n",
       "      <td>2</td>\n",
       "    </tr>\n",
       "    <tr>\n",
       "      <th>2245</th>\n",
       "      <td>2245</td>\n",
       "      <td>chr1</td>\n",
       "      <td>+</td>\n",
       "      <td>24445144-24445223</td>\n",
       "      <td>24415813-24454824</td>\n",
       "      <td>rs1450817635</td>\n",
       "      <td>24445172</td>\n",
       "      <td>24445174</td>\n",
       "      <td>TT</td>\n",
       "      <td>T</td>\n",
       "      <td>AGCAGCCTCAATTCCCTTTTCTTTGTGCTTCATTTTTCAGCTAGTG...</td>\n",
       "      <td>AGCAGCCTCAATTCCCTTTTCTTTGTGCTCATTTTTCAGCTAGTGC...</td>\n",
       "      <td>ENST00000358028</td>\n",
       "      <td>0.999804</td>\n",
       "      <td>0.001602</td>\n",
       "      <td>-0.998007</td>\n",
       "      <td>21.603005</td>\n",
       "      <td>2</td>\n",
       "    </tr>\n",
       "    <tr>\n",
       "      <th>2275</th>\n",
       "      <td>2275</td>\n",
       "      <td>chr1</td>\n",
       "      <td>+</td>\n",
       "      <td>24445144-24445223</td>\n",
       "      <td>24415802-24472976</td>\n",
       "      <td>rs1450817635</td>\n",
       "      <td>24445172</td>\n",
       "      <td>24445174</td>\n",
       "      <td>TT</td>\n",
       "      <td>T</td>\n",
       "      <td>AGCAGCCTCAATTCCCTTTTCTTTGTGCTTCATTTTTCAGCTAGTG...</td>\n",
       "      <td>AGCAGCCTCAATTCCCTTTTCTTTGTGCTCATTTTTCAGCTAGTGC...</td>\n",
       "      <td>ENST00000374399</td>\n",
       "      <td>0.999804</td>\n",
       "      <td>0.001602</td>\n",
       "      <td>-0.998007</td>\n",
       "      <td>21.603005</td>\n",
       "      <td>2</td>\n",
       "    </tr>\n",
       "    <tr>\n",
       "      <th>2791</th>\n",
       "      <td>2791</td>\n",
       "      <td>chr1</td>\n",
       "      <td>+</td>\n",
       "      <td>24458847-24458926</td>\n",
       "      <td>24415803-24472976</td>\n",
       "      <td>rs752041946</td>\n",
       "      <td>24458882</td>\n",
       "      <td>24458883</td>\n",
       "      <td>T</td>\n",
       "      <td>A</td>\n",
       "      <td>GTCTCCACAGCCCACTGACTGGAGTGCTTTTGTGTTGAAGGTTTTT...</td>\n",
       "      <td>GTCTCCACAGCCCACTGACTGGAGTGCTTTTGTGTAGAAGGTTTTT...</td>\n",
       "      <td>ENST00000003912</td>\n",
       "      <td>0.999993</td>\n",
       "      <td>0.321426</td>\n",
       "      <td>-0.678561</td>\n",
       "      <td>18.123810</td>\n",
       "      <td>1</td>\n",
       "    </tr>\n",
       "    <tr>\n",
       "      <th>...</th>\n",
       "      <td>...</td>\n",
       "      <td>...</td>\n",
       "      <td>...</td>\n",
       "      <td>...</td>\n",
       "      <td>...</td>\n",
       "      <td>...</td>\n",
       "      <td>...</td>\n",
       "      <td>...</td>\n",
       "      <td>...</td>\n",
       "      <td>...</td>\n",
       "      <td>...</td>\n",
       "      <td>...</td>\n",
       "      <td>...</td>\n",
       "      <td>...</td>\n",
       "      <td>...</td>\n",
       "      <td>...</td>\n",
       "      <td>...</td>\n",
       "      <td>...</td>\n",
       "    </tr>\n",
       "    <tr>\n",
       "      <th>18672</th>\n",
       "      <td>86838</td>\n",
       "      <td>chrY</td>\n",
       "      <td>+</td>\n",
       "      <td>3109777-3109856</td>\n",
       "      <td>3002946-3120600</td>\n",
       "      <td>rs2051480392</td>\n",
       "      <td>3109832</td>\n",
       "      <td>3109833</td>\n",
       "      <td>T</td>\n",
       "      <td>G</td>\n",
       "      <td>cagtactaaaaaaacaaaaatcacatgattatctccacagatgcag...</td>\n",
       "      <td>cagtactaaaaaaacaaaaatcacatgattatctccacagatgcag...</td>\n",
       "      <td>ENST00000655607</td>\n",
       "      <td>0.063167</td>\n",
       "      <td>0.963243</td>\n",
       "      <td>0.866991</td>\n",
       "      <td>-8.602347</td>\n",
       "      <td>1</td>\n",
       "    </tr>\n",
       "    <tr>\n",
       "      <th>18674</th>\n",
       "      <td>86840</td>\n",
       "      <td>chrY</td>\n",
       "      <td>+</td>\n",
       "      <td>3109777-3109856</td>\n",
       "      <td>3003001-3110315</td>\n",
       "      <td>rs2051480392</td>\n",
       "      <td>3109832</td>\n",
       "      <td>3109833</td>\n",
       "      <td>T</td>\n",
       "      <td>G</td>\n",
       "      <td>cagtactaaaaaaacaaaaatcacatgattatctccacagatgcag...</td>\n",
       "      <td>cagtactaaaaaaacaaaaatcacatgattatctccacagatgcag...</td>\n",
       "      <td>ENST00000653660</td>\n",
       "      <td>0.063167</td>\n",
       "      <td>0.963243</td>\n",
       "      <td>0.866991</td>\n",
       "      <td>-8.602347</td>\n",
       "      <td>1</td>\n",
       "    </tr>\n",
       "    <tr>\n",
       "      <th>18676</th>\n",
       "      <td>86842</td>\n",
       "      <td>chrY</td>\n",
       "      <td>+</td>\n",
       "      <td>3109777-3109856</td>\n",
       "      <td>3002901-3120619</td>\n",
       "      <td>rs2051480392</td>\n",
       "      <td>3109832</td>\n",
       "      <td>3109833</td>\n",
       "      <td>T</td>\n",
       "      <td>G</td>\n",
       "      <td>cagtactaaaaaaacaaaaatcacatgattatctccacagatgcag...</td>\n",
       "      <td>cagtactaaaaaaacaaaaatcacatgattatctccacagatgcag...</td>\n",
       "      <td>ENST00000691894</td>\n",
       "      <td>0.063167</td>\n",
       "      <td>0.963243</td>\n",
       "      <td>0.866991</td>\n",
       "      <td>-8.602347</td>\n",
       "      <td>1</td>\n",
       "    </tr>\n",
       "    <tr>\n",
       "      <th>18678</th>\n",
       "      <td>86844</td>\n",
       "      <td>chrY</td>\n",
       "      <td>+</td>\n",
       "      <td>3109777-3109856</td>\n",
       "      <td>3002894-3200509</td>\n",
       "      <td>rs2051480392</td>\n",
       "      <td>3109832</td>\n",
       "      <td>3109833</td>\n",
       "      <td>T</td>\n",
       "      <td>G</td>\n",
       "      <td>cagtactaaaaaaacaaaaatcacatgattatctccacagatgcag...</td>\n",
       "      <td>cagtactaaaaaaacaaaaatcacatgattatctccacagatgcag...</td>\n",
       "      <td>ENST00000651090</td>\n",
       "      <td>0.063167</td>\n",
       "      <td>0.963243</td>\n",
       "      <td>0.866991</td>\n",
       "      <td>-8.602347</td>\n",
       "      <td>1</td>\n",
       "    </tr>\n",
       "    <tr>\n",
       "      <th>18680</th>\n",
       "      <td>86846</td>\n",
       "      <td>chrY</td>\n",
       "      <td>+</td>\n",
       "      <td>3109777-3109856</td>\n",
       "      <td>3002887-3200509</td>\n",
       "      <td>rs2051480392</td>\n",
       "      <td>3109832</td>\n",
       "      <td>3109833</td>\n",
       "      <td>T</td>\n",
       "      <td>G</td>\n",
       "      <td>cagtactaaaaaaacaaaaatcacatgattatctccacagatgcag...</td>\n",
       "      <td>cagtactaaaaaaacaaaaatcacatgattatctccacagatgcag...</td>\n",
       "      <td>ENST00000665487</td>\n",
       "      <td>0.063167</td>\n",
       "      <td>0.963243</td>\n",
       "      <td>0.866991</td>\n",
       "      <td>-8.602347</td>\n",
       "      <td>1</td>\n",
       "    </tr>\n",
       "  </tbody>\n",
       "</table>\n",
       "<p>2643824 rows × 18 columns</p>\n",
       "</div>"
      ],
      "text/plain": [
       "       index   chr strand Acceptor_coordinates Transcript_coordinates  \\\n",
       "2185    2185  chr1      +    24445144-24445223      24415803-24472976   \n",
       "2215    2215  chr1      +    24445144-24445223      24415814-24466310   \n",
       "2245    2245  chr1      +    24445144-24445223      24415813-24454824   \n",
       "2275    2275  chr1      +    24445144-24445223      24415802-24472976   \n",
       "2791    2791  chr1      +    24458847-24458926      24415803-24472976   \n",
       "...      ...   ...    ...                  ...                    ...   \n",
       "18672  86838  chrY      +      3109777-3109856        3002946-3120600   \n",
       "18674  86840  chrY      +      3109777-3109856        3003001-3110315   \n",
       "18676  86842  chrY      +      3109777-3109856        3002901-3120619   \n",
       "18678  86844  chrY      +      3109777-3109856        3002894-3200509   \n",
       "18680  86846  chrY      +      3109777-3109856        3002887-3200509   \n",
       "\n",
       "           dbsnp_id  varinat_start  variant_end ref_neucleotide  \\\n",
       "2185   rs1450817635       24445172     24445174              TT   \n",
       "2215   rs1450817635       24445172     24445174              TT   \n",
       "2245   rs1450817635       24445172     24445174              TT   \n",
       "2275   rs1450817635       24445172     24445174              TT   \n",
       "2791    rs752041946       24458882     24458883               T   \n",
       "...             ...            ...          ...             ...   \n",
       "18672  rs2051480392        3109832      3109833               T   \n",
       "18674  rs2051480392        3109832      3109833               T   \n",
       "18676  rs2051480392        3109832      3109833               T   \n",
       "18678  rs2051480392        3109832      3109833               T   \n",
       "18680  rs2051480392        3109832      3109833               T   \n",
       "\n",
       "      alternative_neucleotide  \\\n",
       "2185                        T   \n",
       "2215                        T   \n",
       "2245                        T   \n",
       "2275                        T   \n",
       "2791                        A   \n",
       "...                       ...   \n",
       "18672                       G   \n",
       "18674                       G   \n",
       "18676                       G   \n",
       "18678                       G   \n",
       "18680                       G   \n",
       "\n",
       "                                           reference_seq  \\\n",
       "2185   AGCAGCCTCAATTCCCTTTTCTTTGTGCTTCATTTTTCAGCTAGTG...   \n",
       "2215   AGCAGCCTCAATTCCCTTTTCTTTGTGCTTCATTTTTCAGCTAGTG...   \n",
       "2245   AGCAGCCTCAATTCCCTTTTCTTTGTGCTTCATTTTTCAGCTAGTG...   \n",
       "2275   AGCAGCCTCAATTCCCTTTTCTTTGTGCTTCATTTTTCAGCTAGTG...   \n",
       "2791   GTCTCCACAGCCCACTGACTGGAGTGCTTTTGTGTTGAAGGTTTTT...   \n",
       "...                                                  ...   \n",
       "18672  cagtactaaaaaaacaaaaatcacatgattatctccacagatgcag...   \n",
       "18674  cagtactaaaaaaacaaaaatcacatgattatctccacagatgcag...   \n",
       "18676  cagtactaaaaaaacaaaaatcacatgattatctccacagatgcag...   \n",
       "18678  cagtactaaaaaaacaaaaatcacatgattatctccacagatgcag...   \n",
       "18680  cagtactaaaaaaacaaaaatcacatgattatctccacagatgcag...   \n",
       "\n",
       "                                                 alt_seq  \\\n",
       "2185   AGCAGCCTCAATTCCCTTTTCTTTGTGCTCATTTTTCAGCTAGTGC...   \n",
       "2215   AGCAGCCTCAATTCCCTTTTCTTTGTGCTCATTTTTCAGCTAGTGC...   \n",
       "2245   AGCAGCCTCAATTCCCTTTTCTTTGTGCTCATTTTTCAGCTAGTGC...   \n",
       "2275   AGCAGCCTCAATTCCCTTTTCTTTGTGCTCATTTTTCAGCTAGTGC...   \n",
       "2791   GTCTCCACAGCCCACTGACTGGAGTGCTTTTGTGTAGAAGGTTTTT...   \n",
       "...                                                  ...   \n",
       "18672  cagtactaaaaaaacaaaaatcacatgattatctccacagatgcag...   \n",
       "18674  cagtactaaaaaaacaaaaatcacatgattatctccacagatgcag...   \n",
       "18676  cagtactaaaaaaacaaaaatcacatgattatctccacagatgcag...   \n",
       "18678  cagtactaaaaaaacaaaaatcacatgattatctccacagatgcag...   \n",
       "18680  cagtactaaaaaaacaaaaatcacatgattatctccacagatgcag...   \n",
       "\n",
       "      Ensemble_Transcript_ID  Ref_probab  Alt_probab  ScoreChange  \\\n",
       "2185         ENST00000003912    0.999804    0.001602    -0.998007   \n",
       "2215         ENST00000339255    0.999804    0.001602    -0.998007   \n",
       "2245         ENST00000358028    0.999804    0.001602    -0.998007   \n",
       "2275         ENST00000374399    0.999804    0.001602    -0.998007   \n",
       "2791         ENST00000003912    0.999993    0.321426    -0.678561   \n",
       "...                      ...         ...         ...          ...   \n",
       "18672        ENST00000655607    0.063167    0.963243     0.866991   \n",
       "18674        ENST00000653660    0.063167    0.963243     0.866991   \n",
       "18676        ENST00000691894    0.063167    0.963243     0.866991   \n",
       "18678        ENST00000651090    0.063167    0.963243     0.866991   \n",
       "18680        ENST00000665487    0.063167    0.963243     0.866991   \n",
       "\n",
       "       LogOddRatio  variant_length  \n",
       "2185     21.603005               2  \n",
       "2215     21.603005               2  \n",
       "2245     21.603005               2  \n",
       "2275     21.603005               2  \n",
       "2791     18.123810               1  \n",
       "...            ...             ...  \n",
       "18672    -8.602347               1  \n",
       "18674    -8.602347               1  \n",
       "18676    -8.602347               1  \n",
       "18678    -8.602347               1  \n",
       "18680    -8.602347               1  \n",
       "\n",
       "[2643824 rows x 18 columns]"
      ]
     },
     "execution_count": 43,
     "metadata": {},
     "output_type": "execute_result"
    }
   ],
   "source": [
    "#df_interest['Z_Score'] = stats.zscore(df['LogOddRatio'])\n",
    "df_interest['variant_length'] = df_interest['variant_end']-df_interest['varinat_start']\n",
    "df_interest"
   ]
  },
  {
   "cell_type": "code",
   "execution_count": 44,
   "id": "bceb589c-c238-4ff7-ac3f-2d4924d0013e",
   "metadata": {},
   "outputs": [
    {
     "data": {
      "text/html": [
       "<div>\n",
       "<style scoped>\n",
       "    .dataframe tbody tr th:only-of-type {\n",
       "        vertical-align: middle;\n",
       "    }\n",
       "\n",
       "    .dataframe tbody tr th {\n",
       "        vertical-align: top;\n",
       "    }\n",
       "\n",
       "    .dataframe thead th {\n",
       "        text-align: right;\n",
       "    }\n",
       "</style>\n",
       "<table border=\"1\" class=\"dataframe\">\n",
       "  <thead>\n",
       "    <tr style=\"text-align: right;\">\n",
       "      <th></th>\n",
       "      <th>index</th>\n",
       "      <th>chr</th>\n",
       "      <th>strand</th>\n",
       "      <th>Acceptor_coordinates</th>\n",
       "      <th>Transcript_coordinates</th>\n",
       "      <th>dbsnp_id</th>\n",
       "      <th>varinat_start</th>\n",
       "      <th>variant_end</th>\n",
       "      <th>ref_neucleotide</th>\n",
       "      <th>alternative_neucleotide</th>\n",
       "      <th>reference_seq</th>\n",
       "      <th>alt_seq</th>\n",
       "      <th>Ensemble_Transcript_ID</th>\n",
       "      <th>Ref_probab</th>\n",
       "      <th>Alt_probab</th>\n",
       "      <th>ScoreChange</th>\n",
       "      <th>LogOddRatio</th>\n",
       "      <th>variant_length</th>\n",
       "    </tr>\n",
       "  </thead>\n",
       "  <tbody>\n",
       "    <tr>\n",
       "      <th>2185</th>\n",
       "      <td>2185</td>\n",
       "      <td>chr1</td>\n",
       "      <td>+</td>\n",
       "      <td>24445144-24445223</td>\n",
       "      <td>24415803-24472976</td>\n",
       "      <td>rs1450817635</td>\n",
       "      <td>24445172</td>\n",
       "      <td>24445174</td>\n",
       "      <td>TT</td>\n",
       "      <td>T</td>\n",
       "      <td>AGCAGCCTCAATTCCCTTTTCTTTGTGCTTCATTTTTCAGCTAGTG...</td>\n",
       "      <td>AGCAGCCTCAATTCCCTTTTCTTTGTGCTCATTTTTCAGCTAGTGC...</td>\n",
       "      <td>ENST00000003912</td>\n",
       "      <td>0.999804</td>\n",
       "      <td>0.001602</td>\n",
       "      <td>-0.998007</td>\n",
       "      <td>21.603005</td>\n",
       "      <td>2</td>\n",
       "    </tr>\n",
       "    <tr>\n",
       "      <th>2215</th>\n",
       "      <td>2215</td>\n",
       "      <td>chr1</td>\n",
       "      <td>+</td>\n",
       "      <td>24445144-24445223</td>\n",
       "      <td>24415814-24466310</td>\n",
       "      <td>rs1450817635</td>\n",
       "      <td>24445172</td>\n",
       "      <td>24445174</td>\n",
       "      <td>TT</td>\n",
       "      <td>T</td>\n",
       "      <td>AGCAGCCTCAATTCCCTTTTCTTTGTGCTTCATTTTTCAGCTAGTG...</td>\n",
       "      <td>AGCAGCCTCAATTCCCTTTTCTTTGTGCTCATTTTTCAGCTAGTGC...</td>\n",
       "      <td>ENST00000339255</td>\n",
       "      <td>0.999804</td>\n",
       "      <td>0.001602</td>\n",
       "      <td>-0.998007</td>\n",
       "      <td>21.603005</td>\n",
       "      <td>2</td>\n",
       "    </tr>\n",
       "    <tr>\n",
       "      <th>2245</th>\n",
       "      <td>2245</td>\n",
       "      <td>chr1</td>\n",
       "      <td>+</td>\n",
       "      <td>24445144-24445223</td>\n",
       "      <td>24415813-24454824</td>\n",
       "      <td>rs1450817635</td>\n",
       "      <td>24445172</td>\n",
       "      <td>24445174</td>\n",
       "      <td>TT</td>\n",
       "      <td>T</td>\n",
       "      <td>AGCAGCCTCAATTCCCTTTTCTTTGTGCTTCATTTTTCAGCTAGTG...</td>\n",
       "      <td>AGCAGCCTCAATTCCCTTTTCTTTGTGCTCATTTTTCAGCTAGTGC...</td>\n",
       "      <td>ENST00000358028</td>\n",
       "      <td>0.999804</td>\n",
       "      <td>0.001602</td>\n",
       "      <td>-0.998007</td>\n",
       "      <td>21.603005</td>\n",
       "      <td>2</td>\n",
       "    </tr>\n",
       "    <tr>\n",
       "      <th>2275</th>\n",
       "      <td>2275</td>\n",
       "      <td>chr1</td>\n",
       "      <td>+</td>\n",
       "      <td>24445144-24445223</td>\n",
       "      <td>24415802-24472976</td>\n",
       "      <td>rs1450817635</td>\n",
       "      <td>24445172</td>\n",
       "      <td>24445174</td>\n",
       "      <td>TT</td>\n",
       "      <td>T</td>\n",
       "      <td>AGCAGCCTCAATTCCCTTTTCTTTGTGCTTCATTTTTCAGCTAGTG...</td>\n",
       "      <td>AGCAGCCTCAATTCCCTTTTCTTTGTGCTCATTTTTCAGCTAGTGC...</td>\n",
       "      <td>ENST00000374399</td>\n",
       "      <td>0.999804</td>\n",
       "      <td>0.001602</td>\n",
       "      <td>-0.998007</td>\n",
       "      <td>21.603005</td>\n",
       "      <td>2</td>\n",
       "    </tr>\n",
       "    <tr>\n",
       "      <th>2791</th>\n",
       "      <td>2791</td>\n",
       "      <td>chr1</td>\n",
       "      <td>+</td>\n",
       "      <td>24458847-24458926</td>\n",
       "      <td>24415803-24472976</td>\n",
       "      <td>rs752041946</td>\n",
       "      <td>24458882</td>\n",
       "      <td>24458883</td>\n",
       "      <td>T</td>\n",
       "      <td>A</td>\n",
       "      <td>GTCTCCACAGCCCACTGACTGGAGTGCTTTTGTGTTGAAGGTTTTT...</td>\n",
       "      <td>GTCTCCACAGCCCACTGACTGGAGTGCTTTTGTGTAGAAGGTTTTT...</td>\n",
       "      <td>ENST00000003912</td>\n",
       "      <td>0.999993</td>\n",
       "      <td>0.321426</td>\n",
       "      <td>-0.678561</td>\n",
       "      <td>18.123810</td>\n",
       "      <td>1</td>\n",
       "    </tr>\n",
       "    <tr>\n",
       "      <th>...</th>\n",
       "      <td>...</td>\n",
       "      <td>...</td>\n",
       "      <td>...</td>\n",
       "      <td>...</td>\n",
       "      <td>...</td>\n",
       "      <td>...</td>\n",
       "      <td>...</td>\n",
       "      <td>...</td>\n",
       "      <td>...</td>\n",
       "      <td>...</td>\n",
       "      <td>...</td>\n",
       "      <td>...</td>\n",
       "      <td>...</td>\n",
       "      <td>...</td>\n",
       "      <td>...</td>\n",
       "      <td>...</td>\n",
       "      <td>...</td>\n",
       "      <td>...</td>\n",
       "    </tr>\n",
       "    <tr>\n",
       "      <th>18672</th>\n",
       "      <td>86838</td>\n",
       "      <td>chrY</td>\n",
       "      <td>+</td>\n",
       "      <td>3109777-3109856</td>\n",
       "      <td>3002946-3120600</td>\n",
       "      <td>rs2051480392</td>\n",
       "      <td>3109832</td>\n",
       "      <td>3109833</td>\n",
       "      <td>T</td>\n",
       "      <td>G</td>\n",
       "      <td>cagtactaaaaaaacaaaaatcacatgattatctccacagatgcag...</td>\n",
       "      <td>cagtactaaaaaaacaaaaatcacatgattatctccacagatgcag...</td>\n",
       "      <td>ENST00000655607</td>\n",
       "      <td>0.063167</td>\n",
       "      <td>0.963243</td>\n",
       "      <td>0.866991</td>\n",
       "      <td>-8.602347</td>\n",
       "      <td>1</td>\n",
       "    </tr>\n",
       "    <tr>\n",
       "      <th>18674</th>\n",
       "      <td>86840</td>\n",
       "      <td>chrY</td>\n",
       "      <td>+</td>\n",
       "      <td>3109777-3109856</td>\n",
       "      <td>3003001-3110315</td>\n",
       "      <td>rs2051480392</td>\n",
       "      <td>3109832</td>\n",
       "      <td>3109833</td>\n",
       "      <td>T</td>\n",
       "      <td>G</td>\n",
       "      <td>cagtactaaaaaaacaaaaatcacatgattatctccacagatgcag...</td>\n",
       "      <td>cagtactaaaaaaacaaaaatcacatgattatctccacagatgcag...</td>\n",
       "      <td>ENST00000653660</td>\n",
       "      <td>0.063167</td>\n",
       "      <td>0.963243</td>\n",
       "      <td>0.866991</td>\n",
       "      <td>-8.602347</td>\n",
       "      <td>1</td>\n",
       "    </tr>\n",
       "    <tr>\n",
       "      <th>18676</th>\n",
       "      <td>86842</td>\n",
       "      <td>chrY</td>\n",
       "      <td>+</td>\n",
       "      <td>3109777-3109856</td>\n",
       "      <td>3002901-3120619</td>\n",
       "      <td>rs2051480392</td>\n",
       "      <td>3109832</td>\n",
       "      <td>3109833</td>\n",
       "      <td>T</td>\n",
       "      <td>G</td>\n",
       "      <td>cagtactaaaaaaacaaaaatcacatgattatctccacagatgcag...</td>\n",
       "      <td>cagtactaaaaaaacaaaaatcacatgattatctccacagatgcag...</td>\n",
       "      <td>ENST00000691894</td>\n",
       "      <td>0.063167</td>\n",
       "      <td>0.963243</td>\n",
       "      <td>0.866991</td>\n",
       "      <td>-8.602347</td>\n",
       "      <td>1</td>\n",
       "    </tr>\n",
       "    <tr>\n",
       "      <th>18678</th>\n",
       "      <td>86844</td>\n",
       "      <td>chrY</td>\n",
       "      <td>+</td>\n",
       "      <td>3109777-3109856</td>\n",
       "      <td>3002894-3200509</td>\n",
       "      <td>rs2051480392</td>\n",
       "      <td>3109832</td>\n",
       "      <td>3109833</td>\n",
       "      <td>T</td>\n",
       "      <td>G</td>\n",
       "      <td>cagtactaaaaaaacaaaaatcacatgattatctccacagatgcag...</td>\n",
       "      <td>cagtactaaaaaaacaaaaatcacatgattatctccacagatgcag...</td>\n",
       "      <td>ENST00000651090</td>\n",
       "      <td>0.063167</td>\n",
       "      <td>0.963243</td>\n",
       "      <td>0.866991</td>\n",
       "      <td>-8.602347</td>\n",
       "      <td>1</td>\n",
       "    </tr>\n",
       "    <tr>\n",
       "      <th>18680</th>\n",
       "      <td>86846</td>\n",
       "      <td>chrY</td>\n",
       "      <td>+</td>\n",
       "      <td>3109777-3109856</td>\n",
       "      <td>3002887-3200509</td>\n",
       "      <td>rs2051480392</td>\n",
       "      <td>3109832</td>\n",
       "      <td>3109833</td>\n",
       "      <td>T</td>\n",
       "      <td>G</td>\n",
       "      <td>cagtactaaaaaaacaaaaatcacatgattatctccacagatgcag...</td>\n",
       "      <td>cagtactaaaaaaacaaaaatcacatgattatctccacagatgcag...</td>\n",
       "      <td>ENST00000665487</td>\n",
       "      <td>0.063167</td>\n",
       "      <td>0.963243</td>\n",
       "      <td>0.866991</td>\n",
       "      <td>-8.602347</td>\n",
       "      <td>1</td>\n",
       "    </tr>\n",
       "  </tbody>\n",
       "</table>\n",
       "<p>2091261 rows × 18 columns</p>\n",
       "</div>"
      ],
      "text/plain": [
       "       index   chr strand Acceptor_coordinates Transcript_coordinates  \\\n",
       "2185    2185  chr1      +    24445144-24445223      24415803-24472976   \n",
       "2215    2215  chr1      +    24445144-24445223      24415814-24466310   \n",
       "2245    2245  chr1      +    24445144-24445223      24415813-24454824   \n",
       "2275    2275  chr1      +    24445144-24445223      24415802-24472976   \n",
       "2791    2791  chr1      +    24458847-24458926      24415803-24472976   \n",
       "...      ...   ...    ...                  ...                    ...   \n",
       "18672  86838  chrY      +      3109777-3109856        3002946-3120600   \n",
       "18674  86840  chrY      +      3109777-3109856        3003001-3110315   \n",
       "18676  86842  chrY      +      3109777-3109856        3002901-3120619   \n",
       "18678  86844  chrY      +      3109777-3109856        3002894-3200509   \n",
       "18680  86846  chrY      +      3109777-3109856        3002887-3200509   \n",
       "\n",
       "           dbsnp_id  varinat_start  variant_end ref_neucleotide  \\\n",
       "2185   rs1450817635       24445172     24445174              TT   \n",
       "2215   rs1450817635       24445172     24445174              TT   \n",
       "2245   rs1450817635       24445172     24445174              TT   \n",
       "2275   rs1450817635       24445172     24445174              TT   \n",
       "2791    rs752041946       24458882     24458883               T   \n",
       "...             ...            ...          ...             ...   \n",
       "18672  rs2051480392        3109832      3109833               T   \n",
       "18674  rs2051480392        3109832      3109833               T   \n",
       "18676  rs2051480392        3109832      3109833               T   \n",
       "18678  rs2051480392        3109832      3109833               T   \n",
       "18680  rs2051480392        3109832      3109833               T   \n",
       "\n",
       "      alternative_neucleotide  \\\n",
       "2185                        T   \n",
       "2215                        T   \n",
       "2245                        T   \n",
       "2275                        T   \n",
       "2791                        A   \n",
       "...                       ...   \n",
       "18672                       G   \n",
       "18674                       G   \n",
       "18676                       G   \n",
       "18678                       G   \n",
       "18680                       G   \n",
       "\n",
       "                                           reference_seq  \\\n",
       "2185   AGCAGCCTCAATTCCCTTTTCTTTGTGCTTCATTTTTCAGCTAGTG...   \n",
       "2215   AGCAGCCTCAATTCCCTTTTCTTTGTGCTTCATTTTTCAGCTAGTG...   \n",
       "2245   AGCAGCCTCAATTCCCTTTTCTTTGTGCTTCATTTTTCAGCTAGTG...   \n",
       "2275   AGCAGCCTCAATTCCCTTTTCTTTGTGCTTCATTTTTCAGCTAGTG...   \n",
       "2791   GTCTCCACAGCCCACTGACTGGAGTGCTTTTGTGTTGAAGGTTTTT...   \n",
       "...                                                  ...   \n",
       "18672  cagtactaaaaaaacaaaaatcacatgattatctccacagatgcag...   \n",
       "18674  cagtactaaaaaaacaaaaatcacatgattatctccacagatgcag...   \n",
       "18676  cagtactaaaaaaacaaaaatcacatgattatctccacagatgcag...   \n",
       "18678  cagtactaaaaaaacaaaaatcacatgattatctccacagatgcag...   \n",
       "18680  cagtactaaaaaaacaaaaatcacatgattatctccacagatgcag...   \n",
       "\n",
       "                                                 alt_seq  \\\n",
       "2185   AGCAGCCTCAATTCCCTTTTCTTTGTGCTCATTTTTCAGCTAGTGC...   \n",
       "2215   AGCAGCCTCAATTCCCTTTTCTTTGTGCTCATTTTTCAGCTAGTGC...   \n",
       "2245   AGCAGCCTCAATTCCCTTTTCTTTGTGCTCATTTTTCAGCTAGTGC...   \n",
       "2275   AGCAGCCTCAATTCCCTTTTCTTTGTGCTCATTTTTCAGCTAGTGC...   \n",
       "2791   GTCTCCACAGCCCACTGACTGGAGTGCTTTTGTGTAGAAGGTTTTT...   \n",
       "...                                                  ...   \n",
       "18672  cagtactaaaaaaacaaaaatcacatgattatctccacagatgcag...   \n",
       "18674  cagtactaaaaaaacaaaaatcacatgattatctccacagatgcag...   \n",
       "18676  cagtactaaaaaaacaaaaatcacatgattatctccacagatgcag...   \n",
       "18678  cagtactaaaaaaacaaaaatcacatgattatctccacagatgcag...   \n",
       "18680  cagtactaaaaaaacaaaaatcacatgattatctccacagatgcag...   \n",
       "\n",
       "      Ensemble_Transcript_ID  Ref_probab  Alt_probab  ScoreChange  \\\n",
       "2185         ENST00000003912    0.999804    0.001602    -0.998007   \n",
       "2215         ENST00000339255    0.999804    0.001602    -0.998007   \n",
       "2245         ENST00000358028    0.999804    0.001602    -0.998007   \n",
       "2275         ENST00000374399    0.999804    0.001602    -0.998007   \n",
       "2791         ENST00000003912    0.999993    0.321426    -0.678561   \n",
       "...                      ...         ...         ...          ...   \n",
       "18672        ENST00000655607    0.063167    0.963243     0.866991   \n",
       "18674        ENST00000653660    0.063167    0.963243     0.866991   \n",
       "18676        ENST00000691894    0.063167    0.963243     0.866991   \n",
       "18678        ENST00000651090    0.063167    0.963243     0.866991   \n",
       "18680        ENST00000665487    0.063167    0.963243     0.866991   \n",
       "\n",
       "       LogOddRatio  variant_length  \n",
       "2185     21.603005               2  \n",
       "2215     21.603005               2  \n",
       "2245     21.603005               2  \n",
       "2275     21.603005               2  \n",
       "2791     18.123810               1  \n",
       "...            ...             ...  \n",
       "18672    -8.602347               1  \n",
       "18674    -8.602347               1  \n",
       "18676    -8.602347               1  \n",
       "18678    -8.602347               1  \n",
       "18680    -8.602347               1  \n",
       "\n",
       "[2091261 rows x 18 columns]"
      ]
     },
     "execution_count": 44,
     "metadata": {},
     "output_type": "execute_result"
    }
   ],
   "source": [
    "df_interest = df_interest[df_interest['variant_length']<=3]\n",
    "df_interest"
   ]
  },
  {
   "cell_type": "code",
   "execution_count": 45,
   "id": "c23b28a0-db15-486d-9bfc-2d270bb0a01b",
   "metadata": {},
   "outputs": [
    {
     "name": "stdout",
     "output_type": "stream",
     "text": [
      "2.5512946294542354 12.090316101491183\n"
     ]
    }
   ],
   "source": [
    "mean = df_interest['LogOddRatio'].mean()\n",
    "std = df_interest['LogOddRatio'].std()\n",
    "print(mean, std)"
   ]
  },
  {
   "cell_type": "code",
   "execution_count": 46,
   "id": "e3d80ca2-c6de-4fbf-837b-d16d8a6c97fa",
   "metadata": {},
   "outputs": [],
   "source": [
    "#z_score, p_value = ztest(x1= df_interest['LogOddRatio'], value = mean)"
   ]
  },
  {
   "cell_type": "code",
   "execution_count": 47,
   "id": "ce700e5c-708b-4214-9cab-695a2f53a80b",
   "metadata": {},
   "outputs": [
    {
     "name": "stdout",
     "output_type": "stream",
     "text": [
      "-3.3219280948873626 3.3219280948873626\n"
     ]
    },
    {
     "data": {
      "image/png": "[encoded data removed]",
      "text/plain": [
       "<Figure size 640x480 with 1 Axes>"
      ]
     },
     "metadata": {},
     "output_type": "display_data"
    }
   ],
   "source": [
    "#print(z_score, p_value)\n",
    "# Plot the distribution of 'LogOddRatio'\n",
    "\n",
    "sns.kdeplot(df_interest['LogOddRatio'], fill=True, linewidth=1)\n",
    "\n",
    "# # # Get the extreme values for a two tailed test at alpha = 0.05\n",
    "# z_critical = norm.ppf(1 - 0.05/2) # two-tailed test at alpha = 0.05\n",
    "\n",
    "\n",
    "# print(z_critical)\n",
    "#x1, x2 = mean + 3*std, mean - 3*std\n",
    "x1= 3.3219280948873626\n",
    "x2 =-3.3219280948873626\n",
    "print(x2, x1)\n",
    "\n",
    "# Shade the area for the two tailed test\n",
    "plt.axvspan(min(df_interest['LogOddRatio']), x2, alpha=0.3, color='red')\n",
    "plt.axvspan(x1, max(df_interest['LogOddRatio']), alpha=0.3, color='red')\n",
    "\n",
    "# Add the observed z-score\n",
    "# plt.text(-17, 0.5, f'Left-tail value = {x2:.2f}', color='blue', ha='left', va='center')\n",
    "# plt.text(-3, 0.54, f'Right-tail value = {x1:.2f}', color='blue', ha='right', va='center')\n",
    "\n",
    "plt.title(f'Distribution of Relative Log Fold changes of Odds for Acceptor Model \\n Left-tail value = {x2:.2f};  Right-tail value = {x1:.2f}')\n",
    "plt.savefig('Acceptor_LogOddRatio_Distribution.png')\n",
    "plt.show()"
   ]
  },
  {
   "cell_type": "code",
   "execution_count": 48,
   "id": "84f0d768-0f1c-4849-b351-7c833586c8d6",
   "metadata": {},
   "outputs": [],
   "source": [
    "df_selected = df_interest[(df_interest['LogOddRatio']> x1)|(df_interest['LogOddRatio']<  x2)]"
   ]
  },
  {
   "cell_type": "code",
   "execution_count": 49,
   "id": "04057128-4ea0-4ec6-a6ad-c4ec91076780",
   "metadata": {},
   "outputs": [
    {
     "data": {
      "text/html": [
       "<div>\n",
       "<style scoped>\n",
       "    .dataframe tbody tr th:only-of-type {\n",
       "        vertical-align: middle;\n",
       "    }\n",
       "\n",
       "    .dataframe tbody tr th {\n",
       "        vertical-align: top;\n",
       "    }\n",
       "\n",
       "    .dataframe thead th {\n",
       "        text-align: right;\n",
       "    }\n",
       "</style>\n",
       "<table border=\"1\" class=\"dataframe\">\n",
       "  <thead>\n",
       "    <tr style=\"text-align: right;\">\n",
       "      <th></th>\n",
       "      <th>index</th>\n",
       "      <th>chr</th>\n",
       "      <th>strand</th>\n",
       "      <th>Acceptor_coordinates</th>\n",
       "      <th>Transcript_coordinates</th>\n",
       "      <th>dbsnp_id</th>\n",
       "      <th>varinat_start</th>\n",
       "      <th>variant_end</th>\n",
       "      <th>ref_neucleotide</th>\n",
       "      <th>alternative_neucleotide</th>\n",
       "      <th>reference_seq</th>\n",
       "      <th>alt_seq</th>\n",
       "      <th>Ensemble_Transcript_ID</th>\n",
       "      <th>Ref_probab</th>\n",
       "      <th>Alt_probab</th>\n",
       "      <th>ScoreChange</th>\n",
       "      <th>LogOddRatio</th>\n",
       "      <th>variant_length</th>\n",
       "    </tr>\n",
       "  </thead>\n",
       "  <tbody>\n",
       "    <tr>\n",
       "      <th>2185</th>\n",
       "      <td>2185</td>\n",
       "      <td>chr1</td>\n",
       "      <td>+</td>\n",
       "      <td>24445144-24445223</td>\n",
       "      <td>24415803-24472976</td>\n",
       "      <td>rs1450817635</td>\n",
       "      <td>24445172</td>\n",
       "      <td>24445174</td>\n",
       "      <td>TT</td>\n",
       "      <td>T</td>\n",
       "      <td>AGCAGCCTCAATTCCCTTTTCTTTGTGCTTCATTTTTCAGCTAGTG...</td>\n",
       "      <td>AGCAGCCTCAATTCCCTTTTCTTTGTGCTCATTTTTCAGCTAGTGC...</td>\n",
       "      <td>ENST00000003912</td>\n",
       "      <td>0.999804</td>\n",
       "      <td>0.001602</td>\n",
       "      <td>-0.998007</td>\n",
       "      <td>21.603005</td>\n",
       "      <td>2</td>\n",
       "    </tr>\n",
       "    <tr>\n",
       "      <th>2215</th>\n",
       "      <td>2215</td>\n",
       "      <td>chr1</td>\n",
       "      <td>+</td>\n",
       "      <td>24445144-24445223</td>\n",
       "      <td>24415814-24466310</td>\n",
       "      <td>rs1450817635</td>\n",
       "      <td>24445172</td>\n",
       "      <td>24445174</td>\n",
       "      <td>TT</td>\n",
       "      <td>T</td>\n",
       "      <td>AGCAGCCTCAATTCCCTTTTCTTTGTGCTTCATTTTTCAGCTAGTG...</td>\n",
       "      <td>AGCAGCCTCAATTCCCTTTTCTTTGTGCTCATTTTTCAGCTAGTGC...</td>\n",
       "      <td>ENST00000339255</td>\n",
       "      <td>0.999804</td>\n",
       "      <td>0.001602</td>\n",
       "      <td>-0.998007</td>\n",
       "      <td>21.603005</td>\n",
       "      <td>2</td>\n",
       "    </tr>\n",
       "    <tr>\n",
       "      <th>2245</th>\n",
       "      <td>2245</td>\n",
       "      <td>chr1</td>\n",
       "      <td>+</td>\n",
       "      <td>24445144-24445223</td>\n",
       "      <td>24415813-24454824</td>\n",
       "      <td>rs1450817635</td>\n",
       "      <td>24445172</td>\n",
       "      <td>24445174</td>\n",
       "      <td>TT</td>\n",
       "      <td>T</td>\n",
       "      <td>AGCAGCCTCAATTCCCTTTTCTTTGTGCTTCATTTTTCAGCTAGTG...</td>\n",
       "      <td>AGCAGCCTCAATTCCCTTTTCTTTGTGCTCATTTTTCAGCTAGTGC...</td>\n",
       "      <td>ENST00000358028</td>\n",
       "      <td>0.999804</td>\n",
       "      <td>0.001602</td>\n",
       "      <td>-0.998007</td>\n",
       "      <td>21.603005</td>\n",
       "      <td>2</td>\n",
       "    </tr>\n",
       "    <tr>\n",
       "      <th>2275</th>\n",
       "      <td>2275</td>\n",
       "      <td>chr1</td>\n",
       "      <td>+</td>\n",
       "      <td>24445144-24445223</td>\n",
       "      <td>24415802-24472976</td>\n",
       "      <td>rs1450817635</td>\n",
       "      <td>24445172</td>\n",
       "      <td>24445174</td>\n",
       "      <td>TT</td>\n",
       "      <td>T</td>\n",
       "      <td>AGCAGCCTCAATTCCCTTTTCTTTGTGCTTCATTTTTCAGCTAGTG...</td>\n",
       "      <td>AGCAGCCTCAATTCCCTTTTCTTTGTGCTCATTTTTCAGCTAGTGC...</td>\n",
       "      <td>ENST00000374399</td>\n",
       "      <td>0.999804</td>\n",
       "      <td>0.001602</td>\n",
       "      <td>-0.998007</td>\n",
       "      <td>21.603005</td>\n",
       "      <td>2</td>\n",
       "    </tr>\n",
       "    <tr>\n",
       "      <th>2791</th>\n",
       "      <td>2791</td>\n",
       "      <td>chr1</td>\n",
       "      <td>+</td>\n",
       "      <td>24458847-24458926</td>\n",
       "      <td>24415803-24472976</td>\n",
       "      <td>rs752041946</td>\n",
       "      <td>24458882</td>\n",
       "      <td>24458883</td>\n",
       "      <td>T</td>\n",
       "      <td>A</td>\n",
       "      <td>GTCTCCACAGCCCACTGACTGGAGTGCTTTTGTGTTGAAGGTTTTT...</td>\n",
       "      <td>GTCTCCACAGCCCACTGACTGGAGTGCTTTTGTGTAGAAGGTTTTT...</td>\n",
       "      <td>ENST00000003912</td>\n",
       "      <td>0.999993</td>\n",
       "      <td>0.321426</td>\n",
       "      <td>-0.678561</td>\n",
       "      <td>18.123810</td>\n",
       "      <td>1</td>\n",
       "    </tr>\n",
       "    <tr>\n",
       "      <th>...</th>\n",
       "      <td>...</td>\n",
       "      <td>...</td>\n",
       "      <td>...</td>\n",
       "      <td>...</td>\n",
       "      <td>...</td>\n",
       "      <td>...</td>\n",
       "      <td>...</td>\n",
       "      <td>...</td>\n",
       "      <td>...</td>\n",
       "      <td>...</td>\n",
       "      <td>...</td>\n",
       "      <td>...</td>\n",
       "      <td>...</td>\n",
       "      <td>...</td>\n",
       "      <td>...</td>\n",
       "      <td>...</td>\n",
       "      <td>...</td>\n",
       "      <td>...</td>\n",
       "    </tr>\n",
       "    <tr>\n",
       "      <th>18672</th>\n",
       "      <td>86838</td>\n",
       "      <td>chrY</td>\n",
       "      <td>+</td>\n",
       "      <td>3109777-3109856</td>\n",
       "      <td>3002946-3120600</td>\n",
       "      <td>rs2051480392</td>\n",
       "      <td>3109832</td>\n",
       "      <td>3109833</td>\n",
       "      <td>T</td>\n",
       "      <td>G</td>\n",
       "      <td>cagtactaaaaaaacaaaaatcacatgattatctccacagatgcag...</td>\n",
       "      <td>cagtactaaaaaaacaaaaatcacatgattatctccacagatgcag...</td>\n",
       "      <td>ENST00000655607</td>\n",
       "      <td>0.063167</td>\n",
       "      <td>0.963243</td>\n",
       "      <td>0.866991</td>\n",
       "      <td>-8.602347</td>\n",
       "      <td>1</td>\n",
       "    </tr>\n",
       "    <tr>\n",
       "      <th>18674</th>\n",
       "      <td>86840</td>\n",
       "      <td>chrY</td>\n",
       "      <td>+</td>\n",
       "      <td>3109777-3109856</td>\n",
       "      <td>3003001-3110315</td>\n",
       "      <td>rs2051480392</td>\n",
       "      <td>3109832</td>\n",
       "      <td>3109833</td>\n",
       "      <td>T</td>\n",
       "      <td>G</td>\n",
       "      <td>cagtactaaaaaaacaaaaatcacatgattatctccacagatgcag...</td>\n",
       "      <td>cagtactaaaaaaacaaaaatcacatgattatctccacagatgcag...</td>\n",
       "      <td>ENST00000653660</td>\n",
       "      <td>0.063167</td>\n",
       "      <td>0.963243</td>\n",
       "      <td>0.866991</td>\n",
       "      <td>-8.602347</td>\n",
       "      <td>1</td>\n",
       "    </tr>\n",
       "    <tr>\n",
       "      <th>18676</th>\n",
       "      <td>86842</td>\n",
       "      <td>chrY</td>\n",
       "      <td>+</td>\n",
       "      <td>3109777-3109856</td>\n",
       "      <td>3002901-3120619</td>\n",
       "      <td>rs2051480392</td>\n",
       "      <td>3109832</td>\n",
       "      <td>3109833</td>\n",
       "      <td>T</td>\n",
       "      <td>G</td>\n",
       "      <td>cagtactaaaaaaacaaaaatcacatgattatctccacagatgcag...</td>\n",
       "      <td>cagtactaaaaaaacaaaaatcacatgattatctccacagatgcag...</td>\n",
       "      <td>ENST00000691894</td>\n",
       "      <td>0.063167</td>\n",
       "      <td>0.963243</td>\n",
       "      <td>0.866991</td>\n",
       "      <td>-8.602347</td>\n",
       "      <td>1</td>\n",
       "    </tr>\n",
       "    <tr>\n",
       "      <th>18678</th>\n",
       "      <td>86844</td>\n",
       "      <td>chrY</td>\n",
       "      <td>+</td>\n",
       "      <td>3109777-3109856</td>\n",
       "      <td>3002894-3200509</td>\n",
       "      <td>rs2051480392</td>\n",
       "      <td>3109832</td>\n",
       "      <td>3109833</td>\n",
       "      <td>T</td>\n",
       "      <td>G</td>\n",
       "      <td>cagtactaaaaaaacaaaaatcacatgattatctccacagatgcag...</td>\n",
       "      <td>cagtactaaaaaaacaaaaatcacatgattatctccacagatgcag...</td>\n",
       "      <td>ENST00000651090</td>\n",
       "      <td>0.063167</td>\n",
       "      <td>0.963243</td>\n",
       "      <td>0.866991</td>\n",
       "      <td>-8.602347</td>\n",
       "      <td>1</td>\n",
       "    </tr>\n",
       "    <tr>\n",
       "      <th>18680</th>\n",
       "      <td>86846</td>\n",
       "      <td>chrY</td>\n",
       "      <td>+</td>\n",
       "      <td>3109777-3109856</td>\n",
       "      <td>3002887-3200509</td>\n",
       "      <td>rs2051480392</td>\n",
       "      <td>3109832</td>\n",
       "      <td>3109833</td>\n",
       "      <td>T</td>\n",
       "      <td>G</td>\n",
       "      <td>cagtactaaaaaaacaaaaatcacatgattatctccacagatgcag...</td>\n",
       "      <td>cagtactaaaaaaacaaaaatcacatgattatctccacagatgcag...</td>\n",
       "      <td>ENST00000665487</td>\n",
       "      <td>0.063167</td>\n",
       "      <td>0.963243</td>\n",
       "      <td>0.866991</td>\n",
       "      <td>-8.602347</td>\n",
       "      <td>1</td>\n",
       "    </tr>\n",
       "  </tbody>\n",
       "</table>\n",
       "<p>1936700 rows × 18 columns</p>\n",
       "</div>"
      ],
      "text/plain": [
       "       index   chr strand Acceptor_coordinates Transcript_coordinates  \\\n",
       "2185    2185  chr1      +    24445144-24445223      24415803-24472976   \n",
       "2215    2215  chr1      +    24445144-24445223      24415814-24466310   \n",
       "2245    2245  chr1      +    24445144-24445223      24415813-24454824   \n",
       "2275    2275  chr1      +    24445144-24445223      24415802-24472976   \n",
       "2791    2791  chr1      +    24458847-24458926      24415803-24472976   \n",
       "...      ...   ...    ...                  ...                    ...   \n",
       "18672  86838  chrY      +      3109777-3109856        3002946-3120600   \n",
       "18674  86840  chrY      +      3109777-3109856        3003001-3110315   \n",
       "18676  86842  chrY      +      3109777-3109856        3002901-3120619   \n",
       "18678  86844  chrY      +      3109777-3109856        3002894-3200509   \n",
       "18680  86846  chrY      +      3109777-3109856        3002887-3200509   \n",
       "\n",
       "           dbsnp_id  varinat_start  variant_end ref_neucleotide  \\\n",
       "2185   rs1450817635       24445172     24445174              TT   \n",
       "2215   rs1450817635       24445172     24445174              TT   \n",
       "2245   rs1450817635       24445172     24445174              TT   \n",
       "2275   rs1450817635       24445172     24445174              TT   \n",
       "2791    rs752041946       24458882     24458883               T   \n",
       "...             ...            ...          ...             ...   \n",
       "18672  rs2051480392        3109832      3109833               T   \n",
       "18674  rs2051480392        3109832      3109833               T   \n",
       "18676  rs2051480392        3109832      3109833               T   \n",
       "18678  rs2051480392        3109832      3109833               T   \n",
       "18680  rs2051480392        3109832      3109833               T   \n",
       "\n",
       "      alternative_neucleotide  \\\n",
       "2185                        T   \n",
       "2215                        T   \n",
       "2245                        T   \n",
       "2275                        T   \n",
       "2791                        A   \n",
       "...                       ...   \n",
       "18672                       G   \n",
       "18674                       G   \n",
       "18676                       G   \n",
       "18678                       G   \n",
       "18680                       G   \n",
       "\n",
       "                                           reference_seq  \\\n",
       "2185   AGCAGCCTCAATTCCCTTTTCTTTGTGCTTCATTTTTCAGCTAGTG...   \n",
       "2215   AGCAGCCTCAATTCCCTTTTCTTTGTGCTTCATTTTTCAGCTAGTG...   \n",
       "2245   AGCAGCCTCAATTCCCTTTTCTTTGTGCTTCATTTTTCAGCTAGTG...   \n",
       "2275   AGCAGCCTCAATTCCCTTTTCTTTGTGCTTCATTTTTCAGCTAGTG...   \n",
       "2791   GTCTCCACAGCCCACTGACTGGAGTGCTTTTGTGTTGAAGGTTTTT...   \n",
       "...                                                  ...   \n",
       "18672  cagtactaaaaaaacaaaaatcacatgattatctccacagatgcag...   \n",
       "18674  cagtactaaaaaaacaaaaatcacatgattatctccacagatgcag...   \n",
       "18676  cagtactaaaaaaacaaaaatcacatgattatctccacagatgcag...   \n",
       "18678  cagtactaaaaaaacaaaaatcacatgattatctccacagatgcag...   \n",
       "18680  cagtactaaaaaaacaaaaatcacatgattatctccacagatgcag...   \n",
       "\n",
       "                                                 alt_seq  \\\n",
       "2185   AGCAGCCTCAATTCCCTTTTCTTTGTGCTCATTTTTCAGCTAGTGC...   \n",
       "2215   AGCAGCCTCAATTCCCTTTTCTTTGTGCTCATTTTTCAGCTAGTGC...   \n",
       "2245   AGCAGCCTCAATTCCCTTTTCTTTGTGCTCATTTTTCAGCTAGTGC...   \n",
       "2275   AGCAGCCTCAATTCCCTTTTCTTTGTGCTCATTTTTCAGCTAGTGC...   \n",
       "2791   GTCTCCACAGCCCACTGACTGGAGTGCTTTTGTGTAGAAGGTTTTT...   \n",
       "...                                                  ...   \n",
       "18672  cagtactaaaaaaacaaaaatcacatgattatctccacagatgcag...   \n",
       "18674  cagtactaaaaaaacaaaaatcacatgattatctccacagatgcag...   \n",
       "18676  cagtactaaaaaaacaaaaatcacatgattatctccacagatgcag...   \n",
       "18678  cagtactaaaaaaacaaaaatcacatgattatctccacagatgcag...   \n",
       "18680  cagtactaaaaaaacaaaaatcacatgattatctccacagatgcag...   \n",
       "\n",
       "      Ensemble_Transcript_ID  Ref_probab  Alt_probab  ScoreChange  \\\n",
       "2185         ENST00000003912    0.999804    0.001602    -0.998007   \n",
       "2215         ENST00000339255    0.999804    0.001602    -0.998007   \n",
       "2245         ENST00000358028    0.999804    0.001602    -0.998007   \n",
       "2275         ENST00000374399    0.999804    0.001602    -0.998007   \n",
       "2791         ENST00000003912    0.999993    0.321426    -0.678561   \n",
       "...                      ...         ...         ...          ...   \n",
       "18672        ENST00000655607    0.063167    0.963243     0.866991   \n",
       "18674        ENST00000653660    0.063167    0.963243     0.866991   \n",
       "18676        ENST00000691894    0.063167    0.963243     0.866991   \n",
       "18678        ENST00000651090    0.063167    0.963243     0.866991   \n",
       "18680        ENST00000665487    0.063167    0.963243     0.866991   \n",
       "\n",
       "       LogOddRatio  variant_length  \n",
       "2185     21.603005               2  \n",
       "2215     21.603005               2  \n",
       "2245     21.603005               2  \n",
       "2275     21.603005               2  \n",
       "2791     18.123810               1  \n",
       "...            ...             ...  \n",
       "18672    -8.602347               1  \n",
       "18674    -8.602347               1  \n",
       "18676    -8.602347               1  \n",
       "18678    -8.602347               1  \n",
       "18680    -8.602347               1  \n",
       "\n",
       "[1936700 rows x 18 columns]"
      ]
     },
     "execution_count": 49,
     "metadata": {},
     "output_type": "execute_result"
    }
   ],
   "source": [
    "df_selected"
   ]
  },
  {
   "cell_type": "code",
   "execution_count": 50,
   "id": "f5638ad2-5638-4276-aa2e-8a104bdf1792",
   "metadata": {},
   "outputs": [
    {
     "data": {
      "text/plain": [
       "214370"
      ]
     },
     "execution_count": 50,
     "metadata": {},
     "output_type": "execute_result"
    }
   ],
   "source": [
    "len(df_selected['dbsnp_id'].unique())"
   ]
  },
  {
   "cell_type": "code",
   "execution_count": 51,
   "id": "e347cd8c-47b1-4ab0-a219-fadfcf5c4388",
   "metadata": {},
   "outputs": [
    {
     "data": {
      "text/plain": [
       "61197"
      ]
     },
     "execution_count": 51,
     "metadata": {},
     "output_type": "execute_result"
    }
   ],
   "source": [
    "len(df_selected['Acceptor_coordinates'].unique())"
   ]
  },
  {
   "cell_type": "code",
   "execution_count": 52,
   "id": "e4b45748-5c56-46e3-a839-658bfea9d241",
   "metadata": {},
   "outputs": [],
   "source": [
    "df_selected.to_csv(output_path+\"/Acceptor_candidates.tsv\", sep= \"\\t\", index=False)\n",
    "# Save to a .tsv file\n",
    "np.savetxt(output_path+\"/Unique_DBSNP_0.05_Percentile.tsv\", df_selected['dbsnp_id'].unique(), delimiter=\"\\t\", fmt='%s')\n",
    "np.savetxt(output_path+\"/Unique_Acceptors.tsv\", df_selected['Acceptor_coordinates'].unique(), delimiter=\"\\t\", fmt='%s')"
   ]
  },
  {
   "cell_type": "code",
   "execution_count": 80,
   "id": "5461d610-b764-4995-8965-458d1ebbdef5",
   "metadata": {},
   "outputs": [
    {
     "data": {
      "image/png": "[encoded data removed]",
      "text/plain": [
       "<Figure size 640x480 with 1 Axes>"
      ]
     },
     "metadata": {},
     "output_type": "display_data"
    }
   ],
   "source": [
    "sns.kdeplot(df_interest['LogOddRatio'])\n",
    "plt.show()\n"
   ]
  },
  {
   "cell_type": "code",
   "execution_count": 26,
   "id": "caf100d5-1b3f-4070-86aa-d871db834870",
   "metadata": {},
   "outputs": [
    {
     "data": {
      "text/plain": [
       "array(['GAGTGGAGCACTGTACATACCTGGCTGGATTGAGAATGGTAAGTAATTTGTAATAACATACCTGGCTTGTGCAAAAGCA',\n",
       "       'AGATTTCACCTCTGCAAATATGAGAGATTCTGCAGAAGGTAAGCTTGTGATATTGGCTTGGTCTGAATTGGGTGTGTAT',\n",
       "       'CTGGGTAATGCTGGTCACCAGCCTTGTGGCCCTTCAAGGTATGTCCAAAAGAGCCGTAAGCACCCCAAGCAATGAGGGT',\n",
       "       'CTACTACTACTATTCTGCAAACGAGGAATTCAGACCAGGTAAGTACCCATGCGTCTCATTTTGGAGGAATAGGTTTAAA',\n",
       "       'TCTCTCAGTGGTCGCTATCTGGAGGAGCTTAGCCAAAGGTAAGCTTTATTATGAATTAGCACAGTCAGCTTCACACAGT',\n",
       "       'TCTGACCAGTGCTGCTGTGACGAATCTTTCAGTTACAGGTAAGCAGCTGCCAGGCCATGCACCTGCTGAGCACATGGGA',\n",
       "       'GCTGAAAAATATTATGGCAACAAATGCATTATTCCATGGTAAGATACGTCTCATTATTGGAGTGTGTCTGAACATATAT',\n",
       "       'CAGTATCTGATTTCCACCCAGTCAAAAAAATTGTCCAGGTAAGCACAATATCCCTATTTATTTTCAGTCCTACCTCAAG',\n",
       "       'TTTGAAAACTTGTCTCCAGGAAGTGTTATTATATTCAGGTATGTTAATTGAGCTCAAACTGTTGACTTTACTTATATTT',\n",
       "       'TCACATCCATCAGAGGATTGCTGATCACTCTTACCAAGGTATGTTTTATCACAGTGTTAAAAAGTACTGCTTATCATTT',\n",
       "       'AACCAAATTTATATCTGCTTGGAACAACATGAAATATAGTAAGTATCATGTTTTAAAAATTGTATAAATCCAAAGAAAT',\n",
       "       'ACTTGTTCATGAATTATTTGGAAACAGTTCACAAGTAGGTAAGTTCTGTGGGAAAAATCATAACTATACTTATTTTAAA',\n",
       "       'TCTCGGTATCATCTGCAGAATATGGTACTAATGCAAAGGTAAGCCACATGTAGGGATTACCAGTTCAACAGATGCAAGC',\n",
       "       'AAAAGTCTTCTATGCAAACAGGTGCTGGTTTAAATCAGGTATGTATTTTATACACTGTAAACTGTAATAATTTGTTTCC',\n",
       "       'CACCTCTCTCAACTCTCTCCCTTAAGCACTGGGATCAGGTAAGTTTCCCTTATTGTTTATTTTATTGCACATGCCTTTG',\n",
       "       'AGATCCAAAGGAAGGAGGAGCTACCACCAAAGAGTCAGGTATGTTTTTAACTTAAGCTATGGAGCAACGTAAAAGATAC',\n",
       "       'TAGTAGGACTCTTTAAACCTTTTGTGGAAAGCTATCAGGTATGTAAATTTGGCAAGTTCTCCTTCATGCCCCCCATATC',\n",
       "       'GATCCAAAAGCATCCTTTGAGAATTGTATGAGTTATAGGTAAGTCAACAATTTAAATCAGGACATGACTTAATTCTTGT',\n",
       "       'TCACAGCTAAAGGAGCAGAGGAGACTCTTGGACCTCAGGTAAGCTTCAGGAAGAGGAGCAGGCTTCAAGTCTCACAGTG',\n",
       "       'AAAGCTAAAACCCTGCCACCTCAAAGCAATAATAAGAGGTAAGTCTTGTGGAACTACAGTATGACATTTAAAGCTTTGA',\n",
       "       'ATATTCACCAAGTCTTGACTCAGTCACCTTTTGTGCAGGTAAGCATTGGTGTCTGTTCAGTTGGCCCACAAATCTAGGT',\n",
       "       'GGCATACAGCAGGTGTATTAGCAGGATCTAGAATACGGGTAAGTTATACTTTTTAAAAAAAAAACTTTAAAattattat',\n",
       "       'CTGCGCTTGAACCTGTGCCTGAATACTACCCTAGAcaggttgagtattccctatctgaaatggctaggaccataagtgt',\n",
       "       'ACATCGGCAAACGTCAAAGTCCCAGCTTTCAAATACAGGTCTCTTCCAAAACTTACTCTCACATGATTCATAGGCTCCA',\n",
       "       'CATAATAGACGTGAGGATAAGAGAAGGAGGAAGGCCTACTAGCAATGTCGGCTTCATTTCCCAAACTGTGCTGAGGATA',\n",
       "       'CTAACCATCATATTTAGAACCAGCTGTTTACCAGAGTGGTAAGTTGGATTGTGTTTTATTTTGGTTTTTATTCTTCATT',\n",
       "       'ATATTCAGCTGGAGACCATTCCCTTGAAACTCTCTCAGGTATGCCCTTTCTTCTCAGTGGCATCTACTTACTGTCAAAC',\n",
       "       'ACACATTTTGGTTTTATacacacacacacacacacacacacacacacGAAAGACAAGTGGCAGCTGCAGGGATTGTGCT',\n",
       "       'ATACCATCTGTTGCAGACTGGGGTGCATGACATTTTAGGTAAGTAGCAGATGAAGATTTATGAAGCTGGGCCCTGAGGT',\n",
       "       'aatgtgcttcctactattcaTTGTTGCCCCGTCTCTAGGTAAGTCTTCTGTAATTTACATGCTTGTTGAAAGGATCTGT',\n",
       "       'CCCCCACCTTCTGGGATGTTAGCAGAGCCTTTTAACTGGTAAGTCTCTCCCAGGATGACTCGTAGGAGCCTCTCAGGAT',\n",
       "       'AAAGACTTGTCATTTGATCCATGTTCAAGACCCTTGAGGTATTGTTTCATCATTTCTGTATTGTCTTTCAATAAAGAAA',\n",
       "       'ATCTTTGCTTCAGTGGTTTTCTTTAAAGGCAAGCAAAGGTAAGTAAGCCATAACAAGTGTGCTTGGTTCAGATTTCTTC',\n",
       "       'TATTCAGATCATCGTGTTTGGGGAAGATACTGTGTAAGGTAAGTTTGCAGTCTTGATGCTGATCAATCGCAGGATGCTT',\n",
       "       'AGGAAACCACAATCTCACTGAAAATATACACTATTCAGGTAAGTACTAAGAGGTAAGTTAACCAAGCGCAAGCATGACT'],\n",
       "      dtype=object)"
      ]
     },
     "execution_count": 26,
     "metadata": {},
     "output_type": "execute_result"
    }
   ],
   "source": [
    "df_interest['reference_seq'].unique()"
   ]
  },
  {
   "cell_type": "code",
   "execution_count": 27,
   "id": "0e41685e-4af4-4f14-aeed-efcafdc1d0b7",
   "metadata": {},
   "outputs": [
    {
     "data": {
      "text/plain": [
       "dbsnp_id      ref_neucleotide                 alternative_neucleotide     reference_seq                                                                  \n",
       "rs1057516984  TT                              TTT                         TTTGAAAACTTGTCTCCAGGAAGTGTTATTATATTCAGGTATGTTAATTGAGCTCAAACTGTTGACTTTACTTATATTT     7\n",
       "rs10626387    T                               TCT                         AAAGACTTGTCATTTGATCCATGTTCAAGACCCTTGAGGTATTGTTTCATCATTTCTGTATTGTCTTTCAATAAAGAAA    15\n",
       "rs10668386    .                               TC                          AAAGACTTGTCATTTGATCCATGTTCAAGACCCTTGAGGTATTGTTTCATCATTTCTGTATTGTCTTTCAATAAAGAAA    15\n",
       "rs1158710364  TA                              TATA                        CTAACCATCATATTTAGAACCAGCTGTTTACCAGAGTGGTAAGTTGGATTGTGTTTTATTTTGGTTTTTATTCTTCATT     2\n",
       "rs1172687424  G                               T                           CTACTACTACTATTCTGCAAACGAGGAATTCAGACCAGGTAAGTACCCATGCGTCTCATTTTGGAGGAATAGGTTTAAA     5\n",
       "rs1197477113  .                               AG                          TCTCGGTATCATCTGCAGAATATGGTACTAATGCAAAGGTAAGCCACATGTAGGGATTACCAGTTCAACAGATGCAAGC     6\n",
       "rs1202559184  .                               CG                          TCTCTCAGTGGTCGCTATCTGGAGGAGCTTAGCCAAAGGTAAGCTTTATTATGAATTAGCACAGTCAGCTTCACACAGT     5\n",
       "rs1209017757  .                               A                           AGGAAACCACAATCTCACTGAAAATATACACTATTCAGGTAAGTACTAAGAGGTAAGTTAACCAAGCGCAAGCATGACT     1\n",
       "rs1212185079  TATTAT                          TAT                         GCTGAAAAATATTATGGCAACAAATGCATTATTCCATGGTAAGATACGTCTCATTATTGGAGTGTGTCTGAACATATAT     2\n",
       "rs1230423427  AA                              AAA                         TATTCAGATCATCGTGTTTGGGGAAGATACTGTGTAAGGTAAGTTTGCAGTCTTGATGCTGATCAATCGCAGGATGCTT     1\n",
       "rs1289052837  .                               C                           TCTGACCAGTGCTGCTGTGACGAATCTTTCAGTTACAGGTAAGCAGCTGCCAGGCCATGCACCTGCTGAGCACATGGGA     9\n",
       "rs1297116846  A                               AA                          CACCTCTCTCAACTCTCTCCCTTAAGCACTGGGATCAGGTAAGTTTCCCTTATTGTTTATTTTATTGCACATGCCTTTG    31\n",
       "rs1327345775  CC                              CCC                         GAGTGGAGCACTGTACATACCTGGCTGGATTGAGAATGGTAAGTAATTTGTAATAACATACCTGGCTTGTGCAAAAGCA     2\n",
       "rs1335012081  T                               C                           ATACCATCTGTTGCAGACTGGGGTGCATGACATTTTAGGTAAGTAGCAGATGAAGATTTATGAAGCTGGGCCCTGAGGT     7\n",
       "rs1367360018  .                               TA                          ATATTCAGCTGGAGACCATTCCCTTGAAACTCTCTCAGGTATGCCCTTTCTTCTCAGTGGCATCTACTTACTGTCAAAC     3\n",
       "rs1371540093  A                               AA                          ATATTCACCAAGTCTTGACTCAGTCACCTTTTGTGCAGGTAAGCATTGGTGTCTGTTCAGTTGGCCCACAAATCTAGGT     5\n",
       "rs1373911853  ACA                             ACACA                       GGCATACAGCAGGTGTATTAGCAGGATCTAGAATACGGGTAAGTTATACTTTTTAAAAAAAAAACTTTAAAattattat    12\n",
       "rs1375038646  .                               AA                          ACTTGTTCATGAATTATTTGGAAACAGTTCACAAGTAGGTAAGTTCTGTGGGAAAAATCATAACTATACTTATTTTAAA     6\n",
       "rs1390513841  AAA                             AAAA                        AGATCCAAAGGAAGGAGGAGCTACCACCAAAGAGTCAGGTATGTTTTTAACTTAAGCTATGGAGCAACGTAAAAGATAC     3\n",
       "rs141985486   ACACACACACACACACACACACACACACAC  ACACACACACACACACAC          ACACATTTTGGTTTTATacacacacacacacacacacacacacacacGAAAGACAAGTGGCAGCTGCAGGGATTGTGCT     3\n",
       "rs1436578674  T                               TT                          TAGTAGGACTCTTTAAACCTTTTGTGGAAAGCTATCAGGTATGTAAATTTGGCAAGTTCTCCTTCATGCCCCCCATATC     3\n",
       "rs1438467080  TACTACCCTA                      TA                          CTGCGCTTGAACCTGTGCCTGAATACTACCCTAGAcaggttgagtattccctatctgaaatggctaggaccataagtgt     6\n",
       "rs1445932658  .                               AA                          TCACATCCATCAGAGGATTGCTGATCACTCTTACCAAGGTATGTTTTATCACAGTGTTAAAAAGTACTGCTTATCATTT     5\n",
       "rs1490651176  .                               C                           CAGTATCTGATTTCCACCCAGTCAAAAAAATTGTCCAGGTAAGCACAATATCCCTATTTATTTTCAGTCCTACCTCAAG     5\n",
       "rs1553201305  C                               AA                          aatgtgcttcctactattcaTTGTTGCCCCGTCTCTAGGTAAGTCTTCTGTAATTTACATGCTTGTTGAAAGGATCTGT     2\n",
       "rs1640878857  .                               AA                          ATCTTTGCTTCAGTGGTTTTCTTTAAAGGCAAGCAAAGGTAAGTAAGCCATAACAAGTGTGCTTGGTTCAGATTTCTTC     1\n",
       "rs1640878887  .                               GCC                         ATCTTTGCTTCAGTGGTTTTCTTTAAAGGCAAGCAAAGGTAAGTAAGCCATAACAAGTGTGCTTGGTTCAGATTTCTTC     1\n",
       "rs1640951535  TTTT                            TTTTTT                      CCCCCACCTTCTGGGATGTTAGCAGAGCCTTTTAACTGGTAAGTCTCTCCCAGGATGACTCGTAGGAGCCTCTCAGGAT     2\n",
       "rs1643977254  .                               TTA                         ATATTCACCAAGTCTTGACTCAGTCACCTTTTGTGCAGGTAAGCATTGGTGTCTGTTCAGTTGGCCCACAAATCTAGGT     5\n",
       "rs1645467242  C                               A                           ATACCATCTGTTGCAGACTGGGGTGCATGACATTTTAGGTAAGTAGCAGATGAAGATTTATGAAGCTGGGCCCTGAGGT     7\n",
       "rs1648706534  .                               CT                          TCACAGCTAAAGGAGCAGAGGAGACTCTTGGACCTCAGGTAAGCTTCAGGAAGAGGAGCAGGCTTCAAGTCTCACAGTG     6\n",
       "rs1650105865  .                               TGAGGATGAGTGTGCTGGAAATGGCA  ACATCGGCAAACGTCAAAGTCCCAGCTTTCAAATACAGGTCTCTTCCAAAACTTACTCTCACATGATTCATAGGCTCCA     1\n",
       "rs202034790   TT                              TTTT                        AAAGACTTGTCATTTGATCCATGTTCAAGACCCTTGAGGTATTGTTTCATCATTTCTGTATTGTCTTTCAATAAAGAAA    15\n",
       "rs34979388    TT                              TTT                         aatgtgcttcctactattcaTTGTTGCCCCGTCTCTAGGTAAGTCTTCTGTAATTTACATGCTTGTTGAAAGGATCTGT     2\n",
       "rs35774161    .                               C                           AGATTTCACCTCTGCAAATATGAGAGATTCTGCAGAAGGTAAGCTTGTGATATTGGCTTGGTCTGAATTGGGTGTGTAT    12\n",
       "rs756626403   CCAGGTAAGTACCCA                 CCA                         CTACTACTACTATTCTGCAAACGAGGAATTCAGACCAGGTAAGTACCCATGCGTCTCATTTTGGAGGAATAGGTTTAAA     5\n",
       "rs757433704   T                               A                           CTACTACTACTATTCTGCAAACGAGGAATTCAGACCAGGTAAGTACCCATGCGTCTCATTTTGGAGGAATAGGTTTAAA     5\n",
       "rs759266909   .                               TT                          AAAAGTCTTCTATGCAAACAGGTGCTGGTTTAAATCAGGTATGTATTTTATACACTGTAAACTGTAATAATTTGTTTCC    21\n",
       "rs761296575   T                               TT                          AACCAAATTTATATCTGCTTGGAACAACATGAAATATAGTAAGTATCATGTTTTAAAAATTGTATAAATCCAAAGAAAT     4\n",
       "rs763481129   C                               T                           CTACTACTACTATTCTGCAAACGAGGAATTCAGACCAGGTAAGTACCCATGCGTCTCATTTTGGAGGAATAGGTTTAAA     5\n",
       "rs776835974   A                               AA                          GATCCAAAAGCATCCTTTGAGAATTGTATGAGTTATAGGTAAGTCAACAATTTAAATCAGGACATGACTTAATTCTTGT     4\n",
       "rs781957035   CACCA                           CACCACCA                    CTGGGTAATGCTGGTCACCAGCCTTGTGGCCCTTCAAGGTATGTCCAAAAGAGCCGTAAGCACCCCAAGCAATGAGGGT     5\n",
       "rs887819469   CCACC                           CCACCACC                    AAAGCTAAAACCCTGCCACCTCAAAGCAATAATAAGAGGTAAGTCTTGTGGAACTACAGTATGACATTTAAAGCTTTGA     6\n",
       "dtype: int64"
      ]
     },
     "execution_count": 27,
     "metadata": {},
     "output_type": "execute_result"
    }
   ],
   "source": [
    "df_interest.groupby(['dbsnp_id', 'ref_neucleotide','alternative_neucleotide',  'reference_seq']).size()"
   ]
  },
  {
   "cell_type": "code",
   "execution_count": 28,
   "id": "2c79d417-48ca-4e35-85a2-826b99911098",
   "metadata": {},
   "outputs": [
    {
     "data": {
      "text/plain": [
       "dbsnp_id      ref_neucleotide                 alternative_neucleotide   \n",
       "rs1057516984  TT                              TTT                            7\n",
       "rs10626387    T                               TCT                           15\n",
       "rs10668386    .                               TC                            15\n",
       "rs1158710364  TA                              TATA                           2\n",
       "rs1172687424  G                               T                              5\n",
       "rs1197477113  .                               AG                             6\n",
       "rs1202559184  .                               CG                             5\n",
       "rs1209017757  .                               A                              1\n",
       "rs1212185079  TATTAT                          TAT                            2\n",
       "rs1230423427  AA                              AAA                            1\n",
       "rs1289052837  .                               C                              9\n",
       "rs1297116846  A                               AA                            31\n",
       "rs1327345775  CC                              CCC                            2\n",
       "rs1335012081  T                               C                              7\n",
       "rs1367360018  .                               TA                             3\n",
       "rs1371540093  A                               AA                             5\n",
       "rs1373911853  ACA                             ACACA                         12\n",
       "rs1375038646  .                               AA                             6\n",
       "rs1390513841  AAA                             AAAA                           3\n",
       "rs141985486   ACACACACACACACACACACACACACACAC  ACACACACACACACACAC             3\n",
       "rs1436578674  T                               TT                             3\n",
       "rs1438467080  TACTACCCTA                      TA                             6\n",
       "rs1445932658  .                               AA                             5\n",
       "rs1490651176  .                               C                              5\n",
       "rs1553201305  C                               AA                             2\n",
       "rs1640878857  .                               AA                             1\n",
       "rs1640878887  .                               GCC                            1\n",
       "rs1640951535  TTTT                            TTTTTT                         2\n",
       "rs1643977254  .                               TTA                            5\n",
       "rs1645467242  C                               A                              7\n",
       "rs1648706534  .                               CT                             6\n",
       "rs1650105865  .                               TGAGGATGAGTGTGCTGGAAATGGCA     1\n",
       "rs202034790   TT                              TTTT                          15\n",
       "rs34979388    TT                              TTT                            2\n",
       "rs35774161    .                               C                             12\n",
       "rs756626403   CCAGGTAAGTACCCA                 CCA                            5\n",
       "rs757433704   T                               A                              5\n",
       "rs759266909   .                               TT                            21\n",
       "rs761296575   T                               TT                             4\n",
       "rs763481129   C                               T                              5\n",
       "rs776835974   A                               AA                             4\n",
       "rs781957035   CACCA                           CACCACCA                       5\n",
       "rs887819469   CCACC                           CCACCACC                       6\n",
       "dtype: int64"
      ]
     },
     "execution_count": 28,
     "metadata": {},
     "output_type": "execute_result"
    }
   ],
   "source": [
    "df_interest.groupby(['dbsnp_id', 'ref_neucleotide','alternative_neucleotide']).size()"
   ]
  },
  {
   "cell_type": "code",
   "execution_count": 157,
   "id": "0921c226-e30c-4bef-82f7-79fd59c47676",
   "metadata": {},
   "outputs": [
    {
     "name": "stdout",
     "output_type": "stream",
     "text": [
      "-0.267426781822307 0.7891405811788812\n"
     ]
    },
    {
     "data": {
      "image/png": "[encoded data removed]",
      "text/plain": [
       "<Figure size 640x480 with 1 Axes>"
      ]
     },
     "metadata": {},
     "output_type": "display_data"
    }
   ],
   "source": [
    "import numpy as np\n",
    "import matplotlib.pyplot as plt\n",
    "from scipy.stats import norm\n",
    "from statsmodels.stats.weightstats import ztest\n",
    "\n",
    "# Generate 1000 normally distributed data points\n",
    "mu, sigma = 0, 1 # mean and standard deviation\n",
    "s = np.random.normal(mu, sigma, 1000)\n",
    "\n",
    "# Perform the z test\n",
    "z_score, p_value = ztest(x1= s, value = mu)\n",
    "\n",
    "print(z_score, p_value)\n",
    "\n",
    "# # Generate data and plot the normal distribution\n",
    "x = np.linspace(-4, 4, 1000)\n",
    "y = norm.pdf(x, 0, 1)\n",
    "plt.plot(x, y)\n",
    "\n",
    "# Shade the two-tail regions\n",
    "plt.fill_between(x, 0, y, where=(x <= -abs(z_score)) | (x >= abs(z_score)), color='red', alpha=0.3)\n",
    "\n",
    "# # Mark the observed value\n",
    "plt.axvline(z_score, color='blue', linestyle='--', label=f'Observed z-score = {z_score:.2f}')\n",
    "plt.axvline(-z_score, color='blue', linestyle='--')\n",
    "\n",
    "plt.legend()\n",
    "plt.title('Two-tailed Z-test')\n",
    "plt.xlabel('Z-score')\n",
    "plt.ylabel('Probability density')\n",
    "plt.show()"
   ]
  },
  {
   "cell_type": "code",
   "execution_count": 168,
   "id": "b4d3d1fd-ec42-44fb-8577-8a9114330cd7",
   "metadata": {},
   "outputs": [
    {
     "name": "stdout",
     "output_type": "stream",
     "text": [
      "0.0 1.0\n",
      "1.959963984540054\n",
      "-1.9201628731122704 1.8585445470122721\n"
     ]
    },
    {
     "name": "stderr",
     "output_type": "stream",
     "text": [
      "/tmp/ipykernel_237056/578947367.py:17: UserWarning:\n",
      "\n",
      "\n",
      "\n",
      "`distplot` is a deprecated function and will be removed in seaborn v0.14.0.\n",
      "\n",
      "Please adapt your code to use either `displot` (a figure-level function with\n",
      "similar flexibility) or `kdeplot` (an axes-level function for kernel density plots).\n",
      "\n",
      "For a guide to updating your code to use the new functions, please see\n",
      "https://gist.github.com/mwaskom/de44147ed2974457ad6372750bbe5751\n",
      "\n",
      "\n",
      "/shared/software/anaconda/anaconda3/lib/python3.10/site-packages/seaborn/distributions.py:2511: FutureWarning:\n",
      "\n",
      "\n",
      "\n",
      "`shade` is now deprecated in favor of `fill`; setting `fill=True`.\n",
      "This will become an error in seaborn v0.14.0; please update your code.\n",
      "\n",
      "\n"
     ]
    },
    {
     "data": {
      "image/png": "[encoded data removed]",
      "text/plain": [
       "<Figure size 640x480 with 1 Axes>"
      ]
     },
     "metadata": {},
     "output_type": "display_data"
    }
   ],
   "source": [
    "import pandas as pd\n",
    "import numpy as np\n",
    "import matplotlib.pyplot as plt\n",
    "import seaborn as sns\n",
    "from scipy.stats import norm\n",
    "from statsmodels.stats.weightstats import ztest\n",
    "\n",
    "# Assume we have the following DataFrame\n",
    "df = pd.DataFrame({\n",
    "   'LogOddRatio': np.random.normal(0, 1, 1000)\n",
    "})\n",
    "\n",
    "# Perform the z test\n",
    "z_score, p_value = ztest(x1= df['LogOddRatio'], value =  df['LogOddRatio'].mean())\n",
    "print(z_score, p_value)\n",
    "# Plot the distribution of 'LogOddRatio'\n",
    "sns.distplot(df['LogOddRatio'], hist = False, kde = True, \n",
    "             kde_kws = {'shade': True, 'linewidth': 3})\n",
    "\n",
    "# Get the extreme values for a two tailed test at alpha = 0.05\n",
    "z_critical = norm.ppf(1 - 0.05/2) # two-tailed test at alpha = 0.05\n",
    "\n",
    "\n",
    "print(z_critical)\n",
    "x1, x2 = df['LogOddRatio'].mean() + z_critical*df['LogOddRatio'].std(), df['LogOddRatio'].mean() - z_critical*df['LogOddRatio'].std()\n",
    "print(x2, x1)\n",
    "# Shade the area for the two tailed test\n",
    "plt.axvspan(min(df['LogOddRatio']), x2, alpha=0.3, color='red')\n",
    "plt.axvspan(x1, max(df['LogOddRatio']), alpha=0.3, color='red')\n",
    "\n",
    "plt.title('Distribution of LogOddRatio')\n",
    "plt.show()\n"
   ]
  },
  {
   "cell_type": "code",
   "execution_count": null,
   "id": "ad11ff94-0a0a-4528-88d5-15a2d7aaac16",
   "metadata": {},
   "outputs": [],
   "source": []
  }
 ],
 "metadata": {
  "kernelspec": {
   "display_name": "Python 3 (ipykernel)",
   "language": "python",
   "name": "python3"
  },
  "language_info": {
   "codemirror_mode": {
    "name": "ipython",
    "version": 3
   },
   "file_extension": ".py",
   "mimetype": "text/x-python",
   "name": "python",
   "nbconvert_exporter": "python",
   "pygments_lexer": "ipython3",
   "version": "3.10.11"
  }
 },
 "nbformat": 4,
 "nbformat_minor": 5
}
