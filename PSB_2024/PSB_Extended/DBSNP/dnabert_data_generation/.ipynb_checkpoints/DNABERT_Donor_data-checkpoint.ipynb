{
 "cells": [
  {
   "cell_type": "code",
   "execution_count": 1,
   "id": "9807e3a4-8edb-46a2-ad4c-88777af9fadc",
   "metadata": {},
   "outputs": [],
   "source": [
    "import os, glob\n",
    "import pandas as pd\n",
    "from io import StringIO\n",
    "import numpy as np\n",
    "import pysam\n",
    "import pybedtools \n",
    "from Bio import SeqIO\n",
    "from Bio.Seq import Seq\n",
    "pybedtools.helpers.set_tempdir(\"/data/projects/temp\")"
   ]
  },
  {
   "cell_type": "code",
   "execution_count": 2,
   "id": "2505ee28-f7a7-474a-a4b8-755989f3f70e",
   "metadata": {},
   "outputs": [],
   "source": [
    "non_coding_region = \"acceptor\""
   ]
  },
  {
   "cell_type": "code",
   "execution_count": 8,
   "id": "6c3ba47b-0edf-43de-bab5-bc0edd7f91b0",
   "metadata": {},
   "outputs": [],
   "source": [
    "data_path = '/data/projects/DNABERT_snv/Manuscript_11_2023/DBSNP_output/Intersected_data/{}/all_{}_intesected_data.tsv'.format(non_coding_region, non_coding_region)\n",
    "output_path = \"/data/projects/DNABERT_snv/Manuscript_11_2023/DBSNP_output/DNABERT_data/{}\".format(non_coding_region) "
   ]
  },
  {
   "cell_type": "code",
   "execution_count": 9,
   "id": "aafe0877-b7be-4e5e-a73f-00dab9627b51",
   "metadata": {},
   "outputs": [],
   "source": [
    "if not os.path.exists(output_path):\n",
    "    os.makedirs(output_path)"
   ]
  },
  {
   "cell_type": "code",
   "execution_count": 10,
   "id": "cc89bac5-1528-4192-95d4-77bda6a6e1dd",
   "metadata": {},
   "outputs": [],
   "source": [
    "def seq2kmer(seq):\n",
    "    \"\"\"\n",
    "    Convert original sequence to kmers\n",
    "    \n",
    "    Arguments:\n",
    "    seq -- str, original sequence.\n",
    "    k -- int, kmer of length k specified.\n",
    "    \n",
    "    Returns:\n",
    "    kmers -- str, kmers separated by space\n",
    "    \"\"\"\n",
    "    k=6\n",
    "    kmer = [seq[x:x+k] for x in range(len(seq)+1-k)]\n",
    "    kmers = \" \".join(kmer)\n",
    "    return kmers"
   ]
  },
  {
   "cell_type": "code",
   "execution_count": 11,
   "id": "19aaa7a0-7309-4e97-a93e-dded3164e07f",
   "metadata": {},
   "outputs": [],
   "source": [
    "genome = SeqIO.to_dict(SeqIO.parse(\"/data/projects/Resources/Gencode_genome_annotation/GRCh38.primary_assembly.genome.fa\", \"fasta\"))"
   ]
  },
  {
   "cell_type": "code",
   "execution_count": 21,
   "id": "3bcc2b33-f043-4016-9aba-79948c239d76",
   "metadata": {},
   "outputs": [
    {
     "name": "stdout",
     "output_type": "stream",
     "text": [
      "(37854437, 20)\n"
     ]
    }
   ],
   "source": [
    "df = pd.read_csv(data_path, sep= '\\t')\n",
    "print(df.shape)"
   ]
  },
  {
   "cell_type": "code",
   "execution_count": null,
   "id": "0ded228f-2999-482f-9e5a-197b732e0cfd",
   "metadata": {},
   "outputs": [],
   "source": [
    "# df = pd.read_csv(data_path, sep= '\\t')\n",
    "# print(df.shape)\n",
    "\n",
    "# df = df[df['No_of_variations']<3].reset_index(drop=True)\n",
    "# print(df.shape)\n",
    "# df = df.loc[df['Alternative_Allele']== '.'].reset_index(drop=True)\n",
    "# df\n",
    "#df= df[df['strand']==\"-\"]\n",
    "\n",
    "\n",
    "data= []\n",
    "#df = df.head(10)\n",
    "# Iterate over DataFrame rows\n",
    "for idx, row in df.iterrows():\n",
    "    try:\n",
    "        #print(row)Reference_Allele\tAlternative_Allele\n",
    "        alts = row['Alternative_Nucleotides'].rstrip(',').split(',')\n",
    "        ref_seq = str(genome[row['chr_name']].seq[ row['{}_start'.format(non_coding_region)]:row['{}_end'.format(non_coding_region)]])\n",
    "\n",
    "        # Calculate the variant position relative to the fetched sequence\n",
    "        variant_pos_start = row['Variant_start'] - row['{}_start'.format(non_coding_region)]\n",
    "        variant_pos_end = row['Variant_end']  - row['{}_start'.format(non_coding_region)]\n",
    "        #print(variant_pos_start, variant_pos_end, alts,  row['Reference_Nucleotide'])\n",
    "        #print(ref_seq , \"###\")\n",
    "        # if row['strand'] == '-':\n",
    "        #     ref_seq = str(Seq(ref_seq).reverse_complement())\n",
    "        #print(ref_seq)\n",
    "\n",
    "\n",
    "        #Replace the reference nucleotide with the alternate nucleotide to get the alternate sequence\n",
    "        for alt in alts:\n",
    "            if alt == \"\":  # Deletion\n",
    "                # Fetch additional bases from genome to maintain sequence length\n",
    "                extra_bases = str(genome[row['chr_name']].seq[row['{}_end'.format(non_coding_region)]:row['{}_end'.format(non_coding_region)] + len(row['Reference_Nucleotide'])])\n",
    "                #print(len(row['Reference_Nucleotide']))\n",
    "                alt_seq = ref_seq[:variant_pos_start] + ref_seq[variant_pos_end:] + extra_bases\n",
    "            else:  # SNPs, Insertions, and partial Deletions\n",
    "                extra_bases = str(genome[row['chr_name']].seq[row['{}_end'.format(non_coding_region)]:row['{}_end'.format(non_coding_region)] + len(row['Reference_Nucleotide']) - len(alt)])\n",
    "                #print(extra_bases)\n",
    "                if(variant_pos_start>=0):\n",
    "                    alt_seq = ref_seq[:variant_pos_start] + alt + ref_seq[variant_pos_end:] + extra_bases\n",
    "                else:\n",
    "                    continue\n",
    "            #print(alt_seq)\n",
    "            #Append to the list as a dictionary\n",
    "            data.append({\n",
    "                'chr': row['chr_name'],\n",
    "                'strand': row['strand'],\n",
    "                '{}_coordinates'.format(non_coding_region): str(row['{}_start'.format(non_coding_region)])+'-'+str(row['{}_end'.format(non_coding_region)]),\n",
    "                'Ensemble_Transcript_ID': row['ENSEMBL_Transcript_ID'],\n",
    "                'RS_ID': row['RS_ID'],\n",
    "                'variant_start':  row['Variant_start'],\n",
    "                'variant_end':  row['Variant_end'],\n",
    "                'ref_neucleotide': row['Reference_Nucleotide'],\n",
    "                'alternative_neucleotide': alt,\n",
    "                'reference_seq': ref_seq,\n",
    "                'alt_seq': alt_seq\n",
    "            })\n",
    "            \n",
    "    except KeyError:\n",
    "        print(\"NA\")\n",
    "        # # If sequence is not present, append a default value\n",
    "        # ref_sequences.append(\"NA\")\n",
    "        # alt_sequences.append(\"NA\")\n",
    "        \n",
    "new_df = pd.DataFrame(data)\n",
    "print(new_df.shape)\n",
    "new_df = new_df.drop_duplicates().reset_index(drop=True)\n",
    "print(new_df.shape)\n",
    "merged_list = list(zip(new_df['reference_seq'], new_df['alt_seq']))\n",
    "merged_list = [item.upper() for tup in merged_list for item in tup]\n",
    "#print(merged_list)\n",
    "kmer_lst = list(map(seq2kmer, merged_list))\n",
    "df_kmer = pd.DataFrame(kmer_lst, columns=['Sequence'])\n",
    "df_kmer['Label'] = np.random.choice([0, 1], size=len(df_kmer))\n",
    "\n",
    "new_df.to_csv(output_path + \"/all_data_new.tsv\", sep=\"\\t\", index= False)\n",
    "df_kmer.to_csv(output_path + \"/dev.tsv\", sep=\"\\t\", index= False)"
   ]
  },
  {
   "cell_type": "code",
   "execution_count": null,
   "id": "e14368ba-5b1a-4f81-8e07-10b8068121fa",
   "metadata": {},
   "outputs": [],
   "source": [
    "new_df"
   ]
  },
  {
   "cell_type": "code",
   "execution_count": null,
   "id": "7f6ff90c-19f5-4d83-b2ab-7dbcf50a30f4",
   "metadata": {},
   "outputs": [],
   "source": [
    "df_kmer"
   ]
  },
  {
   "cell_type": "code",
   "execution_count": null,
   "id": "71fc5a7f-b9b2-4f68-b345-c02f59c74d7f",
   "metadata": {},
   "outputs": [],
   "source": []
  }
 ],
 "metadata": {
  "kernelspec": {
   "display_name": "Python 3 (ipykernel)",
   "language": "python",
   "name": "python3"
  },
  "language_info": {
   "codemirror_mode": {
    "name": "ipython",
    "version": 3
   },
   "file_extension": ".py",
   "mimetype": "text/x-python",
   "name": "python",
   "nbconvert_exporter": "python",
   "pygments_lexer": "ipython3",
   "version": "3.10.11"
  }
 },
 "nbformat": 4,
 "nbformat_minor": 5
}
