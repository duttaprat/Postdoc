{
 "cells": [
  {
   "cell_type": "code",
   "execution_count": 60,
   "id": "63f40c7b-4e9b-4626-a876-38edcd6b2686",
   "metadata": {},
   "outputs": [],
   "source": [
    "import os, glob\n",
    "import numpy as np\n",
    "import pandas as pd\n",
    "import math\n",
    "import plotly.graph_objects as go\n",
    "import plotly.express as px\n",
    "import plotly.figure_factory as ff\n",
    "import seaborn as sns\n",
    "import matplotlib.pyplot as plt\n",
    "from scipy.stats import norm\n",
    "from scipy import stats\n",
    "from statsmodels.stats.weightstats import ztest"
   ]
  },
  {
   "cell_type": "code",
   "execution_count": 61,
   "id": "7e1bf78f-c95e-40e7-a553-4ed206291da8",
   "metadata": {},
   "outputs": [],
   "source": [
    "base_dir = \"/data/projects/DNABERT_snv/Manuscript_11_2023/DBSNP_output/DNABERT_data/core_prom\""
   ]
  },
  {
   "cell_type": "code",
   "execution_count": 62,
   "id": "7f51a017-a684-4935-9920-bf80a213876e",
   "metadata": {},
   "outputs": [],
   "source": [
    "output_path = \"/data/projects/DNABERT_snv/Manuscript_11_2023/DBSNP_output/Varaiant_Analysis_Data/NonTATA\"\n",
    "if not os.path.exists(output_path):\n",
    "    os.makedirs(output_path)"
   ]
  },
  {
   "cell_type": "code",
   "execution_count": 63,
   "id": "d0c512c7-f77d-4f25-9659-866eb47116c9",
   "metadata": {},
   "outputs": [],
   "source": [
    "def log_oods_ratio(p1,p2):\n",
    "    term1 = math.log2(p1/(1-p1))\n",
    "    term2 = math.log2(p2/(1-p2))\n",
    "    return (term1-term2)\n",
    "def calculate_diff_probab(p1,p2):\n",
    "    return((p2-p1)*max(p1,p2))"
   ]
  },
  {
   "cell_type": "code",
   "execution_count": 64,
   "id": "927633b9-cb8e-4d5c-b0ee-d5afd2814508",
   "metadata": {},
   "outputs": [
    {
     "name": "stdout",
     "output_type": "stream",
     "text": [
      "19395638 9697819.0\n",
      "(9697819, 11)\n",
      "(9697819, 13)\n"
     ]
    }
   ],
   "source": [
    "df_dict = {}\n",
    "df_list = []\n",
    "pred_probab = np.load(base_dir+\"/pred_NonTATA.npy\")\n",
    "print(len(pred_probab), len(pred_probab)/2)\n",
    "df = pd.read_csv(base_dir+\"/all_data_new.tsv\", sep= \"\\t\")\n",
    "print(df.shape)\n",
    "Reference_probab = pred_probab[::2]\n",
    "Alternative_probab = pred_probab[1::2]\n",
    "df['Ref_probab']=Reference_probab\n",
    "df['Alt_probab']=Alternative_probab\n",
    "print(df.shape)\n",
    "df = df[~((df['Ref_probab'] == 5) | (df['Alt_probab'] == 5))]\n",
    "df['ScoreChange'] = df.apply(lambda row: calculate_diff_probab(row['Ref_probab'], row['Alt_probab']), axis=1)\n",
    "df['LogOddRatio'] = df.apply(lambda row: log_oods_ratio(row['Ref_probab'], row['Alt_probab']), axis=1)"
   ]
  },
  {
   "cell_type": "code",
   "execution_count": 65,
   "id": "3463e015-6276-4113-801d-9d713d9726b2",
   "metadata": {},
   "outputs": [
    {
     "data": {
      "text/html": [
       "<div>\n",
       "<style scoped>\n",
       "    .dataframe tbody tr th:only-of-type {\n",
       "        vertical-align: middle;\n",
       "    }\n",
       "\n",
       "    .dataframe tbody tr th {\n",
       "        vertical-align: top;\n",
       "    }\n",
       "\n",
       "    .dataframe thead th {\n",
       "        text-align: right;\n",
       "    }\n",
       "</style>\n",
       "<table border=\"1\" class=\"dataframe\">\n",
       "  <thead>\n",
       "    <tr style=\"text-align: right;\">\n",
       "      <th></th>\n",
       "      <th>chr</th>\n",
       "      <th>strand</th>\n",
       "      <th>core_prom_coordinates</th>\n",
       "      <th>Ensemble_Transcript_ID</th>\n",
       "      <th>RS_ID</th>\n",
       "      <th>variant_start</th>\n",
       "      <th>variant_end</th>\n",
       "      <th>ref_neucleotide</th>\n",
       "      <th>alternative_neucleotide</th>\n",
       "      <th>reference_seq</th>\n",
       "      <th>alt_seq</th>\n",
       "      <th>Ref_probab</th>\n",
       "      <th>Alt_probab</th>\n",
       "      <th>ScoreChange</th>\n",
       "      <th>LogOddRatio</th>\n",
       "    </tr>\n",
       "  </thead>\n",
       "  <tbody>\n",
       "    <tr>\n",
       "      <th>0</th>\n",
       "      <td>chr11</td>\n",
       "      <td>+</td>\n",
       "      <td>64305479-64305568</td>\n",
       "      <td>ENST00000000442</td>\n",
       "      <td>rs2035011417</td>\n",
       "      <td>64305479</td>\n",
       "      <td>64305480</td>\n",
       "      <td>C</td>\n",
       "      <td>A</td>\n",
       "      <td>CCCGCCCCCTGCTTTGCATGCGCACGGCCGGCCCCACCCCCGCTGT...</td>\n",
       "      <td>ACCGCCCCCTGCTTTGCATGCGCACGGCCGGCCCCACCCCCGCTGT...</td>\n",
       "      <td>0.991529</td>\n",
       "      <td>0.991592</td>\n",
       "      <td>0.000062</td>\n",
       "      <td>-0.010831</td>\n",
       "    </tr>\n",
       "    <tr>\n",
       "      <th>1</th>\n",
       "      <td>chr11</td>\n",
       "      <td>+</td>\n",
       "      <td>64305479-64305568</td>\n",
       "      <td>ENST00000000442</td>\n",
       "      <td>rs1279195484</td>\n",
       "      <td>64305481</td>\n",
       "      <td>64305482</td>\n",
       "      <td>C</td>\n",
       "      <td>A</td>\n",
       "      <td>CCCGCCCCCTGCTTTGCATGCGCACGGCCGGCCCCACCCCCGCTGT...</td>\n",
       "      <td>CCAGCCCCCTGCTTTGCATGCGCACGGCCGGCCCCACCCCCGCTGT...</td>\n",
       "      <td>0.991529</td>\n",
       "      <td>0.992276</td>\n",
       "      <td>0.000741</td>\n",
       "      <td>-0.134275</td>\n",
       "    </tr>\n",
       "    <tr>\n",
       "      <th>2</th>\n",
       "      <td>chr11</td>\n",
       "      <td>+</td>\n",
       "      <td>64305479-64305568</td>\n",
       "      <td>ENST00000000442</td>\n",
       "      <td>rs1414580223</td>\n",
       "      <td>64305482</td>\n",
       "      <td>64305483</td>\n",
       "      <td>G</td>\n",
       "      <td>A</td>\n",
       "      <td>CCCGCCCCCTGCTTTGCATGCGCACGGCCGGCCCCACCCCCGCTGT...</td>\n",
       "      <td>CCCACCCCCTGCTTTGCATGCGCACGGCCGGCCCCACCCCCGCTGT...</td>\n",
       "      <td>0.991529</td>\n",
       "      <td>0.986426</td>\n",
       "      <td>-0.005059</td>\n",
       "      <td>0.687633</td>\n",
       "    </tr>\n",
       "    <tr>\n",
       "      <th>3</th>\n",
       "      <td>chr11</td>\n",
       "      <td>+</td>\n",
       "      <td>64305479-64305568</td>\n",
       "      <td>ENST00000000442</td>\n",
       "      <td>rs2035011529</td>\n",
       "      <td>64305483</td>\n",
       "      <td>64305484</td>\n",
       "      <td>C</td>\n",
       "      <td>A</td>\n",
       "      <td>CCCGCCCCCTGCTTTGCATGCGCACGGCCGGCCCCACCCCCGCTGT...</td>\n",
       "      <td>CCCGACCCCTGCTTTGCATGCGCACGGCCGGCCCCACCCCCGCTGT...</td>\n",
       "      <td>0.991529</td>\n",
       "      <td>0.979262</td>\n",
       "      <td>-0.012163</td>\n",
       "      <td>1.309631</td>\n",
       "    </tr>\n",
       "    <tr>\n",
       "      <th>4</th>\n",
       "      <td>chr11</td>\n",
       "      <td>+</td>\n",
       "      <td>64305479-64305568</td>\n",
       "      <td>ENST00000000442</td>\n",
       "      <td>rs2035011529</td>\n",
       "      <td>64305483</td>\n",
       "      <td>64305484</td>\n",
       "      <td>C</td>\n",
       "      <td>T</td>\n",
       "      <td>CCCGCCCCCTGCTTTGCATGCGCACGGCCGGCCCCACCCCCGCTGT...</td>\n",
       "      <td>CCCGTCCCCTGCTTTGCATGCGCACGGCCGGCCCCACCCCCGCTGT...</td>\n",
       "      <td>0.991529</td>\n",
       "      <td>0.990381</td>\n",
       "      <td>-0.001138</td>\n",
       "      <td>0.184996</td>\n",
       "    </tr>\n",
       "    <tr>\n",
       "      <th>...</th>\n",
       "      <td>...</td>\n",
       "      <td>...</td>\n",
       "      <td>...</td>\n",
       "      <td>...</td>\n",
       "      <td>...</td>\n",
       "      <td>...</td>\n",
       "      <td>...</td>\n",
       "      <td>...</td>\n",
       "      <td>...</td>\n",
       "      <td>...</td>\n",
       "      <td>...</td>\n",
       "      <td>...</td>\n",
       "      <td>...</td>\n",
       "      <td>...</td>\n",
       "      <td>...</td>\n",
       "    </tr>\n",
       "    <tr>\n",
       "      <th>9697814</th>\n",
       "      <td>chr2</td>\n",
       "      <td>-</td>\n",
       "      <td>85888732-85888821</td>\n",
       "      <td>ENST00000640992</td>\n",
       "      <td>rs1350089366</td>\n",
       "      <td>85888813</td>\n",
       "      <td>85888814</td>\n",
       "      <td>C</td>\n",
       "      <td>A</td>\n",
       "      <td>GCGCCCAGCCGGCCCGGGAAGAGACAAGTCGCCGCCGCAGCCCCCA...</td>\n",
       "      <td>GCGCCCAGCCGGCCCGGGAAGAGACAAGTCGCCGCCGCAGCCCCCA...</td>\n",
       "      <td>0.995190</td>\n",
       "      <td>0.995322</td>\n",
       "      <td>0.000132</td>\n",
       "      <td>-0.040563</td>\n",
       "    </tr>\n",
       "    <tr>\n",
       "      <th>9697815</th>\n",
       "      <td>chr2</td>\n",
       "      <td>-</td>\n",
       "      <td>85888732-85888821</td>\n",
       "      <td>ENST00000640992</td>\n",
       "      <td>rs1350089366</td>\n",
       "      <td>85888813</td>\n",
       "      <td>85888814</td>\n",
       "      <td>C</td>\n",
       "      <td>T</td>\n",
       "      <td>GCGCCCAGCCGGCCCGGGAAGAGACAAGTCGCCGCCGCAGCCCCCA...</td>\n",
       "      <td>GCGCCCAGCCGGCCCGGGAAGAGACAAGTCGCCGCCGCAGCCCCCA...</td>\n",
       "      <td>0.995190</td>\n",
       "      <td>0.995221</td>\n",
       "      <td>0.000031</td>\n",
       "      <td>-0.009389</td>\n",
       "    </tr>\n",
       "    <tr>\n",
       "      <th>9697816</th>\n",
       "      <td>chr2</td>\n",
       "      <td>-</td>\n",
       "      <td>85888732-85888821</td>\n",
       "      <td>ENST00000640992</td>\n",
       "      <td>rs1438222811</td>\n",
       "      <td>85888816</td>\n",
       "      <td>85888817</td>\n",
       "      <td>C</td>\n",
       "      <td>A</td>\n",
       "      <td>GCGCCCAGCCGGCCCGGGAAGAGACAAGTCGCCGCCGCAGCCCCCA...</td>\n",
       "      <td>GCGCCCAGCCGGCCCGGGAAGAGACAAGTCGCCGCCGCAGCCCCCA...</td>\n",
       "      <td>0.995190</td>\n",
       "      <td>0.994009</td>\n",
       "      <td>-0.001175</td>\n",
       "      <td>0.318484</td>\n",
       "    </tr>\n",
       "    <tr>\n",
       "      <th>9697817</th>\n",
       "      <td>chr2</td>\n",
       "      <td>-</td>\n",
       "      <td>85888732-85888821</td>\n",
       "      <td>ENST00000640992</td>\n",
       "      <td>rs1438222811</td>\n",
       "      <td>85888816</td>\n",
       "      <td>85888817</td>\n",
       "      <td>C</td>\n",
       "      <td>T</td>\n",
       "      <td>GCGCCCAGCCGGCCCGGGAAGAGACAAGTCGCCGCCGCAGCCCCCA...</td>\n",
       "      <td>GCGCCCAGCCGGCCCGGGAAGAGACAAGTCGCCGCCGCAGCCCCCA...</td>\n",
       "      <td>0.995190</td>\n",
       "      <td>0.994363</td>\n",
       "      <td>-0.000822</td>\n",
       "      <td>0.229880</td>\n",
       "    </tr>\n",
       "    <tr>\n",
       "      <th>9697818</th>\n",
       "      <td>chr2</td>\n",
       "      <td>-</td>\n",
       "      <td>85888732-85888821</td>\n",
       "      <td>ENST00000640992</td>\n",
       "      <td>rs1014430106</td>\n",
       "      <td>85888818</td>\n",
       "      <td>85888819</td>\n",
       "      <td>C</td>\n",
       "      <td>A</td>\n",
       "      <td>GCGCCCAGCCGGCCCGGGAAGAGACAAGTCGCCGCCGCAGCCCCCA...</td>\n",
       "      <td>GCGCCCAGCCGGCCCGGGAAGAGACAAGTCGCCGCCGCAGCCCCCA...</td>\n",
       "      <td>0.995190</td>\n",
       "      <td>0.995004</td>\n",
       "      <td>-0.000185</td>\n",
       "      <td>0.054941</td>\n",
       "    </tr>\n",
       "  </tbody>\n",
       "</table>\n",
       "<p>9697800 rows × 15 columns</p>\n",
       "</div>"
      ],
      "text/plain": [
       "           chr strand core_prom_coordinates Ensemble_Transcript_ID  \\\n",
       "0        chr11      +     64305479-64305568        ENST00000000442   \n",
       "1        chr11      +     64305479-64305568        ENST00000000442   \n",
       "2        chr11      +     64305479-64305568        ENST00000000442   \n",
       "3        chr11      +     64305479-64305568        ENST00000000442   \n",
       "4        chr11      +     64305479-64305568        ENST00000000442   \n",
       "...        ...    ...                   ...                    ...   \n",
       "9697814   chr2      -     85888732-85888821        ENST00000640992   \n",
       "9697815   chr2      -     85888732-85888821        ENST00000640992   \n",
       "9697816   chr2      -     85888732-85888821        ENST00000640992   \n",
       "9697817   chr2      -     85888732-85888821        ENST00000640992   \n",
       "9697818   chr2      -     85888732-85888821        ENST00000640992   \n",
       "\n",
       "                RS_ID  variant_start  variant_end ref_neucleotide  \\\n",
       "0        rs2035011417       64305479     64305480               C   \n",
       "1        rs1279195484       64305481     64305482               C   \n",
       "2        rs1414580223       64305482     64305483               G   \n",
       "3        rs2035011529       64305483     64305484               C   \n",
       "4        rs2035011529       64305483     64305484               C   \n",
       "...               ...            ...          ...             ...   \n",
       "9697814  rs1350089366       85888813     85888814               C   \n",
       "9697815  rs1350089366       85888813     85888814               C   \n",
       "9697816  rs1438222811       85888816     85888817               C   \n",
       "9697817  rs1438222811       85888816     85888817               C   \n",
       "9697818  rs1014430106       85888818     85888819               C   \n",
       "\n",
       "        alternative_neucleotide  \\\n",
       "0                             A   \n",
       "1                             A   \n",
       "2                             A   \n",
       "3                             A   \n",
       "4                             T   \n",
       "...                         ...   \n",
       "9697814                       A   \n",
       "9697815                       T   \n",
       "9697816                       A   \n",
       "9697817                       T   \n",
       "9697818                       A   \n",
       "\n",
       "                                             reference_seq  \\\n",
       "0        CCCGCCCCCTGCTTTGCATGCGCACGGCCGGCCCCACCCCCGCTGT...   \n",
       "1        CCCGCCCCCTGCTTTGCATGCGCACGGCCGGCCCCACCCCCGCTGT...   \n",
       "2        CCCGCCCCCTGCTTTGCATGCGCACGGCCGGCCCCACCCCCGCTGT...   \n",
       "3        CCCGCCCCCTGCTTTGCATGCGCACGGCCGGCCCCACCCCCGCTGT...   \n",
       "4        CCCGCCCCCTGCTTTGCATGCGCACGGCCGGCCCCACCCCCGCTGT...   \n",
       "...                                                    ...   \n",
       "9697814  GCGCCCAGCCGGCCCGGGAAGAGACAAGTCGCCGCCGCAGCCCCCA...   \n",
       "9697815  GCGCCCAGCCGGCCCGGGAAGAGACAAGTCGCCGCCGCAGCCCCCA...   \n",
       "9697816  GCGCCCAGCCGGCCCGGGAAGAGACAAGTCGCCGCCGCAGCCCCCA...   \n",
       "9697817  GCGCCCAGCCGGCCCGGGAAGAGACAAGTCGCCGCCGCAGCCCCCA...   \n",
       "9697818  GCGCCCAGCCGGCCCGGGAAGAGACAAGTCGCCGCCGCAGCCCCCA...   \n",
       "\n",
       "                                                   alt_seq  Ref_probab  \\\n",
       "0        ACCGCCCCCTGCTTTGCATGCGCACGGCCGGCCCCACCCCCGCTGT...    0.991529   \n",
       "1        CCAGCCCCCTGCTTTGCATGCGCACGGCCGGCCCCACCCCCGCTGT...    0.991529   \n",
       "2        CCCACCCCCTGCTTTGCATGCGCACGGCCGGCCCCACCCCCGCTGT...    0.991529   \n",
       "3        CCCGACCCCTGCTTTGCATGCGCACGGCCGGCCCCACCCCCGCTGT...    0.991529   \n",
       "4        CCCGTCCCCTGCTTTGCATGCGCACGGCCGGCCCCACCCCCGCTGT...    0.991529   \n",
       "...                                                    ...         ...   \n",
       "9697814  GCGCCCAGCCGGCCCGGGAAGAGACAAGTCGCCGCCGCAGCCCCCA...    0.995190   \n",
       "9697815  GCGCCCAGCCGGCCCGGGAAGAGACAAGTCGCCGCCGCAGCCCCCA...    0.995190   \n",
       "9697816  GCGCCCAGCCGGCCCGGGAAGAGACAAGTCGCCGCCGCAGCCCCCA...    0.995190   \n",
       "9697817  GCGCCCAGCCGGCCCGGGAAGAGACAAGTCGCCGCCGCAGCCCCCA...    0.995190   \n",
       "9697818  GCGCCCAGCCGGCCCGGGAAGAGACAAGTCGCCGCCGCAGCCCCCA...    0.995190   \n",
       "\n",
       "         Alt_probab  ScoreChange  LogOddRatio  \n",
       "0          0.991592     0.000062    -0.010831  \n",
       "1          0.992276     0.000741    -0.134275  \n",
       "2          0.986426    -0.005059     0.687633  \n",
       "3          0.979262    -0.012163     1.309631  \n",
       "4          0.990381    -0.001138     0.184996  \n",
       "...             ...          ...          ...  \n",
       "9697814    0.995322     0.000132    -0.040563  \n",
       "9697815    0.995221     0.000031    -0.009389  \n",
       "9697816    0.994009    -0.001175     0.318484  \n",
       "9697817    0.994363    -0.000822     0.229880  \n",
       "9697818    0.995004    -0.000185     0.054941  \n",
       "\n",
       "[9697800 rows x 15 columns]"
      ]
     },
     "execution_count": 65,
     "metadata": {},
     "output_type": "execute_result"
    }
   ],
   "source": [
    "df"
   ]
  },
  {
   "cell_type": "code",
   "execution_count": 86,
   "id": "03346289-9120-427a-bcae-6e2faf956dec",
   "metadata": {},
   "outputs": [
    {
     "data": {
      "text/html": [
       "<div>\n",
       "<style scoped>\n",
       "    .dataframe tbody tr th:only-of-type {\n",
       "        vertical-align: middle;\n",
       "    }\n",
       "\n",
       "    .dataframe tbody tr th {\n",
       "        vertical-align: top;\n",
       "    }\n",
       "\n",
       "    .dataframe thead th {\n",
       "        text-align: right;\n",
       "    }\n",
       "</style>\n",
       "<table border=\"1\" class=\"dataframe\">\n",
       "  <thead>\n",
       "    <tr style=\"text-align: right;\">\n",
       "      <th></th>\n",
       "      <th>chr</th>\n",
       "      <th>core_prom_coordinates</th>\n",
       "      <th>Ensemble_Transcript_ID</th>\n",
       "    </tr>\n",
       "  </thead>\n",
       "  <tbody>\n",
       "    <tr>\n",
       "      <th>0</th>\n",
       "      <td>chr11</td>\n",
       "      <td>64305479-64305568</td>\n",
       "      <td>ENST00000000442</td>\n",
       "    </tr>\n",
       "    <tr>\n",
       "      <th>1</th>\n",
       "      <td>chr11</td>\n",
       "      <td>113875526-113875615</td>\n",
       "      <td>ENST00000003302</td>\n",
       "    </tr>\n",
       "    <tr>\n",
       "      <th>2</th>\n",
       "      <td>chr11</td>\n",
       "      <td>3379072-3379161</td>\n",
       "      <td>ENST00000005082</td>\n",
       "    </tr>\n",
       "    <tr>\n",
       "      <th>3</th>\n",
       "      <td>chr11</td>\n",
       "      <td>17544372-17544461</td>\n",
       "      <td>ENST00000005226</td>\n",
       "    </tr>\n",
       "    <tr>\n",
       "      <th>4</th>\n",
       "      <td>chr11</td>\n",
       "      <td>60924436-60924525</td>\n",
       "      <td>ENST00000005286</td>\n",
       "    </tr>\n",
       "    <tr>\n",
       "      <th>...</th>\n",
       "      <td>...</td>\n",
       "      <td>...</td>\n",
       "      <td>...</td>\n",
       "    </tr>\n",
       "    <tr>\n",
       "      <th>193710</th>\n",
       "      <td>chr2</td>\n",
       "      <td>74416539-74416628</td>\n",
       "      <td>ENST00000640868</td>\n",
       "    </tr>\n",
       "    <tr>\n",
       "      <th>193711</th>\n",
       "      <td>chr2</td>\n",
       "      <td>131379631-131379720</td>\n",
       "      <td>ENST00000640874</td>\n",
       "    </tr>\n",
       "    <tr>\n",
       "      <th>193712</th>\n",
       "      <td>chr2</td>\n",
       "      <td>85870195-85870284</td>\n",
       "      <td>ENST00000640903</td>\n",
       "    </tr>\n",
       "    <tr>\n",
       "      <th>193713</th>\n",
       "      <td>chr2</td>\n",
       "      <td>85888718-85888807</td>\n",
       "      <td>ENST00000640982</td>\n",
       "    </tr>\n",
       "    <tr>\n",
       "      <th>193714</th>\n",
       "      <td>chr2</td>\n",
       "      <td>85888732-85888821</td>\n",
       "      <td>ENST00000640992</td>\n",
       "    </tr>\n",
       "  </tbody>\n",
       "</table>\n",
       "<p>193715 rows × 3 columns</p>\n",
       "</div>"
      ],
      "text/plain": [
       "          chr core_prom_coordinates Ensemble_Transcript_ID\n",
       "0       chr11     64305479-64305568        ENST00000000442\n",
       "1       chr11   113875526-113875615        ENST00000003302\n",
       "2       chr11       3379072-3379161        ENST00000005082\n",
       "3       chr11     17544372-17544461        ENST00000005226\n",
       "4       chr11     60924436-60924525        ENST00000005286\n",
       "...       ...                   ...                    ...\n",
       "193710   chr2     74416539-74416628        ENST00000640868\n",
       "193711   chr2   131379631-131379720        ENST00000640874\n",
       "193712   chr2     85870195-85870284        ENST00000640903\n",
       "193713   chr2     85888718-85888807        ENST00000640982\n",
       "193714   chr2     85888732-85888821        ENST00000640992\n",
       "\n",
       "[193715 rows x 3 columns]"
      ]
     },
     "execution_count": 86,
     "metadata": {},
     "output_type": "execute_result"
    }
   ],
   "source": [
    "df[['chr','core_prom_coordinates', 'Ensemble_Transcript_ID']].drop_duplicates().reset_index(drop=True)"
   ]
  },
  {
   "cell_type": "code",
   "execution_count": 87,
   "id": "6a3b1c04-c66a-4d7b-abd6-74b4fca232df",
   "metadata": {},
   "outputs": [
    {
     "data": {
      "text/html": [
       "<div>\n",
       "<style scoped>\n",
       "    .dataframe tbody tr th:only-of-type {\n",
       "        vertical-align: middle;\n",
       "    }\n",
       "\n",
       "    .dataframe tbody tr th {\n",
       "        vertical-align: top;\n",
       "    }\n",
       "\n",
       "    .dataframe thead th {\n",
       "        text-align: right;\n",
       "    }\n",
       "</style>\n",
       "<table border=\"1\" class=\"dataframe\">\n",
       "  <thead>\n",
       "    <tr style=\"text-align: right;\">\n",
       "      <th></th>\n",
       "      <th>chr</th>\n",
       "      <th>core_prom_coordinates</th>\n",
       "    </tr>\n",
       "  </thead>\n",
       "  <tbody>\n",
       "    <tr>\n",
       "      <th>0</th>\n",
       "      <td>chr11</td>\n",
       "      <td>64305479-64305568</td>\n",
       "    </tr>\n",
       "    <tr>\n",
       "      <th>1</th>\n",
       "      <td>chr11</td>\n",
       "      <td>113875526-113875615</td>\n",
       "    </tr>\n",
       "    <tr>\n",
       "      <th>2</th>\n",
       "      <td>chr11</td>\n",
       "      <td>3379072-3379161</td>\n",
       "    </tr>\n",
       "    <tr>\n",
       "      <th>3</th>\n",
       "      <td>chr11</td>\n",
       "      <td>17544372-17544461</td>\n",
       "    </tr>\n",
       "    <tr>\n",
       "      <th>4</th>\n",
       "      <td>chr11</td>\n",
       "      <td>60924436-60924525</td>\n",
       "    </tr>\n",
       "    <tr>\n",
       "      <th>...</th>\n",
       "      <td>...</td>\n",
       "      <td>...</td>\n",
       "    </tr>\n",
       "    <tr>\n",
       "      <th>177212</th>\n",
       "      <td>chr2</td>\n",
       "      <td>74416539-74416628</td>\n",
       "    </tr>\n",
       "    <tr>\n",
       "      <th>177213</th>\n",
       "      <td>chr2</td>\n",
       "      <td>131379631-131379720</td>\n",
       "    </tr>\n",
       "    <tr>\n",
       "      <th>177214</th>\n",
       "      <td>chr2</td>\n",
       "      <td>85870195-85870284</td>\n",
       "    </tr>\n",
       "    <tr>\n",
       "      <th>177215</th>\n",
       "      <td>chr2</td>\n",
       "      <td>85888718-85888807</td>\n",
       "    </tr>\n",
       "    <tr>\n",
       "      <th>177216</th>\n",
       "      <td>chr2</td>\n",
       "      <td>85888732-85888821</td>\n",
       "    </tr>\n",
       "  </tbody>\n",
       "</table>\n",
       "<p>177217 rows × 2 columns</p>\n",
       "</div>"
      ],
      "text/plain": [
       "          chr core_prom_coordinates\n",
       "0       chr11     64305479-64305568\n",
       "1       chr11   113875526-113875615\n",
       "2       chr11       3379072-3379161\n",
       "3       chr11     17544372-17544461\n",
       "4       chr11     60924436-60924525\n",
       "...       ...                   ...\n",
       "177212   chr2     74416539-74416628\n",
       "177213   chr2   131379631-131379720\n",
       "177214   chr2     85870195-85870284\n",
       "177215   chr2     85888718-85888807\n",
       "177216   chr2     85888732-85888821\n",
       "\n",
       "[177217 rows x 2 columns]"
      ]
     },
     "execution_count": 87,
     "metadata": {},
     "output_type": "execute_result"
    }
   ],
   "source": [
    "df[['chr','core_prom_coordinates']].drop_duplicates().reset_index(drop=True)"
   ]
  },
  {
   "cell_type": "code",
   "execution_count": 88,
   "id": "659f90bf-b1b4-402a-9fa6-407caedfef02",
   "metadata": {},
   "outputs": [
    {
     "data": {
      "text/html": [
       "<div>\n",
       "<style scoped>\n",
       "    .dataframe tbody tr th:only-of-type {\n",
       "        vertical-align: middle;\n",
       "    }\n",
       "\n",
       "    .dataframe tbody tr th {\n",
       "        vertical-align: top;\n",
       "    }\n",
       "\n",
       "    .dataframe thead th {\n",
       "        text-align: right;\n",
       "    }\n",
       "</style>\n",
       "<table border=\"1\" class=\"dataframe\">\n",
       "  <thead>\n",
       "    <tr style=\"text-align: right;\">\n",
       "      <th></th>\n",
       "      <th>RS_ID</th>\n",
       "      <th>variant_start</th>\n",
       "      <th>variant_end</th>\n",
       "    </tr>\n",
       "  </thead>\n",
       "  <tbody>\n",
       "    <tr>\n",
       "      <th>0</th>\n",
       "      <td>rs2035011417</td>\n",
       "      <td>64305479</td>\n",
       "      <td>64305480</td>\n",
       "    </tr>\n",
       "    <tr>\n",
       "      <th>1</th>\n",
       "      <td>rs1279195484</td>\n",
       "      <td>64305481</td>\n",
       "      <td>64305482</td>\n",
       "    </tr>\n",
       "    <tr>\n",
       "      <th>2</th>\n",
       "      <td>rs1414580223</td>\n",
       "      <td>64305482</td>\n",
       "      <td>64305483</td>\n",
       "    </tr>\n",
       "    <tr>\n",
       "      <th>3</th>\n",
       "      <td>rs2035011529</td>\n",
       "      <td>64305483</td>\n",
       "      <td>64305484</td>\n",
       "    </tr>\n",
       "    <tr>\n",
       "      <th>4</th>\n",
       "      <td>rs1339490525</td>\n",
       "      <td>64305483</td>\n",
       "      <td>64305488</td>\n",
       "    </tr>\n",
       "    <tr>\n",
       "      <th>...</th>\n",
       "      <td>...</td>\n",
       "      <td>...</td>\n",
       "      <td>...</td>\n",
       "    </tr>\n",
       "    <tr>\n",
       "      <th>5013843</th>\n",
       "      <td>rs575453668</td>\n",
       "      <td>131379702</td>\n",
       "      <td>131379703</td>\n",
       "    </tr>\n",
       "    <tr>\n",
       "      <th>5013844</th>\n",
       "      <td>rs117940763</td>\n",
       "      <td>131379703</td>\n",
       "      <td>131379704</td>\n",
       "    </tr>\n",
       "    <tr>\n",
       "      <th>5013845</th>\n",
       "      <td>rs113872181</td>\n",
       "      <td>131379711</td>\n",
       "      <td>131379712</td>\n",
       "    </tr>\n",
       "    <tr>\n",
       "      <th>5013846</th>\n",
       "      <td>rs1427777532</td>\n",
       "      <td>131379713</td>\n",
       "      <td>131379714</td>\n",
       "    </tr>\n",
       "    <tr>\n",
       "      <th>5013847</th>\n",
       "      <td>rs1573810223</td>\n",
       "      <td>131379714</td>\n",
       "      <td>131379715</td>\n",
       "    </tr>\n",
       "  </tbody>\n",
       "</table>\n",
       "<p>5013848 rows × 3 columns</p>\n",
       "</div>"
      ],
      "text/plain": [
       "                RS_ID  variant_start  variant_end\n",
       "0        rs2035011417       64305479     64305480\n",
       "1        rs1279195484       64305481     64305482\n",
       "2        rs1414580223       64305482     64305483\n",
       "3        rs2035011529       64305483     64305484\n",
       "4        rs1339490525       64305483     64305488\n",
       "...               ...            ...          ...\n",
       "5013843   rs575453668      131379702    131379703\n",
       "5013844   rs117940763      131379703    131379704\n",
       "5013845   rs113872181      131379711    131379712\n",
       "5013846  rs1427777532      131379713    131379714\n",
       "5013847  rs1573810223      131379714    131379715\n",
       "\n",
       "[5013848 rows x 3 columns]"
      ]
     },
     "execution_count": 88,
     "metadata": {},
     "output_type": "execute_result"
    }
   ],
   "source": [
    "df[['RS_ID', 'variant_start','variant_end']].drop_duplicates().reset_index(drop=True)"
   ]
  },
  {
   "cell_type": "code",
   "execution_count": 89,
   "id": "ee694163-4c7b-4913-a954-506d3efddcb6",
   "metadata": {},
   "outputs": [
    {
     "data": {
      "text/html": [
       "<div>\n",
       "<style scoped>\n",
       "    .dataframe tbody tr th:only-of-type {\n",
       "        vertical-align: middle;\n",
       "    }\n",
       "\n",
       "    .dataframe tbody tr th {\n",
       "        vertical-align: top;\n",
       "    }\n",
       "\n",
       "    .dataframe thead th {\n",
       "        text-align: right;\n",
       "    }\n",
       "</style>\n",
       "<table border=\"1\" class=\"dataframe\">\n",
       "  <thead>\n",
       "    <tr style=\"text-align: right;\">\n",
       "      <th></th>\n",
       "      <th>chr</th>\n",
       "      <th>strand</th>\n",
       "      <th>core_prom_coordinates</th>\n",
       "      <th>Ensemble_Transcript_ID</th>\n",
       "      <th>RS_ID</th>\n",
       "      <th>variant_start</th>\n",
       "      <th>variant_end</th>\n",
       "      <th>ref_neucleotide</th>\n",
       "      <th>alternative_neucleotide</th>\n",
       "      <th>reference_seq</th>\n",
       "      <th>alt_seq</th>\n",
       "      <th>Ref_probab</th>\n",
       "      <th>Alt_probab</th>\n",
       "      <th>ScoreChange</th>\n",
       "      <th>LogOddRatio</th>\n",
       "    </tr>\n",
       "  </thead>\n",
       "  <tbody>\n",
       "    <tr>\n",
       "      <th>168</th>\n",
       "      <td>chr11</td>\n",
       "      <td>-</td>\n",
       "      <td>3379072-3379161</td>\n",
       "      <td>ENST00000005082</td>\n",
       "      <td>rs1203817043</td>\n",
       "      <td>3379075</td>\n",
       "      <td>3379076</td>\n",
       "      <td>G</td>\n",
       "      <td>A</td>\n",
       "      <td>TCTGGATCTCCCGGTGCCTGCGGGTCACACGACCTACGGCTAGCAG...</td>\n",
       "      <td>TCTAGATCTCCCGGTGCCTGCGGGTCACACGACCTACGGCTAGCAG...</td>\n",
       "      <td>0.643893</td>\n",
       "      <td>0.180161</td>\n",
       "      <td>-0.298593</td>\n",
       "      <td>3.040560</td>\n",
       "    </tr>\n",
       "    <tr>\n",
       "      <th>169</th>\n",
       "      <td>chr11</td>\n",
       "      <td>-</td>\n",
       "      <td>3379072-3379161</td>\n",
       "      <td>ENST00000005082</td>\n",
       "      <td>rs766216432</td>\n",
       "      <td>3379076</td>\n",
       "      <td>3379077</td>\n",
       "      <td>G</td>\n",
       "      <td>A</td>\n",
       "      <td>TCTGGATCTCCCGGTGCCTGCGGGTCACACGACCTACGGCTAGCAG...</td>\n",
       "      <td>TCTGAATCTCCCGGTGCCTGCGGGTCACACGACCTACGGCTAGCAG...</td>\n",
       "      <td>0.643893</td>\n",
       "      <td>0.452738</td>\n",
       "      <td>-0.123083</td>\n",
       "      <td>1.128060</td>\n",
       "    </tr>\n",
       "    <tr>\n",
       "      <th>173</th>\n",
       "      <td>chr11</td>\n",
       "      <td>-</td>\n",
       "      <td>3379072-3379161</td>\n",
       "      <td>ENST00000005082</td>\n",
       "      <td>rs754697033</td>\n",
       "      <td>3379090</td>\n",
       "      <td>3379091</td>\n",
       "      <td>T</td>\n",
       "      <td>G</td>\n",
       "      <td>TCTGGATCTCCCGGTGCCTGCGGGTCACACGACCTACGGCTAGCAG...</td>\n",
       "      <td>TCTGGATCTCCCGGTGCCGGCGGGTCACACGACCTACGGCTAGCAG...</td>\n",
       "      <td>0.643893</td>\n",
       "      <td>0.412903</td>\n",
       "      <td>-0.148733</td>\n",
       "      <td>1.362305</td>\n",
       "    </tr>\n",
       "    <tr>\n",
       "      <th>175</th>\n",
       "      <td>chr11</td>\n",
       "      <td>-</td>\n",
       "      <td>3379072-3379161</td>\n",
       "      <td>ENST00000005082</td>\n",
       "      <td>rs1021936900</td>\n",
       "      <td>3379094</td>\n",
       "      <td>3379095</td>\n",
       "      <td>G</td>\n",
       "      <td>A</td>\n",
       "      <td>TCTGGATCTCCCGGTGCCTGCGGGTCACACGACCTACGGCTAGCAG...</td>\n",
       "      <td>TCTGGATCTCCCGGTGCCTGCGAGTCACACGACCTACGGCTAGCAG...</td>\n",
       "      <td>0.643893</td>\n",
       "      <td>0.427249</td>\n",
       "      <td>-0.139495</td>\n",
       "      <td>1.277340</td>\n",
       "    </tr>\n",
       "    <tr>\n",
       "      <th>177</th>\n",
       "      <td>chr11</td>\n",
       "      <td>-</td>\n",
       "      <td>3379072-3379161</td>\n",
       "      <td>ENST00000005082</td>\n",
       "      <td>rs1467010217</td>\n",
       "      <td>3379096</td>\n",
       "      <td>3379096</td>\n",
       "      <td>.</td>\n",
       "      <td>A</td>\n",
       "      <td>TCTGGATCTCCCGGTGCCTGCGGGTCACACGACCTACGGCTAGCAG...</td>\n",
       "      <td>TCTGGATCTCCCGGTGCCTGCGGGATCACACGACCTACGGCTAGCA...</td>\n",
       "      <td>0.643893</td>\n",
       "      <td>0.385168</td>\n",
       "      <td>-0.166591</td>\n",
       "      <td>1.529211</td>\n",
       "    </tr>\n",
       "    <tr>\n",
       "      <th>...</th>\n",
       "      <td>...</td>\n",
       "      <td>...</td>\n",
       "      <td>...</td>\n",
       "      <td>...</td>\n",
       "      <td>...</td>\n",
       "      <td>...</td>\n",
       "      <td>...</td>\n",
       "      <td>...</td>\n",
       "      <td>...</td>\n",
       "      <td>...</td>\n",
       "      <td>...</td>\n",
       "      <td>...</td>\n",
       "      <td>...</td>\n",
       "      <td>...</td>\n",
       "      <td>...</td>\n",
       "    </tr>\n",
       "    <tr>\n",
       "      <th>9697458</th>\n",
       "      <td>chr2</td>\n",
       "      <td>-</td>\n",
       "      <td>85854131-85854220</td>\n",
       "      <td>ENST00000640798</td>\n",
       "      <td>rs1025041484</td>\n",
       "      <td>85854173</td>\n",
       "      <td>85854174</td>\n",
       "      <td>T</td>\n",
       "      <td>C</td>\n",
       "      <td>TATTTCCGTATTACTTGAATTTTTGGTGTTTTTTTTAAATAATTGA...</td>\n",
       "      <td>TATTTCCGTATTACTTGAATTTTTGGTGTTTTTTTTAAATAACTGA...</td>\n",
       "      <td>0.525017</td>\n",
       "      <td>0.481950</td>\n",
       "      <td>-0.022611</td>\n",
       "      <td>0.248695</td>\n",
       "    </tr>\n",
       "    <tr>\n",
       "      <th>9697460</th>\n",
       "      <td>chr2</td>\n",
       "      <td>-</td>\n",
       "      <td>85854131-85854220</td>\n",
       "      <td>ENST00000640798</td>\n",
       "      <td>rs1485540647</td>\n",
       "      <td>85854187</td>\n",
       "      <td>85854188</td>\n",
       "      <td>C</td>\n",
       "      <td>G</td>\n",
       "      <td>TATTTCCGTATTACTTGAATTTTTGGTGTTTTTTTTAAATAATTGA...</td>\n",
       "      <td>TATTTCCGTATTACTTGAATTTTTGGTGTTTTTTTTAAATAATTGA...</td>\n",
       "      <td>0.525017</td>\n",
       "      <td>0.388536</td>\n",
       "      <td>-0.071655</td>\n",
       "      <td>0.798705</td>\n",
       "    </tr>\n",
       "    <tr>\n",
       "      <th>9697461</th>\n",
       "      <td>chr2</td>\n",
       "      <td>-</td>\n",
       "      <td>85854131-85854220</td>\n",
       "      <td>ENST00000640798</td>\n",
       "      <td>rs912144056</td>\n",
       "      <td>85854189</td>\n",
       "      <td>85854190</td>\n",
       "      <td>T</td>\n",
       "      <td>C</td>\n",
       "      <td>TATTTCCGTATTACTTGAATTTTTGGTGTTTTTTTTAAATAATTGA...</td>\n",
       "      <td>TATTTCCGTATTACTTGAATTTTTGGTGTTTTTTTTAAATAATTGA...</td>\n",
       "      <td>0.525017</td>\n",
       "      <td>0.449949</td>\n",
       "      <td>-0.039412</td>\n",
       "      <td>0.434293</td>\n",
       "    </tr>\n",
       "    <tr>\n",
       "      <th>9697468</th>\n",
       "      <td>chr2</td>\n",
       "      <td>-</td>\n",
       "      <td>85854131-85854220</td>\n",
       "      <td>ENST00000640798</td>\n",
       "      <td>rs999351413</td>\n",
       "      <td>85854208</td>\n",
       "      <td>85854209</td>\n",
       "      <td>T</td>\n",
       "      <td>G</td>\n",
       "      <td>TATTTCCGTATTACTTGAATTTTTGGTGTTTTTTTTAAATAATTGA...</td>\n",
       "      <td>TATTTCCGTATTACTTGAATTTTTGGTGTTTTTTTTAAATAATTGA...</td>\n",
       "      <td>0.525017</td>\n",
       "      <td>0.335036</td>\n",
       "      <td>-0.099743</td>\n",
       "      <td>1.133446</td>\n",
       "    </tr>\n",
       "    <tr>\n",
       "      <th>9697469</th>\n",
       "      <td>chr2</td>\n",
       "      <td>-</td>\n",
       "      <td>85854131-85854220</td>\n",
       "      <td>ENST00000640798</td>\n",
       "      <td>rs1381023475</td>\n",
       "      <td>85854209</td>\n",
       "      <td>85854210</td>\n",
       "      <td>G</td>\n",
       "      <td>A</td>\n",
       "      <td>TATTTCCGTATTACTTGAATTTTTGGTGTTTTTTTTAAATAATTGA...</td>\n",
       "      <td>TATTTCCGTATTACTTGAATTTTTGGTGTTTTTTTTAAATAATTGA...</td>\n",
       "      <td>0.525017</td>\n",
       "      <td>0.447160</td>\n",
       "      <td>-0.040876</td>\n",
       "      <td>0.450560</td>\n",
       "    </tr>\n",
       "  </tbody>\n",
       "</table>\n",
       "<p>278169 rows × 15 columns</p>\n",
       "</div>"
      ],
      "text/plain": [
       "           chr strand core_prom_coordinates Ensemble_Transcript_ID  \\\n",
       "168      chr11      -       3379072-3379161        ENST00000005082   \n",
       "169      chr11      -       3379072-3379161        ENST00000005082   \n",
       "173      chr11      -       3379072-3379161        ENST00000005082   \n",
       "175      chr11      -       3379072-3379161        ENST00000005082   \n",
       "177      chr11      -       3379072-3379161        ENST00000005082   \n",
       "...        ...    ...                   ...                    ...   \n",
       "9697458   chr2      -     85854131-85854220        ENST00000640798   \n",
       "9697460   chr2      -     85854131-85854220        ENST00000640798   \n",
       "9697461   chr2      -     85854131-85854220        ENST00000640798   \n",
       "9697468   chr2      -     85854131-85854220        ENST00000640798   \n",
       "9697469   chr2      -     85854131-85854220        ENST00000640798   \n",
       "\n",
       "                RS_ID  variant_start  variant_end ref_neucleotide  \\\n",
       "168      rs1203817043        3379075      3379076               G   \n",
       "169       rs766216432        3379076      3379077               G   \n",
       "173       rs754697033        3379090      3379091               T   \n",
       "175      rs1021936900        3379094      3379095               G   \n",
       "177      rs1467010217        3379096      3379096               .   \n",
       "...               ...            ...          ...             ...   \n",
       "9697458  rs1025041484       85854173     85854174               T   \n",
       "9697460  rs1485540647       85854187     85854188               C   \n",
       "9697461   rs912144056       85854189     85854190               T   \n",
       "9697468   rs999351413       85854208     85854209               T   \n",
       "9697469  rs1381023475       85854209     85854210               G   \n",
       "\n",
       "        alternative_neucleotide  \\\n",
       "168                           A   \n",
       "169                           A   \n",
       "173                           G   \n",
       "175                           A   \n",
       "177                           A   \n",
       "...                         ...   \n",
       "9697458                       C   \n",
       "9697460                       G   \n",
       "9697461                       C   \n",
       "9697468                       G   \n",
       "9697469                       A   \n",
       "\n",
       "                                             reference_seq  \\\n",
       "168      TCTGGATCTCCCGGTGCCTGCGGGTCACACGACCTACGGCTAGCAG...   \n",
       "169      TCTGGATCTCCCGGTGCCTGCGGGTCACACGACCTACGGCTAGCAG...   \n",
       "173      TCTGGATCTCCCGGTGCCTGCGGGTCACACGACCTACGGCTAGCAG...   \n",
       "175      TCTGGATCTCCCGGTGCCTGCGGGTCACACGACCTACGGCTAGCAG...   \n",
       "177      TCTGGATCTCCCGGTGCCTGCGGGTCACACGACCTACGGCTAGCAG...   \n",
       "...                                                    ...   \n",
       "9697458  TATTTCCGTATTACTTGAATTTTTGGTGTTTTTTTTAAATAATTGA...   \n",
       "9697460  TATTTCCGTATTACTTGAATTTTTGGTGTTTTTTTTAAATAATTGA...   \n",
       "9697461  TATTTCCGTATTACTTGAATTTTTGGTGTTTTTTTTAAATAATTGA...   \n",
       "9697468  TATTTCCGTATTACTTGAATTTTTGGTGTTTTTTTTAAATAATTGA...   \n",
       "9697469  TATTTCCGTATTACTTGAATTTTTGGTGTTTTTTTTAAATAATTGA...   \n",
       "\n",
       "                                                   alt_seq  Ref_probab  \\\n",
       "168      TCTAGATCTCCCGGTGCCTGCGGGTCACACGACCTACGGCTAGCAG...    0.643893   \n",
       "169      TCTGAATCTCCCGGTGCCTGCGGGTCACACGACCTACGGCTAGCAG...    0.643893   \n",
       "173      TCTGGATCTCCCGGTGCCGGCGGGTCACACGACCTACGGCTAGCAG...    0.643893   \n",
       "175      TCTGGATCTCCCGGTGCCTGCGAGTCACACGACCTACGGCTAGCAG...    0.643893   \n",
       "177      TCTGGATCTCCCGGTGCCTGCGGGATCACACGACCTACGGCTAGCA...    0.643893   \n",
       "...                                                    ...         ...   \n",
       "9697458  TATTTCCGTATTACTTGAATTTTTGGTGTTTTTTTTAAATAACTGA...    0.525017   \n",
       "9697460  TATTTCCGTATTACTTGAATTTTTGGTGTTTTTTTTAAATAATTGA...    0.525017   \n",
       "9697461  TATTTCCGTATTACTTGAATTTTTGGTGTTTTTTTTAAATAATTGA...    0.525017   \n",
       "9697468  TATTTCCGTATTACTTGAATTTTTGGTGTTTTTTTTAAATAATTGA...    0.525017   \n",
       "9697469  TATTTCCGTATTACTTGAATTTTTGGTGTTTTTTTTAAATAATTGA...    0.525017   \n",
       "\n",
       "         Alt_probab  ScoreChange  LogOddRatio  \n",
       "168        0.180161    -0.298593     3.040560  \n",
       "169        0.452738    -0.123083     1.128060  \n",
       "173        0.412903    -0.148733     1.362305  \n",
       "175        0.427249    -0.139495     1.277340  \n",
       "177        0.385168    -0.166591     1.529211  \n",
       "...             ...          ...          ...  \n",
       "9697458    0.481950    -0.022611     0.248695  \n",
       "9697460    0.388536    -0.071655     0.798705  \n",
       "9697461    0.449949    -0.039412     0.434293  \n",
       "9697468    0.335036    -0.099743     1.133446  \n",
       "9697469    0.447160    -0.040876     0.450560  \n",
       "\n",
       "[278169 rows x 15 columns]"
      ]
     },
     "execution_count": 89,
     "metadata": {},
     "output_type": "execute_result"
    }
   ],
   "source": [
    "#df_interest = df_interest[((df_interest['Ref_probab']>0.5) & (df_interest['Alt_probab']<0.5))|((df_interest['Ref_probab']<0.5) & (df_interest['Alt_probab']>0.5))]\n",
    "# df_interest = concatenated_df[(concatenated_df['Ref_probab']>0.5)|(concatenated_df['Alt_probab']>0.5)]\n",
    "# df_interest\n",
    "filtered_df1 = df[(df['Ref_probab'] >= 0.5) & (df['Alt_probab'] < 0.5)]\n",
    "#filtered_df2 = df[(df['Ref_probab'] < 0.5) & (df['Alt_probab'] > 0.5)]\n",
    "df_interest = filtered_df1\n",
    "df_interest "
   ]
  },
  {
   "cell_type": "code",
   "execution_count": 90,
   "id": "13582d2a-f78e-4186-9b00-80e4b71105d0",
   "metadata": {},
   "outputs": [
    {
     "data": {
      "text/html": [
       "<div>\n",
       "<style scoped>\n",
       "    .dataframe tbody tr th:only-of-type {\n",
       "        vertical-align: middle;\n",
       "    }\n",
       "\n",
       "    .dataframe tbody tr th {\n",
       "        vertical-align: top;\n",
       "    }\n",
       "\n",
       "    .dataframe thead th {\n",
       "        text-align: right;\n",
       "    }\n",
       "</style>\n",
       "<table border=\"1\" class=\"dataframe\">\n",
       "  <thead>\n",
       "    <tr style=\"text-align: right;\">\n",
       "      <th></th>\n",
       "      <th>RS_ID</th>\n",
       "      <th>variant_start</th>\n",
       "      <th>variant_end</th>\n",
       "    </tr>\n",
       "  </thead>\n",
       "  <tbody>\n",
       "    <tr>\n",
       "      <th>168</th>\n",
       "      <td>rs1203817043</td>\n",
       "      <td>3379075</td>\n",
       "      <td>3379076</td>\n",
       "    </tr>\n",
       "    <tr>\n",
       "      <th>169</th>\n",
       "      <td>rs766216432</td>\n",
       "      <td>3379076</td>\n",
       "      <td>3379077</td>\n",
       "    </tr>\n",
       "    <tr>\n",
       "      <th>173</th>\n",
       "      <td>rs754697033</td>\n",
       "      <td>3379090</td>\n",
       "      <td>3379091</td>\n",
       "    </tr>\n",
       "    <tr>\n",
       "      <th>175</th>\n",
       "      <td>rs1021936900</td>\n",
       "      <td>3379094</td>\n",
       "      <td>3379095</td>\n",
       "    </tr>\n",
       "    <tr>\n",
       "      <th>177</th>\n",
       "      <td>rs1467010217</td>\n",
       "      <td>3379096</td>\n",
       "      <td>3379096</td>\n",
       "    </tr>\n",
       "    <tr>\n",
       "      <th>...</th>\n",
       "      <td>...</td>\n",
       "      <td>...</td>\n",
       "      <td>...</td>\n",
       "    </tr>\n",
       "    <tr>\n",
       "      <th>9697458</th>\n",
       "      <td>rs1025041484</td>\n",
       "      <td>85854173</td>\n",
       "      <td>85854174</td>\n",
       "    </tr>\n",
       "    <tr>\n",
       "      <th>9697460</th>\n",
       "      <td>rs1485540647</td>\n",
       "      <td>85854187</td>\n",
       "      <td>85854188</td>\n",
       "    </tr>\n",
       "    <tr>\n",
       "      <th>9697461</th>\n",
       "      <td>rs912144056</td>\n",
       "      <td>85854189</td>\n",
       "      <td>85854190</td>\n",
       "    </tr>\n",
       "    <tr>\n",
       "      <th>9697468</th>\n",
       "      <td>rs999351413</td>\n",
       "      <td>85854208</td>\n",
       "      <td>85854209</td>\n",
       "    </tr>\n",
       "    <tr>\n",
       "      <th>9697469</th>\n",
       "      <td>rs1381023475</td>\n",
       "      <td>85854209</td>\n",
       "      <td>85854210</td>\n",
       "    </tr>\n",
       "  </tbody>\n",
       "</table>\n",
       "<p>215998 rows × 3 columns</p>\n",
       "</div>"
      ],
      "text/plain": [
       "                RS_ID  variant_start  variant_end\n",
       "168      rs1203817043        3379075      3379076\n",
       "169       rs766216432        3379076      3379077\n",
       "173       rs754697033        3379090      3379091\n",
       "175      rs1021936900        3379094      3379095\n",
       "177      rs1467010217        3379096      3379096\n",
       "...               ...            ...          ...\n",
       "9697458  rs1025041484       85854173     85854174\n",
       "9697460  rs1485540647       85854187     85854188\n",
       "9697461   rs912144056       85854189     85854190\n",
       "9697468   rs999351413       85854208     85854209\n",
       "9697469  rs1381023475       85854209     85854210\n",
       "\n",
       "[215998 rows x 3 columns]"
      ]
     },
     "execution_count": 90,
     "metadata": {},
     "output_type": "execute_result"
    }
   ],
   "source": [
    "df_interest [['RS_ID', 'variant_start','variant_end']].drop_duplicates()"
   ]
  },
  {
   "cell_type": "code",
   "execution_count": 91,
   "id": "78d284dc-7954-4b20-8520-7739a17a8032",
   "metadata": {},
   "outputs": [
    {
     "data": {
      "text/html": [
       "<div>\n",
       "<style scoped>\n",
       "    .dataframe tbody tr th:only-of-type {\n",
       "        vertical-align: middle;\n",
       "    }\n",
       "\n",
       "    .dataframe tbody tr th {\n",
       "        vertical-align: top;\n",
       "    }\n",
       "\n",
       "    .dataframe thead th {\n",
       "        text-align: right;\n",
       "    }\n",
       "</style>\n",
       "<table border=\"1\" class=\"dataframe\">\n",
       "  <thead>\n",
       "    <tr style=\"text-align: right;\">\n",
       "      <th></th>\n",
       "      <th>chr</th>\n",
       "      <th>core_prom_coordinates</th>\n",
       "    </tr>\n",
       "  </thead>\n",
       "  <tbody>\n",
       "    <tr>\n",
       "      <th>168</th>\n",
       "      <td>chr11</td>\n",
       "      <td>3379072-3379161</td>\n",
       "    </tr>\n",
       "    <tr>\n",
       "      <th>388</th>\n",
       "      <td>chr11</td>\n",
       "      <td>60492733-60492822</td>\n",
       "    </tr>\n",
       "    <tr>\n",
       "      <th>876</th>\n",
       "      <td>chr11</td>\n",
       "      <td>64924644-64924733</td>\n",
       "    </tr>\n",
       "    <tr>\n",
       "      <th>2207</th>\n",
       "      <td>chr11</td>\n",
       "      <td>125903162-125903251</td>\n",
       "    </tr>\n",
       "    <tr>\n",
       "      <th>2395</th>\n",
       "      <td>chr11</td>\n",
       "      <td>60842068-60842157</td>\n",
       "    </tr>\n",
       "    <tr>\n",
       "      <th>...</th>\n",
       "      <td>...</td>\n",
       "      <td>...</td>\n",
       "    </tr>\n",
       "    <tr>\n",
       "      <th>9697121</th>\n",
       "      <td>chr2</td>\n",
       "      <td>85850154-85850243</td>\n",
       "    </tr>\n",
       "    <tr>\n",
       "      <th>9697186</th>\n",
       "      <td>chr2</td>\n",
       "      <td>102761918-102762007</td>\n",
       "    </tr>\n",
       "    <tr>\n",
       "      <th>9697377</th>\n",
       "      <td>chr2</td>\n",
       "      <td>85861173-85861262</td>\n",
       "    </tr>\n",
       "    <tr>\n",
       "      <th>9697430</th>\n",
       "      <td>chr2</td>\n",
       "      <td>165194948-165195037</td>\n",
       "    </tr>\n",
       "    <tr>\n",
       "      <th>9697445</th>\n",
       "      <td>chr2</td>\n",
       "      <td>85854131-85854220</td>\n",
       "    </tr>\n",
       "  </tbody>\n",
       "</table>\n",
       "<p>46010 rows × 2 columns</p>\n",
       "</div>"
      ],
      "text/plain": [
       "           chr core_prom_coordinates\n",
       "168      chr11       3379072-3379161\n",
       "388      chr11     60492733-60492822\n",
       "876      chr11     64924644-64924733\n",
       "2207     chr11   125903162-125903251\n",
       "2395     chr11     60842068-60842157\n",
       "...        ...                   ...\n",
       "9697121   chr2     85850154-85850243\n",
       "9697186   chr2   102761918-102762007\n",
       "9697377   chr2     85861173-85861262\n",
       "9697430   chr2   165194948-165195037\n",
       "9697445   chr2     85854131-85854220\n",
       "\n",
       "[46010 rows x 2 columns]"
      ]
     },
     "execution_count": 91,
     "metadata": {},
     "output_type": "execute_result"
    }
   ],
   "source": [
    "df_interest[['chr','core_prom_coordinates']].drop_duplicates()"
   ]
  },
  {
   "cell_type": "code",
   "execution_count": 92,
   "id": "c19ccc9b-46f1-4983-9b96-af4fd6cc6bdc",
   "metadata": {},
   "outputs": [
    {
     "data": {
      "application/vnd.plotly.v1+json": {
       "config": {
        "plotlyServerURL": "https://plot.ly"
       },
       "data": [
        {
         "name": "Histogram",
         "type": "bar",
         "width": [
          0.3088786009154955,
          0.3088786009154955,
          0.30887860091549546,
          0.30887860091549557,
          0.30887860091549557,
          0.30887860091549535,
          0.3088786009154958,
          0.30887860091549557,
          0.30887860091549557,
          0.30887860091549557,
          0.30887860091549557,
          0.3088786009154951,
          0.308878600915496,
          0.3088786009154951,
          0.308878600915496,
          0.3088786009154951,
          0.3088786009154951,
          0.308878600915496,
          0.3088786009154951,
          0.308878600915496,
          0.3088786009154951,
          0.308878600915496,
          0.3088786009154951,
          0.3088786009154951,
          0.308878600915496,
          0.3088786009154951,
          0.3088786009154951,
          0.3088786009154951,
          0.3088786009154951,
          0.3088786009154969,
          0.3088786009154951,
          0.3088786009154951,
          0.3088786009154951,
          0.3088786009154951,
          0.3088786009154969,
          0.3088786009154951,
          0.3088786009154951,
          0.3088786009154951,
          0.3088786009154969,
          0.3088786009154951
         ],
         "x": [
          0.15619851116281058,
          0.46507711207830604,
          0.7739557129938015,
          1.082834313909297,
          1.3917129148247926,
          1.700591515740288,
          2.0094701166557836,
          2.318348717571279,
          2.627227318486775,
          2.9361059194022703,
          3.2449845203177663,
          3.5538631212332614,
          3.862741722148757,
          4.171620323064253,
          4.480498923979749,
          4.789377524895244,
          5.098256125810739,
          5.407134726726234,
          5.71601332764173,
          6.024891928557226,
          6.333770529472721,
          6.642649130388216,
          6.951527731303712,
          7.260406332219207,
          7.569284933134703,
          7.8781635340501985,
          8.187042134965694,
          8.495920735881189,
          8.804799336796684,
          9.113677937712179,
          9.422556538627676,
          9.731435139543171,
          10.040313740458666,
          10.349192341374161,
          10.658070942289658,
          10.966949543205153,
          11.275828144120648,
          11.584706745036144,
          11.893585345951639,
          12.202463946867136
         ],
         "y": [
          16159,
          33676,
          36495,
          32983,
          28780,
          24605,
          20363,
          17441,
          14769,
          11990,
          10205,
          8076,
          6307,
          4842,
          3598,
          2376,
          1759,
          1154,
          845,
          581,
          364,
          250,
          178,
          107,
          71,
          64,
          37,
          23,
          20,
          12,
          12,
          9,
          6,
          6,
          3,
          2,
          0,
          0,
          0,
          1
         ]
        },
        {
         "mode": "text",
         "text": [
          "16159"
         ],
         "type": "scatter",
         "x": [
          0.15619851116281058
         ],
         "y": [
          16159
         ]
        },
        {
         "mode": "text",
         "text": [
          "33676"
         ],
         "type": "scatter",
         "x": [
          0.46507711207830604
         ],
         "y": [
          33676
         ]
        },
        {
         "mode": "text",
         "text": [
          "36495"
         ],
         "type": "scatter",
         "x": [
          0.7739557129938015
         ],
         "y": [
          36495
         ]
        },
        {
         "mode": "text",
         "text": [
          "32983"
         ],
         "type": "scatter",
         "x": [
          1.082834313909297
         ],
         "y": [
          32983
         ]
        },
        {
         "mode": "text",
         "text": [
          "28780"
         ],
         "type": "scatter",
         "x": [
          1.3917129148247926
         ],
         "y": [
          28780
         ]
        },
        {
         "mode": "text",
         "text": [
          "24605"
         ],
         "type": "scatter",
         "x": [
          1.700591515740288
         ],
         "y": [
          24605
         ]
        },
        {
         "mode": "text",
         "text": [
          "20363"
         ],
         "type": "scatter",
         "x": [
          2.0094701166557836
         ],
         "y": [
          20363
         ]
        },
        {
         "mode": "text",
         "text": [
          "17441"
         ],
         "type": "scatter",
         "x": [
          2.318348717571279
         ],
         "y": [
          17441
         ]
        },
        {
         "mode": "text",
         "text": [
          "14769"
         ],
         "type": "scatter",
         "x": [
          2.627227318486775
         ],
         "y": [
          14769
         ]
        },
        {
         "mode": "text",
         "text": [
          "11990"
         ],
         "type": "scatter",
         "x": [
          2.9361059194022703
         ],
         "y": [
          11990
         ]
        },
        {
         "mode": "text",
         "text": [
          "10205"
         ],
         "type": "scatter",
         "x": [
          3.2449845203177663
         ],
         "y": [
          10205
         ]
        },
        {
         "mode": "text",
         "text": [
          "8076"
         ],
         "type": "scatter",
         "x": [
          3.5538631212332614
         ],
         "y": [
          8076
         ]
        },
        {
         "mode": "text",
         "text": [
          "6307"
         ],
         "type": "scatter",
         "x": [
          3.862741722148757
         ],
         "y": [
          6307
         ]
        },
        {
         "mode": "text",
         "text": [
          "4842"
         ],
         "type": "scatter",
         "x": [
          4.171620323064253
         ],
         "y": [
          4842
         ]
        },
        {
         "mode": "text",
         "text": [
          "3598"
         ],
         "type": "scatter",
         "x": [
          4.480498923979749
         ],
         "y": [
          3598
         ]
        },
        {
         "mode": "text",
         "text": [
          "2376"
         ],
         "type": "scatter",
         "x": [
          4.789377524895244
         ],
         "y": [
          2376
         ]
        },
        {
         "mode": "text",
         "text": [
          "1759"
         ],
         "type": "scatter",
         "x": [
          5.098256125810739
         ],
         "y": [
          1759
         ]
        },
        {
         "mode": "text",
         "text": [
          "1154"
         ],
         "type": "scatter",
         "x": [
          5.407134726726234
         ],
         "y": [
          1154
         ]
        },
        {
         "mode": "text",
         "text": [
          "845"
         ],
         "type": "scatter",
         "x": [
          5.71601332764173
         ],
         "y": [
          845
         ]
        },
        {
         "mode": "text",
         "text": [
          "581"
         ],
         "type": "scatter",
         "x": [
          6.024891928557226
         ],
         "y": [
          581
         ]
        },
        {
         "mode": "text",
         "text": [
          "364"
         ],
         "type": "scatter",
         "x": [
          6.333770529472721
         ],
         "y": [
          364
         ]
        },
        {
         "mode": "text",
         "text": [
          "250"
         ],
         "type": "scatter",
         "x": [
          6.642649130388216
         ],
         "y": [
          250
         ]
        },
        {
         "mode": "text",
         "text": [
          "178"
         ],
         "type": "scatter",
         "x": [
          6.951527731303712
         ],
         "y": [
          178
         ]
        },
        {
         "mode": "text",
         "text": [
          "107"
         ],
         "type": "scatter",
         "x": [
          7.260406332219207
         ],
         "y": [
          107
         ]
        },
        {
         "mode": "text",
         "text": [
          "71"
         ],
         "type": "scatter",
         "x": [
          7.569284933134703
         ],
         "y": [
          71
         ]
        },
        {
         "mode": "text",
         "text": [
          "64"
         ],
         "type": "scatter",
         "x": [
          7.8781635340501985
         ],
         "y": [
          64
         ]
        },
        {
         "mode": "text",
         "text": [
          "37"
         ],
         "type": "scatter",
         "x": [
          8.187042134965694
         ],
         "y": [
          37
         ]
        },
        {
         "mode": "text",
         "text": [
          "23"
         ],
         "type": "scatter",
         "x": [
          8.495920735881189
         ],
         "y": [
          23
         ]
        },
        {
         "mode": "text",
         "text": [
          "20"
         ],
         "type": "scatter",
         "x": [
          8.804799336796684
         ],
         "y": [
          20
         ]
        },
        {
         "mode": "text",
         "text": [
          "12"
         ],
         "type": "scatter",
         "x": [
          9.113677937712179
         ],
         "y": [
          12
         ]
        },
        {
         "mode": "text",
         "text": [
          "12"
         ],
         "type": "scatter",
         "x": [
          9.422556538627676
         ],
         "y": [
          12
         ]
        },
        {
         "mode": "text",
         "text": [
          "9"
         ],
         "type": "scatter",
         "x": [
          9.731435139543171
         ],
         "y": [
          9
         ]
        },
        {
         "mode": "text",
         "text": [
          "6"
         ],
         "type": "scatter",
         "x": [
          10.040313740458666
         ],
         "y": [
          6
         ]
        },
        {
         "mode": "text",
         "text": [
          "6"
         ],
         "type": "scatter",
         "x": [
          10.349192341374161
         ],
         "y": [
          6
         ]
        },
        {
         "mode": "text",
         "text": [
          "3"
         ],
         "type": "scatter",
         "x": [
          10.658070942289658
         ],
         "y": [
          3
         ]
        },
        {
         "mode": "text",
         "text": [
          "2"
         ],
         "type": "scatter",
         "x": [
          10.966949543205153
         ],
         "y": [
          2
         ]
        },
        {
         "mode": "text",
         "text": [
          "0"
         ],
         "type": "scatter",
         "x": [
          11.275828144120648
         ],
         "y": [
          0
         ]
        },
        {
         "mode": "text",
         "text": [
          "0"
         ],
         "type": "scatter",
         "x": [
          11.584706745036144
         ],
         "y": [
          0
         ]
        },
        {
         "mode": "text",
         "text": [
          "0"
         ],
         "type": "scatter",
         "x": [
          11.893585345951639
         ],
         "y": [
          0
         ]
        },
        {
         "mode": "text",
         "text": [
          "1"
         ],
         "type": "scatter",
         "x": [
          12.202463946867136
         ],
         "y": [
          1
         ]
        }
       ],
       "layout": {
        "autosize": true,
        "template": {
         "data": {
          "bar": [
           {
            "error_x": {
             "color": "#2a3f5f"
            },
            "error_y": {
             "color": "#2a3f5f"
            },
            "marker": {
             "line": {
              "color": "#E5ECF6",
              "width": 0.5
             },
             "pattern": {
              "fillmode": "overlay",
              "size": 10,
              "solidity": 0.2
             }
            },
            "type": "bar"
           }
          ],
          "barpolar": [
           {
            "marker": {
             "line": {
              "color": "#E5ECF6",
              "width": 0.5
             },
             "pattern": {
              "fillmode": "overlay",
              "size": 10,
              "solidity": 0.2
             }
            },
            "type": "barpolar"
           }
          ],
          "carpet": [
           {
            "aaxis": {
             "endlinecolor": "#2a3f5f",
             "gridcolor": "white",
             "linecolor": "white",
             "minorgridcolor": "white",
             "startlinecolor": "#2a3f5f"
            },
            "baxis": {
             "endlinecolor": "#2a3f5f",
             "gridcolor": "white",
             "linecolor": "white",
             "minorgridcolor": "white",
             "startlinecolor": "#2a3f5f"
            },
            "type": "carpet"
           }
          ],
          "choropleth": [
           {
            "colorbar": {
             "outlinewidth": 0,
             "ticks": ""
            },
            "type": "choropleth"
           }
          ],
          "contour": [
           {
            "colorbar": {
             "outlinewidth": 0,
             "ticks": ""
            },
            "colorscale": [
             [
              0,
              "#0d0887"
             ],
             [
              0.1111111111111111,
              "#46039f"
             ],
             [
              0.2222222222222222,
              "#7201a8"
             ],
             [
              0.3333333333333333,
              "#9c179e"
             ],
             [
              0.4444444444444444,
              "#bd3786"
             ],
             [
              0.5555555555555556,
              "#d8576b"
             ],
             [
              0.6666666666666666,
              "#ed7953"
             ],
             [
              0.7777777777777778,
              "#fb9f3a"
             ],
             [
              0.8888888888888888,
              "#fdca26"
             ],
             [
              1,
              "#f0f921"
             ]
            ],
            "type": "contour"
           }
          ],
          "contourcarpet": [
           {
            "colorbar": {
             "outlinewidth": 0,
             "ticks": ""
            },
            "type": "contourcarpet"
           }
          ],
          "heatmap": [
           {
            "colorbar": {
             "outlinewidth": 0,
             "ticks": ""
            },
            "colorscale": [
             [
              0,
              "#0d0887"
             ],
             [
              0.1111111111111111,
              "#46039f"
             ],
             [
              0.2222222222222222,
              "#7201a8"
             ],
             [
              0.3333333333333333,
              "#9c179e"
             ],
             [
              0.4444444444444444,
              "#bd3786"
             ],
             [
              0.5555555555555556,
              "#d8576b"
             ],
             [
              0.6666666666666666,
              "#ed7953"
             ],
             [
              0.7777777777777778,
              "#fb9f3a"
             ],
             [
              0.8888888888888888,
              "#fdca26"
             ],
             [
              1,
              "#f0f921"
             ]
            ],
            "type": "heatmap"
           }
          ],
          "heatmapgl": [
           {
            "colorbar": {
             "outlinewidth": 0,
             "ticks": ""
            },
            "colorscale": [
             [
              0,
              "#0d0887"
             ],
             [
              0.1111111111111111,
              "#46039f"
             ],
             [
              0.2222222222222222,
              "#7201a8"
             ],
             [
              0.3333333333333333,
              "#9c179e"
             ],
             [
              0.4444444444444444,
              "#bd3786"
             ],
             [
              0.5555555555555556,
              "#d8576b"
             ],
             [
              0.6666666666666666,
              "#ed7953"
             ],
             [
              0.7777777777777778,
              "#fb9f3a"
             ],
             [
              0.8888888888888888,
              "#fdca26"
             ],
             [
              1,
              "#f0f921"
             ]
            ],
            "type": "heatmapgl"
           }
          ],
          "histogram": [
           {
            "marker": {
             "pattern": {
              "fillmode": "overlay",
              "size": 10,
              "solidity": 0.2
             }
            },
            "type": "histogram"
           }
          ],
          "histogram2d": [
           {
            "colorbar": {
             "outlinewidth": 0,
             "ticks": ""
            },
            "colorscale": [
             [
              0,
              "#0d0887"
             ],
             [
              0.1111111111111111,
              "#46039f"
             ],
             [
              0.2222222222222222,
              "#7201a8"
             ],
             [
              0.3333333333333333,
              "#9c179e"
             ],
             [
              0.4444444444444444,
              "#bd3786"
             ],
             [
              0.5555555555555556,
              "#d8576b"
             ],
             [
              0.6666666666666666,
              "#ed7953"
             ],
             [
              0.7777777777777778,
              "#fb9f3a"
             ],
             [
              0.8888888888888888,
              "#fdca26"
             ],
             [
              1,
              "#f0f921"
             ]
            ],
            "type": "histogram2d"
           }
          ],
          "histogram2dcontour": [
           {
            "colorbar": {
             "outlinewidth": 0,
             "ticks": ""
            },
            "colorscale": [
             [
              0,
              "#0d0887"
             ],
             [
              0.1111111111111111,
              "#46039f"
             ],
             [
              0.2222222222222222,
              "#7201a8"
             ],
             [
              0.3333333333333333,
              "#9c179e"
             ],
             [
              0.4444444444444444,
              "#bd3786"
             ],
             [
              0.5555555555555556,
              "#d8576b"
             ],
             [
              0.6666666666666666,
              "#ed7953"
             ],
             [
              0.7777777777777778,
              "#fb9f3a"
             ],
             [
              0.8888888888888888,
              "#fdca26"
             ],
             [
              1,
              "#f0f921"
             ]
            ],
            "type": "histogram2dcontour"
           }
          ],
          "mesh3d": [
           {
            "colorbar": {
             "outlinewidth": 0,
             "ticks": ""
            },
            "type": "mesh3d"
           }
          ],
          "parcoords": [
           {
            "line": {
             "colorbar": {
              "outlinewidth": 0,
              "ticks": ""
             }
            },
            "type": "parcoords"
           }
          ],
          "pie": [
           {
            "automargin": true,
            "type": "pie"
           }
          ],
          "scatter": [
           {
            "fillpattern": {
             "fillmode": "overlay",
             "size": 10,
             "solidity": 0.2
            },
            "type": "scatter"
           }
          ],
          "scatter3d": [
           {
            "line": {
             "colorbar": {
              "outlinewidth": 0,
              "ticks": ""
             }
            },
            "marker": {
             "colorbar": {
              "outlinewidth": 0,
              "ticks": ""
             }
            },
            "type": "scatter3d"
           }
          ],
          "scattercarpet": [
           {
            "marker": {
             "colorbar": {
              "outlinewidth": 0,
              "ticks": ""
             }
            },
            "type": "scattercarpet"
           }
          ],
          "scattergeo": [
           {
            "marker": {
             "colorbar": {
              "outlinewidth": 0,
              "ticks": ""
             }
            },
            "type": "scattergeo"
           }
          ],
          "scattergl": [
           {
            "marker": {
             "colorbar": {
              "outlinewidth": 0,
              "ticks": ""
             }
            },
            "type": "scattergl"
           }
          ],
          "scattermapbox": [
           {
            "marker": {
             "colorbar": {
              "outlinewidth": 0,
              "ticks": ""
             }
            },
            "type": "scattermapbox"
           }
          ],
          "scatterpolar": [
           {
            "marker": {
             "colorbar": {
              "outlinewidth": 0,
              "ticks": ""
             }
            },
            "type": "scatterpolar"
           }
          ],
          "scatterpolargl": [
           {
            "marker": {
             "colorbar": {
              "outlinewidth": 0,
              "ticks": ""
             }
            },
            "type": "scatterpolargl"
           }
          ],
          "scatterternary": [
           {
            "marker": {
             "colorbar": {
              "outlinewidth": 0,
              "ticks": ""
             }
            },
            "type": "scatterternary"
           }
          ],
          "surface": [
           {
            "colorbar": {
             "outlinewidth": 0,
             "ticks": ""
            },
            "colorscale": [
             [
              0,
              "#0d0887"
             ],
             [
              0.1111111111111111,
              "#46039f"
             ],
             [
              0.2222222222222222,
              "#7201a8"
             ],
             [
              0.3333333333333333,
              "#9c179e"
             ],
             [
              0.4444444444444444,
              "#bd3786"
             ],
             [
              0.5555555555555556,
              "#d8576b"
             ],
             [
              0.6666666666666666,
              "#ed7953"
             ],
             [
              0.7777777777777778,
              "#fb9f3a"
             ],
             [
              0.8888888888888888,
              "#fdca26"
             ],
             [
              1,
              "#f0f921"
             ]
            ],
            "type": "surface"
           }
          ],
          "table": [
           {
            "cells": {
             "fill": {
              "color": "#EBF0F8"
             },
             "line": {
              "color": "white"
             }
            },
            "header": {
             "fill": {
              "color": "#C8D4E3"
             },
             "line": {
              "color": "white"
             }
            },
            "type": "table"
           }
          ]
         },
         "layout": {
          "annotationdefaults": {
           "arrowcolor": "#2a3f5f",
           "arrowhead": 0,
           "arrowwidth": 1
          },
          "autotypenumbers": "strict",
          "coloraxis": {
           "colorbar": {
            "outlinewidth": 0,
            "ticks": ""
           }
          },
          "colorscale": {
           "diverging": [
            [
             0,
             "#8e0152"
            ],
            [
             0.1,
             "#c51b7d"
            ],
            [
             0.2,
             "#de77ae"
            ],
            [
             0.3,
             "#f1b6da"
            ],
            [
             0.4,
             "#fde0ef"
            ],
            [
             0.5,
             "#f7f7f7"
            ],
            [
             0.6,
             "#e6f5d0"
            ],
            [
             0.7,
             "#b8e186"
            ],
            [
             0.8,
             "#7fbc41"
            ],
            [
             0.9,
             "#4d9221"
            ],
            [
             1,
             "#276419"
            ]
           ],
           "sequential": [
            [
             0,
             "#0d0887"
            ],
            [
             0.1111111111111111,
             "#46039f"
            ],
            [
             0.2222222222222222,
             "#7201a8"
            ],
            [
             0.3333333333333333,
             "#9c179e"
            ],
            [
             0.4444444444444444,
             "#bd3786"
            ],
            [
             0.5555555555555556,
             "#d8576b"
            ],
            [
             0.6666666666666666,
             "#ed7953"
            ],
            [
             0.7777777777777778,
             "#fb9f3a"
            ],
            [
             0.8888888888888888,
             "#fdca26"
            ],
            [
             1,
             "#f0f921"
            ]
           ],
           "sequentialminus": [
            [
             0,
             "#0d0887"
            ],
            [
             0.1111111111111111,
             "#46039f"
            ],
            [
             0.2222222222222222,
             "#7201a8"
            ],
            [
             0.3333333333333333,
             "#9c179e"
            ],
            [
             0.4444444444444444,
             "#bd3786"
            ],
            [
             0.5555555555555556,
             "#d8576b"
            ],
            [
             0.6666666666666666,
             "#ed7953"
            ],
            [
             0.7777777777777778,
             "#fb9f3a"
            ],
            [
             0.8888888888888888,
             "#fdca26"
            ],
            [
             1,
             "#f0f921"
            ]
           ]
          },
          "colorway": [
           "#636efa",
           "#EF553B",
           "#00cc96",
           "#ab63fa",
           "#FFA15A",
           "#19d3f3",
           "#FF6692",
           "#B6E880",
           "#FF97FF",
           "#FECB52"
          ],
          "font": {
           "color": "#2a3f5f"
          },
          "geo": {
           "bgcolor": "white",
           "lakecolor": "white",
           "landcolor": "#E5ECF6",
           "showlakes": true,
           "showland": true,
           "subunitcolor": "white"
          },
          "hoverlabel": {
           "align": "left"
          },
          "hovermode": "closest",
          "mapbox": {
           "style": "light"
          },
          "paper_bgcolor": "white",
          "plot_bgcolor": "#E5ECF6",
          "polar": {
           "angularaxis": {
            "gridcolor": "white",
            "linecolor": "white",
            "ticks": ""
           },
           "bgcolor": "#E5ECF6",
           "radialaxis": {
            "gridcolor": "white",
            "linecolor": "white",
            "ticks": ""
           }
          },
          "scene": {
           "xaxis": {
            "backgroundcolor": "#E5ECF6",
            "gridcolor": "white",
            "gridwidth": 2,
            "linecolor": "white",
            "showbackground": true,
            "ticks": "",
            "zerolinecolor": "white"
           },
           "yaxis": {
            "backgroundcolor": "#E5ECF6",
            "gridcolor": "white",
            "gridwidth": 2,
            "linecolor": "white",
            "showbackground": true,
            "ticks": "",
            "zerolinecolor": "white"
           },
           "zaxis": {
            "backgroundcolor": "#E5ECF6",
            "gridcolor": "white",
            "gridwidth": 2,
            "linecolor": "white",
            "showbackground": true,
            "ticks": "",
            "zerolinecolor": "white"
           }
          },
          "shapedefaults": {
           "line": {
            "color": "#2a3f5f"
           }
          },
          "ternary": {
           "aaxis": {
            "gridcolor": "white",
            "linecolor": "white",
            "ticks": ""
           },
           "baxis": {
            "gridcolor": "white",
            "linecolor": "white",
            "ticks": ""
           },
           "bgcolor": "#E5ECF6",
           "caxis": {
            "gridcolor": "white",
            "linecolor": "white",
            "ticks": ""
           }
          },
          "title": {
           "x": 0.05
          },
          "xaxis": {
           "automargin": true,
           "gridcolor": "white",
           "linecolor": "white",
           "ticks": "",
           "title": {
            "standoff": 15
           },
           "zerolinecolor": "white",
           "zerolinewidth": 2
          },
          "yaxis": {
           "automargin": true,
           "gridcolor": "white",
           "linecolor": "white",
           "ticks": "",
           "title": {
            "standoff": 15
           },
           "zerolinecolor": "white",
           "zerolinewidth": 2
          }
         }
        },
        "xaxis": {
         "autorange": true,
         "range": [
          -0.5130384574874299,
          12.871700915517376
         ],
         "type": "linear"
        },
        "yaxis": {
         "autorange": true,
         "range": [
          -2027.5,
          38522.5
         ],
         "type": "linear"
        }
       }
      },
      "image/png": "[encoded data removed]",
      "text/html": [
       "<div>                            <div id=\"6a8a2df1-a73d-4cda-9352-d134d16d3c9d\" class=\"plotly-graph-div\" style=\"height:525px; width:100%;\"></div>            <script type=\"text/javascript\">                require([\"plotly\"], function(Plotly) {                    window.PLOTLYENV=window.PLOTLYENV || {};                                    if (document.getElementById(\"6a8a2df1-a73d-4cda-9352-d134d16d3c9d\")) {                    Plotly.newPlot(                        \"6a8a2df1-a73d-4cda-9352-d134d16d3c9d\",                        [{\"name\":\"Histogram\",\"width\":[0.3088786009154955,0.3088786009154955,0.30887860091549546,0.30887860091549557,0.30887860091549557,0.30887860091549535,0.3088786009154958,0.30887860091549557,0.30887860091549557,0.30887860091549557,0.30887860091549557,0.3088786009154951,0.308878600915496,0.3088786009154951,0.308878600915496,0.3088786009154951,0.3088786009154951,0.308878600915496,0.3088786009154951,0.308878600915496,0.3088786009154951,0.308878600915496,0.3088786009154951,0.3088786009154951,0.308878600915496,0.3088786009154951,0.3088786009154951,0.3088786009154951,0.3088786009154951,0.3088786009154969,0.3088786009154951,0.3088786009154951,0.3088786009154951,0.3088786009154951,0.3088786009154969,0.3088786009154951,0.3088786009154951,0.3088786009154951,0.3088786009154969,0.3088786009154951],\"x\":[0.15619851116281058,0.46507711207830604,0.7739557129938015,1.082834313909297,1.3917129148247926,1.700591515740288,2.0094701166557836,2.318348717571279,2.627227318486775,2.9361059194022703,3.2449845203177663,3.5538631212332614,3.862741722148757,4.171620323064253,4.480498923979749,4.789377524895244,5.098256125810739,5.407134726726234,5.71601332764173,6.024891928557226,6.333770529472721,6.642649130388216,6.951527731303712,7.260406332219207,7.569284933134703,7.8781635340501985,8.187042134965694,8.495920735881189,8.804799336796684,9.113677937712179,9.422556538627676,9.731435139543171,10.040313740458666,10.349192341374161,10.658070942289658,10.966949543205153,11.275828144120648,11.584706745036144,11.893585345951639,12.202463946867136],\"y\":[16159,33676,36495,32983,28780,24605,20363,17441,14769,11990,10205,8076,6307,4842,3598,2376,1759,1154,845,581,364,250,178,107,71,64,37,23,20,12,12,9,6,6,3,2,0,0,0,1],\"type\":\"bar\"},{\"mode\":\"text\",\"text\":[\"16159\"],\"x\":[0.15619851116281058],\"y\":[16159],\"type\":\"scatter\"},{\"mode\":\"text\",\"text\":[\"33676\"],\"x\":[0.46507711207830604],\"y\":[33676],\"type\":\"scatter\"},{\"mode\":\"text\",\"text\":[\"36495\"],\"x\":[0.7739557129938015],\"y\":[36495],\"type\":\"scatter\"},{\"mode\":\"text\",\"text\":[\"32983\"],\"x\":[1.082834313909297],\"y\":[32983],\"type\":\"scatter\"},{\"mode\":\"text\",\"text\":[\"28780\"],\"x\":[1.3917129148247926],\"y\":[28780],\"type\":\"scatter\"},{\"mode\":\"text\",\"text\":[\"24605\"],\"x\":[1.700591515740288],\"y\":[24605],\"type\":\"scatter\"},{\"mode\":\"text\",\"text\":[\"20363\"],\"x\":[2.0094701166557836],\"y\":[20363],\"type\":\"scatter\"},{\"mode\":\"text\",\"text\":[\"17441\"],\"x\":[2.318348717571279],\"y\":[17441],\"type\":\"scatter\"},{\"mode\":\"text\",\"text\":[\"14769\"],\"x\":[2.627227318486775],\"y\":[14769],\"type\":\"scatter\"},{\"mode\":\"text\",\"text\":[\"11990\"],\"x\":[2.9361059194022703],\"y\":[11990],\"type\":\"scatter\"},{\"mode\":\"text\",\"text\":[\"10205\"],\"x\":[3.2449845203177663],\"y\":[10205],\"type\":\"scatter\"},{\"mode\":\"text\",\"text\":[\"8076\"],\"x\":[3.5538631212332614],\"y\":[8076],\"type\":\"scatter\"},{\"mode\":\"text\",\"text\":[\"6307\"],\"x\":[3.862741722148757],\"y\":[6307],\"type\":\"scatter\"},{\"mode\":\"text\",\"text\":[\"4842\"],\"x\":[4.171620323064253],\"y\":[4842],\"type\":\"scatter\"},{\"mode\":\"text\",\"text\":[\"3598\"],\"x\":[4.480498923979749],\"y\":[3598],\"type\":\"scatter\"},{\"mode\":\"text\",\"text\":[\"2376\"],\"x\":[4.789377524895244],\"y\":[2376],\"type\":\"scatter\"},{\"mode\":\"text\",\"text\":[\"1759\"],\"x\":[5.098256125810739],\"y\":[1759],\"type\":\"scatter\"},{\"mode\":\"text\",\"text\":[\"1154\"],\"x\":[5.407134726726234],\"y\":[1154],\"type\":\"scatter\"},{\"mode\":\"text\",\"text\":[\"845\"],\"x\":[5.71601332764173],\"y\":[845],\"type\":\"scatter\"},{\"mode\":\"text\",\"text\":[\"581\"],\"x\":[6.024891928557226],\"y\":[581],\"type\":\"scatter\"},{\"mode\":\"text\",\"text\":[\"364\"],\"x\":[6.333770529472721],\"y\":[364],\"type\":\"scatter\"},{\"mode\":\"text\",\"text\":[\"250\"],\"x\":[6.642649130388216],\"y\":[250],\"type\":\"scatter\"},{\"mode\":\"text\",\"text\":[\"178\"],\"x\":[6.951527731303712],\"y\":[178],\"type\":\"scatter\"},{\"mode\":\"text\",\"text\":[\"107\"],\"x\":[7.260406332219207],\"y\":[107],\"type\":\"scatter\"},{\"mode\":\"text\",\"text\":[\"71\"],\"x\":[7.569284933134703],\"y\":[71],\"type\":\"scatter\"},{\"mode\":\"text\",\"text\":[\"64\"],\"x\":[7.8781635340501985],\"y\":[64],\"type\":\"scatter\"},{\"mode\":\"text\",\"text\":[\"37\"],\"x\":[8.187042134965694],\"y\":[37],\"type\":\"scatter\"},{\"mode\":\"text\",\"text\":[\"23\"],\"x\":[8.495920735881189],\"y\":[23],\"type\":\"scatter\"},{\"mode\":\"text\",\"text\":[\"20\"],\"x\":[8.804799336796684],\"y\":[20],\"type\":\"scatter\"},{\"mode\":\"text\",\"text\":[\"12\"],\"x\":[9.113677937712179],\"y\":[12],\"type\":\"scatter\"},{\"mode\":\"text\",\"text\":[\"12\"],\"x\":[9.422556538627676],\"y\":[12],\"type\":\"scatter\"},{\"mode\":\"text\",\"text\":[\"9\"],\"x\":[9.731435139543171],\"y\":[9],\"type\":\"scatter\"},{\"mode\":\"text\",\"text\":[\"6\"],\"x\":[10.040313740458666],\"y\":[6],\"type\":\"scatter\"},{\"mode\":\"text\",\"text\":[\"6\"],\"x\":[10.349192341374161],\"y\":[6],\"type\":\"scatter\"},{\"mode\":\"text\",\"text\":[\"3\"],\"x\":[10.658070942289658],\"y\":[3],\"type\":\"scatter\"},{\"mode\":\"text\",\"text\":[\"2\"],\"x\":[10.966949543205153],\"y\":[2],\"type\":\"scatter\"},{\"mode\":\"text\",\"text\":[\"0\"],\"x\":[11.275828144120648],\"y\":[0],\"type\":\"scatter\"},{\"mode\":\"text\",\"text\":[\"0\"],\"x\":[11.584706745036144],\"y\":[0],\"type\":\"scatter\"},{\"mode\":\"text\",\"text\":[\"0\"],\"x\":[11.893585345951639],\"y\":[0],\"type\":\"scatter\"},{\"mode\":\"text\",\"text\":[\"1\"],\"x\":[12.202463946867136],\"y\":[1],\"type\":\"scatter\"}],                        {\"template\":{\"data\":{\"histogram2dcontour\":[{\"type\":\"histogram2dcontour\",\"colorbar\":{\"outlinewidth\":0,\"ticks\":\"\"},\"colorscale\":[[0.0,\"#0d0887\"],[0.1111111111111111,\"#46039f\"],[0.2222222222222222,\"#7201a8\"],[0.3333333333333333,\"#9c179e\"],[0.4444444444444444,\"#bd3786\"],[0.5555555555555556,\"#d8576b\"],[0.6666666666666666,\"#ed7953\"],[0.7777777777777778,\"#fb9f3a\"],[0.8888888888888888,\"#fdca26\"],[1.0,\"#f0f921\"]]}],\"choropleth\":[{\"type\":\"choropleth\",\"colorbar\":{\"outlinewidth\":0,\"ticks\":\"\"}}],\"histogram2d\":[{\"type\":\"histogram2d\",\"colorbar\":{\"outlinewidth\":0,\"ticks\":\"\"},\"colorscale\":[[0.0,\"#0d0887\"],[0.1111111111111111,\"#46039f\"],[0.2222222222222222,\"#7201a8\"],[0.3333333333333333,\"#9c179e\"],[0.4444444444444444,\"#bd3786\"],[0.5555555555555556,\"#d8576b\"],[0.6666666666666666,\"#ed7953\"],[0.7777777777777778,\"#fb9f3a\"],[0.8888888888888888,\"#fdca26\"],[1.0,\"#f0f921\"]]}],\"heatmap\":[{\"type\":\"heatmap\",\"colorbar\":{\"outlinewidth\":0,\"ticks\":\"\"},\"colorscale\":[[0.0,\"#0d0887\"],[0.1111111111111111,\"#46039f\"],[0.2222222222222222,\"#7201a8\"],[0.3333333333333333,\"#9c179e\"],[0.4444444444444444,\"#bd3786\"],[0.5555555555555556,\"#d8576b\"],[0.6666666666666666,\"#ed7953\"],[0.7777777777777778,\"#fb9f3a\"],[0.8888888888888888,\"#fdca26\"],[1.0,\"#f0f921\"]]}],\"heatmapgl\":[{\"type\":\"heatmapgl\",\"colorbar\":{\"outlinewidth\":0,\"ticks\":\"\"},\"colorscale\":[[0.0,\"#0d0887\"],[0.1111111111111111,\"#46039f\"],[0.2222222222222222,\"#7201a8\"],[0.3333333333333333,\"#9c179e\"],[0.4444444444444444,\"#bd3786\"],[0.5555555555555556,\"#d8576b\"],[0.6666666666666666,\"#ed7953\"],[0.7777777777777778,\"#fb9f3a\"],[0.8888888888888888,\"#fdca26\"],[1.0,\"#f0f921\"]]}],\"contourcarpet\":[{\"type\":\"contourcarpet\",\"colorbar\":{\"outlinewidth\":0,\"ticks\":\"\"}}],\"contour\":[{\"type\":\"contour\",\"colorbar\":{\"outlinewidth\":0,\"ticks\":\"\"},\"colorscale\":[[0.0,\"#0d0887\"],[0.1111111111111111,\"#46039f\"],[0.2222222222222222,\"#7201a8\"],[0.3333333333333333,\"#9c179e\"],[0.4444444444444444,\"#bd3786\"],[0.5555555555555556,\"#d8576b\"],[0.6666666666666666,\"#ed7953\"],[0.7777777777777778,\"#fb9f3a\"],[0.8888888888888888,\"#fdca26\"],[1.0,\"#f0f921\"]]}],\"surface\":[{\"type\":\"surface\",\"colorbar\":{\"outlinewidth\":0,\"ticks\":\"\"},\"colorscale\":[[0.0,\"#0d0887\"],[0.1111111111111111,\"#46039f\"],[0.2222222222222222,\"#7201a8\"],[0.3333333333333333,\"#9c179e\"],[0.4444444444444444,\"#bd3786\"],[0.5555555555555556,\"#d8576b\"],[0.6666666666666666,\"#ed7953\"],[0.7777777777777778,\"#fb9f3a\"],[0.8888888888888888,\"#fdca26\"],[1.0,\"#f0f921\"]]}],\"mesh3d\":[{\"type\":\"mesh3d\",\"colorbar\":{\"outlinewidth\":0,\"ticks\":\"\"}}],\"scatter\":[{\"fillpattern\":{\"fillmode\":\"overlay\",\"size\":10,\"solidity\":0.2},\"type\":\"scatter\"}],\"parcoords\":[{\"type\":\"parcoords\",\"line\":{\"colorbar\":{\"outlinewidth\":0,\"ticks\":\"\"}}}],\"scatterpolargl\":[{\"type\":\"scatterpolargl\",\"marker\":{\"colorbar\":{\"outlinewidth\":0,\"ticks\":\"\"}}}],\"bar\":[{\"error_x\":{\"color\":\"#2a3f5f\"},\"error_y\":{\"color\":\"#2a3f5f\"},\"marker\":{\"line\":{\"color\":\"#E5ECF6\",\"width\":0.5},\"pattern\":{\"fillmode\":\"overlay\",\"size\":10,\"solidity\":0.2}},\"type\":\"bar\"}],\"scattergeo\":[{\"type\":\"scattergeo\",\"marker\":{\"colorbar\":{\"outlinewidth\":0,\"ticks\":\"\"}}}],\"scatterpolar\":[{\"type\":\"scatterpolar\",\"marker\":{\"colorbar\":{\"outlinewidth\":0,\"ticks\":\"\"}}}],\"histogram\":[{\"marker\":{\"pattern\":{\"fillmode\":\"overlay\",\"size\":10,\"solidity\":0.2}},\"type\":\"histogram\"}],\"scattergl\":[{\"type\":\"scattergl\",\"marker\":{\"colorbar\":{\"outlinewidth\":0,\"ticks\":\"\"}}}],\"scatter3d\":[{\"type\":\"scatter3d\",\"line\":{\"colorbar\":{\"outlinewidth\":0,\"ticks\":\"\"}},\"marker\":{\"colorbar\":{\"outlinewidth\":0,\"ticks\":\"\"}}}],\"scattermapbox\":[{\"type\":\"scattermapbox\",\"marker\":{\"colorbar\":{\"outlinewidth\":0,\"ticks\":\"\"}}}],\"scatterternary\":[{\"type\":\"scatterternary\",\"marker\":{\"colorbar\":{\"outlinewidth\":0,\"ticks\":\"\"}}}],\"scattercarpet\":[{\"type\":\"scattercarpet\",\"marker\":{\"colorbar\":{\"outlinewidth\":0,\"ticks\":\"\"}}}],\"carpet\":[{\"aaxis\":{\"endlinecolor\":\"#2a3f5f\",\"gridcolor\":\"white\",\"linecolor\":\"white\",\"minorgridcolor\":\"white\",\"startlinecolor\":\"#2a3f5f\"},\"baxis\":{\"endlinecolor\":\"#2a3f5f\",\"gridcolor\":\"white\",\"linecolor\":\"white\",\"minorgridcolor\":\"white\",\"startlinecolor\":\"#2a3f5f\"},\"type\":\"carpet\"}],\"table\":[{\"cells\":{\"fill\":{\"color\":\"#EBF0F8\"},\"line\":{\"color\":\"white\"}},\"header\":{\"fill\":{\"color\":\"#C8D4E3\"},\"line\":{\"color\":\"white\"}},\"type\":\"table\"}],\"barpolar\":[{\"marker\":{\"line\":{\"color\":\"#E5ECF6\",\"width\":0.5},\"pattern\":{\"fillmode\":\"overlay\",\"size\":10,\"solidity\":0.2}},\"type\":\"barpolar\"}],\"pie\":[{\"automargin\":true,\"type\":\"pie\"}]},\"layout\":{\"autotypenumbers\":\"strict\",\"colorway\":[\"#636efa\",\"#EF553B\",\"#00cc96\",\"#ab63fa\",\"#FFA15A\",\"#19d3f3\",\"#FF6692\",\"#B6E880\",\"#FF97FF\",\"#FECB52\"],\"font\":{\"color\":\"#2a3f5f\"},\"hovermode\":\"closest\",\"hoverlabel\":{\"align\":\"left\"},\"paper_bgcolor\":\"white\",\"plot_bgcolor\":\"#E5ECF6\",\"polar\":{\"bgcolor\":\"#E5ECF6\",\"angularaxis\":{\"gridcolor\":\"white\",\"linecolor\":\"white\",\"ticks\":\"\"},\"radialaxis\":{\"gridcolor\":\"white\",\"linecolor\":\"white\",\"ticks\":\"\"}},\"ternary\":{\"bgcolor\":\"#E5ECF6\",\"aaxis\":{\"gridcolor\":\"white\",\"linecolor\":\"white\",\"ticks\":\"\"},\"baxis\":{\"gridcolor\":\"white\",\"linecolor\":\"white\",\"ticks\":\"\"},\"caxis\":{\"gridcolor\":\"white\",\"linecolor\":\"white\",\"ticks\":\"\"}},\"coloraxis\":{\"colorbar\":{\"outlinewidth\":0,\"ticks\":\"\"}},\"colorscale\":{\"sequential\":[[0.0,\"#0d0887\"],[0.1111111111111111,\"#46039f\"],[0.2222222222222222,\"#7201a8\"],[0.3333333333333333,\"#9c179e\"],[0.4444444444444444,\"#bd3786\"],[0.5555555555555556,\"#d8576b\"],[0.6666666666666666,\"#ed7953\"],[0.7777777777777778,\"#fb9f3a\"],[0.8888888888888888,\"#fdca26\"],[1.0,\"#f0f921\"]],\"sequentialminus\":[[0.0,\"#0d0887\"],[0.1111111111111111,\"#46039f\"],[0.2222222222222222,\"#7201a8\"],[0.3333333333333333,\"#9c179e\"],[0.4444444444444444,\"#bd3786\"],[0.5555555555555556,\"#d8576b\"],[0.6666666666666666,\"#ed7953\"],[0.7777777777777778,\"#fb9f3a\"],[0.8888888888888888,\"#fdca26\"],[1.0,\"#f0f921\"]],\"diverging\":[[0,\"#8e0152\"],[0.1,\"#c51b7d\"],[0.2,\"#de77ae\"],[0.3,\"#f1b6da\"],[0.4,\"#fde0ef\"],[0.5,\"#f7f7f7\"],[0.6,\"#e6f5d0\"],[0.7,\"#b8e186\"],[0.8,\"#7fbc41\"],[0.9,\"#4d9221\"],[1,\"#276419\"]]},\"xaxis\":{\"gridcolor\":\"white\",\"linecolor\":\"white\",\"ticks\":\"\",\"title\":{\"standoff\":15},\"zerolinecolor\":\"white\",\"automargin\":true,\"zerolinewidth\":2},\"yaxis\":{\"gridcolor\":\"white\",\"linecolor\":\"white\",\"ticks\":\"\",\"title\":{\"standoff\":15},\"zerolinecolor\":\"white\",\"automargin\":true,\"zerolinewidth\":2},\"scene\":{\"xaxis\":{\"backgroundcolor\":\"#E5ECF6\",\"gridcolor\":\"white\",\"linecolor\":\"white\",\"showbackground\":true,\"ticks\":\"\",\"zerolinecolor\":\"white\",\"gridwidth\":2},\"yaxis\":{\"backgroundcolor\":\"#E5ECF6\",\"gridcolor\":\"white\",\"linecolor\":\"white\",\"showbackground\":true,\"ticks\":\"\",\"zerolinecolor\":\"white\",\"gridwidth\":2},\"zaxis\":{\"backgroundcolor\":\"#E5ECF6\",\"gridcolor\":\"white\",\"linecolor\":\"white\",\"showbackground\":true,\"ticks\":\"\",\"zerolinecolor\":\"white\",\"gridwidth\":2}},\"shapedefaults\":{\"line\":{\"color\":\"#2a3f5f\"}},\"annotationdefaults\":{\"arrowcolor\":\"#2a3f5f\",\"arrowhead\":0,\"arrowwidth\":1},\"geo\":{\"bgcolor\":\"white\",\"landcolor\":\"#E5ECF6\",\"subunitcolor\":\"white\",\"showland\":true,\"showlakes\":true,\"lakecolor\":\"white\"},\"title\":{\"x\":0.05},\"mapbox\":{\"style\":\"light\"}}}},                        {\"responsive\": true}                    ).then(function(){\n",
       "                            \n",
       "var gd = document.getElementById('6a8a2df1-a73d-4cda-9352-d134d16d3c9d');\n",
       "var x = new MutationObserver(function (mutations, observer) {{\n",
       "        var display = window.getComputedStyle(gd).display;\n",
       "        if (!display || display === 'none') {{\n",
       "            console.log([gd, 'removed!']);\n",
       "            Plotly.purge(gd);\n",
       "            observer.disconnect();\n",
       "        }}\n",
       "}});\n",
       "\n",
       "// Listen for the removal of the full notebook cells\n",
       "var notebookContainer = gd.closest('#notebook-container');\n",
       "if (notebookContainer) {{\n",
       "    x.observe(notebookContainer, {childList: true});\n",
       "}}\n",
       "\n",
       "// Listen for the clearing of the current output cell\n",
       "var outputEl = gd.closest('.output');\n",
       "if (outputEl) {{\n",
       "    x.observe(outputEl, {childList: true});\n",
       "}}\n",
       "\n",
       "                        })                };                });            </script>        </div>"
      ]
     },
     "metadata": {},
     "output_type": "display_data"
    }
   ],
   "source": [
    "# Plot the figure\n",
    "counts, bins = np.histogram(df_interest['LogOddRatio'], bins=40)\n",
    "bin_midpoints = bins[:-1] + np.diff(bins)/2\n",
    "\n",
    "fig = go.Figure()\n",
    "\n",
    "fig.add_trace(go.Bar(\n",
    "    x=bin_midpoints,\n",
    "    y=counts,\n",
    "    width=np.diff(bins), # makes bars have correct widths\n",
    "    name='Histogram'\n",
    "))\n",
    "# add text labels for counts\n",
    "for i in range(len(counts)):\n",
    "    fig.add_trace(go.Scatter(\n",
    "        x=[bin_midpoints[i]],\n",
    "        y=[counts[i]],\n",
    "        text=[str(counts[i])],\n",
    "        mode='text',\n",
    "    ))\n",
    "\n",
    "fig.show()"
   ]
  },
  {
   "cell_type": "code",
   "execution_count": 93,
   "id": "02542935-31fe-4e73-b1e4-8abcbfdacc86",
   "metadata": {},
   "outputs": [
    {
     "data": {
      "application/vnd.plotly.v1+json": {
       "config": {
        "plotlyServerURL": "https://plot.ly"
       },
       "data": [
        {
         "name": "Histogram",
         "type": "bar",
         "width": [
          0.023385667402222476,
          0.023385667402222476,
          0.023385667402222587,
          0.023385667402222476,
          0.023385667402222476,
          0.023385667402222476,
          0.023385667402222476,
          0.023385667402222587,
          0.023385667402222476,
          0.023385667402222476,
          0.023385667402222476,
          0.023385667402222476,
          0.023385667402222587,
          0.023385667402222365,
          0.023385667402222587,
          0.023385667402222476,
          0.023385667402222476,
          0.023385667402222587,
          0.02338566740222242,
          0.023385667402222532,
          0.023385667402222476,
          0.023385667402222476,
          0.023385667402222476,
          0.023385667402222476,
          0.023385667402222587,
          0.023385667402222476,
          0.023385667402222476,
          0.023385667402222476,
          0.023385667402222476,
          0.023385667402222587,
          0.023385667402222476,
          0.023385667402222476,
          0.023385667402222476,
          0.023385667402222476,
          0.023385667402222587,
          0.023385667402222476,
          0.023385667402222476,
          0.023385667402222476,
          0.023385667402222476,
          0.023385667402222587
         ],
         "x": [
          -0.9238863717844752,
          -0.9005007043822528,
          -0.8771150369800302,
          -0.8537293695778077,
          -0.8303437021755853,
          -0.8069580347733627,
          -0.7835723673711403,
          -0.7601866999689177,
          -0.7368010325666952,
          -0.7134153651644728,
          -0.6900296977622502,
          -0.6666440303600278,
          -0.6432583629578053,
          -0.6198726955555828,
          -0.5964870281533603,
          -0.5731013607511377,
          -0.5497156933489153,
          -0.5263300259466928,
          -0.5029443585444703,
          -0.4795586911422478,
          -0.4561730237400253,
          -0.4327873563378028,
          -0.4094016889355803,
          -0.38601602153335784,
          -0.3626303541311353,
          -0.3392446867289128,
          -0.3158590193266903,
          -0.29247335192446783,
          -0.26908768452224535,
          -0.24570201712002282,
          -0.2223163497178003,
          -0.1989306823155778,
          -0.17554501491335534,
          -0.15215934751113286,
          -0.12877368010891033,
          -0.1053880127066878,
          -0.08200234530446532,
          -0.05861667790224284,
          -0.035231010500020365,
          -0.011845343097797834
         ],
         "y": [
          6,
          9,
          11,
          21,
          30,
          37,
          77,
          105,
          161,
          217,
          296,
          387,
          546,
          653,
          927,
          1208,
          1584,
          1955,
          2526,
          3051,
          3721,
          4209,
          5210,
          5736,
          6265,
          6984,
          7747,
          8642,
          9930,
          11084,
          12682,
          14490,
          16468,
          18374,
          20596,
          23110,
          25691,
          27190,
          24335,
          11898
         ]
        },
        {
         "mode": "text",
         "text": [
          "6"
         ],
         "type": "scatter",
         "x": [
          -0.9238863717844752
         ],
         "y": [
          6
         ]
        },
        {
         "mode": "text",
         "text": [
          "9"
         ],
         "type": "scatter",
         "x": [
          -0.9005007043822528
         ],
         "y": [
          9
         ]
        },
        {
         "mode": "text",
         "text": [
          "11"
         ],
         "type": "scatter",
         "x": [
          -0.8771150369800302
         ],
         "y": [
          11
         ]
        },
        {
         "mode": "text",
         "text": [
          "21"
         ],
         "type": "scatter",
         "x": [
          -0.8537293695778077
         ],
         "y": [
          21
         ]
        },
        {
         "mode": "text",
         "text": [
          "30"
         ],
         "type": "scatter",
         "x": [
          -0.8303437021755853
         ],
         "y": [
          30
         ]
        },
        {
         "mode": "text",
         "text": [
          "37"
         ],
         "type": "scatter",
         "x": [
          -0.8069580347733627
         ],
         "y": [
          37
         ]
        },
        {
         "mode": "text",
         "text": [
          "77"
         ],
         "type": "scatter",
         "x": [
          -0.7835723673711403
         ],
         "y": [
          77
         ]
        },
        {
         "mode": "text",
         "text": [
          "105"
         ],
         "type": "scatter",
         "x": [
          -0.7601866999689177
         ],
         "y": [
          105
         ]
        },
        {
         "mode": "text",
         "text": [
          "161"
         ],
         "type": "scatter",
         "x": [
          -0.7368010325666952
         ],
         "y": [
          161
         ]
        },
        {
         "mode": "text",
         "text": [
          "217"
         ],
         "type": "scatter",
         "x": [
          -0.7134153651644728
         ],
         "y": [
          217
         ]
        },
        {
         "mode": "text",
         "text": [
          "296"
         ],
         "type": "scatter",
         "x": [
          -0.6900296977622502
         ],
         "y": [
          296
         ]
        },
        {
         "mode": "text",
         "text": [
          "387"
         ],
         "type": "scatter",
         "x": [
          -0.6666440303600278
         ],
         "y": [
          387
         ]
        },
        {
         "mode": "text",
         "text": [
          "546"
         ],
         "type": "scatter",
         "x": [
          -0.6432583629578053
         ],
         "y": [
          546
         ]
        },
        {
         "mode": "text",
         "text": [
          "653"
         ],
         "type": "scatter",
         "x": [
          -0.6198726955555828
         ],
         "y": [
          653
         ]
        },
        {
         "mode": "text",
         "text": [
          "927"
         ],
         "type": "scatter",
         "x": [
          -0.5964870281533603
         ],
         "y": [
          927
         ]
        },
        {
         "mode": "text",
         "text": [
          "1208"
         ],
         "type": "scatter",
         "x": [
          -0.5731013607511377
         ],
         "y": [
          1208
         ]
        },
        {
         "mode": "text",
         "text": [
          "1584"
         ],
         "type": "scatter",
         "x": [
          -0.5497156933489153
         ],
         "y": [
          1584
         ]
        },
        {
         "mode": "text",
         "text": [
          "1955"
         ],
         "type": "scatter",
         "x": [
          -0.5263300259466928
         ],
         "y": [
          1955
         ]
        },
        {
         "mode": "text",
         "text": [
          "2526"
         ],
         "type": "scatter",
         "x": [
          -0.5029443585444703
         ],
         "y": [
          2526
         ]
        },
        {
         "mode": "text",
         "text": [
          "3051"
         ],
         "type": "scatter",
         "x": [
          -0.4795586911422478
         ],
         "y": [
          3051
         ]
        },
        {
         "mode": "text",
         "text": [
          "3721"
         ],
         "type": "scatter",
         "x": [
          -0.4561730237400253
         ],
         "y": [
          3721
         ]
        },
        {
         "mode": "text",
         "text": [
          "4209"
         ],
         "type": "scatter",
         "x": [
          -0.4327873563378028
         ],
         "y": [
          4209
         ]
        },
        {
         "mode": "text",
         "text": [
          "5210"
         ],
         "type": "scatter",
         "x": [
          -0.4094016889355803
         ],
         "y": [
          5210
         ]
        },
        {
         "mode": "text",
         "text": [
          "5736"
         ],
         "type": "scatter",
         "x": [
          -0.38601602153335784
         ],
         "y": [
          5736
         ]
        },
        {
         "mode": "text",
         "text": [
          "6265"
         ],
         "type": "scatter",
         "x": [
          -0.3626303541311353
         ],
         "y": [
          6265
         ]
        },
        {
         "mode": "text",
         "text": [
          "6984"
         ],
         "type": "scatter",
         "x": [
          -0.3392446867289128
         ],
         "y": [
          6984
         ]
        },
        {
         "mode": "text",
         "text": [
          "7747"
         ],
         "type": "scatter",
         "x": [
          -0.3158590193266903
         ],
         "y": [
          7747
         ]
        },
        {
         "mode": "text",
         "text": [
          "8642"
         ],
         "type": "scatter",
         "x": [
          -0.29247335192446783
         ],
         "y": [
          8642
         ]
        },
        {
         "mode": "text",
         "text": [
          "9930"
         ],
         "type": "scatter",
         "x": [
          -0.26908768452224535
         ],
         "y": [
          9930
         ]
        },
        {
         "mode": "text",
         "text": [
          "11084"
         ],
         "type": "scatter",
         "x": [
          -0.24570201712002282
         ],
         "y": [
          11084
         ]
        },
        {
         "mode": "text",
         "text": [
          "12682"
         ],
         "type": "scatter",
         "x": [
          -0.2223163497178003
         ],
         "y": [
          12682
         ]
        },
        {
         "mode": "text",
         "text": [
          "14490"
         ],
         "type": "scatter",
         "x": [
          -0.1989306823155778
         ],
         "y": [
          14490
         ]
        },
        {
         "mode": "text",
         "text": [
          "16468"
         ],
         "type": "scatter",
         "x": [
          -0.17554501491335534
         ],
         "y": [
          16468
         ]
        },
        {
         "mode": "text",
         "text": [
          "18374"
         ],
         "type": "scatter",
         "x": [
          -0.15215934751113286
         ],
         "y": [
          18374
         ]
        },
        {
         "mode": "text",
         "text": [
          "20596"
         ],
         "type": "scatter",
         "x": [
          -0.12877368010891033
         ],
         "y": [
          20596
         ]
        },
        {
         "mode": "text",
         "text": [
          "23110"
         ],
         "type": "scatter",
         "x": [
          -0.1053880127066878
         ],
         "y": [
          23110
         ]
        },
        {
         "mode": "text",
         "text": [
          "25691"
         ],
         "type": "scatter",
         "x": [
          -0.08200234530446532
         ],
         "y": [
          25691
         ]
        },
        {
         "mode": "text",
         "text": [
          "27190"
         ],
         "type": "scatter",
         "x": [
          -0.05861667790224284
         ],
         "y": [
          27190
         ]
        },
        {
         "mode": "text",
         "text": [
          "24335"
         ],
         "type": "scatter",
         "x": [
          -0.035231010500020365
         ],
         "y": [
          24335
         ]
        },
        {
         "mode": "text",
         "text": [
          "11898"
         ],
         "type": "scatter",
         "x": [
          -0.011845343097797834
         ],
         "y": [
          11898
         ]
        }
       ],
       "layout": {
        "autosize": true,
        "template": {
         "data": {
          "bar": [
           {
            "error_x": {
             "color": "#2a3f5f"
            },
            "error_y": {
             "color": "#2a3f5f"
            },
            "marker": {
             "line": {
              "color": "#E5ECF6",
              "width": 0.5
             },
             "pattern": {
              "fillmode": "overlay",
              "size": 10,
              "solidity": 0.2
             }
            },
            "type": "bar"
           }
          ],
          "barpolar": [
           {
            "marker": {
             "line": {
              "color": "#E5ECF6",
              "width": 0.5
             },
             "pattern": {
              "fillmode": "overlay",
              "size": 10,
              "solidity": 0.2
             }
            },
            "type": "barpolar"
           }
          ],
          "carpet": [
           {
            "aaxis": {
             "endlinecolor": "#2a3f5f",
             "gridcolor": "white",
             "linecolor": "white",
             "minorgridcolor": "white",
             "startlinecolor": "#2a3f5f"
            },
            "baxis": {
             "endlinecolor": "#2a3f5f",
             "gridcolor": "white",
             "linecolor": "white",
             "minorgridcolor": "white",
             "startlinecolor": "#2a3f5f"
            },
            "type": "carpet"
           }
          ],
          "choropleth": [
           {
            "colorbar": {
             "outlinewidth": 0,
             "ticks": ""
            },
            "type": "choropleth"
           }
          ],
          "contour": [
           {
            "colorbar": {
             "outlinewidth": 0,
             "ticks": ""
            },
            "colorscale": [
             [
              0,
              "#0d0887"
             ],
             [
              0.1111111111111111,
              "#46039f"
             ],
             [
              0.2222222222222222,
              "#7201a8"
             ],
             [
              0.3333333333333333,
              "#9c179e"
             ],
             [
              0.4444444444444444,
              "#bd3786"
             ],
             [
              0.5555555555555556,
              "#d8576b"
             ],
             [
              0.6666666666666666,
              "#ed7953"
             ],
             [
              0.7777777777777778,
              "#fb9f3a"
             ],
             [
              0.8888888888888888,
              "#fdca26"
             ],
             [
              1,
              "#f0f921"
             ]
            ],
            "type": "contour"
           }
          ],
          "contourcarpet": [
           {
            "colorbar": {
             "outlinewidth": 0,
             "ticks": ""
            },
            "type": "contourcarpet"
           }
          ],
          "heatmap": [
           {
            "colorbar": {
             "outlinewidth": 0,
             "ticks": ""
            },
            "colorscale": [
             [
              0,
              "#0d0887"
             ],
             [
              0.1111111111111111,
              "#46039f"
             ],
             [
              0.2222222222222222,
              "#7201a8"
             ],
             [
              0.3333333333333333,
              "#9c179e"
             ],
             [
              0.4444444444444444,
              "#bd3786"
             ],
             [
              0.5555555555555556,
              "#d8576b"
             ],
             [
              0.6666666666666666,
              "#ed7953"
             ],
             [
              0.7777777777777778,
              "#fb9f3a"
             ],
             [
              0.8888888888888888,
              "#fdca26"
             ],
             [
              1,
              "#f0f921"
             ]
            ],
            "type": "heatmap"
           }
          ],
          "heatmapgl": [
           {
            "colorbar": {
             "outlinewidth": 0,
             "ticks": ""
            },
            "colorscale": [
             [
              0,
              "#0d0887"
             ],
             [
              0.1111111111111111,
              "#46039f"
             ],
             [
              0.2222222222222222,
              "#7201a8"
             ],
             [
              0.3333333333333333,
              "#9c179e"
             ],
             [
              0.4444444444444444,
              "#bd3786"
             ],
             [
              0.5555555555555556,
              "#d8576b"
             ],
             [
              0.6666666666666666,
              "#ed7953"
             ],
             [
              0.7777777777777778,
              "#fb9f3a"
             ],
             [
              0.8888888888888888,
              "#fdca26"
             ],
             [
              1,
              "#f0f921"
             ]
            ],
            "type": "heatmapgl"
           }
          ],
          "histogram": [
           {
            "marker": {
             "pattern": {
              "fillmode": "overlay",
              "size": 10,
              "solidity": 0.2
             }
            },
            "type": "histogram"
           }
          ],
          "histogram2d": [
           {
            "colorbar": {
             "outlinewidth": 0,
             "ticks": ""
            },
            "colorscale": [
             [
              0,
              "#0d0887"
             ],
             [
              0.1111111111111111,
              "#46039f"
             ],
             [
              0.2222222222222222,
              "#7201a8"
             ],
             [
              0.3333333333333333,
              "#9c179e"
             ],
             [
              0.4444444444444444,
              "#bd3786"
             ],
             [
              0.5555555555555556,
              "#d8576b"
             ],
             [
              0.6666666666666666,
              "#ed7953"
             ],
             [
              0.7777777777777778,
              "#fb9f3a"
             ],
             [
              0.8888888888888888,
              "#fdca26"
             ],
             [
              1,
              "#f0f921"
             ]
            ],
            "type": "histogram2d"
           }
          ],
          "histogram2dcontour": [
           {
            "colorbar": {
             "outlinewidth": 0,
             "ticks": ""
            },
            "colorscale": [
             [
              0,
              "#0d0887"
             ],
             [
              0.1111111111111111,
              "#46039f"
             ],
             [
              0.2222222222222222,
              "#7201a8"
             ],
             [
              0.3333333333333333,
              "#9c179e"
             ],
             [
              0.4444444444444444,
              "#bd3786"
             ],
             [
              0.5555555555555556,
              "#d8576b"
             ],
             [
              0.6666666666666666,
              "#ed7953"
             ],
             [
              0.7777777777777778,
              "#fb9f3a"
             ],
             [
              0.8888888888888888,
              "#fdca26"
             ],
             [
              1,
              "#f0f921"
             ]
            ],
            "type": "histogram2dcontour"
           }
          ],
          "mesh3d": [
           {
            "colorbar": {
             "outlinewidth": 0,
             "ticks": ""
            },
            "type": "mesh3d"
           }
          ],
          "parcoords": [
           {
            "line": {
             "colorbar": {
              "outlinewidth": 0,
              "ticks": ""
             }
            },
            "type": "parcoords"
           }
          ],
          "pie": [
           {
            "automargin": true,
            "type": "pie"
           }
          ],
          "scatter": [
           {
            "fillpattern": {
             "fillmode": "overlay",
             "size": 10,
             "solidity": 0.2
            },
            "type": "scatter"
           }
          ],
          "scatter3d": [
           {
            "line": {
             "colorbar": {
              "outlinewidth": 0,
              "ticks": ""
             }
            },
            "marker": {
             "colorbar": {
              "outlinewidth": 0,
              "ticks": ""
             }
            },
            "type": "scatter3d"
           }
          ],
          "scattercarpet": [
           {
            "marker": {
             "colorbar": {
              "outlinewidth": 0,
              "ticks": ""
             }
            },
            "type": "scattercarpet"
           }
          ],
          "scattergeo": [
           {
            "marker": {
             "colorbar": {
              "outlinewidth": 0,
              "ticks": ""
             }
            },
            "type": "scattergeo"
           }
          ],
          "scattergl": [
           {
            "marker": {
             "colorbar": {
              "outlinewidth": 0,
              "ticks": ""
             }
            },
            "type": "scattergl"
           }
          ],
          "scattermapbox": [
           {
            "marker": {
             "colorbar": {
              "outlinewidth": 0,
              "ticks": ""
             }
            },
            "type": "scattermapbox"
           }
          ],
          "scatterpolar": [
           {
            "marker": {
             "colorbar": {
              "outlinewidth": 0,
              "ticks": ""
             }
            },
            "type": "scatterpolar"
           }
          ],
          "scatterpolargl": [
           {
            "marker": {
             "colorbar": {
              "outlinewidth": 0,
              "ticks": ""
             }
            },
            "type": "scatterpolargl"
           }
          ],
          "scatterternary": [
           {
            "marker": {
             "colorbar": {
              "outlinewidth": 0,
              "ticks": ""
             }
            },
            "type": "scatterternary"
           }
          ],
          "surface": [
           {
            "colorbar": {
             "outlinewidth": 0,
             "ticks": ""
            },
            "colorscale": [
             [
              0,
              "#0d0887"
             ],
             [
              0.1111111111111111,
              "#46039f"
             ],
             [
              0.2222222222222222,
              "#7201a8"
             ],
             [
              0.3333333333333333,
              "#9c179e"
             ],
             [
              0.4444444444444444,
              "#bd3786"
             ],
             [
              0.5555555555555556,
              "#d8576b"
             ],
             [
              0.6666666666666666,
              "#ed7953"
             ],
             [
              0.7777777777777778,
              "#fb9f3a"
             ],
             [
              0.8888888888888888,
              "#fdca26"
             ],
             [
              1,
              "#f0f921"
             ]
            ],
            "type": "surface"
           }
          ],
          "table": [
           {
            "cells": {
             "fill": {
              "color": "#EBF0F8"
             },
             "line": {
              "color": "white"
             }
            },
            "header": {
             "fill": {
              "color": "#C8D4E3"
             },
             "line": {
              "color": "white"
             }
            },
            "type": "table"
           }
          ]
         },
         "layout": {
          "annotationdefaults": {
           "arrowcolor": "#2a3f5f",
           "arrowhead": 0,
           "arrowwidth": 1
          },
          "autotypenumbers": "strict",
          "coloraxis": {
           "colorbar": {
            "outlinewidth": 0,
            "ticks": ""
           }
          },
          "colorscale": {
           "diverging": [
            [
             0,
             "#8e0152"
            ],
            [
             0.1,
             "#c51b7d"
            ],
            [
             0.2,
             "#de77ae"
            ],
            [
             0.3,
             "#f1b6da"
            ],
            [
             0.4,
             "#fde0ef"
            ],
            [
             0.5,
             "#f7f7f7"
            ],
            [
             0.6,
             "#e6f5d0"
            ],
            [
             0.7,
             "#b8e186"
            ],
            [
             0.8,
             "#7fbc41"
            ],
            [
             0.9,
             "#4d9221"
            ],
            [
             1,
             "#276419"
            ]
           ],
           "sequential": [
            [
             0,
             "#0d0887"
            ],
            [
             0.1111111111111111,
             "#46039f"
            ],
            [
             0.2222222222222222,
             "#7201a8"
            ],
            [
             0.3333333333333333,
             "#9c179e"
            ],
            [
             0.4444444444444444,
             "#bd3786"
            ],
            [
             0.5555555555555556,
             "#d8576b"
            ],
            [
             0.6666666666666666,
             "#ed7953"
            ],
            [
             0.7777777777777778,
             "#fb9f3a"
            ],
            [
             0.8888888888888888,
             "#fdca26"
            ],
            [
             1,
             "#f0f921"
            ]
           ],
           "sequentialminus": [
            [
             0,
             "#0d0887"
            ],
            [
             0.1111111111111111,
             "#46039f"
            ],
            [
             0.2222222222222222,
             "#7201a8"
            ],
            [
             0.3333333333333333,
             "#9c179e"
            ],
            [
             0.4444444444444444,
             "#bd3786"
            ],
            [
             0.5555555555555556,
             "#d8576b"
            ],
            [
             0.6666666666666666,
             "#ed7953"
            ],
            [
             0.7777777777777778,
             "#fb9f3a"
            ],
            [
             0.8888888888888888,
             "#fdca26"
            ],
            [
             1,
             "#f0f921"
            ]
           ]
          },
          "colorway": [
           "#636efa",
           "#EF553B",
           "#00cc96",
           "#ab63fa",
           "#FFA15A",
           "#19d3f3",
           "#FF6692",
           "#B6E880",
           "#FF97FF",
           "#FECB52"
          ],
          "font": {
           "color": "#2a3f5f"
          },
          "geo": {
           "bgcolor": "white",
           "lakecolor": "white",
           "landcolor": "#E5ECF6",
           "showlakes": true,
           "showland": true,
           "subunitcolor": "white"
          },
          "hoverlabel": {
           "align": "left"
          },
          "hovermode": "closest",
          "mapbox": {
           "style": "light"
          },
          "paper_bgcolor": "white",
          "plot_bgcolor": "#E5ECF6",
          "polar": {
           "angularaxis": {
            "gridcolor": "white",
            "linecolor": "white",
            "ticks": ""
           },
           "bgcolor": "#E5ECF6",
           "radialaxis": {
            "gridcolor": "white",
            "linecolor": "white",
            "ticks": ""
           }
          },
          "scene": {
           "xaxis": {
            "backgroundcolor": "#E5ECF6",
            "gridcolor": "white",
            "gridwidth": 2,
            "linecolor": "white",
            "showbackground": true,
            "ticks": "",
            "zerolinecolor": "white"
           },
           "yaxis": {
            "backgroundcolor": "#E5ECF6",
            "gridcolor": "white",
            "gridwidth": 2,
            "linecolor": "white",
            "showbackground": true,
            "ticks": "",
            "zerolinecolor": "white"
           },
           "zaxis": {
            "backgroundcolor": "#E5ECF6",
            "gridcolor": "white",
            "gridwidth": 2,
            "linecolor": "white",
            "showbackground": true,
            "ticks": "",
            "zerolinecolor": "white"
           }
          },
          "shapedefaults": {
           "line": {
            "color": "#2a3f5f"
           }
          },
          "ternary": {
           "aaxis": {
            "gridcolor": "white",
            "linecolor": "white",
            "ticks": ""
           },
           "baxis": {
            "gridcolor": "white",
            "linecolor": "white",
            "ticks": ""
           },
           "bgcolor": "#E5ECF6",
           "caxis": {
            "gridcolor": "white",
            "linecolor": "white",
            "ticks": ""
           }
          },
          "title": {
           "x": 0.05
          },
          "xaxis": {
           "automargin": true,
           "gridcolor": "white",
           "linecolor": "white",
           "ticks": "",
           "title": {
            "standoff": 15
           },
           "zerolinecolor": "white",
           "zerolinewidth": 2
          },
          "yaxis": {
           "automargin": true,
           "gridcolor": "white",
           "linecolor": "white",
           "ticks": "",
           "title": {
            "standoff": 15
           },
           "zerolinecolor": "white",
           "zerolinewidth": 2
          }
         }
        },
        "xaxis": {
         "autorange": true,
         "range": [
          -0.974555317822624,
          0.03882360294035092
         ],
         "type": "linear"
        },
        "yaxis": {
         "autorange": true,
         "range": [
          -1504.2222222222224,
          28700.222222222223
         ],
         "type": "linear"
        }
       }
      },
      "image/png": "[encoded data removed]",
      "text/html": [
       "<div>                            <div id=\"8cc57295-6587-4d03-a065-6ccd34ed4382\" class=\"plotly-graph-div\" style=\"height:525px; width:100%;\"></div>            <script type=\"text/javascript\">                require([\"plotly\"], function(Plotly) {                    window.PLOTLYENV=window.PLOTLYENV || {};                                    if (document.getElementById(\"8cc57295-6587-4d03-a065-6ccd34ed4382\")) {                    Plotly.newPlot(                        \"8cc57295-6587-4d03-a065-6ccd34ed4382\",                        [{\"name\":\"Histogram\",\"width\":[0.023385667402222476,0.023385667402222476,0.023385667402222587,0.023385667402222476,0.023385667402222476,0.023385667402222476,0.023385667402222476,0.023385667402222587,0.023385667402222476,0.023385667402222476,0.023385667402222476,0.023385667402222476,0.023385667402222587,0.023385667402222365,0.023385667402222587,0.023385667402222476,0.023385667402222476,0.023385667402222587,0.02338566740222242,0.023385667402222532,0.023385667402222476,0.023385667402222476,0.023385667402222476,0.023385667402222476,0.023385667402222587,0.023385667402222476,0.023385667402222476,0.023385667402222476,0.023385667402222476,0.023385667402222587,0.023385667402222476,0.023385667402222476,0.023385667402222476,0.023385667402222476,0.023385667402222587,0.023385667402222476,0.023385667402222476,0.023385667402222476,0.023385667402222476,0.023385667402222587],\"x\":[-0.9238863717844752,-0.9005007043822528,-0.8771150369800302,-0.8537293695778077,-0.8303437021755853,-0.8069580347733627,-0.7835723673711403,-0.7601866999689177,-0.7368010325666952,-0.7134153651644728,-0.6900296977622502,-0.6666440303600278,-0.6432583629578053,-0.6198726955555828,-0.5964870281533603,-0.5731013607511377,-0.5497156933489153,-0.5263300259466928,-0.5029443585444703,-0.4795586911422478,-0.4561730237400253,-0.4327873563378028,-0.4094016889355803,-0.38601602153335784,-0.3626303541311353,-0.3392446867289128,-0.3158590193266903,-0.29247335192446783,-0.26908768452224535,-0.24570201712002282,-0.2223163497178003,-0.1989306823155778,-0.17554501491335534,-0.15215934751113286,-0.12877368010891033,-0.1053880127066878,-0.08200234530446532,-0.05861667790224284,-0.035231010500020365,-0.011845343097797834],\"y\":[6,9,11,21,30,37,77,105,161,217,296,387,546,653,927,1208,1584,1955,2526,3051,3721,4209,5210,5736,6265,6984,7747,8642,9930,11084,12682,14490,16468,18374,20596,23110,25691,27190,24335,11898],\"type\":\"bar\"},{\"mode\":\"text\",\"text\":[\"6\"],\"x\":[-0.9238863717844752],\"y\":[6],\"type\":\"scatter\"},{\"mode\":\"text\",\"text\":[\"9\"],\"x\":[-0.9005007043822528],\"y\":[9],\"type\":\"scatter\"},{\"mode\":\"text\",\"text\":[\"11\"],\"x\":[-0.8771150369800302],\"y\":[11],\"type\":\"scatter\"},{\"mode\":\"text\",\"text\":[\"21\"],\"x\":[-0.8537293695778077],\"y\":[21],\"type\":\"scatter\"},{\"mode\":\"text\",\"text\":[\"30\"],\"x\":[-0.8303437021755853],\"y\":[30],\"type\":\"scatter\"},{\"mode\":\"text\",\"text\":[\"37\"],\"x\":[-0.8069580347733627],\"y\":[37],\"type\":\"scatter\"},{\"mode\":\"text\",\"text\":[\"77\"],\"x\":[-0.7835723673711403],\"y\":[77],\"type\":\"scatter\"},{\"mode\":\"text\",\"text\":[\"105\"],\"x\":[-0.7601866999689177],\"y\":[105],\"type\":\"scatter\"},{\"mode\":\"text\",\"text\":[\"161\"],\"x\":[-0.7368010325666952],\"y\":[161],\"type\":\"scatter\"},{\"mode\":\"text\",\"text\":[\"217\"],\"x\":[-0.7134153651644728],\"y\":[217],\"type\":\"scatter\"},{\"mode\":\"text\",\"text\":[\"296\"],\"x\":[-0.6900296977622502],\"y\":[296],\"type\":\"scatter\"},{\"mode\":\"text\",\"text\":[\"387\"],\"x\":[-0.6666440303600278],\"y\":[387],\"type\":\"scatter\"},{\"mode\":\"text\",\"text\":[\"546\"],\"x\":[-0.6432583629578053],\"y\":[546],\"type\":\"scatter\"},{\"mode\":\"text\",\"text\":[\"653\"],\"x\":[-0.6198726955555828],\"y\":[653],\"type\":\"scatter\"},{\"mode\":\"text\",\"text\":[\"927\"],\"x\":[-0.5964870281533603],\"y\":[927],\"type\":\"scatter\"},{\"mode\":\"text\",\"text\":[\"1208\"],\"x\":[-0.5731013607511377],\"y\":[1208],\"type\":\"scatter\"},{\"mode\":\"text\",\"text\":[\"1584\"],\"x\":[-0.5497156933489153],\"y\":[1584],\"type\":\"scatter\"},{\"mode\":\"text\",\"text\":[\"1955\"],\"x\":[-0.5263300259466928],\"y\":[1955],\"type\":\"scatter\"},{\"mode\":\"text\",\"text\":[\"2526\"],\"x\":[-0.5029443585444703],\"y\":[2526],\"type\":\"scatter\"},{\"mode\":\"text\",\"text\":[\"3051\"],\"x\":[-0.4795586911422478],\"y\":[3051],\"type\":\"scatter\"},{\"mode\":\"text\",\"text\":[\"3721\"],\"x\":[-0.4561730237400253],\"y\":[3721],\"type\":\"scatter\"},{\"mode\":\"text\",\"text\":[\"4209\"],\"x\":[-0.4327873563378028],\"y\":[4209],\"type\":\"scatter\"},{\"mode\":\"text\",\"text\":[\"5210\"],\"x\":[-0.4094016889355803],\"y\":[5210],\"type\":\"scatter\"},{\"mode\":\"text\",\"text\":[\"5736\"],\"x\":[-0.38601602153335784],\"y\":[5736],\"type\":\"scatter\"},{\"mode\":\"text\",\"text\":[\"6265\"],\"x\":[-0.3626303541311353],\"y\":[6265],\"type\":\"scatter\"},{\"mode\":\"text\",\"text\":[\"6984\"],\"x\":[-0.3392446867289128],\"y\":[6984],\"type\":\"scatter\"},{\"mode\":\"text\",\"text\":[\"7747\"],\"x\":[-0.3158590193266903],\"y\":[7747],\"type\":\"scatter\"},{\"mode\":\"text\",\"text\":[\"8642\"],\"x\":[-0.29247335192446783],\"y\":[8642],\"type\":\"scatter\"},{\"mode\":\"text\",\"text\":[\"9930\"],\"x\":[-0.26908768452224535],\"y\":[9930],\"type\":\"scatter\"},{\"mode\":\"text\",\"text\":[\"11084\"],\"x\":[-0.24570201712002282],\"y\":[11084],\"type\":\"scatter\"},{\"mode\":\"text\",\"text\":[\"12682\"],\"x\":[-0.2223163497178003],\"y\":[12682],\"type\":\"scatter\"},{\"mode\":\"text\",\"text\":[\"14490\"],\"x\":[-0.1989306823155778],\"y\":[14490],\"type\":\"scatter\"},{\"mode\":\"text\",\"text\":[\"16468\"],\"x\":[-0.17554501491335534],\"y\":[16468],\"type\":\"scatter\"},{\"mode\":\"text\",\"text\":[\"18374\"],\"x\":[-0.15215934751113286],\"y\":[18374],\"type\":\"scatter\"},{\"mode\":\"text\",\"text\":[\"20596\"],\"x\":[-0.12877368010891033],\"y\":[20596],\"type\":\"scatter\"},{\"mode\":\"text\",\"text\":[\"23110\"],\"x\":[-0.1053880127066878],\"y\":[23110],\"type\":\"scatter\"},{\"mode\":\"text\",\"text\":[\"25691\"],\"x\":[-0.08200234530446532],\"y\":[25691],\"type\":\"scatter\"},{\"mode\":\"text\",\"text\":[\"27190\"],\"x\":[-0.05861667790224284],\"y\":[27190],\"type\":\"scatter\"},{\"mode\":\"text\",\"text\":[\"24335\"],\"x\":[-0.035231010500020365],\"y\":[24335],\"type\":\"scatter\"},{\"mode\":\"text\",\"text\":[\"11898\"],\"x\":[-0.011845343097797834],\"y\":[11898],\"type\":\"scatter\"}],                        {\"template\":{\"data\":{\"histogram2dcontour\":[{\"type\":\"histogram2dcontour\",\"colorbar\":{\"outlinewidth\":0,\"ticks\":\"\"},\"colorscale\":[[0.0,\"#0d0887\"],[0.1111111111111111,\"#46039f\"],[0.2222222222222222,\"#7201a8\"],[0.3333333333333333,\"#9c179e\"],[0.4444444444444444,\"#bd3786\"],[0.5555555555555556,\"#d8576b\"],[0.6666666666666666,\"#ed7953\"],[0.7777777777777778,\"#fb9f3a\"],[0.8888888888888888,\"#fdca26\"],[1.0,\"#f0f921\"]]}],\"choropleth\":[{\"type\":\"choropleth\",\"colorbar\":{\"outlinewidth\":0,\"ticks\":\"\"}}],\"histogram2d\":[{\"type\":\"histogram2d\",\"colorbar\":{\"outlinewidth\":0,\"ticks\":\"\"},\"colorscale\":[[0.0,\"#0d0887\"],[0.1111111111111111,\"#46039f\"],[0.2222222222222222,\"#7201a8\"],[0.3333333333333333,\"#9c179e\"],[0.4444444444444444,\"#bd3786\"],[0.5555555555555556,\"#d8576b\"],[0.6666666666666666,\"#ed7953\"],[0.7777777777777778,\"#fb9f3a\"],[0.8888888888888888,\"#fdca26\"],[1.0,\"#f0f921\"]]}],\"heatmap\":[{\"type\":\"heatmap\",\"colorbar\":{\"outlinewidth\":0,\"ticks\":\"\"},\"colorscale\":[[0.0,\"#0d0887\"],[0.1111111111111111,\"#46039f\"],[0.2222222222222222,\"#7201a8\"],[0.3333333333333333,\"#9c179e\"],[0.4444444444444444,\"#bd3786\"],[0.5555555555555556,\"#d8576b\"],[0.6666666666666666,\"#ed7953\"],[0.7777777777777778,\"#fb9f3a\"],[0.8888888888888888,\"#fdca26\"],[1.0,\"#f0f921\"]]}],\"heatmapgl\":[{\"type\":\"heatmapgl\",\"colorbar\":{\"outlinewidth\":0,\"ticks\":\"\"},\"colorscale\":[[0.0,\"#0d0887\"],[0.1111111111111111,\"#46039f\"],[0.2222222222222222,\"#7201a8\"],[0.3333333333333333,\"#9c179e\"],[0.4444444444444444,\"#bd3786\"],[0.5555555555555556,\"#d8576b\"],[0.6666666666666666,\"#ed7953\"],[0.7777777777777778,\"#fb9f3a\"],[0.8888888888888888,\"#fdca26\"],[1.0,\"#f0f921\"]]}],\"contourcarpet\":[{\"type\":\"contourcarpet\",\"colorbar\":{\"outlinewidth\":0,\"ticks\":\"\"}}],\"contour\":[{\"type\":\"contour\",\"colorbar\":{\"outlinewidth\":0,\"ticks\":\"\"},\"colorscale\":[[0.0,\"#0d0887\"],[0.1111111111111111,\"#46039f\"],[0.2222222222222222,\"#7201a8\"],[0.3333333333333333,\"#9c179e\"],[0.4444444444444444,\"#bd3786\"],[0.5555555555555556,\"#d8576b\"],[0.6666666666666666,\"#ed7953\"],[0.7777777777777778,\"#fb9f3a\"],[0.8888888888888888,\"#fdca26\"],[1.0,\"#f0f921\"]]}],\"surface\":[{\"type\":\"surface\",\"colorbar\":{\"outlinewidth\":0,\"ticks\":\"\"},\"colorscale\":[[0.0,\"#0d0887\"],[0.1111111111111111,\"#46039f\"],[0.2222222222222222,\"#7201a8\"],[0.3333333333333333,\"#9c179e\"],[0.4444444444444444,\"#bd3786\"],[0.5555555555555556,\"#d8576b\"],[0.6666666666666666,\"#ed7953\"],[0.7777777777777778,\"#fb9f3a\"],[0.8888888888888888,\"#fdca26\"],[1.0,\"#f0f921\"]]}],\"mesh3d\":[{\"type\":\"mesh3d\",\"colorbar\":{\"outlinewidth\":0,\"ticks\":\"\"}}],\"scatter\":[{\"fillpattern\":{\"fillmode\":\"overlay\",\"size\":10,\"solidity\":0.2},\"type\":\"scatter\"}],\"parcoords\":[{\"type\":\"parcoords\",\"line\":{\"colorbar\":{\"outlinewidth\":0,\"ticks\":\"\"}}}],\"scatterpolargl\":[{\"type\":\"scatterpolargl\",\"marker\":{\"colorbar\":{\"outlinewidth\":0,\"ticks\":\"\"}}}],\"bar\":[{\"error_x\":{\"color\":\"#2a3f5f\"},\"error_y\":{\"color\":\"#2a3f5f\"},\"marker\":{\"line\":{\"color\":\"#E5ECF6\",\"width\":0.5},\"pattern\":{\"fillmode\":\"overlay\",\"size\":10,\"solidity\":0.2}},\"type\":\"bar\"}],\"scattergeo\":[{\"type\":\"scattergeo\",\"marker\":{\"colorbar\":{\"outlinewidth\":0,\"ticks\":\"\"}}}],\"scatterpolar\":[{\"type\":\"scatterpolar\",\"marker\":{\"colorbar\":{\"outlinewidth\":0,\"ticks\":\"\"}}}],\"histogram\":[{\"marker\":{\"pattern\":{\"fillmode\":\"overlay\",\"size\":10,\"solidity\":0.2}},\"type\":\"histogram\"}],\"scattergl\":[{\"type\":\"scattergl\",\"marker\":{\"colorbar\":{\"outlinewidth\":0,\"ticks\":\"\"}}}],\"scatter3d\":[{\"type\":\"scatter3d\",\"line\":{\"colorbar\":{\"outlinewidth\":0,\"ticks\":\"\"}},\"marker\":{\"colorbar\":{\"outlinewidth\":0,\"ticks\":\"\"}}}],\"scattermapbox\":[{\"type\":\"scattermapbox\",\"marker\":{\"colorbar\":{\"outlinewidth\":0,\"ticks\":\"\"}}}],\"scatterternary\":[{\"type\":\"scatterternary\",\"marker\":{\"colorbar\":{\"outlinewidth\":0,\"ticks\":\"\"}}}],\"scattercarpet\":[{\"type\":\"scattercarpet\",\"marker\":{\"colorbar\":{\"outlinewidth\":0,\"ticks\":\"\"}}}],\"carpet\":[{\"aaxis\":{\"endlinecolor\":\"#2a3f5f\",\"gridcolor\":\"white\",\"linecolor\":\"white\",\"minorgridcolor\":\"white\",\"startlinecolor\":\"#2a3f5f\"},\"baxis\":{\"endlinecolor\":\"#2a3f5f\",\"gridcolor\":\"white\",\"linecolor\":\"white\",\"minorgridcolor\":\"white\",\"startlinecolor\":\"#2a3f5f\"},\"type\":\"carpet\"}],\"table\":[{\"cells\":{\"fill\":{\"color\":\"#EBF0F8\"},\"line\":{\"color\":\"white\"}},\"header\":{\"fill\":{\"color\":\"#C8D4E3\"},\"line\":{\"color\":\"white\"}},\"type\":\"table\"}],\"barpolar\":[{\"marker\":{\"line\":{\"color\":\"#E5ECF6\",\"width\":0.5},\"pattern\":{\"fillmode\":\"overlay\",\"size\":10,\"solidity\":0.2}},\"type\":\"barpolar\"}],\"pie\":[{\"automargin\":true,\"type\":\"pie\"}]},\"layout\":{\"autotypenumbers\":\"strict\",\"colorway\":[\"#636efa\",\"#EF553B\",\"#00cc96\",\"#ab63fa\",\"#FFA15A\",\"#19d3f3\",\"#FF6692\",\"#B6E880\",\"#FF97FF\",\"#FECB52\"],\"font\":{\"color\":\"#2a3f5f\"},\"hovermode\":\"closest\",\"hoverlabel\":{\"align\":\"left\"},\"paper_bgcolor\":\"white\",\"plot_bgcolor\":\"#E5ECF6\",\"polar\":{\"bgcolor\":\"#E5ECF6\",\"angularaxis\":{\"gridcolor\":\"white\",\"linecolor\":\"white\",\"ticks\":\"\"},\"radialaxis\":{\"gridcolor\":\"white\",\"linecolor\":\"white\",\"ticks\":\"\"}},\"ternary\":{\"bgcolor\":\"#E5ECF6\",\"aaxis\":{\"gridcolor\":\"white\",\"linecolor\":\"white\",\"ticks\":\"\"},\"baxis\":{\"gridcolor\":\"white\",\"linecolor\":\"white\",\"ticks\":\"\"},\"caxis\":{\"gridcolor\":\"white\",\"linecolor\":\"white\",\"ticks\":\"\"}},\"coloraxis\":{\"colorbar\":{\"outlinewidth\":0,\"ticks\":\"\"}},\"colorscale\":{\"sequential\":[[0.0,\"#0d0887\"],[0.1111111111111111,\"#46039f\"],[0.2222222222222222,\"#7201a8\"],[0.3333333333333333,\"#9c179e\"],[0.4444444444444444,\"#bd3786\"],[0.5555555555555556,\"#d8576b\"],[0.6666666666666666,\"#ed7953\"],[0.7777777777777778,\"#fb9f3a\"],[0.8888888888888888,\"#fdca26\"],[1.0,\"#f0f921\"]],\"sequentialminus\":[[0.0,\"#0d0887\"],[0.1111111111111111,\"#46039f\"],[0.2222222222222222,\"#7201a8\"],[0.3333333333333333,\"#9c179e\"],[0.4444444444444444,\"#bd3786\"],[0.5555555555555556,\"#d8576b\"],[0.6666666666666666,\"#ed7953\"],[0.7777777777777778,\"#fb9f3a\"],[0.8888888888888888,\"#fdca26\"],[1.0,\"#f0f921\"]],\"diverging\":[[0,\"#8e0152\"],[0.1,\"#c51b7d\"],[0.2,\"#de77ae\"],[0.3,\"#f1b6da\"],[0.4,\"#fde0ef\"],[0.5,\"#f7f7f7\"],[0.6,\"#e6f5d0\"],[0.7,\"#b8e186\"],[0.8,\"#7fbc41\"],[0.9,\"#4d9221\"],[1,\"#276419\"]]},\"xaxis\":{\"gridcolor\":\"white\",\"linecolor\":\"white\",\"ticks\":\"\",\"title\":{\"standoff\":15},\"zerolinecolor\":\"white\",\"automargin\":true,\"zerolinewidth\":2},\"yaxis\":{\"gridcolor\":\"white\",\"linecolor\":\"white\",\"ticks\":\"\",\"title\":{\"standoff\":15},\"zerolinecolor\":\"white\",\"automargin\":true,\"zerolinewidth\":2},\"scene\":{\"xaxis\":{\"backgroundcolor\":\"#E5ECF6\",\"gridcolor\":\"white\",\"linecolor\":\"white\",\"showbackground\":true,\"ticks\":\"\",\"zerolinecolor\":\"white\",\"gridwidth\":2},\"yaxis\":{\"backgroundcolor\":\"#E5ECF6\",\"gridcolor\":\"white\",\"linecolor\":\"white\",\"showbackground\":true,\"ticks\":\"\",\"zerolinecolor\":\"white\",\"gridwidth\":2},\"zaxis\":{\"backgroundcolor\":\"#E5ECF6\",\"gridcolor\":\"white\",\"linecolor\":\"white\",\"showbackground\":true,\"ticks\":\"\",\"zerolinecolor\":\"white\",\"gridwidth\":2}},\"shapedefaults\":{\"line\":{\"color\":\"#2a3f5f\"}},\"annotationdefaults\":{\"arrowcolor\":\"#2a3f5f\",\"arrowhead\":0,\"arrowwidth\":1},\"geo\":{\"bgcolor\":\"white\",\"landcolor\":\"#E5ECF6\",\"subunitcolor\":\"white\",\"showland\":true,\"showlakes\":true,\"lakecolor\":\"white\"},\"title\":{\"x\":0.05},\"mapbox\":{\"style\":\"light\"}}}},                        {\"responsive\": true}                    ).then(function(){\n",
       "                            \n",
       "var gd = document.getElementById('8cc57295-6587-4d03-a065-6ccd34ed4382');\n",
       "var x = new MutationObserver(function (mutations, observer) {{\n",
       "        var display = window.getComputedStyle(gd).display;\n",
       "        if (!display || display === 'none') {{\n",
       "            console.log([gd, 'removed!']);\n",
       "            Plotly.purge(gd);\n",
       "            observer.disconnect();\n",
       "        }}\n",
       "}});\n",
       "\n",
       "// Listen for the removal of the full notebook cells\n",
       "var notebookContainer = gd.closest('#notebook-container');\n",
       "if (notebookContainer) {{\n",
       "    x.observe(notebookContainer, {childList: true});\n",
       "}}\n",
       "\n",
       "// Listen for the clearing of the current output cell\n",
       "var outputEl = gd.closest('.output');\n",
       "if (outputEl) {{\n",
       "    x.observe(outputEl, {childList: true});\n",
       "}}\n",
       "\n",
       "                        })                };                });            </script>        </div>"
      ]
     },
     "metadata": {},
     "output_type": "display_data"
    }
   ],
   "source": [
    "# Plot the figure\n",
    "counts, bins = np.histogram(df_interest['ScoreChange'], bins=40)\n",
    "bin_midpoints = bins[:-1] + np.diff(bins)/2\n",
    "\n",
    "fig = go.Figure()\n",
    "\n",
    "fig.add_trace(go.Bar(\n",
    "    x=bin_midpoints,\n",
    "    y=counts,\n",
    "    width=np.diff(bins), # makes bars have correct widths\n",
    "    name='Histogram'\n",
    "))\n",
    "# add text labels for counts\n",
    "for i in range(len(counts)):\n",
    "    fig.add_trace(go.Scatter(\n",
    "        x=[bin_midpoints[i]],\n",
    "        y=[counts[i]],\n",
    "        text=[str(counts[i])],\n",
    "        mode='text',\n",
    "    ))\n",
    "\n",
    "fig.show()"
   ]
  },
  {
   "cell_type": "code",
   "execution_count": 94,
   "id": "142ab62a-5334-4c9c-862d-ff999319191b",
   "metadata": {},
   "outputs": [
    {
     "data": {
      "text/html": [
       "<div>\n",
       "<style scoped>\n",
       "    .dataframe tbody tr th:only-of-type {\n",
       "        vertical-align: middle;\n",
       "    }\n",
       "\n",
       "    .dataframe tbody tr th {\n",
       "        vertical-align: top;\n",
       "    }\n",
       "\n",
       "    .dataframe thead th {\n",
       "        text-align: right;\n",
       "    }\n",
       "</style>\n",
       "<table border=\"1\" class=\"dataframe\">\n",
       "  <thead>\n",
       "    <tr style=\"text-align: right;\">\n",
       "      <th></th>\n",
       "      <th>chr</th>\n",
       "      <th>strand</th>\n",
       "      <th>core_prom_coordinates</th>\n",
       "      <th>Ensemble_Transcript_ID</th>\n",
       "      <th>RS_ID</th>\n",
       "      <th>variant_start</th>\n",
       "      <th>variant_end</th>\n",
       "      <th>ref_neucleotide</th>\n",
       "      <th>alternative_neucleotide</th>\n",
       "      <th>reference_seq</th>\n",
       "      <th>alt_seq</th>\n",
       "      <th>Ref_probab</th>\n",
       "      <th>Alt_probab</th>\n",
       "      <th>ScoreChange</th>\n",
       "      <th>LogOddRatio</th>\n",
       "    </tr>\n",
       "  </thead>\n",
       "  <tbody>\n",
       "    <tr>\n",
       "      <th>21000</th>\n",
       "      <td>chr11</td>\n",
       "      <td>-</td>\n",
       "      <td>57567628-57567717</td>\n",
       "      <td>ENST00000287156</td>\n",
       "      <td>rs1565162093</td>\n",
       "      <td>57567654</td>\n",
       "      <td>57567654</td>\n",
       "      <td>.</td>\n",
       "      <td>TCAGGACTCTAGTAATACAGGCATCAAATTATGGGATGGGCTATGG...</td>\n",
       "      <td>GGCACCCGTGGCCTCCAGCAGGACCGAGCTCCGACCCGCGACACAG...</td>\n",
       "      <td>GGCACCCGTGGCCTCCAGCAGGACCGTCAGGACTCTAGTAATACAG...</td>\n",
       "      <td>0.989888</td>\n",
       "      <td>0.069167</td>\n",
       "      <td>-0.911410</td>\n",
       "      <td>10.363422</td>\n",
       "    </tr>\n",
       "    <tr>\n",
       "      <th>50829</th>\n",
       "      <td>chr11</td>\n",
       "      <td>-</td>\n",
       "      <td>62573847-62573936</td>\n",
       "      <td>ENST00000329251</td>\n",
       "      <td>rs1422615634</td>\n",
       "      <td>62573849</td>\n",
       "      <td>62573850</td>\n",
       "      <td>C</td>\n",
       "      <td>A</td>\n",
       "      <td>TTCCGCAAAGAAAGGGGGTGGGGTTCTCGGCGCTGCCGCAAAGTAA...</td>\n",
       "      <td>TTACGCAAAGAAAGGGGGTGGGGTTCTCGGCGCTGCCGCAAAGTAA...</td>\n",
       "      <td>0.941586</td>\n",
       "      <td>0.117853</td>\n",
       "      <td>-0.775616</td>\n",
       "      <td>6.914747</td>\n",
       "    </tr>\n",
       "    <tr>\n",
       "      <th>65434</th>\n",
       "      <td>chr11</td>\n",
       "      <td>-</td>\n",
       "      <td>507198-507287</td>\n",
       "      <td>ENST00000354420</td>\n",
       "      <td>rs1850344640</td>\n",
       "      <td>507201</td>\n",
       "      <td>507202</td>\n",
       "      <td>G</td>\n",
       "      <td>A</td>\n",
       "      <td>CGTGTCGACAACCCCACCCGCCAGTCAGCGGCGCGGGCGTGTTCGA...</td>\n",
       "      <td>CGTATCGACAACCCCACCCGCCAGTCAGCGGCGCGGGCGTGTTCGA...</td>\n",
       "      <td>0.931574</td>\n",
       "      <td>0.095865</td>\n",
       "      <td>-0.778524</td>\n",
       "      <td>7.004498</td>\n",
       "    </tr>\n",
       "    <tr>\n",
       "      <th>68431</th>\n",
       "      <td>chr11</td>\n",
       "      <td>-</td>\n",
       "      <td>27700411-27700500</td>\n",
       "      <td>ENST00000356660</td>\n",
       "      <td>rs1211895694</td>\n",
       "      <td>27700419</td>\n",
       "      <td>27700434</td>\n",
       "      <td>CGGCGGCAGCGTCGG</td>\n",
       "      <td>CGG</td>\n",
       "      <td>GGGCGCGGCGGCGGCAGCGTCGGGGACCCGGAGCTCCAGGCTGCGC...</td>\n",
       "      <td>GGGCGCGGCGGGGACCCGGAGCTCCAGGCTGCGCCTTGCGCCCGGG...</td>\n",
       "      <td>0.994169</td>\n",
       "      <td>0.164247</td>\n",
       "      <td>-0.825083</td>\n",
       "      <td>9.760899</td>\n",
       "    </tr>\n",
       "    <tr>\n",
       "      <th>99403</th>\n",
       "      <td>chr11</td>\n",
       "      <td>-</td>\n",
       "      <td>47176815-47176904</td>\n",
       "      <td>ENST00000395449</td>\n",
       "      <td>rs1409113356</td>\n",
       "      <td>47176820</td>\n",
       "      <td>47176821</td>\n",
       "      <td>C</td>\n",
       "      <td>A</td>\n",
       "      <td>AGAGTCTGGATTTCGGTCTTGTTCGGCTCCGCCGCCATTTTCTCTC...</td>\n",
       "      <td>AGAGTATGGATTTCGGTCTTGTTCGGCTCCGCCGCCATTTTCTCTC...</td>\n",
       "      <td>0.948752</td>\n",
       "      <td>0.140238</td>\n",
       "      <td>-0.767080</td>\n",
       "      <td>6.826528</td>\n",
       "    </tr>\n",
       "    <tr>\n",
       "      <th>...</th>\n",
       "      <td>...</td>\n",
       "      <td>...</td>\n",
       "      <td>...</td>\n",
       "      <td>...</td>\n",
       "      <td>...</td>\n",
       "      <td>...</td>\n",
       "      <td>...</td>\n",
       "      <td>...</td>\n",
       "      <td>...</td>\n",
       "      <td>...</td>\n",
       "      <td>...</td>\n",
       "      <td>...</td>\n",
       "      <td>...</td>\n",
       "      <td>...</td>\n",
       "      <td>...</td>\n",
       "    </tr>\n",
       "    <tr>\n",
       "      <th>9450261</th>\n",
       "      <td>chr2</td>\n",
       "      <td>-</td>\n",
       "      <td>60352972-60353061</td>\n",
       "      <td>ENST00000457668</td>\n",
       "      <td>rs867931062</td>\n",
       "      <td>60352973</td>\n",
       "      <td>60352974</td>\n",
       "      <td>G</td>\n",
       "      <td>C</td>\n",
       "      <td>AGGACCCGTAAGTCCTGCCTTGCATCCTCCCTCCCATCATTACAGC...</td>\n",
       "      <td>ACGACCCGTAAGTCCTGCCTTGCATCCTCCCTCCCATCATTACAGC...</td>\n",
       "      <td>0.918790</td>\n",
       "      <td>0.102022</td>\n",
       "      <td>-0.750439</td>\n",
       "      <td>6.637813</td>\n",
       "    </tr>\n",
       "    <tr>\n",
       "      <th>9471829</th>\n",
       "      <td>chr2</td>\n",
       "      <td>-</td>\n",
       "      <td>178451129-178451218</td>\n",
       "      <td>ENST00000463882</td>\n",
       "      <td>rs1405109950</td>\n",
       "      <td>178451189</td>\n",
       "      <td>178451189</td>\n",
       "      <td>.</td>\n",
       "      <td>TTTTAATTGTGATATATACTAGTATCTA</td>\n",
       "      <td>CCTCCTCCGACTCCCCCGCCTCCTGCTTGCGTTGCTCCAGCGAGGG...</td>\n",
       "      <td>CCTCCTCCGACTCCCCCGCCTCCTGCTTGCGTTGCTCCAGCGAGGG...</td>\n",
       "      <td>0.991314</td>\n",
       "      <td>0.071866</td>\n",
       "      <td>-0.911460</td>\n",
       "      <td>10.525371</td>\n",
       "    </tr>\n",
       "    <tr>\n",
       "      <th>9517643</th>\n",
       "      <td>chr2</td>\n",
       "      <td>+</td>\n",
       "      <td>27772145-27772234</td>\n",
       "      <td>ENST00000476552</td>\n",
       "      <td>rs1227351291</td>\n",
       "      <td>27772148</td>\n",
       "      <td>27772149</td>\n",
       "      <td>A</td>\n",
       "      <td>T</td>\n",
       "      <td>GGAAACCGCTCCCGAGAGGGGCAATGAATTGCCTGAGTAATGCGGC...</td>\n",
       "      <td>GGATACCGCTCCCGAGAGGGGCAATGAATTGCCTGAGTAATGCGGC...</td>\n",
       "      <td>0.889862</td>\n",
       "      <td>0.034007</td>\n",
       "      <td>-0.761592</td>\n",
       "      <td>7.842378</td>\n",
       "    </tr>\n",
       "    <tr>\n",
       "      <th>9568885</th>\n",
       "      <td>chr2</td>\n",
       "      <td>+</td>\n",
       "      <td>181498236-181498325</td>\n",
       "      <td>ENST00000490435</td>\n",
       "      <td>rs1226344014</td>\n",
       "      <td>181498245</td>\n",
       "      <td>181498246</td>\n",
       "      <td>A</td>\n",
       "      <td>G</td>\n",
       "      <td>CATTTGAGCAAAGTGCTGTGTCTATACTTCCTTAGTCAATGTTCTG...</td>\n",
       "      <td>CATTTGAGCGAAGTGCTGTGTCTATACTTCCTTAGTCAATGTTCTG...</td>\n",
       "      <td>0.930271</td>\n",
       "      <td>0.086288</td>\n",
       "      <td>-0.785133</td>\n",
       "      <td>7.142329</td>\n",
       "    </tr>\n",
       "    <tr>\n",
       "      <th>9608823</th>\n",
       "      <td>chr2</td>\n",
       "      <td>+</td>\n",
       "      <td>71064299-71064388</td>\n",
       "      <td>ENST00000531799</td>\n",
       "      <td>rs1671744783</td>\n",
       "      <td>71064346</td>\n",
       "      <td>71064347</td>\n",
       "      <td>G</td>\n",
       "      <td>C</td>\n",
       "      <td>GGTCCCTCTTTTCTTTCAGTTCCCTTACATGGCTGAAGAGACTTGA...</td>\n",
       "      <td>GGTCCCTCTTTTCTTTCAGTTCCCTTACATGGCTGAAGAGACTTGA...</td>\n",
       "      <td>0.950954</td>\n",
       "      <td>0.078757</td>\n",
       "      <td>-0.829420</td>\n",
       "      <td>7.825279</td>\n",
       "    </tr>\n",
       "  </tbody>\n",
       "</table>\n",
       "<p>292 rows × 15 columns</p>\n",
       "</div>"
      ],
      "text/plain": [
       "           chr strand core_prom_coordinates Ensemble_Transcript_ID  \\\n",
       "21000    chr11      -     57567628-57567717        ENST00000287156   \n",
       "50829    chr11      -     62573847-62573936        ENST00000329251   \n",
       "65434    chr11      -         507198-507287        ENST00000354420   \n",
       "68431    chr11      -     27700411-27700500        ENST00000356660   \n",
       "99403    chr11      -     47176815-47176904        ENST00000395449   \n",
       "...        ...    ...                   ...                    ...   \n",
       "9450261   chr2      -     60352972-60353061        ENST00000457668   \n",
       "9471829   chr2      -   178451129-178451218        ENST00000463882   \n",
       "9517643   chr2      +     27772145-27772234        ENST00000476552   \n",
       "9568885   chr2      +   181498236-181498325        ENST00000490435   \n",
       "9608823   chr2      +     71064299-71064388        ENST00000531799   \n",
       "\n",
       "                RS_ID  variant_start  variant_end  ref_neucleotide  \\\n",
       "21000    rs1565162093       57567654     57567654                .   \n",
       "50829    rs1422615634       62573849     62573850                C   \n",
       "65434    rs1850344640         507201       507202                G   \n",
       "68431    rs1211895694       27700419     27700434  CGGCGGCAGCGTCGG   \n",
       "99403    rs1409113356       47176820     47176821                C   \n",
       "...               ...            ...          ...              ...   \n",
       "9450261   rs867931062       60352973     60352974                G   \n",
       "9471829  rs1405109950      178451189    178451189                .   \n",
       "9517643  rs1227351291       27772148     27772149                A   \n",
       "9568885  rs1226344014      181498245    181498246                A   \n",
       "9608823  rs1671744783       71064346     71064347                G   \n",
       "\n",
       "                                   alternative_neucleotide  \\\n",
       "21000    TCAGGACTCTAGTAATACAGGCATCAAATTATGGGATGGGCTATGG...   \n",
       "50829                                                    A   \n",
       "65434                                                    A   \n",
       "68431                                                  CGG   \n",
       "99403                                                    A   \n",
       "...                                                    ...   \n",
       "9450261                                                  C   \n",
       "9471829                       TTTTAATTGTGATATATACTAGTATCTA   \n",
       "9517643                                                  T   \n",
       "9568885                                                  G   \n",
       "9608823                                                  C   \n",
       "\n",
       "                                             reference_seq  \\\n",
       "21000    GGCACCCGTGGCCTCCAGCAGGACCGAGCTCCGACCCGCGACACAG...   \n",
       "50829    TTCCGCAAAGAAAGGGGGTGGGGTTCTCGGCGCTGCCGCAAAGTAA...   \n",
       "65434    CGTGTCGACAACCCCACCCGCCAGTCAGCGGCGCGGGCGTGTTCGA...   \n",
       "68431    GGGCGCGGCGGCGGCAGCGTCGGGGACCCGGAGCTCCAGGCTGCGC...   \n",
       "99403    AGAGTCTGGATTTCGGTCTTGTTCGGCTCCGCCGCCATTTTCTCTC...   \n",
       "...                                                    ...   \n",
       "9450261  AGGACCCGTAAGTCCTGCCTTGCATCCTCCCTCCCATCATTACAGC...   \n",
       "9471829  CCTCCTCCGACTCCCCCGCCTCCTGCTTGCGTTGCTCCAGCGAGGG...   \n",
       "9517643  GGAAACCGCTCCCGAGAGGGGCAATGAATTGCCTGAGTAATGCGGC...   \n",
       "9568885  CATTTGAGCAAAGTGCTGTGTCTATACTTCCTTAGTCAATGTTCTG...   \n",
       "9608823  GGTCCCTCTTTTCTTTCAGTTCCCTTACATGGCTGAAGAGACTTGA...   \n",
       "\n",
       "                                                   alt_seq  Ref_probab  \\\n",
       "21000    GGCACCCGTGGCCTCCAGCAGGACCGTCAGGACTCTAGTAATACAG...    0.989888   \n",
       "50829    TTACGCAAAGAAAGGGGGTGGGGTTCTCGGCGCTGCCGCAAAGTAA...    0.941586   \n",
       "65434    CGTATCGACAACCCCACCCGCCAGTCAGCGGCGCGGGCGTGTTCGA...    0.931574   \n",
       "68431    GGGCGCGGCGGGGACCCGGAGCTCCAGGCTGCGCCTTGCGCCCGGG...    0.994169   \n",
       "99403    AGAGTATGGATTTCGGTCTTGTTCGGCTCCGCCGCCATTTTCTCTC...    0.948752   \n",
       "...                                                    ...         ...   \n",
       "9450261  ACGACCCGTAAGTCCTGCCTTGCATCCTCCCTCCCATCATTACAGC...    0.918790   \n",
       "9471829  CCTCCTCCGACTCCCCCGCCTCCTGCTTGCGTTGCTCCAGCGAGGG...    0.991314   \n",
       "9517643  GGATACCGCTCCCGAGAGGGGCAATGAATTGCCTGAGTAATGCGGC...    0.889862   \n",
       "9568885  CATTTGAGCGAAGTGCTGTGTCTATACTTCCTTAGTCAATGTTCTG...    0.930271   \n",
       "9608823  GGTCCCTCTTTTCTTTCAGTTCCCTTACATGGCTGAAGAGACTTGA...    0.950954   \n",
       "\n",
       "         Alt_probab  ScoreChange  LogOddRatio  \n",
       "21000      0.069167    -0.911410    10.363422  \n",
       "50829      0.117853    -0.775616     6.914747  \n",
       "65434      0.095865    -0.778524     7.004498  \n",
       "68431      0.164247    -0.825083     9.760899  \n",
       "99403      0.140238    -0.767080     6.826528  \n",
       "...             ...          ...          ...  \n",
       "9450261    0.102022    -0.750439     6.637813  \n",
       "9471829    0.071866    -0.911460    10.525371  \n",
       "9517643    0.034007    -0.761592     7.842378  \n",
       "9568885    0.086288    -0.785133     7.142329  \n",
       "9608823    0.078757    -0.829420     7.825279  \n",
       "\n",
       "[292 rows x 15 columns]"
      ]
     },
     "execution_count": 94,
     "metadata": {},
     "output_type": "execute_result"
    }
   ],
   "source": [
    "df_interest = df_interest[(df_interest['ScoreChange']>0.75)|(df_interest['ScoreChange']<-0.75)]\n",
    "df_interest"
   ]
  },
  {
   "cell_type": "code",
   "execution_count": 95,
   "id": "f39df713-cd6c-449d-9ab5-eaf737339e63",
   "metadata": {},
   "outputs": [
    {
     "data": {
      "text/html": [
       "<div>\n",
       "<style scoped>\n",
       "    .dataframe tbody tr th:only-of-type {\n",
       "        vertical-align: middle;\n",
       "    }\n",
       "\n",
       "    .dataframe tbody tr th {\n",
       "        vertical-align: top;\n",
       "    }\n",
       "\n",
       "    .dataframe thead th {\n",
       "        text-align: right;\n",
       "    }\n",
       "</style>\n",
       "<table border=\"1\" class=\"dataframe\">\n",
       "  <thead>\n",
       "    <tr style=\"text-align: right;\">\n",
       "      <th></th>\n",
       "      <th>chr</th>\n",
       "      <th>core_prom_coordinates</th>\n",
       "    </tr>\n",
       "  </thead>\n",
       "  <tbody>\n",
       "    <tr>\n",
       "      <th>21000</th>\n",
       "      <td>chr11</td>\n",
       "      <td>57567628-57567717</td>\n",
       "    </tr>\n",
       "    <tr>\n",
       "      <th>50829</th>\n",
       "      <td>chr11</td>\n",
       "      <td>62573847-62573936</td>\n",
       "    </tr>\n",
       "    <tr>\n",
       "      <th>65434</th>\n",
       "      <td>chr11</td>\n",
       "      <td>507198-507287</td>\n",
       "    </tr>\n",
       "    <tr>\n",
       "      <th>68431</th>\n",
       "      <td>chr11</td>\n",
       "      <td>27700411-27700500</td>\n",
       "    </tr>\n",
       "    <tr>\n",
       "      <th>99403</th>\n",
       "      <td>chr11</td>\n",
       "      <td>47176815-47176904</td>\n",
       "    </tr>\n",
       "    <tr>\n",
       "      <th>...</th>\n",
       "      <td>...</td>\n",
       "      <td>...</td>\n",
       "    </tr>\n",
       "    <tr>\n",
       "      <th>9450261</th>\n",
       "      <td>chr2</td>\n",
       "      <td>60352972-60353061</td>\n",
       "    </tr>\n",
       "    <tr>\n",
       "      <th>9471829</th>\n",
       "      <td>chr2</td>\n",
       "      <td>178451129-178451218</td>\n",
       "    </tr>\n",
       "    <tr>\n",
       "      <th>9517643</th>\n",
       "      <td>chr2</td>\n",
       "      <td>27772145-27772234</td>\n",
       "    </tr>\n",
       "    <tr>\n",
       "      <th>9568885</th>\n",
       "      <td>chr2</td>\n",
       "      <td>181498236-181498325</td>\n",
       "    </tr>\n",
       "    <tr>\n",
       "      <th>9608823</th>\n",
       "      <td>chr2</td>\n",
       "      <td>71064299-71064388</td>\n",
       "    </tr>\n",
       "  </tbody>\n",
       "</table>\n",
       "<p>227 rows × 2 columns</p>\n",
       "</div>"
      ],
      "text/plain": [
       "           chr core_prom_coordinates\n",
       "21000    chr11     57567628-57567717\n",
       "50829    chr11     62573847-62573936\n",
       "65434    chr11         507198-507287\n",
       "68431    chr11     27700411-27700500\n",
       "99403    chr11     47176815-47176904\n",
       "...        ...                   ...\n",
       "9450261   chr2     60352972-60353061\n",
       "9471829   chr2   178451129-178451218\n",
       "9517643   chr2     27772145-27772234\n",
       "9568885   chr2   181498236-181498325\n",
       "9608823   chr2     71064299-71064388\n",
       "\n",
       "[227 rows x 2 columns]"
      ]
     },
     "execution_count": 95,
     "metadata": {},
     "output_type": "execute_result"
    }
   ],
   "source": [
    "df_interest[['chr','core_prom_coordinates']].drop_duplicates()"
   ]
  },
  {
   "cell_type": "code",
   "execution_count": 96,
   "id": "093f7729-4425-4f0f-8733-0f0d7a090f36",
   "metadata": {},
   "outputs": [
    {
     "data": {
      "text/html": [
       "<div>\n",
       "<style scoped>\n",
       "    .dataframe tbody tr th:only-of-type {\n",
       "        vertical-align: middle;\n",
       "    }\n",
       "\n",
       "    .dataframe tbody tr th {\n",
       "        vertical-align: top;\n",
       "    }\n",
       "\n",
       "    .dataframe thead th {\n",
       "        text-align: right;\n",
       "    }\n",
       "</style>\n",
       "<table border=\"1\" class=\"dataframe\">\n",
       "  <thead>\n",
       "    <tr style=\"text-align: right;\">\n",
       "      <th></th>\n",
       "      <th>RS_ID</th>\n",
       "      <th>variant_start</th>\n",
       "      <th>variant_end</th>\n",
       "    </tr>\n",
       "  </thead>\n",
       "  <tbody>\n",
       "    <tr>\n",
       "      <th>21000</th>\n",
       "      <td>rs1565162093</td>\n",
       "      <td>57567654</td>\n",
       "      <td>57567654</td>\n",
       "    </tr>\n",
       "    <tr>\n",
       "      <th>50829</th>\n",
       "      <td>rs1422615634</td>\n",
       "      <td>62573849</td>\n",
       "      <td>62573850</td>\n",
       "    </tr>\n",
       "    <tr>\n",
       "      <th>65434</th>\n",
       "      <td>rs1850344640</td>\n",
       "      <td>507201</td>\n",
       "      <td>507202</td>\n",
       "    </tr>\n",
       "    <tr>\n",
       "      <th>68431</th>\n",
       "      <td>rs1211895694</td>\n",
       "      <td>27700419</td>\n",
       "      <td>27700434</td>\n",
       "    </tr>\n",
       "    <tr>\n",
       "      <th>99403</th>\n",
       "      <td>rs1409113356</td>\n",
       "      <td>47176820</td>\n",
       "      <td>47176821</td>\n",
       "    </tr>\n",
       "    <tr>\n",
       "      <th>...</th>\n",
       "      <td>...</td>\n",
       "      <td>...</td>\n",
       "      <td>...</td>\n",
       "    </tr>\n",
       "    <tr>\n",
       "      <th>9401870</th>\n",
       "      <td>rs1670392990</td>\n",
       "      <td>16666046</td>\n",
       "      <td>16666046</td>\n",
       "    </tr>\n",
       "    <tr>\n",
       "      <th>9450261</th>\n",
       "      <td>rs867931062</td>\n",
       "      <td>60352973</td>\n",
       "      <td>60352974</td>\n",
       "    </tr>\n",
       "    <tr>\n",
       "      <th>9517643</th>\n",
       "      <td>rs1227351291</td>\n",
       "      <td>27772148</td>\n",
       "      <td>27772149</td>\n",
       "    </tr>\n",
       "    <tr>\n",
       "      <th>9568885</th>\n",
       "      <td>rs1226344014</td>\n",
       "      <td>181498245</td>\n",
       "      <td>181498246</td>\n",
       "    </tr>\n",
       "    <tr>\n",
       "      <th>9608823</th>\n",
       "      <td>rs1671744783</td>\n",
       "      <td>71064346</td>\n",
       "      <td>71064347</td>\n",
       "    </tr>\n",
       "  </tbody>\n",
       "</table>\n",
       "<p>253 rows × 3 columns</p>\n",
       "</div>"
      ],
      "text/plain": [
       "                RS_ID  variant_start  variant_end\n",
       "21000    rs1565162093       57567654     57567654\n",
       "50829    rs1422615634       62573849     62573850\n",
       "65434    rs1850344640         507201       507202\n",
       "68431    rs1211895694       27700419     27700434\n",
       "99403    rs1409113356       47176820     47176821\n",
       "...               ...            ...          ...\n",
       "9401870  rs1670392990       16666046     16666046\n",
       "9450261   rs867931062       60352973     60352974\n",
       "9517643  rs1227351291       27772148     27772149\n",
       "9568885  rs1226344014      181498245    181498246\n",
       "9608823  rs1671744783       71064346     71064347\n",
       "\n",
       "[253 rows x 3 columns]"
      ]
     },
     "execution_count": 96,
     "metadata": {},
     "output_type": "execute_result"
    }
   ],
   "source": [
    "df_interest [['RS_ID', 'variant_start','variant_end']].drop_duplicates()"
   ]
  },
  {
   "cell_type": "code",
   "execution_count": 77,
   "id": "bceb589c-c238-4ff7-ac3f-2d4924d0013e",
   "metadata": {},
   "outputs": [],
   "source": [
    "# df_interest = df_interest[df_interest['variant_length']==1]\n",
    "# df_interest"
   ]
  },
  {
   "cell_type": "code",
   "execution_count": 97,
   "id": "c23b28a0-db15-486d-9bfc-2d270bb0a01b",
   "metadata": {},
   "outputs": [
    {
     "name": "stdout",
     "output_type": "stream",
     "text": [
      "7.778945873170595 1.0429150934388884\n"
     ]
    }
   ],
   "source": [
    "mean = df_interest['LogOddRatio'].mean()\n",
    "std = df_interest['LogOddRatio'].std()\n",
    "print(mean, std)"
   ]
  },
  {
   "cell_type": "code",
   "execution_count": 98,
   "id": "e3d80ca2-c6de-4fbf-837b-d16d8a6c97fa",
   "metadata": {},
   "outputs": [
    {
     "data": {
      "text/plain": [
       "12.356903247324883"
      ]
     },
     "execution_count": 98,
     "metadata": {},
     "output_type": "execute_result"
    }
   ],
   "source": [
    "max(df_interest['LogOddRatio'])"
   ]
  },
  {
   "cell_type": "code",
   "execution_count": 99,
   "id": "342a3012-00ea-4dcc-b436-d1a0ca9cc928",
   "metadata": {},
   "outputs": [
    {
     "data": {
      "text/plain": [
       "6.559965008901846"
      ]
     },
     "execution_count": 99,
     "metadata": {},
     "output_type": "execute_result"
    }
   ],
   "source": [
    "min(df_interest['LogOddRatio'])"
   ]
  },
  {
   "cell_type": "code",
   "execution_count": 100,
   "id": "ce700e5c-708b-4214-9cab-695a2f53a80b",
   "metadata": {},
   "outputs": [
    {
     "name": "stdout",
     "output_type": "stream",
     "text": [
      "6.736030779731706 8.821860966609483\n"
     ]
    },
    {
     "data": {
      "image/png": "[encoded data removed]",
      "text/plain": [
       "<Figure size 640x480 with 1 Axes>"
      ]
     },
     "metadata": {},
     "output_type": "display_data"
    }
   ],
   "source": [
    "#print(z_score, p_value)\n",
    "# Plot the distribution of 'LogOddRatio'\n",
    "\n",
    "sns.kdeplot(df_interest['LogOddRatio'], fill=True, linewidth=1)\n",
    "\n",
    "# # # Get the extreme values for a two tailed test at alpha = 0.05\n",
    "# z_critical = norm.ppf(1 - 0.05/2) # two-tailed test at alpha = 0.05\n",
    "\n",
    "\n",
    "# print(z_critical)\n",
    "x1, x2 = mean + 1*std, mean - 1*std\n",
    "# x1= 3.3219280948873626\n",
    "# x2 =-3.3219280948873626\n",
    "print(x2, x1)\n",
    "\n",
    "# Shade the area for the two tailed test\n",
    "plt.axvspan(min(df_interest['LogOddRatio']), x2, alpha=0.3, color='red')\n",
    "plt.axvspan(x1, max(df_interest['LogOddRatio']), alpha=0.3, color='red')\n",
    "\n",
    "# Add the observed z-score\n",
    "# plt.text(-17, 0.5, f'Left-tail value = {x2:.2f}', color='blue', ha='left', va='center')\n",
    "# plt.text(-3, 0.54, f'Right-tail value = {x1:.2f}', color='blue', ha='right', va='center')\n",
    "\n",
    "plt.title(f'Distribution of Relative Log Fold changes of Odds for Enhancer Model \\n Left-tail value = {x2:.2f};  Right-tail value = {x1:.2f}')\n",
    "plt.savefig(output_path+ '/Enhancer_LogOddRatio_Distribution.png')\n",
    "plt.show()"
   ]
  },
  {
   "cell_type": "code",
   "execution_count": 101,
   "id": "84f0d768-0f1c-4849-b351-7c833586c8d6",
   "metadata": {},
   "outputs": [],
   "source": [
    "df_selected = df_interest[(df_interest['LogOddRatio']> x1)|(df_interest['LogOddRatio']<  x2)]"
   ]
  },
  {
   "cell_type": "code",
   "execution_count": 102,
   "id": "04057128-4ea0-4ec6-a6ad-c4ec91076780",
   "metadata": {},
   "outputs": [
    {
     "data": {
      "text/html": [
       "<div>\n",
       "<style scoped>\n",
       "    .dataframe tbody tr th:only-of-type {\n",
       "        vertical-align: middle;\n",
       "    }\n",
       "\n",
       "    .dataframe tbody tr th {\n",
       "        vertical-align: top;\n",
       "    }\n",
       "\n",
       "    .dataframe thead th {\n",
       "        text-align: right;\n",
       "    }\n",
       "</style>\n",
       "<table border=\"1\" class=\"dataframe\">\n",
       "  <thead>\n",
       "    <tr style=\"text-align: right;\">\n",
       "      <th></th>\n",
       "      <th>chr</th>\n",
       "      <th>strand</th>\n",
       "      <th>core_prom_coordinates</th>\n",
       "      <th>Ensemble_Transcript_ID</th>\n",
       "      <th>RS_ID</th>\n",
       "      <th>variant_start</th>\n",
       "      <th>variant_end</th>\n",
       "      <th>ref_neucleotide</th>\n",
       "      <th>alternative_neucleotide</th>\n",
       "      <th>reference_seq</th>\n",
       "      <th>alt_seq</th>\n",
       "      <th>Ref_probab</th>\n",
       "      <th>Alt_probab</th>\n",
       "      <th>ScoreChange</th>\n",
       "      <th>LogOddRatio</th>\n",
       "    </tr>\n",
       "  </thead>\n",
       "  <tbody>\n",
       "    <tr>\n",
       "      <th>21000</th>\n",
       "      <td>chr11</td>\n",
       "      <td>-</td>\n",
       "      <td>57567628-57567717</td>\n",
       "      <td>ENST00000287156</td>\n",
       "      <td>rs1565162093</td>\n",
       "      <td>57567654</td>\n",
       "      <td>57567654</td>\n",
       "      <td>.</td>\n",
       "      <td>TCAGGACTCTAGTAATACAGGCATCAAATTATGGGATGGGCTATGG...</td>\n",
       "      <td>GGCACCCGTGGCCTCCAGCAGGACCGAGCTCCGACCCGCGACACAG...</td>\n",
       "      <td>GGCACCCGTGGCCTCCAGCAGGACCGTCAGGACTCTAGTAATACAG...</td>\n",
       "      <td>0.989888</td>\n",
       "      <td>0.069167</td>\n",
       "      <td>-0.911410</td>\n",
       "      <td>10.363422</td>\n",
       "    </tr>\n",
       "    <tr>\n",
       "      <th>68431</th>\n",
       "      <td>chr11</td>\n",
       "      <td>-</td>\n",
       "      <td>27700411-27700500</td>\n",
       "      <td>ENST00000356660</td>\n",
       "      <td>rs1211895694</td>\n",
       "      <td>27700419</td>\n",
       "      <td>27700434</td>\n",
       "      <td>CGGCGGCAGCGTCGG</td>\n",
       "      <td>CGG</td>\n",
       "      <td>GGGCGCGGCGGCGGCAGCGTCGGGGACCCGGAGCTCCAGGCTGCGC...</td>\n",
       "      <td>GGGCGCGGCGGGGACCCGGAGCTCCAGGCTGCGCCTTGCGCCCGGG...</td>\n",
       "      <td>0.994169</td>\n",
       "      <td>0.164247</td>\n",
       "      <td>-0.825083</td>\n",
       "      <td>9.760899</td>\n",
       "    </tr>\n",
       "    <tr>\n",
       "      <th>350013</th>\n",
       "      <td>chr11</td>\n",
       "      <td>+</td>\n",
       "      <td>68460703-68460792</td>\n",
       "      <td>ENST00000529344</td>\n",
       "      <td>rs1436688157</td>\n",
       "      <td>68460734</td>\n",
       "      <td>68460735</td>\n",
       "      <td>G</td>\n",
       "      <td>A</td>\n",
       "      <td>GGGCGGGCGGGGGGGAACTCAAGGCCTGCTTGATACGTCCGCCATT...</td>\n",
       "      <td>GGGCGGGCGGGGGGGAACTCAAGGCCTGCTTAATACGTCCGCCATT...</td>\n",
       "      <td>0.920035</td>\n",
       "      <td>0.102898</td>\n",
       "      <td>-0.751795</td>\n",
       "      <td>6.648308</td>\n",
       "    </tr>\n",
       "    <tr>\n",
       "      <th>513923</th>\n",
       "      <td>chr11</td>\n",
       "      <td>+</td>\n",
       "      <td>68460703-68460792</td>\n",
       "      <td>ENST00000534534</td>\n",
       "      <td>rs1436688157</td>\n",
       "      <td>68460734</td>\n",
       "      <td>68460735</td>\n",
       "      <td>G</td>\n",
       "      <td>A</td>\n",
       "      <td>GGGCGGGCGGGGGGGAACTCAAGGCCTGCTTGATACGTCCGCCATT...</td>\n",
       "      <td>GGGCGGGCGGGGGGGAACTCAAGGCCTGCTTAATACGTCCGCCATT...</td>\n",
       "      <td>0.920035</td>\n",
       "      <td>0.102898</td>\n",
       "      <td>-0.751795</td>\n",
       "      <td>6.648308</td>\n",
       "    </tr>\n",
       "    <tr>\n",
       "      <th>523021</th>\n",
       "      <td>chr11</td>\n",
       "      <td>+</td>\n",
       "      <td>22672532-22672621</td>\n",
       "      <td>ENST00000534801</td>\n",
       "      <td>rs1250060984</td>\n",
       "      <td>22672535</td>\n",
       "      <td>22672536</td>\n",
       "      <td>A</td>\n",
       "      <td>G</td>\n",
       "      <td>AGCAAAATAGGACTCTGATGCTTAAATGGAAGTCACAGAGCACATA...</td>\n",
       "      <td>AGCGAAATAGGACTCTGATGCTTAAATGGAAGTCACAGAGCACATA...</td>\n",
       "      <td>0.934816</td>\n",
       "      <td>0.128351</td>\n",
       "      <td>-0.753895</td>\n",
       "      <td>6.605729</td>\n",
       "    </tr>\n",
       "    <tr>\n",
       "      <th>...</th>\n",
       "      <td>...</td>\n",
       "      <td>...</td>\n",
       "      <td>...</td>\n",
       "      <td>...</td>\n",
       "      <td>...</td>\n",
       "      <td>...</td>\n",
       "      <td>...</td>\n",
       "      <td>...</td>\n",
       "      <td>...</td>\n",
       "      <td>...</td>\n",
       "      <td>...</td>\n",
       "      <td>...</td>\n",
       "      <td>...</td>\n",
       "      <td>...</td>\n",
       "      <td>...</td>\n",
       "    </tr>\n",
       "    <tr>\n",
       "      <th>9079388</th>\n",
       "      <td>chr12</td>\n",
       "      <td>+</td>\n",
       "      <td>22786998-22787087</td>\n",
       "      <td>ENST00000590328</td>\n",
       "      <td>rs1954852432</td>\n",
       "      <td>22787032</td>\n",
       "      <td>22787075</td>\n",
       "      <td>TTACATTCATGGGTTTTACAATCTAGCAAAAAATGTACATAAT</td>\n",
       "      <td>NaN</td>\n",
       "      <td>AATGAATAAGGCTAAATCAGGAAATAAGAGATCCTTACATTCATGG...</td>\n",
       "      <td>AATGAATAAGGCTAAATCAGGAAATAAGAGATCCCTGTTATGCTGT...</td>\n",
       "      <td>0.968044</td>\n",
       "      <td>0.023284</td>\n",
       "      <td>-0.914569</td>\n",
       "      <td>10.311448</td>\n",
       "    </tr>\n",
       "    <tr>\n",
       "      <th>9160308</th>\n",
       "      <td>chr2</td>\n",
       "      <td>-</td>\n",
       "      <td>178451131-178451220</td>\n",
       "      <td>ENST00000325748</td>\n",
       "      <td>rs1405109950</td>\n",
       "      <td>178451189</td>\n",
       "      <td>178451189</td>\n",
       "      <td>.</td>\n",
       "      <td>TTTTAATTGTGATATATACTAGTATCTA</td>\n",
       "      <td>TCCTCCGACTCCCCCGCCTCCTGCTTGCGTTGCTCCAGCGAGGGGG...</td>\n",
       "      <td>TCCTCCGACTCCCCCGCCTCCTGCTTGCGTTGCTCCAGCGAGGGGG...</td>\n",
       "      <td>0.990130</td>\n",
       "      <td>0.055307</td>\n",
       "      <td>-0.925597</td>\n",
       "      <td>10.742761</td>\n",
       "    </tr>\n",
       "    <tr>\n",
       "      <th>9167359</th>\n",
       "      <td>chr2</td>\n",
       "      <td>+</td>\n",
       "      <td>27890747-27890836</td>\n",
       "      <td>ENST00000342045</td>\n",
       "      <td>rs1026371175</td>\n",
       "      <td>27890805</td>\n",
       "      <td>27890806</td>\n",
       "      <td>C</td>\n",
       "      <td>T</td>\n",
       "      <td>CCGCGGCGCGCGCGCAGGTCGGTGCGTCTGTCGGGGGCGCGCTCGG...</td>\n",
       "      <td>CCGCGGCGCGCGCGCAGGTCGGTGCGTCTGTCGGGGGCGCGCTCGG...</td>\n",
       "      <td>0.948759</td>\n",
       "      <td>0.150533</td>\n",
       "      <td>-0.757324</td>\n",
       "      <td>6.707145</td>\n",
       "    </tr>\n",
       "    <tr>\n",
       "      <th>9450261</th>\n",
       "      <td>chr2</td>\n",
       "      <td>-</td>\n",
       "      <td>60352972-60353061</td>\n",
       "      <td>ENST00000457668</td>\n",
       "      <td>rs867931062</td>\n",
       "      <td>60352973</td>\n",
       "      <td>60352974</td>\n",
       "      <td>G</td>\n",
       "      <td>C</td>\n",
       "      <td>AGGACCCGTAAGTCCTGCCTTGCATCCTCCCTCCCATCATTACAGC...</td>\n",
       "      <td>ACGACCCGTAAGTCCTGCCTTGCATCCTCCCTCCCATCATTACAGC...</td>\n",
       "      <td>0.918790</td>\n",
       "      <td>0.102022</td>\n",
       "      <td>-0.750439</td>\n",
       "      <td>6.637813</td>\n",
       "    </tr>\n",
       "    <tr>\n",
       "      <th>9471829</th>\n",
       "      <td>chr2</td>\n",
       "      <td>-</td>\n",
       "      <td>178451129-178451218</td>\n",
       "      <td>ENST00000463882</td>\n",
       "      <td>rs1405109950</td>\n",
       "      <td>178451189</td>\n",
       "      <td>178451189</td>\n",
       "      <td>.</td>\n",
       "      <td>TTTTAATTGTGATATATACTAGTATCTA</td>\n",
       "      <td>CCTCCTCCGACTCCCCCGCCTCCTGCTTGCGTTGCTCCAGCGAGGG...</td>\n",
       "      <td>CCTCCTCCGACTCCCCCGCCTCCTGCTTGCGTTGCTCCAGCGAGGG...</td>\n",
       "      <td>0.991314</td>\n",
       "      <td>0.071866</td>\n",
       "      <td>-0.911460</td>\n",
       "      <td>10.525371</td>\n",
       "    </tr>\n",
       "  </tbody>\n",
       "</table>\n",
       "<p>64 rows × 15 columns</p>\n",
       "</div>"
      ],
      "text/plain": [
       "           chr strand core_prom_coordinates Ensemble_Transcript_ID  \\\n",
       "21000    chr11      -     57567628-57567717        ENST00000287156   \n",
       "68431    chr11      -     27700411-27700500        ENST00000356660   \n",
       "350013   chr11      +     68460703-68460792        ENST00000529344   \n",
       "513923   chr11      +     68460703-68460792        ENST00000534534   \n",
       "523021   chr11      +     22672532-22672621        ENST00000534801   \n",
       "...        ...    ...                   ...                    ...   \n",
       "9079388  chr12      +     22786998-22787087        ENST00000590328   \n",
       "9160308   chr2      -   178451131-178451220        ENST00000325748   \n",
       "9167359   chr2      +     27890747-27890836        ENST00000342045   \n",
       "9450261   chr2      -     60352972-60353061        ENST00000457668   \n",
       "9471829   chr2      -   178451129-178451218        ENST00000463882   \n",
       "\n",
       "                RS_ID  variant_start  variant_end  \\\n",
       "21000    rs1565162093       57567654     57567654   \n",
       "68431    rs1211895694       27700419     27700434   \n",
       "350013   rs1436688157       68460734     68460735   \n",
       "513923   rs1436688157       68460734     68460735   \n",
       "523021   rs1250060984       22672535     22672536   \n",
       "...               ...            ...          ...   \n",
       "9079388  rs1954852432       22787032     22787075   \n",
       "9160308  rs1405109950      178451189    178451189   \n",
       "9167359  rs1026371175       27890805     27890806   \n",
       "9450261   rs867931062       60352973     60352974   \n",
       "9471829  rs1405109950      178451189    178451189   \n",
       "\n",
       "                                     ref_neucleotide  \\\n",
       "21000                                              .   \n",
       "68431                                CGGCGGCAGCGTCGG   \n",
       "350013                                             G   \n",
       "513923                                             G   \n",
       "523021                                             A   \n",
       "...                                              ...   \n",
       "9079388  TTACATTCATGGGTTTTACAATCTAGCAAAAAATGTACATAAT   \n",
       "9160308                                            .   \n",
       "9167359                                            C   \n",
       "9450261                                            G   \n",
       "9471829                                            .   \n",
       "\n",
       "                                   alternative_neucleotide  \\\n",
       "21000    TCAGGACTCTAGTAATACAGGCATCAAATTATGGGATGGGCTATGG...   \n",
       "68431                                                  CGG   \n",
       "350013                                                   A   \n",
       "513923                                                   A   \n",
       "523021                                                   G   \n",
       "...                                                    ...   \n",
       "9079388                                                NaN   \n",
       "9160308                       TTTTAATTGTGATATATACTAGTATCTA   \n",
       "9167359                                                  T   \n",
       "9450261                                                  C   \n",
       "9471829                       TTTTAATTGTGATATATACTAGTATCTA   \n",
       "\n",
       "                                             reference_seq  \\\n",
       "21000    GGCACCCGTGGCCTCCAGCAGGACCGAGCTCCGACCCGCGACACAG...   \n",
       "68431    GGGCGCGGCGGCGGCAGCGTCGGGGACCCGGAGCTCCAGGCTGCGC...   \n",
       "350013   GGGCGGGCGGGGGGGAACTCAAGGCCTGCTTGATACGTCCGCCATT...   \n",
       "513923   GGGCGGGCGGGGGGGAACTCAAGGCCTGCTTGATACGTCCGCCATT...   \n",
       "523021   AGCAAAATAGGACTCTGATGCTTAAATGGAAGTCACAGAGCACATA...   \n",
       "...                                                    ...   \n",
       "9079388  AATGAATAAGGCTAAATCAGGAAATAAGAGATCCTTACATTCATGG...   \n",
       "9160308  TCCTCCGACTCCCCCGCCTCCTGCTTGCGTTGCTCCAGCGAGGGGG...   \n",
       "9167359  CCGCGGCGCGCGCGCAGGTCGGTGCGTCTGTCGGGGGCGCGCTCGG...   \n",
       "9450261  AGGACCCGTAAGTCCTGCCTTGCATCCTCCCTCCCATCATTACAGC...   \n",
       "9471829  CCTCCTCCGACTCCCCCGCCTCCTGCTTGCGTTGCTCCAGCGAGGG...   \n",
       "\n",
       "                                                   alt_seq  Ref_probab  \\\n",
       "21000    GGCACCCGTGGCCTCCAGCAGGACCGTCAGGACTCTAGTAATACAG...    0.989888   \n",
       "68431    GGGCGCGGCGGGGACCCGGAGCTCCAGGCTGCGCCTTGCGCCCGGG...    0.994169   \n",
       "350013   GGGCGGGCGGGGGGGAACTCAAGGCCTGCTTAATACGTCCGCCATT...    0.920035   \n",
       "513923   GGGCGGGCGGGGGGGAACTCAAGGCCTGCTTAATACGTCCGCCATT...    0.920035   \n",
       "523021   AGCGAAATAGGACTCTGATGCTTAAATGGAAGTCACAGAGCACATA...    0.934816   \n",
       "...                                                    ...         ...   \n",
       "9079388  AATGAATAAGGCTAAATCAGGAAATAAGAGATCCCTGTTATGCTGT...    0.968044   \n",
       "9160308  TCCTCCGACTCCCCCGCCTCCTGCTTGCGTTGCTCCAGCGAGGGGG...    0.990130   \n",
       "9167359  CCGCGGCGCGCGCGCAGGTCGGTGCGTCTGTCGGGGGCGCGCTCGG...    0.948759   \n",
       "9450261  ACGACCCGTAAGTCCTGCCTTGCATCCTCCCTCCCATCATTACAGC...    0.918790   \n",
       "9471829  CCTCCTCCGACTCCCCCGCCTCCTGCTTGCGTTGCTCCAGCGAGGG...    0.991314   \n",
       "\n",
       "         Alt_probab  ScoreChange  LogOddRatio  \n",
       "21000      0.069167    -0.911410    10.363422  \n",
       "68431      0.164247    -0.825083     9.760899  \n",
       "350013     0.102898    -0.751795     6.648308  \n",
       "513923     0.102898    -0.751795     6.648308  \n",
       "523021     0.128351    -0.753895     6.605729  \n",
       "...             ...          ...          ...  \n",
       "9079388    0.023284    -0.914569    10.311448  \n",
       "9160308    0.055307    -0.925597    10.742761  \n",
       "9167359    0.150533    -0.757324     6.707145  \n",
       "9450261    0.102022    -0.750439     6.637813  \n",
       "9471829    0.071866    -0.911460    10.525371  \n",
       "\n",
       "[64 rows x 15 columns]"
      ]
     },
     "execution_count": 102,
     "metadata": {},
     "output_type": "execute_result"
    }
   ],
   "source": [
    "df_selected"
   ]
  },
  {
   "cell_type": "code",
   "execution_count": 104,
   "id": "e347cd8c-47b1-4ab0-a219-fadfcf5c4388",
   "metadata": {},
   "outputs": [
    {
     "data": {
      "text/plain": [
       "54"
      ]
     },
     "execution_count": 104,
     "metadata": {},
     "output_type": "execute_result"
    }
   ],
   "source": [
    "len(df_selected[['chr','core_prom_coordinates']].drop_duplicates())"
   ]
  },
  {
   "cell_type": "code",
   "execution_count": 106,
   "id": "f5638ad2-5638-4276-aa2e-8a104bdf1792",
   "metadata": {},
   "outputs": [
    {
     "data": {
      "text/plain": [
       "55"
      ]
     },
     "execution_count": 106,
     "metadata": {},
     "output_type": "execute_result"
    }
   ],
   "source": [
    "len(df_selected[['RS_ID', 'variant_start','variant_end']].drop_duplicates())"
   ]
  },
  {
   "cell_type": "code",
   "execution_count": 107,
   "id": "d53f2301-c5ee-4608-94dc-cff02ebc6e61",
   "metadata": {},
   "outputs": [],
   "source": [
    "df_selected.to_csv(output_path+\"/Core_prom_candidate_variants.tsv\", sep= \"\\t\", index=False)\n",
    "df_selected[['RS_ID', 'variant_start','variant_end']].drop_duplicates().reset_index(drop=True).to_csv(output_path+\"/Unique_DBSNP_variants_ID.tsv\" ,  sep= \"\\t\", index=False)\n",
    "df_selected[['chr','core_prom_coordinates']].drop_duplicates().reset_index(drop=True).to_csv(output_path + \"/Unique_Core_proms_variants.tsv\", sep=\"\\t\", index=False)"
   ]
  },
  {
   "cell_type": "code",
   "execution_count": 110,
   "id": "cc4e33a4-68c7-445f-b62e-bd43dfaae5e8",
   "metadata": {},
   "outputs": [],
   "source": [
    "df_SNV = df_selected[(df_selected['ref_neucleotide'].str.len() < 5) & \n",
    "                          (df_selected['alternative_neucleotide'].str.len() < 5)]"
   ]
  },
  {
   "cell_type": "code",
   "execution_count": 111,
   "id": "aa9a2fec-0652-4222-b6b3-09b209494b0d",
   "metadata": {},
   "outputs": [
    {
     "data": {
      "text/html": [
       "<div>\n",
       "<style scoped>\n",
       "    .dataframe tbody tr th:only-of-type {\n",
       "        vertical-align: middle;\n",
       "    }\n",
       "\n",
       "    .dataframe tbody tr th {\n",
       "        vertical-align: top;\n",
       "    }\n",
       "\n",
       "    .dataframe thead th {\n",
       "        text-align: right;\n",
       "    }\n",
       "</style>\n",
       "<table border=\"1\" class=\"dataframe\">\n",
       "  <thead>\n",
       "    <tr style=\"text-align: right;\">\n",
       "      <th></th>\n",
       "      <th>chr</th>\n",
       "      <th>strand</th>\n",
       "      <th>core_prom_coordinates</th>\n",
       "      <th>Ensemble_Transcript_ID</th>\n",
       "      <th>RS_ID</th>\n",
       "      <th>variant_start</th>\n",
       "      <th>variant_end</th>\n",
       "      <th>ref_neucleotide</th>\n",
       "      <th>alternative_neucleotide</th>\n",
       "      <th>reference_seq</th>\n",
       "      <th>alt_seq</th>\n",
       "      <th>Ref_probab</th>\n",
       "      <th>Alt_probab</th>\n",
       "      <th>ScoreChange</th>\n",
       "      <th>LogOddRatio</th>\n",
       "    </tr>\n",
       "  </thead>\n",
       "  <tbody>\n",
       "    <tr>\n",
       "      <th>350013</th>\n",
       "      <td>chr11</td>\n",
       "      <td>+</td>\n",
       "      <td>68460703-68460792</td>\n",
       "      <td>ENST00000529344</td>\n",
       "      <td>rs1436688157</td>\n",
       "      <td>68460734</td>\n",
       "      <td>68460735</td>\n",
       "      <td>G</td>\n",
       "      <td>A</td>\n",
       "      <td>GGGCGGGCGGGGGGGAACTCAAGGCCTGCTTGATACGTCCGCCATT...</td>\n",
       "      <td>GGGCGGGCGGGGGGGAACTCAAGGCCTGCTTAATACGTCCGCCATT...</td>\n",
       "      <td>0.920035</td>\n",
       "      <td>0.102898</td>\n",
       "      <td>-0.751795</td>\n",
       "      <td>6.648308</td>\n",
       "    </tr>\n",
       "    <tr>\n",
       "      <th>513923</th>\n",
       "      <td>chr11</td>\n",
       "      <td>+</td>\n",
       "      <td>68460703-68460792</td>\n",
       "      <td>ENST00000534534</td>\n",
       "      <td>rs1436688157</td>\n",
       "      <td>68460734</td>\n",
       "      <td>68460735</td>\n",
       "      <td>G</td>\n",
       "      <td>A</td>\n",
       "      <td>GGGCGGGCGGGGGGGAACTCAAGGCCTGCTTGATACGTCCGCCATT...</td>\n",
       "      <td>GGGCGGGCGGGGGGGAACTCAAGGCCTGCTTAATACGTCCGCCATT...</td>\n",
       "      <td>0.920035</td>\n",
       "      <td>0.102898</td>\n",
       "      <td>-0.751795</td>\n",
       "      <td>6.648308</td>\n",
       "    </tr>\n",
       "    <tr>\n",
       "      <th>523021</th>\n",
       "      <td>chr11</td>\n",
       "      <td>+</td>\n",
       "      <td>22672532-22672621</td>\n",
       "      <td>ENST00000534801</td>\n",
       "      <td>rs1250060984</td>\n",
       "      <td>22672535</td>\n",
       "      <td>22672536</td>\n",
       "      <td>A</td>\n",
       "      <td>G</td>\n",
       "      <td>AGCAAAATAGGACTCTGATGCTTAAATGGAAGTCACAGAGCACATA...</td>\n",
       "      <td>AGCGAAATAGGACTCTGATGCTTAAATGGAAGTCACAGAGCACATA...</td>\n",
       "      <td>0.934816</td>\n",
       "      <td>0.128351</td>\n",
       "      <td>-0.753895</td>\n",
       "      <td>6.605729</td>\n",
       "    </tr>\n",
       "    <tr>\n",
       "      <th>531961</th>\n",
       "      <td>chr11</td>\n",
       "      <td>-</td>\n",
       "      <td>114529976-114530065</td>\n",
       "      <td>ENST00000536271</td>\n",
       "      <td>rs1947516308</td>\n",
       "      <td>114529978</td>\n",
       "      <td>114529979</td>\n",
       "      <td>T</td>\n",
       "      <td>C</td>\n",
       "      <td>CATGACTGAATGGGACAATATAGTGAAAATGCAAACTTTGGCCTAG...</td>\n",
       "      <td>CACGACTGAATGGGACAATATAGTGAAAATGCAAACTTTGGCCTAG...</td>\n",
       "      <td>0.920885</td>\n",
       "      <td>0.105166</td>\n",
       "      <td>-0.751183</td>\n",
       "      <td>6.629950</td>\n",
       "    </tr>\n",
       "    <tr>\n",
       "      <th>1457153</th>\n",
       "      <td>chr8</td>\n",
       "      <td>+</td>\n",
       "      <td>11999042-11999131</td>\n",
       "      <td>ENST00000533272</td>\n",
       "      <td>rs940996082</td>\n",
       "      <td>11999052</td>\n",
       "      <td>11999053</td>\n",
       "      <td>A</td>\n",
       "      <td>G</td>\n",
       "      <td>AAAACCTACCAAACAGAAAAAGCCCAAGGCAGGAACCTATCATTTC...</td>\n",
       "      <td>AAAACCTACCGAACAGAAAAAGCCCAAGGCAGGAACCTATCATTTC...</td>\n",
       "      <td>0.933439</td>\n",
       "      <td>0.125011</td>\n",
       "      <td>-0.754617</td>\n",
       "      <td>6.617003</td>\n",
       "    </tr>\n",
       "    <tr>\n",
       "      <th>1630972</th>\n",
       "      <td>chr3</td>\n",
       "      <td>-</td>\n",
       "      <td>183809471-183809560</td>\n",
       "      <td>ENST00000425008</td>\n",
       "      <td>rs1726571703</td>\n",
       "      <td>183809481</td>\n",
       "      <td>183809482</td>\n",
       "      <td>T</td>\n",
       "      <td>C</td>\n",
       "      <td>GTCCATTACATGTCAGACACGAGGGCCAAGCGTTGCATATATTACC...</td>\n",
       "      <td>GTCCATTACACGTCAGACACGAGGGCCAAGCGTTGCATATATTACC...</td>\n",
       "      <td>0.906083</td>\n",
       "      <td>0.017222</td>\n",
       "      <td>-0.805382</td>\n",
       "      <td>9.104723</td>\n",
       "    </tr>\n",
       "    <tr>\n",
       "      <th>1861435</th>\n",
       "      <td>chr3</td>\n",
       "      <td>-</td>\n",
       "      <td>53046008-53046097</td>\n",
       "      <td>ENST00000482396</td>\n",
       "      <td>rs952042029</td>\n",
       "      <td>53046066</td>\n",
       "      <td>53046067</td>\n",
       "      <td>C</td>\n",
       "      <td>A</td>\n",
       "      <td>CCCCCCTCCACCCGCGCTCCGGCGGAGGCGGCGGCGGCGCTCCGCG...</td>\n",
       "      <td>CCCCCCTCCACCCGCGCTCCGGCGGAGGCGGCGGCGGCGCTCCGCG...</td>\n",
       "      <td>0.931844</td>\n",
       "      <td>0.118051</td>\n",
       "      <td>-0.758328</td>\n",
       "      <td>6.674453</td>\n",
       "    </tr>\n",
       "    <tr>\n",
       "      <th>1969684</th>\n",
       "      <td>chr3</td>\n",
       "      <td>-</td>\n",
       "      <td>106898224-106898313</td>\n",
       "      <td>ENST00000507369</td>\n",
       "      <td>rs992496278</td>\n",
       "      <td>106898226</td>\n",
       "      <td>106898227</td>\n",
       "      <td>A</td>\n",
       "      <td>G</td>\n",
       "      <td>TCAGTCATTGACTGAACAATTAGGGGTGGGAAATATAATATAAAAA...</td>\n",
       "      <td>TCGGTCATTGACTGAACAATTAGGGGTGGGAAATATAATATAAAAA...</td>\n",
       "      <td>0.920956</td>\n",
       "      <td>0.102190</td>\n",
       "      <td>-0.754047</td>\n",
       "      <td>6.677557</td>\n",
       "    </tr>\n",
       "    <tr>\n",
       "      <th>2929802</th>\n",
       "      <td>chr4</td>\n",
       "      <td>-</td>\n",
       "      <td>120922826-120922915</td>\n",
       "      <td>ENST00000394435</td>\n",
       "      <td>rs1329989765</td>\n",
       "      <td>120922827</td>\n",
       "      <td>120922828</td>\n",
       "      <td>G</td>\n",
       "      <td>A</td>\n",
       "      <td>TGCCATTCCTGCTGCGGGGGCGCGGGGGGCGCGGGCCTGGGCGCTG...</td>\n",
       "      <td>TACCATTCCTGCTGCGGGGGCGCGGGGGGCGCGGGCCTGGGCGCTG...</td>\n",
       "      <td>0.976771</td>\n",
       "      <td>0.082859</td>\n",
       "      <td>-0.873147</td>\n",
       "      <td>8.862427</td>\n",
       "    </tr>\n",
       "    <tr>\n",
       "      <th>3821940</th>\n",
       "      <td>chr6</td>\n",
       "      <td>-</td>\n",
       "      <td>163413916-163414005</td>\n",
       "      <td>ENST00000604200</td>\n",
       "      <td>rs967319193</td>\n",
       "      <td>163413916</td>\n",
       "      <td>163413917</td>\n",
       "      <td>C</td>\n",
       "      <td>A</td>\n",
       "      <td>CCTAGTCGGCTGCCGCCCCCGCCCCACGCAGGCGCGCTCCGGGGCC...</td>\n",
       "      <td>ACTAGTCGGCTGCCGCCCCCGCCCCACGCAGGCGCGCTCCGGGGCC...</td>\n",
       "      <td>0.956302</td>\n",
       "      <td>0.020528</td>\n",
       "      <td>-0.894883</td>\n",
       "      <td>10.028153</td>\n",
       "    </tr>\n",
       "    <tr>\n",
       "      <th>3851223</th>\n",
       "      <td>chr6</td>\n",
       "      <td>+</td>\n",
       "      <td>11644022-11644111</td>\n",
       "      <td>ENST00000622203</td>\n",
       "      <td>rs1430944669</td>\n",
       "      <td>11644024</td>\n",
       "      <td>11644025</td>\n",
       "      <td>T</td>\n",
       "      <td>C</td>\n",
       "      <td>TGTGAGCCTAACTTTAAGAAAACCAGATTATAAAAAATCATTTAGC...</td>\n",
       "      <td>TGCGAGCCTAACTTTAAGAAAACCAGATTATAAAAAATCATTTAGC...</td>\n",
       "      <td>0.934636</td>\n",
       "      <td>0.129223</td>\n",
       "      <td>-0.752768</td>\n",
       "      <td>6.590274</td>\n",
       "    </tr>\n",
       "    <tr>\n",
       "      <th>4074612</th>\n",
       "      <td>chr1</td>\n",
       "      <td>-</td>\n",
       "      <td>37634572-37634661</td>\n",
       "      <td>ENST00000401068</td>\n",
       "      <td>rs1644411121</td>\n",
       "      <td>37634574</td>\n",
       "      <td>37634575</td>\n",
       "      <td>G</td>\n",
       "      <td>A</td>\n",
       "      <td>CTGCCAGTCGCGACGGGGGCAGGCCCGGGAGGGGCGAGGGCGCGGC...</td>\n",
       "      <td>CTACCAGTCGCGACGGGGGCAGGCCCGGGAGGGGCGAGGGCGCGGC...</td>\n",
       "      <td>0.982534</td>\n",
       "      <td>0.085958</td>\n",
       "      <td>-0.880917</td>\n",
       "      <td>9.224479</td>\n",
       "    </tr>\n",
       "    <tr>\n",
       "      <th>4182533</th>\n",
       "      <td>chr1</td>\n",
       "      <td>+</td>\n",
       "      <td>71570911-71571000</td>\n",
       "      <td>ENST00000446438</td>\n",
       "      <td>rs1025043540</td>\n",
       "      <td>71570944</td>\n",
       "      <td>71570945</td>\n",
       "      <td>T</td>\n",
       "      <td>C</td>\n",
       "      <td>TAGAAAAAGGCACCATTGACTGATGTCTATCTTTGATACCAGGTAT...</td>\n",
       "      <td>TAGAAAAAGGCACCATTGACTGATGTCTATCTTCGATACCAGGTAT...</td>\n",
       "      <td>0.921919</td>\n",
       "      <td>0.100118</td>\n",
       "      <td>-0.757635</td>\n",
       "      <td>6.729642</td>\n",
       "    </tr>\n",
       "    <tr>\n",
       "      <th>4334001</th>\n",
       "      <td>chr1</td>\n",
       "      <td>+</td>\n",
       "      <td>245002108-245002197</td>\n",
       "      <td>ENST00000479260</td>\n",
       "      <td>rs1026901324</td>\n",
       "      <td>245002119</td>\n",
       "      <td>245002120</td>\n",
       "      <td>G</td>\n",
       "      <td>C</td>\n",
       "      <td>CCTTTATGCTAGGGCCTGGGATACAACAGTGATGAGATAAGGCCTC...</td>\n",
       "      <td>CCTTTATGCTACGGCCTGGGATACAACAGTGATGAGATAAGGCCTC...</td>\n",
       "      <td>0.938777</td>\n",
       "      <td>0.015564</td>\n",
       "      <td>-0.866692</td>\n",
       "      <td>9.921666</td>\n",
       "    </tr>\n",
       "    <tr>\n",
       "      <th>4676420</th>\n",
       "      <td>chr9</td>\n",
       "      <td>+</td>\n",
       "      <td>77019610-77019699</td>\n",
       "      <td>ENST00000376708</td>\n",
       "      <td>rs1428181035</td>\n",
       "      <td>77019611</td>\n",
       "      <td>77019612</td>\n",
       "      <td>G</td>\n",
       "      <td>A</td>\n",
       "      <td>TGTGGTCCAGTGCGGGCCGGAGGGCGGTGGAGGAGCCGGGGGCGAT...</td>\n",
       "      <td>TATGGTCCAGTGCGGGCCGGAGGGCGGTGGAGGAGCCGGGGGCGAT...</td>\n",
       "      <td>0.886849</td>\n",
       "      <td>0.012635</td>\n",
       "      <td>-0.775296</td>\n",
       "      <td>9.258523</td>\n",
       "    </tr>\n",
       "    <tr>\n",
       "      <th>4897503</th>\n",
       "      <td>chr9</td>\n",
       "      <td>-</td>\n",
       "      <td>111483635-111483724</td>\n",
       "      <td>ENST00000602447</td>\n",
       "      <td>rs2098310457</td>\n",
       "      <td>111483637</td>\n",
       "      <td>111483638</td>\n",
       "      <td>C</td>\n",
       "      <td>A</td>\n",
       "      <td>CTCCGTTCACTCGGCGCGGACCGCGCTGTGCCCCGAGGCCCGCCCG...</td>\n",
       "      <td>CTACGTTCACTCGGCGCGGACCGCGCTGTGCCCCGAGGCCCGCCCG...</td>\n",
       "      <td>0.980192</td>\n",
       "      <td>0.092922</td>\n",
       "      <td>-0.869695</td>\n",
       "      <td>8.916044</td>\n",
       "    </tr>\n",
       "    <tr>\n",
       "      <th>5076487</th>\n",
       "      <td>chr13</td>\n",
       "      <td>+</td>\n",
       "      <td>106617765-106617854</td>\n",
       "      <td>ENST00000607593</td>\n",
       "      <td>rs960079263</td>\n",
       "      <td>106617774</td>\n",
       "      <td>106617775</td>\n",
       "      <td>A</td>\n",
       "      <td>C</td>\n",
       "      <td>ATTGTTCTCAGGACTGGTAATTTCTCTAACTCCCAAAAGCCTGGGA...</td>\n",
       "      <td>ATTGTTCTCCGGACTGGTAATTTCTCTAACTCCCAAAAGCCTGGGA...</td>\n",
       "      <td>0.927907</td>\n",
       "      <td>0.115502</td>\n",
       "      <td>-0.753836</td>\n",
       "      <td>6.622987</td>\n",
       "    </tr>\n",
       "    <tr>\n",
       "      <th>5250040</th>\n",
       "      <td>chr17</td>\n",
       "      <td>-</td>\n",
       "      <td>15306957-15307046</td>\n",
       "      <td>ENST00000462175</td>\n",
       "      <td>rs1910578075</td>\n",
       "      <td>15306978</td>\n",
       "      <td>15306979</td>\n",
       "      <td>T</td>\n",
       "      <td>C</td>\n",
       "      <td>GGGGTTCTATGGAACCCACTTTGAAAAACATGCAGCCTGAGTGATC...</td>\n",
       "      <td>GGGGTTCTATGGAACCCACTTCGAAAAACATGCAGCCTGAGTGATC...</td>\n",
       "      <td>0.924651</td>\n",
       "      <td>0.107442</td>\n",
       "      <td>-0.755634</td>\n",
       "      <td>6.671643</td>\n",
       "    </tr>\n",
       "    <tr>\n",
       "      <th>5365511</th>\n",
       "      <td>chr17</td>\n",
       "      <td>-</td>\n",
       "      <td>81860479-81860568</td>\n",
       "      <td>ENST00000571617</td>\n",
       "      <td>rs765367581</td>\n",
       "      <td>81860481</td>\n",
       "      <td>81860482</td>\n",
       "      <td>G</td>\n",
       "      <td>T</td>\n",
       "      <td>CGGATCAGGCGGGGCGCTTCGGTTGGCGCCGCCGGGACAGCGGGGG...</td>\n",
       "      <td>CGTATCAGGCGGGGCGCTTCGGTTGGCGCCGCCGGGACAGCGGGGG...</td>\n",
       "      <td>0.934170</td>\n",
       "      <td>0.126768</td>\n",
       "      <td>-0.754252</td>\n",
       "      <td>6.611056</td>\n",
       "    </tr>\n",
       "    <tr>\n",
       "      <th>5692036</th>\n",
       "      <td>chr17</td>\n",
       "      <td>+</td>\n",
       "      <td>45135645-45135734</td>\n",
       "      <td>ENST00000592162</td>\n",
       "      <td>rs927891732</td>\n",
       "      <td>45135649</td>\n",
       "      <td>45135650</td>\n",
       "      <td>C</td>\n",
       "      <td>A</td>\n",
       "      <td>CGATCTGCGTCGCCATCCCGGCCCTGCTGGACCCCGGGGTCAGTAG...</td>\n",
       "      <td>CGATATGCGTCGCCATCCCGGCCCTGCTGGACCCCGGGGTCAGTAG...</td>\n",
       "      <td>0.951124</td>\n",
       "      <td>0.029510</td>\n",
       "      <td>-0.876569</td>\n",
       "      <td>9.321869</td>\n",
       "    </tr>\n",
       "    <tr>\n",
       "      <th>5845871</th>\n",
       "      <td>chr16</td>\n",
       "      <td>-</td>\n",
       "      <td>2777151-2777240</td>\n",
       "      <td>ENST00000409477</td>\n",
       "      <td>rs747087521</td>\n",
       "      <td>2777151</td>\n",
       "      <td>2777152</td>\n",
       "      <td>C</td>\n",
       "      <td>T</td>\n",
       "      <td>CACGAAGCCCGGGCCCCCCGCGCGGCCCAGCCGCCCCCCGCCGCCC...</td>\n",
       "      <td>TACGAAGCCCGGGCCCCCCGCGCGGCCCAGCCGCCCCCCGCCGCCC...</td>\n",
       "      <td>0.991694</td>\n",
       "      <td>0.137176</td>\n",
       "      <td>-0.847420</td>\n",
       "      <td>9.552603</td>\n",
       "    </tr>\n",
       "    <tr>\n",
       "      <th>6063631</th>\n",
       "      <td>chr16</td>\n",
       "      <td>+</td>\n",
       "      <td>68311019-68311108</td>\n",
       "      <td>ENST00000565356</td>\n",
       "      <td>rs1447897571</td>\n",
       "      <td>68311024</td>\n",
       "      <td>68311025</td>\n",
       "      <td>G</td>\n",
       "      <td>A</td>\n",
       "      <td>ACGCTGCGAGGTCCCGCCCCGCGTGCTGGCCGCGGTAAAAGTGGTA...</td>\n",
       "      <td>ACGCTACGAGGTCCCGCCCCGCGTGCTGGCCGCGGTAAAAGTGGTA...</td>\n",
       "      <td>0.951641</td>\n",
       "      <td>0.159512</td>\n",
       "      <td>-0.753823</td>\n",
       "      <td>6.696134</td>\n",
       "    </tr>\n",
       "    <tr>\n",
       "      <th>6192634</th>\n",
       "      <td>chr16</td>\n",
       "      <td>-</td>\n",
       "      <td>35803236-35803325</td>\n",
       "      <td>ENST00000569492</td>\n",
       "      <td>rs1657877646</td>\n",
       "      <td>35803240</td>\n",
       "      <td>35803241</td>\n",
       "      <td>T</td>\n",
       "      <td>A</td>\n",
       "      <td>GGCTTTGGTCTGTCGGGGGGTCTTTCTCGCCTCTTCTTTTTCACAC...</td>\n",
       "      <td>GGCTATGGTCTGTCGGGGGGTCTTTCTCGCCTCTTCTTTTTCACAC...</td>\n",
       "      <td>0.934106</td>\n",
       "      <td>0.125646</td>\n",
       "      <td>-0.755188</td>\n",
       "      <td>6.624226</td>\n",
       "    </tr>\n",
       "    <tr>\n",
       "      <th>6281939</th>\n",
       "      <td>chr16</td>\n",
       "      <td>-</td>\n",
       "      <td>4734210-4734299</td>\n",
       "      <td>ENST00000590730</td>\n",
       "      <td>rs1017110861</td>\n",
       "      <td>4734214</td>\n",
       "      <td>4734215</td>\n",
       "      <td>C</td>\n",
       "      <td>T</td>\n",
       "      <td>CAAACAGCTCGCCGCCACGCTCCCTCGCCGGGGCACCGCCCCCGGC...</td>\n",
       "      <td>CAAATAGCTCGCCGCCACGCTCCCTCGCCGGGGCACCGCCCCCGGC...</td>\n",
       "      <td>0.938611</td>\n",
       "      <td>0.138034</td>\n",
       "      <td>-0.751431</td>\n",
       "      <td>6.577093</td>\n",
       "    </tr>\n",
       "    <tr>\n",
       "      <th>7869545</th>\n",
       "      <td>chr10</td>\n",
       "      <td>+</td>\n",
       "      <td>88699638-88699727</td>\n",
       "      <td>ENST00000603818</td>\n",
       "      <td>rs550135341</td>\n",
       "      <td>88699676</td>\n",
       "      <td>88699677</td>\n",
       "      <td>G</td>\n",
       "      <td>C</td>\n",
       "      <td>AAGAAATAGGCTTTCTCATCCACCATGCAGGCCCATGTGGACATGG...</td>\n",
       "      <td>AAGAAATAGGCTTTCTCATCCACCATGCAGGCCCATGTCGACATGG...</td>\n",
       "      <td>0.935459</td>\n",
       "      <td>0.133162</td>\n",
       "      <td>-0.750516</td>\n",
       "      <td>6.559965</td>\n",
       "    </tr>\n",
       "    <tr>\n",
       "      <th>8143648</th>\n",
       "      <td>chr22</td>\n",
       "      <td>-</td>\n",
       "      <td>26510663-26510752</td>\n",
       "      <td>ENST00000619735</td>\n",
       "      <td>rs1253513055</td>\n",
       "      <td>26510671</td>\n",
       "      <td>26510672</td>\n",
       "      <td>G</td>\n",
       "      <td>C</td>\n",
       "      <td>ATTACTGAGGAAAGAATTATATCTGGATCCTTGGTGGTCCTAGGAG...</td>\n",
       "      <td>ATTACTGACGAAAGAATTATATCTGGATCCTTGGTGGTCCTAGGAG...</td>\n",
       "      <td>0.932143</td>\n",
       "      <td>0.119660</td>\n",
       "      <td>-0.757350</td>\n",
       "      <td>6.659099</td>\n",
       "    </tr>\n",
       "    <tr>\n",
       "      <th>9167359</th>\n",
       "      <td>chr2</td>\n",
       "      <td>+</td>\n",
       "      <td>27890747-27890836</td>\n",
       "      <td>ENST00000342045</td>\n",
       "      <td>rs1026371175</td>\n",
       "      <td>27890805</td>\n",
       "      <td>27890806</td>\n",
       "      <td>C</td>\n",
       "      <td>T</td>\n",
       "      <td>CCGCGGCGCGCGCGCAGGTCGGTGCGTCTGTCGGGGGCGCGCTCGG...</td>\n",
       "      <td>CCGCGGCGCGCGCGCAGGTCGGTGCGTCTGTCGGGGGCGCGCTCGG...</td>\n",
       "      <td>0.948759</td>\n",
       "      <td>0.150533</td>\n",
       "      <td>-0.757324</td>\n",
       "      <td>6.707145</td>\n",
       "    </tr>\n",
       "    <tr>\n",
       "      <th>9450261</th>\n",
       "      <td>chr2</td>\n",
       "      <td>-</td>\n",
       "      <td>60352972-60353061</td>\n",
       "      <td>ENST00000457668</td>\n",
       "      <td>rs867931062</td>\n",
       "      <td>60352973</td>\n",
       "      <td>60352974</td>\n",
       "      <td>G</td>\n",
       "      <td>C</td>\n",
       "      <td>AGGACCCGTAAGTCCTGCCTTGCATCCTCCCTCCCATCATTACAGC...</td>\n",
       "      <td>ACGACCCGTAAGTCCTGCCTTGCATCCTCCCTCCCATCATTACAGC...</td>\n",
       "      <td>0.918790</td>\n",
       "      <td>0.102022</td>\n",
       "      <td>-0.750439</td>\n",
       "      <td>6.637813</td>\n",
       "    </tr>\n",
       "  </tbody>\n",
       "</table>\n",
       "</div>"
      ],
      "text/plain": [
       "           chr strand core_prom_coordinates Ensemble_Transcript_ID  \\\n",
       "350013   chr11      +     68460703-68460792        ENST00000529344   \n",
       "513923   chr11      +     68460703-68460792        ENST00000534534   \n",
       "523021   chr11      +     22672532-22672621        ENST00000534801   \n",
       "531961   chr11      -   114529976-114530065        ENST00000536271   \n",
       "1457153   chr8      +     11999042-11999131        ENST00000533272   \n",
       "1630972   chr3      -   183809471-183809560        ENST00000425008   \n",
       "1861435   chr3      -     53046008-53046097        ENST00000482396   \n",
       "1969684   chr3      -   106898224-106898313        ENST00000507369   \n",
       "2929802   chr4      -   120922826-120922915        ENST00000394435   \n",
       "3821940   chr6      -   163413916-163414005        ENST00000604200   \n",
       "3851223   chr6      +     11644022-11644111        ENST00000622203   \n",
       "4074612   chr1      -     37634572-37634661        ENST00000401068   \n",
       "4182533   chr1      +     71570911-71571000        ENST00000446438   \n",
       "4334001   chr1      +   245002108-245002197        ENST00000479260   \n",
       "4676420   chr9      +     77019610-77019699        ENST00000376708   \n",
       "4897503   chr9      -   111483635-111483724        ENST00000602447   \n",
       "5076487  chr13      +   106617765-106617854        ENST00000607593   \n",
       "5250040  chr17      -     15306957-15307046        ENST00000462175   \n",
       "5365511  chr17      -     81860479-81860568        ENST00000571617   \n",
       "5692036  chr17      +     45135645-45135734        ENST00000592162   \n",
       "5845871  chr16      -       2777151-2777240        ENST00000409477   \n",
       "6063631  chr16      +     68311019-68311108        ENST00000565356   \n",
       "6192634  chr16      -     35803236-35803325        ENST00000569492   \n",
       "6281939  chr16      -       4734210-4734299        ENST00000590730   \n",
       "7869545  chr10      +     88699638-88699727        ENST00000603818   \n",
       "8143648  chr22      -     26510663-26510752        ENST00000619735   \n",
       "9167359   chr2      +     27890747-27890836        ENST00000342045   \n",
       "9450261   chr2      -     60352972-60353061        ENST00000457668   \n",
       "\n",
       "                RS_ID  variant_start  variant_end ref_neucleotide  \\\n",
       "350013   rs1436688157       68460734     68460735               G   \n",
       "513923   rs1436688157       68460734     68460735               G   \n",
       "523021   rs1250060984       22672535     22672536               A   \n",
       "531961   rs1947516308      114529978    114529979               T   \n",
       "1457153   rs940996082       11999052     11999053               A   \n",
       "1630972  rs1726571703      183809481    183809482               T   \n",
       "1861435   rs952042029       53046066     53046067               C   \n",
       "1969684   rs992496278      106898226    106898227               A   \n",
       "2929802  rs1329989765      120922827    120922828               G   \n",
       "3821940   rs967319193      163413916    163413917               C   \n",
       "3851223  rs1430944669       11644024     11644025               T   \n",
       "4074612  rs1644411121       37634574     37634575               G   \n",
       "4182533  rs1025043540       71570944     71570945               T   \n",
       "4334001  rs1026901324      245002119    245002120               G   \n",
       "4676420  rs1428181035       77019611     77019612               G   \n",
       "4897503  rs2098310457      111483637    111483638               C   \n",
       "5076487   rs960079263      106617774    106617775               A   \n",
       "5250040  rs1910578075       15306978     15306979               T   \n",
       "5365511   rs765367581       81860481     81860482               G   \n",
       "5692036   rs927891732       45135649     45135650               C   \n",
       "5845871   rs747087521        2777151      2777152               C   \n",
       "6063631  rs1447897571       68311024     68311025               G   \n",
       "6192634  rs1657877646       35803240     35803241               T   \n",
       "6281939  rs1017110861        4734214      4734215               C   \n",
       "7869545   rs550135341       88699676     88699677               G   \n",
       "8143648  rs1253513055       26510671     26510672               G   \n",
       "9167359  rs1026371175       27890805     27890806               C   \n",
       "9450261   rs867931062       60352973     60352974               G   \n",
       "\n",
       "        alternative_neucleotide  \\\n",
       "350013                        A   \n",
       "513923                        A   \n",
       "523021                        G   \n",
       "531961                        C   \n",
       "1457153                       G   \n",
       "1630972                       C   \n",
       "1861435                       A   \n",
       "1969684                       G   \n",
       "2929802                       A   \n",
       "3821940                       A   \n",
       "3851223                       C   \n",
       "4074612                       A   \n",
       "4182533                       C   \n",
       "4334001                       C   \n",
       "4676420                       A   \n",
       "4897503                       A   \n",
       "5076487                       C   \n",
       "5250040                       C   \n",
       "5365511                       T   \n",
       "5692036                       A   \n",
       "5845871                       T   \n",
       "6063631                       A   \n",
       "6192634                       A   \n",
       "6281939                       T   \n",
       "7869545                       C   \n",
       "8143648                       C   \n",
       "9167359                       T   \n",
       "9450261                       C   \n",
       "\n",
       "                                             reference_seq  \\\n",
       "350013   GGGCGGGCGGGGGGGAACTCAAGGCCTGCTTGATACGTCCGCCATT...   \n",
       "513923   GGGCGGGCGGGGGGGAACTCAAGGCCTGCTTGATACGTCCGCCATT...   \n",
       "523021   AGCAAAATAGGACTCTGATGCTTAAATGGAAGTCACAGAGCACATA...   \n",
       "531961   CATGACTGAATGGGACAATATAGTGAAAATGCAAACTTTGGCCTAG...   \n",
       "1457153  AAAACCTACCAAACAGAAAAAGCCCAAGGCAGGAACCTATCATTTC...   \n",
       "1630972  GTCCATTACATGTCAGACACGAGGGCCAAGCGTTGCATATATTACC...   \n",
       "1861435  CCCCCCTCCACCCGCGCTCCGGCGGAGGCGGCGGCGGCGCTCCGCG...   \n",
       "1969684  TCAGTCATTGACTGAACAATTAGGGGTGGGAAATATAATATAAAAA...   \n",
       "2929802  TGCCATTCCTGCTGCGGGGGCGCGGGGGGCGCGGGCCTGGGCGCTG...   \n",
       "3821940  CCTAGTCGGCTGCCGCCCCCGCCCCACGCAGGCGCGCTCCGGGGCC...   \n",
       "3851223  TGTGAGCCTAACTTTAAGAAAACCAGATTATAAAAAATCATTTAGC...   \n",
       "4074612  CTGCCAGTCGCGACGGGGGCAGGCCCGGGAGGGGCGAGGGCGCGGC...   \n",
       "4182533  TAGAAAAAGGCACCATTGACTGATGTCTATCTTTGATACCAGGTAT...   \n",
       "4334001  CCTTTATGCTAGGGCCTGGGATACAACAGTGATGAGATAAGGCCTC...   \n",
       "4676420  TGTGGTCCAGTGCGGGCCGGAGGGCGGTGGAGGAGCCGGGGGCGAT...   \n",
       "4897503  CTCCGTTCACTCGGCGCGGACCGCGCTGTGCCCCGAGGCCCGCCCG...   \n",
       "5076487  ATTGTTCTCAGGACTGGTAATTTCTCTAACTCCCAAAAGCCTGGGA...   \n",
       "5250040  GGGGTTCTATGGAACCCACTTTGAAAAACATGCAGCCTGAGTGATC...   \n",
       "5365511  CGGATCAGGCGGGGCGCTTCGGTTGGCGCCGCCGGGACAGCGGGGG...   \n",
       "5692036  CGATCTGCGTCGCCATCCCGGCCCTGCTGGACCCCGGGGTCAGTAG...   \n",
       "5845871  CACGAAGCCCGGGCCCCCCGCGCGGCCCAGCCGCCCCCCGCCGCCC...   \n",
       "6063631  ACGCTGCGAGGTCCCGCCCCGCGTGCTGGCCGCGGTAAAAGTGGTA...   \n",
       "6192634  GGCTTTGGTCTGTCGGGGGGTCTTTCTCGCCTCTTCTTTTTCACAC...   \n",
       "6281939  CAAACAGCTCGCCGCCACGCTCCCTCGCCGGGGCACCGCCCCCGGC...   \n",
       "7869545  AAGAAATAGGCTTTCTCATCCACCATGCAGGCCCATGTGGACATGG...   \n",
       "8143648  ATTACTGAGGAAAGAATTATATCTGGATCCTTGGTGGTCCTAGGAG...   \n",
       "9167359  CCGCGGCGCGCGCGCAGGTCGGTGCGTCTGTCGGGGGCGCGCTCGG...   \n",
       "9450261  AGGACCCGTAAGTCCTGCCTTGCATCCTCCCTCCCATCATTACAGC...   \n",
       "\n",
       "                                                   alt_seq  Ref_probab  \\\n",
       "350013   GGGCGGGCGGGGGGGAACTCAAGGCCTGCTTAATACGTCCGCCATT...    0.920035   \n",
       "513923   GGGCGGGCGGGGGGGAACTCAAGGCCTGCTTAATACGTCCGCCATT...    0.920035   \n",
       "523021   AGCGAAATAGGACTCTGATGCTTAAATGGAAGTCACAGAGCACATA...    0.934816   \n",
       "531961   CACGACTGAATGGGACAATATAGTGAAAATGCAAACTTTGGCCTAG...    0.920885   \n",
       "1457153  AAAACCTACCGAACAGAAAAAGCCCAAGGCAGGAACCTATCATTTC...    0.933439   \n",
       "1630972  GTCCATTACACGTCAGACACGAGGGCCAAGCGTTGCATATATTACC...    0.906083   \n",
       "1861435  CCCCCCTCCACCCGCGCTCCGGCGGAGGCGGCGGCGGCGCTCCGCG...    0.931844   \n",
       "1969684  TCGGTCATTGACTGAACAATTAGGGGTGGGAAATATAATATAAAAA...    0.920956   \n",
       "2929802  TACCATTCCTGCTGCGGGGGCGCGGGGGGCGCGGGCCTGGGCGCTG...    0.976771   \n",
       "3821940  ACTAGTCGGCTGCCGCCCCCGCCCCACGCAGGCGCGCTCCGGGGCC...    0.956302   \n",
       "3851223  TGCGAGCCTAACTTTAAGAAAACCAGATTATAAAAAATCATTTAGC...    0.934636   \n",
       "4074612  CTACCAGTCGCGACGGGGGCAGGCCCGGGAGGGGCGAGGGCGCGGC...    0.982534   \n",
       "4182533  TAGAAAAAGGCACCATTGACTGATGTCTATCTTCGATACCAGGTAT...    0.921919   \n",
       "4334001  CCTTTATGCTACGGCCTGGGATACAACAGTGATGAGATAAGGCCTC...    0.938777   \n",
       "4676420  TATGGTCCAGTGCGGGCCGGAGGGCGGTGGAGGAGCCGGGGGCGAT...    0.886849   \n",
       "4897503  CTACGTTCACTCGGCGCGGACCGCGCTGTGCCCCGAGGCCCGCCCG...    0.980192   \n",
       "5076487  ATTGTTCTCCGGACTGGTAATTTCTCTAACTCCCAAAAGCCTGGGA...    0.927907   \n",
       "5250040  GGGGTTCTATGGAACCCACTTCGAAAAACATGCAGCCTGAGTGATC...    0.924651   \n",
       "5365511  CGTATCAGGCGGGGCGCTTCGGTTGGCGCCGCCGGGACAGCGGGGG...    0.934170   \n",
       "5692036  CGATATGCGTCGCCATCCCGGCCCTGCTGGACCCCGGGGTCAGTAG...    0.951124   \n",
       "5845871  TACGAAGCCCGGGCCCCCCGCGCGGCCCAGCCGCCCCCCGCCGCCC...    0.991694   \n",
       "6063631  ACGCTACGAGGTCCCGCCCCGCGTGCTGGCCGCGGTAAAAGTGGTA...    0.951641   \n",
       "6192634  GGCTATGGTCTGTCGGGGGGTCTTTCTCGCCTCTTCTTTTTCACAC...    0.934106   \n",
       "6281939  CAAATAGCTCGCCGCCACGCTCCCTCGCCGGGGCACCGCCCCCGGC...    0.938611   \n",
       "7869545  AAGAAATAGGCTTTCTCATCCACCATGCAGGCCCATGTCGACATGG...    0.935459   \n",
       "8143648  ATTACTGACGAAAGAATTATATCTGGATCCTTGGTGGTCCTAGGAG...    0.932143   \n",
       "9167359  CCGCGGCGCGCGCGCAGGTCGGTGCGTCTGTCGGGGGCGCGCTCGG...    0.948759   \n",
       "9450261  ACGACCCGTAAGTCCTGCCTTGCATCCTCCCTCCCATCATTACAGC...    0.918790   \n",
       "\n",
       "         Alt_probab  ScoreChange  LogOddRatio  \n",
       "350013     0.102898    -0.751795     6.648308  \n",
       "513923     0.102898    -0.751795     6.648308  \n",
       "523021     0.128351    -0.753895     6.605729  \n",
       "531961     0.105166    -0.751183     6.629950  \n",
       "1457153    0.125011    -0.754617     6.617003  \n",
       "1630972    0.017222    -0.805382     9.104723  \n",
       "1861435    0.118051    -0.758328     6.674453  \n",
       "1969684    0.102190    -0.754047     6.677557  \n",
       "2929802    0.082859    -0.873147     8.862427  \n",
       "3821940    0.020528    -0.894883    10.028153  \n",
       "3851223    0.129223    -0.752768     6.590274  \n",
       "4074612    0.085958    -0.880917     9.224479  \n",
       "4182533    0.100118    -0.757635     6.729642  \n",
       "4334001    0.015564    -0.866692     9.921666  \n",
       "4676420    0.012635    -0.775296     9.258523  \n",
       "4897503    0.092922    -0.869695     8.916044  \n",
       "5076487    0.115502    -0.753836     6.622987  \n",
       "5250040    0.107442    -0.755634     6.671643  \n",
       "5365511    0.126768    -0.754252     6.611056  \n",
       "5692036    0.029510    -0.876569     9.321869  \n",
       "5845871    0.137176    -0.847420     9.552603  \n",
       "6063631    0.159512    -0.753823     6.696134  \n",
       "6192634    0.125646    -0.755188     6.624226  \n",
       "6281939    0.138034    -0.751431     6.577093  \n",
       "7869545    0.133162    -0.750516     6.559965  \n",
       "8143648    0.119660    -0.757350     6.659099  \n",
       "9167359    0.150533    -0.757324     6.707145  \n",
       "9450261    0.102022    -0.750439     6.637813  "
      ]
     },
     "execution_count": 111,
     "metadata": {},
     "output_type": "execute_result"
    }
   ],
   "source": [
    "df_SNV"
   ]
  },
  {
   "cell_type": "code",
   "execution_count": 117,
   "id": "6b578e30-47a4-4a57-b6cc-1ebac21a434a",
   "metadata": {},
   "outputs": [
    {
     "data": {
      "text/plain": [
       "27"
      ]
     },
     "execution_count": 117,
     "metadata": {},
     "output_type": "execute_result"
    }
   ],
   "source": [
    "len(df_SNV[['RS_ID', 'variant_start','variant_end']].drop_duplicates())"
   ]
  },
  {
   "cell_type": "code",
   "execution_count": 118,
   "id": "a6e7b007-2110-4cb0-86a0-142744408454",
   "metadata": {},
   "outputs": [
    {
     "data": {
      "text/plain": [
       "27"
      ]
     },
     "execution_count": 118,
     "metadata": {},
     "output_type": "execute_result"
    }
   ],
   "source": [
    "len(df_SNV[['chr','core_prom_coordinates']].drop_duplicates())"
   ]
  },
  {
   "cell_type": "code",
   "execution_count": 116,
   "id": "cfefa5a5-bc6e-4def-83cb-8889cc93ea13",
   "metadata": {},
   "outputs": [],
   "source": [
    "df_SNV.to_csv(output_path+\"/Core_prom_candidates_SNV.tsv\", sep= \"\\t\", index=False)\n",
    "df_SNV[['RS_ID', 'variant_start','variant_end']].drop_duplicates().reset_index(drop=True).to_csv(output_path+\"/Unique_RS_SNV_ID.tsv\" ,  sep= \"\\t\", index=False)\n",
    "df_SNV[['chr','core_prom_coordinates']].drop_duplicates().reset_index(drop=True).to_csv(output_path + \"/Unique_Core_proms_SNV.tsv\", sep=\"\\t\", index=False)"
   ]
  },
  {
   "cell_type": "code",
   "execution_count": null,
   "id": "ad11ff94-0a0a-4528-88d5-15a2d7aaac16",
   "metadata": {},
   "outputs": [],
   "source": []
  }
 ],
 "metadata": {
  "kernelspec": {
   "display_name": "Python 3 (ipykernel)",
   "language": "python",
   "name": "python3"
  },
  "language_info": {
   "codemirror_mode": {
    "name": "ipython",
    "version": 3
   },
   "file_extension": ".py",
   "mimetype": "text/x-python",
   "name": "python",
   "nbconvert_exporter": "python",
   "pygments_lexer": "ipython3",
   "version": "3.10.11"
  }
 },
 "nbformat": 4,
 "nbformat_minor": 5
}
