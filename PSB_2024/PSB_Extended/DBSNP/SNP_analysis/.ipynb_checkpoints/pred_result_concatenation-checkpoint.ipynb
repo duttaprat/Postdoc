{
 "cells": [
  {
   "cell_type": "code",
   "execution_count": 6,
   "id": "9e9a7359-a6d8-4e58-9c7a-1015d6c6ff24",
   "metadata": {},
   "outputs": [],
   "source": [
    "import os, glob\n",
    "import numpy as np\n",
    "import pandas as pd\n",
    "import math"
   ]
  },
  {
   "cell_type": "code",
   "execution_count": 7,
   "id": "2e7fa9b4-f149-4002-8993-320b139239fc",
   "metadata": {},
   "outputs": [],
   "source": [
    "non_coding_region= \"core_prom\""
   ]
  },
  {
   "cell_type": "code",
   "execution_count": 12,
   "id": "dfeb1fd8-888e-40ea-ba12-123f9d8d2a71",
   "metadata": {},
   "outputs": [
    {
     "name": "stdout",
     "output_type": "stream",
     "text": [
      "/data/projects/DNABERT_snv/Manuscript_11_2023/DBSNP_output/DNABERT_data/core_prom/folder_1/TATA/Prediction_result/pred_results.npy\n",
      "/data/projects/DNABERT_snv/Manuscript_11_2023/DBSNP_output/DNABERT_data/core_prom/folder_2/TATA/Prediction_result/pred_results.npy\n",
      "/data/projects/DNABERT_snv/Manuscript_11_2023/DBSNP_output/DNABERT_data/core_prom/folder_3/TATA/Prediction_result/pred_results.npy\n",
      "/data/projects/DNABERT_snv/Manuscript_11_2023/DBSNP_output/DNABERT_data/core_prom/folder_4/TATA/Prediction_result/pred_results.npy\n",
      "/data/projects/DNABERT_snv/Manuscript_11_2023/DBSNP_output/DNABERT_data/core_prom/folder_5/TATA/Prediction_result/pred_results.npy\n",
      "/data/projects/DNABERT_snv/Manuscript_11_2023/DBSNP_output/DNABERT_data/core_prom/folder_6/TATA/Prediction_result/pred_results.npy\n",
      "/data/projects/DNABERT_snv/Manuscript_11_2023/DBSNP_output/DNABERT_data/core_prom/folder_7/TATA/Prediction_result/pred_results.npy\n",
      "/data/projects/DNABERT_snv/Manuscript_11_2023/DBSNP_output/DNABERT_data/core_prom/folder_8/TATA/Prediction_result/pred_results.npy\n",
      "/data/projects/DNABERT_snv/Manuscript_11_2023/DBSNP_output/DNABERT_data/core_prom/folder_9/TATA/Prediction_result/pred_results.npy\n",
      "/data/projects/DNABERT_snv/Manuscript_11_2023/DBSNP_output/DNABERT_data/core_prom/folder_10/TATA/Prediction_result/pred_results.npy\n",
      "/data/projects/DNABERT_snv/Manuscript_11_2023/DBSNP_output/DNABERT_data/core_prom/folder_11/TATA/Prediction_result/pred_results.npy\n",
      "/data/projects/DNABERT_snv/Manuscript_11_2023/DBSNP_output/DNABERT_data/core_prom/folder_12/TATA/Prediction_result/pred_results.npy\n",
      "/data/projects/DNABERT_snv/Manuscript_11_2023/DBSNP_output/DNABERT_data/core_prom/folder_13/TATA/Prediction_result/pred_results.npy\n",
      "/data/projects/DNABERT_snv/Manuscript_11_2023/DBSNP_output/DNABERT_data/core_prom/folder_14/TATA/Prediction_result/pred_results.npy\n",
      "/data/projects/DNABERT_snv/Manuscript_11_2023/DBSNP_output/DNABERT_data/core_prom/folder_15/TATA/Prediction_result/pred_results.npy\n",
      "/data/projects/DNABERT_snv/Manuscript_11_2023/DBSNP_output/DNABERT_data/core_prom/folder_16/TATA/Prediction_result/pred_results.npy\n",
      "/data/projects/DNABERT_snv/Manuscript_11_2023/DBSNP_output/DNABERT_data/core_prom/folder_17/TATA/Prediction_result/pred_results.npy\n",
      "/data/projects/DNABERT_snv/Manuscript_11_2023/DBSNP_output/DNABERT_data/core_prom/folder_18/TATA/Prediction_result/pred_results.npy\n",
      "/data/projects/DNABERT_snv/Manuscript_11_2023/DBSNP_output/DNABERT_data/core_prom/folder_19/TATA/Prediction_result/pred_results.npy\n",
      "/data/projects/DNABERT_snv/Manuscript_11_2023/DBSNP_output/DNABERT_data/core_prom/folder_20/TATA/Prediction_result/pred_results.npy\n"
     ]
    }
   ],
   "source": [
    "# Initialize an empty list to store the arrays\n",
    "arrays = []\n",
    "\n",
    "# Loop through each of the 20 folders\n",
    "for i in range(1, 21):\n",
    "    folder_name = '/data/projects/DNABERT_snv/Manuscript_11_2023/DBSNP_output/DNABERT_data/{}/folder_{}'.format(non_coding_region, i)\n",
    "    npy_file_path = os.path.join(folder_name, 'TATA', 'Prediction_result', 'pred_results.npy')\n",
    "\n",
    "    # Check if the file exists\n",
    "    if os.path.exists(npy_file_path):\n",
    "        # Load the .npy file\n",
    "        array = np.load(npy_file_path)\n",
    "        print(npy_file_path)\n",
    "        # Assuming array is a numeric array (e.g., 1D array of numbers)\n",
    "        if i > 1:  # Add the delimiter before all but the first file\n",
    "            arrays.append(np.array([5]))  # Append the delimiter\n",
    "        arrays.append(array)  # Add the contents of the current file\n",
    "    else:\n",
    "        print(f\"File not found: {npy_file_path}\")"
   ]
  },
  {
   "cell_type": "code",
   "execution_count": 13,
   "id": "0adfa359-a3ae-4371-b445-1aa2ae4868a8",
   "metadata": {},
   "outputs": [
    {
     "data": {
      "text/plain": [
       "39"
      ]
     },
     "execution_count": 13,
     "metadata": {},
     "output_type": "execute_result"
    }
   ],
   "source": [
    "len(arrays)"
   ]
  },
  {
   "cell_type": "code",
   "execution_count": 14,
   "id": "a0318fbf-e8fa-4fc3-84ec-fd084a2deb0c",
   "metadata": {},
   "outputs": [],
   "source": [
    "# Concatenate all arrays\n",
    "concatenated_array = np.concatenate(arrays)"
   ]
  },
  {
   "cell_type": "code",
   "execution_count": 15,
   "id": "a8f13dcb-5e2c-4dd8-b19f-498b9dfbafb2",
   "metadata": {},
   "outputs": [
    {
     "name": "stdout",
     "output_type": "stream",
     "text": [
      "Concatenated array saved to /data/projects/DNABERT_snv/Manuscript_11_2023/DBSNP_output/DNABERT_data/core_prom/pred_TATA.npy\n"
     ]
    }
   ],
   "source": [
    "# Save the concatenated array to a new .npy file\n",
    "output_file_path = '/data/projects/DNABERT_snv/Manuscript_11_2023/DBSNP_output/DNABERT_data/{}/pred_TATA.npy'.format(non_coding_region)\n",
    "np.save(output_file_path, concatenated_array)\n",
    "\n",
    "print(f\"Concatenated array saved to {output_file_path}\")"
   ]
  },
  {
   "cell_type": "code",
   "execution_count": 90,
   "id": "002b5b99-5bf2-45e2-84a3-b7e9b7f3bbd4",
   "metadata": {},
   "outputs": [],
   "source": [
    "df_test =pd.read_csv(\"/data/projects/DNABERT_snv/Manuscript_11_2023/DBSNP_output/DNABERT_data/core_prom/folder_2/dev.tsv\", sep= \"\\t\")"
   ]
  },
  {
   "cell_type": "code",
   "execution_count": 91,
   "id": "489ab7ce-43ec-4ace-a2c7-c5d684b87bf4",
   "metadata": {},
   "outputs": [
    {
     "data": {
      "text/html": [
       "<div>\n",
       "<style scoped>\n",
       "    .dataframe tbody tr th:only-of-type {\n",
       "        vertical-align: middle;\n",
       "    }\n",
       "\n",
       "    .dataframe tbody tr th {\n",
       "        vertical-align: top;\n",
       "    }\n",
       "\n",
       "    .dataframe thead th {\n",
       "        text-align: right;\n",
       "    }\n",
       "</style>\n",
       "<table border=\"1\" class=\"dataframe\">\n",
       "  <thead>\n",
       "    <tr style=\"text-align: right;\">\n",
       "      <th></th>\n",
       "      <th>CGCCCT GCCCTG CCCTGA CCTGAC CTGACC TGACCC GACCCC ACCCCT CCCCTG CCCTGG CCTGGA CTGGAT TGGATA GGATAA GATAAC ATAACA TAACAG AACAGA ACAGAA CAGAAG AGAAGA GAAGAG AAGAGA AGAGAA GAGAAG AGAAGC GAAGCC AAGCCT AGCCTG GCCTGG CCTGGG CTGGGA TGGGAG GGGAGA GGAGAG GAGAGC AGAGCC GAGCCC AGCCCC GCCCCG CCCCGG CCCGGG CCGGGG CGGGGT GGGGTG GGGTGG GGTGGG GTGGGG TGGGGG GGGGGT GGGGTG GGGTGG GGTGGC GTGGCC TGGCCT GGCCTT GCCTTC CCTTCC CTTCCA TTCCAT TCCATC CCATCT CATCTT ATCTTG TCTTGT CTTGTG TTGTGT TGTGTT GTGTTC TGTTCT GTTCTA TTCTAG TCTAGT CTAGTG TAGTGA AGTGAA GTGAAT TGAATC GAATCA AATCAG ATCAGA TCAGAA CAGAAC AGAACA</th>\n",
       "      <th>0</th>\n",
       "    </tr>\n",
       "  </thead>\n",
       "  <tbody>\n",
       "    <tr>\n",
       "      <th>0</th>\n",
       "      <td>CGCCCT GCCCTG CCCTGA CCTGAC CTGACC TGACCC GACC...</td>\n",
       "      <td>1</td>\n",
       "    </tr>\n",
       "    <tr>\n",
       "      <th>1</th>\n",
       "      <td>CGCCCT GCCCTG CCCTGA CCTGAC CTGACC TGACCC GACC...</td>\n",
       "      <td>1</td>\n",
       "    </tr>\n",
       "    <tr>\n",
       "      <th>2</th>\n",
       "      <td>CGCCCT GCCCTG CCCTGA CCTGAC CTGACC TGACCC GACC...</td>\n",
       "      <td>1</td>\n",
       "    </tr>\n",
       "    <tr>\n",
       "      <th>3</th>\n",
       "      <td>CGCCCT GCCCTG CCCTGA CCTGAC CTGACC TGACCC GACC...</td>\n",
       "      <td>0</td>\n",
       "    </tr>\n",
       "    <tr>\n",
       "      <th>4</th>\n",
       "      <td>CGCCCT GCCCTG CCCTGA CCTGAC CTGACC TGACCC GACC...</td>\n",
       "      <td>1</td>\n",
       "    </tr>\n",
       "    <tr>\n",
       "      <th>...</th>\n",
       "      <td>...</td>\n",
       "      <td>...</td>\n",
       "    </tr>\n",
       "    <tr>\n",
       "      <th>969775</th>\n",
       "      <td>GACCCT ACCCTC CCCTCC CCTCCC CTCCCC TCCCCT CCCC...</td>\n",
       "      <td>1</td>\n",
       "    </tr>\n",
       "    <tr>\n",
       "      <th>969776</th>\n",
       "      <td>GACCCT ACCCTC CCCTCC CCTCCC CTCCCC TCCCCC CCCC...</td>\n",
       "      <td>0</td>\n",
       "    </tr>\n",
       "    <tr>\n",
       "      <th>969777</th>\n",
       "      <td>GACCCT ACCCTC CCCTCC CCTCCC CTCCCC TCCCCT CCCC...</td>\n",
       "      <td>1</td>\n",
       "    </tr>\n",
       "    <tr>\n",
       "      <th>969778</th>\n",
       "      <td>GACCCT ACCCTC CCCTCC CCTCCC CTCCCC TCCCCT CCCC...</td>\n",
       "      <td>0</td>\n",
       "    </tr>\n",
       "    <tr>\n",
       "      <th>969779</th>\n",
       "      <td>GACCCT ACCCTC CCCTCC CCTCCC CTCCCC TCCCCT CCCC...</td>\n",
       "      <td>1</td>\n",
       "    </tr>\n",
       "  </tbody>\n",
       "</table>\n",
       "<p>969780 rows × 2 columns</p>\n",
       "</div>"
      ],
      "text/plain": [
       "       CGCCCT GCCCTG CCCTGA CCTGAC CTGACC TGACCC GACCCC ACCCCT CCCCTG CCCTGG CCTGGA CTGGAT TGGATA GGATAA GATAAC ATAACA TAACAG AACAGA ACAGAA CAGAAG AGAAGA GAAGAG AAGAGA AGAGAA GAGAAG AGAAGC GAAGCC AAGCCT AGCCTG GCCTGG CCTGGG CTGGGA TGGGAG GGGAGA GGAGAG GAGAGC AGAGCC GAGCCC AGCCCC GCCCCG CCCCGG CCCGGG CCGGGG CGGGGT GGGGTG GGGTGG GGTGGG GTGGGG TGGGGG GGGGGT GGGGTG GGGTGG GGTGGC GTGGCC TGGCCT GGCCTT GCCTTC CCTTCC CTTCCA TTCCAT TCCATC CCATCT CATCTT ATCTTG TCTTGT CTTGTG TTGTGT TGTGTT GTGTTC TGTTCT GTTCTA TTCTAG TCTAGT CTAGTG TAGTGA AGTGAA GTGAAT TGAATC GAATCA AATCAG ATCAGA TCAGAA CAGAAC AGAACA  \\\n",
       "0       CGCCCT GCCCTG CCCTGA CCTGAC CTGACC TGACCC GACC...                                                                                                                                                                                                                                                                                                                                                                                                                                                                                                                                                            \n",
       "1       CGCCCT GCCCTG CCCTGA CCTGAC CTGACC TGACCC GACC...                                                                                                                                                                                                                                                                                                                                                                                                                                                                                                                                                            \n",
       "2       CGCCCT GCCCTG CCCTGA CCTGAC CTGACC TGACCC GACC...                                                                                                                                                                                                                                                                                                                                                                                                                                                                                                                                                            \n",
       "3       CGCCCT GCCCTG CCCTGA CCTGAC CTGACC TGACCC GACC...                                                                                                                                                                                                                                                                                                                                                                                                                                                                                                                                                            \n",
       "4       CGCCCT GCCCTG CCCTGA CCTGAC CTGACC TGACCC GACC...                                                                                                                                                                                                                                                                                                                                                                                                                                                                                                                                                            \n",
       "...                                                   ...                                                                                                                                                                                                                                                                                                                                                                                                                                                                                                                                                            \n",
       "969775  GACCCT ACCCTC CCCTCC CCTCCC CTCCCC TCCCCT CCCC...                                                                                                                                                                                                                                                                                                                                                                                                                                                                                                                                                            \n",
       "969776  GACCCT ACCCTC CCCTCC CCTCCC CTCCCC TCCCCC CCCC...                                                                                                                                                                                                                                                                                                                                                                                                                                                                                                                                                            \n",
       "969777  GACCCT ACCCTC CCCTCC CCTCCC CTCCCC TCCCCT CCCC...                                                                                                                                                                                                                                                                                                                                                                                                                                                                                                                                                            \n",
       "969778  GACCCT ACCCTC CCCTCC CCTCCC CTCCCC TCCCCT CCCC...                                                                                                                                                                                                                                                                                                                                                                                                                                                                                                                                                            \n",
       "969779  GACCCT ACCCTC CCCTCC CCTCCC CTCCCC TCCCCT CCCC...                                                                                                                                                                                                                                                                                                                                                                                                                                                                                                                                                            \n",
       "\n",
       "        0  \n",
       "0       1  \n",
       "1       1  \n",
       "2       1  \n",
       "3       0  \n",
       "4       1  \n",
       "...    ..  \n",
       "969775  1  \n",
       "969776  0  \n",
       "969777  1  \n",
       "969778  0  \n",
       "969779  1  \n",
       "\n",
       "[969780 rows x 2 columns]"
      ]
     },
     "execution_count": 91,
     "metadata": {},
     "output_type": "execute_result"
    }
   ],
   "source": [
    "df_test"
   ]
  },
  {
   "cell_type": "code",
   "execution_count": 92,
   "id": "b16317a1-28fc-4b8d-8e0a-bf6992269319",
   "metadata": {},
   "outputs": [
    {
     "data": {
      "text/plain": [
       "969780"
      ]
     },
     "execution_count": 92,
     "metadata": {},
     "output_type": "execute_result"
    }
   ],
   "source": [
    "array_test = np.load(\"/data/projects/DNABERT_snv/Manuscript_11_2023/DBSNP_output/DNABERT_data/core_prom/folder_2/TATA/Prediction_result/pred_results.npy\")\n",
    "len(array_test)"
   ]
  },
  {
   "cell_type": "code",
   "execution_count": null,
   "id": "d12308de-4d5f-420c-9ea3-dc3f9cb13854",
   "metadata": {},
   "outputs": [],
   "source": []
  }
 ],
 "metadata": {
  "kernelspec": {
   "display_name": "Python 3 (ipykernel)",
   "language": "python",
   "name": "python3"
  },
  "language_info": {
   "codemirror_mode": {
    "name": "ipython",
    "version": 3
   },
   "file_extension": ".py",
   "mimetype": "text/x-python",
   "name": "python",
   "nbconvert_exporter": "python",
   "pygments_lexer": "ipython3",
   "version": "3.10.11"
  }
 },
 "nbformat": 4,
 "nbformat_minor": 5
}
