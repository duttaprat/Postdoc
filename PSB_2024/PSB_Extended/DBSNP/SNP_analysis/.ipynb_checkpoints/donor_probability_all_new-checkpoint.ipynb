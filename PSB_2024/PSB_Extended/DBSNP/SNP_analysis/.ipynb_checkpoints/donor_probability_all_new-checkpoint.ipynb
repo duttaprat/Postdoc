{
 "cells": [
  {
   "cell_type": "code",
   "execution_count": 3,
   "id": "63f40c7b-4e9b-4626-a876-38edcd6b2686",
   "metadata": {},
   "outputs": [],
   "source": [
    "import os, glob\n",
    "import numpy as np\n",
    "import pandas as pd\n",
    "import math\n",
    "import plotly.graph_objects as go\n",
    "import plotly.express as px\n",
    "import plotly.figure_factory as ff\n",
    "import seaborn as sns\n",
    "import matplotlib.pyplot as plt\n",
    "from scipy.stats import norm\n",
    "from scipy import stats\n",
    "from statsmodels.stats.weightstats import ztest"
   ]
  },
  {
   "cell_type": "code",
   "execution_count": 10,
   "id": "55555620-9cc4-4845-bd4f-c0443960c48c",
   "metadata": {},
   "outputs": [],
   "source": [
    "non_coding_region=\"acceptor\""
   ]
  },
  {
   "cell_type": "code",
   "execution_count": 4,
   "id": "7e1bf78f-c95e-40e7-a553-4ed206291da8",
   "metadata": {},
   "outputs": [],
   "source": [
    "base_dir = \"/data/projects/DNABERT_snv/Manuscript_11_2023/DBSNP_output/DNABERT_data/acceptor/\""
   ]
  },
  {
   "cell_type": "code",
   "execution_count": 5,
   "id": "7f51a017-a684-4935-9920-bf80a213876e",
   "metadata": {},
   "outputs": [],
   "source": [
    "output_path = \"/data/projects/DNABERT_snv/Manuscript_11_2023/DBSNP_output/Varaiant_Analysis_Data/acceptor\"\n",
    "if not os.path.exists(output_path):\n",
    "    os.makedirs(output_path)"
   ]
  },
  {
   "cell_type": "code",
   "execution_count": 6,
   "id": "d0c512c7-f77d-4f25-9659-866eb47116c9",
   "metadata": {},
   "outputs": [],
   "source": [
    "def log_oods_ratio(p1,p2):\n",
    "    term1 = math.log2(p1/(1-p1))\n",
    "    term2 = math.log2(p2/(1-p2))\n",
    "    return (term1-term2)\n",
    "def calculate_diff_probab(p1,p2):\n",
    "    return((p2-p1)*max(p1,p2))"
   ]
  },
  {
   "cell_type": "code",
   "execution_count": 7,
   "id": "b1359e45-a8c0-47f8-af75-d08358716a96",
   "metadata": {},
   "outputs": [
    {
     "name": "stdout",
     "output_type": "stream",
     "text": [
      "(44830372, 11)\n"
     ]
    }
   ],
   "source": [
    "df = pd.read_csv(base_dir+\"/all_data_new.tsv\", sep= \"\\t\")\n",
    "print(df.shape)"
   ]
  },
  {
   "cell_type": "code",
   "execution_count": null,
   "id": "927633b9-cb8e-4d5c-b0ee-d5afd2814508",
   "metadata": {},
   "outputs": [
    {
     "name": "stdout",
     "output_type": "stream",
     "text": [
      "89660744 44830372.0\n",
      "(44830372, 13)\n"
     ]
    }
   ],
   "source": [
    "df_dict = {}\n",
    "df_list = []\n",
    "pred_probab = np.load(base_dir+\"/pred_results.npy\")\n",
    "print(len(pred_probab), len(pred_probab)/2)\n",
    "\n",
    "Reference_probab = pred_probab[::2]\n",
    "Alternative_probab = pred_probab[1::2]\n",
    "df['Ref_probab']=Reference_probab\n",
    "df['Alt_probab']=Alternative_probab\n",
    "print(df.shape)\n",
    "df = df[~((df['Ref_probab'] == 5) | (df['Alt_probab'] == 5))]\n",
    "df['ScoreChange'] = df.apply(lambda row: calculate_diff_probab(row['Ref_probab'], row['Alt_probab']), axis=1)\n",
    "df['LogOddRatio'] = df.apply(lambda row: log_oods_ratio(row['Ref_probab'], row['Alt_probab']), axis=1)"
   ]
  },
  {
   "cell_type": "code",
   "execution_count": null,
   "id": "3463e015-6276-4113-801d-9d713d9726b2",
   "metadata": {},
   "outputs": [],
   "source": [
    "df"
   ]
  },
  {
   "cell_type": "code",
   "execution_count": null,
   "id": "6a3b1c04-c66a-4d7b-abd6-74b4fca232df",
   "metadata": {},
   "outputs": [],
   "source": [
    "df[['chr','{}_coordinates'.format(non_coding_region)]].drop_duplicates().reset_index(drop=True)"
   ]
  },
  {
   "cell_type": "code",
   "execution_count": null,
   "id": "03346289-9120-427a-bcae-6e2faf956dec",
   "metadata": {},
   "outputs": [],
   "source": [
    "df[['chr','{}_coordinates'.format(non_coding_region), 'Ensemble_Transcript_ID']].drop_duplicates().reset_index(drop=True)"
   ]
  },
  {
   "cell_type": "code",
   "execution_count": null,
   "id": "659f90bf-b1b4-402a-9fa6-407caedfef02",
   "metadata": {},
   "outputs": [],
   "source": [
    "df[['RS_ID', 'variant_start','variant_end']].drop_duplicates().reset_index(drop=True)"
   ]
  },
  {
   "cell_type": "code",
   "execution_count": null,
   "id": "ee694163-4c7b-4913-a954-506d3efddcb6",
   "metadata": {},
   "outputs": [],
   "source": [
    "#df_interest = df_interest[((df_interest['Ref_probab']>0.5) & (df_interest['Alt_probab']<0.5))|((df_interest['Ref_probab']<0.5) & (df_interest['Alt_probab']>0.5))]\n",
    "# df_interest = concatenated_df[(concatenated_df['Ref_probab']>0.5)|(concatenated_df['Alt_probab']>0.5)]\n",
    "# df_interest\n",
    "filtered_df1 = df[(df['Ref_probab'] >= 0.5) & (df['Alt_probab'] < 0.5)]\n",
    "#filtered_df2 = df[(df['Ref_probab'] < 0.5) & (df['Alt_probab'] > 0.5)]\n",
    "df_interest = filtered_df1\n",
    "df_interest "
   ]
  },
  {
   "cell_type": "code",
   "execution_count": null,
   "id": "78d284dc-7954-4b20-8520-7739a17a8032",
   "metadata": {},
   "outputs": [],
   "source": [
    "df_interest[['chr','{}_coordinates'.format(non_coding_region)]].drop_duplicates()"
   ]
  },
  {
   "cell_type": "code",
   "execution_count": null,
   "id": "13582d2a-f78e-4186-9b00-80e4b71105d0",
   "metadata": {},
   "outputs": [],
   "source": [
    "df_interest [['RS_ID', 'variant_start','variant_end']].drop_duplicates()"
   ]
  },
  {
   "cell_type": "code",
   "execution_count": null,
   "id": "c19ccc9b-46f1-4983-9b96-af4fd6cc6bdc",
   "metadata": {},
   "outputs": [],
   "source": [
    "# Plot the figure\n",
    "counts, bins = np.histogram(df_interest['LogOddRatio'], bins=40)\n",
    "bin_midpoints = bins[:-1] + np.diff(bins)/2\n",
    "\n",
    "fig = go.Figure()\n",
    "\n",
    "fig.add_trace(go.Bar(\n",
    "    x=bin_midpoints,\n",
    "    y=counts,\n",
    "    width=np.diff(bins), # makes bars have correct widths\n",
    "    name='Histogram'\n",
    "))\n",
    "# add text labels for counts\n",
    "for i in range(len(counts)):\n",
    "    fig.add_trace(go.Scatter(\n",
    "        x=[bin_midpoints[i]],\n",
    "        y=[counts[i]],\n",
    "        text=[str(counts[i])],\n",
    "        mode='text',\n",
    "    ))\n",
    "\n",
    "fig.show()"
   ]
  },
  {
   "cell_type": "code",
   "execution_count": null,
   "id": "02542935-31fe-4e73-b1e4-8abcbfdacc86",
   "metadata": {},
   "outputs": [],
   "source": [
    "# Plot the figure\n",
    "counts, bins = np.histogram(df_interest['ScoreChange'], bins=40)\n",
    "bin_midpoints = bins[:-1] + np.diff(bins)/2\n",
    "\n",
    "fig = go.Figure()\n",
    "\n",
    "fig.add_trace(go.Bar(\n",
    "    x=bin_midpoints,\n",
    "    y=counts,\n",
    "    width=np.diff(bins), # makes bars have correct widths\n",
    "    name='Histogram'\n",
    "))\n",
    "# add text labels for counts\n",
    "for i in range(len(counts)):\n",
    "    fig.add_trace(go.Scatter(\n",
    "        x=[bin_midpoints[i]],\n",
    "        y=[counts[i]],\n",
    "        text=[str(counts[i])],\n",
    "        mode='text',\n",
    "    ))\n",
    "\n",
    "fig.show()"
   ]
  },
  {
   "cell_type": "code",
   "execution_count": null,
   "id": "142ab62a-5334-4c9c-862d-ff999319191b",
   "metadata": {},
   "outputs": [],
   "source": [
    "df_interest = df_interest[(df_interest['ScoreChange']>0.75)|(df_interest['ScoreChange']<-0.75)]\n",
    "df_interest"
   ]
  },
  {
   "cell_type": "code",
   "execution_count": null,
   "id": "f39df713-cd6c-449d-9ab5-eaf737339e63",
   "metadata": {},
   "outputs": [],
   "source": [
    "df_interest[['chr','{}_coordinates'.format(non_coding_region)]].drop_duplicates()"
   ]
  },
  {
   "cell_type": "code",
   "execution_count": null,
   "id": "093f7729-4425-4f0f-8733-0f0d7a090f36",
   "metadata": {},
   "outputs": [],
   "source": [
    "df_interest [['RS_ID', 'variant_start','variant_end']].drop_duplicates()"
   ]
  },
  {
   "cell_type": "code",
   "execution_count": null,
   "id": "bceb589c-c238-4ff7-ac3f-2d4924d0013e",
   "metadata": {},
   "outputs": [],
   "source": [
    "# df_interest = df_interest[df_interest['variant_length']==1]\n",
    "# df_interest"
   ]
  },
  {
   "cell_type": "code",
   "execution_count": null,
   "id": "c23b28a0-db15-486d-9bfc-2d270bb0a01b",
   "metadata": {},
   "outputs": [],
   "source": [
    "mean = df_interest['LogOddRatio'].mean()\n",
    "std = df_interest['LogOddRatio'].std()\n",
    "print(mean, std)"
   ]
  },
  {
   "cell_type": "code",
   "execution_count": null,
   "id": "e3d80ca2-c6de-4fbf-837b-d16d8a6c97fa",
   "metadata": {},
   "outputs": [],
   "source": [
    "max(df_interest['LogOddRatio'])"
   ]
  },
  {
   "cell_type": "code",
   "execution_count": null,
   "id": "342a3012-00ea-4dcc-b436-d1a0ca9cc928",
   "metadata": {},
   "outputs": [],
   "source": [
    "min(df_interest['LogOddRatio'])"
   ]
  },
  {
   "cell_type": "code",
   "execution_count": null,
   "id": "ce700e5c-708b-4214-9cab-695a2f53a80b",
   "metadata": {},
   "outputs": [],
   "source": [
    "#print(z_score, p_value)\n",
    "# Plot the distribution of 'LogOddRatio'\n",
    "\n",
    "sns.kdeplot(df_interest['LogOddRatio'], fill=True, linewidth=1)\n",
    "\n",
    "# # # Get the extreme values for a two tailed test at alpha = 0.05\n",
    "# z_critical = norm.ppf(1 - 0.05/2) # two-tailed test at alpha = 0.05\n",
    "\n",
    "\n",
    "# print(z_critical)\n",
    "x1, x2 = mean + 2*std, mean - 2*std\n",
    "# x1= 3.3219280948873626\n",
    "# x2 =-3.3219280948873626\n",
    "print(x2, x1)\n",
    "\n",
    "# Shade the area for the two tailed test\n",
    "plt.axvspan(min(df_interest['LogOddRatio']), x2, alpha=0.3, color='red')\n",
    "plt.axvspan(x1, max(df_interest['LogOddRatio']), alpha=0.3, color='red')\n",
    "\n",
    "# Add the observed z-score\n",
    "# plt.text(-17, 0.5, f'Left-tail value = {x2:.2f}', color='blue', ha='left', va='center')\n",
    "# plt.text(-3, 0.54, f'Right-tail value = {x1:.2f}', color='blue', ha='right', va='center')\n",
    "\n",
    "plt.title(f'Distribution of Relative Log Fold changes of Odds for Enhancer Model \\n Left-tail value = {x2:.2f};  Right-tail value = {x1:.2f}')\n",
    "plt.savefig(output_path+ '/Enhancer_LogOddRatio_Distribution.png')\n",
    "plt.show()"
   ]
  },
  {
   "cell_type": "code",
   "execution_count": null,
   "id": "84f0d768-0f1c-4849-b351-7c833586c8d6",
   "metadata": {},
   "outputs": [],
   "source": [
    "df_selected = df_interest[(df_interest['LogOddRatio']> x1)|(df_interest['LogOddRatio']<  x2)]"
   ]
  },
  {
   "cell_type": "code",
   "execution_count": null,
   "id": "04057128-4ea0-4ec6-a6ad-c4ec91076780",
   "metadata": {},
   "outputs": [],
   "source": [
    "df_selected"
   ]
  },
  {
   "cell_type": "code",
   "execution_count": null,
   "id": "e347cd8c-47b1-4ab0-a219-fadfcf5c4388",
   "metadata": {},
   "outputs": [],
   "source": [
    "len(df_selected[['chr','{}_coordinates'.format(non_coding_region)]].drop_duplicates())"
   ]
  },
  {
   "cell_type": "code",
   "execution_count": null,
   "id": "f5638ad2-5638-4276-aa2e-8a104bdf1792",
   "metadata": {},
   "outputs": [],
   "source": [
    "len(df_selected[['RS_ID', 'variant_start','variant_end']].drop_duplicates())"
   ]
  },
  {
   "cell_type": "code",
   "execution_count": null,
   "id": "d53f2301-c5ee-4608-94dc-cff02ebc6e61",
   "metadata": {},
   "outputs": [],
   "source": [
    "df_selected.to_csv(output_path+\"/{}_candidate_variants.tsv\".format(non_coding_region), sep= \"\\t\", index=False)\n",
    "df_selected[['RS_ID', 'variant_start','variant_end']].drop_duplicates().reset_index(drop=True).to_csv(output_path+\"/Unique_DBSNP_variants_ID.tsv\" ,  sep= \"\\t\", index=False)\n",
    "df_selected[['chr','{}_coordinates'.format(non_coding_region)]].drop_duplicates().reset_index(drop=True).to_csv(output_path + \"/Unique_{}_variants.tsv\".format(non_coding_region), sep=\"\\t\", index=False)"
   ]
  },
  {
   "cell_type": "code",
   "execution_count": null,
   "id": "cc4e33a4-68c7-445f-b62e-bd43dfaae5e8",
   "metadata": {},
   "outputs": [],
   "source": [
    "df_SNV = df_selected[(df_selected['ref_neucleotide'].str.len() < 5) & \n",
    "                          (df_selected['alternative_neucleotide'].str.len() < 5)]"
   ]
  },
  {
   "cell_type": "code",
   "execution_count": null,
   "id": "aa9a2fec-0652-4222-b6b3-09b209494b0d",
   "metadata": {},
   "outputs": [],
   "source": [
    "df_SNV"
   ]
  },
  {
   "cell_type": "code",
   "execution_count": null,
   "id": "6b578e30-47a4-4a57-b6cc-1ebac21a434a",
   "metadata": {},
   "outputs": [],
   "source": [
    "len(df_SNV[['RS_ID', 'variant_start','variant_end']].drop_duplicates())"
   ]
  },
  {
   "cell_type": "code",
   "execution_count": null,
   "id": "a6e7b007-2110-4cb0-86a0-142744408454",
   "metadata": {},
   "outputs": [],
   "source": [
    "len(df_SNV[['chr','{}_coordinates'.format(non_coding_region)]].drop_duplicates())"
   ]
  },
  {
   "cell_type": "code",
   "execution_count": null,
   "id": "cfefa5a5-bc6e-4def-83cb-8889cc93ea13",
   "metadata": {},
   "outputs": [],
   "source": [
    "df_SNV.to_csv(output_path+\"/{}_candidates_SNV.tsv\".format(non_coding_region), sep= \"\\t\", index=False)\n",
    "df_SNV[['RS_ID', 'variant_start','variant_end']].drop_duplicates().reset_index(drop=True).to_csv(output_path+\"/Unique_RS_SNV_ID.tsv\" ,  sep= \"\\t\", index=False)\n",
    "df_SNV[['chr','{}_coordinates'.format(non_coding_region)]].drop_duplicates().reset_index(drop=True).to_csv(output_path + \"/Unique_{}_SNV.tsv\".format(non_coding_region), sep=\"\\t\", index=False)"
   ]
  },
  {
   "cell_type": "code",
   "execution_count": null,
   "id": "ad11ff94-0a0a-4528-88d5-15a2d7aaac16",
   "metadata": {},
   "outputs": [],
   "source": []
  }
 ],
 "metadata": {
  "kernelspec": {
   "display_name": "Python 3 (ipykernel)",
   "language": "python",
   "name": "python3"
  },
  "language_info": {
   "codemirror_mode": {
    "name": "ipython",
    "version": 3
   },
   "file_extension": ".py",
   "mimetype": "text/x-python",
   "name": "python",
   "nbconvert_exporter": "python",
   "pygments_lexer": "ipython3",
   "version": "3.10.11"
  }
 },
 "nbformat": 4,
 "nbformat_minor": 5
}
