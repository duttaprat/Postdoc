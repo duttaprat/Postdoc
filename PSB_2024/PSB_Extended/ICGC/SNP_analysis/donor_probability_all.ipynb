{
 "cells": [
  {
   "cell_type": "code",
   "execution_count": 1,
   "id": "63f40c7b-4e9b-4626-a876-38edcd6b2686",
   "metadata": {},
   "outputs": [],
   "source": [
    "import os, glob\n",
    "import numpy as np\n",
    "import pandas as pd\n",
    "import math\n",
    "import plotly.graph_objects as go\n",
    "import plotly.express as px\n",
    "import plotly.figure_factory as ff\n",
    "import seaborn as sns\n",
    "import matplotlib.pyplot as plt\n",
    "from scipy.stats import norm\n",
    "from scipy import stats\n",
    "from statsmodels.stats.weightstats import ztest"
   ]
  },
  {
   "cell_type": "code",
   "execution_count": 2,
   "id": "7e1bf78f-c95e-40e7-a553-4ed206291da8",
   "metadata": {},
   "outputs": [],
   "source": [
    "base_dir = \"/data/projects/DNABERT_snv/Manuscript_11_2023/ICGC_output/DNABERT_data/donor/\""
   ]
  },
  {
   "cell_type": "code",
   "execution_count": 3,
   "id": "7f51a017-a684-4935-9920-bf80a213876e",
   "metadata": {},
   "outputs": [],
   "source": [
    "output_path = \"/data/projects/DNABERT_snv/Manuscript_11_2023/ICGC_output/Varaiant_Analysis_Data/donor\"\n",
    "if not os.path.exists(output_path):\n",
    "    os.makedirs(output_path)"
   ]
  },
  {
   "cell_type": "code",
   "execution_count": 4,
   "id": "d0c512c7-f77d-4f25-9659-866eb47116c9",
   "metadata": {},
   "outputs": [],
   "source": [
    "def log_oods_ratio(p1,p2):\n",
    "    term1 = math.log2(p1/(1-p1))\n",
    "    term2 = math.log2(p2/(1-p2))\n",
    "    return (term1-term2)\n",
    "def calculate_diff_probab(p1,p2):\n",
    "    return((p2-p1)*max(p1,p2))"
   ]
  },
  {
   "cell_type": "code",
   "execution_count": 5,
   "id": "927633b9-cb8e-4d5c-b0ee-d5afd2814508",
   "metadata": {},
   "outputs": [
    {
     "name": "stdout",
     "output_type": "stream",
     "text": [
      "11566792\n",
      "(5783396, 11)\n"
     ]
    }
   ],
   "source": [
    "df_dict = {}\n",
    "df_list = []\n",
    "pred_probab = np.load(base_dir+\"Prediction_result/pred_results.npy\")\n",
    "print(len(pred_probab))\n",
    "df = pd.read_csv(base_dir+\"/all_data_new.tsv\", sep= \"\\t\")\n",
    "print(df.shape)\n",
    "Reference_probab = pred_probab[::2]\n",
    "Alternative_probab = pred_probab[1::2]\n",
    "df['Ref_probab']=Reference_probab\n",
    "df['Alt_probab']=Alternative_probab\n",
    "df['ScoreChange'] = df.apply(lambda row: calculate_diff_probab(row['Ref_probab'], row['Alt_probab']), axis=1)\n",
    "df['LogOddRatio'] = df.apply(lambda row: log_oods_ratio(row['Ref_probab'], row['Alt_probab']), axis=1)"
   ]
  },
  {
   "cell_type": "code",
   "execution_count": 6,
   "id": "3463e015-6276-4113-801d-9d713d9726b2",
   "metadata": {},
   "outputs": [
    {
     "data": {
      "text/html": [
       "<div>\n",
       "<style scoped>\n",
       "    .dataframe tbody tr th:only-of-type {\n",
       "        vertical-align: middle;\n",
       "    }\n",
       "\n",
       "    .dataframe tbody tr th {\n",
       "        vertical-align: top;\n",
       "    }\n",
       "\n",
       "    .dataframe thead th {\n",
       "        text-align: right;\n",
       "    }\n",
       "</style>\n",
       "<table border=\"1\" class=\"dataframe\">\n",
       "  <thead>\n",
       "    <tr style=\"text-align: right;\">\n",
       "      <th></th>\n",
       "      <th>chr</th>\n",
       "      <th>strand</th>\n",
       "      <th>Donor_coordinates</th>\n",
       "      <th>Ensemble_Transcript_ID</th>\n",
       "      <th>Mutation_ID</th>\n",
       "      <th>varinat_start</th>\n",
       "      <th>variant_end</th>\n",
       "      <th>ref_neucleotide</th>\n",
       "      <th>alternative_neucleotide</th>\n",
       "      <th>reference_seq</th>\n",
       "      <th>alt_seq</th>\n",
       "      <th>Ref_probab</th>\n",
       "      <th>Alt_probab</th>\n",
       "      <th>ScoreChange</th>\n",
       "      <th>LogOddRatio</th>\n",
       "    </tr>\n",
       "  </thead>\n",
       "  <tbody>\n",
       "    <tr>\n",
       "      <th>0</th>\n",
       "      <td>chr7</td>\n",
       "      <td>+</td>\n",
       "      <td>127588526-127588605</td>\n",
       "      <td>ENST00000000233</td>\n",
       "      <td>MU80692579</td>\n",
       "      <td>127588529</td>\n",
       "      <td>127588530</td>\n",
       "      <td>G</td>\n",
       "      <td>T</td>\n",
       "      <td>CGCGGATCTTCGGGAAGAAGCAGATGCGGATTCTCATGGGTGAGGC...</td>\n",
       "      <td>CGCTGATCTTCGGGAAGAAGCAGATGCGGATTCTCATGGGTGAGGC...</td>\n",
       "      <td>0.998459</td>\n",
       "      <td>0.997893</td>\n",
       "      <td>-5.655503e-04</td>\n",
       "      <td>0.452517</td>\n",
       "    </tr>\n",
       "    <tr>\n",
       "      <th>1</th>\n",
       "      <td>chr7</td>\n",
       "      <td>+</td>\n",
       "      <td>127588526-127588605</td>\n",
       "      <td>ENST00000000233</td>\n",
       "      <td>MU90753368</td>\n",
       "      <td>127588553</td>\n",
       "      <td>127588554</td>\n",
       "      <td>G</td>\n",
       "      <td>A</td>\n",
       "      <td>CGCGGATCTTCGGGAAGAAGCAGATGCGGATTCTCATGGGTGAGGC...</td>\n",
       "      <td>CGCGGATCTTCGGGAAGAAGCAGATGCAGATTCTCATGGGTGAGGC...</td>\n",
       "      <td>0.998459</td>\n",
       "      <td>0.998403</td>\n",
       "      <td>-5.647766e-05</td>\n",
       "      <td>0.052101</td>\n",
       "    </tr>\n",
       "    <tr>\n",
       "      <th>2</th>\n",
       "      <td>chr7</td>\n",
       "      <td>+</td>\n",
       "      <td>127588526-127588605</td>\n",
       "      <td>ENST00000000233</td>\n",
       "      <td>MU115107606</td>\n",
       "      <td>127588569</td>\n",
       "      <td>127588570</td>\n",
       "      <td>G</td>\n",
       "      <td>T</td>\n",
       "      <td>CGCGGATCTTCGGGAAGAAGCAGATGCGGATTCTCATGGGTGAGGC...</td>\n",
       "      <td>CGCGGATCTTCGGGAAGAAGCAGATGCGGATTCTCATGGGTGATGC...</td>\n",
       "      <td>0.998459</td>\n",
       "      <td>0.997675</td>\n",
       "      <td>-7.832481e-04</td>\n",
       "      <td>0.594888</td>\n",
       "    </tr>\n",
       "    <tr>\n",
       "      <th>3</th>\n",
       "      <td>chr7</td>\n",
       "      <td>+</td>\n",
       "      <td>127588526-127588605</td>\n",
       "      <td>ENST00000000233</td>\n",
       "      <td>MU84868698</td>\n",
       "      <td>127588581</td>\n",
       "      <td>127588582</td>\n",
       "      <td>G</td>\n",
       "      <td>T</td>\n",
       "      <td>CGCGGATCTTCGGGAAGAAGCAGATGCGGATTCTCATGGGTGAGGC...</td>\n",
       "      <td>CGCGGATCTTCGGGAAGAAGCAGATGCGGATTCTCATGGGTGAGGC...</td>\n",
       "      <td>0.998459</td>\n",
       "      <td>0.998200</td>\n",
       "      <td>-2.587617e-04</td>\n",
       "      <td>0.224679</td>\n",
       "    </tr>\n",
       "    <tr>\n",
       "      <th>4</th>\n",
       "      <td>chr7</td>\n",
       "      <td>+</td>\n",
       "      <td>127588526-127588605</td>\n",
       "      <td>ENST00000000233</td>\n",
       "      <td>MU83704948</td>\n",
       "      <td>127588591</td>\n",
       "      <td>127588592</td>\n",
       "      <td>G</td>\n",
       "      <td>T</td>\n",
       "      <td>CGCGGATCTTCGGGAAGAAGCAGATGCGGATTCTCATGGGTGAGGC...</td>\n",
       "      <td>CGCGGATCTTCGGGAAGAAGCAGATGCGGATTCTCATGGGTGAGGC...</td>\n",
       "      <td>0.998459</td>\n",
       "      <td>0.998257</td>\n",
       "      <td>-2.016889e-04</td>\n",
       "      <td>0.178035</td>\n",
       "    </tr>\n",
       "    <tr>\n",
       "      <th>...</th>\n",
       "      <td>...</td>\n",
       "      <td>...</td>\n",
       "      <td>...</td>\n",
       "      <td>...</td>\n",
       "      <td>...</td>\n",
       "      <td>...</td>\n",
       "      <td>...</td>\n",
       "      <td>...</td>\n",
       "      <td>...</td>\n",
       "      <td>...</td>\n",
       "      <td>...</td>\n",
       "      <td>...</td>\n",
       "      <td>...</td>\n",
       "      <td>...</td>\n",
       "      <td>...</td>\n",
       "    </tr>\n",
       "    <tr>\n",
       "      <th>5783391</th>\n",
       "      <td>chr17</td>\n",
       "      <td>-</td>\n",
       "      <td>63710688-63710767</td>\n",
       "      <td>ENST00000640999</td>\n",
       "      <td>MU28664773</td>\n",
       "      <td>63710752</td>\n",
       "      <td>63710753</td>\n",
       "      <td>C</td>\n",
       "      <td>A</td>\n",
       "      <td>CCAATAACCCCTTTCTACCAAGAACCCTTTCCCACTCACCGTATGC...</td>\n",
       "      <td>CCAATAACCCCTTTCTACCAAGAACCCTTTCCCACTCACCGTATGC...</td>\n",
       "      <td>0.055276</td>\n",
       "      <td>0.043743</td>\n",
       "      <td>-6.375073e-04</td>\n",
       "      <td>0.355115</td>\n",
       "    </tr>\n",
       "    <tr>\n",
       "      <th>5783392</th>\n",
       "      <td>chr17</td>\n",
       "      <td>-</td>\n",
       "      <td>63710688-63710767</td>\n",
       "      <td>ENST00000640999</td>\n",
       "      <td>MU29299841</td>\n",
       "      <td>63710760</td>\n",
       "      <td>63710761</td>\n",
       "      <td>C</td>\n",
       "      <td>T</td>\n",
       "      <td>CCAATAACCCCTTTCTACCAAGAACCCTTTCCCACTCACCGTATGC...</td>\n",
       "      <td>CCAATAACCCCTTTCTACCAAGAACCCTTTCCCACTCACCGTATGC...</td>\n",
       "      <td>0.055276</td>\n",
       "      <td>0.053945</td>\n",
       "      <td>-7.357776e-05</td>\n",
       "      <td>0.037198</td>\n",
       "    </tr>\n",
       "    <tr>\n",
       "      <th>5783393</th>\n",
       "      <td>chr17</td>\n",
       "      <td>-</td>\n",
       "      <td>63710688-63710767</td>\n",
       "      <td>ENST00000640999</td>\n",
       "      <td>MU129502912</td>\n",
       "      <td>63710765</td>\n",
       "      <td>63710766</td>\n",
       "      <td>T</td>\n",
       "      <td>C</td>\n",
       "      <td>CCAATAACCCCTTTCTACCAAGAACCCTTTCCCACTCACCGTATGC...</td>\n",
       "      <td>CCAATAACCCCTTTCTACCAAGAACCCTTTCCCACTCACCGTATGC...</td>\n",
       "      <td>0.055276</td>\n",
       "      <td>0.061436</td>\n",
       "      <td>3.784833e-04</td>\n",
       "      <td>-0.161884</td>\n",
       "    </tr>\n",
       "    <tr>\n",
       "      <th>5783394</th>\n",
       "      <td>chr17</td>\n",
       "      <td>-</td>\n",
       "      <td>63713366-63713445</td>\n",
       "      <td>ENST00000640999</td>\n",
       "      <td>MU84546198</td>\n",
       "      <td>63713396</td>\n",
       "      <td>63713397</td>\n",
       "      <td>G</td>\n",
       "      <td>T</td>\n",
       "      <td>CCCACCCTCCCTCCATGTGACACACTCATGGTTTATTACCTGCAAG...</td>\n",
       "      <td>CCCACCCTCCCTCCATGTGACACACTCATGTTTTATTACCTGCAAG...</td>\n",
       "      <td>0.003318</td>\n",
       "      <td>0.003223</td>\n",
       "      <td>-3.149222e-07</td>\n",
       "      <td>0.042000</td>\n",
       "    </tr>\n",
       "    <tr>\n",
       "      <th>5783395</th>\n",
       "      <td>chr17</td>\n",
       "      <td>-</td>\n",
       "      <td>63713366-63713445</td>\n",
       "      <td>ENST00000640999</td>\n",
       "      <td>MU130439032</td>\n",
       "      <td>63713425</td>\n",
       "      <td>63713426</td>\n",
       "      <td>C</td>\n",
       "      <td>G</td>\n",
       "      <td>CCCACCCTCCCTCCATGTGACACACTCATGGTTTATTACCTGCAAG...</td>\n",
       "      <td>CCCACCCTCCCTCCATGTGACACACTCATGGTTTATTACCTGCAAG...</td>\n",
       "      <td>0.003318</td>\n",
       "      <td>0.002866</td>\n",
       "      <td>-1.502381e-06</td>\n",
       "      <td>0.212288</td>\n",
       "    </tr>\n",
       "  </tbody>\n",
       "</table>\n",
       "<p>5783396 rows × 15 columns</p>\n",
       "</div>"
      ],
      "text/plain": [
       "           chr strand    Donor_coordinates Ensemble_Transcript_ID  \\\n",
       "0         chr7      +  127588526-127588605        ENST00000000233   \n",
       "1         chr7      +  127588526-127588605        ENST00000000233   \n",
       "2         chr7      +  127588526-127588605        ENST00000000233   \n",
       "3         chr7      +  127588526-127588605        ENST00000000233   \n",
       "4         chr7      +  127588526-127588605        ENST00000000233   \n",
       "...        ...    ...                  ...                    ...   \n",
       "5783391  chr17      -    63710688-63710767        ENST00000640999   \n",
       "5783392  chr17      -    63710688-63710767        ENST00000640999   \n",
       "5783393  chr17      -    63710688-63710767        ENST00000640999   \n",
       "5783394  chr17      -    63713366-63713445        ENST00000640999   \n",
       "5783395  chr17      -    63713366-63713445        ENST00000640999   \n",
       "\n",
       "         Mutation_ID  varinat_start  variant_end ref_neucleotide  \\\n",
       "0         MU80692579      127588529    127588530               G   \n",
       "1         MU90753368      127588553    127588554               G   \n",
       "2        MU115107606      127588569    127588570               G   \n",
       "3         MU84868698      127588581    127588582               G   \n",
       "4         MU83704948      127588591    127588592               G   \n",
       "...              ...            ...          ...             ...   \n",
       "5783391   MU28664773       63710752     63710753               C   \n",
       "5783392   MU29299841       63710760     63710761               C   \n",
       "5783393  MU129502912       63710765     63710766               T   \n",
       "5783394   MU84546198       63713396     63713397               G   \n",
       "5783395  MU130439032       63713425     63713426               C   \n",
       "\n",
       "        alternative_neucleotide  \\\n",
       "0                             T   \n",
       "1                             A   \n",
       "2                             T   \n",
       "3                             T   \n",
       "4                             T   \n",
       "...                         ...   \n",
       "5783391                       A   \n",
       "5783392                       T   \n",
       "5783393                       C   \n",
       "5783394                       T   \n",
       "5783395                       G   \n",
       "\n",
       "                                             reference_seq  \\\n",
       "0        CGCGGATCTTCGGGAAGAAGCAGATGCGGATTCTCATGGGTGAGGC...   \n",
       "1        CGCGGATCTTCGGGAAGAAGCAGATGCGGATTCTCATGGGTGAGGC...   \n",
       "2        CGCGGATCTTCGGGAAGAAGCAGATGCGGATTCTCATGGGTGAGGC...   \n",
       "3        CGCGGATCTTCGGGAAGAAGCAGATGCGGATTCTCATGGGTGAGGC...   \n",
       "4        CGCGGATCTTCGGGAAGAAGCAGATGCGGATTCTCATGGGTGAGGC...   \n",
       "...                                                    ...   \n",
       "5783391  CCAATAACCCCTTTCTACCAAGAACCCTTTCCCACTCACCGTATGC...   \n",
       "5783392  CCAATAACCCCTTTCTACCAAGAACCCTTTCCCACTCACCGTATGC...   \n",
       "5783393  CCAATAACCCCTTTCTACCAAGAACCCTTTCCCACTCACCGTATGC...   \n",
       "5783394  CCCACCCTCCCTCCATGTGACACACTCATGGTTTATTACCTGCAAG...   \n",
       "5783395  CCCACCCTCCCTCCATGTGACACACTCATGGTTTATTACCTGCAAG...   \n",
       "\n",
       "                                                   alt_seq  Ref_probab  \\\n",
       "0        CGCTGATCTTCGGGAAGAAGCAGATGCGGATTCTCATGGGTGAGGC...    0.998459   \n",
       "1        CGCGGATCTTCGGGAAGAAGCAGATGCAGATTCTCATGGGTGAGGC...    0.998459   \n",
       "2        CGCGGATCTTCGGGAAGAAGCAGATGCGGATTCTCATGGGTGATGC...    0.998459   \n",
       "3        CGCGGATCTTCGGGAAGAAGCAGATGCGGATTCTCATGGGTGAGGC...    0.998459   \n",
       "4        CGCGGATCTTCGGGAAGAAGCAGATGCGGATTCTCATGGGTGAGGC...    0.998459   \n",
       "...                                                    ...         ...   \n",
       "5783391  CCAATAACCCCTTTCTACCAAGAACCCTTTCCCACTCACCGTATGC...    0.055276   \n",
       "5783392  CCAATAACCCCTTTCTACCAAGAACCCTTTCCCACTCACCGTATGC...    0.055276   \n",
       "5783393  CCAATAACCCCTTTCTACCAAGAACCCTTTCCCACTCACCGTATGC...    0.055276   \n",
       "5783394  CCCACCCTCCCTCCATGTGACACACTCATGTTTTATTACCTGCAAG...    0.003318   \n",
       "5783395  CCCACCCTCCCTCCATGTGACACACTCATGGTTTATTACCTGCAAG...    0.003318   \n",
       "\n",
       "         Alt_probab   ScoreChange  LogOddRatio  \n",
       "0          0.997893 -5.655503e-04     0.452517  \n",
       "1          0.998403 -5.647766e-05     0.052101  \n",
       "2          0.997675 -7.832481e-04     0.594888  \n",
       "3          0.998200 -2.587617e-04     0.224679  \n",
       "4          0.998257 -2.016889e-04     0.178035  \n",
       "...             ...           ...          ...  \n",
       "5783391    0.043743 -6.375073e-04     0.355115  \n",
       "5783392    0.053945 -7.357776e-05     0.037198  \n",
       "5783393    0.061436  3.784833e-04    -0.161884  \n",
       "5783394    0.003223 -3.149222e-07     0.042000  \n",
       "5783395    0.002866 -1.502381e-06     0.212288  \n",
       "\n",
       "[5783396 rows x 15 columns]"
      ]
     },
     "execution_count": 6,
     "metadata": {},
     "output_type": "execute_result"
    }
   ],
   "source": [
    "df"
   ]
  },
  {
   "cell_type": "code",
   "execution_count": 7,
   "id": "a68f39b9-53c8-4f2c-aa90-0e74d0d5a021",
   "metadata": {},
   "outputs": [],
   "source": [
    "df.to_csv(output_path+\"/Donor_raw_SNV.tsv\", sep= \"\\t\", index=False)"
   ]
  },
  {
   "cell_type": "code",
   "execution_count": 43,
   "id": "6a3b1c04-c66a-4d7b-abd6-74b4fca232df",
   "metadata": {},
   "outputs": [
    {
     "data": {
      "text/html": [
       "<div>\n",
       "<style scoped>\n",
       "    .dataframe tbody tr th:only-of-type {\n",
       "        vertical-align: middle;\n",
       "    }\n",
       "\n",
       "    .dataframe tbody tr th {\n",
       "        vertical-align: top;\n",
       "    }\n",
       "\n",
       "    .dataframe thead th {\n",
       "        text-align: right;\n",
       "    }\n",
       "</style>\n",
       "<table border=\"1\" class=\"dataframe\">\n",
       "  <thead>\n",
       "    <tr style=\"text-align: right;\">\n",
       "      <th></th>\n",
       "      <th>chr</th>\n",
       "      <th>strand</th>\n",
       "      <th>Donor_coordinates</th>\n",
       "      <th>Ensemble_Transcript_ID</th>\n",
       "      <th>Mutation_ID</th>\n",
       "      <th>varinat_start</th>\n",
       "      <th>variant_end</th>\n",
       "      <th>ref_neucleotide</th>\n",
       "      <th>alternative_neucleotide</th>\n",
       "      <th>reference_seq</th>\n",
       "      <th>alt_seq</th>\n",
       "      <th>Ref_probab</th>\n",
       "      <th>Alt_probab</th>\n",
       "      <th>ScoreChange</th>\n",
       "      <th>LogOddRatio</th>\n",
       "    </tr>\n",
       "  </thead>\n",
       "  <tbody>\n",
       "    <tr>\n",
       "      <th>0</th>\n",
       "      <td>chr7</td>\n",
       "      <td>+</td>\n",
       "      <td>127588526-127588605</td>\n",
       "      <td>ENST00000000233</td>\n",
       "      <td>MU80692579</td>\n",
       "      <td>127588529</td>\n",
       "      <td>127588530</td>\n",
       "      <td>G</td>\n",
       "      <td>T</td>\n",
       "      <td>CGCGGATCTTCGGGAAGAAGCAGATGCGGATTCTCATGGGTGAGGC...</td>\n",
       "      <td>CGCTGATCTTCGGGAAGAAGCAGATGCGGATTCTCATGGGTGAGGC...</td>\n",
       "      <td>0.998459</td>\n",
       "      <td>0.997893</td>\n",
       "      <td>-5.655503e-04</td>\n",
       "      <td>0.452517</td>\n",
       "    </tr>\n",
       "    <tr>\n",
       "      <th>1</th>\n",
       "      <td>chr7</td>\n",
       "      <td>+</td>\n",
       "      <td>127588526-127588605</td>\n",
       "      <td>ENST00000000233</td>\n",
       "      <td>MU90753368</td>\n",
       "      <td>127588553</td>\n",
       "      <td>127588554</td>\n",
       "      <td>G</td>\n",
       "      <td>A</td>\n",
       "      <td>CGCGGATCTTCGGGAAGAAGCAGATGCGGATTCTCATGGGTGAGGC...</td>\n",
       "      <td>CGCGGATCTTCGGGAAGAAGCAGATGCAGATTCTCATGGGTGAGGC...</td>\n",
       "      <td>0.998459</td>\n",
       "      <td>0.998403</td>\n",
       "      <td>-5.647766e-05</td>\n",
       "      <td>0.052101</td>\n",
       "    </tr>\n",
       "    <tr>\n",
       "      <th>2</th>\n",
       "      <td>chr7</td>\n",
       "      <td>+</td>\n",
       "      <td>127588526-127588605</td>\n",
       "      <td>ENST00000000233</td>\n",
       "      <td>MU115107606</td>\n",
       "      <td>127588569</td>\n",
       "      <td>127588570</td>\n",
       "      <td>G</td>\n",
       "      <td>T</td>\n",
       "      <td>CGCGGATCTTCGGGAAGAAGCAGATGCGGATTCTCATGGGTGAGGC...</td>\n",
       "      <td>CGCGGATCTTCGGGAAGAAGCAGATGCGGATTCTCATGGGTGATGC...</td>\n",
       "      <td>0.998459</td>\n",
       "      <td>0.997675</td>\n",
       "      <td>-7.832481e-04</td>\n",
       "      <td>0.594888</td>\n",
       "    </tr>\n",
       "    <tr>\n",
       "      <th>3</th>\n",
       "      <td>chr7</td>\n",
       "      <td>+</td>\n",
       "      <td>127588526-127588605</td>\n",
       "      <td>ENST00000000233</td>\n",
       "      <td>MU84868698</td>\n",
       "      <td>127588581</td>\n",
       "      <td>127588582</td>\n",
       "      <td>G</td>\n",
       "      <td>T</td>\n",
       "      <td>CGCGGATCTTCGGGAAGAAGCAGATGCGGATTCTCATGGGTGAGGC...</td>\n",
       "      <td>CGCGGATCTTCGGGAAGAAGCAGATGCGGATTCTCATGGGTGAGGC...</td>\n",
       "      <td>0.998459</td>\n",
       "      <td>0.998200</td>\n",
       "      <td>-2.587617e-04</td>\n",
       "      <td>0.224679</td>\n",
       "    </tr>\n",
       "    <tr>\n",
       "      <th>4</th>\n",
       "      <td>chr7</td>\n",
       "      <td>+</td>\n",
       "      <td>127588526-127588605</td>\n",
       "      <td>ENST00000000233</td>\n",
       "      <td>MU83704948</td>\n",
       "      <td>127588591</td>\n",
       "      <td>127588592</td>\n",
       "      <td>G</td>\n",
       "      <td>T</td>\n",
       "      <td>CGCGGATCTTCGGGAAGAAGCAGATGCGGATTCTCATGGGTGAGGC...</td>\n",
       "      <td>CGCGGATCTTCGGGAAGAAGCAGATGCGGATTCTCATGGGTGAGGC...</td>\n",
       "      <td>0.998459</td>\n",
       "      <td>0.998257</td>\n",
       "      <td>-2.016889e-04</td>\n",
       "      <td>0.178035</td>\n",
       "    </tr>\n",
       "    <tr>\n",
       "      <th>...</th>\n",
       "      <td>...</td>\n",
       "      <td>...</td>\n",
       "      <td>...</td>\n",
       "      <td>...</td>\n",
       "      <td>...</td>\n",
       "      <td>...</td>\n",
       "      <td>...</td>\n",
       "      <td>...</td>\n",
       "      <td>...</td>\n",
       "      <td>...</td>\n",
       "      <td>...</td>\n",
       "      <td>...</td>\n",
       "      <td>...</td>\n",
       "      <td>...</td>\n",
       "      <td>...</td>\n",
       "    </tr>\n",
       "    <tr>\n",
       "      <th>5783391</th>\n",
       "      <td>chr17</td>\n",
       "      <td>-</td>\n",
       "      <td>63710688-63710767</td>\n",
       "      <td>ENST00000640999</td>\n",
       "      <td>MU28664773</td>\n",
       "      <td>63710752</td>\n",
       "      <td>63710753</td>\n",
       "      <td>C</td>\n",
       "      <td>A</td>\n",
       "      <td>CCAATAACCCCTTTCTACCAAGAACCCTTTCCCACTCACCGTATGC...</td>\n",
       "      <td>CCAATAACCCCTTTCTACCAAGAACCCTTTCCCACTCACCGTATGC...</td>\n",
       "      <td>0.055276</td>\n",
       "      <td>0.043743</td>\n",
       "      <td>-6.375073e-04</td>\n",
       "      <td>0.355115</td>\n",
       "    </tr>\n",
       "    <tr>\n",
       "      <th>5783392</th>\n",
       "      <td>chr17</td>\n",
       "      <td>-</td>\n",
       "      <td>63710688-63710767</td>\n",
       "      <td>ENST00000640999</td>\n",
       "      <td>MU29299841</td>\n",
       "      <td>63710760</td>\n",
       "      <td>63710761</td>\n",
       "      <td>C</td>\n",
       "      <td>T</td>\n",
       "      <td>CCAATAACCCCTTTCTACCAAGAACCCTTTCCCACTCACCGTATGC...</td>\n",
       "      <td>CCAATAACCCCTTTCTACCAAGAACCCTTTCCCACTCACCGTATGC...</td>\n",
       "      <td>0.055276</td>\n",
       "      <td>0.053945</td>\n",
       "      <td>-7.357776e-05</td>\n",
       "      <td>0.037198</td>\n",
       "    </tr>\n",
       "    <tr>\n",
       "      <th>5783393</th>\n",
       "      <td>chr17</td>\n",
       "      <td>-</td>\n",
       "      <td>63710688-63710767</td>\n",
       "      <td>ENST00000640999</td>\n",
       "      <td>MU129502912</td>\n",
       "      <td>63710765</td>\n",
       "      <td>63710766</td>\n",
       "      <td>T</td>\n",
       "      <td>C</td>\n",
       "      <td>CCAATAACCCCTTTCTACCAAGAACCCTTTCCCACTCACCGTATGC...</td>\n",
       "      <td>CCAATAACCCCTTTCTACCAAGAACCCTTTCCCACTCACCGTATGC...</td>\n",
       "      <td>0.055276</td>\n",
       "      <td>0.061436</td>\n",
       "      <td>3.784833e-04</td>\n",
       "      <td>-0.161884</td>\n",
       "    </tr>\n",
       "    <tr>\n",
       "      <th>5783394</th>\n",
       "      <td>chr17</td>\n",
       "      <td>-</td>\n",
       "      <td>63713366-63713445</td>\n",
       "      <td>ENST00000640999</td>\n",
       "      <td>MU84546198</td>\n",
       "      <td>63713396</td>\n",
       "      <td>63713397</td>\n",
       "      <td>G</td>\n",
       "      <td>T</td>\n",
       "      <td>CCCACCCTCCCTCCATGTGACACACTCATGGTTTATTACCTGCAAG...</td>\n",
       "      <td>CCCACCCTCCCTCCATGTGACACACTCATGTTTTATTACCTGCAAG...</td>\n",
       "      <td>0.003318</td>\n",
       "      <td>0.003223</td>\n",
       "      <td>-3.149222e-07</td>\n",
       "      <td>0.042000</td>\n",
       "    </tr>\n",
       "    <tr>\n",
       "      <th>5783395</th>\n",
       "      <td>chr17</td>\n",
       "      <td>-</td>\n",
       "      <td>63713366-63713445</td>\n",
       "      <td>ENST00000640999</td>\n",
       "      <td>MU130439032</td>\n",
       "      <td>63713425</td>\n",
       "      <td>63713426</td>\n",
       "      <td>C</td>\n",
       "      <td>G</td>\n",
       "      <td>CCCACCCTCCCTCCATGTGACACACTCATGGTTTATTACCTGCAAG...</td>\n",
       "      <td>CCCACCCTCCCTCCATGTGACACACTCATGGTTTATTACCTGCAAG...</td>\n",
       "      <td>0.003318</td>\n",
       "      <td>0.002866</td>\n",
       "      <td>-1.502381e-06</td>\n",
       "      <td>0.212288</td>\n",
       "    </tr>\n",
       "  </tbody>\n",
       "</table>\n",
       "<p>5783396 rows × 15 columns</p>\n",
       "</div>"
      ],
      "text/plain": [
       "           chr strand    Donor_coordinates Ensemble_Transcript_ID  \\\n",
       "0         chr7      +  127588526-127588605        ENST00000000233   \n",
       "1         chr7      +  127588526-127588605        ENST00000000233   \n",
       "2         chr7      +  127588526-127588605        ENST00000000233   \n",
       "3         chr7      +  127588526-127588605        ENST00000000233   \n",
       "4         chr7      +  127588526-127588605        ENST00000000233   \n",
       "...        ...    ...                  ...                    ...   \n",
       "5783391  chr17      -    63710688-63710767        ENST00000640999   \n",
       "5783392  chr17      -    63710688-63710767        ENST00000640999   \n",
       "5783393  chr17      -    63710688-63710767        ENST00000640999   \n",
       "5783394  chr17      -    63713366-63713445        ENST00000640999   \n",
       "5783395  chr17      -    63713366-63713445        ENST00000640999   \n",
       "\n",
       "         Mutation_ID  varinat_start  variant_end ref_neucleotide  \\\n",
       "0         MU80692579      127588529    127588530               G   \n",
       "1         MU90753368      127588553    127588554               G   \n",
       "2        MU115107606      127588569    127588570               G   \n",
       "3         MU84868698      127588581    127588582               G   \n",
       "4         MU83704948      127588591    127588592               G   \n",
       "...              ...            ...          ...             ...   \n",
       "5783391   MU28664773       63710752     63710753               C   \n",
       "5783392   MU29299841       63710760     63710761               C   \n",
       "5783393  MU129502912       63710765     63710766               T   \n",
       "5783394   MU84546198       63713396     63713397               G   \n",
       "5783395  MU130439032       63713425     63713426               C   \n",
       "\n",
       "        alternative_neucleotide  \\\n",
       "0                             T   \n",
       "1                             A   \n",
       "2                             T   \n",
       "3                             T   \n",
       "4                             T   \n",
       "...                         ...   \n",
       "5783391                       A   \n",
       "5783392                       T   \n",
       "5783393                       C   \n",
       "5783394                       T   \n",
       "5783395                       G   \n",
       "\n",
       "                                             reference_seq  \\\n",
       "0        CGCGGATCTTCGGGAAGAAGCAGATGCGGATTCTCATGGGTGAGGC...   \n",
       "1        CGCGGATCTTCGGGAAGAAGCAGATGCGGATTCTCATGGGTGAGGC...   \n",
       "2        CGCGGATCTTCGGGAAGAAGCAGATGCGGATTCTCATGGGTGAGGC...   \n",
       "3        CGCGGATCTTCGGGAAGAAGCAGATGCGGATTCTCATGGGTGAGGC...   \n",
       "4        CGCGGATCTTCGGGAAGAAGCAGATGCGGATTCTCATGGGTGAGGC...   \n",
       "...                                                    ...   \n",
       "5783391  CCAATAACCCCTTTCTACCAAGAACCCTTTCCCACTCACCGTATGC...   \n",
       "5783392  CCAATAACCCCTTTCTACCAAGAACCCTTTCCCACTCACCGTATGC...   \n",
       "5783393  CCAATAACCCCTTTCTACCAAGAACCCTTTCCCACTCACCGTATGC...   \n",
       "5783394  CCCACCCTCCCTCCATGTGACACACTCATGGTTTATTACCTGCAAG...   \n",
       "5783395  CCCACCCTCCCTCCATGTGACACACTCATGGTTTATTACCTGCAAG...   \n",
       "\n",
       "                                                   alt_seq  Ref_probab  \\\n",
       "0        CGCTGATCTTCGGGAAGAAGCAGATGCGGATTCTCATGGGTGAGGC...    0.998459   \n",
       "1        CGCGGATCTTCGGGAAGAAGCAGATGCAGATTCTCATGGGTGAGGC...    0.998459   \n",
       "2        CGCGGATCTTCGGGAAGAAGCAGATGCGGATTCTCATGGGTGATGC...    0.998459   \n",
       "3        CGCGGATCTTCGGGAAGAAGCAGATGCGGATTCTCATGGGTGAGGC...    0.998459   \n",
       "4        CGCGGATCTTCGGGAAGAAGCAGATGCGGATTCTCATGGGTGAGGC...    0.998459   \n",
       "...                                                    ...         ...   \n",
       "5783391  CCAATAACCCCTTTCTACCAAGAACCCTTTCCCACTCACCGTATGC...    0.055276   \n",
       "5783392  CCAATAACCCCTTTCTACCAAGAACCCTTTCCCACTCACCGTATGC...    0.055276   \n",
       "5783393  CCAATAACCCCTTTCTACCAAGAACCCTTTCCCACTCACCGTATGC...    0.055276   \n",
       "5783394  CCCACCCTCCCTCCATGTGACACACTCATGTTTTATTACCTGCAAG...    0.003318   \n",
       "5783395  CCCACCCTCCCTCCATGTGACACACTCATGGTTTATTACCTGCAAG...    0.003318   \n",
       "\n",
       "         Alt_probab   ScoreChange  LogOddRatio  \n",
       "0          0.997893 -5.655503e-04     0.452517  \n",
       "1          0.998403 -5.647766e-05     0.052101  \n",
       "2          0.997675 -7.832481e-04     0.594888  \n",
       "3          0.998200 -2.587617e-04     0.224679  \n",
       "4          0.998257 -2.016889e-04     0.178035  \n",
       "...             ...           ...          ...  \n",
       "5783391    0.043743 -6.375073e-04     0.355115  \n",
       "5783392    0.053945 -7.357776e-05     0.037198  \n",
       "5783393    0.061436  3.784833e-04    -0.161884  \n",
       "5783394    0.003223 -3.149222e-07     0.042000  \n",
       "5783395    0.002866 -1.502381e-06     0.212288  \n",
       "\n",
       "[5783396 rows x 15 columns]"
      ]
     },
     "execution_count": 43,
     "metadata": {},
     "output_type": "execute_result"
    }
   ],
   "source": [
    "df= df.drop_duplicates().reset_index(drop=True)\n",
    "df"
   ]
  },
  {
   "cell_type": "code",
   "execution_count": 44,
   "id": "e7e285c0-3e39-47b8-8ebb-e45b259a9b6b",
   "metadata": {},
   "outputs": [
    {
     "data": {
      "text/html": [
       "<div>\n",
       "<style scoped>\n",
       "    .dataframe tbody tr th:only-of-type {\n",
       "        vertical-align: middle;\n",
       "    }\n",
       "\n",
       "    .dataframe tbody tr th {\n",
       "        vertical-align: top;\n",
       "    }\n",
       "\n",
       "    .dataframe thead th {\n",
       "        text-align: right;\n",
       "    }\n",
       "</style>\n",
       "<table border=\"1\" class=\"dataframe\">\n",
       "  <thead>\n",
       "    <tr style=\"text-align: right;\">\n",
       "      <th></th>\n",
       "      <th>chr</th>\n",
       "      <th>Donor_coordinates</th>\n",
       "    </tr>\n",
       "  </thead>\n",
       "  <tbody>\n",
       "    <tr>\n",
       "      <th>0</th>\n",
       "      <td>chr7</td>\n",
       "      <td>127588526-127588605</td>\n",
       "    </tr>\n",
       "    <tr>\n",
       "      <th>5</th>\n",
       "      <td>chr7</td>\n",
       "      <td>127589555-127589634</td>\n",
       "    </tr>\n",
       "    <tr>\n",
       "      <th>12</th>\n",
       "      <td>chr7</td>\n",
       "      <td>127591049-127591128</td>\n",
       "    </tr>\n",
       "    <tr>\n",
       "      <th>17</th>\n",
       "      <td>chr7</td>\n",
       "      <td>127591661-127591740</td>\n",
       "    </tr>\n",
       "    <tr>\n",
       "      <th>20</th>\n",
       "      <td>chr7</td>\n",
       "      <td>127590098-127590177</td>\n",
       "    </tr>\n",
       "    <tr>\n",
       "      <th>...</th>\n",
       "      <td>...</td>\n",
       "      <td>...</td>\n",
       "    </tr>\n",
       "    <tr>\n",
       "      <th>5783023</th>\n",
       "      <td>chr1</td>\n",
       "      <td>84370343-84370422</td>\n",
       "    </tr>\n",
       "    <tr>\n",
       "      <th>5783026</th>\n",
       "      <td>chr4</td>\n",
       "      <td>82297495-82297574</td>\n",
       "    </tr>\n",
       "    <tr>\n",
       "      <th>5783031</th>\n",
       "      <td>chr4</td>\n",
       "      <td>82320446-82320525</td>\n",
       "    </tr>\n",
       "    <tr>\n",
       "      <th>5783135</th>\n",
       "      <td>chr5</td>\n",
       "      <td>162154973-162155052</td>\n",
       "    </tr>\n",
       "    <tr>\n",
       "      <th>5783233</th>\n",
       "      <td>chr6</td>\n",
       "      <td>160491582-160491661</td>\n",
       "    </tr>\n",
       "  </tbody>\n",
       "</table>\n",
       "<p>399041 rows × 2 columns</p>\n",
       "</div>"
      ],
      "text/plain": [
       "          chr    Donor_coordinates\n",
       "0        chr7  127588526-127588605\n",
       "5        chr7  127589555-127589634\n",
       "12       chr7  127591049-127591128\n",
       "17       chr7  127591661-127591740\n",
       "20       chr7  127590098-127590177\n",
       "...       ...                  ...\n",
       "5783023  chr1    84370343-84370422\n",
       "5783026  chr4    82297495-82297574\n",
       "5783031  chr4    82320446-82320525\n",
       "5783135  chr5  162154973-162155052\n",
       "5783233  chr6  160491582-160491661\n",
       "\n",
       "[399041 rows x 2 columns]"
      ]
     },
     "execution_count": 44,
     "metadata": {},
     "output_type": "execute_result"
    }
   ],
   "source": [
    "df[['chr','Donor_coordinates']].drop_duplicates()"
   ]
  },
  {
   "cell_type": "code",
   "execution_count": 45,
   "id": "42bec2df-072b-4fc5-af4f-1e1729a3daa8",
   "metadata": {},
   "outputs": [
    {
     "data": {
      "text/html": [
       "<div>\n",
       "<style scoped>\n",
       "    .dataframe tbody tr th:only-of-type {\n",
       "        vertical-align: middle;\n",
       "    }\n",
       "\n",
       "    .dataframe tbody tr th {\n",
       "        vertical-align: top;\n",
       "    }\n",
       "\n",
       "    .dataframe thead th {\n",
       "        text-align: right;\n",
       "    }\n",
       "</style>\n",
       "<table border=\"1\" class=\"dataframe\">\n",
       "  <thead>\n",
       "    <tr style=\"text-align: right;\">\n",
       "      <th></th>\n",
       "      <th>Mutation_ID</th>\n",
       "      <th>varinat_start</th>\n",
       "      <th>variant_end</th>\n",
       "    </tr>\n",
       "  </thead>\n",
       "  <tbody>\n",
       "    <tr>\n",
       "      <th>0</th>\n",
       "      <td>MU80692579</td>\n",
       "      <td>127588529</td>\n",
       "      <td>127588530</td>\n",
       "    </tr>\n",
       "    <tr>\n",
       "      <th>1</th>\n",
       "      <td>MU90753368</td>\n",
       "      <td>127588553</td>\n",
       "      <td>127588554</td>\n",
       "    </tr>\n",
       "    <tr>\n",
       "      <th>2</th>\n",
       "      <td>MU115107606</td>\n",
       "      <td>127588569</td>\n",
       "      <td>127588570</td>\n",
       "    </tr>\n",
       "    <tr>\n",
       "      <th>3</th>\n",
       "      <td>MU84868698</td>\n",
       "      <td>127588581</td>\n",
       "      <td>127588582</td>\n",
       "    </tr>\n",
       "    <tr>\n",
       "      <th>4</th>\n",
       "      <td>MU83704948</td>\n",
       "      <td>127588591</td>\n",
       "      <td>127588592</td>\n",
       "    </tr>\n",
       "    <tr>\n",
       "      <th>...</th>\n",
       "      <td>...</td>\n",
       "      <td>...</td>\n",
       "      <td>...</td>\n",
       "    </tr>\n",
       "    <tr>\n",
       "      <th>5783033</th>\n",
       "      <td>MU67169954</td>\n",
       "      <td>82320516</td>\n",
       "      <td>82320517</td>\n",
       "    </tr>\n",
       "    <tr>\n",
       "      <th>5783135</th>\n",
       "      <td>MU112688058</td>\n",
       "      <td>162154992</td>\n",
       "      <td>162154993</td>\n",
       "    </tr>\n",
       "    <tr>\n",
       "      <th>5783136</th>\n",
       "      <td>MU70975881</td>\n",
       "      <td>162154996</td>\n",
       "      <td>162154997</td>\n",
       "    </tr>\n",
       "    <tr>\n",
       "      <th>5783233</th>\n",
       "      <td>MU37774162</td>\n",
       "      <td>160491630</td>\n",
       "      <td>160491631</td>\n",
       "    </tr>\n",
       "    <tr>\n",
       "      <th>5783234</th>\n",
       "      <td>MU64957866</td>\n",
       "      <td>160491630</td>\n",
       "      <td>160491632</td>\n",
       "    </tr>\n",
       "  </tbody>\n",
       "</table>\n",
       "<p>1725585 rows × 3 columns</p>\n",
       "</div>"
      ],
      "text/plain": [
       "         Mutation_ID  varinat_start  variant_end\n",
       "0         MU80692579      127588529    127588530\n",
       "1         MU90753368      127588553    127588554\n",
       "2        MU115107606      127588569    127588570\n",
       "3         MU84868698      127588581    127588582\n",
       "4         MU83704948      127588591    127588592\n",
       "...              ...            ...          ...\n",
       "5783033   MU67169954       82320516     82320517\n",
       "5783135  MU112688058      162154992    162154993\n",
       "5783136   MU70975881      162154996    162154997\n",
       "5783233   MU37774162      160491630    160491631\n",
       "5783234   MU64957866      160491630    160491632\n",
       "\n",
       "[1725585 rows x 3 columns]"
      ]
     },
     "execution_count": 45,
     "metadata": {},
     "output_type": "execute_result"
    }
   ],
   "source": [
    "df[['Mutation_ID', 'varinat_start','variant_end']].drop_duplicates()"
   ]
  },
  {
   "cell_type": "code",
   "execution_count": 46,
   "id": "ee694163-4c7b-4913-a954-506d3efddcb6",
   "metadata": {},
   "outputs": [
    {
     "data": {
      "text/html": [
       "<div>\n",
       "<style scoped>\n",
       "    .dataframe tbody tr th:only-of-type {\n",
       "        vertical-align: middle;\n",
       "    }\n",
       "\n",
       "    .dataframe tbody tr th {\n",
       "        vertical-align: top;\n",
       "    }\n",
       "\n",
       "    .dataframe thead th {\n",
       "        text-align: right;\n",
       "    }\n",
       "</style>\n",
       "<table border=\"1\" class=\"dataframe\">\n",
       "  <thead>\n",
       "    <tr style=\"text-align: right;\">\n",
       "      <th></th>\n",
       "      <th>chr</th>\n",
       "      <th>strand</th>\n",
       "      <th>Donor_coordinates</th>\n",
       "      <th>Ensemble_Transcript_ID</th>\n",
       "      <th>Mutation_ID</th>\n",
       "      <th>varinat_start</th>\n",
       "      <th>variant_end</th>\n",
       "      <th>ref_neucleotide</th>\n",
       "      <th>alternative_neucleotide</th>\n",
       "      <th>reference_seq</th>\n",
       "      <th>alt_seq</th>\n",
       "      <th>Ref_probab</th>\n",
       "      <th>Alt_probab</th>\n",
       "      <th>ScoreChange</th>\n",
       "      <th>LogOddRatio</th>\n",
       "    </tr>\n",
       "  </thead>\n",
       "  <tbody>\n",
       "    <tr>\n",
       "      <th>73</th>\n",
       "      <td>chr12</td>\n",
       "      <td>+</td>\n",
       "      <td>2797832-2797911</td>\n",
       "      <td>ENST00000001008</td>\n",
       "      <td>MU5033497</td>\n",
       "      <td>2797843</td>\n",
       "      <td>2797845</td>\n",
       "      <td>TC</td>\n",
       "      <td>T</td>\n",
       "      <td>CCTCCAAAGATTCCCCCCAATGCCACGCTTGTATTTGAGGTGAGTG...</td>\n",
       "      <td>CCTCCAAAGATTCCCCCAATGCCACGCTTGTATTTGAGGTGAGTGT...</td>\n",
       "      <td>0.992869</td>\n",
       "      <td>0.153562</td>\n",
       "      <td>-0.833322</td>\n",
       "      <td>9.583951</td>\n",
       "    </tr>\n",
       "    <tr>\n",
       "      <th>88</th>\n",
       "      <td>chr12</td>\n",
       "      <td>+</td>\n",
       "      <td>2800538-2800617</td>\n",
       "      <td>ENST00000001008</td>\n",
       "      <td>MU131889214</td>\n",
       "      <td>2800576</td>\n",
       "      <td>2800577</td>\n",
       "      <td>G</td>\n",
       "      <td>C</td>\n",
       "      <td>CTACAGGCCTTCTCTGCTGCCATTGAAAGCTGTAACAAGGTGAGGC...</td>\n",
       "      <td>CTACAGGCCTTCTCTGCTGCCATTGAAAGCTGTAACAACGTGAGGC...</td>\n",
       "      <td>0.964617</td>\n",
       "      <td>0.306017</td>\n",
       "      <td>-0.635297</td>\n",
       "      <td>5.950128</td>\n",
       "    </tr>\n",
       "    <tr>\n",
       "      <th>128</th>\n",
       "      <td>chr2</td>\n",
       "      <td>-</td>\n",
       "      <td>72143949-72144028</td>\n",
       "      <td>ENST00000001146</td>\n",
       "      <td>MU85827592</td>\n",
       "      <td>72143963</td>\n",
       "      <td>72143964</td>\n",
       "      <td>G</td>\n",
       "      <td>T</td>\n",
       "      <td>GGGAGGGATTGCGCGGAAGAAAACGGGCAGAGTTCTTACCTTGCGC...</td>\n",
       "      <td>GGGAGGGATTGCGCTGAAGAAAACGGGCAGAGTTCTTACCTTGCGC...</td>\n",
       "      <td>0.659756</td>\n",
       "      <td>0.431912</td>\n",
       "      <td>-0.150322</td>\n",
       "      <td>1.350742</td>\n",
       "    </tr>\n",
       "    <tr>\n",
       "      <th>130</th>\n",
       "      <td>chr2</td>\n",
       "      <td>-</td>\n",
       "      <td>72143949-72144028</td>\n",
       "      <td>ENST00000001146</td>\n",
       "      <td>MU129667051</td>\n",
       "      <td>72143988</td>\n",
       "      <td>72143989</td>\n",
       "      <td>C</td>\n",
       "      <td>A</td>\n",
       "      <td>GGGAGGGATTGCGCGGAAGAAAACGGGCAGAGTTCTTACCTTGCGC...</td>\n",
       "      <td>GGGAGGGATTGCGCGGAAGAAAACGGGCAGAGTTCTTACATTGCGC...</td>\n",
       "      <td>0.659756</td>\n",
       "      <td>0.338882</td>\n",
       "      <td>-0.211698</td>\n",
       "      <td>1.919486</td>\n",
       "    </tr>\n",
       "    <tr>\n",
       "      <th>140</th>\n",
       "      <td>chr2</td>\n",
       "      <td>-</td>\n",
       "      <td>72134721-72134800</td>\n",
       "      <td>ENST00000001146</td>\n",
       "      <td>MU52359135</td>\n",
       "      <td>72134740</td>\n",
       "      <td>72134741</td>\n",
       "      <td>GG</td>\n",
       "      <td>AA</td>\n",
       "      <td>GTGCTGGTGCTGCCCGTGAGGGGCACACGCCCACCCCACCTTCAGC...</td>\n",
       "      <td>GTGCTGGTGCTGCCCGTGAAAGGGCACACGCCCACCCCACCTTCAG...</td>\n",
       "      <td>0.821039</td>\n",
       "      <td>0.405282</td>\n",
       "      <td>-0.341353</td>\n",
       "      <td>2.751086</td>\n",
       "    </tr>\n",
       "    <tr>\n",
       "      <th>...</th>\n",
       "      <td>...</td>\n",
       "      <td>...</td>\n",
       "      <td>...</td>\n",
       "      <td>...</td>\n",
       "      <td>...</td>\n",
       "      <td>...</td>\n",
       "      <td>...</td>\n",
       "      <td>...</td>\n",
       "      <td>...</td>\n",
       "      <td>...</td>\n",
       "      <td>...</td>\n",
       "      <td>...</td>\n",
       "      <td>...</td>\n",
       "      <td>...</td>\n",
       "      <td>...</td>\n",
       "    </tr>\n",
       "    <tr>\n",
       "      <th>5783285</th>\n",
       "      <td>chr20</td>\n",
       "      <td>+</td>\n",
       "      <td>45420184-45420263</td>\n",
       "      <td>ENST00000640996</td>\n",
       "      <td>MU1827143</td>\n",
       "      <td>45420205</td>\n",
       "      <td>45420206</td>\n",
       "      <td>C</td>\n",
       "      <td>T</td>\n",
       "      <td>TTGTATTTGATGCCTTCATCACGGGGCAGGGAAAGAAAGGTAAGTT...</td>\n",
       "      <td>TTGTATTTGATGCCTTCATCATGGGGCAGGGAAAGAAAGGTAAGTT...</td>\n",
       "      <td>0.551069</td>\n",
       "      <td>0.386065</td>\n",
       "      <td>-0.090929</td>\n",
       "      <td>0.964983</td>\n",
       "    </tr>\n",
       "    <tr>\n",
       "      <th>5783290</th>\n",
       "      <td>chr20</td>\n",
       "      <td>+</td>\n",
       "      <td>45420184-45420263</td>\n",
       "      <td>ENST00000640996</td>\n",
       "      <td>MU94201780</td>\n",
       "      <td>45420232</td>\n",
       "      <td>45420233</td>\n",
       "      <td>C</td>\n",
       "      <td>G</td>\n",
       "      <td>TTGTATTTGATGCCTTCATCACGGGGCAGGGAAAGAAAGGTAAGTT...</td>\n",
       "      <td>TTGTATTTGATGCCTTCATCACGGGGCAGGGAAAGAAAGGTAAGTT...</td>\n",
       "      <td>0.551069</td>\n",
       "      <td>0.384144</td>\n",
       "      <td>-0.091987</td>\n",
       "      <td>0.976683</td>\n",
       "    </tr>\n",
       "    <tr>\n",
       "      <th>5783291</th>\n",
       "      <td>chr20</td>\n",
       "      <td>+</td>\n",
       "      <td>45420184-45420263</td>\n",
       "      <td>ENST00000640996</td>\n",
       "      <td>MU82840541</td>\n",
       "      <td>45420240</td>\n",
       "      <td>45420241</td>\n",
       "      <td>C</td>\n",
       "      <td>G</td>\n",
       "      <td>TTGTATTTGATGCCTTCATCACGGGGCAGGGAAAGAAAGGTAAGTT...</td>\n",
       "      <td>TTGTATTTGATGCCTTCATCACGGGGCAGGGAAAGAAAGGTAAGTT...</td>\n",
       "      <td>0.551069</td>\n",
       "      <td>0.413457</td>\n",
       "      <td>-0.075833</td>\n",
       "      <td>0.800236</td>\n",
       "    </tr>\n",
       "    <tr>\n",
       "      <th>5783319</th>\n",
       "      <td>chr20</td>\n",
       "      <td>+</td>\n",
       "      <td>45416655-45416734</td>\n",
       "      <td>ENST00000640996</td>\n",
       "      <td>MU82482288</td>\n",
       "      <td>45416673</td>\n",
       "      <td>45416674</td>\n",
       "      <td>G</td>\n",
       "      <td>T</td>\n",
       "      <td>TGCAGAGCTGTGGGTCTGGTTCCAAGACACTGTCACTGAGTGAGTG...</td>\n",
       "      <td>TGCAGAGCTGTGGGTCTGTTTCCAAGACACTGTCACTGAGTGAGTG...</td>\n",
       "      <td>0.804348</td>\n",
       "      <td>0.221732</td>\n",
       "      <td>-0.468626</td>\n",
       "      <td>3.850979</td>\n",
       "    </tr>\n",
       "    <tr>\n",
       "      <th>5783322</th>\n",
       "      <td>chr20</td>\n",
       "      <td>+</td>\n",
       "      <td>45416655-45416734</td>\n",
       "      <td>ENST00000640996</td>\n",
       "      <td>MU40171603</td>\n",
       "      <td>45416685</td>\n",
       "      <td>45416686</td>\n",
       "      <td>T</td>\n",
       "      <td>A</td>\n",
       "      <td>TGCAGAGCTGTGGGTCTGGTTCCAAGACACTGTCACTGAGTGAGTG...</td>\n",
       "      <td>TGCAGAGCTGTGGGTCTGGTTCCAAGACACAGTCACTGAGTGAGTG...</td>\n",
       "      <td>0.804348</td>\n",
       "      <td>0.408772</td>\n",
       "      <td>-0.318181</td>\n",
       "      <td>2.571946</td>\n",
       "    </tr>\n",
       "  </tbody>\n",
       "</table>\n",
       "<p>190741 rows × 15 columns</p>\n",
       "</div>"
      ],
      "text/plain": [
       "           chr strand  Donor_coordinates Ensemble_Transcript_ID  Mutation_ID  \\\n",
       "73       chr12      +    2797832-2797911        ENST00000001008    MU5033497   \n",
       "88       chr12      +    2800538-2800617        ENST00000001008  MU131889214   \n",
       "128       chr2      -  72143949-72144028        ENST00000001146   MU85827592   \n",
       "130       chr2      -  72143949-72144028        ENST00000001146  MU129667051   \n",
       "140       chr2      -  72134721-72134800        ENST00000001146   MU52359135   \n",
       "...        ...    ...                ...                    ...          ...   \n",
       "5783285  chr20      +  45420184-45420263        ENST00000640996    MU1827143   \n",
       "5783290  chr20      +  45420184-45420263        ENST00000640996   MU94201780   \n",
       "5783291  chr20      +  45420184-45420263        ENST00000640996   MU82840541   \n",
       "5783319  chr20      +  45416655-45416734        ENST00000640996   MU82482288   \n",
       "5783322  chr20      +  45416655-45416734        ENST00000640996   MU40171603   \n",
       "\n",
       "         varinat_start  variant_end ref_neucleotide alternative_neucleotide  \\\n",
       "73             2797843      2797845              TC                       T   \n",
       "88             2800576      2800577               G                       C   \n",
       "128           72143963     72143964               G                       T   \n",
       "130           72143988     72143989               C                       A   \n",
       "140           72134740     72134741              GG                      AA   \n",
       "...                ...          ...             ...                     ...   \n",
       "5783285       45420205     45420206               C                       T   \n",
       "5783290       45420232     45420233               C                       G   \n",
       "5783291       45420240     45420241               C                       G   \n",
       "5783319       45416673     45416674               G                       T   \n",
       "5783322       45416685     45416686               T                       A   \n",
       "\n",
       "                                             reference_seq  \\\n",
       "73       CCTCCAAAGATTCCCCCCAATGCCACGCTTGTATTTGAGGTGAGTG...   \n",
       "88       CTACAGGCCTTCTCTGCTGCCATTGAAAGCTGTAACAAGGTGAGGC...   \n",
       "128      GGGAGGGATTGCGCGGAAGAAAACGGGCAGAGTTCTTACCTTGCGC...   \n",
       "130      GGGAGGGATTGCGCGGAAGAAAACGGGCAGAGTTCTTACCTTGCGC...   \n",
       "140      GTGCTGGTGCTGCCCGTGAGGGGCACACGCCCACCCCACCTTCAGC...   \n",
       "...                                                    ...   \n",
       "5783285  TTGTATTTGATGCCTTCATCACGGGGCAGGGAAAGAAAGGTAAGTT...   \n",
       "5783290  TTGTATTTGATGCCTTCATCACGGGGCAGGGAAAGAAAGGTAAGTT...   \n",
       "5783291  TTGTATTTGATGCCTTCATCACGGGGCAGGGAAAGAAAGGTAAGTT...   \n",
       "5783319  TGCAGAGCTGTGGGTCTGGTTCCAAGACACTGTCACTGAGTGAGTG...   \n",
       "5783322  TGCAGAGCTGTGGGTCTGGTTCCAAGACACTGTCACTGAGTGAGTG...   \n",
       "\n",
       "                                                   alt_seq  Ref_probab  \\\n",
       "73       CCTCCAAAGATTCCCCCAATGCCACGCTTGTATTTGAGGTGAGTGT...    0.992869   \n",
       "88       CTACAGGCCTTCTCTGCTGCCATTGAAAGCTGTAACAACGTGAGGC...    0.964617   \n",
       "128      GGGAGGGATTGCGCTGAAGAAAACGGGCAGAGTTCTTACCTTGCGC...    0.659756   \n",
       "130      GGGAGGGATTGCGCGGAAGAAAACGGGCAGAGTTCTTACATTGCGC...    0.659756   \n",
       "140      GTGCTGGTGCTGCCCGTGAAAGGGCACACGCCCACCCCACCTTCAG...    0.821039   \n",
       "...                                                    ...         ...   \n",
       "5783285  TTGTATTTGATGCCTTCATCATGGGGCAGGGAAAGAAAGGTAAGTT...    0.551069   \n",
       "5783290  TTGTATTTGATGCCTTCATCACGGGGCAGGGAAAGAAAGGTAAGTT...    0.551069   \n",
       "5783291  TTGTATTTGATGCCTTCATCACGGGGCAGGGAAAGAAAGGTAAGTT...    0.551069   \n",
       "5783319  TGCAGAGCTGTGGGTCTGTTTCCAAGACACTGTCACTGAGTGAGTG...    0.804348   \n",
       "5783322  TGCAGAGCTGTGGGTCTGGTTCCAAGACACAGTCACTGAGTGAGTG...    0.804348   \n",
       "\n",
       "         Alt_probab  ScoreChange  LogOddRatio  \n",
       "73         0.153562    -0.833322     9.583951  \n",
       "88         0.306017    -0.635297     5.950128  \n",
       "128        0.431912    -0.150322     1.350742  \n",
       "130        0.338882    -0.211698     1.919486  \n",
       "140        0.405282    -0.341353     2.751086  \n",
       "...             ...          ...          ...  \n",
       "5783285    0.386065    -0.090929     0.964983  \n",
       "5783290    0.384144    -0.091987     0.976683  \n",
       "5783291    0.413457    -0.075833     0.800236  \n",
       "5783319    0.221732    -0.468626     3.850979  \n",
       "5783322    0.408772    -0.318181     2.571946  \n",
       "\n",
       "[190741 rows x 15 columns]"
      ]
     },
     "execution_count": 46,
     "metadata": {},
     "output_type": "execute_result"
    }
   ],
   "source": [
    "#df_interest = df_interest[((df_interest['Ref_probab']>0.5) & (df_interest['Alt_probab']<0.5))|((df_interest['Ref_probab']<0.5) & (df_interest['Alt_probab']>0.5))]\n",
    "# df_interest = concatenated_df[(concatenated_df['Ref_probab']>0.5)|(concatenated_df['Alt_probab']>0.5)]\n",
    "# df_interest\n",
    "filtered_df1 = df[(df['Ref_probab'] >= 0.5) & (df['Alt_probab'] < 0.5)]\n",
    "#filtered_df2 = df[(df['Ref_probab'] < 0.5) & (df['Alt_probab'] > 0.5)]\n",
    "df_interest = filtered_df1\n",
    "df_interest "
   ]
  },
  {
   "cell_type": "code",
   "execution_count": 47,
   "id": "13582d2a-f78e-4186-9b00-80e4b71105d0",
   "metadata": {},
   "outputs": [
    {
     "data": {
      "text/html": [
       "<div>\n",
       "<style scoped>\n",
       "    .dataframe tbody tr th:only-of-type {\n",
       "        vertical-align: middle;\n",
       "    }\n",
       "\n",
       "    .dataframe tbody tr th {\n",
       "        vertical-align: top;\n",
       "    }\n",
       "\n",
       "    .dataframe thead th {\n",
       "        text-align: right;\n",
       "    }\n",
       "</style>\n",
       "<table border=\"1\" class=\"dataframe\">\n",
       "  <thead>\n",
       "    <tr style=\"text-align: right;\">\n",
       "      <th></th>\n",
       "      <th>Mutation_ID</th>\n",
       "      <th>varinat_start</th>\n",
       "      <th>variant_end</th>\n",
       "    </tr>\n",
       "  </thead>\n",
       "  <tbody>\n",
       "    <tr>\n",
       "      <th>73</th>\n",
       "      <td>MU5033497</td>\n",
       "      <td>2797843</td>\n",
       "      <td>2797845</td>\n",
       "    </tr>\n",
       "    <tr>\n",
       "      <th>88</th>\n",
       "      <td>MU131889214</td>\n",
       "      <td>2800576</td>\n",
       "      <td>2800577</td>\n",
       "    </tr>\n",
       "    <tr>\n",
       "      <th>128</th>\n",
       "      <td>MU85827592</td>\n",
       "      <td>72143963</td>\n",
       "      <td>72143964</td>\n",
       "    </tr>\n",
       "    <tr>\n",
       "      <th>130</th>\n",
       "      <td>MU129667051</td>\n",
       "      <td>72143988</td>\n",
       "      <td>72143989</td>\n",
       "    </tr>\n",
       "    <tr>\n",
       "      <th>140</th>\n",
       "      <td>MU52359135</td>\n",
       "      <td>72134740</td>\n",
       "      <td>72134741</td>\n",
       "    </tr>\n",
       "    <tr>\n",
       "      <th>...</th>\n",
       "      <td>...</td>\n",
       "      <td>...</td>\n",
       "      <td>...</td>\n",
       "    </tr>\n",
       "    <tr>\n",
       "      <th>5777894</th>\n",
       "      <td>MU81648379</td>\n",
       "      <td>205074042</td>\n",
       "      <td>205074043</td>\n",
       "    </tr>\n",
       "    <tr>\n",
       "      <th>5779427</th>\n",
       "      <td>MU32049529</td>\n",
       "      <td>165208262</td>\n",
       "      <td>165208263</td>\n",
       "    </tr>\n",
       "    <tr>\n",
       "      <th>5779430</th>\n",
       "      <td>MU41135590</td>\n",
       "      <td>165208301</td>\n",
       "      <td>165208302</td>\n",
       "    </tr>\n",
       "    <tr>\n",
       "      <th>5782117</th>\n",
       "      <td>MU129277190</td>\n",
       "      <td>6498239</td>\n",
       "      <td>6498240</td>\n",
       "    </tr>\n",
       "    <tr>\n",
       "      <th>5783234</th>\n",
       "      <td>MU64957866</td>\n",
       "      <td>160491630</td>\n",
       "      <td>160491632</td>\n",
       "    </tr>\n",
       "  </tbody>\n",
       "</table>\n",
       "<p>59986 rows × 3 columns</p>\n",
       "</div>"
      ],
      "text/plain": [
       "         Mutation_ID  varinat_start  variant_end\n",
       "73         MU5033497        2797843      2797845\n",
       "88       MU131889214        2800576      2800577\n",
       "128       MU85827592       72143963     72143964\n",
       "130      MU129667051       72143988     72143989\n",
       "140       MU52359135       72134740     72134741\n",
       "...              ...            ...          ...\n",
       "5777894   MU81648379      205074042    205074043\n",
       "5779427   MU32049529      165208262    165208263\n",
       "5779430   MU41135590      165208301    165208302\n",
       "5782117  MU129277190        6498239      6498240\n",
       "5783234   MU64957866      160491630    160491632\n",
       "\n",
       "[59986 rows x 3 columns]"
      ]
     },
     "execution_count": 47,
     "metadata": {},
     "output_type": "execute_result"
    }
   ],
   "source": [
    "df_interest [['Mutation_ID', 'varinat_start','variant_end']].drop_duplicates()"
   ]
  },
  {
   "cell_type": "code",
   "execution_count": 48,
   "id": "78d284dc-7954-4b20-8520-7739a17a8032",
   "metadata": {},
   "outputs": [
    {
     "data": {
      "text/html": [
       "<div>\n",
       "<style scoped>\n",
       "    .dataframe tbody tr th:only-of-type {\n",
       "        vertical-align: middle;\n",
       "    }\n",
       "\n",
       "    .dataframe tbody tr th {\n",
       "        vertical-align: top;\n",
       "    }\n",
       "\n",
       "    .dataframe thead th {\n",
       "        text-align: right;\n",
       "    }\n",
       "</style>\n",
       "<table border=\"1\" class=\"dataframe\">\n",
       "  <thead>\n",
       "    <tr style=\"text-align: right;\">\n",
       "      <th></th>\n",
       "      <th>chr</th>\n",
       "      <th>Donor_coordinates</th>\n",
       "    </tr>\n",
       "  </thead>\n",
       "  <tbody>\n",
       "    <tr>\n",
       "      <th>73</th>\n",
       "      <td>chr12</td>\n",
       "      <td>2797832-2797911</td>\n",
       "    </tr>\n",
       "    <tr>\n",
       "      <th>88</th>\n",
       "      <td>chr12</td>\n",
       "      <td>2800538-2800617</td>\n",
       "    </tr>\n",
       "    <tr>\n",
       "      <th>128</th>\n",
       "      <td>chr2</td>\n",
       "      <td>72143949-72144028</td>\n",
       "    </tr>\n",
       "    <tr>\n",
       "      <th>140</th>\n",
       "      <td>chr2</td>\n",
       "      <td>72134721-72134800</td>\n",
       "    </tr>\n",
       "    <tr>\n",
       "      <th>167</th>\n",
       "      <td>chr2</td>\n",
       "      <td>37242654-37242733</td>\n",
       "    </tr>\n",
       "    <tr>\n",
       "      <th>...</th>\n",
       "      <td>...</td>\n",
       "      <td>...</td>\n",
       "    </tr>\n",
       "    <tr>\n",
       "      <th>5777730</th>\n",
       "      <td>chr17</td>\n",
       "      <td>63707211-63707290</td>\n",
       "    </tr>\n",
       "    <tr>\n",
       "      <th>5777894</th>\n",
       "      <td>chr1</td>\n",
       "      <td>205074003-205074082</td>\n",
       "    </tr>\n",
       "    <tr>\n",
       "      <th>5779427</th>\n",
       "      <td>chr2</td>\n",
       "      <td>165208226-165208305</td>\n",
       "    </tr>\n",
       "    <tr>\n",
       "      <th>5782117</th>\n",
       "      <td>chr11</td>\n",
       "      <td>6498200-6498279</td>\n",
       "    </tr>\n",
       "    <tr>\n",
       "      <th>5783234</th>\n",
       "      <td>chr6</td>\n",
       "      <td>160491582-160491661</td>\n",
       "    </tr>\n",
       "  </tbody>\n",
       "</table>\n",
       "<p>32760 rows × 2 columns</p>\n",
       "</div>"
      ],
      "text/plain": [
       "           chr    Donor_coordinates\n",
       "73       chr12      2797832-2797911\n",
       "88       chr12      2800538-2800617\n",
       "128       chr2    72143949-72144028\n",
       "140       chr2    72134721-72134800\n",
       "167       chr2    37242654-37242733\n",
       "...        ...                  ...\n",
       "5777730  chr17    63707211-63707290\n",
       "5777894   chr1  205074003-205074082\n",
       "5779427   chr2  165208226-165208305\n",
       "5782117  chr11      6498200-6498279\n",
       "5783234   chr6  160491582-160491661\n",
       "\n",
       "[32760 rows x 2 columns]"
      ]
     },
     "execution_count": 48,
     "metadata": {},
     "output_type": "execute_result"
    }
   ],
   "source": [
    "df_interest[['chr','Donor_coordinates']].drop_duplicates()"
   ]
  },
  {
   "cell_type": "code",
   "execution_count": 49,
   "id": "c19ccc9b-46f1-4983-9b96-af4fd6cc6bdc",
   "metadata": {},
   "outputs": [
    {
     "data": {
      "application/vnd.plotly.v1+json": {
       "config": {
        "plotlyServerURL": "https://plot.ly"
       },
       "data": [
        {
         "name": "Histogram",
         "type": "bar",
         "width": [
          0.43148334718862724,
          0.4314833471886273,
          0.43148334718862713,
          0.43148334718862724,
          0.43148334718862746,
          0.43148334718862724,
          0.43148334718862724,
          0.43148334718862724,
          0.43148334718862724,
          0.4314833471886268,
          0.43148334718862724,
          0.43148334718862724,
          0.43148334718862724,
          0.43148334718862724,
          0.43148334718862724,
          0.43148334718862724,
          0.43148334718862724,
          0.43148334718862724,
          0.43148334718862724,
          0.43148334718862813,
          0.43148334718862813,
          0.43148334718862635,
          0.43148334718862635,
          0.43148334718862813,
          0.43148334718862813,
          0.43148334718862635,
          0.43148334718862635,
          0.43148334718862813,
          0.43148334718862813,
          0.43148334718862635,
          0.43148334718862635,
          0.43148334718862813,
          0.43148334718862813,
          0.43148334718862635,
          0.43148334718862635,
          0.43148334718862813,
          0.43148334718862813,
          0.4314833471886228,
          0.43148334718862813,
          0.43148334718862813
         ],
         "x": [
          0.22226377451675355,
          0.6537471217053809,
          1.085230468894008,
          1.5167138160826352,
          1.9481971632712627,
          2.37968051045989,
          2.811163857648517,
          3.2426472048371444,
          3.6741305520257717,
          4.105613899214399,
          4.537097246403025,
          4.968580593591653,
          5.40006394078028,
          5.831547287968908,
          6.263030635157534,
          6.694513982346162,
          7.125997329534789,
          7.557480676723417,
          7.988964023912043,
          8.420447371100671,
          8.8519307182893,
          9.283414065477928,
          9.714897412666552,
          10.14638075985518,
          10.577864107043808,
          11.009347454232437,
          11.440830801421061,
          11.87231414860969,
          12.303797495798317,
          12.735280842986946,
          13.16676419017557,
          13.598247537364198,
          14.029730884552826,
          14.461214231741454,
          14.892697578930079,
          15.324180926118707,
          15.755664273307335,
          16.18714762049596,
          16.618630967684588,
          17.050114314873213
         ],
         "y": [
          10411,
          19829,
          20068,
          16849,
          14117,
          10546,
          8914,
          7665,
          6297,
          6106,
          5666,
          5317,
          5523,
          4936,
          5063,
          4941,
          4636,
          5284,
          4211,
          3827,
          3229,
          2974,
          2408,
          2083,
          1969,
          1720,
          1462,
          1034,
          926,
          693,
          659,
          519,
          281,
          186,
          121,
          124,
          51,
          64,
          20,
          12
         ]
        },
        {
         "mode": "text",
         "text": [
          "10411"
         ],
         "type": "scatter",
         "x": [
          0.22226377451675355
         ],
         "y": [
          10411
         ]
        },
        {
         "mode": "text",
         "text": [
          "19829"
         ],
         "type": "scatter",
         "x": [
          0.6537471217053809
         ],
         "y": [
          19829
         ]
        },
        {
         "mode": "text",
         "text": [
          "20068"
         ],
         "type": "scatter",
         "x": [
          1.085230468894008
         ],
         "y": [
          20068
         ]
        },
        {
         "mode": "text",
         "text": [
          "16849"
         ],
         "type": "scatter",
         "x": [
          1.5167138160826352
         ],
         "y": [
          16849
         ]
        },
        {
         "mode": "text",
         "text": [
          "14117"
         ],
         "type": "scatter",
         "x": [
          1.9481971632712627
         ],
         "y": [
          14117
         ]
        },
        {
         "mode": "text",
         "text": [
          "10546"
         ],
         "type": "scatter",
         "x": [
          2.37968051045989
         ],
         "y": [
          10546
         ]
        },
        {
         "mode": "text",
         "text": [
          "8914"
         ],
         "type": "scatter",
         "x": [
          2.811163857648517
         ],
         "y": [
          8914
         ]
        },
        {
         "mode": "text",
         "text": [
          "7665"
         ],
         "type": "scatter",
         "x": [
          3.2426472048371444
         ],
         "y": [
          7665
         ]
        },
        {
         "mode": "text",
         "text": [
          "6297"
         ],
         "type": "scatter",
         "x": [
          3.6741305520257717
         ],
         "y": [
          6297
         ]
        },
        {
         "mode": "text",
         "text": [
          "6106"
         ],
         "type": "scatter",
         "x": [
          4.105613899214399
         ],
         "y": [
          6106
         ]
        },
        {
         "mode": "text",
         "text": [
          "5666"
         ],
         "type": "scatter",
         "x": [
          4.537097246403025
         ],
         "y": [
          5666
         ]
        },
        {
         "mode": "text",
         "text": [
          "5317"
         ],
         "type": "scatter",
         "x": [
          4.968580593591653
         ],
         "y": [
          5317
         ]
        },
        {
         "mode": "text",
         "text": [
          "5523"
         ],
         "type": "scatter",
         "x": [
          5.40006394078028
         ],
         "y": [
          5523
         ]
        },
        {
         "mode": "text",
         "text": [
          "4936"
         ],
         "type": "scatter",
         "x": [
          5.831547287968908
         ],
         "y": [
          4936
         ]
        },
        {
         "mode": "text",
         "text": [
          "5063"
         ],
         "type": "scatter",
         "x": [
          6.263030635157534
         ],
         "y": [
          5063
         ]
        },
        {
         "mode": "text",
         "text": [
          "4941"
         ],
         "type": "scatter",
         "x": [
          6.694513982346162
         ],
         "y": [
          4941
         ]
        },
        {
         "mode": "text",
         "text": [
          "4636"
         ],
         "type": "scatter",
         "x": [
          7.125997329534789
         ],
         "y": [
          4636
         ]
        },
        {
         "mode": "text",
         "text": [
          "5284"
         ],
         "type": "scatter",
         "x": [
          7.557480676723417
         ],
         "y": [
          5284
         ]
        },
        {
         "mode": "text",
         "text": [
          "4211"
         ],
         "type": "scatter",
         "x": [
          7.988964023912043
         ],
         "y": [
          4211
         ]
        },
        {
         "mode": "text",
         "text": [
          "3827"
         ],
         "type": "scatter",
         "x": [
          8.420447371100671
         ],
         "y": [
          3827
         ]
        },
        {
         "mode": "text",
         "text": [
          "3229"
         ],
         "type": "scatter",
         "x": [
          8.8519307182893
         ],
         "y": [
          3229
         ]
        },
        {
         "mode": "text",
         "text": [
          "2974"
         ],
         "type": "scatter",
         "x": [
          9.283414065477928
         ],
         "y": [
          2974
         ]
        },
        {
         "mode": "text",
         "text": [
          "2408"
         ],
         "type": "scatter",
         "x": [
          9.714897412666552
         ],
         "y": [
          2408
         ]
        },
        {
         "mode": "text",
         "text": [
          "2083"
         ],
         "type": "scatter",
         "x": [
          10.14638075985518
         ],
         "y": [
          2083
         ]
        },
        {
         "mode": "text",
         "text": [
          "1969"
         ],
         "type": "scatter",
         "x": [
          10.577864107043808
         ],
         "y": [
          1969
         ]
        },
        {
         "mode": "text",
         "text": [
          "1720"
         ],
         "type": "scatter",
         "x": [
          11.009347454232437
         ],
         "y": [
          1720
         ]
        },
        {
         "mode": "text",
         "text": [
          "1462"
         ],
         "type": "scatter",
         "x": [
          11.440830801421061
         ],
         "y": [
          1462
         ]
        },
        {
         "mode": "text",
         "text": [
          "1034"
         ],
         "type": "scatter",
         "x": [
          11.87231414860969
         ],
         "y": [
          1034
         ]
        },
        {
         "mode": "text",
         "text": [
          "926"
         ],
         "type": "scatter",
         "x": [
          12.303797495798317
         ],
         "y": [
          926
         ]
        },
        {
         "mode": "text",
         "text": [
          "693"
         ],
         "type": "scatter",
         "x": [
          12.735280842986946
         ],
         "y": [
          693
         ]
        },
        {
         "mode": "text",
         "text": [
          "659"
         ],
         "type": "scatter",
         "x": [
          13.16676419017557
         ],
         "y": [
          659
         ]
        },
        {
         "mode": "text",
         "text": [
          "519"
         ],
         "type": "scatter",
         "x": [
          13.598247537364198
         ],
         "y": [
          519
         ]
        },
        {
         "mode": "text",
         "text": [
          "281"
         ],
         "type": "scatter",
         "x": [
          14.029730884552826
         ],
         "y": [
          281
         ]
        },
        {
         "mode": "text",
         "text": [
          "186"
         ],
         "type": "scatter",
         "x": [
          14.461214231741454
         ],
         "y": [
          186
         ]
        },
        {
         "mode": "text",
         "text": [
          "121"
         ],
         "type": "scatter",
         "x": [
          14.892697578930079
         ],
         "y": [
          121
         ]
        },
        {
         "mode": "text",
         "text": [
          "124"
         ],
         "type": "scatter",
         "x": [
          15.324180926118707
         ],
         "y": [
          124
         ]
        },
        {
         "mode": "text",
         "text": [
          "51"
         ],
         "type": "scatter",
         "x": [
          15.755664273307335
         ],
         "y": [
          51
         ]
        },
        {
         "mode": "text",
         "text": [
          "64"
         ],
         "type": "scatter",
         "x": [
          16.18714762049596
         ],
         "y": [
          64
         ]
        },
        {
         "mode": "text",
         "text": [
          "20"
         ],
         "type": "scatter",
         "x": [
          16.618630967684588
         ],
         "y": [
          20
         ]
        },
        {
         "mode": "text",
         "text": [
          "12"
         ],
         "type": "scatter",
         "x": [
          17.050114314873213
         ],
         "y": [
          12
         ]
        }
       ],
       "layout": {
        "autosize": true,
        "template": {
         "data": {
          "bar": [
           {
            "error_x": {
             "color": "#2a3f5f"
            },
            "error_y": {
             "color": "#2a3f5f"
            },
            "marker": {
             "line": {
              "color": "#E5ECF6",
              "width": 0.5
             },
             "pattern": {
              "fillmode": "overlay",
              "size": 10,
              "solidity": 0.2
             }
            },
            "type": "bar"
           }
          ],
          "barpolar": [
           {
            "marker": {
             "line": {
              "color": "#E5ECF6",
              "width": 0.5
             },
             "pattern": {
              "fillmode": "overlay",
              "size": 10,
              "solidity": 0.2
             }
            },
            "type": "barpolar"
           }
          ],
          "carpet": [
           {
            "aaxis": {
             "endlinecolor": "#2a3f5f",
             "gridcolor": "white",
             "linecolor": "white",
             "minorgridcolor": "white",
             "startlinecolor": "#2a3f5f"
            },
            "baxis": {
             "endlinecolor": "#2a3f5f",
             "gridcolor": "white",
             "linecolor": "white",
             "minorgridcolor": "white",
             "startlinecolor": "#2a3f5f"
            },
            "type": "carpet"
           }
          ],
          "choropleth": [
           {
            "colorbar": {
             "outlinewidth": 0,
             "ticks": ""
            },
            "type": "choropleth"
           }
          ],
          "contour": [
           {
            "colorbar": {
             "outlinewidth": 0,
             "ticks": ""
            },
            "colorscale": [
             [
              0,
              "#0d0887"
             ],
             [
              0.1111111111111111,
              "#46039f"
             ],
             [
              0.2222222222222222,
              "#7201a8"
             ],
             [
              0.3333333333333333,
              "#9c179e"
             ],
             [
              0.4444444444444444,
              "#bd3786"
             ],
             [
              0.5555555555555556,
              "#d8576b"
             ],
             [
              0.6666666666666666,
              "#ed7953"
             ],
             [
              0.7777777777777778,
              "#fb9f3a"
             ],
             [
              0.8888888888888888,
              "#fdca26"
             ],
             [
              1,
              "#f0f921"
             ]
            ],
            "type": "contour"
           }
          ],
          "contourcarpet": [
           {
            "colorbar": {
             "outlinewidth": 0,
             "ticks": ""
            },
            "type": "contourcarpet"
           }
          ],
          "heatmap": [
           {
            "colorbar": {
             "outlinewidth": 0,
             "ticks": ""
            },
            "colorscale": [
             [
              0,
              "#0d0887"
             ],
             [
              0.1111111111111111,
              "#46039f"
             ],
             [
              0.2222222222222222,
              "#7201a8"
             ],
             [
              0.3333333333333333,
              "#9c179e"
             ],
             [
              0.4444444444444444,
              "#bd3786"
             ],
             [
              0.5555555555555556,
              "#d8576b"
             ],
             [
              0.6666666666666666,
              "#ed7953"
             ],
             [
              0.7777777777777778,
              "#fb9f3a"
             ],
             [
              0.8888888888888888,
              "#fdca26"
             ],
             [
              1,
              "#f0f921"
             ]
            ],
            "type": "heatmap"
           }
          ],
          "heatmapgl": [
           {
            "colorbar": {
             "outlinewidth": 0,
             "ticks": ""
            },
            "colorscale": [
             [
              0,
              "#0d0887"
             ],
             [
              0.1111111111111111,
              "#46039f"
             ],
             [
              0.2222222222222222,
              "#7201a8"
             ],
             [
              0.3333333333333333,
              "#9c179e"
             ],
             [
              0.4444444444444444,
              "#bd3786"
             ],
             [
              0.5555555555555556,
              "#d8576b"
             ],
             [
              0.6666666666666666,
              "#ed7953"
             ],
             [
              0.7777777777777778,
              "#fb9f3a"
             ],
             [
              0.8888888888888888,
              "#fdca26"
             ],
             [
              1,
              "#f0f921"
             ]
            ],
            "type": "heatmapgl"
           }
          ],
          "histogram": [
           {
            "marker": {
             "pattern": {
              "fillmode": "overlay",
              "size": 10,
              "solidity": 0.2
             }
            },
            "type": "histogram"
           }
          ],
          "histogram2d": [
           {
            "colorbar": {
             "outlinewidth": 0,
             "ticks": ""
            },
            "colorscale": [
             [
              0,
              "#0d0887"
             ],
             [
              0.1111111111111111,
              "#46039f"
             ],
             [
              0.2222222222222222,
              "#7201a8"
             ],
             [
              0.3333333333333333,
              "#9c179e"
             ],
             [
              0.4444444444444444,
              "#bd3786"
             ],
             [
              0.5555555555555556,
              "#d8576b"
             ],
             [
              0.6666666666666666,
              "#ed7953"
             ],
             [
              0.7777777777777778,
              "#fb9f3a"
             ],
             [
              0.8888888888888888,
              "#fdca26"
             ],
             [
              1,
              "#f0f921"
             ]
            ],
            "type": "histogram2d"
           }
          ],
          "histogram2dcontour": [
           {
            "colorbar": {
             "outlinewidth": 0,
             "ticks": ""
            },
            "colorscale": [
             [
              0,
              "#0d0887"
             ],
             [
              0.1111111111111111,
              "#46039f"
             ],
             [
              0.2222222222222222,
              "#7201a8"
             ],
             [
              0.3333333333333333,
              "#9c179e"
             ],
             [
              0.4444444444444444,
              "#bd3786"
             ],
             [
              0.5555555555555556,
              "#d8576b"
             ],
             [
              0.6666666666666666,
              "#ed7953"
             ],
             [
              0.7777777777777778,
              "#fb9f3a"
             ],
             [
              0.8888888888888888,
              "#fdca26"
             ],
             [
              1,
              "#f0f921"
             ]
            ],
            "type": "histogram2dcontour"
           }
          ],
          "mesh3d": [
           {
            "colorbar": {
             "outlinewidth": 0,
             "ticks": ""
            },
            "type": "mesh3d"
           }
          ],
          "parcoords": [
           {
            "line": {
             "colorbar": {
              "outlinewidth": 0,
              "ticks": ""
             }
            },
            "type": "parcoords"
           }
          ],
          "pie": [
           {
            "automargin": true,
            "type": "pie"
           }
          ],
          "scatter": [
           {
            "fillpattern": {
             "fillmode": "overlay",
             "size": 10,
             "solidity": 0.2
            },
            "type": "scatter"
           }
          ],
          "scatter3d": [
           {
            "line": {
             "colorbar": {
              "outlinewidth": 0,
              "ticks": ""
             }
            },
            "marker": {
             "colorbar": {
              "outlinewidth": 0,
              "ticks": ""
             }
            },
            "type": "scatter3d"
           }
          ],
          "scattercarpet": [
           {
            "marker": {
             "colorbar": {
              "outlinewidth": 0,
              "ticks": ""
             }
            },
            "type": "scattercarpet"
           }
          ],
          "scattergeo": [
           {
            "marker": {
             "colorbar": {
              "outlinewidth": 0,
              "ticks": ""
             }
            },
            "type": "scattergeo"
           }
          ],
          "scattergl": [
           {
            "marker": {
             "colorbar": {
              "outlinewidth": 0,
              "ticks": ""
             }
            },
            "type": "scattergl"
           }
          ],
          "scattermapbox": [
           {
            "marker": {
             "colorbar": {
              "outlinewidth": 0,
              "ticks": ""
             }
            },
            "type": "scattermapbox"
           }
          ],
          "scatterpolar": [
           {
            "marker": {
             "colorbar": {
              "outlinewidth": 0,
              "ticks": ""
             }
            },
            "type": "scatterpolar"
           }
          ],
          "scatterpolargl": [
           {
            "marker": {
             "colorbar": {
              "outlinewidth": 0,
              "ticks": ""
             }
            },
            "type": "scatterpolargl"
           }
          ],
          "scatterternary": [
           {
            "marker": {
             "colorbar": {
              "outlinewidth": 0,
              "ticks": ""
             }
            },
            "type": "scatterternary"
           }
          ],
          "surface": [
           {
            "colorbar": {
             "outlinewidth": 0,
             "ticks": ""
            },
            "colorscale": [
             [
              0,
              "#0d0887"
             ],
             [
              0.1111111111111111,
              "#46039f"
             ],
             [
              0.2222222222222222,
              "#7201a8"
             ],
             [
              0.3333333333333333,
              "#9c179e"
             ],
             [
              0.4444444444444444,
              "#bd3786"
             ],
             [
              0.5555555555555556,
              "#d8576b"
             ],
             [
              0.6666666666666666,
              "#ed7953"
             ],
             [
              0.7777777777777778,
              "#fb9f3a"
             ],
             [
              0.8888888888888888,
              "#fdca26"
             ],
             [
              1,
              "#f0f921"
             ]
            ],
            "type": "surface"
           }
          ],
          "table": [
           {
            "cells": {
             "fill": {
              "color": "#EBF0F8"
             },
             "line": {
              "color": "white"
             }
            },
            "header": {
             "fill": {
              "color": "#C8D4E3"
             },
             "line": {
              "color": "white"
             }
            },
            "type": "table"
           }
          ]
         },
         "layout": {
          "annotationdefaults": {
           "arrowcolor": "#2a3f5f",
           "arrowhead": 0,
           "arrowwidth": 1
          },
          "autotypenumbers": "strict",
          "coloraxis": {
           "colorbar": {
            "outlinewidth": 0,
            "ticks": ""
           }
          },
          "colorscale": {
           "diverging": [
            [
             0,
             "#8e0152"
            ],
            [
             0.1,
             "#c51b7d"
            ],
            [
             0.2,
             "#de77ae"
            ],
            [
             0.3,
             "#f1b6da"
            ],
            [
             0.4,
             "#fde0ef"
            ],
            [
             0.5,
             "#f7f7f7"
            ],
            [
             0.6,
             "#e6f5d0"
            ],
            [
             0.7,
             "#b8e186"
            ],
            [
             0.8,
             "#7fbc41"
            ],
            [
             0.9,
             "#4d9221"
            ],
            [
             1,
             "#276419"
            ]
           ],
           "sequential": [
            [
             0,
             "#0d0887"
            ],
            [
             0.1111111111111111,
             "#46039f"
            ],
            [
             0.2222222222222222,
             "#7201a8"
            ],
            [
             0.3333333333333333,
             "#9c179e"
            ],
            [
             0.4444444444444444,
             "#bd3786"
            ],
            [
             0.5555555555555556,
             "#d8576b"
            ],
            [
             0.6666666666666666,
             "#ed7953"
            ],
            [
             0.7777777777777778,
             "#fb9f3a"
            ],
            [
             0.8888888888888888,
             "#fdca26"
            ],
            [
             1,
             "#f0f921"
            ]
           ],
           "sequentialminus": [
            [
             0,
             "#0d0887"
            ],
            [
             0.1111111111111111,
             "#46039f"
            ],
            [
             0.2222222222222222,
             "#7201a8"
            ],
            [
             0.3333333333333333,
             "#9c179e"
            ],
            [
             0.4444444444444444,
             "#bd3786"
            ],
            [
             0.5555555555555556,
             "#d8576b"
            ],
            [
             0.6666666666666666,
             "#ed7953"
            ],
            [
             0.7777777777777778,
             "#fb9f3a"
            ],
            [
             0.8888888888888888,
             "#fdca26"
            ],
            [
             1,
             "#f0f921"
            ]
           ]
          },
          "colorway": [
           "#636efa",
           "#EF553B",
           "#00cc96",
           "#ab63fa",
           "#FFA15A",
           "#19d3f3",
           "#FF6692",
           "#B6E880",
           "#FF97FF",
           "#FECB52"
          ],
          "font": {
           "color": "#2a3f5f"
          },
          "geo": {
           "bgcolor": "white",
           "lakecolor": "white",
           "landcolor": "#E5ECF6",
           "showlakes": true,
           "showland": true,
           "subunitcolor": "white"
          },
          "hoverlabel": {
           "align": "left"
          },
          "hovermode": "closest",
          "mapbox": {
           "style": "light"
          },
          "paper_bgcolor": "white",
          "plot_bgcolor": "#E5ECF6",
          "polar": {
           "angularaxis": {
            "gridcolor": "white",
            "linecolor": "white",
            "ticks": ""
           },
           "bgcolor": "#E5ECF6",
           "radialaxis": {
            "gridcolor": "white",
            "linecolor": "white",
            "ticks": ""
           }
          },
          "scene": {
           "xaxis": {
            "backgroundcolor": "#E5ECF6",
            "gridcolor": "white",
            "gridwidth": 2,
            "linecolor": "white",
            "showbackground": true,
            "ticks": "",
            "zerolinecolor": "white"
           },
           "yaxis": {
            "backgroundcolor": "#E5ECF6",
            "gridcolor": "white",
            "gridwidth": 2,
            "linecolor": "white",
            "showbackground": true,
            "ticks": "",
            "zerolinecolor": "white"
           },
           "zaxis": {
            "backgroundcolor": "#E5ECF6",
            "gridcolor": "white",
            "gridwidth": 2,
            "linecolor": "white",
            "showbackground": true,
            "ticks": "",
            "zerolinecolor": "white"
           }
          },
          "shapedefaults": {
           "line": {
            "color": "#2a3f5f"
           }
          },
          "ternary": {
           "aaxis": {
            "gridcolor": "white",
            "linecolor": "white",
            "ticks": ""
           },
           "baxis": {
            "gridcolor": "white",
            "linecolor": "white",
            "ticks": ""
           },
           "bgcolor": "#E5ECF6",
           "caxis": {
            "gridcolor": "white",
            "linecolor": "white",
            "ticks": ""
           }
          },
          "title": {
           "x": 0.05
          },
          "xaxis": {
           "automargin": true,
           "gridcolor": "white",
           "linecolor": "white",
           "ticks": "",
           "title": {
            "standoff": 15
           },
           "zerolinecolor": "white",
           "zerolinewidth": 2
          },
          "yaxis": {
           "automargin": true,
           "gridcolor": "white",
           "linecolor": "white",
           "ticks": "",
           "title": {
            "standoff": 15
           },
           "zerolinecolor": "white",
           "zerolinewidth": 2
          }
         }
        },
        "xaxis": {
         "autorange": true,
         "range": [
          -0.7126168110586053,
          17.984994900448573
         ],
         "type": "linear"
        },
        "yaxis": {
         "autorange": true,
         "range": [
          -1102.2222222222222,
          21182.222222222223
         ],
         "type": "linear"
        }
       }
      },
      "image/png": "[encoded data removed]",
      "text/html": [
       "<div>                            <div id=\"69b248f5-7f23-4cf5-bde3-2b83e8740890\" class=\"plotly-graph-div\" style=\"height:525px; width:100%;\"></div>            <script type=\"text/javascript\">                require([\"plotly\"], function(Plotly) {                    window.PLOTLYENV=window.PLOTLYENV || {};                                    if (document.getElementById(\"69b248f5-7f23-4cf5-bde3-2b83e8740890\")) {                    Plotly.newPlot(                        \"69b248f5-7f23-4cf5-bde3-2b83e8740890\",                        [{\"name\":\"Histogram\",\"width\":[0.43148334718862724,0.4314833471886273,0.43148334718862713,0.43148334718862724,0.43148334718862746,0.43148334718862724,0.43148334718862724,0.43148334718862724,0.43148334718862724,0.4314833471886268,0.43148334718862724,0.43148334718862724,0.43148334718862724,0.43148334718862724,0.43148334718862724,0.43148334718862724,0.43148334718862724,0.43148334718862724,0.43148334718862724,0.43148334718862813,0.43148334718862813,0.43148334718862635,0.43148334718862635,0.43148334718862813,0.43148334718862813,0.43148334718862635,0.43148334718862635,0.43148334718862813,0.43148334718862813,0.43148334718862635,0.43148334718862635,0.43148334718862813,0.43148334718862813,0.43148334718862635,0.43148334718862635,0.43148334718862813,0.43148334718862813,0.4314833471886228,0.43148334718862813,0.43148334718862813],\"x\":[0.22226377451675355,0.6537471217053809,1.085230468894008,1.5167138160826352,1.9481971632712627,2.37968051045989,2.811163857648517,3.2426472048371444,3.6741305520257717,4.105613899214399,4.537097246403025,4.968580593591653,5.40006394078028,5.831547287968908,6.263030635157534,6.694513982346162,7.125997329534789,7.557480676723417,7.988964023912043,8.420447371100671,8.8519307182893,9.283414065477928,9.714897412666552,10.14638075985518,10.577864107043808,11.009347454232437,11.440830801421061,11.87231414860969,12.303797495798317,12.735280842986946,13.16676419017557,13.598247537364198,14.029730884552826,14.461214231741454,14.892697578930079,15.324180926118707,15.755664273307335,16.18714762049596,16.618630967684588,17.050114314873213],\"y\":[10411,19829,20068,16849,14117,10546,8914,7665,6297,6106,5666,5317,5523,4936,5063,4941,4636,5284,4211,3827,3229,2974,2408,2083,1969,1720,1462,1034,926,693,659,519,281,186,121,124,51,64,20,12],\"type\":\"bar\"},{\"mode\":\"text\",\"text\":[\"10411\"],\"x\":[0.22226377451675355],\"y\":[10411],\"type\":\"scatter\"},{\"mode\":\"text\",\"text\":[\"19829\"],\"x\":[0.6537471217053809],\"y\":[19829],\"type\":\"scatter\"},{\"mode\":\"text\",\"text\":[\"20068\"],\"x\":[1.085230468894008],\"y\":[20068],\"type\":\"scatter\"},{\"mode\":\"text\",\"text\":[\"16849\"],\"x\":[1.5167138160826352],\"y\":[16849],\"type\":\"scatter\"},{\"mode\":\"text\",\"text\":[\"14117\"],\"x\":[1.9481971632712627],\"y\":[14117],\"type\":\"scatter\"},{\"mode\":\"text\",\"text\":[\"10546\"],\"x\":[2.37968051045989],\"y\":[10546],\"type\":\"scatter\"},{\"mode\":\"text\",\"text\":[\"8914\"],\"x\":[2.811163857648517],\"y\":[8914],\"type\":\"scatter\"},{\"mode\":\"text\",\"text\":[\"7665\"],\"x\":[3.2426472048371444],\"y\":[7665],\"type\":\"scatter\"},{\"mode\":\"text\",\"text\":[\"6297\"],\"x\":[3.6741305520257717],\"y\":[6297],\"type\":\"scatter\"},{\"mode\":\"text\",\"text\":[\"6106\"],\"x\":[4.105613899214399],\"y\":[6106],\"type\":\"scatter\"},{\"mode\":\"text\",\"text\":[\"5666\"],\"x\":[4.537097246403025],\"y\":[5666],\"type\":\"scatter\"},{\"mode\":\"text\",\"text\":[\"5317\"],\"x\":[4.968580593591653],\"y\":[5317],\"type\":\"scatter\"},{\"mode\":\"text\",\"text\":[\"5523\"],\"x\":[5.40006394078028],\"y\":[5523],\"type\":\"scatter\"},{\"mode\":\"text\",\"text\":[\"4936\"],\"x\":[5.831547287968908],\"y\":[4936],\"type\":\"scatter\"},{\"mode\":\"text\",\"text\":[\"5063\"],\"x\":[6.263030635157534],\"y\":[5063],\"type\":\"scatter\"},{\"mode\":\"text\",\"text\":[\"4941\"],\"x\":[6.694513982346162],\"y\":[4941],\"type\":\"scatter\"},{\"mode\":\"text\",\"text\":[\"4636\"],\"x\":[7.125997329534789],\"y\":[4636],\"type\":\"scatter\"},{\"mode\":\"text\",\"text\":[\"5284\"],\"x\":[7.557480676723417],\"y\":[5284],\"type\":\"scatter\"},{\"mode\":\"text\",\"text\":[\"4211\"],\"x\":[7.988964023912043],\"y\":[4211],\"type\":\"scatter\"},{\"mode\":\"text\",\"text\":[\"3827\"],\"x\":[8.420447371100671],\"y\":[3827],\"type\":\"scatter\"},{\"mode\":\"text\",\"text\":[\"3229\"],\"x\":[8.8519307182893],\"y\":[3229],\"type\":\"scatter\"},{\"mode\":\"text\",\"text\":[\"2974\"],\"x\":[9.283414065477928],\"y\":[2974],\"type\":\"scatter\"},{\"mode\":\"text\",\"text\":[\"2408\"],\"x\":[9.714897412666552],\"y\":[2408],\"type\":\"scatter\"},{\"mode\":\"text\",\"text\":[\"2083\"],\"x\":[10.14638075985518],\"y\":[2083],\"type\":\"scatter\"},{\"mode\":\"text\",\"text\":[\"1969\"],\"x\":[10.577864107043808],\"y\":[1969],\"type\":\"scatter\"},{\"mode\":\"text\",\"text\":[\"1720\"],\"x\":[11.009347454232437],\"y\":[1720],\"type\":\"scatter\"},{\"mode\":\"text\",\"text\":[\"1462\"],\"x\":[11.440830801421061],\"y\":[1462],\"type\":\"scatter\"},{\"mode\":\"text\",\"text\":[\"1034\"],\"x\":[11.87231414860969],\"y\":[1034],\"type\":\"scatter\"},{\"mode\":\"text\",\"text\":[\"926\"],\"x\":[12.303797495798317],\"y\":[926],\"type\":\"scatter\"},{\"mode\":\"text\",\"text\":[\"693\"],\"x\":[12.735280842986946],\"y\":[693],\"type\":\"scatter\"},{\"mode\":\"text\",\"text\":[\"659\"],\"x\":[13.16676419017557],\"y\":[659],\"type\":\"scatter\"},{\"mode\":\"text\",\"text\":[\"519\"],\"x\":[13.598247537364198],\"y\":[519],\"type\":\"scatter\"},{\"mode\":\"text\",\"text\":[\"281\"],\"x\":[14.029730884552826],\"y\":[281],\"type\":\"scatter\"},{\"mode\":\"text\",\"text\":[\"186\"],\"x\":[14.461214231741454],\"y\":[186],\"type\":\"scatter\"},{\"mode\":\"text\",\"text\":[\"121\"],\"x\":[14.892697578930079],\"y\":[121],\"type\":\"scatter\"},{\"mode\":\"text\",\"text\":[\"124\"],\"x\":[15.324180926118707],\"y\":[124],\"type\":\"scatter\"},{\"mode\":\"text\",\"text\":[\"51\"],\"x\":[15.755664273307335],\"y\":[51],\"type\":\"scatter\"},{\"mode\":\"text\",\"text\":[\"64\"],\"x\":[16.18714762049596],\"y\":[64],\"type\":\"scatter\"},{\"mode\":\"text\",\"text\":[\"20\"],\"x\":[16.618630967684588],\"y\":[20],\"type\":\"scatter\"},{\"mode\":\"text\",\"text\":[\"12\"],\"x\":[17.050114314873213],\"y\":[12],\"type\":\"scatter\"}],                        {\"template\":{\"data\":{\"histogram2dcontour\":[{\"type\":\"histogram2dcontour\",\"colorbar\":{\"outlinewidth\":0,\"ticks\":\"\"},\"colorscale\":[[0.0,\"#0d0887\"],[0.1111111111111111,\"#46039f\"],[0.2222222222222222,\"#7201a8\"],[0.3333333333333333,\"#9c179e\"],[0.4444444444444444,\"#bd3786\"],[0.5555555555555556,\"#d8576b\"],[0.6666666666666666,\"#ed7953\"],[0.7777777777777778,\"#fb9f3a\"],[0.8888888888888888,\"#fdca26\"],[1.0,\"#f0f921\"]]}],\"choropleth\":[{\"type\":\"choropleth\",\"colorbar\":{\"outlinewidth\":0,\"ticks\":\"\"}}],\"histogram2d\":[{\"type\":\"histogram2d\",\"colorbar\":{\"outlinewidth\":0,\"ticks\":\"\"},\"colorscale\":[[0.0,\"#0d0887\"],[0.1111111111111111,\"#46039f\"],[0.2222222222222222,\"#7201a8\"],[0.3333333333333333,\"#9c179e\"],[0.4444444444444444,\"#bd3786\"],[0.5555555555555556,\"#d8576b\"],[0.6666666666666666,\"#ed7953\"],[0.7777777777777778,\"#fb9f3a\"],[0.8888888888888888,\"#fdca26\"],[1.0,\"#f0f921\"]]}],\"heatmap\":[{\"type\":\"heatmap\",\"colorbar\":{\"outlinewidth\":0,\"ticks\":\"\"},\"colorscale\":[[0.0,\"#0d0887\"],[0.1111111111111111,\"#46039f\"],[0.2222222222222222,\"#7201a8\"],[0.3333333333333333,\"#9c179e\"],[0.4444444444444444,\"#bd3786\"],[0.5555555555555556,\"#d8576b\"],[0.6666666666666666,\"#ed7953\"],[0.7777777777777778,\"#fb9f3a\"],[0.8888888888888888,\"#fdca26\"],[1.0,\"#f0f921\"]]}],\"heatmapgl\":[{\"type\":\"heatmapgl\",\"colorbar\":{\"outlinewidth\":0,\"ticks\":\"\"},\"colorscale\":[[0.0,\"#0d0887\"],[0.1111111111111111,\"#46039f\"],[0.2222222222222222,\"#7201a8\"],[0.3333333333333333,\"#9c179e\"],[0.4444444444444444,\"#bd3786\"],[0.5555555555555556,\"#d8576b\"],[0.6666666666666666,\"#ed7953\"],[0.7777777777777778,\"#fb9f3a\"],[0.8888888888888888,\"#fdca26\"],[1.0,\"#f0f921\"]]}],\"contourcarpet\":[{\"type\":\"contourcarpet\",\"colorbar\":{\"outlinewidth\":0,\"ticks\":\"\"}}],\"contour\":[{\"type\":\"contour\",\"colorbar\":{\"outlinewidth\":0,\"ticks\":\"\"},\"colorscale\":[[0.0,\"#0d0887\"],[0.1111111111111111,\"#46039f\"],[0.2222222222222222,\"#7201a8\"],[0.3333333333333333,\"#9c179e\"],[0.4444444444444444,\"#bd3786\"],[0.5555555555555556,\"#d8576b\"],[0.6666666666666666,\"#ed7953\"],[0.7777777777777778,\"#fb9f3a\"],[0.8888888888888888,\"#fdca26\"],[1.0,\"#f0f921\"]]}],\"surface\":[{\"type\":\"surface\",\"colorbar\":{\"outlinewidth\":0,\"ticks\":\"\"},\"colorscale\":[[0.0,\"#0d0887\"],[0.1111111111111111,\"#46039f\"],[0.2222222222222222,\"#7201a8\"],[0.3333333333333333,\"#9c179e\"],[0.4444444444444444,\"#bd3786\"],[0.5555555555555556,\"#d8576b\"],[0.6666666666666666,\"#ed7953\"],[0.7777777777777778,\"#fb9f3a\"],[0.8888888888888888,\"#fdca26\"],[1.0,\"#f0f921\"]]}],\"mesh3d\":[{\"type\":\"mesh3d\",\"colorbar\":{\"outlinewidth\":0,\"ticks\":\"\"}}],\"scatter\":[{\"fillpattern\":{\"fillmode\":\"overlay\",\"size\":10,\"solidity\":0.2},\"type\":\"scatter\"}],\"parcoords\":[{\"type\":\"parcoords\",\"line\":{\"colorbar\":{\"outlinewidth\":0,\"ticks\":\"\"}}}],\"scatterpolargl\":[{\"type\":\"scatterpolargl\",\"marker\":{\"colorbar\":{\"outlinewidth\":0,\"ticks\":\"\"}}}],\"bar\":[{\"error_x\":{\"color\":\"#2a3f5f\"},\"error_y\":{\"color\":\"#2a3f5f\"},\"marker\":{\"line\":{\"color\":\"#E5ECF6\",\"width\":0.5},\"pattern\":{\"fillmode\":\"overlay\",\"size\":10,\"solidity\":0.2}},\"type\":\"bar\"}],\"scattergeo\":[{\"type\":\"scattergeo\",\"marker\":{\"colorbar\":{\"outlinewidth\":0,\"ticks\":\"\"}}}],\"scatterpolar\":[{\"type\":\"scatterpolar\",\"marker\":{\"colorbar\":{\"outlinewidth\":0,\"ticks\":\"\"}}}],\"histogram\":[{\"marker\":{\"pattern\":{\"fillmode\":\"overlay\",\"size\":10,\"solidity\":0.2}},\"type\":\"histogram\"}],\"scattergl\":[{\"type\":\"scattergl\",\"marker\":{\"colorbar\":{\"outlinewidth\":0,\"ticks\":\"\"}}}],\"scatter3d\":[{\"type\":\"scatter3d\",\"line\":{\"colorbar\":{\"outlinewidth\":0,\"ticks\":\"\"}},\"marker\":{\"colorbar\":{\"outlinewidth\":0,\"ticks\":\"\"}}}],\"scattermapbox\":[{\"type\":\"scattermapbox\",\"marker\":{\"colorbar\":{\"outlinewidth\":0,\"ticks\":\"\"}}}],\"scatterternary\":[{\"type\":\"scatterternary\",\"marker\":{\"colorbar\":{\"outlinewidth\":0,\"ticks\":\"\"}}}],\"scattercarpet\":[{\"type\":\"scattercarpet\",\"marker\":{\"colorbar\":{\"outlinewidth\":0,\"ticks\":\"\"}}}],\"carpet\":[{\"aaxis\":{\"endlinecolor\":\"#2a3f5f\",\"gridcolor\":\"white\",\"linecolor\":\"white\",\"minorgridcolor\":\"white\",\"startlinecolor\":\"#2a3f5f\"},\"baxis\":{\"endlinecolor\":\"#2a3f5f\",\"gridcolor\":\"white\",\"linecolor\":\"white\",\"minorgridcolor\":\"white\",\"startlinecolor\":\"#2a3f5f\"},\"type\":\"carpet\"}],\"table\":[{\"cells\":{\"fill\":{\"color\":\"#EBF0F8\"},\"line\":{\"color\":\"white\"}},\"header\":{\"fill\":{\"color\":\"#C8D4E3\"},\"line\":{\"color\":\"white\"}},\"type\":\"table\"}],\"barpolar\":[{\"marker\":{\"line\":{\"color\":\"#E5ECF6\",\"width\":0.5},\"pattern\":{\"fillmode\":\"overlay\",\"size\":10,\"solidity\":0.2}},\"type\":\"barpolar\"}],\"pie\":[{\"automargin\":true,\"type\":\"pie\"}]},\"layout\":{\"autotypenumbers\":\"strict\",\"colorway\":[\"#636efa\",\"#EF553B\",\"#00cc96\",\"#ab63fa\",\"#FFA15A\",\"#19d3f3\",\"#FF6692\",\"#B6E880\",\"#FF97FF\",\"#FECB52\"],\"font\":{\"color\":\"#2a3f5f\"},\"hovermode\":\"closest\",\"hoverlabel\":{\"align\":\"left\"},\"paper_bgcolor\":\"white\",\"plot_bgcolor\":\"#E5ECF6\",\"polar\":{\"bgcolor\":\"#E5ECF6\",\"angularaxis\":{\"gridcolor\":\"white\",\"linecolor\":\"white\",\"ticks\":\"\"},\"radialaxis\":{\"gridcolor\":\"white\",\"linecolor\":\"white\",\"ticks\":\"\"}},\"ternary\":{\"bgcolor\":\"#E5ECF6\",\"aaxis\":{\"gridcolor\":\"white\",\"linecolor\":\"white\",\"ticks\":\"\"},\"baxis\":{\"gridcolor\":\"white\",\"linecolor\":\"white\",\"ticks\":\"\"},\"caxis\":{\"gridcolor\":\"white\",\"linecolor\":\"white\",\"ticks\":\"\"}},\"coloraxis\":{\"colorbar\":{\"outlinewidth\":0,\"ticks\":\"\"}},\"colorscale\":{\"sequential\":[[0.0,\"#0d0887\"],[0.1111111111111111,\"#46039f\"],[0.2222222222222222,\"#7201a8\"],[0.3333333333333333,\"#9c179e\"],[0.4444444444444444,\"#bd3786\"],[0.5555555555555556,\"#d8576b\"],[0.6666666666666666,\"#ed7953\"],[0.7777777777777778,\"#fb9f3a\"],[0.8888888888888888,\"#fdca26\"],[1.0,\"#f0f921\"]],\"sequentialminus\":[[0.0,\"#0d0887\"],[0.1111111111111111,\"#46039f\"],[0.2222222222222222,\"#7201a8\"],[0.3333333333333333,\"#9c179e\"],[0.4444444444444444,\"#bd3786\"],[0.5555555555555556,\"#d8576b\"],[0.6666666666666666,\"#ed7953\"],[0.7777777777777778,\"#fb9f3a\"],[0.8888888888888888,\"#fdca26\"],[1.0,\"#f0f921\"]],\"diverging\":[[0,\"#8e0152\"],[0.1,\"#c51b7d\"],[0.2,\"#de77ae\"],[0.3,\"#f1b6da\"],[0.4,\"#fde0ef\"],[0.5,\"#f7f7f7\"],[0.6,\"#e6f5d0\"],[0.7,\"#b8e186\"],[0.8,\"#7fbc41\"],[0.9,\"#4d9221\"],[1,\"#276419\"]]},\"xaxis\":{\"gridcolor\":\"white\",\"linecolor\":\"white\",\"ticks\":\"\",\"title\":{\"standoff\":15},\"zerolinecolor\":\"white\",\"automargin\":true,\"zerolinewidth\":2},\"yaxis\":{\"gridcolor\":\"white\",\"linecolor\":\"white\",\"ticks\":\"\",\"title\":{\"standoff\":15},\"zerolinecolor\":\"white\",\"automargin\":true,\"zerolinewidth\":2},\"scene\":{\"xaxis\":{\"backgroundcolor\":\"#E5ECF6\",\"gridcolor\":\"white\",\"linecolor\":\"white\",\"showbackground\":true,\"ticks\":\"\",\"zerolinecolor\":\"white\",\"gridwidth\":2},\"yaxis\":{\"backgroundcolor\":\"#E5ECF6\",\"gridcolor\":\"white\",\"linecolor\":\"white\",\"showbackground\":true,\"ticks\":\"\",\"zerolinecolor\":\"white\",\"gridwidth\":2},\"zaxis\":{\"backgroundcolor\":\"#E5ECF6\",\"gridcolor\":\"white\",\"linecolor\":\"white\",\"showbackground\":true,\"ticks\":\"\",\"zerolinecolor\":\"white\",\"gridwidth\":2}},\"shapedefaults\":{\"line\":{\"color\":\"#2a3f5f\"}},\"annotationdefaults\":{\"arrowcolor\":\"#2a3f5f\",\"arrowhead\":0,\"arrowwidth\":1},\"geo\":{\"bgcolor\":\"white\",\"landcolor\":\"#E5ECF6\",\"subunitcolor\":\"white\",\"showland\":true,\"showlakes\":true,\"lakecolor\":\"white\"},\"title\":{\"x\":0.05},\"mapbox\":{\"style\":\"light\"}}}},                        {\"responsive\": true}                    ).then(function(){\n",
       "                            \n",
       "var gd = document.getElementById('69b248f5-7f23-4cf5-bde3-2b83e8740890');\n",
       "var x = new MutationObserver(function (mutations, observer) {{\n",
       "        var display = window.getComputedStyle(gd).display;\n",
       "        if (!display || display === 'none') {{\n",
       "            console.log([gd, 'removed!']);\n",
       "            Plotly.purge(gd);\n",
       "            observer.disconnect();\n",
       "        }}\n",
       "}});\n",
       "\n",
       "// Listen for the removal of the full notebook cells\n",
       "var notebookContainer = gd.closest('#notebook-container');\n",
       "if (notebookContainer) {{\n",
       "    x.observe(notebookContainer, {childList: true});\n",
       "}}\n",
       "\n",
       "// Listen for the clearing of the current output cell\n",
       "var outputEl = gd.closest('.output');\n",
       "if (outputEl) {{\n",
       "    x.observe(outputEl, {childList: true});\n",
       "}}\n",
       "\n",
       "                        })                };                });            </script>        </div>"
      ]
     },
     "metadata": {},
     "output_type": "display_data"
    }
   ],
   "source": [
    "# Plot the figure\n",
    "counts, bins = np.histogram(df_interest['LogOddRatio'], bins=40)\n",
    "bin_midpoints = bins[:-1] + np.diff(bins)/2\n",
    "\n",
    "fig = go.Figure()\n",
    "\n",
    "fig.add_trace(go.Bar(\n",
    "    x=bin_midpoints,\n",
    "    y=counts,\n",
    "    width=np.diff(bins), # makes bars have correct widths\n",
    "    name='Histogram'\n",
    "))\n",
    "# add text labels for counts\n",
    "for i in range(len(counts)):\n",
    "    fig.add_trace(go.Scatter(\n",
    "        x=[bin_midpoints[i]],\n",
    "        y=[counts[i]],\n",
    "        text=[str(counts[i])],\n",
    "        mode='text',\n",
    "    ))\n",
    "\n",
    "fig.show()"
   ]
  },
  {
   "cell_type": "code",
   "execution_count": 50,
   "id": "02542935-31fe-4e73-b1e4-8abcbfdacc86",
   "metadata": {},
   "outputs": [
    {
     "data": {
      "application/vnd.plotly.v1+json": {
       "config": {
        "plotlyServerURL": "https://plot.ly"
       },
       "data": [
        {
         "name": "Histogram",
         "type": "bar",
         "width": [
          0.0248062450828177,
          0.0248062450828177,
          0.0248062450828177,
          0.0248062450828177,
          0.0248062450828177,
          0.024806245082817813,
          0.0248062450828177,
          0.0248062450828177,
          0.0248062450828177,
          0.0248062450828177,
          0.0248062450828177,
          0.0248062450828177,
          0.0248062450828177,
          0.0248062450828177,
          0.0248062450828177,
          0.0248062450828177,
          0.0248062450828177,
          0.0248062450828177,
          0.0248062450828177,
          0.0248062450828177,
          0.0248062450828177,
          0.0248062450828177,
          0.0248062450828177,
          0.024806245082817813,
          0.0248062450828177,
          0.0248062450828177,
          0.0248062450828177,
          0.0248062450828177,
          0.0248062450828177,
          0.0248062450828177,
          0.0248062450828177,
          0.0248062450828177,
          0.0248062450828177,
          0.0248062450828177,
          0.0248062450828177,
          0.0248062450828177,
          0.0248062450828177,
          0.0248062450828177,
          0.0248062450828177,
          0.024806245082817813
         ],
         "x": [
          -0.9804124774946872,
          -0.9556062324118695,
          -0.9307999873290518,
          -0.9059937422462341,
          -0.8811874971634164,
          -0.8563812520805987,
          -0.8315750069977809,
          -0.8067687619149632,
          -0.7819625168321455,
          -0.7571562717493278,
          -0.7323500266665101,
          -0.7075437815836924,
          -0.6827375365008747,
          -0.657931291418057,
          -0.6331250463352392,
          -0.6083188012524215,
          -0.5835125561696038,
          -0.5587063110867861,
          -0.5339000660039684,
          -0.5090938209211507,
          -0.48428757583833304,
          -0.45948133075551534,
          -0.43467508567269764,
          -0.4098688405898799,
          -0.3850625955070621,
          -0.3602563504242444,
          -0.3354501053414267,
          -0.310643860258609,
          -0.2858376151757913,
          -0.2610313700929736,
          -0.2362251250101559,
          -0.2114188799273382,
          -0.1866126348445205,
          -0.1618063897617028,
          -0.1370001446788851,
          -0.1121938995960674,
          -0.0873876545132497,
          -0.062581409430432,
          -0.0377751643476143,
          -0.012968919264796541
         ],
         "y": [
          1205,
          2491,
          2805,
          2611,
          2716,
          2726,
          2928,
          3041,
          2897,
          3042,
          2954,
          3319,
          3182,
          3316,
          3259,
          3639,
          3678,
          4106,
          4074,
          4188,
          4173,
          3432,
          3417,
          3427,
          3520,
          3597,
          4124,
          4402,
          5182,
          6172,
          6427,
          7009,
          7645,
          8420,
          9862,
          10383,
          11126,
          11835,
          9744,
          4667
         ]
        },
        {
         "mode": "text",
         "text": [
          "1205"
         ],
         "type": "scatter",
         "x": [
          -0.9804124774946872
         ],
         "y": [
          1205
         ]
        },
        {
         "mode": "text",
         "text": [
          "2491"
         ],
         "type": "scatter",
         "x": [
          -0.9556062324118695
         ],
         "y": [
          2491
         ]
        },
        {
         "mode": "text",
         "text": [
          "2805"
         ],
         "type": "scatter",
         "x": [
          -0.9307999873290518
         ],
         "y": [
          2805
         ]
        },
        {
         "mode": "text",
         "text": [
          "2611"
         ],
         "type": "scatter",
         "x": [
          -0.9059937422462341
         ],
         "y": [
          2611
         ]
        },
        {
         "mode": "text",
         "text": [
          "2716"
         ],
         "type": "scatter",
         "x": [
          -0.8811874971634164
         ],
         "y": [
          2716
         ]
        },
        {
         "mode": "text",
         "text": [
          "2726"
         ],
         "type": "scatter",
         "x": [
          -0.8563812520805987
         ],
         "y": [
          2726
         ]
        },
        {
         "mode": "text",
         "text": [
          "2928"
         ],
         "type": "scatter",
         "x": [
          -0.8315750069977809
         ],
         "y": [
          2928
         ]
        },
        {
         "mode": "text",
         "text": [
          "3041"
         ],
         "type": "scatter",
         "x": [
          -0.8067687619149632
         ],
         "y": [
          3041
         ]
        },
        {
         "mode": "text",
         "text": [
          "2897"
         ],
         "type": "scatter",
         "x": [
          -0.7819625168321455
         ],
         "y": [
          2897
         ]
        },
        {
         "mode": "text",
         "text": [
          "3042"
         ],
         "type": "scatter",
         "x": [
          -0.7571562717493278
         ],
         "y": [
          3042
         ]
        },
        {
         "mode": "text",
         "text": [
          "2954"
         ],
         "type": "scatter",
         "x": [
          -0.7323500266665101
         ],
         "y": [
          2954
         ]
        },
        {
         "mode": "text",
         "text": [
          "3319"
         ],
         "type": "scatter",
         "x": [
          -0.7075437815836924
         ],
         "y": [
          3319
         ]
        },
        {
         "mode": "text",
         "text": [
          "3182"
         ],
         "type": "scatter",
         "x": [
          -0.6827375365008747
         ],
         "y": [
          3182
         ]
        },
        {
         "mode": "text",
         "text": [
          "3316"
         ],
         "type": "scatter",
         "x": [
          -0.657931291418057
         ],
         "y": [
          3316
         ]
        },
        {
         "mode": "text",
         "text": [
          "3259"
         ],
         "type": "scatter",
         "x": [
          -0.6331250463352392
         ],
         "y": [
          3259
         ]
        },
        {
         "mode": "text",
         "text": [
          "3639"
         ],
         "type": "scatter",
         "x": [
          -0.6083188012524215
         ],
         "y": [
          3639
         ]
        },
        {
         "mode": "text",
         "text": [
          "3678"
         ],
         "type": "scatter",
         "x": [
          -0.5835125561696038
         ],
         "y": [
          3678
         ]
        },
        {
         "mode": "text",
         "text": [
          "4106"
         ],
         "type": "scatter",
         "x": [
          -0.5587063110867861
         ],
         "y": [
          4106
         ]
        },
        {
         "mode": "text",
         "text": [
          "4074"
         ],
         "type": "scatter",
         "x": [
          -0.5339000660039684
         ],
         "y": [
          4074
         ]
        },
        {
         "mode": "text",
         "text": [
          "4188"
         ],
         "type": "scatter",
         "x": [
          -0.5090938209211507
         ],
         "y": [
          4188
         ]
        },
        {
         "mode": "text",
         "text": [
          "4173"
         ],
         "type": "scatter",
         "x": [
          -0.48428757583833304
         ],
         "y": [
          4173
         ]
        },
        {
         "mode": "text",
         "text": [
          "3432"
         ],
         "type": "scatter",
         "x": [
          -0.45948133075551534
         ],
         "y": [
          3432
         ]
        },
        {
         "mode": "text",
         "text": [
          "3417"
         ],
         "type": "scatter",
         "x": [
          -0.43467508567269764
         ],
         "y": [
          3417
         ]
        },
        {
         "mode": "text",
         "text": [
          "3427"
         ],
         "type": "scatter",
         "x": [
          -0.4098688405898799
         ],
         "y": [
          3427
         ]
        },
        {
         "mode": "text",
         "text": [
          "3520"
         ],
         "type": "scatter",
         "x": [
          -0.3850625955070621
         ],
         "y": [
          3520
         ]
        },
        {
         "mode": "text",
         "text": [
          "3597"
         ],
         "type": "scatter",
         "x": [
          -0.3602563504242444
         ],
         "y": [
          3597
         ]
        },
        {
         "mode": "text",
         "text": [
          "4124"
         ],
         "type": "scatter",
         "x": [
          -0.3354501053414267
         ],
         "y": [
          4124
         ]
        },
        {
         "mode": "text",
         "text": [
          "4402"
         ],
         "type": "scatter",
         "x": [
          -0.310643860258609
         ],
         "y": [
          4402
         ]
        },
        {
         "mode": "text",
         "text": [
          "5182"
         ],
         "type": "scatter",
         "x": [
          -0.2858376151757913
         ],
         "y": [
          5182
         ]
        },
        {
         "mode": "text",
         "text": [
          "6172"
         ],
         "type": "scatter",
         "x": [
          -0.2610313700929736
         ],
         "y": [
          6172
         ]
        },
        {
         "mode": "text",
         "text": [
          "6427"
         ],
         "type": "scatter",
         "x": [
          -0.2362251250101559
         ],
         "y": [
          6427
         ]
        },
        {
         "mode": "text",
         "text": [
          "7009"
         ],
         "type": "scatter",
         "x": [
          -0.2114188799273382
         ],
         "y": [
          7009
         ]
        },
        {
         "mode": "text",
         "text": [
          "7645"
         ],
         "type": "scatter",
         "x": [
          -0.1866126348445205
         ],
         "y": [
          7645
         ]
        },
        {
         "mode": "text",
         "text": [
          "8420"
         ],
         "type": "scatter",
         "x": [
          -0.1618063897617028
         ],
         "y": [
          8420
         ]
        },
        {
         "mode": "text",
         "text": [
          "9862"
         ],
         "type": "scatter",
         "x": [
          -0.1370001446788851
         ],
         "y": [
          9862
         ]
        },
        {
         "mode": "text",
         "text": [
          "10383"
         ],
         "type": "scatter",
         "x": [
          -0.1121938995960674
         ],
         "y": [
          10383
         ]
        },
        {
         "mode": "text",
         "text": [
          "11126"
         ],
         "type": "scatter",
         "x": [
          -0.0873876545132497
         ],
         "y": [
          11126
         ]
        },
        {
         "mode": "text",
         "text": [
          "11835"
         ],
         "type": "scatter",
         "x": [
          -0.062581409430432
         ],
         "y": [
          11835
         ]
        },
        {
         "mode": "text",
         "text": [
          "9744"
         ],
         "type": "scatter",
         "x": [
          -0.0377751643476143
         ],
         "y": [
          9744
         ]
        },
        {
         "mode": "text",
         "text": [
          "4667"
         ],
         "type": "scatter",
         "x": [
          -0.012968919264796541
         ],
         "y": [
          4667
         ]
        }
       ],
       "layout": {
        "autosize": true,
        "template": {
         "data": {
          "bar": [
           {
            "error_x": {
             "color": "#2a3f5f"
            },
            "error_y": {
             "color": "#2a3f5f"
            },
            "marker": {
             "line": {
              "color": "#E5ECF6",
              "width": 0.5
             },
             "pattern": {
              "fillmode": "overlay",
              "size": 10,
              "solidity": 0.2
             }
            },
            "type": "bar"
           }
          ],
          "barpolar": [
           {
            "marker": {
             "line": {
              "color": "#E5ECF6",
              "width": 0.5
             },
             "pattern": {
              "fillmode": "overlay",
              "size": 10,
              "solidity": 0.2
             }
            },
            "type": "barpolar"
           }
          ],
          "carpet": [
           {
            "aaxis": {
             "endlinecolor": "#2a3f5f",
             "gridcolor": "white",
             "linecolor": "white",
             "minorgridcolor": "white",
             "startlinecolor": "#2a3f5f"
            },
            "baxis": {
             "endlinecolor": "#2a3f5f",
             "gridcolor": "white",
             "linecolor": "white",
             "minorgridcolor": "white",
             "startlinecolor": "#2a3f5f"
            },
            "type": "carpet"
           }
          ],
          "choropleth": [
           {
            "colorbar": {
             "outlinewidth": 0,
             "ticks": ""
            },
            "type": "choropleth"
           }
          ],
          "contour": [
           {
            "colorbar": {
             "outlinewidth": 0,
             "ticks": ""
            },
            "colorscale": [
             [
              0,
              "#0d0887"
             ],
             [
              0.1111111111111111,
              "#46039f"
             ],
             [
              0.2222222222222222,
              "#7201a8"
             ],
             [
              0.3333333333333333,
              "#9c179e"
             ],
             [
              0.4444444444444444,
              "#bd3786"
             ],
             [
              0.5555555555555556,
              "#d8576b"
             ],
             [
              0.6666666666666666,
              "#ed7953"
             ],
             [
              0.7777777777777778,
              "#fb9f3a"
             ],
             [
              0.8888888888888888,
              "#fdca26"
             ],
             [
              1,
              "#f0f921"
             ]
            ],
            "type": "contour"
           }
          ],
          "contourcarpet": [
           {
            "colorbar": {
             "outlinewidth": 0,
             "ticks": ""
            },
            "type": "contourcarpet"
           }
          ],
          "heatmap": [
           {
            "colorbar": {
             "outlinewidth": 0,
             "ticks": ""
            },
            "colorscale": [
             [
              0,
              "#0d0887"
             ],
             [
              0.1111111111111111,
              "#46039f"
             ],
             [
              0.2222222222222222,
              "#7201a8"
             ],
             [
              0.3333333333333333,
              "#9c179e"
             ],
             [
              0.4444444444444444,
              "#bd3786"
             ],
             [
              0.5555555555555556,
              "#d8576b"
             ],
             [
              0.6666666666666666,
              "#ed7953"
             ],
             [
              0.7777777777777778,
              "#fb9f3a"
             ],
             [
              0.8888888888888888,
              "#fdca26"
             ],
             [
              1,
              "#f0f921"
             ]
            ],
            "type": "heatmap"
           }
          ],
          "heatmapgl": [
           {
            "colorbar": {
             "outlinewidth": 0,
             "ticks": ""
            },
            "colorscale": [
             [
              0,
              "#0d0887"
             ],
             [
              0.1111111111111111,
              "#46039f"
             ],
             [
              0.2222222222222222,
              "#7201a8"
             ],
             [
              0.3333333333333333,
              "#9c179e"
             ],
             [
              0.4444444444444444,
              "#bd3786"
             ],
             [
              0.5555555555555556,
              "#d8576b"
             ],
             [
              0.6666666666666666,
              "#ed7953"
             ],
             [
              0.7777777777777778,
              "#fb9f3a"
             ],
             [
              0.8888888888888888,
              "#fdca26"
             ],
             [
              1,
              "#f0f921"
             ]
            ],
            "type": "heatmapgl"
           }
          ],
          "histogram": [
           {
            "marker": {
             "pattern": {
              "fillmode": "overlay",
              "size": 10,
              "solidity": 0.2
             }
            },
            "type": "histogram"
           }
          ],
          "histogram2d": [
           {
            "colorbar": {
             "outlinewidth": 0,
             "ticks": ""
            },
            "colorscale": [
             [
              0,
              "#0d0887"
             ],
             [
              0.1111111111111111,
              "#46039f"
             ],
             [
              0.2222222222222222,
              "#7201a8"
             ],
             [
              0.3333333333333333,
              "#9c179e"
             ],
             [
              0.4444444444444444,
              "#bd3786"
             ],
             [
              0.5555555555555556,
              "#d8576b"
             ],
             [
              0.6666666666666666,
              "#ed7953"
             ],
             [
              0.7777777777777778,
              "#fb9f3a"
             ],
             [
              0.8888888888888888,
              "#fdca26"
             ],
             [
              1,
              "#f0f921"
             ]
            ],
            "type": "histogram2d"
           }
          ],
          "histogram2dcontour": [
           {
            "colorbar": {
             "outlinewidth": 0,
             "ticks": ""
            },
            "colorscale": [
             [
              0,
              "#0d0887"
             ],
             [
              0.1111111111111111,
              "#46039f"
             ],
             [
              0.2222222222222222,
              "#7201a8"
             ],
             [
              0.3333333333333333,
              "#9c179e"
             ],
             [
              0.4444444444444444,
              "#bd3786"
             ],
             [
              0.5555555555555556,
              "#d8576b"
             ],
             [
              0.6666666666666666,
              "#ed7953"
             ],
             [
              0.7777777777777778,
              "#fb9f3a"
             ],
             [
              0.8888888888888888,
              "#fdca26"
             ],
             [
              1,
              "#f0f921"
             ]
            ],
            "type": "histogram2dcontour"
           }
          ],
          "mesh3d": [
           {
            "colorbar": {
             "outlinewidth": 0,
             "ticks": ""
            },
            "type": "mesh3d"
           }
          ],
          "parcoords": [
           {
            "line": {
             "colorbar": {
              "outlinewidth": 0,
              "ticks": ""
             }
            },
            "type": "parcoords"
           }
          ],
          "pie": [
           {
            "automargin": true,
            "type": "pie"
           }
          ],
          "scatter": [
           {
            "fillpattern": {
             "fillmode": "overlay",
             "size": 10,
             "solidity": 0.2
            },
            "type": "scatter"
           }
          ],
          "scatter3d": [
           {
            "line": {
             "colorbar": {
              "outlinewidth": 0,
              "ticks": ""
             }
            },
            "marker": {
             "colorbar": {
              "outlinewidth": 0,
              "ticks": ""
             }
            },
            "type": "scatter3d"
           }
          ],
          "scattercarpet": [
           {
            "marker": {
             "colorbar": {
              "outlinewidth": 0,
              "ticks": ""
             }
            },
            "type": "scattercarpet"
           }
          ],
          "scattergeo": [
           {
            "marker": {
             "colorbar": {
              "outlinewidth": 0,
              "ticks": ""
             }
            },
            "type": "scattergeo"
           }
          ],
          "scattergl": [
           {
            "marker": {
             "colorbar": {
              "outlinewidth": 0,
              "ticks": ""
             }
            },
            "type": "scattergl"
           }
          ],
          "scattermapbox": [
           {
            "marker": {
             "colorbar": {
              "outlinewidth": 0,
              "ticks": ""
             }
            },
            "type": "scattermapbox"
           }
          ],
          "scatterpolar": [
           {
            "marker": {
             "colorbar": {
              "outlinewidth": 0,
              "ticks": ""
             }
            },
            "type": "scatterpolar"
           }
          ],
          "scatterpolargl": [
           {
            "marker": {
             "colorbar": {
              "outlinewidth": 0,
              "ticks": ""
             }
            },
            "type": "scatterpolargl"
           }
          ],
          "scatterternary": [
           {
            "marker": {
             "colorbar": {
              "outlinewidth": 0,
              "ticks": ""
             }
            },
            "type": "scatterternary"
           }
          ],
          "surface": [
           {
            "colorbar": {
             "outlinewidth": 0,
             "ticks": ""
            },
            "colorscale": [
             [
              0,
              "#0d0887"
             ],
             [
              0.1111111111111111,
              "#46039f"
             ],
             [
              0.2222222222222222,
              "#7201a8"
             ],
             [
              0.3333333333333333,
              "#9c179e"
             ],
             [
              0.4444444444444444,
              "#bd3786"
             ],
             [
              0.5555555555555556,
              "#d8576b"
             ],
             [
              0.6666666666666666,
              "#ed7953"
             ],
             [
              0.7777777777777778,
              "#fb9f3a"
             ],
             [
              0.8888888888888888,
              "#fdca26"
             ],
             [
              1,
              "#f0f921"
             ]
            ],
            "type": "surface"
           }
          ],
          "table": [
           {
            "cells": {
             "fill": {
              "color": "#EBF0F8"
             },
             "line": {
              "color": "white"
             }
            },
            "header": {
             "fill": {
              "color": "#C8D4E3"
             },
             "line": {
              "color": "white"
             }
            },
            "type": "table"
           }
          ]
         },
         "layout": {
          "annotationdefaults": {
           "arrowcolor": "#2a3f5f",
           "arrowhead": 0,
           "arrowwidth": 1
          },
          "autotypenumbers": "strict",
          "coloraxis": {
           "colorbar": {
            "outlinewidth": 0,
            "ticks": ""
           }
          },
          "colorscale": {
           "diverging": [
            [
             0,
             "#8e0152"
            ],
            [
             0.1,
             "#c51b7d"
            ],
            [
             0.2,
             "#de77ae"
            ],
            [
             0.3,
             "#f1b6da"
            ],
            [
             0.4,
             "#fde0ef"
            ],
            [
             0.5,
             "#f7f7f7"
            ],
            [
             0.6,
             "#e6f5d0"
            ],
            [
             0.7,
             "#b8e186"
            ],
            [
             0.8,
             "#7fbc41"
            ],
            [
             0.9,
             "#4d9221"
            ],
            [
             1,
             "#276419"
            ]
           ],
           "sequential": [
            [
             0,
             "#0d0887"
            ],
            [
             0.1111111111111111,
             "#46039f"
            ],
            [
             0.2222222222222222,
             "#7201a8"
            ],
            [
             0.3333333333333333,
             "#9c179e"
            ],
            [
             0.4444444444444444,
             "#bd3786"
            ],
            [
             0.5555555555555556,
             "#d8576b"
            ],
            [
             0.6666666666666666,
             "#ed7953"
            ],
            [
             0.7777777777777778,
             "#fb9f3a"
            ],
            [
             0.8888888888888888,
             "#fdca26"
            ],
            [
             1,
             "#f0f921"
            ]
           ],
           "sequentialminus": [
            [
             0,
             "#0d0887"
            ],
            [
             0.1111111111111111,
             "#46039f"
            ],
            [
             0.2222222222222222,
             "#7201a8"
            ],
            [
             0.3333333333333333,
             "#9c179e"
            ],
            [
             0.4444444444444444,
             "#bd3786"
            ],
            [
             0.5555555555555556,
             "#d8576b"
            ],
            [
             0.6666666666666666,
             "#ed7953"
            ],
            [
             0.7777777777777778,
             "#fb9f3a"
            ],
            [
             0.8888888888888888,
             "#fdca26"
            ],
            [
             1,
             "#f0f921"
            ]
           ]
          },
          "colorway": [
           "#636efa",
           "#EF553B",
           "#00cc96",
           "#ab63fa",
           "#FFA15A",
           "#19d3f3",
           "#FF6692",
           "#B6E880",
           "#FF97FF",
           "#FECB52"
          ],
          "font": {
           "color": "#2a3f5f"
          },
          "geo": {
           "bgcolor": "white",
           "lakecolor": "white",
           "landcolor": "#E5ECF6",
           "showlakes": true,
           "showland": true,
           "subunitcolor": "white"
          },
          "hoverlabel": {
           "align": "left"
          },
          "hovermode": "closest",
          "mapbox": {
           "style": "light"
          },
          "paper_bgcolor": "white",
          "plot_bgcolor": "#E5ECF6",
          "polar": {
           "angularaxis": {
            "gridcolor": "white",
            "linecolor": "white",
            "ticks": ""
           },
           "bgcolor": "#E5ECF6",
           "radialaxis": {
            "gridcolor": "white",
            "linecolor": "white",
            "ticks": ""
           }
          },
          "scene": {
           "xaxis": {
            "backgroundcolor": "#E5ECF6",
            "gridcolor": "white",
            "gridwidth": 2,
            "linecolor": "white",
            "showbackground": true,
            "ticks": "",
            "zerolinecolor": "white"
           },
           "yaxis": {
            "backgroundcolor": "#E5ECF6",
            "gridcolor": "white",
            "gridwidth": 2,
            "linecolor": "white",
            "showbackground": true,
            "ticks": "",
            "zerolinecolor": "white"
           },
           "zaxis": {
            "backgroundcolor": "#E5ECF6",
            "gridcolor": "white",
            "gridwidth": 2,
            "linecolor": "white",
            "showbackground": true,
            "ticks": "",
            "zerolinecolor": "white"
           }
          },
          "shapedefaults": {
           "line": {
            "color": "#2a3f5f"
           }
          },
          "ternary": {
           "aaxis": {
            "gridcolor": "white",
            "linecolor": "white",
            "ticks": ""
           },
           "baxis": {
            "gridcolor": "white",
            "linecolor": "white",
            "ticks": ""
           },
           "bgcolor": "#E5ECF6",
           "caxis": {
            "gridcolor": "white",
            "linecolor": "white",
            "ticks": ""
           }
          },
          "title": {
           "x": 0.05
          },
          "xaxis": {
           "automargin": true,
           "gridcolor": "white",
           "linecolor": "white",
           "ticks": "",
           "title": {
            "standoff": 15
           },
           "zerolinecolor": "white",
           "zerolinewidth": 2
          },
          "yaxis": {
           "automargin": true,
           "gridcolor": "white",
           "linecolor": "white",
           "ticks": "",
           "title": {
            "standoff": 15
           },
           "zerolinecolor": "white",
           "zerolinewidth": 2
          }
         }
        },
        "xaxis": {
         "autorange": true,
         "range": [
          -1.0341593418407922,
          0.0407779450813085
         ],
         "type": "linear"
        },
        "yaxis": {
         "autorange": true,
         "range": [
          0,
          12457.894736842105
         ],
         "type": "linear"
        }
       }
      },
      "image/png": "[encoded data removed]",
      "text/html": [
       "<div>                            <div id=\"b2226ec6-c61e-4bf0-a83b-8667f27ab5fc\" class=\"plotly-graph-div\" style=\"height:525px; width:100%;\"></div>            <script type=\"text/javascript\">                require([\"plotly\"], function(Plotly) {                    window.PLOTLYENV=window.PLOTLYENV || {};                                    if (document.getElementById(\"b2226ec6-c61e-4bf0-a83b-8667f27ab5fc\")) {                    Plotly.newPlot(                        \"b2226ec6-c61e-4bf0-a83b-8667f27ab5fc\",                        [{\"name\":\"Histogram\",\"width\":[0.0248062450828177,0.0248062450828177,0.0248062450828177,0.0248062450828177,0.0248062450828177,0.024806245082817813,0.0248062450828177,0.0248062450828177,0.0248062450828177,0.0248062450828177,0.0248062450828177,0.0248062450828177,0.0248062450828177,0.0248062450828177,0.0248062450828177,0.0248062450828177,0.0248062450828177,0.0248062450828177,0.0248062450828177,0.0248062450828177,0.0248062450828177,0.0248062450828177,0.0248062450828177,0.024806245082817813,0.0248062450828177,0.0248062450828177,0.0248062450828177,0.0248062450828177,0.0248062450828177,0.0248062450828177,0.0248062450828177,0.0248062450828177,0.0248062450828177,0.0248062450828177,0.0248062450828177,0.0248062450828177,0.0248062450828177,0.0248062450828177,0.0248062450828177,0.024806245082817813],\"x\":[-0.9804124774946872,-0.9556062324118695,-0.9307999873290518,-0.9059937422462341,-0.8811874971634164,-0.8563812520805987,-0.8315750069977809,-0.8067687619149632,-0.7819625168321455,-0.7571562717493278,-0.7323500266665101,-0.7075437815836924,-0.6827375365008747,-0.657931291418057,-0.6331250463352392,-0.6083188012524215,-0.5835125561696038,-0.5587063110867861,-0.5339000660039684,-0.5090938209211507,-0.48428757583833304,-0.45948133075551534,-0.43467508567269764,-0.4098688405898799,-0.3850625955070621,-0.3602563504242444,-0.3354501053414267,-0.310643860258609,-0.2858376151757913,-0.2610313700929736,-0.2362251250101559,-0.2114188799273382,-0.1866126348445205,-0.1618063897617028,-0.1370001446788851,-0.1121938995960674,-0.0873876545132497,-0.062581409430432,-0.0377751643476143,-0.012968919264796541],\"y\":[1205,2491,2805,2611,2716,2726,2928,3041,2897,3042,2954,3319,3182,3316,3259,3639,3678,4106,4074,4188,4173,3432,3417,3427,3520,3597,4124,4402,5182,6172,6427,7009,7645,8420,9862,10383,11126,11835,9744,4667],\"type\":\"bar\"},{\"mode\":\"text\",\"text\":[\"1205\"],\"x\":[-0.9804124774946872],\"y\":[1205],\"type\":\"scatter\"},{\"mode\":\"text\",\"text\":[\"2491\"],\"x\":[-0.9556062324118695],\"y\":[2491],\"type\":\"scatter\"},{\"mode\":\"text\",\"text\":[\"2805\"],\"x\":[-0.9307999873290518],\"y\":[2805],\"type\":\"scatter\"},{\"mode\":\"text\",\"text\":[\"2611\"],\"x\":[-0.9059937422462341],\"y\":[2611],\"type\":\"scatter\"},{\"mode\":\"text\",\"text\":[\"2716\"],\"x\":[-0.8811874971634164],\"y\":[2716],\"type\":\"scatter\"},{\"mode\":\"text\",\"text\":[\"2726\"],\"x\":[-0.8563812520805987],\"y\":[2726],\"type\":\"scatter\"},{\"mode\":\"text\",\"text\":[\"2928\"],\"x\":[-0.8315750069977809],\"y\":[2928],\"type\":\"scatter\"},{\"mode\":\"text\",\"text\":[\"3041\"],\"x\":[-0.8067687619149632],\"y\":[3041],\"type\":\"scatter\"},{\"mode\":\"text\",\"text\":[\"2897\"],\"x\":[-0.7819625168321455],\"y\":[2897],\"type\":\"scatter\"},{\"mode\":\"text\",\"text\":[\"3042\"],\"x\":[-0.7571562717493278],\"y\":[3042],\"type\":\"scatter\"},{\"mode\":\"text\",\"text\":[\"2954\"],\"x\":[-0.7323500266665101],\"y\":[2954],\"type\":\"scatter\"},{\"mode\":\"text\",\"text\":[\"3319\"],\"x\":[-0.7075437815836924],\"y\":[3319],\"type\":\"scatter\"},{\"mode\":\"text\",\"text\":[\"3182\"],\"x\":[-0.6827375365008747],\"y\":[3182],\"type\":\"scatter\"},{\"mode\":\"text\",\"text\":[\"3316\"],\"x\":[-0.657931291418057],\"y\":[3316],\"type\":\"scatter\"},{\"mode\":\"text\",\"text\":[\"3259\"],\"x\":[-0.6331250463352392],\"y\":[3259],\"type\":\"scatter\"},{\"mode\":\"text\",\"text\":[\"3639\"],\"x\":[-0.6083188012524215],\"y\":[3639],\"type\":\"scatter\"},{\"mode\":\"text\",\"text\":[\"3678\"],\"x\":[-0.5835125561696038],\"y\":[3678],\"type\":\"scatter\"},{\"mode\":\"text\",\"text\":[\"4106\"],\"x\":[-0.5587063110867861],\"y\":[4106],\"type\":\"scatter\"},{\"mode\":\"text\",\"text\":[\"4074\"],\"x\":[-0.5339000660039684],\"y\":[4074],\"type\":\"scatter\"},{\"mode\":\"text\",\"text\":[\"4188\"],\"x\":[-0.5090938209211507],\"y\":[4188],\"type\":\"scatter\"},{\"mode\":\"text\",\"text\":[\"4173\"],\"x\":[-0.48428757583833304],\"y\":[4173],\"type\":\"scatter\"},{\"mode\":\"text\",\"text\":[\"3432\"],\"x\":[-0.45948133075551534],\"y\":[3432],\"type\":\"scatter\"},{\"mode\":\"text\",\"text\":[\"3417\"],\"x\":[-0.43467508567269764],\"y\":[3417],\"type\":\"scatter\"},{\"mode\":\"text\",\"text\":[\"3427\"],\"x\":[-0.4098688405898799],\"y\":[3427],\"type\":\"scatter\"},{\"mode\":\"text\",\"text\":[\"3520\"],\"x\":[-0.3850625955070621],\"y\":[3520],\"type\":\"scatter\"},{\"mode\":\"text\",\"text\":[\"3597\"],\"x\":[-0.3602563504242444],\"y\":[3597],\"type\":\"scatter\"},{\"mode\":\"text\",\"text\":[\"4124\"],\"x\":[-0.3354501053414267],\"y\":[4124],\"type\":\"scatter\"},{\"mode\":\"text\",\"text\":[\"4402\"],\"x\":[-0.310643860258609],\"y\":[4402],\"type\":\"scatter\"},{\"mode\":\"text\",\"text\":[\"5182\"],\"x\":[-0.2858376151757913],\"y\":[5182],\"type\":\"scatter\"},{\"mode\":\"text\",\"text\":[\"6172\"],\"x\":[-0.2610313700929736],\"y\":[6172],\"type\":\"scatter\"},{\"mode\":\"text\",\"text\":[\"6427\"],\"x\":[-0.2362251250101559],\"y\":[6427],\"type\":\"scatter\"},{\"mode\":\"text\",\"text\":[\"7009\"],\"x\":[-0.2114188799273382],\"y\":[7009],\"type\":\"scatter\"},{\"mode\":\"text\",\"text\":[\"7645\"],\"x\":[-0.1866126348445205],\"y\":[7645],\"type\":\"scatter\"},{\"mode\":\"text\",\"text\":[\"8420\"],\"x\":[-0.1618063897617028],\"y\":[8420],\"type\":\"scatter\"},{\"mode\":\"text\",\"text\":[\"9862\"],\"x\":[-0.1370001446788851],\"y\":[9862],\"type\":\"scatter\"},{\"mode\":\"text\",\"text\":[\"10383\"],\"x\":[-0.1121938995960674],\"y\":[10383],\"type\":\"scatter\"},{\"mode\":\"text\",\"text\":[\"11126\"],\"x\":[-0.0873876545132497],\"y\":[11126],\"type\":\"scatter\"},{\"mode\":\"text\",\"text\":[\"11835\"],\"x\":[-0.062581409430432],\"y\":[11835],\"type\":\"scatter\"},{\"mode\":\"text\",\"text\":[\"9744\"],\"x\":[-0.0377751643476143],\"y\":[9744],\"type\":\"scatter\"},{\"mode\":\"text\",\"text\":[\"4667\"],\"x\":[-0.012968919264796541],\"y\":[4667],\"type\":\"scatter\"}],                        {\"template\":{\"data\":{\"histogram2dcontour\":[{\"type\":\"histogram2dcontour\",\"colorbar\":{\"outlinewidth\":0,\"ticks\":\"\"},\"colorscale\":[[0.0,\"#0d0887\"],[0.1111111111111111,\"#46039f\"],[0.2222222222222222,\"#7201a8\"],[0.3333333333333333,\"#9c179e\"],[0.4444444444444444,\"#bd3786\"],[0.5555555555555556,\"#d8576b\"],[0.6666666666666666,\"#ed7953\"],[0.7777777777777778,\"#fb9f3a\"],[0.8888888888888888,\"#fdca26\"],[1.0,\"#f0f921\"]]}],\"choropleth\":[{\"type\":\"choropleth\",\"colorbar\":{\"outlinewidth\":0,\"ticks\":\"\"}}],\"histogram2d\":[{\"type\":\"histogram2d\",\"colorbar\":{\"outlinewidth\":0,\"ticks\":\"\"},\"colorscale\":[[0.0,\"#0d0887\"],[0.1111111111111111,\"#46039f\"],[0.2222222222222222,\"#7201a8\"],[0.3333333333333333,\"#9c179e\"],[0.4444444444444444,\"#bd3786\"],[0.5555555555555556,\"#d8576b\"],[0.6666666666666666,\"#ed7953\"],[0.7777777777777778,\"#fb9f3a\"],[0.8888888888888888,\"#fdca26\"],[1.0,\"#f0f921\"]]}],\"heatmap\":[{\"type\":\"heatmap\",\"colorbar\":{\"outlinewidth\":0,\"ticks\":\"\"},\"colorscale\":[[0.0,\"#0d0887\"],[0.1111111111111111,\"#46039f\"],[0.2222222222222222,\"#7201a8\"],[0.3333333333333333,\"#9c179e\"],[0.4444444444444444,\"#bd3786\"],[0.5555555555555556,\"#d8576b\"],[0.6666666666666666,\"#ed7953\"],[0.7777777777777778,\"#fb9f3a\"],[0.8888888888888888,\"#fdca26\"],[1.0,\"#f0f921\"]]}],\"heatmapgl\":[{\"type\":\"heatmapgl\",\"colorbar\":{\"outlinewidth\":0,\"ticks\":\"\"},\"colorscale\":[[0.0,\"#0d0887\"],[0.1111111111111111,\"#46039f\"],[0.2222222222222222,\"#7201a8\"],[0.3333333333333333,\"#9c179e\"],[0.4444444444444444,\"#bd3786\"],[0.5555555555555556,\"#d8576b\"],[0.6666666666666666,\"#ed7953\"],[0.7777777777777778,\"#fb9f3a\"],[0.8888888888888888,\"#fdca26\"],[1.0,\"#f0f921\"]]}],\"contourcarpet\":[{\"type\":\"contourcarpet\",\"colorbar\":{\"outlinewidth\":0,\"ticks\":\"\"}}],\"contour\":[{\"type\":\"contour\",\"colorbar\":{\"outlinewidth\":0,\"ticks\":\"\"},\"colorscale\":[[0.0,\"#0d0887\"],[0.1111111111111111,\"#46039f\"],[0.2222222222222222,\"#7201a8\"],[0.3333333333333333,\"#9c179e\"],[0.4444444444444444,\"#bd3786\"],[0.5555555555555556,\"#d8576b\"],[0.6666666666666666,\"#ed7953\"],[0.7777777777777778,\"#fb9f3a\"],[0.8888888888888888,\"#fdca26\"],[1.0,\"#f0f921\"]]}],\"surface\":[{\"type\":\"surface\",\"colorbar\":{\"outlinewidth\":0,\"ticks\":\"\"},\"colorscale\":[[0.0,\"#0d0887\"],[0.1111111111111111,\"#46039f\"],[0.2222222222222222,\"#7201a8\"],[0.3333333333333333,\"#9c179e\"],[0.4444444444444444,\"#bd3786\"],[0.5555555555555556,\"#d8576b\"],[0.6666666666666666,\"#ed7953\"],[0.7777777777777778,\"#fb9f3a\"],[0.8888888888888888,\"#fdca26\"],[1.0,\"#f0f921\"]]}],\"mesh3d\":[{\"type\":\"mesh3d\",\"colorbar\":{\"outlinewidth\":0,\"ticks\":\"\"}}],\"scatter\":[{\"fillpattern\":{\"fillmode\":\"overlay\",\"size\":10,\"solidity\":0.2},\"type\":\"scatter\"}],\"parcoords\":[{\"type\":\"parcoords\",\"line\":{\"colorbar\":{\"outlinewidth\":0,\"ticks\":\"\"}}}],\"scatterpolargl\":[{\"type\":\"scatterpolargl\",\"marker\":{\"colorbar\":{\"outlinewidth\":0,\"ticks\":\"\"}}}],\"bar\":[{\"error_x\":{\"color\":\"#2a3f5f\"},\"error_y\":{\"color\":\"#2a3f5f\"},\"marker\":{\"line\":{\"color\":\"#E5ECF6\",\"width\":0.5},\"pattern\":{\"fillmode\":\"overlay\",\"size\":10,\"solidity\":0.2}},\"type\":\"bar\"}],\"scattergeo\":[{\"type\":\"scattergeo\",\"marker\":{\"colorbar\":{\"outlinewidth\":0,\"ticks\":\"\"}}}],\"scatterpolar\":[{\"type\":\"scatterpolar\",\"marker\":{\"colorbar\":{\"outlinewidth\":0,\"ticks\":\"\"}}}],\"histogram\":[{\"marker\":{\"pattern\":{\"fillmode\":\"overlay\",\"size\":10,\"solidity\":0.2}},\"type\":\"histogram\"}],\"scattergl\":[{\"type\":\"scattergl\",\"marker\":{\"colorbar\":{\"outlinewidth\":0,\"ticks\":\"\"}}}],\"scatter3d\":[{\"type\":\"scatter3d\",\"line\":{\"colorbar\":{\"outlinewidth\":0,\"ticks\":\"\"}},\"marker\":{\"colorbar\":{\"outlinewidth\":0,\"ticks\":\"\"}}}],\"scattermapbox\":[{\"type\":\"scattermapbox\",\"marker\":{\"colorbar\":{\"outlinewidth\":0,\"ticks\":\"\"}}}],\"scatterternary\":[{\"type\":\"scatterternary\",\"marker\":{\"colorbar\":{\"outlinewidth\":0,\"ticks\":\"\"}}}],\"scattercarpet\":[{\"type\":\"scattercarpet\",\"marker\":{\"colorbar\":{\"outlinewidth\":0,\"ticks\":\"\"}}}],\"carpet\":[{\"aaxis\":{\"endlinecolor\":\"#2a3f5f\",\"gridcolor\":\"white\",\"linecolor\":\"white\",\"minorgridcolor\":\"white\",\"startlinecolor\":\"#2a3f5f\"},\"baxis\":{\"endlinecolor\":\"#2a3f5f\",\"gridcolor\":\"white\",\"linecolor\":\"white\",\"minorgridcolor\":\"white\",\"startlinecolor\":\"#2a3f5f\"},\"type\":\"carpet\"}],\"table\":[{\"cells\":{\"fill\":{\"color\":\"#EBF0F8\"},\"line\":{\"color\":\"white\"}},\"header\":{\"fill\":{\"color\":\"#C8D4E3\"},\"line\":{\"color\":\"white\"}},\"type\":\"table\"}],\"barpolar\":[{\"marker\":{\"line\":{\"color\":\"#E5ECF6\",\"width\":0.5},\"pattern\":{\"fillmode\":\"overlay\",\"size\":10,\"solidity\":0.2}},\"type\":\"barpolar\"}],\"pie\":[{\"automargin\":true,\"type\":\"pie\"}]},\"layout\":{\"autotypenumbers\":\"strict\",\"colorway\":[\"#636efa\",\"#EF553B\",\"#00cc96\",\"#ab63fa\",\"#FFA15A\",\"#19d3f3\",\"#FF6692\",\"#B6E880\",\"#FF97FF\",\"#FECB52\"],\"font\":{\"color\":\"#2a3f5f\"},\"hovermode\":\"closest\",\"hoverlabel\":{\"align\":\"left\"},\"paper_bgcolor\":\"white\",\"plot_bgcolor\":\"#E5ECF6\",\"polar\":{\"bgcolor\":\"#E5ECF6\",\"angularaxis\":{\"gridcolor\":\"white\",\"linecolor\":\"white\",\"ticks\":\"\"},\"radialaxis\":{\"gridcolor\":\"white\",\"linecolor\":\"white\",\"ticks\":\"\"}},\"ternary\":{\"bgcolor\":\"#E5ECF6\",\"aaxis\":{\"gridcolor\":\"white\",\"linecolor\":\"white\",\"ticks\":\"\"},\"baxis\":{\"gridcolor\":\"white\",\"linecolor\":\"white\",\"ticks\":\"\"},\"caxis\":{\"gridcolor\":\"white\",\"linecolor\":\"white\",\"ticks\":\"\"}},\"coloraxis\":{\"colorbar\":{\"outlinewidth\":0,\"ticks\":\"\"}},\"colorscale\":{\"sequential\":[[0.0,\"#0d0887\"],[0.1111111111111111,\"#46039f\"],[0.2222222222222222,\"#7201a8\"],[0.3333333333333333,\"#9c179e\"],[0.4444444444444444,\"#bd3786\"],[0.5555555555555556,\"#d8576b\"],[0.6666666666666666,\"#ed7953\"],[0.7777777777777778,\"#fb9f3a\"],[0.8888888888888888,\"#fdca26\"],[1.0,\"#f0f921\"]],\"sequentialminus\":[[0.0,\"#0d0887\"],[0.1111111111111111,\"#46039f\"],[0.2222222222222222,\"#7201a8\"],[0.3333333333333333,\"#9c179e\"],[0.4444444444444444,\"#bd3786\"],[0.5555555555555556,\"#d8576b\"],[0.6666666666666666,\"#ed7953\"],[0.7777777777777778,\"#fb9f3a\"],[0.8888888888888888,\"#fdca26\"],[1.0,\"#f0f921\"]],\"diverging\":[[0,\"#8e0152\"],[0.1,\"#c51b7d\"],[0.2,\"#de77ae\"],[0.3,\"#f1b6da\"],[0.4,\"#fde0ef\"],[0.5,\"#f7f7f7\"],[0.6,\"#e6f5d0\"],[0.7,\"#b8e186\"],[0.8,\"#7fbc41\"],[0.9,\"#4d9221\"],[1,\"#276419\"]]},\"xaxis\":{\"gridcolor\":\"white\",\"linecolor\":\"white\",\"ticks\":\"\",\"title\":{\"standoff\":15},\"zerolinecolor\":\"white\",\"automargin\":true,\"zerolinewidth\":2},\"yaxis\":{\"gridcolor\":\"white\",\"linecolor\":\"white\",\"ticks\":\"\",\"title\":{\"standoff\":15},\"zerolinecolor\":\"white\",\"automargin\":true,\"zerolinewidth\":2},\"scene\":{\"xaxis\":{\"backgroundcolor\":\"#E5ECF6\",\"gridcolor\":\"white\",\"linecolor\":\"white\",\"showbackground\":true,\"ticks\":\"\",\"zerolinecolor\":\"white\",\"gridwidth\":2},\"yaxis\":{\"backgroundcolor\":\"#E5ECF6\",\"gridcolor\":\"white\",\"linecolor\":\"white\",\"showbackground\":true,\"ticks\":\"\",\"zerolinecolor\":\"white\",\"gridwidth\":2},\"zaxis\":{\"backgroundcolor\":\"#E5ECF6\",\"gridcolor\":\"white\",\"linecolor\":\"white\",\"showbackground\":true,\"ticks\":\"\",\"zerolinecolor\":\"white\",\"gridwidth\":2}},\"shapedefaults\":{\"line\":{\"color\":\"#2a3f5f\"}},\"annotationdefaults\":{\"arrowcolor\":\"#2a3f5f\",\"arrowhead\":0,\"arrowwidth\":1},\"geo\":{\"bgcolor\":\"white\",\"landcolor\":\"#E5ECF6\",\"subunitcolor\":\"white\",\"showland\":true,\"showlakes\":true,\"lakecolor\":\"white\"},\"title\":{\"x\":0.05},\"mapbox\":{\"style\":\"light\"}}}},                        {\"responsive\": true}                    ).then(function(){\n",
       "                            \n",
       "var gd = document.getElementById('b2226ec6-c61e-4bf0-a83b-8667f27ab5fc');\n",
       "var x = new MutationObserver(function (mutations, observer) {{\n",
       "        var display = window.getComputedStyle(gd).display;\n",
       "        if (!display || display === 'none') {{\n",
       "            console.log([gd, 'removed!']);\n",
       "            Plotly.purge(gd);\n",
       "            observer.disconnect();\n",
       "        }}\n",
       "}});\n",
       "\n",
       "// Listen for the removal of the full notebook cells\n",
       "var notebookContainer = gd.closest('#notebook-container');\n",
       "if (notebookContainer) {{\n",
       "    x.observe(notebookContainer, {childList: true});\n",
       "}}\n",
       "\n",
       "// Listen for the clearing of the current output cell\n",
       "var outputEl = gd.closest('.output');\n",
       "if (outputEl) {{\n",
       "    x.observe(outputEl, {childList: true});\n",
       "}}\n",
       "\n",
       "                        })                };                });            </script>        </div>"
      ]
     },
     "metadata": {},
     "output_type": "display_data"
    }
   ],
   "source": [
    "# Plot the figure\n",
    "counts, bins = np.histogram(df_interest['ScoreChange'], bins=40)\n",
    "bin_midpoints = bins[:-1] + np.diff(bins)/2\n",
    "\n",
    "fig = go.Figure()\n",
    "\n",
    "fig.add_trace(go.Bar(\n",
    "    x=bin_midpoints,\n",
    "    y=counts,\n",
    "    width=np.diff(bins), # makes bars have correct widths\n",
    "    name='Histogram'\n",
    "))\n",
    "# add text labels for counts\n",
    "for i in range(len(counts)):\n",
    "    fig.add_trace(go.Scatter(\n",
    "        x=[bin_midpoints[i]],\n",
    "        y=[counts[i]],\n",
    "        text=[str(counts[i])],\n",
    "        mode='text',\n",
    "    ))\n",
    "\n",
    "fig.show()"
   ]
  },
  {
   "cell_type": "code",
   "execution_count": 51,
   "id": "142ab62a-5334-4c9c-862d-ff999319191b",
   "metadata": {},
   "outputs": [
    {
     "data": {
      "text/html": [
       "<div>\n",
       "<style scoped>\n",
       "    .dataframe tbody tr th:only-of-type {\n",
       "        vertical-align: middle;\n",
       "    }\n",
       "\n",
       "    .dataframe tbody tr th {\n",
       "        vertical-align: top;\n",
       "    }\n",
       "\n",
       "    .dataframe thead th {\n",
       "        text-align: right;\n",
       "    }\n",
       "</style>\n",
       "<table border=\"1\" class=\"dataframe\">\n",
       "  <thead>\n",
       "    <tr style=\"text-align: right;\">\n",
       "      <th></th>\n",
       "      <th>chr</th>\n",
       "      <th>strand</th>\n",
       "      <th>Donor_coordinates</th>\n",
       "      <th>Ensemble_Transcript_ID</th>\n",
       "      <th>Mutation_ID</th>\n",
       "      <th>varinat_start</th>\n",
       "      <th>variant_end</th>\n",
       "      <th>ref_neucleotide</th>\n",
       "      <th>alternative_neucleotide</th>\n",
       "      <th>reference_seq</th>\n",
       "      <th>alt_seq</th>\n",
       "      <th>Ref_probab</th>\n",
       "      <th>Alt_probab</th>\n",
       "      <th>ScoreChange</th>\n",
       "      <th>LogOddRatio</th>\n",
       "    </tr>\n",
       "  </thead>\n",
       "  <tbody>\n",
       "    <tr>\n",
       "      <th>73</th>\n",
       "      <td>chr12</td>\n",
       "      <td>+</td>\n",
       "      <td>2797832-2797911</td>\n",
       "      <td>ENST00000001008</td>\n",
       "      <td>MU5033497</td>\n",
       "      <td>2797843</td>\n",
       "      <td>2797845</td>\n",
       "      <td>TC</td>\n",
       "      <td>T</td>\n",
       "      <td>CCTCCAAAGATTCCCCCCAATGCCACGCTTGTATTTGAGGTGAGTG...</td>\n",
       "      <td>CCTCCAAAGATTCCCCCAATGCCACGCTTGTATTTGAGGTGAGTGT...</td>\n",
       "      <td>0.992869</td>\n",
       "      <td>0.153562</td>\n",
       "      <td>-0.833322</td>\n",
       "      <td>9.583951</td>\n",
       "    </tr>\n",
       "    <tr>\n",
       "      <th>187</th>\n",
       "      <td>chr2</td>\n",
       "      <td>+</td>\n",
       "      <td>37241752-37241831</td>\n",
       "      <td>ENST00000002125</td>\n",
       "      <td>MU115229924</td>\n",
       "      <td>37241762</td>\n",
       "      <td>37241763</td>\n",
       "      <td>G</td>\n",
       "      <td>GACGGCGACC</td>\n",
       "      <td>CAATTTCCTGGTACCGAGATCTGCACGATGTTCCAAAAGGTAATTA...</td>\n",
       "      <td>CAATTTCCTGGACGGCGACCTACCGAGATCTGCACGATGTTCCAAA...</td>\n",
       "      <td>0.996401</td>\n",
       "      <td>0.187815</td>\n",
       "      <td>-0.805677</td>\n",
       "      <td>10.225659</td>\n",
       "    </tr>\n",
       "    <tr>\n",
       "      <th>258</th>\n",
       "      <td>chr3</td>\n",
       "      <td>+</td>\n",
       "      <td>50183216-50183295</td>\n",
       "      <td>ENST00000002829</td>\n",
       "      <td>MU121236376</td>\n",
       "      <td>50183244</td>\n",
       "      <td>50183248</td>\n",
       "      <td>ACCT</td>\n",
       "      <td>A</td>\n",
       "      <td>GAGGAACCCTGTCATTTACGCTGTCTTTACCTCCTCTGGGTGAGGC...</td>\n",
       "      <td>GAGGAACCCTGTCATTTACGCTGTCTTTACCTCTGGGTGAGGCTGG...</td>\n",
       "      <td>0.934269</td>\n",
       "      <td>0.051010</td>\n",
       "      <td>-0.825202</td>\n",
       "      <td>8.046739</td>\n",
       "    </tr>\n",
       "    <tr>\n",
       "      <th>387</th>\n",
       "      <td>chr7</td>\n",
       "      <td>+</td>\n",
       "      <td>117665525-117665604</td>\n",
       "      <td>ENST00000003084</td>\n",
       "      <td>MU121288363</td>\n",
       "      <td>117665566</td>\n",
       "      <td>117665567</td>\n",
       "      <td>G</td>\n",
       "      <td>T</td>\n",
       "      <td>CACAGGATAGAAGCAATGCTGGAATGCCAACAATTTTTGGTGAGTC...</td>\n",
       "      <td>CACAGGATAGAAGCAATGCTGGAATGCCAACAATTTTTGGTTAGTC...</td>\n",
       "      <td>0.996652</td>\n",
       "      <td>0.236595</td>\n",
       "      <td>-0.757513</td>\n",
       "      <td>9.907757</td>\n",
       "    </tr>\n",
       "    <tr>\n",
       "      <th>463</th>\n",
       "      <td>chr7</td>\n",
       "      <td>+</td>\n",
       "      <td>117548784-117548863</td>\n",
       "      <td>ENST00000003084</td>\n",
       "      <td>MU9604176</td>\n",
       "      <td>117548785</td>\n",
       "      <td>117548789</td>\n",
       "      <td>AGTT</td>\n",
       "      <td>A</td>\n",
       "      <td>CAGTTGTTGGCGGTTGCTGGATCCACTGGAGCAGGCAAGGTAGTTC...</td>\n",
       "      <td>CAGTTGGCGGTTGCTGGATCCACTGGAGCAGGCAAGGTAGTTCTTT...</td>\n",
       "      <td>0.932159</td>\n",
       "      <td>0.035944</td>\n",
       "      <td>-0.835415</td>\n",
       "      <td>8.525640</td>\n",
       "    </tr>\n",
       "    <tr>\n",
       "      <th>...</th>\n",
       "      <td>...</td>\n",
       "      <td>...</td>\n",
       "      <td>...</td>\n",
       "      <td>...</td>\n",
       "      <td>...</td>\n",
       "      <td>...</td>\n",
       "      <td>...</td>\n",
       "      <td>...</td>\n",
       "      <td>...</td>\n",
       "      <td>...</td>\n",
       "      <td>...</td>\n",
       "      <td>...</td>\n",
       "      <td>...</td>\n",
       "      <td>...</td>\n",
       "      <td>...</td>\n",
       "    </tr>\n",
       "    <tr>\n",
       "      <th>5782221</th>\n",
       "      <td>chr11</td>\n",
       "      <td>-</td>\n",
       "      <td>31801521-31801600</td>\n",
       "      <td>ENST00000640963</td>\n",
       "      <td>MU122532353</td>\n",
       "      <td>31801559</td>\n",
       "      <td>31801560</td>\n",
       "      <td>C</td>\n",
       "      <td>CCTTGGTATGTTAT</td>\n",
       "      <td>GCTTAGGGCAGGGAGGGCAGATGTTCTCAATGAACTTACGCTTGGT...</td>\n",
       "      <td>GCTTAGGGCAGGGAGGGCAGATGTTCTCAATGAACTTACCTTGGTA...</td>\n",
       "      <td>0.904023</td>\n",
       "      <td>0.029055</td>\n",
       "      <td>-0.790991</td>\n",
       "      <td>8.298147</td>\n",
       "    </tr>\n",
       "    <tr>\n",
       "      <th>5782783</th>\n",
       "      <td>chr11</td>\n",
       "      <td>-</td>\n",
       "      <td>31801521-31801600</td>\n",
       "      <td>ENST00000640975</td>\n",
       "      <td>MU122532353</td>\n",
       "      <td>31801559</td>\n",
       "      <td>31801560</td>\n",
       "      <td>C</td>\n",
       "      <td>CCTTGGTATGTTAT</td>\n",
       "      <td>GCTTAGGGCAGGGAGGGCAGATGTTCTCAATGAACTTACGCTTGGT...</td>\n",
       "      <td>GCTTAGGGCAGGGAGGGCAGATGTTCTCAATGAACTTACCTTGGTA...</td>\n",
       "      <td>0.904023</td>\n",
       "      <td>0.029055</td>\n",
       "      <td>-0.790991</td>\n",
       "      <td>8.298147</td>\n",
       "    </tr>\n",
       "    <tr>\n",
       "      <th>5783027</th>\n",
       "      <td>chr4</td>\n",
       "      <td>+</td>\n",
       "      <td>82295748-82295827</td>\n",
       "      <td>ENST00000640984</td>\n",
       "      <td>MU128899559</td>\n",
       "      <td>82295787</td>\n",
       "      <td>82295788</td>\n",
       "      <td>G</td>\n",
       "      <td>A</td>\n",
       "      <td>GCTTTGGATTCTGTGACACCATCTGCATTTCTTAAAAACGTAAGTA...</td>\n",
       "      <td>GCTTTGGATTCTGTGACACCATCTGCATTTCTTAAAAACATAAGTA...</td>\n",
       "      <td>0.993695</td>\n",
       "      <td>0.061732</td>\n",
       "      <td>-0.926087</td>\n",
       "      <td>11.226137</td>\n",
       "    </tr>\n",
       "    <tr>\n",
       "      <th>5783052</th>\n",
       "      <td>chr5</td>\n",
       "      <td>+</td>\n",
       "      <td>162095523-162095602</td>\n",
       "      <td>ENST00000640985</td>\n",
       "      <td>MU85842507</td>\n",
       "      <td>162095562</td>\n",
       "      <td>162095563</td>\n",
       "      <td>G</td>\n",
       "      <td>T</td>\n",
       "      <td>TATGTGAATAGCATTGGTCCAGTGAACGCTATCAATATGGTGAGTT...</td>\n",
       "      <td>TATGTGAATAGCATTGGTCCAGTGAACGCTATCAATATGTTGAGTT...</td>\n",
       "      <td>0.993324</td>\n",
       "      <td>0.060809</td>\n",
       "      <td>-0.926290</td>\n",
       "      <td>11.166274</td>\n",
       "    </tr>\n",
       "    <tr>\n",
       "      <th>5783092</th>\n",
       "      <td>chr5</td>\n",
       "      <td>+</td>\n",
       "      <td>162101278-162101357</td>\n",
       "      <td>ENST00000640985</td>\n",
       "      <td>MU129857950</td>\n",
       "      <td>162101309</td>\n",
       "      <td>162101310</td>\n",
       "      <td>C</td>\n",
       "      <td>A</td>\n",
       "      <td>CAATGGATGAACACTCCTGCCCCTTGGAGTTCTCCAGTTGTAAGTA...</td>\n",
       "      <td>CAATGGATGAACACTCCTGCCCCTTGGAGTTATCCAGTTGTAAGTA...</td>\n",
       "      <td>0.991311</td>\n",
       "      <td>0.126732</td>\n",
       "      <td>-0.857066</td>\n",
       "      <td>9.618584</td>\n",
       "    </tr>\n",
       "  </tbody>\n",
       "</table>\n",
       "<p>25838 rows × 15 columns</p>\n",
       "</div>"
      ],
      "text/plain": [
       "           chr strand    Donor_coordinates Ensemble_Transcript_ID  \\\n",
       "73       chr12      +      2797832-2797911        ENST00000001008   \n",
       "187       chr2      +    37241752-37241831        ENST00000002125   \n",
       "258       chr3      +    50183216-50183295        ENST00000002829   \n",
       "387       chr7      +  117665525-117665604        ENST00000003084   \n",
       "463       chr7      +  117548784-117548863        ENST00000003084   \n",
       "...        ...    ...                  ...                    ...   \n",
       "5782221  chr11      -    31801521-31801600        ENST00000640963   \n",
       "5782783  chr11      -    31801521-31801600        ENST00000640975   \n",
       "5783027   chr4      +    82295748-82295827        ENST00000640984   \n",
       "5783052   chr5      +  162095523-162095602        ENST00000640985   \n",
       "5783092   chr5      +  162101278-162101357        ENST00000640985   \n",
       "\n",
       "         Mutation_ID  varinat_start  variant_end ref_neucleotide  \\\n",
       "73         MU5033497        2797843      2797845              TC   \n",
       "187      MU115229924       37241762     37241763               G   \n",
       "258      MU121236376       50183244     50183248            ACCT   \n",
       "387      MU121288363      117665566    117665567               G   \n",
       "463        MU9604176      117548785    117548789            AGTT   \n",
       "...              ...            ...          ...             ...   \n",
       "5782221  MU122532353       31801559     31801560               C   \n",
       "5782783  MU122532353       31801559     31801560               C   \n",
       "5783027  MU128899559       82295787     82295788               G   \n",
       "5783052   MU85842507      162095562    162095563               G   \n",
       "5783092  MU129857950      162101309    162101310               C   \n",
       "\n",
       "        alternative_neucleotide  \\\n",
       "73                            T   \n",
       "187                  GACGGCGACC   \n",
       "258                           A   \n",
       "387                           T   \n",
       "463                           A   \n",
       "...                         ...   \n",
       "5782221          CCTTGGTATGTTAT   \n",
       "5782783          CCTTGGTATGTTAT   \n",
       "5783027                       A   \n",
       "5783052                       T   \n",
       "5783092                       A   \n",
       "\n",
       "                                             reference_seq  \\\n",
       "73       CCTCCAAAGATTCCCCCCAATGCCACGCTTGTATTTGAGGTGAGTG...   \n",
       "187      CAATTTCCTGGTACCGAGATCTGCACGATGTTCCAAAAGGTAATTA...   \n",
       "258      GAGGAACCCTGTCATTTACGCTGTCTTTACCTCCTCTGGGTGAGGC...   \n",
       "387      CACAGGATAGAAGCAATGCTGGAATGCCAACAATTTTTGGTGAGTC...   \n",
       "463      CAGTTGTTGGCGGTTGCTGGATCCACTGGAGCAGGCAAGGTAGTTC...   \n",
       "...                                                    ...   \n",
       "5782221  GCTTAGGGCAGGGAGGGCAGATGTTCTCAATGAACTTACGCTTGGT...   \n",
       "5782783  GCTTAGGGCAGGGAGGGCAGATGTTCTCAATGAACTTACGCTTGGT...   \n",
       "5783027  GCTTTGGATTCTGTGACACCATCTGCATTTCTTAAAAACGTAAGTA...   \n",
       "5783052  TATGTGAATAGCATTGGTCCAGTGAACGCTATCAATATGGTGAGTT...   \n",
       "5783092  CAATGGATGAACACTCCTGCCCCTTGGAGTTCTCCAGTTGTAAGTA...   \n",
       "\n",
       "                                                   alt_seq  Ref_probab  \\\n",
       "73       CCTCCAAAGATTCCCCCAATGCCACGCTTGTATTTGAGGTGAGTGT...    0.992869   \n",
       "187      CAATTTCCTGGACGGCGACCTACCGAGATCTGCACGATGTTCCAAA...    0.996401   \n",
       "258      GAGGAACCCTGTCATTTACGCTGTCTTTACCTCTGGGTGAGGCTGG...    0.934269   \n",
       "387      CACAGGATAGAAGCAATGCTGGAATGCCAACAATTTTTGGTTAGTC...    0.996652   \n",
       "463      CAGTTGGCGGTTGCTGGATCCACTGGAGCAGGCAAGGTAGTTCTTT...    0.932159   \n",
       "...                                                    ...         ...   \n",
       "5782221  GCTTAGGGCAGGGAGGGCAGATGTTCTCAATGAACTTACCTTGGTA...    0.904023   \n",
       "5782783  GCTTAGGGCAGGGAGGGCAGATGTTCTCAATGAACTTACCTTGGTA...    0.904023   \n",
       "5783027  GCTTTGGATTCTGTGACACCATCTGCATTTCTTAAAAACATAAGTA...    0.993695   \n",
       "5783052  TATGTGAATAGCATTGGTCCAGTGAACGCTATCAATATGTTGAGTT...    0.993324   \n",
       "5783092  CAATGGATGAACACTCCTGCCCCTTGGAGTTATCCAGTTGTAAGTA...    0.991311   \n",
       "\n",
       "         Alt_probab  ScoreChange  LogOddRatio  \n",
       "73         0.153562    -0.833322     9.583951  \n",
       "187        0.187815    -0.805677    10.225659  \n",
       "258        0.051010    -0.825202     8.046739  \n",
       "387        0.236595    -0.757513     9.907757  \n",
       "463        0.035944    -0.835415     8.525640  \n",
       "...             ...          ...          ...  \n",
       "5782221    0.029055    -0.790991     8.298147  \n",
       "5782783    0.029055    -0.790991     8.298147  \n",
       "5783027    0.061732    -0.926087    11.226137  \n",
       "5783052    0.060809    -0.926290    11.166274  \n",
       "5783092    0.126732    -0.857066     9.618584  \n",
       "\n",
       "[25838 rows x 15 columns]"
      ]
     },
     "execution_count": 51,
     "metadata": {},
     "output_type": "execute_result"
    }
   ],
   "source": [
    "df_interest = df_interest[(df_interest['ScoreChange']>0.75)|(df_interest['ScoreChange']<-0.75)]\n",
    "df_interest"
   ]
  },
  {
   "cell_type": "code",
   "execution_count": null,
   "id": "f39df713-cd6c-449d-9ab5-eaf737339e63",
   "metadata": {},
   "outputs": [],
   "source": []
  },
  {
   "cell_type": "code",
   "execution_count": 52,
   "id": "093f7729-4425-4f0f-8733-0f0d7a090f36",
   "metadata": {},
   "outputs": [],
   "source": [
    "#df_interest['Z_Score'] = stats.zscore(df['LogOddRatio'])\n",
    "# df_interest['variant_length'] = df_interest['variant_end']-df_interest['varinat_start']\n",
    "# df_interest"
   ]
  },
  {
   "cell_type": "code",
   "execution_count": 53,
   "id": "bceb589c-c238-4ff7-ac3f-2d4924d0013e",
   "metadata": {},
   "outputs": [],
   "source": [
    "# df_interest = df_interest[df_interest['variant_length']==1]\n",
    "# df_interest"
   ]
  },
  {
   "cell_type": "code",
   "execution_count": 54,
   "id": "c23b28a0-db15-486d-9bfc-2d270bb0a01b",
   "metadata": {},
   "outputs": [
    {
     "name": "stdout",
     "output_type": "stream",
     "text": [
      "9.820861917165008 1.985461200120837\n"
     ]
    }
   ],
   "source": [
    "mean = df_interest['LogOddRatio'].mean()\n",
    "std = df_interest['LogOddRatio'].std()\n",
    "print(mean, std)"
   ]
  },
  {
   "cell_type": "code",
   "execution_count": 55,
   "id": "e3d80ca2-c6de-4fbf-837b-d16d8a6c97fa",
   "metadata": {},
   "outputs": [
    {
     "data": {
      "text/plain": [
       "17.26585598846753"
      ]
     },
     "execution_count": 55,
     "metadata": {},
     "output_type": "execute_result"
    }
   ],
   "source": [
    "max(df_interest['LogOddRatio'])"
   ]
  },
  {
   "cell_type": "code",
   "execution_count": 56,
   "id": "342a3012-00ea-4dcc-b436-d1a0ca9cc928",
   "metadata": {},
   "outputs": [
    {
     "data": {
      "text/plain": [
       "6.572321113615615"
      ]
     },
     "execution_count": 56,
     "metadata": {},
     "output_type": "execute_result"
    }
   ],
   "source": [
    "min(df_interest['LogOddRatio'])"
   ]
  },
  {
   "cell_type": "code",
   "execution_count": 57,
   "id": "ce700e5c-708b-4214-9cab-695a2f53a80b",
   "metadata": {},
   "outputs": [
    {
     "name": "stdout",
     "output_type": "stream",
     "text": [
      "3.864478316802497 15.777245517527518\n"
     ]
    },
    {
     "data": {
      "image/png": "[encoded data removed]",
      "text/plain": [
       "<Figure size 640x480 with 1 Axes>"
      ]
     },
     "metadata": {},
     "output_type": "display_data"
    }
   ],
   "source": [
    "#print(z_score, p_value)\n",
    "# Plot the distribution of 'LogOddRatio'\n",
    "\n",
    "sns.kdeplot(df_interest['LogOddRatio'], fill=True, linewidth=1)\n",
    "\n",
    "# # # Get the extreme values for a two tailed test at alpha = 0.05\n",
    "# z_critical = norm.ppf(1 - 0.05/2) # two-tailed test at alpha = 0.05\n",
    "\n",
    "\n",
    "# print(z_critical)\n",
    "x1, x2 = mean + 3*std, mean - 3*std\n",
    "# x1= 3.3219280948873626\n",
    "# x2 =-3.3219280948873626\n",
    "print(x2, x1)\n",
    "\n",
    "# Shade the area for the two tailed test\n",
    "plt.axvspan(min(df_interest['LogOddRatio']), x2, alpha=0.3, color='red')\n",
    "plt.axvspan(x1, max(df_interest['LogOddRatio']), alpha=0.3, color='red')\n",
    "\n",
    "# Add the observed z-score\n",
    "# plt.text(-17, 0.5, f'Left-tail value = {x2:.2f}', color='blue', ha='left', va='center')\n",
    "# plt.text(-3, 0.54, f'Right-tail value = {x1:.2f}', color='blue', ha='right', va='center')\n",
    "\n",
    "plt.title(f'Distribution of Relative Log Fold changes of Odds for Enhancer Model \\n Left-tail value = {x2:.2f};  Right-tail value = {x1:.2f}')\n",
    "plt.savefig(output_path+ '/Enhancer_LogOddRatio_Distribution.png')\n",
    "plt.show()"
   ]
  },
  {
   "cell_type": "code",
   "execution_count": 58,
   "id": "84f0d768-0f1c-4849-b351-7c833586c8d6",
   "metadata": {},
   "outputs": [],
   "source": [
    "df_selected = df_interest[(df_interest['LogOddRatio']> x1)|(df_interest['LogOddRatio']<  x2)]"
   ]
  },
  {
   "cell_type": "code",
   "execution_count": 59,
   "id": "04057128-4ea0-4ec6-a6ad-c4ec91076780",
   "metadata": {},
   "outputs": [
    {
     "data": {
      "text/html": [
       "<div>\n",
       "<style scoped>\n",
       "    .dataframe tbody tr th:only-of-type {\n",
       "        vertical-align: middle;\n",
       "    }\n",
       "\n",
       "    .dataframe tbody tr th {\n",
       "        vertical-align: top;\n",
       "    }\n",
       "\n",
       "    .dataframe thead th {\n",
       "        text-align: right;\n",
       "    }\n",
       "</style>\n",
       "<table border=\"1\" class=\"dataframe\">\n",
       "  <thead>\n",
       "    <tr style=\"text-align: right;\">\n",
       "      <th></th>\n",
       "      <th>chr</th>\n",
       "      <th>strand</th>\n",
       "      <th>Donor_coordinates</th>\n",
       "      <th>Ensemble_Transcript_ID</th>\n",
       "      <th>Mutation_ID</th>\n",
       "      <th>varinat_start</th>\n",
       "      <th>variant_end</th>\n",
       "      <th>ref_neucleotide</th>\n",
       "      <th>alternative_neucleotide</th>\n",
       "      <th>reference_seq</th>\n",
       "      <th>alt_seq</th>\n",
       "      <th>Ref_probab</th>\n",
       "      <th>Alt_probab</th>\n",
       "      <th>ScoreChange</th>\n",
       "      <th>LogOddRatio</th>\n",
       "    </tr>\n",
       "  </thead>\n",
       "  <tbody>\n",
       "    <tr>\n",
       "      <th>80154</th>\n",
       "      <td>chr6</td>\n",
       "      <td>+</td>\n",
       "      <td>89846605-89846684</td>\n",
       "      <td>ENST00000237177</td>\n",
       "      <td>MU112762718</td>\n",
       "      <td>89846605</td>\n",
       "      <td>89846606</td>\n",
       "      <td>A</td>\n",
       "      <td>ACAATGGT</td>\n",
       "      <td>ACAATGGTGATGGAACAAGTTTATTTGATGTCTTTTCTGGTAAGAG...</td>\n",
       "      <td>ACAATGGTCAATGGTGATGGAACAAGTTTATTTGATGTCTTTTCTG...</td>\n",
       "      <td>0.995746</td>\n",
       "      <td>0.002268</td>\n",
       "      <td>-0.989252</td>\n",
       "      <td>16.651881</td>\n",
       "    </tr>\n",
       "    <tr>\n",
       "      <th>99238</th>\n",
       "      <td>chr19</td>\n",
       "      <td>+</td>\n",
       "      <td>45523656-45523735</td>\n",
       "      <td>ENST00000245932</td>\n",
       "      <td>MU40294919</td>\n",
       "      <td>45523664</td>\n",
       "      <td>45523679</td>\n",
       "      <td>GGAGAAAACCCCCAA</td>\n",
       "      <td>G</td>\n",
       "      <td>CAAGTTGGGGAGAAAACCCCCAAGGATGAATCTGCCAATGTAAGTC...</td>\n",
       "      <td>CAAGTTGGGGGATGAATCTGCCAATGTAAGTCAGGGACTCTTCTTG...</td>\n",
       "      <td>0.993104</td>\n",
       "      <td>0.002008</td>\n",
       "      <td>-0.984261</td>\n",
       "      <td>16.127124</td>\n",
       "    </tr>\n",
       "    <tr>\n",
       "      <th>131586</th>\n",
       "      <td>chr7</td>\n",
       "      <td>+</td>\n",
       "      <td>55401281-55401360</td>\n",
       "      <td>ENST00000254770</td>\n",
       "      <td>MU91614416</td>\n",
       "      <td>55401282</td>\n",
       "      <td>55401300</td>\n",
       "      <td>CCCATGGCATGGCTGGAA</td>\n",
       "      <td>C</td>\n",
       "      <td>GCCCATGGCATGGCTGGAATTTACTATATGTTAATGCAGGTAGGTA...</td>\n",
       "      <td>GCTTTACTATATGTTAATGCAGGTAGGTAAGAATACTCTTACACAC...</td>\n",
       "      <td>0.987727</td>\n",
       "      <td>0.001431</td>\n",
       "      <td>-0.974191</td>\n",
       "      <td>15.777251</td>\n",
       "    </tr>\n",
       "    <tr>\n",
       "      <th>162155</th>\n",
       "      <td>chr15</td>\n",
       "      <td>+</td>\n",
       "      <td>45673762-45673841</td>\n",
       "      <td>ENST00000260324</td>\n",
       "      <td>MU91612419</td>\n",
       "      <td>45673769</td>\n",
       "      <td>45673771</td>\n",
       "      <td>TC</td>\n",
       "      <td>T</td>\n",
       "      <td>CAGAAGATCATGTACTTATCAGAAGCCTACTTCAGGAAGGTATGCT...</td>\n",
       "      <td>CAGAAGATATGTACTTATCAGAAGCCTACTTCAGGAAGGTATGCTT...</td>\n",
       "      <td>0.997100</td>\n",
       "      <td>0.003181</td>\n",
       "      <td>-0.991037</td>\n",
       "      <td>16.717244</td>\n",
       "    </tr>\n",
       "    <tr>\n",
       "      <th>187776</th>\n",
       "      <td>chr8</td>\n",
       "      <td>+</td>\n",
       "      <td>2045129-2045208</td>\n",
       "      <td>ENST00000262113</td>\n",
       "      <td>MU2987044</td>\n",
       "      <td>2045132</td>\n",
       "      <td>2045135</td>\n",
       "      <td>TTC</td>\n",
       "      <td>T</td>\n",
       "      <td>GAATTCTCTCTCCTCCTTGCAATTTTCCTTTCTGTCTGGGTAAGTG...</td>\n",
       "      <td>GAATTCTCTCCTCCTTGCAATTTTCCTTTCTGTCTGGGTAAGTGTC...</td>\n",
       "      <td>0.996817</td>\n",
       "      <td>0.003908</td>\n",
       "      <td>-0.989749</td>\n",
       "      <td>16.284544</td>\n",
       "    </tr>\n",
       "    <tr>\n",
       "      <th>...</th>\n",
       "      <td>...</td>\n",
       "      <td>...</td>\n",
       "      <td>...</td>\n",
       "      <td>...</td>\n",
       "      <td>...</td>\n",
       "      <td>...</td>\n",
       "      <td>...</td>\n",
       "      <td>...</td>\n",
       "      <td>...</td>\n",
       "      <td>...</td>\n",
       "      <td>...</td>\n",
       "      <td>...</td>\n",
       "      <td>...</td>\n",
       "      <td>...</td>\n",
       "      <td>...</td>\n",
       "    </tr>\n",
       "    <tr>\n",
       "      <th>5115099</th>\n",
       "      <td>chr19</td>\n",
       "      <td>+</td>\n",
       "      <td>45523656-45523735</td>\n",
       "      <td>ENST00000588463</td>\n",
       "      <td>MU40294919</td>\n",
       "      <td>45523664</td>\n",
       "      <td>45523679</td>\n",
       "      <td>GGAGAAAACCCCCAA</td>\n",
       "      <td>G</td>\n",
       "      <td>CAAGTTGGGGAGAAAACCCCCAAGGATGAATCTGCCAATGTAAGTC...</td>\n",
       "      <td>CAAGTTGGGGGATGAATCTGCCAATGTAAGTCAGGGACTCTTCTTG...</td>\n",
       "      <td>0.993104</td>\n",
       "      <td>0.002008</td>\n",
       "      <td>-0.984261</td>\n",
       "      <td>16.127124</td>\n",
       "    </tr>\n",
       "    <tr>\n",
       "      <th>5115410</th>\n",
       "      <td>chr19</td>\n",
       "      <td>+</td>\n",
       "      <td>45523656-45523735</td>\n",
       "      <td>ENST00000588482</td>\n",
       "      <td>MU40294919</td>\n",
       "      <td>45523664</td>\n",
       "      <td>45523679</td>\n",
       "      <td>GGAGAAAACCCCCAA</td>\n",
       "      <td>G</td>\n",
       "      <td>CAAGTTGGGGAGAAAACCCCCAAGGATGAATCTGCCAATGTAAGTC...</td>\n",
       "      <td>CAAGTTGGGGGATGAATCTGCCAATGTAAGTCAGGGACTCTTCTTG...</td>\n",
       "      <td>0.993104</td>\n",
       "      <td>0.002008</td>\n",
       "      <td>-0.984261</td>\n",
       "      <td>16.127124</td>\n",
       "    </tr>\n",
       "    <tr>\n",
       "      <th>5291028</th>\n",
       "      <td>chr2</td>\n",
       "      <td>+</td>\n",
       "      <td>216520735-216520814</td>\n",
       "      <td>ENST00000598925</td>\n",
       "      <td>MU91614836</td>\n",
       "      <td>216520764</td>\n",
       "      <td>216520767</td>\n",
       "      <td>GAA</td>\n",
       "      <td>G</td>\n",
       "      <td>CTCCATGAACTCTGCTAATGGAAGACGAGGAAAAGGCAGGTAAGTG...</td>\n",
       "      <td>CTCCATGAACTCTGCTAATGGAAGACGAGGAAGGCAGGTAAGTGAA...</td>\n",
       "      <td>0.998950</td>\n",
       "      <td>0.011350</td>\n",
       "      <td>-0.986564</td>\n",
       "      <td>16.339163</td>\n",
       "    </tr>\n",
       "    <tr>\n",
       "      <th>5509853</th>\n",
       "      <td>chr15</td>\n",
       "      <td>+</td>\n",
       "      <td>95990845-95990924</td>\n",
       "      <td>ENST00000619812</td>\n",
       "      <td>MU91744756</td>\n",
       "      <td>95990858</td>\n",
       "      <td>95990872</td>\n",
       "      <td>AAAGGCTCAAGAAG</td>\n",
       "      <td>A</td>\n",
       "      <td>GCTGCACCTTTCAAAAGGCTCAAGAAGACATTGATTCAAGTAAGTG...</td>\n",
       "      <td>GCTGCACCTTTCAAACATTGATTCAAGTAAGTGCCACATTTTTAAA...</td>\n",
       "      <td>0.998062</td>\n",
       "      <td>0.005469</td>\n",
       "      <td>-0.990669</td>\n",
       "      <td>16.514793</td>\n",
       "    </tr>\n",
       "    <tr>\n",
       "      <th>5534161</th>\n",
       "      <td>chr4</td>\n",
       "      <td>+</td>\n",
       "      <td>73416314-73416393</td>\n",
       "      <td>ENST00000621628</td>\n",
       "      <td>MU4878623</td>\n",
       "      <td>73416339</td>\n",
       "      <td>73416365</td>\n",
       "      <td>AAATTCCAGAATGCGTAAGTAATTTT</td>\n",
       "      <td>A</td>\n",
       "      <td>GCTTTTTGAGCAGCTTGGAGAGTACAAATTCCAGAATGCGTAAGTA...</td>\n",
       "      <td>GCTTTTTGAGCAGCTTGGAGAGTACATATTGACTGATTTTTTTTAT...</td>\n",
       "      <td>0.997920</td>\n",
       "      <td>0.003035</td>\n",
       "      <td>-0.992816</td>\n",
       "      <td>17.265856</td>\n",
       "    </tr>\n",
       "  </tbody>\n",
       "</table>\n",
       "<p>107 rows × 15 columns</p>\n",
       "</div>"
      ],
      "text/plain": [
       "           chr strand    Donor_coordinates Ensemble_Transcript_ID  \\\n",
       "80154     chr6      +    89846605-89846684        ENST00000237177   \n",
       "99238    chr19      +    45523656-45523735        ENST00000245932   \n",
       "131586    chr7      +    55401281-55401360        ENST00000254770   \n",
       "162155   chr15      +    45673762-45673841        ENST00000260324   \n",
       "187776    chr8      +      2045129-2045208        ENST00000262113   \n",
       "...        ...    ...                  ...                    ...   \n",
       "5115099  chr19      +    45523656-45523735        ENST00000588463   \n",
       "5115410  chr19      +    45523656-45523735        ENST00000588482   \n",
       "5291028   chr2      +  216520735-216520814        ENST00000598925   \n",
       "5509853  chr15      +    95990845-95990924        ENST00000619812   \n",
       "5534161   chr4      +    73416314-73416393        ENST00000621628   \n",
       "\n",
       "         Mutation_ID  varinat_start  variant_end             ref_neucleotide  \\\n",
       "80154    MU112762718       89846605     89846606                           A   \n",
       "99238     MU40294919       45523664     45523679             GGAGAAAACCCCCAA   \n",
       "131586    MU91614416       55401282     55401300          CCCATGGCATGGCTGGAA   \n",
       "162155    MU91612419       45673769     45673771                          TC   \n",
       "187776     MU2987044        2045132      2045135                         TTC   \n",
       "...              ...            ...          ...                         ...   \n",
       "5115099   MU40294919       45523664     45523679             GGAGAAAACCCCCAA   \n",
       "5115410   MU40294919       45523664     45523679             GGAGAAAACCCCCAA   \n",
       "5291028   MU91614836      216520764    216520767                         GAA   \n",
       "5509853   MU91744756       95990858     95990872              AAAGGCTCAAGAAG   \n",
       "5534161    MU4878623       73416339     73416365  AAATTCCAGAATGCGTAAGTAATTTT   \n",
       "\n",
       "        alternative_neucleotide  \\\n",
       "80154                  ACAATGGT   \n",
       "99238                         G   \n",
       "131586                        C   \n",
       "162155                        T   \n",
       "187776                        T   \n",
       "...                         ...   \n",
       "5115099                       G   \n",
       "5115410                       G   \n",
       "5291028                       G   \n",
       "5509853                       A   \n",
       "5534161                       A   \n",
       "\n",
       "                                             reference_seq  \\\n",
       "80154    ACAATGGTGATGGAACAAGTTTATTTGATGTCTTTTCTGGTAAGAG...   \n",
       "99238    CAAGTTGGGGAGAAAACCCCCAAGGATGAATCTGCCAATGTAAGTC...   \n",
       "131586   GCCCATGGCATGGCTGGAATTTACTATATGTTAATGCAGGTAGGTA...   \n",
       "162155   CAGAAGATCATGTACTTATCAGAAGCCTACTTCAGGAAGGTATGCT...   \n",
       "187776   GAATTCTCTCTCCTCCTTGCAATTTTCCTTTCTGTCTGGGTAAGTG...   \n",
       "...                                                    ...   \n",
       "5115099  CAAGTTGGGGAGAAAACCCCCAAGGATGAATCTGCCAATGTAAGTC...   \n",
       "5115410  CAAGTTGGGGAGAAAACCCCCAAGGATGAATCTGCCAATGTAAGTC...   \n",
       "5291028  CTCCATGAACTCTGCTAATGGAAGACGAGGAAAAGGCAGGTAAGTG...   \n",
       "5509853  GCTGCACCTTTCAAAAGGCTCAAGAAGACATTGATTCAAGTAAGTG...   \n",
       "5534161  GCTTTTTGAGCAGCTTGGAGAGTACAAATTCCAGAATGCGTAAGTA...   \n",
       "\n",
       "                                                   alt_seq  Ref_probab  \\\n",
       "80154    ACAATGGTCAATGGTGATGGAACAAGTTTATTTGATGTCTTTTCTG...    0.995746   \n",
       "99238    CAAGTTGGGGGATGAATCTGCCAATGTAAGTCAGGGACTCTTCTTG...    0.993104   \n",
       "131586   GCTTTACTATATGTTAATGCAGGTAGGTAAGAATACTCTTACACAC...    0.987727   \n",
       "162155   CAGAAGATATGTACTTATCAGAAGCCTACTTCAGGAAGGTATGCTT...    0.997100   \n",
       "187776   GAATTCTCTCCTCCTTGCAATTTTCCTTTCTGTCTGGGTAAGTGTC...    0.996817   \n",
       "...                                                    ...         ...   \n",
       "5115099  CAAGTTGGGGGATGAATCTGCCAATGTAAGTCAGGGACTCTTCTTG...    0.993104   \n",
       "5115410  CAAGTTGGGGGATGAATCTGCCAATGTAAGTCAGGGACTCTTCTTG...    0.993104   \n",
       "5291028  CTCCATGAACTCTGCTAATGGAAGACGAGGAAGGCAGGTAAGTGAA...    0.998950   \n",
       "5509853  GCTGCACCTTTCAAACATTGATTCAAGTAAGTGCCACATTTTTAAA...    0.998062   \n",
       "5534161  GCTTTTTGAGCAGCTTGGAGAGTACATATTGACTGATTTTTTTTAT...    0.997920   \n",
       "\n",
       "         Alt_probab  ScoreChange  LogOddRatio  \n",
       "80154      0.002268    -0.989252    16.651881  \n",
       "99238      0.002008    -0.984261    16.127124  \n",
       "131586     0.001431    -0.974191    15.777251  \n",
       "162155     0.003181    -0.991037    16.717244  \n",
       "187776     0.003908    -0.989749    16.284544  \n",
       "...             ...          ...          ...  \n",
       "5115099    0.002008    -0.984261    16.127124  \n",
       "5115410    0.002008    -0.984261    16.127124  \n",
       "5291028    0.011350    -0.986564    16.339163  \n",
       "5509853    0.005469    -0.990669    16.514793  \n",
       "5534161    0.003035    -0.992816    17.265856  \n",
       "\n",
       "[107 rows x 15 columns]"
      ]
     },
     "execution_count": 59,
     "metadata": {},
     "output_type": "execute_result"
    }
   ],
   "source": [
    "df_selected"
   ]
  },
  {
   "cell_type": "code",
   "execution_count": 60,
   "id": "f5638ad2-5638-4276-aa2e-8a104bdf1792",
   "metadata": {},
   "outputs": [
    {
     "data": {
      "text/html": [
       "<div>\n",
       "<style scoped>\n",
       "    .dataframe tbody tr th:only-of-type {\n",
       "        vertical-align: middle;\n",
       "    }\n",
       "\n",
       "    .dataframe tbody tr th {\n",
       "        vertical-align: top;\n",
       "    }\n",
       "\n",
       "    .dataframe thead th {\n",
       "        text-align: right;\n",
       "    }\n",
       "</style>\n",
       "<table border=\"1\" class=\"dataframe\">\n",
       "  <thead>\n",
       "    <tr style=\"text-align: right;\">\n",
       "      <th></th>\n",
       "      <th>Mutation_ID</th>\n",
       "      <th>varinat_start</th>\n",
       "      <th>variant_end</th>\n",
       "    </tr>\n",
       "  </thead>\n",
       "  <tbody>\n",
       "    <tr>\n",
       "      <th>80154</th>\n",
       "      <td>MU112762718</td>\n",
       "      <td>89846605</td>\n",
       "      <td>89846606</td>\n",
       "    </tr>\n",
       "    <tr>\n",
       "      <th>99238</th>\n",
       "      <td>MU40294919</td>\n",
       "      <td>45523664</td>\n",
       "      <td>45523679</td>\n",
       "    </tr>\n",
       "    <tr>\n",
       "      <th>131586</th>\n",
       "      <td>MU91614416</td>\n",
       "      <td>55401282</td>\n",
       "      <td>55401300</td>\n",
       "    </tr>\n",
       "    <tr>\n",
       "      <th>162155</th>\n",
       "      <td>MU91612419</td>\n",
       "      <td>45673769</td>\n",
       "      <td>45673771</td>\n",
       "    </tr>\n",
       "    <tr>\n",
       "      <th>187776</th>\n",
       "      <td>MU2987044</td>\n",
       "      <td>2045132</td>\n",
       "      <td>2045135</td>\n",
       "    </tr>\n",
       "    <tr>\n",
       "      <th>265573</th>\n",
       "      <td>MU91606105</td>\n",
       "      <td>48380073</td>\n",
       "      <td>48380106</td>\n",
       "    </tr>\n",
       "    <tr>\n",
       "      <th>347364</th>\n",
       "      <td>MU64922598</td>\n",
       "      <td>77241867</td>\n",
       "      <td>77241870</td>\n",
       "    </tr>\n",
       "    <tr>\n",
       "      <th>395713</th>\n",
       "      <td>MU4878623</td>\n",
       "      <td>73416339</td>\n",
       "      <td>73416365</td>\n",
       "    </tr>\n",
       "    <tr>\n",
       "      <th>418607</th>\n",
       "      <td>MU30300932</td>\n",
       "      <td>124806913</td>\n",
       "      <td>124806921</td>\n",
       "    </tr>\n",
       "    <tr>\n",
       "      <th>514021</th>\n",
       "      <td>MU128809731</td>\n",
       "      <td>13922185</td>\n",
       "      <td>13922222</td>\n",
       "    </tr>\n",
       "    <tr>\n",
       "      <th>577263</th>\n",
       "      <td>MU1826675</td>\n",
       "      <td>68295294</td>\n",
       "      <td>68295301</td>\n",
       "    </tr>\n",
       "    <tr>\n",
       "      <th>632833</th>\n",
       "      <td>MU70957019</td>\n",
       "      <td>42835741</td>\n",
       "      <td>42835744</td>\n",
       "    </tr>\n",
       "    <tr>\n",
       "      <th>675024</th>\n",
       "      <td>MU41620315</td>\n",
       "      <td>45893712</td>\n",
       "      <td>45893722</td>\n",
       "    </tr>\n",
       "    <tr>\n",
       "      <th>845013</th>\n",
       "      <td>MU131809617</td>\n",
       "      <td>161170748</td>\n",
       "      <td>161170749</td>\n",
       "    </tr>\n",
       "    <tr>\n",
       "      <th>1028385</th>\n",
       "      <td>MU121195362</td>\n",
       "      <td>49823114</td>\n",
       "      <td>49823117</td>\n",
       "    </tr>\n",
       "    <tr>\n",
       "      <th>1083699</th>\n",
       "      <td>MU121068684</td>\n",
       "      <td>193082274</td>\n",
       "      <td>193082275</td>\n",
       "    </tr>\n",
       "    <tr>\n",
       "      <th>1133573</th>\n",
       "      <td>MU3861794</td>\n",
       "      <td>106088439</td>\n",
       "      <td>106088453</td>\n",
       "    </tr>\n",
       "    <tr>\n",
       "      <th>1240148</th>\n",
       "      <td>MU3897602</td>\n",
       "      <td>42641679</td>\n",
       "      <td>42641689</td>\n",
       "    </tr>\n",
       "    <tr>\n",
       "      <th>1508903</th>\n",
       "      <td>MU91607680</td>\n",
       "      <td>4012221</td>\n",
       "      <td>4012224</td>\n",
       "    </tr>\n",
       "    <tr>\n",
       "      <th>1614068</th>\n",
       "      <td>MU41353507</td>\n",
       "      <td>138185182</td>\n",
       "      <td>138185186</td>\n",
       "    </tr>\n",
       "    <tr>\n",
       "      <th>1698274</th>\n",
       "      <td>MU63475907</td>\n",
       "      <td>69562253</td>\n",
       "      <td>69562282</td>\n",
       "    </tr>\n",
       "    <tr>\n",
       "      <th>2025602</th>\n",
       "      <td>MU37632858</td>\n",
       "      <td>36755824</td>\n",
       "      <td>36755827</td>\n",
       "    </tr>\n",
       "    <tr>\n",
       "      <th>2025605</th>\n",
       "      <td>MU82016768</td>\n",
       "      <td>36755827</td>\n",
       "      <td>36755830</td>\n",
       "    </tr>\n",
       "    <tr>\n",
       "      <th>2158593</th>\n",
       "      <td>MU91614836</td>\n",
       "      <td>216520764</td>\n",
       "      <td>216520767</td>\n",
       "    </tr>\n",
       "    <tr>\n",
       "      <th>2972484</th>\n",
       "      <td>MU93189855</td>\n",
       "      <td>35879697</td>\n",
       "      <td>35879729</td>\n",
       "    </tr>\n",
       "    <tr>\n",
       "      <th>3815835</th>\n",
       "      <td>MU65026769</td>\n",
       "      <td>137852438</td>\n",
       "      <td>137852453</td>\n",
       "    </tr>\n",
       "    <tr>\n",
       "      <th>4444414</th>\n",
       "      <td>MU70885827</td>\n",
       "      <td>54286713</td>\n",
       "      <td>54286716</td>\n",
       "    </tr>\n",
       "    <tr>\n",
       "      <th>4491845</th>\n",
       "      <td>MU75266532</td>\n",
       "      <td>42636790</td>\n",
       "      <td>42636794</td>\n",
       "    </tr>\n",
       "    <tr>\n",
       "      <th>5509853</th>\n",
       "      <td>MU91744756</td>\n",
       "      <td>95990858</td>\n",
       "      <td>95990872</td>\n",
       "    </tr>\n",
       "  </tbody>\n",
       "</table>\n",
       "</div>"
      ],
      "text/plain": [
       "         Mutation_ID  varinat_start  variant_end\n",
       "80154    MU112762718       89846605     89846606\n",
       "99238     MU40294919       45523664     45523679\n",
       "131586    MU91614416       55401282     55401300\n",
       "162155    MU91612419       45673769     45673771\n",
       "187776     MU2987044        2045132      2045135\n",
       "265573    MU91606105       48380073     48380106\n",
       "347364    MU64922598       77241867     77241870\n",
       "395713     MU4878623       73416339     73416365\n",
       "418607    MU30300932      124806913    124806921\n",
       "514021   MU128809731       13922185     13922222\n",
       "577263     MU1826675       68295294     68295301\n",
       "632833    MU70957019       42835741     42835744\n",
       "675024    MU41620315       45893712     45893722\n",
       "845013   MU131809617      161170748    161170749\n",
       "1028385  MU121195362       49823114     49823117\n",
       "1083699  MU121068684      193082274    193082275\n",
       "1133573    MU3861794      106088439    106088453\n",
       "1240148    MU3897602       42641679     42641689\n",
       "1508903   MU91607680        4012221      4012224\n",
       "1614068   MU41353507      138185182    138185186\n",
       "1698274   MU63475907       69562253     69562282\n",
       "2025602   MU37632858       36755824     36755827\n",
       "2025605   MU82016768       36755827     36755830\n",
       "2158593   MU91614836      216520764    216520767\n",
       "2972484   MU93189855       35879697     35879729\n",
       "3815835   MU65026769      137852438    137852453\n",
       "4444414   MU70885827       54286713     54286716\n",
       "4491845   MU75266532       42636790     42636794\n",
       "5509853   MU91744756       95990858     95990872"
      ]
     },
     "execution_count": 60,
     "metadata": {},
     "output_type": "execute_result"
    }
   ],
   "source": [
    "df_selected[['Mutation_ID', 'varinat_start','variant_end']].drop_duplicates()"
   ]
  },
  {
   "cell_type": "code",
   "execution_count": 61,
   "id": "e347cd8c-47b1-4ab0-a219-fadfcf5c4388",
   "metadata": {},
   "outputs": [
    {
     "data": {
      "text/html": [
       "<div>\n",
       "<style scoped>\n",
       "    .dataframe tbody tr th:only-of-type {\n",
       "        vertical-align: middle;\n",
       "    }\n",
       "\n",
       "    .dataframe tbody tr th {\n",
       "        vertical-align: top;\n",
       "    }\n",
       "\n",
       "    .dataframe thead th {\n",
       "        text-align: right;\n",
       "    }\n",
       "</style>\n",
       "<table border=\"1\" class=\"dataframe\">\n",
       "  <thead>\n",
       "    <tr style=\"text-align: right;\">\n",
       "      <th></th>\n",
       "      <th>chr</th>\n",
       "      <th>Donor_coordinates</th>\n",
       "    </tr>\n",
       "  </thead>\n",
       "  <tbody>\n",
       "    <tr>\n",
       "      <th>80154</th>\n",
       "      <td>chr6</td>\n",
       "      <td>89846605-89846684</td>\n",
       "    </tr>\n",
       "    <tr>\n",
       "      <th>99238</th>\n",
       "      <td>chr19</td>\n",
       "      <td>45523656-45523735</td>\n",
       "    </tr>\n",
       "    <tr>\n",
       "      <th>131586</th>\n",
       "      <td>chr7</td>\n",
       "      <td>55401281-55401360</td>\n",
       "    </tr>\n",
       "    <tr>\n",
       "      <th>162155</th>\n",
       "      <td>chr15</td>\n",
       "      <td>45673762-45673841</td>\n",
       "    </tr>\n",
       "    <tr>\n",
       "      <th>187776</th>\n",
       "      <td>chr8</td>\n",
       "      <td>2045129-2045208</td>\n",
       "    </tr>\n",
       "    <tr>\n",
       "      <th>265573</th>\n",
       "      <td>chr13</td>\n",
       "      <td>48380045-48380124</td>\n",
       "    </tr>\n",
       "    <tr>\n",
       "      <th>347364</th>\n",
       "      <td>chr7</td>\n",
       "      <td>77241861-77241940</td>\n",
       "    </tr>\n",
       "    <tr>\n",
       "      <th>395713</th>\n",
       "      <td>chr4</td>\n",
       "      <td>73416314-73416393</td>\n",
       "    </tr>\n",
       "    <tr>\n",
       "      <th>418607</th>\n",
       "      <td>chr10</td>\n",
       "      <td>124806882-124806961</td>\n",
       "    </tr>\n",
       "    <tr>\n",
       "      <th>514021</th>\n",
       "      <td>chr16</td>\n",
       "      <td>13922172-13922251</td>\n",
       "    </tr>\n",
       "    <tr>\n",
       "      <th>577263</th>\n",
       "      <td>chr5</td>\n",
       "      <td>68295285-68295364</td>\n",
       "    </tr>\n",
       "    <tr>\n",
       "      <th>632833</th>\n",
       "      <td>chr1</td>\n",
       "      <td>42835725-42835804</td>\n",
       "    </tr>\n",
       "    <tr>\n",
       "      <th>675024</th>\n",
       "      <td>chr12</td>\n",
       "      <td>45893682-45893761</td>\n",
       "    </tr>\n",
       "    <tr>\n",
       "      <th>845013</th>\n",
       "      <td>chr1</td>\n",
       "      <td>161170730-161170809</td>\n",
       "    </tr>\n",
       "    <tr>\n",
       "      <th>1028385</th>\n",
       "      <td>chr20</td>\n",
       "      <td>49823102-49823181</td>\n",
       "    </tr>\n",
       "    <tr>\n",
       "      <th>1083699</th>\n",
       "      <td>chr1</td>\n",
       "      <td>193082260-193082339</td>\n",
       "    </tr>\n",
       "    <tr>\n",
       "      <th>1133573</th>\n",
       "      <td>chr6</td>\n",
       "      <td>106088410-106088489</td>\n",
       "    </tr>\n",
       "    <tr>\n",
       "      <th>1240148</th>\n",
       "      <td>chr6</td>\n",
       "      <td>42641653-42641732</td>\n",
       "    </tr>\n",
       "    <tr>\n",
       "      <th>1508903</th>\n",
       "      <td>chr7</td>\n",
       "      <td>4012196-4012275</td>\n",
       "    </tr>\n",
       "    <tr>\n",
       "      <th>1614068</th>\n",
       "      <td>chr5</td>\n",
       "      <td>138185158-138185237</td>\n",
       "    </tr>\n",
       "    <tr>\n",
       "      <th>1698274</th>\n",
       "      <td>chr12</td>\n",
       "      <td>69562235-69562314</td>\n",
       "    </tr>\n",
       "    <tr>\n",
       "      <th>2025602</th>\n",
       "      <td>chr7</td>\n",
       "      <td>36755799-36755878</td>\n",
       "    </tr>\n",
       "    <tr>\n",
       "      <th>2158593</th>\n",
       "      <td>chr2</td>\n",
       "      <td>216520735-216520814</td>\n",
       "    </tr>\n",
       "    <tr>\n",
       "      <th>2972484</th>\n",
       "      <td>chr7</td>\n",
       "      <td>35879680-35879759</td>\n",
       "    </tr>\n",
       "    <tr>\n",
       "      <th>3815835</th>\n",
       "      <td>chr8</td>\n",
       "      <td>137852401-137852480</td>\n",
       "    </tr>\n",
       "    <tr>\n",
       "      <th>4444414</th>\n",
       "      <td>chr12</td>\n",
       "      <td>54286693-54286772</td>\n",
       "    </tr>\n",
       "    <tr>\n",
       "      <th>4491845</th>\n",
       "      <td>chr12</td>\n",
       "      <td>42636775-42636854</td>\n",
       "    </tr>\n",
       "    <tr>\n",
       "      <th>5509853</th>\n",
       "      <td>chr15</td>\n",
       "      <td>95990845-95990924</td>\n",
       "    </tr>\n",
       "  </tbody>\n",
       "</table>\n",
       "</div>"
      ],
      "text/plain": [
       "           chr    Donor_coordinates\n",
       "80154     chr6    89846605-89846684\n",
       "99238    chr19    45523656-45523735\n",
       "131586    chr7    55401281-55401360\n",
       "162155   chr15    45673762-45673841\n",
       "187776    chr8      2045129-2045208\n",
       "265573   chr13    48380045-48380124\n",
       "347364    chr7    77241861-77241940\n",
       "395713    chr4    73416314-73416393\n",
       "418607   chr10  124806882-124806961\n",
       "514021   chr16    13922172-13922251\n",
       "577263    chr5    68295285-68295364\n",
       "632833    chr1    42835725-42835804\n",
       "675024   chr12    45893682-45893761\n",
       "845013    chr1  161170730-161170809\n",
       "1028385  chr20    49823102-49823181\n",
       "1083699   chr1  193082260-193082339\n",
       "1133573   chr6  106088410-106088489\n",
       "1240148   chr6    42641653-42641732\n",
       "1508903   chr7      4012196-4012275\n",
       "1614068   chr5  138185158-138185237\n",
       "1698274  chr12    69562235-69562314\n",
       "2025602   chr7    36755799-36755878\n",
       "2158593   chr2  216520735-216520814\n",
       "2972484   chr7    35879680-35879759\n",
       "3815835   chr8  137852401-137852480\n",
       "4444414  chr12    54286693-54286772\n",
       "4491845  chr12    42636775-42636854\n",
       "5509853  chr15    95990845-95990924"
      ]
     },
     "execution_count": 61,
     "metadata": {},
     "output_type": "execute_result"
    }
   ],
   "source": [
    "df_selected[['chr','Donor_coordinates']].drop_duplicates()"
   ]
  },
  {
   "cell_type": "code",
   "execution_count": 62,
   "id": "d53f2301-c5ee-4608-94dc-cff02ebc6e61",
   "metadata": {},
   "outputs": [],
   "source": [
    "df_selected.to_csv(output_path+\"/Donor_candidate_variants.tsv\", sep= \"\\t\", index=False)\n",
    "df_selected[['Mutation_ID', 'varinat_start','variant_end']].drop_duplicates().reset_index(drop=True).to_csv(output_path+\"/Unique_ICGC_variants_ID.tsv\" ,  sep= \"\\t\", index=False)\n",
    "df_selected[['chr','Donor_coordinates']].drop_duplicates().reset_index(drop=True).to_csv(output_path + \"/Unique_Donors_variants.tsv\", sep=\"\\t\", index=False)"
   ]
  },
  {
   "cell_type": "code",
   "execution_count": 63,
   "id": "cc4e33a4-68c7-445f-b62e-bd43dfaae5e8",
   "metadata": {},
   "outputs": [],
   "source": [
    "df_SNP = df_selected[(df_selected['ref_neucleotide'].str.len() < 2) & \n",
    "                          (df_selected['alternative_neucleotide'].str.len() < 2)]"
   ]
  },
  {
   "cell_type": "code",
   "execution_count": 64,
   "id": "aa9a2fec-0652-4222-b6b3-09b209494b0d",
   "metadata": {},
   "outputs": [
    {
     "data": {
      "text/html": [
       "<div>\n",
       "<style scoped>\n",
       "    .dataframe tbody tr th:only-of-type {\n",
       "        vertical-align: middle;\n",
       "    }\n",
       "\n",
       "    .dataframe tbody tr th {\n",
       "        vertical-align: top;\n",
       "    }\n",
       "\n",
       "    .dataframe thead th {\n",
       "        text-align: right;\n",
       "    }\n",
       "</style>\n",
       "<table border=\"1\" class=\"dataframe\">\n",
       "  <thead>\n",
       "    <tr style=\"text-align: right;\">\n",
       "      <th></th>\n",
       "      <th>chr</th>\n",
       "      <th>strand</th>\n",
       "      <th>Donor_coordinates</th>\n",
       "      <th>Ensemble_Transcript_ID</th>\n",
       "      <th>Mutation_ID</th>\n",
       "      <th>varinat_start</th>\n",
       "      <th>variant_end</th>\n",
       "      <th>ref_neucleotide</th>\n",
       "      <th>alternative_neucleotide</th>\n",
       "      <th>reference_seq</th>\n",
       "      <th>alt_seq</th>\n",
       "      <th>Ref_probab</th>\n",
       "      <th>Alt_probab</th>\n",
       "      <th>ScoreChange</th>\n",
       "      <th>LogOddRatio</th>\n",
       "    </tr>\n",
       "  </thead>\n",
       "  <tbody>\n",
       "  </tbody>\n",
       "</table>\n",
       "</div>"
      ],
      "text/plain": [
       "Empty DataFrame\n",
       "Columns: [chr, strand, Donor_coordinates, Ensemble_Transcript_ID, Mutation_ID, varinat_start, variant_end, ref_neucleotide, alternative_neucleotide, reference_seq, alt_seq, Ref_probab, Alt_probab, ScoreChange, LogOddRatio]\n",
       "Index: []"
      ]
     },
     "execution_count": 64,
     "metadata": {},
     "output_type": "execute_result"
    }
   ],
   "source": [
    "df_SNP"
   ]
  },
  {
   "cell_type": "code",
   "execution_count": 65,
   "id": "6b578e30-47a4-4a57-b6cc-1ebac21a434a",
   "metadata": {},
   "outputs": [
    {
     "data": {
      "text/html": [
       "<div>\n",
       "<style scoped>\n",
       "    .dataframe tbody tr th:only-of-type {\n",
       "        vertical-align: middle;\n",
       "    }\n",
       "\n",
       "    .dataframe tbody tr th {\n",
       "        vertical-align: top;\n",
       "    }\n",
       "\n",
       "    .dataframe thead th {\n",
       "        text-align: right;\n",
       "    }\n",
       "</style>\n",
       "<table border=\"1\" class=\"dataframe\">\n",
       "  <thead>\n",
       "    <tr style=\"text-align: right;\">\n",
       "      <th></th>\n",
       "      <th>Mutation_ID</th>\n",
       "      <th>varinat_start</th>\n",
       "      <th>variant_end</th>\n",
       "    </tr>\n",
       "  </thead>\n",
       "  <tbody>\n",
       "  </tbody>\n",
       "</table>\n",
       "</div>"
      ],
      "text/plain": [
       "Empty DataFrame\n",
       "Columns: [Mutation_ID, varinat_start, variant_end]\n",
       "Index: []"
      ]
     },
     "execution_count": 65,
     "metadata": {},
     "output_type": "execute_result"
    }
   ],
   "source": [
    "df_SNP[['Mutation_ID', 'varinat_start','variant_end']].drop_duplicates()"
   ]
  },
  {
   "cell_type": "code",
   "execution_count": 66,
   "id": "a6e7b007-2110-4cb0-86a0-142744408454",
   "metadata": {},
   "outputs": [
    {
     "data": {
      "text/html": [
       "<div>\n",
       "<style scoped>\n",
       "    .dataframe tbody tr th:only-of-type {\n",
       "        vertical-align: middle;\n",
       "    }\n",
       "\n",
       "    .dataframe tbody tr th {\n",
       "        vertical-align: top;\n",
       "    }\n",
       "\n",
       "    .dataframe thead th {\n",
       "        text-align: right;\n",
       "    }\n",
       "</style>\n",
       "<table border=\"1\" class=\"dataframe\">\n",
       "  <thead>\n",
       "    <tr style=\"text-align: right;\">\n",
       "      <th></th>\n",
       "      <th>chr</th>\n",
       "      <th>Donor_coordinates</th>\n",
       "    </tr>\n",
       "  </thead>\n",
       "  <tbody>\n",
       "  </tbody>\n",
       "</table>\n",
       "</div>"
      ],
      "text/plain": [
       "Empty DataFrame\n",
       "Columns: [chr, Donor_coordinates]\n",
       "Index: []"
      ]
     },
     "execution_count": 66,
     "metadata": {},
     "output_type": "execute_result"
    }
   ],
   "source": [
    "df_SNP[['chr','Donor_coordinates']].drop_duplicates()"
   ]
  },
  {
   "cell_type": "code",
   "execution_count": 67,
   "id": "cfefa5a5-bc6e-4def-83cb-8889cc93ea13",
   "metadata": {},
   "outputs": [],
   "source": [
    "df_SNP.to_csv(output_path+\"/Donor_candidates_SNP.tsv\", sep= \"\\t\", index=False)\n",
    "df_SNP[['Mutation_ID', 'varinat_start','variant_end']].drop_duplicates().reset_index(drop=True).to_csv(output_path+\"/Unique_ICGC_SNP_ID.tsv\" ,  sep= \"\\t\", index=False)\n",
    "df_SNP[['chr','Donor_coordinates']].drop_duplicates().reset_index(drop=True).to_csv(output_path + \"/Unique_Donors_SNP.tsv\", sep=\"\\t\", index=False)"
   ]
  },
  {
   "cell_type": "code",
   "execution_count": null,
   "id": "ad11ff94-0a0a-4528-88d5-15a2d7aaac16",
   "metadata": {},
   "outputs": [],
   "source": []
  }
 ],
 "metadata": {
  "kernelspec": {
   "display_name": "Python 3 (ipykernel)",
   "language": "python",
   "name": "python3"
  },
  "language_info": {
   "codemirror_mode": {
    "name": "ipython",
    "version": 3
   },
   "file_extension": ".py",
   "mimetype": "text/x-python",
   "name": "python",
   "nbconvert_exporter": "python",
   "pygments_lexer": "ipython3",
   "version": "3.10.11"
  }
 },
 "nbformat": 4,
 "nbformat_minor": 5
}
