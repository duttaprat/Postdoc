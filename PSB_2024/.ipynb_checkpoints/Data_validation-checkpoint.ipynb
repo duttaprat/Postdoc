{
 "cells": [
  {
   "cell_type": "code",
   "execution_count": 45,
   "id": "597f39ad-9401-48db-b940-8fcd57b273fa",
   "metadata": {},
   "outputs": [],
   "source": [
    "import os\n",
    "import pandas as pd"
   ]
  },
  {
   "cell_type": "code",
   "execution_count": 46,
   "id": "39a63377-ecfa-48be-bce6-f93c7ce3bc51",
   "metadata": {},
   "outputs": [
    {
     "ename": "ParserError",
     "evalue": "Error tokenizing data. C error: Calling read(nbytes) on source failed. Try engine='python'.",
     "output_type": "error",
     "traceback": [
      "\u001b[0;31m---------------------------------------------------------------------------\u001b[0m",
      "\u001b[0;31mParserError\u001b[0m                               Traceback (most recent call last)",
      "Cell \u001b[0;32mIn[46], line 1\u001b[0m\n\u001b[0;32m----> 1\u001b[0m df  \u001b[38;5;241m=\u001b[39m\u001b[43mpd\u001b[49m\u001b[38;5;241;43m.\u001b[39;49m\u001b[43mread_csv\u001b[49m\u001b[43m(\u001b[49m\u001b[38;5;124;43m\"\u001b[39;49m\u001b[38;5;124;43m/data/projects/PSB/DNABERT_data/CoreProm/chr1/dev.tsv\u001b[39;49m\u001b[38;5;124;43m\"\u001b[39;49m\u001b[43m,\u001b[49m\u001b[43m \u001b[49m\u001b[43msep\u001b[49m\u001b[38;5;241;43m=\u001b[39;49m\u001b[43m \u001b[49m\u001b[38;5;124;43m\"\u001b[39;49m\u001b[38;5;130;43;01m\\t\u001b[39;49;00m\u001b[38;5;124;43m\"\u001b[39;49m\u001b[43m)\u001b[49m\n",
      "File \u001b[0;32m/shared/software/anaconda/anaconda3/lib/python3.10/site-packages/pandas/util/_decorators.py:211\u001b[0m, in \u001b[0;36mdeprecate_kwarg.<locals>._deprecate_kwarg.<locals>.wrapper\u001b[0;34m(*args, **kwargs)\u001b[0m\n\u001b[1;32m    209\u001b[0m     \u001b[38;5;28;01melse\u001b[39;00m:\n\u001b[1;32m    210\u001b[0m         kwargs[new_arg_name] \u001b[38;5;241m=\u001b[39m new_arg_value\n\u001b[0;32m--> 211\u001b[0m \u001b[38;5;28;01mreturn\u001b[39;00m \u001b[43mfunc\u001b[49m\u001b[43m(\u001b[49m\u001b[38;5;241;43m*\u001b[39;49m\u001b[43margs\u001b[49m\u001b[43m,\u001b[49m\u001b[43m \u001b[49m\u001b[38;5;241;43m*\u001b[39;49m\u001b[38;5;241;43m*\u001b[39;49m\u001b[43mkwargs\u001b[49m\u001b[43m)\u001b[49m\n",
      "File \u001b[0;32m/shared/software/anaconda/anaconda3/lib/python3.10/site-packages/pandas/util/_decorators.py:331\u001b[0m, in \u001b[0;36mdeprecate_nonkeyword_arguments.<locals>.decorate.<locals>.wrapper\u001b[0;34m(*args, **kwargs)\u001b[0m\n\u001b[1;32m    325\u001b[0m \u001b[38;5;28;01mif\u001b[39;00m \u001b[38;5;28mlen\u001b[39m(args) \u001b[38;5;241m>\u001b[39m num_allow_args:\n\u001b[1;32m    326\u001b[0m     warnings\u001b[38;5;241m.\u001b[39mwarn(\n\u001b[1;32m    327\u001b[0m         msg\u001b[38;5;241m.\u001b[39mformat(arguments\u001b[38;5;241m=\u001b[39m_format_argument_list(allow_args)),\n\u001b[1;32m    328\u001b[0m         \u001b[38;5;167;01mFutureWarning\u001b[39;00m,\n\u001b[1;32m    329\u001b[0m         stacklevel\u001b[38;5;241m=\u001b[39mfind_stack_level(),\n\u001b[1;32m    330\u001b[0m     )\n\u001b[0;32m--> 331\u001b[0m \u001b[38;5;28;01mreturn\u001b[39;00m \u001b[43mfunc\u001b[49m\u001b[43m(\u001b[49m\u001b[38;5;241;43m*\u001b[39;49m\u001b[43margs\u001b[49m\u001b[43m,\u001b[49m\u001b[43m \u001b[49m\u001b[38;5;241;43m*\u001b[39;49m\u001b[38;5;241;43m*\u001b[39;49m\u001b[43mkwargs\u001b[49m\u001b[43m)\u001b[49m\n",
      "File \u001b[0;32m/shared/software/anaconda/anaconda3/lib/python3.10/site-packages/pandas/io/parsers/readers.py:950\u001b[0m, in \u001b[0;36mread_csv\u001b[0;34m(filepath_or_buffer, sep, delimiter, header, names, index_col, usecols, squeeze, prefix, mangle_dupe_cols, dtype, engine, converters, true_values, false_values, skipinitialspace, skiprows, skipfooter, nrows, na_values, keep_default_na, na_filter, verbose, skip_blank_lines, parse_dates, infer_datetime_format, keep_date_col, date_parser, dayfirst, cache_dates, iterator, chunksize, compression, thousands, decimal, lineterminator, quotechar, quoting, doublequote, escapechar, comment, encoding, encoding_errors, dialect, error_bad_lines, warn_bad_lines, on_bad_lines, delim_whitespace, low_memory, memory_map, float_precision, storage_options)\u001b[0m\n\u001b[1;32m    935\u001b[0m kwds_defaults \u001b[38;5;241m=\u001b[39m _refine_defaults_read(\n\u001b[1;32m    936\u001b[0m     dialect,\n\u001b[1;32m    937\u001b[0m     delimiter,\n\u001b[0;32m   (...)\u001b[0m\n\u001b[1;32m    946\u001b[0m     defaults\u001b[38;5;241m=\u001b[39m{\u001b[38;5;124m\"\u001b[39m\u001b[38;5;124mdelimiter\u001b[39m\u001b[38;5;124m\"\u001b[39m: \u001b[38;5;124m\"\u001b[39m\u001b[38;5;124m,\u001b[39m\u001b[38;5;124m\"\u001b[39m},\n\u001b[1;32m    947\u001b[0m )\n\u001b[1;32m    948\u001b[0m kwds\u001b[38;5;241m.\u001b[39mupdate(kwds_defaults)\n\u001b[0;32m--> 950\u001b[0m \u001b[38;5;28;01mreturn\u001b[39;00m \u001b[43m_read\u001b[49m\u001b[43m(\u001b[49m\u001b[43mfilepath_or_buffer\u001b[49m\u001b[43m,\u001b[49m\u001b[43m \u001b[49m\u001b[43mkwds\u001b[49m\u001b[43m)\u001b[49m\n",
      "File \u001b[0;32m/shared/software/anaconda/anaconda3/lib/python3.10/site-packages/pandas/io/parsers/readers.py:611\u001b[0m, in \u001b[0;36m_read\u001b[0;34m(filepath_or_buffer, kwds)\u001b[0m\n\u001b[1;32m    608\u001b[0m     \u001b[38;5;28;01mreturn\u001b[39;00m parser\n\u001b[1;32m    610\u001b[0m \u001b[38;5;28;01mwith\u001b[39;00m parser:\n\u001b[0;32m--> 611\u001b[0m     \u001b[38;5;28;01mreturn\u001b[39;00m \u001b[43mparser\u001b[49m\u001b[38;5;241;43m.\u001b[39;49m\u001b[43mread\u001b[49m\u001b[43m(\u001b[49m\u001b[43mnrows\u001b[49m\u001b[43m)\u001b[49m\n",
      "File \u001b[0;32m/shared/software/anaconda/anaconda3/lib/python3.10/site-packages/pandas/io/parsers/readers.py:1778\u001b[0m, in \u001b[0;36mTextFileReader.read\u001b[0;34m(self, nrows)\u001b[0m\n\u001b[1;32m   1771\u001b[0m nrows \u001b[38;5;241m=\u001b[39m validate_integer(\u001b[38;5;124m\"\u001b[39m\u001b[38;5;124mnrows\u001b[39m\u001b[38;5;124m\"\u001b[39m, nrows)\n\u001b[1;32m   1772\u001b[0m \u001b[38;5;28;01mtry\u001b[39;00m:\n\u001b[1;32m   1773\u001b[0m     \u001b[38;5;66;03m# error: \"ParserBase\" has no attribute \"read\"\u001b[39;00m\n\u001b[1;32m   1774\u001b[0m     (\n\u001b[1;32m   1775\u001b[0m         index,\n\u001b[1;32m   1776\u001b[0m         columns,\n\u001b[1;32m   1777\u001b[0m         col_dict,\n\u001b[0;32m-> 1778\u001b[0m     ) \u001b[38;5;241m=\u001b[39m \u001b[38;5;28;43mself\u001b[39;49m\u001b[38;5;241;43m.\u001b[39;49m\u001b[43m_engine\u001b[49m\u001b[38;5;241;43m.\u001b[39;49m\u001b[43mread\u001b[49m\u001b[43m(\u001b[49m\u001b[43m  \u001b[49m\u001b[38;5;66;43;03m# type: ignore[attr-defined]\u001b[39;49;00m\n\u001b[1;32m   1779\u001b[0m \u001b[43m        \u001b[49m\u001b[43mnrows\u001b[49m\n\u001b[1;32m   1780\u001b[0m \u001b[43m    \u001b[49m\u001b[43m)\u001b[49m\n\u001b[1;32m   1781\u001b[0m \u001b[38;5;28;01mexcept\u001b[39;00m \u001b[38;5;167;01mException\u001b[39;00m:\n\u001b[1;32m   1782\u001b[0m     \u001b[38;5;28mself\u001b[39m\u001b[38;5;241m.\u001b[39mclose()\n",
      "File \u001b[0;32m/shared/software/anaconda/anaconda3/lib/python3.10/site-packages/pandas/io/parsers/c_parser_wrapper.py:230\u001b[0m, in \u001b[0;36mCParserWrapper.read\u001b[0;34m(self, nrows)\u001b[0m\n\u001b[1;32m    228\u001b[0m \u001b[38;5;28;01mtry\u001b[39;00m:\n\u001b[1;32m    229\u001b[0m     \u001b[38;5;28;01mif\u001b[39;00m \u001b[38;5;28mself\u001b[39m\u001b[38;5;241m.\u001b[39mlow_memory:\n\u001b[0;32m--> 230\u001b[0m         chunks \u001b[38;5;241m=\u001b[39m \u001b[38;5;28;43mself\u001b[39;49m\u001b[38;5;241;43m.\u001b[39;49m\u001b[43m_reader\u001b[49m\u001b[38;5;241;43m.\u001b[39;49m\u001b[43mread_low_memory\u001b[49m\u001b[43m(\u001b[49m\u001b[43mnrows\u001b[49m\u001b[43m)\u001b[49m\n\u001b[1;32m    231\u001b[0m         \u001b[38;5;66;03m# destructive to chunks\u001b[39;00m\n\u001b[1;32m    232\u001b[0m         data \u001b[38;5;241m=\u001b[39m _concatenate_chunks(chunks)\n",
      "File \u001b[0;32m/shared/software/anaconda/anaconda3/lib/python3.10/site-packages/pandas/_libs/parsers.pyx:808\u001b[0m, in \u001b[0;36mpandas._libs.parsers.TextReader.read_low_memory\u001b[0;34m()\u001b[0m\n",
      "File \u001b[0;32m/shared/software/anaconda/anaconda3/lib/python3.10/site-packages/pandas/_libs/parsers.pyx:866\u001b[0m, in \u001b[0;36mpandas._libs.parsers.TextReader._read_rows\u001b[0;34m()\u001b[0m\n",
      "File \u001b[0;32m/shared/software/anaconda/anaconda3/lib/python3.10/site-packages/pandas/_libs/parsers.pyx:852\u001b[0m, in \u001b[0;36mpandas._libs.parsers.TextReader._tokenize_rows\u001b[0;34m()\u001b[0m\n",
      "File \u001b[0;32m/shared/software/anaconda/anaconda3/lib/python3.10/site-packages/pandas/_libs/parsers.pyx:1973\u001b[0m, in \u001b[0;36mpandas._libs.parsers.raise_parser_error\u001b[0;34m()\u001b[0m\n",
      "\u001b[0;31mParserError\u001b[0m: Error tokenizing data. C error: Calling read(nbytes) on source failed. Try engine='python'."
     ]
    }
   ],
   "source": [
    "df  =pd.read_csv(\"/data/projects/PSB/DNABERT_data/CoreProm/chr1/dev.tsv\", sep= \"\\t\")"
   ]
  },
  {
   "cell_type": "code",
   "execution_count": null,
   "id": "5d53d149-8f40-4098-8c91-8bf3df25d1e0",
   "metadata": {},
   "outputs": [],
   "source": [
    "df.columns"
   ]
  },
  {
   "cell_type": "code",
   "execution_count": 2,
   "id": "e596f15f-6693-4ede-a7d2-1e62135e1012",
   "metadata": {},
   "outputs": [],
   "source": [
    "chromosomes = [str(i) for i in range(1, 23)] + ['X', 'Y']"
   ]
  },
  {
   "cell_type": "code",
   "execution_count": 3,
   "id": "6422239c-6006-43fe-9f66-d44e912e86aa",
   "metadata": {},
   "outputs": [
    {
     "name": "stdout",
     "output_type": "stream",
     "text": [
      "/data/projects/PSB/DNABERT_data/Donor/chr1/subfolder20/dev.tsv\n"
     ]
    },
    {
     "name": "stderr",
     "output_type": "stream",
     "text": [
      "/tmp/ipykernel_2717319/3225387847.py:9: DtypeWarning: Columns (1) have mixed types. Specify dtype option on import or set low_memory=False.\n",
      "  df = pd.read_csv(file_name, sep='\\t')\n"
     ]
    },
    {
     "name": "stdout",
     "output_type": "stream",
     "text": [
      "/data/projects/PSB/DNABERT_data/Donor/chr1/subfolder11/dev.tsv\n"
     ]
    },
    {
     "name": "stderr",
     "output_type": "stream",
     "text": [
      "/tmp/ipykernel_2717319/3225387847.py:9: DtypeWarning: Columns (1) have mixed types. Specify dtype option on import or set low_memory=False.\n",
      "  df = pd.read_csv(file_name, sep='\\t')\n"
     ]
    },
    {
     "name": "stdout",
     "output_type": "stream",
     "text": [
      "/data/projects/PSB/DNABERT_data/Donor/chr1/subfolder6/dev.tsv\n"
     ]
    },
    {
     "name": "stderr",
     "output_type": "stream",
     "text": [
      "/tmp/ipykernel_2717319/3225387847.py:9: DtypeWarning: Columns (1) have mixed types. Specify dtype option on import or set low_memory=False.\n",
      "  df = pd.read_csv(file_name, sep='\\t')\n"
     ]
    },
    {
     "name": "stdout",
     "output_type": "stream",
     "text": [
      "/data/projects/PSB/DNABERT_data/Donor/chr1/subfolder10/dev.tsv\n"
     ]
    },
    {
     "name": "stderr",
     "output_type": "stream",
     "text": [
      "/tmp/ipykernel_2717319/3225387847.py:9: DtypeWarning: Columns (1) have mixed types. Specify dtype option on import or set low_memory=False.\n",
      "  df = pd.read_csv(file_name, sep='\\t')\n"
     ]
    },
    {
     "name": "stdout",
     "output_type": "stream",
     "text": [
      "/data/projects/PSB/DNABERT_data/Donor/chr1/subfolder5/dev.tsv\n"
     ]
    },
    {
     "name": "stderr",
     "output_type": "stream",
     "text": [
      "/tmp/ipykernel_2717319/3225387847.py:9: DtypeWarning: Columns (1) have mixed types. Specify dtype option on import or set low_memory=False.\n",
      "  df = pd.read_csv(file_name, sep='\\t')\n"
     ]
    },
    {
     "name": "stdout",
     "output_type": "stream",
     "text": [
      "/data/projects/PSB/DNABERT_data/Donor/chr1/subfolder18/dev.tsv\n"
     ]
    },
    {
     "name": "stderr",
     "output_type": "stream",
     "text": [
      "/tmp/ipykernel_2717319/3225387847.py:9: DtypeWarning: Columns (1) have mixed types. Specify dtype option on import or set low_memory=False.\n",
      "  df = pd.read_csv(file_name, sep='\\t')\n"
     ]
    },
    {
     "name": "stdout",
     "output_type": "stream",
     "text": [
      "/data/projects/PSB/DNABERT_data/Donor/chr1/subfolder4/dev.tsv\n"
     ]
    },
    {
     "name": "stderr",
     "output_type": "stream",
     "text": [
      "/tmp/ipykernel_2717319/3225387847.py:9: DtypeWarning: Columns (1) have mixed types. Specify dtype option on import or set low_memory=False.\n",
      "  df = pd.read_csv(file_name, sep='\\t')\n"
     ]
    },
    {
     "name": "stdout",
     "output_type": "stream",
     "text": [
      "/data/projects/PSB/DNABERT_data/Donor/chr1/subfolder7/dev.tsv\n"
     ]
    },
    {
     "name": "stderr",
     "output_type": "stream",
     "text": [
      "/tmp/ipykernel_2717319/3225387847.py:9: DtypeWarning: Columns (1) have mixed types. Specify dtype option on import or set low_memory=False.\n",
      "  df = pd.read_csv(file_name, sep='\\t')\n"
     ]
    },
    {
     "name": "stdout",
     "output_type": "stream",
     "text": [
      "/data/projects/PSB/DNABERT_data/Donor/chr1/subfolder1/dev.tsv\n"
     ]
    },
    {
     "name": "stderr",
     "output_type": "stream",
     "text": [
      "/tmp/ipykernel_2717319/3225387847.py:9: DtypeWarning: Columns (1) have mixed types. Specify dtype option on import or set low_memory=False.\n",
      "  df = pd.read_csv(file_name, sep='\\t')\n"
     ]
    },
    {
     "name": "stdout",
     "output_type": "stream",
     "text": [
      "/data/projects/PSB/DNABERT_data/Donor/chr1/subfolder8/dev.tsv\n"
     ]
    },
    {
     "name": "stderr",
     "output_type": "stream",
     "text": [
      "/tmp/ipykernel_2717319/3225387847.py:9: DtypeWarning: Columns (1) have mixed types. Specify dtype option on import or set low_memory=False.\n",
      "  df = pd.read_csv(file_name, sep='\\t')\n"
     ]
    },
    {
     "name": "stdout",
     "output_type": "stream",
     "text": [
      "/data/projects/PSB/DNABERT_data/Donor/chr1/subfolder16/dev.tsv\n"
     ]
    },
    {
     "name": "stderr",
     "output_type": "stream",
     "text": [
      "/tmp/ipykernel_2717319/3225387847.py:9: DtypeWarning: Columns (1) have mixed types. Specify dtype option on import or set low_memory=False.\n",
      "  df = pd.read_csv(file_name, sep='\\t')\n"
     ]
    },
    {
     "name": "stdout",
     "output_type": "stream",
     "text": [
      "/data/projects/PSB/DNABERT_data/Donor/chr1/subfolder15/dev.tsv\n"
     ]
    },
    {
     "name": "stderr",
     "output_type": "stream",
     "text": [
      "/tmp/ipykernel_2717319/3225387847.py:9: DtypeWarning: Columns (1) have mixed types. Specify dtype option on import or set low_memory=False.\n",
      "  df = pd.read_csv(file_name, sep='\\t')\n"
     ]
    },
    {
     "name": "stdout",
     "output_type": "stream",
     "text": [
      "/data/projects/PSB/DNABERT_data/Donor/chr1/subfolder14/dev.tsv\n"
     ]
    },
    {
     "name": "stderr",
     "output_type": "stream",
     "text": [
      "/tmp/ipykernel_2717319/3225387847.py:9: DtypeWarning: Columns (1) have mixed types. Specify dtype option on import or set low_memory=False.\n",
      "  df = pd.read_csv(file_name, sep='\\t')\n"
     ]
    },
    {
     "name": "stdout",
     "output_type": "stream",
     "text": [
      "/data/projects/PSB/DNABERT_data/Donor/chr1/subfolder19/dev.tsv\n"
     ]
    },
    {
     "name": "stderr",
     "output_type": "stream",
     "text": [
      "/tmp/ipykernel_2717319/3225387847.py:9: DtypeWarning: Columns (1) have mixed types. Specify dtype option on import or set low_memory=False.\n",
      "  df = pd.read_csv(file_name, sep='\\t')\n"
     ]
    },
    {
     "name": "stdout",
     "output_type": "stream",
     "text": [
      "/data/projects/PSB/DNABERT_data/Donor/chr1/subfolder3/dev.tsv\n"
     ]
    },
    {
     "name": "stderr",
     "output_type": "stream",
     "text": [
      "/tmp/ipykernel_2717319/3225387847.py:9: DtypeWarning: Columns (1) have mixed types. Specify dtype option on import or set low_memory=False.\n",
      "  df = pd.read_csv(file_name, sep='\\t')\n"
     ]
    },
    {
     "name": "stdout",
     "output_type": "stream",
     "text": [
      "/data/projects/PSB/DNABERT_data/Donor/chr1/subfolder9/dev.tsv\n"
     ]
    },
    {
     "name": "stderr",
     "output_type": "stream",
     "text": [
      "/tmp/ipykernel_2717319/3225387847.py:9: DtypeWarning: Columns (1) have mixed types. Specify dtype option on import or set low_memory=False.\n",
      "  df = pd.read_csv(file_name, sep='\\t')\n"
     ]
    },
    {
     "name": "stdout",
     "output_type": "stream",
     "text": [
      "/data/projects/PSB/DNABERT_data/Donor/chr1/subfolder13/dev.tsv\n"
     ]
    },
    {
     "name": "stderr",
     "output_type": "stream",
     "text": [
      "/tmp/ipykernel_2717319/3225387847.py:9: DtypeWarning: Columns (1) have mixed types. Specify dtype option on import or set low_memory=False.\n",
      "  df = pd.read_csv(file_name, sep='\\t')\n"
     ]
    },
    {
     "name": "stdout",
     "output_type": "stream",
     "text": [
      "/data/projects/PSB/DNABERT_data/Donor/chr1/subfolder12/dev.tsv\n"
     ]
    },
    {
     "name": "stderr",
     "output_type": "stream",
     "text": [
      "/tmp/ipykernel_2717319/3225387847.py:9: DtypeWarning: Columns (1) have mixed types. Specify dtype option on import or set low_memory=False.\n",
      "  df = pd.read_csv(file_name, sep='\\t')\n"
     ]
    },
    {
     "name": "stdout",
     "output_type": "stream",
     "text": [
      "/data/projects/PSB/DNABERT_data/Donor/chr1/subfolder17/dev.tsv\n"
     ]
    },
    {
     "name": "stderr",
     "output_type": "stream",
     "text": [
      "/tmp/ipykernel_2717319/3225387847.py:9: DtypeWarning: Columns (1) have mixed types. Specify dtype option on import or set low_memory=False.\n",
      "  df = pd.read_csv(file_name, sep='\\t')\n"
     ]
    },
    {
     "name": "stdout",
     "output_type": "stream",
     "text": [
      "/data/projects/PSB/DNABERT_data/Donor/chr1/subfolder2/dev.tsv\n"
     ]
    },
    {
     "name": "stderr",
     "output_type": "stream",
     "text": [
      "/tmp/ipykernel_2717319/3225387847.py:9: DtypeWarning: Columns (1) have mixed types. Specify dtype option on import or set low_memory=False.\n",
      "  df = pd.read_csv(file_name, sep='\\t')\n"
     ]
    },
    {
     "name": "stdout",
     "output_type": "stream",
     "text": [
      "/data/projects/PSB/DNABERT_data/Donor/chr2/subfolder21/dev.tsv\n"
     ]
    },
    {
     "name": "stderr",
     "output_type": "stream",
     "text": [
      "/tmp/ipykernel_2717319/3225387847.py:9: DtypeWarning: Columns (1) have mixed types. Specify dtype option on import or set low_memory=False.\n",
      "  df = pd.read_csv(file_name, sep='\\t')\n"
     ]
    },
    {
     "name": "stdout",
     "output_type": "stream",
     "text": [
      "/data/projects/PSB/DNABERT_data/Donor/chr2/subfolder20/dev.tsv\n"
     ]
    },
    {
     "name": "stderr",
     "output_type": "stream",
     "text": [
      "/tmp/ipykernel_2717319/3225387847.py:9: DtypeWarning: Columns (1) have mixed types. Specify dtype option on import or set low_memory=False.\n",
      "  df = pd.read_csv(file_name, sep='\\t')\n"
     ]
    },
    {
     "name": "stdout",
     "output_type": "stream",
     "text": [
      "/data/projects/PSB/DNABERT_data/Donor/chr2/subfolder11/dev.tsv\n"
     ]
    },
    {
     "name": "stderr",
     "output_type": "stream",
     "text": [
      "/tmp/ipykernel_2717319/3225387847.py:9: DtypeWarning: Columns (1) have mixed types. Specify dtype option on import or set low_memory=False.\n",
      "  df = pd.read_csv(file_name, sep='\\t')\n"
     ]
    },
    {
     "name": "stdout",
     "output_type": "stream",
     "text": [
      "/data/projects/PSB/DNABERT_data/Donor/chr2/subfolder6/dev.tsv\n"
     ]
    },
    {
     "name": "stderr",
     "output_type": "stream",
     "text": [
      "/tmp/ipykernel_2717319/3225387847.py:9: DtypeWarning: Columns (1) have mixed types. Specify dtype option on import or set low_memory=False.\n",
      "  df = pd.read_csv(file_name, sep='\\t')\n"
     ]
    },
    {
     "name": "stdout",
     "output_type": "stream",
     "text": [
      "/data/projects/PSB/DNABERT_data/Donor/chr2/subfolder10/dev.tsv\n"
     ]
    },
    {
     "name": "stderr",
     "output_type": "stream",
     "text": [
      "/tmp/ipykernel_2717319/3225387847.py:9: DtypeWarning: Columns (1) have mixed types. Specify dtype option on import or set low_memory=False.\n",
      "  df = pd.read_csv(file_name, sep='\\t')\n"
     ]
    },
    {
     "name": "stdout",
     "output_type": "stream",
     "text": [
      "/data/projects/PSB/DNABERT_data/Donor/chr2/subfolder5/dev.tsv\n"
     ]
    },
    {
     "name": "stderr",
     "output_type": "stream",
     "text": [
      "/tmp/ipykernel_2717319/3225387847.py:9: DtypeWarning: Columns (1) have mixed types. Specify dtype option on import or set low_memory=False.\n",
      "  df = pd.read_csv(file_name, sep='\\t')\n"
     ]
    },
    {
     "name": "stdout",
     "output_type": "stream",
     "text": [
      "/data/projects/PSB/DNABERT_data/Donor/chr2/subfolder18/dev.tsv\n"
     ]
    },
    {
     "name": "stderr",
     "output_type": "stream",
     "text": [
      "/tmp/ipykernel_2717319/3225387847.py:9: DtypeWarning: Columns (1) have mixed types. Specify dtype option on import or set low_memory=False.\n",
      "  df = pd.read_csv(file_name, sep='\\t')\n"
     ]
    },
    {
     "name": "stdout",
     "output_type": "stream",
     "text": [
      "/data/projects/PSB/DNABERT_data/Donor/chr2/subfolder4/dev.tsv\n"
     ]
    },
    {
     "name": "stderr",
     "output_type": "stream",
     "text": [
      "/tmp/ipykernel_2717319/3225387847.py:9: DtypeWarning: Columns (1) have mixed types. Specify dtype option on import or set low_memory=False.\n",
      "  df = pd.read_csv(file_name, sep='\\t')\n"
     ]
    },
    {
     "name": "stdout",
     "output_type": "stream",
     "text": [
      "/data/projects/PSB/DNABERT_data/Donor/chr2/subfolder7/dev.tsv\n"
     ]
    },
    {
     "name": "stderr",
     "output_type": "stream",
     "text": [
      "/tmp/ipykernel_2717319/3225387847.py:9: DtypeWarning: Columns (1) have mixed types. Specify dtype option on import or set low_memory=False.\n",
      "  df = pd.read_csv(file_name, sep='\\t')\n"
     ]
    },
    {
     "name": "stdout",
     "output_type": "stream",
     "text": [
      "/data/projects/PSB/DNABERT_data/Donor/chr2/subfolder1/dev.tsv\n"
     ]
    },
    {
     "name": "stderr",
     "output_type": "stream",
     "text": [
      "/tmp/ipykernel_2717319/3225387847.py:9: DtypeWarning: Columns (1) have mixed types. Specify dtype option on import or set low_memory=False.\n",
      "  df = pd.read_csv(file_name, sep='\\t')\n"
     ]
    },
    {
     "name": "stdout",
     "output_type": "stream",
     "text": [
      "/data/projects/PSB/DNABERT_data/Donor/chr2/subfolder8/dev.tsv\n"
     ]
    },
    {
     "name": "stderr",
     "output_type": "stream",
     "text": [
      "/tmp/ipykernel_2717319/3225387847.py:9: DtypeWarning: Columns (1) have mixed types. Specify dtype option on import or set low_memory=False.\n",
      "  df = pd.read_csv(file_name, sep='\\t')\n"
     ]
    },
    {
     "name": "stdout",
     "output_type": "stream",
     "text": [
      "/data/projects/PSB/DNABERT_data/Donor/chr2/subfolder16/dev.tsv\n"
     ]
    },
    {
     "name": "stderr",
     "output_type": "stream",
     "text": [
      "/tmp/ipykernel_2717319/3225387847.py:9: DtypeWarning: Columns (1) have mixed types. Specify dtype option on import or set low_memory=False.\n",
      "  df = pd.read_csv(file_name, sep='\\t')\n"
     ]
    },
    {
     "name": "stdout",
     "output_type": "stream",
     "text": [
      "/data/projects/PSB/DNABERT_data/Donor/chr2/subfolder15/dev.tsv\n"
     ]
    },
    {
     "name": "stderr",
     "output_type": "stream",
     "text": [
      "/tmp/ipykernel_2717319/3225387847.py:9: DtypeWarning: Columns (1) have mixed types. Specify dtype option on import or set low_memory=False.\n",
      "  df = pd.read_csv(file_name, sep='\\t')\n"
     ]
    },
    {
     "name": "stdout",
     "output_type": "stream",
     "text": [
      "/data/projects/PSB/DNABERT_data/Donor/chr2/subfolder14/dev.tsv\n"
     ]
    },
    {
     "name": "stderr",
     "output_type": "stream",
     "text": [
      "/tmp/ipykernel_2717319/3225387847.py:9: DtypeWarning: Columns (1) have mixed types. Specify dtype option on import or set low_memory=False.\n",
      "  df = pd.read_csv(file_name, sep='\\t')\n"
     ]
    },
    {
     "name": "stdout",
     "output_type": "stream",
     "text": [
      "/data/projects/PSB/DNABERT_data/Donor/chr2/subfolder19/dev.tsv\n"
     ]
    },
    {
     "name": "stderr",
     "output_type": "stream",
     "text": [
      "/tmp/ipykernel_2717319/3225387847.py:9: DtypeWarning: Columns (1) have mixed types. Specify dtype option on import or set low_memory=False.\n",
      "  df = pd.read_csv(file_name, sep='\\t')\n"
     ]
    },
    {
     "name": "stdout",
     "output_type": "stream",
     "text": [
      "/data/projects/PSB/DNABERT_data/Donor/chr2/subfolder3/dev.tsv\n"
     ]
    },
    {
     "name": "stderr",
     "output_type": "stream",
     "text": [
      "/tmp/ipykernel_2717319/3225387847.py:9: DtypeWarning: Columns (1) have mixed types. Specify dtype option on import or set low_memory=False.\n",
      "  df = pd.read_csv(file_name, sep='\\t')\n"
     ]
    },
    {
     "name": "stdout",
     "output_type": "stream",
     "text": [
      "/data/projects/PSB/DNABERT_data/Donor/chr2/subfolder9/dev.tsv\n"
     ]
    },
    {
     "name": "stderr",
     "output_type": "stream",
     "text": [
      "/tmp/ipykernel_2717319/3225387847.py:9: DtypeWarning: Columns (1) have mixed types. Specify dtype option on import or set low_memory=False.\n",
      "  df = pd.read_csv(file_name, sep='\\t')\n"
     ]
    },
    {
     "name": "stdout",
     "output_type": "stream",
     "text": [
      "/data/projects/PSB/DNABERT_data/Donor/chr2/subfolder13/dev.tsv\n"
     ]
    },
    {
     "name": "stderr",
     "output_type": "stream",
     "text": [
      "/tmp/ipykernel_2717319/3225387847.py:9: DtypeWarning: Columns (1) have mixed types. Specify dtype option on import or set low_memory=False.\n",
      "  df = pd.read_csv(file_name, sep='\\t')\n"
     ]
    },
    {
     "name": "stdout",
     "output_type": "stream",
     "text": [
      "/data/projects/PSB/DNABERT_data/Donor/chr2/subfolder12/dev.tsv\n"
     ]
    },
    {
     "name": "stderr",
     "output_type": "stream",
     "text": [
      "/tmp/ipykernel_2717319/3225387847.py:9: DtypeWarning: Columns (1) have mixed types. Specify dtype option on import or set low_memory=False.\n",
      "  df = pd.read_csv(file_name, sep='\\t')\n"
     ]
    },
    {
     "name": "stdout",
     "output_type": "stream",
     "text": [
      "/data/projects/PSB/DNABERT_data/Donor/chr2/subfolder22/dev.tsv\n"
     ]
    },
    {
     "name": "stderr",
     "output_type": "stream",
     "text": [
      "/tmp/ipykernel_2717319/3225387847.py:9: DtypeWarning: Columns (1) have mixed types. Specify dtype option on import or set low_memory=False.\n",
      "  df = pd.read_csv(file_name, sep='\\t')\n"
     ]
    },
    {
     "name": "stdout",
     "output_type": "stream",
     "text": [
      "/data/projects/PSB/DNABERT_data/Donor/chr2/subfolder17/dev.tsv\n"
     ]
    },
    {
     "name": "stderr",
     "output_type": "stream",
     "text": [
      "/tmp/ipykernel_2717319/3225387847.py:9: DtypeWarning: Columns (1) have mixed types. Specify dtype option on import or set low_memory=False.\n",
      "  df = pd.read_csv(file_name, sep='\\t')\n"
     ]
    },
    {
     "name": "stdout",
     "output_type": "stream",
     "text": [
      "/data/projects/PSB/DNABERT_data/Donor/chr2/subfolder2/dev.tsv\n"
     ]
    },
    {
     "name": "stderr",
     "output_type": "stream",
     "text": [
      "/tmp/ipykernel_2717319/3225387847.py:9: DtypeWarning: Columns (1) have mixed types. Specify dtype option on import or set low_memory=False.\n",
      "  df = pd.read_csv(file_name, sep='\\t')\n"
     ]
    },
    {
     "name": "stdout",
     "output_type": "stream",
     "text": [
      "/data/projects/PSB/DNABERT_data/Donor/chr3/subfolder20/dev.tsv\n"
     ]
    },
    {
     "name": "stderr",
     "output_type": "stream",
     "text": [
      "/tmp/ipykernel_2717319/3225387847.py:9: DtypeWarning: Columns (1) have mixed types. Specify dtype option on import or set low_memory=False.\n",
      "  df = pd.read_csv(file_name, sep='\\t')\n"
     ]
    },
    {
     "name": "stdout",
     "output_type": "stream",
     "text": [
      "/data/projects/PSB/DNABERT_data/Donor/chr3/subfolder11/dev.tsv\n"
     ]
    },
    {
     "name": "stderr",
     "output_type": "stream",
     "text": [
      "/tmp/ipykernel_2717319/3225387847.py:9: DtypeWarning: Columns (1) have mixed types. Specify dtype option on import or set low_memory=False.\n",
      "  df = pd.read_csv(file_name, sep='\\t')\n"
     ]
    },
    {
     "name": "stdout",
     "output_type": "stream",
     "text": [
      "/data/projects/PSB/DNABERT_data/Donor/chr3/subfolder6/dev.tsv\n"
     ]
    },
    {
     "name": "stderr",
     "output_type": "stream",
     "text": [
      "/tmp/ipykernel_2717319/3225387847.py:9: DtypeWarning: Columns (1) have mixed types. Specify dtype option on import or set low_memory=False.\n",
      "  df = pd.read_csv(file_name, sep='\\t')\n"
     ]
    },
    {
     "name": "stdout",
     "output_type": "stream",
     "text": [
      "/data/projects/PSB/DNABERT_data/Donor/chr3/subfolder10/dev.tsv\n"
     ]
    },
    {
     "name": "stderr",
     "output_type": "stream",
     "text": [
      "/tmp/ipykernel_2717319/3225387847.py:9: DtypeWarning: Columns (1) have mixed types. Specify dtype option on import or set low_memory=False.\n",
      "  df = pd.read_csv(file_name, sep='\\t')\n"
     ]
    },
    {
     "name": "stdout",
     "output_type": "stream",
     "text": [
      "/data/projects/PSB/DNABERT_data/Donor/chr3/subfolder5/dev.tsv\n"
     ]
    },
    {
     "name": "stderr",
     "output_type": "stream",
     "text": [
      "/tmp/ipykernel_2717319/3225387847.py:9: DtypeWarning: Columns (1) have mixed types. Specify dtype option on import or set low_memory=False.\n",
      "  df = pd.read_csv(file_name, sep='\\t')\n"
     ]
    },
    {
     "name": "stdout",
     "output_type": "stream",
     "text": [
      "/data/projects/PSB/DNABERT_data/Donor/chr3/subfolder18/dev.tsv\n"
     ]
    },
    {
     "name": "stderr",
     "output_type": "stream",
     "text": [
      "/tmp/ipykernel_2717319/3225387847.py:9: DtypeWarning: Columns (1) have mixed types. Specify dtype option on import or set low_memory=False.\n",
      "  df = pd.read_csv(file_name, sep='\\t')\n"
     ]
    },
    {
     "name": "stdout",
     "output_type": "stream",
     "text": [
      "/data/projects/PSB/DNABERT_data/Donor/chr3/subfolder4/dev.tsv\n"
     ]
    },
    {
     "name": "stderr",
     "output_type": "stream",
     "text": [
      "/tmp/ipykernel_2717319/3225387847.py:9: DtypeWarning: Columns (1) have mixed types. Specify dtype option on import or set low_memory=False.\n",
      "  df = pd.read_csv(file_name, sep='\\t')\n"
     ]
    },
    {
     "name": "stdout",
     "output_type": "stream",
     "text": [
      "/data/projects/PSB/DNABERT_data/Donor/chr3/subfolder7/dev.tsv\n"
     ]
    },
    {
     "name": "stderr",
     "output_type": "stream",
     "text": [
      "/tmp/ipykernel_2717319/3225387847.py:9: DtypeWarning: Columns (1) have mixed types. Specify dtype option on import or set low_memory=False.\n",
      "  df = pd.read_csv(file_name, sep='\\t')\n"
     ]
    },
    {
     "name": "stdout",
     "output_type": "stream",
     "text": [
      "/data/projects/PSB/DNABERT_data/Donor/chr3/subfolder1/dev.tsv\n"
     ]
    },
    {
     "name": "stderr",
     "output_type": "stream",
     "text": [
      "/tmp/ipykernel_2717319/3225387847.py:9: DtypeWarning: Columns (1) have mixed types. Specify dtype option on import or set low_memory=False.\n",
      "  df = pd.read_csv(file_name, sep='\\t')\n"
     ]
    },
    {
     "name": "stdout",
     "output_type": "stream",
     "text": [
      "/data/projects/PSB/DNABERT_data/Donor/chr3/subfolder8/dev.tsv\n"
     ]
    },
    {
     "name": "stderr",
     "output_type": "stream",
     "text": [
      "/tmp/ipykernel_2717319/3225387847.py:9: DtypeWarning: Columns (1) have mixed types. Specify dtype option on import or set low_memory=False.\n",
      "  df = pd.read_csv(file_name, sep='\\t')\n"
     ]
    },
    {
     "name": "stdout",
     "output_type": "stream",
     "text": [
      "/data/projects/PSB/DNABERT_data/Donor/chr3/subfolder16/dev.tsv\n"
     ]
    },
    {
     "name": "stderr",
     "output_type": "stream",
     "text": [
      "/tmp/ipykernel_2717319/3225387847.py:9: DtypeWarning: Columns (1) have mixed types. Specify dtype option on import or set low_memory=False.\n",
      "  df = pd.read_csv(file_name, sep='\\t')\n"
     ]
    },
    {
     "name": "stdout",
     "output_type": "stream",
     "text": [
      "/data/projects/PSB/DNABERT_data/Donor/chr3/subfolder15/dev.tsv\n"
     ]
    },
    {
     "name": "stderr",
     "output_type": "stream",
     "text": [
      "/tmp/ipykernel_2717319/3225387847.py:9: DtypeWarning: Columns (1) have mixed types. Specify dtype option on import or set low_memory=False.\n",
      "  df = pd.read_csv(file_name, sep='\\t')\n"
     ]
    },
    {
     "name": "stdout",
     "output_type": "stream",
     "text": [
      "/data/projects/PSB/DNABERT_data/Donor/chr3/subfolder14/dev.tsv\n"
     ]
    },
    {
     "name": "stderr",
     "output_type": "stream",
     "text": [
      "/tmp/ipykernel_2717319/3225387847.py:9: DtypeWarning: Columns (1) have mixed types. Specify dtype option on import or set low_memory=False.\n",
      "  df = pd.read_csv(file_name, sep='\\t')\n"
     ]
    },
    {
     "name": "stdout",
     "output_type": "stream",
     "text": [
      "/data/projects/PSB/DNABERT_data/Donor/chr3/subfolder19/dev.tsv\n"
     ]
    },
    {
     "name": "stderr",
     "output_type": "stream",
     "text": [
      "/tmp/ipykernel_2717319/3225387847.py:9: DtypeWarning: Columns (1) have mixed types. Specify dtype option on import or set low_memory=False.\n",
      "  df = pd.read_csv(file_name, sep='\\t')\n"
     ]
    },
    {
     "name": "stdout",
     "output_type": "stream",
     "text": [
      "/data/projects/PSB/DNABERT_data/Donor/chr3/subfolder3/dev.tsv\n"
     ]
    },
    {
     "name": "stderr",
     "output_type": "stream",
     "text": [
      "/tmp/ipykernel_2717319/3225387847.py:9: DtypeWarning: Columns (1) have mixed types. Specify dtype option on import or set low_memory=False.\n",
      "  df = pd.read_csv(file_name, sep='\\t')\n"
     ]
    },
    {
     "name": "stdout",
     "output_type": "stream",
     "text": [
      "/data/projects/PSB/DNABERT_data/Donor/chr3/subfolder9/dev.tsv\n"
     ]
    },
    {
     "name": "stderr",
     "output_type": "stream",
     "text": [
      "/tmp/ipykernel_2717319/3225387847.py:9: DtypeWarning: Columns (1) have mixed types. Specify dtype option on import or set low_memory=False.\n",
      "  df = pd.read_csv(file_name, sep='\\t')\n"
     ]
    },
    {
     "name": "stdout",
     "output_type": "stream",
     "text": [
      "/data/projects/PSB/DNABERT_data/Donor/chr3/subfolder13/dev.tsv\n"
     ]
    },
    {
     "name": "stderr",
     "output_type": "stream",
     "text": [
      "/tmp/ipykernel_2717319/3225387847.py:9: DtypeWarning: Columns (1) have mixed types. Specify dtype option on import or set low_memory=False.\n",
      "  df = pd.read_csv(file_name, sep='\\t')\n"
     ]
    },
    {
     "name": "stdout",
     "output_type": "stream",
     "text": [
      "/data/projects/PSB/DNABERT_data/Donor/chr3/subfolder12/dev.tsv\n"
     ]
    },
    {
     "name": "stderr",
     "output_type": "stream",
     "text": [
      "/tmp/ipykernel_2717319/3225387847.py:9: DtypeWarning: Columns (1) have mixed types. Specify dtype option on import or set low_memory=False.\n",
      "  df = pd.read_csv(file_name, sep='\\t')\n"
     ]
    },
    {
     "name": "stdout",
     "output_type": "stream",
     "text": [
      "/data/projects/PSB/DNABERT_data/Donor/chr3/subfolder17/dev.tsv\n"
     ]
    },
    {
     "name": "stderr",
     "output_type": "stream",
     "text": [
      "/tmp/ipykernel_2717319/3225387847.py:9: DtypeWarning: Columns (1) have mixed types. Specify dtype option on import or set low_memory=False.\n",
      "  df = pd.read_csv(file_name, sep='\\t')\n"
     ]
    },
    {
     "name": "stdout",
     "output_type": "stream",
     "text": [
      "/data/projects/PSB/DNABERT_data/Donor/chr3/subfolder2/dev.tsv\n"
     ]
    },
    {
     "name": "stderr",
     "output_type": "stream",
     "text": [
      "/tmp/ipykernel_2717319/3225387847.py:9: DtypeWarning: Columns (1) have mixed types. Specify dtype option on import or set low_memory=False.\n",
      "  df = pd.read_csv(file_name, sep='\\t')\n"
     ]
    },
    {
     "name": "stdout",
     "output_type": "stream",
     "text": [
      "/data/projects/PSB/DNABERT_data/Donor/chr4/subfolder11/dev.tsv\n"
     ]
    },
    {
     "name": "stderr",
     "output_type": "stream",
     "text": [
      "/tmp/ipykernel_2717319/3225387847.py:9: DtypeWarning: Columns (1) have mixed types. Specify dtype option on import or set low_memory=False.\n",
      "  df = pd.read_csv(file_name, sep='\\t')\n"
     ]
    },
    {
     "name": "stdout",
     "output_type": "stream",
     "text": [
      "/data/projects/PSB/DNABERT_data/Donor/chr4/subfolder6/dev.tsv\n"
     ]
    },
    {
     "name": "stderr",
     "output_type": "stream",
     "text": [
      "/tmp/ipykernel_2717319/3225387847.py:9: DtypeWarning: Columns (1) have mixed types. Specify dtype option on import or set low_memory=False.\n",
      "  df = pd.read_csv(file_name, sep='\\t')\n"
     ]
    },
    {
     "name": "stdout",
     "output_type": "stream",
     "text": [
      "/data/projects/PSB/DNABERT_data/Donor/chr4/subfolder10/dev.tsv\n"
     ]
    },
    {
     "name": "stderr",
     "output_type": "stream",
     "text": [
      "/tmp/ipykernel_2717319/3225387847.py:9: DtypeWarning: Columns (1) have mixed types. Specify dtype option on import or set low_memory=False.\n",
      "  df = pd.read_csv(file_name, sep='\\t')\n"
     ]
    },
    {
     "name": "stdout",
     "output_type": "stream",
     "text": [
      "/data/projects/PSB/DNABERT_data/Donor/chr4/subfolder5/dev.tsv\n"
     ]
    },
    {
     "name": "stderr",
     "output_type": "stream",
     "text": [
      "/tmp/ipykernel_2717319/3225387847.py:9: DtypeWarning: Columns (1) have mixed types. Specify dtype option on import or set low_memory=False.\n",
      "  df = pd.read_csv(file_name, sep='\\t')\n"
     ]
    },
    {
     "name": "stdout",
     "output_type": "stream",
     "text": [
      "/data/projects/PSB/DNABERT_data/Donor/chr4/subfolder4/dev.tsv\n"
     ]
    },
    {
     "name": "stderr",
     "output_type": "stream",
     "text": [
      "/tmp/ipykernel_2717319/3225387847.py:9: DtypeWarning: Columns (1) have mixed types. Specify dtype option on import or set low_memory=False.\n",
      "  df = pd.read_csv(file_name, sep='\\t')\n"
     ]
    },
    {
     "name": "stdout",
     "output_type": "stream",
     "text": [
      "/data/projects/PSB/DNABERT_data/Donor/chr4/subfolder7/dev.tsv\n"
     ]
    },
    {
     "name": "stderr",
     "output_type": "stream",
     "text": [
      "/tmp/ipykernel_2717319/3225387847.py:9: DtypeWarning: Columns (1) have mixed types. Specify dtype option on import or set low_memory=False.\n",
      "  df = pd.read_csv(file_name, sep='\\t')\n"
     ]
    },
    {
     "name": "stdout",
     "output_type": "stream",
     "text": [
      "/data/projects/PSB/DNABERT_data/Donor/chr4/subfolder1/dev.tsv\n"
     ]
    },
    {
     "name": "stderr",
     "output_type": "stream",
     "text": [
      "/tmp/ipykernel_2717319/3225387847.py:9: DtypeWarning: Columns (1) have mixed types. Specify dtype option on import or set low_memory=False.\n",
      "  df = pd.read_csv(file_name, sep='\\t')\n"
     ]
    },
    {
     "name": "stdout",
     "output_type": "stream",
     "text": [
      "/data/projects/PSB/DNABERT_data/Donor/chr4/subfolder8/dev.tsv\n"
     ]
    },
    {
     "name": "stderr",
     "output_type": "stream",
     "text": [
      "/tmp/ipykernel_2717319/3225387847.py:9: DtypeWarning: Columns (1) have mixed types. Specify dtype option on import or set low_memory=False.\n",
      "  df = pd.read_csv(file_name, sep='\\t')\n"
     ]
    },
    {
     "name": "stdout",
     "output_type": "stream",
     "text": [
      "/data/projects/PSB/DNABERT_data/Donor/chr4/subfolder15/dev.tsv\n"
     ]
    },
    {
     "name": "stderr",
     "output_type": "stream",
     "text": [
      "/tmp/ipykernel_2717319/3225387847.py:9: DtypeWarning: Columns (1) have mixed types. Specify dtype option on import or set low_memory=False.\n",
      "  df = pd.read_csv(file_name, sep='\\t')\n"
     ]
    },
    {
     "name": "stdout",
     "output_type": "stream",
     "text": [
      "/data/projects/PSB/DNABERT_data/Donor/chr4/subfolder14/dev.tsv\n"
     ]
    },
    {
     "name": "stderr",
     "output_type": "stream",
     "text": [
      "/tmp/ipykernel_2717319/3225387847.py:9: DtypeWarning: Columns (1) have mixed types. Specify dtype option on import or set low_memory=False.\n",
      "  df = pd.read_csv(file_name, sep='\\t')\n"
     ]
    },
    {
     "name": "stdout",
     "output_type": "stream",
     "text": [
      "/data/projects/PSB/DNABERT_data/Donor/chr4/subfolder3/dev.tsv\n"
     ]
    },
    {
     "name": "stderr",
     "output_type": "stream",
     "text": [
      "/tmp/ipykernel_2717319/3225387847.py:9: DtypeWarning: Columns (1) have mixed types. Specify dtype option on import or set low_memory=False.\n",
      "  df = pd.read_csv(file_name, sep='\\t')\n"
     ]
    },
    {
     "name": "stdout",
     "output_type": "stream",
     "text": [
      "/data/projects/PSB/DNABERT_data/Donor/chr4/subfolder9/dev.tsv\n"
     ]
    },
    {
     "name": "stderr",
     "output_type": "stream",
     "text": [
      "/tmp/ipykernel_2717319/3225387847.py:9: DtypeWarning: Columns (1) have mixed types. Specify dtype option on import or set low_memory=False.\n",
      "  df = pd.read_csv(file_name, sep='\\t')\n"
     ]
    },
    {
     "name": "stdout",
     "output_type": "stream",
     "text": [
      "/data/projects/PSB/DNABERT_data/Donor/chr4/subfolder13/dev.tsv\n"
     ]
    },
    {
     "name": "stderr",
     "output_type": "stream",
     "text": [
      "/tmp/ipykernel_2717319/3225387847.py:9: DtypeWarning: Columns (1) have mixed types. Specify dtype option on import or set low_memory=False.\n",
      "  df = pd.read_csv(file_name, sep='\\t')\n"
     ]
    },
    {
     "name": "stdout",
     "output_type": "stream",
     "text": [
      "/data/projects/PSB/DNABERT_data/Donor/chr4/subfolder12/dev.tsv\n"
     ]
    },
    {
     "name": "stderr",
     "output_type": "stream",
     "text": [
      "/tmp/ipykernel_2717319/3225387847.py:9: DtypeWarning: Columns (1) have mixed types. Specify dtype option on import or set low_memory=False.\n",
      "  df = pd.read_csv(file_name, sep='\\t')\n"
     ]
    },
    {
     "name": "stdout",
     "output_type": "stream",
     "text": [
      "/data/projects/PSB/DNABERT_data/Donor/chr4/subfolder2/dev.tsv\n"
     ]
    },
    {
     "name": "stderr",
     "output_type": "stream",
     "text": [
      "/tmp/ipykernel_2717319/3225387847.py:9: DtypeWarning: Columns (1) have mixed types. Specify dtype option on import or set low_memory=False.\n",
      "  df = pd.read_csv(file_name, sep='\\t')\n"
     ]
    },
    {
     "name": "stdout",
     "output_type": "stream",
     "text": [
      "/data/projects/PSB/DNABERT_data/Donor/chr5/subfolder11/dev.tsv\n"
     ]
    },
    {
     "name": "stderr",
     "output_type": "stream",
     "text": [
      "/tmp/ipykernel_2717319/3225387847.py:9: DtypeWarning: Columns (1) have mixed types. Specify dtype option on import or set low_memory=False.\n",
      "  df = pd.read_csv(file_name, sep='\\t')\n"
     ]
    },
    {
     "name": "stdout",
     "output_type": "stream",
     "text": [
      "/data/projects/PSB/DNABERT_data/Donor/chr5/subfolder6/dev.tsv\n"
     ]
    },
    {
     "name": "stderr",
     "output_type": "stream",
     "text": [
      "/tmp/ipykernel_2717319/3225387847.py:9: DtypeWarning: Columns (1) have mixed types. Specify dtype option on import or set low_memory=False.\n",
      "  df = pd.read_csv(file_name, sep='\\t')\n"
     ]
    },
    {
     "name": "stdout",
     "output_type": "stream",
     "text": [
      "/data/projects/PSB/DNABERT_data/Donor/chr5/subfolder10/dev.tsv\n"
     ]
    },
    {
     "name": "stderr",
     "output_type": "stream",
     "text": [
      "/tmp/ipykernel_2717319/3225387847.py:9: DtypeWarning: Columns (1) have mixed types. Specify dtype option on import or set low_memory=False.\n",
      "  df = pd.read_csv(file_name, sep='\\t')\n"
     ]
    },
    {
     "name": "stdout",
     "output_type": "stream",
     "text": [
      "/data/projects/PSB/DNABERT_data/Donor/chr5/subfolder5/dev.tsv\n"
     ]
    },
    {
     "name": "stderr",
     "output_type": "stream",
     "text": [
      "/tmp/ipykernel_2717319/3225387847.py:9: DtypeWarning: Columns (1) have mixed types. Specify dtype option on import or set low_memory=False.\n",
      "  df = pd.read_csv(file_name, sep='\\t')\n"
     ]
    },
    {
     "name": "stdout",
     "output_type": "stream",
     "text": [
      "/data/projects/PSB/DNABERT_data/Donor/chr5/subfolder4/dev.tsv\n"
     ]
    },
    {
     "name": "stderr",
     "output_type": "stream",
     "text": [
      "/tmp/ipykernel_2717319/3225387847.py:9: DtypeWarning: Columns (1) have mixed types. Specify dtype option on import or set low_memory=False.\n",
      "  df = pd.read_csv(file_name, sep='\\t')\n"
     ]
    },
    {
     "name": "stdout",
     "output_type": "stream",
     "text": [
      "/data/projects/PSB/DNABERT_data/Donor/chr5/subfolder7/dev.tsv\n"
     ]
    },
    {
     "name": "stderr",
     "output_type": "stream",
     "text": [
      "/tmp/ipykernel_2717319/3225387847.py:9: DtypeWarning: Columns (1) have mixed types. Specify dtype option on import or set low_memory=False.\n",
      "  df = pd.read_csv(file_name, sep='\\t')\n"
     ]
    },
    {
     "name": "stdout",
     "output_type": "stream",
     "text": [
      "/data/projects/PSB/DNABERT_data/Donor/chr5/subfolder1/dev.tsv\n"
     ]
    },
    {
     "name": "stderr",
     "output_type": "stream",
     "text": [
      "/tmp/ipykernel_2717319/3225387847.py:9: DtypeWarning: Columns (1) have mixed types. Specify dtype option on import or set low_memory=False.\n",
      "  df = pd.read_csv(file_name, sep='\\t')\n"
     ]
    },
    {
     "name": "stdout",
     "output_type": "stream",
     "text": [
      "/data/projects/PSB/DNABERT_data/Donor/chr5/subfolder8/dev.tsv\n"
     ]
    },
    {
     "name": "stderr",
     "output_type": "stream",
     "text": [
      "/tmp/ipykernel_2717319/3225387847.py:9: DtypeWarning: Columns (1) have mixed types. Specify dtype option on import or set low_memory=False.\n",
      "  df = pd.read_csv(file_name, sep='\\t')\n"
     ]
    },
    {
     "name": "stdout",
     "output_type": "stream",
     "text": [
      "/data/projects/PSB/DNABERT_data/Donor/chr5/subfolder3/dev.tsv\n"
     ]
    },
    {
     "name": "stderr",
     "output_type": "stream",
     "text": [
      "/tmp/ipykernel_2717319/3225387847.py:9: DtypeWarning: Columns (1) have mixed types. Specify dtype option on import or set low_memory=False.\n",
      "  df = pd.read_csv(file_name, sep='\\t')\n"
     ]
    },
    {
     "name": "stdout",
     "output_type": "stream",
     "text": [
      "/data/projects/PSB/DNABERT_data/Donor/chr5/subfolder9/dev.tsv\n"
     ]
    },
    {
     "name": "stderr",
     "output_type": "stream",
     "text": [
      "/tmp/ipykernel_2717319/3225387847.py:9: DtypeWarning: Columns (1) have mixed types. Specify dtype option on import or set low_memory=False.\n",
      "  df = pd.read_csv(file_name, sep='\\t')\n"
     ]
    },
    {
     "name": "stdout",
     "output_type": "stream",
     "text": [
      "/data/projects/PSB/DNABERT_data/Donor/chr5/subfolder2/dev.tsv\n"
     ]
    },
    {
     "name": "stderr",
     "output_type": "stream",
     "text": [
      "/tmp/ipykernel_2717319/3225387847.py:9: DtypeWarning: Columns (1) have mixed types. Specify dtype option on import or set low_memory=False.\n",
      "  df = pd.read_csv(file_name, sep='\\t')\n"
     ]
    },
    {
     "name": "stdout",
     "output_type": "stream",
     "text": [
      "/data/projects/PSB/DNABERT_data/Donor/chr6/subfolder11/dev.tsv\n"
     ]
    },
    {
     "name": "stderr",
     "output_type": "stream",
     "text": [
      "/tmp/ipykernel_2717319/3225387847.py:9: DtypeWarning: Columns (1) have mixed types. Specify dtype option on import or set low_memory=False.\n",
      "  df = pd.read_csv(file_name, sep='\\t')\n"
     ]
    },
    {
     "name": "stdout",
     "output_type": "stream",
     "text": [
      "/data/projects/PSB/DNABERT_data/Donor/chr6/subfolder6/dev.tsv\n"
     ]
    },
    {
     "name": "stderr",
     "output_type": "stream",
     "text": [
      "/tmp/ipykernel_2717319/3225387847.py:9: DtypeWarning: Columns (1) have mixed types. Specify dtype option on import or set low_memory=False.\n",
      "  df = pd.read_csv(file_name, sep='\\t')\n"
     ]
    },
    {
     "name": "stdout",
     "output_type": "stream",
     "text": [
      "/data/projects/PSB/DNABERT_data/Donor/chr6/subfolder10/dev.tsv\n"
     ]
    },
    {
     "name": "stderr",
     "output_type": "stream",
     "text": [
      "/tmp/ipykernel_2717319/3225387847.py:9: DtypeWarning: Columns (1) have mixed types. Specify dtype option on import or set low_memory=False.\n",
      "  df = pd.read_csv(file_name, sep='\\t')\n"
     ]
    },
    {
     "name": "stdout",
     "output_type": "stream",
     "text": [
      "/data/projects/PSB/DNABERT_data/Donor/chr6/subfolder5/dev.tsv\n"
     ]
    },
    {
     "name": "stderr",
     "output_type": "stream",
     "text": [
      "/tmp/ipykernel_2717319/3225387847.py:9: DtypeWarning: Columns (1) have mixed types. Specify dtype option on import or set low_memory=False.\n",
      "  df = pd.read_csv(file_name, sep='\\t')\n"
     ]
    },
    {
     "name": "stdout",
     "output_type": "stream",
     "text": [
      "/data/projects/PSB/DNABERT_data/Donor/chr6/subfolder4/dev.tsv\n"
     ]
    },
    {
     "name": "stderr",
     "output_type": "stream",
     "text": [
      "/tmp/ipykernel_2717319/3225387847.py:9: DtypeWarning: Columns (1) have mixed types. Specify dtype option on import or set low_memory=False.\n",
      "  df = pd.read_csv(file_name, sep='\\t')\n"
     ]
    },
    {
     "name": "stdout",
     "output_type": "stream",
     "text": [
      "/data/projects/PSB/DNABERT_data/Donor/chr6/subfolder7/dev.tsv\n"
     ]
    },
    {
     "name": "stderr",
     "output_type": "stream",
     "text": [
      "/tmp/ipykernel_2717319/3225387847.py:9: DtypeWarning: Columns (1) have mixed types. Specify dtype option on import or set low_memory=False.\n",
      "  df = pd.read_csv(file_name, sep='\\t')\n"
     ]
    },
    {
     "name": "stdout",
     "output_type": "stream",
     "text": [
      "/data/projects/PSB/DNABERT_data/Donor/chr6/subfolder1/dev.tsv\n"
     ]
    },
    {
     "name": "stderr",
     "output_type": "stream",
     "text": [
      "/tmp/ipykernel_2717319/3225387847.py:9: DtypeWarning: Columns (1) have mixed types. Specify dtype option on import or set low_memory=False.\n",
      "  df = pd.read_csv(file_name, sep='\\t')\n"
     ]
    },
    {
     "name": "stdout",
     "output_type": "stream",
     "text": [
      "/data/projects/PSB/DNABERT_data/Donor/chr6/subfolder8/dev.tsv\n"
     ]
    },
    {
     "name": "stderr",
     "output_type": "stream",
     "text": [
      "/tmp/ipykernel_2717319/3225387847.py:9: DtypeWarning: Columns (1) have mixed types. Specify dtype option on import or set low_memory=False.\n",
      "  df = pd.read_csv(file_name, sep='\\t')\n"
     ]
    },
    {
     "name": "stdout",
     "output_type": "stream",
     "text": [
      "/data/projects/PSB/DNABERT_data/Donor/chr6/subfolder16/dev.tsv\n",
      "/data/projects/PSB/DNABERT_data/Donor/chr6/subfolder15/dev.tsv\n"
     ]
    },
    {
     "name": "stderr",
     "output_type": "stream",
     "text": [
      "/tmp/ipykernel_2717319/3225387847.py:9: DtypeWarning: Columns (1) have mixed types. Specify dtype option on import or set low_memory=False.\n",
      "  df = pd.read_csv(file_name, sep='\\t')\n"
     ]
    },
    {
     "name": "stdout",
     "output_type": "stream",
     "text": [
      "/data/projects/PSB/DNABERT_data/Donor/chr6/subfolder14/dev.tsv\n"
     ]
    },
    {
     "name": "stderr",
     "output_type": "stream",
     "text": [
      "/tmp/ipykernel_2717319/3225387847.py:9: DtypeWarning: Columns (1) have mixed types. Specify dtype option on import or set low_memory=False.\n",
      "  df = pd.read_csv(file_name, sep='\\t')\n"
     ]
    },
    {
     "name": "stdout",
     "output_type": "stream",
     "text": [
      "/data/projects/PSB/DNABERT_data/Donor/chr6/subfolder3/dev.tsv\n"
     ]
    },
    {
     "name": "stderr",
     "output_type": "stream",
     "text": [
      "/tmp/ipykernel_2717319/3225387847.py:9: DtypeWarning: Columns (1) have mixed types. Specify dtype option on import or set low_memory=False.\n",
      "  df = pd.read_csv(file_name, sep='\\t')\n"
     ]
    },
    {
     "name": "stdout",
     "output_type": "stream",
     "text": [
      "/data/projects/PSB/DNABERT_data/Donor/chr6/subfolder9/dev.tsv\n"
     ]
    },
    {
     "name": "stderr",
     "output_type": "stream",
     "text": [
      "/tmp/ipykernel_2717319/3225387847.py:9: DtypeWarning: Columns (1) have mixed types. Specify dtype option on import or set low_memory=False.\n",
      "  df = pd.read_csv(file_name, sep='\\t')\n"
     ]
    },
    {
     "name": "stdout",
     "output_type": "stream",
     "text": [
      "/data/projects/PSB/DNABERT_data/Donor/chr6/subfolder13/dev.tsv\n"
     ]
    },
    {
     "name": "stderr",
     "output_type": "stream",
     "text": [
      "/tmp/ipykernel_2717319/3225387847.py:9: DtypeWarning: Columns (1) have mixed types. Specify dtype option on import or set low_memory=False.\n",
      "  df = pd.read_csv(file_name, sep='\\t')\n"
     ]
    },
    {
     "name": "stdout",
     "output_type": "stream",
     "text": [
      "/data/projects/PSB/DNABERT_data/Donor/chr6/subfolder12/dev.tsv\n"
     ]
    },
    {
     "name": "stderr",
     "output_type": "stream",
     "text": [
      "/tmp/ipykernel_2717319/3225387847.py:9: DtypeWarning: Columns (1) have mixed types. Specify dtype option on import or set low_memory=False.\n",
      "  df = pd.read_csv(file_name, sep='\\t')\n"
     ]
    },
    {
     "name": "stdout",
     "output_type": "stream",
     "text": [
      "/data/projects/PSB/DNABERT_data/Donor/chr6/subfolder2/dev.tsv\n"
     ]
    },
    {
     "name": "stderr",
     "output_type": "stream",
     "text": [
      "/tmp/ipykernel_2717319/3225387847.py:9: DtypeWarning: Columns (1) have mixed types. Specify dtype option on import or set low_memory=False.\n",
      "  df = pd.read_csv(file_name, sep='\\t')\n"
     ]
    },
    {
     "name": "stdout",
     "output_type": "stream",
     "text": [
      "/data/projects/PSB/DNABERT_data/Donor/chr7/subfolder11/dev.tsv\n"
     ]
    },
    {
     "name": "stderr",
     "output_type": "stream",
     "text": [
      "/tmp/ipykernel_2717319/3225387847.py:9: DtypeWarning: Columns (1) have mixed types. Specify dtype option on import or set low_memory=False.\n",
      "  df = pd.read_csv(file_name, sep='\\t')\n"
     ]
    },
    {
     "name": "stdout",
     "output_type": "stream",
     "text": [
      "/data/projects/PSB/DNABERT_data/Donor/chr7/subfolder6/dev.tsv\n"
     ]
    },
    {
     "name": "stderr",
     "output_type": "stream",
     "text": [
      "/tmp/ipykernel_2717319/3225387847.py:9: DtypeWarning: Columns (1) have mixed types. Specify dtype option on import or set low_memory=False.\n",
      "  df = pd.read_csv(file_name, sep='\\t')\n"
     ]
    },
    {
     "name": "stdout",
     "output_type": "stream",
     "text": [
      "/data/projects/PSB/DNABERT_data/Donor/chr7/subfolder10/dev.tsv\n"
     ]
    },
    {
     "name": "stderr",
     "output_type": "stream",
     "text": [
      "/tmp/ipykernel_2717319/3225387847.py:9: DtypeWarning: Columns (1) have mixed types. Specify dtype option on import or set low_memory=False.\n",
      "  df = pd.read_csv(file_name, sep='\\t')\n"
     ]
    },
    {
     "name": "stdout",
     "output_type": "stream",
     "text": [
      "/data/projects/PSB/DNABERT_data/Donor/chr7/subfolder5/dev.tsv\n"
     ]
    },
    {
     "name": "stderr",
     "output_type": "stream",
     "text": [
      "/tmp/ipykernel_2717319/3225387847.py:9: DtypeWarning: Columns (1) have mixed types. Specify dtype option on import or set low_memory=False.\n",
      "  df = pd.read_csv(file_name, sep='\\t')\n"
     ]
    },
    {
     "name": "stdout",
     "output_type": "stream",
     "text": [
      "/data/projects/PSB/DNABERT_data/Donor/chr7/subfolder4/dev.tsv\n"
     ]
    },
    {
     "name": "stderr",
     "output_type": "stream",
     "text": [
      "/tmp/ipykernel_2717319/3225387847.py:9: DtypeWarning: Columns (1) have mixed types. Specify dtype option on import or set low_memory=False.\n",
      "  df = pd.read_csv(file_name, sep='\\t')\n"
     ]
    },
    {
     "name": "stdout",
     "output_type": "stream",
     "text": [
      "/data/projects/PSB/DNABERT_data/Donor/chr7/subfolder7/dev.tsv\n"
     ]
    },
    {
     "name": "stderr",
     "output_type": "stream",
     "text": [
      "/tmp/ipykernel_2717319/3225387847.py:9: DtypeWarning: Columns (1) have mixed types. Specify dtype option on import or set low_memory=False.\n",
      "  df = pd.read_csv(file_name, sep='\\t')\n"
     ]
    },
    {
     "name": "stdout",
     "output_type": "stream",
     "text": [
      "/data/projects/PSB/DNABERT_data/Donor/chr7/subfolder1/dev.tsv\n"
     ]
    },
    {
     "name": "stderr",
     "output_type": "stream",
     "text": [
      "/tmp/ipykernel_2717319/3225387847.py:9: DtypeWarning: Columns (1) have mixed types. Specify dtype option on import or set low_memory=False.\n",
      "  df = pd.read_csv(file_name, sep='\\t')\n"
     ]
    },
    {
     "name": "stdout",
     "output_type": "stream",
     "text": [
      "/data/projects/PSB/DNABERT_data/Donor/chr7/subfolder8/dev.tsv\n"
     ]
    },
    {
     "name": "stderr",
     "output_type": "stream",
     "text": [
      "/tmp/ipykernel_2717319/3225387847.py:9: DtypeWarning: Columns (1) have mixed types. Specify dtype option on import or set low_memory=False.\n",
      "  df = pd.read_csv(file_name, sep='\\t')\n"
     ]
    },
    {
     "name": "stdout",
     "output_type": "stream",
     "text": [
      "/data/projects/PSB/DNABERT_data/Donor/chr7/subfolder3/dev.tsv\n"
     ]
    },
    {
     "name": "stderr",
     "output_type": "stream",
     "text": [
      "/tmp/ipykernel_2717319/3225387847.py:9: DtypeWarning: Columns (1) have mixed types. Specify dtype option on import or set low_memory=False.\n",
      "  df = pd.read_csv(file_name, sep='\\t')\n"
     ]
    },
    {
     "name": "stdout",
     "output_type": "stream",
     "text": [
      "/data/projects/PSB/DNABERT_data/Donor/chr7/subfolder9/dev.tsv\n"
     ]
    },
    {
     "name": "stderr",
     "output_type": "stream",
     "text": [
      "/tmp/ipykernel_2717319/3225387847.py:9: DtypeWarning: Columns (1) have mixed types. Specify dtype option on import or set low_memory=False.\n",
      "  df = pd.read_csv(file_name, sep='\\t')\n"
     ]
    },
    {
     "name": "stdout",
     "output_type": "stream",
     "text": [
      "/data/projects/PSB/DNABERT_data/Donor/chr7/subfolder12/dev.tsv\n"
     ]
    },
    {
     "name": "stderr",
     "output_type": "stream",
     "text": [
      "/tmp/ipykernel_2717319/3225387847.py:9: DtypeWarning: Columns (1) have mixed types. Specify dtype option on import or set low_memory=False.\n",
      "  df = pd.read_csv(file_name, sep='\\t')\n"
     ]
    },
    {
     "name": "stdout",
     "output_type": "stream",
     "text": [
      "/data/projects/PSB/DNABERT_data/Donor/chr7/subfolder2/dev.tsv\n"
     ]
    },
    {
     "name": "stderr",
     "output_type": "stream",
     "text": [
      "/tmp/ipykernel_2717319/3225387847.py:9: DtypeWarning: Columns (1) have mixed types. Specify dtype option on import or set low_memory=False.\n",
      "  df = pd.read_csv(file_name, sep='\\t')\n"
     ]
    },
    {
     "name": "stdout",
     "output_type": "stream",
     "text": [
      "/data/projects/PSB/DNABERT_data/Donor/chr8/subfolder11/dev.tsv\n"
     ]
    },
    {
     "name": "stderr",
     "output_type": "stream",
     "text": [
      "/tmp/ipykernel_2717319/3225387847.py:9: DtypeWarning: Columns (1) have mixed types. Specify dtype option on import or set low_memory=False.\n",
      "  df = pd.read_csv(file_name, sep='\\t')\n"
     ]
    },
    {
     "name": "stdout",
     "output_type": "stream",
     "text": [
      "/data/projects/PSB/DNABERT_data/Donor/chr8/subfolder6/dev.tsv\n"
     ]
    },
    {
     "name": "stderr",
     "output_type": "stream",
     "text": [
      "/tmp/ipykernel_2717319/3225387847.py:9: DtypeWarning: Columns (1) have mixed types. Specify dtype option on import or set low_memory=False.\n",
      "  df = pd.read_csv(file_name, sep='\\t')\n"
     ]
    },
    {
     "name": "stdout",
     "output_type": "stream",
     "text": [
      "/data/projects/PSB/DNABERT_data/Donor/chr8/subfolder10/dev.tsv\n"
     ]
    },
    {
     "name": "stderr",
     "output_type": "stream",
     "text": [
      "/tmp/ipykernel_2717319/3225387847.py:9: DtypeWarning: Columns (1) have mixed types. Specify dtype option on import or set low_memory=False.\n",
      "  df = pd.read_csv(file_name, sep='\\t')\n"
     ]
    },
    {
     "name": "stdout",
     "output_type": "stream",
     "text": [
      "/data/projects/PSB/DNABERT_data/Donor/chr8/subfolder5/dev.tsv\n"
     ]
    },
    {
     "name": "stderr",
     "output_type": "stream",
     "text": [
      "/tmp/ipykernel_2717319/3225387847.py:9: DtypeWarning: Columns (1) have mixed types. Specify dtype option on import or set low_memory=False.\n",
      "  df = pd.read_csv(file_name, sep='\\t')\n"
     ]
    },
    {
     "name": "stdout",
     "output_type": "stream",
     "text": [
      "/data/projects/PSB/DNABERT_data/Donor/chr8/subfolder4/dev.tsv\n"
     ]
    },
    {
     "name": "stderr",
     "output_type": "stream",
     "text": [
      "/tmp/ipykernel_2717319/3225387847.py:9: DtypeWarning: Columns (1) have mixed types. Specify dtype option on import or set low_memory=False.\n",
      "  df = pd.read_csv(file_name, sep='\\t')\n"
     ]
    },
    {
     "name": "stdout",
     "output_type": "stream",
     "text": [
      "/data/projects/PSB/DNABERT_data/Donor/chr8/subfolder7/dev.tsv\n"
     ]
    },
    {
     "name": "stderr",
     "output_type": "stream",
     "text": [
      "/tmp/ipykernel_2717319/3225387847.py:9: DtypeWarning: Columns (1) have mixed types. Specify dtype option on import or set low_memory=False.\n",
      "  df = pd.read_csv(file_name, sep='\\t')\n"
     ]
    },
    {
     "name": "stdout",
     "output_type": "stream",
     "text": [
      "/data/projects/PSB/DNABERT_data/Donor/chr8/subfolder1/dev.tsv\n"
     ]
    },
    {
     "name": "stderr",
     "output_type": "stream",
     "text": [
      "/tmp/ipykernel_2717319/3225387847.py:9: DtypeWarning: Columns (1) have mixed types. Specify dtype option on import or set low_memory=False.\n",
      "  df = pd.read_csv(file_name, sep='\\t')\n"
     ]
    },
    {
     "name": "stdout",
     "output_type": "stream",
     "text": [
      "/data/projects/PSB/DNABERT_data/Donor/chr8/subfolder8/dev.tsv\n"
     ]
    },
    {
     "name": "stderr",
     "output_type": "stream",
     "text": [
      "/tmp/ipykernel_2717319/3225387847.py:9: DtypeWarning: Columns (1) have mixed types. Specify dtype option on import or set low_memory=False.\n",
      "  df = pd.read_csv(file_name, sep='\\t')\n"
     ]
    },
    {
     "name": "stdout",
     "output_type": "stream",
     "text": [
      "/data/projects/PSB/DNABERT_data/Donor/chr8/subfolder3/dev.tsv\n"
     ]
    },
    {
     "name": "stderr",
     "output_type": "stream",
     "text": [
      "/tmp/ipykernel_2717319/3225387847.py:9: DtypeWarning: Columns (1) have mixed types. Specify dtype option on import or set low_memory=False.\n",
      "  df = pd.read_csv(file_name, sep='\\t')\n"
     ]
    },
    {
     "name": "stdout",
     "output_type": "stream",
     "text": [
      "/data/projects/PSB/DNABERT_data/Donor/chr8/subfolder9/dev.tsv\n"
     ]
    },
    {
     "name": "stderr",
     "output_type": "stream",
     "text": [
      "/tmp/ipykernel_2717319/3225387847.py:9: DtypeWarning: Columns (1) have mixed types. Specify dtype option on import or set low_memory=False.\n",
      "  df = pd.read_csv(file_name, sep='\\t')\n"
     ]
    },
    {
     "name": "stdout",
     "output_type": "stream",
     "text": [
      "/data/projects/PSB/DNABERT_data/Donor/chr8/subfolder13/dev.tsv\n"
     ]
    },
    {
     "name": "stderr",
     "output_type": "stream",
     "text": [
      "/tmp/ipykernel_2717319/3225387847.py:9: DtypeWarning: Columns (1) have mixed types. Specify dtype option on import or set low_memory=False.\n",
      "  df = pd.read_csv(file_name, sep='\\t')\n"
     ]
    },
    {
     "name": "stdout",
     "output_type": "stream",
     "text": [
      "/data/projects/PSB/DNABERT_data/Donor/chr8/subfolder12/dev.tsv\n"
     ]
    },
    {
     "name": "stderr",
     "output_type": "stream",
     "text": [
      "/tmp/ipykernel_2717319/3225387847.py:9: DtypeWarning: Columns (1) have mixed types. Specify dtype option on import or set low_memory=False.\n",
      "  df = pd.read_csv(file_name, sep='\\t')\n"
     ]
    },
    {
     "name": "stdout",
     "output_type": "stream",
     "text": [
      "/data/projects/PSB/DNABERT_data/Donor/chr8/subfolder2/dev.tsv\n"
     ]
    },
    {
     "name": "stderr",
     "output_type": "stream",
     "text": [
      "/tmp/ipykernel_2717319/3225387847.py:9: DtypeWarning: Columns (1) have mixed types. Specify dtype option on import or set low_memory=False.\n",
      "  df = pd.read_csv(file_name, sep='\\t')\n"
     ]
    },
    {
     "name": "stdout",
     "output_type": "stream",
     "text": [
      "/data/projects/PSB/DNABERT_data/Donor/chr9/subfolder6/dev.tsv\n"
     ]
    },
    {
     "name": "stderr",
     "output_type": "stream",
     "text": [
      "/tmp/ipykernel_2717319/3225387847.py:9: DtypeWarning: Columns (1) have mixed types. Specify dtype option on import or set low_memory=False.\n",
      "  df = pd.read_csv(file_name, sep='\\t')\n"
     ]
    },
    {
     "name": "stdout",
     "output_type": "stream",
     "text": [
      "/data/projects/PSB/DNABERT_data/Donor/chr9/subfolder10/dev.tsv\n"
     ]
    },
    {
     "name": "stderr",
     "output_type": "stream",
     "text": [
      "/tmp/ipykernel_2717319/3225387847.py:9: DtypeWarning: Columns (1) have mixed types. Specify dtype option on import or set low_memory=False.\n",
      "  df = pd.read_csv(file_name, sep='\\t')\n"
     ]
    },
    {
     "name": "stdout",
     "output_type": "stream",
     "text": [
      "/data/projects/PSB/DNABERT_data/Donor/chr9/subfolder5/dev.tsv\n"
     ]
    },
    {
     "name": "stderr",
     "output_type": "stream",
     "text": [
      "/tmp/ipykernel_2717319/3225387847.py:9: DtypeWarning: Columns (1) have mixed types. Specify dtype option on import or set low_memory=False.\n",
      "  df = pd.read_csv(file_name, sep='\\t')\n"
     ]
    },
    {
     "name": "stdout",
     "output_type": "stream",
     "text": [
      "/data/projects/PSB/DNABERT_data/Donor/chr9/subfolder4/dev.tsv\n"
     ]
    },
    {
     "name": "stderr",
     "output_type": "stream",
     "text": [
      "/tmp/ipykernel_2717319/3225387847.py:9: DtypeWarning: Columns (1) have mixed types. Specify dtype option on import or set low_memory=False.\n",
      "  df = pd.read_csv(file_name, sep='\\t')\n"
     ]
    },
    {
     "name": "stdout",
     "output_type": "stream",
     "text": [
      "/data/projects/PSB/DNABERT_data/Donor/chr9/subfolder7/dev.tsv\n"
     ]
    },
    {
     "name": "stderr",
     "output_type": "stream",
     "text": [
      "/tmp/ipykernel_2717319/3225387847.py:9: DtypeWarning: Columns (1) have mixed types. Specify dtype option on import or set low_memory=False.\n",
      "  df = pd.read_csv(file_name, sep='\\t')\n"
     ]
    },
    {
     "name": "stdout",
     "output_type": "stream",
     "text": [
      "/data/projects/PSB/DNABERT_data/Donor/chr9/subfolder1/dev.tsv\n"
     ]
    },
    {
     "name": "stderr",
     "output_type": "stream",
     "text": [
      "/tmp/ipykernel_2717319/3225387847.py:9: DtypeWarning: Columns (1) have mixed types. Specify dtype option on import or set low_memory=False.\n",
      "  df = pd.read_csv(file_name, sep='\\t')\n"
     ]
    },
    {
     "name": "stdout",
     "output_type": "stream",
     "text": [
      "/data/projects/PSB/DNABERT_data/Donor/chr9/subfolder8/dev.tsv\n"
     ]
    },
    {
     "name": "stderr",
     "output_type": "stream",
     "text": [
      "/tmp/ipykernel_2717319/3225387847.py:9: DtypeWarning: Columns (1) have mixed types. Specify dtype option on import or set low_memory=False.\n",
      "  df = pd.read_csv(file_name, sep='\\t')\n"
     ]
    },
    {
     "name": "stdout",
     "output_type": "stream",
     "text": [
      "/data/projects/PSB/DNABERT_data/Donor/chr9/subfolder3/dev.tsv\n"
     ]
    },
    {
     "name": "stderr",
     "output_type": "stream",
     "text": [
      "/tmp/ipykernel_2717319/3225387847.py:9: DtypeWarning: Columns (1) have mixed types. Specify dtype option on import or set low_memory=False.\n",
      "  df = pd.read_csv(file_name, sep='\\t')\n"
     ]
    },
    {
     "name": "stdout",
     "output_type": "stream",
     "text": [
      "/data/projects/PSB/DNABERT_data/Donor/chr9/subfolder9/dev.tsv\n"
     ]
    },
    {
     "name": "stderr",
     "output_type": "stream",
     "text": [
      "/tmp/ipykernel_2717319/3225387847.py:9: DtypeWarning: Columns (1) have mixed types. Specify dtype option on import or set low_memory=False.\n",
      "  df = pd.read_csv(file_name, sep='\\t')\n"
     ]
    },
    {
     "name": "stdout",
     "output_type": "stream",
     "text": [
      "/data/projects/PSB/DNABERT_data/Donor/chr9/subfolder2/dev.tsv\n"
     ]
    },
    {
     "name": "stderr",
     "output_type": "stream",
     "text": [
      "/tmp/ipykernel_2717319/3225387847.py:9: DtypeWarning: Columns (1) have mixed types. Specify dtype option on import or set low_memory=False.\n",
      "  df = pd.read_csv(file_name, sep='\\t')\n"
     ]
    },
    {
     "name": "stdout",
     "output_type": "stream",
     "text": [
      "/data/projects/PSB/DNABERT_data/Donor/chr10/subfolder11/dev.tsv\n"
     ]
    },
    {
     "name": "stderr",
     "output_type": "stream",
     "text": [
      "/tmp/ipykernel_2717319/3225387847.py:9: DtypeWarning: Columns (1) have mixed types. Specify dtype option on import or set low_memory=False.\n",
      "  df = pd.read_csv(file_name, sep='\\t')\n"
     ]
    },
    {
     "name": "stdout",
     "output_type": "stream",
     "text": [
      "/data/projects/PSB/DNABERT_data/Donor/chr10/subfolder6/dev.tsv\n"
     ]
    },
    {
     "name": "stderr",
     "output_type": "stream",
     "text": [
      "/tmp/ipykernel_2717319/3225387847.py:9: DtypeWarning: Columns (1) have mixed types. Specify dtype option on import or set low_memory=False.\n",
      "  df = pd.read_csv(file_name, sep='\\t')\n"
     ]
    },
    {
     "name": "stdout",
     "output_type": "stream",
     "text": [
      "/data/projects/PSB/DNABERT_data/Donor/chr10/subfolder10/dev.tsv\n"
     ]
    },
    {
     "name": "stderr",
     "output_type": "stream",
     "text": [
      "/tmp/ipykernel_2717319/3225387847.py:9: DtypeWarning: Columns (1) have mixed types. Specify dtype option on import or set low_memory=False.\n",
      "  df = pd.read_csv(file_name, sep='\\t')\n"
     ]
    },
    {
     "name": "stdout",
     "output_type": "stream",
     "text": [
      "/data/projects/PSB/DNABERT_data/Donor/chr10/subfolder5/dev.tsv\n"
     ]
    },
    {
     "name": "stderr",
     "output_type": "stream",
     "text": [
      "/tmp/ipykernel_2717319/3225387847.py:9: DtypeWarning: Columns (1) have mixed types. Specify dtype option on import or set low_memory=False.\n",
      "  df = pd.read_csv(file_name, sep='\\t')\n"
     ]
    },
    {
     "name": "stdout",
     "output_type": "stream",
     "text": [
      "/data/projects/PSB/DNABERT_data/Donor/chr10/subfolder4/dev.tsv\n"
     ]
    },
    {
     "name": "stderr",
     "output_type": "stream",
     "text": [
      "/tmp/ipykernel_2717319/3225387847.py:9: DtypeWarning: Columns (1) have mixed types. Specify dtype option on import or set low_memory=False.\n",
      "  df = pd.read_csv(file_name, sep='\\t')\n"
     ]
    },
    {
     "name": "stdout",
     "output_type": "stream",
     "text": [
      "/data/projects/PSB/DNABERT_data/Donor/chr10/subfolder7/dev.tsv\n"
     ]
    },
    {
     "name": "stderr",
     "output_type": "stream",
     "text": [
      "/tmp/ipykernel_2717319/3225387847.py:9: DtypeWarning: Columns (1) have mixed types. Specify dtype option on import or set low_memory=False.\n",
      "  df = pd.read_csv(file_name, sep='\\t')\n"
     ]
    },
    {
     "name": "stdout",
     "output_type": "stream",
     "text": [
      "/data/projects/PSB/DNABERT_data/Donor/chr10/subfolder1/dev.tsv\n"
     ]
    },
    {
     "name": "stderr",
     "output_type": "stream",
     "text": [
      "/tmp/ipykernel_2717319/3225387847.py:9: DtypeWarning: Columns (1) have mixed types. Specify dtype option on import or set low_memory=False.\n",
      "  df = pd.read_csv(file_name, sep='\\t')\n"
     ]
    },
    {
     "name": "stdout",
     "output_type": "stream",
     "text": [
      "/data/projects/PSB/DNABERT_data/Donor/chr10/subfolder8/dev.tsv\n"
     ]
    },
    {
     "name": "stderr",
     "output_type": "stream",
     "text": [
      "/tmp/ipykernel_2717319/3225387847.py:9: DtypeWarning: Columns (1) have mixed types. Specify dtype option on import or set low_memory=False.\n",
      "  df = pd.read_csv(file_name, sep='\\t')\n"
     ]
    },
    {
     "name": "stdout",
     "output_type": "stream",
     "text": [
      "/data/projects/PSB/DNABERT_data/Donor/chr10/subfolder3/dev.tsv\n"
     ]
    },
    {
     "name": "stderr",
     "output_type": "stream",
     "text": [
      "/tmp/ipykernel_2717319/3225387847.py:9: DtypeWarning: Columns (1) have mixed types. Specify dtype option on import or set low_memory=False.\n",
      "  df = pd.read_csv(file_name, sep='\\t')\n"
     ]
    },
    {
     "name": "stdout",
     "output_type": "stream",
     "text": [
      "/data/projects/PSB/DNABERT_data/Donor/chr10/subfolder9/dev.tsv\n"
     ]
    },
    {
     "name": "stderr",
     "output_type": "stream",
     "text": [
      "/tmp/ipykernel_2717319/3225387847.py:9: DtypeWarning: Columns (1) have mixed types. Specify dtype option on import or set low_memory=False.\n",
      "  df = pd.read_csv(file_name, sep='\\t')\n"
     ]
    },
    {
     "name": "stdout",
     "output_type": "stream",
     "text": [
      "/data/projects/PSB/DNABERT_data/Donor/chr10/subfolder12/dev.tsv\n"
     ]
    },
    {
     "name": "stderr",
     "output_type": "stream",
     "text": [
      "/tmp/ipykernel_2717319/3225387847.py:9: DtypeWarning: Columns (1) have mixed types. Specify dtype option on import or set low_memory=False.\n",
      "  df = pd.read_csv(file_name, sep='\\t')\n"
     ]
    },
    {
     "name": "stdout",
     "output_type": "stream",
     "text": [
      "/data/projects/PSB/DNABERT_data/Donor/chr10/subfolder2/dev.tsv\n"
     ]
    },
    {
     "name": "stderr",
     "output_type": "stream",
     "text": [
      "/tmp/ipykernel_2717319/3225387847.py:9: DtypeWarning: Columns (1) have mixed types. Specify dtype option on import or set low_memory=False.\n",
      "  df = pd.read_csv(file_name, sep='\\t')\n"
     ]
    },
    {
     "name": "stdout",
     "output_type": "stream",
     "text": [
      "/data/projects/PSB/DNABERT_data/Donor/chr11/subfolder11/dev.tsv\n"
     ]
    },
    {
     "name": "stderr",
     "output_type": "stream",
     "text": [
      "/tmp/ipykernel_2717319/3225387847.py:9: DtypeWarning: Columns (1) have mixed types. Specify dtype option on import or set low_memory=False.\n",
      "  df = pd.read_csv(file_name, sep='\\t')\n"
     ]
    },
    {
     "name": "stdout",
     "output_type": "stream",
     "text": [
      "/data/projects/PSB/DNABERT_data/Donor/chr11/subfolder6/dev.tsv\n"
     ]
    },
    {
     "name": "stderr",
     "output_type": "stream",
     "text": [
      "/tmp/ipykernel_2717319/3225387847.py:9: DtypeWarning: Columns (1) have mixed types. Specify dtype option on import or set low_memory=False.\n",
      "  df = pd.read_csv(file_name, sep='\\t')\n"
     ]
    },
    {
     "name": "stdout",
     "output_type": "stream",
     "text": [
      "/data/projects/PSB/DNABERT_data/Donor/chr11/subfolder10/dev.tsv\n"
     ]
    },
    {
     "name": "stderr",
     "output_type": "stream",
     "text": [
      "/tmp/ipykernel_2717319/3225387847.py:9: DtypeWarning: Columns (1) have mixed types. Specify dtype option on import or set low_memory=False.\n",
      "  df = pd.read_csv(file_name, sep='\\t')\n"
     ]
    },
    {
     "name": "stdout",
     "output_type": "stream",
     "text": [
      "/data/projects/PSB/DNABERT_data/Donor/chr11/subfolder5/dev.tsv\n"
     ]
    },
    {
     "name": "stderr",
     "output_type": "stream",
     "text": [
      "/tmp/ipykernel_2717319/3225387847.py:9: DtypeWarning: Columns (1) have mixed types. Specify dtype option on import or set low_memory=False.\n",
      "  df = pd.read_csv(file_name, sep='\\t')\n"
     ]
    },
    {
     "name": "stdout",
     "output_type": "stream",
     "text": [
      "/data/projects/PSB/DNABERT_data/Donor/chr11/subfolder18/dev.tsv\n"
     ]
    },
    {
     "name": "stderr",
     "output_type": "stream",
     "text": [
      "/tmp/ipykernel_2717319/3225387847.py:9: DtypeWarning: Columns (1) have mixed types. Specify dtype option on import or set low_memory=False.\n",
      "  df = pd.read_csv(file_name, sep='\\t')\n"
     ]
    },
    {
     "name": "stdout",
     "output_type": "stream",
     "text": [
      "/data/projects/PSB/DNABERT_data/Donor/chr11/subfolder4/dev.tsv\n"
     ]
    },
    {
     "name": "stderr",
     "output_type": "stream",
     "text": [
      "/tmp/ipykernel_2717319/3225387847.py:9: DtypeWarning: Columns (1) have mixed types. Specify dtype option on import or set low_memory=False.\n",
      "  df = pd.read_csv(file_name, sep='\\t')\n"
     ]
    },
    {
     "name": "stdout",
     "output_type": "stream",
     "text": [
      "/data/projects/PSB/DNABERT_data/Donor/chr11/subfolder7/dev.tsv\n"
     ]
    },
    {
     "name": "stderr",
     "output_type": "stream",
     "text": [
      "/tmp/ipykernel_2717319/3225387847.py:9: DtypeWarning: Columns (1) have mixed types. Specify dtype option on import or set low_memory=False.\n",
      "  df = pd.read_csv(file_name, sep='\\t')\n"
     ]
    },
    {
     "name": "stdout",
     "output_type": "stream",
     "text": [
      "/data/projects/PSB/DNABERT_data/Donor/chr11/subfolder1/dev.tsv\n"
     ]
    },
    {
     "name": "stderr",
     "output_type": "stream",
     "text": [
      "/tmp/ipykernel_2717319/3225387847.py:9: DtypeWarning: Columns (1) have mixed types. Specify dtype option on import or set low_memory=False.\n",
      "  df = pd.read_csv(file_name, sep='\\t')\n"
     ]
    },
    {
     "name": "stdout",
     "output_type": "stream",
     "text": [
      "/data/projects/PSB/DNABERT_data/Donor/chr11/subfolder8/dev.tsv\n"
     ]
    },
    {
     "name": "stderr",
     "output_type": "stream",
     "text": [
      "/tmp/ipykernel_2717319/3225387847.py:9: DtypeWarning: Columns (1) have mixed types. Specify dtype option on import or set low_memory=False.\n",
      "  df = pd.read_csv(file_name, sep='\\t')\n"
     ]
    },
    {
     "name": "stdout",
     "output_type": "stream",
     "text": [
      "/data/projects/PSB/DNABERT_data/Donor/chr11/subfolder16/dev.tsv\n"
     ]
    },
    {
     "name": "stderr",
     "output_type": "stream",
     "text": [
      "/tmp/ipykernel_2717319/3225387847.py:9: DtypeWarning: Columns (1) have mixed types. Specify dtype option on import or set low_memory=False.\n",
      "  df = pd.read_csv(file_name, sep='\\t')\n"
     ]
    },
    {
     "name": "stdout",
     "output_type": "stream",
     "text": [
      "/data/projects/PSB/DNABERT_data/Donor/chr11/subfolder15/dev.tsv\n"
     ]
    },
    {
     "name": "stderr",
     "output_type": "stream",
     "text": [
      "/tmp/ipykernel_2717319/3225387847.py:9: DtypeWarning: Columns (1) have mixed types. Specify dtype option on import or set low_memory=False.\n",
      "  df = pd.read_csv(file_name, sep='\\t')\n"
     ]
    },
    {
     "name": "stdout",
     "output_type": "stream",
     "text": [
      "/data/projects/PSB/DNABERT_data/Donor/chr11/subfolder14/dev.tsv\n"
     ]
    },
    {
     "name": "stderr",
     "output_type": "stream",
     "text": [
      "/tmp/ipykernel_2717319/3225387847.py:9: DtypeWarning: Columns (1) have mixed types. Specify dtype option on import or set low_memory=False.\n",
      "  df = pd.read_csv(file_name, sep='\\t')\n"
     ]
    },
    {
     "name": "stdout",
     "output_type": "stream",
     "text": [
      "/data/projects/PSB/DNABERT_data/Donor/chr11/subfolder19/dev.tsv\n"
     ]
    },
    {
     "name": "stderr",
     "output_type": "stream",
     "text": [
      "/tmp/ipykernel_2717319/3225387847.py:9: DtypeWarning: Columns (1) have mixed types. Specify dtype option on import or set low_memory=False.\n",
      "  df = pd.read_csv(file_name, sep='\\t')\n"
     ]
    },
    {
     "name": "stdout",
     "output_type": "stream",
     "text": [
      "/data/projects/PSB/DNABERT_data/Donor/chr11/subfolder3/dev.tsv\n"
     ]
    },
    {
     "name": "stderr",
     "output_type": "stream",
     "text": [
      "/tmp/ipykernel_2717319/3225387847.py:9: DtypeWarning: Columns (1) have mixed types. Specify dtype option on import or set low_memory=False.\n",
      "  df = pd.read_csv(file_name, sep='\\t')\n"
     ]
    },
    {
     "name": "stdout",
     "output_type": "stream",
     "text": [
      "/data/projects/PSB/DNABERT_data/Donor/chr11/subfolder9/dev.tsv\n"
     ]
    },
    {
     "name": "stderr",
     "output_type": "stream",
     "text": [
      "/tmp/ipykernel_2717319/3225387847.py:9: DtypeWarning: Columns (1) have mixed types. Specify dtype option on import or set low_memory=False.\n",
      "  df = pd.read_csv(file_name, sep='\\t')\n"
     ]
    },
    {
     "name": "stdout",
     "output_type": "stream",
     "text": [
      "/data/projects/PSB/DNABERT_data/Donor/chr11/subfolder13/dev.tsv\n"
     ]
    },
    {
     "name": "stderr",
     "output_type": "stream",
     "text": [
      "/tmp/ipykernel_2717319/3225387847.py:9: DtypeWarning: Columns (1) have mixed types. Specify dtype option on import or set low_memory=False.\n",
      "  df = pd.read_csv(file_name, sep='\\t')\n"
     ]
    },
    {
     "name": "stdout",
     "output_type": "stream",
     "text": [
      "/data/projects/PSB/DNABERT_data/Donor/chr11/subfolder12/dev.tsv\n"
     ]
    },
    {
     "name": "stderr",
     "output_type": "stream",
     "text": [
      "/tmp/ipykernel_2717319/3225387847.py:9: DtypeWarning: Columns (1) have mixed types. Specify dtype option on import or set low_memory=False.\n",
      "  df = pd.read_csv(file_name, sep='\\t')\n"
     ]
    },
    {
     "name": "stdout",
     "output_type": "stream",
     "text": [
      "/data/projects/PSB/DNABERT_data/Donor/chr11/subfolder17/dev.tsv\n"
     ]
    },
    {
     "name": "stderr",
     "output_type": "stream",
     "text": [
      "/tmp/ipykernel_2717319/3225387847.py:9: DtypeWarning: Columns (1) have mixed types. Specify dtype option on import or set low_memory=False.\n",
      "  df = pd.read_csv(file_name, sep='\\t')\n"
     ]
    },
    {
     "name": "stdout",
     "output_type": "stream",
     "text": [
      "/data/projects/PSB/DNABERT_data/Donor/chr11/subfolder2/dev.tsv\n"
     ]
    },
    {
     "name": "stderr",
     "output_type": "stream",
     "text": [
      "/tmp/ipykernel_2717319/3225387847.py:9: DtypeWarning: Columns (1) have mixed types. Specify dtype option on import or set low_memory=False.\n",
      "  df = pd.read_csv(file_name, sep='\\t')\n"
     ]
    },
    {
     "name": "stdout",
     "output_type": "stream",
     "text": [
      "/data/projects/PSB/DNABERT_data/Donor/chr12/subfolder11/dev.tsv\n"
     ]
    },
    {
     "name": "stderr",
     "output_type": "stream",
     "text": [
      "/tmp/ipykernel_2717319/3225387847.py:9: DtypeWarning: Columns (1) have mixed types. Specify dtype option on import or set low_memory=False.\n",
      "  df = pd.read_csv(file_name, sep='\\t')\n"
     ]
    },
    {
     "name": "stdout",
     "output_type": "stream",
     "text": [
      "/data/projects/PSB/DNABERT_data/Donor/chr12/subfolder6/dev.tsv\n"
     ]
    },
    {
     "name": "stderr",
     "output_type": "stream",
     "text": [
      "/tmp/ipykernel_2717319/3225387847.py:9: DtypeWarning: Columns (1) have mixed types. Specify dtype option on import or set low_memory=False.\n",
      "  df = pd.read_csv(file_name, sep='\\t')\n"
     ]
    },
    {
     "name": "stdout",
     "output_type": "stream",
     "text": [
      "/data/projects/PSB/DNABERT_data/Donor/chr12/subfolder10/dev.tsv\n"
     ]
    },
    {
     "name": "stderr",
     "output_type": "stream",
     "text": [
      "/tmp/ipykernel_2717319/3225387847.py:9: DtypeWarning: Columns (1) have mixed types. Specify dtype option on import or set low_memory=False.\n",
      "  df = pd.read_csv(file_name, sep='\\t')\n"
     ]
    },
    {
     "name": "stdout",
     "output_type": "stream",
     "text": [
      "/data/projects/PSB/DNABERT_data/Donor/chr12/subfolder5/dev.tsv\n"
     ]
    },
    {
     "name": "stderr",
     "output_type": "stream",
     "text": [
      "/tmp/ipykernel_2717319/3225387847.py:9: DtypeWarning: Columns (1) have mixed types. Specify dtype option on import or set low_memory=False.\n",
      "  df = pd.read_csv(file_name, sep='\\t')\n"
     ]
    },
    {
     "name": "stdout",
     "output_type": "stream",
     "text": [
      "/data/projects/PSB/DNABERT_data/Donor/chr12/subfolder4/dev.tsv\n"
     ]
    },
    {
     "name": "stderr",
     "output_type": "stream",
     "text": [
      "/tmp/ipykernel_2717319/3225387847.py:9: DtypeWarning: Columns (1) have mixed types. Specify dtype option on import or set low_memory=False.\n",
      "  df = pd.read_csv(file_name, sep='\\t')\n"
     ]
    },
    {
     "name": "stdout",
     "output_type": "stream",
     "text": [
      "/data/projects/PSB/DNABERT_data/Donor/chr12/subfolder7/dev.tsv\n"
     ]
    },
    {
     "name": "stderr",
     "output_type": "stream",
     "text": [
      "/tmp/ipykernel_2717319/3225387847.py:9: DtypeWarning: Columns (1) have mixed types. Specify dtype option on import or set low_memory=False.\n",
      "  df = pd.read_csv(file_name, sep='\\t')\n"
     ]
    },
    {
     "name": "stdout",
     "output_type": "stream",
     "text": [
      "/data/projects/PSB/DNABERT_data/Donor/chr12/subfolder1/dev.tsv\n"
     ]
    },
    {
     "name": "stderr",
     "output_type": "stream",
     "text": [
      "/tmp/ipykernel_2717319/3225387847.py:9: DtypeWarning: Columns (1) have mixed types. Specify dtype option on import or set low_memory=False.\n",
      "  df = pd.read_csv(file_name, sep='\\t')\n"
     ]
    },
    {
     "name": "stdout",
     "output_type": "stream",
     "text": [
      "/data/projects/PSB/DNABERT_data/Donor/chr12/subfolder8/dev.tsv\n"
     ]
    },
    {
     "name": "stderr",
     "output_type": "stream",
     "text": [
      "/tmp/ipykernel_2717319/3225387847.py:9: DtypeWarning: Columns (1) have mixed types. Specify dtype option on import or set low_memory=False.\n",
      "  df = pd.read_csv(file_name, sep='\\t')\n"
     ]
    },
    {
     "name": "stdout",
     "output_type": "stream",
     "text": [
      "/data/projects/PSB/DNABERT_data/Donor/chr12/subfolder3/dev.tsv\n"
     ]
    },
    {
     "name": "stderr",
     "output_type": "stream",
     "text": [
      "/tmp/ipykernel_2717319/3225387847.py:9: DtypeWarning: Columns (1) have mixed types. Specify dtype option on import or set low_memory=False.\n",
      "  df = pd.read_csv(file_name, sep='\\t')\n"
     ]
    },
    {
     "name": "stdout",
     "output_type": "stream",
     "text": [
      "/data/projects/PSB/DNABERT_data/Donor/chr12/subfolder9/dev.tsv\n"
     ]
    },
    {
     "name": "stderr",
     "output_type": "stream",
     "text": [
      "/tmp/ipykernel_2717319/3225387847.py:9: DtypeWarning: Columns (1) have mixed types. Specify dtype option on import or set low_memory=False.\n",
      "  df = pd.read_csv(file_name, sep='\\t')\n"
     ]
    },
    {
     "name": "stdout",
     "output_type": "stream",
     "text": [
      "/data/projects/PSB/DNABERT_data/Donor/chr12/subfolder13/dev.tsv\n"
     ]
    },
    {
     "name": "stderr",
     "output_type": "stream",
     "text": [
      "/tmp/ipykernel_2717319/3225387847.py:9: DtypeWarning: Columns (1) have mixed types. Specify dtype option on import or set low_memory=False.\n",
      "  df = pd.read_csv(file_name, sep='\\t')\n"
     ]
    },
    {
     "name": "stdout",
     "output_type": "stream",
     "text": [
      "/data/projects/PSB/DNABERT_data/Donor/chr12/subfolder12/dev.tsv\n"
     ]
    },
    {
     "name": "stderr",
     "output_type": "stream",
     "text": [
      "/tmp/ipykernel_2717319/3225387847.py:9: DtypeWarning: Columns (1) have mixed types. Specify dtype option on import or set low_memory=False.\n",
      "  df = pd.read_csv(file_name, sep='\\t')\n"
     ]
    },
    {
     "name": "stdout",
     "output_type": "stream",
     "text": [
      "/data/projects/PSB/DNABERT_data/Donor/chr12/subfolder2/dev.tsv\n"
     ]
    },
    {
     "name": "stderr",
     "output_type": "stream",
     "text": [
      "/tmp/ipykernel_2717319/3225387847.py:9: DtypeWarning: Columns (1) have mixed types. Specify dtype option on import or set low_memory=False.\n",
      "  df = pd.read_csv(file_name, sep='\\t')\n"
     ]
    },
    {
     "name": "stdout",
     "output_type": "stream",
     "text": [
      "/data/projects/PSB/DNABERT_data/Donor/chr13/subfolder5/dev.tsv\n",
      "/data/projects/PSB/DNABERT_data/Donor/chr13/subfolder4/dev.tsv\n"
     ]
    },
    {
     "name": "stderr",
     "output_type": "stream",
     "text": [
      "/tmp/ipykernel_2717319/3225387847.py:9: DtypeWarning: Columns (1) have mixed types. Specify dtype option on import or set low_memory=False.\n",
      "  df = pd.read_csv(file_name, sep='\\t')\n"
     ]
    },
    {
     "name": "stdout",
     "output_type": "stream",
     "text": [
      "/data/projects/PSB/DNABERT_data/Donor/chr13/subfolder1/dev.tsv\n"
     ]
    },
    {
     "name": "stderr",
     "output_type": "stream",
     "text": [
      "/tmp/ipykernel_2717319/3225387847.py:9: DtypeWarning: Columns (1) have mixed types. Specify dtype option on import or set low_memory=False.\n",
      "  df = pd.read_csv(file_name, sep='\\t')\n"
     ]
    },
    {
     "name": "stdout",
     "output_type": "stream",
     "text": [
      "/data/projects/PSB/DNABERT_data/Donor/chr13/subfolder3/dev.tsv\n"
     ]
    },
    {
     "name": "stderr",
     "output_type": "stream",
     "text": [
      "/tmp/ipykernel_2717319/3225387847.py:9: DtypeWarning: Columns (1) have mixed types. Specify dtype option on import or set low_memory=False.\n",
      "  df = pd.read_csv(file_name, sep='\\t')\n"
     ]
    },
    {
     "name": "stdout",
     "output_type": "stream",
     "text": [
      "/data/projects/PSB/DNABERT_data/Donor/chr13/subfolder2/dev.tsv\n"
     ]
    },
    {
     "name": "stderr",
     "output_type": "stream",
     "text": [
      "/tmp/ipykernel_2717319/3225387847.py:9: DtypeWarning: Columns (1) have mixed types. Specify dtype option on import or set low_memory=False.\n",
      "  df = pd.read_csv(file_name, sep='\\t')\n"
     ]
    },
    {
     "name": "stdout",
     "output_type": "stream",
     "text": [
      "/data/projects/PSB/DNABERT_data/Donor/chr14/subfolder11/dev.tsv\n"
     ]
    },
    {
     "name": "stderr",
     "output_type": "stream",
     "text": [
      "/tmp/ipykernel_2717319/3225387847.py:9: DtypeWarning: Columns (1) have mixed types. Specify dtype option on import or set low_memory=False.\n",
      "  df = pd.read_csv(file_name, sep='\\t')\n"
     ]
    },
    {
     "name": "stdout",
     "output_type": "stream",
     "text": [
      "/data/projects/PSB/DNABERT_data/Donor/chr14/subfolder6/dev.tsv\n"
     ]
    },
    {
     "name": "stderr",
     "output_type": "stream",
     "text": [
      "/tmp/ipykernel_2717319/3225387847.py:9: DtypeWarning: Columns (1) have mixed types. Specify dtype option on import or set low_memory=False.\n",
      "  df = pd.read_csv(file_name, sep='\\t')\n"
     ]
    },
    {
     "name": "stdout",
     "output_type": "stream",
     "text": [
      "/data/projects/PSB/DNABERT_data/Donor/chr14/subfolder10/dev.tsv\n"
     ]
    },
    {
     "name": "stderr",
     "output_type": "stream",
     "text": [
      "/tmp/ipykernel_2717319/3225387847.py:9: DtypeWarning: Columns (1) have mixed types. Specify dtype option on import or set low_memory=False.\n",
      "  df = pd.read_csv(file_name, sep='\\t')\n"
     ]
    },
    {
     "name": "stdout",
     "output_type": "stream",
     "text": [
      "/data/projects/PSB/DNABERT_data/Donor/chr14/subfolder5/dev.tsv\n"
     ]
    },
    {
     "name": "stderr",
     "output_type": "stream",
     "text": [
      "/tmp/ipykernel_2717319/3225387847.py:9: DtypeWarning: Columns (1) have mixed types. Specify dtype option on import or set low_memory=False.\n",
      "  df = pd.read_csv(file_name, sep='\\t')\n"
     ]
    },
    {
     "name": "stdout",
     "output_type": "stream",
     "text": [
      "/data/projects/PSB/DNABERT_data/Donor/chr14/subfolder4/dev.tsv\n"
     ]
    },
    {
     "name": "stderr",
     "output_type": "stream",
     "text": [
      "/tmp/ipykernel_2717319/3225387847.py:9: DtypeWarning: Columns (1) have mixed types. Specify dtype option on import or set low_memory=False.\n",
      "  df = pd.read_csv(file_name, sep='\\t')\n"
     ]
    },
    {
     "name": "stdout",
     "output_type": "stream",
     "text": [
      "/data/projects/PSB/DNABERT_data/Donor/chr14/subfolder7/dev.tsv\n"
     ]
    },
    {
     "name": "stderr",
     "output_type": "stream",
     "text": [
      "/tmp/ipykernel_2717319/3225387847.py:9: DtypeWarning: Columns (1) have mixed types. Specify dtype option on import or set low_memory=False.\n",
      "  df = pd.read_csv(file_name, sep='\\t')\n"
     ]
    },
    {
     "name": "stdout",
     "output_type": "stream",
     "text": [
      "/data/projects/PSB/DNABERT_data/Donor/chr14/subfolder1/dev.tsv\n"
     ]
    },
    {
     "name": "stderr",
     "output_type": "stream",
     "text": [
      "/tmp/ipykernel_2717319/3225387847.py:9: DtypeWarning: Columns (1) have mixed types. Specify dtype option on import or set low_memory=False.\n",
      "  df = pd.read_csv(file_name, sep='\\t')\n"
     ]
    },
    {
     "name": "stdout",
     "output_type": "stream",
     "text": [
      "/data/projects/PSB/DNABERT_data/Donor/chr14/subfolder8/dev.tsv\n"
     ]
    },
    {
     "name": "stderr",
     "output_type": "stream",
     "text": [
      "/tmp/ipykernel_2717319/3225387847.py:9: DtypeWarning: Columns (1) have mixed types. Specify dtype option on import or set low_memory=False.\n",
      "  df = pd.read_csv(file_name, sep='\\t')\n"
     ]
    },
    {
     "name": "stdout",
     "output_type": "stream",
     "text": [
      "/data/projects/PSB/DNABERT_data/Donor/chr14/subfolder3/dev.tsv\n"
     ]
    },
    {
     "name": "stderr",
     "output_type": "stream",
     "text": [
      "/tmp/ipykernel_2717319/3225387847.py:9: DtypeWarning: Columns (1) have mixed types. Specify dtype option on import or set low_memory=False.\n",
      "  df = pd.read_csv(file_name, sep='\\t')\n"
     ]
    },
    {
     "name": "stdout",
     "output_type": "stream",
     "text": [
      "/data/projects/PSB/DNABERT_data/Donor/chr14/subfolder9/dev.tsv\n"
     ]
    },
    {
     "name": "stderr",
     "output_type": "stream",
     "text": [
      "/tmp/ipykernel_2717319/3225387847.py:9: DtypeWarning: Columns (1) have mixed types. Specify dtype option on import or set low_memory=False.\n",
      "  df = pd.read_csv(file_name, sep='\\t')\n"
     ]
    },
    {
     "name": "stdout",
     "output_type": "stream",
     "text": [
      "/data/projects/PSB/DNABERT_data/Donor/chr14/subfolder2/dev.tsv\n"
     ]
    },
    {
     "name": "stderr",
     "output_type": "stream",
     "text": [
      "/tmp/ipykernel_2717319/3225387847.py:9: DtypeWarning: Columns (1) have mixed types. Specify dtype option on import or set low_memory=False.\n",
      "  df = pd.read_csv(file_name, sep='\\t')\n"
     ]
    },
    {
     "name": "stdout",
     "output_type": "stream",
     "text": [
      "/data/projects/PSB/DNABERT_data/Donor/chr15/subfolder6/dev.tsv\n"
     ]
    },
    {
     "name": "stderr",
     "output_type": "stream",
     "text": [
      "/tmp/ipykernel_2717319/3225387847.py:9: DtypeWarning: Columns (1) have mixed types. Specify dtype option on import or set low_memory=False.\n",
      "  df = pd.read_csv(file_name, sep='\\t')\n"
     ]
    },
    {
     "name": "stdout",
     "output_type": "stream",
     "text": [
      "/data/projects/PSB/DNABERT_data/Donor/chr15/subfolder10/dev.tsv\n"
     ]
    },
    {
     "name": "stderr",
     "output_type": "stream",
     "text": [
      "/tmp/ipykernel_2717319/3225387847.py:9: DtypeWarning: Columns (1) have mixed types. Specify dtype option on import or set low_memory=False.\n",
      "  df = pd.read_csv(file_name, sep='\\t')\n"
     ]
    },
    {
     "name": "stdout",
     "output_type": "stream",
     "text": [
      "/data/projects/PSB/DNABERT_data/Donor/chr15/subfolder5/dev.tsv\n"
     ]
    },
    {
     "name": "stderr",
     "output_type": "stream",
     "text": [
      "/tmp/ipykernel_2717319/3225387847.py:9: DtypeWarning: Columns (1) have mixed types. Specify dtype option on import or set low_memory=False.\n",
      "  df = pd.read_csv(file_name, sep='\\t')\n"
     ]
    },
    {
     "name": "stdout",
     "output_type": "stream",
     "text": [
      "/data/projects/PSB/DNABERT_data/Donor/chr15/subfolder4/dev.tsv\n"
     ]
    },
    {
     "name": "stderr",
     "output_type": "stream",
     "text": [
      "/tmp/ipykernel_2717319/3225387847.py:9: DtypeWarning: Columns (1) have mixed types. Specify dtype option on import or set low_memory=False.\n",
      "  df = pd.read_csv(file_name, sep='\\t')\n"
     ]
    },
    {
     "name": "stdout",
     "output_type": "stream",
     "text": [
      "/data/projects/PSB/DNABERT_data/Donor/chr15/subfolder7/dev.tsv\n"
     ]
    },
    {
     "name": "stderr",
     "output_type": "stream",
     "text": [
      "/tmp/ipykernel_2717319/3225387847.py:9: DtypeWarning: Columns (1) have mixed types. Specify dtype option on import or set low_memory=False.\n",
      "  df = pd.read_csv(file_name, sep='\\t')\n"
     ]
    },
    {
     "name": "stdout",
     "output_type": "stream",
     "text": [
      "/data/projects/PSB/DNABERT_data/Donor/chr15/subfolder1/dev.tsv\n"
     ]
    },
    {
     "name": "stderr",
     "output_type": "stream",
     "text": [
      "/tmp/ipykernel_2717319/3225387847.py:9: DtypeWarning: Columns (1) have mixed types. Specify dtype option on import or set low_memory=False.\n",
      "  df = pd.read_csv(file_name, sep='\\t')\n"
     ]
    },
    {
     "name": "stdout",
     "output_type": "stream",
     "text": [
      "/data/projects/PSB/DNABERT_data/Donor/chr15/subfolder8/dev.tsv\n"
     ]
    },
    {
     "name": "stderr",
     "output_type": "stream",
     "text": [
      "/tmp/ipykernel_2717319/3225387847.py:9: DtypeWarning: Columns (1) have mixed types. Specify dtype option on import or set low_memory=False.\n",
      "  df = pd.read_csv(file_name, sep='\\t')\n"
     ]
    },
    {
     "name": "stdout",
     "output_type": "stream",
     "text": [
      "/data/projects/PSB/DNABERT_data/Donor/chr15/subfolder3/dev.tsv\n"
     ]
    },
    {
     "name": "stderr",
     "output_type": "stream",
     "text": [
      "/tmp/ipykernel_2717319/3225387847.py:9: DtypeWarning: Columns (1) have mixed types. Specify dtype option on import or set low_memory=False.\n",
      "  df = pd.read_csv(file_name, sep='\\t')\n"
     ]
    },
    {
     "name": "stdout",
     "output_type": "stream",
     "text": [
      "/data/projects/PSB/DNABERT_data/Donor/chr15/subfolder9/dev.tsv\n"
     ]
    },
    {
     "name": "stderr",
     "output_type": "stream",
     "text": [
      "/tmp/ipykernel_2717319/3225387847.py:9: DtypeWarning: Columns (1) have mixed types. Specify dtype option on import or set low_memory=False.\n",
      "  df = pd.read_csv(file_name, sep='\\t')\n"
     ]
    },
    {
     "name": "stdout",
     "output_type": "stream",
     "text": [
      "/data/projects/PSB/DNABERT_data/Donor/chr15/subfolder2/dev.tsv\n"
     ]
    },
    {
     "name": "stderr",
     "output_type": "stream",
     "text": [
      "/tmp/ipykernel_2717319/3225387847.py:9: DtypeWarning: Columns (1) have mixed types. Specify dtype option on import or set low_memory=False.\n",
      "  df = pd.read_csv(file_name, sep='\\t')\n"
     ]
    },
    {
     "name": "stdout",
     "output_type": "stream",
     "text": [
      "/data/projects/PSB/DNABERT_data/Donor/chr16/subfolder11/dev.tsv\n"
     ]
    },
    {
     "name": "stderr",
     "output_type": "stream",
     "text": [
      "/tmp/ipykernel_2717319/3225387847.py:9: DtypeWarning: Columns (1) have mixed types. Specify dtype option on import or set low_memory=False.\n",
      "  df = pd.read_csv(file_name, sep='\\t')\n"
     ]
    },
    {
     "name": "stdout",
     "output_type": "stream",
     "text": [
      "/data/projects/PSB/DNABERT_data/Donor/chr16/subfolder6/dev.tsv\n"
     ]
    },
    {
     "name": "stderr",
     "output_type": "stream",
     "text": [
      "/tmp/ipykernel_2717319/3225387847.py:9: DtypeWarning: Columns (1) have mixed types. Specify dtype option on import or set low_memory=False.\n",
      "  df = pd.read_csv(file_name, sep='\\t')\n"
     ]
    },
    {
     "name": "stdout",
     "output_type": "stream",
     "text": [
      "/data/projects/PSB/DNABERT_data/Donor/chr16/subfolder10/dev.tsv\n"
     ]
    },
    {
     "name": "stderr",
     "output_type": "stream",
     "text": [
      "/tmp/ipykernel_2717319/3225387847.py:9: DtypeWarning: Columns (1) have mixed types. Specify dtype option on import or set low_memory=False.\n",
      "  df = pd.read_csv(file_name, sep='\\t')\n"
     ]
    },
    {
     "name": "stdout",
     "output_type": "stream",
     "text": [
      "/data/projects/PSB/DNABERT_data/Donor/chr16/subfolder5/dev.tsv\n"
     ]
    },
    {
     "name": "stderr",
     "output_type": "stream",
     "text": [
      "/tmp/ipykernel_2717319/3225387847.py:9: DtypeWarning: Columns (1) have mixed types. Specify dtype option on import or set low_memory=False.\n",
      "  df = pd.read_csv(file_name, sep='\\t')\n"
     ]
    },
    {
     "name": "stdout",
     "output_type": "stream",
     "text": [
      "/data/projects/PSB/DNABERT_data/Donor/chr16/subfolder4/dev.tsv\n"
     ]
    },
    {
     "name": "stderr",
     "output_type": "stream",
     "text": [
      "/tmp/ipykernel_2717319/3225387847.py:9: DtypeWarning: Columns (1) have mixed types. Specify dtype option on import or set low_memory=False.\n",
      "  df = pd.read_csv(file_name, sep='\\t')\n"
     ]
    },
    {
     "name": "stdout",
     "output_type": "stream",
     "text": [
      "/data/projects/PSB/DNABERT_data/Donor/chr16/subfolder7/dev.tsv\n"
     ]
    },
    {
     "name": "stderr",
     "output_type": "stream",
     "text": [
      "/tmp/ipykernel_2717319/3225387847.py:9: DtypeWarning: Columns (1) have mixed types. Specify dtype option on import or set low_memory=False.\n",
      "  df = pd.read_csv(file_name, sep='\\t')\n"
     ]
    },
    {
     "name": "stdout",
     "output_type": "stream",
     "text": [
      "/data/projects/PSB/DNABERT_data/Donor/chr16/subfolder1/dev.tsv\n"
     ]
    },
    {
     "name": "stderr",
     "output_type": "stream",
     "text": [
      "/tmp/ipykernel_2717319/3225387847.py:9: DtypeWarning: Columns (1) have mixed types. Specify dtype option on import or set low_memory=False.\n",
      "  df = pd.read_csv(file_name, sep='\\t')\n"
     ]
    },
    {
     "name": "stdout",
     "output_type": "stream",
     "text": [
      "/data/projects/PSB/DNABERT_data/Donor/chr16/subfolder8/dev.tsv\n"
     ]
    },
    {
     "name": "stderr",
     "output_type": "stream",
     "text": [
      "/tmp/ipykernel_2717319/3225387847.py:9: DtypeWarning: Columns (1) have mixed types. Specify dtype option on import or set low_memory=False.\n",
      "  df = pd.read_csv(file_name, sep='\\t')\n"
     ]
    },
    {
     "name": "stdout",
     "output_type": "stream",
     "text": [
      "/data/projects/PSB/DNABERT_data/Donor/chr16/subfolder15/dev.tsv\n"
     ]
    },
    {
     "name": "stderr",
     "output_type": "stream",
     "text": [
      "/tmp/ipykernel_2717319/3225387847.py:9: DtypeWarning: Columns (1) have mixed types. Specify dtype option on import or set low_memory=False.\n",
      "  df = pd.read_csv(file_name, sep='\\t')\n"
     ]
    },
    {
     "name": "stdout",
     "output_type": "stream",
     "text": [
      "/data/projects/PSB/DNABERT_data/Donor/chr16/subfolder14/dev.tsv\n"
     ]
    },
    {
     "name": "stderr",
     "output_type": "stream",
     "text": [
      "/tmp/ipykernel_2717319/3225387847.py:9: DtypeWarning: Columns (1) have mixed types. Specify dtype option on import or set low_memory=False.\n",
      "  df = pd.read_csv(file_name, sep='\\t')\n"
     ]
    },
    {
     "name": "stdout",
     "output_type": "stream",
     "text": [
      "/data/projects/PSB/DNABERT_data/Donor/chr16/subfolder3/dev.tsv\n"
     ]
    },
    {
     "name": "stderr",
     "output_type": "stream",
     "text": [
      "/tmp/ipykernel_2717319/3225387847.py:9: DtypeWarning: Columns (1) have mixed types. Specify dtype option on import or set low_memory=False.\n",
      "  df = pd.read_csv(file_name, sep='\\t')\n"
     ]
    },
    {
     "name": "stdout",
     "output_type": "stream",
     "text": [
      "/data/projects/PSB/DNABERT_data/Donor/chr16/subfolder9/dev.tsv\n"
     ]
    },
    {
     "name": "stderr",
     "output_type": "stream",
     "text": [
      "/tmp/ipykernel_2717319/3225387847.py:9: DtypeWarning: Columns (1) have mixed types. Specify dtype option on import or set low_memory=False.\n",
      "  df = pd.read_csv(file_name, sep='\\t')\n"
     ]
    },
    {
     "name": "stdout",
     "output_type": "stream",
     "text": [
      "/data/projects/PSB/DNABERT_data/Donor/chr16/subfolder13/dev.tsv\n"
     ]
    },
    {
     "name": "stderr",
     "output_type": "stream",
     "text": [
      "/tmp/ipykernel_2717319/3225387847.py:9: DtypeWarning: Columns (1) have mixed types. Specify dtype option on import or set low_memory=False.\n",
      "  df = pd.read_csv(file_name, sep='\\t')\n"
     ]
    },
    {
     "name": "stdout",
     "output_type": "stream",
     "text": [
      "/data/projects/PSB/DNABERT_data/Donor/chr16/subfolder12/dev.tsv\n"
     ]
    },
    {
     "name": "stderr",
     "output_type": "stream",
     "text": [
      "/tmp/ipykernel_2717319/3225387847.py:9: DtypeWarning: Columns (1) have mixed types. Specify dtype option on import or set low_memory=False.\n",
      "  df = pd.read_csv(file_name, sep='\\t')\n"
     ]
    },
    {
     "name": "stdout",
     "output_type": "stream",
     "text": [
      "/data/projects/PSB/DNABERT_data/Donor/chr16/subfolder2/dev.tsv\n"
     ]
    },
    {
     "name": "stderr",
     "output_type": "stream",
     "text": [
      "/tmp/ipykernel_2717319/3225387847.py:9: DtypeWarning: Columns (1) have mixed types. Specify dtype option on import or set low_memory=False.\n",
      "  df = pd.read_csv(file_name, sep='\\t')\n"
     ]
    },
    {
     "name": "stdout",
     "output_type": "stream",
     "text": [
      "/data/projects/PSB/DNABERT_data/Donor/chr17/subfolder11/dev.tsv\n"
     ]
    },
    {
     "name": "stderr",
     "output_type": "stream",
     "text": [
      "/tmp/ipykernel_2717319/3225387847.py:9: DtypeWarning: Columns (1) have mixed types. Specify dtype option on import or set low_memory=False.\n",
      "  df = pd.read_csv(file_name, sep='\\t')\n"
     ]
    },
    {
     "name": "stdout",
     "output_type": "stream",
     "text": [
      "/data/projects/PSB/DNABERT_data/Donor/chr17/subfolder6/dev.tsv\n"
     ]
    },
    {
     "name": "stderr",
     "output_type": "stream",
     "text": [
      "/tmp/ipykernel_2717319/3225387847.py:9: DtypeWarning: Columns (1) have mixed types. Specify dtype option on import or set low_memory=False.\n",
      "  df = pd.read_csv(file_name, sep='\\t')\n"
     ]
    },
    {
     "name": "stdout",
     "output_type": "stream",
     "text": [
      "/data/projects/PSB/DNABERT_data/Donor/chr17/subfolder10/dev.tsv\n"
     ]
    },
    {
     "name": "stderr",
     "output_type": "stream",
     "text": [
      "/tmp/ipykernel_2717319/3225387847.py:9: DtypeWarning: Columns (1) have mixed types. Specify dtype option on import or set low_memory=False.\n",
      "  df = pd.read_csv(file_name, sep='\\t')\n"
     ]
    },
    {
     "name": "stdout",
     "output_type": "stream",
     "text": [
      "/data/projects/PSB/DNABERT_data/Donor/chr17/subfolder5/dev.tsv\n"
     ]
    },
    {
     "name": "stderr",
     "output_type": "stream",
     "text": [
      "/tmp/ipykernel_2717319/3225387847.py:9: DtypeWarning: Columns (1) have mixed types. Specify dtype option on import or set low_memory=False.\n",
      "  df = pd.read_csv(file_name, sep='\\t')\n"
     ]
    },
    {
     "name": "stdout",
     "output_type": "stream",
     "text": [
      "/data/projects/PSB/DNABERT_data/Donor/chr17/subfolder4/dev.tsv\n"
     ]
    },
    {
     "name": "stderr",
     "output_type": "stream",
     "text": [
      "/tmp/ipykernel_2717319/3225387847.py:9: DtypeWarning: Columns (1) have mixed types. Specify dtype option on import or set low_memory=False.\n",
      "  df = pd.read_csv(file_name, sep='\\t')\n"
     ]
    },
    {
     "name": "stdout",
     "output_type": "stream",
     "text": [
      "/data/projects/PSB/DNABERT_data/Donor/chr17/subfolder7/dev.tsv\n"
     ]
    },
    {
     "name": "stderr",
     "output_type": "stream",
     "text": [
      "/tmp/ipykernel_2717319/3225387847.py:9: DtypeWarning: Columns (1) have mixed types. Specify dtype option on import or set low_memory=False.\n",
      "  df = pd.read_csv(file_name, sep='\\t')\n"
     ]
    },
    {
     "name": "stdout",
     "output_type": "stream",
     "text": [
      "/data/projects/PSB/DNABERT_data/Donor/chr17/subfolder1/dev.tsv\n"
     ]
    },
    {
     "name": "stderr",
     "output_type": "stream",
     "text": [
      "/tmp/ipykernel_2717319/3225387847.py:9: DtypeWarning: Columns (1) have mixed types. Specify dtype option on import or set low_memory=False.\n",
      "  df = pd.read_csv(file_name, sep='\\t')\n"
     ]
    },
    {
     "name": "stdout",
     "output_type": "stream",
     "text": [
      "/data/projects/PSB/DNABERT_data/Donor/chr17/subfolder8/dev.tsv\n"
     ]
    },
    {
     "name": "stderr",
     "output_type": "stream",
     "text": [
      "/tmp/ipykernel_2717319/3225387847.py:9: DtypeWarning: Columns (1) have mixed types. Specify dtype option on import or set low_memory=False.\n",
      "  df = pd.read_csv(file_name, sep='\\t')\n"
     ]
    },
    {
     "name": "stdout",
     "output_type": "stream",
     "text": [
      "/data/projects/PSB/DNABERT_data/Donor/chr17/subfolder16/dev.tsv\n"
     ]
    },
    {
     "name": "stderr",
     "output_type": "stream",
     "text": [
      "/tmp/ipykernel_2717319/3225387847.py:9: DtypeWarning: Columns (1) have mixed types. Specify dtype option on import or set low_memory=False.\n",
      "  df = pd.read_csv(file_name, sep='\\t')\n"
     ]
    },
    {
     "name": "stdout",
     "output_type": "stream",
     "text": [
      "/data/projects/PSB/DNABERT_data/Donor/chr17/subfolder15/dev.tsv\n"
     ]
    },
    {
     "name": "stderr",
     "output_type": "stream",
     "text": [
      "/tmp/ipykernel_2717319/3225387847.py:9: DtypeWarning: Columns (1) have mixed types. Specify dtype option on import or set low_memory=False.\n",
      "  df = pd.read_csv(file_name, sep='\\t')\n"
     ]
    },
    {
     "name": "stdout",
     "output_type": "stream",
     "text": [
      "/data/projects/PSB/DNABERT_data/Donor/chr17/subfolder14/dev.tsv\n"
     ]
    },
    {
     "name": "stderr",
     "output_type": "stream",
     "text": [
      "/tmp/ipykernel_2717319/3225387847.py:9: DtypeWarning: Columns (1) have mixed types. Specify dtype option on import or set low_memory=False.\n",
      "  df = pd.read_csv(file_name, sep='\\t')\n"
     ]
    },
    {
     "name": "stdout",
     "output_type": "stream",
     "text": [
      "/data/projects/PSB/DNABERT_data/Donor/chr17/subfolder3/dev.tsv\n"
     ]
    },
    {
     "name": "stderr",
     "output_type": "stream",
     "text": [
      "/tmp/ipykernel_2717319/3225387847.py:9: DtypeWarning: Columns (1) have mixed types. Specify dtype option on import or set low_memory=False.\n",
      "  df = pd.read_csv(file_name, sep='\\t')\n"
     ]
    },
    {
     "name": "stdout",
     "output_type": "stream",
     "text": [
      "/data/projects/PSB/DNABERT_data/Donor/chr17/subfolder9/dev.tsv\n"
     ]
    },
    {
     "name": "stderr",
     "output_type": "stream",
     "text": [
      "/tmp/ipykernel_2717319/3225387847.py:9: DtypeWarning: Columns (1) have mixed types. Specify dtype option on import or set low_memory=False.\n",
      "  df = pd.read_csv(file_name, sep='\\t')\n"
     ]
    },
    {
     "name": "stdout",
     "output_type": "stream",
     "text": [
      "/data/projects/PSB/DNABERT_data/Donor/chr17/subfolder13/dev.tsv\n"
     ]
    },
    {
     "name": "stderr",
     "output_type": "stream",
     "text": [
      "/tmp/ipykernel_2717319/3225387847.py:9: DtypeWarning: Columns (1) have mixed types. Specify dtype option on import or set low_memory=False.\n",
      "  df = pd.read_csv(file_name, sep='\\t')\n"
     ]
    },
    {
     "name": "stdout",
     "output_type": "stream",
     "text": [
      "/data/projects/PSB/DNABERT_data/Donor/chr17/subfolder12/dev.tsv\n"
     ]
    },
    {
     "name": "stderr",
     "output_type": "stream",
     "text": [
      "/tmp/ipykernel_2717319/3225387847.py:9: DtypeWarning: Columns (1) have mixed types. Specify dtype option on import or set low_memory=False.\n",
      "  df = pd.read_csv(file_name, sep='\\t')\n"
     ]
    },
    {
     "name": "stdout",
     "output_type": "stream",
     "text": [
      "/data/projects/PSB/DNABERT_data/Donor/chr17/subfolder2/dev.tsv\n"
     ]
    },
    {
     "name": "stderr",
     "output_type": "stream",
     "text": [
      "/tmp/ipykernel_2717319/3225387847.py:9: DtypeWarning: Columns (1) have mixed types. Specify dtype option on import or set low_memory=False.\n",
      "  df = pd.read_csv(file_name, sep='\\t')\n"
     ]
    },
    {
     "name": "stdout",
     "output_type": "stream",
     "text": [
      "/data/projects/PSB/DNABERT_data/Donor/chr18/subfolder5/dev.tsv\n"
     ]
    },
    {
     "name": "stderr",
     "output_type": "stream",
     "text": [
      "/tmp/ipykernel_2717319/3225387847.py:9: DtypeWarning: Columns (1) have mixed types. Specify dtype option on import or set low_memory=False.\n",
      "  df = pd.read_csv(file_name, sep='\\t')\n"
     ]
    },
    {
     "name": "stdout",
     "output_type": "stream",
     "text": [
      "/data/projects/PSB/DNABERT_data/Donor/chr18/subfolder4/dev.tsv\n"
     ]
    },
    {
     "name": "stderr",
     "output_type": "stream",
     "text": [
      "/tmp/ipykernel_2717319/3225387847.py:9: DtypeWarning: Columns (1) have mixed types. Specify dtype option on import or set low_memory=False.\n",
      "  df = pd.read_csv(file_name, sep='\\t')\n"
     ]
    },
    {
     "name": "stdout",
     "output_type": "stream",
     "text": [
      "/data/projects/PSB/DNABERT_data/Donor/chr18/subfolder1/dev.tsv\n"
     ]
    },
    {
     "name": "stderr",
     "output_type": "stream",
     "text": [
      "/tmp/ipykernel_2717319/3225387847.py:9: DtypeWarning: Columns (1) have mixed types. Specify dtype option on import or set low_memory=False.\n",
      "  df = pd.read_csv(file_name, sep='\\t')\n"
     ]
    },
    {
     "name": "stdout",
     "output_type": "stream",
     "text": [
      "/data/projects/PSB/DNABERT_data/Donor/chr18/subfolder3/dev.tsv\n"
     ]
    },
    {
     "name": "stderr",
     "output_type": "stream",
     "text": [
      "/tmp/ipykernel_2717319/3225387847.py:9: DtypeWarning: Columns (1) have mixed types. Specify dtype option on import or set low_memory=False.\n",
      "  df = pd.read_csv(file_name, sep='\\t')\n"
     ]
    },
    {
     "name": "stdout",
     "output_type": "stream",
     "text": [
      "/data/projects/PSB/DNABERT_data/Donor/chr18/subfolder2/dev.tsv\n"
     ]
    },
    {
     "name": "stderr",
     "output_type": "stream",
     "text": [
      "/tmp/ipykernel_2717319/3225387847.py:9: DtypeWarning: Columns (1) have mixed types. Specify dtype option on import or set low_memory=False.\n",
      "  df = pd.read_csv(file_name, sep='\\t')\n"
     ]
    },
    {
     "name": "stdout",
     "output_type": "stream",
     "text": [
      "/data/projects/PSB/DNABERT_data/Donor/chr19/subfolder11/dev.tsv\n"
     ]
    },
    {
     "name": "stderr",
     "output_type": "stream",
     "text": [
      "/tmp/ipykernel_2717319/3225387847.py:9: DtypeWarning: Columns (1) have mixed types. Specify dtype option on import or set low_memory=False.\n",
      "  df = pd.read_csv(file_name, sep='\\t')\n"
     ]
    },
    {
     "name": "stdout",
     "output_type": "stream",
     "text": [
      "/data/projects/PSB/DNABERT_data/Donor/chr19/subfolder6/dev.tsv\n"
     ]
    },
    {
     "name": "stderr",
     "output_type": "stream",
     "text": [
      "/tmp/ipykernel_2717319/3225387847.py:9: DtypeWarning: Columns (1) have mixed types. Specify dtype option on import or set low_memory=False.\n",
      "  df = pd.read_csv(file_name, sep='\\t')\n"
     ]
    },
    {
     "name": "stdout",
     "output_type": "stream",
     "text": [
      "/data/projects/PSB/DNABERT_data/Donor/chr19/subfolder10/dev.tsv\n"
     ]
    },
    {
     "name": "stderr",
     "output_type": "stream",
     "text": [
      "/tmp/ipykernel_2717319/3225387847.py:9: DtypeWarning: Columns (1) have mixed types. Specify dtype option on import or set low_memory=False.\n",
      "  df = pd.read_csv(file_name, sep='\\t')\n"
     ]
    },
    {
     "name": "stdout",
     "output_type": "stream",
     "text": [
      "/data/projects/PSB/DNABERT_data/Donor/chr19/subfolder5/dev.tsv\n"
     ]
    },
    {
     "name": "stderr",
     "output_type": "stream",
     "text": [
      "/tmp/ipykernel_2717319/3225387847.py:9: DtypeWarning: Columns (1) have mixed types. Specify dtype option on import or set low_memory=False.\n",
      "  df = pd.read_csv(file_name, sep='\\t')\n"
     ]
    },
    {
     "name": "stdout",
     "output_type": "stream",
     "text": [
      "/data/projects/PSB/DNABERT_data/Donor/chr19/subfolder4/dev.tsv\n"
     ]
    },
    {
     "name": "stderr",
     "output_type": "stream",
     "text": [
      "/tmp/ipykernel_2717319/3225387847.py:9: DtypeWarning: Columns (1) have mixed types. Specify dtype option on import or set low_memory=False.\n",
      "  df = pd.read_csv(file_name, sep='\\t')\n"
     ]
    },
    {
     "name": "stdout",
     "output_type": "stream",
     "text": [
      "/data/projects/PSB/DNABERT_data/Donor/chr19/subfolder7/dev.tsv\n"
     ]
    },
    {
     "name": "stderr",
     "output_type": "stream",
     "text": [
      "/tmp/ipykernel_2717319/3225387847.py:9: DtypeWarning: Columns (1) have mixed types. Specify dtype option on import or set low_memory=False.\n",
      "  df = pd.read_csv(file_name, sep='\\t')\n"
     ]
    },
    {
     "name": "stdout",
     "output_type": "stream",
     "text": [
      "/data/projects/PSB/DNABERT_data/Donor/chr19/subfolder1/dev.tsv\n"
     ]
    },
    {
     "name": "stderr",
     "output_type": "stream",
     "text": [
      "/tmp/ipykernel_2717319/3225387847.py:9: DtypeWarning: Columns (1) have mixed types. Specify dtype option on import or set low_memory=False.\n",
      "  df = pd.read_csv(file_name, sep='\\t')\n"
     ]
    },
    {
     "name": "stdout",
     "output_type": "stream",
     "text": [
      "/data/projects/PSB/DNABERT_data/Donor/chr19/subfolder8/dev.tsv\n"
     ]
    },
    {
     "name": "stderr",
     "output_type": "stream",
     "text": [
      "/tmp/ipykernel_2717319/3225387847.py:9: DtypeWarning: Columns (1) have mixed types. Specify dtype option on import or set low_memory=False.\n",
      "  df = pd.read_csv(file_name, sep='\\t')\n"
     ]
    },
    {
     "name": "stdout",
     "output_type": "stream",
     "text": [
      "/data/projects/PSB/DNABERT_data/Donor/chr19/subfolder3/dev.tsv\n"
     ]
    },
    {
     "name": "stderr",
     "output_type": "stream",
     "text": [
      "/tmp/ipykernel_2717319/3225387847.py:9: DtypeWarning: Columns (1) have mixed types. Specify dtype option on import or set low_memory=False.\n",
      "  df = pd.read_csv(file_name, sep='\\t')\n"
     ]
    },
    {
     "name": "stdout",
     "output_type": "stream",
     "text": [
      "/data/projects/PSB/DNABERT_data/Donor/chr19/subfolder9/dev.tsv\n"
     ]
    },
    {
     "name": "stderr",
     "output_type": "stream",
     "text": [
      "/tmp/ipykernel_2717319/3225387847.py:9: DtypeWarning: Columns (1) have mixed types. Specify dtype option on import or set low_memory=False.\n",
      "  df = pd.read_csv(file_name, sep='\\t')\n"
     ]
    },
    {
     "name": "stdout",
     "output_type": "stream",
     "text": [
      "/data/projects/PSB/DNABERT_data/Donor/chr19/subfolder13/dev.tsv\n"
     ]
    },
    {
     "name": "stderr",
     "output_type": "stream",
     "text": [
      "/tmp/ipykernel_2717319/3225387847.py:9: DtypeWarning: Columns (1) have mixed types. Specify dtype option on import or set low_memory=False.\n",
      "  df = pd.read_csv(file_name, sep='\\t')\n"
     ]
    },
    {
     "name": "stdout",
     "output_type": "stream",
     "text": [
      "/data/projects/PSB/DNABERT_data/Donor/chr19/subfolder12/dev.tsv\n"
     ]
    },
    {
     "name": "stderr",
     "output_type": "stream",
     "text": [
      "/tmp/ipykernel_2717319/3225387847.py:9: DtypeWarning: Columns (1) have mixed types. Specify dtype option on import or set low_memory=False.\n",
      "  df = pd.read_csv(file_name, sep='\\t')\n"
     ]
    },
    {
     "name": "stdout",
     "output_type": "stream",
     "text": [
      "/data/projects/PSB/DNABERT_data/Donor/chr19/subfolder2/dev.tsv\n"
     ]
    },
    {
     "name": "stderr",
     "output_type": "stream",
     "text": [
      "/tmp/ipykernel_2717319/3225387847.py:9: DtypeWarning: Columns (1) have mixed types. Specify dtype option on import or set low_memory=False.\n",
      "  df = pd.read_csv(file_name, sep='\\t')\n"
     ]
    },
    {
     "name": "stdout",
     "output_type": "stream",
     "text": [
      "/data/projects/PSB/DNABERT_data/Donor/chr20/subfolder6/dev.tsv\n"
     ]
    },
    {
     "name": "stderr",
     "output_type": "stream",
     "text": [
      "/tmp/ipykernel_2717319/3225387847.py:9: DtypeWarning: Columns (1) have mixed types. Specify dtype option on import or set low_memory=False.\n",
      "  df = pd.read_csv(file_name, sep='\\t')\n"
     ]
    },
    {
     "name": "stdout",
     "output_type": "stream",
     "text": [
      "/data/projects/PSB/DNABERT_data/Donor/chr20/subfolder5/dev.tsv\n"
     ]
    },
    {
     "name": "stderr",
     "output_type": "stream",
     "text": [
      "/tmp/ipykernel_2717319/3225387847.py:9: DtypeWarning: Columns (1) have mixed types. Specify dtype option on import or set low_memory=False.\n",
      "  df = pd.read_csv(file_name, sep='\\t')\n"
     ]
    },
    {
     "name": "stdout",
     "output_type": "stream",
     "text": [
      "/data/projects/PSB/DNABERT_data/Donor/chr20/subfolder4/dev.tsv\n"
     ]
    },
    {
     "name": "stderr",
     "output_type": "stream",
     "text": [
      "/tmp/ipykernel_2717319/3225387847.py:9: DtypeWarning: Columns (1) have mixed types. Specify dtype option on import or set low_memory=False.\n",
      "  df = pd.read_csv(file_name, sep='\\t')\n"
     ]
    },
    {
     "name": "stdout",
     "output_type": "stream",
     "text": [
      "/data/projects/PSB/DNABERT_data/Donor/chr20/subfolder7/dev.tsv\n"
     ]
    },
    {
     "name": "stderr",
     "output_type": "stream",
     "text": [
      "/tmp/ipykernel_2717319/3225387847.py:9: DtypeWarning: Columns (1) have mixed types. Specify dtype option on import or set low_memory=False.\n",
      "  df = pd.read_csv(file_name, sep='\\t')\n"
     ]
    },
    {
     "name": "stdout",
     "output_type": "stream",
     "text": [
      "/data/projects/PSB/DNABERT_data/Donor/chr20/subfolder1/dev.tsv\n"
     ]
    },
    {
     "name": "stderr",
     "output_type": "stream",
     "text": [
      "/tmp/ipykernel_2717319/3225387847.py:9: DtypeWarning: Columns (1) have mixed types. Specify dtype option on import or set low_memory=False.\n",
      "  df = pd.read_csv(file_name, sep='\\t')\n"
     ]
    },
    {
     "name": "stdout",
     "output_type": "stream",
     "text": [
      "/data/projects/PSB/DNABERT_data/Donor/chr20/subfolder8/dev.tsv\n"
     ]
    },
    {
     "name": "stderr",
     "output_type": "stream",
     "text": [
      "/tmp/ipykernel_2717319/3225387847.py:9: DtypeWarning: Columns (1) have mixed types. Specify dtype option on import or set low_memory=False.\n",
      "  df = pd.read_csv(file_name, sep='\\t')\n"
     ]
    },
    {
     "name": "stdout",
     "output_type": "stream",
     "text": [
      "/data/projects/PSB/DNABERT_data/Donor/chr20/subfolder3/dev.tsv\n"
     ]
    },
    {
     "name": "stderr",
     "output_type": "stream",
     "text": [
      "/tmp/ipykernel_2717319/3225387847.py:9: DtypeWarning: Columns (1) have mixed types. Specify dtype option on import or set low_memory=False.\n",
      "  df = pd.read_csv(file_name, sep='\\t')\n"
     ]
    },
    {
     "name": "stdout",
     "output_type": "stream",
     "text": [
      "/data/projects/PSB/DNABERT_data/Donor/chr20/subfolder2/dev.tsv\n"
     ]
    },
    {
     "name": "stderr",
     "output_type": "stream",
     "text": [
      "/tmp/ipykernel_2717319/3225387847.py:9: DtypeWarning: Columns (1) have mixed types. Specify dtype option on import or set low_memory=False.\n",
      "  df = pd.read_csv(file_name, sep='\\t')\n"
     ]
    },
    {
     "name": "stdout",
     "output_type": "stream",
     "text": [
      "/data/projects/PSB/DNABERT_data/Donor/chr21/subfolder4/dev.tsv\n"
     ]
    },
    {
     "name": "stderr",
     "output_type": "stream",
     "text": [
      "/tmp/ipykernel_2717319/3225387847.py:9: DtypeWarning: Columns (1) have mixed types. Specify dtype option on import or set low_memory=False.\n",
      "  df = pd.read_csv(file_name, sep='\\t')\n"
     ]
    },
    {
     "name": "stdout",
     "output_type": "stream",
     "text": [
      "/data/projects/PSB/DNABERT_data/Donor/chr21/subfolder1/dev.tsv\n"
     ]
    },
    {
     "name": "stderr",
     "output_type": "stream",
     "text": [
      "/tmp/ipykernel_2717319/3225387847.py:9: DtypeWarning: Columns (1) have mixed types. Specify dtype option on import or set low_memory=False.\n",
      "  df = pd.read_csv(file_name, sep='\\t')\n"
     ]
    },
    {
     "name": "stdout",
     "output_type": "stream",
     "text": [
      "/data/projects/PSB/DNABERT_data/Donor/chr21/subfolder3/dev.tsv\n"
     ]
    },
    {
     "name": "stderr",
     "output_type": "stream",
     "text": [
      "/tmp/ipykernel_2717319/3225387847.py:9: DtypeWarning: Columns (1) have mixed types. Specify dtype option on import or set low_memory=False.\n",
      "  df = pd.read_csv(file_name, sep='\\t')\n"
     ]
    },
    {
     "name": "stdout",
     "output_type": "stream",
     "text": [
      "/data/projects/PSB/DNABERT_data/Donor/chr21/subfolder2/dev.tsv\n"
     ]
    },
    {
     "name": "stderr",
     "output_type": "stream",
     "text": [
      "/tmp/ipykernel_2717319/3225387847.py:9: DtypeWarning: Columns (1) have mixed types. Specify dtype option on import or set low_memory=False.\n",
      "  df = pd.read_csv(file_name, sep='\\t')\n"
     ]
    },
    {
     "name": "stdout",
     "output_type": "stream",
     "text": [
      "/data/projects/PSB/DNABERT_data/Donor/chr22/subfolder6/dev.tsv\n"
     ]
    },
    {
     "name": "stderr",
     "output_type": "stream",
     "text": [
      "/tmp/ipykernel_2717319/3225387847.py:9: DtypeWarning: Columns (1) have mixed types. Specify dtype option on import or set low_memory=False.\n",
      "  df = pd.read_csv(file_name, sep='\\t')\n"
     ]
    },
    {
     "name": "stdout",
     "output_type": "stream",
     "text": [
      "/data/projects/PSB/DNABERT_data/Donor/chr22/subfolder5/dev.tsv\n"
     ]
    },
    {
     "name": "stderr",
     "output_type": "stream",
     "text": [
      "/tmp/ipykernel_2717319/3225387847.py:9: DtypeWarning: Columns (1) have mixed types. Specify dtype option on import or set low_memory=False.\n",
      "  df = pd.read_csv(file_name, sep='\\t')\n"
     ]
    },
    {
     "name": "stdout",
     "output_type": "stream",
     "text": [
      "/data/projects/PSB/DNABERT_data/Donor/chr22/subfolder4/dev.tsv\n"
     ]
    },
    {
     "name": "stderr",
     "output_type": "stream",
     "text": [
      "/tmp/ipykernel_2717319/3225387847.py:9: DtypeWarning: Columns (1) have mixed types. Specify dtype option on import or set low_memory=False.\n",
      "  df = pd.read_csv(file_name, sep='\\t')\n"
     ]
    },
    {
     "name": "stdout",
     "output_type": "stream",
     "text": [
      "/data/projects/PSB/DNABERT_data/Donor/chr22/subfolder1/dev.tsv\n"
     ]
    },
    {
     "name": "stderr",
     "output_type": "stream",
     "text": [
      "/tmp/ipykernel_2717319/3225387847.py:9: DtypeWarning: Columns (1) have mixed types. Specify dtype option on import or set low_memory=False.\n",
      "  df = pd.read_csv(file_name, sep='\\t')\n"
     ]
    },
    {
     "name": "stdout",
     "output_type": "stream",
     "text": [
      "/data/projects/PSB/DNABERT_data/Donor/chr22/subfolder3/dev.tsv\n"
     ]
    },
    {
     "name": "stderr",
     "output_type": "stream",
     "text": [
      "/tmp/ipykernel_2717319/3225387847.py:9: DtypeWarning: Columns (1) have mixed types. Specify dtype option on import or set low_memory=False.\n",
      "  df = pd.read_csv(file_name, sep='\\t')\n"
     ]
    },
    {
     "name": "stdout",
     "output_type": "stream",
     "text": [
      "/data/projects/PSB/DNABERT_data/Donor/chr22/subfolder2/dev.tsv\n"
     ]
    },
    {
     "name": "stderr",
     "output_type": "stream",
     "text": [
      "/tmp/ipykernel_2717319/3225387847.py:9: DtypeWarning: Columns (1) have mixed types. Specify dtype option on import or set low_memory=False.\n",
      "  df = pd.read_csv(file_name, sep='\\t')\n"
     ]
    },
    {
     "name": "stdout",
     "output_type": "stream",
     "text": [
      "/data/projects/PSB/DNABERT_data/Donor/chrX/subfolder6/dev.tsv\n"
     ]
    },
    {
     "name": "stderr",
     "output_type": "stream",
     "text": [
      "/tmp/ipykernel_2717319/3225387847.py:9: DtypeWarning: Columns (1) have mixed types. Specify dtype option on import or set low_memory=False.\n",
      "  df = pd.read_csv(file_name, sep='\\t')\n"
     ]
    },
    {
     "name": "stdout",
     "output_type": "stream",
     "text": [
      "/data/projects/PSB/DNABERT_data/Donor/chrX/subfolder5/dev.tsv\n"
     ]
    },
    {
     "name": "stderr",
     "output_type": "stream",
     "text": [
      "/tmp/ipykernel_2717319/3225387847.py:9: DtypeWarning: Columns (1) have mixed types. Specify dtype option on import or set low_memory=False.\n",
      "  df = pd.read_csv(file_name, sep='\\t')\n"
     ]
    },
    {
     "name": "stdout",
     "output_type": "stream",
     "text": [
      "/data/projects/PSB/DNABERT_data/Donor/chrX/subfolder4/dev.tsv\n"
     ]
    },
    {
     "name": "stderr",
     "output_type": "stream",
     "text": [
      "/tmp/ipykernel_2717319/3225387847.py:9: DtypeWarning: Columns (1) have mixed types. Specify dtype option on import or set low_memory=False.\n",
      "  df = pd.read_csv(file_name, sep='\\t')\n"
     ]
    },
    {
     "name": "stdout",
     "output_type": "stream",
     "text": [
      "/data/projects/PSB/DNABERT_data/Donor/chrX/subfolder1/dev.tsv\n"
     ]
    },
    {
     "name": "stderr",
     "output_type": "stream",
     "text": [
      "/tmp/ipykernel_2717319/3225387847.py:9: DtypeWarning: Columns (1) have mixed types. Specify dtype option on import or set low_memory=False.\n",
      "  df = pd.read_csv(file_name, sep='\\t')\n"
     ]
    },
    {
     "name": "stdout",
     "output_type": "stream",
     "text": [
      "/data/projects/PSB/DNABERT_data/Donor/chrX/subfolder3/dev.tsv\n"
     ]
    },
    {
     "name": "stderr",
     "output_type": "stream",
     "text": [
      "/tmp/ipykernel_2717319/3225387847.py:9: DtypeWarning: Columns (1) have mixed types. Specify dtype option on import or set low_memory=False.\n",
      "  df = pd.read_csv(file_name, sep='\\t')\n"
     ]
    },
    {
     "name": "stdout",
     "output_type": "stream",
     "text": [
      "/data/projects/PSB/DNABERT_data/Donor/chrX/subfolder2/dev.tsv\n"
     ]
    },
    {
     "name": "stderr",
     "output_type": "stream",
     "text": [
      "/tmp/ipykernel_2717319/3225387847.py:9: DtypeWarning: Columns (1) have mixed types. Specify dtype option on import or set low_memory=False.\n",
      "  df = pd.read_csv(file_name, sep='\\t')\n"
     ]
    },
    {
     "name": "stdout",
     "output_type": "stream",
     "text": [
      "/data/projects/PSB/DNABERT_data/Donor/chrY/subfolder1/dev.tsv\n"
     ]
    }
   ],
   "source": [
    "for chr_name in chromosomes:\n",
    "    dir_name = f\"/data/projects/PSB/DNABERT_data/Donor/chr{chr_name}\"\n",
    "    for subfolder in os.listdir(dir_name):\n",
    "        if not subfolder.startswith('.'):\n",
    "            if not os.path.isdir(os.path.join(dir_name, subfolder)):\n",
    "                continue  # Skip if not a directory\n",
    "            file_name = os.path.join(dir_name, subfolder, \"dev.tsv\")\n",
    "            print(file_name)\n",
    "            df = pd.read_csv(file_name, sep='\\t')\n",
    "            # Check and replace values in the 'Label' column\n",
    "            df = df[df['Label']!='Label']\n",
    "            df['Label'] = df['Label'].astype(int)  # Replace non-zero values with 1, and zero with 0\n",
    "            df['Sequence'] = df['Sequence'].str.upper()\n",
    "\n",
    "            # Write the DataFrame back to the TSV file\n",
    "            df.to_csv(file_name, sep='\\t', index=False)"
   ]
  },
  {
   "cell_type": "code",
   "execution_count": 12,
   "id": "a38651b8-0ed2-440d-a3b1-e9a59245a92c",
   "metadata": {},
   "outputs": [],
   "source": [
    "df_check = pd.read_csv(\"/data/private/pdutta/PSB_Data_2024/CorePromoter/Chrwise/intersected_DBSNP_transcript_chr1_data.tsv\", sep = \"\\t\", header=None)"
   ]
  },
  {
   "cell_type": "code",
   "execution_count": 13,
   "id": "0cf53771-7925-47a6-b163-af248b34093d",
   "metadata": {},
   "outputs": [
    {
     "data": {
      "text/html": [
       "<div>\n",
       "<style scoped>\n",
       "    .dataframe tbody tr th:only-of-type {\n",
       "        vertical-align: middle;\n",
       "    }\n",
       "\n",
       "    .dataframe tbody tr th {\n",
       "        vertical-align: top;\n",
       "    }\n",
       "\n",
       "    .dataframe thead th {\n",
       "        text-align: right;\n",
       "    }\n",
       "</style>\n",
       "<table border=\"1\" class=\"dataframe\">\n",
       "  <thead>\n",
       "    <tr style=\"text-align: right;\">\n",
       "      <th></th>\n",
       "      <th>0</th>\n",
       "      <th>1</th>\n",
       "      <th>2</th>\n",
       "      <th>3</th>\n",
       "      <th>4</th>\n",
       "      <th>5</th>\n",
       "      <th>6</th>\n",
       "      <th>7</th>\n",
       "      <th>8</th>\n",
       "      <th>9</th>\n",
       "      <th>10</th>\n",
       "      <th>11</th>\n",
       "      <th>12</th>\n",
       "      <th>13</th>\n",
       "      <th>14</th>\n",
       "      <th>15</th>\n",
       "      <th>16</th>\n",
       "    </tr>\n",
       "  </thead>\n",
       "  <tbody>\n",
       "    <tr>\n",
       "      <th>0</th>\n",
       "      <td>chr1</td>\n",
       "      <td>24413681</td>\n",
       "      <td>24413770</td>\n",
       "      <td>ENST00000003583.12</td>\n",
       "      <td>-</td>\n",
       "      <td>chr1</td>\n",
       "      <td>24391258</td>\n",
       "      <td>24416153</td>\n",
       "      <td>ENST00000498488</td>\n",
       "      <td>-1</td>\n",
       "      <td>chr1</td>\n",
       "      <td>24413681</td>\n",
       "      <td>24413682</td>\n",
       "      <td>rs1643864567</td>\n",
       "      <td>G</td>\n",
       "      <td>2</td>\n",
       "      <td>A,C,</td>\n",
       "    </tr>\n",
       "    <tr>\n",
       "      <th>1</th>\n",
       "      <td>chr1</td>\n",
       "      <td>24413681</td>\n",
       "      <td>24413770</td>\n",
       "      <td>ENST00000003583.12</td>\n",
       "      <td>-</td>\n",
       "      <td>chr1</td>\n",
       "      <td>24391258</td>\n",
       "      <td>24416153</td>\n",
       "      <td>ENST00000498488</td>\n",
       "      <td>-1</td>\n",
       "      <td>chr1</td>\n",
       "      <td>24413684</td>\n",
       "      <td>24413685</td>\n",
       "      <td>rs1643864776</td>\n",
       "      <td>C</td>\n",
       "      <td>1</td>\n",
       "      <td>A,</td>\n",
       "    </tr>\n",
       "    <tr>\n",
       "      <th>2</th>\n",
       "      <td>chr1</td>\n",
       "      <td>24413681</td>\n",
       "      <td>24413770</td>\n",
       "      <td>ENST00000003583.12</td>\n",
       "      <td>-</td>\n",
       "      <td>chr1</td>\n",
       "      <td>24391258</td>\n",
       "      <td>24416153</td>\n",
       "      <td>ENST00000498488</td>\n",
       "      <td>-1</td>\n",
       "      <td>chr1</td>\n",
       "      <td>24413685</td>\n",
       "      <td>24413686</td>\n",
       "      <td>rs927682595</td>\n",
       "      <td>C</td>\n",
       "      <td>2</td>\n",
       "      <td>G,T,</td>\n",
       "    </tr>\n",
       "    <tr>\n",
       "      <th>3</th>\n",
       "      <td>chr1</td>\n",
       "      <td>24413681</td>\n",
       "      <td>24413770</td>\n",
       "      <td>ENST00000003583.12</td>\n",
       "      <td>-</td>\n",
       "      <td>chr1</td>\n",
       "      <td>24391258</td>\n",
       "      <td>24416153</td>\n",
       "      <td>ENST00000498488</td>\n",
       "      <td>-1</td>\n",
       "      <td>chr1</td>\n",
       "      <td>24413686</td>\n",
       "      <td>24413687</td>\n",
       "      <td>rs370283825</td>\n",
       "      <td>G</td>\n",
       "      <td>1</td>\n",
       "      <td>A,</td>\n",
       "    </tr>\n",
       "    <tr>\n",
       "      <th>4</th>\n",
       "      <td>chr1</td>\n",
       "      <td>24413681</td>\n",
       "      <td>24413770</td>\n",
       "      <td>ENST00000003583.12</td>\n",
       "      <td>-</td>\n",
       "      <td>chr1</td>\n",
       "      <td>24391258</td>\n",
       "      <td>24416153</td>\n",
       "      <td>ENST00000498488</td>\n",
       "      <td>-1</td>\n",
       "      <td>chr1</td>\n",
       "      <td>24413688</td>\n",
       "      <td>24413689</td>\n",
       "      <td>rs1350837419</td>\n",
       "      <td>C</td>\n",
       "      <td>1</td>\n",
       "      <td>T,</td>\n",
       "    </tr>\n",
       "    <tr>\n",
       "      <th>...</th>\n",
       "      <td>...</td>\n",
       "      <td>...</td>\n",
       "      <td>...</td>\n",
       "      <td>...</td>\n",
       "      <td>...</td>\n",
       "      <td>...</td>\n",
       "      <td>...</td>\n",
       "      <td>...</td>\n",
       "      <td>...</td>\n",
       "      <td>...</td>\n",
       "      <td>...</td>\n",
       "      <td>...</td>\n",
       "      <td>...</td>\n",
       "      <td>...</td>\n",
       "      <td>...</td>\n",
       "      <td>...</td>\n",
       "      <td>...</td>\n",
       "    </tr>\n",
       "    <tr>\n",
       "      <th>6642191</th>\n",
       "      <td>chr1</td>\n",
       "      <td>236751154</td>\n",
       "      <td>236751243</td>\n",
       "      <td>ENST00000684763.1</td>\n",
       "      <td>+</td>\n",
       "      <td>chr1</td>\n",
       "      <td>236686682</td>\n",
       "      <td>236764595</td>\n",
       "      <td>ENST00000683111</td>\n",
       "      <td>1</td>\n",
       "      <td>chr1</td>\n",
       "      <td>236751218</td>\n",
       "      <td>236751219</td>\n",
       "      <td>rs1383272728</td>\n",
       "      <td>T</td>\n",
       "      <td>2</td>\n",
       "      <td>A,C,</td>\n",
       "    </tr>\n",
       "    <tr>\n",
       "      <th>6642192</th>\n",
       "      <td>chr1</td>\n",
       "      <td>236751154</td>\n",
       "      <td>236751243</td>\n",
       "      <td>ENST00000684763.1</td>\n",
       "      <td>+</td>\n",
       "      <td>chr1</td>\n",
       "      <td>236686682</td>\n",
       "      <td>236764595</td>\n",
       "      <td>ENST00000683111</td>\n",
       "      <td>1</td>\n",
       "      <td>chr1</td>\n",
       "      <td>236751221</td>\n",
       "      <td>236751227</td>\n",
       "      <td>rs141984611</td>\n",
       "      <td>TTTTTT</td>\n",
       "      <td>1</td>\n",
       "      <td>TTTTTTT,</td>\n",
       "    </tr>\n",
       "    <tr>\n",
       "      <th>6642193</th>\n",
       "      <td>chr1</td>\n",
       "      <td>236751154</td>\n",
       "      <td>236751243</td>\n",
       "      <td>ENST00000684763.1</td>\n",
       "      <td>+</td>\n",
       "      <td>chr1</td>\n",
       "      <td>236686682</td>\n",
       "      <td>236764595</td>\n",
       "      <td>ENST00000683111</td>\n",
       "      <td>1</td>\n",
       "      <td>chr1</td>\n",
       "      <td>236751227</td>\n",
       "      <td>236751228</td>\n",
       "      <td>rs1572143073</td>\n",
       "      <td>A</td>\n",
       "      <td>1</td>\n",
       "      <td>G,</td>\n",
       "    </tr>\n",
       "    <tr>\n",
       "      <th>6642194</th>\n",
       "      <td>chr1</td>\n",
       "      <td>236751154</td>\n",
       "      <td>236751243</td>\n",
       "      <td>ENST00000684763.1</td>\n",
       "      <td>+</td>\n",
       "      <td>chr1</td>\n",
       "      <td>236686682</td>\n",
       "      <td>236764595</td>\n",
       "      <td>ENST00000683111</td>\n",
       "      <td>1</td>\n",
       "      <td>chr1</td>\n",
       "      <td>236751232</td>\n",
       "      <td>236751233</td>\n",
       "      <td>rs921593052</td>\n",
       "      <td>A</td>\n",
       "      <td>1</td>\n",
       "      <td>T,</td>\n",
       "    </tr>\n",
       "    <tr>\n",
       "      <th>6642195</th>\n",
       "      <td>chr1</td>\n",
       "      <td>236751154</td>\n",
       "      <td>236751243</td>\n",
       "      <td>ENST00000684763.1</td>\n",
       "      <td>+</td>\n",
       "      <td>chr1</td>\n",
       "      <td>236686682</td>\n",
       "      <td>236764595</td>\n",
       "      <td>ENST00000683111</td>\n",
       "      <td>1</td>\n",
       "      <td>chr1</td>\n",
       "      <td>236751233</td>\n",
       "      <td>236751237</td>\n",
       "      <td>rs1405563630</td>\n",
       "      <td>CTCT</td>\n",
       "      <td>1</td>\n",
       "      <td>CT,</td>\n",
       "    </tr>\n",
       "  </tbody>\n",
       "</table>\n",
       "<p>6642196 rows × 17 columns</p>\n",
       "</div>"
      ],
      "text/plain": [
       "           0          1          2                   3  4     5          6   \\\n",
       "0        chr1   24413681   24413770  ENST00000003583.12  -  chr1   24391258   \n",
       "1        chr1   24413681   24413770  ENST00000003583.12  -  chr1   24391258   \n",
       "2        chr1   24413681   24413770  ENST00000003583.12  -  chr1   24391258   \n",
       "3        chr1   24413681   24413770  ENST00000003583.12  -  chr1   24391258   \n",
       "4        chr1   24413681   24413770  ENST00000003583.12  -  chr1   24391258   \n",
       "...       ...        ...        ...                 ... ..   ...        ...   \n",
       "6642191  chr1  236751154  236751243   ENST00000684763.1  +  chr1  236686682   \n",
       "6642192  chr1  236751154  236751243   ENST00000684763.1  +  chr1  236686682   \n",
       "6642193  chr1  236751154  236751243   ENST00000684763.1  +  chr1  236686682   \n",
       "6642194  chr1  236751154  236751243   ENST00000684763.1  +  chr1  236686682   \n",
       "6642195  chr1  236751154  236751243   ENST00000684763.1  +  chr1  236686682   \n",
       "\n",
       "                7                8   9     10         11         12  \\\n",
       "0         24416153  ENST00000498488  -1  chr1   24413681   24413682   \n",
       "1         24416153  ENST00000498488  -1  chr1   24413684   24413685   \n",
       "2         24416153  ENST00000498488  -1  chr1   24413685   24413686   \n",
       "3         24416153  ENST00000498488  -1  chr1   24413686   24413687   \n",
       "4         24416153  ENST00000498488  -1  chr1   24413688   24413689   \n",
       "...            ...              ...  ..   ...        ...        ...   \n",
       "6642191  236764595  ENST00000683111   1  chr1  236751218  236751219   \n",
       "6642192  236764595  ENST00000683111   1  chr1  236751221  236751227   \n",
       "6642193  236764595  ENST00000683111   1  chr1  236751227  236751228   \n",
       "6642194  236764595  ENST00000683111   1  chr1  236751232  236751233   \n",
       "6642195  236764595  ENST00000683111   1  chr1  236751233  236751237   \n",
       "\n",
       "                   13      14  15        16  \n",
       "0        rs1643864567       G   2      A,C,  \n",
       "1        rs1643864776       C   1        A,  \n",
       "2         rs927682595       C   2      G,T,  \n",
       "3         rs370283825       G   1        A,  \n",
       "4        rs1350837419       C   1        T,  \n",
       "...               ...     ...  ..       ...  \n",
       "6642191  rs1383272728       T   2      A,C,  \n",
       "6642192   rs141984611  TTTTTT   1  TTTTTTT,  \n",
       "6642193  rs1572143073       A   1        G,  \n",
       "6642194   rs921593052       A   1        T,  \n",
       "6642195  rs1405563630    CTCT   1       CT,  \n",
       "\n",
       "[6642196 rows x 17 columns]"
      ]
     },
     "execution_count": 13,
     "metadata": {},
     "output_type": "execute_result"
    }
   ],
   "source": [
    "df_check"
   ]
  },
  {
   "cell_type": "code",
   "execution_count": 36,
   "id": "f4fa08ff-461c-401c-bbfb-ae3bcd2e3d88",
   "metadata": {},
   "outputs": [],
   "source": [
    "df_test = pd.read_csv(\"/data/projects/PSB/DNABERT_data/CoreProm/chr1/all_data.tsv\", sep = \"\\t\")"
   ]
  },
  {
   "cell_type": "code",
   "execution_count": 37,
   "id": "4ce014df-103b-4336-8a24-9205dcca717b",
   "metadata": {},
   "outputs": [
    {
     "data": {
      "text/html": [
       "<div>\n",
       "<style scoped>\n",
       "    .dataframe tbody tr th:only-of-type {\n",
       "        vertical-align: middle;\n",
       "    }\n",
       "\n",
       "    .dataframe tbody tr th {\n",
       "        vertical-align: top;\n",
       "    }\n",
       "\n",
       "    .dataframe thead th {\n",
       "        text-align: right;\n",
       "    }\n",
       "</style>\n",
       "<table border=\"1\" class=\"dataframe\">\n",
       "  <thead>\n",
       "    <tr style=\"text-align: right;\">\n",
       "      <th></th>\n",
       "      <th>chr</th>\n",
       "      <th>strand</th>\n",
       "      <th>Donor_coordinates</th>\n",
       "      <th>Ensemble_Transcript_ID</th>\n",
       "      <th>Transcript_coordinates</th>\n",
       "      <th>dbsnp_id</th>\n",
       "      <th>varinat_start</th>\n",
       "      <th>variant_end</th>\n",
       "      <th>ref_neucleotide</th>\n",
       "      <th>alternative_neucleotide</th>\n",
       "      <th>reference_seq</th>\n",
       "      <th>alt_seq</th>\n",
       "    </tr>\n",
       "  </thead>\n",
       "  <tbody>\n",
       "    <tr>\n",
       "      <th>0</th>\n",
       "      <td>chr1</td>\n",
       "      <td>-</td>\n",
       "      <td>24413681-24413770</td>\n",
       "      <td>ENST00000498488</td>\n",
       "      <td>24391258-24416153</td>\n",
       "      <td>rs1643864567</td>\n",
       "      <td>24413681</td>\n",
       "      <td>24413682</td>\n",
       "      <td>G</td>\n",
       "      <td>A</td>\n",
       "      <td>GTCCCGGCAGCTGAATCTGGCCAGCCCAACCTCCCGGTCGCTATGG...</td>\n",
       "      <td>ATCCCGGCAGCTGAATCTGGCCAGCCCAACCTCCCGGTCGCTATGG...</td>\n",
       "    </tr>\n",
       "    <tr>\n",
       "      <th>1</th>\n",
       "      <td>chr1</td>\n",
       "      <td>-</td>\n",
       "      <td>24413681-24413770</td>\n",
       "      <td>ENST00000498488</td>\n",
       "      <td>24391258-24416153</td>\n",
       "      <td>rs1643864567</td>\n",
       "      <td>24413681</td>\n",
       "      <td>24413682</td>\n",
       "      <td>G</td>\n",
       "      <td>C</td>\n",
       "      <td>GTCCCGGCAGCTGAATCTGGCCAGCCCAACCTCCCGGTCGCTATGG...</td>\n",
       "      <td>CTCCCGGCAGCTGAATCTGGCCAGCCCAACCTCCCGGTCGCTATGG...</td>\n",
       "    </tr>\n",
       "    <tr>\n",
       "      <th>2</th>\n",
       "      <td>chr1</td>\n",
       "      <td>-</td>\n",
       "      <td>24413681-24413770</td>\n",
       "      <td>ENST00000498488</td>\n",
       "      <td>24391258-24416153</td>\n",
       "      <td>rs1643864776</td>\n",
       "      <td>24413684</td>\n",
       "      <td>24413685</td>\n",
       "      <td>C</td>\n",
       "      <td>A</td>\n",
       "      <td>GTCCCGGCAGCTGAATCTGGCCAGCCCAACCTCCCGGTCGCTATGG...</td>\n",
       "      <td>GTCACGGCAGCTGAATCTGGCCAGCCCAACCTCCCGGTCGCTATGG...</td>\n",
       "    </tr>\n",
       "    <tr>\n",
       "      <th>3</th>\n",
       "      <td>chr1</td>\n",
       "      <td>-</td>\n",
       "      <td>24413681-24413770</td>\n",
       "      <td>ENST00000498488</td>\n",
       "      <td>24391258-24416153</td>\n",
       "      <td>rs927682595</td>\n",
       "      <td>24413685</td>\n",
       "      <td>24413686</td>\n",
       "      <td>C</td>\n",
       "      <td>G</td>\n",
       "      <td>GTCCCGGCAGCTGAATCTGGCCAGCCCAACCTCCCGGTCGCTATGG...</td>\n",
       "      <td>GTCCGGGCAGCTGAATCTGGCCAGCCCAACCTCCCGGTCGCTATGG...</td>\n",
       "    </tr>\n",
       "    <tr>\n",
       "      <th>4</th>\n",
       "      <td>chr1</td>\n",
       "      <td>-</td>\n",
       "      <td>24413681-24413770</td>\n",
       "      <td>ENST00000498488</td>\n",
       "      <td>24391258-24416153</td>\n",
       "      <td>rs927682595</td>\n",
       "      <td>24413685</td>\n",
       "      <td>24413686</td>\n",
       "      <td>C</td>\n",
       "      <td>T</td>\n",
       "      <td>GTCCCGGCAGCTGAATCTGGCCAGCCCAACCTCCCGGTCGCTATGG...</td>\n",
       "      <td>GTCCTGGCAGCTGAATCTGGCCAGCCCAACCTCCCGGTCGCTATGG...</td>\n",
       "    </tr>\n",
       "    <tr>\n",
       "      <th>...</th>\n",
       "      <td>...</td>\n",
       "      <td>...</td>\n",
       "      <td>...</td>\n",
       "      <td>...</td>\n",
       "      <td>...</td>\n",
       "      <td>...</td>\n",
       "      <td>...</td>\n",
       "      <td>...</td>\n",
       "      <td>...</td>\n",
       "      <td>...</td>\n",
       "      <td>...</td>\n",
       "      <td>...</td>\n",
       "    </tr>\n",
       "    <tr>\n",
       "      <th>8577775</th>\n",
       "      <td>chr1</td>\n",
       "      <td>+</td>\n",
       "      <td>236751154-236751243</td>\n",
       "      <td>ENST00000683111</td>\n",
       "      <td>236686682-236764595</td>\n",
       "      <td>rs1383272728</td>\n",
       "      <td>236751218</td>\n",
       "      <td>236751219</td>\n",
       "      <td>T</td>\n",
       "      <td>C</td>\n",
       "      <td>ATAAGAAAGACCTAAACAATAGCTGGTGATCAAAATCAGTGAAAGG...</td>\n",
       "      <td>ATAAGAAAGACCTAAACAATAGCTGGTGATCAAAATCAGTGAAAGG...</td>\n",
       "    </tr>\n",
       "    <tr>\n",
       "      <th>8577776</th>\n",
       "      <td>chr1</td>\n",
       "      <td>+</td>\n",
       "      <td>236751154-236751243</td>\n",
       "      <td>ENST00000683111</td>\n",
       "      <td>236686682-236764595</td>\n",
       "      <td>rs141984611</td>\n",
       "      <td>236751221</td>\n",
       "      <td>236751227</td>\n",
       "      <td>TTTTTT</td>\n",
       "      <td>TTTTTTT</td>\n",
       "      <td>ATAAGAAAGACCTAAACAATAGCTGGTGATCAAAATCAGTGAAAGG...</td>\n",
       "      <td>ATAAGAAAGACCTAAACAATAGCTGGTGATCAAAATCAGTGAAAGG...</td>\n",
       "    </tr>\n",
       "    <tr>\n",
       "      <th>8577777</th>\n",
       "      <td>chr1</td>\n",
       "      <td>+</td>\n",
       "      <td>236751154-236751243</td>\n",
       "      <td>ENST00000683111</td>\n",
       "      <td>236686682-236764595</td>\n",
       "      <td>rs1572143073</td>\n",
       "      <td>236751227</td>\n",
       "      <td>236751228</td>\n",
       "      <td>A</td>\n",
       "      <td>G</td>\n",
       "      <td>ATAAGAAAGACCTAAACAATAGCTGGTGATCAAAATCAGTGAAAGG...</td>\n",
       "      <td>ATAAGAAAGACCTAAACAATAGCTGGTGATCAAAATCAGTGAAAGG...</td>\n",
       "    </tr>\n",
       "    <tr>\n",
       "      <th>8577778</th>\n",
       "      <td>chr1</td>\n",
       "      <td>+</td>\n",
       "      <td>236751154-236751243</td>\n",
       "      <td>ENST00000683111</td>\n",
       "      <td>236686682-236764595</td>\n",
       "      <td>rs921593052</td>\n",
       "      <td>236751232</td>\n",
       "      <td>236751233</td>\n",
       "      <td>A</td>\n",
       "      <td>T</td>\n",
       "      <td>ATAAGAAAGACCTAAACAATAGCTGGTGATCAAAATCAGTGAAAGG...</td>\n",
       "      <td>ATAAGAAAGACCTAAACAATAGCTGGTGATCAAAATCAGTGAAAGG...</td>\n",
       "    </tr>\n",
       "    <tr>\n",
       "      <th>8577779</th>\n",
       "      <td>chr1</td>\n",
       "      <td>+</td>\n",
       "      <td>236751154-236751243</td>\n",
       "      <td>ENST00000683111</td>\n",
       "      <td>236686682-236764595</td>\n",
       "      <td>rs1405563630</td>\n",
       "      <td>236751233</td>\n",
       "      <td>236751237</td>\n",
       "      <td>CTCT</td>\n",
       "      <td>CT</td>\n",
       "      <td>ATAAGAAAGACCTAAACAATAGCTGGTGATCAAAATCAGTGAAAGG...</td>\n",
       "      <td>ATAAGAAAGACCTAAACAATAGCTGGTGATCAAAATCAGTGAAAGG...</td>\n",
       "    </tr>\n",
       "  </tbody>\n",
       "</table>\n",
       "<p>8577780 rows × 12 columns</p>\n",
       "</div>"
      ],
      "text/plain": [
       "          chr strand    Donor_coordinates Ensemble_Transcript_ID  \\\n",
       "0        chr1      -    24413681-24413770        ENST00000498488   \n",
       "1        chr1      -    24413681-24413770        ENST00000498488   \n",
       "2        chr1      -    24413681-24413770        ENST00000498488   \n",
       "3        chr1      -    24413681-24413770        ENST00000498488   \n",
       "4        chr1      -    24413681-24413770        ENST00000498488   \n",
       "...       ...    ...                  ...                    ...   \n",
       "8577775  chr1      +  236751154-236751243        ENST00000683111   \n",
       "8577776  chr1      +  236751154-236751243        ENST00000683111   \n",
       "8577777  chr1      +  236751154-236751243        ENST00000683111   \n",
       "8577778  chr1      +  236751154-236751243        ENST00000683111   \n",
       "8577779  chr1      +  236751154-236751243        ENST00000683111   \n",
       "\n",
       "        Transcript_coordinates      dbsnp_id  varinat_start  variant_end  \\\n",
       "0            24391258-24416153  rs1643864567       24413681     24413682   \n",
       "1            24391258-24416153  rs1643864567       24413681     24413682   \n",
       "2            24391258-24416153  rs1643864776       24413684     24413685   \n",
       "3            24391258-24416153   rs927682595       24413685     24413686   \n",
       "4            24391258-24416153   rs927682595       24413685     24413686   \n",
       "...                        ...           ...            ...          ...   \n",
       "8577775    236686682-236764595  rs1383272728      236751218    236751219   \n",
       "8577776    236686682-236764595   rs141984611      236751221    236751227   \n",
       "8577777    236686682-236764595  rs1572143073      236751227    236751228   \n",
       "8577778    236686682-236764595   rs921593052      236751232    236751233   \n",
       "8577779    236686682-236764595  rs1405563630      236751233    236751237   \n",
       "\n",
       "        ref_neucleotide alternative_neucleotide  \\\n",
       "0                     G                       A   \n",
       "1                     G                       C   \n",
       "2                     C                       A   \n",
       "3                     C                       G   \n",
       "4                     C                       T   \n",
       "...                 ...                     ...   \n",
       "8577775               T                       C   \n",
       "8577776          TTTTTT                 TTTTTTT   \n",
       "8577777               A                       G   \n",
       "8577778               A                       T   \n",
       "8577779            CTCT                      CT   \n",
       "\n",
       "                                             reference_seq  \\\n",
       "0        GTCCCGGCAGCTGAATCTGGCCAGCCCAACCTCCCGGTCGCTATGG...   \n",
       "1        GTCCCGGCAGCTGAATCTGGCCAGCCCAACCTCCCGGTCGCTATGG...   \n",
       "2        GTCCCGGCAGCTGAATCTGGCCAGCCCAACCTCCCGGTCGCTATGG...   \n",
       "3        GTCCCGGCAGCTGAATCTGGCCAGCCCAACCTCCCGGTCGCTATGG...   \n",
       "4        GTCCCGGCAGCTGAATCTGGCCAGCCCAACCTCCCGGTCGCTATGG...   \n",
       "...                                                    ...   \n",
       "8577775  ATAAGAAAGACCTAAACAATAGCTGGTGATCAAAATCAGTGAAAGG...   \n",
       "8577776  ATAAGAAAGACCTAAACAATAGCTGGTGATCAAAATCAGTGAAAGG...   \n",
       "8577777  ATAAGAAAGACCTAAACAATAGCTGGTGATCAAAATCAGTGAAAGG...   \n",
       "8577778  ATAAGAAAGACCTAAACAATAGCTGGTGATCAAAATCAGTGAAAGG...   \n",
       "8577779  ATAAGAAAGACCTAAACAATAGCTGGTGATCAAAATCAGTGAAAGG...   \n",
       "\n",
       "                                                   alt_seq  \n",
       "0        ATCCCGGCAGCTGAATCTGGCCAGCCCAACCTCCCGGTCGCTATGG...  \n",
       "1        CTCCCGGCAGCTGAATCTGGCCAGCCCAACCTCCCGGTCGCTATGG...  \n",
       "2        GTCACGGCAGCTGAATCTGGCCAGCCCAACCTCCCGGTCGCTATGG...  \n",
       "3        GTCCGGGCAGCTGAATCTGGCCAGCCCAACCTCCCGGTCGCTATGG...  \n",
       "4        GTCCTGGCAGCTGAATCTGGCCAGCCCAACCTCCCGGTCGCTATGG...  \n",
       "...                                                    ...  \n",
       "8577775  ATAAGAAAGACCTAAACAATAGCTGGTGATCAAAATCAGTGAAAGG...  \n",
       "8577776  ATAAGAAAGACCTAAACAATAGCTGGTGATCAAAATCAGTGAAAGG...  \n",
       "8577777  ATAAGAAAGACCTAAACAATAGCTGGTGATCAAAATCAGTGAAAGG...  \n",
       "8577778  ATAAGAAAGACCTAAACAATAGCTGGTGATCAAAATCAGTGAAAGG...  \n",
       "8577779  ATAAGAAAGACCTAAACAATAGCTGGTGATCAAAATCAGTGAAAGG...  \n",
       "\n",
       "[8577780 rows x 12 columns]"
      ]
     },
     "execution_count": 37,
     "metadata": {},
     "output_type": "execute_result"
    }
   ],
   "source": [
    "df_test"
   ]
  },
  {
   "cell_type": "code",
   "execution_count": 44,
   "id": "1b238c82-31f1-47cf-90ee-284373369d03",
   "metadata": {},
   "outputs": [
    {
     "data": {
      "text/html": [
       "<div>\n",
       "<style scoped>\n",
       "    .dataframe tbody tr th:only-of-type {\n",
       "        vertical-align: middle;\n",
       "    }\n",
       "\n",
       "    .dataframe tbody tr th {\n",
       "        vertical-align: top;\n",
       "    }\n",
       "\n",
       "    .dataframe thead th {\n",
       "        text-align: right;\n",
       "    }\n",
       "</style>\n",
       "<table border=\"1\" class=\"dataframe\">\n",
       "  <thead>\n",
       "    <tr style=\"text-align: right;\">\n",
       "      <th></th>\n",
       "      <th>index</th>\n",
       "      <th>chr</th>\n",
       "      <th>strand</th>\n",
       "      <th>Donor_coordinates</th>\n",
       "      <th>Transcript_coordinates</th>\n",
       "      <th>dbsnp_id</th>\n",
       "      <th>varinat_start</th>\n",
       "      <th>variant_end</th>\n",
       "      <th>ref_neucleotide</th>\n",
       "      <th>alternative_neucleotide</th>\n",
       "      <th>reference_seq</th>\n",
       "      <th>alt_seq</th>\n",
       "      <th>Ensemble_Transcript_ID</th>\n",
       "    </tr>\n",
       "  </thead>\n",
       "  <tbody>\n",
       "    <tr>\n",
       "      <th>0</th>\n",
       "      <td>0</td>\n",
       "      <td>chr1</td>\n",
       "      <td>+</td>\n",
       "      <td>100038050-100038139</td>\n",
       "      <td>100038095-100083377</td>\n",
       "      <td>rs1002682948</td>\n",
       "      <td>100038068</td>\n",
       "      <td>100038069</td>\n",
       "      <td>T</td>\n",
       "      <td>C</td>\n",
       "      <td>CGGGGCCCGCTCGTCGGCTGATCGCACGATTGTGACGCGCCGCCGG...</td>\n",
       "      <td>CGGGGCCCGCTCGTCGGCCGATCGCACGATTGTGACGCGCCGCCGG...</td>\n",
       "      <td>ENST00000370152</td>\n",
       "    </tr>\n",
       "    <tr>\n",
       "      <th>1</th>\n",
       "      <td>1</td>\n",
       "      <td>chr1</td>\n",
       "      <td>+</td>\n",
       "      <td>100038050-100038139</td>\n",
       "      <td>100038095-100083377</td>\n",
       "      <td>rs1037746960</td>\n",
       "      <td>100038114</td>\n",
       "      <td>100038115</td>\n",
       "      <td>A</td>\n",
       "      <td>T</td>\n",
       "      <td>CGGGGCCCGCTCGTCGGCTGATCGCACGATTGTGACGCGCCGCCGG...</td>\n",
       "      <td>CGGGGCCCGCTCGTCGGCTGATCGCACGATTGTGACGCGCCGCCGG...</td>\n",
       "      <td>ENST00000370152</td>\n",
       "    </tr>\n",
       "    <tr>\n",
       "      <th>2</th>\n",
       "      <td>2</td>\n",
       "      <td>chr1</td>\n",
       "      <td>+</td>\n",
       "      <td>100038050-100038139</td>\n",
       "      <td>100038095-100083377</td>\n",
       "      <td>rs1044300053</td>\n",
       "      <td>100038052</td>\n",
       "      <td>100038053</td>\n",
       "      <td>G</td>\n",
       "      <td>A</td>\n",
       "      <td>CGGGGCCCGCTCGTCGGCTGATCGCACGATTGTGACGCGCCGCCGG...</td>\n",
       "      <td>CGAGGCCCGCTCGTCGGCTGATCGCACGATTGTGACGCGCCGCCGG...</td>\n",
       "      <td>ENST00000370152</td>\n",
       "    </tr>\n",
       "    <tr>\n",
       "      <th>3</th>\n",
       "      <td>3</td>\n",
       "      <td>chr1</td>\n",
       "      <td>+</td>\n",
       "      <td>100038050-100038139</td>\n",
       "      <td>100038095-100083377</td>\n",
       "      <td>rs1057463496</td>\n",
       "      <td>100038104</td>\n",
       "      <td>100038105</td>\n",
       "      <td>C</td>\n",
       "      <td>A</td>\n",
       "      <td>CGGGGCCCGCTCGTCGGCTGATCGCACGATTGTGACGCGCCGCCGG...</td>\n",
       "      <td>CGGGGCCCGCTCGTCGGCTGATCGCACGATTGTGACGCGCCGCCGG...</td>\n",
       "      <td>ENST00000370152</td>\n",
       "    </tr>\n",
       "    <tr>\n",
       "      <th>4</th>\n",
       "      <td>4</td>\n",
       "      <td>chr1</td>\n",
       "      <td>+</td>\n",
       "      <td>100038050-100038139</td>\n",
       "      <td>100038095-100083377</td>\n",
       "      <td>rs1164317972</td>\n",
       "      <td>100038131</td>\n",
       "      <td>100038152</td>\n",
       "      <td>CAGAGCGGCTCGGCCCGGCAG</td>\n",
       "      <td>CAG</td>\n",
       "      <td>CGGGGCCCGCTCGTCGGCTGATCGCACGATTGTGACGCGCCGCCGG...</td>\n",
       "      <td>CGGGGCCCGCTCGTCGGCTGATCGCACGATTGTGACGCGCCGCCGG...</td>\n",
       "      <td>ENST00000370152</td>\n",
       "    </tr>\n",
       "    <tr>\n",
       "      <th>...</th>\n",
       "      <td>...</td>\n",
       "      <td>...</td>\n",
       "      <td>...</td>\n",
       "      <td>...</td>\n",
       "      <td>...</td>\n",
       "      <td>...</td>\n",
       "      <td>...</td>\n",
       "      <td>...</td>\n",
       "      <td>...</td>\n",
       "      <td>...</td>\n",
       "      <td>...</td>\n",
       "      <td>...</td>\n",
       "      <td>...</td>\n",
       "    </tr>\n",
       "    <tr>\n",
       "      <th>6128056</th>\n",
       "      <td>6128056</td>\n",
       "      <td>chr1</td>\n",
       "      <td>-</td>\n",
       "      <td>999937-1000026</td>\n",
       "      <td>998970-999981</td>\n",
       "      <td>rs973472463</td>\n",
       "      <td>999952</td>\n",
       "      <td>999953</td>\n",
       "      <td>C</td>\n",
       "      <td>A</td>\n",
       "      <td>CGAGGCGCTCGGTTTCCCCGGCGTGTCTGCGGCCATGGTGCGCCCC...</td>\n",
       "      <td>CGAGGCGCTCGGTTTACCCGGCGTGTCTGCGGCCATGGTGCGCCCC...</td>\n",
       "      <td>ENST00000484667</td>\n",
       "    </tr>\n",
       "    <tr>\n",
       "      <th>6128057</th>\n",
       "      <td>6128057</td>\n",
       "      <td>chr1</td>\n",
       "      <td>-</td>\n",
       "      <td>999937-1000026</td>\n",
       "      <td>998970-999981</td>\n",
       "      <td>rs973472463</td>\n",
       "      <td>999952</td>\n",
       "      <td>999953</td>\n",
       "      <td>C</td>\n",
       "      <td>G</td>\n",
       "      <td>CGAGGCGCTCGGTTTCCCCGGCGTGTCTGCGGCCATGGTGCGCCCC...</td>\n",
       "      <td>CGAGGCGCTCGGTTTGCCCGGCGTGTCTGCGGCCATGGTGCGCCCC...</td>\n",
       "      <td>ENST00000484667</td>\n",
       "    </tr>\n",
       "    <tr>\n",
       "      <th>6128058</th>\n",
       "      <td>6128058</td>\n",
       "      <td>chr1</td>\n",
       "      <td>-</td>\n",
       "      <td>999937-1000026</td>\n",
       "      <td>998970-999981</td>\n",
       "      <td>rs975336980</td>\n",
       "      <td>999995</td>\n",
       "      <td>999996</td>\n",
       "      <td>G</td>\n",
       "      <td>A</td>\n",
       "      <td>CGAGGCGCTCGGTTTCCCCGGCGTGTCTGCGGCCATGGTGCGCCCC...</td>\n",
       "      <td>CGAGGCGCTCGGTTTCCCCGGCGTGTCTGCGGCCATGGTGCGCCCC...</td>\n",
       "      <td>ENST00000484667</td>\n",
       "    </tr>\n",
       "    <tr>\n",
       "      <th>6128059</th>\n",
       "      <td>6128059</td>\n",
       "      <td>chr1</td>\n",
       "      <td>-</td>\n",
       "      <td>999937-1000026</td>\n",
       "      <td>998970-999981</td>\n",
       "      <td>rs975336980</td>\n",
       "      <td>999995</td>\n",
       "      <td>999996</td>\n",
       "      <td>G</td>\n",
       "      <td>C</td>\n",
       "      <td>CGAGGCGCTCGGTTTCCCCGGCGTGTCTGCGGCCATGGTGCGCCCC...</td>\n",
       "      <td>CGAGGCGCTCGGTTTCCCCGGCGTGTCTGCGGCCATGGTGCGCCCC...</td>\n",
       "      <td>ENST00000484667</td>\n",
       "    </tr>\n",
       "    <tr>\n",
       "      <th>6128060</th>\n",
       "      <td>6128060</td>\n",
       "      <td>chr1</td>\n",
       "      <td>-</td>\n",
       "      <td>999937-1000026</td>\n",
       "      <td>998970-999981</td>\n",
       "      <td>rs986147271</td>\n",
       "      <td>999987</td>\n",
       "      <td>999988</td>\n",
       "      <td>C</td>\n",
       "      <td>G</td>\n",
       "      <td>CGAGGCGCTCGGTTTCCCCGGCGTGTCTGCGGCCATGGTGCGCCCC...</td>\n",
       "      <td>CGAGGCGCTCGGTTTCCCCGGCGTGTCTGCGGCCATGGTGCGCCCC...</td>\n",
       "      <td>ENST00000484667</td>\n",
       "    </tr>\n",
       "  </tbody>\n",
       "</table>\n",
       "<p>6128061 rows × 13 columns</p>\n",
       "</div>"
      ],
      "text/plain": [
       "           index   chr strand    Donor_coordinates Transcript_coordinates  \\\n",
       "0              0  chr1      +  100038050-100038139    100038095-100083377   \n",
       "1              1  chr1      +  100038050-100038139    100038095-100083377   \n",
       "2              2  chr1      +  100038050-100038139    100038095-100083377   \n",
       "3              3  chr1      +  100038050-100038139    100038095-100083377   \n",
       "4              4  chr1      +  100038050-100038139    100038095-100083377   \n",
       "...          ...   ...    ...                  ...                    ...   \n",
       "6128056  6128056  chr1      -       999937-1000026          998970-999981   \n",
       "6128057  6128057  chr1      -       999937-1000026          998970-999981   \n",
       "6128058  6128058  chr1      -       999937-1000026          998970-999981   \n",
       "6128059  6128059  chr1      -       999937-1000026          998970-999981   \n",
       "6128060  6128060  chr1      -       999937-1000026          998970-999981   \n",
       "\n",
       "             dbsnp_id  varinat_start  variant_end        ref_neucleotide  \\\n",
       "0        rs1002682948      100038068    100038069                      T   \n",
       "1        rs1037746960      100038114    100038115                      A   \n",
       "2        rs1044300053      100038052    100038053                      G   \n",
       "3        rs1057463496      100038104    100038105                      C   \n",
       "4        rs1164317972      100038131    100038152  CAGAGCGGCTCGGCCCGGCAG   \n",
       "...               ...            ...          ...                    ...   \n",
       "6128056   rs973472463         999952       999953                      C   \n",
       "6128057   rs973472463         999952       999953                      C   \n",
       "6128058   rs975336980         999995       999996                      G   \n",
       "6128059   rs975336980         999995       999996                      G   \n",
       "6128060   rs986147271         999987       999988                      C   \n",
       "\n",
       "        alternative_neucleotide  \\\n",
       "0                             C   \n",
       "1                             T   \n",
       "2                             A   \n",
       "3                             A   \n",
       "4                           CAG   \n",
       "...                         ...   \n",
       "6128056                       A   \n",
       "6128057                       G   \n",
       "6128058                       A   \n",
       "6128059                       C   \n",
       "6128060                       G   \n",
       "\n",
       "                                             reference_seq  \\\n",
       "0        CGGGGCCCGCTCGTCGGCTGATCGCACGATTGTGACGCGCCGCCGG...   \n",
       "1        CGGGGCCCGCTCGTCGGCTGATCGCACGATTGTGACGCGCCGCCGG...   \n",
       "2        CGGGGCCCGCTCGTCGGCTGATCGCACGATTGTGACGCGCCGCCGG...   \n",
       "3        CGGGGCCCGCTCGTCGGCTGATCGCACGATTGTGACGCGCCGCCGG...   \n",
       "4        CGGGGCCCGCTCGTCGGCTGATCGCACGATTGTGACGCGCCGCCGG...   \n",
       "...                                                    ...   \n",
       "6128056  CGAGGCGCTCGGTTTCCCCGGCGTGTCTGCGGCCATGGTGCGCCCC...   \n",
       "6128057  CGAGGCGCTCGGTTTCCCCGGCGTGTCTGCGGCCATGGTGCGCCCC...   \n",
       "6128058  CGAGGCGCTCGGTTTCCCCGGCGTGTCTGCGGCCATGGTGCGCCCC...   \n",
       "6128059  CGAGGCGCTCGGTTTCCCCGGCGTGTCTGCGGCCATGGTGCGCCCC...   \n",
       "6128060  CGAGGCGCTCGGTTTCCCCGGCGTGTCTGCGGCCATGGTGCGCCCC...   \n",
       "\n",
       "                                                   alt_seq  \\\n",
       "0        CGGGGCCCGCTCGTCGGCCGATCGCACGATTGTGACGCGCCGCCGG...   \n",
       "1        CGGGGCCCGCTCGTCGGCTGATCGCACGATTGTGACGCGCCGCCGG...   \n",
       "2        CGAGGCCCGCTCGTCGGCTGATCGCACGATTGTGACGCGCCGCCGG...   \n",
       "3        CGGGGCCCGCTCGTCGGCTGATCGCACGATTGTGACGCGCCGCCGG...   \n",
       "4        CGGGGCCCGCTCGTCGGCTGATCGCACGATTGTGACGCGCCGCCGG...   \n",
       "...                                                    ...   \n",
       "6128056  CGAGGCGCTCGGTTTACCCGGCGTGTCTGCGGCCATGGTGCGCCCC...   \n",
       "6128057  CGAGGCGCTCGGTTTGCCCGGCGTGTCTGCGGCCATGGTGCGCCCC...   \n",
       "6128058  CGAGGCGCTCGGTTTCCCCGGCGTGTCTGCGGCCATGGTGCGCCCC...   \n",
       "6128059  CGAGGCGCTCGGTTTCCCCGGCGTGTCTGCGGCCATGGTGCGCCCC...   \n",
       "6128060  CGAGGCGCTCGGTTTCCCCGGCGTGTCTGCGGCCATGGTGCGCCCC...   \n",
       "\n",
       "        Ensemble_Transcript_ID  \n",
       "0              ENST00000370152  \n",
       "1              ENST00000370152  \n",
       "2              ENST00000370152  \n",
       "3              ENST00000370152  \n",
       "4              ENST00000370152  \n",
       "...                        ...  \n",
       "6128056        ENST00000484667  \n",
       "6128057        ENST00000484667  \n",
       "6128058        ENST00000484667  \n",
       "6128059        ENST00000484667  \n",
       "6128060        ENST00000484667  \n",
       "\n",
       "[6128061 rows x 13 columns]"
      ]
     },
     "execution_count": 44,
     "metadata": {},
     "output_type": "execute_result"
    }
   ],
   "source": [
    "df_test  = df_test.drop_duplicates().reset_index()\n",
    "df_test"
   ]
  },
  {
   "cell_type": "code",
   "execution_count": 39,
   "id": "b04d7bd4-09ed-40c5-aa81-0b1eafd46d2e",
   "metadata": {},
   "outputs": [],
   "source": [
    "groupby_columns = [col for col in df_test.columns if col != 'Ensemble_Transcript_ID']"
   ]
  },
  {
   "cell_type": "code",
   "execution_count": 40,
   "id": "a3634a55-6f9b-41e8-baa7-a91b467a27ac",
   "metadata": {},
   "outputs": [],
   "source": [
    "df_test = df_test.groupby(groupby_columns)['Ensemble_Transcript_ID'].apply(','.join).reset_index()"
   ]
  },
  {
   "cell_type": "code",
   "execution_count": 41,
   "id": "2ebe01fc-5b8e-4c67-a56a-4de016d00128",
   "metadata": {},
   "outputs": [
    {
     "data": {
      "text/html": [
       "<div>\n",
       "<style scoped>\n",
       "    .dataframe tbody tr th:only-of-type {\n",
       "        vertical-align: middle;\n",
       "    }\n",
       "\n",
       "    .dataframe tbody tr th {\n",
       "        vertical-align: top;\n",
       "    }\n",
       "\n",
       "    .dataframe thead th {\n",
       "        text-align: right;\n",
       "    }\n",
       "</style>\n",
       "<table border=\"1\" class=\"dataframe\">\n",
       "  <thead>\n",
       "    <tr style=\"text-align: right;\">\n",
       "      <th></th>\n",
       "      <th>chr</th>\n",
       "      <th>strand</th>\n",
       "      <th>Donor_coordinates</th>\n",
       "      <th>Transcript_coordinates</th>\n",
       "      <th>dbsnp_id</th>\n",
       "      <th>varinat_start</th>\n",
       "      <th>variant_end</th>\n",
       "      <th>ref_neucleotide</th>\n",
       "      <th>alternative_neucleotide</th>\n",
       "      <th>reference_seq</th>\n",
       "      <th>alt_seq</th>\n",
       "      <th>Ensemble_Transcript_ID</th>\n",
       "    </tr>\n",
       "  </thead>\n",
       "  <tbody>\n",
       "    <tr>\n",
       "      <th>0</th>\n",
       "      <td>chr1</td>\n",
       "      <td>+</td>\n",
       "      <td>100038050-100038139</td>\n",
       "      <td>100038095-100083377</td>\n",
       "      <td>rs1002682948</td>\n",
       "      <td>100038068</td>\n",
       "      <td>100038069</td>\n",
       "      <td>T</td>\n",
       "      <td>C</td>\n",
       "      <td>CGGGGCCCGCTCGTCGGCTGATCGCACGATTGTGACGCGCCGCCGG...</td>\n",
       "      <td>CGGGGCCCGCTCGTCGGCCGATCGCACGATTGTGACGCGCCGCCGG...</td>\n",
       "      <td>ENST00000370152</td>\n",
       "    </tr>\n",
       "    <tr>\n",
       "      <th>1</th>\n",
       "      <td>chr1</td>\n",
       "      <td>+</td>\n",
       "      <td>100038050-100038139</td>\n",
       "      <td>100038095-100083377</td>\n",
       "      <td>rs1037746960</td>\n",
       "      <td>100038114</td>\n",
       "      <td>100038115</td>\n",
       "      <td>A</td>\n",
       "      <td>T</td>\n",
       "      <td>CGGGGCCCGCTCGTCGGCTGATCGCACGATTGTGACGCGCCGCCGG...</td>\n",
       "      <td>CGGGGCCCGCTCGTCGGCTGATCGCACGATTGTGACGCGCCGCCGG...</td>\n",
       "      <td>ENST00000370152</td>\n",
       "    </tr>\n",
       "    <tr>\n",
       "      <th>2</th>\n",
       "      <td>chr1</td>\n",
       "      <td>+</td>\n",
       "      <td>100038050-100038139</td>\n",
       "      <td>100038095-100083377</td>\n",
       "      <td>rs1044300053</td>\n",
       "      <td>100038052</td>\n",
       "      <td>100038053</td>\n",
       "      <td>G</td>\n",
       "      <td>A</td>\n",
       "      <td>CGGGGCCCGCTCGTCGGCTGATCGCACGATTGTGACGCGCCGCCGG...</td>\n",
       "      <td>CGAGGCCCGCTCGTCGGCTGATCGCACGATTGTGACGCGCCGCCGG...</td>\n",
       "      <td>ENST00000370152</td>\n",
       "    </tr>\n",
       "    <tr>\n",
       "      <th>3</th>\n",
       "      <td>chr1</td>\n",
       "      <td>+</td>\n",
       "      <td>100038050-100038139</td>\n",
       "      <td>100038095-100083377</td>\n",
       "      <td>rs1057463496</td>\n",
       "      <td>100038104</td>\n",
       "      <td>100038105</td>\n",
       "      <td>C</td>\n",
       "      <td>A</td>\n",
       "      <td>CGGGGCCCGCTCGTCGGCTGATCGCACGATTGTGACGCGCCGCCGG...</td>\n",
       "      <td>CGGGGCCCGCTCGTCGGCTGATCGCACGATTGTGACGCGCCGCCGG...</td>\n",
       "      <td>ENST00000370152</td>\n",
       "    </tr>\n",
       "    <tr>\n",
       "      <th>4</th>\n",
       "      <td>chr1</td>\n",
       "      <td>+</td>\n",
       "      <td>100038050-100038139</td>\n",
       "      <td>100038095-100083377</td>\n",
       "      <td>rs1164317972</td>\n",
       "      <td>100038131</td>\n",
       "      <td>100038152</td>\n",
       "      <td>CAGAGCGGCTCGGCCCGGCAG</td>\n",
       "      <td>CAG</td>\n",
       "      <td>CGGGGCCCGCTCGTCGGCTGATCGCACGATTGTGACGCGCCGCCGG...</td>\n",
       "      <td>CGGGGCCCGCTCGTCGGCTGATCGCACGATTGTGACGCGCCGCCGG...</td>\n",
       "      <td>ENST00000370152</td>\n",
       "    </tr>\n",
       "    <tr>\n",
       "      <th>...</th>\n",
       "      <td>...</td>\n",
       "      <td>...</td>\n",
       "      <td>...</td>\n",
       "      <td>...</td>\n",
       "      <td>...</td>\n",
       "      <td>...</td>\n",
       "      <td>...</td>\n",
       "      <td>...</td>\n",
       "      <td>...</td>\n",
       "      <td>...</td>\n",
       "      <td>...</td>\n",
       "      <td>...</td>\n",
       "    </tr>\n",
       "    <tr>\n",
       "      <th>6128056</th>\n",
       "      <td>chr1</td>\n",
       "      <td>-</td>\n",
       "      <td>999937-1000026</td>\n",
       "      <td>998970-999981</td>\n",
       "      <td>rs973472463</td>\n",
       "      <td>999952</td>\n",
       "      <td>999953</td>\n",
       "      <td>C</td>\n",
       "      <td>A</td>\n",
       "      <td>CGAGGCGCTCGGTTTCCCCGGCGTGTCTGCGGCCATGGTGCGCCCC...</td>\n",
       "      <td>CGAGGCGCTCGGTTTACCCGGCGTGTCTGCGGCCATGGTGCGCCCC...</td>\n",
       "      <td>ENST00000484667</td>\n",
       "    </tr>\n",
       "    <tr>\n",
       "      <th>6128057</th>\n",
       "      <td>chr1</td>\n",
       "      <td>-</td>\n",
       "      <td>999937-1000026</td>\n",
       "      <td>998970-999981</td>\n",
       "      <td>rs973472463</td>\n",
       "      <td>999952</td>\n",
       "      <td>999953</td>\n",
       "      <td>C</td>\n",
       "      <td>G</td>\n",
       "      <td>CGAGGCGCTCGGTTTCCCCGGCGTGTCTGCGGCCATGGTGCGCCCC...</td>\n",
       "      <td>CGAGGCGCTCGGTTTGCCCGGCGTGTCTGCGGCCATGGTGCGCCCC...</td>\n",
       "      <td>ENST00000484667</td>\n",
       "    </tr>\n",
       "    <tr>\n",
       "      <th>6128058</th>\n",
       "      <td>chr1</td>\n",
       "      <td>-</td>\n",
       "      <td>999937-1000026</td>\n",
       "      <td>998970-999981</td>\n",
       "      <td>rs975336980</td>\n",
       "      <td>999995</td>\n",
       "      <td>999996</td>\n",
       "      <td>G</td>\n",
       "      <td>A</td>\n",
       "      <td>CGAGGCGCTCGGTTTCCCCGGCGTGTCTGCGGCCATGGTGCGCCCC...</td>\n",
       "      <td>CGAGGCGCTCGGTTTCCCCGGCGTGTCTGCGGCCATGGTGCGCCCC...</td>\n",
       "      <td>ENST00000484667</td>\n",
       "    </tr>\n",
       "    <tr>\n",
       "      <th>6128059</th>\n",
       "      <td>chr1</td>\n",
       "      <td>-</td>\n",
       "      <td>999937-1000026</td>\n",
       "      <td>998970-999981</td>\n",
       "      <td>rs975336980</td>\n",
       "      <td>999995</td>\n",
       "      <td>999996</td>\n",
       "      <td>G</td>\n",
       "      <td>C</td>\n",
       "      <td>CGAGGCGCTCGGTTTCCCCGGCGTGTCTGCGGCCATGGTGCGCCCC...</td>\n",
       "      <td>CGAGGCGCTCGGTTTCCCCGGCGTGTCTGCGGCCATGGTGCGCCCC...</td>\n",
       "      <td>ENST00000484667</td>\n",
       "    </tr>\n",
       "    <tr>\n",
       "      <th>6128060</th>\n",
       "      <td>chr1</td>\n",
       "      <td>-</td>\n",
       "      <td>999937-1000026</td>\n",
       "      <td>998970-999981</td>\n",
       "      <td>rs986147271</td>\n",
       "      <td>999987</td>\n",
       "      <td>999988</td>\n",
       "      <td>C</td>\n",
       "      <td>G</td>\n",
       "      <td>CGAGGCGCTCGGTTTCCCCGGCGTGTCTGCGGCCATGGTGCGCCCC...</td>\n",
       "      <td>CGAGGCGCTCGGTTTCCCCGGCGTGTCTGCGGCCATGGTGCGCCCC...</td>\n",
       "      <td>ENST00000484667</td>\n",
       "    </tr>\n",
       "  </tbody>\n",
       "</table>\n",
       "<p>6128061 rows × 12 columns</p>\n",
       "</div>"
      ],
      "text/plain": [
       "          chr strand    Donor_coordinates Transcript_coordinates  \\\n",
       "0        chr1      +  100038050-100038139    100038095-100083377   \n",
       "1        chr1      +  100038050-100038139    100038095-100083377   \n",
       "2        chr1      +  100038050-100038139    100038095-100083377   \n",
       "3        chr1      +  100038050-100038139    100038095-100083377   \n",
       "4        chr1      +  100038050-100038139    100038095-100083377   \n",
       "...       ...    ...                  ...                    ...   \n",
       "6128056  chr1      -       999937-1000026          998970-999981   \n",
       "6128057  chr1      -       999937-1000026          998970-999981   \n",
       "6128058  chr1      -       999937-1000026          998970-999981   \n",
       "6128059  chr1      -       999937-1000026          998970-999981   \n",
       "6128060  chr1      -       999937-1000026          998970-999981   \n",
       "\n",
       "             dbsnp_id  varinat_start  variant_end        ref_neucleotide  \\\n",
       "0        rs1002682948      100038068    100038069                      T   \n",
       "1        rs1037746960      100038114    100038115                      A   \n",
       "2        rs1044300053      100038052    100038053                      G   \n",
       "3        rs1057463496      100038104    100038105                      C   \n",
       "4        rs1164317972      100038131    100038152  CAGAGCGGCTCGGCCCGGCAG   \n",
       "...               ...            ...          ...                    ...   \n",
       "6128056   rs973472463         999952       999953                      C   \n",
       "6128057   rs973472463         999952       999953                      C   \n",
       "6128058   rs975336980         999995       999996                      G   \n",
       "6128059   rs975336980         999995       999996                      G   \n",
       "6128060   rs986147271         999987       999988                      C   \n",
       "\n",
       "        alternative_neucleotide  \\\n",
       "0                             C   \n",
       "1                             T   \n",
       "2                             A   \n",
       "3                             A   \n",
       "4                           CAG   \n",
       "...                         ...   \n",
       "6128056                       A   \n",
       "6128057                       G   \n",
       "6128058                       A   \n",
       "6128059                       C   \n",
       "6128060                       G   \n",
       "\n",
       "                                             reference_seq  \\\n",
       "0        CGGGGCCCGCTCGTCGGCTGATCGCACGATTGTGACGCGCCGCCGG...   \n",
       "1        CGGGGCCCGCTCGTCGGCTGATCGCACGATTGTGACGCGCCGCCGG...   \n",
       "2        CGGGGCCCGCTCGTCGGCTGATCGCACGATTGTGACGCGCCGCCGG...   \n",
       "3        CGGGGCCCGCTCGTCGGCTGATCGCACGATTGTGACGCGCCGCCGG...   \n",
       "4        CGGGGCCCGCTCGTCGGCTGATCGCACGATTGTGACGCGCCGCCGG...   \n",
       "...                                                    ...   \n",
       "6128056  CGAGGCGCTCGGTTTCCCCGGCGTGTCTGCGGCCATGGTGCGCCCC...   \n",
       "6128057  CGAGGCGCTCGGTTTCCCCGGCGTGTCTGCGGCCATGGTGCGCCCC...   \n",
       "6128058  CGAGGCGCTCGGTTTCCCCGGCGTGTCTGCGGCCATGGTGCGCCCC...   \n",
       "6128059  CGAGGCGCTCGGTTTCCCCGGCGTGTCTGCGGCCATGGTGCGCCCC...   \n",
       "6128060  CGAGGCGCTCGGTTTCCCCGGCGTGTCTGCGGCCATGGTGCGCCCC...   \n",
       "\n",
       "                                                   alt_seq  \\\n",
       "0        CGGGGCCCGCTCGTCGGCCGATCGCACGATTGTGACGCGCCGCCGG...   \n",
       "1        CGGGGCCCGCTCGTCGGCTGATCGCACGATTGTGACGCGCCGCCGG...   \n",
       "2        CGAGGCCCGCTCGTCGGCTGATCGCACGATTGTGACGCGCCGCCGG...   \n",
       "3        CGGGGCCCGCTCGTCGGCTGATCGCACGATTGTGACGCGCCGCCGG...   \n",
       "4        CGGGGCCCGCTCGTCGGCTGATCGCACGATTGTGACGCGCCGCCGG...   \n",
       "...                                                    ...   \n",
       "6128056  CGAGGCGCTCGGTTTACCCGGCGTGTCTGCGGCCATGGTGCGCCCC...   \n",
       "6128057  CGAGGCGCTCGGTTTGCCCGGCGTGTCTGCGGCCATGGTGCGCCCC...   \n",
       "6128058  CGAGGCGCTCGGTTTCCCCGGCGTGTCTGCGGCCATGGTGCGCCCC...   \n",
       "6128059  CGAGGCGCTCGGTTTCCCCGGCGTGTCTGCGGCCATGGTGCGCCCC...   \n",
       "6128060  CGAGGCGCTCGGTTTCCCCGGCGTGTCTGCGGCCATGGTGCGCCCC...   \n",
       "\n",
       "        Ensemble_Transcript_ID  \n",
       "0              ENST00000370152  \n",
       "1              ENST00000370152  \n",
       "2              ENST00000370152  \n",
       "3              ENST00000370152  \n",
       "4              ENST00000370152  \n",
       "...                        ...  \n",
       "6128056        ENST00000484667  \n",
       "6128057        ENST00000484667  \n",
       "6128058        ENST00000484667  \n",
       "6128059        ENST00000484667  \n",
       "6128060        ENST00000484667  \n",
       "\n",
       "[6128061 rows x 12 columns]"
      ]
     },
     "execution_count": 41,
     "metadata": {},
     "output_type": "execute_result"
    }
   ],
   "source": [
    "df_test"
   ]
  },
  {
   "cell_type": "code",
   "execution_count": 42,
   "id": "aa7f832e-adcb-413d-a0c4-ed93d9e8092a",
   "metadata": {},
   "outputs": [],
   "source": [
    "merged_rows = df_test[df_test['Ensemble_Transcript_ID'].str.contains(',')]"
   ]
  },
  {
   "cell_type": "code",
   "execution_count": 43,
   "id": "c3af0723-5796-4a26-ae49-529e85896062",
   "metadata": {},
   "outputs": [
    {
     "data": {
      "text/html": [
       "<div>\n",
       "<style scoped>\n",
       "    .dataframe tbody tr th:only-of-type {\n",
       "        vertical-align: middle;\n",
       "    }\n",
       "\n",
       "    .dataframe tbody tr th {\n",
       "        vertical-align: top;\n",
       "    }\n",
       "\n",
       "    .dataframe thead th {\n",
       "        text-align: right;\n",
       "    }\n",
       "</style>\n",
       "<table border=\"1\" class=\"dataframe\">\n",
       "  <thead>\n",
       "    <tr style=\"text-align: right;\">\n",
       "      <th></th>\n",
       "      <th>chr</th>\n",
       "      <th>strand</th>\n",
       "      <th>Donor_coordinates</th>\n",
       "      <th>Transcript_coordinates</th>\n",
       "      <th>dbsnp_id</th>\n",
       "      <th>varinat_start</th>\n",
       "      <th>variant_end</th>\n",
       "      <th>ref_neucleotide</th>\n",
       "      <th>alternative_neucleotide</th>\n",
       "      <th>reference_seq</th>\n",
       "      <th>alt_seq</th>\n",
       "      <th>Ensemble_Transcript_ID</th>\n",
       "    </tr>\n",
       "  </thead>\n",
       "  <tbody>\n",
       "    <tr>\n",
       "      <th>11397</th>\n",
       "      <td>chr1</td>\n",
       "      <td>+</td>\n",
       "      <td>101025799-101025888</td>\n",
       "      <td>101025857-101087265</td>\n",
       "      <td>rs1009415719</td>\n",
       "      <td>101025886</td>\n",
       "      <td>101025887</td>\n",
       "      <td>G</td>\n",
       "      <td>A</td>\n",
       "      <td>CTCACCTACGGTGCCGCAAAATGCTGGTGCCTTTACTGCACTTTAC...</td>\n",
       "      <td>CTCACCTACGGTGCCGCAAAATGCTGGTGCCTTTACTGCACTTTAC...</td>\n",
       "      <td>ENST00000656060,ENST00000687494</td>\n",
       "    </tr>\n",
       "    <tr>\n",
       "      <th>11398</th>\n",
       "      <td>chr1</td>\n",
       "      <td>+</td>\n",
       "      <td>101025799-101025888</td>\n",
       "      <td>101025857-101087265</td>\n",
       "      <td>rs1009415719</td>\n",
       "      <td>101025886</td>\n",
       "      <td>101025887</td>\n",
       "      <td>G</td>\n",
       "      <td>C</td>\n",
       "      <td>CTCACCTACGGTGCCGCAAAATGCTGGTGCCTTTACTGCACTTTAC...</td>\n",
       "      <td>CTCACCTACGGTGCCGCAAAATGCTGGTGCCTTTACTGCACTTTAC...</td>\n",
       "      <td>ENST00000656060,ENST00000687494</td>\n",
       "    </tr>\n",
       "    <tr>\n",
       "      <th>11399</th>\n",
       "      <td>chr1</td>\n",
       "      <td>+</td>\n",
       "      <td>101025799-101025888</td>\n",
       "      <td>101025857-101087265</td>\n",
       "      <td>rs1009415719</td>\n",
       "      <td>101025886</td>\n",
       "      <td>101025887</td>\n",
       "      <td>G</td>\n",
       "      <td>T</td>\n",
       "      <td>CTCACCTACGGTGCCGCAAAATGCTGGTGCCTTTACTGCACTTTAC...</td>\n",
       "      <td>CTCACCTACGGTGCCGCAAAATGCTGGTGCCTTTACTGCACTTTAC...</td>\n",
       "      <td>ENST00000656060,ENST00000687494</td>\n",
       "    </tr>\n",
       "    <tr>\n",
       "      <th>11400</th>\n",
       "      <td>chr1</td>\n",
       "      <td>+</td>\n",
       "      <td>101025799-101025888</td>\n",
       "      <td>101025857-101087265</td>\n",
       "      <td>rs1015940196</td>\n",
       "      <td>101025840</td>\n",
       "      <td>101025841</td>\n",
       "      <td>T</td>\n",
       "      <td>C</td>\n",
       "      <td>CTCACCTACGGTGCCGCAAAATGCTGGTGCCTTTACTGCACTTTAC...</td>\n",
       "      <td>CTCACCTACGGTGCCGCAAAATGCTGGTGCCTTTACTGCACCTTAC...</td>\n",
       "      <td>ENST00000656060,ENST00000687494</td>\n",
       "    </tr>\n",
       "    <tr>\n",
       "      <th>11401</th>\n",
       "      <td>chr1</td>\n",
       "      <td>+</td>\n",
       "      <td>101025799-101025888</td>\n",
       "      <td>101025857-101087265</td>\n",
       "      <td>rs1021182395</td>\n",
       "      <td>101025887</td>\n",
       "      <td>101025888</td>\n",
       "      <td>G</td>\n",
       "      <td>A</td>\n",
       "      <td>CTCACCTACGGTGCCGCAAAATGCTGGTGCCTTTACTGCACTTTAC...</td>\n",
       "      <td>CTCACCTACGGTGCCGCAAAATGCTGGTGCCTTTACTGCACTTTAC...</td>\n",
       "      <td>ENST00000656060,ENST00000687494</td>\n",
       "    </tr>\n",
       "    <tr>\n",
       "      <th>...</th>\n",
       "      <td>...</td>\n",
       "      <td>...</td>\n",
       "      <td>...</td>\n",
       "      <td>...</td>\n",
       "      <td>...</td>\n",
       "      <td>...</td>\n",
       "      <td>...</td>\n",
       "      <td>...</td>\n",
       "      <td>...</td>\n",
       "      <td>...</td>\n",
       "      <td>...</td>\n",
       "      <td>...</td>\n",
       "    </tr>\n",
       "    <tr>\n",
       "      <th>6125651</th>\n",
       "      <td>chr1</td>\n",
       "      <td>-</td>\n",
       "      <td>99004988-99005077</td>\n",
       "      <td>98890245-99005032</td>\n",
       "      <td>rs879362073</td>\n",
       "      <td>99005054</td>\n",
       "      <td>99005055</td>\n",
       "      <td>G</td>\n",
       "      <td>T</td>\n",
       "      <td>CGCTGCGCCCCTGCACGAGACCATTCGAGAAGCAGCGGCGCTGGGT...</td>\n",
       "      <td>CGCTGCGCCCCTGCACGAGACCATTCGAGAAGCAGCGGCGCTGGGT...</td>\n",
       "      <td>ENST00000370188,ENST00000672681</td>\n",
       "    </tr>\n",
       "    <tr>\n",
       "      <th>6125652</th>\n",
       "      <td>chr1</td>\n",
       "      <td>-</td>\n",
       "      <td>99004988-99005077</td>\n",
       "      <td>98890245-99005032</td>\n",
       "      <td>rs916651290</td>\n",
       "      <td>99004994</td>\n",
       "      <td>99004995</td>\n",
       "      <td>G</td>\n",
       "      <td>A</td>\n",
       "      <td>CGCTGCGCCCCTGCACGAGACCATTCGAGAAGCAGCGGCGCTGGGT...</td>\n",
       "      <td>CGCTGCACCCCTGCACGAGACCATTCGAGAAGCAGCGGCGCTGGGT...</td>\n",
       "      <td>ENST00000370188,ENST00000672681</td>\n",
       "    </tr>\n",
       "    <tr>\n",
       "      <th>6125653</th>\n",
       "      <td>chr1</td>\n",
       "      <td>-</td>\n",
       "      <td>99004988-99005077</td>\n",
       "      <td>98890245-99005032</td>\n",
       "      <td>rs916651290</td>\n",
       "      <td>99004994</td>\n",
       "      <td>99004995</td>\n",
       "      <td>G</td>\n",
       "      <td>T</td>\n",
       "      <td>CGCTGCGCCCCTGCACGAGACCATTCGAGAAGCAGCGGCGCTGGGT...</td>\n",
       "      <td>CGCTGCTCCCCTGCACGAGACCATTCGAGAAGCAGCGGCGCTGGGT...</td>\n",
       "      <td>ENST00000370188,ENST00000672681</td>\n",
       "    </tr>\n",
       "    <tr>\n",
       "      <th>6125654</th>\n",
       "      <td>chr1</td>\n",
       "      <td>-</td>\n",
       "      <td>99004988-99005077</td>\n",
       "      <td>98890245-99005032</td>\n",
       "      <td>rs936320042</td>\n",
       "      <td>99005021</td>\n",
       "      <td>99005022</td>\n",
       "      <td>A</td>\n",
       "      <td>C</td>\n",
       "      <td>CGCTGCGCCCCTGCACGAGACCATTCGAGAAGCAGCGGCGCTGGGT...</td>\n",
       "      <td>CGCTGCGCCCCTGCACGAGACCATTCGAGAAGCCGCGGCGCTGGGT...</td>\n",
       "      <td>ENST00000370188,ENST00000672681</td>\n",
       "    </tr>\n",
       "    <tr>\n",
       "      <th>6125655</th>\n",
       "      <td>chr1</td>\n",
       "      <td>-</td>\n",
       "      <td>99004988-99005077</td>\n",
       "      <td>98890245-99005032</td>\n",
       "      <td>rs946311470</td>\n",
       "      <td>99005036</td>\n",
       "      <td>99005037</td>\n",
       "      <td>A</td>\n",
       "      <td>G</td>\n",
       "      <td>CGCTGCGCCCCTGCACGAGACCATTCGAGAAGCAGCGGCGCTGGGT...</td>\n",
       "      <td>CGCTGCGCCCCTGCACGAGACCATTCGAGAAGCAGCGGCGCTGGGT...</td>\n",
       "      <td>ENST00000370188,ENST00000672681</td>\n",
       "    </tr>\n",
       "  </tbody>\n",
       "</table>\n",
       "<p>258583 rows × 12 columns</p>\n",
       "</div>"
      ],
      "text/plain": [
       "          chr strand    Donor_coordinates Transcript_coordinates  \\\n",
       "11397    chr1      +  101025799-101025888    101025857-101087265   \n",
       "11398    chr1      +  101025799-101025888    101025857-101087265   \n",
       "11399    chr1      +  101025799-101025888    101025857-101087265   \n",
       "11400    chr1      +  101025799-101025888    101025857-101087265   \n",
       "11401    chr1      +  101025799-101025888    101025857-101087265   \n",
       "...       ...    ...                  ...                    ...   \n",
       "6125651  chr1      -    99004988-99005077      98890245-99005032   \n",
       "6125652  chr1      -    99004988-99005077      98890245-99005032   \n",
       "6125653  chr1      -    99004988-99005077      98890245-99005032   \n",
       "6125654  chr1      -    99004988-99005077      98890245-99005032   \n",
       "6125655  chr1      -    99004988-99005077      98890245-99005032   \n",
       "\n",
       "             dbsnp_id  varinat_start  variant_end ref_neucleotide  \\\n",
       "11397    rs1009415719      101025886    101025887               G   \n",
       "11398    rs1009415719      101025886    101025887               G   \n",
       "11399    rs1009415719      101025886    101025887               G   \n",
       "11400    rs1015940196      101025840    101025841               T   \n",
       "11401    rs1021182395      101025887    101025888               G   \n",
       "...               ...            ...          ...             ...   \n",
       "6125651   rs879362073       99005054     99005055               G   \n",
       "6125652   rs916651290       99004994     99004995               G   \n",
       "6125653   rs916651290       99004994     99004995               G   \n",
       "6125654   rs936320042       99005021     99005022               A   \n",
       "6125655   rs946311470       99005036     99005037               A   \n",
       "\n",
       "        alternative_neucleotide  \\\n",
       "11397                         A   \n",
       "11398                         C   \n",
       "11399                         T   \n",
       "11400                         C   \n",
       "11401                         A   \n",
       "...                         ...   \n",
       "6125651                       T   \n",
       "6125652                       A   \n",
       "6125653                       T   \n",
       "6125654                       C   \n",
       "6125655                       G   \n",
       "\n",
       "                                             reference_seq  \\\n",
       "11397    CTCACCTACGGTGCCGCAAAATGCTGGTGCCTTTACTGCACTTTAC...   \n",
       "11398    CTCACCTACGGTGCCGCAAAATGCTGGTGCCTTTACTGCACTTTAC...   \n",
       "11399    CTCACCTACGGTGCCGCAAAATGCTGGTGCCTTTACTGCACTTTAC...   \n",
       "11400    CTCACCTACGGTGCCGCAAAATGCTGGTGCCTTTACTGCACTTTAC...   \n",
       "11401    CTCACCTACGGTGCCGCAAAATGCTGGTGCCTTTACTGCACTTTAC...   \n",
       "...                                                    ...   \n",
       "6125651  CGCTGCGCCCCTGCACGAGACCATTCGAGAAGCAGCGGCGCTGGGT...   \n",
       "6125652  CGCTGCGCCCCTGCACGAGACCATTCGAGAAGCAGCGGCGCTGGGT...   \n",
       "6125653  CGCTGCGCCCCTGCACGAGACCATTCGAGAAGCAGCGGCGCTGGGT...   \n",
       "6125654  CGCTGCGCCCCTGCACGAGACCATTCGAGAAGCAGCGGCGCTGGGT...   \n",
       "6125655  CGCTGCGCCCCTGCACGAGACCATTCGAGAAGCAGCGGCGCTGGGT...   \n",
       "\n",
       "                                                   alt_seq  \\\n",
       "11397    CTCACCTACGGTGCCGCAAAATGCTGGTGCCTTTACTGCACTTTAC...   \n",
       "11398    CTCACCTACGGTGCCGCAAAATGCTGGTGCCTTTACTGCACTTTAC...   \n",
       "11399    CTCACCTACGGTGCCGCAAAATGCTGGTGCCTTTACTGCACTTTAC...   \n",
       "11400    CTCACCTACGGTGCCGCAAAATGCTGGTGCCTTTACTGCACCTTAC...   \n",
       "11401    CTCACCTACGGTGCCGCAAAATGCTGGTGCCTTTACTGCACTTTAC...   \n",
       "...                                                    ...   \n",
       "6125651  CGCTGCGCCCCTGCACGAGACCATTCGAGAAGCAGCGGCGCTGGGT...   \n",
       "6125652  CGCTGCACCCCTGCACGAGACCATTCGAGAAGCAGCGGCGCTGGGT...   \n",
       "6125653  CGCTGCTCCCCTGCACGAGACCATTCGAGAAGCAGCGGCGCTGGGT...   \n",
       "6125654  CGCTGCGCCCCTGCACGAGACCATTCGAGAAGCCGCGGCGCTGGGT...   \n",
       "6125655  CGCTGCGCCCCTGCACGAGACCATTCGAGAAGCAGCGGCGCTGGGT...   \n",
       "\n",
       "                  Ensemble_Transcript_ID  \n",
       "11397    ENST00000656060,ENST00000687494  \n",
       "11398    ENST00000656060,ENST00000687494  \n",
       "11399    ENST00000656060,ENST00000687494  \n",
       "11400    ENST00000656060,ENST00000687494  \n",
       "11401    ENST00000656060,ENST00000687494  \n",
       "...                                  ...  \n",
       "6125651  ENST00000370188,ENST00000672681  \n",
       "6125652  ENST00000370188,ENST00000672681  \n",
       "6125653  ENST00000370188,ENST00000672681  \n",
       "6125654  ENST00000370188,ENST00000672681  \n",
       "6125655  ENST00000370188,ENST00000672681  \n",
       "\n",
       "[258583 rows x 12 columns]"
      ]
     },
     "execution_count": 43,
     "metadata": {},
     "output_type": "execute_result"
    }
   ],
   "source": [
    "merged_rows"
   ]
  },
  {
   "cell_type": "code",
   "execution_count": 28,
   "id": "e0f5ff70-25ae-428e-8441-2ecfa5614d66",
   "metadata": {},
   "outputs": [
    {
     "data": {
      "text/html": [
       "<div>\n",
       "<style scoped>\n",
       "    .dataframe tbody tr th:only-of-type {\n",
       "        vertical-align: middle;\n",
       "    }\n",
       "\n",
       "    .dataframe tbody tr th {\n",
       "        vertical-align: top;\n",
       "    }\n",
       "\n",
       "    .dataframe thead th {\n",
       "        text-align: right;\n",
       "    }\n",
       "</style>\n",
       "<table border=\"1\" class=\"dataframe\">\n",
       "  <thead>\n",
       "    <tr style=\"text-align: right;\">\n",
       "      <th></th>\n",
       "      <th>chr</th>\n",
       "      <th>strand</th>\n",
       "      <th>Donor_coordinates</th>\n",
       "      <th>Ensemble_Transcript_ID</th>\n",
       "      <th>Transcript_coordinates</th>\n",
       "      <th>dbsnp_id</th>\n",
       "      <th>varinat_start</th>\n",
       "      <th>variant_end</th>\n",
       "      <th>ref_neucleotide</th>\n",
       "      <th>alternative_neucleotide</th>\n",
       "      <th>reference_seq</th>\n",
       "      <th>alt_seq</th>\n",
       "      <th>CountEnsemble_Transcript_ID</th>\n",
       "    </tr>\n",
       "  </thead>\n",
       "  <tbody>\n",
       "    <tr>\n",
       "      <th>672589</th>\n",
       "      <td>chr1</td>\n",
       "      <td>+</td>\n",
       "      <td>156728397-156728486</td>\n",
       "      <td>ENST00000313146</td>\n",
       "      <td>156721891-156728435</td>\n",
       "      <td>rs1558015172</td>\n",
       "      <td>156728383</td>\n",
       "      <td>156728410</td>\n",
       "      <td>ACAGATCGATCTCTCACGCTCACAAAC</td>\n",
       "      <td>ACAGATCGATCTCTCACGCTCACAAACAGATCGATCTCTCACGCTC...</td>\n",
       "      <td>CACGCTCACAAACCTACCTCCCAGACGGGTCCAGCTAAGACCGGAA...</td>\n",
       "      <td>CACGCTCACAAACCTACCTCCCAGACGGGTCCAGCTAAGACCGGAA...</td>\n",
       "      <td>2.0</td>\n",
       "    </tr>\n",
       "    <tr>\n",
       "      <th>672590</th>\n",
       "      <td>chr1</td>\n",
       "      <td>+</td>\n",
       "      <td>156728397-156728486</td>\n",
       "      <td>ENST00000313146</td>\n",
       "      <td>156721891-156728435</td>\n",
       "      <td>rs1571498785</td>\n",
       "      <td>156728392</td>\n",
       "      <td>156728398</td>\n",
       "      <td>TCTCTC</td>\n",
       "      <td>TCTC</td>\n",
       "      <td>CACGCTCACAAACCTACCTCCCAGACGGGTCCAGCTAAGACCGGAA...</td>\n",
       "      <td>CACGCTCACAAACCTACCTCCCAGACGGGTCCAGCTAAGACCGGAA...</td>\n",
       "      <td>2.0</td>\n",
       "    </tr>\n",
       "    <tr>\n",
       "      <th>672591</th>\n",
       "      <td>chr1</td>\n",
       "      <td>+</td>\n",
       "      <td>156728397-156728486</td>\n",
       "      <td>ENST00000313146</td>\n",
       "      <td>156721891-156728435</td>\n",
       "      <td>rs1648914174</td>\n",
       "      <td>156728397</td>\n",
       "      <td>156728398</td>\n",
       "      <td>C</td>\n",
       "      <td>G</td>\n",
       "      <td>CACGCTCACAAACCTACCTCCCAGACGGGTCCAGCTAAGACCGGAA...</td>\n",
       "      <td>GACGCTCACAAACCTACCTCCCAGACGGGTCCAGCTAAGACCGGAA...</td>\n",
       "      <td>2.0</td>\n",
       "    </tr>\n",
       "    <tr>\n",
       "      <th>672592</th>\n",
       "      <td>chr1</td>\n",
       "      <td>+</td>\n",
       "      <td>156728397-156728486</td>\n",
       "      <td>ENST00000313146</td>\n",
       "      <td>156721891-156728435</td>\n",
       "      <td>rs1259686245</td>\n",
       "      <td>156728399</td>\n",
       "      <td>156728400</td>\n",
       "      <td>C</td>\n",
       "      <td>T</td>\n",
       "      <td>CACGCTCACAAACCTACCTCCCAGACGGGTCCAGCTAAGACCGGAA...</td>\n",
       "      <td>CATGCTCACAAACCTACCTCCCAGACGGGTCCAGCTAAGACCGGAA...</td>\n",
       "      <td>2.0</td>\n",
       "    </tr>\n",
       "    <tr>\n",
       "      <th>672593</th>\n",
       "      <td>chr1</td>\n",
       "      <td>+</td>\n",
       "      <td>156728397-156728486</td>\n",
       "      <td>ENST00000313146</td>\n",
       "      <td>156721891-156728435</td>\n",
       "      <td>rs961624557</td>\n",
       "      <td>156728403</td>\n",
       "      <td>156728404</td>\n",
       "      <td>C</td>\n",
       "      <td>T</td>\n",
       "      <td>CACGCTCACAAACCTACCTCCCAGACGGGTCCAGCTAAGACCGGAA...</td>\n",
       "      <td>CACGCTTACAAACCTACCTCCCAGACGGGTCCAGCTAAGACCGGAA...</td>\n",
       "      <td>2.0</td>\n",
       "    </tr>\n",
       "    <tr>\n",
       "      <th>...</th>\n",
       "      <td>...</td>\n",
       "      <td>...</td>\n",
       "      <td>...</td>\n",
       "      <td>...</td>\n",
       "      <td>...</td>\n",
       "      <td>...</td>\n",
       "      <td>...</td>\n",
       "      <td>...</td>\n",
       "      <td>...</td>\n",
       "      <td>...</td>\n",
       "      <td>...</td>\n",
       "      <td>...</td>\n",
       "      <td>...</td>\n",
       "    </tr>\n",
       "    <tr>\n",
       "      <th>5876953</th>\n",
       "      <td>chr1</td>\n",
       "      <td>-</td>\n",
       "      <td>22025448-22025537</td>\n",
       "      <td>ENST00000648697</td>\n",
       "      <td>22005305-22030617</td>\n",
       "      <td>rs1309106262</td>\n",
       "      <td>22025533</td>\n",
       "      <td>22025534</td>\n",
       "      <td>C</td>\n",
       "      <td>G</td>\n",
       "      <td>ACCCGGCCCACCCCTTCCAACCTATGCCCCTCCTCTTAACTTCCGG...</td>\n",
       "      <td>ACCCGGCCCACCCCTTCCAACCTATGCCCCTCCTCTTAACTTCCGG...</td>\n",
       "      <td>2.0</td>\n",
       "    </tr>\n",
       "    <tr>\n",
       "      <th>5876954</th>\n",
       "      <td>chr1</td>\n",
       "      <td>-</td>\n",
       "      <td>22025448-22025537</td>\n",
       "      <td>ENST00000648697</td>\n",
       "      <td>22005305-22030617</td>\n",
       "      <td>rs1238791473</td>\n",
       "      <td>22025535</td>\n",
       "      <td>22025536</td>\n",
       "      <td>C</td>\n",
       "      <td>G</td>\n",
       "      <td>ACCCGGCCCACCCCTTCCAACCTATGCCCCTCCTCTTAACTTCCGG...</td>\n",
       "      <td>ACCCGGCCCACCCCTTCCAACCTATGCCCCTCCTCTTAACTTCCGG...</td>\n",
       "      <td>2.0</td>\n",
       "    </tr>\n",
       "    <tr>\n",
       "      <th>5876955</th>\n",
       "      <td>chr1</td>\n",
       "      <td>-</td>\n",
       "      <td>22025448-22025537</td>\n",
       "      <td>ENST00000648697</td>\n",
       "      <td>22005305-22030617</td>\n",
       "      <td>rs1238791473</td>\n",
       "      <td>22025535</td>\n",
       "      <td>22025536</td>\n",
       "      <td>C</td>\n",
       "      <td>T</td>\n",
       "      <td>ACCCGGCCCACCCCTTCCAACCTATGCCCCTCCTCTTAACTTCCGG...</td>\n",
       "      <td>ACCCGGCCCACCCCTTCCAACCTATGCCCCTCCTCTTAACTTCCGG...</td>\n",
       "      <td>2.0</td>\n",
       "    </tr>\n",
       "    <tr>\n",
       "      <th>5876956</th>\n",
       "      <td>chr1</td>\n",
       "      <td>-</td>\n",
       "      <td>22025448-22025537</td>\n",
       "      <td>ENST00000648697</td>\n",
       "      <td>22005305-22030617</td>\n",
       "      <td>rs1237642590</td>\n",
       "      <td>22025536</td>\n",
       "      <td>22025537</td>\n",
       "      <td>G</td>\n",
       "      <td>A</td>\n",
       "      <td>ACCCGGCCCACCCCTTCCAACCTATGCCCCTCCTCTTAACTTCCGG...</td>\n",
       "      <td>ACCCGGCCCACCCCTTCCAACCTATGCCCCTCCTCTTAACTTCCGG...</td>\n",
       "      <td>2.0</td>\n",
       "    </tr>\n",
       "    <tr>\n",
       "      <th>5876957</th>\n",
       "      <td>chr1</td>\n",
       "      <td>-</td>\n",
       "      <td>22025448-22025537</td>\n",
       "      <td>ENST00000648697</td>\n",
       "      <td>22005305-22030617</td>\n",
       "      <td>rs1237642590</td>\n",
       "      <td>22025536</td>\n",
       "      <td>22025537</td>\n",
       "      <td>G</td>\n",
       "      <td>T</td>\n",
       "      <td>ACCCGGCCCACCCCTTCCAACCTATGCCCCTCCTCTTAACTTCCGG...</td>\n",
       "      <td>ACCCGGCCCACCCCTTCCAACCTATGCCCCTCCTCTTAACTTCCGG...</td>\n",
       "      <td>2.0</td>\n",
       "    </tr>\n",
       "  </tbody>\n",
       "</table>\n",
       "<p>8588 rows × 13 columns</p>\n",
       "</div>"
      ],
      "text/plain": [
       "          chr strand    Donor_coordinates Ensemble_Transcript_ID  \\\n",
       "672589   chr1      +  156728397-156728486        ENST00000313146   \n",
       "672590   chr1      +  156728397-156728486        ENST00000313146   \n",
       "672591   chr1      +  156728397-156728486        ENST00000313146   \n",
       "672592   chr1      +  156728397-156728486        ENST00000313146   \n",
       "672593   chr1      +  156728397-156728486        ENST00000313146   \n",
       "...       ...    ...                  ...                    ...   \n",
       "5876953  chr1      -    22025448-22025537        ENST00000648697   \n",
       "5876954  chr1      -    22025448-22025537        ENST00000648697   \n",
       "5876955  chr1      -    22025448-22025537        ENST00000648697   \n",
       "5876956  chr1      -    22025448-22025537        ENST00000648697   \n",
       "5876957  chr1      -    22025448-22025537        ENST00000648697   \n",
       "\n",
       "        Transcript_coordinates      dbsnp_id  varinat_start  variant_end  \\\n",
       "672589     156721891-156728435  rs1558015172      156728383    156728410   \n",
       "672590     156721891-156728435  rs1571498785      156728392    156728398   \n",
       "672591     156721891-156728435  rs1648914174      156728397    156728398   \n",
       "672592     156721891-156728435  rs1259686245      156728399    156728400   \n",
       "672593     156721891-156728435   rs961624557      156728403    156728404   \n",
       "...                        ...           ...            ...          ...   \n",
       "5876953      22005305-22030617  rs1309106262       22025533     22025534   \n",
       "5876954      22005305-22030617  rs1238791473       22025535     22025536   \n",
       "5876955      22005305-22030617  rs1238791473       22025535     22025536   \n",
       "5876956      22005305-22030617  rs1237642590       22025536     22025537   \n",
       "5876957      22005305-22030617  rs1237642590       22025536     22025537   \n",
       "\n",
       "                     ref_neucleotide  \\\n",
       "672589   ACAGATCGATCTCTCACGCTCACAAAC   \n",
       "672590                        TCTCTC   \n",
       "672591                             C   \n",
       "672592                             C   \n",
       "672593                             C   \n",
       "...                              ...   \n",
       "5876953                            C   \n",
       "5876954                            C   \n",
       "5876955                            C   \n",
       "5876956                            G   \n",
       "5876957                            G   \n",
       "\n",
       "                                   alternative_neucleotide  \\\n",
       "672589   ACAGATCGATCTCTCACGCTCACAAACAGATCGATCTCTCACGCTC...   \n",
       "672590                                                TCTC   \n",
       "672591                                                   G   \n",
       "672592                                                   T   \n",
       "672593                                                   T   \n",
       "...                                                    ...   \n",
       "5876953                                                  G   \n",
       "5876954                                                  G   \n",
       "5876955                                                  T   \n",
       "5876956                                                  A   \n",
       "5876957                                                  T   \n",
       "\n",
       "                                             reference_seq  \\\n",
       "672589   CACGCTCACAAACCTACCTCCCAGACGGGTCCAGCTAAGACCGGAA...   \n",
       "672590   CACGCTCACAAACCTACCTCCCAGACGGGTCCAGCTAAGACCGGAA...   \n",
       "672591   CACGCTCACAAACCTACCTCCCAGACGGGTCCAGCTAAGACCGGAA...   \n",
       "672592   CACGCTCACAAACCTACCTCCCAGACGGGTCCAGCTAAGACCGGAA...   \n",
       "672593   CACGCTCACAAACCTACCTCCCAGACGGGTCCAGCTAAGACCGGAA...   \n",
       "...                                                    ...   \n",
       "5876953  ACCCGGCCCACCCCTTCCAACCTATGCCCCTCCTCTTAACTTCCGG...   \n",
       "5876954  ACCCGGCCCACCCCTTCCAACCTATGCCCCTCCTCTTAACTTCCGG...   \n",
       "5876955  ACCCGGCCCACCCCTTCCAACCTATGCCCCTCCTCTTAACTTCCGG...   \n",
       "5876956  ACCCGGCCCACCCCTTCCAACCTATGCCCCTCCTCTTAACTTCCGG...   \n",
       "5876957  ACCCGGCCCACCCCTTCCAACCTATGCCCCTCCTCTTAACTTCCGG...   \n",
       "\n",
       "                                                   alt_seq  \\\n",
       "672589   CACGCTCACAAACCTACCTCCCAGACGGGTCCAGCTAAGACCGGAA...   \n",
       "672590   CACGCTCACAAACCTACCTCCCAGACGGGTCCAGCTAAGACCGGAA...   \n",
       "672591   GACGCTCACAAACCTACCTCCCAGACGGGTCCAGCTAAGACCGGAA...   \n",
       "672592   CATGCTCACAAACCTACCTCCCAGACGGGTCCAGCTAAGACCGGAA...   \n",
       "672593   CACGCTTACAAACCTACCTCCCAGACGGGTCCAGCTAAGACCGGAA...   \n",
       "...                                                    ...   \n",
       "5876953  ACCCGGCCCACCCCTTCCAACCTATGCCCCTCCTCTTAACTTCCGG...   \n",
       "5876954  ACCCGGCCCACCCCTTCCAACCTATGCCCCTCCTCTTAACTTCCGG...   \n",
       "5876955  ACCCGGCCCACCCCTTCCAACCTATGCCCCTCCTCTTAACTTCCGG...   \n",
       "5876956  ACCCGGCCCACCCCTTCCAACCTATGCCCCTCCTCTTAACTTCCGG...   \n",
       "5876957  ACCCGGCCCACCCCTTCCAACCTATGCCCCTCCTCTTAACTTCCGG...   \n",
       "\n",
       "         CountEnsemble_Transcript_ID  \n",
       "672589                           2.0  \n",
       "672590                           2.0  \n",
       "672591                           2.0  \n",
       "672592                           2.0  \n",
       "672593                           2.0  \n",
       "...                              ...  \n",
       "5876953                          2.0  \n",
       "5876954                          2.0  \n",
       "5876955                          2.0  \n",
       "5876956                          2.0  \n",
       "5876957                          2.0  \n",
       "\n",
       "[8588 rows x 13 columns]"
      ]
     },
     "execution_count": 28,
     "metadata": {},
     "output_type": "execute_result"
    }
   ],
   "source": [
    "df_test[df_test['CountEnsemble_Transcript_ID']==2]"
   ]
  },
  {
   "cell_type": "code",
   "execution_count": null,
   "id": "dd694d7e-ee38-46c9-aa30-235023718159",
   "metadata": {},
   "outputs": [],
   "source": []
  }
 ],
 "metadata": {
  "kernelspec": {
   "display_name": "Python 3 (ipykernel)",
   "language": "python",
   "name": "python3"
  },
  "language_info": {
   "codemirror_mode": {
    "name": "ipython",
    "version": 3
   },
   "file_extension": ".py",
   "mimetype": "text/x-python",
   "name": "python",
   "nbconvert_exporter": "python",
   "pygments_lexer": "ipython3",
   "version": "3.10.11"
  }
 },
 "nbformat": 4,
 "nbformat_minor": 5
}
