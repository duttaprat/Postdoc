{
 "cells": [
  {
   "cell_type": "code",
   "execution_count": 2,
   "id": "c5f54fe3-e4c0-431e-bec0-dbbfcc2a2dd9",
   "metadata": {},
   "outputs": [],
   "source": [
    "import pandas as pd\n",
    "import numpy as np\n",
    "import os\n",
    "import glob"
   ]
  },
  {
   "cell_type": "code",
   "execution_count": 3,
   "id": "6ada7ae7-705b-49b3-a1e9-44d0bb61e9e7",
   "metadata": {},
   "outputs": [],
   "source": [
    "path1 = \"/data/projects/PSB/Output\""
   ]
  },
  {
   "cell_type": "code",
   "execution_count": 4,
   "id": "379b11e9-6d7a-49f5-bc00-120000319eb5",
   "metadata": {},
   "outputs": [],
   "source": [
    "# Find files matching the pattern\n",
    "pattern = \"_candidates.tsv\"\n",
    "matching_files = glob.glob(os.path.join(path1, \"**\", f\"*{pattern}\"), recursive=True)"
   ]
  },
  {
   "cell_type": "code",
   "execution_count": 5,
   "id": "f4d81ff4-687f-4955-a1de-07181330510d",
   "metadata": {},
   "outputs": [
    {
     "data": {
      "text/plain": [
       "['/data/projects/PSB/Output/Donor/Donor_candidates.tsv',\n",
       " '/data/projects/PSB/Output/Acceptor/Acceptor_candidates.tsv',\n",
       " '/data/projects/PSB/Output/nonTATA/nonTATA_candidates.tsv']"
      ]
     },
     "execution_count": 5,
     "metadata": {},
     "output_type": "execute_result"
    }
   ],
   "source": [
    "matching_files"
   ]
  },
  {
   "cell_type": "code",
   "execution_count": 5,
   "id": "8cd90e07-c495-4e98-aa01-d35a32ff17a9",
   "metadata": {},
   "outputs": [],
   "source": [
    "tata = pd.read_csv(matching_files[0], sep=\"\\t\")\n",
    "don  = pd.read_csv(matching_files[1], sep=\"\\t\")\n",
    "ntata = pd.read_csv(matching_files[2], sep=\"\\t\")\n",
    "acc = pd.read_csv(matching_files[3], sep=\"\\t\")"
   ]
  },
  {
   "cell_type": "code",
   "execution_count": 6,
   "id": "4c932674-3f33-4c04-80de-c1fba20f44e4",
   "metadata": {},
   "outputs": [
    {
     "name": "stdout",
     "output_type": "stream",
     "text": [
      "(5695866, 17) (594945, 17) (1936700, 18) (1004448, 19)\n"
     ]
    }
   ],
   "source": [
    "print(tata.shape, ntata.shape, acc.shape, don.shape)"
   ]
  },
  {
   "cell_type": "code",
   "execution_count": 7,
   "id": "289ef6e6-8380-4636-8eb7-c115f91b2dc8",
   "metadata": {},
   "outputs": [
    {
     "data": {
      "text/plain": [
       "Index(['index', 'chr', 'strand', 'Acceptor_coordinates',\n",
       "       'Transcript_coordinates', 'dbsnp_id', 'varinat_start', 'variant_end',\n",
       "       'ref_neucleotide', 'alternative_neucleotide', 'reference_seq',\n",
       "       'alt_seq', 'Ensemble_Transcript_ID', 'Ref_probab', 'Alt_probab',\n",
       "       'ScoreChange', 'LogOddRatio', 'variant_length'],\n",
       "      dtype='object')"
      ]
     },
     "execution_count": 7,
     "metadata": {},
     "output_type": "execute_result"
    }
   ],
   "source": [
    "acc.columns"
   ]
  },
  {
   "cell_type": "code",
   "execution_count": 8,
   "id": "30715fe1-178e-466b-beb5-ee0ad8670678",
   "metadata": {},
   "outputs": [],
   "source": [
    "data_frames = {\n",
    "    'tata': tata,\n",
    "    'ntata': ntata,\n",
    "    'acc': acc,\n",
    "    'don': don\n",
    "}\n",
    "\n",
    "# subset df\n",
    "subset_data_frames = {}\n",
    "selected_columns = ['chr', 'strand', 'Ensemble_Transcript_ID',\n",
    "       'Transcript_coordinates', 'dbsnp_id', 'varinat_start', 'variant_end', 'Ref_probab', 'Alt_probab', 'ScoreChange', 'LogOddRatio']\n",
    "\n",
    "# Subset df\n",
    "subset_data_frames = {}\n",
    "for df_name, df in data_frames.items():\n",
    "    # Determine the coordinate column to use ('Donor_coordinates' or 'Acceptor_coordinates')\n",
    "    coordinate_column = 'Donor_coordinates' if 'Donor_coordinates' in df.columns else 'Acceptor_coordinates' if 'Acceptor_coordinates' in df.columns else None\n",
    "    # Add the coordinate_column to the selected columns if it's present\n",
    "    columns_to_use = selected_columns + [coordinate_column] if coordinate_column else selected_columns\n",
    "    # Subset the DataFrame using the columns that are actually present in the DataFrame\n",
    "    subset_data_frames[df_name] = df[df.columns.intersection(columns_to_use)]"
   ]
  },
  {
   "cell_type": "code",
   "execution_count": 14,
   "id": "ba33521d-5437-4181-9cb8-c31c7c335ebb",
   "metadata": {},
   "outputs": [
    {
     "data": {
      "text/html": [
       "<div>\n",
       "<style scoped>\n",
       "    .dataframe tbody tr th:only-of-type {\n",
       "        vertical-align: middle;\n",
       "    }\n",
       "\n",
       "    .dataframe tbody tr th {\n",
       "        vertical-align: top;\n",
       "    }\n",
       "\n",
       "    .dataframe thead th {\n",
       "        text-align: right;\n",
       "    }\n",
       "</style>\n",
       "<table border=\"1\" class=\"dataframe\">\n",
       "  <thead>\n",
       "    <tr style=\"text-align: right;\">\n",
       "      <th></th>\n",
       "      <th>chr</th>\n",
       "      <th>strand</th>\n",
       "      <th>Acceptor_coordinates</th>\n",
       "      <th>Transcript_coordinates</th>\n",
       "      <th>dbsnp_id</th>\n",
       "      <th>varinat_start</th>\n",
       "      <th>variant_end</th>\n",
       "      <th>Ensemble_Transcript_ID</th>\n",
       "      <th>Ref_probab</th>\n",
       "      <th>Alt_probab</th>\n",
       "      <th>ScoreChange</th>\n",
       "      <th>LogOddRatio</th>\n",
       "    </tr>\n",
       "  </thead>\n",
       "  <tbody>\n",
       "    <tr>\n",
       "      <th>0</th>\n",
       "      <td>chr1</td>\n",
       "      <td>+</td>\n",
       "      <td>24445144-24445223</td>\n",
       "      <td>24415803-24472976</td>\n",
       "      <td>rs1450817635</td>\n",
       "      <td>24445172</td>\n",
       "      <td>24445174</td>\n",
       "      <td>ENST00000003912</td>\n",
       "      <td>0.999804</td>\n",
       "      <td>0.001602</td>\n",
       "      <td>-0.998007</td>\n",
       "      <td>21.603005</td>\n",
       "    </tr>\n",
       "    <tr>\n",
       "      <th>1</th>\n",
       "      <td>chr1</td>\n",
       "      <td>+</td>\n",
       "      <td>24445144-24445223</td>\n",
       "      <td>24415814-24466310</td>\n",
       "      <td>rs1450817635</td>\n",
       "      <td>24445172</td>\n",
       "      <td>24445174</td>\n",
       "      <td>ENST00000339255</td>\n",
       "      <td>0.999804</td>\n",
       "      <td>0.001602</td>\n",
       "      <td>-0.998007</td>\n",
       "      <td>21.603005</td>\n",
       "    </tr>\n",
       "  </tbody>\n",
       "</table>\n",
       "</div>"
      ],
      "text/plain": [
       "    chr strand Acceptor_coordinates Transcript_coordinates      dbsnp_id  \\\n",
       "0  chr1      +    24445144-24445223      24415803-24472976  rs1450817635   \n",
       "1  chr1      +    24445144-24445223      24415814-24466310  rs1450817635   \n",
       "\n",
       "   varinat_start  variant_end Ensemble_Transcript_ID  Ref_probab  Alt_probab  \\\n",
       "0       24445172     24445174        ENST00000003912    0.999804    0.001602   \n",
       "1       24445172     24445174        ENST00000339255    0.999804    0.001602   \n",
       "\n",
       "   ScoreChange  LogOddRatio  \n",
       "0    -0.998007    21.603005  \n",
       "1    -0.998007    21.603005  "
      ]
     },
     "execution_count": 14,
     "metadata": {},
     "output_type": "execute_result"
    }
   ],
   "source": [
    "subset_data_frames[\"acc\"].head(2)"
   ]
  },
  {
   "cell_type": "code",
   "execution_count": 13,
   "id": "82b7ce1b-e4d5-41ae-9bd5-50e4493be0b2",
   "metadata": {},
   "outputs": [
    {
     "data": {
      "text/plain": [
       "(213634, 12)"
      ]
     },
     "execution_count": 13,
     "metadata": {},
     "output_type": "execute_result"
    }
   ],
   "source": [
    "# unique number of variants before merging with tsptr\n",
    "subset_data_frames['acc'].drop_duplicates(subset=['chr', 'strand', 'varinat_start', 'variant_end']).shape"
   ]
  },
  {
   "cell_type": "code",
   "execution_count": 16,
   "id": "2c0b63e8-22cd-48ce-b071-cf936ce0d892",
   "metadata": {},
   "outputs": [
    {
     "data": {
      "text/html": [
       "<div>\n",
       "<style scoped>\n",
       "    .dataframe tbody tr th:only-of-type {\n",
       "        vertical-align: middle;\n",
       "    }\n",
       "\n",
       "    .dataframe tbody tr th {\n",
       "        vertical-align: top;\n",
       "    }\n",
       "\n",
       "    .dataframe thead th {\n",
       "        text-align: right;\n",
       "    }\n",
       "</style>\n",
       "<table border=\"1\" class=\"dataframe\">\n",
       "  <thead>\n",
       "    <tr style=\"text-align: right;\">\n",
       "      <th></th>\n",
       "      <th>transcript</th>\n",
       "      <th>tissue</th>\n",
       "      <th>expression</th>\n",
       "    </tr>\n",
       "  </thead>\n",
       "  <tbody>\n",
       "    <tr>\n",
       "      <th>0</th>\n",
       "      <td>ENST00000000233</td>\n",
       "      <td>all</td>\n",
       "      <td>HouseTrans</td>\n",
       "    </tr>\n",
       "    <tr>\n",
       "      <th>1</th>\n",
       "      <td>ENST00000000412</td>\n",
       "      <td>all</td>\n",
       "      <td>HouseTrans</td>\n",
       "    </tr>\n",
       "  </tbody>\n",
       "</table>\n",
       "</div>"
      ],
      "text/plain": [
       "        transcript tissue  expression\n",
       "0  ENST00000000233    all  HouseTrans\n",
       "1  ENST00000000412    all  HouseTrans"
      ]
     },
     "execution_count": 16,
     "metadata": {},
     "output_type": "execute_result"
    }
   ],
   "source": [
    "# read tsptr\n",
    "tsptr = pd.read_csv('/home/campus.stonybrook.edu/psurana/projects/PSB_2024/v3/tsptr_all.csv').drop(\"Unnamed: 0\", axis =1)\n",
    "tsptr = tsptr[['transcript', 'tissue', 'expression']]\n",
    "tsptr.head(2)"
   ]
  },
  {
   "cell_type": "code",
   "execution_count": 17,
   "id": "b96fea6d-03a3-47d0-ac19-1b9233f67783",
   "metadata": {},
   "outputs": [],
   "source": [
    "for df_name, df in subset_data_frames.items():\n",
    "    df = df.copy()\n",
    "    \n",
    "    # Replace occurrences of \"NA,\" \"NullTrans,\" or NaN with \"others\"\n",
    "    df.replace([\"NA\", \"NullTrans\"], \"Others\", inplace=True)\n",
    "    df.fillna(\"others\", inplace=True)\n",
    "    \n",
    "    # add tsptr information\n",
    "    new_df = df.merge(tsptr, left_on='Ensemble_Transcript_ID', right_on='transcript', how='left')\n",
    "    \n",
    "    subset_data_frames[df_name] = new_df"
   ]
  },
  {
   "cell_type": "code",
   "execution_count": 19,
   "id": "795c1e67-dddb-4fce-8ea7-05e8ae0b7d42",
   "metadata": {},
   "outputs": [
    {
     "data": {
      "text/plain": [
       "(1936700, 15)"
      ]
     },
     "execution_count": 19,
     "metadata": {},
     "output_type": "execute_result"
    }
   ],
   "source": [
    "subset_data_frames['acc'].shape"
   ]
  },
  {
   "cell_type": "code",
   "execution_count": 20,
   "id": "15abd418-dfd5-4a7c-9f33-14b3af6fb597",
   "metadata": {},
   "outputs": [],
   "source": [
    "# replace donor or acceptor_coordinates with func_coordinates for coherent naming\n",
    "for df_name, df in subset_data_frames.items():\n",
    "    if \"Donor_coordinates\" in df.columns:\n",
    "        df.rename(columns={\"Donor_coordinates\": \"Func_coordinates\"}, inplace=True)\n",
    "    if \"Acceptor_coordinates\" in df.columns:\n",
    "        df.rename(columns={\"Acceptor_coordinates\": \"Func_coordinates\"}, inplace=True)\n",
    "    subset_data_frames[df_name] = df\n"
   ]
  },
  {
   "cell_type": "code",
   "execution_count": 21,
   "id": "a646ebd8-0679-4185-b5c2-e8304c2e6b11",
   "metadata": {},
   "outputs": [
    {
     "data": {
      "text/html": [
       "<div>\n",
       "<style scoped>\n",
       "    .dataframe tbody tr th:only-of-type {\n",
       "        vertical-align: middle;\n",
       "    }\n",
       "\n",
       "    .dataframe tbody tr th {\n",
       "        vertical-align: top;\n",
       "    }\n",
       "\n",
       "    .dataframe thead th {\n",
       "        text-align: right;\n",
       "    }\n",
       "</style>\n",
       "<table border=\"1\" class=\"dataframe\">\n",
       "  <thead>\n",
       "    <tr style=\"text-align: right;\">\n",
       "      <th></th>\n",
       "      <th>chr</th>\n",
       "      <th>strand</th>\n",
       "      <th>Func_coordinates</th>\n",
       "      <th>Transcript_coordinates</th>\n",
       "      <th>dbsnp_id</th>\n",
       "      <th>varinat_start</th>\n",
       "      <th>variant_end</th>\n",
       "      <th>Ensemble_Transcript_ID</th>\n",
       "      <th>Ref_probab</th>\n",
       "      <th>Alt_probab</th>\n",
       "      <th>ScoreChange</th>\n",
       "      <th>LogOddRatio</th>\n",
       "      <th>transcript</th>\n",
       "      <th>tissue</th>\n",
       "      <th>expression</th>\n",
       "    </tr>\n",
       "  </thead>\n",
       "  <tbody>\n",
       "    <tr>\n",
       "      <th>0</th>\n",
       "      <td>chr1</td>\n",
       "      <td>+</td>\n",
       "      <td>24445144-24445223</td>\n",
       "      <td>24415803-24472976</td>\n",
       "      <td>rs1450817635</td>\n",
       "      <td>24445172</td>\n",
       "      <td>24445174</td>\n",
       "      <td>ENST00000003912</td>\n",
       "      <td>0.999804</td>\n",
       "      <td>0.001602</td>\n",
       "      <td>-0.998007</td>\n",
       "      <td>21.603005</td>\n",
       "      <td>NaN</td>\n",
       "      <td>NaN</td>\n",
       "      <td>NaN</td>\n",
       "    </tr>\n",
       "    <tr>\n",
       "      <th>1</th>\n",
       "      <td>chr1</td>\n",
       "      <td>+</td>\n",
       "      <td>24445144-24445223</td>\n",
       "      <td>24415814-24466310</td>\n",
       "      <td>rs1450817635</td>\n",
       "      <td>24445172</td>\n",
       "      <td>24445174</td>\n",
       "      <td>ENST00000339255</td>\n",
       "      <td>0.999804</td>\n",
       "      <td>0.001602</td>\n",
       "      <td>-0.998007</td>\n",
       "      <td>21.603005</td>\n",
       "      <td>ENST00000339255</td>\n",
       "      <td>Fallopian_Tube, Lung, Pancreas, Prostate, Sali...</td>\n",
       "      <td>TenhTrans</td>\n",
       "    </tr>\n",
       "    <tr>\n",
       "      <th>2</th>\n",
       "      <td>chr1</td>\n",
       "      <td>+</td>\n",
       "      <td>24445144-24445223</td>\n",
       "      <td>24415813-24454824</td>\n",
       "      <td>rs1450817635</td>\n",
       "      <td>24445172</td>\n",
       "      <td>24445174</td>\n",
       "      <td>ENST00000358028</td>\n",
       "      <td>0.999804</td>\n",
       "      <td>0.001602</td>\n",
       "      <td>-0.998007</td>\n",
       "      <td>21.603005</td>\n",
       "      <td>NaN</td>\n",
       "      <td>NaN</td>\n",
       "      <td>NaN</td>\n",
       "    </tr>\n",
       "  </tbody>\n",
       "</table>\n",
       "</div>"
      ],
      "text/plain": [
       "    chr strand   Func_coordinates Transcript_coordinates      dbsnp_id  \\\n",
       "0  chr1      +  24445144-24445223      24415803-24472976  rs1450817635   \n",
       "1  chr1      +  24445144-24445223      24415814-24466310  rs1450817635   \n",
       "2  chr1      +  24445144-24445223      24415813-24454824  rs1450817635   \n",
       "\n",
       "   varinat_start  variant_end Ensemble_Transcript_ID  Ref_probab  Alt_probab  \\\n",
       "0       24445172     24445174        ENST00000003912    0.999804    0.001602   \n",
       "1       24445172     24445174        ENST00000339255    0.999804    0.001602   \n",
       "2       24445172     24445174        ENST00000358028    0.999804    0.001602   \n",
       "\n",
       "   ScoreChange  LogOddRatio       transcript  \\\n",
       "0    -0.998007    21.603005              NaN   \n",
       "1    -0.998007    21.603005  ENST00000339255   \n",
       "2    -0.998007    21.603005              NaN   \n",
       "\n",
       "                                              tissue expression  \n",
       "0                                                NaN        NaN  \n",
       "1  Fallopian_Tube, Lung, Pancreas, Prostate, Sali...  TenhTrans  \n",
       "2                                                NaN        NaN  "
      ]
     },
     "execution_count": 21,
     "metadata": {},
     "output_type": "execute_result"
    }
   ],
   "source": [
    "subset_data_frames['acc'].head(3)"
   ]
  },
  {
   "cell_type": "code",
   "execution_count": 22,
   "id": "e80f66a0-3cf3-48e1-aa9d-b127b75615ba",
   "metadata": {},
   "outputs": [],
   "source": [
    "# take unique for total variants on chr strand varinat_start variant_end\n",
    "unique_columns = ['chr', 'strand', 'varinat_start', 'variant_end']\n",
    "\n",
    "unique_variants = {}\n",
    "for df_name, df in subset_data_frames.items():\n",
    "    unique_df = df.drop_duplicates(subset=unique_columns)\n",
    "    unique_variants[df_name] = unique_df"
   ]
  },
  {
   "cell_type": "code",
   "execution_count": 23,
   "id": "5563ba4f-50b4-4a7b-bfbc-14f1923b2348",
   "metadata": {},
   "outputs": [
    {
     "name": "stdout",
     "output_type": "stream",
     "text": [
      "The shape of DataFrame 'tata' is (358026, 15)\n",
      "The shape of DataFrame 'ntata' is (42464, 15)\n",
      "The shape of DataFrame 'acc' is (213634, 15)\n",
      "The shape of DataFrame 'don' is (122234, 15)\n"
     ]
    }
   ],
   "source": [
    "# Iterate through each DataFrame in the dictionary\n",
    "for df_name, df in unique_variants.items():\n",
    "    print(f\"The shape of DataFrame '{df_name}' is {df.shape}\")"
   ]
  },
  {
   "cell_type": "code",
   "execution_count": 24,
   "id": "b9173cb2-06e5-4a3b-8048-52ca97350862",
   "metadata": {},
   "outputs": [
    {
     "name": "stdout",
     "output_type": "stream",
     "text": [
      "'tata'\n",
      "Expression  Counts\n",
      "    Others 265879 \n",
      "HouseTrans  36418 \n",
      "  TspTrans  28998 \n",
      " TenhTrans  26731 \n",
      "     Total 358026 \n",
      "\n",
      "'ntata'\n",
      "Expression  Counts\n",
      "    Others 33626  \n",
      "  TspTrans  3429  \n",
      "HouseTrans  2840  \n",
      " TenhTrans  2569  \n",
      "     Total 42464  \n",
      "\n",
      "'acc'\n",
      "Expression  Counts\n",
      "    Others 153531 \n",
      "  TspTrans  20579 \n",
      " TenhTrans  20113 \n",
      "HouseTrans  19411 \n",
      "     Total 213634 \n",
      "\n",
      "'don'\n",
      "Expression  Counts\n",
      "    Others  87087 \n",
      " TenhTrans  12293 \n",
      "HouseTrans  11862 \n",
      "  TspTrans  10992 \n",
      "     Total 122234 \n",
      "\n"
     ]
    }
   ],
   "source": [
    "# unique variants\n",
    "for df_name, df in unique_variants.items():\n",
    "    unique_variants[df_name] = df.replace([\"WideTrans\", \"NullTrans\"], \"Others\").fillna(\"Others\")\n",
    "\n",
    "# total counts\n",
    "total_counts = pd.Series(dtype='int')\n",
    "for df_name, df in unique_variants.items():\n",
    "    expression_counts = df['expression'].value_counts()\n",
    "    expression_counts['Total'] = expression_counts.sum()\n",
    "    output = expression_counts.to_frame(name='Counts').reset_index()\n",
    "    output.columns = ['Expression', 'Counts']\n",
    "    output_str = output.to_string(index=False, justify='left')\n",
    "    print(f\"'{df_name}'\\n{output_str}\\n\")"
   ]
  },
  {
   "cell_type": "code",
   "execution_count": 132,
   "id": "6fea232a-7cf7-48b5-aac0-7fe82cbe488e",
   "metadata": {},
   "outputs": [
    {
     "name": "stdout",
     "output_type": "stream",
     "text": [
      "Saved DataFrame 'tata' to /home/campus.stonybrook.edu/psurana/projects/PSB_2024/v3/Output_data/tata.csv\n",
      "Saved DataFrame 'ntata' to /home/campus.stonybrook.edu/psurana/projects/PSB_2024/v3/Output_data/ntata.csv\n",
      "Saved DataFrame 'acc' to /home/campus.stonybrook.edu/psurana/projects/PSB_2024/v3/Output_data/acc.csv\n",
      "Saved DataFrame 'don' to /home/campus.stonybrook.edu/psurana/projects/PSB_2024/v3/Output_data/don.csv\n"
     ]
    }
   ],
   "source": [
    "path1 = \"/home/campus.stonybrook.edu/psurana/projects/PSB_2024/v3/Output_data/\"\n",
    "\n",
    "# save\n",
    "for df_name, df in unique_variants.items():\n",
    "    filename = path1 + f\"{df_name}.csv\"\n",
    "    df.to_csv(filename, index=False)\n",
    "    print(f\"Saved DataFrame '{df_name}' to {filename}\")"
   ]
  },
  {
   "cell_type": "code",
   "execution_count": null,
   "id": "298d60ae-bdac-4fa4-95a2-f7e3e804a2b4",
   "metadata": {},
   "outputs": [],
   "source": []
  },
  {
   "cell_type": "code",
   "execution_count": null,
   "id": "87691fe6-1345-492e-9c7a-bc6dea495c66",
   "metadata": {},
   "outputs": [],
   "source": []
  },
  {
   "cell_type": "code",
   "execution_count": 25,
   "id": "e6c9bf99-5f95-414d-949e-3851fed1e195",
   "metadata": {},
   "outputs": [
    {
     "name": "stdout",
     "output_type": "stream",
     "text": [
      "'tata'\n",
      "Expression  Counts\n",
      "    Others 72876  \n",
      "HouseTrans  8574  \n",
      "  TspTrans  8212  \n",
      " TenhTrans  7257  \n",
      "     Total 96919  \n",
      "\n",
      "'ntata'\n",
      "Expression  Counts\n",
      "    Others 22475  \n",
      "  TspTrans  2344  \n",
      "HouseTrans  2040  \n",
      " TenhTrans  1773  \n",
      "     Total 28632  \n",
      "\n",
      "'acc'\n",
      "Expression  Counts\n",
      "    Others 44109  \n",
      "  TspTrans  5853  \n",
      " TenhTrans  5693  \n",
      "HouseTrans  5357  \n",
      "     Total 61012  \n",
      "\n",
      "'don'\n",
      "Expression  Counts\n",
      "    Others 51761  \n",
      " TenhTrans  7142  \n",
      "HouseTrans  6912  \n",
      "  TspTrans  6502  \n",
      "     Total 72317  \n",
      "\n"
     ]
    }
   ],
   "source": [
    "# take unique of func site\n",
    "# unique func site\n",
    "unique_columns = ['chr', 'strand', 'Func_coordinates']\n",
    "\n",
    "unique_variants_func = {}\n",
    "for df_name, df in unique_variants.items():\n",
    "    unique_df = df.drop_duplicates(subset=unique_columns)\n",
    "    unique_variants_func[df_name] = unique_df\n",
    "\n",
    "for df_name, df in unique_variants_func.items():\n",
    "    unique_variants_func[df_name] = df.replace([\"WideTrans\", \"NullTrans\"], \"Others\").fillna(\"Others\")\n",
    "\n",
    "# total counts\n",
    "total_counts = pd.Series(dtype='int')\n",
    "for df_name, df in unique_variants_func.items():\n",
    "    expression_counts = df['expression'].value_counts()\n",
    "    expression_counts['Total'] = expression_counts.sum()\n",
    "    output = expression_counts.to_frame(name='Counts').reset_index()\n",
    "    output.columns = ['Expression', 'Counts']\n",
    "    output_str = output.to_string(index=False, justify='left')\n",
    "    print(f\"'{df_name}'\\n{output_str}\\n\")"
   ]
  },
  {
   "cell_type": "code",
   "execution_count": null,
   "id": "500b011f-35c2-4d91-9053-0210bf27d366",
   "metadata": {},
   "outputs": [],
   "source": []
  },
  {
   "cell_type": "code",
   "execution_count": 5,
   "id": "9deffdb2-ecd7-4d49-89aa-582c662d0dc4",
   "metadata": {},
   "outputs": [
    {
     "data": {
      "text/plain": [
       "['/home/campus.stonybrook.edu/psurana/projects/PSB_2024/v3/Output_data/acc.csv',\n",
       " '/home/campus.stonybrook.edu/psurana/projects/PSB_2024/v3/Output_data/ntata.csv',\n",
       " '/home/campus.stonybrook.edu/psurana/projects/PSB_2024/v3/Output_data/tata.csv',\n",
       " '/home/campus.stonybrook.edu/psurana/projects/PSB_2024/v3/Output_data/don.csv']"
      ]
     },
     "execution_count": 5,
     "metadata": {},
     "output_type": "execute_result"
    }
   ],
   "source": [
    "# merge clinvar ahead\n",
    "path1 = \"/home/campus.stonybrook.edu/psurana/projects/PSB_2024/v3/Output_data/dbsnp/\"\n",
    "\n",
    "# Find files matching the pattern\n",
    "pattern = \".csv\"\n",
    "matching_files = glob.glob(os.path.join(path1, \"**\", f\"*{pattern}\"), recursive=True)\n",
    "matching_files"
   ]
  },
  {
   "cell_type": "code",
   "execution_count": 8,
   "id": "d46871b4-c723-44ff-83b7-d8db4d90ba21",
   "metadata": {},
   "outputs": [],
   "source": [
    "acc = pd.read_csv(matching_files[0])\n",
    "ntata  = pd.read_csv(matching_files[1])\n",
    "tata = pd.read_csv(matching_files[2])\n",
    "don = pd.read_csv(matching_files[3])"
   ]
  },
  {
   "cell_type": "code",
   "execution_count": 9,
   "id": "25952be6-7cd2-4c82-aa15-0aae5f9ba047",
   "metadata": {},
   "outputs": [
    {
     "name": "stdout",
     "output_type": "stream",
     "text": [
      "(358026, 15) (42464, 15) (213634, 15) (122234, 15)\n"
     ]
    }
   ],
   "source": [
    "print(tata.shape, ntata.shape, acc.shape, don.shape)"
   ]
  },
  {
   "cell_type": "code",
   "execution_count": 14,
   "id": "b253d1b6-7aee-49d7-827f-891e0945992e",
   "metadata": {},
   "outputs": [
    {
     "data": {
      "text/html": [
       "<div>\n",
       "<style scoped>\n",
       "    .dataframe tbody tr th:only-of-type {\n",
       "        vertical-align: middle;\n",
       "    }\n",
       "\n",
       "    .dataframe tbody tr th {\n",
       "        vertical-align: top;\n",
       "    }\n",
       "\n",
       "    .dataframe thead th {\n",
       "        text-align: right;\n",
       "    }\n",
       "</style>\n",
       "<table border=\"1\" class=\"dataframe\">\n",
       "  <thead>\n",
       "    <tr style=\"text-align: right;\">\n",
       "      <th></th>\n",
       "      <th>chr</th>\n",
       "      <th>variant_start</th>\n",
       "      <th>variant_end</th>\n",
       "      <th>dbsnp_id</th>\n",
       "    </tr>\n",
       "  </thead>\n",
       "  <tbody>\n",
       "    <tr>\n",
       "      <th>0</th>\n",
       "      <td>chr1</td>\n",
       "      <td>925951</td>\n",
       "      <td>925952</td>\n",
       "      <td>rs1640863258</td>\n",
       "    </tr>\n",
       "    <tr>\n",
       "      <th>1</th>\n",
       "      <td>chr1</td>\n",
       "      <td>930187</td>\n",
       "      <td>930188</td>\n",
       "      <td>rs770001898</td>\n",
       "    </tr>\n",
       "    <tr>\n",
       "      <th>2</th>\n",
       "      <td>chr1</td>\n",
       "      <td>930199</td>\n",
       "      <td>930200</td>\n",
       "      <td>rs368250686</td>\n",
       "    </tr>\n",
       "    <tr>\n",
       "      <th>3</th>\n",
       "      <td>chr1</td>\n",
       "      <td>930202</td>\n",
       "      <td>930203</td>\n",
       "      <td>rs767794127</td>\n",
       "    </tr>\n",
       "    <tr>\n",
       "      <th>4</th>\n",
       "      <td>chr1</td>\n",
       "      <td>930247</td>\n",
       "      <td>930248</td>\n",
       "      <td>rs41285790</td>\n",
       "    </tr>\n",
       "  </tbody>\n",
       "</table>\n",
       "</div>"
      ],
      "text/plain": [
       "    chr  variant_start  variant_end      dbsnp_id\n",
       "0  chr1         925951       925952  rs1640863258\n",
       "1  chr1         930187       930188   rs770001898\n",
       "2  chr1         930199       930200   rs368250686\n",
       "3  chr1         930202       930203   rs767794127\n",
       "4  chr1         930247       930248    rs41285790"
      ]
     },
     "execution_count": 14,
     "metadata": {},
     "output_type": "execute_result"
    }
   ],
   "source": [
    "clinvar = pd.read_csv('/home/campus.stonybrook.edu/psurana/projects/PSB_2024/v3/clinvar_snv_sorted.bed', header=None, sep=\"\\t\")\n",
    "clinvar.columns = [\"chr\", \"variant_start\", \"variant_end\", \"dbsnp_id\"]\n",
    "clinvar.head()"
   ]
  },
  {
   "cell_type": "code",
   "execution_count": 15,
   "id": "e32d826a-c7c8-440b-9b38-09f14d12d71b",
   "metadata": {},
   "outputs": [],
   "source": [
    "data_frames_clin = {\n",
    "    'tata': tata,\n",
    "    'ntata': ntata,\n",
    "    'acc': acc,\n",
    "    'don': don\n",
    "}"
   ]
  },
  {
   "cell_type": "code",
   "execution_count": 17,
   "id": "25dbece8-dd6e-4cae-8a0a-58250a2d147e",
   "metadata": {},
   "outputs": [
    {
     "data": {
      "text/html": [
       "<div>\n",
       "<style scoped>\n",
       "    .dataframe tbody tr th:only-of-type {\n",
       "        vertical-align: middle;\n",
       "    }\n",
       "\n",
       "    .dataframe tbody tr th {\n",
       "        vertical-align: top;\n",
       "    }\n",
       "\n",
       "    .dataframe thead th {\n",
       "        text-align: right;\n",
       "    }\n",
       "</style>\n",
       "<table border=\"1\" class=\"dataframe\">\n",
       "  <thead>\n",
       "    <tr style=\"text-align: right;\">\n",
       "      <th></th>\n",
       "      <th>chr</th>\n",
       "      <th>strand</th>\n",
       "      <th>Func_coordinates</th>\n",
       "      <th>Ensemble_Transcript_ID</th>\n",
       "      <th>Transcript_coordinates</th>\n",
       "      <th>dbsnp_id</th>\n",
       "      <th>varinat_start</th>\n",
       "      <th>variant_end</th>\n",
       "      <th>Ref_probab</th>\n",
       "      <th>Alt_probab</th>\n",
       "      <th>ScoreChange</th>\n",
       "      <th>LogOddRatio</th>\n",
       "      <th>transcript</th>\n",
       "      <th>tissue</th>\n",
       "      <th>expression</th>\n",
       "    </tr>\n",
       "  </thead>\n",
       "  <tbody>\n",
       "    <tr>\n",
       "      <th>0</th>\n",
       "      <td>chr1</td>\n",
       "      <td>-</td>\n",
       "      <td>171652644-171652733</td>\n",
       "      <td>ENST00000037502</td>\n",
       "      <td>171635417-171652688</td>\n",
       "      <td>rs931124801</td>\n",
       "      <td>171652687</td>\n",
       "      <td>171652688</td>\n",
       "      <td>0.999701</td>\n",
       "      <td>0.013452</td>\n",
       "      <td>-0.985954</td>\n",
       "      <td>17.903774</td>\n",
       "      <td>Others</td>\n",
       "      <td>Others</td>\n",
       "      <td>Others</td>\n",
       "    </tr>\n",
       "    <tr>\n",
       "      <th>1</th>\n",
       "      <td>chr1</td>\n",
       "      <td>-</td>\n",
       "      <td>53945655-53945744</td>\n",
       "      <td>ENST00000194214</td>\n",
       "      <td>53921561-53945699</td>\n",
       "      <td>rs1462348969</td>\n",
       "      <td>53945670</td>\n",
       "      <td>53945671</td>\n",
       "      <td>0.758328</td>\n",
       "      <td>0.004605</td>\n",
       "      <td>-0.571570</td>\n",
       "      <td>9.405620</td>\n",
       "      <td>ENST00000194214</td>\n",
       "      <td>all</td>\n",
       "      <td>HouseTrans</td>\n",
       "    </tr>\n",
       "    <tr>\n",
       "      <th>2</th>\n",
       "      <td>chr1</td>\n",
       "      <td>-</td>\n",
       "      <td>53945655-53945744</td>\n",
       "      <td>ENST00000194214</td>\n",
       "      <td>53921561-53945699</td>\n",
       "      <td>rs925379522</td>\n",
       "      <td>53945671</td>\n",
       "      <td>53945672</td>\n",
       "      <td>0.758328</td>\n",
       "      <td>0.091363</td>\n",
       "      <td>-0.505779</td>\n",
       "      <td>4.963791</td>\n",
       "      <td>ENST00000194214</td>\n",
       "      <td>all</td>\n",
       "      <td>HouseTrans</td>\n",
       "    </tr>\n",
       "  </tbody>\n",
       "</table>\n",
       "</div>"
      ],
      "text/plain": [
       "    chr strand     Func_coordinates Ensemble_Transcript_ID  \\\n",
       "0  chr1      -  171652644-171652733        ENST00000037502   \n",
       "1  chr1      -    53945655-53945744        ENST00000194214   \n",
       "2  chr1      -    53945655-53945744        ENST00000194214   \n",
       "\n",
       "  Transcript_coordinates      dbsnp_id  varinat_start  variant_end  \\\n",
       "0    171635417-171652688   rs931124801      171652687    171652688   \n",
       "1      53921561-53945699  rs1462348969       53945670     53945671   \n",
       "2      53921561-53945699   rs925379522       53945671     53945672   \n",
       "\n",
       "   Ref_probab  Alt_probab  ScoreChange  LogOddRatio       transcript  tissue  \\\n",
       "0    0.999701    0.013452    -0.985954    17.903774           Others  Others   \n",
       "1    0.758328    0.004605    -0.571570     9.405620  ENST00000194214     all   \n",
       "2    0.758328    0.091363    -0.505779     4.963791  ENST00000194214     all   \n",
       "\n",
       "   expression  \n",
       "0      Others  \n",
       "1  HouseTrans  \n",
       "2  HouseTrans  "
      ]
     },
     "execution_count": 17,
     "metadata": {},
     "output_type": "execute_result"
    }
   ],
   "source": [
    "data_frames_clin['tata'].head(3)"
   ]
  },
  {
   "cell_type": "code",
   "execution_count": 18,
   "id": "7706aa37-ba00-4004-b0d2-eae238925c42",
   "metadata": {},
   "outputs": [],
   "source": [
    "merged_clin = {\n",
    "    key: df.merge(clinvar, left_on=['varinat_start', 'variant_end', 'chr'], right_on=['variant_start', 'variant_end', 'chr'], how='inner')\n",
    "    for key, df in data_frames_clin.items()\n",
    "}"
   ]
  },
  {
   "cell_type": "code",
   "execution_count": 19,
   "id": "37c8a2a7-0691-4960-aa7f-b18e4dc5a5dc",
   "metadata": {},
   "outputs": [
    {
     "name": "stdout",
     "output_type": "stream",
     "text": [
      "The shape of DataFrame 'tata' is (4080, 17)\n",
      "The shape of DataFrame 'ntata' is (576, 17)\n",
      "The shape of DataFrame 'acc' is (4927, 17)\n",
      "The shape of DataFrame 'don' is (3238, 17)\n"
     ]
    }
   ],
   "source": [
    "# Iterate through each DataFrame in the dictionary\n",
    "for df_name, df in merged_clin.items():\n",
    "    print(f\"The shape of DataFrame '{df_name}' is {df.shape}\")"
   ]
  },
  {
   "cell_type": "code",
   "execution_count": 22,
   "id": "11a28c7a-7978-4bee-b0cf-17a0919c7cf6",
   "metadata": {},
   "outputs": [
    {
     "name": "stdout",
     "output_type": "stream",
     "text": [
      "'tata'\n",
      "Expression  Counts\n",
      "    Others 3021   \n",
      "HouseTrans  512   \n",
      " TenhTrans  306   \n",
      "  TspTrans  241   \n",
      "     Total 4080   \n",
      "\n",
      "'ntata'\n",
      "Expression  Counts\n",
      "    Others 450    \n",
      "HouseTrans  47    \n",
      "  TspTrans  45    \n",
      " TenhTrans  34    \n",
      "     Total 576    \n",
      "\n",
      "'acc'\n",
      "Expression  Counts\n",
      "    Others 3509   \n",
      " TenhTrans  566   \n",
      "HouseTrans  497   \n",
      "  TspTrans  355   \n",
      "     Total 4927   \n",
      "\n",
      "'don'\n",
      "Expression  Counts\n",
      "    Others 2300   \n",
      " TenhTrans  326   \n",
      "HouseTrans  324   \n",
      "  TspTrans  288   \n",
      "     Total 3238   \n",
      "\n"
     ]
    }
   ],
   "source": [
    "# # unique variants\n",
    "# for df_name, df in merged_clin.items():\n",
    "#     unique_variants[df_name] = df.replace([\"WideTrans\", \"NullTrans\"], \"Others\").fillna(\"Others\")\n",
    "\n",
    "# total counts\n",
    "total_counts = pd.Series(dtype='int')\n",
    "for df_name, df in merged_clin.items():\n",
    "    expression_counts = df['expression'].value_counts()\n",
    "    expression_counts['Total'] = expression_counts.sum()\n",
    "    output = expression_counts.to_frame(name='Counts').reset_index()\n",
    "    output.columns = ['Expression', 'Counts']\n",
    "    output_str = output.to_string(index=False, justify='left')\n",
    "    print(f\"'{df_name}'\\n{output_str}\\n\")"
   ]
  },
  {
   "cell_type": "code",
   "execution_count": 23,
   "id": "8b3382a1-0820-4244-bee0-5d31eda6f927",
   "metadata": {},
   "outputs": [
    {
     "name": "stdout",
     "output_type": "stream",
     "text": [
      "Saved DataFrame 'tata' to /home/campus.stonybrook.edu/psurana/projects/PSB_2024/v3/Output_data/clinvar/tata.csv\n",
      "Saved DataFrame 'ntata' to /home/campus.stonybrook.edu/psurana/projects/PSB_2024/v3/Output_data/clinvar/ntata.csv\n",
      "Saved DataFrame 'acc' to /home/campus.stonybrook.edu/psurana/projects/PSB_2024/v3/Output_data/clinvar/acc.csv\n",
      "Saved DataFrame 'don' to /home/campus.stonybrook.edu/psurana/projects/PSB_2024/v3/Output_data/clinvar/don.csv\n"
     ]
    }
   ],
   "source": [
    "path1 = \"/home/campus.stonybrook.edu/psurana/projects/PSB_2024/v3/Output_data/clinvar/\"\n",
    "\n",
    "# save\n",
    "for df_name, df in merged_clin.items():\n",
    "    filename = path1 + f\"{df_name}.csv\"\n",
    "    df.to_csv(filename, index=False)\n",
    "    print(f\"Saved DataFrame '{df_name}' to {filename}\")"
   ]
  },
  {
   "cell_type": "code",
   "execution_count": 24,
   "id": "cf2462a5-6dbe-490c-8c12-ef6ced7420e1",
   "metadata": {},
   "outputs": [
    {
     "data": {
      "text/html": [
       "<div>\n",
       "<style scoped>\n",
       "    .dataframe tbody tr th:only-of-type {\n",
       "        vertical-align: middle;\n",
       "    }\n",
       "\n",
       "    .dataframe tbody tr th {\n",
       "        vertical-align: top;\n",
       "    }\n",
       "\n",
       "    .dataframe thead th {\n",
       "        text-align: right;\n",
       "    }\n",
       "</style>\n",
       "<table border=\"1\" class=\"dataframe\">\n",
       "  <thead>\n",
       "    <tr style=\"text-align: right;\">\n",
       "      <th></th>\n",
       "      <th>chr</th>\n",
       "      <th>strand</th>\n",
       "      <th>Func_coordinates</th>\n",
       "      <th>Transcript_coordinates</th>\n",
       "      <th>dbsnp_id_x</th>\n",
       "      <th>varinat_start</th>\n",
       "      <th>variant_end</th>\n",
       "      <th>Ensemble_Transcript_ID</th>\n",
       "      <th>Ref_probab</th>\n",
       "      <th>Alt_probab</th>\n",
       "      <th>ScoreChange</th>\n",
       "      <th>LogOddRatio</th>\n",
       "      <th>transcript</th>\n",
       "      <th>tissue</th>\n",
       "      <th>expression</th>\n",
       "      <th>variant_start</th>\n",
       "      <th>dbsnp_id_y</th>\n",
       "    </tr>\n",
       "  </thead>\n",
       "  <tbody>\n",
       "    <tr>\n",
       "      <th>0</th>\n",
       "      <td>chr1</td>\n",
       "      <td>+</td>\n",
       "      <td>11960729-11960808</td>\n",
       "      <td>11934717-11975537</td>\n",
       "      <td>rs775007891</td>\n",
       "      <td>11960732</td>\n",
       "      <td>11960733</td>\n",
       "      <td>ENST00000196061</td>\n",
       "      <td>0.853494</td>\n",
       "      <td>0.318220</td>\n",
       "      <td>-0.456853</td>\n",
       "      <td>3.641704</td>\n",
       "      <td>ENST00000196061</td>\n",
       "      <td>all</td>\n",
       "      <td>HouseTrans</td>\n",
       "      <td>11960732</td>\n",
       "      <td>rs775007891</td>\n",
       "    </tr>\n",
       "    <tr>\n",
       "      <th>1</th>\n",
       "      <td>chr1</td>\n",
       "      <td>-</td>\n",
       "      <td>91698049-91698128</td>\n",
       "      <td>91695490-91712363</td>\n",
       "      <td>rs2228363</td>\n",
       "      <td>91698088</td>\n",
       "      <td>91698089</td>\n",
       "      <td>ENST00000470600</td>\n",
       "      <td>0.923592</td>\n",
       "      <td>0.456204</td>\n",
       "      <td>-0.431676</td>\n",
       "      <td>3.848853</td>\n",
       "      <td>Others</td>\n",
       "      <td>Others</td>\n",
       "      <td>Others</td>\n",
       "      <td>91698088</td>\n",
       "      <td>rs2228363</td>\n",
       "    </tr>\n",
       "  </tbody>\n",
       "</table>\n",
       "</div>"
      ],
      "text/plain": [
       "    chr strand   Func_coordinates Transcript_coordinates   dbsnp_id_x  \\\n",
       "0  chr1      +  11960729-11960808      11934717-11975537  rs775007891   \n",
       "1  chr1      -  91698049-91698128      91695490-91712363    rs2228363   \n",
       "\n",
       "   varinat_start  variant_end Ensemble_Transcript_ID  Ref_probab  Alt_probab  \\\n",
       "0       11960732     11960733        ENST00000196061    0.853494    0.318220   \n",
       "1       91698088     91698089        ENST00000470600    0.923592    0.456204   \n",
       "\n",
       "   ScoreChange  LogOddRatio       transcript  tissue  expression  \\\n",
       "0    -0.456853     3.641704  ENST00000196061     all  HouseTrans   \n",
       "1    -0.431676     3.848853           Others  Others      Others   \n",
       "\n",
       "   variant_start   dbsnp_id_y  \n",
       "0       11960732  rs775007891  \n",
       "1       91698088    rs2228363  "
      ]
     },
     "execution_count": 24,
     "metadata": {},
     "output_type": "execute_result"
    }
   ],
   "source": [
    "merged_clin['don'].head(2)"
   ]
  },
  {
   "cell_type": "code",
   "execution_count": 27,
   "id": "1e082234-2b9c-4fae-9639-c7cd979eb685",
   "metadata": {},
   "outputs": [
    {
     "data": {
      "text/plain": [
       "(3238, 17)"
      ]
     },
     "execution_count": 27,
     "metadata": {},
     "output_type": "execute_result"
    }
   ],
   "source": [
    "merged_clin['don'].shape"
   ]
  },
  {
   "cell_type": "code",
   "execution_count": 31,
   "id": "7a477ed6-dbc8-4566-ad52-842f6ef16763",
   "metadata": {},
   "outputs": [
    {
     "data": {
      "text/html": [
       "<div>\n",
       "<style scoped>\n",
       "    .dataframe tbody tr th:only-of-type {\n",
       "        vertical-align: middle;\n",
       "    }\n",
       "\n",
       "    .dataframe tbody tr th {\n",
       "        vertical-align: top;\n",
       "    }\n",
       "\n",
       "    .dataframe thead th {\n",
       "        text-align: right;\n",
       "    }\n",
       "</style>\n",
       "<table border=\"1\" class=\"dataframe\">\n",
       "  <thead>\n",
       "    <tr style=\"text-align: right;\">\n",
       "      <th></th>\n",
       "      <th>chr</th>\n",
       "      <th>strand</th>\n",
       "      <th>Func_coordinates</th>\n",
       "      <th>Transcript_coordinates</th>\n",
       "      <th>dbsnp_id_x</th>\n",
       "      <th>varinat_start</th>\n",
       "      <th>variant_end</th>\n",
       "      <th>Ensemble_Transcript_ID</th>\n",
       "      <th>Ref_probab</th>\n",
       "      <th>Alt_probab</th>\n",
       "      <th>ScoreChange</th>\n",
       "      <th>LogOddRatio</th>\n",
       "      <th>transcript</th>\n",
       "      <th>tissue</th>\n",
       "      <th>expression</th>\n",
       "      <th>variant_start</th>\n",
       "      <th>dbsnp_id_y</th>\n",
       "    </tr>\n",
       "  </thead>\n",
       "  <tbody>\n",
       "    <tr>\n",
       "      <th>9</th>\n",
       "      <td>chr1</td>\n",
       "      <td>-</td>\n",
       "      <td>29200476-29200555</td>\n",
       "      <td>29200324-29203170</td>\n",
       "      <td>rs1239954306</td>\n",
       "      <td>29200514</td>\n",
       "      <td>29200515</td>\n",
       "      <td>ENST00000464511</td>\n",
       "      <td>0.868477</td>\n",
       "      <td>0.355287</td>\n",
       "      <td>-0.445693</td>\n",
       "      <td>3.582839</td>\n",
       "      <td>Others</td>\n",
       "      <td>Others</td>\n",
       "      <td>Others</td>\n",
       "      <td>29200514</td>\n",
       "      <td>rs778879465</td>\n",
       "    </tr>\n",
       "    <tr>\n",
       "      <th>15</th>\n",
       "      <td>chr1</td>\n",
       "      <td>+</td>\n",
       "      <td>99870831-99870910</td>\n",
       "      <td>99850489-99924020</td>\n",
       "      <td>rs1571243862</td>\n",
       "      <td>99870831</td>\n",
       "      <td>99870832</td>\n",
       "      <td>ENST00000294724</td>\n",
       "      <td>0.733034</td>\n",
       "      <td>0.137456</td>\n",
       "      <td>-0.436579</td>\n",
       "      <td>4.106853</td>\n",
       "      <td>ENST00000294724</td>\n",
       "      <td>Muscle</td>\n",
       "      <td>TspTrans</td>\n",
       "      <td>99870831</td>\n",
       "      <td>rs1294297593</td>\n",
       "    </tr>\n",
       "    <tr>\n",
       "      <th>27</th>\n",
       "      <td>chr1</td>\n",
       "      <td>+</td>\n",
       "      <td>205059644-205059723</td>\n",
       "      <td>205058347-205060520</td>\n",
       "      <td>rs1360269746</td>\n",
       "      <td>205059649</td>\n",
       "      <td>205059650</td>\n",
       "      <td>ENST00000639015</td>\n",
       "      <td>0.894348</td>\n",
       "      <td>0.036751</td>\n",
       "      <td>-0.766990</td>\n",
       "      <td>7.793553</td>\n",
       "      <td>Others</td>\n",
       "      <td>Others</td>\n",
       "      <td>Others</td>\n",
       "      <td>205059649</td>\n",
       "      <td>rs1318994065</td>\n",
       "    </tr>\n",
       "    <tr>\n",
       "      <th>40</th>\n",
       "      <td>chr1</td>\n",
       "      <td>-</td>\n",
       "      <td>220182678-220182757</td>\n",
       "      <td>220181551-220195547</td>\n",
       "      <td>rs750379226</td>\n",
       "      <td>220182722</td>\n",
       "      <td>220182723</td>\n",
       "      <td>ENST00000693454</td>\n",
       "      <td>0.936607</td>\n",
       "      <td>0.247937</td>\n",
       "      <td>-0.645012</td>\n",
       "      <td>5.485919</td>\n",
       "      <td>Others</td>\n",
       "      <td>Others</td>\n",
       "      <td>Others</td>\n",
       "      <td>220182722</td>\n",
       "      <td>rs1553275687</td>\n",
       "    </tr>\n",
       "    <tr>\n",
       "      <th>44</th>\n",
       "      <td>chr1</td>\n",
       "      <td>+</td>\n",
       "      <td>156115236-156115315</td>\n",
       "      <td>156114251-156139293</td>\n",
       "      <td>rs794728603</td>\n",
       "      <td>156115246</td>\n",
       "      <td>156115247</td>\n",
       "      <td>ENST00000361308</td>\n",
       "      <td>0.860855</td>\n",
       "      <td>0.351332</td>\n",
       "      <td>-0.438625</td>\n",
       "      <td>3.513825</td>\n",
       "      <td>Others</td>\n",
       "      <td>Others</td>\n",
       "      <td>Others</td>\n",
       "      <td>156115246</td>\n",
       "      <td>rs556237236</td>\n",
       "    </tr>\n",
       "  </tbody>\n",
       "</table>\n",
       "</div>"
      ],
      "text/plain": [
       "     chr strand     Func_coordinates Transcript_coordinates    dbsnp_id_x  \\\n",
       "9   chr1      -    29200476-29200555      29200324-29203170  rs1239954306   \n",
       "15  chr1      +    99870831-99870910      99850489-99924020  rs1571243862   \n",
       "27  chr1      +  205059644-205059723    205058347-205060520  rs1360269746   \n",
       "40  chr1      -  220182678-220182757    220181551-220195547   rs750379226   \n",
       "44  chr1      +  156115236-156115315    156114251-156139293   rs794728603   \n",
       "\n",
       "    varinat_start  variant_end Ensemble_Transcript_ID  Ref_probab  Alt_probab  \\\n",
       "9        29200514     29200515        ENST00000464511    0.868477    0.355287   \n",
       "15       99870831     99870832        ENST00000294724    0.733034    0.137456   \n",
       "27      205059649    205059650        ENST00000639015    0.894348    0.036751   \n",
       "40      220182722    220182723        ENST00000693454    0.936607    0.247937   \n",
       "44      156115246    156115247        ENST00000361308    0.860855    0.351332   \n",
       "\n",
       "    ScoreChange  LogOddRatio       transcript  tissue expression  \\\n",
       "9     -0.445693     3.582839           Others  Others     Others   \n",
       "15    -0.436579     4.106853  ENST00000294724  Muscle   TspTrans   \n",
       "27    -0.766990     7.793553           Others  Others     Others   \n",
       "40    -0.645012     5.485919           Others  Others     Others   \n",
       "44    -0.438625     3.513825           Others  Others     Others   \n",
       "\n",
       "    variant_start    dbsnp_id_y  \n",
       "9        29200514   rs778879465  \n",
       "15       99870831  rs1294297593  \n",
       "27      205059649  rs1318994065  \n",
       "40      220182722  rs1553275687  \n",
       "44      156115246   rs556237236  "
      ]
     },
     "execution_count": 31,
     "metadata": {},
     "output_type": "execute_result"
    }
   ],
   "source": [
    "subset_df = merged_clin['don'][merged_clin['don']['dbsnp_id_x'] != merged_clin['don']['dbsnp_id_y']]\n",
    "subset_df.head()"
   ]
  },
  {
   "cell_type": "code",
   "execution_count": 33,
   "id": "105a91a6-c5f1-4c31-8790-6bc34320ba7b",
   "metadata": {},
   "outputs": [
    {
     "name": "stdout",
     "output_type": "stream",
     "text": [
      "'tata'\n",
      "Expression  Counts\n",
      "    Others 1760   \n",
      "HouseTrans  281   \n",
      " TenhTrans  171   \n",
      "  TspTrans  163   \n",
      "     Total 2375   \n",
      "\n",
      "'ntata'\n",
      "Expression  Counts\n",
      "    Others 372    \n",
      "HouseTrans  39    \n",
      "  TspTrans  38    \n",
      " TenhTrans  31    \n",
      "     Total 480    \n",
      "\n",
      "'acc'\n",
      "Expression  Counts\n",
      "    Others 2128   \n",
      " TenhTrans  357   \n",
      "HouseTrans  283   \n",
      "  TspTrans  218   \n",
      "     Total 2986   \n",
      "\n",
      "'don'\n",
      "Expression  Counts\n",
      "    Others 1741   \n",
      " TenhTrans  257   \n",
      "HouseTrans  234   \n",
      "  TspTrans  180   \n",
      "     Total 2412   \n",
      "\n"
     ]
    }
   ],
   "source": [
    "# take unique of func site\n",
    "# unique func site\n",
    "unique_columns = ['chr', 'strand', 'Func_coordinates']\n",
    "\n",
    "unique_variants_func = {}\n",
    "for df_name, df in merged_clin.items():\n",
    "    unique_df = df.drop_duplicates(subset=unique_columns)\n",
    "    unique_variants_func[df_name] = unique_df\n",
    "\n",
    "# for df_name, df in unique_variants_func.items():\n",
    "#     unique_variants_func[df_name] = df.replace([\"WideTrans\", \"NullTrans\"], \"Others\").fillna(\"Others\")\n",
    "\n",
    "# total counts\n",
    "total_counts = pd.Series(dtype='int')\n",
    "for df_name, df in unique_variants_func.items():\n",
    "    expression_counts = df['expression'].value_counts()\n",
    "    expression_counts['Total'] = expression_counts.sum()\n",
    "    output = expression_counts.to_frame(name='Counts').reset_index()\n",
    "    output.columns = ['Expression', 'Counts']\n",
    "    output_str = output.to_string(index=False, justify='left')\n",
    "    print(f\"'{df_name}'\\n{output_str}\\n\")"
   ]
  },
  {
   "cell_type": "code",
   "execution_count": null,
   "id": "fe4edd75-9af4-4d07-9aa1-cf30fe9de53e",
   "metadata": {},
   "outputs": [],
   "source": []
  }
 ],
 "metadata": {
  "kernelspec": {
   "display_name": "Python 3 (ipykernel)",
   "language": "python",
   "name": "python3"
  },
  "language_info": {
   "codemirror_mode": {
    "name": "ipython",
    "version": 3
   },
   "file_extension": ".py",
   "mimetype": "text/x-python",
   "name": "python",
   "nbconvert_exporter": "python",
   "pygments_lexer": "ipython3",
   "version": "3.10.11"
  }
 },
 "nbformat": 4,
 "nbformat_minor": 5
}
